{
 "cells": [
  {
   "cell_type": "code",
   "execution_count": null,
   "id": "91d8db21-ccab-44df-8fb2-0893f6f162a7",
   "metadata": {},
   "outputs": [],
   "source": [
    "import Bio\n",
    "import numpy as np\n",
    "from collections import Counter\n",
    "import collections\n",
    "import copy\n",
    "from matplotlib import pyplot as plt"
   ]
  },
  {
   "cell_type": "code",
   "execution_count": null,
   "id": "fbe7653a-246d-4f82-a842-2c40d440e716",
   "metadata": {},
   "outputs": [],
   "source": [
    "from Bio import SeqIO\n",
    "from Bio import Data"
   ]
  },
  {
   "cell_type": "code",
   "execution_count": null,
   "id": "2267a4ad-b5d5-47b7-9bb2-d695519bcd07",
   "metadata": {},
   "outputs": [],
   "source": [
    "codon_table = Data.CodonTable.standard_dna_table.forward_table\n",
    "empty_codon_table = {key: 0 for key in codon_table.keys()}\n",
    "empty_codon_table = Counter(empty_codon_table)"
   ]
  },
  {
   "cell_type": "code",
   "execution_count": null,
   "id": "62b9bae6-2263-4f05-b6b9-3d0c2eb9a61b",
   "metadata": {},
   "outputs": [],
   "source": [
    "record = SeqIO.read(\"./U00096_3.gb\", \"genbank\")"
   ]
  },
  {
   "cell_type": "code",
   "execution_count": null,
   "id": "9c5b90c9-fa27-41ed-ac58-ab7d1a32ae39",
   "metadata": {},
   "outputs": [],
   "source": [
    "CDS_list = [feature for feature in record.features if feature.type == \"CDS\"]"
   ]
  },
  {
   "cell_type": "code",
   "execution_count": null,
   "id": "4c35ba23-51b7-47f2-adbf-e00ef4c33fbe",
   "metadata": {},
   "outputs": [],
   "source": [
    "def get_CDS_codon_table(record, CDS_feature, empty_codon_table):\n",
    "    CDS_codon_table = copy.deepcopy(empty_codon_table)\n",
    "    CDS_seq = str(CDS_feature.location.extract(record).seq)\n",
    "    codon_list = [CDS_seq[i : i + 3] for i in range(0, len(CDS_seq), 3)]\n",
    "    unique, counts = np.unique(codon_list, return_counts=True)\n",
    "    CDS_codon_dict = dict(zip(unique.tolist(), counts.tolist()))\n",
    "    CDS_codon_table.update(CDS_codon_dict)\n",
    "    return CDS_codon_table"
   ]
  },
  {
   "cell_type": "code",
   "execution_count": null,
   "id": "aa8255a3-7b88-47b5-aed2-89428a9ec499",
   "metadata": {},
   "outputs": [],
   "source": [
    "all_CDS_codon_tables = [\n",
    "    get_CDS_codon_table(record, CDS_feature, empty_codon_table)\n",
    "    for CDS_feature in CDS_list\n",
    "]"
   ]
  },
  {
   "cell_type": "code",
   "execution_count": null,
   "id": "b0ee81fb-a40a-4302-b4b6-5db278e6eeed",
   "metadata": {},
   "outputs": [],
   "source": [
    "genome_codon_table = sum(all_CDS_codon_tables, Counter())\n",
    "ttl_codons = sum([val for val in genome_codon_table.values()])\n",
    "genome_codon_table = {\n",
    "    key: val / ttl_codons for key, val in dict(genome_codon_table).items()\n",
    "}"
   ]
  },
  {
   "cell_type": "code",
   "execution_count": null,
   "id": "3a9317f5-1857-42c1-9976-e42a8e85634b",
   "metadata": {},
   "outputs": [],
   "source": [
    "bias_thr = 5.0\n",
    "glu_sum_thr = 25\n",
    "GAA_to_GAG_bias = np.array(\n",
    "    [item[\"GAA\"] / (item[\"GAG\"] + 1.0) for item in all_CDS_codon_tables]\n",
    ")\n",
    "glu_sum = np.array([item[\"GAA\"] + (item[\"GAG\"]) for item in all_CDS_codon_tables])\n",
    "GAA_biased_features = list(\n",
    "    np.array(CDS_list)[\n",
    "        np.where((GAA_to_GAG_bias > bias_thr) & (glu_sum > glu_sum_thr))[0]\n",
    "    ]\n",
    ")\n",
    "GAA_biased_gene_names = sorted(\n",
    "    [feature.qualifiers[\"gene\"][0] for feature in GAA_biased_features]\n",
    ")"
   ]
  },
  {
   "cell_type": "code",
   "execution_count": null,
   "id": "b07eeb0a-4819-4da4-9881-2840e422026f",
   "metadata": {},
   "outputs": [],
   "source": [
    "plt.hist(glu_sum, bins=20)"
   ]
  },
  {
   "cell_type": "code",
   "execution_count": null,
   "id": "5de9021e-6d68-4308-87d1-5fe7eeddc811",
   "metadata": {},
   "outputs": [],
   "source": [
    "plt.hist(GAA_to_GAG_bias, bins=20)"
   ]
  },
  {
   "cell_type": "code",
   "execution_count": null,
   "id": "9ebeed10-532a-4990-9ed0-2b938d2e4949",
   "metadata": {},
   "outputs": [],
   "source": [
    "GAA_biased_gene_names"
   ]
  },
  {
   "cell_type": "code",
   "execution_count": null,
   "id": "470c930b-310f-44cc-ac12-1557d7feac23",
   "metadata": {},
   "outputs": [],
   "source": [
    "bias_thr = 10.0\n",
    "\n",
    "GAG_to_GAA_bias = np.array(\n",
    "    [item[\"GAG\"] / (item[\"GAA\"] + 1) for item in all_CDS_codon_tables]\n",
    ")\n",
    "GAG_biased_features = list(np.array(CDS_list)[np.where(GAG_to_GAA_bias > bias_thr)[0]])\n",
    "GAG_biased_gene_names = sorted(\n",
    "    [feature.qualifiers[\"gene\"][0] for feature in GAG_biased_features]\n",
    ")"
   ]
  },
  {
   "cell_type": "code",
   "execution_count": null,
   "id": "72a92614-2dc7-49c6-b2d8-60a2798ef42b",
   "metadata": {},
   "outputs": [],
   "source": [
    "plt.hist(GAG_to_GAA_bias, bins=20, log=True)"
   ]
  },
  {
   "cell_type": "code",
   "execution_count": null,
   "id": "91762180-6473-4343-9011-c1c83843aa3f",
   "metadata": {
    "tags": []
   },
   "outputs": [],
   "source": [
    "sum(all_CDS_codon_tables[0].values())"
   ]
  },
  {
   "cell_type": "code",
   "execution_count": null,
   "id": "655b7456-910e-4f5e-8c9f-fe8376bcbfbf",
   "metadata": {},
   "outputs": [],
   "source": [
    "bias_thr = 0.1\n",
    "\n",
    "GAA_bias = np.array([item[\"GAA\"] / sum(item.values()) for item in all_CDS_codon_tables])\n",
    "GAA_biased_features = list(np.array(CDS_list)[np.where(GAA_bias > bias_thr)[0]])\n",
    "GAA_biased_gene_names = sorted(\n",
    "    [feature.qualifiers[\"gene\"][0] for feature in GAA_biased_features]\n",
    ")"
   ]
  },
  {
   "cell_type": "code",
   "execution_count": null,
   "id": "c0b2b5b3-5e4d-4ab1-a6a4-ae52a2a4de93",
   "metadata": {},
   "outputs": [],
   "source": [
    "plt.hist(GAA_bias, bins=20)"
   ]
  },
  {
   "cell_type": "code",
   "execution_count": null,
   "id": "d2b74ee2-c885-4c18-9dcd-10e9b5e2b493",
   "metadata": {},
   "outputs": [],
   "source": [
    "GAA_biased_gene_names"
   ]
  },
  {
   "cell_type": "code",
   "execution_count": null,
   "id": "cdb5bac6-1f92-4370-9a4e-fb3246ddb190",
   "metadata": {
    "tags": []
   },
   "outputs": [],
   "source": [
    "bias_thr = 0.07\n",
    "\n",
    "GAG_bias = np.array([item[\"GAG\"] / sum(item.values()) for item in all_CDS_codon_tables])\n",
    "GAG_biased_features = list(np.array(CDS_list)[np.where(GAG_bias > bias_thr)[0]])\n",
    "GAG_biased_gene_names = sorted(\n",
    "    [feature.qualifiers[\"gene\"][0] for feature in GAG_biased_features]\n",
    ")"
   ]
  },
  {
   "cell_type": "code",
   "execution_count": null,
   "id": "eefba812-7759-4be5-b18d-f99a6889b0c1",
   "metadata": {},
   "outputs": [],
   "source": [
    "plt.hist(GAG_bias, bins=20)"
   ]
  },
  {
   "cell_type": "code",
   "execution_count": null,
   "id": "c14d32ff-1c83-45dd-ba4e-ef70838a7ef2",
   "metadata": {},
   "outputs": [],
   "source": [
    "GAG_biased_gene_names"
   ]
  },
  {
   "cell_type": "code",
   "execution_count": null,
   "id": "e94af544-ea93-4af7-bc38-d276dc307596",
   "metadata": {},
   "outputs": [],
   "source": [
    "mreb_loc = np.where(\n",
    "    [True if item.qualifiers[\"gene\"][0] == \"mreB\" else False for item in CDS_list]\n",
    ")[0][0]\n",
    "all_CDS_codon_tables[mreb_loc]"
   ]
  },
  {
   "cell_type": "code",
   "execution_count": null,
   "id": "a02396c7-50b6-4086-97b0-f1c5cb65aec4",
   "metadata": {},
   "outputs": [],
   "source": [
    "mreb_loc = np.where(\n",
    "    [True if item.qualifiers[\"gene\"][0] == \"glmM\" else False for item in CDS_list]\n",
    ")[0][0]\n",
    "all_CDS_codon_tables[mreb_loc]"
   ]
  },
  {
   "cell_type": "code",
   "execution_count": null,
   "id": "fc258be6-7467-42d7-bec3-1bbb2d8cb3e0",
   "metadata": {},
   "outputs": [],
   "source": []
  },
  {
   "cell_type": "code",
   "execution_count": null,
   "id": "26ed4a0d-ba8b-443b-8edd-68ee7de850f2",
   "metadata": {},
   "outputs": [],
   "source": []
  }
 ],
 "metadata": {
  "kernelspec": {
   "display_name": "Python 3",
   "language": "python",
   "name": "python3"
  },
  "language_info": {
   "codemirror_mode": {
    "name": "ipython",
    "version": 3
   },
   "file_extension": ".py",
   "mimetype": "text/x-python",
   "name": "python",
   "nbconvert_exporter": "python",
   "pygments_lexer": "ipython3",
   "version": "3.8.5"
  }
 },
 "nbformat": 4,
 "nbformat_minor": 5
}
