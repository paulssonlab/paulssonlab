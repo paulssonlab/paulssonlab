{
 "cells": [
  {
   "cell_type": "markdown",
   "id": "d9ce607b-e2a6-468d-a7bc-bff3bea0d61a",
   "metadata": {},
   "source": [
    "## Comparing to Bulk\n",
    "\n",
    "In this notebook, do a systematic essentiality comparison to the results in bulk."
   ]
  },
  {
   "cell_type": "code",
   "execution_count": null,
   "id": "a06123c0-f6b1-4fb4-8776-c1920d7511f3",
   "metadata": {},
   "outputs": [],
   "source": []
  }
 ],
 "metadata": {
  "kernelspec": {
   "display_name": "Python 3 (ipykernel)",
   "language": "python",
   "name": "python3"
  },
  "language_info": {
   "codemirror_mode": {
    "name": "ipython",
    "version": 3
   },
   "file_extension": ".py",
   "mimetype": "text/x-python",
   "name": "python",
   "nbconvert_exporter": "python",
   "pygments_lexer": "ipython3",
   "version": "3.8.5"
  }
 },
 "nbformat": 4,
 "nbformat_minor": 5
}
