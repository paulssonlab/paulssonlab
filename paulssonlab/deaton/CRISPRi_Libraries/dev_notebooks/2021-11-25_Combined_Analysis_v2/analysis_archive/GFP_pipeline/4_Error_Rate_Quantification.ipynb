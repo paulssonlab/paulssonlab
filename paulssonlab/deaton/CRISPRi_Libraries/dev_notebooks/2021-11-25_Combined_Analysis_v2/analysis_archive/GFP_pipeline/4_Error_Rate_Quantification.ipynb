{
 "cells": [
  {
   "cell_type": "code",
   "execution_count": null,
   "id": "df63e494-d2c6-4ad8-9fab-45be9c6b6d01",
   "metadata": {},
   "outputs": [],
   "source": [
    "import paulssonlab.deaton.trenchripper.trenchripper as tr\n",
    "\n",
    "import numpy as np\n",
    "import pandas as pd\n",
    "import seaborn as sns\n",
    "import scipy as sp\n",
    "import sklearn as skl\n",
    "import dask.dataframe as dd\n",
    "import dask.array as da\n",
    "\n",
    "from matplotlib.ticker import FuncFormatter\n",
    "\n",
    "import scipy.stats\n",
    "from sklearn.linear_model import LinearRegression\n",
    "\n",
    "from matplotlib import pyplot as plt\n",
    "import holoviews as hv\n",
    "\n",
    "hv.extension(\"bokeh\")"
   ]
  },
  {
   "cell_type": "code",
   "execution_count": null,
   "id": "ac6352f0-2d5a-4713-aa43-dbf15317cd33",
   "metadata": {},
   "outputs": [],
   "source": [
    "dask_controller = tr.trcluster.dask_controller(\n",
    "    walltime=\"04:00:00\",\n",
    "    local=False,\n",
    "    n_workers=50,\n",
    "    death_timeout=5.0,\n",
    "    memory=\"16GB\",\n",
    "    working_directory=\"/home/de64/scratch/de64/temp/dask\",\n",
    ")\n",
    "dask_controller.startdask()"
   ]
  },
  {
   "cell_type": "code",
   "execution_count": null,
   "id": "9f7fa4ba-13bf-4373-881b-4b21bdf22c09",
   "metadata": {},
   "outputs": [],
   "source": [
    "dask_controller.displaydashboard()"
   ]
  },
  {
   "cell_type": "code",
   "execution_count": null,
   "id": "5f4aaefc-2920-42db-aca4-d8c07bbbd652",
   "metadata": {
    "tags": []
   },
   "outputs": [],
   "source": [
    "dask_controller.shutdown()"
   ]
  },
  {
   "cell_type": "code",
   "execution_count": null,
   "id": "ee2d7ee9-7fe3-4b23-aba4-0a1171215abd",
   "metadata": {},
   "outputs": [],
   "source": [
    "output_df = dd.read_parquet(\n",
    "    \"/home/de64/scratch/de64/sync_folder/2021-10-21_lDE15_Final_1/2021-11-17_lDE15_Analysis_Filtered\",\n",
    "    engine=\"pyarrow\",\n",
    ")"
   ]
  },
  {
   "cell_type": "code",
   "execution_count": null,
   "id": "a9975689-3373-4110-9efa-d7fb1b1f226b",
   "metadata": {},
   "outputs": [],
   "source": [
    "output_df_trenchid_sorted = (\n",
    "    output_df.reset_index().set_index(\"trenchid\", drop=True, sorted=False).persist()\n",
    ")\n",
    "output_df_trenchid_groupby = output_df_trenchid_sorted.groupby(\"trenchid\")\n",
    "median_ratio = (\n",
    "    output_df_trenchid_groupby[\"gfp/mchy Ratio\"].apply(np.nanmedian).compute()\n",
    ")"
   ]
  },
  {
   "cell_type": "code",
   "execution_count": null,
   "id": "80ffa7fc-d4ac-4c2f-b007-a3b8ee005e4e",
   "metadata": {},
   "outputs": [],
   "source": [
    "threshold = 1.0\n",
    "\n",
    "dark_gfp = median_ratio < threshold\n",
    "perc_gfp = 1.0 - (np.sum(dark_gfp) / len(median_ratio))\n",
    "print(perc_gfp)\n",
    "\n",
    "fig = plt.figure(figsize=(12, 8))\n",
    "plt.hist(\n",
    "    median_ratio[median_ratio < threshold],\n",
    "    range=(0, 5),\n",
    "    bins=50,\n",
    "    color=\"grey\",\n",
    "    label=\"Measured Dark GFP\",\n",
    "    density=True,\n",
    "    log=True,\n",
    ")\n",
    "plt.hist(\n",
    "    median_ratio[median_ratio > threshold],\n",
    "    range=(0, 5),\n",
    "    bins=50,\n",
    "    color=\"green\",\n",
    "    label=\"Measured GFP\",\n",
    "    density=True,\n",
    "    log=True,\n",
    ")\n",
    "plt.xlabel(\"Mean Intensity Ratio\", fontsize=26)\n",
    "plt.xticks(fontsize=26)\n",
    "plt.yticks(fontsize=26)\n",
    "plt.legend(fontsize=26)\n",
    "# plt.savefig(\"./GFP_Threshold_Distribution_1.png\",dpi=300,bbox_inches=\"tight\")\n",
    "plt.show()"
   ]
  },
  {
   "cell_type": "code",
   "execution_count": null,
   "id": "31d2f7e7-04b3-4ec1-946f-805d547fc2af",
   "metadata": {},
   "outputs": [],
   "source": [
    "output_df_trenchid_sorted[\"Measured Median GFP Ratio\"] = median_ratio\n",
    "output_df_trenchid_sorted[\"Measured Dark GFP\"] = dark_gfp\n",
    "output_df_trenchid_sorted = output_df_trenchid_sorted.reset_index().set_index(\n",
    "    \"File Parquet Index\", drop=True, sorted=False\n",
    ")\n",
    "output_single_trenchid_df = (\n",
    "    output_df_trenchid_sorted.groupby(\"trenchid\")\n",
    "    .apply(lambda x: x.iloc[0])\n",
    "    .set_index(\"trenchid\")\n",
    ")\n",
    "output_single_trenchid_df = output_single_trenchid_df.compute()"
   ]
  },
  {
   "cell_type": "code",
   "execution_count": null,
   "id": "0b6d39c0-d0b1-4f9e-89e6-eea3a7818cac",
   "metadata": {},
   "outputs": [],
   "source": [
    "# called_df = output_single_barcode_df[output_single_barcode_df[\"Measured Dark GFP\"]!=\"Unknown\"]\n",
    "ttl_correct = np.sum(\n",
    "    output_single_trenchid_df[\"dark_gfp\"]\n",
    "    == output_single_trenchid_df[\"Measured Dark GFP\"]\n",
    ")\n",
    "ttl_called = len(output_single_trenchid_df)\n",
    "\n",
    "n_barcodes = output_single_trenchid_df[\"barcodeid\"].nunique()"
   ]
  },
  {
   "cell_type": "code",
   "execution_count": null,
   "id": "8f15aeae-f597-4ea1-a557-11fbe60586c1",
   "metadata": {},
   "outputs": [],
   "source": [
    "print(\"Error Rate:\" + str(1.0 - ttl_correct / ttl_called))\n",
    "# print(\"Recovery Rate:\" + str(recovery_rate))\n",
    "print(\"Unique Barcodes:\" + str(n_barcodes))\n",
    "print(\"Total Trenches:\" + str(ttl_called))"
   ]
  },
  {
   "cell_type": "code",
   "execution_count": null,
   "id": "c427d0eb-9da9-471a-8c78-d7b6d9161600",
   "metadata": {},
   "outputs": [],
   "source": [
    "fig = plt.figure(figsize=(12, 8))\n",
    "\n",
    "plt.hist(\n",
    "    output_single_trenchid_df[output_single_trenchid_df[\"dark_gfp\"] == True][\n",
    "        \"Measured Median GFP Ratio\"\n",
    "    ],\n",
    "    range=(0, 10),\n",
    "    bins=50,\n",
    "    color=\"grey\",\n",
    "    alpha=0.7,\n",
    "    label=\"Predicted Dark GFP\",\n",
    "    density=False,\n",
    ")\n",
    "plt.hist(\n",
    "    output_single_trenchid_df[output_single_trenchid_df[\"dark_gfp\"] == False][\n",
    "        \"Measured Median GFP Ratio\"\n",
    "    ],\n",
    "    range=(0, 10),\n",
    "    bins=50,\n",
    "    color=\"green\",\n",
    "    alpha=0.7,\n",
    "    label=\"Predicted GFP\",\n",
    "    density=False,\n",
    ")\n",
    "plt.xlabel(\"Lineage GFP/mCherry Intensity Ratio\", fontsize=26)\n",
    "plt.ylabel(\"Lineages\", fontsize=26)\n",
    "plt.xticks(fontsize=26)\n",
    "plt.yticks(fontsize=26)\n",
    "# plt.savefig(\"./GFP_Threshold_Distribution_2.svg\",dpi=300,bbox_inches=\"tight\")\n",
    "plt.show()"
   ]
  },
  {
   "cell_type": "code",
   "execution_count": null,
   "id": "a81b30bb-8df5-449a-9e15-27329b830b49",
   "metadata": {},
   "outputs": [],
   "source": [
    "def get_confusion_mat(df):\n",
    "    TP = np.sum((df[\"dark_gfp\"] == False) & (df[\"Measured Dark GFP\"] == False))\n",
    "    TN = np.sum((df[\"dark_gfp\"] == True) & (df[\"Measured Dark GFP\"] == True))\n",
    "    FP = np.sum((df[\"dark_gfp\"] == False) & (df[\"Measured Dark GFP\"] == True))\n",
    "    FN = np.sum((df[\"dark_gfp\"] == True) & (df[\"Measured Dark GFP\"] == False))\n",
    "\n",
    "    error = (FP + FN) / (TP + TN + FP + FN)\n",
    "    FP_error = FP / (TP + TN + FP + FN)\n",
    "    FN_error = FN / (TP + TN + FP + FN)\n",
    "\n",
    "    return error, FP_error, FN_error"
   ]
  },
  {
   "cell_type": "code",
   "execution_count": null,
   "id": "19e2820f-3df4-46af-9dbd-7ae8747a1ac3",
   "metadata": {},
   "outputs": [],
   "source": [
    "error, FP_error, FN_error = get_confusion_mat(output_single_trenchid_df)\n",
    "print(\"Error: \" + str(error))\n",
    "print(\"FP error: \" + str(FP_error))\n",
    "print(\"FN error: \" + str(FN_error))"
   ]
  },
  {
   "cell_type": "code",
   "execution_count": null,
   "id": "371dcdf1-6255-4b65-8142-5ad485f5f759",
   "metadata": {},
   "outputs": [],
   "source": [
    "hamming_filters = list(range(1, 5))\n",
    "hamming_n_barcodes = []\n",
    "hamming_errors = []\n",
    "for i in hamming_filters:\n",
    "    filtered_df = output_single_trenchid_df[\n",
    "        output_single_trenchid_df[\"Closest Hamming Distance\"] >= i\n",
    "    ]\n",
    "    n_barcode = len(filtered_df)\n",
    "    error, FP_error, FN_error = get_confusion_mat(filtered_df)\n",
    "    error = np.round(100 * error, decimals=2)\n",
    "    hamming_errors.append(error)\n",
    "    hamming_n_barcodes.append(n_barcode)\n",
    "\n",
    "fig = plt.figure(figsize=(8, 6))\n",
    "\n",
    "sns.lineplot(hamming_filters, hamming_errors, linewidth=4, marker=\"o\", markersize=15)\n",
    "plt.gca().xaxis.set_major_formatter(FuncFormatter(lambda x, _: int(x)))\n",
    "plt.xlabel(\"Minimum Hamming Distance\", fontsize=26)\n",
    "plt.ylabel(\"Error Rate (%)\", fontsize=26)\n",
    "plt.xticks([1, 2, 3, 4], fontsize=26)\n",
    "plt.yticks(fontsize=26)\n",
    "plt.ylim(0.0, 1.0)\n",
    "plt.savefig(\"./Hamming_Dist_vs_Error.png\", dpi=300, bbox_inches=\"tight\")\n",
    "plt.show()"
   ]
  },
  {
   "cell_type": "code",
   "execution_count": null,
   "id": "bd15f8b0-7384-448b-b990-e4f2a99b8b84",
   "metadata": {},
   "outputs": [],
   "source": [
    "fig = plt.figure(figsize=(8, 6))\n",
    "\n",
    "sns.lineplot(hamming_filters, hamming_errors, linewidth=4, marker=\"o\", markersize=15)\n",
    "plt.gca().xaxis.set_major_formatter(FuncFormatter(lambda x, _: int(x)))\n",
    "plt.xlabel(\"Minimum Hamming Distance\", fontsize=26)\n",
    "plt.ylabel(\"Error Rate (%)\", fontsize=26)\n",
    "plt.xticks([1, 2, 3, 4], fontsize=26)\n",
    "plt.yticks(fontsize=26)\n",
    "plt.ylim(-5.0, 100.0)\n",
    "\n",
    "sns.despine()\n",
    "\n",
    "plt.savefig(\"./Hamming_Dist_vs_Error_big.png\", dpi=300, bbox_inches=\"tight\")\n",
    "plt.show()"
   ]
  },
  {
   "cell_type": "code",
   "execution_count": null,
   "id": "3bb793e5-59e9-4169-afcb-dfb6e8196646",
   "metadata": {},
   "outputs": [],
   "source": [
    "perc_lib = 100 * (np.array(hamming_n_barcodes) / hamming_n_barcodes[0])\n",
    "\n",
    "fig = plt.figure(figsize=(8, 6))\n",
    "\n",
    "sns.lineplot(hamming_filters, perc_lib, linewidth=4, marker=\"o\", markersize=15)\n",
    "plt.gca().xaxis.set_major_formatter(FuncFormatter(lambda x, _: int(x)))\n",
    "plt.ylim(0, 110)\n",
    "plt.xlabel(\"Minimum Hamming Distance\", fontsize=26)\n",
    "plt.ylabel(\"Percent of Library\", fontsize=26)\n",
    "plt.xticks([1, 2, 3, 4], fontsize=26)\n",
    "plt.yticks(\n",
    "    [0, 20, 40, 60, 80, 100],\n",
    "    fontsize=26,\n",
    ")\n",
    "plt.savefig(\"./Hamming_Dist_vs_Lib_Size.svg\", dpi=300, bbox_inches=\"tight\")\n",
    "plt.show()"
   ]
  },
  {
   "cell_type": "markdown",
   "id": "22887957-5c8a-41d2-a5c5-8b293309261a",
   "metadata": {},
   "source": [
    "### From Old Notebook"
   ]
  },
  {
   "cell_type": "markdown",
   "id": "4388fe65-f8b6-4cec-8845-2fba64be963d",
   "metadata": {},
   "source": [
    "#### Estimating Error from Recall Rate\n",
    "\n",
    "math for this in scanned doc; using empirical hamming distance distribution"
   ]
  },
  {
   "cell_type": "code",
   "execution_count": null,
   "id": "1464ba54-578c-43aa-82a7-cdbf4f7fe1ba",
   "metadata": {},
   "outputs": [],
   "source": [
    "N = 29\n",
    "p_err_out = 1.0 - percent_called_w_signal\n",
    "H_vals, H_counts = np.unique(\n",
    "    barcode_df[\"Closest Hamming Distance\"].values, return_counts=True\n",
    ")\n",
    "p_Hdist = H_counts / np.sum(H_counts)"
   ]
  },
  {
   "cell_type": "code",
   "execution_count": null,
   "id": "7655e122-c676-480b-8489-172d94074dba",
   "metadata": {},
   "outputs": [],
   "source": [
    "coeffs = [-p_err_out]\n",
    "for idx, j in enumerate(H_vals):\n",
    "    bin_coeff = sp.special.binom(N, j)\n",
    "    coeff = bin_coeff - p_Hdist[idx]\n",
    "    coeffs.append(coeff)\n",
    "coeffs = np.array(coeffs)[::-1]\n",
    "roots = np.roots(coeffs)\n",
    "epsilon = np.real(roots[~np.iscomplex(roots)])[0]"
   ]
  },
  {
   "cell_type": "code",
   "execution_count": null,
   "id": "e70d8df6-b41c-4a9c-847f-dcadd96ab8d5",
   "metadata": {},
   "outputs": [],
   "source": [
    "p_err_in = 0.0\n",
    "for idx, j in enumerate(H_vals):\n",
    "    p_err_in += p_Hdist[idx] * (epsilon**j)"
   ]
  },
  {
   "cell_type": "code",
   "execution_count": null,
   "id": "56944ee2-ae82-4e5f-aef9-dcbbc3ee00a3",
   "metadata": {},
   "outputs": [],
   "source": [
    "print(\"Epsilon Estimate: \" + str(epsilon))\n",
    "print(\"P(error in) Estimate: \" + str(p_err_in))"
   ]
  },
  {
   "cell_type": "markdown",
   "id": "4ff14da8-df32-4c0b-b3c1-b0206f54603e",
   "metadata": {},
   "source": [
    "Guessing epislon based on single bit error rate (using soft matching)"
   ]
  },
  {
   "cell_type": "code",
   "execution_count": null,
   "id": "d9590d18-ae3e-4171-ad98-bb058b191154",
   "metadata": {},
   "outputs": [],
   "source": [
    "output = []\n",
    "eps_range = np.linspace(0.0, 0.2)\n",
    "for epsilon in eps_range:\n",
    "    #     epsilon = 0.05\n",
    "    p_err_in = 0.0\n",
    "    for idx, j in enumerate(H_vals):\n",
    "        p_err_in += p_Hdist[idx] * (epsilon**j)\n",
    "    output.append(p_err_in * 100)\n",
    "\n",
    "\n",
    "plt.plot(eps_range, output)\n",
    "plt.xlabel(\"Epsilon\", fontsize=20)\n",
    "plt.ylabel(\"Error Rate (%)\", fontsize=20)\n",
    "plt.xticks(fontsize=20)\n",
    "plt.yticks(fontsize=20)\n",
    "plt.show()"
   ]
  },
  {
   "cell_type": "markdown",
   "id": "e1a1fb91-2a8a-4adc-9f56-109390e1ad2d",
   "metadata": {},
   "source": [
    "#### Varying The GFP Threshold"
   ]
  },
  {
   "cell_type": "code",
   "execution_count": null,
   "id": "52c4a2f7-27cb-4508-a04b-b553be6a6f0c",
   "metadata": {},
   "outputs": [],
   "source": []
  },
  {
   "cell_type": "code",
   "execution_count": null,
   "id": "3cd60edb-0161-45ba-8383-014baefa84c2",
   "metadata": {
    "tags": []
   },
   "outputs": [],
   "source": [
    "called_df"
   ]
  },
  {
   "cell_type": "code",
   "execution_count": null,
   "id": "74bdba06-49a8-4799-a741-b55d50217abd",
   "metadata": {},
   "outputs": [],
   "source": []
  },
  {
   "cell_type": "code",
   "execution_count": null,
   "id": "39fb4d4d-4bdc-453b-b347-5527a6f38bbc",
   "metadata": {},
   "outputs": [],
   "source": []
  },
  {
   "cell_type": "code",
   "execution_count": null,
   "id": "99f7a5f9-1948-4c9a-bd89-a1b09a7b8156",
   "metadata": {},
   "outputs": [],
   "source": [
    "negative_threshold = 1.0\n",
    "called_negative_df = called_df[called_df[\"Measured GFP Ratio\"] < negative_threshold]"
   ]
  },
  {
   "cell_type": "code",
   "execution_count": null,
   "id": "06917af5-bb31-4b57-bfde-d448893ada59",
   "metadata": {
    "tags": []
   },
   "outputs": [],
   "source": [
    "TN = np.sum(\n",
    "    (called_negative_df[\"dark_gfp\"] == True)\n",
    "    & (called_negative_df[\"Measured Dark GFP\"] == True)\n",
    ")\n",
    "FP = np.sum(\n",
    "    (called_negative_df[\"dark_gfp\"] == False)\n",
    "    & (called_negative_df[\"Measured Dark GFP\"] == True)\n",
    ")"
   ]
  },
  {
   "cell_type": "code",
   "execution_count": null,
   "id": "cc1293ff-c889-4cb6-8816-41b128ef091d",
   "metadata": {},
   "outputs": [],
   "source": [
    "precision = TN / (TN + FN)"
   ]
  },
  {
   "cell_type": "code",
   "execution_count": null,
   "id": "013cddfb-e3a5-4237-ac72-5911f4fe745d",
   "metadata": {},
   "outputs": [],
   "source": [
    "FP / (TN + FP)"
   ]
  },
  {
   "cell_type": "code",
   "execution_count": null,
   "id": "afa3c5b4-5f01-45fb-adfc-4dead8a69b7b",
   "metadata": {},
   "outputs": [],
   "source": [
    "def get_confusion_mat(df):\n",
    "    TP = np.sum((df[\"dark_gfp\"] == False) & (df[\"Measured Dark GFP\"] == False))\n",
    "    TN = np.sum((df[\"dark_gfp\"] == True) & (df[\"Measured Dark GFP\"] == True))\n",
    "    FP = np.sum((df[\"dark_gfp\"] == False) & (df[\"Measured Dark GFP\"] == True))\n",
    "    FN = np.sum((df[\"dark_gfp\"] == True) & (df[\"Measured Dark GFP\"] == False))\n",
    "\n",
    "    error = (FP + FN) / (TP + TN + FP + FN)\n",
    "    FP_error = FP / (TP + TN + FP + FN)\n",
    "    FN_error = FN / (TP + TN + FP + FN)\n",
    "\n",
    "    return error, FP_error, FN_error"
   ]
  },
  {
   "cell_type": "code",
   "execution_count": null,
   "id": "dd07a66f-d108-4bf1-b58b-a2ca18e34bc5",
   "metadata": {},
   "outputs": [],
   "source": [
    "def get_gmm_params(values):\n",
    "    gmm = skl.mixture.GaussianMixture(n_components=2, n_init=10)\n",
    "    gmm.fit(values.reshape(-1, 1))\n",
    "    #     probs = gmm.predict_proba(values.reshape(-1,1))\n",
    "    return gmm.means_[:, 0], ((gmm.covariances_) ** (1 / 2))[:, 0, 0]"
   ]
  },
  {
   "cell_type": "code",
   "execution_count": null,
   "id": "8a97a6e8-a5d9-423c-8a01-a54383690e08",
   "metadata": {},
   "outputs": [],
   "source": [
    "test_std = 0.5\n",
    "\n",
    "means, stds = get_gmm_params(called_df[\"Measured GFP Ratio\"].values)\n",
    "if means[0] > means[1]:\n",
    "    means = means[::-1]\n",
    "    stds = stds[::-1]\n",
    "\n",
    "upper_bound = means + test_std\n",
    "lower_bound = means - test_std\n",
    "\n",
    "valid_dark = called_df[\"Measured GFP Ratio\"] < upper_bound[0]\n",
    "valid_gfp = called_df[\"Measured GFP Ratio\"] > lower_bound[1]\n",
    "valid = valid_dark | valid_gfp\n",
    "\n",
    "filtered_df = called_df[valid]\n",
    "filtered_df_complement = called_df[~valid]\n",
    "\n",
    "plt.title(\"0.5 Standard Deviations\", fontsize=20)\n",
    "plt.hist(\n",
    "    filtered_df_complement[\"Measured GFP Ratio\"],\n",
    "    range=(0, 10),\n",
    "    bins=50,\n",
    "    color=\"grey\",\n",
    "    alpha=0.7,\n",
    "    label=\"Predicted Dark GFP\",\n",
    "    density=False,\n",
    ")\n",
    "plt.hist(\n",
    "    filtered_df[\"Measured GFP Ratio\"],\n",
    "    range=(0, 10),\n",
    "    bins=50,\n",
    "    color=\"red\",\n",
    "    alpha=0.7,\n",
    "    label=\"Predicted Dark GFP\",\n",
    "    density=False,\n",
    ")\n",
    "plt.show()"
   ]
  },
  {
   "cell_type": "code",
   "execution_count": null,
   "id": "1849bfba-ca76-4bcf-a611-c111ced465fb",
   "metadata": {},
   "outputs": [],
   "source": [
    "test_std = 1.0\n",
    "\n",
    "means, stds = get_gmm_params(called_df[\"Measured GFP Ratio\"].values)\n",
    "if means[0] > means[1]:\n",
    "    means = means[::-1]\n",
    "    stds = stds[::-1]\n",
    "\n",
    "upper_bound = means + test_std\n",
    "lower_bound = means - test_std\n",
    "\n",
    "valid_dark = called_df[\"Measured GFP Ratio\"] < upper_bound[0]\n",
    "valid_gfp = called_df[\"Measured GFP Ratio\"] > lower_bound[1]\n",
    "valid = valid_dark | valid_gfp\n",
    "\n",
    "filtered_df = called_df[valid]\n",
    "filtered_df_complement = called_df[~valid]\n",
    "\n",
    "plt.title(\"1.0 Standard Deviations\", fontsize=20)\n",
    "plt.hist(\n",
    "    filtered_df_complement[\"Measured GFP Ratio\"],\n",
    "    range=(0, 10),\n",
    "    bins=50,\n",
    "    color=\"grey\",\n",
    "    alpha=0.7,\n",
    "    label=\"Predicted Dark GFP\",\n",
    "    density=False,\n",
    ")\n",
    "plt.hist(\n",
    "    filtered_df[\"Measured GFP Ratio\"],\n",
    "    range=(0, 10),\n",
    "    bins=50,\n",
    "    color=\"red\",\n",
    "    alpha=0.7,\n",
    "    label=\"Predicted Dark GFP\",\n",
    "    density=False,\n",
    ")\n",
    "plt.show()"
   ]
  },
  {
   "cell_type": "code",
   "execution_count": null,
   "id": "3750b963-7b48-485b-90b7-77dd9dcbb503",
   "metadata": {},
   "outputs": [],
   "source": [
    "test_std = 1.5\n",
    "\n",
    "means, stds = get_gmm_params(called_df[\"Measured GFP Ratio\"].values)\n",
    "if means[0] > means[1]:\n",
    "    means = means[::-1]\n",
    "    stds = stds[::-1]\n",
    "\n",
    "upper_bound = means + test_std\n",
    "lower_bound = means - test_std\n",
    "\n",
    "valid_dark = called_df[\"Measured GFP Ratio\"] < upper_bound[0]\n",
    "valid_gfp = called_df[\"Measured GFP Ratio\"] > lower_bound[1]\n",
    "valid = valid_dark | valid_gfp\n",
    "\n",
    "filtered_df = called_df[valid]\n",
    "filtered_df_complement = called_df[~valid]\n",
    "\n",
    "plt.title(\"1.5 Standard Deviations\", fontsize=20)\n",
    "plt.hist(\n",
    "    filtered_df_complement[\"Measured GFP Ratio\"],\n",
    "    range=(0, 10),\n",
    "    bins=50,\n",
    "    color=\"grey\",\n",
    "    alpha=0.7,\n",
    "    label=\"Predicted Dark GFP\",\n",
    "    density=False,\n",
    ")\n",
    "plt.hist(\n",
    "    filtered_df[\"Measured GFP Ratio\"],\n",
    "    range=(0, 10),\n",
    "    bins=50,\n",
    "    color=\"red\",\n",
    "    alpha=0.7,\n",
    "    label=\"Predicted Dark GFP\",\n",
    "    density=False,\n",
    ")\n",
    "plt.show()"
   ]
  },
  {
   "cell_type": "code",
   "execution_count": null,
   "id": "f4a80734-0999-49c1-bbc5-59e8bd8e9781",
   "metadata": {},
   "outputs": [],
   "source": [
    "import seaborn as sns\n",
    "\n",
    "sns.set()\n",
    "\n",
    "n_std = np.linspace(0, 2, 20)\n",
    "n_barcodes = []\n",
    "errors = []\n",
    "FP_errors = []\n",
    "FN_errors = []\n",
    "\n",
    "means, stds = get_gmm_params(called_df[\"Measured GFP Ratio\"].values)\n",
    "\n",
    "if means[0] > means[1]:\n",
    "    means = means[::-1]\n",
    "    stds = stds[::-1]\n",
    "\n",
    "for i in n_std:\n",
    "    upper_bound = means + stds * i\n",
    "    lower_bound = means - stds * i\n",
    "\n",
    "    #     valid_dark = (called_df_barcodes[\"Measured Median GFP\"] < upper_bound[0]) &\\\n",
    "    #     (called_df_barcodes[\"Measured Median GFP\"] > lower_bound[0])\n",
    "    #     valid_gfp = (called_df_barcodes[\"Measured Median GFP\"] < upper_bound[1]) &\\\n",
    "    #     (called_df_barcodes[\"Measured Median GFP\"] > lower_bound[1])\n",
    "    #     valid = valid_dark|valid_gfp\n",
    "    valid_dark = called_df[\"Measured GFP Ratio\"] < upper_bound[0]\n",
    "    valid_gfp = called_df[\"Measured GFP Ratio\"] > lower_bound[1]\n",
    "    valid = valid_dark | valid_gfp\n",
    "\n",
    "    filtered_df = called_df[valid]\n",
    "    n_barcode = len(filtered_df)\n",
    "    error, FP_error, FN_error = get_confusion_mat(filtered_df)\n",
    "    error = np.round(100 * error, decimals=2)\n",
    "    FP_error = np.round(100 * FP_error, decimals=2)\n",
    "    FN_error = np.round(100 * FN_error, decimals=2)\n",
    "    errors.append(error)\n",
    "    FP_errors.append(FP_error)\n",
    "    FN_errors.append(FN_error)\n",
    "    n_barcodes.append(n_barcode)"
   ]
  },
  {
   "cell_type": "code",
   "execution_count": null,
   "id": "3c0d1b45-f838-4547-a5b2-53001d83aa5f",
   "metadata": {},
   "outputs": [],
   "source": [
    "sns.lineplot(n_std, errors, linewidth=5, label=\"Error\")\n",
    "sns.lineplot(n_std, FP_errors, linewidth=5, label=\"FP Error\")\n",
    "sns.lineplot(n_std, FN_errors, linewidth=5, label=\"FN Error\")\n",
    "plt.xticks(fontsize=20)\n",
    "plt.yticks(\n",
    "    fontsize=20,\n",
    ")\n",
    "plt.ylim(0.0, 1.0)\n",
    "plt.xlabel(\"N $\\sigma$s Around Peak\", fontsize=20)\n",
    "plt.ylabel(\"Error Rate (%)\", fontsize=20)\n",
    "plt.legend(fontsize=20)\n",
    "plt.savefig(\"./GFP_Error_vs_Sigma.png\", dpi=300, bbox_inches=\"tight\")\n",
    "plt.show()\n",
    "\n",
    "\n",
    "sns.lineplot(n_std, n_barcodes, linewidth=5)\n",
    "plt.xticks(fontsize=20)\n",
    "plt.yticks(\n",
    "    fontsize=20,\n",
    ")\n",
    "plt.xlabel(\"N $\\sigma$s Around Peak\", fontsize=20)\n",
    "plt.ylabel(\"Library Size Past Filter\", fontsize=20)\n",
    "plt.savefig(\"./Library_Size_vs_Sigma.png\", dpi=300, bbox_inches=\"tight\")\n",
    "plt.show()"
   ]
  },
  {
   "cell_type": "markdown",
   "id": "3dc1e182-1946-4f73-bcde-cbf8574600f6",
   "metadata": {},
   "source": [
    "#### Sources of error\n",
    "\n",
    "There are around twice the number of false negatives (predicted to be a Dark GFP, but measured as bright) as there are false positives (predicted to be GFP, but measured as dark).\n",
    "\n",
    "Some theories for these error classes:\n",
    "\n",
    "False Positives:\n",
    "    \n",
    "    - Mutations in the promoter (should be constant within barcodes)\n",
    "    \n",
    "    - Strain variation (should be lower when averaging among strains)\n",
    "    \n",
    "    - Misread of barcodes\n",
    "    \n",
    "False Negatives:\n",
    "    \n",
    "    - Bleed from adjacent cells (should be corrected by averging among strains)\n",
    "    \n",
    "    - Multiple strains per trench (?)\n",
    "    \n",
    "    - Misread of barcodes"
   ]
  },
  {
   "cell_type": "markdown",
   "id": "cf39cc4a-676d-4015-8e65-2c5559385721",
   "metadata": {},
   "source": [
    "#### Median GFP Approach"
   ]
  },
  {
   "cell_type": "code",
   "execution_count": null,
   "id": "6909d19b-492d-4207-9e7e-4cdc9aee4eee",
   "metadata": {},
   "outputs": [],
   "source": [
    "median_gfp_df = called_df.groupby(\"Barcode\").apply(\n",
    "    lambda x: x[\"Measured GFP Ratio\"].median()\n",
    ")"
   ]
  },
  {
   "cell_type": "code",
   "execution_count": null,
   "id": "07015671-230e-4552-893f-4b81d8ba4969",
   "metadata": {},
   "outputs": [],
   "source": [
    "plt.hist(\n",
    "    median_gfp_df[median_gfp_df < threshold],\n",
    "    range=(0, 20),\n",
    "    bins=50,\n",
    "    color=\"grey\",\n",
    "    label=\"Measured Dark GFP\",\n",
    ")\n",
    "plt.hist(\n",
    "    median_gfp_df[median_gfp_df > threshold],\n",
    "    range=(0, 20),\n",
    "    bins=50,\n",
    "    color=\"green\",\n",
    "    label=\"Measured GFP\",\n",
    ")\n",
    "plt.xlabel(\"Mean Intensity Ratio\", fontsize=20)\n",
    "plt.xticks(fontsize=20)\n",
    "plt.yticks(fontsize=20)\n",
    "plt.legend(fontsize=20)\n",
    "plt.savefig(\"./Pooled_correction.png\", dpi=300, bbox_inches=\"tight\")\n",
    "plt.show()"
   ]
  },
  {
   "cell_type": "code",
   "execution_count": null,
   "id": "37b99af7-7797-4d40-a5d0-a6771c202dbb",
   "metadata": {},
   "outputs": [],
   "source": [
    "called_df_barcodes = called_df.set_index([\"Barcode\"]).sort_index()\n",
    "called_df_barcodes[\"Measured Median GFP\"] = median_gfp_df\n",
    "called_df_barcodes.reset_index(drop=False)\n",
    "called_df_barcodes = called_df_barcodes.groupby(\"Barcode\").apply(lambda x: x.iloc[0])"
   ]
  },
  {
   "cell_type": "code",
   "execution_count": null,
   "id": "00e61944-1dce-4e08-977b-d16c4eb8ac5a",
   "metadata": {},
   "outputs": [],
   "source": [
    "ttl_correct = np.sum(\n",
    "    called_df_barcodes[\"dark_gfp\"]\n",
    "    == (called_df_barcodes[\"Measured Median GFP\"] < threshold)\n",
    ")\n",
    "ttl_called = len(called_df_barcodes)\n",
    "print(\"Percent Correct:\" + str(ttl_correct / ttl_called))"
   ]
  },
  {
   "cell_type": "markdown",
   "id": "0b2646ca-fafd-451d-bf12-33478bb85734",
   "metadata": {},
   "source": [
    "### Error With One Mismatch (Hamming Distance Up to 1, Eliminate Bad Bits)"
   ]
  },
  {
   "cell_type": "markdown",
   "id": "c7148801-8836-4a19-b761-f0b4e65bd6f1",
   "metadata": {},
   "source": [
    "#### Import Barcode Dataframe"
   ]
  },
  {
   "cell_type": "code",
   "execution_count": null,
   "id": "18b38efb-8c3c-4349-9008-6b7436d17b8e",
   "metadata": {},
   "outputs": [],
   "source": [
    "meta_handle = tr.pandas_hdf5_handler(\n",
    "    \"/home/de64/scratch/de64/sync_folder/2021-03-07_lDE15/barcodes/barcode_df_hamming_1.hdf5\"\n",
    ")\n",
    "barcode_df = meta_handle.read_df(\"barcodes\", read_metadata=True)"
   ]
  },
  {
   "cell_type": "markdown",
   "id": "9260b809-1803-407b-94a1-492aa78a08d4",
   "metadata": {},
   "source": [
    "#### Compute Call Rate"
   ]
  },
  {
   "cell_type": "code",
   "execution_count": null,
   "id": "1ec02e4b-8029-4ce1-8625-15c086cb9001",
   "metadata": {},
   "outputs": [],
   "source": [
    "import numpy as np\n",
    "import pandas as pd\n",
    "import seaborn as sns\n",
    "import scipy as sp\n",
    "import sklearn as skl\n",
    "import dask.dataframe as dd\n",
    "\n",
    "from matplotlib import pyplot as plt"
   ]
  },
  {
   "cell_type": "code",
   "execution_count": null,
   "id": "ecefa9b2-96ed-4b91-9850-a99c0bb0cde0",
   "metadata": {},
   "outputs": [],
   "source": [
    "analysis_df = dd.read_parquet(\n",
    "    \"/home/de64/scratch/de64/sync_folder/2021-03-07_lDE15/gfp/analysis\"\n",
    ")\n",
    "last_trenchid = int(analysis_df.tail(1)[\"trenchid\"])"
   ]
  },
  {
   "cell_type": "code",
   "execution_count": null,
   "id": "1bb6aa31-8a13-42a9-a014-403a098a3991",
   "metadata": {},
   "outputs": [],
   "source": [
    "ttl_true = np.sum([item == True for item in barcode_df[\"dark_gfp\"].tolist()])\n",
    "ttl_false = np.sum([item == False for item in barcode_df[\"dark_gfp\"].tolist()])\n",
    "ttl_none = np.sum([item == \"Unknown\" for item in barcode_df[\"dark_gfp\"].tolist()])\n",
    "ttl_called = ttl_true + ttl_false\n",
    "ttl_trenches = barcode_df.metadata[\"Total Trenches\"]\n",
    "ttl_trenches_w_signal = barcode_df.metadata[\"Total Trenches With Cells\"]\n",
    "percent_called = ttl_called / ttl_trenches\n",
    "percent_called_w_signal = ttl_called / ttl_trenches_w_signal\n",
    "\n",
    "percent_called_w_gfp_call = ttl_called / last_trenchid\n",
    "percent_signal_w_gfp_call = ttl_trenches_w_signal / last_trenchid"
   ]
  },
  {
   "cell_type": "code",
   "execution_count": null,
   "id": "5078257c-47eb-42d5-a616-a276362554b5",
   "metadata": {},
   "outputs": [],
   "source": [
    "percent_called"
   ]
  },
  {
   "cell_type": "code",
   "execution_count": null,
   "id": "1f21576a-6c43-4701-a04c-e567aa9ae275",
   "metadata": {},
   "outputs": [],
   "source": [
    "percent_called_w_signal"
   ]
  },
  {
   "cell_type": "code",
   "execution_count": null,
   "id": "b4e3d5b7-9eb8-4c54-b331-a62ff4111110",
   "metadata": {},
   "outputs": [],
   "source": [
    "percent_called_w_gfp_call"
   ]
  },
  {
   "cell_type": "code",
   "execution_count": null,
   "id": "7c2a5a4a-d2fc-4ff4-b935-04960274e2b3",
   "metadata": {},
   "outputs": [],
   "source": [
    "percent_signal_w_gfp_call"
   ]
  },
  {
   "cell_type": "markdown",
   "id": "2f250603-5ec4-4a20-9459-9c21798e7447",
   "metadata": {},
   "source": [
    "#### Get GFP Call Error and Recovery Rate"
   ]
  },
  {
   "cell_type": "code",
   "execution_count": null,
   "id": "fd92d935-f2a1-4368-88ff-e5b355668786",
   "metadata": {},
   "outputs": [],
   "source": [
    "barcode_df[\"Measured Dark GFP\"] = barcode_df.apply(\n",
    "    tr.map_Series, axis=1, args=(dark_gfp, trenchid_map)\n",
    ")\n",
    "barcode_df[\"Measured GFP Ratio\"] = barcode_df.apply(\n",
    "    tr.map_Series, axis=1, args=(median_ratio, trenchid_map)\n",
    ")\n",
    "called_df = barcode_df[barcode_df[\"Measured Dark GFP\"] != \"Unknown\"]\n",
    "ttl_correct = np.sum(called_df[\"dark_gfp\"] == called_df[\"Measured Dark GFP\"])\n",
    "ttl_called = len(called_df)\n",
    "recovery_rate = len(called_df) / len(dark_gfp)\n",
    "n_barcodes = called_df[\"barcodeid\"].nunique()\n",
    "n_trenches = called_df[\"trenchid\"].nunique()"
   ]
  },
  {
   "cell_type": "code",
   "execution_count": null,
   "id": "951d077d-66f5-4ec4-b64f-58d35a6d5177",
   "metadata": {},
   "outputs": [],
   "source": [
    "print(\"Error Rate:\" + str(1.0 - ttl_correct / ttl_called))\n",
    "print(\"Recovery Rate:\" + str(recovery_rate))\n",
    "print(\"Unique Barcodes:\" + str(n_barcodes))\n",
    "print(\"Total Trenches:\" + str(n_trenches))"
   ]
  },
  {
   "cell_type": "code",
   "execution_count": null,
   "id": "4b5e901e-7fb4-43b0-aea7-15b659fa86ad",
   "metadata": {},
   "outputs": [],
   "source": [
    "fig = plt.figure(figsize=(12, 8))\n",
    "\n",
    "plt.hist(\n",
    "    called_df[called_df[\"dark_gfp\"] == True][\"Measured GFP Ratio\"],\n",
    "    range=(0, 10),\n",
    "    bins=50,\n",
    "    color=\"grey\",\n",
    "    alpha=0.7,\n",
    "    label=\"Predicted Dark GFP\",\n",
    "    density=False,\n",
    ")\n",
    "plt.hist(\n",
    "    called_df[called_df[\"dark_gfp\"] == False][\"Measured GFP Ratio\"],\n",
    "    range=(0, 10),\n",
    "    bins=50,\n",
    "    color=\"green\",\n",
    "    alpha=0.7,\n",
    "    label=\"Predicted GFP\",\n",
    "    density=False,\n",
    ")\n",
    "plt.xlabel(\"Lineage GFP/mCherry Intensity Ratio\", fontsize=20)\n",
    "plt.ylabel(\"Lineages\", fontsize=20)\n",
    "plt.xticks(fontsize=20)\n",
    "plt.yticks(fontsize=20)\n",
    "plt.legend(fontsize=20)\n",
    "plt.savefig(\n",
    "    \"./GFP_Threshold_Distribution_2_hamming_1.png\", dpi=300, bbox_inches=\"tight\"\n",
    ")\n",
    "plt.show()"
   ]
  },
  {
   "cell_type": "code",
   "execution_count": null,
   "id": "780a3016-7275-4fcd-b3f0-c1384de9589e",
   "metadata": {},
   "outputs": [],
   "source": [
    "dask_controller.shutdown()"
   ]
  }
 ],
 "metadata": {
  "kernelspec": {
   "display_name": "Python 3",
   "language": "python",
   "name": "python3"
  },
  "language_info": {
   "codemirror_mode": {
    "name": "ipython",
    "version": 3
   },
   "file_extension": ".py",
   "mimetype": "text/x-python",
   "name": "python",
   "nbconvert_exporter": "python",
   "pygments_lexer": "ipython3",
   "version": "3.8.5"
  }
 },
 "nbformat": 4,
 "nbformat_minor": 5
}
