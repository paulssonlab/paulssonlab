{
 "cells": [
  {
   "cell_type": "code",
   "execution_count": null,
   "id": "cf56c4c7-b614-41ee-8a4c-2242b67889d2",
   "metadata": {},
   "outputs": [],
   "source": [
    "import bokeh\n",
    "from bokeh.plotting import show\n",
    "import matplotlib.pyplot as plt\n",
    "\n",
    "import flowkit as fk\n",
    "\n",
    "bokeh.io.output_notebook()\n",
    "%matplotlib inline\n",
    "\n",
    "_ = plt.ioff()"
   ]
  },
  {
   "cell_type": "code",
   "execution_count": null,
   "id": "3ca5bc1a-f4ed-487a-a4de-9bd20985f44f",
   "metadata": {},
   "outputs": [],
   "source": [
    "# check version so users can verify they have the same version/API\n",
    "fk.__version__"
   ]
  },
  {
   "cell_type": "code",
   "execution_count": null,
   "id": "fe63994e-ce99-4704-8ff5-4bb0598e5011",
   "metadata": {},
   "outputs": [],
   "source": [
    "nlim_sample = fk.Sample(\"./Specimen_001_MBM_Glucose_NLim_RunOut.fcs\")\n",
    "mbm_sample = fk.Sample(\"./Specimen_001_MBM_Glucose_RunOut.fcs\")\n",
    "ezrdm_sample = fk.Sample(\"./Specimen_001_EZRDM_Glucose_RunOut.fcs\")"
   ]
  },
  {
   "cell_type": "code",
   "execution_count": null,
   "id": "a7aa787c-0f8a-4389-a884-0e29a003d769",
   "metadata": {},
   "outputs": [],
   "source": [
    "nlim_sample"
   ]
  },
  {
   "cell_type": "code",
   "execution_count": null,
   "id": "3aa35f94-c868-4c97-a14c-8a3c0640618e",
   "metadata": {},
   "outputs": [],
   "source": [
    "nlim_sample.version"
   ]
  },
  {
   "cell_type": "code",
   "execution_count": null,
   "id": "addac003-2958-41f0-8752-02bddac33379",
   "metadata": {},
   "outputs": [],
   "source": [
    "nlim_sample.channels"
   ]
  },
  {
   "cell_type": "code",
   "execution_count": null,
   "id": "08e401aa-abd9-40e6-8827-89a5c83f4285",
   "metadata": {},
   "outputs": [],
   "source": [
    "p = nlim_sample.plot_scatter(\n",
    "    \"FSC-H\",\n",
    "    \"SSC-H\",\n",
    "    source=\"raw\",\n",
    "    subsample=False,\n",
    "    x_min=0,\n",
    "    x_max=4000,\n",
    "    y_min=0,\n",
    "    y_max=2000,\n",
    ")\n",
    "show(p)"
   ]
  },
  {
   "cell_type": "code",
   "execution_count": null,
   "id": "48724e00-aaff-4304-b2af-7f8d1d400af6",
   "metadata": {},
   "outputs": [],
   "source": [
    "f.plot()"
   ]
  },
  {
   "cell_type": "code",
   "execution_count": null,
   "id": "b5d92779-2d9b-4688-8055-eadf89bf3ef6",
   "metadata": {},
   "outputs": [],
   "source": [
    "hist = nlim_sample.plot_histogram(\n",
    "    \"GFP-H\",\n",
    "    source=\"raw\",\n",
    "    bins=500,\n",
    ")\n",
    "show(hist)\n",
    "hist = mbm_sample.plot_histogram(\n",
    "    \"GFP-H\",\n",
    "    source=\"raw\",\n",
    "    bins=500,\n",
    ")\n",
    "show(hist)\n",
    "hist = ezrdm_sample.plot_histogram(\n",
    "    \"GFP-H\",\n",
    "    source=\"raw\",\n",
    "    bins=500,\n",
    ")\n",
    "show(hist)"
   ]
  },
  {
   "cell_type": "code",
   "execution_count": null,
   "id": "7f267bf6-2e4b-4704-8504-b5de7d309de8",
   "metadata": {},
   "outputs": [],
   "source": [
    "hist = nlim_sample.plot_histogram(\n",
    "    \"GFP-A\",\n",
    "    source=\"raw\",\n",
    "    bins=500,\n",
    ")\n",
    "show(hist)\n",
    "hist = mbm_sample.plot_histogram(\n",
    "    \"GFP-A\",\n",
    "    source=\"raw\",\n",
    "    bins=500,\n",
    ")\n",
    "show(hist)\n",
    "hist = ezrdm_sample.plot_histogram(\n",
    "    \"GFP-A\",\n",
    "    source=\"raw\",\n",
    "    bins=500,\n",
    ")\n",
    "show(hist)"
   ]
  },
  {
   "cell_type": "code",
   "execution_count": null,
   "id": "ba530a2b-954f-4874-b8b6-c6c7fa4ec6a0",
   "metadata": {},
   "outputs": [],
   "source": [
    "hist = ezrdm_sample.plot_histogram(\n",
    "    \"GFP-H\",\n",
    "    source=\"raw\",\n",
    "    bins=500,\n",
    ")\n",
    "show(hist)"
   ]
  },
  {
   "cell_type": "code",
   "execution_count": null,
   "id": "33ba9f2a-7b18-4176-938b-fc3594bc1ca5",
   "metadata": {},
   "outputs": [],
   "source": []
  }
 ],
 "metadata": {
  "kernelspec": {
   "display_name": "Python 3 (ipykernel)",
   "language": "python",
   "name": "python3"
  },
  "language_info": {
   "codemirror_mode": {
    "name": "ipython",
    "version": 3
   },
   "file_extension": ".py",
   "mimetype": "text/x-python",
   "name": "python",
   "nbconvert_exporter": "python",
   "pygments_lexer": "ipython3",
   "version": "3.10.2"
  }
 },
 "nbformat": 4,
 "nbformat_minor": 5
}
