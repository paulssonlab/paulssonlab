{
 "cells": [
  {
   "cell_type": "code",
   "execution_count": null,
   "metadata": {},
   "outputs": [],
   "source": [
    "from sequin import sequin\n",
    "from importlib import reload\n",
    "import pathlib\n",
    "\n",
    "reload(sequin)\n",
    "\n",
    "cl = sequin.record()"
   ]
  },
  {
   "cell_type": "code",
   "execution_count": null,
   "metadata": {},
   "outputs": [],
   "source": [
    "cloning = pathlib.Path(\"./Cloning\")\n",
    "\n",
    "cl.add_oligos(cloning / \"oligos.tsv\")\n",
    "cl.add_gb(cloning / \"Sequences/U00096v3.gb\", name=\"MG1655\")"
   ]
  },
  {
   "cell_type": "code",
   "execution_count": null,
   "metadata": {},
   "outputs": [],
   "source": [
    "output_features = []\n",
    "for feature in cl.sequences[\"MG1655\"].features:\n",
    "    if \"gene\" in feature.qualifiers:\n",
    "        feature.qualifiers[\"label\"] = feature.qualifiers[\"gene\"]\n",
    "    if feature.type != \"gene\":\n",
    "        output_features.append(feature)\n",
    "cl.sequences[\"MG1655\"].features = output_features"
   ]
  },
  {
   "cell_type": "markdown",
   "metadata": {},
   "source": [
    "# RpoS and CpxR\n",
    "* RpoS(Y283D): A2866705C (TAC becomes GAC) \n",
    "* RpoS(Q320P): A2866593C (CAG becomes CCG)\n",
    "* CpxR(L88H): T4105408A (CTC becomes CAC)\n",
    "\n",
    "### RpoS(Y283D)"
   ]
  },
  {
   "cell_type": "code",
   "execution_count": null,
   "metadata": {},
   "outputs": [],
   "source": [
    "mutation = \"A2866705C\"\n",
    "position = int(mutation[1:-1])"
   ]
  },
  {
   "cell_type": "code",
   "execution_count": null,
   "metadata": {},
   "outputs": [],
   "source": [
    "# Find coordinates of the gene\n",
    "rpoS_gene = cl.find_features(\"MG1655\", \"rpoS\", plot=False)"
   ]
  },
  {
   "cell_type": "code",
   "execution_count": null,
   "metadata": {},
   "outputs": [],
   "source": [
    "cl.show_sequence(\n",
    "    \"MG1655\",\n",
    "    (position - 40, position + 40),\n",
    "    highlight=(position - 1, position),\n",
    "    translate=rpoS_gene,\n",
    "    strand=-1,\n",
    ")"
   ]
  },
  {
   "cell_type": "code",
   "execution_count": null,
   "metadata": {},
   "outputs": [],
   "source": [
    "cl.point_mutation(\"MG1655\", mutation, name=\"MG_RpoS\")\n",
    "cl.show_sequence(\n",
    "    \"MG_RpoS\",\n",
    "    (position - 40, position + 40),\n",
    "    highlight=(position - 1, position),\n",
    "    translate=rpoS_gene,\n",
    "    strand=-1,\n",
    ")"
   ]
  },
  {
   "cell_type": "markdown",
   "metadata": {},
   "source": [
    "## Mutagenic oligo"
   ]
  },
  {
   "cell_type": "code",
   "execution_count": null,
   "metadata": {},
   "outputs": [],
   "source": [
    "# Find lagging strand\n",
    "ori_position = 3925743\n",
    "terc_position = 1607181"
   ]
  },
  {
   "cell_type": "code",
   "execution_count": null,
   "metadata": {},
   "outputs": [],
   "source": [
    "# Find the potential homology site\n",
    "binding_site = cl.sequences[\"MG_RpoS\"][position - 45 : position + 45]\n",
    "\n",
    "# Make sure it's complementary to the lagging strand\n",
    "if terc_position < position < ori_position:\n",
    "    oseq = str(binding_site.seq)\n",
    "else:\n",
    "    oseq = str(binding_site.seq.reverse_complement())\n",
    "\n",
    "# Add 2 phosphorothioate bonds in 5' to escape nucleases\n",
    "oligo = oseq[0] + \"*\" + oseq[1] + \"*\" + oseq[2:]\n",
    "\n",
    "# Create the mutagenic oligo\n",
    "cl.new_oligos(oligo, \"DE\")"
   ]
  },
  {
   "cell_type": "markdown",
   "metadata": {},
   "source": [
    "## Screening and sequencing"
   ]
  },
  {
   "cell_type": "code",
   "execution_count": null,
   "metadata": {},
   "outputs": [],
   "source": [
    "# Little hack to generate mutation-screening primers\n",
    "seq_f, oli_r = cl.make_primers(\"MG_RpoS\", (position - 300, position), plot=False)\n",
    "oli_f, seq_r = cl.make_primers(\"MG_RpoS\", (position - 1, position + 400), plot=False)\n",
    "screen_r = oli_f.reverse_complement()\n",
    "screen_f = oli_r.reverse_complement()"
   ]
  },
  {
   "cell_type": "code",
   "execution_count": null,
   "metadata": {},
   "outputs": [],
   "source": [
    "# Make new oligos and store them in a dict variable\n",
    "rpoS_screening = cl.new_oligos([seq_f, screen_r, screen_f, seq_r], \"DE\")"
   ]
  },
  {
   "cell_type": "code",
   "execution_count": null,
   "metadata": {},
   "outputs": [],
   "source": [
    "# Check specificity\n",
    "print(cl.find_primers(\"MG1655\", oligos=rpoS_screening, plot=False))\n",
    "print()\n",
    "print(cl.find_primers(\"MG_RpoS\", oligos=rpoS_screening, plot=False))"
   ]
  },
  {
   "cell_type": "code",
   "execution_count": null,
   "metadata": {},
   "outputs": [],
   "source": [
    "# Simulate the PCRs\n",
    "print(\"# Screening\")\n",
    "cl.pcr(\"MG_RpoS\", \"DE2\", \"DE3\", lim=18)\n",
    "cl.pcr(\"MG_RpoS\", \"DE4\", \"DE5\", lim=18)\n",
    "print(\"\\n# Sequencing\")\n",
    "cl.pcr(\"MG_RpoS\", \"DE2\", \"DE5\")"
   ]
  },
  {
   "cell_type": "code",
   "execution_count": null,
   "metadata": {},
   "outputs": [],
   "source": [
    "# Counter-screening oligos\n",
    "seq_f, oli_r = cl.make_primers(\"MG1655\", (position - 300, position), plot=False)\n",
    "oli_f, seq_r = cl.make_primers(\"MG1655\", (position - 1, position + 400), plot=False)\n",
    "screen_r = oli_f.reverse_complement()\n",
    "screen_f = oli_r.reverse_complement()\n",
    "\n",
    "# Make new oligos and store them in a dict variable\n",
    "screening = cl.new_oligos([screen_r, screen_f], \"DE\")\n",
    "\n",
    "# Check specificity\n",
    "print()\n",
    "print(cl.find_primers(\"MG1655\", oligos=screening, plot=False))\n",
    "print()\n",
    "print(cl.find_primers(\"MG_RpoS\", oligos=screening, plot=False))"
   ]
  },
  {
   "cell_type": "code",
   "execution_count": null,
   "metadata": {},
   "outputs": [],
   "source": [
    "# Simulate the PCRs\n",
    "cl.pcr(\"MG1655\", \"DE2\", \"DE6\", lim=18)\n",
    "cl.pcr(\"MG1655\", \"DE7\", \"DE5\", lim=18)"
   ]
  },
  {
   "cell_type": "code",
   "execution_count": null,
   "metadata": {},
   "outputs": [],
   "source": []
  }
 ],
 "metadata": {
  "kernelspec": {
   "display_name": "Python 3",
   "language": "python",
   "name": "python3"
  },
  "language_info": {
   "codemirror_mode": {
    "name": "ipython",
    "version": 3
   },
   "file_extension": ".py",
   "mimetype": "text/x-python",
   "name": "python",
   "nbconvert_exporter": "python",
   "pygments_lexer": "ipython3",
   "version": "3.7.3"
  }
 },
 "nbformat": 4,
 "nbformat_minor": 4
}
