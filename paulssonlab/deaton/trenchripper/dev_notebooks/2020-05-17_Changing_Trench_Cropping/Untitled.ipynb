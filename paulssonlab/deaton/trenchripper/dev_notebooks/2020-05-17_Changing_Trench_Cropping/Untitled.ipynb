{
 "cells": [
  {
   "cell_type": "code",
   "execution_count": null,
   "metadata": {},
   "outputs": [],
   "source": [
    "import paulssonlab.deaton.trenchripper.trenchripper as tr\n",
    "\n",
    "import warnings\n",
    "\n",
    "warnings.filterwarnings(action=\"once\")\n",
    "\n",
    "import matplotlib\n",
    "\n",
    "matplotlib.rcParams[\"figure.figsize\"] = [20, 10]"
   ]
  },
  {
   "cell_type": "code",
   "execution_count": null,
   "metadata": {},
   "outputs": [],
   "source": [
    "with open(\"./memefile\", \"r\") as infile:\n",
    "    print(infile)"
   ]
  },
  {
   "cell_type": "code",
   "execution_count": null,
   "metadata": {},
   "outputs": [],
   "source": [
    "import h5py_cache\n",
    "import numpy as np"
   ]
  },
  {
   "cell_type": "code",
   "execution_count": null,
   "metadata": {},
   "outputs": [],
   "source": [
    "headpath = \"/n/scratch2/de64/2020-03-02_plasmid_loss/\"\n",
    "nd2file = \"/n/scratch2/de64/2020-03-02_plasmid_loss/Basilisk_SJC25x2_SJC28_Losses.nd2\""
   ]
  },
  {
   "cell_type": "code",
   "execution_count": null,
   "metadata": {},
   "outputs": [],
   "source": [
    "kymoclust = tr.kymograph.kymograph_cluster(\n",
    "    headpath=headpath, trenches_per_file=25, paramfile=True\n",
    ")"
   ]
  },
  {
   "cell_type": "code",
   "execution_count": null,
   "metadata": {},
   "outputs": [],
   "source": [
    "fovdf = kymoclust.meta_handle.read_df(\"global\", read_metadata=True)\n",
    "kymoclust.metadata = fovdf.metadata"
   ]
  },
  {
   "cell_type": "code",
   "execution_count": null,
   "metadata": {},
   "outputs": [],
   "source": [
    "trench_edges_y_list = []\n",
    "for f in range(6):\n",
    "    smoothed_y = kymoclust.get_smoothed_y_percentiles(\n",
    "        0, kymoclust.y_percentile, kymoclust.smoothing_kernel_y\n",
    "    )\n",
    "    trench_edges_y = kymoclust.get_trench_edges_y(\n",
    "        smoothed_y, kymoclust.y_percentile_threshold, kymoclust.y_min_edge_dist\n",
    "    )\n",
    "    trench_edges_y_list.append(trench_edges_y)"
   ]
  },
  {
   "cell_type": "code",
   "execution_count": null,
   "metadata": {},
   "outputs": [],
   "source": [
    "working_fovdf = fovdf.loc[0]\n",
    "working_files = working_fovdf[\"File Index\"].unique().tolist()"
   ]
  },
  {
   "cell_type": "code",
   "execution_count": null,
   "metadata": {},
   "outputs": [],
   "source": [
    "working_files"
   ]
  },
  {
   "cell_type": "code",
   "execution_count": null,
   "metadata": {},
   "outputs": [],
   "source": [
    "drift_orientation_and_initend = kymoclust.get_ends_and_orientations(\n",
    "    0,\n",
    "    trench_edges_y_list,\n",
    "    kymoclust.expected_num_rows,\n",
    "    kymoclust.alternate_orientation,\n",
    "    kymoclust.top_orientation,\n",
    "    kymoclust.orientation_on_fail,\n",
    "    kymoclust.y_min_edge_dist,\n",
    "    kymoclust.padding_y,\n",
    "    kymoclust.trench_len_y,\n",
    ")"
   ]
  },
  {
   "cell_type": "code",
   "execution_count": null,
   "metadata": {},
   "outputs": [],
   "source": [
    "drift_orientation_and_initend"
   ]
  },
  {
   "cell_type": "code",
   "execution_count": null,
   "metadata": {},
   "outputs": [],
   "source": [
    "midpoint_futures_list = []\n",
    "for f in range(6):\n",
    "    smoothed_x_future = kymoclust.get_smoothed_x_percentiles(\n",
    "        f,\n",
    "        drift_orientation_and_initend,\n",
    "        kymoclust.padding_y,\n",
    "        kymoclust.trench_len_y,\n",
    "        kymoclust.x_percentile,\n",
    "        kymoclust.background_kernel_x,\n",
    "        kymoclust.smoothing_kernel_x,\n",
    "    )\n",
    "    midpoint_futures = kymoclust.get_x_midpoints(\n",
    "        smoothed_x_future, kymoclust.otsu_scaling, kymoclust.min_threshold\n",
    "    )\n",
    "    midpoint_futures_list.append(midpoint_futures)"
   ]
  },
  {
   "cell_type": "code",
   "execution_count": null,
   "metadata": {},
   "outputs": [],
   "source": [
    "x_drift = kymoclust.get_x_drift(midpoint_futures_list)"
   ]
  },
  {
   "cell_type": "code",
   "execution_count": null,
   "metadata": {},
   "outputs": [],
   "source": [
    "in_bounds_future = kymoclust.get_all_in_bounds(\n",
    "    midpoint_futures_list, x_drift, 15, kymoclust.trench_present_thr\n",
    ")"
   ]
  },
  {
   "cell_type": "code",
   "execution_count": null,
   "metadata": {},
   "outputs": [],
   "source": [
    "fovdf = kymoclust.meta_handle.read_df(\"global\", read_metadata=False)\n",
    "filedf = fovdf.reset_index(inplace=False)\n",
    "filedf = filedf.set_index(\n",
    "    [\"File Index\", \"Image Index\"], drop=True, append=False, inplace=False\n",
    ")\n",
    "filedf = filedf.sort_index()\n",
    "working_filedf = filedf.loc[0]\n",
    "\n",
    "timepoint_indices = working_filedf[\"timepoints\"].unique().tolist()\n",
    "image_indices = working_filedf.index.get_level_values(\"Image Index\").unique().tolist()\n",
    "first_idx, last_idx = (timepoint_indices[0], timepoint_indices[-1])  # CHANGED\n",
    "channel_arr_list, lane_y_coords_list = kymoclust.crop_y(\n",
    "    0, drift_orientation_and_initend, kymoclust.padding_y, kymoclust.trench_len_y\n",
    ")\n",
    "num_rows = channel_arr_list[0].shape[1]\n",
    "in_bounds_list, x_coords_list, k_tot_list = in_bounds_future"
   ]
  },
  {
   "cell_type": "code",
   "execution_count": null,
   "metadata": {},
   "outputs": [],
   "source": [
    "with h5py_cache.File(\n",
    "    kymoclust.kymographpath + \"/kymograph_processed_\" + str(0) + \".hdf5\",\n",
    "    \"w\",\n",
    "    chunk_cache_mem_size=kymoclust.output_chunk_cache_mem_size,\n",
    ") as output_kymograph:\n",
    "    for row_num in range(num_rows):\n",
    "        in_bounds, k_tot = (in_bounds_list[row_num], k_tot_list[row_num])\n",
    "        working_in_bounds = in_bounds[:, first_idx : last_idx + 1]\n",
    "        #                 kymo_mask = self.get_trench_mask(in_bounds[:,first_idx:last_idx+1],counting_arr)\n",
    "        kymoclust.crop_with_bounds(\n",
    "            output_kymograph, channel_arr_list, working_in_bounds, k_tot, row_num\n",
    "        )"
   ]
  },
  {
   "cell_type": "code",
   "execution_count": null,
   "metadata": {},
   "outputs": [],
   "source": [
    "import h5py"
   ]
  },
  {
   "cell_type": "code",
   "execution_count": null,
   "metadata": {},
   "outputs": [],
   "source": [
    "with h5py.File(\n",
    "    kymoclust.kymographpath + \"/kymograph_processed_\" + str(0) + \".hdf5\", \"r\"\n",
    ") as infile:\n",
    "    print(infile[\"0/YFP\"].shape)\n",
    "    data = infile[\"0/YFP\"][:]"
   ]
  },
  {
   "cell_type": "code",
   "execution_count": null,
   "metadata": {},
   "outputs": [],
   "source": [
    "temp = tr.kymo_handle()"
   ]
  },
  {
   "cell_type": "code",
   "execution_count": null,
   "metadata": {},
   "outputs": [],
   "source": [
    "temp.import_wrap(data[50])"
   ]
  },
  {
   "cell_type": "code",
   "execution_count": null,
   "metadata": {},
   "outputs": [],
   "source": [
    "from matplotlib import pyplot as plt\n",
    "\n",
    "plt.imshow(temp.return_unwrap())"
   ]
  },
  {
   "cell_type": "code",
   "execution_count": null,
   "metadata": {},
   "outputs": [],
   "source": []
  },
  {
   "cell_type": "code",
   "execution_count": null,
   "metadata": {},
   "outputs": [],
   "source": []
  },
  {
   "cell_type": "code",
   "execution_count": null,
   "metadata": {},
   "outputs": [],
   "source": [
    "for k in range(in_bounds_list[0].shape[1]):\n",
    "    for t in range(50):\n",
    "        bounds = in_bounds_list[0][:, k, t]\n",
    "        output = channel_arr_list[0][:, 0][t, :, bounds[0] : bounds[1]]\n",
    "        pass"
   ]
  },
  {
   "cell_type": "code",
   "execution_count": null,
   "metadata": {},
   "outputs": [],
   "source": []
  },
  {
   "cell_type": "code",
   "execution_count": null,
   "metadata": {},
   "outputs": [],
   "source": []
  },
  {
   "cell_type": "code",
   "execution_count": null,
   "metadata": {},
   "outputs": [],
   "source": [
    "def crop_x(\n",
    "    self,\n",
    "    file_idx,\n",
    "    drift_orientation_and_initend_future,\n",
    "    in_bounds_future,\n",
    "    padding_y,\n",
    "    trench_len_y,\n",
    "):\n",
    "    \"\"\"Generates complete kymograph arrays for all trenches in the fov in\n",
    "    every channel listed in 'self.all_channels'. Writes hdf5 files\n",
    "    containing datasets of shape (trench_num,y_dim,x_dim,t_dim) for each\n",
    "    row,channel combination. Dataset keys follow the convention.\n",
    "\n",
    "    [\"[row_number]/[channel_name]\"].\n",
    "\n",
    "    Args:\n",
    "        cropped_in_y_handle (h5py.File): Hdf5 file handle corresponding to the y-cropped hdf5 dataset\n",
    "        \"data\" of shape (rows,channels,x,y,t).\n",
    "        all_midpoints_list (list): A nested list of the form [row_list,[time_list,[midpoint_array]]] containing\n",
    "        the trench midpoints.\n",
    "        x_drift_list (list): A nested list of the form [row_list,[time_list,[x_drift_int]]] containing the computed\n",
    "        drift in the x dimension.\n",
    "        trench_width_x (int): Width to be used when cropping in the x-dimension.\n",
    "    \"\"\"\n",
    "    fovdf = self.meta_handle.read_df(\"global\", read_metadata=False)\n",
    "    #         fovdf = fovdf.loc[(slice(None), slice(self.t_range[0],self.t_range[1])),:]\n",
    "    filedf = fovdf.reset_index(inplace=False)\n",
    "    filedf = filedf.set_index(\n",
    "        [\"File Index\", \"Image Index\"], drop=True, append=False, inplace=False\n",
    "    )\n",
    "    filedf = filedf.sort_index()\n",
    "    working_filedf = filedf.loc[file_idx]\n",
    "\n",
    "    timepoint_indices = working_filedf[\"timepoints\"].unique().tolist()\n",
    "    image_indices = (\n",
    "        working_filedf.index.get_level_values(\"Image Index\").unique().tolist()\n",
    "    )\n",
    "    #         first_idx,last_idx = (timepoint_indices[0]-self.t_range[0],timepoint_indices[-1]-self.t_range[0])  #CHANGED\n",
    "    first_idx, last_idx = (timepoint_indices[0], timepoint_indices[-1])  # CHANGED\n",
    "\n",
    "    channel_arr_list, lane_y_coords_list = self.crop_y(\n",
    "        file_idx, drift_orientation_and_initend_future, padding_y, trench_len_y\n",
    "    )\n",
    "    num_rows = channel_arr_list[0].shape[1]\n",
    "\n",
    "    in_bounds_list, x_coords_list, k_tot_list = in_bounds_future\n",
    "    counting_arr = self.init_counting_arr(self.metadata[\"width\"])\n",
    "\n",
    "    with h5py_cache.File(\n",
    "        self.kymographpath + \"/kymograph_processed_\" + str(file_idx) + \".hdf5\",\n",
    "        \"w\",\n",
    "        chunk_cache_mem_size=self.output_chunk_cache_mem_size,\n",
    "    ) as output_kymograph:\n",
    "        for row_num in range(num_rows):\n",
    "            in_bounds, k_tot = (in_bounds_list[row_num], k_tot_list[row_num])\n",
    "            kymo_mask = self.get_trench_mask(\n",
    "                in_bounds[:, first_idx : last_idx + 1], counting_arr\n",
    "            )\n",
    "\n",
    "            self.crop_with_k_masks(\n",
    "                output_kymograph, channel_arr_list, kymo_mask, k_tot, row_num\n",
    "            )\n",
    "\n",
    "    return lane_y_coords_list"
   ]
  },
  {
   "cell_type": "code",
   "execution_count": null,
   "metadata": {},
   "outputs": [],
   "source": []
  },
  {
   "cell_type": "code",
   "execution_count": null,
   "metadata": {},
   "outputs": [],
   "source": []
  },
  {
   "cell_type": "code",
   "execution_count": null,
   "metadata": {},
   "outputs": [],
   "source": []
  },
  {
   "cell_type": "code",
   "execution_count": null,
   "metadata": {},
   "outputs": [],
   "source": []
  },
  {
   "cell_type": "code",
   "execution_count": null,
   "metadata": {},
   "outputs": [],
   "source": [
    "        ### smoothed y percentiles ###\n",
    "\n",
    "        for k,file_idx in enumerate(file_list):\n",
    "            future = dask_controller.daskclient.submit(self.get_smoothed_y_percentiles,file_idx,\\\n",
    "                                        self.y_percentile,self.smoothing_kernel_y,retries=1)\n",
    "            dask_controller.futures[\"Smoothed Y Percentiles: \" + str(file_idx)] = future\n",
    "\n",
    "        ### get trench row edges, y midpoints ###\n",
    "\n",
    "        for k,file_idx in enumerate(file_list):\n",
    "            smoothed_y_future = dask_controller.futures[\"Smoothed Y Percentiles: \" + str(file_idx)]\n",
    "            future = dask_controller.daskclient.submit(self.get_trench_edges_y,smoothed_y_future,self.y_percentile_threshold,\\\n",
    "                                                       self.y_min_edge_dist,retries=1)\n",
    "\n",
    "            dask_controller.futures[\"Y Trench Edges: \" + str(file_idx)] = future\n",
    "\n",
    "        ### get y drift, orientations, init edges ###\n",
    "\n",
    "        for k,fov_idx in enumerate(fov_list):\n",
    "            working_fovdf = fovdf.loc[fov_idx]\n",
    "            working_files = working_fovdf[\"File Index\"].unique().tolist()\n",
    "            edges_futures = [dask_controller.futures[\"Y Trench Edges: \" + str(file_idx)] for file_idx in working_files]\n",
    "            future = dask_controller.daskclient.submit(self.get_ends_and_orientations,fov_idx,edges_futures,self.expected_num_rows,self.alternate_orientation,\\\n",
    "                                                       self.top_orientation,self.orientation_on_fail,self.y_min_edge_dist,self.padding_y,self.trench_len_y,retries=1)\n",
    "            dask_controller.futures[\"Y Trench Drift, Orientations and Initial Trench Ends: \" + str(fov_idx)] = future\n",
    "\n",
    "        ### smoothed x percentiles ###\n",
    "\n",
    "        for k,file_idx in enumerate(file_list):\n",
    "            working_filedf = filedf.loc[file_idx]\n",
    "            fov_idx = working_filedf[\"fov\"].unique().tolist()[0]\n",
    "            drift_orientation_and_initend_future = dask_controller.futures[\"Y Trench Drift, Orientations and Initial Trench Ends: \" + str(fov_idx)]\n",
    "            future = dask_controller.daskclient.submit(self.get_smoothed_x_percentiles,file_idx,drift_orientation_and_initend_future,\\\n",
    "                                                       self.padding_y,self.trench_len_y,self.x_percentile,self.background_kernel_x,\\\n",
    "                                                       self.smoothing_kernel_x,retries=1)\n",
    "            dask_controller.futures[\"Smoothed X Percentiles: \" + str(file_idx)] = future\n",
    "\n",
    "        ### get x midpoints ###\n",
    "\n",
    "        for k,file_idx in enumerate(file_list):\n",
    "            smoothed_x_future = dask_controller.futures[\"Smoothed X Percentiles: \" + str(file_idx)]\n",
    "            future = dask_controller.daskclient.submit(self.get_x_midpoints,smoothed_x_future,\\\n",
    "                                                       self.otsu_scaling,self.min_threshold,retries=1)\n",
    "            dask_controller.futures[\"X Midpoints: \" + str(file_idx)] = future\n",
    "\n",
    "        ### get x drift ###\n",
    "\n",
    "        for k,fov_idx in enumerate(fov_list):\n",
    "            working_fovdf = fovdf.loc[fov_idx]\n",
    "            working_files = working_fovdf[\"File Index\"].unique().tolist()\n",
    "            midpoint_futures = [dask_controller.futures[\"X Midpoints: \" + str(file_idx)] for file_idx in working_files]\n",
    "            future = dask_controller.daskclient.submit(self.get_x_drift,midpoint_futures,retries=1)\n",
    "            dask_controller.futures[\"X Drift: \" + str(fov_idx)] = future\n",
    "\n",
    "        ### get kymograph masks ###\n",
    "\n",
    "        for k,fov_idx in enumerate(fov_list):\n",
    "            working_fovdf = fovdf.loc[fov_idx]\n",
    "            working_files = working_fovdf[\"File Index\"].unique().tolist()\n",
    "            midpoint_futures = [dask_controller.futures[\"X Midpoints: \" + str(file_idx)] for file_idx in working_files]\n",
    "            x_drift_future = dask_controller.futures[\"X Drift: \" + str(fov_idx)]\n",
    "            future = dask_controller.daskclient.submit(self.get_all_in_bounds,midpoint_futures,x_drift_future,\\\n",
    "                                                self.trench_width_x,self.trench_present_thr,retries=1)\n",
    "            dask_controller.futures[\"X In Bounds: \" + str(fov_idx)] = future\n",
    "\n",
    "        ### crop in x ###\n",
    "\n",
    "\n",
    "        for k,file_idx in enumerate(file_list):\n",
    "            working_filedf = filedf.loc[file_idx]\n",
    "            fov_idx = working_filedf[\"fov\"].unique().tolist()[0]\n",
    "            drift_orientation_and_initend_future = dask_controller.futures[\"Y Trench Drift, Orientations and Initial Trench Ends: \" + str(fov_idx)]\n",
    "            in_bounds_future = dask_controller.futures[\"X In Bounds: \" + str(fov_idx)]\n",
    "\n",
    "            future = dask_controller.daskclient.submit(self.crop_x,file_idx,drift_orientation_and_initend_future,in_bounds_future,self.padding_y,self.trench_len_y,retries=0)\n",
    "            dask_controller.futures[\"X Crop: \" + str(file_idx)] = future\n",
    "\n",
    "        ### get coords ###\n",
    "\n",
    "        for k,fov_idx in enumerate(fov_list):\n",
    "            working_fovdf = fovdf.loc[fov_idx]\n",
    "            working_files = working_fovdf[\"File Index\"].unique().tolist()\n",
    "            x_crop_futures = [dask_controller.futures[\"X Crop: \" + str(file_idx)] for file_idx in working_files]\n",
    "            in_bounds_future = dask_controller.futures[\"X In Bounds: \" + str(fov_idx)]\n",
    "            drift_orientation_and_initend_future = dask_controller.futures[\"Y Trench Drift, Orientations and Initial Trench Ends: \" + str(fov_idx)]\n",
    "\n",
    "            future = dask_controller.daskclient.submit(self.save_coords,fov_idx,x_crop_futures,in_bounds_future,drift_orientation_and_initend_future,retries=1)#,priority=priority)\n",
    "            dask_controller.futures[\"Coords: \" + str(fov_idx)] = future"
   ]
  },
  {
   "cell_type": "code",
   "execution_count": null,
   "metadata": {},
   "outputs": [],
   "source": []
  },
  {
   "cell_type": "code",
   "execution_count": null,
   "metadata": {},
   "outputs": [],
   "source": []
  },
  {
   "cell_type": "code",
   "execution_count": null,
   "metadata": {},
   "outputs": [],
   "source": []
  },
  {
   "cell_type": "code",
   "execution_count": null,
   "metadata": {},
   "outputs": [],
   "source": []
  }
 ],
 "metadata": {
  "kernelspec": {
   "display_name": "Python 3",
   "language": "python",
   "name": "python3"
  },
  "language_info": {
   "codemirror_mode": {
    "name": "ipython",
    "version": 3
   },
   "file_extension": ".py",
   "mimetype": "text/x-python",
   "name": "python",
   "nbconvert_exporter": "python",
   "pygments_lexer": "ipython3",
   "version": "3.7.6"
  }
 },
 "nbformat": 4,
 "nbformat_minor": 4
}
