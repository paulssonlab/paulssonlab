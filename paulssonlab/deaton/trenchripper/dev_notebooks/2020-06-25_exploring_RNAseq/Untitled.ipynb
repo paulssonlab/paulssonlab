{
 "cells": [
  {
   "cell_type": "code",
   "execution_count": null,
   "metadata": {},
   "outputs": [],
   "source": [
    "import pandas as pd\n",
    "import numpy as np\n",
    "from sklearn.cluster import KMeans\n",
    "from matplotlib import pyplot as plt"
   ]
  },
  {
   "cell_type": "code",
   "execution_count": null,
   "metadata": {},
   "outputs": [],
   "source": [
    "dsets = pd.read_csv(\"./dset_guide.csv\")"
   ]
  },
  {
   "cell_type": "code",
   "execution_count": null,
   "metadata": {},
   "outputs": [],
   "source": [
    "gly_dsets = dsets[dsets[\"experiment\"] == \"glycerol_time_course\"]\n",
    "dset_lookup = gly_dsets[[\"dataSet\", \"growthTime_hr\"]]\n",
    "dset_lookup = dset_lookup.reset_index(drop=True)"
   ]
  },
  {
   "cell_type": "code",
   "execution_count": null,
   "metadata": {},
   "outputs": [],
   "source": [
    "gly_dsets"
   ]
  },
  {
   "cell_type": "code",
   "execution_count": null,
   "metadata": {},
   "outputs": [],
   "source": [
    "dset_lookup[\"dataSet\"].tolist()"
   ]
  },
  {
   "cell_type": "code",
   "execution_count": null,
   "metadata": {},
   "outputs": [],
   "source": [
    "dset_dict = dset_lookup.set_index(\"dataSet\").to_dict()[\"growthTime_hr\"]\n",
    "dset_dict[\"Unnamed: 0\"] = 0.0"
   ]
  },
  {
   "cell_type": "code",
   "execution_count": null,
   "metadata": {},
   "outputs": [],
   "source": [
    "dset_dict"
   ]
  },
  {
   "cell_type": "code",
   "execution_count": null,
   "metadata": {},
   "outputs": [],
   "source": [
    "mrna_dset = pd.read_csv(\"./mrna_data.csv\")\n",
    "column_list = [\"Unnamed: 0\"] + dset_lookup[\"dataSet\"].tolist()\n",
    "column_list.remove(\"MURI_060\")\n",
    "column_list.remove(\"MURI_051\")\n",
    "mrna_dset = mrna_dset[column_list]\n",
    "dset_row = pd.DataFrame(mrna_dset.columns.tolist()).T\n",
    "dset_row.columns = mrna_dset.columns\n",
    "mrna_dset = pd.concat([dset_row, mrna_dset]).reset_index(drop=True)\n",
    "mrna_dset.loc[0] = mrna_dset.loc[0].apply(lambda x: dset_dict[x])\n",
    "mrna_dset = mrna_dset.transpose().reset_index(drop=True)\n",
    "\n",
    "variable_list = mrna_dset[0:1].values.tolist()[0]\n",
    "variable_list[0] = \"time\"\n",
    "\n",
    "mrna_dset.columns = variable_list\n",
    "mrna_dset = mrna_dset.drop(0).reset_index(drop=True)"
   ]
  },
  {
   "cell_type": "code",
   "execution_count": null,
   "metadata": {},
   "outputs": [],
   "source": [
    "mrna_dset[\"ECB_01243\"]"
   ]
  },
  {
   "cell_type": "code",
   "execution_count": null,
   "metadata": {},
   "outputs": [],
   "source": [
    "mrna_dset"
   ]
  },
  {
   "cell_type": "code",
   "execution_count": null,
   "metadata": {},
   "outputs": [],
   "source": [
    "tidy_mrna_dset = pd.melt(\n",
    "    mrna_dset, id_vars=[\"time\"], value_name=\"norm_count\", var_name=\"gene\"\n",
    ")"
   ]
  },
  {
   "cell_type": "code",
   "execution_count": null,
   "metadata": {},
   "outputs": [],
   "source": [
    "tidy_mrna_dset"
   ]
  },
  {
   "cell_type": "code",
   "execution_count": null,
   "metadata": {},
   "outputs": [],
   "source": [
    "gene_group = tidy_mrna_dset.groupby([\"gene\", \"time\"])\n",
    "mean_gene = gene_group.apply(lambda x: np.mean(x[\"norm_count\"]))\n",
    "mean_gene = pd.DataFrame(mean_gene)"
   ]
  },
  {
   "cell_type": "code",
   "execution_count": null,
   "metadata": {},
   "outputs": [],
   "source": [
    "mean_gene_group = mean_gene.groupby([\"gene\"])\n",
    "time_vectors = mean_gene_group.apply(lambda x: np.array(x[0]))\n",
    "time_vectors = np.array([item.tolist() for item in time_vectors.values])\n",
    "time_vectors = time_vectors[:, :-2]  # early stationary"
   ]
  },
  {
   "cell_type": "code",
   "execution_count": null,
   "metadata": {},
   "outputs": [],
   "source": [
    "plt.plot(mean_gene.loc[\"ECB_01243\"].values[:-2])"
   ]
  },
  {
   "cell_type": "code",
   "execution_count": null,
   "metadata": {},
   "outputs": [],
   "source": [
    "time_vectors"
   ]
  },
  {
   "cell_type": "code",
   "execution_count": null,
   "metadata": {},
   "outputs": [],
   "source": [
    "max_norm_time_vectors = (time_vectors - np.min(time_vectors, axis=1)[:, np.newaxis]) / (\n",
    "    np.max(time_vectors, axis=1)[:, np.newaxis]\n",
    "    - np.min(time_vectors, axis=1)[:, np.newaxis]\n",
    "    + 0.001\n",
    ")"
   ]
  },
  {
   "cell_type": "code",
   "execution_count": null,
   "metadata": {},
   "outputs": [],
   "source": [
    "normed_time_vectors = time_vectors"
   ]
  },
  {
   "cell_type": "code",
   "execution_count": null,
   "metadata": {},
   "outputs": [],
   "source": [
    "for i in range(10):\n",
    "    plt.plot(max_norm_time_vectors[i])\n",
    "plt.show()"
   ]
  },
  {
   "cell_type": "code",
   "execution_count": null,
   "metadata": {},
   "outputs": [],
   "source": [
    "\tgrowthTime_hr\n",
    "34\t5\n",
    "35\t7\n",
    "36\t8\n",
    "37\t10\n",
    "38\t14\n",
    "39\t24\n",
    "40\t48\n",
    "41\t168\n",
    "42\t336\n",
    "[5,7,8,10,14,24,48,168,336]"
   ]
  },
  {
   "cell_type": "code",
   "execution_count": null,
   "metadata": {},
   "outputs": [],
   "source": [
    "X = max_norm_time_vectors\n",
    "kmeans = KMeans(n_clusters=20, random_state=0).fit(X)"
   ]
  },
  {
   "cell_type": "code",
   "execution_count": null,
   "metadata": {},
   "outputs": [],
   "source": [
    "centers = kmeans.cluster_centers_"
   ]
  },
  {
   "cell_type": "code",
   "execution_count": null,
   "metadata": {},
   "outputs": [],
   "source": [
    "centers.shape"
   ]
  },
  {
   "cell_type": "code",
   "execution_count": null,
   "metadata": {},
   "outputs": [],
   "source": [
    "for i in range(0, 5):\n",
    "    plt.plot(centers[i], label=i)\n",
    "plt.legend()\n",
    "plt.show()"
   ]
  },
  {
   "cell_type": "code",
   "execution_count": null,
   "metadata": {},
   "outputs": [],
   "source": [
    "for i in range(5, 10):\n",
    "    plt.plot(centers[i], label=i)\n",
    "plt.legend()\n",
    "plt.show()"
   ]
  },
  {
   "cell_type": "code",
   "execution_count": null,
   "metadata": {},
   "outputs": [],
   "source": [
    "for i in range(10, 15):\n",
    "    plt.plot(centers[i], label=i)\n",
    "plt.legend()\n",
    "plt.show()"
   ]
  },
  {
   "cell_type": "code",
   "execution_count": null,
   "metadata": {},
   "outputs": [],
   "source": [
    "for i in range(15, 20):\n",
    "    plt.plot(centers[i], label=i)\n",
    "plt.legend()\n",
    "plt.show()"
   ]
  },
  {
   "cell_type": "code",
   "execution_count": null,
   "metadata": {},
   "outputs": [],
   "source": [
    "cluster_0_idx = np.where(kmeans.labels_ == 15)[0]"
   ]
  },
  {
   "cell_type": "code",
   "execution_count": null,
   "metadata": {},
   "outputs": [],
   "source": [
    "cluster_0 = X[kmeans.labels_ == 15]"
   ]
  },
  {
   "cell_type": "code",
   "execution_count": null,
   "metadata": {},
   "outputs": [],
   "source": [
    "((cluster_0 - centers[15]) ** 2).shape"
   ]
  },
  {
   "cell_type": "code",
   "execution_count": null,
   "metadata": {},
   "outputs": [],
   "source": [
    "center_dist = np.sum((cluster_0 - centers[15]) ** 2, axis=1) ** (1 / 2)"
   ]
  },
  {
   "cell_type": "code",
   "execution_count": null,
   "metadata": {},
   "outputs": [],
   "source": [
    "plt.hist(center_dist)"
   ]
  },
  {
   "cell_type": "code",
   "execution_count": null,
   "metadata": {},
   "outputs": [],
   "source": [
    "cluster_0_similar_idx = cluster_0_idx[center_dist < 0.5]"
   ]
  },
  {
   "cell_type": "code",
   "execution_count": null,
   "metadata": {},
   "outputs": [],
   "source": [
    "cluster_0_similar = cluster_0[center_dist < 0.5]"
   ]
  },
  {
   "cell_type": "code",
   "execution_count": null,
   "metadata": {},
   "outputs": [],
   "source": [
    "for i in range(cluster_0_similar.shape[0]):\n",
    "    plt.plot([5, 7, 8, 10, 14, 24, 48], cluster_0_similar[i], label=i)\n",
    "plt.legend()\n",
    "plt.show()"
   ]
  },
  {
   "cell_type": "code",
   "execution_count": null,
   "metadata": {},
   "outputs": [],
   "source": [
    "import seaborn as sns"
   ]
  },
  {
   "cell_type": "code",
   "execution_count": null,
   "metadata": {},
   "outputs": [],
   "source": [
    "y = cluster_0_similar.flatten()\n",
    "x = np.tile(list(range(cluster_0_similar.shape[1])), cluster_0_similar.shape[0])"
   ]
  },
  {
   "cell_type": "code",
   "execution_count": null,
   "metadata": {},
   "outputs": [],
   "source": [
    "x"
   ]
  },
  {
   "cell_type": "code",
   "execution_count": null,
   "metadata": {},
   "outputs": [],
   "source": [
    "sns.lineplot(x=x, y=y, ci=\"sd\")"
   ]
  },
  {
   "cell_type": "code",
   "execution_count": null,
   "metadata": {},
   "outputs": [],
   "source": [
    "cluster_0_similar_idx"
   ]
  },
  {
   "cell_type": "code",
   "execution_count": null,
   "metadata": {},
   "outputs": [],
   "source": [
    "gene_list = np.array(mean_gene.index.get_level_values(\"gene\").unique().tolist())\n",
    "cluster_0_gene_list = gene_list[cluster_0_similar_idx]"
   ]
  },
  {
   "cell_type": "code",
   "execution_count": null,
   "metadata": {},
   "outputs": [],
   "source": [
    "gene_list[cluster_0_similar_idx]"
   ]
  },
  {
   "cell_type": "code",
   "execution_count": null,
   "metadata": {},
   "outputs": [],
   "source": [
    "annotation_list = [\n",
    "    \"acyl-CoA synthetase FdrA\",\n",
    "    \"molybdate ABC transporter substrate-binding protein\",\n",
    "    \"IS1 protein InsA\",\n",
    "    \"2-hydroxyglutaryl-CoA dehydratase activator\",\n",
    "]"
   ]
  },
  {
   "cell_type": "markdown",
   "metadata": {},
   "source": [
    "array(['ECB_00040', 'ECB_00468', 'ECB_00716', 'ECB_01243', 'ECB_02170',\n",
    "       'ECB_02674', 'ECB_02712', 'ECB_02717', 'ECB_03271', 'ECB_03837',\n",
    "       'ECB_04061', 'ECB_04203'], dtype='<U9')\n",
    "       \n",
    "crotonobetainyl-CoA hydratase\n",
    "acyl-CoA synthetase FdrA\n",
    "molybdate ABC transporter substrate-binding protein\n",
    "IS1 protein InsA\n",
    "ISNCY family transposase\n",
    "prepilin peptidase-dependent protein\n",
    "putative aminohydrolase SsnA\n",
    "guanine/hypoxanthine transporter GhxQ\n",
    "RNA 3'-terminal phosphate cyclase\n",
    "[formate-C-acetyltransferase]-activating enzyme\n",
    "PTS ascorbate transporter subunit IIB\n",
    "2-hydroxyglutaryl-CoA dehydratase activator"
   ]
  },
  {
   "cell_type": "code",
   "execution_count": null,
   "metadata": {},
   "outputs": [],
   "source": [
    "from Bio import SeqIO\n",
    "\n",
    "record = SeqIO.read(\"sequence (2).gb\", \"genbank\")\n",
    "record"
   ]
  },
  {
   "cell_type": "code",
   "execution_count": null,
   "metadata": {},
   "outputs": [],
   "source": [
    "upstream_len = 40\n",
    "\n",
    "cluster_0_features = []\n",
    "for feature in record.features[15:]:\n",
    "    try:\n",
    "        if (\n",
    "            feature.qualifiers[\"old_locus_tag\"][0] in cluster_0_gene_list\n",
    "            and feature.type == \"CDS\"\n",
    "        ):\n",
    "            cluster_0_features.append(feature)\n",
    "    except:\n",
    "        pass\n",
    "\n",
    "feature_seqs = []\n",
    "for feature in cluster_0_features:\n",
    "    if feature.strand == -1:\n",
    "        seq = (\n",
    "            record[feature.location.end : feature.location.end + upstream_len]\n",
    "            .reverse_complement()\n",
    "            .seq\n",
    "        )\n",
    "    else:\n",
    "        seq = record[feature.location.start - upstream_len : feature.location.start].seq\n",
    "    feature_seqs.append(str(seq))"
   ]
  },
  {
   "cell_type": "code",
   "execution_count": null,
   "metadata": {},
   "outputs": [],
   "source": [
    "cluster_0_features"
   ]
  },
  {
   "cell_type": "code",
   "execution_count": null,
   "metadata": {},
   "outputs": [],
   "source": [
    "seq_arr = np.array([list(item) for item in feature_seqs])"
   ]
  },
  {
   "cell_type": "code",
   "execution_count": null,
   "metadata": {},
   "outputs": [],
   "source": [
    "As = np.sum(seq_arr == \"A\", axis=0)\n",
    "Cs = np.sum(seq_arr == \"C\", axis=0)\n",
    "Gs = np.sum(seq_arr == \"G\", axis=0)\n",
    "Ts = np.sum(seq_arr == \"T\", axis=0)\n",
    "ttl = As + Cs + Gs + Ts\n",
    "freq_arr = (np.array([As, Cs, Gs, Ts]) / ttl).T"
   ]
  },
  {
   "cell_type": "code",
   "execution_count": null,
   "metadata": {},
   "outputs": [],
   "source": [
    "As.shape"
   ]
  },
  {
   "cell_type": "code",
   "execution_count": null,
   "metadata": {},
   "outputs": [],
   "source": [
    "import seqlogo\n",
    "\n",
    "ppm = seqlogo.Ppm(freq_arr)\n",
    "ppm"
   ]
  },
  {
   "cell_type": "code",
   "execution_count": null,
   "metadata": {},
   "outputs": [],
   "source": [
    "seqlogo.seqlogo(ppm, ic_scale=False, format=\"png\", size=\"large\")"
   ]
  },
  {
   "cell_type": "code",
   "execution_count": null,
   "metadata": {},
   "outputs": [],
   "source": [
    "from Bio import motifs"
   ]
  },
  {
   "cell_type": "code",
   "execution_count": null,
   "metadata": {},
   "outputs": [],
   "source": [
    "motifs."
   ]
  },
  {
   "cell_type": "code",
   "execution_count": null,
   "metadata": {},
   "outputs": [],
   "source": []
  },
  {
   "cell_type": "code",
   "execution_count": null,
   "metadata": {},
   "outputs": [],
   "source": [
    "feature_seqs = []\n",
    "for feature in cluster_0_features:\n",
    "    if feature.strand == -1:\n",
    "        seq = (\n",
    "            record[feature.location.start : feature.location.end]\n",
    "            .reverse_complement()\n",
    "            .seq\n",
    "        )\n",
    "    else:\n",
    "        seq = record[feature.location.start : feature.location.end].seq\n",
    "    feature_seqs.append(seq)"
   ]
  },
  {
   "cell_type": "code",
   "execution_count": null,
   "metadata": {},
   "outputs": [],
   "source": [
    "gene_list"
   ]
  },
  {
   "cell_type": "code",
   "execution_count": null,
   "metadata": {},
   "outputs": [],
   "source": [
    "feature.qualifiers[\"old_locus_tag\"][0]"
   ]
  },
  {
   "cell_type": "code",
   "execution_count": null,
   "metadata": {},
   "outputs": [],
   "source": [
    "for i in range(centers.shape[0]):\n",
    "    plt.plot([5, 7, 8, 10, 14, 24, 48], centers[i])\n",
    "    plt.show()"
   ]
  },
  {
   "cell_type": "code",
   "execution_count": null,
   "metadata": {},
   "outputs": [],
   "source": []
  },
  {
   "cell_type": "code",
   "execution_count": null,
   "metadata": {},
   "outputs": [],
   "source": [
    "time_vectors[-1]"
   ]
  },
  {
   "cell_type": "code",
   "execution_count": null,
   "metadata": {},
   "outputs": [],
   "source": [
    "mrna_dset[column_list]"
   ]
  },
  {
   "cell_type": "markdown",
   "metadata": {},
   "source": [
    "#### Notes\n",
    "\n",
    "Ok, so there are clearly some interesting clusters in these data. Consider a deeper dive later (OD, proteomics)\n"
   ]
  },
  {
   "cell_type": "code",
   "execution_count": null,
   "metadata": {},
   "outputs": [],
   "source": []
  }
 ],
 "metadata": {
  "kernelspec": {
   "display_name": "Python 3",
   "language": "python",
   "name": "python3"
  },
  "language_info": {
   "codemirror_mode": {
    "name": "ipython",
    "version": 3
   },
   "file_extension": ".py",
   "mimetype": "text/x-python",
   "name": "python",
   "nbconvert_exporter": "python",
   "pygments_lexer": "ipython3",
   "version": "3.8.5"
  }
 },
 "nbformat": 4,
 "nbformat_minor": 4
}
