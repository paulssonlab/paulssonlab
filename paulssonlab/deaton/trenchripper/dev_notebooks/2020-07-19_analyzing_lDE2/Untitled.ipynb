{
 "cells": [
  {
   "cell_type": "code",
   "execution_count": null,
   "metadata": {},
   "outputs": [],
   "source": [
    "import numpy as np\n",
    "import dask.array as da\n",
    "import trenchripper as tr\n",
    "import trenchripper.cluster"
   ]
  },
  {
   "cell_type": "code",
   "execution_count": null,
   "metadata": {},
   "outputs": [],
   "source": [
    "def str_to_int(string):\n",
    "    code = {\"A\": 0, \"C\": 1, \"G\": 2, \"T\": 3}\n",
    "    conv_str = np.array(list(map(lambda x: code[x], string)))\n",
    "    return conv_str\n",
    "\n",
    "\n",
    "def int_to_str(integer):\n",
    "    rev_code = [\"A\", \"C\", \"G\", \"T\"]\n",
    "    conv_int = \"\".join(list(map(lambda x: rev_code[x], integer)))\n",
    "    return conv_int\n",
    "\n",
    "\n",
    "conv_str = str_to_int(\"TGTACAATTCATCCATACCA\")"
   ]
  },
  {
   "cell_type": "code",
   "execution_count": null,
   "metadata": {},
   "outputs": [],
   "source": [
    "dask_controller.daskclient.restart()"
   ]
  },
  {
   "cell_type": "code",
   "execution_count": null,
   "metadata": {},
   "outputs": [],
   "source": [
    "dask_controller.shutdown()"
   ]
  },
  {
   "cell_type": "code",
   "execution_count": null,
   "metadata": {},
   "outputs": [],
   "source": [
    "dask_controller.daskclient"
   ]
  },
  {
   "cell_type": "code",
   "execution_count": null,
   "metadata": {},
   "outputs": [],
   "source": [
    "dask_controller = tr.cluster.dask_controller(\n",
    "    walltime=\"04:00:00\",\n",
    "    local=False,\n",
    "    n_workers=50,\n",
    "    memory=\"16GB\",\n",
    "    working_directory=\"./dask\",\n",
    ")\n",
    "dask_controller.startdask()"
   ]
  },
  {
   "cell_type": "code",
   "execution_count": null,
   "metadata": {},
   "outputs": [],
   "source": [
    "dask_controller.displaydashboard()"
   ]
  },
  {
   "cell_type": "code",
   "execution_count": null,
   "metadata": {},
   "outputs": [],
   "source": [
    "ex_1 = np.apply_along_axis(\n",
    "    \"\".join, 1, np.random.choice([\"A\", \"C\", \"G\", \"T\"], size=(100000, 20))\n",
    ")\n",
    "ex_2 = np.apply_along_axis(\n",
    "    \"\".join, 1, np.random.choice([\"A\", \"C\", \"G\", \"T\"], size=(100000, 20))\n",
    ")"
   ]
  },
  {
   "cell_type": "code",
   "execution_count": null,
   "metadata": {},
   "outputs": [],
   "source": [
    "ex_1[:10]"
   ]
  },
  {
   "cell_type": "code",
   "execution_count": null,
   "metadata": {},
   "outputs": [],
   "source": [
    "ex_1_int = np.array(list(map(str_to_int, ex_1)), dtype=\"uint8\")\n",
    "ex_2_int = np.array(list(map(str_to_int, ex_2)), dtype=\"uint8\")"
   ]
  },
  {
   "cell_type": "code",
   "execution_count": null,
   "metadata": {},
   "outputs": [],
   "source": [
    "ex_1_dask = da.from_array(ex_1_int[:, np.newaxis, :], chunks=(2500, 1, 20))\n",
    "ex_2_dask = da.from_array(ex_2_int[np.newaxis, :, :], chunks=(1, 2500, 20))"
   ]
  },
  {
   "cell_type": "code",
   "execution_count": null,
   "metadata": {},
   "outputs": [],
   "source": [
    "ex_1_reshaped = ex_1_int[:, np.newaxis, :]"
   ]
  },
  {
   "cell_type": "code",
   "execution_count": null,
   "metadata": {},
   "outputs": [],
   "source": [
    "import numpy as np\n",
    "\n",
    "np.array([[0], [1], [2], [3]]) == np.array([[0, 1, 2]])"
   ]
  },
  {
   "cell_type": "code",
   "execution_count": null,
   "metadata": {},
   "outputs": [],
   "source": [
    "ex_1_dask"
   ]
  },
  {
   "cell_type": "code",
   "execution_count": null,
   "metadata": {},
   "outputs": [],
   "source": [
    "output_arr = ex_1_dask == ex_2_dask"
   ]
  },
  {
   "cell_type": "code",
   "execution_count": null,
   "metadata": {},
   "outputs": [],
   "source": [
    "output_arr"
   ]
  },
  {
   "cell_type": "code",
   "execution_count": null,
   "metadata": {},
   "outputs": [],
   "source": [
    "output_arr = (ex_1_dask == ex_2_dask).rechunk()\n",
    "output_arr = np.sum(output_arr, axis=2, dtype=\"uint8\").rechunk()\n",
    "output_arr = output_arr > 9\n",
    "output_coords = np.argwhere(output_arr)"
   ]
  },
  {
   "cell_type": "code",
   "execution_count": null,
   "metadata": {},
   "outputs": [],
   "source": [
    "output_arr"
   ]
  },
  {
   "cell_type": "code",
   "execution_count": null,
   "metadata": {},
   "outputs": [],
   "source": [
    "output_coords = dask_controller.daskclient.compute(output_coords)"
   ]
  },
  {
   "cell_type": "code",
   "execution_count": null,
   "metadata": {},
   "outputs": [],
   "source": [
    "output_coords.result()"
   ]
  },
  {
   "cell_type": "code",
   "execution_count": null,
   "metadata": {},
   "outputs": [],
   "source": [
    "output_arr_future = dask_controller.daskclient.persist(output_coords)"
   ]
  },
  {
   "cell_type": "code",
   "execution_count": null,
   "metadata": {},
   "outputs": [],
   "source": [
    "output_arr_future.to_zarr(\"./dask_output.zarr\", overwrite=True)"
   ]
  },
  {
   "cell_type": "code",
   "execution_count": null,
   "metadata": {},
   "outputs": [],
   "source": []
  },
  {
   "cell_type": "code",
   "execution_count": null,
   "metadata": {},
   "outputs": [],
   "source": [
    "print(ex_1_int.shape)"
   ]
  },
  {
   "cell_type": "code",
   "execution_count": null,
   "metadata": {},
   "outputs": [],
   "source": [
    "print(ex_2_int.shape)"
   ]
  },
  {
   "cell_type": "code",
   "execution_count": null,
   "metadata": {},
   "outputs": [],
   "source": [
    "print(ex_1_int[:, np.newaxis, :].shape)"
   ]
  },
  {
   "cell_type": "code",
   "execution_count": null,
   "metadata": {},
   "outputs": [],
   "source": [
    "print(ex_1_int[np.newaxis, :, :].shape)"
   ]
  },
  {
   "cell_type": "code",
   "execution_count": null,
   "metadata": {},
   "outputs": [],
   "source": [
    "test_arr = ex_1_int[:, np.newaxis, :] == ex_2_int[np.newaxis, :, :]\n",
    "match_arr = np.sum(test_arr, axis=2)"
   ]
  },
  {
   "cell_type": "code",
   "execution_count": null,
   "metadata": {},
   "outputs": [],
   "source": [
    "match_arr.shape"
   ]
  },
  {
   "cell_type": "code",
   "execution_count": null,
   "metadata": {},
   "outputs": [],
   "source": [
    "np.sum(np.any(match_arr > 13, axis=1))"
   ]
  },
  {
   "cell_type": "code",
   "execution_count": null,
   "metadata": {},
   "outputs": [],
   "source": [
    "from Bio.Sequencing.Applications import (\n",
    "    BwaAlignCommandline,\n",
    "    BwaIndexCommandline,\n",
    "    BwaSamseCommandline,\n",
    ")\n",
    "from Bio import SeqIO\n",
    "from Bio.Seq import Seq\n",
    "from Bio.SeqRecord import SeqRecord\n",
    "from Bio.Alphabet import IUPAC\n",
    "import subprocess\n",
    "import numpy as np"
   ]
  },
  {
   "cell_type": "code",
   "execution_count": null,
   "metadata": {},
   "outputs": [],
   "source": [
    "ex_1 = np.apply_along_axis(\n",
    "    \"\".join, 1, np.random.choice([\"A\", \"C\", \"G\", \"T\"], size=(10000, 20))\n",
    ").tolist()\n",
    "ex_2 = np.apply_along_axis(\n",
    "    \"\".join, 1, np.random.choice([\"A\", \"C\", \"G\", \"T\"], size=(10000, 20))\n",
    ").tolist()\n",
    "\n",
    "ex_1 = [SeqRecord(Seq(item, IUPAC.unambiguous_dna)) for item in ex_1]\n",
    "ex_2 = [SeqRecord(Seq(item, IUPAC.unambiguous_dna)) for item in ex_2]"
   ]
  },
  {
   "cell_type": "code",
   "execution_count": null,
   "metadata": {},
   "outputs": [],
   "source": [
    "SeqIO.write(ex_1, \"./ex_1.fasta\", \"fasta\")\n",
    "SeqIO.write(ex_2, \"./ex_2.fasta\", \"fasta\")"
   ]
  },
  {
   "cell_type": "code",
   "execution_count": null,
   "metadata": {},
   "outputs": [],
   "source": [
    "reference_genome = \"./ex_2.fasta\"\n",
    "read_file = \"./ex_1.fasta\"\n",
    "output_sai_file = \"./ex_1.sai\"\n",
    "output_sam_file = \"./output.sam\"\n",
    "index_cmd = BwaIndexCommandline(infile=reference_genome, algorithm=\"bwtsw\")\n",
    "align_cmd = BwaAlignCommandline(\n",
    "    n=12, k=12, o=0, e=0, l=20, N=True, reference=reference_genome, read_file=read_file\n",
    ")\n",
    "samse_cmd = BwaSamseCommandline(\n",
    "    reference=reference_genome, read_file=read_file, sai_file=output_sai_file\n",
    ")\n",
    "\n",
    "print(index_cmd)\n",
    "print(align_cmd)\n",
    "print(samse_cmd)"
   ]
  },
  {
   "cell_type": "code",
   "execution_count": null,
   "metadata": {},
   "outputs": [],
   "source": [
    "index_cmd()"
   ]
  },
  {
   "cell_type": "code",
   "execution_count": null,
   "metadata": {},
   "outputs": [],
   "source": [
    "align_cmd(stdout=output_sai_file)"
   ]
  },
  {
   "cell_type": "code",
   "execution_count": null,
   "metadata": {},
   "outputs": [],
   "source": [
    "samse_cmd(stdout=output_sam_file)"
   ]
  },
  {
   "cell_type": "code",
   "execution_count": null,
   "metadata": {},
   "outputs": [],
   "source": [
    "def str_to_int(string):\n",
    "    code = {\"A\": 0, \"C\": 1, \"G\": 2, \"T\": 3}\n",
    "    conv_str = np.array(list(map(lambda x: code[x], string)))\n",
    "    return conv_str\n",
    "\n",
    "\n",
    "ex_1 = np.apply_along_axis(\n",
    "    \"\".join, 1, np.random.choice([\"A\", \"C\", \"G\", \"T\"], size=(100000, 20))\n",
    ")  # example array of strings\n",
    "ex_2 = np.apply_along_axis(\n",
    "    \"\".join, 1, np.random.choice([\"A\", \"C\", \"G\", \"T\"], size=(100000, 20))\n",
    ")  # example array of strings\n",
    "\n",
    "ex_1_int = np.array(\n",
    "    list(map(str_to_int, ex_1)), dtype=\"uint8\"\n",
    ")  # conversion to (N, L) array of integers\n",
    "ex_2_int = np.array(\n",
    "    list(map(str_to_int, ex_2)), dtype=\"uint8\"\n",
    ")  # conversion to (N, L) array of integers\n",
    "\n",
    "ex_1_broadcast = np.array(\n",
    "    ex_1_int[:, np.newaxis, :]\n",
    ")  # reshaping for broadcast operation (N, L) -> (N, 1, L)\n",
    "ex_2_broadcast = np.array(\n",
    "    ex_2_int[np.newaxis, :, :]\n",
    ")  # reshaping for broadcast operation (N, L) -> (1, N, L)\n",
    "\n",
    "bool_arr = ex_1_broadcast == ex_2_broadcast  # broadcast comparison (N, N, L)\n",
    "match_arr = np.sum(bool_arr, axis=2)  # summing over L (N, N)"
   ]
  }
 ],
 "metadata": {
  "kernelspec": {
   "display_name": "Python 3",
   "language": "python",
   "name": "python3"
  },
  "language_info": {
   "codemirror_mode": {
    "name": "ipython",
    "version": 3
   },
   "file_extension": ".py",
   "mimetype": "text/x-python",
   "name": "python",
   "nbconvert_exporter": "python",
   "pygments_lexer": "ipython3",
   "version": "3.7.8"
  }
 },
 "nbformat": 4,
 "nbformat_minor": 4
}
