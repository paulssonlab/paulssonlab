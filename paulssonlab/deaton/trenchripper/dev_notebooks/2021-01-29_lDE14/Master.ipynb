{
 "cells": [
  {
   "cell_type": "markdown",
   "metadata": {},
   "source": [
    "# TrenchRipper Master Notebook"
   ]
  },
  {
   "cell_type": "markdown",
   "metadata": {},
   "source": [
    "## Introduction\n",
    "\n",
    "This notebook contains the entire `TrenchRipper` pipline, divided into simple steps. This pipline is ideal for Mother <br>Machine image data where cells possess fluorescent segmentation markers. Segmentation on phase or brightfield data <br>is being developed, but is still an experimental feature.\n",
    "\n",
    "The steps in this pipeline are as follows:\n",
    "1. Extracting your Mother Machine data (.nd2) into hdf5 format\n",
    "2. Identifying and cropping individual trenches into kymographs\n",
    "3. Segmenting cells with a fluorescent marker\n",
    "4. Determining lineages and object properties\n",
    "\n",
    "In each step, the user will dynamically specify parameters using a series of interactive diagnostics on their dataset. <br>Following this, a parameter file will be written to disk and then used to deploy a parallel computation on the <br>dataset, either locally or on a SLURM cluster.\n",
    "\n",
    "\n",
    "This is intended as an end-to-end solution to analyzing Mother Machine data. As such, **it is not trivial to plug data <br>directly into intermediate steps**, as it will lack the correct formatting and associated metadata. A notable <br>exception to this is using another program to segment data. The library references binary segmentation masks using <br>only metadata derived from their associated kymographs. As such, it is possible to generate segmentations on these <br>kymographs elsewhere and place them into the segmentation data path to have `TrenchRipper` act on those <br>segmentations instead. More on this in the segmentation section..."
   ]
  },
  {
   "cell_type": "markdown",
   "metadata": {},
   "source": [
    "#### Imports\n",
    "\n",
    "Run this section to import all relavent packages and libraries used in this notebook. You must run this everytime you open a new python kernel."
   ]
  },
  {
   "cell_type": "code",
   "execution_count": null,
   "metadata": {},
   "outputs": [],
   "source": [
    "import paulssonlab.deaton.trenchripper.trenchripper as tr\n",
    "\n",
    "import warnings\n",
    "\n",
    "warnings.filterwarnings(action=\"once\")\n",
    "\n",
    "import matplotlib\n",
    "\n",
    "matplotlib.rcParams[\"figure.figsize\"] = [20, 10]"
   ]
  },
  {
   "cell_type": "markdown",
   "metadata": {},
   "source": [
    "#### Specify Paths\n",
    "\n",
    "Begin by defining the directory in which all processing will be done, as well as the initial nd2 file we will be <br>processing. This line should be run everytime you open a new python kernel.\n",
    "\n",
    "The format should be: `headpath = \"/path/to/folder\"` and `nd2file = \"/path/to/file.nd2\"`\n",
    "\n",
    "For example:\n",
    "```\n",
    "headpath = \"/n/scratch2/de64/2019-05-31_validation_data\"\n",
    "nd2file = \"/n/scratch2/de64/2019-05-31_validation_data/Main_Experiment.nd2\"\n",
    "```\n",
    "\n",
    "Ideally, these files should be placed in a storage location with relatively fast I/O"
   ]
  },
  {
   "cell_type": "code",
   "execution_count": null,
   "metadata": {},
   "outputs": [],
   "source": [
    "headpath = \"/home/de64/scratch/de64/sync_folder/2021-01-28_lDE14/gfp/\"\n",
    "# hdf5inputpath = \"/home/de64/scratch/de64/sync_folder/2021-01-28_lDE14/run/\"\n",
    "nd2file = \"/home/de64/scratch/de64/sync_folder/2021-01-28_lDE14/GFP001.nd2\""
   ]
  },
  {
   "cell_type": "code",
   "execution_count": null,
   "metadata": {},
   "outputs": [],
   "source": [
    "import h5py\n",
    "import os\n",
    "import shutil\n",
    "import copy\n",
    "import h5py_cache\n",
    "import tifffile\n",
    "import pickle as pkl\n",
    "import numpy as np\n",
    "import pandas as pd\n",
    "import ipywidgets as ipyw\n",
    "\n",
    "from nd2reader import ND2Reader\n",
    "from tifffile import imsave, imread\n",
    "from paulssonlab.deaton.trenchripper.trenchripper.utils import (\n",
    "    pandas_hdf5_handler,\n",
    "    writedir,\n",
    ")\n",
    "from parse import compile\n",
    "\n",
    "\n",
    "class marlin_extractor:\n",
    "    def __init__(\n",
    "        self,\n",
    "        hdf5inputpath,\n",
    "        headpath,\n",
    "        tpts_per_file=100,\n",
    "        parsestr=\"fov={fov:d}_config={channel}_t={timepoints:d}.hdf5\",\n",
    "        metaparsestr=\"metadata_t={timepoint:d}.hdf5\",\n",
    "        zero_base_keys=[\"timepoints\"],\n",
    "    ):  # note this chunk size has a large role in downstream steps...make sure is less than 1 MB\n",
    "        \"\"\"Utility to import hdf5 format files from MARLIN Runs.\n",
    "\n",
    "        Attributes:\n",
    "            headpath (str): base directory for data analysis\n",
    "            tiffpath (str): directory where tiff files are located\n",
    "            metapath (str): metadata path\n",
    "            hdf5path (str): where to store hdf5 data\n",
    "            tpts_per_file (int): number of timepoints to put in each hdf5 file\n",
    "            parsestr (str): format of filenames from which to extract metadata (using parse library)\n",
    "        \"\"\"\n",
    "        self.hdf5inputpath = hdf5inputpath\n",
    "        self.headpath = headpath\n",
    "        self.metapath = self.headpath + \"/metadata.hdf5\"\n",
    "        self.hdf5path = self.headpath + \"/hdf5\"\n",
    "        self.tpts_per_file = tpts_per_file\n",
    "        self.parsestr = parsestr\n",
    "        self.metaparsestr = metaparsestr\n",
    "        self.zero_base_keys = zero_base_keys\n",
    "\n",
    "        self.organism = \"\"\n",
    "        self.microscope = \"\"\n",
    "        self.notes = \"\"\n",
    "\n",
    "    def get_metadata(\n",
    "        self,\n",
    "        hdf5inputpath,\n",
    "        parsestr=\"fov={fov:d}_config={channel}_t={timepoints:d}.hdf5\",\n",
    "        metaparsestr=\"metadata_t={timepoint:d}.hdf5\",\n",
    "        zero_base_keys=[\"timepoints\"],\n",
    "    ):\n",
    "        parser = compile(parsestr)\n",
    "        parse_keys = [\n",
    "            item.split(\"}\")[0].split(\":\")[0] for item in parsestr.split(\"{\")[1:]\n",
    "        ] + [\"image_paths\"]\n",
    "\n",
    "        exp_metadata = {}\n",
    "        fov_metadata = {key: [] for key in parse_keys}\n",
    "\n",
    "        hdf5_files = []\n",
    "        metadata_files = []\n",
    "        for root, _, files in os.walk(hdf5inputpath):\n",
    "            hdf5_files.extend(\n",
    "                [\n",
    "                    os.path.join(root, f)\n",
    "                    for f in files\n",
    "                    if \"config\" in os.path.splitext(f)[0]\n",
    "                ]\n",
    "            )\n",
    "            metadata_files.extend(\n",
    "                [\n",
    "                    os.path.join(root, f)\n",
    "                    for f in files\n",
    "                    if \"metadata\" in os.path.splitext(f)[0]\n",
    "                ]\n",
    "            )\n",
    "\n",
    "        with h5py.File(hdf5_files[0], \"r\") as infile:\n",
    "            hdf5_shape = infile[\"data\"].shape\n",
    "        exp_metadata[\"height\"] = hdf5_shape[0]\n",
    "        exp_metadata[\"width\"] = hdf5_shape[1]\n",
    "        #     exp_metadata['pixel_microns'] = tags['65326']\n",
    "\n",
    "        for f in hdf5_files:\n",
    "            match = parser.search(f)\n",
    "            # ignore any files that don't match the regex\n",
    "            if match is not None:\n",
    "                # Add to dictionary\n",
    "                fov_frame_dict = match.named\n",
    "                for key, value in fov_frame_dict.items():\n",
    "                    fov_metadata[key].append(value)\n",
    "                fov_metadata[\"image_paths\"].append(f)\n",
    "\n",
    "        for zero_base_key in zero_base_keys:\n",
    "            if 0 not in fov_metadata[zero_base_key]:\n",
    "                fov_metadata[zero_base_key] = [\n",
    "                    item - 1 for item in fov_metadata[zero_base_key]\n",
    "                ]\n",
    "\n",
    "        channels = list(set(fov_metadata[\"channel\"]))\n",
    "        exp_metadata[\"channels\"] = channels\n",
    "        exp_metadata[\"num_fovs\"] = len(set(fov_metadata[\"fov\"]))\n",
    "        exp_metadata[\"frames\"] = list(set(fov_metadata[\"timepoints\"]))\n",
    "        exp_metadata[\"num_frames\"] = len(exp_metadata[\"frames\"])\n",
    "        exp_metadata[\"pixel_microns\"] = 0.16136255757596  ##hack assuming ti5 40x\n",
    "        fov_metadata = pd.DataFrame(fov_metadata)\n",
    "        fov_metadata = fov_metadata.set_index([\"fov\", \"timepoints\"]).sort_index()\n",
    "\n",
    "        output_fov_metadata = []\n",
    "        step = len(channels)\n",
    "        for i in range(0, len(fov_metadata), step):\n",
    "            rows = fov_metadata[i : i + step]\n",
    "            channel_path_entry = dict(zip(rows[\"channel\"], rows[\"image_paths\"]))\n",
    "            fov_entry = rows.index.get_level_values(\"fov\").unique()[0]\n",
    "            timepoint_entry = rows.index.get_level_values(\"timepoints\").unique()[0]\n",
    "            fov_metadata_entry = {\n",
    "                \"fov\": fov_entry,\n",
    "                \"timepoints\": timepoint_entry,\n",
    "                \"channel_paths\": channel_path_entry,\n",
    "            }\n",
    "            output_fov_metadata.append(fov_metadata_entry)\n",
    "        fov_metadata = pd.DataFrame(output_fov_metadata).set_index(\n",
    "            [\"fov\", \"timepoints\"]\n",
    "        )\n",
    "\n",
    "        metaparser = compile(metaparsestr)\n",
    "        meta_df_out = []\n",
    "        for metadata_file in metadata_files:\n",
    "            match = metaparser.search(metadata_file)\n",
    "            if match is not None:\n",
    "                timepoint = match.named[\"timepoint\"]\n",
    "                meta_df = pd.read_hdf(metadata_file)\n",
    "                meta_df[\"timepoints\"] = timepoint\n",
    "                meta_df_out.append(meta_df)\n",
    "        meta_df_out = pd.concat(meta_df_out)\n",
    "        if 0 not in meta_df_out[\"timepoints\"].unique().tolist():\n",
    "            meta_df_out[\"timepoints\"] = meta_df_out[\"timepoints\"] - 1\n",
    "        meta_df_out = meta_df_out.groupby([\"fov\", \"timepoints\"], as_index=False)\n",
    "        meta_df_out = meta_df_out.apply(lambda x: x[0:1])\n",
    "        meta_df_out = meta_df_out.set_index([\"fov\", \"timepoints\"], drop=True)\n",
    "        fov_metadata = fov_metadata.join(meta_df_out)\n",
    "\n",
    "        return exp_metadata, fov_metadata\n",
    "\n",
    "    def assignidx(self, fov_metadata):\n",
    "        numfovs = len(fov_metadata.index.get_level_values(\"fov\").unique().tolist())\n",
    "        timepoints_per_fov = len(\n",
    "            fov_metadata.index.get_level_values(\"timepoints\").unique().tolist()\n",
    "        )\n",
    "\n",
    "        files_per_fov = (timepoints_per_fov // self.tpts_per_file) + 1\n",
    "        remainder = timepoints_per_fov % self.tpts_per_file\n",
    "        ttlfiles = numfovs * files_per_fov\n",
    "        fov_file_idx = np.repeat(list(range(files_per_fov)), self.tpts_per_file)[\n",
    "            : -(self.tpts_per_file - remainder)\n",
    "        ]\n",
    "        file_idx = np.concatenate(\n",
    "            [fov_file_idx + (fov_idx * files_per_fov) for fov_idx in range(numfovs)]\n",
    "        )\n",
    "        fov_img_idx = np.repeat(\n",
    "            np.array(list(range(self.tpts_per_file)))[np.newaxis, :],\n",
    "            files_per_fov,\n",
    "            axis=0,\n",
    "        )\n",
    "        fov_img_idx = fov_img_idx.flatten()[: -(self.tpts_per_file - remainder)]\n",
    "        img_idx = np.concatenate([fov_img_idx for fov_idx in range(numfovs)])\n",
    "\n",
    "        fov_idx = np.repeat(list(range(numfovs)), timepoints_per_fov)\n",
    "        timepoint_idx = np.repeat(\n",
    "            np.array(list(range(timepoints_per_fov)))[np.newaxis, :], numfovs, axis=0\n",
    "        ).flatten()\n",
    "\n",
    "        outdf = copy.deepcopy(fov_metadata)\n",
    "        outdf[\"File Index\"] = file_idx\n",
    "        outdf[\"Image Index\"] = img_idx\n",
    "        return outdf\n",
    "\n",
    "    def writemetadata(self, t_range=None, fov_list=None):\n",
    "\n",
    "        exp_metadata, fov_metadata = self.get_metadata(\n",
    "            self.hdf5inputpath,\n",
    "            parsestr=self.parsestr,\n",
    "            zero_base_keys=self.zero_base_keys,\n",
    "        )\n",
    "\n",
    "        if t_range is not None:\n",
    "            exp_metadata[\"frames\"] = exp_metadata[\"frames\"][t_range[0] : t_range[1] + 1]\n",
    "            exp_metadata[\"num_frames\"] = len(exp_metadata[\"frames\"])\n",
    "            fov_metadata = fov_metadata.loc[\n",
    "                pd.IndexSlice[:, slice(t_range[0], t_range[1])], :\n",
    "            ]  # 4 -> 70\n",
    "\n",
    "        if fov_list is not None:\n",
    "            fov_metadata = fov_metadata.loc[list(fov_list)]\n",
    "            exp_metadata[\"fields_of_view\"] = list(fov_list)\n",
    "\n",
    "        self.chunk_shape = (1, exp_metadata[\"height\"], exp_metadata[\"width\"])\n",
    "        chunk_bytes = 2 * np.multiply.accumulate(np.array(self.chunk_shape))[-1]\n",
    "        self.chunk_cache_mem_size = 2 * chunk_bytes\n",
    "        exp_metadata[\"chunk_shape\"], exp_metadata[\"chunk_cache_mem_size\"] = (\n",
    "            self.chunk_shape,\n",
    "            self.chunk_cache_mem_size,\n",
    "        )\n",
    "        exp_metadata[\"Organism\"], exp_metadata[\"Microscope\"], exp_metadata[\"Notes\"] = (\n",
    "            self.organism,\n",
    "            self.microscope,\n",
    "            self.notes,\n",
    "        )\n",
    "        self.meta_handle = pandas_hdf5_handler(self.metapath)\n",
    "\n",
    "        assignment_metadata = self.assignidx(fov_metadata)\n",
    "        assignment_metadata.astype({\"File Index\": int, \"Image Index\": int})\n",
    "\n",
    "        self.meta_handle.write_df(\"global\", assignment_metadata, metadata=exp_metadata)\n",
    "\n",
    "    def read_metadata(self):\n",
    "        writedir(self.hdf5path, overwrite=True)\n",
    "        self.writemetadata()\n",
    "        metadf = self.meta_handle.read_df(\"global\", read_metadata=True)\n",
    "        self.metadata = metadf.metadata\n",
    "        metadf = metadf.reset_index(inplace=False)\n",
    "        metadf = metadf.set_index(\n",
    "            [\"File Index\", \"Image Index\"], drop=True, append=False, inplace=False\n",
    "        )\n",
    "        self.metadf = metadf.sort_index()\n",
    "\n",
    "    def set_params(self, fov_list, t_range, organism, microscope, notes):\n",
    "        self.fov_list = fov_list\n",
    "        self.t_range = t_range\n",
    "        self.organism = organism\n",
    "        self.microscope = microscope\n",
    "        self.notes = notes\n",
    "\n",
    "    def inter_set_params(self):\n",
    "        self.read_metadata()\n",
    "        t0, tf = (self.metadata[\"frames\"][0], self.metadata[\"frames\"][-1])\n",
    "        available_fov_list = self.metadf[\"fov\"].unique().tolist()\n",
    "        selection = ipyw.interactive(\n",
    "            self.set_params,\n",
    "            {\"manual\": True},\n",
    "            fov_list=ipyw.SelectMultiple(options=available_fov_list),\n",
    "            t_range=ipyw.IntRangeSlider(\n",
    "                value=[t0, tf],\n",
    "                min=t0,\n",
    "                max=tf,\n",
    "                step=1,\n",
    "                description=\"Time Range:\",\n",
    "                disabled=False,\n",
    "            ),\n",
    "            organism=ipyw.Textarea(\n",
    "                value=\"\",\n",
    "                placeholder=\"Organism imaged in this experiment.\",\n",
    "                description=\"Organism:\",\n",
    "                disabled=False,\n",
    "            ),\n",
    "            microscope=ipyw.Textarea(\n",
    "                value=\"\",\n",
    "                placeholder=\"Microscope used in this experiment.\",\n",
    "                description=\"Microscope:\",\n",
    "                disabled=False,\n",
    "            ),\n",
    "            notes=ipyw.Textarea(\n",
    "                value=\"\",\n",
    "                placeholder=\"General experiment notes.\",\n",
    "                description=\"Notes:\",\n",
    "                disabled=False,\n",
    "            ),\n",
    "        )\n",
    "        display(selection)\n",
    "\n",
    "    def extract(self, dask_controller, retries=1):\n",
    "        dask_controller.futures = {}\n",
    "\n",
    "        self.writemetadata(t_range=self.t_range, fov_list=self.fov_list)\n",
    "        metadf = self.meta_handle.read_df(\"global\", read_metadata=True)\n",
    "        self.metadata = metadf.metadata\n",
    "        metadf = metadf.reset_index(inplace=False)\n",
    "        metadf = metadf.set_index(\n",
    "            [\"File Index\", \"Image Index\"], drop=True, append=False, inplace=False\n",
    "        )\n",
    "        self.metadf = metadf.sort_index()\n",
    "\n",
    "        def writehdf5(fovnum, num_entries, timepoint_list, file_idx):\n",
    "            y_dim = self.metadata[\"height\"]\n",
    "            x_dim = self.metadata[\"width\"]\n",
    "            filedf = self.metadf.loc[file_idx].reset_index(inplace=False)\n",
    "            filedf = filedf.set_index(\n",
    "                [\"timepoints\"], drop=True, append=False, inplace=False\n",
    "            )\n",
    "            filedf = filedf.sort_index()\n",
    "\n",
    "            with h5py_cache.File(\n",
    "                self.hdf5path + \"/hdf5_\" + str(file_idx) + \".hdf5\",\n",
    "                \"w\",\n",
    "                chunk_cache_mem_size=self.chunk_cache_mem_size,\n",
    "            ) as h5pyfile:\n",
    "                for i, channel in enumerate(self.metadata[\"channels\"]):\n",
    "                    hdf5_dataset = h5pyfile.create_dataset(\n",
    "                        str(channel),\n",
    "                        (num_entries, y_dim, x_dim),\n",
    "                        chunks=self.chunk_shape,\n",
    "                        dtype=\"uint16\",\n",
    "                    )\n",
    "                    for j in range(len(timepoint_list)):\n",
    "                        frame = timepoint_list[j]\n",
    "                        entry = filedf.loc[frame][\"channel_paths\"]\n",
    "                        file_path = entry[channel]\n",
    "                        with h5py_cache.File(file_path, \"r\") as infile:\n",
    "                            img = infile[\"data\"][:]\n",
    "                        hdf5_dataset[j, :, :] = img\n",
    "            return \"Done.\"\n",
    "\n",
    "        file_list = self.metadf.index.get_level_values(\"File Index\").unique().values\n",
    "        num_jobs = len(file_list)\n",
    "        random_priorities = np.random.uniform(size=(num_jobs,))\n",
    "\n",
    "        for k, file_idx in enumerate(file_list):\n",
    "            priority = random_priorities[k]\n",
    "            filedf = self.metadf.loc[file_idx]\n",
    "\n",
    "            fovnum = filedf[0:1][\"fov\"].values[0]\n",
    "            num_entries = len(filedf.index.get_level_values(\"Image Index\").values)\n",
    "            timepoint_list = filedf[\"timepoints\"].tolist()\n",
    "\n",
    "            future = dask_controller.daskclient.submit(\n",
    "                writehdf5,\n",
    "                fovnum,\n",
    "                num_entries,\n",
    "                timepoint_list,\n",
    "                file_idx,\n",
    "                retries=retries,\n",
    "                priority=priority,\n",
    "            )\n",
    "            dask_controller.futures[\"extract file: \" + str(file_idx)] = future\n",
    "\n",
    "        extracted_futures = [\n",
    "            dask_controller.futures[\"extract file: \" + str(file_idx)]\n",
    "            for file_idx in file_list\n",
    "        ]\n",
    "        pause_for_extract = dask_controller.daskclient.gather(\n",
    "            extracted_futures, errors=\"skip\"\n",
    "        )\n",
    "\n",
    "        futures_name_list = [\"extract file: \" + str(file_idx) for file_idx in file_list]\n",
    "        failed_files = [\n",
    "            futures_name_list[k]\n",
    "            for k, item in enumerate(extracted_futures)\n",
    "            if item.status != \"finished\"\n",
    "        ]\n",
    "        failed_file_idx = [int(item.split(\":\")[1]) for item in failed_files]\n",
    "        outdf = self.meta_handle.read_df(\"global\", read_metadata=False)\n",
    "\n",
    "        tempmeta = outdf.reset_index(inplace=False)\n",
    "        tempmeta = tempmeta.set_index(\n",
    "            [\"File Index\", \"Image Index\"], drop=True, append=False, inplace=False\n",
    "        )\n",
    "        failed_fovs = tempmeta.loc[failed_file_idx][\"fov\"].unique().tolist()\n",
    "\n",
    "        outdf = outdf.drop(failed_fovs)\n",
    "\n",
    "        if self.t_range != None:\n",
    "            outdf = outdf.reset_index(inplace=False)\n",
    "            outdf[\"timepoints\"] = outdf[\"timepoints\"] - self.t_range[0]\n",
    "            outdf = outdf.set_index(\n",
    "                [\"fov\", \"timepoints\"], drop=True, append=False, inplace=False\n",
    "            )\n",
    "\n",
    "        self.meta_handle.write_df(\"global\", outdf, metadata=self.metadata)"
   ]
  },
  {
   "cell_type": "markdown",
   "metadata": {},
   "source": [
    "## Extract to hdf5 files\n",
    "\n",
    "In this section, we will be extracting our image data. Currently this notebook only supports `.nd2` format; however <br>there are `.tiff` extractors in the TrenchRipper source files that are being added to `Master.ipynb` soon.\n",
    "\n",
    "In the abstract, this step will take a single `.nd2` file and split it into a set of `.hdf5` files stored in <br>`headpath/hdf5`. Splitting the file up in this way will facilitate quick procesing in later steps. Each field of <br>view will be split into one or more `.hdf5` files, depending on the number of images per file requested (more on <br>this later). \n",
    "\n",
    "To keep track of which output files correspond to which FOVs, as well as to keep track of experiment metadata, the <br>extractor also outputs a `metadata.hdf5` file in the `headpath` folder. The data from this step is accessible in <br>that `metadata.hdf5` file under the `global` key. If you would like to look at this metadata, you may use the <br>`tr.utils.pandas_hdf5_handler` to read from this file. Later steps will add additional metadata under different <br>keys into the `metadata.hdf5` file."
   ]
  },
  {
   "cell_type": "markdown",
   "metadata": {},
   "source": [
    "#### Start Dask Workers\n",
    "\n",
    "First, we start a `dask_controller` instance which will handle all of our parallel processing. The default parameters <br>here work well on O2. The critical arguments here are:\n",
    "\n",
    "**walltime** : For a cluster, the length of time you will request each node for.\n",
    "\n",
    "**local** : `True` if you want to perform computation locally. `False` if you want to perform it on a SLURM cluster.\n",
    "\n",
    "**n_workers** : Number of nodes to request if on the cluster, or number of processes if computing locally.\n",
    "\n",
    "**memory** : For a cluster, the amount of memory you will request each node for.\n",
    "\n",
    "**working_directory** : For a cluster, the directory in which data will be spilled to disk. Usually set as a folder in <br>the `headpath`."
   ]
  },
  {
   "cell_type": "code",
   "execution_count": null,
   "metadata": {},
   "outputs": [],
   "source": [
    "dask_controller = tr.trcluster.dask_controller(\n",
    "    walltime=\"04:00:00\",\n",
    "    local=False,\n",
    "    n_workers=40,\n",
    "    memory=\"2GB\",\n",
    "    working_directory=headpath + \"/dask\",\n",
    ")\n",
    "dask_controller.startdask()"
   ]
  },
  {
   "cell_type": "markdown",
   "metadata": {},
   "source": [
    "After running the above line, you will have a running Dask client. Run the line below and click the link to supervise <br>the computation being administered by the scheduler. \n",
    "\n",
    "Don't be alarmed if the screen starts mostly blank, it may take time for your workers to spin up. If you get a 404 <br>error on a cluster, it is likely that your ports are not being forwarded properly. If this occurs, please register <br>the issue on github."
   ]
  },
  {
   "cell_type": "code",
   "execution_count": null,
   "metadata": {},
   "outputs": [],
   "source": [
    "dask_controller.daskclient"
   ]
  },
  {
   "cell_type": "code",
   "execution_count": null,
   "metadata": {},
   "outputs": [],
   "source": [
    "dask_controller.shutdown()"
   ]
  },
  {
   "cell_type": "markdown",
   "metadata": {},
   "source": [
    "##### Perform Extraction\n",
    "\n",
    "Now that we have our cluster scheduler spun up, it is time to convert files. This will be handled by the <br>`hdf5_extractor` object. This extractor will pull up each FOV and split it such that each derived `.hdf5` file <br>contains, at maximum, N timepoints of that FOV per file. The image data stored in these files takes the <br>form of `(N,Y,X)` arrays that are accessible using the desired channel name as a key. \n",
    "\n",
    "The arguments for this extractor are:\n",
    "\n",
    " - **nd2file** : The filepath to the `.nd2` file you intend to extract.\n",
    " \n",
    " - **headpath** : The folder in which processing is occuring. Should be the same for each step in the pipeline.\n",
    "\n",
    " - **tpts_per_file** : The maximum number of timepoints stored in each output `.hdf5` file. Typical values are between 25 <br>and 100.\n",
    "\n",
    " - **ignore_fovmetadata** : Used when `.nd2` data is corrupted and does not possess records for stage positions or <br>timepoints. Only set `False` if the extractor throws errors on metadata handling.\n",
    "\n",
    " - **nd2reader_override** : Overrides values in metadata recovered using the `nd2reader`. Currently set to <br>`{\"z_levels\":[],\"z_coordinates\":[]}` by default to correct a known issue where z coordinates are mistakenly <br>interpreted as a z stack. See the [nd2reader](https://rbnvrw.github.io/nd2reader/) documentation for more info."
   ]
  },
  {
   "cell_type": "code",
   "execution_count": null,
   "metadata": {},
   "outputs": [],
   "source": [
    "# hdf5_extractor = tr.marlin_extractor(hdf5inputpath, headpath, metaparsestr='metadata_{timepoint:d}.hdf5')"
   ]
  },
  {
   "cell_type": "code",
   "execution_count": null,
   "metadata": {},
   "outputs": [],
   "source": [
    "hdf5_extractor = tr.ndextract.hdf5_fov_extractor(\n",
    "    nd2file,\n",
    "    headpath,\n",
    "    tpts_per_file=50,\n",
    "    ignore_fovmetadata=False,\n",
    "    nd2reader_override={\"z_levels\": [], \"z_coordinates\": []},\n",
    ")"
   ]
  },
  {
   "cell_type": "code",
   "execution_count": null,
   "metadata": {},
   "outputs": [],
   "source": [
    "# hdf5_extractor = tr.ndextract.tiff_extractor(\n",
    "#     tiffpath,\n",
    "#     headpath,\n",
    "#     [\"Phase\",\"YFP\"],tpts_per_file=50\n",
    "# )"
   ]
  },
  {
   "cell_type": "markdown",
   "metadata": {},
   "source": [
    "##### Extraction Parameters\n",
    "\n",
    "Here, you may set the time interval you want to extract. Useful for cropping data to the period exhibiting the dynamics of interest.\n",
    "\n",
    "Optionally take notes to add to the `metadata.hdf5` file. Notes may also be taken directly in this notebook."
   ]
  },
  {
   "cell_type": "code",
   "execution_count": null,
   "metadata": {},
   "outputs": [],
   "source": [
    "hdf5_extractor.inter_set_params()"
   ]
  },
  {
   "cell_type": "markdown",
   "metadata": {},
   "source": [
    "##### Begin Extraction \n",
    "\n",
    "Running the following line will start the extraction process. This may be monitored by examining the `Dask Dashboard` <br> under the link displayed earlier. Once the computation is complete, move to the next line.\n",
    "\n",
    "This step may take a long time, though it is possible to speed it up using additional workers."
   ]
  },
  {
   "cell_type": "code",
   "execution_count": null,
   "metadata": {},
   "outputs": [],
   "source": [
    "hdf5_extractor.extract(dask_controller)"
   ]
  },
  {
   "cell_type": "markdown",
   "metadata": {},
   "source": [
    "##### Shutdown Dask\n",
    "\n",
    "Once extraction is complete, it is likely that you will want to shutdown your `dask_controller` if you are on a <br>\n",
    "cluster. This is because the specifications of the current `dask_controller` will not be optimal for later steps. <br>\n",
    "To do this, run the following line and wait for it to complete. If it hangs, interrupt your kernel and re-run it. <br>\n",
    "If this also fails to shutdown your workers, you will have to manually shut them down using `scancel` in a terminal."
   ]
  },
  {
   "cell_type": "code",
   "execution_count": null,
   "metadata": {},
   "outputs": [],
   "source": [
    "dask_controller.daskclient.restart()"
   ]
  },
  {
   "cell_type": "code",
   "execution_count": null,
   "metadata": {},
   "outputs": [],
   "source": [
    "dask_controller.shutdown()"
   ]
  },
  {
   "cell_type": "markdown",
   "metadata": {},
   "source": [
    "## Kymographs\n",
    "\n",
    "Now that you have extracted your data into a series of `.hdf5` files, we will now perform identification and cropping <br>of the individual trenches/growth channels present in the images. This algorithm assumes that your growth trenches <br>are vertically aligned and that they alternate in their orientation from top to bottom. See the example image for the <br>correct geometry:\n",
    "\n",
    "![example_image](./resources/example_image.jpg)\n",
    "\n",
    "The output of this step will be a set of `.hdf5` files stored in `headpath/kymograph`. The image data stored in these <br>files takes the form of `(K,T,Y,X)` arrays where K is the trench index, T is time, and Y,X are the crop dimensions. <br>These arrays are accessible using keys of the form `\"[Image Channel]\"`. For example, looking up phase channel <br>data of trenches in the topmost row of an image will require the key `\"Phase\"`"
   ]
  },
  {
   "cell_type": "markdown",
   "metadata": {},
   "source": [
    "[ '/n/scratch3/users/d/de64/190917_20x_phase_gfp_segmentation002',\n",
    " '/n/scratch3/users/d/de64/190922_20x_phase_gfp_segmentation',\n",
    " '/n/scratch3/users/d/de64/190925_20x_phase_yfp_segmentation',\n",
    " '/n/scratch3/users/d/de64/ezrdm_training_sb7',\n",
    " '/n/scratch3/users/d/de64/mbm_training_sb7',\n",
    " '/n/scratch3/users/d/de64/Sb7_L35',\n",
    " '/n/scratch3/users/d/de64/MM_DVCvecto_TOP_1_9',\n",
    " '/n/scratch3/users/d/de64/Vibrio_2_1_TOP',\n",
    " '/n/scratch3/users/d/de64/Vibrio_A_B_VZRDM--04--RUN_80ms',\n",
    " '/n/scratch3/users/d/de64/RpoSOutliers_WT_hipQ_100X',\n",
    " '/n/scratch3/users/d/de64/Main_Experiment',\n",
    " '/n/scratch3/users/d/de64/bde17_gotime']"
   ]
  },
  {
   "cell_type": "markdown",
   "metadata": {},
   "source": [
    "### Test Parameters\n",
    "\n"
   ]
  },
  {
   "cell_type": "markdown",
   "metadata": {
    "toc-hr-collapsed": false
   },
   "source": [
    "##### Initialize the interactive kymograph class\n",
    "\n",
    "As a first step, initialize the `tr.interactive.kymograph_interactive` class that will be help us choose the <br>parameters we will use to generate kymographs. "
   ]
  },
  {
   "cell_type": "code",
   "execution_count": null,
   "metadata": {},
   "outputs": [],
   "source": [
    "interactive_kymograph = tr.kymograph_interactive(headpath)"
   ]
  },
  {
   "cell_type": "code",
   "execution_count": null,
   "metadata": {},
   "outputs": [],
   "source": [
    "import numpy as np\n",
    "import pandas as pd\n",
    "import copy"
   ]
  },
  {
   "cell_type": "code",
   "execution_count": null,
   "metadata": {},
   "outputs": [],
   "source": [
    "x_vals"
   ]
  },
  {
   "cell_type": "code",
   "execution_count": null,
   "metadata": {},
   "outputs": [],
   "source": [
    "def get_grid_lookups(global_df, delta=10):\n",
    "    first_tpt = global_df.loc[pd.IndexSlice[:, slice(0, 0)], :]\n",
    "\n",
    "    x_vals = first_tpt[\"x\"].values\n",
    "    y_vals = first_tpt[\"y\"].values\n",
    "\n",
    "    x_dist = np.abs(np.subtract.outer(x_vals, x_vals))\n",
    "    y_dist = np.abs(np.subtract.outer(y_vals, y_vals))\n",
    "\n",
    "    close_x = x_dist < delta\n",
    "    close_y = y_dist < delta\n",
    "\n",
    "    x_groups = []\n",
    "    for x_idx in range(close_x.shape[0]):\n",
    "        x_groups.append(np.where(close_x[x_idx])[0])\n",
    "    x_groups = [np.array(item) for item in set(list(tuple(arr) for arr in x_groups))]\n",
    "    x_groups = sorted(x_groups, key=lambda x: x[0])\n",
    "    x_lookup = {item: k for k, group in enumerate(x_groups) for item in group}\n",
    "\n",
    "    y_groups = []\n",
    "    for y_idx in range(close_y.shape[0]):\n",
    "        y_groups.append(np.where(close_y[y_idx])[0])\n",
    "    y_groups = [np.array(item) for item in set(list(tuple(arr) for arr in y_groups))]\n",
    "    y_groups = sorted(y_groups, key=lambda x: x[0])\n",
    "    y_lookup = {item: k for k, group in enumerate(y_groups) for item in group}\n",
    "\n",
    "    return x_lookup, y_lookup\n",
    "\n",
    "\n",
    "def get_grid_indices(global_df, delta=10):\n",
    "    x_lookup, y_lookup = get_grid_lookups(global_df, delta=10)\n",
    "\n",
    "    column_indices = [\n",
    "        x_lookup[fov_idx]\n",
    "        for fov_idx in global_df.index.get_level_values(\"fov\").tolist()\n",
    "    ]\n",
    "    row_indices = [\n",
    "        y_lookup[fov_idx]\n",
    "        for fov_idx in global_df.index.get_level_values(\"fov\").tolist()\n",
    "    ]\n",
    "\n",
    "    return column_indices, row_indices"
   ]
  },
  {
   "cell_type": "code",
   "execution_count": null,
   "metadata": {},
   "outputs": [],
   "source": [
    "columns, rows = get_grid_indices(interactive_kymograph.metadf)\n",
    "test = copy.deepcopy(interactive_kymograph.metadf)\n",
    "test[\"Column\"] = columns\n",
    "test[\"Row\"] = rows"
   ]
  },
  {
   "cell_type": "code",
   "execution_count": null,
   "metadata": {},
   "outputs": [],
   "source": [
    "test"
   ]
  },
  {
   "cell_type": "code",
   "execution_count": null,
   "metadata": {},
   "outputs": [],
   "source": [
    "test[\"column\"] = column_indices"
   ]
  },
  {
   "cell_type": "code",
   "execution_count": null,
   "metadata": {},
   "outputs": [],
   "source": [
    "test"
   ]
  },
  {
   "cell_type": "code",
   "execution_count": null,
   "metadata": {},
   "outputs": [],
   "source": [
    "def infer_grid()"
   ]
  },
  {
   "cell_type": "code",
   "execution_count": null,
   "metadata": {},
   "outputs": [],
   "source": [
    "viewer = tr.hdf5_viewer(headpath, persist_data=False)"
   ]
  },
  {
   "cell_type": "markdown",
   "metadata": {},
   "source": [
    "##### Examine Images\n",
    "\n",
    "Here you can manually inspect images before beginning parameter tuning."
   ]
  },
  {
   "cell_type": "code",
   "execution_count": null,
   "metadata": {},
   "outputs": [],
   "source": [
    "viewer.view(width=1200)"
   ]
  },
  {
   "cell_type": "markdown",
   "metadata": {},
   "source": [
    "You will now want to select a few test FOVs to try out parameters on, the channel you want to detect trenches on, and <br>the time interval on which you will perform your processing.\n",
    "\n",
    "The arguments for this step are:\n",
    "\n",
    "- **seg_channel (string)** : The channel name that you would like to segment on.\n",
    "\n",
    "- **invert (list)** : Whether or not you want to invert the image before detecting trenches. By default, it is assumed that <br>the trenches have a high pixel intensity relative to the background. This should be the case for Phase Contrast and <br>Fluorescence Imageing, but may not be the case for Brightfield Imaging, in which case you will want to invert the image.\n",
    "\n",
    "- **fov_list (list)** : List of integers corresponding to the FOVs that you wish to make test kymographs of.\n",
    "\n",
    "- **t_subsample_step (int)** : Step size to be used for subsampling input files in time, recommend that subsampling results in <br>between 5 and 10 timepoints for quick processing.\n",
    "\n",
    "Hit the \"Run Interact\" button to lock in your parameters. The button will become transparent briefly and become solid again <br>when processing is complete. After that has occured, move on to the next step. "
   ]
  },
  {
   "cell_type": "code",
   "execution_count": null,
   "metadata": {},
   "outputs": [],
   "source": [
    "interactive_kymograph.import_hdf5_interactive()"
   ]
  },
  {
   "cell_type": "markdown",
   "metadata": {},
   "source": [
    "##### Tune \"trench-row\" detection hyperparameters\n",
    "\n",
    "The kymograph code begins by detecting the positions of trench rows in the image as follows:\n",
    "\n",
    "1. Reducing each 2D image to a 1D signal along the y-axis by computing the qth percentile of the data along the x-axis\n",
    "2. Smooth this signal using a median kernel\n",
    "3. Normalize the signal by linearly scaling 0. and 1. to the minimum and maximum, respectively\n",
    "4. Use a set threshold to determine the trench row poisitons\n",
    "\n",
    "The arguments for this step are:\n",
    "\n",
    " - **y_percentile (int)** : Percentile to use for step 1.\n",
    "\n",
    " - **smoothing_kernel_y_dim_0 (int)** : Median kernel size to use for step 2.\n",
    "\n",
    " - **y_percentile_threshold (float)** : Threshold to use in step 4.\n",
    "\n",
    "Running the following widget will display the smoothed 1-D signal for each of your timepoints. In addition, the threshold <br>value for each fov will be displayed as a red line."
   ]
  },
  {
   "cell_type": "code",
   "execution_count": null,
   "metadata": {},
   "outputs": [],
   "source": [
    "interactive_kymograph.preview_y_precentiles_interactive()"
   ]
  },
  {
   "cell_type": "markdown",
   "metadata": {},
   "source": [
    "##### Tune \"trench-row\" cropping hyperparameters\n",
    "\n",
    "Next, we will use the detected rows to perform cropping of the input image in the y-dimension:\n",
    "\n",
    "1. Determine edges of trench rows based on threshold mask.\n",
    "2. Filter out rows that are too small.\n",
    "3. Use the remaining rows to compute the drift in y in each image.\n",
    "4. Apply the drift to the initally detected rows to get rows in all timepoints.\n",
    "5. Perform cropping using the \"end\" of the row as reference (the end referring to the part of the trench farthest from <br>the feeding channel).\n",
    "\n",
    "Step 5 performs a simple algorithm to determine the orientation of each trench:\n",
    "\n",
    "```\n",
    "row_orientations = [] # A list of row orientations, starting from the topmost row\n",
    "if the number of detected rows == 'Number of Rows': \n",
    "    row_orientations.append('Orientation')\n",
    "elif the number of detected rows < 'Number of Rows':\n",
    "    row_orientations.append('Orientation when < expected rows')\n",
    "for row in rows:\n",
    "    if row_orientations[-1] == downward:\n",
    "        row_orientations.append(upward)\n",
    "    elif row_orientations[-1] == upward:\n",
    "        row_orientations.append(downward)\n",
    "```\n",
    "\n",
    "Additionally, if the device tranches face a single direction, alternation of row orientation may be turned off by setting the<br> `Alternate Orientation?` argument to False. The `Use Median Drift?` argument, when set to True, will use the<br> median drift in y across all FOVs for drift correction, instead of doing drift correction independently for all FOVs. <br>This can be useful if there are a large fraction of FOVs which are failing drift correction. Note that `Use Median Drift?` <br>sets this behavior for both y and x drift correction.\n",
    "\n",
    "The arguments for this step are:\n",
    "\n",
    " - **y_min_edge_dist (int)** : Minimum row length necessary for detection (filters out small detected objects).\n",
    "\n",
    " - **padding_y (int)** : Padding to add to the end of trench row when cropping in the y-dimension.\n",
    "\n",
    " - **trench_len_y (int)** : Length from the end of each trench row to the feeding channel side of the crop.\n",
    "\n",
    " - **Number of Rows (int)** : The number of rows to expect in your image. For instance, two in the example image.\n",
    " \n",
    " - **Alternate Orientation? (bool)** : Whether or not to alternate the orientation of consecutive rows.\n",
    "\n",
    " - **Orientation (int)** : The orientation of the top-most row where 0 corresponds to a trench with a downward-oriented trench <br>opening and 1 corresponds to a trench with an upward-oriented trench opening.\n",
    "\n",
    " - **Orientation when < expected rows(int)** : The orientation of the top-most row when the number of detected rows is less than <br>expected. Useful if your trenches drift out of your image in some FOVs.\n",
    " \n",
    " - **Use Median Drift? (bool)** : Whether to use the median detected drift across all FOVs, instead of the drift detected in each FOV individually.\n",
    "\n",
    " - **images_per_row(int)** : How many images to output per row for this widget.\n",
    "\n",
    "Running the following widget will display y-cropped images for each fov and timepoint."
   ]
  },
  {
   "cell_type": "code",
   "execution_count": null,
   "metadata": {},
   "outputs": [],
   "source": [
    "interactive_kymograph.preview_y_crop_interactive()"
   ]
  },
  {
   "cell_type": "markdown",
   "metadata": {},
   "source": [
    "##### Tune trench detection hyperparameters\n",
    "\n",
    "Next, we will detect the positions of trenchs in the y-cropped images as follows:\n",
    "\n",
    "1. Reducing each 2D image to a 1D signal along the x-axis by computing the qth percentile of the data along the y-axis.\n",
    "2. Determine the signal background by smoothing this signal using a large median kernel.\n",
    "3. Subtract the background signal.\n",
    "4. Smooth the resultant signal using a median kernel.\n",
    "5. Use an [otsu threhsold](https://imagej.net/Auto_Threshold#Otsu) to determine the trench midpoint poisitons.\n",
    "\n",
    "After this, x-dimension drift correction of our detected midpoints will be performed as follows:\n",
    "\n",
    "6. Begin at t=1\n",
    "7. For $m \\in \\{midpoints(t)\\}$ assign $n \\in \\{midpoints(t-1)\\}$ to m if n is the closest midpoint to m at time $t-1$,<br>\n",
    "points that are not the closest midpoint to any midpoints in m will not be mapped.\n",
    "8. Compute the translation of each midpoint at time.\n",
    "9. Take the average of this value as the x-dimension drift from time t-1 to t.\n",
    "\n",
    "The arguments for this step are:\n",
    "\n",
    " - **t (int)** : Timepoint to examine the percentiles and threshold in.\n",
    "\n",
    " - **x_percentile (int)** : Percentile to use for step 1.\n",
    "\n",
    " - **background_kernel_x (int)** : Median kernel size to use for step 2.\n",
    "\n",
    " - **smoothing_kernel_x (int)** : Median kernel size to use for step 4.\n",
    "\n",
    " - **otsu_scaling (float)** : Scaling factor to apply to the threshold determined by Otsu's method.\n",
    "\n",
    "Running the following widget will display the smoothed 1-D signal for each of your timepoints. In addition, the threshold <br>value for each fov will be displayed as a red line. In addition, it will display the detected midpoints for each of your timepoints. <br>If there is too much sparsity, or discontinuity, your drift correction will not be accurate."
   ]
  },
  {
   "cell_type": "code",
   "execution_count": null,
   "metadata": {},
   "outputs": [],
   "source": [
    "interactive_kymograph.preview_x_percentiles_interactive()"
   ]
  },
  {
   "cell_type": "markdown",
   "metadata": {},
   "source": [
    "##### Tune trench cropping hyperparameters\n",
    "\n",
    "Trench cropping simply uses the drift-corrected midpoints as a reference and crops out some fixed length around them <br>\n",
    "to produce an output kymograph. **Note that the current implementation does not allow trench crops to overlap**. If your<br>\n",
    "trench crops do overlap, the error will not be caught here, but will cause issues later in the pipeline. As such, try <br>\n",
    "to crop your trenches as closely as possible. This issue will be fixed in a later update.\n",
    "\n",
    "The arguments for this step are:\n",
    "\n",
    " - **trench_width_x (int)** : Trench width to use for cropping.\n",
    "\n",
    " - **trench_present_thr (float)** : Trenches that appear in less than this percent of FOVs will be eliminated from the dataset.<br>\n",
    "If not removed, missing positions will be inferred from the image drift.\n",
    "\n",
    " - **Use Median Drift? (bool)** : Whether to use the median detected drift across all FOVs, instead of the drift detected in each FOV individually.\n",
    "\n",
    "\n",
    "Running the following widget will display a random kymograph for each row in each fov and will also produce midpoint plots <br>showing retained midpoints"
   ]
  },
  {
   "cell_type": "code",
   "execution_count": null,
   "metadata": {},
   "outputs": [],
   "source": [
    "interactive_kymograph.preview_kymographs_interactive()"
   ]
  },
  {
   "cell_type": "markdown",
   "metadata": {},
   "source": [
    "##### Export and save hyperparameters\n",
    "\n",
    "Run the following line to register and display the parameters you have selected for kymograph creation."
   ]
  },
  {
   "cell_type": "code",
   "execution_count": null,
   "metadata": {},
   "outputs": [],
   "source": [
    "interactive_kymograph.process_results()"
   ]
  },
  {
   "cell_type": "markdown",
   "metadata": {},
   "source": [
    "If you are satisfied with the above parameters, run the following line to write these parameters to disk at `headpath/kymograph.par`<br>\n",
    "This file will be used to perform kymograph creation in the next section."
   ]
  },
  {
   "cell_type": "code",
   "execution_count": null,
   "metadata": {},
   "outputs": [],
   "source": [
    "interactive_kymograph.write_param_file()"
   ]
  },
  {
   "cell_type": "markdown",
   "metadata": {},
   "source": [
    "### Generate Kymograph"
   ]
  },
  {
   "cell_type": "markdown",
   "metadata": {},
   "source": [
    "##### Start Dask Workers\n",
    "\n",
    "Again, we start a `dask_controller` instance which will handle all of our parallel processing. The default parameters <br>here work well on O2 for kymograph creation. The critical arguments here are:\n",
    "\n",
    "**walltime** : For a cluster, the length of time you will request each node for.\n",
    "\n",
    "**local** : `True` if you want to perform computation locally. `False` if you want to perform it on a SLURM cluster.\n",
    "\n",
    "**n_workers** : Number of nodes to request if on the cluster, or number of processes if computing locally.\n",
    "\n",
    "**memory** : For a cluster, the amount of memory you will request each node for.\n",
    "\n",
    "**working_directory** : For a cluster, the directory in which data will be spilled to disk. Usually set as a folder in <br>the `headpath`."
   ]
  },
  {
   "cell_type": "code",
   "execution_count": null,
   "metadata": {},
   "outputs": [],
   "source": [
    "dask_controller = tr.trcluster.dask_controller(\n",
    "    walltime=\"04:00:00\",\n",
    "    local=False,\n",
    "    n_workers=50,\n",
    "    memory=\"2GB\",\n",
    "    working_directory=headpath + \"/dask\",\n",
    ")\n",
    "dask_controller.startdask()"
   ]
  },
  {
   "cell_type": "markdown",
   "metadata": {},
   "source": [
    "After running the above line, you will have a running Dask client. Run the line below and click the link to supervise <br>the computation being administered by the scheduler. \n",
    "\n",
    "Don't be alarmed if the screen starts mostly blank, it may take time for your workers to spin up. If you get a 404 <br>error on a cluster, it is likely that your ports are not being forwarded properly. If this occurs, please register <br>the issue on github."
   ]
  },
  {
   "cell_type": "code",
   "execution_count": null,
   "metadata": {},
   "outputs": [],
   "source": [
    "dask_controller.daskclient"
   ]
  },
  {
   "cell_type": "markdown",
   "metadata": {},
   "source": [
    "##### Perform Kymograph Cropping\n",
    "\n",
    "Now that we have our cluster scheduler spun up, we will extract kymographs using the parameters stored in `headpath/kymograph.par`. <br>\n",
    "This will be handled by the `kymograph_cluster` object. This will detect trenches in all of the files present in `headpath/hdf5` that <br>\n",
    "you created in the first step. It will then crop these trenches and place the crops in a series of `.hdf5` files in `headpath/kymograph`. <br>\n",
    "These files will store image data in the form of `(K,T,Y,X)` arrays where K is the trench index, T is time and Y,X are the image dimensions <br>\n",
    "of the crop.\n",
    "\n",
    "The arguments for this step are:\n",
    "\n",
    " - **headpath** : The folder in which processing is occuring. Should be the same for each step in the pipeline.\n",
    "\n",
    " - **trenches_per_file** : The maximum number of trenches stored in each output `.hdf5` file. Typical values are between 25 <br>and 100.\n",
    "\n",
    " - **paramfile** : Set to true if you want to use parameters from `headpath/kymograph.par` Otherwise, you will have to specify <br>\n",
    " parameters as direct arguments to `kymograph_cluster`."
   ]
  },
  {
   "cell_type": "code",
   "execution_count": null,
   "metadata": {},
   "outputs": [],
   "source": [
    "kymoclust = tr.kymograph.kymograph_cluster(\n",
    "    headpath=headpath, trenches_per_file=200, paramfile=True\n",
    ")"
   ]
  },
  {
   "cell_type": "markdown",
   "metadata": {},
   "source": [
    "##### Begin Kymograph Cropping \n",
    "\n",
    "Running the following line will start the cropping process. This may be monitored by examining the `Dask Dashboard` <br>\n",
    "under the link displayed earlier. Once the computation is complete, move to the next line.\n",
    "\n",
    "**Do not move on until all tasks are displayed as 'in memory' in Dask.**"
   ]
  },
  {
   "cell_type": "code",
   "execution_count": null,
   "metadata": {},
   "outputs": [],
   "source": [
    "kymoclust.generate_kymographs(dask_controller)"
   ]
  },
  {
   "cell_type": "code",
   "execution_count": null,
   "metadata": {},
   "outputs": [],
   "source": [
    "ff = tr.focus_filter(headpath)"
   ]
  },
  {
   "cell_type": "code",
   "execution_count": null,
   "metadata": {},
   "outputs": [],
   "source": [
    "ff.choose_filter_channel_inter()"
   ]
  },
  {
   "cell_type": "code",
   "execution_count": null,
   "metadata": {},
   "outputs": [],
   "source": [
    "ff.plot_histograms()"
   ]
  },
  {
   "cell_type": "code",
   "execution_count": null,
   "metadata": {},
   "outputs": [],
   "source": [
    "ff.plot_focus_threshold_inter()"
   ]
  },
  {
   "cell_type": "code",
   "execution_count": null,
   "metadata": {},
   "outputs": [],
   "source": [
    "ff.write_param_file()"
   ]
  },
  {
   "cell_type": "markdown",
   "metadata": {},
   "source": [
    "##### Post-process Images\n",
    "\n",
    "After the above step, kymographs will have been created for each `.hdf5` input file. They will now need to be reorganized <br>\n",
    "into a new set of files such that each file has, at most, `trenches_per_file` trenches in each file.\n",
    "\n",
    "**Do not move on until all tasks are displayed as 'in memory' in Dask.**"
   ]
  },
  {
   "cell_type": "code",
   "execution_count": null,
   "metadata": {},
   "outputs": [],
   "source": [
    "kymoclust.post_process(dask_controller)"
   ]
  },
  {
   "cell_type": "markdown",
   "metadata": {},
   "source": [
    "##### Check kymograph statistics\n",
    "\n",
    "Run the next line to display some statistics from kymograph creation. The outputs are:\n",
    "\n",
    " - **fovs processed** : The number of FOVs successfully processed out of the total number of FOVs\n",
    " - **rows processed** : The number of rows of trenches processed out of the total number of rows\n",
    " - **trenches processed** : The number of trenches successfully processed\n",
    " - **row/fov** : The average number of rows successfully processed per FOV\n",
    " - **trenches/fov** : The average number of trenches successfully processed per FOV\n",
    " - **failed fovs** : A list of failed FOVs. Spot check these FOVs in the viewer to determine potential problems"
   ]
  },
  {
   "cell_type": "code",
   "execution_count": null,
   "metadata": {},
   "outputs": [],
   "source": [
    "kymoclust.kymo_report()"
   ]
  },
  {
   "cell_type": "markdown",
   "metadata": {},
   "source": [
    "##### Shutdown Dask\n",
    "\n",
    "Once cropping is complete, it is likely that you will want to shutdown your `dask_controller` if you are on a <br>\n",
    "cluster. This is because the specifications of the current `dask_controller` will not be optimal for later steps. <br>\n",
    "To do this, run the following line and wait for it to complete. If it hangs, interrupt your kernel and re-run it. <br>\n",
    "If this also fails to shutdown your workers, you will have to manually shut them down using `scancel` in a terminal."
   ]
  },
  {
   "cell_type": "code",
   "execution_count": null,
   "metadata": {},
   "outputs": [],
   "source": [
    "dask_controller.daskclient.restart()"
   ]
  },
  {
   "cell_type": "code",
   "execution_count": null,
   "metadata": {},
   "outputs": [],
   "source": [
    "dask_controller.shutdown()"
   ]
  },
  {
   "cell_type": "markdown",
   "metadata": {},
   "source": [
    "## Fluorescence Segmentation\n",
    "\n",
    "Now that you have copped your data into kymographs, we will now perform segmentation/cell detection <br>\n",
    "on your kymographs. Currently, this pipeline only supports segmentation of fluorescence images; however, <br>\n",
    "segmentation of transmitted light imaging techniques is in development.\n",
    "\n",
    "The output of this step will be a set of `segmentation_[File #].hdf5` files stored in `headpath/fluorsegmentation`.<br>\n",
    "The image data stored in these files takes the exact same form as the kymograph data, `(K,T,Y,X)` arrays <br>\n",
    "where K is the trench index, T is time, and Y,X are the crop dimensions. These arrays are accessible using <br>\n",
    "keys of the form `\"[Trench Row Number]\"`.\n",
    "\n",
    "Since no metadata is generated by this step, it is possible to use another segmentation algorithm on the kymograph <br>\n",
    "data. The output of segmentation must be split into `segmentation_[File #].hdf5` files, where `[File #]` agrees with the<br>\n",
    "corresponding `kymograph_[File #].hdf5` file. Additionally, the `(K,T,Y,X)` arrays must be of the same shape as the <br>\n",
    "kymograph arrays and accessible at the corresponding `\"[Trench Row Number]\"` key. These files must be placed into <br>\n",
    "their own folder at `headpath/foldername`. This folder may then be used in later steps."
   ]
  },
  {
   "cell_type": "markdown",
   "metadata": {},
   "source": [
    "### Test Parameters"
   ]
  },
  {
   "cell_type": "markdown",
   "metadata": {},
   "source": [
    "##### Initialize the interactive segmentation class\n",
    "\n",
    "As a first step, initialize the `tr.fluo_segmentation_interactive` class that will be handling all steps of generating a segmentation. "
   ]
  },
  {
   "cell_type": "code",
   "execution_count": null,
   "metadata": {},
   "outputs": [],
   "source": [
    "interactive_segmentation = tr.fluo_segmentation_interactive(headpath)"
   ]
  },
  {
   "cell_type": "markdown",
   "metadata": {},
   "source": [
    "##### Choose channel to segment on"
   ]
  },
  {
   "cell_type": "code",
   "execution_count": null,
   "metadata": {},
   "outputs": [],
   "source": [
    "interactive_segmentation.choose_seg_channel_inter()"
   ]
  },
  {
   "cell_type": "markdown",
   "metadata": {},
   "source": [
    "#### Import data\n",
    "\n",
    "Fill in \n",
    "\n",
    "You will need to tune the following `args` and `kwargs` (in order):\n",
    "\n",
    "**fov_idx (int)** :\n",
    "\n",
    "**n_trenches (int)** :\n",
    "\n",
    "**t_range (tuple)** :\n",
    "\n",
    "**t_subsample_step (int)** :"
   ]
  },
  {
   "cell_type": "code",
   "execution_count": null,
   "metadata": {},
   "outputs": [],
   "source": [
    "interactive_segmentation.import_array_inter()"
   ]
  },
  {
   "cell_type": "markdown",
   "metadata": {},
   "source": [
    "##### Process data"
   ]
  },
  {
   "cell_type": "code",
   "execution_count": null,
   "metadata": {},
   "outputs": [],
   "source": [
    "interactive_segmentation.plot_processed_inter()"
   ]
  },
  {
   "cell_type": "markdown",
   "metadata": {},
   "source": [
    "#### Determine Cell Mask Envelope\n",
    "\n",
    "Fill in.\n",
    "\n",
    "You will need to tune the following `args` and `kwargs` (in order):\n",
    "\n",
    "**cell_mask_method (str)** : Thresholding method, can be a local or global Otsu threshold.\n",
    "\n",
    "**cell_otsu_scaling (float)** : Scaling factor applied to determined threshold.\n",
    "\n",
    "**local_otsu_r (int)** : Radius of thresholding kernel used in the local otsu thresholding."
   ]
  },
  {
   "cell_type": "code",
   "execution_count": null,
   "metadata": {},
   "outputs": [],
   "source": [
    "interactive_segmentation.plot_cell_mask_inter()"
   ]
  },
  {
   "cell_type": "code",
   "execution_count": null,
   "metadata": {},
   "outputs": [],
   "source": [
    "interactive_segmentation.plot_eig_mask_inter()"
   ]
  },
  {
   "cell_type": "code",
   "execution_count": null,
   "metadata": {},
   "outputs": [],
   "source": [
    "interactive_segmentation.plot_dist_mask_inter()"
   ]
  },
  {
   "cell_type": "code",
   "execution_count": null,
   "metadata": {},
   "outputs": [],
   "source": [
    "interactive_segmentation.plot_marker_mask_inter()"
   ]
  },
  {
   "cell_type": "code",
   "execution_count": null,
   "metadata": {},
   "outputs": [],
   "source": [
    "interactive_segmentation.process_results()"
   ]
  },
  {
   "cell_type": "code",
   "execution_count": null,
   "metadata": {},
   "outputs": [],
   "source": [
    "interactive_segmentation.write_param_file()"
   ]
  },
  {
   "cell_type": "markdown",
   "metadata": {},
   "source": [
    "### Generate Segmentation"
   ]
  },
  {
   "cell_type": "markdown",
   "metadata": {},
   "source": [
    "#### Start Dask Workers"
   ]
  },
  {
   "cell_type": "code",
   "execution_count": null,
   "metadata": {},
   "outputs": [],
   "source": [
    "dask_controller = tr.trcluster.dask_controller(\n",
    "    walltime=\"01:00:00\",\n",
    "    local=False,\n",
    "    n_workers=50,\n",
    "    memory=\"1GB\",\n",
    "    working_directory=headpath + \"/dask\",\n",
    ")\n",
    "dask_controller.startdask()"
   ]
  },
  {
   "cell_type": "code",
   "execution_count": null,
   "metadata": {},
   "outputs": [],
   "source": [
    "dask_controller.displaydashboard()"
   ]
  },
  {
   "cell_type": "code",
   "execution_count": null,
   "metadata": {},
   "outputs": [],
   "source": [
    "segment = tr.segment.fluo_segmentation_cluster(headpath, paramfile=True)"
   ]
  },
  {
   "cell_type": "code",
   "execution_count": null,
   "metadata": {},
   "outputs": [],
   "source": [
    "segment.dask_segment(dask_controller)"
   ]
  },
  {
   "cell_type": "code",
   "execution_count": null,
   "metadata": {},
   "outputs": [],
   "source": []
  },
  {
   "cell_type": "markdown",
   "metadata": {},
   "source": [
    "#### Stop Dask Workers"
   ]
  },
  {
   "cell_type": "code",
   "execution_count": null,
   "metadata": {},
   "outputs": [],
   "source": [
    "dask_controller.shutdown()"
   ]
  },
  {
   "cell_type": "markdown",
   "metadata": {},
   "source": [
    "## Region Properties (No Lineage)\n",
    "\n",
    "Note this does not require a dask client"
   ]
  },
  {
   "cell_type": "code",
   "execution_count": null,
   "metadata": {},
   "outputs": [],
   "source": [
    "from paulssonlab.deaton.trenchripper.trenchripper import pandas_hdf5_handler\n",
    "from paulssonlab.deaton.trenchripper.trenchripper import dask_controller\n",
    "\n",
    "import h5py\n",
    "import os\n",
    "\n",
    "import skimage as sk\n",
    "import pandas as pd\n",
    "import numpy as np\n",
    "import dask.dataframe as dd\n",
    "import dask.delayed as delayed\n",
    "\n",
    "from distributed.client import futures_of\n",
    "from time import sleep\n",
    "\n",
    "from matplotlib import pyplot as plt\n",
    "\n",
    "\n",
    "class regionprops_extractor:\n",
    "    def __init__(\n",
    "        self,\n",
    "        headpath,\n",
    "        segmentationdir,\n",
    "        intensity_channel_list=None,\n",
    "        include_background=False,\n",
    "        props=[\"centroid\", \"area\", \"mean_intensity\"],\n",
    "        unpack_dict={\"centroid\": [\"centroid_y\", \"centroid_x\"]},\n",
    "    ):\n",
    "        self.headpath = headpath\n",
    "        self.intensity_channel_list = intensity_channel_list\n",
    "        self.intensity_channel_dict = {\n",
    "            channel: i for i, channel in enumerate(intensity_channel_list)\n",
    "        }\n",
    "        self.include_background = include_background\n",
    "        self.kymographpath = headpath + \"/kymograph\"\n",
    "        self.segmentationpath = headpath + \"/\" + segmentationdir\n",
    "        self.metapath = self.kymographpath + \"/metadata\"\n",
    "        self.analysispath = headpath + \"/analysis\"\n",
    "        self.props = props\n",
    "        self.unpack_dict = unpack_dict\n",
    "\n",
    "    def get_file_regionprops(self, file_idx):\n",
    "        segmentation_file = (\n",
    "            self.segmentationpath + \"/segmentation_\" + str(file_idx) + \".hdf5\"\n",
    "        )\n",
    "        kymograph_file = self.kymographpath + \"/kymograph_\" + str(file_idx) + \".hdf5\"\n",
    "\n",
    "        with h5py.File(segmentation_file, \"r\") as segfile:\n",
    "            seg_arr = segfile[\"data\"][:]\n",
    "        if self.intensity_channel_list is not None:\n",
    "            kymo_arr_list = []\n",
    "            with h5py.File(kymograph_file, \"r\") as kymofile:\n",
    "                for intensity_channel in self.intensity_channel_list:\n",
    "                    kymo_arr_list.append(kymofile[intensity_channel][:])\n",
    "        all_props_list = []\n",
    "        for k in range(seg_arr.shape[0]):\n",
    "            for t in range(seg_arr.shape[1]):\n",
    "                labels = sk.measure.label(seg_arr[k, t])\n",
    "                ## Measure regionprops of background pixels; will always be marked as the first object\n",
    "                if self.include_background:\n",
    "                    labels += 1\n",
    "                if self.intensity_channel_list is not None:\n",
    "                    for i, intensity_channel in enumerate(self.intensity_channel_list):\n",
    "                        rps = sk.measure.regionprops(labels, kymo_arr_list[i][k, t])\n",
    "                        props_list = []\n",
    "                        for obj, rp in enumerate(rps):\n",
    "                            props_entry = [file_idx, k, t, obj, intensity_channel]\n",
    "                            for prop_key in self.props:\n",
    "                                if prop_key in self.unpack_dict.keys():\n",
    "                                    prop_split = self.unpack_dict[prop_key]\n",
    "                                    prop_output = rp[prop_key]\n",
    "                                    props_entry += [\n",
    "                                        prop_output[i] for i in range(len(prop_split))\n",
    "                                    ]\n",
    "                                else:\n",
    "                                    props_entry += [rp[prop_key]]\n",
    "                            props_list.append(props_entry)\n",
    "                        all_props_list += props_list\n",
    "\n",
    "                #                         for prop_key in self.props:\n",
    "                #                             props_list.append([file_idx, k, t, obj, intensity_channel])\n",
    "                #                         props_list = [[file_idx, k, t, obj, intensity_channel]+[getattr(rp, prop_key) for prop_key in self.props] for obj,rp in enumerate(rps)]\n",
    "                #                         all_props_list+=props_list\n",
    "                else:\n",
    "                    rps = sk.measure.regionprops(labels)\n",
    "                    props_list = []\n",
    "                    for obj, rp in enumerate(rps):\n",
    "                        props_entry = [file_idx, k, t, obj]\n",
    "                        for prop_key in self.props:\n",
    "                            if prop_key in self.unpack_dict.keys():\n",
    "                                prop_split = self.unpack_dict[prop_key]\n",
    "                                prop_output = rp[prop_key]\n",
    "                                props_entry += [\n",
    "                                    prop_output[i] for i in range(len(prop_split))\n",
    "                                ]\n",
    "                            else:\n",
    "                                props_entry += [rp[prop_key]]\n",
    "                        props_list.append(props_entry)\n",
    "                    all_props_list += props_list\n",
    "\n",
    "        #                     props_list = [[file_idx, k, t, obj]+[getattr(rp, prop_key) for prop_key in self.props] for obj,rp in enumerate(rps)]\n",
    "        #                     all_props_list+=props_list\n",
    "\n",
    "        property_columns = [\n",
    "            self.unpack_dict[prop] if prop in self.unpack_dict.keys() else [prop]\n",
    "            for prop in self.props\n",
    "        ]\n",
    "        property_columns = [item for sublist in property_columns for item in sublist]\n",
    "\n",
    "        if self.intensity_channel_list is not None:\n",
    "            column_list = [\n",
    "                \"File Index\",\n",
    "                \"File Trench Index\",\n",
    "                \"timepoints\",\n",
    "                \"Objectid\",\n",
    "                \"Intensity Channel\",\n",
    "            ] + property_columns\n",
    "            df_out = pd.DataFrame(all_props_list, columns=column_list).reset_index()\n",
    "        else:\n",
    "            column_list = [\n",
    "                \"File Index\",\n",
    "                \"File Trench Index\",\n",
    "                \"timepoints\",\n",
    "                \"Objectid\",\n",
    "            ] + property_columns\n",
    "            df_out = pd.DataFrame(all_props_list, columns=column_list).reset_index()\n",
    "\n",
    "        file_idx = df_out.apply(\n",
    "            lambda x: int(\n",
    "                f\"{x['File Index']:04}{x['File Trench Index']:04}{x['timepoints']:04}{x['Objectid']:02}{self.intensity_channel_dict[x['Intensity Channel']]:02}\"\n",
    "            ),\n",
    "            axis=1,\n",
    "        )\n",
    "\n",
    "        df_out[\"File Parquet Index\"] = [item for item in file_idx]\n",
    "        df_out = df_out.set_index(\"File Parquet Index\").sort_index()\n",
    "        del df_out[\"index\"]\n",
    "\n",
    "        return df_out\n",
    "\n",
    "    def analyze_all_files(self, dask_cont):\n",
    "        df = dd.read_parquet(self.metapath)\n",
    "        file_list = df[\"File Index\"].unique().compute().tolist()\n",
    "        #         kymo_meta = dd.read_parquet(self.metapath)\n",
    "        #         file_list = kymo_meta[\"File Index\"].unique().tolist()\n",
    "\n",
    "        delayed_list = []\n",
    "        for file_idx in file_list:\n",
    "            df_delayed = delayed(self.get_file_regionprops)(file_idx)\n",
    "            delayed_list.append(df_delayed.persist())\n",
    "\n",
    "        ## filtering out non-failed dataframes ##\n",
    "        all_delayed_futures = []\n",
    "        for item in delayed_list:\n",
    "            all_delayed_futures += futures_of(item)\n",
    "        while any(future.status == \"pending\" for future in all_delayed_futures):\n",
    "            sleep(0.1)\n",
    "\n",
    "        good_delayed = []\n",
    "        for item in delayed_list:\n",
    "            if all([future.status == \"finished\" for future in futures_of(item)]):\n",
    "                good_delayed.append(item)\n",
    "\n",
    "        ## compiling output dataframe ##\n",
    "        df_out = dd.from_delayed(good_delayed).persist()\n",
    "        df_out[\"File Parquet Index\"] = df_out.index\n",
    "        df_out = df_out.set_index(\"File Parquet Index\", drop=True, sorted=False)\n",
    "        df_out = df_out.repartition(partition_size=\"25MB\").persist()\n",
    "\n",
    "        kymo_df = dd.read_parquet(self.metapath)\n",
    "        kymo_df[\"File Merge Index\"] = kymo_df[\"File Parquet Index\"]\n",
    "        kymo_df = kymo_df.set_index(\"File Merge Index\", sorted=True)\n",
    "        kymo_df = kymo_df.drop(\n",
    "            [\"File Index\", \"File Trench Index\", \"timepoints\", \"File Parquet Index\"],\n",
    "            axis=1,\n",
    "        )\n",
    "\n",
    "        df_out[\"File Merge Index\"] = df_out.apply(\n",
    "            lambda x: int(\n",
    "                f'{x[\"File Index\"]:04}{x[\"File Trench Index\"]:04}{x[\"timepoints\"]:04}'\n",
    "            ),\n",
    "            axis=1,\n",
    "        )\n",
    "        df_out = df_out.reset_index(drop=False)\n",
    "        df_out = df_out.set_index(\"File Merge Index\", sorted=True)\n",
    "\n",
    "        df_out = df_out.join(kymo_df)\n",
    "        df_out = df_out.set_index(\"File Parquet Index\", sorted=True)\n",
    "\n",
    "        dd.to_parquet(\n",
    "            df_out,\n",
    "            self.analysispath,\n",
    "            engine=\"fastparquet\",\n",
    "            compression=\"gzip\",\n",
    "            write_metadata_file=True,\n",
    "        )\n",
    "\n",
    "    def export_all_data(self, n_workers=20, memory=\"8GB\"):\n",
    "\n",
    "        dask_cont = dask_controller(\n",
    "            walltime=\"01:00:00\",\n",
    "            local=False,\n",
    "            n_workers=n_workers,\n",
    "            memory=memory,\n",
    "            working_directory=self.headpath + \"/dask\",\n",
    "        )\n",
    "        dask_cont.startdask()\n",
    "        dask_cont.displaydashboard()\n",
    "        dask_cont.futures = {}\n",
    "\n",
    "        try:\n",
    "            self.analyze_all_files(dask_cont)\n",
    "            dask_cont.shutdown()\n",
    "        except:\n",
    "            dask_cont.shutdown()\n",
    "            raise"
   ]
  },
  {
   "cell_type": "code",
   "execution_count": null,
   "metadata": {},
   "outputs": [],
   "source": [
    "def get_image_measurements(\n",
    "    kymographpath, channels, file_idx, output_name, img_fn, *args, **kwargs\n",
    "):\n",
    "\n",
    "    df = dd.read_parquet(kymographpath + \"/metadata\")\n",
    "    df = df.set_index(\"File Parquet Index\", sorted=True)\n",
    "\n",
    "    start_idx = int(str(file_idx) + \"00000000\")\n",
    "    end_idx = int(str(file_idx) + \"99999999\")\n",
    "\n",
    "    working_dfs = []\n",
    "\n",
    "    proc_file_path = kymographpath + \"/kymograph_\" + str(file_idx) + \".hdf5\"\n",
    "    with h5py.File(proc_file_path, \"r\") as infile:\n",
    "        working_filedf = df.loc[start_idx:end_idx].compute()\n",
    "        trench_idx_list = working_filedf[\"File Trench Index\"].unique().tolist()\n",
    "        for trench_idx in trench_idx_list:\n",
    "            trench_df = working_filedf[\n",
    "                working_filedf[\"File Trench Index\"] == trench_idx\n",
    "            ]\n",
    "            for channel in channels:\n",
    "                kymo_arr = infile[channel][trench_idx]\n",
    "                fn_out = [\n",
    "                    img_fn(kymo_arr[i], *args, **kwargs)\n",
    "                    for i in range(kymo_arr.shape[0])\n",
    "                ]\n",
    "                trench_df[channel + \" \" + output_name] = fn_out\n",
    "            working_dfs.append(trench_df)\n",
    "\n",
    "    out_df = pd.concat(working_dfs)\n",
    "    return out_df\n",
    "\n",
    "\n",
    "def get_all_image_measurements(\n",
    "    headpath, output_path, channels, output_name, img_fn, *args, **kwargs\n",
    "):\n",
    "    kymographpath = headpath + \"/kymograph\"\n",
    "    df = dd.read_parquet(kymographpath + \"/metadata\")\n",
    "\n",
    "    file_list = df[\"File Index\"].unique().compute().tolist()\n",
    "\n",
    "    delayed_list = []\n",
    "    for file_idx in file_list:\n",
    "        df_delayed = delayed(get_image_measurements)(\n",
    "            kymographpath, channels, file_idx, output_name, img_fn, *args, **kwargs\n",
    "        )\n",
    "        delayed_list.append(df_delayed.persist())\n",
    "\n",
    "    ## filtering out non-failed dataframes ##\n",
    "    all_delayed_futures = []\n",
    "    for item in delayed_list:\n",
    "        all_delayed_futures += futures_of(item)\n",
    "    while any(future.status == \"pending\" for future in all_delayed_futures):\n",
    "        sleep(0.1)\n",
    "\n",
    "    good_delayed = []\n",
    "    for item in delayed_list:\n",
    "        if all([future.status == \"finished\" for future in futures_of(item)]):\n",
    "            good_delayed.append(item)\n",
    "\n",
    "    ## compiling output dataframe ##\n",
    "    df_out = dd.from_delayed(good_delayed).persist()\n",
    "    df_out[\"FOV Parquet Index\"] = df_out.index\n",
    "    df_out = df_out.set_index(\"FOV Parquet Index\", drop=True, sorted=False)\n",
    "    df_out = df_out.repartition(partition_size=\"25MB\").persist()\n",
    "\n",
    "    dd.to_parquet(\n",
    "        df_out,\n",
    "        output_path,\n",
    "        engine=\"fastparquet\",\n",
    "        compression=\"gzip\",\n",
    "        write_metadata_file=True,\n",
    "    )"
   ]
  },
  {
   "cell_type": "code",
   "execution_count": null,
   "metadata": {},
   "outputs": [],
   "source": [
    "analyzer = regionprops_extractor(\n",
    "    \"/home/de64/scratch/de64/sync_folder/2021-01-28_lDE14/gfp\",\n",
    "    \"fluorsegmentation\",\n",
    "    intensity_channel_list=[\"RFP-Penta\", \"GFP-Penta\"],\n",
    "    include_background=True,\n",
    ")"
   ]
  },
  {
   "cell_type": "code",
   "execution_count": null,
   "metadata": {},
   "outputs": [],
   "source": [
    "analyzer.export_all_data()"
   ]
  },
  {
   "cell_type": "code",
   "execution_count": null,
   "metadata": {},
   "outputs": [],
   "source": [
    "kymo_df = dd.read_parquet(analyzer.metapath)\n",
    "kymo_df[\"File Merge Index\"] = kymo_df[\"File Parquet Index\"]\n",
    "kymo_df = kymo_df.set_index(\"File Merge Index\", sorted=True)\n",
    "kymo_df = kymo_df.drop([\"File Index\", \"File Trench Index\", \"timepoints\"], axis=1)\n",
    "\n",
    "analysis_df = dd.read_parquet(analyzer.analysispath)\n",
    "analysis_df[\"File Merge Index\"] = analysis_df.apply(\n",
    "    lambda x: int(\n",
    "        f'{x[\"File Index\"]:04}{x[\"File Trench Index\"]:04}{x[\"timepoints\"]:04}'\n",
    "    ),\n",
    "    axis=1,\n",
    ")\n",
    "analysis_df = analysis_df.set_index(\"File Merge Index\", sorted=True)\n",
    "\n",
    "merged_df = analysis_df.join(kymo_df)\n",
    "merged_df = merged_df.set_index(\"File Parquet Index\", sorted=True)"
   ]
  },
  {
   "cell_type": "code",
   "execution_count": null,
   "metadata": {},
   "outputs": [],
   "source": [
    "merged_df"
   ]
  },
  {
   "cell_type": "code",
   "execution_count": null,
   "metadata": {},
   "outputs": [],
   "source": []
  },
  {
   "cell_type": "code",
   "execution_count": null,
   "metadata": {},
   "outputs": [],
   "source": []
  },
  {
   "cell_type": "code",
   "execution_count": null,
   "metadata": {},
   "outputs": [],
   "source": []
  },
  {
   "cell_type": "code",
   "execution_count": null,
   "metadata": {},
   "outputs": [],
   "source": []
  },
  {
   "cell_type": "code",
   "execution_count": null,
   "metadata": {},
   "outputs": [],
   "source": []
  },
  {
   "cell_type": "code",
   "execution_count": null,
   "metadata": {},
   "outputs": [],
   "source": []
  },
  {
   "cell_type": "code",
   "execution_count": null,
   "metadata": {},
   "outputs": [],
   "source": [
    "import dask.dataframe as dd\n",
    "import dask.delayed as delayed\n",
    "from distributed.client import futures_of\n",
    "import numpy as np\n",
    "import pandas as pd\n",
    "import h5py\n",
    "import seaborn as sns\n",
    "import scipy.signal\n",
    "import skimage as sk\n",
    "from time import sleep\n",
    "from matplotlib import pyplot as plt"
   ]
  },
  {
   "cell_type": "code",
   "execution_count": null,
   "metadata": {},
   "outputs": [],
   "source": [
    "region_props = pd.read_pickle(\n",
    "    \"/home/de64/scratch/de64/sync_folder/2021-01-28_lDE14/gfp/analysis.pkl\"\n",
    ")  # .loc[(slice(None), slice(None), list(range(10,20)), slice(None))]\n",
    "region_props = region_props.reset_index()\n",
    "region_props = region_props.set_index(\n",
    "    [\"trenchid\", \"timepoints\", \"Intensity Channel\", \"Objectid\"], drop=True\n",
    ")\n",
    "region_props = region_props.sort_index()"
   ]
  },
  {
   "cell_type": "code",
   "execution_count": null,
   "metadata": {},
   "outputs": [],
   "source": []
  },
  {
   "cell_type": "code",
   "execution_count": null,
   "metadata": {},
   "outputs": [],
   "source": []
  },
  {
   "cell_type": "markdown",
   "metadata": {},
   "source": [
    "#### Output\n",
    "\n",
    "At this point you may want to use your output. The output of this step is a set of `.hdf5` files stored in <br>`headpath/kymograph`. The image data stored in these files takes the form of `(K,T,Y,X)` arrays <br>where K is the trench index, T is time, and Y,X are the crop dimensions.\n",
    "\n",
    "These arrays are accessible using keys of the form `\"[Trench Row Number]/[Image Channel]\"`. <br>For example, looking up phase channel data of trenches in the topmost row of an image will require <br>the key `\"0/Phase\"` The metadata associated with these files is a large pandas dataframe relating <br>crops to original FOVs, accessible using the \"kymograph\" key on `headpath/metadata.hdf5`\n",
    "\n",
    "To assist in accessing this file, you may use the `trenchripper.pandas_hdf5_handler` object to <br>interface with this file as follows:"
   ]
  },
  {
   "cell_type": "code",
   "execution_count": null,
   "metadata": {},
   "outputs": [],
   "source": [
    "import dask.dataframe as dd\n",
    "import dask.delayed as delayed\n",
    "from distributed.client import futures_of\n",
    "import numpy as np\n",
    "import pandas as pd\n",
    "import h5py\n",
    "import scipy.signal\n",
    "import skimage as sk\n",
    "from time import sleep"
   ]
  },
  {
   "cell_type": "code",
   "execution_count": null,
   "metadata": {},
   "outputs": [],
   "source": [
    "def get_image_measurements(\n",
    "    kymographpath, channels, file_idx, output_name, img_fn, *args, **kwargs\n",
    "):\n",
    "\n",
    "    df = dd.read_parquet(kymographpath + \"/metadata\")\n",
    "\n",
    "    working_dfs = []\n",
    "\n",
    "    proc_file_path = kymographpath + \"/kymograph_\" + str(file_idx) + \".hdf5\"\n",
    "    with h5py.File(proc_file_path, \"r\") as infile:\n",
    "        working_filedf = df[df[\"File Index\"] == file_idx].compute()\n",
    "        trench_idx_list = working_filedf[\"File Trench Index\"].unique().tolist()\n",
    "        for trench_idx in trench_idx_list:\n",
    "\n",
    "            trench_df = working_filedf[\n",
    "                working_filedf[\"File Trench Index\"] == trench_idx\n",
    "            ]\n",
    "\n",
    "            for channel in channels:\n",
    "                kymo_arr = infile[channel][trench_idx]\n",
    "                fn_out = [\n",
    "                    img_fn(kymo_arr[i], *args, **kwargs)\n",
    "                    for i in range(kymo_arr.shape[0])\n",
    "                ]\n",
    "                trench_df[channel + \" \" + output_name] = fn_out\n",
    "            working_dfs.append(trench_df)\n",
    "\n",
    "    out_df = pd.concat(working_dfs)\n",
    "    return out_df\n",
    "\n",
    "\n",
    "def get_all_image_measurements(\n",
    "    headpath, output_path, channels, output_name, img_fn, *args, **kwargs\n",
    "):\n",
    "    kymographpath = headpath + \"/kymograph\"\n",
    "    df = dd.read_parquet(kymographpath + \"/metadata\")\n",
    "\n",
    "    file_list = df[\"File Index\"].unique().compute().tolist()\n",
    "\n",
    "    delayed_list = []\n",
    "    for file_idx in file_list:\n",
    "        df_delayed = delayed(get_image_measurements)(\n",
    "            kymographpath, channels, file_idx, output_name, img_fn, *args, **kwargs\n",
    "        )\n",
    "        delayed_list.append(df_delayed.persist())\n",
    "\n",
    "    ## filtering out non-failed dataframes ##\n",
    "    all_delayed_futures = []\n",
    "    for item in delayed_list:\n",
    "        all_delayed_futures += futures_of(item)\n",
    "    while any(future.status == \"pending\" for future in all_delayed_futures):\n",
    "        sleep(0.1)\n",
    "\n",
    "    good_delayed = []\n",
    "    for item in delayed_list:\n",
    "        if all([future.status == \"finished\" for future in futures_of(item)]):\n",
    "            good_delayed.append(item)\n",
    "\n",
    "    ## compiling output dataframe ##\n",
    "    df_out = dd.from_delayed(good_delayed).persist()\n",
    "    df_out[\"FOV Parquet Index\"] = df_out.index\n",
    "    df_out = df_out.set_index(\"FOV Parquet Index\", drop=True, sorted=False)\n",
    "    df_out = df_out.repartition(partition_size=\"25MB\").persist()\n",
    "\n",
    "    dd.to_parquet(\n",
    "        df_out,\n",
    "        output_path,\n",
    "        engine=\"fastparquet\",\n",
    "        compression=\"gzip\",\n",
    "        write_metadata_file=True,\n",
    "    )"
   ]
  },
  {
   "cell_type": "code",
   "execution_count": null,
   "metadata": {},
   "outputs": [],
   "source": [
    "headpath = \"/home/de64/scratch/de64/sync_folder/2021-01-28_lDE14/barcodes\""
   ]
  },
  {
   "cell_type": "code",
   "execution_count": null,
   "metadata": {},
   "outputs": [],
   "source": [
    "dask_controller = tr.trcluster.dask_controller(\n",
    "    walltime=\"02:00:00\",\n",
    "    local=False,\n",
    "    n_workers=30,\n",
    "    memory=\"4GB\",\n",
    "    working_directory=headpath + \"/dask\",\n",
    ")\n",
    "dask_controller.startdask()"
   ]
  },
  {
   "cell_type": "code",
   "execution_count": null,
   "metadata": {},
   "outputs": [],
   "source": [
    "dask_controller.displaydashboard()"
   ]
  },
  {
   "cell_type": "code",
   "execution_count": null,
   "metadata": {},
   "outputs": [],
   "source": [
    "dask_controller.daskclient.restart()"
   ]
  },
  {
   "cell_type": "code",
   "execution_count": null,
   "metadata": {},
   "outputs": [],
   "source": [
    "kymograph_metadata = dd.read_parquet(headpath + \"/kymograph/metadata\")\n",
    "\n",
    "# kymograph_metadata = pd.read_parquet(headpath + \"/kymograph/metadata\")\n",
    "# kymograph_metadata = kymograph_metadata[kymograph_metadata[\"fov\"]>125]"
   ]
  },
  {
   "cell_type": "code",
   "execution_count": null,
   "metadata": {},
   "outputs": [],
   "source": [
    "import numpy as np\n",
    "\n",
    "tr.get_all_image_measurements(\n",
    "    headpath,\n",
    "    headpath + \"/percentiles\",\n",
    "    [\"RFP\", \"Cy5\", \"Cy7\"],\n",
    "    \"98th Percentile\",\n",
    "    np.percentile,\n",
    "    98,\n",
    ")"
   ]
  },
  {
   "cell_type": "code",
   "execution_count": null,
   "metadata": {},
   "outputs": [],
   "source": [
    "import h5py\n",
    "import os\n",
    "\n",
    "import skimage as sk\n",
    "import pandas as pd\n",
    "import numpy as np\n",
    "import dask.dataframe as dd\n",
    "import dask.delayed as delayed\n",
    "\n",
    "from distributed.client import futures_of\n",
    "from time import sleep\n",
    "\n",
    "\n",
    "def get_image_measurements(\n",
    "    kymographpath, channels, file_idx, output_name, img_fn, *args, **kwargs\n",
    "):\n",
    "\n",
    "    df = dd.read_parquet(kymographpath + \"/metadata\")\n",
    "    df = df.set_index(\"File Parquet Index\", sorted=True)\n",
    "\n",
    "    start_idx = int(str(file_idx) + \"00000000\")\n",
    "    end_idx = int(str(file_idx) + \"99999999\")\n",
    "\n",
    "    working_dfs = []\n",
    "\n",
    "    proc_file_path = kymographpath + \"/kymograph_\" + str(file_idx) + \".hdf5\"\n",
    "    with h5py.File(proc_file_path, \"r\") as infile:\n",
    "        working_filedf = df.loc[start_idx:end_idx].compute()\n",
    "        trench_idx_list = working_filedf[\"File Trench Index\"].unique().tolist()\n",
    "        for trench_idx in trench_idx_list:\n",
    "            trench_df = working_filedf[\n",
    "                working_filedf[\"File Trench Index\"] == trench_idx\n",
    "            ]\n",
    "            for channel in channels:\n",
    "                kymo_arr = infile[channel][trench_idx]\n",
    "                fn_out = [\n",
    "                    img_fn(kymo_arr[i], *args, **kwargs)\n",
    "                    for i in range(kymo_arr.shape[0])\n",
    "                ]\n",
    "                trench_df[channel + \" \" + output_name] = fn_out\n",
    "            working_dfs.append(trench_df)\n",
    "\n",
    "    out_df = pd.concat(working_dfs)\n",
    "    return out_df\n",
    "\n",
    "\n",
    "def get_all_image_measurements(\n",
    "    headpath, output_path, channels, output_name, img_fn, *args, **kwargs\n",
    "):\n",
    "    kymographpath = headpath + \"/kymograph\"\n",
    "    df = dd.read_parquet(kymographpath + \"/metadata\")\n",
    "\n",
    "    file_list = df[\"File Index\"].unique().compute().tolist()\n",
    "\n",
    "    delayed_list = []\n",
    "    for file_idx in file_list:\n",
    "        df_delayed = delayed(get_image_measurements)(\n",
    "            kymographpath, channels, file_idx, output_name, img_fn, *args, **kwargs\n",
    "        )\n",
    "        delayed_list.append(df_delayed.persist())\n",
    "\n",
    "    ## filtering out non-failed dataframes ##\n",
    "    all_delayed_futures = []\n",
    "    for item in delayed_list:\n",
    "        all_delayed_futures += futures_of(item)\n",
    "    while any(future.status == \"pending\" for future in all_delayed_futures):\n",
    "        sleep(0.1)\n",
    "\n",
    "    good_delayed = []\n",
    "    for item in delayed_list:\n",
    "        if all([future.status == \"finished\" for future in futures_of(item)]):\n",
    "            good_delayed.append(item)\n",
    "\n",
    "    ## compiling output dataframe ##\n",
    "    df_out = dd.from_delayed(good_delayed).persist()\n",
    "    df_out[\"FOV Parquet Index\"] = df_out.index\n",
    "    df_out = df_out.set_index(\"FOV Parquet Index\", drop=True, sorted=False)\n",
    "    df_out = df_out.repartition(partition_size=\"25MB\").persist()\n",
    "\n",
    "    dd.to_parquet(\n",
    "        df_out,\n",
    "        output_path,\n",
    "        engine=\"fastparquet\",\n",
    "        compression=\"gzip\",\n",
    "        write_metadata_file=True,\n",
    "    )"
   ]
  },
  {
   "cell_type": "code",
   "execution_count": null,
   "metadata": {},
   "outputs": [],
   "source": [
    "df = dd.read_parquet(headpath + \"/kymograph/metadata\")\n",
    "df = df.set_index(\"File Parquet Index\", sorted=True)"
   ]
  },
  {
   "cell_type": "code",
   "execution_count": null,
   "metadata": {},
   "outputs": [],
   "source": [
    "df"
   ]
  },
  {
   "cell_type": "code",
   "execution_count": null,
   "metadata": {},
   "outputs": [],
   "source": [
    "file_idx = 10\n",
    "start_idx = int(str(file_idx) + \"00000000\")\n",
    "end_idx = int(str(file_idx) + \"99999999\")"
   ]
  },
  {
   "cell_type": "code",
   "execution_count": null,
   "metadata": {},
   "outputs": [],
   "source": [
    "df.loc[start_idx:end_idx].compute()"
   ]
  },
  {
   "cell_type": "code",
   "execution_count": null,
   "metadata": {},
   "outputs": [],
   "source": [
    "get_all_image_measurements(\n",
    "    headpath,\n",
    "    headpath + \"/percentiles\",\n",
    "    [\"RFP\", \"Cy5\", \"Cy7\"],\n",
    "    \"98th Percentile\",\n",
    "    np.percentile,\n",
    "    98,\n",
    ")"
   ]
  },
  {
   "cell_type": "code",
   "execution_count": null,
   "metadata": {},
   "outputs": [],
   "source": [
    "import itertools\n",
    "import numpy as np\n",
    "import pandas as pd\n",
    "import skimage as sk\n",
    "import dask.array as da\n",
    "import scipy.signal\n",
    "from matplotlib import pyplot as plt\n",
    "import scipy as sp\n",
    "import sklearn as skl\n",
    "import sklearn.mixture\n",
    "import json\n",
    "import copy\n",
    "\n",
    "import dask.dataframe as dd\n",
    "\n",
    "import ipywidgets as ipyw\n",
    "from ipywidgets import (\n",
    "    Checkbox,\n",
    "    interact,\n",
    "    interactive,\n",
    "    fixed,\n",
    "    interact_manual,\n",
    "    FloatSlider,\n",
    "    IntSlider,\n",
    "    Dropdown,\n",
    "    IntText,\n",
    "    SelectMultiple,\n",
    "    Select,\n",
    "    IntRangeSlider,\n",
    "    FloatRangeSlider,\n",
    ")\n",
    "\n",
    "\n",
    "def remove_bits_from_array(array, removed_bit_cycles=[]):\n",
    "    out_array = copy.copy(array)\n",
    "    out_array[removed_bit_cycles] = 0.0\n",
    "    return out_array\n",
    "\n",
    "\n",
    "def get_signal_sum(df, barcode_len=30, removed_bit_cycles=[], epsilon=0.1):\n",
    "    trench_group = df.groupby([\"trenchid\"])\n",
    "    barcodes = trench_group.apply(\n",
    "        lambda x: np.array(\n",
    "            x[\"RFP 98th Percentile\"].tolist()\n",
    "            + x[\"Cy5 98th Percentile\"].tolist()\n",
    "            + x[\"Cy7 98th Percentile\"].tolist()\n",
    "        ).astype(float)\n",
    "    )\n",
    "\n",
    "    short = barcodes.apply(lambda x: len(x) != barcode_len)\n",
    "    for idx in np.where(short)[0]:\n",
    "        barcodes[idx] = np.array([0.0 for i in range(barcode_len)])\n",
    "\n",
    "    barcodes_arr = np.array(barcodes.to_list())\n",
    "    barcodes_arr[:, removed_bit_cycles] = 0.0\n",
    "    barcodes_arr_no_short = np.array(barcodes[~short].to_list())\n",
    "\n",
    "    barcodes_median = np.median(barcodes_arr_no_short, axis=0) + epsilon\n",
    "\n",
    "    barcodes_arr = barcodes_arr / barcodes_median[np.newaxis, :]\n",
    "    barcodes_arr_no_short = barcodes_arr_no_short / barcodes_median[np.newaxis, :]\n",
    "\n",
    "    signal_sum = np.sum(barcodes_arr, axis=1)\n",
    "    signal_sum_no_short = np.sum(barcodes_arr_no_short, axis=1)\n",
    "\n",
    "    signal_filter_thr = get_background_thr(\n",
    "        signal_sum_no_short, get_background_dist_peak\n",
    "    )\n",
    "\n",
    "    return signal_sum, signal_filter_thr, barcodes_median, barcodes\n",
    "\n",
    "\n",
    "def get_background_thr(values, background_fn, background_scaling=10.0):\n",
    "    mu_n, std_n = background_fn(values)\n",
    "    back_thr = mu_n + background_scaling * std_n\n",
    "    return back_thr\n",
    "\n",
    "\n",
    "def get_background_dist_peak(values):\n",
    "    hist_range = (0, np.percentile(values, 90))\n",
    "    hist_count, hist_vals = np.histogram(values, bins=100, range=hist_range)\n",
    "    peaks = sp.signal.find_peaks(hist_count, distance=20)[0]\n",
    "    mu_n = hist_vals[peaks[0]]\n",
    "    lower_tail = values[values < mu_n]\n",
    "    std_n = sp.stats.halfnorm.fit(-lower_tail)[1]\n",
    "    return mu_n, std_n\n",
    "\n",
    "\n",
    "def get_gmm_hard_assign(values):\n",
    "    gmm = skl.mixture.GaussianMixture(n_components=2, n_init=10)\n",
    "    gmm.fit(values.reshape(-1, 1))\n",
    "    lower_mean_idx = np.argmin(gmm.means_)\n",
    "    assign = gmm.predict(values.reshape(-1, 1))\n",
    "    if lower_mean_idx == 1:\n",
    "        assign = (-assign) + 1\n",
    "    return assign\n",
    "\n",
    "\n",
    "def barcode_to_FISH(\n",
    "    barcodestr,\n",
    "    cycleorder=[\n",
    "        0,\n",
    "        1,\n",
    "        6,\n",
    "        7,\n",
    "        12,\n",
    "        13,\n",
    "        18,\n",
    "        19,\n",
    "        24,\n",
    "        25,\n",
    "        2,\n",
    "        3,\n",
    "        8,\n",
    "        9,\n",
    "        14,\n",
    "        15,\n",
    "        20,\n",
    "        21,\n",
    "        26,\n",
    "        27,\n",
    "        4,\n",
    "        5,\n",
    "        10,\n",
    "        11,\n",
    "        16,\n",
    "        17,\n",
    "        22,\n",
    "        23,\n",
    "        28,\n",
    "        29,\n",
    "    ],\n",
    "):\n",
    "\n",
    "    barcode = [bool(int(item)) for item in list(barcodestr)]\n",
    "    FISH_barcode = np.array([barcode[i] for i in cycleorder])\n",
    "    FISH_barcode = \"\".join(FISH_barcode.astype(int).astype(str))\n",
    "\n",
    "    return FISH_barcode\n",
    "\n",
    "\n",
    "class fish_analysis:\n",
    "    def __init__(\n",
    "        self,\n",
    "        headpath,\n",
    "        nanoporedfpath,\n",
    "        nanoporejsonpath,\n",
    "        subsample=5000,\n",
    "        barcode_len=30,\n",
    "        hamming_thr=0,\n",
    "        channel_names=[\n",
    "            \"RFP 98th Percentile\",\n",
    "            \"Cy5 98th Percentile\",\n",
    "            \"Cy7 98th Percentile\",\n",
    "        ],\n",
    "        cycleorder=[\n",
    "            0,\n",
    "            1,\n",
    "            6,\n",
    "            7,\n",
    "            12,\n",
    "            13,\n",
    "            18,\n",
    "            19,\n",
    "            24,\n",
    "            25,\n",
    "            2,\n",
    "            3,\n",
    "            8,\n",
    "            9,\n",
    "            14,\n",
    "            15,\n",
    "            20,\n",
    "            21,\n",
    "            26,\n",
    "            27,\n",
    "            4,\n",
    "            5,\n",
    "            10,\n",
    "            11,\n",
    "            16,\n",
    "            17,\n",
    "            22,\n",
    "            23,\n",
    "            28,\n",
    "            29,\n",
    "        ],\n",
    "    ):\n",
    "        self.headpath = headpath\n",
    "        self.nanoporedfpath = nanoporedfpath\n",
    "        self.nanoporejsonpath = nanoporejsonpath\n",
    "        self.subsample = subsample\n",
    "        self.barcode_len = barcode_len\n",
    "        self.hamming_thr = hamming_thr\n",
    "        self.channel_names = channel_names\n",
    "        self.cycleorder = cycleorder\n",
    "        self.percentilepath = headpath + \"/percentiles\"\n",
    "\n",
    "        with open(nanoporejsonpath) as in_file:\n",
    "            self.nanopore_metadata = json.load(in_file)\n",
    "\n",
    "        self.removed_bits = self.nanopore_metadata[\"removed_bits\"]\n",
    "        self.removed_bit_cycles = [cycleorder[bit] for bit in self.removed_bits]\n",
    "\n",
    "        kymograph_metadata = dd.read_parquet(self.percentilepath)\n",
    "        kymograph_metadata = kymograph_metadata.set_index(\n",
    "            \"trenchid\", drop=True, sorted=True\n",
    "        )\n",
    "\n",
    "        self.trenchids = list(\n",
    "            kymograph_metadata.index.compute().get_level_values(0).unique()\n",
    "        )\n",
    "        if (self.subsample != None) and (self.subsample < len(self.trenchids)):\n",
    "            selected_trenchids = sorted(\n",
    "                list(np.random.choice(self.trenchids, (self.subsample,), replace=False))\n",
    "            )\n",
    "            kymograph_metadata = kymograph_metadata.loc[selected_trenchids]\n",
    "\n",
    "        self.kymograph_metadata_subsample = (\n",
    "            kymograph_metadata.compute()\n",
    "            .reset_index()\n",
    "            .set_index([\"trenchid\", \"timepoints\"], drop=True)\n",
    "        )\n",
    "        (\n",
    "            self.signal_sum,\n",
    "            self.signal_filter_thr,\n",
    "            self.barcodes_median,\n",
    "            self.barcodes,\n",
    "        ) = get_signal_sum(\n",
    "            self.kymograph_metadata_subsample,\n",
    "            barcode_len=self.barcode_len,\n",
    "            removed_bit_cycles=self.removed_bit_cycles,\n",
    "        )\n",
    "\n",
    "    def plot_signal_threshold(self, signal_filter_thr, figsize=(12, 8)):\n",
    "        self.signal_filter_thr = signal_filter_thr\n",
    "        high_signal_mask = self.signal_sum > self.signal_filter_thr\n",
    "        high_signal_barcodes_series = self.barcodes[high_signal_mask]\n",
    "        self.high_signal_barcodes = np.array(\n",
    "            [item for item in high_signal_barcodes_series]\n",
    "        )\n",
    "\n",
    "        max_v = np.percentile(self.signal_sum, 99)\n",
    "\n",
    "        fig = plt.figure(figsize=figsize)\n",
    "        plt.hist(\n",
    "            self.signal_sum[high_signal_mask],\n",
    "            bins=100,\n",
    "            range=(0, max_v),\n",
    "            color=\"steelblue\",\n",
    "        )\n",
    "        plt.hist(\n",
    "            self.signal_sum[~high_signal_mask], bins=100, range=(0, max_v), color=\"grey\"\n",
    "        )\n",
    "        plt.title(\"Sum of all barcode signal\", fontsize=20)\n",
    "        plt.xlabel(\"Summed Intensity\", fontsize=20)\n",
    "        plt.ylabel(\"Number of Trenches\", fontsize=20)\n",
    "        plt.xticks(fontsize=20)\n",
    "        plt.yticks(fontsize=20)\n",
    "        plt.show()\n",
    "\n",
    "    def plot_signal_threshold_inter(self):\n",
    "        signal_list_int = interactive(\n",
    "            self.plot_signal_threshold,\n",
    "            {\"manual\": True},\n",
    "            signal_filter_thr=FloatSlider(\n",
    "                value=self.signal_filter_thr,\n",
    "                description=\"Signal Threshold:\",\n",
    "                min=0.0,\n",
    "                max=100.0,\n",
    "                step=0.5,\n",
    "                disabled=False,\n",
    "            ),\n",
    "            figsize=fixed((12, 8)),\n",
    "        )\n",
    "\n",
    "        display(signal_list_int)\n",
    "\n",
    "    def get_bit_thresholds(self):\n",
    "        bit_threshold_list = []\n",
    "        omit_bit_list = []\n",
    "        for i in range(self.barcode_len):\n",
    "            values = fish_test.high_signal_barcodes[:, i]\n",
    "            assign = get_gmm_hard_assign(values).astype(bool)\n",
    "            threshold = (np.min(values[assign]) + np.max(values[~assign])) / 2\n",
    "            bit_threshold_list.append(threshold)\n",
    "            omit_bit_list.append(False)\n",
    "        self.bit_threshold_list = bit_threshold_list\n",
    "\n",
    "    def plot_bit_threshold(self, idx, bit_filter_thr, figsize=(12, 8)):\n",
    "        self.bit_threshold_list[idx] = bit_filter_thr\n",
    "\n",
    "        high_signal_mask = (\n",
    "            self.high_signal_barcodes[:, idx] > self.bit_threshold_list[idx]\n",
    "        )\n",
    "        on_arr = self.high_signal_barcodes[:, idx][high_signal_mask]\n",
    "        off_arr = self.high_signal_barcodes[:, idx][~high_signal_mask]\n",
    "\n",
    "        max_val = np.percentile(self.high_signal_barcodes[:, idx].flatten(), 99)\n",
    "        bins = np.linspace(0, max_val, num=50)\n",
    "        on_frq, on_edges = np.histogram(on_arr, bins)\n",
    "        off_frq, off_edges = np.histogram(off_arr, bins)\n",
    "\n",
    "        plt.bar(\n",
    "            off_edges[:-1],\n",
    "            off_frq,\n",
    "            width=np.diff(off_edges),\n",
    "            align=\"edge\",\n",
    "            color=\"steelblue\",\n",
    "        )\n",
    "        plt.bar(\n",
    "            on_edges[:-1], on_frq, width=np.diff(on_edges), align=\"edge\", color=\"grey\"\n",
    "        )\n",
    "        plt.title(\"Barcode Signal\", fontsize=20)\n",
    "        plt.xlabel(\"Intensity\", fontsize=20)\n",
    "        plt.ylabel(\"Number of Trenches\", fontsize=20)\n",
    "        plt.xticks(fontsize=20)\n",
    "        plt.yticks(fontsize=20)\n",
    "        plt.show()\n",
    "\n",
    "    def plot_bit_threshold_inter(self):\n",
    "        timepoints = (\n",
    "            self.kymograph_metadata_subsample.index.get_level_values(\"timepoints\")\n",
    "            .unique()\n",
    "            .tolist()\n",
    "        )\n",
    "\n",
    "        idx = 0\n",
    "        channel_children = []\n",
    "        for j, channel_name in enumerate(self.channel_names):\n",
    "\n",
    "            tpt_children = []\n",
    "            for i, tpt in enumerate(timepoints):\n",
    "                tpt_children.append(\n",
    "                    interactive(\n",
    "                        self.plot_bit_threshold,\n",
    "                        idx=fixed(idx),\n",
    "                        bit_filter_thr=IntText(\n",
    "                            value=self.bit_threshold_list[idx],\n",
    "                            description=\"Bit \" + str(idx),\n",
    "                            min=0,\n",
    "                            max=10000000,\n",
    "                            disabled=False,\n",
    "                        ),\n",
    "                        figsize=fixed((12, 8)),\n",
    "                    )\n",
    "                )\n",
    "                idx += 1\n",
    "            tpt_tab = ipyw.Tab()\n",
    "            tpt_tab.children = tpt_children\n",
    "            for i in range(len(tpt_children)):\n",
    "                tpt_tab.set_title(i, \"Cycle \" + str(i))\n",
    "\n",
    "            channel_children.append(tpt_tab)\n",
    "\n",
    "        channel_tab = ipyw.Tab()\n",
    "        channel_tab.children = channel_children\n",
    "        for i in range(len(channel_children)):\n",
    "            channel_tab.set_title(i, self.channel_names[i])\n",
    "\n",
    "        display(channel_tab)\n",
    "\n",
    "    def get_barcode_df(self, epsilon=0.1):\n",
    "        self.kymograph_metadata = dd.read_parquet(self.percentilepath)\n",
    "        trench_group = self.kymograph_metadata.groupby([\"trenchid\"])\n",
    "        barcodes = trench_group.apply(\n",
    "            lambda x: np.array(\n",
    "                list(\n",
    "                    itertools.chain.from_iterable(\n",
    "                        [x[channel].tolist() for channel in self.channel_names]\n",
    "                    )\n",
    "                )\n",
    "            ).astype(float)\n",
    "        ).compute()\n",
    "        short = barcodes.apply(lambda x: len(x) != self.barcode_len)\n",
    "        barcodes[short] = [\n",
    "            np.array([0.0 for i in range(self.barcode_len)]) for i in range(len(short))\n",
    "        ]\n",
    "\n",
    "        barcodes = barcodes.apply(\n",
    "            remove_bits_from_array, removed_bit_cycles=self.removed_bit_cycles\n",
    "        )\n",
    "        signal_sum = barcodes.apply(lambda x: np.sum(x / self.barcodes_median))\n",
    "\n",
    "        high_signal_mask = signal_sum > self.signal_filter_thr\n",
    "        high_signal_barcodes_series = barcodes[high_signal_mask]\n",
    "\n",
    "        assign_arr = np.array(\n",
    "            high_signal_barcodes_series.apply(\n",
    "                lambda x: x > np.array(self.bit_threshold_list)\n",
    "            ).to_list()\n",
    "        ).T\n",
    "        assign_arr[self.removed_bit_cycles] = False\n",
    "\n",
    "        assign_strs = np.apply_along_axis(\n",
    "            lambda x: \"\".join(x.astype(int).astype(str)), 0, assign_arr\n",
    "        )\n",
    "        barcode_df = pd.DataFrame(\n",
    "            high_signal_barcodes_series, columns=[\"Barcode Signal\"]\n",
    "        )\n",
    "        barcode_df[\"Barcode\"] = assign_strs\n",
    "        self.barcode_df = barcode_df.reset_index(drop=False)\n",
    "\n",
    "    def get_nanopore_df(self):\n",
    "        nanopore_df = pd.read_csv(self.nanoporedfpath, delimiter=\"\\t\", index_col=0)\n",
    "\n",
    "        nanopore_lookup = {}\n",
    "        for _, row in nanopore_df.iterrows():\n",
    "            nanopore_lookup[\n",
    "                barcode_to_FISH(row[\"barcode\"], cycleorder=self.cycleorder)\n",
    "            ] = row\n",
    "        del nanopore_df\n",
    "        self.nanopore_lookup_df = pd.DataFrame(nanopore_lookup).T\n",
    "        del nanopore_lookup\n",
    "\n",
    "    def get_merged_df(self):\n",
    "        mergeddf = []\n",
    "\n",
    "        if self.hamming_thr == 0:\n",
    "            for _, row in self.barcode_df.iterrows():\n",
    "                try:\n",
    "                    nanopore_row = self.nanopore_lookup_df.loc[row[\"Barcode\"]]\n",
    "                    entry = pd.concat([row, nanopore_row])\n",
    "                    mergeddf.append(entry)\n",
    "                except:\n",
    "                    pass\n",
    "\n",
    "        else:\n",
    "            nanopore_idx = np.array(\n",
    "                [\n",
    "                    np.array(list(item)).astype(bool)\n",
    "                    for item in self.nanopore_lookup_df.index.tolist()\n",
    "                ]\n",
    "            ).astype(bool)\n",
    "            nanopore_idx = da.from_array(nanopore_idx, chunks=(20000, 30))\n",
    "\n",
    "            queries = np.array(\n",
    "                [\n",
    "                    np.array(list(item)).astype(bool)\n",
    "                    for item in self.barcode_df[\"Barcode\"].tolist()\n",
    "                ]\n",
    "            ).astype(bool)\n",
    "            queries = da.from_array(queries, chunks=(20000, 30))\n",
    "\n",
    "            match = (nanopore_idx.astype(\"uint8\") @ queries.T.astype(\"uint8\")) + (\n",
    "                (~nanopore_idx).astype(\"uint8\") @ (~queries).T.astype(\"uint8\")\n",
    "            )\n",
    "            hamming_dist = self.barcode_len - match\n",
    "            closest_match_thr = da.min(hamming_dist, axis=0) <= self.hamming_thr\n",
    "            closest_match = da.argmin(hamming_dist, axis=0)\n",
    "            closest_match[~closest_match_thr] = -1\n",
    "            closest_match = closest_match.compute()\n",
    "\n",
    "            filtered_lookup = {\n",
    "                query_idx: target_idx\n",
    "                for query_idx, target_idx in enumerate(closest_match)\n",
    "                if target_idx != -1\n",
    "            }\n",
    "\n",
    "            mergeddf = []\n",
    "            for i, row in self.barcode_df.iterrows():\n",
    "                try:\n",
    "                    nanopore_row = self.nanopore_lookup_df.iloc[filtered_lookup[i]]\n",
    "                    entry = pd.concat([row, nanopore_row])\n",
    "                    mergeddf.append(entry)\n",
    "                except:\n",
    "                    pass\n",
    "\n",
    "        del self.nanopore_lookup_df\n",
    "        self.mergeddf = pd.DataFrame(mergeddf)\n",
    "        del mergeddf\n",
    "\n",
    "    def output_barcode_df(self):\n",
    "        self.get_barcode_df()\n",
    "        self.get_nanopore_df()\n",
    "        self.get_merged_df()\n",
    "\n",
    "        ttl_trenches = len(self.kymograph_metadata[\"trenchid\"].unique().compute())\n",
    "        ttl_trenches_w_cells = len(self.barcode_df)\n",
    "\n",
    "        output_handle = tr.pandas_hdf5_handler(self.headpath + \"/metadata.hdf5\")\n",
    "        output_handle.write_df(\n",
    "            \"barcodes\",\n",
    "            self.mergeddf,\n",
    "            metadata={\n",
    "                \"Total Trenches\": ttl_trenches,\n",
    "                \"Total Trenches With Cells\": ttl_trenches_w_cells,\n",
    "                \"Removed Bits\": self.nanopore_metadata[\"removed_bits\"],\n",
    "                \"Removed Bit Cycles\": self.removed_bit_cycles,\n",
    "                \"Cycle Order\": self.cycleorder,\n",
    "                \"Barcode Length\": self.barcode_len,\n",
    "                \"Hamming Threshold\": self.hamming_thr,\n",
    "            },\n",
    "        )\n",
    "\n",
    "        del self.mergeddf\n",
    "\n",
    "        # nanopore_df = pd.read_csv(\"../2020-11-07_lDE11/lDE11_final_df.tsv\",delimiter=\"\\t\")\n",
    "        # nanopore_lookup = {}\n",
    "        # for _,row in nanopore_df.iterrows():\n",
    "        #     nanopore_lookup[barcode_to_FISH(row[\"barcode\"],cycleorder=fish_test.cycleorder)] = row[\"dark_gfp\"]\n",
    "\n",
    "        ## application specific?\n",
    "        # barcode_df[\"Predicted Dark GFP\"] = barcode_df.apply(lambda x: lDE11_lookup[x[\"Barcode\"]] if x[\"Barcode\"] in lDE11_lookup.keys() else \"Unknown\",axis=1)"
   ]
  },
  {
   "cell_type": "code",
   "execution_count": null,
   "metadata": {},
   "outputs": [],
   "source": [
    "nanopore_df = pd.read_csv(\"./lDE14_final_df.tsv\", delimiter=\"\\t\", index_col=0)"
   ]
  },
  {
   "cell_type": "code",
   "execution_count": null,
   "metadata": {},
   "outputs": [],
   "source": [
    "with open(\"./lDE14_final_df.json\") as in_file:\n",
    "    nanopore_metadata = json.load(in_file)"
   ]
  },
  {
   "cell_type": "code",
   "execution_count": null,
   "metadata": {},
   "outputs": [],
   "source": [
    "nanopore_metadata"
   ]
  },
  {
   "cell_type": "code",
   "execution_count": null,
   "metadata": {},
   "outputs": [],
   "source": [
    "perc_one_away = np.sum(nanopore_df[\"Closest Hamming Distance\"] == 1) / len(\n",
    "    nanopore_df[\"Closest Hamming Distance\"]\n",
    ")"
   ]
  },
  {
   "cell_type": "code",
   "execution_count": null,
   "metadata": {},
   "outputs": [],
   "source": [
    "perc_one_away"
   ]
  },
  {
   "cell_type": "code",
   "execution_count": null,
   "metadata": {},
   "outputs": [],
   "source": [
    "fish_test = tr.fish_analysis(\n",
    "    \"/home/de64/scratch/de64/sync_folder/2021-01-28_lDE14/barcodes\",\n",
    "    \"./lDE14_final_df.tsv\",\n",
    "    \"./lDE14_final_df.json\",\n",
    "    hamming_thr=0,\n",
    ")"
   ]
  },
  {
   "cell_type": "code",
   "execution_count": null,
   "metadata": {},
   "outputs": [],
   "source": [
    "fish_test.plot_signal_threshold_inter()"
   ]
  },
  {
   "cell_type": "code",
   "execution_count": null,
   "metadata": {},
   "outputs": [],
   "source": [
    "fish_test.get_bit_thresholds()"
   ]
  },
  {
   "cell_type": "code",
   "execution_count": null,
   "metadata": {},
   "outputs": [],
   "source": [
    "fish_test.bit_threshold_list = [\n",
    "    800,\n",
    "    800,\n",
    "    1000,\n",
    "    1200,\n",
    "    1200,\n",
    "    1200,\n",
    "    1500,\n",
    "    1500,\n",
    "    1200,\n",
    "    1500,\n",
    "    2500,\n",
    "    4000,\n",
    "    4000,\n",
    "    3000,\n",
    "    3500,\n",
    "    3000,\n",
    "    3500,\n",
    "    3500,\n",
    "    2500,\n",
    "    5000,\n",
    "    400,\n",
    "    400,\n",
    "    400,\n",
    "    300,\n",
    "    500,\n",
    "    400,\n",
    "    400,\n",
    "    500,\n",
    "    400,\n",
    "    400,\n",
    "]"
   ]
  },
  {
   "cell_type": "code",
   "execution_count": null,
   "metadata": {},
   "outputs": [],
   "source": [
    "fish_test.plot_bit_threshold_inter()"
   ]
  },
  {
   "cell_type": "code",
   "execution_count": null,
   "metadata": {},
   "outputs": [],
   "source": [
    "fish_test.output_barcode_df()"
   ]
  },
  {
   "cell_type": "code",
   "execution_count": null,
   "metadata": {},
   "outputs": [],
   "source": [
    "meta_handle = tr.pandas_hdf5_handler(\n",
    "    \"/home/de64/scratch/de64/sync_folder/2021-01-28_lDE14/barcodes/metadata.hdf5\"\n",
    ")\n",
    "barcode_df = meta_handle.read_df(\"barcodes\", read_metadata=True)"
   ]
  },
  {
   "cell_type": "code",
   "execution_count": null,
   "metadata": {},
   "outputs": [],
   "source": [
    "true_barcodes = np.array(\n",
    "    barcode_df[\"barcode\"].apply(lambda x: list(barcode_to_FISH(x))).tolist()\n",
    ").astype(\"uint8\")"
   ]
  },
  {
   "cell_type": "code",
   "execution_count": null,
   "metadata": {},
   "outputs": [],
   "source": [
    "read_barcodes = np.array(\n",
    "    [list(item) for item in barcode_df[\"Barcode\"].tolist()]\n",
    ").astype(\"uint8\")"
   ]
  },
  {
   "cell_type": "code",
   "execution_count": null,
   "metadata": {},
   "outputs": [],
   "source": [
    "true_barcodes.shape"
   ]
  },
  {
   "cell_type": "code",
   "execution_count": null,
   "metadata": {},
   "outputs": [],
   "source": [
    "read_barcodes.shape"
   ]
  },
  {
   "cell_type": "code",
   "execution_count": null,
   "metadata": {},
   "outputs": [],
   "source": [
    "bit_error = (\n",
    "    np.sum(np.logical_xor(true_barcodes, read_barcodes), axis=0)\n",
    "    / true_barcodes.shape[0]\n",
    ")"
   ]
  },
  {
   "cell_type": "code",
   "execution_count": null,
   "metadata": {},
   "outputs": [],
   "source": [
    "plt.bar(range(30), bit_error)\n",
    "plt.show()"
   ]
  },
  {
   "cell_type": "code",
   "execution_count": null,
   "metadata": {},
   "outputs": [],
   "source": [
    "ttl_true = np.sum([item == True for item in barcode_df[\"dark_gfp\"].tolist()])\n",
    "ttl_false = np.sum([item == False for item in barcode_df[\"dark_gfp\"].tolist()])\n",
    "ttl_none = np.sum([item == \"Unknown\" for item in barcode_df[\"dark_gfp\"].tolist()])\n",
    "ttl_called = ttl_true + ttl_false\n",
    "ttl_trenches = barcode_df.metadata[\"Total Trenches\"]\n",
    "ttl_trenches_w_cells = barcode_df.metadata[\"Total Trenches With Cells\"]\n",
    "percent_called = ttl_called / ttl_trenches\n",
    "percent_called_w_cells = ttl_called / ttl_trenches_w_cells"
   ]
  },
  {
   "cell_type": "code",
   "execution_count": null,
   "metadata": {},
   "outputs": [],
   "source": [
    "percent_called"
   ]
  },
  {
   "cell_type": "code",
   "execution_count": null,
   "metadata": {},
   "outputs": [],
   "source": [
    "percent_called_w_cells"
   ]
  },
  {
   "cell_type": "code",
   "execution_count": null,
   "metadata": {},
   "outputs": [],
   "source": [
    "analysis_df = dd.read_parquet(\n",
    "    \"/home/de64/scratch/de64/sync_folder/2021-01-28_lDE14/gfp/analysis\"\n",
    ")"
   ]
  },
  {
   "cell_type": "code",
   "execution_count": null,
   "metadata": {},
   "outputs": [],
   "source": [
    "mchy_df = analysis_df[analysis_df[\"Intensity Channel\"] == \"RFP-Penta\"]\n",
    "mchy_groupby = mchy_df.groupby([\"trenchid\", \"timepoints\"])\n",
    "\n",
    "gfp_df = analysis_df[analysis_df[\"Intensity Channel\"] == \"GFP-Penta\"]\n",
    "gfp_groupby = gfp_df.groupby([\"trenchid\", \"timepoints\"])\n",
    "\n",
    "gfp_intensity_wo_bkd = (\n",
    "    gfp_groupby.apply(\n",
    "        lambda x: (\n",
    "            x[\"mean_intensity\"] - x[x[\"Objectid\"] == 0][\"mean_intensity\"].iloc[0]\n",
    "        ).to_dict(),\n",
    "        meta=(\"mean_intensity\", float),\n",
    "    )\n",
    "    .reset_index(drop=True)\n",
    "    .compute()\n",
    "    .to_list()\n",
    ")\n",
    "gfp_intensity_wo_bkd = {k: v for d in gfp_intensity_wo_bkd for k, v in d.items()}\n",
    "gfp_intensity_wo_bkd = pd.DataFrame.from_dict(\n",
    "    gfp_intensity_wo_bkd, orient=\"index\", columns=[\"mean_intensity_wo_bkd\"]\n",
    ")\n",
    "gfp_df = gfp_df.join(gfp_intensity_wo_bkd).persist()\n",
    "del gfp_intensity_wo_bkd\n",
    "\n",
    "mchy_intensity_wo_bkd = (\n",
    "    mchy_groupby.apply(\n",
    "        lambda x: (\n",
    "            x[\"mean_intensity\"] - x[x[\"Objectid\"] == 0][\"mean_intensity\"].iloc[0]\n",
    "        ).to_dict(),\n",
    "        meta=(\"mean_intensity\", float),\n",
    "    )\n",
    "    .reset_index(drop=True)\n",
    "    .compute()\n",
    "    .to_list()\n",
    ")\n",
    "mchy_intensity_wo_bkd = {k: v for d in mchy_intensity_wo_bkd for k, v in d.items()}\n",
    "mchy_intensity_wo_bkd = pd.DataFrame.from_dict(\n",
    "    mchy_intensity_wo_bkd, orient=\"index\", columns=[\"mean_intensity_wo_bkd\"]\n",
    ")\n",
    "mchy_df = mchy_df.join(mchy_intensity_wo_bkd).persist()\n",
    "del mchy_intensity_wo_bkd"
   ]
  },
  {
   "cell_type": "code",
   "execution_count": null,
   "metadata": {},
   "outputs": [],
   "source": [
    "gfp_df_nobkd = gfp_df[gfp_df[\"Objectid\"] != 0]\n",
    "gfp_df_nobkd[\"Object Parquet Index\"] = gfp_df_nobkd.apply(\n",
    "    lambda x: int(\n",
    "        f\"{x['File Index']:04}{x['File Trench Index']:04}{x['timepoints']:04}{x['Objectid']:02}\"\n",
    "    ),\n",
    "    axis=1,\n",
    ")\n",
    "gfp_df_nobkd = gfp_df_nobkd.set_index(\"Object Parquet Index\")\n",
    "\n",
    "mchy_df_nobkd = mchy_df[mchy_df[\"Objectid\"] != 0]\n",
    "mchy_df_nobkd[\"Object Parquet Index\"] = mchy_df_nobkd.apply(\n",
    "    lambda x: int(\n",
    "        f\"{x['File Index']:04}{x['File Trench Index']:04}{x['timepoints']:04}{x['Objectid']:02}\"\n",
    "    ),\n",
    "    axis=1,\n",
    ")\n",
    "mchy_df_nobkd = mchy_df_nobkd.set_index(\"Object Parquet Index\")\n",
    "\n",
    "ratio_series = (\n",
    "    gfp_df_nobkd[\"mean_intensity_wo_bkd\"] / mchy_df_nobkd[\"mean_intensity_wo_bkd\"]\n",
    ")\n",
    "gfp_df_nobkd[\"gfp/mchy Ratio\"] = ratio_series"
   ]
  },
  {
   "cell_type": "code",
   "execution_count": null,
   "metadata": {},
   "outputs": [],
   "source": [
    "threshold = 2.0\n",
    "\n",
    "trenchid_groupby = gfp_df_nobkd.groupby(\"trenchid\")\n",
    "median_ratio = trenchid_groupby[\"gfp/mchy Ratio\"].apply(np.median).compute()\n",
    "median_ratio = median_ratio.sort_index()\n",
    "dark_gfp = median_ratio < threshold"
   ]
  },
  {
   "cell_type": "code",
   "execution_count": null,
   "metadata": {},
   "outputs": [],
   "source": [
    "perc_gfp = 1.0 - (np.sum(dark_gfp) / len(median_ratio))"
   ]
  },
  {
   "cell_type": "code",
   "execution_count": null,
   "metadata": {},
   "outputs": [],
   "source": [
    "print(perc_gfp)"
   ]
  },
  {
   "cell_type": "code",
   "execution_count": null,
   "metadata": {},
   "outputs": [],
   "source": [
    "analysis_df.loc[:10].compute()"
   ]
  },
  {
   "cell_type": "code",
   "execution_count": null,
   "metadata": {},
   "outputs": [],
   "source": [
    "plt.hist(\n",
    "    median_ratio[median_ratio < threshold],\n",
    "    range=(0, 20),\n",
    "    bins=50,\n",
    "    color=\"grey\",\n",
    "    label=\"Measured Dark GFP\",\n",
    "    density=True,\n",
    ")\n",
    "plt.hist(\n",
    "    median_ratio[median_ratio > threshold],\n",
    "    range=(0, 20),\n",
    "    bins=50,\n",
    "    color=\"green\",\n",
    "    label=\"Measured GFP\",\n",
    "    density=True,\n",
    ")\n",
    "plt.xlabel(\"Mean Intensity Ratio\", fontsize=20)\n",
    "plt.xticks(fontsize=20)\n",
    "plt.yticks(fontsize=20)\n",
    "plt.legend(fontsize=20)\n",
    "# plt.savefig(\"./2021-03-10_lDE14_figure_2.png\",dpi=300,bbox_inches=\"tight\")\n",
    "plt.show()"
   ]
  },
  {
   "cell_type": "code",
   "execution_count": null,
   "metadata": {},
   "outputs": [],
   "source": [
    "gfp_kymo_df = dd.read_parquet(\n",
    "    \"/home/de64/scratch/de64/sync_folder/2021-01-28_lDE14/gfp/kymograph/metadata\"\n",
    ")\n",
    "barcode_kymo_df = dd.read_parquet(\n",
    "    \"/home/de64/scratch/de64/sync_folder/2021-01-28_lDE14/barcodes/kymograph/metadata\"\n",
    ")\n",
    "\n",
    "max_gfp_tpt = gfp_kymo_df.loc[:1000][\"timepoints\"].max().compute()\n",
    "min_barcode_tpt = barcode_kymo_df.loc[:1000][\"timepoints\"].min().compute()\n",
    "\n",
    "last_gfp_tpt_df = gfp_kymo_df[gfp_kymo_df[\"timepoints\"] == max_gfp_tpt].compute()\n",
    "first_barcode_tpt_df = barcode_kymo_df[\n",
    "    barcode_kymo_df[\"timepoints\"] == min_barcode_tpt\n",
    "].compute()"
   ]
  },
  {
   "cell_type": "code",
   "execution_count": null,
   "metadata": {},
   "outputs": [],
   "source": [
    "len(last_gfp_tpt_df)"
   ]
  },
  {
   "cell_type": "code",
   "execution_count": null,
   "metadata": {},
   "outputs": [],
   "source": [
    "len(first_barcode_tpt_df)"
   ]
  },
  {
   "cell_type": "markdown",
   "metadata": {},
   "source": [
    "Register DFs"
   ]
  },
  {
   "cell_type": "code",
   "execution_count": null,
   "metadata": {},
   "outputs": [],
   "source": [
    "def get_trenchid_map(kymodf1, kymodf2):\n",
    "    trenchid_map = {}\n",
    "\n",
    "    fovset1 = set(kymodf1[\"fov\"].unique().tolist())\n",
    "    fovset2 = set(kymodf2[\"fov\"].unique().tolist())\n",
    "    fov_intersection = fovset1.intersection(fovset2)\n",
    "\n",
    "    for fov in fov_intersection:\n",
    "        df1_chunk = kymodf1[kymodf1[\"fov\"] == fov]\n",
    "        df2_chunk = kymodf2[kymodf2[\"fov\"] == fov]\n",
    "\n",
    "        df1_xy = df1_chunk[[\"y (local)\", \"x (local)\"]].values\n",
    "        df2_xy = df2_chunk[[\"y (local)\", \"x (local)\"]].values\n",
    "\n",
    "        ymat = np.subtract.outer(df1_xy[:, 0], df2_xy[:, 0])\n",
    "        xmat = np.subtract.outer(df1_xy[:, 1], df2_xy[:, 1])\n",
    "        distmat = (ymat**2 + xmat**2) ** (1 / 2)\n",
    "\n",
    "        # ensuring map is one-to-one\n",
    "        mapping = np.argmin(distmat, axis=1)\n",
    "        invmapping = np.argmin(distmat, axis=0)\n",
    "        mapping = {\n",
    "            idx: map_idx\n",
    "            for idx, map_idx in enumerate(mapping)\n",
    "            if invmapping[map_idx] == idx\n",
    "        }\n",
    "\n",
    "        df1_trenchids = df1_chunk[\"trenchid\"].tolist()\n",
    "        df2_trenchids = df2_chunk[\"trenchid\"].tolist()\n",
    "\n",
    "        trenchid_map.update(\n",
    "            {\n",
    "                trenchid: df2_trenchids[mapping[i]]\n",
    "                for i, trenchid in enumerate(df1_trenchids)\n",
    "                if i in mapping.keys()\n",
    "            }\n",
    "        )\n",
    "\n",
    "    return trenchid_map"
   ]
  },
  {
   "cell_type": "code",
   "execution_count": null,
   "metadata": {},
   "outputs": [],
   "source": [
    "trenchid_map = get_trenchid_map(first_barcode_tpt_df, last_gfp_tpt_df)"
   ]
  },
  {
   "cell_type": "code",
   "execution_count": null,
   "metadata": {},
   "outputs": [],
   "source": [
    "len(trenchid_map)"
   ]
  },
  {
   "cell_type": "code",
   "execution_count": null,
   "metadata": {},
   "outputs": [],
   "source": [
    "def map_Series(x, series, trenchid_map, dtype=str):\n",
    "    if x[\"trenchid\"] in trenchid_map.keys():\n",
    "        if trenchid_map[x[\"trenchid\"]] in series.index:\n",
    "            return series.loc[trenchid_map[x[\"trenchid\"]]]\n",
    "        else:\n",
    "            return \"Unknown\"\n",
    "    else:\n",
    "        return \"Unknown\"\n",
    "\n",
    "\n",
    "barcode_df[\"Measured Dark GFP\"] = barcode_df.apply(\n",
    "    map_Series, axis=1, args=(dark_gfp, trenchid_map)\n",
    ")\n",
    "barcode_df[\"Measured GFP Ratio\"] = barcode_df.apply(\n",
    "    map_Series, axis=1, args=(median_ratio, trenchid_map)\n",
    ")"
   ]
  },
  {
   "cell_type": "code",
   "execution_count": null,
   "metadata": {},
   "outputs": [],
   "source": [
    "called_df = barcode_df[barcode_df[\"Measured Dark GFP\"] != \"Unknown\"]"
   ]
  },
  {
   "cell_type": "code",
   "execution_count": null,
   "metadata": {},
   "outputs": [],
   "source": [
    "ttl_correct = np.sum(called_df[\"dark_gfp\"] == called_df[\"Measured Dark GFP\"])\n",
    "ttl_called = len(called_df)\n",
    "print(\"Error Rate:\" + str(1.0 - ttl_correct / ttl_called))"
   ]
  },
  {
   "cell_type": "code",
   "execution_count": null,
   "metadata": {},
   "outputs": [],
   "source": [
    "plt.hist(\n",
    "    called_df[called_df[\"Measured Dark GFP\"] == True][\"Measured GFP Ratio\"],\n",
    "    range=(0, 20),\n",
    "    bins=50,\n",
    "    color=\"grey\",\n",
    "    alpha=0.7,\n",
    "    label=\"Predicted Dark GFP\",\n",
    "    density=True,\n",
    ")\n",
    "plt.hist(\n",
    "    called_df[called_df[\"Measured Dark GFP\"] == False][\"Measured GFP Ratio\"],\n",
    "    range=(0, 20),\n",
    "    bins=50,\n",
    "    color=\"green\",\n",
    "    alpha=0.7,\n",
    "    label=\"Predicted GFP\",\n",
    "    density=True,\n",
    ")\n",
    "plt.xlabel(\"Median Intensity\", fontsize=20)\n",
    "plt.xticks(fontsize=20)\n",
    "plt.yticks(fontsize=20)\n",
    "plt.legend(fontsize=20)\n",
    "# plt.savefig(\"./2020-11-07_lDE11_figure_1.png\",dpi=300,bbox_inches=\"tight\")\n",
    "plt.show()"
   ]
  },
  {
   "cell_type": "code",
   "execution_count": null,
   "metadata": {},
   "outputs": [],
   "source": [
    "median_gfp_df = called_df.groupby(\"Barcode\").apply(\n",
    "    lambda x: x[\"Measured GFP Ratio\"].median()\n",
    ")"
   ]
  },
  {
   "cell_type": "code",
   "execution_count": null,
   "metadata": {},
   "outputs": [],
   "source": [
    "plt.hist(\n",
    "    median_gfp_df[median_gfp_df < threshold],\n",
    "    range=(0, 20),\n",
    "    bins=50,\n",
    "    color=\"grey\",\n",
    "    label=\"Measured Dark GFP\",\n",
    ")\n",
    "plt.hist(\n",
    "    median_gfp_df[median_gfp_df > threshold],\n",
    "    range=(0, 20),\n",
    "    bins=50,\n",
    "    color=\"green\",\n",
    "    label=\"Measured GFP\",\n",
    ")\n",
    "plt.xlabel(\"Mean Intensity Ratio\", fontsize=20)\n",
    "plt.xticks(fontsize=20)\n",
    "plt.yticks(fontsize=20)\n",
    "plt.legend(fontsize=20)\n",
    "# plt.savefig(\"./2020-10-10_lDE11_figure_2.png\",dpi=300,bbox_inches=\"tight\")\n",
    "plt.show()"
   ]
  },
  {
   "cell_type": "code",
   "execution_count": null,
   "metadata": {},
   "outputs": [],
   "source": [
    "called_df_barcodes = called_df.set_index([\"Barcode\"]).sort_index()\n",
    "called_df_barcodes[\"Measured Median GFP\"] = median_gfp_df\n",
    "called_df_barcodes.reset_index(drop=False)\n",
    "called_df_barcodes = called_df_barcodes.groupby(\"Barcode\").apply(lambda x: x.iloc[0])"
   ]
  },
  {
   "cell_type": "code",
   "execution_count": null,
   "metadata": {},
   "outputs": [],
   "source": [
    "called_df_barcodes"
   ]
  },
  {
   "cell_type": "code",
   "execution_count": null,
   "metadata": {},
   "outputs": [],
   "source": [
    "ttl_correct = np.sum(\n",
    "    called_df_barcodes[\"dark_gfp\"] == (called_df_barcodes[\"Measured Median GFP\"] < 2.0)\n",
    ")\n",
    "ttl_called = len(called_df_barcodes)\n",
    "print(\"Percent Correct:\" + str(ttl_correct / ttl_called))"
   ]
  },
  {
   "cell_type": "code",
   "execution_count": null,
   "metadata": {},
   "outputs": [],
   "source": [
    "fig = plt.figure(figsize=(8, 6))\n",
    "plt.hist(\n",
    "    called_df_barcodes[called_df_barcodes[\"Predicted Dark GFP\"] == True][\n",
    "        \"Measured Median GFP\"\n",
    "    ],\n",
    "    range=(0, 3),\n",
    "    bins=50,\n",
    "    color=\"grey\",\n",
    "    alpha=0.7,\n",
    "    label=\"Predicted Dark GFP\",\n",
    ")\n",
    "plt.hist(\n",
    "    called_df_barcodes[called_df_barcodes[\"Predicted Dark GFP\"] == False][\n",
    "        \"Measured Median GFP\"\n",
    "    ],\n",
    "    range=(0, 3),\n",
    "    bins=50,\n",
    "    color=\"green\",\n",
    "    alpha=0.7,\n",
    "    label=\"Predicted GFP\",\n",
    ")\n",
    "plt.xlabel(\"Median Intensity Ratio\", fontsize=20)\n",
    "plt.ylabel(\"# Strains\", fontsize=20)\n",
    "plt.xticks(fontsize=20)\n",
    "plt.yticks(fontsize=20)\n",
    "plt.legend(fontsize=20)\n",
    "plt.tight_layout()\n",
    "plt.savefig(\"./2020-11-07_lDE11_figure_1.png\", dpi=150, bbox_inches=\"tight\")\n",
    "plt.show()"
   ]
  },
  {
   "cell_type": "code",
   "execution_count": null,
   "metadata": {},
   "outputs": [],
   "source": [
    "called_df_barcodes"
   ]
  },
  {
   "cell_type": "markdown",
   "metadata": {},
   "source": [
    "#### Get Confusion Matrix"
   ]
  },
  {
   "cell_type": "code",
   "execution_count": null,
   "metadata": {},
   "outputs": [],
   "source": [
    "def get_confusion_mat(df):\n",
    "    TP = np.sum((df[\"dark_gfp\"] == False) & (df[\"Measured Dark GFP\"] == False))\n",
    "    TN = np.sum((df[\"dark_gfp\"] == True) & (df[\"Measured Dark GFP\"] == True))\n",
    "    FP = np.sum((df[\"dark_gfp\"] == False) & (df[\"Measured Dark GFP\"] == True))\n",
    "    FN = np.sum((df[\"dark_gfp\"] == True) & (df[\"Measured Dark GFP\"] == False))\n",
    "\n",
    "    error = (FP + FN) / (TP + TN + FP + FN)\n",
    "    FP_error = FP / (TP + TN + FP + FN)\n",
    "    FN_error = FN / (TP + TN + FP + FN)\n",
    "\n",
    "    return error, FP_error, FN_error"
   ]
  },
  {
   "cell_type": "code",
   "execution_count": null,
   "metadata": {},
   "outputs": [],
   "source": [
    "error, FP_error, FN_error = get_confusion_mat(called_df_barcodes)\n",
    "print(\"Error: \" + str(error))\n",
    "print(\"FP error: \" + str(FP_error))\n",
    "print(\"FN error: \" + str(FN_error))"
   ]
  },
  {
   "cell_type": "code",
   "execution_count": null,
   "metadata": {},
   "outputs": [],
   "source": [
    "called_df_barcodes"
   ]
  },
  {
   "cell_type": "code",
   "execution_count": null,
   "metadata": {},
   "outputs": [],
   "source": [
    "import seaborn as sns\n",
    "\n",
    "sns.set()\n",
    "\n",
    "hamming_filters = list(range(1, 5))\n",
    "hamming_n_barcodes = []\n",
    "hamming_errors = []\n",
    "for i in hamming_filters:\n",
    "    filtered_df = called_df_barcodes[\n",
    "        called_df_barcodes[\"Closest Hamming Distance\"] >= i\n",
    "    ]\n",
    "    n_barcode = len(filtered_df)\n",
    "    error, FP_error, FN_error = get_confusion_mat(filtered_df)\n",
    "    error = np.round(100 * error, decimals=2)\n",
    "    hamming_errors.append(error)\n",
    "    hamming_n_barcodes.append(n_barcode)\n",
    "\n",
    "sns.lineplot(hamming_filters, hamming_errors, linewidth=5)\n",
    "plt.xticks(fontsize=20)\n",
    "plt.yticks(\n",
    "    fontsize=20,\n",
    ")\n",
    "plt.show()\n",
    "\n",
    "sns.lineplot(hamming_filters, hamming_n_barcodes, linewidth=5)\n",
    "plt.xticks(fontsize=20)\n",
    "plt.yticks(\n",
    "    fontsize=20,\n",
    ")\n",
    "plt.show()"
   ]
  },
  {
   "cell_type": "code",
   "execution_count": null,
   "metadata": {},
   "outputs": [],
   "source": [
    "def bootstrap_subsample(df, value, subsample_n, bootstrap_n=500):\n",
    "    bootstrap_errors = []\n",
    "    for i in range(bootstrap_n):\n",
    "        sub_df = df.sample(n=subsample_n)\n",
    "        error, FP_error, FN_error = get_confusion_mat(sub_df)\n",
    "        error = np.round(100 * error, decimals=2)\n",
    "        bootstrap_errors.append(error)\n",
    "    percentile = sp.stats.percentileofscore(bootstrap_errors, value)\n",
    "\n",
    "    return percentile"
   ]
  },
  {
   "cell_type": "code",
   "execution_count": null,
   "metadata": {},
   "outputs": [],
   "source": [
    "bootstrap_subsample(\n",
    "    called_df_barcodes, hamming_errors[-1], hamming_n_barcodes[-1], bootstrap_n=1000\n",
    ")"
   ]
  },
  {
   "cell_type": "code",
   "execution_count": null,
   "metadata": {},
   "outputs": [],
   "source": [
    "def get_gmm_params(values):\n",
    "    gmm = skl.mixture.GaussianMixture(n_components=2, n_init=10)\n",
    "    gmm.fit(values.reshape(-1, 1))\n",
    "    #     probs = gmm.predict_proba(values.reshape(-1,1))\n",
    "    return gmm.means_[:, 0], ((gmm.covariances_) ** (1 / 2))[:, 0, 0]"
   ]
  },
  {
   "cell_type": "code",
   "execution_count": null,
   "metadata": {},
   "outputs": [],
   "source": [
    "means, stds = get_gmm_params(called_df_barcodes[\"Measured Median GFP\"].values)"
   ]
  },
  {
   "cell_type": "code",
   "execution_count": null,
   "metadata": {},
   "outputs": [],
   "source": [
    "upper_bound = means + stds * 0.1\n",
    "lower_bound = means - stds * 0.1"
   ]
  },
  {
   "cell_type": "code",
   "execution_count": null,
   "metadata": {},
   "outputs": [],
   "source": [
    "upper_bound[0]"
   ]
  },
  {
   "cell_type": "code",
   "execution_count": null,
   "metadata": {},
   "outputs": [],
   "source": [
    "valid_dark = (called_df_barcodes[\"Measured Median GFP\"] < upper_bound[0]) & (\n",
    "    called_df_barcodes[\"Measured Median GFP\"] > lower_bound[0]\n",
    ")\n",
    "valid_gfp = (called_df_barcodes[\"Measured Median GFP\"] < upper_bound[1]) & (\n",
    "    called_df_barcodes[\"Measured Median GFP\"] > lower_bound[1]\n",
    ")\n",
    "valid = valid_dark | valid_gfp"
   ]
  },
  {
   "cell_type": "code",
   "execution_count": null,
   "metadata": {},
   "outputs": [],
   "source": [
    "len(called_df_barcodes[valid])"
   ]
  },
  {
   "cell_type": "code",
   "execution_count": null,
   "metadata": {},
   "outputs": [],
   "source": [
    "import seaborn as sns\n",
    "\n",
    "sns.set()\n",
    "\n",
    "n_std = np.linspace(0, 5, 20)\n",
    "n_barcodes = []\n",
    "errors = []\n",
    "FP_errors = []\n",
    "FN_errors = []\n",
    "for i in n_std:\n",
    "    upper_bound = means + stds * i\n",
    "    lower_bound = means - stds * i\n",
    "\n",
    "    #     valid_dark = (called_df_barcodes[\"Measured Median GFP\"] < upper_bound[0]) &\\\n",
    "    #     (called_df_barcodes[\"Measured Median GFP\"] > lower_bound[0])\n",
    "    #     valid_gfp = (called_df_barcodes[\"Measured Median GFP\"] < upper_bound[1]) &\\\n",
    "    #     (called_df_barcodes[\"Measured Median GFP\"] > lower_bound[1])\n",
    "    #     valid = valid_dark|valid_gfp\n",
    "    valid_dark = called_df_barcodes[\"Measured Median GFP\"] < upper_bound[0]\n",
    "    valid_gfp = called_df_barcodes[\"Measured Median GFP\"] > lower_bound[1]\n",
    "    valid = valid_dark | valid_gfp\n",
    "\n",
    "    filtered_df = called_df_barcodes[valid]\n",
    "    n_barcode = len(filtered_df)\n",
    "    error, FP_error, FN_error = get_confusion_mat(filtered_df)\n",
    "    error = np.round(100 * error, decimals=2)\n",
    "    FP_error = np.round(100 * FP_error, decimals=2)\n",
    "    FN_error = np.round(100 * FN_error, decimals=2)\n",
    "    errors.append(error)\n",
    "    FP_errors.append(FP_error)\n",
    "    FN_errors.append(FN_error)\n",
    "    n_barcodes.append(n_barcode)\n",
    "\n",
    "sns.lineplot(n_std, errors, linewidth=5, label=\"Error\")\n",
    "sns.lineplot(n_std, FP_errors, linewidth=5, label=\"FP Error\")\n",
    "sns.lineplot(n_std, FN_errors, linewidth=5, label=\"FN Error\")\n",
    "plt.xticks(fontsize=20)\n",
    "plt.yticks(\n",
    "    fontsize=20,\n",
    ")\n",
    "plt.legend()\n",
    "plt.show()\n",
    "\n",
    "sns.lineplot(n_std, n_barcodes, linewidth=5)\n",
    "plt.xticks(fontsize=20)\n",
    "plt.yticks(\n",
    "    fontsize=20,\n",
    ")\n",
    "plt.show()"
   ]
  },
  {
   "cell_type": "markdown",
   "metadata": {},
   "source": [
    "#### Sources of error\n",
    "\n",
    "There are around twice the number of false negatives (predicted to be a Dark GFP, but measured as bright) as there are false positives (predicted to be GFP, but measured as dark).\n",
    "\n",
    "Some theories for these error classes:\n",
    "\n",
    "False Positives:\n",
    "    \n",
    "    - Mutations in the promoter (should be constant within barcodes)\n",
    "    \n",
    "    - Strain variation (should be lower when averaging among strains)\n",
    "    \n",
    "    - Misread of barcodes\n",
    "    \n",
    "False Negatives:\n",
    "    \n",
    "    - Bleed from adjacent cells (should be corrected by averging among strains)\n",
    "    \n",
    "    - Multiple strains per trench (?)\n",
    "    \n",
    "    - Misread of barcodes"
   ]
  },
  {
   "cell_type": "code",
   "execution_count": null,
   "metadata": {},
   "outputs": [],
   "source": [
    "plt.hist(\n",
    "    called_df[called_df[\"Measured Dark GFP\"] == True][\"Measured GFP\"],\n",
    "    range=(0, 10000),\n",
    "    bins=50,\n",
    "    color=\"grey\",\n",
    "    label=\"Measured Dark GFP\",\n",
    ")\n",
    "plt.hist(\n",
    "    called_df[called_df[\"Measured Dark GFP\"] == False][\"Measured GFP\"],\n",
    "    range=(0, 10000),\n",
    "    bins=50,\n",
    "    color=\"green\",\n",
    "    label=\"Measured GFP\",\n",
    ")\n",
    "plt.xlabel(\"90th Percentile Intensity\", fontsize=20)\n",
    "plt.xticks(fontsize=20)\n",
    "plt.yticks(fontsize=20)\n",
    "plt.legend(fontsize=20)\n",
    "# plt.savefig(\"./2020-10-10_lDE11_figure_2.png\",dpi=300,bbox_inches=\"tight\")\n",
    "plt.show()\n",
    "\n",
    "plt.hist(\n",
    "    called_df[called_df[\"Predicted Dark GFP\"] == True][\"Measured GFP\"],\n",
    "    range=(0, 10000),\n",
    "    bins=50,\n",
    "    color=\"grey\",\n",
    "    alpha=0.7,\n",
    "    label=\"Predicted Dark GFP\",\n",
    ")\n",
    "plt.hist(\n",
    "    called_df[called_df[\"Predicted Dark GFP\"] == False][\"Measured GFP\"],\n",
    "    range=(0, 10000),\n",
    "    bins=50,\n",
    "    color=\"green\",\n",
    "    alpha=0.7,\n",
    "    label=\"Predicted GFP\",\n",
    ")\n",
    "plt.xlabel(\"90th Percentile Intensity\", fontsize=20)\n",
    "plt.xticks(fontsize=20)\n",
    "plt.yticks(fontsize=20)\n",
    "plt.legend(fontsize=20)\n",
    "plt.savefig(\"./2020-11-07_lDE11_figure_1.png\", dpi=300, bbox_inches=\"tight\")\n",
    "plt.show()"
   ]
  },
  {
   "cell_type": "markdown",
   "metadata": {},
   "source": [
    "#### Averaging within barcodes"
   ]
  },
  {
   "cell_type": "code",
   "execution_count": null,
   "metadata": {},
   "outputs": [],
   "source": [
    "barcode_median = called_df.groupby(\"Barcode\").apply(\n",
    "    lambda x: np.median(x[\"Measured GFP\"])\n",
    ")\n",
    "barcode_median = pd.DataFrame(barcode_median, columns=[\"Measured GFP\"]).reset_index()\n",
    "barcode_median[\"Predicted Dark GFP\"] = barcode_median.apply(\n",
    "    lambda x: lDE11_lookup[x[\"Barcode\"]], axis=1\n",
    ")\n",
    "barcode_median[\"Measured Dark GFP\"] = barcode_median[\"Measured GFP\"] < 2200"
   ]
  },
  {
   "cell_type": "code",
   "execution_count": null,
   "metadata": {},
   "outputs": [],
   "source": [
    "barcode_median"
   ]
  },
  {
   "cell_type": "code",
   "execution_count": null,
   "metadata": {},
   "outputs": [],
   "source": [
    "plt.hist(barcode_median[\"Measured GFP\"], range=(0, 10000), bins=50)"
   ]
  },
  {
   "cell_type": "code",
   "execution_count": null,
   "metadata": {},
   "outputs": [],
   "source": [
    "# plt.hist(barcode_median[barcode_median[\"Measured Dark GFP\"]==True][\"Measured GFP\"],range=(0,10000),bins=50,color=\"grey\",label=\"Measured Dark GFP\")\n",
    "# plt.hist(barcode_median[barcode_median[\"Measured Dark GFP\"]==False][\"Measured GFP\"],range=(0,10000),bins=50,color=\"green\",label=\"Measured GFP\")\n",
    "# plt.xlabel(\"90th Percentile Intensity\",fontsize=20)\n",
    "# plt.xticks(fontsize=20)\n",
    "# plt.yticks(fontsize=20)\n",
    "# plt.legend(fontsize=20)\n",
    "# plt.savefig(\"./2020-10-10_lDE11_figure_2.png\",dpi=300,bbox_inches=\"tight\")\n",
    "# # plt.show()\n",
    "\n",
    "plt.hist(\n",
    "    barcode_median[barcode_median[\"Predicted Dark GFP\"] == True][\"Measured GFP\"],\n",
    "    range=(0, 10000),\n",
    "    bins=50,\n",
    "    color=\"grey\",\n",
    "    alpha=0.7,\n",
    "    label=\"Predicted Dark GFP\",\n",
    ")\n",
    "plt.hist(\n",
    "    barcode_median[barcode_median[\"Predicted Dark GFP\"] == False][\"Measured GFP\"],\n",
    "    range=(0, 10000),\n",
    "    bins=50,\n",
    "    color=\"green\",\n",
    "    alpha=0.7,\n",
    "    label=\"Predicted GFP\",\n",
    ")\n",
    "plt.xlabel(\"Median 90th Percentile Intensity\", fontsize=20)\n",
    "plt.xticks(fontsize=20)\n",
    "plt.yticks(fontsize=20)\n",
    "plt.legend(fontsize=20)\n",
    "plt.savefig(\"./2020-10-10_lDE11_figure_4.png\", dpi=300, bbox_inches=\"tight\")\n",
    "plt.show()"
   ]
  },
  {
   "cell_type": "code",
   "execution_count": null,
   "metadata": {},
   "outputs": [],
   "source": [
    "TP = np.sum(\n",
    "    (barcode_median[\"Predicted Dark GFP\"] == False)\n",
    "    & (barcode_median[\"Measured Dark GFP\"] == False)\n",
    ")\n",
    "TN = np.sum(\n",
    "    (barcode_median[\"Predicted Dark GFP\"] == True)\n",
    "    & (barcode_median[\"Measured Dark GFP\"] == True)\n",
    ")\n",
    "FP = np.sum(\n",
    "    (barcode_median[\"Predicted Dark GFP\"] == False)\n",
    "    & (barcode_median[\"Measured Dark GFP\"] == True)\n",
    ")\n",
    "FN = np.sum(\n",
    "    (barcode_median[\"Predicted Dark GFP\"] == True)\n",
    "    & (barcode_median[\"Measured Dark GFP\"] == False)\n",
    ")"
   ]
  },
  {
   "cell_type": "code",
   "execution_count": null,
   "metadata": {},
   "outputs": [],
   "source": [
    "print(TP, TN)"
   ]
  },
  {
   "cell_type": "code",
   "execution_count": null,
   "metadata": {},
   "outputs": [],
   "source": [
    "print(FP, FN)"
   ]
  },
  {
   "cell_type": "code",
   "execution_count": null,
   "metadata": {},
   "outputs": [],
   "source": [
    "len(barcode_median)"
   ]
  },
  {
   "cell_type": "code",
   "execution_count": null,
   "metadata": {},
   "outputs": [],
   "source": [
    "error = (FP + FN) / (TP + TN + FP + FN)\n",
    "print(\"Error of median: \" + str(error))\n",
    "print(\"FP error: \" + str(FP / (TP + TN + FP + FN)))\n",
    "print(\"FN error: \" + str(FN / (TP + TN + FP + FN)))"
   ]
  },
  {
   "cell_type": "markdown",
   "metadata": {},
   "source": [
    "Error without averaging:\n",
    "\n",
    "- Error: 0.11947107949273121\n",
    "- FP error: 0.045159294772656976\n",
    "- FN error: 0.07431178472007423\n",
    "\n",
    "Error when taking median among strains:\n",
    "\n",
    "- Error of median: 0.05637624359360868\n",
    "- FP error: 0.017485679831172746\n",
    "- FN error: 0.03889056376243594\n",
    "\n",
    "Significantly cuts the false positive rate and false negative rates:\n",
    "    \n",
    "- Strain variation (should be lower when averaging among strains)\n",
    "- Bleed from adjacent cells (should be corrected by averging among strains)"
   ]
  },
  {
   "cell_type": "markdown",
   "metadata": {},
   "source": [
    "#### Strain frequency distribution"
   ]
  },
  {
   "cell_type": "code",
   "execution_count": null,
   "metadata": {},
   "outputs": [],
   "source": [
    "num_barcodes = called_df.groupby(\"Reassigned Barcode\").apply(lambda x: len(x))"
   ]
  },
  {
   "cell_type": "code",
   "execution_count": null,
   "metadata": {},
   "outputs": [],
   "source": [
    "plt.hist(num_barcodes, range=(0, 20), bins=20)\n",
    "plt.xlabel(\"# Appearances\", fontsize=20)\n",
    "plt.xticks(ticks=np.array(list(range(20))) + 0.5, labels=list(range(20)), fontsize=20)\n",
    "plt.yticks(fontsize=20)\n",
    "# plt.savefig(\"./2020-10-10_lDE11_figure_5.png\",dpi=300,bbox_inches=\"tight\")\n",
    "plt.show()"
   ]
  },
  {
   "cell_type": "code",
   "execution_count": null,
   "metadata": {},
   "outputs": [],
   "source": [
    "len(num_barcodes)"
   ]
  },
  {
   "cell_type": "code",
   "execution_count": null,
   "metadata": {},
   "outputs": [],
   "source": [
    "np.mean(num_barcodes)"
   ]
  },
  {
   "cell_type": "markdown",
   "metadata": {},
   "source": [
    "#### Hamming Distance Aware Barcodes"
   ]
  },
  {
   "cell_type": "code",
   "execution_count": null,
   "metadata": {},
   "outputs": [],
   "source": [
    "lDE11_nanopore = pd.read_csv(\"./lDE11_final_df.tsv\", delimiter=\"\\t\")\n",
    "barcodes_list = lDE11_nanopore[\"barcode\"].unique()\n",
    "bit_arr = np.array([list(item) for item in barcodes_list]).astype(int)\n",
    "both_on = bit_arr @ bit_arr.T\n",
    "both_off = (-bit_arr + 1) @ (-bit_arr.T + 1)\n",
    "ttl_match = both_on + both_off\n",
    "np.fill_diagonal(ttl_match, 100)\n",
    "closest_match = np.min(ttl_match, axis=0)\n",
    "good_barcodes = barcodes_list[closest_match > 2]\n",
    "lDE11_nanopore_good_barcodes = lDE11_nanopore[\n",
    "    lDE11_nanopore[\"barcode\"].isin(good_barcodes)\n",
    "]"
   ]
  },
  {
   "cell_type": "code",
   "execution_count": null,
   "metadata": {},
   "outputs": [],
   "source": [
    "lDE11_lookup = {}\n",
    "for _, row in lDE11_nanopore_good_barcodes.iterrows():\n",
    "    lDE11_lookup[barcode_to_FISH(row[\"barcode\"])] = row[\"dark_gfp\"]"
   ]
  },
  {
   "cell_type": "code",
   "execution_count": null,
   "metadata": {},
   "outputs": [],
   "source": [
    "assign_strs = np.apply_along_axis(\n",
    "    lambda x: \"\".join(x.astype(int).astype(str)), 0, assign_arr\n",
    ")\n",
    "barcode_df = pd.DataFrame(high_signal_barcodes_series, columns=[\"Barcode Signal\"])\n",
    "barcode_df[\"Barcode\"] = assign_strs\n",
    "barcode_df = barcode_df.reset_index(drop=False)\n",
    "barcode_df[\"Bool Barcode\"] = barcode_df.apply(\n",
    "    lambda x: str_to_bool(x[\"Barcode\"]), axis=1\n",
    ")"
   ]
  },
  {
   "cell_type": "code",
   "execution_count": null,
   "metadata": {},
   "outputs": [],
   "source": [
    "lDE11_lookup_bool = np.array(\n",
    "    [str_to_bool(item) for item in list(lDE11_lookup.keys())]\n",
    ").astype(int)\n",
    "query_arr = np.array(barcode_df[\"Bool Barcode\"].tolist()).astype(int)\n",
    "both_on = query_arr @ lDE11_lookup_bool.T\n",
    "both_off = (-query_arr + 1) @ (-lDE11_lookup_bool.T + 1)\n",
    "ttl_match = both_on + both_off\n",
    "best_match = np.max(ttl_match, axis=1)\n",
    "arg_best_match = np.argmax(ttl_match, axis=1)\n",
    "match_mask = best_match > 22\n",
    "lDE11_lookup_strs = np.apply_along_axis(lambda x: bool_to_str(x), 1, lDE11_lookup_bool)\n",
    "assigned_strs = lDE11_lookup_strs[arg_best_match]\n",
    "barcode_df[\"Reassigned Barcode\"] = assigned_strs\n",
    "barcode_df[\"Reassigned Barcode\"][~match_mask] = barcode_df[\"Barcode\"]"
   ]
  },
  {
   "cell_type": "code",
   "execution_count": null,
   "metadata": {},
   "outputs": [],
   "source": [
    "barcode_df[\"Predicted Dark GFP\"] = barcode_df.apply(\n",
    "    lambda x: lDE11_lookup[x[\"Reassigned Barcode\"]]\n",
    "    if x[\"Reassigned Barcode\"] in lDE11_lookup.keys()\n",
    "    else \"Unknown\",\n",
    "    axis=1,\n",
    ")"
   ]
  },
  {
   "cell_type": "code",
   "execution_count": null,
   "metadata": {},
   "outputs": [],
   "source": [
    "ttl_true = np.sum([item == True for item in barcode_df[\"Predicted Dark GFP\"].tolist()])\n",
    "ttl_false = np.sum(\n",
    "    [item == False for item in barcode_df[\"Predicted Dark GFP\"].tolist()]\n",
    ")\n",
    "ttl_none = np.sum(\n",
    "    [item == \"Unknown\" for item in barcode_df[\"Predicted Dark GFP\"].tolist()]\n",
    ")\n",
    "ttl_called = ttl_true + ttl_false\n",
    "ttl_trenches = len(\n",
    "    kymograph_metadata.index.get_level_values(\"trenchid\").unique().tolist()\n",
    ")\n",
    "ttl_trenches_with_cells = len(barcode_df)\n",
    "percent_called = ttl_called / ttl_trenches\n",
    "percent_called_w_cells = ttl_called / ttl_trenches_with_cells"
   ]
  },
  {
   "cell_type": "code",
   "execution_count": null,
   "metadata": {},
   "outputs": [],
   "source": [
    "percent_called"
   ]
  },
  {
   "cell_type": "code",
   "execution_count": null,
   "metadata": {},
   "outputs": [],
   "source": [
    "percent_called_w_cells"
   ]
  },
  {
   "cell_type": "code",
   "execution_count": null,
   "metadata": {},
   "outputs": [],
   "source": [
    "headpath = \"/home/de64/scratch/de64/2020-11-07_lDE11/2020-11-07_lDE11_GFP\"\n",
    "gfp_metadata = pd.read_parquet(headpath + \"/percentiles\")\n",
    "gfp_groupby = gfp_metadata.groupby(\"trenchid\")\n",
    "median_GFP = gfp_groupby.apply(lambda x: np.median(x[\"FITC 90th Percentile\"]))\n",
    "gfp_metadata = gfp_metadata[gfp_metadata[\"timepoints\"] == 18]\n",
    "gfp_metadata = gfp_metadata.reset_index(drop=True)\n",
    "gfp_metadata = gfp_metadata.set_index([\"trenchid\"], drop=True)\n",
    "gfp_metadata[\"Median FITC 90th Percentile\"] = median_GFP\n",
    "gfp_metadata[\"Dark GFP\"] = gfp_metadata[\"Median FITC 90th Percentile\"] < 1700\n",
    "gfp_signal = gfp_metadata[\"Median FITC 90th Percentile\"]"
   ]
  },
  {
   "cell_type": "code",
   "execution_count": null,
   "metadata": {},
   "outputs": [],
   "source": [
    "kymo_first_tpt = kymograph_metadata.loc[(slice(None), 0), :]\n",
    "trenchid_map = get_trenchid_map(kymo_first_tpt, gfp_metadata)"
   ]
  },
  {
   "cell_type": "code",
   "execution_count": null,
   "metadata": {},
   "outputs": [],
   "source": [
    "barcode_df[\"Measured Dark GFP\"] = barcode_df.apply(\n",
    "    lambda x: gfp_metadata.loc[trenchid_map[x[\"trenchid\"]]][\"Dark GFP\"], axis=1\n",
    ")\n",
    "barcode_df[\"Measured GFP\"] = barcode_df.apply(\n",
    "    lambda x: gfp_metadata.loc[trenchid_map[x[\"trenchid\"]]][\n",
    "        \"Median FITC 90th Percentile\"\n",
    "    ],\n",
    "    axis=1,\n",
    ")\n",
    "called_df = barcode_df[barcode_df[\"Predicted Dark GFP\"] != \"Unknown\"]"
   ]
  },
  {
   "cell_type": "code",
   "execution_count": null,
   "metadata": {},
   "outputs": [],
   "source": [
    "ttl_correct = np.sum(called_df[\"Predicted Dark GFP\"] == called_df[\"Measured Dark GFP\"])\n",
    "ttl_called = len(called_df)\n",
    "print(\"Percent Correct:\" + str(ttl_correct / ttl_called))"
   ]
  },
  {
   "cell_type": "code",
   "execution_count": null,
   "metadata": {},
   "outputs": [],
   "source": [
    "TP = np.sum(\n",
    "    (called_df[\"Predicted Dark GFP\"] == False)\n",
    "    & (called_df[\"Measured Dark GFP\"] == False)\n",
    ")\n",
    "TN = np.sum(\n",
    "    (called_df[\"Predicted Dark GFP\"] == True) & (called_df[\"Measured Dark GFP\"] == True)\n",
    ")\n",
    "FP = np.sum(\n",
    "    (called_df[\"Predicted Dark GFP\"] == False)\n",
    "    & (called_df[\"Measured Dark GFP\"] == True)\n",
    ")\n",
    "FN = np.sum(\n",
    "    (called_df[\"Predicted Dark GFP\"] == True)\n",
    "    & (called_df[\"Measured Dark GFP\"] == False)\n",
    ")"
   ]
  },
  {
   "cell_type": "code",
   "execution_count": null,
   "metadata": {},
   "outputs": [],
   "source": [
    "error = (FP + FN) / (TP + TN + FP + FN)\n",
    "print(\"Error: \" + str(error))\n",
    "print(\"FP error: \" + str(FP / (TP + TN + FP + FN)))\n",
    "print(\"FN error: \" + str(FN / (TP + TN + FP + FN)))"
   ]
  },
  {
   "cell_type": "code",
   "execution_count": null,
   "metadata": {},
   "outputs": [],
   "source": [
    "called_df.groupby(\"Reassigned Barcode\").apply(lambda x: len(x))"
   ]
  },
  {
   "cell_type": "code",
   "execution_count": null,
   "metadata": {},
   "outputs": [],
   "source": [
    "plt.hist(\n",
    "    called_df[called_df[\"Measured Dark GFP\"] == True][\"Measured GFP\"],\n",
    "    range=(0, 10000),\n",
    "    bins=50,\n",
    "    color=\"grey\",\n",
    "    label=\"Measured Dark GFP\",\n",
    ")\n",
    "plt.hist(\n",
    "    called_df[called_df[\"Measured Dark GFP\"] == False][\"Measured GFP\"],\n",
    "    range=(0, 10000),\n",
    "    bins=50,\n",
    "    color=\"green\",\n",
    "    label=\"Measured GFP\",\n",
    ")\n",
    "plt.xlabel(\"90th Percentile Intensity\", fontsize=20)\n",
    "plt.xticks(fontsize=20)\n",
    "plt.yticks(fontsize=20)\n",
    "plt.legend(fontsize=20)\n",
    "# plt.savefig(\"./2020-10-10_lDE11_figure_2.png\",dpi=300,bbox_inches=\"tight\")\n",
    "plt.show()\n",
    "\n",
    "plt.hist(\n",
    "    called_df[called_df[\"Predicted Dark GFP\"] == True][\"Measured GFP\"],\n",
    "    range=(0, 10000),\n",
    "    bins=50,\n",
    "    color=\"grey\",\n",
    "    alpha=0.7,\n",
    "    label=\"Predicted Dark GFP\",\n",
    ")\n",
    "plt.hist(\n",
    "    called_df[called_df[\"Predicted Dark GFP\"] == False][\"Measured GFP\"],\n",
    "    range=(0, 10000),\n",
    "    bins=50,\n",
    "    color=\"green\",\n",
    "    alpha=0.7,\n",
    "    label=\"Predicted GFP\",\n",
    ")\n",
    "plt.xlabel(\"90th Percentile Intensity\", fontsize=20)\n",
    "plt.ylabel(\"Lineages\", fontsize=20)\n",
    "plt.xticks(fontsize=20)\n",
    "plt.yticks(fontsize=20)\n",
    "plt.legend(fontsize=20)\n",
    "plt.savefig(\"./2020-11-07_lDE11_figure_1.png\", dpi=300, bbox_inches=\"tight\")\n",
    "\n",
    "plt.show()"
   ]
  },
  {
   "cell_type": "markdown",
   "metadata": {},
   "source": [
    "### Figures for retreat"
   ]
  },
  {
   "cell_type": "code",
   "execution_count": null,
   "metadata": {},
   "outputs": [],
   "source": [
    "import h5py\n",
    "from matplotlib import pyplot as plt\n",
    "import numpy as np"
   ]
  },
  {
   "cell_type": "code",
   "execution_count": null,
   "metadata": {},
   "outputs": [],
   "source": [
    "headpath = \"/home/de64/scratch/de64/2020-11-07_lDE11/2020-11-07_lDE11\""
   ]
  },
  {
   "cell_type": "code",
   "execution_count": null,
   "metadata": {},
   "outputs": [],
   "source": [
    "meta = tr.pandas_hdf5_handler(headpath + \"/metadata.hdf5\")\n",
    "global_df = meta.read_df(\"global\", read_metadata=True)\n",
    "channels = global_df.metadata[\"channels\"]\n",
    "selected_df = global_df.loc[20]"
   ]
  },
  {
   "cell_type": "code",
   "execution_count": null,
   "metadata": {},
   "outputs": [],
   "source": [
    "def get_selected_imgs(selected_df, channels, headpath):\n",
    "    img_dict = {channel: [] for channel in channels}\n",
    "    for row in selected_df.iterrows():\n",
    "        file_idx = int(row[1][\"File Index\"])\n",
    "        img_idx = int(row[1][\"Image Index\"])\n",
    "        with h5py.File(\n",
    "            headpath + \"/hdf5/hdf5_\" + str(file_idx) + \".hdf5\", \"r\"\n",
    "        ) as infile:\n",
    "            for channel in channels:\n",
    "                img_dict[channel].append(infile[channel][img_idx])\n",
    "    img_dict = {key: np.array(val) for key, val in img_dict.items()}\n",
    "    return img_dict"
   ]
  },
  {
   "cell_type": "code",
   "execution_count": null,
   "metadata": {},
   "outputs": [],
   "source": [
    "img_dict = get_selected_imgs(selected_df, channels, headpath)"
   ]
  },
  {
   "cell_type": "code",
   "execution_count": null,
   "metadata": {},
   "outputs": [],
   "source": [
    "test = img_dict[\"Cy5\"]"
   ]
  },
  {
   "cell_type": "code",
   "execution_count": null,
   "metadata": {},
   "outputs": [],
   "source": [
    "channels"
   ]
  },
  {
   "cell_type": "code",
   "execution_count": null,
   "metadata": {},
   "outputs": [],
   "source": [
    "grid_channels = [\"RFP\", \"Cy5\", \"Cy7\"]\n",
    "# grid_colors = [\"Reds\",\"Purples\",\"Greys_r\"]\n",
    "num_cycles = 8\n",
    "\n",
    "vrange_list = {\n",
    "    key: (np.percentile(val.flatten(), 0), np.percentile(val.flatten(), 99.99))\n",
    "    for key, val in img_dict.items()\n",
    "}\n",
    "\n",
    "\n",
    "fig, axes = plt.subplots(len(grid_channels), num_cycles)\n",
    "for i in range(num_cycles):\n",
    "    for j, channel in enumerate(grid_channels):\n",
    "        axes[j, i].imshow(\n",
    "            img_dict[channel][i][275:375, 1010:1110],\n",
    "            \"Greys_r\",\n",
    "            vmin=vrange_list[channel][0],\n",
    "            vmax=vrange_list[channel][1],\n",
    "        )\n",
    "        axes[j, i].axis(\"off\")\n",
    "fig.set_size_inches(20, 7.5)\n",
    "plt.tight_layout()\n",
    "plt.show()"
   ]
  },
  {
   "cell_type": "code",
   "execution_count": null,
   "metadata": {},
   "outputs": [],
   "source": [
    "import tifffile"
   ]
  },
  {
   "cell_type": "code",
   "execution_count": null,
   "metadata": {},
   "outputs": [],
   "source": [
    "selected_channels = [\"RFP\", \"Cy5\", \"Cy7\"]\n",
    "with tifffile.TiffWriter(\"./lDE11_stack.tiff\", \"w\") as stack:\n",
    "    for channel in selected_channels:\n",
    "        for i in range(img_dict[channel].shape[0]):\n",
    "            vmin = vrange_list[channel][0]\n",
    "            vmax = vrange_list[channel][1]\n",
    "            val = (img_dict[channel] - vmin) / (vmax - vmin)\n",
    "            arr = val[i, 275:425]\n",
    "            stack.save(arr, contiguous=True)"
   ]
  },
  {
   "cell_type": "code",
   "execution_count": null,
   "metadata": {},
   "outputs": [],
   "source": [
    "headpath = \"/home/de64/scratch/de64/2020-11-07_lDE11/2020-11-07_lDE11_GFP\""
   ]
  },
  {
   "cell_type": "code",
   "execution_count": null,
   "metadata": {},
   "outputs": [],
   "source": [
    "meta = tr.pandas_hdf5_handler(headpath + \"/metadata.hdf5\")\n",
    "global_df = meta.read_df(\"global\", read_metadata=True)\n",
    "channels = global_df.metadata[\"channels\"]\n",
    "selected_df = global_df.loc[20]"
   ]
  },
  {
   "cell_type": "code",
   "execution_count": null,
   "metadata": {},
   "outputs": [],
   "source": [
    "img_dict = get_selected_imgs(selected_df, channels, headpath)"
   ]
  },
  {
   "cell_type": "code",
   "execution_count": null,
   "metadata": {},
   "outputs": [],
   "source": [
    "img_dict = get_selected_imgs(selected_df, [\"mCherry\"], headpath)"
   ]
  },
  {
   "cell_type": "code",
   "execution_count": null,
   "metadata": {},
   "outputs": [],
   "source": [
    "img_dict[\"FITC\"].shape"
   ]
  },
  {
   "cell_type": "code",
   "execution_count": null,
   "metadata": {},
   "outputs": [],
   "source": [
    "with tifffile.TiffWriter(\"./lDE11_mCherry.tiff\", \"w\") as outfile:\n",
    "    outfile.save(img_dict[\"mCherry\"][:, 275:425], contiguous=True)"
   ]
  },
  {
   "cell_type": "code",
   "execution_count": null,
   "metadata": {},
   "outputs": [],
   "source": []
  },
  {
   "cell_type": "code",
   "execution_count": null,
   "metadata": {},
   "outputs": [],
   "source": []
  },
  {
   "cell_type": "code",
   "execution_count": null,
   "metadata": {},
   "outputs": [],
   "source": [
    "headpath = \"/home/de64/scratch/de64/2020-11-07_lDE11/2020-11-07_lDE11\""
   ]
  },
  {
   "cell_type": "code",
   "execution_count": null,
   "metadata": {},
   "outputs": [],
   "source": [
    "kymograph_metadata = pd.read_parquet(headpath + \"/kymograph/metadata\")\n",
    "gfp_kymograph_metadata = pd.read_parquet(\n",
    "    \"/home/de64/scratch/de64/2020-11-07_lDE11/2020-11-07_lDE11_GFP/kymograph/metadata\"\n",
    ")\n",
    "kymograph_metadata = kymograph_metadata.set_index([\"trenchid\", \"timepoints\"])\n",
    "gfp_kymograph_metadata = gfp_kymograph_metadata.set_index([\"trenchid\"])"
   ]
  },
  {
   "cell_type": "code",
   "execution_count": null,
   "metadata": {},
   "outputs": [],
   "source": [
    "kymo_first_tpt = kymograph_metadata.loc[(slice(None), 0), :]\n",
    "trenchid_map = get_trenchid_map(kymo_first_tpt, gfp_kymograph_metadata)\n",
    "inv_trenchid_map = {val: key for key, val in trenchid_map.items()}"
   ]
  },
  {
   "cell_type": "code",
   "execution_count": null,
   "metadata": {},
   "outputs": [],
   "source": [
    "inv_trenchid_map"
   ]
  },
  {
   "cell_type": "code",
   "execution_count": null,
   "metadata": {},
   "outputs": [],
   "source": [
    "selected_df = kymograph_metadata.loc[100][0:1]"
   ]
  },
  {
   "cell_type": "code",
   "execution_count": null,
   "metadata": {},
   "outputs": [],
   "source": [
    "def get_selected_kymo(selected_df, channels, headpath):\n",
    "    img_dict = {channel: [] for channel in channels}\n",
    "\n",
    "    for row in selected_df.iterrows():\n",
    "        file_idx = int(row[1][\"File Index\"])\n",
    "        trench_idx = int(row[1][\"File Trench Index\"])\n",
    "        with h5py.File(\n",
    "            headpath + \"/kymograph/kymograph_\" + str(file_idx) + \".hdf5\", \"r\"\n",
    "        ) as infile:\n",
    "            for channel in channels:\n",
    "                img_dict[channel].append(infile[channel][trench_idx])\n",
    "    img_dict = {key: np.array(val) for key, val in img_dict.items()}\n",
    "    return img_dict\n",
    "\n",
    "\n",
    "def plot_barcode(img_dict):\n",
    "    vrange_list = {\n",
    "        key: (np.percentile(val.flatten(), 10), np.percentile(val.flatten(), 99))\n",
    "        for key, val in img_dict.items()\n",
    "    }\n",
    "    rescaled_arrs = {\n",
    "        key: (\n",
    "            (img_dict[key][0] - vrange_list[key][0])\n",
    "            / (vrange_list[key][1] - vrange_list[key][0])\n",
    "        )\n",
    "        for key, val in img_dict.items()\n",
    "    }\n",
    "\n",
    "    barcode_kymo = np.concatenate(\n",
    "        [rescaled_arrs[\"RFP\"], rescaled_arrs[\"Cy5\"], rescaled_arrs[\"Cy7\"]], axis=0\n",
    "    )\n",
    "    ky_handle = tr.kymo_handle()\n",
    "    ky_handle.import_wrap(barcode_kymo)\n",
    "    plt.imshow(ky_handle.return_unwrap(), \"Greys_r\")"
   ]
  },
  {
   "cell_type": "code",
   "execution_count": null,
   "metadata": {},
   "outputs": [],
   "source": [
    "selected_df = kymograph_metadata.loc[5200:5201][0:1]\n",
    "img_dict = get_selected_kymo(selected_df, [\"RFP\", \"Cy5\", \"Cy7\"], headpath)\n",
    "plot_barcode(img_dict)"
   ]
  },
  {
   "cell_type": "code",
   "execution_count": null,
   "metadata": {},
   "outputs": [],
   "source": [
    "selected_df = kymograph_metadata.loc[12000:12001][0:1]\n",
    "img_dict = get_selected_kymo(selected_df, [\"RFP\", \"Cy5\", \"Cy7\"], headpath)\n",
    "plot_barcode(img_dict)"
   ]
  },
  {
   "cell_type": "code",
   "execution_count": null,
   "metadata": {},
   "outputs": [],
   "source": [
    "selected_df = kymograph_metadata.loc[13300:13301][0:1]\n",
    "img_dict = get_selected_kymo(selected_df, [\"RFP\", \"Cy5\", \"Cy7\"], headpath)\n",
    "plot_barcode(img_dict)"
   ]
  },
  {
   "cell_type": "code",
   "execution_count": null,
   "metadata": {},
   "outputs": [],
   "source": [
    "selected_df = kymograph_metadata.loc[13500:13501][0:1]\n",
    "img_dict = get_selected_kymo(selected_df, [\"RFP\", \"Cy5\", \"Cy7\"], headpath)\n",
    "plot_barcode(img_dict)"
   ]
  },
  {
   "cell_type": "code",
   "execution_count": null,
   "metadata": {},
   "outputs": [],
   "source": [
    "selected_df = kymograph_metadata.loc[13810:13811][0:1]\n",
    "img_dict = get_selected_kymo(selected_df, [\"RFP\", \"Cy5\", \"Cy7\"], headpath)\n",
    "plot_barcode(img_dict)"
   ]
  },
  {
   "cell_type": "code",
   "execution_count": null,
   "metadata": {},
   "outputs": [],
   "source": [
    "selected_df = kymograph_metadata.loc[4578:4579][0:1]\n",
    "img_dict = get_selected_kymo(selected_df, [\"RFP\", \"Cy5\", \"Cy7\"], headpath)\n",
    "plot_barcode(img_dict)"
   ]
  },
  {
   "cell_type": "code",
   "execution_count": null,
   "metadata": {},
   "outputs": [],
   "source": [
    "selected_df = kymograph_metadata.loc[4578:4579][0:1]\n",
    "img_dict = get_selected_kymo(selected_df, [\"RFP\", \"Cy5\", \"Cy7\"], headpath)\n",
    "plot_barcode(img_dict)"
   ]
  },
  {
   "cell_type": "code",
   "execution_count": null,
   "metadata": {},
   "outputs": [],
   "source": [
    "mapped_gfp = gfp_kymograph_metadata.loc[\n",
    "    inv_trenchid_map[selected_df.index.get_level_values(\"trenchid\")[0]]\n",
    "]\n",
    "with h5py.File(\n",
    "    \"/home/de64/scratch/de64/sync_folder/2020-10-10_lDE11_spectra_fixed/2020-10-10_lDE11_spectra_fixed_GFP/kymograph/kymograph_\"\n",
    "    + str(mapped_gfp[\"File Index\"])\n",
    "    + \".hdf5\",\n",
    "    \"r\",\n",
    ") as infile:\n",
    "    data = infile[\"FITC\"][mapped_gfp[\"File Trench Index\"], 0]\n",
    "plt.imshow(data, \"Greys_r\", vmin=0, vmax=5000)"
   ]
  },
  {
   "cell_type": "code",
   "execution_count": null,
   "metadata": {},
   "outputs": [],
   "source": [
    "selected_df = kymograph_metadata.loc[1561:1562][0:1]\n",
    "img_dict = get_selected_kymo(selected_df, [\"RFP\", \"Cy5\", \"Cy7\"], headpath)\n",
    "plot_barcode(img_dict)"
   ]
  },
  {
   "cell_type": "code",
   "execution_count": null,
   "metadata": {},
   "outputs": [],
   "source": [
    "mapped_gfp = gfp_kymograph_metadata.loc[\n",
    "    inv_trenchid_map[selected_df.index.get_level_values(\"trenchid\")[0]]\n",
    "]\n",
    "with h5py.File(\n",
    "    \"/home/de64/scratch/de64/sync_folder/2020-10-10_lDE11_spectra_fixed/2020-10-10_lDE11_spectra_fixed_GFP/kymograph/kymograph_\"\n",
    "    + str(mapped_gfp[\"File Index\"])\n",
    "    + \".hdf5\",\n",
    "    \"r\",\n",
    ") as infile:\n",
    "    data = infile[\"FITC\"][mapped_gfp[\"File Trench Index\"], 0]\n",
    "plt.imshow(data, \"Greys_r\", vmin=0, vmax=5000)"
   ]
  },
  {
   "cell_type": "code",
   "execution_count": null,
   "metadata": {},
   "outputs": [],
   "source": [
    "selected_df = kymograph_metadata.loc[1551:1552][0:1]\n",
    "img_dict = get_selected_kymo(selected_df, [\"RFP\", \"Cy5\", \"Cy7\"], headpath)\n",
    "plot_barcode(img_dict)"
   ]
  },
  {
   "cell_type": "code",
   "execution_count": null,
   "metadata": {},
   "outputs": [],
   "source": [
    "mapped_gfp = gfp_kymograph_metadata.loc[\n",
    "    inv_trenchid_map[selected_df.index.get_level_values(\"trenchid\")[0]]\n",
    "]\n",
    "with h5py.File(\n",
    "    \"/home/de64/scratch/de64/sync_folder/2020-10-10_lDE11_spectra_fixed/2020-10-10_lDE11_spectra_fixed_GFP/kymograph/kymograph_\"\n",
    "    + str(mapped_gfp[\"File Index\"])\n",
    "    + \".hdf5\",\n",
    "    \"r\",\n",
    ") as infile:\n",
    "    data = infile[\"FITC\"][mapped_gfp[\"File Trench Index\"], 0]\n",
    "plt.imshow(data, \"Greys_r\", vmin=0, vmax=5000)"
   ]
  },
  {
   "cell_type": "code",
   "execution_count": null,
   "metadata": {},
   "outputs": [],
   "source": [
    "selected_df = kymograph_metadata.loc[1845:1846][0:1]\n",
    "img_dict = get_selected_kymo(selected_df, [\"RFP\", \"Cy5\", \"Cy7\"], headpath)\n",
    "plot_barcode(img_dict)"
   ]
  },
  {
   "cell_type": "code",
   "execution_count": null,
   "metadata": {},
   "outputs": [],
   "source": [
    "mapped_gfp = gfp_kymograph_metadata.loc[\n",
    "    inv_trenchid_map[selected_df.index.get_level_values(\"trenchid\")[0]]\n",
    "]\n",
    "with h5py.File(\n",
    "    \"/home/de64/scratch/de64/sync_folder/2020-10-10_lDE11_spectra_fixed/2020-10-10_lDE11_spectra_fixed_GFP/kymograph/kymograph_\"\n",
    "    + str(mapped_gfp[\"File Index\"])\n",
    "    + \".hdf5\",\n",
    "    \"r\",\n",
    ") as infile:\n",
    "    data = infile[\"FITC\"][mapped_gfp[\"File Trench Index\"], 0]\n",
    "plt.imshow(data, \"Greys_r\", vmin=0, vmax=5000)"
   ]
  },
  {
   "cell_type": "code",
   "execution_count": null,
   "metadata": {},
   "outputs": [],
   "source": [
    "selected_df"
   ]
  },
  {
   "cell_type": "code",
   "execution_count": null,
   "metadata": {},
   "outputs": [],
   "source": [
    "grid_channels = [\"RFP\", \"Cy5\", \"Cy7\"]\n",
    "# grid_colors = [\"Reds\",\"Purples\",\"Greys_r\"]\n",
    "num_cycles = 8\n",
    "\n",
    "vrange_list = {\n",
    "    key: (np.percentile(val.flatten(), 0), np.percentile(val.flatten(), 99.99))\n",
    "    for key, val in img_dict.items()\n",
    "}\n",
    "\n",
    "fig, axes = plt.subplots(len(grid_channels), num_cycles)\n",
    "for i in range(num_cycles):\n",
    "    for j, channel in enumerate(grid_channels):\n",
    "        axes[j, i].imshow(\n",
    "            img_dict[channel][i][225:325, 1010:1110],\n",
    "            \"Greys_r\",\n",
    "            vmin=vrange_list[channel][0],\n",
    "            vmax=vrange_list[channel][1],\n",
    "        )\n",
    "        axes[j, i].axis(\"off\")\n",
    "fig.set_size_inches(20, 7.5)\n",
    "plt.tight_layout()\n",
    "plt.show()"
   ]
  }
 ],
 "metadata": {
  "kernelspec": {
   "display_name": "Python 3",
   "language": "python",
   "name": "python3"
  },
  "language_info": {
   "codemirror_mode": {
    "name": "ipython",
    "version": 3
   },
   "file_extension": ".py",
   "mimetype": "text/x-python",
   "name": "python",
   "nbconvert_exporter": "python",
   "pygments_lexer": "ipython3",
   "version": "3.8.5"
  },
  "toc-autonumbering": false,
  "toc-showcode": false,
  "toc-showmarkdowntxt": false,
  "toc-showtags": false
 },
 "nbformat": 4,
 "nbformat_minor": 4
}
