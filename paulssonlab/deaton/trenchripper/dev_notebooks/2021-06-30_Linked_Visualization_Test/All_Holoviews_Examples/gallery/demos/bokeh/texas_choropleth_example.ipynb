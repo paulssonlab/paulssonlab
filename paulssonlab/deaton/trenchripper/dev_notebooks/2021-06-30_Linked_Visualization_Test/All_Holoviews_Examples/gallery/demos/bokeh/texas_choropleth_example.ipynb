{
 "cells": [
  {
   "cell_type": "markdown",
   "metadata": {},
   "source": [
    "URL: http://bokeh.pydata.org/en/latest/docs/gallery/texas.html\n",
    "\n",
    "Most examples work across multiple plotting backends, this example is also available for:\n",
    "\n",
    "* [Matplotlib - texas choropleth example](../matplotlib/texas_choropleth_example.ipynb)"
   ]
  },
  {
   "cell_type": "code",
   "execution_count": null,
   "metadata": {},
   "outputs": [],
   "source": [
    "import holoviews as hv\n",
    "from holoviews import opts\n",
    "\n",
    "hv.extension(\"bokeh\")"
   ]
  },
  {
   "cell_type": "markdown",
   "metadata": {},
   "source": [
    "# Declaring data"
   ]
  },
  {
   "cell_type": "code",
   "execution_count": null,
   "metadata": {},
   "outputs": [],
   "source": [
    "from bokeh.sampledata.us_counties import data as counties\n",
    "from bokeh.sampledata.unemployment import data as unemployment\n",
    "\n",
    "counties = [\n",
    "    dict(county, Unemployment=unemployment[cid])\n",
    "    for cid, county in counties.items()\n",
    "    if county[\"state\"] == \"tx\"\n",
    "]\n",
    "\n",
    "choropleth = hv.Polygons(\n",
    "    counties, [\"lons\", \"lats\"], [(\"detailed name\", \"County\"), \"Unemployment\"]\n",
    ")"
   ]
  },
  {
   "cell_type": "markdown",
   "metadata": {},
   "source": [
    "## Plot"
   ]
  },
  {
   "cell_type": "code",
   "execution_count": null,
   "metadata": {},
   "outputs": [],
   "source": [
    "choropleth.opts(\n",
    "    opts.Polygons(\n",
    "        logz=True,\n",
    "        tools=[\"hover\"],\n",
    "        xaxis=None,\n",
    "        yaxis=None,\n",
    "        show_grid=False,\n",
    "        show_frame=False,\n",
    "        width=500,\n",
    "        height=500,\n",
    "        color_index=\"Unemployment\",\n",
    "        colorbar=True,\n",
    "        toolbar=\"above\",\n",
    "        line_color=\"white\",\n",
    "    )\n",
    ")"
   ]
  }
 ],
 "metadata": {
  "language_info": {
   "name": "python",
   "pygments_lexer": "ipython3"
  }
 },
 "nbformat": 4,
 "nbformat_minor": 2
}
