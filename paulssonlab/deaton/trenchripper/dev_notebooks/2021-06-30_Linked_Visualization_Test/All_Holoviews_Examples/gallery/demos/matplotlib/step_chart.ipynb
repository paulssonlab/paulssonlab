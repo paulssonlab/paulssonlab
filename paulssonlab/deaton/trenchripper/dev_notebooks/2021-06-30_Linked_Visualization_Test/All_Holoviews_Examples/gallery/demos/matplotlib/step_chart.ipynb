{
 "cells": [
  {
   "cell_type": "markdown",
   "metadata": {},
   "source": [
    "URL: http://bokeh.pydata.org/en/latest/docs/gallery/step_chart.html\n",
    "\n",
    "Most examples work across multiple plotting backends, this example is also available for:\n",
    "\n",
    "* [Bokeh - step_chart example](../bokeh/step_chart.ipynb)"
   ]
  },
  {
   "cell_type": "code",
   "execution_count": null,
   "metadata": {},
   "outputs": [],
   "source": [
    "import holoviews as hv\n",
    "from holoviews import opts\n",
    "\n",
    "hv.extension(\"matplotlib\")"
   ]
  },
  {
   "cell_type": "markdown",
   "metadata": {},
   "source": [
    "## Declare data"
   ]
  },
  {
   "cell_type": "code",
   "execution_count": null,
   "metadata": {},
   "outputs": [],
   "source": [
    "# build a dataset where multiple columns measure the same thing\n",
    "stamp = [\n",
    "    0.33,\n",
    "    0.33,\n",
    "    0.34,\n",
    "    0.37,\n",
    "    0.37,\n",
    "    0.37,\n",
    "    0.37,\n",
    "    0.39,\n",
    "    0.41,\n",
    "    0.42,\n",
    "    0.44,\n",
    "    0.44,\n",
    "    0.44,\n",
    "    0.45,\n",
    "    0.46,\n",
    "    0.49,\n",
    "    0.49,\n",
    "]\n",
    "postcard = [\n",
    "    0.20,\n",
    "    0.20,\n",
    "    0.21,\n",
    "    0.23,\n",
    "    0.23,\n",
    "    0.23,\n",
    "    0.23,\n",
    "    0.24,\n",
    "    0.26,\n",
    "    0.27,\n",
    "    0.28,\n",
    "    0.28,\n",
    "    0.29,\n",
    "    0.32,\n",
    "    0.33,\n",
    "    0.34,\n",
    "    0.35,\n",
    "]\n",
    "\n",
    "group = \"U.S. Postage Rates (1999-2015)\"\n",
    "stamp = hv.Curve(stamp, vdims=\"Rate per ounce\", label=\"stamp\", group=group)\n",
    "postcard = hv.Curve(postcard, vdims=\"Rate per ounce\", label=\"postcard\", group=group)\n",
    "postage = stamp * postcard"
   ]
  },
  {
   "cell_type": "markdown",
   "metadata": {},
   "source": [
    "## Plot"
   ]
  },
  {
   "cell_type": "code",
   "execution_count": null,
   "metadata": {},
   "outputs": [],
   "source": [
    "postage.opts(\n",
    "    opts.Curve(interpolation=\"steps-mid\", linestyle=hv.Cycle(values=[\"--\", \"-\"])),\n",
    "    opts.Overlay(legend_position=\"top_left\"),\n",
    ")"
   ]
  }
 ],
 "metadata": {
  "language_info": {
   "name": "python",
   "pygments_lexer": "ipython3"
  }
 },
 "nbformat": 4,
 "nbformat_minor": 2
}
