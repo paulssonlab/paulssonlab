{
 "cells": [
  {
   "cell_type": "markdown",
   "metadata": {},
   "source": [
    "URL: http://bokeh.pydata.org/en/latest/docs/gallery/texas.html\n",
    "\n",
    "Most examples work across multiple plotting backends, this example is also available for:\n",
    "\n",
    "* [Bokeh - texas choropleth example](../bokeh/texas_choropleth_example.ipynb)"
   ]
  },
  {
   "cell_type": "code",
   "execution_count": null,
   "metadata": {},
   "outputs": [],
   "source": [
    "import holoviews as hv\n",
    "\n",
    "hv.extension(\"matplotlib\")\n",
    "hv.output(fig=\"svg\")"
   ]
  },
  {
   "cell_type": "markdown",
   "metadata": {},
   "source": [
    "# Declaring data"
   ]
  },
  {
   "cell_type": "code",
   "execution_count": null,
   "metadata": {},
   "outputs": [],
   "source": [
    "from bokeh.sampledata.us_counties import data as counties\n",
    "from bokeh.sampledata.unemployment import data as unemployment\n",
    "\n",
    "counties = [\n",
    "    dict(county, Unemployment=unemployment[cid])\n",
    "    for cid, county in counties.items()\n",
    "    if county[\"state\"] == \"tx\"\n",
    "]\n",
    "\n",
    "choropleth = hv.Polygons(\n",
    "    counties, [\"lons\", \"lats\"], [(\"detailed name\", \"County\"), \"Unemployment\"]\n",
    ")"
   ]
  },
  {
   "cell_type": "markdown",
   "metadata": {},
   "source": [
    "## Plot"
   ]
  },
  {
   "cell_type": "code",
   "execution_count": null,
   "metadata": {},
   "outputs": [],
   "source": [
    "choropleth.opts(\n",
    "    color=\"Unemployment\",\n",
    "    edgecolor=\"white\",\n",
    "    xaxis=None,\n",
    "    yaxis=None,\n",
    "    show_grid=False,\n",
    "    show_frame=False,\n",
    "    colorbar=True,\n",
    "    fig_size=200,\n",
    ")"
   ]
  }
 ],
 "metadata": {
  "language_info": {
   "name": "python",
   "pygments_lexer": "ipython3"
  }
 },
 "nbformat": 4,
 "nbformat_minor": 2
}
