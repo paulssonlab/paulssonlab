{
 "cells": [
  {
   "cell_type": "code",
   "execution_count": null,
   "metadata": {},
   "outputs": [],
   "source": [
    "import numpy as np\n",
    "import pandas as pd\n",
    "import ipywidgets\n",
    "import qgrid"
   ]
  },
  {
   "cell_type": "code",
   "execution_count": null,
   "metadata": {},
   "outputs": [],
   "source": [
    "%load_ext autoreload\n",
    "%autoreload 2"
   ]
  },
  {
   "cell_type": "code",
   "execution_count": null,
   "metadata": {},
   "outputs": [],
   "source": [
    "from cloning import *"
   ]
  },
  {
   "cell_type": "code",
   "execution_count": null,
   "metadata": {},
   "outputs": [],
   "source": [
    "rcvenus_seq = \"atgagtaaaggcgaagaattgttcactggcgtggtaccgatcctggtagaactggatggcgacgttaatggtcacaagttcagcgttagtggagagggtgaaggtgatgcgacctatggcaaactgaccctgaagctgatctgcacaaccggcaagctgcctgttccttggccgacactggttacaacgctgggctatggcgtacaatgtttcgcacggtacccggaccacatgaagcaacatgacttcttcaagagcgctatgcctgaaggctatgtccaagaaaggactatcttcttcaaagacgacggcaattacaagacacgggccgaagtcaaattcgaaggcgatacgctggtcaacagaatcgagctgaaaggcatcgacttcaaggaagatggcaacatcctgggccataaactggaatataattataacagtcataatgtgtatatcaccgctgacaaacaaaagaatggcatcaaggccaacttcaaaatcagacataacatcgaagatggaggtgttcaactggcagaccactaccaacaaaatactccgatcggcgatggcccggtgctgctgccggataaccattatctgagttatcaaagtaagctgagcaaggatccgaacgaaaaaagagatcatatggttctgctggaattcgtaacggccgcgggcatcacgcatggcatggacgagctgtataaataa\"\n",
    "mvenus_seq = \"ATGAGTAAAGGAGAAGAACTTTTCACTGGAGTTGTCCCAATTCTTGTTGAATTAGATGGTGATGTTAATGGGCACAAATTTTCTGTCAGTGGAGAGGGTGAAGGTGATGCAACATACGGAAAACTTACCCTTAAATTGATTTGCACTACTGGAAAACTACCTGTTCCATGGCCAACACTTGTCACTACTTTGGGTTATGGTGTTCAATGCTTTGCGAGATACCCAGATCATATGAAACAGCATGACTTTTTCAAGAGTGCCATGCCCGAAGGTTATGTACAGGAAAGAACTATATTTTTCAAAGATGACGGGAACTACAAGACACGTGCTGAAGTCAAGTTTGAAGGTGATACCCTTGTTAATAGAATCGAGTTAAAAGGTATTGATTTTAAAGAAGATGGAAACATTCTTGGACACAAATTGGAATACAACTATAACTCACACAATGTATACATCACGGCAGACAAACAAAAGAATGGAATCAAAGCGAACTTCAAAATTAGACACAACATTGAAGATGGAGGTGTTCAACTAGCAGACCATTATCAACAAAATACTCCAATTGGCGATGGCCCTGTCCTTTTACCAGACAACCATTACCTGTCCTACCAATCTAAGCTTTCGAAAGATCCCAACGAAAAGAGAGACCACATGGTCCTTCTTGAGTTTGTAACAGCTGCTGGGATTACACATGGCATGGATGAACTATACAAATAA\"\n",
    "mscfp3_seq = \"ATGAGTAAAGGAGAAGAACTTTTCACTGGAGTTGTCCCAATTCTTGTTGAATTAGATGGTGATGTTAATGGGCACAAATTTTCTGTCAGTGGAGAGGGTGAAGGTGATGCAACATACGGAAAACTTACCCTTAAATTTATTTGCACTACTGGAAAACTACCTGTTCCATGGCCAACACTTGTCACTACTCTCACTTGGGGTGTTCAATGCTTTGCAAGATACCCAGATCATATGAAACAGCATGACTTTTTCAAGAGTGCCATGCCCGAAGGTTATGTACAGGAAAGAACTATATTTTTCAAAGATGACGGGAACTACAAGACACGTGCTGAAGTCAAGTTTGAAGGTGATACCCTTGTTAATAGAATCGAGTTAAAAGGTATTGATTTTAAAGAAGATGGAAACATTCTTGGACACAAATTGGAATACAACTACATCTCAGACAATGTATACATCACGGCAGACAAACAAAAGAATGGAATCAAAGCTAACTTCAAAATTAGACACAACATTGAAGATGGAGGCGTTCAACTAGCAGACCATTATCAACAAAATACTCCAATTGGCGATGGCCCTGTCCTTTTACCAGACAACCATTACCTGTCCACACAATCTAAGCTTTCGAAAGATCCCAACGAAAAGAGAGACCACATGGTCCTTCTTGAGTTTGTAACAGCTGCTGGGATTACACATGGCATGGATGAACTATACAAATAA\"\n",
    "mscarlet_seq = \"ATGAGTAAAGGAGAAGCTGTGATTAAAGAGTTCATGCGCTTCAAAGTTCACATGGAGGGTTCTATGAACGGTCACGAGTTCGAGATCGAAGGCGAAGGCGAGGGCCGTCCGTATGAAGGCACCCAGACCGCCAAACTGAAAGTGACTAAAGGCGGCCCGCTGCCTTTTTCCTGGGACATCCTGAGCCCGCAATTTATGTACGGTTCTAGGGCGTTCATCAAACACCCAGCGGATATCCCGGACTATTATAAGCAGTCTTTTCCGGAAGGTTTCAAGTGGGAACGCGTAATGAATTTTGAAGATGGTGGTGCCGTGACCGTCACTCAGGACACCTCCCTGGAGGATGGCACCCTGATCTATAAAGTTAAACTGCGTGGTACTAATTTTCCACCTGATGGCCCGGTGATGCAGAAAAAGACGATGGGTTGGGAGGCGTCTACCGAACGCTTGTATCCGGAAGATGGTGTGCTGAAAGGCGACATTAAAATGGCCCTGCGCCTGAAAGATGGCGGCCGCTATCTGGCTGACTTCAAAACCACGTACAAAGCCAAGAAACCTGTGCAGATGCCTGGCGCGTACAATGTGGACCGCAAACTGGACATCACCTCTCATAATGAAGATTATACGGTGGTAGAGCAATATGAGCGCTCCGAGGGTCGTCATTCTACCGGTGGCATGGATGAACTATACAAATAA\""
   ]
  },
  {
   "cell_type": "code",
   "execution_count": null,
   "metadata": {},
   "outputs": [],
   "source": [
    "# seq = mvenus_seq.lower()\n",
    "seq = rcvenus_seq.lower()"
   ]
  },
  {
   "cell_type": "markdown",
   "metadata": {},
   "source": [
    "# Kondrashov 2016"
   ]
  },
  {
   "cell_type": "code",
   "execution_count": null,
   "metadata": {},
   "outputs": [],
   "source": [
    "def parse_kondrashov_mutations(s):\n",
    "    if pd.isna(s):\n",
    "        return []\n",
    "    else:\n",
    "        try:\n",
    "            return [parse_kondrashov_mutation(ss) for ss in s.split(\":\")]\n",
    "        except:\n",
    "            print(\">>>\", s)\n",
    "            raise\n",
    "\n",
    "\n",
    "def parse_kondrashov_mutation(s):\n",
    "    mut_type, mut_from, mut_res, mut_to = re.match(\n",
    "        r\"(S|I|D)([A-Z])(\\d+)([A-Z*])\", s\n",
    "    ).groups()\n",
    "    # Kondrashov uses MixCR 0-based indexing, also is missing initial methionine, so need to add 2 to index\n",
    "    mut_res = int(mut_res) + 2\n",
    "    return (mut_type, mut_from, mut_res, mut_to)"
   ]
  },
  {
   "cell_type": "code",
   "execution_count": null,
   "metadata": {},
   "outputs": [],
   "source": [
    "kondrashov = pd.read_csv(\n",
    "    \"2016kondrashov/nucleotide_genotypes_to_brightness.tsv\", sep=\"\\t\"\n",
    ")\n",
    "kondrashov[\"aa_mutations\"] = kondrashov[\"aaMutations\"].map(parse_kondrashov_mutations)\n",
    "kondrashov[\"nt_mutations\"] = kondrashov[\"nMutations\"].map(parse_kondrashov_mutations)\n",
    "kondrashov[\"num_aa_mutations\"] = kondrashov[\"aa_mutations\"].map(len)\n",
    "kondrashov[\"num_nt_mutations\"] = kondrashov[\"nt_mutations\"].map(len)\n",
    "kondrashov[\"res\"] = kondrashov[kondrashov[\"num_aa_mutations\"] == 1][\"aa_mutations\"].map(\n",
    "    lambda x: x[0][2]\n",
    ")\n",
    "kondrashov_single = kondrashov[kondrashov[\"num_aa_mutations\"] == 1]\n",
    "kondrashov_single_nt = kondrashov[kondrashov[\"num_nt_mutations\"] == 1]\n",
    "# qgrid.show_grid(kondrashov)"
   ]
  },
  {
   "cell_type": "code",
   "execution_count": null,
   "metadata": {},
   "outputs": [],
   "source": [
    "# number of mutants\n",
    "kondrashov_single[kondrashov_single[\"medianBrightness\"] <= 3].groupby([\"res\"])[\n",
    "    \"medianBrightness\"\n",
    "].agg([\"mean\", \"size\"]).sort_values(\"size\", ascending=False)"
   ]
  },
  {
   "cell_type": "code",
   "execution_count": null,
   "metadata": {},
   "outputs": [],
   "source": [
    "kondrashov_single.join(residue_brightness, on=\"res\", rsuffix=\"_res_brightness\")"
   ]
  },
  {
   "cell_type": "code",
   "execution_count": null,
   "metadata": {},
   "outputs": [],
   "source": [
    "residue_brightness = kondrashov_single.groupby([\"res\"])[\"medianBrightness\"].agg(\n",
    "    [\"mean\", \"size\"]\n",
    ")\n",
    "residue_brightness.columns.values[:] = [\"h\", \"z\"]\n",
    "mean_dim_residues = residue_brightness[\n",
    "    (residue_brightness[\"size\"] > 0) & (residue_brightness[\"mean\"] <= 3)\n",
    "]\n",
    "mean_dim_residues.sort_values(\"mean\")"
   ]
  },
  {
   "cell_type": "code",
   "execution_count": null,
   "metadata": {},
   "outputs": [],
   "source": [
    "kondrashov[kondrashov[\"res\"] == 57]"
   ]
  },
  {
   "cell_type": "code",
   "execution_count": null,
   "metadata": {},
   "outputs": [],
   "source": [
    "# TURN A's into G's\n",
    "# given a particular transition, list AA mutations which can be implemented using that transition"
   ]
  },
  {
   "cell_type": "code",
   "execution_count": null,
   "metadata": {},
   "outputs": [],
   "source": [
    "def count_transitions_for_mutation(seq, res, to_aa, nt_from, nt_to):\n",
    "    to_aa = to_aa.lower()\n",
    "    nt_from = nt_from.lower()\n",
    "    nt_to = nt_to.lower()\n",
    "    count = 0\n",
    "    for codon in aa_to_codon[to_aa]:\n",
    "        diff = site_diff(seq[3 * (res - 1) : 3 * res], codon)\n",
    "        if len(diff) == 1 and diff[0][1] == nt_from and diff[0][2] == nt_to:\n",
    "            count += 1\n",
    "    return count"
   ]
  },
  {
   "cell_type": "code",
   "execution_count": null,
   "metadata": {},
   "outputs": [],
   "source": [
    "# noise level of synonymous mutations\n",
    "kondrashov[\n",
    "    (kondrashov[\"num_aa_mutations\"] == 0) & (kondrashov[\"num_nt_mutations\"] != 0)\n",
    "][\"medianBrightness\"].std()"
   ]
  },
  {
   "cell_type": "code",
   "execution_count": null,
   "metadata": {},
   "outputs": [],
   "source": [
    "kondrashov_single[\n",
    "    kondrashov_single[\"aa_mutations\"].map(\n",
    "        lambda x: count_transitions_for_mutation(seq, x[0][2], x[0][3], \"a\", \"g\")\n",
    "    )\n",
    "    > 0\n",
    "]"
   ]
  },
  {
   "cell_type": "code",
   "execution_count": null,
   "metadata": {},
   "outputs": [],
   "source": [
    "count_transitions_for_mutation(seq, 57, \"R\", \"t\", \"a\")"
   ]
  },
  {
   "cell_type": "code",
   "execution_count": null,
   "metadata": {},
   "outputs": [],
   "source": [
    "kondrashov_single_nt[kondrashov_single_nt[\"medianBrightness\"] <= 3]"
   ]
  },
  {
   "cell_type": "markdown",
   "metadata": {},
   "source": [
    "# Chromophore mutation"
   ]
  },
  {
   "cell_type": "code",
   "execution_count": null,
   "metadata": {},
   "outputs": [],
   "source": [
    "candidate_chromophore_mutants = \"\"\"L13P\n",
    "W55R\n",
    "F25S\n",
    "L218P\n",
    "F128S\n",
    "Q92R\n",
    "V110E\n",
    "Y64C\n",
    "H215L\n",
    "H167R\n",
    "M86K\n",
    "Q181L\n",
    "K83E\"\"\".split(\n",
    "    \"\\n\"\n",
    ")"
   ]
  },
  {
   "cell_type": "code",
   "execution_count": null,
   "metadata": {},
   "outputs": [],
   "source": [
    "mut = \"M86K\""
   ]
  },
  {
   "cell_type": "code",
   "execution_count": null,
   "metadata": {},
   "outputs": [],
   "source": [
    "from_aa, res, to_aa = re.match(\"([A-Z]+)(\\d+)([A-Z]+)\", mut).groups()\n",
    "res = int(res)"
   ]
  },
  {
   "cell_type": "code",
   "execution_count": null,
   "metadata": {},
   "outputs": [],
   "source": [
    "seq[3 * (res - 1) : 3 * res]"
   ]
  },
  {
   "cell_type": "code",
   "execution_count": null,
   "metadata": {},
   "outputs": [],
   "source": [
    "codon_to_aa[\"agc\"]"
   ]
  },
  {
   "cell_type": "markdown",
   "metadata": {},
   "source": [
    "# New"
   ]
  },
  {
   "cell_type": "code",
   "execution_count": null,
   "metadata": {},
   "outputs": [],
   "source": [
    "ps = stop_codon_primers(rcvenus_seq)"
   ]
  },
  {
   "cell_type": "code",
   "execution_count": null,
   "metadata": {},
   "outputs": [],
   "source": [
    "ps_nonnull = [p for p in ps if \"forward_primer\" in p]\n",
    "df = pd.DataFrame(ps_nonnull)"
   ]
  },
  {
   "cell_type": "code",
   "execution_count": null,
   "metadata": {},
   "outputs": [],
   "source": [
    "df_display = df.copy()\n",
    "df_display[\"selected\"] = False\n",
    "df_display[\"forward_len\"] = df_display[\"forward_primer\"].map(len)\n",
    "df_display[\"reverse_len\"] = df_display[\"reverse_primer\"].map(len)\n",
    "cols = [\"selected\", \"mutation\", \"transition\", \"forward_len\", \"reverse_len\"] + [\n",
    "    c\n",
    "    for c in list(ps_nonnull[0].keys())\n",
    "    if c not in (\"mutation\", \"transition\")\n",
    "    and not c.endswith(\"_dG\")\n",
    "    and not c.endswith(\"_primer\")\n",
    "]\n",
    "df_display = df_display[cols]\n",
    "table = qgrid.show_grid(\n",
    "    df_display,\n",
    "    grid_options={\n",
    "        \"forceFitColumns\": False,\n",
    "        \"defaultColumnWidth\": 120,\n",
    "        \"autoEdit\": True,\n",
    "    },\n",
    "    precision=1,\n",
    ")\n",
    "table"
   ]
  },
  {
   "cell_type": "code",
   "execution_count": null,
   "metadata": {},
   "outputs": [],
   "source": [
    "df2 = table.get_changed_df()\n",
    "selected_primers = df.iloc[df2[df2[\"selected\"]].index]\n",
    "selected_primers = selected_primers.sort_index()\n",
    "selected_primers"
   ]
  },
  {
   "cell_type": "code",
   "execution_count": null,
   "metadata": {},
   "outputs": [],
   "source": [
    "selected_primers.to_json(\"180222primers.json\")"
   ]
  },
  {
   "cell_type": "code",
   "execution_count": null,
   "metadata": {},
   "outputs": [],
   "source": [
    "jqs_num = 93\n",
    "prefix = \"rcvenus\""
   ]
  },
  {
   "cell_type": "code",
   "execution_count": null,
   "metadata": {},
   "outputs": [],
   "source": [
    "for p in selected_primers.itertuples():\n",
    "    for suffix, seq in ((\"f\", p.forward_primer), (\"r\", p.reverse_primer)):\n",
    "        name = \"JQS{}_{}_{}_{}\".format(jqs_num, prefix, p.mutation, suffix)\n",
    "        print(\"{}\\t{}\".format(name, seq))\n",
    "        jqs_num += 1"
   ]
  },
  {
   "cell_type": "code",
   "execution_count": null,
   "metadata": {},
   "outputs": [],
   "source": [
    "jqs_num = 107\n",
    "for p in selected_primers.itertuples():\n",
    "    for suffix, seq in ((\"rev_f\", p.reversion_forward_primer),):\n",
    "        name = \"JQS{}_{}_{}_{}\".format(jqs_num, prefix, p.mutation, suffix)\n",
    "        print(\"{}\\t{}\".format(name, seq))\n",
    "        jqs_num += 1"
   ]
  },
  {
   "cell_type": "markdown",
   "metadata": {},
   "source": [
    "# Old"
   ]
  },
  {
   "cell_type": "code",
   "execution_count": null,
   "metadata": {},
   "outputs": [],
   "source": [
    "for res, codon in enumerate(grouper(seq, 3)):\n",
    "    for stop_codon in stop_codons:\n",
    "        diff = site_diff(codon, stop_codon)\n",
    "        if len(diff) == 1:\n",
    "            hit = diff[0][2] == \"g\"\n",
    "            print(res, \"\".join(codon), \"->\", stop_codon, diff, \"***\" if hit else \"\")"
   ]
  },
  {
   "cell_type": "code",
   "execution_count": null,
   "metadata": {},
   "outputs": [],
   "source": [
    "synonymous_codons = {\n",
    "    \"CYS\": [\"TGT\", \"TGC\"],\n",
    "    \"ASP\": [\"GAT\", \"GAC\"],\n",
    "    \"SER\": [\"TCT\", \"TCG\", \"TCA\", \"TCC\", \"AGC\", \"AGT\"],\n",
    "    \"GLN\": [\"CAA\", \"CAG\"],\n",
    "    \"MET\": [\"ATG\"],\n",
    "    \"ASN\": [\"AAC\", \"AAT\"],\n",
    "    \"PRO\": [\"CCT\", \"CCG\", \"CCA\", \"CCC\"],\n",
    "    \"LYS\": [\"AAG\", \"AAA\"],\n",
    "    \"STOP\": [\"TAG\", \"TGA\", \"TAA\"],\n",
    "    \"THR\": [\"ACC\", \"ACA\", \"ACG\", \"ACT\"],\n",
    "    \"PHE\": [\"TTT\", \"TTC\"],\n",
    "    \"ALA\": [\"GCA\", \"GCC\", \"GCG\", \"GCT\"],\n",
    "    \"GLY\": [\"GGT\", \"GGG\", \"GGA\", \"GGC\"],\n",
    "    \"ILE\": [\"ATC\", \"ATA\", \"ATT\"],\n",
    "    \"LEU\": [\"TTA\", \"TTG\", \"CTC\", \"CTT\", \"CTG\", \"CTA\"],\n",
    "    \"HIS\": [\"CAT\", \"CAC\"],\n",
    "    \"ARG\": [\"CGA\", \"CGC\", \"CGG\", \"CGT\", \"AGG\", \"AGA\"],\n",
    "    \"TRP\": [\"TGG\"],\n",
    "    \"VAL\": [\"GTA\", \"GTC\", \"GTG\", \"GTT\"],\n",
    "    \"GLU\": [\"GAG\", \"GAA\"],\n",
    "    \"TYR\": [\"TAT\", \"TAC\"],\n",
    "}"
   ]
  },
  {
   "cell_type": "code",
   "execution_count": null,
   "metadata": {},
   "outputs": [],
   "source": [
    "codon_to_aa = {}\n",
    "for aa, codons in synonymous_codons.items():\n",
    "    for codon in codons:\n",
    "        codon_to_aa[codon.lower()] = aa"
   ]
  },
  {
   "cell_type": "code",
   "execution_count": null,
   "metadata": {},
   "outputs": [],
   "source": [
    "codon_to_aa"
   ]
  },
  {
   "cell_type": "code",
   "execution_count": null,
   "metadata": {},
   "outputs": [],
   "source": [
    "bases = \"atcg\"\n",
    "stops_for_mutation = defaultdict(list)\n",
    "\n",
    "for b1 in bases:\n",
    "    for b2 in bases:\n",
    "        if b1 == b2:\n",
    "            continue\n",
    "        for res, codon in enumerate(grouper(seq[:-3], 3)):\n",
    "            sub_codons = synonymous_codons[codon_to_aa[\"\".join(codon)]]\n",
    "            for stop_codon in stop_codons:\n",
    "                for sub_codon in sub_codons:\n",
    "                    sub_codon = sub_codon.lower()\n",
    "                    diff = site_diff(sub_codon, stop_codon)\n",
    "                    if len(diff) == 1:\n",
    "                        # hit = diff[0][1] == 'a' and diff[0][2] == 'g'\n",
    "                        # hit = diff[0][2] == 'g'\n",
    "                        hit = diff[0][1] == b2 and diff[0][2] == b1\n",
    "                        # print(res, ''.join(sub_codon), '->', stop_codon, diff, '***' if hit else '')\n",
    "                        if hit:\n",
    "                            stops_for_mutation[(b1, b2)].append(\n",
    "                                (res, sub_codon, stop_codon, diff)\n",
    "                            )"
   ]
  },
  {
   "cell_type": "code",
   "execution_count": null,
   "metadata": {},
   "outputs": [],
   "source": [
    "num_stops_for_mutation = {k: len(v) for k, v in stops_for_mutation.items()}"
   ]
  },
  {
   "cell_type": "code",
   "execution_count": null,
   "metadata": {},
   "outputs": [],
   "source": [
    "stops_for_mutation[(\"a\", \"g\")]"
   ]
  },
  {
   "cell_type": "code",
   "execution_count": null,
   "metadata": {},
   "outputs": [],
   "source": [
    "num_stops_for_mutation"
   ]
  },
  {
   "cell_type": "code",
   "execution_count": null,
   "metadata": {},
   "outputs": [],
   "source": [
    "seq"
   ]
  },
  {
   "cell_type": "code",
   "execution_count": null,
   "metadata": {},
   "outputs": [],
   "source": []
  }
 ],
 "metadata": {
  "kernelspec": {
   "display_name": "Python 3",
   "language": "python",
   "name": "python3"
  },
  "language_info": {
   "codemirror_mode": {
    "name": "ipython",
    "version": 3
   },
   "file_extension": ".py",
   "mimetype": "text/x-python",
   "name": "python",
   "nbconvert_exporter": "python",
   "pygments_lexer": "ipython3",
   "version": "3.6.4"
  },
  "toc": {
   "colors": {
    "hover_highlight": "#DAA520",
    "running_highlight": "#FF0000",
    "selected_highlight": "#FFD700"
   },
   "moveMenuLeft": true,
   "nav_menu": {
    "height": "12px",
    "width": "252px"
   },
   "navigate_menu": true,
   "number_sections": true,
   "sideBar": true,
   "threshold": 4,
   "toc_cell": false,
   "toc_section_display": "block",
   "toc_window_display": false
  }
 },
 "nbformat": 4,
 "nbformat_minor": 2
}
