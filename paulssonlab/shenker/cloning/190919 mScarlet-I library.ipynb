{
 "cells": [
  {
   "cell_type": "code",
   "execution_count": null,
   "metadata": {},
   "outputs": [],
   "source": [
    "from collections import defaultdict\n",
    "import random\n",
    "from cloning import codon_to_aa, aa_to_codon, codons_by_usage\n",
    "from util import grouper"
   ]
  },
  {
   "cell_type": "code",
   "execution_count": null,
   "metadata": {},
   "outputs": [],
   "source": [
    "seq_mscarlet_I = \"agtaaaggagaagctgtgattaaagagttcatgcgcttcaaagttcacatggagggttctatgaacggtcacgagttcgagatcgaaggcgaaggcgagggccgtccgtatgaaggcacccagaccgccaaactgaaagtgactaaaggcggcccgctgcctttttcctgggacatcctgagcccgcaatttatgtacggttctagggcgttcatcaaacacccagcggatatcccggactattataagcagtcttttccggaaggtttcaagtgggaacgcgtaatgaattttgaagatggtggtgccgtgaccgtcactcaggacacctccctggaggatggcaccctgatctataaagttaaactgcgtggtactaattttccacctgatggcccggtgatgcagaaaaagacgatgggttgggaggcgtctaccgaacgcttgtatccggaagatggtgtgctgaaaggcgacattaaaatggccctgcgcctgaaagatggcggccgctatctggctgacttcaaaaccacgtacaaagccaagaaacctgtgcagatgcctggcgcgtacaatgtggaccgcaaactggacatcacctctcataatgaagattatacggtggtagagcaatatgagcgctccgagggtcgtcattctaccggtggcatggatgaactatacaaa\""
   ]
  },
  {
   "cell_type": "markdown",
   "metadata": {},
   "source": [
    "# Twist"
   ]
  },
  {
   "cell_type": "code",
   "execution_count": null,
   "metadata": {},
   "outputs": [],
   "source": [
    "aa_to_codon"
   ]
  },
  {
   "cell_type": "code",
   "execution_count": null,
   "metadata": {},
   "outputs": [],
   "source": [
    "seq_trans = \"\".join([codon_to_aa[\"\".join(c)] for c in grouper(seq_mscarlet_I, 3)])"
   ]
  },
  {
   "cell_type": "code",
   "execution_count": null,
   "metadata": {},
   "outputs": [],
   "source": [
    "seq_trans"
   ]
  },
  {
   "cell_type": "code",
   "execution_count": null,
   "metadata": {},
   "outputs": [],
   "source": [
    "seen_codons = defaultdict(set)\n",
    "[\n",
    "    seen_codons[codon_to_aa[\"\".join(c)]].add(\"\".join(c))\n",
    "    for c in grouper(seq_mscarlet_I, 3)\n",
    "]"
   ]
  },
  {
   "cell_type": "code",
   "execution_count": null,
   "metadata": {},
   "outputs": [],
   "source": [
    "seen_codons"
   ]
  },
  {
   "cell_type": "code",
   "execution_count": null,
   "metadata": {},
   "outputs": [],
   "source": [
    "[\n",
    "    aa_to_codon[codon_to_aa[\"\".join(c)]].index(\"\".join(c))\n",
    "    for c in grouper(seq_mscarlet_I, 3)\n",
    "]"
   ]
  },
  {
   "cell_type": "code",
   "execution_count": null,
   "metadata": {},
   "outputs": [],
   "source": [
    "[len(aa_to_codon[codon_to_aa[\"\".join(c)]]) for c in grouper(seq_mscarlet_I, 3)]"
   ]
  },
  {
   "cell_type": "code",
   "execution_count": null,
   "metadata": {},
   "outputs": [],
   "source": [
    "\"\".join(random.choice(\"atcg\") for i in range(20))"
   ]
  },
  {
   "cell_type": "code",
   "execution_count": null,
   "metadata": {},
   "outputs": [],
   "source": []
  }
 ],
 "metadata": {
  "kernelspec": {
   "display_name": "Python 3",
   "language": "python",
   "name": "python3"
  },
  "language_info": {
   "codemirror_mode": {
    "name": "ipython",
    "version": 3
   },
   "file_extension": ".py",
   "mimetype": "text/x-python",
   "name": "python",
   "nbconvert_exporter": "python",
   "pygments_lexer": "ipython3",
   "version": "3.7.4"
  }
 },
 "nbformat": 4,
 "nbformat_minor": 4
}
