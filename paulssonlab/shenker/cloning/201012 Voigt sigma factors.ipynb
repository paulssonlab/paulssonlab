{
 "cells": [
  {
   "cell_type": "code",
   "execution_count": null,
   "metadata": {},
   "outputs": [],
   "source": [
    "import pandas as pd\n",
    "import holoviews as hv\n",
    "import hvplot.pandas\n",
    "import matplotlib.pyplot as plt\n",
    "import seaborn as sns\n",
    "import toml\n",
    "import re\n",
    "import urllib\n",
    "from datetime import datetime\n",
    "import string\n",
    "import pygsheets\n",
    "import requests\n",
    "from tqdm.auto import tqdm\n",
    "import Bio.Restriction as Restriction\n",
    "from Bio.Seq import Seq\n",
    "from Bio.SeqRecord import SeqRecord\n",
    "import benchlingapi"
   ]
  },
  {
   "cell_type": "code",
   "execution_count": null,
   "metadata": {},
   "outputs": [],
   "source": [
    "%load_ext autoreload\n",
    "%autoreload 2"
   ]
  },
  {
   "cell_type": "code",
   "execution_count": null,
   "metadata": {},
   "outputs": [],
   "source": [
    "import paulssonlab.api as api\n",
    "from paulssonlab.api.util import base_url\n",
    "import paulssonlab.cloning.workflow as workflow\n",
    "import paulssonlab.cloning.util as cloning_util\n",
    "import paulssonlab.cloning.sequence as sequence\n",
    "import paulssonlab.cloning.golden_gate as golden_gate\n",
    "import paulssonlab.cloning.codon as codon\n",
    "import paulssonlab.cloning.optimization as optimization"
   ]
  },
  {
   "cell_type": "code",
   "execution_count": null,
   "metadata": {},
   "outputs": [],
   "source": [
    "hv.extension(\"bokeh\")"
   ]
  },
  {
   "cell_type": "markdown",
   "metadata": {},
   "source": [
    "# Download data"
   ]
  },
  {
   "cell_type": "code",
   "execution_count": null,
   "metadata": {},
   "outputs": [],
   "source": [
    "!mkdir -p data/2013sigmafactorswitches_supp\n",
    "!curl -b does_not_exist -Lo data/2013sigmafactorswitches_supp/supptable1.xlsx \"https://www.embopress.org/action/downloadSupplement?doi=10.1038%2Fmsb.2013.58&file=msb201358-sup-0002.xlsx\"\n",
    "!curl -b does_not_exist -Lo data/2013sigmafactorswitches_supp/supptable2.xlsx \"https://www.embopress.org/action/downloadSupplement?doi=10.1038%2Fmsb.2013.58&file=msb201358-sup-0003.xlsx\""
   ]
  },
  {
   "cell_type": "markdown",
   "metadata": {},
   "source": [
    "# Setup"
   ]
  },
  {
   "cell_type": "code",
   "execution_count": null,
   "metadata": {},
   "outputs": [],
   "source": [
    "config = toml.load(\"config.toml\")"
   ]
  },
  {
   "cell_type": "code",
   "execution_count": null,
   "metadata": {},
   "outputs": [],
   "source": [
    "session = benchlingapi.Session(config[\"benchling\"][\"api_key\"])"
   ]
  },
  {
   "cell_type": "code",
   "execution_count": null,
   "metadata": {},
   "outputs": [],
   "source": [
    "gc = pygsheets.authorize(service_account_file=\"credentials.json\")"
   ]
  },
  {
   "cell_type": "code",
   "execution_count": null,
   "metadata": {},
   "outputs": [],
   "source": [
    "col = workflow.get_strain_collection_sheets(gc.drive.service, \"LIB\")\n",
    "col"
   ]
  },
  {
   "cell_type": "code",
   "execution_count": null,
   "metadata": {},
   "outputs": [],
   "source": [
    "strain_sheet = gc.open_by_key(col[\"strains\"]).worksheet()\n",
    "plasmid_sheet = gc.open_by_key(col[\"plasmids\"]).worksheet()\n",
    "part_sheet = gc.open_by_key(col[\"parts\"]).worksheet()\n",
    "part_type_sheet = gc.open_by_key(col[\"parts\"]).worksheet_by_title(\"Part types\")"
   ]
  },
  {
   "cell_type": "code",
   "execution_count": null,
   "metadata": {},
   "outputs": [],
   "source": [
    "drive_service = plasmid_sheet.client.drive.service\n",
    "plasmid_folder = col[\"plasmid_maps\"]\n",
    "plasmid_maps = api.google.list_drive(drive_service, root=plasmid_folder)"
   ]
  },
  {
   "cell_type": "markdown",
   "metadata": {},
   "source": [
    "# 2013 Voigt sigma factors"
   ]
  },
  {
   "cell_type": "markdown",
   "metadata": {},
   "source": [
    "## Import data"
   ]
  },
  {
   "cell_type": "code",
   "execution_count": null,
   "metadata": {},
   "outputs": [],
   "source": [
    "sigmas = pd.read_excel(\n",
    "    \"data/2013sigmafactorswitches_supp/supptable1.xlsx\", sheet_name=0, index_col=0\n",
    ")"
   ]
  },
  {
   "cell_type": "code",
   "execution_count": null,
   "metadata": {},
   "outputs": [],
   "source": [
    "antisigmas = pd.read_excel(\n",
    "    \"data/2013sigmafactorswitches_supp/supptable1.xlsx\", sheet_name=2, index_col=0\n",
    ")"
   ]
  },
  {
   "cell_type": "code",
   "execution_count": null,
   "metadata": {},
   "outputs": [],
   "source": [
    "sigma_promoters = pd.read_excel(\n",
    "    \"data/2013sigmafactorswitches_supp/supptable1.xlsx\", sheet_name=1, index_col=0\n",
    ")"
   ]
  },
  {
   "cell_type": "code",
   "execution_count": null,
   "metadata": {},
   "outputs": [],
   "source": [
    "sigma_orthogonality_mean = pd.read_excel(\n",
    "    \"data/2013sigmafactorswitches_supp/supptable2.xlsx\",\n",
    "    sheet_name=0,\n",
    "    index_col=0,\n",
    "    nrows=27,\n",
    "    skiprows=1,\n",
    "    usecols=\"B:CJ\",\n",
    ")\n",
    "sigma_orthogonality_mean.index.name = \"Sigma\"\n",
    "sigma_orthogonality_mean.columns.name = \"Antisigma\"\n",
    "sigma_orthogonality_stddev = pd.read_excel(\n",
    "    \"data/2013sigmafactorswitches_supp/supptable2.xlsx\",\n",
    "    sheet_name=0,\n",
    "    index_col=0,\n",
    "    nrows=27,\n",
    "    skiprows=31,\n",
    "    usecols=\"B:CJ\",\n",
    ")\n",
    "sigma_orthogonality_stddev.index.name = \"Sigma\"\n",
    "sigma_orthogonality_stddev.columns.name = \"Antisigma\""
   ]
  },
  {
   "cell_type": "code",
   "execution_count": null,
   "metadata": {},
   "outputs": [],
   "source": [
    "antisigma_orthogonality_mean = pd.read_excel(\n",
    "    \"data/2013sigmafactorswitches_supp/supptable2.xlsx\",\n",
    "    sheet_name=2,\n",
    "    index_col=0,\n",
    "    nrows=25,\n",
    "    skiprows=1,\n",
    "    usecols=\"B:AL\",\n",
    ")\n",
    "antisigma_orthogonality_mean.index.name = \"Antisigma\"\n",
    "antisigma_orthogonality_mean.columns.name = \"Sigma\"\n",
    "antisigma_orthogonality_stddev = pd.read_excel(\n",
    "    \"data/2013sigmafactorswitches_supp/supptable2.xlsx\",\n",
    "    sheet_name=2,\n",
    "    index_col=0,\n",
    "    nrows=25,\n",
    "    skiprows=29,\n",
    "    usecols=\"B:AL\",\n",
    ")\n",
    "antisigma_orthogonality_stddev.index.name = \"Antisigma\"\n",
    "antisigma_orthogonality_stddev.columns.name = \"Sigma\""
   ]
  },
  {
   "cell_type": "code",
   "execution_count": null,
   "metadata": {},
   "outputs": [],
   "source": [
    "sigma_titration = pd.read_excel(\n",
    "    \"data/2013sigmafactorswitches_supp/supptable2.xlsx\",\n",
    "    sheet_name=1,\n",
    "    index_col=0,\n",
    "    header=(0, 1),\n",
    "    nrows=52,\n",
    ")"
   ]
  },
  {
   "cell_type": "code",
   "execution_count": null,
   "metadata": {},
   "outputs": [],
   "source": [
    "sigma_growth = pd.read_excel(\n",
    "    \"data/2013sigmafactorswitches_supp/supptable2.xlsx\",\n",
    "    sheet_name=3,\n",
    "    skipfooter=2,\n",
    "    header=(0, 1, 2),\n",
    ")\n",
    "sigma_growth.dropna(axis=1, how=\"all\", inplace=True)\n",
    "sigma_growth.set_index(sigma_growth.columns[0], inplace=True)\n",
    "sigma_growth.index.name = \"Sigma\""
   ]
  },
  {
   "cell_type": "code",
   "execution_count": null,
   "metadata": {},
   "outputs": [],
   "source": [
    "antisigma_growth = pd.read_excel(\n",
    "    \"data/2013sigmafactorswitches_supp/supptable2.xlsx\",\n",
    "    sheet_name=4,\n",
    "    skipfooter=2,\n",
    "    header=(0, 1, 2),\n",
    ")\n",
    "antisigma_growth.dropna(axis=1, how=\"all\", inplace=True)\n",
    "antisigma_growth.set_index(antisigma_growth.columns[0], inplace=True)\n",
    "antisigma_growth.index.name = \"Antisigma\""
   ]
  },
  {
   "cell_type": "markdown",
   "metadata": {},
   "source": [
    "## Orthogonality"
   ]
  },
  {
   "cell_type": "code",
   "execution_count": null,
   "metadata": {},
   "outputs": [],
   "source": [
    "sigma_thresh = 50\n",
    "sigma_subset = sigma_orthogonality_mean.loc[\n",
    "    (sigma_orthogonality_mean > sigma_thresh).any(axis=1)\n",
    "]\n",
    "sigma_subset = sigma_subset.loc[:, (sigma_subset > sigma_thresh).any(axis=0)]"
   ]
  },
  {
   "cell_type": "code",
   "execution_count": null,
   "metadata": {},
   "outputs": [],
   "source": [
    "g = sns.clustermap(\n",
    "    sigma_subset.T, metric=\"correlation\", linewidths=2, cmap=\"GnBu\", figsize=(13, 13)\n",
    ")\n",
    "g.ax_col_dendrogram.remove()"
   ]
  },
  {
   "cell_type": "code",
   "execution_count": null,
   "metadata": {},
   "outputs": [],
   "source": [
    "plt.figure(figsize=(15, 15))\n",
    "sns.heatmap(antisigma_orthogonality_mean, annot=True, fmt=\".0f\")"
   ]
  },
  {
   "cell_type": "code",
   "execution_count": null,
   "metadata": {},
   "outputs": [],
   "source": [
    "antisigma_thresh = 30\n",
    "antisigma_subset = antisigma_orthogonality_mean.loc[\n",
    "    (antisigma_orthogonality_mean > antisigma_thresh).any(axis=1)\n",
    "]\n",
    "antisigma_subset = antisigma_subset.loc[\n",
    "    :, (antisigma_subset > antisigma_thresh).any(axis=0)\n",
    "]"
   ]
  },
  {
   "cell_type": "code",
   "execution_count": null,
   "metadata": {},
   "outputs": [],
   "source": [
    "g = sns.clustermap(\n",
    "    antisigma_subset.T,\n",
    "    metric=\"correlation\",\n",
    "    linewidths=2,\n",
    "    cmap=\"GnBu\",\n",
    "    figsize=(13, 13),\n",
    ")\n",
    "g.ax_col_dendrogram.remove()"
   ]
  },
  {
   "cell_type": "markdown",
   "metadata": {},
   "source": [
    "## Selected sigma factors"
   ]
  },
  {
   "cell_type": "code",
   "execution_count": null,
   "metadata": {},
   "outputs": [],
   "source": [
    "sigmas_to_antisigmas = antisigma_orthogonality_mean.idxmax(axis=0).rename(\"Antisigma\")"
   ]
  },
  {
   "cell_type": "code",
   "execution_count": null,
   "metadata": {},
   "outputs": [],
   "source": [
    "sigmas_to_antisigmas"
   ]
  },
  {
   "cell_type": "code",
   "execution_count": null,
   "metadata": {},
   "outputs": [],
   "source": [
    "selected_sigmas = [\n",
    "    \"ECF03_1198\",\n",
    "    \"ECF16_3622\",\n",
    "    \"ECF20_992\",\n",
    "    \"ECF38_1322\",\n",
    "    \"ECF27_4265\",\n",
    "    \"ECF22_4450\",\n",
    "    \"ECF11_987\",\n",
    "]"
   ]
  },
  {
   "cell_type": "code",
   "execution_count": null,
   "metadata": {},
   "outputs": [],
   "source": [
    "sigma_subset = sigma_orthogonality_mean.loc[:, selected_sigmas]\n",
    "sigma_subset = sigma_subset.loc[sigma_subset.idxmax(axis=0), :]\n",
    "sns.heatmap(sigma_subset, annot=True, fmt=\".0f\")"
   ]
  },
  {
   "cell_type": "code",
   "execution_count": null,
   "metadata": {},
   "outputs": [],
   "source": [
    "antisigma_subset = antisigma_orthogonality_mean.loc[:, selected_sigmas]\n",
    "antisigma_subset = antisigma_subset.loc[antisigma_subset.idxmax(axis=0), :]\n",
    "sns.heatmap(antisigma_subset, annot=True, fmt=\".0f\")"
   ]
  },
  {
   "cell_type": "code",
   "execution_count": null,
   "metadata": {},
   "outputs": [],
   "source": [
    "titration_subset = sigma_titration.loc[selected_sigmas, [\"Average promoter activity\"]].T\n",
    "titration_subset.index = titration_subset.index.droplevel()\n",
    "titration_subset.plot()"
   ]
  },
  {
   "cell_type": "code",
   "execution_count": null,
   "metadata": {},
   "outputs": [],
   "source": [
    "promoter_subset = sigma_titration.loc[\n",
    "    selected_sigmas, (\"Unnamed: 1_level_0\", \"Promoter\")\n",
    "]\n",
    "promoter_subset"
   ]
  },
  {
   "cell_type": "code",
   "execution_count": null,
   "metadata": {},
   "outputs": [],
   "source": [
    "assert set(promoter_subset.values) == set(sigma_subset.index.values)"
   ]
  },
  {
   "cell_type": "markdown",
   "metadata": {},
   "source": [
    "## Tradeoffs"
   ]
  },
  {
   "cell_type": "code",
   "execution_count": null,
   "metadata": {},
   "outputs": [],
   "source": [
    "sigma_max = sigma_orthogonality_mean.max(axis=0).rename(\"Sigma max\")\n",
    "antisigma_max = antisigma_orthogonality_mean.max(axis=0).rename(\"Antisigma max\")\n",
    "sigma_growth100 = sigma_growth[\n",
    "    (\"Transition phase assay (8 hr OD)\", \"Average\", \"100 µM\")\n",
    "].rename(\"Sigma growth\")\n",
    "antisigma_growth50 = antisigma_growth[\n",
    "    (\"Transition phase assay (8 hr OD)\", \"Average\", \"50 nM\")\n",
    "].rename(\"Antisigma growth\")\n",
    "antisigma_growth50 = pd.merge(\n",
    "    sigmas_to_antisigmas, antisigma_growth50, left_on=\"Antisigma\", right_index=True\n",
    ")\n",
    "sigma_activationrepression = pd.concat(\n",
    "    (sigma_max, antisigma_max, sigma_growth100, antisigma_growth50), axis=1\n",
    ")\n",
    "sigma_activationrepression[\"Min growth\"] = sigma_activationrepression[\n",
    "    [\"Sigma growth\", \"Antisigma growth\"]\n",
    "].min(axis=1)\n",
    "sigma_activationrepression[\"Selected\"] = sigma_activationrepression.index.isin(\n",
    "    selected_sigmas\n",
    ")\n",
    "sigma_activationrepression[\"Promoter\"] = sigma_titration[\n",
    "    (\"Unnamed: 1_level_0\", \"Promoter\")\n",
    "]\n",
    "sigma_subset_info = sigma_activationrepression[\n",
    "    sigma_activationrepression[\"Selected\"] == True\n",
    "]\n",
    "sigma_subset_info = sigma_subset_info.reset_index().rename({\"index\": \"Sigma\"}, axis=1)"
   ]
  },
  {
   "cell_type": "code",
   "execution_count": null,
   "metadata": {},
   "outputs": [],
   "source": [
    "hover_cols = \"all\"  # [\"index\", \"Antisigma\"]"
   ]
  },
  {
   "cell_type": "code",
   "execution_count": null,
   "metadata": {},
   "outputs": [],
   "source": [
    "sigma_activationrepression.hvplot.scatter(\n",
    "    \"Sigma growth\", \"Sigma max\", hover_cols=hover_cols\n",
    ")"
   ]
  },
  {
   "cell_type": "code",
   "execution_count": null,
   "metadata": {},
   "outputs": [],
   "source": [
    "sigma_activationrepression.hvplot.scatter(\n",
    "    \"Sigma max\",\n",
    "    \"Antisigma max\",\n",
    "    color=\"Selected\",\n",
    "    cmap=\"Category10\",\n",
    "    hover_cols=hover_cols,\n",
    ")"
   ]
  },
  {
   "cell_type": "code",
   "execution_count": null,
   "metadata": {},
   "outputs": [],
   "source": [
    "sigma_activationrepression.hvplot.scatter(\n",
    "    \"Sigma growth\",\n",
    "    \"Antisigma growth\",\n",
    "    color=\"Selected\",\n",
    "    cmap=\"Category10\",\n",
    "    hover_cols=hover_cols,\n",
    ")"
   ]
  },
  {
   "cell_type": "code",
   "execution_count": null,
   "metadata": {},
   "outputs": [],
   "source": [
    "sigma_activationrepression.hvplot.scatter(\n",
    "    \"Sigma max\", \"Antisigma max\", color=\"Sigma growth\", hover_cols=hover_cols\n",
    ")"
   ]
  },
  {
   "cell_type": "code",
   "execution_count": null,
   "metadata": {},
   "outputs": [],
   "source": [
    "sigma_activationrepression.hvplot.scatter(\n",
    "    \"Sigma max\", \"Antisigma max\", color=\"Antisigma growth\", hover_cols=hover_cols\n",
    ")"
   ]
  },
  {
   "cell_type": "code",
   "execution_count": null,
   "metadata": {},
   "outputs": [],
   "source": [
    "sigma_activationrepression.hvplot.scatter(\n",
    "    \"Sigma max\", \"Antisigma max\", color=\"Min growth\", hover_cols=hover_cols\n",
    ")"
   ]
  },
  {
   "cell_type": "code",
   "execution_count": null,
   "metadata": {},
   "outputs": [],
   "source": [
    "sigma_activationrepression"
   ]
  },
  {
   "cell_type": "code",
   "execution_count": null,
   "metadata": {},
   "outputs": [],
   "source": [
    "sigma_activationrepression.hvplot.scatter(\n",
    "    \"Sigma growth\", \"Antisigma growth\", hover_cols=hover_cols\n",
    ")"
   ]
  },
  {
   "cell_type": "markdown",
   "metadata": {},
   "source": [
    "## Checking antisigma correspondence"
   ]
  },
  {
   "cell_type": "code",
   "execution_count": null,
   "metadata": {},
   "outputs": [],
   "source": [
    "promoter_subset"
   ]
  },
  {
   "cell_type": "code",
   "execution_count": null,
   "metadata": {},
   "outputs": [],
   "source": [
    "antisigma_orthogonality_mean.loc[\"AS22_1147\"]"
   ]
  },
  {
   "cell_type": "code",
   "execution_count": null,
   "metadata": {},
   "outputs": [],
   "source": [
    "antisigma_orthogonality_mean.loc[:, \"ECF22_4450\"]"
   ]
  }
 ],
 "metadata": {
  "kernelspec": {
   "display_name": "Python 3",
   "language": "python",
   "name": "python3"
  },
  "language_info": {
   "codemirror_mode": {
    "name": "ipython",
    "version": 3
   },
   "file_extension": ".py",
   "mimetype": "text/x-python",
   "name": "python",
   "nbconvert_exporter": "python",
   "pygments_lexer": "ipython3",
   "version": "3.8.6"
  }
 },
 "nbformat": 4,
 "nbformat_minor": 4
}
