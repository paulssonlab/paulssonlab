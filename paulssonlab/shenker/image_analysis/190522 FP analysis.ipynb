{
 "cells": [
  {
   "cell_type": "code",
   "execution_count": null,
   "metadata": {},
   "outputs": [],
   "source": [
    "import numpy as np\n",
    "import pandas as pd\n",
    "import pyarrow as pa\n",
    "import pyarrow.parquet as pq\n",
    "import zarr\n",
    "import holoviews as hv\n",
    "import matplotlib.pyplot as plt\n",
    "from functools import partial\n",
    "from cytoolz import *\n",
    "import hvplot.pandas\n",
    "import scipy\n",
    "\n",
    "IDX = pd.IndexSlice"
   ]
  },
  {
   "cell_type": "code",
   "execution_count": null,
   "metadata": {},
   "outputs": [],
   "source": [
    "nd2_filename = (\n",
    "    \"/home/jqs1/scratch/190504/basilisk/190504_YFP_mScarlet_repressilators002.nd2\"\n",
    ")"
   ]
  },
  {
   "cell_type": "code",
   "execution_count": null,
   "metadata": {},
   "outputs": [],
   "source": [
    "dat = pq.read_pandas(\n",
    "    nd2_filename + \".measurements/pos176.labelwise.parquet\"\n",
    ").to_pandas()"
   ]
  },
  {
   "cell_type": "code",
   "execution_count": null,
   "metadata": {},
   "outputs": [],
   "source": [
    "dat.tail()"
   ]
  },
  {
   "cell_type": "code",
   "execution_count": null,
   "metadata": {},
   "outputs": [],
   "source": [
    "dat.loc[IDX[1, 60, :, 1], (\"YFP\", \"noerode\", \"mean\")].rename(\"h\").reset_index().hvplot(\n",
    "    \"t\", \"h\"\n",
    ") * dat.loc[IDX[1, 60, :, 1], (\"mCherry\", \"noerode\", \"mean\")].rename(\n",
    "    \"h\"\n",
    ").reset_index().hvplot(\n",
    "    \"t\", \"h\"\n",
    ")"
   ]
  },
  {
   "cell_type": "code",
   "execution_count": null,
   "metadata": {},
   "outputs": [],
   "source": [
    "dat.loc[IDX[1, 60, :, 1], (\"YFP\", \"noerode\", \"mean\")].rename(\"h\").reset_index().hvplot(\n",
    "    \"t\", \"h\"\n",
    ")"
   ]
  }
 ],
 "metadata": {
  "kernelspec": {
   "display_name": "Python 3",
   "language": "python",
   "name": "python3"
  },
  "language_info": {
   "codemirror_mode": {
    "name": "ipython",
    "version": 3
   },
   "file_extension": ".py",
   "mimetype": "text/x-python",
   "name": "python",
   "nbconvert_exporter": "python",
   "pygments_lexer": "ipython3",
   "version": "3.6.7"
  }
 },
 "nbformat": 4,
 "nbformat_minor": 2
}
