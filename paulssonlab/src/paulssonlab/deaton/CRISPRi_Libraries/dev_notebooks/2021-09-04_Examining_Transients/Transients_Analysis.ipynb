{
 "cells": [
  {
   "cell_type": "markdown",
   "id": "canadian-marble",
   "metadata": {},
   "source": [
    "## PAGA Analysis (with timeseries z-score Dataframe ready)\n",
    "\n",
    "- This is an attempt at compiling a final version of the community detection and downstream steps (i.e. the main analysis)\n",
    "\n",
    "- Later, this should be merged with all relevent upstream processing to get z-score timeseries\n",
    "\n",
    "- Try to cut down imports at that point\n",
    "\n",
    "- That final notebook should also include real (not z-score) timeseries information\n",
    "\n",
    "- Note that there are fluctuations in the illumination intensity which may be resulting in pathological behavior from the reporter\n",
    "\n",
    "- This has been normalized out in the upstream processing, but try to fix long term\n",
    "\n",
    "- Also consider a flat field correction for the final experiment"
   ]
  },
  {
   "cell_type": "code",
   "execution_count": null,
   "id": "increasing-tuning",
   "metadata": {},
   "outputs": [],
   "source": [
    "import ast\n",
    "import copy\n",
    "import random\n",
    "import warnings\n",
    "\n",
    "import anndata\n",
    "import dask\n",
    "import dask.array as da\n",
    "import dask.dataframe as dd\n",
    "import holoviews as hv\n",
    "import igraph as ig\n",
    "import leidenalg\n",
    "import matplotlib as mpl\n",
    "import matplotlib.gridspec as gridspec\n",
    "import networkx as nx\n",
    "import numpy as np\n",
    "import pandas as pd\n",
    "import pylab\n",
    "import scanpy as sc\n",
    "import scipy as sp\n",
    "import scipy.cluster.hierarchy as sch\n",
    "import scipy.sparse\n",
    "import scipy.stats\n",
    "import seaborn as sns\n",
    "import sklearn as skl\n",
    "import umap\n",
    "from igraph.drawing.text import TextDrawer\n",
    "from matplotlib import pyplot as plt\n",
    "from scanpy.plotting.palettes import default_20, vega_20_scanpy\n",
    "from sklearn.cluster import AffinityPropagation, AgglomerativeClustering\n",
    "from sklearn.linear_model import LinearRegression\n",
    "from sklearn.manifold import TSNE\n",
    "from sklearn.metrics import silhouette_score\n",
    "from sklearn.metrics.pairwise import (\n",
    "    cosine_distances,\n",
    "    euclidean_distances,\n",
    "    manhattan_distances,\n",
    ")\n",
    "from tslearn.barycenters import (\n",
    "    dtw_barycenter_averaging,\n",
    "    euclidean_barycenter,\n",
    "    softdtw_barycenter,\n",
    ")\n",
    "from tslearn.metrics import cdist_soft_dtw, cdist_soft_dtw_normalized\n",
    "from tslearn.neighbors import KNeighborsTimeSeries\n",
    "\n",
    "import paulssonlab.deaton.trenchripper.trenchripper as tr\n",
    "\n",
    "hv.extension(\"bokeh\")\n",
    "random.seed(42)\n",
    "np.random.seed(42)\n",
    "\n",
    "warnings.filterwarnings(action=\"once\", category=UserWarning)"
   ]
  },
  {
   "cell_type": "markdown",
   "id": "young-navigator",
   "metadata": {},
   "source": [
    "### Initial Data Processing\n",
    "\n",
    "Here, I am going to try and replicate (to some extant) the corrections from \"Genomewide phenotypic analysis of growth, cell morphogenesis, and cell cycle events in Escherichia coli\""
   ]
  },
  {
   "cell_type": "markdown",
   "id": "passive-singles",
   "metadata": {},
   "source": [
    "#### Start Dask"
   ]
  },
  {
   "cell_type": "code",
   "execution_count": null,
   "id": "tamil-rider",
   "metadata": {},
   "outputs": [],
   "source": [
    "headpath = (\n",
    "    \"/home/de64/scratch/de64/sync_folder/2021-06-14_lDE20_biofloat_fullrun_1/Barcodes\"\n",
    ")"
   ]
  },
  {
   "cell_type": "code",
   "execution_count": null,
   "id": "private-drill",
   "metadata": {
    "tags": []
   },
   "outputs": [],
   "source": [
    "dask_controller = tr.trcluster.dask_controller(\n",
    "    walltime=\"04:00:00\",\n",
    "    local=False,\n",
    "    n_workers=40,\n",
    "    memory=\"16GB\",\n",
    "    working_directory=headpath + \"/dask\",\n",
    ")\n",
    "dask_controller.startdask()"
   ]
  },
  {
   "cell_type": "code",
   "execution_count": null,
   "id": "solar-parade",
   "metadata": {},
   "outputs": [],
   "source": [
    "dask_controller.displaydashboard()"
   ]
  },
  {
   "cell_type": "code",
   "execution_count": null,
   "id": "collected-freedom",
   "metadata": {
    "tags": []
   },
   "outputs": [],
   "source": [
    "# dask_controller.shutdown()"
   ]
  },
  {
   "cell_type": "code",
   "execution_count": null,
   "id": "complete-immunology",
   "metadata": {
    "tags": []
   },
   "outputs": [],
   "source": [
    "gene_cluster_df_full = pd.read_pickle(\n",
    "    \"/home/de64/scratch/de64/sync_folder/2021-06-14_lDE20_biofloat_fullrun_1/2021-08-24_gene_cluster_df_no_filter.pkl\"\n",
    ")\n",
    "gene_cluster_df_full = gene_cluster_df_full.dropna(subset=[\"Gene\"])  # no control genes"
   ]
  },
  {
   "cell_type": "markdown",
   "id": "static-mumbai",
   "metadata": {},
   "source": [
    "## 1) Preprocessing"
   ]
  },
  {
   "cell_type": "code",
   "execution_count": null,
   "id": "convenient-training",
   "metadata": {},
   "outputs": [],
   "source": [
    "def parallel_norm_soft_dtw(X, chunk_size=200):\n",
    "    X_dask = da.from_array(X, chunks=(chunk_size, X.shape[1], X.shape[2]))\n",
    "    soft_dtw_arr = da.blockwise(\n",
    "        cdist_soft_dtw, \"ik\", X_dask, \"itd\", X_dask, \"ktd\", concatenate=True\n",
    "    ).compute()\n",
    "    d_ii = np.diag(soft_dtw_arr)\n",
    "    norm_soft_dtw_arr = soft_dtw_arr - (\n",
    "        0.5 * (d_ii.reshape((-1, 1)) + d_ii.reshape((1, -1)))\n",
    "    )\n",
    "    return norm_soft_dtw_arr"
   ]
  },
  {
   "cell_type": "markdown",
   "id": "successful-glance",
   "metadata": {},
   "source": [
    "### Relabel timeseries (correct this upstream later)"
   ]
  },
  {
   "cell_type": "code",
   "execution_count": null,
   "id": "opposed-detector",
   "metadata": {},
   "outputs": [],
   "source": [
    "gene_cluster_df_full = gene_cluster_df_full.rename(\n",
    "    columns={\n",
    "        \"Kernel Trace: Division: major_axis_length: Yeo-Johnson: z score\": \"Division Length Z-score\",\n",
    "        \"Kernel Trace: Mean Linear Growth Rate: Volume: Yeo-Johnson: z score\": \"Linear Growth Rate Z-score\",\n",
    "        \"Kernel Trace: Mean Exponential Growth Rate: Volume: Yeo-Johnson: z score\": \"Exponential Growth Rate Z-score\",\n",
    "        \"Kernel Trace: Mean: minor_axis_length: Yeo-Johnson: z score\": \"Width Z-score\",\n",
    "        \"Kernel Trace: Mean: mCherry Intensity: Yeo-Johnson: z score\": \"mCherry Intensity Z-score\",\n",
    "        \"Kernel Trace: Delta t: Yeo-Johnson: z score\": \"Doubling Time Z-score\",\n",
    "        \"Kernel Trace: Division: major_axis_length\": \"Division Length\",\n",
    "        \"Kernel Trace: Mean Linear Growth Rate: Volume\": \"Linear Growth Rate\",\n",
    "        \"Kernel Trace: Mean Exponential Growth Rate: Volume\": \"Exponential Growth Rate\",\n",
    "        \"Kernel Trace: Mean: minor_axis_length\": \"Width\",\n",
    "        \"Kernel Trace: Mean: mCherry Intensity\": \"mCherry Intensity\",\n",
    "        \"Kernel Trace: Delta t\": \"Doubling Time\",\n",
    "    }\n",
    ")"
   ]
  },
  {
   "cell_type": "markdown",
   "id": "portuguese-bookmark",
   "metadata": {},
   "source": [
    "### Take mean z-scores over the timeseries"
   ]
  },
  {
   "cell_type": "code",
   "execution_count": null,
   "id": "engaging-sunrise",
   "metadata": {},
   "outputs": [],
   "source": [
    "traces = [\n",
    "    \"Linear Growth Rate\",\n",
    "    \"Exponential Growth Rate\",\n",
    "    \"Division Length\",\n",
    "    \"Width\",\n",
    "    \"mCherry Intensity\",\n",
    "    \"Doubling Time\",\n",
    "]\n",
    "\n",
    "zscore_traces = [trace + \" Z-score\" for trace in traces]\n",
    "\n",
    "for trace in traces:\n",
    "    avg = gene_cluster_df_full.apply(lambda x: np.mean(x[trace]), axis=1)\n",
    "    gene_cluster_df_full[trace + \": Mean\"] = avg\n",
    "\n",
    "for zscore_trace in zscore_traces:\n",
    "    avg_zscore = gene_cluster_df_full.apply(lambda x: np.mean(x[zscore_trace]), axis=1)\n",
    "    gene_cluster_df_full[zscore_trace + \": Mean\"] = avg_zscore"
   ]
  },
  {
   "cell_type": "markdown",
   "id": "technical-burton",
   "metadata": {},
   "source": [
    "## 2) Transiently Elongated Cells"
   ]
  },
  {
   "cell_type": "code",
   "execution_count": null,
   "id": "super-onion",
   "metadata": {},
   "outputs": [],
   "source": [
    "from tslearn.preprocessing import TimeSeriesScalerMeanVariance, TimeSeriesScalerMinMax\n",
    "\n",
    "\n",
    "def plot_cluster_timeseries(\n",
    "    df,\n",
    "    cluster_label,\n",
    "    feature_labels,\n",
    "    displayed_labels,\n",
    "    feature_range_list,\n",
    "    agg_fn=np.mean,\n",
    "    x_ticks=[0, 10, 20],\n",
    "    cluster_subset=None,\n",
    "    figsize=(10, 10),\n",
    "    wspace=0.0,\n",
    "    hspace=0.0,\n",
    "    fontsize=14,\n",
    "    linewidth=5,\n",
    "    color_list=None,\n",
    "):\n",
    "    if cluster_subset is not None:\n",
    "        df = copy.copy(df)\n",
    "        df = df[df[cluster_label].isin(cluster_subset)]\n",
    "\n",
    "    timeseries_list = []\n",
    "    for feature_label in feature_labels:\n",
    "        agg_cluster_timeseries = (\n",
    "            df.groupby([cluster_label])\n",
    "            .apply(lambda x: agg_fn(np.array(x[feature_label].tolist()), axis=0))\n",
    "            .to_frame()\n",
    "        )\n",
    "        agg_cluster_timeseries = agg_cluster_timeseries.rename(\n",
    "            columns={0: feature_label}\n",
    "        )\n",
    "        timeseries_list.append(agg_cluster_timeseries)\n",
    "    timeseries_df = pd.concat(timeseries_list, axis=1)\n",
    "\n",
    "    fig = plt.figure(constrained_layout=True, figsize=figsize)\n",
    "    gs = fig.add_gridspec(1, len(timeseries_df), wspace=wspace)\n",
    "\n",
    "    for i in range(len(timeseries_df)):\n",
    "        mean_cluster_timeseries = timeseries_df.iloc[i]\n",
    "\n",
    "        clust_arr = np.array(timeseries_df.iloc[i].tolist())\n",
    "        if color_list == None:\n",
    "            color = \"tab:blue\"\n",
    "        else:\n",
    "            color = color_list[i]\n",
    "\n",
    "        if i == 0:\n",
    "            inner_gs = gs[0, i].subgridspec(\n",
    "                clust_arr.shape[0], 1, wspace=0, hspace=hspace\n",
    "            )\n",
    "            inner_grid_sub = inner_gs.subplots(sharex=True)\n",
    "            for c, ax in np.ndenumerate(inner_grid_sub):\n",
    "                feature_range = feature_range_list[c[0]]\n",
    "                ax.plot(clust_arr[c], linewidth=linewidth, color=color)\n",
    "                ax.set_ylim(feature_range[0], feature_range[1])\n",
    "                ax.set(xticks=[])\n",
    "                #                 ax.set(xticks=[], yticks=[0,6])\n",
    "                ax.set_ylabel(\n",
    "                    displayed_labels[c[0]],\n",
    "                    rotation=0,\n",
    "                    labelpad=30,\n",
    "                    fontsize=fontsize,\n",
    "                    ha=\"right\",\n",
    "                )  # ,orientation=\"horizontal\")\n",
    "\n",
    "            ax.set_xlabel(str(i), fontsize=fontsize)\n",
    "            ax.set(xticks=x_ticks)\n",
    "\n",
    "        else:\n",
    "            inner_gs = gs[0, i].subgridspec(\n",
    "                clust_arr.shape[0], 1, wspace=0, hspace=hspace\n",
    "            )\n",
    "            inner_grid_sub = inner_gs.subplots(sharex=True)\n",
    "            for c, ax in np.ndenumerate(inner_grid_sub):\n",
    "                feature_range = feature_range_list[c[0]]\n",
    "                ax.plot(clust_arr[c], linewidth=linewidth, color=color)\n",
    "                ax.set_ylim(feature_range[0], feature_range[1])\n",
    "                ax.set(xticks=[], yticks=[])\n",
    "\n",
    "            ax.set_xlabel(str(i), fontsize=fontsize)\n",
    "            ax.set(xticks=x_ticks)\n",
    "\n",
    "    plt.tight_layout()\n",
    "    return fig\n",
    "\n",
    "\n",
    "def get_braycenters(df, columns=None, max_iter=50, tol=0.001):\n",
    "    df = df[columns]\n",
    "    X = np.array(df.apply(lambda x: x.tolist(), axis=1).tolist())\n",
    "    X = np.swapaxes(X, 1, 2)\n",
    "\n",
    "    Y = softdtw_barycenter(X, max_iter=max_iter, tol=tol)  # T X D\n",
    "\n",
    "    return Y\n",
    "\n",
    "\n",
    "def plot_cluster_timeseries_braycenters(\n",
    "    df,\n",
    "    cluster_label,\n",
    "    feature_labels,\n",
    "    displayed_labels,\n",
    "    feature_range_list,\n",
    "    x_ticks=[0, 10, 20],\n",
    "    cluster_subset=None,\n",
    "    figsize=(10, 10),\n",
    "    wspace=0.0,\n",
    "    hspace=0.0,\n",
    "    fontsize=14,\n",
    "    linewidth=3,\n",
    "    color_list=None,\n",
    "):\n",
    "    if cluster_subset is not None:\n",
    "        df = copy.copy(df)\n",
    "        df = df[df[cluster_label].isin(cluster_subset)]\n",
    "\n",
    "    cluster_groupby = df.groupby([cluster_label])\n",
    "    agg_cluster_timeseries = cluster_groupby.apply(\n",
    "        lambda x: get_braycenters(x, columns=feature_labels)\n",
    "    )\n",
    "\n",
    "    timeseries_list = []\n",
    "    for i, feature_label in enumerate(feature_labels):\n",
    "        selected_feature_agg = agg_cluster_timeseries.apply(\n",
    "            lambda x: x[:, i]\n",
    "        ).to_frame()\n",
    "        selected_feature_agg = selected_feature_agg.rename(columns={0: feature_label})\n",
    "        timeseries_list.append(selected_feature_agg)\n",
    "\n",
    "    timeseries_df = pd.concat(timeseries_list, axis=1)\n",
    "\n",
    "    fig = plt.figure(constrained_layout=True, figsize=figsize)\n",
    "    gs = fig.add_gridspec(1, len(timeseries_df), wspace=wspace)\n",
    "\n",
    "    for i in range(len(timeseries_df)):\n",
    "        mean_cluster_timeseries = timeseries_df.iloc[i]\n",
    "\n",
    "        clust_arr = np.array(timeseries_df.iloc[i].tolist())\n",
    "        if color_list == None:\n",
    "            color = \"tab:blue\"\n",
    "        else:\n",
    "            color = color_list[i]\n",
    "\n",
    "        if i == 0:\n",
    "            inner_gs = gs[0, i].subgridspec(\n",
    "                clust_arr.shape[0], 1, wspace=0, hspace=hspace\n",
    "            )\n",
    "            inner_grid_sub = inner_gs.subplots(sharex=True)\n",
    "            for c, ax in np.ndenumerate(inner_grid_sub):\n",
    "                feature_range = feature_range_list[c[0]]\n",
    "                ax.plot(clust_arr[c], linewidth=linewidth, color=color)\n",
    "                ax.set_ylim(feature_range[0], feature_range[1])\n",
    "                ax.set(xticks=[])\n",
    "                #                 ax.set(xticks=[], yticks=[0,6])\n",
    "                ax.set_ylabel(\n",
    "                    displayed_labels[c[0]],\n",
    "                    rotation=0,\n",
    "                    labelpad=30,\n",
    "                    fontsize=fontsize,\n",
    "                    ha=\"right\",\n",
    "                )  # ,orientation=\"horizontal\")\n",
    "\n",
    "            ax.set_xlabel(str(i), fontsize=fontsize)\n",
    "            ax.set(xticks=x_ticks)\n",
    "\n",
    "        else:\n",
    "            inner_gs = gs[0, i].subgridspec(\n",
    "                clust_arr.shape[0], 1, wspace=0, hspace=hspace\n",
    "            )\n",
    "            inner_grid_sub = inner_gs.subplots(sharex=True)\n",
    "            for c, ax in np.ndenumerate(inner_grid_sub):\n",
    "                feature_range = feature_range_list[c[0]]\n",
    "                ax.plot(clust_arr[c], linewidth=linewidth, color=color)\n",
    "                ax.set_ylim(feature_range[0], feature_range[1])\n",
    "                ax.set(xticks=[], yticks=[])\n",
    "\n",
    "            ax.set_xlabel(str(i), fontsize=fontsize)\n",
    "            ax.set(xticks=x_ticks)\n",
    "\n",
    "    plt.tight_layout()\n",
    "    return fig"
   ]
  },
  {
   "cell_type": "markdown",
   "id": "lonely-mainland",
   "metadata": {
    "tags": []
   },
   "source": [
    "### Renormalization"
   ]
  },
  {
   "cell_type": "code",
   "execution_count": null,
   "id": "anticipated-sentence",
   "metadata": {},
   "outputs": [],
   "source": [
    "norm_threshold = 1\n",
    "feature_integrated_norm = gene_cluster_df_full[\"Division Length Z-score\"].apply(\n",
    "    lambda x: sp.integrate.simpson(x)\n",
    ")\n",
    "feature_max_norm = gene_cluster_df_full[\"Division Length Z-score\"].apply(\n",
    "    lambda x: np.max(x)\n",
    ")\n",
    "feature_filtered_df = gene_cluster_df_full[feature_max_norm > norm_threshold]"
   ]
  },
  {
   "cell_type": "code",
   "execution_count": null,
   "id": "graduate-trailer",
   "metadata": {},
   "outputs": [],
   "source": [
    "X_feature = np.array(feature_filtered_df[\"Division Length\"].tolist())[:, :, np.newaxis]"
   ]
  },
  {
   "cell_type": "code",
   "execution_count": null,
   "id": "characteristic-income",
   "metadata": {},
   "outputs": [],
   "source": [
    "V_max = np.max(X_feature, axis=1, keepdims=True)\n",
    "V_min = np.min(X_feature, axis=1, keepdims=True)\n",
    "V_i = X_feature[:, 0:1]\n",
    "min_max_norm = (X_feature - V_i) / (V_max - V_min)\n",
    "feature_filtered_df[\"Division Length Feature Norm\"] = [\n",
    "    item for item in min_max_norm[:, :, 0]\n",
    "]"
   ]
  },
  {
   "cell_type": "code",
   "execution_count": null,
   "id": "cloudy-causing",
   "metadata": {},
   "outputs": [],
   "source": [
    "plt.plot(min_max_norm[0])"
   ]
  },
  {
   "cell_type": "code",
   "execution_count": null,
   "id": "mature-loading",
   "metadata": {
    "tags": []
   },
   "outputs": [],
   "source": [
    "dtw_feature_norm = parallel_norm_soft_dtw(min_max_norm)"
   ]
  },
  {
   "cell_type": "markdown",
   "id": "assumed-yacht",
   "metadata": {
    "tags": []
   },
   "source": [
    "### Initialize Anndata Object"
   ]
  },
  {
   "cell_type": "code",
   "execution_count": null,
   "id": "objective-estimate",
   "metadata": {},
   "outputs": [],
   "source": [
    "an_df_feature = anndata.AnnData(\n",
    "    X=min_max_norm.reshape(min_max_norm.shape[0], -1), obs=feature_filtered_df\n",
    ")  # AnnData container to use scanpy functions with unwrapped time vector"
   ]
  },
  {
   "cell_type": "markdown",
   "id": "becoming-programming",
   "metadata": {},
   "source": [
    "### Compute KNN Graph"
   ]
  },
  {
   "cell_type": "code",
   "execution_count": null,
   "id": "boxed-hazard",
   "metadata": {},
   "outputs": [],
   "source": [
    "n_neighbors = 15\n",
    "n_pcs = 20  # This shouldn't affect anything\n",
    "\n",
    "sc.pp.neighbors(an_df_feature, n_neighbors=n_neighbors, n_pcs=n_pcs)\n",
    "knn_indices, knn_dists, forest = sc.neighbors.compute_neighbors_umap(\n",
    "    dtw_feature_norm, n_neighbors=n_neighbors, metric=\"precomputed\"\n",
    ")\n",
    "(\n",
    "    an_df_feature.uns[\"neighbors\"][\"distances\"],\n",
    "    an_df_feature.uns[\"neighbors\"][\"connectivities\"],\n",
    ") = sc.neighbors._compute_connectivities_umap(\n",
    "    knn_indices,\n",
    "    knn_dists,\n",
    "    an_df_feature.shape[0],\n",
    "    n_neighbors,  # change to neighbors you plan to use\n",
    ")\n",
    "an_df_feature.obsp[\"distances\"] = an_df_feature.uns[\"neighbors\"][\"distances\"]\n",
    "an_df_feature.obsp[\"connectivities\"] = an_df_feature.uns[\"neighbors\"][\"connectivities\"]\n",
    "an_df_feature.obsp[\"soft_dtw\"] = dtw_feature_norm"
   ]
  },
  {
   "cell_type": "markdown",
   "id": "handmade-dimension",
   "metadata": {},
   "source": [
    "### Computing Leiden, PAGA and UMAP"
   ]
  },
  {
   "cell_type": "code",
   "execution_count": null,
   "id": "overall-graduation",
   "metadata": {
    "tags": []
   },
   "outputs": [],
   "source": [
    "feature_paga_df_dict = {}\n",
    "for resolution in [0.25, 1.0, 1.5]:\n",
    "    feature_paga_df_dict[resolution] = copy.deepcopy(an_df_feature)\n",
    "    sc.tl.leiden(\n",
    "        feature_paga_df_dict[resolution], resolution=resolution, n_iterations=-1\n",
    "    )\n",
    "    sc.tl.paga(feature_paga_df_dict[resolution], groups=\"leiden\")\n",
    "    sc.pl.paga(feature_paga_df_dict[resolution], add_pos=True, show=False)\n",
    "sc.tl.umap(feature_paga_df_dict[1.0], init_pos=\"paga\", min_dist=0.25, spread=5.0)\n",
    "feature_paga_df_dict[1.0].obs[\"leiden_lowres\"] = feature_paga_df_dict[0.25].obs[\n",
    "    \"leiden\"\n",
    "]\n",
    "feature_paga_df_dict[1.0].obs[\"leiden_highres\"] = feature_paga_df_dict[1.5].obs[\n",
    "    \"leiden\"\n",
    "]\n",
    "feature_paga_df = feature_paga_df_dict[1.0]"
   ]
  },
  {
   "cell_type": "code",
   "execution_count": null,
   "id": "biological-alpha",
   "metadata": {
    "tags": []
   },
   "outputs": [],
   "source": [
    "fig = sc.pl.umap(\n",
    "    feature_paga_df,\n",
    "    color=[\"leiden_lowres\", \"leiden\", \"leiden_highres\"],\n",
    "    title=[\"Leiden Resolution=0.25\", \"Leiden Resolution=1.\", \"Leiden Resolution=1.5\"],\n",
    "    show=False,\n",
    "    legend_loc=\"on data\",\n",
    "    edges=True,\n",
    "    add_outline=False,\n",
    "    size=50,\n",
    "    return_fig=True,\n",
    "    palette=vega_20_scanpy,\n",
    ")"
   ]
  },
  {
   "cell_type": "code",
   "execution_count": null,
   "id": "usual-budapest",
   "metadata": {},
   "outputs": [],
   "source": [
    "feature_paga_df.obs[\"N Match\"] = 20.0 - feature_paga_df.obs[\"N Mismatch\"]\n",
    "feature_del_N_match_series = feature_paga_df.obs.groupby(\"TargetID\").apply(\n",
    "    lambda x: x[\"N Match\"] - np.min(x[\"N Match\"])\n",
    ")\n",
    "feature_del_N_match_series = feature_del_N_match_series.droplevel(\"TargetID\")\n",
    "feature_paga_df.obs[\"Delta N Match\"] = feature_del_N_match_series"
   ]
  },
  {
   "cell_type": "code",
   "execution_count": null,
   "id": "premium-little",
   "metadata": {},
   "outputs": [],
   "source": [
    "feature_paga_df.obs[\"Division Length Feature Norm Final Value\"] = feature_paga_df.obs[\n",
    "    \"Division Length Feature Norm\"\n",
    "].apply(lambda x: x[-1])"
   ]
  },
  {
   "cell_type": "code",
   "execution_count": null,
   "id": "adjacent-wings",
   "metadata": {},
   "outputs": [],
   "source": [
    "feature_paga_df.obs[\"Division Length Feature Norm t Half Max\"] = feature_paga_df.obs[\n",
    "    \"Division Length Feature Norm\"\n",
    "].apply(lambda x: np.where(x >= (np.max(x) / 2.0))[0][0])"
   ]
  },
  {
   "cell_type": "code",
   "execution_count": null,
   "id": "printable-manner",
   "metadata": {},
   "outputs": [],
   "source": [
    "plt.hist(feature_paga_df.obs[\"Division Length Feature Norm t Half Max\"], bins=20)\n",
    "plt.show()\n",
    "plt.hist(feature_paga_df.obs[\"Division Length Feature Norm Final Value\"], bins=20)\n",
    "plt.show()"
   ]
  },
  {
   "cell_type": "code",
   "execution_count": null,
   "id": "unavailable-observation",
   "metadata": {},
   "outputs": [],
   "source": [
    "np.unique(\n",
    "    feature_paga_df.obs[\n",
    "        (feature_paga_df.obs[\"Division Length Feature Norm t Half Max\"] >= 3.0)\n",
    "        & (feature_paga_df.obs[\"Division Length Feature Norm t Half Max\"] < 4.0)\n",
    "    ][\"Gene\"].tolist(),\n",
    "    return_counts=True,\n",
    ")"
   ]
  },
  {
   "cell_type": "code",
   "execution_count": null,
   "id": "apparent-field",
   "metadata": {},
   "outputs": [],
   "source": [
    "df_low_compensation = feature_paga_df.obs[\n",
    "    feature_paga_df.obs[\"Division Length Feature Norm Final Value\"] > 0.5\n",
    "]\n",
    "gene_groupby_mean = df_low_compensation.groupby(\"Gene\")[\n",
    "    \"Division Length Feature Norm t Half Max\"\n",
    "].apply(lambda x: np.nanmedian(x))"
   ]
  },
  {
   "cell_type": "code",
   "execution_count": null,
   "id": "transsexual-prediction",
   "metadata": {},
   "outputs": [],
   "source": [
    "plt.hist(gene_groupby_mean, bins=20)\n",
    "plt.show()"
   ]
  },
  {
   "cell_type": "code",
   "execution_count": null,
   "id": "worthy-facing",
   "metadata": {},
   "outputs": [],
   "source": [
    "gene_groupby_mean[gene_groupby_mean < 7.0]"
   ]
  },
  {
   "cell_type": "code",
   "execution_count": null,
   "id": "spanish-evidence",
   "metadata": {},
   "outputs": [],
   "source": [
    "plt.plot(\n",
    "    feature_paga_df.obs[feature_paga_df.obs[\"Gene\"] == \"tff\"][\"Division Length\"][0]\n",
    ")"
   ]
  },
  {
   "cell_type": "code",
   "execution_count": null,
   "id": "ahead-causing",
   "metadata": {},
   "outputs": [],
   "source": [
    "plt.plot(feature_paga_df.obs[feature_paga_df.obs[\"Gene\"] == \"xseB\"][\"Width\"][0])"
   ]
  },
  {
   "cell_type": "code",
   "execution_count": null,
   "id": "piano-immigration",
   "metadata": {},
   "outputs": [],
   "source": [
    "feature_paga_df.obs[feature_paga_df.obs[\"Gene\"] == \"xseB\"][\"Division Length\"][0]"
   ]
  },
  {
   "cell_type": "code",
   "execution_count": null,
   "id": "overall-legend",
   "metadata": {},
   "outputs": [],
   "source": [
    "fig = sc.pl.umap(\n",
    "    feature_paga_df,\n",
    "    color=[\n",
    "        \"Division Length Feature Norm Final Value\",\n",
    "        \"Division Length Feature Norm t Half Max\",\n",
    "    ],\n",
    "    show=False,\n",
    "    legend_loc=\"on data\",\n",
    "    add_outline=False,\n",
    "    size=50,\n",
    "    return_fig=True,\n",
    "    cmap=\"RdBu_r\",\n",
    "    wspace=0.25,\n",
    ")"
   ]
  },
  {
   "cell_type": "code",
   "execution_count": null,
   "id": "junior-battlefield",
   "metadata": {},
   "outputs": [],
   "source": [
    "fig = plot_cluster_timeseries_braycenters(\n",
    "    feature_paga_df.obs,\n",
    "    \"leiden\",\n",
    "    [\"Division Length Feature Norm\", \"Division Length Feature Norm\"],\n",
    "    [\"Division Length Feature Norm\", \"Division Length Feature Norm\"],\n",
    "    [(-1, 1), (-1, 1)],\n",
    "    figsize=(15, 6),\n",
    "    wspace=0.25,\n",
    "    hspace=0.25,\n",
    "    color_list=vega_20_scanpy,\n",
    ")"
   ]
  },
  {
   "cell_type": "markdown",
   "id": "afraid-member",
   "metadata": {},
   "source": [
    "### GO Term Enrichment"
   ]
  },
  {
   "cell_type": "code",
   "execution_count": null,
   "id": "fewer-limit",
   "metadata": {},
   "outputs": [],
   "source": [
    "import goatools\n",
    "import goatools.base\n",
    "from goatools.anno.gaf_reader import GafReader\n",
    "from goatools.base import download_go_basic_obo\n",
    "from goatools.go_enrichment import GOEnrichmentStudy\n",
    "from goatools.goea.go_enrichment_ns import GOEnrichmentStudyNS\n",
    "from goatools.obo_parser import GODag\n",
    "from goatools.semantic import TermCounts, get_info_content, semantic_similarity\n",
    "\n",
    "\n",
    "def search_go(ns2assoc, obodag, inv_gene_to_id, go_term):\n",
    "    namespace_abbv = {\n",
    "        \"biological_process\": \"BP\",\n",
    "        \"molecular_function\": \"MF\",\n",
    "        \"cellular_component\": \"CC\",\n",
    "    }\n",
    "\n",
    "    print(\"Searching for \" + str(obodag[go_term].name))\n",
    "    namespace = namespace_abbv[obodag[go_term].namespace]\n",
    "    child_goterms = list(obodag[go_term].get_all_children())\n",
    "    gene_list = [\n",
    "        inv_gene_to_id[key]\n",
    "        for key, val in ns2assoc[namespace].items()\n",
    "        if go_term in val\n",
    "    ]\n",
    "    for child_goterm in child_goterms:\n",
    "        gene_list += [\n",
    "            inv_gene_to_id[key]\n",
    "            for key, val in ns2assoc[namespace].items()\n",
    "            if child_goterm in val\n",
    "        ]\n",
    "    gene_list = sorted(list(set(gene_list)))\n",
    "    return gene_list\n",
    "\n",
    "\n",
    "def get_enriched_GO_terms(\n",
    "    background_gene_list, gene_list, obodag, objanno, ns2assoc, pval=0.05, GO_type=\"BP\"\n",
    "):\n",
    "    gene_to_id = {assoc.DB_Symbol: assoc.DB_ID for assoc in objanno.associations}\n",
    "    synonym_dict = {\n",
    "        synonym: assoc.DB_ID\n",
    "        for assoc in objanno.associations\n",
    "        for synonym in assoc.DB_Synonym\n",
    "    }\n",
    "    gene_to_id.update(synonym_dict)\n",
    "\n",
    "    # background gene set\n",
    "\n",
    "    all_genes_uniprot = [\n",
    "        gene_to_id[item] for item in background_gene_list if item in gene_to_id.keys()\n",
    "    ]\n",
    "    selected_genes_uniprot = [\n",
    "        gene_to_id[item] for item in gene_list if item in gene_to_id.keys()\n",
    "    ]\n",
    "\n",
    "    print(len(all_genes_uniprot))\n",
    "    print(len(selected_genes_uniprot))\n",
    "\n",
    "    goeaobj = GOEnrichmentStudy(\n",
    "        all_genes_uniprot,  # List of mouse protein-coding genes\n",
    "        ns2assoc[GO_type],  # geneid/GO associations\n",
    "        obodag,  # Ontologies\n",
    "        propagate_counts=True,\n",
    "        alpha=pval,  # default significance cut-off\n",
    "        methods=[\"fdr_bh\"],\n",
    "    )\n",
    "    # defult multipletest correction method\n",
    "\n",
    "    goea_results_all = goeaobj.run_study(selected_genes_uniprot, prt=None)\n",
    "    goea_quiet_sig = [r for r in goea_results_all if r.p_fdr_bh < pval]\n",
    "    goea_quiet_enriched = [r for r in goea_quiet_sig if r.enrichment == \"e\"]\n",
    "    return goea_quiet_enriched\n",
    "\n",
    "\n",
    "def pick_exemplar(go1, go2, termcounts, obodag, info_thr, pval_factor=2.0):\n",
    "    info_1_low = get_info_content(go1.GO, termcounts) < info_thr\n",
    "    info_2_low = get_info_content(go2.GO, termcounts) < info_thr\n",
    "    if info_1_low and not info_2_low:\n",
    "        return go2\n",
    "    elif info_2_low and not info_1_low:\n",
    "        return go1\n",
    "    elif info_2_low and info_1_low:\n",
    "        return go1\n",
    "\n",
    "    pval_ratio = go1.p_fdr_bh / go2.p_fdr_bh\n",
    "\n",
    "    if pval_ratio > pval_factor:\n",
    "        return go2\n",
    "    elif pval_ratio < (1.0 / pval_factor):\n",
    "        return go1\n",
    "\n",
    "    go1_parents = list(obodag[go1.GO].get_all_parents())\n",
    "    go2_parents = list(obodag[go2.GO].get_all_parents())\n",
    "\n",
    "    if go2.GO in go1_parents:\n",
    "        return go2\n",
    "\n",
    "    elif go1.GO in go2_parents:\n",
    "        return go1\n",
    "\n",
    "    return go1\n",
    "\n",
    "\n",
    "def get_filtered_go_terms(\n",
    "    obodag, objanno, goea_list, sim_thr=0.05, info_thr=1.0, GO_type=\"BP\"\n",
    "):\n",
    "    termcounts = TermCounts(obodag, objanno.get_ns2assc()[GO_type])\n",
    "\n",
    "    go_term_list = [item.GO for item in goea_list]\n",
    "    sim_arr = np.zeros((len(go_term_list), len(go_term_list)))\n",
    "    for i in range(len(go_term_list)):\n",
    "        for j in range(len(go_term_list)):\n",
    "            sim_arr[i, j] = semantic_similarity(\n",
    "                go_term_list[i], go_term_list[j], obodag\n",
    "            )\n",
    "    np.fill_diagonal(sim_arr, 0.0)\n",
    "\n",
    "    working_group_idx = 0\n",
    "    grouped_terms = {}\n",
    "    group_exemplars = {}\n",
    "    go_term_indices = list(range(len(go_term_list)))\n",
    "\n",
    "    while len(go_term_indices) > 0:\n",
    "        i = go_term_indices[0]\n",
    "        most_sim_arg = np.argmax(sim_arr[i])\n",
    "        sim_score = sim_arr[i, most_sim_arg]\n",
    "        if sim_score > sim_thr:\n",
    "            if len(grouped_terms) > 0:\n",
    "                in_other_group_keys = [\n",
    "                    key for key, val in grouped_terms.items() if most_sim_arg in val\n",
    "                ]\n",
    "                if len(in_other_group_keys) == 1:\n",
    "                    other_group_idx = in_other_group_keys[0]\n",
    "                    grouped_terms[other_group_idx] = grouped_terms[other_group_idx] + [\n",
    "                        i\n",
    "                    ]\n",
    "                    group_exemplars[other_group_idx] = pick_exemplar(\n",
    "                        group_exemplars[other_group_idx],\n",
    "                        goea_list[i],\n",
    "                        termcounts,\n",
    "                        obodag,\n",
    "                        info_thr,\n",
    "                    )\n",
    "                else:\n",
    "                    grouped_terms[working_group_idx] = [i, most_sim_arg]\n",
    "                    group_exemplars[working_group_idx] = pick_exemplar(\n",
    "                        goea_list[i],\n",
    "                        goea_list[most_sim_arg],\n",
    "                        termcounts,\n",
    "                        obodag,\n",
    "                        info_thr,\n",
    "                    )\n",
    "                    working_group_idx += 1\n",
    "                    go_term_indices.remove(most_sim_arg)\n",
    "            else:\n",
    "                grouped_terms[working_group_idx] = [i, most_sim_arg]\n",
    "                group_exemplars[working_group_idx] = pick_exemplar(\n",
    "                    goea_list[i], goea_list[most_sim_arg], termcounts, obodag, info_thr\n",
    "                )\n",
    "                working_group_idx += 1\n",
    "                go_term_indices.remove(most_sim_arg)\n",
    "        go_term_indices.remove(i)\n",
    "\n",
    "    group_exemplars = list(group_exemplars.values())\n",
    "\n",
    "    return group_exemplars\n",
    "\n",
    "\n",
    "def get_GO_assign_dict(selected_goea, cluster_genes_uniprot):\n",
    "    all_study_items = copy.copy(cluster_genes_uniprot)\n",
    "    depth_list = sorted(set([item.depth for item in selected_goea]))[::-1]\n",
    "    assign_dict = {}\n",
    "    for depth in depth_list:\n",
    "        go_terms_at_level = [item for item in selected_goea if item.depth == depth]\n",
    "        for go_term in go_terms_at_level:\n",
    "            study_item_list = list(go_term.study_items)\n",
    "            for study_item in study_item_list:\n",
    "                if study_item in all_study_items:\n",
    "                    assign_dict[study_item] = go_term.name\n",
    "                    all_study_items.remove(study_item)\n",
    "\n",
    "    for remaining_item in all_study_items:\n",
    "        assign_dict[remaining_item] = \"Unassigned\"\n",
    "\n",
    "    return assign_dict"
   ]
  },
  {
   "cell_type": "code",
   "execution_count": null,
   "id": "official-switch",
   "metadata": {},
   "outputs": [],
   "source": [
    "# Get ontologies\n",
    "obo_fname = download_go_basic_obo()\n",
    "\n",
    "# Get ecoli association file (ecocyc)\n",
    "gaf_handle = goatools.base.http_get(\n",
    "    \"http://current.geneontology.org/annotations/ecocyc.gaf.gz\", fout=\"./ecocyc.gaf.gz\"\n",
    ")\n",
    "gaf_fname = goatools.base.gunzip(\"./ecocyc.gaf.gz\")\n",
    "\n",
    "## Getting ontologies and other nonesense\n",
    "\n",
    "obodag = GODag(obo_fname)\n",
    "objanno = GafReader(gaf_fname)\n",
    "ns2assoc = objanno.get_ns2assc()\n",
    "\n",
    "gene_to_id = {assoc.DB_Symbol: assoc.DB_ID for assoc in objanno.associations}\n",
    "inv_gene_to_id = {assoc.DB_ID: assoc.DB_Symbol for assoc in objanno.associations}\n",
    "synonym_dict = {\n",
    "    synonym: assoc.DB_ID\n",
    "    for assoc in objanno.associations\n",
    "    for synonym in assoc.DB_Synonym\n",
    "}\n",
    "gene_to_id.update(synonym_dict)"
   ]
  },
  {
   "cell_type": "code",
   "execution_count": null,
   "id": "micro-salon",
   "metadata": {},
   "outputs": [],
   "source": [
    "# background gene set\n",
    "\n",
    "all_genes = feature_paga_df.obs[\"Gene\"].unique().tolist()\n",
    "\n",
    "clust_id = str(17)\n",
    "cluster_genes = sorted(\n",
    "    feature_paga_df.obs[feature_paga_df.obs[\"leiden_highres\"] == clust_id][\"Gene\"]\n",
    "    .unique()\n",
    "    .tolist()\n",
    ")\n",
    "\n",
    "goea_quiet_enriched = get_enriched_GO_terms(\n",
    "    all_genes, cluster_genes, obodag, objanno, ns2assoc, pval=0.05, GO_type=\"BP\"\n",
    ")\n",
    "filtered_go_terms = get_filtered_go_terms(\n",
    "    obodag, objanno, goea_quiet_enriched, sim_thr=0.3, info_thr=1.0\n",
    ")\n",
    "go_term_dict = {\n",
    "    go_term.name: go_term.ratio_in_study[0] for go_term in filtered_go_terms\n",
    "}\n",
    "# ttl_terms = np.sum(list(go_term_dict.values()))\n",
    "# go_term_dict = {key:val/ttl_terms for key,val in go_term_dict.items()}\n",
    "\n",
    "print()\n",
    "for key, value in go_term_dict.items():\n",
    "    print(key, \" : \", value)\n",
    "print()\n",
    "for i in range(0, len(cluster_genes), 5):\n",
    "    print(cluster_genes[i : i + 5])"
   ]
  },
  {
   "cell_type": "code",
   "execution_count": null,
   "id": "decimal-surgeon",
   "metadata": {
    "tags": []
   },
   "outputs": [],
   "source": [
    "labels = [zscore_trace + \": Mean\" for zscore_trace in zscore_traces]\n",
    "\n",
    "fig = sc.pl.umap(\n",
    "    feature_paga_df,\n",
    "    color=labels,\n",
    "    show=False,\n",
    "    legend_loc=\"on data\",\n",
    "    add_outline=False,\n",
    "    size=50,\n",
    "    return_fig=True,\n",
    "    vcenter=0.0,\n",
    "    cmap=\"RdBu_r\",\n",
    "    wspace=0.25,\n",
    ")"
   ]
  },
  {
   "cell_type": "code",
   "execution_count": null,
   "id": "loving-france",
   "metadata": {},
   "outputs": [],
   "source": [
    "fig = plot_cluster_timeseries_braycenters(\n",
    "    feature_paga_df.obs,\n",
    "    \"leiden\",\n",
    "    [\"Division Length Feature Norm\", \"Division Length Feature Norm\"],\n",
    "    [\"Division Length Feature Norm\", \"Division Length Feature Norm\"],\n",
    "    [(0, 1), (0, 1)],\n",
    "    figsize=(15, 6),\n",
    "    wspace=0.25,\n",
    "    hspace=0.25,\n",
    "    color_list=vega_20_scanpy,\n",
    ")"
   ]
  },
  {
   "cell_type": "markdown",
   "id": "stainless-diabetes",
   "metadata": {},
   "source": [
    "### Filter for strong effects by taking max over integrated zscores"
   ]
  },
  {
   "cell_type": "code",
   "execution_count": null,
   "id": "running-bailey",
   "metadata": {},
   "outputs": [],
   "source": [
    "min_feature_thr = 20\n",
    "\n",
    "gene_cluster_df_filtered = gene_cluster_df_full[\n",
    "    gene_cluster_df_full[\"Integrated Feature Max\"] > min_feature_thr\n",
    "]"
   ]
  },
  {
   "cell_type": "code",
   "execution_count": null,
   "id": "pleased-winter",
   "metadata": {},
   "outputs": [],
   "source": [
    "plt.hist(gene_cluster_df_full[\"Integrated Feature Max\"], bins=50)\n",
    "plt.show()"
   ]
  },
  {
   "cell_type": "markdown",
   "id": "variable-allergy",
   "metadata": {},
   "source": [
    "### soft-DTW Calculation"
   ]
  },
  {
   "cell_type": "code",
   "execution_count": null,
   "id": "affecting-butterfly",
   "metadata": {
    "tags": []
   },
   "outputs": [],
   "source": [
    "X = np.array(gene_cluster_df_filtered[\"Feature Vector\"].tolist())\n",
    "X = np.swapaxes(X, 1, 2)\n",
    "norm_soft_dtw_arr = parallel_norm_soft_dtw(X)"
   ]
  },
  {
   "cell_type": "markdown",
   "id": "painted-sampling",
   "metadata": {},
   "source": [
    "### Initialize Anndata Object"
   ]
  },
  {
   "cell_type": "code",
   "execution_count": null,
   "id": "sunset-strand",
   "metadata": {},
   "outputs": [],
   "source": [
    "an_df = anndata.AnnData(\n",
    "    X=X.reshape(X.shape[0], -1), obs=gene_cluster_df_filtered\n",
    ")  # AnnData container to use scanpy functions with unwrapped time vector"
   ]
  },
  {
   "cell_type": "markdown",
   "id": "ongoing-suicide",
   "metadata": {},
   "source": [
    "### Compute KNN Graph"
   ]
  },
  {
   "cell_type": "code",
   "execution_count": null,
   "id": "mediterranean-twenty",
   "metadata": {
    "tags": []
   },
   "outputs": [],
   "source": [
    "n_neighbors = 15\n",
    "n_pcs = 20  # This shouldn't affect anything\n",
    "\n",
    "sc.pp.neighbors(an_df, n_neighbors=n_neighbors, n_pcs=n_pcs)\n",
    "knn_indices, knn_dists, forest = sc.neighbors.compute_neighbors_umap(\n",
    "    norm_soft_dtw_arr, n_neighbors=n_neighbors, metric=\"precomputed\"\n",
    ")\n",
    "(\n",
    "    an_df.uns[\"neighbors\"][\"distances\"],\n",
    "    an_df.uns[\"neighbors\"][\"connectivities\"],\n",
    ") = sc.neighbors._compute_connectivities_umap(\n",
    "    knn_indices,\n",
    "    knn_dists,\n",
    "    an_df.shape[0],\n",
    "    n_neighbors,  # change to neighbors you plan to use\n",
    ")\n",
    "an_df.obsp[\"distances\"] = an_df.uns[\"neighbors\"][\"distances\"]\n",
    "an_df.obsp[\"connectivities\"] = an_df.uns[\"neighbors\"][\"connectivities\"]\n",
    "an_df.obsp[\"soft_dtw\"] = norm_soft_dtw_arr"
   ]
  },
  {
   "cell_type": "markdown",
   "id": "speaking-israel",
   "metadata": {},
   "source": [
    "### Computing Leiden, PAGA and UMAP\n",
    "\n",
    "Note that the lower resolution UMAP was set to the same UMAP positions as the higher resolution UMAP"
   ]
  },
  {
   "cell_type": "code",
   "execution_count": null,
   "id": "automotive-series",
   "metadata": {
    "tags": []
   },
   "outputs": [],
   "source": [
    "paga_df_dict = {}\n",
    "for resolution in [0.25, 1.0, 1.5]:\n",
    "    paga_df_dict[resolution] = copy.deepcopy(an_df)\n",
    "    sc.tl.leiden(paga_df_dict[resolution], resolution=resolution, n_iterations=-1)\n",
    "    sc.tl.paga(paga_df_dict[resolution], groups=\"leiden\")\n",
    "    sc.pl.paga(paga_df_dict[resolution], add_pos=True, show=False)\n",
    "sc.tl.umap(paga_df_dict[1.0], init_pos=\"paga\", min_dist=0.25, spread=5.0)\n",
    "paga_df_dict[1.0].obs[\"leiden_lowres\"] = paga_df_dict[0.25].obs[\"leiden\"]\n",
    "paga_df_dict[1.0].obs[\"leiden_highres\"] = paga_df_dict[1.5].obs[\"leiden\"]\n",
    "paga_df = paga_df_dict[1.0]"
   ]
  },
  {
   "cell_type": "code",
   "execution_count": null,
   "id": "alleged-church",
   "metadata": {},
   "outputs": [],
   "source": [
    "fig = sc.pl.umap(\n",
    "    paga_df,\n",
    "    color=[\"leiden_lowres\", \"leiden\", \"leiden_highres\"],\n",
    "    title=[\"Leiden Resolution=0.25\", \"Leiden Resolution=1.\", \"Leiden Resolution=1.5\"],\n",
    "    show=False,\n",
    "    legend_loc=\"on data\",\n",
    "    edges=True,\n",
    "    add_outline=False,\n",
    "    size=50,\n",
    "    return_fig=True,\n",
    "    palette=vega_20_scanpy,\n",
    ")\n",
    "# fig.savefig(\"./1_Global_Analysis/Global_PAGA.png\",dpi=150)"
   ]
  },
  {
   "cell_type": "markdown",
   "id": "occupied-sharing",
   "metadata": {},
   "source": [
    "### Plotting Mean Z-scores, Euclidean Norm, and N Match"
   ]
  },
  {
   "cell_type": "code",
   "execution_count": null,
   "id": "conceptual-divorce",
   "metadata": {
    "tags": []
   },
   "outputs": [],
   "source": [
    "paga_df.obs[\"N Match\"] = 20.0 - paga_df.obs[\"N Mismatch\"]\n",
    "del_N_match_series = paga_df.obs.groupby(\"TargetID\").apply(\n",
    "    lambda x: x[\"N Match\"] - np.min(x[\"N Match\"])\n",
    ")\n",
    "del_N_match_series = del_N_match_series.droplevel(\"TargetID\")\n",
    "paga_df.obs[\"Delta N Match\"] = del_N_match_series"
   ]
  },
  {
   "cell_type": "code",
   "execution_count": null,
   "id": "graphic-happening",
   "metadata": {
    "tags": []
   },
   "outputs": [],
   "source": [
    "labels = [zscore_trace + \": Mean\" for zscore_trace in zscore_traces]\n",
    "\n",
    "fig = sc.pl.umap(\n",
    "    paga_df,\n",
    "    color=labels,\n",
    "    show=False,\n",
    "    legend_loc=\"on data\",\n",
    "    add_outline=False,\n",
    "    size=50,\n",
    "    return_fig=True,\n",
    "    vcenter=0.0,\n",
    "    cmap=\"RdBu_r\",\n",
    "    wspace=0.25,\n",
    ")\n",
    "fig.savefig(\"./1_Global_Analysis/Mean_zscores.png\", dpi=300)"
   ]
  },
  {
   "cell_type": "code",
   "execution_count": null,
   "id": "elementary-courage",
   "metadata": {},
   "outputs": [],
   "source": [
    "labels = [trace + \": Mean\" for trace in traces]\n",
    "\n",
    "fig = sc.pl.umap(\n",
    "    paga_df,\n",
    "    color=labels,\n",
    "    show=False,\n",
    "    legend_loc=\"on data\",\n",
    "    add_outline=False,\n",
    "    size=50,\n",
    "    return_fig=True,\n",
    "    cmap=\"RdBu_r\",\n",
    ")\n",
    "fig.savefig(\"./1_Global_Analysis/Mean.png\", dpi=300)"
   ]
  },
  {
   "cell_type": "code",
   "execution_count": null,
   "id": "laughing-cycle",
   "metadata": {},
   "outputs": [],
   "source": [
    "labels = [\"Delta N Match\", \"Integrated Euclidean Norm\"]\n",
    "\n",
    "fig = sc.pl.umap(\n",
    "    paga_df,\n",
    "    color=labels,\n",
    "    show=False,\n",
    "    legend_loc=\"on data\",\n",
    "    add_outline=False,\n",
    "    size=50,\n",
    "    return_fig=True,\n",
    "    vcenter=0.0,\n",
    "    cmap=\"RdBu_r\",\n",
    ")\n",
    "fig.savefig(\"./1_Global_Analysis/Match_and_Euc_Norm.png\", dpi=300)"
   ]
  },
  {
   "cell_type": "markdown",
   "id": "cosmetic-heaven",
   "metadata": {},
   "source": [
    "### Highlight Genes of Interest (by name)"
   ]
  },
  {
   "cell_type": "code",
   "execution_count": null,
   "id": "boring-relaxation",
   "metadata": {},
   "outputs": [],
   "source": [
    "def selection_fn(item, gene_name):\n",
    "    is_gene = item[\"Gene\"] == gene_name\n",
    "    if is_gene:\n",
    "        return item[\"TargetID\"]\n",
    "    else:\n",
    "        return 0\n",
    "\n",
    "\n",
    "def highlight_gene_group(an_df, selection_list):\n",
    "    highlight_genes_df = copy.deepcopy(an_df)\n",
    "\n",
    "    selection_list = sorted(\n",
    "        list(\n",
    "            set(highlight_genes_df.obs[\"Gene\"].unique().tolist()) & set(selection_list)\n",
    "        )\n",
    "    )\n",
    "\n",
    "    for i, selected_gene in enumerate(selection_list):\n",
    "        selected_series = (highlight_genes_df.obs[\"Gene\"] == selected_gene).astype(\n",
    "            \"category\"\n",
    "        )\n",
    "        selected_series = selected_series.cat.reorder_categories([True, False])\n",
    "        highlight_genes_df.obs[\"Selected Genes: \" + str(i)] = selected_series\n",
    "\n",
    "    selected_series = (highlight_genes_df.obs[\"Gene\"].isin(selection_list)).astype(\n",
    "        \"category\"\n",
    "    )\n",
    "    selected_series = selected_series.cat.reorder_categories([True, False])\n",
    "    highlight_genes_df.obs[\"All Genes\"] = selected_series\n",
    "\n",
    "    # selected_series = (paga_df.obs[\"Gene\"]==\"ftsZ\").astype(float)\n",
    "    # selected_series[selected_series==0.] = np.NaN\n",
    "    # paga_df.obs[\"Selected Genes\"] = selected_series\n",
    "\n",
    "    fig = sc.pl.umap(\n",
    "        highlight_genes_df,\n",
    "        title=selection_list + [\"All Genes\"],\n",
    "        color=[\"Selected Genes: \" + str(i) for i in range(len(selection_list))]\n",
    "        + [\"All Genes\"],\n",
    "        groups=[True],\n",
    "        show=False,\n",
    "        legend_loc=\"right margin\",\n",
    "        add_outline=False,\n",
    "        size=50,\n",
    "        return_fig=True,\n",
    "        palette={True: \"red\", False: \"lightgrey\"},\n",
    "    )  # palette ={}\n",
    "\n",
    "    return fig"
   ]
  },
  {
   "cell_type": "code",
   "execution_count": null,
   "id": "complete-chapel",
   "metadata": {},
   "outputs": [],
   "source": [
    "fts_genes = (\n",
    "    paga_df.obs[\"Gene\"][paga_df.obs[\"Gene\"].apply(lambda x: \"fts\" in x)]\n",
    "    .unique()\n",
    "    .tolist()\n",
    ")\n",
    "fig = highlight_gene_group(paga_df, fts_genes)\n",
    "fig.savefig(\"./1_Global_Analysis/Highlight_Genes/fts_genes.png\", dpi=150)"
   ]
  },
  {
   "cell_type": "code",
   "execution_count": null,
   "id": "destroyed-liability",
   "metadata": {},
   "outputs": [],
   "source": [
    "rps_genes = (\n",
    "    paga_df.obs[\"Gene\"][paga_df.obs[\"Gene\"].apply(lambda x: \"rps\" in x)]\n",
    "    .unique()\n",
    "    .tolist()\n",
    ")\n",
    "fig = highlight_gene_group(paga_df, rps_genes)\n",
    "fig.savefig(\"./1_Global_Analysis/Highlight_Genes/rps_genes.png\", dpi=150)"
   ]
  },
  {
   "cell_type": "code",
   "execution_count": null,
   "id": "material-tower",
   "metadata": {},
   "outputs": [],
   "source": [
    "rpm_genes = (\n",
    "    paga_df.obs[\"Gene\"][paga_df.obs[\"Gene\"].apply(lambda x: \"rpm\" in x)]\n",
    "    .unique()\n",
    "    .tolist()\n",
    ")\n",
    "fig = highlight_gene_group(paga_df, rpm_genes)\n",
    "fig.savefig(\"./1_Global_Analysis/Highlight_Genes/rpm_genes.png\", dpi=150)"
   ]
  },
  {
   "cell_type": "code",
   "execution_count": null,
   "id": "intelligent-healthcare",
   "metadata": {},
   "outputs": [],
   "source": [
    "rpl_genes = (\n",
    "    paga_df.obs[\"Gene\"][paga_df.obs[\"Gene\"].apply(lambda x: \"rpl\" in x)]\n",
    "    .unique()\n",
    "    .tolist()\n",
    ")\n",
    "fig = highlight_gene_group(paga_df, rpl_genes)\n",
    "fig.savefig(\"./1_Global_Analysis/Highlight_Genes/rpl_genes.png\", dpi=150)"
   ]
  },
  {
   "cell_type": "code",
   "execution_count": null,
   "id": "straight-paintball",
   "metadata": {},
   "outputs": [],
   "source": [
    "sec_and_bam_genes = (\n",
    "    paga_df.obs[\"Gene\"][\n",
    "        paga_df.obs[\"Gene\"].apply(\n",
    "            lambda x: (\"sec\" in x) or (\"bam\" in x) or (\"yidC\" in x) or (\"yajC\" in x)\n",
    "        )\n",
    "    ]\n",
    "    .unique()\n",
    "    .tolist()\n",
    ")\n",
    "fig = highlight_gene_group(paga_df, sec_and_bam_genes)\n",
    "fig.savefig(\"./1_Global_Analysis/Highlight_Genes/sec_and_bam_genes.png\", dpi=150)"
   ]
  },
  {
   "cell_type": "code",
   "execution_count": null,
   "id": "descending-world",
   "metadata": {},
   "outputs": [],
   "source": [
    "rr_genes = (\n",
    "    paga_df.obs[\"Gene\"][\n",
    "        paga_df.obs[\"Gene\"].apply(\n",
    "            lambda x: (\"rrf\" in x) or (\"rrs\" in x) or (\"rrl\" in x)\n",
    "        )\n",
    "    ]\n",
    "    .unique()\n",
    "    .tolist()\n",
    ")\n",
    "fig = highlight_gene_group(paga_df, rr_genes)\n",
    "fig.savefig(\"./1_Global_Analysis/Highlight_Genes/rr_genes.png\", dpi=150)"
   ]
  },
  {
   "cell_type": "code",
   "execution_count": null,
   "id": "rough-noise",
   "metadata": {},
   "outputs": [],
   "source": [
    "dna_genes = (\n",
    "    paga_df.obs[\"Gene\"][paga_df.obs[\"Gene\"].apply(lambda x: (\"dna\" in x))]\n",
    "    .unique()\n",
    "    .tolist()\n",
    ")\n",
    "fig = highlight_gene_group(paga_df, dna_genes)\n",
    "fig.savefig(\"./1_Global_Analysis/Highlight_Genes/dna_genes.png\", dpi=150)"
   ]
  },
  {
   "cell_type": "code",
   "execution_count": null,
   "id": "neural-wayne",
   "metadata": {},
   "outputs": [],
   "source": [
    "gyr_genes = (\n",
    "    paga_df.obs[\"Gene\"][paga_df.obs[\"Gene\"].apply(lambda x: (\"gyr\" in x))]\n",
    "    .unique()\n",
    "    .tolist()\n",
    ")\n",
    "fig = highlight_gene_group(paga_df, gyr_genes)\n",
    "fig.savefig(\"./1_Global_Analysis/Highlight_Genes/gyr_genes.png\", dpi=150)"
   ]
  },
  {
   "cell_type": "code",
   "execution_count": null,
   "id": "prescription-chester",
   "metadata": {},
   "outputs": [],
   "source": [
    "hol_genes = (\n",
    "    paga_df.obs[\"Gene\"][paga_df.obs[\"Gene\"].apply(lambda x: (\"hol\" in x))]\n",
    "    .unique()\n",
    "    .tolist()\n",
    ")\n",
    "fig = highlight_gene_group(paga_df, hol_genes)\n",
    "fig.savefig(\"./1_Global_Analysis/Highlight_Genes/hol_genes.png\", dpi=150)"
   ]
  },
  {
   "cell_type": "code",
   "execution_count": null,
   "id": "appropriate-projection",
   "metadata": {},
   "outputs": [],
   "source": [
    "rpo_genes = (\n",
    "    paga_df.obs[\"Gene\"][paga_df.obs[\"Gene\"].apply(lambda x: (\"rpo\" in x))]\n",
    "    .unique()\n",
    "    .tolist()\n",
    ")\n",
    "fig = highlight_gene_group(paga_df, rpo_genes)\n",
    "fig.savefig(\"./1_Global_Analysis/Highlight_Genes/rpo_genes.png\", dpi=150)"
   ]
  },
  {
   "cell_type": "code",
   "execution_count": null,
   "id": "included-spectrum",
   "metadata": {
    "tags": []
   },
   "outputs": [],
   "source": [
    "all_genes = paga_df.obs[\"Gene\"].unique().tolist()\n",
    "step = 75\n",
    "for idx, i in enumerate(list(range(0, len(all_genes), step))):\n",
    "    all_genes_sub = all_genes[i : i + step]\n",
    "    fig = highlight_gene_group(paga_df, all_genes_sub)\n",
    "    fig.savefig(\n",
    "        \"./1_Global_Analysis/Highlight_Genes/All_Genes/all_genes_\" + str(idx) + \".png\",\n",
    "        dpi=75,\n",
    "    )"
   ]
  },
  {
   "cell_type": "markdown",
   "id": "enclosed-explorer",
   "metadata": {},
   "source": [
    "### Highlight Genes of Interest (by GO)"
   ]
  },
  {
   "cell_type": "code",
   "execution_count": null,
   "id": "informative-craps",
   "metadata": {},
   "outputs": [],
   "source": [
    "import goatools\n",
    "import goatools.base\n",
    "from goatools.anno.gaf_reader import GafReader\n",
    "from goatools.base import download_go_basic_obo\n",
    "from goatools.go_enrichment import GOEnrichmentStudy\n",
    "from goatools.goea.go_enrichment_ns import GOEnrichmentStudyNS\n",
    "from goatools.obo_parser import GODag\n",
    "from goatools.semantic import TermCounts, get_info_content, semantic_similarity\n",
    "\n",
    "\n",
    "def search_go(ns2assoc, obodag, inv_gene_to_id, go_term):\n",
    "    namespace_abbv = {\n",
    "        \"biological_process\": \"BP\",\n",
    "        \"molecular_function\": \"MF\",\n",
    "        \"cellular_component\": \"CC\",\n",
    "    }\n",
    "\n",
    "    print(\"Searching for \" + str(obodag[go_term].name))\n",
    "    namespace = namespace_abbv[obodag[go_term].namespace]\n",
    "    child_goterms = list(obodag[go_term].get_all_children())\n",
    "    gene_list = [\n",
    "        inv_gene_to_id[key]\n",
    "        for key, val in ns2assoc[namespace].items()\n",
    "        if go_term in val\n",
    "    ]\n",
    "    for child_goterm in child_goterms:\n",
    "        gene_list += [\n",
    "            inv_gene_to_id[key]\n",
    "            for key, val in ns2assoc[namespace].items()\n",
    "            if child_goterm in val\n",
    "        ]\n",
    "    gene_list = sorted(list(set(gene_list)))\n",
    "    return gene_list"
   ]
  },
  {
   "cell_type": "code",
   "execution_count": null,
   "id": "working-certificate",
   "metadata": {},
   "outputs": [],
   "source": [
    "# Get ontologies\n",
    "obo_fname = download_go_basic_obo()\n",
    "\n",
    "# Get ecoli association file (ecocyc)\n",
    "gaf_handle = goatools.base.http_get(\n",
    "    \"http://current.geneontology.org/annotations/ecocyc.gaf.gz\", fout=\"./ecocyc.gaf.gz\"\n",
    ")\n",
    "gaf_fname = goatools.base.gunzip(\"./ecocyc.gaf.gz\")\n",
    "\n",
    "## Getting ontologies and other nonesense\n",
    "\n",
    "obodag = GODag(obo_fname)\n",
    "objanno = GafReader(gaf_fname)\n",
    "ns2assoc = objanno.get_ns2assc()\n",
    "\n",
    "gene_to_id = {assoc.DB_Symbol: assoc.DB_ID for assoc in objanno.associations}\n",
    "inv_gene_to_id = {assoc.DB_ID: assoc.DB_Symbol for assoc in objanno.associations}\n",
    "synonym_dict = {\n",
    "    synonym: assoc.DB_ID\n",
    "    for assoc in objanno.associations\n",
    "    for synonym in assoc.DB_Synonym\n",
    "}\n",
    "gene_to_id.update(synonym_dict)"
   ]
  },
  {
   "cell_type": "code",
   "execution_count": null,
   "id": "peripheral-approval",
   "metadata": {},
   "outputs": [],
   "source": [
    "tRNA_aminoacylation_genes = search_go(ns2assoc, obodag, inv_gene_to_id, \"GO:0003746\")\n",
    "fig = highlight_gene_group(paga_df, tRNA_aminoacylation_genes)\n",
    "fig.savefig(\"./1_Global_Analysis/Highlight_Genes/Elongation_factor_genes.png\", dpi=150)"
   ]
  },
  {
   "cell_type": "code",
   "execution_count": null,
   "id": "personalized-lancaster",
   "metadata": {},
   "outputs": [],
   "source": [
    "tRNA_aminoacylation_genes = search_go(ns2assoc, obodag, inv_gene_to_id, \"GO:0043039\")\n",
    "fig = highlight_gene_group(paga_df, tRNA_aminoacylation_genes)\n",
    "fig.savefig(\n",
    "    \"./1_Global_Analysis/Highlight_Genes/tRNA_aminoacylation_genes.png\", dpi=150\n",
    ")"
   ]
  },
  {
   "cell_type": "code",
   "execution_count": null,
   "id": "incident-above",
   "metadata": {},
   "outputs": [],
   "source": [
    "division_genes = search_go(ns2assoc, obodag, inv_gene_to_id, \"GO:0051301\")\n",
    "fig = highlight_gene_group(paga_df, division_genes)\n",
    "fig.savefig(\"./1_Global_Analysis/Highlight_Genes/division_genes.png\", dpi=150)"
   ]
  },
  {
   "cell_type": "code",
   "execution_count": null,
   "id": "charming-missouri",
   "metadata": {},
   "outputs": [],
   "source": [
    "ribosome_genes = search_go(ns2assoc, obodag, inv_gene_to_id, \"GO:0005840\")\n",
    "fig = highlight_gene_group(paga_df, ribosome_genes)\n",
    "fig.savefig(\"./1_Global_Analysis/Highlight_Genes/ribosome_genes.png\", dpi=150)"
   ]
  },
  {
   "cell_type": "code",
   "execution_count": null,
   "id": "vulnerable-stand",
   "metadata": {},
   "outputs": [],
   "source": [
    "peptidoglycan_genes = search_go(ns2assoc, obodag, inv_gene_to_id, \"GO:0000270\")\n",
    "fig = highlight_gene_group(paga_df, peptidoglycan_genes)\n",
    "fig.savefig(\"./1_Global_Analysis/Highlight_Genes/peptidoglycan_genes.png\", dpi=150)"
   ]
  },
  {
   "cell_type": "code",
   "execution_count": null,
   "id": "checked-reducing",
   "metadata": {},
   "outputs": [],
   "source": [
    "replication_genes = search_go(ns2assoc, obodag, inv_gene_to_id, \"GO:0006260\")\n",
    "fig = highlight_gene_group(paga_df, replication_genes)\n",
    "fig.savefig(\"./1_Global_Analysis/Highlight_Genes/replication_genes.png\", dpi=150)"
   ]
  },
  {
   "cell_type": "code",
   "execution_count": null,
   "id": "approved-tenant",
   "metadata": {},
   "outputs": [],
   "source": [
    "initiation_genes = search_go(ns2assoc, obodag, inv_gene_to_id, \"GO:0006270\")\n",
    "fig = highlight_gene_group(paga_df, initiation_genes)\n",
    "fig.savefig(\"./1_Global_Analysis/Highlight_Genes/initiation_genes.png\", dpi=150)"
   ]
  },
  {
   "cell_type": "code",
   "execution_count": null,
   "id": "present-cover",
   "metadata": {},
   "outputs": [],
   "source": [
    "shape_genes = search_go(ns2assoc, obodag, inv_gene_to_id, \"GO:0008360\")\n",
    "fig = highlight_gene_group(paga_df, shape_genes)\n",
    "fig.savefig(\"./1_Global_Analysis/Highlight_Genes/shape_genes.png\", dpi=150)"
   ]
  },
  {
   "cell_type": "markdown",
   "id": "conceptual-terrorist",
   "metadata": {},
   "source": [
    "## 2) Cluster Analysis"
   ]
  },
  {
   "cell_type": "markdown",
   "id": "integral-hayes",
   "metadata": {},
   "source": [
    "### Average Timeseries"
   ]
  },
  {
   "cell_type": "code",
   "execution_count": null,
   "id": "municipal-kenya",
   "metadata": {},
   "outputs": [],
   "source": [
    "def plot_cluster_timeseries(\n",
    "    df,\n",
    "    cluster_label,\n",
    "    feature_labels,\n",
    "    displayed_labels,\n",
    "    feature_range_list,\n",
    "    agg_fn=np.mean,\n",
    "    x_ticks=[0, 10, 20],\n",
    "    cluster_subset=None,\n",
    "    figsize=(10, 10),\n",
    "    wspace=0.0,\n",
    "    hspace=0.0,\n",
    "    fontsize=14,\n",
    "    linewidth=5,\n",
    "    color_list=None,\n",
    "):\n",
    "    if cluster_subset is not None:\n",
    "        df = copy.copy(df)\n",
    "        df = df[df[cluster_label].isin(cluster_subset)]\n",
    "\n",
    "    timeseries_list = []\n",
    "    for feature_label in feature_labels:\n",
    "        agg_cluster_timeseries = (\n",
    "            df.groupby([cluster_label])\n",
    "            .apply(lambda x: agg_fn(np.array(x[feature_label].tolist()), axis=0))\n",
    "            .to_frame()\n",
    "        )\n",
    "        agg_cluster_timeseries = agg_cluster_timeseries.rename(\n",
    "            columns={0: feature_label}\n",
    "        )\n",
    "        timeseries_list.append(agg_cluster_timeseries)\n",
    "    timeseries_df = pd.concat(timeseries_list, axis=1)\n",
    "\n",
    "    fig = plt.figure(constrained_layout=True, figsize=figsize)\n",
    "    gs = fig.add_gridspec(1, len(timeseries_df), wspace=wspace)\n",
    "\n",
    "    for i in range(len(timeseries_df)):\n",
    "        mean_cluster_timeseries = timeseries_df.iloc[i]\n",
    "\n",
    "        clust_arr = np.array(timeseries_df.iloc[i].tolist())\n",
    "        if color_list == None:\n",
    "            color = \"tab:blue\"\n",
    "        else:\n",
    "            color = color_list[i]\n",
    "\n",
    "        if i == 0:\n",
    "            inner_gs = gs[0, i].subgridspec(\n",
    "                clust_arr.shape[0], 1, wspace=0, hspace=hspace\n",
    "            )\n",
    "            inner_grid_sub = inner_gs.subplots(sharex=True)\n",
    "            for c, ax in np.ndenumerate(inner_grid_sub):\n",
    "                feature_range = feature_range_list[c[0]]\n",
    "                ax.plot(clust_arr[c], linewidth=linewidth, color=color)\n",
    "                ax.set_ylim(feature_range[0], feature_range[1])\n",
    "                ax.set(xticks=[])\n",
    "                #                 ax.set(xticks=[], yticks=[0,6])\n",
    "                ax.set_ylabel(\n",
    "                    displayed_labels[c[0]],\n",
    "                    rotation=0,\n",
    "                    labelpad=30,\n",
    "                    fontsize=fontsize,\n",
    "                    ha=\"right\",\n",
    "                )  # ,orientation=\"horizontal\")\n",
    "\n",
    "            ax.set_xlabel(str(i), fontsize=fontsize)\n",
    "            ax.set(xticks=x_ticks)\n",
    "\n",
    "        else:\n",
    "            inner_gs = gs[0, i].subgridspec(\n",
    "                clust_arr.shape[0], 1, wspace=0, hspace=hspace\n",
    "            )\n",
    "            inner_grid_sub = inner_gs.subplots(sharex=True)\n",
    "            for c, ax in np.ndenumerate(inner_grid_sub):\n",
    "                feature_range = feature_range_list[c[0]]\n",
    "                ax.plot(clust_arr[c], linewidth=linewidth, color=color)\n",
    "                ax.set_ylim(feature_range[0], feature_range[1])\n",
    "                ax.set(xticks=[], yticks=[])\n",
    "\n",
    "            ax.set_xlabel(str(i), fontsize=fontsize)\n",
    "            ax.set(xticks=x_ticks)\n",
    "\n",
    "    plt.tight_layout()\n",
    "    return fig"
   ]
  },
  {
   "cell_type": "code",
   "execution_count": null,
   "id": "demanding-romance",
   "metadata": {},
   "outputs": [],
   "source": [
    "fig = sc.pl.umap(\n",
    "    paga_df,\n",
    "    color=[\"leiden_lowres\", \"leiden\", \"leiden_highres\"],\n",
    "    title=[\"Leiden Resolution=0.25\", \"Leiden Resolution=1.\", \"Leiden Resolution=1.5\"],\n",
    "    show=False,\n",
    "    legend_loc=\"on data\",\n",
    "    edges=True,\n",
    "    add_outline=False,\n",
    "    size=50,\n",
    "    return_fig=True,\n",
    "    palette=vega_20_scanpy,\n",
    ")"
   ]
  },
  {
   "cell_type": "code",
   "execution_count": null,
   "id": "regulated-oakland",
   "metadata": {},
   "outputs": [],
   "source": [
    "fig = plot_cluster_timeseries(\n",
    "    paga_df.obs,\n",
    "    \"leiden_highres\",\n",
    "    [\n",
    "        \"Division Length\",\n",
    "        \"Linear Growth Rate\",\n",
    "        \"Exponential Growth Rate\",\n",
    "        \"Width\",\n",
    "        \"mCherry Intensity\",\n",
    "        \"Doubling Time\",\n",
    "    ],\n",
    "    [\n",
    "        \"Division Length\",\n",
    "        \"Linear Growth Rate\",\n",
    "        \"Exponential Growth Rate\",\n",
    "        \"Width\",\n",
    "        \"mCherry Intensity\",\n",
    "        \"Doubling Time\",\n",
    "    ],\n",
    "    [(3, 12), (0, 20), (0.5, 2.5), (1.2, 1.6), (0, 6000), (0, 20)],\n",
    "    figsize=(25, 8),\n",
    "    wspace=0.25,\n",
    "    hspace=0.25,\n",
    "    color_list=vega_20_scanpy,\n",
    ")\n",
    "fig.tight_layout()\n",
    "fig.savefig(\"./2_Cluster_Analysis/leiden_highres_timeseries.png\", dpi=150)"
   ]
  },
  {
   "cell_type": "code",
   "execution_count": null,
   "id": "cosmetic-overview",
   "metadata": {},
   "outputs": [],
   "source": [
    "fig = plot_cluster_timeseries(\n",
    "    paga_df.obs,\n",
    "    \"leiden\",\n",
    "    [\n",
    "        \"Division Length\",\n",
    "        \"Linear Growth Rate\",\n",
    "        \"Exponential Growth Rate\",\n",
    "        \"Width\",\n",
    "        \"mCherry Intensity\",\n",
    "        \"Doubling Time\",\n",
    "    ],\n",
    "    [\n",
    "        \"Division Length\",\n",
    "
        \"Linear Growth Rate\",\n",
    "        \"Exponential Growth Rate\",\n",
    "        \"Width\",\n",
    "        \"mCherry Intensity\",\n",
    "        \"Doubling Time\",\n",
    "    ],\n",
    "    [(3, 12), (0, 20), (0.5, 2.5), (1.2, 1.6), (0, 6000), (0, 20)],\n",
    "    figsize=(20, 8),\n",
    "    wspace=0.25,\n",
    "    hspace=0.25,\n",
    "    color_list=vega_20_scanpy,\n",
    ")\n",
    "fig.tight_layout()\n",
    "fig.savefig(\"./2_Cluster_Analysis/leiden_timeseries.png\", dpi=150)"
   ]
  },
  {
   "cell_type": "code",
   "execution_count": null,
   "id": "chronic-banana",
   "metadata": {},
   "outputs": [],
   "source": [
    "fig = plot_cluster_timeseries(\n",
    "    paga_df.obs,\n",
    "    \"leiden_lowres\",\n",
    "    [\n",
    "        \"Division Length\",\n",
    "        \"Linear Growth Rate\",\n",
    "        \"Exponential Growth Rate\",\n",
    "        \"Width\",\n",
    "        \"mCherry Intensity\",\n",
    "        \"Doubling Time\",\n",
    "    ],\n",
    "    [\n",
    "        \"Division Length\",\n",
    "        \"Linear Growth Rate\",\n",
    "        \"Exponential Growth Rate\",\n",
    "        \"Width\",\n",
    "        \"mCherry Intensity\",\n",
    "        \"Doubling Time\",\n",
    "    ],\n",
    "    [(3, 12), (0, 20), (0.5, 2.5), (1.2, 1.6), (0, 6000), (0, 20)],\n",
    "    figsize=(7, 8),\n",
    "    wspace=0.25,\n",
    "    hspace=0.25,\n",
    "    color_list=vega_20_scanpy,\n",
    ")\n",
    "fig.tight_layout()\n",
    "fig.savefig(\"./2_Cluster_Analysis/leiden_lowres_timeseries.png\", dpi=150)"
   ]
  },
  {
   "cell_type": "markdown",
   "id": "spoken-persian",
   "metadata": {},
   "source": [
    "### Barycenter Timeseries"
   ]
  },
  {
   "cell_type": "code",
   "execution_count": null,
   "id": "accurate-atlantic",
   "metadata": {},
   "outputs": [],
   "source": [
    "from tslearn.barycenters import (\n",
    "    dtw_barycenter_averaging,\n",
    "    euclidean_barycenter,\n",
    "    softdtw_barycenter,\n",
    ")"
   ]
  },
  {
   "cell_type": "code",
   "execution_count": null,
   "id": "infectious-inspection",
   "metadata": {},
   "outputs": [],
   "source": [
    "def get_braycenters(df, columns=None, max_iter=50, tol=0.001):\n",
    "    df = df[columns]\n",
    "    X = np.array(df.apply(lambda x: x.tolist(), axis=1).tolist())\n",
    "    X = np.swapaxes(X, 1, 2)\n",
    "\n",
    "    Y = softdtw_barycenter(X, max_iter=max_iter, tol=tol)  # T X D\n",
    "\n",
    "    return Y\n",
    "\n",
    "\n",
    "def plot_cluster_timeseries_braycenters(\n",
    "    df,\n",
    "    cluster_label,\n",
    "    feature_labels,\n",
    "    displayed_labels,\n",
    "    feature_range_list,\n",
    "    x_ticks=[0, 10, 20],\n",
    "    cluster_subset=None,\n",
    "    figsize=(10, 10),\n",
    "    wspace=0.0,\n",
    "    hspace=0.0,\n",
    "    fontsize=14,\n",
    "    linewidth=3,\n",
    "    color_list=None,\n",
    "):\n",
    "    if cluster_subset is not None:\n",
    "        df = copy.copy(df)\n",
    "        df = df[df[cluster_label].isin(cluster_subset)]\n",
    "\n",
    "    cluster_groupby = df.groupby([cluster_label])\n",
    "    agg_cluster_timeseries = cluster_groupby.apply(\n",
    "        lambda x: get_braycenters(x, columns=feature_labels)\n",
    "    )\n",
    "\n",
    "    timeseries_list = []\n",
    "    for i, feature_label in enumerate(feature_labels):\n",
    "        selected_feature_agg = agg_cluster_timeseries.apply(\n",
    "            lambda x: x[:, i]\n",
    "        ).to_frame()\n",
    "        selected_feature_agg = selected_feature_agg.rename(columns={0: feature_label})\n",
    "        timeseries_list.append(selected_feature_agg)\n",
    "\n",
    "    timeseries_df = pd.concat(timeseries_list, axis=1)\n",
    "\n",
    "    fig = plt.figure(constrained_layout=True, figsize=figsize)\n",
    "    gs = fig.add_gridspec(1, len(timeseries_df), wspace=wspace)\n",
    "\n",
    "    for i in range(len(timeseries_df)):\n",
    "        mean_cluster_timeseries = timeseries_df.iloc[i]\n",
    "\n",
    "        clust_arr = np.array(timeseries_df.iloc[i].tolist())\n",
    "        if color_list == None:\n",
    "            color = \"tab:blue\"\n",
    "        else:\n",
    "            color = color_list[i]\n",
    "\n",
    "        if i == 0:\n",
    "            inner_gs = gs[0, i].subgridspec(\n",
    "                clust_arr.shape[0], 1, wspace=0, hspace=hspace\n",
    "            )\n",
    "            inner_grid_sub = inner_gs.subplots(sharex=True)\n",
    "            for c, ax in np.ndenumerate(inner_grid_sub):\n",
    "                feature_range = feature_range_list[c[0]]\n",
    "                ax.plot(clust_arr[c], linewidth=linewidth, color=color)\n",
    "                ax.set_ylim(feature_range[0], feature_range[1])\n",
    "                ax.set(xticks=[])\n",
    "                #                 ax.set(xticks=[], yticks=[0,6])\n",
    "                ax.set_ylabel(\n",
    "                    displayed_labels[c[0]],\n",
    "                    rotation=0,\n",
    "                    labelpad=30,\n",
    "                    fontsize=fontsize,\n",
    "                    ha=\"right\",\n",
    "                )  # ,orientation=\"horizontal\")\n",
    "\n",
    "            ax.set_xlabel(str(i), fontsize=fontsize)\n",
    "            ax.set(xticks=x_ticks)\n",
    "\n",
    "        else:\n",
    "            inner_gs = gs[0, i].subgridspec(\n",
    "                clust_arr.shape[0], 1, wspace=0, hspace=hspace\n",
    "            )\n",
    "            inner_grid_sub = inner_gs.subplots(sharex=True)\n",
    "            for c, ax in np.ndenumerate(inner_grid_sub):\n",
    "                feature_range = feature_range_list[c[0]]\n",
    "                ax.plot(clust_arr[c], linewidth=linewidth, color=color)\n",
    "                ax.set_ylim(feature_range[0], feature_range[1])\n",
    "                ax.set(xticks=[], yticks=[])\n",
    "\n",
    "            ax.set_xlabel(str(i), fontsize=fontsize)\n",
    "            ax.set(xticks=x_ticks)\n",
    "\n",
    "    plt.tight_layout()\n",
    "    return fig"
   ]
  },
  {
   "cell_type": "code",
   "execution_count": null,
   "id": "adjacent-semiconductor",
   "metadata": {},
   "outputs": [],
   "source": [
    "fig = plot_cluster_timeseries_braycenters(\n",
    "    paga_df.obs,\n",
    "    \"leiden_highres\",\n",
    "    [\n",
    "        \"Division Length Z-score\",\n",
    "        \"Linear Growth Rate Z-score\",\n",
    "        \"Exponential Growth Rate Z-score\",\n",
    "        \"Width Z-score\",\n",
    "        \"mCherry Intensity Z-score\",\n",
    "        \"Doubling Time Z-score\",\n",
    "    ],\n",
    "    [\n",
    "        \"Division Length Z-score\",\n",
    "        \"Linear Growth Rate Z-score\",\n",
    "        \"Exponential Growth Rate Z-score\",\n",
    "        \"Width Z-score\",\n",
    "        \"mCherry Intensity Z-score\",\n",
    "        \"Doubling Time Z-score\",\n",
    "    ],\n",
    "    [(-4, 4), (-4, 4), (-4, 4), (-4, 4), (-4, 4), (-4, 4)],\n",
    "    figsize=(25, 8),\n",
    "    wspace=0.25,\n",
    "    hspace=0.25,\n",
    "    color_list=vega_20_scanpy,\n",
    ")\n",
    "fig.savefig(\"./2_Cluster_Analysis/leiden_highres_barycenters.png\", dpi=150)"
   ]
  },
  {
   "cell_type": "code",
   "execution_count": null,
   "id": "magnetic-frederick",
   "metadata": {},
   "outputs": [],
   "source": [
    "fig = plot_cluster_timeseries_braycenters(\n",
    "    paga_df.obs,\n",
    "    \"leiden\",\n",
    "    [\n",
    "        \"Division Length Z-score\",\n",
    "        \"Linear Growth Rate Z-score\",\n",
    "        \"Exponential Growth Rate Z-score\",\n",
    "        \"Width Z-score\",\n",
    "        \"mCherry Intensity Z-score\",\n",
    "        \"Doubling Time Z-score\",\n",
    "    ],\n",
    "    [\n",
    "        \"Division Length Z-score\",\n",
    "        \"Linear Growth Rate Z-score\",\n",
    "        \"Exponential Growth Rate Z-score\",\n",
    "        \"Width Z-score\",\n",
    "        \"mCherry Intensity Z-score\",\n",
    "        \"Doubling Time Z-score\",\n",
    "    ],\n",
    "    [(-4, 4), (-4, 4), (-4, 4), (-4, 4), (-4, 4), (-4, 4)],\n",
    "    figsize=(20, 8),\n",
    "    wspace=0.25,\n",
    "    hspace=0.25,\n",
    "    color_list=vega_20_scanpy,\n",
    ")\n",
    "fig.savefig(\"./2_Cluster_Analysis/leiden_barycenters.png\", dpi=150)"
   ]
  },
  {
   "cell_type": "code",
   "execution_count": null,
   "id": "continent-hanging",
   "metadata": {},
   "outputs": [],
   "source": [
    "fig = plot_cluster_timeseries_braycenters(\n",
    "    paga_df.obs,\n",
    "    \"leiden_lowres\",\n",
    "    [\n",
    "        \"Division Length Z-score\",\n",
    "        \"Linear Growth Rate Z-score\",\n",
    "        \"Exponential Growth Rate Z-score\",\n",
    "        \"Width Z-score\",\n",
    "        \"mCherry Intensity Z-score\",\n",
    "        \"Doubling Time Z-score\",\n",
    "    ],\n",
    "    [\n",
    "        \"Division Length Z-score\",\n",
    "        \"Linear Growth Rate Z-score\",\n",
    "        \"Exponential Growth Rate Z-score\",\n",
    "        \"Width Z-score\",\n",
    "        \"mCherry Intensity Z-score\",\n",
    "        \"Doubling Time Z-score\",\n",
    "    ],\n",
    "    [(-4, 4), (-4, 4), (-4, 4), (-4, 4), (-4, 4), (-4, 4)],\n",
    "    figsize=(7, 8),\n",
    "    wspace=0.25,\n",
    "    hspace=0.25,\n",
    "    color_list=vega_20_scanpy,\n",
    ")\n",
    "fig.savefig(\"./2_Cluster_Analysis/leiden_lowres_barycenters.png\", dpi=150)"
   ]
  },
  {
   "cell_type": "markdown",
   "id": "floppy-parker",
   "metadata": {},
   "source": [
    "### GO Term Enrichment"
   ]
  },
  {
   "cell_type": "code",
   "execution_count": null,
   "id": "furnished-process",
   "metadata": {},
   "outputs": [],
   "source": [
    "import goatools\n",
    "import goatools.base\n",
    "from goatools.anno.gaf_reader import GafReader\n",
    "from goatools.base import download_go_basic_obo\n",
    "from goatools.go_enrichment import GOEnrichmentStudy\n",
    "from goatools.goea.go_enrichment_ns import GOEnrichmentStudyNS\n",
    "from goatools.obo_parser import GODag\n",
    "from goatools.semantic import TermCounts, get_info_content, semantic_similarity\n",
    "\n",
    "\n",
    "def search_go(ns2assoc, obodag, inv_gene_to_id, go_term):\n",
    "    namespace_abbv = {\n",
    "        \"biological_process\": \"BP\",\n",
    "        \"molecular_function\": \"MF\",\n",
    "        \"cellular_component\": \"CC\",\n",
    "    }\n",
    "\n",
    "    print(\"Searching for \" + str(obodag[go_term].name))\n",
    "    namespace = namespace_abbv[obodag[go_term].namespace]\n",
    "    child_goterms = list(obodag[go_term].get_all_children())\n",
    "    gene_list = [\n",
    "        inv_gene_to_id[key]\n",
    "        for key, val in ns2assoc[namespace].items()\n",
    "        if go_term in val\n",
    "    ]\n",
    "    for child_goterm in child_goterms:\n",
    "        gene_list += [\n",
    "            inv_gene_to_id[key]\n",
    "            for key, val in ns2assoc[namespace].items()\n",
    "            if child_goterm in val\n",
    "        ]\n",
    "    gene_list = sorted(list(set(gene_list)))\n",
    "    return gene_list\n",
    "\n",
    "\n",
    "def get_enriched_GO_terms(\n",
    "    background_gene_list, gene_list, obodag, objanno, ns2assoc, pval=0.05, GO_type=\"BP\"\n",
    "):\n",
    "    gene_to_id = {assoc.DB_Symbol: assoc.DB_ID for assoc in objanno.associations}\n",
    "    synonym_dict = {\n",
    "        synonym: assoc.DB_ID\n",
    "        for assoc in objanno.associations\n",
    "        for synonym in assoc.DB_Synonym\n",
    "    }\n",
    "    gene_to_id.update(synonym_dict)\n",
    "\n",
    "    # background gene set\n",
    "\n",
    "    all_genes_uniprot = [\n",
    "        gene_to_id[item] for item in background_gene_list if item in gene_to_id.keys()\n",
    "    ]\n",
    "    selected_genes_uniprot = [\n",
    "        gene_to_id[item] for item in gene_list if item in gene_to_id.keys()\n",
    "    ]\n",
    "\n",
    "    print(len(all_genes_uniprot))\n",
    "    print(len(selected_genes_uniprot))\n",
    "\n",
    "    goeaobj = GOEnrichmentStudy(\n",
    "        all_genes_uniprot,  # List of mouse protein-coding genes\n",
    "        ns2assoc[GO_type],  # geneid/GO associations\n",
    "        obodag,  # Ontologies\n",
    "        propagate_counts=True,\n",
    "        alpha=pval,  # default significance cut-off\n",
    "        methods=[\"fdr_bh\"],\n",
    "    )\n",
    "    # defult multipletest correction method\n",
    "\n",
    "    goea_results_all = goeaobj.run_study(selected_genes_uniprot, prt=None)\n",
    "    goea_quiet_sig = [r for r in goea_results_all if r.p_fdr_bh < pval]\n",
    "    goea_quiet_enriched = [r for r in goea_quiet_sig if r.enrichment == \"e\"]\n",
    "    return goea_quiet_enriched\n",
    "\n",
    "\n",
    "def pick_exemplar(go1, go2, termcounts, obodag, info_thr, pval_factor=2.0):\n",
    "    info_1_low = get_info_content(go1.GO, termcounts) < info_thr\n",
    "    info_2_low = get_info_content(go2.GO, termcounts) < info_thr\n",
    "    if info_1_low and not info_2_low:\n",
    "        return go2\n",
    "    elif info_2_low and not info_1_low:\n",
    "        return go1\n",
    "    elif info_2_low and info_1_low:\n",
    "        return go1\n",
    "\n",
    "    pval_ratio = go1.p_fdr_bh / go2.p_fdr_bh\n",
    "\n",
    "    if pval_ratio > pval_factor:\n",
    "        return go2\n",
    "    elif pval_ratio < (1.0 / pval_factor):\n",
    "        return go1\n",
    "\n",
    "    go1_parents = list(obodag[go1.GO].get_all_parents())\n",
    "    go2_parents = list(obodag[go2.GO].get_all_parents())\n",
    "\n",
    "    if go2.GO in go1_parents:\n",
    "        return go2\n",
    "\n",
    "    elif go1.GO in go2_parents:\n",
    "        return go1\n",
    "\n",
    "    return go1\n",
    "\n",
    "\n",
    "def get_filtered_go_terms(\n",
    "    obodag, objanno, goea_list, sim_thr=0.05, info_thr=1.0, GO_type=\"BP\"\n",
    "):\n",
    "    termcounts = TermCounts(obodag, objanno.get_ns2assc()[GO_type])\n",
    "\n",
    "    go_term_list = [item.GO for item in goea_list]\n",
    "    sim_arr = np.zeros((len(go_term_list), len(go_term_list)))\n",
    "    for i in range(len(go_term_list)):\n",
    "        for j in range(len(go_term_list)):\n",
    "            sim_arr[i, j] = semantic_similarity(\n",
    "                go_term_list[i], go_term_list[j], obodag\n",
    "            )\n",
    "    np.fill_diagonal(sim_arr, 0.0)\n",
    "\n",
    "    working_group_idx = 0\n",
    "    grouped_terms = {}\n",
    "    group_exemplars = {}\n",
    "    go_term_indices = list(range(len(go_term_list)))\n",
    "\n",
    "    while len(go_term_indices) > 0:\n",
    "        i = go_term_indices[0]\n",
    "        most_sim_arg = np.argmax(sim_arr[i])\n",
    "        sim_score = sim_arr[i, most_sim_arg]\n",
    "        if sim_score > sim_thr:\n",
    "            if len(grouped_terms) > 0:\n",
    "                in_other_group_keys = [\n",
    "                    key for key, val in grouped_terms.items() if most_sim_arg in val\n",
    "                ]\n",
    "                if len(in_other_group_keys) == 1:\n",
    "                    other_group_idx = in_other_group_keys[0]\n",
    "                    grouped_terms[other_group_idx] = grouped_terms[other_group_idx] + [\n",
    "                        i\n",
    "                    ]\n",
    "                    group_exemplars[other_group_idx] = pick_exemplar(\n",
    "                        group_exemplars[other_group_idx],\n",
    "                        goea_list[i],\n",
    "                        termcounts,\n",
    "                        obodag,\n",
    "                        info_thr,\n",
    "                    )\n",
    "                else:\n",
    "                    grouped_terms[working_group_idx] = [i, most_sim_arg]\n",
    "                    group_exemplars[working_group_idx] = pick_exemplar(\n",
    "                        goea_list[i],\n",
    "                        goea_list[most_sim_arg],\n",
    "                        termcounts,\n",
    "                        obodag,\n",
    "                        info_thr,\n",
    "                    )\n",
    "                    working_group_idx += 1\n",
    "                    go_term_indices.remove(most_sim_arg)\n",
    "            else:\n",
    "                grouped_terms[working_group_idx] = [i, most_sim_arg]\n",
    "                group_exemplars[working_group_idx] = pick_exemplar(\n",
    "                    goea_list[i], goea_list[most_sim_arg], termcounts, obodag, info_thr\n",
    "                )\n",
    "                working_group_idx += 1\n",
    "                go_term_indices.remove(most_sim_arg)\n",
    "        go_term_indices.remove(i)\n",
    "\n",
    "    group_exemplars = list(group_exemplars.values())\n",
    "\n",
    "    return group_exemplars\n",
    "\n",
    "\n",
    "def get_GO_assign_dict(selected_goea, cluster_genes_uniprot):\n",
    "    all_study_items = copy.copy(cluster_genes_uniprot)\n",
    "    depth_list = sorted(set([item.depth for item in selected_goea]))[::-1]\n",
    "    assign_dict = {}\n",
    "    for depth in depth_list:\n",
    "        go_terms_at_level = [item for item in selected_goea if item.depth == depth]\n",
    "        for go_term in go_terms_at_level:\n",
    "            study_item_list = list(go_term.study_items)\n",
    "            for study_item in study_item_list:\n",
    "                if study_item in all_study_items:\n",
    "                    assign_dict[study_item] = go_term.name\n",
    "                    all_study_items.remove(study_item)\n",
    "\n",
    "    for remaining_item in all_study_items:\n",
    "        assign_dict[remaining_item] = \"Unassigned\"\n",
    "\n",
    "    return assign_dict"
   ]
  },
  {
   "cell_type": "code",
   "execution_count": null,
   "id": "tight-bundle",
   "metadata": {},
   "outputs": [],
   "source": [
    "# Get ontologies\n",
    "obo_fname = download_go_basic_obo()\n",
    "\n",
    "# Get ecoli association file (ecocyc)\n",
    "gaf_handle = goatools.base.http_get(\n",
    "    \"http://current.geneontology.org/annotations/ecocyc.gaf.gz\", fout=\"./ecocyc.gaf.gz\"\n",
    ")\n",
    "gaf_fname = goatools.base.gunzip(\"./ecocyc.gaf.gz\")\n",
    "\n",
    "## Getting ontologies and other nonesense\n",
    "\n",
    "obodag = GODag(obo_fname)\n",
    "objanno = GafReader(gaf_fname)\n",
    "ns2assoc = objanno.get_ns2assc()\n",
    "\n",
    "gene_to_id = {assoc.DB_Symbol: assoc.DB_ID for assoc in objanno.associations}\n",
    "inv_gene_to_id = {assoc.DB_ID: assoc.DB_Symbol for assoc in objanno.associations}\n",
    "synonym_dict = {\n",
    "    synonym: assoc.DB_ID\n",
    "    for assoc in objanno.associations\n",
    "    for synonym in assoc.DB_Synonym\n",
    "}\n",
    "gene_to_id.update(synonym_dict)"
   ]
  },
  {
   "cell_type": "code",
   "execution_count": null,
   "id": "roman-prospect",
   "metadata": {},
   "outputs": [],
   "source": [
    "fig = sc.pl.umap(\n",
    "    paga_df,\n",
    "    color=[\"leiden_lowres\", \"leiden\", \"leiden_highres\"],\n",
    "    title=[\"Leiden Resolution=0.25\", \"Leiden Resolution=1.\", \"Leiden Resolution=1.5\"],\n",
    "    show=False,\n",
    "    legend_loc=\"on data\",\n",
    "    edges=True,\n",
    "    add_outline=False,\n",
    "    size=50,\n",
    "    return_fig=True,\n",
    "    palette=vega_20_scanpy,\n",
    ")"
   ]
  },
  {
   "cell_type": "markdown",
   "id": "literary-aluminum",
   "metadata": {},
   "source": [
    "#### Division Cluster"
   ]
  },
  {
   "cell_type": "code",
   "execution_count": null,
   "id": "proper-sociology",
   "metadata": {},
   "outputs": [],
   "source": [
    "# background gene set\n",
    "\n",
    "all_genes = paga_df.obs[\"Gene\"].unique().tolist()\n",
    "\n",
    "clust_id = str(6)\n",
    "cluster_genes = sorted(\n",
    "    paga_df.obs[paga_df.obs[\"leiden_highres\"] == clust_id][\"Gene\"].unique().tolist()\n",
    ")\n",
    "\n",
    "goea_quiet_enriched = get_enriched_GO_terms(\n",
    "    all_genes, cluster_genes, obodag, objanno, ns2assoc, pval=0.05, GO_type=\"BP\"\n",
    ")\n",
    "filtered_go_terms = get_filtered_go_terms(\n",
    "    obodag, objanno, goea_quiet_enriched, sim_thr=0.3, info_thr=1.0\n",
    ")\n",
    "go_term_dict = {\n",
    "    go_term.name: go_term.ratio_in_study[0] for go_term in filtered_go_terms\n",
    "}\n",
    "# ttl_terms = np.sum(list(go_term_dict.values()))\n",
    "# go_term_dict = {key:val/ttl_terms for key,val in go_term_dict.items()}\n",
    "\n",
    "print()\n",
    "for key, value in go_term_dict.items():\n",
    "    print(key, \" : \", value)\n",
    "print()\n",
    "for i in range(0, len(cluster_genes), 5):\n",
    "    print(cluster_genes[i : i + 5])"
   ]
  },
  {
   "cell_type": "markdown",
   "id": "special-campaign",
   "metadata": {},
   "source": [
    "#### Starvation Cluster"
   ]
  },
  {
   "cell_type": "code",
   "execution_count": null,
   "id": "certain-moore",
   "metadata": {},
   "outputs": [],
   "source": [
    "# background gene set\n",
    "\n",
    "all_genes = paga_df.obs[\"Gene\"].unique().tolist()\n",
    "\n",
    "clust_id = str(1)\n",
    "cluster_genes = sorted(\n",
    "    paga_df.obs[paga_df.obs[\"leiden_lowres\"] == clust_id][\"Gene\"].unique().tolist()\n",
    ")\n",
    "\n",
    "goea_quiet_enriched = get_enriched_GO_terms(\n",
    "    all_genes, cluster_genes, obodag, objanno, ns2assoc, pval=0.05, GO_type=\"BP\"\n",
    ")\n",
    "filtered_go_terms = get_filtered_go_terms(\n",
    "    obodag, objanno, goea_quiet_enriched, sim_thr=0.3, info_thr=1.0\n",
    ")\n",
    "go_term_dict = {\n",
    "    go_term.name: go_term.ratio_in_study[0] for go_term in filtered_go_terms\n",
    "}\n",
    "# ttl_terms = np.sum(list(go_term_dict.values()))\n",
    "# go_term_dict = {key:val/ttl_terms for key,val in go_term_dict.items()}\n",
    "\n",
    "print()\n",
    "for key, value in go_term_dict.items():\n",
    "    print(key, \" : \", value)\n",
    "print()\n",
    "for i in range(0, len(cluster_genes), 5):\n",
    "    print(cluster_genes[i : i + 5])"
   ]
  },
  {
   "cell_type": "markdown",
   "id": "athletic-consideration",
   "metadata": {},
   "source": [
    "#### Ribosome Clusters"
   ]
  },
  {
   "cell_type": "code",
   "execution_count": null,
   "id": "anticipated-courage",
   "metadata": {},
   "outputs": [],
   "source": [
    "# background gene set\n",
    "\n",
    "all_genes = paga_df.obs[\"Gene\"].unique().tolist()\n",
    "\n",
    "clust_ids = [\"5\", \"7\"]\n",
    "cluster_genes = sorted(\n",
    "    paga_df.obs[paga_df.obs[\"leiden\"].isin(clust_ids)][\"Gene\"].unique().tolist()\n",
    ")\n",
    "\n",
    "goea_quiet_enriched = get_enriched_GO_terms(\n",
    "    all_genes, cluster_genes, obodag, objanno, ns2assoc, pval=0.05, GO_type=\"BP\"\n",
    ")\n",
    "filtered_go_terms = get_filtered_go_terms(\n",
    "    obodag, objanno, goea_quiet_enriched, sim_thr=0.3, info_thr=1.0\n",
    ")\n",
    "go_term_dict = {\n",
    "    go_term.name: go_term.ratio_in_study[0] for go_term in filtered_go_terms\n",
    "}\n",
    "# ttl_terms = np.sum(list(go_term_dict.values()))\n",
    "# go_term_dict = {key:val/ttl_terms for key,val in go_term_dict.items()}\n",
    "\n",
    "print()\n",
    "for key, value in go_term_dict.items():\n",
    "    print(key, \" : \", value)\n",
    "print()\n",
    "for i in range(0, len(cluster_genes), 5):\n",
    "    print(cluster_genes[i : i + 5])"
   ]
  },
  {
   "cell_type": "markdown",
   "id": "random-floor",
   "metadata": {},
   "source": [
    "#### Replication Cluster"
   ]
  },
  {
   "cell_type": "code",
   "execution_count": null,
   "id": "julian-lambda",
   "metadata": {},
   "outputs": [],
   "source": [
    "# background gene set\n",
    "\n",
    "all_genes = paga_df.obs[\"Gene\"].unique().tolist()\n",
    "\n",
    "clust_id = str(13)\n",
    "cluster_genes = sorted(\n",
    "    paga_df.obs[paga_df.obs[\"leiden\"] == clust_id][\"Gene\"].unique().tolist()\n",
    ")\n",
    "\n",
    "goea_quiet_enriched = get_enriched_GO_terms(\n",
    "    all_genes, cluster_genes, obodag, objanno, ns2assoc, pval=0.05, GO_type=\"BP\"\n",
    ")\n",
    "filtered_go_terms = get_filtered_go_terms(\n",
    "    obodag, objanno, goea_quiet_enriched, sim_thr=0.3, info_thr=1.0\n",
    ")\n",
    "go_term_dict = {\n",
    "    go_term.name: go_term.ratio_in_study[0] for go_term in filtered_go_terms\n",
    "}\n",
    "# ttl_terms = np.sum(list(go_term_dict.values()))\n",
    "# go_term_dict = {key:val/ttl_terms for key,val in go_term_dict.items()}\n",
    "\n",
    "print()\n",
    "for key, value in go_term_dict.items():\n",
    "    print(key, \" : \", value)\n",
    "print()\n",
    "for i in range(0, len(cluster_genes), 5):\n",
    "    print(cluster_genes[i : i + 5])"
   ]
  },
  {
   "cell_type": "markdown",
   "id": "vertical-woman",
   "metadata": {},
   "source": [
    "#### Wide Cluster"
   ]
  },
  {
   "cell_type": "code",
   "execution_count": null,
   "id": "varied-baghdad",
   "metadata": {},
   "outputs": [],
   "source": [
    "# background gene set\n",
    "\n",
    "all_genes = paga_df.obs[\"Gene\"].unique().tolist()\n",
    "\n",
    "clust_id = str(10)\n",
    "cluster_genes = sorted(\n",
    "    paga_df.obs[paga_df.obs[\"leiden\"] == clust_id][\"Gene\"].unique().tolist()\n",
    ")\n",
    "\n",
    "goea_quiet_enriched = get_enriched_GO_terms(\n",
    "    all_genes, cluster_genes, obodag, objanno, ns2assoc, pval=0.05, GO_type=\"BP\"\n",
    ")\n",
    "filtered_go_terms = get_filtered_go_terms(\n",
    "    obodag, objanno, goea_quiet_enriched, sim_thr=0.3, info_thr=1.0\n",
    ")\n",
    "go_term_dict = {\n",
    "    go_term.name: go_term.ratio_in_study[0] for go_term in filtered_go_terms\n",
    "}\n",
    "# ttl_terms = np.sum(list(go_term_dict.values()))\n",
    "# go_term_dict = {key:val/ttl_terms for key,val in go_term_dict.items()}\n",
    "\n",
    "print()\n",
    "for key, value in go_term_dict.items():\n",
    "    print(key, \" : \", value)\n",
    "print()\n",
    "for i in range(0, len(cluster_genes), 5):\n",
    "    print(cluster_genes[i : i + 5])"
   ]
  },
  {
   "cell_type": "markdown",
   "id": "convenient-island",
   "metadata": {},
   "source": [
    "#### Very Wide Cluster"
   ]
  },
  {
   "cell_type": "code",
   "execution_count": null,
   "id": "special-opera",
   "metadata": {},
   "outputs": [],
   "source": [
    "# background gene set\n",
    "\n",
    "all_genes = paga_df.obs[\"Gene\"].unique().tolist()\n",
    "\n",
    "clust_id = str(11)\n",
    "cluster_genes = sorted(\n",
    "    paga_df.obs[paga_df.obs[\"leiden_highres\"] == clust_id][\"Gene\"].unique().tolist()\n",
    ")\n",
    "\n",
    "goea_quiet_enriched = get_enriched_GO_terms(\n",
    "    all_genes, cluster_genes, obodag, objanno, ns2assoc, pval=0.05, GO_type=\"BP\"\n",
    ")\n",
    "filtered_go_terms = get_filtered_go_terms(\n",
    "    obodag, objanno, goea_quiet_enriched, sim_thr=0.3, info_thr=1.0\n",
    ")\n",
    "go_term_dict = {\n",
    "    go_term.name: go_term.ratio_in_study[0] for go_term in filtered_go_terms\n",
    "}\n",
    "# ttl_terms = np.sum(list(go_term_dict.values()))\n",
    "# go_term_dict = {key:val/ttl_terms for key,val in go_term_dict.items()}\n",
    "\n",
    "print()\n",
    "for key, value in go_term_dict.items():\n",
    "    print(key, \" : \", value)\n",
    "print()\n",
    "for i in range(0, len(cluster_genes), 5):\n",
    "    print(cluster_genes[i : i + 5])"
   ]
  },
  {
   "cell_type": "markdown",
   "id": "enormous-uncle",
   "metadata": {},
   "source": [
    "#### Segmentation Error Cluster"
   ]
  },
  {
   "cell_type": "code",
   "execution_count": null,
   "id": "changed-parent",
   "metadata": {},
   "outputs": [],
   "source": [
    "# background gene set\n",
    "\n",
    "all_genes = paga_df.obs[\"Gene\"].unique().tolist()\n",
    "\n",
    "clust_id = str(14)\n",
    "cluster_genes = sorted(\n",
    "    paga_df.obs[paga_df.obs[\"leiden\"] == clust_id][\"Gene\"].unique().tolist()\n",
    ")\n",
    "\n",
    "goea_quiet_enriched = get_enriched_GO_terms(\n",
    "    all_genes, cluster_genes, obodag, objanno, ns2assoc, pval=0.05, GO_type=\"BP\"\n",
    ")\n",
    "filtered_go_terms = get_filtered_go_terms(\n",
    "    obodag, objanno, goea_quiet_enriched, sim_thr=0.3, info_thr=1.0\n",
    ")\n",
    "go_term_dict = {\n",
    "    go_term.name: go_term.ratio_in_study[0] for go_term in filtered_go_terms\n",
    "}\n",
    "# ttl_terms = np.sum(list(go_term_dict.values()))\n",
    "# go_term_dict = {key:val/ttl_terms for key,val in go_term_dict.items()}\n",
    "\n",
    "print()\n",
    "for key, value in go_term_dict.items():\n",
    "    print(key, \" : \", value)\n",
    "print()\n",
    "for i in range(0, len(cluster_genes), 5):\n",
    "    print(cluster_genes[i : i + 5])"
   ]
  },
  {
   "cell_type": "markdown",
   "id": "plastic-guidance",
   "metadata": {},
   "source": [
    "## 3) Divergence Detection"
   ]
  },
  {
   "cell_type": "code",
   "execution_count": null,
   "id": "remarkable-example",
   "metadata": {},
   "outputs": [],
   "source": [
    "dist_mat = copy.deepcopy(paga_df.obsp[\"soft_dtw\"])\n",
    "dist_mat = np.triu(dist_mat)\n",
    "upper_tri_mask = dist_mat > 0.0\n",
    "gene_list = sorted(paga_df.obs[\"Gene\"].unique().tolist())"
   ]
  },
  {
   "cell_type": "code",
   "execution_count": null,
   "id": "roman-importance",
   "metadata": {},
   "outputs": [],
   "source": [
    "unmatched_gene_mask = np.ones(dist_mat.shape, dtype=bool)"
   ]
  },
  {
   "cell_type": "code",
   "execution_count": null,
   "id": "moral-cancellation",
   "metadata": {},
   "outputs": [],
   "source": [
    "import itertools\n",
    "\n",
    "unmatched_gene_mask = np.ones(dist_mat.shape, dtype=bool) * upper_tri_mask\n",
    "\n",
    "all_matched_vals = []\n",
    "gene_groups = {}\n",
    "\n",
    "for i, gene_i in enumerate(gene_list):\n",
    "    gene_mask = (paga_df.obs[\"Gene\"] == gene_i).values\n",
    "    double_gene_mask = np.logical_and.outer(gene_mask, gene_mask)\n",
    "    masked_vals = dist_mat[double_gene_mask * upper_tri_mask]\n",
    "    masked_vals = masked_vals[~np.isnan(masked_vals)].tolist()\n",
    "    all_matched_vals += masked_vals\n",
    "    gene_groups[gene_i] = masked_vals\n",
    "\n",
    "    unmatched_gene_mask = unmatched_gene_mask * (~double_gene_mask)\n",
    "\n",
    "all_unmatched_vals = dist_mat[unmatched_gene_mask].tolist()\n",
    "sampled_unmatched_vals = np.random.choice(\n",
    "    all_unmatched_vals, replace=False, size=(100000,)\n",
    ")\n",
    "# all_unmatched_vals = []\n",
    "# for i,gene_i in enumerate(gene_list):\n",
    "#     for j,gene_j in enumerate(gene_list):\n",
    "#         if i > j:\n",
    "#             coord_list = np.array([item for item in itertools.product(gene_loc_dict[gene_i],gene_loc_dict[gene_j]) if item[0]>item[1]])\n",
    "#             if len(coord_list)>0:\n",
    "#                 masked_vals = dist_mat[coord_list]\n",
    "#                 masked_vals = masked_vals[~np.isnan(masked_vals)].tolist()\n",
    "#                 all_unmatched_vals += masked_vals"
   ]
  },
  {
   "cell_type": "code",
   "execution_count": null,
   "id": "productive-ecology",
   "metadata": {},
   "outputs": [],
   "source": [
    "plt.hist(all_matched_vals, bins=50, range=(0, 1000))\n",
    "plt.show()\n",
    "plt.hist(sampled_unmatched_vals, bins=50, range=(0, 1000))\n",
    "plt.show()"
   ]
  },
  {
   "cell_type": "code",
   "execution_count": null,
   "id": "widespread-collection",
   "metadata": {},
   "outputs": [],
   "source": [
    "n_matched_vals = len(all_matched_vals)\n",
    "n_unmatched_vals = len(all_unmatched_vals)\n",
    "p_match = n_matched_vals / (n_matched_vals + n_unmatched_vals)\n",
    "p_unmatch = 1.0 - p_match"
   ]
  },
  {
   "cell_type": "markdown",
   "id": "neural-worker",
   "metadata": {},
   "source": [
    "### t-test with multihypothesis correction"
   ]
  },
  {
   "cell_type": "code",
   "execution_count": null,
   "id": "supposed-aerospace",
   "metadata": {},
   "outputs": [],
   "source": [
    "import statsmodels.stats.multitest\n",
    "\n",
    "mean_match = np.mean(all_matched_vals)\n",
    "\n",
    "gene_group_ttest_pval = []\n",
    "gene_group_ttest_gene = []\n",
    "for key, val in gene_groups.items():\n",
    "    if len(val) > 1:\n",
    "        gene_group_ttest_gene.append(key)\n",
    "        gene_group_ttest_pval.append(\n",
    "            sp.stats.ttest_1samp(\n",
    "                gene_groups[key], mean_match, alternative=\"greater\"\n",
    "            ).pvalue\n",
    "        )\n",
    "\n",
    "gene_group_ttest_pval = np.array(gene_group_ttest_pval)\n",
    "gene_group_ttest_gene = np.array(gene_group_ttest_gene)\n",
    "\n",
    "rejected, pval_corr = statsmodels.stats.multitest.fdrcorrection(\n",
    "    gene_group_ttest_pval, alpha=0.01, method=\"indep\", is_sorted=False\n",
    ")"
   ]
  },
  {
   "cell_type": "code",
   "execution_count": null,
   "id": "returning-childhood",
   "metadata": {
    "tags": []
   },
   "outputs": [],
   "source": [
    "gene_group_ttest_gene[rejected]"
   ]
  },
  {
   "cell_type": "markdown",
   "id": "green-berkeley",
   "metadata": {},
   "source": [
    "### Highlight Genes of Interest"
   ]
  },
  {
   "cell_type": "code",
   "execution_count": null,
   "id": "caroline-permission",
   "metadata": {},
   "outputs": [],
   "source": [
    "fig = highlight_gene_group(paga_df, gene_group_ttest_gene[rejected])\n",
    "fig.savefig(\"./3_Divergent_Genes/divergent_genes.png\", dpi=150)"
   ]
  },
  {
   "cell_type": "markdown",
   "id": "clinical-valve",
   "metadata": {},
   "source": [
    "### Examining Individuals\n",
    "\n",
    " - Temporarily importing nanopore output since coordinate fix not pushed through intermediate steps in the pipeline"
   ]
  },
  {
   "cell_type": "code",
   "execution_count": null,
   "id": "deluxe-enforcement",
   "metadata": {},
   "outputs": [],
   "source": [
    "import ast\n",
    "\n",
    "import pandas as ps"
   ]
  },
  {
   "cell_type": "code",
   "execution_count": null,
   "id": "handed-pound",
   "metadata": {
    "tags": []
   },
   "outputs": [],
   "source": [
    "nanopore_df = pd.read_csv(\n",
    "    \"/home/de64/paulssonlab/paulssonlab/src/paulssonlab/deaton/nanopore/dev_notebooks/2021-07-11_snakemake_lDE20/2021-04-20_Essential_KO_Lib_df_coords_corrected.tsv\",\n",
    "    sep=\"\\t\",\n",
    ")\n",
    "nanopore_df[\"Target Sites\"][~nanopore_df[\"Target Sites\"].isna()] = nanopore_df[\n",
    "    \"Target Sites\"\n",
    "][~nanopore_df[\"Target Sites\"].isna()].apply(lambda x: ast.literal_eval(x))"
   ]
  },
  {
   "cell_type": "markdown",
   "id": "taken-herald",
   "metadata": {},
   "source": [
    "#### Get RegulonDB Files"
   ]
  },
  {
   "cell_type": "code",
   "execution_count": null,
   "id": "potential-apartment",
   "metadata": {},
   "outputs": [],
   "source": [
    "import urllib.request\n",
    "\n",
    "from Bio import SeqIO\n",
    "from dna_features_viewer import BiopythonTranslator"
   ]
  },
  {
   "cell_type": "code",
   "execution_count": null,
   "id": "dominant-publicity",
   "metadata": {},
   "outputs": [],
   "source": [
    "urllib.request.urlretrieve(\n",
    "    \"http://regulondb.ccg.unam.mx/menu/download/datasets/files/U00096.3.gbk\",\n",
    "    \"./U00096.3.gbk\",\n",
    ")"
   ]
  },
  {
   "cell_type": "code",
   "execution_count": null,
   "id": "governmental-birthday",
   "metadata": {},
   "outputs": [],
   "source": [
    "urllib.request.urlretrieve(\n",
    "    \"http://regulondb.ccg.unam.mx/menu/download/datasets/files/PromoterSet.txt\",\n",
    "    \"./PromoterSet.txt\",\n",
    ")"
   ]
  },
  {
   "cell_type": "code",
   "execution_count": null,
   "id": "peaceful-mirror",
   "metadata": {},
   "outputs": [],
   "source": [
    "from Bio import SeqIO\n",
    "from Bio.SeqFeature import FeatureLocation, SeqFeature\n",
    "from dna_features_viewer import BiopythonTranslator\n",
    "\n",
    "\n",
    "class sgRNA_Explorer(BiopythonTranslator):\n",
    "    \"\"\"Custom translator implementing the following theme:\n",
    "\n",
    "    - Color terminators in green, CDS in blue, all other features in gold.\n",
    "    - Do not display features that are restriction sites unless they are BamHI\n",
    "    - Do not display labels for restriction sites.\n",
    "    - For CDS labels just write \"CDS here\" instead of the name of the gene.\n",
    "\n",
    "    \"\"\"\n",
    "\n",
    "    def __init__(self, ignored_features_types=[\"CDS\"]):\n",
    "        self.ignored_features_types = ignored_features_types\n",
    "        super(sgRNA_Explorer, self).__init__()\n",
    "\n",
    "    def compute_feature_color(self, feature):\n",
    "        if feature.type == \"CDS\":\n",
    "            return \"#1f77b4\"\n",
    "        elif feature.type == \"terminator\":\n",
    "            return \"#279e68\"\n",
    "        elif feature.type == \"promoter\":\n",
    "            return \"#aa40fc\"\n",
    "        elif feature.type == \"sgRNA\":\n",
    "            return \"#d62728\"\n",
    "        else:\n",
    "            return \"#aec7e8\"\n",
    "\n",
    "\n",
    "def add_promoters_to_genbank(genome_record, promoter_df):\n",
    "    promoter_feature_list = []\n",
    "    for index, promoter in promoter_df.iterrows():\n",
    "        if promoter[\"Strand\"] == \"forward\":\n",
    "            promoter_feature = SeqFeature(\n",
    "                location=FeatureLocation(promoter[\"TSS\"], promoter[\"TSS\"]),\n",
    "                type=\"promoter\",\n",
    "                strand=1,\n",
    "            )\n",
    "            promoter_feature.qualifiers[\"gene\"] = promoter[\"Name\"]\n",
    "            promoter_feature_list.append(promoter_feature)\n",
    "        else:\n",
    "            promoter_feature = SeqFeature(\n",
    "                location=FeatureLocation(promoter[\"TSS\"], promoter[\"TSS\"]),\n",
    "                type=\"promoter\",\n",
    "                strand=-1,\n",
    "            )\n",
    "            promoter_feature.qualifiers[\"gene\"] = promoter[\"Name\"]\n",
    "            promoter_feature_list.append(promoter_feature)\n",
    "    genome_record.features = genome_record.features + promoter_feature_list\n",
    "    return genome_record\n",
    "\n",
    "\n",
    "def display_target_sites(genome_record, target_site_list, translator, view_pad=1000):\n",
    "    strand_dict = {\"+\": 1, \"-\": -1}\n",
    "\n",
    "    n_targets = len(target_site_list)\n",
    "\n",
    "    for target_site in target_site_list:\n",
    "        start_coord = target_site[0] - view_pad\n",
    "        end_coord = target_site[1] + view_pad\n",
    "\n",
    "        sub_genome_record = genome_record[start_coord:end_coord]\n",
    "        sgRNA = SeqFeature(\n",
    "            location=FeatureLocation(view_pad, view_pad + 20),\n",
    "            type=\"sgRNA\",\n",
    "            strand=strand_dict[target_site[2]],\n",
    "        )\n",
    "\n",
    "        sgRNA.qualifiers[\"gene\"] = \"sgRNA\"\n",
    "\n",
    "        sub_genome_record.features = sub_genome_record.features + [sgRNA]\n",
    "        graphic_record = translator.translate_record(sub_genome_record)\n",
    "\n",
    "        ax, _ = graphic_record.plot(figure_width=10, strand_in_label_threshold=7)\n",
    "\n",
    "\n",
    "def display_target_sites_single_locus(\n",
    "    genome_record, target_site_dict, translator, view_pad=2000, outer_context_pad=20000\n",
    "):\n",
    "    strand_dict = {\"+\": 1, \"-\": -1}\n",
    "\n",
    "    n_targets = len(target_site_dict)\n",
    "    first_key = list(target_site_dict.keys())[0]\n",
    "\n",
    "    outer_start_coord = target_site_dict[first_key][0] - outer_context_pad\n",
    "    outer_end_coord = target_site_dict[first_key][1] + outer_context_pad\n",
    "\n",
    "    start_coord = target_site_dict[first_key][0] - outer_start_coord\n",
    "    end_coord = target_site_dict[first_key][1] - outer_start_coord\n",
    "\n",
    "    sub_genome_record = genome_record[outer_start_coord:outer_end_coord]\n",
    "\n",
    "    for targetid, target_site in target_site_dict.items():\n",
    "        sgRNA = SeqFeature(\n",
    "            location=FeatureLocation(\n",
    "                target_site[0] - outer_start_coord, target_site[1] - outer_start_coord\n",
    "            ),\n",
    "            type=\"sgRNA\",\n",
    "            strand=strand_dict[target_site[2]],\n",
    "        )\n",
    "\n",
    "        sgRNA.qualifiers[\"gene\"] = str(targetid)\n",
    "\n",
    "        sub_genome_record.features = sub_genome_record.features + [sgRNA]\n",
    "    graphic_record = translator.translate_record(sub_genome_record)\n",
    "\n",
    "    cropped_record = graphic_record.crop((start_coord - view_pad, end_coord + view_pad))\n",
    "\n",
    "    ax, _ = cropped_record.plot(figure_width=10, strand_in_label_threshold=7)\n",
    "\n",
    "\n",
    "def gene_to_target_dict(df, nanopore_df, gene_name):\n",
    "    subset_df = df[df[\"Gene\"] == gene_name]\n",
    "    subset_targetid_list = (\n",
    "        subset_df.groupby(\"TargetID\").apply(lambda x: x.iloc[0])[\"TargetID\"].tolist()\n",
    "    )\n",
    "\n",
    "    target_site_dict = (\n",
    "        nanopore_df[nanopore_df[\"TargetID\"].isin(subset_targetid_list)]\n",
    "        .groupby(\"TargetID\")\n",
    "        .apply(lambda x: x.iloc[0])[\"Target Sites\"]\n",
    "        .to_dict()\n",
    "    )\n",
    "    target_site_dict = {\n",
    "        key: item for key, val in target_site_dict.items() for item in val\n",
    "    }  # unwrapping target sites\n",
    "\n",
    "    return target_site_dict, subset_df"
   ]
  },
  {
   "cell_type": "markdown",
   "id": "prescription-modern",
   "metadata": {},
   "source": [
    "#### Make Reference SeqRecord"
   ]
  },
  {
   "cell_type": "code",
   "execution_count": null,
   "id": "domestic-session",
   "metadata": {},
   "outputs": [],
   "source": [
    "genome_record = SeqIO.read(\"./U00096.3.gbk\", \"genbank\")\n",
    "promoter_df = pd.read_csv(\n",
    "    \"./PromoterSet.txt\",\n",
    "    sep=\"\\t\",\n",
    "    skiprows=37,\n",
    "    names=[\n",
    "        \"ID\",\n",
    "        \"Name\",\n",
    "        \"Strand\",\n",
    "        \"TSS\",\n",
    "        \"Sigma Factor\",\n",
    "        \"Sequence\",\n",
    "        \"Evidence\",\n",
    "        \"Confidence\",\n",
    "    ],\n",
    ")\n",
    "promoter_df = promoter_df[promoter_df[\"Confidence\"] == \"Strong\"]\n",
    "genome_record_merged = add_promoters_to_genbank(genome_record, promoter_df)"
   ]
  },
  {
   "cell_type": "code",
   "execution_count": null,
   "id": "raising-groove",
   "metadata": {},
   "outputs": [],
   "source": [
    "genome_record_merged"
   ]
  },
  {
   "cell_type": "markdown",
   "id": "fitting-ancient",
   "metadata": {},
   "source": [
    "#### Initialize Viewer"
   ]
  },
  {
   "cell_type": "code",
   "execution_count": null,
   "id": "talented-nylon",
   "metadata": {},
   "outputs": [],
   "source": [
    "translator = sgRNA_Explorer()"
   ]
  },
  {
   "cell_type": "code",
   "execution_count": null,
   "id": "framed-stage",
   "metadata": {},
   "outputs": [],
   "source": [
    "divergent_df = paga_df.obs[paga_df.obs[\"Gene\"].isin(gene_group_ttest_gene[rejected])]"
   ]
  },
  {
   "cell_type": "code",
   "execution_count": null,
   "id": "martial-playback",
   "metadata": {},
   "outputs": [],
   "source": [
    "divergent_df[\"Gene\"].unique().tolist()"
   ]
  },
  {
   "cell_type": "code",
   "execution_count": null,
   "id": "chemical-salad",
   "metadata": {},
   "outputs": [],
   "source": [
    "fig = sc.pl.umap(\n",
    "    paga_df,\n",
    "    color=[\"leiden_lowres\", \"leiden\", \"leiden_highres\"],\n",
    "    title=[\"Leiden Resolution=0.25\", \"Leiden Resolution=1.\", \"Leiden Resolution=1.5\"],\n",
    "    show=False,\n",
    "    legend_loc=\"on data\",\n",
    "    edges=True,\n",
    "    add_outline=False,\n",
    "    size=50,\n",
    "    return_fig=True,\n",
    "    palette=vega_20_scanpy,\n",
    ")\n",
    "# fig.savefig(\"./1_Global_Analysis/Global_PAGA.png\",dpi=150)"
   ]
  },
  {
   "cell_type": "code",
   "execution_count": null,
   "id": "guilty-aberdeen",
   "metadata": {},
   "outputs": [],
   "source": [
    "for gene in divergent_df[\"Gene\"].unique().tolist():\n",
    "    target_site_dict, subset_df = gene_to_target_dict(paga_df.obs, nanopore_df, gene)\n",
    "    highlight_gene_group(paga_df, [gene])\n",
    "    plt.show()\n",
    "    display_target_sites_single_locus(\n",
    "        genome_record, target_site_dict, translator, view_pad=1000\n",
    "    )\n",
    "    print(subset_df.reset_index().set_index(\"TargetID\").sort_index()[\"leiden_lowres\"])\n",
    "    plt.show()"
   ]
  },
  {
   "cell_type": "code",
   "execution_count": null,
   "id": "local-volume",
   "metadata": {},
   "outputs": [],
   "source": [
    "def plot_selected_timeseries(df, figsize=(30, 10)):\n",
    "    feature_labels = [\n",
    "        \"Linear Growth Rate\",\n",
    "        \"Exponential Growth Rate\",\n",
    "        \"Division Length\",\n",
    "        \"Width\",\n",
    "        \"mCherry Intensity\",\n",
    "        \"Doubling Time\",\n",
    "    ]\n",
    "\n",
    "    feature_ranges = [\n",
    "        (0, 15),\n",
    "        (0.5, 1.5),\n",
    "        (4.0, 15.0),\n",
    "        (1.2, 1.4),\n",
    "        (1200, 3000),\n",
    "        (6, 15),\n",
    "    ]\n",
    "\n",
    "    len_labels = len(feature_labels)\n",
    "\n",
    "    feature_series_list = []\n",
    "    for feature_label in feature_labels:\n",
    "        feature_series = df.groupby([\"Gene\", \"TargetID\"]).apply(\n",
    "            lambda x: x[feature_label].tolist()\n",
    "        )\n",
    "        feature_series_list.append(feature_series)\n",
    "\n",
    "    len_series = len(feature_series)\n",
    "\n",
    "    fig = plt.figure(figsize=figsize)\n",
    "\n",
    "    for j, feature_series in enumerate(feature_series_list):\n",
    "        for i, (idx, row) in enumerate(feature_series.iteritems()):\n",
    "            plot_arr = np.array(row).T\n",
    "            ax = plt.subplot(len(feature_labels), len_series, (j * len_series) + i + 1)\n",
    "            ax.set_title(str(idx) + \": \" + feature_labels[j])\n",
    "            ax.set_ylim(feature_ranges[j])\n",
    "            ax.plot(plot_arr, color=\"tab:blue\")\n",
    "    plt.tight_layout()\n",
    "    plt.show()"
   ]
  },
  {
   "cell_type": "code",
   "execution_count": null,
   "id": "academic-boating",
   "metadata": {},
   "outputs": [],
   "source": [
    "divergent_goi_df = divergent_df[divergent_df[\"Gene\"].isin([\"minC\"])]\n",
    "divergent_goi_df[\"Gene\"] = divergent_goi_df[\"Gene\"].astype(str)\n",
    "plot_selected_timeseries(divergent_goi_df, figsize=(15, 15))"
   ]
  },
  {
   "cell_type": "code",
   "execution_count": null,
   "id": "coated-lightweight",
   "metadata": {},
   "outputs": [],
   "source": [
    "divergent_goi_df = divergent_df[divergent_df[\"Gene\"].isin([\"fabH\"])]\n",
    "divergent_goi_df[\"Gene\"] = divergent_goi_df[\"Gene\"].astype(str)\n",
    "plot_selected_timeseries(divergent_goi_df, figsize=(15, 15))"
   ]
  },
  {
   "cell_type": "code",
   "execution_count": null,
   "id": "included-bargain",
   "metadata": {},
   "outputs": [],
   "source": [
    "divergent_goi_df = divergent_df[divergent_df[\"Gene\"].isin([\"fabG\"])]\n",
    "divergent_goi_df[\"Gene\"] = divergent_goi_df[\"Gene\"].astype(str)\n",
    "plot_selected_timeseries(divergent_goi_df, figsize=(15, 15))"
   ]
  },
  {
   "cell_type": "code",
   "execution_count": null,
   "id": "binding-opinion",
   "metadata": {},
   "outputs": [],
   "source": [
    "divergent_goi_df.columns"
   ]
  },
  {
   "cell_type": "code",
   "execution_count": null,
   "id": "expected-amount",
   "metadata": {},
   "outputs": [],
   "source": [
    "divergent_goi_df = divergent_df[divergent_df[\"Gene\"].isin([\"rne\"])]\n",
    "divergent_goi_df[\"Gene\"] = divergent_goi_df[\"Gene\"].astype(str)\n",
    "plot_selected_timeseries(divergent_goi_df, figsize=(15, 15))"
   ]
  },
  {
   "cell_type": "markdown",
   "id": "documentary-learning",
   "metadata": {},
   "source": [
    "## 4) Titrations\n"
   ]
  },
  {
   "cell_type": "code",
   "execution_count": null,
   "id": "anticipated-actor",
   "metadata": {},
   "outputs": [],
   "source": [
    "import anndata\n",
    "import dask.array as da\n",
    "import igraph as ig\n",
    "import leidenalg\n",
    "import networkx as nx\n",
    "import scanpy as sc\n",
    "import scipy as sp\n",
    "import scipy.sparse\n",
    "import umap\n",
    "from igraph.drawing.text import TextDrawer\n",
    "from scanpy.plotting.palettes import default_20, vega_20_scanpy\n",
    "from tslearn.metrics import cdist_soft_dtw, cdist_soft_dtw_normalized\n",
    "from tslearn.neighbors import KNeighborsTimeSeries"
   ]
  },
  {
   "cell_type": "code",
   "execution_count": null,
   "id": "super-faculty",
   "metadata": {},
   "outputs": [],
   "source": [
    "def get_pearson_df(titration_df, variable_name, pearson_p_val=0.05):\n",
    "    var_df = (\n",
    "        titration_df.groupby(\"TargetID\")\n",
    "        .apply(lambda x: x[variable_name].tolist())\n",
    "        .to_frame()\n",
    "    )\n",
    "    var_df = var_df.rename(columns={0: variable_name})\n",
    "    var_df[\"N Match\"] = titration_df.groupby(\"TargetID\").apply(\n",
    "        lambda x: x[\"N Match\"].tolist()\n",
    "    )\n",
    "    var_df[variable_name + \": Pearson R\"] = var_df.apply(\n",
    "        lambda x: sp.stats.pearsonr(x[\"N Match\"], x[variable_name])[0], axis=1\n",
    "    )\n",
    "    var_df[variable_name + \": Pearson P-val\"] = var_df.apply(\n",
    "        lambda x: sp.stats.pearsonr(x[\"N Match\"], x[variable_name])[1], axis=1\n",
    "    )\n",
    "\n",
    "    return var_df"
   ]
  },
  {
   "cell_type": "markdown",
   "id": "cooperative-tracker",
   "metadata": {},
   "source": [
    "### Looking at all targetids (including filtered out and unclustered)"
   ]
  },
  {
   "cell_type": "code",
   "execution_count": null,
   "id": "useful-circular",
   "metadata": {
    "tags": []
   },
   "outputs": [],
   "source": [
    "import statsmodels.stats.multitest\n",
    "\n",
    "min_titration = 4\n",
    "fdr_p_val_thr = 0.1\n",
    "var_list = [\n",
    "    \"Linear Growth Rate: Mean\",\n",
    "    \"Exponential Growth Rate: Mean\",\n",
    "    \"Division Length: Mean\",\n",
    "    \"Width: Mean\",\n",
    "    \"mCherry Intensity: Mean\",\n",
    "    \"Doubling Time: Mean\",\n",
    "]\n",
    "\n",
    "gene_cluster_df_full[\"N Match\"] = 20 - gene_cluster_df_full[\"N Mismatch\"]\n",
    "\n",
    "target_count_series = gene_cluster_df_full.groupby(\"TargetID\").apply(lambda x: len(x))\n",
    "targetid_above_thr = target_count_series[\n",
    "    target_count_series >= min_titration\n",
    "].index.tolist()\n",
    "titration_df = gene_cluster_df_full[\n",
    "    gene_cluster_df_full[\"TargetID\"].isin(targetid_above_thr)\n",
    "]\n",
    "\n",
    "# titration_df_pearson = titration_df.dropna(subset=['N Match'] + var_list)\n",
    "pearson_df = titration_df.groupby(\"TargetID\").apply(lambda x: x.iloc[0])\n",
    "\n",
    "for var_label in var_list:\n",
    "    var_df = get_pearson_df(titration_df, var_label)\n",
    "    pearson_df[var_label + \": Pearson R\"] = var_df[var_label + \": Pearson R\"]\n",
    "    pearson_df[var_label + \": Pearson P-val\"] = var_df[var_label + \": Pearson P-val\"]\n",
    "\n",
    "pearson_p_labels = [var_label + \": Pearson P-val\" for var_label in var_list]\n",
    "pearson_r_labels = [var_label + \": Pearson R\" for var_label in var_list]\n",
    "\n",
    "pearson_r_sig = np.any(\n",
    "    [\n",
    "        statsmodels.stats.multitest.fdrcorrection(\n",
    "            pearson_df[pearson_p_label].tolist(),\n",
    "            fdr_p_val_thr,\n",
    "            method=\"indep\",\n",
    "            is_sorted=False,\n",
    "        )[0]\n",
    "        for pearson_p_label in pearson_p_labels\n",
    "    ],\n",
    "    axis=0,\n",
    ")\n",
    "pearson_r_sig_df = pearson_df[pearson_r_sig]\n",
    "\n",
    "n_targetids = len(gene_cluster_df_full[\"TargetID\"].unique().tolist())\n",
    "n_titration_targetids = np.sum(pearson_r_sig)\n",
    "\n",
    "# pos_arr = (pearson_r_sig_df[pearson_r_labels]>0.).values\n",
    "# neg_arr = (pearson_r_sig_df[pearson_r_labels]<=0.).values\n",
    "# sig_arr = (pearson_r_sig_df[pearson_p_labels]<pearson_p_val_thr).values\n",
    "\n",
    "# sig_pos_arr = sig_arr*pos_arr\n",
    "# sig_neg_arr = sig_arr*neg_arr\n",
    "\n",
    "# pearson_r_sig_df[\"Pearson Significant Positive\"] = [item for item in sig_pos_arr]\n",
    "# pearson_r_sig_df[\"Pearson Significant Negative\"] = [item for item in sig_neg_arr]"
   ]
  },
  {
   "cell_type": "code",
   "execution_count": null,
   "id": "micro-child",
   "metadata": {},
   "outputs": [],
   "source": [
    "pearson_r_sig"
   ]
  },
  {
   "cell_type": "code",
   "execution_count": null,
   "id": "sunrise-layout",
   "metadata": {},
   "outputs": [],
   "source": [
    "print(n_titration_targetids / n_targetids)"
   ]
  },
  {
   "cell_type": "code",
   "execution_count": null,
   "id": "organic-costume",
   "metadata": {},
   "outputs": [],
   "source": [
    "genes_with_titration = sorted(pearson_r_sig_df[\"Gene\"].unique().tolist())\n",
    "all_genes = sorted(gene_cluster_df_full[\"Gene\"].unique().tolist())\n",
    "genes_wo_titration = sorted(list(set(all_genes) - set(genes_with_titration)))"
   ]
  },
  {
   "cell_type": "code",
   "execution_count": null,
   "id": "refined-falls",
   "metadata": {},
   "outputs": [],
   "source": [
    "len(genes_with_titration)"
   ]
  },
  {
   "cell_type": "code",
   "execution_count": null,
   "id": "extended-warehouse",
   "metadata": {},
   "outputs": [],
   "source": [
    "len(all_genes)"
   ]
  },
  {
   "cell_type": "code",
   "execution_count": null,
   "id": "elegant-attention",
   "metadata": {},
   "outputs": [],
   "source": [
    "len(genes_wo_titration)"
   ]
  },
  {
   "cell_type": "markdown",
   "id": "foster-estonia",
   "metadata": {},
   "source": [
    "### Looking at clustered targetids"
   ]
  },
  {
   "cell_type": "code",
   "execution_count": null,
   "id": "simple-peripheral",
   "metadata": {},
   "outputs": [],
   "source": [
    "titratable_targetids = pearson_r_sig_df.index.unique().tolist()\n",
    "titratable_mask = paga_df.obs[\"TargetID\"].isin(titratable_targetids)\n",
    "titration_paga_df = paga_df[titratable_mask]"
   ]
  },
  {
   "cell_type": "code",
   "execution_count": null,
   "id": "requested-schedule",
   "metadata": {
    "tags": []
   },
   "outputs": [],
   "source": [
    "cluster_labels = [\"leiden_lowres\", \"leiden\", \"leiden_highres\"]\n",
    "\n",
    "for cluster_label in cluster_labels:\n",
    "    cluster_ids = titration_paga_df.obs[cluster_label].cat.categories.tolist()\n",
    "    for cluster_id in cluster_ids:\n",
    "        cluster_df = titration_paga_df.obs[\n",
    "            titration_paga_df.obs[cluster_label] == cluster_id\n",
    "        ]\n",
    "        targetid_list = sorted(cluster_df[\"TargetID\"].unique().tolist())\n",
    "\n",
    "        n_targetids = len(targetid_list)\n",
    "\n",
    "        var_names = [\n",
    "            \"Linear Growth Rate: Mean\",\n",
    "            \"Exponential Growth Rate: Mean\",\n",
    "            \"Division Length: Mean\",\n",
    "            \"Width: Mean\",\n",
    "            \"mCherry Intensity: Mean\",\n",
    "            \"Doubling Time: Mean\",\n",
    "        ]\n",
    "\n",
    "        display_var_names = [\n",
    "            \"Linear Growth Rate\",\n",
    "            \"Exponential Growth Rate\",\n",
    "            \"Division Length\",\n",
    "            \"Mean Width\",\n",
    "            \"mCherry Intensity\",\n",
    "            \"Doubling Time\",\n",
    "        ]\n",
    "\n",
    "        feature_ranges = [\n",
    "            (0, 15),\n",
    "            (0.5, 1.5),\n",
    "            (4.0, 15.0),\n",
    "            (1.2, 1.4),\n",
    "            (1200, 3000),\n",
    "            (6, 15),\n",
    "        ]\n",
    "\n",
    "        figsize = (int(2.5 * n_targetids) + 1, 15)\n",
    "        wspace = 0.25\n",
    "        hspace = 0.25\n",
    "        fontsize = 14\n",
    "\n",
    "        step_size = 20\n",
    "\n",
    "        for idx, n in enumerate(list(range(0, n_targetids, step_size))):\n",
    "            sub_targetid_list = targetid_list[n : n + step_size]\n",
    "\n",
    "            fig = plt.figure(constrained_layout=True, figsize=figsize)\n",
    "            gs = fig.add_gridspec(1, len(sub_targetid_list), wspace=wspace)\n",
    "\n",
    "            for i, targetid in enumerate(sub_targetid_list):\n",
    "                selected_targetid_df = gene_cluster_df_full[\n",
    "                    gene_cluster_df_full[\"TargetID\"] == targetid\n",
    "                ]\n",
    "\n",
    "                inner_gs = gs[0, i].subgridspec(\n",
    "                    len(var_names), 1, wspace=0, hspace=hspace\n",
    "                )\n",
    "                inner_grid_sub = inner_gs.subplots(sharex=True)\n",
    "\n",
    "                for j, ax in np.ndenumerate(inner_grid_sub):\n",
    "                    var_name = var_names[j[0]]\n",
    "                    ax.scatter(\n",
    "                        selected_targetid_df[\"N Match\"], selected_targetid_df[var_name]\n",
    "                    )\n",
    "                    ax.set_ylabel(display_var_names[j[0]], fontsize=fontsize)\n",
    "                    ax.set_ylim(feature_ranges[j[0]])\n",
    "\n",
    "                ax.set_xlabel(\n",
    "                    selected_targetid_df[\"Gene\"].iloc[0]\n",
    "                    + \" TargetID: \"\n",
    "                    + str(targetid),\n",
    "                    fontsize=fontsize,\n",
    "                )\n",
    "\n",
    "            plt.tight_layout()\n",
    "            plt.savefig(\n",
    "                \"4_Titrations/\"\n",
    "                + cluster_label\n",
    "                + \"_\"\n",
    "                + str(cluster_id)\n",
    "                + \"_Part_\"\n",
    "                + str(idx)\n",
    "                + \".png\",\n",
    "                dpi=75,\n",
    "            )"
   ]
  },
  {
   "cell_type": "markdown",
   "id": "sticky-geometry",
   "metadata": {},
   "source": [
    "## 5) Examining Hits"
   ]
  },
  {
   "cell_type": "code",
   "execution_count": null,
   "id": "bacterial-opposition",
   "metadata": {},
   "outputs": [],
   "source": [
    "fig = sc.pl.umap(\n",
    "    paga_df,\n",
    "    color=[\"leiden_lowres\", \"leiden\", \"leiden_highres\"],\n",
    "    title=[\"Leiden Resolution=0.25\", \"Leiden Resolution=1.\", \"Leiden Resolution=1.5\"],\n",
    "    show=False,\n",
    "    legend_loc=\"on data\",\n",
    "    edges=True,\n",
    "    add_outline=False,\n",
    "    size=50,\n",
    "    return_fig=True,\n",
    "    palette=vega_20_scanpy,\n",
    ")"
   ]
  },
  {
   "cell_type": "markdown",
   "id": "employed-yield",
   "metadata": {},
   "source": [
    "### Gene Browser"
   ]
  },
  {
   "cell_type": "code",
   "execution_count": null,
   "id": "helpful-slovenia",
   "metadata": {},
   "outputs": [],
   "source": [
    "gene_browser_df = copy.deepcopy(feature_paga_df.obs)\n",
    "gene_browser_df = gene_browser_df.reset_index()"
   ]
  },
  {
   "cell_type": "code",
   "execution_count": null,
   "id": "appropriate-psychiatry",
   "metadata": {},
   "outputs": [],
   "source": [
    "gene_browser_df = gene_browser_df[\n",
    "    [\n",
    "        \"sgRNAid\",\n",
    "        \"TargetID\",\n",
    "        \"Gene\",\n",
    "        \"phenotype trenchids\",\n",
    "        \"N Mismatch\",\n",
    "        \"N Target Sites\",\n",
    "        \"Category\",\n",
    "        \"Strand\",\n",
    "        \"leiden_lowres\",\n",
    "        \"leiden\",\n",
    "        \"leiden_highres\",\n",
    "    ]\n",
    "]\n",
    "gene_browser_df[\"sgRNAid\"] = gene_browser_df[\"sgRNAid\"].astype(int)"
   ]
  },
  {
   "cell_type": "code",
   "execution_count": null,
   "id": "municipal-attention",
   "metadata": {
    "tags": []
   },
   "outputs": [],
   "source": [
    "kymo_xarr = tr.kymo_xarr(\n",
    "    \"/home/de64/scratch/de64/sync_folder/2021-06-14_lDE20_biofloat_fullrun_1/Growth_Division\"\n",
    ")\n",
    "wrapped_kymo_xarr = tr.kymo_xarr(\n",
    "    \"/home/de64/scratch/de64/sync_folder/2021-06-14_lDE20_biofloat_fullrun_1/Growth_Division\",\n",
    "    unwrap=False,\n",
    ")"
   ]
  },
  {
   "cell_type": "code",
   "execution_count": null,
   "id": "golden-problem",
   "metadata": {},
   "outputs": [],
   "source": [
    "# gene_table_layout,select_gene,select_trenchid,select_unpacked_trenchid = tr.linked_table(gene_browser_df,index_key='leiden',trenchids_as_list=True,trenchid_column='phenotype trenchids')\n",
    "(\n",
    "    gene_table_layout,\n",
    "    select_gene,\n",
    "    select_trenchid,\n",
    "    select_unpacked_trenchid,\n",
    ") = tr.linked_table(\n",
    "    gene_browser_df,\n",
    "    index_key=\"Gene\",\n",
    "    trenchids_as_list=True,\n",
    "    trenchid_column=\"phenotype trenchids\",\n",
    ")"
   ]
  },
  {
   "cell_type": "code",
   "execution_count": null,
   "id": "labeled-acceptance",
   "metadata": {
    "tags": []
   },
   "outputs": [],
   "source": [
    "gene_table_layout"
   ]
  },
  {
   "cell_type": "code",
   "execution_count": null,
   "id": "federal-column",
   "metadata": {},
   "outputs": [],
   "source": [
    "output_display, save_button = tr.linked_kymograph_for_table(\n",
    "    kymo_xarr,\n",
    "    wrapped_kymo_xarr,\n",
    "    gene_browser_df,\n",
    "    select_gene,\n",
    "    select_trenchid,\n",
    "    index_key=\"Gene\",\n",
    "    select_unpacked_trenchid=select_unpacked_trenchid,\n",
    "    trenchid_column=\"phenotype trenchids\",\n",
    "    y_scale=3,\n",
    "    x_window_size=300,\n",
    ")"
   ]
  },
  {
   "cell_type": "code",
   "execution_count": null,
   "id": "secondary-louisiana",
   "metadata": {},
   "outputs": [],
   "source": [
    "output_display"
   ]
  },
  {
   "cell_type": "code",
   "execution_count": null,
   "id": "appointed-branch",
   "metadata": {},
   "outputs": [],
   "source": [
    "save_button"
   ]
  },
  {
   "cell_type": "code",
   "execution_count": null,
   "id": "informed-problem",
   "metadata": {},
   "outputs": [],
   "source": [
    "target_site_dict, subset_df = gene_to_target_dict(paga_df.obs, nanopore_df, \"ftsZ\")\n",
    "display_target_sites_single_locus(\n",
    "    genome_record, target_site_dict, translator, view_pad=2000\n",
    ")"
   ]
  },
  {
   "cell_type": "markdown",
   "id": "female-attraction",
   "metadata": {},
   "source": [
    "### Replication Initiation Defects\n",
    "\n",
    "Genes: ['dnaA', 'dnaB', 'infA', 'rne']"
   ]
  },
  {
   "cell_type": "code",
   "execution_count": null,
   "id": "absolute-script",
   "metadata": {},
   "outputs": [],
   "source": [
    "dna_rep_df = paga_df.obs[paga_df.obs[\"leiden\"] == \"13\"]\n",
    "dna_rep_df[\"Gene\"] = dna_rep_df[\"Gene\"].astype(str)\n",
    "\n",
    "feature_labels = [\n",
    "    \"Linear Growth Rate\",\n",
    "    \"Exponential Growth Rate\",\n",
    "    \"Division Length\",\n",
    "    \"Width\",\n",
    "    \"mCherry Intensity\",\n",
    "    \"Doubling Time\",\n",
    "]\n",
    "\n",
    "feature_ranges = [(5, 10), (1.0, 1.5), (6.0, 10.0), (1.2, 1.4), (1200, 2000), (6, 12)]\n",
    "\n",
    "len_labels = len(feature_labels)\n",
    "\n",
    "feature_series_list = []\n",
    "for feature_label in feature_labels:\n",
    "    feature_series = dna_rep_df.groupby(\"Gene\").apply(\n",
    "        lambda x: x[feature_label].tolist()\n",
    "    )\n",
    "    feature_series_list.append(feature_series)\n",
    "\n",
    "len_series = len(feature_series)\n",
    "\n",
    "fig = plt.figure(figsize=(10, 10))\n",
    "\n",
    "for j, feature_series in enumerate(feature_series_list):\n",
    "    for i, (idx, row) in enumerate(feature_series.iteritems()):\n",
    "        plot_arr = np.array(row).T\n",
    "        ax = plt.subplot(len(feature_labels), len_series, (j * len_series) + i + 1)\n",
    "        ax.set_title(idx + \": \" + feature_labels[j])\n",
    "        ax.set_ylim(feature_ranges[j])\n",
    "        ax.plot(plot_arr, color=\"tab:blue\")\n",
    "plt.tight_layout()\n",
    "plt.show()"
   ]
  },
  {
   "cell_type": "code",
   "execution_count": null,
   "id": "bored-tru
stee",
   "metadata": {},
   "outputs": [],
   "source": [
    "target_site_dict, subset_df = gene_to_target_dict(paga_df.obs, nanopore_df, \"dnaA\")\n",
    "display_target_sites_single_locus(\n",
    "    genome_record, target_site_dict, translator, view_pad=3000\n",
    ")"
   ]
  },
  {
   "cell_type": "code",
   "execution_count": null,
   "id": "interior-mustang",
   "metadata": {},
   "outputs": [],
   "source": [
    "target_site_dict, subset_df = gene_to_target_dict(paga_df.obs, nanopore_df, \"dnaB\")\n",
    "display_target_sites_single_locus(\n",
    "    genome_record, target_site_dict, translator, view_pad=3000\n",
    ")"
   ]
  },
  {
   "cell_type": "code",
   "execution_count": null,
   "id": "formed-ethernet",
   "metadata": {},
   "outputs": [],
   "source": [
    "target_site_dict, subset_df = gene_to_target_dict(paga_df.obs, nanopore_df, \"rne\")\n",
    "display_target_sites_single_locus(\n",
    "    genome_record, target_site_dict, translator, view_pad=3000\n",
    ")"
   ]
  },
  {
   "cell_type": "code",
   "execution_count": null,
   "id": "commercial-benchmark",
   "metadata": {},
   "outputs": [],
   "source": [
    "target_site_dict, subset_df = gene_to_target_dict(paga_df.obs, nanopore_df, \"infA\")\n",
    "display_target_sites_single_locus(\n",
    "    genome_record, target_site_dict, translator, view_pad=1000\n",
    ")"
   ]
  },
  {
   "cell_type": "markdown",
   "id": "friendly-collaboration",
   "metadata": {},
   "source": [
    "#### Notes\n",
    "\n",
    "- DnaAB and rne all have decreased fluorescence accompanied by increasing cell length\n",
    "\n",
    "- infA also has decreased fluorescence, but with significanly less impairment of length\n",
    "\n",
    "- infA interacts directly with the small ribosomal subunit, so it may have some odd effect on the rpsL reporter\n",
    "\n",
    "- Alternatively, it may reduce translational effeciency more broadly, but one would expect a more deleterious effect on divison\n",
    "\n",
    "- These data also suggest rne has a role in regulating replication initiation, given its similarity to dnaAB"
   ]
  },
  {
   "cell_type": "markdown",
   "id": "aggressive-prototype",
   "metadata": {},
   "source": [
    "### Division Defects"
   ]
  },
  {
   "cell_type": "markdown",
   "id": "integral-gross",
   "metadata": {},
   "source": [
    "['acnB', 'bamB', 'bisC', 'comR', 'ddlB']\n",
    "\n",
    "['dnaK', 'dnaN', 'dxs', 'fixX', 'folC']\n",
    "\n",
    "['folP', 'ftsK', 'ftsL', 'ftsN', 'ftsQ']\n",
    "\n",
    "['ftsW', 'ftsY', 'ftsZ', 'gyrA', 'gyrB']\n",
    "\n",
    "['holA', 'infC', 'kefB', 'lapA', 'lexA']\n",
    "\n",
    "['lpxC', 'minC', 'minE', 'mraY', 'mraZ']\n",
    "\n",
    "['mukB', 'mukE', 'mukF', 'murC', 'murD']\n",
    "\n",
    "['murE', 'murF', 'murG', 'murI', 'nagE']\n",
    "\n",
    "['nrdA', 'nrdB', 'nusG', 'parC', 'parE']\n",
    "\n",
    "['pfkA', 'pgsA', 'prmB', 'pssA', 'pyrG']\n",
    "\n",
    "['pyrH', 'rho', 'rhoL', 'rimP', 'rnhB']\n",
    "\n",
    "['rnpA', 'rnpB', 'rplK', 'rplN', 'rplS']\n",
    "\n",
    "['rplU', 'rpmB', 'rpmJ', 'rpoA', 'rpoC']\n",
    "\n",
    "['rsgA', 'rsmH', 'secE', 'secY', 'ssb']\n",
    "\n",
    "['tamA', 'tgt', 'tmk', 'ubiJ esrE', 'yagH']\n",
    "\n",
    "['ybcN', 'yebQ', 'yecM', 'yeiH', 'ygfZ']\n",
    "\n",
    "['ypaB']\n"
   ]
  },
  {
   "cell_type": "code",
   "execution_count": null,
   "id": "native-vulnerability",
   "metadata": {},
   "outputs": [],
   "source": [
    "division_df = paga_df.obs[paga_df.obs[\"leiden\"] == \"6\"]\n",
    "division_df = division_df[\n",
    "    division_df[\"Gene\"].isin(\n",
    "        [\"ubiJ esrE\", \"yagH\", \"ybcN\", \"yebQ\", \"yecM\", \"yeiH\", \"ygfZ\", \"ypaB\"]\n",
    "    )\n",
    "]\n",
    "division_df[\"Gene\"] = division_df[\"Gene\"].astype(str)\n",
    "\n",
    "feature_labels = [\n",
    "    \"Linear Growth Rate\",\n",
    "    \"Exponential Growth Rate\",\n",
    "    \"Division Length\",\n",
    "    \"Width\",\n",
    "    \"mCherry Intensity\",\n",
    "    \"Doubling Time\",\n",
    "]\n",
    "\n",
    "feature_ranges = [(5, 15), (1.0, 1.5), (6.0, 15.0), (1.2, 1.4), (1200, 3000), (6, 12)]\n",
    "\n",
    "len_labels = len(feature_labels)\n",
    "\n",
    "feature_series_list = []\n",
    "for feature_label in feature_labels:\n",
    "    feature_series = division_df.groupby(\"Gene\").apply(\n",
    "        lambda x: x[feature_label].tolist()\n",
    "    )\n",
    "    feature_series_list.append(feature_series)\n",
    "\n",
    "len_series = len(feature_series)\n",
    "\n",
    "fig = plt.figure(figsize=(20, 10))\n",
    "\n",
    "for j, feature_series in enumerate(feature_series_list):\n",
    "    for i, (idx, row) in enumerate(feature_series.iteritems()):\n",
    "        plot_arr = np.array(row).T\n",
    "        ax = plt.subplot(len(feature_labels), len_series, (j * len_series) + i + 1)\n",
    "        ax.set_title(idx + \": \" + feature_labels[j])\n",
    "        ax.set_ylim(feature_ranges[j])\n",
    "        ax.plot(plot_arr, color=\"tab:blue\")\n",
    "plt.tight_layout()\n",
    "plt.show()"
   ]
  },
  {
   "cell_type": "markdown",
   "id": "opposed-pennsylvania",
   "metadata": {},
   "source": [
    "#### Notes\n",
    "\n",
    "- yebQ seems like it is more similar to a ribosome defect, given increased fluorescence\n",
    "\n",
    "- All other y genes seemingly good hits\n",
    "\n",
    "- esrE is subtle; maybe worth validating given how weird it is though"
   ]
  },
  {
   "cell_type": "code",
   "execution_count": null,
   "id": "indirect-token",
   "metadata": {},
   "outputs": [],
   "source": [
    "division_df = paga_df.obs[paga_df.obs[\"leiden\"] == \"6\"]\n",
    "division_df = division_df[\n",
    "    division_df[\"Gene\"].isin(\n",
    "        [\n",
    "            \"acnB\",\n",
    "            \"bamB\",\n",
    "            \"bisC\",\n",
    "            \"comR\",\n",
    "            \"ddlB\",\n",
    "            \"dnaK\",\n",
    "            \"dnaN\",\n",
    "            \"dxs\",\n",
    "            \"fixX\",\n",
    "            \"folC\",\n",
    "            \"folP\",\n",
    "        ]\n",
    "    )\n",
    "]\n",
    "division_df[\"Gene\"] = division_df[\"Gene\"].astype(str)\n",
    "\n",
    "feature_labels = [\n",
    "    \"Linear Growth Rate\",\n",
    "    \"Exponential Growth Rate\",\n",
    "    \"Division Length\",\n",
    "    \"Width\",\n",
    "    \"mCherry Intensity\",\n",
    "    \"Doubling Time\",\n",
    "]\n",
    "\n",
    "feature_ranges = [(5, 15), (1.0, 1.5), (6.0, 15.0), (1.2, 1.4), (1200, 3000), (6, 12)]\n",
    "\n",
    "len_labels = len(feature_labels)\n",
    "\n",
    "feature_series_list = []\n",
    "for feature_label in feature_labels:\n",
    "    feature_series = division_df.groupby(\"Gene\").apply(\n",
    "        lambda x: x[feature_label].tolist()\n",
    "    )\n",
    "    feature_series_list.append(feature_series)\n",
    "\n",
    "len_series = len(feature_series)\n",
    "\n",
    "fig = plt.figure(figsize=(30, 10))\n",
    "\n",
    "for j, feature_series in enumerate(feature_series_list):\n",
    "    for i, (idx, row) in enumerate(feature_series.iteritems()):\n",
    "        plot_arr = np.array(row).T\n",
    "        ax = plt.subplot(len(feature_labels), len_series, (j * len_series) + i + 1)\n",
    "        ax.set_title(idx + \": \" + feature_labels[j])\n",
    "        ax.set_ylim(feature_ranges[j])\n",
    "        ax.plot(plot_arr, color=\"tab:blue\")\n",
    "plt.tight_layout()\n",
    "plt.show()"
   ]
  },
  {
   "cell_type": "markdown",
   "id": "according-ecology",
   "metadata": {},
   "source": [
    "#### Notes\n",
    "\n",
    "- acnB, bamB, folC increase length without much of a linear growth rate increase\n",
    "\n",
    "- dnaK, dnaN, folC have increased mCherry reporter\n",
    "\n",
    "- bisC, comR, ddlB, dxs, fixX, folP seemingly good hits\n",
    "\n",
    "- esrE is subtle; maybe worth validating given how weird it is though"
   ]
  },
  {
   "cell_type": "code",
   "execution_count": null,
   "id": "fewer-viewer",
   "metadata": {},
   "outputs": [],
   "source": [
    "division_df = paga_df.obs[paga_df.obs[\"leiden\"] == \"6\"]\n",
    "division_df = division_df[\n",
    "    division_df[\"Gene\"].isin(\n",
    "        [\"ftsK\", \"ftsL\", \"ftsN\", \"ftsQ\", \"ftsW\", \"ftsY\", \"ftsZ\", \"gyrA\", \"gyrB\"]\n",
    "    )\n",
    "]\n",
    "division_df[\"Gene\"] = division_df[\"Gene\"].astype(str)\n",
    "\n",
    "feature_labels = [\n",
    "    \"Linear Growth Rate\",\n",
    "    \"Exponential Growth Rate\",\n",
    "    \"Division Length\",\n",
    "    \"Width\",\n",
    "    \"mCherry Intensity\",\n",
    "    \"Doubling Time\",\n",
    "]\n",
    "\n",
    "feature_ranges = [(5, 15), (1.0, 1.5), (6.0, 15.0), (1.2, 1.4), (1200, 3000), (6, 12)]\n",
    "\n",
    "len_labels = len(feature_labels)\n",
    "\n",
    "feature_series_list = []\n",
    "for feature_label in feature_labels:\n",
    "    feature_series = division_df.groupby(\"Gene\").apply(\n",
    "        lambda x: x[feature_label].tolist()\n",
    "    )\n",
    "    feature_series_list.append(feature_series)\n",
    "\n",
    "len_series = len(feature_series)\n",
    "\n",
    "fig = plt.figure(figsize=(30, 10))\n",
    "\n",
    "for j, feature_series in enumerate(feature_series_list):\n",
    "    for i, (idx, row) in enumerate(feature_series.iteritems()):\n",
    "        plot_arr = np.array(row).T\n",
    "        ax = plt.subplot(len(feature_labels), len_series, (j * len_series) + i + 1)\n",
    "        ax.set_title(idx + \": \" + feature_labels[j])\n",
    "        ax.set_ylim(feature_ranges[j])\n",
    "        ax.plot(plot_arr, color=\"tab:blue\")\n",
    "plt.tight_layout()\n",
    "plt.show()"
   ]
  },
  {
   "cell_type": "code",
   "execution_count": null,
   "id": "accredited-approach",
   "metadata": {},
   "outputs": [],
   "source": [
    "division_df = paga_df.obs[paga_df.obs[\"leiden\"] == \"6\"]\n",
    "division_df = division_df[\n",
    "    division_df[\"Gene\"].isin(\n",
    "        [\"holA\", \"infC\", \"kefB\", \"lapA\", \"lexA\", \"lpxC\", \"minC\", \"minE\", \"mraY\", \"mraZ\"]\n",
    "    )\n",
    "]\n",
    "division_df[\"Gene\"] = division_df[\"Gene\"].astype(str)\n",
    "\n",
    "feature_labels = [\n",
    "    \"Linear Growth Rate\",\n",
    "    \"Exponential Growth Rate\",\n",
    "    \"Division Length\",\n",
    "    \"Width\",\n",
    "    \"mCherry Intensity\",\n",
    "    \"Doubling Time\",\n",
    "]\n",
    "\n",
    "feature_ranges = [(5, 15), (1.0, 1.5), (6.0, 15.0), (1.2, 1.4), (1200, 3000), (6, 12)]\n",
    "\n",
    "len_labels = len(feature_labels)\n",
    "\n",
    "feature_series_list = []\n",
    "for feature_label in feature_labels:\n",
    "    feature_series = division_df.groupby(\"Gene\").apply(\n",
    "        lambda x: x[feature_label].tolist()\n",
    "    )\n",
    "    feature_series_list.append(feature_series)\n",
    "\n",
    "len_series = len(feature_series)\n",
    "\n",
    "fig = plt.figure(figsize=(30, 10))\n",
    "\n",
    "for j, feature_series in enumerate(feature_series_list):\n",
    "    for i, (idx, row) in enumerate(feature_series.iteritems()):\n",
    "        plot_arr = np.array(row).T\n",
    "        ax = plt.subplot(len(feature_labels), len_series, (j * len_series) + i + 1)\n",
    "        ax.set_title(idx + \": \" + feature_labels[j])\n",
    "        ax.set_ylim(feature_ranges[j])\n",
    "        ax.plot(plot_arr, color=\"tab:blue\")\n",
    "plt.tight_layout()\n",
    "plt.show()"
   ]
  },
  {
   "cell_type": "code",
   "execution_count": null,
   "id": "sonic-recycling",
   "metadata": {},
   "outputs": [],
   "source": [
    "division_df = paga_df.obs[paga_df.obs[\"leiden\"] == \"6\"]\n",
    "division_df = division_df[\n",
    "    division_df[\"Gene\"].isin(\n",
    "        [\"mukB\", \"mukE\", \"mukF\", \"murC\", \"murD\", \"murE\", \"murF\", \"murG\", \"murI\", \"nagE\"]\n",
    "    )\n",
    "]\n",
    "division_df[\"Gene\"] = division_df[\"Gene\"].astype(str)\n",
    "\n",
    "feature_labels = [\n",
    "    \"Linear Growth Rate\",\n",
    "    \"Exponential Growth Rate\",\n",
    "    \"Division Length\",\n",
    "    \"Width\",\n",
    "    \"mCherry Intensity\",\n",
    "    \"Doubling Time\",\n",
    "]\n",
    "\n",
    "feature_ranges = [(5, 15), (1.0, 1.5), (6.0, 15.0), (1.2, 1.4), (1200, 3000), (6, 12)]\n",
    "\n",
    "len_labels = len(feature_labels)\n",
    "\n",
    "feature_series_list = []\n",
    "for feature_label in feature_labels:\n",
    "    feature_series = division_df.groupby(\"Gene\").apply(\n",
    "        lambda x: x[feature_label].tolist()\n",
    "    )\n",
    "    feature_series_list.append(feature_series)\n",
    "\n",
    "len_series = len(feature_series)\n",
    "\n",
    "fig = plt.figure(figsize=(30, 10))\n",
    "\n",
    "for j, feature_series in enumerate(feature_series_list):\n",
    "    for i, (idx, row) in enumerate(feature_series.iteritems()):\n",
    "        plot_arr = np.array(row).T\n",
    "        ax = plt.subplot(len(feature_labels), len_series, (j * len_series) + i + 1)\n",
    "        ax.set_title(idx + \": \" + feature_labels[j])\n",
    "        ax.set_ylim(feature_ranges[j])\n",
    "        ax.plot(plot_arr, color=\"tab:blue\")\n",
    "plt.tight_layout()\n",
    "plt.show()"
   ]
  },
  {
   "cell_type": "code",
   "execution_count": null,
   "id": "integral-bangladesh",
   "metadata": {},
   "outputs": [],
   "source": [
    "division_df = paga_df.obs[paga_df.obs[\"leiden\"] == \"6\"]\n",
    "division_df = division_df[\n",
    "    division_df[\"Gene\"].isin(\n",
    "        [\"nrdA\", \"nrdB\", \"nusG\", \"parC\", \"parE\", \"pfkA\", \"pgsA\", \"prmB\", \"pssA\", \"pyrG\"]\n",
    "    )\n",
    "]\n",
    "division_df[\"Gene\"] = division_df[\"Gene\"].astype(str)\n",
    "\n",
    "feature_labels = [\n",
    "    \"Linear Growth Rate\",\n",
    "    \"Exponential Growth Rate\",\n",
    "    \"Division Length\",\n",
    "    \"Width\",\n",
    "    \"mCherry Intensity\",\n",
    "    \"Doubling Time\",\n",
    "]\n",
    "\n",
    "feature_ranges = [(5, 15), (1.0, 1.5), (6.0, 15.0), (1.2, 1.4), (1200, 3000), (6, 12)]\n",
    "\n",
    "len_labels = len(feature_labels)\n",
    "\n",
    "feature_series_list = []\n",
    "for feature_label in feature_labels:\n",
    "    feature_series = division_df.groupby(\"Gene\").apply(\n",
    "        lambda x: x[feature_label].tolist()\n",
    "    )\n",
    "    feature_series_list.append(feature_series)\n",
    "\n",
    "len_series = len(feature_series)\n",
    "\n",
    "fig = plt.figure(figsize=(30, 10))\n",
    "\n",
    "for j, feature_series in enumerate(feature_series_list):\n",
    "    for i, (idx, row) in enumerate(feature_series.iteritems()):\n",
    "        plot_arr = np.array(row).T\n",
    "        ax = plt.subplot(len(feature_labels), len_series, (j * len_series) + i + 1)\n",
    "        ax.set_title(idx + \": \" + feature_labels[j])\n",
    "        ax.set_ylim(feature_ranges[j])\n",
    "        ax.plot(plot_arr, color=\"tab:blue\")\n",
    "plt.tight_layout()\n",
    "plt.show()"
   ]
  },
  {
   "cell_type": "code",
   "execution_count": null,
   "id": "hired-consumer",
   "metadata": {},
   "outputs": [],
   "source": [
    "division_df = paga_df.obs[paga_df.obs[\"leiden\"] == \"6\"]\n",
    "division_df = division_df[\n",
    "    division_df[\"Gene\"].isin(\n",
    "        [\n",
    "            \"pyrH\",\n",
    "            \"rho\",\n",
    "            \"rhoL\",\n",
    "            \"rimP\",\n",
    "            \"rnhB\",\n",
    "            \"rnpA\",\n",
    "            \"rnpB\",\n",
    "            \"rplK\",\n",
    "            \"rplN\",\n",
    "            \"rplS\",\n",
    "            \"rplU\",\n",
    "            \"rpmB\",\n",
    "            \"rpmJ\",\n",
    "        ]\n",
    "    )\n",
    "]\n",
    "division_df[\"Gene\"] = division_df[\"Gene\"].astype(str)\n",
    "\n",
    "feature_labels = [\n",
    "    \"Linear Growth Rate\",\n",
    "    \"Exponential Growth Rate\",\n",
    "    \"Division Length\",\n",
    "    \"Width\",\n",
    "    \"mCherry Intensity\",\n",
    "    \"Doubling Time\",\n",
    "]\n",
    "\n",
    "feature_ranges = [(5, 15), (1.0, 1.5), (6.0, 15.0), (1.2, 1.4), (1200, 3000), (6, 12)]\n",
    "\n",
    "len_labels = len(feature_labels)\n",
    "\n",
    "feature_series_list = []\n",
    "for feature_label in feature_labels:\n",
    "    feature_series = division_df.groupby(\"Gene\").apply(\n",
    "        lambda x: x[feature_label].tolist()\n",
    "    )\n",
    "    feature_series_list.append(feature_series)\n",
    "\n",
    "len_series = len(feature_series)\n",
    "\n",
    "fig = plt.figure(figsize=(30, 10))\n",
    "\n",
    "for j, feature_series in enumerate(feature_series_list):\n",
    "    for i, (idx, row) in enumerate(feature_series.iteritems()):\n",
    "        plot_arr = np.array(row).T\n",
    "        ax = plt.subplot(len(feature_labels), len_series, (j * len_series) + i + 1)\n",
    "        ax.set_title(idx + \": \" + feature_labels[j])\n",
    "        ax.set_ylim(feature_ranges[j])\n",
    "        ax.plot(plot_arr, color=\"tab:blue\")\n",
    "plt.tight_layout()\n",
    "plt.show()"
   ]
  },
  {
   "cell_type": "code",
   "execution_count": null,
   "id": "raised-bumper",
   "metadata": {},
   "outputs": [],
   "source": [
    "division_df = paga_df.obs[paga_df.obs[\"leiden\"] == \"6\"]\n",
    "division_df = division_df[\n",
    "    division_df[\"Gene\"].isin(\n",
    "        [\"rpoA\", \"rpoC\", \"rsgA\", \"rsmH\", \"secE\", \"secY\", \"ssb\", \"tamA\", \"tgt\", \"tmk\"]\n",
    "    )\n",
    "]\n",
    "division_df[\"Gene\"] = division_df[\"Gene\"].astype(str)\n",
    "\n",
    "feature_labels = [\n",
    "    \"Linear Growth Rate\",\n",
    "    \"Exponential Growth Rate\",\n",
    "    \"Division Length\",\n",
    "    \"Width\",\n",
    "    \"mCherry Intensity\",\n",
    "    \"Doubling Time\",\n",
    "]\n",
    "\n",
    "feature_ranges = [(5, 15), (1.0, 1.5), (6.0, 15.0), (1.2, 1.4), (1200, 3000), (6, 12)]\n",
    "\n",
    "len_labels = len(feature_labels)\n",
    "\n",
    "feature_series_list = []\n",
    "for feature_label in feature_labels:\n",
    "    feature_series = division_df.groupby(\"Gene\").apply(\n",
    "        lambda x: x[feature_label].tolist()\n",
    "    )\n",
    "    feature_series_list.append(feature_series)\n",
    "\n",
    "len_series = len(feature_series)\n",
    "\n",
    "fig = plt.figure(figsize=(30, 10))\n",
    "\n",
    "for j, feature_series in enumerate(feature_series_list):\n",
    "    for i, (idx, row) in enumerate(feature_series.iteritems()):\n",
    "        plot_arr = np.array(row).T\n",
    "        ax = plt.subplot(len(feature_labels), len_series, (j * len_series) + i + 1)\n",
    "        ax.set_title(idx + \": \" + feature_labels[j])\n",
    "        ax.set_ylim(feature_ranges[j])\n",
    "        ax.plot(plot_arr, color=\"tab:blue\")\n",
    "plt.tight_layout()\n",
    "plt.show()"
   ]
  },
  {
   "cell_type": "code",
   "execution_count": null,
   "id": "received-recovery",
   "metadata": {},
   "outputs": [],
   "source": [
    "[\"rpoA\", \"rpoC\", \"rsgA\", \"rsmH\", \"secE\", \"secY\", \"ssb\", \"tamA\", \"tgt\", \"tmk\"]\n",
    "\n",
    "[\"tamA\", \"tgt\", \"tmk\", \"ubiJ esrE\", \"yagH\"]\n",
    "\n",
    "[\"ybcN\", \"yebQ\", \"yecM\", \"yeiH\", \"ygfZ\"]\n",
    "\n",
    "[\"ypaB\"]"
   ]
  },
  {
   "cell_type": "markdown",
   "id": "fabulous-cleaner",
   "metadata": {},
   "source": [
    "## 6) Examining Transients"
   ]
  },
  {
   "cell_type": "code",
   "execution_count": null,
   "id": "similar-nature",
   "metadata": {},
   "outputs": [],
   "source": [
    "from tslearn.preprocessing import TimeSeriesScalerMeanVariance, TimeSeriesScalerMinMax"
   ]
  },
  {
   "cell_type": "markdown",
   "id": "handed-exception",
   "metadata": {},
   "source": [
    "### First: Long Cells"
   ]
  },
  {
   "cell_type": "markdown",
   "id": "exotic-selection",
   "metadata": {},
   "source": [
    "### Renormalization"
   ]
  },
  {
   "cell_type": "code",
   "execution_count": null,
   "id": "metric-chosen",
   "metadata": {
    "tags": []
   },
   "outputs": [],
   "source": [
    "norm_threshold = 1\n",
    "feature_integrated_norm = gene_cluster_df_full[\"Division Length Z-score\"].apply(\n",
    "    lambda x: sp.integrate.simpson(x)\n",
    ")\n",
    "feature_max_norm = gene_cluster_df_full[\"Division Length Z-score\"].apply(\n",
    "    lambda x: np.max(x)\n",
    ")\n",
    "feature_filtered_df = gene_cluster_df_full[feature_max_norm > norm_threshold]\n",
    "\n",
    "X_feature = np.array(feature_filtered_df[\"Division Length\"].tolist())[:, :, np.newaxis]\n",
    "X_feature_norm = TimeSeriesScalerMinMax().fit_transform(X_feature)\n",
    "feature_filtered_df[\"Division Length Feature Norm\"] = [\n",
    "    item for item in X_feature_norm[:, :, 0]\n",
    "]"
   ]
  },
  {
   "cell_type": "code",
   "execution_count": null,
   "id": "official-thinking",
   "metadata": {},
   "outputs": [],
   "source": [
    "plt.hist(feature_max_norm, bins=50)"
   ]
  },
  {
   "cell_type": "code",
   "execution_count": null,
   "id": "judicial-sheffield",
   "metadata": {
    "tags": []
   },
   "outputs": [],
   "source": [
    "dtw_feature_norm = parallel_norm_soft_dtw(X_feature_norm)"
   ]
  },
  {
   "cell_type": "markdown",
   "id": "criminal-clone",
   "metadata": {
    "tags": []
   },
   "source": [
    "### Initialize Anndata Object"
   ]
  },
  {
   "cell_type": "code",
   "execution_count": null,
   "id": "expired-acting",
   "metadata": {},
   "outputs": [],
   "source": [
    "an_df_feature = anndata.AnnData(\n",
    "    X=X_feature_norm.reshape(X_feature_norm.shape[0], -1), obs=feature_filtered_df\n",
    ")  # AnnData container to use scanpy functions with unwrapped time vector"
   ]
  },
  {
   "cell_type": "markdown",
   "id": "raising-creek",
   "metadata": {},
   "source": [
    "### Compute KNN Graph"
   ]
  },
  {
   "cell_type": "code",
   "execution_count": null,
   "id": "acting-shopping",
   "metadata": {},
   "outputs": [],
   "source": [
    "n_neighbors = 15\n",
    "n_pcs = 20  # This shouldn't affect anything\n",
    "\n",
    "sc.pp.neighbors(an_df_feature, n_neighbors=n_neighbors, n_pcs=n_pcs)\n",
    "knn_indices, knn_dists, forest = sc.neighbors.compute_neighbors_umap(\n",
    "    dtw_feature_norm, n_neighbors=n_neighbors, metric=\"precomputed\"\n",
    ")\n",
    "(\n",
    "    an_df_feature.uns[\"neighbors\"][\"distances\"],\n",
    "    an_df_feature.uns[\"neighbors\"][\"connectivities\"],\n",
    ") = sc.neighbors._compute_connectivities_umap(\n",
    "    knn_indices,\n",
    "    knn_dists,\n",
    "    an_df_feature.shape[0],\n",
    "    n_neighbors,  # change to neighbors you plan to use\n",
    ")\n",
    "an_df_feature.obsp[\"distances\"] = an_df_feature.uns[\"neighbors\"][\"distances\"]\n",
    "an_df_feature.obsp[\"connectivities\"] = an_df_feature.uns[\"neighbors\"][\"connectivities\"]\n",
    "an_df_feature.obsp[\"soft_dtw\"] = dtw_feature_norm"
   ]
  },
  {
   "cell_type": "markdown",
   "id": "single-airport",
   "metadata": {},
   "source": [
    "### Computing Leiden, PAGA and UMAP"
   ]
  },
  {
   "cell_type": "code",
   "execution_count": null,
   "id": "hispanic-lyric",
   "metadata": {},
   "outputs": [],
   "source": [
    "feature_paga_df_dict = {}\n",
    "for resolution in [0.25, 1.0, 1.5]:\n",
    "    feature_paga_df_dict[resolution] = copy.deepcopy(an_df_feature)\n",
    "    sc.tl.leiden(\n",
    "        feature_paga_df_dict[resolution], resolution=resolution, n_iterations=-1\n",
    "    )\n",
    "    sc.tl.paga(feature_paga_df_dict[resolution], groups=\"leiden\")\n",
    "    sc.pl.paga(feature_paga_df_dict[resolution], add_pos=True, show=False)\n",
    "sc.tl.umap(feature_paga_df_dict[1.0], init_pos=\"paga\", min_dist=0.25, spread=5.0)\n",
    "feature_paga_df_dict[1.0].obs[\"leiden_lowres\"] = feature_paga_df_dict[0.25].obs[\n",
    "    \"leiden\"\n",
    "]\n",
    "feature_paga_df_dict[1.0].obs[\"leiden_highres\"] = feature_paga_df_dict[1.5].obs[\n",
    "    \"leiden\"\n",
    "]\n",
    "feature_paga_df = feature_paga_df_dict[1.0]"
   ]
  },
  {
   "cell_type": "code",
   "execution_count": null,
   "id": "advance-saudi",
   "metadata": {},
   "outputs": [],
   "source": [
    "fig = sc.pl.umap(\n",
    "    feature_paga_df,\n",
    "    color=[\"leiden_lowres\", \"leiden\", \"leiden_highres\"],\n",
    "    title=[\"Leiden Resolution=0.25\", \"Leiden Resolution=1.\", \"Leiden Resolution=1.5\"],\n",
    "    show=False,\n",
    "    legend_loc=\"on data\",\n",
    "    edges=True,\n",
    "    add_outline=False,\n",
    "    size=50,\n",
    "    return_fig=True,\n",
    "    palette=vega_20_scanpy,\n",
    ")"
   ]
  },
  {
   "cell_type": "code",
   "execution_count": null,
   "id": "voluntary-finland",
   "metadata": {},
   "outputs": [],
   "source": [
    "feature_paga_df.obs[\"N Match\"] = 20.0 - feature_paga_df.obs[\"N Mismatch\"]\n",
    "feature_del_N_match_series = feature_paga_df.obs.groupby(\"TargetID\").apply(\n",
    "    lambda x: x[\"N Match\"] - np.min(x[\"N Match\"])\n",
    ")\n",
    "feature_del_N_match_series = feature_del_N_match_series.droplevel(\"TargetID\")\n",
    "feature_paga_df.obs[\"Delta N Match\"] = feature_del_N_match_series"
   ]
  },
  {
   "cell_type": "code",
   "execution_count": null,
   "id": "automotive-payment",
   "metadata": {},
   "outputs": [],
   "source": [
    "labels = [zscore_trace + \": Mean\" for zscore_trace in zscore_traces]\n",
    "\n",
    "fig = sc.pl.umap(\n",
    "    feature_paga_df,\n",
    "    color=labels,\n",
    "    show=False,\n",
    "    legend_loc=\"on data\",\n",
    "    add_outline=False,\n",
    "    size=50,\n",
    "    return_fig=True,\n",
    "    vcenter=0.0,\n",
    "    cmap=\"RdBu_r\",\n",
    "    wspace=0.25,\n",
    ")"
   ]
  },
  {
   "cell_type": "code",
   "execution_count": null,
   "id": "collaborative-fourth",
   "metadata": {},
   "outputs": [],
   "source": [
    "fig = plot_cluster_timeseries_braycenters(\n",
    "    feature_paga_df.obs,\n",
    "    \"leiden\",\n",
    "    [\"Division Length Feature Norm\", \"Division Length Feature Norm\"],\n",
    "    [\"Division Length Feature Norm\", \"Division Length Feature Norm\"],\n",
    "    [(0, 1), (0, 1)],\n",
    "    figsize=(15, 6),\n",
    "    wspace=0.25,\n",
    "    hspace=0.25,\n",
    "    color_list=vega_20_scanpy,\n",
    ")"
   ]
  },
  {
   "cell_type": "code",
   "execution_count": null,
   "id": "initial-poker",
   "metadata": {},
   "outputs": [],
   "source": [
    "np.unique(\n",
    "    feature_paga_df.obs[feature_paga_df.obs[\"leiden\"] == \"5\"][\"Gene\"].tolist(),\n",
    "    return_counts=True,\n",
    ")"
   ]
  },
  {
   "cell_type": "markdown",
   "id": "behind-working",
   "metadata": {},
   "source": [
    "### Small Cells"
   ]
  },
  {
   "cell_type": "markdown",
   "id": "private-parks",
   "metadata": {},
   "source": [
    "### Renormalization"
   ]
  },
  {
   "cell_type": "code",
   "execution_count": null,
   "id": "hungarian-butterfly",
   "metadata": {
    "tags": []
   },
   "outputs": [],
   "source": [
    "norm_threshold = -1\n",
    "feature_integrated_norm = gene_cluster_df_full[\"Division Length Z-score\"].apply(\n",
    "    lambda x: sp.integrate.simpson(x)\n",
    ")\n",
    "feature_max_norm = gene_cluster_df_full[\"Division Length Z-score\"].apply(\n",
    "    lambda x: np.min(x)\n",
    ")\n",
    "feature_filtered_df = gene_cluster_df_full[feature_max_norm < norm_threshold]\n",
    "\n",
    "X_feature = np.array(feature_filtered_df[\"Division Length\"].tolist())[:, :, np.newaxis]\n",
    "X_feature_norm = TimeSeriesScalerMinMax().fit_transform(X_feature)\n",
    "feature_filtered_df[\"Division Length Feature Norm\"] = [\n",
    "    item for item in X_feature_norm[:, :, 0]\n",
    "]"
   ]
  },
  {
   "cell_type": "code",
   "execution_count": null,
   "id": "broke-algebra",
   "metadata": {},
   "outputs": [],
   "source": [
    "plt.hist(feature_max_norm, bins=50)"
   ]
  },
  {
   "cell_type": "code",
   "execution_count": null,
   "id": "protecting-midnight",
   "metadata": {},
   "outputs": [],
   "source": [
    "dtw_feature_norm = parallel_norm_soft_dtw(X_feature_norm)"
   ]
  },
  {
   "cell_type": "markdown",
   "id": "sapphire-eclipse",
   "metadata": {},
   "source": [
    "### Initialize Anndata Object"
   ]
  },
  {
   "cell_type": "code",
   "execution_count": null,
   "id": "aerial-aviation",
   "metadata": {},
   "outputs": [],
   "source": [
    "an_df_feature = anndata.AnnData(\n",
    "    X=X_feature_norm.reshape(X_feature_norm.shape[0], -1), obs=feature_filtered_df\n",
    ")  # AnnData container to use scanpy functions with unwrapped time vector"
   ]
  },
  {
   "cell_type": "markdown",
   "id": "challenging-latter",
   "metadata": {},
   "source": [
    "### Compute KNN Graph"
   ]
  },
  {
   "cell_type": "code",
   "execution_count": null,
   "id": "honest-rotation",
   "metadata": {},
   "outputs": [],
   "source": [
    "n_neighbors = 10\n",
    "n_pcs = 20  # This shouldn't affect anything\n",
    "\n",
    "sc.pp.neighbors(an_df_feature, n_neighbors=n_neighbors, n_pcs=n_pcs)\n",
    "knn_indices, knn_dists, forest = sc.neighbors.compute_neighbors_umap(\n",
    "    dtw_feature_norm, n_neighbors=n_neighbors, metric=\"precomputed\"\n",
    ")\n",
    "(\n",
    "    an_df_feature.uns[\"neighbors\"][\"distances\"],\n",
    "    an_df_feature.uns[\"neighbors\"][\"connectivities\"],\n",
    ") = sc.neighbors._compute_connectivities_umap(\n",
    "    knn_indices,\n",
    "    knn_dists,\n",
    "    an_df_feature.shape[0],\n",
    "    n_neighbors,  # change to neighbors you plan to use\n",
    ")\n",
    "an_df_feature.obsp[\"distances\"] = an_df_feature.uns[\"neighbors\"][\"distances\"]\n",
    "an_df_feature.obsp[\"connectivities\"] = an_df_feature.uns[\"neighbors\"][\"connectivities\"]\n",
    "an_df_feature.obsp[\"soft_dtw\"] = dtw_feature_norm"
   ]
  },
  {
   "cell_type": "markdown",
   "id": "animated-proof",
   "metadata": {},
   "source": [
    "### Computing Leiden, PAGA and UMAP"
   ]
  },
  {
   "cell_type": "code",
   "execution_count": null,
   "id": "acceptable-actress",
   "metadata": {},
   "outputs": [],
   "source": [
    "feature_paga_df_dict = {}\n",
    "for resolution in [0.25, 1.0, 1.5]:\n",
    "    feature_paga_df_dict[resolution] = copy.deepcopy(an_df_feature)\n",
    "    sc.tl.leiden(\n",
    "        feature_paga_df_dict[resolution], resolution=resolution, n_iterations=-1\n",
    "    )\n",
    "    sc.tl.paga(feature_paga_df_dict[resolution], groups=\"leiden\")\n",
    "    sc.pl.paga(feature_paga_df_dict[resolution], add_pos=True, show=False)\n",
    "sc.tl.umap(feature_paga_df_dict[1.0], init_pos=\"paga\", min_dist=0.25, spread=5.0)\n",
    "feature_paga_df_dict[1.0].obs[\"leiden_lowres\"] = feature_paga_df_dict[0.25].obs[\n",
    "    \"leiden\"\n",
    "]\n",
    "feature_paga_df_dict[1.0].obs[\"leiden_highres\"] = feature_paga_df_dict[1.5].obs[\n",
    "    \"leiden\"\n",
    "]\n",
    "feature_paga_df = feature_paga_df_dict[1.0]"
   ]
  },
  {
   "cell_type": "code",
   "execution_count": null,
   "id": "breeding-progressive",
   "metadata": {},
   "outputs": [],
   "source": [
    "fig = sc.pl.umap(\n",
    "    feature_paga_df,\n",
    "    color=[\"leiden_lowres\", \"leiden\", \"leiden_highres\"],\n",
    "    title=[\"Leiden Resolution=0.25\", \"Leiden Resolution=1.\", \"Leiden Resolution=1.5\"],\n",
    "    show=False,\n",
    "    legend_loc=\"on data\",\n",
    "    edges=True,\n",
    "    add_outline=False,\n",
    "    size=50,\n",
    "    return_fig=True,\n",
    "    palette=vega_20_scanpy,\n",
    ")"
   ]
  },
  {
   "cell_type": "code",
   "execution_count": null,
   "id": "tight-facility",
   "metadata": {},
   "outputs": [],
   "source": [
    "feature_paga_df.obs[\"N Match\"] = 20.0 - feature_paga_df.obs[\"N Mismatch\"]\n",
    "feature_del_N_match_series = feature_paga_df.obs.groupby(\"TargetID\").apply(\n",
    "    lambda x: x[\"N Match\"] - np.min(x[\"N Match\"])\n",
    ")\n",
    "feature_del_N_match_series = feature_del_N_match_series.droplevel(\"TargetID\")\n",
    "feature_paga_df.obs[\"Delta N Match\"] = feature_del_N_match_series"
   ]
  },
  {
   "cell_type": "code",
   "execution_count": null,
   "id": "obvious-monroe",
   "metadata": {},
   "outputs": [],
   "source": [
    "labels = [zscore_trace + \": Mean\" for zscore_trace in zscore_traces]\n",
    "\n",
    "fig = sc.pl.umap(\n",
    "    feature_paga_df,\n",
    "    color=labels,\n",
    "    show=False,\n",
    "    legend_loc=\"on data\",\n",
    "    add_outline=False,\n",
    "    size=50,\n",
    "    return_fig=True,\n",
    "    vcenter=0.0,\n",
    "    cmap=\"RdBu_r\",\n",
    "    wspace=0.25,\n",
    ")"
   ]
  },
  {
   "cell_type": "code",
   "execution_count": null,
   "id": "catholic-portrait",
   "metadata": {},
   "outputs": [],
   "source": [
    "fig = plot_cluster_timeseries_braycenters(\n",
    "    feature_paga_df.obs,\n",
    "    \"leiden\",\n",
    "    [\"Division Length Feature Norm\", \"Division Length Feature Norm\"],\n",
    "    [\"Division Length Feature Norm\", \"Division Length Feature Norm\"],\n",
    "    [(0, 1), (0, 1)],\n",
    "    figsize=(15, 6),\n",
    "    wspace=0.25,\n",
    "    hspace=0.25,\n",
    "    color_list=vega_20_scanpy,\n",
    ")"
   ]
  },
  {
   "cell_type": "code",
   "execution_count": null,
   "id": "difficult-round",
   "metadata": {},
   "outputs": [],
   "source": [
    "np.unique(\n",
    "    feature_paga_df.obs[feature_paga_df.obs[\"leiden\"] == \"1\"][\"Gene\"].tolist(),\n",
    "    return_counts=True,\n",
    ")"
   ]
  },
  {
   "cell_type": "code",
   "execution_count": null,
   "id": "automotive-atlantic",
   "metadata": {},
   "outputs": [],
   "source": [
    "plt.plot(X_feature_norm[1])"
   ]
  },
  {
   "cell_type": "code",
   "execution_count": null,
   "id": "israeli-compromise",
   "metadata": {},
   "outputs": [],
   "source": [
    "plt.hist(X_feature_norm[:, -1, 0], bins=20)"
   ]
  },
  {
   "cell_type": "code",
   "execution_count": null,
   "id": "charitable-graphic",
   "metadata": {},
   "outputs": [],
   "source": [
    "X_feature_norm[:, -1, 0] < 0.05"
   ]
  },
  {
   "cell_type": "code",
   "execution_count": null,
   "id": "initial-musician",
   "metadata": {},
   "outputs": [],
   "source": [
    "X_feature[:, 0, 0]"
   ]
  },
  {
   "cell_type": "code",
   "execution_count": null,
   "id": "mexican-parallel",
   "metadata": {},
   "outputs": [],
   "source": [
    "fold_change = X_feature / X_feature[:, 0, 0]"
   ]
  },
  {
   "cell_type": "code",
   "execution_count": null,
   "id": "becoming-above",
   "metadata": {},
   "outputs": [],
   "source": [
    "plt.hist(fold_change[:, -1, 0], bins=30)\n",
    "plt.show()"
   ]
  },
  {
   "cell_type": "code",
   "execution_count": null,
   "id": "monthly-blackberry",
   "metadata": {
    "tags": []
   },
   "outputs": [],
   "source": [
    "V_max = np.max(X_feature, axis=1, keepdims=True)\n",
    "V_min = np.min(X_feature, axis=1, keepdims=True)\n",
    "V_i = X_feature[:, 0:1]\n",
    "test_norm = (X_feature - V_i) / (V_max - V_min)\n",
    "test_norm = test_norm - test_norm[:, :1]"
   ]
  },
  {
   "cell_type": "code",
   "execution_count": null,
   "id": "cubic-providence",
   "metadata": {},
   "outputs": [],
   "source": [
    "plt.plot(test_norm[0, :, :])"
   ]
  },
  {
   "cell_type": "code",
   "execution_count": null,
   "id": "bottom-hours",
   "metadata": {},
   "outputs": [],
   "source": [
    "plt.hist(test_norm[:, -1].flatten(), bins=30)\n",
    "plt.show()"
   ]
  },
  {
   "cell_type": "code",
   "execution_count": null,
   "id": "compatible-jason",
   "metadata": {},
   "outputs": [],
   "source": [
    "moo = test_norm[((test_norm[:, -1] < 0.25) * (test_norm[:, -1] > -0.25))[:, 0]]"
   ]
  },
  {
   "cell_type": "code",
   "execution_count": null,
   "id": "shaped-defense",
   "metadata": {},
   "outputs": [],
   "source": [
    "moo.shape"
   ]
  },
  {
   "cell_type": "code",
   "execution_count": null,
   "id": "accessory-hollywood",
   "metadata": {},
   "outputs": [],
   "source": [
    "plt.plot(moo[15, :, 0].T, c=\"lightgrey\", alpha=0.7)\n",
    "plt.show()"
   ]
  },
  {
   "cell_type": "code",
   "execution_count": null,
   "id": "abroad-college",
   "metadata": {},
   "outputs": [],
   "source": [
    "moo.shape"
   ]
  },
  {
   "cell_type": "markdown",
   "id": "indirect-treatment",
   "metadata": {},
   "source": [
    "### Testing Fitting with Likelihood Ratio"
   ]
  },
  {
   "cell_type": "code",
   "execution_count": null,
   "id": "genuine-audience",
   "metadata": {},
   "outputs": [],
   "source": [
    "from scipy.optimize import curve_fit"
   ]
  },
  {
   "cell_type": "code",
   "execution_count": null,
   "id": "stone-forty",
   "metadata": {},
   "outputs": [],
   "source": [
    "T = 0\n",
    "\n",
    "y = X_feature_norm[1, :, 0]\n",
    "\n",
    "const_segment = y[:T]\n",
    "variable_segment = y[T:]\n",
    "\n",
    "variable_t = np.array(range(len(variable_segment)))\n",
    "\n",
    "const_est = np.mean(const_segment)"
   ]
  },
  {
   "cell_type": "code",
   "execution_count": null,
   "id": "tropical-guest",
   "metadata": {},
   "outputs": [],
   "source": [
    "const_est"
   ]
  },
  {
   "cell_type": "code",
   "execution_count": null,
   "id": "postal-vanilla",
   "metadata": {},
   "outputs": [],
   "source": [
    "def func_null(t, c0, c1, l1):\n",
    "    return c1 * np.exp(l1 * t) + c0\n",
    "\n",
    "\n",
    "def func_hyp(t, c0, c1, c2, l1, l2):\n",
    "    return (c1 * np.exp(l1 * t)) + (c2 * np.exp(l2 * t)) + c0"
   ]
  },
  {
   "cell_type": "code",
   "execution_count": null,
   "id": "returning-explosion",
   "metadata": {},
   "outputs": [],
   "source": [
    "plt.plot(variable_t, variable_segment, \"b-\", label=\"data\")"
   ]
  },
  {
   "cell_type": "code",
   "execution_count": null,
   "id": "stone-reaction",
   "metadata": {},
   "outputs": [],
   "source": [
    "popt, pcov = curve_fit(func_null, variable_t, variable_segment)"
   ]
  },
  {
   "cell_type": "code",
   "execution_count": null,
   "id": "aerial-house",
   "metadata": {},
   "outputs": [],
   "source": [
    "popt, pcov = curve_fit(\n",
    "    func_null,\n",
    "    variable_t,\n",
    "    variable_segment,\n",
    "    bounds=([0.0, -1.0, -np.inf], [1.0, 1.0, np.inf]),\n",
    ")\n",
    "plt.plot(variable_t, variable_segment, \"b-\", label=\"data\")\n",
    "plt.plot(variable_t, func_null(variable_t, *popt), \"r-\")"
   ]
  },
  {
   "cell_type": "code",
   "execution_count": null,
   "id": "empty-scanner",
   "metadata": {},
   "outputs": [],
   "source": [
    "log_L_null = -np.sum(\n",
    "    (func_null(variable_t, *popt) - variable_segment) ** 2\n",
    ")  ##dont know what to do about the sigma"
   ]
  },
  {
   "cell_type": "code",
   "execution_count": null,
   "id": "pharmaceutical-tomorrow",
   "metadata": {},
   "outputs": [],
   "source": [
    "popt, pcov = curve_fit(\n",
    "    func_hyp,\n",
    "    variable_t,\n",
    "    variable_segment,\n",
    "    bounds=([0.0, -np.inf, -np.inf, -np.inf, 0], [1.0, np.inf, np.inf, 0, np.inf]),\n",
    ")\n",
    "plt.plot(variable_t, variable_segment, \"b-\", label=\"data\")\n",
    "plt.plot(variable_t, func_hyp(variable_t, *popt), \"r-\")"
   ]
  },
  {
   "cell_type": "code",
   "execution_count": null,
   "id": "numerical-tonight",
   "metadata": {},
   "outputs": [],
   "source": [
    "log_L_hyp = -np.sum((func_hyp(variable_t, *popt) - variable_segment) ** 2)"
   ]
  },
  {
   "cell_type": "code",
   "execution_count": null,
   "id": "mobile-medline",
   "metadata": {},
   "outputs": [],
   "source": [
    "log_L_hyp"
   ]
  },
  {
   "cell_type": "code",
   "execution_count": null,
   "id": "genuine-project",
   "metadata": {},
   "outputs": [],
   "source": [
    "LR = -2 * (log_L_null - log_L_hyp)"
   ]
  },
  {
   "cell_type": "code",
   "execution_count": null,
   "id": "suitable-insurance",
   "metadata": {},
   "outputs": [],
   "source": [
    "LR"
   ]
  },
  {
   "cell_type": "code",
   "execution_count": null,
   "id": "deadly-calendar",
   "metadata": {},
   "outputs": [],
   "source": [
    "chi_dist = sp.stats.chi2(df=1)"
   ]
  },
  {
   "cell_type": "code",
   "execution_count": null,
   "id": "alpha-celebrity",
   "metadata": {},
   "outputs": [],
   "source": [
    "1.0 - chi_dist.cdf(LR)"
   ]
  },
  {
   "cell_type": "code",
   "execution_count": null,
   "id": "spread-scale",
   "metadata": {},
   "outputs": [],
   "source": [
    "c0, c1, c2 = 0.0, -5.0, 4.0\n",
    "\n",
    "l1, l2 = -1.0, -0.5\n",
    "\n",
    "y = func_hyp(variable_t, c0, c1, c2, l1, l2)\n",
    "\n",
    "plt.plot(y)"
   ]
  },
  {
   "cell_type": "code",
   "execution_count": null,
   "id": "equal-cheat",
   "metadata": {},
   "outputs": [],
   "source": [
    "y = X_feature_norm[0, :, 0]\n",
    "X = np.array([0.0 for i in range(len(test_timeseries))]).reshape(-1, 1)"
   ]
  },
  {
   "cell_type": "code",
   "execution_count": null,
   "id": "suited-boring",
   "metadata": {},
   "outputs": [],
   "source": [
    "lr_model = skl.linear_model.LinearRegression().fit(X, y)"
   ]
  },
  {
   "cell_type": "code",
   "execution_count": null,
   "id": "wireless-characterization",
   "metadata": {},
   "outputs": [],
   "source": [
    "lr_model.score(X, y)"
   ]
  },
  {
   "cell_type": "code",
   "execution_count": null,
   "id": "precise-honey",
   "metadata": {},
   "outputs": [],
   "source": [
    "lr_model.intercept_"
   ]
  },
  {
   "cell_type": "code",
   "execution_count": null,
   "id": "satisfied-qualification",
   "metadata": {},
   "outputs": [],
   "source": [
    "np.mean(y)"
   ]
  },
  {
   "cell_type": "code",
   "execution_count": null,
   "id": "acute-camcorder",
   "metadata": {},
   "outputs": [],
   "source": [
    "plt.plot(test_timeseries)"
   ]
  },
  {
   "cell_type": "code",
   "execution_count": null,
   "id": "burning-gnome",
   "metadata": {},
   "outputs": [],
   "source": [
    "plt.plot(np.log(test_timeseries + 0.001))"
   ]
  },
  {
   "cell_type": "code",
   "execution_count": null,
   "id": "agreed-darwin",
   "metadata": {},
   "outputs": [],
   "source": [
    "def highlight_gene_group_property(an_df, selection_list, color=[]):\n",
    "    highlight_genes_df = copy.deepcopy(an_df)\n",
    "\n",
    "    selection_list = sorted(\n",
    "        list(\n",
    "            set(highlight_genes_df.obs[\"Gene\"].unique().tolist()) & set(selection_list)\n",
    "        )\n",
    "    )\n",
    "\n",
    "    for i, selected_gene in enumerate(selection_list):\n",
    "        selected_series = (highlight_genes_df.obs[\"Gene\"] == selected_gene).astype(\n",
    "            \"category\"\n",
    "        )\n",
    "        selected_series = selected_series.cat.reorder_categories([True, False])\n",
    "        highlight_genes_df.obs[\"Selected Genes: \" + str(i)] = selected_series\n",
    "\n",
    "    selected_series = (highlight_genes_df.obs[\"Gene\"].isin(selection_list)).astype(\n",
    "        \"category\"\n",
    "    )\n",
    "    selected_series = selected_series.cat.reorder_categories([True, False])\n",
    "    highlight_genes_df.obs[\"All Genes\"] = selected_series\n",
    "\n",
    "    # selected_series = (paga_df.obs[\"Gene\"]==\"ftsZ\").astype(float)\n",
    "    # selected_series[selected_series==0.] = np.NaN\n",
    "    # paga_df.obs[\"Selected Genes\"] = selected_series\n",
    "\n",
    "    fig = sc.pl.umap(\n",
    "        highlight_genes_df,\n",
    "        title=selection_list + [\"All Genes\"],\n",
    "        color=[\"Selected Genes: \" + str(i) for i in range(len(selection_list))]\n",
    "        + [\"All Genes\"],\n",
    "        groups=[True],\n",
    "        show=False,\n",
    "        legend_loc=\"right margin\",\n",
    "        add_outline=False,\n",
    "        size=50,\n",
    "        return_fig=True,\n",
    "        palette={True: \"red\", False: \"lightgrey\"},\n",
    "    )  # palette ={}\n",
    "\n",
    "    return fig"
   ]
  },
  {
   "cell_type": "code",
   "execution_count": null,
   "id": "solid-buffalo",
   "metadata": {},
   "outputs": [],
   "source": [
    "fig = highlight_gene_group(feature_paga_df, [\"dnaB\"])"
   ]
  },
  {
   "cell_type": "code",
   "execution_count": null,
   "id": "ongoing-serum",
   "metadata": {},
   "outputs": [],
   "source": [
    "plt.scatter(\n",
    "    feature_paga_df.obsm[\"X_umap\"][:, 0],\n",
    "    feature_paga_df.obsm[\"X_umap\"][:, 1],\n",
    "    s=5,\n",
    "    c=\"lightgrey\",\n",
    ")"
   ]
  },
  {
   "cell_type": "code",
   "execution_count": null,
   "id": "binding-canal",
   "metadata": {
    "tags": []
   },
   "outputs": [],
   "source": [
    "selection_list = [\"dnaB\"]\n",
    "\n",
    "highlight_genes_df = copy.deepcopy(feature_paga_df)\n",
    "\n",
    "selection_list = sorted(\n",
    "    list(set(highlight_genes_df.obs[\"Gene\"].unique().tolist()) & set(selection_list))\n",
    ")\n",
    "\n",
    "for i, selected_gene in enumerate(selection_list):\n",
    "    plt.scatter(\n",
    "        feature_paga_df.obsm[\"X_umap\"][:, 0],\n",
    "        feature_paga_df.obsm[\"X_umap\"][:, 1],\n",
    "        s=5,\n",
    "        c=\"lightgrey\",\n",
    "    )\n",
    "    plt.title(selected_gene)\n",
    "    selected_series = highlight_genes_df.obs[\"Gene\"] == selected_gene\n",
    "    selected_df = highlight_genes_df[selected_series]\n",
    "    targetid_list = selected_df.obs[\"TargetID\"].unique().tolist()\n",
    "    for i, targetid in enumerate(targetid_list):\n",
    "        selected_targetid_df = selected_df[selected_df.obs[\"TargetID\"] == targetid]\n",
    "        selected_targetid_df.obs = selected_targetid_df.obs.set_index(\n",
    "            \"N Match\"\n",
    "        ).sort_index()\n",
    "        x = selected_targetid_df.obsm[\"X_umap\"][:, 0]\n",
    "        y = selected_targetid_df.obsm[\"X_umap\"][:, 1]\n",
    "        plt.quiver(\n",
    "            x[:-1],\n",
    "            y[:-1],\n",
    "            x[1:] - x[:-1],\n",
    "            y[1:] - y[:-1],\n",
    "            scale_units=\"xy\",\n",
    "            angles=\"xy\",\n",
    "            scale=1,\n",
    "            color=vega_20_scanpy[i],\n",
    "            label=targetid,\n",
    "        )\n",
    "    plt.legend()\n",
    "    plt.show()"
   ]
  },
  {
   "cell_type": "code",
   "execution_count": null,
   "id": "demographic-services",
   "metadata": {},
   "outputs": [],
   "source": [
    "selected_targetid_df.obs"
   ]
  },
  {
   "cell_type": "code",
   "execution_count": null,
   "id": "plain-sacrifice",
   "metadata": {},
   "outputs": [],
   "source": [
    "highlight_genes_df"
   ]
  },
  {
   "cell_type": "code",
   "execution_count": null,
   "id": "third-requirement",
   "metadata": {},
   "outputs": [],
   "source": [
    "selected_series.cat.categories"
   ]
  },
  {
   "cell_type": "code",
   "execution_count": null,
   "id": "quiet-accused",
   "metadata": {},
   "outputs": [],
   "source": [
    "vega_20_scanpy"
   ]
  },
  {
   "cell_type": "code",
   "execution_count": null,
   "id": "federal-photography",
   "metadata": {},
   "outputs": [],
   "source": [
    "renormalizer = TimeSeriesScalerMinMax(value_range=(0.0, 1.0))"
   ]
  },
  {
   "cell_type": "code",
   "execution_count": null,
   "id": "immune-incidence",
   "metadata": {},
   "outputs": [],
   "source": [
    "division_df = paga_df.obs[paga_df.obs[\"leiden\"] == \"6\"]\n",
    "division_df.drop(columns=[\"leiden\", \"leiden_lowres\", \"leiden_highres\"])"
   ]
  },
  {
   "cell_type": "code",
   "execution_count": null,
   "id": "spiritual-immunology",
   "metadata": {
    "tags": []
   },
   "outputs": [],
   "source": [
    "division_df[\"Normalized Division Length Z-score\"] = division_df[\n",
    "    \"Division Length Z-score\"\n",
    "].apply(lambda x: renormalizer.fit_transform([x])[0][:, 0])"
   ]
  },
  {
   "cell_type": "code",
   "execution_count": null,
   "id": "similar-martial",
   "metadata": {},
   "outputs": [],
   "source": [
    "X = np.array(division_df[\"Normalized Division Length Z-score\"].tolist())[\n",
    "    :, :, np.newaxis\n",
    "]\n",
    "X = np.swapaxes(X, 1, 2)\n",
    "norm_soft_dtw_arr = parallel_norm_soft_dtw(X)"
   ]
  },
  {
   "cell_type": "code",
   "execution_count": null,
   "id": "random-nashville",
   "metadata": {},
   "outputs": [],
   "source": [
    "an_df_division = anndata.AnnData(\n",
    "    X=X.reshape(X.shape[0], -1), obs=division_df\n",
    ")  # AnnData container to use scanpy functions with unwrapped time vector"
   ]
  },
  {
   "cell_type": "code",
   "execution_count": null,
   "id": "metropolitan-sailing",
   "metadata": {},
   "outputs": [],
   "source": [
    "an_df_division"
   ]
  },
  {
   "cell_type": "code",
   "execution_count": null,
   "id": "traditional-boutique",
   "metadata": {
    "tags": []
   },
   "outputs": [],
   "source": [
    "n_neighbors = 15\n",
    "n_pcs = 20  # This shouldn't affect anything\n",
    "resolution = 0.25\n",
    "\n",
    "sc.pp.neighbors(an_df_division, n_neighbors=n_neighbors, n_pcs=n_pcs)\n",
    "knn_indices, knn_dists, forest = sc.neighbors.compute_neighbors_umap(\n",
    "    norm_soft_dtw_arr, n_neighbors=n_neighbors, metric=\"precomputed\"\n",
    ")\n",
    "(\n",
    "    an_df_division.uns[\"neighbors\"][\"distances\"],\n",
    "    an_df_division.uns[\"neighbors\"][\"connectivities\"],\n",
    ") = sc.neighbors._compute_connectivities_umap(\n",
    "    knn_indices,\n",
    "    knn_dists,\n",
    "    an_df_division.shape[0],\n",
    "    n_neighbors,  # change to neighbors you plan to use\n",
    ")\n",
    "an_df_division.obsp[\"distances\"] = an_df_division.uns[\"neighbors\"][\"distances\"]\n",
    "an_df_division.obsp[\"connectivities\"] = an_df_division.uns[\"neighbors\"][\n",
    "    \"connectivities\"\n",
    "]\n",
    "\n",
    "sc.tl.leiden(\n",
    "    an_df_division,\n",
    "    resolution=resolution,\n",
    "    n_iterations=-1,\n",
    ")\n",
    "sc.tl.paga(an_df_division, groups=\"leiden\")\n",
    "sc.pl.paga(an_df_division, add_pos=True, show=True)\n",
    "\n",
    "sc.tl.umap(an_df_division, init_pos=\"paga\", min_dist=0.25, spread=5.0)"
   ]
  },
  {
   "cell_type": "code",
   "execution_count": null,
   "id": "subject-young",
   "metadata": {},
   "outputs": [],
   "source": [
    "fig = sc.pl.umap(\n",
    "    an_df_division,\n",
    "    color=[\"leiden\"],\n",
    "    title=[\"Leiden Resolution=1.\"],\n",
    "    show=False,\n",
    "    legend_loc=\"on data\",\n",
    "    edges=True,\n",
    "    add_outline=False,\n",
    "    size=50,\n",
    "    return_fig=True,\n",
    "    palette=vega_20_scanpy,\n",
    ")"
   ]
  },
  {
   "cell_type": "code",
   "execution_count": null,
   "id": "average-garlic",
   "metadata": {},
   "outputs": [],
   "source": [
    "fig = plot_cluster_timeseries(\n",
    "    an_df_division.obs,\n",
    "    \"leiden\",\n",
    "    [\n",
    "        \"Division Length\",\n",
    "        \"Linear Growth Rate\",\n",
    "        \"Exponential Growth Rate\",\n",
    "        \"Width\",\n",
    "        \"mCherry Intensity\",\n",
    "        \"Doubling Time\",\n",
    "    ],\n",
    "    [\n",
    "        \"Division Length\",\n",
    "        \"Linear Growth Rate\",\n",
    "        \"Exponential Growth Rate\",\n",
    "        \"Width\",\n",
    "        \"mCherry Intensity\",\n",
    "        \"Doubling Time\",\n",
    "    ],\n",
    "    [(3, 12), (0, 20), (0.5, 2.5), (1.2, 1.6), (0, 6000), (0, 20)],\n",
    "    figsize=(8, 8),\n",
    "    wspace=0.25,\n",
    "    hspace=0.25,\n",
    "    color_list=vega_20_scanpy,\n",
    ")"
   ]
  },
  {
   "cell_type": "code",
   "execution_count": null,
   "id": "together-shaft",
   "metadata": {},
   "outputs": [],
   "source": [
    "fig = plot_cluster_timeseries_braycenters(\n",
    "    an_df_division.obs,\n",
    "    \"leiden\",\n",
    "    [\"Division Length Z-score\", \"Normalized Division Length Z-score\"],\n",
    "    [\"Division Length Z-score\", \"Normalized Division Length Z-score\"],\n",
    "    [(-4, 6), (0, 1)],\n",
    "    figsize=(8, 8),\n",
    "    wspace=0.25,\n",
    "    hspace=0.25,\n",
    "    color_list=vega_20_scanpy,\n",
    ")"
   ]
  },
  {
   "cell_type": "code",
   "execution_count": null,
   "id": "dental-setting",
   "metadata": {},
   "outputs": [],
   "source": [
    "group_0 = set(an_df_division.obs[an_df_division.obs[\"leiden\"] == \"0\"][\"Gene\"].unique())\n",
    "group_1 = set(an_df_division.obs[an_df_division.obs[\"leiden\"] == \"1\"][\"Gene\"].unique())\n",
    "group_2 = set(an_df_division.obs[an_df_division.obs[\"leiden\"] == \"2\"][\"Gene\"].unique())\n",
    "\n",
    "strong_recovery_genes_only = list(group_1 - group_0 - group_2)\n",
    "strong_recovery_genes = list(group_1)\n",
    "\n",
    "diverging_genes_only = list(group_2 - group_0 - group_1)\n",
    "diverging_genes = list(group_2)"
   ]
  },
  {
   "cell_type": "code",
   "execution_count": null,
   "id": "steady-envelope",
   "metadata": {},
   "outputs": [],
   "source": [
    "an_df_division_strong_recovery_only = an_df_division[\n",
    "    an_df_division.obs[\"Gene\"].isin(strong_recovery_genes_only)\n",
    "]\n",
    "an_df_division_strong_recovery = an_df_division[\n",
    "    an_df_division.obs[\"Gene\"].isin(strong_recovery_genes)\n",
    "]"
   ]
  },
  {
   "cell_type": "code",
   "execution_count": null,
   "id": "confident-interference",
   "metadata": {},
   "outputs": [],
   "source": [
    "plt.plot(\n",
    "    np.array(\n",
    "        an_df_division_strong_recovery_only.obs[\n",
    "            \"Normalized Division Length Z-score\"\n",
    "        ].tolist()\n",
    "    ).T,\n",
    "    c=\"grey\",\n",
    "    alpha=0.3,\n",
    ")\n",
    "plt.show()\n",
    "plt.plot(\n",
    "    np.array(\n",
    "        an_df_division_strong_recovery.obs[\n",
    "            \"Normalized Division Length Z-score\"\n",
    "        ].tolist()\n",
    "    ).T,\n",
    "    c=\"grey\",\n",
    "    alpha=0.2,\n",
    ")\n",
    "plt.show()"
   ]
  },
  {
   "cell_type": "code",
   "execution_count": null,
   "id": "digital-slide",
   "metadata": {},
   "outputs": [],
   "source": [
    "sorted(list(strong_recovery_genes_only))"
   ]
  },
  {
   "cell_type": "code",
   "execution_count": null,
   "id": "excess-plastic",
   "metadata": {},
   "outputs": [],
   "source": [
    "paga_df.obs"
   ]
  }
 ],
 "metadata": {
  "kernelspec": {
   "display_name": "Python 3 (ipykernel)",
   "language": "python",
   "name": "python3"
  },
  "language_info": {
   "codemirror_mode": {
    "name": "ipython",
    "version": 3
   },
   "file_extension": ".py",
   "mimetype": "text/x-python",
   "name": "python",
   "nbconvert_exporter": "python",
   "pygments_lexer": "ipython3",
   "version": "3.8.5"
  },
  "toc-showcode": false
 },
 "nbformat": 4,
 "nbformat_minor": 5
}
