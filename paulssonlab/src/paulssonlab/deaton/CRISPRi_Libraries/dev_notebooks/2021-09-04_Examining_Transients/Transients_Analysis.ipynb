{
 "cells": [
  {
   "cell_type": "markdown",
   "id": "20f955a9",
   "metadata": {},
   "source": [
    "## PAGA Analysis (with timeseries z-score Dataframe ready)\n",
    "\n",
    "- This is an attempt at compiling a final version of the community detection and downstream steps (i.e. the main analysis)\n",
    "\n",
    "- Later, this should be merged with all relevent upstream processing to get z-score timeseries\n",
    "\n",
    "- Try to cut down imports at that point\n",
    "\n",
    "- That final notebook should also include real (not z-score) timeseries information\n",
    "\n",
    "- Note that there are fluctuations in the illumination intensity which may be resulting in pathological behavior from the reporter\n",
    "\n",
    "- This has been normalized out in the upstream processing, but try to fix long term\n",
    "\n",
    "- Also consider a flat field correction for the final experiment"
   ]
  },
  {
   "cell_type": "code",
   "execution_count": null,
   "id": "b64160ee",
   "metadata": {},
   "outputs": [],
   "source": [
    "import paulssonlab.deaton.trenchripper.trenchripper as tr\n",
    "\n",
    "import numpy as np\n",
    "import pandas as pd\n",
    "import seaborn as sns\n",
    "import scipy as sp\n",
    "import sklearn as skl\n",
    "import dask.dataframe as dd\n",
    "import dask.array as da\n",
    "import dask\n",
    "import warnings\n",
    "import copy\n",
    "import random\n",
    "from sklearn.metrics.pairwise import (\n",
    "    euclidean_distances,\n",
    "    manhattan_distances,\n",
    "    cosine_distances,\n",
    ")\n",
    "\n",
    "from sklearn.metrics import silhouette_score\n",
    "import scipy.stats\n",
    "from sklearn.linear_model import LinearRegression\n",
    "from sklearn.cluster import AffinityPropagation\n",
    "from sklearn.manifold import TSNE\n",
    "from sklearn.cluster import AgglomerativeClustering\n",
    "\n",
    "import scanpy as sc\n",
    "import anndata\n",
    "import scipy as sp\n",
    "import scipy.sparse\n",
    "import dask.array as da\n",
    "from igraph.drawing.text import TextDrawer\n",
    "from tslearn.neighbors import KNeighborsTimeSeries\n",
    "from tslearn.metrics import cdist_soft_dtw_normalized, cdist_soft_dtw\n",
    "import networkx as nx\n",
    "import igraph as ig\n",
    "import leidenalg\n",
    "import umap\n",
    "from scanpy.plotting.palettes import default_20, vega_20_scanpy\n",
    "from matplotlib import pyplot as plt\n",
    "import ast\n",
    "from tslearn.barycenters import (\n",
    "    softdtw_barycenter,\n",
    "    dtw_barycenter_averaging,\n",
    "    euclidean_barycenter,\n",
    ")\n",
    "\n",
    "\n",
    "import pylab\n",
    "import scipy.cluster.hierarchy as sch\n",
    "\n",
    "import matplotlib.gridspec as gridspec\n",
    "import matplotlib as mpl\n",
    "\n",
    "import holoviews as hv\n",
    "\n",
    "hv.extension(\"bokeh\")\n",
    "random.seed(42)\n",
    "np.random.seed(42)\n",
    "\n",
    "warnings.filterwarnings(action=\"once\", category=UserWarning)"
   ]
  },
  {
   "cell_type": "markdown",
   "id": "d75c4209",
   "metadata": {},
   "source": [
    "### Initial Data Processing\n",
    "\n",
    "Here, I am going to try and replicate (to some extant) the corrections from \"Genomewide phenotypic analysis of growth, cell morphogenesis, and cell cycle events in Escherichia coli\""
   ]
  },
  {
   "cell_type": "markdown",
   "id": "2c43f4ea",
   "metadata": {},
   "source": [
    "#### Start Dask"
   ]
  },
  {
   "cell_type": "code",
   "execution_count": null,
   "id": "202e1e6b",
   "metadata": {},
   "outputs": [],
   "source": [
    "headpath = (\n",
    "    \"/home/de64/scratch/de64/sync_folder/2021-06-14_lDE20_biofloat_fullrun_1/Barcodes\"\n",
    ")"
   ]
  },
  {
   "cell_type": "code",
   "execution_count": null,
   "id": "88241660",
   "metadata": {
    "tags": []
   },
   "outputs": [],
   "source": [
    "dask_controller = tr.trcluster.dask_controller(\n",
    "    walltime=\"04:00:00\",\n",
    "    local=False,\n",
    "    n_workers=40,\n",
    "    memory=\"16GB\",\n",
    "    working_directory=headpath + \"/dask\",\n",
    ")\n",
    "dask_controller.startdask()"
   ]
  },
  {
   "cell_type": "code",
   "execution_count": null,
   "id": "2b02f2f7",
   "metadata": {},
   "outputs": [],
   "source": [
    "dask_controller.displaydashboard()"
   ]
  },
  {
   "cell_type": "code",
   "execution_count": null,
   "id": "a909c8ea-59ae-4643-af59-4ca9dd99a700",
   "metadata": {
    "tags": []
   },
   "outputs": [],
   "source": [
    "# dask_controller.shutdown()"
   ]
  },
  {
   "cell_type": "code",
   "execution_count": null,
   "id": "1837c6f8",
   "metadata": {
    "tags": []
   },
   "outputs": [],
   "source": [
    "gene_cluster_df_full = pd.read_pickle(\n",
    "    \"/home/de64/scratch/de64/sync_folder/2021-06-14_lDE20_biofloat_fullrun_1/2021-08-24_gene_cluster_df_no_filter.pkl\"\n",
    ")\n",
    "gene_cluster_df_full = gene_cluster_df_full.dropna(subset=[\"Gene\"])  # no control genes"
   ]
  },
  {
   "cell_type": "markdown",
   "id": "1c603d69",
   "metadata": {},
   "source": [
    "## 1) Preprocessing"
   ]
  },
  {
   "cell_type": "code",
   "execution_count": null,
   "id": "e981aecd",
   "metadata": {},
   "outputs": [],
   "source": [
    "def parallel_norm_soft_dtw(X, chunk_size=200):\n",
    "    X_dask = da.from_array(X, chunks=(chunk_size, X.shape[1], X.shape[2]))\n",
    "    soft_dtw_arr = da.blockwise(\n",
    "        cdist_soft_dtw, \"ik\", X_dask, \"itd\", X_dask, \"ktd\", concatenate=True\n",
    "    ).compute()\n",
    "    d_ii = np.diag(soft_dtw_arr)\n",
    "    norm_soft_dtw_arr = soft_dtw_arr - (\n",
    "        0.5 * (d_ii.reshape((-1, 1)) + d_ii.reshape((1, -1)))\n",
    "    )\n",
    "    return norm_soft_dtw_arr"
   ]
  },
  {
   "cell_type": "markdown",
   "id": "203364b9-a3a4-4867-a95d-cb6f9a9d4be4",
   "metadata": {},
   "source": [
    "### Relabel timeseries (correct this upstream later)"
   ]
  },
  {
   "cell_type": "code",
   "execution_count": null,
   "id": "73ce8934-d630-4f57-994b-ddb922f6ce67",
   "metadata": {},
   "outputs": [],
   "source": [
    "gene_cluster_df_full = gene_cluster_df_full.rename(\n",
    "    columns={\n",
    "        \"Kernel Trace: Division: major_axis_length: Yeo-Johnson: z score\": \"Division Length Z-score\",\n",
    "        \"Kernel Trace: Mean Linear Growth Rate: Volume: Yeo-Johnson: z score\": \"Linear Growth Rate Z-score\",\n",
    "        \"Kernel Trace: Mean Exponential Growth Rate: Volume: Yeo-Johnson: z score\": \"Exponential Growth Rate Z-score\",\n",
    "        \"Kernel Trace: Mean: minor_axis_length: Yeo-Johnson: z score\": \"Width Z-score\",\n",
    "        \"Kernel Trace: Mean: mCherry Intensity: Yeo-Johnson: z score\": \"mCherry Intensity Z-score\",\n",
    "        \"Kernel Trace: Delta t: Yeo-Johnson: z score\": \"Doubling Time Z-score\",\n",
    "        \"Kernel Trace: Division: major_axis_length\": \"Division Length\",\n",
    "        \"Kernel Trace: Mean Linear Growth Rate: Volume\": \"Linear Growth Rate\",\n",
    "        \"Kernel Trace: Mean Exponential Growth Rate: Volume\": \"Exponential Growth Rate\",\n",
    "        \"Kernel Trace: Mean: minor_axis_length\": \"Width\",\n",
    "        \"Kernel Trace: Mean: mCherry Intensity\": \"mCherry Intensity\",\n",
    "        \"Kernel Trace: Delta t\": \"Doubling Time\",\n",
    "    }\n",
    ")"
   ]
  },
  {
   "cell_type": "markdown",
   "id": "afc64a4f",
   "metadata": {},
   "source": [
    "### Take mean z-scores over the timeseries"
   ]
  },
  {
   "cell_type": "code",
   "execution_count": null,
   "id": "948c1195",
   "metadata": {},
   "outputs": [],
   "source": [
    "traces = [\n",
    "    \"Linear Growth Rate\",\n",
    "    \"Exponential Growth Rate\",\n",
    "    \"Division Length\",\n",
    "    \"Width\",\n",
    "    \"mCherry Intensity\",\n",
    "    \"Doubling Time\",\n",
    "]\n",
    "\n",
    "zscore_traces = [trace + \" Z-score\" for trace in traces]\n",
    "\n",
    "for trace in traces:\n",
    "    avg = gene_cluster_df_full.apply(lambda x: np.mean(x[trace]), axis=1)\n",
    "    gene_cluster_df_full[trace + \": Mean\"] = avg\n",
    "\n",
    "for zscore_trace in zscore_traces:\n",
    "    avg_zscore = gene_cluster_df_full.apply(lambda x: np.mean(x[zscore_trace]), axis=1)\n",
    "    gene_cluster_df_full[zscore_trace + \": Mean\"] = avg_zscore"
   ]
  },
  {
   "cell_type": "markdown",
   "id": "9f55c8db-5f08-4ad3-a3bb-0acc76f8fe53",
   "metadata": {},
   "source": [
    "## 2) Transiently Elongated Cells"
   ]
  },
  {
   "cell_type": "code",
   "execution_count": null,
   "id": "998a8e02-339a-4f4e-81fa-ef3a5c0577fb",
   "metadata": {},
   "outputs": [],
   "source": [
    "from tslearn.preprocessing import TimeSeriesScalerMinMax\n",
    "from tslearn.preprocessing import TimeSeriesScalerMeanVariance\n",
    "\n",
    "\n",
    "def plot_cluster_timeseries(\n",
    "    df,\n",
    "    cluster_label,\n",
    "    feature_labels,\n",
    "    displayed_labels,\n",
    "    feature_range_list,\n",
    "    agg_fn=np.mean,\n",
    "    x_ticks=[0, 10, 20],\n",
    "    cluster_subset=None,\n",
    "    figsize=(10, 10),\n",
    "    wspace=0.0,\n",
    "    hspace=0.0,\n",
    "    fontsize=14,\n",
    "    linewidth=5,\n",
    "    color_list=None,\n",
    "):\n",
    "\n",
    "    if cluster_subset is not None:\n",
    "        df = copy.copy(df)\n",
    "        df = df[df[cluster_label].isin(cluster_subset)]\n",
    "\n",
    "    timeseries_list = []\n",
    "    for feature_label in feature_labels:\n",
    "        agg_cluster_timeseries = (\n",
    "            df.groupby([cluster_label])\n",
    "            .apply(lambda x: agg_fn(np.array(x[feature_label].tolist()), axis=0))\n",
    "            .to_frame()\n",
    "        )\n",
    "        agg_cluster_timeseries = agg_cluster_timeseries.rename(\n",
    "            columns={0: feature_label}\n",
    "        )\n",
    "        timeseries_list.append(agg_cluster_timeseries)\n",
    "    timeseries_df = pd.concat(timeseries_list, axis=1)\n",
    "\n",
    "    fig = plt.figure(constrained_layout=True, figsize=figsize)\n",
    "    gs = fig.add_gridspec(1, len(timeseries_df), wspace=wspace)\n",
    "\n",
    "    for i in range(len(timeseries_df)):\n",
    "        mean_cluster_timeseries = timeseries_df.iloc[i]\n",
    "\n",
    "        clust_arr = np.array(timeseries_df.iloc[i].tolist())\n",
    "        if color_list == None:\n",
    "            color = \"tab:blue\"\n",
    "        else:\n",
    "            color = color_list[i]\n",
    "\n",
    "        if i == 0:\n",
    "            inner_gs = gs[0, i].subgridspec(\n",
    "                clust_arr.shape[0], 1, wspace=0, hspace=hspace\n",
    "            )\n",
    "            inner_grid_sub = inner_gs.subplots(sharex=True)\n",
    "            for c, ax in np.ndenumerate(inner_grid_sub):\n",
    "\n",
    "                feature_range = feature_range_list[c[0]]\n",
    "                ax.plot(clust_arr[c], linewidth=linewidth, color=color)\n",
    "                ax.set_ylim(feature_range[0], feature_range[1])\n",
    "                ax.set(xticks=[])\n",
    "                #                 ax.set(xticks=[], yticks=[0,6])\n",
    "                ax.set_ylabel(\n",
    "                    displayed_labels[c[0]],\n",
    "                    rotation=0,\n",
    "                    labelpad=30,\n",
    "                    fontsize=fontsize,\n",
    "                    ha=\"right\",\n",
    "                )  # ,orientation=\"horizontal\")\n",
    "\n",
    "            ax.set_xlabel(str(i), fontsize=fontsize)\n",
    "            ax.set(xticks=x_ticks)\n",
    "\n",
    "        else:\n",
    "            inner_gs = gs[0, i].subgridspec(\n",
    "                clust_arr.shape[0], 1, wspace=0, hspace=hspace\n",
    "            )\n",
    "            inner_grid_sub = inner_gs.subplots(sharex=True)\n",
    "            for c, ax in np.ndenumerate(inner_grid_sub):\n",
    "                feature_range = feature_range_list[c[0]]\n",
    "                ax.plot(clust_arr[c], linewidth=linewidth, color=color)\n",
    "                ax.set_ylim(feature_range[0], feature_range[1])\n",
    "                ax.set(xticks=[], yticks=[])\n",
    "\n",
    "            ax.set_xlabel(str(i), fontsize=fontsize)\n",
    "            ax.set(xticks=x_ticks)\n",
    "\n",
    "    plt.tight_layout()\n",
    "    return fig\n",
    "\n",
    "\n",
    "def get_braycenters(df, columns=None, max_iter=50, tol=0.001):\n",
    "    df = df[columns]\n",
    "    X = np.array(df.apply(lambda x: x.tolist(), axis=1).tolist())\n",
    "    X = np.swapaxes(X, 1, 2)\n",
    "\n",
    "    Y = softdtw_barycenter(X, max_iter=max_iter, tol=tol)  # T X D\n",
    "\n",
    "    return Y\n",
    "\n",
    "\n",
    "def plot_cluster_timeseries_braycenters(\n",
    "    df,\n",
    "    cluster_label,\n",
    "    feature_labels,\n",
    "    displayed_labels,\n",
    "    feature_range_list,\n",
    "    x_ticks=[0, 10, 20],\n",
    "    cluster_subset=None,\n",
    "    figsize=(10, 10),\n",
    "    wspace=0.0,\n",
    "    hspace=0.0,\n",
    "    fontsize=14,\n",
    "    linewidth=3,\n",
    "    color_list=None,\n",
    "):\n",
    "\n",
    "    if cluster_subset is not None:\n",
    "        df = copy.copy(df)\n",
    "        df = df[df[cluster_label].isin(cluster_subset)]\n",
    "\n",
    "    cluster_groupby = df.groupby([cluster_label])\n",
    "    agg_cluster_timeseries = cluster_groupby.apply(\n",
    "        lambda x: get_braycenters(x, columns=feature_labels)\n",
    "    )\n",
    "\n",
    "    timeseries_list = []\n",
    "    for i, feature_label in enumerate(feature_labels):\n",
    "        selected_feature_agg = agg_cluster_timeseries.apply(\n",
    "            lambda x: x[:, i]\n",
    "        ).to_frame()\n",
    "        selected_feature_agg = selected_feature_agg.rename(columns={0: feature_label})\n",
    "        timeseries_list.append(selected_feature_agg)\n",
    "\n",
    "    timeseries_df = pd.concat(timeseries_list, axis=1)\n",
    "\n",
    "    fig = plt.figure(constrained_layout=True, figsize=figsize)\n",
    "    gs = fig.add_gridspec(1, len(timeseries_df), wspace=wspace)\n",
    "\n",
    "    for i in range(len(timeseries_df)):\n",
    "        mean_cluster_timeseries = timeseries_df.iloc[i]\n",
    "\n",
    "        clust_arr = np.array(timeseries_df.iloc[i].tolist())\n",
    "        if color_list == None:\n",
    "            color = \"tab:blue\"\n",
    "        else:\n",
    "            color = color_list[i]\n",
    "\n",
    "        if i == 0:\n",
    "            inner_gs = gs[0, i].subgridspec(\n",
    "                clust_arr.shape[0], 1, wspace=0, hspace=hspace\n",
    "            )\n",
    "            inner_grid_sub = inner_gs.subplots(sharex=True)\n",
    "            for c, ax in np.ndenumerate(inner_grid_sub):\n",
    "\n",
    "                feature_range = feature_range_list[c[0]]\n",
    "                ax.plot(clust_arr[c], linewidth=linewidth, color=color)\n",
    "                ax.set_ylim(feature_range[0], feature_range[1])\n",
    "                ax.set(xticks=[])\n",
    "                #                 ax.set(xticks=[], yticks=[0,6])\n",
    "                ax.set_ylabel(\n",
    "                    displayed_labels[c[0]],\n",
    "                    rotation=0,\n",
    "                    labelpad=30,\n",
    "                    fontsize=fontsize,\n",
    "                    ha=\"right\",\n",
    "                )  # ,orientation=\"horizontal\")\n",
    "\n",
    "            ax.set_xlabel(str(i), fontsize=fontsize)\n",
    "            ax.set(xticks=x_ticks)\n",
    "\n",
    "        else:\n",
    "            inner_gs = gs[0, i].subgridspec(\n",
    "                clust_arr.shape[0], 1, wspace=0, hspace=hspace\n",
    "            )\n",
    "            inner_grid_sub = inner_gs.subplots(sharex=True)\n",
    "            for c, ax in np.ndenumerate(inner_grid_sub):\n",
    "                feature_range = feature_range_list[c[0]]\n",
    "                ax.plot(clust_arr[c], linewidth=linewidth, color=color)\n",
    "                ax.set_ylim(feature_range[0], feature_range[1])\n",
    "                ax.set(xticks=[], yticks=[])\n",
    "\n",
    "            ax.set_xlabel(str(i), fontsize=fontsize)\n",
    "            ax.set(xticks=x_ticks)\n",
    "\n",
    "    plt.tight_layout()\n",
    "    return fig"
   ]
  },
  {
   "cell_type": "markdown",
   "id": "ef9f78fe-95c8-43c1-9b1b-4395f7197358",
   "metadata": {},
   "source": [
    "### Renormalization"
   ]
  },
  {
   "cell_type": "code",
   "execution_count": null,
   "id": "40848413-e59f-4fdf-8569-2cf0c9bcbe28",
   "metadata": {},
   "outputs": [],
   "source": [
    "norm_threshold = 1\n",
    "feature_integrated_norm = gene_cluster_df_full[\"Division Length Z-score\"].apply(\n",
    "    lambda x: sp.integrate.simpson(x)\n",
    ")\n",
    "feature_max_norm = gene_cluster_df_full[\"Division Length Z-score\"].apply(\n",
    "    lambda x: np.max(x)\n",
    ")\n",
    "feature_filtered_df = gene_cluster_df_full[feature_max_norm > norm_threshold]"
   ]
  },
  {
   "cell_type": "code",
   "execution_count": null,
   "id": "0aadf37c-521f-43f5-b091-d514937fcb9b",
   "metadata": {},
   "outputs": [],
   "source": [
    "X_feature = np.array(feature_filtered_df[\"Division Length\"].tolist())[:, :, np.newaxis]"
   ]
  },
  {
   "cell_type": "code",
   "execution_count": null,
   "id": "bf54fcc9-bbf6-4391-8ce4-32cd7d0d46f6",
   "metadata": {},
   "outputs": [],
   "source": [
    "V_max = np.max(X_feature, axis=1, keepdims=True)\n",
    "V_min = np.min(X_feature, axis=1, keepdims=True)\n",
    "V_i = X_feature[:, 0:1]\n",
    "min_max_norm = (X_feature - V_i) / (V_max - V_min)\n",
    "feature_filtered_df[\"Division Length Feature Norm\"] = [\n",
    "    item for item in min_max_norm[:, :, 0]\n",
    "]"
   ]
  },
  {
   "cell_type": "code",
   "execution_count": null,
   "id": "79052fcb-2078-4309-878e-c6c003218008",
   "metadata": {},
   "outputs": [],
   "source": [
    "plt.plot(min_max_norm[0])"
   ]
  },
  {
   "cell_type": "code",
   "execution_count": null,
   "id": "fc9bacb6-eda7-4e81-be7a-604ec0f6b2fb",
   "metadata": {
    "tags": []
   },
   "outputs": [],
   "source": [
    "dtw_feature_norm = parallel_norm_soft_dtw(min_max_norm)"
   ]
  },
  {
   "cell_type": "markdown",
   "id": "621c4fb2-3dfa-4c03-9f24-f0a19819e5f1",
   "metadata": {
    "tags": []
   },
   "source": [
    "### Initialize Anndata Object"
   ]
  },
  {
   "cell_type": "code",
   "execution_count": null,
   "id": "f36d2c6d-9fde-4933-b67d-650c69e71689",
   "metadata": {},
   "outputs": [],
   "source": [
    "an_df_feature = anndata.AnnData(\n",
    "    X=min_max_norm.reshape(min_max_norm.shape[0], -1), obs=feature_filtered_df\n",
    ")  # AnnData container to use scanpy functions with unwrapped time vector"
   ]
  },
  {
   "cell_type": "markdown",
   "id": "d5a02b9c-6d1f-4cd7-85c8-441601050bcf",
   "metadata": {},
   "source": [
    "### Compute KNN Graph"
   ]
  },
  {
   "cell_type": "code",
   "execution_count": null,
   "id": "a10eba0a-5247-4fb6-aa29-65baeeb6d931",
   "metadata": {},
   "outputs": [],
   "source": [
    "n_neighbors = 15\n",
    "n_pcs = 20  # This shouldn't affect anything\n",
    "\n",
    "sc.pp.neighbors(an_df_feature, n_neighbors=n_neighbors, n_pcs=n_pcs)\n",
    "knn_indices, knn_dists, forest = sc.neighbors.compute_neighbors_umap(\n",
    "    dtw_feature_norm, n_neighbors=n_neighbors, metric=\"precomputed\"\n",
    ")\n",
    "(\n",
    "    an_df_feature.uns[\"neighbors\"][\"distances\"],\n",
    "    an_df_feature.uns[\"neighbors\"][\"connectivities\"],\n",
    ") = sc.neighbors._compute_connectivities_umap(\n",
    "    knn_indices,\n",
    "    knn_dists,\n",
    "    an_df_feature.shape[0],\n",
    "    n_neighbors,  # change to neighbors you plan to use\n",
    ")\n",
    "an_df_feature.obsp[\"distances\"] = an_df_feature.uns[\"neighbors\"][\"distances\"]\n",
    "an_df_feature.obsp[\"connectivities\"] = an_df_feature.uns[\"neighbors\"][\"connectivities\"]\n",
    "an_df_feature.obsp[\"soft_dtw\"] = dtw_feature_norm"
   ]
  },
  {
   "cell_type": "markdown",
   "id": "a13c9dcf-b516-4957-bb97-5f90b5a1ba0d",
   "metadata": {},
   "source": [
    "### Computing Leiden, PAGA and UMAP"
   ]
  },
  {
   "cell_type": "code",
   "execution_count": null,
   "id": "758bdd34-1626-46a6-8ec5-8ebb14bffa4f",
   "metadata": {
    "tags": []
   },
   "outputs": [],
   "source": [
    "feature_paga_df_dict = {}\n",
    "for resolution in [0.25, 1.0, 1.5]:\n",
    "    feature_paga_df_dict[resolution] = copy.deepcopy(an_df_feature)\n",
    "    sc.tl.leiden(\n",
    "        feature_paga_df_dict[resolution], resolution=resolution, n_iterations=-1\n",
    "    )\n",
    "    sc.tl.paga(feature_paga_df_dict[resolution], groups=\"leiden\")\n",
    "    sc.pl.paga(feature_paga_df_dict[resolution], add_pos=True, show=False)\n",
    "sc.tl.umap(feature_paga_df_dict[1.0], init_pos=\"paga\", min_dist=0.25, spread=5.0)\n",
    "feature_paga_df_dict[1.0].obs[\"leiden_lowres\"] = feature_paga_df_dict[0.25].obs[\n",
    "    \"leiden\"\n",
    "]\n",
    "feature_paga_df_dict[1.0].obs[\"leiden_highres\"] = feature_paga_df_dict[1.5].obs[\n",
    "    \"leiden\"\n",
    "]\n",
    "feature_paga_df = feature_paga_df_dict[1.0]"
   ]
  },
  {
   "cell_type": "code",
   "execution_count": null,
   "id": "28d7bb65-b531-4ffd-bff7-8784b5acc880",
   "metadata": {
    "tags": []
   },
   "outputs": [],
   "source": [
    "fig = sc.pl.umap(\n",
    "    feature_paga_df,\n",
    "    color=[\"leiden_lowres\", \"leiden\", \"leiden_highres\"],\n",
    "    title=[\"Leiden Resolution=0.25\", \"Leiden Resolution=1.\", \"Leiden Resolution=1.5\"],\n",
    "    show=False,\n",
    "    legend_loc=\"on data\",\n",
    "    edges=True,\n",
    "    add_outline=False,\n",
    "    size=50,\n",
    "    return_fig=True,\n",
    "    palette=vega_20_scanpy,\n",
    ")"
   ]
  },
  {
   "cell_type": "code",
   "execution_count": null,
   "id": "5575a0bf-ed7b-4297-be77-ab61ddcad9e4",
   "metadata": {},
   "outputs": [],
   "source": [
    "feature_paga_df.obs[\"N Match\"] = 20.0 - feature_paga_df.obs[\"N Mismatch\"]\n",
    "feature_del_N_match_series = feature_paga_df.obs.groupby(\"TargetID\").apply(\n",
    "    lambda x: x[\"N Match\"] - np.min(x[\"N Match\"])\n",
    ")\n",
    "feature_del_N_match_series = feature_del_N_match_series.droplevel(\"TargetID\")\n",
    "feature_paga_df.obs[\"Delta N Match\"] = feature_del_N_match_series"
   ]
  },
  {
   "cell_type": "code",
   "execution_count": null,
   "id": "e7c57c70-1d9d-4625-b308-2bc35cf78740",
   "metadata": {},
   "outputs": [],
   "source": [
    "feature_paga_df.obs[\"Division Length Feature Norm Final Value\"] = feature_paga_df.obs[\n",
    "    \"Division Length Feature Norm\"\n",
    "].apply(lambda x: x[-1])"
   ]
  },
  {
   "cell_type": "code",
   "execution_count": null,
   "id": "0f909938-c74b-4f60-b8eb-cf5bf9975f87",
   "metadata": {},
   "outputs": [],
   "source": [
    "feature_paga_df.obs[\"Division Length Feature Norm t Half Max\"] = feature_paga_df.obs[\n",
    "    \"Division Length Feature Norm\"\n",
    "].apply(lambda x: np.where(x >= (np.max(x) / 2.0))[0][0])"
   ]
  },
  {
   "cell_type": "code",
   "execution_count": null,
   "id": "ef6b698c-98f7-4657-b2dd-0c734699f618",
   "metadata": {},
   "outputs": [],
   "source": [
    "plt.hist(feature_paga_df.obs[\"Division Length Feature Norm t Half Max\"], bins=20)\n",
    "plt.show()\n",
    "plt.hist(feature_paga_df.obs[\"Division Length Feature Norm Final Value\"], bins=20)\n",
    "plt.show()"
   ]
  },
  {
   "cell_type": "code",
   "execution_count": null,
   "id": "47fbc070-27e3-4a34-96fe-c157e5b77612",
   "metadata": {},
   "outputs": [],
   "source": [
    "np.unique(\n",
    "    feature_paga_df.obs[\n",
    "        (feature_paga_df.obs[\"Division Length Feature Norm t Half Max\"] >= 3.0)\n",
    "        & (feature_paga_df.obs[\"Division Length Feature Norm t Half Max\"] < 4.0)\n",
    "    ][\"Gene\"].tolist(),\n",
    "    return_counts=True,\n",
    ")"
   ]
  },
  {
   "cell_type": "code",
   "execution_count": null,
   "id": "3eb3a76d-5e8e-42f7-aa71-e60817741256",
   "metadata": {},
   "outputs": [],
   "source": [
    "df_low_compensation = feature_paga_df.obs[\n",
    "    feature_paga_df.obs[\"Division Length Feature Norm Final Value\"] > 0.5\n",
    "]\n",
    "gene_groupby_mean = df_low_compensation.groupby(\"Gene\")[\n",
    "    \"Division Length Feature Norm t Half Max\"\n",
    "].apply(lambda x: np.nanmedian(x))"
   ]
  },
  {
   "cell_type": "code",
   "execution_count": null,
   "id": "e65155e1-db8d-4501-916f-0d479d23ca65",
   "metadata": {},
   "outputs": [],
   "source": [
    "plt.hist(gene_groupby_mean, bins=20)\n",
    "plt.show()"
   ]
  },
  {
   "cell_type": "code",
   "execution_count": null,
   "id": "fa5a3b05-d2a4-4791-b455-86f5c54dec6b",
   "metadata": {},
   "outputs": [],
   "source": [
    "gene_groupby_mean[gene_groupby_mean < 7.0]"
   ]
  },
  {
   "cell_type": "code",
   "execution_count": null,
   "id": "06523199-4c29-4f40-b0ec-cee9bc88077e",
   "metadata": {},
   "outputs": [],
   "source": [
    "plt.plot(\n",
    "    feature_paga_df.obs[feature_paga_df.obs[\"Gene\"] == \"tff\"][\"Division Length\"][0]\n",
    ")"
   ]
  },
  {
   "cell_type": "code",
   "execution_count": null,
   "id": "a74b7250-1a67-4f57-b292-3abf3c812b4f",
   "metadata": {},
   "outputs": [],
   "source": [
    "plt.plot(feature_paga_df.obs[feature_paga_df.obs[\"Gene\"] == \"xseB\"][\"Width\"][0])"
   ]
  },
  {
   "cell_type": "code",
   "execution_count": null,
   "id": "14af85dd-cd4b-487b-a3b7-b0b4a8b0638c",
   "metadata": {},
   "outputs": [],
   "source": [
    "feature_paga_df.obs[feature_paga_df.obs[\"Gene\"] == \"xseB\"][\"Division Length\"][0]"
   ]
  },
  {
   "cell_type": "code",
   "execution_count": null,
   "id": "9ddb7414-e524-4aa0-a827-d0a93826449b",
   "metadata": {},
   "outputs": [],
   "source": []
  },
  {
   "cell_type": "code",
   "execution_count": null,
   "id": "f418444d-1c6e-4bba-b955-df6ae9b7a3fd",
   "metadata": {},
   "outputs": [],
   "source": [
    "fig = sc.pl.umap(\n",
    "    feature_paga_df,\n",
    "    color=[\n",
    "        \"Division Length Feature Norm Final Value\",\n",
    "        \"Division Length Feature Norm t Half Max\",\n",
    "    ],\n",
    "    show=False,\n",
    "    legend_loc=\"on data\",\n",
    "    add_outline=False,\n",
    "    size=50,\n",
    "    return_fig=True,\n",
    "    cmap=\"RdBu_r\",\n",
    "    wspace=0.25,\n",
    ")"
   ]
  },
  {
   "cell_type": "code",
   "execution_count": null,
   "id": "dcca2eaf-4ecc-4935-97bc-01cfa0d9216e",
   "metadata": {},
   "outputs": [],
   "source": [
    "fig = plot_cluster_timeseries_braycenters(\n",
    "    feature_paga_df.obs,\n",
    "    \"leiden\",\n",
    "    [\"Division Length Feature Norm\", \"Division Length Feature Norm\"],\n",
    "    [\"Division Length Feature Norm\", \"Division Length Feature Norm\"],\n",
    "    [(-1, 1), (-1, 1)],\n",
    "    figsize=(15, 6),\n",
    "    wspace=0.25,\n",
    "    hspace=0.25,\n",
    "    color_list=vega_20_scanpy,\n",
    ")"
   ]
  },
  {
   "cell_type": "markdown",
   "id": "7c3dddb3-ad67-4877-80d7-722429c7d242",
   "metadata": {},
   "source": [
    "### GO Term Enrichment"
   ]
  },
  {
   "cell_type": "code",
   "execution_count": null,
   "id": "bc3f2cbc-16ee-4aa4-afbb-9519474c95aa",
   "metadata": {},
   "outputs": [],
   "source": [
    "import goatools\n",
    "import goatools.base\n",
    "from goatools.base import download_go_basic_obo\n",
    "\n",
    "from goatools.obo_parser import GODag\n",
    "from goatools.anno.gaf_reader import GafReader\n",
    "from goatools.semantic import semantic_similarity\n",
    "from goatools.semantic import TermCounts, get_info_content\n",
    "\n",
    "from goatools.goea.go_enrichment_ns import GOEnrichmentStudyNS\n",
    "from goatools.go_enrichment import GOEnrichmentStudy\n",
    "\n",
    "\n",
    "def search_go(ns2assoc, obodag, inv_gene_to_id, go_term):\n",
    "    namespace_abbv = {\n",
    "        \"biological_process\": \"BP\",\n",
    "        \"molecular_function\": \"MF\",\n",
    "        \"cellular_component\": \"CC\",\n",
    "    }\n",
    "\n",
    "    print(\"Searching for \" + str(obodag[go_term].name))\n",
    "    namespace = namespace_abbv[obodag[go_term].namespace]\n",
    "    child_goterms = list(obodag[go_term].get_all_children())\n",
    "    gene_list = [\n",
    "        inv_gene_to_id[key]\n",
    "        for key, val in ns2assoc[namespace].items()\n",
    "        if go_term in val\n",
    "    ]\n",
    "    for child_goterm in child_goterms:\n",
    "        gene_list += [\n",
    "            inv_gene_to_id[key]\n",
    "            for key, val in ns2assoc[namespace].items()\n",
    "            if child_goterm in val\n",
    "        ]\n",
    "    gene_list = sorted(list(set(gene_list)))\n",
    "    return gene_list\n",
    "\n",
    "\n",
    "def get_enriched_GO_terms(\n",
    "    background_gene_list, gene_list, obodag, objanno, ns2assoc, pval=0.05, GO_type=\"BP\"\n",
    "):\n",
    "\n",
    "    gene_to_id = {assoc.DB_Symbol: assoc.DB_ID for assoc in objanno.associations}\n",
    "    synonym_dict = {\n",
    "        synonym: assoc.DB_ID\n",
    "        for assoc in objanno.associations\n",
    "        for synonym in assoc.DB_Synonym\n",
    "    }\n",
    "    gene_to_id.update(synonym_dict)\n",
    "\n",
    "    # background gene set\n",
    "\n",
    "    all_genes_uniprot = [\n",
    "        gene_to_id[item] for item in background_gene_list if item in gene_to_id.keys()\n",
    "    ]\n",
    "    selected_genes_uniprot = [\n",
    "        gene_to_id[item] for item in gene_list if item in gene_to_id.keys()\n",
    "    ]\n",
    "\n",
    "    print(len(all_genes_uniprot))\n",
    "    print(len(selected_genes_uniprot))\n",
    "\n",
    "    goeaobj = GOEnrichmentStudy(\n",
    "        all_genes_uniprot,  # List of mouse protein-coding genes\n",
    "        ns2assoc[GO_type],  # geneid/GO associations\n",
    "        obodag,  # Ontologies\n",
    "        propagate_counts=True,\n",
    "        alpha=pval,  # default significance cut-off\n",
    "        methods=[\"fdr_bh\"],\n",
    "    )\n",
    "    # defult multipletest correction method\n",
    "\n",
    "    goea_results_all = goeaobj.run_study(selected_genes_uniprot, prt=None)\n",
    "    goea_quiet_sig = [r for r in goea_results_all if r.p_fdr_bh < pval]\n",
    "    goea_quiet_enriched = [r for r in goea_quiet_sig if r.enrichment == \"e\"]\n",
    "    return goea_quiet_enriched\n",
    "\n",
    "\n",
    "def pick_exemplar(go1, go2, termcounts, obodag, info_thr, pval_factor=2.0):\n",
    "\n",
    "    info_1_low = get_info_content(go1.GO, termcounts) < info_thr\n",
    "    info_2_low = get_info_content(go2.GO, termcounts) < info_thr\n",
    "    if info_1_low and not info_2_low:\n",
    "        return go2\n",
    "    elif info_2_low and not info_1_low:\n",
    "        return go1\n",
    "    elif info_2_low and info_1_low:\n",
    "        return go1\n",
    "\n",
    "    pval_ratio = go1.p_fdr_bh / go2.p_fdr_bh\n",
    "\n",
    "    if pval_ratio > pval_factor:\n",
    "        return go2\n",
    "    elif pval_ratio < (1.0 / pval_factor):\n",
    "        return go1\n",
    "\n",
    "    go1_parents = list(obodag[go1.GO].get_all_parents())\n",
    "    go2_parents = list(obodag[go2.GO].get_all_parents())\n",
    "\n",
    "    if go2.GO in go1_parents:\n",
    "        return go2\n",
    "\n",
    "    elif go1.GO in go2_parents:\n",
    "        return go1\n",
    "\n",
    "    return go1\n",
    "\n",
    "\n",
    "def get_filtered_go_terms(\n",
    "    obodag, objanno, goea_list, sim_thr=0.05, info_thr=1.0, GO_type=\"BP\"\n",
    "):\n",
    "\n",
    "    termcounts = TermCounts(obodag, objanno.get_ns2assc()[GO_type])\n",
    "\n",
    "    go_term_list = [item.GO for item in goea_list]\n",
    "    sim_arr = np.zeros((len(go_term_list), len(go_term_list)))\n",
    "    for i in range(len(go_term_list)):\n",
    "        for j in range(len(go_term_list)):\n",
    "            sim_arr[i, j] = semantic_similarity(\n",
    "                go_term_list[i], go_term_list[j], obodag\n",
    "            )\n",
    "    np.fill_diagonal(sim_arr, 0.0)\n",
    "\n",
    "    working_group_idx = 0\n",
    "    grouped_terms = {}\n",
    "    group_exemplars = {}\n",
    "    go_term_indices = list(range(len(go_term_list)))\n",
    "\n",
    "    while len(go_term_indices) > 0:\n",
    "        i = go_term_indices[0]\n",
    "        most_sim_arg = np.argmax(sim_arr[i])\n",
    "        sim_score = sim_arr[i, most_sim_arg]\n",
    "        if sim_score > sim_thr:\n",
    "            if len(grouped_terms) > 0:\n",
    "                in_other_group_keys = [\n",
    "                    key for key, val in grouped_terms.items() if most_sim_arg in val\n",
    "                ]\n",
    "                if len(in_other_group_keys) == 1:\n",
    "                    other_group_idx = in_other_group_keys[0]\n",
    "                    grouped_terms[other_group_idx] = grouped_terms[other_group_idx] + [\n",
    "                        i\n",
    "                    ]\n",
    "                    group_exemplars[other_group_idx] = pick_exemplar(\n",
    "                        group_exemplars[other_group_idx],\n",
    "                        goea_list[i],\n",
    "                        termcounts,\n",
    "                        obodag,\n",
    "                        info_thr,\n",
    "                    )\n",
    "                else:\n",
    "                    grouped_terms[working_group_idx] = [i, most_sim_arg]\n",
    "                    group_exemplars[working_group_idx] = pick_exemplar(\n",
    "                        goea_list[i],\n",
    "                        goea_list[most_sim_arg],\n",
    "                        termcounts,\n",
    "                        obodag,\n",
    "                        info_thr,\n",
    "                    )\n",
    "                    working_group_idx += 1\n",
    "                    go_term_indices.remove(most_sim_arg)\n",
    "            else:\n",
    "                grouped_terms[working_group_idx] = [i, most_sim_arg]\n",
    "                group_exemplars[working_group_idx] = pick_exemplar(\n",
    "                    goea_list[i], goea_list[most_sim_arg], termcounts, obodag, info_thr\n",
    "                )\n",
    "                working_group_idx += 1\n",
    "                go_term_indices.remove(most_sim_arg)\n",
    "        go_term_indices.remove(i)\n",
    "\n",
    "    group_exemplars = list(group_exemplars.values())\n",
    "\n",
    "    return group_exemplars\n",
    "\n",
    "\n",
    "def get_GO_assign_dict(selected_goea, cluster_genes_uniprot):\n",
    "    all_study_items = copy.copy(cluster_genes_uniprot)\n",
    "    depth_list = sorted(set([item.depth for item in selected_goea]))[::-1]\n",
    "    assign_dict = {}\n",
    "    for depth in depth_list:\n",
    "        go_terms_at_level = [item for item in selected_goea if item.depth == depth]\n",
    "        for go_term in go_terms_at_level:\n",
    "            study_item_list = list(go_term.study_items)\n",
    "            for study_item in study_item_list:\n",
    "                if study_item in all_study_items:\n",
    "                    assign_dict[study_item] = go_term.name\n",
    "                    all_study_items.remove(study_item)\n",
    "\n",
    "    for remaining_item in all_study_items:\n",
    "        assign_dict[remaining_item] = \"Unassigned\"\n",
    "\n",
    "    return assign_dict"
   ]
  },
  {
   "cell_type": "code",
   "execution_count": null,
   "id": "e31bc00a-f3a9-46b5-ae80-7479a62c88e2",
   "metadata": {},
   "outputs": [],
   "source": [
    "# Get ontologies\n",
    "obo_fname = download_go_basic_obo()\n",
    "\n",
    "# Get ecoli association file (ecocyc)\n",
    "gaf_handle = goatools.base.http_get(\n",
    "    \"http://current.geneontology.org/annotations/ecocyc.gaf.gz\", fout=\"./ecocyc.gaf.gz\"\n",
    ")\n",
    "gaf_fname = goatools.base.gunzip(\"./ecocyc.gaf.gz\")\n",
    "\n",
    "## Getting ontologies and other nonesense\n",
    "\n",
    "obodag = GODag(obo_fname)\n",
    "objanno = GafReader(gaf_fname)\n",
    "ns2assoc = objanno.get_ns2assc()\n",
    "\n",
    "gene_to_id = {assoc.DB_Symbol: assoc.DB_ID for assoc in objanno.associations}\n",
    "inv_gene_to_id = {assoc.DB_ID: assoc.DB_Symbol for assoc in objanno.associations}\n",
    "synonym_dict = {\n",
    "    synonym: assoc.DB_ID\n",
    "    for assoc in objanno.associations\n",
    "    for synonym in assoc.DB_Synonym\n",
    "}\n",
    "gene_to_id.update(synonym_dict)"
   ]
  },
  {
   "cell_type": "code",
   "execution_count": null,
   "id": "4b2566da-6cab-40d2-84d2-3295e60a1bab",
   "metadata": {},
   "outputs": [],
   "source": [
    "# background gene set\n",
    "\n",
    "all_genes = feature_paga_df.obs[\"Gene\"].unique().tolist()\n",
    "\n",
    "clust_id = str(17)\n",
    "cluster_genes = sorted(\n",
    "    feature_paga_df.obs[feature_paga_df.obs[\"leiden_highres\"] == clust_id][\"Gene\"]\n",
    "    .unique()\n",
    "    .tolist()\n",
    ")\n",
    "\n",
    "goea_quiet_enriched = get_enriched_GO_terms(\n",
    "    all_genes, cluster_genes, obodag, objanno, ns2assoc, pval=0.05, GO_type=\"BP\"\n",
    ")\n",
    "filtered_go_terms = get_filtered_go_terms(\n",
    "    obodag, objanno, goea_quiet_enriched, sim_thr=0.3, info_thr=1.0\n",
    ")\n",
    "go_term_dict = {\n",
    "    go_term.name: go_term.ratio_in_study[0] for go_term in filtered_go_terms\n",
    "}\n",
    "# ttl_terms = np.sum(list(go_term_dict.values()))\n",
    "# go_term_dict = {key:val/ttl_terms for key,val in go_term_dict.items()}\n",
    "\n",
    "print()\n",
    "for key, value in go_term_dict.items():\n",
    "    print(key, \" : \", value)\n",
    "print()\n",
    "for i in range(0, len(cluster_genes), 5):\n",
    "    print(cluster_genes[i : i + 5])"
   ]
  },
  {
   "cell_type": "code",
   "execution_count": null,
   "id": "ecc4584a-7f01-49fb-9ed2-6f89a80eb085",
   "metadata": {},
   "outputs": [],
   "source": []
  },
  {
   "cell_type": "code",
   "execution_count": null,
   "id": "9fc988ab-bdd5-4d2f-bcf8-19bb1403a492",
   "metadata": {},
   "outputs": [],
   "source": []
  },
  {
   "cell_type": "code",
   "execution_count": null,
   "id": "7a300d52-ef50-486b-90f1-618d5c7c853c",
   "metadata": {},
   "outputs": [],
   "source": []
  },
  {
   "cell_type": "code",
   "execution_count": null,
   "id": "4c6e3d52-ecce-4e07-836f-33c898ad7885",
   "metadata": {},
   "outputs": [],
   "source": []
  },
  {
   "cell_type": "code",
   "execution_count": null,
   "id": "12767e6c-2315-4dff-9c47-7ac065cb8af3",
   "metadata": {},
   "outputs": [],
   "source": []
  },
  {
   "cell_type": "code",
   "execution_count": null,
   "id": "487fb40a-ebc4-49f5-96d8-d0672c286316",
   "metadata": {
    "tags": []
   },
   "outputs": [],
   "source": [
    "labels = [zscore_trace + \": Mean\" for zscore_trace in zscore_traces]\n",
    "\n",
    "fig = sc.pl.umap(\n",
    "    feature_paga_df,\n",
    "    color=labels,\n",
    "    show=False,\n",
    "    legend_loc=\"on data\",\n",
    "    add_outline=False,\n",
    "    size=50,\n",
    "    return_fig=True,\n",
    "    vcenter=0.0,\n",
    "    cmap=\"RdBu_r\",\n",
    "    wspace=0.25,\n",
    ")"
   ]
  },
  {
   "cell_type": "code",
   "execution_count": null,
   "id": "23b28741-1976-4387-91ad-6a5855b7770c",
   "metadata": {},
   "outputs": [],
   "source": [
    "fig = plot_cluster_timeseries_braycenters(\n",
    "    feature_paga_df.obs,\n",
    "    \"leiden\",\n",
    "    [\"Division Length Feature Norm\", \"Division Length Feature Norm\"],\n",
    "    [\"Division Length Feature Norm\", \"Division Length Feature Norm\"],\n",
    "    [(0, 1), (0, 1)],\n",
    "    figsize=(15, 6),\n",
    "    wspace=0.25,\n",
    "    hspace=0.25,\n",
    "    color_list=vega_20_scanpy,\n",
    ")"
   ]
  },
  {
   "cell_type": "code",
   "execution_count": null,
   "id": "d66da51e-faef-4567-b53d-7f0ca61f3523",
   "metadata": {},
   "outputs": [],
   "source": []
  },
  {
   "cell_type": "code",
   "execution_count": null,
   "id": "82f4b295-4f53-492f-b750-a8fc1cc66294",
   "metadata": {},
   "outputs": [],
   "source": []
  },
  {
   "cell_type": "code",
   "execution_count": null,
   "id": "e1b13779-6ab3-43f8-af37-4c1361dd69dc",
   "metadata": {},
   "outputs": [],
   "source": []
  },
  {
   "cell_type": "code",
   "execution_count": null,
   "id": "556c2968-e7d2-48d5-9195-de9bbea677db",
   "metadata": {},
   "outputs": [],
   "source": []
  },
  {
   "cell_type": "code",
   "execution_count": null,
   "id": "a8d0a84b-d66c-4b7b-ae28-69b971efc722",
   "metadata": {},
   "outputs": [],
   "source": []
  },
  {
   "cell_type": "code",
   "execution_count": null,
   "id": "b62a7d80-e92f-48f5-8d61-f8629adf920e",
   "metadata": {},
   "outputs": [],
   "source": []
  },
  {
   "cell_type": "code",
   "execution_count": null,
   "id": "fd83ba74-1133-41b7-b6aa-0800126c4849",
   "metadata": {},
   "outputs": [],
   "source": []
  },
  {
   "cell_type": "markdown",
   "id": "625a237f",
   "metadata": {},
   "source": [
    "### Filter for strong effects by taking max over integrated zscores"
   ]
  },
  {
   "cell_type": "code",
   "execution_count": null,
   "id": "e07ce188",
   "metadata": {},
   "outputs": [],
   "source": [
    "min_feature_thr = 20\n",
    "\n",
    "gene_cluster_df_filtered = gene_cluster_df_full[\n",
    "    gene_cluster_df_full[\"Integrated Feature Max\"] > min_feature_thr\n",
    "]"
   ]
  },
  {
   "cell_type": "code",
   "execution_count": null,
   "id": "b25841fa",
   "metadata": {},
   "outputs": [],
   "source": [
    "plt.hist(gene_cluster_df_full[\"Integrated Feature Max\"], bins=50)\n",
    "plt.show()"
   ]
  },
  {
   "cell_type": "markdown",
   "id": "a5b77488",
   "metadata": {},
   "source": [
    "### soft-DTW Calculation"
   ]
  },
  {
   "cell_type": "code",
   "execution_count": null,
   "id": "2ac5315c",
   "metadata": {
    "tags": []
   },
   "outputs": [],
   "source": [
    "X = np.array(gene_cluster_df_filtered[\"Feature Vector\"].tolist())\n",
    "X = np.swapaxes(X, 1, 2)\n",
    "norm_soft_dtw_arr = parallel_norm_soft_dtw(X)"
   ]
  },
  {
   "cell_type": "markdown",
   "id": "b6da202d",
   "metadata": {},
   "source": [
    "### Initialize Anndata Object"
   ]
  },
  {
   "cell_type": "code",
   "execution_count": null,
   "id": "061f68c5",
   "metadata": {},
   "outputs": [],
   "source": [
    "an_df = anndata.AnnData(\n",
    "    X=X.reshape(X.shape[0], -1), obs=gene_cluster_df_filtered\n",
    ")  # AnnData container to use scanpy functions with unwrapped time vector"
   ]
  },
  {
   "cell_type": "markdown",
   "id": "a6c7d9c0",
   "metadata": {},
   "source": [
    "### Compute KNN Graph"
   ]
  },
  {
   "cell_type": "code",
   "execution_count": null,
   "id": "0f17ba8d",
   "metadata": {
    "tags": []
   },
   "outputs": [],
   "source": [
    "n_neighbors = 15\n",
    "n_pcs = 20  # This shouldn't affect anything\n",
    "\n",
    "sc.pp.neighbors(an_df, n_neighbors=n_neighbors, n_pcs=n_pcs)\n",
    "knn_indices, knn_dists, forest = sc.neighbors.compute_neighbors_umap(\n",
    "    norm_soft_dtw_arr, n_neighbors=n_neighbors, metric=\"precomputed\"\n",
    ")\n",
    "(\n",
    "    an_df.uns[\"neighbors\"][\"distances\"],\n",
    "    an_df.uns[\"neighbors\"][\"connectivities\"],\n",
    ") = sc.neighbors._compute_connectivities_umap(\n",
    "    knn_indices,\n",
    "    knn_dists,\n",
    "    an_df.shape[0],\n",
    "    n_neighbors,  # change to neighbors you plan to use\n",
    ")\n",
    "an_df.obsp[\"distances\"] = an_df.uns[\"neighbors\"][\"distances\"]\n",
    "an_df.obsp[\"connectivities\"] = an_df.uns[\"neighbors\"][\"connectivities\"]\n",
    "an_df.obsp[\"soft_dtw\"] = norm_soft_dtw_arr"
   ]
  },
  {
   "cell_type": "markdown",
   "id": "0e067406",
   "metadata": {},
   "source": [
    "### Computing Leiden, PAGA and UMAP\n",
    "\n",
    "Note that the lower resolution UMAP was set to the same UMAP positions as the higher resolution UMAP"
   ]
  },
  {
   "cell_type": "code",
   "execution_count": null,
   "id": "80d3a680",
   "metadata": {
    "tags": []
   },
   "outputs": [],
   "source": [
    "paga_df_dict = {}\n",
    "for resolution in [0.25, 1.0, 1.5]:\n",
    "    paga_df_dict[resolution] = copy.deepcopy(an_df)\n",
    "    sc.tl.leiden(paga_df_dict[resolution], resolution=resolution, n_iterations=-1)\n",
    "    sc.tl.paga(paga_df_dict[resolution], groups=\"leiden\")\n",
    "    sc.pl.paga(paga_df_dict[resolution], add_pos=True, show=False)\n",
    "sc.tl.umap(paga_df_dict[1.0], init_pos=\"paga\", min_dist=0.25, spread=5.0)\n",
    "paga_df_dict[1.0].obs[\"leiden_lowres\"] = paga_df_dict[0.25].obs[\"leiden\"]\n",
    "paga_df_dict[1.0].obs[\"leiden_highres\"] = paga_df_dict[1.5].obs[\"leiden\"]\n",
    "paga_df = paga_df_dict[1.0]"
   ]
  },
  {
   "cell_type": "code",
   "execution_count": null,
   "id": "3dcfd836",
   "metadata": {},
   "outputs": [],
   "source": [
    "fig = sc.pl.umap(\n",
    "    paga_df,\n",
    "    color=[\"leiden_lowres\", \"leiden\", \"leiden_highres\"],\n",
    "    title=[\"Leiden Resolution=0.25\", \"Leiden Resolution=1.\", \"Leiden Resolution=1.5\"],\n",
    "    show=False,\n",
    "    legend_loc=\"on data\",\n",
    "    edges=True,\n",
    "    add_outline=False,\n",
    "    size=50,\n",
    "    return_fig=True,\n",
    "    palette=vega_20_scanpy,\n",
    ")\n",
    "# fig.savefig(\"./1_Global_Analysis/Global_PAGA.png\",dpi=150)"
   ]
  },
  {
   "cell_type": "markdown",
   "id": "0ca7a34a",
   "metadata": {},
   "source": [
    "### Plotting Mean Z-scores, Euclidean Norm, and N Match"
   ]
  },
  {
   "cell_type": "code",
   "execution_count": null,
   "id": "93cc4302",
   "metadata": {
    "tags": []
   },
   "outputs": [],
   "source": [
    "paga_df.obs[\"N Match\"] = 20.0 - paga_df.obs[\"N Mismatch\"]\n",
    "del_N_match_series = paga_df.obs.groupby(\"TargetID\").apply(\n",
    "    lambda x: x[\"N Match\"] - np.min(x[\"N Match\"])\n",
    ")\n",
    "del_N_match_series = del_N_match_series.droplevel(\"TargetID\")\n",
    "paga_df.obs[\"Delta N Match\"] = del_N_match_series"
   ]
  },
  {
   "cell_type": "code",
   "execution_count": null,
   "id": "4cd70eee",
   "metadata": {
    "tags": []
   },
   "outputs": [],
   "source": [
    "labels = [zscore_trace + \": Mean\" for zscore_trace in zscore_traces]\n",
    "\n",
    "fig = sc.pl.umap(\n",
    "    paga_df,\n",
    "    color=labels,\n",
    "    show=False,\n",
    "    legend_loc=\"on data\",\n",
    "    add_outline=False,\n",
    "    size=50,\n",
    "    return_fig=True,\n",
    "    vcenter=0.0,\n",
    "    cmap=\"RdBu_r\",\n",
    "    wspace=0.25,\n",
    ")\n",
    "fig.savefig(\"./1_Global_Analysis/Mean_zscores.png\", dpi=300)"
   ]
  },
  {
   "cell_type": "code",
   "execution_count": null,
   "id": "9502e871",
   "metadata": {},
   "outputs": [],
   "source": [
    "labels = [trace + \": Mean\" for trace in traces]\n",
    "\n",
    "fig = sc.pl.umap(\n",
    "    paga_df,\n",
    "    color=labels,\n",
    "    show=False,\n",
    "    legend_loc=\"on data\",\n",
    "    add_outline=False,\n",
    "    size=50,\n",
    "    return_fig=True,\n",
    "    cmap=\"RdBu_r\",\n",
    ")\n",
    "fig.savefig(\"./1_Global_Analysis/Mean.png\", dpi=300)"
   ]
  },
  {
   "cell_type": "code",
   "execution_count": null,
   "id": "23ef139a",
   "metadata": {},
   "outputs": [],
   "source": [
    "labels = [\"Delta N Match\", \"Integrated Euclidean Norm\"]\n",
    "\n",
    "fig = sc.pl.umap(\n",
    "    paga_df,\n",
    "    color=labels,\n",
    "    show=False,\n",
    "    legend_loc=\"on data\",\n",
    "    add_outline=False,\n",
    "    size=50,\n",
    "    return_fig=True,\n",
    "    vcenter=0.0,\n",
    "    cmap=\"RdBu_r\",\n",
    ")\n",
    "fig.savefig(\"./1_Global_Analysis/Match_and_Euc_Norm.png\", dpi=300)"
   ]
  },
  {
   "cell_type": "markdown",
   "id": "00de7b0b",
   "metadata": {},
   "source": [
    "### Highlight Genes of Interest (by name)"
   ]
  },
  {
   "cell_type": "code",
   "execution_count": null,
   "id": "4dddbd14",
   "metadata": {},
   "outputs": [],
   "source": [
    "def selection_fn(item, gene_name):\n",
    "    is_gene = item[\"Gene\"] == gene_name\n",
    "    if is_gene:\n",
    "        return item[\"TargetID\"]\n",
    "    else:\n",
    "        return 0\n",
    "\n",
    "\n",
    "def highlight_gene_group(an_df, selection_list):\n",
    "\n",
    "    highlight_genes_df = copy.deepcopy(an_df)\n",
    "\n",
    "    selection_list = sorted(\n",
    "        list(\n",
    "            set(highlight_genes_df.obs[\"Gene\"].unique().tolist()) & set(selection_list)\n",
    "        )\n",
    "    )\n",
    "\n",
    "    for i, selected_gene in enumerate(selection_list):\n",
    "        selected_series = (highlight_genes_df.obs[\"Gene\"] == selected_gene).astype(\n",
    "            \"category\"\n",
    "        )\n",
    "        selected_series = selected_series.cat.reorder_categories([True, False])\n",
    "        highlight_genes_df.obs[\"Selected Genes: \" + str(i)] = selected_series\n",
    "\n",
    "    selected_series = (highlight_genes_df.obs[\"Gene\"].isin(selection_list)).astype(\n",
    "        \"category\"\n",
    "    )\n",
    "    selected_series = selected_series.cat.reorder_categories([True, False])\n",
    "    highlight_genes_df.obs[\"All Genes\"] = selected_series\n",
    "\n",
    "    # selected_series = (paga_df.obs[\"Gene\"]==\"ftsZ\").astype(float)\n",
    "    # selected_series[selected_series==0.] = np.NaN\n",
    "    # paga_df.obs[\"Selected Genes\"] = selected_series\n",
    "\n",
    "    fig = sc.pl.umap(\n",
    "        highlight_genes_df,\n",
    "        title=selection_list + [\"All Genes\"],\n",
    "        color=[\"Selected Genes: \" + str(i) for i in range(len(selection_list))]\n",
    "        + [\"All Genes\"],\n",
    "        groups=[True],\n",
    "        show=False,\n",
    "        legend_loc=\"right margin\",\n",
    "        add_outline=False,\n",
    "        size=50,\n",
    "        return_fig=True,\n",
    "        palette={True: \"red\", False: \"lightgrey\"},\n",
    "    )  # palette ={}\n",
    "\n",
    "    return fig"
   ]
  },
  {
   "cell_type": "code",
   "execution_count": null,
   "id": "996bc831",
   "metadata": {},
   "outputs": [],
   "source": [
    "fts_genes = (\n",
    "    paga_df.obs[\"Gene\"][paga_df.obs[\"Gene\"].apply(lambda x: \"fts\" in x)]\n",
    "    .unique()\n",
    "    .tolist()\n",
    ")\n",
    "fig = highlight_gene_group(paga_df, fts_genes)\n",
    "fig.savefig(\"./1_Global_Analysis/Highlight_Genes/fts_genes.png\", dpi=150)"
   ]
  },
  {
   "cell_type": "code",
   "execution_count": null,
   "id": "c75210d4",
   "metadata": {},
   "outputs": [],
   "source": [
    "rps_genes = (\n",
    "    paga_df.obs[\"Gene\"][paga_df.obs[\"Gene\"].apply(lambda x: \"rps\" in x)]\n",
    "    .unique()\n",
    "    .tolist()\n",
    ")\n",
    "fig = highlight_gene_group(paga_df, rps_genes)\n",
    "fig.savefig(\"./1_Global_Analysis/Highlight_Genes/rps_genes.png\", dpi=150)"
   ]
  },
  {
   "cell_type": "code",
   "execution_count": null,
   "id": "aefbcc5d",
   "metadata": {},
   "outputs": [],
   "source": [
    "rpm_genes = (\n",
    "    paga_df.obs[\"Gene\"][paga_df.obs[\"Gene\"].apply(lambda x: \"rpm\" in x)]\n",
    "    .unique()\n",
    "    .tolist()\n",
    ")\n",
    "fig = highlight_gene_group(paga_df, rpm_genes)\n",
    "fig.savefig(\"./1_Global_Analysis/Highlight_Genes/rpm_genes.png\", dpi=150)"
   ]
  },
  {
   "cell_type": "code",
   "execution_count": null,
   "id": "847dcae6",
   "metadata": {},
   "outputs": [],
   "source": [
    "rpl_genes = (\n",
    "    paga_df.obs[\"Gene\"][paga_df.obs[\"Gene\"].apply(lambda x: \"rpl\" in x)]\n",
    "    .unique()\n",
    "    .tolist()\n",
    ")\n",
    "fig = highlight_gene_group(paga_df, rpl_genes)\n",
    "fig.savefig(\"./1_Global_Analysis/Highlight_Genes/rpl_genes.png\", dpi=150)"
   ]
  },
  {
   "cell_type": "code",
   "execution_count": null,
   "id": "f28f7893",
   "metadata": {},
   "outputs": [],
   "source": [
    "sec_and_bam_genes = (\n",
    "    paga_df.obs[\"Gene\"][\n",
    "        paga_df.obs[\"Gene\"].apply(\n",
    "            lambda x: (\"sec\" in x) or (\"bam\" in x) or (\"yidC\" in x) or (\"yajC\" in x)\n",
    "        )\n",
    "    ]\n",
    "    .unique()\n",
    "    .tolist()\n",
    ")\n",
    "fig = highlight_gene_group(paga_df, sec_and_bam_genes)\n",
    "fig.savefig(\"./1_Global_Analysis/Highlight_Genes/sec_and_bam_genes.png\", dpi=150)"
   ]
  },
  {
   "cell_type": "code",
   "execution_count": null,
   "id": "95357577",
   "metadata": {},
   "outputs": [],
   "source": [
    "rr_genes = (\n",
    "    paga_df.obs[\"Gene\"][\n",
    "        paga_df.obs[\"Gene\"].apply(\n",
    "            lambda x: (\"rrf\" in x) or (\"rrs\" in x) or (\"rrl\" in x)\n",
    "        )\n",
    "    ]\n",
    "    .unique()\n",
    "    .tolist()\n",
    ")\n",
    "fig = highlight_gene_group(paga_df, rr_genes)\n",
    "fig.savefig(\"./1_Global_Analysis/Highlight_Genes/rr_genes.png\", dpi=150)"
   ]
  },
  {
   "cell_type": "code",
   "execution_count": null,
   "id": "91bc5813",
   "metadata": {},
   "outputs": [],
   "source": [
    "dna_genes = (\n",
    "    paga_df.obs[\"Gene\"][paga_df.obs[\"Gene\"].apply(lambda x: (\"dna\" in x))]\n",
    "    .unique()\n",
    "    .tolist()\n",
    ")\n",
    "fig = highlight_gene_group(paga_df, dna_genes)\n",
    "fig.savefig(\"./1_Global_Analysis/Highlight_Genes/dna_genes.png\", dpi=150)"
   ]
  },
  {
   "cell_type": "code",
   "execution_count": null,
   "id": "e2f718af",
   "metadata": {},
   "outputs": [],
   "source": [
    "gyr_genes = (\n",
    "    paga_df.obs[\"Gene\"][paga_df.obs[\"Gene\"].apply(lambda x: (\"gyr\" in x))]\n",
    "    .unique()\n",
    "    .tolist()\n",
    ")\n",
    "fig = highlight_gene_group(paga_df, gyr_genes)\n",
    "fig.savefig(\"./1_Global_Analysis/Highlight_Genes/gyr_genes.png\", dpi=150)"
   ]
  },
  {
   "cell_type": "code",
   "execution_count": null,
   "id": "607fe65e",
   "metadata": {},
   "outputs": [],
   "source": [
    "hol_genes = (\n",
    "    paga_df.obs[\"Gene\"][paga_df.obs[\"Gene\"].apply(lambda x: (\"hol\" in x))]\n",
    "    .unique()\n",
    "    .tolist()\n",
    ")\n",
    "fig = highlight_gene_group(paga_df, hol_genes)\n",
    "fig.savefig(\"./1_Global_Analysis/Highlight_Genes/hol_genes.png\", dpi=150)"
   ]
  },
  {
   "cell_type": "code",
   "execution_count": null,
   "id": "625054c6",
   "metadata": {},
   "outputs": [],
   "source": [
    "rpo_genes = (\n",
    "    paga_df.obs[\"Gene\"][paga_df.obs[\"Gene\"].apply(lambda x: (\"rpo\" in x))]\n",
    "    .unique()\n",
    "    .tolist()\n",
    ")\n",
    "fig = highlight_gene_group(paga_df, rpo_genes)\n",
    "fig.savefig(\"./1_Global_Analysis/Highlight_Genes/rpo_genes.png\", dpi=150)"
   ]
  },
  {
   "cell_type": "code",
   "execution_count": null,
   "id": "55d0c021",
   "metadata": {
    "tags": []
   },
   "outputs": [],
   "source": [
    "all_genes = paga_df.obs[\"Gene\"].unique().tolist()\n",
    "step = 75\n",
    "for idx, i in enumerate(list(range(0, len(all_genes), step))):\n",
    "    all_genes_sub = all_genes[i : i + step]\n",
    "    fig = highlight_gene_group(paga_df, all_genes_sub)\n",
    "    fig.savefig(\n",
    "        \"./1_Global_Analysis/Highlight_Genes/All_Genes/all_genes_\" + str(idx) + \".png\",\n",
    "        dpi=75,\n",
    "    )"
   ]
  },
  {
   "cell_type": "markdown",
   "id": "7d9211db",
   "metadata": {},
   "source": [
    "### Highlight Genes of Interest (by GO)"
   ]
  },
  {
   "cell_type": "code",
   "execution_count": null,
   "id": "acb0f949",
   "metadata": {},
   "outputs": [],
   "source": [
    "import goatools\n",
    "import goatools.base\n",
    "from goatools.base import download_go_basic_obo\n",
    "\n",
    "from goatools.obo_parser import GODag\n",
    "from goatools.anno.gaf_reader import GafReader\n",
    "from goatools.semantic import semantic_similarity\n",
    "from goatools.semantic import TermCounts, get_info_content\n",
    "\n",
    "from goatools.goea.go_enrichment_ns import GOEnrichmentStudyNS\n",
    "from goatools.go_enrichment import GOEnrichmentStudy\n",
    "\n",
    "\n",
    "def search_go(ns2assoc, obodag, inv_gene_to_id, go_term):\n",
    "    namespace_abbv = {\n",
    "        \"biological_process\": \"BP\",\n",
    "        \"molecular_function\": \"MF\",\n",
    "        \"cellular_component\": \"CC\",\n",
    "    }\n",
    "\n",
    "    print(\"Searching for \" + str(obodag[go_term].name))\n",
    "    namespace = namespace_abbv[obodag[go_term].namespace]\n",
    "    child_goterms = list(obodag[go_term].get_all_children())\n",
    "    gene_list = [\n",
    "        inv_gene_to_id[key]\n",
    "        for key, val in ns2assoc[namespace].items()\n",
    "        if go_term in val\n",
    "    ]\n",
    "    for child_goterm in child_goterms:\n",
    "        gene_list += [\n",
    "            inv_gene_to_id[key]\n",
    "            for key, val in ns2assoc[namespace].items()\n",
    "            if child_goterm in val\n",
    "        ]\n",
    "    gene_list = sorted(list(set(gene_list)))\n",
    "    return gene_list"
   ]
  },
  {
   "cell_type": "code",
   "execution_count": null,
   "id": "9ee2590c",
   "metadata": {},
   "outputs": [],
   "source": [
    "# Get ontologies\n",
    "obo_fname = download_go_basic_obo()\n",
    "\n",
    "# Get ecoli association file (ecocyc)\n",
    "gaf_handle = goatools.base.http_get(\n",
    "    \"http://current.geneontology.org/annotations/ecocyc.gaf.gz\", fout=\"./ecocyc.gaf.gz\"\n",
    ")\n",
    "gaf_fname = goatools.base.gunzip(\"./ecocyc.gaf.gz\")\n",
    "\n",
    "## Getting ontologies and other nonesense\n",
    "\n",
    "obodag = GODag(obo_fname)\n",
    "objanno = GafReader(gaf_fname)\n",
    "ns2assoc = objanno.get_ns2assc()\n",
    "\n",
    "gene_to_id = {assoc.DB_Symbol: assoc.DB_ID for assoc in objanno.associations}\n",
    "inv_gene_to_id = {assoc.DB_ID: assoc.DB_Symbol for assoc in objanno.associations}\n",
    "synonym_dict = {\n",
    "    synonym: assoc.DB_ID\n",
    "    for assoc in objanno.associations\n",
    "    for synonym in assoc.DB_Synonym\n",
    "}\n",
    "gene_to_id.update(synonym_dict)"
   ]
  },
  {
   "cell_type": "code",
   "execution_count": null,
   "id": "c2ebad5a-716f-4b31-a485-c2f86e6db007",
   "metadata": {},
   "outputs": [],
   "source": [
    "tRNA_aminoacylation_genes = search_go(ns2assoc, obodag, inv_gene_to_id, \"GO:0003746\")\n",
    "fig = highlight_gene_group(paga_df, tRNA_aminoacylation_genes)\n",
    "fig.savefig(\"./1_Global_Analysis/Highlight_Genes/Elongation_factor_genes.png\", dpi=150)"
   ]
  },
  {
   "cell_type": "code",
   "execution_count": null,
   "id": "cd9c0bca",
   "metadata": {},
   "outputs": [],
   "source": [
    "tRNA_aminoacylation_genes = search_go(ns2assoc, obodag, inv_gene_to_id, \"GO:0043039\")\n",
    "fig = highlight_gene_group(paga_df, tRNA_aminoacylation_genes)\n",
    "fig.savefig(\n",
    "    \"./1_Global_Analysis/Highlight_Genes/tRNA_aminoacylation_genes.png\", dpi=150\n",
    ")"
   ]
  },
  {
   "cell_type": "code",
   "execution_count": null,
   "id": "8c11de2b",
   "metadata": {},
   "outputs": [],
   "source": [
    "division_genes = search_go(ns2assoc, obodag, inv_gene_to_id, \"GO:0051301\")\n",
    "fig = highlight_gene_group(paga_df, division_genes)\n",
    "fig.savefig(\"./1_Global_Analysis/Highlight_Genes/division_genes.png\", dpi=150)"
   ]
  },
  {
   "cell_type": "code",
   "execution_count": null,
   "id": "64dc4cd8",
   "metadata": {},
   "outputs": [],
   "source": [
    "ribosome_genes = search_go(ns2assoc, obodag, inv_gene_to_id, \"GO:0005840\")\n",
    "fig = highlight_gene_group(paga_df, ribosome_genes)\n",
    "fig.savefig(\"./1_Global_Analysis/Highlight_Genes/ribosome_genes.png\", dpi=150)"
   ]
  },
  {
   "cell_type": "code",
   "execution_count": null,
   "id": "7ee2df5d",
   "metadata": {},
   "outputs": [],
   "source": [
    "peptidoglycan_genes = search_go(ns2assoc, obodag, inv_gene_to_id, \"GO:0000270\")\n",
    "fig = highlight_gene_group(paga_df, peptidoglycan_genes)\n",
    "fig.savefig(\"./1_Global_Analysis/Highlight_Genes/peptidoglycan_genes.png\", dpi=150)"
   ]
  },
  {
   "cell_type": "code",
   "execution_count": null,
   "id": "55a6d438",
   "metadata": {},
   "outputs": [],
   "source": [
    "replication_genes = search_go(ns2assoc, obodag, inv_gene_to_id, \"GO:0006260\")\n",
    "fig = highlight_gene_group(paga_df, replication_genes)\n",
    "fig.savefig(\"./1_Global_Analysis/Highlight_Genes/replication_genes.png\", dpi=150)"
   ]
  },
  {
   "cell_type": "code",
   "execution_count": null,
   "id": "f251628b",
   "metadata": {},
   "outputs": [],
   "source": [
    "initiation_genes = search_go(ns2assoc, obodag, inv_gene_to_id, \"GO:0006270\")\n",
    "fig = highlight_gene_group(paga_df, initiation_genes)\n",
    "fig.savefig(\"./1_Global_Analysis/Highlight_Genes/initiation_genes.png\", dpi=150)"
   ]
  },
  {
   "cell_type": "code",
   "execution_count": null,
   "id": "cf689629",
   "metadata": {},
   "outputs": [],
   "source": [
    "shape_genes = search_go(ns2assoc, obodag, inv_gene_to_id, \"GO:0008360\")\n",
    "fig = highlight_gene_group(paga_df, shape_genes)\n",
    "fig.savefig(\"./1_Global_Analysis/Highlight_Genes/shape_genes.png\", dpi=150)"
   ]
  },
  {
   "cell_type": "markdown",
   "id": "523e721b",
   "metadata": {},
   "source": [
    "## 2) Cluster Analysis"
   ]
  },
  {
   "cell_type": "markdown",
   "id": "1dce1643-b162-48e1-b4bd-f3d19e1277ed",
   "metadata": {},
   "source": [
    "### Average Timeseries"
   ]
  },
  {
   "cell_type": "code",
   "execution_count": null,
   "id": "269284e4-db49-42fd-829a-d11421e00292",
   "metadata": {},
   "outputs": [],
   "source": [
    "def plot_cluster_timeseries(\n",
    "    df,\n",
    "    cluster_label,\n",
    "    feature_labels,\n",
    "    displayed_labels,\n",
    "    feature_range_list,\n",
    "    agg_fn=np.mean,\n",
    "    x_ticks=[0, 10, 20],\n",
    "    cluster_subset=None,\n",
    "    figsize=(10, 10),\n",
    "    wspace=0.0,\n",
    "    hspace=0.0,\n",
    "    fontsize=14,\n",
    "    linewidth=5,\n",
    "    color_list=None,\n",
    "):\n",
    "\n",
    "    if cluster_subset is not None:\n",
    "        df = copy.copy(df)\n",
    "        df = df[df[cluster_label].isin(cluster_subset)]\n",
    "\n",
    "    timeseries_list = []\n",
    "    for feature_label in feature_labels:\n",
    "        agg_cluster_timeseries = (\n",
    "            df.groupby([cluster_label])\n",
    "            .apply(lambda x: agg_fn(np.array(x[feature_label].tolist()), axis=0))\n",
    "            .to_frame()\n",
    "        )\n",
    "        agg_cluster_timeseries = agg_cluster_timeseries.rename(\n",
    "            columns={0: feature_label}\n",
    "        )\n",
    "        timeseries_list.append(agg_cluster_timeseries)\n",
    "    timeseries_df = pd.concat(timeseries_list, axis=1)\n",
    "\n",
    "    fig = plt.figure(constrained_layout=True, figsize=figsize)\n",
    "    gs = fig.add_gridspec(1, len(timeseries_df), wspace=wspace)\n",
    "\n",
    "    for i in range(len(timeseries_df)):\n",
    "        mean_cluster_timeseries = timeseries_df.iloc[i]\n",
    "\n",
    "        clust_arr = np.array(timeseries_df.iloc[i].tolist())\n",
    "        if color_list == None:\n",
    "            color = \"tab:blue\"\n",
    "        else:\n",
    "            color = color_list[i]\n",
    "\n",
    "        if i == 0:\n",
    "            inner_gs = gs[0, i].subgridspec(\n",
    "                clust_arr.shape[0], 1, wspace=0, hspace=hspace\n",
    "            )\n",
    "            inner_grid_sub = inner_gs.subplots(sharex=True)\n",
    "            for c, ax in np.ndenumerate(inner_grid_sub):\n",
    "\n",
    "                feature_range = feature_range_list[c[0]]\n",
    "                ax.plot(clust_arr[c], linewidth=linewidth, color=color)\n",
    "                ax.set_ylim(feature_range[0], feature_range[1])\n",
    "                ax.set(xticks=[])\n",
    "                #                 ax.set(xticks=[], yticks=[0,6])\n",
    "                ax.set_ylabel(\n",
    "                    displayed_labels[c[0]],\n",
    "                    rotation=0,\n",
    "                    labelpad=30,\n",
    "                    fontsize=fontsize,\n",
    "                    ha=\"right\",\n",
    "                )  # ,orientation=\"horizontal\")\n",
    "\n",
    "            ax.set_xlabel(str(i), fontsize=fontsize)\n",
    "            ax.set(xticks=x_ticks)\n",
    "\n",
    "        else:\n",
    "            inner_gs = gs[0, i].subgridspec(\n",
    "                clust_arr.shape[0], 1, wspace=0, hspace=hspace\n",
    "            )\n",
    "            inner_grid_sub = inner_gs.subplots(sharex=True)\n",
    "            for c, ax in np.ndenumerate(inner_grid_sub):\n",
    "                feature_range = feature_range_list[c[0]]\n",
    "                ax.plot(clust_arr[c], linewidth=linewidth, color=color)\n",
    "                ax.set_ylim(feature_range[0], feature_range[1])\n",
    "                ax.set(xticks=[], yticks=[])\n",
    "\n",
    "            ax.set_xlabel(str(i), fontsize=fontsize)\n",
    "            ax.set(xticks=x_ticks)\n",
    "\n",
    "    plt.tight_layout()\n",
    "    return fig"
   ]
  },
  {
   "cell_type": "code",
   "execution_count": null,
   "id": "60a6d9ca-b5fd-474b-87e0-d31a17e6c247",
   "metadata": {},
   "outputs": [],
   "source": [
    "fig = sc.pl.umap(\n",
    "    paga_df,\n",
    "    color=[\"leiden_lowres\", \"leiden\", \"leiden_highres\"],\n",
    "    title=[\"Leiden Resolution=0.25\", \"Leiden Resolution=1.\", \"Leiden Resolution=1.5\"],\n",
    "    show=False,\n",
    "    legend_loc=\"on data\",\n",
    "    edges=True,\n",
    "    add_outline=False,\n",
    "    size=50,\n",
    "    return_fig=True,\n",
    "    palette=vega_20_scanpy,\n",
    ")"
   ]
  },
  {
   "cell_type": "code",
   "execution_count": null,
   "id": "0ec4bfa5-57f7-4809-96a6-93ac53a6146c",
   "metadata": {},
   "outputs": [],
   "source": [
    "fig = plot_cluster_timeseries(\n",
    "    paga_df.obs,\n",
    "    \"leiden_highres\",\n",
    "    [\n",
    "        \"Division Length\",\n",
    "        \"Linear Growth Rate\",\n",
    "        \"Exponential Growth Rate\",\n",
    "        \"Width\",\n",
    "        \"mCherry Intensity\",\n",
    "        \"Doubling Time\",\n",
    "    ],\n",
    "    [\n",
    "        \"Division Length\",\n",
    "        \"Linear Growth Rate\",\n",
    "        \"Exponential Growth Rate\",\n",
    "        \"Width\",\n",
    "        \"mCherry Intensity\",\n",
    "        \"Doubling Time\",\n",
    "    ],\n",
    "    [(3, 12), (0, 20), (0.5, 2.5), (1.2, 1.6), (0, 6000), (0, 20)],\n",
    "    figsize=(25, 8),\n",
    "    wspace=0.25,\n",
    "    hspace=0.25,\n",
    "    color_list=vega_20_scanpy,\n",
    ")\n",
    "fig.tight_layout()\n",
    "fig.savefig(\"./2_Cluster_Analysis/leiden_highres_timeseries.png\", dpi=150)"
   ]
  },
  {
   "cell_type": "code",
   "execution_count": null,
   "id": "102a7a81-9ec3-42d5-ae2d-55fbf7d5fa8b",
   "metadata": {},
   "outputs": [],
   "source": [
    "fig = plot_cluster_timeseries(\n",
    "    paga_df.obs,\n",
    "    \"leiden\",\n",
    "    [\n",
    "        \"Division Length\",\n",
    "        \"Linear Growth Rate\",\n",
    "        \"Exponential Growth Rate\",\n",
    "        \"Width\",\n",
    "        \"mCherry Intensity\",\n",
    "        \"Doubling Time\",\n",
    "    ],\n",
    "    [\n",
    "        \"Division Length\",\n",
    "        \"Linear Growth Rate\",\n",
    "        \"Exponential Growth Rate\",\n",
    "        \"Width\",\n",
    "        \"mCherry Intensity\",\n",
    "        \"Doubling Time\",\n",
    "    ],\n",
    "    [(3, 12), (0, 20), (0.5, 2.5), (1.2, 1.6), (0, 6000), (0, 20)],\n",
    "    figsize=(20, 8),\n",
    "    wspace=0.25,\n",
    "    hspace=0.25,\n",
    "    color_list=vega_20_scanpy,\n",
    ")\n",
    "fig.tight_layout()\n",
    "fig.savefig(\"./2_Cluster_Analysis/leiden_timeseries.png\", dpi=150)"
   ]
  },
  {
   "cell_type": "code",
   "execution_count": null,
   "id": "cc6f5626-4f64-4783-9710-7bbed6ae5e9d",
   "metadata": {},
   "outputs": [],
   "source": [
    "fig = plot_cluster_timeseries(\n",
    "    paga_df.obs,\n",
    "    \"leiden_lowres\",\n",
    "    [\n",
    "        \"Division Length\",\n",
    "        \"Linear Growth Rate\",\n",
    "        \"Exponential Growth Rate\",\n",
    "        \"Width\",\n",
    "        \"mCherry Intensity\",\n",
    "        \"Doubling Time\",\n",
    "    ],\n",
    "    [\n",
    "        \"Division Length\",\n",
    "        \"Linear Growth Rate\",\n",
    "        \"Exponential Growth Rate\",\n",
    "        \"Width\",\n",
    "        \"mCherry Intensity\",\n",
    "        \"Doubling Time\",\n",
    "    ],\n",
    "    [(3, 12), (0, 20), (0.5, 2.5), (1.2, 1.6), (0, 6000), (0, 20)],\n",
    "    figsize=(7, 8),\n",
    "    wspace=0.25,\n",
    "    hspace=0.25,\n",
    "    color_list=vega_20_scanpy,\n",
    ")\n",
    "fig.tight_layout()\n",
    "fig.savefig(\"./2_Cluster_Analysis/leiden_lowres_timeseries.png\", dpi=150)"
   ]
  },
  {
   "cell_type": "markdown",
   "id": "aa0c9ee2-3ea8-4640-a3f5-4cfd3ea60b4d",
   "metadata": {},
   "source": [
    "### Barycenter Timeseries"
   ]
  },
  {
   "cell_type": "code",
   "execution_count": null,
   "id": "ebcf8f32-de85-4aad-8ddf-f81d487b0e2d",
   "metadata": {},
   "outputs": [],
   "source": [
    "from tslearn.barycenters import (\n",
    "    softdtw_barycenter,\n",
    "    dtw_barycenter_averaging,\n",
    "    euclidean_barycenter,\n",
    ")"
   ]
  },
  {
   "cell_type": "code",
   "execution_count": null,
   "id": "4b634d28-1308-4c63-914f-6721b80d2d77",
   "metadata": {},
   "outputs": [],
   "source": [
    "def get_braycenters(df, columns=None, max_iter=50, tol=0.001):\n",
    "    df = df[columns]\n",
    "    X = np.array(df.apply(lambda x: x.tolist(), axis=1).tolist())\n",
    "    X = np.swapaxes(X, 1, 2)\n",
    "\n",
    "    Y = softdtw_barycenter(X, max_iter=max_iter, tol=tol)  # T X D\n",
    "\n",
    "    return Y\n",
    "\n",
    "\n",
    "def plot_cluster_timeseries_braycenters(\n",
    "    df,\n",
    "    cluster_label,\n",
    "    feature_labels,\n",
    "    displayed_labels,\n",
    "    feature_range_list,\n",
    "    x_ticks=[0, 10, 20],\n",
    "    cluster_subset=None,\n",
    "    figsize=(10, 10),\n",
    "    wspace=0.0,\n",
    "    hspace=0.0,\n",
    "    fontsize=14,\n",
    "    linewidth=3,\n",
    "    color_list=None,\n",
    "):\n",
    "\n",
    "    if cluster_subset is not None:\n",
    "        df = copy.copy(df)\n",
    "        df = df[df[cluster_label].isin(cluster_subset)]\n",
    "\n",
    "    cluster_groupby = df.groupby([cluster_label])\n",
    "    agg_cluster_timeseries = cluster_groupby.apply(\n",
    "        lambda x: get_braycenters(x, columns=feature_labels)\n",
    "    )\n",
    "\n",
    "    timeseries_list = []\n",
    "    for i, feature_label in enumerate(feature_labels):\n",
    "        selected_feature_agg = agg_cluster_timeseries.apply(\n",
    "            lambda x: x[:, i]\n",
    "        ).to_frame()\n",
    "        selected_feature_agg = selected_feature_agg.rename(columns={0: feature_label})\n",
    "        timeseries_list.append(selected_feature_agg)\n",
    "\n",
    "    timeseries_df = pd.concat(timeseries_list, axis=1)\n",
    "\n",
    "    fig = plt.figure(constrained_layout=True, figsize=figsize)\n",
    "    gs = fig.add_gridspec(1, len(timeseries_df), wspace=wspace)\n",
    "\n",
    "    for i in range(len(timeseries_df)):\n",
    "        mean_cluster_timeseries = timeseries_df.iloc[i]\n",
    "\n",
    "        clust_arr = np.array(timeseries_df.iloc[i].tolist())\n",
    "        if color_list == None:\n",
    "            color = \"tab:blue\"\n",
    "        else:\n",
    "            color = color_list[i]\n",
    "\n",
    "        if i == 0:\n",
    "            inner_gs = gs[0, i].subgridspec(\n",
    "                clust_arr.shape[0], 1, wspace=0, hspace=hspace\n",
    "            )\n",
    "            inner_grid_sub = inner_gs.subplots(sharex=True)\n",
    "            for c, ax in np.ndenumerate(inner_grid_sub):\n",
    "\n",
    "                feature_range = feature_range_list[c[0]]\n",
    "                ax.plot(clust_arr[c], linewidth=linewidth, color=color)\n",
    "                ax.set_ylim(feature_range[0], feature_range[1])\n",
    "                ax.set(xticks=[])\n",
    "                #                 ax.set(xticks=[], yticks=[0,6])\n",
    "                ax.set_ylabel(\n",
    "                    displayed_labels[c[0]],\n",
    "                    rotation=0,\n",
    "                    labelpad=30,\n",
    "                    fontsize=fontsize,\n",
    "                    ha=\"right\",\n",
    "                )  # ,orientation=\"horizontal\")\n",
    "\n",
    "            ax.set_xlabel(str(i), fontsize=fontsize)\n",
    "            ax.set(xticks=x_ticks)\n",
    "\n",
    "        else:\n",
    "            inner_gs = gs[0, i].subgridspec(\n",
    "                clust_arr.shape[0], 1, wspace=0, hspace=hspace\n",
    "            )\n",
    "            inner_grid_sub = inner_gs.subplots(sharex=True)\n",
    "            for c, ax in np.ndenumerate(inner_grid_sub):\n",
    "                feature_range = feature_range_list[c[0]]\n",
    "                ax.plot(clust_arr[c], linewidth=linewidth, color=color)\n",
    "                ax.set_ylim(feature_range[0], feature_range[1])\n",
    "                ax.set(xticks=[], yticks=[])\n",
    "\n",
    "            ax.set_xlabel(str(i), fontsize=fontsize)\n",
    "            ax.set(xticks=x_ticks)\n",
    "\n",
    "    plt.tight_layout()\n",
    "    return fig"
   ]
  },
  {
   "cell_type": "code",
   "execution_count": null,
   "id": "fd61f373-7fa4-49c5-9802-ecd1df113c32",
   "metadata": {},
   "outputs": [],
   "source": [
    "fig = plot_cluster_timeseries_braycenters(\n",
    "    paga_df.obs,\n",
    "    \"leiden_highres\",\n",
    "    [\n",
    "        \"Division Length Z-score\",\n",
    "        \"Linear Growth Rate Z-score\",\n",
    "        \"Exponential Growth Rate Z-score\",\n",
    "        \"Width Z-score\",\n",
    "        \"mCherry Intensity Z-score\",\n",
    "        \"Doubling Time Z-score\",\n",
    "    ],\n",
    "    [\n",
    "        \"Division Length Z-score\",\n",
    "        \"Linear Growth Rate Z-score\",\n",
    "        \"Exponential Growth Rate Z-score\",\n",
    "        \"Width Z-score\",\n",
    "        \"mCherry Intensity Z-score\",\n",
    "        \"Doubling Time Z-score\",\n",
    "    ],\n",
    "    [(-4, 4), (-4, 4), (-4, 4), (-4, 4), (-4, 4), (-4, 4)],\n",
    "    figsize=(25, 8),\n",
    "    wspace=0.25,\n",
    "    hspace=0.25,\n",
    "    color_list=vega_20_scanpy,\n",
    ")\n",
    "fig.savefig(\"./2_Cluster_Analysis/leiden_highres_barycenters.png\", dpi=150)"
   ]
  },
  {
   "cell_type": "code",
   "execution_count": null,
   "id": "9944bac9-c0b1-478d-87db-982d7c4f5722",
   "metadata": {},
   "outputs": [],
   "source": [
    "fig = plot_cluster_timeseries_braycenters(\n",
    "    paga_df.obs,\n",
    "    \"leiden\",\n",
    "    [\n",
    "        \"Division Length Z-score\",\n",
    "        \"Linear Growth Rate Z-score\",\n",
    "        \"Exponential Growth Rate Z-score\",\n",
    "        \"Width Z-score\",\n",
    "        \"mCherry Intensity Z-score\",\n",
    "        \"Doubling Time Z-score\",\n",
    "    ],\n",
    "    [\n",
    "        \"Division Length Z-score\",\n",
    "        \"Linear Growth Rate Z-score\",\n",
    "        \"Exponential Growth Rate Z-score\",\n",
    "        \"Width Z-score\",\n",
    "        \"mCherry Intensity Z-score\",\n",
    "        \"Doubling Time Z-score\",\n",
    "    ],\n",
    "    [(-4, 4), (-4, 4), (-4, 4), (-4, 4), (-4, 4), (-4, 4)],\n",
    "    figsize=(20, 8),\n",
    "    wspace=0.25,\n",
    "    hspace=0.25,\n",
    "    color_list=vega_20_scanpy,\n",
    ")\n",
    "fig.savefig(\"./2_Cluster_Analysis/leiden_barycenters.png\", dpi=150)"
   ]
  },
  {
   "cell_type": "code",
   "execution_count": null,
   "id": "3f819c87-e738-4512-a575-3aea8617ffa8",
   "metadata": {},
   "outputs": [],
   "source": [
    "fig = plot_cluster_timeseries_braycenters(\n",
    "    paga_df.obs,\n",
    "    \"leiden_lowres\",\n",
    "    [\n",
    "        \"Division Length Z-score\",\n",
    "        \"Linear Growth Rate Z-score\",\n",
    "        \"Exponential Growth Rate Z-score\",\n",
    "        \"Width Z-score\",\n",
    "        \"mCherry Intensity Z-score\",\n",
    "        \"Doubling Time Z-score\",\n",
    "    ],\n",
    "    [\n",
    "        \"Division Length Z-score\",\n",
    "        \"Linear Growth Rate Z-score\",\n",
    "        \"Exponential Growth Rate Z-score\",\n",
    "        \"Width Z-score\",\n",
    "        \"mCherry Intensity Z-score\",\n",
    "        \"Doubling Time Z-score\",\n",
    "    ],\n",
    "    [(-4, 4), (-4, 4), (-4, 4), (-4, 4), (-4, 4), (-4, 4)],\n",
    "    figsize=(7, 8),\n",
    "    wspace=0.25,\n",
    "    hspace=0.25,\n",
    "    color_list=vega_20_scanpy,\n",
    ")\n",
    "fig.savefig(\"./2_Cluster_Analysis/leiden_lowres_barycenters.png\", dpi=150)"
   ]
  },
  {
   "cell_type": "markdown",
   "id": "7f8fd467-957f-4180-a770-ac6d4ad70e6d",
   "metadata": {},
   "source": [
    "### GO Term Enrichment"
   ]
  },
  {
   "cell_type": "code",
   "execution_count": null,
   "id": "74972341-a424-4475-bdda-2102a0955ca3",
   "metadata": {},
   "outputs": [],
   "source": [
    "import goatools\n",
    "import goatools.base\n",
    "from goatools.base import download_go_basic_obo\n",
    "\n",
    "from goatools.obo_parser import GODag\n",
    "from goatools.anno.gaf_reader import GafReader\n",
    "from goatools.semantic import semantic_similarity\n",
    "from goatools.semantic import TermCounts, get_info_content\n",
    "\n",
    "from goatools.goea.go_enrichment_ns import GOEnrichmentStudyNS\n",
    "from goatools.go_enrichment import GOEnrichmentStudy\n",
    "\n",
    "\n",
    "def search_go(ns2assoc, obodag, inv_gene_to_id, go_term):\n",
    "    namespace_abbv = {\n",
    "        \"biological_process\": \"BP\",\n",
    "        \"molecular_function\": \"MF\",\n",
    "        \"cellular_component\": \"CC\",\n",
    "    }\n",
    "\n",
    "    print(\"Searching for \" + str(obodag[go_term].name))\n",
    "    namespace = namespace_abbv[obodag[go_term].namespace]\n",
    "    child_goterms = list(obodag[go_term].get_all_children())\n",
    "    gene_list = [\n",
    "        inv_gene_to_id[key]\n",
    "        for key, val in ns2assoc[namespace].items()\n",
    "        if go_term in val\n",
    "    ]\n",
    "    for child_goterm in child_goterms:\n",
    "        gene_list += [\n",
    "            inv_gene_to_id[key]\n",
    "            for key, val in ns2assoc[namespace].items()\n",
    "            if child_goterm in val\n",
    "        ]\n",
    "    gene_list = sorted(list(set(gene_list)))\n",
    "    return gene_list\n",
    "\n",
    "\n",
    "def get_enriched_GO_terms(\n",
    "    background_gene_list, gene_list, obodag, objanno, ns2assoc, pval=0.05, GO_type=\"BP\"\n",
    "):\n",
    "\n",
    "    gene_to_id = {assoc.DB_Symbol: assoc.DB_ID for assoc in objanno.associations}\n",
    "    synonym_dict = {\n",
    "        synonym: assoc.DB_ID\n",
    "        for assoc in objanno.associations\n",
    "        for synonym in assoc.DB_Synonym\n",
    "    }\n",
    "    gene_to_id.update(synonym_dict)\n",
    "\n",
    "    # background gene set\n",
    "\n",
    "    all_genes_uniprot = [\n",
    "        gene_to_id[item] for item in background_gene_list if item in gene_to_id.keys()\n",
    "    ]\n",
    "    selected_genes_uniprot = [\n",
    "        gene_to_id[item] for item in gene_list if item in gene_to_id.keys()\n",
    "    ]\n",
    "\n",
    "    print(len(all_genes_uniprot))\n",
    "    print(len(selected_genes_uniprot))\n",
    "\n",
    "    goeaobj = GOEnrichmentStudy(\n",
    "        all_genes_uniprot,  # List of mouse protein-coding genes\n",
    "        ns2assoc[GO_type],  # geneid/GO associations\n",
    "        obodag,  # Ontologies\n",
    "        propagate_counts=True,\n",
    "        alpha=pval,  # default significance cut-off\n",
    "        methods=[\"fdr_bh\"],\n",
    "    )\n",
    "    # defult multipletest correction method\n",
    "\n",
    "    goea_results_all = goeaobj.run_study(selected_genes_uniprot, prt=None)\n",
    "    goea_quiet_sig = [r for r in goea_results_all if r.p_fdr_bh < pval]\n",
    "    goea_quiet_enriched = [r for r in goea_quiet_sig if r.enrichment == \"e\"]\n",
    "    return goea_quiet_enriched\n",
    "\n",
    "\n",
    "def pick_exemplar(go1, go2, termcounts, obodag, info_thr, pval_factor=2.0):\n",
    "\n",
    "    info_1_low = get_info_content(go1.GO, termcounts) < info_thr\n",
    "    info_2_low = get_info_content(go2.GO, termcounts) < info_thr\n",
    "    if info_1_low and not info_2_low:\n",
    "        return go2\n",
    "    elif info_2_low and not info_1_low:\n",
    "        return go1\n",
    "    elif info_2_low and info_1_low:\n",
    "        return go1\n",
    "\n",
    "    pval_ratio = go1.p_fdr_bh / go2.p_fdr_bh\n",
    "\n",
    "    if pval_ratio > pval_factor:\n",
    "        return go2\n",
    "    elif pval_ratio < (1.0 / pval_factor):\n",
    "        return go1\n",
    "\n",
    "    go1_parents = list(obodag[go1.GO].get_all_parents())\n",
    "    go2_parents = list(obodag[go2.GO].get_all_parents())\n",
    "\n",
    "    if go2.GO in go1_parents:\n",
    "        return go2\n",
    "\n",
    "    elif go1.GO in go2_parents:\n",
    "        return go1\n",
    "\n",
    "    return go1\n",
    "\n",
    "\n",
    "def get_filtered_go_terms(\n",
    "    obodag, objanno, goea_list, sim_thr=0.05, info_thr=1.0, GO_type=\"BP\"\n",
    "):\n",
    "\n",
    "    termcounts = TermCounts(obodag, objanno.get_ns2assc()[GO_type])\n",
    "\n",
    "    go_term_list = [item.GO for item in goea_list]\n",
    "    sim_arr = np.zeros((len(go_term_list), len(go_term_list)))\n",
    "    for i in range(len(go_term_list)):\n",
    "        for j in range(len(go_term_list)):\n",
    "            sim_arr[i, j] = semantic_similarity(\n",
    "                go_term_list[i], go_term_list[j], obodag\n",
    "            )\n",
    "    np.fill_diagonal(sim_arr, 0.0)\n",
    "\n",
    "    working_group_idx = 0\n",
    "    grouped_terms = {}\n",
    "    group_exemplars = {}\n",
    "    go_term_indices = list(range(len(go_term_list)))\n",
    "\n",
    "    while len(go_term_indices) > 0:\n",
    "        i = go_term_indices[0]\n",
    "        most_sim_arg = np.argmax(sim_arr[i])\n",
    "        sim_score = sim_arr[i, most_sim_arg]\n",
    "        if sim_score > sim_thr:\n",
    "            if len(grouped_terms) > 0:\n",
    "                in_other_group_keys = [\n",
    "                    key for key, val in grouped_terms.items() if most_sim_arg in val\n",
    "                ]\n",
    "                if len(in_other_group_keys) == 1:\n",
    "                    other_group_idx = in_other_group_keys[0]\n",
    "                    grouped_terms[other_group_idx] = grouped_terms[other_group_idx] + [\n",
    "                        i\n",
    "                    ]\n",
    "                    group_exemplars[other_group_idx] = pick_exemplar(\n",
    "                        group_exemplars[other_group_idx],\n",
    "                        goea_list[i],\n",
    "                        termcounts,\n",
    "                        obodag,\n",
    "                        info_thr,\n",
    "                    )\n",
    "                else:\n",
    "                    grouped_terms[working_group_idx] = [i, most_sim_arg]\n",
    "                    group_exemplars[working_group_idx] = pick_exemplar(\n",
    "                        goea_list[i],\n",
    "                        goea_list[most_sim_arg],\n",
    "                        termcounts,\n",
    "                        obodag,\n",
    "                        info_thr,\n",
    "                    )\n",
    "                    working_group_idx += 1\n",
    "                    go_term_indices.remove(most_sim_arg)\n",
    "            else:\n",
    "                grouped_terms[working_group_idx] = [i, most_sim_arg]\n",
    "                group_exemplars[working_group_idx] = pick_exemplar(\n",
    "                    goea_list[i], goea_list[most_sim_arg], termcounts, obodag, info_thr\n",
    "                )\n",
    "                working_group_idx += 1\n",
    "                go_term_indices.remove(most_sim_arg)\n",
    "        go_term_indices.remove(i)\n",
    "\n",
    "    group_exemplars = list(group_exemplars.values())\n",
    "\n",
    "    return group_exemplars\n",
    "\n",
    "\n",
    "def get_GO_assign_dict(selected_goea, cluster_genes_uniprot):\n",
    "    all_study_items = copy.copy(cluster_genes_uniprot)\n",
    "    depth_list = sorted(set([item.depth for item in selected_goea]))[::-1]\n",
    "    assign_dict = {}\n",
    "    for depth in depth_list:\n",
    "        go_terms_at_level = [item for item in selected_goea if item.depth == depth]\n",
    "        for go_term in go_terms_at_level:\n",
    "            study_item_list = list(go_term.study_items)\n",
    "            for study_item in study_item_list:\n",
    "                if study_item in all_study_items:\n",
    "                    assign_dict[study_item] = go_term.name\n",
    "                    all_study_items.remove(study_item)\n",
    "\n",
    "    for remaining_item in all_study_items:\n",
    "        assign_dict[remaining_item] = \"Unassigned\"\n",
    "\n",
    "    return assign_dict"
   ]
  },
  {
   "cell_type": "code",
   "execution_count": null,
   "id": "878edaa4-db6a-4a41-b103-fc5bc3b18029",
   "metadata": {},
   "outputs": [],
   "source": [
    "# Get ontologies\n",
    "obo_fname = download_go_basic_obo()\n",
    "\n",
    "# Get ecoli association file (ecocyc)\n",
    "gaf_handle = goatools.base.http_get(\n",
    "    \"http://current.geneontology.org/annotations/ecocyc.gaf.gz\", fout=\"./ecocyc.gaf.gz\"\n",
    ")\n",
    "gaf_fname = goatools.base.gunzip(\"./ecocyc.gaf.gz\")\n",
    "\n",
    "## Getting ontologies and other nonesense\n",
    "\n",
    "obodag = GODag(obo_fname)\n",
    "objanno = GafReader(gaf_fname)\n",
    "ns2assoc = objanno.get_ns2assc()\n",
    "\n",
    "gene_to_id = {assoc.DB_Symbol: assoc.DB_ID for assoc in objanno.associations}\n",
    "inv_gene_to_id = {assoc.DB_ID: assoc.DB_Symbol for assoc in objanno.associations}\n",
    "synonym_dict = {\n",
    "    synonym: assoc.DB_ID\n",
    "    for assoc in objanno.associations\n",
    "    for synonym in assoc.DB_Synonym\n",
    "}\n",
    "gene_to_id.update(synonym_dict)"
   ]
  },
  {
   "cell_type": "code",
   "execution_count": null,
   "id": "14f4475f-8410-455f-a866-34b9ae048041",
   "metadata": {},
   "outputs": [],
   "source": [
    "fig = sc.pl.umap(\n",
    "    paga_df,\n",
    "    color=[\"leiden_lowres\", \"leiden\", \"leiden_highres\"],\n",
    "    title=[\"Leiden Resolution=0.25\", \"Leiden Resolution=1.\", \"Leiden Resolution=1.5\"],\n",
    "    show=False,\n",
    "    legend_loc=\"on data\",\n",
    "    edges=True,\n",
    "    add_outline=False,\n",
    "    size=50,\n",
    "    return_fig=True,\n",
    "    palette=vega_20_scanpy,\n",
    ")"
   ]
  },
  {
   "cell_type": "markdown",
   "id": "09f6bef4-fd89-4310-8d3d-6e5a9119a278",
   "metadata": {},
   "source": [
    "#### Division Cluster"
   ]
  },
  {
   "cell_type": "code",
   "execution_count": null,
   "id": "aced4e3d-d478-4d29-8ebb-06b27076de80",
   "metadata": {},
   "outputs": [],
   "source": [
    "# background gene set\n",
    "\n",
    "all_genes = paga_df.obs[\"Gene\"].unique().tolist()\n",
    "\n",
    "clust_id = str(6)\n",
    "cluster_genes = sorted(\n",
    "    paga_df.obs[paga_df.obs[\"leiden_highres\"] == clust_id][\"Gene\"].unique().tolist()\n",
    ")\n",
    "\n",
    "goea_quiet_enriched = get_enriched_GO_terms(\n",
    "    all_genes, cluster_genes, obodag, objanno, ns2assoc, pval=0.05, GO_type=\"BP\"\n",
    ")\n",
    "filtered_go_terms = get_filtered_go_terms(\n",
    "    obodag, objanno, goea_quiet_enriched, sim_thr=0.3, info_thr=1.0\n",
    ")\n",
    "go_term_dict = {\n",
    "    go_term.name: go_term.ratio_in_study[0] for go_term in filtered_go_terms\n",
    "}\n",
    "# ttl_terms = np.sum(list(go_term_dict.values()))\n",
    "# go_term_dict = {key:val/ttl_terms for key,val in go_term_dict.items()}\n",
    "\n",
    "print()\n",
    "for key, value in go_term_dict.items():\n",
    "    print(key, \" : \", value)\n",
    "print()\n",
    "for i in range(0, len(cluster_genes), 5):\n",
    "    print(cluster_genes[i : i + 5])"
   ]
  },
  {
   "cell_type": "markdown",
   "id": "2eaf6583-f213-49b0-8bd6-46256342f1fc",
   "metadata": {},
   "source": [
    "#### Starvation Cluster"
   ]
  },
  {
   "cell_type": "code",
   "execution_count": null,
   "id": "429eed73-2290-4ce0-96bc-342a445b69fa",
   "metadata": {},
   "outputs": [],
   "source": [
    "# background gene set\n",
    "\n",
    "all_genes = paga_df.obs[\"Gene\"].unique().tolist()\n",
    "\n",
    "clust_id = str(1)\n",
    "cluster_genes = sorted(\n",
    "    paga_df.obs[paga_df.obs[\"leiden_lowres\"] == clust_id][\"Gene\"].unique().tolist()\n",
    ")\n",
    "\n",
    "goea_quiet_enriched = get_enriched_GO_terms(\n",
    "    all_genes, cluster_genes, obodag, objanno, ns2assoc, pval=0.05, GO_type=\"BP\"\n",
    ")\n",
    "filtered_go_terms = get_filtered_go_terms(\n",
    "    obodag, objanno, goea_quiet_enriched, sim_thr=0.3, info_thr=1.0\n",
    ")\n",
    "go_term_dict = {\n",
    "    go_term.name: go_term.ratio_in_study[0] for go_term in filtered_go_terms\n",
    "}\n",
    "# ttl_terms = np.sum(list(go_term_dict.values()))\n",
    "# go_term_dict = {key:val/ttl_terms for key,val in go_term_dict.items()}\n",
    "\n",
    "print()\n",
    "for key, value in go_term_dict.items():\n",
    "    print(key, \" : \", value)\n",
    "print()\n",
    "for i in range(0, len(cluster_genes), 5):\n",
    "    print(cluster_genes[i : i + 5])"
   ]
  },
  {
   "cell_type": "markdown",
   "id": "18d6cfab-8533-4fef-b1a1-2a81a4d286c1",
   "metadata": {},
   "source": [
    "#### Ribosome Clusters"
   ]
  },
  {
   "cell_type": "code",
   "execution_count": null,
   "id": "ac8d018d-90fe-4003-91cc-d969584ed318",
   "metadata": {},
   "outputs": [],
   "source": [
    "# background gene set\n",
    "\n",
    "all_genes = paga_df.obs[\"Gene\"].unique().tolist()\n",
    "\n",
    "clust_ids = [\"5\", \"7\"]\n",
    "cluster_genes = sorted(\n",
    "    paga_df.obs[paga_df.obs[\"leiden\"].isin(clust_ids)][\"Gene\"].unique().tolist()\n",
    ")\n",
    "\n",
    "goea_quiet_enriched = get_enriched_GO_terms(\n",
    "    all_genes, cluster_genes, obodag, objanno, ns2assoc, pval=0.05, GO_type=\"BP\"\n",
    ")\n",
    "filtered_go_terms = get_filtered_go_terms(\n",
    "    obodag, objanno, goea_quiet_enriched, sim_thr=0.3, info_thr=1.0\n",
    ")\n",
    "go_term_dict = {\n",
    "    go_term.name: go_term.ratio_in_study[0] for go_term in filtered_go_terms\n",
    "}\n",
    "# ttl_terms = np.sum(list(go_term_dict.values()))\n",
    "# go_term_dict = {key:val/ttl_terms for key,val in go_term_dict.items()}\n",
    "\n",
    "print()\n",
    "for key, value in go_term_dict.items():\n",
    "    print(key, \" : \", value)\n",
    "print()\n",
    "for i in range(0, len(cluster_genes), 5):\n",
    "    print(cluster_genes[i : i + 5])"
   ]
  },
  {
   "cell_type": "markdown",
   "id": "6a768713-c4af-483f-be34-4855d4f586f4",
   "metadata": {},
   "source": [
    "#### Replication Cluster"
   ]
  },
  {
   "cell_type": "code",
   "execution_count": null,
   "id": "02fc5bda-3bf9-4632-9bd3-ecb5a8bb38e9",
   "metadata": {},
   "outputs": [],
   "source": [
    "# background gene set\n",
    "\n",
    "all_genes = paga_df.obs[\"Gene\"].unique().tolist()\n",
    "\n",
    "clust_id = str(13)\n",
    "cluster_genes = sorted(\n",
    "    paga_df.obs[paga_df.obs[\"leiden\"] == clust_id][\"Gene\"].unique().tolist()\n",
    ")\n",
    "\n",
    "goea_quiet_enriched = get_enriched_GO_terms(\n",
    "    all_genes, cluster_genes, obodag, objanno, ns2assoc, pval=0.05, GO_type=\"BP\"\n",
    ")\n",
    "filtered_go_terms = get_filtered_go_terms(\n",
    "    obodag, objanno, goea_quiet_enriched, sim_thr=0.3, info_thr=1.0\n",
    ")\n",
    "go_term_dict = {\n",
    "    go_term.name: go_term.ratio_in_study[0] for go_term in filtered_go_terms\n",
    "}\n",
    "# ttl_terms = np.sum(list(go_term_dict.values()))\n",
    "# go_term_dict = {key:val/ttl_terms for key,val in go_term_dict.items()}\n",
    "\n",
    "print()\n",
    "for key, value in go_term_dict.items():\n",
    "    print(key, \" : \", value)\n",
    "print()\n",
    "for i in range(0, len(cluster_genes), 5):\n",
    "    print(cluster_genes[i : i + 5])"
   ]
  },
  {
   "cell_type": "markdown",
   "id": "73b71745-5620-44a1-a452-be00fcbcd3dd",
   "metadata": {},
   "source": [
    "#### Wide Cluster"
   ]
  },
  {
   "cell_type": "code",
   "execution_count": null,
   "id": "a317acba-bf85-4430-b170-c667ffc823e8",
   "metadata": {},
   "outputs": [],
   "source": [
    "# background gene set\n",
    "\n",
    "all_genes = paga_df.obs[\"Gene\"].unique().tolist()\n",
    "\n",
    "clust_id = str(10)\n",
    "cluster_genes = sorted(\n",
    "    paga_df.obs[paga_df.obs[\"leiden\"] == clust_id][\"Gene\"].unique().tolist()\n",
    ")\n",
    "\n",
    "goea_quiet_enriched = get_enriched_GO_terms(\n",
    "    all_genes, cluster_genes, obodag, objanno, ns2assoc, pval=0.05, GO_type=\"BP\"\n",
    ")\n",
    "filtered_go_terms = get_filtered_go_terms(\n",
    "    obodag, objanno, goea_quiet_enriched, sim_thr=0.3, info_thr=1.0\n",
    ")\n",
    "go_term_dict = {\n",
    "    go_term.name: go_term.ratio_in_study[0] for go_term in filtered_go_terms\n",
    "}\n",
    "# ttl_terms = np.sum(list(go_term_dict.values()))\n",
    "# go_term_dict = {key:val/ttl_terms for key,val in go_term_dict.items()}\n",
    "\n",
    "print()\n",
    "for key, value in go_term_dict.items():\n",
    "    print(key, \" : \", value)\n",
    "print()\n",
    "for i in range(0, len(cluster_genes), 5):\n",
    "    print(cluster_genes[i : i + 5])"
   ]
  },
  {
   "cell_type": "markdown",
   "id": "17c18837-2028-457a-86b1-db037a679646",
   "metadata": {},
   "source": [
    "#### Very Wide Cluster"
   ]
  },
  {
   "cell_type": "code",
   "execution_count": null,
   "id": "3944b1f3-9095-42b8-8c30-039a3695a6d2",
   "metadata": {},
   "outputs": [],
   "source": [
    "# background gene set\n",
    "\n",
    "all_genes = paga_df.obs[\"Gene\"].unique().tolist()\n",
    "\n",
    "clust_id = str(11)\n",
    "cluster_genes = sorted(\n",
    "    paga_df.obs[paga_df.obs[\"leiden_highres\"] == clust_id][\"Gene\"].unique().tolist()\n",
    ")\n",
    "\n",
    "goea_quiet_enriched = get_enriched_GO_terms(\n",
    "    all_genes, cluster_genes, obodag, objanno, ns2assoc, pval=0.05, GO_type=\"BP\"\n",
    ")\n",
    "filtered_go_terms = get_filtered_go_terms(\n",
    "    obodag, objanno, goea_quiet_enriched, sim_thr=0.3, info_thr=1.0\n",
    ")\n",
    "go_term_dict = {\n",
    "    go_term.name: go_term.ratio_in_study[0] for go_term in filtered_go_terms\n",
    "}\n",
    "# ttl_terms = np.sum(list(go_term_dict.values()))\n",
    "# go_term_dict = {key:val/ttl_terms for key,val in go_term_dict.items()}\n",
    "\n",
    "print()\n",
    "for key, value in go_term_dict.items():\n",
    "    print(key, \" : \", value)\n",
    "print()\n",
    "for i in range(0, len(cluster_genes), 5):\n",
    "    print(cluster_genes[i : i + 5])"
   ]
  },
  {
   "cell_type": "markdown",
   "id": "443bfb0b-c855-412d-ad5d-fde877fd1e5b",
   "metadata": {},
   "source": [
    "#### Segmentation Error Cluster"
   ]
  },
  {
   "cell_type": "code",
   "execution_count": null,
   "id": "6ea068f7-7f07-40b7-b908-070353e15800",
   "metadata": {},
   "outputs": [],
   "source": [
    "# background gene set\n",
    "\n",
    "all_genes = paga_df.obs[\"Gene\"].unique().tolist()\n",
    "\n",
    "clust_id = str(14)\n",
    "cluster_genes = sorted(\n",
    "    paga_df.obs[paga_df.obs[\"leiden\"] == clust_id][\"Gene\"].unique().tolist()\n",
    ")\n",
    "\n",
    "goea_quiet_enriched = get_enriched_GO_terms(\n",
    "    all_genes, cluster_genes, obodag, objanno, ns2assoc, pval=0.05, GO_type=\"BP\"\n",
    ")\n",
    "filtered_go_terms = get_filtered_go_terms(\n",
    "    obodag, objanno, goea_quiet_enriched, sim_thr=0.3, info_thr=1.0\n",
    ")\n",
    "go_term_dict = {\n",
    "    go_term.name: go_term.ratio_in_study[0] for go_term in filtered_go_terms\n",
    "}\n",
    "# ttl_terms = np.sum(list(go_term_dict.values()))\n",
    "# go_term_dict = {key:val/ttl_terms for key,val in go_term_dict.items()}\n",
    "\n",
    "print()\n",
    "for key, value in go_term_dict.items():\n",
    "    print(key, \" : \", value)\n",
    "print()\n",
    "for i in range(0, len(cluster_genes), 5):\n",
    "    print(cluster_genes[i : i + 5])"
   ]
  },
  {
   "cell_type": "markdown",
   "id": "9b6d0d6a",
   "metadata": {},
   "source": [
    "## 3) Divergence Detection"
   ]
  },
  {
   "cell_type": "code",
   "execution_count": null,
   "id": "934fb3b1",
   "metadata": {},
   "outputs": [],
   "source": [
    "dist_mat = copy.deepcopy(paga_df.obsp[\"soft_dtw\"])\n",
    "dist_mat = np.triu(dist_mat)\n",
    "upper_tri_mask = dist_mat > 0.0\n",
    "gene_list = sorted(paga_df.obs[\"Gene\"].unique().tolist())"
   ]
  },
  {
   "cell_type": "code",
   "execution_count": null,
   "id": "bd2b180e",
   "metadata": {},
   "outputs": [],
   "source": [
    "unmatched_gene_mask = np.ones(dist_mat.shape, dtype=bool)"
   ]
  },
  {
   "cell_type": "code",
   "execution_count": null,
   "id": "df897a00",
   "metadata": {},
   "outputs": [],
   "source": [
    "import itertools\n",
    "\n",
    "unmatched_gene_mask = np.ones(dist_mat.shape, dtype=bool) * upper_tri_mask\n",
    "\n",
    "all_matched_vals = []\n",
    "gene_groups = {}\n",
    "\n",
    "for i, gene_i in enumerate(gene_list):\n",
    "    gene_mask = (paga_df.obs[\"Gene\"] == gene_i).values\n",
    "    double_gene_mask = np.logical_and.outer(gene_mask, gene_mask)\n",
    "    masked_vals = dist_mat[double_gene_mask * upper_tri_mask]\n",
    "    masked_vals = masked_vals[~np.isnan(masked_vals)].tolist()\n",
    "    all_matched_vals += masked_vals\n",
    "    gene_groups[gene_i] = masked_vals\n",
    "\n",
    "    unmatched_gene_mask = unmatched_gene_mask * (~double_gene_mask)\n",
    "\n",
    "all_unmatched_vals = dist_mat[unmatched_gene_mask].tolist()\n",
    "sampled_unmatched_vals = np.random.choice(\n",
    "    all_unmatched_vals, replace=False, size=(100000,)\n",
    ")\n",
    "# all_unmatched_vals = []\n",
    "# for i,gene_i in enumerate(gene_list):\n",
    "#     for j,gene_j in enumerate(gene_list):\n",
    "#         if i > j:\n",
    "#             coord_list = np.array([item for item in itertools.product(gene_loc_dict[gene_i],gene_loc_dict[gene_j]) if item[0]>item[1]])\n",
    "#             if len(coord_list)>0:\n",
    "#                 masked_vals = dist_mat[coord_list]\n",
    "#                 masked_vals = masked_vals[~np.isnan(masked_vals)].tolist()\n",
    "#                 all_unmatched_vals += masked_vals"
   ]
  },
  {
   "cell_type": "code",
   "execution_count": null,
   "id": "c596480a",
   "metadata": {},
   "outputs": [],
   "source": [
    "plt.hist(all_matched_vals, bins=50, range=(0, 1000))\n",
    "plt.show()\n",
    "plt.hist(sampled_unmatched_vals, bins=50, range=(0, 1000))\n",
    "plt.show()"
   ]
  },
  {
   "cell_type": "code",
   "execution_count": null,
   "id": "0e6f6465",
   "metadata": {},
   "outputs": [],
   "source": [
    "n_matched_vals = len(all_matched_vals)\n",
    "n_unmatched_vals = len(all_unmatched_vals)\n",
    "p_match = n_matched_vals / (n_matched_vals + n_unmatched_vals)\n",
    "p_unmatch = 1.0 - p_match"
   ]
  },
  {
   "cell_type": "markdown",
   "id": "39cf157a",
   "metadata": {},
   "source": [
    "### t-test with multihypothesis correction"
   ]
  },
  {
   "cell_type": "code",
   "execution_count": null,
   "id": "4484c613",
   "metadata": {},
   "outputs": [],
   "source": [
    "import statsmodels.stats.multitest\n",
    "\n",
    "mean_match = np.mean(all_matched_vals)\n",
    "\n",
    "gene_group_ttest_pval = []\n",
    "gene_group_ttest_gene = []\n",
    "for key, val in gene_groups.items():\n",
    "    if len(val) > 1:\n",
    "        gene_group_ttest_gene.append(key)\n",
    "        gene_group_ttest_pval.append(\n",
    "            sp.stats.ttest_1samp(\n",
    "                gene_groups[key], mean_match, alternative=\"greater\"\n",
    "            ).pvalue\n",
    "        )\n",
    "\n",
    "gene_group_ttest_pval = np.array(gene_group_ttest_pval)\n",
    "gene_group_ttest_gene = np.array(gene_group_ttest_gene)\n",
    "\n",
    "rejected, pval_corr = statsmodels.stats.multitest.fdrcorrection(\n",
    "    gene_group_ttest_pval, alpha=0.01, method=\"indep\", is_sorted=False\n",
    ")"
   ]
  },
  {
   "cell_type": "code",
   "execution_count": null,
   "id": "8eaf7311",
   "metadata": {
    "tags": []
   },
   "outputs": [],
   "source": [
    "gene_group_ttest_gene[rejected]"
   ]
  },
  {
   "cell_type": "markdown",
   "id": "458a90a9",
   "metadata": {},
   "source": [
    "### Highlight Genes of Interest"
   ]
  },
  {
   "cell_type": "code",
   "execution_count": null,
   "id": "56cea5af",
   "metadata": {},
   "outputs": [],
   "source": [
    "fig = highlight_gene_group(paga_df, gene_group_ttest_gene[rejected])\n",
    "fig.savefig(\"./3_Divergent_Genes/divergent_genes.png\", dpi=150)"
   ]
  },
  {
   "cell_type": "markdown",
   "id": "1f96602d",
   "metadata": {},
   "source": [
    "### Examining Individuals\n",
    "\n",
    " - Temporarily importing nanopore output since coordinate fix not pushed through intermediate steps in the pipeline"
   ]
  },
  {
   "cell_type": "code",
   "execution_count": null,
   "id": "7b86b877",
   "metadata": {},
   "outputs": [],
   "source": [
    "import pandas as ps\n",
    "import ast"
   ]
  },
  {
   "cell_type": "code",
   "execution_count": null,
   "id": "bc5a083b",
   "metadata": {
    "tags": []
   },
   "outputs": [],
   "source": [
    "nanopore_df = pd.read_csv(\n",
    "    \"/home/de64/paulssonlab/paulssonlab/src/paulssonlab/deaton/nanopore/dev_notebooks/2021-07-11_snakemake_lDE20/2021-04-20_Essential_KO_Lib_df_coords_corrected.tsv\",\n",
    "    sep=\"\\t\",\n",
    ")\n",
    "nanopore_df[\"Target Sites\"][~nanopore_df[\"Target Sites\"].isna()] = nanopore_df[\n",
    "    \"Target Sites\"\n",
    "][~nanopore_df[\"Target Sites\"].isna()].apply(lambda x: ast.literal_eval(x))"
   ]
  },
  {
   "cell_type": "markdown",
   "id": "d19195e3-a5e7-49dc-b2be-13f5bd0e0fd8",
   "metadata": {},
   "source": [
    "#### Get RegulonDB Files"
   ]
  },
  {
   "cell_type": "code",
   "execution_count": null,
   "id": "fc1383a5-b3fd-4ff0-9b15-737a6c901b39",
   "metadata": {},
   "outputs": [],
   "source": [
    "import urllib.request\n",
    "from dna_features_viewer import BiopythonTranslator\n",
    "from Bio import SeqIO"
   ]
  },
  {
   "cell_type": "code",
   "execution_count": null,
   "id": "2bf9b064-6873-4d06-9d83-051a185b1124",
   "metadata": {},
   "outputs": [],
   "source": [
    "urllib.request.urlretrieve(\n",
    "    \"http://regulondb.ccg.unam.mx/menu/download/datasets/files/U00096.3.gbk\",\n",
    "    \"./U00096.3.gbk\",\n",
    ")"
   ]
  },
  {
   "cell_type": "code",
   "execution_count": null,
   "id": "d8f84c9d",
   "metadata": {},
   "outputs": [],
   "source": [
    "urllib.request.urlretrieve(\n",
    "    \"http://regulondb.ccg.unam.mx/menu/download/datasets/files/PromoterSet.txt\",\n",
    "    \"./PromoterSet.txt\",\n",
    ")"
   ]
  },
  {
   "cell_type": "code",
   "execution_count": null,
   "id": "467a841f-f310-4a1d-9936-4bcc91f72519",
   "metadata": {},
   "outputs": [],
   "source": [
    "from dna_features_viewer import BiopythonTranslator\n",
    "from Bio import SeqIO\n",
    "from Bio.SeqFeature import SeqFeature, FeatureLocation\n",
    "\n",
    "\n",
    "class sgRNA_Explorer(BiopythonTranslator):\n",
    "    \"\"\"Custom translator implementing the following theme:\n",
    "\n",
    "    - Color terminators in green, CDS in blue, all other features in gold.\n",
    "    - Do not display features that are restriction sites unless they are BamHI\n",
    "    - Do not display labels for restriction sites.\n",
    "    - For CDS labels just write \"CDS here\" instead of the name of the gene.\n",
    "\n",
    "    \"\"\"\n",
    "\n",
    "    def __init__(self, ignored_features_types=[\"CDS\"]):\n",
    "        self.ignored_features_types = ignored_features_types\n",
    "        super(sgRNA_Explorer, self).__init__()\n",
    "\n",
    "    def compute_feature_color(self, feature):\n",
    "        if feature.type == \"CDS\":\n",
    "            return \"#1f77b4\"\n",
    "        elif feature.type == \"terminator\":\n",
    "            return \"#279e68\"\n",
    "        elif feature.type == \"promoter\":\n",
    "            return \"#aa40fc\"\n",
    "        elif feature.type == \"sgRNA\":\n",
    "            return \"#d62728\"\n",
    "        else:\n",
    "            return \"#aec7e8\"\n",
    "\n",
    "\n",
    "def add_promoters_to_genbank(genome_record, promoter_df):\n",
    "    promoter_feature_list = []\n",
    "    for index, promoter in promoter_df.iterrows():\n",
    "        if promoter[\"Strand\"] == \"forward\":\n",
    "            promoter_feature = SeqFeature(\n",
    "                location=FeatureLocation(promoter[\"TSS\"], promoter[\"TSS\"]),\n",
    "                type=\"promoter\",\n",
    "                strand=1,\n",
    "            )\n",
    "            promoter_feature.qualifiers[\"gene\"] = promoter[\"Name\"]\n",
    "            promoter_feature_list.append(promoter_feature)\n",
    "        else:\n",
    "            promoter_feature = SeqFeature(\n",
    "                location=FeatureLocation(promoter[\"TSS\"], promoter[\"TSS\"]),\n",
    "                type=\"promoter\",\n",
    "                strand=-1,\n",
    "            )\n",
    "            promoter_feature.qualifiers[\"gene\"] = promoter[\"Name\"]\n",
    "            promoter_feature_list.append(promoter_feature)\n",
    "    genome_record.features = genome_record.features + promoter_feature_list\n",
    "    return genome_record\n",
    "\n",
    "\n",
    "def display_target_sites(genome_record, target_site_list, translator, view_pad=1000):\n",
    "    strand_dict = {\"+\": 1, \"-\": -1}\n",
    "\n",
    "    n_targets = len(target_site_list)\n",
    "\n",
    "    for target_site in target_site_list:\n",
    "        start_coord = target_site[0] - view_pad\n",
    "        end_coord = target_site[1] + view_pad\n",
    "\n",
    "        sub_genome_record = genome_record[start_coord:end_coord]\n",
    "        sgRNA = SeqFeature(\n",
    "            location=FeatureLocation(view_pad, view_pad + 20),\n",
    "            type=\"sgRNA\",\n",
    "            strand=strand_dict[target_site[2]],\n",
    "        )\n",
    "\n",
    "        sgRNA.qualifiers[\"gene\"] = \"sgRNA\"\n",
    "\n",
    "        sub_genome_record.features = sub_genome_record.features + [sgRNA]\n",
    "        graphic_record = translator.translate_record(sub_genome_record)\n",
    "\n",
    "        ax, _ = graphic_record.plot(figure_width=10, strand_in_label_threshold=7)\n",
    "\n",
    "\n",
    "def display_target_sites_single_locus(\n",
    "    genome_record, target_site_dict, translator, view_pad=2000, outer_context_pad=20000\n",
    "):\n",
    "    strand_dict = {\"+\": 1, \"-\": -1}\n",
    "\n",
    "    n_targets = len(target_site_dict)\n",
    "    first_key = list(target_site_dict.keys())[0]\n",
    "\n",
    "    outer_start_coord = target_site_dict[first_key][0] - outer_context_pad\n",
    "    outer_end_coord = target_site_dict[first_key][1] + outer_context_pad\n",
    "\n",
    "    start_coord = target_site_dict[first_key][0] - outer_start_coord\n",
    "    end_coord = target_site_dict[first_key][1] - outer_start_coord\n",
    "\n",
    "    sub_genome_record = genome_record[outer_start_coord:outer_end_coord]\n",
    "\n",
    "    for targetid, target_site in target_site_dict.items():\n",
    "\n",
    "        sgRNA = SeqFeature(\n",
    "            location=FeatureLocation(\n",
    "                target_site[0] - outer_start_coord, target_site[1] - outer_start_coord\n",
    "            ),\n",
    "            type=\"sgRNA\",\n",
    "            strand=strand_dict[target_site[2]],\n",
    "        )\n",
    "\n",
    "        sgRNA.qualifiers[\"gene\"] = str(targetid)\n",
    "\n",
    "        sub_genome_record.features = sub_genome_record.features + [sgRNA]\n",
    "    graphic_record = translator.translate_record(sub_genome_record)\n",
    "\n",
    "    cropped_record = graphic_record.crop((start_coord - view_pad, end_coord + view_pad))\n",
    "\n",
    "    ax, _ = cropped_record.plot(figure_width=10, strand_in_label_threshold=7)\n",
    "\n",
    "\n",
    "def gene_to_target_dict(df, nanopore_df, gene_name):\n",
    "    subset_df = df[df[\"Gene\"] == gene_name]\n",
    "    subset_targetid_list = (\n",
    "        subset_df.groupby(\"TargetID\").apply(lambda x: x.iloc[0])[\"TargetID\"].tolist()\n",
    "    )\n",
    "\n",
    "    target_site_dict = (\n",
    "        nanopore_df[nanopore_df[\"TargetID\"].isin(subset_targetid_list)]\n",
    "        .groupby(\"TargetID\")\n",
    "        .apply(lambda x: x.iloc[0])[\"Target Sites\"]\n",
    "        .to_dict()\n",
    "    )\n",
    "    target_site_dict = {\n",
    "        key: item for key, val in target_site_dict.items() for item in val\n",
    "    }  # unwrapping target sites\n",
    "\n",
    "    return target_site_dict, subset_df"
   ]
  },
  {
   "cell_type": "markdown",
   "id": "886d34a7-15b5-4c65-82de-9657a11731a5",
   "metadata": {},
   "source": [
    "#### Make Reference SeqRecord"
   ]
  },
  {
   "cell_type": "code",
   "execution_count": null,
   "id": "f2dde615-79c8-422c-a3ab-d62777f61b06",
   "metadata": {},
   "outputs": [],
   "source": [
    "genome_record = SeqIO.read(\"./U00096.3.gbk\", \"genbank\")\n",
    "promoter_df = pd.read_csv(\n",
    "    \"./PromoterSet.txt\",\n",
    "    sep=\"\\t\",\n",
    "    skiprows=37,\n",
    "    names=[\n",
    "        \"ID\",\n",
    "        \"Name\",\n",
    "        \"Strand\",\n",
    "        \"TSS\",\n",
    "        \"Sigma Factor\",\n",
    "        \"Sequence\",\n",
    "        \"Evidence\",\n",
    "        \"Confidence\",\n",
    "    ],\n",
    ")\n",
    "promoter_df = promoter_df[promoter_df[\"Confidence\"] == \"Strong\"]\n",
    "genome_record_merged = add_promoters_to_genbank(genome_record, promoter_df)"
   ]
  },
  {
   "cell_type": "code",
   "execution_count": null,
   "id": "8174f201-e0e4-4251-9bf2-4e8cf999880a",
   "metadata": {},
   "outputs": [],
   "source": [
    "genome_record_merged"
   ]
  },
  {
   "cell_type": "markdown",
   "id": "3d5457d3-194f-4d67-a60b-aa49d6818d7d",
   "metadata": {},
   "source": [
    "#### Initialize Viewer"
   ]
  },
  {
   "cell_type": "code",
   "execution_count": null,
   "id": "bb8a16ba-4bfb-4c3d-96d3-126b0c9f2db4",
   "metadata": {},
   "outputs": [],
   "source": [
    "translator = sgRNA_Explorer()"
   ]
  },
  {
   "cell_type": "code",
   "execution_count": null,
   "id": "22d60a94-74be-4bb1-a771-e32ee2e50f36",
   "metadata": {},
   "outputs": [],
   "source": [
    "divergent_df = paga_df.obs[paga_df.obs[\"Gene\"].isin(gene_group_ttest_gene[rejected])]"
   ]
  },
  {
   "cell_type": "code",
   "execution_count": null,
   "id": "9d52e44f-ee15-4ccd-8424-448eb198d717",
   "metadata": {},
   "outputs": [],
   "source": [
    "divergent_df[\"Gene\"].unique().tolist()"
   ]
  },
  {
   "cell_type": "code",
   "execution_count": null,
   "id": "4c6fdc2b-55a4-4d5e-b706-9dcbc821fb41",
   "metadata": {},
   "outputs": [],
   "source": [
    "fig = sc.pl.umap(\n",
    "    paga_df,\n",
    "    color=[\"leiden_lowres\", \"leiden\", \"leiden_highres\"],\n",
    "    title=[\"Leiden Resolution=0.25\", \"Leiden Resolution=1.\", \"Leiden Resolution=1.5\"],\n",
    "    show=False,\n",
    "    legend_loc=\"on data\",\n",
    "    edges=True,\n",
    "    add_outline=False,\n",
    "    size=50,\n",
    "    return_fig=True,\n",
    "    palette=vega_20_scanpy,\n",
    ")\n",
    "# fig.savefig(\"./1_Global_Analysis/Global_PAGA.png\",dpi=150)"
   ]
  },
  {
   "cell_type": "code",
   "execution_count": null,
   "id": "62f8fd1c-1faa-4f90-863f-edc423b2334b",
   "metadata": {},
   "outputs": [],
   "source": [
    "for gene in divergent_df[\"Gene\"].unique().tolist():\n",
    "    target_site_dict, subset_df = gene_to_target_dict(paga_df.obs, nanopore_df, gene)\n",
    "    highlight_gene_group(paga_df, [gene])\n",
    "    plt.show()\n",
    "    display_target_sites_single_locus(\n",
    "        genome_record, target_site_dict, translator, view_pad=1000\n",
    "    )\n",
    "    print(subset_df.reset_index().set_index(\"TargetID\").sort_index()[\"leiden_lowres\"])\n",
    "    plt.show()"
   ]
  },
  {
   "cell_type": "code",
   "execution_count": null,
   "id": "aec36d27-1803-49a8-aaee-96f3187b00fb",
   "metadata": {},
   "outputs": [],
   "source": [
    "def plot_selected_timeseries(df, figsize=(30, 10)):\n",
    "\n",
    "    feature_labels = [\n",
    "        \"Linear Growth Rate\",\n",
    "        \"Exponential Growth Rate\",\n",
    "        \"Division Length\",\n",
    "        \"Width\",\n",
    "        \"mCherry Intensity\",\n",
    "        \"Doubling Time\",\n",
    "    ]\n",
    "\n",
    "    feature_ranges = [\n",
    "        (0, 15),\n",
    "        (0.5, 1.5),\n",
    "        (4.0, 15.0),\n",
    "        (1.2, 1.4),\n",
    "        (1200, 3000),\n",
    "        (6, 15),\n",
    "    ]\n",
    "\n",
    "    len_labels = len(feature_labels)\n",
    "\n",
    "    feature_series_list = []\n",
    "    for feature_label in feature_labels:\n",
    "        feature_series = df.groupby([\"Gene\", \"TargetID\"]).apply(\n",
    "            lambda x: x[feature_label].tolist()\n",
    "        )\n",
    "        feature_series_list.append(feature_series)\n",
    "\n",
    "    len_series = len(feature_series)\n",
    "\n",
    "    fig = plt.figure(figsize=figsize)\n",
    "\n",
    "    for j, feature_series in enumerate(feature_series_list):\n",
    "        for i, (idx, row) in enumerate(feature_series.iteritems()):\n",
    "            plot_arr = np.array(row).T\n",
    "            ax = plt.subplot(len(feature_labels), len_series, (j * len_series) + i + 1)\n",
    "            ax.set_title(str(idx) + \": \" + feature_labels[j])\n",
    "            ax.set_ylim(feature_ranges[j])\n",
    "            ax.plot(plot_arr, color=\"tab:blue\")\n",
    "    plt.tight_layout()\n",
    "    plt.show()"
   ]
  },
  {
   "cell_type": "code",
   "execution_count": null,
   "id": "cdba250e-6eda-4777-bee2-abb0b6fa6fd7",
   "metadata": {},
   "outputs": [],
   "source": [
    "divergent_goi_df = divergent_df[divergent_df[\"Gene\"].isin([\"minC\"])]\n",
    "divergent_goi_df[\"Gene\"] = divergent_goi_df[\"Gene\"].astype(str)\n",
    "plot_selected_timeseries(divergent_goi_df, figsize=(15, 15))"
   ]
  },
  {
   "cell_type": "code",
   "execution_count": null,
   "id": "eb0bbe19-4f11-46cf-819c-8e1a01f9fd0b",
   "metadata": {},
   "outputs": [],
   "source": [
    "divergent_goi_df = divergent_df[divergent_df[\"Gene\"].isin([\"fabH\"])]\n",
    "divergent_goi_df[\"Gene\"] = divergent_goi_df[\"Gene\"].astype(str)\n",
    "plot_selected_timeseries(divergent_goi_df, figsize=(15, 15))"
   ]
  },
  {
   "cell_type": "code",
   "execution_count": null,
   "id": "50325d6a-d7f1-4fa5-b198-f6e40e265084",
   "metadata": {},
   "outputs": [],
   "source": [
    "divergent_goi_df = divergent_df[divergent_df[\"Gene\"].isin([\"fabG\"])]\n",
    "divergent_goi_df[\"Gene\"] = divergent_goi_df[\"Gene\"].astype(str)\n",
    "plot_selected_timeseries(divergent_goi_df, figsize=(15, 15))"
   ]
  },
  {
   "cell_type": "code",
   "execution_count": null,
   "id": "93c4be9b-7a8e-4987-a524-ac23b8eacbad",
   "metadata": {},
   "outputs": [],
   "source": [
    "divergent_goi_df.columns"
   ]
  },
  {
   "cell_type": "code",
   "execution_count": null,
   "id": "de689b63-f478-49a4-98a3-680ff5770063",
   "metadata": {},
   "outputs": [],
   "source": [
    "divergent_goi_df = divergent_df[divergent_df[\"Gene\"].isin([\"rne\"])]\n",
    "divergent_goi_df[\"Gene\"] = divergent_goi_df[\"Gene\"].astype(str)\n",
    "plot_selected_timeseries(divergent_goi_df, figsize=(15, 15))"
   ]
  },
  {
   "cell_type": "markdown",
   "id": "777351ea",
   "metadata": {},
   "source": [
    "## 4) Titrations\n"
   ]
  },
  {
   "cell_type": "code",
   "execution_count": null,
   "id": "6f497327",
   "metadata": {},
   "outputs": [],
   "source": [
    "import scanpy as sc\n",
    "import anndata\n",
    "import scipy as sp\n",
    "import scipy.sparse\n",
    "import dask.array as da\n",
    "from igraph.drawing.text import TextDrawer\n",
    "from tslearn.neighbors import KNeighborsTimeSeries\n",
    "from tslearn.metrics import cdist_soft_dtw_normalized, cdist_soft_dtw\n",
    "import networkx as nx\n",
    "import igraph as ig\n",
    "import leidenalg\n",
    "import umap\n",
    "from scanpy.plotting.palettes import default_20, vega_20_scanpy"
   ]
  },
  {
   "cell_type": "code",
   "execution_count": null,
   "id": "b84f70f1",
   "metadata": {},
   "outputs": [],
   "source": [
    "def get_pearson_df(titration_df, variable_name, pearson_p_val=0.05):\n",
    "\n",
    "    var_df = (\n",
    "        titration_df.groupby(\"TargetID\")\n",
    "        .apply(lambda x: x[variable_name].tolist())\n",
    "        .to_frame()\n",
    "    )\n",
    "    var_df = var_df.rename(columns={0: variable_name})\n",
    "    var_df[\"N Match\"] = titration_df.groupby(\"TargetID\").apply(\n",
    "        lambda x: x[\"N Match\"].tolist()\n",
    "    )\n",
    "    var_df[variable_name + \": Pearson R\"] = var_df.apply(\n",
    "        lambda x: sp.stats.pearsonr(x[\"N Match\"], x[variable_name])[0], axis=1\n",
    "    )\n",
    "    var_df[variable_name + \": Pearson P-val\"] = var_df.apply(\n",
    "        lambda x: sp.stats.pearsonr(x[\"N Match\"], x[variable_name])[1], axis=1\n",
    "    )\n",
    "\n",
    "    return var_df"
   ]
  },
  {
   "cell_type": "markdown",
   "id": "75de846a",
   "metadata": {},
   "source": [
    "### Looking at all targetids (including filtered out and unclustered)"
   ]
  },
  {
   "cell_type": "code",
   "execution_count": null,
   "id": "fd02705b",
   "metadata": {
    "tags": []
   },
   "outputs": [],
   "source": [
    "import statsmodels.stats.multitest\n",
    "\n",
    "min_titration = 4\n",
    "fdr_p_val_thr = 0.1\n",
    "var_list = [\n",
    "    \"Linear Growth Rate: Mean\",\n",
    "    \"Exponential Growth Rate: Mean\",\n",
    "    \"Division Length: Mean\",\n",
    "    \"Width: Mean\",\n",
    "    \"mCherry Intensity: Mean\",\n",
    "    \"Doubling Time: Mean\",\n",
    "]\n",
    "\n",
    "gene_cluster_df_full[\"N Match\"] = 20 - gene_cluster_df_full[\"N Mismatch\"]\n",
    "\n",
    "target_count_series = gene_cluster_df_full.groupby(\"TargetID\").apply(lambda x: len(x))\n",
    "targetid_above_thr = target_count_series[\n",
    "    target_count_series >= min_titration\n",
    "].index.tolist()\n",
    "titration_df = gene_cluster_df_full[\n",
    "    gene_cluster_df_full[\"TargetID\"].isin(targetid_above_thr)\n",
    "]\n",
    "\n",
    "# titration_df_pearson = titration_df.dropna(subset=['N Match'] + var_list)\n",
    "pearson_df = titration_df.groupby(\"TargetID\").apply(lambda x: x.iloc[0])\n",
    "\n",
    "for var_label in var_list:\n",
    "    var_df = get_pearson_df(titration_df, var_label)\n",
    "    pearson_df[var_label + \": Pearson R\"] = var_df[var_label + \": Pearson R\"]\n",
    "    pearson_df[var_label + \": Pearson P-val\"] = var_df[var_label + \": Pearson P-val\"]\n",
    "\n",
    "pearson_p_labels = [var_label + \": Pearson P-val\" for var_label in var_list]\n",
    "pearson_r_labels = [var_label + \": Pearson R\" for var_label in var_list]\n",
    "\n",
    "pearson_r_sig = np.any(\n",
    "    [\n",
    "        statsmodels.stats.multitest.fdrcorrection(\n",
    "            pearson_df[pearson_p_label].tolist(),\n",
    "            fdr_p_val_thr,\n",
    "            method=\"indep\",\n",
    "            is_sorted=False,\n",
    "        )[0]\n",
    "        for pearson_p_label in pearson_p_labels\n",
    "    ],\n",
    "    axis=0,\n",
    ")\n",
    "pearson_r_sig_df = pearson_df[pearson_r_sig]\n",
    "\n",
    "n_targetids = len(gene_cluster_df_full[\"TargetID\"].unique().tolist())\n",
    "n_titration_targetids = np.sum(pearson_r_sig)\n",
    "\n",
    "# pos_arr = (pearson_r_sig_df[pearson_r_labels]>0.).values\n",
    "# neg_arr = (pearson_r_sig_df[pearson_r_labels]<=0.).values\n",
    "# sig_arr = (pearson_r_sig_df[pearson_p_labels]<pearson_p_val_thr).values\n",
    "\n",
    "# sig_pos_arr = sig_arr*pos_arr\n",
    "# sig_neg_arr = sig_arr*neg_arr\n",
    "\n",
    "# pearson_r_sig_df[\"Pearson Significant Positive\"] = [item for item in sig_pos_arr]\n",
    "# pearson_r_sig_df[\"Pearson Significant Negative\"] = [item for item in sig_neg_arr]"
   ]
  },
  {
   "cell_type": "code",
   "execution_count": null,
   "id": "e0cde07a-84ba-43a2-9c7f-1fb8744fe250",
   "metadata": {},
   "outputs": [],
   "source": [
    "pearson_r_sig"
   ]
  },
  {
   "cell_type": "code",
   "execution_count": null,
   "id": "e23399aa",
   "metadata": {},
   "outputs": [],
   "source": [
    "print(n_titration_targetids / n_targetids)"
   ]
  },
  {
   "cell_type": "code",
   "execution_count": null,
   "id": "4ceecea6",
   "metadata": {},
   "outputs": [],
   "source": [
    "genes_with_titration = sorted(pearson_r_sig_df[\"Gene\"].unique().tolist())\n",
    "all_genes = sorted(gene_cluster_df_full[\"Gene\"].unique().tolist())\n",
    "genes_wo_titration = sorted(list(set(all_genes) - set(genes_with_titration)))"
   ]
  },
  {
   "cell_type": "code",
   "execution_count": null,
   "id": "c25dae98",
   "metadata": {},
   "outputs": [],
   "source": [
    "len(genes_with_titration)"
   ]
  },
  {
   "cell_type": "code",
   "execution_count": null,
   "id": "9e1a0c68",
   "metadata": {},
   "outputs": [],
   "source": [
    "len(all_genes)"
   ]
  },
  {
   "cell_type": "code",
   "execution_count": null,
   "id": "0ef15eba",
   "metadata": {},
   "outputs": [],
   "source": [
    "len(genes_wo_titration)"
   ]
  },
  {
   "cell_type": "markdown",
   "id": "603a2b73",
   "metadata": {},
   "source": [
    "### Looking at clustered targetids"
   ]
  },
  {
   "cell_type": "code",
   "execution_count": null,
   "id": "eae29960",
   "metadata": {},
   "outputs": [],
   "source": [
    "titratable_targetids = pearson_r_sig_df.index.unique().tolist()\n",
    "titratable_mask = paga_df.obs[\"TargetID\"].isin(titratable_targetids)\n",
    "titration_paga_df = paga_df[titratable_mask]"
   ]
  },
  {
   "cell_type": "code",
   "execution_count": null,
   "id": "6da266c9",
   "metadata": {
    "tags": []
   },
   "outputs": [],
   "source": [
    "cluster_labels = [\"leiden_lowres\", \"leiden\", \"leiden_highres\"]\n",
    "\n",
    "for cluster_label in cluster_labels:\n",
    "    cluster_ids = titration_paga_df.obs[cluster_label].cat.categories.tolist()\n",
    "    for cluster_id in cluster_ids:\n",
    "\n",
    "        cluster_df = titration_paga_df.obs[\n",
    "            titration_paga_df.obs[cluster_label] == cluster_id\n",
    "        ]\n",
    "        targetid_list = sorted(cluster_df[\"TargetID\"].unique().tolist())\n",
    "\n",
    "        n_targetids = len(targetid_list)\n",
    "\n",
    "        var_names = [\n",
    "            \"Linear Growth Rate: Mean\",\n",
    "            \"Exponential Growth Rate: Mean\",\n",
    "            \"Division Length: Mean\",\n",
    "            \"Width: Mean\",\n",
    "            \"mCherry Intensity: Mean\",\n",
    "            \"Doubling Time: Mean\",\n",
    "        ]\n",
    "\n",
    "        display_var_names = [\n",
    "            \"Linear Growth Rate\",\n",
    "            \"Exponential Growth Rate\",\n",
    "            \"Division Length\",\n",
    "            \"Mean Width\",\n",
    "            \"mCherry Intensity\",\n",
    "            \"Doubling Time\",\n",
    "        ]\n",
    "\n",
    "        feature_ranges = [\n",
    "            (0, 15),\n",
    "            (0.5, 1.5),\n",
    "            (4.0, 15.0),\n",
    "            (1.2, 1.4),\n",
    "            (1200, 3000),\n",
    "            (6, 15),\n",
    "        ]\n",
    "\n",
    "        figsize = (int(2.5 * n_targetids) + 1, 15)\n",
    "        wspace = 0.25\n",
    "        hspace = 0.25\n",
    "        fontsize = 14\n",
    "\n",
    "        step_size = 20\n",
    "\n",
    "        for idx, n in enumerate(list(range(0, n_targetids, step_size))):\n",
    "\n",
    "            sub_targetid_list = targetid_list[n : n + step_size]\n",
    "\n",
    "            fig = plt.figure(constrained_layout=True, figsize=figsize)\n",
    "            gs = fig.add_gridspec(1, len(sub_targetid_list), wspace=wspace)\n",
    "\n",
    "            for i, targetid in enumerate(sub_targetid_list):\n",
    "                selected_targetid_df = gene_cluster_df_full[\n",
    "                    gene_cluster_df_full[\"TargetID\"] == targetid\n",
    "                ]\n",
    "\n",
    "                inner_gs = gs[0, i].subgridspec(\n",
    "                    len(var_names), 1, wspace=0, hspace=hspace\n",
    "                )\n",
    "                inner_grid_sub = inner_gs.subplots(sharex=True)\n",
    "\n",
    "                for j, ax in np.ndenumerate(inner_grid_sub):\n",
    "                    var_name = var_names[j[0]]\n",
    "                    ax.scatter(\n",
    "                        selected_targetid_df[\"N Match\"], selected_targetid_df[var_name]\n",
    "                    )\n",
    "                    ax.set_ylabel(display_var_names[j[0]], fontsize=fontsize)\n",
    "                    ax.set_ylim(feature_ranges[j[0]])\n",
    "\n",
    "                ax.set_xlabel(\n",
    "                    selected_targetid_df[\"Gene\"].iloc[0]\n",
    "                    + \" TargetID: \"\n",
    "                    + str(targetid),\n",
    "                    fontsize=fontsize,\n",
    "                )\n",
    "\n",
    "            plt.tight_layout()\n",
    "            plt.savefig(\n",
    "                \"4_Titrations/\"\n",
    "                + cluster_label\n",
    "                + \"_\"\n",
    "                + str(cluster_id)\n",
    "                + \"_Part_\"\n",
    "                + str(idx)\n",
    "                + \".png\",\n",
    "                dpi=75,\n",
    "            )"
   ]
  },
  {
   "cell_type": "markdown",
   "id": "3be63e25-420e-4c1a-b5e9-48a26f5a90ee",
   "metadata": {},
   "source": [
    "## 5) Examining Hits"
   ]
  },
  {
   "cell_type": "code",
   "execution_count": null,
   "id": "97abc57b-962e-4351-8810-8ebd581e240e",
   "metadata": {},
   "outputs": [],
   "source": [
    "fig = sc.pl.umap(\n",
    "    paga_df,\n",
    "    color=[\"leiden_lowres\", \"leiden\", \"leiden_highres\"],\n",
    "    title=[\"Leiden Resolution=0.25\", \"Leiden Resolution=1.\", \"Leiden Resolution=1.5\"],\n",
    "    show=False,\n",
    "    legend_loc=\"on data\",\n",
    "    edges=True,\n",
    "    add_outline=False,\n",
    "    size=50,\n",
    "    return_fig=True,\n",
    "    palette=vega_20_scanpy,\n",
    ")"
   ]
  },
  {
   "cell_type": "markdown",
   "id": "7cc78595-0441-4048-a1b6-b1758a20bfa9",
   "metadata": {},
   "source": [
    "### Gene Browser"
   ]
  },
  {
   "cell_type": "code",
   "execution_count": null,
   "id": "49fb963d-2b10-499e-9a0b-64c122ba9466",
   "metadata": {},
   "outputs": [],
   "source": [
    "gene_browser_df = copy.deepcopy(feature_paga_df.obs)\n",
    "gene_browser_df = gene_browser_df.reset_index()"
   ]
  },
  {
   "cell_type": "code",
   "execution_count": null,
   "id": "310320f8-4735-49be-9369-be75f1db5337",
   "metadata": {},
   "outputs": [],
   "source": [
    "gene_browser_df = gene_browser_df[\n",
    "    [\n",
    "        \"sgRNAid\",\n",
    "        \"TargetID\",\n",
    "        \"Gene\",\n",
    "        \"phenotype trenchids\",\n",
    "        \"N Mismatch\",\n",
    "        \"N Target Sites\",\n",
    "        \"Category\",\n",
    "        \"Strand\",\n",
    "        \"leiden_lowres\",\n",
    "        \"leiden\",\n",
    "        \"leiden_highres\",\n",
    "    ]\n",
    "]\n",
    "gene_browser_df[\"sgRNAid\"] = gene_browser_df[\"sgRNAid\"].astype(int)"
   ]
  },
  {
   "cell_type": "code",
   "execution_count": null,
   "id": "35e3df4f-9411-418b-8d74-dc588e04c078",
   "metadata": {
    "tags": []
   },
   "outputs": [],
   "source": [
    "kymo_xarr = tr.kymo_xarr(\n",
    "    \"/home/de64/scratch/de64/sync_folder/2021-06-14_lDE20_biofloat_fullrun_1/Growth_Division\"\n",
    ")\n",
    "wrapped_kymo_xarr = tr.kymo_xarr(\n",
    "    \"/home/de64/scratch/de64/sync_folder/2021-06-14_lDE20_biofloat_fullrun_1/Growth_Division\",\n",
    "    unwrap=False,\n",
    ")"
   ]
  },
  {
   "cell_type": "code",
   "execution_count": null,
   "id": "62420c03-52d0-4dcf-b02f-a12dec40dd95",
   "metadata": {},
   "outputs": [],
   "source": [
    "# gene_table_layout,select_gene,select_trenchid,select_unpacked_trenchid = tr.linked_table(gene_browser_df,index_key='leiden',trenchids_as_list=True,trenchid_column='phenotype trenchids')\n",
    "(\n",
    "    gene_table_layout,\n",
    "    select_gene,\n",
    "    select_trenchid,\n",
    "    select_unpacked_trenchid,\n",
    ") = tr.linked_table(\n",
    "    gene_browser_df,\n",
    "    index_key=\"Gene\",\n",
    "    trenchids_as_list=True,\n",
    "    trenchid_column=\"phenotype trenchids\",\n",
    ")"
   ]
  },
  {
   "cell_type": "code",
   "execution_count": null,
   "id": "bc3abf93-843e-4949-b324-c621589ffc49",
   "metadata": {
    "tags": []
   },
   "outputs": [],
   "source": [
    "gene_table_layout"
   ]
  },
  {
   "cell_type": "code",
   "execution_count": null,
   "id": "0808f335-e1e6-482f-8158-5d91f79281a7",
   "metadata": {},
   "outputs": [],
   "source": [
    "output_display, save_button = tr.linked_kymograph_for_table(\n",
    "    kymo_xarr,\n",
    "    wrapped_kymo_xarr,\n",
    "    gene_browser_df,\n",
    "    select_gene,\n",
    "    select_trenchid,\n",
    "    index_key=\"Gene\",\n",
    "    select_unpacked_trenchid=select_unpacked_trenchid,\n",
    "    trenchid_column=\"phenotype trenchids\",\n",
    "    y_scale=3,\n",
    "    x_window_size=300,\n",
    ")"
   ]
  },
  {
   "cell_type": "code",
   "execution_count": null,
   "id": "2c2e6235-1916-4369-b4f4-e46a2eec800f",
   "metadata": {},
   "outputs": [],
   "source": [
    "output_display"
   ]
  },
  {
   "cell_type": "code",
   "execution_count": null,
   "id": "afac9a38-e7f7-4078-812d-c0fc41a6f9d8",
   "metadata": {},
   "outputs": [],
   "source": [
    "save_button"
   ]
  },
  {
   "cell_type": "code",
   "execution_count": null,
   "id": "96b1939d-febe-4c66-8f9c-9909396ce8bb",
   "metadata": {},
   "outputs": [],
   "source": [
    "target_site_dict, subset_df = gene_to_target_dict(paga_df.obs, nanopore_df, \"ftsZ\")\n",
    "display_target_sites_single_locus(\n",
    "    genome_record, target_site_dict, translator, view_pad=2000\n",
    ")"
   ]
  },
  {
   "cell_type": "markdown",
   "id": "8eb57e46-b690-4a85-a48b-bcf2908968eb",
   "metadata": {},
   "source": [
    "### Replication Initiation Defects\n",
    "\n",
    "Genes: ['dnaA', 'dnaB', 'infA', 'rne']"
   ]
  },
  {
   "cell_type": "code",
   "execution_count": null,
   "id": "c9d37643-6c69-4fef-9213-2cd2771fcaf1",
   "metadata": {},
   "outputs": [],
   "source": [
    "dna_rep_df = paga_df.obs[paga_df.obs[\"leiden\"] == \"13\"]\n",
    "dna_rep_df[\"Gene\"] = dna_rep_df[\"Gene\"].astype(str)\n",
    "\n",
    "feature_labels = [\n",
    "    \"Linear Growth Rate\",\n",
    "    \"Exponential Growth Rate\",\n",
    "    \"Division Length\",\n",
    "    \"Width\",\n",
    "    \"mCherry Intensity\",\n",
    "    \"Doubling Time\",\n",
    "]\n",
    "\n",
    "feature_ranges = [(5, 10), (1.0, 1.5), (6.0, 10.0), (1.2, 1.4), (1200, 2000), (6, 12)]\n",
    "\n",
    "len_labels = len(feature_labels)\n",
    "\n",
    "feature_series_list = []\n",
    "for feature_label in feature_labels:\n",
    "    feature_series = dna_rep_df.groupby(\"Gene\").apply(\n",
    "        lambda x: x[feature_label].tolist()\n",
    "    )\n",
    "    feature_series_list.append(feature_series)\n",
    "\n",
    "len_series = len(feature_series)\n",
    "\n",
    "fig = plt.figure(figsize=(10, 10))\n",
    "\n",
    "for j, feature_series in enumerate(feature_series_list):\n",
    "    for i, (idx, row) in enumerate(feature_series.iteritems()):\n",
    "        plot_arr = np.array(row).T\n",
    "        ax = plt.subplot(len(feature_labels), len_series, (j * len_series) + i + 1)\n",
    "        ax.set_title(idx + \": \" + feature_labels[j])\n",
    "        ax.set_ylim(feature_ranges[j])\n",
    "        ax.plot(plot_arr, color=\"tab:blue\")\n",
    "plt.tight_layout()\n",
    "plt.show()"
   ]
  },
  {
   "cell_type": "code",
   "execution_count": null,
   "id": "12aa3d5b-853e-42e8-b7c6-83aa0b61b486",
   "metadata": {},
   "outputs": [],
   "source": [
    "target_site_dict, subset_df = gene_to_target_dict(paga_df.obs, nanopore_df, \"dnaA\")\n",
    "display_target_sites_single_locus(\n",
    "    genome_record, target_site_dict, translator, view_pad=3000\n",
    ")"
   ]
  },
  {
   "cell_type": "code",
   "execution_count": null,
   "id": "f8e304bc-cfa1-4142-a08f-ebb7ecd962ba",
   "metadata": {},
   "outputs": [],
   "source": [
    "target_site_dict, subset_df = gene_to_target_dict(paga_df.obs, nanopore_df, \"dnaB\")\n",
    "display_target_sites_single_locus(\n",
    "    genome_record, target_site_dict, translator, view_pad=3000\n",
    ")"
   ]
  },
  {
   "cell_type": "code",
   "execution_count": null,
   "id": "c596722f-0df9-41db-b752-c1f5493f8d19",
   "metadata": {},
   "outputs": [],
   "source": [
    "target_site_dict, subset_df = gene_to_target_dict(paga_df.obs, nanopore_df, \"rne\")\n",
    "display_target_sites_single_locus(\n",
    "    genome_record, target_site_dict, translator, view_pad=3000\n",
    ")"
   ]
  },
  {
   "cell_type": "code",
   "execution_count": null,
   "id": "c70f2442-fa67-411f-a214-01964ad20b06",
   "metadata": {},
   "outputs": [],
   "source": [
    "target_site_dict, subset_df = gene_to_target_dict(paga_df.obs, nanopore_df, \"infA\")\n",
    "display_target_sites_single_locus(\n",
    "    genome_record, target_site_dict, translator, view_pad=1000\n",
    ")"
   ]
  },
  {
   "cell_type": "markdown",
   "id": "e50592b0-e96e-43ea-b9a6-9ca671d0a84f",
   "metadata": {},
   "source": [
    "#### Notes\n",
    "\n",
    "- DnaAB and rne all have decreased fluorescence accompanied by increasing cell length\n",
    "\n",
    "- infA also has decreased fluorescence, but with significanly less impairment of length\n",
    "\n",
    "- infA interacts directly with the small ribosomal subunit, so it may have some odd effect on the rpsL reporter\n",
    "\n",
    "- Alternatively, it may reduce translational effeciency more broadly, but one would expect a more deleterious effect on divison\n",
    "\n",
    "- These data also suggest rne has a role in regulating replication initiation, given its similarity to dnaAB"
   ]
  },
  {
   "cell_type": "markdown",
   "id": "abe9305e-6963-4800-9c84-68607027d92a",
   "metadata": {},
   "source": [
    "### Division Defects"
   ]
  },
  {
   "cell_type": "markdown",
   "id": "d92aa47d-ea4c-4e4f-bd87-88b983c4e0d8",
   "metadata": {},
   "source": [
    "['acnB', 'bamB', 'bisC', 'comR', 'ddlB']\n",
    "\n",
    "['dnaK', 'dnaN', 'dxs', 'fixX', 'folC']\n",
    "\n",
    "['folP', 'ftsK', 'ftsL', 'ftsN', 'ftsQ']\n",
    "\n",
    "['ftsW', 'ftsY', 'ftsZ', 'gyrA', 'gyrB']\n",
    "\n",
    "['holA', 'infC', 'kefB', 'lapA', 'lexA']\n",
    "\n",
    "['lpxC', 'minC', 'minE', 'mraY', 'mraZ']\n",
    "\n",
    "['mukB', 'mukE', 'mukF', 'murC', 'murD']\n",
    "\n",
    "['murE', 'murF', 'murG', 'murI', 'nagE']\n",
    "\n",
    "['nrdA', 'nrdB', 'nusG', 'parC', 'parE']\n",
    "\n",
    "['pfkA', 'pgsA', 'prmB', 'pssA', 'pyrG']\n",
    "\n",
    "['pyrH', 'rho', 'rhoL', 'rimP', 'rnhB']\n",
    "\n",
    "['rnpA', 'rnpB', 'rplK', 'rplN', 'rplS']\n",
    "\n",
    "['rplU', 'rpmB', 'rpmJ', 'rpoA', 'rpoC']\n",
    "\n",
    "['rsgA', 'rsmH', 'secE', 'secY', 'ssb']\n",
    "\n",
    "['tamA', 'tgt', 'tmk', 'ubiJ esrE', 'yagH']\n",
    "\n",
    "['ybcN', 'yebQ', 'yecM', 'yeiH', 'ygfZ']\n",
    "\n",
    "['ypaB']\n"
   ]
  },
  {
   "cell_type": "code",
   "execution_count": null,
   "id": "e3113d51-c11a-406a-bf0a-008f4bb0d4d8",
   "metadata": {},
   "outputs": [],
   "source": [
    "division_df = paga_df.obs[paga_df.obs[\"leiden\"] == \"6\"]\n",
    "division_df = division_df[\n",
    "    division_df[\"Gene\"].isin(\n",
    "        [\"ubiJ esrE\", \"yagH\", \"ybcN\", \"yebQ\", \"yecM\", \"yeiH\", \"ygfZ\", \"ypaB\"]\n",
    "    )\n",
    "]\n",
    "division_df[\"Gene\"] = division_df[\"Gene\"].astype(str)\n",
    "\n",
    "feature_labels = [\n",
    "    \"Linear Growth Rate\",\n",
    "    \"Exponential Growth Rate\",\n",
    "    \"Division Length\",\n",
    "    \"Width\",\n",
    "    \"mCherry Intensity\",\n",
    "    \"Doubling Time\",\n",
    "]\n",
    "\n",
    "feature_ranges = [(5, 15), (1.0, 1.5), (6.0, 15.0), (1.2, 1.4), (1200, 3000), (6, 12)]\n",
    "\n",
    "len_labels = len(feature_labels)\n",
    "\n",
    "feature_series_list = []\n",
    "for feature_label in feature_labels:\n",
    "    feature_series = division_df.groupby(\"Gene\").apply(\n",
    "        lambda x: x[feature_label].tolist()\n",
    "    )\n",
    "    feature_series_list.append(feature_series)\n",
    "\n",
    "len_series = len(feature_series)\n",
    "\n",
    "fig = plt.figure(figsize=(20, 10))\n",
    "\n",
    "for j, feature_series in enumerate(feature_series_list):\n",
    "    for i, (idx, row) in enumerate(feature_series.iteritems()):\n",
    "        plot_arr = np.array(row).T\n",
    "        ax = plt.subplot(len(feature_labels), len_series, (j * len_series) + i + 1)\n",
    "        ax.set_title(idx + \": \" + feature_labels[j])\n",
    "        ax.set_ylim(feature_ranges[j])\n",
    "        ax.plot(plot_arr, color=\"tab:blue\")\n",
    "plt.tight_layout()\n",
    "plt.show()"
   ]
  },
  {
   "cell_type": "markdown",
   "id": "0bf70f47-3003-4464-9808-068ac83a84f0",
   "metadata": {},
   "source": [
    "#### Notes\n",
    "\n",
    "- yebQ seems like it is more similar to a ribosome defect, given increased fluorescence\n",
    "\n",
    "- All other y genes seemingly good hits\n",
    "\n",
    "- esrE is subtle; maybe worth validating given how weird it is though"
   ]
  },
  {
   "cell_type": "code",
   "execution_count": null,
   "id": "c2b0fc1a-e7ea-4367-b143-ac32870a09ac",
   "metadata": {},
   "outputs": [],
   "source": [
    "division_df = paga_df.obs[paga_df.obs[\"leiden\"] == \"6\"]\n",
    "division_df = division_df[\n",
    "    division_df[\"Gene\"].isin(\n",
    "        [\n",
    "            \"acnB\",\n",
    "            \"bamB\",\n",
    "            \"bisC\",\n",
    "            \"comR\",\n",
    "            \"ddlB\",\n",
    "            \"dnaK\",\n",
    "            \"dnaN\",\n",
    "            \"dxs\",\n",
    "            \"fixX\",\n",
    "            \"folC\",\n",
    "            \"folP\",\n",
    "        ]\n",
    "    )\n",
    "]\n",
    "division_df[\"Gene\"] = division_df[\"Gene\"].astype(str)\n",
    "\n",
    "feature_labels = [\n",
    "    \"Linear Growth Rate\",\n",
    "    \"Exponential Growth Rate\",\n",
    "    \"Division Length\",\n",
    "    \"Width\",\n",
    "    \"mCherry Intensity\",\n",
    "    \"Doubling Time\",\n",
    "]\n",
    "\n",
    "feature_ranges = [(5, 15), (1.0, 1.5), (6.0, 15.0), (1.2, 1.4), (1200, 3000), (6, 12)]\n",
    "\n",
    "len_labels = len(feature_labels)\n",
    "\n",
    "feature_series_list = []\n",
    "for feature_label in feature_labels:\n",
    "    feature_series = division_df.groupby(\"Gene\").apply(\n",
    "        lambda x: x[feature_label].tolist()\n",
    "    )\n",
    "    feature_series_list.append(feature_series)\n",
    "\n",
    "len_series = len(feature_series)\n",
    "\n",
    "fig = plt.figure(figsize=(30, 10))\n",
    "\n",
    "for j, feature_series in enumerate(feature_series_list):\n",
    "    for i, (idx, row) in enumerate(feature_series.iteritems()):\n",
    "        plot_arr = np.array(row).T\n",
    "        ax = plt.subplot(len(feature_labels), len_series, (j * len_series) + i + 1)\n",
    "        ax.set_title(idx + \": \" + feature_labels[j])\n",
    "        ax.set_ylim(feature_ranges[j])\n",
    "        ax.plot(plot_arr, color=\"tab:blue\")\n",
    "plt.tight_layout()\n",
    "plt.show()"
   ]
  },
  {
   "cell_type": "markdown",
   "id": "74385899-9634-488e-977d-2feeb31bbdfd",
   "metadata": {},
   "source": [
    "#### Notes\n",
    "\n",
    "- acnB, bamB, folC increase length without much of a linear growth rate increase\n",
    "\n",
    "- dnaK, dnaN, folC have increased mCherry reporter\n",
    "\n",
    "- bisC, comR, ddlB, dxs, fixX, folP seemingly good hits\n",
    "\n",
    "- esrE is subtle; maybe worth validating given how weird it is though"
   ]
  },
  {
   "cell_type": "code",
   "execution_count": null,
   "id": "4cfbc11e-c9dd-456e-85c5-27cd4daaf64e",
   "metadata": {},
   "outputs": [],
   "source": [
    "division_df = paga_df.obs[paga_df.obs[\"leiden\"] == \"6\"]\n",
    "division_df = division_df[\n",
    "    division_df[\"Gene\"].isin(\n",
    "        [\"ftsK\", \"ftsL\", \"ftsN\", \"ftsQ\", \"ftsW\", \"ftsY\", \"ftsZ\", \"gyrA\", \"gyrB\"]\n",
    "    )\n",
    "]\n",
    "division_df[\"Gene\"] = division_df[\"Gene\"].astype(str)\n",
    "\n",
    "feature_labels = [\n",
    "    \"Linear Growth Rate\",\n",
    "    \"Exponential Growth Rate\",\n",
    "    \"Division Length\",\n",
    "    \"Width\",\n",
    "    \"mCherry Intensity\",\n",
    "    \"Doubling Time\",\n",
    "]\n",
    "\n",
    "feature_ranges = [(5, 15), (1.0, 1.5), (6.0, 15.0), (1.2, 1.4), (1200, 3000), (6, 12)]\n",
    "\n",
    "len_labels = len(feature_labels)\n",
    "\n",
    "feature_series_list = []\n",
    "for feature_label in feature_labels:\n",
    "    feature_series = division_df.groupby(\"Gene\").apply(\n",
    "        lambda x: x[feature_label].tolist()\n",
    "    )\n",
    "    feature_series_list.append(feature_series)\n",
    "\n",
    "len_series = len(feature_series)\n",
    "\n",
    "fig = plt.figure(figsize=(30, 10))\n",
    "\n",
    "for j, feature_series in enumerate(feature_series_list):\n",
    "    for i, (idx, row) in enumerate(feature_series.iteritems()):\n",
    "        plot_arr = np.array(row).T\n",
    "        ax = plt.subplot(len(feature_labels), len_series, (j * len_series) + i + 1)\n",
    "        ax.set_title(idx + \": \" + feature_labels[j])\n",
    "        ax.set_ylim(feature_ranges[j])\n",
    "        ax.plot(plot_arr, color=\"tab:blue\")\n",
    "plt.tight_layout()\n",
    "plt.show()"
   ]
  },
  {
   "cell_type": "code",
   "execution_count": null,
   "id": "e46ae89c-5908-4669-9118-1d6d1ca4a5d9",
   "metadata": {},
   "outputs": [],
   "source": [
    "division_df = paga_df.obs[paga_df.obs[\"leiden\"] == \"6\"]\n",
    "division_df = division_df[\n",
    "    division_df[\"Gene\"].isin(\n",
    "        [\"holA\", \"infC\", \"kefB\", \"lapA\", \"lexA\", \"lpxC\", \"minC\", \"minE\", \"mraY\", \"mraZ\"]\n",
    "    )\n",
    "]\n",
    "division_df[\"Gene\"] = division_df[\"Gene\"].astype(str)\n",
    "\n",
    "feature_labels = [\n",
    "    \"Linear Growth Rate\",\n",
    "    \"Exponential Growth Rate\",\n",
    "    \"Division Length\",\n",
    "    \"Width\",\n",
    "    \"mCherry Intensity\",\n",
    "    \"Doubling Time\",\n",
    "]\n",
    "\n",
    "feature_ranges = [(5, 15), (1.0, 1.5), (6.0, 15.0), (1.2, 1.4), (1200, 3000), (6, 12)]\n",
    "\n",
    "len_labels = len(feature_labels)\n",
    "\n",
    "feature_series_list = []\n",
    "for feature_label in feature_labels:\n",
    "    feature_series = division_df.groupby(\"Gene\").apply(\n",
    "        lambda x: x[feature_label].tolist()\n",
    "    )\n",
    "    feature_series_list.append(feature_series)\n",
    "\n",
    "len_series = len(feature_series)\n",
    "\n",
    "fig = plt.figure(figsize=(30, 10))\n",
    "\n",
    "for j, feature_series in enumerate(feature_series_list):\n",
    "    for i, (idx, row) in enumerate(feature_series.iteritems()):\n",
    "        plot_arr = np.array(row).T\n",
    "        ax = plt.subplot(len(feature_labels), len_series, (j * len_series) + i + 1)\n",
    "        ax.set_title(idx + \": \" + feature_labels[j])\n",
    "        ax.set_ylim(feature_ranges[j])\n",
    "        ax.plot(plot_arr, color=\"tab:blue\")\n",
    "plt.tight_layout()\n",
    "plt.show()"
   ]
  },
  {
   "cell_type": "code",
   "execution_count": null,
   "id": "b7605147-8bbc-4ef3-bf0f-e3febeee8ceb",
   "metadata": {},
   "outputs": [],
   "source": [
    "division_df = paga_df.obs[paga_df.obs[\"leiden\"] == \"6\"]\n",
    "division_df = division_df[\n",
    "    division_df[\"Gene\"].isin(\n",
    "        [\"mukB\", \"mukE\", \"mukF\", \"murC\", \"murD\", \"murE\", \"murF\", \"murG\", \"murI\", \"nagE\"]\n",
    "    )\n",
    "]\n",
    "division_df[\"Gene\"] = division_df[\"Gene\"].astype(str)\n",
    "\n",
    "feature_labels = [\n",
    "    \"Linear Growth Rate\",\n",
    "    \"Exponential Growth Rate\",\n",
    "    \"Division Length\",\n",
    "    \"Width\",\n",
    "    \"mCherry Intensity\",\n",
    "    \"Doubling Time\",\n",
    "]\n",
    "\n",
    "feature_ranges = [(5, 15), (1.0, 1.5), (6.0, 15.0), (1.2, 1.4), (1200, 3000), (6, 12)]\n",
    "\n",
    "len_labels = len(feature_labels)\n",
    "\n",
    "feature_series_list = []\n",
    "for feature_label in feature_labels:\n",
    "    feature_series = division_df.groupby(\"Gene\").apply(\n",
    "        lambda x: x[feature_label].tolist()\n",
    "    )\n",
    "    feature_series_list.append(feature_series)\n",
    "\n",
    "len_series = len(feature_series)\n",
    "\n",
    "fig = plt.figure(figsize=(30, 10))\n",
    "\n",
    "for j, feature_series in enumerate(feature_series_list):\n",
    "    for i, (idx, row) in enumerate(feature_series.iteritems()):\n",
    "        plot_arr = np.array(row).T\n",
    "        ax = plt.subplot(len(feature_labels), len_series, (j * len_series) + i + 1)\n",
    "        ax.set_title(idx + \": \" + feature_labels[j])\n",
    "        ax.set_ylim(feature_ranges[j])\n",
    "        ax.plot(plot_arr, color=\"tab:blue\")\n",
    "plt.tight_layout()\n",
    "plt.show()"
   ]
  },
  {
   "cell_type": "code",
   "execution_count": null,
   "id": "c2796780-2f18-48ba-8b4a-01a623045978",
   "metadata": {},
   "outputs": [],
   "source": []
  },
  {
   "cell_type": "code",
   "execution_count": null,
   "id": "70cce9a4-20e6-4879-a390-1d604c88eb0e",
   "metadata": {},
   "outputs": [],
   "source": [
    "division_df = paga_df.obs[paga_df.obs[\"leiden\"] == \"6\"]\n",
    "division_df = division_df[\n",
    "    division_df[\"Gene\"].isin(\n",
    "        [\"nrdA\", \"nrdB\", \"nusG\", \"parC\", \"parE\", \"pfkA\", \"pgsA\", \"prmB\", \"pssA\", \"pyrG\"]\n",
    "    )\n",
    "]\n",
    "division_df[\"Gene\"] = division_df[\"Gene\"].astype(str)\n",
    "\n",
    "feature_labels = [\n",
    "    \"Linear Growth Rate\",\n",
    "    \"Exponential Growth Rate\",\n",
    "    \"Division Length\",\n",
    "    \"Width\",\n",
    "    \"mCherry Intensity\",\n",
    "    \"Doubling Time\",\n",
    "]\n",
    "\n",
    "feature_ranges = [(5, 15), (1.0, 1.5), (6.0, 15.0), (1.2, 1.4), (1200, 3000), (6, 12)]\n",
    "\n",
    "len_labels = len(feature_labels)\n",
    "\n",
    "feature_series_list = []\n",
    "for feature_label in feature_labels:\n",
    "    feature_series = division_df.groupby(\"Gene\").apply(\n",
    "        lambda x: x[feature_label].tolist()\n",
    "    )\n",
    "    feature_series_list.append(feature_series)\n",
    "\n",
    "len_series = len(feature_series)\n",
    "\n",
    "fig = plt.figure(figsize=(30, 10))\n",
    "\n",
    "for j, feature_series in enumerate(feature_series_list):\n",
    "    for i, (idx, row) in enumerate(feature_series.iteritems()):\n",
    "        plot_arr = np.array(row).T\n",
    "        ax = plt.subplot(len(feature_labels), len_series, (j * len_series) + i + 1)\n",
    "        ax.set_title(idx + \": \" + feature_labels[j])\n",
    "        ax.set_ylim(feature_ranges[j])\n",
    "        ax.plot(plot_arr, color=\"tab:blue\")\n",
    "plt.tight_layout()\n",
    "plt.show()"
   ]
  },
  {
   "cell_type": "code",
   "execution_count": null,
   "id": "6d664eab-986d-4903-9bef-0c805c61f23a",
   "metadata": {},
   "outputs": [],
   "source": [
    "division_df = paga_df.obs[paga_df.obs[\"leiden\"] == \"6\"]\n",
    "division_df = division_df[\n",
    "    division_df[\"Gene\"].isin(\n",
    "        [\n",
    "            \"pyrH\",\n",
    "            \"rho\",\n",
    "            \"rhoL\",\n",
    "            \"rimP\",\n",
    "            \"rnhB\",\n",
    "            \"rnpA\",\n",
    "            \"rnpB\",\n",
    "            \"rplK\",\n",
    "            \"rplN\",\n",
    "            \"rplS\",\n",
    "            \"rplU\",\n",
    "            \"rpmB\",\n",
    "            \"rpmJ\",\n",
    "        ]\n",
    "    )\n",
    "]\n",
    "division_df[\"Gene\"] = division_df[\"Gene\"].astype(str)\n",
    "\n",
    "feature_labels = [\n",
    "    \"Linear Growth Rate\",\n",
    "    \"Exponential Growth Rate\",\n",
    "    \"Division Length\",\n",
    "    \"Width\",\n",
    "    \"mCherry Intensity\",\n",
    "    \"Doubling Time\",\n",
    "]\n",
    "\n",
    "feature_ranges = [(5, 15), (1.0, 1.5), (6.0, 15.0), (1.2, 1.4), (1200, 3000), (6, 12)]\n",
    "\n",
    "len_labels = len(feature_labels)\n",
    "\n",
    "feature_series_list = []\n",
    "for feature_label in feature_labels:\n",
    "    feature_series = division_df.groupby(\"Gene\").apply(\n",
    "        lambda x: x[feature_label].tolist()\n",
    "    )\n",
    "    feature_series_list.append(feature_series)\n",
    "\n",
    "len_series = len(feature_series)\n",
    "\n",
    "fig = plt.figure(figsize=(30, 10))\n",
    "\n",
    "for j, feature_series in enumerate(feature_series_list):\n",
    "    for i, (idx, row) in enumerate(feature_series.iteritems()):\n",
    "        plot_arr = np.array(row).T\n",
    "        ax = plt.subplot(len(feature_labels), len_series, (j * len_series) + i + 1)\n",
    "        ax.set_title(idx + \": \" + feature_labels[j])\n",
    "        ax.set_ylim(feature_ranges[j])\n",
    "        ax.plot(plot_arr, color=\"tab:blue\")\n",
    "plt.tight_layout()\n",
    "plt.show()"
   ]
  },
  {
   "cell_type": "code",
   "execution_count": null,
   "id": "6ac045de-54cb-4e31-b6a3-65b55ce00cfa",
   "metadata": {},
   "outputs": [],
   "source": [
    "division_df = paga_df.obs[paga_df.obs[\"leiden\"] == \"6\"]\n",
    "division_df = division_df[\n",
    "    division_df[\"Gene\"].isin(\n",
    "        [\"rpoA\", \"rpoC\", \"rsgA\", \"rsmH\", \"secE\", \"secY\", \"ssb\", \"tamA\", \"tgt\", \"tmk\"]\n",
    "    )\n",
    "]\n",
    "division_df[\"Gene\"] = division_df[\"Gene\"].astype(str)\n",
    "\n",
    "feature_labels = [\n",
    "    \"Linear Growth Rate\",\n",
    "    \"Exponential Growth Rate\",\n",
    "    \"Division Length\",\n",
    "    \"Width\",\n",
    "    \"mCherry Intensity\",\n",
    "    \"Doubling Time\",\n",
    "]\n",
    "\n",
    "feature_ranges = [(5, 15), (1.0, 1.5), (6.0, 15.0), (1.2, 1.4), (1200, 3000), (6, 12)]\n",
    "\n",
    "len_labels = len(feature_labels)\n",
    "\n",
    "feature_series_list = []\n",
    "for feature_label in feature_labels:\n",
    "    feature_series = division_df.groupby(\"Gene\").apply(\n",
    "        lambda x: x[feature_label].tolist()\n",
    "    )\n",
    "    feature_series_list.append(feature_series)\n",
    "\n",
    "len_series = len(feature_series)\n",
    "\n",
    "fig = plt.figure(figsize=(30, 10))\n",
    "\n",
    "for j, feature_series in enumerate(feature_series_list):\n",
    "    for i, (idx, row) in enumerate(feature_series.iteritems()):\n",
    "        plot_arr = np.array(row).T\n",
    "        ax = plt.subplot(len(feature_labels), len_series, (j * len_series) + i + 1)\n",
    "        ax.set_title(idx + \": \" + feature_labels[j])\n",
    "        ax.set_ylim(feature_ranges[j])\n",
    "        ax.plot(plot_arr, color=\"tab:blue\")\n",
    "plt.tight_layout()\n",
    "plt.show()"
   ]
  },
  {
   "cell_type": "code",
   "execution_count": null,
   "id": "398ea9c9-ff43-47dd-ae1d-0d46b30923cf",
   "metadata": {},
   "outputs": [],
   "source": [
    "[\"rpoA\", \"rpoC\", \"rsgA\", \"rsmH\", \"secE\", \"secY\", \"ssb\", \"tamA\", \"tgt\", \"tmk\"]\n",
    "\n",
    "[\"tamA\", \"tgt\", \"tmk\", \"ubiJ esrE\", \"yagH\"]\n",
    "\n",
    "[\"ybcN\", \"yebQ\", \"yecM\", \"yeiH\", \"ygfZ\"]\n",
    "\n",
    "[\"ypaB\"]"
   ]
  },
  {
   "cell_type": "code",
   "execution_count": null,
   "id": "87e29b99-09c4-450b-9ff0-f3639e807996",
   "metadata": {},
   "outputs": [],
   "source": []
  },
  {
   "cell_type": "code",
   "execution_count": null,
   "id": "354dea46-ed5f-4730-9294-fdd5c69b1b0d",
   "metadata": {},
   "outputs": [],
   "source": []
  },
  {
   "cell_type": "code",
   "execution_count": null,
   "id": "18817c20-a167-43c0-b83c-01716bffd91d",
   "metadata": {},
   "outputs": [],
   "source": []
  },
  {
   "cell_type": "markdown",
   "id": "4e5509c7-5aab-487b-a47f-7f73e1d812d2",
   "metadata": {},
   "source": [
    "## 6) Examining Transients"
   ]
  },
  {
   "cell_type": "code",
   "execution_count": null,
   "id": "b7e9e042-6d43-427a-a5d9-e2fb45821858",
   "metadata": {},
   "outputs": [],
   "source": [
    "from tslearn.preprocessing import TimeSeriesScalerMinMax\n",
    "from tslearn.preprocessing import TimeSeriesScalerMeanVariance"
   ]
  },
  {
   "cell_type": "markdown",
   "id": "f1bc5904-036e-4ecd-bbd6-f479323b5f7d",
   "metadata": {},
   "source": [
    "### First: Long Cells"
   ]
  },
  {
   "cell_type": "markdown",
   "id": "3d305d36-73e9-49c7-abb9-718288985afb",
   "metadata": {},
   "source": [
    "### Renormalization"
   ]
  },
  {
   "cell_type": "code",
   "execution_count": null,
   "id": "70fc335a-3c89-4b2b-adca-d7320c6f0e68",
   "metadata": {
    "tags": []
   },
   "outputs": [],
   "source": [
    "norm_threshold = 1\n",
    "feature_integrated_norm = gene_cluster_df_full[\"Division Length Z-score\"].apply(\n",
    "    lambda x: sp.integrate.simpson(x)\n",
    ")\n",
    "feature_max_norm = gene_cluster_df_full[\"Division Length Z-score\"].apply(\n",
    "    lambda x: np.max(x)\n",
    ")\n",
    "feature_filtered_df = gene_cluster_df_full[feature_max_norm > norm_threshold]\n",
    "\n",
    "X_feature = np.array(feature_filtered_df[\"Division Length\"].tolist())[:, :, np.newaxis]\n",
    "X_feature_norm = TimeSeriesScalerMinMax().fit_transform(X_feature)\n",
    "feature_filtered_df[\"Division Length Feature Norm\"] = [\n",
    "    item for item in X_feature_norm[:, :, 0]\n",
    "]"
   ]
  },
  {
   "cell_type": "code",
   "execution_count": null,
   "id": "9d1d0358-2512-4213-ab81-a373ceb9992e",
   "metadata": {},
   "outputs": [],
   "source": [
    "plt.hist(feature_max_norm, bins=50)"
   ]
  },
  {
   "cell_type": "code",
   "execution_count": null,
   "id": "58f018fa-4a8d-4b13-a96a-2246422fff2f",
   "metadata": {
    "tags": []
   },
   "outputs": [],
   "source": [
    "dtw_feature_norm = parallel_norm_soft_dtw(X_feature_norm)"
   ]
  },
  {
   "cell_type": "markdown",
   "id": "1caa9134-4191-497f-8608-9dc38d68d801",
   "metadata": {
    "tags": []
   },
   "source": [
    "### Initialize Anndata Object"
   ]
  },
  {
   "cell_type": "code",
   "execution_count": null,
   "id": "b0297a07-3405-4511-846a-b1d9dcca0004",
   "metadata": {},
   "outputs": [],
   "source": [
    "an_df_feature = anndata.AnnData(\n",
    "    X=X_feature_norm.reshape(X_feature_norm.shape[0], -1), obs=feature_filtered_df\n",
    ")  # AnnData container to use scanpy functions with unwrapped time vector"
   ]
  },
  {
   "cell_type": "markdown",
   "id": "329baca2-0475-433f-8b4b-9887540f775c",
   "metadata": {},
   "source": [
    "### Compute KNN Graph"
   ]
  },
  {
   "cell_type": "code",
   "execution_count": null,
   "id": "3e2cddd5-1c69-499f-80ea-17f31b8fd7d6",
   "metadata": {},
   "outputs": [],
   "source": [
    "n_neighbors = 15\n",
    "n_pcs = 20  # This shouldn't affect anything\n",
    "\n",
    "sc.pp.neighbors(an_df_feature, n_neighbors=n_neighbors, n_pcs=n_pcs)\n",
    "knn_indices, knn_dists, forest = sc.neighbors.compute_neighbors_umap(\n",
    "    dtw_feature_norm, n_neighbors=n_neighbors, metric=\"precomputed\"\n",
    ")\n",
    "(\n",
    "    an_df_feature.uns[\"neighbors\"][\"distances\"],\n",
    "    an_df_feature.uns[\"neighbors\"][\"connectivities\"],\n",
    ") = sc.neighbors._compute_connectivities_umap(\n",
    "    knn_indices,\n",
    "    knn_dists,\n",
    "    an_df_feature.shape[0],\n",
    "    n_neighbors,  # change to neighbors you plan to use\n",
    ")\n",
    "an_df_feature.obsp[\"distances\"] = an_df_feature.uns[\"neighbors\"][\"distances\"]\n",
    "an_df_feature.obsp[\"connectivities\"] = an_df_feature.uns[\"neighbors\"][\"connectivities\"]\n",
    "an_df_feature.obsp[\"soft_dtw\"] = dtw_feature_norm"
   ]
  },
  {
   "cell_type": "markdown",
   "id": "7f867575-57ba-47af-bf04-cac838383bae",
   "metadata": {},
   "source": [
    "### Computing Leiden, PAGA and UMAP"
   ]
  },
  {
   "cell_type": "code",
   "execution_count": null,
   "id": "c63435cb-c1be-4f83-8820-b40adc30cb21",
   "metadata": {},
   "outputs": [],
   "source": [
    "feature_paga_df_dict = {}\n",
    "for resolution in [0.25, 1.0, 1.5]:\n",
    "    feature_paga_df_dict[resolution] = copy.deepcopy(an_df_feature)\n",
    "    sc.tl.leiden(\n",
    "        feature_paga_df_dict[resolution], resolution=resolution, n_iterations=-1\n",
    "    )\n",
    "    sc.tl.paga(feature_paga_df_dict[resolution], groups=\"leiden\")\n",
    "    sc.pl.paga(feature_paga_df_dict[resolution], add_pos=True, show=False)\n",
    "sc.tl.umap(feature_paga_df_dict[1.0], init_pos=\"paga\", min_dist=0.25, spread=5.0)\n",
    "feature_paga_df_dict[1.0].obs[\"leiden_lowres\"] = feature_paga_df_dict[0.25].obs[\n",
    "    \"leiden\"\n",
    "]\n",
    "feature_paga_df_dict[1.0].obs[\"leiden_highres\"] = feature_paga_df_dict[1.5].obs[\n",
    "    \"leiden\"\n",
    "]\n",
    "feature_paga_df = feature_paga_df_dict[1.0]"
   ]
  },
  {
   "cell_type": "code",
   "execution_count": null,
   "id": "02a2130c-a068-4cdd-b9c2-76ad6ee5174f",
   "metadata": {},
   "outputs": [],
   "source": [
    "fig = sc.pl.umap(\n",
    "    feature_paga_df,\n",
    "    color=[\"leiden_lowres\", \"leiden\", \"leiden_highres\"],\n",
    "    title=[\"Leiden Resolution=0.25\", \"Leiden Resolution=1.\", \"Leiden Resolution=1.5\"],\n",
    "    show=False,\n",
    "    legend_loc=\"on data\",\n",
    "    edges=True,\n",
    "    add_outline=False,\n",
    "    size=50,\n",
    "    return_fig=True,\n",
    "    palette=vega_20_scanpy,\n",
    ")"
   ]
  },
  {
   "cell_type": "code",
   "execution_count": null,
   "id": "94417473-c20f-44f4-be73-fce7909e9fbb",
   "metadata": {},
   "outputs": [],
   "source": [
    "feature_paga_df.obs[\"N Match\"] = 20.0 - feature_paga_df.obs[\"N Mismatch\"]\n",
    "feature_del_N_match_series = feature_paga_df.obs.groupby(\"TargetID\").apply(\n",
    "    lambda x: x[\"N Match\"] - np.min(x[\"N Match\"])\n",
    ")\n",
    "feature_del_N_match_series = feature_del_N_match_series.droplevel(\"TargetID\")\n",
    "feature_paga_df.obs[\"Delta N Match\"] = feature_del_N_match_series"
   ]
  },
  {
   "cell_type": "code",
   "execution_count": null,
   "id": "829d9fe8-1322-481d-bd90-3ab37a31c22a",
   "metadata": {},
   "outputs": [],
   "source": [
    "labels = [zscore_trace + \": Mean\" for zscore_trace in zscore_traces]\n",
    "\n",
    "fig = sc.pl.umap(\n",
    "    feature_paga_df,\n",
    "    color=labels,\n",
    "    show=False,\n",
    "    legend_loc=\"on data\",\n",
    "    add_outline=False,\n",
    "    size=50,\n",
    "    return_fig=True,\n",
    "    vcenter=0.0,\n",
    "    cmap=\"RdBu_r\",\n",
    "    wspace=0.25,\n",
    ")"
   ]
  },
  {
   "cell_type": "code",
   "execution_count": null,
   "id": "3b40113a-bccd-44fb-831c-79dbe63a2be5",
   "metadata": {},
   "outputs": [],
   "source": [
    "fig = plot_cluster_timeseries_braycenters(\n",
    "    feature_paga_df.obs,\n",
    "    \"leiden\",\n",
    "    [\"Division Length Feature Norm\", \"Division Length Feature Norm\"],\n",
    "    [\"Division Length Feature Norm\", \"Division Length Feature Norm\"],\n",
    "    [(0, 1), (0, 1)],\n",
    "    figsize=(15, 6),\n",
    "    wspace=0.25,\n",
    "    hspace=0.25,\n",
    "    color_list=vega_20_scanpy,\n",
    ")"
   ]
  },
  {
   "cell_type": "code",
   "execution_count": null,
   "id": "9fa74026-d0ce-48fc-88d3-f2f042f9e666",
   "metadata": {},
   "outputs": [],
   "source": [
    "np.unique(\n",
    "    feature_paga_df.obs[feature_paga_df.obs[\"leiden\"] == \"5\"][\"Gene\"].tolist(),\n",
    "    return_counts=True,\n",
    ")"
   ]
  },
  {
   "cell_type": "markdown",
   "id": "9bbd5d7b-4191-438c-bdc8-5739a64e439b",
   "metadata": {},
   "source": [
    "### Small Cells"
   ]
  },
  {
   "cell_type": "markdown",
   "id": "223e56dc-9dc4-446e-b2a2-27e9dc98ba84",
   "metadata": {},
   "source": [
    "### Renormalization"
   ]
  },
  {
   "cell_type": "code",
   "execution_count": null,
   "id": "84e108f3-0305-40a7-a636-32c49a113986",
   "metadata": {
    "tags": []
   },
   "outputs": [],
   "source": [
    "norm_threshold = -1\n",
    "feature_integrated_norm = gene_cluster_df_full[\"Division Length Z-score\"].apply(\n",
    "    lambda x: sp.integrate.simpson(x)\n",
    ")\n",
    "feature_max_norm = gene_cluster_df_full[\"Division Length Z-score\"].apply(\n",
    "    lambda x: np.min(x)\n",
    ")\n",
    "feature_filtered_df = gene_cluster_df_full[feature_max_norm < norm_threshold]\n",
    "\n",
    "X_feature = np.array(feature_filtered_df[\"Division Length\"].tolist())[:, :, np.newaxis]\n",
    "X_feature_norm = TimeSeriesScalerMinMax().fit_transform(X_feature)\n",
    "feature_filtered_df[\"Division Length Feature Norm\"] = [\n",
    "    item for item in X_feature_norm[:, :, 0]\n",
    "]"
   ]
  },
  {
   "cell_type": "code",
   "execution_count": null,
   "id": "7ea26b29-1d77-461a-9186-d0a0bd78020d",
   "metadata": {},
   "outputs": [],
   "source": [
    "plt.hist(feature_max_norm, bins=50)"
   ]
  },
  {
   "cell_type": "code",
   "execution_count": null,
   "id": "08831bb2-b483-4315-bb12-ffd9fab0f10c",
   "metadata": {},
   "outputs": [],
   "source": [
    "dtw_feature_norm = parallel_norm_soft_dtw(X_feature_norm)"
   ]
  },
  {
   "cell_type": "markdown",
   "id": "23853cf4-095d-4492-9ffe-c475824c8d26",
   "metadata": {},
   "source": [
    "### Initialize Anndata Object"
   ]
  },
  {
   "cell_type": "code",
   "execution_count": null,
   "id": "6041e49e-c70a-4219-a3ff-dcb30a6d8d59",
   "metadata": {},
   "outputs": [],
   "source": [
    "an_df_feature = anndata.AnnData(\n",
    "    X=X_feature_norm.reshape(X_feature_norm.shape[0], -1), obs=feature_filtered_df\n",
    ")  # AnnData container to use scanpy functions with unwrapped time vector"
   ]
  },
  {
   "cell_type": "markdown",
   "id": "54bddc0c-8c03-4416-80c8-0d63040d77b2",
   "metadata": {},
   "source": [
    "### Compute KNN Graph"
   ]
  },
  {
   "cell_type": "code",
   "execution_count": null,
   "id": "6a6c8adf-d85d-457c-9453-0fb7a7282ba3",
   "metadata": {},
   "outputs": [],
   "source": [
    "n_neighbors = 10\n",
    "n_pcs = 20  # This shouldn't affect anything\n",
    "\n",
    "sc.pp.neighbors(an_df_feature, n_neighbors=n_neighbors, n_pcs=n_pcs)\n",
    "knn_indices, knn_dists, forest = sc.neighbors.compute_neighbors_umap(\n",
    "    dtw_feature_norm, n_neighbors=n_neighbors, metric=\"precomputed\"\n",
    ")\n",
    "(\n",
    "    an_df_feature.uns[\"neighbors\"][\"distances\"],\n",
    "    an_df_feature.uns[\"neighbors\"][\"connectivities\"],\n",
    ") = sc.neighbors._compute_connectivities_umap(\n",
    "    knn_indices,\n",
    "    knn_dists,\n",
    "    an_df_feature.shape[0],\n",
    "    n_neighbors,  # change to neighbors you plan to use\n",
    ")\n",
    "an_df_feature.obsp[\"distances\"] = an_df_feature.uns[\"neighbors\"][\"distances\"]\n",
    "an_df_feature.obsp[\"connectivities\"] = an_df_feature.uns[\"neighbors\"][\"connectivities\"]\n",
    "an_df_feature.obsp[\"soft_dtw\"] = dtw_feature_norm"
   ]
  },
  {
   "cell_type": "markdown",
   "id": "33076975-f118-42d5-9eeb-e0725101cdd2",
   "metadata": {},
   "source": [
    "### Computing Leiden, PAGA and UMAP"
   ]
  },
  {
   "cell_type": "code",
   "execution_count": null,
   "id": "71d82d84-a836-4dcb-9208-f49c18b33c88",
   "metadata": {},
   "outputs": [],
   "source": [
    "feature_paga_df_dict = {}\n",
    "for resolution in [0.25, 1.0, 1.5]:\n",
    "    feature_paga_df_dict[resolution] = copy.deepcopy(an_df_feature)\n",
    "    sc.tl.leiden(\n",
    "        feature_paga_df_dict[resolution], resolution=resolution, n_iterations=-1\n",
    "    )\n",
    "    sc.tl.paga(feature_paga_df_dict[resolution], groups=\"leiden\")\n",
    "    sc.pl.paga(feature_paga_df_dict[resolution], add_pos=True, show=False)\n",
    "sc.tl.umap(feature_paga_df_dict[1.0], init_pos=\"paga\", min_dist=0.25, spread=5.0)\n",
    "feature_paga_df_dict[1.0].obs[\"leiden_lowres\"] = feature_paga_df_dict[0.25].obs[\n",
    "    \"leiden\"\n",
    "]\n",
    "feature_paga_df_dict[1.0].obs[\"leiden_highres\"] = feature_paga_df_dict[1.5].obs[\n",
    "    \"leiden\"\n",
    "]\n",
    "feature_paga_df = feature_paga_df_dict[1.0]"
   ]
  },
  {
   "cell_type": "code",
   "execution_count": null,
   "id": "ffef22cf-c1a2-419f-a1fa-1cf96ba9d021",
   "metadata": {},
   "outputs": [],
   "source": [
    "fig = sc.pl.umap(\n",
    "    feature_paga_df,\n",
    "    color=[\"leiden_lowres\", \"leiden\", \"leiden_highres\"],\n",
    "    title=[\"Leiden Resolution=0.25\", \"Leiden Resolution=1.\", \"Leiden Resolution=1.5\"],\n",
    "    show=False,\n",
    "    legend_loc=\"on data\",\n",
    "    edges=True,\n",
    "    add_outline=False,\n",
    "    size=50,\n",
    "    return_fig=True,\n",
    "    palette=vega_20_scanpy,\n",
    ")"
   ]
  },
  {
   "cell_type": "code",
   "execution_count": null,
   "id": "c4512e91-e7a3-4652-a6e2-cab0274088f7",
   "metadata": {},
   "outputs": [],
   "source": [
    "feature_paga_df.obs[\"N Match\"] = 20.0 - feature_paga_df.obs[\"N Mismatch\"]\n",
    "feature_del_N_match_series = feature_paga_df.obs.groupby(\"TargetID\").apply(\n",
    "    lambda x: x[\"N Match\"] - np.min(x[\"N Match\"])\n",
    ")\n",
    "feature_del_N_match_series = feature_del_N_match_series.droplevel(\"TargetID\")\n",
    "feature_paga_df.obs[\"Delta N Match\"] = feature_del_N_match_series"
   ]
  },
  {
   "cell_type": "code",
   "execution_count": null,
   "id": "1b1f346e-289c-41f5-bca0-ae8495885506",
   "metadata": {},
   "outputs": [],
   "source": [
    "labels = [zscore_trace + \": Mean\" for zscore_trace in zscore_traces]\n",
    "\n",
    "fig = sc.pl.umap(\n",
    "    feature_paga_df,\n",
    "    color=labels,\n",
    "    show=False,\n",
    "    legend_loc=\"on data\",\n",
    "    add_outline=False,\n",
    "    size=50,\n",
    "    return_fig=True,\n",
    "    vcenter=0.0,\n",
    "    cmap=\"RdBu_r\",\n",
    "    wspace=0.25,\n",
    ")"
   ]
  },
  {
   "cell_type": "code",
   "execution_count": null,
   "id": "d6239cb9-a407-47c3-a646-d3c8a74e322a",
   "metadata": {},
   "outputs": [],
   "source": [
    "fig = plot_cluster_timeseries_braycenters(\n",
    "    feature_paga_df.obs,\n",
    "    \"leiden\",\n",
    "    [\"Division Length Feature Norm\", \"Division Length Feature Norm\"],\n",
    "    [\"Division Length Feature Norm\", \"Division Length Feature Norm\"],\n",
    "    [(0, 1), (0, 1)],\n",
    "    figsize=(15, 6),\n",
    "    wspace=0.25,\n",
    "    hspace=0.25,\n",
    "    color_list=vega_20_scanpy,\n",
    ")"
   ]
  },
  {
   "cell_type": "code",
   "execution_count": null,
   "id": "b211dca8-1215-4796-9956-2bc3111903e0",
   "metadata": {},
   "outputs": [],
   "source": [
    "np.unique(\n",
    "    feature_paga_df.obs[feature_paga_df.obs[\"leiden\"] == \"1\"][\"Gene\"].tolist(),\n",
    "    return_counts=True,\n",
    ")"
   ]
  },
  {
   "cell_type": "code",
   "execution_count": null,
   "id": "42ed5845-5301-4203-a92f-82b43b32cdf0",
   "metadata": {},
   "outputs": [],
   "source": [
    "plt.plot(X_feature_norm[1])"
   ]
  },
  {
   "cell_type": "code",
   "execution_count": null,
   "id": "23712cdf-d705-40e6-9014-7c401d022987",
   "metadata": {},
   "outputs": [],
   "source": []
  },
  {
   "cell_type": "code",
   "execution_count": null,
   "id": "1f33e01f-271b-41c3-9346-d06e2cefd4ad",
   "metadata": {},
   "outputs": [],
   "source": [
    "plt.hist(X_feature_norm[:, -1, 0], bins=20)"
   ]
  },
  {
   "cell_type": "code",
   "execution_count": null,
   "id": "ce7d0032-5fbb-4a77-9c6b-e39cbac19494",
   "metadata": {},
   "outputs": [],
   "source": [
    "X_feature_norm[:, -1, 0] < 0.05"
   ]
  },
  {
   "cell_type": "code",
   "execution_count": null,
   "id": "7adc772d-b419-45d4-8ac1-56d24998ba8c",
   "metadata": {},
   "outputs": [],
   "source": [
    "X_feature[:, 0, 0]"
   ]
  },
  {
   "cell_type": "code",
   "execution_count": null,
   "id": "ca577b4f-d37a-4bb2-b4c2-903c03f0999c",
   "metadata": {},
   "outputs": [],
   "source": [
    "fold_change = X_feature / X_feature[:, 0, 0]"
   ]
  },
  {
   "cell_type": "code",
   "execution_count": null,
   "id": "c9623e1d-4d7b-4ca5-a03a-eda78f3a8685",
   "metadata": {},
   "outputs": [],
   "source": [
    "plt.hist(fold_change[:, -1, 0], bins=30)\n",
    "plt.show()"
   ]
  },
  {
   "cell_type": "code",
   "execution_count": null,
   "id": "465f3fe2-2573-4297-bcb7-9bd7dcbc7a6a",
   "metadata": {
    "tags": []
   },
   "outputs": [],
   "source": [
    "V_max = np.max(X_feature, axis=1, keepdims=True)\n",
    "V_min = np.min(X_feature, axis=1, keepdims=True)\n",
    "V_i = X_feature[:, 0:1]\n",
    "test_norm = (X_feature - V_i) / (V_max - V_min)\n",
    "test_norm = test_norm - test_norm[:, :1]"
   ]
  },
  {
   "cell_type": "code",
   "execution_count": null,
   "id": "4c867d6b-e220-43ac-8df8-2d03b33b8aec",
   "metadata": {},
   "outputs": [],
   "source": [
    "plt.plot(test_norm[0, :, :])"
   ]
  },
  {
   "cell_type": "code",
   "execution_count": null,
   "id": "2d1fba8d-7f9f-4018-914c-83a9851981f7",
   "metadata": {},
   "outputs": [],
   "source": [
    "plt.hist(test_norm[:, -1].flatten(), bins=30)\n",
    "plt.show()"
   ]
  },
  {
   "cell_type": "code",
   "execution_count": null,
   "id": "c961fc81-7fcb-4f12-aa44-0bbe72a71ca1",
   "metadata": {},
   "outputs": [],
   "source": [
    "moo = test_norm[((test_norm[:, -1] < 0.25) * (test_norm[:, -1] > -0.25))[:, 0]]"
   ]
  },
  {
   "cell_type": "code",
   "execution_count": null,
   "id": "399be28a-cab1-4c81-b44a-8ee6251866fb",
   "metadata": {},
   "outputs": [],
   "source": [
    "moo.shape"
   ]
  },
  {
   "cell_type": "code",
   "execution_count": null,
   "id": "80f58b89-6fe3-4d94-912c-0a131730f016",
   "metadata": {},
   "outputs": [],
   "source": [
    "plt.plot(moo[15, :, 0].T, c=\"lightgrey\", alpha=0.7)\n",
    "plt.show()"
   ]
  },
  {
   "cell_type": "code",
   "execution_count": null,
   "id": "09edf2ff-0900-48bd-9ee0-072be385ee38",
   "metadata": {},
   "outputs": [],
   "source": []
  },
  {
   "cell_type": "code",
   "execution_count": null,
   "id": "a04355e1-8934-4436-9852-7a0a6b375c97",
   "metadata": {},
   "outputs": [],
   "source": []
  },
  {
   "cell_type": "code",
   "execution_count": null,
   "id": "1d0e521e-fc1f-43b2-b3eb-2dc7811e38dd",
   "metadata": {},
   "outputs": [],
   "source": []
  },
  {
   "cell_type": "code",
   "execution_count": null,
   "id": "4439fb37-917b-4664-bb11-58f77a299e41",
   "metadata": {},
   "outputs": [],
   "source": []
  },
  {
   "cell_type": "code",
   "execution_count": null,
   "id": "43a89c2c-5411-4308-acbb-4a7196531bb8",
   "metadata": {},
   "outputs": [],
   "source": [
    "moo.shape"
   ]
  },
  {
   "cell_type": "markdown",
   "id": "05926e0f-1a94-489f-820f-1a75ccf70bb3",
   "metadata": {},
   "source": [
    "### Testing Fitting with Likelihood Ratio"
   ]
  },
  {
   "cell_type": "code",
   "execution_count": null,
   "id": "a15a82f1-b5d9-4215-aec1-ae111070d4db",
   "metadata": {},
   "outputs": [],
   "source": [
    "from scipy.optimize import curve_fit"
   ]
  },
  {
   "cell_type": "code",
   "execution_count": null,
   "id": "066f9c95-556d-4a20-90a9-9862005efb66",
   "metadata": {},
   "outputs": [],
   "source": [
    "T = 0\n",
    "\n",
    "y = X_feature_norm[1, :, 0]\n",
    "\n",
    "const_segment = y[:T]\n",
    "variable_segment = y[T:]\n",
    "\n",
    "variable_t = np.array(range(len(variable_segment)))\n",
    "\n",
    "const_est = np.mean(const_segment)"
   ]
  },
  {
   "cell_type": "code",
   "execution_count": null,
   "id": "1d9473d8-31e4-4643-a9b2-ba84ee2e3018",
   "metadata": {},
   "outputs": [],
   "source": [
    "const_est"
   ]
  },
  {
   "cell_type": "code",
   "execution_count": null,
   "id": "e053443e-bc0f-4ac2-be9e-3d8eb084eddd",
   "metadata": {},
   "outputs": [],
   "source": [
    "def func_null(t, c0, c1, l1):\n",
    "    return c1 * np.exp(l1 * t) + c0\n",
    "\n",
    "\n",
    "def func_hyp(t, c0, c1, c2, l1, l2):\n",
    "    return (c1 * np.exp(l1 * t)) + (c2 * np.exp(l2 * t)) + c0"
   ]
  },
  {
   "cell_type": "code",
   "execution_count": null,
   "id": "432f2451-335e-40de-8550-0e0da44d95c8",
   "metadata": {},
   "outputs": [],
   "source": [
    "plt.plot(variable_t, variable_segment, \"b-\", label=\"data\")"
   ]
  },
  {
   "cell_type": "code",
   "execution_count": null,
   "id": "53d5ae43-0fe4-4c8f-a8bf-3350b4b04a8e",
   "metadata": {},
   "outputs": [],
   "source": [
    "popt, pcov = curve_fit(func_null, variable_t, variable_segment)"
   ]
  },
  {
   "cell_type": "code",
   "execution_count": null,
   "id": "300000d5-41e7-4fba-8bc2-4362d373cfec",
   "metadata": {},
   "outputs": [],
   "source": [
    "popt, pcov = curve_fit(\n",
    "    func_null,\n",
    "    variable_t,\n",
    "    variable_segment,\n",
    "    bounds=([0.0, -1.0, -np.inf], [1.0, 1.0, np.inf]),\n",
    ")\n",
    "plt.plot(variable_t, variable_segment, \"b-\", label=\"data\")\n",
    "plt.plot(variable_t, func_null(variable_t, *popt), \"r-\")"
   ]
  },
  {
   "cell_type": "code",
   "execution_count": null,
   "id": "9ba55ce0-66e7-4690-bedb-3b7193a7cf7b",
   "metadata": {},
   "outputs": [],
   "source": [
    "log_L_null = -np.sum(\n",
    "    (func_null(variable_t, *popt) - variable_segment) ** 2\n",
    ")  ##dont know what to do about the sigma"
   ]
  },
  {
   "cell_type": "code",
   "execution_count": null,
   "id": "88748d0d-1881-4553-8bb0-948667bacbc3",
   "metadata": {},
   "outputs": [],
   "source": [
    "popt, pcov = curve_fit(\n",
    "    func_hyp,\n",
    "    variable_t,\n",
    "    variable_segment,\n",
    "    bounds=([0.0, -np.inf, -np.inf, -np.inf, 0], [1.0, np.inf, np.inf, 0, np.inf]),\n",
    ")\n",
    "plt.plot(variable_t, variable_segment, \"b-\", label=\"data\")\n",
    "plt.plot(variable_t, func_hyp(variable_t, *popt), \"r-\")"
   ]
  },
  {
   "cell_type": "code",
   "execution_count": null,
   "id": "484e36b7-d30a-45bd-8cb0-0df1d96a7f99",
   "metadata": {},
   "outputs": [],
   "source": [
    "log_L_hyp = -np.sum((func_hyp(variable_t, *popt) - variable_segment) ** 2)"
   ]
  },
  {
   "cell_type": "code",
   "execution_count": null,
   "id": "f9cf1a71-8077-4349-9871-6327f8ef04e9",
   "metadata": {},
   "outputs": [],
   "source": [
    "log_L_hyp"
   ]
  },
  {
   "cell_type": "code",
   "execution_count": null,
   "id": "bd65dd7f-3fc6-4e79-9f20-695fccfac985",
   "metadata": {},
   "outputs": [],
   "source": [
    "LR = -2 * (log_L_null - log_L_hyp)"
   ]
  },
  {
   "cell_type": "code",
   "execution_count": null,
   "id": "fa6cc1a1-5f60-4991-a856-fdc33579508f",
   "metadata": {},
   "outputs": [],
   "source": [
    "LR"
   ]
  },
  {
   "cell_type": "code",
   "execution_count": null,
   "id": "0f5086cf-6cf4-4511-b241-423e27f94298",
   "metadata": {},
   "outputs": [],
   "source": [
    "chi_dist = sp.stats.chi2(df=1)"
   ]
  },
  {
   "cell_type": "code",
   "execution_count": null,
   "id": "af6a6b2f-587e-40f2-870f-f5798fc269e9",
   "metadata": {},
   "outputs": [],
   "source": [
    "1.0 - chi_dist.cdf(LR)"
   ]
  },
  {
   "cell_type": "code",
   "execution_count": null,
   "id": "9e9b343f-b532-46e5-888d-4f18b6d12eb8",
   "metadata": {},
   "outputs": [],
   "source": []
  },
  {
   "cell_type": "code",
   "execution_count": null,
   "id": "a94b1aa3-08d7-4ef2-aa3a-3549ebc7d6f5",
   "metadata": {},
   "outputs": [],
   "source": []
  },
  {
   "cell_type": "code",
   "execution_count": null,
   "id": "d41e5481-fec0-4ebf-8259-747a95791b43",
   "metadata": {},
   "outputs": [],
   "source": []
  },
  {
   "cell_type": "code",
   "execution_count": null,
   "id": "6c228605-263a-47df-b685-9d4d19757530",
   "metadata": {},
   "outputs": [],
   "source": []
  },
  {
   "cell_type": "code",
   "execution_count": null,
   "id": "ec1d5632-8d1d-4af2-a89b-d04af2934178",
   "metadata": {},
   "outputs": [],
   "source": []
  },
  {
   "cell_type": "code",
   "execution_count": null,
   "id": "a92d0047-912f-4349-b54d-df270d53716c",
   "metadata": {},
   "outputs": [],
   "source": []
  },
  {
   "cell_type": "code",
   "execution_count": null,
   "id": "012eb736-816e-41bb-b031-c59b10d61f6c",
   "metadata": {},
   "outputs": [],
   "source": [
    "c0, c1, c2 = 0.0, -5.0, 4.0\n",
    "\n",
    "l1, l2 = -1.0, -0.5\n",
    "\n",
    "y = func_hyp(variable_t, c0, c1, c2, l1, l2)\n",
    "\n",
    "plt.plot(y)"
   ]
  },
  {
   "cell_type": "code",
   "execution_count": null,
   "id": "256aae7c-5280-418c-9eb7-7a9f11592a9a",
   "metadata": {},
   "outputs": [],
   "source": []
  },
  {
   "cell_type": "code",
   "execution_count": null,
   "id": "3303805c-b8e0-4aa4-b9b7-1eb5071a99ea",
   "metadata": {},
   "outputs": [],
   "source": [
    "y = X_feature_norm[0, :, 0]\n",
    "X = np.array([0.0 for i in range(len(test_timeseries))]).reshape(-1, 1)"
   ]
  },
  {
   "cell_type": "code",
   "execution_count": null,
   "id": "f1503432-e448-470d-a05d-9797bc2c3ec4",
   "metadata": {},
   "outputs": [],
   "source": [
    "lr_model = skl.linear_model.LinearRegression().fit(X, y)"
   ]
  },
  {
   "cell_type": "code",
   "execution_count": null,
   "id": "ec93d649-e23d-461b-affa-103ba370d049",
   "metadata": {},
   "outputs": [],
   "source": [
    "lr_model.score(X, y)"
   ]
  },
  {
   "cell_type": "code",
   "execution_count": null,
   "id": "8713a80e-c2d6-40ad-9f4b-982037df2c6f",
   "metadata": {},
   "outputs": [],
   "source": [
    "lr_model.intercept_"
   ]
  },
  {
   "cell_type": "code",
   "execution_count": null,
   "id": "56265b43-8de1-4229-8896-8dc5946c2188",
   "metadata": {},
   "outputs": [],
   "source": [
    "np.mean(y)"
   ]
  },
  {
   "cell_type": "code",
   "execution_count": null,
   "id": "e51702ed-58c6-4042-bd80-33f36b9b1048",
   "metadata": {},
   "outputs": [],
   "source": []
  },
  {
   "cell_type": "code",
   "execution_count": null,
   "id": "0e18f606-ffd7-4eeb-b648-581f22cd36ef",
   "metadata": {},
   "outputs": [],
   "source": [
    "plt.plot(test_timeseries)"
   ]
  },
  {
   "cell_type": "code",
   "execution_count": null,
   "id": "e29b8536-97f6-4603-b361-33483ee74183",
   "metadata": {},
   "outputs": [],
   "source": [
    "plt.plot(np.log(test_timeseries + 0.001))"
   ]
  },
  {
   "cell_type": "code",
   "execution_count": null,
   "id": "d29c0937-60d1-4d4f-8a49-4bc36a622e3f",
   "metadata": {},
   "outputs": [],
   "source": []
  },
  {
   "cell_type": "code",
   "execution_count": null,
   "id": "213955f9-8089-4113-b513-fb9dd4d0b744",
   "metadata": {},
   "outputs": [],
   "source": []
  },
  {
   "cell_type": "code",
   "execution_count": null,
   "id": "17477fac-b386-4b80-8bd0-cdfed8b87056",
   "metadata": {},
   "outputs": [],
   "source": []
  },
  {
   "cell_type": "code",
   "execution_count": null,
   "id": "07bf1d5d-d261-4c99-bc4a-7cfb086c8e97",
   "metadata": {},
   "outputs": [],
   "source": []
  },
  {
   "cell_type": "code",
   "execution_count": null,
   "id": "239b1ab7-dabf-4228-a2db-1aa88139aa84",
   "metadata": {},
   "outputs": [],
   "source": [
    "def highlight_gene_group_property(an_df, selection_list, color=[]):\n",
    "\n",
    "    highlight_genes_df = copy.deepcopy(an_df)\n",
    "\n",
    "    selection_list = sorted(\n",
    "        list(\n",
    "            set(highlight_genes_df.obs[\"Gene\"].unique().tolist()) & set(selection_list)\n",
    "        )\n",
    "    )\n",
    "\n",
    "    for i, selected_gene in enumerate(selection_list):\n",
    "        selected_series = (highlight_genes_df.obs[\"Gene\"] == selected_gene).astype(\n",
    "            \"category\"\n",
    "        )\n",
    "        selected_series = selected_series.cat.reorder_categories([True, False])\n",
    "        highlight_genes_df.obs[\"Selected Genes: \" + str(i)] = selected_series\n",
    "\n",
    "    selected_series = (highlight_genes_df.obs[\"Gene\"].isin(selection_list)).astype(\n",
    "        \"category\"\n",
    "    )\n",
    "    selected_series = selected_series.cat.reorder_categories([True, False])\n",
    "    highlight_genes_df.obs[\"All Genes\"] = selected_series\n",
    "\n",
    "    # selected_series = (paga_df.obs[\"Gene\"]==\"ftsZ\").astype(float)\n",
    "    # selected_series[selected_series==0.] = np.NaN\n",
    "    # paga_df.obs[\"Selected Genes\"] = selected_series\n",
    "\n",
    "    fig = sc.pl.umap(\n",
    "        highlight_genes_df,\n",
    "        title=selection_list + [\"All Genes\"],\n",
    "        color=[\"Selected Genes: \" + str(i) for i in range(len(selection_list))]\n",
    "        + [\"All Genes\"],\n",
    "        groups=[True],\n",
    "        show=False,\n",
    "        legend_loc=\"right margin\",\n",
    "        add_outline=False,\n",
    "        size=50,\n",
    "        return_fig=True,\n",
    "        palette={True: \"red\", False: \"lightgrey\"},\n",
    "    )  # palette ={}\n",
    "\n",
    "    return fig"
   ]
  },
  {
   "cell_type": "code",
   "execution_count": null,
   "id": "1530bf6b-3cdf-454a-9f7e-3eb602fbb152",
   "metadata": {},
   "outputs": [],
   "source": [
    "fig = highlight_gene_group(feature_paga_df, [\"dnaB\"])"
   ]
  },
  {
   "cell_type": "code",
   "execution_count": null,
   "id": "3968332e-8e4a-4921-a613-78150e6e1c0b",
   "metadata": {},
   "outputs": [],
   "source": []
  },
  {
   "cell_type": "code",
   "execution_count": null,
   "id": "d5f291f0-7393-44a7-a839-5ee2d7da03b1",
   "metadata": {},
   "outputs": [],
   "source": []
  },
  {
   "cell_type": "code",
   "execution_count": null,
   "id": "a3110d61-17bd-4c3e-80d5-4e62dad157cb",
   "metadata": {},
   "outputs": [],
   "source": [
    "plt.scatter(\n",
    "    feature_paga_df.obsm[\"X_umap\"][:, 0],\n",
    "    feature_paga_df.obsm[\"X_umap\"][:, 1],\n",
    "    s=5,\n",
    "    c=\"lightgrey\",\n",
    ")"
   ]
  },
  {
   "cell_type": "code",
   "execution_count": null,
   "id": "77712d19-a5fd-4081-98ad-1b6b3a3cc906",
   "metadata": {
    "tags": []
   },
   "outputs": [],
   "source": [
    "selection_list = [\"dnaB\"]\n",
    "\n",
    "highlight_genes_df = copy.deepcopy(feature_paga_df)\n",
    "\n",
    "selection_list = sorted(\n",
    "    list(set(highlight_genes_df.obs[\"Gene\"].unique().tolist()) & set(selection_list))\n",
    ")\n",
    "\n",
    "for i, selected_gene in enumerate(selection_list):\n",
    "    plt.scatter(\n",
    "        feature_paga_df.obsm[\"X_umap\"][:, 0],\n",
    "        feature_paga_df.obsm[\"X_umap\"][:, 1],\n",
    "        s=5,\n",
    "        c=\"lightgrey\",\n",
    "    )\n",
    "    plt.title(selected_gene)\n",
    "    selected_series = highlight_genes_df.obs[\"Gene\"] == selected_gene\n",
    "    selected_df = highlight_genes_df[selected_series]\n",
    "    targetid_list = selected_df.obs[\"TargetID\"].unique().tolist()\n",
    "    for i, targetid in enumerate(targetid_list):\n",
    "        selected_targetid_df = selected_df[selected_df.obs[\"TargetID\"] == targetid]\n",
    "        selected_targetid_df.obs = selected_targetid_df.obs.set_index(\n",
    "            \"N Match\"\n",
    "        ).sort_index()\n",
    "        x = selected_targetid_df.obsm[\"X_umap\"][:, 0]\n",
    "        y = selected_targetid_df.obsm[\"X_umap\"][:, 1]\n",
    "        plt.quiver(\n",
    "            x[:-1],\n",
    "            y[:-1],\n",
    "            x[1:] - x[:-1],\n",
    "            y[1:] - y[:-1],\n",
    "            scale_units=\"xy\",\n",
    "            angles=\"xy\",\n",
    "            scale=1,\n",
    "            color=vega_20_scanpy[i],\n",
    "            label=targetid,\n",
    "        )\n",
    "    plt.legend()\n",
    "    plt.show()"
   ]
  },
  {
   "cell_type": "code",
   "execution_count": null,
   "id": "2cac2d17-3f1f-441a-aa05-21f33a4dffb3",
   "metadata": {},
   "outputs": [],
   "source": [
    "selected_targetid_df.obs"
   ]
  },
  {
   "cell_type": "code",
   "execution_count": null,
   "id": "fee96466-d6ad-4281-a73a-c92812f70b0d",
   "metadata": {},
   "outputs": [],
   "source": []
  },
  {
   "cell_type": "code",
   "execution_count": null,
   "id": "e1c6e93a-78ec-49c7-8bfb-e09571277dda",
   "metadata": {},
   "outputs": [],
   "source": []
  },
  {
   "cell_type": "code",
   "execution_count": null,
   "id": "62b25cfd-f664-4e75-a79a-c7362d17b6df",
   "metadata": {},
   "outputs": [],
   "source": []
  },
  {
   "cell_type": "code",
   "execution_count": null,
   "id": "dd871f11-cc9b-44aa-ab71-031aac54932e",
   "metadata": {},
   "outputs": [],
   "source": []
  },
  {
   "cell_type": "code",
   "execution_count": null,
   "id": "79ec22ad-064f-444c-aecd-f9fd4f6a84ce",
   "metadata": {},
   "outputs": [],
   "source": []
  },
  {
   "cell_type": "code",
   "execution_count": null,
   "id": "2c0dddc2-c0d8-4cd5-a201-c7a41b647ba4",
   "metadata": {},
   "outputs": [],
   "source": []
  },
  {
   "cell_type": "code",
   "execution_count": null,
   "id": "e1df7914-fef2-46cc-9a70-1e707089d191",
   "metadata": {},
   "outputs": [],
   "source": []
  },
  {
   "cell_type": "code",
   "execution_count": null,
   "id": "869ae0ff-fe09-4c14-8e6d-1f79aa2b26be",
   "metadata": {},
   "outputs": [],
   "source": []
  },
  {
   "cell_type": "code",
   "execution_count": null,
   "id": "ab3ead45-989f-49e6-81e8-2d57b2590a60",
   "metadata": {},
   "outputs": [],
   "source": []
  },
  {
   "cell_type": "code",
   "execution_count": null,
   "id": "d8056852-4784-4343-a19c-fd067602df1a",
   "metadata": {},
   "outputs": [],
   "source": []
  },
  {
   "cell_type": "code",
   "execution_count": null,
   "id": "49137890-39bc-40dd-8ab5-b72f43a98b27",
   "metadata": {},
   "outputs": [],
   "source": [
    "highlight_genes_df"
   ]
  },
  {
   "cell_type": "code",
   "execution_count": null,
   "id": "3cfcd73f-6860-433d-931e-4b396825deea",
   "metadata": {},
   "outputs": [],
   "source": [
    "selected_series.cat.categories"
   ]
  },
  {
   "cell_type": "code",
   "execution_count": null,
   "id": "7e1b4476-0e51-46e4-8c88-6c558130777c",
   "metadata": {},
   "outputs": [],
   "source": [
    "vega_20_scanpy"
   ]
  },
  {
   "cell_type": "code",
   "execution_count": null,
   "id": "c6d98a5f-256f-4f2b-aac3-6cf9487322b0",
   "metadata": {},
   "outputs": [],
   "source": []
  },
  {
   "cell_type": "code",
   "execution_count": null,
   "id": "ca62f8bc-a313-45d6-a66a-1ddaa8c45732",
   "metadata": {},
   "outputs": [],
   "source": []
  },
  {
   "cell_type": "code",
   "execution_count": null,
   "id": "073c92ed-7bd0-47aa-a7c7-9dc8b04d9fbe",
   "metadata": {},
   "outputs": [],
   "source": []
  },
  {
   "cell_type": "code",
   "execution_count": null,
   "id": "3e2a9b8c-0e0b-4ebb-ba00-7fb74cb1e70c",
   "metadata": {},
   "outputs": [],
   "source": []
  },
  {
   "cell_type": "code",
   "execution_count": null,
   "id": "b7f93f60-87a8-4720-ad78-e113d78de6b5",
   "metadata": {},
   "outputs": [],
   "source": [
    "renormalizer = TimeSeriesScalerMinMax(value_range=(0.0, 1.0))"
   ]
  },
  {
   "cell_type": "code",
   "execution_count": null,
   "id": "11cbb4df-09e1-4353-855d-b5216cb4789d",
   "metadata": {},
   "outputs": [],
   "source": [
    "division_df = paga_df.obs[paga_df.obs[\"leiden\"] == \"6\"]\n",
    "division_df.drop(columns=[\"leiden\", \"leiden_lowres\", \"leiden_highres\"])"
   ]
  },
  {
   "cell_type": "code",
   "execution_count": null,
   "id": "d04d9ec9-f828-47ca-aeaf-059986b40e4e",
   "metadata": {
    "tags": []
   },
   "outputs": [],
   "source": [
    "division_df[\"Normalized Division Length Z-score\"] = division_df[\n",
    "    \"Division Length Z-score\"\n",
    "].apply(lambda x: renormalizer.fit_transform([x])[0][:, 0])"
   ]
  },
  {
   "cell_type": "code",
   "execution_count": null,
   "id": "63d026bb-2ae6-4613-842d-983a73237982",
   "metadata": {},
   "outputs": [],
   "source": [
    "X = np.array(division_df[\"Normalized Division Length Z-score\"].tolist())[\n",
    "    :, :, np.newaxis\n",
    "]\n",
    "X = np.swapaxes(X, 1, 2)\n",
    "norm_soft_dtw_arr = parallel_norm_soft_dtw(X)"
   ]
  },
  {
   "cell_type": "code",
   "execution_count": null,
   "id": "5f9c432e-a96e-4d58-9c52-bbff4449f686",
   "metadata": {},
   "outputs": [],
   "source": [
    "an_df_division = anndata.AnnData(\n",
    "    X=X.reshape(X.shape[0], -1), obs=division_df\n",
    ")  # AnnData container to use scanpy functions with unwrapped time vector"
   ]
  },
  {
   "cell_type": "code",
   "execution_count": null,
   "id": "32a4a4bc-3b9d-4f44-9760-e9ee834a0e8f",
   "metadata": {},
   "outputs": [],
   "source": [
    "an_df_division"
   ]
  },
  {
   "cell_type": "code",
   "execution_count": null,
   "id": "5e37b84a-feec-4084-9655-a3834d620d89",
   "metadata": {
    "tags": []
   },
   "outputs": [],
   "source": [
    "n_neighbors = 15\n",
    "n_pcs = 20  # This shouldn't affect anything\n",
    "resolution = 0.25\n",
    "\n",
    "sc.pp.neighbors(an_df_division, n_neighbors=n_neighbors, n_pcs=n_pcs)\n",
    "knn_indices, knn_dists, forest = sc.neighbors.compute_neighbors_umap(\n",
    "    norm_soft_dtw_arr, n_neighbors=n_neighbors, metric=\"precomputed\"\n",
    ")\n",
    "(\n",
    "    an_df_division.uns[\"neighbors\"][\"distances\"],\n",
    "    an_df_division.uns[\"neighbors\"][\"connectivities\"],\n",
    ") = sc.neighbors._compute_connectivities_umap(\n",
    "    knn_indices,\n",
    "    knn_dists,\n",
    "    an_df_division.shape[0],\n",
    "    n_neighbors,  # change to neighbors you plan to use\n",
    ")\n",
    "an_df_division.obsp[\"distances\"] = an_df_division.uns[\"neighbors\"][\"distances\"]\n",
    "an_df_division.obsp[\"connectivities\"] = an_df_division.uns[\"neighbors\"][\n",
    "    \"connectivities\"\n",
    "]\n",
    "\n",
    "sc.tl.leiden(\n",
    "    an_df_division,\n",
    "    resolution=resolution,\n",
    "    n_iterations=-1,\n",
    ")\n",
    "sc.tl.paga(an_df_division, groups=\"leiden\")\n",
    "sc.pl.paga(an_df_division, add_pos=True, show=True)\n",
    "\n",
    "sc.tl.umap(an_df_division, init_pos=\"paga\", min_dist=0.25, spread=5.0)"
   ]
  },
  {
   "cell_type": "code",
   "execution_count": null,
   "id": "356e8b27-1385-4432-8aea-ef857842342d",
   "metadata": {},
   "outputs": [],
   "source": [
    "fig = sc.pl.umap(\n",
    "    an_df_division,\n",
    "    color=[\"leiden\"],\n",
    "    title=[\"Leiden Resolution=1.\"],\n",
    "    show=False,\n",
    "    legend_loc=\"on data\",\n",
    "    edges=True,\n",
    "    add_outline=False,\n",
    "    size=50,\n",
    "    return_fig=True,\n",
    "    palette=vega_20_scanpy,\n",
    ")"
   ]
  },
  {
   "cell_type": "code",
   "execution_count": null,
   "id": "110f4ba6-17e1-4fad-9c75-938abf753f85",
   "metadata": {},
   "outputs": [],
   "source": [
    "fig = plot_cluster_timeseries(\n",
    "    an_df_division.obs,\n",
    "    \"leiden\",\n",
    "    [\n",
    "        \"Division Length\",\n",
    "        \"Linear Growth Rate\",\n",
    "        \"Exponential Growth Rate\",\n",
    "        \"Width\",\n",
    "        \"mCherry Intensity\",\n",
    "        \"Doubling Time\",\n",
    "    ],\n",
    "    [\n",
    "        \"Division Length\",\n",
    "        \"Linear Growth Rate\",\n",
    "        \"Exponential Growth Rate\",\n",
    "        \"Width\",\n",
    "        \"mCherry Intensity\",\n",
    "        \"Doubling Time\",\n",
    "    ],\n",
    "    [(3, 12), (0, 20), (0.5, 2.5), (1.2, 1.6), (0, 6000), (0, 20)],\n",
    "    figsize=(8, 8),\n",
    "    wspace=0.25,\n",
    "    hspace=0.25,\n",
    "    color_list=vega_20_scanpy,\n",
    ")"
   ]
  },
  {
   "cell_type": "code",
   "execution_count": null,
   "id": "49cf0221-af92-474e-8d57-f09479f8c3b5",
   "metadata": {},
   "outputs": [],
   "source": [
    "fig = plot_cluster_timeseries_braycenters(\n",
    "    an_df_division.obs,\n",
    "    \"leiden\",\n",
    "    [\"Division Length Z-score\", \"Normalized Division Length Z-score\"],\n",
    "    [\"Division Length Z-score\", \"Normalized Division Length Z-score\"],\n",
    "    [(-4, 6), (0, 1)],\n",
    "    figsize=(8, 8),\n",
    "    wspace=0.25,\n",
    "    hspace=0.25,\n",
    "    color_list=vega_20_scanpy,\n",
    ")"
   ]
  },
  {
   "cell_type": "code",
   "execution_count": null,
   "id": "e9239316-c409-4f40-abab-19b74874a644",
   "metadata": {},
   "outputs": [],
   "source": [
    "group_0 = set(an_df_division.obs[an_df_division.obs[\"leiden\"] == \"0\"][\"Gene\"].unique())\n",
    "group_1 = set(an_df_division.obs[an_df_division.obs[\"leiden\"] == \"1\"][\"Gene\"].unique())\n",
    "group_2 = set(an_df_division.obs[an_df_division.obs[\"leiden\"] == \"2\"][\"Gene\"].unique())\n",
    "\n",
    "strong_recovery_genes_only = list(group_1 - group_0 - group_2)\n",
    "strong_recovery_genes = list(group_1)\n",
    "\n",
    "diverging_genes_only = list(group_2 - group_0 - group_1)\n",
    "diverging_genes = list(group_2)"
   ]
  },
  {
   "cell_type": "code",
   "execution_count": null,
   "id": "1f03f202-d03b-42f7-8e4a-842ccd68939d",
   "metadata": {},
   "outputs": [],
   "source": [
    "an_df_division_strong_recovery_only = an_df_division[\n",
    "    an_df_division.obs[\"Gene\"].isin(strong_recovery_genes_only)\n",
    "]\n",
    "an_df_division_strong_recovery = an_df_division[\n",
    "    an_df_division.obs[\"Gene\"].isin(strong_recovery_genes)\n",
    "]"
   ]
  },
  {
   "cell_type": "code",
   "execution_count": null,
   "id": "b2a51f1c-c938-469e-a6d1-a505a88c2fc1",
   "metadata": {},
   "outputs": [],
   "source": [
    "plt.plot(\n",
    "    np.array(\n",
    "        an_df_division_strong_recovery_only.obs[\n",
    "            \"Normalized Division Length Z-score\"\n",
    "        ].tolist()\n",
    "    ).T,\n",
    "    c=\"grey\",\n",
    "    alpha=0.3,\n",
    ")\n",
    "plt.show()\n",
    "plt.plot(\n",
    "    np.array(\n",
    "        an_df_division_strong_recovery.obs[\n",
    "            \"Normalized Division Length Z-score\"\n",
    "        ].tolist()\n",
    "    ).T,\n",
    "    c=\"grey\",\n",
    "    alpha=0.2,\n",
    ")\n",
    "plt.show()"
   ]
  },
  {
   "cell_type": "code",
   "execution_count": null,
   "id": "4c1b426c-af3e-4e97-b773-7178c2ec62fc",
   "metadata": {},
   "outputs": [],
   "source": [
    "sorted(list(strong_recovery_genes_only))"
   ]
  },
  {
   "cell_type": "code",
   "execution_count": null,
   "id": "23f84f2b-0f55-4109-96ea-64969097b201",
   "metadata": {},
   "outputs": [],
   "source": [
    "paga_df.obs"
   ]
  },
  {
   "cell_type": "code",
   "execution_count": null,
   "id": "8ec2050b-3e99-4a0c-9ae1-7cbe4bdaad60",
   "metadata": {},
   "outputs": [],
   "source": []
  }
 ],
 "metadata": {
  "kernelspec": {
   "display_name": "Python 3 (ipykernel)",
   "language": "python",
   "name": "python3"
  },
  "language_info": {
   "codemirror_mode": {
    "name": "ipython",
    "version": 3
   },
   "file_extension": ".py",
   "mimetype": "text/x-python",
   "name": "python",
   "nbconvert_exporter": "python",
   "pygments_lexer": "ipython3",
   "version": "3.8.5"
  },
  "toc-showcode": false
 },
 "nbformat": 4,
 "nbformat_minor": 5
}
