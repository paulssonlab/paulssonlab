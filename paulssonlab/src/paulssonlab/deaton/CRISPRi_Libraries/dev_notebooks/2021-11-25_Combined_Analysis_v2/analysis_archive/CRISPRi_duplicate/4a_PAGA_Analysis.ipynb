{
 "cells": [
  {
   "cell_type": "markdown",
   "id": "normal-saying",
   "metadata": {},
   "source": [
    "## PAGA Basic Analysis (Only Main Analysis)\n",
    "\n",
    "- In this notebook, I include basic leiden clustering with no downstream timeseries analysis\n",
    "\n",
    "- Mean parameter values are projected onto the space to visualize\n",
    "\n",
    "- Distributions of genes of known function should be assembled in this notebook\n",
    "\n",
    "- Finally, basic clustering and ontology enrichment are present at the end\n",
    "\n",
    "- This notebook should be used to decide on clustering parameters and the resulting paga_df saved to disk"
   ]
  },
  {
   "cell_type": "markdown",
   "id": "opposed-employee",
   "metadata": {},
   "source": [
    "### Note: Next Steps\n",
    "\n",
    "- Need to rerun some of the sequencing pipeline (the ipynb) to get a proper universal sgRNAid to use in the downstream stuff. For now am hacking my way out of it but this should be done soon.\n",
    "- Co-embedding doesn't totally line up:\n",
    "    - Possibly due to differences in the calculated timestep\n",
    "    - Also might be helped by revisiting the normalization scheme"
   ]
  },
  {
   "cell_type": "markdown",
   "id": "seventh-breakdown",
   "metadata": {},
   "source": [
    "#### Tomorrow\n",
    "- First, rerun the sequencing pipeline bit to get sgRNAids that are universal\n",
    "\n",
    "- Plug it into the correct part of the pipeline to be included in the final dataframes\n",
    "    - At this step, unify the downstream processing notebooks to analyze both datasets jointly\n",
    "    - Also, try to keep individual trench traces unaveraged into the downstream steps so inter and intra dataset distances may be compared\n",
    "    - (2022-02-11) Go to the third notebook and cleanup the errors, then add the distance analysis to the 4a notebook with an overlay\n",
    "\n",
    "- Rerun the analysis on the old dataset to use the same time calculation since there may be a bias in that method that may compromize the co-embedding\n",
    "    - Consider doing both permutations of the timepoint calculation\n",
    "    \n",
    "- Try co-embedding again and see if the result improves\n",
    "\n",
    "- If co-embedding looks good, proceed to a distance analysis\n",
    "\n",
    "- Once this is completed, design a final joint analysis for sgRNA phenotype categories for the second library"
   ]
  },
  {
   "cell_type": "code",
   "execution_count": null,
   "id": "packed-mystery",
   "metadata": {},
   "outputs": [],
   "source": [
    "import ast\n",
    "import copy\n",
    "import random\n",
    "import warnings\n",
    "\n",
    "import anndata\n",
    "import dask\n",
    "import dask.array as da\n",
    "import dask.dataframe as dd\n",
    "import holoviews as hv\n",
    "import igraph as ig\n",
    "import leidenalg\n",
    "import matplotlib as mpl\n",
    "import matplotlib.gridspec as gridspec\n",
    "import networkx as nx\n",
    "import numpy as np\n",
    "import pandas as pd\n",
    "import pylab\n",
    "import scanpy as sc\n",
    "import scipy as sp\n",
    "import scipy.cluster.hierarchy as sch\n",
    "import scipy.sparse\n",
    "import scipy.stats\n",
    "import seaborn as sns\n",
    "import sklearn as skl\n",
    "import umap\n",
    "from igraph.drawing.text import TextDrawer\n",
    "from matplotlib import pyplot as plt\n",
    "from scanpy.plotting.palettes import default_20, vega_20_scanpy\n",
    "from sklearn.cluster import AffinityPropagation, AgglomerativeClustering\n",
    "from sklearn.linear_model import LinearRegression\n",
    "from sklearn.manifold import TSNE\n",
    "from sklearn.metrics import silhouette_score\n",
    "from sklearn.metrics.pairwise import (\n",
    "    cosine_distances,\n",
    "    euclidean_distances,\n",
    "    manhattan_distances,\n",
    ")\n",
    "from tslearn.barycenters import (\n",
    "    dtw_barycenter_averaging,\n",
    "    euclidean_barycenter,\n",
    "    softdtw_barycenter,\n",
    ")\n",
    "from tslearn.metrics import cdist_soft_dtw, cdist_soft_dtw_normalized\n",
    "from tslearn.neighbors import KNeighborsTimeSeries\n",
    "\n",
    "import paulssonlab.deaton.trenchripper.trenchripper as tr\n",
    "\n",
    "hv.extension(\"bokeh\")\n",
    "random.seed(42)\n",
    "np.random.seed(42)\n",
    "\n",
    "warnings.filterwarnings(action=\"once\", category=UserWarning)"
   ]
  },
  {
   "cell_type": "markdown",
   "id": "skilled-camcorder",
   "metadata": {},
   "source": [
    "### Initial Data Processing\n",
    "\n",
    "Here, I am going to try and replicate (to some extant) the corrections from \"Genomewide phenotypic analysis of growth, cell morphogenesis, and cell cycle events in Escherichia coli\""
   ]
  },
  {
   "cell_type": "markdown",
   "id": "pursuant-trigger",
   "metadata": {},
   "source": [
    "#### Start Dask"
   ]
  },
  {
   "cell_type": "code",
   "execution_count": null,
   "id": "beautiful-litigation",
   "metadata": {
    "tags": []
   },
   "outputs": [],
   "source": [
    "dask_controller = tr.trcluster.dask_controller(\n",
    "    walltime=\"01:00:00\",\n",
    "    local=False,\n",
    "    n_workers=100,\n",
    "    n_workers_min=20,\n",
    "    memory=\"16GB\",\n",
    "    working_directory=\"/home/de64/scratch/de64/dask\",\n",
    ")\n",
    "dask_controller.startdask()"
   ]
  },
  {
   "cell_type": "code",
   "execution_count": null,
   "id": "aging-diamond",
   "metadata": {},
   "outputs": [],
   "source": [
    "dask_controller.displaydashboard()"
   ]
  },
  {
   "cell_type": "code",
   "execution_count": null,
   "id": "judicial-arizona",
   "metadata": {
    "tags": []
   },
   "outputs": [],
   "source": [
    "# dask_controller.shutdown()"
   ]
  },
  {
   "cell_type": "code",
   "execution_count": null,
   "id": "fatal-sandwich",
   "metadata": {
    "tags": []
   },
   "outputs": [],
   "source": [
    "gene_cluster_df_full_w_control = pd.read_pickle(\n",
    "    \"/home/de64/scratch/de64/sync_folder/2021-11-08_lDE20_Final_3/2021-12-07_gene_cluster_df_no_filter.pkl\"\n",
    ")\n",
    "gene_cluster_df_full = gene_cluster_df_full_w_control.dropna(\n",
    "    subset=[\"Gene\"]\n",
    ")  # no control genes\n",
    "\n",
    "gene_cluster_df_full_w_control_2 = pd.read_pickle(\n",
    "    \"/home/de64/scratch/de64/sync_folder/2022-01-20_lDE20_Final_6/2022-02-10_gene_cluster_df_no_filter.pkl\"\n",
    ")\n",
    "gene_cluster_df_full_2 = gene_cluster_df_full_w_control_2.dropna(\n",
    "    subset=[\"Gene\"]\n",
    ")  # no control genes"
   ]
  },
  {
   "cell_type": "code",
   "execution_count": null,
   "id": "ordered-russell",
   "metadata": {
    "tags": []
   },
   "outputs": [],
   "source": [
    "###HACK\n",
    "gene_cluster_df_full = gene_cluster_df_full.reset_index().set_index(\"sgRNA\")\n",
    "gene_cluster_df_full_2 = gene_cluster_df_full_2.reset_index().set_index(\"sgRNA\")"
   ]
  },
  {
   "cell_type": "code",
   "execution_count": null,
   "id": "minute-equation",
   "metadata": {},
   "outputs": [],
   "source": [
    "gene_cluster_df_full[\"Experiment #\"] = [1 for i in range(len(gene_cluster_df_full))]\n",
    "gene_cluster_df_full_2[\"Experiment #\"] = [2 for i in range(len(gene_cluster_df_full_2))]\n",
    "gene_cluster_df_full_all = pd.concat([gene_cluster_df_full, gene_cluster_df_full_2])"
   ]
  },
  {
   "cell_type": "code",
   "execution_count": null,
   "id": "systematic-behavior",
   "metadata": {},
   "outputs": [],
   "source": [
    "gene_cluster_df_full_all = (\n",
    "    gene_cluster_df_full_all.reset_index(drop=False)\n",
    "    .set_index([\"sgRNA\", \"Experiment #\"])\n",
    "    .sort_index()\n",
    ")"
   ]
  },
  {
   "cell_type": "code",
   "execution_count": null,
   "id": "minute-chile",
   "metadata": {},
   "outputs": [],
   "source": [
    "gene_cluster_df_full_all[\n",
    "    \"Experiment #\"\n",
    "] = gene_cluster_df_full_all.index.get_level_values(1)"
   ]
  },
  {
   "cell_type": "markdown",
   "id": "detailed-robin",
   "metadata": {},
   "source": [
    "## 1) Global Analysis - KNN, Leiden, UMAP and PAGA"
   ]
  },
  {
   "cell_type": "code",
   "execution_count": null,
   "id": "aquatic-introduction",
   "metadata": {},
   "outputs": [],
   "source": [
    "def parallel_norm_soft_dtw(X, chunk_size=200):\n",
    "    X_dask = da.from_array(X, chunks=(chunk_size, X.shape[1], X.shape[2]))\n",
    "    soft_dtw_arr = da.blockwise(\n",
    "        cdist_soft_dtw, \"ik\", X_dask, \"itd\", X_dask, \"ktd\", concatenate=True\n",
    "    ).compute()\n",
    "    d_ii = np.diag(soft_dtw_arr)\n",
    "    norm_soft_dtw_arr = soft_dtw_arr - (\n",
    "        0.5 * (d_ii.reshape((-1, 1)) + d_ii.reshape((1, -1)))\n",
    "    )\n",
    "    return norm_soft_dtw_arr"
   ]
  },
  {
   "cell_type": "markdown",
   "id": "finite-enclosure",
   "metadata": {},
   "source": [
    "### Relabel timeseries (correct this upstream later)"
   ]
  },
  {
   "cell_type": "code",
   "execution_count": null,
   "id": "widespread-tyler",
   "metadata": {},
   "outputs": [],
   "source": [
    "gene_cluster_df_full_all = gene_cluster_df_full_all.rename(\n",
    "    columns={\n",
    "        \"Kernel Trace: Division: major_axis_length: Yeo-Johnson: z score\": \"Division Length Z-score\",\n",
    "        \"Kernel Trace: Mean Linear Growth Rate: Volume: Yeo-Johnson: z score\": \"Linear Growth Rate Z-score\",\n",
    "        \"Kernel Trace: Mean Exponential Growth Rate: Volume: Yeo-Johnson: z score\": \"Exponential Growth Rate Z-score\",\n",
    "        \"Kernel Trace: Mean: minor_axis_length: Yeo-Johnson: z score\": \"Width Z-score\",\n",
    "        \"Kernel Trace: Mean: mCherry Intensity: Yeo-Johnson: z score\": \"mCherry Intensity Z-score\",\n",
    "        \"Kernel Trace: Delta time (s): Yeo-Johnson: z score\": \"Doubling Time Z-score\",\n",
    "        \"Kernel Trace: Division: major_axis_length\": \"Division Length\",\n",
    "        \"Kernel Trace: Mean Linear Growth Rate: Volume\": \"Linear Growth Rate\",\n",
    "        \"Kernel Trace: Mean Exponential Growth Rate: Volume\": \"Exponential Growth Rate\",\n",
    "        \"Kernel Trace: Mean: minor_axis_length\": \"Width\",\n",
    "        \"Kernel Trace: Mean: mCherry Intensity\": \"mCherry Intensity\",\n",
    "        \"Kernel Trace: Delta time (s)\": \"Doubling Time\",\n",
    "    }\n",
    ")"
   ]
  },
  {
   "cell_type": "markdown",
   "id": "documentary-recovery",
   "metadata": {
    "tags": []
   },
   "source": [
    "### Take mean z-scores over the timeseries"
   ]
  },
  {
   "cell_type": "code",
   "execution_count": null,
   "id": "dental-person",
   "metadata": {},
   "outputs": [],
   "source": [
    "traces = [\n",
    "    \"Linear Growth Rate\",\n",
    "    \"Exponential Growth Rate\",\n",
    "    \"Division Length\",\n",
    "    \"Width\",\n",
    "    \"mCherry Intensity\",\n",
    "    \"Doubling Time\",\n",
    "]\n",
    "\n",
    "zscore_traces = [trace + \" Z-score\" for trace in traces]\n",
    "\n",
    "for trace in traces:\n",
    "    avg = gene_cluster_df_full_all.apply(lambda x: np.mean(x[trace]), axis=1)\n",
    "    gene_cluster_df_full_all[trace + \": Mean\"] = avg\n",
    "\n",
    "for zscore_trace in zscore_traces:\n",
    "    avg_zscore = gene_cluster_df_full_all.apply(\n",
    "        lambda x: np.mean(x[zscore_trace]), axis=1\n",
    "    )\n",
    "    gene_cluster_df_full_all[zscore_trace + \": Mean\"] = avg_zscore"
   ]
  },
  {
   "cell_type": "markdown",
   "id": "choice-julian",
   "metadata": {},
   "source": [
    "### Filter for strong effects by taking max over integrated zscores"
   ]
  },
  {
   "cell_type": "code",
   "execution_count": null,
   "id": "printable-share",
   "metadata": {},
   "outputs": [],
   "source": [
    "min_feature_thr = 30\n",
    "\n",
    "gene_cluster_df_filtered = gene_cluster_df_full_all[\n",
    "    gene_cluster_df_full_all[\"Integrated Feature Max\"] > min_feature_thr\n",
    "]"
   ]
  },
  {
   "cell_type": "code",
   "execution_count": null,
   "id": "reserved-silly",
   "metadata": {},
   "outputs": [],
   "source": [
    "plt.hist(\n",
    "    gene_cluster_df_full[\n",
    "        gene_cluster_df_full[\"Integrated Feature Max\"] > min_feature_thr\n",
    "    ][\"Integrated Feature Max\"],\n",
    "    bins=50,\n",
    "    range=(0, 50),\n",
    ")\n",
    "plt.hist(\n",
    "    gene_cluster_df_full[\n",
    "        gene_cluster_df_full[\"Integrated Feature Max\"] < min_feature_thr\n",
    "    ][\"Integrated Feature Max\"],\n",
    "    bins=50,\n",
    "    range=(0, 50),\n",
    ")\n",
    "plt.show()"
   ]
  },
  {
   "cell_type": "markdown",
   "id": "spare-delight",
   "metadata": {},
   "source": [
    "### soft-DTW Calculation"
   ]
  },
  {
   "cell_type": "code",
   "execution_count": null,
   "id": "tropical-chart",
   "metadata": {
    "tags": []
   },
   "outputs": [],
   "source": [
    "X = np.array(gene_cluster_df_filtered[\"Feature Vector\"].tolist())\n",
    "X = np.swapaxes(X, 1, 2)\n",
    "norm_soft_dtw_arr = parallel_norm_soft_dtw(X)"
   ]
  },
  {
   "cell_type": "markdown",
   "id": "continued-ensemble",
   "metadata": {},
   "source": [
    "### Initialize Anndata Object"
   ]
  },
  {
   "cell_type": "code",
   "execution_count": null,
   "id": "middle-regular",
   "metadata": {},
   "outputs": [],
   "source": [
    "an_df = anndata.AnnData(\n",
    "    X=X.reshape(X.shape[0], -1), obs=gene_cluster_df_filtered\n",
    ")  # AnnData container to use scanpy functions with unwrapped time vector"
   ]
  },
  {
   "cell_type": "markdown",
   "id": "documented-quarterly",
   "metadata": {},
   "source": [
    "### Compute KNN Graph\n",
    "\n",
    "tune hyperparam search for co-clustering sgRNAs from same genes"
   ]
  },
  {
   "cell_type": "code",
   "execution_count": null,
   "id": "rapid-cream",
   "metadata": {
    "tags": []
   },
   "outputs": [],
   "source": [
    "n_neighbors = 15\n",
    "n_pcs = 20  # This shouldn't affect anything\n",
    "\n",
    "sc.pp.neighbors(an_df, n_neighbors=n_neighbors, n_pcs=n_pcs)\n",
    "knn_indices, knn_dists, forest = sc.neighbors.compute_neighbors_umap(\n",
    "    norm_soft_dtw_arr, n_neighbors=n_neighbors, metric=\"precomputed\"\n",
    ")\n",
    "(\n",
    "    an_df.uns[\"neighbors\"][\"distances\"],\n",
    "    an_df.uns[\"neighbors\"][\"connectivities\"],\n",
    ") = sc.neighbors._compute_connectivities_umap(\n",
    "    knn_indices,\n",
    "    knn_dists,\n",
    "    an_df.shape[0],\n",
    "    n_neighbors,  # change to neighbors you plan to use\n",
    ")\n",
    "an_df.obsp[\"distances\"] = an_df.uns[\"neighbors\"][\"distances\"]\n",
    "an_df.obsp[\"connectivities\"] = an_df.uns[\"neighbors\"][\"connectivities\"]\n",
    "an_df.obsp[\"soft_dtw\"] = norm_soft_dtw_arr"
   ]
  },
  {
   "cell_type": "markdown",
   "id": "conscious-dimension",
   "metadata": {},
   "source": [
    "### Computing Leiden, PAGA and UMAP\n",
    "\n",
    "Note that the lower resolution UMAP was set to the same UMAP positions as the higher resolution UMAP"
   ]
  },
  {
   "cell_type": "code",
   "execution_count": null,
   "id": "norman-religion",
   "metadata": {
    "tags": []
   },
   "outputs": [],
   "source": [
    "min_dist = 0.1\n",
    "spread = 5.0\n",
    "# spread = 1.\n",
    "\n",
    "paga_df_dict = {}\n",
    "for resolution in [0.25, 1.0, 1.5, 3.0]:\n",
    "    paga_df_dict[resolution] = copy.deepcopy(an_df)\n",
    "    sc.tl.leiden(paga_df_dict[resolution], resolution=resolution, n_iterations=-1)\n",
    "    sc.tl.paga(paga_df_dict[resolution], groups=\"leiden\")\n",
    "    sc.pl.paga(paga_df_dict[resolution], add_pos=True, show=False)\n",
    "sc.tl.umap(paga_df_dict[1.0], init_pos=\"paga\", min_dist=min_dist, spread=spread)\n",
    "paga_df_dict[1.0].obs[\"leiden_lowres\"] = paga_df_dict[0.25].obs[\"leiden\"]\n",
    "paga_df_dict[1.0].obs[\"leiden_highres\"] = paga_df_dict[1.5].obs[\"leiden\"]\n",
    "paga_df_dict[1.0].obs[\"leiden_ultrahighres\"] = paga_df_dict[3.0].obs[\"leiden\"]\n",
    "paga_df = paga_df_dict[1.0]"
   ]
  },
  {
   "cell_type": "code",
   "execution_count": null,
   "id": "suitable-parcel",
   "metadata": {
    "tags": []
   },
   "outputs": [],
   "source": [
    "fig = sc.pl.umap(\n",
    "    paga_df,\n",
    "    color=[\"leiden_lowres\", \"leiden\", \"leiden_highres\", \"leiden_ultrahighres\"],\n",
    "    title=[\n",
    "        \"Leiden Resolution=0.25\",\n",
    "        \"Leiden Resolution=1.\",\n",
    "        \"Leiden Resolution=1.5\",\n",
    "        \"Leiden Resolution=3.\",\n",
    "    ],\n",
    "    show=False,\n",
    "    legend_loc=\"on data\",\n",
    "    edges=True,\n",
    "    add_outline=False,\n",
    "    size=100,\n",
    "    return_fig=True,\n",
    "    palette=vega_20_scanpy,\n",
    "    ncols=2,\n",
    ")\n",
    "axes = fig.get_axes()\n",
    "for ax in axes:\n",
    "    ax.set_title(ax.get_title(), fontsize=18)\n",
    "    ax.set_ylabel(ax.get_ylabel(), fontsize=18)\n",
    "    ax.set_xlabel(ax.get_xlabel(), fontsize=18)\n",
    "# fig.savefig(\"./Global_PAGA.png\",dpi=500)"
   ]
  },
  {
   "cell_type": "code",
   "execution_count": null,
   "id": "sufficient-philadelphia",
   "metadata": {},
   "outputs": [],
   "source": [
    "paga_df.obs[\"Experiment #\"] = paga_df.obs[\"Experiment #\"].astype(\"category\")"
   ]
  },
  {
   "cell_type": "code",
   "execution_count": null,
   "id": "honest-turtle",
   "metadata": {},
   "outputs": [],
   "source": [
    "fig = sc.pl.umap(\n",
    "    paga_df,\n",
    "    color=[\"Experiment #\"],\n",
    "    title=[\"Experiment #\"],\n",
    "    show=False,\n",
    "    edges=False,\n",
    "    add_outline=False,\n",
    "    size=10,\n",
    "    return_fig=True,\n",
    "    ncols=2,\n",
    ")"
   ]
  },
  {
   "cell_type": "code",
   "execution_count": null,
   "id": "therapeutic-airfare",
   "metadata": {},
   "outputs": [],
   "source": [
    "paga_df.obs"
   ]
  },
  {
   "cell_type": "markdown",
   "id": "adjusted-progressive",
   "metadata": {},
   "source": [
    "### Plotting Mean Z-scores, Euclidean Norm, and N Match"
   ]
  },
  {
   "cell_type": "code",
   "execution_count": null,
   "id": "signal-digit",
   "metadata": {
    "tags": []
   },
   "outputs": [],
   "source": [
    "paga_df.obs[\"N Match\"] = 20.0 - paga_df.obs[\"N Mismatch\"]\n",
    "del_N_match_series = paga_df.obs.groupby(\"TargetID\").apply(\n",
    "    lambda x: x[\"N Match\"] - np.min(x[\"N Match\"])\n",
    ")\n",
    "del_N_match_series = del_N_match_series.droplevel(\"TargetID\")\n",
    "paga_df.obs[\"Delta N Match\"] = del_N_match_series"
   ]
  },
  {
   "cell_type": "code",
   "execution_count": null,
   "id": "incorrect-playing",
   "metadata": {
    "tags": []
   },
   "outputs": [],
   "source": [
    "labels = [zscore_trace + \": Mean\" for zscore_trace in zscore_traces]\n",
    "\n",
    "fig = sc.pl.umap(\n",
    "    paga_df,\n",
    "    color=labels,\n",
    "    show=False,\n",
    "    legend_loc=\"on data\",\n",
    "    add_outline=False,\n",
    "    size=50,\n",
    "    return_fig=True,\n",
    "    vcenter=0.0,\n",
    "    cmap=\"RdBu_r\",\n",
    "    wspace=0.25,\n",
    "    ncols=3,\n",
    ")\n",
    "\n",
    "axes = fig.get_axes()\n",
    "for ax in axes:\n",
    "    ax.set_title(ax.get_title(), fontsize=18)\n",
    "    ax.set_ylabel(ax.get_ylabel(), fontsize=18)\n",
    "    ax.set_xlabel(ax.get_xlabel(), fontsize=18)\n",
    "\n",
    "# fig.savefig(\"./Mean_zscores.png\",dpi=300)"
   ]
  },
  {
   "cell_type": "code",
   "execution_count": null,
   "id": "broke-depth",
   "metadata": {},
   "outputs": [],
   "source": [
    "labels = [trace + \": Mean\" for trace in traces]\n",
    "\n",
    "fig = sc.pl.umap(\n",
    "    paga_df,\n",
    "    color=labels,\n",
    "    show=False,\n",
    "    legend_loc=\"on data\",\n",
    "    add_outline=False,\n",
    "    size=50,\n",
    "    return_fig=True,\n",
    "    cmap=\"RdBu_r\",\n",
    ")\n",
    "# fig.savefig(\"./1_Global_Analysis/Mean.png\",dpi=300)"
   ]
  },
  {
   "cell_type": "code",
   "execution_count": null,
   "id": "ignored-interstate",
   "metadata": {},
   "outputs": [],
   "source": [
    "labels = [\"Delta N Match\", \"Integrated Euclidean Norm\"]\n",
    "\n",
    "fig = sc.pl.umap(\n",
    "    paga_df,\n",
    "    color=labels,\n",
    "    show=False,\n",
    "    legend_loc=\"on data\",\n",
    "    add_outline=False,\n",
    "    size=50,\n",
    "    return_fig=True,\n",
    "    vcenter=0.0,\n",
    "    cmap=\"RdBu_r\",\n",
    ")\n",
    "# fig.savefig(\"./1_Global_Analysis/Match_and_Euc_Norm.png\",dpi=300)"
   ]
  },
  {
   "cell_type": "markdown",
   "id": "random-franklin",
   "metadata": {},
   "source": [
    "### Highlight Genes of Interest"
   ]
  },
  {
   "cell_type": "code",
   "execution_count": null,
   "id": "continued-development",
   "metadata": {},
   "outputs": [],
   "source": [
    "import goatools\n",
    "import goatools.base\n",
    "from goatools.anno.gaf_reader import GafReader\n",
    "from goatools.base import download_go_basic_obo\n",
    "from goatools.go_enrichment import GOEnrichmentStudy\n",
    "from goatools.goea.go_enrichment_ns import GOEnrichmentStudyNS\n",
    "from goatools.obo_parser import GODag\n",
    "from goatools.semantic import TermCounts, get_info_content, semantic_similarity\n",
    "\n",
    "\n",
    "def search_go(ns2assoc, obodag, inv_gene_to_id, go_term):\n",
    "    namespace_abbv = {\n",
    "        \"biological_process\": \"BP\",\n",
    "        \"molecular_function\": \"MF\",\n",
    "        \"cellular_component\": \"CC\",\n",
    "    }\n",
    "\n",
    "    print(\"Searching for \" + str(obodag[go_term].name))\n",
    "    namespace = namespace_abbv[obodag[go_term].namespace]\n",
    "    child_goterms = list(obodag[go_term].get_all_children())\n",
    "    gene_list = [\n",
    "        inv_gene_to_id[key]\n",
    "        for key, val in ns2assoc[namespace].items()\n",
    "        if go_term in val\n",
    "    ]\n",
    "    for child_goterm in child_goterms:\n",
    "        gene_list += [\n",
    "            inv_gene_to_id[key]\n",
    "            for key, val in ns2assoc[namespace].items()\n",
    "            if child_goterm in val\n",
    "        ]\n",
    "    gene_list = sorted(list(set(gene_list)))\n",
    "    return gene_list\n",
    "\n",
    "\n",
    "def selection_fn(item, gene_name):\n",
    "    is_gene = item[\"Gene\"] == gene_name\n",
    "    if is_gene:\n",
    "        return item[\"TargetID\"]\n",
    "    else:\n",
    "        return 0\n",
    "\n",
    "\n",
    "def highlight_gene_group(an_df, selection_list):\n",
    "    highlight_genes_df = copy.deepcopy(an_df)\n",
    "\n",
    "    selection_list = sorted(\n",
    "        list(\n",
    "            set(highlight_genes_df.obs[\"Gene\"].unique().tolist()) & set(selection_list)\n",
    "        )\n",
    "    )\n",
    "\n",
    "    for i, selected_gene in enumerate(selection_list):\n",
    "        selected_series = (highlight_genes_df.obs[\"Gene\"] == selected_gene).astype(\n",
    "            \"category\"\n",
    "        )\n",
    "        selected_series = selected_series.cat.reorder_categories([True, False])\n",
    "        highlight_genes_df.obs[\"Selected Genes: \" + str(i)] = selected_series\n",
    "\n",
    "    selected_series = (highlight_genes_df.obs[\"Gene\"].isin(selection_list)).astype(\n",
    "        \"category\"\n",
    "    )\n",
    "    selected_series = selected_series.cat.reorder_categories([True, False])\n",
    "    highlight_genes_df.obs[\"All Genes\"] = selected_series\n",
    "\n",
    "    # selected_series = (paga_df.obs[\"Gene\"]==\"ftsZ\").astype(float)\n",
    "    # selected_series[selected_series==0.] = np.NaN\n",
    "    # paga_df.obs[\"Selected Genes\"] = selected_series\n",
    "\n",
    "    fig = sc.pl.umap(\n",
    "        highlight_genes_df,\n",
    "        title=selection_list + [\"All Genes\"],\n",
    "        color=[\"Selected Genes: \" + str(i) for i in range(len(selection_list))]\n",
    "        + [\"All Genes\"],\n",
    "        groups=[True],\n",
    "        show=False,\n",
    "        legend_loc=\"right margin\",\n",
    "        add_outline=False,\n",
    "        size=50,\n",
    "        return_fig=True,\n",
    "        palette={True: \"red\", False: \"lightgrey\"},\n",
    "    )  # palette ={}\n",
    "\n",
    "    return fig\n",
    "\n",
    "\n",
    "def highlight_sgrnas(an_df, selection_list):\n",
    "    highlight_genes_df = copy.deepcopy(an_df)\n",
    "    highlight_genes_df.obs[\"tempindex\"] = highlight_genes_df.obs.index\n",
    "\n",
    "    selection_list = sorted(\n",
    "        list(\n",
    "            set(highlight_genes_df.obs[\"tempindex\"].unique().tolist())\n",
    "            & set(selection_list)\n",
    "        )\n",
    "    )\n",
    "    selected_series = (highlight_genes_df.obs[\"tempindex\"].isin(selection_list)).astype(\n",
    "        \"category\"\n",
    "    )\n",
    "    selected_series = selected_series.cat.reorder_categories([True, False])\n",
    "    highlight_genes_df.obs[\"All sgRNAs\"] = selected_series\n",
    "\n",
    "    # selected_series = (paga_df.obs[\"Gene\"]==\"ftsZ\").astype(float)\n",
    "    # selected_series[selected_series==0.] = np.NaN\n",
    "    # paga_df.obs[\"Selected Genes\"] = selected_series\n",
    "\n",
    "    fig = sc.pl.umap(\n",
    "        highlight_genes_df,\n",
    "        title=\"All sgRNAs\",\n",
    "        color=\"All sgRNAs\",\n",
    "        groups=[True],\n",
    "        show=False,\n",
    "        legend_loc=\"right margin\",\n",
    "        add_outline=False,\n",
    "        size=50,\n",
    "        return_fig=True,\n",
    "        palette={True: \"red\", False: \"lightgrey\"},\n",
    "    )  # palette ={}\n",
    "\n",
    "    return fig"
   ]
  },
  {
   "cell_type": "code",
   "execution_count": null,
   "id": "formal-worthy",
   "metadata": {},
   "outputs": [],
   "source": [
    "# Get ontologies\n",
    "obo_fname = download_go_basic_obo()\n",
    "\n",
    "# Get ecoli association file (ecocyc)\n",
    "gaf_handle = goatools.base.http_get(\n",
    "    \"http://current.geneontology.org/annotations/ecocyc.gaf.gz\", fout=\"./ecocyc.gaf.gz\"\n",
    ")\n",
    "gaf_fname = goatools.base.gunzip(\"./ecocyc.gaf.gz\")\n",
    "\n",
    "## Getting ontologies and other nonesense\n",
    "\n",
    "obodag = GODag(obo_fname)\n",
    "objanno = GafReader(gaf_fname)\n",
    "ns2assoc = objanno.get_ns2assc()\n",
    "\n",
    "gene_to_id = {assoc.DB_Symbol: assoc.DB_ID for assoc in objanno.associations}\n",
    "inv_gene_to_id = {assoc.DB_ID: assoc.DB_Symbol for assoc in objanno.associations}\n",
    "synonym_dict = {\n",
    "    synonym: assoc.DB_ID\n",
    "    for assoc in objanno.associations\n",
    "    for synonym in assoc.DB_Synonym\n",
    "}\n",
    "gene_to_id.update(synonym_dict)"
   ]
  },
  {
   "cell_type": "code",
   "execution_count": null,
   "id": "proud-panic",
   "metadata": {},
   "outputs": [],
   "source": [
    "fig = highlight_sgrnas(\n",
    "    paga_df, paga_df.obs[paga_df.obs[\"Gene\"].apply(lambda x: \"fts\" in x)].index.tolist()\n",
    ")\n",
    "axes = fig.get_axes()\n",
    "for ax in axes:\n",
    "    ax.set_title(\"fts Genes\", fontsize=18)\n",
    "    ax.set_ylabel(ax.get_ylabel(), fontsize=18)\n",
    "    ax.set_xlabel(ax.get_xlabel(), fontsize=18)\n",
    "fig.savefig(\"./fts_genes.png\", dpi=500)"
   ]
  },
  {
   "cell_type": "code",
   "execution_count": null,
   "id": "numeric-administrator",
   "metadata": {},
   "outputs": [],
   "source": [
    "fig = highlight_sgrnas(\n",
    "    paga_df,\n",
    "    paga_df.obs[\n",
    "        paga_df.obs[\"Gene\"].apply(lambda x: (\"rps\" in x) | (\"rpm\" in x) | (\"rpl\" in x))\n",
    "    ].index.tolist(),\n",
    ")\n",
    "axes = fig.get_axes()\n",
    "for ax in axes:\n",
    "    ax.set_title(\"Ribosomal Protein Genes\", fontsize=18)\n",
    "    ax.set_ylabel(ax.get_ylabel(), fontsize=18)\n",
    "    ax.set_xlabel(ax.get_xlabel(), fontsize=18)\n",
    "fig.savefig(\"./ribosomal_protein_genes.png\", dpi=500)"
   ]
  },
  {
   "cell_type": "code",
   "execution_count": null,
   "id": "otherwise-recall",
   "metadata": {},
   "outputs": [],
   "source": [
    "tRNA_aminoacylation_genes = search_go(ns2assoc, obodag, inv_gene_to_id, \"GO:0043039\")\n",
    "\n",
    "fig = highlight_sgrnas(\n",
    "    paga_df,\n",
    "    paga_df.obs[\n",
    "        paga_df.obs[\"Gene\"].apply(lambda x: x in tRNA_aminoacylation_genes)\n",
    "    ].index.tolist(),\n",
    ")\n",
    "axes = fig.get_axes()\n",
    "for ax in axes:\n",
    "    ax.set_title(\"tRNA Aminoacetylation Genes\", fontsize=18)\n",
    "    ax.set_ylabel(ax.get_ylabel(), fontsize=18)\n",
    "    ax.set_xlabel(ax.get_xlabel(), fontsize=18)\n",
    "fig.savefig(\"./tRNA_aminoacetylation_genes.png\", dpi=500)"
   ]
  },
  {
   "cell_type": "code",
   "execution_count": null,
   "id": "sensitive-single",
   "metadata": {},
   "outputs": [],
   "source": [
    "fig = highlight_sgrnas(\n",
    "    paga_df,\n",
    "    paga_df.obs[\n",
    "        paga_df.obs[\"Gene\"].apply(lambda x: (\"tufA\" in x) | (\"tufB\" in x))\n",
    "    ].index.tolist(),\n",
    ")\n",
    "axes = fig.get_axes()\n",
    "for ax in axes:\n",
    "    ax.set_title(\"tufAB Genes\", fontsize=18)\n",
    "    ax.set_ylabel(ax.get_ylabel(), fontsize=18)\n",
    "    ax.set_xlabel(ax.get_xlabel(), fontsize=18)\n",
    "fig.savefig(\"./eftu.png\", dpi=500)"
   ]
  },
  {
   "cell_type": "code",
   "execution_count": null,
   "id": "minor-patent",
   "metadata": {},
   "outputs": [],
   "source": [
    "tRNA_list = [\n",
    "    \"alaW\",\n",
    "    \"alaX\",\n",
    "    \"alaV\",\n",
    "    \"alaU\",\n",
    "    \"alaT\",\n",
    "    \"argY\",\n",
    "    \"argZ\",\n",
    "    \"argQ\",\n",
    "    \"argV\",\n",
    "    \"argX\",\n",
    "    \"argW\",\n",
    "    \"argU\",\n",
    "    \"asnU\",\n",
    "    \"asnW\",\n",
    "    \"asnT\",\n",
    "    \"asnV\",\n",
    "    \"aspV\",\n",
    "    \"aspT\",\n",
    "    \"aspU\",\n",
    "    \"cysT\",\n",
    "    \"glnX\",\n",
    "    \"glnV\",\n",
    "    \"glnW\",\n",
    "    \"glnU\",\n",
    "    \"gltT\",\n",
    "    \"gltU\",\n",
    "    \"gltV\",\n",
    "    \"gltW\",\n",
    "    \"glyU\",\n",
    "    \"glyW\",\n",
    "    \"glyX\",\n",
    "    \"glyY\",\n",
    "    \"glyV\",\n",
    "    \"glyT\",\n",
    "    \"hisR\",\n",
    "    \"ileY\",\n",
    "    \"ileX\",\n",
    "    \"ileV\",\n",
    "    \"ileT\",\n",
    "    \"ileU\",\n",
    "    \"metZ\",\n",
    "    \"metV\",\n",
    "    \"metW\",\n",
    "    \"metY\",\n",
    "    \"leuX\",\n",
    "    \"leuV\",\n",
    "    \"leuT\",\n",
    "    \"leuP\",\n",
    "    \"leuQ\",\n",
    "    \"leuU\",\n",
    "    \"leuZ\",\n",
    "    \"leuW\",\n",
    "    \"lysT\",\n",
    "    \"lysY\",\n",
    "    \"lysV\",\n",
    "    \"lysZ\",\n",
    "    \"lysW\",\n",
    "    \"lysQ\",\n",
    "    \"metU\",\n",
    "    \"metT\",\n",
    "    \"pheU\",\n",
    "    \"pheV\",\n",
    "    \"proK\",\n",
    "    \"proL\",\n",
    "    \"proM\",\n",
    "    \"selC\",\n",
    "    \"serU\",\n",
    "    \"serV\",\n",
    "    \"serW\",\n",
    "    \"serX\",\n",
    "    \"serT\",\n",
    "    \"thrW\",\n",
    "    \"thrV\",\n",
    "    \"thrT\",\n",
    "    \"thrU\",\n",
    "    \"trpT\",\n",
    "    \"tyrV\",\n",
    "    \"tyrT\",\n",
    "    \"tyrU\",\n",
    "    \"valV\",\n",
    "    \"valW\",\n",
    "    \"valT\",\n",
    "    \"valY\",\n",
    "    \"valU\",\n",
    "    \"valX\",\n",
    "    \"valZ\",\n",
    "]\n",
    "\n",
    "fig = highlight_sgrnas(\n",
    "    paga_df,\n",
    "    paga_df.obs[paga_df.obs[\"Gene\"].apply(lambda x: x in tRNA_list)].index.tolist(),\n",
    ")\n",
    "axes = fig.get_axes()\n",
    "for ax in axes:\n",
    "    ax.set_title(\"tRNA Genes\", fontsize=18)\n",
    "    ax.set_ylabel(ax.get_ylabel(), fontsize=18)\n",
    "    ax.set_xlabel(ax.get_xlabel(), fontsize=18)\n",
    "fig.savefig(\"./tRNA_genes.png\", dpi=500)"
   ]
  },
  {
   "cell_type": "code",
   "execution_count": null,
   "id": "incorporated-characteristic",
   "metadata": {},
   "outputs": [],
   "source": [
    "fts_genes = (\n",
    "    paga_df.obs[\"Gene\"][\n",
    "        paga_df.obs[\"Gene\"].apply(lambda x: (\"rplJ\" in x) | (\"rplL\" in x))\n",
    "    ]\n",
    "    .unique()\n",
    "    .tolist()\n",
    ")\n",
    "fig = highlight_gene_group(paga_df, fts_genes)\n",
    "axes = fig.get_axes()\n",
    "for ax in axes:\n",
    "    ax.set_title(ax.get_title(), fontsize=18)\n",
    "    ax.set_ylabel(ax.get_ylabel(), fontsize=18)\n",
    "    ax.set_xlabel(ax.get_xlabel(), fontsize=18)\n",
    "fig.savefig(\"./ribostalk.png\", dpi=500)"
   ]
  },
  {
   "cell_type": "code",
   "execution_count": null,
   "id": "massive-orlando",
   "metadata": {
    "tags": []
   },
   "outputs": [],
   "source": [
    "rne_genes = (\n",
    "    paga_df.obs[\"Gene\"][\n",
    "        paga_df.obs[\"Gene\"].isin([\"dnaA\", \"dnaB\", \"dnaE\", \"rne\", \"rnhB\"])\n",
    "    ]\n",
    "    .unique()\n",
    "    .tolist()\n",
    ")\n",
    "fig = highlight_gene_group(paga_df, rne_genes)\n",
    "# fig.savefig(\"./1_Global_Analysis/Highlight_Genes/fts_genes.png\",dpi=150)"
   ]
  },
  {
   "cell_type": "code",
   "execution_count": null,
   "id": "tough-gasoline",
   "metadata": {},
   "outputs": [],
   "source": [
    "fts_genes = (\n",
    "    paga_df.obs[\"Gene\"][paga_df.obs[\"Gene\"].apply(lambda x: \"fts\" in x)]\n",
    "    .unique()\n",
    "    .tolist()\n",
    ")\n",
    "fig = highlight_gene_group(paga_df, fts_genes)\n",
    "# fig.savefig(\"./1_Global_Analysis/Highlight_Genes/fts_genes.png\",dpi=150)"
   ]
  },
  {
   "cell_type": "code",
   "execution_count": null,
   "id": "behavioral-vancouver",
   "metadata": {},
   "outputs": [],
   "source": [
    "mre_genes = (\n",
    "    paga_df.obs[\"Gene\"][paga_df.obs[\"Gene\"].apply(lambda x: \"mre\" in x)]\n",
    "    .unique()\n",
    "    .tolist()\n",
    ")\n",
    "fig = highlight_gene_group(paga_df, mre_genes)\n",
    "# fig.savefig(\"./1_Global_Analysis/Highlight_Genes/fts_genes.png\",dpi=150)"
   ]
  },
  {
   "cell_type": "code",
   "execution_count": null,
   "id": "endless-toilet",
   "metadata": {},
   "outputs": [],
   "source": [
    "sec_and_bam_genes = (\n",
    "    paga_df.obs[\"Gene\"][\n",
    "        paga_df.obs[\"Gene\"].apply(\n",
    "            lambda x: (\"sec\" in x) or (\"bam\" in x) or (\"yidC\" in x) or (\"yajC\" in x)\n",
    "        )\n",
    "    ]\n",
    "    .unique()\n",
    "    .tolist()\n",
    ")\n",
    "fig = highlight_gene_group(paga_df, sec_and_bam_genes)\n",
    "# fig.savefig(\"./1_Global_Analysis/Highlight_Genes/sec_and_bam_genes.png\",dpi=150)"
   ]
  },
  {
   "cell_type": "code",
   "execution_count": null,
   "id": "operational-knock",
   "metadata": {},
   "outputs": [],
   "source": [
    "hol_genes = (\n",
    "    paga_df.obs[\"Gene\"][paga_df.obs[\"Gene\"].apply(lambda x: (\"hol\" in x))]\n",
    "    .unique()\n",
    "    .tolist()\n",
    ")\n",
    "fig = highlight_gene_group(paga_df, hol_genes)\n",
    "fig.savefig(\"./1_Global_Analysis/Highlight_Genes/hol_genes.png\", dpi=150)"
   ]
  },
  {
   "cell_type": "code",
   "execution_count": null,
   "id": "quarterly-sharp",
   "metadata": {},
   "outputs": [],
   "source": [
    "rpo_genes = (\n",
    "    paga_df.obs[\"Gene\"][paga_df.obs[\"Gene\"].apply(lambda x: (\"rpo\" in x))]\n",
    "    .unique()\n",
    "    .tolist()\n",
    ")\n",
    "fig = highlight_gene_group(paga_df, rpo_genes)\n",
    "fig.savefig(\"./1_Global_Analysis/Highlight_Genes/rpo_genes.png\", dpi=150)"
   ]
  },
  {
   "cell_type": "code",
   "execution_count": null,
   "id": "running-houston",
   "metadata": {
    "tags": []
   },
   "outputs": [],
   "source": [
    "all_genes = paga_df.obs[\"Gene\"].unique().tolist()\n",
    "step = 75\n",
    "for idx, i in enumerate(list(range(0, len(all_genes), step))):\n",
    "    all_genes_sub = all_genes[i : i + step]\n",
    "    fig = highlight_gene_group(paga_df, all_genes_sub)\n",
    "    fig.savefig(\n",
    "        \"./1_Global_Analysis/Highlight_Genes/All_Genes/all_genes_\" + str(idx) + \".png\",\n",
    "        dpi=75,\n",
    "    )"
   ]
  },
  {
   "cell_type": "markdown",
   "id": "danish-rogers",
   "metadata": {},
   "source": [
    "### Highlight Genes of Interest (by GO)"
   ]
  },
  {
   "cell_type": "code",
   "execution_count": null,
   "id": "threatened-blackjack",
   "metadata": {},
   "outputs": [],
   "source": [
    "division_genes = search_go(ns2assoc, obodag, inv_gene_to_id, \"GO:0051301\")\n",
    "fig = highlight_gene_group(paga_df, division_genes)\n",
    "fig.savefig(\"./1_Global_Analysis/Highlight_Genes/division_genes.png\", dpi=150)"
   ]
  },
  {
   "cell_type": "code",
   "execution_count": null,
   "id": "persistent-remainder",
   "metadata": {},
   "outputs": [],
   "source": [
    "ribosome_genes = search_go(ns2assoc, obodag, inv_gene_to_id, \"GO:0005840\")\n",
    "fig = highlight_gene_group(paga_df, ribosome_genes)\n",
    "fig.savefig(\"./1_Global_Analysis/Highlight_Genes/ribosome_genes.png\", dpi=150)"
   ]
  },
  {
   "cell_type": "code",
   "execution_count": null,
   "id": "flying-tactics",
   "metadata": {},
   "outputs": [],
   "source": [
    "peptidoglycan_genes = search_go(ns2assoc, obodag, inv_gene_to_id, \"GO:0000270\")\n",
    "fig = highlight_gene_group(paga_df, peptidoglycan_genes)\n",
    "fig.savefig(\"./1_Global_Analysis/Highlight_Genes/peptidoglycan_genes.png\", dpi=150)"
   ]
  },
  {
   "cell_type": "code",
   "execution_count": null,
   "id": "tough-lawsuit",
   "metadata": {},
   "outputs": [],
   "source": [
    "replication_genes = search_go(ns2assoc, obodag, inv_gene_to_id, \"GO:0006260\")\n",
    "fig = highlight_gene_group(paga_df, replication_genes)\n",
    "fig.savefig(\"./1_Global_Analysis/Highlight_Genes/replication_genes.png\", dpi=150)"
   ]
  },
  {
   "cell_type": "code",
   "execution_count": null,
   "id": "buried-glory",
   "metadata": {},
   "outputs": [],
   "source": [
    "initiation_genes = search_go(ns2assoc, obodag, inv_gene_to_id, \"GO:0006270\")\n",
    "fig = highlight_gene_group(paga_df, initiation_genes)\n",
    "fig.savefig(\"./1_Global_Analysis/Highlight_Genes/initiation_genes.png\", dpi=150)"
   ]
  },
  {
   "cell_type": "code",
   "execution_count": null,
   "id": "matched-traffic",
   "metadata": {},
   "outputs": [],
   "source": [
    "shape_genes = search_go(ns2assoc, obodag, inv_gene_to_id, \"GO:0008360\")\n",
    "fig = highlight_gene_group(paga_df, shape_genes)\n",
    "fig.savefig(\"./1_Global_Analysis/Highlight_Genes/shape_genes.png\", dpi=150)"
   ]
  },
  {
   "cell_type": "markdown",
   "id": "focal-cabinet",
   "metadata": {},
   "source": [
    "## 2) Cluster Analysis"
   ]
  },
  {
   "cell_type": "markdown",
   "id": "eastern-point",
   "metadata": {},
   "source": [
    "### GO Term Enrichment"
   ]
  },
  {
   "cell_type": "code",
   "execution_count": null,
   "id": "suspended-jones",
   "metadata": {},
   "outputs": [],
   "source": [
    "import goatools\n",
    "import goatools.base\n",
    "from goatools.anno.gaf_reader import GafReader\n",
    "from goatools.base import download_go_basic_obo\n",
    "from goatools.go_enrichment import GOEnrichmentStudy\n",
    "from goatools.goea.go_enrichment_ns import GOEnrichmentStudyNS\n",
    "from goatools.obo_parser import GODag\n",
    "from goatools.semantic import TermCounts, get_info_content, semantic_similarity\n",
    "\n",
    "\n",
    "def search_go(ns2assoc, obodag, inv_gene_to_id, go_term):\n",
    "    namespace_abbv = {\n",
    "        \"biological_process\": \"BP\",\n",
    "        \"molecular_function\": \"MF\",\n",
    "        \"cellular_component\": \"CC\",\n",
    "    }\n",
    "\n",
    "    print(\"Searching for \" + str(obodag[go_term].name))\n",
    "    namespace = namespace_abbv[obodag[go_term].namespace]\n",
    "    child_goterms = list(obodag[go_term].get_all_children())\n",
    "    gene_list = [\n",
    "        inv_gene_to_id[key]\n",
    "        for key, val in ns2assoc[namespace].items()\n",
    "        if go_term in val\n",
    "    ]\n",
    "    for child_goterm in child_goterms:\n",
    "        gene_list += [\n",
    "            inv_gene_to_id[key]\n",
    "            for key, val in ns2assoc[namespace].items()\n",
    "            if child_goterm in val\n",
    "        ]\n",
    "    gene_list = sorted(list(set(gene_list)))\n",
    "    return gene_list\n",
    "\n",
    "\n",
    "def get_enriched_GO_terms(\n",
    "    background_gene_list, gene_list, obodag, objanno, ns2assoc, pval=0.05, GO_type=\"BP\"\n",
    "):\n",
    "    gene_to_id = {assoc.DB_Symbol: assoc.DB_ID for assoc in objanno.associations}\n",
    "    synonym_dict = {\n",
    "        synonym: assoc.DB_ID\n",
    "        for assoc in objanno.associations\n",
    "        for synonym in assoc.DB_Synonym\n",
    "    }\n",
    "    gene_to_id.update(synonym_dict)\n",
    "\n",
    "    # background gene set\n",
    "\n",
    "    all_genes_uniprot = [\n",
    "        gene_to_id[item] for item in background_gene_list if item in gene_to_id.keys()\n",
    "    ]\n",
    "    selected_genes_uniprot = [\n",
    "        gene_to_id[item] for item in gene_list if item in gene_to_id.keys()\n",
    "    ]\n",
    "\n",
    "    print(len(all_genes_uniprot))\n",
    "    print(len(selected_genes_uniprot))\n",
    "\n",
    "    goeaobj = GOEnrichmentStudy(\n",
    "        all_genes_uniprot,  # List of mouse protein-coding genes\n",
    "        ns2assoc[GO_type],  # geneid/GO associations\n",
    "        obodag,  # Ontologies\n",
    "        propagate_counts=True,\n",
    "        alpha=pval,  # default significance cut-off\n",
    "        methods=[\"fdr_bh\"],\n",
    "    )\n",
    "    # defult multipletest correction method\n",
    "\n",
    "    goea_results_all = goeaobj.run_study(selected_genes_uniprot, prt=None)\n",
    "    goea_quiet_sig = [r for r in goea_results_all if r.p_fdr_bh < pval]\n",
    "    goea_quiet_enriched = [r for r in goea_quiet_sig if r.enrichment == \"e\"]\n",
    "    return goea_quiet_enriched\n",
    "\n",
    "\n",
    "def pick_exemplar(go1, go2, termcounts, obodag, info_thr, pval_factor=2.0):\n",
    "    info_1_low = get_info_content(go1.GO, termcounts) < info_thr\n",
    "    info_2_low = get_info_content(go2.GO, termcounts) < info_thr\n",
    "    if info_1_low and not info_2_low:\n",
    "        return go2\n",
    "    elif info_2_low and not info_1_low:\n",
    "        return go1\n",
    "    elif info_2_low and info_1_low:\n",
    "        return go1\n",
    "\n",
    "    pval_ratio = go1.p_fdr_bh / go2.p_fdr_bh\n",
    "\n",
    "    if pval_ratio > pval_factor:\n",
    "        return go2\n",
    "    elif pval_ratio < (1.0 / pval_factor):\n",
    "        return go1\n",
    "\n",
    "    go1_parents = list(obodag[go1.GO].get_all_parents())\n",
    "    go2_parents = list(obodag[go2.GO].get_all_parents())\n",
    "\n",
    "    if go2.GO in go1_parents:\n",
    "        return go2\n",
    "\n",
    "    elif go1.GO in go2_parents:\n",
    "        return go1\n",
    "\n",
    "    return go1\n",
    "\n",
    "\n",
    "def get_filtered_go_terms(\n",
    "    obodag, objanno, goea_list, sim_thr=0.05, info_thr=1.0, GO_type=\"BP\"\n",
    "):\n",
    "    termcounts = TermCounts(obodag, objanno.get_ns2assc()[GO_type])\n",
    "\n",
    "    go_term_list = [item.GO for item in goea_list]\n",
    "    sim_arr = np.zeros((len(go_term_list), len(go_term_list)))\n",
    "    for i in range(len(go_term_list)):\n",
    "        for j in range(len(go_term_list)):\n",
    "            sim_arr[i, j] = semantic_similarity(\n",
    "                go_term_list[i], go_term_list[j], obodag\n",
    "            )\n",
    "    np.fill_diagonal(sim_arr, 0.0)\n",
    "\n",
    "    working_group_idx = 0\n",
    "    grouped_terms = {}\n",
    "    group_exemplars = {}\n",
    "    go_term_indices = list(range(len(go_term_list)))\n",
    "\n",
    "    while len(go_term_indices) > 0:\n",
    "        i = go_term_indices[0]\n",
    "        most_sim_arg = np.argmax(sim_arr[i])\n",
    "        sim_score = sim_arr[i, most_sim_arg]\n",
    "        if sim_score > sim_thr:\n",
    "            if len(grouped_terms) > 0:\n",
    "                in_other_group_keys = [\n",
    "                    key for key, val in grouped_terms.items() if most_sim_arg in val\n",
    "                ]\n",
    "                if len(in_other_group_keys) == 1:\n",
    "                    other_group_idx = in_other_group_keys[0]\n",
    "                    grouped_terms[other_group_idx] = grouped_terms[other_group_idx] + [\n",
    "                        i\n",
    "                    ]\n",
    "                    group_exemplars[other_group_idx] = pick_exemplar(\n",
    "                        group_exemplars[other_group_idx],\n",
    "                        goea_list[i],\n",
    "                        termcounts,\n",
    "                        obodag,\n",
    "                        info_thr,\n",
    "                    )\n",
    "                else:\n",
    "                    grouped_terms[working_group_idx] = [i, most_sim_arg]\n",
    "                    group_exemplars[working_group_idx] = pick_exemplar(\n",
    "                        goea_list[i],\n",
    "                        goea_list[most_sim_arg],\n",
    "                        termcounts,\n",
    "                        obodag,\n",
    "                        info_thr,\n",
    "                    )\n",
    "                    working_group_idx += 1\n",
    "                    go_term_indices.remove(most_sim_arg)\n",
    "            else:\n",
    "                grouped_terms[working_group_idx] = [i, most_sim_arg]\n",
    "                group_exemplars[working_group_idx] = pick_exemplar(\n",
    "                    goea_list[i], goea_list[most_sim_arg], termcounts, obodag, info_thr\n",
    "                )\n",
    "                working_group_idx += 1\n",
    "                go_term_indices.remove(most_sim_arg)\n",
    "        go_term_indices.remove(i)\n",
    "\n",
    "    group_exemplars = list(group_exemplars.values())\n",
    "\n",
    "    return group_exemplars\n",
    "\n",
    "\n",
    "def get_GO_assign_dict(selected_goea, cluster_genes_uniprot):\n",
    "    all_study_items = copy.copy(cluster_genes_uniprot)\n",
    "    depth_list = sorted(set([item.depth for item in selected_goea]))[::-1]\n",
    "    assign_dict = {}\n",
    "    for depth in depth_list:\n",
    "        go_terms_at_level = [item for item in selected_goea if item.depth == depth]\n",
    "        for go_term in go_terms_at_level:\n",
    "            study_item_list = list(go_term.study_items)\n",
    "            for study_item in study_item_list:\n",
    "                if study_item in all_study_items:\n",
    "                    assign_dict[study_item] = go_term.name\n",
    "                    all_study_items.remove(study_item)\n",
    "\n",
    "    for remaining_item in all_study_items:\n",
    "        assign_dict[remaining_item] = \"Unassigned\"\n",
    "\n",
    "    return assign_dict"
   ]
  },
  {
   "cell_type": "code",
   "execution_count": null,
   "id": "opening-space",
   "metadata": {},
   "outputs": [],
   "source": [
    "fig = sc.pl.umap(\n",
    "    paga_df,\n",
    "    color=[\"leiden_lowres\", \"leiden\", \"leiden_highres\", \"leiden_ultrahighres\"],\n",
    "    title=[\n",
    "        \"Leiden Resolution=0.25\",\n",
    "        \"Leiden Resolution=1.\",\n",
    "        \"Leiden Resolution=1.5\",\n",
    "        \"Leiden Resolution=3.\",\n",
    "    ],\n",
    "    show=False,\n",
    "    legend_loc=\"on data\",\n",
    "    edges=True,\n",
    "    add_outline=False,\n",
    "    size=50,\n",
    "    return_fig=True,\n",
    "    palette=vega_20_scanpy,\n",
    ")"
   ]
  },
  {
   "cell_type": "markdown",
   "id": "immediate-interpretation",
   "metadata": {},
   "source": [
    "#### Large fts-like Cluster"
   ]
  },
  {
   "cell_type": "code",
   "execution_count": null,
   "id": "gorgeous-third",
   "metadata": {},
   "outputs": [],
   "source": [
    "all_genes = paga_df.obs[\"Gene\"].unique().tolist()\n",
    "\n",
    "clust_id = 0\n",
    "\n",
    "clust_id = str(clust_id)\n",
    "cluster_genes = sorted(\n",
    "    paga_df.obs[paga_df.obs[\"leiden\"] == clust_id][\"Gene\"].unique().tolist()\n",
    ")\n",
    "\n",
    "goea_quiet_enriched = get_enriched_GO_terms(\n",
    "    all_genes, cluster_genes, obodag, objanno, ns2assoc, pval=0.05, GO_type=\"BP\"\n",
    ")\n",
    "filtered_go_terms = get_filtered_go_terms(\n",
    "    obodag, objanno, goea_quiet_enriched, sim_thr=0.3, info_thr=1.0\n",
    ")\n",
    "go_term_dict = {\n",
    "    go_term.name: go_term.ratio_in_study[0] for go_term in filtered_go_terms\n",
    "}\n",
    "# ttl_terms = np.sum(list(go_term_dict.values()))\n",
    "# go_term_dict = {key:val/ttl_terms for key,val in go_term_dict.items()}\n",
    "\n",
    "print()\n",
    "for key, value in go_term_dict.items():\n",
    "    print(key, \" : \", value)\n",
    "print()\n",
    "for i in range(0, len(cluster_genes), 5):\n",
    "    print(cluster_genes[i : i + 5])"
   ]
  },
  {
   "cell_type": "markdown",
   "id": "warming-disclosure",
   "metadata": {},
   "source": [
    "#### Large Width Cluster"
   ]
  },
  {
   "cell_type": "code",
   "execution_count": null,
   "id": "binding-majority",
   "metadata": {
    "tags": []
   },
   "outputs": [],
   "source": [
    "all_genes = paga_df.obs[\"Gene\"].unique().tolist()\n",
    "\n",
    "clust_id = 26\n",
    "\n",
    "clust_id = str(clust_id)\n",
    "cluster_genes = sorted(\n",
    "    paga_df.obs[paga_df.obs[\"leiden_ultrahighres\"] == clust_id][\"Gene\"]\n",
    "    .unique()\n",
    "    .tolist()\n",
    ")\n",
    "\n",
    "goea_quiet_enriched = get_enriched_GO_terms(\n",
    "    all_genes, cluster_genes, obodag, objanno, ns2assoc, pval=0.05, GO_type=\"BP\"\n",
    ")\n",
    "filtered_go_terms = get_filtered_go_terms(\n",
    "    obodag, objanno, goea_quiet_enriched, sim_thr=0.3, info_thr=1.0\n",
    ")\n",
    "go_term_dict = {\n",
    "    go_term.name: go_term.ratio_in_study[0] for go_term in filtered_go_terms\n",
    "}\n",
    "# ttl_terms = np.sum(list(go_term_dict.values()))\n",
    "# go_term_dict = {key:val/ttl_terms for key,val in go_term_dict.items()}\n",
    "\n",
    "print()\n",
    "for key, value in go_term_dict.items():\n",
    "    print(key, \" : \", value)\n",
    "print()\n",
    "for i in range(0, len(cluster_genes), 5):\n",
    "    print(cluster_genes[i : i + 5])"
   ]
  },
  {
   "cell_type": "code",
   "execution_count": null,
   "id": "romantic-solid",
   "metadata": {},
   "outputs": [],
   "source": [
    "all_genes = paga_df.obs[\"Gene\"].unique().tolist()\n",
    "\n",
    "clust_id = 22\n",
    "freq_thr = 3\n",
    "\n",
    "clust_id = str(clust_id)\n",
    "unique_genes = np.unique(\n",
    "    paga_df.obs[paga_df.obs[\"leiden_ultrahighres\"] == clust_id][\"Gene\"],\n",
    "    return_counts=True,\n",
    ")\n",
    "cluster_genes = sorted(unique_genes[0][unique_genes[1] > freq_thr].tolist())\n",
    "\n",
    "goea_quiet_enriched = get_enriched_GO_terms(\n",
    "    all_genes, cluster_genes, obodag, objanno, ns2assoc, pval=0.05, GO_type=\"BP\"\n",
    ")\n",
    "filtered_go_terms = get_filtered_go_terms(\n",
    "    obodag, objanno, goea_quiet_enriched, sim_thr=0.3, info_thr=1.0\n",
    ")\n",
    "go_term_dict = {\n",
    "    go_term.name: go_term.ratio_in_study[0] for go_term in filtered_go_terms\n",
    "}\n",
    "# ttl_terms = np.sum(list(go_term_dict.values()))\n",
    "# go_term_dict = {key:val/ttl_terms for key,val in go_term_dict.items()}\n",
    "\n",
    "print()\n",
    "for key, value in go_term_dict.items():\n",
    "    print(key, \" : \", value)\n",
    "print()\n",
    "for i in range(0, len(cluster_genes), 5):\n",
    "    print(cluster_genes[i : i + 5])"
   ]
  },
  {
   "cell_type": "code",
   "execution_count": null,
   "id": "sharp-astrology",
   "metadata": {},
   "outputs": [],
   "source": [
    "cluster_genes"
   ]
  },
  {
   "cell_type": "code",
   "execution_count": null,
   "id": "civil-crash",
   "metadata": {},
   "outputs": [],
   "source": [
    "fig = highlight_gene_group(paga_df, cluster_genes)"
   ]
  },
  {
   "cell_type": "markdown",
   "id": "transsexual-virgin",
   "metadata": {},
   "source": [
    "#### Notes for later\n",
    "\n",
    "- Need to think a little bit more if I am satisfied about this way of viewing clusters of related genes (with the soft-DTW metric)\n",
    "\n",
    "- Do I want to get a sub-cluster view of these genes and their proximity?\n",
    "\n",
    "- Do I want graph-based measurements of association?\n",
    "\n",
    "    - How could I implement this, given that each gene has a varying number of sgRNAs?\n",
    "\n",
    "- Should I filter by number of sgRNAs to declare a hit significant?\n",
    "\n",
    "- Should I threshold by more observations to reduce noise?\n"
   ]
  },
  {
   "cell_type": "markdown",
   "id": "processed-there",
   "metadata": {},
   "source": [
    "### Output"
   ]
  },
  {
   "cell_type": "code",
   "execution_count": null,
   "id": "divided-bracelet",
   "metadata": {},
   "outputs": [],
   "source": [
    "paga_df_only = paga_df.obs\n",
    "paga_df_only.to_pickle(\"./2021-12-07_paga_df_only.pkl\")\n",
    "paga_df.obs = paga_df.obs[\n",
    "    paga_df.obs.dtypes[paga_df.obs.dtypes.isin([np.int64, float])].index.tolist()\n",
    "]\n",
    "paga_df.write(\"./2021-12-07_paga_df.h5ad\")"
   ]
  }
 ],
 "metadata": {
  "kernelspec": {
   "display_name": "Python 3 (ipykernel)",
   "language": "python",
   "name": "python3"
  },
  "language_info": {
   "codemirror_mode": {
    "name": "ipython",
    "version": 3
   },
   "file_extension": ".py",
   "mimetype": "text/x-python",
   "name": "python",
   "nbconvert_exporter": "python",
   "pygments_lexer": "ipython3",
   "version": "3.8.5"
  },
  "toc-showcode": false
 },
 "nbformat": 4,
 "nbformat_minor": 5
}
