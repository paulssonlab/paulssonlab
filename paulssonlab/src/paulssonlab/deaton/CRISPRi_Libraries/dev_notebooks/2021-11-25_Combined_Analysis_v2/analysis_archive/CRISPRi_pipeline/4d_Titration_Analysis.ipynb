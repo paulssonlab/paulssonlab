{
 "cells": [
  {
   "cell_type": "markdown",
   "id": "interstate-moldova",
   "metadata": {},
   "source": [
    "## PAGA Basic Analysis (Only Main Analysis)\n",
    "\n",
    "- In this notebook, I include basic leiden clustering with no downstream timeseries analysis\n",
    "\n",
    "- Mean parameter values are projected onto the space to visualize\n",
    "\n",
    "- Distributions of genes of known function should be assembled in this notebook\n",
    "\n",
    "- Finally, basic clustering and ontology enrichment are present at the end\n",
    "\n",
    "- This notebook should be used to decide on clustering parameters and the resulting paga_df saved to disk"
   ]
  },
  {
   "cell_type": "code",
   "execution_count": null,
   "id": "sustained-humanitarian",
   "metadata": {},
   "outputs": [],
   "source": [
    "import ast\n",
    "import copy\n",
    "import random\n",
    "import warnings\n",
    "\n",
    "import anndata\n",
    "import dask\n",
    "import dask.array as da\n",
    "import dask.dataframe as dd\n",
    "import holoviews as hv\n",
    "import igraph as ig\n",
    "import leidenalg\n",
    "import matplotlib as mpl\n",
    "import matplotlib.gridspec as gridspec\n",
    "import networkx as nx\n",
    "import numpy as np\n",
    "import pandas as pd\n",
    "import pylab\n",
    "import scanpy as sc\n",
    "import scipy as sp\n",
    "import scipy.cluster.hierarchy as sch\n",
    "import scipy.sparse\n",
    "import scipy.stats\n",
    "import seaborn as sns\n",
    "import sklearn as skl\n",
    "import umap\n",
    "from igraph.drawing.text import TextDrawer\n",
    "from matplotlib import pyplot as plt\n",
    "from scanpy.plotting.palettes import default_20, vega_20_scanpy\n",
    "from sklearn.cluster import AffinityPropagation, AgglomerativeClustering\n",
    "from sklearn.linear_model import LinearRegression\n",
    "from sklearn.manifold import TSNE\n",
    "from sklearn.metrics import silhouette_score\n",
    "from sklearn.metrics.pairwise import (\n",
    "    cosine_distances,\n",
    "    euclidean_distances,\n",
    "    manhattan_distances,\n",
    ")\n",
    "from tslearn.barycenters import (\n",
    "    dtw_barycenter_averaging,\n",
    "    euclidean_barycenter,\n",
    "    softdtw_barycenter,\n",
    ")\n",
    "from tslearn.metrics import cdist_soft_dtw, cdist_soft_dtw_normalized\n",
    "from tslearn.neighbors import KNeighborsTimeSeries\n",
    "\n",
    "import paulssonlab.deaton.trenchripper.trenchripper as tr\n",
    "\n",
    "hv.extension(\"bokeh\")\n",
    "random.seed(42)\n",
    "np.random.seed(42)\n",
    "\n",
    "warnings.filterwarnings(action=\"once\", category=UserWarning)"
   ]
  },
  {
   "cell_type": "markdown",
   "id": "orange-diamond",
   "metadata": {
    "tags": []
   },
   "source": [
    "### Load Data From First Notebook"
   ]
  },
  {
   "cell_type": "code",
   "execution_count": null,
   "id": "087fe113-bc1e-4159-abf7-320e3e7c7862",
   "metadata": {},
   "outputs": [],
   "source": [
    "gene_cluster_df_full_w_control = pd.read_pickle(\n",
    "    \"/home/de64/scratch/de64/sync_folder/2021-11-08_lDE20_Final_3/2021-12-07_gene_cluster_df_no_filter.pkl\"\n",
    ")\n",
    "gene_cluster_df_full = gene_cluster_df_full_w_control.dropna(\n",
    "    subset=[\"Gene\"]\n",
    ")  # no control genes"
   ]
  },
  {
   "cell_type": "code",
   "execution_count": null,
   "id": "3886eb48-25ae-4959-a86c-3c2a623bfcb6",
   "metadata": {},
   "outputs": [],
   "source": [
    "gene_cluster_df_full = gene_cluster_df_full.rename(\n",
    "    columns={\n",
    "        \"Kernel Trace: Division: major_axis_length: Yeo-Johnson: z score\": \"Division Length Z-score\",\n",
    "        \"Kernel Trace: Mean Linear Growth Rate: Volume: Yeo-Johnson: z score\": \"Linear Growth Rate Z-score\",\n",
    "        \"Kernel Trace: Mean Exponential Growth Rate: Volume: Yeo-Johnson: z score\": \"Exponential Growth Rate Z-score\",\n",
    "        \"Kernel Trace: Mean: minor_axis_length: Yeo-Johnson: z score\": \"Width Z-score\",\n",
    "        \"Kernel Trace: Mean: mCherry Intensity: Yeo-Johnson: z score\": \"mCherry Intensity Z-score\",\n",
    "        \"Kernel Trace: Delta time (s): Yeo-Johnson: z score\": \"Doubling Time Z-score\",\n",
    "        \"Kernel Trace: Division: major_axis_length\": \"Division Length\",\n",
    "        \"Kernel Trace: Mean Linear Growth Rate: Volume\": \"Linear Growth Rate\",\n",
    "        \"Kernel Trace: Mean Exponential Growth Rate: Volume\": \"Exponential Growth Rate\",\n",
    "        \"Kernel Trace: Mean: minor_axis_length\": \"Width\",\n",
    "        \"Kernel Trace: Mean: mCherry Intensity\": \"mCherry Intensity\",\n",
    "        \"Kernel Trace: Delta time (s)\": \"Doubling Time\",\n",
    "    }\n",
    ")"
   ]
  },
  {
   "cell_type": "markdown",
   "id": "33364005-dc76-43d5-827b-85371cf472d1",
   "metadata": {
    "tags": []
   },
   "source": [
    "### Take mean z-scores over the timeseries"
   ]
  },
  {
   "cell_type": "code",
   "execution_count": null,
   "id": "f4c72213-7eae-4149-be78-3dbfa280ea5c",
   "metadata": {},
   "outputs": [],
   "source": [
    "traces = [\n",
    "    \"Linear Growth Rate\",\n",
    "    \"Exponential Growth Rate\",\n",
    "    \"Division Length\",\n",
    "    \"Width\",\n",
    "    \"mCherry Intensity\",\n",
    "    \"Doubling Time\",\n",
    "]\n",
    "\n",
    "zscore_traces = [trace + \" Z-score\" for trace in traces]\n",
    "\n",
    "for trace in traces:\n",
    "    avg = gene_cluster_df_full.apply(lambda x: np.mean(x[trace]), axis=1)\n",
    "    gene_cluster_df_full[trace + \": Mean\"] = avg\n",
    "\n",
    "for zscore_trace in zscore_traces:\n",
    "    avg_zscore = gene_cluster_df_full.apply(lambda x: np.mean(x[zscore_trace]), axis=1)\n",
    "    gene_cluster_df_full[zscore_trace + \": Mean\"] = avg_zscore"
   ]
  },
  {
   "cell_type": "markdown",
   "id": "9454ac61-56b2-4538-a6fd-3a4592d0fbcd",
   "metadata": {},
   "source": [
    "## 4) Titrations\n"
   ]
  },
  {
   "cell_type": "code",
   "execution_count": null,
   "id": "4a1683ef-8e2a-4d89-b46a-407ffd315d93",
   "metadata": {},
   "outputs": [],
   "source": [
    "import anndata\n",
    "import dask.array as da\n",
    "import igraph as ig\n",
    "import leidenalg\n",
    "import networkx as nx\n",
    "import scanpy as sc\n",
    "import scipy as sp\n",
    "import scipy.sparse\n",
    "import umap\n",
    "from igraph.drawing.text import TextDrawer\n",
    "from scanpy.plotting.palettes import default_20, vega_20_scanpy\n",
    "from tslearn.metrics import cdist_soft_dtw, cdist_soft_dtw_normalized\n",
    "from tslearn.neighbors import KNeighborsTimeSeries"
   ]
  },
  {
   "cell_type": "code",
   "execution_count": null,
   "id": "df5ad3fd-e92f-4dca-a9d2-825ae34d233c",
   "metadata": {},
   "outputs": [],
   "source": [
    "def get_pearson_df(titration_df, variable_name, pearson_p_val=0.05):\n",
    "    var_df = (\n",
    "        titration_df.groupby(\"TargetID\")\n",
    "        .apply(lambda x: x[variable_name].tolist())\n",
    "        .to_frame()\n",
    "    )\n",
    "    var_df = var_df.rename(columns={0: variable_name})\n",
    "    var_df[\"N Match\"] = titration_df.groupby(\"TargetID\").apply(\n",
    "        lambda x: x[\"N Match\"].tolist()\n",
    "    )\n",
    "    var_df[variable_name + \": Pearson R\"] = var_df.apply(\n",
    "        lambda x: sp.stats.pearsonr(x[\"N Match\"], x[variable_name])[0], axis=1\n",
    "    )\n",
    "    var_df[variable_name + \": Pearson P-val\"] = var_df.apply(\n",
    "        lambda x: sp.stats.pearsonr(x[\"N Match\"], x[variable_name])[1], axis=1\n",
    "    )\n",
    "\n",
    "    return var_df"
   ]
  },
  {
   "cell_type": "markdown",
   "id": "bda95d52-ea77-4f31-a5d7-94751288f054",
   "metadata": {},
   "source": [
    "paga_df_only### Looking at all targetids (including filtered out and unclustered)"
   ]
  },
  {
   "cell_type": "code",
   "execution_count": null,
   "id": "3ed89ab2-6285-4f5d-baf8-d47d13edc48d",
   "metadata": {
    "tags": []
   },
   "outputs": [],
   "source": [
    "import statsmodels.stats.multitest\n",
    "\n",
    "min_titration = 6\n",
    "fdr_p_val_thr = 0.01\n",
    "var_list = [\n",
    "    \"Linear Growth Rate: Mean\",\n",
    "    \"Exponential Growth Rate: Mean\",\n",
    "    \"Division Length: Mean\",\n",
    "    \"Width: Mean\",\n",
    "    \"mCherry Intensity: Mean\",\n",
    "    \"Doubling Time: Mean\",\n",
    "]\n",
    "\n",
    "gene_cluster_df_full[\"N Match\"] = 20 - gene_cluster_df_full[\"N Mismatch\"]\n",
    "\n",
    "target_count_series = gene_cluster_df_full.groupby(\"TargetID\").apply(lambda x: len(x))\n",
    "targetid_above_thr = target_count_series[\n",
    "    target_count_series >= min_titration\n",
    "].index.tolist()\n",
    "titration_df = gene_cluster_df_full[\n",
    "    gene_cluster_df_full[\"TargetID\"].isin(targetid_above_thr)\n",
    "]\n",
    "\n",
    "# titration_df_pearson = titration_df.dropna(subset=['N Match'] + var_list)\n",
    "pearson_df = titration_df.groupby(\"TargetID\").apply(lambda x: x.iloc[0])\n",
    "\n",
    "for var_label in var_list:\n",
    "    var_df = get_pearson_df(titration_df, var_label)\n",
    "    pearson_df[var_label + \": Pearson R\"] = var_df[var_label + \": Pearson R\"]\n",
    "    pearson_df[var_label + \": Pearson P-val\"] = var_df[var_label + \": Pearson P-val\"]\n",
    "\n",
    "pearson_p_labels = [var_label + \": Pearson P-val\" for var_label in var_list]\n",
    "pearson_r_labels = [var_label + \": Pearson R\" for var_label in var_list]\n",
    "\n",
    "pearson_r_sig = np.any(\n",
    "    [\n",
    "        statsmodels.stats.multitest.fdrcorrection(\n",
    "            pearson_df[pearson_p_label].tolist(),\n",
    "            fdr_p_val_thr,\n",
    "            method=\"indep\",\n",
    "            is_sorted=False,\n",
    "        )[0]\n",
    "        for pearson_p_label in pearson_p_labels\n",
    "    ],\n",
    "    axis=0,\n",
    ")\n",
    "pearson_r_sig_df = pearson_df[pearson_r_sig]\n",
    "\n",
    "n_targetids = len(gene_cluster_df_full[\"TargetID\"].unique().tolist())\n",
    "n_titration_targetids = np.sum(pearson_r_sig)\n",
    "\n",
    "# pos_arr = (pearson_r_sig_df[pearson_r_labels]>0.).values\n",
    "# neg_arr = (pearson_r_sig_df[pearson_r_labels]<=0.).values\n",
    "# sig_arr = (pearson_r_sig_df[pearson_p_labels]<pearson_p_val_thr).values\n",
    "\n",
    "# sig_pos_arr = sig_arr*pos_arr\n",
    "# sig_neg_arr = sig_arr*neg_arr\n",
    "\n",
    "# pearson_r_sig_df[\"Pearson Significant Positive\"] = [item for item in sig_pos_arr]\n",
    "# pearson_r_sig_df[\"Pearson Significant Negative\"] = [item for item in sig_neg_arr]"
   ]
  },
  {
   "cell_type": "code",
   "execution_count": null,
   "id": "95297b17-0d0a-4336-98a7-9821dda1da8c",
   "metadata": {},
   "outputs": [],
   "source": [
    "target_count_series"
   ]
  },
  {
   "cell_type": "code",
   "execution_count": null,
   "id": "510e5443-43d8-45f3-9b43-78b5cbb6deab",
   "metadata": {},
   "outputs": [],
   "source": [
    "print(n_titration_targetids / n_targetids)"
   ]
  },
  {
   "cell_type": "code",
   "execution_count": null,
   "id": "a14b5437-bb1c-4430-ad75-d0af68a2e1f5",
   "metadata": {},
   "outputs": [],
   "source": [
    "genes_with_titration = sorted(pearson_r_sig_df[\"Gene\"].unique().tolist())\n",
    "all_genes = sorted(gene_cluster_df_full[\"Gene\"].unique().tolist())\n",
    "genes_wo_titration = sorted(list(set(all_genes) - set(genes_with_titration)))"
   ]
  },
  {
   "cell_type": "code",
   "execution_count": null,
   "id": "a53a13c0-b8d1-49b0-a690-75c8c3a57a93",
   "metadata": {},
   "outputs": [],
   "source": [
    "len(genes_with_titration)"
   ]
  },
  {
   "cell_type": "code",
   "execution_count": null,
   "id": "520c12d9-bc3a-48f2-ac35-7e32769a8564",
   "metadata": {},
   "outputs": [],
   "source": [
    "len(all_genes)"
   ]
  },
  {
   "cell_type": "code",
   "execution_count": null,
   "id": "85507840-b21d-4874-bbb3-536f6b0efa67",
   "metadata": {},
   "outputs": [],
   "source": [
    "len(genes_wo_titration)"
   ]
  },
  {
   "cell_type": "markdown",
   "id": "bdb501eb-e35f-41ca-a80b-3d54840d753b",
   "metadata": {},
   "source": [
    "### Looking at clustered targetids"
   ]
  },
  {
   "cell_type": "code",
   "execution_count": null,
   "id": "6667c5bc-62b3-4810-bce0-174b6dd51474",
   "metadata": {},
   "outputs": [],
   "source": [
    "titratable_targetids = pearson_r_sig_df.index.unique().tolist()\n",
    "titratable_mask = paga_df.obs[\"TargetID\"].isin(titratable_targetids)\n",
    "titration_paga_df = paga_df[titratable_mask].obs\n",
    "titration_paga_df = titration_paga_df.reset_index().set_index(\"Gene\").sort_index()"
   ]
  },
  {
   "cell_type": "code",
   "execution_count": null,
   "id": "2cf88316-718c-4d3f-8125-96b51d946935",
   "metadata": {
    "tags": []
   },
   "outputs": [],
   "source": [
    "targetid_list = titration_paga_df[\"TargetID\"].unique().tolist()\n",
    "\n",
    "n_targetids = len(targetid_list)\n",
    "\n",
    "var_names = [\n",
    "    \"Linear Growth Rate: Mean\",\n",
    "    \"Exponential Growth Rate: Mean\",\n",
    "    \"Division Length: Mean\",\n",
    "    \"Width: Mean\",\n",
    "    \"mCherry Intensity: Mean\",\n",
    "    \"Doubling Time: Mean\",\n",
    "]\n",
    "\n",
    "display_var_names = [\n",
    "    \"Linear Growth Rate\",\n",
    "    \"Exponential Growth Rate\",\n",
    "    \"Division Length\",\n",
    "    \"Mean Width\",\n",
    "    \"mCherry Intensity\",\n",
    "    \"Doubling Time\",\n",
    "]\n",
    "\n",
    "feature_ranges = [(0, 15), (0.5, 1.5), (3, 16), (1.2, 1.6), (0, 12000), (0, 8000)]\n",
    "\n",
    "wspace = 0.25\n",
    "hspace = 0.25\n",
    "fontsize = 14\n",
    "\n",
    "step_size = 15\n",
    "\n",
    "for idx, n in enumerate(list(range(0, n_targetids, step_size))):\n",
    "    figsize = (int(2.5 * step_size) + 1, 15)\n",
    "\n",
    "    sub_targetid_list = targetid_list[n : n + step_size]\n",
    "\n",
    "    fig = plt.figure(constrained_layout=True, figsize=figsize)\n",
    "    gs = fig.add_gridspec(1, len(sub_targetid_list), wspace=wspace)\n",
    "\n",
    "    for i, targetid in enumerate(sub_targetid_list):\n",
    "        selected_targetid_df = gene_cluster_df_full[\n",
    "            gene_cluster_df_full[\"TargetID\"] == targetid\n",
    "        ]\n",
    "\n",
    "        inner_gs = gs[0, i].subgridspec(len(var_names), 1, wspace=0, hspace=hspace)\n",
    "        inner_grid_sub = inner_gs.subplots(sharex=True)\n",
    "\n",
    "        for j, ax in np.ndenumerate(inner_grid_sub):\n",
    "            var_name = var_names[j[0]]\n",
    "            ax.scatter(selected_targetid_df[\"N Match\"], selected_targetid_df[var_name])\n",
    "            ax.set_ylabel(display_var_names[j[0]], fontsize=fontsize)\n",
    "            ax.set_ylim(feature_ranges[j[0]])\n",
    "\n",
    "        ax.set_xlabel(\n",
    "            selected_targetid_df[\"Gene\"].iloc[0] + \" TargetID: \" + str(targetid),\n",
    "            fontsize=fontsize,\n",
    "        )\n",
    "\n",
    "    plt.tight_layout()\n",
    "    plt.savefig(\"4_Titrations/\" + str(idx) + \".png\", dpi=75)"
   ]
  },
  {
   "cell_type": "markdown",
   "id": "1151d738-1bf3-4d27-82f4-e6441bef941a",
   "metadata": {},
   "source": [
    "### Less Strict Cutoff"
   ]
  },
  {
   "cell_type": "code",
   "execution_count": null,
   "id": "e6fe7b82-0d45-48cc-b277-6d76c2b0ca3d",
   "metadata": {},
   "outputs": [],
   "source": [
    "import statsmodels.stats.multitest\n",
    "\n",
    "min_titration = 5\n",
    "fdr_p_val_thr = 0.05\n",
    "var_list = [\n",
    "    \"Linear Growth Rate: Mean\",\n",
    "    \"Exponential Growth Rate: Mean\",\n",
    "    \"Division Length: Mean\",\n",
    "    \"Width: Mean\",\n",
    "    \"mCherry Intensity: Mean\",\n",
    "    \"Doubling Time: Mean\",\n",
    "]\n",
    "\n",
    "gene_cluster_df_full[\"N Match\"] = 20 - gene_cluster_df_full[\"N Mismatch\"]\n",
    "\n",
    "target_count_series = gene_cluster_df_full.groupby(\"TargetID\").apply(lambda x: len(x))\n",
    "targetid_above_thr = target_count_series[\n",
    "    target_count_series >= min_titration\n",
    "].index.tolist()\n",
    "titration_df = gene_cluster_df_full[\n",
    "    gene_cluster_df_full[\"TargetID\"].isin(targetid_above_thr)\n",
    "]\n",
    "\n",
    "# titration_df_pearson = titration_df.dropna(subset=['N Match'] + var_list)\n",
    "pearson_df = titration_df.groupby(\"TargetID\").apply(lambda x: x.iloc[0])\n",
    "\n",
    "for var_label in var_list:\n",
    "    var_df = get_pearson_df(titration_df, var_label)\n",
    "    pearson_df[var_label + \": Pearson R\"] = var_df[var_label + \": Pearson R\"]\n",
    "    pearson_df[var_label + \": Pearson P-val\"] = var_df[var_label + \": Pearson P-val\"]\n",
    "\n",
    "pearson_p_labels = [var_label + \": Pearson P-val\" for var_label in var_list]\n",
    "pearson_r_labels = [var_label + \": Pearson R\" for var_label in var_list]\n",
    "\n",
    "pearson_r_sig = np.any(\n",
    "    [\n",
    "        statsmodels.stats.multitest.fdrcorrection(\n",
    "            pearson_df[pearson_p_label].tolist(),\n",
    "            fdr_p_val_thr,\n",
    "            method=\"indep\",\n",
    "            is_sorted=False,\n",
    "        )[0]\n",
    "        for pearson_p_label in pearson_p_labels\n",
    "    ],\n",
    "    axis=0,\n",
    ")\n",
    "pearson_r_sig_df = pearson_df[pearson_r_sig]\n",
    "\n",
    "n_targetids = len(gene_cluster_df_full[\"TargetID\"].unique().tolist())\n",
    "n_titration_targetids = np.sum(pearson_r_sig)\n",
    "\n",
    "# pos_arr = (pearson_r_sig_df[pearson_r_labels]>0.).values\n",
    "# neg_arr = (pearson_r_sig_df[pearson_r_labels]<=0.).values\n",
    "# sig_arr = (pearson_r_sig_df[pearson_p_labels]<pearson_p_val_thr).values\n",
    "\n",
    "# sig_pos_arr = sig_arr*pos_arr\n",
    "# sig_neg_arr = sig_arr*neg_arr\n",
    "\n",
    "# pearson_r_sig_df[\"Pearson Significant Positive\"] = [item for item in sig_pos_arr]\n",
    "# pearson_r_sig_df[\"Pearson Significant Negative\"] = [item for item in sig_neg_arr]"
   ]
  },
  {
   "cell_type": "code",
   "execution_count": null,
   "id": "49bc1431-a377-4380-9f62-703c7b8caefd",
   "metadata": {},
   "outputs": [],
   "source": [
    "print(n_titration_targetids / n_targetids)"
   ]
  },
  {
   "cell_type": "code",
   "execution_count": null,
   "id": "41174df7-e749-4b36-9cc2-3c02d303f2e3",
   "metadata": {},
   "outputs": [],
   "source": [
    "genes_with_titration = sorted(pearson_r_sig_df[\"Gene\"].unique().tolist())\n",
    "all_genes = sorted(gene_cluster_df_full[\"Gene\"].unique().tolist())\n",
    "genes_wo_titration = sorted(list(set(all_genes) - set(genes_with_titration)))"
   ]
  },
  {
   "cell_type": "code",
   "execution_count": null,
   "id": "f63b32b6-5f28-4a03-9219-e6fe7e94e3ce",
   "metadata": {},
   "outputs": [],
   "source": [
    "len(genes_with_titration)"
   ]
  }
 ],
 "metadata": {
  "kernelspec": {
   "display_name": "Python 3 (ipykernel)",
   "language": "python",
   "name": "python3"
  },
  "language_info": {
   "codemirror_mode": {
    "name": "ipython",
    "version": 3
   },
   "file_extension": ".py",
   "mimetype": "text/x-python",
   "name": "python",
   "nbconvert_exporter": "python",
   "pygments_lexer": "ipython3",
   "version": "3.8.5"
  },
  "toc-showcode": false
 },
 "nbformat": 4,
 "nbformat_minor": 5
}
