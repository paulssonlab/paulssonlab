{
 "cells": [
  {
   "cell_type": "markdown",
   "id": "interstate-moldova",
   "metadata": {},
   "source": [
    "## PAGA Basic Analysis (Only Main Analysis)\n",
    "\n",
    "- In this notebook, I include basic leiden clustering with no downstream timeseries analysis\n",
    "\n",
    "- Mean parameter values are projected onto the space to visualize\n",
    "\n",
    "- Distributions of genes of known function should be assembled in this notebook\n",
    "\n",
    "- Finally, basic clustering and ontology enrichment are present at the end\n",
    "\n",
    "- This notebook should be used to decide on clustering parameters and the resulting paga_df saved to disk"
   ]
  },
  {
   "cell_type": "code",
   "execution_count": null,
   "id": "sustained-humanitarian",
   "metadata": {},
   "outputs": [],
   "source": [
    "import paulssonlab.deaton.trenchripper.trenchripper as tr\n",
    "\n",
    "import numpy as np\n",
    "import pandas as pd\n",
    "import seaborn as sns\n",
    "import scipy as sp\n",
    "import sklearn as skl\n",
    "import dask.dataframe as dd\n",
    "import dask.array as da\n",
    "import dask\n",
    "import warnings\n",
    "import copy\n",
    "import random\n",
    "from sklearn.metrics.pairwise import (\n",
    "    euclidean_distances,\n",
    "    manhattan_distances,\n",
    "    cosine_distances,\n",
    ")\n",
    "\n",
    "from sklearn.metrics import silhouette_score\n",
    "import scipy.stats\n",
    "from sklearn.linear_model import LinearRegression\n",
    "from sklearn.cluster import AffinityPropagation\n",
    "from sklearn.manifold import TSNE\n",
    "from sklearn.cluster import AgglomerativeClustering\n",
    "\n",
    "import scanpy as sc\n",
    "import anndata\n",
    "import scipy as sp\n",
    "import scipy.sparse\n",
    "import dask.array as da\n",
    "from igraph.drawing.text import TextDrawer\n",
    "from tslearn.neighbors import KNeighborsTimeSeries\n",
    "from tslearn.metrics import cdist_soft_dtw_normalized, cdist_soft_dtw\n",
    "import networkx as nx\n",
    "import igraph as ig\n",
    "import leidenalg\n",
    "import umap\n",
    "from scanpy.plotting.palettes import default_20, vega_20_scanpy\n",
    "from matplotlib import pyplot as plt\n",
    "import ast\n",
    "from tslearn.barycenters import (\n",
    "    softdtw_barycenter,\n",
    "    dtw_barycenter_averaging,\n",
    "    euclidean_barycenter,\n",
    ")\n",
    "\n",
    "\n",
    "import pylab\n",
    "import scipy.cluster.hierarchy as sch\n",
    "\n",
    "import matplotlib.gridspec as gridspec\n",
    "import matplotlib as mpl\n",
    "\n",
    "import holoviews as hv\n",
    "\n",
    "hv.extension(\"bokeh\")\n",
    "random.seed(42)\n",
    "np.random.seed(42)\n",
    "\n",
    "warnings.filterwarnings(action=\"once\", category=UserWarning)"
   ]
  },
  {
   "cell_type": "markdown",
   "id": "cba18d8c-f904-4033-b9e5-46e1ce1ea9b9",
   "metadata": {
    "tags": []
   },
   "source": [
    "### Load Data From First Notebook"
   ]
  },
  {
   "cell_type": "code",
   "execution_count": null,
   "id": "0a1a470a-d015-4c99-a24d-e4577d5163ad",
   "metadata": {
    "tags": []
   },
   "outputs": [],
   "source": [
    "paga_df_only = pd.read_pickle(\"./2021-12-07_paga_df_only.pkl\")\n",
    "paga_df = sc.read(\"./2021-12-07_paga_df.h5ad\")\n",
    "paga_df.obs = copy.deepcopy(paga_df_only)"
   ]
  },
  {
   "cell_type": "code",
   "execution_count": null,
   "id": "c1f3ebf1-1e2d-49c4-9e29-51a3cacd8cf8",
   "metadata": {},
   "outputs": [],
   "source": [
    "paga_df_only[\"Target Sites\"] = paga_df_only[\"Target Sites\"].apply(\n",
    "    lambda x: ast.literal_eval(x)\n",
    ")"
   ]
  },
  {
   "cell_type": "code",
   "execution_count": null,
   "id": "4fb423b4-b7ef-4f1c-a5a0-1840086c2002",
   "metadata": {},
   "outputs": [],
   "source": [
    "fig = sc.pl.umap(\n",
    "    paga_df,\n",
    "    color=[\"leiden_lowres\", \"leiden\", \"leiden_highres\", \"leiden_ultrahighres\"],\n",
    "    title=[\n",
    "        \"Leiden Resolution=0.25\",\n",
    "        \"Leiden Resolution=1.\",\n",
    "        \"Leiden Resolution=1.5\",\n",
    "        \"Leiden Resolution=3.\",\n",
    "    ],\n",
    "    show=False,\n",
    "    legend_loc=\"on data\",\n",
    "    edges=True,\n",
    "    add_outline=False,\n",
    "    size=50,\n",
    "    return_fig=True,\n",
    "    palette=vega_20_scanpy,\n",
    ")"
   ]
  },
  {
   "cell_type": "markdown",
   "id": "989eada5-22a8-4f9f-a2d3-864c7209b00d",
   "metadata": {
    "tags": []
   },
   "source": [
    "### Gene Browser"
   ]
  },
  {
   "cell_type": "code",
   "execution_count": null,
   "id": "7a8783ce-94bf-447e-b0ef-ea5537db58dc",
   "metadata": {},
   "outputs": [],
   "source": [
    "gene_browser_df = copy.deepcopy(paga_df.obs)\n",
    "gene_browser_df = gene_browser_df.reset_index()"
   ]
  },
  {
   "cell_type": "code",
   "execution_count": null,
   "id": "f4ca0a0f-3d71-4bfa-862a-885d5b624a57",
   "metadata": {},
   "outputs": [],
   "source": [
    "gene_browser_df = gene_browser_df[\n",
    "    [\n",
    "        \"sgRNAid\",\n",
    "        \"TargetID\",\n",
    "        \"Gene\",\n",
    "        \"phenotype trenchids\",\n",
    "        \"N Mismatch\",\n",
    "        \"N Target Sites\",\n",
    "        \"Category\",\n",
    "        \"Strand\",\n",
    "        \"leiden_lowres\",\n",
    "        \"leiden\",\n",
    "        \"leiden_highres\",\n",
    "        \"leiden_ultrahighres\",\n",
    "    ]\n",
    "]\n",
    "gene_browser_df[\"sgRNAid\"] = gene_browser_df[\"sgRNAid\"].astype(int)"
   ]
  },
  {
   "cell_type": "code",
   "execution_count": null,
   "id": "4628ea46-bd18-4948-847a-5056f580b96b",
   "metadata": {
    "tags": []
   },
   "outputs": [],
   "source": [
    "kymo_xarr = tr.kymo_xarr(\n",
    "    \"/home/de64/scratch/de64/sync_folder/2021-11-08_lDE20_Final_3/Growth_Division/\"\n",
    ")\n",
    "wrapped_kymo_xarr = tr.kymo_xarr(\n",
    "    \"/home/de64/scratch/de64/sync_folder/2021-11-08_lDE20_Final_3/Growth_Division/\",\n",
    "    unwrap=False,\n",
    ")"
   ]
  },
  {
   "cell_type": "code",
   "execution_count": null,
   "id": "1e2bfc4d-cad7-4e9e-ae89-1dca10fa6e94",
   "metadata": {},
   "outputs": [],
   "source": [
    "(\n",
    "    gene_table_layout,\n",
    "    select_gene,\n",
    "    select_trenchid,\n",
    "    select_unpacked_trenchid,\n",
    ") = tr.linked_table(\n",
    "    gene_browser_df,\n",
    "    index_key=\"leiden_ultrahighres\",\n",
    "    trenchids_as_list=True,\n",
    "    trenchid_column=\"phenotype trenchids\",\n",
    ")\n",
    "# gene_table_layout,select_gene,select_trenchid,select_unpacked_trenchid = tr.linked_table(gene_browser_df,index_key='Gene',trenchids_as_list=True,trenchid_column='phenotype trenchids')"
   ]
  },
  {
   "cell_type": "code",
   "execution_count": null,
   "id": "d3c45452-6e9d-4fb0-a61a-2ca29e28ca44",
   "metadata": {
    "tags": []
   },
   "outputs": [],
   "source": [
    "gene_table_layout"
   ]
  },
  {
   "cell_type": "code",
   "execution_count": null,
   "id": "9943ad7f-cedf-4261-b6a9-9b315d5efc04",
   "metadata": {},
   "outputs": [],
   "source": [
    "output_display, save_button = tr.linked_kymograph_for_table(\n",
    "    kymo_xarr,\n",
    "    wrapped_kymo_xarr,\n",
    "    gene_browser_df,\n",
    "    select_gene,\n",
    "    select_trenchid,\n",
    "    index_key=\"leiden_ultrahighres\",\n",
    "    select_unpacked_trenchid=select_unpacked_trenchid,\n",
    "    trenchid_column=\"phenotype trenchids\",\n",
    "    y_scale=3,\n",
    "    x_window_size=300,\n",
    ")"
   ]
  },
  {
   "cell_type": "code",
   "execution_count": null,
   "id": "e059d614-d7df-41ef-9b8f-3b2032318616",
   "metadata": {},
   "outputs": [],
   "source": [
    "output_display"
   ]
  },
  {
   "cell_type": "code",
   "execution_count": null,
   "id": "b7b7e9d3-2b59-4a69-81d5-436ba0619394",
   "metadata": {},
   "outputs": [],
   "source": [
    "save_button"
   ]
  },
  {
   "cell_type": "code",
   "execution_count": null,
   "id": "4c10687e-33b3-40e1-abd8-809b89a9ce98",
   "metadata": {},
   "outputs": [],
   "source": []
  },
  {
   "cell_type": "code",
   "execution_count": null,
   "id": "2e41535b-5a41-41d8-943b-839b3d2bce85",
   "metadata": {},
   "outputs": [],
   "source": []
  }
 ],
 "metadata": {
  "kernelspec": {
   "display_name": "Python 3 (ipykernel)",
   "language": "python",
   "name": "python3"
  },
  "language_info": {
   "codemirror_mode": {
    "name": "ipython",
    "version": 3
   },
   "file_extension": ".py",
   "mimetype": "text/x-python",
   "name": "python",
   "nbconvert_exporter": "python",
   "pygments_lexer": "ipython3",
   "version": "3.8.5"
  },
  "toc-showcode": false
 },
 "nbformat": 4,
 "nbformat_minor": 5
}
