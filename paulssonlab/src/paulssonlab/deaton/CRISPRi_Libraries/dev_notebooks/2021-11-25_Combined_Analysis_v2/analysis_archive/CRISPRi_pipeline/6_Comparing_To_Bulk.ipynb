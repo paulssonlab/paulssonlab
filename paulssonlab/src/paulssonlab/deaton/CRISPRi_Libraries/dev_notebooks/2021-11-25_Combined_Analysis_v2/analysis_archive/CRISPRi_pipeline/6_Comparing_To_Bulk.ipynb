{
 "cells": [
  {
   "cell_type": "markdown",
   "id": "d9ce607b-e2a6-468d-a7bc-bff3bea0d61a",
   "metadata": {},
   "source": [
    "## Comparing to Bulk\n",
    "\n",
    "In this notebook, do a systematic essentiality comparison to the results in bulk."
   ]
  }
 ],
 "metadata": {
  "kernelspec": {
   "display_name": "Python 3 (ipykernel)",
   "language": "python",
   "name": "python3"
  },
  "language_info": {
   "codemirror_mode": {
    "name": "ipython",
    "version": 3
   },
   "file_extension": ".py",
   "mimetype": "text/x-python",
   "name": "python",
   "nbconvert_exporter": "python",
   "pygments_lexer": "ipython3",
   "version": "3.8.5"
  }
 },
 "nbformat": 4,
 "nbformat_minor": 5
}
