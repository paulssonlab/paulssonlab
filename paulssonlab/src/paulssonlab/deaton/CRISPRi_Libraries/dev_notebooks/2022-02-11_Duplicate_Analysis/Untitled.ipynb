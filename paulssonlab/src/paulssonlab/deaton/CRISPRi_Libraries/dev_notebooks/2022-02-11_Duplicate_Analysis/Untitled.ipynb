{
 "cells": [
  {
   "cell_type": "code",
   "execution_count": null,
   "id": "72f46234-8426-4ce6-a618-c41a25b13ea7",
   "metadata": {},
   "outputs": [],
   "source": [
    "import paulssonlab.deaton.trenchripper.trenchripper as tr\n",
    "\n",
    "import warnings\n",
    "\n",
    "warnings.filterwarnings(action=\"once\")\n",
    "\n",
    "import matplotlib\n",
    "import dask.dataframe as dd\n",
    "import pandas as pd\n",
    "\n",
    "matplotlib.rcParams[\"figure.figsize\"] = [20, 10]"
   ]
  },
  {
   "cell_type": "code",
   "execution_count": null,
   "id": "6ccc9ee9-cbab-4653-85b3-8d99075b15a1",
   "metadata": {},
   "outputs": [],
   "source": [
    "import h5py\n",
    "import numpy as np\n",
    "from matplotlib import pyplot as plt"
   ]
  },
  {
   "cell_type": "code",
   "execution_count": null,
   "id": "388f0ae5-9df7-412d-aa1d-78c2a97619c9",
   "metadata": {},
   "outputs": [],
   "source": [
    "with h5py.File(\n",
    "    \"/home/de64/scratch/de64/sync_folder/2022-01-18_lDE20_Final_5/Growth_Division/hdf5/hdf5_160.hdf5\",\n",
    "    \"r\",\n",
    ") as infile:\n",
    "    stack_1 = infile[\"mCherry\"][:]\n",
    "with h5py.File(\n",
    "    \"/home/de64/scratch/de64/sync_folder/2022-01-20_lDE20_Final_6/Growth_Division/hdf5/hdf5_160.hdf5\",\n",
    "    \"r\",\n",
    ") as infile:\n",
    "    stack_2 = infile[\"mCherry\"][:]"
   ]
  },
  {
   "cell_type": "code",
   "execution_count": null,
   "id": "7d63d5b1-1783-4303-ae99-cc59887013c2",
   "metadata": {},
   "outputs": [],
   "source": [
    "seg_1_handle = tr.segment.fluo_segmentation_cluster(\n",
    "    \"/home/de64/scratch/de64/sync_folder/2022-01-18_lDE20_Final_5/Growth_Division/\",\n",
    "    paramfile=True,\n",
    ")\n",
    "seg_2_handle = tr.segment.fluo_segmentation_cluster(\n",
    "    \"/home/de64/scratch/de64/sync_folder/2022-01-20_lDE20_Final_6/Growth_Division/\",\n",
    "    paramfile=True,\n",
    ")"
   ]
  },
  {
   "cell_type": "code",
   "execution_count": null,
   "id": "bbb3bd1c-27bb-4cb6-834b-76a64f607059",
   "metadata": {},
   "outputs": [],
   "source": [
    "plt.imshow(stack_2[0])\n",
    "plt.show()"
   ]
  },
  {
   "cell_type": "code",
   "execution_count": null,
   "id": "ce5ed881-3c4d-455d-9a37-0bd9eaba71ed",
   "metadata": {},
   "outputs": [],
   "source": [
    "plt.imshow(stack_1[0] > 1500)\n",
    "plt.show()"
   ]
  },
  {
   "cell_type": "code",
   "execution_count": null,
   "id": "d470a67d-6dd8-472e-b161-67d81159874d",
   "metadata": {},
   "outputs": [],
   "source": [
    "stack_2.shape"
   ]
  },
  {
   "cell_type": "code",
   "execution_count": null,
   "id": "51fa931b-0278-40d7-9ebc-411c0555a640",
   "metadata": {},
   "outputs": [],
   "source": []
  },
  {
   "cell_type": "code",
   "execution_count": null,
   "id": "1df26fba-f356-4875-ba57-ad2f75a272bd",
   "metadata": {},
   "outputs": [],
   "source": [
    "seg_1 = stack_1 > 1500"
   ]
  },
  {
   "cell_type": "code",
   "execution_count": null,
   "id": "677af3e7-3f83-4e07-acd7-e4b7779440a1",
   "metadata": {},
   "outputs": [],
   "source": [
    "seg_2 = stack_2 > 1500"
   ]
  },
  {
   "cell_type": "code",
   "execution_count": null,
   "id": "acab8e95-588c-4ff1-b71b-b81ff8788ca1",
   "metadata": {},
   "outputs": [],
   "source": [
    "import skimage as sk"
   ]
  },
  {
   "cell_type": "code",
   "execution_count": null,
   "id": "8b6149bb-fc97-4d56-aff0-2f027afb3c59",
   "metadata": {},
   "outputs": [],
   "source": [
    "label_1 = np.array([sk.measure.label(seg_1[i]) for i in range(seg_1.shape[0])])"
   ]
  },
  {
   "cell_type": "code",
   "execution_count": null,
   "id": "203e39ae-c0ef-44e8-bd16-01d9dd966d3a",
   "metadata": {},
   "outputs": [],
   "source": [
    "label_2 = np.array([sk.measure.label(seg_2[i]) for i in range(seg_2.shape[0])])"
   ]
  },
  {
   "cell_type": "code",
   "execution_count": null,
   "id": "663c194a-0221-4ab9-847b-90d9fd90f389",
   "metadata": {},
   "outputs": [],
   "source": [
    "label_1.shape"
   ]
  },
  {
   "cell_type": "code",
   "execution_count": null,
   "id": "5c14b3f2-b177-4342-b5fe-70cc6dcd6274",
   "metadata": {},
   "outputs": [],
   "source": [
    "props_1 = [\n",
    "    sk.measure.regionprops(label_1[i], intensity_image=stack_1[i])\n",
    "    for i in range(label_1.shape[0])\n",
    "]\n",
    "props_1 = [obj.intensity_mean for item in props_1 for obj in item]\n",
    "\n",
    "props_2 = [\n",
    "    sk.measure.regionprops(label_2[i], intensity_image=stack_2[i])\n",
    "    for i in range(label_2.shape[0])\n",
    "]\n",
    "props_2 = [obj.intensity_mean for item in props_2 for obj in item]"
   ]
  },
  {
   "cell_type": "code",
   "execution_count": null,
   "id": "f6fe713b-b4f2-4303-a960-9b848380c32e",
   "metadata": {},
   "outputs": [],
   "source": [
    "plt.hist(props_1, bins=100)\n",
    "plt.show()"
   ]
  },
  {
   "cell_type": "code",
   "execution_count": null,
   "id": "d0bf074c-d3b7-462e-b679-8db09753833e",
   "metadata": {},
   "outputs": [],
   "source": [
    "plt.hist(props_2, bins=100)\n",
    "plt.show()"
   ]
  },
  {
   "cell_type": "code",
   "execution_count": null,
   "id": "baaa4879-2e08-406a-8bf9-aa6f997ad8f7",
   "metadata": {},
   "outputs": [],
   "source": [
    "plt.hist(props_1, bins=100, alpha=0.4, density=True, log=True)\n",
    "plt.hist(props_2, bins=100, alpha=0.4, density=True, log=True)\n",
    "plt.show()"
   ]
  },
  {
   "cell_type": "code",
   "execution_count": null,
   "id": "f9be3eb5-6933-4132-a2aa-c03abaffa905",
   "metadata": {},
   "outputs": [],
   "source": [
    "dask_controller = tr.trcluster.dask_controller(\n",
    "    walltime=\"01:00:00\",\n",
    "    local=False,\n",
    "    n_workers=50,\n",
    "    n_workers_min=20,\n",
    "    memory=\"16GB\",\n",
    "    working_directory=\"/home/de64/scratch/de64/dask\",\n",
    ")\n",
    "dask_controller.startdask()"
   ]
  },
  {
   "cell_type": "code",
   "execution_count": null,
   "id": "d5fae993-a031-48b7-bde8-dc4a9e00cdfc",
   "metadata": {},
   "outputs": [],
   "source": [
    "dask_controller.displaydashboard()"
   ]
  },
  {
   "cell_type": "code",
   "execution_count": null,
   "id": "7602bfc3-9181-4a3c-9f3c-a8c965e059ab",
   "metadata": {},
   "outputs": [],
   "source": [
    "import dask.dataframe as dd\n",
    "\n",
    "lineage_df_1 = dd.read_parquet(\n",
    "    \"/home/de64/scratch/de64/sync_folder/2022-01-18_lDE20_Final_5/Growth_Division/lineage/\"\n",
    ")\n",
    "lineage_df_2 = dd.read_parquet(\n",
    "    \"/home/de64/scratch/de64/sync_folder/2022-01-20_lDE20_Final_6/Growth_Division/lineage/\"\n",
    ")"
   ]
  },
  {
   "cell_type": "code",
   "execution_count": null,
   "id": "8cd9dbd9-8932-49b2-b202-f00fac30a95a",
   "metadata": {},
   "outputs": [],
   "source": [
    "mchy_1 = lineage_df_1[\"mCherry mean_intensity\"].sample(frac=0.01).compute()\n",
    "mchy_2 = lineage_df_2[\"mCherry mean_intensity\"].sample(frac=0.01).compute()"
   ]
  },
  {
   "cell_type": "code",
   "execution_count": null,
   "id": "00333a50-19ea-455b-bbeb-249aff3508d2",
   "metadata": {},
   "outputs": [],
   "source": [
    "plt.hist(mchy_1.values, bins=50)\n",
    "plt.show()"
   ]
  },
  {
   "cell_type": "code",
   "execution_count": null,
   "id": "769cd080-32dc-48bc-86b6-0f40161a05a5",
   "metadata": {},
   "outputs": [],
   "source": [
    "plt.hist(mchy_2.values, bins=50)\n",
    "plt.show()"
   ]
  },
  {
   "cell_type": "code",
   "execution_count": null,
   "id": "dd4dded0-16c9-40da-a065-239e8382b81e",
   "metadata": {},
   "outputs": [],
   "source": [
    "plt.hist(\n",
    "    mchy_1.values, bins=100, alpha=0.4, density=True, log=True, range=(2000, 12000)\n",
    ")\n",
    "plt.hist(\n",
    "    mchy_2.values, bins=100, alpha=0.4, density=True, log=True, range=(2000, 12000)\n",
    ")\n",
    "plt.show()"
   ]
  },
  {
   "cell_type": "code",
   "execution_count": null,
   "id": "0e313ab2-151f-429e-8350-f8ccbb8d7afe",
   "metadata": {},
   "outputs": [],
   "source": []
  },
  {
   "cell_type": "markdown",
   "id": "c56f0cf3-339f-488b-85d5-78c451026aba",
   "metadata": {},
   "source": [
    "- Confirmed that the mean seems to be a bit different between the experiments (at least in this FOV); this shouldn't be too suprising.\n",
    "- Checking lineage dfs..\n",
    "- Checking final lineage and barcode dfs\n",
    "- Now suspicous that the barcodes in the first experiment (2022-01-18_lDE20_Final_5) were misread or otherwise scrambled. Re-running pipeline to check if calling one of the bits differently (and consistant with the other experiment) fixes it\n",
    "    - Evidence was that shuffling the labels on the second experiment reproduced the distributions from the first\n",
    "- If re-run fails, then need to investigate if there is a point in the pipeline where labels could get scrambled?\n",
    "<!-- - Should now rerun the 2nd dataset with the altered value for kymograph param -->"
   ]
  },
  {
   "cell_type": "code",
   "execution_count": null,
   "id": "af10b5b2-4e07-40fa-8861-7438328a1fb5",
   "metadata": {},
   "outputs": [],
   "source": [
    "final_lineage_df1 = dd.read_parquet(\n",
    "    \"/home/de64/scratch/de64/sync_folder/2022-01-18_lDE20_Final_5/2022-02-15_lDE20_Final_Lineage_df/\"\n",
    ")\n",
    "final_lineage_df2 = dd.read_parquet(\n",
    "    \"/home/de64/scratch/de64/sync_folder/2022-01-20_lDE20_Final_6/2022-02-09_lDE20_Final_Lineage_df/\"\n",
    ")"
   ]
  },
  {
   "cell_type": "code",
   "execution_count": null,
   "id": "3afc6f49-5e49-433e-9ec6-cdb35a7693f8",
   "metadata": {},
   "outputs": [],
   "source": [
    "mchy1 = final_lineage_df1[\"Mean: mCherry Intensity\"].sample(frac=0.01).compute()\n",
    "mchy2 = final_lineage_df2[\"Mean: mCherry Intensity\"].sample(frac=0.01).compute()"
   ]
  },
  {
   "cell_type": "code",
   "execution_count": null,
   "id": "482c4760-bd32-4c5c-a6a9-3f8d7ba5d872",
   "metadata": {},
   "outputs": [],
   "source": [
    "plt.hist(mchy1, bins=100, alpha=0.4, density=True, log=True)\n",
    "plt.hist(mchy2, bins=100, alpha=0.4, density=True, log=True)\n",
    "plt.show()"
   ]
  },
  {
   "cell_type": "code",
   "execution_count": null,
   "id": "1f6108a4-5d06-4262-a262-3bf74377b752",
   "metadata": {},
   "outputs": [],
   "source": [
    "gene_cluster_df_full_w_control = pd.read_pickle(\n",
    "    \"/home/de64/scratch/de64/sync_folder/2022-01-18_lDE20_Final_5/2022-02-15_gene_cluster_df_no_filter.pkl\"\n",
    ")\n",
    "gene_cluster_df_full = gene_cluster_df_full_w_control.dropna(\n",
    "    subset=[\"Gene\"]\n",
    ")  # no control genes\n",
    "\n",
    "gene_cluster_df_full_w_control_2 = pd.read_pickle(\n",
    "    \"/home/de64/scratch/de64/sync_folder/2022-01-20_lDE20_Final_6/2022-02-10_gene_cluster_df_no_filter.pkl\"\n",
    ")\n",
    "gene_cluster_df_full_2 = gene_cluster_df_full_w_control_2.dropna(\n",
    "    subset=[\"Gene\"]\n",
    ")  # no control genes"
   ]
  },
  {
   "cell_type": "code",
   "execution_count": null,
   "id": "10a420f7-a26e-4fad-938d-0e5d625ea733",
   "metadata": {},
   "outputs": [],
   "source": [
    "plt.hist(\n",
    "    gene_cluster_df_full[\"Mean: mCherry Intensity\"],\n",
    "    bins=100,\n",
    "    alpha=0.4,\n",
    "    density=True,\n",
    "    log=True,\n",
    ")\n",
    "plt.hist(\n",
    "    gene_cluster_df_full_2[\"Mean: mCherry Intensity\"],\n",
    "    bins=100,\n",
    "    alpha=0.4,\n",
    "    density=True,\n",
    "    log=True,\n",
    ")\n",
    "plt.show()"
   ]
  },
  {
   "cell_type": "code",
   "execution_count": null,
   "id": "1764b536-78eb-4288-bc78-83b5077aae56",
   "metadata": {},
   "outputs": [],
   "source": [
    "import numpy as np"
   ]
  },
  {
   "cell_type": "code",
   "execution_count": null,
   "id": "f2865c64-4b2d-401d-84f4-a07944e12e4e",
   "metadata": {},
   "outputs": [],
   "source": [
    "mchy_traces_1 = np.stack(\n",
    "    gene_cluster_df_full[\"Kernel Trace: Mean: mCherry Intensity\"].tolist()\n",
    ")\n",
    "mchy_traces_2 = np.stack(\n",
    "    gene_cluster_df_full_2[\"Kernel Trace: Mean: mCherry Intensity\"].tolist()\n",
    ")"
   ]
  },
  {
   "cell_type": "code",
   "execution_count": null,
   "id": "a09a4330-622c-40cb-b5fc-f28da24a0a3b",
   "metadata": {},
   "outputs": [],
   "source": [
    "plt.hist(mchy_traces_1.flatten(), bins=100, alpha=0.4, density=True, log=True)\n",
    "plt.hist(mchy_traces_2.flatten(), bins=100, alpha=0.4, density=True, log=True)\n",
    "plt.show()"
   ]
  },
  {
   "cell_type": "code",
   "execution_count": null,
   "id": "748bae77-3d77-46a5-bcbd-d62d5c7294db",
   "metadata": {},
   "outputs": [],
   "source": [
    "plt.hist(np.mean(mchy_traces_1, axis=1), bins=100, alpha=0.4, density=True, log=True)\n",
    "plt.hist(np.mean(mchy_traces_2, axis=1), bins=100, alpha=0.4, density=True, log=True)\n",
    "plt.show()"
   ]
  },
  {
   "cell_type": "code",
   "execution_count": null,
   "id": "0930eae2-622a-4f1b-a30d-783167f71ac9",
   "metadata": {},
   "outputs": [],
   "source": [
    "import paulssonlab.deaton.trenchripper.trenchripper as tr\n",
    "\n",
    "import warnings\n",
    "\n",
    "warnings.filterwarnings(action=\"once\")\n",
    "\n",
    "import matplotlib\n",
    "import dask.dataframe as dd\n",
    "import pandas as pd\n",
    "\n",
    "matplotlib.rcParams[\"figure.figsize\"] = [20, 10]"
   ]
  },
  {
   "cell_type": "code",
   "execution_count": null,
   "id": "58491645-4896-4a1d-8d11-2d3308d376fb",
   "metadata": {},
   "outputs": [],
   "source": [
    "with h5py.File(\n",
    "    \"/home/de64/scratch/de64/sync_folder/2021-11-08_lDE20_Final_3/Growth_Division/hdf5/hdf5_160.hdf5\",\n",
    "    \"r\",\n",
    ") as infile:\n",
    "    stack_1 = infile[\"mCherry\"][:10] - 200\n",
    "with h5py.File(\n",
    "    \"/home/de64/scratch/de64/sync_folder/2022-01-20_lDE20_Final_6/Growth_Division/hdf5/hdf5_160.hdf5\",\n",
    "    \"r\",\n",
    ") as infile:\n",
    "    stack_2 = infile[\"mCherry\"][:10] - 200"
   ]
  },
  {
   "cell_type": "code",
   "execution_count": null,
   "id": "bb42319c-02a8-4634-810f-acb99640ad43",
   "metadata": {},
   "outputs": [],
   "source": [
    "stack_1_filt = stack_1[0][stack_1[0] > 1500]\n",
    "stack_2_filt = stack_2[0][stack_2[0] > 1500]"
   ]
  },
  {
   "cell_type": "code",
   "execution_count": null,
   "id": "5749e06b-012c-4fab-8699-cfebad9001ba",
   "metadata": {},
   "outputs": [],
   "source": [
    "from matplotlib import pyplot as plt"
   ]
  },
  {
   "cell_type": "code",
   "execution_count": null,
   "id": "5fd9a334-5fa0-48d0-8f58-3b1f92951de5",
   "metadata": {},
   "outputs": [],
   "source": [
    "plt.hist(stack_1.flatten(), bins=50, range=(0, 6000), alpha=0.5)\n",
    "plt.hist(stack_2.flatten(), bins=50, range=(0, 6000), alpha=0.5)\n",
    "plt.show()"
   ]
  },
  {
   "cell_type": "code",
   "execution_count": null,
   "id": "ddbd0aa2-f8e0-4294-a001-48905d8eb0c9",
   "metadata": {},
   "outputs": [],
   "source": [
    "np.mean(stack_1)"
   ]
  },
  {
   "cell_type": "code",
   "execution_count": null,
   "id": "9e2ae42c-5948-47d3-9b9a-e8a9262db5fc",
   "metadata": {},
   "outputs": [],
   "source": [
    "np.mean(stack_2)"
   ]
  },
  {
   "cell_type": "code",
   "execution_count": null,
   "id": "0bd82bca-4d56-4d90-ad34-aa5ec6cfad2e",
   "metadata": {},
   "outputs": [],
   "source": [
    "with h5py.File(\n",
    "    \"/home/de64/scratch/de64/sync_folder/2021-11-08_lDE20_Final_3/Barcodes/hdf5/hdf5_160.hdf5\",\n",
    "    \"r\",\n",
    ") as infile:\n",
    "    stack_1 = infile[\"Cy7\"][:] - 400\n",
    "with h5py.File(\n",
    "    \"/home/de64/scratch/de64/sync_folder/2022-01-20_lDE20_Final_6/Barcodes/hdf5/hdf5_160.hdf5\",\n",
    "    \"r\",\n",
    ") as infile:\n",
    "    stack_2 = infile[\"Cy7\"][:] - 400"
   ]
  },
  {
   "cell_type": "code",
   "execution_count": null,
   "id": "93655215-5df1-4b25-b30d-cb452802884c",
   "metadata": {},
   "outputs": [],
   "source": [
    "plt.hist(stack_1.flatten(), bins=50, range=(0, 1000), alpha=0.5)\n",
    "plt.hist(stack_2.flatten(), bins=50, range=(0, 1000), alpha=0.5)\n",
    "plt.show()"
   ]
  },
  {
   "cell_type": "code",
   "execution_count": null,
   "id": "009e4ea4-4976-4f7c-845b-c315f73b1675",
   "metadata": {},
   "outputs": [],
   "source": []
  },
  {
   "cell_type": "code",
   "execution_count": null,
   "id": "d15ff3de-bf10-40e0-aeba-0a7bd64f77d6",
   "metadata": {},
   "outputs": [],
   "source": []
  }
 ],
 "metadata": {
  "kernelspec": {
   "display_name": "Python 3",
   "language": "python",
   "name": "python3"
  },
  "language_info": {
   "codemirror_mode": {
    "name": "ipython",
    "version": 3
   },
   "file_extension": ".py",
   "mimetype": "text/x-python",
   "name": "python",
   "nbconvert_exporter": "python",
   "pygments_lexer": "ipython3",
   "version": "3.8.5"
  }
 },
 "nbformat": 4,
 "nbformat_minor": 5
}
