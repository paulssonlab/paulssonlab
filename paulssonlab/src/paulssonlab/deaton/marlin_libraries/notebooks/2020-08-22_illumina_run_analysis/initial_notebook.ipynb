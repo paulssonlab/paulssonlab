{
 "cells": [
  {
   "cell_type": "code",
   "execution_count": null,
   "metadata": {},
   "outputs": [],
   "source": [
    "import gzip\n",
    "import shutil\n",
    "import glob\n",
    "import os\n",
    "\n",
    "from Bio import SeqIO\n",
    "from Bio.Seq import Seq\n",
    "from Bio import motifs\n",
    "from Bio.Alphabet import IUPAC\n",
    "import numpy as np\n",
    "from matplotlib import pyplot as plt"
   ]
  },
  {
   "cell_type": "code",
   "execution_count": null,
   "metadata": {},
   "outputs": [],
   "source": [
    "def gunzip_all(headpath):\n",
    "    for filename in glob.iglob(headpath + \"/**/*.gz\", recursive=True):\n",
    "        with gzip.open(filename, \"rb\") as f_in:\n",
    "            with open(os.path.splitext(filename)[0], \"wb\") as f_out:\n",
    "                shutil.copyfileobj(f_in, f_out)"
   ]
  },
  {
   "cell_type": "code",
   "execution_count": null,
   "metadata": {},
   "outputs": [],
   "source": [
    "headpath = \"/n/scratch3/users/d/de64/2020-08-22_lDE11_run\""
   ]
  },
  {
   "cell_type": "code",
   "execution_count": null,
   "metadata": {},
   "outputs": [],
   "source": [
    "\"/n/scratch3/users/d/de64/2020-08-22_lDE11_run/BC2_L001-ds.c37aa7639b2b4ee188346cb6e15bac31/\""
   ]
  },
  {
   "cell_type": "markdown",
   "metadata": {},
   "source": [
    "### Unzip All"
   ]
  },
  {
   "cell_type": "code",
   "execution_count": null,
   "metadata": {},
   "outputs": [],
   "source": [
    "gunzip_all(headpath)"
   ]
  },
  {
   "cell_type": "code",
   "execution_count": null,
   "metadata": {},
   "outputs": [],
   "source": [
    "!head '/n/scratch3/users/d/de64/2020-08-22_lDE11_run/BC1_L001-ds.b282eb9272a34059a378b4aeae518283/BC1_S2_L001_R1_001.fastq'"
   ]
  },
  {
   "cell_type": "markdown",
   "metadata": {},
   "source": [
    "### Binning by Nmer"
   ]
  },
  {
   "cell_type": "code",
   "execution_count": null,
   "metadata": {},
   "outputs": [],
   "source": [
    "datapath = \"/n/scratch3/users/d/de64/2020-08-22_lDE11_run/BC1_L001-ds.b282eb9272a34059a378b4aeae518283/BC1_S2_L001_R1_001.fastq\""
   ]
  },
  {
   "cell_type": "code",
   "execution_count": null,
   "metadata": {},
   "outputs": [],
   "source": [
    "def rev_comp(instr):\n",
    "    instr = Seq(instr.upper(), IUPAC.unambiguous_dna)\n",
    "    rcinstr = instr.reverse_complement()\n",
    "    rcinstr = str(rcinstr)\n",
    "    return rcinstr\n",
    "\n",
    "\n",
    "def get_fastq_paths(headpath):\n",
    "    fwdread_paths = {}\n",
    "    revread_paths = {}\n",
    "    for path in glob.iglob(headpath + \"/**/*.fastq\", recursive=True):\n",
    "        filename = path.split(\"/\")[-1].split(\"_\")\n",
    "        read_ID = filename[-2]\n",
    "        dset_name = filename[0]\n",
    "        if read_ID == \"R1\":\n",
    "            fwdread_paths[dset_name] = path\n",
    "        else:\n",
    "            revread_paths[dset_name] = path\n",
    "    return fwdread_paths, revread_paths\n",
    "\n",
    "\n",
    "def get_Nmer_list(\n",
    "    fastqpath, handle_seq=\"ACGAACGTTAGCAGCACTAT\", reverse_complement=False\n",
    "):\n",
    "    if reverse_complement:\n",
    "        handle_seq = rev_comp(handle_seq)\n",
    "\n",
    "    handle_len = len(handle_seq)\n",
    "    Nmer_dict = {}\n",
    "\n",
    "    for idx, record in enumerate(SeqIO.parse(fastqpath, \"fastq\")):\n",
    "        Nmer_start = record.seq.find(handle_seq)\n",
    "        if Nmer_start > 0:\n",
    "            if reverse_complement:\n",
    "                Nmer = rev_comp(str(record.seq[Nmer_start - 15 : Nmer_start]))\n",
    "            else:\n",
    "                Nmer = str(\n",
    "                    record.seq[Nmer_start + handle_len : Nmer_start + handle_len + 15]\n",
    "                )\n",
    "            Nmer_dict[idx] = Nmer\n",
    "        else:\n",
    "            Nmer_dict[idx] = None\n",
    "    return Nmer_dict\n",
    "\n",
    "\n",
    "def get_Nmer_codebook(Nmer_list, final_Nmer_idx):\n",
    "    Nmer_codebook = {}\n",
    "    for key, val in Nmer_list.items():\n",
    "        if val in final_Nmer_idx.keys():\n",
    "            Nmer_codebook[key] = final_Nmer_idx[val]\n",
    "        else:\n",
    "            Nmer_codebook[key] = None\n",
    "    return Nmer_codebook"
   ]
  },
  {
   "cell_type": "code",
   "execution_count": null,
   "metadata": {},
   "outputs": [],
   "source": [
    "fwdread_paths, revread_paths = get_fastq_paths(headpath)"
   ]
  },
  {
   "cell_type": "code",
   "execution_count": null,
   "metadata": {},
   "outputs": [],
   "source": [
    "Nmer_list_dict = {}"
   ]
  },
  {
   "cell_type": "code",
   "execution_count": null,
   "metadata": {},
   "outputs": [],
   "source": [
    "Nmer_list_dict[\"GFP\"] = get_Nmer_list(\n",
    "    revread_paths[\"GFP\"], handle_seq=\"ACGAACGTTAGCAGCACTAT\", reverse_complement=True\n",
    ")\n",
    "Nmer_list_dict[\"BC1\"] = get_Nmer_list(\n",
    "    fwdread_paths[\"BC1\"], handle_seq=\"ACGAACGTTAGCAGCACTAT\", reverse_complement=False\n",
    ")\n",
    "Nmer_list_dict[\"BC2\"] = get_Nmer_list(\n",
    "    fwdread_paths[\"BC2\"], handle_seq=\"ACGAACGTTAGCAGCACTAT\", reverse_complement=False\n",
    ")"
   ]
  },
  {
   "cell_type": "code",
   "execution_count": null,
   "metadata": {},
   "outputs": [],
   "source": [
    "all_Nmers = [\n",
    "    Nmer for _, val in Nmer_list_dict.items() for _, Nmer in val.items() if Nmer != None\n",
    "]\n",
    "all_Nmer_arr = np.array(all_Nmers)\n",
    "\n",
    "unique, counts = np.unique(all_Nmer_arr, return_counts=True)\n",
    "final_Nmer_arr = unique[counts > 30]\n",
    "final_Nmer_arr_counts = counts[counts > 30]\n",
    "final_Nmer_idx = dict(zip(final_Nmer_arr, range(len(final_Nmer_arr))))"
   ]
  },
  {
   "cell_type": "code",
   "execution_count": null,
   "metadata": {},
   "outputs": [],
   "source": [
    "final_Nmer_idx"
   ]
  },
  {
   "cell_type": "code",
   "execution_count": null,
   "metadata": {},
   "outputs": [],
   "source": [
    "Nmer_codebooks = {}\n",
    "\n",
    "Nmer_codebooks[\"GFP\"] = get_Nmer_codebook(Nmer_list_dict[\"GFP\"], final_Nmer_idx)\n",
    "Nmer_codebooks[\"BC1\"] = get_Nmer_codebook(Nmer_list_dict[\"BC1\"], final_Nmer_idx)\n",
    "Nmer_codebooks[\"BC2\"] = get_Nmer_codebook(Nmer_list_dict[\"BC2\"], final_Nmer_idx)"
   ]
  },
  {
   "cell_type": "markdown",
   "metadata": {},
   "source": [
    "### Make consensuses"
   ]
  },
  {
   "cell_type": "code",
   "execution_count": null,
   "metadata": {},
   "outputs": [],
   "source": [
    "len(final_Nmer_idx)"
   ]
  },
  {
   "cell_type": "code",
   "execution_count": null,
   "metadata": {},
   "outputs": [],
   "source": [
    "rev_comp(\"AGAGGAAAGGAGAAAGGTGA\")"
   ]
  },
  {
   "cell_type": "code",
   "execution_count": null,
   "metadata": {},
   "outputs": [],
   "source": [
    "rev_comp(\"ATAGGAAATGGTGGTAGTGT\")"
   ]
  },
  {
   "cell_type": "code",
   "execution_count": null,
   "metadata": {},
   "outputs": [],
   "source": [
    "handle_seq = \"ACGAACGTTAGCAGCACTAT\"\n",
    "key = \"BC2\"\n",
    "\n",
    "grouped_reads = {i: [] for i in range(len(final_Nmer_idx))}\n",
    "\n",
    "fwd_path = fwdread_paths[key]\n",
    "rev_path = revread_paths[key]\n",
    "Nmer_codebook = Nmer_codebooks[key]\n",
    "for idx, record in enumerate(SeqIO.parse(fwd_path, \"fastq\")):\n",
    "    if Nmer_codebook[idx] != None:\n",
    "        record_str = str(record.seq)\n",
    "        Nmer_start = record.seq.find(handle_seq)\n",
    "        if len(record.seq[Nmer_start : Nmer_start + 146]) == 146:\n",
    "            grouped_reads[Nmer_codebook[idx]].append(\n",
    "                record.seq[Nmer_start : Nmer_start + 146]\n",
    "            )"
   ]
  },
  {
   "cell_type": "code",
   "execution_count": null,
   "metadata": {},
   "outputs": [],
   "source": [
    "grouped_reads[0]"
   ]
  },
  {
   "cell_type": "code",
   "execution_count": null,
   "metadata": {},
   "outputs": [],
   "source": [
    "def plot_second_max(grouped_reads):\n",
    "    try:\n",
    "        m = motifs.create(grouped_reads).counts.normalize(pseudocounts=0.001)\n",
    "        m = np.array([list(m[key]) for key in m.keys()]).T\n",
    "        where_max = np.equal(m, np.max(m, axis=1)[:, np.newaxis])\n",
    "        second_max = np.max(m[~where_max].reshape(m.shape[0], 3), axis=1)\n",
    "        plt.plot(second_max, c=\"grey\", alpha=0.3)\n",
    "    except:\n",
    "        pass\n",
    "\n",
    "\n",
    "def get_over_thr_arr(grouped_reads):\n",
    "    over_thr_arr = []\n",
    "    for _, val in grouped_reads.items():\n",
    "        try:\n",
    "            m = motifs.create(val).counts.normalize(pseudocounts=0.001)\n",
    "            m = np.array([list(m[key]) for key in m.keys()]).T\n",
    "            where_max = np.equal(m, np.max(m, axis=1)[:, np.newaxis])\n",
    "            second_max = np.max(m[~where_max].reshape(m.shape[0], 3), axis=1)\n",
    "            over_thr = second_max > 0.1\n",
    "            over_thr_arr.append(over_thr)\n",
    "        except:\n",
    "            pass\n",
    "    over_thr_arr = np.array(over_thr_arr)\n",
    "    return over_thr_arr"
   ]
  },
  {
   "cell_type": "code",
   "execution_count": null,
   "metadata": {},
   "outputs": [],
   "source": [
    "for i in range(1000):\n",
    "    plot_second_max(grouped_reads[i])\n",
    "plt.show()"
   ]
  },
  {
   "cell_type": "code",
   "execution_count": null,
   "metadata": {},
   "outputs": [],
   "source": [
    "over_thr_arr = get_over_thr_arr(grouped_reads)"
   ]
  },
  {
   "cell_type": "code",
   "execution_count": null,
   "metadata": {},
   "outputs": [],
   "source": [
    "over_thr_arr.shape"
   ]
  },
  {
   "cell_type": "code",
   "execution_count": null,
   "metadata": {},
   "outputs": [],
   "source": [
    "plt.hist(np.sum(over_thr_arr, axis=1) / over_thr_arr.shape[1], range=(0, 0.1), bins=30)\n",
    "plt.show()"
   ]
  },
  {
   "cell_type": "code",
   "execution_count": null,
   "metadata": {},
   "outputs": [],
   "source": [
    "handle_seq = rev_comp(\"ATCACATTGCCATCAGTAAT\")\n",
    "key = \"BC2\"\n",
    "\n",
    "grouped_reads = {i: [] for i in range(len(final_Nmer_idx))}\n",
    "\n",
    "fwd_path = fwdread_paths[key]\n",
    "rev_path = revread_paths[key]\n",
    "Nmer_codebook = Nmer_codebooks[key]\n",
    "for idx, record in enumerate(SeqIO.parse(rev_path, \"fastq\")):\n",
    "    if Nmer_codebook[idx] != None:\n",
    "        record_str = str(record.seq)\n",
    "        Nmer_start = record.seq.find(handle_seq)\n",
    "        if len(record.seq[Nmer_start : Nmer_start + 142]) == 142:\n",
    "            grouped_reads[Nmer_codebook[idx]].append(\n",
    "                record.seq[Nmer_start : Nmer_start + 142]\n",
    "            )"
   ]
  },
  {
   "cell_type": "code",
   "execution_count": null,
   "metadata": {},
   "outputs": [],
   "source": [
    "str(grouped_reads[0][0])"
   ]
  },
  {
   "cell_type": "code",
   "execution_count": null,
   "metadata": {},
   "outputs": [],
   "source": [
    "for i in range(1000):\n",
    "    plot_second_max(grouped_reads[i])\n",
    "plt.show()"
   ]
  },
  {
   "cell_type": "code",
   "execution_count": null,
   "metadata": {},
   "outputs": [],
   "source": [
    "over_thr_arr = get_over_thr_arr(grouped_reads)"
   ]
  },
  {
   "cell_type": "code",
   "execution_count": null,
   "metadata": {},
   "outputs": [],
   "source": [
    "plt.hist(np.sum(over_thr_arr, axis=1) / over_thr_arr.shape[1], range=(0, 0.1), bins=30)\n",
    "plt.show()"
   ]
  },
  {
   "cell_type": "code",
   "execution_count": null,
   "metadata": {},
   "outputs": [],
   "source": []
  },
  {
   "cell_type": "code",
   "execution_count": null,
   "metadata": {},
   "outputs": [],
   "source": []
  },
  {
   "cell_type": "code",
   "execution_count": null,
   "metadata": {},
   "outputs": [],
   "source": []
  },
  {
   "cell_type": "code",
   "execution_count": null,
   "metadata": {},
   "outputs": [],
   "source": []
  },
  {
   "cell_type": "code",
   "execution_count": null,
   "metadata": {},
   "outputs": [],
   "source": []
  },
  {
   "cell_type": "code",
   "execution_count": null,
   "metadata": {},
   "outputs": [],
   "source": []
  },
  {
   "cell_type": "code",
   "execution_count": null,
   "metadata": {},
   "outputs": [],
   "source": [
    "plt.hist(np.sum(over_thr_arr, axis=1) / over_thr_arr.shape[1], range=(0, 0.1), bins=30)\n",
    "plt.show()"
   ]
  },
  {
   "cell_type": "code",
   "execution_count": null,
   "metadata": {},
   "outputs": [],
   "source": [
    "fwdread_paths[\"BC1\"]"
   ]
  },
  {
   "cell_type": "code",
   "execution_count": null,
   "metadata": {},
   "outputs": [],
   "source": [
    "plt.hist(counts, range=(5, 100))"
   ]
  },
  {
   "cell_type": "code",
   "execution_count": null,
   "metadata": {},
   "outputs": [],
   "source": [
    "plt.hist(final_Nmer_arr_counts, range=(0, 500))"
   ]
  },
  {
   "cell_type": "code",
   "execution_count": null,
   "metadata": {},
   "outputs": [],
   "source": [
    "len(filtered_unique)"
   ]
  },
  {
   "cell_type": "code",
   "execution_count": null,
   "metadata": {},
   "outputs": [],
   "source": [
    "filtered_unique"
   ]
  },
  {
   "cell_type": "code",
   "execution_count": null,
   "metadata": {},
   "outputs": [],
   "source": []
  }
 ],
 "metadata": {
  "kernelspec": {
   "display_name": "Python 3",
   "language": "python",
   "name": "python3"
  },
  "language_info": {
   "codemirror_mode": {
    "name": "ipython",
    "version": 3
   },
   "file_extension": ".py",
   "mimetype": "text/x-python",
   "name": "python",
   "nbconvert_exporter": "python",
   "pygments_lexer": "ipython3",
   "version": "3.7.8"
  }
 },
 "nbformat": 4,
 "nbformat_minor": 4
}
