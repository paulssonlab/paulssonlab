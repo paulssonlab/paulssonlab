{
 "cells": [
  {
   "cell_type": "code",
   "execution_count": null,
   "id": "0",
   "metadata": {},
   "outputs": [],
   "source": [
    "import numpy as np\n",
    "import scipy as sp\n",
    "from matplotlib import pyplot as plt\n",
    "from scipy import stats\n",
    "from sklearn.linear_model import LinearRegression\n",
    "\n",
    "k = 0.1\n",
    "samples = 100000\n",
    "\n",
    "t0 = np.random.uniform(size=(samples,))\n",
    "s0 = np.random.normal(loc=3.0, scale=0.5, size=(samples,))\n",
    "sa = np.random.normal(loc=3.0, scale=0.5, size=(samples,))\n",
    "sf = s0 + sa\n",
    "del_t = (1 / k) * np.log(sf / s0)\n",
    "tf = t0 + del_t\n",
    "tf_obs = np.floor(tf)\n",
    "s_0_obs = s0 * np.exp(k * (1.0 - t0))\n",
    "s_f_obs = s0 * np.exp(k * tf_obs)\n",
    "s_a_obs = s_f_obs - s_0_obs\n",
    "\n",
    "s_0_corr = s0 * np.exp(k * (0.5 - t0))\n",
    "# s_f_corr = s0*np.exp(k*(tf_obs+0.5))\n",
    "s_f_corr = s0 * np.exp(k * (tf_obs))\n",
    "s_a_corr = s_f_corr - s_0_corr\n",
    "\n",
    "s_arr = np.array([s0, sa])\n",
    "s_obs_arr = np.array([s_0_obs, s_a_obs])\n",
    "s_0_corr_arr = np.array([s_0_corr, s_a_corr])"
   ]
  },
  {
   "cell_type": "code",
   "execution_count": null,
   "id": "1",
   "metadata": {},
   "outputs": [],
   "source": [
    "ax = plt.subplot(2, 2, 1)\n",
    "ax.set_xlim(0, 6)\n",
    "ax.set_ylim(0, 6)\n",
    "ax.scatter(s_arr[0], s_arr[1], s=3, alpha=0.1)\n",
    "\n",
    "ax = plt.subplot(2, 2, 2)\n",
    "ax.set_xlim(0, 6)\n",
    "ax.set_ylim(0, 6)\n",
    "ax.scatter(s_obs_arr[0], s_obs_arr[1], s=3, alpha=0.1)\n",
    "plt.show()"
   ]
  },
  {
   "cell_type": "code",
   "execution_count": null,
   "id": "2",
   "metadata": {},
   "outputs": [],
   "source": [
    "plt.xlim(0, 6)\n",
    "plt.ylim(0, 6)\n",
    "plt.scatter(s_arr[0], s_arr[1], s=3, alpha=0.1)"
   ]
  },
  {
   "cell_type": "code",
   "execution_count": null,
   "id": "3",
   "metadata": {},
   "outputs": [],
   "source": [
    "plt.xlim(0, 6)\n",
    "plt.ylim(0, 6)\n",
    "plt.scatter(s_0_corr_arr[0], s_0_corr_arr[1], s=3, alpha=0.1)"
   ]
  },
  {
   "cell_type": "code",
   "execution_count": null,
   "id": "4",
   "metadata": {},
   "outputs": [],
   "source": [
    "start = 1.0\n",
    "end = 5.0\n",
    "bins = 21\n",
    "\n",
    "intervals = np.linspace(start, end, num=bins, dtype=float)\n",
    "spacing = (end - start) / (bins - 1)"
   ]
  },
  {
   "cell_type": "code",
   "execution_count": null,
   "id": "5",
   "metadata": {},
   "outputs": [],
   "source": [
    "s_obs_arr.shape"
   ]
  },
  {
   "cell_type": "code",
   "execution_count": null,
   "id": "6",
   "metadata": {},
   "outputs": [],
   "source": [
    "def plot_char(array, start=1.0, end=5.0, bins=21):\n",
    "    intervals = np.linspace(start, end, num=bins, dtype=float)\n",
    "    spacing = (end - start) / (bins - 1)\n",
    "\n",
    "    x = []\n",
    "    y = []\n",
    "    err = []\n",
    "    for i in intervals:\n",
    "        selection = array[1][(array[0] >= i) & (array[0] < (i + spacing))]\n",
    "        avg_add = np.mean(selection)\n",
    "        sem = sp.stats.sem(selection)\n",
    "        middle_point = i + (spacing / 2)\n",
    "\n",
    "        x.append(middle_point)\n",
    "        y.append(avg_add)\n",
    "        err.append(sem)\n",
    "\n",
    "    plt.xlim(start, end + 0.01)\n",
    "    plt.ylim(start - 1.5, end - 1.49)\n",
    "    plt.gca().set_aspect(\"equal\", adjustable=\"box\")\n",
    "    plt.bar(x, y, yerr=err, width=0.1)"
   ]
  },
  {
   "cell_type": "code",
   "execution_count": null,
   "id": "7",
   "metadata": {},
   "outputs": [],
   "source": [
    "plot_char(s_arr)"
   ]
  },
  {
   "cell_type": "code",
   "execution_count": null,
   "id": "8",
   "metadata": {},
   "outputs": [],
   "source": [
    "plot_char(s_obs_arr)"
   ]
  },
  {
   "cell_type": "code",
   "execution_count": null,
   "id": "9",
   "metadata": {},
   "outputs": [],
   "source": [
    "plot_char(s_0_corr_arr)"
   ]
  },
  {
   "cell_type": "code",
   "execution_count": null,
   "id": "10",
   "metadata": {},
   "outputs": [],
   "source": [
    "start = 1.0\n",
    "end = 5.0\n",
    "bins = 21\n",
    "\n",
    "intervals = np.linspace(start, end, num=bins, dtype=float).reshape(-1, 1)\n",
    "\n",
    "linear_regressor = LinearRegression()  # create object for the class\n",
    "linear_regressor.fit(s_arr[0:1].T, s_arr[1:].T)  # perform linear regression\n",
    "y_pred = linear_regressor.predict(intervals)  # make predictions\n",
    "\n",
    "plt.xlim(0, 6)\n",
    "plt.ylim(0, 6)\n",
    "plt.scatter(s_arr[0], s_arr[1], s=3, alpha=0.1)\n",
    "plt.plot(y_pred, color=\"salmon\")"
   ]
  },
  {
   "cell_type": "code",
   "execution_count": null,
   "id": "11",
   "metadata": {},
   "outputs": [],
   "source": [
    "start = 1.0\n",
    "end = 5.0\n",
    "bins = 21\n",
    "\n",
    "intervals = np.linspace(start, end, num=bins, dtype=float).reshape(-1, 1)\n",
    "\n",
    "linear_regressor = LinearRegression()  # create object for the class\n",
    "linear_regressor.fit(\n",
    "    s_0_corr_arr[0:1].T, s_0_corr_arr[1:].T\n",
    ")  # perform linear regression\n",
    "y_pred = linear_regressor.predict(intervals)  # make predictions\n",
    "\n",
    "plt.xlim(0, 6)\n",
    "plt.ylim(0, 6)\n",
    "plt.scatter(s_0_corr_arr[0], s_0_corr_arr[1], s=3, alpha=0.1)\n",
    "plt.plot(y_pred, color=\"salmon\")"
   ]
  },
  {
   "cell_type": "code",
   "execution_count": null,
   "id": "12",
   "metadata": {},
   "outputs": [],
   "source": [
    "linear_regressor = LinearRegression()  # create object for the class\n",
    "linear_regressor.fit(s_arr[0:1].T, s_arr[1:].T)  # perform linear regression\n",
    "y_pred = linear_regressor.predict(intervals)  # make predictions"
   ]
  },
  {
   "cell_type": "code",
   "execution_count": null,
   "id": "13",
   "metadata": {},
   "outputs": [],
   "source": [
    "b = linear_regressor.intercept_\n",
    "m = linear_regressor.coef_"
   ]
  },
  {
   "cell_type": "code",
   "execution_count": null,
   "id": "14",
   "metadata": {},
   "outputs": [],
   "source": [
    "b, m"
   ]
  },
  {
   "cell_type": "code",
   "execution_count": null,
   "id": "15",
   "metadata": {},
   "outputs": [],
   "source": [
    "def simulate_growth(\n",
    "    samples, k=0.1, added_size=3.0, var=0.5, correction_vals=(0.0, 0.0)\n",
    "):\n",
    "    t0 = np.random.uniform(size=(samples,))\n",
    "    s0 = np.random.normal(loc=added_size, scale=var, size=(samples,))\n",
    "    sa = np.random.normal(loc=added_size, scale=var, size=(samples,))\n",
    "    sf = s0 + sa\n",
    "    del_t = (1 / k) * np.log(sf / s0)\n",
    "    tf = t0 + del_t\n",
    "\n",
    "    t0_obs = 1.0\n",
    "    tf_obs = np.floor(tf)\n",
    "    s_0_obs = s0 * np.exp(k * (1.0 - t0))\n",
    "    s_f_obs = s0 * np.exp(k * tf_obs)\n",
    "    s_a_obs = s_f_obs - s_0_obs\n",
    "\n",
    "    #     s_0_corr = s0*np.exp(k*(0.5-t0))\n",
    "    s_0_corr = s_0_obs * np.exp(correction_vals[0] * k)\n",
    "    # s_f_corr = s0*np.exp(k*(tf_obs+0.5))\n",
    "    s_f_corr = s_f_obs * np.exp(correction_vals[1] * k)\n",
    "    s_a_corr = s_f_corr - s_0_corr\n",
    "\n",
    "    s_arr = np.array([s0, sa])\n",
    "    s_obs_arr = np.array([s_0_obs, s_a_obs])\n",
    "    s_0_corr_arr = np.array([s_0_corr, s_a_corr])\n",
    "\n",
    "    return s_arr, s_obs_arr, s_0_corr_arr"
   ]
  },
  {
   "cell_type": "code",
   "execution_count": null,
   "id": "16",
   "metadata": {},
   "outputs": [],
   "source": [
    "test = np.array([0, 1, 2])"
   ]
  },
  {
   "cell_type": "code",
   "execution_count": null,
   "id": "17",
   "metadata": {},
   "outputs": [],
   "source": [
    "np.random."
   ]
  },
  {
   "cell_type": "code",
   "execution_count": null,
   "id": "18",
   "metadata": {},
   "outputs": [],
   "source": [
    "def simulate_growth_2(\n",
    "    samples, k=0.1, added_size=3.0, var=0.5, rho=0.0, correction_vals=(0.0, 0.0)\n",
    "):\n",
    "    cov = np.array([[var, rho * var], [rho * var, var]])\n",
    "    means = np.array([added_size, added_size])\n",
    "\n",
    "    t0 = np.random.uniform(size=(samples,))\n",
    "    s0_a = np.random.multivariate_normal(mean=means, cov=cov, size=(int(samples * 1.1)))\n",
    "    s0 = s0_a[:, 0]\n",
    "    sa = s0_a[:, 1]\n",
    "    neg_vals = np.logical_or(s0 <= 0, sa <= 0)\n",
    "    s0 = s0[~neg_vals][:samples]\n",
    "    sa = sa[~neg_vals][:samples]\n",
    "\n",
    "    sf = s0 + sa\n",
    "    del_t = (1 / k) * np.log(sf / s0)\n",
    "    tf = t0 + del_t\n",
    "\n",
    "    t0_obs = 1.0\n",
    "    tf_obs = np.floor(tf)\n",
    "    s_0_obs = s0 * np.exp(k * (1.0 - t0))\n",
    "    s_f_obs = s0 * np.exp(k * tf_obs)\n",
    "    s_a_obs = s_f_obs - s_0_obs\n",
    "\n",
    "    #     s_0_corr = s0*np.exp(k*(0.5-t0))\n",
    "    s_0_corr = s_0_obs * np.exp(correction_vals[0] * k)\n",
    "    # s_f_corr = s0*np.exp(k*(tf_obs+0.5))\n",
    "    s_f_corr = s_f_obs * np.exp(correction_vals[1] * k)\n",
    "    s_a_corr = s_f_corr - s_0_corr\n",
    "\n",
    "    s_arr = np.array([s0, sa])\n",
    "    s_obs_arr = np.array([s_0_obs, s_a_obs])\n",
    "    s_0_corr_arr = np.array([s_0_corr, s_a_corr])\n",
    "\n",
    "    return s_arr, s_obs_arr, s_0_corr_arr"
   ]
  },
  {
   "cell_type": "code",
   "execution_count": null,
   "id": "19",
   "metadata": {},
   "outputs": [],
   "source": [
    "test = simulate_growth_2(1000000)[2]"
   ]
  },
  {
   "cell_type": "code",
   "execution_count": null,
   "id": "20",
   "metadata": {},
   "outputs": [],
   "source": [
    "linear_regressor = LinearRegression()  # create object for the class\n",
    "linear_regressor.fit(test[0:1].T, test[1:].T)  # perform linear regression\n",
    "b_obs = linear_regressor.intercept_[0]\n",
    "m_obs = linear_regressor.coef_[0, 0]"
   ]
  },
  {
   "cell_type": "code",
   "execution_count": null,
   "id": "21",
   "metadata": {},
   "outputs": [],
   "source": [
    "test[np.isnan(test)]"
   ]
  },
  {
   "cell_type": "code",
   "execution_count": null,
   "id": "22",
   "metadata": {},
   "outputs": [],
   "source": [
    "samples_per_bootstrap = 10000\n",
    "bootstraps = 200\n",
    "par_1_list = [0.0]\n",
    "par_2_list = [0.0]\n",
    "\n",
    "labels = []\n",
    "b_obs_list_list = []\n",
    "m_obs_list_list = []\n",
    "\n",
    "for par_1 in par_1_list:\n",
    "    for par_2 in par_2_list:\n",
    "        b_list = []\n",
    "        b_obs_list = []\n",
    "        m_list = []\n",
    "        m_obs_list = []\n",
    "\n",
    "        for i in range(bootstraps):\n",
    "            s_arr, s_obs_arr, s_0_corr_arr = simulate_growth(\n",
    "                samples_per_bootstrap, k=0.05, correction_vals=(par_1, par_2)\n",
    "            )\n",
    "\n",
    "            linear_regressor = LinearRegression()  # create object for the class\n",
    "            linear_regressor.fit(s_arr[0:1].T, s_arr[1:].T)  # perform linear regression\n",
    "            b = linear_regressor.intercept_[0]\n",
    "            m = linear_regressor.coef_[0, 0]\n",
    "\n",
    "            linear_regressor = LinearRegression()  # create object for the class\n",
    "            linear_regressor.fit(\n",
    "                s_0_corr_arr[0:1].T, s_0_corr_arr[1:].T\n",
    "            )  # perform linear regression\n",
    "            b_obs = linear_regressor.intercept_[0]\n",
    "            m_obs = linear_regressor.coef_[0, 0]\n",
    "\n",
    "            b_list.append(b)\n",
    "            b_obs_list.append(b_obs)\n",
    "            m_list.append(m)\n",
    "            m_obs_list.append(m_obs)\n",
    "\n",
    "        b_obs_list_list.append(b_obs_list)\n",
    "        m_obs_list_list.append(m_obs_list)\n",
    "        labels.append((par_1, par_2))"
   ]
  },
  {
   "cell_type": "code",
   "execution_count": null,
   "id": "23",
   "metadata": {},
   "outputs": [],
   "source": [
    "samples_per_bootstrap = 400\n",
    "bootstraps = 5000\n",
    "\n",
    "b_list = []\n",
    "b_obs_list = []\n",
    "m_list = []\n",
    "m_obs_list = []\n",
    "\n",
    "for i in range(bootstraps):\n",
    "    s_arr, s_obs_arr, s_0_corr_arr = simulate_growth(samples_per_bootstrap, k=0.05)\n",
    "\n",
    "    linear_regressor = LinearRegression()  # create object for the class\n",
    "    linear_regressor.fit(s_arr[0:1].T, s_arr[1:].T)  # perform linear regression\n",
    "    b = linear_regressor.intercept_[0]\n",
    "    m = linear_regressor.coef_[0, 0]\n",
    "\n",
    "    linear_regressor = LinearRegression()  # create object for the class\n",
    "    linear_regressor.fit(\n",
    "        s_0_corr_arr[0:1].T, s_0_corr_arr[1:].T\n",
    "    )  # perform linear regression\n",
    "    b_obs = linear_regressor.intercept_[0]\n",
    "    m_obs = linear_regressor.coef_[0, 0]\n",
    "\n",
    "    b_list.append(b)\n",
    "    b_obs_list.append(b_obs)\n",
    "    m_list.append(m)\n",
    "    m_obs_list.append(m_obs)\n",
    "\n",
    "m_conf_int = (np.percentile(m_list, 0.05), np.percentile(m_list, 99.95))\n",
    "print(\"Slope Range:\" + str(m_conf_int))"
   ]
  },
  {
   "cell_type": "code",
   "execution_count": null,
   "id": "24",
   "metadata": {},
   "outputs": [],
   "source": [
    "plt.hist(b_list, bins=20, alpha=0.7)\n",
    "plt.axvline([3.0], color=\"red\")\n",
    "plt.show()"
   ]
  },
  {
   "cell_type": "code",
   "execution_count": null,
   "id": "25",
   "metadata": {},
   "outputs": [],
   "source": [
    "plt.hist(m_list, bins=20, alpha=0.7)\n",
    "plt.axvline([0.0], color=\"red\")\n",
    "plt.show()"
   ]
  },
  {
   "cell_type": "code",
   "execution_count": null,
   "id": "26",
   "metadata": {},
   "outputs": [],
   "source": [
    "m_conf_int"
   ]
  },
  {
   "cell_type": "code",
   "execution_count": null,
   "id": "27",
   "metadata": {},
   "outputs": [],
   "source": [
    "for i, item in enumerate(b_obs_list_list):\n",
    "    plt.hist(item, bins=20, alpha=0.7, label=str(labels[i]))\n",
    "plt.hist(b_list, bins=20, alpha=0.7, label=\"True\")\n",
    "plt.axvline([3.0], color=\"red\")\n",
    "plt.legend()\n",
    "plt.show()"
   ]
  },
  {
   "cell_type": "code",
   "execution_count": null,
   "id": "28",
   "metadata": {},
   "outputs": [],
   "source": [
    "for i, item in enumerate(m_obs_list_list):\n",
    "    plt.hist(item, bins=20, alpha=0.7, label=str(labels[i]))\n",
    "plt.hist(m_list, bins=20, alpha=0.7, label=\"True\")\n",
    "plt.axvline([0.0], color=\"red\")\n",
    "plt.legend()\n",
    "plt.show()"
   ]
  },
  {
   "cell_type": "code",
   "execution_count": null,
   "id": "29",
   "metadata": {},
   "outputs": [],
   "source": [
    "samples_per_bootstrap = 10000\n",
    "bootstraps = 50\n",
    "rho = 0.0\n",
    "par_1_list = [-3, -2.5, -2.0, -1.5, -1.0, -0.5, 0.0, 0.5, 1.0, 1.5, 2.0]\n",
    "par_2_list = [-3, -2.5, -2.0, -1.5, -1.0, -0.5, 0.0, 0.5, 1.0, 1.5, 2.0]\n",
    "\n",
    "params = []\n",
    "b_obs_avg_arr = []\n",
    "m_obs_avg_arr = []\n",
    "\n",
    "for par_1 in par_1_list:\n",
    "    b_obs_avg_list = []\n",
    "    m_obs_avg_list = []\n",
    "    for par_2 in par_2_list:\n",
    "        b_list = []\n",
    "        b_obs_list = []\n",
    "        m_list = []\n",
    "        m_obs_list = []\n",
    "\n",
    "        for i in range(bootstraps):\n",
    "            s_arr, s_obs_arr, s_0_corr_arr = simulate_growth_2(\n",
    "                samples_per_bootstrap, k=0.1, correction_vals=(par_1, par_2), rho=rho\n",
    "            )\n",
    "\n",
    "            linear_regressor = LinearRegression()  # create object for the class\n",
    "            linear_regressor.fit(s_arr[0:1].T, s_arr[1:].T)  # perform linear regression\n",
    "            b = linear_regressor.intercept_[0]\n",
    "            m = linear_regressor.coef_[0, 0]\n",
    "\n",
    "            linear_regressor = LinearRegression()  # create object for the class\n",
    "            linear_regressor.fit(\n",
    "                s_0_corr_arr[0:1].T, s_0_corr_arr[1:].T\n",
    "            )  # perform linear regression\n",
    "            b_obs = linear_regressor.intercept_[0]\n",
    "            m_obs = linear_regressor.coef_[0, 0]\n",
    "\n",
    "            b_list.append(b)\n",
    "            b_obs_list.append(b_obs)\n",
    "            m_list.append(m)\n",
    "            m_obs_list.append(m_obs)\n",
    "\n",
    "        b_obs_avg = np.mean(b_obs_list)\n",
    "        m_obs_avg = np.mean(m_obs_list)\n",
    "\n",
    "        b_obs_avg_list.append(b_obs_avg)\n",
    "        m_obs_avg_list.append(m_obs_avg)\n",
    "        params.append([par_1, par_2])\n",
    "    b_obs_avg_arr.append(b_obs_avg_list)\n",
    "    m_obs_avg_arr.append(m_obs_avg_list)\n",
    "\n",
    "b_obs_avg_arr = np.array(b_obs_avg_arr)\n",
    "m_obs_avg_arr = np.array(m_obs_avg_arr)\n",
    "params = np.array(params)"
   ]
  },
  {
   "cell_type": "code",
   "execution_count": null,
   "id": "30",
   "metadata": {},
   "outputs": [],
   "source": [
    "plt.imshow(\n",
    "    b_obs_avg_arr, extent=[par_2_list[0], par_2_list[-1], par_1_list[0], par_1_list[-1]]\n",
    ")\n",
    "plt.xlabel(\"Parameter 2\")\n",
    "plt.ylabel(\"Parameter 1\")\n",
    "plt.colorbar()\n",
    "plt.show()\n",
    "plt.imshow(\n",
    "    m_obs_avg_arr, extent=[par_2_list[0], par_2_list[-1], par_1_list[0], par_1_list[-1]]\n",
    ")\n",
    "plt.xlabel(\"Parameter 2\")\n",
    "plt.ylabel(\"Parameter 1\")\n",
    "plt.colorbar()\n",
    "plt.show()"
   ]
  },
  {
   "cell_type": "code",
   "execution_count": null,
   "id": "31",
   "metadata": {},
   "outputs": [],
   "source": [
    "plt.imshow(\n",
    "    np.abs(b_obs_avg_arr - 3.0),\n",
    "    extent=[par_2_list[0], par_2_list[-1], par_1_list[0], par_1_list[-1]],\n",
    "    origin=\"lower\",\n",
    ")\n",
    "plt.xlabel(\"Parameter 2\")\n",
    "plt.ylabel(\"Parameter 1\")\n",
    "plt.colorbar()\n",
    "plt.show()\n",
    "plt.imshow(\n",
    "    np.abs(\n",
    "        m_obs_avg_arr,\n",
    "    ),\n",
    "    extent=[par_2_list[0], par_2_list[-1], par_1_list[0], par_1_list[-1]],\n",
    "    origin=\"lower\",\n",
    ")\n",
    "plt.xlabel(\"Parameter 2\")\n",
    "plt.ylabel(\"Parameter 1\")\n",
    "plt.colorbar()\n",
    "plt.show()"
   ]
  },
  {
   "cell_type": "code",
   "execution_count": null,
   "id": "32",
   "metadata": {},
   "outputs": [],
   "source": [
    "plt.hist(b_list, bins=20, alpha=0.7)\n",
    "plt.hist(b_obs_list, bins=20, alpha=0.7)\n",
    "plt.axvline([3.0], color=\"red\")\n",
    "plt.show()"
   ]
  },
  {
   "cell_type": "code",
   "execution_count": null,
   "id": "33",
   "metadata": {},
   "outputs": [],
   "source": [
    "plt.hist(m_list, bins=20, alpha=0.7)\n",
    "plt.hist(m_obs_list, bins=20, alpha=0.7)\n",
    "plt.axvline([0.0], color=\"red\")\n",
    "plt.show()"
   ]
  }
 ],
 "metadata": {
  "kernelspec": {
   "display_name": "Python 3",
   "language": "python",
   "name": "python3"
  },
  "language_info": {
   "codemirror_mode": {
    "name": "ipython",
    "version": 3
   },
   "file_extension": ".py",
   "mimetype": "text/x-python",
   "name": "python",
   "nbconvert_exporter": "python",
   "pygments_lexer": "ipython3",
   "version": "3.8.5"
  }
 },
 "nbformat": 4,
 "nbformat_minor": 4
}
