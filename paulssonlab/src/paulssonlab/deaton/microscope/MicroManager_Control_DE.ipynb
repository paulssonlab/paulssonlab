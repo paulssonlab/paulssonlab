{
 "cells": [
  {
   "cell_type": "code",
   "execution_count": null,
   "metadata": {},
   "outputs": [],
   "source": [
    "import marlin as mar"
   ]
  },
  {
   "cell_type": "code",
   "execution_count": null,
   "metadata": {},
   "outputs": [],
   "source": [
    "handler_1 = mar.handlerCore()"
   ]
  },
  {
   "cell_type": "code",
   "execution_count": null,
   "metadata": {},
   "outputs": [],
   "source": [
    "handler_1.connect()"
   ]
  },
  {
   "cell_type": "code",
   "execution_count": null,
   "metadata": {},
   "outputs": [],
   "source": [
    "handler_1.set_valve_state(\"PFA(half-MeAc)\", 1)"
   ]
  },
  {
   "cell_type": "code",
   "execution_count": null,
   "metadata": {},
   "outputs": [],
   "source": [
    "handler_1.set_pump_state(0)"
   ]
  },
  {
   "cell_type": "code",
   "execution_count": null,
   "metadata": {},
   "outputs": [],
   "source": [
    "!pwd"
   ]
  },
  {
   "cell_type": "code",
   "execution_count": null,
   "metadata": {},
   "outputs": [],
   "source": [
    "import sys"
   ]
  },
  {
   "cell_type": "code",
   "execution_count": null,
   "metadata": {},
   "outputs": [],
   "source": [
    "sys.path.append(C:\\Program Files\\Micro-Manager-2.0gamma')"
   ]
  },
  {
   "cell_type": "code",
   "execution_count": null,
   "metadata": {},
   "outputs": [],
   "source": [
    "Ti6 = mar.scopeCore(\n",
    "    \"./DE_config.cfg\",\n",
    "    \"./logfile.txt\",\n",
    "    camera_name=\"Iris15\",\n",
    "    shutter_name=\"LightEngine\",\n",
    "    xystage_name=\"XYStage\",\n",
    "    focus_name=\"ZDrive\",\n",
    ")"
   ]
  },
  {
   "cell_type": "code",
   "execution_count": null,
   "metadata": {},
   "outputs": [],
   "source": [
    "Ti6.mmc.setConfig(\"FISH_Channels\", \"BF\")"
   ]
  },
  {
   "cell_type": "code",
   "execution_count": null,
   "metadata": {},
   "outputs": [],
   "source": [
    "Ti6.mmc.getDevicePropertyNames(\"XYStage\")"
   ]
  },
  {
   "cell_type": "code",
   "execution_count": null,
   "metadata": {},
   "outputs": [],
   "source": [
    "Ti6.mmc.getProperty(\"XYStage\", \"Acceleration\")"
   ]
  },
  {
   "cell_type": "code",
   "execution_count": null,
   "metadata": {},
   "outputs": [],
   "source": [
    "Ti6.mmc.getProperty(\"XYStage\", \"MaxSpeed\")"
   ]
  },
  {
   "cell_type": "code",
   "execution_count": null,
   "metadata": {},
   "outputs": [],
   "source": [
    "Ti6.mmc.getProperty(\"XYStage\", \"StepSizeX_um\")"
   ]
  },
  {
   "cell_type": "code",
   "execution_count": null,
   "metadata": {},
   "outputs": [],
   "source": [
    "Ti6.liveview()"
   ]
  },
  {
   "cell_type": "code",
   "execution_count": null,
   "metadata": {},
   "outputs": [],
   "source": [
    "from time import sleep\n",
    "import time\n",
    "from matplotlib import pyplot as plt\n",
    "from IPython.display import clear_output\n",
    "import numpy as np\n",
    "\n",
    "Ti6.mmc.setConfig(\"FISH_Channels\", \"GFP\")\n",
    "\n",
    "avgs = []\n",
    "times = []\n",
    "\n",
    "ti = time.time()\n",
    "for t in range(100000):\n",
    "    sleep(1.0)\n",
    "    img = Ti6.snap_image()\n",
    "    clear_output(wait=True)\n",
    "    plt.figure(figsize=(12, 12))\n",
    "    plt.imshow(img, interpolation=\"None\", cmap=\"gray\")\n",
    "    plt.show()\n",
    "    avg = np.mean(img)\n",
    "    avgs.append(avg)\n",
    "    delt = time.time() - ti\n",
    "    times.append(delt)\n",
    "    plt.plot(times, avgs)\n",
    "    plt.show()"
   ]
  },
  {
   "cell_type": "code",
   "execution_count": null,
   "metadata": {},
   "outputs": [],
   "source": [
    "plt.plot(times, avgs)\n",
    "plt.show()"
   ]
  },
  {
   "cell_type": "code",
   "execution_count": null,
   "metadata": {},
   "outputs": [],
   "source": [
    "xy_grid = Ti6.set_grid(28, 3, col_step=535.0, row_step=-696.0)"
   ]
  },
  {
   "cell_type": "code",
   "execution_count": null,
   "metadata": {},
   "outputs": [],
   "source": []
  },
  {
   "cell_type": "code",
   "execution_count": null,
   "metadata": {},
   "outputs": [],
   "source": [
    "Ti6.mmc.setXYPosition(xy_grid[0][0], xy_grid[0][1])"
   ]
  },
  {
   "cell_type": "code",
   "execution_count": null,
   "metadata": {},
   "outputs": [],
   "source": [
    "Ti6.mmc.setXYPosition(xy_grid[40][0], xy_grid[40][1])"
   ]
  },
  {
   "cell_type": "code",
   "execution_count": null,
   "metadata": {},
   "outputs": [],
   "source": [
    "for t in range(3):\n",
    "    Ti6.multipoint_aq(\n",
    "        xy_grid,\n",
    "        [\"BF\", \"RFP\", \"Cy5\", \"Cy7-noPFS\"],\n",
    "        t,\n",
    "        output_folder=\"E:Daniel/FISH_barcoding_project/2020-03-02_ibidi_test_glycerol/test/\",\n",
    "        group_name=\"FISH_Channels\",\n",
    "    )"
   ]
  },
  {
   "cell_type": "code",
   "execution_count": null,
   "metadata": {},
   "outputs": [],
   "source": [
    "from time import sleep\n",
    "import h5py\n",
    "\n",
    "class FISH_scheduler:\n",
    "    def __init__(self,handlerInstance,scopeInstance=None,skip_fixation=False,fast_speed=2000,medium_speed=300,slow_speed=100,\\\n",
    "                 mins_fast_speed=4.,mins_medium_speed=5.,probe_load_rate_scaling=0.5,\\\n",
    "                 channels=[\"BF\",\"RFP\",\"Cy5\",\"Cy7\"],group_name=\"FISH_Channels\",output_folder=\"./\"):\n",
    "        self.handlerInstance = handlerInstance\n",
    "        self.scopeInstance = scopeInstance\n",
    "        self.skip_fixation = skip_fixation\n",
    "        self.fast_speed = fast_speed\n",
    "        self.medium_speed = medium_speed\n",
    "        self.slow_speed = slow_speed\n",
    "        \n",
    "        self.secs_fast_speed = int(mins_fast_speed*60)\n",
    "        self.secs_medium_speed = int(mins_medium_speed*60)\n",
    "        self.probe_load_rate_scaling = probe_load_rate_scaling\n",
    "        \n",
    "        if scopeInstance is None:\n",
    "            self.no_scope = True\n",
    "        else:\n",
    "            self.no_scope = False\n",
    "        \n",
    "        self.channels = channels\n",
    "        self.group_name = group_name\n",
    "        self.output_folder = output_folder\n",
    "        \n",
    "    def wait_for(self,num_secs):\n",
    "        for t in range(num_secs):\n",
    "            sleep(1.)\n",
    "            \n",
    "    def load_reagent(self,reagent_name,load_rate=None):\n",
    "        print reagent_name\n",
    "        \n",
    "        self.handlerInstance.set_pump_state(0)\n",
    "        self.handlerInstance.set_valve_state(reagent_name,1)\n",
    "        self.handlerInstance.set_pump_state(self.fast_speed)\n",
    "        \n",
    "        self.wait_for(self.secs_fast_speed)\n",
    "        \n",
    "        if load_rate is None:\n",
    "            self.handlerInstance.set_pump_state(self.medium_speed)\n",
    "            self.handlerInstance.set_valve_state(reagent_name,0)\n",
    "\n",
    "            self.wait_for(self.secs_medium_speed)\n",
    "        \n",
    "        else:\n",
    "            self.handlerInstance.set_pump_state(int(load_rate*self.medium_speed))\n",
    "            self.handlerInstance.set_valve_state(reagent_name,0)\n",
    "            \n",
    "            self.wait_for(int(self.secs_medium_speed/load_rate))\n",
    "            \n",
    "        return True\n",
    "        \n",
    "    def init_fixation(self):\n",
    "#         self.load_reagent(\"SSC\")\n",
    "#         self.wait_for(3*60)\n",
    "#         self.handlerInstance.set_pump_state(self.slow_speed)\n",
    "#         self.wait_for(60*60)\n",
    "        self.load_reagent(\"PFA(half-MeAc)\")\n",
    "        print \"Initialized.\"\n",
    "        \n",
    "    def continue_fixation(self):\n",
    "        self.load_reagent(\"EtOH(MeAc)\")\n",
    "        self.handlerInstance.set_pump_state(self.slow_speed)\n",
    "        self.wait_for(45*60)\n",
    "        self.load_reagent(\"PFA(half-MeAc)\")\n",
    "        print \"Fixed.\"\n",
    "        \n",
    "    def perform_cycle(self,cycle_num,no_cleave=False):\n",
    "        reagent_name = \"Probe \" + str(cycle_num)\n",
    "        \n",
    "        if not no_cleave:\n",
    "            self.load_reagent(\"Cleave\")\n",
    "            self.wait_for(13*60)\n",
    "            \n",
    "#         self.load_reagent(\"SSC\")\n",
    "        self.load_reagent(reagent_name,load_rate=self.probe_load_rate_scaling)\n",
    "        self.wait_for(15*60)\n",
    "        self.load_reagent(\"Image\",load_rate=self.probe_load_rate_scaling)\n",
    "        self.wait_for(5*60)\n",
    "        self.handlerInstance.set_pump_state(self.slow_speed)\n",
    "        \n",
    "    def clean(self):\n",
    "        for state_name,_ in self.handlerInstance.titanx_states.items():\n",
    "            self.handlerInstance.set_pump_state(0)\n",
    "            self.handlerInstance.set_valve_state(state_name,0)\n",
    "            self.handlerInstance.set_pump_state(self.fast_speed)\n",
    "            sleep(90.)\n",
    "        self.handlerInstance.set_pump_state(0)\n",
    "        self.handlerInstance.set_valve_state(\"Image\",1)\n",
    "        self.handlerInstance.set_pump_state(self.fast_speed)\n",
    "        sleep(5.*60.)\n",
    "        self.handlerInstance.set_pump_state(0)\n",
    "        self.handlerInstance.set_valve_state(\"Image\",0)\n",
    "        \n",
    "    def run(self,grid_coords=None,num_cycles=8):\n",
    "        \n",
    "        if not self.skip_fixation:\n",
    "        \n",
    "            if not self.no_scope:\n",
    "                first_x,first_y = grid_coords[0]\n",
    "                self.scopeInstance.mmc.setXYPosition(first_x,first_y)\n",
    "\n",
    "                img = self.scopeInstance.snap_image()\n",
    "\n",
    "                with h5py.File(self.output_folder + \"initial.hdf5\",\"w\") as h5pyfile:\n",
    "                    hdf5_dataset = h5pyfile.create_dataset(\"data\", data=img, chunks=(128,128), dtype='uint16')\n",
    "\n",
    "            self.init_fixation()\n",
    "\n",
    "            if not self.no_scope:\n",
    "\n",
    "                img = self.scopeInstance.snap_image()\n",
    "\n",
    "                with h5py.File(self.output_folder + \"init_fixation.hdf5\",\"w\") as h5pyfile:\n",
    "                    hdf5_dataset = h5pyfile.create_dataset(\"data\", data=img, chunks=(128,128), dtype='uint16')\n",
    "\n",
    "            self.continue_fixation()\n",
    "\n",
    "            if not self.no_scope:\n",
    "                img = self.scopeInstance.snap_image()\n",
    "\n",
    "                with h5py.File(self.output_folder + \"fixed.hdf5\",\"w\") as h5pyfile:\n",
    "                    hdf5_dataset = h5pyfile.create_dataset(\"data\", data=img, chunks=(128,128), dtype='uint16')\n",
    "        \n",
    "        for c in range(1,num_cycles+1):\n",
    "            if c == 1:\n",
    "                self.perform_cycle(c,no_cleave=True)\n",
    "            else:\n",
    "                self.perform_cycle(c)\n",
    "            \n",
    "            if not self.no_scope:\n",
    "                print \"Imageing...\"\n",
    "\n",
    "                self.scopeInstance.multipoint_aq(grid_coords,self.channels,c,output_folder=self.output_folder,group_name=self.group_name)\n",
    "                self.scopeInstance.mmc.setConfig(self.group_name,self.channels[0])"
   ]
  },
  {
   "cell_type": "code",
   "execution_count": null,
   "metadata": {},
   "outputs": [],
   "source": [
    "### NO SCOPE ###\n",
    "\n",
    "fish = FISH_scheduler(\n",
    "    handler_1,\n",
    "    None,\n",
    "    fast_speed=2000,\n",
    "    medium_speed=500,\n",
    "    slow_speed=100,\n",
    "    mins_fast_speed=4.0,\n",
    "    mins_medium_speed=6.0,\n",
    "    probe_load_rate_scaling=1.0,\n",
    "    channels=[\"BF\", \"RFP\", \"Cy5\", \"Cy7\"],\n",
    "    output_folder=\"E:/Daniel/FISH_barcoding_project/2020-03-02_ibidi_test_glycerol/\",\n",
    ")"
   ]
  },
  {
   "cell_type": "code",
   "execution_count": null,
   "metadata": {},
   "outputs": [],
   "source": [
    "fish.run(num_cycles=8)"
   ]
  },
  {
   "cell_type": "code",
   "execution_count": null,
   "metadata": {},
   "outputs": [],
   "source": [
    "fish.clean()"
   ]
  },
  {
   "cell_type": "code",
   "execution_count": null,
   "metadata": {},
   "outputs": [],
   "source": []
  },
  {
   "cell_type": "code",
   "execution_count": null,
   "metadata": {},
   "outputs": [],
   "source": [
    "E:\\Daniel\\FISH_barcoding_project\\2020-01-31_Auto_FISH_test"
   ]
  },
  {
   "cell_type": "code",
   "execution_count": null,
   "metadata": {},
   "outputs": [],
   "source": [
    "fish = FISH_scheduler(\n",
    "    handler_1,\n",
    "    Ti6,\n",
    "    skip_fixation=True,\n",
    "    fast_speed=2000,\n",
    "    medium_speed=250,\n",
    "    slow_speed=100,\n",
    "    mins_fast_speed=4.0,\n",
    "    mins_medium_speed=12.0,\n",
    "    probe_load_rate_scaling=1.0,\n",
    "    channels=[\"BF\", \"RFP\", \"Cy5\", \"Cy7-noPFS\"],\n",
    "    group_name=\"FISH_Channels\",\n",
    "    output_folder=\"E:/Daniel/FISH_barcoding_project/2020-03-04_ibidi_test_glycerol/\",\n",
    ")"
   ]
  },
  {
   "cell_type": "code",
   "execution_count": null,
   "metadata": {},
   "outputs": [],
   "source": [
    "fish.clean()"
   ]
  },
  {
   "cell_type": "code",
   "execution_count": null,
   "metadata": {},
   "outputs": [],
   "source": [
    "fish.run(xy_grid, num_cycles=2)"
   ]
  },
  {
   "cell_type": "code",
   "execution_count": null,
   "metadata": {},
   "outputs": [],
   "source": [
    "fish.load_reagent(\"Cleave\")"
   ]
  },
  {
   "cell_type": "code",
   "execution_count": null,
   "metadata": {},
   "outputs": [],
   "source": []
  },
  {
   "cell_type": "code",
   "execution_count": null,
   "metadata": {},
   "outputs": [],
   "source": []
  },
  {
   "cell_type": "code",
   "execution_count": null,
   "metadata": {},
   "outputs": [],
   "source": [
    "from pylab import *\n",
    "\n",
    "ion()\n",
    "\n",
    "import numpy as np\n",
    "import matplotlib\n",
    "import MMCorePy\n",
    "from IPython.display import clear_output\n",
    "import matplotlib.pyplot as plt\n",
    "import time\n",
    "\n",
    "%matplotlib inline"
   ]
  },
  {
   "cell_type": "markdown",
   "metadata": {},
   "source": [
    "### Init Nikon\n",
    " - make sure the scope has not escaped, yes! Make sure the microscope is still there\n"
   ]
  },
  {
   "cell_type": "code",
   "execution_count": null,
   "metadata": {},
   "outputs": [],
   "source": [
    "mmc = MMCorePy.CMMCore()"
   ]
  },
  {
   "cell_type": "code",
   "execution_count": null,
   "metadata": {},
   "outputs": [],
   "source": [
    "mmc.loadSystemConfiguration(\"./MMMain.cfg\")"
   ]
  },
  {
   "cell_type": "code",
   "execution_count": null,
   "metadata": {},
   "outputs": [],
   "source": [
    "mmc.setPrimaryLogFile(\"./presets/log.txt\")"
   ]
  },
  {
   "cell_type": "markdown",
   "metadata": {},
   "source": [
    "### Snap and plot an image"
   ]
  },
  {
   "cell_type": "code",
   "execution_count": null,
   "metadata": {},
   "outputs": [],
   "source": [
    "mmc.getLoadedDevices()"
   ]
  },
  {
   "cell_type": "markdown",
   "metadata": {},
   "source": [
    "### Live View"
   ]
  },
  {
   "cell_type": "code",
   "execution_count": null,
   "metadata": {},
   "outputs": [],
   "source": [
    "def liveview(camera, img_size=(12, 12), low=None, high=None):  # W,interval=0.5):\n",
    "    mmc.setCameraDevice(camera)\n",
    "    while True:\n",
    "        try:\n",
    "            while mmc.deviceBusy(camera):\n",
    "                time.sleep(0.005)\n",
    "            mmc.snapImage()\n",
    "            im1 = mmc.getImage()\n",
    "            clear_output(wait=True)\n",
    "            plt.figure(figsize=img_size)\n",
    "            if low == None or high == None:\n",
    "                plt.imshow(im1, interpolation=\"None\", cmap=\"gray\")\n",
    "            else:\n",
    "                plt.imshow(im1, interpolation=\"None\", cmap=\"gray\", vmin=low, vmax=high)\n",
    "            plt.show()\n",
    "        except KeyboardInterrupt:\n",
    "            break\n",
    "    while mmc.deviceBusy(camera):\n",
    "        time.sleep(0.01)\n",
    "\n",
    "\n",
    "#         slp = interval - (time.time() - ti)\n",
    "#         time.sleep(slp)"
   ]
  },
  {
   "cell_type": "code",
   "execution_count": null,
   "metadata": {},
   "outputs": [],
   "source": [
    "mmc.setShutterOpen(\"SpectraIII\", False)"
   ]
  },
  {
   "cell_type": "code",
   "execution_count": null,
   "metadata": {},
   "outputs": [],
   "source": [
    "liveview(\"BSI Prime\", low=None, high=None)"
   ]
  },
  {
   "cell_type": "markdown",
   "metadata": {},
   "source": [
    "### Snap and Contrast"
   ]
  },
  {
   "cell_type": "code",
   "execution_count": null,
   "metadata": {},
   "outputs": [],
   "source": [
    "def snap_image(camera, img_size=(12, 12)):\n",
    "    mmc.setCameraDevice(camera)\n",
    "    mmc.snapImage()\n",
    "    im1 = mmc.getImage()\n",
    "    return im1\n",
    "\n",
    "\n",
    "def auto_contrast(img, low_percentile=0, high_percentile=100):\n",
    "    low = np.percentile(img, low_percentile)\n",
    "    high = np.percentile(img, high_percentile)\n",
    "    return low, high\n",
    "\n",
    "\n",
    "def plot_img(img, low, high, img_size=(12, 12)):\n",
    "    clear_output(wait=True)\n",
    "    plt.figure(figsize=img_size)\n",
    "    plt.imshow(im1, interpolation=\"None\", vmin=low, vmax=high)\n",
    "    plt.show()"
   ]
  },
  {
   "cell_type": "code",
   "execution_count": null,
   "metadata": {},
   "outputs": [],
   "source": [
    "im1 = snap_image(\"BSI Prime\")\n",
    "low, high = auto_contrast(im1)\n",
    "plot_img(im1, low, high)"
   ]
  },
  {
   "cell_type": "markdown",
   "metadata": {},
   "source": [
    "### Imaging Parameters"
   ]
  },
  {
   "cell_type": "code",
   "execution_count": null,
   "metadata": {},
   "outputs": [],
   "source": [
    "mmc.getDevicePropertyNames(\"BSI Prime\")"
   ]
  },
  {
   "cell_type": "code",
   "execution_count": null,
   "metadata": {},
   "outputs": [],
   "source": [
    "mmc.getProperty(\"BSI Prime\", \"Exposure\")"
   ]
  },
  {
   "cell_type": "markdown",
   "metadata": {},
   "source": [
    "#### Exposure"
   ]
  },
  {
   "cell_type": "code",
   "execution_count": null,
   "metadata": {},
   "outputs": [],
   "source": [
    "mmc.setExposure(\"BSI Prime\", 200.0)"
   ]
  },
  {
   "cell_type": "code",
   "execution_count": null,
   "metadata": {},
   "outputs": [],
   "source": [
    "mmc.getExposure(\"BSI Prime\")"
   ]
  },
  {
   "cell_type": "markdown",
   "metadata": {},
   "source": [
    "#### Binning"
   ]
  },
  {
   "cell_type": "code",
   "execution_count": null,
   "metadata": {},
   "outputs": [],
   "source": [
    "mmc.getAllowedPropertyValues(\"BSI Prime\", \"Binning\")"
   ]
  },
  {
   "cell_type": "code",
   "execution_count": null,
   "metadata": {},
   "outputs": [],
   "source": [
    "mmc.setProperty(\"BSI Prime\", \"Binning\", \"1x1\")"
   ]
  },
  {
   "cell_type": "code",
   "execution_count": null,
   "metadata": {},
   "outputs": [],
   "source": [
    "mmc.getProperty(\"BSI Prime\", \"Binning\")"
   ]
  },
  {
   "cell_type": "markdown",
   "metadata": {},
   "source": [
    "#### metadata?"
   ]
  },
  {
   "cell_type": "code",
   "execution_count": null,
   "metadata": {},
   "outputs": [],
   "source": [
    "mmc.getAllowedPropertyValues(\"BSI Prime\", \"MetadataEnabled\")"
   ]
  },
  {
   "cell_type": "code",
   "execution_count": null,
   "metadata": {},
   "outputs": [],
   "source": [
    "mmc.getProperty(\"BSI Prime\", \"MetadataEnabled\")"
   ]
  },
  {
   "cell_type": "code",
   "execution_count": null,
   "metadata": {},
   "outputs": [],
   "source": [
    "mmc.snapImage()"
   ]
  },
  {
   "cell_type": "code",
   "execution_count": null,
   "metadata": {},
   "outputs": [],
   "source": [
    "test = mmc.getImage()"
   ]
  },
  {
   "cell_type": "markdown",
   "metadata": {},
   "source": [
    "### Shutter"
   ]
  },
  {
   "cell_type": "markdown",
   "metadata": {},
   "source": [
    "#### Changing SpectraIII Shutter"
   ]
  },
  {
   "cell_type": "code",
   "execution_count": null,
   "metadata": {},
   "outputs": [],
   "source": [
    "mmc.setShutterOpen(\"SpectraIII\", False)"
   ]
  },
  {
   "cell_type": "markdown",
   "metadata": {},
   "source": [
    "#### Changing Epi1 Shutter"
   ]
  },
  {
   "cell_type": "code",
   "execution_count": null,
   "metadata": {},
   "outputs": [],
   "source": [
    "mmc.setShutterOpen(\"Turret1Shutter\", True)"
   ]
  },
  {
   "cell_type": "markdown",
   "metadata": {},
   "source": [
    "### Turret"
   ]
  },
  {
   "cell_type": "code",
   "execution_count": null,
   "metadata": {},
   "outputs": [],
   "source": [
    "mmc.getDevicePropertyNames(\"FilterTurret1\")"
   ]
  },
  {
   "cell_type": "code",
   "execution_count": null,
   "metadata": {},
   "outputs": [],
   "source": [
    "mmc.getAllowedPropertyValues(\"FilterTurret1\", \"Label\")"
   ]
  },
  {
   "cell_type": "code",
   "execution_count": null,
   "metadata": {},
   "outputs": [],
   "source": [
    "mmc.getAllowedPropertyValues(\"FilterTurret1\", \"State\")"
   ]
  },
  {
   "cell_type": "code",
   "execution_count": null,
   "metadata": {},
   "outputs": [],
   "source": [
    "mmc.setProperty(\"FilterTurret1\", \"State\", \"2\")"
   ]
  },
  {
   "cell_type": "code",
   "execution_count": null,
   "metadata": {},
   "outputs": [],
   "source": [
    "mmc.getProperty(\"FilterTurret1\", \"Label\")"
   ]
  },
  {
   "cell_type": "code",
   "execution_count": null,
   "metadata": {},
   "outputs": [],
   "source": [
    "mmc.getProperty(\"FilterTurret1\", \"State\")"
   ]
  },
  {
   "cell_type": "markdown",
   "metadata": {},
   "source": [
    "### Emission Wheel"
   ]
  },
  {
   "cell_type": "code",
   "execution_count": null,
   "metadata": {},
   "outputs": [],
   "source": [
    "def set_filter_wheel(mmc, state_idx):\n",
    "    filter_wheel_states = [\n",
    "        \"FW_Empty_S1\",\n",
    "        \"FW_FITC_S2\",\n",
    "        \"FW_TRITC_S3\",\n",
    "        \"FW_CFP_S4\",\n",
    "        \"FW_YFPHQ_S5\",\n",
    "        \"FW_TxRed_S6\",\n",
    "    ]\n",
    "    all_states = set(range(6))\n",
    "    off_states = list(all_states - set([state_idx]))\n",
    "    for i in off_states:\n",
    "        mmc.setProperty(filter_wheel_states[i], \"Volts\", 0.0)\n",
    "    mmc.setProperty(filter_wheel_states[state_idx], \"Volts\", 5.0)"
   ]
  },
  {
   "cell_type": "code",
   "execution_count": null,
   "metadata": {},
   "outputs": [],
   "source": [
    "set_filter_wheel(mmc, 2)"
   ]
  },
  {
   "cell_type": "markdown",
   "metadata": {},
   "source": [
    "### Spectra III"
   ]
  },
  {
   "cell_type": "code",
   "execution_count": null,
   "metadata": {},
   "outputs": [],
   "source": [
    "mmc.getDevicePropertyNames(\"SpectraIII\")"
   ]
  },
  {
   "cell_type": "code",
   "execution_count": null,
   "metadata": {},
   "outputs": [],
   "source": [
    "channels = [\"VIOLET\", \"BLUE\", \"CYAN\", \"TEAL\", \"GREEN\", \"YELLOW\", \"RED\", \"NIR\"]\n",
    "for channel in channels:\n",
    "    channel_int = channel + \"_Intensity\"\n",
    "    print(mmc.getProperty(\"SpectraIII\", channel_int))"
   ]
  },
  {
   "cell_type": "code",
   "execution_count": null,
   "metadata": {},
   "outputs": [],
   "source": [
    "mmc.setProperty(\"SpectraIII\", \"RED\", \"0\")"
   ]
  },
  {
   "cell_type": "code",
   "execution_count": null,
   "metadata": {},
   "outputs": [],
   "source": [
    "mmc.getProperty(\"SpectraIII\", \"RED\")"
   ]
  },
  {
   "cell_type": "code",
   "execution_count": null,
   "metadata": {},
   "outputs": [],
   "source": [
    "mmc.setProperty(\"SpectraIII\", \"RED_Intensity\", \"0\")"
   ]
  },
  {
   "cell_type": "code",
   "execution_count": null,
   "metadata": {},
   "outputs": [],
   "source": [
    "mmc.getProperty(\"SpectraIII\", \"RED_Intensity\")"
   ]
  },
  {
   "cell_type": "markdown",
   "metadata": {},
   "source": [
    "### Nosepiece"
   ]
  },
  {
   "cell_type": "code",
   "execution_count": null,
   "metadata": {},
   "outputs": [],
   "source": [
    "mmc.getDevicePropertyNames(\"Nosepiece\")"
   ]
  },
  {
   "cell_type": "code",
   "execution_count": null,
   "metadata": {},
   "outputs": [],
   "source": [
    "mmc.getAllowedPropertyValues(\"Nosepiece\", \"Label\")"
   ]
  },
  {
   "cell_type": "code",
   "execution_count": null,
   "metadata": {},
   "outputs": [],
   "source": [
    "mmc.getAllowedPropertyValues(\"Nosepiece\", \"State\")"
   ]
  },
  {
   "cell_type": "code",
   "execution_count": null,
   "metadata": {},
   "outputs": [],
   "source": [
    "mmc.setProperty(\"Nosepiece\", \"State\", \"2\")"
   ]
  },
  {
   "cell_type": "code",
   "execution_count": null,
   "metadata": {},
   "outputs": [],
   "source": [
    "mmc.getProperty(\"Nosepiece\", \"Label\")"
   ]
  },
  {
   "cell_type": "markdown",
   "metadata": {},
   "source": [
    "### XYStage"
   ]
  },
  {
   "cell_type": "code",
   "execution_count": null,
   "metadata": {},
   "outputs": [],
   "source": [
    "mmc.getXYStageDevice()"
   ]
  },
  {
   "cell_type": "code",
   "execution_count": null,
   "metadata": {},
   "outputs": [],
   "source": [
    "mmc.getXYPosition()"
   ]
  },
  {
   "cell_type": "code",
   "execution_count": null,
   "metadata": {},
   "outputs": [],
   "source": [
    "mmc.deviceBusy(\"XYStage\")"
   ]
  },
  {
   "cell_type": "markdown",
   "metadata": {},
   "source": [
    "#### Example grid loop"
   ]
  },
  {
   "cell_type": "code",
   "execution_count": null,
   "metadata": {},
   "outputs": [],
   "source": [
    "x_ori, y_ori = mmc.getXYPosition()\n",
    "for x in range(0, 2000, 500):\n",
    "    for y in range(0, 2000, 500):\n",
    "        while mmc.deviceBusy(\"XYStage\"):\n",
    "            time.sleep(0.1)\n",
    "            pass\n",
    "        mmc.setXYPosition(x_ori + x, y_ori + y)"
   ]
  },
  {
   "cell_type": "markdown",
   "metadata": {},
   "source": [
    "### ZStage"
   ]
  },
  {
   "cell_type": "code",
   "execution_count": null,
   "metadata": {},
   "outputs": [],
   "source": [
    "mmc.getPosition()"
   ]
  },
  {
   "cell_type": "code",
   "execution_count": null,
   "metadata": {},
   "outputs": [],
   "source": [
    "mmc.getFocusDirection(\"ZDrive\")"
   ]
  },
  {
   "cell_type": "code",
   "execution_count": null,
   "metadata": {},
   "outputs": [],
   "source": [
    "mmc.setRelativePosition(\"ZDrive\", -5000.0)"
   ]
  },
  {
   "cell_type": "code",
   "execution_count": null,
   "metadata": {},
   "outputs": [],
   "source": [
    "mmc.getFocusDirection(\"ZDrive\")"
   ]
  },
  {
   "cell_type": "code",
   "execution_count": null,
   "metadata": {},
   "outputs": [],
   "source": [
    "mmc.getFocusDevice()"
   ]
  },
  {
   "cell_type": "markdown",
   "metadata": {},
   "source": [
    "### PFS"
   ]
  },
  {
   "cell_type": "code",
   "execution_count": null,
   "metadata": {},
   "outputs": [],
   "source": [
    "mmc.getDevicePropertyNames(\"PFS\")"
   ]
  },
  {
   "cell_type": "code",
   "execution_count": null,
   "metadata": {},
   "outputs": [],
   "source": [
    "mmc.getAllowedPropertyValues(\"PFS\", \"FocusMaintenance\")"
   ]
  },
  {
   "cell_type": "code",
   "execution_count": null,
   "metadata": {},
   "outputs": [],
   "source": [
    "mmc.setProperty(\"PFS\", \"FocusMaintenance\", \"Off\")"
   ]
  },
  {
   "cell_type": "code",
   "execution_count": null,
   "metadata": {},
   "outputs": [],
   "source": [
    "mmc.getProperty(\"PFS\", \"FocusMaintenance\")"
   ]
  },
  {
   "cell_type": "code",
   "execution_count": null,
   "metadata": {},
   "outputs": [],
   "source": [
    "mmc.deviceBusy(\"PFS\")"
   ]
  },
  {
   "cell_type": "markdown",
   "metadata": {},
   "source": [
    "### PFS Offset"
   ]
  },
  {
   "cell_type": "code",
   "execution_count": null,
   "metadata": {},
   "outputs": [],
   "source": [
    "mmc.getFocusDirection(\"PFSOffset\")"
   ]
  },
  {
   "cell_type": "code",
   "execution_count": null,
   "metadata": {},
   "outputs": [],
   "source": [
    "mmc.setRelativePosition(\"PFSOffset\", 1.0)"
   ]
  },
  {
   "cell_type": "markdown",
   "metadata": {},
   "source": [
    "### Cool LED"
   ]
  },
  {
   "cell_type": "code",
   "execution_count": null,
   "metadata": {},
   "outputs": [],
   "source": [
    "mmc.getDevicePropertyNames(\"CoolLED\")"
   ]
  },
  {
   "cell_type": "code",
   "execution_count": null,
   "metadata": {},
   "outputs": [],
   "source": [
    "mmc.setProperty(\"CoolLED\", \"Volts\", \"0\")"
   ]
  },
  {
   "cell_type": "code",
   "execution_count": null,
   "metadata": {},
   "outputs": [],
   "source": [
    "mmc.getProperty(\"CoolLED\", \"Volts\")"
   ]
  },
  {
   "cell_type": "markdown",
   "metadata": {},
   "source": [
    "### Testing Multichannel"
   ]
  },
  {
   "cell_type": "code",
   "execution_count": null,
   "metadata": {},
   "outputs": [],
   "source": [
    "mmc.setConfig(\"FISH_channels\", \"RFP\")"
   ]
  },
  {
   "cell_type": "code",
   "execution_count": null,
   "metadata": {},
   "outputs": [],
   "source": [
    "mmc.setConfig(\"FISH_channels\", \"Cy5\")"
   ]
  },
  {
   "cell_type": "code",
   "execution_count": null,
   "metadata": {},
   "outputs": [],
   "source": [
    "mmc.setConfig(\"FISH_channels\", \"Cy7\")"
   ]
  },
  {
   "cell_type": "code",
   "execution_count": null,
   "metadata": {},
   "outputs": [],
   "source": [
    "mmc.setShutterOpen(\"SpectraIII\", False)"
   ]
  },
  {
   "cell_type": "code",
   "execution_count": null,
   "metadata": {},
   "outputs": [],
   "source": [
    "def set_grid(num_col, num_row, col_step=333.0, row_step=686.0):\n",
    "    grid_coords = []\n",
    "\n",
    "    x_ori, y_ori = mmc.getXYPosition()\n",
    "    start_left = True\n",
    "\n",
    "    for row in range(num_row):\n",
    "        y_disp = row * row_step\n",
    "\n",
    "        if start_left:\n",
    "            for col in range(num_col):\n",
    "                x_disp = col * (-col_step)\n",
    "                current_coord = (x_ori + x_disp, y_ori + y_disp)\n",
    "                grid_coords.append(current_coord)\n",
    "            start_left = False\n",
    "        else:\n",
    "            for col in range(num_col):\n",
    "                x_disp = (num_col - col - 1) * (-col_step)\n",
    "                current_coord = (x_ori + x_disp, y_ori + y_disp)\n",
    "                grid_coords.append(current_coord)\n",
    "            start_left = True\n",
    "\n",
    "    return grid_coords"
   ]
  },
  {
   "cell_type": "code",
   "execution_count": null,
   "metadata": {},
   "outputs": [],
   "source": [
    "test_grid = set_grid(10, 3)"
   ]
  },
  {
   "cell_type": "code",
   "execution_count": null,
   "metadata": {},
   "outputs": [],
   "source": [
    "test_grid[0]"
   ]
  },
  {
   "cell_type": "code",
   "execution_count": null,
   "metadata": {},
   "outputs": [],
   "source": [
    "mmc.setXYPosition(test_grid[0][0], test_grid[0][1])"
   ]
  },
  {
   "cell_type": "code",
   "execution_count": null,
   "metadata": {},
   "outputs": [],
   "source": [
    "import numpy as np\n",
    "\n",
    "channels = [\"BF\", \"RFP\", \"Cy5\", \"Cy7\"]\n",
    "all_imgs = []\n",
    "\n",
    "for x_coord, y_coord in test_grid:\n",
    "    while mmc.deviceBusy(\"XYStage\"):\n",
    "        time.sleep(0.1)\n",
    "        pass\n",
    "    mmc.setXYPosition(x_coord, y_coord)\n",
    "\n",
    "    imgs = []\n",
    "    for channel in channels:\n",
    "        while mmc.systemBusy():\n",
    "            time.sleep(0.1)\n",
    "            pass\n",
    "        mmc.setConfig(\"FISH_channels\", channel)\n",
    "        while mmc.systemBusy():\n",
    "            time.sleep(0.1)\n",
    "            pass\n",
    "        mmc.setExposure(\"BSI Prime\", 30.0)\n",
    "        mmc.setShutterOpen(\"SpectraIII\", True)\n",
    "        mmc.snapImage()\n",
    "        mmc.setShutterOpen(\"SpectraIII\", False)\n",
    "        img = mmc.getImage()\n",
    "        imgs.append(img)\n",
    "\n",
    "    all_imgs.append(imgs)\n",
    "all_imgs = np.array(all_imgs)"
   ]
  },
  {
   "cell_type": "code",
   "execution_count": null,
   "metadata": {},
   "outputs": [],
   "source": [
    "all_imgs[0]"
   ]
  },
  {
   "cell_type": "code",
   "execution_count": null,
   "metadata": {},
   "outputs": [],
   "source": [
    "from matplotlib import pyplot as plt\n",
    "\n",
    "plt.imshow(all_imgs[,0])"
   ]
  },
  {
   "cell_type": "code",
   "execution_count": null,
   "metadata": {},
   "outputs": [],
   "source": [
    "import serial\n",
    "import serial.tools.list_ports\n",
    "import time\n",
    "from time import sleep"
   ]
  },
  {
   "cell_type": "code",
   "execution_count": null,
   "metadata": {},
   "outputs": [],
   "source": [
    "class arduino:\n",
    "    def __init__(self,handshakes=2):\n",
    "        self.valvestate = 0\n",
    "        self.pumpstate = 0\n",
    "        self.titanxstates = [0 for i in range(5)]\n",
    "        self.handshakes = handshakes\n",
    "        self.titanx_states = {\"Probe 1\" : [0,2,1,12,0],\"Probe 2\": [0,3,1,12,0],\"Probe 3\": [0,4,1,12,0],\\\n",
    "                        \"Probe 4\": [0,5,1,12,0],\"Probe 5\": [0,6,1,12,0],\"Probe 6\" : [0,7,1,12,0],\\\n",
    "                        \"Probe 7\" : [0,8,1,12,0],\"Probe 8\" : [0,9,1,12,0],\"Probe 9\" : [0,10,1,12,0],\\\n",
    "                        \"Probe 10\" : [0,11,1,12,0],\"Probe 11\" : [0,12,1,12,0],\"Probe 12\" : [0,1,2,12,0],\\\n",
    "                        \"Probe 13\" : [0,1,3,12,0],\"Probe 14\" : [0,1,4,12,0],\"Probe 15\" : [0,1,5,12,0],\\\n",
    "                       \"Probe 16\" : [0,1,6,12,0],\"Probe 17\" : [0,1,7,12,0],\"Probe 18\" : [0,1,8,12,0],\\\n",
    "                        \"Probe 19\" : [0,1,9,12,0],\"Probe 20\" : [0,1,10,12,0],\"Probe 21\" : [0,1,11,12,0],\\\n",
    "                        \"Probe 22\" : [0,1,12,12,0],\"Probe 23\" : [0,1,1,1,0],\"Probe 24\" : [0,1,1,2,0],\\\n",
    "                        \"SSC\" : [0,1,1,8,0],\"PFA\" : [0,1,1,9,0],\"EtOH\" : [0,1,1,10,0],\"Image\" : [0,1,1,11,0],\\\n",
    "                        \"Cleave\" : [0,1,1,12,0]}\n",
    "        \n",
    "    def get_heartbeat(self,comport,connect_code=\"MARLIN\",timeout=10.):\n",
    "        try:\n",
    "            ti = time.time()\n",
    "            no_timeout = True\n",
    "            s = serial.Serial(comport,9600,timeout=0.5)\n",
    "            readcmd = \"5\\n\".encode('ascii')\n",
    "            while no_timeout:\n",
    "                s.write(readcmd)\n",
    "                returnedstr = s.read_until()\n",
    "                t_elapsed = time.time() - ti                    \n",
    "                if len(returnedstr) > 0:\n",
    "                    no_timeout = False\n",
    "                elif t_elapsed>timeout:\n",
    "                    no_timeout = False\n",
    "            s.close()\n",
    "            if returnedstr == \"MARLIN\":\n",
    "                return True\n",
    "            else:\n",
    "                return False\n",
    "        except (OSError, serial.SerialException):\n",
    "            return False \n",
    "        \n",
    "    def connect(self,connect_code=\"MARLIN\",timeout=10.):\n",
    "        ports = ['COM%s' % (i + 1) for i in range(256)]\n",
    "        result = []\n",
    "        for port in ports:\n",
    "            heartbeat = self.get_heartbeat(port,connect_code=connect_code,timeout=timeout)\n",
    "            if heartbeat:\n",
    "                result.append(port)\n",
    "        if len(result) == 0:\n",
    "            raise ValueError(\"No MARLIN detected.\")\n",
    "        elif len(result) == 1:\n",
    "            ti = time.time()\n",
    "            no_timeout = True\n",
    "            self.serial_handle = serial.Serial(result[0], 9600, timeout=0.5)\n",
    "            readcmd = \"5\\n\".encode('ascii')\n",
    "            while no_timeout:\n",
    "                self.serial_handle.write(readcmd)\n",
    "                returnedstr = self.serial_handle.read_until()\n",
    "                t_elapsed = time.time() - ti\n",
    "                if len(returnedstr) > 0:\n",
    "                    no_timeout = False\n",
    "                elif t_elapsed>timeout:\n",
    "                    no_timeout = False\n",
    "            if returnedstr == \"MARLIN\":\n",
    "                self.serial_handle.timeout = 10.\n",
    "                print(\"Connected.\")\n",
    "            else:\n",
    "                raise ValueError(\"MARLIN connection timeout.\")\n",
    "        else:\n",
    "            raise ValueError(\"More than one MARLIN detected.\")\n",
    "        \n",
    "        \n",
    "    def updatestate(self,valvestate,pumpstate,titanxstates):\n",
    "        self.valvestate = valvestate\n",
    "        self.pumpstate = pumpstate\n",
    "        self.titanxstates = titanxstates\n",
    "        \n",
    "    def sendstate(self,valvestate,pumpstate,titanxstates):## Note need to rewrite arduino code for handshake using\n",
    "    # newlines\n",
    "        self.updatestate(valvestate,pumpstate,titanxstates)\n",
    "        no_handshake = True\n",
    "        handshake_failed = False\n",
    "        handshake_attempts = 0\n",
    "\n",
    "        while no_handshake:\n",
    "            valvestr = \"4\" + str(self.valvestate)\n",
    "            pumpstr = str(self.pumpstate)\n",
    "            pumpstr = \"3\" + (\"0\"*(4-len(pumpstr)) + pumpstr)\n",
    "\n",
    "            titanxstrlist = []\n",
    "\n",
    "            for titannum,titanxstate in enumerate(self.titanxstates):\n",
    "                if titanxstate != 0:\n",
    "                    titanxstr = str(titanxstate)\n",
    "                    titanxstr = \"2\" + str(titannum) + (\"0\"*(2-len(titanxstr)) + titanxstr)\n",
    "                    titanxstrlist.append(titanxstr)\n",
    "\n",
    "            cmdlist = [\"\"] + [valvestr] + [pumpstr] + titanxstrlist\n",
    "\n",
    "            for cmd in cmdlist:\n",
    "                sendstr = cmd + '\\n'\n",
    "                statestr = sendstr.encode('ascii')\n",
    "                self.serial_handle.write(statestr)\n",
    "                time.sleep(0.25)\n",
    "\n",
    "            readcmd = \"0\\n\".encode('ascii')\n",
    "            self.serial_handle.write(readcmd)\n",
    "            returnedstr = self.serial_handle.read_until()[:-1]\n",
    "            self.serial_handle.reset_output_buffer()\n",
    "            self.serial_handle.reset_input_buffer()\n",
    "            checkstr = \"[\" + \",\".join([str(state) for state in self.titanxstates]) + \"];\" + str(self.valvestate) + \";\" + str(self.pumpstate)\n",
    "            \n",
    "            ###OVERRIDE FOR TESTING###\n",
    "            \n",
    "#             no_handshake = False\n",
    "#             print checkstr.strip()\n",
    "            print returnedstr.strip()\n",
    "            \n",
    "            if returnedstr.strip() == checkstr.strip():\n",
    "                no_handshake = False\n",
    "            handshake_attempts += 1\n",
    "            if handshake_attempts >= self.handshakes:\n",
    "                raise Exception(\"Handshake failed.\")\n",
    "\n",
    "    def set_valve_state(self,titanx_state_name,valvestate):\n",
    "        titanxstates = self.titanx_states[titanx_state_name]\n",
    "        self.sendstate(valvestate,self.pumpstate,titanxstates)\n",
    "    \n",
    "    def set_pump_state(self,pumpstate):\n",
    "        self.sendstate(self.valvestate,pumpstate,self.titanxstates)\n",
    "        \n",
    "        "
   ]
  },
  {
   "cell_type": "code",
   "execution_count": null,
   "metadata": {},
   "outputs": [],
   "source": [
    "ard = arduino()"
   ]
  },
  {
   "cell_type": "code",
   "execution_count": null,
   "metadata": {},
   "outputs": [],
   "source": [
    "ard.connect()"
   ]
  },
  {
   "cell_type": "code",
   "execution_count": null,
   "metadata": {},
   "outputs": [],
   "source": [
    "ard.set_valve_state(\"PFA\", 1)"
   ]
  },
  {
   "cell_type": "code",
   "execution_count": null,
   "metadata": {},
   "outputs": [],
   "source": [
    "from time import sleep"
   ]
  },
  {
   "cell_type": "code",
   "execution_count": null,
   "metadata": {},
   "outputs": [],
   "source": [
    "sleep(1)"
   ]
  },
  {
   "cell_type": "code",
   "execution_count": null,
   "metadata": {},
   "outputs": [],
   "source": [
    "# cleaning\n",
    "for state_name, _ in handler_1.titanx_states.items():\n",
    "    handler_1.set_pump_state(0)\n",
    "    handler_1.set_valve_state(state_name, 0)\n",
    "    handler_1.set_pump_state(2000)\n",
    "    sleep(90.0)\n",
    "handler_1.set_pump_state(0)\n",
    "handler_1.set_valve_state(\"Image\", 1)\n",
    "handler_1.set_pump_state(2000)\n",
    "sleep(5.0 * 60.0)\n",
    "handler_1.set_pump_state(0)\n",
    "handler_1.set_valve_state(\"Image\", 0)"
   ]
  },
  {
   "cell_type": "code",
   "execution_count": null,
   "metadata": {},
   "outputs": [],
   "source": []
  },
  {
   "cell_type": "code",
   "execution_count": null,
   "metadata": {},
   "outputs": [],
   "source": []
  },
  {
   "cell_type": "code",
   "execution_count": null,
   "metadata": {},
   "outputs": [],
   "source": []
  },
  {
   "cell_type": "code",
   "execution_count": null,
   "metadata": {},
   "outputs": [],
   "source": [
    "import numpy as np\n",
    "\n",
    "channels = [\"BF\", \"RFP\", \"Cy5\", \"Cy7\"]\n",
    "all_imgs = []\n",
    "\n",
    "for x_coord, y_coord in test_grid:\n",
    "    while mmc.deviceBusy(\"XYStage\"):\n",
    "        time.sleep(0.1)\n",
    "        pass\n",
    "    mmc.setXYPosition(x_coord, y_coord)\n",
    "\n",
    "    imgs = []\n",
    "    for channel in channels:\n",
    "        while mmc.systemBusy():\n",
    "            time.sleep(0.1)\n",
    "            pass\n",
    "        mmc.setConfig(\"FISH_channels\", channel)\n",
    "        while mmc.systemBusy():\n",
    "            time.sleep(0.1)\n",
    "            pass\n",
    "        mmc.setExposure(\"BSI Prime\", 30.0)\n",
    "        mmc.setShutterOpen(\"SpectraIII\", True)\n",
    "        mmc.snapImage()\n",
    "        mmc.setShutterOpen(\"SpectraIII\", False)\n",
    "        img = mmc.getImage()\n",
    "        imgs.append(img)\n",
    "\n",
    "    all_imgs.append(imgs)\n",
    "all_imgs = np.array(all_imgs)"
   ]
  },
  {
   "cell_type": "code",
   "execution_count": null,
   "metadata": {},
   "outputs": [],
   "source": []
  },
  {
   "cell_type": "code",
   "execution_count": null,
   "metadata": {},
   "outputs": [],
   "source": []
  },
  {
   "cell_type": "code",
   "execution_count": null,
   "metadata": {},
   "outputs": [],
   "source": []
  },
  {
   "cell_type": "code",
   "execution_count": null,
   "metadata": {},
   "outputs": [],
   "source": []
  },
  {
   "cell_type": "code",
   "execution_count": null,
   "metadata": {},
   "outputs": [],
   "source": []
  },
  {
   "cell_type": "code",
   "execution_count": null,
   "metadata": {},
   "outputs": [],
   "source": []
  },
  {
   "cell_type": "code",
   "execution_count": null,
   "metadata": {},
   "outputs": [],
   "source": []
  },
  {
   "cell_type": "code",
   "execution_count": null,
   "metadata": {},
   "outputs": [],
   "source": []
  },
  {
   "cell_type": "code",
   "execution_count": null,
   "metadata": {},
   "outputs": [],
   "source": []
  },
  {
   "cell_type": "code",
   "execution_count": null,
   "metadata": {},
   "outputs": [],
   "source": []
  },
  {
   "cell_type": "code",
   "execution_count": null,
   "metadata": {},
   "outputs": [],
   "source": [
    "import pandas as pd"
   ]
  },
  {
   "cell_type": "code",
   "execution_count": null,
   "metadata": {},
   "outputs": [],
   "source": [
    "import xml.etree.ElementTree as ET\n",
    "import xmltodict\n",
    "import json\n",
    "\n",
    "tree = ET.parse(\"multipoints_this_is_just_a_test.xml\")\n",
    "xml_data = tree.getroot()\n",
    "\n",
    "xmlstr = ET.tostring(xml_data, encoding=\"utf8\", method=\"xml\")\n",
    "\n",
    "\n",
    "data_dict = dict(xmltodict.parse(xmlstr))\n",
    "\n",
    "with open(\"new_data_2.json\", \"w+\") as json_file:\n",
    "    json.dump(data_dict, json_file, indent=4, sort_keys=True)"
   ]
  },
  {
   "cell_type": "code",
   "execution_count": null,
   "metadata": {},
   "outputs": [],
   "source": []
  },
  {
   "cell_type": "code",
   "execution_count": null,
   "metadata": {},
   "outputs": [],
   "source": []
  }
 ],
 "metadata": {
  "kernelspec": {
   "display_name": "Python 2",
   "language": "python",
   "name": "python2"
  },
  "language_info": {
   "codemirror_mode": {
    "name": "ipython",
    "version": 2
   },
   "file_extension": ".py",
   "mimetype": "text/x-python",
   "name": "python",
   "nbconvert_exporter": "python",
   "pygments_lexer": "ipython2",
   "version": "2.7.16"
  }
 },
 "nbformat": 4,
 "nbformat_minor": 2
}
