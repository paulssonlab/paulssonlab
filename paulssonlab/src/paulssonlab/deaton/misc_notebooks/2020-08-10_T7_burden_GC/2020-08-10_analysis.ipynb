{
 "cells": [
  {
   "cell_type": "code",
   "execution_count": null,
   "id": "0",
   "metadata": {},
   "outputs": [],
   "source": [
    "import datetime\n",
    "\n",
    "import numpy as np\n",
    "import pandas as pd\n",
    "import scipy as sp\n",
    "import scipy.ndimage\n",
    "import sklearn as sk\n",
    "import sklearn.linear_model\n",
    "from matplotlib import pyplot as plt"
   ]
  },
  {
   "cell_type": "code",
   "execution_count": null,
   "id": "1",
   "metadata": {},
   "outputs": [],
   "source": [
    "eps = 0.00001\n",
    "data_df = pd.read_csv(\"./2020-08-09_T7_restart_data.csv\").transpose()[2:]\n",
    "data = (\n",
    "    pd.read_csv(\"./2020-08-09_T7_restart_data.csv\").transpose()[2:].values.astype(float)\n",
    ")\n",
    "time = pd.read_csv(\"./2020-08-09_T7_restart_data.csv\").transpose()[:1]\n",
    "init_time = datetime.datetime.strptime(\"0:0:0\", \"%H:%M:%S\")\n",
    "t = np.array(\n",
    "    [\n",
    "        (datetime.datetime.strptime(item, \"%H:%M:%S\") - init_time).total_seconds()\n",
    "        for item in time.values[0]\n",
    "    ]\n",
    ")\n",
    "del_t = t[1:] - t[:-1]\n",
    "del_OD = data[:, 1:] - data[:, :-1] + eps\n",
    "log_del_OD = np.log2(del_OD)\n",
    "log_del_OD[np.isnan(log_del_OD)] = -8\n",
    "log_del_OD[log_del_OD < -8] = -8\n",
    "log_del_OD = log_del_OD[:, 2:]\n",
    "median_log_del_OD = sp.ndimage.median_filter(log_del_OD, size=(1, 5))\n",
    "conditions = pd.read_csv(\"./conditions_key.csv\").transpose()[1:]\n",
    "# conditions.columns=[\"Media\",\"Strain\"]\n",
    "# conditions = conditions.transpose()\n",
    "# data = pd.concat([conditions,data]).transpose()"
   ]
  },
  {
   "cell_type": "code",
   "execution_count": null,
   "id": "2",
   "metadata": {},
   "outputs": [],
   "source": [
    "above_thr = median_log_del_OD > -7.5\n",
    "transition_up = np.where(above_thr[:, 1:] * (~above_thr[:, :-1]))"
   ]
  },
  {
   "cell_type": "code",
   "execution_count": null,
   "id": "3",
   "metadata": {},
   "outputs": [],
   "source": [
    "first_above = {}\n",
    "for i in range(len(transition_up[0])):\n",
    "    row_num = transition_up[0][i]\n",
    "    timept = transition_up[1][i]\n",
    "    try:\n",
    "        if timept < first_above[row_num]:\n",
    "            first_above[row_num] = timept\n",
    "    except:\n",
    "        first_above[row_num] = timept"
   ]
  },
  {
   "cell_type": "code",
   "execution_count": null,
   "id": "4",
   "metadata": {},
   "outputs": [],
   "source": [
    "plate_pos_list = data_df.index.tolist()\n",
    "output_dict = {}\n",
    "for row, timept in first_above.items():\n",
    "    plate_pos = plate_pos_list[row]\n",
    "    if median_log_del_OD[row, timept : timept + 10].shape[0] == 10:\n",
    "        output_dict[plate_pos] = median_log_del_OD[row, timept : timept + 10]\n",
    "output_df = pd.DataFrame(output_dict).transpose()\n",
    "output_arr = output_df.values"
   ]
  },
  {
   "cell_type": "code",
   "execution_count": null,
   "id": "5",
   "metadata": {
    "jupyter": {}
   },
   "outputs": [],
   "source": [
    "output_df.index.to_list()"
   ]
  },
  {
   "cell_type": "code",
   "execution_count": null,
   "id": "6",
   "metadata": {},
   "outputs": [],
   "source": [
    "growth_rates = {}\n",
    "df_plate_pos = output_df.index.to_list()\n",
    "for i in range(len(df_plate_pos)):\n",
    "    reg = sk.linear_model.LinearRegression().fit(\n",
    "        np.linspace(0, 90, 10).reshape(-1, 1), output_arr[i]\n",
    "    )\n",
    "    slope = reg.coef_\n",
    "    growth_rates[df_plate_pos[i]] = 1 / slope[0]\n",
    "growth_rates"
   ]
  },
  {
   "cell_type": "code",
   "execution_count": null,
   "id": "7",
   "metadata": {},
   "outputs": [],
   "source": [
    "slopes"
   ]
  },
  {
   "cell_type": "code",
   "execution_count": null,
   "id": "8",
   "metadata": {},
   "outputs": [],
   "source": [
    "data_df.index.tolist()"
   ]
  },
  {
   "cell_type": "code",
   "execution_count": null,
   "id": "9",
   "metadata": {},
   "outputs": [],
   "source": [
    "time_str = \"13:55:26\"\n",
    "time_object = datetime.datetime.strptime(time_str, \"%H:%M:%S\").time()\n",
    "print(type(time_object))\n",
    "print(time_object)"
   ]
  }
 ],
 "metadata": {
  "kernelspec": {
   "display_name": "Python 3",
   "language": "python",
   "name": "python3"
  },
  "language_info": {
   "codemirror_mode": {
    "name": "ipython",
    "version": 3
   },
   "file_extension": ".py",
   "mimetype": "text/x-python",
   "name": "python",
   "nbconvert_exporter": "python",
   "pygments_lexer": "ipython3",
   "version": "3.8.3"
  }
 },
 "nbformat": 4,
 "nbformat_minor": 4
}
