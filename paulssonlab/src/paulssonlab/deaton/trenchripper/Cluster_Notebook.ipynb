{
 "cells": [
  {
   "cell_type": "markdown",
   "metadata": {},
   "source": [
    "## Kymograph Cluster Code"
   ]
  },
  {
   "cell_type": "code",
   "execution_count": null,
   "metadata": {},
   "outputs": [],
   "source": [
    "import trenchripper as tr"
   ]
  },
  {
   "cell_type": "markdown",
   "metadata": {},
   "source": [
    "#### Start Dask"
   ]
  },
  {
   "cell_type": "code",
   "execution_count": null,
   "metadata": {},
   "outputs": [],
   "source": [
    "kymo_controller = tr.cluster.dask_controller(\n",
    "    walltime=\"04:00:00\", local=False, n_workers=20, memory=\"2GB\"\n",
    ")\n",
    "kymo_controller.startdask()\n",
    "kymo_controller.daskcluster.start_workers()"
   ]
  },
  {
   "cell_type": "code",
   "execution_count": null,
   "metadata": {},
   "outputs": [],
   "source": [
    "kymo_controller.daskclient"
   ]
  },
  {
   "cell_type": "markdown",
   "metadata": {},
   "source": [
    "#### Perform Extraction"
   ]
  },
  {
   "cell_type": "code",
   "execution_count": null,
   "metadata": {},
   "outputs": [],
   "source": [
    "hdf5_extractor = tr.ndextract.hdf5_fov_extractor(\n",
    "    \"/n/scratch2/de64/full_pipeline_test/40x_Ph2_Test_1.5.nd2\",\n",
    "    \"/n/scratch2/de64/full_pipeline_test/hdf5\",\n",
    ")  ##find a more elegent way to do grids...."
   ]
  },
  {
   "cell_type": "code",
   "execution_count": null,
   "metadata": {},
   "outputs": [],
   "source": [
    "hdf5_extractor.writemetadata()"
   ]
  },
  {
   "cell_type": "code",
   "execution_count": null,
   "metadata": {},
   "outputs": [],
   "source": [
    "fov_list = list(range(0, 80))\n",
    "# fov_list = list(range(16)) + list(range(29,40))"
   ]
  },
  {
   "cell_type": "code",
   "execution_count": null,
   "metadata": {},
   "outputs": [],
   "source": [
    "kymo_controller.mapfovs(hdf5_extractor.extract_fov, fov_list)"
   ]
  },
  {
   "cell_type": "code",
   "execution_count": null,
   "metadata": {},
   "outputs": [],
   "source": [
    "# props = kymo_controller.daskclient.gather(kymo_controller.futures) #this will hang until all futures are done"
   ]
  },
  {
   "cell_type": "code",
   "execution_count": null,
   "metadata": {},
   "outputs": [],
   "source": [
    "# hdf5_extractor.extract_fov(0)"
   ]
  },
  {
   "cell_type": "markdown",
   "metadata": {},
   "source": [
    "#### End Dask, Cancel Jobs"
   ]
  },
  {
   "cell_type": "code",
   "execution_count": null,
   "metadata": {},
   "outputs": [],
   "source": [
    "kymo_controller.shutdown()"
   ]
  },
  {
   "cell_type": "code",
   "execution_count": null,
   "metadata": {},
   "outputs": [],
   "source": [
    "# scancel --name=dask-worker --user=de64"
   ]
  },
  {
   "cell_type": "markdown",
   "metadata": {},
   "source": [
    "#### Generate Kymographs"
   ]
  },
  {
   "cell_type": "markdown",
   "metadata": {},
   "source": [
    "#### Start Dask"
   ]
  },
  {
   "cell_type": "code",
   "execution_count": null,
   "metadata": {},
   "outputs": [],
   "source": [
    "kymo_controller = tr.cluster.dask_controller(\n",
    "    walltime=\"04:00:00\", local=False, n_workers=40, memory=\"4GB\"\n",
    ")\n",
    "kymo_controller.startdask()\n",
    "kymo_controller.daskcluster.start_workers()"
   ]
  },
  {
   "cell_type": "code",
   "execution_count": null,
   "metadata": {},
   "outputs": [],
   "source": [
    "kymo_controller.daskclient"
   ]
  },
  {
   "cell_type": "code",
   "execution_count": null,
   "metadata": {},
   "outputs": [],
   "source": [
    "input_file_prefix = \"/n/scratch2/de64/for_sylvia/timelapse/hdf5/fov_\"\n",
    "output_path = \"/n/scratch2/de64/for_sylvia/timelapse/kymo\"\n",
    "all_channels = [\"channel_Phase\"]\n",
    "\n",
    "kymo = tr.kymograph.kychunker(\n",
    "    input_file_prefix=input_file_prefix,\n",
    "    output_path=output_path,\n",
    "    all_channels=all_channels,\n",
    "    trench_len_y=110,\n",
    "    padding_y=20,\n",
    "    trench_width_x=20,\n",
    "    t_chunk=25,\n",
    "    t_range=(0, 400),\n",
    "    y_percentile=90,\n",
    "    y_min_edge_dist=50,\n",
    "    smoothing_kernel_y=(17, 1),\n",
    "    triangle_nbins=50,\n",
    "    triangle_scaling=1.2,\n",
    "    top_orientation=0,\n",
    "    x_percentile=85,\n",
    "    background_kernel_x=(301, 1),\n",
    "    smoothing_kernel_x=(9, 1),\n",
    "    otsu_nbins=50,\n",
    "    otsu_scaling=0.7,\n",
    ")"
   ]
  },
  {
   "cell_type": "code",
   "execution_count": null,
   "metadata": {},
   "outputs": [],
   "source": [
    "hdf5_extractor.metadata[\"channels\"]  ##these names should match my convention"
   ]
  },
  {
   "cell_type": "code",
   "execution_count": null,
   "metadata": {},
   "outputs": [],
   "source": [
    "# fov_list = list(range(15)) + list(range(67,80))\n",
    "fov_list = list(range(20)) + list(range(60, 80))"
   ]
  },
  {
   "cell_type": "code",
   "execution_count": null,
   "metadata": {},
   "outputs": [],
   "source": [
    "kymo_controller.mapfovs(kymo.generate_kymograph, fov_list)"
   ]
  },
  {
   "cell_type": "markdown",
   "metadata": {},
   "source": [
    "maybe an estimate of memory usage"
   ]
  },
  {
   "cell_type": "code",
   "execution_count": null,
   "metadata": {},
   "outputs": [],
   "source": [
    "import numpy as np"
   ]
  },
  {
   "cell_type": "code",
   "execution_count": null,
   "metadata": {},
   "outputs": [],
   "source": [
    "kymo.generate_kymograph(15)  ## figure out this error ##"
   ]
  },
  {
   "cell_type": "code",
   "execution_count": null,
   "metadata": {},
   "outputs": [],
   "source": [
    "from matplotlib import pyplot as plt\n",
    "\n",
    "plt.plot(output[0][\"data\"][:, 0])"
   ]
  },
  {
   "cell_type": "code",
   "execution_count": null,
   "metadata": {},
   "outputs": [],
   "source": []
  },
  {
   "cell_type": "markdown",
   "metadata": {},
   "source": [
    "### NOTE\n",
    "\n",
    "- **How to deal with some fovs having a different number of rows than other fovs??? Try to make more flexible...**"
   ]
  },
  {
   "cell_type": "markdown",
   "metadata": {},
   "source": [
    "maybe add a kymograph viewer here"
   ]
  },
  {
   "cell_type": "markdown",
   "metadata": {},
   "source": [
    "### Note\n",
    "There may be an issue where hdf5 files do not close properly on crashes..."
   ]
  },
  {
   "cell_type": "code",
   "execution_count": null,
   "metadata": {},
   "outputs": [],
   "source": [
    "# props = kymo_controller.daskclient.gather(kymo_controller.futures) #this will hang until all futures are done"
   ]
  },
  {
   "cell_type": "markdown",
   "metadata": {},
   "source": [
    "#### End Dask, Cancel Jobs"
   ]
  },
  {
   "cell_type": "code",
   "execution_count": null,
   "metadata": {},
   "outputs": [],
   "source": [
    "kymo_controller.shutdown()"
   ]
  },
  {
   "cell_type": "code",
   "execution_count": null,
   "metadata": {},
   "outputs": [],
   "source": [
    "# scancel --name=dask-worker --user=de64"
   ]
  },
  {
   "cell_type": "markdown",
   "metadata": {},
   "source": [
    "#### Note: access request to the transfer partition pending; automate this bit later"
   ]
  },
  {
   "cell_type": "code",
   "execution_count": null,
   "metadata": {},
   "outputs": [],
   "source": [
    "import subprocess\n",
    "\n",
    "in_path = \"/n/files/SysBio/PAULSSON LAB/Daniel/Image_Data/test\"\n",
    "out_path = \"/n/scratch2/de64/for_sylvia/\"\n",
    "wrap_str = \"rsync \" + in_path + \" \" + out_path\n",
    "cmd_str = 'sbatch -p transfer -t 0-12:00 --wrap=\"' + wrap_str + '\"'\n",
    "\n",
    "subprocess.check_output(cmd_str, shell=True)"
   ]
  },
  {
   "cell_type": "code",
   "execution_count": null,
   "metadata": {},
   "outputs": [],
   "source": [
    "cmd_str"
   ]
  },
  {
   "cell_type": "code",
   "execution_count": null,
   "metadata": {},
   "outputs": [],
   "source": [
    "!sbatch -p transfer -t 0-12:00 --wrap=\"rsync /n/files/SysBio/PAULSSON\\LAB/Daniel/Image_Data/Bacillus_Project/test /n/scratch2/de64/for_sylvia/\""
   ]
  },
  {
   "cell_type": "markdown",
   "metadata": {},
   "source": [
    "#### Note: need to find a way to associate lanes from init barcoding snapshot with imaging lanes\n",
    "\n",
    "plan:\n",
    "- extract and segment (with phase) barcoding file\n",
    "- extract and segment experiemnt file\n",
    "- for both, note x positions of t=0 trenches\n",
    "- compare these values to map trenches to eachother..."
   ]
  },
  {
   "cell_type": "code",
   "execution_count": null,
   "metadata": {},
   "outputs": [],
   "source": [
    "import h5py\n",
    "from matplotlib import pyplot as plt\n",
    "import numpy as np"
   ]
  },
  {
   "cell_type": "code",
   "execution_count": null,
   "metadata": {},
   "outputs": [],
   "source": [
    "np.array([1, 2])[:]"
   ]
  },
  {
   "cell_type": "code",
   "execution_count": null,
   "metadata": {},
   "outputs": [],
   "source": [
    "h5py_handle = h5py.File(\"/n/scratch2/de64/for_sylvia/timelapse/kymo/kymo_10.hdf5\", \"r\")"
   ]
  },
  {
   "cell_type": "code",
   "execution_count": null,
   "metadata": {},
   "outputs": [],
   "source": [
    "list(h5py_handle.keys())"
   ]
  },
  {
   "cell_type": "code",
   "execution_count": null,
   "metadata": {},
   "outputs": [],
   "source": [
    "top = h5py_handle[\"1/channel_Phase\"]"
   ]
  },
  {
   "cell_type": "code",
   "execution_count": null,
   "metadata": {},
   "outputs": [],
   "source": [
    "# top = h5py_handle[\"channel_Phase\"]"
   ]
  },
  {
   "cell_type": "code",
   "execution_count": null,
   "metadata": {},
   "outputs": [],
   "source": [
    "top"
   ]
  },
  {
   "cell_type": "code",
   "execution_count": null,
   "metadata": {},
   "outputs": [],
   "source": [
    "# plt.imshow(top[50,:,:,20])\n",
    "tr.tplot.plot_kymograph(top[10, :, :, 0:20])"
   ]
  },
  {
   "cell_type": "code",
   "execution_count": null,
   "metadata": {},
   "outputs": [],
   "source": [
    "def test_fn():\n",
    "    h5py_handle = h5py.File(\n",
    "        \"/n/scratch2/de64/for_sylvia/timelapse/hdf5/fov_0.hdf5\", \"r\"\n",
    "    )\n",
    "    top = h5py_handle[\"channel_Phase\"]\n",
    "    test = top[:, :, 0:50]\n",
    "    output2 = np.percentile(test, 85, axis=1, interpolation=\"lower\")\n",
    "    output3 = np.percentile(test, 85, axis=1, interpolation=\"higher\")\n",
    "    output4 = np.percentile(test, 85, axis=1, interpolation=\"linear\")\n",
    "    h5py_handle.close()"
   ]
  },
  {
   "cell_type": "code",
   "execution_count": null,
   "metadata": {},
   "outputs": [],
   "source": [
    "%load_ext line_profiler\n",
    "%lprun -f test_fn test_fn()"
   ]
  },
  {
   "cell_type": "code",
   "execution_count": null,
   "metadata": {},
   "outputs": [],
   "source": []
  },
  {
   "cell_type": "code",
   "execution_count": null,
   "metadata": {},
   "outputs": [],
   "source": [
    "h5py_handle = h5py.File(\"/n/scratch2/de64/for_sylvia/timelapse/hdf5/fov_0.hdf5\", \"r\")\n",
    "top = h5py_handle[\"channel_Phase\"]\n",
    "slc = [slice(None)] * len(top.shape)\n",
    "slc[2] = slice(0, 50)\n",
    "print(slc)\n",
    "test = top[tuple(slc)]\n",
    "h5py_handle.close()"
   ]
  },
  {
   "cell_type": "code",
   "execution_count": null,
   "metadata": {},
   "outputs": [],
   "source": [
    "h5py_handle = h5py.File(\"/n/scratch2/de64/for_sylvia/timelapse/hdf5/fov_0.hdf5\", \"r\")\n",
    "top = h5py_handle[\"channel_Phase\"]\n",
    "test = top[:, :, range(0, 50)]\n",
    "h5py_handle.close()"
   ]
  },
  {
   "cell_type": "code",
   "execution_count": null,
   "metadata": {},
   "outputs": [],
   "source": [
    "h5py_handle = h5py.File(\"/n/scratch2/de64/for_sylvia/timelapse/hdf5/fov_0.hdf5\", \"r\")\n",
    "top = h5py_handle[\"channel_Phase\"]\n",
    "test = top[:, :, list(range(0, 50))]\n",
    "h5py_handle.close()"
   ]
  },
  {
   "cell_type": "code",
   "execution_count": null,
   "metadata": {},
   "outputs": [],
   "source": [
    "h5py_handle = h5py.File(\"/n/scratch2/de64/for_sylvia/timelapse/hdf5/fov_0.hdf5\", \"r\")\n",
    "top = h5py_handle[\"channel_Phase\"]\n",
    "test = np.take(top, list(range(0, 50)), axis=2)\n",
    "h5py_handle.close()"
   ]
  },
  {
   "cell_type": "code",
   "execution_count": null,
   "metadata": {},
   "outputs": [],
   "source": [
    "np.take(\n",
    "    h5py_handle[\"channel_Phase\"], [1, 2, 3, 4, 5], axis=2\n",
    ")  ##this operation is killing me"
   ]
  },
  {
   "cell_type": "code",
   "execution_count": null,
   "metadata": {},
   "outputs": [],
   "source": [
    "h5py_handle[\"channel_Phase\"][:, :, :20].shape"
   ]
  },
  {
   "cell_type": "code",
   "execution_count": null,
   "metadata": {},
   "outputs": [],
   "source": [
    "h5py_handle.close()"
   ]
  },
  {
   "cell_type": "code",
   "execution_count": null,
   "metadata": {},
   "outputs": [],
   "source": [
    "h5py_handle[\"1/channel_YFP\"]"
   ]
  },
  {
   "cell_type": "code",
   "execution_count": null,
   "metadata": {},
   "outputs": [],
   "source": [
    "h5py_handle.close()"
   ]
  },
  {
   "cell_type": "code",
   "execution_count": null,
   "metadata": {},
   "outputs": [],
   "source": []
  },
  {
   "cell_type": "code",
   "execution_count": null,
   "metadata": {},
   "outputs": [],
   "source": [
    "testlist = [\"success\"]\n",
    "potato = \"fail\""
   ]
  },
  {
   "cell_type": "code",
   "execution_count": null,
   "metadata": {},
   "outputs": [],
   "source": [
    "def test(potato, testlist):\n",
    "    exec(\"potato = testlist\")\n",
    "    return potato"
   ]
  },
  {
   "cell_type": "code",
   "execution_count": null,
   "metadata": {},
   "outputs": [],
   "source": [
    "test(potato, [\"moo\"])"
   ]
  },
  {
   "cell_type": "code",
   "execution_count": null,
   "metadata": {},
   "outputs": [],
   "source": [
    "potato"
   ]
  },
  {
   "cell_type": "code",
   "execution_count": null,
   "metadata": {},
   "outputs": [],
   "source": [
    "h5py_handle = h5py.File(\"/n/scratch2/de64/for_sylvia/timelapse/hdf5/fov_0.hdf5\", \"r\")"
   ]
  },
  {
   "cell_type": "code",
   "execution_count": null,
   "metadata": {},
   "outputs": [],
   "source": [
    "h5py_handle[\"channel_Phase\"].chunks"
   ]
  },
  {
   "cell_type": "code",
   "execution_count": null,
   "metadata": {},
   "outputs": [],
   "source": [
    "h5py_handle[\"channel_Phase\"]"
   ]
  },
  {
   "cell_type": "code",
   "execution_count": null,
   "metadata": {},
   "outputs": [],
   "source": [
    "target[slc]"
   ]
  },
  {
   "cell_type": "code",
   "execution_count": null,
   "metadata": {},
   "outputs": [],
   "source": []
  }
 ],
 "metadata": {
  "kernelspec": {
   "display_name": "Python 3",
   "language": "python",
   "name": "python3"
  },
  "language_info": {
   "codemirror_mode": {
    "name": "ipython",
    "version": 3
   },
   "file_extension": ".py",
   "mimetype": "text/x-python",
   "name": "python",
   "nbconvert_exporter": "python",
   "pygments_lexer": "ipython3",
   "version": "3.7.1"
  }
 },
 "nbformat": 4,
 "nbformat_minor": 2
}
