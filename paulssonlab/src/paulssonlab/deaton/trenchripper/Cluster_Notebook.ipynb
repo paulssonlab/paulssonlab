{
 "cells": [
  {
   "cell_type": "markdown",
   "metadata": {},
   "source": [
    "## Mother Machine Cluster Code"
   ]
  },
  {
   "cell_type": "code",
   "execution_count": null,
   "metadata": {},
   "outputs": [],
   "source": [
    "import trenchripper as tr"
   ]
  },
  {
   "cell_type": "markdown",
   "metadata": {},
   "source": [
    "#### Optionally transfer files into the scratch folder"
   ]
  },
  {
   "cell_type": "code",
   "execution_count": null,
   "metadata": {},
   "outputs": [],
   "source": [
    "sourcedir = \"/n/files/SysBio/PAULSSON\\ LAB/Daniel/Image_Data/Bacillus_Project/2019-06-18_DE85_training_data\"\n",
    "targetdir = \"/n/scratch2/de64/2019-06-18_DE85_training_data\"\n",
    "tr.cluster.transferjob(sourcedir, targetdir)"
   ]
  },
  {
   "cell_type": "markdown",
   "metadata": {},
   "source": [
    "#### Start Dask"
   ]
  },
  {
   "cell_type": "code",
   "execution_count": null,
   "metadata": {},
   "outputs": [],
   "source": [
    "# kymo_controller = tr.cluster.dask_controller(walltime='04:00:00',local=False,n_workers=40,memory='2GB')\n",
    "dask_controller = tr.cluster.dask_controller(\n",
    "    walltime=\"04:00:00\", local=False, n_workers=40, memory=\"4GB\"\n",
    ")\n",
    "dask_controller.startdask()\n",
    "dask_controller.daskcluster.start_workers()"
   ]
  },
  {
   "cell_type": "code",
   "execution_count": null,
   "metadata": {},
   "outputs": [],
   "source": [
    "dask_controller.daskclient"
   ]
  },
  {
   "cell_type": "markdown",
   "metadata": {},
   "source": [
    "#### Perform Extraction"
   ]
  },
  {
   "cell_type": "code",
   "execution_count": null,
   "metadata": {},
   "outputs": [],
   "source": [
    "# hdf5_extractor = tr.ndextract.hdf5_fov_extractor(\"/n/scratch2/de64/full_pipeline_test/40x_Ph2_Test_1.5.nd2\",\"/n/scratch2/de64/full_pipeline_test\")\n",
    "hdf5_extractor = tr.ndextract.hdf5_fov_extractor(\n",
    "    \"/n/scratch2/de64/2019-05-31_Bacillus_training_data_mneongreen/Main_Experiment.nd2\",\n",
    "    \"/n/scratch2/de64/2019-05-31_Bacillus_training_data_mneongreen\",\n",
    ")"
   ]
  },
  {
   "cell_type": "code",
   "execution_count": null,
   "metadata": {},
   "outputs": [],
   "source": [
    "hdf5_extractor.fov_metadata[:5]"
   ]
  },
  {
   "cell_type": "code",
   "execution_count": null,
   "metadata": {},
   "outputs": [],
   "source": [
    "print(hdf5_extractor.exp_metadata[\"fields_of_view\"])"
   ]
  },
  {
   "cell_type": "code",
   "execution_count": null,
   "metadata": {},
   "outputs": [],
   "source": [
    "fov_list = list(range(0, 40))"
   ]
  },
  {
   "cell_type": "code",
   "execution_count": null,
   "metadata": {},
   "outputs": [],
   "source": [
    "hdf5_extractor.writemetadata()"
   ]
  },
  {
   "cell_type": "code",
   "execution_count": null,
   "metadata": {},
   "outputs": [],
   "source": [
    "dask_controller.mapfovs(hdf5_extractor.extract_fov, fov_list)"
   ]
  },
  {
   "cell_type": "code",
   "execution_count": null,
   "metadata": {},
   "outputs": [],
   "source": [
    "hdf5_extractor.extract_fov(4)"
   ]
  },
  {
   "cell_type": "markdown",
   "metadata": {},
   "source": [
    "#### Generate Kymographs"
   ]
  },
  {
   "cell_type": "markdown",
   "metadata": {},
   "source": [
    "To begin, you should test which parameters work best on your dataset in the following [notebook](./Interactive_Kymograph.ipynb)."
   ]
  },
  {
   "cell_type": "markdown",
   "metadata": {},
   "source": [
    "#### Start Dask"
   ]
  },
  {
   "cell_type": "code",
   "execution_count": null,
   "metadata": {},
   "outputs": [],
   "source": [
    "dask_controller = tr.cluster.dask_controller(\n",
    "    walltime=\"04:00:00\", local=False, n_workers=40, memory=\"4GB\"\n",
    ")\n",
    "dask_controller.startdask()\n",
    "dask_controller.daskcluster.start_workers()"
   ]
  },
  {
   "cell_type": "code",
   "execution_count": null,
   "metadata": {},
   "outputs": [],
   "source": [
    "dask_controller.daskclient"
   ]
  },
  {
   "cell_type": "code",
   "execution_count": null,
   "metadata": {},
   "outputs": [],
   "source": [
    "# headpath = \"/n/scratch2/de64/full_pipeline_test\"\n",
    "# all_channels = [\"channel_RFP\",\"channel_BF\"]\n",
    "\n",
    "# kymo = tr.kymograph.kychunker(headpath=headpath,all_channels=all_channels,trench_len_y=270,padding_y=20,trench_width_x=25,\\\n",
    "#                  t_chunk=100,t_range=(0,-1),y_percentile=88,y_min_edge_dist=50,smoothing_kernel_y=(17,1),triangle_nbins=50,triangle_scaling=1.6,\\\n",
    "#                  expected_num_rows=2,orientation_detection=0,orientation_on_fail=0,x_percentile=85,background_kernel_x=(21,1),smoothing_kernel_x=(9,1),otsu_nbins=50,otsu_scaling=0.3,\\\n",
    "#                  trench_present_thr=0.7)\n",
    "\n",
    "headpath = \"/n/scratch2/de64/2019-05-31_Bacillus_training_data_mneongreen/\"\n",
    "all_channels = [\"channel_GFP\", \"channel_Phase\"]\n",
    "\n",
    "kymo = tr.kymograph.kychunker(\n",
    "    headpath=headpath,\n",
    "    all_channels=all_channels,\n",
    "    trench_len_y=250,\n",
    "    padding_y=40,\n",
    "    trench_width_x=23,\n",
    "    t_chunk=100,\n",
    "    t_range=(0, None),\n",
    "    y_percentile=88,\n",
    "    y_min_edge_dist=80,\n",
    "    smoothing_kernel_y=(17, 1),\n",
    "    triangle_nbins=50,\n",
    "    triangle_scaling=1.05,\n",
    "    expected_num_rows=2,\n",
    "    orientation_detection=0,\n",
    "    orientation_on_fail=0,\n",
    "    x_percentile=80,\n",
    "    background_kernel_x=(21, 1),\n",
    "    smoothing_kernel_x=(9, 1),\n",
    "    otsu_nbins=50,\n",
    "    otsu_scaling=0.5,\n",
    "    trench_present_thr=0.7,\n",
    ")"
   ]
  },
  {
   "cell_type": "code",
   "execution_count": null,
   "metadata": {},
   "outputs": [],
   "source": [
    "# Y Percentile 88\n",
    "# Y Smoothing Kernel 17\n",
    "# Triangle Trheshold Bins 50\n",
    "# Triangle Threshold Scaling 1.05\n",
    "# Minimum Trench Length 50\n",
    "# Y Padding 20\n",
    "# Trench Length 270\n",
    "# Orientation Detection Method 0\n",
    "# Expected Number of Rows (Manual Orientation Detection) 2\n",
    "# Top Orientation when Row Drifts Out (Manual Orientation Detection) 0\n",
    "# X Percentile 85\n",
    "# X Background Kernel 21\n",
    "# X Smoothing Kernel 9\n",
    "# Otsu Trheshold Bins 50\n",
    "# Otsu Threshold Scaling 0.3\n",
    "# Trench Width 25\n",
    "# Trench Presence Threshold 0.7"
   ]
  },
  {
   "cell_type": "code",
   "execution_count": null,
   "metadata": {},
   "outputs": [],
   "source": [
    "kymo.dask_full_kymograph(dask_controller)"
   ]
  },
  {
   "cell_type": "code",
   "execution_count": null,
   "metadata": {},
   "outputs": [],
   "source": [
    "kymo.kymo_report()"
   ]
  },
  {
   "cell_type": "code",
   "execution_count": null,
   "metadata": {},
   "outputs": [],
   "source": [
    "# fov_list = list(range(0,80))\n",
    "# fov_list = list(range(0,40))\n",
    "# dask_controller.mapfovs(kymo.generate_kymograph,fov_list,retries=1)\n",
    "# kymo.generate_kymograph(30)\n",
    "# kymo.collect_metadata(fov_list,use_archive=False,overwrite_archive=True)\n",
    "# kymo.collect_metadata(fov_list,use_archive=True,overwrite_archive=False)\n",
    "# dask_controller.mapfovs(kymo.reorg_kymographs,fov_list,retries=1)\n",
    "# kymo.cleanup_kymographs()"
   ]
  },
  {
   "cell_type": "markdown",
   "metadata": {},
   "source": [
    "maybe an estimate of memory usage"
   ]
  },
  {
   "cell_type": "markdown",
   "metadata": {},
   "source": [
    "#### Generate Segmentation"
   ]
  },
  {
   "cell_type": "markdown",
   "metadata": {},
   "source": [
    "To begin, you should test which parameters work best on your dataset in the following [notebook](./Interactive_fluo_seg.ipynb)."
   ]
  },
  {
   "cell_type": "markdown",
   "metadata": {},
   "source": [
    "#### Start Dask"
   ]
  },
  {
   "cell_type": "code",
   "execution_count": null,
   "metadata": {},
   "outputs": [],
   "source": [
    "dask_controller = tr.cluster.dask_controller(\n",
    "    walltime=\"01:00:00\", local=False, n_workers=40, memory=\"1GB\"\n",
    ")\n",
    "dask_controller.startdask()\n",
    "dask_controller.daskcluster.start_workers()"
   ]
  },
  {
   "cell_type": "code",
   "execution_count": null,
   "metadata": {},
   "outputs": [],
   "source": [
    "dask_controller.daskclient"
   ]
  },
  {
   "cell_type": "code",
   "execution_count": null,
   "metadata": {},
   "outputs": [],
   "source": [
    "# segment = tr.segment.fluo_segmentation_cluster(\"/n/scratch2/de64/full_pipeline_test\",\"channel_RFP\",smooth_sigma=0.75,wrap_pad=3,hess_pad=4,min_obj_size=30,cell_mask_method='local',\\\n",
    "#                  cell_otsu_scaling=1.,local_otsu_r=15,edge_threshold_scaling=1.,threshold_step_perc=0.05,threshold_perc_num_steps=4,convex_threshold=0.8)\n",
    "segment = tr.segment.fluo_segmentation_cluster(\n",
    "    \"/n/scratch2/de64/2019-05-31_Bacillus_training_data_mneongreen/\",\n",
    "    \"channel_GFP\",\n",
    "    smooth_sigma=0.75,\n",
    "    wrap_pad=3,\n",
    "    hess_pad=4,\n",
    "    min_obj_size=50,\n",
    "    cell_mask_method=\"local\",\n",
    "    global_otsu_scaling=0.9,\n",
    "    cell_otsu_scaling=0.7,\n",
    "    local_otsu_r=11,\n",
    "    edge_threshold_scaling=0.9,\n",
    "    threshold_step_perc=0.05,\n",
    "    threshold_perc_num_steps=3,\n",
    "    convex_threshold=0.75,\n",
    ")"
   ]
  },
  {
   "cell_type": "code",
   "execution_count": null,
   "metadata": {},
   "outputs": [],
   "source": [
    "# Scale Fluorescence? True\n",
    "# Scaling Percentile: 90\n",
    "# Gaussian Kernel Sigma: 0.75\n",
    "# Cell Mask Thresholding Method: local\n",
    "# Global Threshold Scaling: 0.9\n",
    "# Cell Threshold Scaling: 0.7\n",
    "# Local Otsu Radius: 11\n",
    "# Edge Threshold Scaling: 0.9\n",
    "# Threshold Step Percent: 0.05\n",
    "# Number of Threshold Steps: 3\n",
    "# Minimum Object Size: 30\n",
    "# Convexity Threshold: 0.75"
   ]
  },
  {
   "cell_type": "code",
   "execution_count": null,
   "metadata": {},
   "outputs": [],
   "source": [
    "# fov_list = list(set(range(0,80))-set([77]))\n",
    "fov_list = list(set(range(0, 40)) - set([32, 14, 25, 26, 29]))"
   ]
  },
  {
   "cell_type": "code",
   "execution_count": null,
   "metadata": {},
   "outputs": [],
   "source": [
    "dask_controller.mapfovs(segment.generate_segmentation, fov_list)"
   ]
  },
  {
   "cell_type": "code",
   "execution_count": null,
   "metadata": {},
   "outputs": [],
   "source": [
    "segment.generate_segmentation(1)"
   ]
  },
  {
   "cell_type": "code",
   "execution_count": null,
   "metadata": {},
   "outputs": [],
   "source": [
    "kymo_controller.daskclient.get_futures_error(kymo_controller.futures[1])"
   ]
  },
  {
   "cell_type": "code",
   "execution_count": null,
   "metadata": {},
   "outputs": [],
   "source": [
    "kymo_handle.return_unwrap()"
   ]
  },
  {
   "cell_type": "code",
   "execution_count": null,
   "metadata": {},
   "outputs": [],
   "source": [
    "import h5py\n",
    "from matplotlib import pyplot as plt\n",
    "import numpy as np\n",
    "import trenchripper as tr\n",
    "\n",
    "kymo_handle = tr.utils.kymo_handle()\n",
    "\n",
    "with h5py.File(\n",
    "    \"/n/scratch2/de64/2019-05-31_Bacillus_training_data_mneongreen/kymo/kymo_12.hdf5\",\n",
    "    \"r\",\n",
    ") as infile:\n",
    "    print(infile.keys())\n",
    "    print(infile[\"1020\"])\n",
    "    kymo_handle.import_wrap(infile[\"1020\" + \"/channel_GFP\"])\n",
    "    plt.imshow(infile[\"1020\" + \"/channel_GFP\"][:, :, 0])\n",
    "    plt.show()\n",
    "    plt.imshow(kymo_handle.return_unwrap())\n",
    "    plt.show()"
   ]
  },
  {
   "cell_type": "code",
   "execution_count": null,
   "metadata": {},
   "outputs": [],
   "source": [
    "import h5py\n",
    "from matplotlib import pyplot as plt\n",
    "import numpy as np\n",
    "\n",
    "kymo_handle = tr.utils.kymo_handle()\n",
    "\n",
    "with h5py.File(\n",
    "    \"/n/scratch2/de64/2019-05-31_Bacillus_training_data_mneongreen/segmentation/seg_12.hdf5\",\n",
    "    \"r\",\n",
    ") as infile:\n",
    "    print(infile.keys())\n",
    "    kymo_handle.import_wrap(infile[\"1020\"])\n",
    "    plt.imshow(infile[\"1020\"][:, :, 0])\n",
    "    plt.show()\n",
    "    plt.imshow(kymo_handle.return_unwrap())\n",
    "    plt.show()"
   ]
  },
  {
   "cell_type": "markdown",
   "metadata": {},
   "source": [
    "### Note\n",
    "There may be an issue where hdf5 files do not close properly on crashes..."
   ]
  },
  {
   "cell_type": "code",
   "execution_count": null,
   "metadata": {},
   "outputs": [],
   "source": [
    "# props = kymo_controller.daskclient.gather(kymo_controller.futures) #this will hang until all futures are done"
   ]
  },
  {
   "cell_type": "markdown",
   "metadata": {},
   "source": [
    "#### Dask Utilities"
   ]
  },
  {
   "cell_type": "code",
   "execution_count": null,
   "metadata": {},
   "outputs": [],
   "source": [
    "dask_controller.shutdown()"
   ]
  },
  {
   "cell_type": "code",
   "execution_count": null,
   "metadata": {},
   "outputs": [],
   "source": [
    "dask_controller.retry_failed()"
   ]
  },
  {
   "cell_type": "code",
   "execution_count": null,
   "metadata": {},
   "outputs": [],
   "source": [
    "dask_controller.daskclient.restart()"
   ]
  },
  {
   "cell_type": "code",
   "execution_count": null,
   "metadata": {},
   "outputs": [],
   "source": [
    "dask_controller.retry_processing()"
   ]
  },
  {
   "cell_type": "code",
   "execution_count": null,
   "metadata": {},
   "outputs": [],
   "source": [
    "# scancel --name=dask-worker --user=de64"
   ]
  },
  {
   "cell_type": "markdown",
   "metadata": {},
   "source": [
    "#### Note: need to find a way to associate lanes from init barcoding snapshot with imaging lanes\n",
    "\n",
    "plan:\n",
    "- extract and segment (with phase) barcoding file\n",
    "- extract and segment experiemnt file\n",
    "- for both, note x positions of t=0 trenches\n",
    "- compare these values to map trenches to eachother..."
   ]
  }
 ],
 "metadata": {
  "kernelspec": {
   "display_name": "mothermachine",
   "language": "python",
   "name": "mothermachine"
  },
  "language_info": {
   "codemirror_mode": {
    "name": "ipython",
    "version": 3
   },
   "file_extension": ".py",
   "mimetype": "text/x-python",
   "name": "python",
   "nbconvert_exporter": "python",
   "pygments_lexer": "ipython3",
   "version": "3.6.8"
  }
 },
 "nbformat": 4,
 "nbformat_minor": 2
}
