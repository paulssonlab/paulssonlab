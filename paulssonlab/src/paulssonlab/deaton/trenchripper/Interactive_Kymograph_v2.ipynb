{
 "cells": [
  {
   "cell_type": "markdown",
   "metadata": {},
   "source": [
    "#### Interactive Kymograph Code Draft\n",
    "\n",
    "Xref: Journal/12_26_18/Interactive_Kymograph_Draft_no_scaling.ipynb\n",
    "\n",
    "Goal: In this notebook, I will finalize the interactive kymograph code I wrote in `Interactive_Kymograph_v1.ipynb` This is a copy of `Interactive_Kymograph_Draft_no_scaling.ipynb`\n",
    "\n",
    "This code should have the following features:\n",
    "\n",
    "- seamless parameter tuning with visual outputs\n",
    "- chunking of the analysis process into steps\n",
    "- representative results from across the dataset\n",
    "- global qc stats?\n",
    "\n",
    "I should also use this code as an oppertunity to try out new things for the main (hdf5 using) codebase."
   ]
  },
  {
   "cell_type": "markdown",
   "metadata": {},
   "source": [
    "#### NOTE:\n",
    "\n",
    "Modifying this code haphazardly is getting a bit unwieldy. Try to write down a game plan for the final drafting of the interactive kymograph, given what I have learned about the implementation. In addition, review the structure of this and the original kymograph code for restructuring/simplification. Finally, move on to the extraction code.\n",
    "\n",
    "**THIS KYMOGRAPH CODE MUST BE DEPLOYABLE BY 1/4**\n",
    "\n",
    "### PLAN TO GET THIS DONE\n",
    "\n",
    " - (1/2) Implement this structure and finish interactive code (including comments).\n",
    " - (1/3) Try to eleminate redundancy in codebase with global handlers for main code differences between interactive and\n",
    " server code...\n",
    " - (1/3) Revisit original code and implement structural simplification (i.e. distinct stopping points)\n",
    " - (1/3) Devise and implement library structure for the hdf5 conversion and kymograph code\n",
    " - (1/4) Finishing touches on library and start working on segmentation code.\n",
    " - (1/5) Write down structure of segmentation code (try to keep schematically similar to kymo code)\n",
    " - (?) Try to figure out if the read/write overhead is causing major problems...eliminate unnecessary I/O\n",
    " - (?) Play around with the dask way of chunking (in bookmarks) (don't do this until kymo interactive is done, but before seg)"
   ]
  },
  {
   "cell_type": "code",
   "execution_count": null,
   "metadata": {},
   "outputs": [],
   "source": [
    "from ipywidgets import (\n",
    "    interact,\n",
    "    interactive,\n",
    "    fixed,\n",
    "    interact_manual,\n",
    "    FloatSlider,\n",
    "    IntSlider,\n",
    ")\n",
    "import ipywidgets as widgets\n",
    "import matplotlib\n",
    "import warnings\n",
    "\n",
    "matplotlib.rcParams[\"figure.figsize\"] = [20, 10]\n",
    "warnings.filterwarnings(action=\"once\")"
   ]
  },
  {
   "cell_type": "code",
   "execution_count": null,
   "metadata": {},
   "outputs": [],
   "source": [
    "import interactive\n",
    "from interactive import *"
   ]
  },
  {
   "cell_type": "code",
   "execution_count": null,
   "metadata": {},
   "outputs": [],
   "source": [
    "input_path_prefix = (\n",
    "    \"/n/groups/paulsson/Daniel/Image_analysis_pipeline/tiff_extraction/test_out_4/fov_\"\n",
    ")\n",
    "kymo = interactive.kymograph_interactive(\n",
    "    input_path_prefix,\n",
    "    [\"channel_BF\", \"channel_RFP\"],\n",
    "    270,\n",
    "    20,\n",
    "    30,\n",
    "    [64, 12, 32, 45],\n",
    "    t_subsample_step=5,\n",
    ")"
   ]
  },
  {
   "cell_type": "code",
   "execution_count": null,
   "metadata": {},
   "outputs": [],
   "source": [
    "imported_array_list = kymo.map_to_fovs(kymo.import_hdf5)\n",
    "# imported_array_list = kymo.import_hdf5_list(fov_list,2)"
   ]
  },
  {
   "cell_type": "code",
   "execution_count": null,
   "metadata": {},
   "outputs": [],
   "source": [
    "matplotlib.rcParams[\"figure.figsize\"] = [20, 10]\n",
    "interact_manual(\n",
    "    kymo.preview_y_precentiles,\n",
    "    imported_array_list=fixed(imported_array_list),\n",
    "    y_percentile=IntSlider(value=85, min=0, max=100, step=1),\n",
    "    smoothing_kernel_y_dim_0=IntSlider(value=9, min=0, max=20, step=1),\n",
    "    smoothing_kernel_y_dim_1=IntSlider(value=3, min=0, max=10, step=1),\n",
    "    triangle_nbins=IntSlider(value=50, min=10, max=200, step=10),\n",
    "    triangle_scaling=FloatSlider(value=1.0, min=0.0, max=2.0, step=0.05),\n",
    ")"
   ]
  },
  {
   "cell_type": "code",
   "execution_count": null,
   "metadata": {},
   "outputs": [],
   "source": [
    "y_percentiles_smoothed_list = kymo.map_to_fovs(\n",
    "    kymo.get_smoothed_y_percentiles, imported_array_list, 85, (9, 3)\n",
    ")"
   ]
  },
  {
   "cell_type": "code",
   "execution_count": null,
   "metadata": {},
   "outputs": [],
   "source": [
    "interact_manual(\n",
    "    kymo.preview_y_crop,\n",
    "    y_percentiles_smoothed_list=fixed(y_percentiles_smoothed_list),\n",
    "    imported_array_list=fixed(imported_array_list),\n",
    "    y_time_percentile=IntSlider(value=85, min=0, max=100, step=1),\n",
    "    triangle_nbins=IntSlider(value=50, min=10, max=200, step=10),\n",
    "    triangle_scaling=FloatSlider(value=1.0, min=0.0, max=2.0, step=0.01),\n",
    "    y_min_edge_dist=IntSlider(value=50, min=10, max=200, step=10),\n",
    "    padding_y=IntSlider(value=20, min=0, max=100, step=1),\n",
    "    trench_len_y=IntSlider(value=270, min=0, max=1000, step=10),\n",
    "    vertical_spacing=FloatSlider(value=0.9, min=0.0, max=2.0, step=0.01),\n",
    ")"
   ]
  },
  {
   "cell_type": "code",
   "execution_count": null,
   "metadata": {},
   "outputs": [],
   "source": [
    "trench_edges_y_lists = kymo.map_to_fovs(\n",
    "    kymo.get_trench_edges_y, y_percentiles_smoothed_list, 50, 1.1, min_edge_dist=50\n",
    ")\n",
    "row_num_list = kymo.map_to_fovs(kymo.get_row_numbers, trench_edges_y_lists)\n",
    "cropped_in_y_list = kymo.map_to_fovs(\n",
    "    kymo.crop_y,\n",
    "    trench_edges_y_lists,\n",
    "    row_num_list,\n",
    "    imported_array_list,\n",
    "    20,\n",
    "    270,\n",
    "    top_orientation=0,\n",
    ")"
   ]
  },
  {
   "cell_type": "code",
   "execution_count": null,
   "metadata": {},
   "outputs": [],
   "source": [
    "interact_manual(\n",
    "    kymo.preview_x_percentiles,\n",
    "    cropped_in_y_list=fixed(cropped_in_y_list),\n",
    "    t=IntSlider(value=0, min=0, max=cropped_in_y_list[0].shape[4] - 1, step=1),\n",
    "    x_percentile=IntSlider(value=85, min=0, max=100, step=1),\n",
    "    background_kernel_x=IntSlider(value=301, min=1, max=601, step=50),\n",
    "    smoothing_kernel_x=IntSlider(value=9, min=1, max=31, step=2),\n",
    "    otsu_nbins=IntSlider(value=50, min=10, max=200, step=10),\n",
    "    otsu_scaling=FloatSlider(value=1.0, min=0.0, max=2.0, step=0.01),\n",
    "    vertical_spacing=FloatSlider(value=0.9, min=0.0, max=2.0, step=0.01),\n",
    ")"
   ]
  },
  {
   "cell_type": "code",
   "execution_count": null,
   "metadata": {},
   "outputs": [],
   "source": [
    "smoothed_x_percentiles_list = kymo.map_to_fovs(\n",
    "    kymo.get_smoothed_x_percentiles, cropped_in_y_list, 85, (301, 1), (9, 1)\n",
    ")"
   ]
  },
  {
   "cell_type": "code",
   "execution_count": null,
   "metadata": {},
   "outputs": [],
   "source": [
    "interact_manual(\n",
    "    kymo.preview_midpoints,\n",
    "    smoothed_x_percentiles_list=fixed(smoothed_x_percentiles_list),\n",
    "    otsu_nbins=IntSlider(value=50, min=10, max=200, step=10),\n",
    "    otsu_scaling=FloatSlider(value=1.0, min=0.0, max=2.0, step=0.01),\n",
    "    vertical_spacing=FloatSlider(value=0.8, min=0.0, max=2.0, step=0.01),\n",
    ")"
   ]
  },
  {
   "cell_type": "code",
   "execution_count": null,
   "metadata": {},
   "outputs": [],
   "source": [
    "all_midpoints_list = kymo.map_to_fovs(\n",
    "    kymo.get_all_midpoints, smoothed_x_percentiles_list, 50, 1.0\n",
    ")\n",
    "x_drift_list = kymo.map_to_fovs(kymo.get_x_drift, all_midpoints_list)"
   ]
  },
  {
   "cell_type": "code",
   "execution_count": null,
   "metadata": {},
   "outputs": [],
   "source": [
    "matplotlib.rcParams[\"figure.figsize\"] = [20, 10]\n",
    "interact_manual(\n",
    "    kymo.preview_kymographs,\n",
    "    cropped_in_y_list=fixed(cropped_in_y_list),\n",
    "    all_midpoints_list=fixed(all_midpoints_list),\n",
    "    x_drift_list=fixed(x_drift_list),\n",
    "    trench_width_x=IntSlider(value=30, min=10, max=50, step=1),\n",
    "    vertical_spacing=FloatSlider(value=0.8, min=0.0, max=2.0, step=0.01),\n",
    ")"
   ]
  },
  {
   "cell_type": "code",
   "execution_count": null,
   "metadata": {},
   "outputs": [],
   "source": [
    "cropped_in_x_list = kymo.map_to_fovs(\n",
    "    kymo.get_crop_in_x, cropped_in_y_list, all_midpoints_list, x_drift_list, 30\n",
    ")"
   ]
  },
  {
   "cell_type": "markdown",
   "metadata": {},
   "source": [
    "#### Note\n",
    "\n",
    " - Would it be worth converting the image to an 8 byte encoding for thresholding purposes?"
   ]
  },
  {
   "cell_type": "code",
   "execution_count": null,
   "metadata": {},
   "outputs": [],
   "source": [
    "%load_ext line_profiler\n",
    "%lprun -f kymo.import_hdf5 kymo.preview_y_crop([64,14,34,46])"
   ]
  },
  {
   "cell_type": "markdown",
   "metadata": {},
   "source": [
    "Seems like the limiting factor is by far the initial read in, so it doesn't seem that necessary to use the 8 bit encoding / resizing unless it is done in the primary kymograph code. The pros and cons of including it there are:\n",
    "\n",
    "#### Pros\n",
    " - speedup on all computational operations\n",
    " - major speedup on intermediate read/write operations during processing\n",
    " \n",
    "#### Cons\n",
    " - computational speedup pretty small\n",
    " - would need to compile information about places to crop prior to a final step in which\n",
    " cropping actually occurs on the original image data. This is a major restructuring....\n",
    " \n",
    "#### outcome\n",
    "\n",
    "Just keep this in mind for future features, but for now don't implement. Take interactive mode as is without resizing...."
   ]
  },
  {
   "cell_type": "markdown",
   "metadata": {},
   "source": [
    "### MAJOR NOTE FOR SEGMENTATION CODE\n",
    "\n",
    "The conversion to bits can be currupted by outlier signal, possibly from fringing at the end of trenches."
   ]
  },
  {
   "cell_type": "code",
   "execution_count": null,
   "metadata": {},
   "outputs": [],
   "source": [
    "from mpl_toolkits.mplot3d import Axes3D\n",
    "from matplotlib.collections import PolyCollection\n",
    "from matplotlib.colors import colorConverter\n",
    "import matplotlib.pyplot as plt\n",
    "import numpy as np\n",
    "\n",
    "fig = plt.figure()\n",
    "ax = fig.gca(projection=\"3d\")\n",
    "\n",
    "cc = lambda arg: colorConverter.to_rgba(arg, alpha=0.6)\n",
    "\n",
    "xs = np.arange(0, 10, 0.4)\n",
    "verts = []\n",
    "zs = [0.0, 1.0, 2.0, 3.0]\n",
    "for z in zs:\n",
    "    ys = np.random.rand(len(xs))\n",
    "    ys[0], ys[-1] = 0, 0\n",
    "    verts.append(list(zip(xs, ys)))\n",
    "\n",
    "poly = PolyCollection(verts, facecolors=[cc(\"r\"), cc(\"g\"), cc(\"b\"), cc(\"y\")])\n",
    "poly.set_alpha(0.7)\n",
    "ax.add_collection3d(poly, zs=zs, zdir=\"y\")\n",
    "\n",
    "ax.set_xlabel(\"X\")\n",
    "ax.set_xlim3d(0, 10)\n",
    "ax.set_ylabel(\"Y\")\n",
    "ax.set_ylim3d(-1, 4)\n",
    "ax.set_zlabel(\"Z\")\n",
    "ax.set_zlim3d(0, 1)\n",
    "\n",
    "plt.show()"
   ]
  },
  {
   "cell_type": "code",
   "execution_count": null,
   "metadata": {},
   "outputs": [],
   "source": []
  }
 ],
 "metadata": {
  "kernelspec": {
   "display_name": "Python 3",
   "language": "python",
   "name": "python3"
  },
  "language_info": {
   "codemirror_mode": {
    "name": "ipython",
    "version": 3
   },
   "file_extension": ".py",
   "mimetype": "text/x-python",
   "name": "python",
   "nbconvert_exporter": "python",
   "pygments_lexer": "ipython3",
   "version": "3.6.6"
  }
 },
 "nbformat": 4,
 "nbformat_minor": 2
}
