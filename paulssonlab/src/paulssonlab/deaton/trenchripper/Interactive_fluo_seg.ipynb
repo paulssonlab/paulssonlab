{
 "cells": [
  {
   "cell_type": "markdown",
   "metadata": {},
   "source": [
    "### Interactive Fluorescent Segmentation Code\n",
    "\n",
    "Use this notebook to figure out the segmentation hyperparameters that are most appropriate for your dataset."
   ]
  },
  {
   "cell_type": "code",
   "execution_count": null,
   "metadata": {},
   "outputs": [],
   "source": [
    "import trenchripper as tr\n",
    "\n",
    "from ipywidgets import (\n",
    "    interact,\n",
    "    interactive,\n",
    "    fixed,\n",
    "    interact_manual,\n",
    "    FloatSlider,\n",
    "    IntSlider,\n",
    "    Dropdown,\n",
    "    IntText,\n",
    "    IntRangeSlider,\n",
    ")\n",
    "import ipywidgets as widgets\n",
    "import matplotlib\n",
    "import warnings\n",
    "import copy\n",
    "\n",
    "matplotlib.rcParams[\"figure.figsize\"] = [20, 10]\n",
    "warnings.filterwarnings(action=\"once\")"
   ]
  },
  {
   "cell_type": "markdown",
   "metadata": {},
   "source": [
    "#### Initialize the interactive segmentation class\n",
    "\n",
    "As a first step, initialize the `tr.interactive.fluo_segmentation_interactive` class that will be handling all steps of generating a segmentation. \n",
    "\n",
    "You will need to specify the following `args` (in order):\n",
    "\n",
    "\n",
    "**Args**\n",
    "\n",
    "**headpath (string)** : Top level path being used for processing (same as the rest of the mother machine pipeline.)\n",
    "\n",
    "**seg_channel (string)** : String corresponding to the image channel in the input hdf5 file being used to segment the dataset."
   ]
  },
  {
   "cell_type": "code",
   "execution_count": null,
   "metadata": {},
   "outputs": [],
   "source": [
    "headpath = \"/n/scratch2/de64/2019-05-13_bacillus_training_data\"\n",
    "seg_channel = \"channel_RFP\"\n",
    "\n",
    "inter = tr.interactive.fluo_segmentation_interactive(headpath, seg_channel)"
   ]
  },
  {
   "cell_type": "markdown",
   "metadata": {},
   "source": [
    "#### Import data\n",
    "\n",
    "Fill in \n",
    "\n",
    "You will need to tune the following `args` and `kwargs` (in order):\n",
    "\n",
    "**fov_idx (int)** :\n",
    "\n",
    "**n_trenches (int)** :\n",
    "\n",
    "**t_range (tuple)** :\n",
    "\n",
    "**t_subsample_step (int)** :"
   ]
  },
  {
   "cell_type": "code",
   "execution_count": null,
   "metadata": {},
   "outputs": [],
   "source": [
    "kymo_arr_int = interactive(\n",
    "    inter.import_array,\n",
    "    {\"manual\": True},\n",
    "    fov_idx=IntText(value=0, description=\"FOV number:\", disabled=False),\n",
    "    n_trenches=IntText(value=1, description=\"Number of trenches:\", disabled=False),\n",
    "    t_range=IntRangeSlider(\n",
    "        value=[0, 100],\n",
    "        description=\"Time Range:\",\n",
    "        min=0,\n",
    "        max=200,\n",
    "        step=1,\n",
    "        disabled=False,\n",
    "    ),\n",
    "    t_subsample_step=IntSlider(\n",
    "        value=1, description=\"Time Subsampling Step:\", min=1, max=20, step=1\n",
    "    ),\n",
    "    fig_size_y=IntSlider(\n",
    "        value=9, description=\"Figure Size (Y Dimension):\", min=1, max=30, step=1\n",
    "    ),\n",
    "    fig_size_x=IntSlider(\n",
    "        value=6, description=\"Figure Size (X Dimension):\", min=1, max=30, step=1\n",
    "    ),\n",
    ")\n",
    "display(kymo_arr_int)"
   ]
  },
  {
   "cell_type": "code",
   "execution_count": null,
   "metadata": {},
   "outputs": [],
   "source": [
    "kymo_arr = copy.copy(kymo_arr_int.result)"
   ]
  },
  {
   "cell_type": "markdown",
   "metadata": {},
   "source": [
    "#### Scale data\n",
    "\n",
    "Fill in \n",
    "\n",
    "You will need to tune the following `args` and `kwargs` (in order):\n",
    "\n",
    "**scale (bool)** : Whether to scale the kymograph in time.\n",
    "\n",
    "**scaling_percentile (int)** : Whole image intensity percentile to use to determine scaling constant. "
   ]
  },
  {
   "cell_type": "code",
   "execution_count": null,
   "metadata": {},
   "outputs": [],
   "source": [
    "scaled_list_int = interactive(\n",
    "    inter.plot_scaled,\n",
    "    {\"manual\": True},\n",
    "    kymo_arr=fixed(kymo_arr),\n",
    "    scale=Dropdown(\n",
    "        options=[True, False],\n",
    "        value=True,\n",
    "        description=\"Scale Fluorescence?\",\n",
    "        disabled=False,\n",
    "    ),\n",
    "    scaling_percentile=IntSlider(\n",
    "        value=90,\n",
    "        description=\"Scaling Percentile:\",\n",
    "        min=0,\n",
    "        max=100,\n",
    "        step=1,\n",
    "        disabled=False,\n",
    "    ),\n",
    ")\n",
    "display(scaled_list_int)\n",
    "\n",
    "\n",
    "# scaled_list = inter.plot_scaled(kymo_arr,True,90)"
   ]
  },
  {
   "cell_type": "code",
   "execution_count": null,
   "metadata": {},
   "outputs": [],
   "source": [
    "scaled_list = copy.copy(scaled_list_int.result)"
   ]
  },
  {
   "cell_type": "markdown",
   "metadata": {},
   "source": [
    "#### Apply Gaussian Filter\n",
    "\n",
    "Fill in \n",
    "\n",
    "You will need to tune the following `args` and `kwargs` (in order):\n",
    "\n",
    "**smooth_sigma (float)** : Standard deviation of gaussian kernel."
   ]
  },
  {
   "cell_type": "code",
   "execution_count": null,
   "metadata": {},
   "outputs": [],
   "source": [
    "proc_list_int = interactive(\n",
    "    inter.plot_processed,\n",
    "    {\"manual\": True},\n",
    "    scaled_list=fixed(scaled_list),\n",
    "    smooth_sigma=FloatSlider(\n",
    "        value=0.75,\n",
    "        description=\"Gaussian Kernel Sigma:\",\n",
    "        min=0.0,\n",
    "        max=3.0,\n",
    "        step=0.25,\n",
    "        disabled=False,\n",
    "    ),\n",
    ")\n",
    "display(proc_list_int)"
   ]
  },
  {
   "cell_type": "code",
   "execution_count": null,
   "metadata": {},
   "outputs": [],
   "source": [
    "proc_list = copy.copy(proc_list_int.result)\n",
    "eigval_list = inter.plot_eigval(proc_list)"
   ]
  },
  {
   "cell_type": "markdown",
   "metadata": {},
   "source": [
    "#### Determine Cell Mask Envelope\n",
    "\n",
    "Fill in.\n",
    "\n",
    "You will need to tune the following `args` and `kwargs` (in order):\n",
    "\n",
    "**cell_mask_method (str)** : Thresholding method, can be a local or global Otsu threshold.\n",
    "\n",
    "**cell_otsu_scaling (float)** : Scaling factor applied to determined threshold.\n",
    "\n",
    "**local_otsu_r (int)** : Radius of thresholding kernel used in the local otsu thresholding."
   ]
  },
  {
   "cell_type": "code",
   "execution_count": null,
   "metadata": {},
   "outputs": [],
   "source": [
    "cell_mask_list_int = interactive(\n",
    "    inter.plot_cell_mask,\n",
    "    {\"manual\": True},\n",
    "    proc_list=fixed(proc_list),\n",
    "    cell_mask_method=Dropdown(\n",
    "        options=[\"local\", \"global\"],\n",
    "        value=\"local\",\n",
    "        description=\"Cell Mask Thresholding Method:\",\n",
    "        disabled=False,\n",
    "    ),\n",
    "    cell_otsu_scaling=FloatSlider(\n",
    "        value=0.85,\n",
    "        description=\"Cell Threshold Scaling:\",\n",
    "        min=0.0,\n",
    "        max=2.0,\n",
    "        step=0.01,\n",
    "        disabled=False,\n",
    "    ),\n",
    "    local_otsu_r=IntSlider(\n",
    "        value=15,\n",
    "        description=\"Local Otsu Radius:\",\n",
    "        min=0,\n",
    "        max=30,\n",
    "        step=1,\n",
    "        disabled=False,\n",
    "    ),\n",
    ")\n",
    "display(cell_mask_list_int)"
   ]
  },
  {
   "cell_type": "code",
   "execution_count": null,
   "metadata": {},
   "outputs": [],
   "source": [
    "cell_mask_list = copy.copy(cell_mask_list_int.result)"
   ]
  },
  {
   "cell_type": "markdown",
   "metadata": {},
   "source": [
    "#### Display Edge Mask at Threshold Value\n",
    "\n",
    "Fill in.\n",
    "\n",
    "You will need to tune the following `args` and `kwargs` (in order):\n",
    "\n",
    "**edge_threshold_scaling (float)** : Scaling factor applied to determined threshold."
   ]
  },
  {
   "cell_type": "code",
   "execution_count": null,
   "metadata": {},
   "outputs": [],
   "source": [
    "composite_mask_list_int = interactive(\n",
    "    inter.plot_threshold_result,\n",
    "    {\"manual\": True},\n",
    "    eigval_list=fixed(eigval_list),\n",
    "    cell_mask_list=fixed(cell_mask_list),\n",
    "    edge_threshold_scaling=FloatSlider(\n",
    "        value=0.9,\n",
    "        description=\"Edge Threshold Scaling\",\n",
    "        min=0.0,\n",
    "        max=2.0,\n",
    "        step=0.01,\n",
    "        disabled=False,\n",
    "    ),\n",
    ")\n",
    "display(composite_mask_list_int)"
   ]
  },
  {
   "cell_type": "markdown",
   "metadata": {},
   "source": [
    "#### Threshold Sampling and Convexity Calculation\n",
    "\n",
    "Fill in.\n",
    "\n",
    "You will need to tune the following `args` and `kwargs` (in order):\n",
    "\n",
    "**edge_threshold_scaling (float)** : Scaling factor applied to determined threshold.\n",
    "\n",
    "**threshold_step_perc (float)** : Threshold step size to be used for trying multiple thresholds.\n",
    "\n",
    "**threshold_perc_num_steps (int)** : Number of steps to use when generating multiple thresholds."
   ]
  },
  {
   "cell_type": "code",
   "execution_count": null,
   "metadata": {},
   "outputs": [],
   "source": [
    "conv_scores_list_int = interactive(\n",
    "    inter.plot_scores,\n",
    "    {\"manual\": True},\n",
    "    eigval_list=fixed(eigval_list),\n",
    "    cell_mask_list=fixed(cell_mask_list),\n",
    "    edge_threshold_scaling=FloatSlider(\n",
    "        value=0.9,\n",
    "        description=\"Edge Threshold Scaling\",\n",
    "        min=0.0,\n",
    "        max=2.0,\n",
    "        step=0.01,\n",
    "        disabled=False,\n",
    "    ),\n",
    "    threshold_step_perc=FloatSlider(\n",
    "        value=0.05,\n",
    "        description=\"Threshold Step Percent\",\n",
    "        min=0.0,\n",
    "        max=0.5,\n",
    "        step=0.01,\n",
    "        disabled=False,\n",
    "    ),\n",
    "    threshold_perc_num_steps=IntSlider(\n",
    "        value=2,\n",
    "        description=\"Number of Threshold Steps\",\n",
    "        min=0,\n",
    "        max=5,\n",
    "        step=1,\n",
    "        disabled=False,\n",
    "    ),\n",
    ")\n",
    "display(conv_scores_list_int)"
   ]
  },
  {
   "cell_type": "code",
   "execution_count": null,
   "metadata": {},
   "outputs": [],
   "source": [
    "conv_scores_list = copy.copy(conv_scores_list_int.result)"
   ]
  },
  {
   "cell_type": "markdown",
   "metadata": {},
   "source": [
    "#### Convexity Thresholding\n",
    "\n",
    "Fill in.\n",
    "\n",
    "You will need to tune the following `args` and `kwargs` (in order):\n",
    "\n",
    "**convex_threshold (float)** : Threshold to be used for convexity thresholding."
   ]
  },
  {
   "cell_type": "code",
   "execution_count": null,
   "metadata": {},
   "outputs": [],
   "source": [
    "final_mask_list_int = interactive(\n",
    "    inter.plot_final_mask,\n",
    "    {\"manual\": True},\n",
    "    conv_scores_list=fixed(conv_scores_list),\n",
    "    convex_threshold=FloatSlider(\n",
    "        value=0.9,\n",
    "        description=\"Convexity Threshold:\",\n",
    "        min=0.0,\n",
    "        max=1.0,\n",
    "        step=0.01,\n",
    "        disabled=False,\n",
    "    ),\n",
    ")\n",
    "display(final_mask_list_int)"
   ]
  },
  {
   "cell_type": "code",
   "execution_count": null,
   "metadata": {},
   "outputs": [],
   "source": [
    "inter.print_results()"
   ]
  },
  {
   "cell_type": "code",
   "execution_count": null,
   "metadata": {},
   "outputs": [],
   "source": []
  }
 ],
 "metadata": {
  "kernelspec": {
   "display_name": "mothermachine",
   "language": "python",
   "name": "mothermachine"
  },
  "language_info": {
   "codemirror_mode": {
    "name": "ipython",
    "version": 3
   },
   "file_extension": ".py",
   "mimetype": "text/x-python",
   "name": "python",
   "nbconvert_exporter": "python",
   "pygments_lexer": "ipython3",
   "version": "3.7.3"
  }
 },
 "nbformat": 4,
 "nbformat_minor": 2
}
