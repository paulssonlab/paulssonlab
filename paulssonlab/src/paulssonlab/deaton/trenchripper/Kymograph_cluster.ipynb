{
 "cells": [
  {
   "cell_type": "markdown",
   "metadata": {},
   "source": [
    "#### Interactive Kymograph Code Draft\n",
    "\n",
    "Xref: Journal/12_26_18/Interactive_Kymograph_Draft_no_scaling.ipynb\n",
    "\n",
    "Goal: In this notebook, I will finalize the interactive kymograph code I wrote in `Interactive_Kymograph_v1.ipynb` This is a copy of `Interactive_Kymograph_Draft_no_scaling.ipynb`\n",
    "\n",
    "This code should have the following features:\n",
    "\n",
    "- seamless parameter tuning with visual outputs\n",
    "- chunking of the analysis process into steps\n",
    "- representative results from across the dataset\n",
    "- global qc stats?\n",
    "\n",
    "I should also use this code as an oppertunity to try out new things for the main (hdf5 using) codebase."
   ]
  },
  {
   "cell_type": "markdown",
   "metadata": {},
   "source": [
    "#### NOTE:\n",
    "\n",
    "Modifying this code haphazardly is getting a bit unwieldy. Try to write down a game plan for the final drafting of the interactive kymograph, given what I have learned about the implementation. In addition, review the structure of this and the original kymograph code for restructuring/simplification. Finally, move on to the extraction code.\n",
    "\n",
    "**THIS KYMOGRAPH CODE MUST BE DEPLOYABLE BY 1/4**\n",
    "\n",
    "### PLAN TO GET THIS DONE\n",
    "\n",
    " - (1/2) Implement this structure and finish interactive code (including comments).\n",
    " - (1/3) Try to eleminate redundancy in codebase with global handlers for main code differences between interactive and\n",
    " server code...\n",
    " - (1/3) Revisit original code and implement structural simplification (i.e. distinct stopping points)\n",
    " - (1/3) Devise and implement library structure for the hdf5 conversion and kymograph code\n",
    " - (1/4) Finishing touches on library and start working on segmentation code.\n",
    " - (1/5) Write down structure of segmentation code (try to keep schematically similar to kymo code)\n",
    " - (?) Try to figure out if the read/write overhead is causing major problems...eliminate unnecessary I/O\n",
    " - (?) Play around with the dask way of chunking (in bookmarks) (don't do this until kymo interactive is done, but before seg)"
   ]
  },
  {
   "cell_type": "code",
   "execution_count": null,
   "metadata": {},
   "outputs": [],
   "source": [
    "import matplotlib\n",
    "\n",
    "matplotlib.rcParams[\"figure.figsize\"] = [20, 10]"
   ]
  },
  {
   "cell_type": "code",
   "execution_count": null,
   "metadata": {},
   "outputs": [],
   "source": [
    "import kymograph as ky\n",
    "from kymograph import *"
   ]
  },
  {
   "cell_type": "code",
   "execution_count": null,
   "metadata": {},
   "outputs": [],
   "source": [
    "input_path_prefix = (\n",
    "    \"/n/groups/paulsson/Daniel/Image_analysis_pipeline/tiff_extraction/test_out_4/fov_\"\n",
    ")\n",
    "output_path = \"/n/groups/paulsson/Daniel/Image_analysis_pipeline/kymographs_6\"\n",
    "fov_number = 12\n",
    "all_channels = [\"channel_BF\", \"channel_RFP\"]\n",
    "trench_len_y, padding_y, trench_width_x = (270, 20, 30)\n",
    "\n",
    "kymo = ky.kymochunk(\n",
    "    input_path_prefix,\n",
    "    output_path,\n",
    "    fov_number,\n",
    "    all_channels,\n",
    "    trench_len_y,\n",
    "    padding_y,\n",
    "    trench_width_x,\n",
    "    t_chunk=25,\n",
    ")"
   ]
  },
  {
   "cell_type": "code",
   "execution_count": null,
   "metadata": {},
   "outputs": [],
   "source": [
    "kymo.generate_kymograph()"
   ]
  },
  {
   "cell_type": "code",
   "execution_count": null,
   "metadata": {},
   "outputs": [],
   "source": [
    "import tplot"
   ]
  },
  {
   "cell_type": "code",
   "execution_count": null,
   "metadata": {},
   "outputs": [],
   "source": [
    "data = h5py.File(\n",
    "    \"/n/groups/paulsson/Daniel/Image_analysis_pipeline/kymographs_6/kymo_12.hdf5\"\n",
    ")"
   ]
  },
  {
   "cell_type": "code",
   "execution_count": null,
   "metadata": {},
   "outputs": [],
   "source": [
    "tplot.plot_kymograph(data[\"0/channel_BF\"][0])"
   ]
  },
  {
   "cell_type": "code",
   "execution_count": null,
   "metadata": {},
   "outputs": [],
   "source": [
    "%load_ext memory_profiler"
   ]
  },
  {
   "cell_type": "code",
   "execution_count": null,
   "metadata": {},
   "outputs": [],
   "source": [
    "def f_mem(t_chunk):\n",
    "    kymo = ky.chunked(\n",
    "        input_path_prefix,\n",
    "        output_path,\n",
    "        fov_number,\n",
    "        all_channels,\n",
    "        trench_len_y,\n",
    "        padding_y,\n",
    "        trench_width_x,\n",
    "        t_chunk=t_chunk,\n",
    "    )\n",
    "    kymo.generate_kymograph()"
   ]
  },
  {
   "cell_type": "code",
   "execution_count": null,
   "metadata": {},
   "outputs": [],
   "source": [
    "%memit f_mem(25)"
   ]
  },
  {
   "cell_type": "code",
   "execution_count": null,
   "metadata": {},
   "outputs": [],
   "source": [
    "%memit f_mem(10)"
   ]
  },
  {
   "cell_type": "code",
   "execution_count": null,
   "metadata": {},
   "outputs": [],
   "source": [
    "%load_ext line_profiler"
   ]
  },
  {
   "cell_type": "code",
   "execution_count": null,
   "metadata": {},
   "outputs": [],
   "source": [
    "%timeit -n1 -r1 f_mem(25)"
   ]
  },
  {
   "cell_type": "code",
   "execution_count": null,
   "metadata": {},
   "outputs": [],
   "source": [
    "%timeit -n1 -r1 f_mem(10)"
   ]
  }
 ],
 "metadata": {
  "kernelspec": {
   "display_name": "Python 3",
   "language": "python",
   "name": "python3"
  },
  "language_info": {
   "codemirror_mode": {
    "name": "ipython",
    "version": 3
   },
   "file_extension": ".py",
   "mimetype": "text/x-python",
   "name": "python",
   "nbconvert_exporter": "python",
   "pygments_lexer": "ipython3",
   "version": "3.6.6"
  }
 },
 "nbformat": 4,
 "nbformat_minor": 2
}
