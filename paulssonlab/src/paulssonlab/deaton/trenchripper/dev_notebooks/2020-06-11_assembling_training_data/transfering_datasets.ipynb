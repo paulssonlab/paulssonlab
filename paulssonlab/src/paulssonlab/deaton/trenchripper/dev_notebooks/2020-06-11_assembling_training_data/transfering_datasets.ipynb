{
 "cells": [
  {
   "cell_type": "code",
   "execution_count": null,
   "metadata": {},
   "outputs": [],
   "source": [
    "import paulssonlab.deaton.trenchripper.trenchripper as tr"
   ]
  },
  {
   "cell_type": "markdown",
   "metadata": {},
   "source": [
    "#### E. coli Ti6\n",
    "1) /n/files/SysBio/PAULSSON LAB/Personal Folders/!!Jacob Quinn Shenker/190905/190905segmentation_yfp001                 30GB\n",
    "2) /n/files/SysBio/PAULSSON LAB/Personal Folders/!!Jacob Quinn Shenker/190917/190917_20x_phase_gfp_segmentation002      11GB\n",
    "\n",
    "3) /n/files/SysBio/PAULSSON LAB/Personal Folders/Noah/190922/20x_segmentation_data/190922_20x_phase_gfp_segmentation    358GB\n",
    "4) /n/files/SysBio/PAULSSON LAB/Personal Folders/Noah/190922/20x_segmentation_data/190925_20x_phase_yfp_segmentation    ??\n",
    "5) /n/files/SysBio/PAULSSON LAB/Personal Folders/Carlos/Data_Ti6/SB7_trainingdata_Unet/ezrdm training sb7.nd2         85GB\n",
    "6) /n/files/SysBio/PAULSSON LAB/Personal Folders/Carlos/Data_Ti6/SB7_trainingdata_Unet/mbm training sb7.nd2           85GB\n",
    "\n",
    "#### E. coli Ti5\n",
    "7) /n/files/SysBio/PAULSSON LAB/Personal Folders/Carlos/Data_Ti5/before bl2+/SB7_trainingdata_NN_MM/Sb7_L35.nd2         66GB\n",
    "\n",
    "#### Vibrio, Ti3\n",
    "8) /n/files/SysBio/PAULSSON LAB/Personal Folders/Leoncini/DATA_Ti3/20190627--Vibrio/MM_DVCvecto_TOP_1_9.nd2             108GB\n",
    "9) /n/files/SysBio/PAULSSON LAB/Personal Folders/Leoncini/DATA_Ti3/20190628--Vibrio/Vibrio_2_1_TOP.nd2                  252GB\n",
    "\n",
    "#### Vibrio, Ti6\n",
    "10) /n/files/SysBio/PAULSSON LAB/Personal Folders/Leoncini/DATA_Ti6/20190724--Vibrio_A_B_VZRDM/Vibrio_A_B_VZRDM--03--RUN_80ms.nd2    114GB\n",
    "\n",
    "#### E. coli, Ti3\n",
    "11) /n/files/SysBio/PAULSSON LAB/SILVIA/Ti3Data/2020_01_29/RpoSOutliers_WT_hipQ_100X.nd2                                  476GB\n",
    "\n",
    "#### Bacillus, Unknown Microscope (Ti3 or 4)\n",
    "12) /n/files/SysBio/PAULSSON LAB/Personal Folders/Daniel/Image_Data/Bacillus_Project/2019-05-31_DE85_training_data/exp_folder/Main_Experiment.nd2      47GB\n",
    "13) /n/files/SysBio/PAULSSON LAB/Personal Folders/Daniel/Image_Data/Bacillus_Project/2019-06-18_DE85_training_data/bde17_gotime.nd2                    40GB"
   ]
  },
  {
   "cell_type": "code",
   "execution_count": null,
   "metadata": {},
   "outputs": [],
   "source": [
    "sourcedir_list = [  # \"/n/files/SysBio/PAULSSON LAB/Personal Folders/!!Jacob Quinn Shenker/190905/190905segmentation_yfp001\",\\\n",
    "    #                   \"/n/files/SysBio/PAULSSON LAB/Personal Folders/!!Jacob Quinn Shenker/190917/190917_20x_phase_gfp_segmentation002\",\\\n",
    "    #                   \"/n/files/SysBio/PAULSSON LAB/Personal Folders/Noah/190922/20x_segmentation_data/190922_20x_phase_gfp_segmentation\",\\\n",
    "    #                   \"/n/files/SysBio/PAULSSON LAB/Personal Folders/Noah/190922/20x_segmentation_data/190925_20x_phase_yfp_segmentation\",\\\n",
    "    #                   \"/n/files/SysBio/PAULSSON LAB/Personal Folders/Carlos/Data_Ti6/SB7_trainingdata_Unet/ezrdm training sb7.nd2\",\\\n",
    "    #                   \"/n/files/SysBio/PAULSSON LAB/Personal Folders/Carlos/Data_Ti6/SB7_trainingdata_Unet/mbm training sb7.nd2\",\\\n",
    "    #                   \"/n/files/SysBio/PAULSSON LAB/Personal Folders/Carlos/Data_Ti5/before bl2+/SB7_trainingdata_NN_MM/Sb7_L35.nd2\",\\\n",
    "    #                   \"/n/files/SysBio/PAULSSON LAB/Personal Folders/Leoncini/DATA_Ti3/20190627--Vibrio/MM_DVCvecto_TOP_1_9.nd2\",\\\n",
    "    #                   \"/n/files/SysBio/PAULSSON LAB/Personal Folders/Leoncini/DATA_Ti3/20190628--Vibrio/Vibrio_2_1_TOP.nd2\",\\\n",
    "    \"/n/files/SysBio/PAULSSON LAB/Personal Folders/Leoncini/DATA_Ti6/20190724--Vibrio_A_B_VZRDM/Vibrio_A_B_VZRDM--04--RUN_80ms.nd2\",  #                   \"/n/files/SysBio/PAULSSON LAB/SILVIA/Ti3Data/2020_01_29/RpoSOutliers_WT_hipQ_100X.nd2\",\\\n",
    "    #                   \"/n/files/SysBio/PAULSSON LAB/Personal Folders/Daniel/Image_Data/Bacillus_Project/2019-05-31_DE85_training_data/exp_folder/Main_Experiment.nd2\",\\\n",
    "    #                   \"/n/files/SysBio/PAULSSON LAB/Personal Folders/Daniel/Image_Data/Bacillus_Project/2019-06-18_DE85_training_data/bde17_gotime.nd2\",\\\n",
    "]"
   ]
  },
  {
   "cell_type": "code",
   "execution_count": null,
   "metadata": {},
   "outputs": [],
   "source": []
  },
  {
   "cell_type": "code",
   "execution_count": null,
   "metadata": {},
   "outputs": [],
   "source": [
    "base_dir = \"/n/scratch3/users/d/de64/\"\n",
    "for item in sourcedir_list:\n",
    "    if item[-4:] == \".nd2\":\n",
    "        targetdir = base_dir + item.split(\"/\")[-1][:-4]\n",
    "        tr.trcluster.transferjob(item, targetdir, single_file=True)\n",
    "    else:\n",
    "        targetdir = base_dir + item.split(\"/\")[-1]\n",
    "        tr.trcluster.transferjob(item, targetdir, single_file=False)\n",
    "#     print(targetdir)"
   ]
  },
  {
   "cell_type": "code",
   "execution_count": null,
   "metadata": {},
   "outputs": [],
   "source": [
    "targetdir_list"
   ]
  },
  {
   "cell_type": "code",
   "execution_count": null,
   "metadata": {},
   "outputs": [],
   "source": [
    "if single_file:\n",
    "    rsynccmd = \"rsync -r \" + sourcedir + \" \" + targetdir\n",
    "else:\n",
    "    rsynccmd = \"rsync -r \" + sourcedir + \"/ \" + targetdir"
   ]
  },
  {
   "cell_type": "code",
   "execution_count": null,
   "metadata": {},
   "outputs": [],
   "source": [
    "targetdir = base_dir + sourcedir_list[0].split(\"/\")[-1]\n",
    "rsynccmd = \"rsync -r \" + sourcedir_list[0] + \" \" + targetdir"
   ]
  },
  {
   "cell_type": "code",
   "execution_count": null,
   "metadata": {},
   "outputs": [],
   "source": [
    "rsynccmd"
   ]
  },
  {
   "cell_type": "code",
   "execution_count": null,
   "metadata": {},
   "outputs": [],
   "source": [
    "targetdir = base_dir + sourcedir_list[0].split(\"/\")[-1]\n",
    "rsynccmd = \"rsync -r \" + sourcedir_list[0] + \"/ \" + targetdir"
   ]
  },
  {
   "cell_type": "code",
   "execution_count": null,
   "metadata": {},
   "outputs": [],
   "source": [
    "rsynccmd"
   ]
  },
  {
   "cell_type": "code",
   "execution_count": null,
   "metadata": {},
   "outputs": [],
   "source": [
    "rsync -r '/n/files/SysBio/PAULSSON LAB/Personal Folders/Leoncini/DATA_Ti6/20190724--Vibrio_A_B_VZRDM/Vibrio_A_B_VZRDM--03--RUN_80ms.nd2' '/n/scratch3/users/d/de64/Vibrio_A_B_VZRDM--03--RUN_80ms'"
   ]
  },
  {
   "cell_type": "code",
   "execution_count": null,
   "metadata": {},
   "outputs": [],
   "source": []
  }
 ],
 "metadata": {
  "kernelspec": {
   "display_name": "Python 3",
   "language": "python",
   "name": "python3"
  },
  "language_info": {
   "codemirror_mode": {
    "name": "ipython",
    "version": 3
   },
   "file_extension": ".py",
   "mimetype": "text/x-python",
   "name": "python",
   "nbconvert_exporter": "python",
   "pygments_lexer": "ipython3",
   "version": "3.8.3"
  },
  "toc-autonumbering": false
 },
 "nbformat": 4,
 "nbformat_minor": 4
}
