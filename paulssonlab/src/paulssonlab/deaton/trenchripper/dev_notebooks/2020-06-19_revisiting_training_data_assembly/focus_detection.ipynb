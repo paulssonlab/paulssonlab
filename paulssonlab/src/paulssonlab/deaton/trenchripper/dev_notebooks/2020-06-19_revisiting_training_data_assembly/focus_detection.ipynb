{
 "cells": [
  {
   "cell_type": "code",
   "execution_count": null,
   "metadata": {},
   "outputs": [],
   "source": [
    "import h5py"
   ]
  },
  {
   "cell_type": "code",
   "execution_count": null,
   "metadata": {},
   "outputs": [],
   "source": [
    "import numpy as np"
   ]
  },
  {
   "cell_type": "code",
   "execution_count": null,
   "metadata": {},
   "outputs": [],
   "source": [
    "headpath = \"/n/scratch3/users/d/de64/190922_20x_phase_gfp_segmentation/190922_20x_phase_gfp_segmentation\""
   ]
  },
  {
   "cell_type": "code",
   "execution_count": null,
   "metadata": {},
   "outputs": [],
   "source": [
    "with h5py.File(headpath + \"/kymograph/kymograph_0.hdf5\", \"r\") as infile:\n",
    "    data = infile[\"GFP\"][:]"
   ]
  },
  {
   "cell_type": "code",
   "execution_count": null,
   "metadata": {},
   "outputs": [],
   "source": [
    "data.shape"
   ]
  },
  {
   "cell_type": "code",
   "execution_count": null,
   "metadata": {},
   "outputs": [],
   "source": [
    "from matplotlib import pyplot as plt\n",
    "import matplotlib\n",
    "\n",
    "matplotlib.rcParams[\"figure.figsize\"] = [20, 10]\n",
    "import paulssonlab.deaton.trenchripper.trenchripper as tr\n",
    "import skimage as sk"
   ]
  },
  {
   "cell_type": "code",
   "execution_count": null,
   "metadata": {},
   "outputs": [],
   "source": [
    "for i in range(0, 40, 2):\n",
    "    with h5py.File(\n",
    "        headpath + \"/kymograph/kymograph_\" + str(i) + \".hdf5\", \"r\"\n",
    "    ) as infile:\n",
    "        data = infile[\"GFP\"][0, 0]\n",
    "    plt.imshow(data / np.prod(data.shape))\n",
    "    plt.show()\n",
    "\n",
    "    H = data.shape[0]\n",
    "    W = data.shape[1]\n",
    "    ten = np.sum(sk.filters.sobel_h(data) ** 2 + sk.filters.sobel_v(data) ** 2)\n",
    "    print(ten)\n",
    "\n",
    "    AC = np.sum(data[:, :-1] * data[:, 1:]) - np.sum(data[:, :-5] * data[:, 5:])\n",
    "    print(AC)"
   ]
  },
  {
   "cell_type": "code",
   "execution_count": null,
   "metadata": {},
   "outputs": [],
   "source": [
    "def get_focus_score(img_arr):\n",
    "    Sx = sk.filters.sobel_h(img_arr)\n",
    "    Sy = sk.filters.sobel_v(img_arr)\n",
    "    Ften = np.sum(Sx**2 + Sy**2)\n",
    "    return Ften"
   ]
  },
  {
   "cell_type": "code",
   "execution_count": null,
   "metadata": {},
   "outputs": [],
   "source": [
    "F_list = []\n",
    "img_list = []\n",
    "for i in range(0, 200):\n",
    "    with h5py.File(\n",
    "        headpath + \"/kymograph/kymograph_\" + str(i) + \".hdf5\", \"r\"\n",
    "    ) as infile:\n",
    "\n",
    "        for j in range(5):\n",
    "            data = infile[\"GFP\"][j, 0]\n",
    "\n",
    "            if np.sum(data) / np.prod(data.shape) > 2000:\n",
    "\n",
    "                ten = np.sum(\n",
    "                    sk.filters.sobel_h(data) ** 2 + sk.filters.sobel_v(data) ** 2\n",
    "                )\n",
    "\n",
    "                #     AC = np.sum(data[:,:-1]*data[:,1:]) - np.sum(data[:,:-2]*data[:,2:])\n",
    "                F_list.append(ten)\n",
    "                img_list.append(data)\n",
    "\n",
    "F_arr = np.array(F_list)\n",
    "img_arr = np.array(img_list)"
   ]
  },
  {
   "cell_type": "code",
   "execution_count": null,
   "metadata": {},
   "outputs": [],
   "source": [
    "plt.hist(F_list, bins=20, range=(0, 2))"
   ]
  },
  {
   "cell_type": "code",
   "execution_count": null,
   "metadata": {},
   "outputs": [],
   "source": [
    "high_F = AC_arr > 1.3"
   ]
  },
  {
   "cell_type": "code",
   "execution_count": null,
   "metadata": {},
   "outputs": [],
   "source": [
    "high_F = F_arr > 5.0\n",
    "handle = tr.kymo_handle()\n",
    "handle.import_wrap(img_arr[high_F][80:])\n",
    "plt.imshow(handle.return_unwrap()[:, :700])\n",
    "plt.show()\n",
    "\n",
    "handle = tr.kymo_handle()\n",
    "handle.import_wrap(img_arr[~high_F][80:])\n",
    "plt.imshow(handle.return_unwrap()[:, :700])\n",
    "plt.show()"
   ]
  },
  {
   "cell_type": "code",
   "execution_count": null,
   "metadata": {},
   "outputs": [],
   "source": [
    "low_F = AC_arr > 1.3\n",
    "handle = tr.kymo_handle()\n",
    "handle.import_wrap(img_arr[high_F])\n",
    "plt.imshow(handle.return_unwrap()[:, :500])\n",
    "plt.show()"
   ]
  },
  {
   "cell_type": "code",
   "execution_count": null,
   "metadata": {},
   "outputs": [],
   "source": [
    "plt.imshow(handle.return_unwrap()[:, :500])\n",
    "plt.show()"
   ]
  },
  {
   "cell_type": "code",
   "execution_count": null,
   "metadata": {},
   "outputs": [],
   "source": [
    "plt.imshow(handle.return_unwrap()[:, :500])\n",
    "plt.show()"
   ]
  },
  {
   "cell_type": "code",
   "execution_count": null,
   "metadata": {},
   "outputs": [],
   "source": []
  }
 ],
 "metadata": {
  "kernelspec": {
   "display_name": "Python 3",
   "language": "python",
   "name": "python3"
  },
  "language_info": {
   "codemirror_mode": {
    "name": "ipython",
    "version": 3
   },
   "file_extension": ".py",
   "mimetype": "text/x-python",
   "name": "python",
   "nbconvert_exporter": "python",
   "pygments_lexer": "ipython3",
   "version": "3.8.3"
  }
 },
 "nbformat": 4,
 "nbformat_minor": 4
}
