{
 "cells": [
  {
   "cell_type": "code",
   "execution_count": null,
   "id": "0",
   "metadata": {},
   "outputs": [],
   "source": [
    "# fmt: off\n",
    "import copy\n",
    "import os\n",
    "import pickle\n",
    "import shutil\n",
    "\n",
    "import dask.dataframe as dd\n",
    "import h5py\n",
    "import matplotlib\n",
    "import numpy as np\n",
    "import pandas as pd\n",
    "import scipy as sp\n",
    "import skimage as sk\n",
    "from scipy import ndimage as ndi\n",
    "\n",
    "matplotlib.rcParams[\"figure.figsize\"] = [20, 10]\n",
    "\n",
    "from time import sleep\n",
    "\n",
    "import scipy.ndimage.morphology as morph\n",
    "# import mahotas as mh\n",
    "from dask.distributed import worker_client\n",
    "from matplotlib import pyplot as plt\n",
    "from pandas import HDFStore\n",
    "from skimage import (exposure, feature, filters, future, measure, morphology,\n",
    "                     segmentation, transform, util)\n",
    "from skimage.segmentation import watershed\n",
    "\n",
    "from paulssonlab.deaton.trenchripper.trenchripper import (hdf5lock,\n",
    "                                                          kymo_handle,\n",
    "                                                          pandas_hdf5_handler,\n",
    "                                                          writedir)"
   ]
  },
  {
   "cell_type": "code",
   "execution_count": null,
   "id": "1",
   "metadata": {},
   "outputs": [],
   "source": [
    "with h5py.File(\n",
    "    \"/n/scratch3/users/d/de64/190922_20x_phase_gfp_segmentation/190922_20x_phase_gfp_segmentation/kymograph/kymograph_10.hdf5\",\n",
    "    \"r\",\n",
    ") as infile:\n",
    "    data = infile[\"GFP\"][:]"
   ]
  },
  {
   "cell_type": "code",
   "execution_count": null,
   "id": "2",
   "metadata": {},
   "outputs": [],
   "source": [
    "a = sk.transform.rescale(data[12, 0], 2.0)"
   ]
  },
  {
   "cell_type": "code",
   "execution_count": null,
   "id": "3",
   "metadata": {},
   "outputs": [],
   "source": [
    "plt.imshow(a)"
   ]
  },
  {
   "cell_type": "code",
   "execution_count": null,
   "id": "4",
   "metadata": {},
   "outputs": [],
   "source": [
    "hist_range = (0, np.percentile(a.flatten(), 90))\n",
    "freq, val = np.histogram(a.flatten(), bins=200, range=hist_range)\n",
    "mu_n = val[np.argmax(freq)]\n",
    "\n",
    "lower_tail = a[a < mu_n].flatten()\n",
    "std_n = halfnorm.fit(lower_tail)[1]"
   ]
  },
  {
   "cell_type": "code",
   "execution_count": null,
   "id": "5",
   "metadata": {},
   "outputs": [],
   "source": [
    "b = sk.filters.sobel(a)"
   ]
  },
  {
   "cell_type": "code",
   "execution_count": null,
   "id": "6",
   "metadata": {},
   "outputs": [],
   "source": [
    "plt.imshow(b)"
   ]
  },
  {
   "cell_type": "code",
   "execution_count": null,
   "id": "7",
   "metadata": {},
   "outputs": [],
   "source": [
    "from skimage.feature import peak_local_max\n",
    "from skimage.segmentation import watershed"
   ]
  },
  {
   "cell_type": "code",
   "execution_count": null,
   "id": "8",
   "metadata": {},
   "outputs": [],
   "source": [
    "local_maxi = peak_local_max(-b, indices=False, footprint=np.ones((10, 10)))\n",
    "markers = ndi.label(local_maxi)[0]"
   ]
  },
  {
   "cell_type": "code",
   "execution_count": null,
   "id": "9",
   "metadata": {},
   "outputs": [],
   "source": [
    "plt.imshow(markers)"
   ]
  },
  {
   "cell_type": "code",
   "execution_count": null,
   "id": "10",
   "metadata": {},
   "outputs": [],
   "source": [
    "labels = watershed(b, markers=markers)"
   ]
  },
  {
   "cell_type": "code",
   "execution_count": null,
   "id": "11",
   "metadata": {},
   "outputs": [],
   "source": [
    "plt.imshow(labels)"
   ]
  },
  {
   "cell_type": "code",
   "execution_count": null,
   "id": "12",
   "metadata": {},
   "outputs": [],
   "source": [
    "output = np.zeros(labels.shape, dtype=float)\n",
    "for i in np.unique(labels).tolist():\n",
    "    med_val = np.median(a[labels == i])\n",
    "    output[labels == i] = med_val"
   ]
  },
  {
   "cell_type": "code",
   "execution_count": null,
   "id": "13",
   "metadata": {},
   "outputs": [],
   "source": [
    "plt.imshow(output)"
   ]
  },
  {
   "cell_type": "code",
   "execution_count": null,
   "id": "14",
   "metadata": {},
   "outputs": [],
   "source": [
    "bound = sk.segmentation.find_boundaries(labels, mode=\"thick\")"
   ]
  },
  {
   "cell_type": "code",
   "execution_count": null,
   "id": "15",
   "metadata": {},
   "outputs": [],
   "source": [
    "plt.imshow(bound)"
   ]
  },
  {
   "cell_type": "code",
   "execution_count": null,
   "id": "16",
   "metadata": {},
   "outputs": [],
   "source": [
    "selem = sk.morphology.disk(3)\n",
    "decile = sk.filters.rank.percentile(a, selem, p0=0.1)"
   ]
  },
  {
   "cell_type": "code",
   "execution_count": null,
   "id": "17",
   "metadata": {},
   "outputs": [],
   "source": [
    "plt.imshow(decile)"
   ]
  },
  {
   "cell_type": "code",
   "execution_count": null,
   "id": "18",
   "metadata": {},
   "outputs": [],
   "source": [
    "decile[~bound] = 0\n",
    "plt.imshow(decile)"
   ]
  },
  {
   "cell_type": "code",
   "execution_count": null,
   "id": "19",
   "metadata": {},
   "outputs": [],
   "source": [
    "sk.filters.laplace(eximg, ksize=4)"
   ]
  },
  {
   "cell_type": "code",
   "execution_count": null,
   "id": "20",
   "metadata": {},
   "outputs": [],
   "source": [
    "plt.imshow(eximg > background_thr)"
   ]
  },
  {
   "cell_type": "code",
   "execution_count": null,
   "id": "21",
   "metadata": {},
   "outputs": [],
   "source": [
    "background_thr"
   ]
  },
  {
   "cell_type": "code",
   "execution_count": null,
   "id": "22",
   "metadata": {},
   "outputs": [],
   "source": [
    "mu_n = val[np.argmax(freq)]"
   ]
  },
  {
   "cell_type": "code",
   "execution_count": null,
   "id": "23",
   "metadata": {},
   "outputs": [],
   "source": [
    "lower_tail = eximg[eximg < mu_n].flatten()\n",
    "std_n = halfnorm.fit(lower_tail)[1]"
   ]
  },
  {
   "cell_type": "code",
   "execution_count": null,
   "id": "24",
   "metadata": {},
   "outputs": [],
   "source": [
    "plt.hist(eximg.flatten())"
   ]
  },
  {
   "cell_type": "code",
   "execution_count": null,
   "id": "25",
   "metadata": {},
   "outputs": [],
   "source": [
    "from scipy.stats import halfnorm"
   ]
  },
  {
   "cell_type": "code",
   "execution_count": null,
   "id": "26",
   "metadata": {},
   "outputs": [],
   "source": [
    "halfnorm.fit(lower_tail)[1]"
   ]
  },
  {
   "cell_type": "markdown",
   "id": "27",
   "metadata": {},
   "source": [
    "### Fluorescence Heterogeneity"
   ]
  },
  {
   "cell_type": "code",
   "execution_count": null,
   "id": "28",
   "metadata": {},
   "outputs": [],
   "source": [
    "# fmt: off\n",
    "import copy\n",
    "import os\n",
    "import pickle\n",
    "import shutil\n",
    "\n",
    "import dask.dataframe as dd\n",
    "import h5py\n",
    "import matplotlib\n",
    "import numpy as np\n",
    "import pandas as pd\n",
    "import scipy as sp\n",
    "import skimage as sk\n",
    "from scipy import ndimage as ndi\n",
    "\n",
    "matplotlib.rcParams[\"figure.figsize\"] = [20, 10]\n",
    "\n",
    "from time import sleep\n",
    "\n",
    "import scipy.ndimage.morphology as morph\n",
    "# import mahotas as mh\n",
    "from dask.distributed import worker_client\n",
    "from matplotlib import pyplot as plt\n",
    "from pandas import HDFStore\n",
    "from skimage import (exposure, feature, filters, future, measure, morphology,\n",
    "                     segmentation, transform, util)\n",
    "from skimage.segmentation import watershed\n",
    "\n",
    "import paulssonlab.deaton.trenchripper.trenchripper as tr\n",
    "from paulssonlab.deaton.trenchripper.trenchripper import (hdf5lock,\n",
    "                                                          kymo_handle,\n",
    "                                                          pandas_hdf5_handler,\n",
    "                                                          writedir)"
   ]
  },
  {
   "cell_type": "markdown",
   "id": "29",
   "metadata": {},
   "source": [
    "#### Example 1"
   ]
  },
  {
   "cell_type": "code",
   "execution_count": null,
   "id": "30",
   "metadata": {},
   "outputs": [],
   "source": [
    "with h5py.File(\n",
    "    \"/n/scratch3/users/d/de64/190922_20x_phase_gfp_segmentation/190922_20x_phase_gfp_segmentation/kymograph/kymograph_10.hdf5\",\n",
    "    \"r\",\n",
    ") as infile:\n",
    "    data = infile[\"GFP\"][:]"
   ]
  },
  {
   "cell_type": "code",
   "execution_count": null,
   "id": "31",
   "metadata": {},
   "outputs": [],
   "source": [
    "example_1 = data[2, :10]"
   ]
  },
  {
   "cell_type": "code",
   "execution_count": null,
   "id": "32",
   "metadata": {},
   "outputs": [],
   "source": [
    "# with h5py.File(\"/home/de64/paulssonlab/paulssonlab/src/paulssonlab/deaton/trenchripper/dev_notebooks/2020-06-19_revisiting_training_data_assembly/example_1.hdf5\",\"w\") as outfile:\n",
    "#     hdf5_dataset = outfile.create_dataset(\"data\", data=example_1, dtype=\"uint16\")"
   ]
  },
  {
   "cell_type": "code",
   "execution_count": null,
   "id": "33",
   "metadata": {},
   "outputs": [],
   "source": [
    "handle = tr.kymo_handle()\n",
    "handle.import_wrap(example_1)\n",
    "plt.imshow(handle.return_unwrap())"
   ]
  },
  {
   "cell_type": "code",
   "execution_count": null,
   "id": "34",
   "metadata": {},
   "outputs": [],
   "source": [
    "class fluo_segmentation:\n",
    "    def __init__(self,bit_max=0,scale_timepoints=False,scaling_percentile=0.9,img_scaling=1.,smooth_sigma=0.75,niblack_scaling=1.,\\\n",
    "                 hess_pad=6,global_threshold=25,triangle_threshold_scaling=1.,cell_otsu_scaling=1.,local_otsu_r=15,min_obj_size=30,distance_threshold=2):"
   ]
  },
  {
   "cell_type": "code",
   "execution_count": null,
   "id": "35",
   "metadata": {},
   "outputs": [],
   "source": [
    "current_seg = tr.fluo_segmentation(\n",
    "    bit_max=10000,\n",
    "    img_scaling=1.0,\n",
    "    smooth_sigma=1.0,\n",
    "    global_threshold=40,\n",
    "    distance_threshold=1,\n",
    "    local_otsu_r=5,\n",
    "    triangle_threshold_scaling=1.0,\n",
    ")"
   ]
  },
  {
   "cell_type": "code",
   "execution_count": null,
   "id": "36",
   "metadata": {},
   "outputs": [],
   "source": [
    "output = current_seg.segment(example_1)"
   ]
  },
  {
   "cell_type": "code",
   "execution_count": null,
   "id": "37",
   "metadata": {},
   "outputs": [],
   "source": [
    "handle = tr.kymo_handle()\n",
    "handle.import_wrap(output)\n",
    "plt.imshow(handle.return_unwrap())"
   ]
  },
  {
   "cell_type": "code",
   "execution_count": null,
   "id": "38",
   "metadata": {},
   "outputs": [],
   "source": [
    "img_arr = example_1\n",
    "\n",
    "t_tot = img_arr.shape[0]\n",
    "img_arr = current_seg.to_8bit(img_arr, current_seg.bit_max)\n",
    "if current_seg.scale_timepoints:\n",
    "    img_arr = current_seg.scale_kymo(img_arr, current_seg.scaling_percentile)\n",
    "\n",
    "input_kymo = kymo_handle()\n",
    "input_kymo.import_wrap(img_arr)\n",
    "del img_arr\n",
    "\n",
    "input_kymo = input_kymo.return_unwrap()\n",
    "original_shape = input_kymo.shape\n",
    "input_kymo = transform.rescale(\n",
    "    input_kymo, current_seg.img_scaling, anti_aliasing=False, preserve_range=True\n",
    ").astype(\"uint8\")\n",
    "input_kymo = sk.filters.gaussian(\n",
    "    input_kymo, sigma=current_seg.smooth_sigma, preserve_range=True, mode=\"reflect\"\n",
    ").astype(\"uint8\")\n",
    "\n",
    "eig_img = current_seg.get_eig_img(input_kymo, edge_padding=current_seg.hess_pad)\n",
    "eig_mask = current_seg.get_eig_mask(eig_img, hess_thr_scale=current_seg.hess_thr_scale)\n",
    "# del eig_img\n",
    "\n",
    "cell_mask = current_seg.get_cell_mask(\n",
    "    input_kymo,\n",
    "    global_threshold=current_seg.global_threshold,\n",
    "    triangle_threshold_scaling=current_seg.triangle_threshold_scaling,\n",
    "    cell_otsu_scaling=current_seg.cell_otsu_scaling,\n",
    "    local_otsu_r=current_seg.local_otsu_r,\n",
    "    min_obj_size=current_seg.min_obj_size,\n",
    ")\n",
    "del input_kymo\n",
    "\n",
    "# dist_img = ndi.distance_transform_edt(cell_mask).astype(\"uint8\")\n",
    "# dist_mask = dist_img>self.distance_threshold\n",
    "# marker_mask = dist_mask*eig_mask\n",
    "# del dist_mask\n",
    "# marker_mask = sk.measure.label(marker_mask)\n",
    "\n",
    "# output_labels = watershed(-dist_img, markers=marker_mask, mask=cell_mask)\n",
    "\n",
    "# del dist_img\n",
    "# del marker_mask\n",
    "# del cell_mask\n",
    "# output_labels = sk.transform.resize(output_labels,original_shape,order=0,anti_aliasing=False, preserve_range=True).astype(\"uint32\")\n",
    "\n",
    "# output_kymo = kymo_handle()\n",
    "# output_kymo.import_unwrap(output_labels,t_tot)\n",
    "# del output_labels\n",
    "# output_kymo = output_kymo.return_wrap()\n",
    "# for i in range(output_kymo.shape[0]):\n",
    "#     output_kymo[i] = self.reorder_ids(output_kymo[i])\n",
    "# return output_kymo"
   ]
  },
  {
   "cell_type": "code",
   "execution_count": null,
   "id": "39",
   "metadata": {},
   "outputs": [],
   "source": [
    "plt.imshow(cell_mask)"
   ]
  },
  {
   "cell_type": "code",
   "execution_count": null,
   "id": "40",
   "metadata": {},
   "outputs": [],
   "source": [
    "eig_thr = sk.filters.threshold_niblack(eig_img)\n",
    "eig_mask = eig_img > eig_thr"
   ]
  },
  {
   "cell_type": "code",
   "execution_count": null,
   "id": "41",
   "metadata": {},
   "outputs": [],
   "source": [
    "plt.imshow(eig_img)"
   ]
  },
  {
   "cell_type": "code",
   "execution_count": null,
   "id": "42",
   "metadata": {},
   "outputs": [],
   "source": [
    "eig_thr = sk.filters.threshold_niblack(eig_img) * 1.2\n",
    "eig_mask = eig_img > eig_thr"
   ]
  },
  {
   "cell_type": "code",
   "execution_count": null,
   "id": "43",
   "metadata": {},
   "outputs": [],
   "source": [
    "plt.imshow(eig_mask)"
   ]
  },
  {
   "cell_type": "code",
   "execution_count": null,
   "id": "44",
   "metadata": {},
   "outputs": [],
   "source": [
    "plt.imshow(sk.filters.sobel(eig_img))"
   ]
  },
  {
   "cell_type": "code",
   "execution_count": null,
   "id": "45",
   "metadata": {},
   "outputs": [],
   "source": [
    "plt.hist(eig_img.flatten(), bins=30)\n",
    "plt.show()"
   ]
  },
  {
   "cell_type": "code",
   "execution_count": null,
   "id": "46",
   "metadata": {},
   "outputs": [],
   "source": [
    "import scipy as sp"
   ]
  },
  {
   "cell_type": "code",
   "execution_count": null,
   "id": "47",
   "metadata": {},
   "outputs": [],
   "source": [
    "hess_thr_scale = 1.0\n",
    "hist_range = (0, np.percentile(eig_img.flatten(), 90))\n",
    "freq, val = np.histogram(eig_img.flatten(), bins=200, range=hist_range)\n",
    "mu_n = val[np.argmax(freq)]\n",
    "\n",
    "upper_tail = eig_img[eig_img > mu_n].flatten()\n",
    "std_n = sp.stats.halfnorm.fit(upper_tail)[1]\n",
    "background = mu_n - hess_thr_scale * std_n"
   ]
  },
  {
   "cell_type": "code",
   "execution_count": null,
   "id": "48",
   "metadata": {},
   "outputs": [],
   "source": [
    "plt.imshow(eig_img > background)"
   ]
  },
  {
   "cell_type": "markdown",
   "id": "49",
   "metadata": {},
   "source": [
    "#### Example 2"
   ]
  },
  {
   "cell_type": "code",
   "execution_count": null,
   "id": "50",
   "metadata": {},
   "outputs": [],
   "source": [
    "with h5py.File(\n",
    "    \"/n/scratch3/users/d/de64/190925_20x_phase_yfp_segmentation/190925_20x_phase_yfp_segmentation/kymograph/kymograph_10.hdf5\",\n",
    "    \"r\",\n",
    ") as infile:\n",
    "    data = infile[\"YFP\"][:]"
   ]
  },
  {
   "cell_type": "code",
   "execution_count": null,
   "id": "51",
   "metadata": {},
   "outputs": [],
   "source": [
    "example_2 = data[0, :10]"
   ]
  },
  {
   "cell_type": "code",
   "execution_count": null,
   "id": "52",
   "metadata": {},
   "outputs": [],
   "source": [
    "# with h5py.File(\"/home/de64/paulssonlab/paulssonlab/src/paulssonlab/deaton/trenchripper/dev_notebooks/2020-06-19_revisiting_training_data_assembly/example_2.hdf5\",\"w\") as outfile:\n",
    "#     hdf5_dataset = outfile.create_dataset(\"data\", data=example_2, dtype=\"uint16\")"
   ]
  },
  {
   "cell_type": "code",
   "execution_count": null,
   "id": "53",
   "metadata": {},
   "outputs": [],
   "source": [
    "handle = tr.kymo_handle()\n",
    "handle.import_wrap(example_2)\n",
    "plt.imshow(handle.return_unwrap())"
   ]
  },
  {
   "cell_type": "code",
   "execution_count": null,
   "id": "54",
   "metadata": {},
   "outputs": [],
   "source": [
    "current_seg = tr.fluo_segmentation(\n",
    "    bit_max=10000,\n",
    "    img_scaling=1.0,\n",
    "    smooth_sigma=1.0,\n",
    "    global_threshold=30,\n",
    "    distance_threshold=1,\n",
    "    hess_thr_scale=0.4,\n",
    "    local_otsu_r=7,\n",
    ")"
   ]
  },
  {
   "cell_type": "code",
   "execution_count": null,
   "id": "55",
   "metadata": {},
   "outputs": [],
   "source": [
    "output = current_seg.segment(example_2)"
   ]
  },
  {
   "cell_type": "code",
   "execution_count": null,
   "id": "56",
   "metadata": {},
   "outputs": [],
   "source": [
    "handle = tr.kymo_handle()\n",
    "handle.import_wrap(output)\n",
    "plt.imshow(handle.return_unwrap())"
   ]
  },
  {
   "cell_type": "code",
   "execution_count": null,
   "id": "57",
   "metadata": {},
   "outputs": [],
   "source": [
    "img_arr = example_2\n",
    "\n",
    "t_tot = img_arr.shape[0]\n",
    "img_arr = current_seg.to_8bit(img_arr, current_seg.bit_max)\n",
    "if current_seg.scale_timepoints:\n",
    "    img_arr = current_seg.scale_kymo(img_arr, current_seg.scaling_percentile)\n",
    "\n",
    "input_kymo = kymo_handle()\n",
    "input_kymo.import_wrap(img_arr)\n",
    "del img_arr\n",
    "\n",
    "input_kymo = input_kymo.return_unwrap()\n",
    "original_shape = input_kymo.shape\n",
    "input_kymo = transform.rescale(\n",
    "    input_kymo, current_seg.img_scaling, anti_aliasing=False, preserve_range=True\n",
    ").astype(\"uint8\")\n",
    "input_kymo = sk.filters.gaussian(\n",
    "    input_kymo, sigma=current_seg.smooth_sigma, preserve_range=True, mode=\"reflect\"\n",
    ").astype(\"uint8\")\n",
    "\n",
    "eig_img = current_seg.get_eig_img(input_kymo, edge_padding=current_seg.hess_pad)\n",
    "eig_mask = current_seg.get_eig_mask(eig_img, hess_thr_scale=current_seg.hess_thr_scale)\n",
    "# del eig_img\n",
    "\n",
    "cell_mask = current_seg.get_cell_mask(\n",
    "    input_kymo,\n",
    "    global_threshold=current_seg.global_threshold,\n",
    "    triangle_threshold_scaling=current_seg.triangle_threshold_scaling,\n",
    "    cell_otsu_scaling=current_seg.cell_otsu_scaling,\n",
    "    local_otsu_r=current_seg.local_otsu_r,\n",
    "    min_obj_size=current_seg.min_obj_size,\n",
    ")\n",
    "del input_kymo"
   ]
  },
  {
   "cell_type": "code",
   "execution_count": null,
   "id": "58",
   "metadata": {},
   "outputs": [],
   "source": [
    "plt.imshow(eig_img)"
   ]
  },
  {
   "cell_type": "code",
   "execution_count": null,
   "id": "59",
   "metadata": {},
   "outputs": [],
   "source": [
    "plt.imshow(eig_mask)"
   ]
  },
  {
   "cell_type": "markdown",
   "id": "60",
   "metadata": {},
   "source": [
    "#### Example 3"
   ]
  },
  {
   "cell_type": "code",
   "execution_count": null,
   "id": "61",
   "metadata": {},
   "outputs": [],
   "source": [
    "with h5py.File(\n",
    "    \"/n/scratch3/users/d/de64/Vibrio_2_1_TOP/Vibrio_2_1_TOP/kymograph/kymograph_4.hdf5\",\n",
    "    \"r\",\n",
    ") as infile:\n",
    "    print(infile.keys())\n",
    "    data = infile[\"GFP\"][:]"
   ]
  },
  {
   "cell_type": "code",
   "execution_count": null,
   "id": "62",
   "metadata": {},
   "outputs": [],
   "source": [
    "example_3 = data[5, :7]"
   ]
  },
  {
   "cell_type": "code",
   "execution_count": null,
   "id": "63",
   "metadata": {},
   "outputs": [],
   "source": [
    "# with h5py.File(\"/home/de64/paulssonlab/paulssonlab/src/paulssonlab/deaton/trenchripper/dev_notebooks/2020-06-19_revisiting_training_data_assembly/example_3.hdf5\",\"w\") as outfile:\n",
    "#     hdf5_dataset = outfile.create_dataset(\"data\", data=example_3, dtype=\"uint16\")"
   ]
  },
  {
   "cell_type": "code",
   "execution_count": null,
   "id": "64",
   "metadata": {},
   "outputs": [],
   "source": [
    "handle = tr.kymo_handle()\n",
    "handle.import_wrap(example_3)\n",
    "plt.imshow(handle.return_unwrap())\n",
    "img_arr = handle.return_unwrap()"
   ]
  },
  {
   "cell_type": "code",
   "execution_count": null,
   "id": "65",
   "metadata": {},
   "outputs": [],
   "source": [
    "def to_8bit(img_arr, bit_max=None):\n",
    "    img_max = np.max(img_arr) + 0.0001\n",
    "    if bit_max is None:\n",
    "        max_val = img_max\n",
    "    else:\n",
    "        max_val = max(img_max, bit_max)\n",
    "    min_val = np.min(img_arr)\n",
    "    #         min_val = np.min(img_arr)\n",
    "    norm_array = (img_arr - min_val) / (max_val - min_val)\n",
    "    norm_byte_array = sk.img_as_ubyte(norm_array)\n",
    "    return norm_byte_array\n",
    "\n",
    "\n",
    "def get_eig_img(img_arr, edge_padding=6):\n",
    "    inverted = sk.util.invert(img_arr)\n",
    "    del img_arr\n",
    "    inverted = np.pad(inverted, edge_padding, \"reflect\")\n",
    "    hessian = sk.feature.hessian_matrix(inverted, order=\"rc\")\n",
    "    del inverted\n",
    "    eig_img = sk.feature.hessian_matrix_eigvals(hessian)\n",
    "    del hessian\n",
    "    eig_img = np.min(eig_img, axis=0)\n",
    "    eig_img = eig_img[edge_padding:-edge_padding, edge_padding:-edge_padding]\n",
    "    max_val, min_val = np.max(eig_img), np.min(eig_img)\n",
    "    eig_img = to_8bit(eig_img)\n",
    "    return eig_img\n",
    "\n",
    "\n",
    "def get_eig_mask(eig_img, hess_thr_scale=1.0):\n",
    "    hist_range = (0, np.percentile(eig_img.flatten(), 90))\n",
    "    freq, val = np.histogram(eig_img.flatten(), bins=50, range=hist_range)\n",
    "    mu_n = val[np.argmax(freq)]\n",
    "\n",
    "    upper_tail = eig_img[eig_img > mu_n].flatten()\n",
    "    std_n = sp.stats.halfnorm.fit(upper_tail)[1]\n",
    "    background = mu_n - (hess_thr_scale * std_n)\n",
    "    eig_mask = eig_img > background\n",
    "    return eig_mask"
   ]
  },
  {
   "cell_type": "code",
   "execution_count": null,
   "id": "66",
   "metadata": {},
   "outputs": [],
   "source": [
    "eig_img = get_eig_img(img_arr)"
   ]
  },
  {
   "cell_type": "code",
   "execution_count": null,
   "id": "67",
   "metadata": {},
   "outputs": [],
   "source": [
    "eig_mask = get_eig_mask(eig_img)"
   ]
  },
  {
   "cell_type": "code",
   "execution_count": null,
   "id": "68",
   "metadata": {},
   "outputs": [],
   "source": [
    "plt.imshow(-eig_img)"
   ]
  },
  {
   "cell_type": "code",
   "execution_count": null,
   "id": "69",
   "metadata": {},
   "outputs": [],
   "source": [
    "dist_img = ndi.distance_transform_edt(cell_mask).astype(\"uint8\")\n",
    "dist_mask = dist_img > self.distance_threshold\n",
    "marker_mask = dist_mask * eig_mask\n",
    "del dist_mask\n",
    "marker_mask = sk.measure.label(marker_mask)"
   ]
  },
  {
   "cell_type": "code",
   "execution_count": null,
   "id": "70",
   "metadata": {},
   "outputs": [],
   "source": [
    "def get_background_dist(array, min_tail=30):\n",
    "    hist_range = (0, np.percentile(array.flatten(), 90))\n",
    "    freq, val = np.histogram(array.flatten(), bins=50, range=hist_range)\n",
    "    mu_n = val[np.argmax(freq)]\n",
    "    lower_tail = array[array < mu_n].flatten()\n",
    "    if len(lower_tail) > min_tail:\n",
    "        std_n = sp.stats.halfnorm.fit(lower_tail)[1]\n",
    "    else:\n",
    "        std_n = np.std(array.flatten())\n",
    "    return mu_n, std_n"
   ]
  },
  {
   "cell_type": "code",
   "execution_count": null,
   "id": "71",
   "metadata": {},
   "outputs": [],
   "source": [
    "mu_n, std_n = get_background_dist(sobel_img)\n",
    "bkd = mu_n + 20 * std_n"
   ]
  },
  {
   "cell_type": "code",
   "execution_count": null,
   "id": "72",
   "metadata": {},
   "outputs": [],
   "source": [
    "matplotlib.rcParams[\"figure.figsize\"] = [20, 10]"
   ]
  },
  {
   "cell_type": "code",
   "execution_count": null,
   "id": "73",
   "metadata": {},
   "outputs": [],
   "source": [
    "sobel_img = sk.filters.sobel(handle.return_unwrap())\n",
    "plt.imshow(sobel_img)\n",
    "plt.show()"
   ]
  },
  {
   "cell_type": "code",
   "execution_count": null,
   "id": "74",
   "metadata": {
    "jupyter": {}
   },
   "outputs": [],
   "source": [
    "plt.hist(handle.return_unwrap().flatten(), bins=30)"
   ]
  },
  {
   "cell_type": "code",
   "execution_count": null,
   "id": "75",
   "metadata": {},
   "outputs": [],
   "source": [
    "foreground_mask = handle.return_unwrap() > sk.filters.threshold_niblack(\n",
    "    handle.return_unwrap(), window_size=21, k=0.01\n",
    ")\n",
    "plt.imshow(foreground_mask)\n",
    "plt.show()\n",
    "foreground_mask = ~sk.morphology.binary_closing(~foreground_mask)\n",
    "plt.imshow(foreground_mask)\n",
    "plt.show()\n",
    "foreground_mask = sk.morphology.remove_small_objects(foreground_mask, min_size=150)\n",
    "plt.imshow(foreground_mask)\n",
    "plt.show()"
   ]
  },
  {
   "cell_type": "code",
   "execution_count": null,
   "id": "76",
   "metadata": {
    "jupyter": {}
   },
   "outputs": [],
   "source": [
    "plt.hist(img_arr[~cell_mask].flatten(), bins=30, range=(0, 4000))\n",
    "plt.show()"
   ]
  },
  {
   "cell_type": "code",
   "execution_count": null,
   "id": "77",
   "metadata": {
    "jupyter": {}
   },
   "outputs": [],
   "source": [
    "plt.hist(img_arr[cell_mask].flatten(), bins=30, range=(0, 4000))\n",
    "plt.show()"
   ]
  },
  {
   "cell_type": "code",
   "execution_count": null,
   "id": "78",
   "metadata": {},
   "outputs": [],
   "source": [
    "back_pixels = img_arr[~cell_mask].flatten()"
   ]
  },
  {
   "cell_type": "code",
   "execution_count": null,
   "id": "79",
   "metadata": {},
   "outputs": [],
   "source": [
    "hess_thr_scale = 0.5\n",
    "hist_range = (0, np.percentile(back_pixels, 90))\n",
    "freq, val = np.histogram(back_pixels, bins=100, range=hist_range)\n",
    "mu_n = val[np.argmax(freq)]\n",
    "\n",
    "lower_tail = back_pixels[back_pixels < mu_n].flatten()\n",
    "std_n = sp.stats.halfnorm.fit(lower_tail)[1]\n",
    "background = mu_n + hess_thr_scale * std_n"
   ]
  },
  {
   "cell_type": "code",
   "execution_count": null,
   "id": "80",
   "metadata": {},
   "outputs": [],
   "source": [
    "mu_n"
   ]
  },
  {
   "cell_type": "code",
   "execution_count": null,
   "id": "81",
   "metadata": {},
   "outputs": [],
   "source": [
    "plt.imshow(img_arr > background)"
   ]
  },
  {
   "cell_type": "code",
   "execution_count": null,
   "id": "82",
   "metadata": {},
   "outputs": [],
   "source": [
    "otsu_selem = sk.morphology.disk(7)\n",
    "otsu_thr = sk.filters.rank.otsu(img_arr, otsu_selem) * 1.0\n",
    "# del otsu_selem\n",
    "# thr = np.maximum(tri_thr,otsu_thr)\n",
    "\n",
    "\n",
    "# cell_mask = (img_arr>thr)\n",
    "# plt.imshow(cell_mask)\n",
    "# plt.show()\n",
    "# cell_mask = (img_arr>tri_thr)\n",
    "# plt.imshow(cell_mask)\n",
    "# plt.show()\n",
    "cell_mask = img_arr > otsu_thr\n",
    "plt.imshow(cell_mask)\n",
    "plt.show()"
   ]
  },
  {
   "cell_type": "code",
   "execution_count": null,
   "id": "83",
   "metadata": {},
   "outputs": [],
   "source": [
    "plt.imshow(cell_mask)"
   ]
  },
  {
   "cell_type": "code",
   "execution_count": null,
   "id": "84",
   "metadata": {},
   "outputs": [],
   "source": [
    "plt.imshow(\n",
    "    handle.return_unwrap() > sk.filters.threshold_niblack(handle.return_unwrap())\n",
    ")"
   ]
  },
  {
   "cell_type": "code",
   "execution_count": null,
   "id": "85",
   "metadata": {},
   "outputs": [],
   "source": [
    "plt.hist(example_3.flatten())"
   ]
  },
  {
   "cell_type": "code",
   "execution_count": null,
   "id": "86",
   "metadata": {},
   "outputs": [],
   "source": [
    "current_seg = tr.fluo_segmentation(\n",
    "    bit_max=5000,\n",
    "    img_scaling=1.0,\n",
    "    smooth_sigma=1.0,\n",
    "    global_threshold=35,\n",
    "    distance_threshold=1,\n",
    "    hess_thr_scale=1.0,\n",
    "    local_otsu_r=5,\n",
    "    triangle_threshold_scaling=1.1,\n",
    "    min_obj_size=150,\n",
    ")"
   ]
  },
  {
   "cell_type": "code",
   "execution_count": null,
   "id": "87",
   "metadata": {},
   "outputs": [],
   "source": [
    "output = current_seg.segment(example_3)"
   ]
  },
  {
   "cell_type": "code",
   "execution_count": null,
   "id": "88",
   "metadata": {},
   "outputs": [],
   "source": [
    "handle = tr.kymo_handle()\n",
    "handle.import_wrap(output)\n",
    "plt.imshow(handle.return_unwrap()[:, :])"
   ]
  },
  {
   "cell_type": "code",
   "execution_count": null,
   "id": "89",
   "metadata": {},
   "outputs": [],
   "source": [
    "img_arr = example_3\n",
    "\n",
    "t_tot = img_arr.shape[0]\n",
    "img_arr = current_seg.to_8bit(img_arr, current_seg.bit_max)\n",
    "if current_seg.scale_timepoints:\n",
    "    img_arr = current_seg.scale_kymo(img_arr, current_seg.scaling_percentile)\n",
    "\n",
    "input_kymo = kymo_handle()\n",
    "input_kymo.import_wrap(img_arr)\n",
    "\n",
    "input_kymo = input_kymo.return_unwrap()\n",
    "original_shape = input_kymo.shape\n",
    "input_kymo = transform.rescale(\n",
    "    input_kymo, current_seg.img_scaling, anti_aliasing=False, preserve_range=True\n",
    ").astype(\"uint8\")\n",
    "input_kymo = sk.filters.gaussian(\n",
    "    input_kymo, sigma=current_seg.smooth_sigma, preserve_range=True, mode=\"reflect\"\n",
    ").astype(\"uint8\")\n",
    "\n",
    "eig_img = current_seg.get_eig_img(input_kymo, edge_padding=current_seg.hess_pad)\n",
    "eig_mask = current_seg.get_eig_mask(eig_img, hess_thr_scale=current_seg.hess_thr_scale)\n",
    "# del eig_img\n",
    "\n",
    "# cell_mask = current_seg.get_cell_mask(input_kymo,global_threshold=current_seg.global_threshold,\\\n",
    "#             triangle_threshold_scaling = current_seg.triangle_threshold_scaling,\\\n",
    "#             cell_otsu_scaling=current_seg.cell_otsu_scaling,local_otsu_r=current_seg.local_otsu_r,\\\n",
    "#             min_obj_size=current_seg.min_obj_size)"
   ]
  },
  {
   "cell_type": "code",
   "execution_count": null,
   "id": "90",
   "metadata": {},
   "outputs": [],
   "source": [
    "def get_background_dist(array):\n",
    "    hist_range = (0, np.percentile(array.flatten(), 90))\n",
    "    freq, val = np.histogram(array.flatten(), bins=100, range=hist_range)\n",
    "    mu_n = val[np.argmax(freq)]\n",
    "\n",
    "    lower_tail = array[array < mu_n].flatten()\n",
    "    std_n = sp.stats.halfnorm.fit(lower_tail)[1]\n",
    "    return mu_n, std_n"
   ]
  },
  {
   "cell_type": "code",
   "execution_count": null,
   "id": "91",
   "metadata": {},
   "outputs": [],
   "source": [
    "from skimage.segmentation import clear_border"
   ]
  },
  {
   "cell_type": "code",
   "execution_count": null,
   "id": "92",
   "metadata": {},
   "outputs": [],
   "source": [
    "def get_background_dist(self,array):\n",
    "    hist_range = (0,np.percentile(array.flatten(),90))\n",
    "    freq,val = np.histogram(array.flatten(),bins=100,range=hist_range)\n",
    "    mu_n = val[np.argmax(freq)]\n",
    "\n",
    "    lower_tail = array[array<mu_n].flatten()\n",
    "    std_n = sp.stats.halfnorm.fit(lower_tail)[1]\n",
    "    return mu_n,std_n\n",
    "\n",
    "def get_cell_mask(self,input_kymo,niblack_window_size = 15,min_obj_size = 30, background_scaling = 1., global_threshold = 0)\n",
    "\n",
    "    wrapped_kymo = kymo_handle()\n",
    "    wrapped_kymo.import_unwrap(input_kymo,t_tot)\n",
    "    wrapped_kymo = wrapped_kymo.return_wrap()\n",
    "\n",
    "    wrapped_cell_mask = []\n",
    "\n",
    "    for t in range(wrapped_kymo.shape[0]):\n",
    "        img_arr = wrapped_kymo[t]\n",
    "        cell_mask = img_arr>sk.filters.threshold_niblack(img_arr, window_size=niblack_window_size)\n",
    "        cell_mask = sk.morphology.remove_small_objects(cell_mask,min_size=min_obj_size)\n",
    "\n",
    "        labeled_mask = sk.morphology.label(cell_mask)\n",
    "        del cell_mask\n",
    "\n",
    "        background = img_arr[labeled_mask==0]\n",
    "        mu_n,std_n = self.get_background_dist(background)\n",
    "        del background\n",
    "\n",
    "        try:\n",
    "\n",
    "            rps = sk.measure.regionprops(labeled_mask,intensity_image=img_arr)\n",
    "            obj_intensities = np.array([rp.mean_intensity for rp in rps])\n",
    "            del rps\n",
    "\n",
    "            back_thr = mu_n + background_scaling*std_n\n",
    "            init_cell_mask = obj_intensities>back_thr\n",
    "\n",
    "            cell_list = np.where(init_cell_mask)[0]+1\n",
    "            del init_cell_mask\n",
    "            cell_mask = np.isin(labeled_mask,cell_list)\n",
    "            del cell_list\n",
    "\n",
    "            cell_mask = cell_mask*(img_arr>global_threshold)\n",
    "            del img_arr\n",
    "\n",
    "            cell_mask = sk.morphology.remove_small_holes(cell_mask)\n",
    "\n",
    "        except:\n",
    "            cell_mask = np.zeros(labeled_mask.shape,dtype=bool)\n",
    "        del labeled_mask\n",
    "        wrapped_cell_mask.append(cell_mask)\n",
    "        del cell_mask\n",
    "\n",
    "\n",
    "    del wrapped_kymo\n",
    "    wrapped_cell_mask = np.array(wrapped_cell_mask)\n",
    "\n",
    "    cell_mask = kymo_handle()\n",
    "    cell_mask.import_wrap(wrapped_cell_mask)\n",
    "    del wrapped_cell_mask\n",
    "    cell_mask = cell_mask.return_unwrap()\n",
    "    \n",
    "    return cell_mask"
   ]
  },
  {
   "cell_type": "code",
   "execution_count": null,
   "id": "93",
   "metadata": {},
   "outputs": [],
   "source": [
    "\n",
    "border_buffer = 1\n",
    "        cell_mask = sk.segmentation.clear_border(cell_mask, buffer_size=border_buffer)\n"
   ]
  },
  {
   "cell_type": "code",
   "execution_count": null,
   "id": "94",
   "metadata": {},
   "outputs": [],
   "source": [
    "current = tr.fluo_segmentation(\n",
    "    bit_max=10000,\n",
    "    scale_timepoints=False,\n",
    "    scaling_percentile=0.9,\n",
    "    img_scaling=1.0,\n",
    "    smooth_sigma=2.0,\n",
    "    hess_thr_scale=1.0,\n",
    "    hess_pad=6,\n",
    "    global_threshold=0,\n",
    "    niblack_window_size=15,\n",
    "    background_scaling=1.0,\n",
    "    min_obj_size=150,\n",
    "    distance_threshold=2,\n",
    ")"
   ]
  },
  {
   "cell_type": "code",
   "execution_count": null,
   "id": "95",
   "metadata": {},
   "outputs": [],
   "source": [
    "output = current.segment(example_3)"
   ]
  },
  {
   "cell_type": "code",
   "execution_count": null,
   "id": "96",
   "metadata": {},
   "outputs": [],
   "source": [
    "handle = tr.kymo_handle()\n",
    "handle.import_wrap(output)\n",
    "plt.imshow(handle.return_unwrap())"
   ]
  },
  {
   "cell_type": "code",
   "execution_count": null,
   "id": "97",
   "metadata": {},
   "outputs": [],
   "source": [
    "plt.imshow(input_kymo)"
   ]
  },
  {
   "cell_type": "code",
   "execution_count": null,
   "id": "98",
   "metadata": {},
   "outputs": [],
   "source": [
    "plt.imshow(cell_mask)"
   ]
  },
  {
   "cell_type": "code",
   "execution_count": null,
   "id": "99",
   "metadata": {},
   "outputs": [],
   "source": [
    "otsu_selem = sk.morphology.disk(5)\n",
    "otsu_thr = sk.filters.rank.otsu(input_kymo, otsu_selem) * current_seg.cell_otsu_scaling\n",
    "cell_mask = input_kymo > otsu_thr\n",
    "labeled_mask = sk.morphology.label(cell_mask)\n",
    "\n",
    "rps = sk.measure.regionprops(labeled_mask, intensity_image=input_kymo)\n",
    "obj_intensities = np.array([rp.mean_intensity for rp in rps])\n",
    "tri_thr = sk.filters.threshold_triangle(obj_intensities) * 1.0\n",
    "cell_list = np.where(obj_intensities > tri_thr)[0] + 1\n",
    "obj_mask = np.isin(labeled_mask, cell_list)\n",
    "obj_mask = sk.morphology.remove_small_objects(obj_mask, min_size=100)"
   ]
  },
  {
   "cell_type": "code",
   "execution_count": null,
   "id": "100",
   "metadata": {},
   "outputs": [],
   "source": [
    "sk.filters.threshold_triangle(input_kymo[cell_mask]) * 1.0"
   ]
  },
  {
   "cell_type": "code",
   "execution_count": null,
   "id": "101",
   "metadata": {},
   "outputs": [],
   "source": [
    "plt.hist(input_kymo[cell_mask], bins=30)"
   ]
  },
  {
   "cell_type": "code",
   "execution_count": null,
   "id": "102",
   "metadata": {},
   "outputs": [],
   "source": [
    "plt.hist(obj_intensities, bins=30)"
   ]
  },
  {
   "cell_type": "code",
   "execution_count": null,
   "id": "103",
   "metadata": {},
   "outputs": [],
   "source": [
    "plt.imshow(obj_mask)"
   ]
  },
  {
   "cell_type": "code",
   "execution_count": null,
   "id": "104",
   "metadata": {},
   "outputs": [],
   "source": [
    "plt.imshow(cell_mask * (input_kymo > 50))"
   ]
  },
  {
   "cell_type": "code",
   "execution_count": null,
   "id": "105",
   "metadata": {},
   "outputs": [],
   "source": [
    "plt.hist(obj_intensities, bins=30)"
   ]
  },
  {
   "cell_type": "code",
   "execution_count": null,
   "id": "106",
   "metadata": {},
   "outputs": [],
   "source": [
    "plt.hist(input_kymo.flatten(), bins=30, range=(0, 200))"
   ]
  },
  {
   "cell_type": "code",
   "execution_count": null,
   "id": "107",
   "metadata": {},
   "outputs": [],
   "source": [
    "sobel_thr_scale = 1.0\n",
    "hist_range = (0, np.percentile(input_kymo.flatten(), 90))\n",
    "freq, val = np.histogram(input_kymo.flatten(), bins=100, range=hist_range)\n",
    "mu_n = val[np.argmax(freq)]\n",
    "\n",
    "lower_tail = input_kymo[input_kymo < mu_n].flatten()\n",
    "std_n = sp.stats.halfnorm.fit(lower_tail)[1]\n",
    "background = mu_n + sobel_thr_scale * std_n"
   ]
  },
  {
   "cell_type": "code",
   "execution_count": null,
   "id": "108",
   "metadata": {},
   "outputs": [],
   "source": [
    "background"
   ]
  },
  {
   "cell_type": "code",
   "execution_count": null,
   "id": "109",
   "metadata": {},
   "outputs": [],
   "source": [
    "mu_n"
   ]
  },
  {
   "cell_type": "code",
   "execution_count": null,
   "id": "110",
   "metadata": {},
   "outputs": [],
   "source": [
    "sobel_img = sk.filters.sobel(input_kymo)"
   ]
  },
  {
   "cell_type": "code",
   "execution_count": null,
   "id": "111",
   "metadata": {},
   "outputs": [],
   "source": [
    "plt.imshow(sobel_img)"
   ]
  },
  {
   "cell_type": "code",
   "execution_count": null,
   "id": "112",
   "metadata": {},
   "outputs": [],
   "source": [
    "plt.hist(sobel_img.flatten(), bins=30)"
   ]
  },
  {
   "cell_type": "code",
   "execution_count": null,
   "id": "113",
   "metadata": {},
   "outputs": [],
   "source": [
    "sobel_thr_scale = 5.0\n",
    "hist_range = (0, np.percentile(sobel_img.flatten(), 90))\n",
    "freq, val = np.histogram(sobel_img.flatten(), bins=100, range=hist_range)\n",
    "mu_n = val[np.argmax(freq)]\n",
    "\n",
    "lower_tail = sobel_img[sobel_img < mu_n].flatten()\n",
    "std_n = sp.stats.halfnorm.fit(lower_tail)[1]\n",
    "background = mu_n + sobel_thr_scale * std_n\n",
    "\n",
    "sobel_mask = sk.filters.apply_hysteresis_threshold(\n",
    "    sobel_img, mu_n + 5.0 * std_n, mu_n + 10.0 * std_n\n",
    ")\n",
    "\n",
    "# sobel_mask = sobel_img>background\n",
    "sobel_mask = sk.morphology.remove_small_holes(sobel_mask, area_threshold=200)"
   ]
  },
  {
   "cell_type": "code",
   "execution_count": null,
   "id": "114",
   "metadata": {},
   "outputs": [],
   "source": [
    "plt.imshow(sobel_img > np.percentile(sobel_img.flatten(), 60))"
   ]
  },
  {
   "cell_type": "code",
   "execution_count": null,
   "id": "115",
   "metadata": {},
   "outputs": [],
   "source": [
    "plt.imshow(cell_mask * sobel_mask)"
   ]
  },
  {
   "cell_type": "code",
   "execution_count": null,
   "id": "116",
   "metadata": {},
   "outputs": [],
   "source": [
    "background"
   ]
  },
  {
   "cell_type": "code",
   "execution_count": null,
   "id": "117",
   "metadata": {},
   "outputs": [],
   "source": [
    "img_arr.shape"
   ]
  },
  {
   "cell_type": "code",
   "execution_count": null,
   "id": "118",
   "metadata": {},
   "outputs": [],
   "source": [
    "otsu_selem = sk.morphology.disk(current_seg.local_otsu_r)\n",
    "tri_thr = (\n",
    "    sk.filters.threshold_triangle(input_kymo) * current_seg.triangle_threshold_scaling\n",
    ")\n",
    "otsu_thr = sk.filters.rank.otsu(input_kymo, otsu_selem) * current_seg.cell_otsu_scaling\n",
    "thr = np.maximum(tri_thr, otsu_thr)\n",
    "cell_mask = (input_kymo > thr) * (input_kymo > current_seg.global_threshold)\n",
    "cell_mask = sk.morphology.remove_small_objects(\n",
    "    cell_mask, min_size=current_seg.min_obj_size\n",
    ")\n",
    "cell_mask = sk.morphology.remove_small_holes(cell_mask)"
   ]
  },
  {
   "cell_type": "code",
   "execution_count": null,
   "id": "119",
   "metadata": {},
   "outputs": [],
   "source": [
    "plt.imshow(cell_mask)"
   ]
  }
 ],
 "metadata": {
  "kernelspec": {
   "display_name": "Python 3",
   "language": "python",
   "name": "python3"
  },
  "language_info": {
   "codemirror_mode": {
    "name": "ipython",
    "version": 3
   },
   "file_extension": ".py",
   "mimetype": "text/x-python",
   "name": "python",
   "nbconvert_exporter": "python",
   "pygments_lexer": "ipython3",
   "version": "3.8.3"
  }
 },
 "nbformat": 4,
 "nbformat_minor": 4
}
