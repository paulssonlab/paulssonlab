{
 "cells": [
  {
   "cell_type": "markdown",
   "id": "0",
   "metadata": {},
   "source": [
    "# TrenchRipper Master Notebook"
   ]
  },
  {
   "cell_type": "markdown",
   "id": "1",
   "metadata": {},
   "source": [
    "## Introduction\n",
    "\n",
    "This notebook contains the entire `TrenchRipper` pipline, divided into simple steps. This pipline is ideal for Mother <br>Machine image data where cells possess fluorescent segmentation markers. Segmentation on phase or brightfield data <br>is being developed, but is still an experimental feature.\n",
    "\n",
    "The steps in this pipeline are as follows:\n",
    "1. Extracting your Mother Machine data (.nd2) into hdf5 format\n",
    "2. Identifying and cropping individual trenches into kymographs\n",
    "3. Segmenting cells with a fluorescent marker\n",
    "4. Determining lineages and object properties\n",
    "\n",
    "In each step, the user will dynamically specify parameters using a series of interactive diagnostics on their dataset. <br>Following this, a parameter file will be written to disk and then used to deploy a parallel computation on the <br>dataset, either locally or on a SLURM cluster.\n",
    "\n",
    "\n",
    "This is intended as an end-to-end solution to analyzing Mother Machine data. As such, **it is not trivial to plug data <br>directly into intermediate steps**, as it will lack the correct formatting and associated metadata. A notable <br>exception to this is using another program to segment data. The library references binary segmentation masks using <br>only metadata derived from their associated kymographs. As such, it is possible to generate segmentations on these <br>kymographs elsewhere and place them into the segmentation data path to have `TrenchRipper` act on those <br>segmentations instead. More on this in the segmentation section..."
   ]
  },
  {
   "cell_type": "markdown",
   "id": "2",
   "metadata": {},
   "source": [
    "#### Imports\n",
    "\n",
    "Run this section to import all relavent packages and libraries used in this notebook. You must run this everytime you open a new python kernel."
   ]
  },
  {
   "cell_type": "code",
   "execution_count": null,
   "id": "3",
   "metadata": {},
   "outputs": [],
   "source": [
    "import warnings\n",
    "\n",
    "import paulssonlab.deaton.trenchripper.trenchripper as tr\n",
    "\n",
    "warnings.filterwarnings(action=\"once\")\n",
    "\n",
    "import matplotlib\n",
    "\n",
    "matplotlib.rcParams[\"figure.figsize\"] = [20, 10]"
   ]
  },
  {
   "cell_type": "markdown",
   "id": "4",
   "metadata": {},
   "source": [
    "#### Specify Paths\n",
    "\n",
    "Begin by defining the directory in which all processing will be done, as well as the initial nd2 file we will be <br>processing. This line should be run everytime you open a new python kernel.\n",
    "\n",
    "The format should be: `headpath = \"/path/to/folder\"` and `nd2file = \"/path/to/file.nd2\"`\n",
    "\n",
    "For example:\n",
    "```\n",
    "headpath = \"/n/scratch2/de64/2019-05-31_validation_data\"\n",
    "nd2file = \"/n/scratch2/de64/2019-05-31_validation_data/Main_Experiment.nd2\"\n",
    "```\n",
    "\n",
    "Ideally, these files should be placed in a storage location with relatively fast I/O"
   ]
  },
  {
   "cell_type": "code",
   "execution_count": null,
   "id": "5",
   "metadata": {},
   "outputs": [],
   "source": [
    "headpath = \"/n/scratch3/users/d/de64/2020-08-15_lDE8_lDE9/2020-08-15_lDE8_lDE9\"\n",
    "hdf5inputpath = \"/n/scratch3/users/d/de64/2020-08-15_lDE8_lDE9/run\"\n",
    "\n",
    "# headpath = \"/n/scratch3/users/d/de64/2020-07-20_DE89_LDE120/2020-07-20_DE89_LDE120\"\n",
    "# hdf5inputpath = \"/n/scratch3/users/d/de64/2020-07-20_DE89_LDE120/run\""
   ]
  },
  {
   "cell_type": "code",
   "execution_count": null,
   "id": "6",
   "metadata": {},
   "outputs": [],
   "source": [
    "import copy\n",
    "import os\n",
    "import pickle as pkl\n",
    "import shutil\n",
    "\n",
    "import h5py\n",
    "import h5py_cache\n",
    "import ipywidgets as ipyw\n",
    "import numpy as np\n",
    "import pandas as pd\n",
    "import tifffile\n",
    "from nd2reader import ND2Reader\n",
    "from parse import compile\n",
    "from tifffile import imread, imsave\n",
    "\n",
    "from paulssonlab.deaton.trenchripper.trenchripper.utils import (\n",
    "    pandas_hdf5_handler,\n",
    "    writedir,\n",
    ")\n",
    "\n",
    "\n",
    "class marlin_extractor:\n",
    "    def __init__(\n",
    "        self,\n",
    "        hdf5inputpath,\n",
    "        headpath,\n",
    "        tpts_per_file=100,\n",
    "        parsestr=\"fov={fov:d}_config={channel}_t={timepoints:d}\",\n",
    "        metaparsestr=\"metadata_{timepoint:d}.hdf5\",\n",
    "        zero_base_keys=[\"timepoints\"],\n",
    "    ):  # note this chunk size has a large role in downstream steps...make sure is less than 1 MB\n",
    "        \"\"\"Utility to import hdf5 format files from MARLIN Runs.\n",
    "\n",
    "        Attributes:\n",
    "            headpath (str): base directory for data analysis\n",
    "            tiffpath (str): directory where tiff files are located\n",
    "            metapath (str): metadata path\n",
    "            hdf5path (str): where to store hdf5 data\n",
    "            tpts_per_file (int): number of timepoints to put in each hdf5 file\n",
    "            parsestr (str): format of filenames from which to extract metadata (using parse library)\n",
    "        \"\"\"\n",
    "        self.hdf5inputpath = hdf5inputpath\n",
    "        self.headpath = headpath\n",
    "        self.metapath = self.headpath + \"/metadata.hdf5\"\n",
    "        self.hdf5path = self.headpath + \"/hdf5\"\n",
    "        self.tpts_per_file = tpts_per_file\n",
    "        self.parsestr = parsestr\n",
    "        self.metaparsestr = metaparsestr\n",
    "        self.zero_base_keys = zero_base_keys\n",
    "\n",
    "        self.organism = \"\"\n",
    "        self.microscope = \"\"\n",
    "        self.notes = \"\"\n",
    "\n",
    "    def get_metadata(\n",
    "        self,\n",
    "        hdf5inputpath,\n",
    "        parsestr=\"fov={fov:d}_config={channel}_t={timepoints:d}\",\n",
    "        metaparsestr=\"metadata_{timepoint:d}.hdf5\",\n",
    "        zero_base_keys=[\"timepoints\"],\n",
    "    ):\n",
    "        parser = compile(parsestr)\n",
    "        parse_keys = [\n",
    "            item.split(\"}\")[0].split(\":\")[0] for item in parsestr.split(\"{\")[1:]\n",
    "        ] + [\"image_paths\"]\n",
    "\n",
    "        exp_metadata = {}\n",
    "        fov_metadata = {key: [] for key in parse_keys}\n",
    "\n",
    "        hdf5_files = []\n",
    "        metadata_files = []\n",
    "        for root, _, files in os.walk(hdf5inputpath):\n",
    "            hdf5_files.extend(\n",
    "                [\n",
    "                    os.path.join(root, f)\n",
    "                    for f in files\n",
    "                    if \"config\" in os.path.splitext(f)[0]\n",
    "                ]\n",
    "            )\n",
    "            metadata_files.extend(\n",
    "                [\n",
    "                    os.path.join(root, f)\n",
    "                    for f in files\n",
    "                    if \"metadata\" in os.path.splitext(f)[0]\n",
    "                ]\n",
    "            )\n",
    "\n",
    "        with h5py.File(hdf5_files[0], \"r\") as infile:\n",
    "            hdf5_shape = infile[\"data\"].shape\n",
    "        exp_metadata[\"height\"] = hdf5_shape[0]\n",
    "        exp_metadata[\"width\"] = hdf5_shape[1]\n",
    "        #     exp_metadata['pixel_microns'] = tags['65326']\n",
    "\n",
    "        for f in hdf5_files:\n",
    "            match = parser.search(f)\n",
    "            # ignore any files that don't match the regex\n",
    "            if match is not None:\n",
    "                # Add to dictionary\n",
    "                fov_frame_dict = match.named\n",
    "                for key, value in fov_frame_dict.items():\n",
    "                    fov_metadata[key].append(value)\n",
    "                fov_metadata[\"image_paths\"].append(f)\n",
    "\n",
    "        for zero_base_key in zero_base_keys:\n",
    "            if 0 not in fov_metadata[zero_base_key]:\n",
    "                fov_metadata[zero_base_key] = [\n",
    "                    item - 1 for item in fov_metadata[zero_base_key]\n",
    "                ]\n",
    "\n",
    "        channels = list(set(fov_metadata[\"channel\"]))\n",
    "        exp_metadata[\"channels\"] = channels\n",
    "        exp_metadata[\"num_fovs\"] = len(set(fov_metadata[\"fov\"]))\n",
    "        exp_metadata[\"frames\"] = list(set(fov_metadata[\"timepoints\"]))\n",
    "        exp_metadata[\"num_frames\"] = len(exp_metadata[\"frames\"])\n",
    "        exp_metadata[\"pixel_microns\"] = 0.16136255757596  ##hack assuming ti5 40x\n",
    "        fov_metadata = pd.DataFrame(fov_metadata)\n",
    "        fov_metadata = fov_metadata.set_index([\"fov\", \"timepoints\"]).sort_index()\n",
    "\n",
    "        output_fov_metadata = []\n",
    "        step = len(channels)\n",
    "        for i in range(0, len(fov_metadata), step):\n",
    "            rows = fov_metadata[i : i + step]\n",
    "            channel_path_entry = dict(zip(rows[\"channel\"], rows[\"image_paths\"]))\n",
    "            fov_entry = rows.index.get_level_values(\"fov\").unique()[0]\n",
    "            timepoint_entry = rows.index.get_level_values(\"timepoints\").unique()[0]\n",
    "            fov_metadata_entry = {\n",
    "                \"fov\": fov_entry,\n",
    "                \"timepoints\": timepoint_entry,\n",
    "                \"channel_paths\": channel_path_entry,\n",
    "            }\n",
    "            output_fov_metadata.append(fov_metadata_entry)\n",
    "        fov_metadata = pd.DataFrame(output_fov_metadata).set_index(\n",
    "            [\"fov\", \"timepoints\"]\n",
    "        )\n",
    "\n",
    "        metaparser = compile(metaparsestr)\n",
    "        meta_df_out = []\n",
    "        for metadata_file in metadata_files:\n",
    "            match = metaparser.search(metadata_file)\n",
    "            if match is not None:\n",
    "                timepoint = match.named[\"timepoint\"]\n",
    "                meta_df = pd.read_hdf(metadata_file)\n",
    "                meta_df[\"timepoints\"] = timepoint\n",
    "            meta_df_out.append(meta_df)\n",
    "        meta_df_out = pd.concat(meta_df_out)\n",
    "        if 0 not in meta_df_out[\"timepoints\"].unique().tolist():\n",
    "            meta_df_out[\"timepoints\"] = meta_df_out[\"timepoints\"] - 1\n",
    "        meta_df_out = meta_df_out.groupby([\"fov\", \"timepoints\"], as_index=False)\n",
    "        meta_df_out = meta_df_out.apply(lambda x: x[0:1])\n",
    "        meta_df_out = meta_df_out.set_index([\"fov\", \"timepoints\"], drop=True)\n",
    "        fov_metadata = fov_metadata.join(meta_df_out)\n",
    "\n",
    "        return exp_metadata, fov_metadata\n",
    "\n",
    "    def assignidx(self, fov_metadata):\n",
    "        numfovs = len(fov_metadata.index.get_level_values(\"fov\").unique().tolist())\n",
    "        timepoints_per_fov = len(\n",
    "            fov_metadata.index.get_level_values(\"timepoints\").unique().tolist()\n",
    "        )\n",
    "\n",
    "        files_per_fov = (timepoints_per_fov // self.tpts_per_file) + 1\n",
    "        remainder = timepoints_per_fov % self.tpts_per_file\n",
    "        ttlfiles = numfovs * files_per_fov\n",
    "        fov_file_idx = np.repeat(list(range(files_per_fov)), self.tpts_per_file)[\n",
    "            : -(self.tpts_per_file - remainder)\n",
    "        ]\n",
    "        file_idx = np.concatenate(\n",
    "            [fov_file_idx + (fov_idx * files_per_fov) for fov_idx in range(numfovs)]\n",
    "        )\n",
    "        fov_img_idx = np.repeat(\n",
    "            np.array(list(range(self.tpts_per_file)))[np.newaxis, :],\n",
    "            files_per_fov,\n",
    "            axis=0,\n",
    "        )\n",
    "        fov_img_idx = fov_img_idx.flatten()[: -(self.tpts_per_file - remainder)]\n",
    "        img_idx = np.concatenate([fov_img_idx for fov_idx in range(numfovs)])\n",
    "\n",
    "        fov_idx = np.repeat(list(range(numfovs)), timepoints_per_fov)\n",
    "        timepoint_idx = np.repeat(\n",
    "            np.array(list(range(timepoints_per_fov)))[np.newaxis, :], numfovs, axis=0\n",
    "        ).flatten()\n",
    "\n",
    "        outdf = copy.deepcopy(fov_metadata)\n",
    "        outdf[\"File Index\"] = file_idx\n",
    "        outdf[\"Image Index\"] = img_idx\n",
    "        return outdf\n",
    "\n",
    "    def writemetadata(self, t_range=None, fov_list=None):\n",
    "        exp_metadata, fov_metadata = self.get_metadata(\n",
    "            self.hdf5inputpath,\n",
    "            parsestr=self.parsestr,\n",
    "            zero_base_keys=self.zero_base_keys,\n",
    "        )\n",
    "\n",
    "        if t_range is not None:\n",
    "            exp_metadata[\"frames\"] = exp_metadata[\"frames\"][t_range[0] : t_range[1] + 1]\n",
    "            exp_metadata[\"num_frames\"] = len(exp_metadata[\"frames\"])\n",
    "            fov_metadata = fov_metadata.loc[\n",
    "                pd.IndexSlice[:, slice(t_range[0], t_range[1])], :\n",
    "            ]  # 4 -> 70\n",
    "\n",
    "        if fov_list is not None:\n",
    "            fov_metadata = fov_metadata.loc[list(fov_list)]\n",
    "            exp_metadata[\"fields_of_view\"] = list(fov_list)\n",
    "\n",
    "        self.chunk_shape = (1, exp_metadata[\"height\"], exp_metadata[\"width\"])\n",
    "        chunk_bytes = 2 * np.multiply.accumulate(np.array(self.chunk_shape))[-1]\n",
    "        self.chunk_cache_mem_size = 2 * chunk_bytes\n",
    "        exp_metadata[\"chunk_shape\"], exp_metadata[\"chunk_cache_mem_size\"] = (\n",
    "            self.chunk_shape,\n",
    "            self.chunk_cache_mem_size,\n",
    "        )\n",
    "        exp_metadata[\"Organism\"], exp_metadata[\"Microscope\"], exp_metadata[\"Notes\"] = (\n",
    "            self.organism,\n",
    "            self.microscope,\n",
    "            self.notes,\n",
    "        )\n",
    "        self.meta_handle = pandas_hdf5_handler(self.metapath)\n",
    "\n",
    "        assignment_metadata = self.assignidx(fov_metadata)\n",
    "        assignment_metadata.astype({\"File Index\": int, \"Image Index\": int})\n",
    "\n",
    "        self.meta_handle.write_df(\"global\", assignment_metadata, metadata=exp_metadata)\n",
    "\n",
    "    def read_metadata(self):\n",
    "        writedir(self.hdf5path, overwrite=True)\n",
    "        self.writemetadata()\n",
    "        metadf = self.meta_handle.read_df(\"global\", read_metadata=True)\n",
    "        self.metadata = metadf.metadata\n",
    "        metadf = metadf.reset_index(inplace=False)\n",
    "        metadf = metadf.set_index(\n",
    "            [\"File Index\", \"Image Index\"], drop=True, append=False, inplace=False\n",
    "        )\n",
    "        self.metadf = metadf.sort_index()\n",
    "\n",
    "    def set_params(self, fov_list, t_range, organism, microscope, notes):\n",
    "        self.fov_list = fov_list\n",
    "        self.t_range = t_range\n",
    "        self.organism = organism\n",
    "        self.microscope = microscope\n",
    "        self.notes = notes\n",
    "\n",
    "    def inter_set_params(self):\n",
    "        self.read_metadata()\n",
    "        t0, tf = (self.metadata[\"frames\"][0], self.metadata[\"frames\"][-1])\n",
    "        available_fov_list = self.metadf[\"fov\"].unique().tolist()\n",
    "        selection = ipyw.interactive(\n",
    "            self.set_params,\n",
    "            {\"manual\": True},\n",
    "            fov_list=ipyw.SelectMultiple(options=available_fov_list),\n",
    "            t_range=ipyw.IntRangeSlider(\n",
    "                value=[t0, tf],\n",
    "                min=t0,\n",
    "                max=tf,\n",
    "                step=1,\n",
    "                description=\"Time Range:\",\n",
    "                disabled=False,\n",
    "            ),\n",
    "            organism=ipyw.Textarea(\n",
    "                value=\"\",\n",
    "                placeholder=\"Organism imaged in this experiment.\",\n",
    "                description=\"Organism:\",\n",
    "                disabled=False,\n",
    "            ),\n",
    "            microscope=ipyw.Textarea(\n",
    "                value=\"\",\n",
    "                placeholder=\"Microscope used in this experiment.\",\n",
    "                description=\"Microscope:\",\n",
    "                disabled=False,\n",
    "            ),\n",
    "            notes=ipyw.Textarea(\n",
    "                value=\"\",\n",
    "                placeholder=\"General experiment notes.\",\n",
    "                description=\"Notes:\",\n",
    "                disabled=False,\n",
    "            ),\n",
    "        )\n",
    "        display(selection)\n",
    "\n",
    "    def extract(self, dask_controller, retries=1):\n",
    "        dask_controller.futures = {}\n",
    "\n",
    "        self.writemetadata(t_range=self.t_range, fov_list=self.fov_list)\n",
    "        metadf = self.meta_handle.read_df(\"global\", read_metadata=True)\n",
    "        self.metadata = metadf.metadata\n",
    "        metadf = metadf.reset_index(inplace=False)\n",
    "        metadf = metadf.set_index(\n",
    "            [\"File Index\", \"Image Index\"], drop=True, append=False, inplace=False\n",
    "        )\n",
    "        self.metadf = metadf.sort_index()\n",
    "\n",
    "        def writehdf5(fovnum, num_entries, timepoint_list, file_idx):\n",
    "            y_dim = self.metadata[\"height\"]\n",
    "            x_dim = self.metadata[\"width\"]\n",
    "            filedf = self.metadf.loc[file_idx].reset_index(inplace=False)\n",
    "            filedf = filedf.set_index(\n",
    "                [\"timepoints\"], drop=True, append=False, inplace=False\n",
    "            )\n",
    "            filedf = filedf.sort_index()\n",
    "\n",
    "            with h5py_cache.File(\n",
    "                self.hdf5path + \"/hdf5_\" + str(file_idx) + \".hdf5\",\n",
    "                \"w\",\n",
    "                chunk_cache_mem_size=self.chunk_cache_mem_size,\n",
    "            ) as h5pyfile:\n",
    "                for i, channel in enumerate(self.metadata[\"channels\"]):\n",
    "                    hdf5_dataset = h5pyfile.create_dataset(\n",
    "                        str(channel),\n",
    "                        (num_entries, y_dim, x_dim),\n",
    "                        chunks=self.chunk_shape,\n",
    "                        dtype=\"uint16\",\n",
    "                    )\n",
    "                    for j in range(len(timepoint_list)):\n",
    "                        frame = timepoint_list[j]\n",
    "                        entry = filedf.loc[frame][\"channel_paths\"]\n",
    "                        file_path = entry[channel]\n",
    "                        with h5py_cache.File(file_path, \"r\") as infile:\n",
    "                            img = infile[\"data\"][:]\n",
    "                        hdf5_dataset[j, :, :] = img\n",
    "            return \"Done.\"\n",
    "\n",
    "        file_list = self.metadf.index.get_level_values(\"File Index\").unique().values\n",
    "        num_jobs = len(file_list)\n",
    "        random_priorities = np.random.uniform(size=(num_jobs,))\n",
    "\n",
    "        for k, file_idx in enumerate(file_list):\n",
    "            priority = random_priorities[k]\n",
    "            filedf = self.metadf.loc[file_idx]\n",
    "\n",
    "            fovnum = filedf[0:1][\"fov\"].values[0]\n",
    "            num_entries = len(filedf.index.get_level_values(\"Image Index\").values)\n",
    "            timepoint_list = filedf[\"timepoints\"].tolist()\n",
    "\n",
    "            future = dask_controller.daskclient.submit(\n",
    "                writehdf5,\n",
    "                fovnum,\n",
    "                num_entries,\n",
    "                timepoint_list,\n",
    "                file_idx,\n",
    "                retries=retries,\n",
    "                priority=priority,\n",
    "            )\n",
    "            dask_controller.futures[\"extract file: \" + str(file_idx)] = future\n",
    "\n",
    "        extracted_futures = [\n",
    "            dask_controller.futures[\"extract file: \" + str(file_idx)]\n",
    "            for file_idx in file_list\n",
    "        ]\n",
    "        pause_for_extract = dask_controller.daskclient.gather(\n",
    "            extracted_futures, errors=\"skip\"\n",
    "        )\n",
    "\n",
    "        futures_name_list = [\"extract file: \" + str(file_idx) for file_idx in file_list]\n",
    "        failed_files = [\n",
    "            futures_name_list[k]\n",
    "            for k, item in enumerate(extracted_futures)\n",
    "            if item.status is not \"finished\"\n",
    "        ]\n",
    "        failed_file_idx = [int(item.split(\":\")[1]) for item in failed_files]\n",
    "        outdf = self.meta_handle.read_df(\"global\", read_metadata=False)\n",
    "\n",
    "        tempmeta = outdf.reset_index(inplace=False)\n",
    "        tempmeta = tempmeta.set_index(\n",
    "            [\"File Index\", \"Image Index\"], drop=True, append=False, inplace=False\n",
    "        )\n",
    "        failed_fovs = tempmeta.loc[failed_file_idx][\"fov\"].unique().tolist()\n",
    "\n",
    "        outdf = outdf.drop(failed_fovs)\n",
    "\n",
    "        if self.t_range is not None:\n",
    "            outdf = outdf.reset_index(inplace=False)\n",
    "            outdf[\"timepoints\"] = outdf[\"timepoints\"] - self.t_range[0]\n",
    "            outdf = outdf.set_index(\n",
    "                [\"fov\", \"timepoints\"], drop=True, append=False, inplace=False\n",
    "            )\n",
    "\n",
    "        self.meta_handle.write_df(\"global\", outdf, metadata=self.metadata)"
   ]
  },
  {
   "cell_type": "markdown",
   "id": "7",
   "metadata": {},
   "source": [
    "## Extract to hdf5 files\n",
    "\n",
    "In this section, we will be extracting our image data. Currently this notebook only supports `.nd2` format; however <br>there are `.tiff` extractors in the TrenchRipper source files that are being added to `Master.ipynb` soon.\n",
    "\n",
    "In the abstract, this step will take a single `.nd2` file and split it into a set of `.hdf5` files stored in <br>`headpath/hdf5`. Splitting the file up in this way will facilitate quick procesing in later steps. Each field of <br>view will be split into one or more `.hdf5` files, depending on the number of images per file requested (more on <br>this later). \n",
    "\n",
    "To keep track of which output files correspond to which FOVs, as well as to keep track of experiment metadata, the <br>extractor also outputs a `metadata.hdf5` file in the `headpath` folder. The data from this step is accessible in <br>that `metadata.hdf5` file under the `global` key. If you would like to look at this metadata, you may use the <br>`tr.utils.pandas_hdf5_handler` to read from this file. Later steps will add additional metadata under different <br>keys into the `metadata.hdf5` file."
   ]
  },
  {
   "cell_type": "markdown",
   "id": "8",
   "metadata": {},
   "source": [
    "#### Start Dask Workers\n",
    "\n",
    "First, we start a `dask_controller` instance which will handle all of our parallel processing. The default parameters <br>here work well on O2. The critical arguments here are:\n",
    "\n",
    "**walltime** : For a cluster, the length of time you will request each node for.\n",
    "\n",
    "**local** : `True` if you want to perform computation locally. `False` if you want to perform it on a SLURM cluster.\n",
    "\n",
    "**n_workers** : Number of nodes to request if on the cluster, or number of processes if computing locally.\n",
    "\n",
    "**memory** : For a cluster, the amount of memory you will request each node for.\n",
    "\n",
    "**working_directory** : For a cluster, the directory in which data will be spilled to disk. Usually set as a folder in <br>the `headpath`."
   ]
  },
  {
   "cell_type": "code",
   "execution_count": null,
   "id": "9",
   "metadata": {},
   "outputs": [],
   "source": [
    "dask_controller = tr.trcluster.dask_controller(\n",
    "    walltime=\"04:00:00\",\n",
    "    local=False,\n",
    "    n_workers=20,\n",
    "    memory=\"2GB\",\n",
    "    working_directory=headpath + \"/dask\",\n",
    ")\n",
    "dask_controller.startdask()"
   ]
  },
  {
   "cell_type": "markdown",
   "id": "10",
   "metadata": {},
   "source": [
    "After running the above line, you will have a running Dask client. Run the line below and click the link to supervise <br>the computation being administered by the scheduler. \n",
    "\n",
    "Don't be alarmed if the screen starts mostly blank, it may take time for your workers to spin up. If you get a 404 <br>error on a cluster, it is likely that your ports are not being forwarded properly. If this occurs, please register <br>the issue on github."
   ]
  },
  {
   "cell_type": "code",
   "execution_count": null,
   "id": "11",
   "metadata": {},
   "outputs": [],
   "source": [
    "dask_controller.daskclient.restart()"
   ]
  },
  {
   "cell_type": "markdown",
   "id": "12",
   "metadata": {},
   "source": [
    "##### Perform Extraction\n",
    "\n",
    "Now that we have our cluster scheduler spun up, it is time to convert files. This will be handled by the <br>`hdf5_extractor` object. This extractor will pull up each FOV and split it such that each derived `.hdf5` file <br>contains, at maximum, N timepoints of that FOV per file. The image data stored in these files takes the <br>form of `(N,Y,X)` arrays that are accessible using the desired channel name as a key. \n",
    "\n",
    "The arguments for this extractor are:\n",
    "\n",
    " - **nd2file** : The filepath to the `.nd2` file you intend to extract.\n",
    " \n",
    " - **headpath** : The folder in which processing is occuring. Should be the same for each step in the pipeline.\n",
    "\n",
    " - **tpts_per_file** : The maximum number of timepoints stored in each output `.hdf5` file. Typical values are between 25 <br>and 100.\n",
    "\n",
    " - **ignore_fovmetadata** : Used when `.nd2` data is corrupted and does not possess records for stage positions or <br>timepoints. Only set `False` if the extractor throws errors on metadata handling.\n",
    "\n",
    " - **nd2reader_override** : Overrides values in metadata recovered using the `nd2reader`. Currently set to <br>`{\"z_levels\":[],\"z_coordinates\":[]}` by default to correct a known issue where z coordinates are mistakenly <br>interpreted as a z stack. See the [nd2reader](https://rbnvrw.github.io/nd2reader/) documentation for more info."
   ]
  },
  {
   "cell_type": "code",
   "execution_count": null,
   "id": "13",
   "metadata": {},
   "outputs": [],
   "source": [
    "hdf5_extractor = marlin_extractor(hdf5inputpath, headpath)"
   ]
  },
  {
   "cell_type": "code",
   "execution_count": null,
   "id": "14",
   "metadata": {},
   "outputs": [],
   "source": [
    "# hdf5_extractor = tr.ndextract.hdf5_fov_extractor(\n",
    "#     nd2file,\n",
    "#     headpath,\n",
    "#     tpts_per_file=50,\n",
    "#     ignore_fovmetadata=False,\n",
    "#     nd2reader_override={\"z_levels\": [], \"z_coordinates\": []},\n",
    "# )"
   ]
  },
  {
   "cell_type": "code",
   "execution_count": null,
   "id": "15",
   "metadata": {},
   "outputs": [],
   "source": [
    "# hdf5_extractor = tr.ndextract.tiff_extractor(\n",
    "#     tiffpath,\n",
    "#     headpath,\n",
    "#     [\"Phase\",\"YFP\"],tpts_per_file=50\n",
    "# )"
   ]
  },
  {
   "cell_type": "markdown",
   "id": "16",
   "metadata": {},
   "source": [
    "##### Extraction Parameters\n",
    "\n",
    "Here, you may set the time interval you want to extract. Useful for cropping data to the period exhibiting the dynamics of interest.\n",
    "\n",
    "Optionally take notes to add to the `metadata.hdf5` file. Notes may also be taken directly in this notebook."
   ]
  },
  {
   "cell_type": "code",
   "execution_count": null,
   "id": "17",
   "metadata": {},
   "outputs": [],
   "source": [
    "hdf5_extractor.inter_set_params()"
   ]
  },
  {
   "cell_type": "markdown",
   "id": "18",
   "metadata": {},
   "source": [
    "##### Begin Extraction \n",
    "\n",
    "Running the following line will start the extraction process. This may be monitored by examining the `Dask Dashboard` <br> under the link displayed earlier. Once the computation is complete, move to the next line.\n",
    "\n",
    "This step may take a long time, though it is possible to speed it up using additional workers."
   ]
  },
  {
   "cell_type": "code",
   "execution_count": null,
   "id": "19",
   "metadata": {},
   "outputs": [],
   "source": [
    "hdf5_extractor.extract(dask_controller)"
   ]
  },
  {
   "cell_type": "markdown",
   "id": "20",
   "metadata": {},
   "source": [
    "##### Shutdown Dask\n",
    "\n",
    "Once extraction is complete, it is likely that you will want to shutdown your `dask_controller` if you are on a <br>\n",
    "cluster. This is because the specifications of the current `dask_controller` will not be optimal for later steps. <br>\n",
    "To do this, run the following line and wait for it to complete. If it hangs, interrupt your kernel and re-run it. <br>\n",
    "If this also fails to shutdown your workers, you will have to manually shut them down using `scancel` in a terminal."
   ]
  },
  {
   "cell_type": "code",
   "execution_count": null,
   "id": "21",
   "metadata": {},
   "outputs": [],
   "source": [
    "dask_controller.shutdown()"
   ]
  },
  {
   "cell_type": "markdown",
   "id": "22",
   "metadata": {},
   "source": [
    "## Kymographs\n",
    "\n",
    "Now that you have extracted your data into a series of `.hdf5` files, we will now perform identification and cropping <br>of the individual trenches/growth channels present in the images. This algorithm assumes that your growth trenches <br>are vertically aligned and that they alternate in their orientation from top to bottom. See the example image for the <br>correct geometry:\n",
    "\n",
    "![example_image](./resources/example_image.jpg)\n",
    "\n",
    "The output of this step will be a set of `.hdf5` files stored in `headpath/kymograph`. The image data stored in these <br>files takes the form of `(K,T,Y,X)` arrays where K is the trench index, T is time, and Y,X are the crop dimensions. <br>These arrays are accessible using keys of the form `\"[Image Channel]\"`. For example, looking up phase channel <br>data of trenches in the topmost row of an image will require the key `\"Phase\"`"
   ]
  },
  {
   "cell_type": "markdown",
   "id": "23",
   "metadata": {},
   "source": [
    "[ '/n/scratch3/users/d/de64/190917_20x_phase_gfp_segmentation002',\n",
    " '/n/scratch3/users/d/de64/190922_20x_phase_gfp_segmentation',\n",
    " '/n/scratch3/users/d/de64/190925_20x_phase_yfp_segmentation',\n",
    " '/n/scratch3/users/d/de64/ezrdm_training_sb7',\n",
    " '/n/scratch3/users/d/de64/mbm_training_sb7',\n",
    " '/n/scratch3/users/d/de64/Sb7_L35',\n",
    " '/n/scratch3/users/d/de64/MM_DVCvecto_TOP_1_9',\n",
    " '/n/scratch3/users/d/de64/Vibrio_2_1_TOP',\n",
    " '/n/scratch3/users/d/de64/Vibrio_A_B_VZRDM--04--RUN_80ms',\n",
    " '/n/scratch3/users/d/de64/RpoSOutliers_WT_hipQ_100X',\n",
    " '/n/scratch3/users/d/de64/Main_Experiment',\n",
    " '/n/scratch3/users/d/de64/bde17_gotime']"
   ]
  },
  {
   "cell_type": "markdown",
   "id": "24",
   "metadata": {},
   "source": [
    "### Test Parameters\n",
    "\n"
   ]
  },
  {
   "cell_type": "markdown",
   "id": "25",
   "metadata": {
    "toc-hr-collapsed": false
   },
   "source": [
    "##### Initialize the interactive kymograph class\n",
    "\n",
    "As a first step, initialize the `tr.interactive.kymograph_interactive` class that will be help us choose the <br>parameters we will use to generate kymographs. "
   ]
  },
  {
   "cell_type": "code",
   "execution_count": null,
   "id": "26",
   "metadata": {},
   "outputs": [],
   "source": [
    "interactive_kymograph = tr.kymograph_interactive(headpath)"
   ]
  },
  {
   "cell_type": "code",
   "execution_count": null,
   "id": "27",
   "metadata": {},
   "outputs": [],
   "source": [
    "viewer = tr.hdf5_viewer(headpath)"
   ]
  },
  {
   "cell_type": "markdown",
   "id": "28",
   "metadata": {},
   "source": [
    "##### Examine Images\n",
    "\n",
    "Here you can manually inspect images before beginning parameter tuning."
   ]
  },
  {
   "cell_type": "code",
   "execution_count": null,
   "id": "29",
   "metadata": {},
   "outputs": [],
   "source": [
    "viewer.view(width=1200)"
   ]
  },
  {
   "cell_type": "markdown",
   "id": "30",
   "metadata": {},
   "source": [
    "You will now want to select a few test FOVs to try out parameters on, the channel you want to detect trenches on, and <br>the time interval on which you will perform your processing.\n",
    "\n",
    "The arguments for this step are:\n",
    "\n",
    "- **seg_channel (string)** : The channel name that you would like to segment on.\n",
    "\n",
    "- **invert (list)** : Whether or not you want to invert the image before detecting trenches. By default, it is assumed that <br>the trenches have a high pixel intensity relative to the background. This should be the case for Phase Contrast and <br>Fluorescence Imageing, but may not be the case for Brightfield Imaging, in which case you will want to invert the image.\n",
    "\n",
    "- **fov_list (list)** : List of integers corresponding to the FOVs that you wish to make test kymographs of.\n",
    "\n",
    "- **t_subsample_step (int)** : Step size to be used for subsampling input files in time, recommend that subsampling results in <br>between 5 and 10 timepoints for quick processing.\n",
    "\n",
    "Hit the \"Run Interact\" button to lock in your parameters. The button will become transparent briefly and become solid again <br>when processing is complete. After that has occured, move on to the next step. "
   ]
  },
  {
   "cell_type": "code",
   "execution_count": null,
   "id": "31",
   "metadata": {},
   "outputs": [],
   "source": [
    "matplotlib.rcParams[\"figure.figsize\"] = [20, 10]"
   ]
  },
  {
   "cell_type": "code",
   "execution_count": null,
   "id": "32",
   "metadata": {},
   "outputs": [],
   "source": [
    "interactive_kymograph.import_hdf5_interactive()"
   ]
  },
  {
   "cell_type": "markdown",
   "id": "33",
   "metadata": {},
   "source": [
    "##### Tune \"trench-row\" detection hyperparameters\n",
    "\n",
    "The kymograph code begins by detecting the positions of trench rows in the image as follows:\n",
    "\n",
    "1. Reducing each 2D image to a 1D signal along the y-axis by computing the qth percentile of the data along the x-axis\n",
    "2. Smooth this signal using a median kernel\n",
    "3. Normalize the signal by linearly scaling 0. and 1. to the minimum and maximum, respectively\n",
    "4. Use a set threshold to determine the trench row poisitons\n",
    "\n",
    "The arguments for this step are:\n",
    "\n",
    " - **y_percentile (int)** : Percentile to use for step 1.\n",
    "\n",
    " - **smoothing_kernel_y_dim_0 (int)** : Median kernel size to use for step 2.\n",
    "\n",
    " - **y_percentile_threshold (float)** : Threshold to use in step 4.\n",
    "\n",
    "Running the following widget will display the smoothed 1-D signal for each of your timepoints. In addition, the threshold <br>value for each fov will be displayed as a red line."
   ]
  },
  {
   "cell_type": "code",
   "execution_count": null,
   "id": "34",
   "metadata": {},
   "outputs": [],
   "source": [
    "interactive_kymograph.preview_y_precentiles_interactive()"
   ]
  },
  {
   "cell_type": "markdown",
   "id": "35",
   "metadata": {},
   "source": [
    "##### Tune \"trench-row\" cropping hyperparameters\n",
    "\n",
    "Next, we will use the detected rows to perform cropping of the input image in the y-dimension:\n",
    "\n",
    "1. Determine edges of trench rows based on threshold mask.\n",
    "2. Filter out rows that are too small.\n",
    "3. Use the remaining rows to compute the drift in y in each image.\n",
    "4. Apply the drift to the initally detected rows to get rows in all timepoints.\n",
    "5. Perform cropping using the \"end\" of the row as reference (the end referring to the part of the trench farthest from <br>the feeding channel).\n",
    "\n",
    "Step 5 performs a simple algorithm to determine the orientation of each trench:\n",
    "\n",
    "```\n",
    "row_orientations = [] # A list of row orientations, starting from the topmost row\n",
    "if the number of detected rows == 'Number of Rows': \n",
    "    row_orientations.append('Orientation')\n",
    "elif the number of detected rows < 'Number of Rows':\n",
    "    row_orientations.append('Orientation when < expected rows')\n",
    "for row in rows:\n",
    "    if row_orientations[-1] == downward:\n",
    "        row_orientations.append(upward)\n",
    "    elif row_orientations[-1] == upward:\n",
    "        row_orientations.append(downward)\n",
    "```\n",
    "\n",
    "Additionally, if the device tranches face a single direction, alternation of row orientation may be turned off by setting the<br> `Alternate Orientation?` argument to False. The `Use Median Drift?` argument, when set to True, will use the<br> median drift in y across all FOVs for drift correction, instead of doing drift correction independently for all FOVs. <br>This can be useful if there are a large fraction of FOVs which are failing drift correction. Note that `Use Median Drift?` <br>sets this behavior for both y and x drift correction.\n",
    "\n",
    "The arguments for this step are:\n",
    "\n",
    " - **y_min_edge_dist (int)** : Minimum row length necessary for detection (filters out small detected objects).\n",
    "\n",
    " - **padding_y (int)** : Padding to add to the end of trench row when cropping in the y-dimension.\n",
    "\n",
    " - **trench_len_y (int)** : Length from the end of each trench row to the feeding channel side of the crop.\n",
    "\n",
    " - **Number of Rows (int)** : The number of rows to expect in your image. For instance, two in the example image.\n",
    " \n",
    " - **Alternate Orientation? (bool)** : Whether or not to alternate the orientation of consecutive rows.\n",
    "\n",
    " - **Orientation (int)** : The orientation of the top-most row where 0 corresponds to a trench with a downward-oriented trench <br>opening and 1 corresponds to a trench with an upward-oriented trench opening.\n",
    "\n",
    " - **Orientation when < expected rows(int)** : The orientation of the top-most row when the number of detected rows is less than <br>expected. Useful if your trenches drift out of your image in some FOVs.\n",
    " \n",
    " - **Use Median Drift? (bool)** : Whether to use the median detected drift across all FOVs, instead of the drift detected in each FOV individually.\n",
    "\n",
    " - **images_per_row(int)** : How many images to output per row for this widget.\n",
    "\n",
    "Running the following widget will display y-cropped images for each fov and timepoint."
   ]
  },
  {
   "cell_type": "code",
   "execution_count": null,
   "id": "36",
   "metadata": {},
   "outputs": [],
   "source": [
    "interactive_kymograph.preview_y_crop_interactive()"
   ]
  },
  {
   "cell_type": "markdown",
   "id": "37",
   "metadata": {},
   "source": [
    "##### Tune trench detection hyperparameters\n",
    "\n",
    "Next, we will detect the positions of trenchs in the y-cropped images as follows:\n",
    "\n",
    "1. Reducing each 2D image to a 1D signal along the x-axis by computing the qth percentile of the data along the y-axis.\n",
    "2. Determine the signal background by smoothing this signal using a large median kernel.\n",
    "3. Subtract the background signal.\n",
    "4. Smooth the resultant signal using a median kernel.\n",
    "5. Use an [otsu threhsold](https://imagej.net/Auto_Threshold#Otsu) to determine the trench midpoint poisitons.\n",
    "\n",
    "After this, x-dimension drift correction of our detected midpoints will be performed as follows:\n",
    "\n",
    "6. Begin at t=1\n",
    "7. For $m \\in \\{midpoints(t)\\}$ assign $n \\in \\{midpoints(t-1)\\}$ to m if n is the closest midpoint to m at time $t-1$,<br>\n",
    "points that are not the closest midpoint to any midpoints in m will not be mapped.\n",
    "8. Compute the translation of each midpoint at time.\n",
    "9. Take the average of this value as the x-dimension drift from time t-1 to t.\n",
    "\n",
    "The arguments for this step are:\n",
    "\n",
    " - **t (int)** : Timepoint to examine the percentiles and threshold in.\n",
    "\n",
    " - **x_percentile (int)** : Percentile to use for step 1.\n",
    "\n",
    " - **background_kernel_x (int)** : Median kernel size to use for step 2.\n",
    "\n",
    " - **smoothing_kernel_x (int)** : Median kernel size to use for step 4.\n",
    "\n",
    " - **otsu_scaling (float)** : Scaling factor to apply to the threshold determined by Otsu's method.\n",
    "\n",
    "Running the following widget will display the smoothed 1-D signal for each of your timepoints. In addition, the threshold <br>value for each fov will be displayed as a red line. In addition, it will display the detected midpoints for each of your timepoints. <br>If there is too much sparsity, or discontinuity, your drift correction will not be accurate."
   ]
  },
  {
   "cell_type": "code",
   "execution_count": null,
   "id": "38",
   "metadata": {},
   "outputs": [],
   "source": [
    "interactive_kymograph.preview_x_percentiles_interactive()"
   ]
  },
  {
   "cell_type": "markdown",
   "id": "39",
   "metadata": {},
   "source": [
    "##### Tune trench cropping hyperparameters\n",
    "\n",
    "Trench cropping simply uses the drift-corrected midpoints as a reference and crops out some fixed length around them <br>\n",
    "to produce an output kymograph. **Note that the current implementation does not allow trench crops to overlap**. If your<br>\n",
    "trench crops do overlap, the error will not be caught here, but will cause issues later in the pipeline. As such, try <br>\n",
    "to crop your trenches as closely as possible. This issue will be fixed in a later update.\n",
    "\n",
    "The arguments for this step are:\n",
    "\n",
    " - **trench_width_x (int)** : Trench width to use for cropping.\n",
    "\n",
    " - **trench_present_thr (float)** : Trenches that appear in less than this percent of FOVs will be eliminated from the dataset.<br>\n",
    "If not removed, missing positions will be inferred from the image drift.\n",
    "\n",
    " - **Use Median Drift? (bool)** : Whether to use the median detected drift across all FOVs, instead of the drift detected in each FOV individually.\n",
    "\n",
    "\n",
    "Running the following widget will display a random kymograph for each row in each fov and will also produce midpoint plots <br>showing retained midpoints"
   ]
  },
  {
   "cell_type": "code",
   "execution_count": null,
   "id": "40",
   "metadata": {},
   "outputs": [],
   "source": [
    "interactive_kymograph.preview_kymographs_interactive()"
   ]
  },
  {
   "cell_type": "markdown",
   "id": "41",
   "metadata": {},
   "source": [
    "##### Export and save hyperparameters\n",
    "\n",
    "Run the following line to register and display the parameters you have selected for kymograph creation."
   ]
  },
  {
   "cell_type": "code",
   "execution_count": null,
   "id": "42",
   "metadata": {},
   "outputs": [],
   "source": [
    "interactive_kymograph.process_results()"
   ]
  },
  {
   "cell_type": "markdown",
   "id": "43",
   "metadata": {},
   "source": [
    "If you are satisfied with the above parameters, run the following line to write these parameters to disk at `headpath/kymograph.par`<br>\n",
    "This file will be used to perform kymograph creation in the next section."
   ]
  },
  {
   "cell_type": "code",
   "execution_count": null,
   "id": "44",
   "metadata": {},
   "outputs": [],
   "source": [
    "interactive_kymograph.write_param_file()"
   ]
  },
  {
   "cell_type": "markdown",
   "id": "45",
   "metadata": {},
   "source": [
    "### Generate Kymograph"
   ]
  },
  {
   "cell_type": "markdown",
   "id": "46",
   "metadata": {},
   "source": [
    "##### Start Dask Workers\n",
    "\n",
    "Again, we start a `dask_controller` instance which will handle all of our parallel processing. The default parameters <br>here work well on O2 for kymograph creation. The critical arguments here are:\n",
    "\n",
    "**walltime** : For a cluster, the length of time you will request each node for.\n",
    "\n",
    "**local** : `True` if you want to perform computation locally. `False` if you want to perform it on a SLURM cluster.\n",
    "\n",
    "**n_workers** : Number of nodes to request if on the cluster, or number of processes if computing locally.\n",
    "\n",
    "**memory** : For a cluster, the amount of memory you will request each node for.\n",
    "\n",
    "**working_directory** : For a cluster, the directory in which data will be spilled to disk. Usually set as a folder in <br>the `headpath`."
   ]
  },
  {
   "cell_type": "code",
   "execution_count": null,
   "id": "47",
   "metadata": {},
   "outputs": [],
   "source": [
    "dask_controller = tr.trcluster.dask_controller(\n",
    "    walltime=\"04:00:00\",\n",
    "    local=False,\n",
    "    n_workers=20,\n",
    "    memory=\"2GB\",\n",
    "    working_directory=headpath + \"/dask\",\n",
    ")\n",
    "dask_controller.startdask()"
   ]
  },
  {
   "cell_type": "markdown",
   "id": "48",
   "metadata": {},
   "source": [
    "After running the above line, you will have a running Dask client. Run the line below and click the link to supervise <br>the computation being administered by the scheduler. \n",
    "\n",
    "Don't be alarmed if the screen starts mostly blank, it may take time for your workers to spin up. If you get a 404 <br>error on a cluster, it is likely that your ports are not being forwarded properly. If this occurs, please register <br>the issue on github."
   ]
  },
  {
   "cell_type": "code",
   "execution_count": null,
   "id": "49",
   "metadata": {},
   "outputs": [],
   "source": [
    "dask_controller.daskclient"
   ]
  },
  {
   "cell_type": "markdown",
   "id": "50",
   "metadata": {},
   "source": [
    "##### Perform Kymograph Cropping\n",
    "\n",
    "Now that we have our cluster scheduler spun up, we will extract kymographs using the parameters stored in `headpath/kymograph.par`. <br>\n",
    "This will be handled by the `kymograph_cluster` object. This will detect trenches in all of the files present in `headpath/hdf5` that <br>\n",
    "you created in the first step. It will then crop these trenches and place the crops in a series of `.hdf5` files in `headpath/kymograph`. <br>\n",
    "These files will store image data in the form of `(K,T,Y,X)` arrays where K is the trench index, T is time and Y,X are the image dimensions <br>\n",
    "of the crop.\n",
    "\n",
    "The arguments for this step are:\n",
    "\n",
    " - **headpath** : The folder in which processing is occuring. Should be the same for each step in the pipeline.\n",
    "\n",
    " - **trenches_per_file** : The maximum number of trenches stored in each output `.hdf5` file. Typical values are between 25 <br>and 100.\n",
    "\n",
    " - **paramfile** : Set to true if you want to use parameters from `headpath/kymograph.par` Otherwise, you will have to specify <br>\n",
    " parameters as direct arguments to `kymograph_cluster`."
   ]
  },
  {
   "cell_type": "code",
   "execution_count": null,
   "id": "51",
   "metadata": {},
   "outputs": [],
   "source": [
    "kymoclust = tr.kymograph.kymograph_cluster(\n",
    "    headpath=headpath, trenches_per_file=200, paramfile=True\n",
    ")"
   ]
  },
  {
   "cell_type": "markdown",
   "id": "52",
   "metadata": {},
   "source": [
    "##### Begin Kymograph Cropping \n",
    "\n",
    "Running the following line will start the cropping process. This may be monitored by examining the `Dask Dashboard` <br>\n",
    "under the link displayed earlier. Once the computation is complete, move to the next line.\n",
    "\n",
    "**Do not move on until all tasks are displayed as 'in memory' in Dask.**"
   ]
  },
  {
   "cell_type": "code",
   "execution_count": null,
   "id": "53",
   "metadata": {},
   "outputs": [],
   "source": [
    "kymoclust.generate_kymographs(dask_controller)"
   ]
  },
  {
   "cell_type": "code",
   "execution_count": null,
   "id": "54",
   "metadata": {},
   "outputs": [],
   "source": [
    "ff = tr.focus_filter(headpath)"
   ]
  },
  {
   "cell_type": "code",
   "execution_count": null,
   "id": "55",
   "metadata": {},
   "outputs": [],
   "source": [
    "ff.choose_filter_channel_inter()"
   ]
  },
  {
   "cell_type": "code",
   "execution_count": null,
   "id": "56",
   "metadata": {},
   "outputs": [],
   "source": [
    "ff.plot_histograms()"
   ]
  },
  {
   "cell_type": "code",
   "execution_count": null,
   "id": "57",
   "metadata": {},
   "outputs": [],
   "source": [
    "ff.plot_focus_threshold_inter()"
   ]
  },
  {
   "cell_type": "code",
   "execution_count": null,
   "id": "58",
   "metadata": {},
   "outputs": [],
   "source": [
    "ff.write_param_file()"
   ]
  },
  {
   "cell_type": "markdown",
   "id": "59",
   "metadata": {},
   "source": [
    "##### Post-process Images\n",
    "\n",
    "After the above step, kymographs will have been created for each `.hdf5` input file. They will now need to be reorganized <br>\n",
    "into a new set of files such that each file has, at most, `trenches_per_file` trenches in each file.\n",
    "\n",
    "**Do not move on until all tasks are displayed as 'in memory' in Dask.**"
   ]
  },
  {
   "cell_type": "code",
   "execution_count": null,
   "id": "60",
   "metadata": {},
   "outputs": [],
   "source": [
    "kymoclust.post_process(dask_controller)"
   ]
  },
  {
   "cell_type": "markdown",
   "id": "61",
   "metadata": {},
   "source": [
    "##### Check kymograph statistics\n",
    "\n",
    "Run the next line to display some statistics from kymograph creation. The outputs are:\n",
    "\n",
    " - **fovs processed** : The number of FOVs successfully processed out of the total number of FOVs\n",
    " - **rows processed** : The number of rows of trenches processed out of the total number of rows\n",
    " - **trenches processed** : The number of trenches successfully processed\n",
    " - **row/fov** : The average number of rows successfully processed per FOV\n",
    " - **trenches/fov** : The average number of trenches successfully processed per FOV\n",
    " - **failed fovs** : A list of failed FOVs. Spot check these FOVs in the viewer to determine potential problems"
   ]
  },
  {
   "cell_type": "code",
   "execution_count": null,
   "id": "62",
   "metadata": {},
   "outputs": [],
   "source": [
    "kymoclust.kymo_report()"
   ]
  },
  {
   "cell_type": "markdown",
   "id": "63",
   "metadata": {},
   "source": [
    "##### Shutdown Dask\n",
    "\n",
    "Once cropping is complete, it is likely that you will want to shutdown your `dask_controller` if you are on a <br>\n",
    "cluster. This is because the specifications of the current `dask_controller` will not be optimal for later steps. <br>\n",
    "To do this, run the following line and wait for it to complete. If it hangs, interrupt your kernel and re-run it. <br>\n",
    "If this also fails to shutdown your workers, you will have to manually shut them down using `scancel` in a terminal."
   ]
  },
  {
   "cell_type": "code",
   "execution_count": null,
   "id": "64",
   "metadata": {},
   "outputs": [],
   "source": [
    "dask_controller.daskclient.restart()"
   ]
  },
  {
   "cell_type": "code",
   "execution_count": null,
   "id": "65",
   "metadata": {},
   "outputs": [],
   "source": [
    "dask_controller.shutdown()"
   ]
  },
  {
   "cell_type": "markdown",
   "id": "66",
   "metadata": {},
   "source": [
    "#### Output\n",
    "\n",
    "At this point you may want to use your output. The output of this step is a set of `.hdf5` files stored in <br>`headpath/kymograph`. The image data stored in these files takes the form of `(K,T,Y,X)` arrays <br>where K is the trench index, T is time, and Y,X are the crop dimensions.\n",
    "\n",
    "These arrays are accessible using keys of the form `\"[Trench Row Number]/[Image Channel]\"`. <br>For example, looking up phase channel data of trenches in the topmost row of an image will require <br>the key `\"0/Phase\"` The metadata associated with these files is a large pandas dataframe relating <br>crops to original FOVs, accessible using the \"kymograph\" key on `headpath/metadata.hdf5`\n",
    "\n",
    "To assist in accessing this file, you may use the `trenchripper.pandas_hdf5_handler` object to <br>interface with this file as follows:"
   ]
  },
  {
   "cell_type": "code",
   "execution_count": null,
   "id": "67",
   "metadata": {},
   "outputs": [],
   "source": [
    "from time import sleep\n",
    "\n",
    "import dask.dataframe as dd\n",
    "import dask.delayed as delayed\n",
    "import h5py\n",
    "import numpy as np\n",
    "import pandas as pd\n",
    "import scipy.signal\n",
    "import skimage as sk\n",
    "from distributed.client import futures_of"
   ]
  },
  {
   "cell_type": "code",
   "execution_count": null,
   "id": "68",
   "metadata": {},
   "outputs": [],
   "source": [
    "def get_image_measurements(\n",
    "    kymographpath, channels, file_idx, output_name, img_fn, *args, **kwargs\n",
    "):\n",
    "    df = dd.read_parquet(kymographpath + \"/metadata\")\n",
    "\n",
    "    working_dfs = []\n",
    "\n",
    "    proc_file_path = kymographpath + \"/kymograph_\" + str(file_idx) + \".hdf5\"\n",
    "    with h5py.File(proc_file_path, \"r\") as infile:\n",
    "        working_filedf = df[df[\"File Index\"] == file_idx].compute()\n",
    "        trench_idx_list = working_filedf[\"File Trench Index\"].unique().tolist()\n",
    "        for trench_idx in trench_idx_list:\n",
    "            trench_df = working_filedf[\n",
    "                working_filedf[\"File Trench Index\"] == trench_idx\n",
    "            ]\n",
    "\n",
    "            for channel in channels:\n",
    "                kymo_arr = infile[channel][trench_idx]\n",
    "                fn_out = [\n",
    "                    img_fn(kymo_arr[i], *args, **kwargs)\n",
    "                    for i in range(kymo_arr.shape[0])\n",
    "                ]\n",
    "                trench_df[channel + \" \" + output_name] = fn_out\n",
    "            working_dfs.append(trench_df)\n",
    "\n",
    "    out_df = pd.concat(working_dfs)\n",
    "    return out_df\n",
    "\n",
    "\n",
    "def get_all_image_measurements(\n",
    "    headpath, output_path, channels, output_name, img_fn, *args, **kwargs\n",
    "):\n",
    "    kymographpath = headpath + \"/kymograph\"\n",
    "    df = dd.read_parquet(kymographpath + \"/metadata\")\n",
    "\n",
    "    file_list = df[\"File Index\"].unique().compute().tolist()\n",
    "\n",
    "    delayed_list = []\n",
    "\n",
    "    for file_idx in file_list:\n",
    "        df_delayed = delayed(get_image_measurements)(\n",
    "            kymographpath, channels, file_idx, output_name, img_fn, *args, **kwargs\n",
    "        )\n",
    "        delayed_list.append(df_delayed.persist())\n",
    "\n",
    "    ## filtering out non-failed dataframes ##\n",
    "    all_delayed_futures = []\n",
    "    for item in delayed_list:\n",
    "        all_delayed_futures += futures_of(item)\n",
    "    while any(future.status == \"pending\" for future in all_delayed_futures):\n",
    "        sleep(0.1)\n",
    "\n",
    "    good_delayed = []\n",
    "    for item in delayed_list:\n",
    "        if all([future.status == \"finished\" for future in futures_of(item)]):\n",
    "            good_delayed.append(item)\n",
    "\n",
    "    ## compiling output dataframe ##\n",
    "    df_out = dd.from_delayed(good_delayed).persist()\n",
    "    df_out[\"FOV Parquet Index\"] = df_out.index\n",
    "    df_out = df_out.set_index(\"FOV Parquet Index\", drop=True, sorted=False)\n",
    "    df_out = df_out.repartition(partition_size=\"25MB\").persist()\n",
    "\n",
    "    dd.to_parquet(\n",
    "        df_out,\n",
    "        output_path,\n",
    "        engine=\"fastparquet\",\n",
    "        compression=\"gzip\",\n",
    "        write_metadata_file=True,\n",
    "    )"
   ]
  },
  {
   "cell_type": "code",
   "execution_count": null,
   "id": "69",
   "metadata": {},
   "outputs": [],
   "source": [
    "headpath = \"/n/scratch3/users/d/de64/2020-08-15_lDE8_lDE9/2020-08-15_lDE8_lDE9/\"\n",
    "hdf5inputpath = \"/n/scratch3/users/d/de64/2020-08-15_lDE8_lDE9/run\"\n",
    "\n",
    "# headpath = \"/n/scratch3/users/d/de64/2020-07-20_DE89_LDE120/2020-07-20_DE89_LDE120\"\n",
    "# hdf5inputpath = \"/n/scratch3/users/d/de64/2020-07-20_DE89_LDE120/run\""
   ]
  },
  {
   "cell_type": "code",
   "execution_count": null,
   "id": "70",
   "metadata": {},
   "outputs": [],
   "source": [
    "kymograph_metadata = dd.read_parquet(headpath + \"/kymograph/metadata\")\n",
    "# kymograph_metadata = kymograph_metadata[kymograph_metadata[\"fov\"]>125]"
   ]
  },
  {
   "cell_type": "code",
   "execution_count": null,
   "id": "71",
   "metadata": {},
   "outputs": [],
   "source": [
    "get_all_image_measurements(\n",
    "    headpath,\n",
    "    headpath + \"/percentiles\",\n",
    "    [\"RFP\", \"Cy5\", \"Cy7\"],\n",
    "    \"98th Percentile\",\n",
    "    np.percentile,\n",
    "    98,\n",
    ")"
   ]
  },
  {
   "cell_type": "code",
   "execution_count": null,
   "id": "72",
   "metadata": {},
   "outputs": [],
   "source": [
    "import numpy as np\n",
    "import pandas as pd\n",
    "import scipy.signal\n",
    "import skimage as sk\n",
    "from matplotlib import pyplot as plt"
   ]
  },
  {
   "cell_type": "code",
   "execution_count": null,
   "id": "73",
   "metadata": {},
   "outputs": [],
   "source": [
    "kymograph_metadata = pd.read_parquet(headpath + \"/percentiles\")"
   ]
  },
  {
   "cell_type": "code",
   "execution_count": null,
   "id": "74",
   "metadata": {},
   "outputs": [],
   "source": [
    "kymograph_metadata = kymograph_metadata.set_index([\"trenchid\", \"timepoints\"], drop=True)\n",
    "kymograph_metadata = kymograph_metadata[kymograph_metadata[\"fov\"] > 9]\n",
    "kymograph_metadata = kymograph_metadata[\n",
    "    ~((kymograph_metadata[\"fov\"] >= 70) & (kymograph_metadata[\"fov\"] < 90))\n",
    "]\n",
    "kymograph_metadata = kymograph_metadata[kymograph_metadata[\"fov\"] != 152]\n",
    "notrna_kymograph_metadata = kymograph_metadata[kymograph_metadata[\"fov\"] < 120]\n",
    "trna_kymograph_metadata = kymograph_metadata[kymograph_metadata[\"fov\"] >= 120]"
   ]
  },
  {
   "cell_type": "code",
   "execution_count": null,
   "id": "75",
   "metadata": {},
   "outputs": [],
   "source": [
    "headpath = \"/n/scratch3/users/d/de64/2020-08-15_lDE8_lDE9/2020-08-15_lDE8_lDE9/\"\n",
    "kymograph_metadata = pd.read_parquet(headpath + \"/percentiles\")\n",
    "kymograph_metadata = kymograph_metadata.set_index([\"trenchid\", \"timepoints\"], drop=True)\n",
    "kymograph_metadata = kymograph_metadata[kymograph_metadata[\"fov\"] > 9]\n",
    "kymograph_metadata = kymograph_metadata[\n",
    "    ~((kymograph_metadata[\"fov\"] >= 70) & (kymograph_metadata[\"fov\"] < 90))\n",
    "]\n",
    "kymograph_metadata = kymograph_metadata[kymograph_metadata[\"fov\"] != 152]\n",
    "notrna_kymograph_metadata = kymograph_metadata[kymograph_metadata[\"fov\"] < 120]\n",
    "trna_kymograph_metadata = kymograph_metadata[kymograph_metadata[\"fov\"] >= 120]\n",
    "\n",
    "\n",
    "def get_signal_sum(df):\n",
    "    trench_group = df.groupby([\"trenchid\"])\n",
    "    barcodes = trench_group.apply(\n",
    "        lambda x: np.array(\n",
    "            x[\"RFP 98th Percentile\"].tolist()\n",
    "            + x[\"Cy5 98th Percentile\"].tolist()\n",
    "            + x[\"Cy7 98th Percentile\"].tolist()\n",
    "        ).astype(float)\n",
    "    )\n",
    "    short = barcodes.apply(lambda x: len(x) == 24)\n",
    "    barcodes = barcodes[short]\n",
    "    barcodes = np.array(barcodes.to_list())\n",
    "    signal_sum = np.sum(barcodes, axis=1)\n",
    "\n",
    "    signal_filter_thr = get_background_thr(signal_sum, get_background_dist_peak)\n",
    "    full_trenches = signal_sum > signal_filter_thr\n",
    "    high_signal_barcodes = barcodes[full_trenches]\n",
    "    return signal_sum, high_signal_barcodes\n",
    "\n",
    "\n",
    "notrna_signal_sum, notrna_high_signal_barcodes = get_signal_sum(\n",
    "    notrna_kymograph_metadata\n",
    ")\n",
    "trna_signal_sum, trna_high_signal_barcodes = get_signal_sum(trna_kymograph_metadata)\n",
    "plt.hist(notrna_signal_sum, bins=100, range=(0, 50000))\n",
    "plt.title(\"Sum of all barcode signal\")\n",
    "plt.xlabel(\"no tRNA Summed Intensity\")\n",
    "plt.show()\n",
    "plt.hist(trna_signal_sum, bins=100, range=(0, 50000))\n",
    "plt.title(\"Sum of all barcode signal\")\n",
    "plt.xlabel(\"tRNA Summed Intensity\")\n",
    "plt.show()"
   ]
  },
  {
   "cell_type": "code",
   "execution_count": null,
   "id": "76",
   "metadata": {},
   "outputs": [],
   "source": [
    "fig, axes = plt.subplots(3, 8, figsize=(24, 8))\n",
    "colors = [\"salmon\", \"violet\", \"grey\"]\n",
    "\n",
    "for i in range(24):\n",
    "    row_idx = i // 8\n",
    "    column_idx = i % 8\n",
    "    color = colors[row_idx]\n",
    "    max_val = np.percentile(notrna_high_signal_barcodes[:, i].flatten(), 99)\n",
    "    bins = np.linspace(0, max_val, num=50)\n",
    "    on_arr = notrna_high_signal_barcodes[:, i]\n",
    "    on_frq, on_edges = np.histogram(on_arr, bins)\n",
    "    ttl_frq = np.sum(on_frq)\n",
    "    on_frq = on_frq / ttl_frq\n",
    "\n",
    "    axes[row_idx, column_idx].bar(\n",
    "        on_edges[:-1], on_frq, width=np.diff(on_edges), align=\"edge\", color=\"grey\"\n",
    "    )\n",
    "\n",
    "for i in range(24):\n",
    "    row_idx = i // 8\n",
    "    column_idx = i % 8\n",
    "    color = colors[row_idx]\n",
    "    max_val = np.percentile(trna_high_signal_barcodes[:, i].flatten(), 99)\n",
    "    bins = np.linspace(0, max_val, num=50)\n",
    "    on_arr = trna_high_signal_barcodes[:, i]\n",
    "    on_frq, on_edges = np.histogram(on_arr, bins)\n",
    "    ttl_frq = np.sum(on_frq)\n",
    "    on_frq = on_frq / ttl_frq\n",
    "\n",
    "    axes[row_idx, column_idx].bar(\n",
    "        on_edges[:-1], on_frq, width=np.diff(on_edges), align=\"edge\", color=\"salmon\"\n",
    "    )\n",
    "\n",
    "fig.tight_layout()\n",
    "fig.text(0.5, -0.04, \"Trench Intensity\", ha=\"center\", size=26)\n",
    "fig.text(-0.01, 0.5, \"# Trenches\", va=\"center\", rotation=\"vertical\", size=26)\n",
    "\n",
    "# plt.tick_params(labelcolor='none', top=False, bottom=False, left=False, right=False)\n",
    "# fig.add_subplot(111, frameon=False)\n",
    "\n",
    "# plt.xlabel(\"Intensity\",size=26)\n",
    "# plt.ylabel(\"# Trenches\",size=26)\n",
    "plt.tight_layout()\n",
    "# plt.savefig(\"./2020-07-25_lDE3_Figure_1.png\",dpi=600,bbox_inches=\"tight\")"
   ]
  },
  {
   "cell_type": "code",
   "execution_count": null,
   "id": "77",
   "metadata": {},
   "outputs": [],
   "source": [
    "# fig, axes = plt.subplots(3,8, figsize = (24,8))\n",
    "colors = [\"salmon\", \"violet\", \"grey\"]\n",
    "\n",
    "for i in range(24):\n",
    "    row_idx = i // 8\n",
    "    column_idx = i % 8\n",
    "    color = colors[row_idx]\n",
    "    max_val = np.percentile(trna_high_signal_barcodes[:, i].flatten(), 99)\n",
    "    bins = np.linspace(0, max_val, num=50)\n",
    "    on_arr = trna_high_signal_barcodes[:, i]\n",
    "    on_frq, on_edges = np.histogram(on_arr, bins)\n",
    "    ttl_frq = np.sum(on_frq)\n",
    "    on_frq = on_frq / ttl_frq\n",
    "\n",
    "    axes[row_idx, column_idx].bar(\n",
    "        on_edges[:-1], on_frq, width=np.diff(on_edges), align=\"edge\", color=\"salmon\"\n",
    "    )\n",
    "\n",
    "    fig.tight_layout()\n",
    "\n",
    "fig.text(0.5, -0.04, \"Trench Intensity\", ha=\"center\", size=26)\n",
    "fig.text(-0.01, 0.5, \"# Trenches\", va=\"center\", rotation=\"vertical\", size=26)\n",
    "\n",
    "# plt.tick_params(labelcolor='none', top=False, bottom=False, left=False, right=False)\n",
    "# fig.add_subplot(111, frameon=False)\n",
    "\n",
    "# plt.xlabel(\"Intensity\",size=26)\n",
    "# plt.ylabel(\"# Trenches\",size=26)\n",
    "plt.tight_layout()\n",
    
"# plt.savefig(\"./2020-07-25_lDE3_Figure_1.png\",dpi=600,bbox_inches=\"tight\")"
   ]
  },
  {
   "cell_type": "code",
   "execution_count": null,
   "id": "78",
   "metadata": {},
   "outputs": [],
   "source": [
    "assign_list = []\n",
    "for i in range(24):\n",
    "    assign = get_gmm_hard_assign(high_signal_barcodes[:, i])\n",
    "    assign_list.append(assign)\n",
    "assign_arr = np.array(assign_list, dtype=bool)"
   ]
  },
  {
   "cell_type": "code",
   "execution_count": null,
   "id": "79",
   "metadata": {},
   "outputs": [],
   "source": [
    "signal_filter_thr = get_background_thr(signal_sum, get_background_dist_peak)\n",
    "full_trenches = signal_sum > signal_filter_thr\n",
    "high_signal_barcodes = barcodes[full_trenches]"
   ]
  },
  {
   "cell_type": "code",
   "execution_count": null,
   "id": "80",
   "metadata": {},
   "outputs": [],
   "source": [
    "# trench_group = kymograph_metadata.groupby([\"trenchid\"])\n",
    "notrna_trench_group = notrna_kymograph_metadata.groupby([\"trenchid\"])\n",
    "trna_trench_group = trna_kymograph_metadata.groupby([\"trenchid\"])"
   ]
  },
  {
   "cell_type": "code",
   "execution_count": null,
   "id": "81",
   "metadata": {},
   "outputs": [],
   "source": [
    "barcodes = trench_group.apply(\n",
    "    lambda x: np.array(\n",
    "        x[\"RFP 98th Percentile\"].tolist()\n",
    "        + x[\"Cy5 98th Percentile\"].tolist()\n",
    "        + x[\"Cy7 98th Percentile\"].tolist()\n",
    "    ).astype(float)\n",
    ")\n",
    "short = barcodes.apply(lambda x: len(x) == 24)\n",
    "barcodes = barcodes[short]\n",
    "barcodes = np.array(barcodes.to_list())\n",
    "signal_sum = np.sum(barcodes, axis=1)"
   ]
  },
  {
   "cell_type": "code",
   "execution_count": null,
   "id": "82",
   "metadata": {},
   "outputs": [],
   "source": [
    "plt.hist(signal_sum, bins=100, range=(0, 50000))\n",
    "plt.title(\"Sum of all barcode signal\")\n",
    "plt.xlabel(\"Summed Intensity\")\n",
    "plt.show()"
   ]
  },
  {
   "cell_type": "code",
   "execution_count": null,
   "id": "83",
   "metadata": {},
   "outputs": [],
   "source": [
    "import scipy as sp\n",
    "\n",
    "\n",
    "def get_background_dist(values):\n",
    "    hist_range = (0, np.percentile(values, 60))\n",
    "    freq, val = np.histogram(values, bins=100, range=hist_range)\n",
    "    mu_n = val[np.argmax(freq)]\n",
    "    lower_tail = values[values < mu_n]\n",
    "    std_n = sp.stats.halfnorm.fit(-lower_tail)[1]\n",
    "    return mu_n, std_n\n",
    "\n",
    "\n",
    "def get_background_dist_peak(values):\n",
    "    hist_range = (0, np.percentile(values, 90))\n",
    "    hist_count, hist_vals = np.histogram(values, bins=100, range=hist_range)\n",
    "    peaks = sp.signal.find_peaks(hist_count, distance=20)[0]\n",
    "    mu_n = hist_vals[peaks[0]]\n",
    "    lower_tail = values[values < mu_n]\n",
    "    std_n = sp.stats.halfnorm.fit(-lower_tail)[1]\n",
    "    return mu_n, std_n\n",
    "\n",
    "\n",
    "def get_background_thr(values, background_fn, background_scaling=5.0):\n",
    "    mu_n, std_n = background_fn(values)\n",
    "    back_thr = mu_n + background_scaling * std_n\n",
    "    return back_thr"
   ]
  },
  {
   "cell_type": "code",
   "execution_count": null,
   "id": "84",
   "metadata": {},
   "outputs": [],
   "source": [
    "# signal_filter_thr = sk.filters.threshold_otsu(signal_sum)\n",
    "# signal_filter_thr = get_background_thr(signal_sum)\n",
    "signal_filter_thr = get_background_thr(signal_sum, get_background_dist_peak)\n",
    "full_trenches = signal_sum > signal_filter_thr\n",
    "high_signal_barcodes = barcodes[full_trenches]"
   ]
  },
  {
   "cell_type": "code",
   "execution_count": null,
   "id": "85",
   "metadata": {},
   "outputs": [],
   "source": [
    "signal_filter_thr"
   ]
  },
  {
   "cell_type": "code",
   "execution_count": null,
   "id": "86",
   "metadata": {},
   "outputs": [],
   "source": [
    "get_background_dist(high_signal_barcodes[:, 3])"
   ]
  },
  {
   "cell_type": "code",
   "execution_count": null,
   "id": "87",
   "metadata": {},
   "outputs": [],
   "source": [
    "all_bkd_thr = np.array(\n",
    "    [\n",
    "        get_background_thr(high_signal_barcodes[:, i], get_background_dist_peak)\n",
    "        for i in range(high_signal_barcodes.shape[1])\n",
    "    ]\n",
    ")\n",
    "all_tri_thr = np.array(\n",
    "    [\n",
    "        sk.filters.threshold_triangle(high_signal_barcodes[:, i])\n",
    "        for i in range(high_signal_barcodes.shape[1])\n",
    "    ]\n",
    ")"
   ]
  },
  {
   "cell_type": "markdown",
   "id": "88",
   "metadata": {},
   "source": [
    "#### GMM\n",
    "\n",
    "Testing gaussian mixture model"
   ]
  },
  {
   "cell_type": "code",
   "execution_count": null,
   "id": "89",
   "metadata": {},
   "outputs": [],
   "source": [
    "import sklearn as skl\n",
    "import sklearn.mixture"
   ]
  },
  {
   "cell_type": "code",
   "execution_count": null,
   "id": "90",
   "metadata": {},
   "outputs": [],
   "source": [
    "idx = 1\n",
    "bics = []\n",
    "for n in range(1, 6):\n",
    "    gmm = skl.mixture.GaussianMixture(n_components=n, n_init=10)\n",
    "    gmm.fit(high_signal_barcodes[:, idx].reshape(-1, 1))\n",
    "    bic = gmm.bic(high_signal_barcodes[:, idx].reshape(-1, 1)) / len(\n",
    "        high_signal_barcodes[:, idx]\n",
    "    )\n",
    "    bics.append(bic)\n",
    "\n",
    "del_bics = []\n",
    "for i in range(len(bics) - 1):\n",
    "    delbic = bics[i + 1] - bics[i]\n",
    "    del_bics.append(abs(delbic))"
   ]
  },
  {
   "cell_type": "code",
   "execution_count": null,
   "id": "91",
   "metadata": {},
   "outputs": [],
   "source": [
    "plt.plot(\n",
    "    del_bics,\n",
    ")\n",
    "plt.show()"
   ]
  },
  {
   "cell_type": "code",
   "execution_count": null,
   "id": "92",
   "metadata": {},
   "outputs": [],
   "source": [
    "del_bics = []\n",
    "for i in range(len(bics) - 1):\n",
    "    delbic = bics[i + 1] - bics[i]\n",
    "    del_bics.append(delbic)\n",
    "perc_dels = []\n",
    "for i in range(1, len(del_bics)):\n",
    "    perc_del = del_bics[i] / del_bics[i - 1]\n",
    "    perc_dels.append(perc_del)"
   ]
  },
  {
   "cell_type": "code",
   "execution_count": null,
   "id": "93",
   "metadata": {},
   "outputs": [],
   "source": [
    "perc_dels"
   ]
  },
  {
   "cell_type": "code",
   "execution_count": null,
   "id": "94",
   "metadata": {},
   "outputs": [],
   "source": [
    "gmm.bic(high_signal_barcodes[:, 12].reshape(-1, 1))"
   ]
  },
  {
   "cell_type": "code",
   "execution_count": null,
   "id": "95",
   "metadata": {},
   "outputs": [],
   "source": [
    "def get_gmm_params(values):\n",
    "    gmm = skl.mixture.GaussianMixture(n_components=2, n_init=10)\n",
    "    gmm.fit(values.reshape(-1, 1))\n",
    "    #     probs = gmm.predict_proba(values.reshape(-1,1))\n",
    "    return gmm.means_, (gmm.covariances_) ** (1 / 2)\n",
    "\n",
    "\n",
    "def get_gmm_hard_assign(values):\n",
    "    gmm = skl.mixture.GaussianMixture(n_components=2, n_init=10)\n",
    "    gmm.fit(values.reshape(-1, 1))\n",
    "    lower_mean_idx = np.argmin(gmm.means_)\n",
    "    assign = gmm.predict(values.reshape(-1, 1))\n",
    "    if lower_mean_idx == 1:\n",
    "        assign = (-assign) + 1\n",
    "    return assign\n",
    "\n",
    "\n",
    "def get_gmm_probs(values):\n",
    "    gmm = skl.mixture.GaussianMixture(n_components=2, n_init=10)\n",
    "    gmm.fit(values.reshape(-1, 1))\n",
    "    probs = gmm.predict_proba(values.reshape(-1, 1))\n",
    "    return probs"
   ]
  },
  {
   "cell_type": "code",
   "execution_count": null,
   "id": "96",
   "metadata": {},
   "outputs": [],
   "source": [
    "means_list = []\n",
    "for i in range(24):\n",
    "    mean, std = get_gmm_params(high_signal_barcodes[:, i])\n",
    "    means_list.append(mean)"
   ]
  },
  {
   "cell_type": "code",
   "execution_count": null,
   "id": "97",
   "metadata": {},
   "outputs": [],
   "source": [
    "np.array(means_list)[23]"
   ]
  },
  {
   "cell_type": "code",
   "execution_count": null,
   "id": "98",
   "metadata": {},
   "outputs": [],
   "source": [
    "assign_list = []\n",
    "for i in range(24):\n",
    "    assign = get_gmm_hard_assign(high_signal_barcodes[:, i])\n",
    "\n",
    "    #     if i == 0:\n",
    "    #         assign = high_signal_barcodes[:,i]>1500\n",
    "    #     if i == 1:\n",
    "    #         assign = high_signal_barcodes[:,i]>1300\n",
    "    #     if i == 5:\n",
    "    #         assign = high_signal_barcodes[:,i]>2000\n",
    "    #     if i==23: ##CHEAT\n",
    "    #         assign = high_signal_barcodes[:,i]>500\n",
    "    assign_list.append(assign)\n",
    "assign_arr = np.array(assign_list, dtype=bool)"
   ]
  },
  {
   "cell_type": "code",
   "execution_count": null,
   "id": "99",
   "metadata": {},
   "outputs": [],
   "source": [
    "assign_arr"
   ]
  },
  {
   "cell_type": "code",
   "execution_count": null,
   "id": "100",
   "metadata": {},
   "outputs": [],
   "source": [
    "probs_list = []\n",
    "for i in range(24):\n",
    "    prob = get_gmm_probs(high_signal_barcodes[:, i])\n",
    "    probs_list.append(prob[:,])\n",
    "probs_arr = np.array(probs_list, dtype=float)"
   ]
  },
  {
   "cell_type": "code",
   "execution_count": null,
   "id": "101",
   "metadata": {},
   "outputs": [],
   "source": [
    "probs_arr.shape"
   ]
  },
  {
   "cell_type": "code",
   "execution_count": null,
   "id": "102",
   "metadata": {},
   "outputs": [],
   "source": [
    "bit_idx = 20\n",
    "on_arr = high_signal_barcodes[:, bit_idx][assign_arr[bit_idx]]\n",
    "off_arr = high_signal_barcodes[:, bit_idx][~assign_arr[bit_idx]]\n",
    "max_val = np.percentile(high_signal_barcodes[:, bit_idx].flatten(), 99)\n",
    "plt.hist(on_arr, range=(0, max_val), bins=100)\n",
    "plt.hist(off_arr, range=(0, max_val), bins=100)\n",
    "plt.show()"
   ]
  },
  {
   "cell_type": "markdown",
   "id": "103",
   "metadata": {},
   "source": [
    "#### Codebook"
   ]
  },
  {
   "cell_type": "code",
   "execution_count": null,
   "id": "104",
   "metadata": {},
   "outputs": [],
   "source": [
    "codebook = pd.read_csv(\"./Probes.csv\")[10:40][[\"Oligo Name\", \"Sequence\"]]\n",
    "codebook = {i: item for i, item in enumerate(codebook[\"Sequence\"])}"
   ]
  },
  {
   "cell_type": "code",
   "execution_count": null,
   "id": "105",
   "metadata": {},
   "outputs": [],
   "source": [
    "codebook"
   ]
  },
  {
   "cell_type": "code",
   "execution_count": null,
   "id": "106",
   "metadata": {},
   "outputs": [],
   "source": [
    "from Bio import Seq, SeqIO, SeqRecord\n",
    "from Bio.Blast import NCBIXML"
   ]
  },
  {
   "cell_type": "code",
   "execution_count": null,
   "id": "107",
   "metadata": {},
   "outputs": [],
   "source": [
    "record_list = []\n",
    "for key, val in codebook.items():\n",
    "    record_list.append(SeqRecord.SeqRecord(Seq.Seq(val), id=str(key), name=str(key)))"
   ]
  },
  {
   "cell_type": "code",
   "execution_count": null,
   "id": "108",
   "metadata": {},
   "outputs": [],
   "source": [
    "with open(\"bits.fasta\", \"w\") as output_handle:\n",
    "    SeqIO.write(record_list, output_handle, \"fasta\")"
   ]
  },
  {
   "cell_type": "markdown",
   "id": "109",
   "metadata": {},
   "source": [
    "In terminal ran:\n",
    "\n",
    "```\n",
    "module load blast\n",
    "makeblastdb -in consensus.fasta -dbtype nucl -out consensus.db\n",
    "blastn –db consensus.db –query bits.fasta –out results.out  \n",
    "```"
   ]
  },
  {
   "cell_type": "code",
   "execution_count": null,
   "id": "110",
   "metadata": {},
   "outputs": [],
   "source": [
    "E_VALUE_THRESH = 10**-5\n",
    "\n",
    "strain_bits = {i: [] for i in range(30)}\n",
    "all_blast_records = []\n",
    "with open(\"results.out\") as result_handle:\n",
    "    blast_records = NCBIXML.parse(result_handle)\n",
    "    for blast_record in blast_records:\n",
    "        for alignment in blast_record.alignments:\n",
    "            for hsp in alignment.hsps:\n",
    "                if hsp.expect < E_VALUE_THRESH:\n",
    "                    bit_id = blast_record.query.split(\" \")[0]\n",
    "                    strain_id = (\n",
    "                        alignment.title.split(\"|\")[2].split(\" \")[5].split(\"_\")[1]\n",
    "                    )\n",
    "                    strain_bits[int(strain_id)].append(int(bit_id))\n",
    "strain_bits = {key: val for key, val in strain_bits.items() if len(val) > 0}\n",
    "strain_bits = {\n",
    "    key: val\n",
    "    for key, val in strain_bits.items()\n",
    "    if key in [5, 6, 7, 8, 10, 13, 17, 19, 23, 24]\n",
    "}"
   ]
  },
  {
   "cell_type": "code",
   "execution_count": null,
   "id": "111",
   "metadata": {},
   "outputs": [],
   "source": [
    "strain_bits"
   ]
  },
  {
   "cell_type": "code",
   "execution_count": null,
   "id": "112",
   "metadata": {},
   "outputs": [],
   "source": [
    "consensus_bits = {}\n",
    "cycleorder = [\n",
    "    0,\n",
    "    1,\n",
    "    6,\n",
    "    7,\n",
    "    12,\n",
    "    13,\n",
    "    18,\n",
    "    19,\n",
    "    2,\n",
    "    3,\n",
    "    8,\n",
    "    9,\n",
    "    14,\n",
    "    15,\n",
    "    20,\n",
    "    21,\n",
    "    4,\n",
    "    5,\n",
    "    10,\n",
    "    11,\n",
    "    16,\n",
    "    17,\n",
    "    22,\n",
    "    23,\n",
    "]\n",
    "\n",
    "for key, val in strain_bits.items():\n",
    "    bc_arr = np.array([False for i in range(24)])\n",
    "    bc_arr[val] = True\n",
    "    bc_str = list(\n",
    "        np.apply_along_axis(\n",
    "            lambda x: \"\".join(x.astype(int).astype(str)), 0, bc_arr\n",
    "        ).tolist()\n",
    "    )\n",
    "    bc_str = \"\".join([bc_str[i] for i in cycleorder])\n",
    "    consensus_bits[key] = bc_str"
   ]
  },
  {
   "cell_type": "code",
   "execution_count": null,
   "id": "113",
   "metadata": {},
   "outputs": [],
   "source": [
    "consensus_bits"
   ]
  },
  {
   "cell_type": "code",
   "execution_count": null,
   "id": "114",
   "metadata": {},
   "outputs": [],
   "source": [
    "plt.scatter(high_signal_barcodes[:, 0], high_signal_barcodes[:, 2], s=0.1)\n",
    "plt.show()"
   ]
  },
  {
   "cell_type": "code",
   "execution_count": null,
   "id": "115",
   "metadata": {},
   "outputs": [],
   "source": [
    "plt.scatter(high_signal_barcodes[:, 1], high_signal_barcodes[:, 5], s=0.1)\n",
    "plt.show()"
   ]
  },
  {
   "cell_type": "code",
   "execution_count": null,
   "id": "116",
   "metadata": {},
   "outputs": [],
   "source": [
    "ttl_frq = np.sum(on_frq) + np.sum(off_frq)"
   ]
  },
  {
   "cell_type": "code",
   "execution_count": null,
   "id": "117",
   "metadata": {},
   "outputs": [],
   "source": [
    "on_frq"
   ]
  },
  {
   "cell_type": "code",
   "execution_count": null,
   "id": "118",
   "metadata": {},
   "outputs": [],
   "source": [
    "fig, axes = plt.subplots(3, 8, figsize=(24, 8))\n",
    "colors = [\"salmon\", \"violet\", \"grey\"]\n",
    "\n",
    "for i in range(barcodes.shape[1]):\n",
    "    row_idx = i // 8\n",
    "    column_idx = i % 8\n",
    "    color = colors[row_idx]\n",
    "    #     back_thr = all_bkd_thr[i]\n",
    "    #     tri_thr = all_tri_thr[i]\n",
    "    max_val = np.percentile(high_signal_barcodes[:, i].flatten(), 99)\n",
    "    bins = np.linspace(0, max_val, num=50)\n",
    "    on_arr = high_signal_barcodes[:, i][assign_arr[i]]\n",
    "    off_arr = high_signal_barcodes[:, i][~assign_arr[i]]\n",
    "\n",
    "    on_frq, on_edges = np.histogram(on_arr, bins)\n",
    "    off_frq, off_edges = np.histogram(off_arr, bins)\n",
    "    ttl_frq = np.sum(on_frq) + np.sum(off_frq)\n",
    "    on_frq, off_frq = (on_frq / ttl_frq, off_frq / ttl_frq)\n",
    "\n",
    "    axes[row_idx, column_idx].bar(\n",
    "        off_edges[:-1], off_frq, width=np.diff(off_edges), align=\"edge\", color=\"black\"\n",
    "    )\n",
    "    axes[row_idx, column_idx].bar(\n",
    "        on_edges[:-1], on_frq, width=np.diff(on_edges), align=\"edge\", color=color\n",
    "    )\n",
    "\n",
    "    fig.tight_layout()\n",
    "\n",
    "fig.text(0.5, -0.04, \"Trench Intensity\", ha=\"center\", size=26)\n",
    "fig.text(-0.01, 0.5, \"# Trenches\", va=\"center\", rotation=\"vertical\", size=26)\n",
    "\n",
    "# plt.tick_params(labelcolor='none', top=False, bottom=False, left=False, right=False)\n",
    "# fig.add_subplot(111, frameon=False)\n",
    "\n",
    "# plt.xlabel(\"Intensity\",size=26)\n",
    "# plt.ylabel(\"# Trenches\",size=26)\n",
    "plt.tight_layout()\n",
    "# plt.savefig(\"./2020-07-25_lDE3_Figure_1.png\",dpi=600,bbox_inches=\"tight\")"
   ]
  },
  {
   "cell_type": "code",
   "execution_count": null,
   "id": "119",
   "metadata": {},
   "outputs": [],
   "source": [
    "def str_to_bool(string):\n",
    "    code = {\"1\": True, \"0\": False}\n",
    "    conv_str = np.array(list(map(lambda x: code[x], string)))\n",
    "    return conv_str\n",
    "\n",
    "\n",
    "def bool_to_str(integer):\n",
    "    rev_code = {True: \"1\", False: \"0\"}\n",
    "    conv_int = \"\".join(list(map(lambda x: rev_code[x], integer)))\n",
    "    return conv_int\n",
    "\n",
    "\n",
    "consensus_arr = np.array([val for val in consensus_bits.values()])\n",
    "consensus_bool_arr = np.array(list(map(str_to_bool, consensus_arr)), dtype=bool)[:, :]\n",
    "# experiment_bool_arr = np.array(list(map(str_to_bool,str_barcodes)),dtype=int)\n",
    "experiment_bool_arr = assign_arr.T[:, :]\n",
    "\n",
    "hamming_arr = 23 - np.sum(\n",
    "    consensus_bool_arr[:, np.newaxis, :] == experiment_bool_arr[np.newaxis, :, :],\n",
    "    axis=2,\n",
    ")\n",
    "gt_assignment = np.argmin(hamming_arr, axis=0)\n",
    "agreement_arr = ~np.logical_xor(\n",
    "    consensus_bool_arr[gt_assignment].astype(bool), experiment_bool_arr.astype(bool)\n",
    ")\n",
    "error_rates = 1.0 - np.sum(agreement_arr, axis=0) / agreement_arr.shape[0]\n",
    "\n",
    "colors = (8 * [\"salmon\"]) + (8 * [\"violet\"]) + (8 * [\"grey\"])\n",
    "plt.xlabel(\"Bit Number\", size=26)\n",
    "plt.ylabel(\"Error Rate\", size=26)\n",
    "plt.xticks(size=20)\n",
    "plt.yticks(size=20)\n",
    "plt.bar(range(len(error_rates)), error_rates, color=colors)\n",
    "plt.savefig(\"./2020-07-25_lDE3_Figure_2.png\", dpi=600, bbox_inches=\"tight\")\n",
    "plt.tight_layout()\n",
    "plt.show()"
   ]
  },
  {
   "cell_type": "code",
   "execution_count": null,
   "id": "120",
   "metadata": {},
   "outputs": [],
   "source": [
    "sim_sizes = [10, 100, 1000, 10000, 100000]\n",
    "error_rates = []\n",
    "for item in sim_sizes:\n",
    "    simulated_consensus_bool_arr = np.random.choice([True, False], size=(sim_size, 24))\n",
    "    simulated_consensus_bool_arr = np.concatenate(\n",
    "        [simulated_consensus_bool_arr, consensus_bool_arr], axis=0\n",
    "    )\n",
    "    sim_hamming_arr = 24 - np.sum(\n",
    "        simulated_consensus_bool_arr[:, np.newaxis, :]\n",
    "        == experiment_bool_arr[np.newaxis, :, :],\n",
    "        axis=2,\n",
    "    )\n",
    "    sim_assignment = np.argmin(sim_hamming_arr, axis=0)\n",
    "    true_matches = np.sum(sim_assignment == (gt_assignment + sim_size))\n",
    "    assign_err = 1.0 - (true_matches / sim_assignment.shape[0])\n",
    "    error_rates.append(assign_err)"
   ]
  },
  {
   "cell_type": "code",
   "execution_count": null,
   "id": "121",
   "metadata": {},
   "outputs": [],
   "source": [
    "plt.ylim(0.0, 0.05)\n",
    "plt.xlabel(\"Library Size\", size=26)\n",
    "plt.ylabel(\"Error Rate\", size=26)\n",
    "plt.xticks(fontsize=20)\n",
    "plt.yticks(fontsize=20)\n",
    "plt.semilogx(sim_sizes, error_rates, linewidth=5.0)\n",
    "plt.savefig(\"./2020-07-25_lDE3_Figure_3.png\", dpi=600, bbox_inches=\"tight\")"
   ]
  },
  {
   "cell_type": "code",
   "execution_count": null,
   "id": "122",
   "metadata": {},
   "outputs": [],
   "source": [
    "sim_assignment.shape[0]"
   ]
  },
  {
   "cell_type": "code",
   "execution_count": null,
   "id": "123",
   "metadata": {},
   "outputs": [],
   "source": [
    "fig, axes = plt.subplots(3, 8, figsize=(24, 8))\n",
    "colors = [\"salmon\", \"violet\", \"grey\"]\n",
    "\n",
    "for i in range(barcodes.shape[1]):\n",
    "    row_idx = i // 8\n",
    "    column_idx = i % 8\n",
    "    color = colors[row_idx]\n",
    "    back_thr = all_bkd_thr[i]\n",
    "    tri_thr = all_tri_thr[i]\n",
    "\n",
    "    max_val = np.percentile(high_signal_barcodes[:, i].flatten(), 99)\n",
    "    axes[row_idx, column_idx].hist(\n",
    "        high_signal_barcodes[:, i], bins=50, range=(0, max_val), color=color\n",
    "    )\n",
    "    axes[row_idx, column_idx].axvline(back_thr)\n",
    "    axes[row_idx, column_idx].axvline(tri_thr, color=\"red\")\n",
    "    fig.tight_layout()\n",
    "plt.tick_params(labelcolor=\"none\", top=False, bottom=False, left=False, right=False)\n",
    "fig.add_subplot(111, frameon=False)\n",
    "\n",
    "plt.xlabel(\"Intensity\", size=26)\n",
    "plt.ylabel(\"# Trenches\", size=26)\n",
    "plt.savefig(\"./2020-07-25_lDE3_Figure_1.png\", dpi=600)"
   ]
  },
  {
   "cell_type": "code",
   "execution_count": null,
   "id": "124",
   "metadata": {},
   "outputs": [],
   "source": [
    "import h5py"
   ]
  },
  {
   "cell_type": "code",
   "execution_count": null,
   "id": "125",
   "metadata": {},
   "outputs": [],
   "source": [
    "headpath = \"/n/scratch3/users/d/de64/2020-07-25_LDE3/2020-07-25_LDE3\"\n",
    "t = 5\n",
    "\n",
    "t1_meta = kymograph_metadata.xs(t, level=1, drop_level=False)\n",
    "selected_trenches = t1_meta[\n",
    "    (t1_meta[\"RFP 90th Percentile\"] > 1500) & (t1_meta[\"RFP 90th Percentile\"] < 3500)\n",
    "]\n",
    "subsample = selected_trenches.sample(n=30, replace=False)\n",
    "\n",
    "example_imgs = []\n",
    "for row in subsample.iterrows():\n",
    "    file_idx = row[1][\"File Index\"]\n",
    "    file_trench_idx = row[1][\"File Trench Index\"]\n",
    "    with h5py.File(\n",
    "        headpath + \"/kymograph/kymograph_\" + str(file_idx) + \".hdf5\", \"r\"\n",
    "    ) as infile:\n",
    "        example_imgs.append(infile[\"RFP\"][file_trench_idx, t])\n",
    "example_img_arr = np.array(example_imgs)\n",
    "kyhand = tr.kymo_handle()\n",
    "kyhand.import_wrap(example_img_arr)\n",
    "plt.imshow(kyhand.return_unwrap())\n",
    "plt.show()"
   ]
  },
  {
   "cell_type": "code",
   "execution_count": null,
   "id": "126",
   "metadata": {},
   "outputs": [],
   "source": [
    "headpath = \"/n/scratch3/users/d/de64/2020-07-25_LDE3/2020-07-25_LDE3\"\n",
    "t = 5\n",
    "\n",
    "t1_meta = kymograph_metadata.xs(t, level=1, drop_level=False)\n",
    "selected_trenches = t1_meta[(t1_meta[\"RFP 90th Percentile\"] > 4000)]\n",
    "subsample = selected_trenches.sample(n=30, replace=False)\n",
    "\n",
    "example_imgs = []\n",
    "for row in subsample.iterrows():\n",
    "    file_idx = row[1][\"File Index\"]\n",
    "    file_trench_idx = row[1][\"File Trench Index\"]\n",
    "    with h5py.File(\n",
    "        headpath + \"/kymograph/kymograph_\" + str(file_idx) + \".hdf5\", \"r\"\n",
    "    ) as infile:\n",
    "        example_imgs.append(infile[\"RFP\"][file_trench_idx, t])\n",
    "example_img_arr = np.array(example_imgs)\n",
    "kyhand = tr.kymo_handle()\n",
    "kyhand.import_wrap(example_img_arr)\n",
    "plt.imshow(kyhand.return_unwrap())\n",
    "plt.show()"
   ]
  },
  {
   "cell_type": "code",
   "execution_count": null,
   "id": "127",
   "metadata": {},
   "outputs": [],
   "source": [
    "kyhand = tr.kymo_handle()\n",
    "kyhand.import_wrap(example_img_arr)"
   ]
  },
  {
   "cell_type": "code",
   "execution_count": null,
   "id": "128",
   "metadata": {},
   "outputs": [],
   "source": [
    "plt.imshow(kyhand.return_unwrap())"
   ]
  },
  {
   "cell_type": "code",
   "execution_count": null,
   "id": "129",
   "metadata": {},
   "outputs": [],
   "source": [
    "file_idx"
   ]
  },
  {
   "cell_type": "code",
   "execution_count": null,
   "id": "130",
   "metadata": {},
   "outputs": [],
   "source": [
    "file_trench_idx"
   ]
  },
  {
   "cell_type": "markdown",
   "id": "131",
   "metadata": {},
   "source": [
    "### Using Background Model"
   ]
  },
  {
   "cell_type": "code",
   "execution_count": null,
   "id": "132",
   "metadata": {},
   "outputs": [],
   "source": [
    "all_perc_pos = []\n",
    "for i in range(high_signal_barcodes.shape[1]):\n",
    "    num_pos = np.sum((high_signal_barcodes[:, i].flatten()) > all_bkd_thr[i])\n",
    "    ttl_num = len(high_signal_barcodes[:, i].flatten())\n",
    "    perc_pos = num_pos / ttl_num\n",
    "    all_perc_pos.append(perc_pos)"
   ]
  },
  {
   "cell_type": "code",
   "execution_count": null,
   "id": "133",
   "metadata": {},
   "outputs": [],
   "source": [
    "colors = (8 * [\"salmon\"]) + (8 * [\"violet\"]) + (8 * [\"grey\"])\n",
    "plt.xlabel(\"Bit Number\", size=26)\n",
    "plt.ylabel(\"Percent Positive\", size=26)\n",
    "plt.xticks(size=20)\n",
    "plt.yticks(size=20)\n",
    "plt.bar(range(len(all_perc_pos)), all_perc_pos, color=colors)\n",
    "plt.savefig(\"./2020-07-25_lDE3_Figure_2.png\", dpi=600)"
   ]
  },
  {
   "cell_type": "code",
   "execution_count": null,
   "id": "134",
   "metadata": {},
   "outputs": [],
   "source": [
    "binary_barcodes = high_signal_barcodes > all_bkd_thr[np.newaxis, :]\n",
    "str_barcodes = np.apply_along_axis(\n",
    "    lambda x: \"\".join(x.astype(int).astype(str)), 1, binary_barcodes\n",
    ")\n",
    "unique, counts = np.unique(str_barcodes, return_counts=True)"
   ]
  },
  {
   "cell_type": "code",
   "execution_count": null,
   "id": "135",
   "metadata": {},
   "outputs": [],
   "source": [
    "plt.hist(counts, range=(1, 9), bins=9, log=True)\n",
    "plt.ylabel(\"# Barcodes\", size=26)\n",
    "plt.xlabel(\"# Appearances of Barcode\", size=26)\n",
    "plt.xticks(size=20)\n",
    "plt.yticks(size=20)\n",
    "plt.savefig(\"./2020-07-23_lDE2_Figure_3.png\", dpi=600)"
   ]
  },
  {
   "cell_type": "code",
   "execution_count": null,
   "id": "136",
   "metadata": {},
   "outputs": [],
   "source": [
    "def str_to_bool(string):\n",
    "    code = {\"1\": True, \"0\": False}\n",
    "    conv_str = np.array(list(map(lambda x: code[x], string)))\n",
    "    return conv_str\n",
    "\n",
    "\n",
    "def bool_to_str(integer):\n",
    "    rev_code = {True: \"1\", False: \"0\"}\n",
    "    conv_int = \"\".join(list(map(lambda x: rev_code[x], integer)))\n",
    "    return conv_int\n",
    "\n",
    "\n",
    "consensus_arr = np.array([val for val in consensus_bits.values()])\n",
    "consensus_bool_arr = np.array(list(map(str_to_bool, consensus_arr)), dtype=bool)[:, :23]\n",
    "simulated_consensus_bool_arr = np.random.choice([True, False], size=(100000, 23))\n",
    "simulated_consensus_bool_arr = np.concatenate(\n",
    "    [consensus_bool_arr, simulated_consensus_bool_arr], axis=0\n",
    ")\n",
    "# experiment_bool_arr = np.array(list(map(str_to_bool,str_barcodes)),dtype=int)\n",
    "experiment_bool_arr = assign_arr.T[:1000, :23]\n",
    "\n",
    "hamming_arr = 23 - np.sum(\n",
    "    consensus_bool_arr[:, np.newaxis, :] == experiment_bool_arr[np.newaxis, :, :],\n",
    "    axis=2,\n",
    ")\n",
    "gt_assignment = np.argmin(hamming_arr, axis=0)\n",
    "agreement_arr = ~np.logical_xor(\n",
    "    consensus_bool_arr[gt_assignment].astype(bool), experiment_bool_arr.astype(bool)\n",
    ")\n",
    "error_rates = 1.0 - np.sum(agreement_arr, axis=0) / agreement_arr.shape[0]\n",
    "\n",
    "colors = (8 * [\"salmon\"]) + (8 * [\"violet\"]) + (8 * [\"grey\"])\n",
    "plt.xlabel(\"Bit Number\", size=26)\n",
    "plt.ylabel(\"Error Rate\", size=26)\n",
    "plt.xticks(size=20)\n",
    "plt.yticks(size=20)\n",
    "plt.bar(range(len(error_rates)), error_rates, color=colors)\n",
    "# plt.savefig(\"./2020-07-25_lDE3_Figure_2.png\",dpi=600)\n",
    "plt.show()"
   ]
  },
  {
   "cell_type": "code",
   "execution_count": null,
   "id": "137",
   "metadata": {},
   "outputs": [],
   "source": [
    "sim_hamming_arr = 23 - np.sum(\n",
    "    simulated_consensus_bool_arr[:, np.newaxis, :]\n",
    "    == experiment_bool_arr[np.newaxis, :, :],\n",
    "    axis=2,\n",
    ")\n",
    "sim_assignment = np.argmin(sim_hamming_arr, axis=0)\n",
    "true_matches = np.sum(sim_assignment == gt_assignment)\n",
    "assign_err = 1.0 - (true_matches / sim_assignment.shape[0])"
   ]
  },
  {
   "cell_type": "code",
   "execution_count": null,
   "id": "138",
   "metadata": {},
   "outputs": [],
   "source": [
    "plt.hist(np.min(hamming_arr, axis=0), bins=10, range=(0, 9))\n",
    "plt.show()"
   ]
  },
  {
   "cell_type": "code",
   "execution_count": null,
   "id": "139",
   "metadata": {},
   "outputs": [],
   "source": [
    "plt.hist(\n",
    "    (\n",
    "        23\n",
    "        - np.sum(\n",
    "            consensus_bool_arr[:, np.newaxis, :]\n",
    "            == consensus_bool_arr[np.newaxis, :, :],\n",
    "            axis=2,\n",
    "        )\n",
    "    ).flatten(),\n",
    "    bins=22,\n",
    "    range=(1, 22),\n",
    ")\n",
    "plt.show()"
   ]
  },
  {
   "cell_type": "code",
   "execution_count": null,
   "id": "140",
   "metadata": {},
   "outputs": [],
   "source": [
    "perc_pos = np.sum(experiment_bool_arr, axis=0) / experiment_bool_arr.shape[0]\n",
    "\n",
    "colors = (8 * [\"salmon\"]) + (8 * [\"violet\"]) + (8 * [\"grey\"])\n",
    "plt.xlabel(\"Bit Number\", size=26)\n",
    "plt.ylabel(\"Perc Pos\", size=26)\n",
    "plt.xticks(size=20)\n",
    "plt.yticks(size=20)\n",
    "plt.bar(range(len(perc_pos)), perc_pos, color=colors)\n",
    "# plt.savefig(\"./2020-07-25_lDE3_Figure_2.png\",dpi=600)\n",
    "plt.show()"
   ]
  },
  {
   "cell_type": "code",
   "execution_count": null,
   "id": "141",
   "metadata": {},
   "outputs": [],
   "source": [
    "perc_pos = np.sum(consensus_bool_arr, axis=0) / consensus_bool_arr.shape[0]\n",
    "\n",
    "colors = (8 * [\"salmon\"]) + (8 * [\"violet\"]) + (8 * [\"grey\"])\n",
    "plt.xlabel(\"Bit Number\", size=26)\n",
    "plt.ylabel(\"Perc Pos\", size=26)\n",
    "plt.xticks(size=20)\n",
    "plt.yticks(size=20)\n",
    "plt.bar(range(len(perc_pos)), perc_pos, color=colors)\n",
    "# plt.savefig(\"./2020-07-25_lDE3_Figure_2.png\",dpi=600)\n",
    "plt.show()"
   ]
  },
  {
   "cell_type": "markdown",
   "id": "142",
   "metadata": {},
   "source": [
    "### Probabilistic assignment"
   ]
  },
  {
   "cell_type": "code",
   "execution_count": null,
   "id": "143",
   "metadata": {},
   "outputs": [],
   "source": [
    "consensus_bool_arr[]"
   ]
  },
  {
   "cell_type": "code",
   "execution_count": null,
   "id": "144",
   "metadata": {},
   "outputs": [],
   "source": [
    "experiment_bool_arr.shape"
   ]
  },
  {
   "cell_type": "code",
   "execution_count": null,
   "id": "145",
   "metadata": {},
   "outputs": [],
   "source": [
    "experiment_bool_arr"
   ]
  },
  {
   "cell_type": "code",
   "execution_count": null,
   "id": "146",
   "metadata": {},
   "outputs": [],
   "source": [
    "consensus_bool_arr"
   ]
  },
  {
   "cell_type": "markdown",
   "id": "147",
   "metadata": {},
   "source": [
    "The columns of the dataframe are as follows:\n",
    "\n",
    " - **trenchid** : A unique ID assigned to each trench in the dataset.\n",
    " \n",
    " - **timepoints** : The timepoint the crop was collected.\n",
    " \n",
    " - **fov** : The FOV in which this crop originated.\n",
    " \n",
    " - **row** : The trench row in which this crop originated, defined within an FOV.\n",
    " \n",
    " - **trench** : The trench number in which this crop originated, defined within a row.\n",
    " \n",
    " - **time (s)** : The time (in seconds) from the experiment start in which this crop was recorded.\n",
    " \n",
    " - **lane orientation** : The orientation of the crop (top: trench opening facing down, bottom: trench opening facing up).\n",
    " \n",
    " - **y (local)** : Y position (in microns) of the top-left pixel of the crop.\n",
    " \n",
    " - **x (local)** : X position (in microns) of the top-left pixel of the crop.\n",
    " \n",
    " - **y (global)** : Y position (in microns) of the top-left pixel of the crop, defined globally using the stage metadata.\n",
    " \n",
    " - **x (global)** : X position (in microns) of the top-left pixel of the crop, defined globally using the stage metadata.\n",
    " \n",
    " - **File Index** : The file index in which this data is stored. Filenames of the form 'kymograph_{File Index}.hdf5\n",
    " \n",
    " - **File Trench Index** : The file trench index in which this data is stored. Accessible using the k index of the (k,t,y,x) array in each file.\n"
   ]
  },
  {
   "cell_type": "code",
   "execution_count": null,
   "id": "148",
   "metadata": {},
   "outputs": [],
   "source": [
    "kymograph_metadata"
   ]
  },
  {
   "cell_type": "markdown",
   "id": "149",
   "metadata": {},
   "source": [
    "Entries in the dataframe may be used to lookup specific pieces of data in the kymograph crops. For instance,<br>\n",
    "to find a Phase image of the kymograph at file index 26 and File Trench Index 14, you would open the file<br>\n",
    "`headpath/kymograph/kymograph_25.hdf5`, access the key `Phase` and access index 14 of the 1st array <br>\n",
    "dimension `array[14]`."
   ]
  },
  {
   "cell_type": "code",
   "execution_count": null,
   "id": "150",
   "metadata": {},
   "outputs": [],
   "source": [
    "import h5py\n",
    "from matplotlib import pyplot as plt\n",
    "\n",
    "with h5py.File(headpath + \"/kymograph/kymograph_25.hdf5\") as infile:\n",
    "    data = infile[\"Phase\"][14]\n",
    "\n",
    "plt.imshow(data[0], cmap=\"Greys_r\")\n",
    "plt.show()"
   ]
  },
  {
   "cell_type": "markdown",
   "id": "151",
   "metadata": {},
   "source": [
    "## Fluorescence Segmentation\n",
    "\n",
    "Now that you have copped your data into kymographs, we will now perform segmentation/cell detection <br>\n",
    "on your kymographs. Currently, this pipeline only supports segmentation of fluorescence images; however, <br>\n",
    "segmentation of transmitted light imaging techniques is in development.\n",
    "\n",
    "The output of this step will be a set of `segmentation_[File #].hdf5` files stored in `headpath/fluorsegmentation`.<br>\n",
    "The image data stored in these files takes the exact same form as the kymograph data, `(K,T,Y,X)` arrays <br>\n",
    "where K is the trench index, T is time, and Y,X are the crop dimensions. These arrays are accessible using <br>\n",
    "keys of the form `\"[Trench Row Number]\"`.\n",
    "\n",
    "Since no metadata is generated by this step, it is possible to use another segmentation algorithm on the kymograph <br>\n",
    "data. The output of segmentation must be split into `segmentation_[File #].hdf5` files, where `[File #]` agrees with the<br>\n",
    "corresponding `kymograph_[File #].hdf5` file. Additionally, the `(K,T,Y,X)` arrays must be of the same shape as the <br>\n",
    "kymograph arrays and accessible at the corresponding `\"[Trench Row Number]\"` key. These files must be placed into <br>\n",
    "their own folder at `headpath/foldername`. This folder may then be used in later steps."
   ]
  },
  {
   "cell_type": "markdown",
   "id": "152",
   "metadata": {},
   "source": [
    "[ '/n/scratch3/users/d/de64/190917_20x_phase_gfp_segmentation002',\n",
    " '/n/scratch3/users/d/de64/190922_20x_phase_gfp_segmentation',\n",
    " '/n/scratch3/users/d/de64/190925_20x_phase_yfp_segmentation',\n",
    " '/n/scratch3/users/d/de64/ezrdm\\\\ training\\\\ sb7',\n",
    " '/n/scratch3/users/d/de64/mbm\\\\ training\\\\ sb7',\n",
    " '/n/scratch3/users/d/de64/Sb7_L35',\n",
    " '/n/scratch3/users/d/de64/MM_DVCvecto_TOP_1_9',\n",
    " '/n/scratch3/users/d/de64/Vibrio_2_1_TOP',\n",
    " '/n/scratch3/users/d/de64/Vibrio_A_B_VZRDM--04--RUN_80ms',\n",
    " '/n/scratch3/users/d/de64/RpoSOutliers_WT_hipQ_100X',\n",
    " '/n/scratch3/users/d/de64/Main_Experiment',\n",
    " '/n/scratch3/users/d/de64/bde17_gotime']"
   ]
  },
  {
   "cell_type": "code",
   "execution_count": null,
   "id": "153",
   "metadata": {},
   "outputs": [],
   "source": [
    "import warnings\n",
    "\n",
    "import paulssonlab.deaton.trenchripper.trenchripper as tr\n",
    "\n",
    "warnings.filterwarnings(action=\"once\")\n",
    "\n",
    "import matplotlib\n",
    "\n",
    "matplotlib.rcParams[\"figure.figsize\"] = [20, 10]"
   ]
  },
  {
   "cell_type": "code",
   "execution_count": null,
   "id": "154",
   "metadata": {},
   "outputs": [],
   "source": [
    "headpath = \"/n/scratch3/users/d/de64/MM_DVCvecto_TOP_1_9/MM_DVCvecto_TOP_1_9\""
   ]
  },
  {
   "cell_type": "markdown",
   "id": "155",
   "metadata": {},
   "source": [
    "### Test Parameters"
   ]
  },
  {
   "cell_type": "markdown",
   "id": "156",
   "metadata": {},
   "source": [
    "##### Initialize the interactive segmentation class\n",
    "\n",
    "As a first step, initialize the `tr.fluo_segmentation_interactive` class that will be handling all steps of generating a segmentation. "
   ]
  },
  {
   "cell_type": "code",
   "execution_count": null,
   "id": "157",
   "metadata": {},
   "outputs": [],
   "source": [
    "interactive_segmentation = tr.fluo_segmentation_interactive(headpath)"
   ]
  },
  {
   "cell_type": "markdown",
   "id": "158",
   "metadata": {},
   "source": [
    "##### Choose channel to segment on"
   ]
  },
  {
   "cell_type": "code",
   "execution_count": null,
   "id": "159",
   "metadata": {},
   "outputs": [],
   "source": [
    "interactive_segmentation.choose_seg_channel_inter()"
   ]
  },
  {
   "cell_type": "markdown",
   "id": "160",
   "metadata": {},
   "source": [
    "#### Import data\n",
    "\n",
    "Fill in \n",
    "\n",
    "You will need to tune the following `args` and `kwargs` (in order):\n",
    "\n",
    "**fov_idx (int)** :\n",
    "\n",
    "**n_trenches (int)** :\n",
    "\n",
    "**t_range (tuple)** :\n",
    "\n",
    "**t_subsample_step (int)** :"
   ]
  },
  {
   "cell_type": "code",
   "execution_count": null,
   "id": "161",
   "metadata": {},
   "outputs": [],
   "source": [
    "interactive_segmentation.import_array_inter()"
   ]
  },
  {
   "cell_type": "markdown",
   "id": "162",
   "metadata": {},
   "source": [
    "##### Process data"
   ]
  },
  {
   "cell_type": "code",
   "execution_count": null,
   "id": "163",
   "metadata": {},
   "outputs": [],
   "source": [
    "interactive_segmentation.plot_processed_inter()"
   ]
  },
  {
   "cell_type": "markdown",
   "id": "164",
   "metadata": {},
   "source": [
    "#### Determine Cell Mask Envelope\n",
    "\n",
    "Fill in.\n",
    "\n",
    "You will need to tune the following `args` and `kwargs` (in order):\n",
    "\n",
    "**cell_mask_method (str)** : Thresholding method, can be a local or global Otsu threshold.\n",
    "\n",
    "**cell_otsu_scaling (float)** : Scaling factor applied to determined threshold.\n",
    "\n",
    "**local_otsu_r (int)** : Radius of thresholding kernel used in the local otsu thresholding."
   ]
  },
  {
   "cell_type": "code",
   "execution_count": null,
   "id": "165",
   "metadata": {},
   "outputs": [],
   "source": [
    "interactive_segmentation.plot_cell_mask_inter()"
   ]
  },
  {
   "cell_type": "code",
   "execution_count": null,
   "id": "166",
   "metadata": {},
   "outputs": [],
   "source": [
    "interactive_segmentation.plot_eig_mask_inter()"
   ]
  },
  {
   "cell_type": "code",
   "execution_count": null,
   "id": "167",
   "metadata": {},
   "outputs": [],
   "source": [
    "interactive_segmentation.plot_dist_mask_inter()"
   ]
  },
  {
   "cell_type": "code",
   "execution_count": null,
   "id": "168",
   "metadata": {},
   "outputs": [],
   "source": [
    "interactive_segmentation.plot_marker_mask_inter()"
   ]
  },
  {
   "cell_type": "code",
   "execution_count": null,
   "id": "169",
   "metadata": {},
   "outputs": [],
   "source": [
    "interactive_segmentation.process_results()"
   ]
  },
  {
   "cell_type": "code",
   "execution_count": null,
   "id": "170",
   "metadata": {},
   "outputs": [],
   "source": [
    "interactive_segmentation.write_param_file()"
   ]
  },
  {
   "cell_type": "markdown",
   "id": "171",
   "metadata": {},
   "source": [
    "### Generate Segmentation"
   ]
  },
  {
   "cell_type": "markdown",
   "id": "172",
   "metadata": {},
   "source": [
    "['/n/scratch3/users/d/de64/ezrdm_training_sb7',\n",
    " '/n/scratch3/users/d/de64/mbm_training_sb7',\n",
    " '/n/scratch3/users/d/de64/Sb7_L35',\n",
    " '/n/scratch3/users/d/de64/MM_DVCvecto_TOP_1_9',\n",
    " '/n/scratch3/users/d/de64/Vibrio_2_1_TOP',\n",
    " '/n/scratch3/users/d/de64/Vibrio_A_B_VZRDM--04--RUN_80ms',\n",
    " '/n/scratch3/users/d/de64/RpoSOutliers_WT_hipQ_100X',\n",
    " '/n/scratch3/users/d/de64/Main_Experiment',\n",
    " '/n/scratch3/users/d/de64/bde17_gotime']"
   ]
  },
  {
   "cell_type": "code",
   "execution_count": null,
   "id": "173",
   "metadata": {},
   "outputs": [],
   "source": [
    "headpath = \"/n/scratch3/users/d/de64/MM_DVCvecto_TOP_1_9/MM_DVCvecto_TOP_1_9\""
   ]
  },
  {
   "cell_type": "markdown",
   "id": "174",
   "metadata": {},
   "source": [
    "#### Start Dask Workers"
   ]
  },
  {
   "cell_type": "code",
   "execution_count": null,
   "id": "175",
   "metadata": {},
   "outputs": [],
   "source": [
    "dask_controller = tr.trcluster.dask_controller(\n",
    "    walltime=\"01:00:00\",\n",
    "    local=False,\n",
    "    n_workers=30,\n",
    "    memory=\"2GB\",\n",
    "    working_directory=headpath + \"/dask\",\n",
    ")\n",
    "dask_controller.startdask()"
   ]
  },
  {
   "cell_type": "code",
   "execution_count": null,
   "id": "176",
   "metadata": {},
   "outputs": [],
   "source": [
    "dask_controller.displaydashboard()"
   ]
  },
  {
   "cell_type": "code",
   "execution_count": null,
   "id": "177",
   "metadata": {},
   "outputs": [],
   "source": [
    "segment = tr.segment.fluo_segmentation_cluster(headpath, paramfile=True)"
   ]
  },
  {
   "cell_type": "code",
   "execution_count": null,
   "id": "178",
   "metadata": {},
   "outputs": [],
   "source": [
    "segment.dask_segment(dask_controller)"
   ]
  },
  {
   "cell_type": "markdown",
   "id": "179",
   "metadata": {},
   "source": [
    "#### Stop Dask Workers"
   ]
  },
  {
   "cell_type": "code",
   "execution_count": null,
   "id": "180",
   "metadata": {},
   "outputs": [],
   "source": [
    "dask_controller.shutdown()"
   ]
  },
  {
   "cell_type": "markdown",
   "id": "181",
   "metadata": {},
   "source": [
    "## Lineage Tracing"
   ]
  },
  {
   "cell_type": "markdown",
   "id": "182",
   "metadata": {},
   "source": [
    "### Test Parameters"
   ]
  },
  {
   "cell_type": "code",
   "execution_count": null,
   "id": "183",
   "metadata": {},
   "outputs": [],
   "source": [
    "score_function = tr.tracking.scorefn(\n",
    "    headpath,\n",
    "    \"fluorsegmentation\",\n",
    "    u_size=0.22,\n",
    "    sig_size=0.08,\n",
    "    u_pos=0.21,\n",
    "    sig_pos=0.1,\n",
    "    w_merge=0.8,\n",
    ")"
   ]
  },
  {
   "cell_type": "code",
   "execution_count": null,
   "id": "184",
   "metadata": {},
   "outputs": [],
   "source": [
    "score_function.interactive_scorefn()"
   ]
  },
  {
   "cell_type": "code",
   "execution_count": null,
   "id": "185",
   "metadata": {},
   "outputs": [],
   "source": [
    "Tracking_Solver = tr.tracking.tracking_solver(\n",
    "    headpath,\n",
    "    \"fluorsegmentation\",\n",
    "    ScoreFn=score_function,\n",
    "    edge_limit=2,\n",
    ")\n",
    "data, orientation = score_function.output.result"
   ]
  },
  {
   "cell_type": "code",
   "execution_count": null,
   "id": "186",
   "metadata": {},
   "outputs": [],
   "source": [
    "Tracking_Solver.interactive_tracking(data, orientation)"
   ]
  },
  {
   "cell_type": "code",
   "execution_count": null,
   "id": "187",
   "metadata": {},
   "outputs": [],
   "source": [
    "Tracking_Solver.save_params()"
   ]
  },
  {
   "cell_type": "markdown",
   "id": "188",
   "metadata": {},
   "source": [
    "### Generate Lineage Traces"
   ]
  },
  {
   "cell_type": "code",
   "execution_count": null,
   "id": "189",
   "metadata": {},
   "outputs": [],
   "source": [
    "dask_controller = tr.trcluster.dask_controller(\n",
    "    walltime=\"01:00:00\",\n",
    "    local=False,\n",
    "    n_workers=30,\n",
    "    memory=\"4GB\",\n",
    "    working_directory=headpath + \"/dask\",\n",
    ")\n",
    "dask_controller.startdask()"
   ]
  },
  {
   "cell_type": "code",
   "execution_count": null,
   "id": "190",
   "metadata": {},
   "outputs": [],
   "source": [
    "dask_controller.displaydashboard()"
   ]
  },
  {
   "cell_type": "code",
   "execution_count": null,
   "id": "191",
   "metadata": {},
   "outputs": [],
   "source": [
    "Tracking_Solver = tr.tracking.tracking_solver(\n",
    "    headpath, \"fluorsegmentation\", paramfile=True\n",
    ")"
   ]
  },
  {
   "cell_type": "code",
   "execution_count": null,
   "id": "192",
   "metadata": {},
   "outputs": [],
   "source": [
    "Tracking_Solver.compute_all_lineages(dask_controller)"
   ]
  },
  {
   "cell_type": "code",
   "execution_count": null,
   "id": "193",
   "metadata": {},
   "outputs": [],
   "source": [
    "dask_controller.shutdown()"
   ]
  },
  {
   "cell_type": "markdown",
   "id": "194",
   "metadata": {},
   "source": [
    "## Region Properties (No Lineage)"
   ]
  },
  {
   "cell_type": "code",
   "execution_count": null,
   "id": "195",
   "metadata": {},
   "outputs": [],
   "source": [
    "analyzer = tr.analysis.regionprops_extractor(\n",
    "    headpath, \"fluorsegmentation\", intensity_channel_list=[\"mCherry\", \"YFP\"]\n",
    ")"
   ]
  },
  {
   "cell_type": "code",
   "execution_count": null,
   "id": "196",
   "metadata": {},
   "outputs": [],
   "source": [
    "analyzer.export_all_data()"
   ]
  },
  {
   "cell_type": "markdown",
   "id": "197",
   "metadata": {},
   "source": [
    "## Inspect Kymographs"
   ]
  },
  {
   "cell_type": "code",
   "execution_count": null,
   "id": "198",
   "metadata": {},
   "outputs": [],
   "source": [
    "from ipywidgets import IntSlider, IntText, interactive\n",
    "\n",
    "kyview = tr.analysis.kymograph_viewer(headpath, \"Phase\", \"fluorsegmentation\")"
   ]
  },
  {
   "cell_type": "code",
   "execution_count": null,
   "id": "199",
   "metadata": {},
   "outputs": [],
   "source": [
    "%matplotlib widget\n",
    "kyviewer = interactive(\n",
    "    kyview.inspect_trench,\n",
    "    {\"manual\": True},\n",
    "    file_idx=IntText(value=0, description=\"File Index:\", disabled=False),\n",
    "    trench_idx=IntText(value=0, description=\"Trench Index:\", disabled=False),\n",
    "    x_size=IntSlider(\n",
    "        value=20, description=\"X Size:\", min=0, max=50, step=1, disabled=False\n",
    "    ),\n",
    "    y_size=IntSlider(\n",
    "        value=6, description=\"Y Size:\", min=0, max=30, step=1, disabled=False\n",
    "    ),\n",
    ")\n",
    "display(kyviewer)"
   ]
  },
  {
   "cell_type": "code",
   "execution_count": null,
   "id": "200",
   "metadata": {},
   "outputs": [],
   "source": [
    "interact(\n",
    "    interactive_kymograph.view_image,\n",
    "    fov_idx=IntText(value=0, description=\"FOV number:\", disabled=False),\n",
    "    t=IntSlider(\n",
    "        value=0, min=0, max=timepoints_len - 1, step=1, continuous_update=False\n",
    "    ),\n",
    "    channel=Dropdown(\n",
    "        options=channels, value=channels[0], description=\"Channel:\", disabled=False\n",
    "    ),\n",
    "    invert=Dropdown(options=[True, False], value=False),\n",
    ")"
   ]
  },
  {
   "cell_type": "markdown",
   "id": "201",
   "metadata": {},
   "source": [
    "## Phase Segmentation Training"
   ]
  },
  {
   "cell_type": "markdown",
   "id": "202",
   "metadata": {},
   "source": [
    "### Data Preparation"
   ]
  },
  {
   "cell_type": "code",
   "execution_count": null,
   "id": "203",
   "metadata": {},
   "outputs": [],
   "source": [
    "dataloader = tr.unet.UNet_Training_DataLoader(\n",
    "    nndatapath=\"/n/scratch2/de64/nntest7\",\n",
    "    experimentname=\"First NN\",\n",
    "    trainpath=\"/n/scratch2/de64/2019-06-18_DE85_training_data\",\n",
    "    testpath=\"/n/scratch2/de64/2019-05-31_validation_data\",\n",
    "    valpath=\"/n/scratch2/de64/2019-05-31_validation_data\",\n",
    ")"
   ]
  },
  {
   "cell_type": "code",
   "execution_count": null,
   "id": "204",
   "metadata": {},
   "outputs": [],
   "source": [
    "dataloader = tr.unet.UNet_Training_DataLoader(\n",
    "    nndatapath=\"/n/scratch2/de64/nntest8\",\n",
    "    experimentname=\"First NN\",\n",
    "    trainpath=\"/n/scratch2/de64/2019-05-31_validation_data\",\n",
    "    testpath=\"/n/scratch2/de64/2019-06-18_DE85_training_data\",\n",
    "    valpath=\"/n/scratch2/de64/2019-06-18_DE85_training_data\",\n",
    ")"
   ]
  },
  {
   "cell_type": "code",
   "execution_count": null,
   "id": "205",
   "metadata": {},
   "outputs": [],
   "source": [
    "dataloader = tr.unet.UNet_Training_DataLoader(\n",
    "    nndatapath=\"/n/scratch2/de64/nntest9\",\n",
    "    experimentname=\"First NN\",\n",
    "    trainpath=\"/n/scratch2/de64/2019-05-31_validation_data\",\n",
    "    testpath=\"/n/scratch2/de64/2019-06-18_DE85_training_data\",\n",
    "    valpath=\"/n/scratch2/de64/2019-06-18_DE85_training_data\",\n",
    ")"
   ]
  },
  {
   "cell_type": "code",
   "execution_count": null,
   "id": "206",
   "metadata": {},
   "outputs": [],
   "source": [
    "dataloader = tr.unet.UNet_Training_DataLoader(\n",
    "    nndatapath=\"/n/scratch2/de64/nntest10\",\n",
    "    experimentname=\"First NN\",\n",
    "    trainpath=\"/n/scratch2/de64/2019-06-18_DE85_training_data\",\n",
    "    testpath=\"/n/scratch2/de64/2019-05-31_validation_data\",\n",
    "    valpath=\"/n/scratch2/de64/2019-05-31_validation_data\",\n",
    ")"
   ]
  },
  {
   "cell_type": "markdown",
   "id": "207",
   "metadata": {},
   "source": [
    "#### Training Set Selection"
   ]
  },
  {
   "cell_type": "code",
   "execution_count": null,
   "id": "208",
   "metadata": {},
   "outputs": [],
   "source": [
    "dataloader.inter_get_selection(dataloader.trainpath, \"train\")"
   ]
  },
  {
   "cell_type": "markdown",
   "id": "209",
   "metadata": {},
   "source": [
    "#### Test Set Selection"
   ]
  },
  {
   "cell_type": "code",
   "execution_count": null,
   "id": "210",
   "metadata": {},
   "outputs": [],
   "source": [
    "dataloader.inter_get_selection(dataloader.testpath, \"test\")"
   ]
  },
  {
   "cell_type": "markdown",
   "id": "211",
   "metadata": {},
   "source": [
    "#### Validation Set Selection"
   ]
  },
  {
   "cell_type": "code",
   "execution_count": null,
   "id": "212",
   "metadata": {},
   "outputs": [],
   "source": [
    "dataloader.inter_get_selection(dataloader.valpath, \"val\")"
   ]
  },
  {
   "cell_type": "markdown",
   "id": "213",
   "metadata": {},
   "source": [
    "#### Weightmap Parameters"
   ]
  },
  {
   "cell_type": "code",
   "execution_count": null,
   "id": "214",
   "metadata": {},
   "outputs": [],
   "source": [
    "dataloader.display_grid()"
   ]
  },
  {
   "cell_type": "code",
   "execution_count": null,
   "id": "215",
   "metadata": {},
   "outputs": [],
   "source": [
    "dataloader.get_grid_params()"
   ]
  },
  {
   "cell_type": "markdown",
   "id": "216",
   "metadata": {},
   "source": [
    "#### Export"
   ]
  },
  {
   "cell_type": "code",
   "execution_count": null,
   "id": "217",
   "metadata": {},
   "outputs": [],
   "source": [
    "dataloader.export_all_data(memory=\"6GB\")"
   ]
  },
  {
   "cell_type": "markdown",
   "id": "218",
   "metadata": {
    "toc-hr-collapsed": false
   },
   "source": [
    "### Hyperparameter (Grid) Search"
   ]
  },
  {
   "cell_type": "markdown",
   "id": "219",
   "metadata": {},
   "source": [
    "#### Set-up Search"
   ]
  },
  {
   "cell_type": "code",
   "execution_count": null,
   "id": "220",
   "metadata": {},
   "outputs": [],
   "source": [
    "grid = tr.unet.GridSearch(\"/n/scratch2/de64/nntest10\", numepochs=15)"
   ]
  },
  {
   "cell_type": "code",
   "execution_count": null,
   "id": "221",
   "metadata": {},
   "outputs": [],
   "source": [
    "grid.display_grid()"
   ]
  },
  {
   "cell_type": "code",
   "execution_count": null,
   "id": "222",
   "metadata": {},
   "outputs": [],
   "source": [
    "grid.get_grid_params()"
   ]
  },
  {
   "cell_type": "markdown",
   "id": "223",
   "metadata": {},
   "source": [
    "#### Run Search"
   ]
  },
  {
   "cell_type": "code",
   "execution_count": null,
   "id": "224",
   "metadata": {},
   "outputs": [],
   "source": [
    "grid.run_grid_search(gres=\"gpu:teslaK80:1\")"
   ]
  },
  {
   "cell_type": "markdown",
   "id": "225",
   "metadata": {},
   "source": [
    "#### Evaluate Results"
   ]
  },
  {
   "cell_type": "code",
   "execution_count": null,
   "id": "226",
   "metadata": {},
   "outputs": [],
   "source": [
    "%matplotlib ipympl\n",
    "matplotlib.rcParams[\"figure.figsize\"] = [12, 8]\n",
    "\n",
    "import seaborn as sns\n",
    "\n",
    "sns.set()\n",
    "sns.set(font_scale=2)"
   ]
  },
  {
   "cell_type": "code",
   "execution_count": null,
   "id": "227",
   "metadata": {},
   "outputs": [],
   "source": [
    "vis = tr.unet.TrainingVisualizer(\n",
    "    \"/n/scratch2/de64/nntest10\", \"/n/groups/paulsson/Daniel/NNModels\"\n",
    ")"
   ]
  },
  {
   "cell_type": "code",
   "execution_count": null,
   "id": "228",
   "metadata": {},
   "outputs": [],
   "source": [
    "vis.inter_plot_loss(\"Val Loss\")\n",
    "vis.grid_widget.on(\"filter_changed\", vis.handle_filter_changed)"
   ]
  },
  {
   "cell_type": "code",
   "execution_count": null,
   "id": "229",
   "metadata": {},
   "outputs": [],
   "source": [
    "vis.grid_widget"
   ]
  },
  {
   "cell_type": "code",
   "execution_count": null,
   "id": "230",
   "metadata": {},
   "outputs": [],
   "source": [
    "vis.inter_df_columns()"
   ]
  },
  {
   "cell_type": "code",
   "execution_count": null,
   "id": "231",
   "metadata": {},
   "outputs": [],
   "source": [
    "vis.model_widget"
   ]
  },
  {
   "cell_type": "code",
   "execution_count": null,
   "id": "232",
   "metadata": {},
   "outputs": [],
   "source": [
    "import matplotlib\n",
    "from matplotlib import pyplot as plt\n",
    "\n",
    "%matplotlib inline\n",
    "\n",
    "plt.hist(vis.model_df[\"Val F1 Cell Scores\"][0], bins=50)\n",
    "plt.xlabel(\"F-Score\")\n",
    "plt.ylabel(\"Occurances\")\n",
    "plt.xticks(np.arange(0, 1.01, step=0.5))\n",
    "plt.draw()"
   ]
  },
  {
   "cell_type": "code",
   "execution_count": null,
   "id": "233",
   "metadata": {},
   "outputs": [],
   "source": [
    "headpath = \"/n/scratch2/de64/2019-07-08_bacillus_rodz_mut_expt_bmbm_ti4\"\n",
    "unetseg = tr.unet.UNet_Segmenter(\n",
    "    headpath, \"Phase\", \"/n/groups/paulsson/Daniel/NNModels\", min_obj_size=20\n",
    ")"
   ]
  },
  {
   "cell_type": "code",
   "execution_count": null,
   "id": "234",
   "metadata": {},
   "outputs": [],
   "source": [
    "choose_channel = interactive(\n",
    "    unetseg.choose_seg_channel,\n",
    "    {\"manual\": True},\n",
    "    seg_channel=Dropdown(options=unetseg.all_channels, value=unetseg.all_channels[0]),\n",
    ")\n",
    "display(choose_channel)"
   ]
  },
  {
   "cell_type": "code",
   "execution_count": null,
   "id": "235",
   "metadata": {},
   "outputs": [],
   "source": [
    "unetseg.inter_df_columns()"
   ]
  },
  {
   "cell_type": "code",
   "execution_count": null,
   "id": "236",
   "metadata": {},
   "outputs": [],
   "source": [
    "import h5py\n",
    "import numpy as np\n",
    "import torch\n",
    "import trenchripper as tr\n",
    "from matplotlib import pyplot as plt"
   ]
  },
  {
   "cell_type": "code",
   "execution_count": null,
   "id": "237",
   "metadata": {},
   "outputs": [],
   "source": [
    "with h5py.File(\"/n/scratch2/de64/nntest7/test.hdf5\", \"r\") as infile:\n",
    "    img_arr = torch.Tensor(infile[\"img\"][535:550])\n",
    "    seg_arr = torch.Tensor(infile[\"seg\"][100:200:10])\n",
    "    weight_arr = infile[\"weight_(10.0, 4.0)\"][0:300:10]"
   ]
  },
  {
   "cell_type": "code",
   "execution_count": null,
   "id": "238",
   "metadata": {},
   "outputs": [],
   "source": [
    "testunet = tr.unet.UNet(1, 2, layers=3, hidden_size=32, dropout=0.0, withsoftmax=True)\n",
    "device = torch.device(\"cpu\")\n",
    "testunet.load_state_dict(\n",
    "    torch.load(\"/n/scratch2/de64/nntest7/models/0.pt\", map_location=device)\n",
    ")"
   ]
  },
  {
   "cell_type": "code",
   "execution_count": null,
   "id": "239",
   "metadata": {},
   "outputs": [],
   "source": [
    "y = testunet.forward(img_arr).detach().numpy()[:, 1]\n",
    "x = img_arr.detach().numpy().squeeze(1)"
   ]
  },
  {
   "cell_type": "code",
   "execution_count": null,
   "id": "240",
   "metadata": {},
   "outputs": [],
   "source": [
    "x.shape"
   ]
  },
  {
   "cell_type": "code",
   "execution_count": null,
   "id": "241",
   "metadata": {},
   "outputs": [],
   "source": [
    "plt.imshow(x[4])"
   ]
  },
  {
   "cell_type": "code",
   "execution_count": null,
   "id": "242",
   "metadata": {},
   "outputs": [],
   "source": [
    "plt.imshow(y[4])"
   ]
  },
  {
   "cell_type": "code",
   "execution_count": null,
   "id": "243",
   "metadata": {},
   "outputs": [],
   "source": [
    "img_kymo = tr.utils.kymo_handle()\n",
    "img_kymo.import_wrap(x)\n",
    "img = img_kymo.return_unwrap(padding=0)\n",
    "plt.imshow(img)"
   ]
  },
  {
   "cell_type": "code",
   "execution_count": null,
   "id": "244",
   "metadata": {},
   "outputs": [],
   "source": [
    "seg_kymo = tr.utils.kymo_handle()\n",
    "seg_kymo.import_wrap(y)\n",
    "seg = seg_kymo.return_unwrap(padding=0)\n",
    "plt.imshow(seg)"
   ]
  },
  {
   "cell_type": "code",
   "execution_count": null,
   "id": "245",
   "metadata": {},
   "outputs": [],
   "source": [
    "mask = seg > 0.6\n",
    "plt.imshow(mask)"
   ]
  },
  {
   "cell_type": "code",
   "execution_count": null,
   "id": "246",
   "metadata": {},
   "outputs": [],
   "source": [
    "import skimage as sk"
   ]
  },
  {
   "cell_type": "code",
   "execution_count": null,
   "id": "247",
   "metadata": {},
   "outputs": [],
   "source": [
    "filtered_mask = sk.morphology.remove_small_objects(mask, min_size=30)"
   ]
  },
  {
   "cell_type": "code",
   "execution_count": null,
   "id": "248",
   "metadata": {},
   "outputs": [],
   "source": [
    "plt.imshow(filtered_mask)"
   ]
  },
  {
   "cell_type": "markdown",
   "id": "249",
   "metadata": {},
   "source": [
    "## Other"
   ]
  },
  {
   "cell_type": "markdown",
   "id": "250",
   "metadata": {},
   "source": [
    "#### Transfer files into the scratch folder\n",
    "\n",
    "If you are working on the HMS O2 server, this is a convenience function to facilitate transfer of files onto the `/n/scratch2` folder."
   ]
  },
  {
   "cell_type": "code",
   "execution_count": null,
   "id": "251",
   "metadata": {},
   "outputs": [],
   "source": [
    "sourcedir = \"/n/files/SysBio/PAULSSON LAB/Personal Folders/Daniel/Image_Data/FISH_barcoding/2020-08-16_lDE8_lDE9/run\"\n",
    "targetdir = \"/n/scratch3/users/d/de64/2020-08-16_lDE8_lDE9/run\"\n",
    "tr.trcluster.transferjob(sourcedir, targetdir)"
   ]
  },
  {
   "cell_type": "markdown",
   "id": "252",
   "metadata": {},
   "source": [
    "#### Dask Utilities"
   ]
  },
  {
   "cell_type": "code",
   "execution_count": null,
   "id": "253",
   "metadata": {},
   "outputs": [],
   "source": [
    "dask_controller.shutdown()"
   ]
  },
  {
   "cell_type": "code",
   "execution_count": null,
   "id": "254",
   "metadata": {},
   "outputs": [],
   "source": [
    "dask_controller.retry_failed()"
   ]
  },
  {
   "cell_type": "code",
   "execution_count": null,
   "id": "255",
   "metadata": {},
   "outputs": [],
   "source": [
    "dask_controller.daskclient.restart()"
   ]
  },
  {
   "cell_type": "code",
   "execution_count": null,
   "id": "256",
   "metadata": {},
   "outputs": [],
   "source": [
    "dask_controller.retry_processing()"
   ]
  }
 ],
 "metadata": {
  "kernelspec": {
   "display_name": "Python 3",
   "language": "python",
   "name": "python3"
  },
  "language_info": {
   "codemirror_mode": {
    "name": "ipython",
    "version": 3
   },
   "file_extension": ".py",
   "mimetype": "text/x-python",
   "name": "python",
   "nbconvert_exporter": "python",
   "pygments_lexer": "ipython3",
   "version": "3.8.5"
  },
  "toc-autonumbering": false,
  "toc-showcode": false,
  "toc-showmarkdowntxt": false,
  "toc-showtags": false
 },
 "nbformat": 4,
 "nbformat_minor": 4
}
