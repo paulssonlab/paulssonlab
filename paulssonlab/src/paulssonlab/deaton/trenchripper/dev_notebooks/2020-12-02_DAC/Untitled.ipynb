{
 "cells": [
  {
   "cell_type": "code",
   "execution_count": null,
   "id": "0",
   "metadata": {},
   "outputs": [],
   "source": [
    "import numpy as np\n",
    "import scipy as sp\n",
    "import scipy.stats\n",
    "from matplotlib import pyplot as plt"
   ]
  },
  {
   "cell_type": "code",
   "execution_count": null,
   "id": "1",
   "metadata": {},
   "outputs": [],
   "source": [
    "n_barcodes = 500000\n",
    "n_variants = 50000\n",
    "p = 1 / n_variants\n",
    "\n",
    "dist = sp.stats.binom(n_barcodes, p)"
   ]
  },
  {
   "cell_type": "code",
   "execution_count": null,
   "id": "2",
   "metadata": {},
   "outputs": [],
   "source": [
    "dist.cdf(0)"
   ]
  },
  {
   "cell_type": "code",
   "execution_count": null,
   "id": "3",
   "metadata": {},
   "outputs": [],
   "source": [
    "dist.cdf(1)"
   ]
  },
  {
   "cell_type": "code",
   "execution_count": null,
   "id": "4",
   "metadata": {},
   "outputs": [],
   "source": [
    "dist.mean()"
   ]
  },
  {
   "cell_type": "code",
   "execution_count": null,
   "id": "5",
   "metadata": {},
   "outputs": [],
   "source": [
    "def scaled_cdf(x, dist):\n",
    "    x_in = x * dist.mean()\n",
    "    print(x_in)\n",
    "    y_out = dist.cdf(x_in)\n",
    "    return y_out"
   ]
  },
  {
   "cell_type": "code",
   "execution_count": null,
   "id": "6",
   "metadata": {},
   "outputs": [],
   "source": [
    "x = np.linspace(0.0, 2.0, num=20)\n",
    "plt.plot(x, scaled_cdf(x, dist))\n",
    "plt.show()"
   ]
  },
  {
   "cell_type": "code",
   "execution_count": null,
   "id": "7",
   "metadata": {},
   "outputs": [],
   "source": [
    "n_variants = 50000\n",
    "p = 1 / n_variants\n",
    "\n",
    "n_barcode_list = list(range(200000, 1000000, 200000))\n",
    "\n",
    "output = []\n",
    "for n_barcodes in n_barcode_list:\n",
    "    dist = sp.stats.binom(n_barcodes, p)\n",
    "    less_than_10_perc = scaled_cdf(0.25, dist)\n",
    "    output.append(less_than_10_perc)\n",
    "plt.plot(n_barcode_list, output)"
   ]
  },
  {
   "cell_type": "code",
   "execution_count": null,
   "id": "8",
   "metadata": {},
   "outputs": [],
   "source": [
    "n_sample_space = 2**30\n",
    "n_sampled = 300000"
   ]
  },
  {
   "cell_type": "code",
   "execution_count": null,
   "id": "9",
   "metadata": {},
   "outputs": [],
   "source": [
    "dist = sp.stats.binom(30, 1 / 2)"
   ]
  },
  {
   "cell_type": "code",
   "execution_count": null,
   "id": "10",
   "metadata": {},
   "outputs": [],
   "source": [
    "1.0 - (1.0 - dist.cdf(1)) ** (n_sampled)"
   ]
  }
 ],
 "metadata": {
  "kernelspec": {
   "display_name": "Python 3",
   "language": "python",
   "name": "python3"
  },
  "language_info": {
   "codemirror_mode": {
    "name": "ipython",
    "version": 3
   },
   "file_extension": ".py",
   "mimetype": "text/x-python",
   "name": "python",
   "nbconvert_exporter": "python",
   "pygments_lexer": "ipython3",
   "version": "3.6.11"
  }
 },
 "nbformat": 4,
 "nbformat_minor": 4
}
