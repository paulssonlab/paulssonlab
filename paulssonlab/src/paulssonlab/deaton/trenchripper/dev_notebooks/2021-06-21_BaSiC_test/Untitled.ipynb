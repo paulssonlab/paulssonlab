{
 "cells": [
  {
   "cell_type": "code",
   "execution_count": null,
   "id": "0",
   "metadata": {},
   "outputs": [],
   "source": [
    "import h5py\n",
    "import numpy as np\n",
    "from matplotlib import pyplot as plt"
   ]
  },
  {
   "cell_type": "code",
   "execution_count": null,
   "id": "1",
   "metadata": {},
   "outputs": [],
   "source": [
    "files_ns = np.random.choice(range(0, 500), size=(10,), replace=False)\n",
    "data = []\n",
    "\n",
    "for n in files_ns:\n",
    "    with h5py.File(\n",
    "        \"/home/de64/scratch/de64/sync_folder/2021-05-27_lDE18_20x_run_1/mVenus/hdf5/hdf5_\"\n",
    "        + str(n)\n",
    "        + \".hdf5\",\n",
    "        \"r\",\n",
    "    ) as infile:\n",
    "        data.append(infile[\"mCherry\"][np.random.randint(0, 5)].astype(float))\n",
    "data = np.array(data)[:, 1000:2000, :1500]\n",
    "# data[data<500] = np.NaN"
   ]
  },
  {
   "cell_type": "code",
   "execution_count": null,
   "id": "2",
   "metadata": {},
   "outputs": [],
   "source": [
    "data > 1000"
   ]
  },
  {
   "cell_type": "code",
   "execution_count": null,
   "id": "3",
   "metadata": {},
   "outputs": [],
   "source": [
    "plt.imshow(data[18])"
   ]
  },
  {
   "cell_type": "code",
   "execution_count": null,
   "id": "4",
   "metadata": {},
   "outputs": [],
   "source": [
    "## \"Estimating the ﬂat-ﬁeld S by low rank and sparse decomposition\"\n",
    "\n",
    "data.shape\n",
    "I_sort = np.sort(data, axis=0)\n",
    "I_sort = I_sort.reshape(I_sort.shape[0], -1).T"
   ]
  },
  {
   "cell_type": "code",
   "execution_count": null,
   "id": "5",
   "metadata": {},
   "outputs": [],
   "source": [
    "# Y (0) = 0;S(0) = 0;B(0) = 0;R(0) = 0;µ(0) > 0;ρ > 1;k = 0\n",
    "lambda_s = 1000.0\n",
    "\n",
    "W = np.ones(I_sort.shape, dtype=float)\n",
    "eps = 0.00001\n",
    "Y = np.zeros(I_sort.shape, dtype=float)\n",
    "S = np.zeros(I_sort.shape[0], dtype=float)  ## not sure if one-dim correct here\n",
    "B = np.zeros(I_sort.shape[1], dtype=float)\n",
    "IR = np.zeros(I_sort.shape, dtype=float)\n",
    "u = 1.0\n",
    "rho = 1.5\n",
    "k = 0\n",
    "\n",
    "tol = 0.001"
   ]
  },
  {
   "cell_type": "code",
   "execution_count": null,
   "id": "6",
   "metadata": {},
   "outputs": [],
   "source": [
    "plt.imshow(IB[:, 0].reshape(data.shape[1], data.shape[2]))"
   ]
  },
  {
   "cell_type": "code",
   "execution_count": null,
   "id": "7",
   "metadata": {},
   "outputs": [],
   "source": [
    "plt.imshow(IR[:, 0].reshape(data.shape[1], data.shape[2]))"
   ]
  },
  {
   "cell_type": "code",
   "execution_count": null,
   "id": "8",
   "metadata": {},
   "outputs": [],
   "source": [
    "plt.imshow((IB + IR)[:, 0].reshape(data.shape[1], data.shape[2]))"
   ]
  },
  {
   "cell_type": "code",
   "execution_count": null,
   "id": "9",
   "metadata": {},
   "outputs": [],
   "source": [
    "data.shape"
   ]
  },
  {
   "cell_type": "code",
   "execution_count": null,
   "id": "10",
   "metadata": {},
   "outputs": [],
   "source": [
    "# Sf = np.fft.fft(S).real\n",
    "# IB = np.multiply.outer(S,B)\n",
    "# theta_one = Sf+np.fft.fft(np.nanmean((I_sort-IB-IR+(Y/u)),axis=1)).real\n",
    "# Sf_plus_1 = np.sign(theta_one)*np.maximum(np.abs(theta_one)-(lambda_s/u),0.)"
   ]
  },
  {
   "cell_type": "code",
   "execution_count": null,
   "id": "11",
   "metadata": {},
   "outputs": [],
   "source": [
    "np.isnp.nanmean((I_sort - IB - IR + (Y / u)), axis=1)"
   ]
  },
  {
   "cell_type": "code",
   "execution_count": null,
   "id": "12",
   "metadata": {},
   "outputs": [],
   "source": [
    "l1_minimization(I_sort, data.shape)"
   ]
  },
  {
   "cell_type": "code",
   "execution_count": null,
   "id": "13",
   "metadata": {},
   "outputs": [],
   "source": [
    "def l1_minimization(I_sort, data_shape, W):\n",
    "    lambda_s = 400.0\n",
    "\n",
    "    Y = np.zeros(I_sort.shape, dtype=float)\n",
    "    S = np.zeros(I_sort.shape[0], dtype=float)  ## not sure if one-dim correct here\n",
    "    B = np.zeros(I_sort.shape[1], dtype=float)\n",
    "    IR = np.zeros(I_sort.shape, dtype=float)\n",
    "    u = 12.5\n",
    "    rho = 1.5\n",
    "    k = 0\n",
    "    maxiter = 10\n",
    "    tol = 0.001\n",
    "\n",
    "    I_sort_norm = np.sum(np.square(I_sort))\n",
    "\n",
    "    Ls = []\n",
    "    Ts = []\n",
    "    while True:\n",
    "        #     Sf = np.fft.fft(S)\n",
    "        #     IB = np.multiply.outer(S,B)\n",
    "        #     theta_one = Sf+np.fft.fft(np.mean((I_sort-IB-IR+(Y/u)),axis=1))\n",
    "        #     Sf_plus_1 = np.sign(theta_one)*np.maximum(theta_one-(lambda_s/u),0.)\n",
    "        #     S_plus_1 = np.abs(np.fft.ifft(Sf_plus_1))\n",
    "\n",
    "        #     if k > 0:\n",
    "        #         W_plus_1 = 1/(np.abs(IR/IB)+eps)\n",
    "\n",
    "        Sf = np.fft.fft2(S.reshape(data_shape[1], data_shape[2])).real.reshape(-1)\n",
    "        IB = np.multiply.outer(S, B)\n",
    "        theta_one = Sf + np.fft.fft(np.mean((I_sort - IB - IR + (Y / u)), axis=1)).real\n",
    "        Sf_plus_1 = np.sign(theta_one) * np.maximum(\n",
    "            np.abs(theta_one) - (lambda_s / u), 0.0\n",
    "        )\n",
    "\n",
    "        #     plt.plot(theta_one)\n",
    "        #     plt.show()\n",
    "\n",
    "        S_plus_1 = np.fft.ifft2(\n",
    "            Sf_plus_1.reshape(data_shape[1], data_shape[2])\n",
    "        ).real.reshape(-1)\n",
    "\n",
    "        #     print(\"Block1\")\n",
    "        #     print(IR)\n",
    "        #     print(IB)\n",
    "        #     print(1/(IR/IB))\n",
    "\n",
    "        IB_step_1 = np.multiply.outer(S_plus_1, B)\n",
    "        theta_two = I_sort - IB_step_1 + (Y / u)\n",
    "        IR_plus_1 = np.sign(theta_two) * np.maximum(np.abs(theta_two) - (W / u), 0.0)\n",
    "        B_plus_1 = np.mean((I_sort - IR_plus_1), axis=0) / np.mean((I_sort - IR_plus_1))\n",
    "        IB_plus_1 = np.multiply.outer(S_plus_1, B_plus_1)\n",
    "        Y_plus_1 = Y + u * (I_sort - IB_plus_1 - IR_plus_1)\n",
    "        u_plus_1 = rho * u\n",
    "\n",
    "        #     print(\"Block2\")\n",
    "        #     print(S_plus_1)\n",
    "        #     print(B_plus_1)\n",
    "\n",
    "        #     if k > 0:\n",
    "        #         W_plus_1 = 1/(np.abs(IR/IB)+eps)\n",
    "        #         W = W_plus_1\n",
    "\n",
    "        S = S_plus_1\n",
    "        IR = IR_plus_1\n",
    "        B = B_plus_1\n",
    "        IB = IB_plus_1\n",
    "        Y = Y_plus_1\n",
    "        u = u_plus_1\n",
    "        #     if k > 0:\n",
    "        #         W = W_plus_1\n",
    "\n",
    "        #     print(S)\n",
    "        #     print(IR)\n",
    "        #     print(B)\n",
    "        T1 = np.linalg.norm((W * IR), ord=1)\n",
    "        T2 = lambda_s * np.linalg.norm(\n",
    "            np.fft.fft2(S.reshape(data_shape[1], data_shape[2])), ord=1\n",
    "        )\n",
    "        T3 = np.sum(Y * (I_sort - IB - IR))\n",
    "        current_norm = np.sum(np.square(I_sort - IB - IR))\n",
    "        T4 = u * current_norm\n",
    "        L = T1 + T2 + T3 + T4\n",
    "\n",
    "        Ls.append(L)\n",
    "        Ts.append([T1, T2, T3, T4])\n",
    "\n",
    "        stopCriterion = current_norm / I_sort_norm\n",
    "        print(stopCriterion)\n",
    "\n",
    "        k += 1\n",
    "\n",
    "        if stopCriterion < tol or k >= maxiter:\n",
    "            break\n",
    "\n",
    "    Ts = np.array(Ts)\n",
    "    plt.plot(Ls)\n",
    "    plt.show()\n",
    "    plt.plot(Ts)\n",
    "    plt.show()\n",
    "    return S, IB, IR"
   ]
  },
  {
   "cell_type": "code",
   "execution_count": null,
   "id": "14",
   "metadata": {},
   "outputs": [],
   "source": [
    "eps = 0.00001\n",
    "W = np.ones(I_sort.shape, dtype=float)\n",
    "\n",
    "S, IB, IR = l1_minimization(I_sort, data.shape, W)\n",
    "\n",
    "for i in range(3):\n",
    "    W = 1.0 / (np.abs(IR / IB) + eps)\n",
    "    S, IB, IR = l1_minimization(I_sort, data.shape, W)"
   ]
  },
  {
   "cell_type": "code",
   "execution_count": null,
   "id": "15",
   "metadata": {},
   "outputs": [],
   "source": [
    "plt.imshow(S.reshape(data.shape[1], data.shape[2]))"
   ]
  },
  {
   "cell_type": "code",
   "execution_count": null,
   "id": "16",
   "metadata": {},
   "outputs": [],
   "source": [
    "plt.plot(Ts[:, 1])"
   ]
  },
  {
   "cell_type": "code",
   "execution_count": null,
   "id": "17",
   "metadata": {},
   "outputs": [],
   "source": [
    "# plt.plot(Ts[:,0])\n",
    "plt.plot(Ts[:, 1])\n",
    "plt.plot(Ts[:, 2])\n",
    "plt.plot(Ts[:, 3])"
   ]
  },
  {
   "cell_type": "code",
   "execution_count": null,
   "id": "18",
   "metadata": {},
   "outputs": [],
   "source": [
    "plt.plot(Ts[:, 0])"
   ]
  },
  {
   "cell_type": "code",
   "execution_count": null,
   "id": "19",
   "metadata": {},
   "outputs": [],
   "source": [
    "np.linalg.norm((W * IR), ord=1)"
   ]
  },
  {
   "cell_type": "code",
   "execution_count": null,
   "id": "20",
   "metadata": {},
   "outputs": [],
   "source": [
    "lambda_s * np.linalg.norm(np.fft.fft(S), ord=1)"
   ]
  },
  {
   "cell_type": "code",
   "execution_count": null,
   "id": "21",
   "metadata": {},
   "outputs": [],
   "source": [
    "np.sum(Y * (I_sort - IB - IR))"
   ]
  },
  {
   "cell_type": "code",
   "execution_count": null,
   "id": "22",
   "metadata": {},
   "outputs": [],
   "source": [
    "u * (np.sum(np.square(I_sort - IB - IR)))"
   ]
  },
  {
   "cell_type": "code",
   "execution_count": null,
   "id": "23",
   "metadata": {},
   "outputs": [],
   "source": [
    "np.linalg.norm(np.fft.fft(np.mean(I_sort, axis=1) / 66000).real, ord=1) / 800"
   ]
  },
  {
   "cell_type": "code",
   "execution_count": null,
   "id": "24",
   "metadata": {},
   "outputs": [],
   "source": [
    "np.fft.fft(np.mean(I_sort, axis=1) / 60000).real"
   ]
  },
  {
   "cell_type": "code",
   "execution_count": null,
   "id": "25",
   "metadata": {},
   "outputs": [],
   "source": [
    "norm_S = S.reshape(data.shape[1], data.shape[2]) / np.mean(S)"
   ]
  },
  {
   "cell_type": "code",
   "execution_count": null,
   "id": "26",
   "metadata": {},
   "outputs": [],
   "source": [
    "plt.hist(norm_S.flatten())"
   ]
  },
  {
   "cell_type": "code",
   "execution_count": null,
   "id": "27",
   "metadata": {},
   "outputs": [],
   "source": [
    "fig = plt.figure(figsize=(16, 24))\n",
    "plt.imshow(norm_S, cmap=\"Greys_r\")\n",
    "plt.show()"
   ]
  },
  {
   "cell_type": "code",
   "execution_count": null,
   "id": "28",
   "metadata": {},
   "outputs": [],
   "source": [
    "plt.plot(np.mean(norm_S, axis=0))"
   ]
  },
  {
   "cell_type": "code",
   "execution_count": null,
   "id": "29",
   "metadata": {},
   "outputs": [],
   "source": [
    "plt.plot(np.mean(norm_S, axis=1))"
   ]
  },
  {
   "cell_type": "code",
   "execution_count": null,
   "id": "30",
   "metadata": {},
   "outputs": [],
   "source": [
    "IB_step_1"
   ]
  },
  {
   "cell_type": "code",
   "execution_count": null,
   "id": "31",
   "metadata": {},
   "outputs": [],
   "source": [
    "S_plus_1.shape"
   ]
  },
  {
   "cell_type": "code",
   "execution_count": null,
   "id": "32",
   "metadata": {},
   "outputs": [],
   "source": [
    "IB.shape"
   ]
  }
 ],
 "metadata": {
  "kernelspec": {
   "display_name": "Python 3",
   "language": "python",
   "name": "python3"
  },
  "language_info": {
   "codemirror_mode": {
    "name": "ipython",
    "version": 3
   },
   "file_extension": ".py",
   "mimetype": "text/x-python",
   "name": "python",
   "nbconvert_exporter": "python",
   "pygments_lexer": "ipython3",
   "version": "3.8.5"
  }
 },
 "nbformat": 4,
 "nbformat_minor": 4
}
