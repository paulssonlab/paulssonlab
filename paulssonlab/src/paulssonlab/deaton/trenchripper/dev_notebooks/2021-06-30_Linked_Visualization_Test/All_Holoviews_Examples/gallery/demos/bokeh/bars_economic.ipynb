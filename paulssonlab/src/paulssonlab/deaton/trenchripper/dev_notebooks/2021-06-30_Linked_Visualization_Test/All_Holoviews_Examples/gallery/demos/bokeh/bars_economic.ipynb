{
 "cells": [
  {
   "cell_type": "markdown",
   "metadata": {},
   "source": [
    "Most examples work across multiple plotting backends, this example is also available for:\n",
    "\n",
    "* [Matplotlib - bars_economic](../matplotlib/bars_economic.ipynb)"
   ]
  },
  {
   "cell_type": "code",
   "execution_count": null,
   "metadata": {},
   "outputs": [],
   "source": [
    "import pandas as pd\n",
    "import holoviews as hv\n",
    "from holoviews import opts\n",
    "\n",
    "hv.extension(\"bokeh\", \"matplotlib\")"
   ]
  },
  {
   "cell_type": "markdown",
   "metadata": {},
   "source": [
    "## Declaring data"
   ]
  },
  {
   "cell_type": "code",
   "execution_count": null,
   "metadata": {},
   "outputs": [],
   "source": [
    "macro_df = pd.read_csv(\"http://assets.holoviews.org/macro.csv\", \"\\t\")\n",
    "key_dimensions = [(\"year\", \"Year\"), (\"country\", \"Country\")]\n",
    "value_dimensions = [\n",
    "    (\"unem\", \"Unemployment\"),\n",
    "    (\"capmob\", \"Capital Mobility\"),\n",
    "    (\"gdp\", \"GDP Growth\"),\n",
    "    (\"trade\", \"Trade\"),\n",
    "]\n",
    "macro = hv.Table(macro_df, key_dimensions, value_dimensions)"
   ]
  },
  {
   "cell_type": "markdown",
   "metadata": {},
   "source": [
    "## Plot"
   ]
  },
  {
   "cell_type": "code",
   "execution_count": null,
   "metadata": {},
   "outputs": [],
   "source": [
    "bars = macro.to.bars([\"Year\", \"Country\"], \"Trade\", [])\n",
    "bars.opts(\n",
    "    opts.Bars(\n",
    "        color=hv.Cycle(\"Category20\"),\n",
    "        show_legend=False,\n",
    "        stacked=True,\n",
    "        tools=[\"hover\"],\n",
    "        width=600,\n",
    "        xrotation=90,\n",
    "    )\n",
    ")"
   ]
  }
 ],
 "metadata": {
  "language_info": {
   "name": "python",
   "pygments_lexer": "ipython3"
  }
 },
 "nbformat": 4,
 "nbformat_minor": 2
}
