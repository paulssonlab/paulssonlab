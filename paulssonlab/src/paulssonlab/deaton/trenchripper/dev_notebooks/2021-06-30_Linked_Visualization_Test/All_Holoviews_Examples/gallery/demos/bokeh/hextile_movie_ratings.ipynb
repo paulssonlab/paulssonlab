{
 "cells": [
  {
   "cell_type": "code",
   "execution_count": null,
   "metadata": {},
   "outputs": [],
   "source": [
    "import pandas as pd\n",
    "import holoviews as hv\n",
    "from holoviews import opts\n",
    "\n",
    "hv.extension(\"bokeh\")"
   ]
  },
  {
   "cell_type": "markdown",
   "metadata": {},
   "source": [
    "## Define data"
   ]
  },
  {
   "cell_type": "code",
   "execution_count": null,
   "metadata": {},
   "outputs": [],
   "source": [
    "import sqlite3\n",
    "from bokeh.sampledata import movies_data\n",
    "\n",
    "# Load data\n",
    "conn = sqlite3.connect(movies_data.movie_path)\n",
    "movies = pd.read_sql(\n",
    "    \"SELECT userRating, imdbRating FROM omdb, tomatoes WHERE omdb.ID = tomatoes.ID\",\n",
    "    conn,\n",
    ")\n",
    "\n",
    "# Declare element\n",
    "hextiles = hv.HexTiles(\n",
    "    movies, [(\"userRating\", \"Tomato User Rating\"), (\"imdbRating\", \"IMDb Rating\")], []\n",
    ")\n",
    "bivariate = hv.Bivariate(hextiles)"
   ]
  },
  {
   "cell_type": "markdown",
   "metadata": {},
   "source": [
    "## Plot data"
   ]
  },
  {
   "cell_type": "code",
   "execution_count": null,
   "metadata": {},
   "outputs": [],
   "source": [
    "(hextiles * bivariate).opts(\n",
    "    opts.Bivariate(show_legend=False), opts.HexTiles(width=500, height=500, min_count=0)\n",
    ")"
   ]
  }
 ],
 "metadata": {
  "language_info": {
   "name": "python",
   "pygments_lexer": "ipython3"
  }
 },
 "nbformat": 4,
 "nbformat_minor": 2
}
