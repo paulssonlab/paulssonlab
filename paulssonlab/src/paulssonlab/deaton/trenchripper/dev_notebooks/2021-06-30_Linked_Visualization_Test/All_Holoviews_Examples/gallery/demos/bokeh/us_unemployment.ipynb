{
 "cells": [
  {
   "cell_type": "markdown",
   "metadata": {},
   "source": [
    "URL: http://bokeh.pydata.org/en/latest/docs/gallery/unemployment.html\n",
    "\n",
    "Most examples work across multiple plotting backends, this example is also available for:\n",
    "\n",
    "* [Matplotlib - US unemployment example](../matplotlib/us_unemployment.ipynb)"
   ]
  },
  {
   "cell_type": "code",
   "execution_count": null,
   "metadata": {},
   "outputs": [],
   "source": [
    "import pandas as pd\n",
    "import holoviews as hv\n",
    "from holoviews import opts\n",
    "\n",
    "hv.extension(\"bokeh\")"
   ]
  },
  {
   "cell_type": "markdown",
   "metadata": {},
   "source": [
    "## Defining data"
   ]
  },
  {
   "cell_type": "code",
   "execution_count": null,
   "metadata": {},
   "outputs": [],
   "source": [
    "from bokeh.sampledata.unemployment1948 import data\n",
    "\n",
    "data = pd.melt(\n",
    "    data.drop(\"Annual\", 1), id_vars=\"Year\", var_name=\"Month\", value_name=\"Unemployment\"\n",
    ")\n",
    "heatmap = hv.HeatMap(data, label=\"US Unemployment (1948 - 2013)\")"
   ]
  },
  {
   "cell_type": "markdown",
   "metadata": {},
   "source": [
    "## Plot"
   ]
  },
  {
   "cell_type": "code",
   "execution_count": null,
   "metadata": {},
   "outputs": [],
   "source": [
    "colors = [\n",
    "    \"#75968f\",\n",
    "    \"#a5bab7\",\n",
    "    \"#c9d9d3\",\n",
    "    \"#e2e2e2\",\n",
    "    \"#dfccce\",\n",
    "    \"#ddb7b1\",\n",
    "    \"#cc7878\",\n",
    "    \"#933b41\",\n",
    "    \"#550b1d\",\n",
    "]\n",
    "heatmap.opts(\n",
    "    opts.HeatMap(\n",
    "        width=900,\n",
    "        height=400,\n",
    "        xrotation=45,\n",
    "        xaxis=\"top\",\n",
    "        labelled=[],\n",
    "        tools=[\"hover\"],\n",
    "        cmap=colors,\n",
    "    )\n",
    ")"
   ]
  }
 ],
 "metadata": {
  "language_info": {
   "name": "python",
   "pygments_lexer": "ipython3"
  }
 },
 "nbformat": 4,
 "nbformat_minor": 2
}
