{
 "cells": [
  {
   "cell_type": "markdown",
   "metadata": {},
   "source": [
    "URL: http://bokeh.pydata.org/en/latest/docs/gallery/unemployment.html\n",
    "\n",
    "Most examples work across multiple plotting backends, this example is also available for:\n",
    "\n",
    "* [Bokeh - US unemployment example](../bokeh/us_unemployment.ipynb)"
   ]
  },
  {
   "cell_type": "code",
   "execution_count": null,
   "metadata": {},
   "outputs": [],
   "source": [
    "import pandas as pd\n",
    "import holoviews as hv\n",
    "\n",
    "hv.extension(\"matplotlib\")"
   ]
  },
  {
   "cell_type": "markdown",
   "metadata": {},
   "source": [
    "## Defining data"
   ]
  },
  {
   "cell_type": "code",
   "execution_count": null,
   "metadata": {},
   "outputs": [],
   "source": [
    "from bokeh.sampledata.unemployment1948 import data\n",
    "\n",
    "colors = [\n",
    "    \"#75968f\",\n",
    "    \"#a5bab7\",\n",
    "    \"#c9d9d3\",\n",
    "    \"#e2e2e2\",\n",
    "    \"#dfccce\",\n",
    "    \"#ddb7b1\",\n",
    "    \"#cc7878\",\n",
    "    \"#933b41\",\n",
    "    \"#550b1d\",\n",
    "]\n",
    "\n",
    "data = pd.melt(\n",
    "    data.drop(\"Annual\", 1), id_vars=\"Year\", var_name=\"Month\", value_name=\"Unemployment\"\n",
    ")\n",
    "\n",
    "heatmap = hv.HeatMap(data, label=\"US Unemployment (1948 - 2013)\")"
   ]
  },
  {
   "cell_type": "markdown",
   "metadata": {},
   "source": [
    "## Plot"
   ]
  },
  {
   "cell_type": "code",
   "execution_count": null,
   "metadata": {},
   "outputs": [],
   "source": [
    "heatmap.opts(\n",
    "    fig_size=450, aspect=3, xrotation=45, show_values=False, labelled=[], cmap=colors\n",
    ")"
   ]
  }
 ],
 "metadata": {
  "language_info": {
   "name": "python",
   "pygments_lexer": "ipython3"
  }
 },
 "nbformat": 4,
 "nbformat_minor": 2
}
