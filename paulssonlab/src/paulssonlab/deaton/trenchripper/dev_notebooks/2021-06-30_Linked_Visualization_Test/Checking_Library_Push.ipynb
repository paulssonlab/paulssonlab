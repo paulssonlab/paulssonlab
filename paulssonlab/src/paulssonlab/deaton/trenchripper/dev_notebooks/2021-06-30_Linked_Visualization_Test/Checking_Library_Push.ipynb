{
 "cells": [
  {
   "cell_type": "code",
   "execution_count": null,
   "id": "d351eb9b-28e8-47e4-85d0-872e9926dbdd",
   "metadata": {},
   "outputs": [],
   "source": [
    "import dask.dataframe as dd\n",
    "import holoviews as hv\n",
    "\n",
    "import paulssonlab.deaton.trenchripper.trenchripper as tr\n",
    "\n",
    "hv.extension(\"bokeh\")"
   ]
  },
  {
   "cell_type": "markdown",
   "id": "3ebf5e11-0f76-43ae-aa1d-c0b53b213493",
   "metadata": {},
   "source": [
    "### Initial Check"
   ]
  },
  {
   "cell_type": "code",
   "execution_count": null,
   "id": "5eb764e3-7bf9-4b0d-9a5f-e9f2aa017169",
   "metadata": {},
   "outputs": [],
   "source": [
    "kymo_xarr = tr.kymo_xarr(\n",
    "    \"/home/de64/scratch/de64/sync_folder/2021-05-27_lDE18_20x_run_1/mVenus\",\n",
    "    subset=slice(0, 10000),\n",
    "    in_memory=True,\n",
    ")"
   ]
  },
  {
   "cell_type": "code",
   "execution_count": null,
   "id": "d1337947-87cf-471b-beff-f5dc31a22a30",
   "metadata": {},
   "outputs": [],
   "source": [
    "kymo_df = dd.read_parquet(\n",
    "    \"/home/de64/scratch/de64/sync_folder/2021-05-27_lDE18_20x_run_1/Barcodes/percentiles\"\n",
    ")\n",
    "test_df = kymo_df.loc[:6500000].compute()"
   ]
  },
  {
   "cell_type": "code",
   "execution_count": null,
   "id": "be3f3fc7-4881-462d-a28d-d3edfafd9358",
   "metadata": {},
   "outputs": [],
   "source": [
    "scatter_display, select_scatter, select_scatter_trenchid = tr.linked_scatter(\n",
    "    test_df, \"RFP 98th Percentile\", \"Cy5 98th Percentile\", cmap=\"gray_r\", height=600\n",
    ")"
   ]
  },
  {
   "cell_type": "code",
   "execution_count": null,
   "id": "40c81d8d-7404-4109-9d1e-1c9bde602532",
   "metadata": {},
   "outputs": [],
   "source": [
    "scatter_kymograph_display = tr.linked_kymograph_for_scatter(\n",
    "    kymo_xarr,\n",
    "    test_df,\n",
    "    \"RFP 98th Percentile\",\n",
    "    \"Cy5 98th Percentile\",\n",
    "    select_scatter,\n",
    "    select_scatter_trenchid,\n",
    "    y_scale=3,\n",
    "    x_window_size=300,\n",
    ")"
   ]
  },
  {
   "cell_type": "code",
   "execution_count": null,
   "id": "d0a00c84-1b49-4129-b016-6c9ae1ac97da",
   "metadata": {},
   "outputs": [],
   "source": [
    "hist_display, edges, select_histcolumn, select_hist_trenchid = tr.linked_histogram(\n",
    "    test_df, \"RFP 98th Percentile\", bins=50, minperc=0, maxperc=99, height=400\n",
    ")"
   ]
  },
  {
   "cell_type": "code",
   "execution_count": null,
   "id": "692c21a6-04b2-4796-9185-da354acd9525",
   "metadata": {},
   "outputs": [],
   "source": [
    "hist_kymograph_display = tr.linked_kymograph_for_hist(\n",
    "    kymo_xarr,\n",
    "    test_df,\n",
    "    \"RFP 98th Percentile\",\n",
    "    edges,\n",
    "    select_histcolumn,\n",
    "    select_hist_trenchid,\n",
    "    y_scale=3,\n",
    "    x_window_size=300,\n",
    ")"
   ]
  },
  {
   "cell_type": "code",
   "execution_count": null,
   "id": "0a00ce51-7e1a-4c99-b425-af05f410eb21",
   "metadata": {},
   "outputs": [],
   "source": [
    "scatter_display"
   ]
  },
  {
   "cell_type": "code",
   "execution_count": null,
   "id": "b2f725c2-e9b5-4e12-b582-554866467a32",
   "metadata": {},
   "outputs": [],
   "source": [
    "scatter_kymograph_display"
   ]
  },
  {
   "cell_type": "code",
   "execution_count": null,
   "id": "f6d6e79e-004b-4638-b591-7c36d833a29f",
   "metadata": {},
   "outputs": [],
   "source": [
    "hist_display"
   ]
  },
  {
   "cell_type": "code",
   "execution_count": null,
   "id": "a65b1fcd-a20e-4dca-83b2-9c9c613abfa1",
   "metadata": {},
   "outputs": [],
   "source": [
    "hist_kymograph_display"
   ]
  },
  {
   "cell_type": "markdown",
   "id": "a23967c7-7328-40a8-b561-2d0a2f05341a",
   "metadata": {},
   "source": [
    "### Out of Memory"
   ]
  },
  {
   "cell_type": "code",
   "execution_count": null,
   "id": "641e635a-acb4-4f91-bb5a-8a00cfc8e58d",
   "metadata": {},
   "outputs": [],
   "source": [
    "kymo_xarr = tr.kymo_xarr(\n",
    "    \"/home/de64/scratch/de64/sync_folder/2021-05-27_lDE18_20x_run_1/mVenus\"\n",
    ")"
   ]
  },
  {
   "cell_type": "code",
   "execution_count": null,
   "id": "7f69c9d3-d11e-4ebe-a75c-73f5fe0ff404",
   "metadata": {},
   "outputs": [],
   "source": [
    "kymo_xarr"
   ]
  },
  {
   "cell_type": "code",
   "execution_count": null,
   "id": "27eb7704-3471-4da9-9688-70a147408900",
   "metadata": {},
   "outputs": [],
   "source": [
    "kymo_df = dd.read_parquet(\n",
    "    \"/home/de64/scratch/de64/sync_folder/2021-05-27_lDE18_20x_run_1/Barcodes/percentiles\"\n",
    ").loc[:1000000000]"
   ]
  },
  {
   "cell_type": "code",
   "execution_count": null,
   "id": "b52c950c-2b1a-44e7-ad7a-dd57f09c54d6",
   "metadata": {},
   "outputs": [],
   "source": [
    "scatter_display, select_scatter, select_scatter_trenchid = tr.linked_scatter(\n",
    "    kymo_df, \"RFP 98th Percentile\", \"Cy5 98th Percentile\", cmap=\"gray_r\", height=600\n",
    ")"
   ]
  },
  {
   "cell_type": "code",
   "execution_count": null,
   "id": "a1e4f6e0-c50c-49c4-a91f-1efd3fb165f0",
   "metadata": {},
   "outputs": [],
   "source": [
    "scatter_kymograph_display = tr.linked_kymograph_for_scatter(\n",
    "    kymo_xarr,\n",
    "    kymo_df,\n",
    "    \"RFP 98th Percentile\",\n",
    "    \"Cy5 98th Percentile\",\n",
    "    select_scatter,\n",
    "    select_scatter_trenchid,\n",
    "    y_scale=3,\n",
    "    x_window_size=300,\n",
    ")"
   ]
  },
  {
   "cell_type": "code",
   "execution_count": null,
   "id": "2c04078b-9612-433a-9bb4-e35a721775b8",
   "metadata": {},
   "outputs": [],
   "source": [
    "hist_display, edges, select_histcolumn, select_hist_trenchid = tr.linked_histogram(\n",
    "    kymo_df, \"RFP 98th Percentile\", bins=50, minperc=0, maxperc=99, height=400\n",
    ")"
   ]
  },
  {
   "cell_type": "code",
   "execution_count": null,
   "id": "7e2c61a1-1c3f-438e-a03d-86ece9949936",
   "metadata": {},
   "outputs": [],
   "source": [
    "hist_kymograph_display = tr.linked_kymograph_for_hist(\n",
    "    kymo_xarr,\n",
    "    kymo_df,\n",
    "    \"RFP 98th Percentile\",\n",
    "    edges,\n",
    "    select_histcolumn,\n",
    "    select_hist_trenchid,\n",
    "    y_scale=3,\n",
    "    x_window_size=300,\n",
    ")"
   ]
  },
  {
   "cell_type": "code",
   "execution_count": null,
   "id": "c7f2147a-1725-4a65-b0fb-d3a76c2f4cd1",
   "metadata": {},
   "outputs": [],
   "source": [
    "scatter_display"
   ]
  },
  {
   "cell_type": "code",
   "execution_count": null,
   "id": "10e448ee-1ce3-40e9-8738-583af7bf6e78",
   "metadata": {},
   "outputs": [],
   "source": [
    "scatter_kymograph_display"
   ]
  },
  {
   "cell_type": "code",
   "execution_count": null,
   "id": "7c87db6a-59bc-4fb2-bc22-09739aa85ebb",
   "metadata": {},
   "outputs": [],
   "source": [
    "hist_display"
   ]
  },
  {
   "cell_type": "code",
   "execution_count": null,
   "id": "11e9b715-92e6-4fb0-8a7f-f416dc181e78",
   "metadata": {},
   "outputs": [],
   "source": [
    "hist_kymograph_display"
   ]
  },
  {
   "cell_type": "markdown",
   "id": "4b72f597-fc76-4488-8b68-dc8bd0473638",
   "metadata": {},
   "source": [
    "Out of memory slow but not unbearibly so. Easy speed up could be achieved by loading everything into distributed memory, but will still have lag from the plot:"
   ]
  },
  {
   "cell_type": "markdown",
   "id": "37f09ada-be12-495f-96db-9889b583491c",
   "metadata": {},
   "source": [
    "### Distributed Memory"
   ]
  },
  {
   "cell_type": "code",
   "execution_count": null,
   "id": "ef3e0be8-e2a2-4994-88fa-7e01923d4a28",
   "metadata": {},
   "outputs": [],
   "source": [
    "headpath = \"/home/de64/scratch/de64/sync_folder/2021-05-27_lDE18_20x_run_1/mVenus\""
   ]
  },
  {
   "cell_type": "code",
   "execution_count": null,
   "id": "6a61a2a3-518d-43c1-aa7c-805fb741ee75",
   "metadata": {},
   "outputs": [],
   "source": [
    "dask_controller = tr.trcluster.dask_controller(\n",
    "    walltime=\"02:00:00\",\n",
    "    local=False,\n",
    "    n_workers=20,\n",
    "    memory=\"32GB\",\n",
    "    working_directory=headpath + \"/dask\",\n",
    ")\n",
    "dask_controller.startdask()"
   ]
  },
  {
   "cell_type": "code",
   "execution_count": null,
   "id": "f478d31c-fc41-4839-8021-400b92ce800f",
   "metadata": {},
   "outputs": [],
   "source": [
    "dask_controller.displaydashboard()"
   ]
  },
  {
   "cell_type": "code",
   "execution_count": null,
   "id": "1690b051-cfd3-4739-8a33-e23538505570",
   "metadata": {},
   "outputs": [],
   "source": [
    "kymo_xarr = tr.kymo_xarr(\n",
    "    \"/home/de64/scratch/de64/sync_folder/2021-05-27_lDE18_20x_run_1/mVenus\"\n",
    ").persist()"
   ]
  },
  {
   "cell_type": "code",
   "execution_count": null,
   "id": "16ee7e26-eaf2-4bfa-a580-643fbd0a035a",
   "metadata": {},
   "outputs": [],
   "source": [
    "kymo_df = (\n",
    "    dd.read_parquet(\n",
    "        \"/home/de64/scratch/de64/sync_folder/2021-05-27_lDE18_20x_run_1/Barcodes/percentiles\"\n",
    "    )\n",
    "    .loc[:1000000000]\n",
    "    .compute()\n",
    ")"
   ]
  },
  {
   "cell_type": "code",
   "execution_count": null,
   "id": "074f5c7e-9f1c-427b-9adf-eb0ae3002a11",
   "metadata": {
    "tags": []
   },
   "outputs": [],
   "source": [
    "dask_controller.daskclient.rebalance()"
   ]
  },
  {
   "cell_type": "code",
   "execution_count": null,
   "id": "831e2624-ca1a-4ebf-98c5-6f1777758ba0",
   "metadata": {},
   "outputs": [],
   "source": [
    "scatter_display, select_scatter, select_scatter_trenchid = tr.linked_scatter(\n",
    "    kymo_df, \"RFP 98th Percentile\", \"Cy5 98th Percentile\", cmap=\"gray_r\", height=600\n",
    ")"
   ]
  },
  {
   "cell_type": "code",
   "execution_count": null,
   "id": "78f945d3-90ad-4c1b-81c6-475be7a1cfa7",
   "metadata": {},
   "outputs": [],
   "source": [
    "scatter_kymograph_display = tr.linked_kymograph_for_scatter(\n",
    "    kymo_xarr,\n",
    "    kymo_df,\n",
    "    \"RFP 98th Percentile\",\n",
    "    \"Cy5 98th Percentile\",\n",
    "    select_scatter,\n",
    "    select_scatter_trenchid,\n",
    "    y_scale=3,\n",
    "    x_window_size=300,\n",
    ")"
   ]
  },
  {
   "cell_type": "code",
   "execution_count": null,
   "id": "171b7ce2-872b-4451-99f9-462f4f4856ce",
   "metadata": {},
   "outputs": [],
   "source": [
    "hist_display, edges, select_histcolumn, select_hist_trenchid = tr.linked_histogram(\n",
    "    kymo_df, \"RFP 98th Percentile\", bins=50, minperc=0, maxperc=99, height=400\n",
    ")"
   ]
  },
  {
   "cell_type": "code",
   "execution_count": null,
   "id": "fa5093ec-673a-4b71-a4e2-f2b1ed29d4e3",
   "metadata": {},
   "outputs": [],
   "source": [
    "hist_kymograph_display = tr.linked_kymograph_for_hist(\n",
    "    kymo_xarr,\n",
    "    kymo_df,\n",
    "    \"RFP 98th Percentile\",\n",
    "    edges,\n",
    "    select_histcolumn,\n",
    "    select_hist_trenchid,\n",
    "    y_scale=3,\n",
    "    x_window_size=300,\n",
    ")"
   ]
  },
  {
   "cell_type": "code",
   "execution_count": null,
   "id": "46ad141b-4add-411c-97d8-a3e119f26e06",
   "metadata": {},
   "outputs": [],
   "source": [
    "scatter_display"
   ]
  },
  {
   "cell_type": "code",
   "execution_count": null,
   "id": "87278b49-b32c-4331-a5d3-cda0f160fc8e",
   "metadata": {},
   "outputs": [],
   "source": [
    "scatter_kymograph_display"
   ]
  },
  {
   "cell_type": "code",
   "execution_count": null,
   "id": "2c554c0f-6eae-49a8-afed-855514636684",
   "metadata": {},
   "outputs": [],
   "source": [
    "hist_display"
   ]
  },
  {
   "cell_type": "code",
   "execution_count": null,
   "id": "7526fc29-59d8-4205-bdf4-52977829ce7c",
   "metadata": {},
   "outputs": [],
   "source": [
    "hist_kymograph_display"
   ]
  },
  {
   "cell_type": "code",
   "execution_count": null,
   "id": "c8f144e2-ff1b-4825-abc9-f9d2ba726541",
   "metadata": {
    "tags": []
   },
   "outputs": [],
   "source": [
    "dask_controller.shutdown()"
   ]
  }
 ],
 "metadata": {
  "kernelspec": {
   "display_name": "Python 3",
   "language": "python",
   "name": "python3"
  },
  "language_info": {
   "codemirror_mode": {
    "name": "ipython",
    "version": 3
   },
   "file_extension": ".py",
   "mimetype": "text/x-python",
   "name": "python",
   "nbconvert_exporter": "python",
   "pygments_lexer": "ipython3",
   "version": "3.8.5"
  }
 },
 "nbformat": 4,
 "nbformat_minor": 5
}
