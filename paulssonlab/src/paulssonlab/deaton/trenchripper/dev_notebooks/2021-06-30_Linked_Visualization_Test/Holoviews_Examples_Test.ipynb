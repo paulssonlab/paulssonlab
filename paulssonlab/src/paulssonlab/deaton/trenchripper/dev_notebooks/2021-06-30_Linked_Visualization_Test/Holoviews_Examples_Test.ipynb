{
 "cells": [
  {
   "cell_type": "code",
   "execution_count": null,
   "id": "fd3d349a-5f20-4f53-8218-b016ff99c2d0",
   "metadata": {},
   "outputs": [],
   "source": [
    "import paulssonlab.deaton.trenchripper.trenchripper as tr\n",
    "\n",
    "import holoviews as hv\n",
    "\n",
    "hv.extension(\"bokeh\")"
   ]
  },
  {
   "cell_type": "code",
   "execution_count": null,
   "id": "4e3d9bfa-23f3-4df3-a3cc-5c54fd7c5b6c",
   "metadata": {},
   "outputs": [],
   "source": [
    "headpath = \"/home/de64/scratch/de64/sync_folder/2021-05-27_lDE18_20x_run_1/mVenus\""
   ]
  },
  {
   "cell_type": "code",
   "execution_count": null,
   "id": "3620a819-56a6-480d-86b9-b2e3994c0fd8",
   "metadata": {
    "tags": []
   },
   "outputs": [],
   "source": [
    "dask_controller = tr.trcluster.dask_controller(\n",
    "    walltime=\"02:00:00\",\n",
    "    local=False,\n",
    "    n_workers=4,\n",
    "    memory=\"32GB\",\n",
    "    working_directory=headpath + \"/dask\",\n",
    ")\n",
    "dask_controller.startdask()"
   ]
  },
  {
   "cell_type": "code",
   "execution_count": null,
   "id": "35c32561-d492-40b0-95b2-35a20c259e64",
   "metadata": {},
   "outputs": [],
   "source": [
    "dask_controller.displaydashboard()"
   ]
  },
  {
   "cell_type": "code",
   "execution_count": null,
   "id": "532a7170-98a1-4e56-8d7e-5121e40a5813",
   "metadata": {
    "tags": []
   },
   "outputs": [],
   "source": [
    "dask_controller.daskclient.restart()"
   ]
  },
  {
   "cell_type": "code",
   "execution_count": null,
   "id": "da0a86d2-c9b9-4886-80bc-998be7c45882",
   "metadata": {},
   "outputs": [],
   "source": [
    "import dask.dataframe as dd\n",
    "import h5py\n",
    "import xarray as xr\n",
    "import dask.array as da\n",
    "import numpy as np\n",
    "import dask.delayed as delayed"
   ]
  },
  {
   "cell_type": "code",
   "execution_count": null,
   "id": "de5d92e7-21ca-465f-b5f6-e54fb6fccc78",
   "metadata": {
    "tags": []
   },
   "outputs": [],
   "source": [
    "# ## This will be necessary for complex lookups later possibly\n",
    "# data_parquet = dd.read_parquet(\"/home/de64/scratch/de64/sync_folder/2021-05-27_lDE18_20x_run_1/mVenus/kymograph/metadata\")\n",
    "# data_parquet = tr.set_new_aligned_index(data_parquet,\"Trenchid Timepoint Index\")\n",
    "# meta_handle = tr.pandas_hdf5_handler(headpath+\"/metadata.hdf5\")\n",
    "# metadata = meta_handle.read_df(\"global\",read_metadata=True).metadata\n",
    "# channels = metadata[\"channels\"]\n",
    "# file_indices = data_parquet[\"File Index\"].unique().compute().to_list()"
   ]
  },
  {
   "cell_type": "code",
   "execution_count": null,
   "id": "3a785d72-0d1f-4359-ba61-49098ea32f6d",
   "metadata": {},
   "outputs": [],
   "source": [
    "data_parquet = dd.read_parquet(\n",
    "    \"/home/de64/scratch/de64/sync_folder/2021-05-27_lDE18_20x_run_1/mVenus/kymograph/metadata\"\n",
    ")\n",
    "meta_handle = tr.pandas_hdf5_handler(headpath + \"/metadata.hdf5\")\n",
    "metadata = meta_handle.read_df(\"global\", read_metadata=True).metadata\n",
    "channels = metadata[\"channels\"]\n",
    "file_indices = data_parquet[\"File Index\"].unique().compute().to_list()"
   ]
  },
  {
   "cell_type": "code",
   "execution_count": null,
   "id": "b8a4e3a3-0fcd-4e1a-a050-e2c85e045c7c",
   "metadata": {
    "tags": []
   },
   "outputs": [],
   "source": [
    "file_indices"
   ]
  },
  {
   "cell_type": "code",
   "execution_count": null,
   "id": "26842b1f-f848-480f-9cba-f09113551945",
   "metadata": {},
   "outputs": [],
   "source": [
    "def fetch_hdf5(filename, channel):\n",
    "    with h5py.File(filename, \"r\") as infile:\n",
    "        data = infile[channel][:]\n",
    "    return data"
   ]
  },
  {
   "cell_type": "code",
   "execution_count": null,
   "id": "8ccc005d-ee13-4e99-9ac6-e305dc9a0416",
   "metadata": {},
   "outputs": [],
   "source": [
    "delayed_fetch_hdf5 = delayed(fetch_hdf5)\n",
    "filenames = [\n",
    "    headpath + \"/kymograph/kymograph_\" + str(file_idx) + \".hdf5\"\n",
    "    for file_idx in file_indices\n",
    "]\n",
    "\n",
    "sample = fetch_hdf5(filenames[0], channels[0])\n",
    "\n",
    "channel_arr = []\n",
    "for channel in channels:\n",
    "    filenames = [\n",
    "        headpath + \"/kymograph/kymograph_\" + str(file_idx) + \".hdf5\"\n",
    "        for file_idx in file_indices\n",
    "    ]\n",
    "    delayed_arrays = [delayed_fetch_hdf5(fn, channel) for fn in filenames]\n",
    "    da_file_arrays = [\n",
    "        da.from_delayed(delayed_reader, shape=sample.shape, dtype=sample.dtype)\n",
    "        for delayed_reader in delayed_arrays\n",
    "    ]\n",
    "    da_file_index_arr = da.concatenate(da_file_arrays, axis=0)\n",
    "    channel_arr.append(da_file_index_arr)\n",
    "da_channel_arr = da.stack(channel_arr, axis=0)\n",
    "da_channel_arr = (\n",
    "    da_channel_arr.swapaxes(3, 4)\n",
    "    .reshape(\n",
    "        da_channel_arr.shape[0], da_channel_arr.shape[1], -1, da_channel_arr.shape[3]\n",
    "    )\n",
    "    .swapaxes(2, 3)\n",
    ")"
   ]
  },
  {
   "cell_type": "code",
   "execution_count": null,
   "id": "90922252-33e1-48bc-9c2e-0d6d50ea3b44",
   "metadata": {},
   "outputs": [],
   "source": [
    "da_channel_arr"
   ]
  },
  {
   "cell_type": "code",
   "execution_count": null,
   "id": "e3930ca8-61ce-4e1c-83a1-63b3fec28ace",
   "metadata": {
    "tags": []
   },
   "outputs": [],
   "source": [
    "da_channel_arr_sub = da_channel_arr[:, :10000]"
   ]
  },
  {
   "cell_type": "code",
   "execution_count": null,
   "id": "4ad47ae7-5159-4cb1-8e8d-b4423110f028",
   "metadata": {},
   "outputs": [],
   "source": [
    "da_channel_arr_sub"
   ]
  },
  {
   "cell_type": "code",
   "execution_count": null,
   "id": "3fb9f1db-7d54-4b85-a2b5-b2243bfd9364",
   "metadata": {},
   "outputs": [],
   "source": [
    "da_channel_arr_mem = da_channel_arr_sub.compute()"
   ]
  },
  {
   "cell_type": "code",
   "execution_count": null,
   "id": "8bafd74b-3e0b-4496-96d0-a7836c21093c",
   "metadata": {},
   "outputs": [],
   "source": [
    "#     trenchid = Stream.define('Trenchid', trenchid=0)\n",
    "dims = [\n",
    "    \"Channel\",\n",
    "    \"trenchid\",\n",
    "    \"y\",\n",
    "    \"xt\",\n",
    "]\n",
    "coords = {d: np.arange(s) for d, s in zip(dims, da_channel_arr_mem.shape)}\n",
    "coords[\"Channel\"] = np.array(channels)\n",
    "xrstack = xr.DataArray(\n",
    "    da_channel_arr_mem, dims=dims, coords=coords, name=\"Data\"\n",
    ").astype(\"uint16\")\n",
    "\n",
    "# Wrap in HoloViews Dataset\n",
    "ds = hv.Dataset(xrstack)"
   ]
  },
  {
   "cell_type": "code",
   "execution_count": null,
   "id": "aa3270a1-3463-4da6-924f-346f3931448e",
   "metadata": {},
   "outputs": [],
   "source": [
    "coords[\"Channel\"]"
   ]
  },
  {
   "cell_type": "code",
   "execution_count": null,
   "id": "acf1218c-0334-4660-b6c0-7c0b4b1641b9",
   "metadata": {},
   "outputs": [],
   "source": [
    "from holoviews.streams import Stream, param\n",
    "\n",
    "trenchid = Stream.define(\"trenchid\", trenchid=10)\n",
    "\n",
    "trenchid_stream = trenchid()\n",
    "\n",
    "y_size = 3\n",
    "x_window_scale = 0.6\n",
    "x_size = y_size * x_window_scale\n",
    "\n",
    "\n",
    "def load_image(\n",
    "    channel,\n",
    "    trenchid,\n",
    "    width=da_channel_arr_mem.shape[3],\n",
    "    height=int(da_channel_arr_mem.shape[2] * y_size),\n",
    "):\n",
    "    arr = xrstack.loc[channel, trenchid].values\n",
    "    return hv.Image(arr, bounds=(0, 0, width, height))\n",
    "\n",
    "\n",
    "# Define DynamicMap with z-dimension to slide through\n",
    "image_stack = hv.DynamicMap(load_image, kdims=[\"Channel\"], streams=[trenchid_stream])\n",
    "\n",
    "\n",
    "def set_bounds(\n",
    "    fig,\n",
    "    element,\n",
    "    y_dim=da_channel_arr_mem.shape[2] * y_size,\n",
    "    x_dim=da_channel_arr_mem.shape[3],\n",
    "    x_window_scale=x_window_scale,\n",
    "):\n",
    "    sy = y_dim - 0.5\n",
    "    sx = x_dim - 0.5\n",
    "\n",
    "    fig.state.y_range.bounds = (-0.5, sy)\n",
    "    fig.state.x_range.bounds = (0, sx)\n",
    "    fig.state.x_range.start = 0\n",
    "    fig.state.x_range.reset_start = 0\n",
    "    fig.state.x_range.end = int(da_channel_arr_mem.shape[3] * x_window_scale)\n",
    "    fig.state.x_range.reset_end = int(da_channel_arr_mem.shape[3] * x_window_scale)\n",
    "\n",
    "\n",
    "display_obj = image_stack.opts(\n",
    "    plot={\n",
    "        \"Image\": dict(\n",
    "            colorbar=True, tools=[\"hover\"], hooks=[set_bounds], aspect=\"equal\"\n",
    "        ),\n",
    "    }\n",
    ")\n",
    "display_obj = display_obj.opts(\n",
    "    cmap=\"Greys_r\",\n",
    "    height=int(da_channel_arr_mem.shape[2] * y_size),\n",
    "    width=int(da_channel_arr_mem.shape[3] * x_size),\n",
    ")\n",
    "\n",
    "display_obj = display_obj.redim.range(trenchid=(0, coords[\"trenchid\"][-1]))\n",
    "display_obj = display_obj.redim.values(Channel=coords[\"Channel\"])"
   ]
  },
  {
   "cell_type": "code",
   "execution_count": null,
   "id": "968c66dd-543e-4f06-9d62-88b1171fc742",
   "metadata": {},
   "outputs": [],
   "source": [
    "display_obj.event(trenchid=1)"
   ]
  },
  {
   "cell_type": "code",
   "execution_count": null,
   "id": "a17636ed-caab-4cb7-a6ba-b1873bfb0eab",
   "metadata": {
    "tags": []
   },
   "outputs": [],
   "source": [
    "display_obj"
   ]
  },
  {
   "cell_type": "code",
   "execution_count": null,
   "id": "310ec115-cc1a-480a-9855-52ab3a2f503f",
   "metadata": {},
   "outputs": [],
   "source": [
    "kymo_df = dd.read_parquet(\n",
    "    \"/home/de64/scratch/de64/sync_folder/2021-05-27_lDE18_20x_run_1/Barcodes/percentiles\"\n",
    ")"
   ]
  },
  {
   "cell_type": "code",
   "execution_count": null,
   "id": "4dd3b5aa-864c-4794-85de-ea40110668c6",
   "metadata": {},
   "outputs": [],
   "source": [
    "kymo_df"
   ]
  },
  {
   "cell_type": "code",
   "execution_count": null,
   "id": "eb435b14-a962-4a7f-b5c0-fb57cebf4aaf",
   "metadata": {},
   "outputs": [],
   "source": [
    "test_df = kymo_df.loc[:6500000].compute()"
   ]
  },
  {
   "cell_type": "code",
   "execution_count": null,
   "id": "7293548d-d5ec-4efb-8dd8-01cd98d32d2f",
   "metadata": {},
   "outputs": [],
   "source": [
    "dataset = hv.Dataset(test_df, vdims=(\"trenchid\"))"
   ]
  },
  {
   "cell_type": "code",
   "execution_count": null,
   "id": "fd21ae7b-1d87-44fb-9403-7e32e3647fc6",
   "metadata": {},
   "outputs": [],
   "source": [
    "test_df.iloc[1092][\"trenchid\"]"
   ]
  },
  {
   "cell_type": "code",
   "execution_count": null,
   "id": "337f7f91-6f2c-4af3-bc3f-f004e012c4ed",
   "metadata": {},
   "outputs": [],
   "source": [
    "from holoviews.streams import Stream, param\n",
    "\n",
    "y_size = 3\n",
    "x_window_scale = 0.6\n",
    "x_size = y_size * x_window_scale\n",
    "\n",
    "# Declare HeatMap\n",
    "potat = hv.Scatter(\n",
    "    data=dataset, vdims=[\"RFP 98th Percentile\"], kdims=[\"Cy7 98th Percentile\"]\n",
    ")\n",
    "potat = potat.opts(\n",
    "    color=\"k\",\n",
    "    marker=\"s\",\n",
    "    size=5,\n",
    "    tools=[\"hover\", \"doubletap\"],\n",
    "    fontscale=2,\n",
    "    width=800,\n",
    "    height=600,\n",
    "    xlim=(0, None),\n",
    "    ylim=(0, None),\n",
    ")\n",
    "\n",
    "select1d = hv.streams.Selection1D(source=potat, index=[0])\n",
    "\n",
    "\n",
    "def select_pt_load_image(\n",
    "    channel,\n",
    "    index,\n",
    "    width=da_channel_arr_mem.shape[3],\n",
    "    height=int(da_channel_arr_mem.shape[2] * y_size),\n",
    "):\n",
    "    trenchid = test_df.iloc[index[0]][\"trenchid\"]\n",
    "    arr = xrstack.loc[channel, trenchid].values\n",
    "    return hv.Image(arr, bounds=(0, 0, width, height))\n",
    "\n",
    "\n",
    "# Define DynamicMap with z-dimension to slide through\n",
    "image_stack = hv.DynamicMap(select_pt_load_image, kdims=[\"Channel\"], streams=[select1d])\n",
    "\n",
    "\n",
    "def set_bounds(\n",
    "    fig,\n",
    "    element,\n",
    "    y_dim=da_channel_arr_mem.shape[2] * y_size,\n",
    "    x_dim=da_channel_arr_mem.shape[3],\n",
    "    x_window_scale=x_window_scale,\n",
    "):\n",
    "    sy = y_dim - 0.5\n",
    "    sx = x_dim - 0.5\n",
    "\n",
    "    fig.state.y_range.bounds = (-0.5, sy)\n",
    "    fig.state.x_range.bounds = (0, sx)\n",
    "    fig.state.x_range.start = 0\n",
    "    fig.state.x_range.reset_start = 0\n",
    "    fig.state.x_range.end = int(da_channel_arr_mem.shape[3] * x_window_scale)\n",
    "    fig.state.x_range.reset_end = int(da_channel_arr_mem.shape[3] * x_window_scale)\n",
    "\n",
    "\n",
    "display_obj = image_stack.opts(\n",
    "    plot={\n",
    "        \"Image\": dict(\n",
    "            colorbar=True, tools=[\"hover\"], hooks=[set_bounds], aspect=\"equal\"\n",
    "        ),\n",
    "    }\n",
    ")\n",
    "display_obj = display_obj.opts(\n",
    "    cmap=\"Greys_r\",\n",
    "    height=int(da_channel_arr_mem.shape[2] * y_size),\n",
    "    width=int(da_channel_arr_mem.shape[3] * x_size),\n",
    ")\n",
    "\n",
    "display_obj = display_obj.redim.range(trenchid=(0, coords[\"trenchid\"][-1]))\n",
    "display_obj = display_obj.redim.values(Channel=coords[\"Channel\"])\n",
    "\n",
    "\n",
    "# # Declare HeatMap\n",
    "# potat = hv.Scatter(data=dataset,vdims=['RFP 98th Percentile'],kdims=['Cy7 98th Percentile'])\n",
    "# potat = potat.opts(color='k', marker='s', size=5,tools=[\"hover\",\"doubletap\"])\n",
    "\n",
    "# # Declare Tap stream with heatmap as source and initial values\n",
    "# # posxy = hv.streams.DoubleTap(source=potat, x=0., y=0.)\n",
    "\n",
    "# select1d = hv.streams.Selection1D(source=potat)\n",
    "\n",
    "# empty = hv.Scatter(dataset,vdims=['RFP 98th Percentile'],kdims=['Cy7 98th Percentile'])\n",
    "# empty = empty.opts(color='k', marker='s', size=5, tools=[\"hover\"])\n",
    "# def select_pt(index):\n",
    "#     if not index:\n",
    "#         return empty\n",
    "#     df_selection = test_df.iloc[index[0]]\n",
    "#     trenchid = test_df.iloc[1092][\"trenchid\"]\n",
    "#     outscatter = hv.Scatter(df_selection,vdims=['RFP 98th Percentile'],kdims=['Cy7 98th Percentile'])\n",
    "#     return outscatter.opts(color='k', marker='s', size=10, tools=[\"hover\"])\n",
    "\n",
    "# # Define function to compute histogram based on tap location\n",
    "# # def tap_potat(index):\n",
    "# #     if not index:\n",
    "# #         return empty\n",
    "\n",
    "# #     return hv.Scatter(data=selection,vdims=['RFP 98th Percentile'],kdims=['Cy7 98th Percentile'])\n",
    "\n",
    "# sel_dmap = hv.DynamicMap(select_pt, streams=[select1d])"
   ]
  },
  {
   "cell_type": "code",
   "execution_count": null,
   "id": "3a5aef05-76ba-462f-93e7-b18037f04fb2",
   "metadata": {},
   "outputs": [],
   "source": [
    "display_obj"
   ]
  },
  {
   "cell_type": "code",
   "execution_count": null,
   "id": "31719495-a98a-466b-9d83-9fbca4536561",
   "metadata": {},
   "outputs": [],
   "source": [
    "potat"
   ]
  },
  {
   "cell_type": "code",
   "execution_count": null,
   "id": "80787891-b684-4205-899b-6977c743b31b",
   "metadata": {},
   "outputs": [],
   "source": [
    "potat + tap_dmap.opts(framewise=True)"
   ]
  },
  {
   "cell_type": "code",
   "execution_count": null,
   "id": "6bfa5b03-be12-462e-9d56-8f2861df43e7",
   "metadata": {},
   "outputs": [],
   "source": [
    "posxy"
   ]
  },
  {
   "cell_type": "code",
   "execution_count": null,
   "id": "5dd507b2-dc33-43fa-a431-29bb6b7daf12",
   "metadata": {},
   "outputs": [],
   "source": [
    "import pandas as pd\n",
    "\n",
    "# Declare dataset\n",
    "df = pd.read_csv(\"http://assets.holoviews.org/data/diseases.csv.gz\", compression=\"gzip\")\n",
    "dataset = hv.Dataset(df, vdims=(\"measles\", \"Measles Incidence\"))\n",
    "\n",
    "# Declare HeatMap\n",
    "heatmap = hv.HeatMap(\n",
    "    dataset.aggregate([\"Year\", \"State\"], np.mean),\n",
    "    label=\"Average Weekly Measles Incidence\",\n",
    ").select(Year=(1928, 2002))\n",
    "\n",
    "# Declare Tap stream with heatmap as source and initial values\n",
    "posxy = hv.streams.Tap(source=heatmap, x=1951, y=\"New York\")\n",
    "\n",
    "# Define function to compute histogram based on tap location\n",
    "def tap_histogram(x, y):\n",
    "    return hv.Curve(\n",
    "        dataset.select(State=y, Year=int(x)),\n",
    "        kdims=\"Week\",\n",
    "        label=f\"Year: {x}, State: {y}\",\n",
    "    )\n",
    "\n",
    "\n",
    "# Connect the Tap stream to the tap_histogram callback\n",
    "tap_dmap = hv.DynamicMap(tap_histogram, streams=[posxy])"
   ]
  },
  {
   "cell_type": "code",
   "execution_count": null,
   "id": "053ea365-b716-4abe-8133-d41101802783",
   "metadata": {},
   "outputs": [],
   "source": [
    "from holoviews import opts\n",
    "\n",
    "# Display the Heatmap and Curve side by side\n",
    "heatmap + tap_dmap"
   ]
  },
  {
   "cell_type": "code",
   "execution_count": null,
   "id": "6b53cdb5-a336-4c7d-814f-ee7413805f96",
   "metadata": {},
   "outputs": [],
   "source": []
  },
  {
   "cell_type": "code",
   "execution_count": null,
   "id": "963e49f9-42ae-40bd-b6c0-97d04e0020b3",
   "metadata": {},
   "outputs": [],
   "source": [
    "moo = hv.DynamicMap(test, kdims=[\"Channel\", \"trenchid\"])"
   ]
  },
  {
   "cell_type": "code",
   "execution_count": null,
   "id": "36e20369-deae-4ad4-97e2-4f69602ab855",
   "metadata": {
    "tags": []
   },
   "outputs": [],
   "source": [
    "hv.help(test)"
   ]
  },
  {
   "cell_type": "code",
   "execution_count": null,
   "id": "a840178d-896f-41c5-9f53-31ea40dd746c",
   "metadata": {
    "tags": []
   },
   "outputs": [],
   "source": [
    "hv.help(test)"
   ]
  },
  {
   "cell_type": "code",
   "execution_count": null,
   "id": "7fd5d8f0-3a6e-4f2d-9f81-a04def6d0d4f",
   "metadata": {
    "tags": []
   },
   "outputs": [],
   "source": [
    "moo = moo.redim.values(Channel=selection_coords[\"Channel\"].tolist())\n",
    "moo = moo.redim.range(trenchid=(0, 10))"
   ]
  },
  {
   "cell_type": "code",
   "execution_count": null,
   "id": "465aa3d9-858f-47b0-983f-a15e5d73d42b",
   "metadata": {
    "tags": []
   },
   "outputs": [],
   "source": [
    "moo.opts)"
   ]
  },
  {
   "cell_type": "code",
   "execution_count": null,
   "id": "dcb9749f-7b34-42f0-8e8a-5aa1abcbf62e",
   "metadata": {},
   "outputs": [],
   "source": [
    "def get_display_from_dask_arr(da_channel_arr):\n",
    "    # Wrap in xarray DataArray and label coordinates\n",
    "    #     trenchid = Stream.define('Trenchid', trenchid=0)\n",
    "    dims = [\n",
    "        \"Channel\",\n",
    "        \"trenchid\",\n",
    "        \"y\",\n",
    "        \"xt\",\n",
    "    ]\n",
    "    coords = {d: np.arange(s) for d, s in zip(dims, da_channel_arr.shape)}\n",
    "    coords[\"Channel\"] = np.array(channels)\n",
    "    xrstack = xr.DataArray(\n",
    "        da_channel_arr, dims=dims, coords=coords, name=\"Data\"\n",
    "    ).astype(\"uint16\")\n",
    "\n",
    "    # Wrap in HoloViews Dataset\n",
    "    ds = hv.Dataset(xrstack)\n",
    "\n",
    "    # # Convert to stack of images with x/y-coordinates along axes\n",
    "    # image_stack = ds.to(hv.Image, ['xt', 'y'], dynamic=True)\n",
    "    # bounds = (0,0,400,140)\n",
    "    image_stack = ds.to(hv.Image, [\"xt\", \"y\"], dynamic=True)\n",
    "\n",
    "    y_size = 2.9\n",
    "    x_window_scale = 0.7\n",
    "    x_size = y_size * x_window_scale\n",
    "\n",
    "    def set_bounds(\n",
    "        fig,\n",
    "        element,\n",
    "        y_dim=da_channel_arr.shape[2],\n",
    "        x_dim=da_channel_arr.shape[3],\n",
    "        x_window_scale=x_window_scale,\n",
    "    ):\n",
    "        sy = y_dim - 0.5\n",
    "        sx = x_dim - 0.5\n",
    "\n",
    "        fig.state.y_range.bounds = (-0.5, sy)\n",
    "        fig.state.x_range.bounds = (-0.5, sx)\n",
    "        fig.state.x_range.start = 0\n",
    "        fig.state.x_range.reset_start = 0\n",
    "        fig.state.x_range.end = int(da_channel_arr.shape[3] * x_window_scale)\n",
    "        fig.state.x_range.reset_end = int(da_channel_arr.shape[3] * x_window_scale)\n",
    "\n",
    "    display_obj = image_stack.opts(\n",
    "        plot={\n",
    "            \"Image\": dict(\n",
    "                colorbar=True,\n",
    "                width=int(da_channel_arr.shape[3] * x_size),\n",
    "                height=int(da_channel_arr.shape[2] * y_size),\n",
    "                tools=[\"hover\"],\n",
    "                hooks=[set_bounds],\n",
    "                aspect=\"equal\",\n",
    "            ),\n",
    "        }\n",
    "    )\n",
    "    display_obj = display_obj.opts(cmap=\"Greys_r\")\n",
    "\n",
    "    return display_obj"
   ]
  },
  {
   "cell_type": "code",
   "execution_count": null,
   "id": "fc6d7e11-a874-4169-a1a8-e2129e0b432f",
   "metadata": {},
   "outputs": [],
   "source": [
    "display_obj = get_display_from_dask_arr(da_channel_arr_mem)"
   ]
  },
  {
   "cell_type": "code",
   "execution_count": null,
   "id": "cfedf577-d117-414a-9b6a-22baf5e6d63e",
   "metadata": {},
   "outputs": [],
   "source": [
    "display_obj"
   ]
  },
  {
   "cell_type": "code",
   "execution_count": null,
   "id": "20ffa4af-ae61-47f9-83df-a094810f10b4",
   "metadata": {},
   "outputs": [],
   "source": [
    "from holoviews.streams import Stream, param\n",
    "\n",
    "trenchid = Stream.define(\"Trenchid\", trenchid=0)"
   ]
  },
  {
   "cell_type": "code",
   "execution_count": null,
   "id": "f28cebb3-421c-426c-817b-ae7b4c4616b4",
   "metadata": {},
   "outputs": [],
   "source": [
    "display_obj.event(trenchid=10)"
   ]
  },
  {
   "cell_type": "code",
   "execution_count": null,
   "id": "cfa66bc9-50f7-4446-aaca-bfcf8b3d0740",
   "metadata": {},
   "outputs": [],
   "source": [
    "hv.help(trenchid)"
   ]
  },
  {
   "cell_type": "code",
   "execution_count": null,
   "id": "6ab6197c-7fbf-4414-b344-73fbbfba9a5b",
   "metadata": {},
   "outputs": [],
   "source": []
  }
 ],
 "metadata": {
  "kernelspec": {
   "display_name": "Python 3",
   "language": "python",
   "name": "python3"
  },
  "language_info": {
   "codemirror_mode": {
    "name": "ipython",
    "version": 3
   },
   "file_extension": ".py",
   "mimetype": "text/x-python",
   "name": "python",
   "nbconvert_exporter": "python",
   "pygments_lexer": "ipython3",
   "version": "3.8.5"
  }
 },
 "nbformat": 4,
 "nbformat_minor": 5
}
