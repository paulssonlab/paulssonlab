{
 "cells": [
  {
   "cell_type": "markdown",
   "metadata": {},
   "source": [
    "# Introduction\n",
    "\n",
    "This notebook contains the entire `TrenchRipper` pipline, divided into simple steps. This pipline is ideal for Mother <br>Machine image data where cells possess fluorescent segmentation markers. Segmentation on phase or brightfield data <br>is being developed, but is still an experimental feature.\n",
    "\n",
    "The steps in this pipeline are as follows:\n",
    "1. Extracting your Mother Machine data (.nd2) into hdf5 format\n",
    "2. Identifying and cropping individual trenches into kymographs\n",
    "3. Segmenting cells with a fluorescent marker\n",
    "4. Determining lineages and object properties\n",
    "\n",
    "In each step, the user will dynamically specify parameters using a series of interactive diagnostics on their dataset. <br>Following this, a parameter file will be written to disk and then used to deploy a parallel computation on the <br>dataset, either locally or on a SLURM cluster.\n",
    "\n",
    "\n",
    "This is intended as an end-to-end solution to analyzing Mother Machine data. As such, **it is not trivial to plug data <br>directly into intermediate steps**, as it will lack the correct formatting and associated metadata. A notable <br>exception to this is using another program to segment data. The library references binary segmentation masks using <br>only metadata derived from their associated kymographs. As such, it is possible to generate segmentations on these <br>kymographs elsewhere and place them into the segmentation data path to have `TrenchRipper` act on those <br>segmentations instead. More on this in the segmentation section..."
   ]
  },
  {
   "cell_type": "markdown",
   "metadata": {},
   "source": [
    "#### Imports\n",
    "\n",
    "Run this section to import all relavent packages and libraries used in this notebook. You must run this everytime you open a new python kernel."
   ]
  },
  {
   "cell_type": "code",
   "execution_count": null,
   "metadata": {},
   "outputs": [],
   "source": [
    "import paulssonlab.deaton.trenchripper.trenchripper as tr\n",
    "\n",
    "import warnings\n",
    "\n",
    "warnings.filterwarnings(action=\"once\")\n",
    "\n",
    "import matplotlib\n",
    "\n",
    "matplotlib.rcParams[\"figure.figsize\"] = [20, 10]"
   ]
  },
  {
   "cell_type": "markdown",
   "metadata": {
    "tags": []
   },
   "source": [
    "# Part 1: mVenus"
   ]
  },
  {
   "cell_type": "markdown",
   "metadata": {},
   "source": [
    "#### Specify Paths\n",
    "\n",
    "Begin by defining the directory in which all processing will be done, as well as the initial nd2 file we will be <br>processing. This line should be run everytime you open a new python kernel.\n",
    "\n",
    "The format should be: `headpath = \"/path/to/folder\"` and `nd2file = \"/path/to/file.nd2\"`\n",
    "\n",
    "For example:\n",
    "```\n",
    "headpath = \"/n/scratch2/de64/2019-05-31_validation_data\"\n",
    "nd2file = \"/n/scratch2/de64/2019-05-31_validation_data/Main_Experiment.nd2\"\n",
    "```\n",
    "\n",
    "Ideally, these files should be placed in a storage location with relatively fast I/O"
   ]
  },
  {
   "cell_type": "code",
   "execution_count": null,
   "metadata": {},
   "outputs": [],
   "source": [
    "headpath = \"/home/de64/scratch/de64/sync_folder/2021-05-27_lDE18_20x_run_1/mVenus/\"\n",
    "# hdf5inputpath = \"/home/de64/scratch/de64/sync_folder/2021-01-28_lDE14/run/\"\n",
    "nd2file = \"/home/de64/scratch/de64/sync_folder/2021-05-27_lDE18_20x_run_1/run_100ms_mchry100_yfp50.nd2\""
   ]
  },
  {
   "cell_type": "markdown",
   "metadata": {},
   "source": [
    "## Extract to hdf5 files\n",
    "\n",
    "In this section, we will be extracting our image data. Currently this notebook only supports `.nd2` format; however <br>there are `.tiff` extractors in the TrenchRipper source files that are being added to `Master.ipynb` soon.\n",
    "\n",
    "In the abstract, this step will take a single `.nd2` file and split it into a set of `.hdf5` files stored in <br>`headpath/hdf5`. Splitting the file up in this way will facilitate quick procesing in later steps. Each field of <br>view will be split into one or more `.hdf5` files, depending on the number of images per file requested (more on <br>this later). \n",
    "\n",
    "To keep track of which output files correspond to which FOVs, as well as to keep track of experiment metadata, the <br>extractor also outputs a `metadata.hdf5` file in the `headpath` folder. The data from this step is accessible in <br>that `metadata.hdf5` file under the `global` key. If you would like to look at this metadata, you may use the <br>`tr.utils.pandas_hdf5_handler` to read from this file. Later steps will add additional metadata under different <br>keys into the `metadata.hdf5` file."
   ]
  },
  {
   "cell_type": "markdown",
   "metadata": {},
   "source": [
    "#### Start Dask Workers\n",
    "\n",
    "First, we start a `dask_controller` instance which will handle all of our parallel processing. The default parameters <br>here work well on O2. The critical arguments here are:\n",
    "\n",
    "**walltime** : For a cluster, the length of time you will request each node for.\n",
    "\n",
    "**local** : `True` if you want to perform computation locally. `False` if you want to perform it on a SLURM cluster.\n",
    "\n",
    "**n_workers** : Number of nodes to request if on the cluster, or number of processes if computing locally.\n",
    "\n",
    "**memory** : For a cluster, the amount of memory you will request each node for.\n",
    "\n",
    "**working_directory** : For a cluster, the directory in which data will be spilled to disk. Usually set as a folder in <br>the `headpath`."
   ]
  },
  {
   "cell_type": "code",
   "execution_count": null,
   "metadata": {},
   "outputs": [],
   "source": [
    "dask_controller = tr.trcluster.dask_controller(\n",
    "    walltime=\"04:00:00\",\n",
    "    local=False,\n",
    "    n_workers=20,\n",
    "    memory=\"2GB\",\n",
    "    working_directory=headpath + \"/dask\",\n",
    ")\n",
    "dask_controller.startdask()"
   ]
  },
  {
   "cell_type": "markdown",
   "metadata": {},
   "source": [
    "After running the above line, you will have a running Dask client. Run the line below and click the link to supervise <br>the computation being administered by the scheduler. \n",
    "\n",
    "Don't be alarmed if the screen starts mostly blank, it may take time for your workers to spin up. If you get a 404 <br>error on a cluster, it is likely that your ports are not being forwarded properly. If this occurs, please register <br>the issue on github."
   ]
  },
  {
   "cell_type": "code",
   "execution_count": null,
   "metadata": {},
   "outputs": [],
   "source": [
    "dask_controller.daskclient"
   ]
  },
  {
   "cell_type": "code",
   "execution_count": null,
   "metadata": {},
   "outputs": [],
   "source": [
    "dask_controller.shutdown()"
   ]
  },
  {
   "cell_type": "markdown",
   "metadata": {},
   "source": [
    "##### Perform Extraction\n",
    "\n",
    "Now that we have our cluster scheduler spun up, it is time to convert files. This will be handled by the <br>`hdf5_extractor` object. This extractor will pull up each FOV and split it such that each derived `.hdf5` file <br>contains, at maximum, N timepoints of that FOV per file. The image data stored in these files takes the <br>form of `(N,Y,X)` arrays that are accessible using the desired channel name as a key. \n",
    "\n",
    "The arguments for this extractor are:\n",
    "\n",
    " - **nd2file** : The filepath to the `.nd2` file you intend to extract.\n",
    " \n",
    " - **headpath** : The folder in which processing is occuring. Should be the same for each step in the pipeline.\n",
    "\n",
    " - **tpts_per_file** : The maximum number of timepoints stored in each output `.hdf5` file. Typical values are between 25 <br>and 100.\n",
    "\n",
    " - **ignore_fovmetadata** : Used when `.nd2` data is corrupted and does not possess records for stage positions or <br>timepoints. Only set `False` if the extractor throws errors on metadata handling.\n",
    "\n",
    " - **nd2reader_override** : Overrides values in metadata recovered using the `nd2reader`. Currently set to <br>`{\"z_levels\":[],\"z_coordinates\":[]}` by default to correct a known issue where z coordinates are mistakenly <br>interpreted as a z stack. See the [nd2reader](https://rbnvrw.github.io/nd2reader/) documentation for more info."
   ]
  },
  {
   "cell_type": "code",
   "execution_count": null,
   "metadata": {},
   "outputs": [],
   "source": [
    "# hdf5_extractor = tr.marlin_extractor(hdf5inputpath, headpath, metaparsestr='metadata_{timepoint:d}.hdf5')"
   ]
  },
  {
   "cell_type": "code",
   "execution_count": null,
   "metadata": {},
   "outputs": [],
   "source": [
    "hdf5_extractor = tr.ndextract.hdf5_fov_extractor(\n",
    "    nd2file,\n",
    "    headpath,\n",
    "    tpts_per_file=50,\n",
    "    ignore_fovmetadata=False,\n",
    "    nd2reader_override={\"z_levels\": [], \"z_coordinates\": []},\n",
    ")"
   ]
  },
  {
   "cell_type": "code",
   "execution_count": null,
   "metadata": {},
   "outputs": [],
   "source": [
    "# hdf5_extractor = tr.ndextract.tiff_extractor(\n",
    "#     tiffpath,\n",
    "#     headpath,\n",
    "#     [\"Phase\",\"YFP\"],tpts_per_file=50\n",
    "# )"
   ]
  },
  {
   "cell_type": "markdown",
   "metadata": {},
   "source": [
    "##### Extraction Parameters\n",
    "\n",
    "Here, you may set the time interval you want to extract. Useful for cropping data to the period exhibiting the dynamics of interest.\n",
    "\n",
    "Optionally take notes to add to the `metadata.hdf5` file. Notes may also be taken directly in this notebook."
   ]
  },
  {
   "cell_type": "code",
   "execution_count": null,
   "metadata": {},
   "outputs": [],
   "source": [
    "hdf5_extractor.inter_set_params()"
   ]
  },
  {
   "cell_type": "markdown",
   "metadata": {},
   "source": [
    "##### Begin Extraction \n",
    "\n",
    "Running the following line will start the extraction process. This may be monitored by examining the `Dask Dashboard` <br> under the link displayed earlier. Once the computation is complete, move to the next line.\n",
    "\n",
    "This step may take a long time, though it is possible to speed it up using additional workers."
   ]
  },
  {
   "cell_type": "code",
   "execution_count": null,
   "metadata": {},
   "outputs": [],
   "source": [
    "hdf5_extractor.extract(dask_controller)"
   ]
  },
  {
   "cell_type": "markdown",
   "metadata": {},
   "source": [
    "##### Shutdown Dask\n",
    "\n",
    "Once extraction is complete, it is likely that you will want to shutdown your `dask_controller` if you are on a <br>\n",
    "cluster. This is because the specifications of the current `dask_controller` will not be optimal for later steps. <br>\n",
    "To do this, run the following line and wait for it to complete. If it hangs, interrupt your kernel and re-run it. <br>\n",
    "If this also fails to shutdown your workers, you will have to manually shut them down using `scancel` in a terminal."
   ]
  },
  {
   "cell_type": "code",
   "execution_count": null,
   "metadata": {},
   "outputs": [],
   "source": [
    "dask_controller.daskclient.restart()"
   ]
  },
  {
   "cell_type": "code",
   "execution_count": null,
   "metadata": {},
   "outputs": [],
   "source": [
    "dask_controller.shutdown()"
   ]
  },
  {
   "cell_type": "markdown",
   "metadata": {},
   "source": [
    "## Kymographs\n",
    "\n",
    "Now that you have extracted your data into a series of `.hdf5` files, we will now perform identification and cropping <br>of the individual trenches/growth channels present in the images. This algorithm assumes that your growth trenches <br>are vertically aligned and that they alternate in their orientation from top to bottom. See the example image for the <br>correct geometry:\n",
    "\n",
    "![example_image](./resources/example_image.jpg)\n",
    "\n",
    "The output of this step will be a set of `.hdf5` files stored in `headpath/kymograph`. The image data stored in these <br>files takes the form of `(K,T,Y,X)` arrays where K is the trench index, T is time, and Y,X are the crop dimensions. <br>These arrays are accessible using keys of the form `\"[Image Channel]\"`. For example, looking up phase channel <br>data of trenches in the topmost row of an image will require the key `\"Phase\"`"
   ]
  },
  {
   "cell_type": "markdown",
   "metadata": {},
   "source": [
    "[ '/n/scratch3/users/d/de64/190917_20x_phase_gfp_segmentation002',\n",
    " '/n/scratch3/users/d/de64/190922_20x_phase_gfp_segmentation',\n",
    " '/n/scratch3/users/d/de64/190925_20x_phase_yfp_segmentation',\n",
    " '/n/scratch3/users/d/de64/ezrdm_training_sb7',\n",
    " '/n/scratch3/users/d/de64/mbm_training_sb7',\n",
    " '/n/scratch3/users/d/de64/Sb7_L35',\n",
    " '/n/scratch3/users/d/de64/MM_DVCvecto_TOP_1_9',\n",
    " '/n/scratch3/users/d/de64/Vibrio_2_1_TOP',\n",
    " '/n/scratch3/users/d/de64/Vibrio_A_B_VZRDM--04--RUN_80ms',\n",
    " '/n/scratch3/users/d/de64/RpoSOutliers_WT_hipQ_100X',\n",
    " '/n/scratch3/users/d/de64/Main_Experiment',\n",
    " '/n/scratch3/users/d/de64/bde17_gotime']"
   ]
  },
  {
   "cell_type": "markdown",
   "metadata": {},
   "source": [
    "### Test Parameters\n",
    "\n"
   ]
  },
  {
   "cell_type": "markdown",
   "metadata": {
    "toc-hr-collapsed": false
   },
   "source": [
    "##### Initialize the interactive kymograph class\n",
    "\n",
    "As a first step, initialize the `tr.interactive.kymograph_interactive` class that will be help us choose the <br>parameters we will use to generate kymographs. "
   ]
  },
  {
   "cell_type": "code",
   "execution_count": null,
   "metadata": {},
   "outputs": [],
   "source": [
    "interactive_kymograph = tr.kymograph_interactive(headpath)"
   ]
  },
  {
   "cell_type": "code",
   "execution_count": null,
   "metadata": {
    "tags": []
   },
   "outputs": [],
   "source": [
    "viewer = tr.hdf5_viewer(headpath, persist_data=False)"
   ]
  },
  {
   "cell_type": "markdown",
   "metadata": {},
   "source": [
    "##### Examine Images\n",
    "\n",
    "Here you can manually inspect images before beginning parameter tuning."
   ]
  },
  {
   "cell_type": "code",
   "execution_count": null,
   "metadata": {},
   "outputs": [],
   "source": [
    "viewer.view(width=1200)"
   ]
  },
  {
   "cell_type": "markdown",
   "metadata": {},
   "source": [
    "You will now want to select a few test FOVs to try out parameters on, the channel you want to detect trenches on, and <br>the time interval on which you will perform your processing.\n",
    "\n",
    "The arguments for this step are:\n",
    "\n",
    "- **seg_channel (string)** : The channel name that you would like to segment on.\n",
    "\n",
    "- **invert (list)** : Whether or not you want to invert the image before detecting trenches. By default, it is assumed that <br>the trenches have a high pixel intensity relative to the background. This should be the case for Phase Contrast and <br>Fluorescence Imageing, but may not be the case for Brightfield Imaging, in which case you will want to invert the image.\n",
    "\n",
    "- **fov_list (list)** : List of integers corresponding to the FOVs that you wish to make test kymographs of.\n",
    "\n",
    "- **t_subsample_step (int)** : Step size to be used for subsampling input files in time, recommend that subsampling results in <br>between 5 and 10 timepoints for quick processing.\n",
    "\n",
    "Hit the \"Run Interact\" button to lock in your parameters. The button will become transparent briefly and become solid again <br>when processing is complete. After that has occured, move on to the next step. "
   ]
  },
  {
   "cell_type": "code",
   "execution_count": null,
   "metadata": {},
   "outputs": [],
   "source": [
    "interactive_kymograph.import_hdf5_interactive()"
   ]
  },
  {
   "cell_type": "markdown",
   "metadata": {
    "toc-hr-collapsed": true
   },
   "source": [
    "##### Tune \"trench-row\" detection hyperparameters\n",
    "\n",
    "The kymograph code begins by detecting the positions of trench rows in the image as follows:\n",
    "\n",
    "1. Reducing each 2D image to a 1D signal along the y-axis by computing the qth percentile of the data along the x-axis\n",
    "2. Smooth this signal using a median kernel\n",
    "3. Normalize the signal by linearly scaling 0. and 1. to the minimum and maximum, respectively\n",
    "4. Use a set threshold to determine the trench row poisitons\n",
    "\n",
    "The arguments for this step are:\n",
    "\n",
    " - **y_percentile (int)** : Percentile to use for step 1.\n",
    "\n",
    " - **smoothing_kernel_y_dim_0 (int)** : Median kernel size to use for step 2.\n",
    "\n",
    " - **y_percentile_threshold (float)** : Threshold to use in step 4.\n",
    "\n",
    "Running the following widget will display the smoothed 1-D signal for each of your timepoints. In addition, the threshold <br>value for each fov will be displayed as a red line."
   ]
  },
  {
   "cell_type": "code",
   "execution_count": null,
   "metadata": {},
   "outputs": [],
   "source": [
    "interactive_kymograph.preview_y_precentiles_interactive()"
   ]
  },
  {
   "cell_type": "code",
   "execution_count": null,
   "metadata": {},
   "outputs": [],
   "source": [
    "interactive_kymograph.preview_y_precentiles_consensus_interactive()"
   ]
  },
  {
   "cell_type": "markdown",
   "metadata": {},
   "source": [
    "##### Tune \"trench-row\" cropping hyperparameters\n",
    "\n",
    "Next, we will use the detected rows to perform cropping of the input image in the y-dimension:\n",
    "\n",
    "1. Determine edges of trench rows based on threshold mask.\n",
    "2. Filter out rows that are too small.\n",
    "3. Use the remaining rows to compute the drift in y in each image.\n",
    "4. Apply the drift to the initally detected rows to get rows in all timepoints.\n",
    "5. Perform cropping using the \"end\" of the row as reference (the end referring to the part of the trench farthest from <br>the feeding channel).\n",
    "\n",
    "Step 5 performs a simple algorithm to determine the orientation of each trench:\n",
    "\n",
    "```\n",
    "row_orientations = [] # A list of row orientations, starting from the topmost row\n",
    "if the number of detected rows == 'Number of Rows': \n",
    "    row_orientations.append('Orientation')\n",
    "elif the number of detected rows < 'Number of Rows':\n",
    "    row_orientations.append('Orientation when < expected rows')\n",
    "for row in rows:\n",
    "    if row_orientations[-1] == downward:\n",
    "        row_orientations.append(upward)\n",
    "    elif row_orientations[-1] == upward:\n",
    "        row_orientations.append(downward)\n",
    "```\n",
    "\n",
    "Additionally, if the device tranches face a single direction, alternation of row orientation may be turned off by setting the<br> `Alternate Orientation?` argument to False. The `Use Median Drift?` argument, when set to True, will use the<br> median drift in y across all FOVs for drift correction, instead of doing drift correction independently for all FOVs. <br>This can be useful if there are a large fraction of FOVs which are failing drift correction. Note that `Use Median Drift?` <br>sets this behavior for both y and x drift correction.\n",
    "\n",
    "The arguments for this step are:\n",
    "\n",
    " - **y_min_edge_dist (int)** : Minimum row length necessary for detection (filters out small detected objects).\n",
    "\n",
    " - **padding_y (int)** : Padding to add to the end of trench row when cropping in the y-dimension.\n",
    "\n",
    " - **trench_len_y (int)** : Length from the end of each trench row to the feeding channel side of the crop.\n",
    "\n",
    " - **Number of Rows (int)** : The number of rows to expect in your image. For instance, two in the example image.\n",
    " \n",
    " - **Alternate Orientation? (bool)** : Whether or not to alternate the orientation of consecutive rows.\n",
    "\n",
    " - **Orientation (int)** : The orientation of the top-most row where 0 corresponds to a trench with a downward-oriented trench <br>opening and 1 corresponds to a trench with an upward-oriented trench opening.\n",
    "\n",
    " - **Orientation when < expected rows(int)** : The orientation of the top-most row when the number of detected rows is less than <br>expected. Useful if your trenches drift out of your image in some FOVs.\n",
    " \n",
    " - **Use Median Drift? (bool)** : Whether to use the median detected drift across all FOVs, instead of the drift detected in each FOV individually.\n",
    "\n",
    " - **images_per_row(int)** : How many images to output per row for this widget.\n",
    "\n",
    "Running the following widget will display y-cropped images for each fov and timepoint."
   ]
  },
  {
   "cell_type": "code",
   "execution_count": null,
   "metadata": {},
   "outputs": [],
   "source": [
    "interactive_kymograph.preview_y_crop_interactive()"
   ]
  },
  {
   "cell_type": "markdown",
   "metadata": {},
   "source": [
    "##### Tune trench detection hyperparameters\n",
    "\n",
    "Next, we will detect the positions of trenchs in the y-cropped images as follows:\n",
    "\n",
    "1. Reducing each 2D image to a 1D signal along the x-axis by computing the qth percentile of the data along the y-axis.\n",
    "2. Determine the signal background by smoothing this signal using a large median kernel.\n",
    "3. Subtract the background signal.\n",
    "4. Smooth the resultant signal using a median kernel.\n",
    "5. Use an [otsu threhsold](https://imagej.net/Auto_Threshold#Otsu) to determine the trench midpoint poisitons.\n",
    "\n",
    "After this, x-dimension drift correction of our detected midpoints will be performed as follows:\n",
    "\n",
    "6. Begin at t=1\n",
    "7. For $m \\in \\{midpoints(t)\\}$ assign $n \\in \\{midpoints(t-1)\\}$ to m if n is the closest midpoint to m at time $t-1$,<br>\n",
    "points that are not the closest midpoint to any midpoints in m will not be mapped.\n",
    "8. Compute the translation of each midpoint at time.\n",
    "9. Take the average of this value as the x-dimension drift from time t-1 to t.\n",
    "\n",
    "The arguments for this step are:\n",
    "\n",
    " - **t (int)** : Timepoint to examine the percentiles and threshold in.\n",
    "\n",
    " - **x_percentile (int)** : Percentile to use for step 1.\n",
    "\n",
    " - **background_kernel_x (int)** : Median kernel size to use for step 2.\n",
    "\n",
    " - **smoothing_kernel_x (int)** : Median kernel size to use for step 4.\n",
    "\n",
    " - **otsu_scaling (float)** : Scaling factor to apply to the threshold determined by Otsu's method.\n",
    "\n",
    "Running the following widget will display the smoothed 1-D signal for each of your timepoints. In addition, the threshold <br>value for each fov will be displayed as a red line. In addition, it will display the detected midpoints for each of your timepoints. <br>If there is too much sparsity, or discontinuity, your drift correction will not be accurate."
   ]
  },
  {
   "cell_type": "code",
   "execution_count": null,
   "metadata": {},
   "outputs": [],
   "source": [
    "interactive_kymograph.preview_x_percentiles_interactive()"
   ]
  },
  {
   "cell_type": "markdown",
   "metadata": {},
   "source": [
    "##### Tune trench cropping hyperparameters\n",
    "\n",
    "Trench cropping simply uses the drift-corrected midpoints as a reference and crops out some fixed length around them <br>\n",
    "to produce an output kymograph. **Note that the current implementation does not allow trench crops to overlap**. If your<br>\n",
    "trench crops do overlap, the error will not be caught here, but will cause issues later in the pipeline. As such, try <br>\n",
    "to crop your trenches as closely as possible. This issue will be fixed in a later update.\n",
    "\n",
    "The arguments for this step are:\n",
    "\n",
    " - **trench_width_x (int)** : Trench width to use for cropping.\n",
    "\n",
    " - **trench_present_thr (float)** : Trenches that appear in less than this percent of FOVs will be eliminated from the dataset.<br>\n",
    "If not removed, missing positions will be inferred from the image drift.\n",
    "\n",
    " - **Use Median Drift? (bool)** : Whether to use the median detected drift across all FOVs, instead of the drift detected in each FOV individually.\n",
    "\n",
    "\n",
    "Running the following widget will display a random kymograph for each row in each fov and will also produce midpoint plots <br>showing retained midpoints"
   ]
  },
  {
   "cell_type": "code",
   "execution_count": null,
   "metadata": {},
   "outputs": [],
   "source": [
    "interactive_kymograph.preview_kymographs_interactive()"
   ]
  },
  {
   "cell_type": "markdown",
   "metadata": {},
   "source": [
    "##### Export and save hyperparameters\n",
    "\n",
    "Run the following line to register and display the parameters you have selected for kymograph creation."
   ]
  },
  {
   "cell_type": "code",
   "execution_count": null,
   "metadata": {},
   "outputs": [],
   "source": [
    "interactive_kymograph.process_results()"
   ]
  },
  {
   "cell_type": "markdown",
   "metadata": {},
   "source": [
    "If you are satisfied with the above parameters, run the following line to write these parameters to disk at `headpath/kymograph.par`<br>\n",
    "This file will be used to perform kymograph creation in the next section."
   ]
  },
  {
   "cell_type": "code",
   "execution_count": null,
   "metadata": {},
   "outputs": [],
   "source": [
    "interactive_kymograph.write_param_file()"
   ]
  },
  {
   "cell_type": "markdown",
   "metadata": {},
   "source": [
    "### Generate Kymograph"
   ]
  },
  {
   "cell_type": "markdown",
   "metadata": {},
   "source": [
    "##### Start Dask Workers\n",
    "\n",
    "Again, we start a `dask_controller` instance which will handle all of our parallel processing. The default parameters <br>here work well on O2 for kymograph creation. The critical arguments here are:\n",
    "\n",
    "**walltime** : For a cluster, the length of time you will request each node for.\n",
    "\n",
    "**local** : `True` if you want to perform computation locally. `False` if you want to perform it on a SLURM cluster.\n",
    "\n",
    "**n_workers** : Number of nodes to request if on the cluster, or number of processes if computing locally.\n",
    "\n",
    "**memory** : For a cluster, the amount of memory you will request each node for.\n",
    "\n",
    "**working_directory** : For a cluster, the directory in which data will be spilled to disk. Usually set as a folder in <br>the `headpath`."
   ]
  },
  {
   "cell_type": "code",
   "execution_count": null,
   "metadata": {
    "tags": []
   },
   "outputs": [],
   "source": [
    "dask_controller = tr.trcluster.dask_controller(\n",
    "    walltime=\"04:00:00\",\n",
    "    local=False,\n",
    "    n_workers=50,\n",
    "    memory=\"8GB\",\n",
    "    working_directory=headpath + \"/dask\",\n",
    ")\n",
    "dask_controller.startdask()"
   ]
  },
  {
   "cell_type": "markdown",
   "metadata": {},
   "source": [
    "After running the above line, you will have a running Dask client. Run the line below and click the link to supervise <br>the computation being administered by the scheduler. \n",
    "\n",
    "Don't be alarmed if the screen starts mostly blank, it may take time for your workers to spin up. If you get a 404 <br>error on a cluster, it is likely that your ports are not being forwarded properly. If this occurs, please register <br>the issue on github."
   ]
  },
  {
   "cell_type": "code",
   "execution_count": null,
   "metadata": {},
   "outputs": [],
   "source": [
    "dask_controller.daskclient"
   ]
  },
  {
   "cell_type": "markdown",
   "metadata": {},
   "source": [
    "##### Perform Kymograph Cropping\n",
    "\n",
    "Now that we have our cluster scheduler spun up, we will extract kymographs using the parameters stored in `headpath/kymograph.par`. <br>\n",
    "This will be handled by the `kymograph_cluster` object. This will detect trenches in all of the files present in `headpath/hdf5` that <br>\n",
    "you created in the first step. It will then crop these trenches and place the crops in a series of `.hdf5` files in `headpath/kymograph`. <br>\n",
    "These files will store image data in the form of `(K,T,Y,X)` arrays where K is the trench index, T is time and Y,X are the image dimensions <br>\n",
    "of the crop.\n",
    "\n",
    "The arguments for this step are:\n",
    "\n",
    " - **headpath** : The folder in which processing is occuring. Should be the same for each step in the pipeline.\n",
    "\n",
    " - **trenches_per_file** : The maximum number of trenches stored in each output `.hdf5` file. Typical values are between 25 <br>and 100.\n",
    "\n",
    " - **paramfile** : Set to true if you want to use parameters from `headpath/kymograph.par` Otherwise, you will have to specify <br>\n",
    " parameters as direct arguments to `kymograph_cluster`."
   ]
  },
  {
   "cell_type": "code",
   "execution_count": null,
   "metadata": {},
   "outputs": [],
   "source": [
    "kymoclust = tr.kymograph.kymograph_cluster(\n",
    "    headpath=headpath, trenches_per_file=50, paramfile=True\n",
    ")"
   ]
  },
  {
   "cell_type": "markdown",
   "metadata": {},
   "source": [
    "##### Begin Kymograph Cropping \n",
    "\n",
    "Running the following line will start the cropping process. This may be monitored by examining the `Dask Dashboard` <br>\n",
    "under the link displayed earlier. Once the computation is complete, move to the next line.\n",
    "\n",
    "**Do not move on until all tasks are displayed as 'in memory' in Dask.**"
   ]
  },
  {
   "cell_type": "code",
   "execution_count": null,
   "metadata": {},
   "outputs": [],
   "source": [
    "kymoclust.generate_kymographs(dask_controller)"
   ]
  },
  {
   "cell_type": "code",
   "execution_count": null,
   "metadata": {},
   "outputs": [],
   "source": [
    "ff = tr.focus_filter(headpath)"
   ]
  },
  {
   "cell_type": "code",
   "execution_count": null,
   "metadata": {},
   "outputs": [],
   "source": [
    "ff.choose_filter_channel_inter()"
   ]
  },
  {
   "cell_type": "code",
   "execution_count": null,
   "metadata": {},
   "outputs": [],
   "source": [
    "ff.plot_histograms()"
   ]
  },
  {
   "cell_type": "code",
   "execution_count": null,
   "metadata": {},
   "outputs": [],
   "source": [
    "ff.plot_focus_threshold_inter()"
   ]
  },
  {
   "cell_type": "code",
   "execution_count": null,
   "metadata": {},
   "outputs": [],
   "source": [
    "ff.write_param_file()"
   ]
  },
  {
   "cell_type": "markdown",
   "metadata": {},
   "source": [
    "##### Post-process Images\n",
    "\n",
    "After the above step, kymographs will have been created for each `.hdf5` input file. They will now need to be reorganized <br>\n",
    "into a new set of files such that each file has, at most, `trenches_per_file` trenches in each file.\n",
    "\n",
    "**Do not move on until all tasks are displayed as 'in memory' in Dask.**"
   ]
  },
  {
   "cell_type": "code",
   "execution_count": null,
   "metadata": {
    "tags": []
   },
   "outputs": [],
   "source": [
    "kymoclust.post_process(dask_controller)"
   ]
  },
  {
   "cell_type": "markdown",
   "metadata": {},
   "source": [
    "##### Check kymograph statistics\n",
    "\n",
    "Run the next line to display some statistics from kymograph creation. The outputs are:\n",
    "\n",
    " - **fovs processed** : The number of FOVs successfully processed out of the total number of FOVs\n",
    " - **rows processed** : The number of rows of trenches processed out of the total number of rows\n",
    " - **trenches processed** : The number of trenches successfully processed\n",
    " - **row/fov** : The average number of rows successfully processed per FOV\n",
    " - **trenches/fov** : The average number of trenches successfully processed per FOV\n",
    " - **failed fovs** : A list of failed FOVs. Spot check these FOVs in the viewer to determine potential problems"
   ]
  },
  {
   "cell_type": "code",
   "execution_count": null,
   "metadata": {},
   "outputs": [],
   "source": [
    "kymoclust.kymo_report()"
   ]
  },
  {
   "cell_type": "markdown",
   "metadata": {},
   "source": [
    "##### Shutdown Dask\n",
    "\n",
    "Once cropping is complete, it is likely that you will want to shutdown your `dask_controller` if you are on a <br>\n",
    "cluster. This is because the specifications of the current `dask_controller` will not be optimal for later steps. <br>\n",
    "To do this, run the following line and wait for it to complete. If it hangs, interrupt your kernel and re-run it. <br>\n",
    "If this also fails to shutdown your workers, you will have to manually shut them down using `scancel` in a terminal."
   ]
  },
  {
   "cell_type": "code",
   "execution_count": null,
   "metadata": {},
   "outputs": [],
   "source": [
    "dask_controller.daskclient.restart()"
   ]
  },
  {
   "cell_type": "code",
   "execution_count": null,
   "metadata": {
    "tags": []
   },
   "outputs": [],
   "source": [
    "dask_controller.shutdown()"
   ]
  },
  {
   "cell_type": "markdown",
   "metadata": {},
   "source": [
    "## Fluorescence Segmentation\n",
    "\n",
    "Now that you have copped your data into kymographs, we will now perform segmentation/cell detection <br>\n",
    "on your kymographs. Currently, this pipeline only supports segmentation of fluorescence images; however, <br>\n",
    "segmentation of transmitted light imaging techniques is in development.\n",
    "\n",
    "The output of this step will be a set of `segmentation_[File #].hdf5` files stored in `headpath/fluorsegmentation`.<br>\n",
    "The image data stored in these files takes the exact same form as the kymograph data, `(K,T,Y,X)` arrays <br>\n",
    "where K is the trench index, T is time, and Y,X are the crop dimensions. These arrays are accessible using <br>\n",
    "keys of the form `\"[Trench Row Number]\"`.\n",
    "\n",
    "Since no metadata is generated by this step, it is possible to use another segmentation algorithm on the kymograph <br>\n",
    "data. The output of segmentation must be split into `segmentation_[File #].hdf5` files, where `[File #]` agrees with the<br>\n",
    "corresponding `kymograph_[File #].hdf5` file. Additionally, the `(K,T,Y,X)` arrays must be of the same shape as the <br>\n",
    "kymograph arrays and accessible at the corresponding `\"[Trench Row Number]\"` key. These files must be placed into <br>\n",
    "their own folder at `headpath/foldername`. This folder may then be used in later steps."
   ]
  },
  {
   "cell_type": "markdown",
   "metadata": {},
   "source": [
    "### Test Parameters"
   ]
  },
  {
   "cell_type": "markdown",
   "metadata": {},
   "source": [
    "##### Initialize the interactive segmentation class\n",
    "\n",
    "As a first step, initialize the `tr.fluo_segmentation_interactive` class that will be handling all steps of generating a segmentation. "
   ]
  },
  {
   "cell_type": "code",
   "execution_count": null,
   "metadata": {},
   "outputs": [],
   "source": [
    "interactive_segmentation = tr.fluo_segmentation_interactive(headpath)"
   ]
  },
  {
   "cell_type": "markdown",
   "metadata": {},
   "source": [
    "##### Choose channel to segment on"
   ]
  },
  {
   "cell_type": "code",
   "execution_count": null,
   "metadata": {},
   "outputs": [],
   "source": [
    "interactive_segmentation.choose_seg_channel_inter()"
   ]
  },
  {
   "cell_type": "markdown",
   "metadata": {},
   "source": [
    "#### Import data\n",
    "\n",
    "Fill in \n",
    "\n",
    "You will need to tune the following `args` and `kwargs` (in order):\n",
    "\n",
    "**fov_idx (int)** :\n",
    "\n",
    "**n_trenches (int)** :\n",
    "\n",
    "**t_range (tuple)** :\n",
    "\n",
    "**t_subsample_step (int)** :"
   ]
  },
  {
   "cell_type": "code",
   "execution_count": null,
   "metadata": {},
   "outputs": [],
   "source": [
    "interactive_segmentation.import_array_inter()"
   ]
  },
  {
   "cell_type": "markdown",
   "metadata": {},
   "source": [
    "##### Process data"
   ]
  },
  {
   "cell_type": "code",
   "execution_count": null,
   "metadata": {},
   "outputs": [],
   "source": [
    "interactive_segmentation.plot_processed_inter()"
   ]
  },
  {
   "cell_type": "markdown",
   "metadata": {},
   "source": [
    "#### Determine Cell Mask Envelope\n",
    "\n",
    "Fill in.\n",
    "\n",
    "You will need to tune the following `args` and `kwargs` (in order):\n",
    "\n",
    "**cell_mask_method (str)** : Thresholding method, can be a local or global Otsu threshold.\n",
    "\n",
    "**cell_otsu_scaling (float)** : Scaling factor applied to determined threshold.\n",
    "\n",
    "**local_otsu_r (int)** : Radius of thresholding kernel used in the local otsu thresholding."
   ]
  },
  {
   "cell_type": "code",
   "execution_count": null,
   "metadata": {},
   "outputs": [],
   "source": [
    "interactive_segmentation.plot_cell_mask_inter()"
   ]
  },
  {
   "cell_type": "code",
   "execution_count": null,
   "metadata": {},
   "outputs": [],
   "source": [
    "interactive_segmentation.plot_eig_mask_inter()"
   ]
  },
  {
   "cell_type": "code",
   "execution_count": null,
   "metadata": {},
   "outputs": [],
   "source": [
    "interactive_segmentation.plot_dist_mask_inter()"
   ]
  },
  {
   "cell_type": "code",
   "execution_count": null,
   "metadata": {},
   "outputs": [],
   "source": [
    "interactive_segmentation.plot_marker_mask_inter()"
   ]
  },
  {
   "cell_type": "code",
   "execution_count": null,
   "metadata": {},
   "outputs": [],
   "source": [
    "interactive_segmentation.process_results()"
   ]
  },
  {
   "cell_type": "code",
   "execution_count": null,
   "metadata": {},
   "outputs": [],
   "source": [
    "interactive_segmentation.write_param_file()"
   ]
  },
  {
   "cell_type": "markdown",
   "metadata": {},
   "source": [
    "### Generate Segmentation"
   ]
  },
  {
   "cell_type": "markdown",
   "metadata": {},
   "source": [
    "#### Start Dask Workers"
   ]
  },
  {
   "cell_type": "code",
   "execution_count": null,
   "metadata": {},
   "outputs": [],
   "source": [
    "dask_controller = tr.trcluster.dask_controller(\n",
    "    walltime=\"01:00:00\",\n",
    "    local=False,\n",
    "    n_workers=100,\n",
    "    memory=\"2GB\",\n",
    "    working_directory=headpath + \"/dask\",\n",
    ")\n",
    "dask_controller.startdask()"
   ]
  },
  {
   "cell_type": "code",
   "execution_count": null,
   "metadata": {},
   "outputs": [],
   "source": [
    "dask_controller.displaydashboard()"
   ]
  },
  {
   "cell_type": "code",
   "execution_count": null,
   "metadata": {},
   "outputs": [],
   "source": [
    "segment = tr.segment.fluo_segmentation_cluster(headpath, paramfile=True)"
   ]
  },
  {
   "cell_type": "code",
   "execution_count": null,
   "metadata": {
    "tags": []
   },
   "outputs": [],
   "source": [
    "segment.dask_segment(dask_controller)"
   ]
  },
  {
   "cell_type": "markdown",
   "metadata": {},
   "source": [
    "#### Stop Dask Workers"
   ]
  },
  {
   "cell_type": "code",
   "execution_count": null,
   "metadata": {
    "tags": []
   },
   "outputs": [],
   "source": [
    "dask_controller.shutdown()"
   ]
  },
  {
   "cell_type": "markdown",
   "metadata": {},
   "source": [
    "## Region Properties (No Lineage)"
   ]
  },
  {
   "cell_type": "code",
   "execution_count": null,
   "metadata": {},
   "outputs": [],
   "source": [
    "analyzer = tr.analysis.regionprops_extractor(\n",
    "    headpath,\n",
    "    \"fluorsegmentation\",\n",
    "    intensity_channel_list=[\"mCherry\", \"YFP\"],\n",
    "    include_background=True,\n",
    ")"
   ]
  },
  {
   "cell_type": "code",
   "execution_count": null,
   "metadata": {
    "tags": []
   },
   "outputs": [],
   "source": [
    "analyzer.export_all_data(n_workers=100)"
   ]
  },
  {
   "cell_type": "code",
   "execution_count": null,
   "metadata": {},
   "outputs": [],
   "source": [
    "import dask.dataframe as dd"
   ]
  },
  {
   "cell_type": "code",
   "execution_count": null,
   "metadata": {
    "tags": []
   },
   "outputs": [],
   "source": [
    "dd.read_parquet(\n",
    "    \"/home/de64/scratch/de64/sync_folder/2021-05-27_lDE18_20x_run_1/mVenus/analysis\"\n",
    ").loc[:10000].compute()"
   ]
  },
  {
   "cell_type": "markdown",
   "metadata": {
    "toc-hr-collapsed": true
   },
   "source": [
    "# Part 2: Barcodes"
   ]
  },
  {
   "cell_type": "markdown",
   "metadata": {},
   "source": [
    "#### Specify Paths\n",
    "\n",
    "Begin by defining the directory in which all processing will be done, as well as the initial nd2 file we will be <br>processing. This line should be run everytime you open a new python kernel.\n",
    "\n",
    "The format should be: `headpath = \"/path/to/folder\"` and `nd2file = \"/path/to/file.nd2\"`\n",
    "\n",
    "For example:\n",
    "```\n",
    "headpath = \"/n/scratch2/de64/2019-05-31_validation_data\"\n",
    "nd2file = \"/n/scratch2/de64/2019-05-31_validation_data/Main_Experiment.nd2\"\n",
    "```\n",
    "\n",
    "Ideally, these files should be placed in a storage location with relatively fast I/O"
   ]
  },
  {
   "cell_type": "code",
   "execution_count": null,
   "metadata": {},
   "outputs": [],
   "source": [
    "headpath = \"/home/de64/scratch/de64/sync_folder/2021-05-27_lDE18_20x_run_1/Barcodes/\"\n",
    "hdf5inputpath = \"/home/de64/scratch/de64/sync_folder/2021-05-27_lDE18_20x_run_1/run\"\n",
    "# nd2file = \"/home/de64/scratch/de64/sync_folder/2021-05-27_lDE18_20x_run_1/run_100ms_mchry100_yfp50.nd2\""
   ]
  },
  {
   "cell_type": "markdown",
   "metadata": {
    "tags": [],
    "toc-hr-collapsed": true
   },
   "source": [
    "## Extract to hdf5 files\n",
    "\n",
    "In this section, we will be extracting our image data. Currently this notebook only supports `.nd2` format; however <br>there are `.tiff` extractors in the TrenchRipper source files that are being added to `Master.ipynb` soon.\n",
    "\n",
    "In the abstract, this step will take a single `.nd2` file and split it into a set of `.hdf5` files stored in <br>`headpath/hdf5`. Splitting the file up in this way will facilitate quick procesing in later steps. Each field of <br>view will be split into one or more `.hdf5` files, depending on the number of images per file requested (more on <br>this later). \n",
    "\n",
    "To keep track of which output files correspond to which FOVs, as well as to keep track of experiment metadata, the <br>extractor also outputs a `metadata.hdf5` file in the `headpath` folder. The data from this step is accessible in <br>that `metadata.hdf5` file under the `global` key. If you would like to look at this metadata, you may use the <br>`tr.utils.pandas_hdf5_handler` to read from this file. Later steps will add additional metadata under different <br>keys into the `metadata.hdf5` file."
   ]
  },
  {
   "cell_type": "markdown",
   "metadata": {},
   "source": [
    "#### Start Dask Workers\n",
    "\n",
    "First, we start a `dask_controller` instance which will handle all of our parallel processing. The default parameters <br>here work well on O2. The critical arguments here are:\n",
    "\n",
    "**walltime** : For a cluster, the length of time you will request each node for.\n",
    "\n",
    "**local** : `True` if you want to perform computation locally. `False` if you want to perform it on a SLURM cluster.\n",
    "\n",
    "**n_workers** : Number of nodes to request if on the cluster, or number of processes if computing locally.\n",
    "\n",
    "**memory** : For a cluster, the amount of memory you will request each node for.\n",
    "\n",
    "**working_directory** : For a cluster, the directory in which data will be spilled to disk. Usually set as a folder in <br>the `headpath`."
   ]
  },
  {
   "cell_type": "code",
   "execution_count": null,
   "metadata": {},
   "outputs": [],
   "source": [
    "dask_controller = tr.trcluster.dask_controller(\n",
    "    walltime=\"04:00:00\",\n",
    "    local=False,\n",
    "    n_workers=20,\n",
    "    memory=\"2GB\",\n",
    "    working_directory=headpath + \"/dask\",\n",
    ")\n",
    "dask_controller.startdask()"
   ]
  },
  {
   "cell_type": "markdown",
   "metadata": {},
   "source": [
    "After running the above line, you will have a running Dask client. Run the line below and click the link to supervise <br>the computation being administered by the scheduler. \n",
    "\n",
    "Don't be alarmed if the screen starts mostly blank, it may take time for your workers to spin up. If you get a 404 <br>error on a cluster, it is likely that your ports are not being forwarded properly. If this occurs, please register <br>the issue on github."
   ]
  },
  {
   "cell_type": "code",
   "execution_count": null,
   "metadata": {},
   "outputs": [],
   "source": [
    "dask_controller.daskclient"
   ]
  },
  {
   "cell_type": "markdown",
   "metadata": {},
   "source": [
    "##### Perform Extraction\n",
    "\n",
    "Now that we have our cluster scheduler spun up, it is time to convert files. This will be handled by the <br>`hdf5_extractor` object. This extractor will pull up each FOV and split it such that each derived `.hdf5` file <br>contains, at maximum, N timepoints of that FOV per file. The image data stored in these files takes the <br>form of `(N,Y,X)` arrays that are accessible using the desired channel name as a key. \n",
    "\n",
    "The arguments for this extractor are:\n",
    "\n",
    " - **nd2file** : The filepath to the `.nd2` file you intend to extract.\n",
    " \n",
    " - **headpath** : The folder in which processing is occuring. Should be the same for each step in the pipeline.\n",
    "\n",
    " - **tpts_per_file** : The maximum number of timepoints stored in each output `.hdf5` file. Typical values are between 25 <br>and 100.\n",
    "\n",
    " - **ignore_fovmetadata** : Used when `.nd2` data is corrupted and does not possess records for stage positions or <br>timepoints. Only set `False` if the extractor throws errors on metadata handling.\n",
    "\n",
    " - **nd2reader_override** : Overrides values in metadata recovered using the `nd2reader`. Currently set to <br>`{\"z_levels\":[],\"z_coordinates\":[]}` by default to correct a known issue where z coordinates are mistakenly <br>interpreted as a z stack. See the [nd2reader](https://rbnvrw.github.io/nd2reader/) documentation for more info."
   ]
  },
  {
   "cell_type": "code",
   "execution_count": null,
   "metadata": {},
   "outputs": [],
   "source": [
    "hdf5_extractor = tr.marlin_extractor(\n",
    "    hdf5inputpath, headpath, metaparsestr=\"metadata_{timepoint:d}.hdf5\"\n",
    ")"
   ]
  },
  {
   "cell_type": "markdown",
   "metadata": {},
   "source": [
    "##### Extraction Parameters\n",
    "\n",
    "Here, you may set the time interval you want to extract. Useful for cropping data to the period exhibiting the dynamics of interest.\n",
    "\n",
    "Optionally take notes to add to the `metadata.hdf5` file. Notes may also be taken directly in this notebook."
   ]
  },
  {
   "cell_type": "code",
   "execution_count": null,
   "metadata": {},
   "outputs": [],
   "source": [
    "hdf5_extractor.inter_set_params()"
   ]
  },
  {
   "cell_type": "markdown",
   "metadata": {},
   "source": [
    "##### Begin Extraction \n",
    "\n",
    "Running the following line will start the extraction process. This may be monitored by examining the `Dask Dashboard` <br> under the link displayed earlier. Once the computation is complete, move to the next line.\n",
    "\n",
    "This step may take a long time, though it is possible to speed it up using additional workers."
   ]
  },
  {
   "cell_type": "code",
   "execution_count": null,
   "metadata": {},
   "outputs": [],
   "source": [
    "hdf5_extractor.extract(dask_controller)"
   ]
  },
  {
   "cell_type": "markdown",
   "metadata": {},
   "source": [
    "##### Shutdown Dask\n",
    "\n",
    "Once extraction is complete, it is likely that you will want to shutdown your `dask_controller` if you are on a <br>\n",
    "cluster. This is because the specifications of the current `dask_controller` will not be optimal for later steps. <br>\n",
    "To do this, run the following line and wait for it to complete. If it hangs, interrupt your kernel and re-run it. <br>\n",
    "If this also fails to shutdown your workers, you will have to manually shut them down using `scancel` in a terminal."
   ]
  },
  {
   "cell_type": "code",
   "execution_count": null,
   "metadata": {},
   "outputs": [],
   "source": [
    "dask_controller.daskclient.restart()"
   ]
  },
  {
   "cell_type": "code",
   "execution_count": null,
   "metadata": {
    "tags": []
   },
   "outputs": [],
   "source": [
    "dask_controller.shutdown()"
   ]
  },
  {
   "cell_type": "markdown",
   "metadata": {},
   "source": [
    "## Kymographs\n",
    "\n",
    "Now that you have extracted your data into a series of `.hdf5` files, we will now perform identification and cropping <br>of the individual trenches/growth channels present in the images. This algorithm assumes that your growth trenches <br>are vertically aligned and that they alternate in their orientation from top to bottom. See the example image for the <br>correct geometry:\n",
    "\n",
    "![example_image](./resources/example_image.jpg)\n",
    "\n",
    "The output of this step will be a set of `.hdf5` files stored in `headpath/kymograph`. The image data stored in these <br>files takes the form of `(K,T,Y,X)` arrays where K is the trench index, T is time, and Y,X are the crop dimensions. <br>These arrays are accessible using keys of the form `\"[Image Channel]\"`. For example, looking up phase channel <br>data of trenches in the topmost row of an image will require the key `\"Phase\"`"
   ]
  },
  {
   "cell_type": "markdown",
   "metadata": {},
   "source": [
    "[ '/n/scratch3/users/d/de64/190917_20x_phase_gfp_segmentation002',\n",
    " '/n/scratch3/users/d/de64/190922_20x_phase_gfp_segmentation',\n",
    " '/n/scratch3/users/d/de64/190925_20x_phase_yfp_segmentation',\n",
    " '/n/scratch3/users/d/de64/ezrdm_training_sb7',\n",
    " '/n/scratch3/users/d/de64/mbm_training_sb7',\n",
    " '/n/scratch3/users/d/de64/Sb7_L35',\n",
    " '/n/scratch3/users/d/de64/MM_DVCvecto_TOP_1_9',\n",
    " '/n/scratch3/users/d/de64/Vibrio_2_1_TOP',\n",
    " '/n/scratch3/users/d/de64/Vibrio_A_B_VZRDM--04--RUN_80ms',\n",
    " '/n/scratch3/users/d/de64/RpoSOutliers_WT_hipQ_100X',\n",
    " '/n/scratch3/users/d/de64/Main_Experiment',\n",
    " '/n/scratch3/users/d/de64/bde17_gotime']"
   ]
  },
  {
   "cell_type": "markdown",
   "metadata": {},
   "source": [
    "### Test Parameters\n",
    "\n"
   ]
  },
  {
   "cell_type": "markdown",
   "metadata": {
    "toc-hr-collapsed": false
   },
   "source": [
    "##### Initialize the interactive kymograph class\n",
    "\n",
    "As a first step, initialize the `tr.interactive.kymograph_interactive` class that will be help us choose the <br>parameters we will use to generate kymographs. "
   ]
  },
  {
   "cell_type": "code",
   "execution_count": null,
   "metadata": {
    "tags": []
   },
   "outputs": [],
   "source": [
    "interactive_kymograph = tr.kymograph_interactive(headpath)"
   ]
  },
  {
   "cell_type": "code",
   "execution_count": null,
   "metadata": {
    "tags": []
   },
   "outputs": [],
   "source": [
    "viewer = tr.hdf5_viewer(headpath, persist_data=False)"
   ]
  },
  {
   "cell_type": "markdown",
   "metadata": {},
   "source": [
    "##### Examine Images\n",
    "\n",
    "Here you can manually inspect images before beginning parameter tuning."
   ]
  },
  {
   "cell_type": "code",
   "execution_count": null,
   "metadata": {},
   "outputs": [],
   "source": [
    "viewer.view(width=1200)"
   ]
  },
  {
   "cell_type": "markdown",
   "metadata": {},
   "source": [
    "You will now want to select a few test FOVs to try out parameters on, the channel you want to detect trenches on, and <br>the time interval on which you will perform your processing.\n",
    "\n",
    "The arguments for this step are:\n",
    "\n",
    "- **seg_channel (string)** : The channel name that you would like to segment on.\n",
    "\n",
    "- **invert (list)** : Whether or not you want to invert the image before detecting trenches. By default, it is assumed that <br>the trenches have a high pixel intensity relative to the background. This should be the case for Phase Contrast and <br>Fluorescence Imageing, but may not be the case for Brightfield Imaging, in which case you will want to invert the image.\n",
    "\n",
    "- **fov_list (list)** : List of integers corresponding to the FOVs that you wish to make test kymographs of.\n",
    "\n",
    "- **t_subsample_step (int)** : Step size to be used for subsampling input files in time, recommend that subsampling results in <br>between 5 and 10 timepoints for quick processing.\n",
    "\n",
    "Hit the \"Run Interact\" button to lock in your parameters. The button will become transparent briefly and become solid again <br>when processing is complete. After that has occured, move on to the next step. "
   ]
  },
  {
   "cell_type": "code",
   "execution_count": null,
   "metadata": {},
   "outputs": [],
   "source": [
    "interactive_kymograph.import_hdf5_interactive()"
   ]
  },
  {
   "cell_type": "markdown",
   "metadata": {},
   "source": [
    "##### Tune \"trench-row\" detection hyperparameters\n",
    "\n",
    "The kymograph code begins by detecting the positions of trench rows in the image as follows:\n",
    "\n",
    "1. Reducing each 2D image to a 1D signal along the y-axis by computing the qth percentile of the data along the x-axis\n",
    "2. Smooth this signal using a median kernel\n",
    "3. Normalize the signal by linearly scaling 0. and 1. to the minimum and maximum, respectively\n",
    "4. Use a set threshold to determine the trench row poisitons\n",
    "\n",
    "The arguments for this step are:\n",
    "\n",
    " - **y_percentile (int)** : Percentile to use for step 1.\n",
    "\n",
    " - **smoothing_kernel_y_dim_0 (int)** : Median kernel size to use for step 2.\n",
    "\n",
    " - **y_percentile_threshold (float)** : Threshold to use in step 4.\n",
    "\n",
    "Running the following widget will display the smoothed 1-D signal for each of your timepoints. In addition, the threshold <br>value for each fov will be displayed as a red line."
   ]
  },
  {
   "cell_type": "code",
   "execution_count": null,
   "metadata": {},
   "outputs": [],
   "source": [
    "interactive_kymograph.preview_y_precentiles_interactive()"
   ]
  },
  {
   "cell_type": "code",
   "execution_count": null,
   "metadata": {},
   "outputs": [],
   "source": [
    "interactive_kymograph.preview_y_precentiles_consensus_interactive()"
   ]
  },
  {
   "cell_type": "markdown",
   "metadata": {},
   "source": [
    "##### Tune \"trench-row\" cropping hyperparameters\n",
    "\n",
    "Next, we will use the detected rows to perform cropping of the input image in the y-dimension:\n",
    "\n",
    "1. Determine edges of trench rows based on threshold mask.\n",
    "2. Filter out rows that are too small.\n",
    "3. Use the remaining rows to compute the drift in y in each image.\n",
    "4. Apply the drift to the initally detected rows to get rows in all timepoints.\n",
    "5. Perform cropping using the \"end\" of the row as reference (the end referring to the part of the trench farthest from <br>the feeding channel).\n",
    "\n",
    "Step 5 performs a simple algorithm to determine the orientation of each trench:\n",
    "\n",
    "```\n",
    "row_orientations = [] # A list of row orientations, starting from the topmost row\n",
    "if the number of detected rows == 'Number of Rows': \n",
    "    row_orientations.append('Orientation')\n",
    "elif the number of detected rows < 'Number of Rows':\n",
    "    row_orientations.append('Orientation when < expected rows')\n",
    "for row in rows:\n",
    "    if row_orientations[-1] == downward:\n",
    "        row_orientations.append(upward)\n",
    "    elif row_orientations[-1] == upward:\n",
    "        row_orientations.append(downward)\n",
    "```\n",
    "\n",
    "Additionally, if the device tranches face a single direction, alternation of row orientation may be turned off by setting the<br> `Alternate Orientation?` argument to False. The `Use Median Drift?` argument, when set to True, will use the<br> median drift in y across all FOVs for drift correction, instead of doing drift correction independently for all FOVs. <br>This can be useful if there are a large fraction of FOVs which are failing drift correction. Note that `Use Median Drift?` <br>sets this behavior for both y and x drift correction.\n",
    "\n",
    "The arguments for this step are:\n",
    "\n",
    " - **y_min_edge_dist (int)** : Minimum row length necessary for detection (filters out small detected objects).\n",
    "\n",
    " - **padding_y (int)** : Padding to add to the end of trench row when cropping in the y-dimension.\n",
    "\n",
    " - **trench_len_y (int)** : Length from the end of each trench row to the feeding channel side of the crop.\n",
    "\n",
    " - **Number of Rows (int)** : The number of rows to expect in your image. For instance, two in the example image.\n",
    " \n",
    " - **Alternate Orientation? (bool)** : Whether or not to alternate the orientation of consecutive rows.\n",
    "\n",
    " - **Orientation (int)** : The orientation of the top-most row where 0 corresponds to a trench with a downward-oriented trench <br>opening and 1 corresponds to a trench with an upward-oriented trench opening.\n",
    "\n",
    " - **Orientation when < expected rows(int)** : The orientation of the top-most row when the number of detected rows is less than <br>expected. Useful if your trenches drift out of your image in some FOVs.\n",
    " \n",
    " - **Use Median Drift? (bool)** : Whether to use the median detected drift across all FOVs, instead of the drift detected in each FOV individually.\n",
    "\n",
    " - **images_per_row(int)** : How many images to output per row for this widget.\n",
    "\n",
    "Running the following widget will display y-cropped images for each fov and timepoint."
   ]
  },
  {
   "cell_type": "code",
   "execution_count": null,
   "metadata": {},
   "outputs": [],
   "source": [
    "interactive_kymograph.preview_y_crop_interactive()"
   ]
  },
  {
   "cell_type": "markdown",
   "metadata": {},
   "source": [
    "##### Tune trench detection hyperparameters\n",
    "\n",
    "Next, we will detect the positions of trenchs in the y-cropped images as follows:\n",
    "\n",
    "1. Reducing each 2D image to a 1D signal along the x-axis by computing the qth percentile of the data along the y-axis.\n",
    "2. Determine the signal background by smoothing this signal using a large median kernel.\n",
    "3. Subtract the background signal.\n",
    "4. Smooth the resultant signal using a median kernel.\n",
    "5. Use an [otsu threhsold](https://imagej.net/Auto_Threshold#Otsu) to determine the trench midpoint poisitons.\n",
    "\n",
    "After this, x-dimension drift correction of our detected midpoints will be performed as follows:\n",
    "\n",
    "6. Begin at t=1\n",
    "7. For $m \\in \\{midpoints(t)\\}$ assign $n \\in \\{midpoints(t-1)\\}$ to m if n is the closest midpoint to m at time $t-1$,<br>\n",
    "points that are not the closest midpoint to any midpoints in m will not be mapped.\n",
    "8. Compute the translation of each midpoint at time.\n",
    "9. Take the average of this value as the x-dimension drift from time t-1 to t.\n",
    "\n",
    "The arguments for this step are:\n",
    "\n",
    " - **t (int)** : Timepoint to examine the percentiles and threshold in.\n",
    "\n",
    " - **x_percentile (int)** : Percentile to use for step 1.\n",
    "\n",
    " - **background_kernel_x (int)** : Median kernel size to use for step 2.\n",
    "\n",
    " - **smoothing_kernel_x (int)** : Median kernel size to use for step 4.\n",
    "\n",
    " - **otsu_scaling (float)** : Scaling factor to apply to the threshold determined by Otsu's method.\n",
    "\n",
    "Running the following widget will display the smoothed 1-D signal for each of your timepoints. In addition, the threshold <br>value for each fov will be displayed as a red line. In addition, it will display the detected midpoints for each of your timepoints. <br>If there is too much sparsity, or discontinuity, your drift correction will not be accurate."
   ]
  },
  {
   "cell_type": "code",
   "execution_count": null,
   "metadata": {},
   "outputs": [],
   "source": [
    "interactive_kymograph.preview_x_percentiles_interactive()"
   ]
  },
  {
   "cell_type": "markdown",
   "metadata": {},
   "source": [
    "##### Tune trench cropping hyperparameters\n",
    "\n",
    "Trench cropping simply uses the drift-corrected midpoints as a reference and crops out some fixed length around them <br>\n",
    "to produce an output kymograph. **Note that the current implementation does not allow trench crops to overlap**. If your<br>\n",
    "trench crops do overlap, the error will not be caught here, but will cause issues later in the pipeline. As such, try <br>\n",
    "to crop your trenches as closely as possible. This issue will be fixed in a later update.\n",
    "\n",
    "The arguments for this step are:\n",
    "\n",
    " - **trench_width_x (int)** : Trench width to use for cropping.\n",
    "\n",
    " - **trench_present_thr (float)** : Trenches that appear in less than this percent of FOVs will be eliminated from the dataset.<br>\n",
    "If not removed, missing positions will be inferred from the image drift.\n",
    "\n",
    " - **Use Median Drift? (bool)** : Whether to use the median detected drift across all FOVs, instead of the drift detected in each FOV individually.\n",
    "\n",
    "\n",
    "Running the following widget will display a random kymograph for each row in each fov and will also produce midpoint plots <br>showing retained midpoints"
   ]
  },
  {
   "cell_type": "code",
   "execution_count": null,
   "metadata": {},
   "outputs": [],
   "source": [
    "interactive_kymograph.preview_kymographs_interactive()"
   ]
  },
  {
   "cell_type": "markdown",
   "metadata": {},
   "source": [
    "##### Export and save hyperparameters\n",
    "\n",
    "Run the following line to register and display the parameters you have selected for kymograph creation."
   ]
  },
  {
   "cell_type": "code",
   "execution_count": null,
   "metadata": {},
   "outputs": [],
   "source": [
    "interactive_kymograph.process_results()"
   ]
  },
  {
   "cell_type": "markdown",
   "metadata": {},
   "source": [
    "If you are satisfied with the above parameters, run the following line to write these parameters to disk at `headpath/kymograph.par`<br>\n",
    "This file will be used to perform kymograph creation in the next section."
   ]
  },
  {
   "cell_type": "code",
   "execution_count": null,
   "metadata": {},
   "outputs": [],
   "source": [
    "interactive_kymograph.write_param_file()"
   ]
  },
  {
   "cell_type": "markdown",
   "metadata": {},
   "source": [
    "### Generate Kymograph"
   ]
  },
  {
   "cell_type": "markdown",
   "metadata": {},
   "source": [
    "##### Start Dask Workers\n",
    "\n",
    "Again, we start a `dask_controller` instance which will handle all of our parallel processing. The default parameters <br>here work well on O2 for kymograph creation. The critical arguments here are:\n",
    "\n",
    "**walltime** : For a cluster, the length of time you will request each node for.\n",
    "\n",
    "**local** : `True` if you want to perform computation locally. `False` if you want to perform it on a SLURM cluster.\n",
    "\n",
    "**n_workers** : Number of nodes to request if on the cluster, or number of processes if computing locally.\n",
    "\n",
    "**memory** : For a cluster, the amount of memory you will request each node for.\n",
    "\n",
    "**working_directory** : For a cluster, the directory in which data will be spilled to disk. Usually set as a folder in <br>the `headpath`."
   ]
  },
  {
   "cell_type": "code",
   "execution_count": null,
   "metadata": {
    "tags": []
   },
   "outputs": [],
   "source": [
    "dask_controller = tr.trcluster.dask_controller(\n",
    "    walltime=\"04:00:00\",\n",
    "    local=False,\n",
    "    n_workers=100,\n",
    "    memory=\"8GB\",\n",
    "    working_directory=headpath + \"/dask\",\n",
    ")\n",
    "dask_controller.startdask()"
   ]
  },
  {
   "cell_type": "markdown",
   "metadata": {},
   "source": [
    "After running the above line, you will have a running Dask client. Run the line below and click the link to supervise <br>the computation being administered by the scheduler. \n",
    "\n",
    "Don't be alarmed if the screen starts mostly blank, it may take time for your workers to spin up. If you get a 404 <br>error on a cluster, it is likely that your ports are not being forwarded properly. If this occurs, please register <br>the issue on github."
   ]
  },
  {
   "cell_type": "code",
   "execution_count": null,
   "metadata": {},
   "outputs": [],
   "source": [
    "dask_controller.daskclient"
   ]
  },
  {
   "cell_type": "markdown",
   "metadata": {},
   "source": [
    "##### Perform Kymograph Cropping\n",
    "\n",
    "Now that we have our cluster scheduler spun up, we will extract kymographs using the parameters stored in `headpath/kymograph.par`. <br>\n",
    "This will be handled by the `kymograph_cluster` object. This will detect trenches in all of the files present in `headpath/hdf5` that <br>\n",
    "you created in the first step. It will then crop these trenches and place the crops in a series of `.hdf5` files in `headpath/kymograph`. <br>\n",
    "These files will store image data in the form of `(K,T,Y,X)` arrays where K is the trench index, T is time and Y,X are the image dimensions <br>\n",
    "of the crop.\n",
    "\n",
    "The arguments for this step are:\n",
    "\n",
    " - **headpath** : The folder in which processing is occuring. Should be the same for each step in the pipeline.\n",
    "\n",
    " - **trenches_per_file** : The maximum number of trenches stored in each output `.hdf5` file. Typical values are between 25 <br>and 100.\n",
    "\n",
    " - **paramfile** : Set to true if you want to use parameters from `headpath/kymograph.par` Otherwise, you will have to specify <br>\n",
    " parameters as direct arguments to `kymograph_cluster`."
   ]
  },
  {
   "cell_type": "code",
   "execution_count": null,
   "metadata": {},
   "outputs": [],
   "source": [
    "kymoclust = tr.kymograph.kymograph_cluster(\n",
    "    headpath=headpath, trenches_per_file=200, paramfile=True\n",
    ")"
   ]
  },
  {
   "cell_type": "markdown",
   "metadata": {},
   "source": [
    "##### Begin Kymograph Cropping \n",
    "\n",
    "Running the following line will start the cropping process. This may be monitored by examining the `Dask Dashboard` <br>\n",
    "under the link displayed earlier. Once the computation is complete, move to the next line.\n",
    "\n",
    "**Do not move on until all tasks are displayed as 'in memory' in Dask.**"
   ]
  },
  {
   "cell_type": "code",
   "execution_count": null,
   "metadata": {},
   "outputs": [],
   "source": [
    "kymoclust.generate_kymographs(dask_controller)"
   ]
  },
  {
   "cell_type": "code",
   "execution_count": null,
   "metadata": {},
   "outputs": [],
   "source": [
    "ff = tr.focus_filter(headpath)"
   ]
  },
  {
   "cell_type": "code",
   "execution_count": null,
   "metadata": {},
   "outputs": [],
   "source": [
    "ff.choose_filter_channel_inter()"
   ]
  },
  {
   "cell_type": "code",
   "execution_count": null,
   "metadata": {},
   "outputs": [],
   "source": [
    "ff.plot_histograms()"
   ]
  },
  {
   "cell_type": "code",
   "execution_count": null,
   "metadata": {},
   "outputs": [],
   "source": [
    "ff.plot_focus_threshold_inter()"
   ]
  },
  {
   "cell_type": "code",
   "execution_count": null,
   "metadata": {},
   "outputs": [],
   "source": [
    "ff.write_param_file()"
   ]
  },
  {
   "cell_type": "markdown",
   "metadata": {},
   "source": [
    "##### Post-process Images\n",
    "\n",
    "After the above step, kymographs will have been created for each `.hdf5` input file. They will now need to be reorganized <br>\n",
    "into a new set of files such that each file has, at most, `trenches_per_file` trenches in each file.\n",
    "\n",
    "**Do not move on until all tasks are displayed as 'in memory' in Dask.**"
   ]
  },
  {
   "cell_type": "code",
   "execution_count": null,
   "metadata": {},
   "outputs": [],
   "source": [
    "kymoclust.post_process(dask_controller)"
   ]
  },
  {
   "cell_type": "markdown",
   "metadata": {},
   "source": [
    "##### Check kymograph statistics\n",
    "\n",
    "Run the next line to display some statistics from kymograph creation. The outputs are:\n",
    "\n",
    " - **fovs processed** : The number of FOVs successfully processed out of the total number of FOVs\n",
    " - **rows processed** : The number of rows of trenches processed out of the total number of rows\n",
    " - **trenches processed** : The number of trenches successfully processed\n",
    " - **row/fov** : The average number of rows successfully processed per FOV\n",
    " - **trenches/fov** : The average number of trenches successfully processed per FOV\n",
    " - **failed fovs** : A list of failed FOVs. Spot check these FOVs in the viewer to determine potential problems"
   ]
  },
  {
   "cell_type": "code",
   "execution_count": null,
   "metadata": {},
   "outputs": [],
   "source": [
    "kymoclust.kymo_report()"
   ]
  },
  {
   "cell_type": "markdown",
   "metadata": {},
   "source": [
    "##### Shutdown Dask\n",
    "\n",
    "Once cropping is complete, it is likely that you will want to shutdown your `dask_controller` if you are on a <br>\n",
    "cluster. This is because the specifications of the current `dask_controller` will not be optimal for later steps. <br>\n",
    "To do this, run the following line and wait for it to complete. If it hangs, interrupt your kernel and re-run it. <br>\n",
    "If this also fails to shutdown your workers, you will have to manually shut them down using `scancel` in a terminal."
   ]
  },
  {
   "cell_type": "code",
   "execution_count": null,
   "metadata": {
    "tags": []
   },
   "outputs": [],
   "source": [
    "dask_controller.daskclient.restart()"
   ]
  },
  {
   "cell_type": "code",
   "execution_count": null,
   "metadata": {
    "tags": []
   },
   "outputs": [],
   "source": [
    "dask_controller.shutdown()"
   ]
  },
  {
   "cell_type": "markdown",
   "metadata": {},
   "source": [
    "## FISH Analysis"
   ]
  },
  {
   "cell_type": "markdown",
   "metadata": {},
   "source": [
    "##### Start Dask Workers\n",
    "\n",
    "Again, we start a `dask_controller` instance which will handle all of our parallel processing. The default parameters <br>here work well on O2 for kymograph creation. The critical arguments here are:\n",
    "\n",
    "**walltime** : For a cluster, the length of time you will request each node for.\n",
    "\n",
    "**local** : `True` if you want to perform computation locally. `False` if you want to perform it on a SLURM cluster.\n",
    "\n",
    "**n_workers** : Number of nodes to request if on the cluster, or number of processes if computing locally.\n",
    "\n",
    "**memory** : For a cluster, the amount of memory you will request each node for.\n",
    "\n",
    "**working_directory** : For a cluster, the directory in which data will be spilled to disk. Usually set as a folder in <br>the `headpath`."
   ]
  },
  {
   "cell_type": "code",
   "execution_count": null,
   "metadata": {
    "tags": []
   },
   "outputs": [],
   "source": [
    "dask_controller = tr.trcluster.dask_controller(\n",
    "    walltime=\"02:00:00\",\n",
    "    local=False,\n",
    "    n_workers=10,\n",
    "    memory=\"16GB\",\n",
    "    working_directory=headpath + \"/dask\",\n",
    ")\n",
    "dask_controller.startdask()"
   ]
  },
  {
   "cell_type": "code",
   "execution_count": null,
   "metadata": {
    "tags": []
   },
   "outputs": [],
   "source": [
    "dask_controller.displaydashboard()"
   ]
  },
  {
   "cell_type": "markdown",
   "metadata": {},
   "source": [
    "#### Get Barcode Signal (Percentile Function)"
   ]
  },
  {
   "cell_type": "code",
   "execution_count": null,
   "metadata": {
    "tags": []
   },
   "outputs": [],
   "source": [
    "import numpy as np\n",
    "\n",
    "tr.get_all_image_measurements(\n",
    "    dask_controller,\n",
    "    headpath,\n",
    "    headpath + \"/percentiles\",\n",
    "    [\"RFP\", \"Cy5\", \"Cy7\"],\n",
    "    \"98th Percentile\",\n",
    "    np.percentile,\n",
    "    98,\n",
    ")"
   ]
  },
  {
   "cell_type": "markdown",
   "metadata": {},
   "source": [
    "#### Determine Barcodes"
   ]
  },
  {
   "cell_type": "code",
   "execution_count": null,
   "metadata": {},
   "outputs": [],
   "source": [
    "fish_test = tr.fish_analysis(\n",
    "    headpath,\n",
    "    \"./lDE18_final_df.tsv\",\n",
    "    \"./lDE18_final_df.json\",\n",
    "    hamming_thr=1,\n",
    "    channel_names=[\"RFP 98th Percentile\", \"Cy5 98th Percentile\", \"Cy7 98th Percentile\"],\n",
    ")"
   ]
  },
  {
   "cell_type": "code",
   "execution_count": null,
   "metadata": {},
   "outputs": [],
   "source": [
    "fish_test.plot_signal_threshold_inter()"
   ]
  },
  {
   "cell_type": "code",
   "execution_count": null,
   "metadata": {
    "tags": []
   },
   "outputs": [],
   "source": [
    "fish_test.get_bit_thresholds()"
   ]
  },
  {
   "cell_type": "code",
   "execution_count": null,
   "metadata": {
    "tags": []
   },
   "outputs": [],
   "source": [
    "fish_test.bit_threshold_list = [\n",
    "    1100,\n",
    "    900,\n",
    "    1600,\n",
    "    1400,\n",
    "    1400,\n",
    "    1400,\n",
    "    1500,\n",
    "    1500,\n",
    "    1300,\n",
    "    1500,\n",
    "    3000,\n",
    "    6000,\n",
    "    8000,\n",
    "    3500,\n",
    "    6000,\n",
    "    2000,\n",
    "    4500,\n",
    "    5000,\n",
    "    4000,\n",
    "    3000,\n",
    "    500,\n",
    "    1000,\n",
    "    600,\n",
    "    700,\n",
    "    700,\n",
    "    700,\n",
    "    700,\n",
    "    700,\n",
    "    600,\n",
    "    600,\n",
    "]"
   ]
  },
  {
   "cell_type": "code",
   "execution_count": null,
   "metadata": {},
   "outputs": [],
   "source": [
    "fish_test.plot_bit_threshold_inter()"
   ]
  },
  {
   "cell_type": "code",
   "execution_count": null,
   "metadata": {
    "tags": []
   },
   "outputs": [],
   "source": [
    "fish_test.output_barcode_df()"
   ]
  },
  {
   "cell_type": "markdown",
   "metadata": {},
   "source": [
    "# Step 3: Combined Analysis"
   ]
  },
  {
   "cell_type": "code",
   "execution_count": null,
   "metadata": {},
   "outputs": [],
   "source": [
    "import numpy as np\n",
    "import pandas as pd\n",
    "import seaborn as sns\n",
    "import scipy as sp\n",
    "import sklearn as skl\n",
    "import dask.dataframe as dd\n",
    "\n",
    "from matplotlib import pyplot as plt"
   ]
  },
  {
   "cell_type": "code",
   "execution_count": null,
   "metadata": {},
   "outputs": [],
   "source": [
    "headpath = \"/home/de64/scratch/de64/sync_folder/2021-05-27_lDE18_20x_run_1/Barcodes/\""
   ]
  },
  {
   "cell_type": "code",
   "execution_count": null,
   "metadata": {
    "tags": []
   },
   "outputs": [],
   "source": [
    "dask_controller = tr.trcluster.dask_controller(\n",
    "    walltime=\"02:00:00\",\n",
    "    local=False,\n",
    "    n_workers=50,\n",
    "    memory=\"16GB\",\n",
    "    working_directory=headpath + \"/dask\",\n",
    ")\n",
    "dask_controller.startdask()"
   ]
  },
  {
   "cell_type": "code",
   "execution_count": null,
   "metadata": {
    "tags": []
   },
   "outputs": [],
   "source": [
    "dask_controller.displaydashboard()"
   ]
  },
  {
   "cell_type": "code",
   "execution_count": null,
   "metadata": {
    "tags": []
   },
   "outputs": [],
   "source": [
    "dask_controller.daskclient.restart()"
   ]
  },
  {
   "cell_type": "markdown",
   "metadata": {},
   "source": [
    "#### Import Barcode Dataframe"
   ]
  },
  {
   "cell_type": "code",
   "execution_count": null,
   "metadata": {},
   "outputs": [],
   "source": [
    "meta_handle = tr.pandas_hdf5_handler(\n",
    "    \"/home/de64/scratch/de64/sync_folder/2021-05-27_lDE18_20x_run_1/Barcodes/metadata.hdf5\"\n",
    ")\n",
    "pandas_barcode_df = meta_handle.read_df(\"barcodes\", read_metadata=True)\n",
    "barcode_df = dd.from_pandas(pandas_barcode_df, npartitions=500, sort=True)\n",
    "barcode_df = barcode_df.persist()"
   ]
  },
  {
   "cell_type": "code",
   "execution_count": null,
   "metadata": {},
   "outputs": [],
   "source": [
    "ttl_called = len(barcode_df.index)\n",
    "ttl_trenches = pandas_barcode_df.metadata[\"Total Trenches\"]\n",
    "ttl_trenches_w_cells = pandas_barcode_df.metadata[\"Total Trenches With Cells\"]\n",
    "percent_called = ttl_called / ttl_trenches\n",
    "percent_called_w_cells = ttl_called / ttl_trenches_w_cells"
   ]
  },
  {
   "cell_type": "code",
   "execution_count": null,
   "metadata": {},
   "outputs": [],
   "source": [
    "percent_called"
   ]
  },
  {
   "cell_type": "code",
   "execution_count": null,
   "metadata": {},
   "outputs": [],
   "source": [
    "percent_called_w_cells"
   ]
  },
  {
   "cell_type": "code",
   "execution_count": null,
   "metadata": {},
   "outputs": [],
   "source": [
    "1.0 - percent_called_w_cells"
   ]
  },
  {
   "cell_type": "markdown",
   "metadata": {},
   "source": [
    "#### Import mVenus Regionprops Output"
   ]
  },
  {
   "cell_type": "code",
   "execution_count": null,
   "metadata": {
    "tags": []
   },
   "outputs": [],
   "source": [
    "analysis_df = dd.read_parquet(\n",
    "    \"/home/de64/scratch/de64/sync_folder/2021-05-27_lDE18_20x_run_1/mVenus/analysis\"\n",
    ")\n",
    "mvenus_df = analysis_df[analysis_df[\"Intensity Channel\"] == \"YFP\"]"
   ]
  },
  {
   "cell_type": "markdown",
   "metadata": {},
   "source": [
    "#### Get trenchwise mVenus average and standard deviation"
   ]
  },
  {
   "cell_type": "code",
   "execution_count": null,
   "metadata": {
    "tags": []
   },
   "outputs": [],
   "source": [
    "trench_timepoints = mvenus_df.apply(\n",
    "    lambda x: int(f'{x[\"trenchid\"]:04}{x[\"timepoints\"]:04}'), axis=1, meta=int\n",
    ")\n",
    "mvenus_df[\"trench-timepoint\"] = trench_timepoints\n",
    "mvenus_df_trench = mvenus_df.set_index(\"trench-timepoint\", sorted=True)\n",
    "mvenus_groupby = mvenus_df_trench.groupby(\"trench-timepoint\")\n",
    "mvenus_intensity_wo_bkd = (\n",
    "    mvenus_groupby.apply(lambda x: x[\"mean_intensity\"] - x.iloc[0][\"mean_intensity\"])\n",
    "    .reset_index(drop=True)\n",
    "    .to_frame()\n",
    ")\n",
    "mvenus_intensity_wo_bkd = mvenus_intensity_wo_bkd.rename(\n",
    "    columns={\"mean_intensity\": \"mean_intensity_wo_bkd\"}\n",
    ")\n",
    "mvenus_intensity_wo_bkd.index = mvenus_df.index\n",
    "mvenus_df = mvenus_df.join(mvenus_intensity_wo_bkd)\n",
    "mvenus_df = mvenus_df[mvenus_df[\"Objectid\"] != 0].persist()\n",
    "# mvenus_df[\"Object Parquet Index\"] = mvenus_df.apply(lambda x: int(f\"{x['File Index']:04}{x['File Trench Index']:04}{x['timepoints']:04}{x['Objectid']:02}\"),axis=1)\n",
    "# mvenus_df = mvenus_df.set_index(\"Object Parquet Index\")\n",
    "\n",
    "trenchid_groupby = mvenus_df.groupby(\"trenchid\", sort=True)\n",
    "mvenus_mean = (\n",
    "    trenchid_groupby[\"mean_intensity_wo_bkd\"]\n",
    "    .mean()\n",
    "    .to_frame()\n",
    "    .reset_index()\n",
    "    .set_index(\"trenchid\", sort=True)\n",
    ")\n",
    "mvenus_mean = mvenus_mean.rename(\n",
    "    columns={\"mean_intensity_wo_bkd\": \"mVenus Mean Intensity\"}\n",
    ").persist()\n",
    "mvenus_sd = (\n",
    "    trenchid_groupby[\"mean_intensity_wo_bkd\"]\n",
    "    .std()\n",
    "    .to_frame()\n",
    "    .reset_index()\n",
    "    .set_index(\"trenchid\", sort=True)\n",
    ")\n",
    "mvenus_sd = mvenus_sd.rename(\n",
    "    columns={\"mean_intensity_wo_bkd\": \"mVenus Standard Deviation\"}\n",
    ").persist()\n",
    "mvenus_fano = (\n",
    "    (\n",
    "        (mvenus_sd[\"mVenus Standard Deviation\"] ** 2)\n",
    "        / mvenus_mean[\"mVenus Mean Intensity\"]\n",
    "    )\n",
    "    .to_frame()\n",
    "    .reset_index()\n",
    "    .set_index(\"trenchid\", sort=True)\n",
    ")\n",
    "mvenus_fano = mvenus_fano.rename(columns={0: \"mVenus Fano Factor\"}).persist()\n",
    "\n",
    "scalar_dict = {\n",
    "    \"mVenus Mean Intensity\": mvenus_mean,\n",
    "    \"mVenus Standard Deviation\": mvenus_sd,\n",
    "    \"mVenus Fano Factor\": mvenus_fano,\n",
    "}\n",
    "\n",
    "del mvenus_df"
   ]
  },
  {
   "cell_type": "markdown",
   "metadata": {},
   "source": [
    "#### Get Trench Mapping"
   ]
  },
  {
   "cell_type": "code",
   "execution_count": null,
   "metadata": {},
   "outputs": [],
   "source": [
    "def get_mapping(df):\n",
    "    df1_xy = np.array(df[\"Frame 1 Position\"]).T\n",
    "    df2_xy = np.array(df[\"Frame 2 Position\"]).T\n",
    "    ymat = np.subtract.outer(df1_xy[:, 0], df2_xy[:, 0])\n",
    "    xmat = np.subtract.outer(df1_xy[:, 1], df2_xy[:, 1])\n",
    "    distmat = (ymat**2 + xmat**2) ** (1 / 2)\n",
    "\n",
    "    # ensuring map is one-to-one\n",
    "    mapping = np.argmin(distmat, axis=1)\n",
    "    invmapping = np.argmin(distmat, axis=0)\n",
    "\n",
    "    mapping = {\n",
    "        idx: map_idx\n",
    "        for idx, map_idx in enumerate(mapping)\n",
    "        if invmapping[map_idx] == idx\n",
    "    }\n",
    "\n",
    "    df1_trenchids = df[\"Frame 1 Trenchid\"]\n",
    "    df2_trenchids = df[\"Frame 2 Trenchid\"]\n",
    "\n",
    "    trenchid_map = {\n",
    "        trenchid: df2_trenchids[mapping[i]]\n",
    "        for i, trenchid in enumerate(df1_trenchids)\n",
    "        if i in mapping.keys()\n",
    "    }\n",
    "\n",
    "    return trenchid_map\n",
    "\n",
    "\n",
    "def get_trenchid_map(kymodf1, kymodf2):\n",
    "\n",
    "    fovset1 = set(kymodf1[\"fov\"].unique().compute().tolist())\n",
    "    fovset2 = set(kymodf2[\"fov\"].unique().compute().tolist())\n",
    "    fov_intersection = fovset1.intersection(fovset2)\n",
    "\n",
    "    fovdf1_groupby = kymodf1.set_index(\"fov\", sorted=True).groupby(\"fov\")\n",
    "    fovdf1_pos = (\n",
    "        fovdf1_groupby.apply(\n",
    "            lambda x: [list(x[\"y (local)\"]), list(x[\"x (local)\"])], meta=list\n",
    "        )\n",
    "        .loc[list(fov_intersection)]\n",
    "        .to_frame()\n",
    "    )\n",
    "    fovdf1_pos.columns = [\"Frame 1 Position\"]\n",
    "    fovdf1_trenchid = (\n",
    "        fovdf1_groupby.apply(lambda x: list(x[\"trenchid\"]), meta=list)\n",
    "        .loc[list(fov_intersection)]\n",
    "        .to_frame()\n",
    "    )\n",
    "    fovdf1_trenchid.columns = [\"Frame 1 Trenchid\"]\n",
    "\n",
    "    fovdf2_groupby = kymodf2.set_index(\"fov\", sorted=True).groupby(\"fov\")\n",
    "    fovdf2_pos = (\n",
    "        fovdf2_groupby.apply(\n",
    "            lambda x: [list(x[\"y (local)\"]), list(x[\"x (local)\"])], meta=list\n",
    "        )\n",
    "        .loc[list(fov_intersection)]\n",
    "        .to_frame()\n",
    "    )\n",
    "    fovdf2_pos.columns = [\"Frame 2 Position\"]\n",
    "    fovdf2_trenchid = (\n",
    "        fovdf2_groupby.apply(lambda x: list(x[\"trenchid\"]), meta=list)\n",
    "        .loc[list(fov_intersection)]\n",
    "        .to_frame()\n",
    "    )\n",
    "    fovdf2_trenchid.columns = [\"Frame 2 Trenchid\"]\n",
    "\n",
    "    combined_df = fovdf1_pos.join([fovdf1_trenchid, fovdf2_pos, fovdf2_trenchid])\n",
    "    mapping_df = combined_df.apply(get_mapping, axis=1, meta=dict).compute()\n",
    "\n",
    "    trenchid_map = {\n",
    "        key: val for item in mapping_df.to_list() for key, val in item.items()\n",
    "    }\n",
    "\n",
    "    return trenchid_map\n",
    "\n",
    "\n",
    "def get_called_df(barcode_df, scalar_dict):\n",
    "\n",
    "    ## note that scalar index needs to be trenchid sorted\n",
    "    init_scalar_df = scalar_dict[list(scalar_dict.keys())[0]]\n",
    "    init_scalar_df_idx = init_scalar_df.index.compute().to_list()\n",
    "    valid_barcode_df = barcode_df[\n",
    "        barcode_df[\"trenchid\"].isin(trenchid_map.keys())\n",
    "    ].compute()\n",
    "    barcode_df_mapped_trenchids = valid_barcode_df[\"trenchid\"].apply(\n",
    "        lambda x: trenchid_map[x]\n",
    "    )\n",
    "    valid_init_scalar_df_indices = barcode_df_mapped_trenchids.isin(init_scalar_df_idx)\n",
    "    barcode_df_mapped_trenchids = barcode_df_mapped_trenchids[\n",
    "        valid_init_scalar_df_indices\n",
    "    ]\n",
    "    final_valid_barcode_df_indices = barcode_df_mapped_trenchids.index.to_list()\n",
    "    final_valid_init_scalar_df_indices = barcode_df_mapped_trenchids.to_list()\n",
    "    final_scalar_dfs = []\n",
    "    for key, val in scalar_dict.items():\n",
    "        final_scalar_dfs.append(\n",
    "            val.loc[final_valid_init_scalar_df_indices].reset_index(drop=True)\n",
    "        )\n",
    "\n",
    "    called_df = barcode_df.loc[final_valid_barcode_df_indices].reset_index(drop=True)\n",
    "    called_df = called_df.join(final_scalar_dfs)\n",
    "\n",
    "    return called_df"
   ]
  },
  {
   "cell_type": "code",
   "execution_count": null,
   "metadata": {},
   "outputs": [],
   "source": [
    "mvenus_kymo_df = dd.read_parquet(\n",
    "    \"/home/de64/scratch/de64/sync_folder/2021-05-27_lDE18_20x_run_1/mVenus/kymograph/metadata\"\n",
    ")\n",
    "barcode_kymo_df = dd.read_parquet(\n",
    "    \"/home/de64/scratch/de64/sync_folder/2021-05-27_lDE18_20x_run_1/Barcodes/kymograph/metadata\"\n",
    ")\n",
    "\n",
    "max_mvenus_tpt = mvenus_kymo_df.loc[:1000][\"timepoints\"].max().compute()\n",
    "min_barcode_tpt = barcode_kymo_df.loc[:1000][\"timepoints\"].min().compute()\n",
    "\n",
    "kymodf1 = mvenus_kymo_df[mvenus_kymo_df[\"timepoints\"] == max_mvenus_tpt]\n",
    "kymodf2 = barcode_kymo_df[barcode_kymo_df[\"timepoints\"] == min_barcode_tpt]\n",
    "\n",
    "last_mvenus_tpt_df = mvenus_kymo_df[mvenus_kymo_df[\"timepoints\"] == max_mvenus_tpt]\n",
    "first_barcode_tpt_df = barcode_kymo_df[barcode_kymo_df[\"timepoints\"] == min_barcode_tpt]\n",
    "\n",
    "trenchid_map = get_trenchid_map(first_barcode_tpt_df, last_mvenus_tpt_df)"
   ]
  },
  {
   "cell_type": "code",
   "execution_count": null,
   "metadata": {},
   "outputs": [],
   "source": [
    "called_df = get_called_df(barcode_df, scalar_dict)"
   ]
  },
  {
   "cell_type": "code",
   "execution_count": null,
   "metadata": {},
   "outputs": [],
   "source": [
    "def get_scalar_mean_median_mode(\n",
    "    df, groupby, key\n",
    "):  ## defined bc of a global variable issue with the key not playing nice with dask groupby\n",
    "    df[key + \": Median\"] = groupby.apply(lambda x: np.median(x[key]), meta=float)\n",
    "    df[key + \": Mean\"] = groupby.apply(lambda x: np.mean(x[key]), meta=float)\n",
    "    df[key + \": SEM\"] = groupby.apply(\n",
    "        lambda x: sp.stats.sem(x[key]), meta=float\n",
    "    )  # ADDING THIS MESSED UP THE LABELS?\n",
    "    return df\n",
    "\n",
    "\n",
    "## HERE"
   ]
  },
  {
   "cell_type": "code",
   "execution_count": null,
   "metadata": {
    "tags": []
   },
   "outputs": [],
   "source": [
    "called_df_barcode = called_df.set_index(\"Barcode\", sorted=False)\n",
    "called_df_barcode_groupby = called_df.groupby([\"Barcode\"])\n",
    "barcode_only_df = called_df_barcode_groupby.apply(lambda x: x.iloc[0])\n",
    "\n",
    "barcode_only_df[\"trenchids\"] = called_df_barcode_groupby.apply(\n",
    "    lambda x: list(x[\"trenchid\"]), meta=list\n",
    ")\n",
    "\n",
    "for key in scalar_dict.keys():\n",
    "    barcode_only_df = get_scalar_mean_median_mode(\n",
    "        barcode_only_df, called_df_barcode_groupby, key\n",
    "    )\n",
    "\n",
    "for key, _ in scalar_dict.items():\n",
    "    del barcode_only_df[key]\n",
    "\n",
    "barcode_only_df[\"N Trenches\"] = barcode_only_df[\"trenchids\"].apply(\n",
    "    lambda x: len(x), meta=int\n",
    ")\n",
    "\n",
    "del barcode_only_df[\"trenchid\"]\n",
    "del barcode_only_df[\"Barcode Signal\"]\n",
    "del barcode_only_df[\"Barcode\"]\n",
    "del barcode_only_df[\"barcode\"]"
   ]
  },
  {
   "cell_type": "code",
   "execution_count": null,
   "metadata": {},
   "outputs": [],
   "source": [
    "barcode_only_df = barcode_only_df.compute()\n",
    "barcode_only_df = barcode_only_df[barcode_only_df[\"N Trenches\"] > 5]"
   ]
  },
  {
   "cell_type": "code",
   "execution_count": null,
   "metadata": {},
   "outputs": [],
   "source": [
    "plt.hist(barcode_only_df[\"N Trenches\"], range=(1, 10))\n",
    "plt.show()"
   ]
  },
  {
   "cell_type": "code",
   "execution_count": null,
   "metadata": {},
   "outputs": [],
   "source": []
  },
  {
   "cell_type": "code",
   "execution_count": null,
   "metadata": {
    "tags": []
   },
   "outputs": [],
   "source": [
    "kymo_df = dd.read_parquet(\n",
    "    \"/home/de64/scratch/de64/sync_folder/2021-05-27_lDE18_20x_run_1/mVenus/kymograph/metadata\"\n",
    ")"
   ]
  },
  {
   "cell_type": "code",
   "execution_count": null,
   "metadata": {
    "tags": []
   },
   "outputs": [],
   "source": [
    "## NEW INDEX\n",
    "trench_timepoint_index = kymo_df.apply(\n",
    "    lambda x: int(f'{x[\"trenchid\"]:08}{x[\"timepoints\"]:04}'), axis=1, meta=int\n",
    ")\n",
    "kymo_df[\"Trenchid Timepoint Index\"] = trench_timepoint_index\n",
    "## END\n",
    "kymo_df = kymo_df.persist()\n",
    "# dd.to_parquet(outputdf, self.kymographpath + \"/metadata\",engine='fastparquet',compression='gzip',write_metadata_file=True,overwrite=True)"
   ]
  },
  {
   "cell_type": "code",
   "execution_count": null,
   "metadata": {
    "tags": []
   },
   "outputs": [],
   "source": [
    "dd.to_parquet(\n",
    "    kymo_df,\n",
    "    \"/home/de64/scratch/de64/sync_folder/2021-05-27_lDE18_20x_run_1/mVenus/kymograph/metadata\",\n",
    "    engine=\"fastparquet\",\n",
    "    compression=\"gzip\",\n",
    "    write_metadata_file=True,\n",
    "    overwrite=True,\n",
    ")"
   ]
  },
  {
   "cell_type": "code",
   "execution_count": null,
   "metadata": {},
   "outputs": [],
   "source": [
    "first_indices = kymo_df.loc[list(kymo_df.divisions)].compute()"
   ]
  },
  {
   "cell_type": "code",
   "execution_count": null,
   "metadata": {},
   "outputs": [],
   "source": [
    "def set_new_aligned_index(df, index_column):\n",
    "    ### Sets a column to be the new index\n",
    "    ### Fast, but assumes index is both sorted and division aligned to the primary index\n",
    "    first_indices = df.loc[list(df.divisions)].compute()\n",
    "    new_index_divisions = first_indices[index_column].to_list()\n",
    "    output_df = df.set_index(\n",
    "        index_column,\n",
    "        drop=False,\n",
    "        sorted=True,\n",
    "        npartitions=df.npartitions,\n",
    "        divisions=new_index_divisions,\n",
    "    )\n",
    "    return output_df"
   ]
  },
  {
   "cell_type": "code",
   "execution_count": null,
   "metadata": {},
   "outputs": [],
   "source": [
    "test_df = set_new_aligned_index(kymo_df, \"File Parquet Index\")"
   ]
  },
  {
   "cell_type": "code",
   "execution_count": null,
   "metadata": {},
   "outputs": [],
   "source": [
    "test_df.loc[0].compute()"
   ]
  },
  {
   "cell_type": "code",
   "execution_count": null,
   "metadata": {},
   "outputs": [],
   "source": [
    "test_kymo_df[\"fov\"].unique().compute()"
   ]
  },
  {
   "cell_type": "code",
   "execution_count": null,
   "metadata": {},
   "outputs": [],
   "source": [
    "filter_level = 0.7\n",
    "filtered_df = barcode_only_df[\n",
    "    (\n",
    "        (\n",
    "            barcode_only_df[\"mVenus Fano Factor: SEM\"]\n",
    "            / barcode_only_df[\"mVenus Fano Factor: Mean\"]\n",
    "        )\n",
    "        < filter_level\n",
    "    )\n",
    "    & (\n",
    "        (\n",
    "            barcode_only_df[\"mVenus Mean Intensity: SEM\"]\n",
    "            / barcode_only_df[\"mVenus Mean Intensity: Mean\"]\n",
    "        )\n",
    "        < filter_level\n",
    "    )\n",
    "]"
   ]
  },
  {
   "cell_type": "code",
   "execution_count": null,
   "metadata": {},
   "outputs": [],
   "source": [
    "plt.scatter(\n",
    "    filtered_df[\"mVenus Mean Intensity: Median\"],\n",
    "    filtered_df[\"mVenus Fano Factor: Median\"],\n",
    "    alpha=0.5,\n",
    ")\n",
    "plt.xscale(\"log\")\n",
    "plt.ylim(0, 100)\n",
    "plt.show()"
   ]
  },
  {
   "cell_type": "code",
   "execution_count": null,
   "metadata": {},
   "outputs": [],
   "source": [
    "plt.scatter(\n",
    "    filtered_df[\"mVenus Mean Intensity: Median\"],\n",
    "    filtered_df[\"mVenus Fano Factor: Median\"],\n",
    "    alpha=0.5,\n",
    ")\n",
    "plt.loglog()\n",
    "plt.show()"
   ]
  },
  {
   "cell_type": "code",
   "execution_count": null,
   "metadata": {},
   "outputs": [],
   "source": [
    "filtered_df[\"Log mVenus Mean Intensity\"] = np.log10(\n",
    "    filtered_df[\"mVenus Mean Intensity: Median\"]\n",
    ")\n",
    "filtered_df[\"Log mVenus Fano Factor\"] = np.log10(\n",
    "    filtered_df[\"mVenus Fano Factor: Median\"]\n",
    ")"
   ]
  },
  {
   "cell_type": "code",
   "execution_count": null,
   "metadata": {},
   "outputs": [],
   "source": [
    "from sklearn.linear_model import LinearRegression"
   ]
  },
  {
   "cell_type": "code",
   "execution_count": null,
   "metadata": {},
   "outputs": [],
   "source": [
    "reg = LinearRegression().fit(\n",
    "    filtered_df[\"Log mVenus Mean Intensity\"].values.reshape(-1, 1),\n",
    "    filtered_df[\"Log mVenus Fano Factor\"].values,\n",
    ")"
   ]
  },
  {
   "cell_type": "code",
   "execution_count": null,
   "metadata": {},
   "outputs": [],
   "source": [
    "reg.score(\n",
    "    filtered_df[\"Log mVenus Mean Intensity\"].values.reshape(-1, 1),\n",
    "    filtered_df[\"Log mVenus Fano Factor\"].values,\n",
    ")"
   ]
  },
  {
   "cell_type": "code",
   "execution_count": null,
   "metadata": {},
   "outputs": [],
   "source": [
    "corrected_fano = filtered_df[\"Log mVenus Fano Factor\"].values - (\n",
    "    reg.coef_[0] * filtered_df[\"Log mVenus Mean Intensity\"].values + reg.intercept_\n",
    ")\n",
    "perc = np.percentile(corrected_fano, 97)\n",
    "high_fano_df = filtered_df[corrected_fano > perc]\n",
    "high_fano_complement_df = filtered_df[corrected_fano <= perc]\n",
    "\n",
    "# corrected_fano = filtered_df[\"Log mVenus Fano Factor\"].values - (reg.coef_[0]*filtered_df[\"Log mVenus Mean Intensity\"].values+reg.intercept_)\n",
    "# perc = np.percentile(corrected_fano,99)\n",
    "# low_fano_df = filtered_df[corrected_fano<perc]\n",
    "# low_fano_complement_df= filtered_df[corrected_fano>=perc]"
   ]
  },
  {
   "cell_type": "code",
   "execution_count": null,
   "metadata": {},
   "outputs": [],
   "source": [
    "perc"
   ]
  },
  {
   "cell_type": "code",
   "execution_count": null,
   "metadata": {
    "tags": []
   },
   "outputs": [],
   "source": [
    "high_fano_df[high_fano_df[\"mVenus Mean Intensity: Median\"] > 1000][\"Promoter\"].to_list()"
   ]
  },
  {
   "cell_type": "code",
   "execution_count": null,
   "metadata": {},
   "outputs": [],
   "source": [
    "plt.scatter(\n",
    "    filtered_df[\"mVenus Mean Intensity: Median\"],\n",
    "    filtered_df[\"mVenus Standard Deviation: Median\"]\n",
    "    / filtered_df[\"mVenus Mean Intensity: Median\"],\n",
    "    alpha=0.3,\n",
    ")\n",
    "plt.xscale(\"log\")\n",
    "plt.ylim(0.0, 1.0)\n",
    "plt.show()"
   ]
  },
  {
   "cell_type": "code",
   "execution_count": null,
   "metadata": {},
   "outputs": [],
   "source": []
  },
  {
   "cell_type": "code",
   "execution_count": null,
   "metadata": {},
   "outputs": [],
   "source": []
  },
  {
   "cell_type": "code",
   "execution_count": null,
   "metadata": {},
   "outputs": [],
   "source": []
  },
  {
   "cell_type": "code",
   "execution_count": null,
   "metadata": {},
   "outputs": [],
   "source": []
  },
  {
   "cell_type": "code",
   "execution_count": null,
   "metadata": {},
   "outputs": [],
   "source": [
    "barcode_only_df = called_df.groupby(\"Barcode\").apply(lambda x: x.iloc[0])\n",
    "del barcode_only_df[\"mVenus Mean Intensity\"]\n",
    "del barcode_only_df[\"trenchid\"]\n",
    "\n",
    "# barcode_only_df[\"mVenus Mean Intensity Observations\"] = barcode_mvenus_series\n",
    "# barcode_only_df[\"mVenus Mean Intensity\"] = barcode_only_df.apply(lambda x: np.mean(x[\"mVenus Mean Intensity Observations\"]),axis=1)\n",
    "# barcode_only_df[\"mVenus Standard Deviation\"] = barcode_only_df.apply(lambda x: np.std(x[\"mVenus Mean Intensity Observations\"]),axis=1)\n",
    "\n",
    "barcode_only_df[\"mVenus Mean Intensity\"] = barcode_mvenus_mean\n",
    "barcode_only_df[\"mVenus Standard Deviation\"] = barcode_mvenus_sd\n",
    "\n",
    "barcode_only_df[\"mVenus Fano Factor\"] = (\n",
    "    barcode_only_df[\"mVenus Standard Deviation\"] ** 2\n",
    ") / barcode_only_df[\"mVenus Mean Intensity\"]\n",
    "barcode_only_df[\"mVenus CV\"] = (\n",
    "    barcode_only_df[\"mVenus Standard Deviation\"]\n",
    "    / barcode_only_df[\"mVenus Mean Intensity\"]\n",
    ")"
   ]
  },
  {
   "cell_type": "code",
   "execution_count": null,
   "metadata": {
    "tags": []
   },
   "outputs": [],
   "source": [
    "filtered_df = barcode_only_df[\n",
    "    (barcode_only_df[\"mVenus Mean Intensity\"] > 2000)\n",
    "    & (barcode_only_df[\"mVenus Mean Intensity\"] < 50000)\n",
    "]"
   ]
  },
  {
   "cell_type": "code",
   "execution_count": null,
   "metadata": {},
   "outputs": [],
   "source": [
    "meta_handle = tr.pandas_hdf5_handler(headpath + \"metadata.hdf5\")"
   ]
  },
  {
   "cell_type": "code",
   "execution_count": null,
   "metadata": {
    "tags": []
   },
   "outputs": [],
   "source": [
    "filtered_df"
   ]
  },
  {
   "cell_type": "code",
   "execution_count": null,
   "metadata": {
    "tags": []
   },
   "outputs": [],
   "source": [
    "## DO THIS BETTER (with parquet) later\n",
    "\n",
    "meta_handle.write_df(\"mVenus Analysis 2\", filtered_df)"
   ]
  },
  {
   "cell_type": "code",
   "execution_count": null,
   "metadata": {},
   "outputs": [],
   "source": [
    "meta_handle = tr.pandas_hdf5_handler(headpath + \"metadata.hdf5\")"
   ]
  },
  {
   "cell_type": "code",
   "execution_count": null,
   "metadata": {},
   "outputs": [],
   "source": [
    "filtered_df = meta_handle.read_df(\"mVenus Analysis 2\")"
   ]
  },
  {
   "cell_type": "code",
   "execution_count": null,
   "metadata": {},
   "outputs": [],
   "source": [
    "filtered_df[\"Promoter\"].apply(lambda x: x[-12] != \"T\" and x[-12] != \"-\")"
   ]
  },
  {
   "cell_type": "code",
   "execution_count": null,
   "metadata": {
    "tags": []
   },
   "outputs": [],
   "source": [
    "plt.hist(\n",
    "    filtered_df[filtered_df[\"Promoter\"].apply(lambda x: x[-12] == \"T\")][\n",
    "        \"mVenus Fano Factor\"\n",
    "    ],\n",
    "    density=True,\n",
    "    range=(0, 10000),\n",
    "    bins=50,\n",
    "    alpha=0.5,\n",
    ")\n",
    "plt.hist(\n",
    "    filtered_df[\n",
    "        filtered_df[\"Promoter\"].apply(lambda x: x[-12] != \"T\" and x[-12] != \"-\")\n",
    "    ][\"mVenus Fano Factor\"],\n",
    "    density=True,\n",
    "    range=(0, 10000),\n",
    "    bins=50,\n",
    "    alpha=0.5,\n",
    ")\n",
    "\n",
    "plt.show()"
   ]
  },
  {
   "cell_type": "code",
   "execution_count": null,
   "metadata": {},
   "outputs": [],
   "source": [
    "np.median(\n",
    "    filtered_df[filtered_df[\"Promoter\"].apply(lambda x: x[-12] == \"T\")][\n",
    "        \"mVenus Fano Factor\"\n",
    "    ]\n",
    ")"
   ]
  },
  {
   "cell_type": "code",
   "execution_count": null,
   "metadata": {},
   "outputs": [],
   "source": [
    "np.median(\n",
    "    filtered_df[filtered_df[\"Promoter\"].apply(lambda x: x[-12] != \"T\")][\n",
    "        \"mVenus Fano Factor\"\n",
    "    ]\n",
    ")"
   ]
  },
  {
   "cell_type": "code",
   "execution_count": null,
   "metadata": {
    "tags": []
   },
   "outputs": [],
   "source": [
    "plt.scatter(\n",
    "    filtered_df[\"mVenus Mean Intensity\"], filtered_df[\"mVenus CV\"] ** 2, alpha=0.5\n",
    ")\n",
    "plt.loglog()\n",
    "plt.show()"
   ]
  },
  {
   "cell_type": "code",
   "execution_count": null,
   "metadata": {},
   "outputs": [],
   "source": [
    "np.logspace(3, 5, 10)"
   ]
  },
  {
   "cell_type": "code",
   "execution_count": null,
   "metadata": {},
   "outputs": [],
   "source": [
    "filtered_df[\"mVenus Mean Intensity\"]\n",
    "pd.cut(filtered_df[\"mVenus Mean Intensity\"], bins=np.logspace(3, 5, 10))"
   ]
  },
  {
   "cell_type": "code",
   "execution_count": null,
   "metadata": {
    "tags": []
   },
   "outputs": [],
   "source": [
    "sns.violinplot(\n",
    "    pd.cut(filtered_df[\"mVenus Mean Intensity\"], bins=np.logspace(3.3, 4, 10)),\n",
    "    filtered_df[\"mVenus Fano Factor\"],\n",
    "    cut=0,\n",
    ")\n",
    "plt.ylim(0, 500)"
   ]
  },
  {
   "cell_type": "code",
   "execution_count": null,
   "metadata": {},
   "outputs": [],
   "source": [
    "plt.scatter(\n",
    "    filtered_df[\"mVenus Mean Intensity\"], filtered_df[\"mVenus Fano Factor\"], alpha=0.5\n",
    ")\n",
    "plt.loglog()\n",
    "plt.show()"
   ]
  },
  {
   "cell_type": "code",
   "execution_count": null,
   "metadata": {},
   "outputs": [],
   "source": [
    "filtered_df[\"Log mVenus Mean Intensity\"] = np.log10(\n",
    "    filtered_df[\"mVenus Mean Intensity\"]\n",
    ")\n",
    "filtered_df[\"Log mVenus Fano Factor\"] = np.log10(filtered_df[\"mVenus Fano Factor\"])"
   ]
  },
  {
   "cell_type": "code",
   "execution_count": null,
   "metadata": {},
   "outputs": [],
   "source": [
    "from sklearn.linear_model import LinearRegression"
   ]
  },
  {
   "cell_type": "code",
   "execution_count": null,
   "metadata": {},
   "outputs": [],
   "source": [
    "reg = LinearRegression().fit(\n",
    "    filtered_df[\"Log mVenus Mean Intensity\"].values.reshape(-1, 1),\n",
    "    filtered_df[\"Log mVenus Fano Factor\"].values,\n",
    ")"
   ]
  },
  {
   "cell_type": "code",
   "execution_count": null,
   "metadata": {},
   "outputs": [],
   "source": [
    "reg.score(\n",
    "    filtered_df[\"Log mVenus Mean Intensity\"].values.reshape(-1, 1),\n",
    "    filtered_df[\"Log mVenus Fano Factor\"].values,\n",
    ")"
   ]
  },
  {
   "cell_type": "code",
   "execution_count": null,
   "metadata": {},
   "outputs": [],
   "source": [
    "corrected_fano = filtered_df[\"Log mVenus Fano Factor\"].values - (\n",
    "    reg.coef_[0] * filtered_df[\"Log mVenus Mean Intensity\"].values + reg.intercept_\n",
    ")\n",
    "perc = np.percentile(corrected_fano, 99)\n",
    "high_fano_df = filtered_df[corrected_fano > perc]\n",
    "high_fano_complement_df = filtered_df[corrected_fano <= perc]"
   ]
  },
  {
   "cell_type": "code",
   "execution_count": null,
   "metadata": {},
   "outputs": [],
   "source": [
    "plt.hist(corrected_fano)"
   ]
  },
  {
   "cell_type": "code",
   "execution_count": null,
   "metadata": {},
   "outputs": [],
   "source": [
    "perc"
   ]
  },
  {
   "cell_type": "code",
   "execution_count": null,
   "metadata": {},
   "outputs": [],
   "source": [
    "len(high_fano_df)"
   ]
  },
  {
   "cell_type": "code",
   "execution_count": null,
   "metadata": {},
   "outputs": [],
   "source": [
    "high_fano_df.to_csv(\"./high_fano_df.tsv\", sep=\"\\t\")\n",
    "high_fano_complement_df.to_csv(\"./high_fano_complement_df.tsv\", sep=\"\\t\")"
   ]
  },
  {
   "cell_type": "code",
   "execution_count": null,
   "metadata": {
    "tags": []
   },
   "outputs": [],
   "source": [
    "import pandas as pd"
   ]
  },
  {
   "cell_type": "code",
   "execution_count": null,
   "metadata": {},
   "outputs": [],
   "source": [
    "high_fano_df = pd.read_csv(\"./high_fano_df.tsv\", sep=\"\\t\")\n",
    "high_fano_complement_df = pd.read_csv(\"./high_fano_complement_df.tsv\", sep=\"\\t\")"
   ]
  },
  {
   "cell_type": "code",
   "execution_count": null,
   "metadata": {},
   "outputs": [],
   "source": [
    "from Bio.Seq import Seq\n",
    "from Bio import motifs"
   ]
  },
  {
   "cell_type": "code",
   "execution_count": null,
   "metadata": {},
   "outputs": [],
   "source": [
    "high_fano_seqlist = [\n",
    "    Seq(item) for item in high_fano_df[\"Promoter\"].tolist() if \"-\" not in item\n",
    "]\n",
    "high_fano_complement_seqlist = [\n",
    "    Seq(item)\n",
    "    for item in high_fano_complement_df[\"Promoter\"].tolist()\n",
    "    if \"-\" not in item\n",
    "]"
   ]
  },
  {
   "cell_type": "code",
   "execution_count": null,
   "metadata": {},
   "outputs": [],
   "source": [
    "high_fano_df"
   ]
  },
  {
   "cell_type": "code",
   "execution_count": null,
   "metadata": {},
   "outputs": [],
   "source": [
    "high_fano_seqlist"
   ]
  },
  {
   "cell_type": "code",
   "execution_count": null,
   "metadata": {},
   "outputs": [],
   "source": [
    "high_fano_motif = motifs.create(high_fano_seqlist)\n",
    "high_fano_comp_motif = motifs.create(high_fano_complement_seqlist)"
   ]
  },
  {
   "cell_type": "code",
   "execution_count": null,
   "metadata": {},
   "outputs": [],
   "source": [
    "high_fano_motif.degenerate_consensus"
   ]
  },
  {
   "cell_type": "code",
   "execution_count": null,
   "metadata": {},
   "outputs": [],
   "source": [
    "high_fano_freqs[:, -12]"
   ]
  },
  {
   "cell_type": "code",
   "execution_count": null,
   "metadata": {},
   "outputs": [],
   "source": [
    "10000 * 0.12"
   ]
  },
  {
   "cell_type": "code",
   "execution_count": null,
   "metadata": {},
   "outputs": [],
   "source": [
    "high_fano_motif.weblogo(\"mymotif.png\")"
   ]
  },
  {
   "cell_type": "code",
   "execution_count": null,
   "metadata": {},
   "outputs": [],
   "source": [
    "high_fano_comp_motif.degenerate_consensus"
   ]
  },
  {
   "cell_type": "code",
   "execution_count": null,
   "metadata": {},
   "outputs": [],
   "source": [
    "high_fano_comp_motif.weblogo(\"mymotif_comp.png\")"
   ]
  },
  {
   "cell_type": "code",
   "execution_count": null,
   "metadata": {},
   "outputs": [],
   "source": [
    "import numpy as np\n",
    "\n",
    "from matplotlib import pyplot as plt\n",
    "\n",
    "high_fano_freqs = np.array(\n",
    "    [val for key, val in high_fano_motif.counts.normalize(pseudocounts=0.5).items()]\n",
    ")\n",
    "high_fano_comp_freqs = np.array(\n",
    "    [\n",
    "        val\n",
    "        for key, val in high_fano_comp_motif.counts.normalize(pseudocounts=0.5).items()\n",
    "    ]\n",
    ")"
   ]
  },
  {
   "cell_type": "code",
   "execution_count": null,
   "metadata": {},
   "outputs": [],
   "source": [
    "plt.hist(abs(high_fano_freqs - high_fano_comp_freqs).flatten())"
   ]
  },
  {
   "cell_type": "code",
   "execution_count": null,
   "metadata": {},
   "outputs": [],
   "source": [
    "plt.imshow(abs(high_fano_freqs - high_fano_comp_freqs))"
   ]
  },
  {
   "cell_type": "code",
   "execution_count": null,
   "metadata": {},
   "outputs": [],
   "source": []
  },
  {
   "cell_type": "code",
   "execution_count": null,
   "metadata": {
    "tags": []
   },
   "outputs": [],
   "source": [
    "high_fano_df[\"Promoter\"].tolist()"
   ]
  },
  {
   "cell_type": "code",
   "execution_count": null,
   "metadata": {},
   "outputs": [],
   "source": [
    "X = np.array([[1, 1], [1, 2], [2, 2], [2, 3]])"
   ]
  },
  {
   "cell_type": "code",
   "execution_count": null,
   "metadata": {},
   "outputs": [],
   "source": [
    "sns.lmplot(x=\"Log mVenus Mean Intensity\", y=\"Log mVenus Fano Factor\", data=filtered_df)"
   ]
  },
  {
   "cell_type": "code",
   "execution_count": null,
   "metadata": {},
   "outputs": [],
   "source": []
  },
  {
   "cell_type": "code",
   "execution_count": null,
   "metadata": {},
   "outputs": [],
   "source": []
  },
  {
   "cell_type": "code",
   "execution_count": null,
   "metadata": {},
   "outputs": [],
   "source": [
    "plt.scatter(\n",
    "    filtered_df[\"mVenus Mean Intensity\"], filtered_df[\"mVenus Fano Factor\"], alpha=0.5\n",
    ")\n",
    "plt.semilogx()\n",
    "plt.ylim(0, 1000)\n",
    "plt.show()"
   ]
  },
  {
   "cell_type": "code",
   "execution_count": null,
   "metadata": {},
   "outputs": [],
   "source": []
  },
  {
   "cell_type": "code",
   "execution_count": null,
   "metadata": {},
   "outputs": [],
   "source": []
  },
  {
   "cell_type": "code",
   "execution_count": null,
   "metadata": {},
   "outputs": [],
   "source": [
    "plt.hist(filtered_df[\"mVenus Fano Factor\"], range=(10, 1000), bins=30)\n",
    "plt.show()\n",
    "plt.hist(filtered_df[\"mVenus CV\"], range=(0.001, 10), bins=30)\n",
    "plt.show()"
   ]
  },
  {
   "cell_type": "code",
   "execution_count": null,
   "metadata": {},
   "outputs": [],
   "source": [
    "filtered_df"
   ]
  },
  {
   "cell_type": "markdown",
   "metadata": {},
   "source": [
    "##### Problem\n",
    "\n",
    "Some of the barcodes have insane fano factors. Inspection indicates misassignment of off cells to bright trajectories. Try to id where this is coming from and fix. May be able to compute within-trench statistics and use median for the barcode."
   ]
  },
  {
   "cell_type": "code",
   "execution_count": null,
   "metadata": {},
   "outputs": [],
   "source": []
  }
 ],
 "metadata": {
  "kernelspec": {
   "display_name": "Python 3",
   "language": "python",
   "name": "python3"
  },
  "language_info": {
   "codemirror_mode": {
    "name": "ipython",
    "version": 3
   },
   "file_extension": ".py",
   "mimetype": "text/x-python",
   "name": "python",
   "nbconvert_exporter": "python",
   "pygments_lexer": "ipython3",
   "version": "3.8.5"
  },
  "toc-autonumbering": false,
  "toc-showcode": false,
  "toc-showmarkdowntxt": false,
  "toc-showtags": false
 },
 "nbformat": 4,
 "nbformat_minor": 4
}
