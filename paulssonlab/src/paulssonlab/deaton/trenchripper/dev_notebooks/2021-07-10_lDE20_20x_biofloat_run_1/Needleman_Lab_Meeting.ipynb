{
 "cells": [
  {
   "cell_type": "markdown",
   "id": "318046d6-9081-49d0-90d8-467ee47b9d15",
   "metadata": {},
   "source": [
    "## Imports"
   ]
  },
  {
   "cell_type": "code",
   "execution_count": null,
   "id": "e90aaffe-911f-4023-9d6c-58b29e6e17ea",
   "metadata": {},
   "outputs": [],
   "source": [
    "import paulssonlab.deaton.trenchripper.trenchripper as tr\n",
    "import dask.dataframe as dd\n",
    "import pandas as pd\n",
    "import numpy as np\n",
    "import ast\n",
    "import scipy as sp\n",
    "\n",
    "import holoviews as hv\n",
    "\n",
    "hv.extension(\"bokeh\")"
   ]
  },
  {
   "cell_type": "markdown",
   "id": "de566fd9-d500-4582-b559-a35047a957ee",
   "metadata": {},
   "source": [
    "## Load Image Data and Dataframes"
   ]
  },
  {
   "cell_type": "code",
   "execution_count": null,
   "id": "93b6c9cc-5abc-4d03-a7c9-9d696fba25f2",
   "metadata": {},
   "outputs": [],
   "source": [
    "kymo_xarr = tr.kymo_xarr(\n",
    "    \"/home/de64/scratch/de64/sync_folder/2021-06-14_lDE20_biofloat_fullrun_1/Growth_Division\"\n",
    ")\n",
    "\n",
    "column_subset = [\n",
    "    \"Gene\",\n",
    "    \"Target Sites\",\n",
    "    \"N Target Sites\",\n",
    "    \"N Mismatch\",\n",
    "    \"Category\",\n",
    "    \"TargetID\",\n",
    "    \"phenotype trenchid\",\n",
    "    \"Distance to Centroid\",\n",
    "    \"Distance to Stable Intensity Centroid\",\n",
    "]\n",
    "# normal_df = pd.read_pickle(\"./normal_subsample_cell_cluster_df.pkl\")\n",
    "long_df = pd.read_pickle(\"./long_cell_cluster_df.pkl\")[column_subset]\n",
    "very_long_df = pd.read_pickle(\"./very_long_cell_cluster_df.pkl\")[column_subset]\n",
    "small_df = pd.read_pickle(\"./short_cell_cluster_df.pkl\")[column_subset]"
   ]
  },
  {
   "cell_type": "markdown",
   "id": "cf2f1ef2-fad2-4982-8da2-9716da1ea423",
   "metadata": {},
   "source": [
    "## Set Working Dataframe"
   ]
  },
  {
   "cell_type": "code",
   "execution_count": null,
   "id": "feeb5c78-acf2-4d82-8000-7481d4b661f0",
   "metadata": {},
   "outputs": [],
   "source": [
    "working_df = small_df"
   ]
  },
  {
   "cell_type": "markdown",
   "id": "584ae0a1-df89-4507-91f2-21de72e536b3",
   "metadata": {},
   "source": [
    "## Centroid Distance Histogram"
   ]
  },
  {
   "cell_type": "code",
   "execution_count": null,
   "id": "e700e816-3020-403f-a459-4196d0b18bba",
   "metadata": {},
   "outputs": [],
   "source": [
    "hist, trenchid_table, edges, select_histcolumn, select_trenchid = tr.linked_histogram(\n",
    "    working_df,\n",
    "    \"Distance to Centroid\",\n",
    "    trenchids_as_list=False,\n",
    "    maxperc=99,\n",
    "    trenchid_column=\"phenotype trenchid\",\n",
    "    height=600,\n",
    ")"
   ]
  },
  {
   "cell_type": "code",
   "execution_count": null,
   "id": "6d21296c-4f1c-47fe-af7e-e1caccdaaeca",
   "metadata": {},
   "outputs": [],
   "source": [
    "hist.opts(xlabel=\"Distance to Centroid\", fontscale=3)"
   ]
  },
  {
   "cell_type": "code",
   "execution_count": null,
   "id": "6cff5db3-189c-41bd-94b5-66ebfcd59399",
   "metadata": {
    "tags": []
   },
   "outputs": [],
   "source": [
    "trenchid_table.opts(width=1200)"
   ]
  },
  {
   "cell_type": "code",
   "execution_count": null,
   "id": "587fadee-baae-47ec-b1fb-13a62179b8e3",
   "metadata": {},
   "outputs": [],
   "source": [
    "hist_kymograph_display = tr.linked_kymograph_for_hist(\n",
    "    kymo_xarr,\n",
    "    working_df,\n",
    "    \"Distance to Centroid\",\n",
    "    edges,\n",
    "    select_histcolumn,\n",
    "    select_trenchid,\n",
    "    trenchid_column=\"phenotype trenchid\",\n",
    "    y_scale=3,\n",
    ")"
   ]
  },
  {
   "cell_type": "code",
   "execution_count": null,
   "id": "502eeb35-a543-46bc-81c6-4808ae0087c8",
   "metadata": {
    "tags": []
   },
   "outputs": [],
   "source": [
    "hist_kymograph_display"
   ]
  },
  {
   "cell_type": "code",
   "execution_count": null,
   "id": "812b274a-34a2-48da-9507-ee70c96e4586",
   "metadata": {},
   "outputs": [],
   "source": [
    "hist, trenchid_table, edges, select_histcolumn, select_trenchid = tr.linked_histogram(\n",
    "    working_df,\n",
    "    \"Distance to Centroid\",\n",
    "    trenchids_as_list=False,\n",
    "    maxperc=99,\n",
    "    trenchid_column=\"phenotype trenchid\",\n",
    "    height=600,\n",
    ")"
   ]
  },
  {
   "cell_type": "code",
   "execution_count": null,
   "id": "9554c848-b40d-4d17-9428-7d9aa26d0a3c",
   "metadata": {},
   "outputs": [],
   "source": [
    "scatter, trenchid_table, select_scatter, select_trenchid = tr.linked_scatter(\n",
    "    working_df,\n",
    "    \"Distance to Centroid\",\n",
    "    \"Distance to Stable Intensity Centroid\",\n",
    "    maxperc=99,\n",
    "    trenchid_column=\"phenotype trenchid\",\n",
    "    height=600,\n",
    ")"
   ]
  },
  {
   "cell_type": "code",
   "execution_count": null,
   "id": "ca9aa832-e15e-4029-815d-d939b6e98356",
   "metadata": {},
   "outputs": [],
   "source": [
    "fts_subset = working_df[working_df[\"Gene\"].apply(lambda x: \"fts\" in str(x))]\n",
    "fts_scatter = hv.Scatter(\n",
    "    data=fts_subset,\n",
    "    vdims=[\"Distance to Stable Intensity Centroid\"],\n",
    "    kdims=[\"Distance to Centroid\"],\n",
    ")\n",
    "\n",
    "rpl_subset = working_df[working_df[\"Gene\"].apply(lambda x: \"rpl\" in str(x))]\n",
    "rpl_scatter = hv.Scatter(\n",
    "    data=rpl_subset,\n",
    "    vdims=[\"Distance to Stable Intensity Centroid\"],\n",
    "    kdims=[\"Distance to Centroid\"],\n",
    ")"
   ]
  },
  {
   "cell_type": "code",
   "execution_count": null,
   "id": "9a470182-6b6b-487f-89da-89af081917b7",
   "metadata": {},
   "outputs": [],
   "source": [
    "scatter * fts_scatter.opts(color=\"red\") * rpl_scatter.opts(color=\"purple\")"
   ]
  },
  {
   "cell_type": "code",
   "execution_count": null,
   "id": "d8d630d2-cd4b-4b4a-b62d-35f4c9610b8b",
   "metadata": {},
   "outputs": [],
   "source": [
    "trenchid_table.opts(width=1200)"
   ]
  },
  {
   "cell_type": "code",
   "execution_count": null,
   "id": "de712dcf-7a02-4475-a684-5084114a1ec7",
   "metadata": {},
   "outputs": [],
   "source": [
    "scatter_kymograph_display = tr.linked_kymograph_for_scatter(\n",
    "    kymo_xarr,\n",
    "    working_df,\n",
    "    \"Distance to Centroid\",\n",
    "    \"Distance to Stable Intensity Centroid\",\n",
    "    select_scatter,\n",
    "    select_trenchid,\n",
    "    trenchid_column=\"phenotype trenchid\",\n",
    "    y_scale=3,\n",
    "    x_window_size=300,\n",
    ")"
   ]
  },
  {
   "cell_type": "code",
   "execution_count": null,
   "id": "c92d1cc4-02d9-46ff-b28f-08688ca5d7ae",
   "metadata": {},
   "outputs": [],
   "source": [
    "scatter_kymograph_display"
   ]
  },
  {
   "cell_type": "code",
   "execution_count": null,
   "id": "7b0db0f3-5ec0-48f9-ad05-acd09cdb51e1",
   "metadata": {},
   "outputs": [],
   "source": []
  }
 ],
 "metadata": {
  "kernelspec": {
   "display_name": "Python 3",
   "language": "python",
   "name": "python3"
  },
  "language_info": {
   "codemirror_mode": {
    "name": "ipython",
    "version": 3
   },
   "file_extension": ".py",
   "mimetype": "text/x-python",
   "name": "python",
   "nbconvert_exporter": "python",
   "pygments_lexer": "ipython3",
   "version": "3.8.5"
  }
 },
 "nbformat": 4,
 "nbformat_minor": 5
}
