{
 "cells": [
  {
   "cell_type": "code",
   "execution_count": null,
   "id": "62a7e9ec-357c-4c02-aaa7-d05414b36da3",
   "metadata": {},
   "outputs": [],
   "source": [
    "import copy\n",
    "\n",
    "import colicoords as cc\n",
    "import h5py\n",
    "import numpy as np\n",
    "import scipy as sp\n",
    "import skimage as sk\n",
    "import skimage.measure\n",
    "import skimage.morphology\n",
    "\n",
    "cc.config.cfg.IMG_PIXELSIZE = 212\n",
    "\n",
    "from matplotlib import pyplot as plt"
   ]
  },
  {
   "cell_type": "code",
   "execution_count": null,
   "id": "331b83d5-58c8-405e-9ad9-a163d4a6fb29",
   "metadata": {},
   "outputs": [],
   "source": [
    "with h5py.File(\n",
    "    \"/home/de64/scratch/de64/sync_folder/2021-06-14_lDE20_biofloat_fullrun_1/Growth_Division/fluorsegmentation/segmentation_1000.hdf5\",\n",
    "    \"r\",\n",
    ") as infile:\n",
    "    img = infile[\"data\"][:]\n",
    "with h5py.File(\n",
    "    \"/home/de64/scratch/de64/sync_folder/2021-06-14_lDE20_biofloat_fullrun_1/Growth_Division/kymograph/kymograph_1000.hdf5\",\n",
    "    \"r\",\n",
    ") as infile:\n",
    "    fluo_img = infile[\"mCherry\"][:]"
   ]
  },
  {
   "cell_type": "code",
   "execution_count": null,
   "id": "8425575d-2761-4b7c-8129-38055335dfc5",
   "metadata": {},
   "outputs": [],
   "source": [
    "example_mask = img[0, 0] == 5\n",
    "example_label = img[5, 110]\n",
    "example_kymo = img[0]\n",
    "example_fluor = fluo_img[0]\n",
    "plt.imshow(example_label)"
   ]
  },
  {
   "cell_type": "code",
   "execution_count": null,
   "id": "7bff26ab-2ae4-4728-abd8-dc1368074d69",
   "metadata": {},
   "outputs": [],
   "source": [
    "plt.imshow(example_label)"
   ]
  },
  {
   "cell_type": "code",
   "execution_count": null,
   "id": "28d5df89-8306-42d6-8a90-0890ed0a4ee8",
   "metadata": {},
   "outputs": [],
   "source": [
    "np.max(example_label)"
   ]
  },
  {
   "cell_type": "code",
   "execution_count": null,
   "id": "e256d88b-33b2-4edb-983b-fa3ee2cafef1",
   "metadata": {},
   "outputs": [],
   "source": [
    "coords = sk.measure.find_contours(example_label, level=0)[0]"
   ]
  },
  {
   "cell_type": "code",
   "execution_count": null,
   "id": "2e43919b-9daf-4b9b-87e5-812caa24a575",
   "metadata": {
    "tags": []
   },
   "outputs": [],
   "source": [
    "coords"
   ]
  },
  {
   "cell_type": "code",
   "execution_count": null,
   "id": "82c97734-2d2c-4cde-86f8-f63267e296eb",
   "metadata": {
    "tags": []
   },
   "outputs": [],
   "source": [
    "test_rp = sk.measure.regionprops(example_mask.astype(int))"
   ]
  },
  {
   "cell_type": "code",
   "execution_count": null,
   "id": "7a7cad47-3b09-4fb8-b8b3-75442eb0cd1e",
   "metadata": {},
   "outputs": [],
   "source": [
    "rps = sk.measure.regionprops(example_label)"
   ]
  },
  {
   "cell_type": "code",
   "execution_count": null,
   "id": "b8ea87b9-3ac2-4650-8db4-ac8c026164ad",
   "metadata": {},
   "outputs": [],
   "source": [
    "def get_rot_mat(theta):\n",
    "    R = np.array([[np.cos(theta), -np.sin(theta)], [np.sin(theta), np.cos(theta)]])\n",
    "    return R\n",
    "\n",
    "\n",
    "def center_and_rotate(label_arr):\n",
    "    rps = sk.measure.regionprops(label_arr)\n",
    "    coord_list = []\n",
    "\n",
    "    for i, rp in enumerate(rps):\n",
    "        R = get_rot_mat(rp.orientation)\n",
    "        centroid = np.array(list(rp.centroid))\n",
    "        img = label_arr == (i + 1)\n",
    "        coords = sk.measure.find_contours(img, level=0)[0]\n",
    "        centered_coords = coords - centroid\n",
    "        rotated_coords = (R @ centered_coords.T).T\n",
    "        reflected_coords = copy.copy(rotated_coords)\n",
    "        reflected_coords[:, 1] = -reflected_coords[:, 1]\n",
    "        all_coords = np.concatenate([rotated_coords, reflected_coords], axis=0)\n",
    "        half_coords = all_coords[all_coords[:, 1] > 0.0]\n",
    "        half_coords = half_coords[np.argsort(half_coords[:, 0])]\n",
    "        coord_list.append(half_coords)\n",
    "\n",
    "    return coord_list\n",
    "\n",
    "\n",
    "def get_cell_dimensions(coord_list, min_dist_integral_start=0.3):\n",
    "    cell_dimensions = []\n",
    "\n",
    "    for coords in coord_list:\n",
    "        cell_dimension_dict = {}\n",
    "\n",
    "        y_coords = coords[:, 0]\n",
    "        x_coords = coords[:, 1]\n",
    "\n",
    "        no_cap_mask = x_coords > min_dist_integral_start\n",
    "        filtered_y_coords = y_coords[no_cap_mask]\n",
    "        filtered_x_coords = x_coords[no_cap_mask]\n",
    "\n",
    "        spline_fit = sp.interpolate.UnivariateSpline(y_coords, x_coords, k=4)\n",
    "        a, b = np.min(filtered_y_coords), np.max(filtered_y_coords)\n",
    "        x = np.linspace(a, b, num=int((b - a)))\n",
    "        f_x = spline_fit(x)\n",
    "\n",
    "        vol = np.pi * sp.integrate.simpson(f_x**2, x)\n",
    "        SA = 2 * np.pi * spline_fit.integral(a, b)\n",
    "        width = 2 * np.max(f_x)\n",
    "        height = np.max(y_coords) - np.min(y_coords)\n",
    "\n",
    "        cell_dimension_dict = {\n",
    "            \"Volume\": vol,\n",
    "            \"Surface Area\": SA,\n",
    "            \"Width\": width,\n",
    "            \"Height\": height,\n",
    "        }\n",
    "\n",
    "        cell_dimensions.append(cell_dimension_dict)\n",
    "\n",
    "    return cell_dimensions"
   ]
  },
  {
   "cell_type": "code",
   "execution_count": null,
   "id": "59f38a0b-d91a-4909-8366-d0bb6af11d1c",
   "metadata": {},
   "outputs": [],
   "source": [
    "coord_list = center_and_rotate(example_label)\n",
    "get_cell_dimensions(coord_list)"
   ]
  },
  {
   "cell_type": "code",
   "execution_count": null,
   "id": "1aee3630-6521-464e-afee-97aa7e2f673b",
   "metadata": {},
   "outputs": [],
   "source": [
    "plt.imshow(example_label)"
   ]
  },
  {
   "cell_type": "code",
   "execution_count": null,
   "id": "0b5dbc67-a100-4552-b472-d05f6ec53440",
   "metadata": {},
   "outputs": [],
   "source": [
    "example_label"
   ]
  },
  {
   "cell_type": "code",
   "execution_count": null,
   "id": "8100fb3a-93d1-4ad7-b0b2-fda4a920fd84",
   "metadata": {
    "tags": []
   },
   "outputs": [],
   "source": [
    "idx = 5\n",
    "min_dist_integral_start = 0.3\n",
    "y_coords = coord_list[idx][:, 0]\n",
    "x_coords = coord_list[idx][:, 1]\n",
    "\n",
    "no_cap_mask = x_coords > min_dist_integral_start\n",
    "filtered_y_coords = y_coords[no_cap_mask]\n",
    "filtered_x_coords = x_coords[no_cap_mask]\n",
    "\n",
    "spline_fit = sp.interpolate.UnivariateSpline(y_coords, x_coords, k=4)\n",
    "a, b = np.min(filtered_y_coords), np.max(filtered_y_coords)\n",
    "x = np.linspace(a, b, num=int((b - a)))\n",
    "f_x = spline_fit(x)\n",
    "\n",
    "vol = np.pi * sp.integrate.simpson(f_x**2, x)\n",
    "SA = 2 * np.pi * spline_fit.integral(a, b)\n",
    "width = 2 * np.max(f_x)\n",
    "height = np.max(y_coords) - np.min(y_coords)\n",
    "\n",
    "print(width)\n",
    "print(height)\n",
    "print((SA * (0.2125**2)) / (vol * (0.2125**3)))\n",
    "plt.figure(figsize=(6, 2))\n",
    "plt.scatter(y_coords, x_coords)\n",
    "plt.ylim(0, 4)\n",
    "plt.plot(x, spline_fit(x), \"g\", lw=3)"
   ]
  },
  {
   "cell_type": "code",
   "execution_count": null,
   "id": "4f011568-c646-45a3-b478-495cab44c120",
   "metadata": {},
   "outputs": [],
   "source": [
    "print((SA * (0.2125**2)) / (vol * (0.2125**3)))\n",
    "plt.figure(figsize=(4, 1))\n",
    "plt.scatter(y_coords, x_coords)\n",
    "plt.ylim(0, 4)\n",
    "plt.plot(x, test(x), \"g\", lw=3)"
   ]
  },
  {
   "cell_type": "code",
   "execution_count": null,
   "id": "f48310e8-a830-457e-9784-d45e48abc455",
   "metadata": {},
   "outputs": [],
   "source": [
    "SA"
   ]
  },
  {
   "cell_type": "code",
   "execution_count": null,
   "id": "95eed746-9de1-4d62-a6b6-e8b54c9b4179",
   "metadata": {},
   "outputs": [],
   "source": [
    "vol"
   ]
  },
  {
   "cell_type": "code",
   "execution_count": null,
   "id": "013333ad-cb3f-4a85-9604-b1ceba002b2f",
   "metadata": {},
   "outputs": [],
   "source": [
    "plt.figure(figsize=(4, 1))\n",
    "plt.scatter(y_coords, x_coords)\n",
    "plt.ylim(0, 4)\n",
    "plt.plot(x, test(x), \"g\", lw=3)"
   ]
  },
  {
   "cell_type": "code",
   "execution_count": null,
   "id": "2612bd42-e95e-4726-905b-7e08da4a75d4",
   "metadata": {},
   "outputs": [],
   "source": [
    "sp.signal.qspline1d(signal, lamb=0.0)"
   ]
  },
  {
   "cell_type": "code",
   "execution_count": null,
   "id": "636cf79a-f42c-4f6f-893e-ba7c79e0a8b5",
   "metadata": {},
   "outputs": [],
   "source": [
    "xs = np.linspace(-12, 12, 1000)\n",
    "plt.plot(xs, test(xs), \"g\", lw=3)"
   ]
  },
  {
   "cell_type": "code",
   "execution_count": null,
   "id": "5564d138-d133-4247-a187-646db61e0908",
   "metadata": {},
   "outputs": [],
   "source": [
    "filtered_y = sp.signal.medfilt(coord_list[0][:, 0], kernel_size=(5,))\n",
    "filtered_x = sp.signal.medfilt(coord_list[0][:, 1], kernel_size=(5,))"
   ]
  },
  {
   "cell_type": "code",
   "execution_count": null,
   "id": "82b2e98e-1f09-4552-bbb5-aa962d7cc236",
   "metadata": {},
   "outputs": [],
   "source": [
    "plt.figure(figsize=(5, 1))\n",
    "plt.plot(filtered_y, filtered_x)\n",
    "plt.ylim(0, 4)"
   ]
  },
  {
   "cell_type": "code",
   "execution_count": null,
   "id": "3838b9d9-e270-4704-9b40-d094eb1c9dde",
   "metadata": {
    "tags": []
   },
   "outputs": [],
   "source": [
    "plt.figure(figsize=(20, 20))\n",
    "plt.scatter(coord_list[0][:, 1], coord_list[0][:, 0])\n",
    "plt.show()"
   ]
  },
  {
   "cell_type": "code",
   "execution_count": null,
   "id": "145e9015-f3cf-470d-b5c2-0831b42f719d",
   "metadata": {},
   "outputs": [],
   "source": [
    "plt.figure(figsize=(20, 20))\n",
    "plt.imshow(example_mask)\n",
    "plt.plot(coords[:, 1], coords[:, 0], \"-r\", linewidth=2)\n",
    "plt.show()"
   ]
  },
  {
   "cell_type": "code",
   "execution_count": null,
   "id": "a6ee2e3b-2977-4a66-8ed0-716bae96cb0d",
   "metadata": {},
   "outputs": [],
   "source": [
    "example_kymo.shape"
   ]
  },
  {
   "cell_type": "code",
   "execution_count": null,
   "id": "94513cac-a4a8-4bd3-8b1c-27df5cbee597",
   "metadata": {
    "tags": []
   },
   "outputs": [],
   "source": [
    "plt.imshow(example_kymo[80], cmap=\"gray_r\")"
   ]
  },
  {
   "cell_type": "code",
   "execution_count": null,
   "id": "341dbd1a-7e53-4446-a603-6661770ce9df",
   "metadata": {},
   "outputs": [],
   "source": [
    "def get_cell_from_mask(mask):\n",
    "    data = cc.Data()\n",
    "    data.add_data(example_mask.astype(int), \"binary\")\n",
    "    orient = data.binary_img.orientation\n",
    "    data = data.rotate(orient)\n",
    "\n",
    "    cell = cc.Cell(\n",
    "        data,\n",
    "    )\n",
    "    cell.optimize()\n",
    "    return cell"
   ]
  },
  {
   "cell_type": "code",
   "execution_count": null,
   "id": "152125e2-000a-4dd8-8dec-e31878d11f72",
   "metadata": {},
   "outputs": [],
   "source": [
    "data = cc.Data()\n",
    "data.add_data(example_mask.astype(int), \"binary\")\n",
    "orient = data.binary_img.orientation\n",
    "oriented_data = data.rotate(orient)"
   ]
  },
  {
   "cell_type": "code",
   "execution_count": null,
   "id": "2847f43e-35ee-43a5-81ed-15952feb7f48",
   "metadata": {},
   "outputs": [],
   "source": [
    "plt.imshow(oriented_data.binary_img)"
   ]
  },
  {
   "cell_type": "code",
   "execution_count": null,
   "id": "325cf084-0cfb-4b43-b3e9-7ab330bbd798",
   "metadata": {},
   "outputs": [],
   "source": [
    "cell = cc.Cell(\n",
    "    oriented_data,\n",
    ")\n",
    "cell.optimize()\n",
    "cp = cc.CellPlot(cell)"
   ]
  },
  {
   "cell_type": "code",
   "execution_count": null,
   "id": "92d84f66-0c43-4625-8e0f-bccd31929901",
   "metadata": {},
   "outputs": [],
   "source": [
    "fig, axes = plt.subplots(1, 1, figsize=(6, 2))\n",
    "cp.imshow(\"binary\", ax=axes)\n",
    "cp.plot_outline(ax=axes)\n",
    "cp.plot_midline(ax=axes)"
   ]
  },
  {
   "cell_type": "markdown",
   "id": "5173c808-b23f-4048-8ede-b556ff2563e0",
   "metadata": {},
   "source": [
    "### implement batch processing of cells"
   ]
  },
  {
   "cell_type": "code",
   "execution_count": null,
   "id": "c7180388-cdd0-4f10-9192-164b6fddfc48",
   "metadata": {},
   "outputs": [],
   "source": [
    "plt.imshow(example_fluor[0])"
   ]
  },
  {
   "cell_type": "code",
   "execution_count": null,
   "id": "dc3abacc-b688-4f0e-b56e-0170ffcb3c49",
   "metadata": {},
   "outputs": [],
   "source": [
    "test_rps = sk.measure.regionprops(example_kymo[0], intensity_image=example_fluor[0])"
   ]
  },
  {
   "cell_type": "code",
   "execution_count": null,
   "id": "feed7b3d-9c44-48ab-8c96-1e714a5de345",
   "metadata": {},
   "outputs": [],
   "source": [
    "plt.imshow(test_rps[0].intensity_image)"
   ]
  },
  {
   "cell_type": "code",
   "execution_count": null,
   "id": "a142616f-875e-41c8-b91f-69d815fd3a1d",
   "metadata": {},
   "outputs": [],
   "source": [
    "test_rps[0].intensity_image.shape"
   ]
  },
  {
   "cell_type": "code",
   "execution_count": null,
   "id": "129b562e-0ad0-4b39-9366-a1f0bbfe117f",
   "metadata": {},
   "outputs": [],
   "source": [
    "rps = sk.measure.regionprops(example_kymo[0])"
   ]
  },
  {
   "cell_type": "code",
   "execution_count": null,
   "id": "4e891c02-639a-415a-9944-23e4c794d821",
   "metadata": {},
   "outputs": [],
   "source": [
    "def get_isolated_cells(img, padding=4):\n",
    "    rps = sk.measure.regionprops(img)\n",
    "    mask_stack = [rp.image for rp in rps]\n",
    "    mask_stack = [\n",
    "        np.pad(mask, pad_width=padding, mode=\"constant\", constant_values=False)\n",
    "        for mask in mask_stack\n",
    "    ]\n",
    "    return mask_stack\n",
    "\n",
    "\n",
    "def get_cell_from_mask(mask):\n",
    "    data = cc.Data()\n",
    "    data.add_data(mask.astype(int), \"binary\")\n",
    "    orient = data.binary_img.orientation\n",
    "    data = data.rotate(orient)\n",
    "\n",
    "    cell = cc.Cell(\n",
    "        data,\n",
    "    )\n",
    "    cell.optimize()\n",
    "    return cell\n",
    "\n",
    "\n",
    "def get_cells_from_mask_stack(mask_stack):\n",
    "    cell_stack = [get_cell_from_mask(mask) for mask in mask_stack]\n",
    "    return cell_stack"
   ]
  },
  {
   "cell_type": "code",
   "execution_count": null,
   "id": "c93e8b6f-9452-480e-a437-d575a2d5bbe8",
   "metadata": {},
   "outputs": [],
   "source": [
    "mask_stack = get_isolated_cells(example_kymo[0])"
   ]
  },
  {
   "cell_type": "code",
   "execution_count": null,
   "id": "1c27d448-db03-4b64-a842-c7ab6c07bdf2",
   "metadata": {},
   "outputs": [],
   "source": [
    "mask_stack[0].shape"
   ]
  },
  {
   "cell_type": "code",
   "execution_count": null,
   "id": "2a5e0353-1446-48b9-ad96-3d1bc6b98485",
   "metadata": {
    "tags": []
   },
   "outputs": [],
   "source": [
    "plt.imshow(mask_stack[0])"
   ]
  },
  {
   "cell_type": "code",
   "execution_count": null,
   "id": "722a4056-7e60-4366-aa26-33b1df866369",
   "metadata": {},
   "outputs": [],
   "source": [
    "cell_stack = get_cells_from_mask_stack(mask_stack)"
   ]
  },
  {
   "cell_type": "code",
   "execution_count": null,
   "id": "fbdbd255-3fd0-4019-9f42-07a5a1607dd6",
   "metadata": {},
   "outputs": [],
   "source": [
    "cell_stack[1].length"
   ]
  },
  {
   "cell_type": "code",
   "execution_count": null,
   "id": "2e59e9bf-4e37-49e1-91d2-b0e9de5bc9f8",
   "metadata": {},
   "outputs": [],
   "source": [
    "import paulssonlab.deaton.trenchripper.trenchripper as tr"
   ]
  },
  {
   "cell_type": "code",
   "execution_count": null,
   "id": "ad2dd63f-1b2a-4dea-99c5-d62bbda381af",
   "metadata": {},
   "outputs": [],
   "source": [
    "handle = tr.pandas_hdf5_handler(\n",
    "    \"/home/de64/scratch/de64/sync_folder/2021-06-14_lDE20_biofloat_fullrun_1/Growth_Division/metadata.hdf5\"\n",
    ")"
   ]
  },
  {
   "cell_type": "code",
   "execution_count": null,
   "id": "34cc1471-a894-408e-9843-368f6926b703",
   "metadata": {},
   "outputs": [],
   "source": [
    "data = cc.Data()\n",
    "data.add_data(example_kymo, \"binary\")"
   ]
  },
  {
   "cell_type": "code",
   "execution_count": null,
   "id": "783a5b93-eafc-4f96-b6ae-4a61dd364b1e",
   "metadata": {
    "tags": []
   },
   "outputs": [],
   "source": [
    "cell_list = cc.data_to_cells(\n",
    "    data,\n",
    "    initial_crop=1,\n",
    "    final_crop=0,\n",
    "    remove_bordering=False,\n",
    "    remove_multiple_cells=False,\n",
    ")"
   ]
  },
  {
   "cell_type": "code",
   "execution_count": null,
   "id": "8d299618-a213-43f6-9810-e66a4857b93b",
   "metadata": {},
   "outputs": [],
   "source": [
    "cell_list"
   ]
  },
  {
   "cell_type": "code",
   "execution_count": null,
   "id": "f6889ee7-b096-4ce4-944d-2b4db92c2720",
   "metadata": {},
   "outputs": [],
   "source": [
    "clp = cc.CellListPlot(cell_list)"
   ]
  },
  {
   "cell_type": "code",
   "execution_count": null,
   "id": "461e8299-48d6-4992-a533-c166af5cd4a0",
   "metadata": {},
   "outputs": [],
   "source": [
    "fig, axes = plt.subplots(2, 2)\n",
    "clp.hist_property(ax=axes[0, 0], prop=\"surface\")\n",
    "clp.hist_property(ax=axes[0, 1], prop=\"length\")\n",
    "clp.hist_property(ax=axes[1, 0], prop=\"area\")\n",
    "clp.hist_property(ax=axes[1, 1], prop=\"volume\")\n",
    "plt.tight_layout()\n",
    "plt.autoscale()"
   ]
  },
  {
   "cell_type": "code",
   "execution_count": null,
   "id": "4d39d38c-7eff-4bff-9de2-10ed6121b3d8",
   "metadata": {
    "tags": []
   },
   "outputs": [],
   "source": [
    "cell = cc.Cell(\n",
    "    data,\n",
    ")\n",
    "cp = cc.CellPlot(cell)"
   ]
  },
  {
   "cell_type": "code",
   "execution_count": null,
   "id": "dac80e18-600a-4534-8124-e0a2fbaab7c1",
   "metadata": {},
   "outputs": [],
   "source": [
    "plt.imshow(example_label)"
   ]
  },
  {
   "cell_type": "code",
   "execution_count": null,
   "id": "54eb54b0-e219-4ffe-8694-acee1d8a0a15",
   "metadata": {
    "tags": []
   },
   "outputs": [],
   "source": [
    "rps = sk.measure.regionprops(example_label)"
   ]
  },
  {
   "cell_type": "code",
   "execution_count": null,
   "id": "07b19796-48e8-4de1-96e6-d7639844add3",
   "metadata": {},
   "outputs": [],
   "source": [
    "rps[0].orientation"
   ]
  },
  {
   "cell_type": "code",
   "execution_count": null,
   "id": "c07eebf4-ce48-4148-9f72-d6dae6066618",
   "metadata": {},
   "outputs": [],
   "source": [
    "bounding_box = rps[0].bbox\n",
    "centroid = rps[0].centroid\n",
    "bottom, top = bounding_box[0] - 2, bounding_box[2] + 2\n",
    "left, right = bounding_box[1] - 2, bounding_box[3] + 2\n",
    "orientation = rps[0].orientation\n",
    "major_slope = np.tan((np.pi / 2) - orientation)\n",
    "minor_slope = -np.tan(orientation)"
   ]
  },
  {
   "cell_type": "code",
   "execution_count": null,
   "id": "2680648f-c3df-489b-bc01-0253ccbaf9c9",
   "metadata": {},
   "outputs": [],
   "source": [
    "top_x = ((top - centroid[0]) / major_slope) + centroid[1]\n",
    "bottom_x = ((bottom - centroid[0]) / major_slope) + centroid[1]\n",
    "\n",
    "left_y = ((left - centroid[1]) * minor_slope) + centroid[0]\n",
    "right_y = ((right - centroid[1]) * minor_slope) + centroid[0]\n",
    "\n",
    "length = np.sum(\n",
    "    sk.measure.profile_line(\n",
    "        example_label == 1, (bottom, bottom_x), (top, top_x), mode=\"constant\"\n",
    "    )\n",
    "    > 0.5\n",
    ")\n",
    "width = np.sum(\n",
    "    sk.measure.profile_line(\n",
    "        example_label == 1, (left_y, left), (right_y, right), mode=\"constant\"\n",
    "    )\n",
    "    > 0.5\n",
    ")"
   ]
  },
  {
   "cell_type": "code",
   "execution_count": null,
   "id": "f4c4156f-eb38-420c-ab4c-b59f28f4e71a",
   "metadata": {},
   "outputs": [],
   "source": [
    "plt.imshow(example_label == 1)"
   ]
  },
  {
   "cell_type": "code",
   "execution_count": null,
   "id": "858d0350-c726-4303-b454-e1a69acffe4f",
   "metadata": {
    "tags": []
   },
   "outputs": [],
   "source": [
    "plt.figure(figsize=(10, 10))\n",
    "plt.imshow(example_mask ^ sk.morphology.binary_erosion(example_mask))\n",
    "plt.show()\n",
    "plt.figure(figsize=(10, 10))\n",
    "plt.imshow(\n",
    "    sk.morphology.binary_erosion(example_mask)\n",
    "    ^ sk.morphology.binary_dilation(example_mask)\n",
    ")\n",
    "plt.show()"
   ]
  },
  {
   "cell_type": "code",
   "execution_count": null,
   "id": "f4d3139e-a3f2-4bbe-99db-e576684b1fda",
   "metadata": {
    "tags": []
   },
   "outputs": [],
   "source": [
    "plt.figure(figsize=(20, 20))\n",
    "coords = sk.measure.find_contours(example_mask, level=0)[0]\n",
    "plt.imshow(example_mask)\n",
    "plt.plot(coords[:, 1], coords[:, 0], \"-r\", linewidth=2)\n",
    "plt.show()"
   ]
  },
  {
   "cell_type": "code",
   "execution_count": null,
   "id": "63c72f49-ec21-43bb-928b-9c7188f768a3",
   "metadata": {},
   "outputs": [],
   "source": [
    "moo = np.stack([coords[coords[:, 1] > 7][:, 1], coords[coords[:, 1] > 7][:, 0]], axis=1)\n",
    "moo[:, 0] = moo[:, 0] - 7.0"
   ]
  },
  {
   "cell_type": "code",
   "execution_count": null,
   "id": "627e4293-f2d6-4f79-a7ab-c82caee72961",
   "metadata": {},
   "outputs": [],
   "source": [
    "moo"
   ]
  },
  {
   "cell_type": "code",
   "execution_count": null,
   "id": "120bef54-8ddc-4b6c-992a-b492b05736bb",
   "metadata": {},
   "outputs": [],
   "source": [
    "import trimesh"
   ]
  },
  {
   "cell_type": "code",
   "execution_count": null,
   "id": "f43a2060-d31a-4734-9e25-0d87f929ffd0",
   "metadata": {},
   "outputs": [],
   "source": [
    "test = trimesh.creation.revolve(\n",
    "    moo,\n",
    "    angle=2 * np.pi,\n",
    ")"
   ]
  },
  {
   "cell_type": "code",
   "execution_count": null,
   "id": "ebbf0173-75c3-443d-8d42-f15e4821de2e",
   "metadata": {
    "tags": []
   },
   "outputs": [],
   "source": [
    "test.area"
   ]
  },
  {
   "cell_type": "code",
   "execution_count": null,
   "id": "4ee476f6-c7fa-448f-967e-9b3073530318",
   "metadata": {},
   "outputs": [],
   "source": [
    "test.show()"
   ]
  },
  {
   "cell_type": "code",
   "execution_count": null,
   "id": "34e966d0-0808-4cb8-8873-cc0e9df78259",
   "metadata": {},
   "outputs": [],
   "source": [
    "for contour in find_contours(img, 0):\n",
    "    coords = approximate_polygon(contour, tolerance=2.5)\n",
    "    ax2.plot(coords[:, 1], coords[:, 0], \"-r\", linewidth=2)\n",
    "    coords2 = approximate_polygon(contour, tolerance=39.5)\n",
    "    ax2.plot(coords2[:, 1], coords2[:, 0], \"-g\", linewidth=2)\n",
    "    print(\"Number of coordinates:\", len(contour), len(coords), len(coords2))"
   ]
  }
 ],
 "metadata": {
  "kernelspec": {
   "display_name": "Python 3 (ipykernel)",
   "language": "python",
   "name": "python3"
  },
  "language_info": {
   "codemirror_mode": {
    "name": "ipython",
    "version": 3
   },
   "file_extension": ".py",
   "mimetype": "text/x-python",
   "name": "python",
   "nbconvert_exporter": "python",
   "pygments_lexer": "ipython3",
   "version": "3.8.5"
  }
 },
 "nbformat": 4,
 "nbformat_minor": 5
}
