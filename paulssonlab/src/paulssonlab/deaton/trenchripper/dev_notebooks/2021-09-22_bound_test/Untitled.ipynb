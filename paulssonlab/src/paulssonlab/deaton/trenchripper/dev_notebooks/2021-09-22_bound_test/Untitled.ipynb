{
 "cells": [
  {
   "cell_type": "code",
   "execution_count": null,
   "id": "colonial-retirement",
   "metadata": {},
   "outputs": [],
   "source": [
    "import numpy as np"
   ]
  },
  {
   "cell_type": "code",
   "execution_count": null,
   "id": "pursuant-advantage",
   "metadata": {},
   "outputs": [],
   "source": [
    "from matplotlib import pyplot as plt"
   ]
  },
  {
   "cell_type": "code",
   "execution_count": null,
   "id": "adapted-commonwealth",
   "metadata": {},
   "outputs": [],
   "source": [
    "R_thr = 15\n",
    "R_tot = 10**7\n",
    "\n",
    "\n",
    "def bound_fn(N, R_thr=R_thr, R_tot=R_tot):\n",
    "    polynom = ((R_thr * N) / R_tot) ** (-R_thr)\n",
    "    exp = np.exp((R_thr * N - R_tot) / (N - 1))\n",
    "    return polynom * exp"
   ]
  },
  {
   "cell_type": "code",
   "execution_count": null,
   "id": "constitutional-divorce",
   "metadata": {},
   "outputs": [],
   "source": [
    "Ns = np.logspace(0, 6, 1000)\n",
    "\n",
    "plt.ylim(0.0, 0.2)\n",
    "plt.xscale(\"log\")\n",
    "plt.plot(Ns, bound_fn(Ns))"
   ]
  },
  {
   "cell_type": "code",
   "execution_count": null,
   "id": "confused-study",
   "metadata": {},
   "outputs": [],
   "source": [
    "Ns = np.linspace(10000, 500000, 1000)\n",
    "\n",
    "plt.ylim(0.0, 0.2)\n",
    "plt\n",
    "plt.plot(Ns, bound_fn(Ns))"
   ]
  },
  {
   "cell_type": "code",
   "execution_count": null,
   "id": "duplicate-advocate",
   "metadata": {},
   "outputs": [],
   "source": [
    "R_thr = 15\n",
    "R_tot = 5 * (10**6)\n",
    "\n",
    "\n",
    "def bound_fn(N, R_thr=R_thr, R_tot=R_tot):\n",
    "    polynom = ((R_thr * N) / R_tot) ** (-R_thr)\n",
    "    exp = np.exp((R_thr * N - R_tot) / (N - 1))\n",
    "    return polynom * exp"
   ]
  },
  {
   "cell_type": "code",
   "execution_count": null,
   "id": "internal-wisdom",
   "metadata": {},
   "outputs": [],
   "source": [
    "Ns = np.linspace(10000, 500000, 1000)\n",
    "\n",
    "plt.ylim(0.0, 0.2)\n",
    "plt\n",
    "plt.plot(Ns, bound_fn(Ns))"
   ]
  }
 ],
 "metadata": {
  "kernelspec": {
   "display_name": "Python 3",
   "language": "python",
   "name": "python3"
  },
  "language_info": {
   "codemirror_mode": {
    "name": "ipython",
    "version": 3
   },
   "file_extension": ".py",
   "mimetype": "text/x-python",
   "name": "python",
   "nbconvert_exporter": "python",
   "pygments_lexer": "ipython3",
   "version": "3.6.13"
  }
 },
 "nbformat": 4,
 "nbformat_minor": 5
}
