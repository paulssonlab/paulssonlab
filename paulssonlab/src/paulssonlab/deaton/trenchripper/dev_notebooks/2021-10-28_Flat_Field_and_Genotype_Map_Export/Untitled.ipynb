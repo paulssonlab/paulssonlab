{
 "cells": [
  {
   "cell_type": "code",
   "execution_count": null,
   "id": "83a0aef6-3a14-4c36-bd1a-1cfe28ec9cd1",
   "metadata": {},
   "outputs": [],
   "source": [
    "import paulssonlab.deaton.trenchripper.trenchripper as tr\n",
    "\n",
    "import warnings\n",
    "\n",
    "warnings.filterwarnings(action=\"once\")\n",
    "\n",
    "import matplotlib\n",
    "\n",
    "matplotlib.rcParams[\"figure.figsize\"] = [20, 10]"
   ]
  },
  {
   "cell_type": "code",
   "execution_count": null,
   "id": "91fca70b-cb1a-45ea-afe1-f79b823cf6e4",
   "metadata": {},
   "outputs": [],
   "source": [
    "import matplotlib.pyplot as plt\n",
    "import numpy as np\n",
    "import skimage as sk\n",
    "import pandas as pd\n",
    "import holoviews as hv\n",
    "import dask.array as da\n",
    "import dask.dataframe as dd\n",
    "import xarray as xr\n",
    "import h5py\n",
    "import pickle\n",
    "import copy\n",
    "\n",
    "from scipy import ndimage as ndi\n",
    "from skimage.segmentation import watershed\n",
    "from ipywidgets import (\n",
    "    interact,\n",
    "    interactive,\n",
    "    fixed,\n",
    "    interact_manual,\n",
    "    FloatSlider,\n",
    "    IntSlider,\n",
    "    Dropdown,\n",
    "    IntText,\n",
    "    SelectMultiple,\n",
    "    Select,\n",
    "    IntRangeSlider,\n",
    "    FloatRangeSlider,\n",
    ")\n",
    "from skimage import filters, transform\n",
    "from mpl_toolkits.mplot3d import Axes3D\n",
    "from matplotlib.collections import PolyCollection\n",
    "from holoviews.operation.datashader import regrid"
   ]
  },
  {
   "cell_type": "code",
   "execution_count": null,
   "id": "1441e6ef-35ec-4f0a-85f5-d4f18dd96934",
   "metadata": {},
   "outputs": [],
   "source": [
    "hv.extension(\"bokeh\")"
   ]
  },
  {
   "cell_type": "code",
   "execution_count": null,
   "id": "4063637e-f586-4d52-a9b9-e6a2d948b81c",
   "metadata": {},
   "outputs": [],
   "source": [
    "rect_group_1 = hv.Rectangles([(0, 0, 1, 1), (2, 3, 4, 6)])\n",
    "rect_group_2 = hv.Rectangles([(0.5, 2, 1.5, 4), (2, 1, 3.5, 2.5)])\n",
    "\n",
    "rect_group_1_ = hv.Rectangles([(0, 0, 1, 1), (2, 3, 4, 6)]).opts(alpha=0.5)\n",
    "rect_group_2_ = hv.Rectangles([(0.5, 2, 1.5, 4), (2, 1, 3.5, 2.5)]).opts(alpha=0.5)"
   ]
  },
  {
   "cell_type": "code",
   "execution_count": null,
   "id": "bf86a155-6080-411d-9fdd-74f6c4e88cac",
   "metadata": {},
   "outputs": [],
   "source": [
    "rect_group = {1: rect_group_1, 2: rect_group_2}\n",
    "rect_group_ = {1: rect_group_2_, 2: rect_group_1_}"
   ]
  },
  {
   "cell_type": "code",
   "execution_count": null,
   "id": "d8f70d6a-82e0-47df-9758-a9fd8a61c502",
   "metadata": {},
   "outputs": [],
   "source": [
    "hmap = hv.HoloMap(rect_group, kdims=\"group\")\n",
    "hmap_ = hv.HoloMap(rect_group_, kdims=\"group\")"
   ]
  },
  {
   "cell_type": "code",
   "execution_count": null,
   "id": "2512910b-2062-4806-bbf0-22721369789d",
   "metadata": {},
   "outputs": [],
   "source": [
    "(hmap * hmap_)"
   ]
  },
  {
   "cell_type": "code",
   "execution_count": null,
   "id": "856a68f0-94a6-41bf-a379-6579c6fc6754",
   "metadata": {},
   "outputs": [],
   "source": [
    "headpath = \"/home/de64/scratch/de64/sync_folder/2021-10-21_lDE15_Final_1/GFP/\"\n",
    "# hdf5inputpath = \"/home/de64/scratch/de64/sync_folder/2021-01-28_lDE14/run/\"\n",
    "nd2file = \"/home/de64/scratch/de64/sync_folder/2021-10-21_lDE15_Final_1/experiment.nd2\"\n",
    "\n",
    "interactive_kymograph = tr.kymograph_interactive(headpath)\n",
    "viewer = tr.hdf5_viewer(headpath, persist_data=False)"
   ]
  },
  {
   "cell_type": "code",
   "execution_count": null,
   "id": "5753eab6-e466-4faa-9f8b-0c06cab55709",
   "metadata": {},
   "outputs": [],
   "source": [
    "test_view = viewer.view(width=1200)"
   ]
  },
  {
   "cell_type": "code",
   "execution_count": null,
   "id": "d68baedd-fcc8-4299-976e-82560e6979c9",
   "metadata": {},
   "outputs": [],
   "source": [
    "type(test_view)"
   ]
  },
  {
   "cell_type": "code",
   "execution_count": null,
   "id": "00c7605d-48fb-4edb-aad7-230b81989e11",
   "metadata": {},
   "outputs": [],
   "source": [
    "dims = test_view.dimensions()"
   ]
  },
  {
   "cell_type": "code",
   "execution_count": null,
   "id": "0ef0502d-684c-46bb-8031-9dfea7c6ef9a",
   "metadata": {},
   "outputs": [],
   "source": [
    "dims"
   ]
  },
  {
   "cell_type": "code",
   "execution_count": null,
   "id": "20d88118-681c-4574-893c-c07ace862a94",
   "metadata": {},
   "outputs": [],
   "source": [
    "dimtest = dims[0]"
   ]
  },
  {
   "cell_type": "code",
   "execution_count": null,
   "id": "41ef5c3e-7679-4e29-9636-4981c7a17548",
   "metadata": {},
   "outputs": [],
   "source": [
    "dim_index = dimtest.values"
   ]
  },
  {
   "cell_type": "code",
   "execution_count": null,
   "id": "c466e6b0-b363-4b9d-84d3-fd25f3660077",
   "metadata": {},
   "outputs": [],
   "source": [
    "def make_rectangle_img(fov, channel, time):\n",
    "    ##open some dataframe and process; make sure everything relevent is in memory for speed (should be minimal anyways)\n",
    "    ##possibly write all of this as a subclass or something\n",
    "    coords = [(0, 0, 100, 100)]\n",
    "    return hv.Rectangles(coords)"
   ]
  },
  {
   "cell_type": "code",
   "execution_count": null,
   "id": "b2533b45-245d-418c-9064-53692e8ab8a7",
   "metadata": {},
   "outputs": [],
   "source": []
  },
  {
   "cell_type": "code",
   "execution_count": null,
   "id": "97a4e1e8-e15a-4e27-b17c-f9e6fd934200",
   "metadata": {},
   "outputs": [],
   "source": []
  },
  {
   "cell_type": "code",
   "execution_count": null,
   "id": "919660ea-5dc4-4c85-bbc7-d986f28c56f8",
   "metadata": {},
   "outputs": [],
   "source": [
    "dmap = hv.DynamicMap(make_rectangle_img, kdims=dims, tools=[\"hover\"])"
   ]
  },
  {
   "cell_type": "code",
   "execution_count": null,
   "id": "bc20235c-5fda-483b-a5d9-0eac83435e46",
   "metadata": {},
   "outputs": [],
   "source": [
    "test_view * dmap"
   ]
  },
  {
   "cell_type": "code",
   "execution_count": null,
   "id": "242a2183-0edb-49b6-8a22-5e4c9bf53ce6",
   "metadata": {},
   "outputs": [],
   "source": []
  }
 ],
 "metadata": {
  "kernelspec": {
   "display_name": "Python 3",
   "language": "python",
   "name": "python3"
  },
  "language_info": {
   "codemirror_mode": {
    "name": "ipython",
    "version": 3
   },
   "file_extension": ".py",
   "mimetype": "text/x-python",
   "name": "python",
   "nbconvert_exporter": "python",
   "pygments_lexer": "ipython3",
   "version": "3.8.5"
  }
 },
 "nbformat": 4,
 "nbformat_minor": 5
}
