{
 "cells": [
  {
   "cell_type": "code",
   "execution_count": null,
   "id": "83a0aef6-3a14-4c36-bd1a-1cfe28ec9cd1",
   "metadata": {},
   "outputs": [],
   "source": [
    "import paulssonlab.deaton.trenchripper.trenchripper as tr\n",
    "\n",
    "import warnings\n",
    "\n",
    "warnings.filterwarnings(action=\"once\")\n",
    "\n",
    "import matplotlib\n",
    "\n",
    "matplotlib.rcParams[\"figure.figsize\"] = [20, 10]"
   ]
  },
  {
   "cell_type": "code",
   "execution_count": null,
   "id": "5d58b531-057a-45f0-9d64-86417b29e7d4",
   "metadata": {},
   "outputs": [],
   "source": [
    "%load_ext autoreload\n",
    "%autoreload 2"
   ]
  },
  {
   "cell_type": "code",
   "execution_count": null,
   "id": "91fca70b-cb1a-45ea-afe1-f79b823cf6e4",
   "metadata": {},
   "outputs": [],
   "source": [
    "import matplotlib.pyplot as plt\n",
    "import numpy as np\n",
    "import skimage as sk\n",
    "import pandas as pd\n",
    "import holoviews as hv\n",
    "import dask.array as da\n",
    "import dask.dataframe as dd\n",
    "import xarray as xr\n",
    "import h5py\n",
    "import pickle\n",
    "import copy\n",
    "\n",
    "from scipy import ndimage as ndi\n",
    "from skimage.segmentation import watershed\n",
    "from ipywidgets import (\n",
    "    interact,\n",
    "    interactive,\n",
    "    fixed,\n",
    "    interact_manual,\n",
    "    FloatSlider,\n",
    "    IntSlider,\n",
    "    Dropdown,\n",
    "    IntText,\n",
    "    SelectMultiple,\n",
    "    Select,\n",
    "    IntRangeSlider,\n",
    "    FloatRangeSlider,\n",
    ")\n",
    "from skimage import filters, transform\n",
    "from mpl_toolkits.mplot3d import Axes3D\n",
    "from matplotlib.collections import PolyCollection\n",
    "from holoviews.operation.datashader import regrid"
   ]
  },
  {
   "cell_type": "code",
   "execution_count": null,
   "id": "1441e6ef-35ec-4f0a-85f5-d4f18dd96934",
   "metadata": {},
   "outputs": [],
   "source": [
    "hv.extension(\"bokeh\")"
   ]
  },
  {
   "cell_type": "code",
   "execution_count": null,
   "id": "606d0b18-f30f-48dc-bd9e-ddd58da11b8d",
   "metadata": {},
   "outputs": [],
   "source": [
    "test = tr.hdf5_viewer(headpath)"
   ]
  },
  {
   "cell_type": "code",
   "execution_count": null,
   "id": "1cd97924-cf49-4fd7-8a1b-e14da8f75347",
   "metadata": {},
   "outputs": [],
   "source": [
    "test.view(vmin=0, vmax=10000)"
   ]
  },
  {
   "cell_type": "code",
   "execution_count": null,
   "id": "be370fb5-a5d6-4031-a393-7b233902ca5c",
   "metadata": {},
   "outputs": [],
   "source": []
  },
  {
   "cell_type": "code",
   "execution_count": null,
   "id": "44c82024-cee5-4850-a071-e317aa75b9ac",
   "metadata": {},
   "outputs": [],
   "source": [
    "import pickle as pkl\n",
    "\n",
    "\n",
    "class variant_overlay(tr.hdf5_viewer):\n",
    "    def __init__(\n",
    "        self,\n",
    "        headpath,\n",
    "        trench_timepoint_df_path,\n",
    "        display_values_list=[],\n",
    "        persist_data=False,\n",
    "        bbox_color=\"grey\",\n",
    "        bbox_alpha=0.5,\n",
    "    ):\n",
    "        # display_values_list is a list of strings of columns in the trench-timepoint dataframe\n",
    "        # the trench-timepoint dataframe must havbe exactly 1 entry per trench per timepoint!\n",
    "        super(variant_overlay, self).__init__(headpath, persist_data=persist_data)\n",
    "\n",
    "        self.display_values_list = display_values_list\n",
    "        self.bbox_color = bbox_color\n",
    "        self.bbox_alpha = bbox_alpha\n",
    "\n",
    "        self.pixel_microns = self.metadata[\"pixel_microns\"]\n",
    "\n",
    "        with open(headpath + \"/kymograph/metadata.pkl\", \"rb\") as handle:\n",
    "            kymograph_metadata = pkl.load(handle)[\"kymograph_params\"]\n",
    "\n",
    "        self.trench_length = (\n",
    "            kymograph_metadata[\"padding_y\"] + kymograph_metadata[\"ttl_len_y\"]\n",
    "        )\n",
    "        self.trench_width = kymograph_metadata[\"trench_width_x\"]\n",
    "\n",
    "        self.single_trench_timepoint_df = dd.read_parquet(\n",
    "            trench_timepoint_df_path, engine=\"pyarrow\"\n",
    "        ).compute()\n",
    "        self.single_trench_timepoint_df = (\n",
    "            self.single_trench_timepoint_df.reset_index()\n",
    "            .set_index([\"fov\", \"timepoints\"])\n",
    "            .sort_index()\n",
    "        )\n",
    "\n",
    "    def get_extents(self, y_coords, x_coords):\n",
    "\n",
    "        left = x_coords - (self.trench_width // 2)\n",
    "        bottom = y_coords + self.trench_length\n",
    "        right = x_coords + (self.trench_width // 2)\n",
    "        top = y_coords\n",
    "        extents_arr = np.stack([left, bottom, right, top])\n",
    "\n",
    "        return extents_arr\n",
    "\n",
    "    def get_trench_rectangles(self, trench_timepoint_df):\n",
    "\n",
    "        y_coord = (trench_timepoint_df[\"y (local)\"] / self.pixel_microns).astype(int)\n",
    "        x_coord = (trench_timepoint_df[\"x (local)\"] / self.pixel_microns).astype(int)\n",
    "\n",
    "        extents_arr = self.get_extents(y_coord, x_coord)\n",
    "\n",
    "        return extents_arr\n",
    "\n",
    "    def make_rectangle_img(self, fov, channel, timepoint):\n",
    "        ##open some dataframe and process; make sure everything relevent is in memory for speed (should be minimal anyways)\n",
    "        ##possibly write all of this as a subclass or something\n",
    "\n",
    "        selected_df = self.single_trench_timepoint_df.loc[fov, timepoint]\n",
    "\n",
    "        extents_arr = self.get_trench_rectangles(selected_df)\n",
    "        selected_df[\"Left\"] = extents_arr[0]\n",
    "        selected_df[\"Bottom\"] = extents_arr[1]\n",
    "        selected_df[\"Right\"] = extents_arr[2]\n",
    "        selected_df[\"Top\"] = extents_arr[3]\n",
    "\n",
    "        rectangles = hv.Rectangles(\n",
    "            data=selected_df,\n",
    "            kdims=[\"Left\", \"Bottom\", \"Right\", \"Top\"],\n",
    "            vdims=self.display_values_list,\n",
    "        )\n",
    "        rectangles = rectangles.opts(color=self.bbox_color, alpha=self.bbox_alpha)\n",
    "\n",
    "        return rectangles\n",
    "\n",
    "    def view_overlay(\n",
    "        self, width=1000, height=1000, cmap=\"Greys_r\", vmin=None, vmax=None\n",
    "    ):\n",
    "        main_view = self.view(\n",
    "            width=width, height=height, cmap=cmap, vmin=vmin, vmax=vmax\n",
    "        )\n",
    "        main_view = main_view.opts(tools=[])\n",
    "        dims = main_view.dimensions()\n",
    "\n",
    "        dmap = hv.DynamicMap(self.make_rectangle_img, kdims=dims)\n",
    "        dmap = dmap.opts(tools=[\"hover\"])\n",
    "\n",
    "        overlay = main_view * dmap\n",
    "\n",
    "        return overlay"
   ]
  },
  {
   "cell_type": "code",
   "execution_count": null,
   "id": "b83aef84-9fa4-4c05-8159-2e6120570af9",
   "metadata": {},
   "outputs": [],
   "source": [
    "headpath = \"/home/de64/scratch/de64/sync_folder/2021-10-21_lDE15_Final_1/GFP/\""
   ]
  },
  {
   "cell_type": "code",
   "execution_count": null,
   "id": "61dec122-2314-4e1d-b8fd-b79cb06ea839",
   "metadata": {},
   "outputs": [],
   "source": [
    "headpath = \"/home/de64/scratch/de64/sync_folder/2021-10-21_lDE15_Final_1/GFP/\"\n",
    "\n",
    "overlay_handle = tr.variant_overlay(\n",
    "    headpath,\n",
    "    \"/home/de64/scratch/de64/sync_folder/2021-09-17_snakemake_lDE15_V2/2021-11-17_lDE15_Analysis_Trench-Timepoint\",\n",
    "    display_values_list=[\"gfp/mchy Ratio\", \"dark_gfp\"],\n",
    "    persist_data=False,\n",
    ")"
   ]
  },
  {
   "cell_type": "code",
   "execution_count": null,
   "id": "083a15a9-d06f-4a8d-8f7c-dddf2bbe119e",
   "metadata": {},
   "outputs": [],
   "source": [
    "overlay_handle.view_overlay(vmin=0, vmax=10000)"
   ]
  },
  {
   "cell_type": "code",
   "execution_count": null,
   "id": "856a68f0-94a6-41bf-a379-6579c6fc6754",
   "metadata": {},
   "outputs": [],
   "source": [
    "headpath = \"/home/de64/scratch/de64/sync_folder/2021-10-21_lDE15_Final_1/GFP/\"\n",
    "\n",
    "interactive_kymograph = tr.kymograph_interactive(headpath)\n",
    "viewer = tr.hdf5_viewer(headpath, persist_data=False)"
   ]
  },
  {
   "cell_type": "code",
   "execution_count": null,
   "id": "26695bea-2436-4e4e-96ea-fadb7a53fa91",
   "metadata": {},
   "outputs": [],
   "source": []
  },
  {
   "cell_type": "code",
   "execution_count": null,
   "id": "d268bc42-a870-4025-bb34-f082bbab5a2c",
   "metadata": {},
   "outputs": [],
   "source": []
  },
  {
   "cell_type": "code",
   "execution_count": null,
   "id": "3147ebd5-e2f2-4e85-a69d-21988be3f49c",
   "metadata": {},
   "outputs": [],
   "source": []
  },
  {
   "cell_type": "code",
   "execution_count": null,
   "id": "5753eab6-e466-4faa-9f8b-0c06cab55709",
   "metadata": {},
   "outputs": [],
   "source": [
    "test_view = viewer.view(width=1200)\n",
    "test_view = test_view.opts(tools=[])"
   ]
  },
  {
   "cell_type": "code",
   "execution_count": null,
   "id": "d68baedd-fcc8-4299-976e-82560e6979c9",
   "metadata": {},
   "outputs": [],
   "source": [
    "type(test_view)"
   ]
  },
  {
   "cell_type": "code",
   "execution_count": null,
   "id": "00c7605d-48fb-4edb-aad7-230b81989e11",
   "metadata": {},
   "outputs": [],
   "source": [
    "dims = test_view.dimensions()"
   ]
  },
  {
   "cell_type": "code",
   "execution_count": null,
   "id": "0ef0502d-684c-46bb-8031-9dfea7c6ef9a",
   "metadata": {},
   "outputs": [],
   "source": [
    "dims"
   ]
  },
  {
   "cell_type": "code",
   "execution_count": null,
   "id": "20d88118-681c-4574-893c-c07ace862a94",
   "metadata": {},
   "outputs": [],
   "source": [
    "dimtest = dims[0]"
   ]
  },
  {
   "cell_type": "code",
   "execution_count": null,
   "id": "41ef5c3e-7679-4e29-9636-4981c7a17548",
   "metadata": {},
   "outputs": [],
   "source": [
    "dim_index = dimtest.values"
   ]
  },
  {
   "cell_type": "code",
   "execution_count": null,
   "id": "c466e6b0-b363-4b9d-84d3-fd25f3660077",
   "metadata": {},
   "outputs": [],
   "source": [
    "def make_rectangle_img(fov, channel, time):\n",
    "    ##open some dataframe and process; make sure everything relevent is in memory for speed (should be minimal anyways)\n",
    "    ##possibly write all of this as a subclass or something\n",
    "    coords = [(0, 0, 100, 100)]\n",
    "    return hv.Rectangles(coords)"
   ]
  },
  {
   "cell_type": "code",
   "execution_count": null,
   "id": "016ddedb-012f-477b-a09e-e6c4e48fe1e1",
   "metadata": {},
   "outputs": [],
   "source": [
    "dask_controller = tr.trcluster.dask_controller(\n",
    "    walltime=\"04:00:00\",\n",
    "    local=False,\n",
    "    n_workers=50,\n",
    "    death_timeout=5.0,\n",
    "    memory=\"16GB\",\n",
    "    working_directory=\"/home/de64/scratch/de64/temp/dask\",\n",
    ")\n",
    "dask_controller.startdask()"
   ]
  },
  {
   "cell_type": "code",
   "execution_count": null,
   "id": "06b4eecf-a5cd-4094-9a34-27254f1b57f3",
   "metadata": {},
   "outputs": [],
   "source": [
    "dask_controller.displaydashboard()"
   ]
  },
  {
   "cell_type": "code",
   "execution_count": null,
   "id": "b2533b45-245d-418c-9064-53692e8ab8a7",
   "metadata": {
    "tags": []
   },
   "outputs": [],
   "source": [
    "single_trench_timepoint_df = dd.read_parquet(\n",
    "    \"/home/de64/scratch/de64/sync_folder/2021-09-17_snakemake_lDE15_V2/2021-11-17_lDE15_Analysis_Trench-Timepoint\",\n",
    "    engine=\"pyarrow\",\n",
    ").compute()"
   ]
  },
  {
   "cell_type": "code",
   "execution_count": null,
   "id": "b00597c6-6ede-4737-9223-01355b875bf1",
   "metadata": {},
   "outputs": [],
   "source": [
    "single_trench_timepoint_df = (\n",
    "    single_trench_timepoint_df.reset_index()\n",
    "    .set_index([\"fov\", \"timepoints\"])\n",
    "    .sort_index()\n",
    ")"
   ]
  },
  {
   "cell_type": "code",
   "execution_count": null,
   "id": "386aa5c0-bfb4-49a9-bbce-c7c4e009eec0",
   "metadata": {},
   "outputs": [],
   "source": [
    "meta_handle = tr.pandas_hdf5_handler(\n",
    "    \"/home/de64/scratch/de64/sync_folder/2021-10-21_lDE15_Final_1/GFP/metadata.hdf5\"\n",
    ")\n",
    "metadata = meta_handle.read_df(\"global\", read_metadata=True).metadata\n",
    "pixel_microns = metadata[\"pixel_microns\"]\n",
    "\n",
    "import pickle as pkl\n",
    "\n",
    "with open(\n",
    "    \"/home/de64/scratch/de64/sync_folder/2021-10-21_lDE15_Final_1/GFP/kymograph/metadata.pkl\",\n",
    "    \"rb\",\n",
    ") as handle:\n",
    "    kymograph_metadata = pickle.load(handle)[\"kymograph_params\"]\n",
    "\n",
    "trench_length = kymograph_metadata[\"padding_y\"] + kymograph_metadata[\"ttl_len_y\"]\n",
    "trench_width = kymograph_metadata[\"trench_width_x\"]"
   ]
  },
  {
   "cell_type": "code",
   "execution_count": null,
   "id": "20171b00-7079-4219-96a0-5d4c46e787fc",
   "metadata": {
    "tags": []
   },
   "outputs": [],
   "source": [
    "def get_extents(y_coords, x_coords, trench_length, trench_width):\n",
    "\n",
    "    left = x_coords - (trench_width // 2)\n",
    "    bottom = y_coords + trench_length\n",
    "    right = x_coords + (trench_width // 2)\n",
    "    top = y_coords\n",
    "    extents_arr = np.stack([left, bottom, right, top])\n",
    "\n",
    "    return extents_arr\n",
    "\n",
    "\n",
    "def get_trench_rectangles(\n",
    "    trench_timepoint_df, pixel_microns, trench_length, trench_width\n",
    "):\n",
    "\n",
    "    y_coord = (trench_timepoint_df[\"y (local)\"] / pixel_microns).astype(int)\n",
    "    x_coord = (trench_timepoint_df[\"x (local)\"] / pixel_microns).astype(int)\n",
    "\n",
    "    extents_arr = get_extents(y_coord, x_coord, trench_length, trench_width)\n",
    "\n",
    "    return extents_arr\n",
    "\n",
    "\n",
    "def make_rectangle_img(\n",
    "    fov,\n",
    "    channel,\n",
    "    timepoint,\n",
    "    trench_timepoint_df=single_trench_timepoint_df,\n",
    "    pixel_microns=pixel_microns,\n",
    "    trench_length=trench_length,\n",
    "    trench_width=trench_width,\n",
    "    alpha=0.5,\n",
    "):\n",
    "    ##open some dataframe and process; make sure everything relevent is in memory for speed (should be minimal anyways)\n",
    "    ##possibly write all of this as a subclass or something\n",
    "\n",
    "    selected_df = single_trench_timepoint_df.loc[fov, timepoint]\n",
    "\n",
    "    extents_arr = get_trench_rectangles(\n",
    "        selected_df, pixel_microns, trench_length, trench_width\n",
    "    )\n",
    "    selected_df[\"Left\"] = extents_arr[0]\n",
    "    selected_df[\"Bottom\"] = extents_arr[1]\n",
    "    selected_df[\"Right\"] = extents_arr[2]\n",
    "    selected_df[\"Top\"] = extents_arr[3]\n",
    "\n",
    "    rectangles = hv.Rectangles(\n",
    "        data=selected_df,\n",
    "        kdims=[\"Left\", \"Bottom\", \"Right\", \"Top\"],\n",
    "        vdims=[\"gfp/mchy Ratio\"],\n",
    "    )\n",
    "    rectangles = rectangles.opts(alpha=0.5)\n",
    "\n",
    "    return rectangles"
   ]
  },
  {
   "cell_type": "code",
   "execution_count": null,
   "id": "9a701bcb-d269-4c1b-987d-5fd6b9532c58",
   "metadata": {},
   "outputs": [],
   "source": [
    "test = hv.Rectangles(\n",
    "    data=single_trench_timepoint_df.loc[1, 1],\n",
    "    kdims=[\"Left\", \"Bottom\", \"Right\", \"Top\"],\n",
    "    vdims=[\"gfp/mchy Ratio\"],\n",
    ")"
   ]
  },
  {
   "cell_type": "code",
   "execution_count": null,
   "id": "4951c194-57c8-4903-9572-6576b1a79422",
   "metadata": {},
   "outputs": [],
   "source": [
    "test"
   ]
  },
  {
   "cell_type": "code",
   "execution_count": null,
   "id": "47c36708-4337-4795-af83-a4bd29f9c68c",
   "metadata": {},
   "outputs": [],
   "source": [
    "rectangles"
   ]
  },
  {
   "cell_type": "code",
   "execution_count": null,
   "id": "25cbed38-5687-4e20-86a8-8a8acba0b390",
   "metadata": {},
   "outputs": [],
   "source": [
    "test_img = make_rectangle_img(1, None, 1)"
   ]
  },
  {
   "cell_type": "code",
   "execution_count": null,
   "id": "f4e929f4-55a3-4dff-83e8-0a2fcc49a54a",
   "metadata": {},
   "outputs": [],
   "source": [
    "dmap = hv.DynamicMap(make_rectangle_img, kdims=dims)\n",
    "dmap = dmap.opts(tools=[\"hover\"])"
   ]
  },
  {
   "cell_type": "code",
   "execution_count": null,
   "id": "bc20235c-5fda-483b-a5d9-0eac83435e46",
   "metadata": {},
   "outputs": [],
   "source": [
    "test = test_view * dmap"
   ]
  },
  {
   "cell_type": "code",
   "execution_count": null,
   "id": "242a2183-0edb-49b6-8a22-5e4c9bf53ce6",
   "metadata": {},
   "outputs": [],
   "source": [
    "test"
   ]
  },
  {
   "cell_type": "code",
   "execution_count": null,
   "id": "e97808dd-d9f8-4c70-8345-df05126b1be7",
   "metadata": {},
   "outputs": [],
   "source": []
  }
 ],
 "metadata": {
  "kernelspec": {
   "display_name": "Python 3 (ipykernel)",
   "language": "python",
   "name": "python3"
  },
  "language_info": {
   "codemirror_mode": {
    "name": "ipython",
    "version": 3
   },
   "file_extension": ".py",
   "mimetype": "text/x-python",
   "name": "python",
   "nbconvert_exporter": "python",
   "pygments_lexer": "ipython3",
   "version": "3.8.5"
  }
 },
 "nbformat": 4,
 "nbformat_minor": 5
}
