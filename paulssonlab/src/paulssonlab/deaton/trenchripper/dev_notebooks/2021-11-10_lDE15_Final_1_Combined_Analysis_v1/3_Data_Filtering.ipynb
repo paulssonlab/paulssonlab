{
 "cells": [
  {
   "cell_type": "code",
   "execution_count": null,
   "id": "6872ac75-cbf9-42d3-8fd0-b42c75d72857",
   "metadata": {},
   "outputs": [],
   "source": [
    "import paulssonlab.deaton.trenchripper.trenchripper as tr\n",
    "\n",
    "import numpy as np\n",
    "import pandas as pd\n",
    "import seaborn as sns\n",
    "import scipy as sp\n",
    "import sklearn as skl\n",
    "import dask.dataframe as dd\n",
    "import dask.array as da\n",
    "\n",
    "from matplotlib.ticker import FuncFormatter\n",
    "\n",
    "import scipy.stats\n",
    "from sklearn.linear_model import LinearRegression\n",
    "\n",
    "from matplotlib import pyplot as plt\n",
    "import holoviews as hv\n",
    "\n",
    "hv.extension(\"bokeh\")"
   ]
  },
  {
   "cell_type": "code",
   "execution_count": null,
   "id": "0f4d0ffa-10b1-4c24-afac-ae087373ae13",
   "metadata": {},
   "outputs": [],
   "source": [
    "headpath = \"/home/de64/scratch/de64/sync_folder/2021-10-21_lDE15_Final_1/barcodes\""
   ]
  },
  {
   "cell_type": "code",
   "execution_count": null,
   "id": "331c2b6d-cf33-4f5e-9cda-270cf1829723",
   "metadata": {},
   "outputs": [],
   "source": [
    "dask_controller = tr.trcluster.dask_controller(\n",
    "    walltime=\"04:00:00\",\n",
    "    local=False,\n",
    "    n_workers=50,\n",
    "    death_timeout=5.0,\n",
    "    memory=\"8GB\",\n",
    "    working_directory=\"/home/de64/scratch/de64/temp/dask\",\n",
    ")\n",
    "dask_controller.startdask()"
   ]
  },
  {
   "cell_type": "code",
   "execution_count": null,
   "id": "b103e21c-c926-4ac1-9d88-90cdf9c566e8",
   "metadata": {},
   "outputs": [],
   "source": [
    "dask_controller.displaydashboard()"
   ]
  },
  {
   "cell_type": "code",
   "execution_count": null,
   "id": "08051868-a079-468e-98f8-57c474b11b91",
   "metadata": {},
   "outputs": [],
   "source": [
    "# dask_controller.shutdown()"
   ]
  },
  {
   "cell_type": "markdown",
   "id": "239a92f8-3407-4536-97db-e1e2b0325c98",
   "metadata": {},
   "source": [
    "#### Import Dataframe"
   ]
  },
  {
   "cell_type": "code",
   "execution_count": null,
   "id": "f0bdac49-eae6-4aa0-a2e8-1aacfe42d2f2",
   "metadata": {
    "tags": []
   },
   "outputs": [],
   "source": [
    "final_output_df = dd.read_parquet(\n",
    "    \"/home/de64/scratch/de64/sync_folder/2021-10-21_lDE15_Final_1/2021-11-17_lDE15_Analysis\",\n",
    "    engine=\"pyarrow\",\n",
    ")\n",
    "# final_output_df = final_output_df.dropna(subset=[\"final timepoints\",'Mean Exponential Growth Rate: area','Birth: minor_axis_length',\"Birth: Surface Area\"])\n",
    "final_output_df = (\n",
    "    final_output_df.reset_index()\n",
    "    .set_index(\"phenotype trenchid\", sorted=False)\n",
    "    .persist()\n",
    ")"
   ]
  },
  {
   "cell_type": "markdown",
   "id": "4a920bda-0c4f-472c-9881-0d7134c72b88",
   "metadata": {},
   "source": [
    "\n",
    "#### Filter for \"Normal\" mCherry Intensity and Area\n",
    "\n",
    "go back later to make sure i have the area quantification\n",
    "\n",
    "1) Fit a gaussian model to each of the specified feature params during the first t timepoints of the experiment (using a subsample for speed) \n",
    "2) Compute a normalized probability trenchwise for these features under the gaussian model, during the first t timepoints of the experiment\n",
    "3) Eliminate trenches that are under some p percentile value of this probability for each feature\n",
    "4) Display histograms for each property as well as the resulting theshold"
   ]
  },
  {
   "cell_type": "code",
   "execution_count": null,
   "id": "b24354b3-2633-4229-9180-02f6380a606b",
   "metadata": {},
   "outputs": [],
   "source": [
    "gaussian_subsample = 0.2\n",
    "percentile_threshold = 10\n",
    "\n",
    "filter_params = [\"RFP-Penta mean_intensity_wo_bkd\"]"
   ]
  },
  {
   "cell_type": "code",
   "execution_count": null,
   "id": "eac90c6a-1fe2-4839-8b69-91727fbd8c2a",
   "metadata": {},
   "outputs": [],
   "source": [
    "for filter_param in filter_params:\n",
    "    param_series = final_output_df[filter_param]\n",
    "    all_param_values = param_series.sample(frac=gaussian_subsample).compute().tolist()\n",
    "    gaussian_fit = sp.stats.norm.fit(all_param_values)\n",
    "    gaussian_fit = sp.stats.norm(loc=gaussian_fit[0], scale=gaussian_fit[1])\n",
    "\n",
    "    trench_probability = param_series.groupby(\"phenotype trenchid\").apply(\n",
    "        lambda x: np.exp(np.sum(gaussian_fit.logpdf(x)) / len(x)), meta=float\n",
    "    )\n",
    "\n",
    "    final_output_df[filter_param + \": Probability\"] = trench_probability.persist()\n",
    "\n",
    "final_output_df_onetrench = (\n",
    "    final_output_df.groupby(\"phenotype trenchid\").apply(lambda x: x.iloc[0]).compute()\n",
    ")\n",
    "\n",
    "values_names = [\"RFP-Penta mean_intensity_wo_bkd\"]\n",
    "plt.figure(figsize=(22, 16))\n",
    "query_list = []\n",
    "for i, filter_param in enumerate(filter_params):\n",
    "    prob_threshold = np.nanpercentile(\n",
    "        final_output_df_onetrench[filter_param + \": Probability\"].tolist(),\n",
    "        percentile_threshold,\n",
    "    )\n",
    "    query = \"`\" + filter_param + \": Probability` > \" + str(prob_threshold)\n",
    "    query_list.append(query)\n",
    "\n",
    "    min_v, max_v = (\n",
    "        np.min(final_output_df_onetrench[filter_param + \": Probability\"]),\n",
    "        np.max(final_output_df_onetrench[filter_param + \": Probability\"]),\n",
    "    )\n",
    "\n",
    "    plt.subplot(2, 3, i + 1)\n",
    "    plt.title(values_names[i], fontsize=22)\n",
    "    plt.xlabel(\"Unnormalized Likelihood\", fontsize=18)\n",
    "    plt.xticks(fontsize=18)\n",
    "    plt.yticks(fontsize=18)\n",
    "    plt.hist(\n",
    "        final_output_df_onetrench[\n",
    "            final_output_df_onetrench[filter_param + \": Probability\"] < prob_threshold\n",
    "        ][filter_param + \": Probability\"].tolist(),\n",
    "        bins=50,\n",
    "        range=(min_v, max_v),\n",
    "    )\n",
    "    plt.hist(\n",
    "        final_output_df_onetrench[\n",
    "            final_output_df_onetrench[filter_param + \": Probability\"] >= prob_threshold\n",
    "        ][filter_param + \": Probability\"].tolist(),\n",
    "        bins=50,\n",
    "        range=(min_v, max_v),\n",
    "    )\n",
    "plt.savefig(\"Prob_threshold.png\", dpi=500)\n",
    "\n",
    "compiled_query = \" and \".join(query_list)\n",
    "final_output_df_onetrench_filtered = final_output_df_onetrench.query(compiled_query)\n",
    "final_output_df_filtered = final_output_df.loc[\n",
    "    final_output_df_onetrench_filtered.index.tolist()\n",
    "].persist()"
   ]
  },
  {
   "cell_type": "code",
   "execution_count": null,
   "id": "1794b620-ef67-4d0e-953c-0ceefa0ffa8e",
   "metadata": {},
   "outputs": [],
   "source": [
    "final_output_df_filtered = final_output_df_filtered.reset_index().set_index(\n",
    "    \"File Parquet Index\", sorted=False\n",
    ")\n",
    "final_output_df_filtered = final_output_df_filtered.repartition(npartitions=500)\n",
    "final_output_df_filtered.to_parquet(\n",
    "    \"/home/de64/scratch/de64/sync_folder/2021-10-21_lDE15_Final_1/2021-11-17_lDE15_Analysis_Filtered\",\n",
    "    engine=\"pyarrow\",\n",
    "    overwrite=True,\n",
    ")"
   ]
  }
 ],
 "metadata": {
  "kernelspec": {
   "display_name": "Python 3",
   "language": "python",
   "name": "python3"
  },
  "language_info": {
   "codemirror_mode": {
    "name": "ipython",
    "version": 3
   },
   "file_extension": ".py",
   "mimetype": "text/x-python",
   "name": "python",
   "nbconvert_exporter": "python",
   "pygments_lexer": "ipython3",
   "version": "3.8.5"
  }
 },
 "nbformat": 4,
 "nbformat_minor": 5
}
