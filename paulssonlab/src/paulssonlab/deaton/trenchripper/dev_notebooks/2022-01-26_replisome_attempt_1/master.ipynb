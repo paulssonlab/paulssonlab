{
 "cells": [
  {
   "cell_type": "markdown",
   "id": "0",
   "metadata": {},
   "source": [
    "## Important Note\n",
    "\n",
    "Due to the current policy of SLURM schedulers to charge the full allocated time to the account fairshare (regardless of timeout), it is a good idea to refurbish the slurm scheduler to adopt a \"take and hold\" approach to O2 resources since you get penalized for time that you request but do not use making allocation of resources later in the day (after running one or two steps) more difficult.\n",
    "\n",
    "The primary piece of code that would need to be written for a take and hold model would need to include the following:\n",
    "\n",
    "- More sophisticated memory clearing of the dask_controller object (total memory clearing without a restart that leads to crashes) THIS FIRST \n",
    "- Rule-based adjustments of chunk sizes to limit per-node memory use to make sure a flat memory request can be made at cluster initialization"
   ]
  },
  {
   "cell_type": "markdown",
   "id": "1",
   "metadata": {},
   "source": [
    "# Introduction\n",
    "\n",
    "This notebook contains the entire `TrenchRipper` pipline, divided into simple steps. This pipline is ideal for Mother <br>Machine image data where cells possess fluorescent segmentation markers. Segmentation on phase or brightfield data <br>is being developed, but is still an experimental feature.\n",
    "\n",
    "The steps in this pipeline are as follows:\n",
    "1. Extracting your Mother Machine data (.nd2) into hdf5 format\n",
    "2. Identifying and cropping individual trenches into kymographs\n",
    "3. Segmenting cells with a fluorescent marker\n",
    "4. Determining lineages and object properties\n",
    "\n",
    "In each step, the user will dynamically specify parameters using a series of interactive diagnostics on their dataset. <br>Following this, a parameter file will be written to disk and then used to deploy a parallel computation on the <br>dataset, either locally or on a SLURM cluster.\n",
    "\n",
    "\n",
    "This is intended as an end-to-end solution to analyzing Mother Machine data. As such, **it is not trivial to plug data <br>directly into intermediate steps**, as it will lack the correct formatting and associated metadata. A notable <br>exception to this is using another program to segment data. The library references binary segmentation masks using <br>only metadata derived from their associated kymographs. As such, it is possible to generate segmentations on these <br>kymographs elsewhere and place them into the segmentation data path to have `TrenchRipper` act on those <br>segmentations instead. More on this in the segmentation section..."
   ]
  },
  {
   "cell_type": "markdown",
   "id": "2",
   "metadata": {},
   "source": [
    "#### Imports\n",
    "\n",
    "Run this section to import all relavent packages and libraries used in this notebook. You must run this everytime you open a new python kernel."
   ]
  },
  {
   "cell_type": "code",
   "execution_count": null,
   "id": "3",
   "metadata": {},
   "outputs": [],
   "source": [
    "import warnings\n",
    "\n",
    "import paulssonlab.deaton.trenchripper.trenchripper as tr\n",
    "\n",
    "warnings.filterwarnings(action=\"once\")\n",
    "\n",
    "import matplotlib\n",
    "\n",
    "matplotlib.rcParams[\"figure.figsize\"] = [20, 10]"
   ]
  },
  {
   "cell_type": "code",
   "execution_count": null,
   "id": "4",
   "metadata": {},
   "outputs": [],
   "source": [
    "# addition of active memory manager\n",
    "import dask\n",
    "\n",
    "dask.config.set({\"distributed.scheduler.active-memory-manager.start\": True})\n",
    "dask.config.set({\"distributed.scheduler.worker-ttl\": \"5m\"})\n",
    "dask.config.set({\"distributed.scheduler.allowed-failures\": 100})"
   ]
  },
  {
   "cell_type": "markdown",
   "id": "5",
   "metadata": {
    "tags": []
   },
   "source": [
    "# Part 1: Growth/Division"
   ]
  },
  {
   "cell_type": "markdown",
   "id": "6",
   "metadata": {},
   "source": [
    "#### Specify Paths\n",
    "\n",
    "Begin by defining the directory in which all processing will be done, as well as the initial nd2 file we will be <br>processing. This line should be run everytime you open a new python kernel.\n",
    "\n",
    "The format should be: `headpath = \"/path/to/folder\"` and `nd2file = \"/path/to/file.nd2\"`\n",
    "\n",
    "For example:\n",
    "```\n",
    "headpath = \"/n/scratch2/de64/2019-05-31_validation_data\"\n",
    "nd2file = \"/n/scratch2/de64/2019-05-31_validation_data/Main_Experiment.nd2\"\n",
    "```\n",
    "\n",
    "Ideally, these files should be placed in a storage location with relatively fast I/O"
   ]
  },
  {
   "cell_type": "code",
   "execution_count": null,
   "id": "7",
   "metadata": {},
   "outputs": [],
   "source": [
    "headpath = \"/home/de64/scratch/de64/sync_folder/2022-01-23_DE511_test/\"\n",
    "nd2file = \"/home/de64/scratch/de64/sync_folder/2022-01-23_DE511_test/Experiment.nd2\""
   ]
  },
  {
   "cell_type": "markdown",
   "id": "8",
   "metadata": {},
   "source": [
    "## Extract to hdf5 files\n",
    "\n",
    "In this section, we will be extracting our image data. Currently this notebook only supports `.nd2` format; however <br>there are `.tiff` extractors in the TrenchRipper source files that are being added to `Master.ipynb` soon.\n",
    "\n",
    "In the abstract, this step will take a single `.nd2` file and split it into a set of `.hdf5` files stored in <br>`headpath/hdf5`. Splitting the file up in this way will facilitate quick procesing in later steps. Each field of <br>view will be split into one or more `.hdf5` files, depending on the number of images per file requested (more on <br>this later). \n",
    "\n",
    "To keep track of which output files correspond to which FOVs, as well as to keep track of experiment metadata, the <br>extractor also outputs a `metadata.hdf5` file in the `headpath` folder. The data from this step is accessible in <br>that `metadata.hdf5` file under the `global` key. If you would like to look at this metadata, you may use the <br>`tr.utils.pandas_hdf5_handler` to read from this file. Later steps will add additional metadata under different <br>keys into the `metadata.hdf5` file."
   ]
  },
  {
   "cell_type": "markdown",
   "id": "9",
   "metadata": {},
   "source": [
    "#### Start Dask Workers\n",
    "\n",
    "First, we start a `dask_controller` instance which will handle all of our parallel processing. The default parameters <br>here work well on O2. The critical arguments here are:\n",
    "\n",
    "**walltime** : For a cluster, the length of time you will request each node for.\n",
    "\n",
    "**local** : `True` if you want to perform computation locally. `False` if you want to perform it on a SLURM cluster.\n",
    "\n",
    "**n_workers** : Number of nodes to request if on the cluster, or number of processes if computing locally.\n",
    "\n",
    "**memory** : For a cluster, the amount of memory you will request each node for.\n",
    "\n",
    "**working_directory** : For a cluster, the directory in which data will be spilled to disk. Usually set as a folder in <br>the `headpath`."
   ]
  },
  {
   "cell_type": "code",
   "execution_count": null,
   "id": "10",
   "metadata": {},
   "outputs": [],
   "source": [
    "dask_controller = tr.trcluster.dask_controller(\n",
    "    walltime=\"1:00:00\",\n",
    "    local=False,\n",
    "    n_workers=100,\n",
    "    n_workers_min=20,\n",
    "    memory=\"4GB\",\n",
    "    working_directory=\"/home/de64/scratch/de64/dask\",\n",
    ")\n",
    "dask_controller.startdask()"
   ]
  },
  {
   "cell_type": "markdown",
   "id": "11",
   "metadata": {},
   "source": [
    "After running the above line, you will have a running Dask client. Run the line below and click the link to supervise <br>the computation being administered by the scheduler. \n",
    "\n",
    "Don't be alarmed if the screen starts mostly blank, it may take time for your workers to spin up. If you get a 404 <br>error on a cluster, it is likely that your ports are not being forwarded properly. If this occurs, please register <br>the issue on github."
   ]
  },
  {
   "cell_type": "code",
   "execution_count": null,
   "id": "12",
   "metadata": {},
   "outputs": [],
   "source": [
    "dask_controller.daskclient"
   ]
  },
  {
   "cell_type": "markdown",
   "id": "13",
   "metadata": {},
   "source": [
    "##### Perform Extraction\n",
    "\n",
    "Now that we have our cluster scheduler spun up, it is time to convert files. This will be handled by the <br>`hdf5_extractor` object. This extractor will pull up each FOV and split it such that each derived `.hdf5` file <br>contains, at maximum, N timepoints of that FOV per file. The image data stored in these files takes the <br>form of `(N,Y,X)` arrays that are accessible using the desired channel name as a key. \n",
    "\n",
    "The arguments for this extractor are:\n",
    "\n",
    " - **nd2file** : The filepath to the `.nd2` file you intend to extract.\n",
    " \n",
    " - **headpath** : The folder in which processing is occuring. Should be the same for each step in the pipeline.\n",
    "\n",
    " - **tpts_per_file** : The maximum number of timepoints stored in each output `.hdf5` file. Typical values are between 25 <br>and 100.\n",
    "\n",
    " - **ignore_fovmetadata** : Used when `.nd2` data is corrupted and does not possess records for stage positions or <br>timepoints. Only set `False` if the extractor throws errors on metadata handling.\n",
    "\n",
    " - **nd2reader_override** : Overrides values in metadata recovered using the `nd2reader`. Currently set to <br>`{\"z_levels\":[],\"z_coordinates\":[]}` by default to correct a known issue where z coordinates are mistakenly <br>interpreted as a z stack. See the [nd2reader](https://rbnvrw.github.io/nd2reader/) documentation for more info."
   ]
  },
  {
   "cell_type": "code",
   "execution_count": null,
   "id": "14",
   "metadata": {},
   "outputs": [],
   "source": [
    "hdf5_extractor = tr.ndextract.hdf5_fov_extractor(\n",
    "    nd2file,\n",
    "    headpath,\n",
    "    tpts_per_file=50,\n",
    "    ignore_fovmetadata=False,\n",
    "    nd2reader_override={\"z_levels\": [], \"z_coordinates\": []},\n",
    ")"
   ]
  },
  {
   "cell_type": "markdown",
   "id": "15",
   "metadata": {
    "tags": []
   },
   "source": [
    "##### Extraction Parameters\n",
    "\n",
    "Here, you may set the time interval you want to extract. Useful for cropping data to the period exhibiting the dynamics of interest.\n",
    "\n",
    "Optionally take notes to add to the `metadata.hdf5` file. Notes may also be taken directly in this notebook."
   ]
  },
  {
   "cell_type": "code",
   "execution_count": null,
   "id": "16",
   "metadata": {},
   "outputs": [],
   "source": [
    "hdf5_extractor.inter_set_params()"
   ]
  },
  {
   "cell_type": "code",
   "execution_count": null,
   "id": "17",
   "metadata": {},
   "outputs": [],
   "source": [
    "hdf5_extractor.inter_set_flatfieldpaths()"
   ]
  },
  {
   "cell_type": "markdown",
   "id": "18",
   "metadata": {},
   "source": [
    "##### Begin Extraction \n",
    "\n",
    "Running the following line will start the extraction process. This may be monitored by examining the `Dask Dashboard` <br> under the link displayed earlier. Once the computation is complete, move to the next line.\n",
    "\n",
    "This step may take a long time, though it is possible to speed it up using additional workers."
   ]
  },
  {
   "cell_type": "code",
   "execution_count": null,
   "id": "19",
   "metadata": {},
   "outputs": [],
   "source": [
    "hdf5_extractor.extract(dask_controller)"
   ]
  },
  {
   "cell_type": "code",
   "execution_count": null,
   "id": "20",
   "metadata": {},
   "outputs": [],
   "source": [
    "dask_controller.daskclient.restart()"
   ]
  },
  {
   "cell_type": "code",
   "execution_count": null,
   "id": "21",
   "metadata": {
    "tags": []
   },
   "outputs": [],
   "source": [
    "dask_controller.shutdown()"
   ]
  },
  {
   "cell_type": "markdown",
   "id": "22",
   "metadata": {},
   "source": [
    "## Kymographs\n",
    "\n",
    "Now that you have extracted your data into a series of `.hdf5` files, we will now perform identification and cropping <br>of the individual trenches/growth channels present in the images. This algorithm assumes that your growth trenches <br>are vertically aligned and that they alternate in their orientation from top to bottom. See the example image for the <br>correct geometry:\n",
    "\n",
    "![example_image](./resources/example_image.jpg)\n",
    "\n",
    "The output of this step will be a set of `.hdf5` files stored in `headpath/kymograph`. The image data stored in these <br>files takes the form of `(K,T,Y,X)` arrays where K is the trench index, T is time, and Y,X are the crop dimensions. <br>These arrays are accessible using keys of the form `\"[Image Channel]\"`. For example, looking up phase channel <br>data of trenches in the topmost row of an image will require the key `\"Phase\"`"
   ]
  },
  {
   "cell_type": "markdown",
   "id": "23",
   "metadata": {},
   "source": [
    "[ '/n/scratch3/users/d/de64/190917_20x_phase_gfp_segmentation002',\n",
    " '/n/scratch3/users/d/de64/190922_20x_phase_gfp_segmentation',\n",
    " '/n/scratch3/users/d/de64/190925_20x_phase_yfp_segmentation',\n",
    " '/n/scratch3/users/d/de64/ezrdm_training_sb7',\n",
    " '/n/scratch3/users/d/de64/mbm_training_sb7',\n",
    " '/n/scratch3/users/d/de64/Sb7_L35',\n",
    " '/n/scratch3/users/d/de64/MM_DVCvecto_TOP_1_9',\n",
    " '/n/scratch3/users/d/de64/Vibrio_2_1_TOP',\n",
    " '/n/scratch3/users/d/de64/Vibrio_A_B_VZRDM--04--RUN_80ms',\n",
    " '/n/scratch3/users/d/de64/RpoSOutliers_WT_hipQ_100X',\n",
    " '/n/scratch3/users/d/de64/Main_Experiment',\n",
    " '/n/scratch3/users/d/de64/bde17_gotime']"
   ]
  },
  {
   "cell_type": "markdown",
   "id": "24",
   "metadata": {},
   "source": [
    "### Test Parameters\n",
    "\n"
   ]
  },
  {
   "cell_type": "markdown",
   "id": "25",
   "metadata": {
    "toc-hr-collapsed": false
   },
   "source": [
    "##### Initialize the interactive kymograph class\n",
    "\n",
    "As a first step, initialize the `tr.interactive.kymograph_interactive` class that will be help us choose the <br>parameters we will use to generate kymographs. "
   ]
  },
  {
   "cell_type": "code",
   "execution_count": null,
   "id": "26",
   "metadata": {},
   "outputs": [],
   "source": [
    "interactive_kymograph = tr.kymograph_interactive(headpath)"
   ]
  },
  {
   "cell_type": "code",
   "execution_count": null,
   "id": "27",
   "metadata": {
    "tags": []
   },
   "outputs": [],
   "source": [
    "viewer = tr.hdf5_viewer(headpath, persist_data=False)"
   ]
  },
  {
   "cell_type": "markdown",
   "id": "28",
   "metadata": {},
   "source": [
    "##### Examine Images\n",
    "\n",
    "Here you can manually inspect images before beginning parameter tuning."
   ]
  },
  {
   "cell_type": "code",
   "execution_count": null,
   "id": "29",
   "metadata": {},
   "outputs": [],
   "source": [
    "viewer.view(width=1200)"
   ]
  },
  {
   "cell_type": "markdown",
   "id": "30",
   "metadata": {},
   "source": [
    "You will now want to select a few test FOVs to try out parameters on, the channel you want to detect trenches on, and <br>the time interval on which you will perform your processing.\n",
    "\n",
    "The arguments for this step are:\n",
    "\n",
    "- **seg_channel (string)** : The channel name that you would like to segment on.\n",
    "\n",
    "- **invert (list)** : Whether or not you want to invert the image before detecting trenches. By default, it is assumed that <br>the trenches have a high pixel intensity relative to the background. This should be the case for Phase Contrast and <br>Fluorescence Imageing, but may not be the case for Brightfield Imaging, in which case you will want to invert the image.\n",
    "\n",
    "- **fov_list (list)** : List of integers corresponding to the FOVs that you wish to make test kymographs of.\n",
    "\n",
    "- **t_subsample_step (int)** : Step size to be used for subsampling input files in time, recommend that subsampling results in <br>between 5 and 10 timepoints for quick processing.\n",
    "\n",
    "Hit the \"Run Interact\" button to lock in your parameters. The button will become transparent briefly and become solid again <br>when processing is complete. After that has occured, move on to the next step. "
   ]
  },
  {
   "cell_type": "code",
   "execution_count": null,
   "id": "31",
   "metadata": {},
   "outputs": [],
   "source": [
    "interactive_kymograph.import_hdf5_interactive()"
   ]
  },
  {
   "cell_type": "markdown",
   "id": "32",
   "metadata": {
    "tags": []
   },
   "source": [
    "##### Tune \"trench-row\" detection hyperparameters\n",
    "\n",
    "The kymograph code begins by detecting the positions of trench rows in the image as follows:\n",
    "\n",
    "1. Reducing each 2D image to a 1D signal along the y-axis by computing the qth percentile of the data along the x-axis\n",
    "2. Smooth this signal using a median kernel\n",
    "3. Normalize the signal by linearly scaling 0. and 1. to the minimum and maximum, respectively\n",
    "4. Use a set threshold to determine the trench row poisitons\n",
    "\n",
    "The arguments for this step are:\n",
    "\n",
    " - **y_percentile (int)** : Percentile to use for step 1.\n",
    "\n",
    " - **smoothing_kernel_y_dim_0 (int)** : Median kernel size to use for step 2.\n",
    "\n",
    " - **y_percentile_threshold (float)** : Threshold to use in step 4.\n",
    "\n",
    "Running the following widget will display the smoothed 1-D signal for each of your timepoints. In addition, the threshold <br>value for each fov will be displayed as a red line."
   ]
  },
  {
   "cell_type": "code",
   "execution_count": null,
   "id": "33",
   "metadata": {},
   "outputs": [],
   "source": [
    "interactive_kymograph.preview_y_precentiles_interactive()"
   ]
  },
  {
   "cell_type": "markdown",
   "id": "34",
   "metadata": {},
   "source": [
    "##### Tune \"trench-row\" cropping hyperparameters\n",
    "\n",
    "Next, we will use the detected rows to perform cropping of the input image in the y-dimension:\n",
    "\n",
    "1. Determine edges of trench rows based on threshold mask.\n",
    "2. Filter out rows that are too small.\n",
    "3. Use the remaining rows to compute the drift in y in each image.\n",
    "4. Apply the drift to the initally detected rows to get rows in all timepoints.\n",
    "5. Perform cropping using the \"end\" of the row as reference (the end referring to the part of the trench farthest from <br>the feeding channel).\n",
    "\n",
    "Step 5 performs a simple algorithm to determine the orientation of each trench:\n",
    "\n",
    "```\n",
    "row_orientations = [] # A list of row orientations, starting from the topmost row\n",
    "if the number of detected rows == 'Number of Rows': \n",
    "    row_orientations.append('Orientation')\n",
    "elif the number of detected rows < 'Number of Rows':\n",
    "    row_orientations.append('Orientation when < expected rows')\n",
    "for row in rows:\n",
    "    if row_orientations[-1] == downward:\n",
    "        row_orientations.append(upward)\n",
    "    elif row_orientations[-1] == upward:\n",
    "        row_orientations.append(downward)\n",
    "```\n",
    "\n",
    "Additionally, if the device tranches face a single direction, alternation of row orientation may be turned off by setting the<br> `Alternate Orientation?` argument to False. The `Use Median Drift?` argument, when set to True, will use the<br> median drift in y across all FOVs for drift correction, instead of doing drift correction independently for all FOVs. <br>This can be useful if there are a large fraction of FOVs which are failing drift correction. Note that `Use Median Drift?` <br>sets this behavior for both y and x drift correction.\n",
    "\n",
    "The arguments for this step are:\n",
    "\n",
    " - **y_min_edge_dist (int)** : Minimum row length necessary for detection (filters out small detected objects).\n",
    "\n",
    " - **padding_y (int)** : Padding to add to the end of trench row when cropping in the y-dimension.\n",
    "\n",
    " - **trench_len_y (int)** : Length from the end of each trench row to the feeding channel side of the crop.\n",
    "\n",
    " - **Number of Rows (int)** : The number of rows to expect in your image. For instance, two in the example image.\n",
    " \n",
    " - **Alternate Orientation? (bool)** : Whether or not to alternate the orientation of consecutive rows.\n",
    "\n",
    " - **Orientation (int)** : The orientation of the top-most row where 0 corresponds to a trench with a downward-oriented trench <br>opening and 1 corresponds to a trench with an upward-oriented trench opening.\n",
    "\n",
    " - **Orientation when < expected rows(int)** : The orientation of the top-most row when the number of detected rows is less than <br>expected. Useful if your trenches drift out of your image in some FOVs.\n",
    " \n",
    " - **Use Median Drift? (bool)** : Whether to use the median detected drift across all FOVs, instead of the drift detected in each FOV individually.\n",
    "\n",
    " - **images_per_row(int)** : How many images to output per row for this widget.\n",
    "\n",
    "Running the following widget will display y-cropped images for each fov and timepoint."
   ]
  },
  {
   "cell_type": "code",
   "execution_count": null,
   "id": "35",
   "metadata": {},
   "outputs": [],
   "source": [
    "interactive_kymograph.preview_y_precentiles_consensus_interactive()"
   ]
  },
  {
   "cell_type": "code",
   "execution_count": null,
   "id": "36",
   "metadata": {},
   "outputs": [],
   "source": [
    "interactive_kymograph.preview_y_crop_interactive()"
   ]
  },
  {
   "cell_type": "markdown",
   "id": "37",
   "metadata": {},
   "source": [
    "##### Tune trench detection hyperparameters\n",
    "\n",
    "Next, we will detect the positions of trenchs in the y-cropped images as follows:\n",
    "\n",
    "1. Reducing each 2D image to a 1D signal along the x-axis by computing the qth percentile of the data along the y-axis.\n",
    "2. Determine the signal background by smoothing this signal using a large median kernel.\n",
    "3. Subtract the background signal.\n",
    "4. Smooth the resultant signal using a median kernel.\n",
    "5. Use an [otsu threhsold](https://imagej.net/Auto_Threshold#Otsu) to determine the trench midpoint poisitons.\n",
    "\n",
    "After this, x-dimension drift correction of our detected midpoints will be performed as follows:\n",
    "\n",
    "6. Begin at t=1\n",
    "7. For $m \\in \\{midpoints(t)\\}$ assign $n \\in \\{midpoints(t-1)\\}$ to m if n is the closest midpoint to m at time $t-1$,<br>\n",
    "points that are not the closest midpoint to any midpoints in m will not be mapped.\n",
    "8. Compute the translation of each midpoint at time.\n",
    "9. Take the average of this value as the x-dimension drift from time t-1 to t.\n",
    "\n",
    "The arguments for this step are:\n",
    "\n",
    " - **t (int)** : Timepoint to examine the percentiles and threshold in.\n",
    "\n",
    " - **x_percentile (int)** : Percentile to use for step 1.\n",
    "\n",
    " - **background_kernel_x (int)** : Median kernel size to use for step 2.\n",
    "\n",
    " - **smoothing_kernel_x (int)** : Median kernel size to use for step 4.\n",
    "\n",
    " - **otsu_scaling (float)** : Scaling factor to apply to the threshold determined by Otsu's method.\n",
    "\n",
    "Running the following widget will display the smoothed 1-D signal for each of your timepoints. In addition, the threshold <br>value for each fov will be displayed as a red line. In addition, it will display the detected midpoints for each of your timepoints. <br>If there is too much sparsity, or discontinuity, your drift correction will not be accurate."
   ]
  },
  {
   "cell_type": "code",
   "execution_count": null,
   "id": "38",
   "metadata": {},
   "outputs": [],
   "source": [
    "interactive_kymograph.preview_x_percentiles_interactive()"
   ]
  },
  {
   "cell_type": "markdown",
   "id": "39",
   "metadata": {},
   "source": [
    "##### Tune trench cropping hyperparameters\n",
    "\n",
    "Trench cropping simply uses the drift-corrected midpoints as a reference and crops out some fixed length around them <br>\n",
    "to produce an output kymograph. **Note that the current implementation does not allow trench crops to overlap**. If your<br>\n",
    "trench crops do overlap, the error will not be caught here, but will cause issues later in the pipeline. As such, try <br>\n",
    "to crop your trenches as closely as possible. This issue will be fixed in a later update.\n",
    "\n",
    "The arguments for this step are:\n",
    "\n",
    " - **trench_width_x (int)** : Trench width to use for cropping.\n",
    "\n",
    " - **trench_present_thr (float)** : Trenches that appear in less than this percent of FOVs will be eliminated from the dataset.<br>\n",
    "If not removed, missing positions will be inferred from the image drift.\n",
    "\n",
    " - **Use Median Drift? (bool)** : Whether to use the median detected drift across all FOVs, instead of the drift detected in each FOV individually.\n",
    "\n",
    "\n",
    "Running the following widget will display a random kymograph for each row in each fov and will also produce midpoint plots <br>showing retained midpoints"
   ]
  },
  {
   "cell_type": "code",
   "execution_count": null,
   "id": "40",
   "metadata": {},
   "outputs": [],
   "source": [
    "interactive_kymograph.preview_kymographs_interactive()"
   ]
  },
  {
   "cell_type": "markdown",
   "id": "41",
   "metadata": {},
   "source": [
    "##### Export and save hyperparameters\n",
    "\n",
    "Run the following line to register and display the parameters you have selected for kymograph creation."
   ]
  },
  {
   "cell_type": "code",
   "execution_count": null,
   "id": "42",
   "metadata": {},
   "outputs": [],
   "source": [
    "interactive_kymograph.process_results()"
   ]
  },
  {
   "cell_type": "markdown",
   "id": "43",
   "metadata": {},
   "source": [
    "If you are satisfied with the above parameters, run the following line to write these parameters to disk at `headpath/kymograph.par`<br>\n",
    "This file will be used to perform kymograph creation in the next section."
   ]
  },
  {
   "cell_type": "code",
   "execution_count": null,
   "id": "44",
   "metadata": {},
   "outputs": [],
   "source": [
    "interactive_kymograph.write_param_file()"
   ]
  },
  {
   "cell_type": "markdown",
   "id": "45",
   "metadata": {},
   "source": [
    "## Notes on improved scheduling\n",
    "\n",
    "Make a utility that will be able to run analysis steps without intervention from the ipynb, so things can be run as \"fire and forget\"\n",
    "\n",
    "I will start by adapting this to the simple single step case of the lineage trace. In order to fire off an independent job that will deploy, maintain and close the cluster dynamically for a single application I need the following information from the process:\n",
    "\n",
    "- The estimated time for the process to complete so that the scheduler head knows how long it needs to be queued up\n",
    "- The estimated minimum memory in the pool to execute the task successfully\n",
    "\n",
    "I should be able to get this information as a method from the process.\n",
    "\n",
    "In addition, this scheduler should attempt to minimally impact my fairshare. Features that would promote this would be:\n",
    "\n",
    "- Don't overschedule the time usage of the process. Queue up workers with short wall times (30 mins) and just maintain a constant target size. Currently implementing this...\n",
    "- Setting some kind of minimum worker number to ensure progression requires the proper amount of memory to be in place. Try setting the adaptive minimum based on memory considerations. Forget this for now, the adaptive scheduler might be able to handle this...\n",
    "\n",
    "Implement headless scheduler with fixed resources and task before integrating with the requirement of the job itself...\n",
    "\n",
    "Headless scheduler doesn't seem worth it....continue using with the adaptive scheduling adjustment and see if that helps...\n",
    "\n",
    "Couldnt find an easy way to dynamically adapt the memory per worker"
   ]
  },
  {
   "cell_type": "markdown",
   "id": "46",
   "metadata": {},
   "source": [
    "### Generate Kymograph"
   ]
  },
  {
   "cell_type": "markdown",
   "id": "47",
   "metadata": {},
   "source": [
    "##### Start Dask Workers\n",
    "\n",
    "Again, we start a `dask_controller` instance which will handle all of our parallel processing. The default parameters <br>here work well on O2 for kymograph creation. The critical arguments here are:\n",
    "\n",
    "**walltime** : For a cluster, the length of time you will request each node for.\n",
    "\n",
    "**local** : `True` if you want to perform computation locally. `False` if you want to perform it on a SLURM cluster.\n",
    "\n",
    "**n_workers** : Number of nodes to request if on the cluster, or number of processes if computing locally.\n",
    "\n",
    "**memory** : For a cluster, the amount of memory you will request each node for.\n",
    "\n",
    "**working_directory** : For a cluster, the directory in which data will be spilled to disk. Usually set as a folder in <br>the `headpath`."
   ]
  },
  {
   "cell_type": "markdown",
   "id": "48",
   "metadata": {},
   "source": [
    "After running the above line, you will have a running Dask client. Run the line below and click the link to supervise <br>the computation being administered by the scheduler. \n",
    "\n",
    "Don't be alarmed if the screen starts mostly blank, it may take time for your workers to spin up. If you get a 404 <br>error on a cluster, it is likely that your ports are not being forwarded properly. If this occurs, please register <br>the issue on github."
   ]
  },
  {
   "cell_type": "markdown",
   "id": "49",
   "metadata": {},
   "source": [
    "##### Perform Kymograph Cropping\n",
    "\n",
    "Now that we have our cluster scheduler spun up, we will extract kymographs using the parameters stored in `headpath/kymograph.par`. <br>\n",
    "This will be handled by the `kymograph_cluster` object. This will detect trenches in all of the files present in `headpath/hdf5` that <br>\n",
    "you created in the first step. It will then crop these trenches and place the crops in a series of `.hdf5` files in `headpath/kymograph`. <br>\n",
    "These files will store image data in the form of `(K,T,Y,X)` arrays where K is the trench index, T is time and Y,X are the image dimensions <br>\n",
    "of the crop.\n",
    "\n",
    "The arguments for this step are:\n",
    "\n",
    " - **headpath** : The folder in which processing is occuring. Should be the same for each step in the pipeline.\n",
    "\n",
    " - **trenches_per_file** : The maximum number of trenches stored in each output `.hdf5` file. Typical values are between 25 <br>and 100.\n",
    "\n",
    " - **paramfile** : Set to true if you want to use parameters from `headpath/kymograph.par` Otherwise, you will have to specify <br>\n",
    " parameters as direct arguments to `kymograph_cluster`."
   ]
  },
  {
   "cell_type": "code",
   "execution_count": null,
   "id": "50",
   "metadata": {},
   "outputs": [],
   "source": [
    "kymoclust = tr.kymograph.kymograph_cluster(headpath=headpath, paramfile=True)"
   ]
  },
  {
   "cell_type": "markdown",
   "id": "51",
   "metadata": {},
   "source": [
    "##### Begin Kymograph Cropping \n",
    "\n",
    "Running the following line will start the cropping process. This may be monitored by examining the `Dask Dashboard` <br>\n",
    "under the link displayed earlier. Once the computation is complete, move to the next line.\n",
    "\n",
    "**Do not move on until all tasks are displayed as 'in memory' in Dask.**"
   ]
  },
  {
   "cell_type": "code",
   "execution_count": null,
   "id": "52",
   "metadata": {
    "tags": []
   },
   "outputs": [],
   "source": [
    "kymoclust.generate_kymographs(dask_controller)"
   ]
  },
  {
   "cell_type": "code",
   "execution_count": null,
   "id": "53",
   "metadata": {},
   "outputs": [],
   "source": [
    "ff = tr.focus_filter(headpath)"
   ]
  },
  {
   "cell_type": "code",
   "execution_count": null,
   "id": "54",
   "metadata": {},
   "outputs": [],
   "source": [
    "ff.choose_filter_channel_inter()"
   ]
  },
  {
   "cell_type": "code",
   "execution_count": null,
   "id": "55",
   "metadata": {
    "tags": []
   },
   "outputs": [],
   "source": [
    "ff.plot_histograms(intensity_range=(0, 1500))"
   ]
  },
  {
   "cell_type": "code",
   "execution_count": null,
   "id": "56",
   "metadata": {},
   "outputs": [],
   "source": [
    "ff.plot_focus_threshold_inter()"
   ]
  },
  {
   "cell_type": "code",
   "execution_count": null,
   "id": "57",
   "metadata": {},
   "outputs": [],
   "source": [
    "ff.write_param_file()"
   ]
  },
  {
   "cell_type": "markdown",
   "id": "58",
   "metadata": {},
   "source": [
    "##### Post-process Images\n",
    "\n",
    "After the above step, kymographs will have been created for each `.hdf5` input file. They will now need to be reorganized <br>\n",
    "into a new set of files such that each file has, at most, `trenches_per_file` trenches in each file.\n",
    "\n",
    "**Do not move on until all tasks are displayed as 'in memory' in Dask.**"
   ]
  },
  {
   "cell_type": "code",
   "execution_count": null,
   "id": "59",
   "metadata": {
    "tags": []
   },
   "outputs": [],
   "source": [
    "kymoclust.post_process(dask_controller, trench_timepoints_per_file=10000)"
   ]
  },
  {
   "cell_type": "markdown",
   "id": "60",
   "metadata": {},
   "source": [
    "##### Check kymograph statistics\n",
    "\n",
    "Run the next line to display some statistics from kymograph creation. The outputs are:\n",
    "\n",
    " - **fovs processed** : The number of FOVs successfully processed out of the total number of FOVs\n",
    " - **rows processed** : The number of rows of trenches processed out of the total number of rows\n",
    " - **trenches processed** : The number of trenches successfully processed\n",
    " - **row/fov** : The average number of rows successfully processed per FOV\n",
    " - **trenches/fov** : The average number of trenches successfully processed per FOV\n",
    " - **failed fovs** : A list of failed FOVs. Spot check these FOVs in the viewer to determine potential problems"
   ]
  },
  {
   "cell_type": "code",
   "execution_count": null,
   "id": "61",
   "metadata": {},
   "outputs": [],
   "source": [
    "kymoclust.kymo_report()"
   ]
  },
  {
   "cell_type": "markdown",
   "id": "62",
   "metadata": {},
   "source": [
    "##### Shutdown Dask\n",
    "\n",
    "Once cropping is complete, it is likely that you will want to shutdown your `dask_controller` if you are on a <br>\n",
    "cluster. This is because the specifications of the current `dask_controller` will not be optimal for later steps. <br>\n",
    "To do this, run the following line and wait for it to complete. If it hangs, interrupt your kernel and re-run it. <br>\n",
    "If this also fails to shutdown your workers, you will have to manually shut them down using `scancel` in a terminal."
   ]
  },
  {
   "cell_type": "code",
   "execution_count": null,
   "id": "63",
   "metadata": {},
   "outputs": [],
   "source": [
    "dask_controller.daskclient.restart()"
   ]
  },
  {
   "cell_type": "code",
   "execution_count": null,
   "id": "64",
   "metadata": {
    "tags": []
   },
   "outputs": [],
   "source": [
    "dask_controller.shutdown()"
   ]
  },
  {
   "cell_type": "markdown",
   "id": "65",
   "metadata": {},
   "source": [
    "## Fluorescence Segmentation\n",
    "\n",
    "Now that you have copped your data into kymographs, we will now perform segmentation/cell detection <br>\n",
    "on your kymographs. Currently, this pipeline only supports segmentation of fluorescence images; however, <br>\n",
    "segmentation of transmitted light imaging techniques is in development.\n",
    "\n",
    "The output of this step will be a set of `segmentation_[File #].hdf5` files stored in `headpath/fluorsegmentation`.<br>\n",
    "The image data stored in these files takes the exact same form as the kymograph data, `(K,T,Y,X)` arrays <br>\n",
    "where K is the trench index, T is time, and Y,X are the crop dimensions. These arrays are accessible using <br>\n",
    "keys of the form `\"[Trench Row Number]\"`.\n",
    "\n",
    "Since no metadata is generated by this step, it is possible to use another segmentation algorithm on the kymograph <br>\n",
    "data. The output of segmentation must be split into `segmentation_[File #].hdf5` files, where `[File #]` agrees with the<br>\n",
    "corresponding `kymograph_[File #].hdf5` file. Additionally, the `(K,T,Y,X)` arrays must be of the same shape as the <br>\n",
    "kymograph arrays and accessible at the corresponding `\"[Trench Row Number]\"` key. These files must be placed into <br>\n",
    "their own folder at `headpath/foldername`. This folder may then be used in later steps."
   ]
  },
  {
   "cell_type": "markdown",
   "id": "66",
   "metadata": {},
   "source": [
    "### Test Parameters"
   ]
  },
  {
   "cell_type": "markdown",
   "id": "67",
   "metadata": {},
   "source": [
    "##### Initialize the interactive segmentation class\n",
    "\n",
    "As a first step, initialize the `tr.fluo_segmentation_interactive` class that will be handling all steps of generating a segmentation. "
   ]
  },
  {
   "cell_type": "code",
   "execution_count": null,
   "id": "68",
   "metadata": {
    "tags": []
   },
   "outputs": [],
   "source": [
    "interactive_segmentation = tr.fluo_segmentation_interactive(headpath)"
   ]
  },
  {
   "cell_type": "markdown",
   "id": "69",
   "metadata": {},
   "source": [
    "##### Choose channel to segment on"
   ]
  },
  {
   "cell_type": "code",
   "execution_count": null,
   "id": "70",
   "metadata": {},
   "outputs": [],
   "source": [
    "interactive_segmentation.choose_seg_channel_inter()"
   ]
  },
  {
   "cell_type": "markdown",
   "id": "71",
   "metadata": {},
   "source": [
    "#### Import data\n",
    "\n",
    "Fill in \n",
    "\n",
    "You will need to tune the following `args` and `kwargs` (in order):\n",
    "\n",
    "**fov_idx (int)** :\n",
    "\n",
    "**n_trenches (int)** :\n",
    "\n",
    "**t_range (tuple)** :\n",
    "\n",
    "**t_subsample_step (int)** :"
   ]
  },
  {
   "cell_type": "code",
   "execution_count": null,
   "id": "72",
   "metadata": {},
   "outputs": [],
   "source": [
    "interactive_segmentation.import_array_inter()"
   ]
  },
  {
   "cell_type": "markdown",
   "id": "73",
   "metadata": {},
   "source": [
    "##### Process data"
   ]
  },
  {
   "cell_type": "code",
   "execution_count": null,
   "id": "74",
   "metadata": {},
   "outputs": [],
   "source": [
    "interactive_segmentation.plot_processed_inter()"
   ]
  },
  {
   "cell_type": "markdown",
   "id": "75",
   "metadata": {},
   "source": [
    "#### Determine Cell Mask Envelope\n",
    "\n",
    "Fill in.\n",
    "\n",
    "You will need to tune the following `args` and `kwargs` (in order):\n",
    "\n",
    "**cell_mask_method (str)** : Thresholding method, can be a local or global Otsu threshold.\n",
    "\n",
    "**cell_otsu_scaling (float)** : Scaling factor applied to determined threshold.\n",
    "\n",
    "**local_otsu_r (int)** : Radius of thresholding kernel used in the local otsu thresholding."
   ]
  },
  {
   "cell_type": "code",
   "execution_count": null,
   "id": "76",
   "metadata": {},
   "outputs": [],
   "source": [
    "Local Threshold Method: otsu\n",
    "Background Threshold Method: triangle\n",
    "Global Threshold: 20\n",
    "Local Window Size: 15\n",
    "Otsu Scaling: 1.0\n",
    "Niblack K: 0.2\n",
    "Background Threshold Scaling: 1.0\n",
    "Minimum Object Size: 20"
   ]
  },
  {
   "cell_type": "code",
   "execution_count": null,
   "id": "77",
   "metadata": {},
   "outputs": [],
   "source": [
    "interactive_segmentation.plot_cell_mask_inter()"
   ]
  },
  {
   "cell_type": "code",
   "execution_count": null,
   "id": "78",
   "metadata": {},
   "outputs": [],
   "source": [
    "interactive_segmentation.plot_eig_mask_inter()"
   ]
  },
  {
   "cell_type": "code",
   "execution_count": null,
   "id": "79",
   "metadata": {},
   "outputs": [],
   "source": [
    "interactive_segmentation.plot_dist_mask_inter()"
   ]
  },
  {
   "cell_type": "code",
   "execution_count": null,
   "id": "80",
   "metadata": {},
   "outputs": [],
   "source": [
    "interactive_segmentation.plot_marker_mask_inter()"
   ]
  },
  {
   "cell_type": "code",
   "execution_count": null,
   "id": "81",
   "metadata": {},
   "outputs": [],
   "source": [
    "interactive_segmentation.process_results()"
   ]
  },
  {
   "cell_type": "code",
   "execution_count": null,
   "id": "82",
   "metadata": {},
   "outputs": [],
   "source": [
    "interactive_segmentation.write_param_file()"
   ]
  },
  {
   "cell_type": "markdown",
   "id": "83",
   "metadata": {},
   "source": [
    "### Generate Segmentation"
   ]
  },
  {
   "cell_type": "code",
   "execution_count": null,
   "id": "84",
   "metadata": {},
   "outputs": [],
   "source": [
    "segment = tr.segment.fluo_segmentation_cluster(headpath, paramfile=True)"
   ]
  },
  {
   "cell_type": "code",
   "execution_count": null,
   "id": "85",
   "metadata": {
    "tags": []
   },
   "outputs": [],
   "source": [
    "segment.dask_segment(dask_controller)"
   ]
  },
  {
   "cell_type": "markdown",
   "id": "86",
   "metadata": {},
   "source": [
    "## Experimenting with ypet-dnaN analysis"
   ]
  },
  {
   "cell_type": "code",
   "execution_count": null,
   "id": "87",
   "metadata": {},
   "outputs": [],
   "source": [
    "import dask\n",
    "import dask.dataframe as dd\n",
    "import h5py\n",
    "import numpy as np\n",
    "import pandas as pd\n",
    "import skimage as sk\n",
    "from matplotlib import pyplot as plt"
   ]
  },
  {
   "cell_type": "code",
   "execution_count": null,
   "id": "88",
   "metadata": {},
   "outputs": [],
   "source": [
    "with h5py.File(\n",
    "    \"/home/de64/scratch/de64/sync_folder/2022-01-23_DE511_test/kymograph/kymograph_10.hdf5\",\n",
    "    \"r\",\n",
    ") as infile:\n",
    "    yfp_data = infile[\"YFP\"][:]\n",
    "with h5py.File(\n",
    "    \"/home/de64/scratch/de64/sync_folder/2022-01-23_DE511_test/fluorsegmentation/segmentation_10.hdf5\",\n",
    "    \"r\",\n",
    ") as infile:\n",
    "    seg_data = infile[\"data\"][:]"
   ]
  },
  {
   "cell_type": "code",
   "execution_count": null,
   "id": "89",
   "metadata": {},
   "outputs": [],
   "source": [
    "idx = 10\n",
    "\n",
    "yfp_handle = tr.kymo_handle()\n",
    "yfp_handle.import_wrap(yfp_data[idx])\n",
    "\n",
    "seg_handle = tr.kymo_handle()\n",
    "seg_handle.import_wrap(seg_data[idx])"
   ]
  },
  {
   "cell_type": "code",
   "execution_count": null,
   "id": "90",
   "metadata": {},
   "outputs": [],
   "source": [
    "plt.imshow(yfp_handle.return_unwrap())"
   ]
  },
  {
   "cell_type": "code",
   "execution_count": null,
   "id": "91",
   "metadata": {},
   "outputs": [],
   "source": [
    "plt.imshow(seg_handle.return_unwrap())"
   ]
  },
  {
   "cell_type": "markdown",
   "id": "92",
   "metadata": {},
   "source": [
    "### a) Making fork plots (basic)\n"
   ]
  },
  {
   "cell_type": "markdown",
   "id": "93",
   "metadata": {
    "tags": []
   },
   "source": [
    "orientationfloat\n",
    "Angle between the 0th axis (rows) and the major axis of the ellipse that has the same second moments as the region, ranging from -pi/2 to pi/2 counter-clockwise."
   ]
  },
  {
   "cell_type": "markdown",
   "id": "94",
   "metadata": {},
   "source": [
    "skimage.transform.rotate(image, angle, resize=False, center=None, order=None, mode='constant', cval=0, clip=True, preserve_range=False)"
   ]
  },
  {
   "cell_type": "code",
   "execution_count": null,
   "id": "95",
   "metadata": {},
   "outputs": [],
   "source": [
    "import os"
   ]
  },
  {
   "cell_type": "code",
   "execution_count": null,
   "id": "96",
   "metadata": {},
   "outputs": [],
   "source": [
    "file_indices = np.sort(\n",
    "    [\n",
    "        int(item.split(\"_\")[1].split(\".\")[0])\n",
    "        for item in os.listdir(\n",
    "            \"/home/de64/scratch/de64/sync_folder/2022-01-23_DE511_test/kymograph/\"\n",
    "        )\n",
    "        if \"kymograph\" in item\n",
    "    ]\n",
    ")"
   ]
  },
  {
   "cell_type": "code",
   "execution_count": null,
   "id": "97",
   "metadata": {
    "tags": []
   },
   "outputs": [],
   "source": [
    "nan_thr = 3\n",
    "percentile = 95\n",
    "\n",
    "percentile_traces = []\n",
    "\n",
    "file_indices = np.sort(\n",
    "    [\n",
    "        int(item.split(\"_\")[1].split(\".\")[0])\n",
    "        for item in os.listdir(\n",
    "            \"/home/de64/scratch/de64/sync_folder/2022-01-23_DE511_test/kymograph/\"\n",
    "        )\n",
    "        if \"kymograph\" in item\n",
    "    ]\n",
    ")\n",
    "\n",
    "for file_idx in file_indices:\n",
    "    with h5py.File(\n",
    "        \"/home/de64/scratch/de64/sync_folder/2022-01-23_DE511_test/kymograph/kymograph_\"\n",
    "        + str(file_idx)\n",
    "        + \".hdf5\",\n",
    "        \"r\",\n",
    "    ) as infile:\n",
    "        yfp_data = infile[\"YFP\"][:]\n",
    "    with h5py.File(\n",
    "        \"/home/de64/scratch/de64/sync_folder/2022-01-23_DE511_test/fluorsegmentation/segmentation_\"\n",
    "        + str(file_idx)\n",
    "        + \".hdf5\",\n",
    "        \"r\",\n",
    "    ) as infile:\n",
    "        seg_data = infile[\"data\"][:]\n",
    "\n",
    "    for idx in range(seg_data.shape[0]):\n",
    "        rps = sk.measure.regionprops(seg_data[idx][0], yfp_data[idx][0])\n",
    "        degrees = [(rp.orientation / (2 * np.pi)) * 360 for rp in rps]\n",
    "        centroids = [rp.centroid for rp in rps]\n",
    "\n",
    "        for i, degree in enumerate(degrees):\n",
    "            centroid = centroids[i]\n",
    "            masked_img = (seg_data[idx][0] == (i + 1)) * yfp_data[idx][0]\n",
    "            rotated_img = sk.transform.rotate(\n",
    "                masked_img, degree, center=centroid[::-1], preserve_range=True\n",
    "            )\n",
    "            rotated_img[rotated_img == 0.0] = np.NaN\n",
    "\n",
    "            n_not_nan = np.sum(~np.isnan(rotated_img), axis=1)\n",
    "            nan_mask = n_not_nan > nan_thr\n",
    "            nan_masked_rotated_img = rotated_img[nan_mask]\n",
    "\n",
    "            percentile_trace = np.nanpercentile(\n",
    "                nan_masked_rotated_img, percentile, axis=1\n",
    "            )\n",
    "            percentile_traces.append(percentile_trace)\n",
    "percentile_traces = np.array(percentile_traces)\n",
    "trace_lens = np.array([len(trace) for trace in percentile_traces])\n",
    "trace_bins = np.sort(np.unique(trace_lens))\n",
    "med_traces = []\n",
    "for trace_len in trace_bins:\n",
    "    trace_group = np.stack(percentile_traces[trace_lens == trace_len])\n",
    "    med_trace = np.nanmedian(trace_group, axis=0)\n",
    "    med_traces.append(med_trace)\n",
    "max_trace_len = np.max(trace_bins)\n",
    "trace_dif = max_trace_len - trace_bins\n",
    "padded_traces = np.array(\n",
    "    [\n",
    "        np.pad(\n",
    "            trace,\n",
    "            ((trace_dif[i] // 2) + trace_dif[i] % 2, trace_dif[i] // 2),\n",
    "            constant_values=np.NaN,\n",
    "        )\n",
    "        for i, trace in enumerate(med_traces)\n",
    "    ]\n",
    ")"
   ]
  },
  {
   "cell_type": "code",
   "execution_count": null,
   "id": "98",
   "metadata": {
    "tags": []
   },
   "outputs": [],
   "source": [
    "plt.imshow(padded_traces[15:50])"
   ]
  },
  {
   "cell_type": "code",
   "execution_count": null,
   "id": "99",
   "metadata": {},
   "outputs": [],
   "source": [
    "plt.hist(padded_traces.flatten())"
   ]
  },
  {
   "cell_type": "markdown",
   "id": "100",
   "metadata": {},
   "source": [
    "### b) Making fork plots (Suckjun localization)"
   ]
  },
  {
   "cell_type": "code",
   "execution_count": null,
   "id": "101",
   "metadata": {},
   "outputs": [],
   "source": [
    "import os\n",
    "\n",
    "import lmfit\n",
    "from lmfit.lineshapes import gaussian2d"
   ]
  },
  {
   "cell_type": "code",
   "execution_count": null,
   "id": "102",
   "metadata": {},
   "outputs": [],
   "source": [
    "idx = 1\n",
    "test = yfp_data[idx][0] / 65535"
   ]
  },
  {
   "cell_type": "code",
   "execution_count": null,
   "id": "103",
   "metadata": {
    "tags": []
   },
   "outputs": [],
   "source": [
    "min_sig = 2\n",
    "max_sig = 8\n",
    "\n",
    "blobs_log = sk.feature.blob_log(\n",
    "    test,\n",
    "    min_sigma=min_sig,\n",
    "    max_sigma=max_sig,\n",
    "    num_sigma=max_sig - min_sig,\n",
    "    threshold=0.001,\n",
    ")\n",
    "\n",
    "fig, axes = plt.subplots(1, 1, figsize=(18, 10))\n",
    "axes.imshow(test)\n",
    "for blob in blobs_log:\n",
    "    y, x, r = blob\n",
    "    c = plt.Circle((x, y), r, color=\"r\", linewidth=2, fill=False)\n",
    "    axes.add_patch(c)\n",
    "plt.show()"
   ]
  },
  {
   "cell_type": "code",
   "execution_count": null,
   "id": "104",
   "metadata": {},
   "outputs": [],
   "source": [
    "blob_pad = 3\n",
    "\n",
    "\n",
    "def get_foci_list(img, blobs_log, blob_pad=3):  ## too slow, abondened for now...\n",
    "    xy_foci = []\n",
    "    for blob in blobs_log:\n",
    "        y_blob, x_blob, r_blob = blob\n",
    "        y_blob, x_blob, r_blob = int(y_blob), int(x_blob), int(r_blob)\n",
    "        top_left = (y_blob - r_blob, x_blob - r_blob)\n",
    "        blob_patch = img[\n",
    "            top_left[0] - blob_pad : (top_left[0] + r_blob + blob_pad + 1),\n",
    "            top_left[1] - blob_pad : (top_left[1] + r_blob + blob_pad + 1),\n",
    "        ]\n",
    "        x_mesh, y_mesh = np.meshgrid(\n",
    "            range(blob_patch.shape[1]), range(blob_patch.shape[0])\n",
    "        )\n",
    "        model = lmfit.models.Gaussian2dModel()\n",
    "        params = model.guess(blob_patch.flatten(), x_mesh.flatten(), y_mesh.flatten())\n",
    "        result = model.fit(\n",
    "            blob_patch.flatten(), x=x_mesh.flatten(), y=y_mesh.flatten(), params=params\n",
    "        )\n",
    "        fit = model.func(x_mesh, y_mesh, **result.best_values)\n",
    "        x_fit = top_left[1] + result.best_values[\"centerx\"] - blob_pad\n",
    "        y_fit = top_left[0] + result.best_values[\"centery\"] - blob_pad\n",
    "        xy_focus = [x_fit, y_fit]\n",
    "        xy_foci.append(xy_focus)\n",
    "    return xy_foci\n",
    "\n",
    "\n",
    "# try taking the blob region, getting regionprops and extracting the weighted centroid, should be basically similar and much faster\n",
    "def get_foci_list(img, blobs_log):  ## too slow, abondened for now...\n",
    "    disk_img = np.zeros(img.shape, dtype=bool)\n",
    "    for blob in blobs_log:\n",
    "        y_blob, x_blob, r_blob = blob\n",
    "        y_blob, x_blob, r_blob = int(y_blob), int(x_blob), int(r_blob)\n",
    "\n",
    "        disk_mask = sk.morphology.disk(r_blob, dtype=bool)\n",
    "\n",
    "        disk_left = x_blob - r_blob\n",
    "        disk_right = x_blob + r_blob + 1\n",
    "        disk_top = y_blob - r_blob\n",
    "        disk_bottom = y_blob + r_blob + 1\n",
    "\n",
    "        cropped_disk_left = disk_left >= 0\n",
    "        cropped_disk_right = disk_right <= disk_img.shape[1]\n",
    "        cropped_disk_top = disk_top >= 0\n",
    "        cropped_disk_bottom = disk_bottom <= disk_img.shape[0]\n",
    "\n",
    "        if (\n",
    "            cropped_disk_left\n",
    "            and cropped_disk_right\n",
    "            and cropped_disk_top\n",
    "            and cropped_disk_bottom\n",
    "        ):\n",
    "            disk_img[disk_top:disk_bottom, disk_left:disk_right] = disk_mask[\n",
    "                : (r_blob * 2) + 1, : (r_blob * 2) + 1\n",
    "            ]\n",
    "\n",
    "    disk_img = sk.measure.label(disk_img)\n",
    "    rps = sk.measure.regionprops(disk_img, img)\n",
    "    weighted_centroids = [rp.centroid_weighted for rp in rps]\n",
    "\n",
    "    return weighted_centroids\n",
    "\n",
    "    #     blob_patch = img[top_left[0]-blob_pad:(top_left[0]+r_blob+blob_pad+1),top_left[1]-blob_pad:(top_left[1]+r_blob+blob_pad+1)]\n",
    "    #     x_mesh,y_mesh = np.meshgrid(range(blob_patch.shape[1]),range(blob_patch.shape[0]))\n",
    "    #     model = lmfit.models.Gaussian2dModel()\n",
    "    #     params = model.guess(blob_patch.flatten(), x_mesh.flatten(), y_mesh.flatten())\n",
    "    #     result = model.fit(blob_patch.flatten(), x=x_mesh.flatten(), y=y_mesh.flatten(), params=params)\n",
    "    #     fit = model.func(x_mesh, y_mesh, **result.best_values)\n",
    "    #     x_fit = top_left[1]+result.best_values['centerx']-blob_pad\n",
    "    #     y_fit = top_left[0]+result.best_values['centery']-blob_pad\n",
    "    #     xy_focus = [x_fit,y_fit]\n",
    "    #     xy_foci.append(xy_focus)\n",
    "    # return xy_foci"
   ]
  },
  {
   "cell_type": "code",
   "execution_count": null,
   "id": "105",
   "metadata": {},
   "outputs": [],
   "source": [
    "sk.morphology.disk(4, dtype=bool)"
   ]
  },
  {
   "cell_type": "code",
   "execution_count": null,
   "id": "106",
   "metadata": {},
   "outputs": [],
   "source": [
    "plt.imshow(test)\n",
    "plt.scatter(xy_foci[:, 0], xy_foci[:, 1], color=\"r\")"
   ]
  },
  {
   "cell_type": "code",
   "execution_count": null,
   "id": "107",
   "metadata": {},
   "outputs": [],
   "source": [
    "disk_img = np.zeros(norm_yfp_data.shape, dtype=bool)"
   ]
  },
  {
   "cell_type": "code",
   "execution_count": null,
   "id": "108",
   "metadata": {},
   "outputs": [],
   "source": [
    "plt.imshow(disk_img)"
   ]
  },
  {
   "cell_type": "code",
   "execution_count": null,
   "id": "109",
   "metadata": {},
   "outputs": [],
   "source": [
    "y_blob"
   ]
  },
  {
   "cell_type": "code",
   "execution_count": null,
   "id": "110",
   "metadata": {},
   "outputs": [],
   "source": [
    "x_blob"
   ]
  },
  {
   "cell_type": "code",
   "execution_count": null,
   "id": "111",
   "metadata": {},
   "outputs": [],
   "source": [
    "r_blob"
   ]
  },
  {
   "cell_type": "code",
   "execution_count": null,
   "id": "112",
   "metadata": {},
   "outputs": [],
   "source": [
    "disk_mask[:, :]"
   ]
  },
  {
   "cell_type": "code",
   "execution_count": null,
   "id": "113",
   "metadata": {},
   "outputs": [],
   "source": [
    "disk_img.shape"
   ]
  },
  {
   "cell_type": "code",
   "execution_count": null,
   "id": "114",
   "metadata": {},
   "outputs": [],
   "source": [
    "disk_left = x_blob - r_blob\n",
    "disk_right = x_blob + r_blob\n",
    "disk_top = y_blob - r_blob\n",
    "disk_bottom = y_blob + r_blob\n",
    "\n",
    "cropped_disk_left = max(0, disk_left)\n",
    "cropped_disk_right = min(disk_img.shape[1], disk_right)\n",
    "cropped_disk_top = max(0, disk_top)\n",
    "cropped_disk_bottom = min(disk_img.shape[0], disk_bottom)\n",
    "\n",
    "del_left = cropped_disk_left - disk_left\n",
    "del_right = disk_right - cropped_disk_right\n",
    "del_top = cropped_disk_top - disk_top\n",
    "del_bottom = disk_bottom - cropped_disk_bottom"
   ]
  },
  {
   "cell_type": "code",
   "execution_count": null,
   "id": "115",
   "metadata": {},
   "outputs": [],
   "source": [
    "disk_mask = disk_mask[\n",
    "    cropped_disk_top : cropped_disk_bottom + 1,\n",
    "    cropped_disk_left : cropped_disk_right + 1,\n",
    "]"
   ]
  },
  {
   "cell_type": "code",
   "execution_count": null,
   "id": "116",
   "metadata": {},
   "outputs": [],
   "source": [
    "disk_img = disk_img[\n",
    "    cropped_disk_top : cropped_disk_bottom + 1,\n",
    "    cropped_disk_left : cropped_disk_right + 1,\n",
    "]"
   ]
  },
  {
   "cell_type": "code",
   "execution_count": null,
   "id": "117",
   "metadata": {},
   "outputs": [],
   "source": [
    "disk_mask.shape"
   ]
  },
  {
   "cell_type": "code",
   "execution_count": null,
   "id": "118",
   "metadata": {},
   "outputs": [],
   "source": [
    "disk_img[\n",
    "    cropped_disk_top : cropped_disk_bottom + 1,\n",
    "    cropped_disk_left : cropped_disk_right + 1,\n",
    "] = disk_mask[\n",
    "    cropped_disk_top - disk_top : (r_blob * 2) + del_bottom + 1,\n",
    "    cropped_disk_left - disk_left : (r_blob * 2) + del_right + 1,\n",
    "]"
   ]
  },
  {
   "cell_type": "code",
   "execution_count": null,
   "id": "119",
   "metadata": {},
   "outputs": [],
   "source": [
    "disk_mask.shape"
   ]
  },
  {
   "cell_type": "code",
   "execution_count": null,
   "id": "120",
   "metadata": {},
   "outputs": [],
   "source": [
    "disk_right - cropped_disk_right"
   ]
  },
  {
   "cell_type": "code",
   "execution_count": null,
   "id": "121",
   "metadata": {},
   "outputs": [],
   "source": [
    "disk_img.shape[1]"
   ]
  },
  {
   "cell_type": "code",
   "execution_count": null,
   "id": "122",
   "metadata": {},
   "outputs": [],
   "source": [
    "for blob in blobs_log:\n",
    "    y_blob, x_blob, r_blob = blob\n",
    "    y_blob, x_blob, r_blob = int(y_blob), int(x_blob), int(r_blob)\n",
    "\n",
    "    disk_mask = sk.morphology.disk(r_blob, dtype=bool)\n",
    "\n",
    "    disk_left = x_blob - r_blob\n",
    "    disk_right = x_blob + r_blob\n",
    "    disk_top = y_blob - r_blob\n",
    "    disk_bottom = y_blob + r_blob\n",
    "\n",
    "    cropped_disk_left = max(0, disk_left)\n",
    "    cropped_disk_right = min(disk_img.shape[1], disk_right)\n",
    "    cropped_disk_top = max(0, disk_top)\n",
    "    cropped_disk_bottom = min(disk_img.shape[0], disk_bottom)\n",
    "\n",
    "    del_left = cropped_disk_left - disk_left\n",
    "    del_right = disk_right - cropped_disk_right\n",
    "    del_top = cropped_disk_top - disk_top\n",
    "    del_bottom = disk_bottom - cropped_disk_bottom\n",
    "\n",
    "    disk_img[\n",
    "        cropped_disk_top : cropped_disk_bottom + 1,\n",
    "        cropped_disk_left : cropped_disk_right + 1,\n",
    "    ] = disk_mask[\n",
    "        cropped_disk_top - disk_top : (r_blob * 2) + del_bottom + 1,\n",
    "        cropped_disk_left - disk_left : (r_blob * 2) + del_right + 1,\n",
    "    ]"
   ]
  },
  {
   "cell_type": "code",
   "execution_count": null,
   "id": "123",
   "metadata": {},
   "outputs": [],
   "source": [
    "xy_foci = []\n",
    "\n",
    "disk_img = np.zeros(img.shape, dtype=bool)\n",
    "for blob in blobs_log:\n",
    "    y_blob, x_blob, r_blob = blob\n",
    "    y_blob, x_blob, r_blob = int(y_blob), int(x_blob), int(r_blob)\n",
    "\n",
    "    disk_mask = sk.morphology.disk(r_blob, dtype=bool)\n",
    "    top_left = (y_blob - r_blob, x_blob - r_blob)\n",
    "    bottom_extension = min(2 * r_blob, disk_img.shape[0] - top_left[0])\n",
    "    right_extension = min(2 * r_blob, disk_img.shape[1] - top_left[1])\n",
    "    print(2 * r_blob)\n",
    "    print(disk_img.shape[0] - top_left[0])\n",
    "    print(disk_img.shape[1] - top_left[1])\n",
    "    print(bottom_extension)\n",
    "    print(right_extension)\n",
    "    print(\n",
    "        disk_img[\n",
    "            top_left[0] : top_left[0] + bottom_extension,\n",
    "            top_left[1] : top_left[1] + right_extension,\n",
    "        ].shape\n",
    "    )\n",
    "    print(disk_mask[:bottom_extension, :right_extension].shape)\n",
    "    disk_img[\n",
    "        top_left[0] : top_left[0] + bottom_extension,\n",
    "        top_left[1] : top_left[1] + right_extension,\n",
    "    ] = disk_mask[:bottom_extension, :right_extension]"
   ]
  },
  {
   "cell_type": "code",
   "execution_count": null,
   "id": "124",
   "metadata": {},
   "outputs": [],
   "source": [
    "nan_thr = 3\n",
    "min_sig = 3\n",
    "max_sig = 8\n",
    "\n",
    "rel_xy_foci_in_seg_list = []\n",
    "\n",
    "file_indices = np.sort(\n",
    "    [\n",
    "        int(item.split(\"_\")[1].split(\".\")[0])\n",
    "        for item in os.listdir(\n",
    "            \"/home/de64/scratch/de64/sync_folder/2022-01-23_DE511_test/kymograph/\"\n",
    "        )\n",
    "        if \"kymograph\" in item\n",
    "    ]\n",
    ")\n",
    "\n",
    "for file_idx in file_indices:\n",
    "    with h5py.File(\n",
    "        \"/home/de64/scratch/de64/sync_folder/2022-01-23_DE511_test/kymograph/kymograph_\"\n",
    "        + str(file_idx)\n",
    "        + \".hdf5\",\n",
    "        \"r\",\n",
    "    ) as infile:\n",
    "        yfp_data = infile[\"YFP\"][:]\n",
    "    with h5py.File(\n",
    "        \"/home/de64/scratch/de64/sync_folder/2022-01-23_DE511_test/fluorsegmentation/segmentation_\"\n",
    "        + str(file_idx)\n",
    "        + \".hdf5\",\n",
    "        \"r\",\n",
    "    ) as infile:\n",
    "        seg_data = infile[\"data\"][:]\n",
    "\n",
    "    for idx in range(seg_data.shape[0]):\n",
    "        for t in range(seg_data[idx].shape[0]):\n",
    "            rps = sk.measure.regionprops(seg_data[idx][t], yfp_data[idx][t])\n",
    "            degrees = [(rp.orientation / (2 * np.pi)) * 360 for rp in rps]\n",
    "            coords = [rp.coords for rp in rps]\n",
    "            centroids = [rp.centroid for rp in rps]\n",
    "            cell_lens = [rp.axis_major_length for rp in rps]  # temp, do better later\n",
    "\n",
    "            theta = np.array(degrees)\n",
    "            R_all = np.array(\n",
    "                [[np.cos(-theta), -np.sin(-theta)], [np.sin(-theta), np.cos(-theta)]]\n",
    "            )\n",
    "\n",
    "            norm_yfp_data = yfp_data[idx][t] / 65535\n",
    "            blobs_log = sk.feature.blob_log(\n",
    "                norm_yfp_data,\n",
    "                min_sigma=min_sig,\n",
    "                max_sigma=max_sig,\n",
    "                num_sigma=max_sig - min_sig,\n",
    "                threshold=0.001,\n",
    "            )\n",
    "            xy_foci = get_foci_list(norm_yfp_data, blobs_log)\n",
    "            xy_foci_arr = np.array(xy_foci)\n",
    "\n",
    "            for i, degree in enumerate(degrees):\n",
    "                coord = coords[i]\n",
    "                centroid = centroids[i]\n",
    "                cell_len = cell_lens[i]\n",
    "\n",
    "                coord_tuples = [(xy_coord[0], xy_coord[1]) for xy_coord in coord]\n",
    "                xy_foci_coord_list = [\n",
    "                    (item[0], item[1])\n",
    "                    for item in np.round(np.array(xy_foci)).astype(int).tolist()\n",
    "                ]\n",
    "                foci_in_seg = [\n",
    "                    f\n",
    "                    for f, item in enumerate(xy_foci_coord_list)\n",
    "                    if item in coord_tuples\n",
    "                ]\n",
    "                xy_foci_in_seg = xy_foci_arr[foci_in_seg]\n",
    "                if len(xy_foci_in_seg) != 0:\n",
    "                    rel_xy_foci_in_seg = xy_foci_in_seg - np.array(centroid)\n",
    "                    rel_xy_foci_in_seg = (\n",
    "                        R_all[:, :, i] @ (rel_xy_foci_in_seg[:, ::-1].T)\n",
    "                    ).T[:, ::-1]\n",
    "                    rel_xy_foci_in_seg = np.concatenate(\n",
    "                        [\n",
    "                            rel_xy_foci_in_seg,\n",
    "                            np.array(\n",
    "                                [[cell_len for m in range(rel_xy_foci_in_seg.shape[0])]]\n",
    "                            ).T,\n",
    "                        ],\n",
    "                        axis=1,\n",
    "                    )\n",
    "                    rel_xy_foci_in_seg_list.append(rel_xy_foci_in_seg)\n",
    "rel_xy_foci_in_seg_arr = np.concatenate(rel_xy_foci_in_seg_list)\n",
    "# percentile_traces = np.array(percentile_traces)\n",
    "# trace_lens = np.array([len(trace) for trace in percentile_traces])\n",
    "# trace_bins = np.sort(np.unique(trace_lens))\n",
    "# med_traces = []\n",
    "# for trace_len in trace_bins:\n",
    "#     trace_group = np.stack(percentile_traces[trace_lens==trace_len])\n",
    "#     med_trace = np.nanmedian(trace_group,axis=0)\n",
    "#     med_traces.append(med_trace)\n",
    "# max_trace_len = np.max(trace_bins)\n",
    "# trace_dif = max_trace_len-trace_bins\n",
    "# padded_traces = np.array([np.pad(trace,((trace_dif[i]//2)+trace_dif[i]%2,trace_dif[i]//2),constant_values=np.NaN) for i,trace in enumerate(med_traces)])"
  
 ]
  },
  {
   "cell_type": "code",
   "execution_count": null,
   "id": "125",
   "metadata": {},
   "outputs": [],
   "source": [
    "bins = np.linspace(25, 80, num=50)\n",
    "\n",
    "hist_list = []\n",
    "for i in range(len(bins) - 1):\n",
    "    bin_interval = bins[i : i + 2]\n",
    "    under_thr = rel_xy_foci_in_seg_arr[:, 2] <= bin_interval[1]\n",
    "    over_thr = bin_interval[0] < rel_xy_foci_in_seg_arr[:, 2]\n",
    "    filtered_xy_foci = rel_xy_foci_in_seg_arr[under_thr & over_thr]\n",
    "    y_coords = filtered_xy_foci[:, 0]\n",
    "    hist_out = np.histogram(y_coords, bins=60, range=(-20, 20))[0]\n",
    "    hist_out = hist_out / np.sum(hist_out)\n",
    "    hist_list.append(hist_out)\n",
    "hist_arr = np.array(hist_list)"
   ]
  },
  {
   "cell_type": "code",
   "execution_count": null,
   "id": "126",
   "metadata": {},
   "outputs": [],
   "source": [
    "plt.imshow(hist_arr, cmap=\"jet\")"
   ]
  },
  {
   "cell_type": "code",
   "execution_count": null,
   "id": "127",
   "metadata": {},
   "outputs": [],
   "source": [
    "plt.imshow(hist_out)"
   ]
  },
  {
   "cell_type": "code",
   "execution_count": null,
   "id": "128",
   "metadata": {},
   "outputs": [],
   "source": [
    "plt.hist(y_coords, bins=60, range=(-30, 30))[0]"
   ]
  },
  {
   "cell_type": "code",
   "execution_count": null,
   "id": "129",
   "metadata": {},
   "outputs": [],
   "source": [
    "xy_foci_in_seg - np.array(centroid)"
   ]
  },
  {
   "cell_type": "code",
   "execution_count": null,
   "id": "130",
   "metadata": {},
   "outputs": [],
   "source": [
    "rel_xy_foci_in_seg_list"
   ]
  },
  {
   "cell_type": "code",
   "execution_count": null,
   "id": "131",
   "metadata": {
    "tags": []
   },
   "outputs": [],
   "source": [
    "xy_foci_coord_list"
   ]
  },
  {
   "cell_type": "code",
   "execution_count": null,
   "id": "132",
   "metadata": {},
   "outputs": [],
   "source": [
    "xy_foci_arr.shape"
   ]
  },
  {
   "cell_type": "code",
   "execution_count": null,
   "id": "133",
   "metadata": {},
   "outputs": [],
   "source": [
    "coord_tuples"
   ]
  },
  {
   "cell_type": "code",
   "execution_count": null,
   "id": "134",
   "metadata": {},
   "outputs": [],
   "source": [
    "rel_xy_foci_in_seg.shape"
   ]
  },
  {
   "cell_type": "code",
   "execution_count": null,
   "id": "135",
   "metadata": {},
   "outputs": [],
   "source": [
    "np.concatenate(\n",
    "    [rel_xy_foci_in_seg, np.array([[0 for m in range(rel_xy_foci_in_seg.shape[0])]]).T],\n",
    "    axis=1,\n",
    ")"
   ]
  },
  {
   "cell_type": "code",
   "execution_count": null,
   "id": "136",
   "metadata": {},
   "outputs": [],
   "source": [
    "np.array([[0 for m in range(rel_xy_foci_in_seg.shape[0])]]).T.shape"
   ]
  },
  {
   "cell_type": "code",
   "execution_count": null,
   "id": "137",
   "metadata": {},
   "outputs": [],
   "source": [
    "xy_foci_in_seg[:, ::-1]"
   ]
  },
  {
   "cell_type": "code",
   "execution_count": null,
   "id": "138",
   "metadata": {},
   "outputs": [],
   "source": [
    "np.array(centroid)"
   ]
  },
  {
   "cell_type": "code",
   "execution_count": null,
   "id": "139",
   "metadata": {},
   "outputs": [],
   "source": [
    "rel_xy_foci_in_seg"
   ]
  },
  {
   "cell_type": "code",
   "execution_count": null,
   "id": "140",
   "metadata": {},
   "outputs": [],
   "source": [
    "rel_xy_foci_in_seg"
   ]
  },
  {
   "cell_type": "code",
   "execution_count": null,
   "id": "141",
   "metadata": {},
   "outputs": [],
   "source": [
    "theta = degrees\n",
    "R = np.array([[np.cos(degrees), -np.sin(degrees)], [np.sin(degrees), np.cos(degrees)]])"
   ]
  },
  {
   "cell_type": "code",
   "execution_count": null,
   "id": "142",
   "metadata": {},
   "outputs": [],
   "source": [
    "rel_xy_foci_in_seg = (R @ (rel_xy_foci_in_seg[:, ::-1].T)).T[:, ::-1]"
   ]
  },
  {
   "cell_type": "code",
   "execution_count": null,
   "id": "143",
   "metadata": {},
   "outputs": [],
   "source": [
    "rel_xy_foci_in_seg"
   ]
  },
  {
   "cell_type": "code",
   "execution_count": null,
   "id": "144",
   "metadata": {},
   "outputs": [],
   "source": [
    "R.shape"
   ]
  },
  {
   "cell_type": "code",
   "execution_count": null,
   "id": "145",
   "metadata": {},
   "outputs": [],
   "source": [
    "rel_xy_foci_in_seg"
   ]
  },
  {
   "cell_type": "code",
   "execution_count": null,
   "id": "146",
   "metadata": {},
   "outputs": [],
   "source": [
    "R"
   ]
  },
  {
   "cell_type": "code",
   "execution_count": null,
   "id": "147",
   "metadata": {},
   "outputs": [],
   "source": [
    "rot_test = sk.transform.rotate(\n",
    "    seg_data[idx][0], 5, center=centroid[::-1], preserve_range=True\n",
    ").astype(int)\n",
    "rps = sk.measure.regionprops(rot_test)\n",
    "degrees = [(rp.orientation / (2 * np.pi)) * 360 for rp in rps]\n",
    "coords = [rp.coords for rp in rps]\n",
    "centroids = [rp.centroid for rp in rps]"
   ]
  },
  {
   "cell_type": "code",
   "execution_count": null,
   "id": "148",
   "metadata": {},
   "outputs": [],
   "source": [
    "degrees"
   ]
  },
  {
   "cell_type": "code",
   "execution_count": null,
   "id": "149",
   "metadata": {},
   "outputs": [],
   "source": [
    "plt.imshow(rot_test)"
   ]
  },
  {
   "cell_type": "code",
   "execution_count": null,
   "id": "150",
   "metadata": {},
   "outputs": [],
   "source": [
    "theta = np.array(degrees)\n",
    "R = np.array([[np.cos(-theta), -np.sin(-theta)], [np.sin(-theta), np.cos(-theta)]])"
   ]
  },
  {
   "cell_type": "code",
   "execution_count": null,
   "id": "151",
   "metadata": {},
   "outputs": [],
   "source": [
    "R.shape"
   ]
  }
 ],
 "metadata": {
  "kernelspec": {
   "display_name": "Python 3",
   "language": "python",
   "name": "python3"
  },
  "language_info": {
   "codemirror_mode": {
    "name": "ipython",
    "version": 3
   },
   "file_extension": ".py",
   "mimetype": "text/x-python",
   "name": "python",
   "nbconvert_exporter": "python",
   "pygments_lexer": "ipython3",
   "version": "3.8.5"
  },
  "toc-autonumbering": false,
  "toc-showcode": false,
  "toc-showmarkdowntxt": false,
  "toc-showtags": false
 },
 "nbformat": 4,
 "nbformat_minor": 4
}
