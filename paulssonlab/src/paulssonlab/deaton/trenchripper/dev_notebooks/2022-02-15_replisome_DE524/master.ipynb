{
 "cells": [
  {
   "cell_type": "markdown",
   "metadata": {
    "jp-MarkdownHeadingCollapsed": true,
    "tags": []
   },
   "source": [
    "## Important Note\n",
    "\n",
    "Due to the current policy of SLURM schedulers to charge the full allocated time to the account fairshare (regardless of timeout), it is a good idea to refurbish the slurm scheduler to adopt a \"take and hold\" approach to O2 resources since you get penalized for time that you request but do not use making allocation of resources later in the day (after running one or two steps) more difficult.\n",
    "\n",
    "The primary piece of code that would need to be written for a take and hold model would need to include the following:\n",
    "\n",
    "- More sophisticated memory clearing of the dask_controller object (total memory clearing without a restart that leads to crashes) THIS FIRST \n",
    "- Rule-based adjustments of chunk sizes to limit per-node memory use to make sure a flat memory request can be made at cluster initialization"
   ]
  },
  {
   "cell_type": "markdown",
   "metadata": {},
   "source": [
    "# Introduction\n",
    "\n",
    "This notebook contains the entire `TrenchRipper` pipline, divided into simple steps. This pipline is ideal for Mother <br>Machine image data where cells possess fluorescent segmentation markers. Segmentation on phase or brightfield data <br>is being developed, but is still an experimental feature.\n",
    "\n",
    "The steps in this pipeline are as follows:\n",
    "1. Extracting your Mother Machine data (.nd2) into hdf5 format\n",
    "2. Identifying and cropping individual trenches into kymographs\n",
    "3. Segmenting cells with a fluorescent marker\n",
    "4. Determining lineages and object properties\n",
    "\n",
    "In each step, the user will dynamically specify parameters using a series of interactive diagnostics on their dataset. <br>Following this, a parameter file will be written to disk and then used to deploy a parallel computation on the <br>dataset, either locally or on a SLURM cluster.\n",
    "\n",
    "\n",
    "This is intended as an end-to-end solution to analyzing Mother Machine data. As such, **it is not trivial to plug data <br>directly into intermediate steps**, as it will lack the correct formatting and associated metadata. A notable <br>exception to this is using another program to segment data. The library references binary segmentation masks using <br>only metadata derived from their associated kymographs. As such, it is possible to generate segmentations on these <br>kymographs elsewhere and place them into the segmentation data path to have `TrenchRipper` act on those <br>segmentations instead. More on this in the segmentation section..."
   ]
  },
  {
   "cell_type": "markdown",
   "metadata": {},
   "source": [
    "#### Imports\n",
    "\n",
    "Run this section to import all relavent packages and libraries used in this notebook. You must run this everytime you open a new python kernel."
   ]
  },
  {
   "cell_type": "code",
   "execution_count": null,
   "metadata": {},
   "outputs": [],
   "source": [
    "import paulssonlab.deaton.trenchripper.trenchripper as tr\n",
    "\n",
    "import warnings\n",
    "\n",
    "warnings.filterwarnings(action=\"once\")\n",
    "\n",
    "import matplotlib\n",
    "\n",
    "matplotlib.rcParams[\"figure.figsize\"] = [20, 10]"
   ]
  },
  {
   "cell_type": "code",
   "execution_count": null,
   "metadata": {},
   "outputs": [],
   "source": [
    "# addition of active memory manager\n",
    "import dask\n",
    "\n",
    "dask.config.set({\"distributed.scheduler.active-memory-manager.start\": True})\n",
    "dask.config.set({\"distributed.scheduler.worker-ttl\": \"5m\"})\n",
    "dask.config.set({\"distributed.scheduler.allowed-failures\": 100})"
   ]
  },
  {
   "cell_type": "markdown",
   "metadata": {
    "tags": []
   },
   "source": [
    "# Part 1: Growth/Division"
   ]
  },
  {
   "cell_type": "markdown",
   "metadata": {},
   "source": [
    "#### Specify Paths\n",
    "\n",
    "Begin by defining the directory in which all processing will be done, as well as the initial nd2 file we will be <br>processing. This line should be run everytime you open a new python kernel.\n",
    "\n",
    "The format should be: `headpath = \"/path/to/folder\"` and `nd2file = \"/path/to/file.nd2\"`\n",
    "\n",
    "For example:\n",
    "```\n",
    "headpath = \"/n/scratch2/de64/2019-05-31_validation_data\"\n",
    "nd2file = \"/n/scratch2/de64/2019-05-31_validation_data/Main_Experiment.nd2\"\n",
    "```\n",
    "\n",
    "Ideally, these files should be placed in a storage location with relatively fast I/O"
   ]
  },
  {
   "cell_type": "code",
   "execution_count": null,
   "metadata": {},
   "outputs": [],
   "source": [
    "headpath = \"/home/de64/scratch/de64/sync_folder/2022-02-11_DE524_rne/\"\n",
    "nd2file = \"/home/de64/scratch/de64/sync_folder/2022-02-11_DE524_rne/Experiment.nd2\""
   ]
  },
  {
   "cell_type": "markdown",
   "metadata": {},
   "source": [
    "## Extract to hdf5 files\n",
    "\n",
    "In this section, we will be extracting our image data. Currently this notebook only supports `.nd2` format; however <br>there are `.tiff` extractors in the TrenchRipper source files that are being added to `Master.ipynb` soon.\n",
    "\n",
    "In the abstract, this step will take a single `.nd2` file and split it into a set of `.hdf5` files stored in <br>`headpath/hdf5`. Splitting the file up in this way will facilitate quick procesing in later steps. Each field of <br>view will be split into one or more `.hdf5` files, depending on the number of images per file requested (more on <br>this later). \n",
    "\n",
    "To keep track of which output files correspond to which FOVs, as well as to keep track of experiment metadata, the <br>extractor also outputs a `metadata.hdf5` file in the `headpath` folder. The data from this step is accessible in <br>that `metadata.hdf5` file under the `global` key. If you would like to look at this metadata, you may use the <br>`tr.utils.pandas_hdf5_handler` to read from this file. Later steps will add additional metadata under different <br>keys into the `metadata.hdf5` file."
   ]
  },
  {
   "cell_type": "markdown",
   "metadata": {},
   "source": [
    "#### Start Dask Workers\n",
    "\n",
    "First, we start a `dask_controller` instance which will handle all of our parallel processing. The default parameters <br>here work well on O2. The critical arguments here are:\n",
    "\n",
    "**walltime** : For a cluster, the length of time you will request each node for.\n",
    "\n",
    "**local** : `True` if you want to perform computation locally. `False` if you want to perform it on a SLURM cluster.\n",
    "\n",
    "**n_workers** : Number of nodes to request if on the cluster, or number of processes if computing locally.\n",
    "\n",
    "**memory** : For a cluster, the amount of memory you will request each node for.\n",
    "\n",
    "**working_directory** : For a cluster, the directory in which data will be spilled to disk. Usually set as a folder in <br>the `headpath`."
   ]
  },
  {
   "cell_type": "code",
   "execution_count": null,
   "metadata": {},
   "outputs": [],
   "source": [
    "# dask_controller = tr.trcluster.dask_controller(\n",
    "#     walltime=\"1:00:00\",\n",
    "#     local=False,\n",
    "#     n_workers=100,\n",
    "#     n_workers_min=20,\n",
    "#     memory=\"4GB\",\n",
    "#     working_directory=\"/home/de64/scratch/de64/dask\",\n",
    "# )\n",
    "# dask_controller.startdask()\n",
    "dask_controller = tr.trcluster.dask_controller(\n",
    "    walltime=\"2:00:00\",\n",
    "    local=False,\n",
    "    n_workers=400,\n",
    "    n_workers_min=50,\n",
    "    memory=\"1GB\",\n",
    "    working_directory=\"/home/de64/scratch/de64/dask\",\n",
    ")\n",
    "dask_controller.startdask()"
   ]
  },
  {
   "cell_type": "code",
   "execution_count": null,
   "metadata": {},
   "outputs": [],
   "source": [
    "dask_controller.reset_worker_memory()"
   ]
  },
  {
   "cell_type": "markdown",
   "metadata": {},
   "source": [
    "After running the above line, you will have a running Dask client. Run the line below and click the link to supervise <br>the computation being administered by the scheduler. \n",
    "\n",
    "Don't be alarmed if the screen starts mostly blank, it may take time for your workers to spin up. If you get a 404 <br>error on a cluster, it is likely that your ports are not being forwarded properly. If this occurs, please register <br>the issue on github."
   ]
  },
  {
   "cell_type": "code",
   "execution_count": null,
   "metadata": {},
   "outputs": [],
   "source": [
    "dask_controller.daskclient"
   ]
  },
  {
   "cell_type": "markdown",
   "metadata": {},
   "source": [
    "##### Perform Extraction\n",
    "\n",
    "Now that we have our cluster scheduler spun up, it is time to convert files. This will be handled by the <br>`hdf5_extractor` object. This extractor will pull up each FOV and split it such that each derived `.hdf5` file <br>contains, at maximum, N timepoints of that FOV per file. The image data stored in these files takes the <br>form of `(N,Y,X)` arrays that are accessible using the desired channel name as a key. \n",
    "\n",
    "The arguments for this extractor are:\n",
    "\n",
    " - **nd2file** : The filepath to the `.nd2` file you intend to extract.\n",
    " \n",
    " - **headpath** : The folder in which processing is occuring. Should be the same for each step in the pipeline.\n",
    "\n",
    " - **tpts_per_file** : The maximum number of timepoints stored in each output `.hdf5` file. Typical values are between 25 <br>and 100.\n",
    "\n",
    " - **ignore_fovmetadata** : Used when `.nd2` data is corrupted and does not possess records for stage positions or <br>timepoints. Only set `False` if the extractor throws errors on metadata handling.\n",
    "\n",
    " - **nd2reader_override** : Overrides values in metadata recovered using the `nd2reader`. Currently set to <br>`{\"z_levels\":[],\"z_coordinates\":[]}` by default to correct a known issue where z coordinates are mistakenly <br>interpreted as a z stack. See the [nd2reader](https://rbnvrw.github.io/nd2reader/) documentation for more info."
   ]
  },
  {
   "cell_type": "code",
   "execution_count": null,
   "metadata": {},
   "outputs": [],
   "source": [
    "hdf5_extractor = tr.ndextract.hdf5_fov_extractor(\n",
    "    nd2file,\n",
    "    headpath,\n",
    "    tpts_per_file=50,\n",
    "    ignore_fovmetadata=False,\n",
    "    nd2reader_override={\"z_levels\": [], \"z_coordinates\": []},\n",
    ")"
   ]
  },
  {
   "cell_type": "markdown",
   "metadata": {
    "tags": []
   },
   "source": [
    "##### Extraction Parameters\n",
    "\n",
    "Here, you may set the time interval you want to extract. Useful for cropping data to the period exhibiting the dynamics of interest.\n",
    "\n",
    "Optionally take notes to add to the `metadata.hdf5` file. Notes may also be taken directly in this notebook."
   ]
  },
  {
   "cell_type": "code",
   "execution_count": null,
   "metadata": {},
   "outputs": [],
   "source": [
    "hdf5_extractor.inter_set_params()"
   ]
  },
  {
   "cell_type": "code",
   "execution_count": null,
   "metadata": {},
   "outputs": [],
   "source": [
    "hdf5_extractor.inter_set_flatfieldpaths()"
   ]
  },
  {
   "cell_type": "markdown",
   "metadata": {},
   "source": [
    "##### Begin Extraction \n",
    "\n",
    "Running the following line will start the extraction process. This may be monitored by examining the `Dask Dashboard` <br> under the link displayed earlier. Once the computation is complete, move to the next line.\n",
    "\n",
    "This step may take a long time, though it is possible to speed it up using additional workers."
   ]
  },
  {
   "cell_type": "code",
   "execution_count": null,
   "metadata": {},
   "outputs": [],
   "source": [
    "hdf5_extractor.extract(dask_controller)"
   ]
  },
  {
   "cell_type": "code",
   "execution_count": null,
   "metadata": {},
   "outputs": [],
   "source": [
    "dask_controller.daskclient.restart()"
   ]
  },
  {
   "cell_type": "code",
   "execution_count": null,
   "metadata": {
    "tags": []
   },
   "outputs": [],
   "source": [
    "dask_controller.shutdown()"
   ]
  },
  {
   "cell_type": "markdown",
   "metadata": {},
   "source": [
    "## Kymographs\n",
    "\n",
    "Now that you have extracted your data into a series of `.hdf5` files, we will now perform identification and cropping <br>of the individual trenches/growth channels present in the images. This algorithm assumes that your growth trenches <br>are vertically aligned and that they alternate in their orientation from top to bottom. See the example image for the <br>correct geometry:\n",
    "\n",
    "![example_image](./resources/example_image.jpg)\n",
    "\n",
    "The output of this step will be a set of `.hdf5` files stored in `headpath/kymograph`. The image data stored in these <br>files takes the form of `(K,T,Y,X)` arrays where K is the trench index, T is time, and Y,X are the crop dimensions. <br>These arrays are accessible using keys of the form `\"[Image Channel]\"`. For example, looking up phase channel <br>data of trenches in the topmost row of an image will require the key `\"Phase\"`"
   ]
  },
  {
   "cell_type": "markdown",
   "metadata": {},
   "source": [
    "[ '/n/scratch3/users/d/de64/190917_20x_phase_gfp_segmentation002',\n",
    " '/n/scratch3/users/d/de64/190922_20x_phase_gfp_segmentation',\n",
    " '/n/scratch3/users/d/de64/190925_20x_phase_yfp_segmentation',\n",
    " '/n/scratch3/users/d/de64/ezrdm_training_sb7',\n",
    " '/n/scratch3/users/d/de64/mbm_training_sb7',\n",
    " '/n/scratch3/users/d/de64/Sb7_L35',\n",
    " '/n/scratch3/users/d/de64/MM_DVCvecto_TOP_1_9',\n",
    " '/n/scratch3/users/d/de64/Vibrio_2_1_TOP',\n",
    " '/n/scratch3/users/d/de64/Vibrio_A_B_VZRDM--04--RUN_80ms',\n",
    " '/n/scratch3/users/d/de64/RpoSOutliers_WT_hipQ_100X',\n",
    " '/n/scratch3/users/d/de64/Main_Experiment',\n",
    " '/n/scratch3/users/d/de64/bde17_gotime']"
   ]
  },
  {
   "cell_type": "markdown",
   "metadata": {},
   "source": [
    "### Test Parameters\n",
    "\n"
   ]
  },
  {
   "cell_type": "markdown",
   "metadata": {
    "toc-hr-collapsed": false
   },
   "source": [
    "##### Initialize the interactive kymograph class\n",
    "\n",
    "As a first step, initialize the `tr.interactive.kymograph_interactive` class that will be help us choose the <br>parameters we will use to generate kymographs. "
   ]
  },
  {
   "cell_type": "code",
   "execution_count": null,
   "metadata": {},
   "outputs": [],
   "source": [
    "interactive_kymograph = tr.kymograph_interactive(headpath)"
   ]
  },
  {
   "cell_type": "code",
   "execution_count": null,
   "metadata": {
    "tags": []
   },
   "outputs": [],
   "source": [
    "viewer = tr.hdf5_viewer(headpath, persist_data=False)"
   ]
  },
  {
   "cell_type": "markdown",
   "metadata": {},
   "source": [
    "##### Examine Images\n",
    "\n",
    "Here you can manually inspect images before beginning parameter tuning."
   ]
  },
  {
   "cell_type": "code",
   "execution_count": null,
   "metadata": {},
   "outputs": [],
   "source": [
    "viewer.view(width=1200)"
   ]
  },
  {
   "cell_type": "markdown",
   "metadata": {},
   "source": [
    "You will now want to select a few test FOVs to try out parameters on, the channel you want to detect trenches on, and <br>the time interval on which you will perform your processing.\n",
    "\n",
    "The arguments for this step are:\n",
    "\n",
    "- **seg_channel (string)** : The channel name that you would like to segment on.\n",
    "\n",
    "- **invert (list)** : Whether or not you want to invert the image before detecting trenches. By default, it is assumed that <br>the trenches have a high pixel intensity relative to the background. This should be the case for Phase Contrast and <br>Fluorescence Imageing, but may not be the case for Brightfield Imaging, in which case you will want to invert the image.\n",
    "\n",
    "- **fov_list (list)** : List of integers corresponding to the FOVs that you wish to make test kymographs of.\n",
    "\n",
    "- **t_subsample_step (int)** : Step size to be used for subsampling input files in time, recommend that subsampling results in <br>between 5 and 10 timepoints for quick processing.\n",
    "\n",
    "Hit the \"Run Interact\" button to lock in your parameters. The button will become transparent briefly and become solid again <br>when processing is complete. After that has occured, move on to the next step. "
   ]
  },
  {
   "cell_type": "code",
   "execution_count": null,
   "metadata": {},
   "outputs": [],
   "source": [
    "interactive_kymograph.import_hdf5_interactive()"
   ]
  },
  {
   "cell_type": "markdown",
   "metadata": {
    "tags": []
   },
   "source": [
    "##### Tune \"trench-row\" detection hyperparameters\n",
    "\n",
    "The kymograph code begins by detecting the positions of trench rows in the image as follows:\n",
    "\n",
    "1. Reducing each 2D image to a 1D signal along the y-axis by computing the qth percentile of the data along the x-axis\n",
    "2. Smooth this signal using a median kernel\n",
    "3. Normalize the signal by linearly scaling 0. and 1. to the minimum and maximum, respectively\n",
    "4. Use a set threshold to determine the trench row poisitons\n",
    "\n",
    "The arguments for this step are:\n",
    "\n",
    " - **y_percentile (int)** : Percentile to use for step 1.\n",
    "\n",
    " - **smoothing_kernel_y_dim_0 (int)** : Median kernel size to use for step 2.\n",
    "\n",
    " - **y_percentile_threshold (float)** : Threshold to use in step 4.\n",
    "\n",
    "Running the following widget will display the smoothed 1-D signal for each of your timepoints. In addition, the threshold <br>value for each fov will be displayed as a red line."
   ]
  },
  {
   "cell_type": "code",
   "execution_count": null,
   "metadata": {},
   "outputs": [],
   "source": [
    "interactive_kymograph.preview_y_precentiles_interactive()"
   ]
  },
  {
   "cell_type": "markdown",
   "metadata": {},
   "source": [
    "##### Tune \"trench-row\" cropping hyperparameters\n",
    "\n",
    "Next, we will use the detected rows to perform cropping of the input image in the y-dimension:\n",
    "\n",
    "1. Determine edges of trench rows based on threshold mask.\n",
    "2. Filter out rows that are too small.\n",
    "3. Use the remaining rows to compute the drift in y in each image.\n",
    "4. Apply the drift to the initally detected rows to get rows in all timepoints.\n",
    "5. Perform cropping using the \"end\" of the row as reference (the end referring to the part of the trench farthest from <br>the feeding channel).\n",
    "\n",
    "Step 5 performs a simple algorithm to determine the orientation of each trench:\n",
    "\n",
    "```\n",
    "row_orientations = [] # A list of row orientations, starting from the topmost row\n",
    "if the number of detected rows == 'Number of Rows': \n",
    "    row_orientations.append('Orientation')\n",
    "elif the number of detected rows < 'Number of Rows':\n",
    "    row_orientations.append('Orientation when < expected rows')\n",
    "for row in rows:\n",
    "    if row_orientations[-1] == downward:\n",
    "        row_orientations.append(upward)\n",
    "    elif row_orientations[-1] == upward:\n",
    "        row_orientations.append(downward)\n",
    "```\n",
    "\n",
    "Additionally, if the device tranches face a single direction, alternation of row orientation may be turned off by setting the<br> `Alternate Orientation?` argument to False. The `Use Median Drift?` argument, when set to True, will use the<br> median drift in y across all FOVs for drift correction, instead of doing drift correction independently for all FOVs. <br>This can be useful if there are a large fraction of FOVs which are failing drift correction. Note that `Use Median Drift?` <br>sets this behavior for both y and x drift correction.\n",
    "\n",
    "The arguments for this step are:\n",
    "\n",
    " - **y_min_edge_dist (int)** : Minimum row length necessary for detection (filters out small detected objects).\n",
    "\n",
    " - **padding_y (int)** : Padding to add to the end of trench row when cropping in the y-dimension.\n",
    "\n",
    " - **trench_len_y (int)** : Length from the end of each trench row to the feeding channel side of the crop.\n",
    "\n",
    " - **Number of Rows (int)** : The number of rows to expect in your image. For instance, two in the example image.\n",
    " \n",
    " - **Alternate Orientation? (bool)** : Whether or not to alternate the orientation of consecutive rows.\n",
    "\n",
    " - **Orientation (int)** : The orientation of the top-most row where 0 corresponds to a trench with a downward-oriented trench <br>opening and 1 corresponds to a trench with an upward-oriented trench opening.\n",
    "\n",
    " - **Orientation when < expected rows(int)** : The orientation of the top-most row when the number of detected rows is less than <br>expected. Useful if your trenches drift out of your image in some FOVs.\n",
    " \n",
    " - **Use Median Drift? (bool)** : Whether to use the median detected drift across all FOVs, instead of the drift detected in each FOV individually.\n",
    "\n",
    " - **images_per_row(int)** : How many images to output per row for this widget.\n",
    "\n",
    "Running the following widget will display y-cropped images for each fov and timepoint."
   ]
  },
  {
   "cell_type": "code",
   "execution_count": null,
   "metadata": {},
   "outputs": [],
   "source": [
    "interactive_kymograph.preview_y_precentiles_consensus_interactive()"
   ]
  },
  {
   "cell_type": "code",
   "execution_count": null,
   "metadata": {},
   "outputs": [],
   "source": [
    "interactive_kymograph.preview_y_crop_interactive()"
   ]
  },
  {
   "cell_type": "markdown",
   "metadata": {},
   "source": [
    "##### Tune trench detection hyperparameters\n",
    "\n",
    "Next, we will detect the positions of trenchs in the y-cropped images as follows:\n",
    "\n",
    "1. Reducing each 2D image to a 1D signal along the x-axis by computing the qth percentile of the data along the y-axis.\n",
    "2. Determine the signal background by smoothing this signal using a large median kernel.\n",
    "3. Subtract the background signal.\n",
    "4. Smooth the resultant signal using a median kernel.\n",
    "5. Use an [otsu threhsold](https://imagej.net/Auto_Threshold#Otsu) to determine the trench midpoint poisitons.\n",
    "\n",
    "After this, x-dimension drift correction of our detected midpoints will be performed as follows:\n",
    "\n",
    "6. Begin at t=1\n",
    "7. For $m \\in \\{midpoints(t)\\}$ assign $n \\in \\{midpoints(t-1)\\}$ to m if n is the closest midpoint to m at time $t-1$,<br>\n",
    "points that are not the closest midpoint to any midpoints in m will not be mapped.\n",
    "8. Compute the translation of each midpoint at time.\n",
    "9. Take the average of this value as the x-dimension drift from time t-1 to t.\n",
    "\n",
    "The arguments for this step are:\n",
    "\n",
    " - **t (int)** : Timepoint to examine the percentiles and threshold in.\n",
    "\n",
    " - **x_percentile (int)** : Percentile to use for step 1.\n",
    "\n",
    " - **background_kernel_x (int)** : Median kernel size to use for step 2.\n",
    "\n",
    " - **smoothing_kernel_x (int)** : Median kernel size to use for step 4.\n",
    "\n",
    " - **otsu_scaling (float)** : Scaling factor to apply to the threshold determined by Otsu's method.\n",
    "\n",
    "Running the following widget will display the smoothed 1-D signal for each of your timepoints. In addition, the threshold <br>value for each fov will be displayed as a red line. In addition, it will display the detected midpoints for each of your timepoints. <br>If there is too much sparsity, or discontinuity, your drift correction will not be accurate."
   ]
  },
  {
   "cell_type": "code",
   "execution_count": null,
   "metadata": {},
   "outputs": [],
   "source": [
    "interactive_kymograph.preview_x_percentiles_interactive()"
   ]
  },
  {
   "cell_type": "markdown",
   "metadata": {},
   "source": [
    "##### Tune trench cropping hyperparameters\n",
    "\n",
    "Trench cropping simply uses the drift-corrected midpoints as a reference and crops out some fixed length around them <br>\n",
    "to produce an output kymograph. **Note that the current implementation does not allow trench crops to overlap**. If your<br>\n",
    "trench crops do overlap, the error will not be caught here, but will cause issues later in the pipeline. As such, try <br>\n",
    "to crop your trenches as closely as possible. This issue will be fixed in a later update.\n",
    "\n",
    "The arguments for this step are:\n",
    "\n",
    " - **trench_width_x (int)** : Trench width to use for cropping.\n",
    "\n",
    " - **trench_present_thr (float)** : Trenches that appear in less than this percent of FOVs will be eliminated from the dataset.<br>\n",
    "If not removed, missing positions will be inferred from the image drift.\n",
    "\n",
    " - **Use Median Drift? (bool)** : Whether to use the median detected drift across all FOVs, instead of the drift detected in each FOV individually.\n",
    "\n",
    "\n",
    "Running the following widget will display a random kymograph for each row in each fov and will also produce midpoint plots <br>showing retained midpoints"
   ]
  },
  {
   "cell_type": "code",
   "execution_count": null,
   "metadata": {},
   "outputs": [],
   "source": [
    "interactive_kymograph.preview_kymographs_interactive()"
   ]
  },
  {
   "cell_type": "markdown",
   "metadata": {},
   "source": [
    "##### Export and save hyperparameters\n",
    "\n",
    "Run the following line to register and display the parameters you have selected for kymograph creation."
   ]
  },
  {
   "cell_type": "code",
   "execution_count": null,
   "metadata": {},
   "outputs": [],
   "source": [
    "interactive_kymograph.process_results()"
   ]
  },
  {
   "cell_type": "markdown",
   "metadata": {},
   "source": [
    "If you are satisfied with the above parameters, run the following line to write these parameters to disk at `headpath/kymograph.par`<br>\n",
    "This file will be used to perform kymograph creation in the next section."
   ]
  },
  {
   "cell_type": "code",
   "execution_count": null,
   "metadata": {},
   "outputs": [],
   "source": [
    "interactive_kymograph.write_param_file()"
   ]
  },
  {
   "cell_type": "markdown",
   "metadata": {},
   "source": [
    "## Notes on improved scheduling\n",
    "\n",
    "Make a utility that will be able to run analysis steps without intervention from the ipynb, so things can be run as \"fire and forget\"\n",
    "\n",
    "I will start by adapting this to the simple single step case of the lineage trace. In order to fire off an independent job that will deploy, maintain and close the cluster dynamically for a single application I need the following information from the process:\n",
    "\n",
    "- The estimated time for the process to complete so that the scheduler head knows how long it needs to be queued up\n",
    "- The estimated minimum memory in the pool to execute the task successfully\n",
    "\n",
    "I should be able to get this information as a method from the process.\n",
    "\n",
    "In addition, this scheduler should attempt to minimally impact my fairshare. Features that would promote this would be:\n",
    "\n",
    "- Don't overschedule the time usage of the process. Queue up workers with short wall times (30 mins) and just maintain a constant target size. Currently implementing this...\n",
    "- Setting some kind of minimum worker number to ensure progression requires the proper amount of memory to be in place. Try setting the adaptive minimum based on memory considerations. Forget this for now, the adaptive scheduler might be able to handle this...\n",
    "\n",
    "Implement headless scheduler with fixed resources and task before integrating with the requirement of the job itself...\n",
    "\n",
    "Headless scheduler doesn't seem worth it....continue using with the adaptive scheduling adjustment and see if that helps...\n",
    "\n",
    "Couldnt find an easy way to dynamically adapt the memory per worker"
   ]
  },
  {
   "cell_type": "markdown",
   "metadata": {},
   "source": [
    "### Generate Kymograph"
   ]
  },
  {
   "cell_type": "markdown",
   "metadata": {},
   "source": [
    "##### Start Dask Workers\n",
    "\n",
    "Again, we start a `dask_controller` instance which will handle all of our parallel processing. The default parameters <br>here work well on O2 for kymograph creation. The critical arguments here are:\n",
    "\n",
    "**walltime** : For a cluster, the length of time you will request each node for.\n",
    "\n",
    "**local** : `True` if you want to perform computation locally. `False` if you want to perform it on a SLURM cluster.\n",
    "\n",
    "**n_workers** : Number of nodes to request if on the cluster, or number of processes if computing locally.\n",
    "\n",
    "**memory** : For a cluster, the amount of memory you will request each node for.\n",
    "\n",
    "**working_directory** : For a cluster, the directory in which data will be spilled to disk. Usually set as a folder in <br>the `headpath`."
   ]
  },
  {
   "cell_type": "markdown",
   "metadata": {},
   "source": [
    "After running the above line, you will have a running Dask client. Run the line below and click the link to supervise <br>the computation being administered by the scheduler. \n",
    "\n",
    "Don't be alarmed if the screen starts mostly blank, it may take time for your workers to spin up. If you get a 404 <br>error on a cluster, it is likely that your ports are not being forwarded properly. If this occurs, please register <br>the issue on github."
   ]
  },
  {
   "cell_type": "markdown",
   "metadata": {},
   "source": [
    "##### Perform Kymograph Cropping\n",
    "\n",
    "Now that we have our cluster scheduler spun up, we will extract kymographs using the parameters stored in `headpath/kymograph.par`. <br>\n",
    "This will be handled by the `kymograph_cluster` object. This will detect trenches in all of the files present in `headpath/hdf5` that <br>\n",
    "you created in the first step. It will then crop these trenches and place the crops in a series of `.hdf5` files in `headpath/kymograph`. <br>\n",
    "These files will store image data in the form of `(K,T,Y,X)` arrays where K is the trench index, T is time and Y,X are the image dimensions <br>\n",
    "of the crop.\n",
    "\n",
    "The arguments for this step are:\n",
    "\n",
    " - **headpath** : The folder in which processing is occuring. Should be the same for each step in the pipeline.\n",
    "\n",
    " - **trenches_per_file** : The maximum number of trenches stored in each output `.hdf5` file. Typical values are between 25 <br>and 100.\n",
    "\n",
    " - **paramfile** : Set to true if you want to use parameters from `headpath/kymograph.par` Otherwise, you will have to specify <br>\n",
    " parameters as direct arguments to `kymograph_cluster`."
   ]
  },
  {
   "cell_type": "code",
   "execution_count": null,
   "metadata": {},
   "outputs": [],
   "source": [
    "kymoclust = tr.kymograph.kymograph_cluster(headpath=headpath, paramfile=True)"
   ]
  },
  {
   "cell_type": "markdown",
   "metadata": {},
   "source": [
    "##### Begin Kymograph Cropping \n",
    "\n",
    "Running the following line will start the cropping process. This may be monitored by examining the `Dask Dashboard` <br>\n",
    "under the link displayed earlier. Once the computation is complete, move to the next line.\n",
    "\n",
    "**Do not move on until all tasks are displayed as 'in memory' in Dask.**"
   ]
  },
  {
   "cell_type": "code",
   "execution_count": null,
   "metadata": {
    "tags": []
   },
   "outputs": [],
   "source": [
    "kymoclust.generate_kymographs(dask_controller)"
   ]
  },
  {
   "cell_type": "code",
   "execution_count": null,
   "metadata": {},
   "outputs": [],
   "source": [
    "ff = tr.focus_filter(headpath)"
   ]
  },
  {
   "cell_type": "code",
   "execution_count": null,
   "metadata": {},
   "outputs": [],
   "source": [
    "ff.choose_filter_channel_inter()"
   ]
  },
  {
   "cell_type": "code",
   "execution_count": null,
   "metadata": {
    "tags": []
   },
   "outputs": [],
   "source": [
    "ff.plot_histograms(intensity_range=(0, 1500))"
   ]
  },
  {
   "cell_type": "code",
   "execution_count": null,
   "metadata": {},
   "outputs": [],
   "source": [
    "ff.plot_focus_threshold_inter()"
   ]
  },
  {
   "cell_type": "code",
   "execution_count": null,
   "metadata": {},
   "outputs": [],
   "source": [
    "ff.write_param_file()"
   ]
  },
  {
   "cell_type": "markdown",
   "metadata": {},
   "source": [
    "##### Post-process Images\n",
    "\n",
    "After the above step, kymographs will have been created for each `.hdf5` input file. They will now need to be reorganized <br>\n",
    "into a new set of files such that each file has, at most, `trenches_per_file` trenches in each file.\n",
    "\n",
    "**Do not move on until all tasks are displayed as 'in memory' in Dask.**"
   ]
  },
  {
   "cell_type": "code",
   "execution_count": null,
   "metadata": {
    "tags": []
   },
   "outputs": [],
   "source": [
    "kymoclust.post_process(dask_controller, trench_timepoints_per_file=1000)"
   ]
  },
  {
   "cell_type": "markdown",
   "metadata": {},
   "source": [
    "##### Check kymograph statistics\n",
    "\n",
    "Run the next line to display some statistics from kymograph creation. The outputs are:\n",
    "\n",
    " - **fovs processed** : The number of FOVs successfully processed out of the total number of FOVs\n",
    " - **rows processed** : The number of rows of trenches processed out of the total number of rows\n",
    " - **trenches processed** : The number of trenches successfully processed\n",
    " - **row/fov** : The average number of rows successfully processed per FOV\n",
    " - **trenches/fov** : The average number of trenches successfully processed per FOV\n",
    " - **failed fovs** : A list of failed FOVs. Spot check these FOVs in the viewer to determine potential problems"
   ]
  },
  {
   "cell_type": "code",
   "execution_count": null,
   "metadata": {},
   "outputs": [],
   "source": [
    "kymoclust.kymo_report()"
   ]
  },
  {
   "cell_type": "markdown",
   "metadata": {},
   "source": [
    "##### Shutdown Dask\n",
    "\n",
    "Once cropping is complete, it is likely that you will want to shutdown your `dask_controller` if you are on a <br>\n",
    "cluster. This is because the specifications of the current `dask_controller` will not be optimal for later steps. <br>\n",
    "To do this, run the following line and wait for it to complete. If it hangs, interrupt your kernel and re-run it. <br>\n",
    "If this also fails to shutdown your workers, you will have to manually shut them down using `scancel` in a terminal."
   ]
  },
  {
   "cell_type": "code",
   "execution_count": null,
   "metadata": {},
   "outputs": [],
   "source": [
    "dask_controller.daskclient.restart()"
   ]
  },
  {
   "cell_type": "code",
   "execution_count": null,
   "metadata": {
    "tags": []
   },
   "outputs": [],
   "source": [
    "dask_controller.shutdown()"
   ]
  },
  {
   "cell_type": "markdown",
   "metadata": {},
   "source": [
    "## Fluorescence Segmentation\n",
    "\n",
    "Now that you have copped your data into kymographs, we will now perform segmentation/cell detection <br>\n",
    "on your kymographs. Currently, this pipeline only supports segmentation of fluorescence images; however, <br>\n",
    "segmentation of transmitted light imaging techniques is in development.\n",
    "\n",
    "The output of this step will be a set of `segmentation_[File #].hdf5` files stored in `headpath/fluorsegmentation`.<br>\n",
    "The image data stored in these files takes the exact same form as the kymograph data, `(K,T,Y,X)` arrays <br>\n",
    "where K is the trench index, T is time, and Y,X are the crop dimensions. These arrays are accessible using <br>\n",
    "keys of the form `\"[Trench Row Number]\"`.\n",
    "\n",
    "Since no metadata is generated by this step, it is possible to use another segmentation algorithm on the kymograph <br>\n",
    "data. The output of segmentation must be split into `segmentation_[File #].hdf5` files, where `[File #]` agrees with the<br>\n",
    "corresponding `kymograph_[File #].hdf5` file. Additionally, the `(K,T,Y,X)` arrays must be of the same shape as the <br>\n",
    "kymograph arrays and accessible at the corresponding `\"[Trench Row Number]\"` key. These files must be placed into <br>\n",
    "their own folder at `headpath/foldername`. This folder may then be used in later steps."
   ]
  },
  {
   "cell_type": "markdown",
   "metadata": {},
   "source": [
    "### Test Parameters"
   ]
  },
  {
   "cell_type": "markdown",
   "metadata": {},
   "source": [
    "##### Initialize the interactive segmentation class\n",
    "\n",
    "As a first step, initialize the `tr.fluo_segmentation_interactive` class that will be handling all steps of generating a segmentation. "
   ]
  },
  {
   "cell_type": "code",
   "execution_count": null,
   "metadata": {
    "tags": []
   },
   "outputs": [],
   "source": [
    "interactive_segmentation = tr.fluo_segmentation_interactive(headpath)"
   ]
  },
  {
   "cell_type": "markdown",
   "metadata": {},
   "source": [
    "##### Choose channel to segment on"
   ]
  },
  {
   "cell_type": "code",
   "execution_count": null,
   "metadata": {},
   "outputs": [],
   "source": [
    "interactive_segmentation.choose_seg_channel_inter()"
   ]
  },
  {
   "cell_type": "markdown",
   "metadata": {},
   "source": [
    "#### Import data\n",
    "\n",
    "Fill in \n",
    "\n",
    "You will need to tune the following `args` and `kwargs` (in order):\n",
    "\n",
    "**fov_idx (int)** :\n",
    "\n",
    "**n_trenches (int)** :\n",
    "\n",
    "**t_range (tuple)** :\n",
    "\n",
    "**t_subsample_step (int)** :"
   ]
  },
  {
   "cell_type": "code",
   "execution_count": null,
   "metadata": {},
   "outputs": [],
   "source": [
    "interactive_segmentation.import_array_inter()"
   ]
  },
  {
   "cell_type": "markdown",
   "metadata": {},
   "source": [
    "##### Process data"
   ]
  },
  {
   "cell_type": "code",
   "execution_count": null,
   "metadata": {},
   "outputs": [],
   "source": [
    "interactive_segmentation.plot_processed_inter()"
   ]
  },
  {
   "cell_type": "markdown",
   "metadata": {},
   "source": [
    "#### Determine Cell Mask Envelope\n",
    "\n",
    "Fill in.\n",
    "\n",
    "You will need to tune the following `args` and `kwargs` (in order):\n",
    "\n",
    "**cell_mask_method (str)** : Thresholding method, can be a local or global Otsu threshold.\n",
    "\n",
    "**cell_otsu_scaling (float)** : Scaling factor applied to determined threshold.\n",
    "\n",
    "**local_otsu_r (int)** : Radius of thresholding kernel used in the local otsu thresholding."
   ]
  },
  {
   "cell_type": "code",
   "execution_count": null,
   "metadata": {},
   "outputs": [],
   "source": [
    "Local Threshold Method: otsu\n",
    "Background Threshold Method: triangle\n",
    "Global Threshold: 20\n",
    "Local Window Size: 15\n",
    "Otsu Scaling: 1.0\n",
    "Niblack K: 0.2\n",
    "Background Threshold Scaling: 1.0\n",
    "Minimum Object Size: 20"
   ]
  },
  {
   "cell_type": "code",
   "execution_count": null,
   "metadata": {},
   "outputs": [],
   "source": [
    "interactive_segmentation.plot_cell_mask_inter()"
   ]
  },
  {
   "cell_type": "code",
   "execution_count": null,
   "metadata": {},
   "outputs": [],
   "source": [
    "interactive_segmentation.plot_eig_mask_inter()"
   ]
  },
  {
   "cell_type": "code",
   "execution_count": null,
   "metadata": {},
   "outputs": [],
   "source": [
    "interactive_segmentation.plot_dist_mask_inter()"
   ]
  },
  {
   "cell_type": "code",
   "execution_count": null,
   "metadata": {},
   "outputs": [],
   "source": [
    "interactive_segmentation.plot_marker_mask_inter()"
   ]
  },
  {
   "cell_type": "code",
   "execution_count": null,
   "metadata": {},
   "outputs": [],
   "source": [
    "interactive_segmentation.process_results()"
   ]
  },
  {
   "cell_type": "code",
   "execution_count": null,
   "metadata": {},
   "outputs": [],
   "source": [
    "interactive_segmentation.write_param_file()"
   ]
  },
  {
   "cell_type": "markdown",
   "metadata": {},
   "source": [
    "### Generate Segmentation"
   ]
  },
  {
   "cell_type": "code",
   "execution_count": null,
   "metadata": {},
   "outputs": [],
   "source": [
    "segment = tr.segment.fluo_segmentation_cluster(headpath, paramfile=True)"
   ]
  },
  {
   "cell_type": "code",
   "execution_count": null,
   "metadata": {
    "tags": []
   },
   "outputs": [],
   "source": [
    "segment.dask_segment(dask_controller)"
   ]
  },
  {
   "cell_type": "markdown",
   "metadata": {},
   "source": [
    "## Lineage Tracing"
   ]
  },
  {
   "cell_type": "markdown",
   "metadata": {
    "tags": []
   },
   "source": [
    "### Test Parameters"
   ]
  },
  {
   "cell_type": "code",
   "execution_count": null,
   "metadata": {},
   "outputs": [],
   "source": [
    "%load_ext autoreload\n",
    "%autoreload 2"
   ]
  },
  {
   "cell_type": "code",
   "execution_count": null,
   "metadata": {},
   "outputs": [],
   "source": [
    "10"
   ]
  },
  {
   "cell_type": "code",
   "execution_count": null,
   "metadata": {},
   "outputs": [],
   "source": [
    "score_function = tr.tracking.scorefn(\n",
    "    headpath,\n",
    "    \"fluorsegmentation\",\n",
    "    u_size=0.04,\n",
    "    sig_size=0.02,\n",
    "    u_pos=0.04,\n",
    "    sig_pos=0.02,\n",
    "    w_merge=0.0,\n",
    ")"
   ]
  },
  {
   "cell_type": "code",
   "execution_count": null,
   "metadata": {
    "tags": []
   },
   "outputs": [],
   "source": [
    "score_function.interactive_scorefn()"
   ]
  },
  {
   "cell_type": "code",
   "execution_count": null,
   "metadata": {
    "tags": []
   },
   "outputs": [],
   "source": [
    "Tracking_Solver = tr.tracking.tracking_solver(\n",
    "    headpath,\n",
    "    \"fluorsegmentation\",\n",
    "    ScoreFn=score_function,\n",
    "    edge_limit=2,\n",
    ")\n",
    "data, orientation = score_function.output.result"
   ]
  },
  {
   "cell_type": "code",
   "execution_count": null,
   "metadata": {
    "tags": []
   },
   "outputs": [],
   "source": [
    "Tracking_Solver.interactive_tracking(data, orientation)"
   ]
  },
  {
   "cell_type": "code",
   "execution_count": null,
   "metadata": {},
   "outputs": [],
   "source": [
    "Tracking_Solver.save_params()"
   ]
  },
  {
   "cell_type": "code",
   "execution_count": null,
   "metadata": {},
   "outputs": [],
   "source": [
    "dask_controller.shutdown()"
   ]
  },
  {
   "cell_type": "markdown",
   "metadata": {
    "tags": []
   },
   "source": [
    "### Generate Lineage Traces"
   ]
  },
  {
   "cell_type": "code",
   "execution_count": null,
   "metadata": {},
   "outputs": [],
   "source": [
    "dask_controller = tr.trcluster.dask_controller(\n",
    "    walltime=\"1:00:00\",\n",
    "    local=False,\n",
    "    n_workers=400,\n",
    "    n_workers_min=20,\n",
    "    memory=\"2GB\",\n",
    "    working_directory=\"/home/de64/scratch/de64/dask\",\n",
    ")\n",
    "dask_controller.startdask()"
   ]
  },
  {
   "cell_type": "code",
   "execution_count": null,
   "metadata": {},
   "outputs": [],
   "source": [
    "dask_controller.displaydashboard()"
   ]
  },
  {
   "cell_type": "code",
   "execution_count": null,
   "metadata": {
    "tags": []
   },
   "outputs": [],
   "source": [
    "Tracking_Solver = tr.tracking.tracking_solver(\n",
    "    headpath,\n",
    "    \"fluorsegmentation\",\n",
    "    paramfile=True,\n",
    "    volume_estimation=True,\n",
    "    props_list=[\"area\", \"major_axis_length\", \"minor_axis_length\"],\n",
    "    props_to_unpack={},\n",
    "    pixel_scaling_factors={\"area\": 2, \"major_axis_length\": 1, \"minor_axis_length\": 1},\n",
    "    intensity_props_list=[\"mean_intensity\"],\n",
    ")"
   ]
  },
  {
   "cell_type": "code",
   "execution_count": null,
   "metadata": {
    "tags": []
   },
   "outputs": [],
   "source": [
    "Tracking_Solver.compute_all_lineages(dask_controller, entries_per_partition=100000)"
   ]
  },
  {
   "cell_type": "code",
   "execution_count": null,
   "metadata": {},
   "outputs": [],
   "source": [
    "dask_controller.shutdown()"
   ]
  },
  {
   "cell_type": "markdown",
   "metadata": {
    "tags": []
   },
   "source": [
    "## Experimenting with ypet-dnaN analysis"
   ]
  },
  {
   "cell_type": "code",
   "execution_count": null,
   "metadata": {},
   "outputs": [],
   "source": [
    "import numpy as np\n",
    "import pandas as pd\n",
    "import seaborn as sns\n",
    "import scipy as sp\n",
    "import sklearn as skl\n",
    "import dask.dataframe as dd\n",
    "import dask.array as da\n",
    "\n",
    "import scipy.stats\n",
    "from sklearn.linear_model import LinearRegression\n",
    "\n",
    "from matplotlib import pyplot as plt\n",
    "import holoviews as hv\n",
    "\n",
    "hv.extension(\"bokeh\")"
   ]
  },
  {
   "cell_type": "markdown",
   "metadata": {
    "tags": []
   },
   "source": [
    "### Import Lineage"
   ]
  },
  {
   "cell_type": "code",
   "execution_count": null,
   "metadata": {
    "tags": []
   },
   "outputs": [],
   "source": [
    "lineage_df = dd.read_parquet(\n",
    "    \"/home/de64/scratch/de64/sync_folder/2022-02-11_DE524_rne/lineage\"\n",
    ")\n",
    "\n",
    "##temp fix\n",
    "lineage_df[\"CellID\"] = lineage_df[\"CellID\"].astype(int)\n",
    "lineage_df[\"Global CellID\"] = lineage_df[\"Global CellID\"].astype(int)"
   ]
  },
  {
   "cell_type": "code",
   "execution_count": null,
   "metadata": {},
   "outputs": [],
   "source": [
    "dask_controller = tr.trcluster.dask_controller(\n",
    "    walltime=\"3:00:00\",\n",
    "    local=False,\n",
    "    n_workers=50,\n",
    "    n_workers_min=20,\n",
    "    memory=\"8GB\",\n",
    "    working_directory=\"/home/de64/scratch/de64/dask\",\n",
    ")\n",
    "dask_controller.startdask()"
   ]
  },
  {
   "cell_type": "code",
   "execution_count": null,
   "metadata": {},
   "outputs": [],
   "source": [
    "dask_controller.displaydashboard()"
   ]
  },
  {
   "cell_type": "markdown",
   "metadata": {},
   "source": [
    "### Optimizing Growth Quantification"
   ]
  },
  {
   "cell_type": "code",
   "execution_count": null,
   "metadata": {},
   "outputs": [],
   "source": [
    "def filter_df(df, query_list, client=False, repartition=False, persist=False):\n",
    "    # filter_list must be in df.query format (see pandas docs)\n",
    "\n",
    "    # returns persisted dataframe either in cluster or local\n",
    "\n",
    "    compiled_query = \" and \".join(query_list)\n",
    "    out_df = df.query(compiled_query)\n",
    "    if persist:\n",
    "        if client:\n",
    "            out_df = client.daskclient.persist(out_df)\n",
    "        else:\n",
    "            out_df = out_df.persist()\n",
    "\n",
    "    if repartition:\n",
    "        init_size = len(df)\n",
    "        final_size = len(out_df)\n",
    "        ratio = init_size // final_size\n",
    "        out_df = out_df.repartition(npartitions=(df.npartitions // ratio) + 1)\n",
    "        if persist:\n",
    "            if client:\n",
    "                out_df = client.daskclient.persist(out_df)\n",
    "            else:\n",
    "                out_df = out_df.persist()\n",
    "\n",
    "    return out_df\n",
    "\n",
    "\n",
    "def get_first_cell_timepoint(df):\n",
    "    min_tpts = df.groupby([\"Global CellID\"])[\"timepoints\"].idxmin().tolist()\n",
    "    init_cells = df.loc[min_tpts]\n",
    "    return init_cells\n",
    "\n",
    "\n",
    "def get_last_cell_timepoint(df):\n",
    "    max_tpts = df.groupby([\"Global CellID\"])[\"timepoints\"].idxmax().tolist()\n",
    "    fin_cells = df.loc[max_tpts]\n",
    "    return fin_cells\n",
    "\n",
    "\n",
    "def get_growth_and_division_stats(\n",
    "    lineage_df,\n",
    "    kymo_df_path,\n",
    "    trench_score_thr=-75,\n",
    "    absolute_time=True,\n",
    "    delta_t_min=None,\n",
    "    size_metrics=[\n",
    "        \"area\",\n",
    "        \"major_axis_length\",\n",
    "        \"minor_axis_length\",\n",
    "        \"Volume\",\n",
    "        \"Surface Area\",\n",
    "    ],\n",
    "):\n",
    "\n",
    "    kymo_df = dd.read_parquet(kymo_df_path)\n",
    "    kymo_idx_list = lineage_df[\"Kymograph FOV Parquet Index\"].tolist()\n",
    "\n",
    "    if not absolute_time:\n",
    "        kymo_df[\"time (s)\"] = kymo_df[\"timepoints\"] * delta_t_min * 60.0\n",
    "\n",
    "    kymo_time_series = (\n",
    "        kymo_df[\"time (s)\"].loc[kymo_idx_list].compute(scheduler=\"threads\")\n",
    "    )\n",
    "    kymo_time_series.index = lineage_df.index\n",
    "    lineage_df[\"time (s)\"] = kymo_time_series\n",
    "\n",
    "    reference = filter_df(lineage_df, [\"`Trench Score` < \" + str(trench_score_thr)])\n",
    "    query = filter_df(\n",
    "        lineage_df,\n",
    "        [\n",
    "            \"`Mother CellID` != -1\",\n",
    "            \"`Daughter CellID 1` != -1\",\n",
    "            \"`Daughter CellID 2` != -1\",\n",
    "            \"`Sister CellID` != -1\",\n",
    "            \"`Trench Score` < \" + str(trench_score_thr),\n",
    "        ],\n",
    "    )\n",
    "\n",
    "    init_cells = (\n",
    "        get_first_cell_timepoint(query)\n",
    "        .reset_index()\n",
    "        .set_index(\"Global CellID\")\n",
    "        .sort_index()\n",
    "    )\n",
    "    fin_cells = (\n",
    "        get_last_cell_timepoint(query)\n",
    "        .reset_index()\n",
    "        .set_index(\"Global CellID\")\n",
    "        .sort_index()\n",
    "    )\n",
    "\n",
    "    cell_min_tpt_df = (\n",
    "        get_first_cell_timepoint(reference)\n",
    "        .reset_index()\n",
    "        .set_index(\"Global CellID\")\n",
    "        .sort_index()\n",
    "    )\n",
    "    cell_max_tpt_df = (\n",
    "        get_last_cell_timepoint(reference)\n",
    "        .reset_index()\n",
    "        .set_index(\"Global CellID\")\n",
    "        .sort_index()\n",
    "    )\n",
    "\n",
    "    mother_df = cell_max_tpt_df.loc[init_cells[\"Mother CellID\"].tolist()]\n",
    "    sister_df = cell_min_tpt_df.loc[init_cells[\"Sister CellID\"].tolist()]\n",
    "    daughter_1_df = cell_min_tpt_df.loc[fin_cells[\"Daughter CellID 1\"].tolist()]\n",
    "    daughter_2_df = cell_min_tpt_df.loc[fin_cells[\"Daughter CellID 2\"].tolist()]\n",
    "\n",
    "    for metric in size_metrics:\n",
    "\n",
    "        if metric == \"minor_axis_length\":\n",
    "\n",
    "            init_cells[\"Birth: \" + metric] = init_cells[metric].values\n",
    "            init_cells[\"Division: \" + metric] = fin_cells[metric].values\n",
    "            init_cells[\"Delta: \" + metric] = (\n",
    "                fin_cells[metric].values - init_cells[metric].values\n",
    "            )\n",
    "\n",
    "        else:\n",
    "\n",
    "            interp_mother_final_size = (\n",
    "                (init_cells[metric].values + sister_df[metric].values)\n",
    "                * mother_df[metric].values\n",
    "            ) ** (1 / 2)\n",
    "            sister_frac = init_cells[metric].values / (\n",
    "                sister_df[metric].values + init_cells[metric].values\n",
    "            )\n",
    "            init_cells[\"Birth: \" + metric] = sister_frac * interp_mother_final_size\n",
    "\n",
    "            init_cells[\"Division: \" + metric] = (\n",
    "                (daughter_1_df[metric].values + daughter_2_df[metric].values)\n",
    "                * fin_cells[metric].values\n",
    "            ) ** (1 / 2)\n",
    "\n",
    "            init_cells[\"Delta: \" + metric] = (\n",
    "                init_cells[\"Division: \" + metric].values\n",
    "                - init_cells[\"Birth: \" + metric].values\n",
    "            )\n",
    "\n",
    "    init_cells[\"Final timepoints\"] = daughter_1_df[\n",
    "        \"timepoints\"\n",
    "    ].values  # counting a timepoint in which a division occurs as a full timepoint, hacky\n",
    "    init_cells[\"Delta Timepoints\"] = (\n",
    "        init_cells[\"Final timepoints\"] - init_cells[\"timepoints\"]\n",
    "    )\n",
    "\n",
    "    # if absolute_time:\n",
    "    interpolated_final_time = (\n",
    "        fin_cells[\"time (s)\"].values + daughter_1_df[\"time (s)\"].values\n",
    "    ) / 2  # interpolating under the same assumptions as the size quantification\n",
    "    interpolated_init_time = (\n",
    "        init_cells[\"time (s)\"].values + mother_df[\"time (s)\"].values\n",
    "    ) / 2\n",
    "    init_cells[\"Final time (s)\"] = interpolated_final_time\n",
    "    init_cells[\"Delta time (s)\"] = interpolated_final_time - interpolated_init_time\n",
    "\n",
    "    query = (\n",
    "        query.reset_index()\n",
    "        .set_index([\"Global CellID\", \"timepoints\"])\n",
    "        .sort_index()\n",
    "        .reset_index(level=1)\n",
    "    )\n",
    "\n",
    "    # if absolute_time:\n",
    "\n",
    "    delta_t_series = query.groupby(level=0, sort=False)[\"time (s)\"].apply(\n",
    "        lambda x: ((x[1:].values - x[:-1].values))\n",
    "    )\n",
    "\n",
    "    init_time_gap = init_cells[\"time (s)\"].values - interpolated_init_time\n",
    "    final_time_gap = interpolated_final_time - fin_cells[\"time (s)\"].values\n",
    "\n",
    "    for size_metric in size_metrics:  # Havn't decided between mean and median\n",
    "        init_size = query.groupby(level=0, sort=False)[size_metric].apply(\n",
    "            lambda x: x.iloc[0]\n",
    "        )\n",
    "        final_size = query.groupby(level=0, sort=False)[size_metric].apply(\n",
    "            lambda x: x.iloc[-1]\n",
    "        )\n",
    "\n",
    "        init_linear_gr = init_size - (init_cells[\"Birth: \" + size_metric].values)\n",
    "        init_linear_gr = init_linear_gr / init_time_gap\n",
    "        final_linear_gr = (init_cells[\"Division: \" + size_metric].values) - final_size\n",
    "        final_linear_gr = final_linear_gr / final_time_gap\n",
    "\n",
    "        init_exp_gr = 2 * (\n",
    "            (init_size - (init_cells[\"Birth: \" + size_metric].values))\n",
    "            / (init_size + (init_cells[\"Birth: \" + size_metric].values))\n",
    "        )\n",
    "        init_exp_gr = init_exp_gr / init_time_gap\n",
    "        final_exp_gr = 2 * (\n",
    "            ((init_cells[\"Division: \" + size_metric].values) - final_size)\n",
    "            / ((init_cells[\"Division: \" + size_metric].values) + final_size)\n",
    "        )\n",
    "        final_exp_gr = final_exp_gr / final_time_gap\n",
    "\n",
    "        all_linear_gr = query.groupby(level=0, sort=False)[size_metric].apply(\n",
    "            lambda x: x[1:].values - x[:-1].values\n",
    "        )  ##needs to interpolate last growth rate\n",
    "        all_linear_gr = all_linear_gr / delta_t_series\n",
    "        all_linear_gr = all_linear_gr.apply(lambda x: x.tolist())\n",
    "        all_linear_gr = all_linear_gr.to_frame()\n",
    "        all_linear_gr = all_linear_gr.rename(columns={0: \"Main List\"})\n",
    "        all_linear_gr[\"Start\"] = init_linear_gr\n",
    "        all_linear_gr[\"End\"] = final_linear_gr\n",
    "        all_linear_gr[\"Appended\"] = all_linear_gr.apply(\n",
    "            lambda x: [x[\"Start\"]] + x[\"Main List\"] + [x[\"End\"]], axis=1\n",
    "        )\n",
    "        mean_linear_gr = all_linear_gr[\"Appended\"].apply(lambda x: np.nanmean(x))\n",
    "        del all_linear_gr\n",
    "        mean_linear_gr = mean_linear_gr * 3600  # size unit per hr\n",
    "\n",
    "        all_exp_gr = query.groupby(level=0, sort=False)[size_metric].apply(\n",
    "            lambda x: 2\n",
    "            * ((x[1:].values - x[:-1].values) / (x[1:].values + x[:-1].values))\n",
    "        )  ##needs to interpolate last growth rate\n",
    "        all_exp_gr = all_exp_gr / delta_t_series\n",
    "        all_exp_gr = all_exp_gr.apply(lambda x: x.tolist())\n",
    "        all_exp_gr = all_exp_gr.to_frame()\n",
    "        all_exp_gr = all_exp_gr.rename(columns={0: \"Main List\"})\n",
    "        all_exp_gr[\"Start\"] = init_exp_gr\n",
    "        all_exp_gr[\"End\"] = final_exp_gr\n",
    "        all_exp_gr[\"Appended\"] = all_exp_gr.apply(\n",
    "            lambda x: [x[\"Start\"]] + x[\"Main List\"] + [x[\"End\"]], axis=1\n",
    "        )\n",
    "        mean_exp_gr = all_exp_gr[\"Appended\"].apply(lambda x: np.nanmean(x))\n",
    "        del all_exp_gr\n",
    "        mean_exp_gr = mean_exp_gr * 3600  # size unit per hr\n",
    "\n",
    "        mean_cell_size_metric = query.groupby(level=0, sort=False)[size_metric].apply(\n",
    "            lambda x: np.nanmean(x.values)\n",
    "        )\n",
    "\n",
    "        init_cells[\"Mean: \" + size_metric] = mean_cell_size_metric\n",
    "        init_cells[\"Mean Linear Growth Rate: \" + size_metric] = mean_linear_gr\n",
    "        init_cells[\"Mean Exponential Growth Rate: \" + size_metric] = mean_exp_gr\n",
    "    #     else:\n",
    "    #         for size_metric in size_metrics: # Havn't decided between mean and median\n",
    "    #             mean_linear_gr = query.groupby(level=0,sort=False)[size_metric].apply(lambda x: np.nanmean(x[1:].values - x[:-1].values))\n",
    "    #             mean_linear_gr = (mean_linear_gr/delta_t_min)*60 #size unit per hr\n",
    "    #             mean_exp_gr = query.groupby(level=0,sort=False)[size_metric].apply(lambda x: np.nanmean((2*(x[1:].values - x[:-1].values))/(x[1:].values + x[:-1].values)))\n",
    "    #             mean_exp_gr = (mean_exp_gr/delta_t_min)*60 #exponential size unit per hr\n",
    "    #             mean_cell_size_metric = query.groupby(level=0,sort=False)[size_metric].apply(lambda x: np.nanmean(x.values))\n",
    "\n",
    "    #             init_cells[\"Mean: \" + size_metric] = mean_cell_size_metric\n",
    "    #             init_cells[\"Mean Linear Growth Rate: \" + size_metric] = mean_linear_gr\n",
    "    #             init_cells[\"Mean Exponential Growth Rate: \" + size_metric] = mean_exp_gr\n",
    "\n",
    "    median_mchy_intensity = query.groupby(\"Global CellID\")[\n",
    "        \"mCherry mean_intensity\"\n",
    "    ].apply(lambda x: np.nanmean(x.values))\n",
    "    init_cells[\"Mean: mCherry Intensity\"] = median_mchy_intensity\n",
    "\n",
    "    init_cells = init_cells.rename(columns={\"timepoints\": \"initial timepoints\"})\n",
    "\n",
    "    return init_cells\n",
    "\n",
    "\n",
    "def get_all_growth_and_division_stats(\n",
    "    lineage_df,\n",
    "    kymo_df_path,\n",
    "    trench_score_thr=-75,\n",
    "    absolute_time=True,\n",
    "    delta_t_min=None,\n",
    "    size_metrics=[\n",
    "        \"area\",\n",
    "        \"major_axis_length\",\n",
    "        \"minor_axis_length\",\n",
    "        \"Volume\",\n",
    "        \"Surface Area\",\n",
    "    ],\n",
    "):\n",
    "    test_partition = lineage_df.get_partition(0).compute()\n",
    "    test_partition = get_growth_and_division_stats(\n",
    "        test_partition,\n",
    "        kymo_df_path,\n",
    "        trench_score_thr=trench_score_thr,\n",
    "        absolute_time=absolute_time,\n",
    "        delta_t_min=delta_t_min,\n",
    "        size_metrics=size_metrics,\n",
    "    )\n",
    "\n",
    "    growth_div_df = dd.map_partitions(\n",
    "        get_growth_and_division_stats,\n",
    "        lineage_df,\n",
    "        kymo_df_path,\n",
    "        trench_score_thr=trench_score_thr,\n",
    "        absolute_time=absolute_time,\n",
    "        delta_t_min=delta_t_min,\n",
    "        size_metrics=size_metrics,\n",
    "        meta=test_partition,\n",
    "    )\n",
    "\n",
    "    return growth_div_df"
   ]
  },
  {
   "cell_type": "code",
   "execution_count": null,
   "metadata": {},
   "outputs": [],
   "source": [
    "test = lineage_df[\"Trench Score\"].compute()"
   ]
  },
  {
   "cell_type": "code",
   "execution_count": null,
   "metadata": {},
   "outputs": [],
   "source": [
    "moo = (\n",
    "    lineage_df.groupby(\"trenchid\").apply(lambda x: x.iloc[0][\"Trench Score\"]).compute()\n",
    ")"
   ]
  },
  {
   "cell_type": "code",
   "execution_count": null,
   "metadata": {},
   "outputs": [],
   "source": [
    "growth_div_df = get_all_growth_and_division_stats(\n",
    "    lineage_df,\n",
    "    \"/home/de64/scratch/de64/sync_folder/2022-02-11_DE524_rne/kymograph/metadata\",\n",
    "    absolute_time=False,\n",
    "    delta_t_min=5.0,\n",
    "    trench_score_thr=-85,\n",
    ").persist()"
   ]
  },
  {
   "cell_type": "code",
   "execution_count": null,
   "metadata": {},
   "outputs": [],
   "source": [
    "growth_div_df.to_parquet(\n",
    "    \"/home/de64/scratch/de64/sync_folder/2022-02-11_DE524_rne/2022-02-24_growth_division_df\",\n",
    "    engine=\"pyarrow\",\n",
    "    overwrite=True,\n",
    ")"
   ]
  },
  {
   "cell_type": "code",
   "execution_count": null,
   "metadata": {},
   "outputs": [],
   "source": [
    "growth_div_df = dd.read_parquet(\n",
    "    \"/home/de64/scratch/de64/sync_folder/2022-02-11_DE524_rne/2022-02-24_growth_division_df\"\n",
    ")\n",
    "growth_div_df = growth_div_df.reset_index().set_index(\"trenchid\")"
   ]
  },
  {
   "cell_type": "code",
   "execution_count": null,
   "metadata": {},
   "outputs": [],
   "source": [
    "mean_yfp = (\n",
    "    growth_div_df.groupby(\"trenchid\")\n",
    "    .apply(lambda x: np.mean(x[\"YFP mean_intensity\"]))\n",
    "    .compute()\n",
    ")\n",
    "bright_trenchids = mean_yfp[mean_yfp > 1450].index.tolist()"
   ]
  },
  {
   "cell_type": "code",
   "execution_count": null,
   "metadata": {},
   "outputs": [],
   "source": [
    "growth_div_df = growth_div_df.loc[bright_trenchids].persist()"
   ]
  },
  {
   "cell_type": "code",
   "execution_count": null,
   "metadata": {},
   "outputs": [],
   "source": [
    "plt.hist(mean_yfp, bins=50)\n",
    "plt.show()"
   ]
  },
  {
   "cell_type": "code",
   "execution_count": null,
   "metadata": {},
   "outputs": [],
   "source": [
    "def remove_early_outliers(\n",
    "    final_output_df_lineage,\n",
    "    trenchid_name=\"phenotype trenchid\",\n",
    "    early_timepoint_cutoff=12,\n",
    "    gaussian_subsample=0.2,\n",
    "    percentile_threshold=10,\n",
    "    filter_params=[\n",
    "        \"Mean Linear Growth Rate: Volume\",\n",
    "        \"Mean Exponential Growth Rate: Volume\",\n",
    "        \"Division: major_axis_length\",\n",
    "        \"Mean: minor_axis_length\",\n",
    "        \"Mean: mCherry Intensity\",\n",
    "        \"Delta time (s)\",\n",
    "    ],\n",
    "    plot_values_names=[\n",
    "        \"Volume Growth Rate (linear)\",\n",
    "        \"Volume Growth Rate (ratio)\",\n",
    "        \"Division Length\",\n",
    "        \"Minor Axis Length\",\n",
    "        \"Mean mCherry Intensity\",\n",
    "        \"Interdivision Time\",\n",
    "    ],\n",
    "):\n",
    "\n",
    "    final_output_df_trench_groupby = final_output_df_lineage.groupby(\n",
    "        trenchid_name, sort=False\n",
    "    )\n",
    "    early_tpt_df = final_output_df_trench_groupby.apply(\n",
    "        lambda x: x[x[\"Final timepoints\"] < early_timepoint_cutoff].reset_index(\n",
    "            drop=True\n",
    "        )\n",
    "    ).persist()\n",
    "    for filter_param in filter_params:\n",
    "        early_param_series = early_tpt_df[filter_param]\n",
    "        all_param_values = (\n",
    "            early_param_series.sample(frac=gaussian_subsample).compute().tolist()\n",
    "        )\n",
    "        gaussian_fit = sp.stats.norm.fit(all_param_values)\n",
    "        gaussian_fit = sp.stats.norm(loc=gaussian_fit[0], scale=gaussian_fit[1])\n",
    "\n",
    "        early_param_series = dd.from_pandas(\n",
    "            early_param_series.compute().droplevel(1), npartitions=50\n",
    "        )\n",
    "        trench_probability = early_param_series.groupby(trenchid_name).apply(\n",
    "            lambda x: np.exp(np.sum(gaussian_fit.logpdf(x)) / len(x)), meta=float\n",
    "        )\n",
    "\n",
    "        final_output_df_lineage[\n",
    "            filter_param + \": Probability\"\n",
    "        ] = trench_probability.persist()\n",
    "\n",
    "    final_output_df_onetrench = (\n",
    "        final_output_df_lineage.groupby(trenchid_name)\n",
    "        .apply(lambda x: x.iloc[0])\n",
    "        .compute()\n",
    "    )\n",
    "\n",
    "    plt.figure(figsize=(22, 16))\n",
    "    query_list = []\n",
    "    for i, filter_param in enumerate(filter_params):\n",
    "        prob_threshold = np.nanpercentile(\n",
    "            final_output_df_onetrench[filter_param + \": Probability\"].tolist(),\n",
    "            percentile_threshold,\n",
    "        )\n",
    "        query = \"`\" + filter_param + \": Probability` > \" + str(prob_threshold)\n",
    "        query_list.append(query)\n",
    "\n",
    "        min_v, max_v = (\n",
    "            np.min(final_output_df_onetrench[filter_param + \": Probability\"]),\n",
    "            np.max(final_output_df_onetrench[filter_param + \": Probability\"]),\n",
    "        )\n",
    "\n",
    "        plt.subplot(2, 3, i + 1)\n",
    "        plt.title(plot_values_names[i], fontsize=22)\n",
    "        plt.xlabel(\"Unnormalized Likelihood\", fontsize=18)\n",
    "        plt.xticks(fontsize=18)\n",
    "        plt.yticks(fontsize=18)\n",
    "        plt.hist(\n",
    "            final_output_df_onetrench[\n",
    "                final_output_df_onetrench[filter_param + \": Probability\"]\n",
    "                < prob_threshold\n",
    "            ][filter_param + \": Probability\"].tolist(),\n",
    "            bins=50,\n",
    "            range=(min_v, max_v),\n",
    "        )\n",
    "        plt.hist(\n",
    "            final_output_df_onetrench[\n",
    "                final_output_df_onetrench[filter_param + \": Probability\"]\n",
    "                >= prob_threshold\n",
    "            ][filter_param + \": Probability\"].tolist(),\n",
    "            bins=50,\n",
    "            range=(min_v, max_v),\n",
    "        )\n",
    "\n",
    "    compiled_query = \" and \".join(query_list)\n",
    "    final_output_df_onetrench_filtered = final_output_df_onetrench.query(compiled_query)\n",
    "    final_output_df_filtered = final_output_df_lineage.loc[\n",
    "        final_output_df_onetrench_filtered.index.tolist()\n",
    "    ].persist()\n",
    "\n",
    "    return final_output_df_filtered"
   ]
  },
  {
   "cell_type": "code",
   "execution_count": null,
   "metadata": {
    "tags": []
   },
   "outputs": [],
   "source": [
    "final_output_df_filtered = remove_early_outliers(\n",
    "    growth_div_df,\n",
    "    trenchid_name=\"trenchid\",\n",
    "    early_timepoint_cutoff=30,\n",
    "    gaussian_subsample=0.5,\n",
    "    percentile_threshold=30,\n",
    ")\n",
    "plt.savefig(\"Prob_threshold.png\", dpi=500)"
   ]
  },
  {
   "cell_type": "code",
   "execution_count": null,
   "metadata": {},
   "outputs": [],
   "source": [
    "from statsmodels.nonparametric import kernel_regression\n",
    "from scipy.stats import iqr\n",
    "from statsmodels.nonparametric.smoothers_lowess import lowess\n",
    "import sklearn as skl\n",
    "from tslearn.clustering import TimeSeriesKMeans\n",
    "from tslearn.preprocessing import TimeSeriesScalerMeanVariance\n",
    "import copy\n",
    "\n",
    "\n",
    "def timeseries_kernel_reg(df, y_label, min_tpt, max_tpt, kernel_bins, kernel_bandwidth):\n",
    "    def kernel_reg(\n",
    "        x_arr,\n",
    "        y_arr,\n",
    "        start=min_tpt,\n",
    "        end=max_tpt,\n",
    "        kernel_bins=kernel_bins,\n",
    "        kernel_bandwidth=kernel_bandwidth,\n",
    "    ):\n",
    "        intervals = np.linspace(start, end, num=kernel_bins, dtype=float)\n",
    "        w = kernel_regression.KernelReg(\n",
    "            y_arr,\n",
    "            x_arr,\n",
    "            \"c\",\n",
    "            reg_type=\"lc\",\n",
    "            bw=np.array([kernel_bandwidth]),\n",
    "            ckertype=\"gaussian\",\n",
    "        ).fit(intervals)[0]\n",
    "        reg_x, reg_y = (intervals, w)\n",
    "        return reg_x, reg_y\n",
    "\n",
    "    kernel_result = df.groupby(\"trenchid\").apply(\n",
    "        lambda x: kernel_reg(\n",
    "            (x[\"Final time (s)\"].values - (x[\"Delta time (s)\"].values / 2)),\n",
    "            x[y_label].values,\n",
    "        )[1],\n",
    "        meta=float,\n",
    "    )\n",
    "    return kernel_result\n",
    "\n",
    "\n",
    "def get_all_kernel_regs(\n",
    "    df, y_label_list, min_tpt=0, max_tpt=36000, kernel_bins=20, kernel_bandwidth=2700\n",
    "):\n",
    "    out_df = copy.copy(df)\n",
    "\n",
    "    for y_label in y_label_list:\n",
    "        kernel_result = timeseries_kernel_reg(\n",
    "            out_df, y_label, min_tpt, max_tpt, kernel_bins, kernel_bandwidth\n",
    "        )\n",
    "        out_df[\"Kernel Trace: \" + y_label] = kernel_result.persist()\n",
    "\n",
    "    return out_df"
   ]
  },
  {
   "cell_type": "code",
   "execution_count": null,
   "metadata": {},
   "outputs": [],
   "source": [
    "params_to_trace = [\n",
    "    \"Mean Linear Growth Rate: Volume\",\n",
    "    \"Mean Exponential Growth Rate: Volume\",\n",
    "    \"Birth: major_axis_length\",\n",
    "    \"Division: major_axis_length\",\n",
    "    \"Birth: Volume\",\n",
    "    \"Division: Volume\",\n",
    "    \"Birth: Surface Area\",\n",
    "    \"Division: Surface Area\",\n",
    "    \"Mean: minor_axis_length\",\n",
    "    \"Mean: mCherry Intensity\",\n",
    "    \"Delta time (s)\",\n",
    "]"
   ]
  },
  {
   "cell_type": "code",
   "execution_count": null,
   "metadata": {},
   "outputs": [],
   "source": [
    "final_output_df_filtered"
   ]
  },
  {
   "cell_type": "code",
   "execution_count": null,
   "metadata": {},
   "outputs": [],
   "source": [
    "trenchiddf = get_all_kernel_regs(\n",
    "    final_output_df_filtered,\n",
    "    params_to_trace,\n",
    "    min_tpt=0,\n",
    "    max_tpt=50000,\n",
    "    kernel_bins=40,\n",
    "    kernel_bandwidth=2700,\n",
    ")"
   ]
  },
  {
   "cell_type": "code",
   "execution_count": null,
   "metadata": {},
   "outputs": [],
   "source": [
    "50000 - 12500"
   ]
  },
  {
   "cell_type": "code",
   "execution_count": null,
   "metadata": {},
   "outputs": [],
   "source": [
    "div_volume_df = (\n",
    "    trenchiddf[\"Kernel Trace: Division: Volume\"]\n",
    "    .groupby(\"trenchid\")\n",
    "    .apply(lambda x: x.iloc[0])\n",
    "    .compute()\n",
    ")"
   ]
  },
  {
   "cell_type": "code",
   "execution_count": null,
   "metadata": {},
   "outputs": [],
   "source": [
    "div_size_arr = np.stack(div_volume_df.tolist())"
   ]
  },
  {
   "cell_type": "code",
   "execution_count": null,
   "metadata": {},
   "outputs": [],
   "source": [
    "plt.plot(np.mean(div_size_arr, axis=0))"
   ]
  },
  {
   "cell_type": "code",
   "execution_count": null,
   "metadata": {
    "tags": []
   },
   "outputs": [],
   "source": [
    "trenchiddf_early = trenchiddf[trenchiddf[\"time (s)\"] < 12500]\n",
    "trenchiddf_late = trenchiddf[trenchiddf[\"time (s)\"] > 37500]"
   ]
  },
  {
   "cell_type": "code",
   "execution_count": null,
   "metadata": {
    "tags": []
   },
   "outputs": [],
   "source": [
    "trenchiddf_late.compute()"
   ]
  },
  {
   "cell_type": "code",
   "execution_count": null,
   "metadata": {},
   "outputs": [],
   "source": [
    "remaining_file_idx_lookup = (\n",
    "    trenchiddf.groupby(\"File Index\")\n",
    "    .apply(lambda x: sorted(x[\"File Trench Index\"].unique().tolist()))\n",
    "    .compute()\n",
    "    .sort_index()\n",
    "    .to_dict()\n",
    ")"
   ]
  },
  {
   "cell_type": "code",
   "execution_count": null,
   "metadata": {},
   "outputs": [],
   "source": [
    "import os\n",
    "import lmfit\n",
    "from lmfit.lineshapes import gaussian2d\n",
    "import h5py\n",
    "import skimage as sk"
   ]
  },
  {
   "cell_type": "code",
   "execution_count": null,
   "metadata": {},
   "outputs": [],
   "source": [
    "with h5py.File(\n",
    "    \"/home/de64/scratch/de64/sync_folder/2022-02-11_DE524_rne/kymograph/kymograph_400.hdf5\",\n",
    "    \"r\",\n",
    ") as infile:\n",
    "    yfp_data = infile[\"YFP\"][:]\n",
    "with h5py.File(\n",
    "    \"/home/de64/scratch/de64/sync_folder/2022-02-11_DE524_rne/fluorsegmentation/segmentation_400.hdf5\",\n",
    "    \"r\",\n",
    ") as infile:\n",
    "    seg_data = infile[\"data\"][:]\n",
    "\n",
    "idx = 3\n",
    "test = yfp_data[idx][0] / 65535\n",
    "\n",
    "test = sk.filters.gaussian(test, sigma=2.0)\n",
    "\n",
    "min_sig = 2\n",
    "max_sig = 8\n",
    "\n",
    "blobs_log = sk.feature.blob_log(\n",
    "    test,\n",
    "    min_sigma=min_sig,\n",
    "    max_sigma=max_sig,\n",
    "    num_sigma=max_sig - min_sig,\n",
    "    threshold=0.001,\n",
    ")\n",
    "\n",
    "fig, axes = plt.subplots(1, 1, figsize=(18, 10))\n",
    "axes.imshow(test)\n",
    "for blob in blobs_log:\n",
    "    y, x, r = blob\n",
    "    c = plt.Circle((x, y), r, color=\"r\", linewidth=2, fill=False)\n",
    "    axes.add_patch(c)\n",
    "plt.show()"
   ]
  },
  {
   "cell_type": "code",
   "execution_count": null,
   "metadata": {},
   "outputs": [],
   "source": []
  },
  {
   "cell_type": "code",
   "execution_count": null,
   "metadata": {},
   "outputs": [],
   "source": []
  },
  {
   "cell_type": "code",
   "execution_count": null,
   "metadata": {},
   "outputs": [],
   "source": []
  },
  {
   "cell_type": "code",
   "execution_count": null,
   "metadata": {},
   "outputs": [],
   "source": []
  },
  {
   "cell_type": "code",
   "execution_count": null,
   "metadata": {},
   "outputs": [],
   "source": []
  },
  {
   "cell_type": "code",
   "execution_count": null,
   "metadata": {},
   "outputs": [],
   "source": []
  },
  {
   "cell_type": "code",
   "execution_count": null,
   "metadata": {},
   "outputs": [],
   "source": []
  },
  {
   "cell_type": "code",
   "execution_count": null,
   "metadata": {},
   "outputs": [],
   "source": [
    "with h5py.File(\n",
    "    \"/home/de64/scratch/de64/sync_folder/2022-02-11_DE524_rne/kymograph/kymograph_10.hdf5\",\n",
    "    \"r\",\n",
    ") as infile:\n",
    "    yfp_data = infile[\"YFP\"][:]\n",
    "with h5py.File(\n",
    "    \"/home/de64/scratch/de64/sync_folder/2022-02-11_DE524_rne/fluorsegmentation/segmentation_10.hdf5\",\n",
    "    \"r\",\n",
    ") as infile:\n",
    "    seg_data = infile[\"data\"][:]"
   ]
  },
  {
   "cell_type": "code",
   "execution_count": null,
   "metadata": {},
   "outputs": [],
   "source": []
  },
  {
   "cell_type": "code",
   "execution_count": null,
   "metadata": {},
   "outputs": [],
   "source": [
    "idx = 2\n",
    "\n",
    "yfp_handle = tr.kymo_handle()\n",
    "yfp_handle.import_wrap(yfp_data[idx])\n",
    "\n",
    "seg_handle = tr.kymo_handle()\n",
    "seg_handle.import_wrap(seg_data[idx])"
   ]
  },
  {
   "cell_type": "code",
   "execution_count": null,
   "metadata": {},
   "outputs": [],
   "source": [
    "plt.imshow(yfp_handle.return_unwrap())"
   ]
  },
  {
   "cell_type": "code",
   "execution_count": null,
   "metadata": {},
   "outputs": [],
   "source": [
    "plt.imshow(seg_handle.return_unwrap())"
   ]
  },
  {
   "cell_type": "code",
   "execution_count": null,
   "metadata": {},
   "outputs": [],
   "source": [
    "## get time intervals from length dynamics"
   ]
  },
  {
   "cell_type": "code",
   "execution_count": null,
   "metadata": {},
   "outputs": [],
   "source": []
  },
  {
   "cell_type": "markdown",
   "metadata": {},
   "source": [
    "### a) Making fork plots (basic)\n"
   ]
  },
  {
   "cell_type": "markdown",
   "metadata": {
    "tags": []
   },
   "source": [
    "orientationfloat\n",
    "Angle between the 0th axis (rows) and the major axis of the ellipse that has the same second moments as the region, ranging from -pi/2 to pi/2 counter-clockwise."
   ]
  },
  {
   "cell_type": "markdown",
   "metadata": {},
   "source": [
    "skimage.transform.rotate(image, angle, resize=False, center=None, order=None, mode='constant', cval=0, clip=True, preserve_range=False)"
   ]
  },
  {
   "cell_type": "code",
   "execution_count": null,
   "metadata": {},
   "outputs": [],
   "source": [
    "import os"
   ]
  },
  {
   "cell_type": "code",
   "execution_count": null,
   "metadata": {},
   "outputs": [],
   "source": [
    "yfp_data.shape"
   ]
  },
  {
   "cell_type": "code",
   "execution_count": null,
   "metadata": {},
   "outputs": [],
   "source": [
    "file_indices = np.sort(\n",
    "    [\n",
    "        int(item.split(\"_\")[1].split(\".\")[0])\n",
    "        for item in os.listdir(\n",
    "            \"/home/de64/scratch/de64/sync_folder/2022-01-23_DE511_test/kymograph/\"\n",
    "        )\n",
    "        if \"kymograph\" in item\n",
    "    ]\n",
    ")"
   ]
  },
  {
   "cell_type": "code",
   "execution_count": null,
   "metadata": {},
   "outputs": [],
   "source": [
    "for i in range(yfp_data.shape[0]):\n",
    "    yfp_data[i] = sk.filters.gaussian(yfp_data[i], sigma=2.0, preserve_range=True)"
   ]
  },
  {
   "cell_type": "code",
   "execution_count": null,
   "metadata": {
    "tags": []
   },
   "outputs": [],
   "source": [
    "nan_thr = 3\n",
    "percentile = 99\n",
    "t_min = 0\n",
    "t_max = 60\n",
    "\n",
    "percentile_traces = []\n",
    "\n",
    "file_indices = np.sort(\n",
    "    [\n",
    "        int(item.split(\"_\")[1].split(\".\")[0])\n",
    "        for item in os.listdir(\n",
    "            \"/home/de64/scratch/de64/sync_folder/2022-01-23_DE511_test/kymograph/\"\n",
    "        )\n",
    "        if \"kymograph\" in item\n",
    "    ]\n",
    ")\n",
    "\n",
    "for file_idx in file_indices:\n",
    "    if file_idx not in remaining_file_idx_lookup.keys():\n",
    "        continue\n",
    "    trench_indices = remaining_file_idx_lookup[file_idx]\n",
    "    with h5py.File(\n",
    "        \"/home/de64/scratch/de64/sync_folder/2022-02-11_DE524_rne/kymograph/kymograph_\"\n",
    "        + str(file_idx)\n",
    "        + \".hdf5\",\n",
    "        \"r\",\n",
    "    ) as infile:\n",
    "        yfp_data = infile[\"YFP\"][:]\n",
    "    with h5py.File(\n",
    "        \"/home/de64/scratch/de64/sync_folder/2022-02-11_DE524_rne/fluorsegmentation/segmentation_\"\n",
    "        + str(file_idx)\n",
    "        + \".hdf5\",\n",
    "        \"r\",\n",
    "    ) as infile:\n",
    "        seg_data = infile[\"data\"][:]\n",
    "\n",
    "    for idx in trench_indices:\n",
    "\n",
    "        for t in range(t_min, t_max):\n",
    "            yfp_data[idx, t] = sk.filters.gaussian(\n",
    "                yfp_data[idx, t], sigma=2.0, preserve_range=True\n",
    "            )\n",
    "\n",
    "            rps = sk.measure.regionprops(seg_data[idx][t], yfp_data[idx][t])\n",
    "            degrees = [(rp.orientation / (2 * np.pi)) * 360 for rp in rps]\n",
    "            centroids = [rp.centroid for rp in rps]\n",
    "\n",
    "            for i, degree in enumerate(degrees):\n",
    "                centroid = centroids[i]\n",
    "                masked_img = (seg_data[idx][t] == (i + 1)) * yfp_data[idx][t]\n",
    "                rotated_img = sk.transform.rotate(\n",
    "                    masked_img, degree, center=centroid[::-1], preserve_range=True\n",
    "                )\n",
    "                rotated_img[rotated_img == 0.0] = np.NaN\n",
    "\n",
    "                n_not_nan = np.sum(~np.isnan(rotated_img), axis=1)\n",
    "                nan_mask = n_not_nan > nan_thr\n",
    "                nan_masked_rotated_img = rotated_img[nan_mask]\n",
    "\n",
    "                percentile_trace = np.nanpercentile(\n",
    "                    nan_masked_rotated_img, percentile, axis=1\n",
    "                )\n",
    "                percentile_traces.append(percentile_trace)\n",
    "percentile_traces = np.array(percentile_traces)\n",
    "trace_lens = np.array([len(trace) for trace in percentile_traces])\n",
    "trace_bins = np.sort(np.unique(trace_lens))\n",
    "med_traces = []\n",
    "for trace_len in trace_bins:\n",
    "    trace_group = np.stack(percentile_traces[trace_lens == trace_len])\n",
    "    med_trace = np.nanmedian(trace_group, axis=0)\n",
    "    med_traces.append(med_trace)\n",
    "max_trace_len = np.max(trace_bins)\n",
    "trace_dif = max_trace_len - trace_bins\n",
    "padded_traces = np.array(\n",
    "    [\n",
    "        np.pad(\n",
    "            trace,\n",
    "            ((trace_dif[i] // 2) + trace_dif[i] % 2, trace_dif[i] // 2),\n",
    "            constant_values=np.NaN,\n",
    "        )\n",
    "        for i, trace in enumerate(med_traces)\n",
    "    ]\n",
    ")"
   ]
  },
  {
   "cell_type": "code",
   "execution_count": null,
   "metadata": {},
   "outputs": [],
   "source": [
    "trace_lens = np.array([len(trace) for trace in percentile_traces])\n",
    "trace_bins = np.sort(np.unique(trace_lens))[:100]\n",
    "med_traces = []\n",
    "for trace_len in trace_bins:\n",
    "    trace_group = np.stack(percentile_traces[trace_lens == trace_len])\n",
    "    med_trace = np.nanmedian(trace_group, axis=0)\n",
    "    med_traces.append(med_trace)\n",
    "max_trace_len = np.max(trace_bins)\n",
    "trace_dif = max_trace_len - trace_bins\n",
    "padded_traces = np.array(\n",
    "    [\n",
    "        np.pad(\n",
    "            trace,\n",
    "            ((trace_dif[i] // 2) + trace_dif[i] % 2, trace_dif[i] // 2),\n",
    "            constant_values=np.NaN,\n",
    "        )\n",
    "        for i, trace in enumerate(med_traces)\n",
    "    ]\n",
    ")"
   ]
  },
  {
   "cell_type": "code",
   "execution_count": null,
   "metadata": {},
   "outputs": [],
   "source": [
    "plt.plot(percentile_traces[1])\n",
    "plt.show()"
   ]
  },
  {
   "cell_type": "code",
   "execution_count": null,
   "metadata": {
    "tags": []
   },
   "outputs": [],
   "source": [
    "plt.imshow(padded_traces[:80], vmin=1350, vmax=1800)"
   ]
  },
  {
   "cell_type": "code",
   "execution_count": null,
   "metadata": {},
   "outputs": [],
   "source": [
    "nan_thr = 3\n",
    "percentile = 99\n",
    "t_min = 150\n",
    "t_max = 200\n",
    "\n",
    "percentile_traces = []\n",
    "\n",
    "file_indices = np.sort(\n",
    "    [\n",
    "        int(item.split(\"_\")[1].split(\".\")[0])\n",
    "        for item in os.listdir(\n",
    "            \"/home/de64/scratch/de64/sync_folder/2022-01-23_DE511_test/kymograph/\"\n",
    "        )\n",
    "        if \"kymograph\" in item\n",
    "    ]\n",
    ")\n",
    "\n",
    "for file_idx in file_indices:\n",
    "    if file_idx not in remaining_file_idx_lookup.keys():\n",
    "        continue\n",
    "    trench_indices = remaining_file_idx_lookup[file_idx]\n",
    "    with h5py.File(\n",
    "        \"/home/de64/scratch/de64/sync_folder/2022-02-11_DE524_rne/kymograph/kymograph_\"\n",
    "        + str(file_idx)\n",
    "        + \".hdf5\",\n",
    "        \"r\",\n",
    "    ) as infile:\n",
    "        yfp_data = infile[\"YFP\"][:]\n",
    "    with h5py.File(\n",
    "        \"/home/de64/scratch/de64/sync_folder/2022-02-11_DE524_rne/fluorsegmentation/segmentation_\"\n",
    "        + str(file_idx)\n",
    "        + \".hdf5\",\n",
    "        \"r\",\n",
    "    ) as infile:\n",
    "        seg_data = infile[\"data\"][:]\n",
    "\n",
    "    for idx in trench_indices:\n",
    "\n",
    "        for t in range(t_min, t_max):\n",
    "            yfp_data[idx, t] = sk.filters.gaussian(\n",
    "                yfp_data[idx, t], sigma=2.0, preserve_range=True\n",
    "            )\n",
    "\n",
    "            rps = sk.measure.regionprops(seg_data[idx][t], yfp_data[idx][t])\n",
    "            degrees = [(rp.orientation / (2 * np.pi)) * 360 for rp in rps]\n",
    "            centroids = [rp.centroid for rp in rps]\n",
    "\n",
    "            for i, degree in enumerate(degrees):\n",
    "                centroid = centroids[i]\n",
    "                masked_img = (seg_data[idx][t] == (i + 1)) * yfp_data[idx][t]\n",
    "                rotated_img = sk.transform.rotate(\n",
    "                    masked_img, degree, center=centroid[::-1], preserve_range=True\n",
    "                )\n",
    "                rotated_img[rotated_img == 0.0] = np.NaN\n",
    "\n",
    "                n_not_nan = np.sum(~np.isnan(rotated_img), axis=1)\n",
    "                nan_mask = n_not_nan > nan_thr\n",
    "                nan_masked_rotated_img = rotated_img[nan_mask]\n",
    "\n",
    "                percentile_trace = np.nanpercentile(\n",
    "                    nan_masked_rotated_img, percentile, axis=1\n",
    "                )\n",
    "                percentile_traces.append(percentile_trace)\n",
    "percentile_traces = np.array(percentile_traces)"
   ]
  },
  {
   "cell_type": "code",
   "execution_count": null,
   "metadata": {},
   "outputs": [],
   "source": [
    "trace_lens = np.array([len(trace) for trace in percentile_traces])\n",
    "trace_bins = np.sort(np.unique(trace_lens))[:100]\n",
    "med_traces = []\n",
    "for trace_len in trace_bins:\n",
    "    trace_group = np.stack(percentile_traces[trace_lens == trace_len])\n",
    "    med_trace = np.nanmedian(trace_group, axis=0)\n",
    "    med_traces.append(med_trace)\n",
    "max_trace_len = np.max(trace_bins)\n",
    "trace_dif = max_trace_len - trace_bins\n",
    "padded_traces = np.array(\n",
    "    [\n",
    "        np.pad(\n",
    "            trace,\n",
    "            ((trace_dif[i] // 2) + trace_dif[i] % 2, trace_dif[i] // 2),\n",
    "            constant_values=np.NaN,\n",
    "        )\n",
    "        for i, trace in enumerate(med_traces)\n",
    "    ]\n",
    ")"
   ]
  },
  {
   "cell_type": "code",
   "execution_count": null,
   "metadata": {},
   "outputs": [],
   "source": [
    "trace_bins[:80]"
   ]
  },
  {
   "cell_type": "code",
   "execution_count": null,
   "metadata": {},
   "outputs": [],
   "source": [
    "plt.imshow(padded_traces[30:100], vmin=1350, vmax=1800)"
   ]
  },
  {
   "cell_type": "code",
   "execution_count": null,
   "metadata": {},
   "outputs": [],
   "source": []
  },
  {
   "cell_type": "code",
   "execution_count": null,
   "metadata": {},
   "outputs": [],
   "source": []
  },
  {
   "cell_type": "code",
   "execution_count": null,
   "metadata": {},
   "outputs": [],
   "source": [
    "plt.hist(padded_traces.flatten())"
   ]
  },
  {
   "cell_type": "markdown",
   "metadata": {},
   "source": [
    "### b) Making fork plots (Suckjun localization)"
   ]
  },
  {
   "cell_type": "code",
   "execution_count": null,
   "metadata": {},
   "outputs": [],
   "source": [
    "import os\n",
    "import lmfit\n",
    "from lmfit.lineshapes import gaussian2d"
   ]
  },
  {
   "cell_type": "code",
   "execution_count": null,
   "metadata": {},
   "outputs": [],
   "source": [
    "idx = 11\n",
    "test = yfp_data[idx][0] / 65535"
   ]
  },
  {
   "cell_type": "code",
   "execution_count": null,
   "metadata": {
    "tags": []
   },
   "outputs": [],
   "source": [
    "idx = 10\n",
    "test = yfp_data[idx][0] / 65535\n",
    "\n",
    "min_sig = 2\n",
    "max_sig = 8\n",
    "\n",
    "blobs_log = sk.feature.blob_log(\n",
    "    test,\n",
    "    min_sigma=min_sig,\n",
    "    max_sigma=max_sig,\n",
    "    num_sigma=max_sig - min_sig,\n",
    "    threshold=0.001,\n",
    ")\n",
    "\n",
    "fig, axes = plt.subplots(1, 1, figsize=(18, 10))\n",
    "axes.imshow(test)\n",
    "for blob in blobs_log:\n",
    "    y, x, r = blob\n",
    "    c = plt.Circle((x, y), r, color=\"r\", linewidth=2, fill=False)\n",
    "    axes.add_patch(c)\n",
    "plt.show()"
   ]
  },
  {
   "cell_type": "code",
   "execution_count": null,
   "metadata": {},
   "outputs": [],
   "source": [
    "blob_pad = 3\n",
    "\n",
    "# def get_foci_list(img,blobs_log,blob_pad = 3): ## too slow, abondened for now...\n",
    "#     xy_foci = []\n",
    "#     for blob in blobs_log:\n",
    "#         y_blob, x_blob, r_blob = blob\n",
    "#         y_blob, x_blob, r_blob = int(y_blob), int(x_blob), int(r_blob)\n",
    "#         top_left = (y_blob-r_blob,x_blob-r_blob)\n",
    "#         blob_patch = img[top_left[0]-blob_pad:(top_left[0]+r_blob+blob_pad+1),top_left[1]-blob_pad:(top_left[1]+r_blob+blob_pad+1)]\n",
    "#         x_mesh,y_mesh = np.meshgrid(range(blob_patch.shape[1]),range(blob_patch.shape[0]))\n",
    "#         model = lmfit.models.Gaussian2dModel()\n",
    "#         params = model.guess(blob_patch.flatten(), x_mesh.flatten(), y_mesh.flatten())\n",
    "#         result = model.fit(blob_patch.flatten(), x=x_mesh.flatten(), y=y_mesh.flatten(), params=params)\n",
    "#         fit = model.func(x_mesh, y_mesh, **result.best_values)\n",
    "#         x_fit = top_left[1]+result.best_values['centerx']-blob_pad\n",
    "#         y_fit = top_left[0]+result.best_values['centery']-blob_pad\n",
    "#         xy_focus = [x_fit,y_fit]\n",
    "#         xy_foci.append(xy_focus)\n",
    "#     return xy_foci\n",
    "\n",
    "# try taking the blob region, getting regionprops and extracting the weighted centroid, should be basically similar and much faster\n",
    "def get_foci_list(img, blobs_log):\n",
    "    disk_img = np.zeros(img.shape, dtype=bool)\n",
    "    for blob in blobs_log:\n",
    "        y_blob, x_blob, r_blob = blob\n",
    "        y_blob, x_blob, r_blob = int(y_blob), int(x_blob), int(r_blob)\n",
    "\n",
    "        disk_mask = sk.morphology.disk(r_blob, dtype=bool)\n",
    "\n",
    "        disk_left = x_blob - r_blob\n",
    "        disk_right = x_blob + r_blob + 1\n",
    "        disk_top = y_blob - r_blob\n",
    "        disk_bottom = y_blob + r_blob + 1\n",
    "\n",
    "        cropped_disk_left = disk_left >= 0\n",
    "        cropped_disk_right = disk_right <= disk_img.shape[1]\n",
    "        cropped_disk_top = disk_top >= 0\n",
    "        cropped_disk_bottom = disk_bottom <= disk_img.shape[0]\n",
    "\n",
    "        if (\n",
    "            cropped_disk_left\n",
    "            and cropped_disk_right\n",
    "            and cropped_disk_top\n",
    "            and cropped_disk_bottom\n",
    "        ):\n",
    "            disk_img[disk_top:disk_bottom, disk_left:disk_right] = disk_mask[\n",
    "                : (r_blob * 2) + 1, : (r_blob * 2) + 1\n",
    "            ]\n",
    "\n",
    "    disk_img = sk.measure.label(disk_img)\n",
    "    rps = sk.measure.regionprops(disk_img, img)\n",
    "    weighted_centroids = [rp.centroid_weighted for rp in rps]\n",
    "\n",
    "    return weighted_centroids\n",
    "\n",
    "    #     blob_patch = img[top_left[0]-blob_pad:(top_left[0]+r_blob+blob_pad+1),top_left[1]-blob_pad:(top_left[1]+r_blob+blob_pad+1)]\n",
    "    #     x_mesh,y_mesh = np.meshgrid(range(blob_patch.shape[1]),range(blob_patch.shape[0]))\n",
    "    #     model = lmfit.models.Gaussian2dModel()\n",
    "    #     params = model.guess(blob_patch.flatten(), x_mesh.flatten(), y_mesh.flatten())\n",
    "    #     result = model.fit(blob_patch.flatten(), x=x_mesh.flatten(), y=y_mesh.flatten(), params=params)\n",
    "    #     fit = model.func(x_mesh, y_mesh, **result.best_values)\n",
    "    #     x_fit = top_left[1]+result.best_values['centerx']-blob_pad\n",
    "    #     y_fit = top_left[0]+result.best_values['centery']-blob_pad\n",
    "    #     xy_focus = [x_fit,y_fit]\n",
    "    #     xy_foci.append(xy_focus)\n",
    "    # return xy_foci"
   ]
  },
  {
   "cell_type": "code",
   "execution_count": null,
   "metadata": {},
   "outputs": [],
   "source": [
    "sk.morphology.disk(4, dtype=bool)"
   ]
  },
  {
   "cell_type": "code",
   "execution_count": null,
   "metadata": {},
   "outputs": [],
   "source": []
  },
  {
   "cell_type": "code",
   "execution_count": null,
   "metadata": {},
   "outputs": [],
   "source": []
  },
  {
   "cell_type": "code",
   "execution_count": null,
   "metadata": {},
   "outputs": [],
   "source": [
    "plt.imshow(test)\n",
    "plt.scatter(xy_foci[:, 0], xy_foci[:, 1], color=\"r\")"
   ]
  },
  {
   "cell_type": "code",
   "execution_count": null,
   "metadata": {},
   "outputs": [],
   "source": [
    "disk_img = np.zeros(norm_yfp_data.shape, dtype=bool)"
   ]
  },
  {
   "cell_type": "code",
   "execution_count": null,
   "metadata": {},
   "outputs": [],
   "source": [
    "plt.imshow(disk_img)"
   ]
  },
  {
   "cell_type": "code",
   "execution_count": null,
   "metadata": {},
   "outputs": [],
   "source": [
    "y_blob"
   ]
  },
  {
   "cell_type": "code",
   "execution_count": null,
   "metadata": {},
   "outputs": [],
   "source": [
    "x_blob"
   ]
  },
  {
   "cell_type": "code",
   "execution_count": null,
   "metadata": {},
   "outputs": [],
   "source": [
    "r_blob"
   ]
  },
  {
   "cell_type": "code",
   "execution_count": null,
   "metadata": {},
   "outputs": [],
   "source": [
    "disk_mask[:, :]"
   ]
  },
  {
   "cell_type": "code",
   "execution_count": null,
   "metadata": {},
   "outputs": [],
   "source": []
  },
  {
   "cell_type": "code",
   "execution_count": null,
   "metadata": {},
   "outputs": [],
   "source": [
    "disk_img.shape"
   ]
  },
  {
   "cell_type": "code",
   "execution_count": null,
   "metadata": {},
   "outputs": [],
   "source": [
    "disk_left = x_blob - r_blob\n",
    "disk_right = x_blob + r_blob\n",
    "disk_top = y_blob - r_blob\n",
    "disk_bottom = y_blob + r_blob\n",
    "\n",
    "cropped_disk_left = max(0, disk_left)\n",
    "cropped_disk_right = min(disk_img.shape[1], disk_right)\n",
    "cropped_disk_top = max(0, disk_top)\n",
    "cropped_disk_bottom = min(disk_img.shape[0], disk_bottom)\n",
    "\n",
    "del_left = cropped_disk_left - disk_left\n",
    "del_right = disk_right - cropped_disk_right\n",
    "del_top = cropped_disk_top - disk_top\n",
    "del_bottom = disk_bottom - cropped_disk_bottom"
   ]
  },
  {
   "cell_type": "code",
   "execution_count": null,
   "metadata": {},
   "outputs": [],
   "source": [
    "disk_mask = disk_mask[\n",
    "    cropped_disk_top : cropped_disk_bottom + 1,\n",
    "    cropped_disk_left : cropped_disk_right + 1,\n",
    "]"
   ]
  },
  {
   "cell_type": "code",
   "execution_count": null,
   "metadata": {},
   "outputs": [],
   "source": [
    "disk_img = disk_img[\n",
    "    cropped_disk_top : cropped_disk_bottom + 1,\n",
    "    cropped_disk_left : cropped_disk_right + 1,\n",
    "]"
   ]
  },
  {
   "cell_type": "code",
   "execution_count": null,
   "metadata": {},
   "outputs": [],
   "source": [
    "disk_mask.shape"
   ]
  },
  {
   "cell_type": "code",
   "execution_count": null,
   "metadata": {},
   "outputs": [],
   "source": [
    "disk_img[\n",
    "    cropped_disk_top : cropped_disk_bottom + 1,\n",
    "    cropped_disk_left : cropped_disk_right + 1,\n",
    "] = disk_mask[\n",
    "    cropped_disk_top - disk_top : (r_blob * 2) + del_bottom + 1,\n",
    "    cropped_disk_left - disk_left : (r_blob * 2) + del_right + 1,\n",
    "]"
   ]
  },
  {
   "cell_type": "code",
   "execution_count": null,
   "metadata": {},
   "outputs": [],
   "source": [
    "disk_mask.shape"
   ]
  },
  {
   "cell_type": "code",
   "execution_count": null,
   "metadata": {},
   "outputs": [],
   "source": [
    "disk_right - cropped_disk_right"
   ]
  },
  {
   "cell_type": "code",
   "execution_count": null,
   "metadata": {},
   "outputs": [],
   "source": [
    "disk_img.shape[1]"
   ]
  },
  {
   "cell_type": "code",
   "execution_count": null,
   "metadata": {},
   "outputs": [],
   "source": [
    "for blob in blobs_log:\n",
    "    y_blob, x_blob, r_blob = blob\n",
    "    y_blob, x_blob, r_blob = int(y_blob), int(x_blob), int(r_blob)\n",
    "\n",
    "    disk_mask = sk.morphology.disk(r_blob, dtype=bool)\n",
    "\n",
    "    disk_left = x_blob - r_blob\n",
    "    disk_right = x_blob + r_blob\n",
    "    disk_top = y_blob - r_blob\n",
    "    disk_bottom = y_blob + r_blob\n",
    "\n",
    "    cropped_disk_left = max(0, disk_left)\n",
    "    cropped_disk_right = min(disk_img.shape[1], disk_right)\n",
    "    cropped_disk_top = max(0, disk_top)\n",
    "    cropped_disk_bottom = min(disk_img.shape[0], disk_bottom)\n",
    "\n",
    "    del_left = cropped_disk_left - disk_left\n",
    "    del_right = disk_right - cropped_disk_right\n",
    "    del_top = cropped_disk_top - disk_top\n",
    "    del_bottom = disk_bottom - cropped_disk_bottom\n",
    "\n",
    "    disk_img[\n",
    "        cropped_disk_top : cropped_disk_bottom + 1,\n",
    "        cropped_disk_left : cropped_disk_right + 1,\n",
    "    ] = disk_mask[\n",
    "        cropped_disk_top - disk_top : (r_blob * 2) + del_bottom + 1,\n",
    "        cropped_disk_left - disk_left : (r_blob * 2) + del_right + 1,\n",
    "    ]"
   ]
  },
  {
   "cell_type": "code",
   "execution_count": null,
   "metadata": {},
   "outputs": [],
   "source": []
  },
  {
   "cell_type": "code",
   "execution_count": null,
   "metadata": {},
   "outputs": [],
   "source": [
    "file_indices = np.sort([int(item.split(\"_\")[1].split(\".\")[0]) for item in os.listdir(\"/home/de64/scratch/de64/sync_folder/2022-01-23_DE511_test/kymograph/\") if 'kymograph' in item])\n",
    "\n",
    "for file_idx in file_indices:\n",
    "    if file_idx not in remaining_file_idx_lookup.keys():\n",
    "        continue\n",
    "    trench_indices = remaining_file_idx_lookup[file_idx]\n",
    "    with h5py.File(\"/home/de64/scratch/de64/sync_folder/2022-02-11_DE524_rne/kymograph/kymograph_\" + str(file_idx) + \".hdf5\", \"r\") as infile:\n",
    "        yfp_data = infile[\"YFP\"][:]\n",
    "    with h5py.File(\"/home/de64/scratch/de64/sync_folder/2022-02-11_DE524_rne/fluorsegmentation/segmentation_\" + str(file_idx) + \".hdf5\", \"r\") as infile:"
   ]
  },
  {
   "cell_type": "code",
   "execution_count": null,
   "metadata": {},
   "outputs": [],
   "source": [
    "nan_thr = 3\n",
    "min_sig = 3\n",
    "max_sig = 8\n",
    "brightness_threshold = 0.01\n",
    "\n",
    "t_min = 0\n",
    "t_max = 30\n",
    "\n",
    "ttl_imgs = 0\n",
    "bright_imgs = 0\n",
    "\n",
    "rel_xy_foci_in_seg_list = []\n",
    "\n",
    "file_indices = np.sort(\n",
    "    [\n",
    "        int(item.split(\"_\")[1].split(\".\")[0])\n",
    "        for item in os.listdir(\n",
    "            \"/home/de64/scratch/de64/sync_folder/2022-02-11_DE524_rne/kymograph/\"\n",
    "        )\n",
    "        if \"kymograph\" in item\n",
    "    ]\n",
    ")\n",
    "file_indices = file_indices[:500]\n",
    "\n",
    "for file_idx in file_indices:\n",
    "    with h5py.File(\n",
    "        \"/home/de64/scratch/de64/sync_folder/2022-02-11_DE524_rne/kymograph/kymograph_\"\n",
    "        + str(file_idx)\n",
    "        + \".hdf5\",\n",
    "        \"r\",\n",
    "    ) as infile:\n",
    "        yfp_data = infile[\"YFP\"][:]\n",
    "    with h5py.File(\n",
    "        \"/home/de64/scratch/de64/sync_folder/2022-02-11_DE524_rne/fluorsegmentation/segmentation_\"\n",
    "        + str(file_idx)\n",
    "        + \".hdf5\",\n",
    "        \"r\",\n",
    "    ) as infile:\n",
    "        seg_data = infile[\"data\"][:]\n",
    "\n",
    "    for idx in range(seg_data.shape[0]):\n",
    "        for t in range(t_min, t_max):\n",
    "            rps = sk.measure.regionprops(seg_data[idx][t], yfp_data[idx][t])\n",
    "            radians = [rp.orientation for rp in rps]\n",
    "            coords = [rp.coords for rp in rps]\n",
    "            centroids = [rp.centroid for rp in rps]\n",
    "            cell_lens = [rp.axis_major_length for rp in rps]  # temp, do better later\n",
    "\n",
    "            theta = np.array(radians)\n",
    "            R_all = np.array(\n",
    "                [[np.cos(-theta), -np.sin(-theta)], [np.sin(-theta), np.cos(-theta)]]\n",
    "            )\n",
    "\n",
    "            norm_yfp_data = yfp_data[idx][t] / 65535\n",
    "\n",
    "            foreground_data = norm_yfp_data[\n",
    "                norm_yfp_data > sk.filters.threshold_otsu(norm_yfp_data)\n",
    "            ].flatten()\n",
    "            mean_foreground = np.mean(foreground_data)\n",
    "\n",
    "            ttl_imgs += 1\n",
    "            if mean_foreground < brightness_threshold:\n",
    "                continue\n",
    "            bright_imgs += 1\n",
    "\n",
    "            blobs_log = sk.feature.blob_log(\n",
    "                norm_yfp_data,\n",
    "                min_sigma=min_sig,\n",
    "                max_sigma=max_sig,\n",
    "                num_sigma=max_sig - min_sig,\n",
    "                threshold=0.001,\n",
    "            )\n",
    "            xy_foci = get_foci_list(norm_yfp_data, blobs_log)\n",
    "            xy_foci_arr = np.array(xy_foci)\n",
    "\n",
    "            for i, radian in enumerate(radians):\n",
    "                coord = coords[i]\n",
    "                centroid = centroids[i]\n",
    "                cell_len = cell_lens[i]\n",
    "\n",
    "                coord_tuples = [(xy_coord[0], xy_coord[1]) for xy_coord in coord]\n",
    "                xy_foci_coord_list = [\n",
    "                    (item[0], item[1])\n",
    "                    for item in np.round(np.array(xy_foci)).astype(int).tolist()\n",
    "                ]\n",
    "                foci_in_seg = [\n",
    "                    f\n",
    "                    for f, item in enumerate(xy_foci_coord_list)\n",
    "                    if item in coord_tuples\n",
    "                ]\n",
    "                xy_foci_in_seg = xy_foci_arr[foci_in_seg]\n",
    "                # plt.imshow(norm_yfp_data)\n",
    "                # plt.scatter(xy_foci_in_seg[:,1],xy_foci_in_seg[:,0],c='r')\n",
    "                # plt.imshow(seg_data[idx][t],alpha=0.4)\n",
    "                # plt.show()\n",
    "                if len(xy_foci_in_seg) != 0:\n",
    "                    rel_xy_foci_in_seg = xy_foci_in_seg - np.array(centroid)\n",
    "                    rel_xy_foci_in_seg = (\n",
    "                        R_all[:, :, i] @ (rel_xy_foci_in_seg[:, ::-1].T)\n",
    "                    ).T[:, ::-1]\n",
    "                    rel_xy_foci_in_seg = np.concatenate(\n",
    "                        [\n",
    "                            rel_xy_foci_in_seg,\n",
    "                            np.array(\n",
    "                                [[cell_len for m in range(rel_xy_foci_in_seg.shape[0])]]\n",
    "                            ).T,\n",
    "                        ],\n",
    "                        axis=1,\n",
    "                    )\n",
    "                    rel_xy_foci_in_seg_list.append(rel_xy_foci_in_seg)\n",
    "rel_xy_foci_in_seg_arr = np.concatenate(rel_xy_foci_in_seg_list)\n",
    "# percentile_traces = np.array(percentile_traces)\n",
    "# trace_lens = np.array([len(trace) for trace in percentile_traces])\n",
    "# trace_bins = np.sort(np.unique(trace_lens))\n",
    "# med_traces = []\n",
    "# for trace_len in trace_bins:\n",
    "#     trace_group = np.stack(percentile_traces[trace_lens==trace_len])\n",
    "#     med_trace = np.nanmedian(trace_group,axis=0)\n",
    "#     med_traces.append(med_trace)\n",
    "# max_trace_len = np.max(trace_bins)\n",
    "# trace_dif = max_trace_len-trace_bins\n",
    "# padded_traces = np.array([np.pad(trace,((trace_dif[i]//2)+trace_dif[i]%2,trace_dif[i]//2),constant_values=np.NaN) for i,trace in enumerate(med_traces)])"
   ]
  },
  {
   "cell_type": "code",
   "execution_count": null,
   "metadata": {},
   "outputs": [],
   "source": [
    "print(str(bright_imgs) + \"/\" + str(ttl_imgs))"
   ]
  },
  {
   "cell_type": "code",
   "execution_count": null,
   "metadata": {},
   "outputs": [],
   "source": [
    "pixel_scale = 0.215\n",
    "\n",
    "scaled_foci_pos = rel_xy_foci_in_seg_arr * pixel_scale"
   ]
  },
  {
   "cell_type": "code",
   "execution_count": null,
   "metadata": {},
   "outputs": [],
   "source": [
    "pixel_scale = 0.215\n",
    "\n",
    "y_min, y_max = -40, 40\n",
    "\n",
    "bins = np.linspace(30, 60, num=40)\n",
    "\n",
    "hist_list = []\n",
    "for i in range(len(bins) - 1):\n",
    "    bin_interval = bins[i : i + 2]\n",
    "    padding = int(np.round(np.mean(bin_interval))) // 2\n",
    "    under_thr = rel_xy_foci_in_seg_arr[:, 2] <= bin_interval[1]\n",
    "    over_thr = bin_interval[0] < rel_xy_foci_in_seg_arr[:, 2]\n",
    "    filtered_xy_foci = rel_xy_foci_in_seg_arr[under_thr & over_thr]\n",
    "    y_coords = filtered_xy_foci[:, 0]\n",
    "    hist_out = np.histogram(y_coords, bins=y_max - y_min, range=(y_min, y_max))[0]\n",
    "    hist_out = hist_out / np.max(hist_out)\n",
    "    hist_out[: y_max - padding] = np.NaN\n",
    "    hist_out[y_max + padding :] = np.NaN\n",
    "    hist_list.append(hist_out)\n",
    "hist_arr = np.array(hist_list)"
   ]
  },
  {
   "cell_type": "code",
   "execution_count": null,
   "metadata": {},
   "outputs": [],
   "source": [
    "y_ticks = np.linspace(30 * pixel_scale, 60 * pixel_scale, num=40)\n",
    "x_ticks = np.linspace(y_min * pixel_scale, y_max * pixel_scale, num=y_max - y_min)"
   ]
  },
  {
   "cell_type": "code",
   "execution_count": null,
   "metadata": {},
   "outputs": [],
   "source": [
    "y_ticks"
   ]
  },
  {
   "cell_type": "code",
   "execution_count": null,
   "metadata": {},
   "outputs": [],
   "source": [
    "padding = int(np.round(np.mean(bin_interval))) // 2"
   ]
  },
  {
   "cell_type": "code",
   "execution_count": null,
   "metadata": {},
   "outputs": [],
   "source": []
  },
  {
   "cell_type": "code",
   "execution_count": null,
   "metadata": {
    "tags": []
   },
   "outputs": [],
   "source": [
    "fig, ax1 = plt.subplots(1, 1)\n",
    "ax1.imshow(hist_arr, cmap=\"jet\")\n",
    "ax1.set_xticklabels(x_ticks)\n",
    "ax1.set_yticklabels(y_ticks)"
   ]
  },
  {
   "cell_type": "code",
   "execution_count": null,
   "metadata": {},
   "outputs": [],
   "source": [
    "ax1.imshow(hist_arr, cmap=\"jet\")"
   ]
  },
  {
   "cell_type": "code",
   "execution_count": null,
   "metadata": {},
   "outputs": [],
   "source": [
    "plt.imshow(hist_out)"
   ]
  },
  {
   "cell_type": "code",
   "execution_count": null,
   "metadata": {},
   "outputs": [],
   "source": [
    "plt.hist(y_coords, bins=60, range=(-30, 30))[0]"
   ]
  },
  {
   "cell_type": "code",
   "execution_count": null,
   "metadata": {},
   "outputs": [],
   "source": [
    "xy_foci_in_seg - np.array(centroid)"
   ]
  },
  {
   "cell_type": "code",
   "execution_count": null,
   "metadata": {},
   "outputs": [],
   "source": [
    "rel_xy_foci_in_seg_list"
   ]
  },
  {
   "cell_type": "code",
   "execution_count": null,
   "metadata": {
    "tags": []
   },
   "outputs": [],
   "source": [
    "xy_foci_coord_list"
   ]
  },
  {
   "cell_type": "code",
   "execution_count": null,
   "metadata": {},
   "outputs": [],
   "source": [
    "xy_foci_arr.shape"
   ]
  },
  {
   "cell_type": "code",
   "execution_count": null,
   "metadata": {},
   "outputs": [],
   "source": [
    "coord_tuples"
   ]
  },
  {
   "cell_type": "code",
   "execution_count": null,
   "metadata": {},
   "outputs": [],
   "source": [
    "rel_xy_foci_in_seg.shape"
   ]
  },
  {
   "cell_type": "code",
   "execution_count": null,
   "metadata": {},
   "outputs": [],
   "source": [
    "np.concatenate(\n",
    "    [rel_xy_foci_in_seg, np.array([[0 for m in range(rel_xy_foci_in_seg.shape[0])]]).T],\n",
    "    axis=1,\n",
    ")"
   ]
  },
  {
   "cell_type": "code",
   "execution_count": null,
   "metadata": {},
   "outputs": [],
   "source": [
    "np.array([[0 for m in range(rel_xy_foci_in_seg.shape[0])]]).T.shape"
   ]
  },
  {
   "cell_type": "code",
   "execution_count": null,
   "metadata": {},
   "outputs": [],
   "source": [
    "xy_foci_in_seg[:, ::-1]"
   ]
  },
  {
   "cell_type": "code",
   "execution_count": null,
   "metadata": {},
   "outputs": [],
   "source": [
    "np.array(centroid)"
   ]
  },
  {
   "cell_type": "code",
   "execution_count": null,
   "metadata": {},
   "outputs": [],
   "source": [
    "rel_xy_foci_in_seg"
   ]
  },
  {
   "cell_type": "code",
   "execution_count": null,
   "metadata": {},
   "outputs": [],
   "source": [
    "rel_xy_foci_in_seg"
   ]
  },
  {
   "cell_type": "code",
   "execution_count": null,
   "metadata": {},
   "outputs": [],
   "source": [
    "theta = degrees\n",
    "R = np.array([[np.cos(degrees), -np.sin(degrees)], [np.sin(degrees), np.cos(degrees)]])"
   ]
  },
  {
   "cell_type": "code",
   "execution_count": null,
   "metadata": {},
   "outputs": [],
   "source": [
    "rel_xy_foci_in_seg = (R @ (rel_xy_foci_in_seg[:, ::-1].T)).T[:, ::-1]"
   ]
  },
  {
   "cell_type": "code",
   "execution_count": null,
   "metadata": {},
   "outputs": [],
   "source": [
    "rel_xy_foci_in_seg"
   ]
  },
  {
   "cell_type": "code",
   "execution_count": null,
   "metadata": {},
   "outputs": [],
   "source": [
    "R.shape"
   ]
  },
  {
   "cell_type": "code",
   "execution_count": null,
   "metadata": {},
   "outputs": [],
   "source": [
    "rel_xy_foci_in_seg"
   ]
  },
  {
   "cell_type": "code",
   "execution_count": null,
   "metadata": {},
   "outputs": [],
   "source": [
    "R"
   ]
  },
  {
   "cell_type": "code",
   "execution_count": null,
   "metadata": {},
   "outputs": [],
   "source": [
    "rot_test = sk.transform.rotate(\n",
    "    seg_data[idx][0], 5, center=centroid[::-1], preserve_range=True\n",
    ").astype(int)\n",
    "rps = sk.measure.regionprops(rot_test)\n",
    "degrees = [(rp.orientation / (2 * np.pi)) * 360 for rp in rps]\n",
    "coords = [rp.coords for rp in rps]\n",
    "centroids = [rp.centroid for rp in rps]"
   ]
  },
  {
   "cell_type": "code",
   "execution_count": null,
   "metadata": {},
   "outputs": [],
   "source": [
    "degrees"
   ]
  },
  {
   "cell_type": "code",
   "execution_count": null,
   "metadata": {},
   "outputs": [],
   "source": [
    "plt.imshow(rot_test)"
   ]
  },
  {
   "cell_type": "code",
   "execution_count": null,
   "metadata": {},
   "outputs": [],
   "source": [
    "theta = np.array(degrees)\n",
    "R = np.array([[np.cos(-theta), -np.sin(-theta)], [np.sin(-theta), np.cos(-theta)]])"
   ]
  },
  {
   "cell_type": "code",
   "execution_count": null,
   "metadata": {},
   "outputs": [],
   "source": [
    "R.shape"
   ]
  },
  {
   "cell_type": "code",
   "execution_count": null,
   "metadata": {},
   "outputs": [],
   "source": []
  }
 ],
 "metadata": {
  "kernelspec": {
   "display_name": "Python 3 (ipykernel)",
   "language": "python",
   "name": "python3"
  },
  "language_info": {
   "codemirror_mode": {
    "name": "ipython",
    "version": 3
   },
   "file_extension": ".py",
   "mimetype": "text/x-python",
   "name": "python",
   "nbconvert_exporter": "python",
   "pygments_lexer": "ipython3",
   "version": "3.8.5"
  },
  "toc-autonumbering": false,
  "toc-showcode": false,
  "toc-showmarkdowntxt": false,
  "toc-showtags": false
 },
 "nbformat": 4,
 "nbformat_minor": 4
}
