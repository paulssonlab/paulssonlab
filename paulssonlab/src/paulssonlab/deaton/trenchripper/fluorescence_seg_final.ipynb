{
 "cells": [
  {
   "cell_type": "markdown",
   "metadata": {},
   "source": [
    "### Fluorescence Segmentation\n",
    "\n",
    "Here, I compile the fluorescence segmentation into a single class. Does not require I/O based memory management, so it should not require seperate classes for the interactive and production modules."
   ]
  },
  {
   "cell_type": "code",
   "execution_count": null,
   "metadata": {},
   "outputs": [],
   "source": [
    "import numpy as np\n",
    "import skimage as sk\n",
    "import h5py\n",
    "from matplotlib import pyplot as plt\n",
    "import skimage.filters\n",
    "from skimage import measure, feature, segmentation, future, util\n",
    "from skimage.filters import threshold_otsu, threshold_niblack, rank\n",
    "from skimage.morphology import disk\n",
    "from scipy import ndimage"
   ]
  },
  {
   "cell_type": "code",
   "execution_count": null,
   "metadata": {},
   "outputs": [],
   "source": [
    "import trenchripper as tr"
   ]
  },
  {
   "cell_type": "code",
   "execution_count": null,
   "metadata": {},
   "outputs": [],
   "source": [
    "class fluo_segmentation:\n",
    "    def __init__(\n",
    "        self,\n",
    "        input_file_prefix,\n",
    "        output_path,\n",
    "        all_channels,\n",
    "        smooth_sigma=0.75,\n",
    "        wrap_pad=3,\n",
    "        hess_pad=4,\n",
    "        min_obj_size=30,\n",
    "        local_otsu_r=15,\n",
    "        threshold_range=20,\n",
    "        threshold_step=5,\n",
    "        convex_threshold=0.8,\n",
    "    ):\n",
    "\n",
    "        self.input_file_prefix = input_file_prefix\n",
    "        self.output_path = output_path\n",
    "        self.all_channels = all_channels\n",
    "\n",
    "        self.smooth_sigma = smooth_sigma\n",
    "        self.wrap_pad = wrap_pad\n",
    "        self.hess_pad = hess_pad\n",
    "        self.min_obj_size = min_obj_size\n",
    "        self.local_otsu_r = local_otsu_r\n",
    "        self.threshold_range = threshold_range\n",
    "        self.threshold_step = threshold_step\n",
    "        self.convex_threshold = convex_threshold\n",
    "\n",
    "    def to_8bit(self, img_arr):\n",
    "        max_val = np.max(img_arr)\n",
    "        min_val = np.min(img_arr)\n",
    "        norm_array = (img_arr - min_val) / (max_val - min_val)\n",
    "        norm_byte_array = sk.img_as_ubyte(norm_array)\n",
    "        return norm_byte_array\n",
    "\n",
    "    def preprocess_img(self, img_arr, sigma=1.0):\n",
    "        img_smooth = self.to_8bit(\n",
    "            sk.filters.gaussian(\n",
    "                img_arr, sigma=sigma, preserve_range=True, mode=\"reflect\"\n",
    "            )\n",
    "        )\n",
    "        return img_smooth\n",
    "\n",
    "    def hessian_contrast_enc(self, img_arr, edge_padding=0):\n",
    "        img_arr = np.pad(img_arr, edge_padding, \"reflect\")\n",
    "        hessian = sk.feature.hessian_matrix(img_arr, order=\"rc\")\n",
    "        eigvals = sk.feature.hessian_matrix_eigvals(hessian)\n",
    "        min_eigvals = np.min(eigvals, axis=0)\n",
    "        if edge_padding > 0:\n",
    "            min_eigvals = min_eigvals[\n",
    "                edge_padding:-edge_padding, edge_padding:-edge_padding\n",
    "            ]\n",
    "        return min_eigvals\n",
    "\n",
    "    def find_mask(self, cell_local_mask, min_eigvals, edge_threshold, min_size=30):\n",
    "        edge_mask = min_eigvals > edge_threshold\n",
    "        edge_mask = sk.morphology.binary_closing(edge_mask)\n",
    "        composite_mask = cell_local_mask * edge_mask\n",
    "        composite_mask = sk.morphology.remove_small_objects(\n",
    "            composite_mask, min_size=min_size\n",
    "        )\n",
    "        composite_mask = sk.morphology.remove_small_holes(composite_mask)\n",
    "        return composite_mask\n",
    "\n",
    "    def compute_convexity(self, curr_obj):\n",
    "        area = np.sum(curr_obj)\n",
    "        convex_hull = sk.morphology.convex_hull_image(curr_obj)\n",
    "        convex_hull_area = np.sum(convex_hull)\n",
    "        convexity = area / convex_hull_area\n",
    "        return convexity\n",
    "\n",
    "    def get_object_coords(self, obj_thresh, padding=1):\n",
    "        x_dim_max = np.max(obj_thresh, axis=0)\n",
    "        x_indices = np.where(x_dim_max)[0]\n",
    "        x_min = max(np.min(x_indices) - padding, 0)\n",
    "        x_max = min(np.max(x_indices) + padding + 1, obj_thresh.shape[1])\n",
    "\n",
    "        y_dim_max = np.max(obj_thresh, axis=1)\n",
    "        y_indices = np.where(y_dim_max)[0]\n",
    "        y_min = max(np.min(y_indices) - padding, 0)\n",
    "        y_max = min(np.max(y_indices) + padding + 1, obj_thresh.shape[0])\n",
    "\n",
    "        return x_min, x_max, y_min, y_max\n",
    "\n",
    "    def crop_object(self, conn_comp, obj_idx, padding=1):\n",
    "        obj_thresh = conn_comp == obj_idx\n",
    "        x_min, x_max, y_min, y_max = self.get_object_coords(obj_thresh, padding=padding)\n",
    "        curr_obj = obj_thresh[y_min:y_max, x_min:x_max]\n",
    "        return curr_obj\n",
    "\n",
    "    def get_image_weights(self, conn_comp, padding=1):\n",
    "        objects = np.unique(conn_comp)[1:]\n",
    "        weights = []\n",
    "        for obj_idx in objects:\n",
    "            curr_obj = self.crop_object(conn_comp, obj_idx, padding=padding)\n",
    "            weight = self.compute_convexity(curr_obj)\n",
    "            weights.append(weight)\n",
    "        return np.array(weights)\n",
    "\n",
    "    def make_weight_arr(self, conn_comp, weights):\n",
    "        weight_arr = np.zeros(conn_comp.shape)\n",
    "        for i, obj_weight in enumerate(weights):\n",
    "            obj_idx = i + 1\n",
    "            obj_mask = conn_comp == obj_idx\n",
    "            weight_arr[obj_mask] = obj_weight\n",
    "        return weight_arr\n",
    "\n",
    "    def get_mid_threshold_arr(self, wrap_eig, padding=3):\n",
    "        edge_threshold_kymo = []\n",
    "        for t in range(wrap_eig.shape[-1]):\n",
    "            edge_threshold = sk.filters.threshold_otsu(wrap_eig[:, :, t])\n",
    "            edge_thr_arr = edge_threshold * np.ones(\n",
    "                wrap_eig[:, :, t].shape, dtype=\"uint8\"\n",
    "            )\n",
    "            edge_threshold_kymo.append(edge_thr_arr)\n",
    "        edge_threshold_kymo = np.array(edge_threshold_kymo)\n",
    "        edge_threshold_kymo = np.moveaxis(edge_threshold_kymo, (0, 1, 2), (2, 0, 1))\n",
    "\n",
    "        edge_thr_kymo = tr.utils.kymo_handle()\n",
    "        edge_thr_kymo.import_wrap(edge_threshold_kymo, scale=False)\n",
    "        mid_threshold_arr = edge_thr_kymo.return_unwrap(padding=padding)\n",
    "        return mid_threshold_arr\n",
    "\n",
    "    def get_convex_scores(\n",
    "        self,\n",
    "        cell_local_mask,\n",
    "        min_eigvals,\n",
    "        mid_threshold_arr,\n",
    "        threshold_range=20,\n",
    "        threshold_step=5,\n",
    "    ):\n",
    "        edge_thresholds = [\n",
    "            mid_threshold_arr + i\n",
    "            for i in range(-threshold_range, threshold_range, threshold_step)\n",
    "        ]\n",
    "        weight_arrs = []\n",
    "        for edge_threshold in edge_thresholds:\n",
    "            composite_mask = self.find_mask(\n",
    "                cell_local_mask, min_eigvals, edge_threshold, min_size=30\n",
    "            )\n",
    "            conn_comp = sk.measure.label(composite_mask, neighbors=4, connectivity=2)\n",
    "            weights = self.get_image_weights(conn_comp)\n",
    "            weight_arr = self.make_weight_arr(conn_comp, weights)\n",
    "            weight_arrs.append(weight_arr)\n",
    "        weight_arrs = np.array(weight_arrs)\n",
    "        max_merged = np.max(weight_arrs, axis=0)\n",
    "        return max_merged\n",
    "\n",
    "    def segment(self, img_arr):\n",
    "        input_kymo = tr.utils.kymo_handle()\n",
    "        input_kymo.import_wrap(img_arr, scale=True, scale_perc=95)\n",
    "        t_tot = input_kymo.kymo_arr.shape[-1]\n",
    "\n",
    "        working_img = self.preprocess_img(\n",
    "            input_kymo.return_unwrap(padding=self.wrap_pad), sigma=self.smooth_sigma\n",
    "        )\n",
    "        del input_kymo\n",
    "\n",
    "        inverted = sk.util.invert(working_img)\n",
    "        min_eigvals = self.to_8bit(self.hessian_contrast_enc(inverted, self.hess_pad))\n",
    "        del inverted\n",
    "\n",
    "        otsu_selem = disk(self.local_otsu_r)\n",
    "        local_otsu = rank.otsu(working_img, otsu_selem)\n",
    "        cell_local_mask = working_img > local_otsu\n",
    "        del working_img\n",
    "\n",
    "        cell_region_threshold = sk.filters.threshold_otsu(local_otsu)\n",
    "        cell_region_mask = local_otsu > cell_region_threshold\n",
    "        del local_otsu\n",
    "        cell_local_mask = cell_local_mask * cell_region_mask\n",
    "        del cell_region_mask\n",
    "\n",
    "        eig_kymo = tr.utils.kymo_handle()\n",
    "        eig_kymo.import_unwrap(min_eigvals, t_tot, padding=self.wrap_pad)\n",
    "        wrap_eig = eig_kymo.return_wrap()\n",
    "        mid_threshold_arr = self.get_mid_threshold_arr(wrap_eig, padding=self.wrap_pad)\n",
    "        del wrap_eig\n",
    "\n",
    "        convex_scores = self.get_convex_scores(\n",
    "            cell_local_mask,\n",
    "            min_eigvals,\n",
    "            mid_threshold_arr,\n",
    "            threshold_range=self.threshold_range,\n",
    "            threshold_step=self.threshold_step,\n",
    "        )\n",
    "        del cell_local_mask\n",
    "        del min_eigvals\n",
    "        del mid_threshold_arr\n",
    "\n",
    "        final_mask = convex_scores > self.convex_threshold\n",
    "\n",
    "        output_kymo = tr.utils.kymo_handle()\n",
    "        output_kymo.import_unwrap(final_mask, t_tot, padding=self.wrap_pad)\n",
    "        final_mask = output_kymo.return_wrap()\n",
    "\n",
    "        segmented = [\n",
    "            sk.measure.label(final_mask[:, :, t], neighbors=4, connectivity=2)\n",
    "            for t in range(final_mask.shape[-1])\n",
    "        ]\n",
    "        segmented = np.array(segmented)\n",
    "        segmented = np.moveaxis(segmented, (0, 1, 2), (2, 0, 1))\n",
    "        return segmented\n",
    "\n",
    "    #     def segment_fov(self,)\n",
    "\n",
    "    def init_fov_number(self, fov_number):\n",
    "        self.fov_number = fov_number\n",
    "        self.output_file_path = (\n",
    "            self.output_path + \"/seg_\" + str(self.fov_number) + \".hdf5\"\n",
    "        )\n",
    "\n",
    "    def generate_kymograph(self, fov_number):\n",
    "        \"\"\"Master function for generating kymographs for the set of fovs specified on initialization. Writes an hdf5\n",
    "        file at self.output_file_path containing kymographs of shape (trench_num,y_dim,x_dim,t_dim) for each\n",
    "        row,channel combination. Dataset keys follow the convention [\"[row_number]/[channel_name]\"].\n",
    "        \"\"\"\n",
    "\n",
    "        self.init_fov_number(fov_number)\n",
    "        self.writedir(self.output_path, overwrite=False)\n",
    "        self.writedir(self.temp_path, overwrite=True)\n",
    "        imported_hdf5_handle = h5py.File(self.input_path, \"r\")\n",
    "        cropped_in_y_handles = self.crop_trenches_in_y(imported_hdf5_handle)\n",
    "        self.crop_trenches_in_x(cropped_in_y_handles)\n",
    "        temp_output_file_path = self.temp_path + \"output.hdf5\"\n",
    "        os.rename(temp_output_file_path, self.output_file_path)\n",
    "        for cropped_in_y_handle in cropped_in_y_handles:\n",
    "            self.delete_hdf5(cropped_in_y_handle)\n",
    "        shutil.rmtree(self.temp_path)"
   ]
  },
  {
   "cell_type": "code",
   "execution_count": null,
   "metadata": {},
   "outputs": [],
   "source": [
    "data = h5py.File(\n",
    "    \"/n/groups/paulsson/Daniel/Image_analysis_pipeline/kymographs/output/fov_10.hdf5\",\n",
    "    \"r\",\n",
    ")"
   ]
  },
  {
   "cell_type": "code",
   "execution_count": null,
   "metadata": {},
   "outputs": [],
   "source": [
    "array = data[\"top/channel_RFP/11\"]"
   ]
  },
  {
   "cell_type": "code",
   "execution_count": null,
   "metadata": {},
   "outputs": [],
   "source": [
    "# array = np.repeat(array,10,2)"
   ]
  },
  {
   "cell_type": "code",
   "execution_count": null,
   "metadata": {},
   "outputs": [],
   "source": [
    "input_kymo = tr.utils.kymo_handle()\n",
    "input_kymo.import_wrap(array, scale=True, scale_perc=95)"
   ]
  },
  {
   "cell_type": "code",
   "execution_count": null,
   "metadata": {},
   "outputs": [],
   "source": [
    "plt.imshow(input_kymo.return_unwrap(padding=3))\n",
    "plt.show()"
   ]
  },
  {
   "cell_type": "code",
   "execution_count": null,
   "metadata": {},
   "outputs": [],
   "source": [
    "seg = fluo_segmentation(\"\", \"\", [\"channel_RFP\"])"
   ]
  },
  {
   "cell_type": "code",
   "execution_count": null,
   "metadata": {},
   "outputs": [],
   "source": []
  },
  {
   "cell_type": "code",
   "execution_count": null,
   "metadata": {},
   "outputs": [],
   "source": [
    "test_out = seg.segment(array)"
   ]
  },
  {
   "cell_type": "code",
   "execution_count": null,
   "metadata": {},
   "outputs": [],
   "source": [
    "%load_ext memory_profiler"
   ]
  },
  {
   "cell_type": "code",
   "execution_count": null,
   "metadata": {},
   "outputs": [],
   "source": [
    "%memit segment(array,threshold_range=20,threshold_step=10,convex_threshold=0.8)"
   ]
  },
  {
   "cell_type": "code",
   "execution_count": null,
   "metadata": {},
   "outputs": [],
   "source": [
    "plt.imshow(input_kymo.return_unwrap())\n",
    "plt.show()\n",
    "output_kymo = tr.utils.kymo_handle()\n",
    "output_kymo.import_wrap(test_out)\n",
    "plt.imshow(output_kymo.return_unwrap())\n",
    "plt.show()"
   ]
  },
  {
   "cell_type": "code",
   "execution_count": null,
   "metadata": {},
   "outputs": [],
   "source": [
    "working_img = preprocess_img(input_kymo.return_unwrap(padding=3), sigma=0.75)\n",
    "plt.imshow(working_img)\n",
    "plt.show()"
   ]
  },
  {
   "cell_type": "code",
   "execution_count": null,
   "metadata": {},
   "outputs": [],
   "source": [
    "inverted = sk.util.invert(working_img)\n",
    "min_eigvals = to_8bit(hessian_contrast_enc(inverted, 4))\n",
    "plt.imshow(min_eigvals)\n",
    "\n",
    "plt.show()"
   ]
  },
  {
   "cell_type": "code",
   "execution_count": null,
   "metadata": {},
   "outputs": [],
   "source": [
    "eig_kymo = kymo_handle()\n",
    "eig_kymo.import_unwrap(min_eigvals, 25, padding=3)\n",
    "wrap_eig = eig_kymo.return_wrap()\n",
    "plt.imshow(wrap_eig[:, :, 23])\n",
    "plt.show()"
   ]
  },
  {
   "cell_type": "code",
   "execution_count": null,
   "metadata": {},
   "outputs": [],
   "source": [
    "plt.hist(wrap_eig[:, :, 24].flatten(), bins=50)\n",
    "plt.show()\n",
    "\n",
    "print(sk.filters.threshold_otsu(wrap_eig[:, :, 24]))"
   ]
  },
  {
   "cell_type": "code",
   "execution_count": null,
   "metadata": {},
   "outputs": [],
   "source": [
    "thr = 140\n",
    "test = wrap_eig[:, :, 24] > thr\n",
    "plt.imshow(test)\n",
    "plt.show()\n",
    "for i in range(2):\n",
    "    test = sk.morphology.binary_closing(test)\n",
    "plt.imshow(test)\n",
    "plt.show()"
   ]
  },
  {
   "cell_type": "code",
   "execution_count": null,
   "metadata": {},
   "outputs": [],
   "source": [
    "edge_threshold_kymo = []\n",
    "for t in range(25):\n",
    "    edge_threshold = sk.filters.threshold_otsu(wrap_eig[:, :, t])\n",
    "    edge_thr_arr = edge_threshold * np.ones(wrap_eig[:, :, t].shape, dtype=\"uint8\")\n",
    "    edge_threshold_kymo.append(edge_thr_arr)\n",
    "edge_threshold_kymo = np.array(edge_threshold_kymo)\n",
    "edge_threshold_kymo = np.moveaxis(edge_threshold_kymo, (0, 1, 2), (2, 0, 1))\n",
    "\n",
    "edge_thr_kymo = kymo_handle()\n",
    "edge_thr_kymo.import_wrap(edge_threshold_kymo, scale=False)\n",
    "edge_mask = min_eigvals > edge_thr_kymo.return_unwrap(padding=3)\n",
    "plt.imshow(edge_mask)\n",
    "plt.show()"
   ]
  },
  {
   "cell_type": "code",
   "execution_count": null,
   "metadata": {},
   "outputs": [],
   "source": [
    "edge_threshold = sk.filters.threshold_otsu(min_eigvals)\n",
    "print(edge_threshold)\n",
    "edge_mask = min_eigvals > (edge_threshold)\n",
    "plt.imshow(edge_mask)\n",
    "plt.show()"
   ]
  },
  {
   "cell_type": "code",
   "execution_count": null,
   "metadata": {},
   "outputs": [],
   "source": [
    "selem = disk(15)\n",
    "local_otsu = rank.otsu(working_img, selem)\n",
    "cell_local_mask = working_img > local_otsu\n",
    "\n",
    "cell_region_threshold = sk.filters.threshold_otsu(local_otsu)\n",
    "cell_region_mask = local_otsu > cell_region_threshold\n",
    "\n",
    "cell_local_mask = cell_local_mask * cell_region_mask\n",
    "\n",
    "plt.imshow(cell_local_mask)\n",
    "plt.show()"
   ]
  },
  {
   "cell_type": "code",
   "execution_count": null,
   "metadata": {},
   "outputs": [],
   "source": [
    "composite_mask = cell_local_mask * edge_mask\n",
    "composite_mask = sk.morphology.remove_small_objects(composite_mask, min_size=30)\n",
    "composite_mask = sk.morphology.remove_small_holes(composite_mask)"
   ]
  },
  {
   "cell_type": "code",
   "execution_count": null,
   "metadata": {},
   "outputs": [],
   "source": [
    "plt.imshow(composite_mask)\n",
    "plt.show()"
   ]
  },
  {
   "cell_type": "code",
   "execution_count": null,
   "metadata": {},
   "outputs": [],
   "source": [
    "score_img = get_convex_scores(\n",
    "    cell_local_mask,\n",
    "    min_eigvals,\n",
    "    edge_thr_kymo.return_unwrap(padding=3),\n",
    "    threshold_range=20,\n",
    "    threshold_step=10,\n",
    ")"
   ]
  },
  {
   "cell_type": "code",
   "execution_count": null,
   "metadata": {},
   "outputs": [],
   "source": [
    "plt.imshow(score_img)\n",
    "plt.show()"
   ]
  },
  {
   "cell_type": "code",
   "execution_count": null,
   "metadata": {},
   "outputs": [],
   "source": [
    "plt.imshow(score_img > 0.8)\n",
    "plt.show()"
   ]
  },
  {
   "cell_type": "code",
   "execution_count": null,
   "metadata": {},
   "outputs": [],
   "source": [
    "plt.hist(score_img[score_img > 0.0].flatten(), bins=50)\n",
    "plt.show()"
   ]
  },
  {
   "cell_type": "code",
   "execution_count": null,
   "metadata": {},
   "outputs": [],
   "source": []
  },
  {
   "cell_type": "code",
   "execution_count": null,
   "metadata": {},
   "outputs": [],
   "source": []
  },
  {
   "cell_type": "code",
   "execution_count": null,
   "metadata": {},
   "outputs": [],
   "source": [
    "print(sk.filters.threshold_otsu(min_eigvals))"
   ]
  },
  {
   "cell_type": "code",
   "execution_count": null,
   "metadata": {},
   "outputs": [],
   "source": []
  },
  {
   "cell_type": "code",
   "execution_count": null,
   "metadata": {},
   "outputs": [],
   "source": [
    "for t in range(0, 25, 5):\n",
    "    plt.hist(array[:, :, t].flatten(), bins=50)\n",
    "    plt.xlim(0, 1400)\n",
    "    plt.show()"
   ]
  },
  {
   "cell_type": "code",
   "execution_count": null,
   "metadata": {},
   "outputs": [],
   "source": [
    "def percentile_correction(array,percentile):\n",
    "    perc_t = np.percentile(array[:].reshape(-1,array.shape[2]),percentile,axis=0)\n",
    "    norm_perc_t = perc_t/np.max(perc_t)\n",
    "    corrected_arr = array/norm_perc_t[np.newaxis,np.newaxis,:]\n",
    "    return corrected_arr\n",
    "def to_8bit(array)"
   ]
  },
  {
   "cell_type": "code",
   "execution_count": null,
   "metadata": {},
   "outputs": [],
   "source": [
    "corrected_arr = percentile_correction(array[:], 80)"
   ]
  },
  {
   "cell_type": "code",
   "execution_count": null,
   "metadata": {},
   "outputs": [],
   "source": [
    "for t in range(0, 25, 5):\n",
    "    plt.hist(corrected_arr[:, :, t].flatten(), bins=50)\n",
    "    plt.xlim(0, 1400)\n",
    "    plt.show()"
   ]
  },
  {
   "cell_type": "code",
   "execution_count": null,
   "metadata": {},
   "outputs": [],
   "source": [
    "plt.imshow(corrected_arr[:, :, 24])\n",
    "plt.show"
   ]
  },
  {
   "cell_type": "code",
   "execution_count": null,
   "metadata": {},
   "outputs": [],
   "source": [
    "def make_mask(array, sigma=0.75, otsu_scaling=1.0):\n",
    "    array = sk.filters.gaussian(array, sigma)\n",
    "\n",
    "    otsu_th = sk.filters.threshold_otsu(array) * otsu_scaling\n",
    "    array > otsu_th"
   ]
  }
 ],
 "metadata": {
  "kernelspec": {
   "display_name": "Python 3",
   "language": "python",
   "name": "python3"
  },
  "language_info": {
   "codemirror_mode": {
    "name": "ipython",
    "version": 3
   },
   "file_extension": ".py",
   "mimetype": "text/x-python",
   "name": "python",
   "nbconvert_exporter": "python",
   "pygments_lexer": "ipython3",
   "version": "3.7.1"
  }
 },
 "nbformat": 4,
 "nbformat_minor": 2
}
