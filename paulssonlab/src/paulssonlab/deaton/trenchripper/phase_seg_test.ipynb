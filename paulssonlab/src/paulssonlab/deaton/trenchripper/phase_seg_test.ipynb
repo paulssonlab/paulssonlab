{
 "cells": [
  {
   "cell_type": "code",
   "execution_count": null,
   "metadata": {},
   "outputs": [],
   "source": [
    "from trenchripper.utils import kymo_handle, pandas_hdf5_handler, writedir\n",
    "from trenchripper.segment import phase_segmentation, phase_segmentation_cluster\n",
    "from trenchripper.cluster import dask_controller\n",
    "import matplotlib.pyplot as plt\n",
    "import numpy as np\n",
    "import skimage as sk\n",
    "import os\n",
    "import h5py\n",
    "import resource\n",
    "\n",
    "%load_ext line_profiler\n",
    "import random"
   ]
  },
  {
   "cell_type": "code",
   "execution_count": null,
   "metadata": {},
   "outputs": [],
   "source": [
    "import dask"
   ]
  },
  {
   "cell_type": "code",
   "execution_count": null,
   "metadata": {},
   "outputs": [],
   "source": [
    "headpath = \"/n/scratch2/bj66/vibrio_37_balanced\""
   ]
  },
  {
   "cell_type": "code",
   "execution_count": null,
   "metadata": {},
   "outputs": [],
   "source": [
    "segmenter = phase_segmentation_cluster(headpath,\n",
    "            seg_channel=\"Phase\",init_niblack_k=-0.45,\n",
    "            maxima_niblack_k=-0.8, init_smooth_sigma=4,\n",
    "            maxima_smooth_sigma=3, init_niblack_window_size=13,\n",
    "            maxima_niblack_window_size=13, min_cell_size=100,\n",
    "            deviation_from_median=0.3, max_perc_contrast=97,\n",
    "            wrap_pad=0"
   ]
  },
  {
   "cell_type": "code",
   "execution_count": null,
   "metadata": {},
   "outputs": [],
   "source": [
    "kymodf = segmenter.meta_handle.read_df(\"kymograph\", read_metadata=True)\n",
    "metadata = kymodf.metadata"
   ]
  },
  {
   "cell_type": "code",
   "execution_count": null,
   "metadata": {},
   "outputs": [],
   "source": [
    "        kymodf = kymodf.reset_index()\n",
    "        kymodf = kymodf.set_index([\"File Index\", \"File Trench Index\", \"timepoints\"])"
   ]
  },
  {
   "cell_type": "code",
   "execution_count": null,
   "metadata": {},
   "outputs": [],
   "source": [
    "kymodf"
   ]
  },
  {
   "cell_type": "code",
   "execution_count": null,
   "metadata": {},
   "outputs": [],
   "source": [
    "kymodf = segmenter.meta_handle.read_df(\"kymograph\", read_metadata=True)\n",
    "file_indices = kymodf[\"File Index\"].unique().tolist()\n",
    "random.shuffle(file_indices)\n",
    "file_idx = 0"
   ]
  },
  {
   "cell_type": "code",
   "execution_count": null,
   "metadata": {},
   "outputs": [],
   "source": [
    "data = segmenter.load_trench_array_list(\n",
    "    segmenter.kymographpath + \"/kymograph_\", file_idx, segmenter.seg_channel, True\n",
    ")"
   ]
  },
  {
   "cell_type": "code",
   "execution_count": null,
   "metadata": {},
   "outputs": [],
   "source": [
    "data.shape"
   ]
  },
  {
   "cell_type": "code",
   "execution_count": null,
   "metadata": {},
   "outputs": [],
   "source": [
    "# trench = data[0,:]\n",
    "trench = data[np.random.randint(data.shape[0]), :]\n",
    "timepoint = np.random.randint(trench.shape[0])\n",
    "img = trench[timepoint, :, :]\n",
    "fig1, ax1 = plt.subplots(figsize=(10, 10))\n",
    "ax1.imshow(img)"
   ]
  },
  {
   "cell_type": "code",
   "execution_count": null,
   "metadata": {},
   "outputs": [],
   "source": [
    "conn_comp, trench_masks, img_mask, maxima = segmenter.segment(\n",
    "    img, return_all=True, show_plots=True\n",
    ")"
   ]
  },
  {
   "cell_type": "code",
   "execution_count": null,
   "metadata": {},
   "outputs": [],
   "source": [
    "fig1, (ax1, ax2, ax3, ax4, ax5) = plt.subplots(1, 5, figsize=(8, 10))\n",
    "\n",
    "ax1.imshow(img, cmap=\"gray\")\n",
    "ax2.imshow(conn_comp, cmap=\"inferno_r\")\n",
    "ax3.imshow(img_mask, cmap=\"gray\")\n",
    "ax4.imshow(maxima, cmap=\"gray\")\n",
    "if trench_masks is not None:\n",
    "    ax5.imshow(trench_masks, cmap=\"gray\")"
   ]
  },
  {
   "cell_type": "code",
   "execution_count": null,
   "metadata": {},
   "outputs": [],
   "source": [
    "dc = dask_controller(\n",
    "    walltime=\"6:00:00\",\n",
    "    local=False,\n",
    "    n_workers=50,\n",
    "    memory=\"7.5GB\",\n",
    "    death_timeout=120.0,\n",
    "    working_directory=headpath + \"/dask\",\n",
    ")\n",
    "dc.startdask()\n",
    "dc.daskcluster.start_workers()"
   ]
  },
  {
   "cell_type": "code",
   "execution_count": null,
   "metadata": {},
   "outputs": [],
   "source": [
    "dc.displaydashboard()"
   ]
  },
  {
   "cell_type": "code",
   "execution_count": null,
   "metadata": {},
   "outputs": [],
   "source": [
    "segmenter.dask_segment(dc)"
   ]
  },
  {
   "cell_type": "code",
   "execution_count": null,
   "metadata": {},
   "outputs": [],
   "source": [
    "dc.futures[\"Segmentation: 0\"].result()"
   ]
  },
  {
   "cell_type": "code",
   "execution_count": null,
   "metadata": {},
   "outputs": [],
   "source": [
    "dc.shutdown()"
   ]
  },
  {
   "cell_type": "markdown",
   "metadata": {},
   "source": [
    "# Check results"
   ]
  },
  {
   "cell_type": "code",
   "execution_count": null,
   "metadata": {},
   "outputs": [],
   "source": [
    "kymodf = segmenter.meta_handle.read_df(\"kymograph\", read_metadata=True)\n",
    "file_indices = kymodf[\"File Index\"].unique().tolist()\n",
    "random.shuffle(file_indices)\n",
    "file_idx = file_indices[0]\n",
    "with h5py.File(\n",
    "    segmenter.phasesegmentationpath + \"/segmentation_\" + str(file_idx) + \".hdf5\", \"r\"\n",
    ") as input_file:\n",
    "    data = input_file[\"data\"][:]"
   ]
  },
  {
   "cell_type": "code",
   "execution_count": null,
   "metadata": {},
   "outputs": [],
   "source": [
    "trench_idx = np.random.randint(data.shape[0])\n",
    "time_idx = np.random.randint(data.shape[1])\n",
    "img = data[trench_idx, time_idx, :, :]\n",
    "fig1, ax1 = plt.subplots(figsize=(10, 10))\n",
    "ax1.imshow(img)\n",
    "print(\"File %d, Trench %d, Time %d\" % (file_idx, trench_idx, time_idx))"
   ]
  },
  {
   "cell_type": "markdown",
   "metadata": {},
   "source": [
    "# Get loading fractions"
   ]
  },
  {
   "cell_type": "code",
   "execution_count": null,
   "metadata": {},
   "outputs": [],
   "source": [
    "dc = dask_controller(\n",
    "    walltime=\"4:00:00\",\n",
    "    local=False,\n",
    "    n_workers=40,\n",
    "    memory=\"4GB\",\n",
    "    death_timeout=120.0,\n",
    "    working_directory=headpath + \"/dask\",\n",
    ")\n",
    "dc.startdask()\n",
    "dc.daskcluster.start_workers()"
   ]
  },
  {
   "cell_type": "code",
   "execution_count": null,
   "metadata": {},
   "outputs": [],
   "source": [
    "dc.displaydashboard()"
   ]
  },
  {
   "cell_type": "code",
   "execution_count": null,
   "metadata": {},
   "outputs": [],
   "source": [
    "segmenter.dask_characterize_trench_loading(dc)"
   ]
  },
  {
   "cell_type": "code",
   "execution_count": null,
   "metadata": {},
   "outputs": [],
   "source": [
    "segmenter.dask_postprocess_trench_loading(dc)"
   ]
  },
  {
   "cell_type": "code",
   "execution_count": null,
   "metadata": {},
   "outputs": [],
   "source": [
    "trench_loadings = np.concatenate(\n",
    "    dc.daskclient.gather(dc.futures[\"Trench Loading\"]), axis=0\n",
    ")"
   ]
  },
  {
   "cell_type": "code",
   "execution_count": null,
   "metadata": {},
   "outputs": [],
   "source": [
    "plt.hist(trench_loadings)"
   ]
  },
  {
   "cell_type": "code",
   "execution_count": null,
   "metadata": {},
   "outputs": [],
   "source": [
    "dc.shutdown()"
   ]
  },
  {
   "cell_type": "code",
   "execution_count": null,
   "metadata": {},
   "outputs": [],
   "source": [
    "fig1, ax1 = plt.subplots(figsize=(10, 10))\n",
    "\n",
    "ax1.hist(trench_loadings, bins=40)\n",
    "ax1.set_ylabel(\"Count\")\n",
    "ax1.set_xlabel(\"Loading fraction\")"
   ]
  },
  {
   "cell_type": "markdown",
   "metadata": {},
   "source": [
    "# Test get cell properties"
   ]
  },
  {
   "cell_type": "code",
   "execution_count": null,
   "metadata": {},
   "outputs": [],
   "source": [
    "kymodf = segmenter.meta_handle.read_df(\"kymograph\", read_metadata=True)"
   ]
  },
  {
   "cell_type": "code",
   "execution_count": null,
   "metadata": {},
   "outputs": [],
   "source": [
    "metadata = kymodf.metadata"
   ]
  },
  {
   "cell_type": "code",
   "execution_count": null,
   "metadata": {},
   "outputs": [],
   "source": [
    "kymodf = kymodf.reset_index()\n",
    "kymodf = kymodf.set_index([\"File Index\", \"File Trench Index\", \"timepoints\"])"
   ]
  },
  {
   "cell_type": "code",
   "execution_count": null,
   "metadata": {},
   "outputs": [],
   "source": [
    "file_idx = np.random.randint(500)"
   ]
  },
  {
   "cell_type": "code",
   "execution_count": null,
   "metadata": {},
   "outputs": [],
   "source": [
    "times = kymodf.loc[file_idx, \"time (s)\"]\n",
    "global_trench_indices = kymodf.loc[file_idx, \"trenchid\"]\n",
    "trench_loadings = kymodf.loc[file_idx, \"Trench Loading\"]"
   ]
  },
  {
   "cell_type": "code",
   "execution_count": null,
   "metadata": {},
   "outputs": [],
   "source": [
    "writedir(segmenter.phasedatapath, overwrite=True)"
   ]
  },
  {
   "cell_type": "code",
   "execution_count": null,
   "metadata": {},
   "outputs": [],
   "source": [
    "columns = [\"area\", \"centroid\", \"label\", \"major_axis_length\", \"minor_axis_length\"]"
   ]
  },
  {
   "cell_type": "code",
   "execution_count": null,
   "metadata": {},
   "outputs": [],
   "source": [
    "%lprun -f segmenter.extract_cell_data segmenter.extract_cell_data(file_idx, times, global_trench_indices, trench_loadings, columns, metadata)"
   ]
  },
  {
   "cell_type": "code",
   "execution_count": null,
   "metadata": {},
   "outputs": [],
   "source": [
    "from pandas import HDFStore\n",
    "\n",
    "store = HDFStore(os.path.join(segmenter.phasedatapath, \"data_%d.h5\" % file_idx))"
   ]
  },
  {
   "cell_type": "code",
   "execution_count": null,
   "metadata": {},
   "outputs": [],
   "source": [
    "testdf = store.get(\"metrics\")"
   ]
  },
  {
   "cell_type": "code",
   "execution_count": null,
   "metadata": {},
   "outputs": [],
   "source": [
    "testdf.shape"
   ]
  },
  {
   "cell_type": "markdown",
   "metadata": {},
   "source": [
    "# Get cell properties"
   ]
  },
  {
   "cell_type": "code",
   "execution_count": null,
   "metadata": {},
   "outputs": [],
   "source": [
    "headpath = \"/n/scratch2/bj66/vibrio_30_MUX\"\n",
    "segmenter = phase_segmentation_cluster(\n",
    "    headpath,\n",
    "    seg_channel=\"Phase\",\n",
    "    init_niblack_k=-0.45,\n",
    "    maxima_niblack_k=-0.8,\n",
    "    init_smooth_sigma=4,\n",
    "    maxima_smooth_sigma=3,\n",
    "    init_niblack_window_size=13,\n",
    "    maxima_niblack_window_size=13,\n",
    "    min_cell_size=100,\n",
    "    deviation_from_median=0.3,\n",
    "    max_perc_contrast=97,\n",
    "    wrap_pad=0,\n",
    ")"
   ]
  },
  {
   "cell_type": "code",
   "execution_count": null,
   "metadata": {},
   "outputs": [],
   "source": [
    "dc = dask_controller(\n",
    "    walltime=\"4:00:00\",\n",
    "    local=False,\n",
    "    n_workers=50,\n",
    "    memory=\"2GB\",\n",
    "    death_timeout=120.0,\n",
    "    working_directory=headpath + \"/dask\",\n",
    ")\n",
    "dc.startdask()\n",
    "dc.daskcluster.start_workers()"
   ]
  },
  {
   "cell_type": "code",
   "execution_count": null,
   "metadata": {},
   "outputs": [],
   "source": [
    "dc.displaydashboard()"
   ]
  },
  {
   "cell_type": "code",
   "execution_count": null,
   "metadata": {},
   "outputs": [],
   "source": [
    "columns = [\"area\", \"centroid\", \"label\", \"major_axis_length\", \"minor_axis_length\"]\n",
    "segmenter.dask_extract_cell_data(dc, columns)"
   ]
  },
  {
   "cell_type": "code",
   "execution_count": null,
   "metadata": {},
   "outputs": [],
   "source": [
    "dc.shutdown()"
   ]
  },
  {
   "cell_type": "code",
   "execution_count": null,
   "metadata": {},
   "outputs": [],
   "source": [
    "lost_count = 0\n",
    "for key, value in dc.futures.items():\n",
    "    if value.status == \"lost\":\n",
    "        print(key)"
   ]
  },
  {
   "cell_type": "markdown",
   "metadata": {},
   "source": [
    "# Check proprety extraction results"
   ]
  },
  {
   "cell_type": "code",
   "execution_count": null,
   "metadata": {},
   "outputs": [],
   "source": [
    "headpath = \"/n/scratch2/bj66/vibrio_37_balanced\"\n",
    "segmenter = phase_segmentation_cluster(\n",
    "    headpath,\n",
    "    seg_channel=\"Phase\",\n",
    "    init_niblack_k=-0.45,\n",
    "    maxima_niblack_k=-0.8,\n",
    "    init_smooth_sigma=4,\n",
    "    maxima_smooth_sigma=3,\n",
    "    init_niblack_window_size=13,\n",
    "    maxima_niblack_window_size=13,\n",
    "    min_cell_size=100,\n",
    "    deviation_from_median=0.3,\n",
    "    max_perc_contrast=97,\n",
    "    wrap_pad=0,\n",
    ")"
   ]
  },
  {
   "cell_type": "code",
   "execution_count": null,
   "metadata": {},
   "outputs": [],
   "source": [
    "from pandas import HDFStore\n",
    "import pandas as pd\n",
    "import random\n",
    "\n",
    "kymodf = segmenter.meta_handle.read_df(\"kymograph\", read_metadata=True)\n",
    "file_indices = kymodf[\"File Index\"].unique().tolist()\n",
    "random.shuffle(file_indices)\n",
    "file_idx = file_indices[0]\n",
    "p = os.path.join(segmenter.phasedatapath, \"data_%d.h5\" % file_idx)\n",
    "test_df = pd.read_hdf(p)"
   ]
  },
  {
   "cell_type": "code",
   "execution_count": null,
   "metadata": {},
   "outputs": [],
   "source": [
    "len(test_df.index.unique(\"time_s\"))"
   ]
  },
  {
   "cell_type": "code",
   "execution_count": null,
   "metadata": {},
   "outputs": [],
   "source": [
    "trenches = list(test_df.index.unique(\"file_trench_index\"))\n",
    "random.shuffle(trenches)\n",
    "trench_idx = trenches[0]\n",
    "time_idx = 0"
   ]
  },
  {
   "cell_type": "code",
   "execution_count": null,
   "metadata": {},
   "outputs": [],
   "source": [
    "# Show segmentation mask\n",
    "with h5py.File(\n",
    "    segmenter.phasesegmentationpath + \"/segmentation_\" + str(file_idx) + \".hdf5\", \"r\"\n",
    ") as input_file:\n",
    "    data = input_file[\"data\"][:]"
   ]
  },
  {
   "cell_type": "code",
   "execution_count": null,
   "metadata": {},
   "outputs": [],
   "source": [
    "times = test_df.loc[trench_idx].index.unique(\"time_s\")"
   ]
  },
  {
   "cell_type": "code",
   "execution_count": null,
   "metadata": {},
   "outputs": [],
   "source": [
    "test_df_refactored = test_df.reset_index().set_index(\n",
    "    [\"file_trench_index\", \"trench_cell_index\"]\n",
    ")"
   ]
  },
  {
   "cell_type": "code",
   "execution_count": null,
   "metadata": {},
   "outputs": [],
   "source": [
    "fig1, axes = plt.subplots(1, 15, figsize=(20, 10))\n",
    "for i, ax in enumerate(axes):\n",
    "    ax.imshow(data[trench_idx, time_idx + i, :, :], cmap=\"inferno_r\")\n",
    "    ax.scatter(\n",
    "        test_df.loc[trench_idx, times[time_idx + i]][\"centx\"],\n",
    "        test_df.loc[trench_idx, times[time_idx + i]][\"centy\"],\n",
    "    )"
   ]
  },
  {
   "cell_type": "markdown",
   "metadata": {},
   "source": [
    "# Try lineage single-cell growth rates"
   ]
  },
  {
   "cell_type": "markdown",
   "metadata": {},
   "source": [
    "# Get all growth properties"
   ]
  },
  {
   "cell_type": "code",
   "execution_count": null,
   "metadata": {},
   "outputs": [],
   "source": [
    "from trenchripper.tracking import mother_tracker\n",
    "import pandas as pd\n",
    "import os\n",
    "from pandas import HDFStore"
   ]
  },
  {
   "cell_type": "code",
   "execution_count": null,
   "metadata": {},
   "outputs": [],
   "source": [
    "headpath = \"/n/scratch2/bj66/vibrio_30_MUX\""
   ]
  },
  {
   "cell_type": "code",
   "execution_count": null,
   "metadata": {},
   "outputs": [],
   "source": [
    "tracker = mother_tracker(headpath)"
   ]
  },
  {
   "cell_type": "code",
   "execution_count": null,
   "metadata": {},
   "outputs": [],
   "source": [
    "tracker.save_all_growth_props()"
   ]
  },
  {
   "cell_type": "code",
   "execution_count": null,
   "metadata": {},
   "outputs": [],
   "source": [
    "growth_rates = pd.read_hdf(\n",
    "    os.path.join(tracker.phasesegmentationpath, \"growth_properties.h5\"), \"growth_rates\"\n",
    ")"
   ]
  },
  {
   "cell_type": "code",
   "execution_count": null,
   "metadata": {},
   "outputs": [],
   "source": [
    "growth_rates.head()"
   ]
  },
  {
   "cell_type": "code",
   "execution_count": null,
   "metadata": {},
   "outputs": [],
   "source": [
    "growth_rates.index.unique(\"trenchid\")"
   ]
  },
  {
   "cell_type": "markdown",
   "metadata": {},
   "source": [
    "# Inspect trenches"
   ]
  },
  {
   "cell_type": "code",
   "execution_count": null,
   "metadata": {},
   "outputs": [],
   "source": [
    "headpath = \"/n/scratch2/bj66/vibrio_37_balanced\"\n",
    "segmenter = phase_segmentation_cluster(\n",
    "    headpath,\n",
    "    seg_channel=\"Phase\",\n",
    "    init_niblack_k=-0.45,\n",
    "    maxima_niblack_k=-0.8,\n",
    "    init_smooth_sigma=4,\n",
    "    maxima_smooth_sigma=3,\n",
    "    init_niblack_window_size=13,\n",
    "    maxima_niblack_window_size=13,\n",
    "    min_cell_size=100,\n",
    "    deviation_from_median=0.3,\n",
    "    max_perc_contrast=97,\n",
    "    wrap_pad=0,\n",
    ")"
   ]
  },
  {
   "cell_type": "code",
   "execution_count": null,
   "metadata": {},
   "outputs": [],
   "source": [
    "from pandas import HDFStore\n",
    "import pandas as pd\n",
    "import random\n",
    "\n",
    "kymodf = segmenter.meta_handle.read_df(\"kymograph\", read_metadata=True)\n",
    "file_indices = kymodf[\"File Index\"].unique().tolist()\n",
    "random.shuffle(file_indices)"
   ]
  },
  {
   "cell_type": "code",
   "execution_count": null,
   "metadata": {},
   "outputs": [],
   "source": [
    "file_idx = 229\n",
    "trenchid = 1148\n",
    "p = os.path.join(segmenter.phasedatapath, \"data_%d.h5\" % file_idx)\n",
    "test_df = pd.read_hdf(p)\n",
    "test_df = test_df[test_df[\"trenchid\"] == trenchid]"
   ]
  },
  {
   "cell_type": "code",
   "execution_count": null,
   "metadata": {},
   "outputs": [],
   "source": [
    "trench_idx = test_df.index.unique(\"file_trench_index\")[0]\n",
    "times = test_df.loc[trench_idx].index.unique(\"time_s\")"
   ]
  },
  {
   "cell_type": "code",
   "execution_count": null,
   "metadata": {},
   "outputs": [],
   "source": [
    "# Show segmentation mask\n",
    "with h5py.File(\n",
    "    segmenter.phasesegmentationpath + \"/segmentation_\" + str(file_idx) + \".hdf5\", \"r\"\n",
    ") as input_file:\n",
    "    data = input_file[\"data\"][trench_idx]"
   ]
  },
  {
   "cell_type": "code",
   "execution_count": null,
   "metadata": {},
   "outputs": [],
   "source": [
    "time_idx = 1050\n",
    "n_rows = 8\n",
    "fig1, axes = plt.subplots(1 * n_rows, 15, figsize=(20, 10 * n_rows))\n",
    "for i, ax in enumerate(axes.ravel()):\n",
    "    ax.imshow(data[time_idx + i, :, :], cmap=\"inferno_r\")\n",
    "    ax.scatter(\n",
    "        test_df.loc[trench_idx, times[time_idx + i]][\"centx\"],\n",
    "        test_df.loc[trench_idx, times[time_idx + i]][\"centy\"],\n",
    "    )"
   ]
  },
  {
   "cell_type": "code",
   "execution_count": null,
   "metadata": {},
   "outputs": [],
   "source": []
  }
 ],
 "metadata": {
  "kernelspec": {
   "display_name": "Python 3",
   "language": "python",
   "name": "python3"
  },
  "language_info": {
   "codemirror_mode": {
    "name": "ipython",
    "version": 3
   },
   "file_extension": ".py",
   "mimetype": "text/x-python",
   "name": "python",
   "nbconvert_exporter": "python",
   "pygments_lexer": "ipython3",
   "version": "3.7.1"
  }
 },
 "nbformat": 4,
 "nbformat_minor": 2
}
