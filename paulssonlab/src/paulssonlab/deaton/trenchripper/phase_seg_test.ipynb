{
 "cells": [
  {
   "cell_type": "code",
   "execution_count": null,
   "metadata": {},
   "outputs": [],
   "source": [
    "from trenchripper.utils import kymo_handle, pandas_hdf5_handler, writedir\n",
    "from trenchripper.segment import phase_segmentation, phase_segmentation_cluster\n",
    "from trenchripper.cluster import dask_controller\n",
    "import matplotlib.pyplot as plt\n",
    "import numpy as np\n",
    "import skimage as sk\n",
    "import os\n",
    "import h5py\n",
    "import resource"
   ]
  },
  {
   "cell_type": "code",
   "execution_count": null,
   "metadata": {},
   "outputs": [],
   "source": [
    "import dask"
   ]
  },
  {
   "cell_type": "code",
   "execution_count": null,
   "metadata": {},
   "outputs": [],
   "source": [
    "headpath = \"/n/scratch2/bj66/vibrio_37_mux_salt_concentration\""
   ]
  },
  {
   "cell_type": "code",
   "execution_count": null,
   "metadata": {},
   "outputs": [],
   "source": [
    "segmenter = phase_segmentation_cluster(headpath, seg_channel=\"Phase\")\n",
    "segmenter.bit_max = None"
   ]
  },
  {
   "cell_type": "code",
   "execution_count": null,
   "metadata": {},
   "outputs": [],
   "source": [
    "data = segmenter.load_trench_array_list(np.random.randint(145))"
   ]
  },
  {
   "cell_type": "code",
   "execution_count": null,
   "metadata": {},
   "outputs": [],
   "source": [
    "data.shape"
   ]
  },
  {
   "cell_type": "code",
   "execution_count": null,
   "metadata": {},
   "outputs": [],
   "source": [
    "# trench = data[0,:]\n",
    "trench = data[np.random.randint(data.shape[0]), :]\n",
    "timepoint = np.random.randint(trench.shape[0])\n",
    "img = trench[timepoint, :, :]\n",
    "fig1, ax1 = plt.subplots(figsize=(10, 10))\n",
    "ax1.imshow(img)"
   ]
  },
  {
   "cell_type": "code",
   "execution_count": null,
   "metadata": {},
   "outputs": [],
   "source": [
    "conn_comp, trench_masks, img_mask, maxima = segmenter.segment(\n",
    "    img, return_all=True, show_plots=True\n",
    ")"
   ]
  },
  {
   "cell_type": "code",
   "execution_count": null,
   "metadata": {},
   "outputs": [],
   "source": [
    "fig1, (ax1, ax2, ax3, ax4, ax5) = plt.subplots(1, 5, figsize=(8, 10))\n",
    "\n",
    "ax1.imshow(img, cmap=\"gray\")\n",
    "ax2.imshow(conn_comp, cmap=\"inferno_r\")\n",
    "ax3.imshow(img_mask, cmap=\"gray\")\n",
    "ax4.imshow(maxima, cmap=\"gray\")\n",
    "if trench_masks is not None:\n",
    "    ax5.imshow(trench_masks, cmap=\"gray\")"
   ]
  },
  {
   "cell_type": "code",
   "execution_count": null,
   "metadata": {},
   "outputs": [],
   "source": [
    "dc = dask_controller(\n",
    "    walltime=\"12:00:00\",\n",
    "    local=False,\n",
    "    n_workers=50,\n",
    "    memory=\"7.5GB\",\n",
    "    death_timeout=120.0,\n",
    "    working_directory=headpath + \"/dask\",\n",
    ")\n",
    "dc.startdask()\n",
    "dc.daskcluster.start_workers()"
   ]
  },
  {
   "cell_type": "code",
   "execution_count": null,
   "metadata": {},
   "outputs": [],
   "source": [
    "dc.displaydashboard()"
   ]
  },
  {
   "cell_type": "code",
   "execution_count": null,
   "metadata": {},
   "outputs": [],
   "source": [
    "segmenter.dask_segment(dc)"
   ]
  },
  {
   "cell_type": "code",
   "execution_count": null,
   "metadata": {},
   "outputs": [],
   "source": [
    "dc.shutdown()"
   ]
  },
  {
   "cell_type": "markdown",
   "metadata": {},
   "source": [
    "# Check results"
   ]
  },
  {
   "cell_type": "code",
   "execution_count": null,
   "metadata": {},
   "outputs": [],
   "source": [
    "file_idx = np.random.randint(200)\n",
    "with h5py.File(\n",
    "    segmenter.phasesegmentationpath + \"/segmentation_\" + str(file_idx) + \".hdf5\", \"r\"\n",
    ") as input_file:\n",
    "    data = input_file[\"data\"][:]"
   ]
  },
  {
   "cell_type": "code",
   "execution_count": null,
   "metadata": {},
   "outputs": [],
   "source": [
    "trench_idx = np.random.randint(data.shape[0])\n",
    "time_idx = np.random.randint(data.shape[1])\n",
    "img = data[trench_idx, time_idx, :, :]\n",
    "fig1, ax1 = plt.subplots(figsize=(10, 10))\n",
    "ax1.imshow(img)\n",
    "print(\"File %d, Trench %d, Time %d\" % (file_idx, trench_idx, time_idx))"
   ]
  },
  {
   "cell_type": "markdown",
   "metadata": {},
   "source": [
    "# Get loading fractions"
   ]
  },
  {
   "cell_type": "code",
   "execution_count": null,
   "metadata": {},
   "outputs": [],
   "source": [
    "dc = dask_controller(\n",
    "    walltime=\"4:00:00\",\n",
    "    local=False,\n",
    "    n_workers=40,\n",
    "    memory=\"4GB\",\n",
    "    death_timeout=120.0,\n",
    "    working_directory=headpath + \"/dask\",\n",
    ")\n",
    "dc.startdask()\n",
    "dc.daskcluster.start_workers()"
   ]
  },
  {
   "cell_type": "code",
   "execution_count": null,
   "metadata": {},
   "outputs": [],
   "source": [
    "dc.displaydashboard()"
   ]
  },
  {
   "cell_type": "code",
   "execution_count": null,
   "metadata": {},
   "outputs": [],
   "source": [
    "segmenter.dask_characterize_trench_loading(dc)"
   ]
  },
  {
   "cell_type": "code",
   "execution_count": null,
   "metadata": {},
   "outputs": [],
   "source": [
    "segmenter.dask_postprocess_trench_loading(dc)"
   ]
  },
  {
   "cell_type": "code",
   "execution_count": null,
   "metadata": {},
   "outputs": [],
   "source": [
    "trench_loadings = np.concatenate(\n",
    "    dc.daskclient.gather(dc.futures[\"Trench Loading\"]), axis=0\n",
    ")"
   ]
  },
  {
   "cell_type": "code",
   "execution_count": null,
   "metadata": {},
   "outputs": [],
   "source": [
    "dc.shutdown()"
   ]
  },
  {
   "cell_type": "code",
   "execution_count": null,
   "metadata": {},
   "outputs": [],
   "source": [
    "fig1, ax1 = plt.subplots(figsize=(10, 10))\n",
    "\n",
    "ax1.hist(trench_loadings, bins=40)\n",
    "ax1.set_ylabel(\"Count\")\n",
    "ax1.set_xlabel(\"Loading fraction\")"
   ]
  },
  {
   "cell_type": "markdown",
   "metadata": {},
   "source": [
    "# Test get cell properties"
   ]
  },
  {
   "cell_type": "code",
   "execution_count": null,
   "metadata": {},
   "outputs": [],
   "source": [
    "kymodf = segmenter.meta_handle.read_df(\"kymograph\", read_metadata=True)"
   ]
  },
  {
   "cell_type": "code",
   "execution_count": null,
   "metadata": {},
   "outputs": [],
   "source": [
    "metadata = kymodf.metadata"
   ]
  },
  {
   "cell_type": "code",
   "execution_count": null,
   "metadata": {},
   "outputs": [],
   "source": [
    "kymodf = kymodf.reset_index()\n",
    "kymodf = kymodf.set_index([\"File Index\", \"File Trench Index\", \"timepoints\"])"
   ]
  },
  {
   "cell_type": "code",
   "execution_count": null,
   "metadata": {},
   "outputs": [],
   "source": [
    "test = kymodf.loc[0]"
   ]
  },
  {
   "cell_type": "code",
   "execution_count": null,
   "metadata": {},
   "outputs": [],
   "source": [
    "len(kymodf.index.unique(\"File Trench Index\"))"
   ]
  },
  {
   "cell_type": "code",
   "execution_count": null,
   "metadata": {},
   "outputs": [],
   "source": [
    "times = kymodf.loc[file_idx, \"time (s)\"]\n",
    "global_trench_indices = kymodf.loc[file_idx, \"trenchid\"]\n",
    "trench_loadings = kymodf.loc[file_idx, \"Trench Loading\"]"
   ]
  },
  {
   "cell_type": "code",
   "execution_count": null,
   "metadata": {},
   "outputs": [],
   "source": [
    "writedir(segmenter.phasedatapath, overwrite=True)"
   ]
  },
  {
   "cell_type": "code",
   "execution_count": null,
   "metadata": {},
   "outputs": [],
   "source": [
    "columns = [\n",
    "    \"area\",\n",
    "    \"bbox\",\n",
    "    \"centroid\",\n",
    "    \"convex_area\",\n",
    "    \"eccentricity\",\n",
    "    \"equivalent_diameter\",\n",
    "    \"extent\",\n",
    "    \"label\",\n",
    "    \"major_axis_length\",\n",
    "    \"minor_axis_length\",\n",
    "    \"orientation\",\n",
    "    \"perimeter\",\n",
    "    \"solidity\",\n",
    "]"
   ]
  },
  {
   "cell_type": "code",
   "execution_count": null,
   "metadata": {},
   "outputs": [],
   "source": [
    "segmenter.extract_cell_data(\n",
    "    file_idx, data, times, global_trench_indices, trench_loadings, columns, metadata\n",
    ")"
   ]
  },
  {
   "cell_type": "code",
   "execution_count": null,
   "metadata": {},
   "outputs": [],
   "source": [
    "from pandas import HDFStore\n",
    "\n",
    "store = HDFStore(os.path.join(segmenter.phasedatapath, \"data_%d.h5\" % file_idx))"
   ]
  },
  {
   "cell_type": "code",
   "execution_count": null,
   "metadata": {},
   "outputs": [],
   "source": [
    "testdf = store.get(\"metrics\")"
   ]
  },
  {
   "cell_type": "code",
   "execution_count": null,
   "metadata": {},
   "outputs": [],
   "source": [
    "testdf.shape"
   ]
  },
  {
   "cell_type": "code",
   "execution_count": null,
   "metadata": {},
   "outputs": [],
   "source": [
    "testdf.tail(10)"
   ]
  },
  {
   "cell_type": "markdown",
   "metadata": {},
   "source": [
    "# Get cell properties"
   ]
  },
  {
   "cell_type": "code",
   "execution_count": null,
   "metadata": {},
   "outputs": [],
   "source": [
    "dc = dask_controller(\n",
    "    walltime=\"10:00:00\",\n",
    "    local=False,\n",
    "    n_workers=100,\n",
    "    memory=\"6GB\",\n",
    "    death_timeout=120.0,\n",
    "    working_directory=headpath + \"/dask\",\n",
    ")\n",
    "dc.startdask()\n",
    "dc.daskcluster.start_workers()"
   ]
  },
  {
   "cell_type": "code",
   "execution_count": null,
   "metadata": {},
   "outputs": [],
   "source": [
    "dc.displaydashboard()"
   ]
  },
  {
   "cell_type": "code",
   "execution_count": null,
   "metadata": {},
   "outputs": [],
   "source": [
    "columns = [\n",
    "    \"area\",\n",
    "    \"bbox\",\n",
    "    \"centroid\",\n",
    "    \"convex_area\",\n",
    "    \"eccentricity\",\n",
    "    \"equivalent_diameter\",\n",
    "    \"extent\",\n",
    "    \"label\",\n",
    "    \"major_axis_length\",\n",
    "    \"minor_axis_length\",\n",
    "    \"orientation\",\n",
    "    \"perimeter\",\n",
    "    \"solidity\",\n",
    "]\n",
    "segmenter.dask_extract_cell_data(dc, columns)"
   ]
  },
  {
   "cell_type": "code",
   "execution_count": null,
   "metadata": {},
   "outputs": [],
   "source": [
    "dc.shutdown()"
   ]
  },
  {
   "cell_type": "code",
   "execution_count": null,
   "metadata": {},
   "outputs": [],
   "source": [
    "lost_count = 0\n",
    "for key, value in dc.futures.items():\n",
    "    if value.status == \"lost\":\n",
    "        print(key)"
   ]
  },
  {
   "cell_type": "code",
   "execution_count": null,
   "metadata": {},
   "outputs": [],
   "source": [
    "kymodf = segmenter.meta_handle.read_df(\"kymograph\", read_metadata=True)\n",
    "metadata = kymodf.metadata\n",
    "#         width = metadata['kymograph_params']['trench_width_x']\n",
    "#         height = metadata['kymograph_params']['ttl_len_y']\n",
    "file_list = kymodf[\"File Index\"].unique().tolist()\n",
    "num_file_jobs = len(file_list)"
   ]
  },
  {
   "cell_type": "code",
   "execution_count": null,
   "metadata": {},
   "outputs": [],
   "source": [
    "lost_count = 0\n",
    "for key, value in dc.futures.items():\n",
    "    if value.status == \"lost\":\n",
    "        print(key)"
   ]
  },
  {
   "cell_type": "markdown",
   "metadata": {},
   "source": [
    "# Check proprety extraction results"
   ]
  },
  {
   "cell_type": "code",
   "execution_count": null,
   "metadata": {},
   "outputs": [],
   "source": [
    "from pandas import HDFStore\n",
    "import pandas as pd\n",
    "import random\n",
    "\n",
    "file_idx = 9\n",
    "p = os.path.join(segmenter.phasesegmentationpath, \"data_%d.h5\" % file_idx)\n",
    "test_df = pd.read_hdf(p)"
   ]
  },
  {
   "cell_type": "code",
   "execution_count": null,
   "metadata": {},
   "outputs": [],
   "source": [
    "len(test_df.index.unique(\"time_s\")"
   ]
  },
  {
   "cell_type": "code",
   "execution_count": null,
   "metadata": {},
   "outputs": [],
   "source": [
    "test_df.head(3)"
   ]
  },
  {
   "cell_type": "code",
   "execution_count": null,
   "metadata": {},
   "outputs": [],
   "source": [
    "trenches = list(test_df.index.unique(\"file_trench_index\"))\n",
    "random.shuffle(trenches)\n",
    "trench_idx = trenches[0]\n",
    "time_idx = 0"
   ]
  },
  {
   "cell_type": "code",
   "execution_count": null,
   "metadata": {},
   "outputs": [],
   "source": [
    "# Show segmentation mask\n",
    "with h5py.File(\n",
    "    segmenter.phasesegmentationpath + \"/segmentation_\" + str(file_idx) + \".hdf5\", \"r\"\n",
    ") as input_file:\n",
    "    data = input_file[\"data\"][:]\n",
    "    img = data[trench_idx, time_idx, :, :]\n",
    "    fig1, ax1 = plt.subplots(figsize=(10, 10))\n",
    "    ax1.imshow(img)\n",
    "    print(\"File %d, Trench %d, Time %d\" % (file_idx, trench_idx, time_idx))"
   ]
  },
  {
   "cell_type": "code",
   "execution_count": null,
   "metadata": {},
   "outputs": [],
   "source": [
    "times = test_df.loc[trench_idx].index.unique(\"time_s\")"
   ]
  },
  {
   "cell_type": "code",
   "execution_count": null,
   "metadata": {},
   "outputs": [],
   "source": [
    "len(times)"
   ]
  },
  {
   "cell_type": "code",
   "execution_count": null,
   "metadata": {},
   "outputs": [],
   "source": [
    "fig1, axes = plt.subplots(1, 15, figsize=(20, 10))\n",
    "for i, ax in enumerate(axes):\n",
    "    ax.imshow(data[trench_idx, time_idx + i, :, :], cmap=\"inferno_r\")\n",
    "    ax.scatter(\n",
    "        test_df.loc[trench_idx, times[time_idx + i]][\"centy\"],\n",
    "        test_df.loc[trench_idx, times[time_idx + i]][\"centx\"],\n",
    "    )"
   ]
  },
  {
   "cell_type": "markdown",
   "metadata": {},
   "source": [
    "# Get division times"
   ]
  },
  {
   "cell_type": "markdown",
   "metadata": {},
   "source": [
    "# Get lineage single-cell growth rates"
   ]
  },
  {
   "cell_type": "code",
   "execution_count": null,
   "metadata": {},
   "outputs": [],
   "source": [
    "from trenchripper.DetectPeaks import detect_peaks"
   ]
  },
  {
   "cell_type": "code",
   "execution_count": null,
   "metadata": {},
   "outputs": [],
   "source": [
    "import scipy.signal as signal"
   ]
  },
  {
   "cell_type": "code",
   "execution_count": null,
   "metadata": {},
   "outputs": [],
   "source": [
    "mother_cell = test_df.loc[trench_idx, :, 1]"
   ]
  },
  {
   "cell_type": "code",
   "execution_count": null,
   "metadata": {},
   "outputs": [],
   "source": [
    "major_axis_length = np.array(mother_cell[\"major_axis_length\"])"
   ]
  },
  {
   "cell_type": "code",
   "execution_count": null,
   "metadata": {},
   "outputs": [],
   "source": [
    "plt.plot(major_axis_length)"
   ]
  },
  {
   "cell_type": "code",
   "execution_count": null,
   "metadata": {},
   "outputs": [],
   "source": [
    "mal_smoothed = signal.wiener(major_axis_length)\n",
    "plt.plot(mal_smoothed)"
   ]
  },
  {
   "cell_type": "code",
   "execution_count": null,
   "metadata": {},
   "outputs": [],
   "source": [
    "mal_smoothed = signal.savgol_filter(major_axis_length, 5, 2)\n",
    "plt.plot(mal_smoothed)"
   ]
  },
  {
   "cell_type": "code",
   "execution_count": null,
   "metadata": {},
   "outputs": [],
   "source": [
    "detect_peaks(major_axis_length, mpd=3, show=True)"
   ]
  },
  {
   "cell_type": "code",
   "execution_count": null,
   "metadata": {},
   "outputs": [],
   "source": [
    "detect_peaks(mal_smoothed, mpd=3, show=True)"
   ]
  },
  {
   "cell_type": "code",
   "execution_count": null,
   "metadata": {},
   "outputs": [],
   "source": [
    "detect_peaks(mal_smoothed, mpd=3, show=True)"
   ]
  },
  {
   "cell_type": "code",
   "execution_count": null,
   "metadata": {},
   "outputs": [],
   "source": []
  }
 ],
 "metadata": {
  "kernelspec": {
   "display_name": "Python 3",
   "language": "python",
   "name": "python3"
  },
  "language_info": {
   "codemirror_mode": {
    "name": "ipython",
    "version": 3
   },
   "file_extension": ".py",
   "mimetype": "text/x-python",
   "name": "python",
   "nbconvert_exporter": "python",
   "pygments_lexer": "ipython3",
   "version": "3.7.1"
  }
 },
 "nbformat": 4,
 "nbformat_minor": 2
}
