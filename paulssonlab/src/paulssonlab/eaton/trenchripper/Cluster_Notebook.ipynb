{
 "cells": [
  {
   "cell_type": "markdown",
   "metadata": {},
   "source": [
    "## Kymograph Cluster Code\n",
    "\n",
    "should I add a retry call by default?"
   ]
  },
  {
   "cell_type": "code",
   "execution_count": null,
   "metadata": {},
   "outputs": [],
   "source": [
    "import trenchripper as tr"
   ]
  },
  {
   "cell_type": "code",
   "execution_count": null,
   "metadata": {},
   "outputs": [],
   "source": [
    "!sbatch -p transfer -t 0-12:00 --wrap=\"rsync -r /n/files/SysBio/PAULSSON\\ LAB/Daniel/Image_Data/Bacillus_Project/2019-05-13_bacillus_training_data/ /n/scratch2/de64/2019-05-13_bacillus_training_data\""
   ]
  },
  {
   "cell_type": "markdown",
   "metadata": {},
   "source": [
    "#### Start Dask"
   ]
  },
  {
   "cell_type": "code",
   "execution_count": null,
   "metadata": {},
   "outputs": [],
   "source": [
    "# kymo_controller = tr.cluster.dask_controller(walltime='04:00:00',local=False,n_workers=40,memory='2GB')\n",
    "kymo_controller = tr.cluster.dask_controller(\n",
    "    walltime=\"04:00:00\", local=False, n_workers=40, memory=\"4GB\"\n",
    ")\n",
    "kymo_controller.startdask()\n",
    "kymo_controller.daskcluster.start_workers()"
   ]
  },
  {
   "cell_type": "code",
   "execution_count": null,
   "metadata": {},
   "outputs": [],
   "source": [
    "kymo_controller.daskclient"
   ]
  },
  {
   "cell_type": "markdown",
   "metadata": {},
   "source": [
    "#### Perform Extraction"
   ]
  },
  {
   "cell_type": "code",
   "execution_count": null,
   "metadata": {},
   "outputs": [],
   "source": [
    "# hdf5_extractor = tr.ndextract.hdf5_fov_extractor(\"/n/scratch2/de64/full_pipeline_test/40x_Ph2_Test_1.5.nd2\",\"/n/scratch2/de64/full_pipeline_test\")\n",
    "hdf5_extractor = tr.ndextract.hdf5_fov_extractor(\n",
    "    \"/n/scratch2/de64/2019-05-13_bacillus_training_data/NDExp_Seq0000.nd2\",\n",
    "    \"/n/scratch2/de64/2019-05-13_bacillus_training_data\",\n",
    ")"
   ]
  },
  {
   "cell_type": "code",
   "execution_count": null,
   "metadata": {},
   "outputs": [],
   "source": [
    "hdf5_extractor.fov_metadata[:5]"
   ]
  },
  {
   "cell_type": "code",
   "execution_count": null,
   "metadata": {},
   "outputs": [],
   "source": [
    "print(hdf5_extractor.exp_metadata[\"fields_of_view\"])"
   ]
  },
  {
   "cell_type": "code",
   "execution_count": null,
   "metadata": {},
   "outputs": [],
   "source": [
    "fov_list = list(range(0, 40))"
   ]
  },
  {
   "cell_type": "code",
   "execution_count": null,
   "metadata": {},
   "outputs": [],
   "source": [
    "hdf5_extractor.writemetadata()"
   ]
  },
  {
   "cell_type": "code",
   "execution_count": null,
   "metadata": {},
   "outputs": [],
   "source": [
    "kymo_controller.mapfovs(hdf5_extractor.extract_fov, fov_list)"
   ]
  },
  {
   "cell_type": "code",
   "execution_count": null,
   "metadata": {},
   "outputs": [],
   "source": [
    "kymo_controller.retry_failed()"
   ]
  },
  {
   "cell_type": "code",
   "execution_count": null,
   "metadata": {},
   "outputs": [],
   "source": [
    "kymo_controller.retry_processing()"
   ]
  },
  {
   "cell_type": "code",
   "execution_count": null,
   "metadata": {},
   "outputs": [],
   "source": [
    "# props = kymo_controller.daskclient.gather(kymo_controller.futures) #this will hang until all futures are done"
   ]
  },
  {
   "cell_type": "code",
   "execution_count": null,
   "metadata": {},
   "outputs": [],
   "source": [
    "# hdf5_extractor.writemetadata()\n",
    "hdf5_extractor.extract_fov(4)"
   ]
  },
  {
   "cell_type": "code",
   "execution_count": null,
   "metadata": {},
   "outputs": [],
   "source": [
    "# test = tr.utils.pandas_hdf5_handler(\"/n/scratch2/de64/full_pipeline_test/metadata.hdf5\")"
   ]
  },
  {
   "cell_type": "code",
   "execution_count": null,
   "metadata": {},
   "outputs": [],
   "source": []
  },
  {
   "cell_type": "markdown",
   "metadata": {},
   "source": [
    "#### End Dask, Cancel Jobs"
   ]
  },
  {
   "cell_type": "code",
   "execution_count": null,
   "metadata": {},
   "outputs": [],
   "source": [
    "kymo_controller.shutdown()"
   ]
  },
  {
   "cell_type": "code",
   "execution_count": null,
   "metadata": {},
   "outputs": [],
   "source": [
    "# scancel --name=dask-worker --user=de64"
   ]
  },
  {
   "cell_type": "markdown",
   "metadata": {},
   "source": [
    "#### Generate Kymographs"
   ]
  },
  {
   "cell_type": "markdown",
   "metadata": {},
   "source": [
    "#### Start Dask"
   ]
  },
  {
   "cell_type": "code",
   "execution_count": null,
   "metadata": {},
   "outputs": [],
   "source": [
    "kymo_controller = tr.cluster.dask_controller(\n",
    "    walltime=\"04:00:00\", local=False, n_workers=40, memory=\"4GB\"\n",
    ")\n",
    "kymo_controller.startdask()\n",
    "kymo_controller.daskcluster.start_workers()"
   ]
  },
  {
   "cell_type": "code",
   "execution_count": null,
   "metadata": {},
   "outputs": [],
   "source": [
    "kymo_controller.daskclient"
   ]
  },
  {
   "cell_type": "code",
   "execution_count": null,
   "metadata": {},
   "outputs": [],
   "source": [
    "kymo_controller.daskclient.restart()"
   ]
  },
  {
   "cell_type": "code",
   "execution_count": null,
   "metadata": {},
   "outputs": [],
   "source": [
    "# headpath = \"/n/scratch2/de64/full_pipeline_test\"\n",
    "# all_channels = [\"channel_RFP\",\"channel_BF\"]\n",
    "\n",
    "# kymo = tr.kymograph.kychunker(headpath=headpath,all_channels=all_channels,trench_len_y=270,padding_y=40,trench_width_x=30,\\\n",
    "#                  t_chunk=25,t_range=(0,-1),y_percentile=90,y_min_edge_dist=80,smoothing_kernel_y=(17,1),triangle_nbins=50,triangle_scaling=1.60,\\\n",
    "#                  expected_num_rows=2,orientation_detection=0,x_percentile=95,background_kernel_x=(21,1),smoothing_kernel_x=(9,1),otsu_nbins=50,otsu_scaling=0.7)\n",
    "\n",
    "\n",
    "headpath = \"/n/scratch2/de64/2019-05-13_bacillus_training_data/\"\n",
    "all_channels = [\"channel_RFP\", \"channel_Phase\"]\n",
    "\n",
    "kymo = tr.kymograph.kychunker(\n",
    "    headpath=headpath,\n",
    "    all_channels=all_channels,\n",
    "    trench_len_y=200,\n",
    "    padding_y=20,\n",
    "    trench_width_x=20,\n",
    "    t_chunk=100,\n",
    "    t_range=(0, -1),\n",
    "    y_percentile=60,\n",
    "    y_min_edge_dist=80,\n",
    "    smoothing_kernel_y=(17, 1),\n",
    "    triangle_nbins=50,\n",
    "    triangle_scaling=1.1,\n",
    "    expected_num_rows=2,\n",
    "    orientation_detection=0,\n",
    "    orientation_on_fail=1,\n",
    "    x_percentile=99,\n",
    "    background_kernel_x=(21, 1),\n",
    "    smoothing_kernel_x=(9, 1),\n",
    "    otsu_nbins=50,\n",
    "    otsu_scaling=0.25,\n",
    ")"
   ]
  },
  {
   "cell_type": "code",
   "execution_count": null,
   "metadata": {},
   "outputs": [],
   "source": [
    "# Y Percentile 60\n",
    "# Y Smoothing Kernel 17\n",
    "# Triangle Trheshold Bins 50\n",
    "# Triangle Threshold Scaling 1.1\n",
    "# Minimum Trench Length 50\n",
    "# Y Padding 20\n",
    "# Trench Length 200\n",
    "# Orientation Detection Method 0\n",
    "# Expected Number of Rows (Manual Orientation Detection) 2\n",
    "# Top Orientation when Row Drifts Out (Manual Orientation Detection) 0\n",
    "# X Percentile 99\n",
    "# X Background Kernel 21\n",
    "# X Smoothing Kernel 9\n",
    "# Otsu Trheshold Bins 50\n",
    "# Otsu Threshold Scaling 0.33\n",
    "# Trench Width 26"
   ]
  },
  {
   "cell_type": "code",
   "execution_count": null,
   "metadata": {},
   "outputs": [],
   "source": [
    "# fov_list = list(range(0,80))\n",
    "fov_list = list(range(0, 40))"
   ]
  },
  {
   "cell_type": "code",
   "execution_count": null,
   "metadata": {},
   "outputs": [],
   "source": [
    "kymo_controller.mapfovs(kymo.generate_kymograph, fov_list, retries=1)"
   ]
  },
  {
   "cell_type": "code",
   "execution_count": null,
   "metadata": {},
   "outputs": [],
   "source": [
    "kymo_controller.retry_failed()"
   ]
  },
  {
   "cell_type": "code",
   "execution_count": null,
   "metadata": {},
   "outputs": [],
   "source": [
    "kymo.collect_metadata(fov_list, use_archive=False, overwrite_archive=True)"
   ]
  },
  {
   "cell_type": "code",
   "execution_count": null,
   "metadata": {},
   "outputs": [],
   "source": [
    "kymo.collect_metadata(fov_list, use_archive=True, overwrite_archive=False)"
   ]
  },
  {
   "cell_type": "markdown",
   "metadata": {},
   "source": [
    "maybe an estimate of memory usage"
   ]
  },
  {
   "cell_type": "code",
   "execution_count": null,
   "metadata": {},
   "outputs": [],
   "source": [
    "kymo.generate_kymograph(0)"
   ]
  },
  {
   "cell_type": "code",
   "execution_count": null,
   "metadata": {},
   "outputs": [],
   "source": [
    "import h5py\n",
    "from matplotlib import pyplot as plt"
   ]
  },
  {
   "cell_type": "code",
   "execution_count": null,
   "metadata": {},
   "outputs": [],
   "source": [
    "# for fov in fov_list:\n",
    "for fov in [12, 63]:\n",
    "    print(fov)\n",
    "    with h5py.File(\n",
    "        \"/n/scratch2/de64/full_pipeline_test/hdf5/fov_\" + str(fov) + \".hdf5\"\n",
    "    ) as testfile:\n",
    "        data = testfile[\"channel_RFP\"]\n",
    "        arr = data[:, :, 0]"
   ]
  },
  {
   "cell_type": "code",
   "execution_count": null,
   "metadata": {},
   "outputs": [],
   "source": [
    "arr.shape"
   ]
  },
  {
   "cell_type": "code",
   "execution_count": null,
   "metadata": {},
   "outputs": [],
   "source": [
    "import numpy as np\n",
    "\n",
    "arr = np.array([1, 2, 3, 4])\n",
    "arr[np.array([0, 2, 3])]"
   ]
  },
  {
   "cell_type": "code",
   "execution_count": null,
   "metadata": {},
   "outputs": [],
   "source": [
    "import pandas as pd"
   ]
  },
  {
   "cell_type": "code",
   "execution_count": null,
   "metadata": {},
   "outputs": [],
   "source": [
    "meta_handle = tr.utils.pandas_hdf5_handler(\n",
    "    \"/n/scratch2/de64/2019-05-10_bacillus_training_data/metadata.hdf5\"\n",
    ")\n",
    "global_meta = meta_handle.read_df(\"global\", read_metadata=True)"
   ]
  },
  {
   "cell_type": "code",
   "execution_count": null,
   "metadata": {},
   "outputs": [],
   "source": [
    "global_meta.metadata"
   ]
  },
  {
   "cell_type": "code",
   "execution_count": null,
   "metadata": {},
   "outputs": [],
   "source": [
    "kymo_handle = tr.utils.kymo_handle()\n",
    "kymo_handle.import_wrap(h5py_handle[\"0/channel_RFP\"][39])\n",
    "plt.imshow(kymo_handle.return_unwrap())"
   ]
  },
  {
   "cell_type": "markdown",
   "metadata": {},
   "source": [
    "#### Generate Segmentation"
   ]
  },
  {
   "cell_type": "markdown",
   "metadata": {},
   "source": [
    "#### Start Dask"
   ]
  },
  {
   "cell_type": "code",
   "execution_count": null,
   "metadata": {},
   "outputs": [],
   "source": [
    "kymo_controller = tr.cluster.dask_controller(\n",
    "    walltime=\"01:00:00\", local=False, n_workers=80, memory=\"1GB\"\n",
    ")\n",
    "kymo_controller.startdask()\n",
    "kymo_controller.daskcluster.start_workers()"
   ]
  },
  {
   "cell_type": "code",
   "execution_count": null,
   "metadata": {},
   "outputs": [],
   "source": [
    "kymo_controller.daskclient"
   ]
  },
  {
   "cell_type": "code",
   "execution_count": null,
   "metadata": {},
   "outputs": [],
   "source": [
    "kymo_controller.daskclient.restart()"
   ]
  },
  {
   "cell_type": "code",
   "execution_count": null,
   "metadata": {},
   "outputs": [],
   "source": [
    "# segment = tr.segment.fluo_segmentation_cluster(\"/n/scratch2/de64/full_pipeline_test\",\"channel_RFP\",smooth_sigma=0.75,wrap_pad=3,hess_pad=4,min_obj_size=30,cell_mask_method='local',\\\n",
    "#                  cell_otsu_scaling=1.,local_otsu_r=15,edge_threshold_scaling=1.,threshold_range=20,threshold_step=10,convex_threshold=0.8)\n",
    "segment = tr.segment.fluo_segmentation_cluster(\n",
    "    \"/n/scratch2/de64/2019-05-10_bacillus_training_data/\",\n",
    "    \"channel_RFP\",\n",
    "    smooth_sigma=0.75,\n",
    "    wrap_pad=3,\n",
    "    hess_pad=4,\n",
    "    min_obj_size=30,\n",
    "    cell_mask_method=\"local\",\n",
    "    cell_otsu_scaling=1.0,\n",
    "    local_otsu_r=15,\n",
    "    edge_threshold_scaling=1.0,\n",
    "    threshold_range=20,\n",
    "    threshold_step=10,\n",
    "    convex_threshold=0.8,\n",
    ")"
   ]
  },
  {
   "cell_type": "code",
   "execution_count": null,
   "metadata": {},
   "outputs": [],
   "source": [
    "# fov_list = list(set(range(0,80))-set([77]))\n",
    "fov_list = list(set(range(0, 40)) - set([34, 35, 36, 37, 38, 39, 9, 10, 11, 17]))"
   ]
  },
  {
   "cell_type": "code",
   "execution_count": null,
   "metadata": {},
   "outputs": [],
   "source": [
    "kymo_controller.mapfovs(segment.generate_segmentation, fov_list)"
   ]
  },
  {
   "cell_type": "code",
   "execution_count": null,
   "metadata": {},
   "outputs": [],
   "source": [
    "segment.generate_segmentation(10)"
   ]
  },
  {
   "cell_type": "code",
   "execution_count": null,
   "metadata": {},
   "outputs": [],
   "source": [
    "kymo_controller.daskclient.get_futures_error(kymo_controller.futures[1])"
   ]
  },
  {
   "cell_type": "code",
   "execution_count": null,
   "metadata": {},
   "outputs": [],
   "source": []
  },
  {
   "cell_type": "markdown",
   "metadata": {},
   "source": [
    "#### End Dask, Cancel Jobs"
   ]
  },
  {
   "cell_type": "code",
   "execution_count": null,
   "metadata": {},
   "outputs": [],
   "source": [
    "kymo_controller.shutdown()"
   ]
  },
  {
   "cell_type": "code",
   "execution_count": null,
   "metadata": {},
   "outputs": [],
   "source": []
  },
  {
   "cell_type": "code",
   "execution_count": null,
   "metadata": {},
   "outputs": [],
   "source": [
    "import h5py\n",
    "from matplotlib import pyplot as plt\n",
    "import numpy as np\n",
    "import skimage as sk"
   ]
  },
  {
   "cell_type": "code",
   "execution_count": null,
   "metadata": {},
   "outputs": [],
   "source": [
    "data = h5py.File(\"/n/scratch2/de64/2019-05-10_bacillus_training_data/hdf5/fov_1.hdf5\")"
   ]
  },
  {
   "cell_type": "code",
   "execution_count": null,
   "metadata": {},
   "outputs": [],
   "source": [
    "array = data[\"channel_RFP\"][:, :, 10]"
   ]
  },
  {
   "cell_type": "code",
   "execution_count": null,
   "metadata": {},
   "outputs": [],
   "source": [
    "plt.hist(array.flatten(), bins=100)\n",
    "plt.show()"
   ]
  },
  {
   "cell_type": "code",
   "execution_count": null,
   "metadata": {},
   "outputs": [],
   "source": [
    "plt.imshow(array[470:500, 175:190])"
   ]
  },
  {
   "cell_type": "code",
   "execution_count": null,
   "metadata": {},
   "outputs": [],
   "source": [
    "array[470:500, 175:190]"
   ]
  },
  {
   "cell_type": "code",
   "execution_count": null,
   "metadata": {},
   "outputs": [],
   "source": [
    "np.percentile(data[\"channel_RFP\"][:, :, 0], 90)"
   ]
  },
  {
   "cell_type": "code",
   "execution_count": null,
   "metadata": {},
   "outputs": [],
   "source": [
    "kymo_handle = tr.utils.kymo_handle()"
   ]
  },
  {
   "cell_type": "code",
   "execution_count": null,
   "metadata": {},
   "outputs": [],
   "source": [
    "list(data.keys())"
   ]
  },
  {
   "cell_type": "code",
   "execution_count": null,
   "metadata": {},
   "outputs": [],
   "source": [
    "kymo_handle.import_wrap(data[\"19\"])\n",
    "plt.imshow(kymo_handle.return_unwrap())"
   ]
  },
  {
   "cell_type": "code",
   "execution_count": null,
   "metadata": {},
   "outputs": [],
   "source": []
  },
  {
   "cell_type": "markdown",
   "metadata": {},
   "source": [
    "### NOTE\n",
    "\n",
    "- **How to deal with some fovs having a different number of rows than other fovs??? Try to make more flexible...**"
   ]
  },
  {
   "cell_type": "markdown",
   "metadata": {},
   "source": [
    "maybe add a kymograph viewer here"
   ]
  },
  {
   "cell_type": "markdown",
   "metadata": {},
   "source": [
    "### Note\n",
    "There may be an issue where hdf5 files do not close properly on crashes..."
   ]
  },
  {
   "cell_type": "code",
   "execution_count": null,
   "metadata": {},
   "outputs": [],
   "source": [
    "# props = kymo_controller.daskclient.gather(kymo_controller.futures) #this will hang until all futures are done"
   ]
  },
  {
   "cell_type": "markdown",
   "metadata": {},
   "source": [
    "#### End Dask, Cancel Jobs"
   ]
  },
  {
   "cell_type": "code",
   "execution_count": null,
   "metadata": {},
   "outputs": [],
   "source": [
    "kymo_controller.shutdown()"
   ]
  },
  {
   "cell_type": "code",
   "execution_count": null,
   "metadata": {},
   "outputs": [],
   "source": [
    "# scancel --name=dask-worker --user=de64"
   ]
  },
  {
   "cell_type": "markdown",
   "metadata": {},
   "source": [
    "#### Note: access request to the transfer partition pending; automate this bit later"
   ]
  },
  {
   "cell_type": "code",
   "execution_count": null,
   "metadata": {},
   "outputs": [],
   "source": [
    "import subprocess\n",
    "\n",
    "in_path = \"/n/files/SysBio/PAULSSON LAB/Daniel/Image_Data/test\"\n",
    "out_path = \"/n/scratch2/de64/for_sylvia/\"\n",
    "wrap_str = \"rsync \" + in_path + \" \" + out_path\n",
    "cmd_str = 'sbatch -p transfer -t 0-12:00 --wrap=\"' + wrap_str + '\"'\n",
    "\n",
    "subprocess.check_output(cmd_str, shell=True)"
   ]
  },
  {
   "cell_type": "code",
   "execution_count": null,
   "metadata": {},
   "outputs": [],
   "source": [
    "cmd_str"
   ]
  },
  {
   "cell_type": "code",
   "execution_count": null,
   "metadata": {},
   "outputs": [],
   "source": [
    "!sbatch -p transfer -t 0-12:00 --wrap=\"rsync /n/files/SysBio/PAULSSON\\LAB/Daniel/Image_Data/Bacillus_Project/test /n/scratch2/de64/for_sylvia/\""
   ]
  },
  {
   "cell_type": "markdown",
   "metadata": {},
   "source": [
    "#### Note: need to find a way to associate lanes from init barcoding snapshot with imaging lanes\n",
    "\n",
    "plan:\n",
    "- extract and segment (with phase) barcoding file\n",
    "- extract and segment experiemnt file\n",
    "- for both, note x positions of t=0 trenches\n",
    "- compare these values to map trenches to eachother..."
   ]
  }
 ],
 "metadata": {
  "kernelspec": {
   "display_name": "mothermachine",
   "language": "python",
   "name": "mothermachine"
  },
  "language_info": {
   "codemirror_mode": {
    "name": "ipython",
    "version": 3
   },
   "file_extension": ".py",
   "mimetype": "text/x-python",
   "name": "python",
   "nbconvert_exporter": "python",
   "pygments_lexer": "ipython3",
   "version": "3.7.3"
  }
 },
 "nbformat": 4,
 "nbformat_minor": 2
}
