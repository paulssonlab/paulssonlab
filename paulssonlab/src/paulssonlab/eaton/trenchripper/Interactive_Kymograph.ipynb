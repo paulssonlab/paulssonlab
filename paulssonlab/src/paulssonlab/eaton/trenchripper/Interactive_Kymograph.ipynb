{
 "cells": [
  {
   "cell_type": "markdown",
   "metadata": {},
   "source": [
    "### Interactive Kymograph Code\n",
    "\n",
    "Use this notebook to figure out the kymograph hyperparameters that are most appropriate for your dataset."
   ]
  },
  {
   "cell_type": "code",
   "execution_count": null,
   "metadata": {},
   "outputs": [],
   "source": [
    "from ipywidgets import (\n",
    "    interact,\n",
    "    interactive,\n",
    "    fixed,\n",
    "    interact_manual,\n",
    "    FloatSlider,\n",
    "    IntSlider,\n",
    ")\n",
    "import ipywidgets as widgets\n",
    "import matplotlib\n",
    "import warnings\n",
    "\n",
    "matplotlib.rcParams[\"figure.figsize\"] = [20, 10]\n",
    "warnings.filterwarnings(action=\"once\")"
   ]
  },
  {
   "cell_type": "code",
   "execution_count": null,
   "metadata": {},
   "outputs": [],
   "source": [
    "import trenchripper as tr"
   ]
  },
  {
   "cell_type": "code",
   "execution_count": null,
   "metadata": {},
   "outputs": [],
   "source": [
    "import h5py\n",
    "import numpy as np\n",
    "import time"
   ]
  },
  {
   "cell_type": "code",
   "execution_count": null,
   "metadata": {},
   "outputs": [],
   "source": [
    "time.time()"
   ]
  },
  {
   "cell_type": "code",
   "execution_count": null,
   "metadata": {},
   "outputs": [],
   "source": [
    "for i in range(7, 11):\n",
    "    print(2**i)\n",
    "    with h5py.File(\"/n/scratch2/de64/test_\" + str(i) + \".hdf5\", \"a\") as outfile:\n",
    "        outfile.create_dataset(\n",
    "            \"data\", (2048, 2048, 300), chunks=(2**i, 2**i, 1), dtype=\"uint16\"\n",
    "        )\n",
    "        for j in range(3):\n",
    "            array = np.ones((2048, 2048, 100), dtype=\"uint16\")\n",
    "            outfile[\"data\"][:, :, (100 * j) : (100 * j) + 100] = array\n",
    "    infile = h5py.File(\"/n/scratch2/de64/test_\" + str(i) + \".hdf5\", \"r\")\n",
    "    dataset = infile[\"data\"]\n",
    "    t1 = time.time()\n",
    "    testarr = dataset[:, :, 0:300:100]\n",
    "    t2 = time.time()\n",
    "    print(t2 - t1)"
   ]
  },
  {
   "cell_type": "code",
   "execution_count": null,
   "metadata": {},
   "outputs": [],
   "source": [
    "for i in range(0, 4):\n",
    "    print(2**i)\n",
    "    with h5py.File(\"/n/scratch2/de64/test_\" + str(i) + \".hdf5\", \"a\") as outfile:\n",
    "        outfile.create_dataset(\n",
    "            \"data\", (2048, 2048, 300), chunks=(256, 256, 2**i), dtype=\"uint16\"\n",
    "        )\n",
    "        for j in range(3):\n",
    "            array = np.ones((2048, 2048, 100), dtype=\"uint16\")\n",
    "            outfile[\"data\"][:, :, (100 * j) : (100 * j) + 100] = array\n",
    "    infile = h5py.File(\"/n/scratch2/de64/test_\" + str(i) + \".hdf5\", \"r\")\n",
    "    dataset = infile[\"data\"]\n",
    "    t1 = time.time()\n",
    "    testarr = dataset[:, :, 0:300:100]\n",
    "    t2 = time.time()\n",
    "    print(t2 - t1)"
   ]
  },
  {
   "cell_type": "code",
   "execution_count": null,
   "metadata": {},
   "outputs": [],
   "source": [
    "infile = h5py.File(\"/n/scratch2/de64/test_7.hdf5\", \"r\")"
   ]
  },
  {
   "cell_type": "code",
   "execution_count": null,
   "metadata": {},
   "outputs": [],
   "source": [
    "2048 / 4"
   ]
  },
  {
   "cell_type": "code",
   "execution_count": null,
   "metadata": {},
   "outputs": [],
   "source": [
    "dataset = infile[\"data\"]"
   ]
  },
  {
   "cell_type": "code",
   "execution_count": null,
   "metadata": {},
   "outputs": [],
   "source": [
    "dataset.chunks"
   ]
  },
  {
   "cell_type": "code",
   "execution_count": null,
   "metadata": {},
   "outputs": [],
   "source": [
    "dataset.shape"
   ]
  },
  {
   "cell_type": "code",
   "execution_count": null,
   "metadata": {},
   "outputs": [],
   "source": [
    "testarr = dataset[:, :, 0:700:100]"
   ]
  },
  {
   "cell_type": "code",
   "execution_count": null,
   "metadata": {},
   "outputs": [],
   "source": [
    "testarr.nbytes"
   ]
  },
  {
   "cell_type": "markdown",
   "metadata": {},
   "source": [
    "#### Initialize the interactive kymograph class\n",
    "\n",
    "As a first step, initialize the `tr.interactive.kymograph_interactive` class that will be handling all steps of generating a kymograph. \n",
    "\n",
    "You will need to specify the following `args` and `kwargs` (in order):\n",
    "\n",
    "\n",
    "**Args**\n",
    "\n",
    "**input_file_prefix (string)** : File prefix for all input hdf5 files of the form \"\\[input_file_prefix\\]\\[number\\].hdf5\" This should be the default output format for the hdf5 export code, but you will need to rename files if taking input files from a different source.\n",
    "\n",
    "**all_channels (list)** : list of strings corresponding to the different image channels available in the input hdf5 file, with the channel used for segmenting trenches in the first position. NOTE: these names must match those of the input hdf5 file datasets.\n",
    "\n",
    "**fov_list (list)** : List of ints corresponding to the fovs that you wish to make kymographs of.\n",
    "\n",
    "**Kwargs**\n",
    "\n",
    "**t_subsample_step (int)** : Step size to be used for subsampling input files in time, recommend that subsampling results in between 5 and 20 timepoints for quick processing.\n",
    "\n",
    "The last line will perform import and subsampling of the input hdf5 image files."
   ]
  },
  {
   "cell_type": "code",
   "execution_count": null,
   "metadata": {},
   "outputs": [],
   "source": [
    "# input_path_prefix = '/n/groups/paulsson/Daniel/Image_analysis_pipeline/tiff_extraction/test_out_4/fov_'\n",
    "# kymo = tr.interactive.kymograph_interactive(input_path_prefix,[\"channel_BF\",\"channel_RFP\"],[64,12,32,45],t_subsample_step=5)\n",
    "# imported_array_list = kymo.map_to_fovs(kymo.import_hdf5)\n",
    "input_path_prefix = \"/n/scratch2/de64/full_pipeline_test/hdf5/fov_\"\n",
    "kymo = tr.interactive.kymograph_interactive(\n",
    "    input_path_prefix, [\"channel_BF\"], [1, 2, 3, 4], t_subsample_step=200\n",
    ")\n",
    "imported_array_list = kymo.map_to_fovs(kymo.import_hdf5)"
   ]
  },
  {
   "cell_type": "markdown",
   "metadata": {},
   "source": [
    "#### Tune \"trench-row\" detection hyperparameters\n",
    "\n",
    "The kymograph code begins by detecting the positions of trench rows in the image as follows:\n",
    "\n",
    "1. Reducing each 2D image to a 1D signal along the y-axis by computing the qth percentile of the data along the x-axis\n",
    "2. Smooth this signal using a median kernel\n",
    "3. Use a [triangle threshold](https://imagej.net/Auto_Threshold#Triangle) to determine the trench row poisitons\n",
    "\n",
    "This method uses the following `kwargs`, which you can tune here:\n",
    "\n",
    "**y_percentile (int)** : Percentile to use for step 1.\n",
    "\n",
    "**smoothing_kernel_y_dim_0 (int)** : Median kernel size to use for step 2.\n",
    "\n",
    "**triangle_nbins (int)** : Number of bins to use in the triangle method histogram.\n",
    "\n",
    "**triangle_scaling (float)** : Scaling factor to apply to the threshold determined by the triangle method.\n",
    "\n",
    "\n",
    "Running the following widget will display the smoothed 1-D signal for each of your timepoints. In addition, the threshold value for each fov will be displayed as a red line."
   ]
  },
  {
   "cell_type": "code",
   "execution_count": null,
   "metadata": {},
   "outputs": [],
   "source": [
    "matplotlib.rcParams[\"figure.figsize\"] = [20, 10]\n",
    "interact_manual(\n",
    "    kymo.preview_y_precentiles,\n",
    "    imported_array_list=fixed(imported_array_list),\n",
    "    y_percentile=IntSlider(value=85, min=0, max=100, step=1),\n",
    "    smoothing_kernel_y_dim_0=IntSlider(value=9, min=1, max=20, step=1),\n",
    "    triangle_nbins=IntSlider(value=50, min=10, max=200, step=10),\n",
    "    triangle_scaling=FloatSlider(value=1.0, min=0.0, max=2.0, step=0.05),\n",
    ")"
   ]
  },
  {
   "cell_type": "markdown",
   "metadata": {},
   "source": [
    "#### Generate \"trench-row\" detection output\n",
    "\n",
    "After determining your desired hyperparameters, set them in the next cell and run it to produce output for later steps. **Note: The thresholding parameters do not need to be specified at this point.**"
   ]
  },
  {
   "cell_type": "code",
   "execution_count": null,
   "metadata": {},
   "outputs": [],
   "source": [
    "y_percentile = 85\n",
    "smoothing_kernel_y_dim_0 = 9\n",
    "\n",
    "y_percentiles_smoothed_list = kymo.map_to_fovs(\n",
    "    kymo.get_smoothed_y_percentiles,\n",
    "    imported_array_list,\n",
    "    y_percentile,\n",
    "    (smoothing_kernel_y_dim_0, 1),\n",
    ")"
   ]
  },
  {
   "cell_type": "markdown",
   "metadata": {},
   "source": [
    "#### Tune \"trench-row\" cropping hyperparameters\n",
    "\n",
    "Next, we will use the detected rows to perform cropping of the input image in the y-dimension:\n",
    "\n",
    "1. Determine edges of trench rows based on threshold mask.\n",
    "2. Filter out rows that are too small.\n",
    "3. Perform cropping using the \"end\" of the row as reference (the end referring to the part of the trench farthest from the feeding channel).\n",
    "\n",
    "This method uses the following `kwargs`, which you can tune here:\n",
    "\n",
    "**triangle_nbins (int)** : Number of bins to use in the triangle method histogram.\n",
    "\n",
    "**triangle_scaling (float)** : Scaling factor to apply to the threshold determined by the triangle method.\n",
    "\n",
    "**y_min_edge_dist (int)** : Minimum row length necessary for detection.\n",
    "\n",
    "**padding_y (int)** : Padding to be used when cropping in the y-dimension.\n",
    "\n",
    "**trench_len_y (int)** : Length from the end of the tenches to be used when cropping in the y-dimension.\n",
    "\n",
    "**top_orientation (int)** : The orientation of the top-most row where 0 corresponds to a trench with a downward-oriented trench opening and 1 corresponds to a trench with an upward-oriented trench opening.\n",
    "\n",
    "**vertical_spacing (float)** : Parameter for setting the distance of plots being viewed.\n",
    "\n",
    "Running the following widget will display y-cropped images for each fov and timepoint."
   ]
  },
  {
   "cell_type": "code",
   "execution_count": null,
   "metadata": {},
   "outputs": [],
   "source": [
    "matplotlib.rcParams[\"figure.figsize\"] = [20, 10]\n",
    "interact_manual(\n",
    "    kymo.preview_y_crop,\n",
    "    y_percentiles_smoothed_list=fixed(y_percentiles_smoothed_list),\n",
    "    imported_array_list=fixed(imported_array_list),\n",
    "    triangle_nbins=IntSlider(value=50, min=10, max=200, step=10),\n",
    "    triangle_scaling=FloatSlider(value=1.0, min=0.0, max=2.0, step=0.01),\n",
    "    y_min_edge_dist=IntSlider(value=50, min=10, max=200, step=10),\n",
    "    padding_y=IntSlider(value=20, min=0, max=100, step=1),\n",
    "    trench_len_y=IntSlider(value=270, min=0, max=1000, step=10),\n",
    "    top_orientation=IntSlider(value=0, min=0, max=1, step=1),\n",
    "    vertical_spacing=FloatSlider(value=0.9, min=0.0, max=2.0, step=0.01),\n",
    ")"
   ]
  },
  {
   "cell_type": "markdown",
   "metadata": {},
   "source": [
    "#### Generate \"trench-row\" cropping output\n",
    "\n",
    "After determining your desired hyperparameters, set them in the next cell and run it to produce output for later steps."
   ]
  },
  {
   "cell_type": "code",
   "execution_count": null,
   "metadata": {},
   "outputs": [],
   "source": [
    "triangle_nbins = 50\n",
    "triangle_scaling = 1.3\n",
    "y_min_edge_dist = 50\n",
    "padding_y = 40\n",
    "trench_len_y = 130\n",
    "top_orientation = 0\n",
    "\n",
    "trench_edges_y_lists = kymo.map_to_fovs(\n",
    "    kymo.get_trench_edges_y,\n",
    "    y_percentiles_smoothed_list,\n",
    "    triangle_nbins,\n",
    "    triangle_scaling,\n",
    "    y_min_edge_dist,\n",
    ")\n",
    "row_num_list = kymo.map_to_fovs(kymo.get_row_numbers, trench_edges_y_lists)\n",
    "cropped_in_y_list = kymo.map_to_fovs(\n",
    "    kymo.crop_y,\n",
    "    trench_edges_y_lists,\n",
    "    row_num_list,\n",
    "    imported_array_list,\n",
    "    padding_y,\n",
    "    trench_len_y,\n",
    "    top_orientation,\n",
    ")"
   ]
  },
  {
   "cell_type": "markdown",
   "metadata": {},
   "source": [
    "#### Tune trench detection hyperparameters\n",
    "\n",
    "Next, we will detect the positions of trenchs in the y-cropped images as follows:\n",
    "\n",
    "1. Reducing each 2D image to a 1D signal along the x-axis by computing the qth percentile of the data along the y-axis.\n",
    "2. Determine the signal background by smooth this signal using a large median kernel.\n",
    "3. Subtract the background signal.\n",
    "4. Smooth the resultant signal using a median kernel.\n",
    "5. Use a [otsu threhsold](https://imagej.net/Auto_Threshold#Otsu) to determine the trench midpoint poisitons.\n",
    "\n",
    "This method uses the following `kwargs`, which you can tune here:\n",
    "\n",
    "**x_percentile (int)** : Percentile to use for step 1.\n",
    "\n",
    "**background_kernel_x (int)** : Median kernel size to use for step 2.\n",
    "\n",
    "**smoothing_kernel_x (int)** : Median kernel size to use for step 4.\n",
    "\n",
    "**otsu_nbins (int)** : Number of bins to use in the Otsu's method histogram.\n",
    "\n",
    "**otsu_scaling (float)** : Scaling factor to apply to the threshold determined by Otsu's method.\n",
    "\n",
    "**vertical_spacing (float)** : Parameter for setting the distance of plots being viewed.\n",
    "\n",
    "Running the following widget will display the smoothed 1-D signal for each of your timepoints. In addition, the threshold value for each fov will be displayed as a red line."
   ]
  },
  {
   "cell_type": "code",
   "execution_count": null,
   "metadata": {},
   "outputs": [],
   "source": [
    "interact_manual(\n",
    "    kymo.preview_x_percentiles,\n",
    "    cropped_in_y_list=fixed(cropped_in_y_list),\n",
    "    t=IntSlider(value=0, min=0, max=cropped_in_y_list[0].shape[4] - 1, step=1),\n",
    "    x_percentile=IntSlider(value=85, min=0, max=100, step=1),\n",
    "    background_kernel_x=IntSlider(value=301, min=1, max=601, step=50),\n",
    "    smoothing_kernel_x=IntSlider(value=9, min=1, max=31, step=2),\n",
    "    otsu_nbins=IntSlider(value=50, min=10, max=200, step=10),\n",
    "    otsu_scaling=FloatSlider(value=1.0, min=0.0, max=2.0, step=0.01),\n",
    "    vertical_spacing=FloatSlider(value=0.9, min=0.0, max=2.0, step=0.01),\n",
    ")"
   ]
  },
  {
   "cell_type": "markdown",
   "metadata": {},
   "source": [
    "#### Generate trench detection output\n",
    "\n",
    "After determining your desired hyperparameters, set them in the next cell and run it to produce output for later steps. **Note: The thresholding parameters do not need to be specified at this point.**"
   ]
  },
  {
   "cell_type": "code",
   "execution_count": null,
   "metadata": {},
   "outputs": [],
   "source": [
    "x_percentile = 85\n",
    "background_kernel_x = 301\n",
    "smoothing_kernel_x = 9\n",
    "\n",
    "smoothed_x_percentiles_list = kymo.map_to_fovs(\n",
    "    kymo.get_smoothed_x_percentiles,\n",
    "    cropped_in_y_list,\n",
    "    x_percentile,\n",
    "    (background_kernel_x, 1),\n",
    "    (smoothing_kernel_x, 1),\n",
    ")"
   ]
  },
  {
   "cell_type": "markdown",
   "metadata": {},
   "source": [
    "#### Check midpoint drift\n",
    "\n",
    "Next, we will perform x-dimension drift correction of our detected midpoints as follows:\n",
    "\n",
    "1. Begin at t=1\n",
    "2. For $m \\in \\{midpoints(t)\\}$ assign $n \\in \\{midpoints(t-1)\\}$ to m if n is the closest midpoint to m at time $t-1$,\n",
    "points that are not the closest midpoint to any midpoints in m will not be mapped.\n",
    "3. Compute the translation of each midpoint at time.\n",
    "4. Take the average of this value as the x-dimension drift from time t-1 to t.\n",
    "\n",
    "This method uses the following `kwargs`, which you can tune here:\n",
    "\n",
    "**otsu_nbins (int)** : Number of bins to use in the Otsu's method histogram.\n",
    "\n",
    "**otsu_scaling (float)** : Scaling factor to apply to the threshold determined by Otsu's method.\n",
    "\n",
    "**vertical_spacing (float)** : Parameter for setting the distance of plots being viewed.\n",
    "\n",
    "Running the following widget will display the detected midpoints for each of your timepoints. If there is too much sparsity, or discontinuity, your drift correction will not be accurate."
   ]
  },
  {
   "cell_type": "code",
   "execution_count": null,
   "metadata": {},
   "outputs": [],
   "source": [
    "interact_manual(\n",
    "    kymo.preview_midpoints,\n",
    "    smoothed_x_percentiles_list=fixed(smoothed_x_percentiles_list),\n",
    "    otsu_nbins=IntSlider(value=50, min=10, max=200, step=10),\n",
    "    otsu_scaling=FloatSlider(value=1.0, min=0.0, max=2.0, step=0.01),\n",
    "    vertical_spacing=FloatSlider(value=0.8, min=0.0, max=2.0, step=0.01),\n",
    ")"
   ]
  },
  {
   "cell_type": "markdown",
   "metadata": {},
   "source": [
    "#### Generate midpoint drift output\n",
    "\n",
    "After determining your desired hyperparameters, set them in the next cell and run it to produce output for later steps."
   ]
  },
  {
   "cell_type": "code",
   "execution_count": null,
   "metadata": {},
   "outputs": [],
   "source": [
    "otsu_nbins = 50\n",
    "otsu_scaling = 1.0\n",
    "\n",
    "\n",
    "all_midpoints_list = kymo.map_to_fovs(\n",
    "    kymo.get_all_midpoints, smoothed_x_percentiles_list, otsu_nbins, otsu_scaling\n",
    ")\n",
    "x_drift_list = kymo.map_to_fovs(kymo.get_x_drift, all_midpoints_list)"
   ]
  },
  {
   "cell_type": "markdown",
   "metadata": {},
   "source": [
    "#### Tune trench cropping hyperparameters\n",
    "\n",
    "Trench cropping simply uses the drift-corrected midpoints as a reference and crops out some fixed length around them to produce an output kymograph\n",
    "\n",
    "This method uses the following `kwargs`, which you can tune here:\n",
    "\n",
    "**trench_width_x (int)** : Trench width to use for cropping.\n",
    "\n",
    "**vertical_spacing (float)** : Parameter for setting the distance of plots being viewed.\n",
    "\n",
    "Running the following widget will display a random kymograph for each row in each fov."
   ]
  },
  {
   "cell_type": "code",
   "execution_count": null,
   "metadata": {},
   "outputs": [],
   "source": [
    "matplotlib.rcParams[\"figure.figsize\"] = [20, 10]\n",
    "interact_manual(\n",
    "    kymo.preview_kymographs,\n",
    "    cropped_in_y_list=fixed(cropped_in_y_list),\n",
    "    all_midpoints_list=fixed(all_midpoints_list),\n",
    "    x_drift_list=fixed(x_drift_list),\n",
    "    trench_width_x=IntSlider(value=30, min=10, max=50, step=1),\n",
    "    vertical_spacing=FloatSlider(value=0.8, min=0.0, max=2.0, step=0.01),\n",
    ")"
   ]
  },
  {
   "cell_type": "code",
   "execution_count": null,
   "metadata": {},
   "outputs": [],
   "source": []
  }
 ],
 "metadata": {
  "kernelspec": {
   "display_name": "Python 3",
   "language": "python",
   "name": "python3"
  },
  "language_info": {
   "codemirror_mode": {
    "name": "ipython",
    "version": 3
   },
   "file_extension": ".py",
   "mimetype": "text/x-python",
   "name": "python",
   "nbconvert_exporter": "python",
   "pygments_lexer": "ipython3",
   "version": "3.6.6"
  }
 },
 "nbformat": 4,
 "nbformat_minor": 2
}
