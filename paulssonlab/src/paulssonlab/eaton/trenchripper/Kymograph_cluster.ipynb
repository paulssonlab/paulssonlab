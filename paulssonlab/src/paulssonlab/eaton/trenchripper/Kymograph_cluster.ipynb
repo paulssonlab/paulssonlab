{
 "cells": [
  {
   "cell_type": "markdown",
   "metadata": {},
   "source": [
    "## Kymograph Cluster Code"
   ]
  },
  {
   "cell_type": "code",
   "execution_count": null,
   "metadata": {},
   "outputs": [],
   "source": [
    "import trenchripper as tr"
   ]
  },
  {
   "cell_type": "markdown",
   "metadata": {},
   "source": [
    "#### Start Dask"
   ]
  },
  {
   "cell_type": "code",
   "execution_count": null,
   "metadata": {},
   "outputs": [],
   "source": [
    "kymo_controller = tr.cluster.dask_controller(\n",
    "    walltime=\"04:00:00\", local=False, n_workers=40, memory=\"2GB\"\n",
    ")\n",
    "kymo_controller.startdask()\n",
    "kymo_controller.daskcluster.start_workers()"
   ]
  },
  {
   "cell_type": "code",
   "execution_count": null,
   "metadata": {},
   "outputs": [],
   "source": [
    "kymo_controller.daskclient"
   ]
  },
  {
   "cell_type": "markdown",
   "metadata": {},
   "source": [
    "#### Perform Extraction"
   ]
  },
  {
   "cell_type": "code",
   "execution_count": null,
   "metadata": {},
   "outputs": [],
   "source": [
    "hdf5_extractor = tr.ndextract.hdf5_fov_extractor(\n",
    "    \"/n/scratch2/de64/for_sylvia/Bacillus_revival_12_7_2020.nd2\",\n",
    "    \"/n/scratch2/de64/full_pipeline_test/hdf5\",\n",
    ")"
   ]
  },
  {
   "cell_type": "code",
   "execution_count": null,
   "metadata": {},
   "outputs": [],
   "source": [
    "kymo_controller.mapfovs(hdf5_extractor.extract_fov, 40)"
   ]
  },
  {
   "cell_type": "code",
   "execution_count": null,
   "metadata": {},
   "outputs": [],
   "source": [
    "props = kymo_controller.daskclient.gather(\n",
    "    kymo_controller.futures\n",
    ")  # this will hang until all futures are done"
   ]
  },
  {
   "cell_type": "markdown",
   "metadata": {},
   "source": [
    "#### Generate Kymographs"
   ]
  },
  {
   "cell_type": "code",
   "execution_count": null,
   "metadata": {},
   "outputs": [],
   "source": [
    "input_file_prefix = (\n",
    "    \"/n/groups/paulsson/Daniel/Image_analysis_pipeline/tiff_extraction/test_out_4/fov_\"\n",
    ")\n",
    "output_path = \"/n/groups/paulsson/Daniel/Image_analysis_pipeline/kymographs_6\"\n",
    "all_channels = [\"channel_BF\", \"channel_RFP\"]\n",
    "\n",
    "kymo = tr.kymograph.kychunker(\n",
    "    input_file_prefix=input_file_prefix,\n",
    "    output_path=output_path,\n",
    "    all_channels=all_channels,\n",
    "    trench_len_y=270,\n",
    "    padding_y=20,\n",
    "    trench_width_x=30,\n",
    "    t_chunk=25,\n",
    "    y_percentile=85,\n",
    "    y_min_edge_dist=50,\n",
    "    smoothing_kernel_y=(9, 1),\n",
    "    triangle_nbins=50,\n",
    "    triangle_scaling=1.0,\n",
    "    top_orientation=0,\n",
    "    x_percentile=85,\n",
    "    background_kernel_x=(301, 1),\n",
    "    smoothing_kernel_x=(9, 1),\n",
    "    otsu_nbins=50,\n",
    "    otsu_scaling=1.0,\n",
    ")"
   ]
  },
  {
   "cell_type": "code",
   "execution_count": null,
   "metadata": {},
   "outputs": [],
   "source": [
    "kymo_controller.mapfovs(kymo.generate_kymograph, 30)"
   ]
  },
  {
   "cell_type": "code",
   "execution_count": null,
   "metadata": {},
   "outputs": [],
   "source": [
    "props = kymo_controller.daskclient.gather(\n",
    "    kymo_controller.futures\n",
    ")  # this will hang until all futures are done"
   ]
  },
  {
   "cell_type": "markdown",
   "metadata": {},
   "source": [
    "#### End Dask, Cancel Jobs"
   ]
  },
  {
   "cell_type": "code",
   "execution_count": null,
   "metadata": {},
   "outputs": [],
   "source": [
    "kymo_controller.shutdown()"
   ]
  },
  {
   "cell_type": "code",
   "execution_count": null,
   "metadata": {},
   "outputs": [],
   "source": []
  }
 ],
 "metadata": {
  "kernelspec": {
   "display_name": "Python 3",
   "language": "python",
   "name": "python3"
  },
  "language_info": {
   "codemirror_mode": {
    "name": "ipython",
    "version": 3
   },
   "file_extension": ".py",
   "mimetype": "text/x-python",
   "name": "python",
   "nbconvert_exporter": "python",
   "pygments_lexer": "ipython3",
   "version": "3.7.1"
  }
 },
 "nbformat": 4,
 "nbformat_minor": 2
}
