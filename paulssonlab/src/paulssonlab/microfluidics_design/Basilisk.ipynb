{
 "cells": [
  {
   "cell_type": "code",
   "execution_count": null,
   "metadata": {
    "tags": []
   },
   "outputs": [],
   "source": [
    "import numpy as np\n",
    "import pandas as pd\n",
    "import gdstk\n",
    "import matplotlib.pyplot as plt\n",
    "from cytoolz import unique\n",
    "\n",
    "%matplotlib inline\n",
    "from functools import partial"
   ]
  },
  {
   "cell_type": "code",
   "execution_count": null,
   "metadata": {
    "tags": []
   },
   "outputs": [],
   "source": [
    "%load_ext autoreload\n",
    "%autoreload 2"
   ]
  },
  {
   "cell_type": "code",
   "execution_count": null,
   "metadata": {
    "tags": []
   },
   "outputs": [],
   "source": [
    "import paulssonlab.microfluidics_design as microfluidics_design\n",
    "import paulssonlab.microfluidics_design.fluid as fluid\n",
    "import paulssonlab.microfluidics_design.fov as fov"
   ]
  },
  {
   "cell_type": "code",
   "execution_count": null,
   "metadata": {
    "tags": []
   },
   "outputs": [],
   "source": [
    "import pint\n",
    "\n",
    "u = pint._DEFAULT_REGISTRY\n",
    "\n",
    "mu = 0.7 * u.cP  # dynamic viscosity\n",
    "nu = mu / (1 * u.g / u.cm**3)  # kinematic viscosity"
   ]
  },
  {
   "cell_type": "code",
   "execution_count": null,
   "metadata": {
    "tags": []
   },
   "outputs": [],
   "source": [
    "camera_dims = {\n",
    "    \"iris15\": (4.25, np.array([5056, 2960])),\n",
    "    \"iris9\": (4.25, np.array([2960, 2960])),\n",
    "    \"bsi\": (6.5, np.array([2048, 2048])),\n",
    "}\n",
    "mags = (20, 40)\n",
    "fov_dims = {}\n",
    "for camera, (pixel_size, fov_dim) in camera_dims.items():\n",
    "    for mag in mags:\n",
    "        fov_dims[f\"{camera} {mag}x\"] = fov_dim * pixel_size / mag"
   ]
  },
  {
   "cell_type": "code",
   "execution_count": null,
   "metadata": {
    "tags": []
   },
   "outputs": [],
   "source": [
    "def print_flow_info(height, flow_rate, mu, nu, metadata):\n",
    "    for name, md in metadata.items():\n",
    "        R_, extra = fluid.snake_resistance(\n",
    "            height, md, length_unit=u.um, return_extra=True\n",
    "        )\n",
    "        R = R_ * mu\n",
    "        # print('R', R.to(u.mbar * u.min / u.uL))\n",
    "        delta_P = R * flow_rate\n",
    "        print(f\"{name}: {delta_P.to(u.bar)}\")\n",
    "        print(\n",
    "            f\"    flow rate: {flow_rate} ({flow_rate.to(u.milliliters/u.hour)}, {flow_rate.to(u.milliliters/u.day)})\"\n",
    "        )\n",
    "        if \"flow_nonuniformity\" in extra:\n",
    "            print(f\"    flow nonuniformity: {extra['flow_nonuniformity']}\")\n",
    "        if \"manifold_width\" in md:\n",
    "            L_e = fluid.entrance_length(\n",
    "                height,\n",
    "                md[\"manifold_width\"] * u.um,\n",
    "                flow_rate,\n",
    "                nu,\n",
    "            )\n",
    "            print(f\"    entrance length: {L_e}\")"
   ]
  },
  {
   "cell_type": "markdown",
   "metadata": {},
   "source": [
    "# Designs"
   ]
  },
  {
   "cell_type": "code",
   "execution_count": null,
   "metadata": {
    "tags": []
   },
   "outputs": [],
   "source": [
    "coverslip_dims = np.array([55e3, 24e3])\n",
    "# chip_dims = np.array([33e3, 18e3])\n",
    "chip_dims0 = np.array([33e3, 18e3])\n",
    "# chip_dims0 = np.array([23e3, 13e3])\n",
    "# chip_dims = np.array([38e3, 19e3])\n",
    "chip_dims = np.array([35e3, 19e3])"
   ]
  },
  {
   "cell_type": "code",
   "execution_count": null,
   "metadata": {
    "tags": []
   },
   "outputs": [],
   "source": [
    "plt.figure(figsize=(10, 5))\n",
    "ax = plt.gca()\n",
    "ax.add_patch(\n",
    "    plt.Rectangle(-coverslip_dims / 2, *coverslip_dims, fill=False, color=\"red\", lw=2)\n",
    ")\n",
    "ax.add_patch(plt.Rectangle(-chip_dims0 / 2, *chip_dims0, fill=False, ls=\"-.\"))\n",
    "# ax.add_patch(plt.Rectangle(-chip_dims1 / 2, *chip_dims1, fill=False, ls=\"--\"))\n",
    "ax.add_patch(plt.Rectangle(-chip_dims / 2, *chip_dims, fill=False, lw=2))\n",
    "ax.set_xlim(-1.2 * coverslip_dims[0] / 2, 1.2 * coverslip_dims[0] / 2)\n",
    "ax.set_ylim(-1.2 * coverslip_dims[1] / 2, 1.2 * coverslip_dims[1] / 2)\n",
    "ax.set_aspect(\"equal\")"
   ]
  },
  {
   "cell_type": "code",
   "execution_count": null,
   "metadata": {
    "tags": []
   },
   "outputs": [],
   "source": [
    "%%time\n",
    "metadata = {}\n",
    "base_params = dict(\n",
    "    design_func=microfluidics_design.snake,\n",
    "    dims=chip_dims,\n",
    "    trench_length=35,\n",
    "    feeding_channel_width=40,\n",
    "    trench_gap=20,\n",
    "    # trench_width=1.4,\n",
    "    trench_spacing=2.1,\n",
    "    trench_margin=0,\n",
    "    border_margin=0.5e3,\n",
    "    port_margin=1e3,\n",
    "    port_radius=750 / 2,\n",
    "    # port_radius=0,\n",
    "    port=False,\n",
    "    registration_marks=\"qr\",\n",
    "    registration_mark_barcodes=False,\n",
    "    trenches=True,\n",
    "    metadata=metadata,\n",
    ")\n",
    "manifold_params = {\n",
    "    **base_params,\n",
    "    **dict(\n",
    "        design_func=microfluidics_design.manifold_snake,\n",
    "        lanes_per_snake=3,\n",
    "        manifold_input_style=\"bend-out\",\n",
    "        manifold_split=4,\n",
    "        manifold_width=50,\n",
    "        manifold_input_margin=775,  # 2e3,\n",
    "        manifold_bend_margin=True,  # 0.2e3,\n",
    "        manifold_bend_radius=0.1e3,\n",
    "        manifold_margin=100,\n",
    "    ),\n",
    "}\n",
    "\n",
    "wafer_id = 1\n",
    "split_manifold_chip = dict(trench_width=1.4)\n",
    "split_poor_manifold_chip = dict(\n",
    "    manifold_trench_params=[\n",
    "        dict(trench_width=1.3),\n",
    "        dict(trench_width=1.3),\n",
    "        dict(trench_width=1.5),\n",
    "        dict(trench_width=1.5),\n",
    "    ]\n",
    ")\n",
    "\n",
    "params = [split_manifold_chip, split_manifold_chip, split_poor_manifold_chip]\n",
    "params = [\n",
    "    {\n",
    "        **manifold_params,\n",
    "        **p,\n",
    "        \"ur_corner_label\": f\"{wafer_id}.{chip_id}\",\n",
    "    }\n",
    "    for chip_id, p in enumerate(params, 1)\n",
    "]\n",
    "# chip names\n",
    "chip_names = [\n",
    "    \"Basilisk {ports} FC{feeding_channel_width} L{trench_length} W{trench_width_} TS{trench_spacing}{reg} TG{trench_gap}\".format(\n",
    "        ports=f\"S{p['split']}\"\n",
    "        if \"split\" in p and np.isscalar(p[\"split\"])\n",
    "        else \"S{} LS{}\".format(p[\"manifold_split\"], p[\"lanes_per_snake\"]),\n",
    "        reg=f\" M{p.get('mark_size')} ID{p.get('chip_id')}\"\n",
    "        if p.get(\"registration_mark_barcodes\")\n",
    "        else \"\",\n",
    "        trench_width_=p[\"trench_width\"]\n",
    "        if \"trench_width\" in p\n",
    "        else \"/\".join(\n",
    "            unique([str(d[\"trench_width\"]) for d in p[\"manifold_trench_params\"]])\n",
    "        ),\n",
    "        **p,\n",
    "    )\n",
    "    for p in params\n",
    "]\n",
    "# make chip cells\n",
    "chips = [microfluidics_design.chip(name, **p) for p, name in zip(params, chip_names)]\n",
    "# calculate FOV info and overlay FOVs on chip cells\n",
    "grid_metadata = {}\n",
    "draw_grid = True\n",
    "for chip_name, chip in zip(chip_names, chips):\n",
    "    chip_grid_metadata = fov.get_grid_metadata(\n",
    "        fov_dims, metadata[chip_name], skip_first=True\n",
    "    )\n",
    "    grid_metadata[chip_name] = chip_grid_metadata\n",
    "    if draw_grid:\n",
    "        fov.draw_grid_overlay(\n",
    "            chip,\n",
    "            metadata[chip_name],\n",
    "            fov_dims,\n",
    "            chip_grid_metadata,\n",
    "            center_margins=False,\n",
    "            rotate=False,\n",
    "        )\n",
    "grid_df = pd.concat(\n",
    "    {\n",
    "        k: pd.DataFrame(v.values()).set_index(\"fov_name\")\n",
    "        for k, v in grid_metadata.items()\n",
    "    },\n",
    "    names=[\"chip\"],\n",
    ")\n",
    "# lay out wafer, output design\n",
    "wafer_manifest = \"\\n\".join([f\"{idx+1}) \" + name for idx, name in enumerate(chip_names)])\n",
    "wafer_diameter = 3 * u.inch\n",
    "alignment_mark_position = wafer_diameter / 2 - 0.2 * u.inch\n",
    "main_cell = microfluidics_design.wafer(\n",
    "    chips,\n",
    "    label_right=\"Basilisk\\n JQS/DE/YG 230328\",\n",
    "    label_left=wafer_manifest,\n",
    "    label=True,\n",
    "    mask=False,\n",
    "    chip_dims=chip_dims,\n",
    "    diameter=wafer_diameter.to(u.um).magnitude,\n",
    "    alignment_mark_position=alignment_mark_position.to(u.um).magnitude,\n",
    ")\n",
    "MAX_POINTS = 2000  # LayoutEditor uses 8191, gdstk default is 199\n",
    "microfluidics_design.write_gds(main_cell, \"designs/230328basilisk.gds\", max_points=MAX_POINTS)"
   ]
  },
  {
   "cell_type": "code",
   "execution_count": null,
   "metadata": {
    "tags": []
   },
   "outputs": [],
   "source": [
    "print(wafer_manifest)"
   ]
  },
  {
   "cell_type": "code",
   "execution_count": null,
   "metadata": {
    "tags": []
   },
   "outputs": [],
   "source": [
    "{k: v[\"trenches_per_input\"] for k, v in metadata.items()}"
   ]
  },
  {
   "cell_type": "code",
   "execution_count": null,
   "metadata": {
    "tags": []
   },
   "outputs": [],
   "source": [
    "{k: v[\"num_trenches\"] for k, v in metadata.items()}"
   ]
  },
  {
   "cell_type": "code",
   "execution_count": null,
   "metadata": {
    "tags": []
   },
   "outputs": [],
   "source": [
    "{k: v[\"lanes_per_input\"] for k, v in metadata.items()}"
   ]
  },
  {
   "cell_type": "code",
   "execution_count": null,
   "metadata": {
    "tags": []
   },
   "outputs": [],
   "source": [
    "{k: v[\"num_lanes\"] for k, v in metadata.items()}"
   ]
  },
  {
   "cell_type": "code",
   "execution_count": null,
   "metadata": {
    "tags": []
   },
   "outputs": [],
   "source": [
    "# Q = 300 * u.uL / u.min\n",
    "Q = 75 * u.uL / u.min\n",
    "height = 70 * u.um\n",
    "print_flow_info(height, Q, mu, nu, metadata)"
   ]
  },
  {
   "cell_type": "code",
   "execution_count": null,
   "metadata": {
    "tags": []
   },
   "outputs": [],
   "source": [
    "grid_df.loc[pd.IndexSlice[:, [\"iris15 20x\", \"iris9 20x\", \"bsi 40x\"]], :].round(2)"
   ]
  },
  {
   "cell_type": "markdown",
   "metadata": {},
   "source": [
    "# Fluids"
   ]
  },
  {
   "cell_type": "code",
   "execution_count": null,
   "metadata": {},
   "outputs": [],
   "source": []
  },
  {
   "cell_type": "markdown",
   "metadata": {},
   "source": [
    "# FOVs"
   ]
  },
  {
   "cell_type": "code",
   "execution_count": null,
   "metadata": {},
   "outputs": [],
   "source": [
    "# skip_first -> offset_active_regions = 0, -1, +1 (in draw_fov_grid)\n",
    "# give offset sequence for each graph cycle and each offset_active_regions"
   ]
  },
  {
   "cell_type": "code",
   "execution_count": null,
   "metadata": {
    "tags": []
   },
   "outputs": [],
   "source": [
    "# active, inactive, active, inactive...\n",
    "trench_length = 35\n",
    "feeding_channel_width = 40\n",
    "trench_gap = 20\n",
    "region_lengths = [trench_length, feeding_channel_width, trench_length, trench_gap]\n",
    "num_regions = len(region_lengths)\n",
    "fov = fov_dims[\"iris15 20x\"][1]"
   ]
  },
  {
   "cell_type": "code",
   "execution_count": null,
   "metadata": {
    "tags": []
   },
   "outputs": [],
   "source": [
    "def next_transition(x0, region_lengths):\n",
    "    num_regions = len(region_lengths)\n",
    "    total_length = sum(region_lengths)\n",
    "    x0_wraparound, x0 = divmod(x0, total_length)\n",
    "    x = 0\n",
    "    region = 0\n",
    "    while True:\n",
    "        x += region_lengths[region]\n",
    "        if x > x0:\n",
    "            return x + x0_wraparound * total_length, region\n",
    "        region = (region + 1) % num_regions"
   ]
  },
  {
   "cell_type": "code",
   "execution_count": null,
   "metadata": {
    "tags": []
   },
   "outputs": [],
   "source": [
    "2960 * 4.25 / 20"
   ]
  },
  {
   "cell_type": "code",
   "execution_count": null,
   "metadata": {
    "tags": []
   },
   "outputs": [],
   "source": [
    "next_transition(35, region_lengths)"
   ]
  },
  {
   "cell_type": "code",
   "execution_count": null,
   "metadata": {
    "tags": []
   },
   "outputs": [],
   "source": [
    "def fov_positions(fov_height, region_lengths):\n",
    "    total_length = sum(region_lengths)\n",
    "    configs = []\n",
    "    x = 0\n",
    "    while x < total_length:\n",
    "        new_top, top_idx = next_transition(x, region_lengths)\n",
    "        new_bottom, bottom_idx = next_transition(x + fov_height, region_lengths)\n",
    "        top_margin = new_top - x\n",
    "        bottom_margin = new_bottom - (x + fov_height)\n",
    "        if top_idx % 2 == 1 and bottom_idx % 2 == 1:\n",
    "            configs.append(\n",
    "                {\n",
    "                    \"top\": x,\n",
    "                    \"bottom\": x + fov_height,\n",
    "                    \"top_margin\": top_margin,\n",
    "                    \"bottom_margin\": bottom_margin,\n",
    "                }\n",
    "            )\n",
    "        if top_margin < bottom_margin:\n",
    "            x = new_top\n",
    "        else:\n",
    "            x = new_bottom - fov_height\n",
    "    return configs"
   ]
  },
  {
   "cell_type": "code",
   "execution_count": null,
   "metadata": {
    "tags": []
   },
   "outputs": [],
   "source": [
    "(370 + 20) % total_length"
   ]
  },
  {
   "cell_type": "code",
   "execution_count": null,
   "metadata": {
    "tags": []
   },
   "outputs": [],
   "source": [
    "fov"
   ]
  },
  {
   "cell_type": "code",
   "execution_count": null,
   "metadata": {
    "tags": []
   },
   "outputs": [],
   "source": [
    "repeats = int((2 * fov) // total_length)\n",
    "plt.figure(figsize=(12, 2))\n",
    "plt.step(\n",
    "    np.concatenate(((0, 0), np.cumsum(region_lengths * repeats))),\n",
    "    np.concatenate(((0, 1), np.arange(len(region_lengths) * repeats) % 2 == 0)),\n",
    "    where=\"pre\",\n",
    ")\n",
    "y = 56\n",
    "plt.plot([0, y, y, y + fov, y + fov], [0, 0, 0.5, 0.5, 0])"
   ]
  },
  {
   "cell_type": "code",
   "execution_count": null,
   "metadata": {},
   "outputs": [],
   "source": [
    "for start_region in range(num_regions, 2):\n",
    "    region = start_region\n",
    "    position = 0\n",
    "    while True:\n",
    "        if position + region_lengths[region] <= fov:\n",
    "            position += region_lengths[region]\n",
    "            region = (region + 1) % num_regions\n",
    "        else:\n",
    "            fovs.append(dict(margin=))"
   ]
  },
  {
   "cell_type": "code",
   "execution_count": null,
   "metadata": {},
   "outputs": [],
   "source": [
    "# start in every inactive region (even region)"
   ]
  },
  {
   "cell_type": "code",
   "execution_count": null,
   "metadata": {},
   "outputs": [],
   "source": [
    "{\"margin\": 30, \"start_region\": 0, \"end_region\": 0}"
   ]
  }
 ],
 "metadata": {
  "kernelspec": {
   "display_name": "Python 3 (ipykernel)",
   "language": "python",
   "name": "python3"
  },
  "language_info": {
   "codemirror_mode": {
    "name": "ipython",
    "version": 3
   },
   "file_extension": ".py",
   "mimetype": "text/x-python",
   "name": "python",
   "nbconvert_exporter": "python",
   "pygments_lexer": "ipython3",
   "version": "3.11.0"
  }
 },
 "nbformat": 4,
 "nbformat_minor": 4
}
