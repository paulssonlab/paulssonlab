{
 "cells": [
  {
   "cell_type": "code",
   "execution_count": null,
   "id": "0",
   "metadata": {
    "tags": []
   },
   "outputs": [],
   "source": [
    "import gdstk\n",
    "import matplotlib.pyplot as plt\n",
    "import numpy as np\n",
    "import pandas as pd\n",
    "from cytoolz import unique\n",
    "\n",
    "%matplotlib inline\n",
    "from functools import partial"
   ]
  },
  {
   "cell_type": "code",
   "execution_count": null,
   "id": "1",
   "metadata": {
    "tags": []
   },
   "outputs": [],
   "source": [
    "%load_ext autoreload\n",
    "%autoreload 2"
   ]
  },
  {
   "cell_type": "code",
   "execution_count": null,
   "id": "2",
   "metadata": {
    "tags": []
   },
   "outputs": [],
   "source": [
    "import paulssonlab.microfluidics_design as microfluidics_design\n",
    "import paulssonlab.microfluidics_design.fluid as fluid\n",
    "import paulssonlab.microfluidics_design.fov as fov"
   ]
  },
  {
   "cell_type": "code",
   "execution_count": null,
   "id": "3",
   "metadata": {
    "tags": []
   },
   "outputs": [],
   "source": [
    "import pint\n",
    "\n",
    "u = pint._DEFAULT_REGISTRY\n",
    "\n",
    "mu = 0.7 * u.cP  # dynamic viscosity\n",
    "nu = mu / (1 * u.g / u.cm**3)  # kinematic viscosity"
   ]
  },
  {
   "cell_type": "code",
   "execution_count": null,
   "id": "4",
   "metadata": {
    "tags": []
   },
   "outputs": [],
   "source": [
    "camera_dims = {\n",
    "    \"iris15\": (4.25, np.array([5056, 2960])),\n",
    "    \"iris9\": (4.25, np.array([2960, 2960])),\n",
    "    \"bsi\": (6.5, np.array([2048, 2048])),\n",
    "}\n",
    "mags = (20, 40)\n",
    "fov_dims = {}\n",
    "for camera, (pixel_size, fov_dim) in camera_dims.items():\n",
    "    for mag in mags:\n",
    "        fov_dims[f\"{camera} {mag}x\"] = fov_dim * pixel_size / mag\n",
    "fov_dims[\"isim 60x\"] = np.array([3200, 3200]) * 56 / 1000"
   ]
  },
  {
   "cell_type": "code",
   "execution_count": null,
   "id": "5",
   "metadata": {
    "tags": []
   },
   "outputs": [],
   "source": [
    "fov_dims"
   ]
  },
  {
   "cell_type": "code",
   "execution_count": null,
   "id": "6",
   "metadata": {
    "tags": []
   },
   "outputs": [],
   "source": [
    "def print_flow_info(height, flow_rate, mu, nu, metadata):\n",
    "    for chip_name, md in metadata.items():\n",
    "        flow_info = fluid.snake_flow(\n",
    "            height,\n",
    "            md,\n",
    "            length_unit=u.um,\n",
    "        )\n",
    "        print(f\"{chip_name}:\")\n",
    "        for input_name, input_flow in flow_info.items():\n",
    "            R = input_flow[\"R\"] * mu\n",
    "            delta_P = R * flow_rate\n",
    "            print(f\"    {input_name}: {delta_P.to(u.bar):.2f}\")\n",
    "            print(\n",
    "                f\"        flow rate: {flow_rate:.0f~#P} ({flow_rate.to(u.milliliters/u.hour):.1f~#P}, {flow_rate.to(u.milliliters/u.day):.0f~#P})\"\n",
    "            )\n",
    "            if \"flow_nonuniformity\" in input_flow:\n",
    "                print(\n",
    "                    f\"        flow nonuniformity: {input_flow['flow_nonuniformity']:.2f}\"\n",
    "                )\n",
    "            if \"manifold_width\" in md:\n",
    "                L_e = fluid.entrance_length(\n",
    "                    height,\n",
    "                    md[\"manifold_width\"] * u.um,\n",
    "                    flow_rate,\n",
    "                    nu,\n",
    "                )\n",
    "                print(f\"        entrance length: {L_e}\")"
   ]
  },
  {
   "cell_type": "markdown",
   "id": "7",
   "metadata": {},
   "source": [
    "# Designs"
   ]
  },
  {
   "cell_type": "code",
   "execution_count": null,
   "id": "8",
   "metadata": {
    "tags": []
   },
   "outputs": [],
   "source": [
    "coverslip_dims = np.array([55e3, 24e3])\n",
    "# chip_dims = np.array([33e3, 18e3])\n",
    "chip_dims0 = np.array([33e3, 18e3])\n",
    "# chip_dims0 = np.array([23e3, 13e3])\n",
    "# chip_dims = np.array([38e3, 19e3])\n",
    "chip_dims = np.array([40e3, 19e3])\n",
    "# chip_dims = np.array([33e3, 18e3])"
   ]
  },
  {
   "cell_type": "code",
   "execution_count": null,
   "id": "9",
   "metadata": {
    "tags": []
   },
   "outputs": [],
   "source": [
    "plt.figure(figsize=(10, 5))\n",
    "ax = plt.gca()\n",
    "ax.add_patch(\n",
    "    plt.Rectangle(-coverslip_dims / 2, *coverslip_dims, fill=False, color=\"red\", lw=2)\n",
    ")\n",
    "ax.add_patch(plt.Rectangle(-chip_dims0 / 2, *chip_dims0, fill=False, ls=\"-.\"))\n",
    "# ax.add_patch(plt.Rectangle(-chip_dims1 / 2, *chip_dims1, fill=False, ls=\"--\"))\n",
    "ax.add_patch(plt.Rectangle(-chip_dims / 2, *chip_dims, fill=False, lw=2))\n",
    "ax.set_xlim(-1.2 * coverslip_dims[0] / 2, 1.2 * coverslip_dims[0] / 2)\n",
    "ax.set_ylim(-1.2 * coverslip_dims[1] / 2, 1.2 * coverslip_dims[1] / 2)\n",
    "ax.set_aspect(\"equal\")"
   ]
  },
  {
   "cell_type": "code",
   "execution_count": null,
   "id": "10",
   "metadata": {
    "tags": []
   },
   "outputs": [],
   "source": [
    "%%time\n",
    "metadata = {}\n",
    "base_params = dict(\n",
    "    design_func=microfluidics_design.snake,\n",
    "    dims=chip_dims,\n",
    "    trench_length=35,\n",
    "    feeding_channel_width=40,  # 35,\n",
    "    trench_gap=20,  # 15,\n",
    "    # trench_width=1.4,\n",
    "    trench_spacing=2.1,\n",
    "    trench_margin=0,\n",
    "    border_margin=0.5e3,\n",
    "    port_margin=1e3,\n",
    "    port_radius=750 / 2,\n",
    "    # port_radius=0,\n",
    "    port=False,\n",
    "    registration_marks=\"qr\",\n",
    "    registration_mark_barcodes=False,\n",
    "    trenches=True,\n",
    "    metadata=metadata,\n",
    ")\n",
    "manifold_params = {\n",
    "    **base_params,\n",
    "    **dict(\n",
    "        design_func=microfluidics_design.manifold_snake,\n",
    "        lanes_per_snake=3,\n",
    "        manifold_input_style=\"bend-out\",\n",
    "        manifold_split=4,\n",
    "        manifold_width=50,\n",
    "        manifold_input_margin=775,  # 2e3,\n",
    "        manifold_bend_margin=True,  # 0.2e3,\n",
    "        manifold_bend_radius=0.1e3,\n",
    "        manifold_margin=100,\n",
    "    ),\n",
    "}\n",
    "\n",
    "wafer_id = 1\n",
    "split_manifold_chip = dict(trench_width=1.4)\n",
    "split_poor_manifold_chip = dict(\n",
    "    manifold_trench_params=[\n",
    "        dict(trench_width=1.3),\n",
    "        dict(trench_width=1.3),\n",
    "        dict(trench_width=1.5),\n",
    "        dict(trench_width=1.5),\n",
    "    ]\n",
    ")\n",
    "\n",
    "params = [split_manifold_chip, split_manifold_chip, split_poor_manifold_chip]\n",
    "params = [\n",
    "    {\n",
    "        **manifold_params,\n",
    "        **p,\n",
    "        \"ur_corner_label\": f\"{wafer_id}.{chip_id}\",\n",
    "    }\n",
    "    for chip_id, p in enumerate(params, 1)\n",
    "]\n",
    "# chip names\n",
    "chip_names = [\n",
    "    \"Basilisk {ports} FC{feeding_channel_width} L{trench_length} W{trench_width_} TS{trench_spacing}{reg} TG{trench_gap}\".format(\n",
    "        ports=f\"S{p['split']}\"\n",
    "        if \"split\" in p and np.isscalar(p[\"split\"])\n",
    "        else \"S{} LS{}\".format(p[\"manifold_split\"], p[\"lanes_per_snake\"]),\n",
    "        reg=f\" M{p.get('mark_size')} ID{p.get('chip_id')}\"\n",
    "        if p.get(\"registration_mark_barcodes\")\n",
    "        else \"\",\n",
    "        trench_width_=p[\"trench_width\"]\n",
    "        if \"trench_width\" in p\n",
    "        else \"/\".join(\n",
    "            unique([str(d[\"trench_width\"]) for d in p[\"manifold_trench_params\"]])\n",
    "        ),\n",
    "        **p,\n",
    "    )\n",
    "    for p in params\n",
    "]\n",
    "# make chip cells\n",
    "chips = [microfluidics_design.chip(name, **p) for p, name in zip(params, chip_names)]\n",
    "# calculate FOV info and overlay FOVs on chip cells\n",
    "fov_grids_df = {}\n",
    "draw_fov_grids = False\n",
    "center_margins = True\n",
    "rotate = False\n",
    "top_shift = -1\n",
    "for chip_name, chip in zip(chip_names, chips):\n",
    "    chip_fov_grids_df = fov.get_fov_grids_df(\n",
    "        fov_dims,\n",
    "        metadata[chip_name],\n",
    "        center_margins=center_margins,\n",
    "        top_shift=top_shift,\n",
    "    )\n",
    "    fov_grids_df[chip_name] = chip_fov_grids_df\n",
    "    if draw_fov_grids:\n",
    "        # fov_grids_to_draw = chip_fov_grids_df.xs(pd.IndexSlice[\"iris15 20x\",:,:],drop_level=False)\n",
    "        fov_grids_to_draw = chip_fov_grids_df\n",
    "        fov.draw_fov_grids(\n",
    "            chip,\n",
    "            metadata[chip_name],\n",
    "            fov_grids_to_draw,\n",
    "            center_margins=center_margins,\n",
    "            rotate=rotate,\n",
    "        )\n",
    "fov_grids_df = pd.concat(\n",
    "    fov_grids_df,\n",
    "    names=[\"chip\"],\n",
    ")\n",
    "# lay out wafer, output design\n",
    "wafer_manifest = \"\\n\".join(\n",
    "    [f\"{wafer_id}.{chip_id}) \" + name for chip_id, name in enumerate(chip_names, 1)]\n",
    ")\n",
    "wafer_diameter = 3 * u.inch\n",
    "alignment_mark_position = wafer_diameter / 2 - 0.2 * u.inch\n",
    "main_cell = microfluidics_design.wafer(\n",
    "    chips,\n",
    "    label_right=\"Basilisk\\n JQS/DE/YG 230412\",\n",
    "    label_left=wafer_manifest,\n",
    "    label=True,\n",
    "    mask=False,\n",
    "    chip_dims=chip_dims,\n",
    "    diameter=wafer_diameter.to(u.um).magnitude,\n",
    "    alignment_mark_position=alignment_mark_position.to(u.um).magnitude,\n",
    ")\n",
    "MAX_POINTS = 2000  # LayoutEditor uses 8191, gdstk default is 199\n",
    "microfluidics_design.write_gds(\n",
    "    main_cell, \"designs/230412basilisk_s4.gds\", max_points=MAX_POINTS\n",
    ")"
   ]
  },
  {
   "cell_type": "code",
   "execution_count": null,
   "id": "11",
   "metadata": {
    "tags": []
   },
   "outputs": [],
   "source": [
    "print(wafer_manifest)"
   ]
  },
  {
   "cell_type": "code",
   "execution_count": null,
   "id": "12",
   "metadata": {
    "tags": []
   },
   "outputs": [],
   "source": [
    "{k: [x[\"num_trenches\"] for x in v[\"trench_info\"].values()] for k, v in metadata.items()}"
   ]
  },
  {
   "cell_type": "code",
   "execution_count": null,
   "id": "13",
   "metadata": {
    "tags": []
   },
   "outputs": [],
   "source": [
    "{k: v[\"num_trenches\"] for k, v in metadata.items()}"
   ]
  },
  {
   "cell_type": "code",
   "execution_count": null,
   "id": "14",
   "metadata": {
    "tags": []
   },
   "outputs": [],
   "source": [
    "{k: [x[\"num_lanes\"] for x in v[\"input_info\"].values()] for k, v in metadata.items()}"
   ]
  },
  {
   "cell_type": "code",
   "execution_count": null,
   "id": "15",
   "metadata": {
    "tags": []
   },
   "outputs": [],
   "source": [
    "{k: v[\"num_lanes\"] for k, v in metadata.items()}"
   ]
  },
  {
   "cell_type": "code",
   "execution_count": null,
   "id": "16",
   "metadata": {
    "tags": []
   },
   "outputs": [],
   "source": [
    "# Q = 300 * u.uL / u.min\n",
    "Q = 75 * u.uL / u.min\n",
    "height = 70 * u.um\n",
    "print_flow_info(height, Q, mu, nu, metadata)"
   ]
  },
  {
   "cell_type": "code",
   "execution_count": null,
   "id": "17",
   "metadata": {
    "tags": []
   },
   "outputs": [],
   "source": [
    "fov_grids_df.loc[\n",
    "    pd.IndexSlice[\n",
    "        \"Basilisk S4 LS3 FC40 L35 W1.4 TS2.1 TG20\",\n",
    "        [\"iris15 20x\", \"iris9 20x\", \"isim 60x\"],\n",
    "        0,\n",
    "        :,\n",
    "    ],\n",
    "    :,\n",
    "].round(2)"
   ]
  },
  {
   "cell_type": "markdown",
   "id": "18",
   "metadata": {},
   "source": [
    "# Fluids"
   ]
  }
 ],
 "metadata": {
  "kernelspec": {
   "display_name": "Python 3 (ipykernel)",
   "language": "python",
   "name": "python3"
  },
  "language_info": {
   "codemirror_mode": {
    "name": "ipython",
    "version": 3
   },
   "file_extension": ".py",
   "mimetype": "text/x-python",
   "name": "python",
   "nbconvert_exporter": "python",
   "pygments_lexer": "ipython3",
   "version": "3.11.0"
  }
 },
 "nbformat": 4,
 "nbformat_minor": 4
}
