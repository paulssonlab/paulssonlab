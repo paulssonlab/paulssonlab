{
 "cells": [
  {
   "cell_type": "code",
   "execution_count": null,
   "metadata": {
    "tags": []
   },
   "outputs": [],
   "source": [
    "import numpy as np\n",
    "import pandas as pd\n",
    "import gdstk\n",
    "import matplotlib.pyplot as plt\n",
    "from cytoolz import unique\n",
    "\n",
    "%matplotlib inline\n",
    "from functools import partial"
   ]
  },
  {
   "cell_type": "code",
   "execution_count": null,
   "metadata": {
    "tags": []
   },
   "outputs": [],
   "source": [
    "%load_ext autoreload\n",
    "%autoreload 2"
   ]
  },
  {
   "cell_type": "code",
   "execution_count": null,
   "metadata": {
    "tags": []
   },
   "outputs": [],
   "source": [
    "import paulssonlab.microfluidics_design as microfluidics_design\n",
    "import paulssonlab.microfluidics_design.fluid as fluid\n",
    "import paulssonlab.microfluidics_design.fov as fov"
   ]
  },
  {
   "cell_type": "code",
   "execution_count": null,
   "metadata": {
    "tags": []
   },
   "outputs": [],
   "source": [
    "import pint\n",
    "\n",
    "u = pint._DEFAULT_REGISTRY\n",
    "\n",
    "mu = 0.7 * u.cP  # dynamic viscosity\n",
    "nu = mu / (1 * u.g / u.cm**3)  # kinematic viscosity"
   ]
  },
  {
   "cell_type": "code",
   "execution_count": null,
   "metadata": {
    "tags": []
   },
   "outputs": [],
   "source": [
    "camera_dims = {\n",
    "    \"iris15\": (4.25, np.array([5056, 2960])),\n",
    "    \"iris9\": (4.25, np.array([2960, 2960])),\n",
    "    \"bsi\": (6.5, np.array([2048, 2048])),\n",
    "}\n",
    "mags = (20, 40)\n",
    "fov_dims = {}\n",
    "for camera, (pixel_size, fov_dim) in camera_dims.items():\n",
    "    for mag in mags:\n",
    "        fov_dims[f\"{camera} {mag}x\"] = np.floor(fov_dim * pixel_size / mag).astype(np.int32)"
   ]
  },
  {
   "cell_type": "code",
   "execution_count": null,
   "metadata": {
    "tags": []
   },
   "outputs": [],
   "source": [
    "def print_flow_info(height, flow_rate, mu, nu, metadata):\n",
    "    for chip_name, md in metadata.items():\n",
    "        flow_info = fluid.snake_flow(\n",
    "            height,\n",
    "            md,\n",
    "            length_unit=u.um,\n",
    "        )\n",
    "        print(f\"{chip_name}:\")\n",
    "        for input_name, input_flow in flow_info.items():\n",
    "            R = input_flow[\"R\"] * mu\n",
    "            delta_P = R * flow_rate\n",
    "            print(f\"    {input_name}: {delta_P.to(u.bar):.2f}\")\n",
    "            print(\n",
    "                f\"        flow rate: {flow_rate:.0f~#P} ({flow_rate.to(u.milliliters/u.hour):.1f~#P}, {flow_rate.to(u.milliliters/u.day):.0f~#P})\"\n",
    "            )\n",
    "            if \"flow_nonuniformity\" in input_flow:\n",
    "                print(\n",
    "                    f\"        flow nonuniformity: {input_flow['flow_nonuniformity']:.2f}\"\n",
    "                )\n",
    "            if \"manifold_width\" in md:\n",
    "                L_e = fluid.entrance_length(\n",
    "                    height,\n",
    "                    md[\"manifold_width\"] * u.um,\n",
    "                    flow_rate,\n",
    "                    nu,\n",
    "                )\n",
    "                print(f\"        entrance length: {L_e}\")"
   ]
  },
  {
   "cell_type": "markdown",
   "metadata": {},
   "source": [
    "# Designs"
   ]
  },
  {
   "cell_type": "code",
   "execution_count": null,
   "metadata": {
    "tags": []
   },
   "outputs": [],
   "source": [
    "coverslip_dims = np.array([55e3, 24e3])\n",
    "# chip_dims = np.array([33e3, 18e3])\n",
    "chip_dims0 = np.array([33e3, 18e3])\n",
    "# chip_dims0 = np.array([23e3, 13e3])\n",
    "# chip_dims = np.array([38e3, 19e3])\n",
    "chip_dims = np.array([40e3, 19e3])"
   ]
  },
  {
   "cell_type": "code",
   "execution_count": null,
   "metadata": {
    "tags": []
   },
   "outputs": [],
   "source": [
    "plt.figure(figsize=(10, 5))\n",
    "ax = plt.gca()\n",
    "ax.add_patch(\n",
    "    plt.Rectangle(-coverslip_dims / 2, *coverslip_dims, fill=False, color=\"red\", lw=2)\n",
    ")\n",
    "ax.add_patch(plt.Rectangle(-chip_dims0 / 2, *chip_dims0, fill=False, ls=\"-.\"))\n",
    "# ax.add_patch(plt.Rectangle(-chip_dims1 / 2, *chip_dims1, fill=False, ls=\"--\"))\n",
    "ax.add_patch(plt.Rectangle(-chip_dims / 2, *chip_dims, fill=False, lw=2))\n",
    "ax.set_xlim(-1.2 * coverslip_dims[0] / 2, 1.2 * coverslip_dims[0] / 2)\n",
    "ax.set_ylim(-1.2 * coverslip_dims[1] / 2, 1.2 * coverslip_dims[1] / 2)\n",
    "ax.set_aspect(\"equal\")"
   ]
  },
  {
   "cell_type": "code",
   "execution_count": null,
   "metadata": {
    "tags": []
   },
   "outputs": [],
   "source": [
    "%%time\n",
    "metadata = {}\n",
    "base_params = dict(\n",
    "    design_func=microfluidics_design.snake,\n",
    "    dims=chip_dims,\n",
    "    trench_length=35,\n",
    "    feeding_channel_width=35,\n",
    "    trench_gap=15,\n",
    "    # trench_width=1.4,\n",
    "    trench_spacing=2.1,\n",
    "    trench_margin=0,\n",
    "    border_margin=0.5e3,\n",
    "    port_margin=1e3,\n",
    "    port_radius=750 / 2,\n",
    "    # port_radius=0,\n",
    "    port=False,\n",
    "    registration_marks=\"qr\",\n",
    "    registration_mark_barcodes=False,\n",
    "    trenches=True,\n",
    "    metadata=metadata,\n",
    ")\n",
    "manifold_params = {\n",
    "    **base_params,\n",
    "    **dict(\n",
    "        design_func=microfluidics_design.manifold_snake,\n",
    "        lanes_per_snake=3,\n",
    "        manifold_input_style=\"bend-out\",\n",
    "        manifold_split=4,\n",
    "        manifold_width=50,\n",
    "        manifold_input_margin=775,  # 2e3,\n",
    "        manifold_bend_margin=True,  # 0.2e3,\n",
    "        manifold_bend_radius=0.1e3,\n",
    "        manifold_margin=100,\n",
    "    ),\n",
    "}\n",
    "\n",
    "wafer_id = 1\n",
    "split_manifold_chip = dict(trench_width=1.4)\n",
    "split_poor_manifold_chip = dict(\n",
    "    manifold_trench_params=[\n",
    "        dict(trench_width=1.3),\n",
    "        dict(trench_width=1.3),\n",
    "        dict(trench_width=1.5),\n",
    "        dict(trench_width=1.5),\n",
    "    ]\n",
    ")\n",
    "\n",
    "params = [split_manifold_chip, split_manifold_chip, split_poor_manifold_chip]\n",
    "params = [\n",
    "    {\n",
    "        **manifold_params,\n",
    "        **p,\n",
    "        \"ur_corner_label\": f\"{wafer_id}.{chip_id}\",\n",
    "    }\n",
    "    for chip_id, p in enumerate(params, 1)\n",
    "]\n",
    "# chip names\n",
    "chip_names = [\n",
    "    \"Basilisk {ports} FC{feeding_channel_width} L{trench_length} W{trench_width_} TS{trench_spacing}{reg} TG{trench_gap}\".format(\n",
    "        ports=f\"S{p['split']}\"\n",
    "        if \"split\" in p and np.isscalar(p[\"split\"])\n",
    "        else \"S{} LS{}\".format(p[\"manifold_split\"], p[\"lanes_per_snake\"]),\n",
    "        reg=f\" M{p.get('mark_size')} ID{p.get('chip_id')}\"\n",
    "        if p.get(\"registration_mark_barcodes\")\n",
    "        else \"\",\n",
    "        trench_width_=p[\"trench_width\"]\n",
    "        if \"trench_width\" in p\n",
    "        else \"/\".join(\n",
    "            unique([str(d[\"trench_width\"]) for d in p[\"manifold_trench_params\"]])\n",
    "        ),\n",
    "        **p,\n",
    "    )\n",
    "    for p in params\n",
    "]\n",
    "# make chip cells\n",
    "chips = [microfluidics_design.chip(name, **p) for p, name in zip(params, chip_names)]\n",
    "# calculate FOV info and overlay FOVs on chip cells\n",
    "fov_grid_df = {}\n",
    "draw_fov_grid = True\n",
    "for chip_name, chip in zip(chip_names, chips):\n",
    "    chip_fov_grid_df = fov.get_fov_grids_df(\n",
    "        fov_dims, metadata[chip_name], center_margins=False, skip=None\n",
    "    )\n",
    "    fov_grid_df[chip_name] = chip_fov_grid_df\n",
    "    if draw_fov_grid:\n",
    "        fov_grid_to_draw = chip_fov_grid_df.xs(pd.IndexSlice[\"iris15 20x\",:,:],drop_level=False)\n",
    "        #fov_grid_to_draw = chip_fov_grid_df\n",
    "        fov.draw_fov_grid(\n",
    "            chip,\n",
    "            metadata[chip_name],\n",
    "            fov_grid_to_draw,\n",
    "            rotate=False,\n",
    "        )\n",
    "fov_grid_df = pd.concat(\n",
    "    fov_grid_df,\n",
    "    names=[\"chip\"],\n",
    ")\n",
    "# lay out wafer, output design\n",
    "wafer_manifest = \"\\n\".join([f\"{idx+1}) \" + name for idx, name in enumerate(chip_names)])\n",
    "wafer_diameter = 3 * u.inch\n",
    "alignment_mark_position = wafer_diameter / 2 - 0.2 * u.inch\n",
    "main_cell = microfluidics_design.wafer(\n",
    "    chips,\n",
    "    label_right=\"Basilisk\\n JQS/DE/YG 230402\",\n",
    "    label_left=wafer_manifest,\n",
    "    label=True,\n",
    "    mask=False,\n",
    "    chip_dims=chip_dims,\n",
    "    diameter=wafer_diameter.to(u.um).magnitude,\n",
    "    alignment_mark_position=alignment_mark_position.to(u.um).magnitude,\n",
    ")\n",
    "MAX_POINTS = 2000  # LayoutEditor uses 8191, gdstk default is 199\n",
    "microfluidics_design.write_gds(\n",
    "    main_cell, \"designs/230402basilisk_s4.gds\", max_points=MAX_POINTS\n",
    ")"
   ]
  },
  {
   "cell_type": "code",
   "execution_count": null,
   "metadata": {
    "tags": []
   },
   "outputs": [],
   "source": [
    "fov_grid_to_draw"
   ]
  },
  {
   "cell_type": "code",
   "execution_count": null,
   "metadata": {
    "tags": []
   },
   "outputs": [],
   "source": [
    "chip_fov_grid_df"
   ]
  },
  {
   "cell_type": "code",
   "execution_count": null,
   "metadata": {
    "tags": []
   },
   "outputs": [],
   "source": [
    "print(wafer_manifest)"
   ]
  },
  {
   "cell_type": "code",
   "execution_count": null,
   "metadata": {
    "tags": []
   },
   "outputs": [],
   "source": [
    "{k: [x[\"num_trenches\"] for x in v[\"trench_info\"].values()] for k, v in metadata.items()}"
   ]
  },
  {
   "cell_type": "code",
   "execution_count": null,
   "metadata": {
    "tags": []
   },
   "outputs": [],
   "source": [
    "{k: v[\"num_trenches\"] for k, v in metadata.items()}"
   ]
  },
  {
   "cell_type": "code",
   "execution_count": null,
   "metadata": {
    "tags": []
   },
   "outputs": [],
   "source": [
    "{k: [x[\"num_lanes\"] for x in v[\"input_info\"].values()] for k, v in metadata.items()}"
   ]
  },
  {
   "cell_type": "code",
   "execution_count": null,
   "metadata": {
    "tags": []
   },
   "outputs": [],
   "source": [
    "{k: v[\"num_lanes\"] for k, v in metadata.items()}"
   ]
  },
  {
   "cell_type": "code",
   "execution_count": null,
   "metadata": {
    "tags": []
   },
   "outputs": [],
   "source": [
    "# Q = 300 * u.uL / u.min\n",
    "Q = 75 * u.uL / u.min\n",
    "height = 70 * u.um\n",
    "print_flow_info(height, Q, mu, nu, metadata)"
   ]
  },
  {
   "cell_type": "code",
   "execution_count": null,
   "metadata": {
    "tags": []
   },
   "outputs": [],
   "source": [
    "grid_df.loc[pd.IndexSlice[:, [\"iris15 20x\", \"iris9 20x\", \"bsi 40x\"]], :].round(2)"
   ]
  },
  {
   "cell_type": "markdown",
   "metadata": {},
   "source": [
    "# Fluids"
   ]
  },
  {
   "cell_type": "code",
   "execution_count": null,
   "metadata": {},
   "outputs": [],
   "source": []
  },
  {
   "cell_type": "markdown",
   "metadata": {},
   "source": [
    "# FOVs"
   ]
  },
  {
   "cell_type": "code",
   "execution_count": null,
   "metadata": {},
   "outputs": [],
   "source": [
    "# skip_first -> offset_active_regions = 0, -1, +1 (in draw_fov_grid)\n",
    "# give offset sequence for each graph cycle and each offset_active_regions"
   ]
  },
  {
   "cell_type": "code",
   "execution_count": null,
   "metadata": {
    "tags": []
   },
   "outputs": [],
   "source": [
    "metadata.keys()"
   ]
  },
  {
   "cell_type": "code",
   "execution_count": null,
   "metadata": {
    "tags": []
   },
   "outputs": [],
   "source": [
    "chip_name = \"Basilisk S4 LS3 FC30 L35 W1.4 TS2.1 TG15\"\n",
    "fov_name = \"iris15 20x\""
   ]
  },
  {
   "cell_type": "code",
   "execution_count": null,
   "metadata": {
    "tags": []
   },
   "outputs": [],
   "source": [
    "(np.array([0.5, 1.0])).astype(np.int32)"
   ]
  },
  {
   "cell_type": "code",
   "execution_count": null,
   "metadata": {
    "tags": []
   },
   "outputs": [],
   "source": [
    "trench_md = metadata[chip_name][\"trench_info\"][0]\n",
    "trench_md"
   ]
  },
  {
   "cell_type": "code",
   "execution_count": null,
   "metadata": {
    "tags": []
   },
   "outputs": [],
   "source": [
    "# region_heights = [35, 30, 35, 15]\n",
    "# region_heights = [35, 40, 35, 20]\n",
    "# region_heights = [35, 40, 35, 20, 20, 20]\n",
    "region_heights = [35, 90, 35, 20]\n",
    "total_height = sum(region_heights)"
   ]
  },
  {
   "cell_type": "code",
   "execution_count": null,
   "metadata": {
    "tags": []
   },
   "outputs": [],
   "source": [
    "fov_dims[fov_name][1]"
   ]
  },
  {
   "cell_type": "code",
   "execution_count": null,
   "metadata": {
    "tags": []
   },
   "outputs": [],
   "source": [
    "packings = fov.get_fov_packings(fov_dims[fov_name][1], region_heights)"
   ]
  },
  {
   "cell_type": "code",
   "execution_count": null,
   "metadata": {
    "tags": []
   },
   "outputs": [],
   "source": [
    "graph = fov._get_fov_graph(packings, total_height)"
   ]
  },
  {
   "cell_type": "code",
   "execution_count": null,
   "metadata": {
    "tags": []
   },
   "outputs": [],
   "source": [
    "import networkx as nx"
   ]
  },
  {
   "cell_type": "code",
   "execution_count": null,
   "metadata": {
    "tags": []
   },
   "outputs": [],
   "source": [
    "nx.draw(graph, with_labels=True)"
   ]
  },
  {
   "cell_type": "code",
   "execution_count": null,
   "metadata": {
    "tags": []
   },
   "outputs": [],
   "source": [
    "list(nx.simple_cycles(graph))"
   ]
  },
  {
   "cell_type": "code",
   "execution_count": null,
   "metadata": {
    "tags": []
   },
   "outputs": [],
   "source": [
    "packings"
   ]
  },
  {
   "cell_type": "code",
   "execution_count": null,
   "metadata": {
    "tags": []
   },
   "outputs": [],
   "source": [
    "fov.fov_plot([35, 71, 160], fov_dims[fov_name][1], region_heights)"
   ]
  },
  {
   "cell_type": "code",
   "execution_count": null,
   "metadata": {},
   "outputs": [],
   "source": [
    "fov_dims[fov_name][1]"
   ]
  },
  {
   "cell_type": "code",
   "execution_count": null,
   "metadata": {},
   "outputs": [],
   "source": []
  },
  {
   "cell_type": "code",
   "execution_count": null,
   "metadata": {
    "tags": []
   },
   "outputs": [],
   "source": [
    "755-180"
   ]
  },
  {
   "cell_type": "code",
   "execution_count": null,
   "metadata": {
    "tags": []
   },
   "outputs": [],
   "source": [
    "fov.fov_plot([160, 755+35, (755+35)+(700-71), (755+35)+(700-71)], fov_dims[fov_name][1], region_heights)"
   ]
  },
  {
   "cell_type": "code",
   "execution_count": null,
   "metadata": {
    "tags": []
   },
   "outputs": [],
   "source": [
    "fov.fov_plot([160,71], fov_dims[fov_name][1], region_heights)"
   ]
  },
  {
   "cell_type": "code",
   "execution_count": null,
   "metadata": {
    "tags": []
   },
   "outputs": [],
   "source": [
    "fov.fov_plot([35.5, 575.5, 1115.5, 1115.5+540], fov_dims[fov_name][1], region_heights)"
   ]
  },
  {
   "cell_type": "code",
   "execution_count": null,
   "metadata": {
    "tags": []
   },
   "outputs": [],
   "source": [
    "fov_grids = fov.get_fov_grids(\n",
    "    fov_dims[fov_name][1],\n",
    "    region_heights,\n",
    "    center_margins=True,\n",
    "    skip=None,\n",
    ")\n",
    "fov_grids"
   ]
  },
  {
   "cell_type": "code",
   "execution_count": null,
   "metadata": {
    "tags": []
   },
   "outputs": [],
   "source": [
    "fov.fov_plot_offsets(fov_grids[5], fov_dims[fov_name][1], region_heights, num=8)"
   ]
  },
  {
   "cell_type": "code",
   "execution_count": null,
   "metadata": {
    "tags": []
   },
   "outputs": [],
   "source": [
    "fov.get_fov_plot_ys(fov_grids[5])"
   ]
  },
  {
   "cell_type": "code",
   "execution_count": null,
   "metadata": {
    "tags": []
   },
   "outputs": [],
   "source": [
    "fov.fov_plot([35.5, 575.5, 1206.0, 1835.5], fov_dims[fov_name][1], region_heights)"
   ]
  },
  {
   "cell_type": "code",
   "execution_count": null,
   "metadata": {
    "tags": []
   },
   "outputs": [],
   "source": [
    "fov.fov_plot_offsets(fov_grids[2], fov_dims[fov_name][1], region_heights, num=6)"
   ]
  },
  {
   "cell_type": "code",
   "execution_count": null,
   "metadata": {
    "tags": []
   },
   "outputs": [],
   "source": [
    "fov.fov_plot([35.5, 575.5, 1115.5, 1115.5+540], fov_dims[fov_name][1], region_heights)"
   ]
  },
  {
   "cell_type": "code",
   "execution_count": null,
   "metadata": {
    "tags": []
   },
   "outputs": [],
   "source": [
    "metadata.keys()"
   ]
  },
  {
   "cell_type": "code",
   "execution_count": null,
   "metadata": {
    "tags": []
   },
   "outputs": [],
   "source": [
    "chip_name = 'Basilisk S4 LS3 FC35 L35 W1.3/1.5 TS2.1 TG15'"
   ]
  },
  {
   "cell_type": "code",
   "execution_count": null,
   "metadata": {
    "tags": []
   },
   "outputs": [],
   "source": [
    "d = fov.get_fov_grids_df(fov_dims, metadata[chip_name])"
   ]
  },
  {
   "cell_type": "code",
   "execution_count": null,
   "metadata": {
    "tags": []
   },
   "outputs": [],
   "source": [
    "d.xs(pd.IndexSlice[\"iris15 20x\",:,:],drop_level=False)"
   ]
  }
 ],
 "metadata": {
  "kernelspec": {
   "display_name": "Python 3 (ipykernel)",
   "language": "python",
   "name": "python3"
  },
  "language_info": {
   "codemirror_mode": {
    "name": "ipython",
    "version": 3
   },
   "file_extension": ".py",
   "mimetype": "text/x-python",
   "name": "python",
   "nbconvert_exporter": "python",
   "pygments_lexer": "ipython3",
   "version": "3.11.0"
  }
 },
 "nbformat": 4,
 "nbformat_minor": 4
}
