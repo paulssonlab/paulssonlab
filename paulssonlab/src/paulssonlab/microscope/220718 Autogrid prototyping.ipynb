{
 "cells": [
  {
   "cell_type": "code",
   "execution_count": null,
   "id": "fd754f64-7544-4b6c-a148-1d8b3861ac89",
   "metadata": {},
   "outputs": [],
   "source": [
    "import xml.etree.ElementTree as ET"
   ]
  },
  {
   "cell_type": "code",
   "execution_count": null,
   "id": "61176395-a9b7-4bb9-984d-2c28c723a61d",
   "metadata": {},
   "outputs": [],
   "source": [
    "filename = \"multipoints_corners.xml\"\n",
    "# filename = \"multipoints_test3.xml\"\n",
    "input_xml = ET.parse(filename, parser=ET.XMLParser(encoding=\"utf-16\"))"
   ]
  },
  {
   "cell_type": "code",
   "execution_count": null,
   "id": "ecb6ab1c-d571-400b-ab1f-ffca4416bd16",
   "metadata": {},
   "outputs": [],
   "source": [
    "def parse_position(e):\n",
    "    return dict(\n",
    "        name=x.find(\"strName\").attrib[\"value\"],\n",
    "        checked=(x.find(\"bChecked\").attrib[\"value\"].lower() != \"false\"),\n",
    "        x=float(x.find(\"dXPosition\").attrib[\"value\"]),\n",
    "        y=float(x.find(\"dYPosition\").attrib[\"value\"]),\n",
    "        z=float(x.find(\"dZPosition\").attrib[\"value\"]),\n",
    "        pfs_offset=float(x.find(\"dPFSOffset\").attrib[\"value\"]),\n",
    "    )\n",
    "\n",
    "\n",
    "parse_position(x)"
   ]
  },
  {
   "cell_type": "code",
   "execution_count": null,
   "id": "014011e3-c5c1-45db-a0be-59f618c42a95",
   "metadata": {},
   "outputs": [],
   "source": [
    "def position_element(idx, name, x, y, z, pfs_offset=-1, checked=True):\n",
    "    tag = f\"Point{idx:05d}\"\n",
    "    position = ET.Element(tag)\n",
    "    ET.SubElement(position, \"bChecked\", runtype=\"bool\", value=str(checked).lower())\n",
    "    ET.SubElement(position, \"strName\", runtype=\"CLxStringW\", value=str(name))\n",
    "    ET.SubElement(position, \"dXPosition\", runtype=\"double\", value=f\"{x:.15f}\")\n",
    "    ET.SubElement(position, \"dYPosition\", runtype=\"double\", value=f\"{y:.15f}\")\n",
    "    ET.SubElement(position, \"dZPosition\", runtype=\"double\", value=f\"{z:.15f}\")\n",
    "    ET.SubElement(position, \"dPFSOffset\", runtype=\"double\", value=f\"{pfs_offset:.15f}\")\n",
    "    return position\n",
    "\n",
    "\n",
    "ET.tostring(position_element(33, name=\"hh\", x=1, y=1, z=1))"
   ]
  },
  {
   "cell_type": "code",
   "execution_count": null,
   "id": "4c6c4e14-fa98-4088-a21e-28b52caa7a2e",
   "metadata": {},
   "outputs": [],
   "source": [
    "ET.Element(\"h\", foo=\"bar\")"
   ]
  },
  {
   "cell_type": "code",
   "execution_count": null,
   "id": "451532c2-47a2-4b13-8011-952f48ac0f6e",
   "metadata": {},
   "outputs": [],
   "source": [
    "list(x)"
   ]
  },
  {
   "cell_type": "code",
   "execution_count": null,
   "id": "5cb3eb90-687c-47ba-9374-c3670e37d727",
   "metadata": {},
   "outputs": [],
   "source": [
    "preamble_elements = []\n",
    "for e in input_xml.findall(\"./no_name/*\"):\n",
    "    if e.tag in (\"bIncludeZ\", \"bPFSEnabled\"):\n",
    "        preamble_elements.append(e)\n",
    "    else:\n",
    "        input_positions.append(parse_position(e))"
   ]
  },
  {
   "cell_type": "code",
   "execution_count": null,
   "id": "b536a9f3-7184-43d6-a7cb-467b2124a9ea",
   "metadata": {},
   "outputs": [],
   "source": [
    "x = input_xml.find(\"./no_name/Point00000\")"
   ]
  },
  {
   "cell_type": "code",
   "execution_count": null,
   "id": "d8dd5ccb-55bf-4a88-9aa6-84103c962b1a",
   "metadata": {},
   "outputs": [],
   "source": [
    "float(x.find(\"dXPosition\").attrib[\"value\"])"
   ]
  },
  {
   "cell_type": "code",
   "execution_count": null,
   "id": "1f873fb5-63e3-406c-9bb0-876850b69f28",
   "metadata": {},
   "outputs": [],
   "source": [
    "for element in input_xml.findall(\"./variant/*\")"
   ]
  },
  {
   "cell_type": "code",
   "execution_count": null,
   "id": "47dfd90c-e6f6-468c-9a48-4e4a45591990",
   "metadata": {},
   "outputs": [],
   "source": [
    "list(a.getroot().find(\"no_name\"))"
   ]
  },
  {
   "cell_type": "code",
   "execution_count": null,
   "id": "e60c0a32-4a63-4487-9d3f-a2c969356921",
   "metadata": {},
   "outputs": [],
   "source": [
    "ET.tostring(a.getroot())  # , encoding=\"utf-16\")"
   ]
  },
  {
   "cell_type": "code",
   "execution_count": null,
   "id": "bf0b2131-a950-4738-89be-95cf5dec95ec",
   "metadata": {},
   "outputs": [],
   "source": [
    "a.find(\"variant\")  # .find(\"no_name\")"
   ]
  },
  {
   "cell_type": "code",
   "execution_count": null,
   "id": "a4ce4c13-3078-4b2a-9ca9-3e9701c4f603",
   "metadata": {},
   "outputs": [],
   "source": [
    "a.getroot()"
   ]
  },
  {
   "cell_type": "code",
   "execution_count": null,
   "id": "7b392c18-fcc7-42a3-a1d1-43a3573b6d6d",
   "metadata": {},
   "outputs": [],
   "source": [
    "list(a.getroot())"
   ]
  }
 ],
 "metadata": {
  "kernelspec": {
   "display_name": "Python 3 (ipykernel)",
   "language": "python",
   "name": "python3"
  },
  "language_info": {
   "codemirror_mode": {
    "name": "ipython",
    "version": 3
   },
   "file_extension": ".py",
   "mimetype": "text/x-python",
   "name": "python",
   "nbconvert_exporter": "python",
   "pygments_lexer": "ipython3",
   "version": "3.10.5"
  }
 },
 "nbformat": 4,
 "nbformat_minor": 5
}
