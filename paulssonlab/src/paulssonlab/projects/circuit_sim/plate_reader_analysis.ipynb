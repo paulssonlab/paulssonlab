{
 "cells": [
  {
   "cell_type": "code",
   "execution_count": null,
   "id": "0",
   "metadata": {},
   "outputs": [],
   "source": [
    "import matplotlib.pyplot as plt\n",
    "import numpy as np\n",
    "import pandas as pd"
   ]
  },
  {
   "cell_type": "code",
   "execution_count": null,
   "id": "1",
   "metadata": {},
   "outputs": [],
   "source": [
    "GFP = pd.read_csv(\"201119_platereader/GFP.csv\", index_col=0)\n",
    "del GFP[\"Temp fluor:485,515\"]\n",
    "\n",
    "mScarlet = pd.read_csv(\"201119_platereader/mScarlet.csv\", index_col=0)\n",
    "del mScarlet[\"Temp fluor:575,615\"]\n",
    "\n",
    "OD600 = pd.read_csv(\"201119_platereader/OD600.csv\", index_col=0)\n",
    "del OD600[\"Temp OD:600\"]\n",
    "\n",
    "\n",
    "for df in [GFP, mScarlet, OD600]:\n",
    "    df.index = pd.to_timedelta(df.index)\n",
    "\n",
    "df = pd.concat({\"GFP\": GFP, \"mScarlet\": mScarlet, \"OD\": OD600}, axis=1)\n",
    "\n",
    "df = df.swaplevel(axis=1)\n",
    "df.sort_index(axis=1, inplace=True)\n",
    "df.interpolate(inplace=True)\n",
    "idx = pd.IndexSlice"
   ]
  },
  {
   "cell_type": "code",
   "execution_count": null,
   "id": "2",
   "metadata": {},
   "outputs": [],
   "source": [
    "Nwells = 90\n",
    "wells = list(GFP.columns)[:Nwells]\n",
    "strains = [\"NAO94\", \"NAO97\", \"NAO98\", \"NAO101\", \"NAO103\"]\n",
    "conditions = [\"0uM\", \"2.5uM\", \"7.5uM\", \"12.5uM\", \"25uM\"]\n",
    "bio_rep = [\"A\", \"B\"]\n",
    "tech_rep = [\"a\", \"b\"]\n",
    "sind = 0\n",
    "well_dict = {}\n",
    "\n",
    "for i, well in enumerate(wells):\n",
    "    entry = {}\n",
    "    entry[\"condition\"] = conditions[int(np.floor(i / 18))]\n",
    "    if i % 18 in [0, 1]:\n",
    "        entry[\"strain\"] = strains[0]\n",
    "        entry[\"bio_rep\"] = \"A\"\n",
    "\n",
    "        if i % 18 == 0:\n",
    "            entry[\"tech_rep\"] = \"a\"\n",
    "        else:\n",
    "            entry[\"tech_rep\"] = \"b\"\n",
    "    else:\n",
    "        #         print(i)\n",
    "        ind = i % 18 - 2\n",
    "        entry[\"strain\"] = strains[int(np.floor(ind / 4)) + 1]\n",
    "        if ind % 4 == 0:\n",
    "            entry[\"bio_rep\"] = \"A\"\n",
    "            entry[\"tech_rep\"] = \"a\"\n",
    "        elif ind % 4 == 1:\n",
    "            entry[\"bio_rep\"] = \"A\"\n",
    "            entry[\"tech_rep\"] = \"b\"\n",
    "        elif ind % 4 == 2:\n",
    "            entry[\"bio_rep\"] = \"B\"\n",
    "            entry[\"tech_rep\"] = \"a\"\n",
    "        elif ind % 4 == 3:\n",
    "            entry[\"bio_rep\"] = \"B\"\n",
    "            entry[\"tech_rep\"] = \"b\"\n",
    "    well_dict[well] = entry\n",
    "#     print(entry)\n",
    "\n",
    "\n",
    "df_ind = pd.DataFrame(well_dict).transpose()"
   ]
  },
  {
   "cell_type": "code",
   "execution_count": null,
   "id": "3",
   "metadata": {},
   "outputs": [],
   "source": [
    "Nwells = 96\n",
    "wells = list(GFP.columns)[:Nwells]\n",
    "strains = [\n",
    "    \"NAO94\",\n",
    "    \"NAO104\",\n",
    "    \"NAO105\",\n",
    "    \"NAO106\",\n",
    "    \"NAO107\",\n",
    "    \"NAO108\",\n",
    "    \"NAO109\",\n",
    "    \"NAO110\",\n",
    "]\n",
    "conditions = [\"0-0\", \"0-12.5\", \"50-12.5\", \"0-250\"]\n",
    "tech_rep = [\"a\", \"b\", \"c\"]\n",
    "sind = 0\n",
    "well_dict = {}\n",
    "\n",
    "for i, well in enumerate(wells):\n",
    "    entry = {}\n",
    "    entry[\"condition\"] = conditions[int(np.floor(i / 24))]\n",
    "    #         print(i)\n",
    "    ind = i % 24\n",
    "    entry[\"strain\"] = strains[int(np.floor(ind / 3))]\n",
    "    entry[\"tech_rep\"] = tech_rep[ind % 3]\n",
    "    well_dict[well] = entry\n",
    "#     print(entry)\n",
    "\n",
    "\n",
    "df_ind = pd.DataFrame(well_dict).transpose()"
   ]
  },
  {
   "cell_type": "code",
   "execution_count": null,
   "id": "4",
   "metadata": {},
   "outputs": [],
   "source": [
    "fig, axes = plt.subplots(nrows=8, ncols=2)\n",
    "\n",
    "for i, strain in enumerate(strains):\n",
    "    wids = idx[\n",
    "        df_ind[(df_ind.strain == strain) & (df_ind.tech_rep == \"a\")]\n",
    "    ].index.tolist()\n",
    "    df.loc[:, idx[wids, \"GFP\"]].plot(\n",
    "        logy=True, figsize=(20, 30), ax=axes[i, 0], title=strain\n",
    "    )\n",
    "    df.loc[:, idx[wids, \"OD\"]].plot(\n",
    "        logy=True, figsize=(20, 30), ax=axes[i, 1], title=strain\n",
    "    )\n",
    "\n",
    "# for i,cond in enumerate(conditions):\n",
    "#     wids = idx[df_ind[(df_ind.condition==cond)]].index.tolist()\n",
    "#     df.loc[:, idx[wids,'GFP']].plot(logy=True,figsize=(20,30),ax=axes[i,0],title=cond)\n",
    "#     df.loc[:, idx[wids,'OD']].plot(logy=True,figsize=(20,30),ax=axes[i,1],title=cond)"
   ]
  },
  {
   "cell_type": "code",
   "execution_count": null,
   "id": "5",
   "metadata": {},
   "outputs": [],
   "source": [
    "fig, axes = plt.subplots(nrows=8, ncols=2)\n",
    "\n",
    "# for i,cond in enumerate(conditions):\n",
    "#     wids = idx[df_ind[(df_ind.condition==cond)]].index.tolist()\n",
    "#     df.loc[:, idx[wids,'GFP']].plot(logy=True,figsize=(25,40),ax=axes[i,0],title=cond,ylim=[5e2,1e6],cmap='tab20')\n",
    "#     df.loc[:, idx[wids,'OD']].plot(logy=True,figsize=(25,40),ax=axes[i,1],title=cond,cmap='tab20')\n",
    "\n",
    "for i, strain in enumerate(strains):\n",
    "    wids = idx[df_ind[(df_ind.strain == strain)]].index.tolist()\n",
    "    df.loc[:, idx[wids, \"GFP\"]].plot(\n",
    "        logy=True,\n",
    "        figsize=(25, 40),\n",
    "        ax=axes[i, 0],\n",
    "        title=strain,\n",
    "        ylim=[5e2, 5e6],\n",
    "        cmap=\"tab20\",\n",
    "    )\n",
    "    df.loc[:, idx[wids, \"OD\"]].plot(\n",
    "        logy=False, figsize=(25, 40), ax=axes[i, 1], title=strain, cmap=\"tab20\"\n",
    "    )"
   ]
  },
  {
   "cell_type": "code",
   "execution_count": null,
   "id": "6",
   "metadata": {},
   "outputs": [],
   "source": [
    "fig, axes = plt.subplots(nrows=5, ncols=1)\n",
    "for i, cond in enumerate(conditions):\n",
    "    # for i,strain in enumerate(strains):\n",
    "    #     wids = idx[df_ind[(df_ind.strain==strain) & (df_ind.bio_rep=='A')]].index.tolist()\n",
    "    wids = idx[df_ind[(df_ind.condition == cond)]].index.tolist()\n",
    "\n",
    "    dfOD = df.loc[:, idx[wids, \"OD\"]]\n",
    "    dfOD.columns = dfOD.columns.droplevel(level=1)\n",
    "    dfGFP = df.loc[:, idx[wids, \"GFP\"]]\n",
    "    dfGFP.columns = dfGFP.columns.droplevel(level=1)\n",
    "    (dfGFP / dfOD).plot(\n",
    "        logy=True, figsize=(10, 40), ax=axes[i], title=cond, cmap=\"tab20\"\n",
    "    )"
   ]
  },
  {
   "cell_type": "code",
   "execution_count": null,
   "id": "7",
   "metadata": {},
   "outputs": [],
   "source": [
    "idx = pd.IndexSlice\n",
    "df2.loc[:, idx[[\"A1\", \"A2\"], \"GFP\"]] / df2.loc[:, idx[[\"A1\", \"A2\"], \"OD\"]]"
   ]
  },
  {
   "cell_type": "code",
   "execution_count": null,
   "id": "8",
   "metadata": {},
   "outputs": [],
   "source": [
    "ratio = df2[[\"A1\", \"A2\"]][\"GFP\"].div(df2[[\"A1\", \"A2\"]][\"OD\"])"
   ]
  },
  {
   "cell_type": "code",
   "execution_count": null,
   "id": "9",
   "metadata": {},
   "outputs": [],
   "source": [
    "ratio.plot()"
   ]
  }
 ],
 "metadata": {
  "kernelspec": {
   "display_name": "Python 3",
   "language": "python",
   "name": "python3"
  },
  "language_info": {
   "codemirror_mode": {
    "name": "ipython",
    "version": 3
   },
   "file_extension": ".py",
   "mimetype": "text/x-python",
   "name": "python",
   "nbconvert_exporter": "python",
   "pygments_lexer": "ipython3",
   "version": "3.7.8"
  }
 },
 "nbformat": 4,
 "nbformat_minor": 4
}
