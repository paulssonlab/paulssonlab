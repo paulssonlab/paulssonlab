{
 "cells": [
  {
   "cell_type": "code",
   "execution_count": null,
   "metadata": {},
   "outputs": [],
   "source": [
    "import matplotlib as mpl\n",
    "import matplotlib.pyplot as plt\n",
    "import glob\n",
    "import nd2reader\n",
    "import numpy as np\n",
    "from cytoolz import compose\n",
    "import skimage\n",
    "from skimage.color import rgb2gray\n",
    "from skimage.feature import blob_dog, blob_log, blob_doh\n",
    "from paulssonlab.projects.molecule_counting.segmentation import segment, invert\n",
    "from paulssonlab.projects.molecule_counting.matriarch_stub import permute_labels\n",
    "import cv2\n",
    "\n",
    "mpl.rcParams[\"figure.figsize\"] = (14, 14)"
   ]
  },
  {
   "cell_type": "code",
   "execution_count": null,
   "metadata": {},
   "outputs": [],
   "source": [
    "segment_phase = compose(segment, invert)"
   ]
  },
  {
   "cell_type": "code",
   "execution_count": null,
   "metadata": {},
   "outputs": [],
   "source": [
    "filenames = glob.glob(\"/n/scratch2/jqs1/200228/*.nd2\") + glob.glob(\n",
    "    \"/n/scratch2/jqs1/200305/*.nd2\"\n",
    ")\n",
    "for i in range(len(filenames)):\n",
    "    print(i, filenames[i])"
   ]
  },
  {
   "cell_type": "code",
   "execution_count": null,
   "metadata": {},
   "outputs": [],
   "source": [
    "file = filenames[2]\n",
    "print(file)\n",
    "nd2 = nd2reader.ND2Reader(file)\n",
    "print(\"Channels: \", nd2.metadata[\"channels\"])\n",
    "# print('Fields of view: ', nd2.metadata['fields_of_view'])\n",
    "# print(nd2.metadata)\n",
    "print(nd2.sizes)"
   ]
  },
  {
   "cell_type": "code",
   "execution_count": null,
   "metadata": {},
   "outputs": [],
   "source": [
    "fov_index = 1\n",
    "phase_image = nd2.get_frame_2D(v=0, c=0, z=fov_index)\n",
    "fluor_image = nd2.get_frame_2D(v=0, c=1, z=fov_index)\n",
    "plt.imshow(phase_image)"
   ]
  },
  {
   "cell_type": "code",
   "execution_count": null,
   "metadata": {},
   "outputs": [],
   "source": [
    "# Crop image\n",
    "xmin, xmax = 0, 290\n",
    "ymin, ymax = 0, 172\n",
    "phase_img = phase_image[ymin:ymax, xmin:xmax]\n",
    "fluor_img = fluor_image[ymin:ymax, xmin:xmax]\n",
    "fig, axes = plt.subplots(1, 3, sharex=True, sharey=True)\n",
    "ax = axes.ravel()\n",
    "ax[0].imshow(phase_img, cmap=\"gray\")\n",
    "ax[1].imshow(fluor_img, cmap=\"seismic\")\n",
    "# ax[1].imshow(seg_mask, cmap = 'gray_r')\n",
    "\n",
    "# Segment cells\n",
    "# seg is a numpy array where 0 = no cell, and number = which cell that point is part of.\n",
    "seg = segment_phase(phase_img)\n",
    "seg_mask = np.ma.masked_where(seg != 0, seg)\n",
    "ax[2].imshow(permute_labels(seg))\n",
    "# ax[2].imshow(seg)\n",
    "ax[2].imshow(seg_mask, cmap=\"gray_r\")"
   ]
  },
  {
   "cell_type": "code",
   "execution_count": null,
   "metadata": {},
   "outputs": [],
   "source": [
    "def get_cells(seg):\n",
    "    \"\"\"takes in segmented image, returns a list of coordinates included in each cell.\"\"\"\n",
    "    number_of_cells = np.amax(seg)\n",
    "    cell_labels = np.linspace(1, number_of_cells, number_of_cells)\n",
    "    cells = []\n",
    "    for cell in cell_labels:\n",
    "        cell = np.where(seg == cell)\n",
    "        cells.append(cell)\n",
    "    return cells\n",
    "\n",
    "\n",
    "cells = get_cells(seg)\n",
    "print(\"Number of cells in fov: \", len(cells))"
   ]
  },
  {
   "cell_type": "code",
   "execution_count": null,
   "metadata": {},
   "outputs": [],
   "source": [
    "def get_cell_boxes(seg):\n",
    "    \"\"\"takes in segmented image, returns coordinates of corners of each box with a cell.\"\"\"\n",
    "    cells = get_cells(seg)\n",
    "    cell_boxes = []\n",
    "    for cell in cells:\n",
    "        cell_boxes.append(\n",
    "            [np.amin(cell[0]), np.amax(cell[0]), np.amin(cell[1]), np.amax(cell[1])]\n",
    "        )\n",
    "    return cell_boxes\n",
    "\n",
    "\n",
    "cell_label = 13\n",
    "cell = cells[cell_label - 1]\n",
    "boxes = get_cell_boxes(seg)\n",
    "box = boxes[cell_label - 1]"
   ]
  },
  {
   "cell_type": "code",
   "execution_count": null,
   "metadata": {},
   "outputs": [],
   "source": [
    "# Get images (phase and fluor, and mask) of the cell.\n",
    "phase_img_cell = phase_img[box[0] : box[1], box[2] : box[3]]\n",
    "fluor_img_cell = fluor_img[box[0] : box[1], box[2] : box[3]]\n",
    "seg_box = seg[box[0] : box[1], box[2] : box[3]]\n",
    "grey_fluor_img_cell = rgb2gray(fluor_img_cell)\n",
    "\n",
    "grey_fluor_img_cell_masked = np.ma.masked_where(\n",
    "    seg_box != cell_label, grey_fluor_img_cell\n",
    ")\n",
    "phase_img_cell_masked = np.ma.masked_where(seg_box != cell_label, phase_img_cell)\n",
    "fluor_img_cell_masked = np.ma.masked_where(seg_box != cell_label, fluor_img_cell)\n",
    "fig, axes = plt.subplots(1, 6, figsize=(25, 10), sharex=True, sharey=True)\n",
    "ax = axes.ravel()\n",
    "ax[0].imshow(phase_img_cell)\n",
    "ax[0].set_title(\"Phase image\")\n",
    "ax[1].imshow(phase_img_cell_masked)\n",
    "ax[1].set_title(\"Masked phase image\")\n",
    "ax[2].imshow(fluor_img_cell)\n",
    "ax[2].set_title(\"Fluorescence image\")\n",
    "ax[3].imshow(fluor_img_cell_masked)\n",
    "ax[3].set_title(\"Masked fluorescence image\")\n",
    "ax[4].imshow(grey_fluor_img_cell)\n",
    "ax[4].set_title(\"Grayscale fluorescence image\")\n",
    "ax[5].imshow(grey_fluor_img_cell_masked)\n",
    "ax[5].set_title(\"Masked grayscale fluorescence image\")"
   ]
  },
  {
   "cell_type": "code",
   "execution_count": null,
   "metadata": {},
   "outputs": [],
   "source": [
    "def mean_background_int(seg_img):\n",
    "    \"\"\"Takes in a segmented image and returns the mean intensity of the background.\"\"\"\n",
    "    background = np.ma.masked_where(seg_img.mask == False, seg_img.data)\n",
    "    return np.mean(background)\n",
    "\n",
    "\n",
    "print(mean_background_int(grey_fluor_img_cell_masked))"
   ]
  },
  {
   "cell_type": "code",
   "execution_count": null,
   "metadata": {},
   "outputs": [],
   "source": [
    "def std_background_int(seg_img):\n",
    "    \"\"\"Takes in a segmented image and returns the standard deviation of the background\n",
    "    intensity, so we can get an idea of the noise level.\"\"\"\n",
    "    background = np.ma.masked_where(seg_img.mask == False, seg_img.data)\n",
    "    return np.std(background)\n",
    "\n",
    "\n",
    "print(std_background_int(grey_fluor_img_cell_masked))"
   ]
  },
  {
   "cell_type": "code",
   "execution_count": null,
   "metadata": {},
   "outputs": [],
   "source": [
    "mean_bg_int = mean_background_int(grey_fluor_img_cell_masked)\n",
    "grey_fluor_img_cell_masked_bc = grey_fluor_img_cell_masked - mean_bg_int\n",
    "plt.figure(figsize=(5, 5))\n",
    "plt.imshow(grey_fluor_img_cell_masked_bc)"
   ]
  },
  {
   "cell_type": "code",
   "execution_count": null,
   "metadata": {},
   "outputs": [],
   "source": [
    "mean_bg_int = mean_background_int(grey_fluor_img_cell_masked)\n",
    "grey_fluor_img_cell_masked_bc = grey_fluor_img_cell_masked - mean_bg_int\n",
    "plt.figure(figsize=(5, 5))\n",
    "plt.imshow(grey_fluor_img_cell_masked_bc)"
   ]
  },
  {
   "cell_type": "code",
   "execution_count": null,
   "metadata": {},
   "outputs": [],
   "source": [
    "def get_blobs_log(img):\n",
    "    blobs_log = blob_log(img, max_sigma=10, threshold=1000)\n",
    "    blobs_log[:, 2] = blobs_log[:, 2] * np.sqrt(2)\n",
    "    return blobs_log\n",
    "\n",
    "\n",
    "def get_blobs_dog(img):\n",
    "    blobs_dog = blob_dog(img, max_sigma=10, threshold=1000)\n",
    "    blobs_dog[:, 2] = blobs_dog[:, 2] * np.sqrt(2)\n",
    "    return blobs_dog\n",
    "\n",
    "\n",
    "def get_blobs_doh(img):\n",
    "    return blob_doh(grey_fluor_img_cell_masked, max_sigma=10, threshold=0.01)\n",
    "\n",
    "\n",
    "blobs_list = [\n",
    "    get_blobs_log(grey_fluor_img_cell_masked_bc),\n",
    "    get_blobs_dog(grey_fluor_img_cell_masked_bc),\n",
    "    get_blobs_doh(grey_fluor_img_cell_masked_bc),\n",
    "]\n",
    "print(blobs_list)\n",
    "colors = [\"cyan\", \"lime\", \"red\"]\n",
    "titles = [\"Laplacian of Gaussian\", \"Difference of Gaussian\", \"Determinant of Hessian\"]\n",
    "sequence = zip(blobs_list, colors, titles)\n",
    "\n",
    "fig, axes = plt.subplots(1, 3, figsize=(20, 40), sharex=True, sharey=True)\n",
    "ax = axes.ravel()\n",
    "\n",
    "for idx, (blobs, color, title) in enumerate(sequence):\n",
    "    ax[idx].set_title(title)\n",
    "    ax[idx].imshow(grey_fluor_img_cell_masked, cmap=\"gray\")\n",
    "    for blob in blobs:\n",
    "        y, x, r = blob\n",
    "        c = plt.Circle((x, y), r, color=color, linewidth=2, fill=False)\n",
    "        ax[idx].add_patch(c)\n",
    "        ax[idx].plot(x, y, \"o\", color=color)\n",
    "#     ax[idx].set_axis_off()"
   ]
  },
  {
   "cell_type": "code",
   "execution_count": null,
   "metadata": {},
   "outputs": [],
   "source": [
    "def get_blob_coordinates(blob_list):\n",
    "    \"\"\"Takes in lists of lists of blob coordinates and radii, as outputted by get_blobs_... and returns\n",
    "    a list of lists of coordinates that are within those circles.\"\"\"\n",
    "    coordinates = []\n",
    "    for blob in blob_list:\n",
    "        y, x, r = blob\n",
    "        ranges = np.arange(np.floor(-r), np.ceil(r) + 1)\n",
    "        rel_points = np.where(\n",
    "            (ranges[np.newaxis, :]) ** 2 + (ranges[:, np.newaxis]) ** 2 < r**2\n",
    "        )\n",
    "        points = [rel_points[0] + x - np.ceil(r), rel_points[1] + y - np.ceil(r)]\n",
    "        coordinates.append(points)\n",
    "    return coordinates\n",
    "\n",
    "\n",
    "test = get_blob_coordinates(blobs_list[0])\n",
    "plt.figure(figsize=(5, 5))\n",
    "plt.imshow(grey_fluor_img_cell_masked_bc, cmap=\"gray\")\n",
    "for i in range(len(test)):\n",
    "    plt.plot(*test[i], \"r.\")"
   ]
  },
  {
   "cell_type": "code",
   "execution_count": null,
   "metadata": {},
   "outputs": [],
   "source": [
    "def total_fluor_ints_blobs(img, blob_coordinates):\n",
    "    \"\"\"Takes in the masked image and a list of coordinates for each blob and returns the total fluorescence intensities\n",
    "    within those blobs.\"\"\"\n",
    "    ints = []\n",
    "    for i in range(len(blob_coordinates)):\n",
    "        blob = blob_coordinates[i]\n",
    "        ints.append(np.sum(img[list(map(int, blob[1])), list(map(int, blob[0]))]))\n",
    "    return ints\n",
    "\n",
    "\n",
    "print(\n",
    "    total_fluor_ints_blobs(\n",
    "        grey_fluor_img_cell_masked_bc, get_blob_coordinates(blobs_list[0])\n",
    "    )\n",
    ")"
   ]
  },
  {
   "cell_type": "code",
   "execution_count": null,
   "metadata": {},
   "outputs": [],
   "source": [
    "def total_fluor_int_background(img, blob_coordinates):\n",
    "    \"\"\"Takes in the masked image and a list of coordinates for each blob and returns the total fluorescence intensity\n",
    "    outside the blobs. I.e. total fluorescence of the rest of the cell.\"\"\"\n",
    "    total_fluor = np.sum(img)\n",
    "    blob_ints = total_fluor_ints_blobs(img, blob_coordinates)\n",
    "    total_fluor -= np.sum(blob_ints)\n",
    "    return total_fluor\n",
    "\n",
    "\n",
    "print(\n",
    "    total_fluor_int_background(\n",
    "        grey_fluor_img_cell_masked_bc, get_blob_coordinates(blobs_list[0])\n",
    "    )\n",
    ")"
   ]
  },
  {
   "cell_type": "code",
   "execution_count": null,
   "metadata": {},
   "outputs": [],
   "source": [
    "def fraction_int_in_blobs(img, blob_coordinates):\n",
    "    total_fluor = np.sum(img)\n",
    "    total_blob_ints = np.sum(total_fluor_ints_blobs(img, blob_coordinates))\n",
    "    return total_blob_ints / total_fluor\n",
    "\n",
    "\n",
    "print(\n",
    "    fraction_int_in_blobs(\n",
    "        grey_fluor_img_cell_masked_bc, get_blob_coordinates(blobs_list[0])\n",
    "    )\n",
    ")"
   ]
  },
  {
   "cell_type": "code",
   "execution_count": null,
   "metadata": {},
   "outputs": [],
   "source": [
    "def mean_fluor_ints_blobs(img, blob_coordinates):\n",
    "    \"\"\"Takes in the masked image and a list of coordinates for each blob and returns the mean fluorescence intensities\n",
    "    within those blobs.\"\"\"\n",
    "    means = []\n",
    "    for i in range(len(blob_coordinates)):\n",
    "        blob = blob_coordinates[i]\n",
    "        means.append(np.mean(img[list(map(int, blob[1])), list(map(int, blob[0]))]))\n",
    "    return means\n",
    "\n",
    "\n",
    "print(\n",
    "    mean_fluor_ints_blobs(\n",
    "        grey_fluor_img_cell_masked_bc, get_blob_coordinates(blobs_list[0])\n",
    "    )\n",
    ")"
   ]
  },
  {
   "cell_type": "code",
   "execution_count": null,
   "metadata": {},
   "outputs": [],
   "source": [
    "def mean_fluor_int_background(img, blob_coordinates):\n",
    "    \"\"\"Takes in the masked image and a list of coordinates for each blob and returns the mean fluorescence intensity\n",
    "    outside the blobs. I.e. mean fluorescence of the rest of the cell.\"\"\"\n",
    "    bg_total_fluor = total_fluor_int_background(img, blob_coordinates)\n",
    "    bg_points = np.ma.count(img)\n",
    "    for blob in blob_coordinates:\n",
    "        bg_points -= len(blob[0])\n",
    "    return bg_total_fluor / bg_points\n",
    "\n",
    "\n",
    "print(\n",
    "    mean_fluor_int_background(\n",
    "        grey_fluor_img_cell_masked_bc, get_blob_coordinates(blobs_list[0])\n",
    "    )\n",
    ")"
   ]
  },
  {
   "cell_type": "code",
   "execution_count": null,
   "metadata": {},
   "outputs": [],
   "source": []
  },
  {
   "cell_type": "code",
   "execution_count": null,
   "metadata": {},
   "outputs": [],
   "source": []
  },
  {
   "cell_type": "code",
   "execution_count": null,
   "metadata": {},
   "outputs": [],
   "source": []
  },
  {
   "cell_type": "code",
   "execution_count": null,
   "metadata": {},
   "outputs": [],
   "source": []
  },
  {
   "cell_type": "code",
   "execution_count": null,
   "metadata": {},
   "outputs": [],
   "source": [
    "def total_fluor_int_background(img, blob_coordinates):\n",
    "    \"\"\"Takes in the masked image and a list of coordinates for each blob and returns the total fluorescence intensity\n",
    "    outside the blobs. I.e. total fluorescence of the rest of the cell.\"\"\"\n",
    "    total_fluor = np.sum(img)\n",
    "    blob_ints = total_fluor_ints_blobs(img, blob_coordinates)\n",
    "    total_fluor -= np.sum(blob_ints)\n",
    "    return total_fluor\n",
    "\n",
    "\n",
    "print(\n",
    "    total_fluor_int_background(\n",
    "        grey_fluor_img_cell_masked_bc, get_blob_coordinates(blobs_list[0])\n",
    "    )\n",
    ")"
   ]
  },
  {
   "cell_type": "code",
   "execution_count": null,
   "metadata": {},
   "outputs": [],
   "source": [
    "def fraction_int_in_blobs(img, blob_coordinates):\n",
    "    total_fluor = np.sum(img)\n",
    "    total_blob_ints = np.sum(total_fluor_ints_blobs(img, blob_coordinates))\n",
    "    return total_blob_ints / total_fluor\n",
    "\n",
    "\n",
    "print(\n",
    "    fraction_int_in_blobs(\n",
    "        grey_fluor_img_cell_masked_bc, get_blob_coordinates(blobs_list[0])\n",
    "    )\n",
    ")"
   ]
  },
  {
   "cell_type": "code",
   "execution_count": null,
   "metadata": {},
   "outputs": [],
   "source": [
    "def mean_fluor_ints_blobs(img, blob_coordinates):\n",
    "    \"\"\"Takes in the masked image and a list of coordinates for each blob and returns the mean fluorescence intensities\n",
    "    within those blobs.\"\"\"\n",
    "    means = []\n",
    "    for i in range(len(blob_coordinates)):\n",
    "        blob = blob_coordinates[i]\n",
    "        means.append(np.mean(img[list(map(int, blob[1])), list(map(int, blob[0]))]))\n",
    "    return means\n",
    "\n",
    "\n",
    "print(\n",
    "    mean_fluor_ints_blobs(\n",
    "        grey_fluor_img_cell_masked_bc, get_blob_coordinates(blobs_list[0])\n",
    "    )\n",
    ")"
   ]
  },
  {
   "cell_type": "code",
   "execution_count": null,
   "metadata": {},
   "outputs": [],
   "source": [
    "def mean_fluor_int_background(img, blob_coordinates):\n",
    "    \"\"\"Takes in the masked image and a list of coordinates for each blob and returns the mean fluorescence intensity\n",
    "    outside the blobs. I.e. mean fluorescence of the rest of the cell.\"\"\"\n",
    "    bg_total_fluor = total_fluor_int_background(img, blob_coordinates)\n",
    "    bg_points = np.ma.count(img)\n",
    "    for blob in blob_coordinates:\n",
    "        bg_points -= len(blob[0])\n",
    "    return bg_total_fluor / bg_points\n",
    "\n",
    "\n",
    "print(\n",
    "    mean_fluor_int_background(\n",
    "        grey_fluor_img_cell_masked_bc, get_blob_coordinates(blobs_list[0])\n",
    "    )\n",
    ")"
   ]
  },
  {
   "cell_type": "code",
   "execution_count": null,
   "metadata": {},
   "outputs": [],
   "source": []
  },
  {
   "cell_type": "code",
   "execution_count": null,
   "metadata": {},
   "outputs": [],
   "source": []
  },
  {
   "cell_type": "code",
   "execution_count": null,
   "metadata": {},
   "outputs": [],
   "source": []
  }
 ],
 "metadata": {
  "kernelspec": {
   "display_name": "Python 3",
   "language": "python",
   "name": "python3"
  },
  "language_info": {
   "codemirror_mode": {
    "name": "ipython",
    "version": 3
   },
   "file_extension": ".py",
   "mimetype": "text/x-python",
   "name": "python",
   "nbconvert_exporter": "python",
   "pygments_lexer": "ipython3",
   "version": "3.6.1"
  }
 },
 "nbformat": 4,
 "nbformat_minor": 4
}
