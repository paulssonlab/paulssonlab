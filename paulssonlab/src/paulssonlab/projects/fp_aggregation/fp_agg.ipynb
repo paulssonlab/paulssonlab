{
 "cells": [
  {
   "cell_type": "code",
   "execution_count": null,
   "id": "0",
   "metadata": {},
   "outputs": [],
   "source": [
    "import glob\n",
    "\n",
    "import matplotlib as mpl\n",
    "import matplotlib.pyplot as plt\n",
    "import nd2reader\n",
    "import numpy as np\n",
    "import skimage\n",
    "from cytoolz import compose\n",
    "from skimage.color import rgb2gray\n",
    "from skimage.feature import blob_dog, blob_doh, blob_log\n",
    "\n",
    "from paulssonlab.projects.molecule_counting.matriarch_stub import permute_labels\n",
    "from paulssonlab.projects.molecule_counting.segmentation import invert, segment\n",
    "\n",
    "mpl.rcParams[\"figure.figsize\"] = (14, 14)"
   ]
  }
 ],
 "metadata": {
  "kernelspec": {
   "display_name": "fp_aggregation",
   "language": "python",
   "name": "fp_aggregation"
  },
  "language_info": {
   "codemirror_mode": {
    "name": "ipython",
    "version": 3
   },
   "file_extension": ".py",
   "mimetype": "text/x-python",
   "name": "python",
   "nbconvert_exporter": "python",
   "pygments_lexer": "ipython3",
   "version": "3.6.1"
  }
 },
 "nbformat": 4,
 "nbformat_minor": 2
}
