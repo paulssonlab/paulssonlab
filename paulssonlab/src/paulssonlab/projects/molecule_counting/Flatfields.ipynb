{
 "cells": [
  {
   "cell_type": "code",
   "execution_count": null,
   "id": "0",
   "metadata": {},
   "outputs": [],
   "source": [
    "import glob\n",
    "import os\n",
    "\n",
    "import dask\n",
    "import dask.array as da\n",
    "import holoviews as hv\n",
    "import matplotlib.pyplot as plt\n",
    "import nd2reader\n",
    "import numpy as np\n",
    "import zarr\n",
    "from cytoolz import compose, partial\n",
    "from dask import delayed\n",
    "from dask_jobqueue import SLURMCluster\n",
    "from distributed import Client, LocalCluster, progress"
   ]
  },
  {
   "cell_type": "code",
   "execution_count": null,
   "id": "1",
   "metadata": {},
   "outputs": [],
   "source": [
    "hv.extension(\"bokeh\")"
   ]
  },
  {
   "cell_type": "code",
   "execution_count": null,
   "id": "2",
   "metadata": {},
   "outputs": [],
   "source": [
    "import segmentation\n",
    "from matriarch_stub import recursive_sequence_map"
   ]
  },
  {
   "cell_type": "code",
   "execution_count": null,
   "id": "3",
   "metadata": {},
   "outputs": [],
   "source": [
    "def nd2_to_dask(filename, channel, rechunk=True):\n",
    "    nd2 = segmentation.get_nd2_reader(filename)\n",
    "    num_positions = nd2.sizes.get(\"v\", 1)\n",
    "    num_timepoints = nd2.sizes.get(\"t\", 1)\n",
    "    frame0 = segmentation.get_nd2_frame(filename, 0, channel, 0)\n",
    "    _get_nd2_frame = delayed(segmentation.get_nd2_frame, pure=True)\n",
    "    ary = [\n",
    "        [\n",
    "            da.from_delayed(\n",
    "                _get_nd2_frame(filename, position, channel, t),\n",
    "                dtype=frame0.dtype,\n",
    "                shape=frame0.shape,\n",
    "            )\n",
    "            for t in range(num_timepoints)\n",
    "        ]\n",
    "        for position in range(num_positions)\n",
    "    ]\n",
    "    ary = recursive_sequence_map(da.stack, ary, max_level=1)\n",
    "    if rechunk:\n",
    "        if num_timepoints >= 5:\n",
    "            ary = ary.rechunk({1: \"auto\"})\n",
    "        else:\n",
    "            ary = ary.rechunk({0: \"auto\"})\n",
    "    return ary"
   ]
  },
  {
   "cell_type": "markdown",
   "id": "4",
   "metadata": {},
   "source": [
    "# Cluster"
   ]
  },
  {
   "cell_type": "code",
   "execution_count": null,
   "id": "5",
   "metadata": {},
   "outputs": [],
   "source": [
    "dask.config.config[\"distributed\"][\"scheduler\"][\"allowed-failures\"] = 20\n",
    "# dask.config.config['distributed']['worker']['memory'] = {'target': 0.4,\n",
    "#                                                         'spill': 0.5,\n",
    "#                                                         'pause': 0.9,\n",
    "#                                                         'terminate': 0.95}"
   ]
  },
  {
   "cell_type": "code",
   "execution_count": null,
   "id": "6",
   "metadata": {},
   "outputs": [],
   "source": [
    "cluster = SLURMCluster(\n",
    "    queue=\"short\",\n",
    "    walltime=\"03:00:00\",\n",
    "    memory=\"16GB\",\n",
    "    # job_extra=['--exclude=compute-e-16-181,compute-e-16-186'],\n",
    "    local_directory=\"/tmp\",\n",
    "    log_directory=\"/home/jqs1/projects/molecule-counting/log\",\n",
    "    cores=1,\n",
    "    processes=1,\n",
    ")\n",
    "# diagnostics_port=('127.0.0.1', 8787),\n",
    "# env_extra=['export PYTHONPATH=\\\"/home/jqs1/projects/matriarch\\\"'])\n",
    "client = Client(cluster)"
   ]
  },
  {
   "cell_type": "code",
   "execution_count": null,
   "id": "7",
   "metadata": {},
   "outputs": [],
   "source": [
    "cluster"
   ]
  },
  {
   "cell_type": "code",
   "execution_count": null,
   "id": "8",
   "metadata": {},
   "outputs": [],
   "source": [
    "cluster.scale(0)"
   ]
  },
  {
   "cell_type": "markdown",
   "id": "9",
   "metadata": {},
   "source": [
    "# Analysis"
   ]
  },
  {
   "cell_type": "markdown",
   "id": "10",
   "metadata": {},
   "source": [
    "## One FOV long"
   ]
  },
  {
   "cell_type": "code",
   "execution_count": null,
   "id": "11",
   "metadata": {},
   "outputs": [],
   "source": [
    "a = nd2_to_dask(\"/n/scratch2/jqs1/190411/TADA_100pct_laser_300ms_000.nd2\", 0)"
   ]
  },
  {
   "cell_type": "code",
   "execution_count": null,
   "id": "12",
   "metadata": {},
   "outputs": [],
   "source": [
    "a"
   ]
  },
  {
   "cell_type": "markdown",
   "id": "13",
   "metadata": {},
   "source": [
    "## Big run"
   ]
  },
  {
   "cell_type": "code",
   "execution_count": null,
   "id": "14",
   "metadata": {},
   "outputs": [],
   "source": [
    "ary = nd2_to_dask(\"/n/scratch2/jqs1/190411/TADA_scan_300ms_100pct.nd2\", 0)"
   ]
  },
  {
   "cell_type": "code",
   "execution_count": null,
   "id": "15",
   "metadata": {},
   "outputs": [],
   "source": [
    "ary2 = ary  # ary.rechunk({2: 512, 3: 512})"
   ]
  },
  {
   "cell_type": "code",
   "execution_count": null,
   "id": "16",
   "metadata": {},
   "outputs": [],
   "source": [
    "def _polyfit_image(ary, degree=1):\n",
    "    shape = ary.shape\n",
    "    p = np.polyfit(np.arange(shape[0]), ary.reshape((shape[0], -1)), degree)\n",
    "    p = p.reshape((degree + 1, *shape[1:]))\n",
    "    return p\n",
    "\n",
    "\n",
    "def polyfit_image(ary, degree=1):\n",
    "    return da.apply_gufunc(\n",
    "        _polyfit_image,\n",
    "        \"(k,i,j)->(p,i,j)\",\n",
    "        ary,\n",
    "        output_dtypes=np.float32,\n",
    "        output_sizes={\"p\": degree + 1},\n",
    "        vectorize=True,\n",
    "        allow_rechunk=True,\n",
    "    )"
   ]
  },
  {
   "cell_type": "code",
   "execution_count": null,
   "id": "17",
   "metadata": {},
   "outputs": [],
   "source": [
    "# linear_fits = da.apply_gufunc(polyfit_image, \"(k,i,j)->(i,j),(i,j)\", np.log(ary[:10,:50]), output_dtypes=(np.float32,np.float32), vectorize=True, allow_rechunk=True)\n",
    "linear_fits_futures = client.compute(polyfit_image(np.log(ary2[:, :10])))"
   ]
  },
  {
   "cell_type": "code",
   "execution_count": null,
   "id": "18",
   "metadata": {},
   "outputs": [],
   "source": [
    "p = client.gather(linear_fits_futures)"
   ]
  },
  {
   "cell_type": "code",
   "execution_count": null,
   "id": "19",
   "metadata": {},
   "outputs": [],
   "source": [
    "linear_fits_futures10 = client.compute(polyfit_image(np.log(ary2[:, :10])))\n",
    "linear_fits_futures50 = client.compute(polyfit_image(np.log(ary2[:, :50])))\n",
    "linear_fits_futures100 = client.compute(polyfit_image(np.log(ary2[:, :100])))"
   ]
  },
  {
   "cell_type": "code",
   "execution_count": null,
   "id": "20",
   "metadata": {},
   "outputs": [],
   "source": [
    "p10 = client.gather(linear_fits_futures10)\n",
    "p50 = client.gather(linear_fits_futures50)\n",
    "p100 = client.gather(linear_fits_futures100)"
   ]
  },
  {
   "cell_type": "code",
   "execution_count": null,
   "id": "21",
   "metadata": {},
   "outputs": [],
   "source": [
    "%store p10\n",
    "%store p50\n",
    "%store p100"
   ]
  },
  {
   "cell_type": "code",
   "execution_count": null,
   "id": "22",
   "metadata": {},
   "outputs": [],
   "source": [
    "plt.imshow(p10[1][0])"
   ]
  },
  {
   "cell_type": "code",
   "execution_count": null,
   "id": "23",
   "metadata": {},
   "outputs": [],
   "source": [
    "plt.figure(figsize=(14, 14))\n",
    "plt.imshow(p10[21, 0])"
   ]
  },
  {
   "cell_type": "code",
   "execution_count": null,
   "id": "24",
   "metadata": {},
   "outputs": [],
   "source": [
    "plt.figure(figsize=(10, 10))\n",
    "plt.imshow(p[0][6] / p[0][5])"
   ]
  },
  {
   "cell_type": "code",
   "execution_count": null,
   "id": "25",
   "metadata": {},
   "outputs": [],
   "source": [
    "plt.figure(figsize=(14, 14))\n",
    "plt.imshow(-p[0][6])"
   ]
  },
  {
   "cell_type": "code",
   "execution_count": null,
   "id": "26",
   "metadata": {},
   "outputs": [],
   "source": [
    "plt.figure(figsize=(14, 14))\n",
    "plt.imshow(-np.median(p[0], axis=0))"
   ]
  },
  {
   "cell_type": "code",
   "execution_count": null,
   "id": "27",
   "metadata": {},
   "outputs": [],
   "source": [
    "plt.figure(figsize=(14, 14))\n",
    "plt.imshow(np.median(p[1] / p[1].mean(axis=(1, 2))[:, np.newaxis, np.newaxis], axis=0))"
   ]
  },
  {
   "cell_type": "code",
   "execution_count": null,
   "id": "28",
   "metadata": {},
   "outputs": [],
   "source": [
    "plt.figure(figsize=(14, 14))\n",
    "plt.imshow(\n",
    "    (np.median(p[1] / p[1].mean(axis=(1, 2))[:, np.newaxis, np.newaxis], axis=0))\n",
    "    / -np.median(p[0], axis=0)\n",
    ")"
   ]
  },
  {
   "cell_type": "code",
   "execution_count": null,
   "id": "29",
   "metadata": {},
   "outputs": [],
   "source": [
    "plt.figure(figsize=(12, 12))\n",
    "plt.scatter(p[0][6].flat, p[0][3].flat, s=0.1, alpha=0.1)"
   ]
  },
  {
   "cell_type": "code",
   "execution_count": null,
   "id": "30",
   "metadata": {},
   "outputs": [],
   "source": [
    "plt.figure(figsize=(12, 12))\n",
    "plt.scatter(p[1][6].flat, p[1][3].flat, s=0.1, alpha=0.1)"
   ]
  },
  {
   "cell_type": "markdown",
   "id": "31",
   "metadata": {},
   "source": [
    "### Old"
   ]
  },
  {
   "cell_type": "code",
   "execution_count": null,
   "id": "32",
   "metadata": {},
   "outputs": [],
   "source": [
    "b = ary[:, :, ::64, ::64].compute()"
   ]
  },
  {
   "cell_type": "code",
   "execution_count": null,
   "id": "33",
   "metadata": {},
   "outputs": [],
   "source": [
    "plt.plot(b[0, :, 0, 0])"
   ]
  },
  {
   "cell_type": "code",
   "execution_count": null,
   "id": "34",
   "metadata": {},
   "outputs": [],
   "source": [
    "b.shape"
   ]
  },
  {
   "cell_type": "code",
   "execution_count": null,
   "id": "35",
   "metadata": {},
   "outputs": [],
   "source": [
    "bg = 0  # 4000"
   ]
  },
  {
   "cell_type": "code",
   "execution_count": null,
   "id": "36",
   "metadata": {},
   "outputs": [],
   "source": [
    "b.min()"
   ]
  },
  {
   "cell_type": "code",
   "execution_count": null,
   "id": "37",
   "metadata": {},
   "outputs": [],
   "source": [
    "c = b[:, :, 10, 10].T"
   ]
  },
  {
   "cell_type": "code",
   "execution_count": null,
   "id": "38",
   "metadata": {},
   "outputs": [],
   "source": [
    "# normed_traces = ((b[800:1300]-bg)/(b[800:850]-bg).mean(axis=0))[:,::32,::32]\n",
    "# normed_traces = ((c[800:1300]-bg)/(c[800:850]-bg).mean(axis=0))\n",
    "normed_traces = (c[:] - bg) / (c[:] - bg).mean(axis=0)"
   ]
  },
  {
   "cell_type": "code",
   "execution_count": null,
   "id": "39",
   "metadata": {},
   "outputs": [],
   "source": [
    "normed_traces.shape"
   ]
  },
  {
   "cell_type": "code",
   "execution_count": null,
   "id": "40",
   "metadata": {},
   "outputs": [],
   "source": [
    "plt.plot(normed_traces[:, 30])"
   ]
  },
  {
   "cell_type": "code",
   "execution_count": null,
   "id": "41",
   "metadata": {},
   "outputs": [],
   "source": [
    "normed_traces.T.shape"
   ]
  },
  {
   "cell_type": "code",
   "execution_count": null,
   "id": "42",
   "metadata": {},
   "outputs": [],
   "source": [
    "ary.shape"
   ]
  },
  {
   "cell_type": "code",
   "execution_count": null,
   "id": "43",
   "metadata": {},
   "outputs": [],
   "source": [
    "z1 = ary[3, 740].compute()\n",
    "z2 = ary[3, 770].compute()"
   ]
  },
  {
   "cell_type": "code",
   "execution_count": null,
   "id": "44",
   "metadata": {},
   "outputs": [],
   "source": [
    "plt.figure(figsize=(12, 12))\n",
    "plt.imshow(z2 - z1 > 10000)"
   ]
  },
  {
   "cell_type": "code",
   "execution_count": null,
   "id": "45",
   "metadata": {},
   "outputs": [],
   "source": [
    "plt.figure(figsize=(12, 12))\n",
    "plt.plot(normed_traces[:, 3])"
   ]
  },
  {
   "cell_type": "code",
   "execution_count": null,
   "id": "46",
   "metadata": {},
   "outputs": [],
   "source": [
    "plt.figure(figsize=(30, 12))\n",
    "plt.plot(np.log(normed_traces / normed_traces[-10, :]))\n",
    "# plt.plot(np.log(normed_traces).reshape((normed_traces.shape[0],-1)));"
   ]
  },
  {
   "cell_type": "code",
   "execution_count": null,
   "id": "47",
   "metadata": {},
   "outputs": [],
   "source": [
    "((b[800:1300] - bg) / (b[800:850] - bg).mean(axis=0)).shape"
   ]
  },
  {
   "cell_type": "code",
   "execution_count": null,
   "id": "48",
   "metadata": {},
   "outputs": [],
   "source": [
    "c = np.log(((b[800:1300] - bg) / (b[800:850] - bg).mean(axis=0))[:, ::, ::])\n",
    "log_traces = c.reshape((c.shape[0], -1))"
   ]
  },
  {
   "cell_type": "code",
   "execution_count": null,
   "id": "49",
   "metadata": {},
   "outputs": [],
   "source": [
    "log_traces.shape"
   ]
  },
  {
   "cell_type": "code",
   "execution_count": null,
   "id": "50",
   "metadata": {},
   "outputs": [],
   "source": [
    "p = np.polyfit(np.arange(log_traces.shape[0]), log_traces, 1)"
   ]
  },
  {
   "cell_type": "code",
   "execution_count": null,
   "id": "51",
   "metadata": {},
   "outputs": [],
   "source": [
    "x = int(np.sqrt(log_traces.shape[1]))\n",
    "plt.figure(figsize=(12, 12))\n",
    "plt.imshow(p[0].reshape((x, x)))"
   ]
  },
  {
   "cell_type": "code",
   "execution_count": null,
   "id": "52",
   "metadata": {},
   "outputs": [],
   "source": [
    "plt.figure(figsize=(18, 12))\n",
    "plt.plot(log_traces)"
   ]
  },
  {
   "cell_type": "code",
   "execution_count": null,
   "id": "53",
   "metadata": {},
   "outputs": [],
   "source": [
    "plt.figure(figsize=(12, 12))\n",
    "plt.imshow(b[0])"
   ]
  },
  {
   "cell_type": "code",
   "execution_count": null,
   "id": "54",
   "metadata": {},
   "outputs": [],
   "source": [
    "# GIT COMMIT OLD STUFF\n",
    "# update nd2_to_dask\n",
    "# background subtraction (to maximize linearity)\n",
    "# truncate to exponential section\n",
    "# get best fit slopes/intercepts\n",
    "# scatter plot comparison of two positions' slopes [DONE]\n",
    "# compare slopes early vs. late (non exp. vs approx exp regime)"
   ]
  }
 ],
 "metadata": {
  "kernelspec": {
   "display_name": "Python 3",
   "language": "python",
   "name": "python3"
  },
  "language_info": {
   "codemirror_mode": {
    "name": "ipython",
    "version": 3
   },
   "file_extension": ".py",
   "mimetype": "text/x-python",
   "name": "python",
   "nbconvert_exporter": "python",
   "pygments_lexer": "ipython3",
   "version": "3.7.0"
  }
 },
 "nbformat": 4,
 "nbformat_minor": 2
}
