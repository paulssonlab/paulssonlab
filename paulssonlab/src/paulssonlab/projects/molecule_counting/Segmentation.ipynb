{
 "cells": [
  {
   "cell_type": "code",
   "execution_count": null,
   "metadata": {},
   "outputs": [],
   "source": [
    "import numpy as np\n",
    "import pandas as pd\n",
    "import nd2reader\n",
    "import matplotlib.pyplot as plt\n",
    "import holoviews as hv\n",
    "from holoviews.operation.datashader import regrid\n",
    "import skimage.filters\n",
    "import skimage.feature\n",
    "import scipy.ndimage\n",
    "from tqdm.autonotebook import tqdm\n",
    "import dask\n",
    "import dask.array as da\n",
    "import distributed\n",
    "from distributed import Client, LocalCluster, progress\n",
    "from dask_jobqueue import SLURMCluster\n",
    "from cytoolz import partial, compose, juxt\n",
    "from itertools import repeat\n",
    "from glob import glob\n",
    "import cachetools\n",
    "\n",
    "# import numpy_indexed\n",
    "import pickle\n",
    "\n",
    "# import pyarrow as pa\n",
    "import warnings\n",
    "import os\n",
    "from numbers import Integral\n",
    "from dask.delayed import Delayed"
   ]
  },
  {
   "cell_type": "code",
   "execution_count": null,
   "metadata": {},
   "outputs": [],
   "source": [
    "%load_ext autoreload\n",
    "%autoreload 2"
   ]
  },
  {
   "cell_type": "code",
   "execution_count": null,
   "metadata": {},
   "outputs": [],
   "source": [
    "# from segmentation import *\n",
    "# from util import *\n",
    "# from matriarch_stub import *\n",
    "import paulssonlab.projects.molecule_counting.segmentation as segmentation\n",
    "import paulssonlab.projects.molecule_counting.matriarch_stub as matriarch_stub"
   ]
  },
  {
   "cell_type": "code",
   "execution_count": null,
   "metadata": {},
   "outputs": [],
   "source": [
    "plt.rcParams[\"figure.figsize\"] = (20, 10)\n",
    "hv.extension(\"bokeh\")"
   ]
  },
  {
   "cell_type": "markdown",
   "metadata": {},
   "source": [
    "# Run"
   ]
  },
  {
   "cell_type": "code",
   "execution_count": null,
   "metadata": {},
   "outputs": [],
   "source": [
    "# dask.config.config['distributed']['scheduler']['allowed-failures'] = 20\n",
    "# dask.config.config['distributed']['worker']['memory'] = {'target': 0.4,\n",
    "#                                                         'spill': 0.5,\n",
    "#                                                         'pause': 0.9,\n",
    "#                                                         'terminate': 0.95}"
   ]
  },
  {
   "cell_type": "code",
   "execution_count": null,
   "metadata": {},
   "outputs": [],
   "source": [
    "cluster = SLURMCluster(\n",
    "    queue=\"short\",\n",
    "    walltime=\"03:00:00\",\n",
    "    memory=\"6GB\",\n",
    "    local_directory=\"/tmp\",\n",
    "    log_directory=\"/home/jqs1/projects/paulssonlab/paulssonlab/src/paulssonlab/projects/molecule_counting/log\",\n",
    "    cores=1,\n",
    "    processes=1,\n",
    "    #     job_extra=[\"-x compute-a-16-163,compute-a-16-164\"],\n",
    ")\n",
    "# diagnostics_port=('127.0.0.1', 8787),\n",
    "# env_extra=['export PYTHONPATH=\\\"/home/jqs1/projects/matriarch\\\"'])\n",
    "client = Client(cluster)"
   ]
  },
  {
   "cell_type": "code",
   "execution_count": null,
   "metadata": {},
   "outputs": [],
   "source": [
    "cluster"
   ]
  },
  {
   "cell_type": "code",
   "execution_count": null,
   "metadata": {},
   "outputs": [],
   "source": [
    "# cluster.scale(30)\n",
    "cluster.adapt(maximum=100)"
   ]
  },
  {
   "cell_type": "markdown",
   "metadata": {},
   "source": [
    "# Heterogenous cluster"
   ]
  },
  {
   "cell_type": "code",
   "execution_count": null,
   "metadata": {},
   "outputs": [],
   "source": [
    "# TODO\n",
    "# fix autothresholding: use fraction of pixels covered by components between 100 and 2000 pixels, maximum, use as guess for threshold_li\n",
    "# break up segment into sub-functions\n",
    "# handwrite frangi that works with float32, uint16 (github issue for float32 bug)\n",
    "\n",
    "# jemalloc??\n",
    "\n",
    "# memory profile regionprops\n",
    "\n",
    "# tree() that records insertion times, utility func to turn into benchmarking for each step (hierarchical inter-step times)\n",
    "# split photobleaching task into multiple sub-tasks (each is a single-threaded .compute() call)\n",
    "# pin segmentation/regionprops tasks to high-RAM nodes (in heterogenous dask cluster)\n",
    "\n",
    "# filter by FOCUS (???)\n",
    "\n",
    "# named_funcs_as_juxt: decorator to turn {'func1': func1, ('q0.5', 'q0.7'): partial(np.percentile, q=(0.5,0.7))} into a multiple-valued func\n",
    "# zarrification of labels (skip??)\n",
    "\n",
    "# pass in frame metadata to filter funcs (requires unified metadata representation)"
   ]
  },
  {
   "cell_type": "markdown",
   "metadata": {},
   "source": [
    "## Run"
   ]
  },
  {
   "cell_type": "code",
   "execution_count": null,
   "metadata": {},
   "outputs": [],
   "source": [
    "def segmentation_frame_filter(img):\n",
    "    return True\n",
    "\n",
    "\n",
    "def segmentation_labels_filter(labels, img):\n",
    "    return labels.max() < 10000"
   ]
  },
  {
   "cell_type": "code",
   "execution_count": null,
   "metadata": {},
   "outputs": [],
   "source": [
    "base_filename = \"/n/scratch2/jqs1\"\n",
    "# filenames = glob(os.path.join(base_filename, '200306/*.nd2'))"
   ]
  },
  {
   "cell_type": "code",
   "execution_count": null,
   "metadata": {},
   "outputs": [],
   "source": [
    "# TODO: try segmenting everything in phase (to reduce bias of segmenting in different channels)\n",
    "# G_GR  G_RG  G-R_GR  G-R_RG  R-G_GR  R_GR  R-G_RG  R_RG\n",
    "seg_channel_to_files = {\n",
    "    \"RFP-PENTA\": [\"200306/*.nd2\"],\n",
    "    \"YFP-DUAL\": [\"200306/*.nd2\"],\n",
    "}\n",
    "exclude = []"
   ]
  },
  {
   "cell_type": "code",
   "execution_count": null,
   "metadata": {},
   "outputs": [],
   "source": [
    "exclude = set([os.path.join(base_filename, f) for f in exclude])"
   ]
  },
  {
   "cell_type": "code",
   "execution_count": null,
   "metadata": {},
   "outputs": [],
   "source": [
    "funcs = None  # not used"
   ]
  },
  {
   "cell_type": "code",
   "execution_count": null,
   "metadata": {},
   "outputs": [],
   "source": [
    "ignore_channels = [\"BF\", \"Phase-Fluor\"]\n",
    "data_graph = {}\n",
    "for segmentation_channel, file_patterns in tqdm(seg_channel_to_files.items()):\n",
    "    for file_pattern in file_patterns:\n",
    "        data_graph.setdefault(file_pattern, {})\n",
    "        filenames = glob(os.path.join(base_filename, file_pattern))\n",
    "        if exclude:\n",
    "            filenames = list(set(filenames) - set(exclude))\n",
    "        clustered_filenames = segmentation.cluster_nd2_by_positions(\n",
    "            filenames, ignore_channels=ignore_channels, progress_bar=tqdm\n",
    "        )\n",
    "        for channel_to_file in tqdm(clustered_filenames.values()):\n",
    "            if segmentation_channel not in channel_to_file:\n",
    "                print(\n",
    "                    \"skipping {}, missing {}\".format(\n",
    "                        channel_to_file, segmentation_channel\n",
    "                    )\n",
    "                )\n",
    "                continue\n",
    "            segmentation_filename = channel_to_file[segmentation_channel]\n",
    "            channels = list(set(channel_to_file.keys()) - set(ignore_channels))\n",
    "            d = {}\n",
    "            for channel in channels:\n",
    "                d[channel] = segmentation.process_photobleaching_file(\n",
    "                    funcs,\n",
    "                    channel_to_file[channel],\n",
    "                    photobleaching_channel=channel,\n",
    "                    segmentation_filename=segmentation_filename,\n",
    "                    segmentation_channel=segmentation_channel,\n",
    "                    time_slice=slice(None),\n",
    "                    rechunk=True,\n",
    "                    segmentation_frame_filter=segmentation_frame_filter,\n",
    "                    segmentation_labels_filter=segmentation_labels_filter,\n",
    "                    phase_channels=[\"BF\", \"Phase-Fluor\"],\n",
    "                )\n",
    "            rep = d[segmentation_channel][\n",
    "                0\n",
    "            ]  # TODO: does not handle multiple FOVs in a file\n",
    "            seg_data = {\n",
    "                \"segmentation_filename\": segmentation_filename,\n",
    "                \"segmentation_channel\": segmentation_channel,\n",
    "                \"segmentation_frame\": rep[\"segmentation_frame\"],\n",
    "                \"labels\": rep[\"labels\"],\n",
    "                \"regionprops\": rep[\"regionprops\"],\n",
    "                \"traces\": {channel: d[channel][0][\"traces\"] for channel in channels},\n",
    "                \"photobleaching_filenames\": channel_to_file,\n",
    "            }\n",
    "            data_graph[file_pattern][\n",
    "                (segmentation_filename, segmentation_channel)\n",
    "            ] = seg_data"
   ]
  },
  {
   "cell_type": "code",
   "execution_count": null,
   "metadata": {},
   "outputs": [],
   "source": [
    "# split up computes so we can gather results from multiple workers\n",
    "# (otherwise the single worker assembling the dict will run out of memory)\n",
    "# TODO: use recursive_map(..., levels=?)\n",
    "data_futures = {\n",
    "    k: {k2: client.compute(v2) for k2, v2 in v.items()} for k, v in data_graph.items()\n",
    "}"
   ]
  },
  {
   "cell_type": "code",
   "execution_count": null,
   "metadata": {},
   "outputs": [],
   "source": [
    "del data_futures"
   ]
  },
  {
   "cell_type": "markdown",
   "metadata": {},
   "source": [
    "## Save data"
   ]
  },
  {
   "cell_type": "code",
   "execution_count": null,
   "metadata": {},
   "outputs": [],
   "source": [
    "data = client.gather(data_futures)"
   ]
  },
  {
   "cell_type": "code",
   "execution_count": null,
   "metadata": {},
   "outputs": [],
   "source": [
    "filename = \"/n/groups/paulsson/jqs1/molecule-counting/200329photobleaching.pickle\"\n",
    "with open(filename, \"wb\") as f:\n",
    "    pickle.dump(data, f)"
   ]
  },
  {
   "cell_type": "code",
   "execution_count": null,
   "metadata": {},
   "outputs": [],
   "source": [
    "filename = \"/n/groups/paulsson/jqs1/molecule-counting/200329photobleaching.pickle\"\n",
    "data = pickle.load(open(filename, \"rb\"))"
   ]
  },
  {
   "cell_type": "code",
   "execution_count": null,
   "metadata": {},
   "outputs": [],
   "source": [
    "{\n",
    "    k: {pos: np.asarray(d[\"labels\"]).max() for pos, d in v.items()}\n",
    "    for k, v in data.items()\n",
    "    if k[0] != \"_\"\n",
    "}"
   ]
  },
  {
   "cell_type": "markdown",
   "metadata": {},
   "source": [
    "## Quick look"
   ]
  },
  {
   "cell_type": "code",
   "execution_count": null,
   "metadata": {},
   "outputs": [],
   "source": [
    "d = data[\"200306/*.nd2\"][\n",
    "    \"/n/scratch2/jqs1/200306/mkate_200ms_100pct_mvenus_50ms_50.nd2_0050.nd2\"\n",
    "]"
   ]
  },
  {
   "cell_type": "code",
   "execution_count": null,
   "metadata": {},
   "outputs": [],
   "source": [
    "d.keys()"
   ]
  },
  {
   "cell_type": "code",
   "execution_count": null,
   "metadata": {},
   "outputs": [],
   "source": [
    "plt.imshow(d[\"segmentation_frame\"])"
   ]
  },
  {
   "cell_type": "code",
   "execution_count": null,
   "metadata": {},
   "outputs": [],
   "source": [
    "plt.imshow(matriarch_stub.permute_labels(d[\"labels\"]))"
   ]
  },
  {
   "cell_type": "code",
   "execution_count": null,
   "metadata": {},
   "outputs": [],
   "source": [
    "d[\"traces\"][\"Phase-Fluor\"][\"mean\"]"
   ]
  },
  {
   "cell_type": "code",
   "execution_count": null,
   "metadata": {},
   "outputs": [],
   "source": [
    "plt.plot(np.log(d[\"traces\"][\"YFP-DUAL\"][\"mean\"].T))"
   ]
  },
  {
   "cell_type": "code",
   "execution_count": null,
   "metadata": {},
   "outputs": [],
   "source": []
  }
 ],
 "metadata": {
  "kernelspec": {
   "display_name": "Python 3",
   "language": "python",
   "name": "python3"
  },
  "language_info": {
   "codemirror_mode": {
    "name": "ipython",
    "version": 3
   },
   "file_extension": ".py",
   "mimetype": "text/x-python",
   "name": "python",
   "nbconvert_exporter": "python",
   "pygments_lexer": "ipython3",
   "version": "3.8.2"
  }
 },
 "nbformat": 4,
 "nbformat_minor": 4
}
