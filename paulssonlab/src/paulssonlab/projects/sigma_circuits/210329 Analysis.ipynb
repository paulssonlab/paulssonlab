{
 "cells": [
  {
   "cell_type": "code",
   "execution_count": null,
   "id": "impaired-speaker",
   "metadata": {},
   "outputs": [],
   "source": [
    "import numpy as np\n",
    "import pandas as pd\n",
    "import matplotlib.pyplot as plt\n",
    "import holoviews as hv\n",
    "import hvplot.pandas\n",
    "import pickle"
   ]
  },
  {
   "cell_type": "code",
   "execution_count": null,
   "id": "whole-implementation",
   "metadata": {},
   "outputs": [],
   "source": [
    "plt.rcParams[\"figure.figsize\"] = (20, 10)\n",
    "hv.extension(\"bokeh\")"
   ]
  },
  {
   "cell_type": "markdown",
   "id": "surface-james",
   "metadata": {},
   "source": [
    "# Load data"
   ]
  },
  {
   "cell_type": "code",
   "execution_count": null,
   "id": "quick-sacramento",
   "metadata": {},
   "outputs": [],
   "source": [
    "filename = \"/n/groups/paulsson/jqs1/sigma-circuits/210329flippedpwm2.pickle\"\n",
    "data = pickle.load(open(filename, \"rb\"))"
   ]
  },
  {
   "cell_type": "code",
   "execution_count": null,
   "id": "backed-beginning",
   "metadata": {},
   "outputs": [],
   "source": [
    "filename = \"/n/groups/paulsson/jqs1/sigma-circuits/210329flippedpwm4.pickle\"\n",
    "data = pickle.load(open(filename, \"rb\"))"
   ]
  },
  {
   "cell_type": "markdown",
   "id": "ongoing-regular",
   "metadata": {},
   "source": [
    "# Analysis"
   ]
  },
  {
   "cell_type": "code",
   "execution_count": null,
   "id": "chinese-excerpt",
   "metadata": {},
   "outputs": [],
   "source": [
    "data[\"area\"].groupby([\"pos\", \"t\"]).mean().hvplot.line(by=\"pos\")"
   ]
  },
  {
   "cell_type": "code",
   "execution_count": null,
   "id": "closed-generic",
   "metadata": {},
   "outputs": [],
   "source": [
    "data[\"area\"].groupby([\"pos\", \"t\"]).quantile(0.75).reset_index().hvplot.line(\n",
    "    \"t\", \"area\", by=\"pos\"\n",
    ")"
   ]
  },
  {
   "cell_type": "code",
   "execution_count": null,
   "id": "regulated-villa",
   "metadata": {},
   "outputs": [],
   "source": [
    "mean_fluorescence = (\n",
    "    data[data[\"area\"].between(100, 450)][\"mean_intensity\"].groupby([\"pos\", \"t\"]).mean()\n",
    ")"
   ]
  },
  {
   "cell_type": "code",
   "execution_count": null,
   "id": "guilty-ethernet",
   "metadata": {},
   "outputs": [],
   "source": [
    "mean_fluorescence.reset_index().hvplot.line(\"t\", \"mean_intensity\", by=\"pos\", logy=True)"
   ]
  },
  {
   "cell_type": "code",
   "execution_count": null,
   "id": "incoming-technical",
   "metadata": {},
   "outputs": [],
   "source": []
  },
  {
   "cell_type": "code",
   "execution_count": null,
   "id": "breeding-utilization",
   "metadata": {},
   "outputs": [],
   "source": [
    "from astropy.stats import mad_std, sigma_clip\n",
    "\n",
    "m_int = data[\n",
    "    data[\"area\"].between(100, 450) & data[\"mean_intensity\"].between(100, 5000)\n",
    "][\"mean_intensity\"].loc[[16, 53, 63, 95, 123, 149]]\n",
    "dslice = m_int.groupby([\"pos\", \"t\"]).apply(\n",
    "    lambda y: sigma_clip(y, sigma=2, maxiters=10, masked=False)\n",
    ")\n",
    "mf = dslice.apply(np.mean)\n",
    "\n",
    "sf = dslice.apply(np.std)\n",
    "\n",
    "r = pd.DataFrame({\"stdm\": mf - sf, \"stdp\": mf + sf})\n",
    "means = mf.reset_index().hvplot.line(\"t\", \"mean_intensity\", by=\"pos\", logy=True)\n",
    "errors = r.hvplot.area(\n",
    "    x=\"t\", y=\"stdm\", y2=\"stdp\", by=\"pos\", stacked=False, alpha=0.2, logy=True\n",
    ").opts(width=1000, height=500)\n",
    "IPTG_starts = (\n",
    "    hv.VLine(12).opts(alpha=0.5, color=\"blue\")\n",
    "    * hv.VLine(60).opts(alpha=0.5, color=\"blue\")\n",
    "    * hv.VLine(108).opts(alpha=0.5, color=\"blue\")\n",
    "    * hv.VLine(156).opts(alpha=0.5, color=\"blue\")\n",
    ")\n",
    "EZ_starts = (\n",
    "    hv.VLine(30).opts(alpha=0.5, color=\"grey\")\n",
    "    * hv.VLine(78).opts(alpha=0.5, color=\"grey\")\n",
    "    * hv.VLine(126).opts(alpha=0.5, color=\"grey\")\n",
    "    * hv.VLine(174).opts(alpha=0.5, color=\"grey\")\n",
    ")\n",
    "aTc_starts = (\n",
    "    hv.VLine(42).opts(alpha=0.5, color=\"red\")\n",
    "    * hv.VLine(90).opts(alpha=0.5, color=\"red\")\n",
    "    * hv.VLine(138).opts(alpha=0.5, color=\"red\")\n",
    "    * hv.VLine(186).opts(alpha=0.5, color=\"red\")\n",
    ")\n",
    "\n",
    "means * errors * IPTG_starts * EZ_starts * aTc_starts"
   ]
  },
  {
   "cell_type": "code",
   "execution_count": null,
   "id": "residential-processing",
   "metadata": {},
   "outputs": [],
   "source": [
    "rlabels = [\"A\", \"B\", \"C\", \"D\", \"E\", \"F\", \"G\", \"H\"]\n",
    "\n",
    "\n",
    "def rgroup(pos):\n",
    "    return rlabels[int(np.floor(pos / 20))]\n",
    "\n",
    "\n",
    "df = data.reset_index()\n",
    "df[\"pos\"] = df[\"pos\"].apply(rgroup)"
   ]
  },
  {
   "cell_type": "code",
   "execution_count": null,
   "id": "bright-tissue",
   "metadata": {
    "tags": []
   },
   "outputs": [],
   "source": [
    "from astropy.stats import mad_std, sigma_clip\n",
    "\n",
    "m_int = df[\n",
    "    df[\"area\"].between(300, 1500)\n",
    "    & df[\"GFP-PENTA\"].between(100, 5000)\n",
    "    & df[\"pos\"].isin([\"A\", \"C\", \"D\", \"E\", \"G\", \"H\"])\n",
    "][[\"GFP-PENTA\", \"pos\", \"t\"]]\n",
    "dslice = m_int.groupby([\"pos\", \"t\"]).apply(\n",
    "    lambda y: sigma_clip(y, sigma=2, maxiters=10, masked=False)\n",
    ")\n",
    "mf = dslice.apply(np.mean)\n",
    "sf = dslice.apply(np.std)\n",
    "\n",
    "r = pd.DataFrame({\"stdm\": mf - sf, \"stdp\": mf + sf})\n",
    "means = mf.hvplot.line(\"t\", by=\"pos\", logy=True)\n",
    "errors = r.hvplot.area(\n",
    "    x=\"t\", y=\"stdm\", y2=\"stdp\", by=\"pos\", stacked=False, alpha=0.2, logy=True\n",
    ")\n",
    "\n",
    "line_alpha = 0.2\n",
    "IPTG_starts = (\n",
    "    hv.VLine(12).opts(alpha=line_alpha, color=\"blue\")\n",
    "    * hv.VLine(60).opts(alpha=line_alpha, color=\"blue\")\n",
    "    * hv.VLine(108).opts(alpha=line_alpha, color=\"blue\")\n",
    "    * hv.VLine(156).opts(alpha=line_alpha, color=\"blue\")\n",
    ")\n",
    "EZ_starts = (\n",
    "    hv.VLine(30).opts(alpha=line_alpha, color=\"grey\")\n",
    "    * hv.VLine(78).opts(alpha=line_alpha, color=\"grey\")\n",
    "    * hv.VLine(126).opts(alpha=line_alpha, color=\"grey\")\n",
    "    * hv.VLine(174).opts(alpha=line_alpha, color=\"grey\")\n",
    ")\n",
    "aTc_starts = (\n",
    "    hv.VLine(42).opts(alpha=line_alpha, color=\"red\")\n",
    "    * hv.VLine(90).opts(alpha=line_alpha, color=\"red\")\n",
    "    * hv.VLine(138).opts(alpha=line_alpha, color=\"red\")\n",
    "    * hv.VLine(186).opts(alpha=line_alpha, color=\"red\")\n",
    ")\n",
    "\n",
    "# (IPTG_starts*EZ_starts*aTc_starts*means*errors).opts(width=1000,height=400)\n",
    "(means * errors).opts(width=1000, height=400)"
   ]
  },
  {
   "cell_type": "code",
   "execution_count": null,
   "id": "crucial-string",
   "metadata": {},
   "outputs": [],
   "source": []
  },
  {
   "cell_type": "code",
   "execution_count": null,
   "id": "historic-encyclopedia",
   "metadata": {},
   "outputs": [],
   "source": []
  }
 ],
 "metadata": {
  "kernelspec": {
   "display_name": "Python 3",
   "language": "python",
   "name": "python3"
  },
  "language_info": {
   "codemirror_mode": {
    "name": "ipython",
    "version": 3
   },
   "file_extension": ".py",
   "mimetype": "text/x-python",
   "name": "python",
   "nbconvert_exporter": "python",
   "pygments_lexer": "ipython3",
   "version": "3.9.2"
  }
 },
 "nbformat": 4,
 "nbformat_minor": 5
}
