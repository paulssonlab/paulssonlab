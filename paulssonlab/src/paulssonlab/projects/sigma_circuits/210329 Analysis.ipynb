{
 "cells": [
  {
   "cell_type": "code",
   "execution_count": null,
   "id": "caring-luxury",
   "metadata": {},
   "outputs": [],
   "source": [
    "import numpy as np\n",
    "import pandas as pd\n",
    "import matplotlib.pyplot as plt\n",
    "import holoviews as hv\n",
    "import hvplot.pandas\n",
    "import pickle"
   ]
  },
  {
   "cell_type": "code",
   "execution_count": null,
   "id": "fuzzy-macro",
   "metadata": {},
   "outputs": [],
   "source": [
    "plt.rcParams[\"figure.figsize\"] = (20, 10)\n",
    "hv.extension(\"bokeh\")"
   ]
  },
  {
   "cell_type": "markdown",
   "id": "regulation-operation",
   "metadata": {},
   "source": [
    "# Load data"
   ]
  },
  {
   "cell_type": "code",
   "execution_count": null,
   "id": "successful-american",
   "metadata": {},
   "outputs": [],
   "source": [
    "filename = \"/n/groups/paulsson/jqs1/sigma-circuits/210329flippedpwm2.pickle\"\n",
    "data = pickle.load(open(filename, \"rb\"))"
   ]
  },
  {
   "cell_type": "markdown",
   "id": "wicked-connectivity",
   "metadata": {},
   "source": [
    "# Analysis"
   ]
  },
  {
   "cell_type": "code",
   "execution_count": null,
   "id": "extraordinary-incidence",
   "metadata": {},
   "outputs": [],
   "source": [
    "data[\"area\"].groupby([\"pos\", \"t\"]).mean().hvplot.line(by=\"pos\")"
   ]
  },
  {
   "cell_type": "code",
   "execution_count": null,
   "id": "determined-click",
   "metadata": {},
   "outputs": [],
   "source": [
    "data[\"area\"].groupby([\"pos\", \"t\"]).quantile(0.75).reset_index().hvplot.line(\n",
    "    \"t\", \"area\", by=\"pos\"\n",
    ")"
   ]
  },
  {
   "cell_type": "code",
   "execution_count": null,
   "id": "corporate-arlington",
   "metadata": {},
   "outputs": [],
   "source": [
    "mean_fluorescence = (\n",
    "    data[data[\"area\"].between(100, 450)][\"mean_intensity\"].groupby([\"pos\", \"t\"]).mean()\n",
    ")"
   ]
  },
  {
   "cell_type": "code",
   "execution_count": null,
   "id": "friendly-novelty",
   "metadata": {},
   "outputs": [],
   "source": [
    "mean_fluorescence.reset_index().hvplot.line(\"t\", \"mean_intensity\", by=\"pos\", logy=True)"
   ]
  },
  {
   "cell_type": "code",
   "execution_count": null,
   "id": "aerial-roman",
   "metadata": {},
   "outputs": [],
   "source": []
  }
 ],
 "metadata": {
  "kernelspec": {
   "display_name": "Python 3",
   "language": "python",
   "name": "python3"
  },
  "language_info": {
   "codemirror_mode": {
    "name": "ipython",
    "version": 3
   },
   "file_extension": ".py",
   "mimetype": "text/x-python",
   "name": "python",
   "nbconvert_exporter": "python",
   "pygments_lexer": "ipython3",
   "version": "3.9.2"
  }
 },
 "nbformat": 4,
 "nbformat_minor": 5
}
