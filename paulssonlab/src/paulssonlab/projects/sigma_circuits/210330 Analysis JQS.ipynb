{
 "cells": [
  {
   "cell_type": "code",
   "execution_count": null,
   "id": "female-guide",
   "metadata": {},
   "outputs": [],
   "source": [
    "import numpy as np\n",
    "import pandas as pd\n",
    "from astropy.stats import mad_std, sigma_clip\n",
    "import re\n",
    "import matplotlib.pyplot as plt\n",
    "import holoviews as hv\n",
    "import hvplot.pandas\n",
    "from cytoolz import get_in\n",
    "from astropy.time import Time\n",
    "from datetime import datetime, timedelta\n",
    "from pathlib import Path\n",
    "import pickle\n",
    "\n",
    "IDX = pd.IndexSlice"
   ]
  },
  {
   "cell_type": "code",
   "execution_count": null,
   "id": "broke-rugby",
   "metadata": {},
   "outputs": [],
   "source": [
    "%load_ext autoreload\n",
    "%autoreload 2"
   ]
  },
  {
   "cell_type": "code",
   "execution_count": null,
   "id": "communist-business",
   "metadata": {},
   "outputs": [],
   "source": [
    "import paulssonlab.projects.sigma_circuits.segmentation as segmentation\n",
    "import paulssonlab.projects.sigma_circuits.matriarch_stub as matriarch_stub\n",
    "import paulssonlab.projects.sigma_circuits.experiment as experiment\n",
    "import paulssonlab.io.metadata as metadata"
   ]
  },
  {
   "cell_type": "code",
   "execution_count": null,
   "id": "sweet-lover",
   "metadata": {},
   "outputs": [],
   "source": [
    "plt.rcParams[\"figure.figsize\"] = (20, 10)\n",
    "hv.extension(\"bokeh\")"
   ]
  },
  {
   "cell_type": "markdown",
   "id": "informative-attack",
   "metadata": {},
   "source": [
    "# Load data"
   ]
  },
  {
   "cell_type": "code",
   "execution_count": null,
   "id": "hindu-textbook",
   "metadata": {},
   "outputs": [],
   "source": [
    "# nd2_filename = \"/n/scratch3/groups/hms/sysbio/paulsson/jqs1/210324/PWM_flipped.nd2\"\n",
    "nd2_filename2 = \"/n/scratch3/groups/hms/sysbio/paulsson/jqs1/210204/psc101_bistable.nd2\""
   ]
  },
  {
   "cell_type": "code",
   "execution_count": null,
   "id": "international-score",
   "metadata": {},
   "outputs": [],
   "source": [
    "nd2 = matriarch_stub.get_nd2_reader(nd2_filename)"
   ]
  },
  {
   "cell_type": "code",
   "execution_count": null,
   "id": "occasional-parking",
   "metadata": {},
   "outputs": [],
   "source": [
    "# filename = \"/n/groups/paulsson/jqs1/sigma-circuits/210329_expt210324flipped.pickle\"\n",
    "filename = (\n",
    "    \"/n/groups/paulsson/jqs1/sigma-circuits/210329_expt210204nonflipped_psc101.pickle\"\n",
    ")\n",
    "data = pickle.load(open(filename, \"rb\"))\n",
    "df = data[\"table\"]\n",
    "md = data[\"metadata\"]"
   ]
  },
  {
   "cell_type": "markdown",
   "id": "plain-indonesian",
   "metadata": {},
   "source": [
    "# Date"
   ]
  },
  {
   "cell_type": "code",
   "execution_count": null,
   "id": "annual-letters",
   "metadata": {},
   "outputs": [],
   "source": [
    "md.keys()"
   ]
  },
  {
   "cell_type": "code",
   "execution_count": null,
   "id": "wooden-pricing",
   "metadata": {},
   "outputs": [],
   "source": [
    "x = md[\"acquisition_times\"]\n",
    "(x[:100], x[-100:])"
   ]
  },
  {
   "cell_type": "code",
   "execution_count": null,
   "id": "direct-ebony",
   "metadata": {},
   "outputs": [],
   "source": [
    "import array"
   ]
  },
  {
   "cell_type": "code",
   "execution_count": null,
   "id": "fluid-candidate",
   "metadata": {},
   "outputs": [],
   "source": [
    "24729414.28245997"
   ]
  },
  {
   "cell_type": "code",
   "execution_count": null,
   "id": "suffering-device",
   "metadata": {},
   "outputs": [],
   "source": [
    "1.84467432e13"
   ]
  },
  {
   "cell_type": "code",
   "execution_count": null,
   "id": "ideal-plaintiff",
   "metadata": {},
   "outputs": [],
   "source": [
    "label = \"acquisition_times\"\n",
    "chunk_location = getattr(nd2.parser._label_map, label)\n",
    "raw_data = nd2reader.common.read_chunk(nd2._fh, chunk_location)\n",
    "raw_ary = np.array(array.array(\"d\", raw_data))\n",
    "(raw_ary[:20], raw_ary[-20:])"
   ]
  },
  {
   "cell_type": "code",
   "execution_count": null,
   "id": "representative-fourth",
   "metadata": {},
   "outputs": [],
   "source": [
    "nd2.parser._label_map.acquisition_times"
   ]
  },
  {
   "cell_type": "code",
   "execution_count": null,
   "id": "systematic-coordinator",
   "metadata": {},
   "outputs": [],
   "source": [
    "md"
   ]
  },
  {
   "cell_type": "code",
   "execution_count": null,
   "id": "roman-strengthening",
   "metadata": {},
   "outputs": [],
   "source": [
    "md[\"acquisition_times\"][:]"
   ]
  },
  {
   "cell_type": "code",
   "execution_count": null,
   "id": "ecological-freeze",
   "metadata": {},
   "outputs": [],
   "source": [
    "x = md[\"acquisition_times\"][:] != md[\"acquisition_times\"][-1]"
   ]
  },
  {
   "cell_type": "code",
   "execution_count": null,
   "id": "sound-nitrogen",
   "metadata": {},
   "outputs": [],
   "source": [
    "sum(x)"
   ]
  },
  {
   "cell_type": "code",
   "execution_count": null,
   "id": "actual-devil",
   "metadata": {},
   "outputs": [],
   "source": [
    "grid_df = experiment.get_grid(nd2)"
   ]
  },
  {
   "cell_type": "code",
   "execution_count": null,
   "id": "outside-observer",
   "metadata": {},
   "outputs": [],
   "source": [
    "acq_times = np.fromiter(nd2._parser._raw_metadata.acquisition_times, dtype=np.float64)"
   ]
  },
  {
   "cell_type": "code",
   "execution_count": null,
   "id": "extended-black",
   "metadata": {},
   "outputs": [],
   "source": [
    "dtimeabsolute = get_in(\n",
    "    (b\"SLxPictureMetadata\", b\"dTimeAbsolute\"),\n",
    "    nd2._parser._raw_metadata.image_metadata_sequence,\n",
    ")\n",
    "dtimemsec = get_in(\n",
    "    (b\"SLxPictureMetadata\", b\"dTimeMSec\"),\n",
    "    nd2._parser._raw_metadata.image_metadata_sequence,\n",
    ")\n",
    "tdelta = timedelta(milliseconds=dtimemsec)"
   ]
  },
  {
   "cell_type": "code",
   "execution_count": null,
   "id": "removed-officer",
   "metadata": {},
   "outputs": [],
   "source": [
    "tdelta.total_seconds()"
   ]
  },
  {
   "cell_type": "code",
   "execution_count": null,
   "id": "assisted-midnight",
   "metadata": {},
   "outputs": [],
   "source": [
    "(acq_times[-1] - acq_times[0]) / 60 / 60"
   ]
  },
  {
   "cell_type": "code",
   "execution_count": null,
   "id": "affected-multiple",
   "metadata": {},
   "outputs": [],
   "source": [
    "x = np.diff(acq_times)\n",
    "y = x[x < 100]"
   ]
  },
  {
   "cell_type": "code",
   "execution_count": null,
   "id": "obvious-darkness",
   "metadata": {},
   "outputs": [],
   "source": [
    "x[5000]"
   ]
  },
  {
   "cell_type": "code",
   "execution_count": null,
   "id": "measured-recovery",
   "metadata": {},
   "outputs": [],
   "source": [
    "plt.hist(y, bins=50)"
   ]
  },
  {
   "cell_type": "code",
   "execution_count": null,
   "id": "concrete-allah",
   "metadata": {},
   "outputs": [],
   "source": [
    "len(acq_times)"
   ]
  },
  {
   "cell_type": "code",
   "execution_count": null,
   "id": "japanese-state",
   "metadata": {},
   "outputs": [],
   "source": [
    "dtimeabsolute"
   ]
  },
  {
   "cell_type": "code",
   "execution_count": null,
   "id": "instant-cameroon",
   "metadata": {},
   "outputs": [],
   "source": [
    "t = Time(dtimeabsolute, format=\"jd\")"
   ]
  },
  {
   "cell_type": "code",
   "execution_count": null,
   "id": "recorded-instrument",
   "metadata": {},
   "outputs": [],
   "source": [
    "t.to_datetime()"
   ]
  },
  {
   "cell_type": "code",
   "execution_count": null,
   "id": "mighty-trader",
   "metadata": {},
   "outputs": [],
   "source": [
    "dtimemsec"
   ]
  },
  {
   "cell_type": "code",
   "execution_count": null,
   "id": "metallic-signature",
   "metadata": {},
   "outputs": [],
   "source": [
    "nd2._parser._raw_metadata.acquisition_times??"
   ]
  },
  {
   "cell_type": "code",
   "execution_count": null,
   "id": "light-minority",
   "metadata": {},
   "outputs": [],
   "source": [
    "acq_times"
   ]
  },
  {
   "cell_type": "code",
   "execution_count": null,
   "id": "consecutive-microwave",
   "metadata": {},
   "outputs": [],
   "source": [
    "len(acq_times)"
   ]
  },
  {
   "cell_type": "code",
   "execution_count": null,
   "id": "overhead-rider",
   "metadata": {},
   "outputs": [],
   "source": [
    "df"
   ]
  },
  {
   "cell_type": "code",
   "execution_count": null,
   "id": "dramatic-discipline",
   "metadata": {},
   "outputs": [],
   "source": [
    "grid_df"
   ]
  },
  {
   "cell_type": "code",
   "execution_count": null,
   "id": "separate-tension",
   "metadata": {},
   "outputs": [],
   "source": [
    "from itertools import product"
   ]
  },
  {
   "cell_type": "code",
   "execution_count": null,
   "id": "cognitive-worry",
   "metadata": {},
   "outputs": [],
   "source": [
    "sizes = nd2.sizes"
   ]
  },
  {
   "cell_type": "code",
   "execution_count": null,
   "id": "awful-category",
   "metadata": {},
   "outputs": [],
   "source": [
    "rows, cols = np.meshgrid(np.arange(sizes[\"v\"]), np.arange(sizes[\"t\"]))"
   ]
  },
  {
   "cell_type": "code",
   "execution_count": null,
   "id": "lasting-fabric",
   "metadata": {},
   "outputs": [],
   "source": [
    "pd.DataFrame({\"pos\": rows.ravel(), \"t\": cols.ravel(), \"time\": })"
   ]
  },
  {
   "cell_type": "code",
   "execution_count": null,
   "id": "acoustic-lightweight",
   "metadata": {},
   "outputs": [],
   "source": [
    "# pd.DataFrame(ziplist(product(range(sizes[\"v\"]), range(sizes[\"t\"])))[-1])"
   ]
  },
  {
   "cell_type": "code",
   "execution_count": null,
   "id": "impressive-folks",
   "metadata": {},
   "outputs": [],
   "source": [
    "df"
   ]
  },
  {
   "cell_type": "markdown",
   "id": "contemporary-offering",
   "metadata": {},
   "source": [
    "# Filtered"
   ]
  },
  {
   "cell_type": "code",
   "execution_count": null,
   "id": "bright-framing",
   "metadata": {},
   "outputs": [],
   "source": [
    "%%time\n",
    "cells = df.join(grid_df).reset_index()\n",
    "filtered_cells = cells[\n",
    "    cells[\"area\"].between(300, 1500)\n",
    "    & cells[\"GFP-PENTA\"].between(100, 5000)\n",
    "    & cells[\"row\"].isin([\"A\", \"C\", \"D\", \"E\", \"G\", \"H\"])\n",
    "][[\"GFP-PENTA\", \"row\", \"t\"]]\n",
    "\n",
    "filtered_cells2 = filtered_cells.groupby([\"row\", \"t\"]).apply(\n",
    "    lambda y: sigma_clip(y, sigma=2, maxiters=10, masked=False)\n",
    ")\n",
    "\n",
    "means = filtered_cells2.apply(np.mean)\n",
    "sigmas = filtered_cells2.apply(np.std)\n",
    "\n",
    "limits = pd.DataFrame({\"lower\": means - sigmas, \"upper\": means + sigmas})\n",
    "mean_plot = means.hvplot.line(\"t\", by=\"row\", logy=True)\n",
    "noise_plot = limits.hvplot.area(\n",
    "    x=\"t\", y=\"lower\", y2=\"upper\", by=\"row\", stacked=False, alpha=0.2, logy=True\n",
    ")\n",
    "\n",
    "# line_alpha = 0.2\n",
    "# IPTG_starts = (\n",
    "#     hv.VLine(12).opts(alpha=line_alpha, color=\"blue\")\n",
    "#     * hv.VLine(60).opts(alpha=line_alpha, color=\"blue\")\n",
    "#     * hv.VLine(108).opts(alpha=line_alpha, color=\"blue\")\n",
    "#     * hv.VLine(156).opts(alpha=line_alpha, color=\"blue\")\n",
    "# )\n",
    "# EZ_starts = (\n",
    "#     hv.VLine(30).opts(alpha=line_alpha, color=\"grey\")\n",
    "#     * hv.VLine(78).opts(alpha=line_alpha, color=\"grey\")\n",
    "#     * hv.VLine(126).opts(alpha=line_alpha, color=\"grey\")\n",
    "#     * hv.VLine(174).opts(alpha=line_alpha, color=\"grey\")\n",
    "# )\n",
    "# aTc_starts = (\n",
    "#     hv.VLine(42).opts(alpha=line_alpha, color=\"red\")\n",
    "#     * hv.VLine(90).opts(alpha=line_alpha, color=\"red\")\n",
    "#     * hv.VLine(138).opts(alpha=line_alpha, color=\"red\")\n",
    "#     * hv.VLine(186).opts(alpha=line_alpha, color=\"red\")\n",
    "# )\n",
    "\n",
    "# (IPTG_starts*EZ_starts*aTc_starts*means*errors).opts(width=1000,height=400)\n",
    "# (means * errors).opts(width=1000, height=400)"
   ]
  },
  {
   "cell_type": "code",
   "execution_count": null,
   "id": "chief-drinking",
   "metadata": {},
   "outputs": [],
   "source": [
    "(mean_plot * noise_plot).opts(width=800, height=400)"
   ]
  },
  {
   "cell_type": "code",
   "execution_count": null,
   "id": "stunning-class",
   "metadata": {},
   "outputs": [],
   "source": []
  }
 ],
 "metadata": {
  "kernelspec": {
   "display_name": "Python 3",
   "language": "python",
   "name": "python3"
  },
  "language_info": {
   "codemirror_mode": {
    "name": "ipython",
    "version": 3
   },
   "file_extension": ".py",
   "mimetype": "text/x-python",
   "name": "python",
   "nbconvert_exporter": "python",
   "pygments_lexer": "ipython3",
   "version": "3.9.2"
  }
 },
 "nbformat": 4,
 "nbformat_minor": 5
}
