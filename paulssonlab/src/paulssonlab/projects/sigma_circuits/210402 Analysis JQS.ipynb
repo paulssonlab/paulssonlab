{
 "cells": [
  {
   "cell_type": "code",
   "execution_count": null,
   "id": "informed-centre",
   "metadata": {},
   "outputs": [],
   "source": [
    "import numpy as np\n",
    "import pandas as pd\n",
    "from astropy.stats import mad_std, sigma_clip\n",
    "import re\n",
    "import matplotlib.pyplot as plt\n",
    "import holoviews as hv\n",
    "import hvplot.pandas\n",
    "from cytoolz import get_in\n",
    "from astropy.time import Time\n",
    "from datetime import datetime, timedelta\n",
    "from pathlib import Path\n",
    "import pickle\n",
    "\n",
    "IDX = pd.IndexSlice"
   ]
  },
  {
   "cell_type": "code",
   "execution_count": null,
   "id": "southwest-resource",
   "metadata": {},
   "outputs": [],
   "source": [
    "%load_ext autoreload\n",
    "%autoreload 2"
   ]
  },
  {
   "cell_type": "code",
   "execution_count": null,
   "id": "bulgarian-cotton",
   "metadata": {},
   "outputs": [],
   "source": [
    "import paulssonlab.projects.sigma_circuits.segmentation as segmentation\n",
    "import paulssonlab.projects.sigma_circuits.matriarch_stub as matriarch_stub\n",
    "import paulssonlab.projects.sigma_circuits.experiment as experiment\n",
    "import paulssonlab.io.metadata as metadata"
   ]
  },
  {
   "cell_type": "code",
   "execution_count": null,
   "id": "dimensional-sleeve",
   "metadata": {},
   "outputs": [],
   "source": [
    "plt.rcParams[\"figure.figsize\"] = (20, 10)\n",
    "hv.extension(\"bokeh\")"
   ]
  },
  {
   "cell_type": "markdown",
   "id": "confident-substance",
   "metadata": {},
   "source": [
    "# Load data"
   ]
  },
  {
   "cell_type": "code",
   "execution_count": null,
   "id": "tropical-interval",
   "metadata": {},
   "outputs": [],
   "source": [
    "# nd2_filename = \"/n/scratch3/groups/hms/sysbio/paulsson/jqs1/210324/PWM_flipped.nd2\"\n",
    "# nd2_filename2 = \"/n/scratch3/groups/hms/sysbio/paulsson/jqs1/210204/psc101_bistable.nd2\""
   ]
  },
  {
   "cell_type": "code",
   "execution_count": null,
   "id": "designed-international",
   "metadata": {},
   "outputs": [],
   "source": [
    "# nd2 = matriarch_stub.get_nd2_reader(nd2_filename)"
   ]
  },
  {
   "cell_type": "code",
   "execution_count": null,
   "id": "responsible-technology",
   "metadata": {},
   "outputs": [],
   "source": [
    "# filename = \"/n/groups/paulsson/jqs1/sigma-circuits/210329_expt210324flipped.pickle\"\n",
    "# filename = \"/n/groups/paulsson/jqs1/sigma-circuits/210329_expt210204nonflipped_psc101.pickle\"\n",
    "# filename = \"/n/groups/paulsson/jqs1/sigma-circuits/210402_expt210331ramp.pickle\"\n",
    "# filename = \"/n/groups/paulsson/jqs1/sigma-circuits/210507_expt210505.pickle\"\n",
    "# filename = \"/n/groups/paulsson/jqs1/sigma-circuits/210514_expt210511.pickle\"\n",
    "filename = \"/n/groups/paulsson/jqs1/sigma-circuits/210605_expt210602_2.pickle\"\n",
    "data = pickle.load(open(filename, \"rb\"))\n",
    "df = data[\"table\"]\n",
    "md = data[\"metadata\"]\n",
    "mux_log = data[\"mux_log\"]\n",
    "experiment_txt = data[\"experiment.txt\"]\n",
    "grid_df = data[\"grid\"]"
   ]
  },
  {
   "cell_type": "markdown",
   "id": "confirmed-drinking",
   "metadata": {},
   "source": [
    "# Acquisition times"
   ]
  },
  {
   "cell_type": "code",
   "execution_count": null,
   "id": "played-donna",
   "metadata": {
    "tags": []
   },
   "outputs": [],
   "source": [
    "md.keys()"
   ]
  },
  {
   "cell_type": "code",
   "execution_count": null,
   "id": "portuguese-beginning",
   "metadata": {
    "tags": []
   },
   "outputs": [],
   "source": [
    "dtimeabsolute = get_in(\n",
    "    (\"SLxPictureMetadata\", \"dTimeAbsolute\"),\n",
    "    md[\"image_metadata_sequence\"],\n",
    ")\n",
    "dtimeabsolute = Time(dtimeabsolute, format=\"jd\").to_datetime()\n",
    "dtimemsec = get_in(\n",
    "    (\"SLxPictureMetadata\", \"dTimeMSec\"),\n",
    "    md[\"image_metadata_sequence\"],\n",
    ")\n",
    "tdelta = timedelta(milliseconds=dtimemsec)"
   ]
  },
  {
   "cell_type": "code",
   "execution_count": null,
   "id": "encouraging-trustee",
   "metadata": {
    "tags": []
   },
   "outputs": [],
   "source": [
    "tdelta.total_seconds()"
   ]
  },
  {
   "cell_type": "code",
   "execution_count": null,
   "id": "medical-complement",
   "metadata": {
    "tags": []
   },
   "outputs": [],
   "source": [
    "first_position_times = md[\"acquisition_times\"][:: len(grid_df)] / 1e3  # seconds"
   ]
  },
  {
   "cell_type": "code",
   "execution_count": null,
   "id": "gorgeous-awareness",
   "metadata": {
    "tags": []
   },
   "outputs": [],
   "source": [
    "last_good_cycle = np.argmax(np.diff(first_position_times) == 0) - 1"
   ]
  },
  {
   "cell_type": "code",
   "execution_count": null,
   "id": "laughing-holocaust",
   "metadata": {
    "tags": []
   },
   "outputs": [],
   "source": [
    "seconds_per_timepoint = first_position_times[last_good_cycle] / last_good_cycle"
   ]
  },
  {
   "cell_type": "code",
   "execution_count": null,
   "id": "otherwise-description",
   "metadata": {
    "tags": []
   },
   "outputs": [],
   "source": [
    "mux_times = [m[0] for m in mux_log]"
   ]
  },
  {
   "cell_type": "code",
   "execution_count": null,
   "id": "negative-cookbook",
   "metadata": {
    "tags": []
   },
   "outputs": [],
   "source": [
    "mux_timepoints = [\n",
    "    (m - dtimeabsolute).total_seconds() / seconds_per_timepoint for m in mux_times\n",
    "]"
   ]
  },
  {
   "cell_type": "code",
   "execution_count": null,
   "id": "acoustic-tours",
   "metadata": {
    "tags": []
   },
   "outputs": [],
   "source": [
    "mux_timepoints"
   ]
  },
  {
   "cell_type": "code",
   "execution_count": null,
   "id": "suspected-anger",
   "metadata": {
    "tags": []
   },
   "outputs": [],
   "source": [
    "mux_timepoints2 = [\n",
    "    np.argmax((m - dtimeabsolute).total_seconds() <= first_position_times)\n",
    "    for m in mux_times\n",
    "]"
   ]
  },
  {
   "cell_type": "code",
   "execution_count": null,
   "id": "persistent-pendant",
   "metadata": {
    "tags": []
   },
   "outputs": [],
   "source": [
    "mux_timepoints2"
   ]
  },
  {
   "cell_type": "code",
   "execution_count": null,
   "id": "dimensional-gathering",
   "metadata": {
    "tags": []
   },
   "outputs": [],
   "source": [
    "plt.plot(md[\"acquisition_times\"][:5000])"
   ]
  },
  {
   "cell_type": "markdown",
   "id": "recreational-coffee",
   "metadata": {},
   "source": [
    "# Filtered"
   ]
  },
  {
   "cell_type": "code",
   "execution_count": null,
   "id": "forward-basketball",
   "metadata": {},
   "outputs": [],
   "source": [
    "%%time\n",
    "cells = df.join(grid_df).reset_index()\n",
    "cells.t = cells.t * 15 / 60\n",
    "filtered_cells = cells[\n",
    "    cells[\"area\"].between(200, 800)\n",
    "    & cells[\"GFP-PENTA\"].between(300, 5000)\n",
    "    & cells[\"row\"].isin([\"A\", \"B\", \"C\", \"D\", \"F\", \"G\", \"H\"])\n",
    "    #     & cells[\"RFP-PENTA\"].between(800, 1200)\n",
    "][[\"GFP-PENTA\", \"row\", \"t\"]]\n",
    "\n",
    "filtered_cells2 = filtered_cells.groupby([\"row\", \"t\"]).apply(\n",
    "    lambda y: sigma_clip(y, sigma=2, maxiters=10, masked=False)\n",
    ")\n",
    "\n",
    "means = filtered_cells2.apply(np.mean)\n",
    "sigmas = filtered_cells2.apply(np.std)\n",
    "\n",
    "limits = pd.DataFrame({\"lower\": means - sigmas, \"upper\": means + sigmas})"
   ]
  },
  {
   "cell_type": "code",
   "execution_count": null,
   "id": "adapted-collaboration",
   "metadata": {},
   "outputs": [],
   "source": [
    "mean_plot = means.hvplot.line(\n",
    "    \"t\", by=\"row\", logy=True, ylim=[600, 5000], xlim=[9.25, 24]\n",
    ")\n",
    "noise_plot = limits.hvplot.area(\n",
    "    x=\"t\", y=\"lower\", y2=\"upper\", by=\"row\", stacked=False, alpha=0.2, logy=True\n",
    ")\n",
    "# mux_events = hv.Overlay(\n",
    "#     [\n",
    "#         hv.VLine(t).opts(alpha=0.2, color=\"grey\", line_dash=\"dotted\")\n",
    "#         for t in mux_timepoints\n",
    "#     ]\n",
    "# )\n",
    "\n",
    "# line_alpha = 0.2\n",
    "# IPTG_starts = (\n",
    "#     hv.VLine(12).opts(alpha=line_alpha, color=\"blue\")\n",
    "#     * hv.VLine(60).opts(alpha=line_alpha, color=\"blue\")\n",
    "#     * hv.VLine(108).opts(alpha=line_alpha, color=\"blue\")\n",
    "#     * hv.VLine(156).opts(alpha=line_alpha, color=\"blue\")\n",
    "# )\n",
    "# EZ_starts = (\n",
    "#     hv.VLine(30).opts(alpha=line_alpha, color=\"grey\")\n",
    "#     * hv.VLine(78).opts(alpha=line_alpha, color=\"grey\")\n",
    "#     * hv.VLine(126).opts(alpha=line_alpha, color=\"grey\")\n",
    "#     * hv.VLine(174).opts(alpha=line_alpha, color=\"grey\")\n",
    "# )\n",
    "# aTc_starts = (\n",
    "#     hv.VLine(42).opts(alpha=line_alpha, color=\"red\")\n",
    "#     * hv.VLine(90).opts(alpha=line_alpha, color=\"red\")\n",
    "#     * hv.VLine(138).opts(alpha=line_alpha, color=\"red\")\n",
    "#     * hv.VLine(186).opts(alpha=line_alpha, color=\"red\")\n",
    "# )\n",
    "\n",
    "# (IPTG_starts*EZ_starts*aTc_starts*means*errors).opts(width=1000,height=400)\n",
    "# (means * errors).opts(width=1000, height=400)"
   ]
  },
  {
   "cell_type": "code",
   "execution_count": null,
   "id": "occasional-google",
   "metadata": {},
   "outputs": [],
   "source": [
    "(mean_plot * noise_plot).opts(\n",
    "    width=1000, height=400, ylabel=\"GFP Fluorescence\", xlabel=\"Hours\", logy=True\n",
    ")"
   ]
  },
  {
   "cell_type": "code",
   "execution_count": null,
   "id": "ambient-removal",
   "metadata": {},
   "outputs": [],
   "source": [
    "(sigmas / (means - 360)).hvplot.line(\n",
    "    \"t\",\n",
    "    by=\"row\",\n",
    "    logy=True,\n",
    "    ylim=[0.05, 0.5],\n",
    "    ylabel=\"Coefficient of Variation\",\n",
    "    xlabel=\"Time (Hours)\",\n",
    "    width=1000,\n",
    "    height=400,\n",
    ")"
   ]
  },
  {
   "cell_type": "code",
   "execution_count": null,
   "id": "falling-somalia",
   "metadata": {},
   "outputs": [],
   "source": [
    "from sklearn.linear_model import LinearRegression\n",
    "\n",
    "for lane in [\"A\", \"B\", \"C\", \"D\", \"E\", \"F\", \"G\", \"H\"]:\n",
    "    m = means[lane].reset_index()\n",
    "    m_init = m[m[\"t\"].between(3.5, 6)]\n",
    "    X = m_init[\"t\"].to_numpy().reshape(-1, 1)\n",
    "    Y = m_init[0].to_numpy().reshape(-1, 1)\n",
    "    linear_regressor = LinearRegression()  # create object for the class\n",
    "    reg = linear_regressor.fit(X, Y)  # perform linear regression\n",
    "\n",
    "    print(lane, reg.coef_, Y[0] - 360)\n",
    "    plt.scatter(m[\"t\"], m[0], linewidth=2)\n",
    "\n",
    "    x_new = np.linspace(3, 10, 100)\n",
    "    y_new = reg.predict(x_new[:, np.newaxis])\n",
    "    plt.plot(x_new, y_new, linewidth=4, label=f\"{lane}, {int(reg.coef_[0][0])}\")\n",
    "plt.xlim(2, 15)\n",
    "plt.ylim(300, 4000)\n",
    "plt.xlabel(\"Time (hours)\")\n",
    "plt.ylabel(\"GFP Fluorescence\")\n",
    "plt.rcParams.update({\"font.size\": 22})\n",
    "# matplotlib.rc('xtick', labelsize=20)\n",
    "# matplotlib.rc('ytick', labelsize=20)\n",
    "plt.legend()\n",
    "plt.show()"
   ]
  },
  {
   "cell_type": "code",
   "execution_count": null,
   "id": "burning-suicide",
   "metadata": {},
   "outputs": [],
   "source": [
    "from sklearn.linear_model import LinearRegression\n",
    "\n",
    "\n",
    "def inv_hill(y):\n",
    "    return y / (y.max() + 1 - y)\n",
    "\n",
    "\n",
    "for lane in [\"A\", \"B\", \"C\", \"D\", \"E\", \"F\", \"G\", \"H\"]:\n",
    "    m = means[lane].reset_index()\n",
    "    m_init = m[m[\"t\"].between(3.5, 15)]\n",
    "\n",
    "    X = m_init[\"t\"].to_numpy().reshape(-1, 1)\n",
    "    Y = inv_hill(m_init[0]).to_numpy().reshape(-1, 1)\n",
    "    linear_regressor = LinearRegression()  # create object for the class\n",
    "    reg = linear_regressor.fit(X, Y)  # perform linear regression\n",
    "    print(lane, reg.coef_)\n",
    "    plt.scatter(X, Y, linewidth=2)\n",
    "\n",
    "    x_new = np.linspace(3, 10, 100)\n",
    "    y_new = reg.predict(x_new[:, np.newaxis])\n",
    "#     plt.plot(x_new,y_new,linewidth=4,label=f'{lane}, {int(reg.coef_[0][0])}')\n",
    "# plt.xlim(0,20)\n",
    "plt.ylim(0, 50)\n",
    "plt.xlabel(\"Time (hours)\")\n",
    "plt.ylabel(\"GFP Fluorescence\")\n",
    "plt.rcParams.update({\"font.size\": 22})\n",
    "# matplotlib.rc('xtick', labelsize=20)\n",
    "# matplotlib.rc('ytick', labelsize=20)\n",
    "plt.legend()\n",
    "plt.show()"
   ]
  },
  {
   "cell_type": "code",
   "execution_count": null,
   "id": "starting-prospect",
   "metadata": {},
   "outputs": [],
   "source": [
    "(mean_plot * noise_plot * mux_events).opts(width=800, height=400)"
   ]
  },
  {
   "cell_type": "code",
   "execution_count": null,
   "id": "historical-southeast",
   "metadata": {},
   "outputs": [],
   "source": [
    "print(experiment_txt)"
   ]
  },
  {
   "cell_type": "code",
   "execution_count": null,
   "id": "shaped-electron",
   "metadata": {},
   "outputs": [],
   "source": [
    "mux_log"
   ]
  },
  {
   "cell_type": "code",
   "execution_count": null,
   "id": "dated-competition",
   "metadata": {},
   "outputs": [],
   "source": [
    "mux_timepoints"
   ]
  },
  {
   "cell_type": "code",
   "execution_count": null,
   "id": "broad-meter",
   "metadata": {},
   "outputs": [],
   "source": []
  }
 ],
 "metadata": {
  "kernelspec": {
   "display_name": "Python 3",
   "language": "python",
   "name": "python3"
  },
  "language_info": {
   "codemirror_mode": {
    "name": "ipython",
    "version": 3
   },
   "file_extension": ".py",
   "mimetype": "text/x-python",
   "name": "python",
   "nbconvert_exporter": "python",
   "pygments_lexer": "ipython3",
   "version": "3.9.2"
  }
 },
 "nbformat": 4,
 "nbformat_minor": 5
}
