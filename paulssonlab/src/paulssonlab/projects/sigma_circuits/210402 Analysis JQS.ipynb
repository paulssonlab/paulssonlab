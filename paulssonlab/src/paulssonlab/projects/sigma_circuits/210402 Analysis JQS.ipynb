{
 "cells": [
  {
   "cell_type": "code",
   "execution_count": null,
   "id": "upset-brook",
   "metadata": {},
   "outputs": [],
   "source": [
    "import numpy as np\n",
    "import pandas as pd\n",
    "from astropy.stats import mad_std, sigma_clip\n",
    "import re\n",
    "import matplotlib.pyplot as plt\n",
    "import holoviews as hv\n",
    "import hvplot.pandas\n",
    "from cytoolz import get_in\n",
    "from astropy.time import Time\n",
    "from datetime import datetime, timedelta\n",
    "from pathlib import Path\n",
    "import pickle\n",
    "\n",
    "IDX = pd.IndexSlice"
   ]
  },
  {
   "cell_type": "code",
   "execution_count": null,
   "id": "canadian-museum",
   "metadata": {},
   "outputs": [],
   "source": [
    "%load_ext autoreload\n",
    "%autoreload 2"
   ]
  },
  {
   "cell_type": "code",
   "execution_count": null,
   "id": "cutting-string",
   "metadata": {},
   "outputs": [],
   "source": [
    "import paulssonlab.projects.sigma_circuits.segmentation as segmentation\n",
    "import paulssonlab.projects.sigma_circuits.matriarch_stub as matriarch_stub\n",
    "import paulssonlab.projects.sigma_circuits.experiment as experiment\n",
    "import paulssonlab.io.metadata as metadata"
   ]
  },
  {
   "cell_type": "code",
   "execution_count": null,
   "id": "charitable-farmer",
   "metadata": {},
   "outputs": [],
   "source": [
    "plt.rcParams[\"figure.figsize\"] = (20, 10)\n",
    "hv.extension(\"bokeh\")"
   ]
  },
  {
   "cell_type": "markdown",
   "id": "running-cooperative",
   "metadata": {},
   "source": [
    "# Load data"
   ]
  },
  {
   "cell_type": "code",
   "execution_count": null,
   "id": "sought-junior",
   "metadata": {},
   "outputs": [],
   "source": [
    "# nd2_filename = \"/n/scratch3/groups/hms/sysbio/paulsson/jqs1/210324/PWM_flipped.nd2\"\n",
    "# nd2_filename2 = \"/n/scratch3/groups/hms/sysbio/paulsson/jqs1/210204/psc101_bistable.nd2\""
   ]
  },
  {
   "cell_type": "code",
   "execution_count": null,
   "id": "enormous-findings",
   "metadata": {},
   "outputs": [],
   "source": [
    "# nd2 = matriarch_stub.get_nd2_reader(nd2_filename)"
   ]
  },
  {
   "cell_type": "code",
   "execution_count": null,
   "id": "romance-agent",
   "metadata": {},
   "outputs": [],
   "source": [
    "# filename = \"/n/groups/paulsson/jqs1/sigma-circuits/210329_expt210324flipped.pickle\"\n",
    "# filename = \"/n/groups/paulsson/jqs1/sigma-circuits/210329_expt210204nonflipped_psc101.pickle\"\n",
    "filename = \"/n/groups/paulsson/jqs1/sigma-circuits/210402_expt210331ramp.pickle\"\n",
    "data = pickle.load(open(filename, \"rb\"))\n",
    "df = data[\"table\"]\n",
    "md = data[\"metadata\"]\n",
    "mux_log = data[\"mux_log\"]\n",
    "experiment_txt = data[\"experiment.txt\"]\n",
    "grid_df = data[\"grid\"]"
   ]
  },
  {
   "cell_type": "markdown",
   "id": "bibliographic-extreme",
   "metadata": {},
   "source": [
    "# Acquisition times"
   ]
  },
  {
   "cell_type": "code",
   "execution_count": null,
   "id": "operational-dryer",
   "metadata": {},
   "outputs": [],
   "source": [
    "md.keys()"
   ]
  },
  {
   "cell_type": "code",
   "execution_count": null,
   "id": "official-delta",
   "metadata": {},
   "outputs": [],
   "source": [
    "dtimeabsolute = get_in(\n",
    "    (\"SLxPictureMetadata\", \"dTimeAbsolute\"),\n",
    "    md[\"image_metadata_sequence\"],\n",
    ")\n",
    "dtimeabsolute = Time(dtimeabsolute, format=\"jd\").to_datetime()\n",
    "dtimemsec = get_in(\n",
    "    (\"SLxPictureMetadata\", \"dTimeMSec\"),\n",
    "    md[\"image_metadata_sequence\"],\n",
    ")\n",
    "tdelta = timedelta(milliseconds=dtimemsec)"
   ]
  },
  {
   "cell_type": "code",
   "execution_count": null,
   "id": "reduced-klein",
   "metadata": {},
   "outputs": [],
   "source": [
    "tdelta.total_seconds()"
   ]
  },
  {
   "cell_type": "code",
   "execution_count": null,
   "id": "renewable-yukon",
   "metadata": {},
   "outputs": [],
   "source": [
    "first_position_times = md[\"acquisition_times\"][:: len(grid_df)] / 1e3  # seconds"
   ]
  },
  {
   "cell_type": "code",
   "execution_count": null,
   "id": "perceived-smell",
   "metadata": {},
   "outputs": [],
   "source": [
    "last_good_cycle = np.argmax(np.diff(first_position_times) == 0) - 1"
   ]
  },
  {
   "cell_type": "code",
   "execution_count": null,
   "id": "modular-advice",
   "metadata": {},
   "outputs": [],
   "source": [
    "seconds_per_timepoint = first_position_times[last_good_cycle] / last_good_cycle"
   ]
  },
  {
   "cell_type": "code",
   "execution_count": null,
   "id": "streaming-childhood",
   "metadata": {},
   "outputs": [],
   "source": [
    "mux_times = [m[0] for m in mux_log]"
   ]
  },
  {
   "cell_type": "code",
   "execution_count": null,
   "id": "chronic-honey",
   "metadata": {},
   "outputs": [],
   "source": [
    "mux_timepoints = [\n",
    "    (m - dtimeabsolute).total_seconds() / seconds_per_timepoint for m in mux_times\n",
    "]"
   ]
  },
  {
   "cell_type": "code",
   "execution_count": null,
   "id": "alleged-boost",
   "metadata": {},
   "outputs": [],
   "source": [
    "mux_timepoints"
   ]
  },
  {
   "cell_type": "code",
   "execution_count": null,
   "id": "judicial-shape",
   "metadata": {},
   "outputs": [],
   "source": [
    "mux_timepoints2 = [\n",
    "    np.argmax((m - dtimeabsolute).total_seconds() <= first_position_times)\n",
    "    for m in mux_times\n",
    "]"
   ]
  },
  {
   "cell_type": "code",
   "execution_count": null,
   "id": "sophisticated-automation",
   "metadata": {},
   "outputs": [],
   "source": [
    "mux_timepoints2"
   ]
  },
  {
   "cell_type": "code",
   "execution_count": null,
   "id": "important-kennedy",
   "metadata": {},
   "outputs": [],
   "source": [
    "plt.plot(md[\"acquisition_times\"][:5000])"
   ]
  },
  {
   "cell_type": "markdown",
   "id": "interpreted-mathematics",
   "metadata": {},
   "source": [
    "# Filtered"
   ]
  },
  {
   "cell_type": "code",
   "execution_count": null,
   "id": "going-typing",
   "metadata": {},
   "outputs": [],
   "source": [
    "%%time\n",
    "cells = df.join(grid_df).reset_index()\n",
    "filtered_cells = cells[\n",
    "    cells[\"area\"].between(200, 800)\n",
    "    & cells[\"GFP-PENTA\"].between(100, 4000)\n",
    "    & ~cells[\"row\"].isin([\"F\"])\n",
    "][[\"GFP-PENTA\", \"row\", \"t\"]]\n",
    "\n",
    "filtered_cells2 = filtered_cells.groupby([\"row\", \"t\"]).apply(\n",
    "    lambda y: sigma_clip(y, sigma=2, maxiters=10, masked=False)\n",
    ")\n",
    "\n",
    "means = filtered_cells2.apply(np.mean)\n",
    "sigmas = filtered_cells2.apply(np.std)\n",
    "\n",
    "limits = pd.DataFrame({\"lower\": means - sigmas, \"upper\": means + sigmas})"
   ]
  },
  {
   "cell_type": "code",
   "execution_count": null,
   "id": "rocky-iceland",
   "metadata": {},
   "outputs": [],
   "source": [
    "mean_plot = means.hvplot.line(\"t\", by=\"row\", logy=True)\n",
    "noise_plot = limits.hvplot.area(\n",
    "    x=\"t\", y=\"lower\", y2=\"upper\", by=\"row\", stacked=False, alpha=0.2, logy=True\n",
    ")\n",
    "mux_events = hv.Overlay(\n",
    "    [\n",
    "        hv.VLine(t).opts(alpha=0.2, color=\"grey\", line_dash=\"dotted\")\n",
    "        for t in mux_timepoints\n",
    "    ]\n",
    ")\n",
    "\n",
    "# line_alpha = 0.2\n",
    "# IPTG_starts = (\n",
    "#     hv.VLine(12).opts(alpha=line_alpha, color=\"blue\")\n",
    "#     * hv.VLine(60).opts(alpha=line_alpha, color=\"blue\")\n",
    "#     * hv.VLine(108).opts(alpha=line_alpha, color=\"blue\")\n",
    "#     * hv.VLine(156).opts(alpha=line_alpha, color=\"blue\")\n",
    "# )\n",
    "# EZ_starts = (\n",
    "#     hv.VLine(30).opts(alpha=line_alpha, color=\"grey\")\n",
    "#     * hv.VLine(78).opts(alpha=line_alpha, color=\"grey\")\n",
    "#     * hv.VLine(126).opts(alpha=line_alpha, color=\"grey\")\n",
    "#     * hv.VLine(174).opts(alpha=line_alpha, color=\"grey\")\n",
    "# )\n",
    "# aTc_starts = (\n",
    "#     hv.VLine(42).opts(alpha=line_alpha, color=\"red\")\n",
    "#     * hv.VLine(90).opts(alpha=line_alpha, color=\"red\")\n",
    "#     * hv.VLine(138).opts(alpha=line_alpha, color=\"red\")\n",
    "#     * hv.VLine(186).opts(alpha=line_alpha, color=\"red\")\n",
    "# )\n",
    "\n",
    "# (IPTG_starts*EZ_starts*aTc_starts*means*errors).opts(width=1000,height=400)\n",
    "# (means * errors).opts(width=1000, height=400)"
   ]
  },
  {
   "cell_type": "code",
   "execution_count": null,
   "id": "optional-trigger",
   "metadata": {},
   "outputs": [],
   "source": [
    "(mean_plot * noise_plot).opts(width=800, height=400)"
   ]
  },
  {
   "cell_type": "code",
   "execution_count": null,
   "id": "abroad-hearing",
   "metadata": {},
   "outputs": [],
   "source": [
    "(mean_plot * noise_plot * mux_events).opts(width=800, height=400)"
   ]
  },
  {
   "cell_type": "code",
   "execution_count": null,
   "id": "settled-doctrine",
   "metadata": {},
   "outputs": [],
   "source": [
    "print(experiment_txt)"
   ]
  },
  {
   "cell_type": "code",
   "execution_count": null,
   "id": "entitled-sarah",
   "metadata": {},
   "outputs": [],
   "source": [
    "mux_log"
   ]
  },
  {
   "cell_type": "code",
   "execution_count": null,
   "id": "assumed-possible",
   "metadata": {},
   "outputs": [],
   "source": [
    "mux_timepoints"
   ]
  },
  {
   "cell_type": "code",
   "execution_count": null,
   "id": "original-philosophy",
   "metadata": {},
   "outputs": [],
   "source": []
  }
 ],
 "metadata": {
  "kernelspec": {
   "display_name": "Python 3",
   "language": "python",
   "name": "python3"
  },
  "language_info": {
   "codemirror_mode": {
    "name": "ipython",
    "version": 3
   },
   "file_extension": ".py",
   "mimetype": "text/x-python",
   "name": "python",
   "nbconvert_exporter": "python",
   "pygments_lexer": "ipython3",
   "version": "3.9.2"
  }
 },
 "nbformat": 4,
 "nbformat_minor": 5
}
