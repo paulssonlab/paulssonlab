{
 "cells": [
  {
   "cell_type": "code",
   "execution_count": null,
   "id": "thick-success",
   "metadata": {},
   "outputs": [],
   "source": [
    "import numpy as np\n",
    "import pandas as pd\n",
    "from astropy.stats import mad_std, sigma_clip\n",
    "import re\n",
    "import matplotlib.pyplot as plt\n",
    "import holoviews as hv\n",
    "import hvplot.pandas\n",
    "from cytoolz import get_in, partial\n",
    "import astropy.stats\n",
    "from astropy.time import Time\n",
    "from datetime import datetime, timedelta\n",
    "from pathlib import Path\n",
    "import pickle\n",
    "\n",
    "IDX = pd.IndexSlice"
   ]
  },
  {
   "cell_type": "code",
   "execution_count": null,
   "id": "affiliated-capacity",
   "metadata": {},
   "outputs": [],
   "source": [
    "%load_ext autoreload\n",
    "%autoreload 2"
   ]
  },
  {
   "cell_type": "code",
   "execution_count": null,
   "id": "supported-childhood",
   "metadata": {},
   "outputs": [],
   "source": [
    "import paulssonlab.projects.sigma_circuits.segmentation as segmentation\n",
    "import paulssonlab.projects.sigma_circuits.matriarch_stub as matriarch_stub\n",
    "import paulssonlab.projects.sigma_circuits.experiment as experiment\n",
    "import paulssonlab.io.metadata as metadata"
   ]
  },
  {
   "cell_type": "code",
   "execution_count": null,
   "id": "deadly-acrobat",
   "metadata": {},
   "outputs": [],
   "source": [
    "plt.rcParams[\"figure.figsize\"] = (20, 10)\n",
    "hv.extension(\"bokeh\")"
   ]
  },
  {
   "cell_type": "markdown",
   "id": "julian-number",
   "metadata": {},
   "source": [
    "# Load data"
   ]
  },
  {
   "cell_type": "code",
   "execution_count": null,
   "id": "boxed-tucson",
   "metadata": {},
   "outputs": [],
   "source": [
    "# nd2_filename = \"/n/scratch3/groups/hms/sysbio/paulsson/jqs1/210324/PWM_flipped.nd2\"\n",
    "# nd2_filename2 = \"/n/scratch3/groups/hms/sysbio/paulsson/jqs1/210204/psc101_bistable.nd2\""
   ]
  },
  {
   "cell_type": "code",
   "execution_count": null,
   "id": "logical-rover",
   "metadata": {},
   "outputs": [],
   "source": [
    "# nd2 = matriarch_stub.get_nd2_reader(nd2_filename)"
   ]
  },
  {
   "cell_type": "code",
   "execution_count": null,
   "id": "mechanical-airplane",
   "metadata": {},
   "outputs": [],
   "source": [
    "# filename = \"/n/groups/paulsson/jqs1/sigma-circuits/210329_expt210324flipped.pickle\"\n",
    "# filename = \"/n/groups/paulsson/jqs1/sigma-circuits/210329_expt210204nonflipped_psc101.pickle\"\n",
    "filename = \"/n/groups/paulsson/jqs1/sigma-circuits/210402_expt210331ramp.pickle\"\n",
    "data = pickle.load(open(filename, \"rb\"))\n",
    "df = data[\"table\"]\n",
    "md = data[\"metadata\"]\n",
    "mux_log = data[\"mux_log\"]\n",
    "experiment_txt = data[\"experiment.txt\"]\n",
    "grid_df = data[\"grid\"]"
   ]
  },
  {
   "cell_type": "markdown",
   "id": "hollywood-beverage",
   "metadata": {},
   "source": [
    "# Acquisition times"
   ]
  },
  {
   "cell_type": "code",
   "execution_count": null,
   "id": "ahead-limitation",
   "metadata": {},
   "outputs": [],
   "source": [
    "md.keys()"
   ]
  },
  {
   "cell_type": "code",
   "execution_count": null,
   "id": "natural-gates",
   "metadata": {},
   "outputs": [],
   "source": [
    "dtimeabsolute = get_in(\n",
    "    (\"SLxPictureMetadata\", \"dTimeAbsolute\"),\n",
    "    md[\"image_metadata_sequence\"],\n",
    ")\n",
    "dtimeabsolute = Time(dtimeabsolute, format=\"jd\").to_datetime()\n",
    "dtimemsec = get_in(\n",
    "    (\"SLxPictureMetadata\", \"dTimeMSec\"),\n",
    "    md[\"image_metadata_sequence\"],\n",
    ")\n",
    "tdelta = timedelta(milliseconds=dtimemsec)"
   ]
  },
  {
   "cell_type": "code",
   "execution_count": null,
   "id": "thermal-lending",
   "metadata": {},
   "outputs": [],
   "source": [
    "tdelta.total_seconds()"
   ]
  },
  {
   "cell_type": "code",
   "execution_count": null,
   "id": "expected-label",
   "metadata": {},
   "outputs": [],
   "source": [
    "first_position_times = md[\"acquisition_times\"][:: len(grid_df)] / 1e3  # seconds"
   ]
  },
  {
   "cell_type": "code",
   "execution_count": null,
   "id": "aggregate-bearing",
   "metadata": {},
   "outputs": [],
   "source": [
    "last_good_cycle = np.argmax(np.diff(first_position_times) == 0) - 1"
   ]
  },
  {
   "cell_type": "code",
   "execution_count": null,
   "id": "loaded-intent",
   "metadata": {},
   "outputs": [],
   "source": [
    "seconds_per_timepoint = first_position_times[last_good_cycle] / last_good_cycle"
   ]
  },
  {
   "cell_type": "code",
   "execution_count": null,
   "id": "automatic-music",
   "metadata": {},
   "outputs": [],
   "source": [
    "mux_times = [m[0] for m in mux_log]"
   ]
  },
  {
   "cell_type": "code",
   "execution_count": null,
   "id": "surface-precipitation",
   "metadata": {},
   "outputs": [],
   "source": [
    "mux_timepoints = [\n",
    "    (m - dtimeabsolute).total_seconds() / seconds_per_timepoint for m in mux_times\n",
    "]"
   ]
  },
  {
   "cell_type": "code",
   "execution_count": null,
   "id": "dressed-passion",
   "metadata": {},
   "outputs": [],
   "source": [
    "mux_timepoints"
   ]
  },
  {
   "cell_type": "code",
   "execution_count": null,
   "id": "parliamentary-italy",
   "metadata": {},
   "outputs": [],
   "source": [
    "mux_timepoints2 = [\n",
    "    np.argmax((m - dtimeabsolute).total_seconds() <= first_position_times)\n",
    "    for m in mux_times\n",
    "]"
   ]
  },
  {
   "cell_type": "code",
   "execution_count": null,
   "id": "modified-intervention",
   "metadata": {},
   "outputs": [],
   "source": [
    "mux_timepoints2"
   ]
  },
  {
   "cell_type": "code",
   "execution_count": null,
   "id": "third-nelson",
   "metadata": {},
   "outputs": [],
   "source": [
    "plt.plot(md[\"acquisition_times\"][:5000])"
   ]
  },
  {
   "cell_type": "markdown",
   "id": "together-kitty",
   "metadata": {},
   "source": [
    "# Filtered"
   ]
  },
  {
   "cell_type": "code",
   "execution_count": null,
   "id": "beautiful-clock",
   "metadata": {},
   "outputs": [],
   "source": [
    "%%time\n",
    "cells = df.join(grid_df).reset_index()\n",
    "filtered_cells = cells[\n",
    "    cells[\"area\"].between(200, 800)\n",
    "    & cells[\"GFP-PENTA\"].between(100, 4000)\n",
    "    & ~cells[\"row\"].isin([\"F\"])\n",
    "][[\"GFP-PENTA\", \"row\", \"t\"]]\n",
    "\n",
    "filtered_cells2 = filtered_cells.groupby([\"row\", \"t\"]).apply(\n",
    "    lambda y: sigma_clip(y, sigma=2, maxiters=10, masked=False)\n",
    ")\n",
    "\n",
    "means = filtered_cells2.apply(np.mean)\n",
    "sigmas = filtered_cells2.apply(np.std)\n",
    "\n",
    "limits = pd.DataFrame({\"lower\": means - sigmas, \"upper\": means + sigmas})"
   ]
  },
  {
   "cell_type": "code",
   "execution_count": null,
   "id": "different-houston",
   "metadata": {},
   "outputs": [],
   "source": [
    "mean_plot = means.hvplot.line(\"t\", by=\"row\", logy=True)\n",
    "noise_plot = limits.hvplot.area(\n",
    "    x=\"t\", y=\"lower\", y2=\"upper\", by=\"row\", stacked=False, alpha=0.2, logy=True\n",
    ")"
   ]
  },
  {
   "cell_type": "code",
   "execution_count": null,
   "id": "distant-vegetation",
   "metadata": {},
   "outputs": [],
   "source": [
    "(mean_plot * noise_plot).opts(width=800, height=400)"
   ]
  },
  {
   "cell_type": "code",
   "execution_count": null,
   "id": "optical-uncertainty",
   "metadata": {},
   "outputs": [],
   "source": [
    "mux_events = hv.Overlay(\n",
    "    [\n",
    "        hv.VLine(t).opts(alpha=0.2, color=\"grey\", line_dash=\"dotted\")\n",
    "        for t in mux_timepoints\n",
    "    ]\n",
    ")"
   ]
  },
  {
   "cell_type": "code",
   "execution_count": null,
   "id": "anonymous-serbia",
   "metadata": {},
   "outputs": [],
   "source": [
    "(mean_plot * noise_plot * mux_events).opts(width=800, height=400)"
   ]
  },
  {
   "cell_type": "markdown",
   "id": "experienced-memory",
   "metadata": {},
   "source": [
    "## By position"
   ]
  },
  {
   "cell_type": "code",
   "execution_count": null,
   "id": "powerful-profession",
   "metadata": {},
   "outputs": [],
   "source": [
    "cells[\"centroid-0\"].max()"
   ]
  },
  {
   "cell_type": "code",
   "execution_count": null,
   "id": "single-piece",
   "metadata": {},
   "outputs": [],
   "source": [
    "md.keys()"
   ]
  },
  {
   "cell_type": "code",
   "execution_count": null,
   "id": "controversial-rescue",
   "metadata": {},
   "outputs": [],
   "source": [
    "sensor_size_md = get_in(\n",
    "    (\n",
    "        \"variant\",\n",
    "        \"no_name\",\n",
    "        \"vGrabberCameraSettings\",\n",
    "        \"FormatFast\",\n",
    "        \"fmtDesc\",\n",
    "        \"sizeSensorPixels\",\n",
    "    ),\n",
    "    md[\"grabber_settings\"],\n",
    ")\n",
    "sensor_width = int(get_in((\"cx\", \"@value\"), sensor_size_md))\n",
    "sensor_height = int(get_in((\"cy\", \"@value\"), sensor_size_md))"
   ]
  },
  {
   "cell_type": "code",
   "execution_count": null,
   "id": "caring-current",
   "metadata": {},
   "outputs": [],
   "source": [
    "cells[\"dist_from_center\"].hvplot.hist()"
   ]
  },
  {
   "cell_type": "code",
   "execution_count": null,
   "id": "potential-prairie",
   "metadata": {},
   "outputs": [],
   "source": [
    "%%time\n",
    "groupby = \"row\"  # row or pos\n",
    "# skip background\n",
    "cells = df.loc[IDX[:, :, 1:]].join(grid_df).reset_index()\n",
    "cells[\"dist_from_center\"] = np.sqrt(\n",
    "    (cells[\"centroid-0\"] - sensor_width) ** 2\n",
    "    + (cells[\"centroid-1\"] - sensor_height) ** 2\n",
    ")\n",
    "filtered_cells = cells[\n",
    "    cells[\"area\"].between(200, 800)\n",
    "    & cells[\"GFP-PENTA\"].between(100, 4000)\n",
    "    & ~cells[\"row\"].isin([\"F\"])\n",
    "    & cells[\"dist_from_center\"]\n",
    "    < 3000\n",
    "][[\"GFP-PENTA\", \"RFP-PENTA\", \"area\", \"row\", \"pos\", \"t\"]]\n",
    "\n",
    "medians = filtered_cells.groupby([groupby, \"t\"]).agg(\n",
    "    [\"median\", astropy.stats.median_absolute_deviation]\n",
    ")\n",
    "\n",
    "\n",
    "def get_limits(x):\n",
    "    x = x.droplevel(0, axis=1)\n",
    "    return pd.DataFrame(\n",
    "        {\n",
    "            \"lower\": x[\"median\"] - x[\"median_absolute_deviation\"],\n",
    "            \"upper\": x[\"median\"] + x[\"median_absolute_deviation\"],\n",
    "        }\n",
    "    )\n",
    "\n",
    "\n",
    "limits = medians.groupby(level=0, axis=1).apply(get_limits)"
   ]
  },
  {
   "cell_type": "code",
   "execution_count": null,
   "id": "adopted-nebraska",
   "metadata": {},
   "outputs": [],
   "source": [
    "observable = \"GFP-PENTA\"\n",
    "\n",
    "if groupby == \"pos\":\n",
    "    medians2 = medians[observable][[\"median\"]].join(grid_df)\n",
    "    limits2 = limits[observable].join(grid_df)\n",
    "    mask = medians2[\"row\"].isin([\"A\"])  # TODO\n",
    "    medians2 = medians2[mask]\n",
    "    limits2 = limits2[mask]\n",
    "else:\n",
    "    medians2 = medians[observable].reset_index()\n",
    "    limits2 = limits[observable].reset_index()\n",
    "mean_plot = medians2.hvplot.line(\"t\", \"median\", by=groupby, logy=True)\n",
    "noise_plot = limits2.hvplot.area(\n",
    "    x=\"t\", y=\"lower\", y2=\"upper\", by=groupby, stacked=False, alpha=0.2, logy=True\n",
    ")"
   ]
  },
  {
   "cell_type": "code",
   "execution_count": null,
   "id": "piano-footwear",
   "metadata": {},
   "outputs": [],
   "source": [
    "(mean_plot * noise_plot).opts(width=800, height=400)"
   ]
  },
  {
   "cell_type": "markdown",
   "id": "owned-yemen",
   "metadata": {},
   "source": [
    "## Logs"
   ]
  },
  {
   "cell_type": "code",
   "execution_count": null,
   "id": "common-stocks",
   "metadata": {},
   "outputs": [],
   "source": [
    "print(experiment_txt)"
   ]
  },
  {
   "cell_type": "code",
   "execution_count": null,
   "id": "caroline-needle",
   "metadata": {},
   "outputs": [],
   "source": [
    "mux_log"
   ]
  },
  {
   "cell_type": "code",
   "execution_count": null,
   "id": "junior-passage",
   "metadata": {},
   "outputs": [],
   "source": [
    "mux_timepoints"
   ]
  },
  {
   "cell_type": "code",
   "execution_count": null,
   "id": "quarterly-explanation",
   "metadata": {},
   "outputs": [],
   "source": []
  }
 ],
 "metadata": {
  "kernelspec": {
   "display_name": "Python 3",
   "language": "python",
   "name": "python3"
  },
  "language_info": {
   "codemirror_mode": {
    "name": "ipython",
    "version": 3
   },
   "file_extension": ".py",
   "mimetype": "text/x-python",
   "name": "python",
   "nbconvert_exporter": "python",
   "pygments_lexer": "ipython3",
   "version": "3.9.2"
  }
 },
 "nbformat": 4,
 "nbformat_minor": 5
}
