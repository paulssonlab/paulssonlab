{
 "cells": [
  {
   "cell_type": "code",
   "execution_count": null,
   "id": "intelligent-respect",
   "metadata": {},
   "outputs": [],
   "source": [
    "import numpy as np\n",
    "import pandas as pd\n",
    "import xarray as xr\n",
    "from astropy.stats import mad_std, sigma_clip\n",
    "import re\n",
    "import matplotlib.pyplot as plt\n",
    "import holoviews as hv\n",
    "import hvplot.pandas\n",
    "import hvplot.xarray\n",
    "from cytoolz import get_in, partial\n",
    "import astropy.stats\n",
    "from astropy.time import Time\n",
    "from datetime import datetime, timedelta\n",
    "from pathlib import Path\n",
    "import pickle\n",
    "\n",
    "IDX = pd.IndexSlice"
   ]
  },
  {
   "cell_type": "code",
   "execution_count": null,
   "id": "metallic-niger",
   "metadata": {},
   "outputs": [],
   "source": [
    "%load_ext autoreload\n",
    "%autoreload 2"
   ]
  },
  {
   "cell_type": "code",
   "execution_count": null,
   "id": "integral-resistance",
   "metadata": {},
   "outputs": [],
   "source": [
    "import paulssonlab.projects.sigma_circuits.segmentation as segmentation\n",
    "import paulssonlab.projects.sigma_circuits.matriarch_stub as matriarch_stub\n",
    "import paulssonlab.projects.sigma_circuits.experiment as experiment\n",
    "import paulssonlab.io.metadata as metadata"
   ]
  },
  {
   "cell_type": "code",
   "execution_count": null,
   "id": "infectious-angola",
   "metadata": {},
   "outputs": [],
   "source": [
    "plt.rcParams[\"figure.figsize\"] = (20, 10)\n",
    "hv.extension(\"bokeh\")"
   ]
  },
  {
   "cell_type": "markdown",
   "id": "specific-thursday",
   "metadata": {},
   "source": [
    "# Load data"
   ]
  },
  {
   "cell_type": "code",
   "execution_count": null,
   "id": "powered-monster",
   "metadata": {},
   "outputs": [],
   "source": [
    "# nd2_filename = \"/n/scratch3/groups/hms/sysbio/paulsson/jqs1/210324/PWM_flipped.nd2\"\n",
    "# nd2_filename2 = \"/n/scratch3/groups/hms/sysbio/paulsson/jqs1/210204/psc101_bistable.nd2\""
   ]
  },
  {
   "cell_type": "code",
   "execution_count": null,
   "id": "raised-recording",
   "metadata": {},
   "outputs": [],
   "source": [
    "# nd2 = matriarch_stub.get_nd2_reader(nd2_filename)"
   ]
  },
  {
   "cell_type": "code",
   "execution_count": null,
   "id": "occupational-proposition",
   "metadata": {},
   "outputs": [],
   "source": [
    "# filename = \"/n/groups/paulsson/jqs1/sigma-circuits/210329_expt210324flipped.pickle\"\n",
    "# filename = \"/n/groups/paulsson/jqs1/sigma-circuits/210329_expt210204nonflipped_psc101.pickle\"\n",
    "# filename = \"/n/groups/paulsson/jqs1/sigma-circuits/210402_expt210331ramp.pickle\"\n",
    "filename = \"/n/groups/paulsson/jqs1/sigma-circuits/210507_expt210505.pickle\"\n",
    "data = pickle.load(open(filename, \"rb\"))\n",
    "df = data[\"table\"]\n",
    "md = data[\"metadata\"]\n",
    "mux_log = data[\"mux_log\"]\n",
    "experiment_txt = data[\"experiment.txt\"]\n",
    "grid_df = data[\"grid\"]"
   ]
  },
  {
   "cell_type": "markdown",
   "id": "initial-nepal",
   "metadata": {},
   "source": [
    "# Acquisition times"
   ]
  },
  {
   "cell_type": "code",
   "execution_count": null,
   "id": "solved-project",
   "metadata": {},
   "outputs": [],
   "source": [
    "md.keys()"
   ]
  },
  {
   "cell_type": "code",
   "execution_count": null,
   "id": "blocked-student",
   "metadata": {},
   "outputs": [],
   "source": [
    "dtimeabsolute = get_in(\n",
    "    (\"SLxPictureMetadata\", \"dTimeAbsolute\"),\n",
    "    md[\"image_metadata_sequence\"],\n",
    ")\n",
    "dtimeabsolute = Time(dtimeabsolute, format=\"jd\").to_datetime()\n",
    "dtimemsec = get_in(\n",
    "    (\"SLxPictureMetadata\", \"dTimeMSec\"),\n",
    "    md[\"image_metadata_sequence\"],\n",
    ")\n",
    "tdelta = timedelta(milliseconds=dtimemsec)"
   ]
  },
  {
   "cell_type": "code",
   "execution_count": null,
   "id": "bizarre-princess",
   "metadata": {},
   "outputs": [],
   "source": [
    "tdelta.total_seconds()"
   ]
  },
  {
   "cell_type": "code",
   "execution_count": null,
   "id": "hungry-wheel",
   "metadata": {},
   "outputs": [],
   "source": [
    "first_position_times = md[\"acquisition_times\"][:: len(grid_df)] / 1e3  # seconds"
   ]
  },
  {
   "cell_type": "code",
   "execution_count": null,
   "id": "artistic-directory",
   "metadata": {},
   "outputs": [],
   "source": [
    "last_good_cycle = np.argmax(np.diff(first_position_times) == 0) - 1"
   ]
  },
  {
   "cell_type": "code",
   "execution_count": null,
   "id": "arabic-assessment",
   "metadata": {},
   "outputs": [],
   "source": [
    "seconds_per_timepoint = first_position_times[last_good_cycle] / last_good_cycle"
   ]
  },
  {
   "cell_type": "code",
   "execution_count": null,
   "id": "universal-inspector",
   "metadata": {},
   "outputs": [],
   "source": [
    "mux_times = [m[0] for m in mux_log]"
   ]
  },
  {
   "cell_type": "code",
   "execution_count": null,
   "id": "oriental-diagram",
   "metadata": {},
   "outputs": [],
   "source": [
    "mux_timepoints = [\n",
    "    (m - dtimeabsolute).total_seconds() / seconds_per_timepoint for m in mux_times\n",
    "]"
   ]
  },
  {
   "cell_type": "code",
   "execution_count": null,
   "id": "developed-blanket",
   "metadata": {},
   "outputs": [],
   "source": [
    "mux_timepoints"
   ]
  },
  {
   "cell_type": "code",
   "execution_count": null,
   "id": "activated-amino",
   "metadata": {},
   "outputs": [],
   "source": [
    "mux_timepoints2 = [\n",
    "    np.argmax((m - dtimeabsolute).total_seconds() <= first_position_times)\n",
    "    for m in mux_times\n",
    "]"
   ]
  },
  {
   "cell_type": "code",
   "execution_count": null,
   "id": "structural-joining",
   "metadata": {},
   "outputs": [],
   "source": [
    "mux_timepoints2"
   ]
  },
  {
   "cell_type": "code",
   "execution_count": null,
   "id": "patient-daniel",
   "metadata": {},
   "outputs": [],
   "source": [
    "plt.plot(md[\"acquisition_times\"][:5000])"
   ]
  },
  {
   "cell_type": "markdown",
   "id": "engaged-understanding",
   "metadata": {},
   "source": [
    "# Filtered"
   ]
  },
  {
   "cell_type": "code",
   "execution_count": null,
   "id": "portable-albany",
   "metadata": {},
   "outputs": [],
   "source": [
    "sensor_size_md = get_in(\n",
    "    (\n",
    "        \"variant\",\n",
    "        \"no_name\",\n",
    "        \"vGrabberCameraSettings\",\n",
    "        \"FormatFast\",\n",
    "        \"fmtDesc\",\n",
    "        \"sizeSensorPixels\",\n",
    "    ),\n",
    "    md[\"grabber_settings\"],\n",
    ")\n",
    "sensor_width = int(get_in((\"cx\", \"@value\"), sensor_size_md))\n",
    "sensor_height = int(get_in((\"cy\", \"@value\"), sensor_size_md))"
   ]
  },
  {
   "cell_type": "code",
   "execution_count": null,
   "id": "operating-reducing",
   "metadata": {},
   "outputs": [],
   "source": [
    "%%time\n",
    "# skip background\n",
    "cells = df.loc[IDX[:, :, 1:]].join(grid_df).reset_index()\n",
    "cells[\"dist_from_center\"] = np.sqrt(\n",
    "    (cells[\"centroid-0\"] - sensor_width) ** 2\n",
    "    + (cells[\"centroid-1\"] - sensor_height) ** 2\n",
    ")\n",
    "filtered_cells = cells[\n",
    "    cells[\"area\"].between(200, 800)\n",
    "    & cells[\"GFP-PENTA\"].between(100, 4000)\n",
    "    & cells[\"RFP-PENTA\"].between(475, 4000)\n",
    "    & ~cells[\"row\"].isin([\"F\"])\n",
    "    & cells[\"dist_from_center\"]\n",
    "    < 3000\n",
    "][[\"GFP-PENTA\", \"RFP-PENTA\", \"area\", \"row\", \"pos\", \"t\"]]"
   ]
  },
  {
   "cell_type": "code",
   "execution_count": null,
   "id": "expanded-integrity",
   "metadata": {},
   "outputs": [],
   "source": [
    "cells[\"dist_from_center\"].hvplot.hist()"
   ]
  },
  {
   "cell_type": "code",
   "execution_count": null,
   "id": "generic-perception",
   "metadata": {},
   "outputs": [],
   "source": [
    "cells[\"RFP-PENTA\"][cells[\"RFP-PENTA\"].between(100, 3e3)].hvplot.hist(bins=300)"
   ]
  },
  {
   "cell_type": "code",
   "execution_count": null,
   "id": "instructional-learning",
   "metadata": {},
   "outputs": [],
   "source": [
    "cells[\"RFP-PENTA\"][\n",
    "    (cells[\"RFP-PENTA\"] > 1) & ~np.isnan(cells[\"RFP-PENTA\"])\n",
    "].hvplot.hist(logy=True)"
   ]
  },
  {
   "cell_type": "code",
   "execution_count": null,
   "id": "acquired-moisture",
   "metadata": {},
   "outputs": [],
   "source": [
    "%%time\n",
    "groupby = \"row\"  # row or pos\n",
    "\n",
    "medians = filtered_cells.groupby([groupby, \"t\"]).agg(\n",
    "    [\"median\", astropy.stats.median_absolute_deviation]\n",
    ")\n",
    "\n",
    "\n",
    "def get_limits(x):\n",
    "    x = x.droplevel(0, axis=1)\n",
    "    return pd.DataFrame(\n",
    "        {\n",
    "            \"lower\": x[\"median\"] - x[\"median_absolute_deviation\"],\n",
    "            \"upper\": x[\"median\"] + x[\"median_absolute_deviation\"],\n",
    "        }\n",
    "    )\n",
    "\n",
    "\n",
    "limits = medians.groupby(level=0, axis=1).apply(get_limits)"
   ]
  },
  {
   "cell_type": "code",
   "execution_count": null,
   "id": "liberal-orange",
   "metadata": {},
   "outputs": [],
   "source": [
    "observable = \"GFP-PENTA\"\n",
    "\n",
    "if groupby == \"pos\":\n",
    "    medians2 = medians[observable][[\"median\"]].join(grid_df)\n",
    "    limits2 = limits[observable].join(grid_df)\n",
    "    mask = medians2[\"row\"].isin([\"A\"])  # TODO\n",
    "    medians2 = medians2[mask]\n",
    "    limits2 = limits2[mask]\n",
    "else:\n",
    "    medians2 = medians[observable].reset_index()\n",
    "    limits2 = limits[observable].reset_index()\n",
    "mean_plot = medians2.hvplot.line(\"t\", \"median\", by=groupby, logy=True)\n",
    "noise_plot = limits2.hvplot.area(\n",
    "    x=\"t\", y=\"lower\", y2=\"upper\", by=groupby, stacked=False, alpha=0.2, logy=True\n",
    ")"
   ]
  },
  {
   "cell_type": "code",
   "execution_count": null,
   "id": "extended-decision",
   "metadata": {},
   "outputs": [],
   "source": [
    "(mean_plot * noise_plot).opts(width=800, height=400)"
   ]
  },
  {
   "cell_type": "markdown",
   "id": "stopped-differential",
   "metadata": {},
   "source": [
    "## Heatmap"
   ]
  },
  {
   "cell_type": "code",
   "execution_count": null,
   "id": "interior-warning",
   "metadata": {},
   "outputs": [],
   "source": [
    "bins = np.geomspace(\n",
    "    filtered_cells[\"GFP-PENTA\"].min(), filtered_cells[\"GFP-PENTA\"].max(), 100\n",
    ")"
   ]
  },
  {
   "cell_type": "code",
   "execution_count": null,
   "id": "written-checklist",
   "metadata": {},
   "outputs": [],
   "source": [
    "%%time\n",
    "channel = \"GFP-PENTA\"\n",
    "heatmap = filtered_cells.groupby([\"row\", \"t\"]).apply(\n",
    "    lambda x: pd.Series(np.histogram(x[channel], bins=bins)[0], index=bins[:-1])\n",
    ")\n",
    "heatmap.columns.name = channel\n",
    "heatmap = xr.Dataset({row: heatmap.loc[row].T for row in heatmap.index.levels[0]})"
   ]
  },
  {
   "cell_type": "code",
   "execution_count": null,
   "id": "excess-oasis",
   "metadata": {},
   "outputs": [],
   "source": [
    "heatmap.A.hvplot.quadmesh(cmap=\"blues\", logy=True, logz=True, clim=(1, 1e4))"
   ]
  },
  {
   "cell_type": "code",
   "execution_count": null,
   "id": "polish-bhutan",
   "metadata": {},
   "outputs": [],
   "source": [
    "hv.Layout(\n",
    "    [\n",
    "        heatmap[row].hvplot.quadmesh(\n",
    "            cmap=\"blues\",\n",
    "            logy=True,\n",
    "            logz=True,\n",
    "            clim=(1, 1e4),\n",
    "        )\n",
    "        for row in (\"A\", \"B\", \"C\", \"D\", \"E\", \"F\")\n",
    "    ]\n",
    ").cols(1)"
   ]
  },
  {
   "cell_type": "code",
   "execution_count": null,
   "id": "nonprofit-mailman",
   "metadata": {},
   "outputs": [],
   "source": [
    "%%time\n",
    "channel = \"GFP-PENTA\"\n",
    "heatmap_pos = filtered_cells.groupby([\"pos\", \"t\"]).apply(\n",
    "    lambda x: pd.Series(np.histogram(x[channel], bins=bins)[0], index=bins[:-1])\n",
    ")\n",
    "heatmap_pos.columns.name = channel\n",
    "heatmap_pos = xr.concat(\n",
    "    [xr.DataArray(heatmap_pos.loc[pos].T) for pos in heatmap_pos.index.levels[0]],\n",
    "    heatmap_pos.index.levels[0],\n",
    ")"
   ]
  },
  {
   "cell_type": "code",
   "execution_count": null,
   "id": "portable-business",
   "metadata": {},
   "outputs": [],
   "source": [
    "grid_df[grid_df[\"row\"] == \"D\"]"
   ]
  },
  {
   "cell_type": "code",
   "execution_count": null,
   "id": "subtle-ukraine",
   "metadata": {},
   "outputs": [],
   "source": [
    "hv.Layout(\n",
    "    [\n",
    "        heatmap_pos.sel(pos=pos).hvplot.quadmesh(\n",
    "            cmap=\"blues\",\n",
    "            logy=True,\n",
    "            logz=True,\n",
    "            clim=(1, 1e4),\n",
    "        )\n",
    "        for pos in range(60, 65)\n",
    "    ]\n",
    ").cols(1)"
   ]
  },
  {
   "cell_type": "code",
   "execution_count": null,
   "id": "authorized-documentary",
   "metadata": {},
   "outputs": [],
   "source": []
  }
 ],
 "metadata": {
  "kernelspec": {
   "display_name": "Python 3",
   "language": "python",
   "name": "python3"
  },
  "language_info": {
   "codemirror_mode": {
    "name": "ipython",
    "version": 3
   },
   "file_extension": ".py",
   "mimetype": "text/x-python",
   "name": "python",
   "nbconvert_exporter": "python",
   "pygments_lexer": "ipython3",
   "version": "3.9.2"
  }
 },
 "nbformat": 4,
 "nbformat_minor": 5
}
