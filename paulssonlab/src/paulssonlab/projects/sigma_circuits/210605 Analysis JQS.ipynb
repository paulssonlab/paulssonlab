{
 "cells": [
  {
   "cell_type": "code",
   "execution_count": null,
   "id": "oriental-contamination",
   "metadata": {},
   "outputs": [],
   "source": [
    "import pickle\n",
    "import re\n",
    "from datetime import datetime, timedelta\n",
    "from pathlib import Path\n",
    "\n",
    "import astropy.stats\n",
    "import holoviews as hv\n",
    "import hvplot.pandas\n",
    "import hvplot.xarray\n",
    "import matplotlib.pyplot as plt\n",
    "import numpy as np\n",
    "import pandas as pd\n",
    "import xarray as xr\n",
    "from astropy.stats import mad_std, sigma_clip\n",
    "from astropy.time import Time\n",
    "from cytoolz import get_in, partial\n",
    "\n",
    "IDX = pd.IndexSlice"
   ]
  },
  {
   "cell_type": "code",
   "execution_count": null,
   "id": "straight-lying",
   "metadata": {},
   "outputs": [],
   "source": [
    "%load_ext autoreload\n",
    "%autoreload 2"
   ]
  },
  {
   "cell_type": "code",
   "execution_count": null,
   "id": "numerous-scratch",
   "metadata": {},
   "outputs": [],
   "source": [
    "import paulssonlab.io.metadata as metadata\n",
    "import paulssonlab.projects.sigma_circuits.experiment as experiment\n",
    "import paulssonlab.projects.sigma_circuits.matriarch_stub as matriarch_stub\n",
    "import paulssonlab.projects.sigma_circuits.segmentation as segmentation"
   ]
  },
  {
   "cell_type": "code",
   "execution_count": null,
   "id": "lasting-meaning",
   "metadata": {},
   "outputs": [],
   "source": [
    "plt.rcParams[\"figure.figsize\"] = (20, 10)\n",
    "hv.extension(\"bokeh\")"
   ]
  },
  {
   "cell_type": "markdown",
   "id": "awful-jurisdiction",
   "metadata": {},
   "source": [
    "# Load data"
   ]
  },
  {
   "cell_type": "code",
   "execution_count": null,
   "id": "fleet-momentum",
   "metadata": {},
   "outputs": [],
   "source": [
    "# nd2_filename = \"/n/scratch3/groups/hms/sysbio/paulsson/jqs1/210324/PWM_flipped.nd2\"\n",
    "# nd2_filename2 = \"/n/scratch3/groups/hms/sysbio/paulsson/jqs1/210204/psc101_bistable.nd2\""
   ]
  },
  {
   "cell_type": "code",
   "execution_count": null,
   "id": "antique-israel",
   "metadata": {},
   "outputs": [],
   "source": [
    "# nd2 = matriarch_stub.get_nd2_reader(nd2_filename)"
   ]
  },
  {
   "cell_type": "code",
   "execution_count": null,
   "id": "center-investigator",
   "metadata": {},
   "outputs": [],
   "source": [
    "# filename = \"/n/groups/paulsson/jqs1/sigma-circuits/210329_expt210324flipped.pickle\"\n",
    "# filename = \"/n/groups/paulsson/jqs1/sigma-circuits/210329_expt210204nonflipped_psc101.pickle\"\n",
    "# filename = \"/n/groups/paulsson/jqs1/sigma-circuits/210402_expt210331ramp.pickle\"\n",
    "# filename = \"/n/groups/paulsson/jqs1/sigma-circuits/210507_expt210505.pickle\"\n",
    "# filename = \"/n/groups/paulsson/jqs1/sigma-circuits/210514_expt210511.pickle\"\n",
    "filename = \"/n/groups/paulsson/jqs1/sigma-circuits/210605_expt210602_2.pickle\"\n",
    "data = pickle.load(open(filename, \"rb\"))\n",
    "df = data[\"table\"]\n",
    "md = data[\"metadata\"]\n",
    "mux_log = data[\"mux_log\"]\n",
    "experiment_txt = data[\"experiment.txt\"]\n",
    "grid_df = data[\"grid\"]"
   ]
  },
  {
   "cell_type": "markdown",
   "id": "atmospheric-lying",
   "metadata": {},
   "source": [
    "# Acquisition times"
   ]
  },
  {
   "cell_type": "code",
   "execution_count": null,
   "id": "searching-tobacco",
   "metadata": {},
   "outputs": [],
   "source": [
    "md.keys()"
   ]
  },
  {
   "cell_type": "code",
   "execution_count": null,
   "id": "bound-scheduling",
   "metadata": {},
   "outputs": [],
   "source": [
    "dtimeabsolute = get_in(\n",
    "    (\"SLxPictureMetadata\", \"dTimeAbsolute\"),\n",
    "    md[\"image_metadata_sequence\"],\n",
    ")\n",
    "dtimeabsolute = Time(dtimeabsolute, format=\"jd\").to_datetime()\n",
    "dtimemsec = get_in(\n",
    "    (\"SLxPictureMetadata\", \"dTimeMSec\"),\n",
    "    md[\"image_metadata_sequence\"],\n",
    ")\n",
    "tdelta = timedelta(milliseconds=dtimemsec)"
   ]
  },
  {
   "cell_type": "code",
   "execution_count": null,
   "id": "dense-trinidad",
   "metadata": {},
   "outputs": [],
   "source": [
    "tdelta.total_seconds()"
   ]
  },
  {
   "cell_type": "code",
   "execution_count": null,
   "id": "incorporate-action",
   "metadata": {},
   "outputs": [],
   "source": [
    "first_position_times = md[\"acquisition_times\"][:: len(grid_df)] / 1e3  # seconds"
   ]
  },
  {
   "cell_type": "code",
   "execution_count": null,
   "id": "biological-replica",
   "metadata": {},
   "outputs": [],
   "source": [
    "last_good_cycle = np.argmax(np.diff(first_position_times) == 0) - 1"
   ]
  },
  {
   "cell_type": "code",
   "execution_count": null,
   "id": "mediterranean-barbados",
   "metadata": {},
   "outputs": [],
   "source": [
    "seconds_per_timepoint = first_position_times[last_good_cycle] / last_good_cycle"
   ]
  },
  {
   "cell_type": "code",
   "execution_count": null,
   "id": "loaded-george",
   "metadata": {},
   "outputs": [],
   "source": [
    "mux_times = [m[0] for m in mux_log]"
   ]
  },
  {
   "cell_type": "code",
   "execution_count": null,
   "id": "introductory-inspection",
   "metadata": {},
   "outputs": [],
   "source": [
    "mux_timepoints = [\n",
    "    (m - dtimeabsolute).total_seconds() / seconds_per_timepoint for m in mux_times\n",
    "]"
   ]
  },
  {
   "cell_type": "code",
   "execution_count": null,
   "id": "collaborative-toyota",
   "metadata": {},
   "outputs": [],
   "source": [
    "mux_timepoints"
   ]
  },
  {
   "cell_type": "code",
   "execution_count": null,
   "id": "handed-environment",
   "metadata": {},
   "outputs": [],
   "source": [
    "mux_timepoints2 = [\n",
    "    np.argmax((m - dtimeabsolute).total_seconds() <= first_position_times)\n",
    "    for m in mux_times\n",
    "]"
   ]
  },
  {
   "cell_type": "code",
   "execution_count": null,
   "id": "above-prior",
   "metadata": {},
   "outputs": [],
   "source": [
    "mux_timepoints2"
   ]
  },
  {
   "cell_type": "code",
   "execution_count": null,
   "id": "instant-title",
   "metadata": {},
   "outputs": [],
   "source": [
    "plt.plot(md[\"acquisition_times\"][:5000])"
   ]
  },
  {
   "cell_type": "markdown",
   "id": "extensive-ivory",
   "metadata": {},
   "source": [
    "# Filtered"
   ]
  },
  {
   "cell_type": "code",
   "execution_count": null,
   "id": "incorrect-cologne",
   "metadata": {},
   "outputs": [],
   "source": [
    "sensor_width = int(get_in((\"image_attributes\", \"SLxImageAttributes\", \"uiWidth\"), md))\n",
    "sensor_height = int(get_in((\"image_attributes\", \"SLxImageAttributes\", \"uiHeight\"), md))"
   ]
  },
  {
   "cell_type": "code",
   "execution_count": null,
   "id": "complete-symphony",
   "metadata": {},
   "outputs": [],
   "source": [
    "%%time\n",
    "# skip background\n",
    "cells = df.loc[IDX[:, :, 1:]].join(grid_df).reset_index()\n",
    "cells[\"dist_from_center\"] = np.sqrt(\n",
    "    (cells[\"centroid-0\"] - sensor_width) ** 2\n",
    "    + (cells[\"centroid-1\"] - sensor_height) ** 2\n",
    ")"
   ]
  },
  {
   "cell_type": "code",
   "execution_count": null,
   "id": "3ae4b6be-03a8-42d1-aab3-2b6d77ca3397",
   "metadata": {},
   "outputs": [],
   "source": [
    "cells[\"area\"][cells[\"area\"].between(100, 1e3)].hvplot.hist(bins=50)"
   ]
  },
  {
   "cell_type": "code",
   "execution_count": null,
   "id": "purple-tobacco",
   "metadata": {},
   "outputs": [],
   "source": [
    "cells[\"dist_from_center\"].hvplot.hist(bins=50)"
   ]
  },
  {
   "cell_type": "code",
   "execution_count": null,
   "id": "loved-dublin",
   "metadata": {},
   "outputs": [],
   "source": [
    "cells[\"RFP-PENTA\"][cells[\"RFP-PENTA\"].between(100, 5e3)].hvplot.hist(bins=100)"
   ]
  },
  {
   "cell_type": "code",
   "execution_count": null,
   "id": "cc63caea-90b6-49e9-b465-1139d21eb601",
   "metadata": {},
   "outputs": [],
   "source": [
    "cells[\"GFP-PENTA\"][cells[\"GFP-PENTA\"].between(100, 3.5e3)].hvplot.hist(bins=100)"
   ]
  },
  {
   "cell_type": "code",
   "execution_count": null,
   "id": "literary-shower",
   "metadata": {},
   "outputs": [],
   "source": [
    "cells[\"RFP-PENTA\"][\n",
    "    (cells[\"RFP-PENTA\"] > 1) & ~np.isnan(cells[\"RFP-PENTA\"])\n",
    "].hvplot.hist(logy=True)"
   ]
  },
  {
   "cell_type": "code",
   "execution_count": null,
   "id": "345df937-6953-4ac6-a957-0d65338ce948",
   "metadata": {},
   "outputs": [],
   "source": [
    "%%time\n",
    "filtered_cells = cells[\n",
    "    cells[\"area\"].between(150, 400)\n",
    "    # & cells[\"GFP-PENTA\"].between(100, 8000)\n",
    "    # & cells[\"RFP-PENTA\"].between(475, 4000)\n",
    "    # & ~cells[\"row\"].isin([\"E\"])\n",
    "    # & (cells[\"dist_from_center\"] < 3000)\n",
    "    # & (cells[\"t\"] <= 169)\n",
    "][[\"GFP-PENTA\", \"RFP-PENTA\", \"area\", \"row\", \"pos\", \"t\"]]"
   ]
  },
  {
   "cell_type": "code",
   "execution_count": null,
   "id": "present-kidney",
   "metadata": {},
   "outputs": [],
   "source": [
    "%%time\n",
    "groupby = \"row\"  # row or pos\n",
    "\n",
    "medians = filtered_cells.groupby([groupby, \"t\"]).agg(\n",
    "    [\"median\", astropy.stats.median_absolute_deviation]\n",
    ")\n",
    "\n",
    "\n",
    "def get_limits(x):\n",
    "    x = x.droplevel(0, axis=1)\n",
    "    return pd.DataFrame(\n",
    "        {\n",
    "            \"lower\": x[\"median\"] - x[\"median_absolute_deviation\"],\n",
    "            \"upper\": x[\"median\"] + x[\"median_absolute_deviation\"],\n",
    "        }\n",
    "    )\n",
    "\n",
    "\n",
    "limits = medians.groupby(level=0, axis=1).apply(get_limits)"
   ]
  },
  {
   "cell_type": "code",
   "execution_count": null,
   "id": "horizontal-trinity",
   "metadata": {},
   "outputs": [],
   "source": [
    "observable = \"GFP-PENTA\"\n",
    "\n",
    "if groupby == \"pos\":\n",
    "    medians2 = medians[observable][[\"median\"]].join(grid_df)\n",
    "    limits2 = limits[observable].join(grid_df)\n",
    "    mask = medians2[\"row\"].isin([\"A\"])  # TODO\n",
    "    medians2 = medians2[mask]\n",
    "    limits2 = limits2[mask]\n",
    "else:\n",
    "    medians2 = medians[observable].reset_index()\n",
    "    limits2 = limits[observable].reset_index()\n",
    "mean_plot = medians2.hvplot.line(\"t\", \"median\", by=groupby, logy=True)\n",
    "noise_plot = limits2.hvplot.area(\n",
    "    x=\"t\", y=\"lower\", y2=\"upper\", by=groupby, stacked=False, alpha=0.2, logy=True\n",
    ")"
   ]
  },
  {
   "cell_type": "code",
   "execution_count": null,
   "id": "16fb0700-02e6-4c95-bb23-befe5c66c65c",
   "metadata": {},
   "outputs": [],
   "source": [
    "(mean_plot * noise_plot).opts(width=800, height=800)"
   ]
  },
  {
   "cell_type": "markdown",
   "id": "suburban-toyota",
   "metadata": {},
   "source": [
    "## Heatmap"
   ]
  },
  {
   "cell_type": "code",
   "execution_count": null,
   "id": "focal-samuel",
   "metadata": {},
   "outputs": [],
   "source": [
    "%%time\n",
    "channel = \"GFP-PENTA\"\n",
    "bins = np.geomspace(filtered_cells[channel].min(), filtered_cells[channel].max(), 100)\n",
    "heatmap = filtered_cells.groupby([\"row\", \"t\"]).apply(\n",
    "    lambda x: pd.Series(np.histogram(x[channel], bins=bins)[0], index=bins[:-1])\n",
    ")\n",
    "heatmap.columns.name = channel\n",
    "heatmap = xr.Dataset({row: heatmap.loc[row].T for row in heatmap.index.levels[0]})"
   ]
  },
  {
   "cell_type": "code",
   "execution_count": null,
   "id": "specified-heating",
   "metadata": {},
   "outputs": [],
   "source": [
    "hv.Layout(\n",
    "    [\n",
    "        heatmap[row].hvplot.quadmesh(\n",
    "            cmap=\"blues\",\n",
    "            logy=True,\n",
    "            logz=True,\n",
    "            clim=(1, 1e4),\n",
    "        )\n",
    "        for row in (\"A\", \"B\", \"C\", \"D\", \"E\", \"F\", \"G\", \"H\")\n",
    "    ]\n",
    ").cols(1)"
   ]
  },
  {
   "cell_type": "code",
   "execution_count": null,
   "id": "forbidden-expense",
   "metadata": {},
   "outputs": [],
   "source": [
    "heatmap.D.hvplot.quadmesh(cmap=\"blues\", logy=True, logz=True, clim=(1, 1e4))"
   ]
  },
  {
   "cell_type": "code",
   "execution_count": null,
   "id": "psychological-intention",
   "metadata": {},
   "outputs": [],
   "source": [
    "%%time\n",
    "channel = \"GFP-PENTA\"\n",
    "bins = np.geomspace(filtered_cells[channel].min(), filtered_cells[channel].max(), 100)\n",
    "heatmap_pos = filtered_cells.groupby([\"pos\", \"t\"]).apply(\n",
    "    lambda x: pd.Series(np.histogram(x[channel], bins=bins)[0], index=bins[:-1])\n",
    ")\n",
    "heatmap_pos.columns.name = channel\n",
    "heatmap_pos = xr.concat(\n",
    "    [xr.DataArray(heatmap_pos.loc[pos].T) for pos in heatmap_pos.index.levels[0]],\n",
    "    heatmap_pos.index.levels[0],\n",
    ")"
   ]
  },
  {
   "cell_type": "code",
   "execution_count": null,
   "id": "adjustable-attitude",
   "metadata": {},
   "outputs": [],
   "source": [
    "grid_df[grid_df[\"row\"] == \"D\"]"
   ]
  },
  {
   "cell_type": "code",
   "execution_count": null,
   "id": "apart-contamination",
   "metadata": {},
   "outputs": [],
   "source": [
    "hv.Layout(\n",
    "    [\n",
    "        heatmap_pos.sel(pos=pos).hvplot.quadmesh(\n",
    "            cmap=\"blues\",\n",
    "            logy=True,\n",
    "            logz=True,\n",
    "            clim=(1, 1e4),\n",
    "        )\n",
    "        for pos in range(60, 65)\n",
    "    ]\n",
    ").cols(1)"
   ]
  }
 ],
 "metadata": {
  "kernelspec": {
   "display_name": "Python 3",
   "language": "python",
   "name": "python3"
  },
  "language_info": {
   "codemirror_mode": {
    "name": "ipython",
    "version": 3
   },
   "file_extension": ".py",
   "mimetype": "text/x-python",
   "name": "python",
   "nbconvert_exporter": "python",
   "pygments_lexer": "ipython3",
   "version": "3.9.2"
  }
 },
 "nbformat": 4,
 "nbformat_minor": 5
}
