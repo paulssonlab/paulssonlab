{
 "cells": [
  {
   "cell_type": "code",
   "execution_count": null,
   "id": "9422c1e5-ec0a-4c45-bc69-b7609f770a52",
   "metadata": {},
   "outputs": [],
   "source": [
    "using Catalyst\n",
    "\n",
    "function heaviside(t)\n",
    "   0.5 * (sign(t) + 1)\n",
    "end\n",
    "n=10\n",
    "function hill(t,τ)\n",
    "   t^n/(t^n+τ^n)\n",
    "end\n",
    "function logistic(t,τ)\n",
    "   1/(1+3^(-1*(t-τ)))\n",
    "end\n",
    "function steps(t)\n",
    "    .2*logistic(t,20) + .4*logistic(t,70) - .6*logistic(t,120)\n",
    "end\n",
    "\n",
    "sigma_model = @reaction_network begin\n",
    "    μ1*steps(t), ∅ --> S1\n",
    "#     .02*μ*t, ∅ --> S\n",
    "#     μ, ∅ --> S\n",
    "    k/(S1+Kd), S1 --> S1 + G1\n",
    "    γ, S1 --> ∅\n",
    "    γ, G1 --> ∅\n",
    "    μ2*steps(t), ∅ --> S2\n",
    "#     .02*μ*t, ∅ --> S\n",
    "#     μ, ∅ --> S\n",
    "    k/(S2+Kd), S2 --> S2 + G2\n",
    "    γ, S2 --> ∅\n",
    "    γ, G2 --> ∅\n",
    "    end μ1 μ2 k Kd γ"
   ]
  },
  {
   "cell_type": "code",
   "execution_count": null,
   "id": "3c9e57c2-94fb-446b-bdf5-647fff87749a",
   "metadata": {},
   "outputs": [],
   "source": [
    "using Latexify\n",
    "odes = convert(ODESystem, sigma_model)\n",
    "latexify(odes)"
   ]
  },
  {
   "cell_type": "code",
   "execution_count": null,
   "id": "40a69bb4-c11f-489a-a9e0-490ec8049e3a",
   "metadata": {},
   "outputs": [],
   "source": [
    "using DifferentialEquations, Plots\n",
    "\n",
    "cc = [\"#835C3B\" \"#10DA05\"]\n",
    "\n",
    "## Parameters [μ k Kd γ]\n",
    "p = (20, 10, 10, 8, .2)\n",
    "u₀ = [1., 1.,1.,1.]\n",
    "tspan = (0., 150.)\n",
    "\n",
    "\n",
    "# create the ODEProblem \n",
    "ds = ODEProblem(sigma_model, u₀, tspan, p)\n",
    "sol = solve(ds, Tsit5())\n",
    "plot(sol, lw=4, lc=cc, legend=false)"
   ]
  },
  {
   "cell_type": "code",
   "execution_count": null,
   "id": "b5e4d8ec-8c25-49e6-ad95-2159742b561d",
   "metadata": {},
   "outputs": [],
   "source": [
    "ds_discrete = DiscreteProblem(sigma_model, [1, 1], tspan, p)\n",
    "jump_ds = JumpProblem(sigma_model, ds_discrete, Direct())\n",
    "\n",
    "sol = solve(jump_ds, SSAStepper())\n",
    "plot(sol, lw=4, lc=cc, legend=false)"
   ]
  },
  {
   "cell_type": "code",
   "execution_count": null,
   "id": "1c7ab266-7d3b-4d06-8dab-9d658b221d74",
   "metadata": {},
   "outputs": [],
   "source": [
    "\n",
    "## Parameter inference\n",
    "x0_inf = [1.; 1.;1.;1.]\n",
    "p_inf = [20, 10, 10, 8, .2]\n",
    "tspan = (0.0, 150.0)\n",
    "\n",
    "ds = ODEProblem(sigma_model, x0_inf, tspan, p_inf)\n",
    "\n",
    "sol = solve(ds,Tsit5(),saveat=3)\n",
    "targetdata = Array(sol) + .5*randn(size(Array(sol)))\n",
    "\n",
    "plot(sol, alpha = 0.5, lc=cc, legend = false); scatter!(sol.t, targetdata', color=cc)"
   ]
  },
  {
   "cell_type": "code",
   "execution_count": null,
   "id": "39535c4c-b38d-43cf-b976-c1da3693ea3e",
   "metadata": {},
   "outputs": [],
   "source": [
    "using Turing \n",
    "@model function fitmodel(data, ds)\n",
    "    σ ~ InverseGamma(2, 3) \n",
    "    μ1 ~ truncated(Normal(15.0,5.0),0,100)\n",
    "    μ2 ~ truncated(Normal(15.0,5.0),0,100)\n",
    "    k ~ truncated(Normal(3.0,5.0),0,100)\n",
    "    Kd ~ truncated(Normal(20.0,5.0),0,100)\n",
    "    γ ~ truncated(Normal(2.0,1.0),0,10)\n",
    "\n",
    "    p = [μ1,μ2,k,Kd,γ]\n",
    "    prob = remake(ds, p=p)\n",
    "    predicted = solve(prob,Tsit5(),saveat=3)\n",
    "\n",
    "    for i = 1:length(predicted)\n",
    "#         data[:,i] ~ MvNormal(predicted[i], σ)\n",
    "        data[:,i] ~ MvNormal(predicted[[2,4],i], σ)\n",
    "\n",
    "    end\n",
    "end\n",
    "\n",
    "model = fitmodel(targetdata[[2,4],:], ds)\n",
    "@time chain = mapreduce(c -> sample(model, NUTS(.7), 1000), chainscat, 1:2)"
   ]
  },
  {
   "cell_type": "code",
   "execution_count": null,
   "id": "d9f9ad94-a87a-401f-836f-0700d6c8c9aa",
   "metadata": {},
   "outputs": [],
   "source": [
    "using StatsPlots\n",
    "plot(chain)"
   ]
  },
  {
   "cell_type": "code",
   "execution_count": null,
   "id": "dcb69c75-df35-416e-bce7-84805249e976",
   "metadata": {},
   "outputs": [],
   "source": [
    "scatter(sol.t, targetdata', color=cc)\n",
    "chain_array = Array(chain)\n",
    "for k in 1:30\n",
    "    resol = solve(remake(ds,p=chain_array[rand(1:1500), 2:6]),Tsit5(),saveat=2)\n",
    "    plot!(resol, w=2, alpha=0.2, color = \"#BBBBBB\", legend = false)\n",
    "end\n",
    "# display(pl)\n",
    "plot!(sol, w=.1, legend = false)"
   ]
  },
  {
   "cell_type": "code",
   "execution_count": null,
   "id": "0983af5f-a3eb-4203-ba29-8c8931374450",
   "metadata": {},
   "outputs": [],
   "source": [
    "resol"
   ]
  },
  {
   "cell_type": "code",
   "execution_count": null,
   "id": "767f6e9b-8279-4a08-aec2-df88279be0c2",
   "metadata": {},
   "outputs": [],
   "source": []
  }
 ],
 "metadata": {
  "kernelspec": {
   "display_name": "Julia 1.6.2",
   "language": "julia",
   "name": "julia-1.6"
  },
  "language_info": {
   "file_extension": ".jl",
   "mimetype": "application/julia",
   "name": "julia",
   "version": "1.6.2"
  }
 },
 "nbformat": 4,
 "nbformat_minor": 5
}
