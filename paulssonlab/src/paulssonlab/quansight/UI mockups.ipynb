{
 "cells": [
  {
   "cell_type": "code",
   "execution_count": null,
   "id": "59cbab23-a508-4d11-b874-30d1d3b1b285",
   "metadata": {},
   "outputs": [],
   "source": [
    "import numpy as np\n",
    "import pandas as pd\n",
    "import holoviews as hv\n",
    "import panel as pn"
   ]
  },
  {
   "cell_type": "code",
   "execution_count": null,
   "id": "4cdd10d9-9212-4a5a-8794-cef53a1d2e88",
   "metadata": {},
   "outputs": [],
   "source": [
    "hv.extension(\"bokeh\")"
   ]
  },
  {
   "cell_type": "code",
   "execution_count": null,
   "id": "b00e475d-67e1-48ab-aa74-e772eea27905",
   "metadata": {},
   "outputs": [],
   "source": [
    "t = np.linspace(0, 24, 24 * 6)\n",
    "N = 1000\n",
    "cell_area = np.random.normal([6, 6.5], 2, size=(N, 2)).T\n",
    "cell_length = np.random.normal([4, 4.3], 1, size=(N, 2)).T\n",
    "cell_width = np.random.normal([1.5, 1.6], 1, size=(N, 2)).T\n",
    "rfp = np.random.normal([300, 320], 50, size=(N, 2)).T\n",
    "yfp = np.random.normal([15000, 15500], 50, size=(N, 2)).T\n",
    "cfp = np.random.normal([400, 450], 50, size=(N, 2)).T\n",
    "# growth_rates_timecourse = np.random.normal(2/(1+np.exp(-(t-12)/3)), 0.1, size=t.shape)\n",
    "# growth_rates_timecourse = np.random.normal(2/(1+np.exp(-(t-12)/3)), 0.1, size=t.shape)"
   ]
  },
  {
   "cell_type": "code",
   "execution_count": null,
   "id": "29281b38-bed8-4d87-ba65-7a6103a5ccd4",
   "metadata": {},
   "outputs": [],
   "source": [
    "def plot_histogram(data, title):\n",
    "    hist0 = np.histogram(data, bins=30)\n",
    "    hist1 = np.histogram(data[0], bins=hist0[1])\n",
    "    hist2 = np.histogram(data[1], bins=hist0[1])\n",
    "    return (\n",
    "        hv.Curve(hv.Histogram(hist1)).opts(interpolation=\"steps-mid\")\n",
    "        * hv.Curve(hv.Histogram(hist2)).opts(\n",
    "            interpolation=\"steps-mid\", color=\"gray\", alpha=0.4\n",
    "        )\n",
    "    ).opts(height=150, width=500, yaxis=\"bare\", labelled=[], title=title)"
   ]
  },
  {
   "cell_type": "code",
   "execution_count": null,
   "id": "e1f71fab-0a87-414f-976b-0847a0b307b2",
   "metadata": {},
   "outputs": [],
   "source": [
    "plot_histogram(cell_area, \"Cell area\")"
   ]
  },
  {
   "cell_type": "code",
   "execution_count": null,
   "id": "27642414-4e26-4619-baea-c2dcc69521f3",
   "metadata": {},
   "outputs": [],
   "source": []
  },
  {
   "cell_type": "code",
   "execution_count": null,
   "id": "ba97ef50-0a2e-4fcf-a6f8-55157f1c04d3",
   "metadata": {},
   "outputs": [],
   "source": [
    "pn.Column(\n",
    "    pn.WidgetBox(\n",
    "        \"## Live experiment status\",\n",
    "        pn.widgets.StaticText(name=\"Last channel\", value=\"YFP\"),\n",
    "        pn.widgets.StaticText(name=\"Last timepoint\", value=\"61 (10hr 13min 5s)\"),\n",
    "        pn.widgets.StaticText(\n",
    "            name=\"Last position\", value=\"position 12 (row: 1, column: 12)\"\n",
    "        ),\n",
    "        pn.widgets.Select(\n",
    "            name=\"Reference experiment:\",\n",
    "            options=[\"None\", \"220301_pilot_experiment.nd2\"],\n",
    "        ),\n",
    "    ),\n",
    "    plot_histogram(cell_area, \"Cell area\"),\n",
    "    plot_histogram(cell_length, \"Cell length\"),\n",
    "    plot_histogram(cell_width, \"Cell width\"),\n",
    "    plot_histogram(rfp, \"RFP\").redim(x=\"RFP\"),\n",
    "    plot_histogram(yfp, \"YFP\").redim(x=\"YFP\"),\n",
    "    plot_histogram(cfp, \"CFP\").redim(x=\"CFP\"),\n",
    ")"
   ]
  },
  {
   "cell_type": "code",
   "execution_count": null,
   "id": "b06250c5-8ea3-43a5-a595-a8301234b19e",
   "metadata": {},
   "outputs": [],
   "source": [
    "pn.widgets.Select?"
   ]
  },
  {
   "cell_type": "code",
   "execution_count": null,
   "id": "60ad3be5-8dbc-443e-8228-459f0325d577",
   "metadata": {},
   "outputs": [],
   "source": [
    "filter_cells(\"SELECT cell WHERE yfp > quantile(yfp, 0.75) and cell_length > 2.5\")"
   ]
  },
  {
   "cell_type": "code",
   "execution_count": null,
   "id": "26c1da95-e928-4091-827f-f9af2c067963",
   "metadata": {},
   "outputs": [],
   "source": []
  }
 ],
 "metadata": {
  "kernelspec": {
   "display_name": "Python 3 (ipykernel)",
   "language": "python",
   "name": "python3"
  },
  "language_info": {
   "codemirror_mode": {
    "name": "ipython",
    "version": 3
   },
   "file_extension": ".py",
   "mimetype": "text/x-python",
   "name": "python",
   "nbconvert_exporter": "python",
   "pygments_lexer": "ipython3",
   "version": "3.10.4"
  }
 },
 "nbformat": 4,
 "nbformat_minor": 5
}
