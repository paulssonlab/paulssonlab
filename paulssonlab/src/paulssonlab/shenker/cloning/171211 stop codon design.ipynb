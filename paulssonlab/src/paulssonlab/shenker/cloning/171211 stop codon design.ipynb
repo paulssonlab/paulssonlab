{
 "cells": [
  {
   "cell_type": "code",
   "execution_count": null,
   "id": "0",
   "metadata": {},
   "outputs": [],
   "source": [
    "from collections import defaultdict\n",
    "from itertools import zip_longest"
   ]
  },
  {
   "cell_type": "code",
   "execution_count": null,
   "id": "1",
   "metadata": {},
   "outputs": [],
   "source": [
    "mvenus_seq = \"ATGAGTAAAGGAGAAGAACTTTTCACTGGAGTTGTCCCAATTCTTGTTGAATTAGATGGTGATGTTAATGGGCACAAATTTTCTGTCAGTGGAGAGGGTGAAGGTGATGCAACATACGGAAAACTTACCCTTAAATTGATTTGCACTACTGGAAAACTACCTGTTCCATGGCCAACACTTGTCACTACTTTGGGTTATGGTGTTCAATGCTTTGCGAGATACCCAGATCATATGAAACAGCATGACTTTTTCAAGAGTGCCATGCCCGAAGGTTATGTACAGGAAAGAACTATATTTTTCAAAGATGACGGGAACTACAAGACACGTGCTGAAGTCAAGTTTGAAGGTGATACCCTTGTTAATAGAATCGAGTTAAAAGGTATTGATTTTAAAGAAGATGGAAACATTCTTGGACACAAATTGGAATACAACTATAACTCACACAATGTATACATCACGGCAGACAAACAAAAGAATGGAATCAAAGCGAACTTCAAAATTAGACACAACATTGAAGATGGAGGTGTTCAACTAGCAGACCATTATCAACAAAATACTCCAATTGGCGATGGCCCTGTCCTTTTACCAGACAACCATTACCTGTCCTACCAATCTAAGCTTTCGAAAGATCCCAACGAAAAGAGAGACCACATGGTCCTTCTTGAGTTTGTAACAGCTGCTGGGATTACACATGGCATGGATGAACTATACAAATAA\"\n",
    "mscfp3_seq = \"ATGAGTAAAGGAGAAGAACTTTTCACTGGAGTTGTCCCAATTCTTGTTGAATTAGATGGTGATGTTAATGGGCACAAATTTTCTGTCAGTGGAGAGGGTGAAGGTGATGCAACATACGGAAAACTTACCCTTAAATTTATTTGCACTACTGGAAAACTACCTGTTCCATGGCCAACACTTGTCACTACTCTCACTTGGGGTGTTCAATGCTTTGCAAGATACCCAGATCATATGAAACAGCATGACTTTTTCAAGAGTGCCATGCCCGAAGGTTATGTACAGGAAAGAACTATATTTTTCAAAGATGACGGGAACTACAAGACACGTGCTGAAGTCAAGTTTGAAGGTGATACCCTTGTTAATAGAATCGAGTTAAAAGGTATTGATTTTAAAGAAGATGGAAACATTCTTGGACACAAATTGGAATACAACTACATCTCAGACAATGTATACATCACGGCAGACAAACAAAAGAATGGAATCAAAGCTAACTTCAAAATTAGACACAACATTGAAGATGGAGGCGTTCAACTAGCAGACCATTATCAACAAAATACTCCAATTGGCGATGGCCCTGTCCTTTTACCAGACAACCATTACCTGTCCACACAATCTAAGCTTTCGAAAGATCCCAACGAAAAGAGAGACCACATGGTCCTTCTTGAGTTTGTAACAGCTGCTGGGATTACACATGGCATGGATGAACTATACAAATAA\"\n",
    "mscarlet_seq = \"ATGAGTAAAGGAGAAGCTGTGATTAAAGAGTTCATGCGCTTCAAAGTTCACATGGAGGGTTCTATGAACGGTCACGAGTTCGAGATCGAAGGCGAAGGCGAGGGCCGTCCGTATGAAGGCACCCAGACCGCCAAACTGAAAGTGACTAAAGGCGGCCCGCTGCCTTTTTCCTGGGACATCCTGAGCCCGCAATTTATGTACGGTTCTAGGGCGTTCATCAAACACCCAGCGGATATCCCGGACTATTATAAGCAGTCTTTTCCGGAAGGTTTCAAGTGGGAACGCGTAATGAATTTTGAAGATGGTGGTGCCGTGACCGTCACTCAGGACACCTCCCTGGAGGATGGCACCCTGATCTATAAAGTTAAACTGCGTGGTACTAATTTTCCACCTGATGGCCCGGTGATGCAGAAAAAGACGATGGGTTGGGAGGCGTCTACCGAACGCTTGTATCCGGAAGATGGTGTGCTGAAAGGCGACATTAAAATGGCCCTGCGCCTGAAAGATGGCGGCCGCTATCTGGCTGACTTCAAAACCACGTACAAAGCCAAGAAACCTGTGCAGATGCCTGGCGCGTACAATGTGGACCGCAAACTGGACATCACCTCTCATAATGAAGATTATACGGTGGTAGAGCAATATGAGCGCTCCGAGGGTCGTCATTCTACCGGTGGCATGGATGAACTATACAAATAA\""
   ]
  },
  {
   "cell_type": "code",
   "execution_count": null,
   "id": "2",
   "metadata": {},
   "outputs": [],
   "source": [
    "# seq = mvenus_seq.lower()\n",
    "seq = mscfp3_seq.lower()"
   ]
  },
  {
   "cell_type": "code",
   "execution_count": null,
   "id": "3",
   "metadata": {},
   "outputs": [],
   "source": [
    "stop_codons = [\"tag\", \"taa\", \"tga\"]"
   ]
  },
  {
   "cell_type": "code",
   "execution_count": null,
   "id": "4",
   "metadata": {},
   "outputs": [],
   "source": [
    "# FROM: https://docs.python.org/3/library/itertools.html#recipes\n",
    "def grouper(iterable, n, fillvalue=None):\n",
    "    \"Collect data into fixed-length chunks or blocks\"\n",
    "    args = [iter(iterable)] * n\n",
    "    return zip_longest(*args, fillvalue=fillvalue)"
   ]
  },
  {
   "cell_type": "code",
   "execution_count": null,
   "id": "5",
   "metadata": {},
   "outputs": [],
   "source": [
    "def site_diff(a, b):\n",
    "    diff = []\n",
    "    for i, (x_a, x_b) in enumerate(zip(a, b)):\n",
    "        if x_a != x_b:\n",
    "            diff.append((i, x_a, x_b))\n",
    "    return diff"
   ]
  },
  {
   "cell_type": "code",
   "execution_count": null,
   "id": "6",
   "metadata": {},
   "outputs": [],
   "source": [
    "for res, codon in enumerate(grouper(seq, 3)):\n",
    "    for stop_codon in stop_codons:\n",
    "        diff = site_diff(codon, stop_codon)\n",
    "        if len(diff) == 1:\n",
    "            hit = diff[0][2] == \"g\"\n",
    "            print(res, \"\".join(codon), \"->\", stop_codon, diff, \"***\" if hit else \"\")"
   ]
  },
  {
   "cell_type": "code",
   "execution_count": null,
   "id": "7",
   "metadata": {},
   "outputs": [],
   "source": [
    "synonymous_codons = {\n",
    "    \"CYS\": [\"TGT\", \"TGC\"],\n",
    "    \"ASP\": [\"GAT\", \"GAC\"],\n",
    "    \"SER\": [\"TCT\", \"TCG\", \"TCA\", \"TCC\", \"AGC\", \"AGT\"],\n",
    "    \"GLN\": [\"CAA\", \"CAG\"],\n",
    "    \"MET\": [\"ATG\"],\n",
    "    \"ASN\": [\"AAC\", \"AAT\"],\n",
    "    \"PRO\": [\"CCT\", \"CCG\", \"CCA\", \"CCC\"],\n",
    "    \"LYS\": [\"AAG\", \"AAA\"],\n",
    "    \"STOP\": [\"TAG\", \"TGA\", \"TAA\"],\n",
    "    \"THR\": [\"ACC\", \"ACA\", \"ACG\", \"ACT\"],\n",
    "    \"PHE\": [\"TTT\", \"TTC\"],\n",
    "    \"ALA\": [\"GCA\", \"GCC\", \"GCG\", \"GCT\"],\n",
    "    \"GLY\": [\"GGT\", \"GGG\", \"GGA\", \"GGC\"],\n",
    "    \"ILE\": [\"ATC\", \"ATA\", \"ATT\"],\n",
    "    \"LEU\": [\"TTA\", \"TTG\", \"CTC\", \"CTT\", \"CTG\", \"CTA\"],\n",
    "    \"HIS\": [\"CAT\", \"CAC\"],\n",
    "    \"ARG\": [\"CGA\", \"CGC\", \"CGG\", \"CGT\", \"AGG\", \"AGA\"],\n",
    "    \"TRP\": [\"TGG\"],\n",
    "    \"VAL\": [\"GTA\", \"GTC\", \"GTG\", \"GTT\"],\n",
    "    \"GLU\": [\"GAG\", \"GAA\"],\n",
    "    \"TYR\": [\"TAT\", \"TAC\"],\n",
    "}"
   ]
  },
  {
   "cell_type": "code",
   "execution_count": null,
   "id": "8",
   "metadata": {},
   "outputs": [],
   "source": [
    "codon_to_aa = {}\n",
    "for aa, codons in synonymous_codons.items():\n",
    "    for codon in codons:\n",
    "        codon_to_aa[codon.lower()] = aa"
   ]
  },
  {
   "cell_type": "code",
   "execution_count": null,
   "id": "9",
   "metadata": {},
   "outputs": [],
   "source": [
    "codon_to_aa"
   ]
  },
  {
   "cell_type": "code",
   "execution_count": null,
   "id": "10",
   "metadata": {},
   "outputs": [],
   "source": [
    "bases = \"atcg\"\n",
    "stops_for_mutation = defaultdict(list)\n",
    "\n",
    "for b1 in bases:\n",
    "    for b2 in bases:\n",
    "        if b1 == b2:\n",
    "            continue\n",
    "        for res, codon in enumerate(grouper(seq[:-3], 3)):\n",
    "            sub_codons = synonymous_codons[codon_to_aa[\"\".join(codon)]]\n",
    "            for stop_codon in stop_codons:\n",
    "                for sub_codon in sub_codons:\n",
    "                    sub_codon = sub_codon.lower()\n",
    "                    diff = site_diff(sub_codon, stop_codon)\n",
    "                    if len(diff) == 1:\n",
    "                        # hit = diff[0][1] == 'a' and diff[0][2] == 'g'\n",
    "                        # hit = diff[0][2] == 'g'\n",
    "                        hit = diff[0][1] == b2 and diff[0][2] == b1\n",
    "                        # print(res, ''.join(sub_codon), '->', stop_codon, diff, '***' if hit else '')\n",
    "                        if hit:\n",
    "                            stops_for_mutation[(b1, b2)].append(\n",
    "                                (res, sub_codon, stop_codon, diff)\n",
    "                            )"
   ]
  },
  {
   "cell_type": "code",
   "execution_count": null,
   "id": "11",
   "metadata": {},
   "outputs": [],
   "source": [
    "num_stops_for_mutation = {k: len(v) for k, v in stops_for_mutation.items()}"
   ]
  },
  {
   "cell_type": "code",
   "execution_count": null,
   "id": "12",
   "metadata": {},
   "outputs": [],
   "source": [
    "stops_for_mutation[(\"a\", \"g\")]"
   ]
  },
  {
   "cell_type": "code",
   "execution_count": null,
   "id": "13",
   "metadata": {},
   "outputs": [],
   "source": [
    "num_stops_for_mutation"
   ]
  },
  {
   "cell_type": "code",
   "execution_count": null,
   "id": "14",
   "metadata": {},
   "outputs": [],
   "source": [
    "seq"
   ]
  }
 ],
 "metadata": {
  "kernelspec": {
   "display_name": "Python 3",
   "language": "python",
   "name": "python3"
  },
  "language_info": {
   "codemirror_mode": {
    "name": "ipython",
    "version": 3
   },
   "file_extension": ".py",
   "mimetype": "text/x-python",
   "name": "python",
   "nbconvert_exporter": "python",
   "pygments_lexer": "ipython3",
   "version": "3.6.4"
  },
  "toc": {
   "colors": {
    "hover_highlight": "#DAA520",
    "running_highlight": "#FF0000",
    "selected_highlight": "#FFD700"
   },
   "moveMenuLeft": true,
   "nav_menu": {
    "height": "12px",
    "width": "252px"
   },
   "navigate_menu": true,
   "number_sections": true,
   "sideBar": true,
   "threshold": 4,
   "toc_cell": false,
   "toc_section_display": "block",
   "toc_window_display": false
  }
 },
 "nbformat": 4,
 "nbformat_minor": 2
}
