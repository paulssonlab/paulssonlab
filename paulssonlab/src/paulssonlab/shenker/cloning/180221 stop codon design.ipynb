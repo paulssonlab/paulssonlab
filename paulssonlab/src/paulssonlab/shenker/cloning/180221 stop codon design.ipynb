{
 "cells": [
  {
   "cell_type": "code",
   "execution_count": null,
   "id": "0",
   "metadata": {},
   "outputs": [],
   "source": [
    "import ipywidgets\n",
    "import pandas as pd\n",
    "import qgrid"
   ]
  },
  {
   "cell_type": "code",
   "execution_count": null,
   "id": "1",
   "metadata": {},
   "outputs": [],
   "source": [
    "%load_ext autoreload\n",
    "%autoreload 2"
   ]
  },
  {
   "cell_type": "code",
   "execution_count": null,
   "id": "2",
   "metadata": {},
   "outputs": [],
   "source": [
    "from cloning import *"
   ]
  },
  {
   "cell_type": "code",
   "execution_count": null,
   "id": "3",
   "metadata": {},
   "outputs": [],
   "source": [
    "rcvenus_seq = \"atgagtaaaggcgaagaattgttcactggcgtggtaccgatcctggtagaactggatggcgacgttaatggtcacaagttcagcgttagtggagagggtgaaggtgatgcgacctatggcaaactgaccctgaagctgatctgcacaaccggcaagctgcctgttccttggccgacactggttacaacgctgggctatggcgtacaatgtttcgcacggtacccggaccacatgaagcaacatgacttcttcaagagcgctatgcctgaaggctatgtccaagaaaggactatcttcttcaaagacgacggcaattacaagacacgggccgaagtcaaattcgaaggcgatacgctggtcaacagaatcgagctgaaaggcatcgacttcaaggaagatggcaacatcctgggccataaactggaatataattataacagtcataatgtgtatatcaccgctgacaaacaaaagaatggcatcaaggccaacttcaaaatcagacataacatcgaagatggaggtgttcaactggcagaccactaccaacaaaatactccgatcggcgatggcccggtgctgctgccggataaccattatctgagttatcaaagtaagctgagcaaggatccgaacgaaaaaagagatcatatggttctgctggaattcgtaacggccgcgggcatcacgcatggcatggacgagctgtataaataa\"\n",
    "mvenus_seq = \"ATGAGTAAAGGAGAAGAACTTTTCACTGGAGTTGTCCCAATTCTTGTTGAATTAGATGGTGATGTTAATGGGCACAAATTTTCTGTCAGTGGAGAGGGTGAAGGTGATGCAACATACGGAAAACTTACCCTTAAATTGATTTGCACTACTGGAAAACTACCTGTTCCATGGCCAACACTTGTCACTACTTTGGGTTATGGTGTTCAATGCTTTGCGAGATACCCAGATCATATGAAACAGCATGACTTTTTCAAGAGTGCCATGCCCGAAGGTTATGTACAGGAAAGAACTATATTTTTCAAAGATGACGGGAACTACAAGACACGTGCTGAAGTCAAGTTTGAAGGTGATACCCTTGTTAATAGAATCGAGTTAAAAGGTATTGATTTTAAAGAAGATGGAAACATTCTTGGACACAAATTGGAATACAACTATAACTCACACAATGTATACATCACGGCAGACAAACAAAAGAATGGAATCAAAGCGAACTTCAAAATTAGACACAACATTGAAGATGGAGGTGTTCAACTAGCAGACCATTATCAACAAAATACTCCAATTGGCGATGGCCCTGTCCTTTTACCAGACAACCATTACCTGTCCTACCAATCTAAGCTTTCGAAAGATCCCAACGAAAAGAGAGACCACATGGTCCTTCTTGAGTTTGTAACAGCTGCTGGGATTACACATGGCATGGATGAACTATACAAATAA\"\n",
    "mscfp3_seq = \"ATGAGTAAAGGAGAAGAACTTTTCACTGGAGTTGTCCCAATTCTTGTTGAATTAGATGGTGATGTTAATGGGCACAAATTTTCTGTCAGTGGAGAGGGTGAAGGTGATGCAACATACGGAAAACTTACCCTTAAATTTATTTGCACTACTGGAAAACTACCTGTTCCATGGCCAACACTTGTCACTACTCTCACTTGGGGTGTTCAATGCTTTGCAAGATACCCAGATCATATGAAACAGCATGACTTTTTCAAGAGTGCCATGCCCGAAGGTTATGTACAGGAAAGAACTATATTTTTCAAAGATGACGGGAACTACAAGACACGTGCTGAAGTCAAGTTTGAAGGTGATACCCTTGTTAATAGAATCGAGTTAAAAGGTATTGATTTTAAAGAAGATGGAAACATTCTTGGACACAAATTGGAATACAACTACATCTCAGACAATGTATACATCACGGCAGACAAACAAAAGAATGGAATCAAAGCTAACTTCAAAATTAGACACAACATTGAAGATGGAGGCGTTCAACTAGCAGACCATTATCAACAAAATACTCCAATTGGCGATGGCCCTGTCCTTTTACCAGACAACCATTACCTGTCCACACAATCTAAGCTTTCGAAAGATCCCAACGAAAAGAGAGACCACATGGTCCTTCTTGAGTTTGTAACAGCTGCTGGGATTACACATGGCATGGATGAACTATACAAATAA\"\n",
    "mscarlet_seq = \"ATGAGTAAAGGAGAAGCTGTGATTAAAGAGTTCATGCGCTTCAAAGTTCACATGGAGGGTTCTATGAACGGTCACGAGTTCGAGATCGAAGGCGAAGGCGAGGGCCGTCCGTATGAAGGCACCCAGACCGCCAAACTGAAAGTGACTAAAGGCGGCCCGCTGCCTTTTTCCTGGGACATCCTGAGCCCGCAATTTATGTACGGTTCTAGGGCGTTCATCAAACACCCAGCGGATATCCCGGACTATTATAAGCAGTCTTTTCCGGAAGGTTTCAAGTGGGAACGCGTAATGAATTTTGAAGATGGTGGTGCCGTGACCGTCACTCAGGACACCTCCCTGGAGGATGGCACCCTGATCTATAAAGTTAAACTGCGTGGTACTAATTTTCCACCTGATGGCCCGGTGATGCAGAAAAAGACGATGGGTTGGGAGGCGTCTACCGAACGCTTGTATCCGGAAGATGGTGTGCTGAAAGGCGACATTAAAATGGCCCTGCGCCTGAAAGATGGCGGCCGCTATCTGGCTGACTTCAAAACCACGTACAAAGCCAAGAAACCTGTGCAGATGCCTGGCGCGTACAATGTGGACCGCAAACTGGACATCACCTCTCATAATGAAGATTATACGGTGGTAGAGCAATATGAGCGCTCCGAGGGTCGTCATTCTACCGGTGGCATGGATGAACTATACAAATAA\""
   ]
  },
  {
   "cell_type": "code",
   "execution_count": null,
   "id": "4",
   "metadata": {},
   "outputs": [],
   "source": [
    "# seq = mvenus_seq.lower()\n",
    "seq = rcvenus_seq.lower()"
   ]
  },
  {
   "cell_type": "markdown",
   "id": "5",
   "metadata": {},
   "source": [
    "# New"
   ]
  },
  {
   "cell_type": "code",
   "execution_count": null,
   "id": "6",
   "metadata": {},
   "outputs": [],
   "source": [
    "ps = stop_codon_primers(rcvenus_seq)"
   ]
  },
  {
   "cell_type": "code",
   "execution_count": null,
   "id": "7",
   "metadata": {},
   "outputs": [],
   "source": [
    "ps_nonnull = [p for p in ps if \"forward_primer\" in p]\n",
    "df = pd.DataFrame(ps_nonnull)"
   ]
  },
  {
   "cell_type": "code",
   "execution_count": null,
   "id": "8",
   "metadata": {},
   "outputs": [],
   "source": [
    "df_display = df.copy()\n",
    "df_display[\"selected\"] = False\n",
    "df_display[\"forward_len\"] = df_display[\"forward_primer\"].map(len)\n",
    "df_display[\"reverse_len\"] = df_display[\"reverse_primer\"].map(len)\n",
    "cols = [\"selected\", \"mutation\", \"transition\", \"forward_len\", \"reverse_len\"] + [\n",
    "    c\n",
    "    for c in list(ps_nonnull[0].keys())\n",
    "    if c not in (\"mutation\", \"transition\")\n",
    "    and not c.endswith(\"_dG\")\n",
    "    and not c.endswith(\"_primer\")\n",
    "]\n",
    "df_display = df_display[cols]\n",
    "table = qgrid.show_grid(\n",
    "    df_display,\n",
    "    grid_options={\n",
    "        \"forceFitColumns\": False,\n",
    "        \"defaultColumnWidth\": 120,\n",
    "        \"autoEdit\": True,\n",
    "    },\n",
    "    precision=1,\n",
    ")\n",
    "table"
   ]
  },
  {
   "cell_type": "code",
   "execution_count": null,
   "id": "9",
   "metadata": {},
   "outputs": [],
   "source": [
    "df2 = table.get_changed_df()\n",
    "selected_primers = df.iloc[df2[df2[\"selected\"]].index]\n",
    "selected_primers = selected_primers.sort_index()\n",
    "selected_primers"
   ]
  },
  {
   "cell_type": "code",
   "execution_count": null,
   "id": "10",
   "metadata": {},
   "outputs": [],
   "source": [
    "selected_primers.to_json(\"180222primers.json\")"
   ]
  },
  {
   "cell_type": "code",
   "execution_count": null,
   "id": "11",
   "metadata": {},
   "outputs": [],
   "source": [
    "jqs_num = 93\n",
    "prefix = \"rcvenus\""
   ]
  },
  {
   "cell_type": "code",
   "execution_count": null,
   "id": "12",
   "metadata": {},
   "outputs": [],
   "source": [
    "for p in selected_primers.itertuples():\n",
    "    for suffix, seq in ((\"f\", p.forward_primer), (\"r\", p.reverse_primer)):\n",
    "        name = \"JQS{}_{}_{}_{}\".format(jqs_num, prefix, p.mutation, suffix)\n",
    "        print(\"{}\\t{}\".format(name, seq))\n",
    "        jqs_num += 1"
   ]
  },
  {
   "cell_type": "code",
   "execution_count": null,
   "id": "13",
   "metadata": {},
   "outputs": [],
   "source": [
    "jqs_num = 107\n",
    "for p in selected_primers.itertuples():\n",
    "    for suffix, seq in ((\"rev_f\", p.reversion_forward_primer),):\n",
    "        name = \"JQS{}_{}_{}_{}\".format(jqs_num, prefix, p.mutation, suffix)\n",
    "        print(\"{}\\t{}\".format(name, seq))\n",
    "        jqs_num += 1"
   ]
  },
  {
   "cell_type": "markdown",
   "id": "14",
   "metadata": {},
   "source": [
    "# Old"
   ]
  },
  {
   "cell_type": "code",
   "execution_count": null,
   "id": "15",
   "metadata": {},
   "outputs": [],
   "source": [
    "for res, codon in enumerate(grouper(seq, 3)):\n",
    "    for stop_codon in stop_codons:\n",
    "        diff = site_diff(codon, stop_codon)\n",
    "        if len(diff) == 1:\n",
    "            hit = diff[0][2] == \"g\"\n",
    "            print(res, \"\".join(codon), \"->\", stop_codon, diff, \"***\" if hit else \"\")"
   ]
  },
  {
   "cell_type": "code",
   "execution_count": null,
   "id": "16",
   "metadata": {},
   "outputs": [],
   "source": [
    "synonymous_codons = {\n",
    "    \"CYS\": [\"TGT\", \"TGC\"],\n",
    "    \"ASP\": [\"GAT\", \"GAC\"],\n",
    "    \"SER\": [\"TCT\", \"TCG\", \"TCA\", \"TCC\", \"AGC\", \"AGT\"],\n",
    "    \"GLN\": [\"CAA\", \"CAG\"],\n",
    "    \"MET\": [\"ATG\"],\n",
    "    \"ASN\": [\"AAC\", \"AAT\"],\n",
    "    \"PRO\": [\"CCT\", \"CCG\", \"CCA\", \"CCC\"],\n",
    "    \"LYS\": [\"AAG\", \"AAA\"],\n",
    "    \"STOP\": [\"TAG\", \"TGA\", \"TAA\"],\n",
    "    \"THR\": [\"ACC\", \"ACA\", \"ACG\", \"ACT\"],\n",
    "    \"PHE\": [\"TTT\", \"TTC\"],\n",
    "    \"ALA\": [\"GCA\", \"GCC\", \"GCG\", \"GCT\"],\n",
    "    \"GLY\": [\"GGT\", \"GGG\", \"GGA\", \"GGC\"],\n",
    "    \"ILE\": [\"ATC\", \"ATA\", \"ATT\"],\n",
    "    \"LEU\": [\"TTA\", \"TTG\", \"CTC\", \"CTT\", \"CTG\", \"CTA\"],\n",
    "    \"HIS\": [\"CAT\", \"CAC\"],\n",
    "    \"ARG\": [\"CGA\", \"CGC\", \"CGG\", \"CGT\", \"AGG\", \"AGA\"],\n",
    "    \"TRP\": [\"TGG\"],\n",
    "    \"VAL\": [\"GTA\", \"GTC\", \"GTG\", \"GTT\"],\n",
    "    \"GLU\": [\"GAG\", \"GAA\"],\n",
    "    \"TYR\": [\"TAT\", \"TAC\"],\n",
    "}"
   ]
  },
  {
   "cell_type": "code",
   "execution_count": null,
   "id": "17",
   "metadata": {},
   "outputs": [],
   "source": [
    "codon_to_aa = {}\n",
    "for aa, codons in synonymous_codons.items():\n",
    "    for codon in codons:\n",
    "        codon_to_aa[codon.lower()] = aa"
   ]
  },
  {
   "cell_type": "code",
   "execution_count": null,
   "id": "18",
   "metadata": {},
   "outputs": [],
   "source": [
    "codon_to_aa"
   ]
  },
  {
   "cell_type": "code",
   "execution_count": null,
   "id": "19",
   "metadata": {},
   "outputs": [],
   "source": [
    "bases = \"atcg\"\n",
    "stops_for_mutation = defaultdict(list)\n",
    "\n",
    "for b1 in bases:\n",
    "    for b2 in bases:\n",
    "        if b1 == b2:\n",
    "            continue\n",
    "        for res, codon in enumerate(grouper(seq[:-3], 3)):\n",
    "            sub_codons = synonymous_codons[codon_to_aa[\"\".join(codon)]]\n",
    "            for stop_codon in stop_codons:\n",
    "                for sub_codon in sub_codons:\n",
    "                    sub_codon = sub_codon.lower()\n",
    "                    diff = site_diff(sub_codon, stop_codon)\n",
    "                    if len(diff) == 1:\n",
    "                        # hit = diff[0][1] == 'a' and diff[0][2] == 'g'\n",
    "                        # hit = diff[0][2] == 'g'\n",
    "                        hit = diff[0][1] == b2 and diff[0][2] == b1\n",
    "                        # print(res, ''.join(sub_codon), '->', stop_codon, diff, '***' if hit else '')\n",
    "                        if hit:\n",
    "                            stops_for_mutation[(b1, b2)].append(\n",
    "                                (res, sub_codon, stop_codon, diff)\n",
    "                            )"
   ]
  },
  {
   "cell_type": "code",
   "execution_count": null,
   "id": "20",
   "metadata": {},
   "outputs": [],
   "source": [
    "num_stops_for_mutation = {k: len(v) for k, v in stops_for_mutation.items()}"
   ]
  },
  {
   "cell_type": "code",
   "execution_count": null,
   "id": "21",
   "metadata": {},
   "outputs": [],
   "source": [
    "stops_for_mutation[(\"a\", \"g\")]"
   ]
  },
  {
   "cell_type": "code",
   "execution_count": null,
   "id": "22",
   "metadata": {},
   "outputs": [],
   "source": [
    "num_stops_for_mutation"
   ]
  },
  {
   "cell_type": "code",
   "execution_count": null,
   "id": "23",
   "metadata": {},
   "outputs": [],
   "source": [
    "seq"
   ]
  }
 ],
 "metadata": {
  "kernelspec": {
   "display_name": "Python 3",
   "language": "python",
   "name": "python3"
  },
  "language_info": {
   "codemirror_mode": {
    "name": "ipython",
    "version": 3
   },
   "file_extension": ".py",
   "mimetype": "text/x-python",
   "name": "python",
   "nbconvert_exporter": "python",
   "pygments_lexer": "ipython3",
   "version": "3.6.4"
  },
  "toc": {
   "colors": {
    "hover_highlight": "#DAA520",
    "running_highlight": "#FF0000",
    "selected_highlight": "#FFD700"
   },
   "moveMenuLeft": true,
   "nav_menu": {
    "height": "12px",
    "width": "252px"
   },
   "navigate_menu": true,
   "number_sections": true,
   "sideBar": true,
   "threshold": 4,
   "toc_cell": false,
   "toc_section_display": "block",
   "toc_window_display": false
  }
 },
 "nbformat": 4,
 "nbformat_minor": 2
}
