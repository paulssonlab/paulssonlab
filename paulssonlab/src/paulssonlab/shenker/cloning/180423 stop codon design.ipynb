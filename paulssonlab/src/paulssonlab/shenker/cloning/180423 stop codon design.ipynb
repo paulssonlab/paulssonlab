{
 "cells": [
  {
   "cell_type": "code",
   "execution_count": null,
   "id": "0",
   "metadata": {},
   "outputs": [],
   "source": [
    "import collections\n",
    "\n",
    "import ipywidgets\n",
    "import numpy as np\n",
    "import pandas as pd\n",
    "import qgrid"
   ]
  },
  {
   "cell_type": "code",
   "execution_count": null,
   "id": "1",
   "metadata": {},
   "outputs": [],
   "source": [
    "%load_ext autoreload\n",
    "%autoreload 2"
   ]
  },
  {
   "cell_type": "code",
   "execution_count": null,
   "id": "2",
   "metadata": {},
   "outputs": [],
   "source": [
    "from cloning import *"
   ]
  },
  {
   "cell_type": "code",
   "execution_count": null,
   "id": "3",
   "metadata": {},
   "outputs": [],
   "source": [
    "rcvenus_seq = \"atgagtaaaggcgaagaattgttcactggcgtggtaccgatcctggtagaactggatggcgacgttaatggtcacaagttcagcgttagtggagagggtgaaggtgatgcgacctatggcaaactgaccctgaagctgatctgcacaaccggcaagctgcctgttccttggccgacactggttacaacgctgggctatggcgtacaatgtttcgcacggtacccggaccacatgaagcaacatgacttcttcaagagcgctatgcctgaaggctatgtccaagaaaggactatcttcttcaaagacgacggcaattacaagacacgggccgaagtcaaattcgaaggcgatacgctggtcaacagaatcgagctgaaaggcatcgacttcaaggaagatggcaacatcctgggccataaactggaatataattataacagtcataatgtgtatatcaccgctgacaaacaaaagaatggcatcaaggccaacttcaaaatcagacataacatcgaagatggaggtgttcaactggcagaccactaccaacaaaatactccgatcggcgatggcccggtgctgctgccggataaccattatctgagttatcaaagtaagctgagcaaggatccgaacgaaaaaagagatcatatggttctgctggaattcgtaacggccgcgggcatcacgcatggcatggacgagctgtataaataa\"\n",
    "mvenus_seq = \"ATGAGTAAAGGAGAAGAACTTTTCACTGGAGTTGTCCCAATTCTTGTTGAATTAGATGGTGATGTTAATGGGCACAAATTTTCTGTCAGTGGAGAGGGTGAAGGTGATGCAACATACGGAAAACTTACCCTTAAATTGATTTGCACTACTGGAAAACTACCTGTTCCATGGCCAACACTTGTCACTACTTTGGGTTATGGTGTTCAATGCTTTGCGAGATACCCAGATCATATGAAACAGCATGACTTTTTCAAGAGTGCCATGCCCGAAGGTTATGTACAGGAAAGAACTATATTTTTCAAAGATGACGGGAACTACAAGACACGTGCTGAAGTCAAGTTTGAAGGTGATACCCTTGTTAATAGAATCGAGTTAAAAGGTATTGATTTTAAAGAAGATGGAAACATTCTTGGACACAAATTGGAATACAACTATAACTCACACAATGTATACATCACGGCAGACAAACAAAAGAATGGAATCAAAGCGAACTTCAAAATTAGACACAACATTGAAGATGGAGGTGTTCAACTAGCAGACCATTATCAACAAAATACTCCAATTGGCGATGGCCCTGTCCTTTTACCAGACAACCATTACCTGTCCTACCAATCTAAGCTTTCGAAAGATCCCAACGAAAAGAGAGACCACATGGTCCTTCTTGAGTTTGTAACAGCTGCTGGGATTACACATGGCATGGATGAACTATACAAATAA\".lower()\n",
    "mscfp3_seq = \"ATGAGTAAAGGAGAAGAACTTTTCACTGGAGTTGTCCCAATTCTTGTTGAATTAGATGGTGATGTTAATGGGCACAAATTTTCTGTCAGTGGAGAGGGTGAAGGTGATGCAACATACGGAAAACTTACCCTTAAATTTATTTGCACTACTGGAAAACTACCTGTTCCATGGCCAACACTTGTCACTACTCTCACTTGGGGTGTTCAATGCTTTGCAAGATACCCAGATCATATGAAACAGCATGACTTTTTCAAGAGTGCCATGCCCGAAGGTTATGTACAGGAAAGAACTATATTTTTCAAAGATGACGGGAACTACAAGACACGTGCTGAAGTCAAGTTTGAAGGTGATACCCTTGTTAATAGAATCGAGTTAAAAGGTATTGATTTTAAAGAAGATGGAAACATTCTTGGACACAAATTGGAATACAACTACATCTCAGACAATGTATACATCACGGCAGACAAACAAAAGAATGGAATCAAAGCTAACTTCAAAATTAGACACAACATTGAAGATGGAGGCGTTCAACTAGCAGACCATTATCAACAAAATACTCCAATTGGCGATGGCCCTGTCCTTTTACCAGACAACCATTACCTGTCCACACAATCTAAGCTTTCGAAAGATCCCAACGAAAAGAGAGACCACATGGTCCTTCTTGAGTTTGTAACAGCTGCTGGGATTACACATGGCATGGATGAACTATACAAATAA\".lower()\n",
    "mscarlet_seq = \"ATGAGTAAAGGAGAAGCTGTGATTAAAGAGTTCATGCGCTTCAAAGTTCACATGGAGGGTTCTATGAACGGTCACGAGTTCGAGATCGAAGGCGAAGGCGAGGGCCGTCCGTATGAAGGCACCCAGACCGCCAAACTGAAAGTGACTAAAGGCGGCCCGCTGCCTTTTTCCTGGGACATCCTGAGCCCGCAATTTATGTACGGTTCTAGGGCGTTCATCAAACACCCAGCGGATATCCCGGACTATTATAAGCAGTCTTTTCCGGAAGGTTTCAAGTGGGAACGCGTAATGAATTTTGAAGATGGTGGTGCCGTGACCGTCACTCAGGACACCTCCCTGGAGGATGGCACCCTGATCTATAAAGTTAAACTGCGTGGTACTAATTTTCCACCTGATGGCCCGGTGATGCAGAAAAAGACGATGGGTTGGGAGGCGTCTACCGAACGCTTGTATCCGGAAGATGGTGTGCTGAAAGGCGACATTAAAATGGCCCTGCGCCTGAAAGATGGCGGCCGCTATCTGGCTGACTTCAAAACCACGTACAAAGCCAAGAAACCTGTGCAGATGCCTGGCGCGTACAATGTGGACCGCAAACTGGACATCACCTCTCATAATGAAGATTATACGGTGGTAGAGCAATATGAGCGCTCCGAGGGTCGTCATTCTACCGGTGGCATGGATGAACTATACAAATAA\".lower()"
   ]
  },
  {
   "cell_type": "code",
   "execution_count": null,
   "id": "4",
   "metadata": {},
   "outputs": [],
   "source": [
    "seq = rcvenus_seq"
   ]
  },
  {
   "cell_type": "markdown",
   "id": "5",
   "metadata": {},
   "source": [
    "# Kondrashov 2016"
   ]
  },
  {
   "cell_type": "code",
   "execution_count": null,
   "id": "6",
   "metadata": {},
   "outputs": [],
   "source": [
    "def parse_kondrashov_mutations(s):\n",
    "    if pd.isna(s):\n",
    "        return tuple()\n",
    "    else:\n",
    "        try:\n",
    "            return tuple([parse_kondrashov_mutation(ss) for ss in s.split(\":\")])\n",
    "        except:\n",
    "            print(\">>>\", s)\n",
    "            raise\n",
    "\n",
    "\n",
    "def parse_kondrashov_mutation(s):\n",
    "    mut_type, mut_from, mut_res, mut_to = re.match(\n",
    "        r\"(S|I|D)([A-Z])(\\d+)([A-Z*])\", s\n",
    "    ).groups()\n",
    "    # Kondrashov uses MixCR 0-based indexing, also is missing initial methionine, so need to add 2 to index\n",
    "    mut_res = int(mut_res) + 2\n",
    "    return (mut_type, mut_from, mut_res, mut_to)"
   ]
  },
  {
   "cell_type": "code",
   "execution_count": null,
   "id": "7",
   "metadata": {},
   "outputs": [],
   "source": [
    "kondrashov = pd.read_csv(\n",
    "    \"2016kondrashov/nucleotide_genotypes_to_brightness.tsv\", sep=\"\\t\"\n",
    ")\n",
    "kondrashov[\"aa_mutations\"] = kondrashov[\"aaMutations\"].map(parse_kondrashov_mutations)\n",
    "kondrashov[\"nt_mutations\"] = kondrashov[\"nMutations\"].map(parse_kondrashov_mutations)\n",
    "kondrashov[\"num_aa_mutations\"] = kondrashov[\"aa_mutations\"].map(len)\n",
    "kondrashov[\"num_nt_mutations\"] = kondrashov[\"nt_mutations\"].map(len)\n",
    "kondrashov[\"res\"] = kondrashov[kondrashov[\"num_aa_mutations\"] == 1][\"aa_mutations\"].map(\n",
    "    lambda x: x[0][2]\n",
    ")\n",
    "kondrashov_single = kondrashov[kondrashov[\"num_aa_mutations\"] == 1]\n",
    "kondrashov_single_nt = kondrashov[kondrashov[\"num_nt_mutations\"] == 1]\n",
    "# qgrid.show_grid(kondrashov)"
   ]
  },
  {
   "cell_type": "code",
   "execution_count": null,
   "id": "8",
   "metadata": {},
   "outputs": [],
   "source": [
    "kondrashov_aa_grouped = kondrashov_single.groupby(\"aa_mutations\").agg(\n",
    "    {\"res\": [\"first\"], \"medianBrightness\": [\"mean\", \"std\"], \"uniqueBarcodes\": [\"sum\"]}\n",
    ")\n",
    "kondrashov_aa_grouped.columns = list(\n",
    "    map(\"_\".join, kondrashov_aa_grouped.columns.values)\n",
    ")"
   ]
  },
  {
   "cell_type": "markdown",
   "id": "9",
   "metadata": {},
   "source": [
    "## New"
   ]
  },
  {
   "cell_type": "code",
   "execution_count": null,
   "id": "10",
   "metadata": {},
   "outputs": [],
   "source": [
    "def dim_frac(x):\n",
    "    return (x.values < 3).sum() / len(x)\n",
    "\n",
    "\n",
    "kondrashov_spread = kondrashov_aa_grouped.groupby([\"res_first\"])[\n",
    "    \"medianBrightness_mean\"\n",
    "].agg({\"medianBrightness_mean\": [\"mean\", \"size\", \"max\", \"min\", dim_frac]})\n",
    "kondrashov_spread.columns = kondrashov_spread.columns.get_level_values(1)\n",
    "kondrashov_spread[\"mean_minus_min\"] = (\n",
    "    kondrashov_spread[\"mean\"] - kondrashov_spread[\"min\"]\n",
    ")\n",
    "kondrashov_spread[\"max_minus_min\"] = kondrashov_spread[\"max\"] - kondrashov_spread[\"min\"]"
   ]
  },
  {
   "cell_type": "code",
   "execution_count": null,
   "id": "11",
   "metadata": {},
   "outputs": [],
   "source": [
    "low_dim_frac = kondrashov_spread[\n",
    "    (kondrashov_spread[\"size\"] > 3) & (kondrashov_spread[\"min\"] < 3)\n",
    "].sort_values(\"dim_frac\", ascending=True)"
   ]
  },
  {
   "cell_type": "code",
   "execution_count": null,
   "id": "12",
   "metadata": {},
   "outputs": [],
   "source": [
    "all_dim = kondrashov_spread[kondrashov_spread[\"dim_frac\"] == 1]"
   ]
  },
  {
   "cell_type": "markdown",
   "id": "13",
   "metadata": {},
   "source": [
    "## Order 180328"
   ]
  },
  {
   "cell_type": "code",
   "execution_count": null,
   "id": "14",
   "metadata": {},
   "outputs": [],
   "source": [
    "good_res = set(all_dim.index) | set(low_dim_frac.index)"
   ]
  },
  {
   "cell_type": "code",
   "execution_count": null,
   "id": "15",
   "metadata": {},
   "outputs": [],
   "source": [
    "dimmest_muts = (\n",
    "    kondrashov_aa_grouped[kondrashov_aa_grouped[\"res_first\"].isin(good_res)]\n",
    "    .groupby(\"res_first\")[\"medianBrightness_mean\"]\n",
    "    .idxmin()\n",
    ")  # .apply(lambda x: x[''])\n",
    "len(dimmest_muts)"
   ]
  },
  {
   "cell_type": "code",
   "execution_count": null,
   "id": "16",
   "metadata": {},
   "outputs": [],
   "source": [
    "dim_muts = kondrashov_aa_grouped[\n",
    "    (kondrashov_aa_grouped[\"medianBrightness_mean\"] < 3)\n",
    "    & (kondrashov_aa_grouped[\"res_first\"].isin(good_res))\n",
    "]\n",
    "len(dim_muts)"
   ]
  },
  {
   "cell_type": "code",
   "execution_count": null,
   "id": "17",
   "metadata": {},
   "outputs": [],
   "source": [
    "primers = []\n",
    "for mut in dim_muts.index.values:\n",
    "    mut = mut[0]\n",
    "    res = mut[2]\n",
    "    old_aa = mut[1].lower()\n",
    "    new_aa = mut[3].lower()\n",
    "    seq_idx = 3 * (res - 1)\n",
    "    old_codon = seq[seq_idx : seq_idx + 3]\n",
    "    if codon_to_aa[old_codon] != old_aa:\n",
    "        print(\n",
    "            \"expecting aa {} at residue {}, found {} instead\".format(\n",
    "                old_aa, res, codon_to_aa[old_codon]\n",
    "            )\n",
    "        )\n",
    "        continue\n",
    "        # raise ValueError('expecting aa {} at residue {}, found {} instead'.format(mut[1].lower(), res, codon_to_aa[old_codon]))\n",
    "    primers_for_transition = defaultdict(list)\n",
    "    for new_codon in aa_to_codon[new_aa]:\n",
    "        for alt_old_codon in aa_to_codon[old_aa]:\n",
    "            diff = site_diff(alt_old_codon, new_codon)\n",
    "            if len(diff) == 1:\n",
    "                primer = iva_substitution_primers(seq, diff[0][2], seq_idx + diff[0][0])\n",
    "                primer[\"mutation\"] = mutation_name(old_codon, new_codon, res)\n",
    "                transition = \"{}->{}\".format(diff[0][1], diff[0][2])\n",
    "                primer[\"transition\"] = transition\n",
    "                primers_for_transition[transition].append(primer)\n",
    "    for transition, transition_primers in primers_for_transition.items():\n",
    "        primers.append(transition_primers[0])\n",
    "len(primers)"
   ]
  },
  {
   "cell_type": "code",
   "execution_count": null,
   "id": "18",
   "metadata": {},
   "outputs": [],
   "source": [
    "ps = primers"
   ]
  },
  {
   "cell_type": "code",
   "execution_count": null,
   "id": "19",
   "metadata": {},
   "outputs": [],
   "source": [
    "ps_nonnull = [p for p in ps if \"forward_primer\" in p]\n",
    "df = pd.DataFrame(ps_nonnull)"
   ]
  },
  {
   "cell_type": "code",
   "execution_count": null,
   "id": "20",
   "metadata": {},
   "outputs": [],
   "source": [
    "df_display = df.copy()\n",
    "df_display[\"selected\"] = False\n",
    "df_display[\"forward_len\"] = df_display[\"forward_primer\"].map(len)\n",
    "df_display[\"reverse_len\"] = df_display[\"reverse_primer\"].map(len)\n",
    "cols = [\"selected\", \"mutation\", \"transition\", \"forward_len\", \"reverse_len\"] + [\n",
    "    c\n",
    "    for c in list(ps_nonnull[0].keys())\n",
    "    if c not in (\"mutation\", \"transition\")\n",
    "    and not c.endswith(\"_dG\")\n",
    "    and not c.endswith(\"_primer\")\n",
    "]\n",
    "df_display = df_display[cols]\n",
    "table = qgrid.show_grid(\n",
    "    df_display,\n",
    "    grid_options={\n",
    "        \"forceFitColumns\": False,\n",
    "        \"defaultColumnWidth\": 120,\n",
    "        \"autoEdit\": True,\n",
    "    },\n",
    "    precision=1,\n",
    ")\n",
    "table"
   ]
  },
  {
   "cell_type": "code",
   "execution_count": null,
   "id": "21",
   "metadata": {},
   "outputs": [],
   "source": [
    "df2 = table.get_changed_df()\n",
    "selected_primers = df.iloc[df2[df2[\"selected\"]].index]\n",
    "selected_primers = selected_primers.sort_index()\n",
    "selected_primers"
   ]
  },
  {
   "cell_type": "code",
   "execution_count": null,
   "id": "22",
   "metadata": {},
   "outputs": [],
   "source": [
    "collections.Counter(selected_primers[\"transition\"])"
   ]
  },
  {
   "cell_type": "code",
   "execution_count": null,
   "id": "23",
   "metadata": {},
   "outputs": [],
   "source": [
    "selected_primers.to_json(\"180328primers_fixed.json\")"
   ]
  },
  {
   "cell_type": "code",
   "execution_count": null,
   "id": "24",
   "metadata": {},
   "outputs": [],
   "source": [
    "jqs_num = 114\n",
    "prefix = \"rcvenus\""
   ]
  },
  {
   "cell_type": "code",
   "execution_count": null,
   "id": "25",
   "metadata": {},
   "outputs": [],
   "source": [
    "ordered_seqs = set()\n",
    "primers_for_output = defaultdict(list)\n",
    "for p in selected_primers.itertuples():\n",
    "    for suffix, seq in ((\"f\", p.forward_primer), (\"r\", p.reverse_primer)):\n",
    "        name = \"JQS{}_{}_{}_{}\".format(jqs_num, prefix, p.mutation, suffix)\n",
    "        order = \"{}\\t{}\".format(name, seq)\n",
    "        if seq in ordered_seqs:\n",
    "            continue\n",
    "        ordered_seqs.add(seq)\n",
    "        primers_for_output[suffix].append(order)\n",
    "        jqs_num += 1\n",
    "print(\"\\n\".join(primers_for_output[\"f\"] + primers_for_output[\"r\"]))"
   ]
  },
  {
   "cell_type": "markdown",
   "id": "26",
   "metadata": {},
   "source": [
    "# mSCFP3 stop codons"
   ]
  },
  {
   "cell_type": "code",
   "execution_count": null,
   "id": "27",
   "metadata": {},
   "outputs": [],
   "source": [
    "ps = stop_codon_primers(mscfp3_seq)"
   ]
  },
  {
   "cell_type": "code",
   "execution_count": null,
   "id": "28",
   "metadata": {},
   "outputs": [],
   "source": [
    "ps_nonnull = [p for p in ps if \"forward_primer\" in p]\n",
    "df = pd.DataFrame(ps_nonnull)"
   ]
  },
  {
   "cell_type": "code",
   "execution_count": null,
   "id": "29",
   "metadata": {},
   "outputs": [],
   "source": [
    "df_display = df.copy()\n",
    "df_display[\"selected\"] = False\n",
    "df_display[\"forward_len\"] = df_display[\"forward_primer\"].map(len)\n",
    "df_display[\"reverse_len\"] = df_display[\"reverse_primer\"].map(len)\n",
    "cols = [\"selected\", \"mutation\", \"transition\", \"forward_len\", \"reverse_len\"] + [\n",
    "    c\n",
    "    for c in list(ps_nonnull[0].keys())\n",
    "    if c not in (\"mutation\", \"transition\")\n",
    "    and not c.endswith(\"_dG\")\n",
    "    and not c.endswith(\"_primer\")\n",
    "]\n",
    "df_display = df_display[cols]\n",
    "table = qgrid.show_grid(\n",
    "    df_display,\n",
    "    grid_options={\n",
    "        \"forceFitColumns\": False,\n",
    "        \"defaultColumnWidth\": 120,\n",
    "        \"autoEdit\": True,\n",
    "    },\n",
    "    precision=1,\n",
    ")\n",
    "table"
   ]
  },
  {
   "cell_type": "code",
   "execution_count": null,
   "id": "30",
   "metadata": {},
   "outputs": [],
   "source": [
    "df2 = table.get_changed_df()\n",
    "selected_primers = df.iloc[df2[df2[\"selected\"]].index]\n",
    "selected_primers = selected_primers.sort_index()\n",
    "selected_primers"
   ]
  },
  {
   "cell_type": "code",
   "execution_count": null,
   "id": "31",
   "metadata": {},
   "outputs": [],
   "source": [
    "selected_primers.to_json(\"180423primers_mscfp3.json\")"
   ]
  },
  {
   "cell_type": "code",
   "execution_count": null,
   "id": "32",
   "metadata": {},
   "outputs": [],
   "source": [
    "jqs_num = 143\n",
    "prefix = \"mSCFP3\""
   ]
  },
  {
   "cell_type": "code",
   "execution_count": null,
   "id": "33",
   "metadata": {},
   "outputs": [],
   "source": [
    "ordered_seqs = set()\n",
    "primers_for_output = defaultdict(list)\n",
    "for p in selected_primers.itertuples():\n",
    "    for suffix, seq in ((\"f\", p.forward_primer), (\"r\", p.reverse_primer)):\n",
    "        name = \"JQS{}_{}_{}_{}\".format(jqs_num, prefix, p.mutation, suffix)\n",
    "        order = \"{}\\t{}\".format(name, seq)\n",
    "        if seq in ordered_seqs:\n",
    "            continue\n",
    "        ordered_seqs.add(seq)\n",
    "        primers_for_output[suffix].append(order)\n",
    "        jqs_num += 1\n",
    "print(\"\\n\".join(primers_for_output[\"f\"] + primers_for_output[\"r\"]))"
   ]
  },
  {
   "cell_type": "code",
   "execution_count": null,
   "id": "34",
   "metadata": {},
   "outputs": [],
   "source": [
    "# jqs_num = 107\n",
    "# for p in selected_primers.itertuples():\n",
    "#     for suffix, seq in (('rev_f', p.reversion_forward_primer),):\n",
    "#         name = 'JQS{}_{}_{}_{}'.format(jqs_num, prefix, p.mutation, suffix)\n",
    "#         print(\"{}\\t{}\".format(name, seq))\n",
    "#         jqs_num += 1"
   ]
  },
  {
   "cell_type": "markdown",
   "id": "35",
   "metadata": {},
   "source": [
    "# mScarlet stop codons"
   ]
  },
  {
   "cell_type": "code",
   "execution_count": null,
   "id": "36",
   "metadata": {},
   "outputs": [],
   "source": [
    "ps = stop_codon_primers(mscarlet_seq)"
   ]
  },
  {
   "cell_type": "code",
   "execution_count": null,
   "id": "37",
   "metadata": {},
   "outputs": [],
   "source": [
    "ps_nonnull = [p for p in ps if \"forward_primer\" in p]\n",
    "df = pd.DataFrame(ps_nonnull)"
   ]
  },
  {
   "cell_type": "code",
   "execution_count": null,
   "id": "38",
   "metadata": {},
   "outputs": [],
   "source": [
    "df_display = df.copy()\n",
    "df_display[\"selected\"] = False\n",
    "df_display[\"forward_len\"] = df_display[\"forward_primer\"].map(len)\n",
    "df_display[\"reverse_len\"] = df_display[\"reverse_primer\"].map(len)\n",
    "cols = [\"selected\", \"mutation\", \"transition\", \"forward_len\", \"reverse_len\"] + [\n",
    "    c\n",
    "    for c in list(ps_nonnull[0].keys())\n",
    "    if c not in (\"mutation\", \"transition\")\n",
    "    and not c.endswith(\"_dG\")\n",
    "    and not c.endswith(\"_primer\")\n",
    "]\n",
    "df_display = df_display[cols]\n",
    "table = qgrid.show_grid(\n",
    "    df_display,\n",
    "    grid_options={\n",
    "        \"forceFitColumns\": False,\n",
    "        \"defaultColumnWidth\": 120,\n",
    "        \"autoEdit\": True,\n",
    "    },\n",
    "    precision=1,\n",
    ")\n",
    "table"
   ]
  },
  {
   "cell_type": "code",
   "execution_count": null,
   "id": "39",
   "metadata": {},
   "outputs": [],
   "source": [
    "df2 = table.get_changed_df()\n",
    "selected_primers = df.iloc[df2[df2[\"selected\"]].index]\n",
    "selected_primers = selected_primers.sort_index()\n",
    "selected_primers"
   ]
  },
  {
   "cell_type": "code",
   "execution_count": null,
   "id": "40",
   "metadata": {},
   "outputs": [],
   "source": [
    "selected_primers.to_json(\"180423primers_mscarlet.json\")"
   ]
  },
  {
   "cell_type": "code",
   "execution_count": null,
   "id": "41",
   "metadata": {},
   "outputs": [],
   "source": [
    "jqs_num = 162\n",
    "prefix = \"mScarlet\""
   ]
  },
  {
   "cell_type": "code",
   "execution_count": null,
   "id": "42",
   "metadata": {},
   "outputs": [],
   "source": [
    "ordered_seqs = set()\n",
    "primers_for_output = defaultdict(list)\n",
    "for p in selected_primers.itertuples():\n",
    "    for suffix, seq in ((\"f\", p.forward_primer), (\"r\", p.reverse_primer)):\n",
    "        name = \"JQS{}_{}_{}_{}\".format(jqs_num, prefix, p.mutation, suffix)\n",
    "        order = \"{}\\t{}\".format(name, seq)\n",
    "        if seq in ordered_seqs:\n",
    "            continue\n",
    "        ordered_seqs.add(seq)\n",
    "        primers_for_output[suffix].append(order)\n",
    "        jqs_num += 1\n",
    "print(\"\\n\".join(primers_for_output[\"f\"] + primers_for_output[\"r\"]))"
   ]
  },
  {
   "cell_type": "markdown",
   "id": "43",
   "metadata": {},
   "source": [
    "# mSCFP3 chromophore: G91A, L60H"
   ]
  },
  {
   "cell_type": "code",
   "execution_count": null,
   "id": "44",
   "metadata": {},
   "outputs": [],
   "source": [
    "seq = mscfp3_seq"
   ]
  },
  {
   "cell_type": "code",
   "execution_count": null,
   "id": "45",
   "metadata": {},
   "outputs": [],
   "source": [
    "muts = [parse_mutation_name(s) for s in [\"G91A\", \"L60H\"]]\n",
    "muts"
   ]
  },
  {
   "cell_type": "code",
   "execution_count": null,
   "id": "46",
   "metadata": {},
   "outputs": [],
   "source": [
    "primers = []\n",
    "for mut in muts:\n",
    "    res = mut[2]\n",
    "    old_aa = mut[0].lower()\n",
    "    new_aa = mut[1].lower()\n",
    "    seq_idx = 3 * (res - 1)\n",
    "    old_codon = seq[seq_idx : seq_idx + 3]\n",
    "    if codon_to_aa[old_codon] != old_aa:\n",
    "        print(\n",
    "            \"expecting aa {} at residue {}, found {} instead\".format(\n",
    "                old_aa, res, codon_to_aa[old_codon]\n",
    "            )\n",
    "        )\n",
    "        continue\n",
    "        # raise ValueError('expecting aa {} at residue {}, found {} instead'.format(mut[1].lower(), res, codon_to_aa[old_codon]))\n",
    "    primers_for_transition = defaultdict(list)\n",
    "    for new_codon in aa_to_codon[new_aa]:\n",
    "        for alt_old_codon in aa_to_codon[old_aa]:\n",
    "            diff = site_diff(alt_old_codon, new_codon)\n",
    "            if len(diff) == 1:\n",
    "                primer = iva_substitution_primers(seq, diff[0][2], seq_idx + diff[0][0])\n",
    "                primer[\"mutation\"] = mutation_name(old_codon, new_codon, res)\n",
    "                transition = \"{}->{}\".format(diff[0][1], diff[0][2])\n",
    "                primer[\"transition\"] = transition\n",
    "                primers_for_transition[transition].append(primer)\n",
    "    for transition, transition_primers in primers_for_transition.items():\n",
    "        primers.append(transition_primers[0])\n",
    "len(primers)"
   ]
  },
  {
   "cell_type": "code",
   "execution_count": null,
   "id": "47",
   "metadata": {},
   "outputs": [],
   "source": [
    "selected_primers = pd.DataFrame(primers)\n",
    "selected_primers"
   ]
  },
  {
   "cell_type": "code",
   "execution_count": null,
   "id": "48",
   "metadata": {},
   "outputs": [],
   "source": [
    "jqs_num = 174\n",
    "prefix = \"mSCFP3\""
   ]
  },
  {
   "cell_type": "code",
   "execution_count": null,
   "id": "49",
   "metadata": {},
   "outputs": [],
   "source": [
    "ordered_seqs = set()\n",
    "primers_for_output = defaultdict(list)\n",
    "for p in selected_primers.itertuples():\n",
    "    for suffix, seq in ((\"f\", p.forward_primer), (\"r\", p.reverse_primer)):\n",
    "        name = \"JQS{}_{}_{}_{}\".format(jqs_num, prefix, p.mutation, suffix)\n",
    "        order = \"{}\\t{}\".format(name, seq)\n",
    "        if seq in ordered_seqs:\n",
    "            continue\n",
    "        ordered_seqs.add(seq)\n",
    "        primers_for_output[suffix].append(order)\n",
    "        jqs_num += 1\n",
    "print(\"\\n\".join(primers_for_output[\"f\"] + primers_for_output[\"r\"]))"
   ]
  }
 ],
 "metadata": {
  "kernelspec": {
   "display_name": "Python 3",
   "language": "python",
   "name": "python3"
  },
  "language_info": {
   "codemirror_mode": {
    "name": "ipython",
    "version": 3
   },
   "file_extension": ".py",
   "mimetype": "text/x-python",
   "name": "python",
   "nbconvert_exporter": "python",
   "pygments_lexer": "ipython3",
   "version": "3.7.0"
  },
  "toc": {
   "colors": {
    "hover_highlight": "#DAA520",
    "running_highlight": "#FF0000",
    "selected_highlight": "#FFD700"
   },
   "moveMenuLeft": true,
   "nav_menu": {
    "height": "12px",
    "width": "252px"
   },
   "navigate_menu": true,
   "number_sections": true,
   "sideBar": true,
   "threshold": 4,
   "toc_cell": false,
   "toc_section_display": "block",
   "toc_window_display": false
  }
 },
 "nbformat": 4,
 "nbformat_minor": 2
}
