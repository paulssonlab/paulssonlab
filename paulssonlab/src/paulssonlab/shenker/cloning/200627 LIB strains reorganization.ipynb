{
 "cells": [
  {
   "cell_type": "code",
   "execution_count": null,
   "metadata": {},
   "outputs": [],
   "source": [
    "import toml\n",
    "import re\n",
    "import urllib\n",
    "import pygsheets\n",
    "import benchlingapi\n",
    "import requests_html"
   ]
  },
  {
   "cell_type": "code",
   "execution_count": null,
   "metadata": {},
   "outputs": [],
   "source": [
    "%load_ext autoreload\n",
    "%autoreload 2"
   ]
  },
  {
   "cell_type": "code",
   "execution_count": null,
   "metadata": {},
   "outputs": [],
   "source": [
    "import paulssonlab.api as api\n",
    "import paulssonlab.cloning.workflow as workflow"
   ]
  },
  {
   "cell_type": "markdown",
   "metadata": {},
   "source": [
    "# Setup"
   ]
  },
  {
   "cell_type": "code",
   "execution_count": null,
   "metadata": {},
   "outputs": [],
   "source": [
    "config = toml.load(\"config.toml\")"
   ]
  },
  {
   "cell_type": "code",
   "execution_count": null,
   "metadata": {},
   "outputs": [],
   "source": [
    "session = benchlingapi.Session(config[\"benchling\"][\"api_key\"])"
   ]
  },
  {
   "cell_type": "code",
   "execution_count": null,
   "metadata": {},
   "outputs": [],
   "source": [
    "gc = pygsheets.authorize(service_account_file=\"credentials.json\")"
   ]
  },
  {
   "cell_type": "code",
   "execution_count": null,
   "metadata": {},
   "outputs": [],
   "source": [
    "col = workflow.get_strain_collection_sheets(gc.drive.service, \"LIB\")\n",
    "col"
   ]
  },
  {
   "cell_type": "code",
   "execution_count": null,
   "metadata": {},
   "outputs": [],
   "source": [
    "strain_sheet = gc.open_by_key(col[\"strains\"]).worksheet()\n",
    "plasmid_sheet = gc.open_by_key(col[\"plasmids\"]).worksheet()"
   ]
  },
  {
   "cell_type": "markdown",
   "metadata": {},
   "source": [
    "# Lab Obs ordering site"
   ]
  },
  {
   "cell_type": "code",
   "execution_count": null,
   "metadata": {},
   "outputs": [],
   "source": [
    "import paulssonlab.api.labops as labops"
   ]
  },
  {
   "cell_type": "code",
   "execution_count": null,
   "metadata": {},
   "outputs": [],
   "source": [
    "browser = await labops.login_harvard(\n",
    "    config[\"ecommons\"][\"username\"],\n",
    "    config[\"ecommons\"][\"password\"],\n",
    "    service=\"https://sysbiolabops.hms.harvard.edu/casservice\",\n",
    ")"
   ]
  },
  {
   "cell_type": "code",
   "execution_count": null,
   "metadata": {},
   "outputs": [],
   "source": [
    "addgene_orders = await labops.get_orders(browser, vendor=\"Addgene (26)\")"
   ]
  },
  {
   "cell_type": "code",
   "execution_count": null,
   "metadata": {},
   "outputs": [],
   "source": [
    "my_addgene = addgene_orders[\n",
    "    addgene_orders[\"Name\"].isin([\"Jacob Shenker\", \"Noah Olsman\"])\n",
    "]"
   ]
  },
  {
   "cell_type": "code",
   "execution_count": null,
   "metadata": {},
   "outputs": [],
   "source": [
    "addgene_catalog = (\n",
    "    my_addgene[\"Catalog #\"]\n",
    "    .apply(lambda x: int(re.search(r\"(\\d+)$\", x).group(1)))\n",
    "    .values\n",
    ")"
   ]
  },
  {
   "cell_type": "markdown",
   "metadata": {},
   "source": [
    "# Densmore/3G/JUMP"
   ]
  },
  {
   "cell_type": "code",
   "execution_count": null,
   "metadata": {},
   "outputs": [],
   "source": [
    "densmore_kit = \"https://www.addgene.org/1000000059/\"\n",
    "threeg_kit = \"https://www.addgene.org/1000000161/\"\n",
    "marionette_kit = \"https://www.addgene.org/1000000137/\"\n",
    "jump_plasmids = [\n",
    "    \"https://www.addgene.org/126956/\",\n",
    "    \"https://www.addgene.org/126959/\",\n",
    "    \"https://www.addgene.org/126960/\",\n",
    "    \"https://www.addgene.org/126961/\",\n",
    "    \"https://www.addgene.org/126962/\",\n",
    "    \"https://www.addgene.org/126963/\",\n",
    "    \"https://www.addgene.org/126964/\",\n",
    "    \"https://www.addgene.org/126965/\",\n",
    "    \"https://www.addgene.org/126966/\",\n",
    "    \"https://www.addgene.org/126967/\",\n",
    "    \"https://www.addgene.org/126973/\",\n",
    "    \"https://www.addgene.org/126974/\",\n",
    "    \"https://www.addgene.org/126975/\",\n",
    "    \"https://www.addgene.org/126976/\",\n",
    "    \"https://www.addgene.org/126991/\",\n",
    "    \"https://www.addgene.org/126996/\",\n",
    "    \"https://www.addgene.org/127015/\",\n",
    "    \"https://www.addgene.org/127047/\",\n",
    "    \"https://www.addgene.org/127051/\",\n",
    "    \"https://www.addgene.org/127025/\",\n",
    "    \"https://www.addgene.org/127000/\",\n",
    "    \"https://www.addgene.org/126983/\",\n",
    "]\n",
    "jump_plasmids = sorted(jump_plasmids)"
   ]
  },
  {
   "cell_type": "code",
   "execution_count": null,
   "metadata": {},
   "outputs": [],
   "source": [
    "addgene_plasmids = [\n",
    "    f\"https://www.addgene.org/{catalog}/\"\n",
    "    for catalog in addgene_catalog\n",
    "    if catalog not in (1000000059,)  # remove Densmore\n",
    "]"
   ]
  },
  {
   "cell_type": "code",
   "execution_count": null,
   "metadata": {},
   "outputs": [],
   "source": [
    "all_addgene = [threeg_kit, *jump_plasmids, marionette_kit, *addgene_plasmids]"
   ]
  },
  {
   "cell_type": "code",
   "execution_count": null,
   "metadata": {},
   "outputs": [],
   "source": [
    "# only include first for duplicate URLs\n",
    "all_addgene_deduplicated = list(dict.fromkeys(all_addgene))"
   ]
  },
  {
   "cell_type": "code",
   "execution_count": null,
   "metadata": {},
   "outputs": [],
   "source": [
    "len(all_addgene)"
   ]
  },
  {
   "cell_type": "code",
   "execution_count": null,
   "metadata": {},
   "outputs": [],
   "source": [
    "len(all_addgene_deduplicated)"
   ]
  },
  {
   "cell_type": "code",
   "execution_count": null,
   "metadata": {},
   "outputs": [],
   "source": [
    "addgene_data = workflow.import_addgene(\n",
    "    all_addgene_deduplicated, strain_sheet, plasmid_sheet, col[\"plasmid_maps\"]\n",
    ")"
   ]
  },
  {
   "cell_type": "markdown",
   "metadata": {},
   "source": [
    "# Test"
   ]
  },
  {
   "cell_type": "code",
   "execution_count": null,
   "metadata": {},
   "outputs": [],
   "source": [
    "dd = workflow._import_addgene_data(\"https://www.addgene.org/1000000137/\", callback=cb)"
   ]
  },
  {
   "cell_type": "code",
   "execution_count": null,
   "metadata": {},
   "outputs": [],
   "source": [
    "z = [x[\"strain\"] for x in dd if \"plasmid_map\" not in x]"
   ]
  },
  {
   "cell_type": "code",
   "execution_count": null,
   "metadata": {},
   "outputs": [],
   "source": [
    "z"
   ]
  },
  {
   "cell_type": "code",
   "execution_count": null,
   "metadata": {},
   "outputs": [],
   "source": [
    "[x[\"plasmid_map\"].description for x in dd if \"plasmid_map\" in x]"
   ]
  },
  {
   "cell_type": "code",
   "execution_count": null,
   "metadata": {},
   "outputs": [],
   "source": [
    "def cb(entry, data):\n",
    "    print(data[\"purpose\"])\n",
    "    return entry\n",
    "\n",
    "\n",
    "d = workflow._import_addgene_data(\n",
    "    \"https://www.addgene.org/108512/\", strain_overrides={\"Tags\": \"foo\"}, callback=cb\n",
    ")"
   ]
  },
  {
   "cell_type": "code",
   "execution_count": null,
   "metadata": {},
   "outputs": [],
   "source": [
    "d"
   ]
  },
  {
   "cell_type": "code",
   "execution_count": null,
   "metadata": {},
   "outputs": [],
   "source": []
  },
  {
   "cell_type": "code",
   "execution_count": null,
   "metadata": {},
   "outputs": [],
   "source": [
    "d[0][\"strain\"][\"Aliases*\"]"
   ]
  },
  {
   "cell_type": "code",
   "execution_count": null,
   "metadata": {},
   "outputs": [],
   "source": [
    "d[0][\"plasmid_map\"].description.split(\" \")[0]"
   ]
  },
  {
   "cell_type": "code",
   "execution_count": null,
   "metadata": {},
   "outputs": [],
   "source": [
    "d2 = workflow.import_addgene(\n",
    "    # \"https://www.addgene.org/108512/\",\n",
    "    \"https://www.addgene.org/1000000137/\",\n",
    "    strain_sheet,\n",
    "    plasmid_sheet,\n",
    "    col[\"plasmid_maps\"],\n",
    "    strain_overrides={\"Tags\": \"foo\"},\n",
    ")"
   ]
  },
  {
   "cell_type": "code",
   "execution_count": null,
   "metadata": {},
   "outputs": [],
   "source": []
  }
 ],
 "metadata": {
  "kernelspec": {
   "display_name": "Python 3",
   "language": "python",
   "name": "python3"
  },
  "language_info": {
   "codemirror_mode": {
    "name": "ipython",
    "version": 3
   },
   "file_extension": ".py",
   "mimetype": "text/x-python",
   "name": "python",
   "nbconvert_exporter": "python",
   "pygments_lexer": "ipython3",
   "version": "3.8.3"
  }
 },
 "nbformat": 4,
 "nbformat_minor": 4
}
