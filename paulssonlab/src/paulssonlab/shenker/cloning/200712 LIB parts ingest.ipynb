{
 "cells": [
  {
   "cell_type": "code",
   "execution_count": null,
   "metadata": {},
   "outputs": [],
   "source": [
    "import toml\n",
    "import re\n",
    "import urllib\n",
    "import pygsheets\n",
    "import benchlingapi\n",
    "import requests_html"
   ]
  },
  {
   "cell_type": "code",
   "execution_count": null,
   "metadata": {},
   "outputs": [],
   "source": [
    "%load_ext autoreload\n",
    "%autoreload 2"
   ]
  },
  {
   "cell_type": "code",
   "execution_count": null,
   "metadata": {},
   "outputs": [],
   "source": [
    "import paulssonlab.api as api\n",
    "from paulssonlab.api.util import base_url\n",
    "import paulssonlab.cloning.workflow as workflow"
   ]
  },
  {
   "cell_type": "markdown",
   "metadata": {},
   "source": [
    "# Setup"
   ]
  },
  {
   "cell_type": "code",
   "execution_count": null,
   "metadata": {},
   "outputs": [],
   "source": [
    "config = toml.load(\"config.toml\")"
   ]
  },
  {
   "cell_type": "code",
   "execution_count": null,
   "metadata": {},
   "outputs": [],
   "source": [
    "session = benchlingapi.Session(config[\"benchling\"][\"api_key\"])"
   ]
  },
  {
   "cell_type": "code",
   "execution_count": null,
   "metadata": {},
   "outputs": [],
   "source": [
    "gc = pygsheets.authorize(service_account_file=\"credentials.json\")"
   ]
  },
  {
   "cell_type": "code",
   "execution_count": null,
   "metadata": {},
   "outputs": [],
   "source": [
    "col = workflow.get_strain_collection_sheets(gc.drive.service, \"LIB\")\n",
    "col"
   ]
  },
  {
   "cell_type": "code",
   "execution_count": null,
   "metadata": {},
   "outputs": [],
   "source": [
    "strain_sheet = gc.open_by_key(col[\"strains\"]).worksheet()\n",
    "plasmid_sheet = gc.open_by_key(col[\"plasmids\"]).worksheet()"
   ]
  },
  {
   "cell_type": "markdown",
   "metadata": {},
   "source": [
    "# 3G/JUMP/Densmore"
   ]
  },
  {
   "cell_type": "code",
   "execution_count": null,
   "metadata": {},
   "outputs": [],
   "source": [
    "threeg_kit = \"https://www.addgene.org/1000000161/\"\n",
    "marionette_kit = \"https://www.addgene.org/1000000137/\"\n",
    "jump_plasmids = [\n",
    "    \"https://www.addgene.org/126956/\",\n",
    "    \"https://www.addgene.org/126959/\",\n",
    "    \"https://www.addgene.org/126960/\",\n",
    "    \"https://www.addgene.org/126961/\",\n",
    "    \"https://www.addgene.org/126962/\",\n",
    "    \"https://www.addgene.org/126963/\",\n",
    "    \"https://www.addgene.org/126964/\",\n",
    "    \"https://www.addgene.org/126965/\",\n",
    "    \"https://www.addgene.org/126966/\",\n",
    "    \"https://www.addgene.org/126967/\",\n",
    "    \"https://www.addgene.org/126973/\",\n",
    "    \"https://www.addgene.org/126974/\",\n",
    "    \"https://www.addgene.org/126975/\",\n",
    "    \"https://www.addgene.org/126976/\",\n",
    "    \"https://www.addgene.org/126991/\",\n",
    "    \"https://www.addgene.org/126996/\",\n",
    "    \"https://www.addgene.org/127015/\",\n",
    "    \"https://www.addgene.org/127047/\",\n",
    "    \"https://www.addgene.org/127051/\",\n",
    "    \"https://www.addgene.org/127025/\",\n",
    "    \"https://www.addgene.org/127000/\",\n",
    "    \"https://www.addgene.org/126983/\",\n",
    "]\n",
    "jump_plasmids = sorted(jump_plasmids)\n",
    "densmore_kit = \"https://www.addgene.org/1000000059/\"\n",
    "densmore_wells = [\n",
    "    \"A1\",\n",
    "    \"A5\",\n",
    "    \"A9\",\n",
    "    \"B1\",\n",
    "    \"B5\",\n",
    "    \"B9\",\n",
    "    \"C1\",\n",
    "    \"C5\",\n",
    "    \"C9\",\n",
    "    \"D1\",\n",
    "    \"D5\",\n",
    "    \"D6\",\n",
    "    \"D7\",\n",
    "    \"D8\",\n",
    "    \"D9\",\n",
    "    \"D10\",\n",
    "    \"D11\",\n",
    "    \"D12\",\n",
    "    \"E1\",\n",
    "    \"E2\",\n",
    "    \"E3\",\n",
    "    \"E4\",\n",
    "    \"E5\",\n",
    "    \"E6\",\n",
    "    \"E7\",\n",
    "]"
   ]
  },
  {
   "cell_type": "markdown",
   "metadata": {},
   "source": [
    "# Densmore renaming"
   ]
  },
  {
   "cell_type": "code",
   "execution_count": null,
   "metadata": {},
   "outputs": [],
   "source": [
    "for sheet in (strain_sheet, plasmid_sheet):\n",
    "    rows = sheet.get_all_records()\n",
    "    # sheet.unlink()\n",
    "    col_idx = list(rows[0].keys()).index(\"Aliases*\") + 1\n",
    "    for idx, row in enumerate(rows):\n",
    "        if base_url(densmore_kit) in row[\"Source*\"]:\n",
    "            new_aliases = re.sub(\n",
    "                r\"([^()]*)\\s\\(([^()]*)\\)([^()]*)\", r\"\\1\\3,\\2\\3\", row[\"Aliases*\"]\n",
    "            )\n",
    "            sheet.update_value((idx + 2, col_idx), new_aliases, parse=False)\n",
    "    # sheet.link() # TODO: this gives 500 error, not sure why"
   ]
  },
  {
   "cell_type": "markdown",
   "metadata": {},
   "source": [
    "# Ingest parts"
   ]
  },
  {
   "cell_type": "code",
   "execution_count": null,
   "metadata": {},
   "outputs": [],
   "source": [
    "rows = plasmid_sheet.get_all_records()"
   ]
  },
  {
   "cell_type": "code",
   "execution_count": null,
   "metadata": {},
   "outputs": [],
   "source": [
    "rows[0]"
   ]
  },
  {
   "cell_type": "code",
   "execution_count": null,
   "metadata": {},
   "outputs": [],
   "source": [
    "def import_threeg_part(plasmid):\n",
    "    pass\n",
    "\n",
    "\n",
    "def import_densmore_part(plasmid):\n",
    "    pass\n",
    "\n",
    "\n",
    "def import_jump_part(plasmid):\n",
    "    pass\n",
    "\n",
    "\n",
    "# accept extra columns via overrides={\"Tags\": \"foo\"}\n",
    "# pass through tags from plasmid\n",
    "\n",
    "\n",
    "def get_part():\n",
    "    part = {}\n",
    "    part[\"Name*\"] = \"\"\n",
    "    part[\"Author*\"] = \"\"\n",
    "    part[\"Date*\"] = \"\"\n",
    "    part[\"Tags\"] = \"\"\n",
    "    part[\"Plasmid/Oligos (Cutter)*\"] = \"\"\n",
    "    part[\"Author*\"] = \"\"\n",
    "    part[\"Date*\"] = \"\"\n",
    "    part[\"Upstream overhang*\"] = \"\"\n",
    "    part[\"Downstream overhang*\"] = \"\"\n",
    "    part[\"Sequence*\"] = \"\"\n",
    "    part[\"Organism/codon usage*\"] = \"\"\n",
    "    part[\"Description\"] = \"\"\n",
    "    return part\n",
    "\n",
    "\n",
    "part_rules = [\n",
    "    (\n",
    "        lambda x: (base_url(threeg_kit) in x[\"Source*\"]) and (x[\"Aliases*\"][0] != \"V\"),\n",
    "        import_threeg_part,\n",
    "    ),\n",
    "    (lambda x: base_url(densmore_kit) in x[\"Source*\"], import_densmore_part),\n",
    "    (\n",
    "        lambda x: (any(base_url(j) in x[\"Source*\"] for j in jump_plasmids))\n",
    "        and (\"(Empty Backbone)\" not in x[\"Description\"]),\n",
    "        import_jump_part,\n",
    "    ),\n",
    "]"
   ]
  },
  {
   "cell_type": "code",
   "execution_count": null,
   "metadata": {},
   "outputs": [],
   "source": [
    "for row in rows:\n",
    "    for predicate, rule in part_rules:\n",
    "        if predicate(row):\n",
    "            print(rule, row[\"Aliases*\"])\n",
    "            break"
   ]
  }
 ],
 "metadata": {
  "kernelspec": {
   "display_name": "Python 3",
   "language": "python",
   "name": "python3"
  },
  "language_info": {
   "codemirror_mode": {
    "name": "ipython",
    "version": 3
   },
   "file_extension": ".py",
   "mimetype": "text/x-python",
   "name": "python",
   "nbconvert_exporter": "python",
   "pygments_lexer": "ipython3",
   "version": "3.8.3"
  }
 },
 "nbformat": 4,
 "nbformat_minor": 4
}
