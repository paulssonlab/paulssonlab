{
 "cells": [
  {
   "cell_type": "code",
   "execution_count": null,
   "metadata": {},
   "outputs": [],
   "source": [
    "import toml\n",
    "import re\n",
    "import urllib\n",
    "import pygsheets\n",
    "import benchlingapi\n",
    "import requests_html"
   ]
  },
  {
   "cell_type": "code",
   "execution_count": null,
   "metadata": {},
   "outputs": [],
   "source": [
    "%load_ext autoreload\n",
    "%autoreload 2"
   ]
  },
  {
   "cell_type": "code",
   "execution_count": null,
   "metadata": {},
   "outputs": [],
   "source": [
    "import paulssonlab.api as api\n",
    "from paulssonlab.api.google.drive import get_drive_modified_time\n",
    "import paulssonlab.cloning.workflow as workflow"
   ]
  },
  {
   "cell_type": "markdown",
   "metadata": {},
   "source": [
    "# Setup"
   ]
  },
  {
   "cell_type": "code",
   "execution_count": null,
   "metadata": {},
   "outputs": [],
   "source": [
    "config = toml.load(\"config.toml\")"
   ]
  },
  {
   "cell_type": "code",
   "execution_count": null,
   "metadata": {},
   "outputs": [],
   "source": [
    "session = benchlingapi.Session(config[\"benchling\"][\"api_key\"])"
   ]
  },
  {
   "cell_type": "code",
   "execution_count": null,
   "metadata": {},
   "outputs": [],
   "source": [
    "gc = pygsheets.authorize(service_account_file=\"credentials.json\")"
   ]
  },
  {
   "cell_type": "code",
   "execution_count": null,
   "metadata": {},
   "outputs": [],
   "source": [
    "col = workflow.get_strain_collection_sheets(gc.drive.service, \"LIB\")\n",
    "col"
   ]
  },
  {
   "cell_type": "code",
   "execution_count": null,
   "metadata": {},
   "outputs": [],
   "source": [
    "strain_sheet = gc.open_by_key(col[\"strains\"]).worksheet()\n",
    "plasmid_sheet = gc.open_by_key(col[\"plasmids\"]).worksheet()"
   ]
  },
  {
   "cell_type": "markdown",
   "metadata": {},
   "source": [
    "# Lab Obs ordering site"
   ]
  },
  {
   "cell_type": "code",
   "execution_count": null,
   "metadata": {},
   "outputs": [],
   "source": [
    "import paulssonlab.api.labops as labops"
   ]
  },
  {
   "cell_type": "code",
   "execution_count": null,
   "metadata": {},
   "outputs": [],
   "source": [
    "browser = await labops.login_harvard(\n",
    "    config[\"ecommons\"][\"username\"],\n",
    "    config[\"ecommons\"][\"password\"],\n",
    "    service=\"https://sysbiolabops.hms.harvard.edu/casservice\",\n",
    ")"
   ]
  },
  {
   "cell_type": "code",
   "execution_count": null,
   "metadata": {},
   "outputs": [],
   "source": [
    "addgene_orders = await labops.get_orders(browser, vendor=\"Addgene (26)\")"
   ]
  },
  {
   "cell_type": "code",
   "execution_count": null,
   "metadata": {},
   "outputs": [],
   "source": [
    "my_addgene = addgene_orders[\n",
    "    addgene_orders[\"Name\"].isin([\"Jacob Shenker\", \"Noah Olsman\"])\n",
    "]"
   ]
  },
  {
   "cell_type": "code",
   "execution_count": null,
   "metadata": {},
   "outputs": [],
   "source": [
    "addgene_catalog = (\n",
    "    my_addgene[\"Catalog #\"]\n",
    "    .apply(lambda x: int(re.search(r\"(\\d+)$\", x).group(1)))\n",
    "    .values\n",
    ")"
   ]
  },
  {
   "cell_type": "markdown",
   "metadata": {},
   "source": [
    "# 3G/JUMP/Marionette/Addgene"
   ]
  },
  {
   "cell_type": "code",
   "execution_count": null,
   "metadata": {},
   "outputs": [],
   "source": [
    "threeg_kit = \"https://www.addgene.org/1000000161/\"\n",
    "marionette_kit = \"https://www.addgene.org/1000000137/\"\n",
    "jump_plasmids = [\n",
    "    \"https://www.addgene.org/126956/\",\n",
    "    \"https://www.addgene.org/126959/\",\n",
    "    \"https://www.addgene.org/126960/\",\n",
    "    \"https://www.addgene.org/126961/\",\n",
    "    \"https://www.addgene.org/126962/\",\n",
    "    \"https://www.addgene.org/126963/\",\n",
    "    \"https://www.addgene.org/126964/\",\n",
    "    \"https://www.addgene.org/126965/\",\n",
    "    \"https://www.addgene.org/126966/\",\n",
    "    \"https://www.addgene.org/126967/\",\n",
    "    \"https://www.addgene.org/126973/\",\n",
    "    \"https://www.addgene.org/126974/\",\n",
    "    \"https://www.addgene.org/126975/\",\n",
    "    \"https://www.addgene.org/126976/\",\n",
    "    \"https://www.addgene.org/126991/\",\n",
    "    \"https://www.addgene.org/126996/\",\n",
    "    \"https://www.addgene.org/127015/\",\n",
    "    \"https://www.addgene.org/127047/\",\n",
    "    \"https://www.addgene.org/127051/\",\n",
    "    \"https://www.addgene.org/127025/\",\n",
    "    \"https://www.addgene.org/127000/\",\n",
    "    \"https://www.addgene.org/126983/\",\n",
    "]\n",
    "jump_plasmids = sorted(jump_plasmids)"
   ]
  },
  {
   "cell_type": "code",
   "execution_count": null,
   "metadata": {},
   "outputs": [],
   "source": [
    "addgene_plasmids = [\n",
    "    f\"https://www.addgene.org/{catalog}/\"\n",
    "    for catalog in addgene_catalog\n",
    "    if catalog not in (1000000059,)  # remove Densmore\n",
    "]"
   ]
  },
  {
   "cell_type": "code",
   "execution_count": null,
   "metadata": {},
   "outputs": [],
   "source": [
    "all_addgene = [threeg_kit, *jump_plasmids, marionette_kit, *addgene_plasmids]"
   ]
  },
  {
   "cell_type": "code",
   "execution_count": null,
   "metadata": {},
   "outputs": [],
   "source": [
    "# only include first for duplicate URLs\n",
    "all_addgene_deduplicated = list(dict.fromkeys(all_addgene))"
   ]
  },
  {
   "cell_type": "code",
   "execution_count": null,
   "metadata": {},
   "outputs": [],
   "source": [
    "len(all_addgene)"
   ]
  },
  {
   "cell_type": "code",
   "execution_count": null,
   "metadata": {},
   "outputs": [],
   "source": [
    "len(all_addgene_deduplicated)"
   ]
  },
  {
   "cell_type": "code",
   "execution_count": null,
   "metadata": {},
   "outputs": [],
   "source": [
    "addgene_data = workflow.import_addgene(\n",
    "    all_addgene_deduplicated, strain_sheet, plasmid_sheet, col[\"plasmid_maps\"]\n",
    ")"
   ]
  },
  {
   "cell_type": "markdown",
   "metadata": {},
   "source": [
    "# Densmore"
   ]
  },
  {
   "cell_type": "code",
   "execution_count": null,
   "metadata": {},
   "outputs": [],
   "source": [
    "densmore_kit = \"https://www.addgene.org/1000000059/\"\n",
    "densmore_wells = [\n",
    "    \"A1\",\n",
    "    \"A5\",\n",
    "    \"A9\",\n",
    "    \"B1\",\n",
    "    \"B5\",\n",
    "    \"B9\",\n",
    "    \"C1\",\n",
    "    \"C5\",\n",
    "    \"C9\",\n",
    "    \"D1\",\n",
    "    \"D5\",\n",
    "    \"D6\",\n",
    "    \"D7\",\n",
    "    \"D8\",\n",
    "    \"D9\",\n",
    "    \"D10\",\n",
    "    \"D11\",\n",
    "    \"D12\",\n",
    "    \"E1\",\n",
    "    \"E2\",\n",
    "    \"E3\",\n",
    "    \"E4\",\n",
    "    \"E5\",\n",
    "    \"E6\",\n",
    "    \"E7\",\n",
    "]"
   ]
  },
  {
   "cell_type": "code",
   "execution_count": null,
   "metadata": {},
   "outputs": [],
   "source": [
    "def cb(entry, data):\n",
    "    if data[\"well\"] not in densmore_wells:\n",
    "        return False\n",
    "    else:\n",
    "        return entry\n",
    "\n",
    "\n",
    "addgene_data = workflow.import_addgene(\n",
    "    densmore_kit, strain_sheet, plasmid_sheet, col[\"plasmid_maps\"], callback=cb\n",
    ")"
   ]
  },
  {
   "cell_type": "markdown",
   "metadata": {},
   "source": [
    "# Alias syncing"
   ]
  },
  {
   "cell_type": "code",
   "execution_count": null,
   "metadata": {},
   "outputs": [],
   "source": [
    "def sync_duplicate_info(columns={\"Tags\": \"\\s\", \"Aliases*\": \",\", \"Description\"}):\n",
    "    # aliases, tags\n",
    "    pass"
   ]
  },
  {
   "cell_type": "code",
   "execution_count": null,
   "metadata": {},
   "outputs": [],
   "source": [
    "# allow batching edits using unlink/link, compare performance"
   ]
  },
  {
   "cell_type": "code",
   "execution_count": null,
   "metadata": {},
   "outputs": [],
   "source": [
    "def sync_columns(\n",
    "    sheet1,\n",
    "    sheet2,\n",
    "    sync_column,\n",
    "    join_column=\"Plasmid(s)*\",\n",
    "    join_separator=\"(?:\\s*,\\s*|\\s+)\",\n",
    "    strategy=\"newest\",\n",
    "    separator=None,\n",
    "):\n",
    "    pass\n",
    "\n",
    "\n",
    "def sync_colletion_sheets(\n",
    "    strain_sheet,\n",
    "    plasmid_sheet,\n",
    "    part_sheet,\n",
    "    sync_column,\n",
    "    join_column=\"Plasmid(s)*\",\n",
    "    join_separator=\"(?:\\s*,\\s*|\\s+)\",\n",
    "    strategy=\"newest\",\n",
    "    separator=None,\n",
    "):\n",
    "    mtime1 = get_drive_modified_time(sheet1.client.drive.service, sheet1.spreadsheet.id)\n",
    "    mtime2 = get_drive_modified_time(sheet2.client.drive.service, sheet2.spreadsheet.id)\n",
    "    # get columns"
   ]
  },
  {
   "cell_type": "code",
   "execution_count": null,
   "metadata": {},
   "outputs": [],
   "source": [
    "def sync_columns(\n",
    "    sheets,\n",
    "    sync_column,\n",
    "    join_column=\"Plasmid(s)*\",\n",
    "    join_separator=\"(?:\\s*,\\s*|\\s+)\",\n",
    "    strategy=\"newest\",\n",
    "    separator=None,\n",
    "):\n",
    "    mtime1 = get_drive_modified_time(sheet1.client.drive.service, sheet1.spreadsheet.id)\n",
    "    mtime2 = get_drive_modified_time(sheet2.client.drive.service, sheet2.spreadsheet.id)"
   ]
  },
  {
   "cell_type": "code",
   "execution_count": null,
   "metadata": {},
   "outputs": [],
   "source": [
    "def join_sheets(sheets, join_column):\n",
    "    pass\n",
    "\n",
    "\n",
    "## join\n",
    "# row_nums: {\"strain\": X, \"plasmid\": X, \"part\": X}\n",
    "# ids: {\"strain\": \"LIB2\", \"plasmid\": \"pLIB3\", \"part\": \"ALIAS\"}\n",
    "\n",
    "## for each column:\n",
    "# values: {\"strain\": X, \"plasmid\": X, \"part\": X}\n",
    "# mtimes: {\"strain\": X, \"plasmid\": X, \"part\": X}\n",
    "# sync_strategy -> sync_func"
   ]
  },
  {
   "cell_type": "code",
   "execution_count": null,
   "metadata": {},
   "outputs": [],
   "source": [
    "col_names = strain_sheet.get_row(1)\n",
    "id_colidx = col_names.index(\"ID*\") + 1\n",
    "sync_colidx = col_names.index(\"Aliases*\") + 1\n",
    "join_colidx = col_names.index(\"Plasmid(s)*\") + 1"
   ]
  },
  {
   "cell_type": "code",
   "execution_count": null,
   "metadata": {},
   "outputs": [],
   "source": [
    "id_column = strain_sheet.get_col(id_colidx, include_tailing_empty=False)\n",
    "num_rows = len(id_column)\n",
    "sync_column = strain_sheet.get_values(\n",
    "    (1, sync_colidx),\n",
    "    (num_rows, sync_colidx),\n",
    "    majdim=\"COLUMNS\",\n",
    "    include_tailing_empty_rows=True,\n",
    ")[0]\n",
    "join_column = strain_sheet.get_values(\n",
    "    (1, join_colidx),\n",
    "    (num_rows, join_colidx),\n",
    "    majdim=\"COLUMNS\",\n",
    "    include_tailing_empty_rows=True,\n",
    ")[0]"
   ]
  },
  {
   "cell_type": "code",
   "execution_count": null,
   "metadata": {},
   "outputs": [],
   "source": [
    "(len(id_column), len(sync_column), len(join_column))"
   ]
  },
  {
   "cell_type": "code",
   "execution_count": null,
   "metadata": {},
   "outputs": [],
   "source": [
    "(id_column[-5:], sync_column[-5:], join_column[-5:])"
   ]
  },
  {
   "cell_type": "code",
   "execution_count": null,
   "metadata": {},
   "outputs": [],
   "source": [
    "strain_sheet.get_values((), ())"
   ]
  },
  {
   "cell_type": "code",
   "execution_count": null,
   "metadata": {},
   "outputs": [],
   "source": [
    "res = (\n",
    "    plasmid_sheet.client.drive.service.files()\n",
    "    .get(fileId=plasmid_sheet.spreadsheet.id, fields=\"modifiedTime\")\n",
    "    .execute()\n",
    ")\n",
    "from_rfc3339(res[\"modifiedTime\"])"
   ]
  },
  {
   "cell_type": "markdown",
   "metadata": {},
   "source": [
    "# Ingest parts"
   ]
  },
  {
   "cell_type": "code",
   "execution_count": null,
   "metadata": {},
   "outputs": [],
   "source": [
    "rows = plasmid_sheet.get_all_records()"
   ]
  },
  {
   "cell_type": "code",
   "execution_count": null,
   "metadata": {},
   "outputs": [],
   "source": [
    "rows[0]"
   ]
  },
  {
   "cell_type": "code",
   "execution_count": null,
   "metadata": {},
   "outputs": [],
   "source": [
    "def base_url(url):\n",
    "    return re.match(\"^(?:https?://)?(.*[^/]+)/?$\", url).group(1).lower()"
   ]
  },
  {
   "cell_type": "code",
   "execution_count": null,
   "metadata": {},
   "outputs": [],
   "source": [
    "def import_threeg_part(plasmid):\n",
    "    pass\n",
    "\n",
    "\n",
    "def import_densmore_part(plasmid):\n",
    "    pass\n",
    "\n",
    "\n",
    "def import_jump_part(plasmid):\n",
    "    pass\n",
    "\n",
    "\n",
    "# accept extra columns via overrides={\"Tags\": \"foo\"}\n",
    "# pass through tags from plasmid\n",
    "\n",
    "\n",
    "def get_part():\n",
    "    part = {}\n",
    "    part[\"Name*\"] = \"\"\n",
    "    part[\"Author*\"] = \"\"\n",
    "    part[\"Date*\"] = \"\"\n",
    "    part[\"Tags\"] = \"\"\n",
    "    part[\"Plasmid/Oligos (Cutter)*\"] = \"\"\n",
    "    part[\"Author*\"] = \"\"\n",
    "    part[\"Date*\"] = \"\"\n",
    "    part[\"Upstream overhang*\"] = \"\"\n",
    "    part[\"Downstream overhang*\"] = \"\"\n",
    "    part[\"Sequence*\"] = \"\"\n",
    "    part[\"Organism/codon usage*\"] = \"\"\n",
    "    part[\"Description\"] = \"\"\n",
    "    return part\n",
    "\n",
    "\n",
    "part_rules = [\n",
    "    (\n",
    "        lambda x: (base_url(threeg_kit) in x[\"Source*\"]) and (x[\"Aliases*\"][0] != \"V\"),\n",
    "        import_threeg_part,\n",
    "    ),\n",
    "    (lambda x: base_url(densmore_kit) in x[\"Source*\"], import_densmore_part),\n",
    "    (\n",
    "        lambda x: (any(base_url(j) in x[\"Source*\"] for j in jump_plasmids))\n",
    "        and (\"(Empty Backbone)\" not in x[\"Description\"]),\n",
    "        import_jump_part,\n",
    "    ),\n",
    "]"
   ]
  },
  {
   "cell_type": "code",
   "execution_count": null,
   "metadata": {},
   "outputs": [],
   "source": [
    "for row in rows:\n",
    "    for predicate, rule in part_rules:\n",
    "        if predicate(row):\n",
    "            print(rule, row[\"Aliases*\"])\n",
    "            break"
   ]
  }
 ],
 "metadata": {
  "kernelspec": {
   "display_name": "Python 3",
   "language": "python",
   "name": "python3"
  },
  "language_info": {
   "codemirror_mode": {
    "name": "ipython",
    "version": 3
   },
   "file_extension": ".py",
   "mimetype": "text/x-python",
   "name": "python",
   "nbconvert_exporter": "python",
   "pygments_lexer": "ipython3",
   "version": "3.8.3"
  }
 },
 "nbformat": 4,
 "nbformat_minor": 4
}
