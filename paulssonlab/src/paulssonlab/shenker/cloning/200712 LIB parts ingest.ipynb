{
 "cells": [
  {
   "cell_type": "code",
   "execution_count": null,
   "metadata": {},
   "outputs": [],
   "source": [
    "import toml\n",
    "import re\n",
    "import urllib\n",
    "from datetime import datetime\n",
    "import pygsheets\n",
    "import benchlingapi\n",
    "import requests_html"
   ]
  },
  {
   "cell_type": "code",
   "execution_count": null,
   "metadata": {},
   "outputs": [],
   "source": [
    "%load_ext autoreload\n",
    "%autoreload 2"
   ]
  },
  {
   "cell_type": "code",
   "execution_count": null,
   "metadata": {},
   "outputs": [],
   "source": [
    "import paulssonlab.api as api\n",
    "from paulssonlab.api.util import base_url\n",
    "import paulssonlab.cloning.workflow as workflow"
   ]
  },
  {
   "cell_type": "markdown",
   "metadata": {},
   "source": [
    "# Setup"
   ]
  },
  {
   "cell_type": "code",
   "execution_count": null,
   "metadata": {},
   "outputs": [],
   "source": [
    "config = toml.load(\"config.toml\")"
   ]
  },
  {
   "cell_type": "code",
   "execution_count": null,
   "metadata": {},
   "outputs": [],
   "source": [
    "session = benchlingapi.Session(config[\"benchling\"][\"api_key\"])"
   ]
  },
  {
   "cell_type": "code",
   "execution_count": null,
   "metadata": {},
   "outputs": [],
   "source": [
    "gc = pygsheets.authorize(service_account_file=\"credentials.json\")"
   ]
  },
  {
   "cell_type": "code",
   "execution_count": null,
   "metadata": {},
   "outputs": [],
   "source": [
    "col = workflow.get_strain_collection_sheets(gc.drive.service, \"LIB\")\n",
    "col"
   ]
  },
  {
   "cell_type": "code",
   "execution_count": null,
   "metadata": {},
   "outputs": [],
   "source": [
    "strain_sheet = gc.open_by_key(col[\"strains\"]).worksheet()\n",
    "plasmid_sheet = gc.open_by_key(col[\"plasmids\"]).worksheet()"
   ]
  },
  {
   "cell_type": "markdown",
   "metadata": {},
   "source": [
    "# 3G/JUMP/Densmore"
   ]
  },
  {
   "cell_type": "code",
   "execution_count": null,
   "metadata": {},
   "outputs": [],
   "source": [
    "threeg_kit = \"https://www.addgene.org/1000000161/\"\n",
    "marionette_kit = \"https://www.addgene.org/1000000137/\"\n",
    "jump_plasmids = [\n",
    "    \"https://www.addgene.org/126956/\",\n",
    "    \"https://www.addgene.org/126959/\",\n",
    "    \"https://www.addgene.org/126960/\",\n",
    "    \"https://www.addgene.org/126961/\",\n",
    "    \"https://www.addgene.org/126962/\",\n",
    "    \"https://www.addgene.org/126963/\",\n",
    "    \"https://www.addgene.org/126964/\",\n",
    "    \"https://www.addgene.org/126965/\",\n",
    "    \"https://www.addgene.org/126966/\",\n",
    "    \"https://www.addgene.org/126967/\",\n",
    "    \"https://www.addgene.org/126973/\",\n",
    "    \"https://www.addgene.org/126974/\",\n",
    "    \"https://www.addgene.org/126975/\",\n",
    "    \"https://www.addgene.org/126976/\",\n",
    "    \"https://www.addgene.org/126991/\",\n",
    "    \"https://www.addgene.org/126996/\",\n",
    "    \"https://www.addgene.org/127015/\",\n",
    "    \"https://www.addgene.org/127047/\",\n",
    "    \"https://www.addgene.org/127051/\",\n",
    "    \"https://www.addgene.org/127025/\",\n",
    "    \"https://www.addgene.org/127000/\",\n",
    "    \"https://www.addgene.org/126983/\",\n",
    "]\n",
    "jump_plasmids = sorted(jump_plasmids)\n",
    "densmore_kit = \"https://www.addgene.org/1000000059/\"\n",
    "densmore_wells = [\n",
    "    \"A1\",\n",
    "    \"A5\",\n",
    "    \"A9\",\n",
    "    \"B1\",\n",
    "    \"B5\",\n",
    "    \"B9\",\n",
    "    \"C1\",\n",
    "    \"C5\",\n",
    "    \"C9\",\n",
    "    \"D1\",\n",
    "    \"D5\",\n",
    "    \"D6\",\n",
    "    \"D7\",\n",
    "    \"D8\",\n",
    "    \"D9\",\n",
    "    \"D10\",\n",
    "    \"D11\",\n",
    "    \"D12\",\n",
    "    \"E1\",\n",
    "    \"E2\",\n",
    "    \"E3\",\n",
    "    \"E4\",\n",
    "    \"E5\",\n",
    "    \"E6\",\n",
    "    \"E7\",\n",
    "]"
   ]
  },
  {
   "cell_type": "markdown",
   "metadata": {},
   "source": [
    "# Densmore renaming"
   ]
  },
  {
   "cell_type": "code",
   "execution_count": null,
   "metadata": {},
   "outputs": [],
   "source": [
    "for sheet in (strain_sheet, plasmid_sheet):\n",
    "    rows = sheet.get_all_records()\n",
    "    # sheet.unlink()\n",
    "    col_idx = list(rows[0].keys()).index(\"Aliases*\") + 1\n",
    "    for idx, row in enumerate(rows):\n",
    "        if base_url(densmore_kit) in row[\"Source*\"]:\n",
    "            new_aliases = re.sub(\n",
    "                r\"([^()]*)\\s\\(([^()]*)\\)([^()]*)\", r\"\\1\\3,\\2\\3\", row[\"Aliases*\"]\n",
    "            )\n",
    "            sheet.update_value((idx + 2, col_idx), new_aliases, parse=False)\n",
    "    # sheet.link() # TODO: this gives 500 error, not sure why"
   ]
  },
  {
   "cell_type": "markdown",
   "metadata": {},
   "source": [
    "# Ingest parts"
   ]
  },
  {
   "cell_type": "code",
   "execution_count": null,
   "metadata": {},
   "outputs": [],
   "source": [
    "rows = plasmid_sheet.get_all_records()"
   ]
  },
  {
   "cell_type": "code",
   "execution_count": null,
   "metadata": {},
   "outputs": [],
   "source": [
    "service = plasmid_sheet.client.drive.service"
   ]
  },
  {
   "cell_type": "code",
   "execution_count": null,
   "metadata": {},
   "outputs": [],
   "source": [
    "def import_threeg_part(plasmid):\n",
    "    part = plasmid_to_part(plasmid)\n",
    "    # MoClo golden gate assembly BC part for BCD24 (low expression bi-cistronic RBS, engineered for downstream context-independence; see https://doi.org/10.1038/nmeth.2404).\n",
    "    name = {\n",
    "        \"P18m\": \"pT7\",\n",
    "        \"P33m\": \"pMutalik_med\",\n",
    "        \"P34m\": \"pMutalik_weak\",\n",
    "        \"C31m\": \"Bxb1\",\n",
    "        \"C40m\": \"random_blank\",\n",
    "        \"C71m\": \"CinR-CIDDHYRTC\",\n",
    "        \"C95m\": \"T7_RNAP\",\n",
    "        \"C114m\": \"Cas9_recoded\",\n",
    "        \"UC16m\": \"gQi_gRNA_BD\",\n",
    "        \"UC17m\": \"gV1_gRNA_BD\",\n",
    "        \"UC20m\": \"gN2_gRNA_BD\",\n",
    "        \"UCT1m\": \"gQi_gRNA_BE\",\n",
    "    }.get(part[\"Name*\"])\n",
    "    if name is not None:\n",
    "        part[\"Name*\"] = name\n",
    "    else:\n",
    "        part[\"Name*\"] = re.search(\n",
    "            r\"(\\S+)(?: (?:RBS|terminator|integrase|fusion|protease))? \\(\",\n",
    "            plasmid[\"Description\"],\n",
    "        ).group(1)\n",
    "    return part\n",
    "\n",
    "\n",
    "def import_densmore_part(plasmid):\n",
    "    part = plasmid_to_part(plasmid)\n",
    "    # part[\"Name*\"]\n",
    "    return part\n",
    "\n",
    "\n",
    "def import_jump_part(plasmid):\n",
    "    part = plasmid_to_part(plasmid)\n",
    "    part[\"Name*\"] = re.sub(r\"^pJUMP\\d+-\", \"\", plasmid[\"Names\"])\n",
    "    return part\n",
    "\n",
    "\n",
    "# accept extra columns via overrides={\"Tags\": \"foo\"}\n",
    "# pass through tags from plasmid\n",
    "\n",
    "\n",
    "def plasmid_to_part(plasmid):\n",
    "    part = {}\n",
    "    part[\"Name*\"] = plasmid[\"Names\"].split(\",\")[-1]\n",
    "    part[\"Tags\"] = plasmid[\"Tags\"]\n",
    "    # part[\"Plasmid/Oligos (Cutter)*\"] = \"\"\n",
    "    # part[\"Author*\"] = \"\"\n",
    "    part[\"Date*\"] = datetime.now().strftime(\"%Y-%m-%d %H:%M:%S.%f\")\n",
    "    part[\"Upstream overhang*\"] = \"aaa\"\n",
    "    part[\"Downstream overhang*\"] = \"bbb\"\n",
    "    part[\"Sequence*\"] = \"aaaseqbbb\"\n",
    "    part[\"Organism/codon usage*\"] = \"\"\n",
    "    part[\"Description\"] = plasmid[\"Description\"]\n",
    "    return part\n",
    "\n",
    "\n",
    "part_rules = [\n",
    "    (\n",
    "        lambda x: (base_url(threeg_kit) in x[\"Source*\"]) and (x[\"Names\"][0] != \"V\"),\n",
    "        import_threeg_part,\n",
    "    ),\n",
    "    (lambda x: base_url(densmore_kit) in x[\"Source*\"], import_densmore_part),\n",
    "    (\n",
    "        lambda x: (any(base_url(j) in x[\"Source*\"] for j in jump_plasmids))\n",
    "        and (\"(Empty Backbone)\" not in x[\"Description\"]),\n",
    "        import_jump_part,\n",
    "    ),\n",
    "]"
   ]
  },
  {
   "cell_type": "code",
   "execution_count": null,
   "metadata": {},
   "outputs": [],
   "source": [
    "plasmid_folder = col[\"plasmid_maps\"]\n",
    "files_service = service.files()\n",
    "req = files_service.list(q=f\"'{plasmid_folder}' in parents\", pageSize=1000)\n",
    "files = []\n",
    "while req is not None:\n",
    "    doc = req.execute()\n",
    "    files.extend(doc.get(\"files\", []))\n",
    "    req = files_service.list_next(req, doc)"
   ]
  },
  {
   "cell_type": "code",
   "execution_count": null,
   "metadata": {},
   "outputs": [],
   "source": [
    "for row in rows:\n",
    "    for predicate, rule in part_rules:\n",
    "        if predicate(row):\n",
    "            print(row[\"Names\"], rule(row)[\"Name*\"])\n",
    "            break"
   ]
  },
  {
   "cell_type": "markdown",
   "metadata": {},
   "source": [
    "# Part cutting"
   ]
  },
  {
   "cell_type": "code",
   "execution_count": null,
   "metadata": {},
   "outputs": [],
   "source": [
    "api.google.filter_drive(files, {\"foo\": (re.compile(r\"pLIB1\\.\"), False)})"
   ]
  },
  {
   "cell_type": "code",
   "execution_count": null,
   "metadata": {},
   "outputs": [],
   "source": [
    "seq = workflow.get_sequence_by_name(service, \"pLIB1\", col[\"plasmid_maps\"])"
   ]
  },
  {
   "cell_type": "code",
   "execution_count": null,
   "metadata": {},
   "outputs": [],
   "source": [
    "seq"
   ]
  },
  {
   "cell_type": "code",
   "execution_count": null,
   "metadata": {},
   "outputs": [],
   "source": [
    "from Bio import Restriction"
   ]
  },
  {
   "cell_type": "code",
   "execution_count": null,
   "metadata": {},
   "outputs": [],
   "source": [
    "frags = Restriction.BsaI.catalyse(seq.seq, linear=False)"
   ]
  },
  {
   "cell_type": "code",
   "execution_count": null,
   "metadata": {},
   "outputs": [],
   "source": [
    "len(frags[0])"
   ]
  },
  {
   "cell_type": "code",
   "execution_count": null,
   "metadata": {},
   "outputs": [],
   "source": [
    "frags[1]"
   ]
  },
  {
   "cell_type": "code",
   "execution_count": null,
   "metadata": {},
   "outputs": [],
   "source": []
  }
 ],
 "metadata": {
  "kernelspec": {
   "display_name": "Python 3",
   "language": "python",
   "name": "python3"
  },
  "language_info": {
   "codemirror_mode": {
    "name": "ipython",
    "version": 3
   },
   "file_extension": ".py",
   "mimetype": "text/x-python",
   "name": "python",
   "nbconvert_exporter": "python",
   "pygments_lexer": "ipython3",
   "version": "3.8.3"
  }
 },
 "nbformat": 4,
 "nbformat_minor": 4
}
