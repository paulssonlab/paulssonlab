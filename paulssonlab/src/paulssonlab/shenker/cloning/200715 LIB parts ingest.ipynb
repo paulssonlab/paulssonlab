{
 "cells": [
  {
   "cell_type": "code",
   "execution_count": null,
   "metadata": {},
   "outputs": [],
   "source": [
    "import toml\n",
    "import re\n",
    "import urllib\n",
    "from datetime import datetime\n",
    "import pygsheets\n",
    "import benchlingapi\n",
    "import requests_html"
   ]
  },
  {
   "cell_type": "code",
   "execution_count": null,
   "metadata": {},
   "outputs": [],
   "source": [
    "%load_ext autoreload\n",
    "%autoreload 2"
   ]
  },
  {
   "cell_type": "code",
   "execution_count": null,
   "metadata": {},
   "outputs": [],
   "source": [
    "import paulssonlab.api as api\n",
    "from paulssonlab.api.util import base_url\n",
    "import paulssonlab.cloning.workflow as workflow"
   ]
  },
  {
   "cell_type": "markdown",
   "metadata": {},
   "source": [
    "# Setup"
   ]
  },
  {
   "cell_type": "code",
   "execution_count": null,
   "metadata": {},
   "outputs": [],
   "source": [
    "config = toml.load(\"config.toml\")"
   ]
  },
  {
   "cell_type": "code",
   "execution_count": null,
   "metadata": {},
   "outputs": [],
   "source": [
    "session = benchlingapi.Session(config[\"benchling\"][\"api_key\"])"
   ]
  },
  {
   "cell_type": "code",
   "execution_count": null,
   "metadata": {},
   "outputs": [],
   "source": [
    "gc = pygsheets.authorize(service_account_file=\"credentials.json\")"
   ]
  },
  {
   "cell_type": "code",
   "execution_count": null,
   "metadata": {},
   "outputs": [],
   "source": [
    "col = workflow.get_strain_collection_sheets(gc.drive.service, \"LIB\")\n",
    "col"
   ]
  },
  {
   "cell_type": "code",
   "execution_count": null,
   "metadata": {},
   "outputs": [],
   "source": [
    "strain_sheet = gc.open_by_key(col[\"strains\"]).worksheet()\n",
    "plasmid_sheet = gc.open_by_key(col[\"plasmids\"]).worksheet()"
   ]
  },
  {
   "cell_type": "markdown",
   "metadata": {},
   "source": [
    "# 3G/JUMP/Densmore"
   ]
  },
  {
   "cell_type": "code",
   "execution_count": null,
   "metadata": {},
   "outputs": [],
   "source": [
    "threeg_kit = \"https://www.addgene.org/1000000161/\"\n",
    "marionette_kit = \"https://www.addgene.org/1000000137/\"\n",
    "jump_plasmids = [\n",
    "    \"https://www.addgene.org/126956/\",\n",
    "    \"https://www.addgene.org/126959/\",\n",
    "    \"https://www.addgene.org/126960/\",\n",
    "    \"https://www.addgene.org/126961/\",\n",
    "    \"https://www.addgene.org/126962/\",\n",
    "    \"https://www.addgene.org/126963/\",\n",
    "    \"https://www.addgene.org/126964/\",\n",
    "    \"https://www.addgene.org/126965/\",\n",
    "    \"https://www.addgene.org/126966/\",\n",
    "    \"https://www.addgene.org/126967/\",\n",
    "    \"https://www.addgene.org/126973/\",\n",
    "    \"https://www.addgene.org/126974/\",\n",
    "    \"https://www.addgene.org/126975/\",\n",
    "    \"https://www.addgene.org/126976/\",\n",
    "    \"https://www.addgene.org/126991/\",\n",
    "    \"https://www.addgene.org/126996/\",\n",
    "    \"https://www.addgene.org/127015/\",\n",
    "    \"https://www.addgene.org/127047/\",\n",
    "    \"https://www.addgene.org/127051/\",\n",
    "    \"https://www.addgene.org/127025/\",\n",
    "    \"https://www.addgene.org/127000/\",\n",
    "    \"https://www.addgene.org/126983/\",\n",
    "]\n",
    "jump_plasmids = sorted(jump_plasmids)\n",
    "densmore_kit = \"https://www.addgene.org/1000000059/\"\n",
    "densmore_wells = [\n",
    "    \"A1\",\n",
    "    \"A5\",\n",
    "    \"A9\",\n",
    "    \"B1\",\n",
    "    \"B5\",\n",
    "    \"B9\",\n",
    "    \"C1\",\n",
    "    \"C5\",\n",
    "    \"C9\",\n",
    "    \"D1\",\n",
    "    \"D5\",\n",
    "    \"D6\",\n",
    "    \"D7\",\n",
    "    \"D8\",\n",
    "    \"D9\",\n",
    "    \"D10\",\n",
    "    \"D11\",\n",
    "    \"D12\",\n",
    "    \"E1\",\n",
    "    \"E2\",\n",
    "    \"E3\",\n",
    "    \"E4\",\n",
    "    \"E5\",\n",
    "    \"E6\",\n",
    "    \"E7\",\n",
    "]"
   ]
  },
  {
   "cell_type": "markdown",
   "metadata": {},
   "source": [
    "# Densmore renaming"
   ]
  },
  {
   "cell_type": "code",
   "execution_count": null,
   "metadata": {},
   "outputs": [],
   "source": [
    "for sheet in (strain_sheet, plasmid_sheet):\n",
    "    rows = sheet.get_all_records()\n",
    "    # sheet.unlink()\n",
    "    col_idx = list(rows[0].keys()).index(\"Aliases*\") + 1\n",
    "    for idx, row in enumerate(rows):\n",
    "        if base_url(densmore_kit) in row[\"Source*\"]:\n",
    "            new_aliases = re.sub(\n",
    "                r\"([^()]*)\\s\\(([^()]*)\\)([^()]*)\", r\"\\1\\3,\\2\\3\", row[\"Aliases*\"]\n",
    "            )\n",
    "            sheet.update_value((idx + 2, col_idx), new_aliases, parse=False)\n",
    "    # sheet.link() # TODO: this gives 500 error, not sure why"
   ]
  },
  {
   "cell_type": "markdown",
   "metadata": {},
   "source": [
    "# Ingest parts"
   ]
  },
  {
   "cell_type": "code",
   "execution_count": null,
   "metadata": {},
   "outputs": [],
   "source": [
    "rows = plasmid_sheet.get_all_records()"
   ]
  },
  {
   "cell_type": "code",
   "execution_count": null,
   "metadata": {},
   "outputs": [],
   "source": [
    "service = plasmid_sheet.client.drive.service"
   ]
  },
  {
   "cell_type": "code",
   "execution_count": null,
   "metadata": {},
   "outputs": [],
   "source": [
    "def import_threeg_part(plasmid, seq_file):\n",
    "    part = plasmid_to_part(plasmid)\n",
    "    # MoClo golden gate assembly BC part for BCD24 (low expression bi-cistronic RBS, engineered for downstream context-independence; see https://doi.org/10.1038/nmeth.2404).\n",
    "    name = {\n",
    "        \"P18m\": \"pT7\",\n",
    "        \"P33m\": \"pMutalik_med\",\n",
    "        \"P34m\": \"pMutalik_weak\",\n",
    "        \"C31m\": \"Bxb1\",\n",
    "        \"C40m\": \"random_blank\",\n",
    "        \"C71m\": \"CinR-CIDDHYRTC\",\n",
    "        \"C95m\": \"T7_RNAP\",\n",
    "        \"C114m\": \"Cas9_recoded\",\n",
    "        \"UC16m\": \"gQi_gRNA_BD\",\n",
    "        \"UC17m\": \"gV1_gRNA_BD\",\n",
    "        \"UC20m\": \"gN2_gRNA_BD\",\n",
    "        \"UCT1m\": \"gQi_gRNA_BE\",\n",
    "    }.get(part[\"Name*\"])\n",
    "    if name is not None:\n",
    "        part[\"Name*\"] = name\n",
    "    else:\n",
    "        part[\"Name*\"] = re.search(\n",
    "            r\"(\\S+)(?: (?:RBS|terminator|integrase|fusion|protease))? \\(\",\n",
    "            plasmid[\"Description\"],\n",
    "        ).group(1)\n",
    "    return part\n",
    "\n",
    "\n",
    "def import_densmore_part(plasmid, seq_file):\n",
    "    part = plasmid_to_part(plasmid)\n",
    "    # part[\"Name*\"]\n",
    "    return part\n",
    "\n",
    "\n",
    "def import_jump_part(plasmid, seq_file):\n",
    "    part = plasmid_to_part(plasmid)\n",
    "    part[\"Name*\"] = re.sub(r\"^pJUMP\\d+-\", \"\", plasmid[\"Names\"])\n",
    "    return part\n",
    "\n",
    "\n",
    "# accept extra columns via overrides={\"Tags\": \"foo\"}\n",
    "# pass through tags from plasmid\n",
    "\n",
    "\n",
    "def plasmid_to_part(plasmid):\n",
    "    part = {}\n",
    "    part[\"Name*\"] = plasmid[\"Names\"].split(\",\")[-1]\n",
    "    part[\"Tags\"] = plasmid[\"Tags\"]\n",
    "    # part[\"Plasmid/Oligos (Cutter)*\"] = \"\"\n",
    "    # part[\"Author*\"] = \"\"\n",
    "    part[\"Date*\"] = datetime.now().strftime(\"%Y-%m-%d %H:%M:%S.%f\")\n",
    "    part[\"Upstream overhang*\"] = \"aaa\"\n",
    "    part[\"Downstream overhang*\"] = \"bbb\"\n",
    "    part[\"Sequence*\"] = \"aaaseqbbb\"\n",
    "    part[\"Organism/codon usage*\"] = \"\"\n",
    "    part[\"Description\"] = plasmid[\"Description\"]\n",
    "    return part\n",
    "\n",
    "\n",
    "part_rules = [\n",
    "    (\n",
    "        lambda x: (base_url(threeg_kit) in x[\"Source*\"]) and (x[\"Names\"][0] != \"V\"),\n",
    "        import_threeg_part,\n",
    "    ),\n",
    "    (lambda x: base_url(densmore_kit) in x[\"Source*\"], import_densmore_part),\n",
    "    (\n",
    "        lambda x: (any(base_url(j) in x[\"Source*\"] for j in jump_plasmids))\n",
    "        and (\"(Empty Backbone)\" not in x[\"Description\"]),\n",
    "        import_jump_part,\n",
    "    ),\n",
    "]"
   ]
  },
  {
   "cell_type": "code",
   "execution_count": null,
   "metadata": {},
   "outputs": [],
   "source": [
    "plasmid_folder = col[\"plasmid_maps\"]\n",
    "plasmid_maps = api.google.list_drive(service, root=plasmid_folder)"
   ]
  },
  {
   "cell_type": "code",
   "execution_count": null,
   "metadata": {},
   "outputs": [],
   "source": [
    "rows[0]"
   ]
  },
  {
   "cell_type": "code",
   "execution_count": null,
   "metadata": {},
   "outputs": [],
   "source": [
    "for row in rows:\n",
    "    for predicate, rule in part_rules:\n",
    "        if predicate(row):\n",
    "            seq_file = api.util.regex_key(\n",
    "                plasmid_maps, row[\"ID*\"], check_duplicates=True\n",
    "            )[\"id\"]\n",
    "            part = rule(row, seq_file)\n",
    "            print(row[\"Names\"], part[\"Name*\"])\n",
    "            break"
   ]
  },
  {
   "cell_type": "markdown",
   "metadata": {},
   "source": [
    "# Part cutting"
   ]
  },
  {
   "cell_type": "code",
   "execution_count": null,
   "metadata": {},
   "outputs": [],
   "source": [
    "seq = api.read_sequence(\n",
    "    service.files()\n",
    "    .get_media(\n",
    "        fileId=api.util.regex_key(plasmid_maps, r\"pLIB1\\.\", check_duplicates=True)[\"id\"]\n",
    "    )\n",
    "    .execute()\n",
    "    .decode(\"utf8\")\n",
    ")"
   ]
  },
  {
   "cell_type": "code",
   "execution_count": null,
   "metadata": {},
   "outputs": [],
   "source": [
    "seq"
   ]
  },
  {
   "cell_type": "code",
   "execution_count": null,
   "metadata": {},
   "outputs": [],
   "source": [
    "from Bio import Restriction"
   ]
  },
  {
   "cell_type": "code",
   "execution_count": null,
   "metadata": {},
   "outputs": [],
   "source": [
    "seq.seq.reverse_complement()"
   ]
  },
  {
   "cell_type": "code",
   "execution_count": null,
   "metadata": {},
   "outputs": [],
   "source": [
    "f.location._start._shift??"
   ]
  },
  {
   "cell_type": "code",
   "execution_count": null,
   "metadata": {},
   "outputs": [],
   "source": [
    "f.location._shift??"
   ]
  },
  {
   "cell_type": "code",
   "execution_count": null,
   "metadata": {},
   "outputs": [],
   "source": [
    "seq[10:15]"
   ]
  },
  {
   "cell_type": "code",
   "execution_count": null,
   "metadata": {},
   "outputs": [],
   "source": [
    "seq[10:20]"
   ]
  },
  {
   "cell_type": "code",
   "execution_count": null,
   "metadata": {},
   "outputs": [],
   "source": [
    "seq[10:15] + seq[15:20]"
   ]
  },
  {
   "cell_type": "code",
   "execution_count": null,
   "metadata": {},
   "outputs": [],
   "source": [
    "seq[10:20].features"
   ]
  },
  {
   "cell_type": "code",
   "execution_count": null,
   "metadata": {},
   "outputs": [],
   "source": [
    "(seq[10:15] + seq[15:20]).features"
   ]
  },
  {
   "cell_type": "code",
   "execution_count": null,
   "metadata": {},
   "outputs": [],
   "source": [
    "seq.features[0].location"
   ]
  },
  {
   "cell_type": "code",
   "execution_count": null,
   "metadata": {},
   "outputs": [],
   "source": [
    "Bio.SeqFeature.SeqFeature"
   ]
  },
  {
   "cell_type": "code",
   "execution_count": null,
   "metadata": {},
   "outputs": [],
   "source": [
    "seq.features"
   ]
  },
  {
   "cell_type": "code",
   "execution_count": null,
   "metadata": {},
   "outputs": [],
   "source": [
    "from Bio.SeqFeature import SeqFeature, FeatureLocation, ExactPosition"
   ]
  },
  {
   "cell_type": "code",
   "execution_count": null,
   "metadata": {},
   "outputs": [],
   "source": [
    "test_f = SeqFeature(FeatureLocation(0, 5, strand=1), type=\"foo\")\n",
    "test_f2 = SeqFeature(\n",
    "    FeatureLocation(ExactPosition(3), ExactPosition(1), strand=1), type=\"foo2\"\n",
    ")"
   ]
  },
  {
   "cell_type": "code",
   "execution_count": null,
   "metadata": {},
   "outputs": [],
   "source": [
    "test_f"
   ]
  },
  {
   "cell_type": "code",
   "execution_count": null,
   "metadata": {},
   "outputs": [],
   "source": [
    "def _move_feature(feature, start, end):\n",
    "    return SeqFeature(\n",
    "        FeatureLocation(\n",
    "            ExactPosition(start),\n",
    "            ExactPosition(end),\n",
    "            strand=feature.location.strand,\n",
    "        ),\n",
    "        type=feature.type,\n",
    "        id=feature.id,\n",
    "        qualifiers=feature.qualifiers,\n",
    "    )\n",
    "\n",
    "\n",
    "def slice_feature(feature, start, end):\n",
    "    f_start = feature.location.nofuzzy_start\n",
    "    f_end = feature.location.nofuzzy_end\n",
    "    endpoints = sorted([f_start, f_end, start, end])\n",
    "    # TODO: check equality\n",
    "    if ((f_end - f_start) >= 0) == ((end - start) >= 0):\n",
    "        es = (endpoints[1:3],)\n",
    "    else:\n",
    "        es = (endpoints[:2], endpoints[2:])\n",
    "    return [_move_feature(feature, e1, e2) for e1, e2 in es if e1 < e2]\n",
    "\n",
    "\n",
    "slice_feature(test_f, -2, 3)"
   ]
  },
  {
   "cell_type": "code",
   "execution_count": null,
   "metadata": {},
   "outputs": [],
   "source": [
    "import Bio\n",
    "\n",
    "\n",
    "def slice_seq(seq, start, end):\n",
    "    if start is None:\n",
    "        start = 0\n",
    "    if end is None:\n",
    "        end = len(seq)\n",
    "    # TODO: handle circular slices\n",
    "    if end < start:\n",
    "        slice1 = slice_seq(seq, start, None)\n",
    "        slice2 = slice_seq(seq, None, end)\n",
    "        new_seq = slice1 + slice2\n",
    "        # copy letter annotations\n",
    "    else:\n",
    "        new_seq = seq[start:end]\n",
    "        if hasattr(seq, \"features\"):\n",
    "            features = []\n",
    "            for feature in seq.features:\n",
    "                if (\n",
    "                    end <= feature.location.nofuzzy_start\n",
    "                    or start >= feature.location.nofuzzy_end\n",
    "                ):\n",
    "                    continue\n",
    "                new_feature = feature._shift(-start)\n",
    "                start_loc = new_feature.location.start\n",
    "                end_loc = new_feature.location.end\n",
    "                if start > feature.location.nofuzzy_start:\n",
    "                    start_loc = ExactPosition(0)\n",
    "                if end < feature.location.nofuzzy_end:\n",
    "                    end_loc = ExactPosition(end - start)\n",
    "                new_feature.location = FeatureLocation(\n",
    "                    start_loc, end_loc, strand=new_feature.location.strand\n",
    "                )\n",
    "                features.append(new_feature)\n",
    "            new_seq.features = features\n",
    "    return new_seq"
   ]
  },
  {
   "cell_type": "code",
   "execution_count": null,
   "metadata": {},
   "outputs": [],
   "source": [
    "cuts = sorted(Restriction.BsaI.search(seq.seq, linear=False))\n",
    "cuts = cuts + cuts[:1]"
   ]
  },
  {
   "cell_type": "code",
   "execution_count": null,
   "metadata": {},
   "outputs": [],
   "source": [
    "fragments = [slice_seq(seq, x1 - 1, x2 - 1) for x1, x2 in zip(cuts[:-1], cuts[1:])]"
   ]
  },
  {
   "cell_type": "code",
   "execution_count": null,
   "metadata": {},
   "outputs": [],
   "source": [
    "# include overhangs"
   ]
  },
  {
   "cell_type": "code",
   "execution_count": null,
   "metadata": {},
   "outputs": [],
   "source": [
    "Restriction.BsaI.characteristic?"
   ]
  },
  {
   "cell_type": "code",
   "execution_count": null,
   "metadata": {},
   "outputs": [],
   "source": [
    "Restriction.BsaI.fst5"
   ]
  },
  {
   "cell_type": "code",
   "execution_count": null,
   "metadata": {},
   "outputs": [],
   "source": [
    "Restriction.BsaI.elucidate??"
   ]
  },
  {
   "cell_type": "code",
   "execution_count": null,
   "metadata": {},
   "outputs": [],
   "source": [
    "Restriction.BsaI._search??"
   ]
  },
  {
   "cell_type": "code",
   "execution_count": null,
   "metadata": {},
   "outputs": [],
   "source": [
    "Restriction.BsaI.elucidate()"
   ]
  },
  {
   "cell_type": "code",
   "execution_count": null,
   "metadata": {},
   "outputs": [],
   "source": [
    "Restriction.BsaI.charac"
   ]
  },
  {
   "cell_type": "code",
   "execution_count": null,
   "metadata": {},
   "outputs": [],
   "source": [
    "fragments[0]"
   ]
  },
  {
   "cell_type": "code",
   "execution_count": null,
   "metadata": {},
   "outputs": [],
   "source": [
    "len(seq)"
   ]
  },
  {
   "cell_type": "code",
   "execution_count": null,
   "metadata": {},
   "outputs": [],
   "source": [
    "seq"
   ]
  },
  {
   "cell_type": "code",
   "execution_count": null,
   "metadata": {},
   "outputs": [],
   "source": [
    "slice_seq(seq, 2100, 5).features"
   ]
  },
  {
   "cell_type": "code",
   "execution_count": null,
   "metadata": {},
   "outputs": [],
   "source": [
    "seq[40:80].features"
   ]
  },
  {
   "cell_type": "code",
   "execution_count": null,
   "metadata": {},
   "outputs": [],
   "source": [
    "f = seq.features[1]"
   ]
  },
  {
   "cell_type": "code",
   "execution_count": null,
   "metadata": {},
   "outputs": [],
   "source": [
    "f.location.nofuzzy_start"
   ]
  },
  {
   "cell_type": "code",
   "execution_count": null,
   "metadata": {},
   "outputs": [],
   "source": [
    "seq.features"
   ]
  },
  {
   "cell_type": "code",
   "execution_count": null,
   "metadata": {},
   "outputs": [],
   "source": [
    "seq[1:80].features"
   ]
  },
  {
   "cell_type": "code",
   "execution_count": null,
   "metadata": {},
   "outputs": [],
   "source": [
    "def catalyse(d, r, linear=True):\n",
    "    \"\"\"List the sequence fragments after cutting dna with enzyme.\n",
    "\n",
    "    Return a tuple of dna as will be produced by using RE to restrict the\n",
    "    dna.\n",
    "\n",
    "    dna must be a Bio.Seq.Seq instance or a Bio.Seq.MutableSeq instance.\n",
    "\n",
    "    If linear is False, the sequence is considered to be circular and the\n",
    "    output will be modified accordingly.\n",
    "    \"\"\"\n",
    "    if not r:\n",
    "        return (d[1:],)\n",
    "    length = len(r) - 1\n",
    "    fragments = []\n",
    "    if linear:\n",
    "        #\n",
    "        #   START of the sequence to FIRST site.\n",
    "        #\n",
    "        fragments.append(d[1 : r[0]])\n",
    "        if length:\n",
    "            #\n",
    "            #   if more than one site add them.\n",
    "            #\n",
    "            fragments += [d[r[x] : r[x + 1]] for x in range(length)]\n",
    "        #\n",
    "        #   LAST site to END of the sequence.\n",
    "        #\n",
    "        fragments.append(d[r[-1] :])\n",
    "    else:\n",
    "        #\n",
    "        #   circular : bridge LAST site to FIRST site.\n",
    "        #\n",
    "        fragments.append(d[r[-1] :] + d[1 : r[0]])\n",
    "        if not length:\n",
    "            #\n",
    "            #   one site we finish here.\n",
    "            #\n",
    "            return tuple(fragments)\n",
    "        #\n",
    "        #   add the others.\n",
    "        #\n",
    "        fragments += [d[r[x] : r[x + 1]] for x in range(length)]\n",
    "    return tuple(fragments)"
   ]
  },
  {
   "cell_type": "code",
   "execution_count": null,
   "metadata": {},
   "outputs": [],
   "source": [
    "seq.seq[0:4]"
   ]
  },
  {
   "cell_type": "code",
   "execution_count": null,
   "metadata": {},
   "outputs": [],
   "source": [
    "Restriction.BsaI.search(seq.seq, linear=False)"
   ]
  },
  {
   "cell_type": "code",
   "execution_count": null,
   "metadata": {},
   "outputs": [],
   "source": [
    "catalyse(seq.seq, [0, 10], linear=False)"
   ]
  },
  {
   "cell_type": "code",
   "execution_count": null,
   "metadata": {},
   "outputs": [],
   "source": [
    "catalyse(seq.seq, sorted(Restriction.BsaI.search(seq.seq, linear=False)))"
   ]
  },
  {
   "cell_type": "code",
   "execution_count": null,
   "metadata": {},
   "outputs": [],
   "source": [
    "Restriction.BsaI.catalyze??"
   ]
  },
  {
   "cell_type": "code",
   "execution_count": null,
   "metadata": {},
   "outputs": [],
   "source": [
    "Restriction.FormattedSeq(seq.seq)"
   ]
  },
  {
   "cell_type": "code",
   "execution_count": null,
   "metadata": {},
   "outputs": [],
   "source": [
    "Restriction.BsaI.catalyze(Restriction.FormattedSeq(seq.seq, linear=False), linear=False)"
   ]
  },
  {
   "cell_type": "code",
   "execution_count": null,
   "metadata": {},
   "outputs": [],
   "source": [
    "Restriction.BsaI.catalyze(seq.seq.reverse_complement(), linear=False)"
   ]
  },
  {
   "cell_type": "code",
   "execution_count": null,
   "metadata": {},
   "outputs": [],
   "source": [
    "Restriction.BsaI.catalyze(seq.seq, linear=True)"
   ]
  },
  {
   "cell_type": "code",
   "execution_count": null,
   "metadata": {},
   "outputs": [],
   "source": [
    "frags = Restriction.BsaI.catalyze(seq.seq, linear=False)"
   ]
  },
  {
   "cell_type": "code",
   "execution_count": null,
   "metadata": {},
   "outputs": [],
   "source": [
    "len(frags[0])"
   ]
  },
  {
   "cell_type": "code",
   "execution_count": null,
   "metadata": {},
   "outputs": [],
   "source": [
    "frags[1]"
   ]
  },
  {
   "cell_type": "code",
   "execution_count": null,
   "metadata": {},
   "outputs": [],
   "source": []
  }
 ],
 "metadata": {
  "kernelspec": {
   "display_name": "Python 3",
   "language": "python",
   "name": "python3"
  },
  "language_info": {
   "codemirror_mode": {
    "name": "ipython",
    "version": 3
   },
   "file_extension": ".py",
   "mimetype": "text/x-python",
   "name": "python",
   "nbconvert_exporter": "python",
   "pygments_lexer": "ipython3",
   "version": "3.8.3"
  }
 },
 "nbformat": 4,
 "nbformat_minor": 4
}
