{
 "cells": [
  {
   "cell_type": "code",
   "execution_count": null,
   "id": "0",
   "metadata": {},
   "outputs": [],
   "source": [
    "import re\n",
    "import string\n",
    "import urllib\n",
    "from datetime import datetime\n",
    "\n",
    "import benchlingapi\n",
    "import Bio.Restriction as Restriction\n",
    "import holoviews as hv\n",
    "import hvplot.pandas\n",
    "import matplotlib.pyplot as plt\n",
    "import pandas as pd\n",
    "import pygsheets\n",
    "import seaborn as sns\n",
    "import toml\n",
    "from Bio.Seq import Seq\n",
    "from tqdm.auto import tqdm"
   ]
  },
  {
   "cell_type": "code",
   "execution_count": null,
   "id": "1",
   "metadata": {},
   "outputs": [],
   "source": [
    "%load_ext autoreload\n",
    "%autoreload 2"
   ]
  },
  {
   "cell_type": "code",
   "execution_count": null,
   "id": "2",
   "metadata": {},
   "outputs": [],
   "source": [
    "import paulssonlab.api as api\n",
    "import paulssonlab.cloning.golden_gate as golden_gate\n",
    "import paulssonlab.cloning.sequence as sequence\n",
    "import paulssonlab.cloning.util as cloning_util\n",
    "import paulssonlab.cloning.workflow as workflow\n",
    "from paulssonlab.api.util import base_url"
   ]
  },
  {
   "cell_type": "code",
   "execution_count": null,
   "id": "3",
   "metadata": {},
   "outputs": [],
   "source": [
    "hv.extension(\"bokeh\")"
   ]
  },
  {
   "cell_type": "markdown",
   "id": "4",
   "metadata": {},
   "source": [
    "# Setup"
   ]
  },
  {
   "cell_type": "code",
   "execution_count": null,
   "id": "5",
   "metadata": {},
   "outputs": [],
   "source": [
    "config = toml.load(\"config.toml\")"
   ]
  },
  {
   "cell_type": "code",
   "execution_count": null,
   "id": "6",
   "metadata": {},
   "outputs": [],
   "source": [
    "session = benchlingapi.Session(config[\"benchling\"][\"api_key\"])"
   ]
  },
  {
   "cell_type": "code",
   "execution_count": null,
   "id": "7",
   "metadata": {},
   "outputs": [],
   "source": [
    "gc = pygsheets.authorize(service_account_file=\"credentials.json\")"
   ]
  },
  {
   "cell_type": "code",
   "execution_count": null,
   "id": "8",
   "metadata": {},
   "outputs": [],
   "source": [
    "col = workflow.get_strain_collection_sheets(gc.drive.service, \"LIB\")\n",
    "col"
   ]
  },
  {
   "cell_type": "code",
   "execution_count": null,
   "id": "9",
   "metadata": {},
   "outputs": [],
   "source": [
    "strain_sheet = gc.open_by_key(col[\"strains\"]).worksheet()\n",
    "plasmid_sheet = gc.open_by_key(col[\"plasmids\"]).worksheet()\n",
    "part_sheet = gc.open_by_key(col[\"parts\"]).worksheet()\n",
    "oligo_sheet = gc.open_by_key(col[\"oligos\"]).worksheet()"
   ]
  },
  {
   "cell_type": "code",
   "execution_count": null,
   "id": "10",
   "metadata": {},
   "outputs": [],
   "source": [
    "drive_service = plasmid_sheet.client.drive.service\n",
    "plasmid_folder = col[\"plasmid_maps\"]\n",
    "plasmid_maps = api.google.list_drive(drive_service, root=plasmid_folder)"
   ]
  },
  {
   "cell_type": "markdown",
   "id": "11",
   "metadata": {},
   "source": [
    "# UNS parts"
   ]
  },
  {
   "cell_type": "code",
   "execution_count": null,
   "id": "12",
   "metadata": {},
   "outputs": [],
   "source": [
    "oligos = oligo_sheet.get_as_df()"
   ]
  },
  {
   "cell_type": "code",
   "execution_count": null,
   "id": "13",
   "metadata": {},
   "outputs": [],
   "source": [
    "oligos.columns"
   ]
  },
  {
   "cell_type": "code",
   "execution_count": null,
   "id": "14",
   "metadata": {},
   "outputs": [],
   "source": [
    "part_sequences_sheet = gc.open_by_key(col[\"parts\"]).worksheet_by_title(\"Sequences\")"
   ]
  },
  {
   "cell_type": "code",
   "execution_count": null,
   "id": "15",
   "metadata": {},
   "outputs": [],
   "source": [
    "part_sequences = part_sequences_sheet.get_as_df()"
   ]
  },
  {
   "cell_type": "markdown",
   "id": "16",
   "metadata": {},
   "source": [
    "## UNS sequences"
   ]
  },
  {
   "cell_type": "code",
   "execution_count": null,
   "id": "17",
   "metadata": {},
   "outputs": [],
   "source": [
    "uns_df = part_sequences[[\"Name*\", \"Sequence*\"]]\n",
    "uns_df = uns_df[uns_df[\"Name*\"].str.startswith(\"UNS\")]"
   ]
  },
  {
   "cell_type": "code",
   "execution_count": null,
   "id": "18",
   "metadata": {},
   "outputs": [],
   "source": [
    "uns_seqs = {}\n",
    "for idx in range(len(uns_df)):\n",
    "    uns_seqs[uns_df.iloc[idx][\"Name*\"]] = uns_df.iloc[idx][\"Sequence*\"]"
   ]
  },
  {
   "cell_type": "markdown",
   "id": "19",
   "metadata": {},
   "source": [
    "## Check forward UNSes"
   ]
  },
  {
   "cell_type": "code",
   "execution_count": null,
   "id": "20",
   "metadata": {},
   "outputs": [],
   "source": [
    "uns_tops = oligos[\n",
    "    oligos[\"Name\"].str.startswith(\"UNS\")\n",
    "    & oligos[\"Name\"].str.contains(\"Top\")\n",
    "    & ~oligos[\"Name\"].str.contains(\"_r_\")\n",
    "]"
   ]
  },
  {
   "cell_type": "code",
   "execution_count": null,
   "id": "21",
   "metadata": {},
   "outputs": [],
   "source": [
    "uns_bottoms = oligos[\n",
    "    oligos[\"Name\"].str.startswith(\"UNS\")\n",
    "    & oligos[\"Name\"].str.contains(\"Bottom\")\n",
    "    & ~oligos[\"Name\"].str.contains(\"_r_\")\n",
    "]"
   ]
  },
  {
   "cell_type": "code",
   "execution_count": null,
   "id": "22",
   "metadata": {},
   "outputs": [],
   "source": [
    "re_sites = (\n",
    "    {}\n",
    ")  # record the RE binding site sequences added to the 40bp UNSes to make them GG parts\n",
    "for idx in range(len(uns_tops)):\n",
    "    top = uns_tops.iloc[idx]\n",
    "    bottom = uns_bottoms.iloc[idx]\n",
    "    assert Seq(top[\"Sequence*\"]).reverse_complement() == Seq(bottom[\"Sequence*\"])\n",
    "    uns_num, part_type = top[\"Name\"].split()[0].split(\"_\")\n",
    "    if part_type == \"A\":\n",
    "        assert top[\"Sequence*\"].startswith(uns_seqs[uns_num])\n",
    "        re_site = top[\"Sequence*\"][len(uns_seqs[uns_num]) :]\n",
    "    elif part_type == \"E\":\n",
    "        assert top[\"Sequence*\"].endswith(uns_seqs[uns_num])\n",
    "        re_site = top[\"Sequence*\"][: -len(uns_seqs[uns_num])]\n",
    "    else:\n",
    "        raise ValueError\n",
    "    if part_type in re_sites:\n",
    "        assert re_site == re_sites[part_type]\n",
    "    else:\n",
    "        re_sites[part_type] = re_site"
   ]
  },
  {
   "cell_type": "markdown",
   "id": "23",
   "metadata": {},
   "source": [
    "## Create reversed UNSes"
   ]
  },
  {
   "cell_type": "code",
   "execution_count": null,
   "id": "24",
   "metadata": {},
   "outputs": [],
   "source": [
    "reversed_unses = []\n",
    "for uns_num in [1, *range(3, 11)]:\n",
    "    for part_type in (\"A\", \"E\"):\n",
    "        if (uns_num, part_type) in [(1, \"A\"), (10, \"E\")]:\n",
    "            continue\n",
    "        reversed_unses.append((f\"UNS{uns_num}\", part_type))"
   ]
  },
  {
   "cell_type": "code",
   "execution_count": null,
   "id": "25",
   "metadata": {},
   "outputs": [],
   "source": [
    "for uns_num, part_type in reversed_unses:\n",
    "    name = f\"{uns_num}_r_{part_type}\"\n",
    "    print(f\"{name} Top\")\n",
    "    print(f\"{name} Bottom\")"
   ]
  },
  {
   "cell_type": "code",
   "execution_count": null,
   "id": "26",
   "metadata": {},
   "outputs": [],
   "source": [
    "for uns_num, part_type in reversed_unses:\n",
    "    uns_seq = uns_seqs[uns_num]\n",
    "    uns_seq = str(Seq(uns_seq).reverse_complement())\n",
    "    if part_type == \"A\":\n",
    "        seq = uns_seq + re_sites[part_type]\n",
    "    elif part_type == \"E\":\n",
    "        seq = re_sites[part_type] + uns_seq\n",
    "    else:\n",
    "        raise ValueError\n",
    "    print(seq)\n",
    "    print(Seq(seq).reverse_complement())"
   ]
  },
  {
   "cell_type": "markdown",
   "id": "27",
   "metadata": {},
   "source": [
    "## Add UNSes to LIB_parts"
   ]
  },
  {
   "cell_type": "code",
   "execution_count": null,
   "id": "28",
   "metadata": {},
   "outputs": [],
   "source": [
    "first_row = 141  # workflow.get_next_empty_row(part_sheet)\n",
    "enzyme = Restriction.BsaI"
   ]
  },
  {
   "cell_type": "code",
   "execution_count": null,
   "id": "29",
   "metadata": {},
   "outputs": [],
   "source": [
    "uns_tops = oligos[\n",
    "    oligos[\"Name\"].str.startswith(\"UNS\") & oligos[\"Name\"].str.contains(\"Top\")\n",
    "]\n",
    "uns_bottoms = oligos[\n",
    "    oligos[\"Name\"].str.startswith(\"UNS\") & oligos[\"Name\"].str.contains(\"Bottom\")\n",
    "]"
   ]
  },
  {
   "cell_type": "code",
   "execution_count": null,
   "id": "30",
   "metadata": {},
   "outputs": [],
   "source": [
    "def _format_seq(seq):\n",
    "    return str(seq).lower()\n",
    "\n",
    "\n",
    "def get_bottom_oligo(seq, bottoms):\n",
    "    matching = bottoms[bottoms[\"Sequence*\"] == Seq(seq).reverse_complement()]\n",
    "    num_matching = len(matching)\n",
    "    if num_matching != 1:\n",
    "        raise ValueError(\n",
    "            f\"expected one reverse-compliment, instead found {num_matching}\"\n",
    "        )\n",
    "    x = matching[\"ID*\"].iloc[0]\n",
    "    return x\n",
    "\n",
    "\n",
    "parts = []\n",
    "for idx in uns_tops.index:\n",
    "    name = uns_tops.loc[idx, \"Name\"].replace(\" Top\", \"\")\n",
    "    full_seq = uns_tops.loc[idx, \"Sequence*\"]\n",
    "    subseqs = golden_gate.re_digest(full_seq, enzyme, linear=True)\n",
    "    print(name, subseqs)\n",
    "    seq, overhang1, overhang2 = subseqs[0]\n",
    "    part = {}\n",
    "    part[\"Name*\"] = name\n",
    "    part[\"Tags\"] = \"golden-gate 3g\"\n",
    "    top_oligo = uns_tops.loc[idx, \"ID*\"]\n",
    "    bottom_oligo = get_bottom_oligo(full_seq, uns_bottoms)\n",
    "    part[\"Plasmid/Oligos (Cutter)*\"] = f\"{top_oligo}={bottom_oligo}/{enzyme.__name__}\"\n",
    "    part[\"Author*\"] = \"Richard Murray lab\"\n",
    "    part[\"Date*\"] = datetime.now().strftime(\"%Y-%m-%d %H:%M:%S\")\n",
    "    part[\"Upstream overhang*\"] = _format_seq(overhang1[0])\n",
    "    part[\"Downstream overhang*\"] = _format_seq(overhang2[0])\n",
    "    part[\"Sequence*\"] = _format_seq(overhang1[0] + sequence.get_seq(seq) + overhang2[0])\n",
    "    part[\"Organism/codon usage*\"] = \"E. coli\"\n",
    "    uns_num, part_type = name[:-2], name[-1:]\n",
    "    if part_type == \"A\":\n",
    "        type_description = \"Upstream (A-type)\"\n",
    "    elif part_type == \"E\":\n",
    "        type_description = \"Downstream (E-type)\"\n",
    "    else:\n",
    "        raise ValueError\n",
    "    if uns_num.endswith(\"_r\"):\n",
    "        homology_description = f\"reversed homology sequence {uns_num[:-2]}\"\n",
    "    else:\n",
    "        homology_description = f\"homology sequence {uns_num}\"\n",
    "    description = (\n",
    "        f\"{type_description} homology part for 3G/Gibson with {homology_description}\"\n",
    "    )\n",
    "    part[\"Description\"] = description\n",
    "    part[\n",
    "        \"Reference\"\n",
    "    ] = \"Halleran, A. D., Swaminathan, A., & Murray, R. M. (2018). Single day construction of multigene circuits with 3G assembly. ACS synthetic biology, 7(5), 1477-1480.\"\n",
    "    parts.append(part)"
   ]
  },
  {
   "cell_type": "code",
   "execution_count": null,
   "id": "31",
   "metadata": {},
   "outputs": [],
   "source": [
    "parts[-2]"
   ]
  },
  {
   "cell_type": "code",
   "execution_count": null,
   "id": "32",
   "metadata": {},
   "outputs": [],
   "source": [
    "workflow.insert_parts(part_sheet, parts, first_row)"
   ]
  }
 ],
 "metadata": {
  "kernelspec": {
   "display_name": "Python 3 (ipykernel)",
   "language": "python",
   "name": "python3"
  },
  "language_info": {
   "codemirror_mode": {
    "name": "ipython",
    "version": 3
   },
   "file_extension": ".py",
   "mimetype": "text/x-python",
   "name": "python",
   "nbconvert_exporter": "python",
   "pygments_lexer": "ipython3",
   "version": "3.9.16"
  }
 },
 "nbformat": 4,
 "nbformat_minor": 4
}
