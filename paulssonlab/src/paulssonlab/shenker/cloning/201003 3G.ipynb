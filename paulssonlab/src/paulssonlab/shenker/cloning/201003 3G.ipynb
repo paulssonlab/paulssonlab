{
 "cells": [
  {
   "cell_type": "code",
   "execution_count": null,
   "metadata": {},
   "outputs": [],
   "source": [
    "import pandas as pd\n",
    "import holoviews as hv\n",
    "import hvplot.pandas\n",
    "import matplotlib.pyplot as plt\n",
    "import seaborn as sns\n",
    "import toml\n",
    "import re\n",
    "import urllib\n",
    "from datetime import datetime\n",
    "import string\n",
    "import pygsheets\n",
    "from tqdm.auto import tqdm\n",
    "import Bio.Restriction as Restriction\n",
    "from Bio.Seq import Seq\n",
    "import benchlingapi"
   ]
  },
  {
   "cell_type": "code",
   "execution_count": null,
   "metadata": {},
   "outputs": [],
   "source": [
    "%load_ext autoreload\n",
    "%autoreload 2"
   ]
  },
  {
   "cell_type": "code",
   "execution_count": null,
   "metadata": {},
   "outputs": [],
   "source": [
    "import paulssonlab.api as api\n",
    "from paulssonlab.api.util import base_url\n",
    "import paulssonlab.cloning.workflow as workflow\n",
    "import paulssonlab.cloning.util as cloning_util\n",
    "import paulssonlab.cloning.sequence as sequence\n",
    "import paulssonlab.cloning.golden_gate as golden_gate"
   ]
  },
  {
   "cell_type": "code",
   "execution_count": null,
   "metadata": {},
   "outputs": [],
   "source": [
    "hv.extension(\"bokeh\")"
   ]
  },
  {
   "cell_type": "markdown",
   "metadata": {},
   "source": [
    "# Setup"
   ]
  },
  {
   "cell_type": "code",
   "execution_count": null,
   "metadata": {},
   "outputs": [],
   "source": [
    "config = toml.load(\"config.toml\")"
   ]
  },
  {
   "cell_type": "code",
   "execution_count": null,
   "metadata": {},
   "outputs": [],
   "source": [
    "session = benchlingapi.Session(config[\"benchling\"][\"api_key\"])"
   ]
  },
  {
   "cell_type": "code",
   "execution_count": null,
   "metadata": {},
   "outputs": [],
   "source": [
    "gc = pygsheets.authorize(service_account_file=\"credentials.json\")"
   ]
  },
  {
   "cell_type": "code",
   "execution_count": null,
   "metadata": {},
   "outputs": [],
   "source": [
    "col = workflow.get_strain_collection_sheets(gc.drive.service, \"LIB\")\n",
    "col"
   ]
  },
  {
   "cell_type": "code",
   "execution_count": null,
   "metadata": {},
   "outputs": [],
   "source": [
    "strain_sheet = gc.open_by_key(col[\"strains\"]).worksheet()\n",
    "plasmid_sheet = gc.open_by_key(col[\"plasmids\"]).worksheet()\n",
    "part_sheet = gc.open_by_key(col[\"parts\"]).worksheet()\n",
    "part_sequences_sheet = gc.open_by_key(col[\"parts\"]).worksheet_by_title(\"Sequences\")\n",
    "oligo_sheet = gc.open_by_key(col[\"oligos\"]).worksheet()"
   ]
  },
  {
   "cell_type": "code",
   "execution_count": null,
   "metadata": {},
   "outputs": [],
   "source": [
    "drive_service = plasmid_sheet.client.drive.service\n",
    "plasmid_folder = col[\"plasmid_maps\"]\n",
    "plasmid_maps = api.google.list_drive(drive_service, root=plasmid_folder)"
   ]
  },
  {
   "cell_type": "markdown",
   "metadata": {},
   "source": [
    "# GG"
   ]
  },
  {
   "cell_type": "code",
   "execution_count": null,
   "metadata": {},
   "outputs": [],
   "source": [
    "# gibson.assemble -> hhh"
   ]
  },
  {
   "cell_type": "code",
   "execution_count": null,
   "metadata": {},
   "outputs": [],
   "source": [
    "def get_plib_seq(drive_service, plib_num):\n",
    "    seq_file = api.google.get_drive_by_path(\n",
    "        drive_service, f\"pLIB{plib_num}.gbk\", root=col[\"plasmid_maps\"]\n",
    "    )\n",
    "    seq = api.read_sequence(\n",
    "        drive_service.files().get_media(fileId=seq_file).execute().decode(\"utf8\")\n",
    "    )\n",
    "    return seq"
   ]
  },
  {
   "cell_type": "code",
   "execution_count": null,
   "metadata": {},
   "outputs": [],
   "source": [
    "seq1 = get_plib_seq(drive_service, 1)\n",
    "seq2 = get_plib_seq(drive_service, 82)\n",
    "seq3 = get_plib_seq(drive_service, 23)\n",
    "seq4 = get_plib_seq(drive_service, 95)\n",
    "seq5 = get_plib_seq(drive_service, 110)"
   ]
  },
  {
   "cell_type": "code",
   "execution_count": null,
   "metadata": {},
   "outputs": [],
   "source": [
    "to_join = [\n",
    "    (sequence.reverse_complement(seq1), Restriction.BsaI, \"Name1\", \"promoter\"),\n",
    "    (sequence.reverse_complement(seq2), Restriction.BsaI, \"Name2\", \"RBS\"),\n",
    "    (seq3, Restriction.BsaI, \"Name3\", \"CDS\"),\n",
    "    (seq4, Restriction.BsaI, \"Name4\", \"terminator\"),\n",
    "    (sequence.reverse_complement(seq5), Restriction.BsaI, \"Name5\", \"misc_feature\"),\n",
    "]\n",
    "\n",
    "assembly = golden_gate.assemble(to_join, linear=False)\n",
    "assembly"
   ]
  },
  {
   "cell_type": "code",
   "execution_count": null,
   "metadata": {},
   "outputs": [],
   "source": [
    "with open(\"/Users/jacob/Downloads/test3.gb\", \"w\") as f:\n",
    "    f.write(assembly.format(\"gb\"))"
   ]
  },
  {
   "cell_type": "markdown",
   "metadata": {},
   "source": [
    "# 3G"
   ]
  },
  {
   "cell_type": "code",
   "execution_count": null,
   "metadata": {},
   "outputs": [],
   "source": [
    "command = \"@gibson(@goldengate(UNS1, J23101, BCD11, mVenus, L3S3P11, UNS5), @goldengate(UNS5, J23150, CFP, BCD16, L3S2P55, UNS10))\""
   ]
  },
  {
   "cell_type": "code",
   "execution_count": null,
   "metadata": {},
   "outputs": [],
   "source": [
    "command = \"@3G(UNS1, J23101, BCD11, mVenus, L3S3P11, UNS5; UNS5, J23150, CFP, BCD16, L3S2P55, UNS10)\""
   ]
  },
  {
   "cell_type": "code",
   "execution_count": null,
   "metadata": {},
   "outputs": [],
   "source": [
    "command = \"@3G(UNS1-J23101-BCD11-mVenus-L3S3P11-UNS5, UNS5+J23150+CFP+BCD16+L3S2P55+UNS10)"
   ]
  },
  {
   "cell_type": "markdown",
   "metadata": {},
   "source": [
    "# Command parsing"
   ]
  },
  {
   "cell_type": "code",
   "execution_count": null,
   "metadata": {},
   "outputs": [],
   "source": [
    "import tatsu"
   ]
  },
  {
   "cell_type": "code",
   "execution_count": null,
   "metadata": {},
   "outputs": [],
   "source": [
    "grammar = \"\"\"@@grammar::CALC\n",
    "\n",
    "\n",
    "start\n",
    "    =\n",
    "    expression $\n",
    "    ;\n",
    "\n",
    "\n",
    "expression\n",
    "    =\n",
    "    | left:expression op:'+' ~ right:term\n",
    "    | left:expression op:'-' ~ right:term\n",
    "    | term\n",
    "    ;\n",
    "\n",
    "\n",
    "term\n",
    "    =\n",
    "    | left:term op:'*' ~ right:factor\n",
    "    | left:term '/' ~ right:factor\n",
    "    | factor\n",
    "    ;\n",
    "\n",
    "\n",
    "factor\n",
    "    =\n",
    "    | '(' ~ @:expression ')'\n",
    "    | number\n",
    "    ;\n",
    "\n",
    "\n",
    "number\n",
    "    =\n",
    "    /\\d+/\n",
    "    ;\n",
    "\"\"\""
   ]
  },
  {
   "cell_type": "code",
   "execution_count": null,
   "metadata": {},
   "outputs": [],
   "source": [
    "grammar2 = \"\"\"@@grammar::CALC\n",
    "\n",
    "\n",
    "start\n",
    "    =\n",
    "    expression $\n",
    "    ;\n",
    "\n",
    "\n",
    "expression\n",
    "    =\n",
    "    | addition\n",
    "    | subtraction\n",
    "    | term\n",
    "    ;\n",
    "\n",
    "\n",
    "addition\n",
    "    =\n",
    "    left:expression op:'+' ~ right:term\n",
    "    ;\n",
    "\n",
    "subtraction\n",
    "    =\n",
    "    left:expression op:'-' ~ right:term\n",
    "    ;\n",
    "\n",
    "\n",
    "term\n",
    "    =\n",
    "    | multiplication\n",
    "    | division\n",
    "    | factor\n",
    "    ;\n",
    "\n",
    "\n",
    "multiplication\n",
    "    =\n",
    "    left:term op:'*' ~ right:factor\n",
    "    ;\n",
    "\n",
    "\n",
    "division\n",
    "    =\n",
    "    left:term op:'/' ~ right:factor\n",
    "    ;\n",
    "\n",
    "\n",
    "factor\n",
    "    =\n",
    "    | '(' ~ @:expression ')'\n",
    "    | number\n",
    "    ;\n",
    "\n",
    "\n",
    "number\n",
    "    =\n",
    "    /\\d+/\n",
    "    ;\"\"\""
   ]
  },
  {
   "cell_type": "code",
   "execution_count": null,
   "metadata": {},
   "outputs": [],
   "source": [
    "parser = tatsu.compile(grammar2)\n",
    "# ast = parser.parse('3 + 5 * ( 10 - 20 )')"
   ]
  },
  {
   "cell_type": "code",
   "execution_count": null,
   "metadata": {},
   "outputs": [],
   "source": [
    "class CalcSemantics(object):\n",
    "    def number(self, ast):\n",
    "        return int(ast)\n",
    "\n",
    "    def addition(self, ast):\n",
    "        return ast.left + ast.right\n",
    "\n",
    "    def subtraction(self, ast):\n",
    "        return ast.left - ast.right\n",
    "\n",
    "    def multiplication(self, ast):\n",
    "        return ast.left * ast.right\n",
    "\n",
    "    def division(self, ast):\n",
    "        return ast.left / ast.right"
   ]
  },
  {
   "cell_type": "code",
   "execution_count": null,
   "metadata": {},
   "outputs": [],
   "source": [
    "ast = parser.parse(\"3 + 5 * ( 10 - 20 )\", semantics=CalcSemantics())"
   ]
  },
  {
   "cell_type": "code",
   "execution_count": null,
   "metadata": {},
   "outputs": [],
   "source": [
    "ast"
   ]
  },
  {
   "cell_type": "markdown",
   "metadata": {},
   "source": [
    "## Commands"
   ]
  },
  {
   "cell_type": "code",
   "execution_count": null,
   "metadata": {},
   "outputs": [],
   "source": [
    "# \"quoted DNA\"\n",
    "# oLIB1+oLIB2\n",
    "# /"
   ]
  },
  {
   "cell_type": "code",
   "execution_count": null,
   "metadata": {},
   "outputs": [],
   "source": [
    "grammar = \"\"\"@@grammar::CLONING\n",
    "@@whitespace :: //\n",
    "\n",
    "start = command $ ;\n",
    "\n",
    "ws = /\\s*/ ;\n",
    "\n",
    "command_name = '@' ~ @:/\\w+/ ;\n",
    "\n",
    "command_arglist = '(' ~ ws @+:argument ws {',' ws @+:argument ws }* ')' ;\n",
    "\n",
    "command = command_name:command_name arguments:command_arglist ;\n",
    "\n",
    "argument\n",
    "    =\n",
    "    | quoted_string\n",
    "    | command\n",
    "    | float\n",
    "    | int\n",
    "    | assembly\n",
    "    | name\n",
    "    ;\n",
    "\n",
    "float = float:/\\d+\\.\\d+/ ;\n",
    "\n",
    "int = int:/\\d+/ ;\n",
    "\n",
    "name = name:/\\w+/ ;\n",
    "\n",
    "assembly = assembly+:name {'-' ~ assembly+:name}+ ;\n",
    "\n",
    "quoted_string = '\"' ~ quoted_string:/[^\"]*/ '\"' ;\n",
    "\n",
    "\"\"\""
   ]
  },
  {
   "cell_type": "code",
   "execution_count": null,
   "metadata": {},
   "outputs": [],
   "source": [
    "parser = tatsu.compile(grammar)\n",
    "ast = parser.parse(\n",
    "    '@foo(blah, blah2, blah3-blah4, @bar(x1, x2, 3, \"a\", \" AAtg \", 5, 8.7))'\n",
    ")\n",
    "ast"
   ]
  },
  {
   "cell_type": "code",
   "execution_count": null,
   "metadata": {},
   "outputs": [],
   "source": [
    "def goldengate(*args):\n",
    "    return args\n",
    "\n",
    "\n",
    "def gibson(*args):\n",
    "    return args\n",
    "\n",
    "\n",
    "def threeg(*args):\n",
    "    return args\n",
    "\n",
    "\n",
    "commands = {\"GG\": goldengate, \"Gib\": gibson, \"3G\": threeg}"
   ]
  },
  {
   "cell_type": "code",
   "execution_count": null,
   "metadata": {},
   "outputs": [],
   "source": [
    "command = (\n",
    "    \"@3G(UNS1-J23101-BCD11-mVenus-L3S3P11-UNS5, UNS5-J23150-CFP-BCD16-L3S2P55-UNS10)\"\n",
    ")\n",
    "# command = \"@Gib(@GG(UNS1, J23101, BCD11, mVenus, L3S3P11, UNS5), @GG(UNS5, J23150, CFP, BCD16, L3S2P55, UNS10))\""
   ]
  },
  {
   "cell_type": "code",
   "execution_count": null,
   "metadata": {},
   "outputs": [],
   "source": [
    "ast = parser.parse(command)\n",
    "ast"
   ]
  },
  {
   "cell_type": "code",
   "execution_count": null,
   "metadata": {},
   "outputs": [],
   "source": [
    "class CloningCommandSemantics(object):\n",
    "    def command(self, ast):\n",
    "        if ast.command_name not in commands:\n",
    "            raise tatsu.semantics.SemanticError(\n",
    "                \"command must be one of: {}\".format(\n",
    "                    \", \".join([f\"@{k}\" for k in commands.keys()])\n",
    "                )\n",
    "            )\n",
    "        command = commands[ast.command_name]\n",
    "        return command(ast.arguments)\n",
    "\n",
    "    def int_(self, ast):\n",
    "        return int(s)\n",
    "\n",
    "    def float_(self, ast):\n",
    "        return float(s)\n",
    "\n",
    "    def name(self, ast):\n",
    "        return ast.name\n",
    "\n",
    "    def assembly(self, ast):\n",
    "        return ast.assembly\n",
    "\n",
    "    def default_(self, ast):\n",
    "        print(\"foo\")\n",
    "\n",
    "\n",
    "parser.parse(command, semantics=CloningCommandSemantics())"
   ]
  },
  {
   "cell_type": "code",
   "execution_count": null,
   "metadata": {},
   "outputs": [],
   "source": []
  }
 ],
 "metadata": {
  "kernelspec": {
   "display_name": "Python 3",
   "language": "python",
   "name": "python3"
  },
  "language_info": {
   "codemirror_mode": {
    "name": "ipython",
    "version": 3
   },
   "file_extension": ".py",
   "mimetype": "text/x-python",
   "name": "python",
   "nbconvert_exporter": "python",
   "pygments_lexer": "ipython3",
   "version": "3.8.5"
  }
 },
 "nbformat": 4,
 "nbformat_minor": 4
}
