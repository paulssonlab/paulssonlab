{
 "cells": [
  {
   "cell_type": "code",
   "execution_count": null,
   "metadata": {},
   "outputs": [],
   "source": [
    "import pandas as pd\n",
    "import holoviews as hv\n",
    "import hvplot.pandas\n",
    "import matplotlib.pyplot as plt\n",
    "import seaborn as sns\n",
    "import toml\n",
    "import re\n",
    "import urllib\n",
    "from datetime import datetime\n",
    "import string\n",
    "import pygsheets\n",
    "import requests\n",
    "import time\n",
    "from tqdm.auto import tqdm\n",
    "import Bio.Restriction as Restriction\n",
    "from Bio.Seq import Seq\n",
    "import benchlingapi"
   ]
  },
  {
   "cell_type": "code",
   "execution_count": null,
   "metadata": {},
   "outputs": [],
   "source": [
    "%load_ext autoreload\n",
    "%autoreload 2"
   ]
  },
  {
   "cell_type": "code",
   "execution_count": null,
   "metadata": {},
   "outputs": [],
   "source": [
    "import paulssonlab.api as api\n",
    "from paulssonlab.api.util import base_url\n",
    "import paulssonlab.cloning.workflow as workflow\n",
    "import paulssonlab.cloning.util as cloning_util\n",
    "import paulssonlab.cloning.sequence as sequence\n",
    "import paulssonlab.cloning.golden_gate as golden_gate\n",
    "import paulssonlab.cloning.codon as codon\n",
    "import paulssonlab.cloning.optimization as optimization\n",
    "import paulssonlab.api.twist as twist"
   ]
  },
  {
   "cell_type": "code",
   "execution_count": null,
   "metadata": {},
   "outputs": [],
   "source": [
    "hv.extension(\"bokeh\")"
   ]
  },
  {
   "cell_type": "markdown",
   "metadata": {},
   "source": [
    "# Setup"
   ]
  },
  {
   "cell_type": "code",
   "execution_count": null,
   "metadata": {},
   "outputs": [],
   "source": [
    "config = toml.load(\"config.toml\")"
   ]
  },
  {
   "cell_type": "code",
   "execution_count": null,
   "metadata": {},
   "outputs": [],
   "source": [
    "session = benchlingapi.Session(config[\"benchling\"][\"api_key\"])"
   ]
  },
  {
   "cell_type": "code",
   "execution_count": null,
   "metadata": {},
   "outputs": [],
   "source": [
    "gc = pygsheets.authorize(service_account_file=\"credentials.json\")"
   ]
  },
  {
   "cell_type": "code",
   "execution_count": null,
   "metadata": {},
   "outputs": [],
   "source": [
    "col = workflow.get_strain_collection_sheets(gc.drive.service, \"LIB\")\n",
    "col"
   ]
  },
  {
   "cell_type": "code",
   "execution_count": null,
   "metadata": {},
   "outputs": [],
   "source": [
    "strain_sheet = gc.open_by_key(col[\"strains\"]).worksheet()\n",
    "plasmid_sheet = gc.open_by_key(col[\"plasmids\"]).worksheet()\n",
    "part_sheet = gc.open_by_key(col[\"parts\"]).worksheet()\n",
    "part_type_sheet = gc.open_by_key(col[\"parts\"]).worksheet_by_title(\"Part types\")"
   ]
  },
  {
   "cell_type": "code",
   "execution_count": null,
   "metadata": {},
   "outputs": [],
   "source": [
    "drive_service = plasmid_sheet.client.drive.service\n",
    "plasmid_folder = col[\"plasmid_maps\"]\n",
    "plasmid_maps = api.google.list_drive(drive_service, root=plasmid_folder)"
   ]
  },
  {
   "cell_type": "markdown",
   "metadata": {},
   "source": [
    "# Twist API"
   ]
  },
  {
   "cell_type": "markdown",
   "metadata": {},
   "source": [
    "Currently, this has to be run via the HMS network (or via the HMS proxy) because Twist restricts the IP address ranges that can access their API staging server."
   ]
  },
  {
   "cell_type": "code",
   "execution_count": null,
   "metadata": {},
   "outputs": [],
   "source": [
    "# HOW TO SPECIFY CDS START/END/WHETHER TO ADD STOP\n",
    "# GG FLANKS\n",
    "# HOW TO CHECK TWIST FLANKS?\n",
    "\n",
    "# check where start codon is\n",
    "# convert AA's -> nt's using E. coli codon usage table\n",
    "# add stop codons\n",
    "# add GG flanks (for integration into storage vector)\n",
    "# check scores\n",
    "# for all bad scores (AND all that contain RE sites), codon optimize\n",
    "# codon optimize avoiding: BsaI, BsmBI, BbsI, AarI\n",
    "# order options: 96-well plate, cap at 1000ug per well\n",
    "# request quote\n",
    "# shipping details: Johan/Paulsson/2135454219, share with email: paulssonlab@gmail.com, jqshenker+twist@g.harvard.edu\n",
    "# checkout\n",
    "# use existing payment method: BPO #70003066270\n",
    "# confirm\n",
    "\n",
    "# download plate map\n",
    "# add plate map info to oLIB0.x spreadsheet (e.g., oLIB0.7.H12)"
   ]
  },
  {
   "cell_type": "code",
   "execution_count": null,
   "metadata": {},
   "outputs": [],
   "source": [
    "TWIST_AUTHENTICATION_HEADERS = {\n",
    "    \"Authorization\": \"JWT {}\".format(config[\"twist\"][\"api_token\"]),\n",
    "    \"X-End-User-Token\": config[\"twist\"][\"end_user_token\"],\n",
    "}"
   ]
  },
  {
   "cell_type": "code",
   "execution_count": null,
   "metadata": {},
   "outputs": [],
   "source": [
    "r = requests.get(\n",
    "    \"https://twist-api.twistbioscience-staging.com/v1/prices/\",\n",
    "    headers=AUTHENTICATION_HEADERS,\n",
    ")\n",
    "twist_prices = r.json()"
   ]
  },
  {
   "cell_type": "code",
   "execution_count": null,
   "metadata": {},
   "outputs": [],
   "source": [
    "twist_prices"
   ]
  },
  {
   "cell_type": "markdown",
   "metadata": {},
   "source": [
    "## Codon optimization"
   ]
  },
  {
   "cell_type": "code",
   "execution_count": null,
   "metadata": {},
   "outputs": [],
   "source": [
    "import pickle\n",
    "\n",
    "with open(\"201013voigtsigmas.json\", \"rb\") as f:\n",
    "    data = pickle.load(f)"
   ]
  },
  {
   "cell_type": "code",
   "execution_count": null,
   "metadata": {},
   "outputs": [],
   "source": [
    "seqs = {\n",
    "    item[\"name\"]: (item[\"optimized_seq\"], item[\"cds_location\"])\n",
    "    for item in data[\"sequences_to_order\"].values()\n",
    "    if item[\"kind\"] != \"promoter\"\n",
    "}"
   ]
  },
  {
   "cell_type": "code",
   "execution_count": null,
   "metadata": {},
   "outputs": [],
   "source": [
    "scored_constructs = twist.score(config[\"twist\"], {k: v[0] for k, v in seqs.items()})"
   ]
  },
  {
   "cell_type": "code",
   "execution_count": null,
   "metadata": {},
   "outputs": [],
   "source": [
    "scored_constructs[\"AS22_1147\"][\"score\"]"
   ]
  },
  {
   "cell_type": "code",
   "execution_count": null,
   "metadata": {},
   "outputs": [],
   "source": [
    "scored_constructs[\"ECF16_3622\"]"
   ]
  },
  {
   "cell_type": "code",
   "execution_count": null,
   "metadata": {},
   "outputs": [],
   "source": [
    "optimized_constructs = twist.score_and_optimize(\n",
    "    config[\"twist\"],\n",
    "    seqs,\n",
    "    avoid_enzymes=[\"BsaI\", \"BsmBI\", \"BbsI\", \"AarI\"],\n",
    "    organism=\"Escherichia coli\",\n",
    ")"
   ]
  },
  {
   "cell_type": "code",
   "execution_count": null,
   "metadata": {},
   "outputs": [],
   "source": [
    "optimized_constructs[\"AS22_1147\"]  # [\"results\"]  # .keys()#[\"error\"]"
   ]
  },
  {
   "cell_type": "markdown",
   "metadata": {},
   "source": [
    "## Past orders"
   ]
  },
  {
   "cell_type": "code",
   "execution_count": null,
   "metadata": {},
   "outputs": [],
   "source": [
    "r = requests.get(\n",
    "    \"https://twist-api.twistbioscience-staging.com/v1/users/paulssonlab@gmail.com/orders/\",\n",
    "    headers=TWIST_AUTHENTICATION_HEADERS,\n",
    ")\n",
    "orders = r.json()"
   ]
  },
  {
   "cell_type": "code",
   "execution_count": null,
   "metadata": {},
   "outputs": [],
   "source": [
    "[(o[\"order_name\"], o[\"project_name\"]) for o in orders]"
   ]
  }
 ],
 "metadata": {
  "kernelspec": {
   "display_name": "Python 3",
   "language": "python",
   "name": "python3"
  },
  "language_info": {
   "codemirror_mode": {
    "name": "ipython",
    "version": 3
   },
   "file_extension": ".py",
   "mimetype": "text/x-python",
   "name": "python",
   "nbconvert_exporter": "python",
   "pygments_lexer": "ipython3",
   "version": "3.8.6"
  }
 },
 "nbformat": 4,
 "nbformat_minor": 4
}
