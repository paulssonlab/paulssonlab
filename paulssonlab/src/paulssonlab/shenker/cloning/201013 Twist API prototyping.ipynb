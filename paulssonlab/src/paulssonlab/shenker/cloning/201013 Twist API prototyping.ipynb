{
 "cells": [
  {
   "cell_type": "code",
   "execution_count": null,
   "metadata": {},
   "outputs": [],
   "source": [
    "import pandas as pd\n",
    "import holoviews as hv\n",
    "import hvplot.pandas\n",
    "import matplotlib.pyplot as plt\n",
    "import seaborn as sns\n",
    "import toml\n",
    "import re\n",
    "import urllib\n",
    "from datetime import datetime\n",
    "import string\n",
    "import pygsheets\n",
    "import requests\n",
    "import time\n",
    "from tqdm.auto import tqdm\n",
    "import Bio.Restriction as Restriction\n",
    "from Bio.Seq import Seq\n",
    "import benchlingapi"
   ]
  },
  {
   "cell_type": "code",
   "execution_count": null,
   "metadata": {},
   "outputs": [],
   "source": [
    "%load_ext autoreload\n",
    "%autoreload 2"
   ]
  },
  {
   "cell_type": "code",
   "execution_count": null,
   "metadata": {},
   "outputs": [],
   "source": [
    "import paulssonlab.api as api\n",
    "from paulssonlab.api.util import base_url\n",
    "import paulssonlab.cloning.workflow as workflow\n",
    "import paulssonlab.cloning.util as cloning_util\n",
    "import paulssonlab.cloning.sequence as sequence\n",
    "import paulssonlab.cloning.golden_gate as golden_gate\n",
    "import paulssonlab.cloning.codon as codon\n",
    "import paulssonlab.cloning.optimization as optimization\n",
    "import paulssonlab.api.twist as twist"
   ]
  },
  {
   "cell_type": "code",
   "execution_count": null,
   "metadata": {},
   "outputs": [],
   "source": [
    "hv.extension(\"bokeh\")"
   ]
  },
  {
   "cell_type": "markdown",
   "metadata": {},
   "source": [
    "# Setup"
   ]
  },
  {
   "cell_type": "code",
   "execution_count": null,
   "metadata": {},
   "outputs": [],
   "source": [
    "config = toml.load(\"config.toml\")"
   ]
  },
  {
   "cell_type": "code",
   "execution_count": null,
   "metadata": {},
   "outputs": [],
   "source": [
    "session = benchlingapi.Session(config[\"benchling\"][\"api_key\"])"
   ]
  },
  {
   "cell_type": "code",
   "execution_count": null,
   "metadata": {},
   "outputs": [],
   "source": [
    "gc = pygsheets.authorize(service_account_file=\"credentials.json\")"
   ]
  },
  {
   "cell_type": "code",
   "execution_count": null,
   "metadata": {},
   "outputs": [],
   "source": [
    "col = workflow.get_strain_collection_sheets(gc.drive.service, \"LIB\")\n",
    "col"
   ]
  },
  {
   "cell_type": "code",
   "execution_count": null,
   "metadata": {},
   "outputs": [],
   "source": [
    "strain_sheet = gc.open_by_key(col[\"strains\"]).worksheet()\n",
    "plasmid_sheet = gc.open_by_key(col[\"plasmids\"]).worksheet()\n",
    "part_sheet = gc.open_by_key(col[\"parts\"]).worksheet()\n",
    "part_type_sheet = gc.open_by_key(col[\"parts\"]).worksheet_by_title(\"Part types\")"
   ]
  },
  {
   "cell_type": "code",
   "execution_count": null,
   "metadata": {},
   "outputs": [],
   "source": [
    "drive_service = plasmid_sheet.client.drive.service\n",
    "plasmid_folder = col[\"plasmid_maps\"]\n",
    "plasmid_maps = api.google.list_drive(drive_service, root=plasmid_folder)"
   ]
  },
  {
   "cell_type": "markdown",
   "metadata": {},
   "source": [
    "# Twist API"
   ]
  },
  {
   "cell_type": "markdown",
   "metadata": {},
   "source": [
    "Currently, this has to be run via the HMS network (or via the HMS proxy) because Twist restricts the IP address ranges that can access their API staging server."
   ]
  },
  {
   "cell_type": "code",
   "execution_count": null,
   "metadata": {},
   "outputs": [],
   "source": [
    "# HOW TO SPECIFY CDS START/END/WHETHER TO ADD STOP\n",
    "# GG FLANKS\n",
    "# HOW TO CHECK TWIST FLANKS?\n",
    "\n",
    "# check where start codon is\n",
    "# convert AA's -> nt's using E. coli codon usage table\n",
    "# add stop codons\n",
    "# add GG flanks (for integration into storage vector)\n",
    "# check scores\n",
    "# for all bad scores (AND all that contain RE sites), codon optimize\n",
    "# codon optimize avoiding: BsaI, BsmBI, BbsI, AarI\n",
    "# order options: 96-well plate, cap at 1000ug per well\n",
    "# request quote\n",
    "# shipping details: Johan/Paulsson/2135454219, share with email: paulssonlab@gmail.com, jqshenker+twist@g.harvard.edu\n",
    "# checkout\n",
    "# use existing payment method: BPO #70003066270\n",
    "# confirm\n",
    "\n",
    "# download plate map\n",
    "# add plate map info to oLIB0.x spreadsheet (e.g., oLIB0.7.H12)"
   ]
  },
  {
   "cell_type": "code",
   "execution_count": null,
   "metadata": {},
   "outputs": [],
   "source": [
    "TWIST_AUTHENTICATION_HEADERS = {\n",
    "    \"Authorization\": \"JWT {}\".format(config[\"twist\"][\"api_token\"]),\n",
    "    \"X-End-User-Token\": config[\"twist\"][\"end_user_token\"],\n",
    "}"
   ]
  },
  {
   "cell_type": "code",
   "execution_count": null,
   "metadata": {},
   "outputs": [],
   "source": [
    "r = requests.get(\n",
    "    \"https://twist-api.twistbioscience-staging.com/v1/prices/\",\n",
    "    headers=AUTHENTICATION_HEADERS,\n",
    ")\n",
    "twist_prices = r.json()"
   ]
  },
  {
   "cell_type": "code",
   "execution_count": null,
   "metadata": {},
   "outputs": [],
   "source": [
    "twist_prices"
   ]
  },
  {
   "cell_type": "markdown",
   "metadata": {},
   "source": [
    "## Codon optimization"
   ]
  },
  {
   "cell_type": "code",
   "execution_count": null,
   "metadata": {},
   "outputs": [],
   "source": [
    "seqs = {\n",
    "    \"aaa5\": (\n",
    "        \"cgtctcggtctcaaatgaccggtcatccggatgttgcagaaattgcagatctggcagaaggtctgctgccgaccacccgtaccaccgaagttcgtcagcatctggaaagctgtgaactgtgtgcagatgtttatgcaagcctgacagaaattcagggtctgctgggtaccctgcctgcaccggcaccgatgcctgatgatgttgcagcacgtattgatgcagcactggcagcagaaccgccgctgggtattgcagatggcacccgtgttagccgtgaaaccagcaccccggcagatagacctgcaggtcatgcacgtcctagcagcaccggtcctggtcgtaaagatcgtcgtcgtggtggtcgtcgtcgtattgcagttctgggtgcagttgcagcagcagccgcaattggtattggtagcgttgttgttagcagcctgaccgaagatagcagcagcggtaataccgcacgtgaacagcagaccgcaattgcagatacctttagcgaaggtcgtctgaaagatcgtgttaccaatctggttgcagatggtagcgcagaaaatggtagccgtaccccgcgtagctttggtatggaaagcgaaaatggtggtgaaaccgcagaaaatcatgttttcaaacagccgaccgttccggaatgtattcgtaaaggtattggtcgtgatgatgcagttattgcaaccgaaccgggtgtttataaaggtcgtgaagcactgctggttgttctgccggatgcaaccaatgatacccaggttaccgcatatattgttgaaaccgcatgtgttgatcagccggcagttggtaaagcaaagattctgctggaacatagctatgcacgtagctaataaggttgagaccggagacg\",\n",
    "        (14, 866),\n",
    "    ),\n",
    "    \"bbb5\": (\n",
    "        \"cgtctcggtctcaaatgagcgatggtaatgatgcacgtccggatgcaagagatggtcatgacccgggtagcgacgcacgtgatggccatgatcctggtagccatgcacgtgacggtcatgatccgggtgcaggtccgtttgatggtcacggtcctggtagcgatgcaggcgatggtgatgatgcaggtccggatgcacgtgatggtcatggtgcaccagcaggtcctgcaggtcgtgaacagcgtaaacatccgcatgatacacatgatatgcatgatacccacgatacccatgcaggtaaaggtaccgttaatcatggtcctgcagcacagggtcctgatgcaccgggtgctgatggtcctgcaaccgatgaagcagcactgcgtgcaatgatgcagcgtgcagttcgtgaaatggaaccgagcgatggtaccctggaacatctgcgtcgtgcagttccggctcgtcgtgcacgtaaacgtcaggcactggttggtgcagcagcagccgcactgtttctgggtaccgcagttccggcactggttcatgttagcaatgctaccggtgcaggcgcagatccgagcgttgcaggtaatgcaagccaggcacagggtggtgcaagccagggtaaagatccggctggtggtcagagcggtgttgcaggtaccggtgatacccctgaagatcgtgataaagcagatccgaaagaaaccccgggtggtaaagaaccgggtgctgcaaccggtgcaccacctagtggtgttccgagtgcaagcagtccggcagatgttcctgcatgtgcacctggtagcttaggtccggcagttgcaagcagcgcagaaccggatagcaccggtgttgtttatggtagctttcgtgttaccaatgttagcagcgatggttgtaccgttaccggtccgggtaccgttgttaccgcaagcttaggtgcagcagaagcaacccgtattggtaccgcacgtcatgcagcaggcgatgcagcagcaggattaccggatcctagtctggaaaccgcaagcctggcattagcaccgggtgcagcatatgaagttcagtttgcatgggttccgagcgaaacctgtccgaccacaggtggtacaacaggtggtggcagcggtggtccgagtcctgatcctagtcctaccgcagataccacagcagcaggcggtaccagtgcaggcggtggtgaagcaggtcctacaacccagctgattaccgaagatggtccggcagaaggtagcgttagcgttacctataccccggaaggtggtagcggtagcgcaaccgcaaccgttagcaatgcatgtgcaggtaccgtttattggaccggtctgctggcagatagcggtagcggtgcataataaggttgagaccggagacg\",\n",
    "        (14, 1382),\n",
    "    ),\n",
    "}"
   ]
  },
  {
   "cell_type": "code",
   "execution_count": null,
   "metadata": {},
   "outputs": [],
   "source": [
    "# copied from swagger docs for POST /v1/users/{email}/codon-optimizations/\n",
    "resp = requests.post(\n",
    "    \"https://twist-api.twistbioscience-staging.com/v1/users/paulssonlab@gmail.com/codon-optimizations/\",\n",
    "    json=[\n",
    "        {\n",
    "            \"sequence\": \"ATGGCTTCTCCCATCTCAAATTCTTCTTCAACTCTCTACAGCTTATTTTTCTTTGGCCTCTTGCTTTCATTTTCGTTTGCTGGTCGTGCTCGAGCTAACCCCAATTACCGAGACGCCTTGGCTAAGTCGATATTGTTTTTTGAAGGACAACGCTCCGGTAGGATCCCGGCTAACCAACGGATCACTTGGAGGTCCAACTCCGGCCTCTACGATGGTGAACTTGCTCATGTGGATTTAACCGGCGGCTACTACGACGCCGGCGACAATGTAAAATTCAATCTTCCGATGGCTTTCACAACCACAATGCTTTCATGGGGAGCACTCGAGTACGGGGCGCGTATGGGTAGCGAATTAGGCAACACACGGGCCGCCATCCGTTGGGCCACCGATTACCTTCTCAAGTGCGCGACCGCCACTCCAGGCAAGCTCTACGTCGGCGTGGGAGACCCTCACGCCGACCACAAGTGCTGGGAACGGCCTGAGGACATGGATACTGTTCGAACCGTATACTCTGTTTCTGCCGGGAACCCAGGATCGGATGTTGCCGGAGAGACCGCGGCCGCACTGGCCGCCGCGTCGTTGGTGTTCCGACGAGTTGATAGGAAGTATTCACGGGTGTTGCTGGCGACGGCGAAGAAGGTGATGGAATTTGCGTTGGAGCACCGTGGATCGTATAGTGATTCGCTTTCCTCTGCTGTTTGTCCTTTTTATTGCTCTTATTCCGGATATAAGGATGAATTGGTATGGGGAGCAGCATGGCTTCTAAGAGCAACAAATGATGTTAAATACTTCAATTTGTTGAAGTCATTGGGAGGTGATGATGTGACTGATATCTTTAGTTGGGACAACAAATTTGCTGGTGCTCATGTCCTTTTGGGGAGATTGATGTTCAAGTTGCCAGAAAGTAACCTCCAATATGTGACATCCATAACGTTTTTGCTCACCACATATTCCAAATACATGTCTGCAGCCAAACACACATTCAACTGTGGCAACCTTGTCGTTACTCCAGCTTCTCTGAAAAACCTTGCTAAGATTCAGGTGGATTATATATTAGGAGTGAACCCATTGAAAATGTCATACATGGTGGGATATGGAAAGAACTTCCCAAAGAGAATTCATCATAGAGGATCTTCGCTGCCTTCCAAGGCCACCCACCCTCAAGCTATTGCCTGCGATGGTGGCTTCCAACCCTTCTTCTATTCCTACAACCCCAACCCTAATATCTTAATTGGCGCTGTCGTCGGCGGCCCCAATCAAAGTGATGGCTTCCCTGACGATCGCACTGATTACAGCCACTCTGAACCTGCTACGTACATCAATGCTGCTCTTGTTGGACCTCTTGCATTCTTCTCGGGCAAACATTGA\",\n",
    "            \"external_id\": \"test_codon_opt3\",\n",
    "            \"organism\": \"Homo sapiens\",\n",
    "            \"avoid_introducing\": [\"EcoRI\", \"XbaI\"],\n",
    "            \"optimization_start\": 3,\n",
    "            \"optimization_len\": 9,\n",
    "        }\n",
    "    ],\n",
    "    headers=twist.auth_headers(config[\"twist\"]),\n",
    ")\n",
    "resp.content"
   ]
  },
  {
   "cell_type": "code",
   "execution_count": null,
   "metadata": {},
   "outputs": [],
   "source": [
    "# data = [\n",
    "#     {\n",
    "#         \"sequence\": \"ATGGCTTCTCCCATCTCAAATTCTTCTTCAACTCTCTACAGCTTATTTTTCTTTGGCCTCTTGCTTTCATTTTCGTTTGCTGGTCGTGCTCGAGCTAACCCCAATTACCGAGACGCCTTGGCTAAGTCGATATTGTTTTTTGAAGGACAACGCTCCGGTAGGATCCCGGCTAACCAACGGATCACTTGGAGGTCCAACTCCGGCCTCTACGATGGTGAACTTGCTCATGTGGATTTAACCGGCGGCTACTACGACGCCGGCGACAATGTAAAATTCAATCTTCCGATGGCTTTCACAACCACAATGCTTTCATGGGGAGCACTCGAGTACGGGGCGCGTATGGGTAGCGAATTAGGCAACACACGGGCCGCCATCCGTTGGGCCACCGATTACCTTCTCAAGTGCGCGACCGCCACTCCAGGCAAGCTCTACGTCGGCGTGGGAGACCCTCACGCCGACCACAAGTGCTGGGAACGGCCTGAGGACATGGATACTGTTCGAACCGTATACTCTGTTTCTGCCGGGAACCCAGGATCGGATGTTGCCGGAGAGACCGCGGCCGCACTGGCCGCCGCGTCGTTGGTGTTCCGACGAGTTGATAGGAAGTATTCACGGGTGTTGCTGGCGACGGCGAAGAAGGTGATGGAATTTGCGTTGGAGCACCGTGGATCGTATAGTGATTCGCTTTCCTCTGCTGTTTGTCCTTTTTATTGCTCTTATTCCGGATATAAGGATGAATTGGTATGGGGAGCAGCATGGCTTCTAAGAGCAACAAATGATGTTAAATACTTCAATTTGTTGAAGTCATTGGGAGGTGATGATGTGACTGATATCTTTAGTTGGGACAACAAATTTGCTGGTGCTCATGTCCTTTTGGGGAGATTGATGTTCAAGTTGCCAGAAAGTAACCTCCAATATGTGACATCCATAACGTTTTTGCTCACCACATATTCCAAATACATGTCTGCAGCCAAACACACATTCAACTGTGGCAACCTTGTCGTTACTCCAGCTTCTCTGAAAAACCTTGCTAAGATTCAGGTGGATTATATATTAGGAGTGAACCCATTGAAAATGTCATACATGGTGGGATATGGAAAGAACTTCCCAAAGAGAATTCATCATAGAGGATCTTCGCTGCCTTCCAAGGCCACCCACCCTCAAGCTATTGCCTGCGATGGTGGCTTCCAACCCTTCTTCTATTCCTACAACCCCAACCCTAATATCTTAATTGGCGCTGTCGTCGGCGGCCCCAATCAAAGTGATGGCTTCCCTGACGATCGCACTGATTACAGCCACTCTGAACCTGCTACGTACATCAATGCTGCTCTTGTTGGACCTCTTGCATTCTTCTCGGGCAAACATTGA\",\n",
    "#         \"external_id\": \"test_codon_opt\",\n",
    "#         \"organism\": \"Homo sapiens\",\n",
    "#         \"avoid_introducing\": [\"EcoRI\", \"XbaI\"],\n",
    "#         \"optimization_start\": 3,\n",
    "#         \"optimization_len\": 9\n",
    "#     }\n",
    "# ]\n",
    "data = [\n",
    "    {\n",
    "        \"sequence\": \"ATGGCTTCTCCCATCTCAAATTCTTCTTCAACTCTCTACAGCTTATTTTTCTTTGGCCTCTTGCTTTCATTTTCGTTTGCTGGTCGTGCTCGAGCTAACCCCAATTACCGAGACGCCTTGGCTAAGTCGATATTGTTTTTTGAAGGACAACGCTCCGGTAGGATCCCGGCTAACCAACGGATCACTTGGAGGTCCAACTCCGGCCTCTACGATGGTGAACTTGCTCATGTGGATTTAACCGGCGGCTACTACGACGCCGGCGACAATGTAAAATTCAATCTTCCGATGGCTTTCACAACCACAATGCTTTCATGGGGAGCACTCGAGTACGGGGCGCGTATGGGTAGCGAATTAGGCAACACACGGGCCGCCATCCGTTGGGCCACCGATTACCTTCTCAAGTGCGCGACCGCCACTCCAGGCAAGCTCTACGTCGGCGTGGGAGACCCTCACGCCGACCACAAGTGCTGGGAACGGCCTGAGGACATGGATACTGTTCGAACCGTATACTCTGTTTCTGCCGGGAACCCAGGATCGGATGTTGCCGGAGAGACCGCGGCCGCACTGGCCGCCGCGTCGTTGGTGTTCCGACGAGTTGATAGGAAGTATTCACGGGTGTTGCTGGCGACGGCGAAGAAGGTGATGGAATTTGCGTTGGAGCACCGTGGATCGTATAGTGATTCGCTTTCCTCTGCTGTTTGTCCTTTTTATTGCTCTTATTCCGGATATAAGGATGAATTGGTATGGGGAGCAGCATGGCTTCTAAGAGCAACAAATGATGTTAAATACTTCAATTTGTTGAAGTCATTGGGAGGTGATGATGTGACTGATATCTTTAGTTGGGACAACAAATTTGCTGGTGCTCATGTCCTTTTGGGGAGATTGATGTTCAAGTTGCCAGAAAGTAACCTCCAATATGTGACATCCATAACGTTTTTGCTCACCACATATTCCAAATACATGTCTGCAGCCAAACACACATTCAACTGTGGCAACCTTGTCGTTACTCCAGCTTCTCTGAAAAACCTTGCTAAGATTCAGGTGGATTATATATTAGGAGTGAACCCATTGAAAATGTCATACATGGTGGGATATGGAAAGAACTTCCCAAAGAGAATTCATCATAGAGGATCTTCGCTGCCTTCCAAGGCCACCCACCCTCAAGCTATTGCCTGCGATGGTGGCTTCCAACCCTTCTTCTATTCCTACAACCCCAACCCTAATATCTTAATTGGCGCTGTCGTCGGCGGCCCCAATCAAAGTGATGGCTTCCCTGACGATCGCACTGATTACAGCCACTCTGAACCTGCTACGTACATCAATGCTGCTCTTGTTGGACCTCTTGCATTCTTCTCGGGCAAACATTGA\",\n",
    "        \"external_id\": \"test_codon_opt\",\n",
    "        \"organism\": \"Homo sapiens\",\n",
    "        \"avoid_introducing\": [\"EcoRI\", \"XbaI\"],\n",
    "        \"optimization_start\": 3,\n",
    "        \"optimization_len\": 9,\n",
    "    }\n",
    "]\n",
    "b = twist._optimize_codons(config[\"twist\"], data)"
   ]
  },
  {
   "cell_type": "code",
   "execution_count": null,
   "metadata": {},
   "outputs": [],
   "source": [
    "b = twist.optimize_codons(config[\"twist\"], seqs, avoid_enzymes=[])"
   ]
  },
  {
   "cell_type": "code",
   "execution_count": null,
   "metadata": {},
   "outputs": [],
   "source": [
    "seqs = {\n",
    "    \"aaa5\": \"cgtctcggtctcaaatgaccggtcatccggatgttgcagaaattgcagatctggcagaaggtctgctgccgaccacccgtaccaccgaagttcgtcagcatctggaaagctgtgaactgtgtgcagatgtttatgcaagcctgacagaaattcagggtctgctgggtaccctgcctgcaccggcaccgatgcctgatgatgttgcagcacgtattgatgcagcactggcagcagaaccgccgctgggtattgcagatggcacccgtgttagccgtgaaaccagcaccccggcagatagacctgcaggtcatgcacgtcctagcagcaccggtcctggtcgtaaagatcgtcgtcgtggtggtcgtcgtcgtattgcagttctgggtgcagttgcagcagcagccgcaattggtattggtagcgttgttgttagcagcctgaccgaagatagcagcagcggtaataccgcacgtgaacagcagaccgcaattgcagatacctttagcgaaggtcgtctgaaagatcgtgttaccaatctggttgcagatggtagcgcagaaaatggtagccgtaccccgcgtagctttggtatggaaagcgaaaatggtggtgaaaccgcagaaaatcatgttttcaaacagccgaccgttccggaatgtattcgtaaaggtattggtcgtgatgatgcagttattgcaaccgaaccgggtgtttataaaggtcgtgaagcactgctggttgttctgccggatgcaaccaatgatacccaggttaccgcatatattgttgaaaccgcatgtgttgatcagccggcagttggtaaagcaaagattctgctggaacatagctatgcacgtagctaataaggttgagaccggagacg\",\n",
    "    \"bbb5\": \"cgtctcggtctcaaatgagcgatggtaatgatgcacgtccggatgcaagagatggtcatgacccgggtagcgacgcacgtgatggccatgatcctggtagccatgcacgtgacggtcatgatccgggtgcaggtccgtttgatggtcacggtcctggtagcgatgcaggcgatggtgatgatgcaggtccggatgcacgtgatggtcatggtgcaccagcaggtcctgcaggtcgtgaacagcgtaaacatccgcatgatacacatgatatgcatgatacccacgatacccatgcaggtaaaggtaccgttaatcatggtcctgcagcacagggtcctgatgcaccgggtgctgatggtcctgcaaccgatgaagcagcactgcgtgcaatgatgcagcgtgcagttcgtgaaatggaaccgagcgatggtaccctggaacatctgcgtcgtgcagttccggctcgtcgtgcacgtaaacgtcaggcactggttggtgcagcagcagccgcactgtttctgggtaccgcagttccggcactggttcatgttagcaatgctaccggtgcaggcgcagatccgagcgttgcaggtaatgcaagccaggcacagggtggtgcaagccagggtaaagatccggctggtggtcagagcggtgttgcaggtaccggtgatacccctgaagatcgtgataaagcagatccgaaagaaaccccgggtggtaaagaaccgggtgctgcaaccggtgcaccacctagtggtgttccgagtgcaagcagtccggcagatgttcctgcatgtgcacctggtagcttaggtccggcagttgcaagcagcgcagaaccggatagcaccggtgttgtttatggtagctttcgtgttaccaatgttagcagcgatggttgtaccgttaccggtccgggtaccgttgttaccgcaagcttaggtgcagcagaagcaacccgtattggtaccgcacgtcatgcagcaggcgatgcagcagcaggattaccggatcctagtctggaaaccgcaagcctggcattagcaccgggtgcagcatatgaagttcagtttgcatgggttccgagcgaaacctgtccgaccacaggtggtacaacaggtggtggcagcggtggtccgagtcctgatcctagtcctaccgcagataccacagcagcaggcggtaccagtgcaggcggtggtgaagcaggtcctacaacccagctgattaccgaagatggtccggcagaaggtagcgttagcgttacctataccccggaaggtggtagcggtagcgcaaccgcaaccgttagcaatgcatgtgcaggtaccgtttattggaccggtctgctggcagatagcggtagcggtgcataataaggttgagaccggagacg\",\n",
    "}"
   ]
  },
  {
   "cell_type": "code",
   "execution_count": null,
   "metadata": {},
   "outputs": [],
   "source": [
    "a = twist.score(config[\"twist\"], seqs)"
   ]
  },
  {
   "cell_type": "code",
   "execution_count": null,
   "metadata": {},
   "outputs": [],
   "source": [
    "a"
   ]
  },
  {
   "cell_type": "code",
   "execution_count": null,
   "metadata": {},
   "outputs": [],
   "source": [
    "ids = [c[\"id\"] for c in a]\n",
    "url = f\"{twist.API_URL}/v1/users/{config['twist']['ecommerce_username']}/constructs/describe/\"\n",
    "r = requests.get(\n",
    "    url,\n",
    "    json={\"id__in\": \"b17096ca-f4dd-48b9-af94-14ffda8b1301\", \"scored\": True},\n",
    "    # data={\"id__in\": \",\".join(ids)},\n",
    "    headers=twist.auth_headers(config[\"twist\"]),\n",
    ")\n",
    "(r.status_code, r.json())"
   ]
  },
  {
   "cell_type": "code",
   "execution_count": null,
   "metadata": {},
   "outputs": [],
   "source": [
    "ids = [c[\"id\"] for c in a]\n",
    "url = f\"{twist.API_URL}/v1/users/{config['twist']['ecommerce_username']}/constructs/describe/\"\n",
    "r = requests.get(\n",
    "    url,\n",
    "    json={\"id__in\": \",\".join(ids), \"scored\": True},\n",
    "    # data={\"id__in\": \",\".join(ids)},\n",
    "    headers=twist.auth_headers(config[\"twist\"]),\n",
    ")\n",
    "(r.status_code, r.json())"
   ]
  },
  {
   "cell_type": "code",
   "execution_count": null,
   "metadata": {},
   "outputs": [],
   "source": [
    "r = requests.get(\n",
    "    # \"https://twist-api.twistbioscience-staging.com/v1/users/paulssonlab@gmail.com/constructs/describe/\",\n",
    "    \"https://twist-api.twistbioscience-staging.com/v1/users/paulssonlab@gmail.com/constructs/describe/\",\n",
    "    params={\"id__in\": \",\".join(ids)},\n",
    "    headers=twist.auth_headers(config[\"twist\"]),\n",
    ")"
   ]
  },
  {
   "cell_type": "code",
   "execution_count": null,
   "metadata": {},
   "outputs": [],
   "source": [
    "r.json()"
   ]
  },
  {
   "cell_type": "code",
   "execution_count": null,
   "metadata": {},
   "outputs": [],
   "source": [
    "url"
   ]
  },
  {
   "cell_type": "markdown",
   "metadata": {},
   "source": [
    "## Scoring/codon optimization"
   ]
  },
  {
   "cell_type": "code",
   "execution_count": null,
   "metadata": {},
   "outputs": [],
   "source": [
    "test_seq1 = sigma_sequences_to_order[\"ECF03_1198\"]\n",
    "test_seq2 = sigma_sequences_to_order[\"ECF11_987\"]"
   ]
  },
  {
   "cell_type": "code",
   "execution_count": null,
   "metadata": {},
   "outputs": [],
   "source": [
    "data = [\n",
    "    {\n",
    "        \"sequences\": [v],\n",
    "        \"name\": k,\n",
    "        \"type\": \"NON_CLONED_GENE\",\n",
    "        \"insertion_point_mes_uid\": \"na\",\n",
    "        \"vector_mes_uid\": \"na\",\n",
    "    }\n",
    "    for k, v in sigma_sequences_to_order.items()\n",
    "]"
   ]
  },
  {
   "cell_type": "code",
   "execution_count": null,
   "metadata": {},
   "outputs": [],
   "source": [
    "data = [\n",
    "    {\n",
    "        # \"sequences\": [test_seq1],\n",
    "        \"name\": \"test1\",\n",
    "        # \"type\": \"NON_CLONED_GENE\",\n",
    "        # \"insertion_point_mes_uid\": \"na\",\n",
    "        # \"vector_mes_uid\": \"na\",\n",
    "    }\n",
    "]"
   ]
  },
  {
   "cell_type": "code",
   "execution_count": null,
   "metadata": {},
   "outputs": [],
   "source": [
    "data = [\n",
    "    {\n",
    "        \"sequences\": [\n",
    "            \"GAAGCAAAGAAAGATCAAAGGTGGGTAGCTGCAATGGAGGAGGAGTTGTCAATGATAGAAAAGAACAAAACTTGGATCCTTGTTGACAAACCTCAAGACATTAAGGTAATTGGAGTTAAATGGGTGTTTAGAACCAAGCTTAATGCTGATGGCTCGATTAATTAAGCTCAAAGCCAGGGTTATGGTTAAAGGGTATGCTCAAATCTTTAGTATTGATTGCACTGACACTTTTGCTCCTGTTGCTAGAATGGACAAAATCTGGTTATTGTTTGTAATAACTGCATAAAAGAGCTGGAAATTGTTTCAGTTGGATGTCAAATCAACTTTTTTAAATGGTGTCTTATAAGAAGAAATTTATGTTGAGCAGCCCGAAGGATGTGAGAAGCAAGGTGAAGGAAATAAAGTCTATCCTTCTCAAGAAGGCTCTTTATGGTCTAAAACAAGCTCCAAGAGCTTGGTATAGCAAAATTGATGAACATTTACTGAGCTTGGGATTTGTGAAAAGTCTATCAGAAACAAACTTGTATGTCAAGCACAATGGTACTGACATTCTTATTATTTCACTGTATGTTGATGACCTAGTAGTTATAGGAAACAATGCAGATCATATTCAAAATTTCAAATGGAAGATGATGAAGTTGTTTGAATGATAGATCTTGGGCTCATGTCCTACTTCCTTGGCATAGAGATCAAGCAAGGGCAAGGTGAAGTTTTCATCTACCAAAAAAATATGCAAAGGAAATACTAAAGAAGTTTAAGATGGACGAATGTAAGGCAGTAAGCACTCTAAAATGAATCAAAAAGAGAAGTTGTGCAAGGAAGATGGTGCTAACAAATTAAAGTTAATGACGGATATTTCAAGAGTTTAATTGGTTGCATGATATGTATCTCACAGCAACAAAGCCTAATATTTTGAATGTTGTGAGTATTTTGTCTCGTTTCATGCATTGTGCAAGTGAATTACATCTCAAGACAGCCAAAAGAGTGATTCGATATGTGAAAGGCACAAGTGATTTTGGTGTTAAGTTCACAAGGGGCAAGGAGTACTTCAAGCTAATTGGTTTTTCTAATAATGATTGGGGAGGTTCAGTTGATGATATGAGAAGCACTTCAGGCTACTGTTTTACTCTTGGCTCTGGTATTTTCTCTTGGAGCTCGAAGAAGCAAGAAATTGTAGCCCAATCCACTACTGAAGCAGAATTTATTGCTGCAATAGCTACTGCTAATCAAGCTTTATGGCCGAGGGAAATTTTACTTGATCTCAATCTAGAGCAGAAGGAAAGCATAGAGATTCTTGTTGATAACAAAGCTGCTATTGCTATTTCCCATAATCCTATGTTTTATAAGAAGACTAGATATTTTCACATCAAGTTATTCTTCCTAAGGTAAAAGCAGAAAAATGGAGAGGTGATCCTTGTCTGTCTACTGCAAAACAGAAGATCAAACCAGACATATTAACTAAATCGTT\"\n",
    "        ],\n",
    "        \"name\": \"LTR_3\",\n",
    "        \"type\": \"NON_CLONED_GENE\",\n",
    "        \"insertion_point_mes_uid\": \"na\",\n",
    "        \"vector_mes_uid\": \"na\",\n",
    "    }\n",
    "]"
   ]
  },
  {
   "cell_type": "code",
   "execution_count": null,
   "metadata": {},
   "outputs": [],
   "source": [
    "data = [\n",
    "    {\n",
    "        \"owner_contact\": \"string\",\n",
    "        \"type\": \"string\",\n",
    "        \"notes\": \"string\",\n",
    "        \"name\": \"string\",\n",
    "        \"sequences\": {},\n",
    "        \"vector_mes_uid\": \"string\",\n",
    "        \"vector_type\": \"string\",\n",
    "        \"insertion_point_mes_uid\": \"string\",\n",
    "        \"plate\": 0,\n",
    "        \"row\": 0,\n",
    "        \"column\": 0,\n",
    "        \"adapters_on\": True,\n",
    "        \"external_id\": \"string\",\n",
    "        \"catalog_id\": \"string\",\n",
    "        \"production_data\": {},\n",
    "        \"product_code\": \"string\",\n",
    "    }\n",
    "]"
   ]
  },
  {
   "cell_type": "code",
   "execution_count": null,
   "metadata": {},
   "outputs": [],
   "source": [
    "r = requests.post(\n",
    "    \"https://twist-api.twistbioscience-staging.com/v1/users/paulssonlab@gmail.com/constructs/\",\n",
    "    data=dict(data=data),\n",
    "    headers=TWIST_AUTHENTICATION_HEADERS,\n",
    ")\n",
    "(r.status_code, r.content)\n",
    "# assert resp.status_code == 201"
   ]
  },
  {
   "cell_type": "code",
   "execution_count": null,
   "metadata": {},
   "outputs": [],
   "source": [
    "ids = [construct[\"id\"] for construct in json.loads(resp.content)][:500]\n",
    "MAX_SLEEP_CYCLES = 60\n",
    "for i in range(0, MAX_SLEEP_CYCLES):\n",
    "    r = requests.get(\n",
    "        \"/v1/users/paulssonlab@gmail.com/constructs/describe/\",\n",
    "        data={\"id__in\": \",\".join(ids), \"scored\": True},\n",
    "    )\n",
    "    scored_constructs = r.json()\n",
    "    if len(scored_constructs) == len(ids):\n",
    "        break\n",
    "    time.sleep(5)"
   ]
  },
  {
   "cell_type": "code",
   "execution_count": null,
   "metadata": {},
   "outputs": [],
   "source": [
    "import requests, time, json\n",
    "\n",
    "tapi_headers = {\n",
    "    \"Authorization\": \"JWT \" + settings.API_CLIENT_TOKEN,\n",
    "    \"X-End-User-Token\": settings.END_USER_TOKEN,\n",
    "}\n",
    "resp = requests.post(\n",
    "    \"/v1/users/myuser@mycompanydomain.com/constructs/\",\n",
    "    data=[\n",
    "        {\n",
    "            \"sequences\": [\n",
    "                \"GAAGCAAAGAAAGATCAAAGGTGGGTAGCTGCAATGGAGGAGGAGTTGTCAATGATAGAAAAGAACAAAACTTGGATCCTTGTTGACAAACCTCAAGACATTAAGGTAATTGGAGTTAAATGGGTGTTTAGAACCAAGCTTAATGCTGATGGCTCGATTAATTAAGCTCAAAGCCAGGGTTATGGTTAAAGGGTATGCTCAAATCTTTAGTATTGATTGCACTGACACTTTTGCTCCTGTTGCTAGAATGGACAAAATCTGGTTATTGTTTGTAATAACTGCATAAAAGAGCTGGAAATTGTTTCAGTTGGATGTCAAATCAACTTTTTTAAATGGTGTCTTATAAGAAGAAATTTATGTTGAGCAGCCCGAAGGATGTGAGAAGCAAGGTGAAGGAAATAAAGTCTATCCTTCTCAAGAAGGCTCTTTATGGTCTAAAACAAGCTCCAAGAGCTTGGTATAGCAAAATTGATGAACATTTACTGAGCTTGGGATTTGTGAAAAGTCTATCAGAAACAAACTTGTATGTCAAGCACAATGGTACTGACATTCTTATTATTTCACTGTATGTTGATGACCTAGTAGTTATAGGAAACAATGCAGATCATATTCAAAATTTCAAATGGAAGATGATGAAGTTGTTTGAATGATAGATCTTGGGCTCATGTCCTACTTCCTTGGCATAGAGATCAAGCAAGGGCAAGGTGAAGTTTTCATCTACCAAAAAAATATGCAAAGGAAATACTAAAGAAGTTTAAGATGGACGAATGTAAGGCAGTAAGCACTCTAAAATGAATCAAAAAGAGAAGTTGTGCAAGGAAGATGGTGCTAACAAATTAAAGTTAATGACGGATATTTCAAGAGTTTAATTGGTTGCATGATATGTATCTCACAGCAACAAAGCCTAATATTTTGAATGTTGTGAGTATTTTGTCTCGTTTCATGCATTGTGCAAGTGAATTACATCTCAAGACAGCCAAAAGAGTGATTCGATATGTGAAAGGCACAAGTGATTTTGGTGTTAAGTTCACAAGGGGCAAGGAGTACTTCAAGCTAATTGGTTTTTCTAATAATGATTGGGGAGGTTCAGTTGATGATATGAGAAGCACTTCAGGCTACTGTTTTACTCTTGGCTCTGGTATTTTCTCTTGGAGCTCGAAGAAGCAAGAAATTGTAGCCCAATCCACTACTGAAGCAGAATTTATTGCTGCAATAGCTACTGCTAATCAAGCTTTATGGCCGAGGGAAATTTTACTTGATCTCAATCTAGAGCAGAAGGAAAGCATAGAGATTCTTGTTGATAACAAAGCTGCTATTGCTATTTCCCATAATCCTATGTTTTATAAGAAGACTAGATATTTTCACATCAAGTTATTCTTCCTAAGGTAAAAGCAGAAAAATGGAGAGGTGATCCTTGTCTGTCTACTGCAAAACAGAAGATCAAACCAGACATATTAACTAAATCGTT\"\n",
    "            ],\n",
    "            \"name\": \"LTR_3\",\n",
    "            \"type\": \"NON_CLONED_GENE\",\n",
    "            \"insertion_point_mes_uid\": \"na\",\n",
    "            \"vector_mes_uid\": \"na\",\n",
    "        }\n",
    "    ],\n",
    "    headers=TWIST_AUTHENTICATION_HEADERS,\n",
    ")\n",
    "assert resp.status_code == 201\n",
    "ids = [construct[\"id\"] for construct in json.loads(resp.content)][:500]\n",
    "MAX_SLEEP_CYCLES = 60\n",
    "for i in range(0, MAX_SLEEP_CYCLES):\n",
    "    resp = requests.get(\n",
    "        \"/v1/users/myuser@mycompanydomain.com/constructs/describe/\",\n",
    "        data={\"id__in\": \",\".join(ids), \"scored\": True},\n",
    "    )\n",
    "    scored_constructs = json.loads(resp.content)\n",
    "    if len(scored_constructs) == ids:\n",
    "        break\n",
    "    time.sleep(5)"
   ]
  },
  {
   "cell_type": "markdown",
   "metadata": {},
   "source": [
    "## Past orders"
   ]
  },
  {
   "cell_type": "code",
   "execution_count": null,
   "metadata": {},
   "outputs": [],
   "source": [
    "r = requests.get(\n",
    "    \"https://twist-api.twistbioscience-staging.com/v1/users/paulssonlab@gmail.com/orders/\",\n",
    "    headers=TWIST_AUTHENTICATION_HEADERS,\n",
    ")\n",
    "orders = r.json()"
   ]
  },
  {
   "cell_type": "code",
   "execution_count": null,
   "metadata": {},
   "outputs": [],
   "source": [
    "[(o[\"order_name\"], o[\"project_name\"]) for o in orders]"
   ]
  },
  {
   "cell_type": "markdown",
   "metadata": {},
   "source": [
    "## Twist debugging"
   ]
  },
  {
   "cell_type": "code",
   "execution_count": null,
   "metadata": {},
   "outputs": [],
   "source": [
    "# copied from swagger docs for POST /v1/users/{email}/constructs/\n",
    "resp = requests.post(\n",
    "    \"https://twist-api.twistbioscience-staging.com/v1/users/paulssonlab@gmail.com/constructs/\",\n",
    "    json=[\n",
    "        {\n",
    "            \"sequences\": [\n",
    "                \"GAAGCAAAGAAAGATCAAAGGTGGGTAGCTGCAATGGAGGAGGAGTTGTCAATGATAGAAAAGAACAAAACTTGGATCCTTGTTGACAAACCTCAAGACATTAAGGTAATTGGAGTTAAATGGGTGTTTAGAACCAAGCTTAATGCTGATGGCTCGATTAATTAAGCTCAAAGCCAGGGTTATGGTTAAAGGGTATGCTCAAATCTTTAGTATTGATTGCACTGACACTTTTGCTCCTGTTGCTAGAATGGACAAAATCTGGTTATTGTTTGTAATAACTGCATAAAAGAGCTGGAAATTGTTTCAGTTGGATGTCAAATCAACTTTTTTAAATGGTGTCTTATAAGAAGAAATTTATGTTGAGCAGCCCGAAGGATGTGAGAAGCAAGGTGAAGGAAATAAAGTCTATCCTTCTCAAGAAGGCTCTTTATGGTCTAAAACAAGCTCCAAGAGCTTGGTATAGCAAAATTGATGAACATTTACTGAGCTTGGGATTTGTGAAAAGTCTATCAGAAACAAACTTGTATGTCAAGCACAATGGTACTGACATTCTTATTATTTCACTGTATGTTGATGACCTAGTAGTTATAGGAAACAATGCAGATCATATTCAAAATTTCAAATGGAAGATGATGAAGTTGTTTGAATGATAGATCTTGGGCTCATGTCCTACTTCCTTGGCATAGAGATCAAGCAAGGGCAAGGTGAAGTTTTCATCTACCAAAAAAATATGCAAAGGAAATACTAAAGAAGTTTAAGATGGACGAATGTAAGGCAGTAAGCACTCTAAAATGAATCAAAAAGAGAAGTTGTGCAAGGAAGATGGTGCTAACAAATTAAAGTTAATGACGGATATTTCAAGAGTTTAATTGGTTGCATGATATGTATCTCACAGCAACAAAGCCTAATATTTTGAATGTTGTGAGTATTTTGTCTCGTTTCATGCATTGTGCAAGTGAATTACATCTCAAGACAGCCAAAAGAGTGATTCGATATGTGAAAGGCACAAGTGATTTTGGTGTTAAGTTCACAAGGGGCAAGGAGTACTTCAAGCTAATTGGTTTTTCTAATAATGATTGGGGAGGTTCAGTTGATGATATGAGAAGCACTTCAGGCTACTGTTTTACTCTTGGCTCTGGTATTTTCTCTTGGAGCTCGAAGAAGCAAGAAATTGTAGCCCAATCCACTACTGAAGCAGAATTTATTGCTGCAATAGCTACTGCTAATCAAGCTTTATGGCCGAGGGAAATTTTACTTGATCTCAATCTAGAGCAGAAGGAAAGCATAGAGATTCTTGTTGATAACAAAGCTGCTATTGCTATTTCCCATAATCCTATGTTTTATAAGAAGACTAGATATTTTCACATCAAGTTATTCTTCCTAAGGTAAAAGCAGAAAAATGGAGAGGTGATCCTTGTCTGTCTACTGCAAAACAGAAGATCAAACCAGACATATTAACTAAATCGTT\"\n",
    "            ],\n",
    "            \"name\": \"LTR_3\",\n",
    "            \"type\": \"NON_CLONED_GENE\",\n",
    "            \"insertion_point_mes_uid\": \"na\",\n",
    "            \"vector_mes_uid\": \"na\",\n",
    "        }\n",
    "    ],\n",
    "    headers=twist.auth_headers(config[\"twist\"]),\n",
    ")\n",
    "resp.content"
   ]
  },
  {
   "cell_type": "code",
   "execution_count": null,
   "metadata": {},
   "outputs": [],
   "source": [
    "# copied from swagger docs for POST /v1/users/{email}/codon-optimizations/\n",
    "resp = requests.post(\n",
    "    \"https://twist-api.twistbioscience-staging.com/v1/users/paulssonlab@gmail.com/codon-optimizations/\",\n",
    "    json=[\n",
    "        {\n",
    "            \"sequence\": \"ATGGCTTCTCCCATCTCAAATTCTTCTTCAACTCTCTACAGCTTATTTTTCTTTGGCCTCTTGCTTTCATTTTCGTTTGCTGGTCGTGCTCGAGCTAACCCCAATTACCGAGACGCCTTGGCTAAGTCGATATTGTTTTTTGAAGGACAACGCTCCGGTAGGATCCCGGCTAACCAACGGATCACTTGGAGGTCCAACTCCGGCCTCTACGATGGTGAACTTGCTCATGTGGATTTAACCGGCGGCTACTACGACGCCGGCGACAATGTAAAATTCAATCTTCCGATGGCTTTCACAACCACAATGCTTTCATGGGGAGCACTCGAGTACGGGGCGCGTATGGGTAGCGAATTAGGCAACACACGGGCCGCCATCCGTTGGGCCACCGATTACCTTCTCAAGTGCGCGACCGCCACTCCAGGCAAGCTCTACGTCGGCGTGGGAGACCCTCACGCCGACCACAAGTGCTGGGAACGGCCTGAGGACATGGATACTGTTCGAACCGTATACTCTGTTTCTGCCGGGAACCCAGGATCGGATGTTGCCGGAGAGACCGCGGCCGCACTGGCCGCCGCGTCGTTGGTGTTCCGACGAGTTGATAGGAAGTATTCACGGGTGTTGCTGGCGACGGCGAAGAAGGTGATGGAATTTGCGTTGGAGCACCGTGGATCGTATAGTGATTCGCTTTCCTCTGCTGTTTGTCCTTTTTATTGCTCTTATTCCGGATATAAGGATGAATTGGTATGGGGAGCAGCATGGCTTCTAAGAGCAACAAATGATGTTAAATACTTCAATTTGTTGAAGTCATTGGGAGGTGATGATGTGACTGATATCTTTAGTTGGGACAACAAATTTGCTGGTGCTCATGTCCTTTTGGGGAGATTGATGTTCAAGTTGCCAGAAAGTAACCTCCAATATGTGACATCCATAACGTTTTTGCTCACCACATATTCCAAATACATGTCTGCAGCCAAACACACATTCAACTGTGGCAACCTTGTCGTTACTCCAGCTTCTCTGAAAAACCTTGCTAAGATTCAGGTGGATTATATATTAGGAGTGAACCCATTGAAAATGTCATACATGGTGGGATATGGAAAGAACTTCCCAAAGAGAATTCATCATAGAGGATCTTCGCTGCCTTCCAAGGCCACCCACCCTCAAGCTATTGCCTGCGATGGTGGCTTCCAACCCTTCTTCTATTCCTACAACCCCAACCCTAATATCTTAATTGGCGCTGTCGTCGGCGGCCCCAATCAAAGTGATGGCTTCCCTGACGATCGCACTGATTACAGCCACTCTGAACCTGCTACGTACATCAATGCTGCTCTTGTTGGACCTCTTGCATTCTTCTCGGGCAAACATTGA\",\n",
    "            \"external_id\": \"test_codon_opt\",\n",
    "            \"organism\": \"Homo sapiens\",\n",
    "            \"avoid_introducing\": [\"EcoRI\", \"XbaI\"],\n",
    "            \"optimization_start\": 3,\n",
    "            \"optimization_len\": 9,\n",
    "        }\n",
    "    ],\n",
    "    headers=TWIST_AUTHENTICATION_HEADERS,\n",
    ")\n",
    "resp.content"
   ]
  },
  {
   "cell_type": "code",
   "execution_count": null,
   "metadata": {},
   "outputs": [],
   "source": [
    "# copied from swagger docs for POST /v1/users/{email}/codon-optimizations/\n",
    "resp = requests.post(\n",
    "    \"https://twist-api.twistbioscience-staging.com/v1/users/paulssonlab@gmail.com/codon-optimizations/\",\n",
    "    json=[\n",
    "        {\n",
    "            \"sequence\": \"ATGGCTTCTCCCATCTCAAATTCTTCTTCAACTCTCTACAGCTTATTTTTCTTTGGCCTCTTGCTTTCATTTTCGTTTGCTGGTCGTGCTCGAGCTAACCCCAATTACCGAGACGCCTTGGCTAAGTCGATATTGTTTTTTGAAGGACAACGCTCCGGTAGGATCCCGGCTAACCAACGGATCACTTGGAGGTCCAACTCCGGCCTCTACGATGGTGAACTTGCTCATGTGGATTTAACCGGCGGCTACTACGACGCCGGCGACAATGTAAAATTCAATCTTCCGATGGCTTTCACAACCACAATGCTTTCATGGGGAGCACTCGAGTACGGGGCGCGTATGGGTAGCGAATTAGGCAACACACGGGCCGCCATCCGTTGGGCCACCGATTACCTTCTCAAGTGCGCGACCGCCACTCCAGGCAAGCTCTACGTCGGCGTGGGAGACCCTCACGCCGACCACAAGTGCTGGGAACGGCCTGAGGACATGGATACTGTTCGAACCGTATACTCTGTTTCTGCCGGGAACCCAGGATCGGATGTTGCCGGAGAGACCGCGGCCGCACTGGCCGCCGCGTCGTTGGTGTTCCGACGAGTTGATAGGAAGTATTCACGGGTGTTGCTGGCGACGGCGAAGAAGGTGATGGAATTTGCGTTGGAGCACCGTGGATCGTATAGTGATTCGCTTTCCTCTGCTGTTTGTCCTTTTTATTGCTCTTATTCCGGATATAAGGATGAATTGGTATGGGGAGCAGCATGGCTTCTAAGAGCAACAAATGATGTTAAATACTTCAATTTGTTGAAGTCATTGGGAGGTGATGATGTGACTGATATCTTTAGTTGGGACAACAAATTTGCTGGTGCTCATGTCCTTTTGGGGAGATTGATGTTCAAGTTGCCAGAAAGTAACCTCCAATATGTGACATCCATAACGTTTTTGCTCACCACATATTCCAAATACATGTCTGCAGCCAAACACACATTCAACTGTGGCAACCTTGTCGTTACTCCAGCTTCTCTGAAAAACCTTGCTAAGATTCAGGTGGATTATATATTAGGAGTGAACCCATTGAAAATGTCATACATGGTGGGATATGGAAAGAACTTCCCAAAGAGAATTCATCATAGAGGATCTTCGCTGCCTTCCAAGGCCACCCACCCTCAAGCTATTGCCTGCGATGGTGGCTTCCAACCCTTCTTCTATTCCTACAACCCCAACCCTAATATCTTAATTGGCGCTGTCGTCGGCGGCCCCAATCAAAGTGATGGCTTCCCTGACGATCGCACTGATTACAGCCACTCTGAACCTGCTACGTACATCAATGCTGCTCTTGTTGGACCTCTTGCATTCTTCTCGGGCAAACATTGA\",\n",
    "            \"external_id\": \"test_codon_opt\",\n",
    "            \"organism\": \"Homo sapiens\",\n",
    "            \"avoid_introducing\": [\"EcoRI\", \"XbaI\"],\n",
    "            \"optimization_start\": 3,\n",
    "            \"optimization_len\": 9,\n",
    "        }\n",
    "    ],\n",
    "    headers=TWIST_AUTHENTICATION_HEADERS,\n",
    ")\n",
    "resp.content"
   ]
  },
  {
   "cell_type": "code",
   "execution_count": null,
   "metadata": {},
   "outputs": [],
   "source": [
    "# copied from swagger docs for POST /v1/users/{email}/constructs/\n",
    "resp = requests.post(\n",
    "    \"https://twist-api.twistbioscience-staging.com/v1/users/paulssonlab@gmail.com/constructs/\",\n",
    "    data=dict(\n",
    "        data=[\n",
    "            {\n",
    "                \"sequences\": [\n",
    "                    \"GAAGCAAAGAAAGATCAAAGGTGGGTAGCTGCAATGGAGGAGGAGTTGTCAATGATAGAAAAGAACAAAACTTGGATCCTTGTTGACAAACCTCAAGACATTAAGGTAATTGGAGTTAAATGGGTGTTTAGAACCAAGCTTAATGCTGATGGCTCGATTAATTAAGCTCAAAGCCAGGGTTATGGTTAAAGGGTATGCTCAAATCTTTAGTATTGATTGCACTGACACTTTTGCTCCTGTTGCTAGAATGGACAAAATCTGGTTATTGTTTGTAATAACTGCATAAAAGAGCTGGAAATTGTTTCAGTTGGATGTCAAATCAACTTTTTTAAATGGTGTCTTATAAGAAGAAATTTATGTTGAGCAGCCCGAAGGATGTGAGAAGCAAGGTGAAGGAAATAAAGTCTATCCTTCTCAAGAAGGCTCTTTATGGTCTAAAACAAGCTCCAAGAGCTTGGTATAGCAAAATTGATGAACATTTACTGAGCTTGGGATTTGTGAAAAGTCTATCAGAAACAAACTTGTATGTCAAGCACAATGGTACTGACATTCTTATTATTTCACTGTATGTTGATGACCTAGTAGTTATAGGAAACAATGCAGATCATATTCAAAATTTCAAATGGAAGATGATGAAGTTGTTTGAATGATAGATCTTGGGCTCATGTCCTACTTCCTTGGCATAGAGATCAAGCAAGGGCAAGGTGAAGTTTTCATCTACCAAAAAAATATGCAAAGGAAATACTAAAGAAGTTTAAGATGGACGAATGTAAGGCAGTAAGCACTCTAAAATGAATCAAAAAGAGAAGTTGTGCAAGGAAGATGGTGCTAACAAATTAAAGTTAATGACGGATATTTCAAGAGTTTAATTGGTTGCATGATATGTATCTCACAGCAACAAAGCCTAATATTTTGAATGTTGTGAGTATTTTGTCTCGTTTCATGCATTGTGCAAGTGAATTACATCTCAAGACAGCCAAAAGAGTGATTCGATATGTGAAAGGCACAAGTGATTTTGGTGTTAAGTTCACAAGGGGCAAGGAGTACTTCAAGCTAATTGGTTTTTCTAATAATGATTGGGGAGGTTCAGTTGATGATATGAGAAGCACTTCAGGCTACTGTTTTACTCTTGGCTCTGGTATTTTCTCTTGGAGCTCGAAGAAGCAAGAAATTGTAGCCCAATCCACTACTGAAGCAGAATTTATTGCTGCAATAGCTACTGCTAATCAAGCTTTATGGCCGAGGGAAATTTTACTTGATCTCAATCTAGAGCAGAAGGAAAGCATAGAGATTCTTGTTGATAACAAAGCTGCTATTGCTATTTCCCATAATCCTATGTTTTATAAGAAGACTAGATATTTTCACATCAAGTTATTCTTCCTAAGGTAAAAGCAGAAAAATGGAGAGGTGATCCTTGTCTGTCTACTGCAAAACAGAAGATCAAACCAGACATATTAACTAAATCGTT\"\n",
    "                ],\n",
    "                \"name\": \"LTR_3\",\n",
    "                \"type\": \"NON_CLONED_GENE\",\n",
    "                \"insertion_point_mes_uid\": \"na\",\n",
    "                \"vector_mes_uid\": \"na\",\n",
    "            }\n",
    "        ]\n",
    "    ),\n",
    "    headers=TWIST_AUTHENTICATION_HEADERS,\n",
    ")\n",
    "resp.content"
   ]
  },
  {
   "cell_type": "code",
   "execution_count": null,
   "metadata": {},
   "outputs": [],
   "source": [
    "# copied from swagger docs for POST /v1/users/{email}/codon-optimizations/\n",
    "resp = requests.post(\n",
    "    \"https://twist-api.twistbioscience-staging.com/v1/users/paulssonlab@gmail.com/codon-optimizations/\",\n",
    "    data=dict(\n",
    "        data=[\n",
    "            {\n",
    "                \"sequence\": \"ATGGCTTCTCCCATCTCAAATTCTTCTTCAACTCTCTACAGCTTATTTTTCTTTGGCCTCTTGCTTTCATTTTCGTTTGCTGGTCGTGCTCGAGCTAACCCCAATTACCGAGACGCCTTGGCTAAGTCGATATTGTTTTTTGAAGGACAACGCTCCGGTAGGATCCCGGCTAACCAACGGATCACTTGGAGGTCCAACTCCGGCCTCTACGATGGTGAACTTGCTCATGTGGATTTAACCGGCGGCTACTACGACGCCGGCGACAATGTAAAATTCAATCTTCCGATGGCTTTCACAACCACAATGCTTTCATGGGGAGCACTCGAGTACGGGGCGCGTATGGGTAGCGAATTAGGCAACACACGGGCCGCCATCCGTTGGGCCACCGATTACCTTCTCAAGTGCGCGACCGCCACTCCAGGCAAGCTCTACGTCGGCGTGGGAGACCCTCACGCCGACCACAAGTGCTGGGAACGGCCTGAGGACATGGATACTGTTCGAACCGTATACTCTGTTTCTGCCGGGAACCCAGGATCGGATGTTGCCGGAGAGACCGCGGCCGCACTGGCCGCCGCGTCGTTGGTGTTCCGACGAGTTGATAGGAAGTATTCACGGGTGTTGCTGGCGACGGCGAAGAAGGTGATGGAATTTGCGTTGGAGCACCGTGGATCGTATAGTGATTCGCTTTCCTCTGCTGTTTGTCCTTTTTATTGCTCTTATTCCGGATATAAGGATGAATTGGTATGGGGAGCAGCATGGCTTCTAAGAGCAACAAATGATGTTAAATACTTCAATTTGTTGAAGTCATTGGGAGGTGATGATGTGACTGATATCTTTAGTTGGGACAACAAATTTGCTGGTGCTCATGTCCTTTTGGGGAGATTGATGTTCAAGTTGCCAGAAAGTAACCTCCAATATGTGACATCCATAACGTTTTTGCTCACCACATATTCCAAATACATGTCTGCAGCCAAACACACATTCAACTGTGGCAACCTTGTCGTTACTCCAGCTTCTCTGAAAAACCTTGCTAAGATTCAGGTGGATTATATATTAGGAGTGAACCCATTGAAAATGTCATACATGGTGGGATATGGAAAGAACTTCCCAAAGAGAATTCATCATAGAGGATCTTCGCTGCCTTCCAAGGCCACCCACCCTCAAGCTATTGCCTGCGATGGTGGCTTCCAACCCTTCTTCTATTCCTACAACCCCAACCCTAATATCTTAATTGGCGCTGTCGTCGGCGGCCCCAATCAAAGTGATGGCTTCCCTGACGATCGCACTGATTACAGCCACTCTGAACCTGCTACGTACATCAATGCTGCTCTTGTTGGACCTCTTGCATTCTTCTCGGGCAAACATTGA\",\n",
    "                \"external_id\": \"test_codon_opt\",\n",
    "                \"organism\": \"Homo sapiens\",\n",
    "                \"avoid_introducing\": [\"EcoRI\", \"XbaI\"],\n",
    "                \"optimization_start\": 3,\n",
    "                \"optimization_len\": 9,\n",
    "            }\n",
    "        ]\n",
    "    ),\n",
    "    headers=TWIST_AUTHENTICATION_HEADERS,\n",
    ")\n",
    "resp.content"
   ]
  }
 ],
 "metadata": {
  "kernelspec": {
   "display_name": "Python 3",
   "language": "python",
   "name": "python3"
  },
  "language_info": {
   "codemirror_mode": {
    "name": "ipython",
    "version": 3
   },
   "file_extension": ".py",
   "mimetype": "text/x-python",
   "name": "python",
   "nbconvert_exporter": "python",
   "pygments_lexer": "ipython3",
   "version": "3.8.6"
  }
 },
 "nbformat": 4,
 "nbformat_minor": 4
}
