{
 "cells": [
  {
   "cell_type": "code",
   "execution_count": null,
   "metadata": {},
   "outputs": [],
   "source": [
    "import pandas as pd\n",
    "import holoviews as hv\n",
    "import hvplot.pandas\n",
    "import matplotlib.pyplot as plt\n",
    "import seaborn as sns\n",
    "import toml\n",
    "import re\n",
    "import urllib\n",
    "from datetime import datetime\n",
    "import string\n",
    "import pygsheets\n",
    "import requests\n",
    "from tqdm.auto import tqdm\n",
    "import Bio.Restriction as Restriction\n",
    "from Bio.Seq import Seq\n",
    "from Bio.SeqRecord import SeqRecord\n",
    "import benchlingapi"
   ]
  },
  {
   "cell_type": "code",
   "execution_count": null,
   "metadata": {},
   "outputs": [],
   "source": [
    "%load_ext autoreload\n",
    "%autoreload 2"
   ]
  },
  {
   "cell_type": "code",
   "execution_count": null,
   "metadata": {},
   "outputs": [],
   "source": [
    "import paulssonlab.api as api\n",
    "from paulssonlab.api.util import base_url\n",
    "import paulssonlab.cloning.workflow as workflow\n",
    "import paulssonlab.cloning.util as cloning_util\n",
    "import paulssonlab.cloning.sequence as sequence\n",
    "import paulssonlab.cloning.golden_gate as golden_gate\n",
    "import paulssonlab.cloning.codon as codon\n",
    "import paulssonlab.cloning.optimization as optimization"
   ]
  },
  {
   "cell_type": "code",
   "execution_count": null,
   "metadata": {},
   "outputs": [],
   "source": [
    "hv.extension(\"bokeh\")"
   ]
  },
  {
   "cell_type": "markdown",
   "metadata": {},
   "source": [
    "# Setup"
   ]
  },
  {
   "cell_type": "code",
   "execution_count": null,
   "metadata": {},
   "outputs": [],
   "source": [
    "config = toml.load(\"config.toml\")"
   ]
  },
  {
   "cell_type": "code",
   "execution_count": null,
   "metadata": {},
   "outputs": [],
   "source": [
    "session = benchlingapi.Session(config[\"benchling\"][\"api_key\"])"
   ]
  },
  {
   "cell_type": "code",
   "execution_count": null,
   "metadata": {},
   "outputs": [],
   "source": [
    "gc = pygsheets.authorize(service_account_file=\"credentials.json\")"
   ]
  },
  {
   "cell_type": "code",
   "execution_count": null,
   "metadata": {},
   "outputs": [],
   "source": [
    "col = workflow.get_strain_collection_sheets(gc.drive.service, \"LIB\")\n",
    "col"
   ]
  },
  {
   "cell_type": "code",
   "execution_count": null,
   "metadata": {},
   "outputs": [],
   "source": [
    "strain_sheet = gc.open_by_key(col[\"strains\"]).worksheet()\n",
    "plasmid_sheet = gc.open_by_key(col[\"plasmids\"]).worksheet()\n",
    "part_sheet = gc.open_by_key(col[\"parts\"]).worksheet()\n",
    "part_type_sheet = gc.open_by_key(col[\"parts\"]).worksheet_by_title(\"Part types\")"
   ]
  },
  {
   "cell_type": "code",
   "execution_count": null,
   "metadata": {},
   "outputs": [],
   "source": [
    "drive_service = plasmid_sheet.client.drive.service\n",
    "plasmid_folder = col[\"plasmid_maps\"]\n",
    "plasmid_maps = api.google.list_drive(drive_service, root=plasmid_folder)"
   ]
  },
  {
   "cell_type": "markdown",
   "metadata": {},
   "source": [
    "# 2017 Khammash OptoT7"
   ]
  },
  {
   "cell_type": "code",
   "execution_count": null,
   "metadata": {},
   "outputs": [],
   "source": [
    "PLASMID_MAPS_FOLDER = \"1gpbR9Njm73enshW_U4TN7xbwqgRN-tOo\"\n",
    "\n",
    "\n",
    "def get_plib(service, name, root):\n",
    "    seq_file = api.google.get_drive_by_path(service, name, root=root)\n",
    "    data = service.files().get_media(fileId=seq_file).execute().decode(\"utf8\")\n",
    "    seq = api.read_sequence(data)\n",
    "    return seq"
   ]
  },
  {
   "cell_type": "code",
   "execution_count": null,
   "metadata": {},
   "outputs": [],
   "source": [
    "seq = get_plib(gc.drive.service, \"pLIB252.gbk\", PLASMID_MAPS_FOLDER)"
   ]
  },
  {
   "cell_type": "code",
   "execution_count": null,
   "metadata": {},
   "outputs": [],
   "source": [
    "primer1 = \"ATGAACACGATTAACATCGCTAAGAACGACT\"\n",
    "primer2 = \"aaaaaaaa\" + primer1"
   ]
  },
  {
   "cell_type": "code",
   "execution_count": null,
   "metadata": {},
   "outputs": [],
   "source": [
    "import biopython."
   ]
  },
  {
   "cell_type": "markdown",
   "metadata": {},
   "source": [
    "# Sequence orders"
   ]
  },
  {
   "cell_type": "code",
   "execution_count": null,
   "metadata": {},
   "outputs": [],
   "source": [
    "\"tGAGACCgGAGACG\" + \"TGCTAA\""
   ]
  },
  {
   "cell_type": "code",
   "execution_count": null,
   "metadata": {},
   "outputs": [],
   "source": [
    "sequence.reverse_complement(\"tGAGACCgGAGACG\" + \"TGCTAA\")"
   ]
  },
  {
   "cell_type": "code",
   "execution_count": null,
   "metadata": {},
   "outputs": [],
   "source": [
    "seq"
   ]
  },
  {
   "cell_type": "code",
   "execution_count": null,
   "metadata": {},
   "outputs": [],
   "source": [
    "import Bio.pairwise2 as pw"
   ]
  },
  {
   "cell_type": "code",
   "execution_count": null,
   "metadata": {},
   "outputs": [],
   "source": [
    "pw.align.globalxs?"
   ]
  },
  {
   "cell_type": "code",
   "execution_count": null,
   "metadata": {},
   "outputs": [],
   "source": [
    "seq1 = \"TTTT\"\n",
    "seq1a = \"TTTTA\"\n",
    "seq1b = \"TTTTC\"\n",
    "seq1c = \"CCCCCCCCCCCTTTTC\"\n",
    "seq2 = \"AAAATTTTAAAATTTTAAAA\""
   ]
  },
  {
   "cell_type": "code",
   "execution_count": null,
   "metadata": {},
   "outputs": [],
   "source": [
    "seq2 = \"AGTGATTTTTTTCTCCATTCTTTGTGTGTTTTTTTTGTTTTATGAATTTTTTTAACTGATACCCGTTTTTTTGGAAGGAGACCCGTTTTTTTGGAAG\""
   ]
  },
  {
   "cell_type": "code",
   "execution_count": null,
   "metadata": {},
   "outputs": [],
   "source": [
    "pw.align.localxs(seq1b, seq2, -100, -100)"
   ]
  },
  {
   "cell_type": "code",
   "execution_count": null,
   "metadata": {},
   "outputs": [],
   "source": [
    "from Bio import Align"
   ]
  },
  {
   "cell_type": "code",
   "execution_count": null,
   "metadata": {},
   "outputs": [],
   "source": [
    "aligner = Align.PairwiseAligner(\n",
    "    mode=\"local\", match_score=1, mismatch_score=0, gap_score=float(\"-inf\")\n",
    ")"
   ]
  },
  {
   "cell_type": "code",
   "execution_count": null,
   "metadata": {},
   "outputs": [],
   "source": [
    "aligner = Align.PairwiseAligner(\n",
    "    mode=\"local\", match_score=1, mismatch_score=0, gap_score=float(\"-inf\")\n",
    ")"
   ]
  },
  {
   "cell_type": "code",
   "execution_count": null,
   "metadata": {},
   "outputs": [],
   "source": [
    "alignments = aligner.align(seq1c, seq2)\n",
    "for a in alignments:\n",
    "    print(f\"score: {a.score}\")\n",
    "    print(a)"
   ]
  },
  {
   "cell_type": "code",
   "execution_count": null,
   "metadata": {},
   "outputs": [],
   "source": [
    "from itertools import repeat\n",
    "from paulssonlab.cloning.sequence import reverse_complement\n",
    "\n",
    "\n",
    "def find_primer_binding_site(\n",
    "    primer, template, linear=False, try_reverse_complement=True, min_length=8\n",
    "):\n",
    "    # TODO: .upper() or .lower() everything?\n",
    "    if not linear:\n",
    "        template = template + template[: len(primer)]\n",
    "    aligner = Align.PairwiseAligner(\n",
    "        mode=\"local\", match_score=1, mismatch_score=0, gap_score=-10\n",
    "    )  # float(\"-inf\"))\n",
    "    alignments = []\n",
    "    alignments.extend(zip(aligner.align(primer, template), repeat(False)))\n",
    "    if try_reverse_complement:\n",
    "        primer_rc = reverse_complement(primer)\n",
    "        alignments.extend(zip(aligner.align(primer_rc, template), repeat(True)))\n",
    "    if not len(alignments):\n",
    "        raise ValueError(\"could not align primer to template\")\n",
    "    best_alignment = alignments\n",
    "    # best_alignment = max(a for a in alignments if a.aligned[0][-1][1] == len(primer), key=lambda x: x[0].score)\n",
    "    return best_alignment  # , fiveprime_strand\n",
    "\n",
    "\n",
    "def pcr(primer1, primer2, template):\n",
    "    pass"
   ]
  },
  {
   "cell_type": "code",
   "execution_count": null,
   "metadata": {},
   "outputs": [],
   "source": [
    "a = find_primer_binding_site(\"ATTTTTTT\", seq.seq, try_reverse_complement=False)  # [0]\n",
    "a"
   ]
  },
  {
   "cell_type": "code",
   "execution_count": null,
   "metadata": {},
   "outputs": [],
   "source": [
    "len(primer2)"
   ]
  },
  {
   "cell_type": "code",
   "execution_count": null,
   "metadata": {},
   "outputs": [],
   "source": [
    "a.aligned"
   ]
  },
  {
   "cell_type": "code",
   "execution_count": null,
   "metadata": {},
   "outputs": [],
   "source": [
    "a.path"
   ]
  },
  {
   "cell_type": "code",
   "execution_count": null,
   "metadata": {},
   "outputs": [],
   "source": [
    "a.aligned[0][-1][1]"
   ]
  },
  {
   "cell_type": "code",
   "execution_count": null,
   "metadata": {},
   "outputs": [],
   "source": [
    "print(a)"
   ]
  },
  {
   "cell_type": "code",
   "execution_count": null,
   "metadata": {},
   "outputs": [],
   "source": [
    "a.aligned?"
   ]
  },
  {
   "cell_type": "code",
   "execution_count": null,
   "metadata": {},
   "outputs": [],
   "source": [
    "b = a[0][0]"
   ]
  },
  {
   "cell_type": "code",
   "execution_count": null,
   "metadata": {},
   "outputs": [],
   "source": [
    "b.target"
   ]
  },
  {
   "cell_type": "code",
   "execution_count": null,
   "metadata": {},
   "outputs": [],
   "source": [
    "a[0][0].score"
   ]
  },
  {
   "cell_type": "code",
   "execution_count": null,
   "metadata": {},
   "outputs": [],
   "source": []
  },
  {
   "cell_type": "code",
   "execution_count": null,
   "metadata": {},
   "outputs": [],
   "source": [
    "for alignment in aligner.align(primer2, seq.seq):\n",
    "    print(\"Score = %.1f:\" % alignment.score)\n",
    "    print(alignment)\n",
    "    0 / 0"
   ]
  },
  {
   "cell_type": "code",
   "execution_count": null,
   "metadata": {},
   "outputs": [],
   "source": [
    "Bio.Align.PairwiseAligner()"
   ]
  },
  {
   "cell_type": "markdown",
   "metadata": {},
   "source": [
    "## Config"
   ]
  },
  {
   "cell_type": "code",
   "execution_count": null,
   "metadata": {},
   "outputs": [],
   "source": [
    "promoter_part_type = \"Promoter_AB\"\n",
    "cds_part_type = \"CDS_CD\"\n",
    "# because overhang (aATG) has an extra a\n",
    "# TODO: autodetect start codon?\n",
    "cds_overhang_shift = 1\n",
    "random_bases = (\"GCTTCA\", \"TGCTAA\")\n",
    "flanks = (\"CGTCTCGGTCTCa\", \"tGAGACCgGAGACG\")\n",
    "part_enzyme = Restriction.BsaI\n",
    "storage_enzyme = Restriction.BsmBI\n",
    "avoid_enzymes = [getattr(Restriction, e) for e in (\"BsaI\", \"BsmBI\", \"BbsI\", \"AarI\")]\n",
    "cds_aa_suffix = \"**\"  # add double stop\n",
    "storage_vector_id = \"pLIB112\"\n",
    "twist_adaptors = (\"GAAGTGCCATTCCGCCTGACCT\", \"AGGCTAGGTGGAGGCTCAGTG\")\n",
    "\n",
    "background_strain = \"DH5alpha\"\n",
    "tags = \"voigt-sigmas sequestration\"\n",
    "author = \"Jacob Quinn Shenker\"\n",
    "date = datetime.now().strftime(\"%Y-%m-%d %H:%M:%S\")\n",
    "species = \"E. coli\"\n",
    "reference = \"Rhodius, V. A., Segall‐Shapiro, T. H., Sharon, B. D., Ghodasara, A., Orlova, E., Tabakh, H., ... & Voigt, C. A. (2013). Design of orthogonal genetic switches based on a crosstalk map of σs, anti‐σs, and promoters. Molecular systems biology, 9(1), 702.\"\n",
    "confirmation_notes = \"Sanger sequencing with oLIB203+oLIB204.\"\n",
    "\n",
    "oligo_description = \"Annealed oligos for Voigt sigma factor promoters.\""
   ]
  },
  {
   "cell_type": "markdown",
   "metadata": {},
   "source": [
    "## Generate sequences"
   ]
  },
  {
   "cell_type": "code",
   "execution_count": null,
   "metadata": {},
   "outputs": [],
   "source": [
    "part_types = part_type_sheet.get_as_df().set_index(\"Type*\")"
   ]
  },
  {
   "cell_type": "code",
   "execution_count": null,
   "metadata": {},
   "outputs": [],
   "source": [
    "promoter_overhangs = part_types.loc[\n",
    "    promoter_part_type, [\"Upstream overhang\", \"Downstream overhang\"]\n",
    "]\n",
    "promoter_overhangs = [o.upper() for o in promoter_overhangs]\n",
    "cds_overhangs = part_types.loc[\n",
    "    cds_part_type, [\"Upstream overhang\", \"Downstream overhang\"]\n",
    "]\n",
    "cds_overhangs = [o.upper() for o in cds_overhangs]"
   ]
  },
  {
   "cell_type": "code",
   "execution_count": null,
   "metadata": {},
   "outputs": [],
   "source": [
    "# TODO: defaults to E. coli\n",
    "aa_to_codons = codon.codons_by_relative_frequency()\n",
    "# force only using TAA as stop codon\n",
    "aa_to_codons = {**aa_to_codons, \"*\": {\"TAA\": 1}}"
   ]
  },
  {
   "cell_type": "code",
   "execution_count": null,
   "metadata": {},
   "outputs": [],
   "source": [
    "sigma_sequences_to_order = dict(\n",
    "    sigmas.loc[sigma_subset_info[\"Sigma\"], \"Sequence\"].items()\n",
    ")\n",
    "antisigma_sequences_to_order = dict(\n",
    "    antisigmas.loc[sigma_subset_info[\"Antisigma\"], \"Sequence\"].items()\n",
    ")\n",
    "promoter_sequences_to_order = dict(\n",
    "    sigma_promoters.loc[\n",
    "        sigma_subset_info[\"Promoter\"], \"Promoter sequence (-60 to +20)\"\n",
    "    ].items()\n",
    ")\n",
    "_sequences_to_order = {\n",
    "    \"promoter\": promoter_sequences_to_order,\n",
    "    \"sigma\": sigma_sequences_to_order,\n",
    "    \"antisigma\": antisigma_sequences_to_order,\n",
    "}\n",
    "sequences_to_order = {}\n",
    "# prepare seq\n",
    "for kind, seqs in _sequences_to_order.items():\n",
    "    for name, seq in seqs.items():\n",
    "        item = {}\n",
    "        item[\"name\"] = name\n",
    "        item[\"kind\"] = kind\n",
    "        if kind == \"promoter\":\n",
    "            seq = workflow.add_flanks(\n",
    "                workflow.add_overhangs(seq.upper(), promoter_overhangs),\n",
    "                [flanks, random_bases],\n",
    "            )\n",
    "            item[\"cds_location\"] = None\n",
    "        else:\n",
    "            aa_seq = seq + cds_aa_suffix\n",
    "            item[\"aa_seq\"] = aa_seq\n",
    "            seq = codon.back_translate(aa_seq, aa_to_codons)\n",
    "            cds_length = len(seq)\n",
    "            seq = workflow.add_flanks(\n",
    "                workflow.add_overhangs(seq.upper(), cds_overhangs), [flanks]\n",
    "            )\n",
    "            # because overhang (aATG) has an extra a\n",
    "            cds_start = len(flanks[0]) + cds_overhang_shift\n",
    "            cds_end = cds_start + cds_length\n",
    "            item[\"cds_location\"] = (cds_start, cds_end)\n",
    "        seq = SeqRecord(Seq(seq))  # ensure our pipeline propagates features correctly\n",
    "        item[\"initial_seq\"] = seq\n",
    "        sequences_to_order[name] = item"
   ]
  },
  {
   "cell_type": "markdown",
   "metadata": {},
   "source": [
    "## Check restriction sites"
   ]
  },
  {
   "cell_type": "code",
   "execution_count": null,
   "metadata": {},
   "outputs": [],
   "source": [
    "correct_re_site_counts = {\"BsaI\": 2, \"BsmBI\": 2, \"AarI\": 0, \"BbsI\": 0}"
   ]
  },
  {
   "cell_type": "code",
   "execution_count": null,
   "metadata": {},
   "outputs": [],
   "source": [
    "for item in sequences_to_order.values():\n",
    "    for enzyme, expected_count in correct_re_site_counts.items():\n",
    "        cuts = golden_gate.re_search(\n",
    "            item[\"optimized_seq\"], getattr(Restriction, enzyme)\n",
    "        )\n",
    "        if len(cuts) != expected_count:\n",
    "            print(\n",
    "                f\"Expected {expected_count} {enzyme} cuts in {item['name']}, instead found cuts at: {cuts}\"\n",
    "            )"
   ]
  },
  {
   "cell_type": "markdown",
   "metadata": {},
   "source": [
    "## Add to strain collection"
   ]
  },
  {
   "cell_type": "code",
   "execution_count": null,
   "metadata": {},
   "outputs": [],
   "source": [
    "oligo0_sheet = gc.open_by_key(col[\"oligos\"]).worksheet_by_title(\"Special (oLIB0.x)\")"
   ]
  },
  {
   "cell_type": "code",
   "execution_count": null,
   "metadata": {},
   "outputs": [],
   "source": [
    "# descriptions listing corresponding promoter/sigma/antisigma/fold change/growth rates.; with double-stop"
   ]
  },
  {
   "cell_type": "code",
   "execution_count": null,
   "metadata": {},
   "outputs": [],
   "source": [
    "storage_vector_seq = workflow.get_drive_seq(\n",
    "    drive_service, col[\"plasmid_maps\"], storage_vector_id\n",
    ")"
   ]
  },
  {
   "cell_type": "code",
   "execution_count": null,
   "metadata": {},
   "outputs": [],
   "source": [
    "plasmids_df = plasmid_sheet.get_as_df().set_index(\"ID*\")"
   ]
  },
  {
   "cell_type": "code",
   "execution_count": null,
   "metadata": {},
   "outputs": [],
   "source": [
    "base_oligo = {\"Date*\": date, \"Author*\": author, \"Description\": oligo_description}\n",
    "\n",
    "base_part = {\n",
    "    \"Tags\": tags,\n",
    "    \"Author\": author,\n",
    "    \"Date*\": date,\n",
    "    \"Species/codon usage*\": species,\n",
    "    \"Reference\": reference,\n",
    "}\n",
    "\n",
    "base_plasmid = {\n",
    "    \"Origin*\": plasmids_df.loc[storage_vector_id, \"Origin*\"],\n",
    "    \"Marker*\": plasmids_df.loc[storage_vector_id, \"Marker*\"],\n",
    "}\n",
    "\n",
    "base_strain = {\n",
    "    \"Species*\": species,\n",
    "    \"Background*\": background_strain,\n",
    "    \"Parent*\": background_strain,\n",
    "    \"Marker*\": plasmids_df.loc[storage_vector_id, \"Marker*\"],\n",
    "}"
   ]
  },
  {
   "cell_type": "code",
   "execution_count": null,
   "metadata": {},
   "outputs": [],
   "source": [
    "(oligo_prefix, oligo_num), oligo_row = workflow.get_next_collection_id(oligo0_sheet)\n",
    "(plasmid_prefix, plasmid_num), plasmid_row = workflow.get_next_collection_id(\n",
    "    plasmid_sheet\n",
    ")\n",
    "(strain_prefix, strain_num), strain_row = workflow.get_next_collection_id(strain_sheet)\n",
    "part_row = workflow.get_next_empty_row(part_sheet)\n",
    "parts = []\n",
    "oligos = []\n",
    "plasmids = []\n",
    "plasmid_maps = {}\n",
    "strains = []\n",
    "\n",
    "\n",
    "def _format_seq(seq):\n",
    "    return str(sequence.get_seq(seq)).lower()\n",
    "\n",
    "\n",
    "for item in sequences_to_order.values():\n",
    "    name = item[\"name\"]\n",
    "    kind = item[\"kind\"]\n",
    "    seq = item[\"final_seq\"]\n",
    "    # description\n",
    "    row = sigma_subset_info.loc[\n",
    "        sigma_subset_info.loc[:, kind.capitalize()] == name\n",
    "    ].iloc[0]\n",
    "    description = f\"\"\"Sigma/antisigma/promoter: {row[\"Sigma\"]}/{row[\"Antisigma\"]}/{row[\"Promoter\"]}\n",
    "    Sigma/antisigma fold change at max induction: {row[\"Sigma max\"]:.0f}x / {row[\"Antisigma max\"]:.0f}x\n",
    "    Sigma/antisigma growth rate: {row[\"Sigma growth\"]:.0f}% / {row[\"Antisigma growth\"]:.0f}%\"\"\"\n",
    "    if kind != \"promoter\":\n",
    "        description += \"\\nCDS with double stop codon.\"\n",
    "    # part\n",
    "    part_digest = golden_gate.re_digest(seq, part_enzyme, linear=True)\n",
    "    part_seq, overhang1, overhang2 = part_digest[0]\n",
    "    usage = f\"{plasmid_prefix}{plasmid_num}/{part_enzyme.__name__}\"\n",
    "    if kind == \"promoter\":\n",
    "        usage += f\",{oligo_prefix}{oligo_num}={oligo_prefix}{oligo_num+1}/{part_enzyme.__name__}\"\n",
    "    part = {\n",
    "        \"Name*\": name,\n",
    "        \"Usage*\": usage,\n",
    "        \"Upstream overhang*\": _format_seq(overhang1[0]),\n",
    "        \"Downstream overhang*\": _format_seq(overhang2[0]),\n",
    "        \"Sequence*\": _format_seq(overhang1[0] + part_seq + overhang2[0]),\n",
    "        \"Description\": description,\n",
    "        **base_part,\n",
    "    }\n",
    "    parts.append(part)\n",
    "    # strain\n",
    "    plasmid_id = f\"{plasmid_prefix}{plasmid_num}\"\n",
    "    strain = {\n",
    "        \"ID*\": f\"{strain_prefix}{strain_num}\",\n",
    "        \"Names\": name,\n",
    "        \"Plasmid(s)*\": plasmid_id,\n",
    "        **base_strain,\n",
    "    }\n",
    "    strains.append(strain)\n",
    "    strain_num += 1\n",
    "    # plasmid map\n",
    "    to_join = [\n",
    "        (seq, storage_enzyme),\n",
    "        (storage_vector_seq, storage_enzyme),\n",
    "    ]\n",
    "    plasmid_map = golden_gate.assemble(to_join, linear=False)\n",
    "    filename = f\"{plasmid_id}.gbk\"\n",
    "    content = plasmid_map.format(\"genbank\")\n",
    "    plasmid_maps[filename] = {\n",
    "        \"content\": content,\n",
    "        \"mimetype\": \"chemical/seq-na-genbank\",\n",
    "    }\n",
    "    # plasmid\n",
    "    command = f\"@GG({oligo_prefix}{oligo_num}={oligo_prefix}{oligo_num+1}/{storage_enzyme.__name__}, {storage_vector_id}/{storage_enzyme.__name__})\"\n",
    "    if kind == \"promoter\":\n",
    "        construction_notes = f\"{storage_enzyme.__name__} golden gate of annealed oligos {oligo_prefix}{oligo_num}={oligo_prefix}{oligo_num+1} into storage vector {storage_vector_id}.\"\n",
    "    else:\n",
    "        construction_notes = f\"{storage_enzyme.__name__} golden gate of {oligo_prefix}{oligo_num} into storage vector {storage_vector_id}.\"\n",
    "    plasmid = {\n",
    "        \"Command\": command,\n",
    "        \"ID*\": plasmid_id,\n",
    "        \"Names\": name,\n",
    "        \"Description\": description,\n",
    "        \"Size (bp)\": len(plasmid_map),\n",
    "        \"Construction Notes\": construction_notes,\n",
    "        \"Confirmation Notes\": confirmation_notes,\n",
    "        **base_plasmid,\n",
    "    }\n",
    "    plasmids.append(plasmid)\n",
    "    plasmid_num += 1\n",
    "    # oligo\n",
    "    item[\n",
    "        \"oligo_id\"\n",
    "    ] = f\"{oligo_prefix}{oligo_num}\"  # for promoters, this only records the first (top) annealed oligo\n",
    "    if kind == \"promoter\":\n",
    "        for strand, oligo_seq in [(\"top\", seq), (\"bottom\", seq.reverse_complement())]:\n",
    "            oligo = {\n",
    "                \"ID*\": f\"{oligo_prefix}{oligo_num}\",\n",
    "                \"Name\": f\"{name}_{strand}\",\n",
    "                \"Vendor*\": \"Genewiz\",\n",
    "                \"Type\": \"Primer\",\n",
    "                \"Sequence*\": _format_seq(oligo_seq),\n",
    "                **base_oligo,\n",
    "            }\n",
    "            oligos.append(oligo)\n",
    "            oligo_num += 1\n",
    "    else:\n",
    "        oligo = {\n",
    "            \"ID*\": f\"{oligo_prefix}{oligo_num}\",\n",
    "            \"Name\": f\"{name}\",\n",
    "            \"Vendor*\": \"Twist\",\n",
    "            \"Type\": \"Twist Gene Fragment\",\n",
    "            \"Sequence*\": _format_seq(item[\"optimized_seq\"]),\n",
    "            **base_oligo,\n",
    "        }\n",
    "        oligos.append(oligo)\n",
    "        oligo_num += 1"
   ]
  },
  {
   "cell_type": "markdown",
   "metadata": {},
   "source": [
    "## Genewiz sequences to order"
   ]
  },
  {
   "cell_type": "code",
   "execution_count": null,
   "metadata": {},
   "outputs": [],
   "source": [
    "from itertools import product, repeat\n",
    "\n",
    "for well, oligo in zip(cloning_util.well_iterator(), oligos):\n",
    "    if oligo[\"Vendor*\"] == \"Genewiz\":\n",
    "        print(f\"{oligo['ID*'].replace('.', '_')}\\t{oligo['Sequence*']}\")\n",
    "        # print(f\"{well}\\t{oligo['ID*']}\\t{oligo['Sequence*']}\")"
   ]
  },
  {
   "cell_type": "markdown",
   "metadata": {},
   "source": [
    "## Twist sequences to order"
   ]
  },
  {
   "cell_type": "code",
   "execution_count": null,
   "metadata": {},
   "outputs": [],
   "source": [
    "# for oligo in oligos:\n",
    "#     if oligo[\"Vendor*\"] == \"Twist\":\n",
    "#         print(f\"{oligo['ID*']}\\t{oligo['Sequence*']}\")\n",
    "for item in sequences_to_order.values():\n",
    "    if item[\"kind\"] != \"promoter\":\n",
    "        print(f\"{item['oligo_id']}\\t{_format_seq(item['optimized_seq'])}\")"
   ]
  },
  {
   "cell_type": "code",
   "execution_count": null,
   "metadata": {},
   "outputs": [],
   "source": [
    "import pickle\n",
    "\n",
    "data = {\n",
    "    \"oligos\": oligos,\n",
    "    \"plasmids\": plasmids,\n",
    "    \"plasmid_maps\": plasmid_maps,\n",
    "    \"strains\": strains,\n",
    "    \"parts\": parts,\n",
    "    \"sequences_to_order\": sequences_to_order,\n",
    "    \"oligo_row\": oligo_row,\n",
    "    \"plasmid_row\": plasmid_row,\n",
    "    \"strain_row\": strain_row,\n",
    "    \"part_row\": part_row,\n",
    "}\n",
    "with open(\"201013voigtsigmas.json\", \"wb\") as f:\n",
    "    pickle.dump(data, f)"
   ]
  },
  {
   "cell_type": "code",
   "execution_count": null,
   "metadata": {},
   "outputs": [],
   "source": [
    "api.google.insert_sheet_rows(plasmid_sheet, plasmid_row, plasmids)"
   ]
  },
  {
   "cell_type": "code",
   "execution_count": null,
   "metadata": {},
   "outputs": [],
   "source": [
    "api.google.insert_sheet_rows(strain_sheet, strain_row, strains)"
   ]
  },
  {
   "cell_type": "code",
   "execution_count": null,
   "metadata": {},
   "outputs": [],
   "source": [
    "api.google.insert_sheet_rows(oligo0_sheet, oligo_row, oligos)"
   ]
  },
  {
   "cell_type": "code",
   "execution_count": null,
   "metadata": {},
   "outputs": [],
   "source": [
    "workflow.upload_plasmid_maps(drive_service, plasmid_maps, plasmid_folder)"
   ]
  },
  {
   "cell_type": "code",
   "execution_count": null,
   "metadata": {},
   "outputs": [],
   "source": [
    "plasmid_maps.keys()"
   ]
  }
 ],
 "metadata": {
  "kernelspec": {
   "display_name": "Python 3",
   "language": "python",
   "name": "python3"
  },
  "language_info": {
   "codemirror_mode": {
    "name": "ipython",
    "version": 3
   },
   "file_extension": ".py",
   "mimetype": "text/x-python",
   "name": "python",
   "nbconvert_exporter": "python",
   "pygments_lexer": "ipython3",
   "version": "3.8.6"
  }
 },
 "nbformat": 4,
 "nbformat_minor": 4
}
