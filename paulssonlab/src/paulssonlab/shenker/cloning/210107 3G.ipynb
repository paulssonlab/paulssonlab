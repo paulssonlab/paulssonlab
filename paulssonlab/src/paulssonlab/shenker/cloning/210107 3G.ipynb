{
 "cells": [
  {
   "cell_type": "code",
   "execution_count": null,
   "metadata": {},
   "outputs": [],
   "source": [
    "import pandas as pd\n",
    "import holoviews as hv\n",
    "import hvplot.pandas\n",
    "import matplotlib.pyplot as plt\n",
    "import seaborn as sns\n",
    "import toml\n",
    "import re\n",
    "import urllib\n",
    "from datetime import datetime\n",
    "import string\n",
    "import pygsheets\n",
    "from tqdm.auto import tqdm\n",
    "import Bio.Restriction as Restriction\n",
    "from Bio.Seq import Seq\n",
    "import benchlingapi"
   ]
  },
  {
   "cell_type": "code",
   "execution_count": null,
   "metadata": {},
   "outputs": [],
   "source": [
    "%load_ext autoreload\n",
    "%autoreload 2"
   ]
  },
  {
   "cell_type": "code",
   "execution_count": null,
   "metadata": {},
   "outputs": [],
   "source": [
    "import paulssonlab.api as api\n",
    "from paulssonlab.api.util import base_url\n",
    "import paulssonlab.cloning.workflow as workflow\n",
    "import paulssonlab.cloning.util as cloning_util\n",
    "import paulssonlab.cloning.sequence as sequence\n",
    "import paulssonlab.cloning.registry as registry\n",
    "import paulssonlab.cloning.enzyme as enzyme"
   ]
  },
  {
   "cell_type": "code",
   "execution_count": null,
   "metadata": {},
   "outputs": [],
   "source": [
    "hv.extension(\"bokeh\")"
   ]
  },
  {
   "cell_type": "markdown",
   "metadata": {},
   "source": [
    "# Setup"
   ]
  },
  {
   "cell_type": "code",
   "execution_count": null,
   "metadata": {},
   "outputs": [],
   "source": [
    "config = toml.load(\"config.toml\")"
   ]
  },
  {
   "cell_type": "code",
   "execution_count": null,
   "metadata": {},
   "outputs": [],
   "source": [
    "gc = pygsheets.authorize(service_account_file=\"credentials.json\")"
   ]
  },
  {
   "cell_type": "markdown",
   "metadata": {},
   "source": [
    "# Registry"
   ]
  },
  {
   "cell_type": "code",
   "execution_count": null,
   "metadata": {},
   "outputs": [],
   "source": [
    "# temp: get parts, plasmid seqs\n",
    "# check that GG works\n",
    "# gibson\n",
    "# command: primer design for plasmid -> part storage vector (oligodest=oLIT)\n",
    "# PCR with flanks\n",
    "# primer design for fusion parts\n",
    "# commands: GG, Gib (need to specify recipient strain!)\n",
    "# get parts, plasmid seqs"
   ]
  },
  {
   "cell_type": "code",
   "execution_count": null,
   "metadata": {},
   "outputs": [],
   "source": [
    "reg = registry.Registry(gc, config[\"registry\"][\"folder\"])"
   ]
  },
  {
   "cell_type": "code",
   "execution_count": null,
   "metadata": {},
   "outputs": [],
   "source": [
    "reg.registry"
   ]
  },
  {
   "cell_type": "code",
   "execution_count": null,
   "metadata": {},
   "outputs": [],
   "source": [
    "%%timeit\n",
    "\"J23101\" in df2"
   ]
  },
  {
   "cell_type": "code",
   "execution_count": null,
   "metadata": {},
   "outputs": [],
   "source": [
    "reg.get(\"LIB93\")"
   ]
  },
  {
   "cell_type": "code",
   "execution_count": null,
   "metadata": {},
   "outputs": [],
   "source": [
    "%%time\n",
    "reg.duplicate_collection(\"LIB\", \"TESTB\", clear=False)"
   ]
  },
  {
   "cell_type": "markdown",
   "metadata": {},
   "source": [
    "# PCR simulation test"
   ]
  },
  {
   "cell_type": "code",
   "execution_count": null,
   "metadata": {},
   "outputs": [],
   "source": [
    "seq1 = \"TTTT\"\n",
    "seq1a = \"TTTTA\"\n",
    "seq1b = \"TTTTC\"\n",
    "seq1c = \"CCCCCCCCCCCTTTTC\"\n",
    "seq2 = \"AAAATTTTAAAATTTTAAAA\"\n",
    "seq3 = \"AGTGATTTTTTTCTCCATTCTTTGTGTGTTTTTTTTGTTTTATGAATTTTTTTAACTGATACCCGTTTTTTTGGAAGGAGACCCGTTTTTTTGGAAG\"\n",
    "seq4 = \"TTTTTTAAAAAAAGGGGGGGGGGGGGGTTTTTTCCCCCCCCCCCCAAAAAAATTTTTTAAAAAAA\"\n",
    "seq4p = \"GGGGGGGGGGGGGG\""
   ]
  },
  {
   "cell_type": "code",
   "execution_count": null,
   "metadata": {},
   "outputs": [],
   "source": [
    "def count_matching_chars(a, b):\n",
    "    s = 0\n",
    "    for i in range(min(len(a), len(b))):\n",
    "        if a[i] == b[i]:\n",
    "            s += 1\n",
    "    return s\n",
    "\n",
    "\n",
    "def count_contiguous_matching_chars(a, b, right=False):\n",
    "    s = 0\n",
    "    idxs = range(min(len(a), len(b)))\n",
    "    if right:\n",
    "        idxs = reversed(idxs)\n",
    "    for i in idxs:\n",
    "        if a[i] == b[i]:\n",
    "            s += 1\n",
    "        else:\n",
    "            return s\n",
    "    return s\n",
    "\n",
    "\n",
    "# TODO: LINEAR!!\n",
    "# TODO: add min_tm option?\n",
    "def find_primer_binding_site(\n",
    "    primer, template, linear=False, try_reverse_complement=True, min_score=8\n",
    "):\n",
    "    orig_template = template\n",
    "    if try_reverse_complement:\n",
    "        senses = (1, -1)\n",
    "    else:\n",
    "        senses = (1,)\n",
    "    sites = []\n",
    "    for sense in senses:\n",
    "        if sense == -1:\n",
    "            template = sequence.reverse_complement(orig_template)\n",
    "        else:\n",
    "            template = orig_template\n",
    "        template_padded = \" \" * (len(primer) - 1) + template + \" \" * (len(primer) - 1)\n",
    "        for loc in range(1, len(template) + len(primer)):\n",
    "            score = count_contiguous_matching_chars(\n",
    "                primer, template_padded[loc - 1 : loc + len(primer) - 1], right=True\n",
    "            )\n",
    "            if score >= min_score:\n",
    "                sites.append((sense, loc, score))\n",
    "    return sites\n",
    "\n",
    "\n",
    "find_primer_binding_site(seq4p, seq4)"
   ]
  },
  {
   "cell_type": "code",
   "execution_count": null,
   "metadata": {},
   "outputs": [],
   "source": [
    "sequence.slice_seq?"
   ]
  },
  {
   "cell_type": "code",
   "execution_count": null,
   "metadata": {},
   "outputs": [],
   "source": [
    "# TODO: make work with SeqRecords\n",
    "# TODO: make sure join_seqs sets topology correctly?\n",
    "def simulate_pcr(primer1, primer2, template, linear=False, min_score=6):\n",
    "    both_sites = []\n",
    "    for primer in (primer1, primer2):\n",
    "        sites = find_primer_binding_site(\n",
    "            primer,\n",
    "            template,\n",
    "            linear=linear,\n",
    "            try_reverse_complement=True,\n",
    "            min_score=min_score,\n",
    "        )\n",
    "        if len(sites) != 1:\n",
    "            raise ValueError(\n",
    "                f\"expecting a unique primer binding site, instead found {len(sites)}\"\n",
    "            )\n",
    "        both_sites.append(sites[0])\n",
    "    if both_sites[0][0] == -1:\n",
    "        both_sites = both_sites[::-1]\n",
    "    sense1, loc1, len1 = both_sites[0]\n",
    "    sense2, loc2, len2 = both_sites[1]\n",
    "    if sense1 != -sense2:\n",
    "        raise ValueError(\"expecting a forward/reverse primer pair\")\n",
    "    start = loc1\n",
    "    stop = len(template) - loc2\n",
    "    amplicon = sequence.slice_seq(template, start, stop)\n",
    "    product = sequence.join_seqs([primer1, amplicon, primer2])\n",
    "    return product\n",
    "\n",
    "\n",
    "p1 = \"TTTTTAGAAGA\"\n",
    "p2 = \"CCCCCAGAGGG\"\n",
    "seq5 = \"AGAAGACCCCGGGGCCCTCT\"\n",
    "simulate_pcr(p1, p2, seq5)"
   ]
  },
  {
   "cell_type": "code",
   "execution_count": null,
   "metadata": {},
   "outputs": [],
   "source": [
    "sequence.reverse_complement(seq5)"
   ]
  },
  {
   "cell_type": "markdown",
   "metadata": {},
   "source": [
    "# DsSeqRecord test"
   ]
  },
  {
   "cell_type": "code",
   "execution_count": null,
   "metadata": {},
   "outputs": [],
   "source": [
    "# DsSeqRecord (store circularity)\n",
    "# fix linear=/circular= handling\n",
    "# Registry.get_entry ->\n",
    "#    {\"_type\": \"plasmid\", \"plasmid\": {row...}, \"plasmid_map\": DsSeqRecord}\n",
    "# Registry.get_seq -> DsSeqRecord\n",
    "# re_digest -> DsSeqRecord\n",
    "# ligate_seqs([seq1, seq2, seq3], method=\"goldengate\")"
   ]
  },
  {
   "cell_type": "code",
   "execution_count": null,
   "metadata": {},
   "outputs": [],
   "source": [
    "from Bio.SeqRecord import SeqRecord\n",
    "from Bio.Seq import Seq"
   ]
  },
  {
   "cell_type": "code",
   "execution_count": null,
   "metadata": {},
   "outputs": [],
   "source": [
    "b = Seq(\"aaaagg\" + (\"X\" * 800) + \"ggcccc\")"
   ]
  },
  {
   "cell_type": "code",
   "execution_count": null,
   "metadata": {},
   "outputs": [],
   "source": [
    "hasattr(b, \"complement\")"
   ]
  },
  {
   "cell_type": "code",
   "execution_count": null,
   "metadata": {},
   "outputs": [],
   "source": [
    "a = sequence.DsSeqRecord(\n",
    "    Seq(\"aaaagg\" + (\"X\" * 800) + \"ggcccc\"), upstream_overhang=1, downstream_overhang=-2\n",
    ")"
   ]
  },
  {
   "cell_type": "code",
   "execution_count": null,
   "metadata": {},
   "outputs": [],
   "source": [
    "a"
   ]
  },
  {
   "cell_type": "code",
   "execution_count": null,
   "metadata": {},
   "outputs": [],
   "source": [
    "print(a)"
   ]
  },
  {
   "cell_type": "code",
   "execution_count": null,
   "metadata": {},
   "outputs": [],
   "source": [
    "print(a.reverse_complement())"
   ]
  },
  {
   "cell_type": "code",
   "execution_count": null,
   "metadata": {},
   "outputs": [],
   "source": [
    "s = \"GGTCTCAaatgAGCTGTCCTGAACAAATTGTGCAGCTTATGCATATGCATCTTGATGGAGATATCCTTCCAAAAGATGAACACGTATTAAATGAACATCTGGAGACATGCGAGAAATGCAGAAAGCATTTTTACGAGATGGAGAAATCCATAGCGCTCGTACGGAGCACATCGCATGTCGAAGCCCCCGCGGATTTTACCGCTAATGTCATGGCAAAATTGCCTAAGGAGAAGAAAAGAGCTTCTGTAAAAAGATGGTTCAGAACCCATTAAaggtTGAGACC\"\n",
    "s = \"GGTCTCAaaaaGGTCTCAccccGGTCTCAggggGGTCTCAttttgggg\"\n",
    "# s = \"GGTCTCAaaaaGGTCTAAccccGGTCTAAggggGGTCTAAttttgggg\"\n",
    "seq = Seq(s)\n",
    "dsdna = sequence.DsSeqRecord(seq, circular=False)"
   ]
  },
  {
   "cell_type": "code",
   "execution_count": null,
   "metadata": {},
   "outputs": [],
   "source": [
    "enzyme.re_search(dsdna, Restriction.BsaI)"
   ]
  },
  {
   "cell_type": "code",
   "execution_count": null,
   "metadata": {},
   "outputs": [],
   "source": [
    "for dna in enzyme.re_digest(dsdna, Restriction.BsaI):\n",
    "    print(repr(dna))"
   ]
  },
  {
   "cell_type": "markdown",
   "metadata": {},
   "source": [
    "# Append test"
   ]
  },
  {
   "cell_type": "code",
   "execution_count": null,
   "metadata": {},
   "outputs": [],
   "source": [
    "seq = workflow.read_sequence(\n",
    "    open(\n",
    "        \"/Users/jacob/Google Drive/Paulsson shared/Documents/FISH/example_construct.gb\"\n",
    "    ).read()\n",
    ")"
   ]
  },
  {
   "cell_type": "code",
   "execution_count": null,
   "metadata": {},
   "outputs": [],
   "source": [
    "seq"
   ]
  },
  {
   "cell_type": "code",
   "execution_count": null,
   "metadata": {},
   "outputs": [],
   "source": [
    "seq = sequence.DsSeqRecord(seq)\n",
    "seq"
   ]
  },
  {
   "cell_type": "code",
   "execution_count": null,
   "metadata": {},
   "outputs": [],
   "source": [
    "seq.features"
   ]
  },
  {
   "cell_type": "markdown",
   "metadata": {},
   "source": [
    "# GG test"
   ]
  },
  {
   "cell_type": "code",
   "execution_count": null,
   "metadata": {},
   "outputs": [],
   "source": [
    "import dnacauldron as dc"
   ]
  },
  {
   "cell_type": "code",
   "execution_count": null,
   "metadata": {},
   "outputs": [],
   "source": [
    "parts = {\n",
    "    # hhh\n",
    "}\n",
    "\n",
    "repository = dc.SequenceRepository(parts=parts)"
   ]
  },
  {
   "cell_type": "code",
   "execution_count": null,
   "metadata": {},
   "outputs": [],
   "source": [
    "# gibson.assemble -> hhh"
   ]
  },
  {
   "cell_type": "code",
   "execution_count": null,
   "metadata": {},
   "outputs": [],
   "source": [
    "seq1 = get_plib_seq(drive_service, 1)\n",
    "seq2 = get_plib_seq(drive_service, 82)\n",
    "seq3 = get_plib_seq(drive_service, 23)\n",
    "seq4 = get_plib_seq(drive_service, 95)\n",
    "seq5 = get_plib_seq(drive_service, 110)"
   ]
  },
  {
   "cell_type": "code",
   "execution_count": null,
   "metadata": {},
   "outputs": [],
   "source": [
    "to_join = [\n",
    "    (sequence.reverse_complement(seq1), Restriction.BsaI, \"Name1\", \"promoter\"),\n",
    "    (sequence.reverse_complement(seq2), Restriction.BsaI, \"Name2\", \"RBS\"),\n",
    "    (seq3, Restriction.BsaI, \"Name3\", \"CDS\"),\n",
    "    (seq4, Restriction.BsaI, \"Name4\", \"terminator\"),\n",
    "    (sequence.reverse_complement(seq5), Restriction.BsaI, \"Name5\", \"misc_feature\"),\n",
    "]\n",
    "\n",
    "assembly = golden_gate.assemble(to_join, linear=False)\n",
    "assembly"
   ]
  },
  {
   "cell_type": "code",
   "execution_count": null,
   "metadata": {},
   "outputs": [],
   "source": [
    "with open(\"/Users/jacob/Downloads/test3.gb\", \"w\") as f:\n",
    "    f.write(assembly.format(\"gb\"))"
   ]
  },
  {
   "cell_type": "markdown",
   "metadata": {},
   "source": [
    "# Gibson test"
   ]
  },
  {
   "cell_type": "code",
   "execution_count": null,
   "metadata": {},
   "outputs": [],
   "source": [
    "# gibson two test seqs\n",
    "# gibson two GG'ed TUs\n",
    "# check we can PCR UNSes onto JUMP vector\n",
    "# check we can circularize a real 3G rxn"
   ]
  },
  {
   "cell_type": "code",
   "execution_count": null,
   "metadata": {},
   "outputs": [],
   "source": [
    "to_join = [\n",
    "    (seq, storage_enzyme),\n",
    "    (storage_vector_seq, storage_enzyme),\n",
    "]\n",
    "plasmid_map = golden_gate.assemble(to_join, linear=False)"
   ]
  },
  {
   "cell_type": "markdown",
   "metadata": {},
   "source": [
    "# 3G"
   ]
  },
  {
   "cell_type": "markdown",
   "metadata": {},
   "source": [
    "# Command parsing"
   ]
  },
  {
   "cell_type": "code",
   "execution_count": null,
   "metadata": {},
   "outputs": [],
   "source": [
    "import tatsu"
   ]
  },
  {
   "cell_type": "code",
   "execution_count": null,
   "metadata": {},
   "outputs": [],
   "source": [
    "grammar_preamble = \"\"\"@@grammar::CLONING\n",
    "@@whitespace :: //\"\"\"\n",
    "\n",
    "reference_grammar = \"\"\"reference\n",
    "    =\n",
    "    | pcr\n",
    "    | restriction_digest\n",
    "#    | assembly\n",
    "    | name\n",
    "    ;\n",
    "\n",
    "name = name:/\\w+/ ;\n",
    "\n",
    "pcr = template:reference '~' ~ primer1:name ',' primer2:name ;\n",
    "\n",
    "restriction_digest = input:reference '/' ~ enzyme:name ;\n",
    "\n",
    "#assembly = assembly+:name {'-' ~ assembly+:name}+ ;\n",
    "\"\"\"\n",
    "\n",
    "grammar = f\"\"\"start = command $ ;\n",
    "\n",
    "argument\n",
    "    =\n",
    "    | quoted_string\n",
    "    | command\n",
    "    | float\n",
    "    | int\n",
    "    | lookup\n",
    "    | reference\n",
    "    ;\n",
    "\n",
    "ws = /\\s*/ ;\n",
    "\n",
    "command_name = '@' ~ @:/\\w+/ ;\n",
    "\n",
    "command_arglist = '(' ~ ws @+:argument ws {{',' ws @+:argument ws }}* ')' ;\n",
    "\n",
    "command = command_name:command_name arguments:command_arglist ;\n",
    "\n",
    "quoted_string = '\"' ~ quoted_string:/[^\"]*/ '\"' ;\n",
    "\n",
    "float = float:/\\d+\\.\\d+/ ;\n",
    "\n",
    "int = int:/\\d+/ ;\n",
    "\n",
    "lookup = '$' ~ name ;\n",
    "\n",
    "{reference_grammar}\n",
    "\"\"\""
   ]
  },
  {
   "cell_type": "code",
   "execution_count": null,
   "metadata": {},
   "outputs": [],
   "source": [
    "parser = tatsu.compile(grammar)\n",
    "command = \"@Gib(@GG(UNS1, J23101, BCD11, UNS5), pLIB47~oLIB22,oLIB24/BsaI)\"\n",
    "ast = parser.parse(command)\n",
    "ast"
   ]
  },
  {
   "cell_type": "code",
   "execution_count": null,
   "metadata": {},
   "outputs": [],
   "source": [
    "# command = (\n",
    "#     \"@3G(UNS1-J23101-BCD11-mVenus-L3S3P11-UNS5, UNS5-J23150-CFP-BCD16-L3S2P55-UNS10)\"\n",
    "# )\n",
    "# command = \"@Gib(@GG(UNS1, J23101, BCD11, UNS5), pLIB47~oLIB22,oLIB24/BsaI)\"\n",
    "# command = \"@Gib(@GG(UNS1, J23101, BCD11, UNS5), @PCR(pLIB47, oLIB22, oLIB24)/BsaI)\"\n",
    "# command = (\n",
    "#     \"@Gib(@GG(UNS1, J23101, BCD11, UNS5), @RE(@PCR(pLIB47, oLIB22, oLIB24), BsaI))\"\n",
    "# )"
   ]
  },
  {
   "cell_type": "code",
   "execution_count": null,
   "metadata": {},
   "outputs": [],
   "source": [
    "part_sheet.sync?"
   ]
  },
  {
   "cell_type": "code",
   "execution_count": null,
   "metadata": {},
   "outputs": [],
   "source": [
    "def get_named_sequence(name, part_sheet, plasmid_maps):\n",
    "    # try plasmid, strain, part\n",
    "    pass\n",
    "\n",
    "\n",
    "def goldengate(*args):\n",
    "    return \"gg\", args\n",
    "\n",
    "\n",
    "def threeg(*args):\n",
    "    return \"3g\", args\n",
    "\n",
    "\n",
    "commands = {\"GG\": goldengate, \"3G\": threeg}\n",
    "\n",
    "get_named_sequence(\"pLIB27\")"
   ]
  },
  {
   "cell_type": "code",
   "execution_count": null,
   "metadata": {},
   "outputs": [],
   "source": [
    "reference_parser = tatsu.compile(grammar_preamble + reference_grammar)\n",
    "\n",
    "\n",
    "class CloningCommandSemantics(object):\n",
    "    def __init__(self, commands):\n",
    "        self.commands = commands\n",
    "\n",
    "    def command(self, ast):\n",
    "        if ast.command_name not in self.commands:\n",
    "            raise tatsu.semantics.SemanticError(\n",
    "                \"command must be one of: {}\".format(\n",
    "                    \", \".join([f\"@{k}\" for k in commands.keys()])\n",
    "                )\n",
    "            )\n",
    "        command = self.commands[ast.command_name]\n",
    "        return command(ast.arguments)\n",
    "\n",
    "    def int_(self, ast):\n",
    "        return int(s)\n",
    "\n",
    "    def float_(self, ast):\n",
    "        return float(s)\n",
    "\n",
    "    def name(self, ast):\n",
    "        return ast.name\n",
    "\n",
    "    def assembly(self, ast):\n",
    "        return ast.assembly\n",
    "\n",
    "\n",
    "# parser.parse(command, semantics=CloningCommandSemantics())"
   ]
  },
  {
   "cell_type": "code",
   "execution_count": null,
   "metadata": {},
   "outputs": [],
   "source": [
    "# GG\n",
    "command = \"@GG(J23101, BCD11, mVenus, L3S3P11, p121/BsaI)\"\n",
    "# 3G\n",
    "# command = \"@3G(@GG(UNS1, J23101, BCD11, mVenus, L3S3P11, UNS5), @GG(UNS5, J23150, CFP, BCD16, L3S2P55, UNS10), JUMP_p15a_UNS1_UNS10)\""
   ]
  },
  {
   "cell_type": "code",
   "execution_count": null,
   "metadata": {},
   "outputs": [],
   "source": [
    "parser.parse(command, semantics=CloningCommandSemantics(commands))"
   ]
  }
 ],
 "metadata": {
  "kernelspec": {
   "display_name": "Python 3",
   "language": "python",
   "name": "python3"
  },
  "language_info": {
   "codemirror_mode": {
    "name": "ipython",
    "version": 3
   },
   "file_extension": ".py",
   "mimetype": "text/x-python",
   "name": "python",
   "nbconvert_exporter": "python",
   "pygments_lexer": "ipython3",
   "version": "3.8.6"
  }
 },
 "nbformat": 4,
 "nbformat_minor": 4
}
