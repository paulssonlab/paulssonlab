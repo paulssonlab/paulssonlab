{
 "cells": [
  {
   "cell_type": "code",
   "execution_count": null,
   "metadata": {},
   "outputs": [],
   "source": [
    "import pandas as pd\n",
    "import toml\n",
    "import re\n",
    "import pygsheets\n",
    "from tqdm.auto import tqdm\n",
    "import Bio.Restriction as Restriction\n",
    "import benchlingapi"
   ]
  },
  {
   "cell_type": "code",
   "execution_count": null,
   "metadata": {},
   "outputs": [],
   "source": [
    "%load_ext autoreload\n",
    "%autoreload 2"
   ]
  },
  {
   "cell_type": "code",
   "execution_count": null,
   "metadata": {},
   "outputs": [],
   "source": [
    "import paulssonlab.api as api\n",
    "from paulssonlab.api.util import base_url\n",
    "import paulssonlab.cloning.workflow as workflow\n",
    "import paulssonlab.cloning.util as cloning_util\n",
    "import paulssonlab.cloning.sequence as sequence\n",
    "import paulssonlab.cloning.registry as registry\n",
    "import paulssonlab.cloning.enzyme as enzyme"
   ]
  },
  {
   "cell_type": "markdown",
   "metadata": {},
   "source": [
    "# Setup"
   ]
  },
  {
   "cell_type": "code",
   "execution_count": null,
   "metadata": {},
   "outputs": [],
   "source": [
    "config = toml.load(\"config.toml\")"
   ]
  },
  {
   "cell_type": "code",
   "execution_count": null,
   "metadata": {},
   "outputs": [],
   "source": [
    "gc = pygsheets.authorize(service_account_file=\"credentials.json\")"
   ]
  },
  {
   "cell_type": "code",
   "execution_count": null,
   "metadata": {},
   "outputs": [],
   "source": [
    "reg = registry.Registry(gc, config[\"registry\"][\"folder\"])"
   ]
  },
  {
   "cell_type": "markdown",
   "metadata": {},
   "source": [
    "# PCR simulation test"
   ]
  },
  {
   "cell_type": "code",
   "execution_count": null,
   "metadata": {},
   "outputs": [],
   "source": [
    "seq1 = \"TTTT\"\n",
    "seq1a = \"TTTTA\"\n",
    "seq1b = \"TTTTC\"\n",
    "seq1c = \"CCCCCCCCCCCTTTTC\"\n",
    "seq2 = \"AAAATTTTAAAATTTTAAAA\"\n",
    "seq3 = \"AGTGATTTTTTTCTCCATTCTTTGTGTGTTTTTTTTGTTTTATGAATTTTTTTAACTGATACCCGTTTTTTTGGAAGGAGACCCGTTTTTTTGGAAG\"\n",
    "seq4 = \"TTTTTTAAAAAAAGGGGGGGGGGGGGGTTTTTTCCCCCCCCCCCCAAAAAAATTTTTTAAAAAAA\"\n",
    "seq4p = \"GGGGGGGGGGGGGG\""
   ]
  },
  {
   "cell_type": "code",
   "execution_count": null,
   "metadata": {},
   "outputs": [],
   "source": [
    "sequence.find_primer_binding_site(seq4p, seq4)"
   ]
  },
  {
   "cell_type": "code",
   "execution_count": null,
   "metadata": {},
   "outputs": [],
   "source": [
    "sequence.slice_seq?"
   ]
  },
  {
   "cell_type": "code",
   "execution_count": null,
   "metadata": {},
   "outputs": [],
   "source": [
    "sequence.find_primer_binding_site(seq5, p2)"
   ]
  },
  {
   "cell_type": "code",
   "execution_count": null,
   "metadata": {},
   "outputs": [],
   "source": [
    "p1 = \"TTTTTAGAAGA\"\n",
    "p2 = \"TTTTTTAGAGGG\"\n",
    "seq5 = \"AGAAGACCCCGGGGCCCTCT\"\n",
    "sequence.pcr(seq5, p1, p2)"
   ]
  },
  {
   "cell_type": "code",
   "execution_count": null,
   "metadata": {},
   "outputs": [],
   "source": [
    "p1 = \"ttttttatggacaaag\"\n",
    "p2 = \"ttttttcgatacgggg\"\n",
    "seq6 = \"atggacaaagactttgatttcgataatattggcaaacgcaccccgtatcg\"\n",
    "sequence.pcr(seq6, p1, p2)"
   ]
  },
  {
   "cell_type": "code",
   "execution_count": null,
   "metadata": {},
   "outputs": [],
   "source": [
    "sequence.find_primer_binding_site(seq6, p2, try_reverse_complement=True)"
   ]
  },
  {
   "cell_type": "code",
   "execution_count": null,
   "metadata": {},
   "outputs": [],
   "source": [
    "sequence.find_primer_binding_site(\n",
    "    seq6, sequence.reverse_complement(p2), try_reverse_complement=False\n",
    ")"
   ]
  },
  {
   "cell_type": "code",
   "execution_count": null,
   "metadata": {},
   "outputs": [],
   "source": [
    "sequence.reverse_complement(seq5)"
   ]
  },
  {
   "cell_type": "markdown",
   "metadata": {},
   "source": [
    "# GG test"
   ]
  },
  {
   "cell_type": "code",
   "execution_count": null,
   "metadata": {},
   "outputs": [],
   "source": [
    "seq1 = get_plib_seq(drive_service, 1)\n",
    "seq2 = get_plib_seq(drive_service, 82)\n",
    "seq3 = get_plib_seq(drive_service, 23)\n",
    "seq4 = get_plib_seq(drive_service, 95)\n",
    "seq5 = get_plib_seq(drive_service, 110)"
   ]
  },
  {
   "cell_type": "code",
   "execution_count": null,
   "metadata": {},
   "outputs": [],
   "source": [
    "to_join = [\n",
    "    (sequence.reverse_complement(seq1), Restriction.BsaI, \"Name1\", \"promoter\"),\n",
    "    (sequence.reverse_complement(seq2), Restriction.BsaI, \"Name2\", \"RBS\"),\n",
    "    (seq3, Restriction.BsaI, \"Name3\", \"CDS\"),\n",
    "    (seq4, Restriction.BsaI, \"Name4\", \"terminator\"),\n",
    "    (sequence.reverse_complement(seq5), Restriction.BsaI, \"Name5\", \"misc_feature\"),\n",
    "]\n",
    "\n",
    "assembly = golden_gate.assemble(to_join, linear=False)\n",
    "assembly"
   ]
  },
  {
   "cell_type": "code",
   "execution_count": null,
   "metadata": {},
   "outputs": [],
   "source": [
    "reg.get(\"pLIB1\")"
   ]
  },
  {
   "cell_type": "code",
   "execution_count": null,
   "metadata": {},
   "outputs": [],
   "source": [
    "x = reg.get(\"pLIB1\")[\"_seq\"]"
   ]
  },
  {
   "cell_type": "code",
   "execution_count": null,
   "metadata": {},
   "outputs": [],
   "source": [
    "x.annotations"
   ]
  },
  {
   "cell_type": "code",
   "execution_count": null,
   "metadata": {},
   "outputs": [],
   "source": [
    "x.annotations[\"topology\"]"
   ]
  },
  {
   "cell_type": "code",
   "execution_count": null,
   "metadata": {},
   "outputs": [],
   "source": [
    "test_seqs = [reg.get(f\"pLIB{plib}\")[\"_seq\"] for plib in (1, 82, 23, 95, 110)]"
   ]
  },
  {
   "cell_type": "code",
   "execution_count": null,
   "metadata": {},
   "outputs": [],
   "source": [
    "# TODO: fix linear digests\n",
    "# TODO: slice circularity"
   ]
  },
  {
   "cell_type": "code",
   "execution_count": null,
   "metadata": {},
   "outputs": [],
   "source": [
    "y = test_seqs[0]"
   ]
  },
  {
   "cell_type": "code",
   "execution_count": null,
   "metadata": {},
   "outputs": [],
   "source": [
    "test_seqs[0].features"
   ]
  },
  {
   "cell_type": "code",
   "execution_count": null,
   "metadata": {},
   "outputs": [],
   "source": [
    "test_digests[0].annotate(\"foo\", overhangs=False).features"
   ]
  },
  {
   "cell_type": "code",
   "execution_count": null,
   "metadata": {},
   "outputs": [],
   "source": [
    "y[0 : len(y)]"
   ]
  },
  {
   "cell_type": "code",
   "execution_count": null,
   "metadata": {},
   "outputs": [],
   "source": [
    "test_digests = [workflow.re_digest_part(seq, Restriction.BsaI) for seq in test_seqs]"
   ]
  },
  {
   "cell_type": "code",
   "execution_count": null,
   "metadata": {},
   "outputs": [],
   "source": [
    "for seq in test_digests:\n",
    "    print(seq)"
   ]
  },
  {
   "cell_type": "code",
   "execution_count": null,
   "metadata": {},
   "outputs": [],
   "source": [
    "assembly = sequence.assemble(test_digests)\n",
    "print(assembly)"
   ]
  },
  {
   "cell_type": "code",
   "execution_count": null,
   "metadata": {},
   "outputs": [],
   "source": [
    "print(assembly.circularize())"
   ]
  },
  {
   "cell_type": "code",
   "execution_count": null,
   "metadata": {},
   "outputs": [],
   "source": [
    "with open(\"/Users/jacob/Downloads/test3.gb\", \"w\") as f:\n",
    "    f.write(assembly.format(\"gb\"))"
   ]
  },
  {
   "cell_type": "markdown",
   "metadata": {},
   "source": [
    "# Gibson test"
   ]
  },
  {
   "cell_type": "code",
   "execution_count": null,
   "metadata": {},
   "outputs": [],
   "source": [
    "# gibson two test seqs\n",
    "# gibson two GG'ed TUs\n",
    "# check we can PCR UNSes onto JUMP vector\n",
    "# check we can circularize a real 3G rxn"
   ]
  },
  {
   "cell_type": "code",
   "execution_count": null,
   "metadata": {},
   "outputs": [],
   "source": [
    "to_join = [\n",
    "    (seq, storage_enzyme),\n",
    "    (storage_vector_seq, storage_enzyme),\n",
    "]\n",
    "plasmid_map = golden_gate.assemble(to_join, linear=False)"
   ]
  },
  {
   "cell_type": "markdown",
   "metadata": {},
   "source": [
    "# 3G"
   ]
  },
  {
   "cell_type": "markdown",
   "metadata": {},
   "source": [
    "# Part expressions test"
   ]
  },
  {
   "cell_type": "code",
   "execution_count": null,
   "metadata": {},
   "outputs": [],
   "source": [
    "import tatsu"
   ]
  },
  {
   "cell_type": "code",
   "execution_count": null,
   "metadata": {},
   "outputs": [],
   "source": [
    "# digest\n",
    "# PCR\n",
    "# annealed oligos\n",
    "# dsDNA oligo\n",
    "# construct part seq from spreadsheet if no implementation"
   ]
  },
  {
   "cell_type": "code",
   "execution_count": null,
   "metadata": {},
   "outputs": [],
   "source": [
    "command = \"pLIB225/BsaI,oLIT0.9=oLIT0.10/BsaI\"\n",
    "command = \"oLIT9=oLIT10/BsaI\"\n",
    "###\n",
    "command = \"oLIT0.9=oLIT0.10\"\n",
    "command = \"oLIT0.9=oLIT0.10/BsaI\"\n",
    "command = \"pLIB225<oLIB1,oLIB2>/BsaI\"\n",
    "# command = \"oLIT1=oLIT2<oLIB1,oLIB2>/BsaI\"\n",
    "# command = \"oLIT1=oLIT2<oLIB1,oLIB2>\"\n",
    "# command = \"pLIB225/BsaI\"\n",
    "###\n",
    "# command = \"oLIT0.9=oLIT0.10,oLIT0.9=oLIT0.10\"\n",
    "# command = \"oLIT0.9=oLIT0.10/BsaI,oLIT0.9=oLIT0.10/BsaI\"\n",
    "command = \"oLIT1=oLIT2<oLIB1,oLIB2>/BsaI,oLIT1=oLIT2<oLIB1,oLIB2>/BsaI\"\n",
    "ast = parser.parse(command)\n",
    "ast"
   ]
  },
  {
   "cell_type": "markdown",
   "metadata": {},
   "source": [
    "# Command parsing"
   ]
  },
  {
   "cell_type": "code",
   "execution_count": null,
   "metadata": {},
   "outputs": [],
   "source": [
    "import paulssonlab.cloning.commands as commands"
   ]
  },
  {
   "cell_type": "code",
   "execution_count": null,
   "metadata": {},
   "outputs": [],
   "source": [
    "commands.expr_parser.parse(\"oLIT1=oLIT2<oLIB1,oLIB2>/BsaI\")"
   ]
  },
  {
   "cell_type": "code",
   "execution_count": null,
   "metadata": {},
   "outputs": [],
   "source": [
    "commands.expr_parser.parse(\n",
    "    \"oLIT1=oLIT2<oLIB1,oLIB2>/BsaI,oLIT1=oLIT2<oLIB1,oLIB2>/BsaI\"\n",
    ")"
   ]
  },
  {
   "cell_type": "code",
   "execution_count": null,
   "metadata": {},
   "outputs": [],
   "source": [
    "commands.command_parser.parse(\n",
    "    \"@3(foo, bar, baz, oLIT1=oLIT2<oLIB1,oLIB2>/BsaI, oLIT1=oLIT2<oLIB1,oLIB2>/BsaI)\"\n",
    ")"
   ]
  },
  {
   "cell_type": "code",
   "execution_count": null,
   "metadata": {},
   "outputs": [],
   "source": [
    "command = \"@Gib(@GG(UNS1, J23101, BCD11, UNS5), pLIB47<oLIB22,oLIB24>/BsaI)\"\n",
    "ast = commands.command_parser.parse(command)\n",
    "ast"
   ]
  },
  {
   "cell_type": "code",
   "execution_count": null,
   "metadata": {},
   "outputs": [],
   "source": [
    "# command = (\n",
    "#     \"@3G(UNS1-J23101-BCD11-mVenus-L3S3P11-UNS5, UNS5-J23150-CFP-BCD16-L3S2P55-UNS10)\"\n",
    "# )\n",
    "# command = \"@Gib(@GG(UNS1, J23101, BCD11, UNS5), pLIB47~oLIB22,oLIB24/BsaI)\"\n",
    "# command = \"@Gib(@GG(UNS1, J23101, BCD11, UNS5), @PCR(pLIB47, oLIB22, oLIB24)/BsaI)\"\n",
    "# command = (\n",
    "#     \"@Gib(@GG(UNS1, J23101, BCD11, UNS5), @RE(@PCR(pLIB47, oLIB22, oLIB24), BsaI))\"\n",
    "# )"
   ]
  },
  {
   "cell_type": "code",
   "execution_count": null,
   "metadata": {},
   "outputs": [],
   "source": [
    "part_sheet.sync?"
   ]
  },
  {
   "cell_type": "code",
   "execution_count": null,
   "metadata": {},
   "outputs": [],
   "source": [
    "def get_named_sequence(name, part_sheet, plasmid_maps):\n",
    "    # try plasmid, strain, part\n",
    "    pass\n",
    "\n",
    "\n",
    "def goldengate(*args):\n",
    "    return \"gg\", args\n",
    "\n",
    "\n",
    "def threeg(*args):\n",
    "    return \"3g\", args\n",
    "\n",
    "\n",
    "commands = {\"GG\": goldengate, \"3G\": threeg}\n",
    "\n",
    "get_named_sequence(\"pLIB27\")"
   ]
  },
  {
   "cell_type": "code",
   "execution_count": null,
   "metadata": {},
   "outputs": [],
   "source": [
    "reference_parser = tatsu.compile(grammar_preamble + reference_grammar)\n",
    "\n",
    "\n",
    "class CloningCommandSemantics(object):\n",
    "    def __init__(self, commands):\n",
    "        self.commands = commands\n",
    "\n",
    "    def command(self, ast):\n",
    "        if ast.command_name not in self.commands:\n",
    "            raise tatsu.semantics.SemanticError(\n",
    "                \"command must be one of: {}\".format(\n",
    "                    \", \".join([f\"@{k}\" for k in commands.keys()])\n",
    "                )\n",
    "            )\n",
    "        command = self.commands[ast.command_name]\n",
    "        return command(ast.arguments)\n",
    "\n",
    "    def int_(self, ast):\n",
    "        return int(s)\n",
    "\n",
    "    def float_(self, ast):\n",
    "        return float(s)\n",
    "\n",
    "    def name(self, ast):\n",
    "        return ast.name\n",
    "\n",
    "    def assembly(self, ast):\n",
    "        return ast.assembly\n",
    "\n",
    "\n",
    "# parser.parse(command, semantics=CloningCommandSemantics())"
   ]
  },
  {
   "cell_type": "code",
   "execution_count": null,
   "metadata": {},
   "outputs": [],
   "source": [
    "# GG\n",
    "command = \"@GG(J23101, BCD11, mVenus, L3S3P11, p121/BsaI)\"\n",
    "# 3G\n",
    "# command = \"@3G(@GG(UNS1, J23101, BCD11, mVenus, L3S3P11, UNS5), @GG(UNS5, J23150, CFP, BCD16, L3S2P55, UNS10), JUMP_p15a_UNS1_UNS10)\""
   ]
  },
  {
   "cell_type": "code",
   "execution_count": null,
   "metadata": {},
   "outputs": [],
   "source": [
    "parser.parse(command, semantics=CloningCommandSemantics(commands))"
   ]
  }
 ],
 "metadata": {
  "kernelspec": {
   "display_name": "Python 3",
   "language": "python",
   "name": "python3"
  },
  "language_info": {
   "codemirror_mode": {
    "name": "ipython",
    "version": 3
   },
   "file_extension": ".py",
   "mimetype": "text/x-python",
   "name": "python",
   "nbconvert_exporter": "python",
   "pygments_lexer": "ipython3",
   "version": "3.8.6"
  }
 },
 "nbformat": 4,
 "nbformat_minor": 4
}
