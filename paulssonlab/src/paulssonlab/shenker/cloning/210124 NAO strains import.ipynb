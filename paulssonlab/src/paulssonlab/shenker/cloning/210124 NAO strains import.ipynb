{
 "cells": [
  {
   "cell_type": "code",
   "execution_count": null,
   "metadata": {},
   "outputs": [],
   "source": [
    "import pandas as pd\n",
    "import toml\n",
    "import re\n",
    "import pygsheets\n",
    "from tqdm.auto import tqdm\n",
    "import Bio.Restriction as Restriction\n",
    "import benchlingapi"
   ]
  },
  {
   "cell_type": "code",
   "execution_count": null,
   "metadata": {},
   "outputs": [],
   "source": [
    "%load_ext autoreload\n",
    "%autoreload 2"
   ]
  },
  {
   "cell_type": "code",
   "execution_count": null,
   "metadata": {},
   "outputs": [],
   "source": [
    "import paulssonlab.api as api\n",
    "from paulssonlab.api.util import base_url\n",
    "import paulssonlab.cloning.workflow as workflow\n",
    "import paulssonlab.cloning.util as cloning_util\n",
    "import paulssonlab.cloning.sequence as sequence\n",
    "import paulssonlab.cloning.registry as registry\n",
    "import paulssonlab.cloning.enzyme as enzyme"
   ]
  },
  {
   "cell_type": "markdown",
   "metadata": {},
   "source": [
    "# Setup"
   ]
  },
  {
   "cell_type": "code",
   "execution_count": null,
   "metadata": {},
   "outputs": [],
   "source": [
    "config = toml.load(\"config.toml\")"
   ]
  },
  {
   "cell_type": "code",
   "execution_count": null,
   "metadata": {},
   "outputs": [],
   "source": [
    "gc = pygsheets.authorize(service_account_file=\"credentials.json\")"
   ]
  },
  {
   "cell_type": "code",
   "execution_count": null,
   "metadata": {},
   "outputs": [],
   "source": [
    "reg = registry.Registry(gc, config[\"registry\"][\"folder\"])"
   ]
  },
  {
   "cell_type": "markdown",
   "metadata": {},
   "source": [
    "# NAO strain sheet parsing"
   ]
  },
  {
   "cell_type": "code",
   "execution_count": null,
   "metadata": {},
   "outputs": [],
   "source": [
    "nao_sheets = gc.open_by_key(\"1nuEeeEwU4Rj4HFjwCWKi6P9sapH2-mPDf4XSDQBiptk\")\n",
    "tus_sheet = nao_sheets.worksheet(value=0)\n",
    "strains_sheet = nao_sheets.worksheet(value=2)\n",
    "tus = tus_sheet.get_as_df()\n",
    "strains = strains_sheet.get_as_df()"
   ]
  },
  {
   "cell_type": "code",
   "execution_count": null,
   "metadata": {},
   "outputs": [],
   "source": [
    "tus_sheet.get_as_df?"
   ]
  },
  {
   "cell_type": "code",
   "execution_count": null,
   "metadata": {},
   "outputs": [],
   "source": [
    "lib_parts = reg.get_df_by_id(reg.registry[(\"LIB\", \"parts\")])\n",
    "# plib_plasmids = reg.get_df_by_id(reg.registry[(\"pLIB\",\"plasmids\")])\n",
    "lib_strains = reg.get_df_by_id(reg.registry[(\"LIB\", \"strains\")])"
   ]
  },
  {
   "cell_type": "code",
   "execution_count": null,
   "metadata": {},
   "outputs": [],
   "source": [
    "lib_parts[lib_parts[\"Usage\"].str.contains(\"pLIB1/\")].iloc[0]"
   ]
  },
  {
   "cell_type": "code",
   "execution_count": null,
   "metadata": {},
   "outputs": [],
   "source": [
    "lib_parts[lib_parts[\"Tags\"].str.contains(\"3g\")].iloc[0][\"Description\"]"
   ]
  },
  {
   "cell_type": "code",
   "execution_count": null,
   "metadata": {},
   "outputs": [],
   "source": [
    "plasmid_wells = lib_strains[lib_strains.index.str.len() != 0]\n",
    "plasmid_wells = plasmid_wells[plasmid_wells[\"Tags\"].str.contains(\"3g\")]\n",
    "plasmid_wells = plasmid_wells[[\"Plasmids\", \"Other Notes\"]]\n",
    "plasmid_wells[\"Well\"] = plasmid_wells[\"Other Notes\"].map(\n",
    "    lambda s: re.search(r\"Well: ([A-Z0-9]+)\", s).group(1)\n",
    ")"
   ]
  },
  {
   "cell_type": "code",
   "execution_count": null,
   "metadata": {},
   "outputs": [],
   "source": [
    "well_to_plasmid = dict(plasmid_wells[[\"Plasmids\", \"Well\"]].values[:, ::-1])"
   ]
  },
  {
   "cell_type": "code",
   "execution_count": null,
   "metadata": {},
   "outputs": [],
   "source": [
    "name_corrections = [\"PsigW\", \"sigW\", \"rsiW\"]\n",
    "name_corrections = {k.lower(): k for k in name_corrections}"
   ]
  },
  {
   "cell_type": "code",
   "execution_count": null,
   "metadata": {},
   "outputs": [],
   "source": [
    "def get_part_name(reg, parts_sheet, well_to_plasmid, name_corrections, name):\n",
    "    # LIB number: LIB262\n",
    "    if name.startswith(\"LIB\"):\n",
    "        strain = reg.get(name)\n",
    "        plasmids = re.split(r\"\\s*,\\s*\", strain[\"Plasmids\"])\n",
    "        if len(plasmids) != 1:\n",
    "            raise ValueError(\n",
    "                f\"expecting a single plasmid for strain {name}: {plasmids}\"\n",
    "            )\n",
    "        plasmid = plasmids[0]\n",
    "        return get_part_name(\n",
    "            reg, parts_sheet, well_to_plasmid, name_corrections, plasmid\n",
    "        )\n",
    "    elif name.startswith(\"pLIB\"):\n",
    "        part_name = (\n",
    "            parts_sheet[parts_sheet[\"Usage\"].str.contains(f\"{name}/\")].iloc[0].name\n",
    "        )\n",
    "        return part_name\n",
    "    # pLIB number: 199\n",
    "    elif name.isdigit():  # isdigit isn't robust, but fine for this\n",
    "        return get_part_name(\n",
    "            reg, parts_sheet, well_to_plasmid, name_corrections, f\"pLIB{name}\"\n",
    "        )\n",
    "    # well number: A11\n",
    "    elif re.match(r\"(1|2)?[A-H][0-9]{1,2}b?\", name):\n",
    "        well = name\n",
    "        if well[-1] == \"b\":\n",
    "            well = f\"2{well[:-1]}\"\n",
    "        if well[0] not in (\"1\", \"2\"):\n",
    "            well = f\"1{well}\"\n",
    "        plasmid = well_to_plasmid[well]\n",
    "        return get_part_name(\n",
    "            reg, parts_sheet, well_to_plasmid, name_corrections, plasmid\n",
    "        )\n",
    "    # part capitalization: Psigw -> PsigW, SigW -> sigW\n",
    "    elif name.lower() in name_corrections:\n",
    "        return name_corrections[name.lower()]\n",
    "    # part\n",
    "    return name"
   ]
  },
  {
   "cell_type": "code",
   "execution_count": null,
   "metadata": {},
   "outputs": [],
   "source": [
    "nao_names = pd.melt(tus.iloc[:, 4:8])[\"value\"].value_counts()\n",
    "nao_names"
   ]
  },
  {
   "cell_type": "code",
   "execution_count": null,
   "metadata": {},
   "outputs": [],
   "source": [
    "name_map = {}\n",
    "for name in nao_names.index:\n",
    "    name = str(name)\n",
    "    new_name = get_part_name(reg, lib_parts, well_to_plasmid, name_corrections, name)\n",
    "    name_map[name] = new_name"
   ]
  },
  {
   "cell_type": "code",
   "execution_count": null,
   "metadata": {},
   "outputs": [],
   "source": [
    "tus[\n",
    "    \"Description of TU function (e.g. expression strength, expressed protein, circuit it is intended for)\"\n",
    "]"
   ]
  },
  {
   "cell_type": "code",
   "execution_count": null,
   "metadata": {},
   "outputs": [],
   "source": [
    "tu_to_command = {}\n",
    "for _, row in tus.iterrows():\n",
    "    uns_a = row[\"UNS_A\"]\n",
    "    uns_e = row[\"UNS_E\"]\n",
    "    promoter = name_map[str(row[\"Promoter (pLIB number or 3G part ID) \"])]\n",
    "    rbs = name_map[str(row[\"Ribosome binding site (pLIB number or 3G part ID) \"])]\n",
    "    cds = name_map[str(row[\"Coding region (pLIB number or 3G part ID) \"])]\n",
    "    term = name_map[str(row[\"Terminator (pLIB number or 3G part ID) \"])]\n",
    "    command = f\"@GG(UNS{uns_a}_A, {promoter}, {rbs}, {cds}, {term}, UNS{uns_e}_E)\"\n",
    "    tu_to_command[int(row[\"tLIB number\"].replace(\"tLIB\", \"\"))] = command"
   ]
  },
  {
   "cell_type": "code",
   "execution_count": null,
   "metadata": {},
   "outputs": [],
   "source": [
    "strains.tail()[\"TUs\"].map(\n",
    "    lambda s: \", \".join([tu_to_command[int(t)] for t in str(s).split(\",\")])\n",
    ").values"
   ]
  },
  {
   "cell_type": "code",
   "execution_count": null,
   "metadata": {},
   "outputs": [],
   "source": [
    "tu_to_command"
   ]
  },
  {
   "cell_type": "code",
   "execution_count": null,
   "metadata": {},
   "outputs": [],
   "source": []
  }
 ],
 "metadata": {
  "kernelspec": {
   "display_name": "Python 3",
   "language": "python",
   "name": "python3"
  },
  "language_info": {
   "codemirror_mode": {
    "name": "ipython",
    "version": 3
   },
   "file_extension": ".py",
   "mimetype": "text/x-python",
   "name": "python",
   "nbconvert_exporter": "python",
   "pygments_lexer": "ipython3",
   "version": "3.8.6"
  }
 },
 "nbformat": 4,
 "nbformat_minor": 4
}
