{
 "cells": [
  {
   "cell_type": "code",
   "execution_count": null,
   "id": "0",
   "metadata": {},
   "outputs": [],
   "source": [
    "import os\n",
    "import re\n",
    "\n",
    "import benchlingapi\n",
    "import Bio.Restriction as Restriction\n",
    "import pandas as pd\n",
    "import pygsheets\n",
    "import RNA\n",
    "import toml\n",
    "from Bio.Seq import Seq\n",
    "from tqdm.auto import tqdm"
   ]
  },
  {
   "cell_type": "code",
   "execution_count": null,
   "id": "1",
   "metadata": {},
   "outputs": [],
   "source": [
    "%load_ext autoreload\n",
    "%autoreload 2"
   ]
  },
  {
   "cell_type": "code",
   "execution_count": null,
   "id": "2",
   "metadata": {},
   "outputs": [],
   "source": [
    "import paulssonlab.api as api\n",
    "import paulssonlab.cloning.commands.parser as cmd_parser\n",
    "import paulssonlab.cloning.commands.semantics as cmd_semantics\n",
    "import paulssonlab.cloning.enzyme as enzyme\n",
    "import paulssonlab.cloning.registry as registry\n",
    "import paulssonlab.cloning.sequence as sequence\n",
    "import paulssonlab.cloning.util as cloning_util\n",
    "import paulssonlab.cloning.workflow as workflow\n",
    "from paulssonlab.api.util import base_url"
   ]
  },
  {
   "cell_type": "markdown",
   "id": "3",
   "metadata": {},
   "source": [
    "# Setup"
   ]
  },
  {
   "cell_type": "code",
   "execution_count": null,
   "id": "4",
   "metadata": {},
   "outputs": [],
   "source": [
    "config = toml.load(\"config.toml\")"
   ]
  },
  {
   "cell_type": "code",
   "execution_count": null,
   "id": "5",
   "metadata": {},
   "outputs": [],
   "source": [
    "gc = pygsheets.authorize(service_account_file=\"credentials.json\")"
   ]
  },
  {
   "cell_type": "code",
   "execution_count": null,
   "id": "6",
   "metadata": {},
   "outputs": [],
   "source": [
    "reg = registry.Registry(gc, config[\"registry\"][\"folder\"])"
   ]
  },
  {
   "cell_type": "code",
   "execution_count": null,
   "id": "7",
   "metadata": {},
   "outputs": [],
   "source": [
    "# FROM: https://github.com/ViennaRNA/ViennaRNA/issues/64\n",
    "\n",
    "# read DNA parameters\n",
    "RNA.read_parameter_file(\n",
    "    f\"{os.environ['CONDA_PREFIX']}/share/ViennaRNA/dna_mathews2004.par\"\n",
    ")\n",
    "\n",
    "\n",
    "def primer_secondary_structure(seq):\n",
    "    md = RNA.md()\n",
    "    fc = RNA.fold_compound(seq, md)\n",
    "    (_, mfe_monomer) = fc.mfe()\n",
    "    fc_dimer = RNA.fold_compound(f\"{seq}&{seq}\", md)\n",
    "    (_, mfe_homodimer) = fc_dimer.mfe()\n",
    "    return mfe_monomer, mfe_homodimer"
   ]
  },
  {
   "cell_type": "markdown",
   "id": "8",
   "metadata": {},
   "source": [
    "# Flipped backbone primers"
   ]
  },
  {
   "cell_type": "code",
   "execution_count": null,
   "id": "9",
   "metadata": {},
   "outputs": [],
   "source": [
    "nonflipped_r = reg.get(\"oLIB193\")[\"_seq\"]\n",
    "nonflipped_f = reg.get(\"oLIB194\")[\"_seq\"]\n",
    "uns1 = reg.get(\"UNS1\")[\"_seq\"]\n",
    "uns10 = reg.get(\"UNS10\")[\"_seq\"]\n",
    "bb_prefix = reg.get(\"BioBrick_prefix\")[\"_seq\"]\n",
    "bb_suffix = reg.get(\"BioBrick_suffix\")[\"_seq\"]"
   ]
  },
  {
   "cell_type": "code",
   "execution_count": null,
   "id": "10",
   "metadata": {},
   "outputs": [],
   "source": [
    "binding_r = nonflipped_r[len(uns1) :]\n",
    "binding_f = nonflipped_f[len(uns10) :]"
   ]
  },
  {
   "cell_type": "code",
   "execution_count": null,
   "id": "11",
   "metadata": {},
   "outputs": [],
   "source": [
    "nonflipped_r[: len(uns1)] == uns1.reverse_complement().seq"
   ]
  },
  {
   "cell_type": "code",
   "execution_count": null,
   "id": "12",
   "metadata": {},
   "outputs": [],
   "source": [
    "nonflipped_f[: len(uns10)] == uns10.seq"
   ]
  },
  {
   "cell_type": "code",
   "execution_count": null,
   "id": "13",
   "metadata": {},
   "outputs": [],
   "source": [
    "uns1.reverse_complement() + binding_r"
   ]
  },
  {
   "cell_type": "code",
   "execution_count": null,
   "id": "14",
   "metadata": {},
   "outputs": [],
   "source": [
    "nonflipped_r == sequence.get_seq(uns1.reverse_complement() + binding_r)"
   ]
  },
  {
   "cell_type": "code",
   "execution_count": null,
   "id": "15",
   "metadata": {},
   "outputs": [],
   "source": [
    "nonflipped_f == sequence.get_seq(uns10 + binding_f)"
   ]
  },
  {
   "cell_type": "code",
   "execution_count": null,
   "id": "16",
   "metadata": {},
   "outputs": [],
   "source": [
    "uns1.reverse_complement().seq"
   ]
  },
  {
   "cell_type": "code",
   "execution_count": null,
   "id": "17",
   "metadata": {},
   "outputs": [],
   "source": [
    "uns10.seq"
   ]
  },
  {
   "cell_type": "code",
   "execution_count": null,
   "id": "18",
   "metadata": {},
   "outputs": [],
   "source": [
    "# good for 174/5\n",
    "# new_binding_r = Seq(\"ctgcaaaactccttaattaaag\")\n",
    "# new_binding_f = Seq(\"gacttcgctctagtc\")\n",
    "\n",
    "new_binding_r = Seq(\"caaaactccttaattaaagg\")\n",
    "new_binding_f = Seq(\"cttcgctctagtcttg\")"
   ]
  },
  {
   "cell_type": "code",
   "execution_count": null,
   "id": "19",
   "metadata": {},
   "outputs": [],
   "source": [
    "flipped_oldsite_r = uns10 + binding_r\n",
    "flipped_oldsite_f = uns1.reverse_complement() + binding_f\n",
    "new_nonflipped_r = uns1.reverse_complement() + new_binding_r  # [:-1]\n",
    "new_nonflipped_f = uns10 + new_binding_f\n",
    "flipped_r = uns10 + new_binding_r\n",
    "flipped_f = uns1.reverse_complement() + new_binding_f  # [:-1]"
   ]
  },
  {
   "cell_type": "code",
   "execution_count": null,
   "id": "20",
   "metadata": {},
   "outputs": [],
   "source": [
    "primers = {\n",
    "    \"Name\": \"Bases\",\n",
    "    # \"oLIB193\": nonflipped_r,\n",
    "    # \"oLIB194\": nonflipped_f,\n",
    "    \"oLIB173\": flipped_oldsite_r,\n",
    "    \"oLIB174\": flipped_oldsite_f,\n",
    "    \"oLIB175\": new_nonflipped_r,\n",
    "    \"oLIB176\": new_nonflipped_f,\n",
    "    \"oLIB177\": flipped_r,\n",
    "    \"oLIB178\": flipped_f,\n",
    "}\n",
    "primers = {n: str(sequence.get_seq(p)) for n, p in primers.items()}\n",
    "for name, seq in primers.items():\n",
    "    print(f\"{name}\\t{seq}\")"
   ]
  },
  {
   "cell_type": "code",
   "execution_count": null,
   "id": "21",
   "metadata": {},
   "outputs": [],
   "source": [
    "for name, seq in primers.items():\n",
    "    if name == \"Name\":\n",
    "        continue\n",
    "    mfe_monomer, mfe_homodimer = primer_secondary_structure(seq)\n",
    "    print(f\"{name}\\t{mfe_monomer}\\t{mfe_homodimer}\")"
   ]
  },
  {
   "cell_type": "code",
   "execution_count": null,
   "id": "22",
   "metadata": {},
   "outputs": [],
   "source": [
    "import primer3"
   ]
  },
  {
   "cell_type": "code",
   "execution_count": null,
   "id": "23",
   "metadata": {},
   "outputs": [],
   "source": [
    "primer3.calcTm(new_binding_r.encode())"
   ]
  },
  {
   "cell_type": "code",
   "execution_count": null,
   "id": "24",
   "metadata": {},
   "outputs": [],
   "source": [
    "# test gibson for 3G"
   ]
  },
  {
   "cell_type": "code",
   "execution_count": null,
   "id": "25",
   "metadata": {},
   "outputs": [],
   "source": [
    "# single function for syncing a benchling folder of (and optionally attaching primers to sequences?)"
   ]
  }
 ],
 "metadata": {
  "kernelspec": {
   "display_name": "Python 3 (ipykernel)",
   "language": "python",
   "name": "python3"
  },
  "language_info": {
   "codemirror_mode": {
    "name": "ipython",
    "version": 3
   },
   "file_extension": ".py",
   "mimetype": "text/x-python",
   "name": "python",
   "nbconvert_exporter": "python",
   "pygments_lexer": "ipython3",
   "version": "3.8.8"
  }
 },
 "nbformat": 4,
 "nbformat_minor": 4
}
