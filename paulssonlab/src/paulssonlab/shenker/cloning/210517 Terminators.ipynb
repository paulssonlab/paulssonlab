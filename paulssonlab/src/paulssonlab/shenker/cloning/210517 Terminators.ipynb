{
 "cells": [
  {
   "cell_type": "code",
   "execution_count": null,
   "metadata": {},
   "outputs": [],
   "source": [
    "import pandas as pd\n",
    "import holoviews as hv\n",
    "import hvplot.pandas\n",
    "import matplotlib.pyplot as plt\n",
    "import seaborn as sns\n",
    "import toml\n",
    "import re\n",
    "import urllib\n",
    "from datetime import datetime\n",
    "import string\n",
    "import pygsheets\n",
    "import requests\n",
    "from tqdm.auto import tqdm\n",
    "import Bio.Restriction as Restriction\n",
    "from Bio.Seq import Seq\n",
    "from Bio.SeqRecord import SeqRecord\n",
    "import benchlingapi"
   ]
  },
  {
   "cell_type": "code",
   "execution_count": null,
   "metadata": {},
   "outputs": [],
   "source": [
    "%load_ext autoreload\n",
    "%autoreload 2"
   ]
  },
  {
   "cell_type": "code",
   "execution_count": null,
   "metadata": {},
   "outputs": [],
   "source": [
    "import paulssonlab.api as api\n",
    "import paulssonlab.api.benchling as bapi\n",
    "from paulssonlab.api.util import base_url\n",
    "import paulssonlab.cloning.registry as registry\n",
    "import paulssonlab.cloning.workflow as workflow\n",
    "import paulssonlab.cloning.sequence as sequence"
   ]
  },
  {
   "cell_type": "code",
   "execution_count": null,
   "metadata": {},
   "outputs": [],
   "source": [
    "hv.extension(\"bokeh\")"
   ]
  },
  {
   "cell_type": "markdown",
   "metadata": {},
   "source": [
    "# Setup"
   ]
  },
  {
   "cell_type": "code",
   "execution_count": null,
   "metadata": {},
   "outputs": [],
   "source": [
    "config = toml.load(\"config.toml\")"
   ]
  },
  {
   "cell_type": "code",
   "execution_count": null,
   "metadata": {},
   "outputs": [],
   "source": [
    "gc = pygsheets.authorize(service_account_file=\"credentials.json\")"
   ]
  },
  {
   "cell_type": "code",
   "execution_count": null,
   "metadata": {},
   "outputs": [],
   "source": [
    "bench_session = benchlingapi.Session(config[\"benchling\"][\"api_key\"])\n",
    "benchling_folder = bapi.get_project_root(bench_session, config[\"benchling\"][\"project\"])"
   ]
  },
  {
   "cell_type": "code",
   "execution_count": null,
   "metadata": {},
   "outputs": [],
   "source": [
    "reg = registry.Registry(gc, config[\"registry\"][\"folder\"], benchling_folder)"
   ]
  },
  {
   "cell_type": "code",
   "execution_count": null,
   "metadata": {},
   "outputs": [],
   "source": [
    "strain_sheet = reg.get_sheet((\"LT\", \"strains\"))\n",
    "plasmid_sheet = reg.get_sheet((\"pLT\", \"plasmids\"))\n",
    "part_sheet = reg.get_sheet((\"LT\", \"parts\"))\n",
    "part_type_sheet = gc.open_by_key(col[\"parts\"]).worksheet_by_title(\"Part types\")"
   ]
  },
  {
   "cell_type": "code",
   "execution_count": null,
   "metadata": {},
   "outputs": [],
   "source": [
    "drive_service = plasmid_sheet.client.drive.service\n",
    "plasmid_folder = col[\"plasmid_maps\"]\n",
    "plasmid_maps = api.google.list_drive(drive_service, root=plasmid_folder)"
   ]
  },
  {
   "cell_type": "markdown",
   "metadata": {},
   "source": [
    "# Test"
   ]
  },
  {
   "cell_type": "code",
   "execution_count": null,
   "metadata": {},
   "outputs": [],
   "source": [
    "reg.registry"
   ]
  },
  {
   "cell_type": "code",
   "execution_count": null,
   "metadata": {},
   "outputs": [],
   "source": [
    "reg.get_sheet_by_id((\"LT\", \"parts\"))"
   ]
  },
  {
   "cell_type": "code",
   "execution_count": null,
   "metadata": {},
   "outputs": [],
   "source": [
    "reg.get_sheet_by_id((\"LT\", \"parts\", \"Part types\"))"
   ]
  },
  {
   "cell_type": "code",
   "execution_count": null,
   "metadata": {},
   "outputs": [],
   "source": [
    "reg.get_sheet((\"LT\", \"parts\"))"
   ]
  },
  {
   "cell_type": "markdown",
   "metadata": {},
   "source": [
    "# Voigt terminators"
   ]
  },
  {
   "cell_type": "code",
   "execution_count": null,
   "metadata": {},
   "outputs": [],
   "source": [
    "!mkdir -p data/2013terminators_supp\n",
    "!curl -b does_not_exist -Lo data/2013terminators_supp/supptable2.xlsx \"https://static-content.springer.com/esm/art%3A10.1038%2Fnmeth.2515/MediaObjects/41592_2013_BFnmeth2515_MOESM206_ESM.xlsx\"\n",
    "!curl -b does_not_exist -Lo data/2013terminators_supp/supptable3.xlsx \"https://static-content.springer.com/esm/art%3A10.1038%2Fnmeth.2515/MediaObjects/41592_2013_BFnmeth2515_MOESM207_ESM.xlsx\"\n",
    "!curl -b does_not_exist -Lo data/2013terminators_supp/supptable4.xlsx \"https://static-content.springer.com/esm/art%3A10.1038%2Fnmeth.2515/MediaObjects/41592_2013_BFnmeth2515_MOESM208_ESM.xlsx\""
   ]
  },
  {
   "cell_type": "markdown",
   "metadata": {},
   "source": [
    "# Data"
   ]
  },
  {
   "cell_type": "code",
   "execution_count": null,
   "metadata": {},
   "outputs": [],
   "source": [
    "# FROM: used https://www.adobe.com/acrobat/online/pdf-to-excel.html to convert\n",
    "# Table S1 (p. 23) from https://www.embopress.org/action/downloadSupplement?doi=10.15252%2Fmsb.20209584&file=msb209584-sup-0001-AppendixFig.pdf\n",
    "\n",
    "voigt_bidirectional_terms_tsv = \"\"\"\n",
    "name\tsequence\tTs_forward\tTs_reverse\n",
    "DT3\t\"CCGGCTTATCGGTCAGTTTCACCTGATTTACGTAAAAACCCGCTTCGGCGGGTTTTTGCTTTTGGAGGGGCAGAAAGATGAATGACTGTCCACGACGCTATACCCAAAAGAAAAAAAAAAAACCCCGCCCCTGACAGGGCGGGGTTTTTTTT\"\t\t3000\t\t\t\t120\t\t\n",
    "DT5\t\"TCCGGCAATTAAAAAAGCGGCTAACCACGCCGCTTTTTTTACGTCTGCACTCGGTACCAAATTCCAGAAAAGAGGCCTCCCGAAAGGGGGGCCTTTTTTCGTTTTGGTCC\"\t\t4700\t\t\t\t50\t\t\n",
    "DT19\tTTCAGCCAAAAAACTTAAGACCGCCGGTCTTGTCCACTACCTTGCAGTAATGCGGTGGACAGGATCGGCGGTTTTCTTTTCTCTTCTCAACTCGGTACCAAAGACGAACAATAAGACGCTGAAAAGCGTCTTTTTTCGTTTTGGTCC\t770\t\t\t\t1.2\t\t\t\n",
    "DT34\tGCTGATGCCAGAAAGGGTCCTGAATTTCAGGGCCCTTTTTTTACATGGATTGCTCGGTACCAAATTCCAGAAAAGAGACGCTTTCGAGCGTCTTTTTTCGTTTTGGTCC\t570\t\t\t\t1.4\t\t\t\n",
    "DT36\tGATCTAACTAAAAAGGCCGCTCTGCGGCCTTTTTTCTTTTCACTGTAACAACGGAAACCGGCCATTGCGCCGGTTTTTTTTGGCCT\t680\t\t\t\t3.2\t\t\t\n",
    "DT42\t\"AGTTAACCAAAAAGGGGGGATTTTATCTCCCCTTTAATTTTTCCTCGCAGATAGCAAAAAAGCGCCTTTAGGGCGCTTTTTTACATTG\n",
    "GTGG\"\t2500\t\t\t\t2.2\t\t\t\n",
    "DT54\t\"GGAAACACAGAAAAAAGCCCGCACCTGACAGTGCGGGCTTTTTTTTTCGACCAAAGGCTCGGTACCAAATTCCAGAAAAGACACCCGAAAGGGTGTTTTTTCGTTTTGGTCC\"\t\t1800\t\t\t\t30\t\t\n",
    "DT56\tTACCACCGTCAAAAAAAACGGCGCTTTTTAGCGCCGTTTTTATTTTTCAACCTTCCAGGCATCAAATAAAACGAAAGGCTCAGTCGAAAGACTGGGCCTTTCGTTTTATCTGTTGTTTGTCGGTGAACGCTCTC\t240\t\t\t\t11\t\t\t\n",
    "DT60\tACATTTAATAAAAAAAGGGCGGTCGCAAGATCGCCCTTTTTTACGTATGACACAGTGAAAAATGGCGCCCATCGGCGCCATTTTTTTATG\t110\t\t\t\t29\t\t\t\n",
    "DT65\tTGCTCGTACCAGGCCCCTGCAATTTCAACAGGGGCCTTTTTTTATCCAATTCCATCGGGTCCGAATTTTCGGACCTTTTCTCCGC\t400\t\t\t\t1.0\t\t\t\n",
    "DT82\t\"CTTATTCCATAACAAAGCCGGGTAATTCCCGGCTTTGTTGTATCTGAACAATAAATGGATGCCCTGCGTAAGCGGGGCATTTTTCTTCCT\"\t170\t\t\t\t2.8\t\t\t\n",
    "DT83\tAGCGTCAAAAGGCCGGATTTTCCGGCCTTTTTTATTAGGCAGCATGCTGCCAGGTGATCCCCCTGGCCACCTCTTTT\t600\t\t\t\t4.4\t\t\t\n",
    "DT86\tTAATCATTCTTAGCGTGACCGGGAAGTCGGTCACGCTACCTCTTCTGAAGAAACAGCAAACAATCCAAAACGCCGCGTTCAGCGGCGTTTTTTCTGCTTTTCT\t210\t\t\t\t0.4\t\t\t\n",
    "DT100\t\"GTGAAGTGAAAAATGGCGCACATTGTGCGCCATTTTTTTTGTCTGCCGTTTACCGCTTCTCTGAAAATCAACGGGCAGGTCACTGACTTGCCCGTTTTTTTATCCCTTCTCCACACCG\"\t4700\t\t\t\t12\t\t\t\n",
    "DT101\t\"TCTTTAAAAAGAAACCTCCGCATTGCGGAGGTTTCGCCTTTTGATACTCTGTCTGAAGTAATTCTTGCCGCAGTGAAAAATGGCGCCCATCGGCGCCATTTTTTTATGCTTCCATTAGAAAGCAAAAAGCCTGCTAGAAAGCAGGCTTTTTTGAATTTGGCTCCTCTGAC\"\t\t2800\t\t\t\t160\t\t\n",
    "DT103\t\"AAAGTTCTGAAAAAGGGTCACTTCGGTGGCCCTTTTTTATCGCCACGGTTTGAGCAGTGCACTTGCTTAAAATCCCGCCAGCGGCGGGATTTTTTATTGTCCGGTTTAAGACA\"\t790\t\t\t\t4.0\t\t\t\n",
    "DT104\t\"GCAGACAAAAAAAATGGCGCACAATGTGCGCCATTTTTCACTTCACAGGTACTATTGTTTTGAATTGAAAAGGGCGCTTCGGCGCCCTTTTTGCATTTGTTGACGGCATATATTTGTATATCGAAGCGCCCTGATGGGCGCTTTTTTTATTTAATCGATAACCAGA\"\t\t580\t\t\t\t101\t\t\n",
    "\"\"\"\n",
    "\n",
    "import io\n",
    "\n",
    "voigt_bidirectional_terms = pd.read_csv(\n",
    "    io.StringIO(voigt_bidirectional_terms_tsv), sep=\"\\s+\", index_col=0\n",
    ")"
   ]
  },
  {
   "cell_type": "code",
   "execution_count": null,
   "metadata": {},
   "outputs": [],
   "source": [
    "selected_terms = voigt_bidirectional_terms[\n",
    "    voigt_bidirectional_terms[\"Ts_reverse\"] >= 10\n",
    "]"
   ]
  },
  {
   "cell_type": "code",
   "execution_count": null,
   "metadata": {},
   "outputs": [],
   "source": [
    "selected_terms"
   ]
  },
  {
   "cell_type": "markdown",
   "metadata": {},
   "source": [
    "## Makeshift oligo orders"
   ]
  },
  {
   "cell_type": "code",
   "execution_count": null,
   "metadata": {},
   "outputs": [],
   "source": [
    "def _format_seq(seq):\n",
    "    return str(sequence.get_seq(seq)).lower()"
   ]
  },
  {
   "cell_type": "code",
   "execution_count": null,
   "metadata": {},
   "outputs": [],
   "source": [
    "NO_GBLOCK = [\"DT3\", \"DT56\", \"DT60\"]\n",
    "# NO_GBLOCK = []"
   ]
  },
  {
   "cell_type": "code",
   "execution_count": null,
   "metadata": {},
   "outputs": [],
   "source": [
    "overhangs = [\"aggt\", \"gctt\"]\n",
    "random_bases = (\n",
    "    \"GCTTCA\",\n",
    "    \"TGCTAA\",\n",
    ")  # to add between BsmBI recognition site and ends of oligos\n",
    "flanks = (\"CGTCTCGGTCTCa\", \"tGAGACCgGAGACG\")  # storage vector BsmBI flanks\n",
    "seqs_to_order = {}\n",
    "for term_name, row in selected_terms.iterrows():\n",
    "    seq = row[\"sequence\"]\n",
    "    seq = workflow.add_flanks(\n",
    "        workflow.add_overhangs(seq.lower(), overhangs),\n",
    "        [flanks, random_bases],\n",
    "    )\n",
    "    seqs_to_order[term_name] = seq"
   ]
  },
  {
   "cell_type": "code",
   "execution_count": null,
   "metadata": {},
   "outputs": [],
   "source": [
    "seqs_to_order"
   ]
  },
  {
   "cell_type": "code",
   "execution_count": null,
   "metadata": {},
   "outputs": [],
   "source": [
    "prefix = \"oLT\"\n",
    "id_num = 37\n",
    "for term_name, seq in seqs_to_order.items():\n",
    "    if term_name in NO_GBLOCK:\n",
    "        continue\n",
    "    # for sense in (False, True):\n",
    "    for sense in (True,):\n",
    "        if sense:\n",
    "            oligo_seq = seq\n",
    "        else:\n",
    "            oligo_seq = sequence.reverse_complement(seq)\n",
    "        id_ = f\"{prefix}{id_num}\"\n",
    "        name = f\"Voigt_{term_name}\"\n",
    "        print(f\"{id_}\\t{name}\\t{_format_seq(oligo_seq)}\")\n",
    "        # print(f\"{name}\\t{_format_seq(oligo_seq)}\")\n",
    "        id_num += 1"
   ]
  },
  {
   "cell_type": "code",
   "execution_count": null,
   "metadata": {},
   "outputs": [],
   "source": [
    "for term_name, seq in seqs_to_order.items():\n",
    "    if term_name not in NO_GBLOCK:\n",
    "        continue\n",
    "    for sense in (True, False):\n",
    "        if sense:\n",
    "            oligo_seq = seq\n",
    "        else:\n",
    "            oligo_seq = sequence.reverse_complement(seq)\n",
    "        id_ = f\"{prefix}{id_num}\"\n",
    "        name = f\"Voigt_{term_name}_{'sense' if sense else 'antisense'}\"\n",
    "        print(f\"{id_}\\t{name}\\t{_format_seq(oligo_seq)}\")\n",
    "        id_num += 1"
   ]
  }
 ],
 "metadata": {
  "kernelspec": {
   "display_name": "Python 3",
   "language": "python",
   "name": "python3"
  },
  "language_info": {
   "codemirror_mode": {
    "name": "ipython",
    "version": 3
   },
   "file_extension": ".py",
   "mimetype": "text/x-python",
   "name": "python",
   "nbconvert_exporter": "python",
   "pygments_lexer": "ipython3",
   "version": "3.8.8"
  }
 },
 "nbformat": 4,
 "nbformat_minor": 4
}
