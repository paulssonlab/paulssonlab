{
 "cells": [
  {
   "cell_type": "code",
   "execution_count": null,
   "metadata": {},
   "outputs": [],
   "source": [
    "import pandas as pd\n",
    "import toml\n",
    "import re\n",
    "import pygsheets\n",
    "from tqdm.auto import tqdm\n",
    "import Bio.Restriction as Restriction\n",
    "import benchlingapi"
   ]
  },
  {
   "cell_type": "code",
   "execution_count": null,
   "metadata": {},
   "outputs": [],
   "source": [
    "%load_ext autoreload\n",
    "%autoreload 2"
   ]
  },
  {
   "cell_type": "code",
   "execution_count": null,
   "metadata": {},
   "outputs": [],
   "source": [
    "import paulssonlab.api as api\n",
    "import paulssonlab.api.benchling as bapi\n",
    "from paulssonlab.api.util import base_url\n",
    "import paulssonlab.cloning.workflow as workflow\n",
    "import paulssonlab.cloning.util as cloning_util\n",
    "import paulssonlab.cloning.sequence as sequence\n",
    "import paulssonlab.cloning.registry as registry\n",
    "import paulssonlab.cloning.enzyme as enzyme\n",
    "import paulssonlab.cloning.commands.semantics as cmd_semantics\n",
    "import paulssonlab.cloning.commands.parser as cmd_parser\n",
    "import paulssonlab.api.benchling as benchling"
   ]
  },
  {
   "cell_type": "markdown",
   "metadata": {},
   "source": [
    "# Setup"
   ]
  },
  {
   "cell_type": "code",
   "execution_count": null,
   "metadata": {},
   "outputs": [],
   "source": [
    "config = toml.load(\"config.toml\")"
   ]
  },
  {
   "cell_type": "code",
   "execution_count": null,
   "metadata": {},
   "outputs": [],
   "source": [
    "gc = pygsheets.authorize(service_account_file=\"credentials.json\")"
   ]
  },
  {
   "cell_type": "code",
   "execution_count": null,
   "metadata": {},
   "outputs": [],
   "source": [
    "bench_session = benchlingapi.Session(config[\"benchling\"][\"api_key\"])\n",
    "benchling_folder = bapi.get_project_root(bench_session, config[\"benchling\"][\"project\"])"
   ]
  },
  {
   "cell_type": "code",
   "execution_count": null,
   "metadata": {},
   "outputs": [],
   "source": [
    "reg = registry.Registry(gc, config[\"registry\"][\"folder\"], benchling_folder)"
   ]
  },
  {
   "cell_type": "markdown",
   "metadata": {},
   "source": [
    "# Test"
   ]
  },
  {
   "cell_type": "code",
   "execution_count": null,
   "metadata": {},
   "outputs": [],
   "source": [
    "# reg.duplicate_collection(\"LIB\", \"TEST\")"
   ]
  },
  {
   "cell_type": "code",
   "execution_count": null,
   "metadata": {},
   "outputs": [],
   "source": [
    "reg.refresh()"
   ]
  },
  {
   "cell_type": "code",
   "execution_count": null,
   "metadata": {},
   "outputs": [],
   "source": [
    "del reg.clients[(\"oTEST\", \"oligos\")]"
   ]
  },
  {
   "cell_type": "code",
   "execution_count": null,
   "metadata": {},
   "outputs": [],
   "source": [
    "c = reg[(\"oTEST\", \"oligos\")]"
   ]
  },
  {
   "cell_type": "code",
   "execution_count": null,
   "metadata": {},
   "outputs": [],
   "source": [
    "c.clear_cache()"
   ]
  },
  {
   "cell_type": "code",
   "execution_count": null,
   "metadata": {},
   "outputs": [],
   "source": [
    "c[\"OTEST4\"]"
   ]
  },
  {
   "cell_type": "code",
   "execution_count": null,
   "metadata": {},
   "outputs": [],
   "source": [
    "c.remote"
   ]
  },
  {
   "cell_type": "code",
   "execution_count": null,
   "metadata": {},
   "outputs": [],
   "source": [
    "c.keys()"
   ]
  },
  {
   "cell_type": "code",
   "execution_count": null,
   "metadata": {},
   "outputs": [],
   "source": [
    "c.clear_cache()"
   ]
  },
  {
   "cell_type": "code",
   "execution_count": null,
   "metadata": {},
   "outputs": [],
   "source": [
    "c[\"oTEST2\"] = {\"Author\": \"oTEST2 author\", \"Name\": \"oTEST2_name\"}\n",
    "c[\"oTEST4\"] = {\"Author\": \"oTEST4 author\", \"Name\": \"oTEST4_name\"}\n",
    "c[c.next_id()] = {\"Name\": \"next\"}"
   ]
  },
  {
   "cell_type": "code",
   "execution_count": null,
   "metadata": {},
   "outputs": [],
   "source": [
    "c[c.next_id()] = {\"Name\": \"next2\"}\n",
    "c[c.next_id()] = {\"Author\": \"next3\"}\n",
    "c[c.next_id()] = {\"Date\": \"next4\"}\n",
    "c[c.next_id()] = {\"Vendor\": \"next5\"}\n",
    "c[c.next_id()] = {\"Type\": \"next6\"}"
   ]
  },
  {
   "cell_type": "code",
   "execution_count": null,
   "metadata": {},
   "outputs": [],
   "source": [
    "c.save()"
   ]
  },
  {
   "cell_type": "code",
   "execution_count": null,
   "metadata": {},
   "outputs": [],
   "source": [
    "c.remote"
   ]
  },
  {
   "cell_type": "code",
   "execution_count": null,
   "metadata": {},
   "outputs": [],
   "source": [
    "pygsheets.ValueRenderOption.FORMATTED_VALUE"
   ]
  },
  {
   "cell_type": "code",
   "execution_count": null,
   "metadata": {},
   "outputs": [],
   "source": [
    "api.google.sheets.update_sheet_rows(service, [(range_, [[\"x\", \"x\", \"y\"]])])"
   ]
  },
  {
   "cell_type": "code",
   "execution_count": null,
   "metadata": {},
   "outputs": [],
   "source": [
    "data"
   ]
  },
  {
   "cell_type": "code",
   "execution_count": null,
   "metadata": {},
   "outputs": [],
   "source": [
    "service = c.client.sheet.service\n",
    "id_ = c.spreadsheet.id\n",
    "range_ = pygsheets.DataRange((3, 1), (3, 3), worksheet=c.worksheet)\n",
    "\n",
    "data = [{\"range\": range_.range, \"values\": [[\"aa\", \"ba\", \"ca\"]]}]\n",
    "\n",
    "body = {\n",
    "    # How the input data should be interpreted.\n",
    "    \"value_input_option\": \"RAW\",  # TODO: Update placeholder value.\n",
    "    # The new values to apply to the spreadsheet.\n",
    "    \"data\": data,  # TODO: Update placeholder value.\n",
    "    # TODO: Add desired entries to the request body.\n",
    "}\n",
    "\n",
    "body\n",
    "\n",
    "request = service.spreadsheets().values().batchUpdate(spreadsheetId=id_, body=body)\n",
    "response = request.execute()"
   ]
  },
  {
   "cell_type": "markdown",
   "metadata": {},
   "source": [
    "# Benchling test"
   ]
  },
  {
   "cell_type": "code",
   "execution_count": null,
   "metadata": {},
   "outputs": [],
   "source": [
    "z = reg.sync_benchling(overwrite=True, return_data=True)"
   ]
  },
  {
   "cell_type": "code",
   "execution_count": null,
   "metadata": {},
   "outputs": [],
   "source": [
    "reg.duplicate_collection(\"LIB\", \"LT\", clear=True)"
   ]
  },
  {
   "cell_type": "code",
   "execution_count": null,
   "metadata": {},
   "outputs": [],
   "source": [
    "reg.registry"
   ]
  },
  {
   "cell_type": "markdown",
   "metadata": {},
   "source": [
    "# PCR simulation test"
   ]
  },
  {
   "cell_type": "code",
   "execution_count": null,
   "metadata": {},
   "outputs": [],
   "source": [
    "seq1 = \"TTTT\"\n",
    "seq1a = \"TTTTA\"\n",
    "seq1b = \"TTTTC\"\n",
    "seq1c = \"CCCCCCCCCCCTTTTC\"\n",
    "seq2 = \"AAAATTTTAAAATTTTAAAA\"\n",
    "seq3 = \"AGTGATTTTTTTCTCCATTCTTTGTGTGTTTTTTTTGTTTTATGAATTTTTTTAACTGATACCCGTTTTTTTGGAAGGAGACCCGTTTTTTTGGAAG\"\n",
    "seq4 = \"TTTTTTAAAAAAAGGGGGGGGGGGGGGTTTTTTCCCCCCCCCCCCAAAAAAATTTTTTAAAAAAA\"\n",
    "seq4p = \"GGGGGGGGGGGGGG\""
   ]
  },
  {
   "cell_type": "code",
   "execution_count": null,
   "metadata": {},
   "outputs": [],
   "source": [
    "sequence.find_primer_binding_site(seq4p, seq4)"
   ]
  },
  {
   "cell_type": "code",
   "execution_count": null,
   "metadata": {},
   "outputs": [],
   "source": [
    "sequence.slice_seq?"
   ]
  },
  {
   "cell_type": "code",
   "execution_count": null,
   "metadata": {},
   "outputs": [],
   "source": [
    "sequence.find_primer_binding_site(seq5, p2)"
   ]
  },
  {
   "cell_type": "code",
   "execution_count": null,
   "metadata": {},
   "outputs": [],
   "source": [
    "p1 = \"TTTTTAGAAGA\"\n",
    "p2 = \"TTTTTTAGAGGG\"\n",
    "seq5 = \"AGAAGACCCCGGGGCCCTCT\"\n",
    "sequence.pcr(seq5, p1, p2)"
   ]
  },
  {
   "cell_type": "code",
   "execution_count": null,
   "metadata": {},
   "outputs": [],
   "source": [
    "p1 = \"ttttttatggacaaag\"\n",
    "p2 = \"ttttttcgatacgggg\"\n",
    "seq6 = \"atggacaaagactttgatttcgataatattggcaaacgcaccccgtatcg\"\n",
    "sequence.pcr(seq6, p1, p2)"
   ]
  },
  {
   "cell_type": "code",
   "execution_count": null,
   "metadata": {},
   "outputs": [],
   "source": [
    "sequence.find_primer_binding_site(seq6, p2, try_reverse_complement=True)"
   ]
  },
  {
   "cell_type": "code",
   "execution_count": null,
   "metadata": {},
   "outputs": [],
   "source": [
    "sequence.find_primer_binding_site(\n",
    "    seq6, sequence.reverse_complement(p2), try_reverse_complement=False\n",
    ")"
   ]
  },
  {
   "cell_type": "code",
   "execution_count": null,
   "metadata": {},
   "outputs": [],
   "source": [
    "sequence.reverse_complement(seq5)"
   ]
  },
  {
   "cell_type": "markdown",
   "metadata": {},
   "source": [
    "# Circularization test"
   ]
  },
  {
   "cell_type": "code",
   "execution_count": null,
   "metadata": {},
   "outputs": [],
   "source": [
    "a = sequence.DsSeqRecord(\n",
    "    \"abcdxxxx\" + \"a\" * 20 + \"g\" * 20 + \"zabcdxxxx\",\n",
    "    upstream_overhang=-7,\n",
    "    downstream_overhang=14,\n",
    ")\n",
    "a"
   ]
  },
  {
   "cell_type": "code",
   "execution_count": null,
   "metadata": {},
   "outputs": [],
   "source": [
    "sequence._assemble_gibson(a, a, max_overlap=40)"
   ]
  },
  {
   "cell_type": "code",
   "execution_count": null,
   "metadata": {},
   "outputs": [],
   "source": [
    "sequence._assemble_gibson(a, None)"
   ]
  },
  {
   "cell_type": "code",
   "execution_count": null,
   "metadata": {},
   "outputs": [],
   "source": [
    "a.assemble(None, method=\"gibson\")"
   ]
  },
  {
   "cell_type": "code",
   "execution_count": null,
   "metadata": {},
   "outputs": [],
   "source": [
    "b = sequence.DsSeqRecord(\n",
    "    \"abcdxxxx\" + \"a\" * 20 + \"g\" * 20 + \"zabcd\",\n",
    "    upstream_overhang=-4,\n",
    "    downstream_overhang=4,\n",
    ")\n",
    "b"
   ]
  },
  {
   "cell_type": "code",
   "execution_count": null,
   "metadata": {},
   "outputs": [],
   "source": [
    "print(_)"
   ]
  },
  {
   "cell_type": "code",
   "execution_count": null,
   "metadata": {},
   "outputs": [],
   "source": [
    "b.assemble(None, method=\"goldengate\")"
   ]
  },
  {
   "cell_type": "code",
   "execution_count": null,
   "metadata": {},
   "outputs": [],
   "source": [
    "print(_)"
   ]
  },
  {
   "cell_type": "markdown",
   "metadata": {},
   "source": [
    "# Command parsing"
   ]
  },
  {
   "cell_type": "code",
   "execution_count": null,
   "metadata": {},
   "outputs": [],
   "source": [
    "commands.expr_parser.parse(\"oLIT1=oLIT2<oLIB1,oLIB2>/BsaI\")"
   ]
  },
  {
   "cell_type": "code",
   "execution_count": null,
   "metadata": {},
   "outputs": [],
   "source": [
    "commands.expr_parser.parse(\n",
    "    \"oLIT1=oLIT2<oLIB1,oLIB2>/BsaI,oLIT1=oLIT2<oLIB1,oLIB2>/BsaI\"\n",
    ")"
   ]
  },
  {
   "cell_type": "code",
   "execution_count": null,
   "metadata": {},
   "outputs": [],
   "source": [
    "commands.command_parser.parse(\n",
    "    \"@3(foo, bar, baz, oLIT1=oLIT2<oLIB1,oLIB2>/BsaI, oLIT1=oLIT2<oLIB1,oLIB2>/BsaI)\"\n",
    ")"
   ]
  },
  {
   "cell_type": "code",
   "execution_count": null,
   "metadata": {},
   "outputs": [],
   "source": [
    "command = \"@Gib(@GG(UNS1, J23101, BCD11, UNS5), pLIB47<oLIB22,oLIB24>/BsaI)\"\n",
    "ast = commands.command_parser.parse(command)\n",
    "ast"
   ]
  },
  {
   "cell_type": "code",
   "execution_count": null,
   "metadata": {},
   "outputs": [],
   "source": [
    "# command = (\n",
    "#     \"@3G(UNS1-J23101-BCD11-mVenus-L3S3P11-UNS5, UNS5-J23150-CFP-BCD16-L3S2P55-UNS10)\"\n",
    "# )\n",
    "# command = \"@Gib(@GG(UNS1, J23101, BCD11, UNS5), pLIB47~oLIB22,oLIB24/BsaI)\"\n",
    "# command = \"@Gib(@GG(UNS1, J23101, BCD11, UNS5), @PCR(pLIB47, oLIB22, oLIB24)/BsaI)\"\n",
    "# command = (\n",
    "#     \"@Gib(@GG(UNS1, J23101, BCD11, UNS5), @RE(@PCR(pLIB47, oLIB22, oLIB24), BsaI))\"\n",
    "# )"
   ]
  },
  {
   "cell_type": "code",
   "execution_count": null,
   "metadata": {},
   "outputs": [],
   "source": [
    "# GG\n",
    "# command = \"@GG(J23101, BCD11, mVenus, L3S3P11, p121/BsaI)\"\n",
    "# 3G\n",
    "# command = \"@3G(@GG(UNS1, J23101, BCD11, mVenus, L3S3P11, UNS5), @GG(UNS5, J23150, CFP, BCD16, L3S2P55, UNS10), JUMP_p15a_UNS1_UNS10)\"\n",
    "# command = \"\"\"@Gib(@GG:tLT(UNS1_A, pTac, B0032m_BC, sigW, L3S1P13, UNS3_E),\n",
    "#                   @GG:tLT(UNS3_A, J23107_AB, B0034m_BC, mScarlet-I, L3S3P11, UNS4_E),\n",
    "#                   @GG:tLT(UNS4_A, PsigW, B0032m_BC, sfGFP, L3S2P55, UNS5_E),\n",
    "#                   @GG:tLT(UNS5_A, pTet_AB, B0034m_BC, rsiW, L3S2P11, UNS6_E),\n",
    "#                   @GG:tLT(UNS6_A, PsigW, BCD16, sigW, L3S2P21, UNS10_E))\"\"\"\n",
    "# TODO: pLIB213-pLIB218 maps\n",
    "# TODO: BACKBONE!!!\n",
    "# command = \"\"\"@Gib(@GG:tLT3(UNS1_A, pTac, B0032m_BC, sfCFP, L3S1P13, UNS3_E),\n",
    "#                   @GG:tLT(UNS3_A, J23107_AB, B0034m_BC, mScarlet-I, L3S3P11, UNS4_E))\"\"\"\n",
    "# command = \"@GG:tLT(UNS1_A, pTac, B0032m_BC, sfCFP, L3S1P13, UNS3_E)\"\n",
    "command = \"\"\"@Gib(@GG:tLT(UNS1_A, pTac, B0032m_BC, sfCFP, L3S1P13, UNS3_E),\n",
    "                  @GG:tLT(UNS3_A, J23107_AB, B0034m_BC, mScarlet-I, L3S3P11, UNS4_E),\n",
    "                  @GG:tLT(UNS4_A, pTac, B0032m_BC, sfGFP, L3S2P55, UNS5_E),\n",
    "                  @GG:tLT(UNS5_A, pTet_AB, B0034m_BC, sfCFP, L3S2P11, UNS6_E),\n",
    "                  @GG:tLT(UNS6_A, pTac, BCD16, sfCFP, L3S2P21, UNS10_E))\"\"\""
   ]
  },
  {
   "cell_type": "code",
   "execution_count": null,
   "metadata": {},
   "outputs": [],
   "source": [
    "commands.command_parser.parse(command)"
   ]
  },
  {
   "cell_type": "code",
   "execution_count": null,
   "metadata": {},
   "outputs": [],
   "source": [
    "# TODO: better error message if next id fails\n",
    "# ignore columns with formulae when _get_next_empty_row"
   ]
  },
  {
   "cell_type": "code",
   "execution_count": null,
   "metadata": {},
   "outputs": [],
   "source": [
    "workflow.parse_id(\" tLIB  \")"
   ]
  },
  {
   "cell_type": "code",
   "execution_count": null,
   "metadata": {},
   "outputs": [],
   "source": [
    "workflow._get_next_empty_row(reg.get_sheet((\"tLT\", \"tus\")))"
   ]
  },
  {
   "cell_type": "code",
   "execution_count": null,
   "metadata": {},
   "outputs": [],
   "source": [
    "workflow.get_next_collection_id(reg.get_sheet((\"tLT\", \"tus\")))"
   ]
  },
  {
   "cell_type": "code",
   "execution_count": null,
   "metadata": {},
   "outputs": [],
   "source": []
  }
 ],
 "metadata": {
  "kernelspec": {
   "display_name": "Python 3",
   "language": "python",
   "name": "python3"
  },
  "language_info": {
   "codemirror_mode": {
    "name": "ipython",
    "version": 3
   },
   "file_extension": ".py",
   "mimetype": "text/x-python",
   "name": "python",
   "nbconvert_exporter": "python",
   "pygments_lexer": "ipython3",
   "version": "3.8.8"
  }
 },
 "nbformat": 4,
 "nbformat_minor": 4
}
