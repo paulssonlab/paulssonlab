{
 "cells": [
  {
   "cell_type": "code",
   "execution_count": null,
   "metadata": {},
   "outputs": [],
   "source": [
    "import numpy as np\n",
    "import pandas as pd\n",
    "import holoviews as hv\n",
    "import hvplot.pandas\n",
    "import matplotlib.pyplot as plt\n",
    "import seaborn as sns\n",
    "import toml\n",
    "import re\n",
    "from zipfile import ZipFile\n",
    "import urllib\n",
    "from datetime import datetime\n",
    "import string\n",
    "import pygsheets\n",
    "import requests\n",
    "from tqdm.auto import tqdm\n",
    "import Bio.Restriction as Restriction\n",
    "from Bio.Seq import Seq\n",
    "from Bio.SeqRecord import SeqRecord\n",
    "import Bio.pairwise2 as pairwise2\n",
    "import benchlingapi"
   ]
  },
  {
   "cell_type": "code",
   "execution_count": null,
   "metadata": {},
   "outputs": [],
   "source": [
    "%load_ext autoreload\n",
    "%autoreload 2"
   ]
  },
  {
   "cell_type": "code",
   "execution_count": null,
   "metadata": {},
   "outputs": [],
   "source": [
    "import paulssonlab.api as api\n",
    "import paulssonlab.api.benchling as bapi\n",
    "from paulssonlab.api.util import base_url\n",
    "import paulssonlab.cloning.registry as registry\n",
    "import paulssonlab.cloning.workflow as workflow\n",
    "import paulssonlab.cloning.sequence as sequence"
   ]
  },
  {
   "cell_type": "code",
   "execution_count": null,
   "metadata": {},
   "outputs": [],
   "source": [
    "hv.extension(\"bokeh\")"
   ]
  },
  {
   "cell_type": "markdown",
   "metadata": {},
   "source": [
    "# Setup"
   ]
  },
  {
   "cell_type": "code",
   "execution_count": null,
   "metadata": {},
   "outputs": [],
   "source": [
    "config = toml.load(\"config.toml\")"
   ]
  },
  {
   "cell_type": "code",
   "execution_count": null,
   "metadata": {},
   "outputs": [],
   "source": [
    "gc = pygsheets.authorize(service_account_file=\"credentials.json\")"
   ]
  },
  {
   "cell_type": "code",
   "execution_count": null,
   "metadata": {},
   "outputs": [],
   "source": [
    "bench_session = benchlingapi.Session(config[\"benchling\"][\"api_key\"])\n",
    "benchling_folder = bapi.get_project_root(bench_session, config[\"benchling\"][\"project\"])"
   ]
  },
  {
   "cell_type": "code",
   "execution_count": null,
   "metadata": {},
   "outputs": [],
   "source": [
    "reg = registry.Registry(gc, config[\"registry\"][\"folder\"], benchling_folder)"
   ]
  },
  {
   "cell_type": "markdown",
   "metadata": {},
   "source": [
    "# Data"
   ]
  },
  {
   "cell_type": "markdown",
   "metadata": {},
   "source": [
    "## 2013 Chen"
   ]
  },
  {
   "cell_type": "code",
   "execution_count": null,
   "metadata": {},
   "outputs": [],
   "source": [
    "!mkdir -p data/2013terminators_supp\n",
    "!curl -b does_not_exist -Lo data/2013terminators_supp/supptable2.xlsx \"https://static-content.springer.com/esm/art%3A10.1038%2Fnmeth.2515/MediaObjects/41592_2013_BFnmeth2515_MOESM206_ESM.xlsx\"\n",
    "!curl -b does_not_exist -Lo data/2013terminators_supp/supptable3.xlsx \"https://static-content.springer.com/esm/art%3A10.1038%2Fnmeth.2515/MediaObjects/41592_2013_BFnmeth2515_MOESM207_ESM.xlsx\""
   ]
  },
  {
   "cell_type": "code",
   "execution_count": null,
   "metadata": {},
   "outputs": [],
   "source": [
    "natural_terminators = pd.read_excel(\n",
    "    \"data/2013terminators_supp/supptable2.xlsx\", index_col=0\n",
    ")\n",
    "synthetic_terminators = pd.read_excel(\n",
    "    \"data/2013terminators_supp/supptable3.xlsx\", index_col=0\n",
    ")\n",
    "for terminators in (natural_terminators, synthetic_terminators):\n",
    "    terminators[\"Length\"] = terminators[\"Sequence\"].str.len()"
   ]
  },
  {
   "cell_type": "markdown",
   "metadata": {},
   "source": [
    "## 2020 Park"
   ]
  },
  {
   "cell_type": "code",
   "execution_count": null,
   "metadata": {},
   "outputs": [],
   "source": [
    "# FROM: used https://www.adobe.com/acrobat/online/pdf-to-excel.html to convert\n",
    "# Table S1 (p. 23) from https://www.embopress.org/action/downloadSupplement?doi=10.15252%2Fmsb.20209584&file=msb209584-sup-0001-AppendixFig.pdf\n",
    "\n",
    "voigt_bidirectional_terms_tsv = \"\"\"\n",
    "name\tsequence\tTs_forward\tTs_reverse\n",
    "DT3\t\"CCGGCTTATCGGTCAGTTTCACCTGATTTACGTAAAAACCCGCTTCGGCGGGTTTTTGCTTTTGGAGGGGCAGAAAGATGAATGACTGTCCACGACGCTATACCCAAAAGAAAAAAAAAAAACCCCGCCCCTGACAGGGCGGGGTTTTTTTT\"\t\t3000\t\t\t\t120\t\t\n",
    "DT5\t\"TCCGGCAATTAAAAAAGCGGCTAACCACGCCGCTTTTTTTACGTCTGCACTCGGTACCAAATTCCAGAAAAGAGGCCTCCCGAAAGGGGGGCCTTTTTTCGTTTTGGTCC\"\t\t4700\t\t\t\t50\t\t\n",
    "DT19\tTTCAGCCAAAAAACTTAAGACCGCCGGTCTTGTCCACTACCTTGCAGTAATGCGGTGGACAGGATCGGCGGTTTTCTTTTCTCTTCTCAACTCGGTACCAAAGACGAACAATAAGACGCTGAAAAGCGTCTTTTTTCGTTTTGGTCC\t770\t\t\t\t1.2\t\t\t\n",
    "DT34\tGCTGATGCCAGAAAGGGTCCTGAATTTCAGGGCCCTTTTTTTACATGGATTGCTCGGTACCAAATTCCAGAAAAGAGACGCTTTCGAGCGTCTTTTTTCGTTTTGGTCC\t570\t\t\t\t1.4\t\t\t\n",
    "DT36\tGATCTAACTAAAAAGGCCGCTCTGCGGCCTTTTTTCTTTTCACTGTAACAACGGAAACCGGCCATTGCGCCGGTTTTTTTTGGCCT\t680\t\t\t\t3.2\t\t\t\n",
    "DT42\t\"AGTTAACCAAAAAGGGGGGATTTTATCTCCCCTTTAATTTTTCCTCGCAGATAGCAAAAAAGCGCCTTTAGGGCGCTTTTTTACATTG\n",
    "GTGG\"\t2500\t\t\t\t2.2\t\t\t\n",
    "DT54\t\"GGAAACACAGAAAAAAGCCCGCACCTGACAGTGCGGGCTTTTTTTTTCGACCAAAGGCTCGGTACCAAATTCCAGAAAAGACACCCGAAAGGGTGTTTTTTCGTTTTGGTCC\"\t\t1800\t\t\t\t30\t\t\n",
    "DT56\tTACCACCGTCAAAAAAAACGGCGCTTTTTAGCGCCGTTTTTATTTTTCAACCTTCCAGGCATCAAATAAAACGAAAGGCTCAGTCGAAAGACTGGGCCTTTCGTTTTATCTGTTGTTTGTCGGTGAACGCTCTC\t240\t\t\t\t11\t\t\t\n",
    "DT60\tACATTTAATAAAAAAAGGGCGGTCGCAAGATCGCCCTTTTTTACGTATGACACAGTGAAAAATGGCGCCCATCGGCGCCATTTTTTTATG\t110\t\t\t\t29\t\t\t\n",
    "DT65\tTGCTCGTACCAGGCCCCTGCAATTTCAACAGGGGCCTTTTTTTATCCAATTCCATCGGGTCCGAATTTTCGGACCTTTTCTCCGC\t400\t\t\t\t1.0\t\t\t\n",
    "DT82\t\"CTTATTCCATAACAAAGCCGGGTAATTCCCGGCTTTGTTGTATCTGAACAATAAATGGATGCCCTGCGTAAGCGGGGCATTTTTCTTCCT\"\t170\t\t\t\t2.8\t\t\t\n",
    "DT83\tAGCGTCAAAAGGCCGGATTTTCCGGCCTTTTTTATTAGGCAGCATGCTGCCAGGTGATCCCCCTGGCCACCTCTTTT\t600\t\t\t\t4.4\t\t\t\n",
    "DT86\tTAATCATTCTTAGCGTGACCGGGAAGTCGGTCACGCTACCTCTTCTGAAGAAACAGCAAACAATCCAAAACGCCGCGTTCAGCGGCGTTTTTTCTGCTTTTCT\t210\t\t\t\t0.4\t\t\t\n",
    "DT100\t\"GTGAAGTGAAAAATGGCGCACATTGTGCGCCATTTTTTTTGTCTGCCGTTTACCGCTTCTCTGAAAATCAACGGGCAGGTCACTGACTTGCCCGTTTTTTTATCCCTTCTCCACACCG\"\t4700\t\t\t\t12\t\t\t\n",
    "DT101\t\"TCTTTAAAAAGAAACCTCCGCATTGCGGAGGTTTCGCCTTTTGATACTCTGTCTGAAGTAATTCTTGCCGCAGTGAAAAATGGCGCCCATCGGCGCCATTTTTTTATGCTTCCATTAGAAAGCAAAAAGCCTGCTAGAAAGCAGGCTTTTTTGAATTTGGCTCCTCTGAC\"\t\t2800\t\t\t\t160\t\t\n",
    "DT103\t\"AAAGTTCTGAAAAAGGGTCACTTCGGTGGCCCTTTTTTATCGCCACGGTTTGAGCAGTGCACTTGCTTAAAATCCCGCCAGCGGCGGGATTTTTTATTGTCCGGTTTAAGACA\"\t790\t\t\t\t4.0\t\t\t\n",
    "DT104\t\"GCAGACAAAAAAAATGGCGCACAATGTGCGCCATTTTTCACTTCACAGGTACTATTGTTTTGAATTGAAAAGGGCGCTTCGGCGCCCTTTTTGCATTTGTTGACGGCATATATTTGTATATCGAAGCGCCCTGATGGGCGCTTTTTTTATTTAATCGATAACCAGA\"\t\t580\t\t\t\t101\t\t\n",
    "\"\"\"\n",
    "\n",
    "import io\n",
    "\n",
    "voigt_bidirectional_terms = pd.read_csv(\n",
    "    io.StringIO(voigt_bidirectional_terms_tsv), sep=\"\\s+\", index_col=0\n",
    ")"
   ]
  },
  {
   "cell_type": "markdown",
   "metadata": {},
   "source": [
    "## 2019 Hudson"
   ]
  },
  {
   "cell_type": "code",
   "execution_count": null,
   "metadata": {},
   "outputs": [],
   "source": [
    "!mkdir -p data/2019hudson_supp\n",
    "!curl -b does_not_exist -Lo data/2019hudson_supp.zip \"https://oup.silverchair-cdn.com/oup/backfile/Content_public/Journal/synbio/4/1/10.1093_synbio_ysz026/2/ysz026_supplementary_data.zip?Expires=1625620668&Signature=ce7~qRkVxcwAzjs98YDSNU03XBjhxBoyL6Mr2RsQEordmOg8N8Fh5u0trhiAxYSZtzbF~U~x2DjUG5dEYLjtMiF-YTejDIOMqtPdmVd6-n4WK5wn02j8JS3whJt57SL6fCAYAlcBiVKPyPH-tTyctP84SK6v8~zjS07hmob6LY-MmBt-XDgaTMiks6Pqkw3yUfnaUZP4IbXnO0Nt~p5uFlE~iStyoaTz~Y4uGvLSjcA2YUmiCvUVQOlNVcXwPMpHkot6CnD0~ZhKMxE8w4dYhGs4DJk2xsrecIfKHS1WCWzyd6N20lAB43hHQNQEKr61oNSazYD9rCRfGIckt5Uepg__&Key-Pair-Id=APKAIE5G5CRDK6RD3PGA\""
   ]
  },
  {
   "cell_type": "code",
   "execution_count": null,
   "metadata": {},
   "outputs": [],
   "source": [
    "with ZipFile(\"data/2019hudson_supp.zip\") as zip:\n",
    "    with zip.open(\n",
    "        \"Supplemental Table 3A - TermSeq FACS Binning Data_allover200reads.csv\"\n",
    "    ) as f:\n",
    "        hudson_terminators = pd.read_csv(\n",
    "            f, header=[2], thousands=\",\", na_values=[\"#DIV/0!\"]\n",
    "        )\n",
    "hudson_terminators.loc[pd.isnull(hudson_terminators[\"Ave TS\"]), \"Ave TS\"] = np.inf\n",
    "for col in (\"Ave\", \"SD\", \"CI (95% CL)\"):\n",
    "    hudson_terminators[col] = (\n",
    "        pd.to_numeric(hudson_terminators[col].str.rstrip(\"%\")) / 100\n",
    "    )\n",
    "hudson_terminators.rename(\n",
    "    {\"Terminator Sequence (5' to 3')\": \"Sequence\"}, axis=1, inplace=True\n",
    ")\n",
    "hudson_terminators[\"Sequence_rev\"] = hudson_terminators[\"Sequence\"].map(\n",
    "    lambda x: str(sequence.reverse_complement(x))\n",
    ")\n",
    "hudson_terminators = hudson_terminators.join(\n",
    "    hudson_terminators[\n",
    "        [\"Sequence\", \"Ave TS\", \"Ave\", \"SD\", \"SD/AVE\", \"Term ID\"]\n",
    "    ].set_index(\"Sequence\"),\n",
    "    on=\"Sequence_rev\",\n",
    "    rsuffix=\"_rev\",\n",
    ")\n",
    "hudson_terminators[\"Ave TS_min\"] = hudson_terminators[[\"Ave TS\", \"Ave TS_rev\"]].min(\n",
    "    axis=1\n",
    ")\n",
    "hudson_terminators[\"Ave_min\"] = hudson_terminators[[\"Ave\", \"Ave_rev\"]].min(axis=1)\n",
    "hudson_terminators = hudson_terminators[\n",
    "    pd.isnull(hudson_terminators[\"Ave_rev\"])\n",
    "    | (hudson_terminators[\"Ave\"] >= hudson_terminators[\"Ave_rev\"])\n",
    "    | (\n",
    "        (np.isinf(hudson_terminators[\"Ave\"]))\n",
    "        & (hudson_terminators[\"Term ID\"] >= hudson_terminators[\"Term ID_rev\"])\n",
    "    )\n",
    "].copy()\n",
    "hudson_terminators.set_index(\"Term ID\", inplace=True)"
   ]
  },
  {
   "cell_type": "markdown",
   "metadata": {},
   "source": [
    "# Voigt bidirectional terms"
   ]
  },
  {
   "cell_type": "code",
   "execution_count": null,
   "metadata": {},
   "outputs": [],
   "source": [
    "selected_bidirectional_terms = voigt_bidirectional_terms[\n",
    "    voigt_bidirectional_terms[\"Ts_reverse\"] >= 10\n",
    "]"
   ]
  },
  {
   "cell_type": "code",
   "execution_count": null,
   "metadata": {},
   "outputs": [],
   "source": [
    "selected_bidirectional_terms"
   ]
  },
  {
   "cell_type": "markdown",
   "metadata": {},
   "source": [
    "# Hudson bidirectional terms"
   ]
  },
  {
   "cell_type": "code",
   "execution_count": null,
   "metadata": {},
   "outputs": [],
   "source": [
    "hudson_bidirectional = hudson_terminators[\n",
    "    ~pd.isnull(hudson_terminators[\"Ave TS_rev\"])\n",
    "].copy()\n",
    "hudson_bidirectional.sort_values(\"Ave_min\", ascending=False, inplace=True)"
   ]
  },
  {
   "cell_type": "code",
   "execution_count": null,
   "metadata": {},
   "outputs": [],
   "source": [
    "hudson_bidirectional"
   ]
  },
  {
   "cell_type": "code",
   "execution_count": null,
   "metadata": {},
   "outputs": [],
   "source": [
    "hudson_bidirectional.plot.scatter(\"Ave TS\", \"Ave TS_rev\")"
   ]
  },
  {
   "cell_type": "code",
   "execution_count": null,
   "metadata": {},
   "outputs": [],
   "source": [
    "hudson_bidirectional[hudson_bidirectional[\"Ave_min\"] > 0.995].plot.scatter(\n",
    "    \"Ave\", \"Ave_rev\"\n",
    ")"
   ]
  },
  {
   "cell_type": "code",
   "execution_count": null,
   "metadata": {},
   "outputs": [],
   "source": [
    "plt.scatter(hudson_bidirectional[\"Ave TS\"], np.log10(1 - hudson_bidirectional[\"Ave\"]))"
   ]
  },
  {
   "cell_type": "code",
   "execution_count": null,
   "metadata": {},
   "outputs": [],
   "source": [
    "%%time\n",
    "hudson_sim = map_pairwise(\n",
    "    similarity, hudson_bidirectional[\"Sequence\"], hudson_bidirectional[\"Sequence\"]\n",
    ")"
   ]
  },
  {
   "cell_type": "code",
   "execution_count": null,
   "metadata": {},
   "outputs": [],
   "source": [
    "%%time\n",
    "selected_hudson = get_nonrepetitive(\n",
    "    similarity, 0.7, hudson_bidirectional[\"Sequence\"], [], 2\n",
    ")"
   ]
  },
  {
   "cell_type": "code",
   "execution_count": null,
   "metadata": {},
   "outputs": [],
   "source": [
    "selected_hudson"
   ]
  },
  {
   "cell_type": "code",
   "execution_count": null,
   "metadata": {},
   "outputs": [],
   "source": [
    "hudson_bidirectional.loc[[\"T799\", \"T97\", \"T540\"]]"
   ]
  },
  {
   "cell_type": "code",
   "execution_count": null,
   "metadata": {},
   "outputs": [],
   "source": [
    "olib = reg[(\"oLIB\", \"oligos\")]\n",
    "olt = reg[(\"oLT\", \"oligos\")]"
   ]
  },
  {
   "cell_type": "code",
   "execution_count": null,
   "metadata": {},
   "outputs": [],
   "source": [
    "backbone_flanks = {\n",
    "    \"upstream\": (\n",
    "        sequence.reverse_complement(olib[\"oLIB179\"][\"Sequence\"]),\n",
    "        olib[\"oLIB180\"][\"Sequence\"],\n",
    "    ),\n",
    "    \"downstream\": (\n",
    "        sequence.reverse_complement(olib[\"oLIB181\"][\"Sequence\"]),\n",
    "        olib[\"oLIB182\"][\"Sequence\"],\n",
    "    ),\n",
    "}\n",
    "\n",
    "backbone_insulation_terminators = {\n",
    "    \"upstream\": \"T97\",\n",
    "    \"downstream\": \"T540\",\n",
    "}"
   ]
  },
  {
   "cell_type": "code",
   "execution_count": null,
   "metadata": {},
   "outputs": [],
   "source": [
    "date = datetime.now().strftime(\"%-d/%-m/%Y\")\n",
    "\n",
    "base_row = {\n",
    "    \"Author\": \"Jacob Quinn Shenker\",\n",
    "    \"Vendor\": \"IDT\",\n",
    "    \"Type\": \"Primer\",\n",
    "    \"Date\": date,\n",
    "    \"Order date\": date,\n",
    "}\n",
    "\n",
    "rows = []\n",
    "\n",
    "for orientation, terminator in backbone_insulation_terminators.items():\n",
    "    seq = hudson_bidirectional.loc[terminator, \"Sequence\"]\n",
    "    if orientation == \"upstream\":\n",
    "        seq = sequence.reverse_complement(seq)\n",
    "    seq = workflow.add_flanks(seq, [backbone_flanks[orientation]])\n",
    "    for antisense in (False, True):\n",
    "        if antisense:\n",
    "            oligo_seq = sequence.reverse_complement(seq)\n",
    "        else:\n",
    "            oligo_seq = seq\n",
    "        oligo_seq = str(oligo_seq)\n",
    "        sense_str = \"antisense\" if antisense else \"sense\"\n",
    "        name = f\"JUMP_{orientation}_{terminator}_{sense_str}\"\n",
    "        term = hudson_bidirectional.loc[terminator]\n",
    "        description = \"2019 Hudson terminator {sense_str} oligo.\\nTerminator efficiency: {te:.4f} / {te_rev:.4f} (reverse)\\nTerminator strength (TS): {ts:.0f} / {ts_rev:.0f} (reverse)\".format(\n",
    "            sense_str=sense_str,\n",
    "            te=term[\"Ave\"],\n",
    "            te_rev=term[\"Ave_rev\"],\n",
    "            ts=term[\"Ave TS\"],\n",
    "            ts_rev=term[\"Ave TS_rev\"],\n",
    "        )\n",
    "        row = {\n",
    "            \"Name\": name,\n",
    "            \"Sequence\": oligo_seq,\n",
    "            \"Description\": description,\n",
    "            **base_row,\n",
    "        }\n",
    "        rows.append(row)\n",
    "\n",
    "for row in rows:\n",
    "    olt[olt.next_id()] = row"
   ]
  },
  {
   "cell_type": "code",
   "execution_count": null,
   "metadata": {},
   "outputs": [],
   "source": [
    "olt.save()"
   ]
  },
  {
   "cell_type": "code",
   "execution_count": null,
   "metadata": {},
   "outputs": [],
   "source": [
    "rows"
   ]
  },
  {
   "cell_type": "code",
   "execution_count": null,
   "metadata": {},
   "outputs": [],
   "source": [
    "print(rows[-1][\"Description\"])"
   ]
  },
  {
   "cell_type": "code",
   "execution_count": null,
   "metadata": {},
   "outputs": [],
   "source": [
    "str(upstream_backbone_insulation)"
   ]
  },
  {
   "cell_type": "code",
   "execution_count": null,
   "metadata": {},
   "outputs": [],
   "source": [
    "str(downstream_backbone_insulation)"
   ]
  },
  {
   "cell_type": "code",
   "execution_count": null,
   "metadata": {},
   "outputs": [],
   "source": [
    "hudson_bidirectional[[\"Ave TS\", \"Ave TS_rev\"]][:20]"
   ]
  },
  {
   "cell_type": "code",
   "execution_count": null,
   "metadata": {},
   "outputs": [],
   "source": [
    "show_heatmap(hudson_sim)"
   ]
  },
  {
   "cell_type": "markdown",
   "metadata": {},
   "source": [
    "# Homology"
   ]
  },
  {
   "cell_type": "code",
   "execution_count": null,
   "metadata": {},
   "outputs": [],
   "source": [
    "synthetic_terminators"
   ]
  },
  {
   "cell_type": "code",
   "execution_count": null,
   "metadata": {},
   "outputs": [],
   "source": [
    "ts = synthetic_terminators[\"Sequence\"][:3]"
   ]
  },
  {
   "cell_type": "code",
   "execution_count": null,
   "metadata": {},
   "outputs": [],
   "source": [
    "def align(a, b):\n",
    "    # return pairwise2.align.localxs(a, b, -0.5, -0.5)\n",
    "    return pairwise2.align.localms(a, b, 1, -0.5, -0.5, -0.5)\n",
    "\n",
    "\n",
    "def show_alignment(a, b):\n",
    "    print(pairwise2.format_alignment(*align(a, b)[0], full_sequences=True))\n",
    "\n",
    "\n",
    "def homology(a, b):\n",
    "    b_rc = str(sequence.reverse_complement(b))\n",
    "    forward = align(a, b)[0].score\n",
    "    reverse = align(a, b_rc)[0].score\n",
    "    return max(forward, reverse)\n",
    "\n",
    "\n",
    "def min_length(a, b):\n",
    "    return min(len(a), len(b))\n",
    "\n",
    "\n",
    "def similarity(a, b):\n",
    "    return homology(a, b) / min_length(a, b)"
   ]
  },
  {
   "cell_type": "code",
   "execution_count": null,
   "metadata": {},
   "outputs": [],
   "source": [
    "def map_pairwise(func, xs, ys):\n",
    "    mat = np.zeros((len(xs), len(ys)))\n",
    "    if xs.equals(ys):\n",
    "        for i in range(len(xs)):\n",
    "            for j in range(i):\n",
    "                mat[i, j] = mat[j, i] = func(xs[i], ys[j])\n",
    "    else:\n",
    "        for i in range(len(xs)):\n",
    "            for j in range(len(ys)):\n",
    "                mat[i, j] = func(xs[i], ys[j])\n",
    "    return pd.DataFrame(mat, index=xs.index, columns=ys.index)"
   ]
  },
  {
   "cell_type": "code",
   "execution_count": null,
   "metadata": {},
   "outputs": [],
   "source": [
    "def show_heatmap(df):\n",
    "    with pd.option_context(\n",
    "        \"display.max_rows\", None, \"display.max_columns\", None\n",
    "    ):  # more options can be specified also\n",
    "        display(df.style.background_gradient(cmap=\"RdPu\", axis=None))"
   ]
  },
  {
   "cell_type": "code",
   "execution_count": null,
   "metadata": {},
   "outputs": [],
   "source": [
    "%%time\n",
    "hmat = map_pairwise(\n",
    "    homology, synthetic_terminators[\"Sequence\"], selected_terms[\"sequence\"]\n",
    ")"
   ]
  },
  {
   "cell_type": "code",
   "execution_count": null,
   "metadata": {},
   "outputs": [],
   "source": [
    "lengths = map_pairwise(\n",
    "    min_length, synthetic_terminators[\"Sequence\"], selected_terms[\"sequence\"]\n",
    ")"
   ]
  },
  {
   "cell_type": "code",
   "execution_count": null,
   "metadata": {},
   "outputs": [],
   "source": [
    "nhmat = hmat / lengths"
   ]
  },
  {
   "cell_type": "code",
   "execution_count": null,
   "metadata": {},
   "outputs": [],
   "source": [
    "import seaborn as sns"
   ]
  },
  {
   "cell_type": "code",
   "execution_count": null,
   "metadata": {},
   "outputs": [],
   "source": [
    "synthetic_terminators.columns"
   ]
  },
  {
   "cell_type": "code",
   "execution_count": null,
   "metadata": {},
   "outputs": [],
   "source": [
    "plt.scatter(synthetic_terminators[\"Average Strength\"], synthetic_terminators[\"Length\"])\n",
    "plt.scatter(natural_terminators[\"Average Strength\"], natural_terminators[\"Length\"])"
   ]
  },
  {
   "cell_type": "code",
   "execution_count": null,
   "metadata": {},
   "outputs": [],
   "source": [
    "def get_terminator(terminators, names):\n",
    "    seq = \"\"\n",
    "    for name in names:\n",
    "        if name.endswith(\"_r\"):\n",
    "            seq += str(sequence.reverse_complement(terminators.loc[name[:-2]]))\n",
    "        else:\n",
    "            seq += terminators.loc[name]\n",
    "    return seq"
   ]
  },
  {
   "cell_type": "code",
   "execution_count": null,
   "metadata": {},
   "outputs": [],
   "source": [
    "get_terminator(synthetic_terminators[\"Sequence\"], [\"L3S2P22_r\", \"L3S2P21\", \"L3S2P56\"])"
   ]
  },
  {
   "cell_type": "code",
   "execution_count": null,
   "metadata": {},
   "outputs": [],
   "source": [
    "len(_)"
   ]
  },
  {
   "cell_type": "code",
   "execution_count": null,
   "metadata": {},
   "outputs": [],
   "source": [
    "get_terminator(\n",
    "    synthetic_terminators[\"Sequence\"], [\"L3S1P56_r\", \"L3S2P22_r\", \"L3S2P21\", \"L3S2P56\"]\n",
    ")"
   ]
  },
  {
   "cell_type": "code",
   "execution_count": null,
   "metadata": {},
   "outputs": [],
   "source": [
    "len(_)"
   ]
  },
  {
   "cell_type": "code",
   "execution_count": null,
   "metadata": {},
   "outputs": [],
   "source": [
    "strong_synthetic = synthetic_terminators.sort_values(\n",
    "    \"Average Strength\", ascending=False\n",
    ")[[\"Average Strength\", \"Length\", \"Sequence\"]][:50]\n",
    "strong_synthetic"
   ]
  },
  {
   "cell_type": "code",
   "execution_count": null,
   "metadata": {},
   "outputs": [],
   "source": [
    "all_terminators = pd.concat((synthetic_terminators, natural_terminators))\n",
    "strong_all = all_terminators.sort_values(\"Average Strength\", ascending=False)[\n",
    "    [\"Average Strength\", \"Length\", \"Sequence\"]\n",
    "][:60]\n",
    "strong_all"
   ]
  },
  {
   "cell_type": "code",
   "execution_count": null,
   "metadata": {},
   "outputs": [],
   "source": [
    "pool = pd.concat((strong_synthetic[\"Sequence\"], selected_terms[\"sequence\"]))"
   ]
  },
  {
   "cell_type": "code",
   "execution_count": null,
   "metadata": {},
   "outputs": [],
   "source": [
    "%%time\n",
    "pool_sim = map_pairwise(similarity, pool, pool)"
   ]
  },
  {
   "cell_type": "code",
   "execution_count": null,
   "metadata": {},
   "outputs": [],
   "source": [
    "from itertools import chain\n",
    "\n",
    "\n",
    "def get_nonrepetitive(similarity_func, max_similarity, candidates, others, num):\n",
    "    accepted = []\n",
    "    accepted_keys = []\n",
    "    idx = 0\n",
    "    for i in range(num):\n",
    "        while idx < len(candidates):\n",
    "            candidate = candidates.iloc[idx]\n",
    "            if not len(accepted) and not len(others):\n",
    "                similarity = 0\n",
    "            else:\n",
    "                similarity = max(\n",
    "                    similarity_func(candidate, seq) for seq in chain(accepted, others)\n",
    "                )\n",
    "            if similarity <= max_similarity:\n",
    "                accepted.append(candidate)\n",
    "                accepted_keys.append(candidates.index[idx])\n",
    "                break\n",
    "            idx += 1\n",
    "        else:\n",
    "            raise ValueError(f\"ran out of candidates after accepting {i}\")\n",
    "    series = pd.Series(accepted, name=candidates.name, index=accepted_keys)\n",
    "    series.index.name = candidates.index.name\n",
    "    return series"
   ]
  },
  {
   "cell_type": "code",
   "execution_count": null,
   "metadata": {},
   "outputs": [],
   "source": [
    "pd.append(strong_synthetic[\"Sequence\"][[0]])"
   ]
  },
  {
   "cell_type": "code",
   "execution_count": null,
   "metadata": {},
   "outputs": [],
   "source": [
    "%%time\n",
    "selected_pool = get_nonrepetitive(\n",
    "    similarity, 0.7, strong_all[\"Sequence\"], selected_terms[\"sequence\"], 8\n",
    ")"
   ]
  },
  {
   "cell_type": "code",
   "execution_count": null,
   "metadata": {},
   "outputs": [],
   "source": [
    "show_alignment(selected_pool[\"L3S1P56\"], selected_pool[\"L3S3P00\"])"
   ]
  },
  {
   "cell_type": "code",
   "execution_count": null,
   "metadata": {},
   "outputs": [],
   "source": [
    "show_alignment(selected_pool[\"L3S3P47\"], selected_pool[\"L3S3P00\"])"
   ]
  },
  {
   "cell_type": "code",
   "execution_count": null,
   "metadata": {},
   "outputs": [],
   "source": [
    "show_alignment(selected_pool[\"L3S3P47\"], selected_pool[\"L3S3P41\"])"
   ]
  },
  {
   "cell_type": "code",
   "execution_count": null,
   "metadata": {},
   "outputs": [],
   "source": [
    "%%time\n",
    "show_heatmap(map_pairwise(similarity, selected_pool, selected_pool))"
   ]
  },
  {
   "cell_type": "code",
   "execution_count": null,
   "metadata": {},
   "outputs": [],
   "source": [
    "%%time\n",
    "show_heatmap(map_pairwise(similarity, selected_pool, selected_pool))"
   ]
  },
  {
   "cell_type": "code",
   "execution_count": null,
   "metadata": {},
   "outputs": [],
   "source": [
    "show_heatmap(pool_sim)"
   ]
  },
  {
   "cell_type": "code",
   "execution_count": null,
   "metadata": {},
   "outputs": [],
   "source": [
    "%%time\n",
    "hmat = map_pairwise(\n",
    "    homology, strong_synthetic[\"Sequence\"], strong_synthetic[\"Sequence\"]\n",
    ")"
   ]
  },
  {
   "cell_type": "code",
   "execution_count": null,
   "metadata": {},
   "outputs": [],
   "source": [
    "lengths = map_pairwise(\n",
    "    min_length, synthetic_terminators[\"Sequence\"], selected_terms[\"sequence\"]\n",
    ")\n",
    "nhmat = hmat / lengths"
   ]
  },
  {
   "cell_type": "code",
   "execution_count": null,
   "metadata": {},
   "outputs": [],
   "source": [
    "get_terminator(synthetic_terminators[\"Sequence\"], [\"\"])"
   ]
  },
  {
   "cell_type": "code",
   "execution_count": null,
   "metadata": {},
   "outputs": [],
   "source": [
    "cm = sns.light_palette(\"orange\", as_cmap=True)\n",
    "with pd.option_context(\n",
    "    \"display.max_rows\", None, \"display.max_columns\", None\n",
    "):  # more options can be specified also\n",
    "    display(nhmat.style.background_gradient(cmap=cm))"
   ]
  },
  {
   "cell_type": "code",
   "execution_count": null,
   "metadata": {},
   "outputs": [],
   "source": [
    "hmat.idxmin()"
   ]
  },
  {
   "cell_type": "code",
   "execution_count": null,
   "metadata": {},
   "outputs": [],
   "source": [
    "hmat[\"DT5\"].values"
   ]
  },
  {
   "cell_type": "code",
   "execution_count": null,
   "metadata": {},
   "outputs": [],
   "source": [
    "a = synthetic_terminators.loc[\"L1U8H11\"][\"Sequence\"]\n",
    "b = selected_terms.loc[\"DT5\"][\"sequence\"]\n",
    "alignments = pairwise2.align.localxs(a, b, -0.5, -0.5)\n",
    "print(pairwise2.format_alignment(*alignments[0]))"
   ]
  },
  {
   "cell_type": "code",
   "execution_count": null,
   "metadata": {},
   "outputs": [],
   "source": [
    "a = synthetic_terminators.loc[\"L3S2P21\"][\"Sequence\"]\n",
    "b = selected_terms.loc[\"DT5\"][\"sequence\"]\n",
    "alignments = pairwise2.align.localxs(a, b, -0.5, -0.5)\n",
    "print(pairwise2.format_alignment(*alignments[0], full_sequences=True))"
   ]
  },
  {
   "cell_type": "code",
   "execution_count": null,
   "metadata": {},
   "outputs": [],
   "source": []
  },
  {
   "cell_type": "code",
   "execution_count": null,
   "metadata": {},
   "outputs": [],
   "source": [
    "pairwise2.align.localxs(ts[0], ts[2], -0.5, -0.5)[0].score"
   ]
  },
  {
   "cell_type": "code",
   "execution_count": null,
   "metadata": {},
   "outputs": [],
   "source": [
    "alignments = pairwise2.align.localxs(ts[0], ts[2], -0.5, -0.5)\n",
    "print(pairwise2.format_alignment(*alignments[0]))"
   ]
  },
  {
   "cell_type": "code",
   "execution_count": null,
   "metadata": {},
   "outputs": [],
   "source": [
    "alignments = pairwise2.align.localxs(\n",
    "    ts[0], str(sequence.reverse_complement(ts[2])), -0.5, -0.5\n",
    ")\n",
    "print(pairwise2.format_alignment(*alignments[0]))"
   ]
  },
  {
   "cell_type": "code",
   "execution_count": null,
   "metadata": {},
   "outputs": [],
   "source": []
  },
  {
   "cell_type": "code",
   "execution_count": null,
   "metadata": {},
   "outputs": [],
   "source": [
    "# FROM: https://github.com/ViennaRNA/ViennaRNA/issues/64\n",
    "\n",
    "# read DNA parameters\n",
    "RNA.read_parameter_file(\n",
    "    f\"{os.environ['CONDA_PREFIX']}/share/ViennaRNA/dna_mathews2004.par\"\n",
    ")\n",
    "\n",
    "\n",
    "def primer_secondary_structure(seq):\n",
    "    md = RNA.md()\n",
    "    fc = RNA.fold_compound(seq, md)\n",
    "    (_, mfe_monomer) = fc.mfe()\n",
    "    fc_dimer = RNA.fold_compound(f\"{seq}&{seq}\", md)\n",
    "    (_, mfe_homodimer) = fc_dimer.mfe()\n",
    "    return mfe_monomer, mfe_homodimer"
   ]
  },
  {
   "cell_type": "markdown",
   "metadata": {},
   "source": [
    "# Old"
   ]
  },
  {
   "cell_type": "markdown",
   "metadata": {},
   "source": [
    "## Makeshift oligo orders"
   ]
  },
  {
   "cell_type": "code",
   "execution_count": null,
   "metadata": {},
   "outputs": [],
   "source": [
    "def _format_seq(seq):\n",
    "    return str(sequence.get_seq(seq)).lower()"
   ]
  },
  {
   "cell_type": "code",
   "execution_count": null,
   "metadata": {},
   "outputs": [],
   "source": [
    "NO_GBLOCK = [\"DT3\", \"DT56\", \"DT60\"]\n",
    "# NO_GBLOCK = []"
   ]
  },
  {
   "cell_type": "code",
   "execution_count": null,
   "metadata": {},
   "outputs": [],
   "source": [
    "overhangs = [\"aggt\", \"gctt\"]\n",
    "random_bases = (\n",
    "    \"GCTTCA\",\n",
    "    \"TGCTAA\",\n",
    ")  # to add between BsmBI recognition site and ends of oligos\n",
    "flanks = (\"CGTCTCGGTCTCa\", \"tGAGACCgGAGACG\")  # storage vector BsmBI flanks\n",
    "seqs_to_order = {}\n",
    "for term_name, row in selected_terms.iterrows():\n",
    "    seq = row[\"sequence\"]\n",
    "    seq = workflow.add_flanks(\n",
    "        workflow.add_overhangs(seq.lower(), overhangs),\n",
    "        [flanks, random_bases],\n",
    "    )\n",
    "    seqs_to_order[term_name] = seq"
   ]
  },
  {
   "cell_type": "code",
   "execution_count": null,
   "metadata": {},
   "outputs": [],
   "source": [
    "seqs_to_order"
   ]
  },
  {
   "cell_type": "code",
   "execution_count": null,
   "metadata": {},
   "outputs": [],
   "source": [
    "prefix = \"oLT\"\n",
    "id_num = 37\n",
    "for term_name, seq in seqs_to_order.items():\n",
    "    if term_name in NO_GBLOCK:\n",
    "        continue\n",
    "    # for sense in (False, True):\n",
    "    for sense in (True,):\n",
    "        if sense:\n",
    "            oligo_seq = seq\n",
    "        else:\n",
    "            oligo_seq = sequence.reverse_complement(seq)\n",
    "        id_ = f\"{prefix}{id_num}\"\n",
    "        name = f\"Voigt_{term_name}\"\n",
    "        print(f\"{id_}\\t{name}\\t{_format_seq(oligo_seq)}\")\n",
    "        # print(f\"{name}\\t{_format_seq(oligo_seq)}\")\n",
    "        id_num += 1"
   ]
  },
  {
   "cell_type": "code",
   "execution_count": null,
   "metadata": {},
   "outputs": [],
   "source": [
    "for term_name, seq in seqs_to_order.items():\n",
    "    if term_name not in NO_GBLOCK:\n",
    "        continue\n",
    "    for sense in (True, False):\n",
    "        if sense:\n",
    "            oligo_seq = seq\n",
    "        else:\n",
    "            oligo_seq = sequence.reverse_complement(seq)\n",
    "        id_ = f\"{prefix}{id_num}\"\n",
    "        name = f\"Voigt_{term_name}_{'sense' if sense else 'antisense'}\"\n",
    "        print(f\"{id_}\\t{name}\\t{_format_seq(oligo_seq)}\")\n",
    "        id_num += 1"
   ]
  }
 ],
 "metadata": {
  "kernelspec": {
   "display_name": "Python 3",
   "language": "python",
   "name": "python3"
  },
  "language_info": {
   "codemirror_mode": {
    "name": "ipython",
    "version": 3
   },
   "file_extension": ".py",
   "mimetype": "text/x-python",
   "name": "python",
   "nbconvert_exporter": "python",
   "pygments_lexer": "ipython3",
   "version": "3.8.8"
  }
 },
 "nbformat": 4,
 "nbformat_minor": 4
}
