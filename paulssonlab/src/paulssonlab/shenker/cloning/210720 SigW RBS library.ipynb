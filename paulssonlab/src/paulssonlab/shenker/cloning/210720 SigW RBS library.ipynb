{
 "cells": [
  {
   "cell_type": "code",
   "execution_count": null,
   "id": "0",
   "metadata": {},
   "outputs": [],
   "source": [
    "import re\n",
    "from datetime import datetime\n",
    "\n",
    "import benchlingapi\n",
    "import Bio.Restriction as Restriction\n",
    "import pandas as pd\n",
    "import pygsheets\n",
    "import toml\n",
    "from Bio.Seq import Seq\n",
    "from tqdm.auto import tqdm"
   ]
  },
  {
   "cell_type": "code",
   "execution_count": null,
   "id": "1",
   "metadata": {},
   "outputs": [],
   "source": [
    "%load_ext autoreload\n",
    "%autoreload 2"
   ]
  },
  {
   "cell_type": "code",
   "execution_count": null,
   "id": "2",
   "metadata": {},
   "outputs": [],
   "source": [
    "import paulssonlab.api as api\n",
    "import paulssonlab.cloning.commands.parser as cmd_parser\n",
    "import paulssonlab.cloning.commands.semantics as cmd_semantics\n",
    "import paulssonlab.cloning.enzyme as enzyme\n",
    "import paulssonlab.cloning.registry as registry\n",
    "import paulssonlab.cloning.sequence as sequence\n",
    "import paulssonlab.cloning.util as cloning_util\n",
    "import paulssonlab.cloning.workflow as workflow\n",
    "from paulssonlab.api.util import base_url"
   ]
  },
  {
   "cell_type": "markdown",
   "id": "3",
   "metadata": {},
   "source": [
    "# Setup"
   ]
  },
  {
   "cell_type": "code",
   "execution_count": null,
   "id": "4",
   "metadata": {},
   "outputs": [],
   "source": [
    "config = toml.load(\"config.toml\")"
   ]
  },
  {
   "cell_type": "code",
   "execution_count": null,
   "id": "5",
   "metadata": {},
   "outputs": [],
   "source": [
    "gc = pygsheets.authorize(service_account_file=\"credentials.json\")"
   ]
  },
  {
   "cell_type": "code",
   "execution_count": null,
   "id": "6",
   "metadata": {},
   "outputs": [],
   "source": [
    "reg = registry.Registry(gc, config[\"registry\"][\"folder\"])"
   ]
  },
  {
   "cell_type": "markdown",
   "id": "7",
   "metadata": {},
   "source": [
    "# Data"
   ]
  },
  {
   "cell_type": "markdown",
   "id": "8",
   "metadata": {},
   "source": [
    "# Design"
   ]
  },
  {
   "cell_type": "code",
   "execution_count": null,
   "id": "9",
   "metadata": {},
   "outputs": [],
   "source": [
    "def _format_seq(seq):\n",
    "    # TODO: mixed bases in upper case for IDT\n",
    "    return str(sequence.get_seq(seq)).lower()"
   ]
  },
  {
   "cell_type": "code",
   "execution_count": null,
   "id": "10",
   "metadata": {},
   "outputs": [],
   "source": [
    "def overhangs_for(x):\n",
    "    return (x[\"Upstream overhang\"], x[\"Downstream overhang\"])"
   ]
  },
  {
   "cell_type": "code",
   "execution_count": null,
   "id": "11",
   "metadata": {},
   "outputs": [],
   "source": [
    "part_types = reg[(\"LIB\", \"parts\", \"Part types\")]"
   ]
  },
  {
   "cell_type": "code",
   "execution_count": null,
   "id": "12",
   "metadata": {},
   "outputs": [],
   "source": [
    "part_types[\"5UTR_BC\"]"
   ]
  },
  {
   "cell_type": "code",
   "execution_count": null,
   "id": "13",
   "metadata": {},
   "outputs": [],
   "source": [
    "part_types[\"5UTR_1\"]"
   ]
  },
  {
   "cell_type": "code",
   "execution_count": null,
   "id": "14",
   "metadata": {},
   "outputs": [],
   "source": [
    "part_types[\"5UTR_2\"]"
   ]
  },
  {
   "cell_type": "code",
   "execution_count": null,
   "id": "15",
   "metadata": {},
   "outputs": [],
   "source": [
    "ribozymes_tsv = \"\"\"\n",
    "Name\tSequence\n",
    "RiboJ\tAGCTGTC|ACCGGATGTGCTTTCCGGTCTGATGAGTCCGTGAGGACGAAACAGCCTCTACAAATAATTTTGTTTAA\n",
    "AraJ\tAGTGGTC|GTGATCTGAAACTCGATCACCTGATGAGCTCAAGGCAGAGCGAAACCACCTCTACAAATAATTTTGTTTAA\n",
    "BydvJ\tAGGGTGTC|TCAAGGTGCGTACCTTGACTGATGAGTCCGAAAGGACGAAACACCCCTCTACAAATAATTTTGTTTAA\n",
    "CchJ\tAGTTCCAGTC|GAGACCTGAAGTGGGTTTCCTGATGAGGCTGTGGAGAGAGCGAAAGCTTTACTCCCGCACAAGCCGAAACTGGAACCTCTACAAATAATTTTGTTTAA\n",
    "ElvJ\tAGCCCCATA|GGGTGGTGTGTACCACCCCTGATGAGTCCAAAAGGACGAAATGGGGCCTCTACAAATAATTTTGTTTAA\n",
    "LtsvJ\tAGTACGTC|TGAGCGTGATACCCGCTCACTGAAGATGGCCCGGTAGGGCCGAAACGTACCTCTACAAATAATTTTGTTTAA\n",
    "PlmJ\tAGTCATAAGTC|TGGGCTAAGCCCACTGATGAGTCGCTGAAATGCGACGAAACTTATGACCTCTACAAATAATTTTGTTTAA\n",
    "SarJ\tAGACTGTC|GCCGGATGTGTATCCGACCTGACGATGGCCCAAAAGGGCCGAAACAGTCCTCTACAAATAATTTTGTTTAA\n",
    "ScmJ\tAGCGCTGTC|TGTACTTGTATCAGTACACTGACGAGTCCCTAAAGGACGAAACACCGCCTCTACAAATAATTTTGTTTAA\n",
    "RiboJ10\tAGCGCTC|AACGGGTGTGCTTCCCGTTCTGATGAGTCCGTGAGGACGAAAGCGCCTCTACAAATAATTTTGTTTAA\n",
    "RiboJ51\tAGTAGTC|ACCGGCTGTGCTTGCCGGTCTGATGAGCCTGTGAAGGCGAAACTACCTCTACAAATAATTTTGTTTAA\n",
    "RiboJ53\tAGCGGTC|AACGCATGTGCTTTGCGTTCTGATGAGACAGTGATGTCGAAACCGCCTCTACAAATAATTTTGTTTAA\n",
    "RiboJ54\tAGGGGTC|AGTTGATGTGCTTTCAACTCTGATGAGTCAGTGATGACGAAACCCCCTCTACAAATAATTTTGTTTAA\n",
    "RiboJ57\tAGAAGTC|AATTAATGTGCTTTTAATTCTGATGAGTCGGTGACGACGAAACTTCCTCTACAAATAATTTTGTTTAA\n",
    "RiboJ60\tAGTCGTC|AAGTGCTGTGCTTGCACTTCTGATGAGGCAGTGATGCCGAAACGACCTCTACAAATAATTTTGTTTAA\n",
    "RiboJ64\tAGGAGTC|AATTAATGTGCTTTTAATTCTGATGAGACGGTGACGTCGAAACTCCCTCTACAAATAATTTTGTTTAA\n",
    "\"\"\"\n",
    "\n",
    "import io\n",
    "\n",
    "ribozymes = pd.read_csv(io.StringIO(ribozymes_tsv), sep=\"\\s+\", index_col=0)\n",
    "ribozymes[\"Cleaved\"] = ribozymes[\"Sequence\"].map(lambda x: x.split(\"|\")[1])\n",
    "ribozymes[\"Sequence\"] = ribozymes[\"Sequence\"].str.replace(\"|\", \"\", regex=False)"
   ]
  },
  {
   "cell_type": "code",
   "execution_count": null,
   "id": "16",
   "metadata": {},
   "outputs": [],
   "source": [
    "workflow.add_overhangs(riboj, overhangs_for(part_types[\"5UTR_1\"]))"
   ]
  },
  {
   "cell_type": "code",
   "execution_count": null,
   "id": "17",
   "metadata": {},
   "outputs": [],
   "source": [
    "(\n",
    "    ribozymes.loc[\"RiboJ\"][\"Cleaved\"]\n",
    "    + part_types[\"5UTR_1\"][\"Downstream overhang\"]\n",
    "    + 35 * \"N\"\n",
    "    + \"a\"\n",
    ")"
   ]
  },
  {
   "cell_type": "code",
   "execution_count": null,
   "id": "18",
   "metadata": {},
   "outputs": [],
   "source": [
    "sigw = reg[(\"LIB\", \"parts\")][\"sigW\"][\"Sequence\"]"
   ]
  },
  {
   "cell_type": "code",
   "execution_count": null,
   "id": "19",
   "metadata": {},
   "outputs": [],
   "source": [
    "sigw[1:]"
   ]
  },
  {
   "cell_type": "markdown",
   "id": "20",
   "metadata": {},
   "source": [
    "# Weiss"
   ]
  },
  {
   "cell_type": "code",
   "execution_count": null,
   "id": "21",
   "metadata": {},
   "outputs": [],
   "source": [
    "len(reg[(\"LIB\", \"parts\")][\"B0032m_BC\"][\"Sequence\"])"
   ]
  },
  {
   "cell_type": "code",
   "execution_count": null,
   "id": "22",
   "metadata": {},
   "outputs": [],
   "source": [
    "reg[(\"LIB\", \"parts\")][\"B0032m_BC\"][\"Sequence\"] + sigw[4:]"
   ]
  },
  {
   "cell_type": "code",
   "execution_count": null,
   "id": "23",
   "metadata": {},
   "outputs": [],
   "source": [
    "reg[(\"LIB\", \"parts\")][\"BCD22\"][\"Sequence\"] + sigw[4:]"
   ]
  },
  {
   "cell_type": "code",
   "execution_count": null,
   "id": "24",
   "metadata": {},
   "outputs": [],
   "source": [
    "reg[(\"LIB\", \"parts\")][\"BCD14\"][\"Sequence\"] + sigw[4:]"
   ]
  },
  {
   "cell_type": "code",
   "execution_count": null,
   "id": "25",
   "metadata": {},
   "outputs": [],
   "source": [
    "reg[(\"LIB\", \"parts\")][\"BCD14\"][\"Sequence\"]  # + sigw[4:]"
   ]
  },
  {
   "cell_type": "markdown",
   "id": "26",
   "metadata": {},
   "source": [
    "# Twist flank primers"
   ]
  },
  {
   "cell_type": "code",
   "execution_count": null,
   "id": "27",
   "metadata": {},
   "outputs": [],
   "source": [
    "olib = reg[(\"oLIB\", \"oligos\")]\n",
    "lib_parts = reg[(\"LIB\", \"parts\")]\n",
    "olt = reg[(\"oLT\", \"oligos\")]"
   ]
  },
  {
   "cell_type": "code",
   "execution_count": null,
   "id": "28",
   "metadata": {},
   "outputs": [],
   "source": [
    "primer_binding = (\n",
    "    lib_parts[\"Eaton_library_prefix\"][\"Sequence\"],\n",
    "    lib_parts[\"Eaton_library_suffix\"][\"Sequence\"],\n",
    ")"
   ]
  },
  {
   "cell_type": "code",
   "execution_count": null,
   "id": "29",
   "metadata": {},
   "outputs": [],
   "source": [
    "primer_binding"
   ]
  },
  {
   "cell_type": "code",
   "execution_count": null,
   "id": "30",
   "metadata": {},
   "outputs": [],
   "source": [
    "sequence.reverse_complement(primer_binding[1])"
   ]
  },
  {
   "cell_type": "markdown",
   "id": "31",
   "metadata": {},
   "source": [
    "# RBS library order"
   ]
  },
  {
   "cell_type": "code",
   "execution_count": null,
   "id": "32",
   "metadata": {},
   "outputs": [],
   "source": [
    "seqs = {\n",
    "    \"SigW_RBSlib1_weak\": \"ACCGGATGTGCTTTCCGGTCTGATGAGTCCGTGAGGACGAAACAGCCTCTACAAATAATTTTGTTTAACCATKRWGGCCAYKGSGGACACAKA\",\n",
    "    \"SigW_RBSlib1_strong\": \"ACCGGATGTGCTTTCCGGTCTGATGAGTCCGTGAGGACGAAACAGCCTCTACAAATAATTTTGTTTAACCATAACTSASRKARGCGTTMTYTA\",\n",
    "}"
   ]
  },
  {
   "cell_type": "code",
   "execution_count": null,
   "id": "33",
   "metadata": {},
   "outputs": [],
   "source": [
    "cleave5 = len(\n",
    "    ribozymes.loc[\"RiboJ\"][\"Cleaved\"] + part_types[\"5UTR_1\"][\"Downstream overhang\"]\n",
    ")\n",
    "cleave3 = 1\n",
    "seqs = {name: seq[cleave5:-cleave3] for name, seq in seqs.items()}"
   ]
  },
  {
   "cell_type": "code",
   "execution_count": null,
   "id": "34",
   "metadata": {},
   "outputs": [],
   "source": [
    "overhangs = overhangs_for(part_types[\"5UTR_2\"])\n",
    "random_bases = (\n",
    "    \"GCTTCA\",\n",
    "    \"TGCTAA\",\n",
    ")  # to add between BsmBI recognition site and ends of oligos\n",
    "flanks = (\"CGTCTCGGTCTCa\", \"tGAGACCgGAGACG\")  # storage vector BsmBI flanks\n",
    "seqs_to_order = {}\n",
    "for name, seq in seqs.items():\n",
    "    seqs_to_order[name] = workflow.add_flanks(\n",
    "        workflow.add_overhangs(seq.lower(), overhangs),\n",
    "        # [flanks, random_bases, primer_binding],\n",
    "        [flanks, primer_binding],\n",
    "    )"
   ]
  },
  {
   "cell_type": "code",
   "execution_count": null,
   "id": "35",
   "metadata": {},
   "outputs": [],
   "source": [
    "date = datetime.now().strftime(\"%-m/%-d/%Y\")\n",
    "\n",
    "description = \"Added Eaton flanks, to be amplified with oLIB45/46.\"\n",
    "\n",
    "base_row = {\n",
    "    \"Author\": \"Jacob Quinn Shenker\",\n",
    "    \"Vendor\": \"IDT\",\n",
    "    \"Type\": \"Primer\",\n",
    "    \"Date\": date,\n",
    "    \"Order date\": date,\n",
    "    \"Description\": description,\n",
    "}\n",
    "\n",
    "rows = []\n",
    "\n",
    "for seq_name, seq in seqs_to_order.items():\n",
    "    name = f\"{seq_name}_v3\"\n",
    "    row = {\n",
    "        \"Name\": name,\n",
    "        \"Sequence\": str(seq).upper(),\n",
    "        # \"Description\": description,\n",
    "        **base_row,\n",
    "    }\n",
    "    rows.append(row)"
   ]
  },
  {
   "cell_type": "code",
   "execution_count": null,
   "id": "36",
   "metadata": {},
   "outputs": [],
   "source": [
    "[len(row[\"Sequence\"]) for row in rows]"
   ]
  },
  {
   "cell_type": "code",
   "execution_count": null,
   "id": "37",
   "metadata": {},
   "outputs": [],
   "source": [
    "for row in rows:\n",
    "    olt[olt.next_id()] = row"
   ]
  },
  {
   "cell_type": "code",
   "execution_count": null,
   "id": "38",
   "metadata": {},
   "outputs": [],
   "source": [
    "olt.save()"
   ]
  },
  {
   "cell_type": "code",
   "execution_count": null,
   "id": "39",
   "metadata": {},
   "outputs": [],
   "source": [
    "olt.clear_cache()"
   ]
  },
  {
   "cell_type": "code",
   "execution_count": null,
   "id": "40",
   "metadata": {},
   "outputs": [],
   "source": [
    "rows"
   ]
  },
  {
   "cell_type": "markdown",
   "id": "41",
   "metadata": {},
   "source": [
    "# Ribozyme order"
   ]
  },
  {
   "cell_type": "code",
   "execution_count": null,
   "id": "42",
   "metadata": {},
   "outputs": [],
   "source": [
    "import random\n",
    "\n",
    "\n",
    "def random_bases(n):\n",
    "    return \"\".join(random.choice(\"ATCG\") for _ in range(max(n, 0)))"
   ]
  },
  {
   "cell_type": "code",
   "execution_count": null,
   "id": "43",
   "metadata": {},
   "outputs": [],
   "source": [
    "seqs = ribozymes[\"Sequence\"].to_dict()"
   ]
  },
  {
   "cell_type": "code",
   "execution_count": null,
   "id": "44",
   "metadata": {},
   "outputs": [],
   "source": [
    "min_length = 125  # for gblock\n",
    "overhangs = overhangs_for(part_types[\"5UTR_1\"])\n",
    "random_flanks = (\n",
    "    \"GCTTCA\",\n",
    "    \"TGCTAA\",\n",
    ")  # to add between BsmBI recognition site and ends of oligos\n",
    "flanks = (\"CGTCTCGGTCTCa\", \"tGAGACCgGAGACG\")  # storage vector BsmBI flanks\n",
    "seqs_to_order = {}\n",
    "for name, seq in seqs.items():\n",
    "    seq = workflow.add_flanks(\n",
    "        workflow.add_overhangs(seq.lower(), overhangs),\n",
    "        [flanks, random_flanks],\n",
    "    )\n",
    "    seq += random_bases(min_length - len(seq))\n",
    "    seqs_to_order[name] = seq"
   ]
  },
  {
   "cell_type": "code",
   "execution_count": null,
   "id": "45",
   "metadata": {},
   "outputs": [],
   "source": [
    "prefix = \"oLT\"\n",
    "id_num = 52\n",
    "for seq_name, seq in seqs_to_order.items():\n",
    "    for sense in (True,):\n",
    "        if sense:\n",
    "            oligo_seq = seq\n",
    "        else:\n",
    "            oligo_seq = sequence.reverse_complement(seq)\n",
    "        id_ = f\"{prefix}{id_num}\"\n",
    "        # name = f\"{seq_name}_{'sense' if sense else 'antisense'}\"\n",
    "        print(f\"{id_}\\t{seq_name}\\t{_format_seq(oligo_seq)}\")\n",
    "        # print(f\"{id_}\\t{_format_seq(oligo_seq)}\")\n",
    "        # print(f\"{name}\\t{len(oligo_seq)}\")\n",
    "        id_num += 1"
   ]
  }
 ],
 "metadata": {
  "kernelspec": {
   "display_name": "Python 3 (ipykernel)",
   "language": "python",
   "name": "python3"
  },
  "language_info": {
   "codemirror_mode": {
    "name": "ipython",
    "version": 3
   },
   "file_extension": ".py",
   "mimetype": "text/x-python",
   "name": "python",
   "nbconvert_exporter": "python",
   "pygments_lexer": "ipython3",
   "version": "3.9.13"
  }
 },
 "nbformat": 4,
 "nbformat_minor": 4
}
