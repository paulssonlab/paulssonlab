{
 "cells": [
  {
   "cell_type": "code",
   "execution_count": null,
   "id": "0",
   "metadata": {},
   "outputs": [],
   "source": [
    "import re\n",
    "import string\n",
    "import urllib\n",
    "from datetime import datetime\n",
    "from zipfile import ZipFile\n",
    "\n",
    "import benchlingapi\n",
    "import Bio.pairwise2 as pairwise2\n",
    "import Bio.Restriction as Restriction\n",
    "import holoviews as hv\n",
    "import hvplot.pandas\n",
    "import matplotlib.pyplot as plt\n",
    "import numpy as np\n",
    "import pandas as pd\n",
    "import pygsheets\n",
    "import requests\n",
    "import seaborn as sns\n",
    "import toml\n",
    "from Bio.Seq import Seq\n",
    "from Bio.SeqRecord import SeqRecord\n",
    "from tqdm.auto import tqdm"
   ]
  },
  {
   "cell_type": "code",
   "execution_count": null,
   "id": "1",
   "metadata": {},
   "outputs": [],
   "source": [
    "%load_ext autoreload\n",
    "%autoreload 2"
   ]
  },
  {
   "cell_type": "code",
   "execution_count": null,
   "id": "2",
   "metadata": {},
   "outputs": [],
   "source": [
    "import paulssonlab.api as api\n",
    "import paulssonlab.api.benchling as bapi\n",
    "import paulssonlab.cloning.enzyme as enzyme\n",
    "import paulssonlab.cloning.registry as registry\n",
    "import paulssonlab.cloning.sequence as sequence\n",
    "import paulssonlab.cloning.thermodynamics as thermodynamics\n",
    "import paulssonlab.cloning.viennarna as viennarna\n",
    "import paulssonlab.cloning.workflow as workflow\n",
    "from paulssonlab.api.util import base_url"
   ]
  },
  {
   "cell_type": "code",
   "execution_count": null,
   "id": "3",
   "metadata": {},
   "outputs": [],
   "source": [
    "hv.extension(\"bokeh\")"
   ]
  },
  {
   "cell_type": "markdown",
   "id": "4",
   "metadata": {},
   "source": [
    "# Setup"
   ]
  },
  {
   "cell_type": "code",
   "execution_count": null,
   "id": "5",
   "metadata": {},
   "outputs": [],
   "source": [
    "config = toml.load(\"config.toml\")"
   ]
  },
  {
   "cell_type": "code",
   "execution_count": null,
   "id": "6",
   "metadata": {},
   "outputs": [],
   "source": [
    "gc = pygsheets.authorize(service_account_file=\"credentials.json\")"
   ]
  },
  {
   "cell_type": "code",
   "execution_count": null,
   "id": "7",
   "metadata": {},
   "outputs": [],
   "source": [
    "bench_session = benchlingapi.Session(config[\"benchling\"][\"api_key\"])\n",
    "benchling_folder = bapi.get_project_root(bench_session, config[\"benchling\"][\"project\"])"
   ]
  },
  {
   "cell_type": "code",
   "execution_count": null,
   "id": "8",
   "metadata": {},
   "outputs": [],
   "source": [
    "reg = registry.Registry(gc, config[\"registry\"][\"folder\"], benchling_folder)"
   ]
  },
  {
   "cell_type": "markdown",
   "id": "9",
   "metadata": {},
   "source": [
    "# Backbone insulation"
   ]
  },
  {
   "cell_type": "code",
   "execution_count": null,
   "id": "10",
   "metadata": {},
   "outputs": [],
   "source": [
    "import Bio.SeqUtils.MeltingTemp as MeltingTemp\n",
    "import primer3"
   ]
  },
  {
   "cell_type": "code",
   "execution_count": null,
   "id": "11",
   "metadata": {},
   "outputs": [],
   "source": [
    "olib = reg[(\"oLIB\", \"oligos\")]\n",
    "plib_maps = reg[(\"pLIB\", \"maps\")]\n",
    "primers = {f\"oLIB{num}\": olib[f\"oLIB{num}\"][\"Sequence\"] for num in range(179, 183)}"
   ]
  },
  {
   "cell_type": "code",
   "execution_count": null,
   "id": "12",
   "metadata": {},
   "outputs": [],
   "source": [
    "template = plib_maps[\"pLIB122\"]"
   ]
  },
  {
   "cell_type": "code",
   "execution_count": null,
   "id": "13",
   "metadata": {},
   "outputs": [],
   "source": [
    "seq = \"cctttaattaaggagttttg\""
   ]
  },
  {
   "cell_type": "code",
   "execution_count": null,
   "id": "14",
   "metadata": {},
   "outputs": [],
   "source": [
    "# seq = \"AACACACAGACGAGACGCGGAA\"\n",
    "MeltingTemp.Tm_NN(\n",
    "    seq, dnac1=500, nn_table=MeltingTemp.DNA_NN3, saltcorr=7, Na=150\n",
    ")  # + 9"
   ]
  },
  {
   "cell_type": "code",
   "execution_count": null,
   "id": "15",
   "metadata": {},
   "outputs": [],
   "source": [
    "primers[\"oLIB180\"]"
   ]
  },
  {
   "cell_type": "code",
   "execution_count": null,
   "id": "16",
   "metadata": {},
   "outputs": [],
   "source": [
    "?sequence.find_primer_binding_site"
   ]
  },
  {
   "cell_type": "code",
   "execution_count": null,
   "id": "17",
   "metadata": {},
   "outputs": [],
   "source": [
    "sequence.find_primer_binding_site(\n",
    "    template.seq_lower(), primers[\"oLIB180\"].lower(), reverse_complement=None\n",
    ")"
   ]
  },
  {
   "cell_type": "code",
   "execution_count": null,
   "id": "18",
   "metadata": {},
   "outputs": [],
   "source": [
    "primer_conc = 500\n",
    "\n",
    "primer3.calcTm(\n",
    "    seq,\n",
    "    dna_conc=(primer_conc / 6) * 7,  # primer is assumed 6x template\n",
    "    mv_conc=200,  # (60+20),\n",
    "    dv_conc=2,\n",
    "    tm_method=\"santalucia\",\n",
    "    salt_corrections_method=\"owczarzy\",\n",
    ")"
   ]
  },
  {
   "cell_type": "code",
   "execution_count": null,
   "id": "19",
   "metadata": {},
   "outputs": [],
   "source": [
    "primer_conc = 500\n",
    "\n",
    "primer3.calcTm(\n",
    "    seq,\n",
    "    dna_conc=(primer_conc / 6) * 7,  # primer is assumed 6x template\n",
    "    mv_conc=200,  # (60+20),\n",
    "    dv_conc=0,\n",
    "    tm_method=\"santalucia\",\n",
    "    salt_corrections_method=\"owczarzy\",\n",
    ")"
   ]
  },
  {
   "cell_type": "code",
   "execution_count": null,
   "id": "20",
   "metadata": {},
   "outputs": [],
   "source": [
    "orig_upstream = (primers[\"oLIB179\"], primers[\"oLIB180\"])"
   ]
  },
  {
   "cell_type": "code",
   "execution_count": null,
   "id": "21",
   "metadata": {},
   "outputs": [],
   "source": [
    "[viennarna.dna_secondary_structure(s) for s in orig_upstream]"
   ]
  },
  {
   "cell_type": "code",
   "execution_count": null,
   "id": "22",
   "metadata": {},
   "outputs": [],
   "source": [
    "viennarna.dna_heterodimer(*orig_upstream)"
   ]
  },
  {
   "cell_type": "code",
   "execution_count": null,
   "id": "23",
   "metadata": {},
   "outputs": [],
   "source": [
    "orig_downstream = (primers[\"oLIB181\"], primers[\"oLIB182\"])"
   ]
  },
  {
   "cell_type": "code",
   "execution_count": null,
   "id": "24",
   "metadata": {},
   "outputs": [],
   "source": [
    "[viennarna.dna_secondary_structure(s) for s in orig_downstream]"
   ]
  },
  {
   "cell_type": "code",
   "execution_count": null,
   "id": "25",
   "metadata": {},
   "outputs": [],
   "source": [
    "viennarna.dna_heterodimer(*orig_downstream)"
   ]
  },
  {
   "cell_type": "code",
   "execution_count": null,
   "id": "26",
   "metadata": {},
   "outputs": [],
   "source": [
    "upstream = (\"CCTTTAATTAAGGAGTTTTGCAGGTGC\", \"CATCAAATAAAACGAAAGGCTCAGTCG\")"
   ]
  },
  {
   "cell_type": "code",
   "execution_count": null,
   "id": "27",
   "metadata": {},
   "outputs": [],
   "source": [
    "[viennarna.dna_secondary_structure(s) for s in upstream]"
   ]
  },
  {
   "cell_type": "code",
   "execution_count": null,
   "id": "28",
   "metadata": {},
   "outputs": [],
   "source": [
    "viennarna.dna_heterodimer(*upstream)"
   ]
  },
  {
   "cell_type": "code",
   "execution_count": null,
   "id": "29",
   "metadata": {},
   "outputs": [],
   "source": [
    "s = \"cctttaattaaggagttttgcaggtgcctt\"[:]\n",
    "[viennarna.dna_secondary_structure(s[:-i]) for i in reversed(range(1, 20))]"
   ]
  },
  {
   "cell_type": "code",
   "execution_count": null,
   "id": "30",
   "metadata": {},
   "outputs": [],
   "source": [
    "[s[:-i] for i in reversed(range(1, 20))]"
   ]
  },
  {
   "cell_type": "code",
   "execution_count": null,
   "id": "31",
   "metadata": {},
   "outputs": [],
   "source": [
    "downstream = (\"caagactagagcgaagtcttcgaag\", \"gactcctgttgatagatccagtaatgac\")"
   ]
  },
  {
   "cell_type": "code",
   "execution_count": null,
   "id": "32",
   "metadata": {},
   "outputs": [],
   "source": [
    "viennarna.dna_heterodimer(*downstream)"
   ]
  },
  {
   "cell_type": "markdown",
   "id": "33",
   "metadata": {},
   "source": [
    "# Backbone primers with UNSes for FISH barcodes"
   ]
  },
  {
   "cell_type": "code",
   "execution_count": null,
   "id": "34",
   "metadata": {},
   "outputs": [],
   "source": [
    "# backbone primers with UNS9 instead of UNS1 (reverse) and UNS10 (forward)"
   ]
  },
  {
   "cell_type": "code",
   "execution_count": null,
   "id": "35",
   "metadata": {},
   "outputs": [],
   "source": [
    "?str.replace"
   ]
  },
  {
   "cell_type": "code",
   "execution_count": null,
   "id": "36",
   "metadata": {},
   "outputs": [],
   "source": [
    "lib_parts = reg[(\"LIB\", \"parts\")]\n",
    "plib_maps = reg[(\"pLIB\", \"maps\")]\n",
    "olib_oligos = reg[(\"oLIB\", \"oligos\")]"
   ]
  },
  {
   "cell_type": "code",
   "execution_count": null,
   "id": "37",
   "metadata": {},
   "outputs": [],
   "source": [
    "uns1 = lib_parts[\"UNS1\"][\"Sequence\"]\n",
    "uns9 = lib_parts[\"UNS9\"][\"Sequence\"]\n",
    "uns10 = lib_parts[\"UNS10\"][\"Sequence\"]"
   ]
  },
  {
   "cell_type": "code",
   "execution_count": null,
   "id": "38",
   "metadata": {},
   "outputs": [],
   "source": [
    "target = plib_maps[\"pLIB122\"]"
   ]
  },
  {
   "cell_type": "code",
   "execution_count": null,
   "id": "39",
   "metadata": {},
   "outputs": [],
   "source": [
    "old_primer = olib_oligos[\"oLIB177\"][\"Sequence\"]\n",
    "new_primer = workflow.replace_primer_tail(target, old_primer)\n",
    "print(old_primer)\n",
    "print(new_primer)"
   ]
  },
  {
   "cell_type": "code",
   "execution_count": null,
   "id": "40",
   "metadata": {},
   "outputs": [],
   "source": [
    "old_primer = olib_oligos[\"oLIB177\"][\"Sequence\"]\n",
    "new_primer = workflow.replace_primer_tail(target, old_primer, \"AAAA\")\n",
    "print(old_primer)\n",
    "print(new_primer)"
   ]
  },
  {
   "cell_type": "markdown",
   "id": "41",
   "metadata": {},
   "source": [
    "# FISH barcode primers with UNSes"
   ]
  },
  {
   "cell_type": "code",
   "execution_count": null,
   "id": "42",
   "metadata": {},
   "outputs": [],
   "source": [
    "upstream = \"tctcctacataatacgactcactatagggacgaacgttagcagcactat\"\n",
    "downstream = \"aaccccttggggcctctaaacgggtcttgaggggttttttgggaatgaga\""
   ]
  },
  {
   "cell_type": "code",
   "execution_count": null,
   "id": "43",
   "metadata": {},
   "outputs": [],
   "source": [
    "# \"caaaaaacccctcaagac\" + uns9"
   ]
  },
  {
   "cell_type": "code",
   "execution_count": null,
   "id": "44",
   "metadata": {},
   "outputs": [],
   "source": [
    "%%time\n",
    "enumerate_primers(\n",
    "    sequence.reverse_complement(downstream).lower(),\n",
    "    tail=uns9,\n",
    "    min_mfe=-20,\n",
    "    monotonic_mfe=False,\n",
    "    anchor_3prime=False,\n",
    ")"
   ]
  },
  {
   "cell_type": "code",
   "execution_count": null,
   "id": "45",
   "metadata": {},
   "outputs": [],
   "source": [
    "enumerate_primer_pairs(upstream, downstream)"
   ]
  },
  {
   "cell_type": "markdown",
   "id": "46",
   "metadata": {},
   "source": [
    "## Primer3"
   ]
  },
  {
   "cell_type": "code",
   "execution_count": null,
   "id": "47",
   "metadata": {},
   "outputs": [],
   "source": [
    "import primer3plus"
   ]
  },
  {
   "cell_type": "code",
   "execution_count": null,
   "id": "48",
   "metadata": {},
   "outputs": [],
   "source": [
    "design = primer3plus.Design()\n",
    "design.settings.template(str(sequence.get_seq(target)))\n",
    "# design.settings.as_cloning_task()\n",
    "design.settings.primer_num_return(1)\n",
    "results, explain = design.run()"
   ]
  },
  {
   "cell_type": "code",
   "execution_count": null,
   "id": "49",
   "metadata": {},
   "outputs": [],
   "source": [
    "explain"
   ]
  },
  {
   "cell_type": "code",
   "execution_count": null,
   "id": "50",
   "metadata": {},
   "outputs": [],
   "source": [
    "results"
   ]
  },
  {
   "cell_type": "code",
   "execution_count": null,
   "id": "51",
   "metadata": {},
   "outputs": [],
   "source": [
    "enzyme.re_search"
   ]
  },
  {
   "cell_type": "code",
   "execution_count": null,
   "id": "52",
   "metadata": {},
   "outputs": [],
   "source": [
    "test_seq = \"gcttcacgtctcggtctcaaggtctttaaaaagaaacctccgcattgcggaggtttcgccttttgatactctgtctgaagtaattcttgccgcagtgaaaaatggcgcccatcggcgccatttttttatgcttccattagaaagcaaaaagcctgctagaaagcaggcttttttgaatttggctcctctgacgctttgagaccggagacgtgctaa\""
   ]
  },
  {
   "cell_type": "code",
   "execution_count": null,
   "id": "53",
   "metadata": {},
   "outputs": [],
   "source": [
    "enzyme._re_search(test_seq, Restriction.BsaI)"
   ]
  },
  {
   "cell_type": "code",
   "execution_count": null,
   "id": "54",
   "metadata": {},
   "outputs": [],
   "source": [
    "test_seq[12:197]"
   ]
  },
  {
   "cell_type": "code",
   "execution_count": null,
   "id": "55",
   "metadata": {},
   "outputs": [],
   "source": [
    "# find BsaI sites\n",
    "# hhh"
   ]
  },
  {
   "cell_type": "code",
   "execution_count": null,
   "id": "56",
   "metadata": {},
   "outputs": [],
   "source": [
    "import primer3"
   ]
  },
  {
   "cell_type": "code",
   "execution_count": null,
   "id": "57",
   "metadata": {},
   "outputs": [],
   "source": [
    "primer3.designPrimers(\n",
    "    {\n",
    "        \"SEQUENCE_TEMPLATE\": str(sequence.get_seq(target)),\n",
    "        \"SEQUENCE_INCLUDED_REGION\": [36, 342],\n",
    "    },\n",
    "    {\n",
    "        #         'PRIMER_PICK_INTERNAL_OLIGO': 1,\n",
    "        #         'PRIMER_INTERNAL_MAX_SELF_END': 8,\n",
    "        \"PRIMER_OPT_SIZE\": 20,\n",
    "        \"PRIMER_MIN_SIZE\": 18,\n",
    "        \"PRIMER_MAX_SIZE\": 25,\n",
    "        \"PRIMER_OPT_TM\": 60.0,\n",
    "        \"PRIMER_MIN_TM\": 57.0,\n",
    "        \"PRIMER_MAX_TM\": 63.0,\n",
    "        \"PRIMER_MIN_GC\": 20.0,\n",
    "        \"PRIMER_MAX_GC\": 80.0,\n",
    "        #         'PRIMER_MAX_POLY_X': 100,\n",
    "        #         'PRIMER_INTERNAL_MAX_POLY_X': 100,\n",
    "        \"PRIMER_SALT_MONOVALENT\": 50.0,\n",
    "        \"PRIMER_DNA_CONC\": 50.0,\n",
    "        #         'PRIMER_MAX_NS_ACCEPTED': 0,\n",
    "        #         'PRIMER_MAX_SELF_ANY': 12,\n",
    "        #         'PRIMER_MAX_SELF_END': 8,\n",
    "        #         'PRIMER_PAIR_MAX_COMPL_ANY': 12,\n",
    "        #         'PRIMER_PAIR_MAX_COMPL_END': 8,\n",
    "        #         'PRIMER_PRODUCT_SIZE_RANGE': [[75,100],[100,125],[125,150],\n",
    "        #                                       [150,175],[175,200],[200,225]],\n",
    "    },\n",
    ")"
   ]
  },
  {
   "cell_type": "markdown",
   "id": "58",
   "metadata": {},
   "source": [
    "# Old"
   ]
  },
  {
   "cell_type": "code",
   "execution_count": null,
   "id": "59",
   "metadata": {},
   "outputs": [],
   "source": [
    "from cytoolz import dissoc"
   ]
  },
  {
   "cell_type": "code",
   "execution_count": null,
   "id": "60",
   "metadata": {},
   "outputs": [],
   "source": [
    "olt = reg[(\"oLT\", \"oligos\")]"
   ]
  },
  {
   "cell_type": "code",
   "execution_count": null,
   "id": "61",
   "metadata": {},
   "outputs": [],
   "source": [
    "old_row = olt[\"oLT74\"]\n",
    "seq = old_row[\"Sequence\"]"
   ]
  },
  {
   "cell_type": "code",
   "execution_count": null,
   "id": "62",
   "metadata": {},
   "outputs": [],
   "source": [
    "len(seq)"
   ]
  },
  {
   "cell_type": "code",
   "execution_count": null,
   "id": "63",
   "metadata": {},
   "outputs": [],
   "source": [
    "homology_length = 20\n",
    "break_idx = 111\n",
    "idxs = (slice(None, break_idx + homology_length), slice(break_idx, None))\n",
    "for idx in idxs:\n",
    "    print(seq[idx])"
   ]
  },
  {
   "cell_type": "code",
   "execution_count": null,
   "id": "64",
   "metadata": {},
   "outputs": [],
   "source": [
    "date = datetime.now().strftime(\"%-m/%-d/%Y\")\n",
    "\n",
    "rows = []\n",
    "\n",
    "for i, idx in enumerate(idxs):\n",
    "    row = {\n",
    "        **dissoc(old_row, \"ID\"),\n",
    "        \"Sequence\": seq[idx].upper(),\n",
    "        \"Name\": \"{}_v2_split{}\".format(old_row[\"Name\"], i + 1),\n",
    "        \"Description\": \"Split section {}-of-{} of oLT74 (20bp overlap).\\n{}\".format(\n",
    "            i + 1, len(idxs), old_row[\"Description\"]\n",
    "        ),\n",
    "        \"Date\": date,\n",
    "        \"Order date\": date,\n",
    "    }\n",
    "    rows.append(row)"
   ]
  },
  {
   "cell_type": "code",
   "execution_count": null,
   "id": "65",
   "metadata": {},
   "outputs": [],
   "source": [
    "for row in rows:\n",
    "    olt[olt.next_id()] = row"
   ]
  },
  {
   "cell_type": "code",
   "execution_count": null,
   "id": "66",
   "metadata": {},
   "outputs": [],
   "source": [
    "olt.save()"
   ]
  },
  {
   "cell_type": "code",
   "execution_count": null,
   "id": "67",
   "metadata": {},
   "outputs": [],
   "source": [
    "rows"
   ]
  }
 ],
 "metadata": {
  "kernelspec": {
   "display_name": "Python 3",
   "language": "python",
   "name": "python3"
  },
  "language_info": {
   "codemirror_mode": {
    "name": "ipython",
    "version": 3
   },
   "file_extension": ".py",
   "mimetype": "text/x-python",
   "name": "python",
   "nbconvert_exporter": "python",
   "pygments_lexer": "ipython3",
   "version": "3.8.8"
  }
 },
 "nbformat": 4,
 "nbformat_minor": 4
}
