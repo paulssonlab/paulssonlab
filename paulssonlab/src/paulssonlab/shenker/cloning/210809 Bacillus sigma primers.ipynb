{
 "cells": [
  {
   "cell_type": "code",
   "execution_count": null,
   "metadata": {},
   "outputs": [],
   "source": [
    "import numpy as np\n",
    "import pandas as pd\n",
    "import holoviews as hv\n",
    "import hvplot.pandas\n",
    "import matplotlib.pyplot as plt\n",
    "import seaborn as sns\n",
    "import toml\n",
    "import re\n",
    "from zipfile import ZipFile\n",
    "import urllib\n",
    "from datetime import datetime\n",
    "import string\n",
    "import pygsheets\n",
    "import requests\n",
    "from tqdm.auto import tqdm\n",
    "import Bio.Restriction as Restriction\n",
    "from Bio.Seq import Seq\n",
    "from Bio.SeqRecord import SeqRecord\n",
    "import Bio.pairwise2 as pairwise2\n",
    "import benchlingapi"
   ]
  },
  {
   "cell_type": "code",
   "execution_count": null,
   "metadata": {},
   "outputs": [],
   "source": [
    "%load_ext autoreload\n",
    "%autoreload 2"
   ]
  },
  {
   "cell_type": "code",
   "execution_count": null,
   "metadata": {},
   "outputs": [],
   "source": [
    "import paulssonlab.api as api\n",
    "import paulssonlab.api.benchling as bapi\n",
    "from paulssonlab.api.util import base_url\n",
    "import paulssonlab.cloning.registry as registry\n",
    "import paulssonlab.cloning.workflow as workflow\n",
    "import paulssonlab.cloning.sequence as sequence\n",
    "import paulssonlab.cloning.enzyme as enzyme\n",
    "import paulssonlab.cloning.viennarna as viennarna\n",
    "import paulssonlab.cloning.thermodynamics as thermodynamics"
   ]
  },
  {
   "cell_type": "code",
   "execution_count": null,
   "metadata": {},
   "outputs": [],
   "source": [
    "hv.extension(\"bokeh\")"
   ]
  },
  {
   "cell_type": "markdown",
   "metadata": {},
   "source": [
    "# Setup"
   ]
  },
  {
   "cell_type": "code",
   "execution_count": null,
   "metadata": {},
   "outputs": [],
   "source": [
    "config = toml.load(\"config.toml\")"
   ]
  },
  {
   "cell_type": "code",
   "execution_count": null,
   "metadata": {},
   "outputs": [],
   "source": [
    "gc = pygsheets.authorize(service_account_file=\"credentials.json\")"
   ]
  },
  {
   "cell_type": "code",
   "execution_count": null,
   "metadata": {},
   "outputs": [],
   "source": [
    "bench_session = benchlingapi.Session(config[\"benchling\"][\"api_key\"])\n",
    "benchling_folder = bapi.get_project_root(bench_session, config[\"benchling\"][\"project\"])"
   ]
  },
  {
   "cell_type": "code",
   "execution_count": null,
   "metadata": {},
   "outputs": [],
   "source": [
    "reg = registry.Registry(gc, config[\"registry\"][\"folder\"], benchling_folder)"
   ]
  },
  {
   "cell_type": "markdown",
   "metadata": {},
   "source": [
    "# Bervoets 2018"
   ]
  },
  {
   "cell_type": "code",
   "execution_count": null,
   "metadata": {},
   "outputs": [],
   "source": [
    "bervoets_primers_tsv = \"\"\"Primer\tSequence\n",
    "IB0173\tATGGTTAGCGAGCTGATCAAAG\n",
    "IB0174\tCTTCGTAAATCTGGCGAGTG\n",
    "IB0175\tTGTGCATGTTTTCTTTGATCAGCTCGCTAACCATCATTAGAAAACCTCCATAGCATG\n",
    "IB0176\tGATGTCTGGCAGTTCCCCACTCGCCAGATTTACGAAGTTCTAGAGCACAGCTAACAC\n",
    "IB0180\tCCAAGCTTGCATGCCTGCAGGTCGACTCTAGAGGATCCCCGTGTAGGCTGGAGCTGCTTC\n",
    "IB0181\t\"AACAGCTATGACCATGATTACGAATTCGAGCTCGGTACCCTGGTCCATATG\n",
    "AATATCCTCCTTAG\"\n",
    "IB0184\t\"TTCCCAGTCACGACGTTGTAAAACGACGGCCAGTGCCAGGAGACCACAAC\n",
    "GGTTTCCCTCTAC\"\n",
    "IB0186\t\"GTATAGGAACTTCGAAGCAGCTCCAGCCTACACGGGGATCTTCATTCATCA\n",
    "TTAACACCTCTATTATAAAGTGCTTTCAGCC\"\n",
    "IB0198\t\"TTACCGGATTCTTAATTACCTGGTGCGTATGGGCGGTAATTTGACCTTAATA\n",
    "AAAAGGTCTGGTCCATATGAATATCCTCCTTAG\"\n",
    "IB0199\t\"GCGAAATCCTGCAAACGCAGGGGCTGAATATCGAAGCGCTGTTCCGCGAG\n",
    "TAGGAGACCACAACGGTTTCCCTCTAC\"\n",
    "IB0238\tGAGTCACACAGGAAAGTACTAGATGACGATCGATGAAATTTACC\n",
    "IB0245\t\"TGAGCGGATAACAATTTCACACAGGAAACAGACCATGGAATTCGGAGACCA\n",
    "CAACGGTTTCCCTCTAC\"\n",
    "IB0249\t\"CCAAGCTTGCATGCCTGCAGGTCGACTCTAGAGGATCCCCGGGTCATTCA\n",
    "TCATTAACACCTCTATTATAAAGTGCTTTCAGCCGCTGTC\"\n",
    "IB0250\tTTAACTTTTACTAGAGTCACACAGGAAAGTACTAGATGACACAACCATCAAAAACTACGAAACTAAC\n",
    "IB0251\tCCAAGCTTGCATGCCTGCAGGTCGACTCTAGAGGATCCCCGGGTTACATTAACTCCATCGAGGGATCTTC\n",
    "IB0252\tTTAACTTTTACTAGAGTCACACAGGAAAGTACTAGATGGATGTGGAGGTTAAGAAAAACGGCAAAAACG\n",
    "IB0253\tCCAAGCTTGCATGCCTGCAGGTCGACTCTAGAGGATCCCCGGGCTAGCCATCCGTATGATCCATTTGAACC\n",
    "IB0254\tTTAACTTTTACTAGAGTCACACAGGAAAGTACTAGGTGTCGAGAAATAAAGTCGAAATCTGCGGGGTGGATAC\n",
    "IB0255\t\"CCAAGCTTGCATGCCTGCAGGTCGACTCTAGAGGATCCCCGGGTTATTGATGAATATTTTTATTCATTTGTTTGATAGCCGCTTTTTCAAGTCTGGACACCTG\n",
    "CGCTTGAG\"\n",
    "IB0256\tTTAACTTTTACTAGAGTCACACAGGAAAGTACTAGGTGAATCTACAGAACAACAAGGGAAAATTCAAC\n",
    "IB0257\t\"CCAAGCTTGCATGCCTGCAGGTCGACTCTAGAGGATCCCCGGGTTACAAA\n",
    "CTGATTTCGCGAATTTCCAAGTAC\"\n",
    "IB0258\t\"TTAACTTTTACTAGAGTCACACAGGAAAGTACTAGATGGAAATGATGATTAA\n",
    "AAAAAGAATTAAACAAGTCAAAAAAGGCGACCAG\"\n",
    "IB0259\t\"CCAAGCTTGCATGCCTGCAGGTCGACTCTAGAGGATCCCCGGGTTAAAGA\n",
    "TCCCTTAATTGTTTTCTAAGAGCCTCTCTG\"\n",
    "IB0260\tTTAACTTTTACTAGAGTCACACAGGAAAGTACTAGATGGAAGAAACCTTTCAATTATTATATGATACATATCATCAAGATTTG\n",
    "IB0261\tCCAAGCTTGCATGCCTGCAGGTCGACTCTAGAGGATCCCCGGGTTAACTGCCGGAAGTTGACTTAACAACTC\n",
    "IB0262\tCTAGTACTTTCCTGTGTGACTC\n",
    "IB0268\tGTATAGGAACTTCGAAGCAGCTCCAGCCTACACGGGGATCTTTACATTAACTCCATCGAGGG\n",
    "IB0269\tGTATAGGAACTTCGAAGCAGCTCCAGCCTACACGGGGATCTCTAGCCATCCGTATGATCC\n",
    "IB0270\tGTATAGGAACTTCGAAGCAGCTCCAGCCTACACGGGGATCTTTATTGATGAATATTTTTATTCATTTGTTTGATAGCC\n",
    "IB0271\t\"GTATAGGAACTTCGAAGCAGCTCCAGCCTACACGGGGATCTTTACAAACTG\n",
    "ATTTCGCGAATTTCC\"\n",
    "IB0272\t\"GTATAGGAACTTCGAAGCAGCTCCAGCCTACACGGGGATCTTTAAAGATCC\n",
    "CTTAATTGTTTTCTAAGAGC\"\n",
    "IB0273\t\"GTATAGGAACTTCGAAGCAGCTCCAGCCTACACGGGGATCTTTAACTGCC\n",
    "GGAAGTTGACTTAACAACTCCTTTATCTG\"\n",
    "IB0476\t\"TTAACTTTTACTAGAGTCACACAGGAAAGTACTAGATGAAGCAAGGTTTGC\n",
    "AACTCAGGCTTAG\"\n",
    "IB0477\t\"CCAAGCTTGCATGCCTGCAGGTCGACTCTAGAGGATCCCCGGGTCAAACG\n",
    "AGTTGTTTACGCTGGTTTGAC\"\n",
    "IB0478\tTTAACTTTTACTAGAGTCACACAGGAAAGTACTAGGTGAATTCACTCTATACCGCTGAAGGTG\n",
    "IB0479\tCCAAGCTTGCATGCCTGCAGGTCGACTCTAGAGGATCCCCGGGTTATAACTTACCCAGTTTAGTGCGTAACC\n",
    "IB0480\tTTAACTTTTACTAGAGTCACACAGGAAAGTACTAGATGACTGACAAAATGCAAAGTTTAG\n",
    "IB0481\tCCAAGCTTGCATGCCTGCAGGTCGACTCTAGAGGATCCCCGGGTTACGCTTCAATGGCAGCAC\n",
    "IB0482\tTTAACTTTTACTAGAGTCACACAGGAAAGTACTAGATGTCTGACCGCGCCACTAC\n",
    "IB0483\t\"CCAAGCTTGCATGCCTGCAGGTCGACTCTAGAGGATCCCCGGGTCATAAC\n",
    "CCATACTCCAGACGGAACAG\"\n",
    "IB0484\t\"TTAACTTTTACTAGAGTCACACAGGAAAGTACTAGATGAGCGAGCAGTTAA\n",
    "CGGAC\"\n",
    "IB0485\t\"CCAAGCTTGCATGCCTGCAGGTCGACTCTAGAGGATCCCCGGGTCAACGC\n",
    "CTGATAAGCGGTTGAAC\"\n",
    "Fw_BB\tGGATCTCGTAACCGAACTTG\n",
    "Fw_LibB_1\tGCCCTATGTTTAAAAAAATGTCGGAGAACGTGTTTATNNNNNNNNNNNNGGGTATGTAACTTGTAGGGCC\n",
    "Fw_LibB_2\tGCCCTATGTTTAAAAAAATGTCGGAGAACGTGTTTATTTTTTTNNNNNNGGGTATGTAACTTGTAGGGCC\n",
    "Fw_LibB_3\tGCCCTATGTTTAAAAAAATGTCGGAGAACGTGTTTATNNNNNNGAAAAAGGGTATGTAACTTGTAGGGCC\n",
    "Fw_LibF_1\tGATGCGTCCTGTTCTGCGATGTTTANNNNNNNNNNNNNNNKCTCATAATAGTAGAAACAGGGCC\n",
    "Fw_LibF_2\tGATGCGTCCTGTTCTGCGATGTTTAAAAACGATNNNNNNNKCTCATAATAGTAGAAACAGGGCC\n",
    "Fw_LibF_3\tGATGCGTCCTGTTCTGCGATGTTTANNNNNNNNCTTTTTTTCTCATAATAGTAGAAACAGGGCC\n",
    "Fw_LibW_1\tCTATCTGCTGCCCTATGATAAACTTATTTTATAAAAAAATTGAAACNNNNNNNNNNNNNNNNCGTATACATACAGAGGGCC\n",
    "Fw_LibW_2\tCTATCTGCTGCCCTATGATAAACTTATTTTATAAAAAAATTGAAACCTTTTGAANNNNNNNNCGTATACATACAGAGGGCC\n",
    "Fw_LibW_3\tCTATCTGCTGCCCTATGATAAACTTATTTTATAAAAAAATTGAAACNNNNNNNNACGAAGCTCGTATACATACAGAGGGCC\n",
    "Fw_LibproD_1\tGGTTGCTGGATAACTTTACGNNNNNNNNNNNNNNTCGTATAATATATTCAGGGAGAGCACAAC\n",
    "Fw_LibproD_2\tGGTTGCTGGATAACTTTACGNNNNNNNNNNNNNNNNNTATAATATATTCAGGGAGAGCACAAC\n",
    "Rv_BB\tCTGGTTGTTCTCAAGTTCGG\n",
    "Rv_LibB\tCGACATTTTTTTAAACATAGGGCAG\n",
    "Rv_LibF\tCATCGCAGAACAGGACGCATC\n",
    "Rv_LibW\tGTTTATCATAGGGCAGCAGATAG\n",
    "Rv_LibproD\tCGTAAAGTTATCCAGCAACC\"\"\"\n",
    "\n",
    "bervoets_promoters_tsv = \"\"\"Sigma\tPromoter\tSequence\n",
    "B\tPB2\tGTTTATTTTTTTGAAAAAGGGTAT\n",
    "B\tPB2.1\tGTTTATCAAATGGTGCTGGGGTAT\n",
    "B\tPB2.2\tGTTTATCGTTTAATCTGTGGGTAT\n",
    "B\tPB2.3\tGTTTATAGGTCCTCAATTGGGTAT\n",
    "B\tPB2.4\tGTTTATCAAAAGGCACATGGGTAT\n",
    "B\tPB2.5\tGTTTATTCCCCAGTTTTGGGGTAT\n",
    "B\tPB2.6\tGTTTATTTGTTCGAAAGGGGGTAT\n",
    "B\tPB2.7\tGTTTATCATATGCAAAACGGGTAT\n",
    "B\tPB2.8\tGTTTATTCTGGGAAAATCGGGTAT\n",
    "B\tPB2.9\tGTTTATCTGTGGTAAAACGGGTAT\n",
    "B\tPB2.10\tGTTTATGTTTTTTCTGTACAGGGTAT\n",
    "F\tPF3\tGTTTAAAAACGATCTTTTTTTCTCATAAT\n",
    "F\tPF3.1\tGTTTAAGCTATTGAGGGTATTCTCATAAT\n",
    "F\tPF3.2\tGTTTATGCCAAATGGCAGGTGCTCATAAT\n",
    "F\tPF3.3\tGTTTATTGACGGATATCGCTGCTCATAAT\n",
    "F\tPF3.4\tGTTTAGTGATGTGTCACGATGCTCATAAT\n",
    "F\tPF3.5\tGTTTATTTGAAGGGATGAGTGCTCATAAT\n",
    "F\tPF3.6\tGTTTAGTTTTAATTATAACTGCTCATAAT\n",
    "F\tPF3.7\tGTTTAAAAACGATGCGTTGTGCTCATAAT\n",
    "F\tPF3.8\tGTTTACATAATTTAATTTTGGCTCATAAT\n",
    "F\tPF3.9\tGTTTACTTTTATGTGTTTATGCTCATAAT\n",
    "W\tPW2\tTGAAACCTTTTGAAACGAAGCTCGTA\n",
    "W\tPW2.1\tTGAAACTTATTTACCCTCGTA\n",
    "W\tPW2.2\tTGAAACCTTTTGAGCAGCTTTCGTA\n",
    "W\tPW2.3\tTGAAACGAGCCCGGGATTTCGCGTA\n",
    "W\tPW2.4\tTGAAACCTTTTGAAAGGATTTGCGTA\n",
    "W\tPW2.5\tTGAAACCTTTTGAACGTTTGCACGTA\n",
    "W\tPW2.6\tTGAAACGGAAAAATGGAGCGGGCGTA\n",
    "W\tPW2.7\tTGAAACCGATCGTCTGCGGACGCGTA\n",
    "W\tPW2.8\tTGAAACGCGGAAAAACGAAGCTCGTA\n",
    "W\tPW2.9\tTGAAACGTCTCGGAGGGGTGTTCGTA\"\"\"\n",
    "\n",
    "import io\n",
    "\n",
    "bervoets_primers = pd.read_csv(\n",
    "    io.StringIO(bervoets_primers_tsv), sep=\"\\s+\", index_col=0\n",
    ")\n",
    "\n",
    "bervoets_promoters = pd.read_csv(\n",
    "    io.StringIO(bervoets_promoters_tsv), sep=\"\\s+\", index_col=1\n",
    ")\n",
    "\n",
    "bervoets_primers_for_sigma = {\n",
    "    \"B\": (\"IB0250\", \"IB0251\"),\n",
    "    \"F\": (\"IB0252\", \"IB0253\"),\n",
    "    \"G\": (\"IB0254\", \"IB0255\"),\n",
    "    \"H\": (\"IB0256\", \"IB0257\"),\n",
    "    \"M\": (\"IB0238\", \"IB0249\"),\n",
    "    \"W\": (\"IB0258\", \"IB0259\"),\n",
    "    \"X\": (\"IB0260\", \"IB0261\"),\n",
    "}"
   ]
  },
  {
   "cell_type": "markdown",
   "metadata": {},
   "source": [
    "# Bacillus sigma primers"
   ]
  },
  {
   "cell_type": "code",
   "execution_count": null,
   "metadata": {},
   "outputs": [],
   "source": [
    "import primer3plus"
   ]
  },
  {
   "cell_type": "code",
   "execution_count": null,
   "metadata": {},
   "outputs": [],
   "source": [
    "def overhangs_for(x):\n",
    "    return (x[\"Upstream overhang\"], x[\"Downstream overhang\"])\n",
    "\n",
    "\n",
    "def _format_seq(seq):\n",
    "    # TODO: mixed bases in upper case for IDT\n",
    "    return str(sequence.get_seq(seq)).lower()\n",
    "\n",
    "\n",
    "def strip(s):\n",
    "    return re.sub(r\"\\s+\", \"\", s)"
   ]
  },
  {
   "cell_type": "code",
   "execution_count": null,
   "metadata": {},
   "outputs": [],
   "source": [
    "sigb = strip(\n",
    "    \"\"\"atgACACAAC CATCAAAAAC TACGAAACTA ACTAAAGATG AAGTCGATCG GCTCATAAGC\n",
    "GATTACCAAA CAAAGCAAGA TGAACAAGCG CAGGAAACGC TTGTGCGGGT GTATACAAAT\n",
    "CTGGTTGACA TGCTTGCGAA AAAATACTCA AAAGGCAAAA GCTTCCACGA GGATCTCCGC\n",
    "CAGGTCGGCA TGATCGGGCT GCTAGGCGCG ATTAAGCGAT ACGATCCTGT TGTCGGCAAA\n",
    "TCGTTTGAAG CTTTTGCAAT CCCGACAATC ATCGGTGAAA TTAAACGTTT CCTCAGAGAT\n",
    "AAAACATGGA GCGTTCATGT GCCGAGACGA ATTAAAGAAC TCGGTCCAAG AATCAAAATG\n",
    "GCGGTTGATC AGCTGACCAC TGAAACACAA AGATCGCCGA AAGTCGAAGA GATTGCCGAA\n",
    "TTCCTCGATG TTTCTGAAGA AGAGGTTCTT GAAACGATGG AAATGGGCAA AAGCTATCAA\n",
    "GCCTTATCCG TTGACCACAG CATTGAAGCG GATTCGGACG GAAGCACTGT CACGATTCTT\n",
    "GATATCGTCG GATCACAGGA GGACGGATAT GAGCGGGTCA ACCAGCAATT GATGCTGCAA\n",
    "AGCGTGCTTC ATGTCCTTTC AGACCGTGAG AAACAAATCA TAGACCTTAC GTATATTCAA\n",
    "AACAAAAGCC AAAAAGAAAC TGGGGACATT CTCGGTATAT CTCAAATGCA CGTCTCGCGC\n",
    "TTGCAACGCA AAGCTGTGAA GAAGCTCAGA GAGGCCTTGA TTGAAGATCC CTCGATGGAG\n",
    "TTAATGtaa\"\"\"\n",
    ")\n",
    "\n",
    "rsbw = strip(\n",
    "    \"\"\"atgAAGAATA ATGCTGATTA CATCGAAATG AAAGTGCCGG CCCAACCTGA ATATGTGGGA\n",
    "ATTATAAGAC TGACGCTGTC AGGGGTCGCA AGCAGAATGG GCTATACGTA CGATGAAATT\n",
    "GAAGACTTGA AAATCGCAGT CAGTGAGGCG TGCACAAATG CGGTTCAGCA CGCTTACAAA\n",
    "GAAGATAAAA ATGGGGAAGT GTCAATACGA TTCGGTGTGT TTGAAGACCG TTTAGAGGTT\n",
    "ATTGTGGCGG ATGAAGGAGA CAGCTTTGAC TTTGATCAAA AGCAGCAGGA TCTAGGGCCG\n",
    "TACACACCTT CGCACACAGT TGATCAATTA TCAGAAGGAG GGCTCGGTCT ATATTTAATG\n",
    "GAAACGCTCA TGGATGAAGT CAGAGTGCAA AACCACTCCG GCGTCACCGT AGCGATGACA\n",
    "AAGTATTTAA ATGGGGAGCG AGTTGATCAT GACACAACCA TCAAAAACTA CGAAACTAAC\n",
    "taa\"\"\"\n",
    ")"
   ]
  },
  {
   "cell_type": "code",
   "execution_count": null,
   "metadata": {},
   "outputs": [],
   "source": [
    "[bervoets_primers.loc[name, \"Sequence\"] for name in bervoets_primers_for_sigma[\"B\"]]"
   ]
  },
  {
   "cell_type": "code",
   "execution_count": null,
   "metadata": {},
   "outputs": [],
   "source": [
    "olt = reg[(\"oLT\", \"oligos\")]\n",
    "lib_parts = reg[(\"LIB\", \"parts\")]\n",
    "part_types = reg[(\"LIB\", \"parts\", \"Part types\")]"
   ]
  },
  {
   "cell_type": "code",
   "execution_count": null,
   "metadata": {},
   "outputs": [],
   "source": [
    "# overhangs = overhangs_for(part_types[\"5UTR_2\"])\n",
    "# storage_flanks = (\"CGTCTCGGTCTCa\", \"tGAGACCgGAGACG\") # storage vector BsmBI flanks\n",
    "# random_bases = (\"GCTTCA\", \"TGCTAA\") # to add between BsmBI recognition site and ends of oligos\n",
    "# storage_flanks = workflow.concatenate_flanks(storage_flanks, random_bases)\n",
    "storage_flanks = (\n",
    "    lib_parts[\"JUMP_storage_vector_prefix\"][\"Sequence\"],\n",
    "    lib_parts[\"JUMP_storage_vector_suffix\"][\"Sequence\"],\n",
    ")"
   ]
  },
  {
   "cell_type": "code",
   "execution_count": null,
   "metadata": {},
   "outputs": [],
   "source": [
    "storage_flanks"
   ]
  },
  {
   "cell_type": "code",
   "execution_count": null,
   "metadata": {},
   "outputs": [],
   "source": [
    "overhangs_for(part_types[\"CDS_CD\"])"
   ]
  },
  {
   "cell_type": "code",
   "execution_count": null,
   "metadata": {},
   "outputs": [],
   "source": [
    "# WIP commit\n",
    "# rename target to template?\n",
    "# evaluate_primer should take template or binding? (see replace_primer_tail)\n",
    "# evaluate bervoets primers, compare with primer3\n",
    "# check that my flanks are good (e.g., simulate pcr)\n",
    "\n",
    "# sigma/antisigma primers\n",
    "# -> save (evaluate_primer -> description)\n",
    "# primer3 tm params\n",
    "# primer3 tm goal\n",
    "# promoters\n",
    "# -> save\n",
    "# bsubcyc?\n",
    "\n",
    "# find what params primer3plus is passing to BoulderIO\n",
    "# try reproducing using BoulderIO directly\n",
    "# try to avoid product_size issue with BoulderIO\n",
    "# use same fix for primer3plus?"
   ]
  },
  {
   "cell_type": "code",
   "execution_count": null,
   "metadata": {},
   "outputs": [],
   "source": [
    "def design_primers(target, flanks):\n",
    "    target_seq = str(sequence.get_seq(target)).lower()\n",
    "    full_flanks = workflow.concatenate_flanks(*flanks)\n",
    "    trimmed_flanks = workflow.smoosh_and_trim_flanks(target_seq, full_flanks)\n",
    "    design = primer3plus.Design()\n",
    "    design.settings.template(target_seq)\n",
    "    design.settings.as_cloning_task()\n",
    "    design.settings.use_overhangs()\n",
    "    design.settings.left_overhang(trimmed_flanks[0])\n",
    "    design.settings.right_overhang(trimmed_flanks[1])\n",
    "    design.settings.product_size([27, 10000], opt=0)\n",
    "    design.settings.primer_num_return(1)\n",
    "    results, explain = design.run()\n",
    "    return results, explain\n",
    "\n",
    "\n",
    "design_primers(sigb, [overhangs_for(part_types[\"CDS_CD\"]), storage_flanks])"
   ]
  },
  {
   "cell_type": "code",
   "execution_count": null,
   "metadata": {},
   "outputs": [],
   "source": [
    "design = primer3plus.Design()\n",
    "design.settings.template(str(sequence.get_seq(sigb)))\n",
    "design.settings.as_cloning_task()\n",
    "design.settings.use_overhangs()\n",
    "design.settings.left_overhang(\"A\")\n",
    "design.settings.product_size([27, 1000], opt=0)\n",
    "design.settings.primer_num_return(1)\n",
    "results, explain = design.run()"
   ]
  },
  {
   "cell_type": "code",
   "execution_count": null,
   "metadata": {},
   "outputs": [],
   "source": [
    "results"
   ]
  },
  {
   "cell_type": "code",
   "execution_count": null,
   "metadata": {},
   "outputs": [],
   "source": [
    "explain"
   ]
  },
  {
   "cell_type": "code",
   "execution_count": null,
   "metadata": {},
   "outputs": [],
   "source": [
    "date = datetime.now().strftime(\"%-m/%-d/%Y\")\n",
    "\n",
    "description = \"Added Eaton flanks, to be amplified with oLIB45/46.\"\n",
    "\n",
    "base_row = {\n",
    "    \"Author\": \"Jacob Quinn Shenker\",\n",
    "    \"Vendor\": \"IDT\",\n",
    "    \"Type\": \"Primer\",\n",
    "    \"Date\": date,\n",
    "    \"Order date\": date,\n",
    "    \"Description\": description,\n",
    "}\n",
    "\n",
    "rows = []\n",
    "\n",
    "for seq_name, seq in seqs_to_order.items():\n",
    "    name = f\"{seq_name}_v3\"\n",
    "    row = {\n",
    "        \"Name\": name,\n",
    "        \"Sequence\": str(seq).upper(),\n",
    "        # \"Description\": description,\n",
    "        **base_row,\n",
    "    }\n",
    "    rows.append(row)"
   ]
  },
  {
   "cell_type": "code",
   "execution_count": null,
   "metadata": {},
   "outputs": [],
   "source": [
    "for row in rows:\n",
    "    olt[olt.next_id()] = row"
   ]
  },
  {
   "cell_type": "code",
   "execution_count": null,
   "metadata": {},
   "outputs": [],
   "source": [
    "olt.save()"
   ]
  },
  {
   "cell_type": "markdown",
   "metadata": {},
   "source": [
    "# BioCyc test"
   ]
  },
  {
   "cell_type": "code",
   "execution_count": null,
   "metadata": {},
   "outputs": [],
   "source": [
    "import requests"
   ]
  },
  {
   "cell_type": "code",
   "execution_count": null,
   "metadata": {},
   "outputs": [],
   "source": [
    "requests.get(\"https://websvc.biocyc.org/getxml?BSUB:BSU04730\")"
   ]
  },
  {
   "cell_type": "code",
   "execution_count": null,
   "metadata": {},
   "outputs": [],
   "source": [
    "_.content"
   ]
  },
  {
   "cell_type": "markdown",
   "metadata": {},
   "source": [
    "# Old"
   ]
  },
  {
   "cell_type": "code",
   "execution_count": null,
   "metadata": {},
   "outputs": [],
   "source": [
    "olib = reg[(\"oLIB\", \"oligos\")]\n",
    "plib_maps = reg[(\"pLIB\", \"maps\")]\n",
    "primers = {f\"oLIB{num}\": olib[f\"oLIB{num}\"][\"Sequence\"] for num in range(179, 183)}"
   ]
  },
  {
   "cell_type": "code",
   "execution_count": null,
   "metadata": {},
   "outputs": [],
   "source": [
    "olt = reg[(\"oLT\", \"oligos\")]"
   ]
  },
  {
   "cell_type": "code",
   "execution_count": null,
   "metadata": {},
   "outputs": [],
   "source": [
    "date = datetime.now().strftime(\"%-m/%-d/%Y\")\n",
    "\n",
    "rows = []\n",
    "\n",
    "for i, idx in enumerate(idxs):\n",
    "    row = {\n",
    "        **dissoc(old_row, \"ID\"),\n",
    "        \"Sequence\": seq[idx].upper(),\n",
    "        \"Name\": \"{}_v2_split{}\".format(old_row[\"Name\"], i + 1),\n",
    "        \"Description\": \"Split section {}-of-{} of oLT74 (20bp overlap).\\n{}\".format(\n",
    "            i + 1, len(idxs), old_row[\"Description\"]\n",
    "        ),\n",
    "        \"Date\": date,\n",
    "        \"Order date\": date,\n",
    "    }\n",
    "    rows.append(row)"
   ]
  },
  {
   "cell_type": "code",
   "execution_count": null,
   "metadata": {},
   "outputs": [],
   "source": [
    "for row in rows:\n",
    "    olt[olt.next_id()] = row"
   ]
  },
  {
   "cell_type": "code",
   "execution_count": null,
   "metadata": {},
   "outputs": [],
   "source": [
    "olt.save()"
   ]
  },
  {
   "cell_type": "code",
   "execution_count": null,
   "metadata": {},
   "outputs": [],
   "source": [
    "rows"
   ]
  }
 ],
 "metadata": {
  "kernelspec": {
   "display_name": "Python 3",
   "language": "python",
   "name": "python3"
  },
  "language_info": {
   "codemirror_mode": {
    "name": "ipython",
    "version": 3
   },
   "file_extension": ".py",
   "mimetype": "text/x-python",
   "name": "python",
   "nbconvert_exporter": "python",
   "pygments_lexer": "ipython3",
   "version": "3.8.8"
  }
 },
 "nbformat": 4,
 "nbformat_minor": 4
}
