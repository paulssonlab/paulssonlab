{
 "cells": [
  {
   "cell_type": "code",
   "execution_count": null,
   "id": "0",
   "metadata": {},
   "outputs": [],
   "source": [
    "import re\n",
    "import string\n",
    "import urllib\n",
    "from datetime import datetime\n",
    "from zipfile import ZipFile\n",
    "\n",
    "import benchlingapi\n",
    "import Bio.pairwise2 as pairwise2\n",
    "import Bio.Restriction as Restriction\n",
    "import holoviews as hv\n",
    "import hvplot.pandas\n",
    "import matplotlib.pyplot as plt\n",
    "import numpy as np\n",
    "import pandas as pd\n",
    "import pygsheets\n",
    "import requests\n",
    "import seaborn as sns\n",
    "import toml\n",
    "from Bio.Seq import Seq\n",
    "from Bio.SeqRecord import SeqRecord\n",
    "from tqdm.auto import tqdm"
   ]
  },
  {
   "cell_type": "code",
   "execution_count": null,
   "id": "1",
   "metadata": {},
   "outputs": [],
   "source": [
    "%load_ext autoreload\n",
    "%autoreload 2"
   ]
  },
  {
   "cell_type": "code",
   "execution_count": null,
   "id": "2",
   "metadata": {},
   "outputs": [],
   "source": [
    "import paulssonlab.api as api\n",
    "import paulssonlab.api.benchling as bapi\n",
    "import paulssonlab.cloning.enzyme as enzyme\n",
    "import paulssonlab.cloning.primers as primers\n",
    "import paulssonlab.cloning.registry as registry\n",
    "import paulssonlab.cloning.sequence as sequence\n",
    "import paulssonlab.cloning.thermodynamics as thermodynamics\n",
    "import paulssonlab.cloning.viennarna as viennarna\n",
    "import paulssonlab.cloning.workflow as workflow\n",
    "from paulssonlab.api.util import base_url"
   ]
  },
  {
   "cell_type": "code",
   "execution_count": null,
   "id": "3",
   "metadata": {},
   "outputs": [],
   "source": [
    "hv.extension(\"bokeh\")"
   ]
  },
  {
   "cell_type": "markdown",
   "id": "4",
   "metadata": {},
   "source": [
    "# Setup"
   ]
  },
  {
   "cell_type": "code",
   "execution_count": null,
   "id": "5",
   "metadata": {},
   "outputs": [],
   "source": [
    "config = toml.load(\"config.toml\")"
   ]
  },
  {
   "cell_type": "code",
   "execution_count": null,
   "id": "6",
   "metadata": {},
   "outputs": [],
   "source": [
    "gc = pygsheets.authorize(service_account_file=\"credentials.json\")"
   ]
  },
  {
   "cell_type": "code",
   "execution_count": null,
   "id": "7",
   "metadata": {},
   "outputs": [],
   "source": [
    "bench_session = benchlingapi.Session(config[\"benchling\"][\"api_key\"])\n",
    "benchling_folder = bapi.get_project_root(bench_session, config[\"benchling\"][\"project\"])"
   ]
  },
  {
   "cell_type": "code",
   "execution_count": null,
   "id": "8",
   "metadata": {},
   "outputs": [],
   "source": [
    "reg = registry.Registry(gc, config[\"registry\"][\"folder\"], benchling_folder)"
   ]
  },
  {
   "cell_type": "markdown",
   "id": "9",
   "metadata": {},
   "source": [
    "# Bervoets 2018"
   ]
  },
  {
   "cell_type": "code",
   "execution_count": null,
   "id": "10",
   "metadata": {},
   "outputs": [],
   "source": [
    "bervoets_primers_tsv = \"\"\"Primer\tSequence\n",
    "IB0173\tATGGTTAGCGAGCTGATCAAAG\n",
    "IB0174\tCTTCGTAAATCTGGCGAGTG\n",
    "IB0175\tTGTGCATGTTTTCTTTGATCAGCTCGCTAACCATCATTAGAAAACCTCCATAGCATG\n",
    "IB0176\tGATGTCTGGCAGTTCCCCACTCGCCAGATTTACGAAGTTCTAGAGCACAGCTAACAC\n",
    "IB0180\tCCAAGCTTGCATGCCTGCAGGTCGACTCTAGAGGATCCCCGTGTAGGCTGGAGCTGCTTC\n",
    "IB0181\t\"AACAGCTATGACCATGATTACGAATTCGAGCTCGGTACCCTGGTCCATATG\n",
    "AATATCCTCCTTAG\"\n",
    "IB0184\t\"TTCCCAGTCACGACGTTGTAAAACGACGGCCAGTGCCAGGAGACCACAAC\n",
    "GGTTTCCCTCTAC\"\n",
    "IB0186\t\"GTATAGGAACTTCGAAGCAGCTCCAGCCTACACGGGGATCTTCATTCATCA\n",
    "TTAACACCTCTATTATAAAGTGCTTTCAGCC\"\n",
    "IB0198\t\"TTACCGGATTCTTAATTACCTGGTGCGTATGGGCGGTAATTTGACCTTAATA\n",
    "AAAAGGTCTGGTCCATATGAATATCCTCCTTAG\"\n",
    "IB0199\t\"GCGAAATCCTGCAAACGCAGGGGCTGAATATCGAAGCGCTGTTCCGCGAG\n",
    "TAGGAGACCACAACGGTTTCCCTCTAC\"\n",
    "IB0238\tGAGTCACACAGGAAAGTACTAGATGACGATCGATGAAATTTACC\n",
    "IB0245\t\"TGAGCGGATAACAATTTCACACAGGAAACAGACCATGGAATTCGGAGACCA\n",
    "CAACGGTTTCCCTCTAC\"\n",
    "IB0249\t\"CCAAGCTTGCATGCCTGCAGGTCGACTCTAGAGGATCCCCGGGTCATTCA\n",
    "TCATTAACACCTCTATTATAAAGTGCTTTCAGCCGCTGTC\"\n",
    "IB0250\tTTAACTTTTACTAGAGTCACACAGGAAAGTACTAGATGACACAACCATCAAAAACTACGAAACTAAC\n",
    "IB0251\tCCAAGCTTGCATGCCTGCAGGTCGACTCTAGAGGATCCCCGGGTTACATTAACTCCATCGAGGGATCTTC\n",
    "IB0252\tTTAACTTTTACTAGAGTCACACAGGAAAGTACTAGATGGATGTGGAGGTTAAGAAAAACGGCAAAAACG\n",
    "IB0253\tCCAAGCTTGCATGCCTGCAGGTCGACTCTAGAGGATCCCCGGGCTAGCCATCCGTATGATCCATTTGAACC\n",
    "IB0254\tTTAACTTTTACTAGAGTCACACAGGAAAGTACTAGGTGTCGAGAAATAAAGTCGAAATCTGCGGGGTGGATAC\n",
    "IB0255\t\"CCAAGCTTGCATGCCTGCAGGTCGACTCTAGAGGATCCCCGGGTTATTGATGAATATTTTTATTCATTTGTTTGATAGCCGCTTTTTCAAGTCTGGACACCTG\n",
    "CGCTTGAG\"\n",
    "IB0256\tTTAACTTTTACTAGAGTCACACAGGAAAGTACTAGGTGAATCTACAGAACAACAAGGGAAAATTCAAC\n",
    "IB0257\t\"CCAAGCTTGCATGCCTGCAGGTCGACTCTAGAGGATCCCCGGGTTACAAA\n",
    "CTGATTTCGCGAATTTCCAAGTAC\"\n",
    "IB0258\t\"TTAACTTTTACTAGAGTCACACAGGAAAGTACTAGATGGAAATGATGATTAA\n",
    "AAAAAGAATTAAACAAGTCAAAAAAGGCGACCAG\"\n",
    "IB0259\t\"CCAAGCTTGCATGCCTGCAGGTCGACTCTAGAGGATCCCCGGGTTAAAGA\n",
    "TCCCTTAATTGTTTTCTAAGAGCCTCTCTG\"\n",
    "IB0260\tTTAACTTTTACTAGAGTCACACAGGAAAGTACTAGATGGAAGAAACCTTTCAATTATTATATGATACATATCATCAAGATTTG\n",
    "IB0261\tCCAAGCTTGCATGCCTGCAGGTCGACTCTAGAGGATCCCCGGGTTAACTGCCGGAAGTTGACTTAACAACTC\n",
    "IB0262\tCTAGTACTTTCCTGTGTGACTC\n",
    "IB0268\tGTATAGGAACTTCGAAGCAGCTCCAGCCTACACGGGGATCTTTACATTAACTCCATCGAGGG\n",
    "IB0269\tGTATAGGAACTTCGAAGCAGCTCCAGCCTACACGGGGATCTCTAGCCATCCGTATGATCC\n",
    "IB0270\tGTATAGGAACTTCGAAGCAGCTCCAGCCTACACGGGGATCTTTATTGATGAATATTTTTATTCATTTGTTTGATAGCC\n",
    "IB0271\t\"GTATAGGAACTTCGAAGCAGCTCCAGCCTACACGGGGATCTTTACAAACTG\n",
    "ATTTCGCGAATTTCC\"\n",
    "IB0272\t\"GTATAGGAACTTCGAAGCAGCTCCAGCCTACACGGGGATCTTTAAAGATCC\n",
    "CTTAATTGTTTTCTAAGAGC\"\n",
    "IB0273\t\"GTATAGGAACTTCGAAGCAGCTCCAGCCTACACGGGGATCTTTAACTGCC\n",
    "GGAAGTTGACTTAACAACTCCTTTATCTG\"\n",
    "IB0476\t\"TTAACTTTTACTAGAGTCACACAGGAAAGTACTAGATGAAGCAAGGTTTGC\n",
    "AACTCAGGCTTAG\"\n",
    "IB0477\t\"CCAAGCTTGCATGCCTGCAGGTCGACTCTAGAGGATCCCCGGGTCAAACG\n",
    "AGTTGTTTACGCTGGTTTGAC\"\n",
    "IB0478\tTTAACTTTTACTAGAGTCACACAGGAAAGTACTAGGTGAATTCACTCTATACCGCTGAAGGTG\n",
    "IB0479\tCCAAGCTTGCATGCCTGCAGGTCGACTCTAGAGGATCCCCGGGTTATAACTTACCCAGTTTAGTGCGTAACC\n",
    "IB0480\tTTAACTTTTACTAGAGTCACACAGGAAAGTACTAGATGACTGACAAAATGCAAAGTTTAG\n",
    "IB0481\tCCAAGCTTGCATGCCTGCAGGTCGACTCTAGAGGATCCCCGGGTTACGCTTCAATGGCAGCAC\n",
    "IB0482\tTTAACTTTTACTAGAGTCACACAGGAAAGTACTAGATGTCTGACCGCGCCACTAC\n",
    "IB0483\t\"CCAAGCTTGCATGCCTGCAGGTCGACTCTAGAGGATCCCCGGGTCATAAC\n",
    "CCATACTCCAGACGGAACAG\"\n",
    "IB0484\t\"TTAACTTTTACTAGAGTCACACAGGAAAGTACTAGATGAGCGAGCAGTTAA\n",
    "CGGAC\"\n",
    "IB0485\t\"CCAAGCTTGCATGCCTGCAGGTCGACTCTAGAGGATCCCCGGGTCAACGC\n",
    "CTGATAAGCGGTTGAAC\"\n",
    "Fw_BB\tGGATCTCGTAACCGAACTTG\n",
    "Fw_LibB_1\tGCCCTATGTTTAAAAAAATGTCGGAGAACGTGTTTATNNNNNNNNNNNNGGGTATGTAACTTGTAGGGCC\n",
    "Fw_LibB_2\tGCCCTATGTTTAAAAAAATGTCGGAGAACGTGTTTATTTTTTTNNNNNNGGGTATGTAACTTGTAGGGCC\n",
    "Fw_LibB_3\tGCCCTATGTTTAAAAAAATGTCGGAGAACGTGTTTATNNNNNNGAAAAAGGGTATGTAACTTGTAGGGCC\n",
    "Fw_LibF_1\tGATGCGTCCTGTTCTGCGATGTTTANNNNNNNNNNNNNNNKCTCATAATAGTAGAAACAGGGCC\n",
    "Fw_LibF_2\tGATGCGTCCTGTTCTGCGATGTTTAAAAACGATNNNNNNNKCTCATAATAGTAGAAACAGGGCC\n",
    "Fw_LibF_3\tGATGCGTCCTGTTCTGCGATGTTTANNNNNNNNCTTTTTTTCTCATAATAGTAGAAACAGGGCC\n",
    "Fw_LibW_1\tCTATCTGCTGCCCTATGATAAACTTATTTTATAAAAAAATTGAAACNNNNNNNNNNNNNNNNCGTATACATACAGAGGGCC\n",
    "Fw_LibW_2\tCTATCTGCTGCCCTATGATAAACTTATTTTATAAAAAAATTGAAACCTTTTGAANNNNNNNNCGTATACATACAGAGGGCC\n",
    "Fw_LibW_3\tCTATCTGCTGCCCTATGATAAACTTATTTTATAAAAAAATTGAAACNNNNNNNNACGAAGCTCGTATACATACAGAGGGCC\n",
    "Fw_LibproD_1\tGGTTGCTGGATAACTTTACGNNNNNNNNNNNNNNTCGTATAATATATTCAGGGAGAGCACAAC\n",
    "Fw_LibproD_2\tGGTTGCTGGATAACTTTACGNNNNNNNNNNNNNNNNNTATAATATATTCAGGGAGAGCACAAC\n",
    "Rv_BB\tCTGGTTGTTCTCAAGTTCGG\n",
    "Rv_LibB\tCGACATTTTTTTAAACATAGGGCAG\n",
    "Rv_LibF\tCATCGCAGAACAGGACGCATC\n",
    "Rv_LibW\tGTTTATCATAGGGCAGCAGATAG\n",
    "Rv_LibproD\tCGTAAAGTTATCCAGCAACC\"\"\"\n",
    "\n",
    "bervoets_promoter_lib_tsv = \"\"\"Sigma\tPromoter\tSequence\n",
    "B\tPB2\tGTTTATTTTTTTGAAAAAGGGTAT\n",
    "B\tPB2.1\tGTTTATCAAATGGTGCTGGGGTAT\n",
    "B\tPB2.2\tGTTTATCGTTTAATCTGTGGGTAT\n",
    "B\tPB2.3\tGTTTATAGGTCCTCAATTGGGTAT\n",
    "B\tPB2.4\tGTTTATCAAAAGGCACATGGGTAT\n",
    "B\tPB2.5\tGTTTATTCCCCAGTTTTGGGGTAT\n",
    "B\tPB2.6\tGTTTATTTGTTCGAAAGGGGGTAT\n",
    "B\tPB2.7\tGTTTATCATATGCAAAACGGGTAT\n",
    "B\tPB2.8\tGTTTATTCTGGGAAAATCGGGTAT\n",
    "B\tPB2.9\tGTTTATCTGTGGTAAAACGGGTAT\n",
    "B\tPB2.10\tGTTTATGTTTTTTCTGTACAGGGTAT\n",
    "F\tPF3\tGTTTAAAAACGATCTTTTTTTCTCATAAT\n",
    "F\tPF3.1\tGTTTAAGCTATTGAGGGTATTCTCATAAT\n",
    "F\tPF3.2\tGTTTATGCCAAATGGCAGGTGCTCATAAT\n",
    "F\tPF3.3\tGTTTATTGACGGATATCGCTGCTCATAAT\n",
    "F\tPF3.4\tGTTTAGTGATGTGTCACGATGCTCATAAT\n",
    "F\tPF3.5\tGTTTATTTGAAGGGATGAGTGCTCATAAT\n",
    "F\tPF3.6\tGTTTAGTTTTAATTATAACTGCTCATAAT\n",
    "F\tPF3.7\tGTTTAAAAACGATGCGTTGTGCTCATAAT\n",
    "F\tPF3.8\tGTTTACATAATTTAATTTTGGCTCATAAT\n",
    "F\tPF3.9\tGTTTACTTTTATGTGTTTATGCTCATAAT\n",
    "W\tPW2\tTGAAACCTTTTGAAACGAAGCTCGTA\n",
    "W\tPW2.1\tTGAAACTTATTTACCCTCGTA\n",
    "W\tPW2.2\tTGAAACCTTTTGAGCAGCTTTCGTA\n",
    "W\tPW2.3\tTGAAACGAGCCCGGGATTTCGCGTA\n",
    "W\tPW2.4\tTGAAACCTTTTGAAAGGATTTGCGTA\n",
    "W\tPW2.5\tTGAAACCTTTTGAACGTTTGCACGTA\n",
    "W\tPW2.6\tTGAAACGGAAAAATGGAGCGGGCGTA\n",
    "W\tPW2.7\tTGAAACCGATCGTCTGCGGACGCGTA\n",
    "W\tPW2.8\tTGAAACGCGGAAAAACGAAGCTCGTA\n",
    "W\tPW2.9\tTGAAACGTCTCGGAGGGGTGTTCGTA\"\"\"\n",
    "\n",
    "bervoets_promoter_lib_upstream = {\n",
    "    \"B\": \"TGTTTAAAAAAATGTCGGAGAACGT\",\n",
    "    \"F\": \"GTAAAGATGCGTCCTGTTCTGCGAT\",\n",
    "    \"W\": \"TGATAAACTTATTTTATAAAAAAAT\",\n",
    "}\n",
    "\n",
    "bervoets_promoter_lib_downstream = {\n",
    "    \"B\": \"GTAACTTGTA\",\n",
    "    \"F\": \"AGTAGAAACA\",\n",
    "    \"W\": \"TACATACAGA\",\n",
    "}\n",
    "\n",
    "bervoets_promoter_insulation = \"TTCTAGAGCACAGCTAACACCACGTCGTCCCTATCTGCTGCCCTA\"\n",
    "bervoets_promoter_bcd19 = \"GGGCCCAAGTTCACTTAAAAAGGAGATCAACAATGAAAGCAATTTTCGTACTGAAACATCTTAATCATGCTATGGAGGTTTTCTAATG\"\n",
    "\n",
    "bervoets_promoters_tsv = \"\"\"Sigma\tPromoter\tSource\tSequence\n",
    "-\tPno\t-\t-\n",
    "70\tPlow\t\"proB (Davis et al., 2011)\"\tTTCTAGAGCACAGCTAACACCACGTCGTCCCTATCTGCTGCCCTAGGTCTATGAGTGGTTGCTGGATAACTTTACGGGCATGCATAAGGCTCGTAATATATATTCAGGG\n",
    "70\tPmid\t\"proC (Davis et al., 2011)\"\tTTCTAGAGCACAGCTAACACCACGTCGTCCCTATCTGCTGCCCTAGGTCTATGAGTGGTTGCTGGATAACTTTACGGGCATGCATAAGGCTCGTATGATATATTCAGGG\n",
    "70\tPhigh\t\"proD (Davis et al., 2011)\"\tTTCTAGAGCACAGCTAACACCACGTCGTCCCTATCTGCTGCCCTAGGTCTATGAGTGGTTGCTGGATAACTTTACGGGCATGCATAAGGCTCGTATAATATATTCAGGG\n",
    "B\tPB1\tctc\tTTCTAGAGCACAGCTAACACCACGTCGTCCCTATCTGCTGCCCTACTGTTCAGCTAAACCATTTTTCGAGGTTTAAATCCTTATCGTTATGGGTATTGTTTGTAATGGGCCCAAGTTCACTTAAAAAGGAGATCAACAATGAAAGCAATTTTCGTACTGAAACATCTTAATCATGCTATGGAGGTTTTCTAATG\n",
    "B\tPB2\tgspA\tTTCTAGAGCACAGCTAACACCACGTCGTCCCTATCTGCTGCCCTATGTTTAAAAAAATGTCGGAGAACGTGTTTATTTTTTTGAAAAAGGGTATGTAACTTGTAGGGCCCAAGTTCACTTAAAAAGGAGATCAACAATGAAAGCAATTTTCGTACTGAAACATCTTAATCATGCTATGGAGGTTTTCTAATG\n",
    "B\tPB3\ttrxA\tTTCTAGAGCACAGCTAACACCACGTCGTCCCTATCTGCTGCCCTAGCTTCATGCCGGCGCTCTTTTTCAGGTTTTAAAACAGCTCCGGCAGGGCATGGTAAAGTACGGGCCCAAGTTCACTTAAAAAGGAGATCAACAATGAAAGCAATTTTCGTACTGAAACATCTTAATCATGCTATGGAGGTTTTCTAATG\n",
    "F\tPF1\tspoIIR\tTTCTAGAGCACAGCTAACACCACGTCGTCCCTATCTGCTGCCCTATTGCTAGATTTTTTTCACCCTGCACGTTTATCCCAGGCTCTCCTTGTCCATAATAGGGCTAGAAGGGCCCAAGTTCACTTAAAAAGGAGATCAACAATGAAAGCAATTTTCGTACTGAAACATCTTAATCATGCTATGGAGGTTTTCTAATG\n",
    "F\tPF2\tspoIIQ\tTTCTAGAGCACAGCTAACACCACGTCGTCCCTATCTGCTGCCCTACTAAAAAAGTTTTTTTGGATAGGTTGTATATATTTTCAGAAAAGTGTTCAGAATGTTGCTGAGGGGGCCCAAGTTCACTTAAAAAGGAGATCAACAATGAAAGCAATTTTCGTACTGAAACATCTTAATCATGCTATGGAGGTTTTCTAATG\n",
    "F\tPF3\tywhE\tTTCTAGAGCACAGCTAACACCACGTCGTCCCTATCTGCTGCCCTAGTAAAGATGCGTCCTGTTCTGCGATGTTTAAAAACGATCTTTTTTTCTCATAATAGTAGAAACAGGGCCCAAGTTCACTTAAAAAGGAGATCAACAATGAAAGCAATTTTCGTACTGAAACATCTTAATCATGCTATGGAGGTTTTCTAATG\n",
    "G\tPG1\tyoaR\tTTCTAGAGCACAGCTAACACCACGTCGTCCCTATCTGCTGCCCTAATTCAAACAAACGATGGGAAGAAATACATCAAAGGATAAGCGGCTGTTCATACTAATGATTGGGAGGGCCCAAGTTCACTTAAAAAGGAGATCAACAATGAAAGCAATTTTCGTACTGAAACATCTTAATCATGCTATGGAGGTTTTCTAATG\n",
    "G\tPG2\tyozQ\tTTCTAGAGCACAGCTAACACCACGTCGTCCCTATCTGCTGCCCTATGGCCAAAGCGCGAATGAAAAAAGTGCATGAATACCTGCCCAACAGACAGAATAAGAAGAGTTGGGGCCCAAGTTCACTTAAAAAGGAGATCAACAATGAAAGCAATTTTCGTACTGAAACATCTTAATCATGCTATGGAGGTTTTCTAATG\n",
    "G\tPG3\tyvaB\tTTCTAGAGCACAGCTAACACCACGTCGTCCCTATCTGCTGCCCTATCTATAATAAAGTCTAAGAGAGACAGAATAATCATTATGCATCTGTATGATAATAATTGATGTGTGGGCCCAAGTTCACTTAAAAAGGAGATCAACAATGAAAGCAATTTTCGTACTGAAACATCTTAATCATGCTATGGAGGTTTTCTAATG\n",
    "M\tPM1\tyfnI\tTTCTAGAGCACAGCTAACACCACGTCGTCCCTATCTGCTGCCCTATTTTTTTATTTCTGAGAAAAAAATGTGAAACGAAATGAAGGTTTCTTTCGTCCAGTGATTGGGGGCCCAAGTTCACTTAAAAAGGAGATCAACAATGAAAGCAATTTTCGTACTGAAACATCTTAATCATGCTATGGAGGTTTTCTAATG\n",
    "M\tPM2\trodA\tTTCTAGAGCACAGCTAACACCACGTCGTCCCTATCTGCTGCCCTATTCATTTGAAAAGTTTTGTGTCAATCGAAACATTTCGGTTTATGATACGTCATATTTCGTGGGGCCCAAGTTCACTTAAAAAGGAGATCAACAATGAAAGCAATTTTCGTACTGAAACATCTTAATCATGCTATGGAGGTTTTCTAATG\n",
    "M\tPM3\tdivIC\tTTCTAGAGCACAGCTAACACCACGTCGTCCCTATCTGCTGCCCTAATCCGTTTTATCGCGAAACAATGTTTGAAACTTCTTCCTGTGAAAATGCGTCTAACTTTTAGGGGCCCAAGTTCACTTAAAAAGGAGATCAACAATGAAAGCAATTTTCGTACTGAAACATCTTAATCATGCTATGGAGGTTTTCTAATG\n",
    "M\tPM4\tywtF\tTTCTAGAGCACAGCTAACACCACGTCGTCCCTATCTGCTGCCCTATTACTTGTATTTTTTTCAATGTCGCCGAAACATTTTACCTGCTGCGGCGTCCAATATAAGGGGGCCCAAGTTCACTTAAAAAGGAGATCAACAATGAAAGCAATTTTCGTACTGAAACATCTTAATCATGCTATGGAGGTTTTCTAATG\n",
    "W\tPW1\tybfO\tTTCTAGAGCACAGCTAACACCACGTCGTCCCTATCTGCTGCCCTAAAGCTTTTTTTTGTTGGCAGGAAAAGGAAACTTTTTCTATATCTATCTCGTAATGACTAGAGGGGCCCAAGTTCACTTAAAAAGGAGATCAACAATGAAAGCAATTTTCGTACTGAAACATCTTAATCATGCTATGGAGGTTTTCTAATG\n",
    "W\tPW2\tsigW\tTTCTAGAGCACAGCTAACACCACGTCGTCCCTATCTGCTGCCCTATGATAAACTTATTTTATAAAAAAATTGAAACCTTTTGAAACGAAGCTCGTATACATACAGAGGGCCCAAGTTCACTTAAAAAGGAGATCAACAATGAAAGCAATTTTCGTACTGAAACATCTTAATCATGCTATGGAGGTTTTCTAATG\n",
    "W\tPW3\tydjF\tTTCTAGAGCACAGCTAACACCACGTCGTCCCTATCTGCTGCCCTAGAAATGTCATTTTTTATTAAAAAAGTGAAACTTTTAACGATAATAAATAGTATATGTAACAAGGGCCCAAGTTCACTTAAAAAGGAGATCAACAATGAAAGCAATTTTCGTACTGAAACATCTTAATCATGCTATGGAGGTTTTCTAATG\n",
    "W\tPW4\tyfhL\tTTCTAGAGCACAGCTAACACCACGTCGTCCCTATCTGCTGCCCTACGAGGCTTGTCTTTTTGCCTATGCATGAAACATTTCTTCTTTCTGCACGTAACAATGAGAAGGGCCCAAGTTCACTTAAAAAGGAGATCAACAATGAAAGCAATTTTCGTACTGAAACATCTTAATCATGCTATGGAGGTTTTCTAATG\n",
    "X\tPX1\tlytR\tTTCTAGAGCACAGCTAACACCACGTCGTCCCTATCTGCTGCCCTAATTTTAAAGAAAAATTAAGAAACAATGAAACTTTTTTTTATAAAAAACGACTATTTTAGGAGGGCCCAAGTTCACTTAAAAAGGAGATCAACAATGAAAGCAATTTTCGTACTGAAACATCTTAATCATGCTATGGAGGTTTTCTAATG\n",
    "X\tPX2\tcsbB\tTTCTAGAGCACAGCTAACACCACGTCGTCCCTATCTGCTGCCCTAAAAATCATGAATGTCACCATAAAATTGTAACAAAAAACAGGTTTAAACGACTTTAAAAAAAGGGCCCAAGTTCACTTAAAAAGGAGATCAACAATGAAAGCAATTTTCGTACTGAAACATCTTAATCATGCTATGGAGGTTTTCTAATG\n",
    "X\tPX3\tbcrC\tTTCTAGAGCACAGCTAACACCACGTCGTCCCTATCTGCTGCCCTAATTTCAGACAATCTCTATTTTTATTTGAAACTTTTCATGAGTAAGATTAGTCTACTAAATATGGGCCCAAGTTCACTTAAAAAGGAGATCAACAATGAAAGCAATTTTCGTACTGAAACATCTTAATCATGCTATGGAGGTTTTCTAATG\"\"\"\n",
    "\n",
    "bervoets_foldchange_tsv = \"\"\"\n",
    "Promoter\tB\tF\tW\n",
    "P82.10\t534.89\t7.00\t2.35\n",
    "P82.9\t2.33\t0.79\t1.05\n",
    "P82.8\t93.01\t1.33\t1.09\n",
    "P82.7\t72.92\t1.12\t1.40\n",
    "PB2.6\t89.78\t1.42\t1.01\n",
    "P82.5\t51.37\t1.30\t1.44\n",
    "P82.4\t48.43\t1.60\t1.50\n",
    "PB2.3\t22.58\t1.36\t1.21\n",
    "PB2.2\t2.04\t0.76\t1.15\n",
    "PB2.1\t2.18\t1.03\t1.22\n",
    "PB2\t50.84\t1.57\t1.31\n",
    "PF3.9\t0.79\t1.30\t1.13\n",
    "PF3.8\t0.79\t1.26\t1.14\n",
    "PF3.7\t1.66\t35.09\t1.05\n",
    "PF3.6\t2.05\t31.82\t1.19\n",
    "PF3.5\t1.12\t28.83\t1.44\n",
    "PF3.4\t1.09\t17.65\t0.96\n",
    "PF3.3\t1.29\t20.61\t1.44\n",
    "PF3.2\t1.42\t13.78\t1.07\n",
    "PF3.1\t1.03\t4.57\t1.40\n",
    "PF3\t0.97\t14.94\t1.14\n",
    "PW2.9\t0.89\t1.07\t55.65\n",
    "PW2.8\t0.89\t1.12\t74.95\n",
    "PW2.7\t1.07\t1.01\t70.63\n",
    "PW2.6\t0.97\t0.93\t80.28\n",
    "PW2.5\t0.90\t1.06\t45.98\n",
    "PW2.4\t1.23\t1.30\t51.24\n",
    "PW2.3\t1.13\t0.99\t1.34\n",
    "PW2.2\t1.05\t0.91\t9.05\n",
    "PW2.1\t0.86\t0.89\t2.68\n",
    "PW2\t1.20\t1.21\t65.65\n",
    "\"\"\"\n",
    "\n",
    "import io\n",
    "\n",
    "bervoets_primers = pd.read_csv(\n",
    "    io.StringIO(bervoets_primers_tsv), sep=\"\\s+\", index_col=0\n",
    ")\n",
    "\n",
    "bervoets_promoter_lib = pd.read_csv(\n",
    "    io.StringIO(bervoets_promoter_lib_tsv), sep=\"\\s+\", index_col=1\n",
    ")\n",
    "\n",
    "bervoets_promoter_lib[\"Sequence_variableonly\"] = bervoets_promoter_lib[\"Sequence\"]\n",
    "bervoets_promoter_lib[\"Sequence\"] = bervoets_promoter_lib.apply(\n",
    "    lambda x: bervoets_promoter_lib_upstream[x[\"Sigma\"]]\n",
    "    + x[\"Sequence_variableonly\"]\n",
    "    + bervoets_promoter_lib_downstream[x[\"Sigma\"]],\n",
    "    axis=1,\n",
    ")\n",
    "\n",
    "bervoets_promoters = pd.read_csv(\n",
    "    io.StringIO(bervoets_promoters_tsv), sep=\"\\s+\", index_col=1\n",
    ")\n",
    "\n",
    "bervoets_promoters[\"Sequence_fullcontext\"] = bervoets_promoters[\"Sequence\"]\n",
    "\n",
    "bervoets_promoters[\"Sequence\"] = bervoets_promoters[\"Sequence_fullcontext\"].str.replace(\n",
    "    rf\"^{bervoets_promoter_insulation}(.*?)(?:{bervoets_promoter_bcd19})?$\",\n",
    "    r\"\\1\",\n",
    "    regex=True,\n",
    ")\n",
    "\n",
    "bervoets_foldchange = pd.read_csv(\n",
    "    io.StringIO(bervoets_foldchange_tsv), sep=\"\\s+\", index_col=0\n",
    ")\n",
    "\n",
    "bervoets_primers_for_sigma = {\n",
    "    \"sigB\": (\"IB0250\", \"IB0251\"),\n",
    "    \"sigF\": (\"IB0252\", \"IB0253\"),\n",
    "    \"sigG\": (\"IB0254\", \"IB0255\"),\n",
    "    \"sigH\": (\"IB0256\", \"IB0257\"),\n",
    "    \"sigM\": (\"IB0238\", \"IB0249\"),\n",
    "    \"sigW\": (\"IB0258\", \"IB0259\"),\n",
    "    \"sigX\": (\"IB0260\", \"IB0261\"),\n",
    "}"
   ]
  },
  {
   "cell_type": "code",
   "execution_count": null,
   "id": "11",
   "metadata": {},
   "outputs": [],
   "source": [
    "# check that we've interpreted the tables correctly\n",
    "bervoets_promoters.loc[\"PW2\", \"Sequence\"] == bervoets_promoter_lib.loc[\n",
    "    \"PW2\", \"Sequence\"\n",
    "]"
   ]
  },
  {
   "cell_type": "markdown",
   "id": "12",
   "metadata": {},
   "source": [
    "# Bacillus sigma primers"
   ]
  },
  {
   "cell_type": "code",
   "execution_count": null,
   "id": "13",
   "metadata": {},
   "outputs": [],
   "source": [
    "import primer3plus"
   ]
  },
  {
   "cell_type": "code",
   "execution_count": null,
   "id": "14",
   "metadata": {},
   "outputs": [],
   "source": [
    "def overhangs_for(x):\n",
    "    return (x[\"Upstream overhang\"], x[\"Downstream overhang\"])\n",
    "\n",
    "\n",
    "def _format_seq(seq):\n",
    "    # TODO: mixed bases in upper case for IDT\n",
    "    return str(sequence.get_seq(seq)).lower()\n",
    "\n",
    "\n",
    "def strip(s):\n",
    "    return re.sub(r\"\\s+\", \"\", s)"
   ]
  },
  {
   "cell_type": "code",
   "execution_count": null,
   "id": "15",
   "metadata": {},
   "outputs": [],
   "source": [
    "sigb = strip(\n",
    "    \"\"\"atgACACAAC CATCAAAAAC TACGAAACTA ACTAAAGATG AAGTCGATCG GCTCATAAGC\n",
    "GATTACCAAA CAAAGCAAGA TGAACAAGCG CAGGAAACGC TTGTGCGGGT GTATACAAAT\n",
    "CTGGTTGACA TGCTTGCGAA AAAATACTCA AAAGGCAAAA GCTTCCACGA GGATCTCCGC\n",
    "CAGGTCGGCA TGATCGGGCT GCTAGGCGCG ATTAAGCGAT ACGATCCTGT TGTCGGCAAA\n",
    "TCGTTTGAAG CTTTTGCAAT CCCGACAATC ATCGGTGAAA TTAAACGTTT CCTCAGAGAT\n",
    "AAAACATGGA GCGTTCATGT GCCGAGACGA ATTAAAGAAC TCGGTCCAAG AATCAAAATG\n",
    "GCGGTTGATC AGCTGACCAC TGAAACACAA AGATCGCCGA AAGTCGAAGA GATTGCCGAA\n",
    "TTCCTCGATG TTTCTGAAGA AGAGGTTCTT GAAACGATGG AAATGGGCAA AAGCTATCAA\n",
    "GCCTTATCCG TTGACCACAG CATTGAAGCG GATTCGGACG GAAGCACTGT CACGATTCTT\n",
    "GATATCGTCG GATCACAGGA GGACGGATAT GAGCGGGTCA ACCAGCAATT GATGCTGCAA\n",
    "AGCGTGCTTC ATGTCCTTTC AGACCGTGAG AAACAAATCA TAGACCTTAC GTATATTCAA\n",
    "AACAAAAGCC AAAAAGAAAC TGGGGACATT CTCGGTATAT CTCAAATGCA CGTCTCGCGC\n",
    "TTGCAACGCA AAGCTGTGAA GAAGCTCAGA GAGGCCTTGA TTGAAGATCC CTCGATGGAG\n",
    "TTAATGtaa\"\"\"\n",
    ")\n",
    "\n",
    "rsbw = strip(\n",
    "    \"\"\"atgAAGAATA ATGCTGATTA CATCGAAATG AAAGTGCCGG CCCAACCTGA ATATGTGGGA\n",
    "ATTATAAGAC TGACGCTGTC AGGGGTCGCA AGCAGAATGG GCTATACGTA CGATGAAATT\n",
    "GAAGACTTGA AAATCGCAGT CAGTGAGGCG TGCACAAATG CGGTTCAGCA CGCTTACAAA\n",
    "GAAGATAAAA ATGGGGAAGT GTCAATACGA TTCGGTGTGT TTGAAGACCG TTTAGAGGTT\n",
    "ATTGTGGCGG ATGAAGGAGA CAGCTTTGAC TTTGATCAAA AGCAGCAGGA TCTAGGGCCG\n",
    "TACACACCTT CGCACACAGT TGATCAATTA TCAGAAGGAG GGCTCGGTCT ATATTTAATG\n",
    "GAAACGCTCA TGGATGAAGT CAGAGTGCAA AACCACTCCG GCGTCACCGT AGCGATGACA\n",
    "AAGTATTTAA ATGGGGAGCG AGTTGATCAT GACACAACCA TCAAAAACTA CGAAACTAAC\n",
    "taa\"\"\"\n",
    ")"
   ]
  },
  {
   "cell_type": "code",
   "execution_count": null,
   "id": "16",
   "metadata": {},
   "outputs": [],
   "source": [
    "olt = reg[(\"oLT\", \"oligos\")]\n",
    "lib_parts = reg[(\"LIB\", \"parts\")]\n",
    "part_types = reg[(\"LIB\", \"parts\", \"Part types\")]"
   ]
  },
  {
   "cell_type": "code",
   "execution_count": null,
   "id": "17",
   "metadata": {},
   "outputs": [],
   "source": [
    "# overhangs = overhangs_for(part_types[\"5UTR_2\"])\n",
    "# storage_flanks = (\"CGTCTCGGTCTCa\", \"tGAGACCgGAGACG\") # storage vector BsmBI flanks\n",
    "# random_bases = (\"GCTTCA\", \"TGCTAA\") # to add between BsmBI recognition site and ends of oligos\n",
    "# storage_flanks = workflow.concatenate_flanks(storage_flanks, random_bases)\n",
    "storage_flanks = (\n",
    "    lib_parts[\"JUMP_storage_vector_prefix\"][\"Sequence\"],\n",
    "    lib_parts[\"JUMP_storage_vector_suffix\"][\"Sequence\"],\n",
    ")"
   ]
  },
  {
   "cell_type": "code",
   "execution_count": null,
   "id": "18",
   "metadata": {},
   "outputs": [],
   "source": [
    "storage_flanks"
   ]
  },
  {
   "cell_type": "code",
   "execution_count": null,
   "id": "19",
   "metadata": {},
   "outputs": [],
   "source": [
    "overhangs_for(part_types[\"CDS_CD\"])"
   ]
  },
  {
   "cell_type": "markdown",
   "id": "20",
   "metadata": {},
   "source": [
    "## Bervoets primers"
   ]
  },
  {
   "cell_type": "code",
   "execution_count": null,
   "id": "21",
   "metadata": {},
   "outputs": [],
   "source": [
    "[bervoets_primers.loc[name, \"Sequence\"] for name in bervoets_primers_for_sigma[\"sigB\"]]"
   ]
  },
  {
   "cell_type": "code",
   "execution_count": null,
   "id": "22",
   "metadata": {},
   "outputs": [],
   "source": [
    "# Primer/PrimerPair class, memoize thermo params"
   ]
  },
  {
   "cell_type": "code",
   "execution_count": null,
   "id": "23",
   "metadata": {},
   "outputs": [],
   "source": [
    "# TODO: order Bervoets primers in forward/reverse order"
   ]
  },
  {
   "cell_type": "code",
   "execution_count": null,
   "id": "24",
   "metadata": {},
   "outputs": [],
   "source": [
    "\"fwd\"[0].isupper()"
   ]
  },
  {
   "cell_type": "code",
   "execution_count": null,
   "id": "25",
   "metadata": {},
   "outputs": [],
   "source": [
    "date = datetime.now().strftime(\"%-m/%-d/%Y\")\n",
    "\n",
    "base_row = {\n",
    "    \"Author\": \"Jacob Quinn Shenker\",\n",
    "    \"Vendor\": \"IDT\",\n",
    "    \"Type\": \"Primer\",\n",
    "    \"Date\": date,\n",
    "    \"Order date\": date,\n",
    "}\n",
    "\n",
    "rows = []\n",
    "\n",
    "name = \"sigB\"\n",
    "template_seq = sigb\n",
    "\n",
    "full_flanks = workflow.concatenate_flanks(\n",
    "    overhangs_for(part_types[\"CDS_CD\"]), storage_flanks\n",
    ")\n",
    "trimmed_flanks = workflow.smoosh_and_trim_flanks(template_seq, full_flanks)\n",
    "\n",
    "for bervoets_name, flank in zip(\n",
    "    bervoets_primers_for_sigma[name],\n",
    "    trimmed_flanks,\n",
    "):\n",
    "    primer_seq_orig = bervoets_primers.loc[bervoets_name, \"Sequence\"]\n",
    "    primer_seq = primers.replace_primer_overhang(sigb, primer_seq_orig, flank)\n",
    "    orientation = primers.format_primer_orientation(template_seq, primer_seq)\n",
    "    primer_name = f\"Bsub_{name}_{orientation}\"\n",
    "    description = f\"Primers to amplify {name} from B. subtilis. Primer binding site from {bervoets_name} (Bervoets 2018). Overhangs for BsmBI golden gate into pLIB112.\"\n",
    "    row = {\n",
    "        \"Name\": primer_name,\n",
    "        \"Sequence\": str(primer_seq).upper(),\n",
    "        \"Description\": description,\n",
    "        **base_row,\n",
    "    }\n",
    "    rows.append(row)"
   ]
  },
  {
   "cell_type": "code",
   "execution_count": null,
   "id": "26",
   "metadata": {},
   "outputs": [],
   "source": [
    "product = sequence.pcr(sigb, *[r[\"Sequence\"] for r in rows])"
   ]
  },
  {
   "cell_type": "code",
   "execution_count": null,
   "id": "27",
   "metadata": {},
   "outputs": [],
   "source": [
    "product.seq_lower()"
   ]
  },
  {
   "cell_type": "code",
   "execution_count": null,
   "id": "28",
   "metadata": {},
   "outputs": [],
   "source": [
    "rows"
   ]
  },
  {
   "cell_type": "code",
   "execution_count": null,
   "id": "29",
   "metadata": {},
   "outputs": [],
   "source": [
    "for row in rows:\n",
    "    olt[olt.next_id()] = row"
   ]
  },
  {
   "cell_type": "code",
   "execution_count": null,
   "id": "30",
   "metadata": {},
   "outputs": [],
   "source": [
    "olt.save()"
   ]
  },
  {
   "cell_type": "markdown",
   "id": "31",
   "metadata": {},
   "source": [
    "## De novo primers"
   ]
  },
  {
   "cell_type": "code",
   "execution_count": null,
   "id": "32",
   "metadata": {},
   "outputs": [],
   "source": [
    "primer3plus.Design.PRIMER_"
   ]
  },
  {
   "cell_type": "code",
   "execution_count": null,
   "id": "33",
   "metadata": {},
   "outputs": [],
   "source": [
    "design = primer3plus.Design()"
   ]
  },
  {
   "cell_type": "code",
   "execution_count": null,
   "id": "34",
   "metadata": {},
   "outputs": [],
   "source": [
    "primer3testresult = {\n",
    "    \"PAIR\": {\n",
    "        \"PENALTY\": 11.368492839936664,\n",
    "        \"COMPL_ANY_TH\": 0.0,\n",
    "        \"COMPL_END_TH\": 0.0,\n",
    "        \"PRODUCT_SIZE\": 789,\n",
    "    },\n",
    "    \"LEFT\": {\n",
    "        \"PENALTY\": 5.529429783166449,\n",
    "        \"SEQUENCE\": \"atgacacaaccatcaaaaactacga\",\n",
    "        \"location\": (0, 25),\n",
    "        \"TM\": 59.47057021683355,\n",
    "        \"GC_PERCENT\": 36.0,\n",
    "        \"SELF_ANY_TH\": 0.0,\n",
    "        \"SELF_END_TH\": 0.0,\n",
    "        \"HAIRPIN_TH\": 0.0,\n",
    "        \"END_STABILITY\": 3.43,\n",
    "        \"OVERHANG\": \"gcttcacgtctcggtctcaa\",\n",
    "    },\n",
    "    \"RIGHT\": {\n",
    "        \"PENALTY\": 5.839063056770215,\n",
    "        \"SEQUENCE\": \"ttacattaactccatcgagggatct\",\n",
    "        \"location\": (788, 25),\n",
    "        \"TM\": 59.160936943229785,\n",
    "        \"GC_PERCENT\": 40.0,\n",
    "        \"SELF_ANY_TH\": 20.727150498313335,\n",
    "        \"SELF_END_TH\": 12.024104015462171,\n",
    "        \"HAIRPIN_TH\": 40.770439736531614,\n",
    "        \"END_STABILITY\": 2.75,\n",
    "        \"OVERHANG\": \"ggttgagaccggagacgtgctaa\",\n",
    "    },\n",
    "}"
   ]
  },
  {
   "cell_type": "code",
   "execution_count": null,
   "id": "35",
   "metadata": {},
   "outputs": [],
   "source": [
    "from dataclasses import InitVar, dataclass, field\n",
    "from functools import cached_property\n",
    "from typing import Optional, Union\n",
    "\n",
    "from Bio.Seq import Seq\n",
    "from Bio.SeqRecord import SeqRecord\n",
    "\n",
    "a = Primer(\"gggg\" + (\"a\" * 10), binding_length=10)\n",
    "b = Primer(\"gggg\" + (\"a\" * 10), overhang_length=4)\n",
    "c = Primer(\"gggg\", \"a\" * 10)\n",
    "d = Primer(\"gggg\" + (\"a\" * 10))\n",
    "e = Primer(\"gggg\" + (\"a\" * 10), template=\"ccccaaaacccc\")\n",
    "f = Primer(binding=\"a\" * 10, overhang=\"gggg\")\n",
    "g = Primer(\"gggg\", (\"a\" * 10), template=\"ccccaaaacccc\")  # error\n",
    "h = Primer(primer3=primer3testresult)\n",
    "h2 = Primer(template=\"ggggaaaagggg\", primer3=primer3testresult)  # error\n",
    "print(a, b, c, d, e, f, h, h2)"
   ]
  },
  {
   "cell_type": "code",
   "execution_count": null,
   "id": "36",
   "metadata": {},
   "outputs": [],
   "source": [
    "from dataclasses import InitVar, dataclass, field\n",
    "from functools import cached_property\n",
    "from typing import Optional, Union\n",
    "\n",
    "from Bio.Seq import Seq\n",
    "from Bio.SeqRecord import SeqRecord\n",
    "\n",
    "\n",
    "@dataclass\n",
    "class Primer:\n",
    "    seq1: InitVar[sequence.SEQ_TYPE] = None\n",
    "    seq2: InitVar[sequence.SEQ_TYPE] = None\n",
    "    template: InitVar[sequence.SEQ_TYPE] = None\n",
    "    binding_length: InitVar[int] = None\n",
    "    overhang_length: InitVar[int] = None\n",
    "    seq: str = None\n",
    "    binding: str = None\n",
    "    overhang: str = None\n",
    "    tm: Optional[float] = None\n",
    "    mfe_monomer: Optional[float] = None\n",
    "    mfe_homodimer: Optional[float] = None\n",
    "    primer3: dict = field(repr=False, default_factory=dict)\n",
    "\n",
    "    def __post_init__(self, seq1, seq2, template, binding_length, overhang_length):\n",
    "        if seq1 is not None:\n",
    "            if seq2 is not None:\n",
    "                if any(template is not None, binding_length is not None, overhang_length is not None):\n",
    "                    raise ValueError(\"if binding and overhang are specified, cannot also specify template, binding_length, or overhang_length\")\n",
    "                self.overhang = seq1\n",
    "                self.binding = seq2\n",
    "            else:\n",
    "                if binding_length is not None:\n",
    "                    if overhang_length is not None:\n",
    "                        raise ValueError(\"cannot specify both binding_length and overhang_length\")\n",
    "                    self.binding = seq1[len(seq)-binding:]\n",
    "                    self.overhang =  = seq1[:len(seq)-binding]\n",
    "                else:\n",
    "                    if overhang_length is not None:\n",
    "                        self.binding = seq1[len(seq)-binding:]\n",
    "                        self.overhang =  = seq1[:len(seq)-binding]\n",
    "                    else:\n",
    "                        pass # TODO\n",
    "        else:\n",
    "            # seq1+template\n",
    "            # binding+overhang\n",
    "        pass\n",
    "\n",
    "a = Primer(\"gggg\"+(\"a\"*10), binding_length=10)\n",
    "b = Primer(\"gggg\"+(\"a\"*10), overhang_length=4)\n",
    "c = Primer(\"gggg\", \"a\"*10)\n",
    "d = Primer(\"gggg\"+(\"a\"*10))\n",
    "e = Primer(\"gggg\"+(\"a\"*10), template=\"ccccaaaacccc\")\n",
    "f = Primer(binding=\"a\"*10, overhang=\"gggg\")\n",
    "g = Primer(\"gggg\", (\"a\"*10), template=\"ccccaaaacccc\") # error\n",
    "h = Primer(primer3=primer3testresult)\n",
    "h2 = Primer(template=\"ggggaaaagggg\", primer3=primer3testresult) #error\n",
    "print(a,b,c,d,e,f,h,h2)"
   ]
  },
  {
   "cell_type": "code",
   "execution_count": null,
   "id": "37",
   "metadata": {},
   "outputs": [],
   "source": [
    "def _format_primer3(result):\n",
    "    return result\n",
    "\n",
    "\n",
    "# USE CASES:\n",
    "# 1) take desired product, template seq, find overhangs\n",
    "# 2) take amplicon, optional overhangs\n",
    "def primer3_amplicon_primers(\n",
    "    template, flanks, tm=(55, 65, 72), return_explain=False, return_many=False\n",
    "):\n",
    "    template_seq = str(sequence.get_seq(template)).lower()\n",
    "    full_flanks = workflow.concatenate_flanks(*flanks)\n",
    "    trimmed_flanks = workflow.smoosh_and_trim_flanks(template_seq, full_flanks)\n",
    "    design = primer3plus.Design()\n",
    "    design.settings.template(template_seq)\n",
    "    design.settings.as_cloning_task()\n",
    "    design.settings.use_overhangs()\n",
    "    design.settings.left_overhang(trimmed_flanks[0])\n",
    "    design.settings.right_overhang(trimmed_flanks[1])\n",
    "    if len(tm) != 3:\n",
    "        raise ValueError(\"expecting (min, optimal, max) tm\")\n",
    "        design.params[\"PRIMER_OPT_TM\"] = tm[0]\n",
    "        design.params[\"PRIMER_MIN_TM\"] = tm[1]\n",
    "        design.params[\"PRIMER_MAX_TM\"] = tm[2]\n",
    "    design.settings.product_size([27, 10000], opt=0)\n",
    "    if return_many is False:\n",
    "        num_return = 1\n",
    "    else:\n",
    "        num_return = return_many\n",
    "    design.settings.primer_num_return(num_return)\n",
    "    # print(design.params)\n",
    "    results, explain = design.run()\n",
    "    if not return_many:\n",
    "        if len(results) == 0:\n",
    "            raise ValueError(\"did not design primers\")\n",
    "        elif len(results) > 1:\n",
    "            raise NotImplementError\n",
    "        return _format_primer3(results[0])\n",
    "    else:\n",
    "        return [_format_primer3(r) for r in results.values()]\n",
    "    return results, explain\n",
    "\n",
    "\n",
    "primer3_amplicon_primers(\n",
    "    sigb, [overhangs_for(part_types[\"CDS_CD\"]), storage_flanks], return_many=3\n",
    ")"
   ]
  },
  {
   "cell_type": "code",
   "execution_count": null,
   "id": "38",
   "metadata": {},
   "outputs": [],
   "source": [
    "proteins_to_order = {\"sigB\": sigb, \"rsbW\": rsbw}"
   ]
  },
  {
   "cell_type": "code",
   "execution_count": null,
   "id": "39",
   "metadata": {},
   "outputs": [],
   "source": [
    "date = datetime.now().strftime(\"%-m/%-d/%Y\")\n",
    "\n",
    "base_row = {\n",
    "    \"Author\": \"Jacob Quinn Shenker\",\n",
    "    \"Vendor\": \"IDT\",\n",
    "    \"Type\": \"Primer\",\n",
    "    \"Date\": date,\n",
    "    \"Order date\": date,\n",
    "    \"Description\": description,\n",
    "}\n",
    "\n",
    "rows = []\n",
    "\n",
    "for name, template_seq in proteins_to_order.items():\n",
    "    primers = primer3_amplicon_primers(\n",
    "        template_seq, [overhangs_for(part_types[\"CDS_CD\"]), storage_flanks]\n",
    "    )\n",
    "    for primer, orientation in zip(primers, (\"f\", \"r\")):\n",
    "        print(\">\", primer)\n",
    "        primer_name = f\"Bsub_{name}_{orientation}\"\n",
    "        description = f\"Primers to amplify {name} from B. subtilis. Overhangs for BsmBI golden gate into pLIB112.\"\n",
    "        row = {\n",
    "            \"Name\": primer_name,\n",
    "            \"Sequence\": str(seq).upper(),\n",
    "            \"Description\": description,\n",
    "            **base_row,\n",
    "        }\n",
    "        rows.append(row)"
   ]
  },
  {
   "cell_type": "code",
   "execution_count": null,
   "id": "40",
   "metadata": {},
   "outputs": [],
   "source": [
    "rows"
   ]
  },
  {
   "cell_type": "code",
   "execution_count": null,
   "id": "41",
   "metadata": {},
   "outputs": [],
   "source": [
    "for row in rows:\n",
    "    olt[olt.next_id()] = row"
   ]
  },
  {
   "cell_type": "code",
   "execution_count": null,
   "id": "42",
   "metadata": {},
   "outputs": [],
   "source": [
    "olt.save()"
   ]
  },
  {
   "cell_type": "markdown",
   "id": "43",
   "metadata": {},
   "source": [
    "## Bervoets promoters"
   ]
  },
  {
   "cell_type": "code",
   "execution_count": null,
   "id": "44",
   "metadata": {},
   "outputs": [],
   "source": [
    "promoters_to_order = {}\n",
    "\n",
    "# PB2, PF3, PW2\n",
    "# PB2.10, PW2.6, PF3.7\n",
    "\n",
    "\n",
    "# for name in (\"PB2.10\"):\n",
    "#     promoters_to_order[name] = bervoets_promoters.loc[name, \"Sequence\"]\n",
    "\n",
    "for name in (\"PB2\", \"PF3\", \"PW2\", \"PB2.10\", \"PW2.6\", \"PF3.7\"):\n",
    "    promoters_to_order[name] = bervoets_promoter_lib.loc[name, \"Sequence\"]"
   ]
  },
  {
   "cell_type": "code",
   "execution_count": null,
   "id": "45",
   "metadata": {},
   "outputs": [],
   "source": [
    "promoters_to_order"
   ]
  },
  {
   "cell_type": "code",
   "execution_count": null,
   "id": "46",
   "metadata": {},
   "outputs": [],
   "source": [
    "date = datetime.now().strftime(\"%-m/%-d/%Y\")\n",
    "\n",
    "base_part_row = {\"Author\": \"Jacob Quinn Shenker\"}\n",
    "\n",
    "base_oligo_row = {\n",
    "    \"Author\": \"Jacob Quinn Shenker\",\n",
    "    \"Vendor\": \"IDT\",\n",
    "    \"Type\": \"Primer\",\n",
    "    \"Date\": date,\n",
    "    \"Order date\": date,\n",
    "}\n",
    "\n",
    "oligo_rows = []\n",
    "\n",
    "for bervoets_name, promoter_seq in promoters_to_order.items():\n",
    "    seq_orig = bervoets_promoter_lib.loc[bervoets_name, \"Sequence\"]\n",
    "    full_flanks = workflow.concatenate_flanks(\n",
    "        overhangs_for(part_types[\"Promoter_AB\"]), storage_flanks\n",
    "    )\n",
    "    print(seq_orig, full_flanks)\n",
    "    seq = workflow.smoosh_and_trim_flanks(seq_orig, full_flanks)\n",
    "    for sense in (True, False):\n",
    "        if antisense:\n",
    "            oligo_seq = sequence.reverse_complement(seq)\n",
    "        else:\n",
    "            oligo_seq = seq\n",
    "        sense_str = \"antisense\" if antisense else \"sense\"\n",
    "        oligo_name = f\"Bervoets_{bervoets_name}_{sense_str}\"\n",
    "        fc = bervoets_foldchange.loc[\n",
    "            bervoets_name, bervoets_promoter_lib.loc[bervoets_name, \"Sigma\"]\n",
    "        ]\n",
    "        description = f\"{sense_str.capitalize()} primer to anneal to make {bervoets_name} (Bervoets 2018). Flanks for BsmBI golden gate into pLIB112. Fold change with cognate sigma: {fc}.\"\n",
    "        row = {\n",
    "            \"Name\": oligo_name,\n",
    "            \"Sequence\": str(oligo_seq).upper(),\n",
    "            \"Description\": description,\n",
    "            **base_oligo_row,\n",
    "        }\n",
    "        oligo_rows.append(oligo_row)"
   ]
  },
  {
   "cell_type": "code",
   "execution_count": null,
   "id": "47",
   "metadata": {},
   "outputs": [],
   "source": [
    "for row in rows:\n",
    "    olt[olt.next_id()] = row"
   ]
  },
  {
   "cell_type": "code",
   "execution_count": null,
   "id": "48",
   "metadata": {},
   "outputs": [],
   "source": [
    "olt.save()"
   ]
  },
  {
   "cell_type": "markdown",
   "id": "49",
   "metadata": {},
   "source": [
    "# BioCyc test"
   ]
  },
  {
   "cell_type": "code",
   "execution_count": null,
   "id": "50",
   "metadata": {},
   "outputs": [],
   "source": [
    "import requests"
   ]
  },
  {
   "cell_type": "code",
   "execution_count": null,
   "id": "51",
   "metadata": {},
   "outputs": [],
   "source": [
    "requests.get(\"https://websvc.biocyc.org/getxml?BSUB:BSU04730\")"
   ]
  },
  {
   "cell_type": "code",
   "execution_count": null,
   "id": "52",
   "metadata": {},
   "outputs": [],
   "source": [
    "_.content"
   ]
  }
 ],
 "metadata": {
  "kernelspec": {
   "display_name": "Python 3",
   "language": "python",
   "name": "python3"
  },
  "language_info": {
   "codemirror_mode": {
    "name": "ipython",
    "version": 3
   },
   "file_extension": ".py",
   "mimetype": "text/x-python",
   "name": "python",
   "nbconvert_exporter": "python",
   "pygments_lexer": "ipython3",
   "version": "3.8.8"
  }
 },
 "nbformat": 4,
 "nbformat_minor": 4
}
