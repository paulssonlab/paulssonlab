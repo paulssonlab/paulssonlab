{
 "cells": [
  {
   "cell_type": "code",
   "execution_count": null,
   "metadata": {},
   "outputs": [],
   "source": [
    "import numpy as np\n",
    "import pandas as pd\n",
    "import holoviews as hv\n",
    "import hvplot.pandas\n",
    "import matplotlib.pyplot as plt\n",
    "import seaborn as sns\n",
    "import toml\n",
    "import re\n",
    "from zipfile import ZipFile\n",
    "import urllib\n",
    "from datetime import datetime\n",
    "import string\n",
    "import pygsheets\n",
    "import requests\n",
    "from tqdm.auto import tqdm\n",
    "import Bio.Restriction as Restriction\n",
    "from Bio.Seq import Seq\n",
    "from Bio.SeqRecord import SeqRecord\n",
    "import Bio.Entrez as Entrez\n",
    "import benchlingapi"
   ]
  },
  {
   "cell_type": "code",
   "execution_count": null,
   "metadata": {},
   "outputs": [],
   "source": [
    "%load_ext autoreload\n",
    "%autoreload 2"
   ]
  },
  {
   "cell_type": "code",
   "execution_count": null,
   "metadata": {},
   "outputs": [],
   "source": [
    "import paulssonlab.api as api\n",
    "import paulssonlab.api.benchling as bapi\n",
    "from paulssonlab.api.util import base_url\n",
    "import paulssonlab.cloning.registry as registry\n",
    "import paulssonlab.cloning.workflow as workflow\n",
    "import paulssonlab.cloning.sequence as sequence\n",
    "import paulssonlab.cloning.enzyme as enzyme\n",
    "import paulssonlab.cloning.viennarna as viennarna\n",
    "import paulssonlab.cloning.thermodynamics as thermodynamics\n",
    "import paulssonlab.cloning.primers as primers\n",
    "import paulssonlab.cloning.ncbi as ncbi"
   ]
  },
  {
   "cell_type": "code",
   "execution_count": null,
   "metadata": {},
   "outputs": [],
   "source": [
    "hv.extension(\"bokeh\")"
   ]
  },
  {
   "cell_type": "markdown",
   "metadata": {},
   "source": [
    "# Setup"
   ]
  },
  {
   "cell_type": "code",
   "execution_count": null,
   "metadata": {},
   "outputs": [],
   "source": [
    "config = toml.load(\"config.toml\")"
   ]
  },
  {
   "cell_type": "code",
   "execution_count": null,
   "metadata": {},
   "outputs": [],
   "source": [
    "gc = pygsheets.authorize(service_account_file=\"credentials.json\")"
   ]
  },
  {
   "cell_type": "code",
   "execution_count": null,
   "metadata": {},
   "outputs": [],
   "source": [
    "bench_session = benchlingapi.Session(config[\"benchling\"][\"api_key\"])\n",
    "benchling_folder = bapi.get_project_root(bench_session, config[\"benchling\"][\"project\"])"
   ]
  },
  {
   "cell_type": "code",
   "execution_count": null,
   "metadata": {},
   "outputs": [],
   "source": [
    "reg = registry.Registry(gc, config[\"registry\"][\"folder\"], benchling_folder)"
   ]
  },
  {
   "cell_type": "markdown",
   "metadata": {},
   "source": [
    "# Primers to make FP parts"
   ]
  },
  {
   "cell_type": "code",
   "execution_count": null,
   "metadata": {},
   "outputs": [],
   "source": [
    "plib_plasmids = reg[(\"pLIB\", \"plasmids\")]\n",
    "plib_maps = reg[(\"pLIB\", \"maps\")]\n",
    "lib_parts = reg[(\"LIB\", \"parts\")]\n",
    "part_types = reg[(\"LIB\", \"parts\", \"Part types\")]"
   ]
  },
  {
   "cell_type": "code",
   "execution_count": null,
   "metadata": {},
   "outputs": [],
   "source": [
    "def overhangs_for(x):\n",
    "    return (x[\"Upstream overhang\"], x[\"Downstream overhang\"])"
   ]
  },
  {
   "cell_type": "code",
   "execution_count": null,
   "metadata": {},
   "outputs": [],
   "source": [
    "gg_overhangs = overhangs_for(part_types[\"CDS_CD\"])"
   ]
  },
  {
   "cell_type": "code",
   "execution_count": null,
   "metadata": {},
   "outputs": [],
   "source": [
    "storage_flanks = (\n",
    "    lib_parts[\"JUMP_storage_vector_prefix\"][\"Sequence\"],\n",
    "    lib_parts[\"JUMP_storage_vector_suffix\"][\"Sequence\"],\n",
    ")"
   ]
  },
  {
   "cell_type": "code",
   "execution_count": null,
   "metadata": {},
   "outputs": [],
   "source": [
    "ua_rbs = \"tctagatttaagaaggagatatacat\"\n",
    "cluzel_cterm = \"atgtccagacctgcaggcatgcaagctctagaggcat\"\n",
    "# flanks = (ua_rbs + \"atg\", \"taa\" + cluzel_cterm)"
   ]
  },
  {
   "cell_type": "markdown",
   "metadata": {},
   "source": [
    "## Source plasmids"
   ]
  },
  {
   "cell_type": "code",
   "execution_count": null,
   "metadata": {},
   "outputs": [],
   "source": [
    "%%time\n",
    "plasmids = {\n",
    "    row[\"Names\"]: plib_maps[id_]\n",
    "    for id_, row in plib_plasmids.items()\n",
    "    if \"cluzel-fp\" in row[\"Tags\"]\n",
    "}"
   ]
  },
  {
   "cell_type": "code",
   "execution_count": null,
   "metadata": {},
   "outputs": [],
   "source": [
    "plasmids.keys()"
   ]
  },
  {
   "cell_type": "markdown",
   "metadata": {},
   "source": [
    "## Extract FP inserts"
   ]
  },
  {
   "cell_type": "code",
   "execution_count": null,
   "metadata": {},
   "outputs": [],
   "source": [
    "%%time\n",
    "locations = {\n",
    "    name: sequence.amplicon_location(\n",
    "        seq, ua_rbs, sequence.reverse_complement(cluzel_cterm)\n",
    "    )\n",
    "    for name, seq in plasmids.items()\n",
    "}"
   ]
  },
  {
   "cell_type": "code",
   "execution_count": null,
   "metadata": {},
   "outputs": [],
   "source": [
    "inserts = {name: seq.slice(*locations[name]) for name, seq in plasmids.items()}"
   ]
  },
  {
   "cell_type": "code",
   "execution_count": null,
   "metadata": {},
   "outputs": [],
   "source": [
    "s = plasmids[\"pEB1-SCFP3A\"]"
   ]
  },
  {
   "cell_type": "code",
   "execution_count": null,
   "metadata": {},
   "outputs": [],
   "source": [
    "sequence.amplicon_location(s, flanks[0], sequence.reverse_complement(flanks[1]))"
   ]
  },
  {
   "cell_type": "code",
   "execution_count": null,
   "metadata": {},
   "outputs": [],
   "source": [
    "s.slice(261, 972)"
   ]
  },
  {
   "cell_type": "code",
   "execution_count": null,
   "metadata": {},
   "outputs": [],
   "source": [
    "print(str(_.seq))"
   ]
  },
  {
   "cell_type": "code",
   "execution_count": null,
   "metadata": {},
   "outputs": [],
   "source": [
    "# check for BsmBI/BsaI/BbsI/AarI"
   ]
  },
  {
   "cell_type": "code",
   "execution_count": null,
   "metadata": {},
   "outputs": [],
   "source": [
    "plasmids[\"pEB1-SCFP3A\"]"
   ]
  },
  {
   "cell_type": "code",
   "execution_count": null,
   "metadata": {},
   "outputs": [],
   "source": [
    "for enzyme_name in (\"BsaI\", \"BsmBI\", \"BbsI\", \"AarI\"):\n",
    "    names_with_cuts = []\n",
    "    for name, seq in inserts.items():\n",
    "        cuts = enzyme.re_search(seq, enzyme_name)\n",
    "        if cuts:\n",
    "            names_with_cuts.append(name)\n",
    "    print(f\"{enzyme_name} ({len(names_with_cuts)}): {', '.join(names_with_cuts)}\")"
   ]
  },
  {
   "cell_type": "markdown",
   "metadata": {},
   "source": [
    "## Find FP common ends"
   ]
  },
  {
   "cell_type": "code",
   "execution_count": null,
   "metadata": {},
   "outputs": [],
   "source": [
    "names = np.array(list(inserts.keys()))"
   ]
  },
  {
   "cell_type": "code",
   "execution_count": null,
   "metadata": {},
   "outputs": [],
   "source": [
    "max_end_length = 40"
   ]
  },
  {
   "cell_type": "code",
   "execution_count": null,
   "metadata": {},
   "outputs": [],
   "source": [
    "letters = np.array([list(s.seq_lower()[:max_end_length]) for s in inserts.values()])\n",
    "counts = (letters[np.newaxis, :, :] == letters[:, np.newaxis, :]).sum(axis=0)\n",
    "forward_cumulative_counts = np.minimum.accumulate(counts, axis=1)"
   ]
  },
  {
   "cell_type": "code",
   "execution_count": null,
   "metadata": {},
   "outputs": [],
   "source": [
    "reverse_letters = np.array(\n",
    "    [list(s.seq_lower()[-max_end_length:]) for s in inserts.values()]\n",
    ")[:, ::-1]\n",
    "reverse_counts = (\n",
    "    reverse_letters[np.newaxis, :, :] == reverse_letters[:, np.newaxis, :]\n",
    ").sum(axis=0)\n",
    "reverse_cumulative_counts = np.minimum.accumulate(reverse_counts, axis=1)"
   ]
  },
  {
   "cell_type": "code",
   "execution_count": null,
   "metadata": {},
   "outputs": [],
   "source": [
    "cumulative_counts = np.minimum(forward_cumulative_counts, reverse_cumulative_counts)"
   ]
  },
  {
   "cell_type": "code",
   "execution_count": null,
   "metadata": {
    "tags": []
   },
   "outputs": [],
   "source": [
    "majority_size = cumulative_counts.max(axis=0)"
   ]
  },
  {
   "cell_type": "code",
   "execution_count": null,
   "metadata": {},
   "outputs": [],
   "source": [
    "majority_size"
   ]
  },
  {
   "cell_type": "code",
   "execution_count": null,
   "metadata": {},
   "outputs": [],
   "source": [
    "idxs = np.concatenate(\n",
    "    (np.where(np.diff(majority_size) != 0)[0], [len(majority_size) - 1])\n",
    ")"
   ]
  },
  {
   "cell_type": "code",
   "execution_count": null,
   "metadata": {},
   "outputs": [],
   "source": [
    "idxs"
   ]
  },
  {
   "cell_type": "code",
   "execution_count": null,
   "metadata": {},
   "outputs": [],
   "source": [
    "majority_size[idxs]"
   ]
  },
  {
   "cell_type": "code",
   "execution_count": null,
   "metadata": {},
   "outputs": [],
   "source": [
    "for idx in idxs:\n",
    "    omitted = names[cumulative_counts[:, idx] < majority_size[idx]]\n",
    "    omitted_str = \", \".join(omitted)\n",
    "    print(f\"length {idx} all except ({len(omitted)}): {omitted_str}\")"
   ]
  },
  {
   "cell_type": "code",
   "execution_count": null,
   "metadata": {},
   "outputs": [],
   "source": [
    "idx = 13\n",
    "names[cumulative_counts[:, idx] < majority_size[idx]]"
   ]
  },
  {
   "cell_type": "markdown",
   "metadata": {},
   "source": [
    "## Design primers"
   ]
  },
  {
   "cell_type": "code",
   "execution_count": null,
   "metadata": {},
   "outputs": [],
   "source": [
    "import primer3plus"
   ]
  },
  {
   "cell_type": "code",
   "execution_count": null,
   "metadata": {
    "tags": []
   },
   "outputs": [],
   "source": [
    "# USE CASES:\n",
    "# 1) take desired product, template seq, find overhangs\n",
    "# 2) take amplicon, optional overhangs\n",
    "def primer3_amplicon_primers(\n",
    "    template, flanks, tm=(55, 65, 72), return_explain=False, return_many=False\n",
    "):\n",
    "    template_seq = str(sequence.get_seq(template)).lower()\n",
    "    full_flanks = workflow.concatenate_flanks(*flanks)\n",
    "    trimmed_flanks = workflow.smoosh_and_trim_flanks(template_seq, full_flanks)\n",
    "    design = primer3plus.Design()\n",
    "    design.settings.template(template_seq)\n",
    "    design.settings.as_cloning_task()\n",
    "    design.settings.use_overhangs()\n",
    "    design.settings.left_overhang(trimmed_flanks[0])\n",
    "    design.settings.right_overhang(trimmed_flanks[1])\n",
    "    if len(tm) != 3:\n",
    "        raise ValueError(\"expecting (min, optimal, max) tm\")\n",
    "        design.params[\"PRIMER_OPT_TM\"] = tm[0]\n",
    "        design.params[\"PRIMER_MIN_TM\"] = tm[1]\n",
    "        design.params[\"PRIMER_MAX_TM\"] = tm[2]\n",
    "    design.settings.product_size([27, 10000], opt=0)\n",
    "    if return_many is False:\n",
    "        num_return = 1\n",
    "    else:\n",
    "        num_return = return_many\n",
    "    design.settings.primer_num_return(num_return)\n",
    "    # print(design.params)\n",
    "    results, explain = design.run()\n",
    "    if not return_many:\n",
    "        if len(results) == 0:\n",
    "            raise ValueError(\"did not design primers\")\n",
    "        elif len(results) > 1:\n",
    "            raise NotImplementError\n",
    "        # return primers.PrimerPair(primer3=results[0])\n",
    "        return results\n",
    "    else:\n",
    "        return results\n",
    "        # return [primers.PrimerPair(primer3=r) for r in results.values()]\n",
    "    return results, explain\n",
    "\n",
    "\n",
    "primer3_amplicon_primers(\n",
    "    inserts[\"pEB1-SCFP3A\"], [gg_overhangs, storage_flanks], return_many=3\n",
    ")"
   ]
  },
  {
   "cell_type": "code",
   "execution_count": null,
   "metadata": {},
   "outputs": [],
   "source": [
    "primer3pairtest = {\n",
    "    \"PAIR\": {\n",
    "        \"PENALTY\": 17.00987790954747,\n",
    "        \"COMPL_ANY_TH\": 8.920937018501036,\n",
    "        \"COMPL_END_TH\": 0.3357452745337355,\n",
    "        \"PRODUCT_SIZE\": 717,\n",
    "    },\n",
    "    \"LEFT\": {\n",
    "        \"PENALTY\": 8.214364424255905,\n",
    "        \"SEQUENCE\": \"atgagtaaaggagaagaacttttcact\",\n",
    "        \"location\": (0, 27),\n",
    "        \"TM\": 58.785635575744095,\n",
    "        \"GC_PERCENT\": 33.333333333333336,\n",
    "        \"SELF_ANY_TH\": 7.255354561467641,\n",
    "        \"SELF_END_TH\": 0.0,\n",
    "        \"HAIRPIN_TH\": 37.94059695097741,\n",
    "        \"END_STABILITY\": 3.41,\n",
    "        \"OVERHANG\": \"gcttcacgtctcggtctcaa\",\n",
    "    },\n",
    "    \"RIGHT\": {\n",
    "        \"PENALTY\": 8.795513485291565,\n",
    "        \"SEQUENCE\": \"ttatttgtatagttcatccatgccatg\",\n",
    "        \"location\": (716, 27),\n",
    "        \"TM\": 58.204486514708435,\n",
    "        \"GC_PERCENT\": 33.333333333333336,\n",
    "        \"SELF_ANY_TH\": 0.0,\n",
    "        \"SELF_END_TH\": 0.0,\n",
    "        \"HAIRPIN_TH\": 0.0,\n",
    "        \"END_STABILITY\": 3.66,\n",
    "        \"OVERHANG\": \"ggttgagaccggagacgtgctaa\",\n",
    "    },\n",
    "}\n",
    "primer3test = primer3pairtest[\"LEFT\"]"
   ]
  },
  {
   "cell_type": "code",
   "execution_count": null,
   "metadata": {},
   "outputs": [],
   "source": [
    "p1 = primers.Primer(primer3=primer3test)"
   ]
  },
  {
   "cell_type": "code",
   "execution_count": null,
   "metadata": {},
   "outputs": [],
   "source": [
    "a = primers.PrimerPair(\"aaaagggg\", \"ccccaaaa\")\n",
    "b = primers.PrimerPair(\"aaaagggg\", \"ccccaaaa\", template=\"gggg\")\n",
    "c = primers.PrimerPair(\n",
    "    Primer(\"gggg\" + (\"a\" * 10), binding_length=10),\n",
    "    Primer(\"gggg\" + (\"a\" * 10), binding_length=10),\n",
    ")\n",
    "d = primers.PrimerPair(primer3=primer3pairtest)"
   ]
  },
  {
   "cell_type": "code",
   "execution_count": null,
   "metadata": {},
   "outputs": [],
   "source": [
    "a = Primer(\"gggg\" + (\"a\" * 10), binding_length=10)\n",
    "b = Primer(\"gggg\" + (\"a\" * 10), overhang_length=4)\n",
    "c = Primer(\"gggg\", \"a\" * 10)\n",
    "d = Primer(\"gggg\" + (\"a\" * 10))\n",
    "e = Primer(\"gggg\" + (\"a\" * 10), template=\"ccccaaaacccc\")\n",
    "f = Primer(binding=\"a\" * 10, overhang=\"gggg\")\n",
    "g = Primer(\"gggg\", (\"a\" * 10), template=\"ccccaaaacccc\")  # error\n",
    "h = Primer(primer3=primer3testresult)\n",
    "h2 = Primer(template=\"ggggaaaagggg\", primer3=primer3testresult)  # error\n",
    "print(a, b, c, d, e, f, h, h2)"
   ]
  },
  {
   "cell_type": "code",
   "execution_count": null,
   "metadata": {},
   "outputs": [],
   "source": [
    "p = primers.Primer(\"gggg\" + (\"a\" * 10), template=\"cccc\" + (\"a\" * 10) + \"tttt\")"
   ]
  },
  {
   "cell_type": "code",
   "execution_count": null,
   "metadata": {},
   "outputs": [],
   "source": [
    "p"
   ]
  },
  {
   "cell_type": "code",
   "execution_count": null,
   "metadata": {},
   "outputs": [],
   "source": [
    "p.tm"
   ]
  },
  {
   "cell_type": "code",
   "execution_count": null,
   "metadata": {},
   "outputs": [],
   "source": [
    "p.mfe_monomer"
   ]
  },
  {
   "cell_type": "code",
   "execution_count": null,
   "metadata": {},
   "outputs": [],
   "source": [
    "primers.Primer(\"gggg\" + (\"a\" * 10), binding_length=10)"
   ]
  },
  {
   "cell_type": "code",
   "execution_count": null,
   "metadata": {},
   "outputs": [],
   "source": []
  }
 ],
 "metadata": {
  "kernelspec": {
   "display_name": "Python 3",
   "language": "python",
   "name": "python3"
  },
  "language_info": {
   "codemirror_mode": {
    "name": "ipython",
    "version": 3
   },
   "file_extension": ".py",
   "mimetype": "text/x-python",
   "name": "python",
   "nbconvert_exporter": "python",
   "pygments_lexer": "ipython3",
   "version": "3.8.8"
  }
 },
 "nbformat": 4,
 "nbformat_minor": 4
}
