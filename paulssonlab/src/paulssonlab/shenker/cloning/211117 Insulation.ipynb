{
 "cells": [
  {
   "cell_type": "code",
   "execution_count": null,
   "id": "0",
   "metadata": {},
   "outputs": [],
   "source": [
    "import re\n",
    "import string\n",
    "import urllib\n",
    "from datetime import datetime\n",
    "from zipfile import ZipFile\n",
    "\n",
    "import benchlingapi\n",
    "import Bio.pairwise2 as pairwise2\n",
    "import Bio.Restriction as Restriction\n",
    "import holoviews as hv\n",
    "import hvplot.pandas\n",
    "import matplotlib.pyplot as plt\n",
    "import numpy as np\n",
    "import pandas as pd\n",
    "import pygsheets\n",
    "import requests\n",
    "import seaborn as sns\n",
    "import toml\n",
    "from Bio.Seq import Seq\n",
    "from Bio.SeqRecord import SeqRecord\n",
    "from tqdm.auto import tqdm"
   ]
  },
  {
   "cell_type": "code",
   "execution_count": null,
   "id": "1",
   "metadata": {},
   "outputs": [],
   "source": [
    "%load_ext autoreload\n",
    "%autoreload 2"
   ]
  },
  {
   "cell_type": "code",
   "execution_count": null,
   "id": "2",
   "metadata": {},
   "outputs": [],
   "source": [
    "import paulssonlab.api as api\n",
    "import paulssonlab.api.benchling as bapi\n",
    "import paulssonlab.cloning.enzyme as enzyme\n",
    "import paulssonlab.cloning.registry as registry\n",
    "import paulssonlab.cloning.sequence as sequence\n",
    "import paulssonlab.cloning.workflow as workflow\n",
    "from paulssonlab.api.util import base_url"
   ]
  },
  {
   "cell_type": "code",
   "execution_count": null,
   "id": "3",
   "metadata": {},
   "outputs": [],
   "source": [
    "hv.extension(\"bokeh\")"
   ]
  },
  {
   "cell_type": "markdown",
   "id": "4",
   "metadata": {},
   "source": [
    "# Setup"
   ]
  },
  {
   "cell_type": "code",
   "execution_count": null,
   "id": "5",
   "metadata": {},
   "outputs": [],
   "source": [
    "config = toml.load(\"config.toml\")"
   ]
  },
  {
   "cell_type": "code",
   "execution_count": null,
   "id": "6",
   "metadata": {},
   "outputs": [],
   "source": [
    "gc = pygsheets.authorize(service_account_file=\"credentials.json\")"
   ]
  },
  {
   "cell_type": "code",
   "execution_count": null,
   "id": "7",
   "metadata": {},
   "outputs": [],
   "source": [
    "bench_session = benchlingapi.Session(config[\"benchling\"][\"api_key\"])\n",
    "benchling_folder = bapi.get_project_root(bench_session, config[\"benchling\"][\"project\"])"
   ]
  },
  {
   "cell_type": "code",
   "execution_count": null,
   "id": "8",
   "metadata": {},
   "outputs": [],
   "source": [
    "reg = registry.Registry(gc, config[\"registry\"][\"folder\"], benchling_folder)"
   ]
  },
  {
   "cell_type": "markdown",
   "id": "9",
   "metadata": {},
   "source": [
    "# Data"
   ]
  },
  {
   "cell_type": "markdown",
   "id": "10",
   "metadata": {},
   "source": [
    "## 2013 Chen"
   ]
  },
  {
   "cell_type": "code",
   "execution_count": null,
   "id": "11",
   "metadata": {},
   "outputs": [],
   "source": [
    "!mkdir -p data/2013terminators_supp\n",
    "!curl -b does_not_exist -Lo data/2013terminators_supp/supptable2.xlsx \"https://static-content.springer.com/esm/art%3A10.1038%2Fnmeth.2515/MediaObjects/41592_2013_BFnmeth2515_MOESM206_ESM.xlsx\"\n",
    "!curl -b does_not_exist -Lo data/2013terminators_supp/supptable3.xlsx \"https://static-content.springer.com/esm/art%3A10.1038%2Fnmeth.2515/MediaObjects/41592_2013_BFnmeth2515_MOESM207_ESM.xlsx\""
   ]
  },
  {
   "cell_type": "code",
   "execution_count": null,
   "id": "12",
   "metadata": {},
   "outputs": [],
   "source": [
    "natural_terminators = pd.read_excel(\n",
    "    \"data/2013terminators_supp/supptable2.xlsx\", index_col=0\n",
    ")\n",
    "synthetic_terminators = pd.read_excel(\n",
    "    \"data/2013terminators_supp/supptable3.xlsx\", index_col=0\n",
    ")\n",
    "for terminators in (natural_terminators, synthetic_terminators):\n",
    "    terminators[\"Length\"] = terminators[\"Sequence\"].str.len()"
   ]
  },
  {
   "cell_type": "markdown",
   "id": "13",
   "metadata": {},
   "source": [
    "## 2020 Park"
   ]
  },
  {
   "cell_type": "code",
   "execution_count": null,
   "id": "14",
   "metadata": {},
   "outputs": [],
   "source": [
    "# FROM: used https://www.adobe.com/acrobat/online/pdf-to-excel.html to convert\n",
    "# Table S1 (p. 23) from https://www.embopress.org/action/downloadSupplement?doi=10.15252%2Fmsb.20209584&file=msb209584-sup-0001-AppendixFig.pdf\n",
    "\n",
    "voigt_bidirectional_terms_tsv = \"\"\"\n",
    "name\tsequence\tTs_forward\tTs_reverse\n",
    "DT3\t\"CCGGCTTATCGGTCAGTTTCACCTGATTTACGTAAAAACCCGCTTCGGCGGGTTTTTGCTTTTGGAGGGGCAGAAAGATGAATGACTGTCCACGACGCTATACCCAAAAGAAAAAAAAAAAACCCCGCCCCTGACAGGGCGGGGTTTTTTTT\"\t\t3000\t\t\t\t120\t\t\n",
    "DT5\t\"TCCGGCAATTAAAAAAGCGGCTAACCACGCCGCTTTTTTTACGTCTGCACTCGGTACCAAATTCCAGAAAAGAGGCCTCCCGAAAGGGGGGCCTTTTTTCGTTTTGGTCC\"\t\t4700\t\t\t\t50\t\t\n",
    "DT19\tTTCAGCCAAAAAACTTAAGACCGCCGGTCTTGTCCACTACCTTGCAGTAATGCGGTGGACAGGATCGGCGGTTTTCTTTTCTCTTCTCAACTCGGTACCAAAGACGAACAATAAGACGCTGAAAAGCGTCTTTTTTCGTTTTGGTCC\t770\t\t\t\t1.2\t\t\t\n",
    "DT34\tGCTGATGCCAGAAAGGGTCCTGAATTTCAGGGCCCTTTTTTTACATGGATTGCTCGGTACCAAATTCCAGAAAAGAGACGCTTTCGAGCGTCTTTTTTCGTTTTGGTCC\t570\t\t\t\t1.4\t\t\t\n",
    "DT36\tGATCTAACTAAAAAGGCCGCTCTGCGGCCTTTTTTCTTTTCACTGTAACAACGGAAACCGGCCATTGCGCCGGTTTTTTTTGGCCT\t680\t\t\t\t3.2\t\t\t\n",
    "DT42\t\"AGTTAACCAAAAAGGGGGGATTTTATCTCCCCTTTAATTTTTCCTCGCAGATAGCAAAAAAGCGCCTTTAGGGCGCTTTTTTACATTG\n",
    "GTGG\"\t2500\t\t\t\t2.2\t\t\t\n",
    "DT54\t\"GGAAACACAGAAAAAAGCCCGCACCTGACAGTGCGGGCTTTTTTTTTCGACCAAAGGCTCGGTACCAAATTCCAGAAAAGACACCCGAAAGGGTGTTTTTTCGTTTTGGTCC\"\t\t1800\t\t\t\t30\t\t\n",
    "DT56\tTACCACCGTCAAAAAAAACGGCGCTTTTTAGCGCCGTTTTTATTTTTCAACCTTCCAGGCATCAAATAAAACGAAAGGCTCAGTCGAAAGACTGGGCCTTTCGTTTTATCTGTTGTTTGTCGGTGAACGCTCTC\t240\t\t\t\t11\t\t\t\n",
    "DT60\tACATTTAATAAAAAAAGGGCGGTCGCAAGATCGCCCTTTTTTACGTATGACACAGTGAAAAATGGCGCCCATCGGCGCCATTTTTTTATG\t110\t\t\t\t29\t\t\t\n",
    "DT65\tTGCTCGTACCAGGCCCCTGCAATTTCAACAGGGGCCTTTTTTTATCCAATTCCATCGGGTCCGAATTTTCGGACCTTTTCTCCGC\t400\t\t\t\t1.0\t\t\t\n",
    "DT82\t\"CTTATTCCATAACAAAGCCGGGTAATTCCCGGCTTTGTTGTATCTGAACAATAAATGGATGCCCTGCGTAAGCGGGGCATTTTTCTTCCT\"\t170\t\t\t\t2.8\t\t\t\n",
    "DT83\tAGCGTCAAAAGGCCGGATTTTCCGGCCTTTTTTATTAGGCAGCATGCTGCCAGGTGATCCCCCTGGCCACCTCTTTT\t600\t\t\t\t4.4\t\t\t\n",
    "DT86\tTAATCATTCTTAGCGTGACCGGGAAGTCGGTCACGCTACCTCTTCTGAAGAAACAGCAAACAATCCAAAACGCCGCGTTCAGCGGCGTTTTTTCTGCTTTTCT\t210\t\t\t\t0.4\t\t\t\n",
    "DT100\t\"GTGAAGTGAAAAATGGCGCACATTGTGCGCCATTTTTTTTGTCTGCCGTTTACCGCTTCTCTGAAAATCAACGGGCAGGTCACTGACTTGCCCGTTTTTTTATCCCTTCTCCACACCG\"\t4700\t\t\t\t12\t\t\t\n",
    "DT101\t\"TCTTTAAAAAGAAACCTCCGCATTGCGGAGGTTTCGCCTTTTGATACTCTGTCTGAAGTAATTCTTGCCGCAGTGAAAAATGGCGCCCATCGGCGCCATTTTTTTATGCTTCCATTAGAAAGCAAAAAGCCTGCTAGAAAGCAGGCTTTTTTGAATTTGGCTCCTCTGAC\"\t\t2800\t\t\t\t160\t\t\n",
    "DT103\t\"AAAGTTCTGAAAAAGGGTCACTTCGGTGGCCCTTTTTTATCGCCACGGTTTGAGCAGTGCACTTGCTTAAAATCCCGCCAGCGGCGGGATTTTTTATTGTCCGGTTTAAGACA\"\t790\t\t\t\t4.0\t\t\t\n",
    "DT104\t\"GCAGACAAAAAAAATGGCGCACAATGTGCGCCATTTTTCACTTCACAGGTACTATTGTTTTGAATTGAAAAGGGCGCTTCGGCGCCCTTTTTGCATTTGTTGACGGCATATATTTGTATATCGAAGCGCCCTGATGGGCGCTTTTTTTATTTAATCGATAACCAGA\"\t\t580\t\t\t\t101\t\t\n",
    "\"\"\"\n",
    "\n",
    "import io\n",
    "\n",
    "voigt_bidirectional_terms = pd.read_csv(\n",
    "    io.StringIO(voigt_bidirectional_terms_tsv), sep=\"\\s+\", index_col=0\n",
    ")"
   ]
  },
  {
   "cell_type": "markdown",
   "id": "15",
   "metadata": {},
   "source": [
    "## 2019 Hudson"
   ]
  },
  {
   "cell_type": "code",
   "execution_count": null,
   "id": "16",
   "metadata": {},
   "outputs": [],
   "source": [
    "!mkdir -p data/2019hudson_supp\n",
    "!curl -b does_not_exist -Lo data/2019hudson_supp.zip \"https://oup.silverchair-cdn.com/oup/backfile/Content_public/Journal/synbio/4/1/10.1093_synbio_ysz026/2/ysz026_supplementary_data.zip?Expires=1625620668&Signature=ce7~qRkVxcwAzjs98YDSNU03XBjhxBoyL6Mr2RsQEordmOg8N8Fh5u0trhiAxYSZtzbF~U~x2DjUG5dEYLjtMiF-YTejDIOMqtPdmVd6-n4WK5wn02j8JS3whJt57SL6fCAYAlcBiVKPyPH-tTyctP84SK6v8~zjS07hmob6LY-MmBt-XDgaTMiks6Pqkw3yUfnaUZP4IbXnO0Nt~p5uFlE~iStyoaTz~Y4uGvLSjcA2YUmiCvUVQOlNVcXwPMpHkot6CnD0~ZhKMxE8w4dYhGs4DJk2xsrecIfKHS1WCWzyd6N20lAB43hHQNQEKr61oNSazYD9rCRfGIckt5Uepg__&Key-Pair-Id=APKAIE5G5CRDK6RD3PGA\""
   ]
  },
  {
   "cell_type": "code",
   "execution_count": null,
   "id": "17",
   "metadata": {},
   "outputs": [],
   "source": [
    "with ZipFile(\"data/2019hudson_supp.zip\") as zip:\n",
    "    with zip.open(\n",
    "        \"Supplemental Table 3A - TermSeq FACS Binning Data_allover200reads.csv\"\n",
    "    ) as f:\n",
    "        hudson_terminators = pd.read_csv(\n",
    "            f, header=[2], thousands=\",\", na_values=[\"#DIV/0!\"]\n",
    "        )\n",
    "hudson_terminators.loc[pd.isnull(hudson_terminators[\"Ave TS\"]), \"Ave TS\"] = np.inf\n",
    "for col in (\"Ave\", \"SD\", \"CI (95% CL)\"):\n",
    "    hudson_terminators[col] = (\n",
    "        pd.to_numeric(hudson_terminators[col].str.rstrip(\"%\")) / 100\n",
    "    )\n",
    "hudson_terminators.rename(\n",
    "    {\"Terminator Sequence (5' to 3')\": \"Sequence\"}, axis=1, inplace=True\n",
    ")\n",
    "hudson_terminators[\"Sequence_rev\"] = hudson_terminators[\"Sequence\"].map(\n",
    "    lambda x: str(sequence.reverse_complement(x))\n",
    ")\n",
    "hudson_terminators = hudson_terminators.join(\n",
    "    hudson_terminators[\n",
    "        [\"Sequence\", \"Ave TS\", \"Ave\", \"SD\", \"SD/AVE\", \"Term ID\"]\n",
    "    ].set_index(\"Sequence\"),\n",
    "    on=\"Sequence_rev\",\n",
    "    rsuffix=\"_rev\",\n",
    ")\n",
    "hudson_terminators[\"Ave TS_min\"] = hudson_terminators[[\"Ave TS\", \"Ave TS_rev\"]].min(\n",
    "    axis=1\n",
    ")\n",
    "hudson_terminators[\"Ave_min\"] = hudson_terminators[[\"Ave\", \"Ave_rev\"]].min(axis=1)\n",
    "hudson_terminators = hudson_terminators[\n",
    "    pd.isnull(hudson_terminators[\"Ave_rev\"])\n",
    "    | (hudson_terminators[\"Ave\"] >= hudson_terminators[\"Ave_rev\"])\n",
    "    | (\n",
    "        (np.isinf(hudson_terminators[\"Ave\"]))\n",
    "        & (hudson_terminators[\"Term ID\"] >= hudson_terminators[\"Term ID_rev\"])\n",
    "    )\n",
    "].copy()\n",
    "hudson_terminators.set_index(\"Term ID\", inplace=True)"
   ]
  },
  {
   "cell_type": "markdown",
   "id": "18",
   "metadata": {},
   "source": [
    "# Functions"
   ]
  },
  {
   "cell_type": "code",
   "execution_count": null,
   "id": "19",
   "metadata": {},
   "outputs": [],
   "source": [
    "from itertools import chain\n",
    "\n",
    "\n",
    "def align(a, b):\n",
    "    a = a.lower()\n",
    "    b = b.lower()\n",
    "    # return pairwise2.align.localxs(a, b, -0.5, -0.5)\n",
    "    return pairwise2.align.localms(a, b, 1, -0.5, -0.5, -0.5)\n",
    "\n",
    "\n",
    "def align_score(a, b):\n",
    "    alignments = align(a, b)\n",
    "    if not len(alignments):\n",
    "        return 0\n",
    "    else:\n",
    "        return alignments[0].score\n",
    "\n",
    "\n",
    "def show_alignment(a, b):\n",
    "    print(pairwise2.format_alignment(*align(a, b)[0], full_sequences=True))\n",
    "\n",
    "\n",
    "def homology(a, b):\n",
    "    b_rc = str(sequence.reverse_complement(b))\n",
    "    forward = align_score(a, b)\n",
    "    reverse = align_score(a, b_rc)\n",
    "    return max(forward, reverse)\n",
    "\n",
    "\n",
    "def min_length(a, b):\n",
    "    return min(len(a), len(b))\n",
    "\n",
    "\n",
    "def similarity(a, b):\n",
    "    return homology(a, b) / min_length(a, b)\n",
    "\n",
    "\n",
    "def map_pairwise(func, xs, ys):\n",
    "    mat = np.zeros((len(xs), len(ys)))\n",
    "    if xs.equals(ys):\n",
    "        for i in range(len(xs)):\n",
    "            for j in range(i):\n",
    "                mat[i, j] = mat[j, i] = func(xs[i], ys[j])\n",
    "    else:\n",
    "        for i in range(len(xs)):\n",
    "            for j in range(len(ys)):\n",
    "                mat[i, j] = func(xs[i], ys[j])\n",
    "    return pd.DataFrame(mat, index=xs.index, columns=ys.index)\n",
    "\n",
    "\n",
    "]def show_heatmap(df):\n",
    "    with pd.option_context(\n",
    "        \"display.max_rows\", None, \"display.max_columns\", None\n",
    "    ):  # more options can be specified also\n",
    "        display(df.style.background_gradient(cmap=\"RdPu\", axis=None))\n",
    "\n",
    "\n",
    "def get_terminator(terminators, names):\n",
    "    seq = \"\"\n",
    "    for name in names:\n",
    "        if name.endswith(\"_r\"):\n",
    "            seq += str(sequence.reverse_complement(terminators.loc[name[:-2]]))\n",
    "        else:\n",
    "            seq += terminators.loc[name]\n",
    "    return seq\n",
    "\n",
    "\n",
    "def get_nonrepetitive(\n",
    "    similarity_func,\n",
    "    max_similarity,\n",
    "    candidates,\n",
    "    others,\n",
    "    num,\n",
    "    enzymes=[],\n",
    "    blacklist=[],\n",
    "):\n",
    "    accepted = []\n",
    "    accepted_keys = []\n",
    "    idx = 0\n",
    "    for i in range(num):\n",
    "        while idx < len(candidates):\n",
    "            if candidates.index[idx] in blacklist:\n",
    "                idx += 1\n",
    "                continue\n",
    "            candidate = candidates.iloc[idx]\n",
    "            if any(enzyme.re_search(candidate, enz) for enz in enzymes):\n",
    "                idx += 1\n",
    "                continue\n",
    "            if not len(accepted) and not len(others):\n",
    "                similarity = 0\n",
    "            else:\n",
    "                similarity = max(\n",
    "                    similarity_func(candidate, seq) for seq in chain(accepted, others)\n",
    "                )\n",
    "            if similarity <= max_similarity:\n",
    "                accepted.append(candidate)\n",
    "                accepted_keys.append(candidates.index[idx])\n",
    "                break\n",
    "            idx += 1\n",
    "        else:\n",
    "            raise ValueError(f\"ran out of candidates after accepting {i}\")\n",
    "    series = pd.Series(accepted, name=candidates.name, index=accepted_keys)\n",
    "    series.index.name = candidates.index.name\n",
    "    return series\n",
    "\n",
    "\n",
    "def assemble_terminators(spec, parts):\n",
    "    parts_per_assembly = sum(s[0] for s in spec)\n",
    "    num_assemblies = len(parts) // parts_per_assembly\n",
    "    assemblies = []\n",
    "    for i in range(num_assemblies):\n",
    "        assembly = list(\n",
    "            parts[i : i + num_assemblies * parts_per_assembly : num_assemblies]\n",
    "        )\n",
    "        idx = 0\n",
    "        for count, is_reversed in spec:\n",
    "            for _ in range(count):\n",
    "                if is_reversed:\n",
    "                    assembly[idx] = f\"{assembly[idx]}_r\"\n",
    "                idx += 1\n",
    "        assemblies.append(assembly)\n",
    "    return assemblies"
   ]
  },
  {
   "cell_type": "markdown",
   "id": "20",
   "metadata": {},
   "source": [
    "# Voigt bidirectional terms"
   ]
  },
  {
   "cell_type": "code",
   "execution_count": null,
   "id": "21",
   "metadata": {},
   "outputs": [],
   "source": [
    "selected_bidirectional_terms = voigt_bidirectional_terms[\n",
    "    voigt_bidirectional_terms[\"Ts_reverse\"] >= 10\n",
    "]"
   ]
  },
  {
   "cell_type": "code",
   "execution_count": null,
   "id": "22",
   "metadata": {},
   "outputs": [],
   "source": [
    "selected_bidirectional_terms"
   ]
  },
  {
   "cell_type": "markdown",
   "id": "23",
   "metadata": {},
   "source": [
    "# Hudson bidirectional terms"
   ]
  },
  {
   "cell_type": "code",
   "execution_count": null,
   "id": "24",
   "metadata": {},
   "outputs": [],
   "source": [
    "hudson_bidirectional = hudson_terminators[\n",
    "    ~pd.isnull(hudson_terminators[\"Ave TS_rev\"])\n",
    "].copy()\n",
    "hudson_bidirectional.sort_values(\"Ave_min\", ascending=False, inplace=True)"
   ]
  },
  {
   "cell_type": "code",
   "execution_count": null,
   "id": "25",
   "metadata": {},
   "outputs": [],
   "source": [
    "hudson_bidirectional"
   ]
  },
  {
   "cell_type": "code",
   "execution_count": null,
   "id": "26",
   "metadata": {},
   "outputs": [],
   "source": [
    "hudson_bidirectional.plot.scatter(\"Ave TS\", \"Ave TS_rev\")"
   ]
  },
  {
   "cell_type": "code",
   "execution_count": null,
   "id": "27",
   "metadata": {},
   "outputs": [],
   "source": [
    "hudson_bidirectional[hudson_bidirectional[\"Ave_min\"] > 0.995].plot.scatter(\n",
    "    \"Ave\", \"Ave_rev\"\n",
    ")"
   ]
  },
  {
   "cell_type": "code",
   "execution_count": null,
   "id": "28",
   "metadata": {},
   "outputs": [],
   "source": [
    "plt.scatter(hudson_bidirectional[\"Ave TS\"], np.log10(1 - hudson_bidirectional[\"Ave\"]))"
   ]
  },
  {
   "cell_type": "code",
   "execution_count": null,
   "id": "29",
   "metadata": {},
   "outputs": [],
   "source": [
    "%%time\n",
    "hudson_sim = map_pairwise(\n",
    "    similarity, hudson_bidirectional[\"Sequence\"], hudson_bidirectional[\"Sequence\"]\n",
    ")"
   ]
  },
  {
   "cell_type": "code",
   "execution_count": null,
   "id": "30",
   "metadata": {},
   "outputs": [],
   "source": [
    "%%time\n",
    "selected_hudson = get_nonrepetitive(\n",
    "    similarity, 0.7, hudson_bidirectional[\"Sequence\"], [], 2\n",
    ")"
   ]
  },
  {
   "cell_type": "code",
   "execution_count": null,
   "id": "31",
   "metadata": {},
   "outputs": [],
   "source": [
    "selected_hudson"
   ]
  },
  {
   "cell_type": "code",
   "execution_count": null,
   "id": "32",
   "metadata": {},
   "outputs": [],
   "source": [
    "hudson_bidirectional.loc[[\"T799\", \"T97\", \"T540\"]]"
   ]
  },
  {
   "cell_type": "code",
   "execution_count": null,
   "id": "33",
   "metadata": {},
   "outputs": [],
   "source": [
    "olib = reg[(\"oLIB\", \"oligos\")]\n",
    "olt = reg[(\"oLT\", \"oligos\")]"
   ]
  },
  {
   "cell_type": "code",
   "execution_count": null,
   "id": "34",
   "metadata": {},
   "outputs": [],
   "source": [
    "backbone_flanks = {\n",
    "    \"upstream\": (\n",
    "        sequence.reverse_complement(olib[\"oLIB179\"][\"Sequence\"]),\n",
    "        olib[\"oLIB180\"][\"Sequence\"],\n",
    "    ),\n",
    "    \"downstream\": (\n",
    "        sequence.reverse_complement(olib[\"oLIB181\"][\"Sequence\"]),\n",
    "        olib[\"oLIB182\"][\"Sequence\"],\n",
    "    ),\n",
    "}\n",
    "\n",
    "backbone_insulation_terminators = {\n",
    "    \"upstream\": \"T97\",\n",
    "    \"downstream\": \"T540\",\n",
    "}"
   ]
  },
  {
   "cell_type": "code",
   "execution_count": null,
   "id": "35",
   "metadata": {},
   "outputs": [],
   "source": [
    "date = datetime.now().strftime(\"%-m/%-d/%Y\")\n",
    "\n",
    "base_row = {\n",
    "    \"Author\": \"Jacob Quinn Shenker\",\n",
    "    \"Vendor\": \"IDT\",\n",
    "    \"Type\": \"Primer\",\n",
    "    \"Date\": date,\n",
    "    \"Order date\": date,\n",
    "}\n",
    "\n",
    "rows = []\n",
    "\n",
    "for orientation, terminator in backbone_insulation_terminators.items():\n",
    "    seq = hudson_bidirectional.loc[terminator, \"Sequence\"]\n",
    "    if orientation == \"upstream\":\n",
    "        seq = sequence.reverse_complement(seq)\n",
    "    seq = workflow.add_flanks(seq, [backbone_flanks[orientation]])\n",
    "    for antisense in (False, True):\n",
    "        if antisense:\n",
    "            oligo_seq = sequence.reverse_complement(seq)\n",
    "        else:\n",
    "            oligo_seq = seq\n",
    "        oligo_seq = str(oligo_seq)\n",
    "        sense_str = \"antisense\" if antisense else \"sense\"\n",
    "        name = f\"JUMP_{orientation}_{terminator}_{sense_str}\"\n",
    "        term = hudson_bidirectional.loc[terminator]\n",
    "        description = \"2019 Hudson terminator {sense_str} oligo.\\nTerminator efficiency: {te:.4f} / {te_rev:.4f} (reverse)\\nTerminator strength (TS): {ts:.0f} / {ts_rev:.0f} (reverse)\".format(\n",
    "            sense_str=sense_str,\n",
    "            te=term[\"Ave\"],\n",
    "            te_rev=term[\"Ave_rev\"],\n",
    "            ts=term[\"Ave TS\"],\n",
    "            ts_rev=term[\"Ave TS_rev\"],\n",
    "        )\n",
    "        row = {\n",
    "            \"Name\": name,\n",
    "            \"Sequence\": oligo_seq,\n",
    "            \"Description\": description,\n",
    "            **base_row,\n",
    "        }\n",
    "        rows.append(row)\n",
    "\n",
    "for row in rows:\n",
    "    olt[olt.next_id()] = row"
   ]
  },
  {
   "cell_type": "code",
   "execution_count": null,
   "id": "36",
   "metadata": {},
   "outputs": [],
   "source": [
    "olt.save()"
   ]
  },
  {
   "cell_type": "code",
   "execution_count": null,
   "id": "37",
   "metadata": {},
   "outputs": [],
   "source": [
    "rows"
   ]
  },
  {
   "cell_type": "code",
   "execution_count": null,
   "id": "38",
   "metadata": {},
   "outputs": [],
   "source": [
    "print(rows[-1][\"Description\"])"
   ]
  },
  {
   "cell_type": "code",
   "execution_count": null,
   "id": "39",
   "metadata": {},
   "outputs": [],
   "source": [
    "str(upstream_backbone_insulation)"
   ]
  },
  {
   "cell_type": "code",
   "execution_count": null,
   "id": "40",
   "metadata": {},
   "outputs": [],
   "source": [
    "str(downstream_backbone_insulation)"
   ]
  },
  {
   "cell_type": "code",
   "execution_count": null,
   "id": "41",
   "metadata": {},
   "outputs": [],
   "source": [
    "hudson_bidirectional[[\"Ave TS\", \"Ave TS_rev\"]][:20]"
   ]
  },
  {
   "cell_type": "code",
   "execution_count": null,
   "id": "42",
   "metadata": {},
   "outputs": [],
   "source": [
    "show_heatmap(hudson_sim)"
   ]
  },
  {
   "cell_type": "markdown",
   "id": "43",
   "metadata": {},
   "source": [
    "# Two forward+two reversed terminator (2r2) backbone insulation"
   ]
  },
  {
   "cell_type": "code",
   "execution_count": null,
   "id": "44",
   "metadata": {},
   "outputs": [],
   "source": [
    "plt.scatter(synthetic_terminators[\"Average Strength\"], synthetic_terminators[\"Length\"])\n",
    "plt.scatter(natural_terminators[\"Average Strength\"], natural_terminators[\"Length\"])"
   ]
  },
  {
   "cell_type": "code",
   "execution_count": null,
   "id": "45",
   "metadata": {},
   "outputs": [],
   "source": [
    "all_terminators = pd.concat((synthetic_terminators, natural_terminators))\n",
    "strong_all = all_terminators.sort_values(\"Average Strength\", ascending=False)[\n",
    "    [\"Average Strength\", \"Length\", \"Sequence\"]\n",
    "][:80]\n",
    "strong_all[-20:]"
   ]
  },
  {
   "cell_type": "code",
   "execution_count": null,
   "id": "46",
   "metadata": {},
   "outputs": [],
   "source": [
    "strong_all_with_dts = pd.concat(\n",
    "    (strong_all[\"Sequence\"], selected_bidirectional_terms[\"sequence\"])\n",
    ")"
   ]
  },
  {
   "cell_type": "code",
   "execution_count": null,
   "id": "47",
   "metadata": {},
   "outputs": [],
   "source": [
    "%%time\n",
    "strong_all_sim = map_pairwise(similarity, strong_all_with_dts, strong_all_with_dts)"
   ]
  },
  {
   "cell_type": "code",
   "execution_count": null,
   "id": "48",
   "metadata": {},
   "outputs": [],
   "source": [
    "ENZYMES = (Restriction.BsaI, Restriction.BsmBI, Restriction.BbsI, Restriction.AarI)"
   ]
  },
  {
   "cell_type": "code",
   "execution_count": null,
   "id": "49",
   "metadata": {},
   "outputs": [],
   "source": [
    "%%time\n",
    "insulation_pool_6 = get_nonrepetitive(\n",
    "    similarity,\n",
    "    0.5,\n",
    "    natural_terminators[\"Sequence\"],\n",
    "    selected_bidirectional_terms[\"sequence\"],\n",
    "    6,\n",
    "    enzymes=ENZYMES,\n",
    ")"
   ]
  },
  {
   "cell_type": "code",
   "execution_count": null,
   "id": "50",
   "metadata": {},
   "outputs": [],
   "source": [
    "insulation_pool_6"
   ]
  },
  {
   "cell_type": "code",
   "execution_count": null,
   "id": "51",
   "metadata": {},
   "outputs": [],
   "source": [
    "strong_all.loc[\"L3S3P00\"]"
   ]
  },
  {
   "cell_type": "code",
   "execution_count": null,
   "id": "52",
   "metadata": {},
   "outputs": [],
   "source": [
    "strong_all.loc[\"ECK120010799\"]"
   ]
  },
  {
   "cell_type": "code",
   "execution_count": null,
   "id": "53",
   "metadata": {},
   "outputs": [],
   "source": [
    "strong_all.loc[\"ECK120010858-R\"]"
   ]
  },
  {
   "cell_type": "code",
   "execution_count": null,
   "id": "54",
   "metadata": {},
   "outputs": [],
   "source": [
    "strong_all.loc[\"BBa_B0062-R\"]"
   ]
  },
  {
   "cell_type": "code",
   "execution_count": null,
   "id": "55",
   "metadata": {},
   "outputs": [],
   "source": [
    "strong_all.loc[\"ECK120010869\"]"
   ]
  },
  {
   "cell_type": "code",
   "execution_count": null,
   "id": "56",
   "metadata": {},
   "outputs": [],
   "source": [
    "%%time\n",
    "insulation_pool_8 = get_nonrepetitive(\n",
    "    similarity,\n",
    "    0.7,\n",
    "    natural_terminators[\"Sequence\"],\n",
    "    selected_bidirectional_terms[\"sequence\"],\n",
    "    8,\n",
    "    enzymes=ENZYMES,\n",
    "    blacklist=[\"BBa_B0010\", \"pheA-1\"],  # IDT seems unable to make pheA-1 as a gBlock\n",
    ")"
   ]
  },
  {
   "cell_type": "code",
   "execution_count": null,
   "id": "57",
   "metadata": {},
   "outputs": [],
   "source": [
    "insulation_pool_8"
   ]
  },
  {
   "cell_type": "code",
   "execution_count": null,
   "id": "58",
   "metadata": {},
   "outputs": [],
   "source": [
    "show_heatmap(strong_all_sim[[\"pheA-1\", \"ECK120015440\", \"ECK120010799\", \"ECK120010855\"]])"
   ]
  },
  {
   "cell_type": "code",
   "execution_count": null,
   "id": "59",
   "metadata": {},
   "outputs": [],
   "source": [
    "show_heatmap(\n",
    "    strong_all_sim[[\"ECK120029600\", \"ECK120033736\", \"BBa_B0062-R\", \"ECK120010869\"]]\n",
    ")"
   ]
  },
  {
   "cell_type": "code",
   "execution_count": null,
   "id": "60",
   "metadata": {},
   "outputs": [],
   "source": [
    "show_heatmap(strong_all_sim)"
   ]
  },
  {
   "cell_type": "code",
   "execution_count": null,
   "id": "61",
   "metadata": {},
   "outputs": [],
   "source": [
    "natural_terminators[\"Sequence\"]  # [:100]"
   ]
  },
  {
   "cell_type": "code",
   "execution_count": null,
   "id": "62",
   "metadata": {},
   "outputs": [],
   "source": [
    "%%time\n",
    "insulation_pool_4 = get_nonrepetitive(\n",
    "    similarity,\n",
    "    0.7,\n",
    "    natural_terminators[\"Sequence\"],\n",
    "    selected_bidirectional_terms[\"sequence\"],\n",
    "    4,\n",
    "    enzymes=ENZYMES,\n",
    "    # BBa_B0010 is already a double-term\n",
    "    # IDT seems unable to make pheA-1 as a gBlock\n",
    "    # last four are from oLT75 (which was synthesized successfully)\n",
    "    blacklist=[\n",
    "        \"BBa_B0010\",\n",
    "        \"pheA-1\",\n",
    "        \"ECK120029600\",\n",
    "        \"ECK120033736\",\n",
    "        \"BBa_B0062-R\",\n",
    "        \"ECK120010869\",\n",
    "    ],\n",
    ")"
   ]
  },
  {
   "cell_type": "code",
   "execution_count": null,
   "id": "63",
   "metadata": {},
   "outputs": [],
   "source": [
    "insulation_pool_4"
   ]
  },
  {
   "cell_type": "code",
   "execution_count": null,
   "id": "64",
   "metadata": {},
   "outputs": [],
   "source": [
    "strong_all.loc[\"ECK120017009\"]"
   ]
  },
  {
   "cell_type": "code",
   "execution_count": null,
   "id": "65",
   "metadata": {},
   "outputs": [],
   "source": [
    "backbone_insulation_2r2 = assemble_terminators(\n",
    "    ((2, False), (2, True)), insulation_pool_8.index\n",
    ")\n",
    "\n",
    "# want (slightly) stronger terms downstream (to insulate repA in pSC101)\n",
    "\n",
    "backbone_insulation_2r2 = {\n",
    "    \"upstream\": backbone_insulation_2r2[1],\n",
    "    \"downstream\": backbone_insulation_2r2[0],\n",
    "}"
   ]
  },
  {
   "cell_type": "code",
   "execution_count": null,
   "id": "66",
   "metadata": {},
   "outputs": [],
   "source": [
    "backbone_insulation_2r2"
   ]
  },
  {
   "cell_type": "code",
   "execution_count": null,
   "id": "67",
   "metadata": {},
   "outputs": [],
   "source": [
    "# backbone_insulation_2r2 = {\n",
    "#     #\"upstream\": [\"ECK120029600\", \"ECK120033736\", \"ECK120010799_r\", \"BBa_B0062-R_r\"],\n",
    "#     \"upstream\": [\"pheA-1\", \"ECK120029600\", \"ECK120015440\", \"ECK120010799_r\"],\n",
    "#     \"downstream\": [\"ECK120029600\", \"ECK120010858-R\", \"ECK120015440\",\"ECK120010799_r\"],\n",
    "# }"
   ]
  },
  {
   "cell_type": "code",
   "execution_count": null,
   "id": "68",
   "metadata": {},
   "outputs": [],
   "source": [
    "olib = reg[(\"oLIB\", \"oligos\")]\n",
    "olt = reg[(\"oLT\", \"oligos\")]"
   ]
  },
  {
   "cell_type": "code",
   "execution_count": null,
   "id": "69",
   "metadata": {},
   "outputs": [],
   "source": [
    "olt.clear_cache()"
   ]
  },
  {
   "cell_type": "code",
   "execution_count": null,
   "id": "70",
   "metadata": {},
   "outputs": [],
   "source": [
    "backbone_flanks = {\n",
    "    \"upstream\": (\n",
    "        sequence.reverse_complement(olib[\"oLIB179\"][\"Sequence\"]),\n",
    "        olib[\"oLIB180\"][\"Sequence\"],\n",
    "    ),\n",
    "    \"downstream\": (\n",
    "        sequence.reverse_complement(olib[\"oLIB181\"][\"Sequence\"]),\n",
    "        olib[\"oLIB182\"][\"Sequence\"],\n",
    "    ),\n",
    "}"
   ]
  },
  {
   "cell_type": "code",
   "execution_count": null,
   "id": "71",
   "metadata": {},
   "outputs": [],
   "source": [
    "date = datetime.now().strftime(\"%-m/%-d/%Y\")\n",
    "\n",
    "base_row = {\n",
    "    \"Author\": \"Jacob Quinn Shenker\",\n",
    "    \"Vendor\": \"IDT\",\n",
    "    \"Type\": \"IDT gBlock\",\n",
    "    \"Date\": date,\n",
    "    \"Order date\": date,\n",
    "}\n",
    "\n",
    "rows = []\n",
    "\n",
    "\n",
    "def strip(s, suffix):\n",
    "    if s.endswith(suffix):\n",
    "        return s[: -len(suffix)]\n",
    "    else:\n",
    "        return s\n",
    "\n",
    "\n",
    "for orientation, terms in backbone_insulation_2r2.items():\n",
    "    seq = get_terminator(natural_terminators[\"Sequence\"], terms)\n",
    "    if orientation == \"upstream\":\n",
    "        seq = sequence.reverse_complement(seq)\n",
    "    seq = workflow.add_flanks(seq, [backbone_flanks[orientation]])\n",
    "    oligo_seq = str(seq)\n",
    "    name = f\"JUMP_{orientation}_2r2\"\n",
    "    description = \"Two forward terminators concatenated with two reverse terminators (no spacers, all taken from 2013 Chen et al.).\\nTerminators: {terms}\\nTerminator strength (TS): {ts}\".format(\n",
    "        terms=\" / \".join(terms),\n",
    "        ts=\" / \".join(\n",
    "            [\n",
    "                \"{:.0f}\".format(\n",
    "                    natural_terminators.loc[strip(term, \"_r\"), \"Average Strength\"]\n",
    "                )\n",
    "                for term in terms\n",
    "            ]\n",
    "        ),\n",
    "    )\n",
    "    row = {\n",
    "        \"Name\": name,\n",
    "        \"Sequence\": oligo_seq,\n",
    "        \"Description\": description,\n",
    "        **base_row,\n",
    "    }\n",
    "    rows.append(row)"
   ]
  },
  {
   "cell_type": "code",
   "execution_count": null,
   "id": "72",
   "metadata": {},
   "outputs": [],
   "source": [
    "for row in rows:\n",
    "    olt[olt.next_id()] = row"
   ]
  },
  {
   "cell_type": "code",
   "execution_count": null,
   "id": "73",
   "metadata": {},
   "outputs": [],
   "source": [
    "for enz in (Restriction.BsaI, Restriction.BsmBI, Restriction.BbsI, Restriction.AarI):\n",
    "    for olt_num in range(70, 76):\n",
    "        cuts = enzyme.re_search(olt[f\"oLT{olt_num}\"][\"Sequence\"], enz)\n",
    "        if cuts:\n",
    "            print(\"!!!\", olt_num, enz, cuts)"
   ]
  },
  {
   "cell_type": "code",
   "execution_count": null,
   "id": "74",
   "metadata": {},
   "outputs": [],
   "source": [
    "olt.save()"
   ]
  },
  {
   "cell_type": "code",
   "execution_count": null,
   "id": "75",
   "metadata": {},
   "outputs": [],
   "source": [
    "rows"
   ]
  },
  {
   "cell_type": "code",
   "execution_count": null,
   "id": "76",
   "metadata": {},
   "outputs": [],
   "source": [
    "print(rows[0][\"Description\"])"
   ]
  },
  {
   "cell_type": "markdown",
   "id": "77",
   "metadata": {},
   "source": [
    "# Similarity"
   ]
  },
  {
   "cell_type": "code",
   "execution_count": null,
   "id": "78",
   "metadata": {},
   "outputs": [],
   "source": [
    "show_alignment(selected_pool[\"L3S1P56\"], selected_pool[\"L3S3P00\"])"
   ]
  },
  {
   "cell_type": "code",
   "execution_count": null,
   "id": "79",
   "metadata": {},
   "outputs": [],
   "source": [
    "show_alignment(selected_pool[\"L3S3P47\"], selected_pool[\"L3S3P00\"])"
   ]
  },
  {
   "cell_type": "code",
   "execution_count": null,
   "id": "80",
   "metadata": {},
   "outputs": [],
   "source": [
    "show_alignment(selected_pool[\"L3S3P47\"], selected_pool[\"L3S3P41\"])"
   ]
  },
  {
   "cell_type": "code",
   "execution_count": null,
   "id": "81",
   "metadata": {},
   "outputs": [],
   "source": [
    "%%time\n",
    "show_heatmap(map_pairwise(similarity, selected_pool, selected_pool))"
   ]
  },
  {
   "cell_type": "code",
   "execution_count": null,
   "id": "82",
   "metadata": {},
   "outputs": [],
   "source": [
    "%%time\n",
    "show_heatmap(map_pairwise(similarity, selected_pool, selected_pool))"
   ]
  },
  {
   "cell_type": "code",
   "execution_count": null,
   "id": "83",
   "metadata": {},
   "outputs": [],
   "source": [
    "show_heatmap(pool_sim)"
   ]
  },
  {
   "cell_type": "code",
   "execution_count": null,
   "id": "84",
   "metadata": {},
   "outputs": [],
   "source": [
    "%%time\n",
    "hmat = map_pairwise(\n",
    "    homology, strong_synthetic[\"Sequence\"], strong_synthetic[\"Sequence\"]\n",
    ")"
   ]
  },
  {
   "cell_type": "code",
   "execution_count": null,
   "id": "85",
   "metadata": {},
   "outputs": [],
   "source": [
    "lengths = map_pairwise(\n",
    "    min_length, synthetic_terminators[\"Sequence\"], selected_terms[\"sequence\"]\n",
    ")\n",
    "nhmat = hmat / lengths"
   ]
  },
  {
   "cell_type": "code",
   "execution_count": null,
   "id": "86",
   "metadata": {},
   "outputs": [],
   "source": [
    "get_terminator(synthetic_terminators[\"Sequence\"], [\"\"])"
   ]
  },
  {
   "cell_type": "code",
   "execution_count": null,
   "id": "87",
   "metadata": {},
   "outputs": [],
   "source": [
    "cm = sns.light_palette(\"orange\", as_cmap=True)\n",
    "with pd.option_context(\n",
    "    \"display.max_rows\", None, \"display.max_columns\", None\n",
    "):  # more options can be specified also\n",
    "    display(nhmat.style.background_gradient(cmap=cm))"
   ]
  },
  {
   "cell_type": "code",
   "execution_count": null,
   "id": "88",
   "metadata": {},
   "outputs": [],
   "source": [
    "a = synthetic_terminators.loc[\"L1U8H11\"][\"Sequence\"]\n",
    "b = selected_terms.loc[\"DT5\"][\"sequence\"]\n",
    "alignments = pairwise2.align.localxs(a, b, -0.5, -0.5)\n",
    "print(pairwise2.format_alignment(*alignments[0]))"
   ]
  },
  {
   "cell_type": "code",
   "execution_count": null,
   "id": "89",
   "metadata": {},
   "outputs": [],
   "source": [
    "a = synthetic_terminators.loc[\"L3S2P21\"][\"Sequence\"]\n",
    "b = selected_terms.loc[\"DT5\"][\"sequence\"]\n",
    "alignments = pairwise2.align.localxs(a, b, -0.5, -0.5)\n",
    "print(pairwise2.format_alignment(*alignments[0], full_sequences=True))"
   ]
  },
  {
   "cell_type": "code",
   "execution_count": null,
   "id": "90",
   "metadata": {},
   "outputs": [],
   "source": [
    "alignments = pairwise2.align.localxs(ts[0], ts[2], -0.5, -0.5)\n",
    "print(pairwise2.format_alignment(*alignments[0]))"
   ]
  },
  {
   "cell_type": "code",
   "execution_count": null,
   "id": "91",
   "metadata": {},
   "outputs": [],
   "source": [
    "alignments = pairwise2.align.localxs(\n",
    "    ts[0], str(sequence.reverse_complement(ts[2])), -0.5, -0.5\n",
    ")\n",
    "print(pairwise2.format_alignment(*alignments[0]))"
   ]
  }
 ],
 "metadata": {
  "kernelspec": {
   "display_name": "Python 3 (ipykernel)",
   "language": "python",
   "name": "python3"
  },
  "language_info": {
   "codemirror_mode": {
    "name": "ipython",
    "version": 3
   },
   "file_extension": ".py",
   "mimetype": "text/x-python",
   "name": "python",
   "nbconvert_exporter": "python",
   "pygments_lexer": "ipython3",
   "version": "3.8.8"
  }
 },
 "nbformat": 4,
 "nbformat_minor": 4
}
