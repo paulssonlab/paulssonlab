{
 "cells": [
  {
   "cell_type": "code",
   "execution_count": null,
   "metadata": {},
   "outputs": [],
   "source": [
    "import numpy as np\n",
    "import pandas as pd\n",
    "import holoviews as hv\n",
    "import hvplot.pandas\n",
    "import matplotlib.pyplot as plt\n",
    "import seaborn as sns\n",
    "import toml\n",
    "import re\n",
    "from zipfile import ZipFile\n",
    "import urllib\n",
    "from datetime import datetime\n",
    "import string\n",
    "import pygsheets\n",
    "import requests\n",
    "from tqdm.auto import tqdm\n",
    "import Bio.Restriction as Restriction\n",
    "from Bio.Seq import Seq\n",
    "from Bio.SeqRecord import SeqRecord\n",
    "import Bio.Entrez as Entrez\n",
    "import benchlingapi"
   ]
  },
  {
   "cell_type": "code",
   "execution_count": null,
   "metadata": {},
   "outputs": [],
   "source": [
    "%load_ext autoreload\n",
    "%autoreload 2"
   ]
  },
  {
   "cell_type": "code",
   "execution_count": null,
   "metadata": {},
   "outputs": [],
   "source": [
    "import paulssonlab.api as api\n",
    "import paulssonlab.api.benchling as bapi\n",
    "from paulssonlab.api.util import base_url\n",
    "import paulssonlab.cloning.registry as registry\n",
    "import paulssonlab.cloning.workflow as workflow\n",
    "import paulssonlab.cloning.design as design\n",
    "import paulssonlab.cloning.sequence as sequence\n",
    "import paulssonlab.cloning.enzyme as enzyme\n",
    "import paulssonlab.cloning.viennarna as viennarna\n",
    "import paulssonlab.cloning.thermodynamics as thermodynamics\n",
    "import paulssonlab.cloning.primers as primers\n",
    "import paulssonlab.cloning.ncbi as ncbi\n",
    "import paulssonlab.cloning.commands.parser as cmd_parser\n",
    "import paulssonlab.cloning.commands.semantics as cmd_semantics"
   ]
  },
  {
   "cell_type": "code",
   "execution_count": null,
   "metadata": {},
   "outputs": [],
   "source": [
    "hv.extension(\"bokeh\")"
   ]
  },
  {
   "cell_type": "markdown",
   "metadata": {},
   "source": [
    "# Setup"
   ]
  },
  {
   "cell_type": "code",
   "execution_count": null,
   "metadata": {},
   "outputs": [],
   "source": [
    "config = toml.load(\"config.toml\")"
   ]
  },
  {
   "cell_type": "code",
   "execution_count": null,
   "metadata": {},
   "outputs": [],
   "source": [
    "gc = pygsheets.authorize(service_account_file=\"credentials.json\")"
   ]
  },
  {
   "cell_type": "code",
   "execution_count": null,
   "metadata": {},
   "outputs": [],
   "source": [
    "bench_session = benchlingapi.Session(config[\"benchling\"][\"api_key\"])\n",
    "benchling_folder = bapi.get_project_root(bench_session, config[\"benchling\"][\"project\"])"
   ]
  },
  {
   "cell_type": "code",
   "execution_count": null,
   "metadata": {},
   "outputs": [],
   "source": [
    "reg = registry.Registry(gc, config[\"registry\"][\"folder\"], benchling_folder)"
   ]
  },
  {
   "cell_type": "markdown",
   "metadata": {},
   "source": [
    "# Config"
   ]
  },
  {
   "cell_type": "code",
   "execution_count": null,
   "metadata": {},
   "outputs": [],
   "source": [
    "plib_plasmids = reg[(\"pLIB\", \"plasmids\")]\n",
    "plib_maps = reg[(\"pLIB\", \"maps\")]\n",
    "lib_parts = reg[(\"LIB\", \"parts\")]\n",
    "part_types = reg[(\"LIB\", \"parts\", \"Part types\")]"
   ]
  },
  {
   "cell_type": "code",
   "execution_count": null,
   "metadata": {},
   "outputs": [],
   "source": [
    "# gg_overhangs = workflow.overhangs_for(part_types[\"CDS_CD\"])\n",
    "degtag_overhangs = workflow.overhangs_for(part_types[\"Deg_tag\"])"
   ]
  },
  {
   "cell_type": "code",
   "execution_count": null,
   "metadata": {},
   "outputs": [],
   "source": [
    "# storage_flanks = (\n",
    "#     lib_parts[\"JUMP_storage_vector_prefix\"][\"Sequence\"],\n",
    "#     lib_parts[\"JUMP_storage_vector_suffix\"][\"Sequence\"],\n",
    "# )"
   ]
  },
  {
   "cell_type": "code",
   "execution_count": null,
   "metadata": {},
   "outputs": [],
   "source": [
    "# ua_rbs = \"tctagatttaagaaggagatatacat\"\n",
    "# cluzel_cterm = \"atgtccagacctgcaggcatgcaagctctagaggcat\"\n",
    "# flanks = (ua_rbs + \"atg\", \"taa\" + cluzel_cterm)"
   ]
  },
  {
   "cell_type": "markdown",
   "metadata": {},
   "source": [
    "# Deg tags"
   ]
  },
  {
   "cell_type": "markdown",
   "metadata": {},
   "source": [
    "## Data"
   ]
  },
  {
   "cell_type": "code",
   "execution_count": null,
   "metadata": {},
   "outputs": [],
   "source": [
    "# FROM: Andersen, J. B., Sternberg, C., Poulsen, L. K., Bjørn, S. P., Givskov, M., & Molin, S. (1998). New unstable variants of green fluorescent protein for studies of transient gene expression in bacteria. Applied and environmental microbiology, 64(6), 2240-2246.\n",
    "# paper gives reverse-complement sequences\n",
    "tags_wt_rc = {\n",
    "    \"LAA\": \"AGCTGCTAAAGCGTAGTTTTCGTCGTTTGCTGC\",\n",
    "    \"AAV\": \"AACTGCTGCAGCGTAGTTTTCGTCGTTTGCTGC\",\n",
    "    # \"LVA\": \"AGCTACTAAAGCGTAGTTTTCGTCGTTTGCTGC\", # paper implies it behaves similarly to LAA\n",
    "    \"ASV\": \"AACTGATGCAGCGTAGTTTTCGTCGTTTGCTGC\",\n",
    "}\n",
    "tags_wt_rc = {name: Seq(seq) for name, seq in tags_wt_rc.items()}\n",
    "tags_wt = {name: sequence.reverse_complement(seq) for name, seq in tags_wt_rc.items()}"
   ]
  },
  {
   "cell_type": "code",
   "execution_count": null,
   "metadata": {},
   "outputs": [],
   "source": [
    "tags_wt[\"AAV\"].translate()"
   ]
  },
  {
   "cell_type": "code",
   "execution_count": null,
   "metadata": {},
   "outputs": [],
   "source": [
    "tag_normalized = {name: workflow.normalize_seq(seq) for name, seq in tags_wt.items()}\n",
    "tag_prefixes = {\n",
    "    name: seq[: seq.find(upstream_overhang)] for name, seq in tag_normalized.items()\n",
    "}\n",
    "tag_prefixes_list = list(tag_prefixes.values())\n",
    "tag_prefix = tag_prefixes_list[0]\n",
    "assert all(s == tag_prefix for s in tag_prefixes_list)"
   ]
  },
  {
   "cell_type": "code",
   "execution_count": null,
   "metadata": {},
   "outputs": [],
   "source": [
    "tag_suffix = sequence.smoosh_sequences(\n",
    "    workflow.normalize_seq(\"taa\"), degtag_overhangs[1]\n",
    ")"
   ]
  },
  {
   "cell_type": "code",
   "execution_count": null,
   "metadata": {},
   "outputs": [],
   "source": [
    "tag_parts = {name: seq[len(tag_prefix) :] + tag_suffix for name, seq in tags_wt.items()}"
   ]
  },
  {
   "cell_type": "code",
   "execution_count": null,
   "metadata": {},
   "outputs": [],
   "source": [
    "tag_parts"
   ]
  },
  {
   "cell_type": "markdown",
   "metadata": {},
   "source": [
    "## Tags"
   ]
  },
  {
   "cell_type": "code",
   "execution_count": null,
   "metadata": {},
   "outputs": [],
   "source": [
    "head_length = 6 - len(tag_prefix)  # nt\n",
    "tail_length = 9 + len(tag_suffix)  # nt\n",
    "nnk_length = 6  # aa's"
   ]
  },
  {
   "cell_type": "code",
   "execution_count": null,
   "metadata": {},
   "outputs": [],
   "source": [
    "tags = {}\n",
    "for name, seq in tag_parts.items():\n",
    "    tags[f\"degtag_{name}\"] = {\n",
    "        \"Sequence\": seq,\n",
    "        \"Description\": f\"Wild-type {name} ClpXP degradation tag from Andersen 1998.\",\n",
    "    }\n",
    "    assert len(seq) - head_length - tail_length == nnk_length * 3\n",
    "    tags[f\"degtag_{name}_NNK\"] = {\n",
    "        \"Sequence\": seq[:head_length] + \"NNK\" * nnk_length + seq[-tail_length:],\n",
    "        \"Description\": f\"ClpXP degradation tag library with 2x alanines, 6x NNK's, and the {name} tail from Andersen 1998.\",\n",
    "    }"
   ]
  },
  {
   "cell_type": "code",
   "execution_count": null,
   "metadata": {},
   "outputs": [],
   "source": [
    "tags"
   ]
  },
  {
   "cell_type": "code",
   "execution_count": null,
   "metadata": {},
   "outputs": [],
   "source": [
    "# OLIGOS\n",
    "# PARTS"
   ]
  },
  {
   "cell_type": "code",
   "execution_count": null,
   "metadata": {},
   "outputs": [],
   "source": [
    "reference = \"Andersen, J. B., Sternberg, C., Poulsen, L. K., Bjørn, S. P., Givskov, M., & Molin, S. (1998). New unstable variants of green fluorescent protein for studies of transient gene expression in bacteria. Applied and environmental microbiology, 64(6), 2240-2246.\"\n",
    "\n",
    "oligo_base = {\n",
    "    \"Author\": \"Jacob Quinn Shenker\",\n",
    "    \"Date\": workflow.date(),\n",
    "    \"Order date\": workflow.date(),\n",
    "    \"Vendor\": \"IDT\",\n",
    "    \"Type\": \"Primer\",\n",
    "    \"Description\": description,\n",
    "    \"Reference\": reference,\n",
    "}\n",
    "\n",
    "for enzyme_name, flipped, upstream in product(enzymes, (False, True), (False, True)):\n",
    "    base = {}\n",
    "    olt[olt.next_id()] = {\n",
    "        **base,\n",
    "        \"Name\": \"\",\n",
    "        \"Sequence\": seq,\n",
    "        \"Description\": description,\n",
    "    }\n",
    "    print(name, enzyme_name, flipped, unses)"
   ]
  },
  {
   "cell_type": "markdown",
   "metadata": {},
   "source": [
    "## Placeholders"
   ]
  },
  {
   "cell_type": "code",
   "execution_count": null,
   "metadata": {},
   "outputs": [],
   "source": [
    "# part_names = [\"sigW\", \"rsiW\", \"ECF20_992\", \"AS20_992\", \"sfGFP\"]  # TODO: pick correct FPs\n",
    "part_names = [\"sigW\", \"rsiW\"]"
   ]
  },
  {
   "cell_type": "code",
   "execution_count": null,
   "metadata": {},
   "outputs": [],
   "source": [
    "part_seqs = {name: reg.get(name)[\"_seq\"] for name in part_names}"
   ]
  },
  {
   "cell_type": "code",
   "execution_count": null,
   "metadata": {},
   "outputs": [],
   "source": [
    "part_seqs"
   ]
  },
  {
   "cell_type": "code",
   "execution_count": null,
   "metadata": {},
   "outputs": [],
   "source": [
    "part_seq = part_seqs[\"sigW\"]"
   ]
  },
  {
   "cell_type": "code",
   "execution_count": null,
   "metadata": {},
   "outputs": [],
   "source": [
    "workflow.find_coding_sequence(part_seq)"
   ]
  },
  {
   "cell_type": "code",
   "execution_count": null,
   "metadata": {},
   "outputs": [],
   "source": [
    "workflow.get_source_plasmid(reg, lib_parts[\"sigW\"][\"Usage\"])"
   ]
  },
  {
   "cell_type": "code",
   "execution_count": null,
   "metadata": {},
   "outputs": [],
   "source": [
    "reg.get(\"pLIB214\")[\"_seq\"]"
   ]
  },
  {
   "cell_type": "code",
   "execution_count": null,
   "metadata": {},
   "outputs": [],
   "source": [
    "part_name = part_names[0]\n",
    "part = reg.get(part_name)\n",
    "part_seq = part[\"_seq\"]\n",
    "cds_start, cds_stop = workflow.find_coding_sequence(part_seq)\n",
    "# part_seq = part_seq[cds_start:cds_stop]\n",
    "plasmid_name = workflow.get_source_plasmid(reg, part[\"Usage\"])\n",
    "plasmid_seq = reg.get(plasmid_name)[\"_seq\"]\n",
    "part_start, part_stop, _, _ = sequence.find_subsequence(\n",
    "    plasmid_seq, part_seq, min_score=len(part_seq)\n",
    ")\n",
    "start = part_start + cds_start\n",
    "stop = part_stop - (len(part_seq) - cds_stop)"
   ]
  },
  {
   "cell_type": "code",
   "execution_count": null,
   "metadata": {},
   "outputs": [],
   "source": [
    "plasmid_seq_forward = plasmid_seq.reindex(stop)\n",
    "plasmid_seq_reverse = plasmid_seq.reindex(stop).reverse_complement()"
   ]
  },
  {
   "cell_type": "code",
   "execution_count": null,
   "metadata": {},
   "outputs": [],
   "source": [
    "degtag_overhangs"
   ]
  },
  {
   "cell_type": "code",
   "execution_count": null,
   "metadata": {},
   "outputs": [],
   "source": [
    "design.golden_gate_placeholder(Restriction.BsaI, None, *degtag_overhangs)"
   ]
  },
  {
   "cell_type": "code",
   "execution_count": null,
   "metadata": {},
   "outputs": [],
   "source": [
    "placeholder = None"
   ]
  },
  {
   "cell_type": "code",
   "execution_count": null,
   "metadata": {},
   "outputs": [],
   "source": [
    "tm_binding = 60\n",
    "tm_homology = 55\n",
    "homology = next(\n",
    "    primers.iter_primers(\n",
    "        sequence.get_seq(plasmid_seq_reverse), min_tm=tm_homology, anchor_3prime=True\n",
    "    )\n",
    ")\n",
    "reverse_primer = next(\n",
    "    primers.iter_primers(\n",
    "        sequence.get_seq(plasmid_seq_reverse),\n",
    "        min_tm=tm_binding,\n",
    "        min_length=len(homology),\n",
    "        anchor_3prime=True,\n",
    "    )\n",
    ")\n",
    "forward_primer = next(\n",
    "    primers.iter_primers(\n",
    "        sequence.get_seq(plasmid_seq_forward), min_tm=tm_binding, anchor_3prime=True\n",
    "    )\n",
    ")"
   ]
  },
  {
   "cell_type": "code",
   "execution_count": null,
   "metadata": {},
   "outputs": [],
   "source": [
    "homology"
   ]
  },
  {
   "cell_type": "code",
   "execution_count": null,
   "metadata": {},
   "outputs": [],
   "source": [
    "reverse_primer"
   ]
  },
  {
   "cell_type": "code",
   "execution_count": null,
   "metadata": {},
   "outputs": [],
   "source": [
    "plasmid_seq_forward"
   ]
  },
  {
   "cell_type": "code",
   "execution_count": null,
   "metadata": {},
   "outputs": [],
   "source": [
    "plasmid_seq_reverse[::-1][-20:]"
   ]
  },
  {
   "cell_type": "code",
   "execution_count": null,
   "metadata": {},
   "outputs": [],
   "source": [
    "plasmid_seq_reverse.reverse_complement()[-20:]"
   ]
  },
  {
   "cell_type": "code",
   "execution_count": null,
   "metadata": {},
   "outputs": [],
   "source": [
    "next(\n",
    "    primers.iter_primers(\n",
    "        sequence.get_seq(plasmid_seq_forward), min_tm=65, anchor_3prime=True\n",
    "    )\n",
    ")"
   ]
  },
  {
   "cell_type": "code",
   "execution_count": null,
   "metadata": {},
   "outputs": [],
   "source": [
    "part_seq[-10:]"
   ]
  },
  {
   "cell_type": "code",
   "execution_count": null,
   "metadata": {},
   "outputs": [],
   "source": [
    "# find stop, extract CDS\n",
    "# get storage plasmid sequence\n",
    "# find CDS location on storage plasmid\n",
    "# generate Tm>50 reverse primer abutting stop codon\n",
    "# generate Tm>50 forward primer starting on stop codon\n",
    "# extend forward primer to generate Tm>60-65 overhang\n",
    "# add placeholder+overhang to reverse primer"
   ]
  },
  {
   "cell_type": "code",
   "execution_count": null,
   "metadata": {},
   "outputs": [],
   "source": [
    "# primers"
   ]
  },
  {
   "cell_type": "code",
   "execution_count": null,
   "metadata": {},
   "outputs": [],
   "source": [
    "# storage vectors"
   ]
  }
 ],
 "metadata": {
  "kernelspec": {
   "display_name": "Python 3",
   "language": "python",
   "name": "python3"
  },
  "language_info": {
   "codemirror_mode": {
    "name": "ipython",
    "version": 3
   },
   "file_extension": ".py",
   "mimetype": "text/x-python",
   "name": "python",
   "nbconvert_exporter": "python",
   "pygments_lexer": "ipython3",
   "version": "3.8.8"
  }
 },
 "nbformat": 4,
 "nbformat_minor": 4
}
