{
 "cells": [
  {
   "cell_type": "code",
   "execution_count": null,
   "metadata": {},
   "outputs": [],
   "source": [
    "import numpy as np\n",
    "import pandas as pd\n",
    "import holoviews as hv\n",
    "import hvplot.pandas\n",
    "import matplotlib.pyplot as plt\n",
    "import seaborn as sns\n",
    "import toml\n",
    "import re\n",
    "from zipfile import ZipFile\n",
    "import urllib\n",
    "from datetime import datetime\n",
    "import string\n",
    "import pygsheets\n",
    "import requests\n",
    "from tqdm.auto import tqdm\n",
    "import Bio.Restriction as Restriction\n",
    "from Bio.Seq import Seq\n",
    "from Bio.SeqRecord import SeqRecord\n",
    "import Bio.Entrez as Entrez\n",
    "import benchlingapi"
   ]
  },
  {
   "cell_type": "code",
   "execution_count": null,
   "metadata": {},
   "outputs": [],
   "source": [
    "%load_ext autoreload\n",
    "%autoreload 2"
   ]
  },
  {
   "cell_type": "code",
   "execution_count": null,
   "metadata": {},
   "outputs": [],
   "source": [
    "import paulssonlab.api as api\n",
    "import paulssonlab.api.benchling as bapi\n",
    "from paulssonlab.api.util import base_url\n",
    "import paulssonlab.cloning.registry as registry\n",
    "import paulssonlab.cloning.workflow as workflow\n",
    "import paulssonlab.cloning.design as design\n",
    "import paulssonlab.cloning.sequence as sequence\n",
    "import paulssonlab.cloning.enzyme as enzyme\n",
    "import paulssonlab.cloning.viennarna as viennarna\n",
    "import paulssonlab.cloning.thermodynamics as thermodynamics\n",
    "import paulssonlab.cloning.primers as primers\n",
    "import paulssonlab.cloning.ncbi as ncbi\n",
    "import paulssonlab.cloning.commands.parser as cmd_parser\n",
    "import paulssonlab.cloning.commands.semantics as cmd_semantics"
   ]
  },
  {
   "cell_type": "code",
   "execution_count": null,
   "metadata": {},
   "outputs": [],
   "source": [
    "hv.extension(\"bokeh\")"
   ]
  },
  {
   "cell_type": "markdown",
   "metadata": {},
   "source": [
    "# Setup"
   ]
  },
  {
   "cell_type": "code",
   "execution_count": null,
   "metadata": {},
   "outputs": [],
   "source": [
    "config = toml.load(\"config.toml\")"
   ]
  },
  {
   "cell_type": "code",
   "execution_count": null,
   "metadata": {},
   "outputs": [],
   "source": [
    "gc = pygsheets.authorize(service_account_file=\"credentials.json\")"
   ]
  },
  {
   "cell_type": "code",
   "execution_count": null,
   "metadata": {},
   "outputs": [],
   "source": [
    "bench_session = benchlingapi.Session(config[\"benchling\"][\"api_key\"])\n",
    "benchling_folder = bapi.get_project_root(bench_session, config[\"benchling\"][\"project\"])"
   ]
  },
  {
   "cell_type": "code",
   "execution_count": null,
   "metadata": {},
   "outputs": [],
   "source": [
    "reg = registry.Registry(gc, config[\"registry\"][\"folder\"], benchling_folder)"
   ]
  },
  {
   "cell_type": "code",
   "execution_count": null,
   "metadata": {},
   "outputs": [],
   "source": [
    "olib_oligos = reg[(\"oLIB\", \"oligos\")]\n",
    "olt_oligos = reg[(\"oLT\", \"oligos\")]\n",
    "plib_plasmids = reg[(\"pLIB\", \"plasmids\")]\n",
    "plib_maps = reg[(\"pLIB\", \"maps\")]\n",
    "lib_parts = reg[(\"LIB\", \"parts\")]\n",
    "part_types = reg[(\"LIB\", \"parts\", \"Part types\")]"
   ]
  },
  {
   "cell_type": "markdown",
   "metadata": {},
   "source": [
    "# Config"
   ]
  },
  {
   "cell_type": "code",
   "execution_count": null,
   "metadata": {},
   "outputs": [],
   "source": [
    "tag_part_type = \"ClpXP_tag\"\n",
    "tag_overhangs = workflow.overhangs_for(part_types[tag_part_type])\n",
    "library_primer = \"oLIB46\"\n",
    "enzyme = Restriction.BsaI\n",
    "num_random_bases = 6  # random bases to add between enzyme binding site and end of DNA\n",
    "clpx_tag_length = 3  # aa\n",
    "nnk_length = 6  # aa\n",
    "nnk_clpx_length = nnk_length + clpx_tag_length  # aa\n",
    "head_length = 6  # nt\n",
    "tail_length = clpx_tag_length * 3  # nt"
   ]
  },
  {
   "cell_type": "markdown",
   "metadata": {},
   "source": [
    "# Deg tags"
   ]
  },
  {
   "cell_type": "markdown",
   "metadata": {},
   "source": [
    "## Data"
   ]
  },
  {
   "cell_type": "code",
   "execution_count": null,
   "metadata": {},
   "outputs": [],
   "source": [
    "# FROM: Andersen, J. B., Sternberg, C., Poulsen, L. K., Bjørn, S. P., Givskov, M., & Molin, S. (1998). New unstable variants of green fluorescent protein for studies of transient gene expression in bacteria. Applied and environmental microbiology, 64(6), 2240-2246.\n",
    "# paper gives reverse-complement sequences\n",
    "tags_wt_rc = {\n",
    "    \"LAA\": \"AGCTGCTAAAGCGTAGTTTTCGTCGTTTGCTGC\",\n",
    "    \"AAV\": \"AACTGCTGCAGCGTAGTTTTCGTCGTTTGCTGC\",\n",
    "    # \"LVA\": \"AGCTACTAAAGCGTAGTTTTCGTCGTTTGCTGC\", # paper implies it behaves similarly to LAA\n",
    "    \"ASV\": \"AACTGATGCAGCGTAGTTTTCGTCGTTTGCTGC\",\n",
    "}\n",
    "tags_wt_rc = {name: Seq(seq) for name, seq in tags_wt_rc.items()}\n",
    "tags_wt = {name: sequence.reverse_complement(seq) for name, seq in tags_wt_rc.items()}"
   ]
  },
  {
   "cell_type": "code",
   "execution_count": null,
   "metadata": {},
   "outputs": [],
   "source": [
    "tags_wt[\"AAV\"].translate()"
   ]
  },
  {
   "cell_type": "markdown",
   "metadata": {},
   "source": [
    "## Tags"
   ]
  },
  {
   "cell_type": "code",
   "execution_count": null,
   "metadata": {},
   "outputs": [],
   "source": [
    "tag_normalized = {name: workflow.normalize_seq(seq) for name, seq in tags_wt.items()}\n",
    "tag_prefixes = {\n",
    "    name: seq[: seq.find(tag_overhangs[0])] for name, seq in tag_normalized.items()\n",
    "}\n",
    "tag_prefixes_list = list(tag_prefixes.values())\n",
    "tag_prefix = tag_prefixes_list[0]\n",
    "assert all(s == tag_prefix for s in tag_prefixes_list)"
   ]
  },
  {
   "cell_type": "code",
   "execution_count": null,
   "metadata": {},
   "outputs": [],
   "source": [
    "tag_suffix = sequence.smoosh_sequences(workflow.normalize_seq(\"taa\"), tag_overhangs[1])"
   ]
  },
  {
   "cell_type": "code",
   "execution_count": null,
   "metadata": {},
   "outputs": [],
   "source": [
    "head_length_without_prefix = head_length - len(tag_prefix)  # nt\n",
    "tail_length_with_suffix = tail_length + len(tag_suffix)  # nt"
   ]
  },
  {
   "cell_type": "code",
   "execution_count": null,
   "metadata": {},
   "outputs": [],
   "source": [
    "tag_parts = {name: seq[len(tag_prefix) :] + tag_suffix for name, seq in tags_wt.items()}"
   ]
  },
  {
   "cell_type": "code",
   "execution_count": null,
   "metadata": {},
   "outputs": [],
   "source": [
    "tag_parts"
   ]
  },
  {
   "cell_type": "code",
   "execution_count": null,
   "metadata": {},
   "outputs": [],
   "source": [
    "tags = {}\n",
    "for name, seq in tag_parts.items():\n",
    "    tags[f\"degtag_{name}\"] = {\n",
    "        \"Sequence\": seq,\n",
    "        \"Description\": f\"Wild-type {name} ClpXP degradation tag from Andersen 1998.\",\n",
    "    }\n",
    "    assert (\n",
    "        len(seq) - head_length_without_prefix - tail_length_with_suffix\n",
    "        == nnk_length * 3\n",
    "    )\n",
    "    tags[f\"degtag_{name}_NNK\"] = {\n",
    "        \"Sequence\": seq[:head_length_without_prefix]\n",
    "        + \"NNK\" * nnk_length\n",
    "        + seq[-tail_length_with_suffix:],\n",
    "        \"Description\": f\"ClpXP degradation tag library with 2x alanines, {nnk_length}x NNK's, and the {name} tail from Andersen 1998.\",\n",
    "    }\n",
    "tags[f\"degtag_all_NNK\"] = {\n",
    "    \"Sequence\": seq[:head_length_without_prefix]\n",
    "    + \"NNK\" * nnk_clpx_length\n",
    "    + seq[-(tail_length_with_suffix - clpx_tag_length * 3) :],\n",
    "    \"Description\": f\"ClpXP degradation tag library with 2x alanines and {nnk_clpx_length}x NNK's.\",\n",
    "}"
   ]
  },
  {
   "cell_type": "code",
   "execution_count": null,
   "metadata": {},
   "outputs": [],
   "source": [
    "tags"
   ]
  },
  {
   "cell_type": "code",
   "execution_count": null,
   "metadata": {},
   "outputs": [],
   "source": [
    "library_primer_seq = workflow.normalize_seq(reg.get(library_primer)[\"Sequence\"])"
   ]
  },
  {
   "cell_type": "code",
   "execution_count": null,
   "metadata": {},
   "outputs": [],
   "source": [
    "reference = \"Andersen, J. B., Sternberg, C., Poulsen, L. K., Bjørn, S. P., Givskov, M., & Molin, S. (1998). New unstable variants of green fluorescent protein for studies of transient gene expression in bacteria. Applied and environmental microbiology, 64(6), 2240-2246.\"\n",
    "\n",
    "base = {\"Author\": \"Jacob Quinn Shenker\", \"Date\": workflow.date()}\n",
    "\n",
    "oligo_base = {\n",
    "    **base,\n",
    "    \"Order date\": workflow.date(),\n",
    "    \"Vendor\": \"IDT\",\n",
    "    \"Type\": \"Primer\",\n",
    "}\n",
    "\n",
    "part_base = {\n",
    "    **base,\n",
    "    \"Tags\": \"degradation clpxp sequestration\",\n",
    "    \"Reference\": reference,\n",
    "}\n",
    "\n",
    "# apply = {\"Sequence\": workflow.normalize_seq}\n",
    "apply = {\"Name\": None}\n",
    "\n",
    "for name, row in tags.items():\n",
    "    # add BsaI flanks\n",
    "    oligo_seq = (\n",
    "        design.random_bases(num_random_bases)\n",
    "        + design.type2s_with_spacer(enzyme, len(tag_overhangs[0]))\n",
    "        + row[\"Sequence\"]\n",
    "        + sequence.reverse_complement(\n",
    "            design.type2s_with_spacer(enzyme, len(tag_overhangs[0]))\n",
    "        )\n",
    "    )\n",
    "    oligo_seq = workflow.normalize_seq(oligo_seq)\n",
    "    if workflow.DEGENERATE_BASES_REGEX.search(workflow.normalize_seq(row[\"Sequence\"])):\n",
    "        # is library with degenerate bases, append library primer\n",
    "        oligo_seq = oligo_seq + library_primer_seq\n",
    "        oligo_row = {**oligo_base, **row, \"Name\": name, \"Sequence\": oligo_seq.upper()}\n",
    "        oligo_id = olib_oligos.upsert(oligo_row, apply=apply)\n",
    "        usage = f\"{oligo_id}~,{library_primer}/{enzyme}\"\n",
    "    else:\n",
    "        # not library, just order two oligos to anneal\n",
    "        # in this case, there's no reverse primer binding site,\n",
    "        # so we need to add random bases to ensure efficient cutting\n",
    "        oligo_seq = oligo_seq + design.random_bases(num_random_bases)\n",
    "        oligo_id = olib_oligos.upsert(\n",
    "            {\n",
    "                **oligo_base,\n",
    "                **row,\n",
    "                \"Name\": f\"{name}_sense\",\n",
    "                \"Sequence\": oligo_seq.upper(),\n",
    "            },\n",
    "            apply=apply,\n",
    "        )\n",
    "        oligo_id2 = olib_oligos.upsert(\n",
    "            {\n",
    "                **oligo_base,\n",
    "                **row,\n",
    "                \"Name\": f\"{name}_antisense\",\n",
    "                \"Sequence\": str(sequence.reverse_complement(oligo_seq)).upper(),\n",
    "            },\n",
    "            apply=apply,\n",
    "        )\n",
    "        usage = f\"{oligo_id}={oligo_id2}/{enzyme}\"\n",
    "    part_row = {\n",
    "        **part_base,\n",
    "        **row,\n",
    "        \"Sequence\": workflow.normalize_seq(row[\"Sequence\"]),\n",
    "        \"Usage\": usage,\n",
    "        \"Type\": tag_part_type,\n",
    "        \"Upstream overhang\": tag_overhangs[0],\n",
    "        \"Downstream overhang\": tag_overhangs[1],\n",
    "        \"Species/codon usage\": \"E. coli\",\n",
    "    }\n",
    "    lib_parts[name] = part_row\n",
    "    # lib_parts.upsert(part_row, apply=apply)"
   ]
  },
  {
   "cell_type": "code",
   "execution_count": null,
   "metadata": {},
   "outputs": [],
   "source": [
    "lib_parts.save()"
   ]
  },
  {
   "cell_type": "code",
   "execution_count": null,
   "metadata": {},
   "outputs": [],
   "source": [
    "olib_oligos.save()"
   ]
  },
  {
   "cell_type": "markdown",
   "metadata": {},
   "source": [
    "## Placeholders"
   ]
  },
  {
   "cell_type": "code",
   "execution_count": null,
   "metadata": {},
   "outputs": [],
   "source": [
    "# part_names = [\"sigW\", \"rsiW\", \"ECF20_992\", \"AS20_992\", \"sfGFP\"]  # TODO: pick correct FPs\n",
    "part_names = [\"sigW\", \"rsiW\"]"
   ]
  },
  {
   "cell_type": "code",
   "execution_count": null,
   "metadata": {},
   "outputs": [],
   "source": [
    "part_seqs = {name: reg.get(name)[\"_seq\"] for name in part_names}"
   ]
  },
  {
   "cell_type": "code",
   "execution_count": null,
   "metadata": {},
   "outputs": [],
   "source": [
    "part_seqs"
   ]
  },
  {
   "cell_type": "code",
   "execution_count": null,
   "metadata": {},
   "outputs": [],
   "source": [
    "part_seq = part_seqs[\"sigW\"]"
   ]
  },
  {
   "cell_type": "code",
   "execution_count": null,
   "metadata": {},
   "outputs": [],
   "source": [
    "workflow.find_coding_sequence(part_seq)"
   ]
  },
  {
   "cell_type": "code",
   "execution_count": null,
   "metadata": {},
   "outputs": [],
   "source": [
    "workflow.get_source_plasmid(reg, lib_parts[\"sigW\"][\"Usage\"])"
   ]
  },
  {
   "cell_type": "code",
   "execution_count": null,
   "metadata": {},
   "outputs": [],
   "source": [
    "reg.get(\"pLIB214\")[\"_seq\"]"
   ]
  },
  {
   "cell_type": "code",
   "execution_count": null,
   "metadata": {},
   "outputs": [],
   "source": [
    "part_name = part_names[0]\n",
    "part = reg.get(part_name)\n",
    "part_seq = part[\"_seq\"]\n",
    "cds_start, cds_stop = workflow.find_coding_sequence(part_seq)\n",
    "cds_stop -= 3  # want to insert placeholder before stop codon\n",
    "plasmid_name = workflow.get_source_plasmid(reg, part[\"Usage\"])\n",
    "plasmid_seq = reg.get(plasmid_name)[\"_seq\"]\n",
    "part_start, part_stop, _, _ = sequence.find_subsequence(\n",
    "    plasmid_seq, part_seq, min_score=len(part_seq)\n",
    ")\n",
    "start = part_start + cds_start\n",
    "stop = part_stop - (len(part_seq) - cds_stop)"
   ]
  },
  {
   "cell_type": "code",
   "execution_count": null,
   "metadata": {},
   "outputs": [],
   "source": [
    "plasmid_seq_forward = workflow.normalize_seq(plasmid_seq.reindex(stop))\n",
    "plasmid_seq_reverse = workflow.normalize_seq(\n",
    "    plasmid_seq.reindex(stop).reverse_complement()\n",
    ")"
   ]
  },
  {
   "cell_type": "code",
   "execution_count": null,
   "metadata": {},
   "outputs": [],
   "source": [
    "placeholder = tag_prefix + design.golden_gate_placeholder(\n",
    "    Restriction.BsaI, None, *degtag_overhangs\n",
    ")"
   ]
  },
  {
   "cell_type": "code",
   "execution_count": null,
   "metadata": {},
   "outputs": [],
   "source": [
    "placeholder"
   ]
  },
  {
   "cell_type": "code",
   "execution_count": null,
   "metadata": {},
   "outputs": [],
   "source": [
    "# TODO: GC clamp"
   ]
  },
  {
   "cell_type": "code",
   "execution_count": null,
   "metadata": {},
   "outputs": [],
   "source": [
    "tm_binding = 60\n",
    "tm_homology = 55\n",
    "min_mfe = None\n",
    "homology = next(\n",
    "    primers.iter_primers(\n",
    "        plasmid_seq_forward,\n",
    "        min_tm=tm_homology,\n",
    "        min_mfe=min_mfe,\n",
    "        anchor=\"3prime\",\n",
    "        gc_clamp=False,\n",
    "    )\n",
    ")\n",
    "reverse_primer = next(\n",
    "    primers.iter_primers(\n",
    "        plasmid_seq_reverse,\n",
    "        min_tm=tm_binding,\n",
    "        min_length=len(homology),\n",
    "        min_mfe=min_mfe,\n",
    "        anchor=\"5prime\",\n",
    "    )\n",
    ")\n",
    "# reverse_primer_seq = sequence.reverse_complement(reverse_primer.binding)\n",
    "overhang = homology.binding + placeholder\n",
    "forward_primer = next(\n",
    "    primers.iter_primers(\n",
    "        plasmid_seq_forward,\n",
    "        overhang=overhang,\n",
    "        min_tm=tm_binding,\n",
    "        min_mfe=min_mfe,\n",
    "        anchor=\"5prime\",\n",
    "    )\n",
    ")\n",
    "\n",
    "primer_pair = primers.PrimerPair(forward_primer, reverse_primer)"
   ]
  },
  {
   "cell_type": "code",
   "execution_count": null,
   "metadata": {},
   "outputs": [],
   "source": [
    "primer_pair"
   ]
  },
  {
   "cell_type": "code",
   "execution_count": null,
   "metadata": {},
   "outputs": [],
   "source": [
    "# primer oligos"
   ]
  },
  {
   "cell_type": "code",
   "execution_count": null,
   "metadata": {},
   "outputs": [],
   "source": [
    "description = \"\"\n",
    "\n",
    "placeholder_oligo_base = {\n",
    "    \"Author\": \"Jacob Quinn Shenker\",\n",
    "    \"Date\": workflow.date(),\n",
    "    \"Order date\": workflow.date(),\n",
    "    \"Vendor\": \"IDT\",\n",
    "    \"Type\": \"Primer\",\n",
    "    \"Description\": description,\n",
    "}\n",
    "\n",
    "for enzyme_name, flipped, upstream in product(enzymes, (False, True), (False, True)):\n",
    "    base = {}\n",
    "    olt[olt.next_id()] = {\n",
    "        **base,\n",
    "        \"Name\": \"\",\n",
    "        \"Sequence\": seq,\n",
    "        \"Description\": description,\n",
    "    }\n",
    "    print(name, enzyme_name, flipped, unses)"
   ]
  },
  {
   "cell_type": "code",
   "execution_count": null,
   "metadata": {},
   "outputs": [],
   "source": [
    "olt.upsert()"
   ]
  },
  {
   "cell_type": "code",
   "execution_count": null,
   "metadata": {},
   "outputs": [],
   "source": [
    "# storage vector maps\n",
    "# storage vector plasmid entry\n",
    "# storage vector strain entry"
   ]
  }
 ],
 "metadata": {
  "kernelspec": {
   "display_name": "Python 3",
   "language": "python",
   "name": "python3"
  },
  "language_info": {
   "codemirror_mode": {
    "name": "ipython",
    "version": 3
   },
   "file_extension": ".py",
   "mimetype": "text/x-python",
   "name": "python",
   "nbconvert_exporter": "python",
   "pygments_lexer": "ipython3",
   "version": "3.8.8"
  }
 },
 "nbformat": 4,
 "nbformat_minor": 4
}
