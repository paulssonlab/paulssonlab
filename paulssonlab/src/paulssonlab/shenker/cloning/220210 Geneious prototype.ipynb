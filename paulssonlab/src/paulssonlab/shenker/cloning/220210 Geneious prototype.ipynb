{
 "cells": [
  {
   "cell_type": "code",
   "execution_count": null,
   "id": "12f5cf1c-68f3-41a5-92c5-5f9f9dd1bcef",
   "metadata": {},
   "outputs": [],
   "source": [
    "import toml\n",
    "import pygsheets\n",
    "from tqdm.auto import tqdm\n",
    "from Bio.Seq import Seq\n",
    "from Bio.SeqRecord import SeqRecord\n",
    "import benchlingapi\n",
    "import sqlalchemy\n",
    "from sqlalchemy import select\n",
    "import xmltodict"
   ]
  },
  {
   "cell_type": "code",
   "execution_count": null,
   "id": "74df6d3b-0d70-4519-a851-f77c62686650",
   "metadata": {},
   "outputs": [],
   "source": [
    "%load_ext autoreload\n",
    "%autoreload 2"
   ]
  },
  {
   "cell_type": "code",
   "execution_count": null,
   "id": "55a238fa-b210-4d54-8205-1c34683f3b20",
   "metadata": {},
   "outputs": [],
   "source": [
    "import paulssonlab.api.benchling as bapi\n",
    "import paulssonlab.cloning.registry as registry"
   ]
  },
  {
   "cell_type": "markdown",
   "id": "8043ca66-1f9b-4015-80dc-b64e9f1f4ce0",
   "metadata": {
    "tags": []
   },
   "source": [
    "# Setup"
   ]
  },
  {
   "cell_type": "code",
   "execution_count": null,
   "id": "632e4db0-c5e8-4822-a281-0906096979b1",
   "metadata": {},
   "outputs": [],
   "source": [
    "config = toml.load(\"config.toml\")"
   ]
  },
  {
   "cell_type": "code",
   "execution_count": null,
   "id": "c49c036b-49e7-4fc9-a707-fc3f6405491c",
   "metadata": {},
   "outputs": [],
   "source": [
    "gc = pygsheets.authorize(service_account_file=\"credentials.json\")"
   ]
  },
  {
   "cell_type": "code",
   "execution_count": null,
   "id": "c7dacf63-b980-423d-a298-942a86d125f4",
   "metadata": {},
   "outputs": [],
   "source": [
    "bench_session = benchlingapi.Session(config[\"benchling\"][\"api_key\"])\n",
    "benchling_folder = bapi.get_project_root(bench_session, config[\"benchling\"][\"project\"])"
   ]
  },
  {
   "cell_type": "code",
   "execution_count": null,
   "id": "72fb4bf4-2fe1-4f63-89d1-07f7b7aa0773",
   "metadata": {},
   "outputs": [],
   "source": [
    "reg = registry.Registry(gc, config[\"registry\"][\"folder\"], benchling_folder)"
   ]
  },
  {
   "cell_type": "markdown",
   "id": "46ee8ec8-a9af-4c93-87e1-e38d8ea1b2e7",
   "metadata": {},
   "source": [
    "# Config"
   ]
  },
  {
   "cell_type": "code",
   "execution_count": null,
   "id": "7f9344fc-cda9-45c7-bb00-980e88fee3bc",
   "metadata": {},
   "outputs": [],
   "source": [
    "lib_parts = reg[(\"LIB\", \"parts\")]\n",
    "olib_oligos = reg[(\"oLIB\", \"oligos\")]\n",
    "plib_maps = reg[(\"pLIB\", \"maps\")]\n",
    "part_types = reg[(\"LIB\", \"parts\", \"Part types\")]"
   ]
  },
  {
   "cell_type": "markdown",
   "id": "de6f850b-b0be-4688-aba3-f8ff186c4369",
   "metadata": {},
   "source": [
    "# Test"
   ]
  },
  {
   "cell_type": "code",
   "execution_count": null,
   "id": "9e909f10-fd9e-401c-bf75-d901b7b31478",
   "metadata": {},
   "outputs": [],
   "source": [
    "db_url = sqlalchemy.engine.URL.create(\n",
    "    **{\"drivername\": \"cockroachdb\", **config[\"geneious_test\"]}\n",
    ")\n",
    "engine = sqlalchemy.create_engine(db_url)\n",
    "Session = sqlalchemy.orm.sessionmaker(bind=engine)\n",
    "session = Session()"
   ]
  },
  {
   "cell_type": "code",
   "execution_count": null,
   "id": "55299bc2-3d29-4325-bc51-b5349c96f6c5",
   "metadata": {},
   "outputs": [],
   "source": [
    "db_url.render_as_string(False)"
   ]
  },
  {
   "cell_type": "code",
   "execution_count": null,
   "id": "1cf5ffb5-50eb-482e-b2ed-1ce9b44cc886",
   "metadata": {},
   "outputs": [],
   "source": [
    "metadata = sqlalchemy.MetaData()\n",
    "metadata.reflect(bind=engine)"
   ]
  },
  {
   "cell_type": "code",
   "execution_count": null,
   "id": "ed10991b-503c-4974-88eb-73b96fc2bb81",
   "metadata": {},
   "outputs": [],
   "source": [
    "conn = engine.connect()"
   ]
  },
  {
   "cell_type": "code",
   "execution_count": null,
   "id": "d072f713-b174-4d31-86b1-87842e6b73a2",
   "metadata": {},
   "outputs": [],
   "source": [
    "metadata.tables.keys()"
   ]
  },
  {
   "cell_type": "code",
   "execution_count": null,
   "id": "d720ba08-6e6e-446e-afed-81c7d9dba7bf",
   "metadata": {},
   "outputs": [],
   "source": [
    "for name, t in metadata.tables.items():\n",
    "    print(name)\n",
    "    q = select([t]).limit(20)\n",
    "    rows = conn.execute(q).all()\n",
    "    for row in rows:\n",
    "        print(row)\n",
    "    print()"
   ]
  },
  {
   "cell_type": "code",
   "execution_count": null,
   "id": "412d91b0-f99b-4c15-a59b-5820c4b83fc1",
   "metadata": {},
   "outputs": [],
   "source": [
    "q = select([metadata.tables[\"annotated_document\"]])\n",
    "rows = conn.execute(q).all()"
   ]
  },
  {
   "cell_type": "code",
   "execution_count": null,
   "id": "08fab596-6a5a-4c3f-87e6-37a644f3a47f",
   "metadata": {},
   "outputs": [],
   "source": [
    "docs = [xmltodict.parse(row[\"document_xml\"], dict_constructor=dict) for row in rows]"
   ]
  },
  {
   "cell_type": "code",
   "execution_count": null,
   "id": "6d7cb42e-42f4-4f9a-b673-27d507745edc",
   "metadata": {},
   "outputs": [],
   "source": [
    "BAD_CLASSES = [\n",
    "    \"com.biomatters.geneious.publicapi.implementations.sequence.OligoSequenceDocument\",\n",
    "    \"com.biomatters.geneious.publicapi.documents.OperationRecordDocument\",\n",
    "]\n",
    "good_docs = [d for d in docs if d[\"document\"][\"@class\"] not in BAD_CLASSES]"
   ]
  },
  {
   "cell_type": "code",
   "execution_count": null,
   "id": "b65c8c61-58a7-420d-bb25-e1f97eda8c7b",
   "metadata": {},
   "outputs": [],
   "source": [
    "set(d[\"document\"][\"@class\"] for d in good_docs)"
   ]
  },
  {
   "cell_type": "code",
   "execution_count": null,
   "id": "f1461bea-138e-4583-bc7f-7026267f36e0",
   "metadata": {},
   "outputs": [],
   "source": [
    "d[30]"
   ]
  },
  {
   "cell_type": "code",
   "execution_count": null,
   "id": "82aba5d1-a585-4b5b-9814-d5fa0395f688",
   "metadata": {},
   "outputs": [],
   "source": [
    "x = xmltodict.parse(row[\"document_xml\"], dict_constructor=dict)"
   ]
  },
  {
   "cell_type": "code",
   "execution_count": null,
   "id": "fdb8e50a-12ef-4e2d-99b7-6e0a85ad4828",
   "metadata": {},
   "outputs": [],
   "source": [
    "x"
   ]
  },
  {
   "cell_type": "code",
   "execution_count": null,
   "id": "b7e9f9e0-34c2-4ff5-aab3-ec2ad60c1b4a",
   "metadata": {},
   "outputs": [],
   "source": [
    "t = metadata.tables[\"g_user_group_role\"]"
   ]
  },
  {
   "cell_type": "code",
   "execution_count": null,
   "id": "a22e250a-36ee-4b39-b036-654751d673f0",
   "metadata": {},
   "outputs": [],
   "source": [
    "x = select([t])  # .limit(1)"
   ]
  },
  {
   "cell_type": "code",
   "execution_count": null,
   "id": "157ae9c5-34da-4b77-8a14-3c77d50d52f5",
   "metadata": {},
   "outputs": [],
   "source": [
    "t.columns.keys()"
   ]
  },
  {
   "cell_type": "code",
   "execution_count": null,
   "id": "d2c60dfc-225f-4578-900c-6d8ebeb2c053",
   "metadata": {},
   "outputs": [],
   "source": [
    "conn.execute(x).all()"
   ]
  },
  {
   "cell_type": "code",
   "execution_count": null,
   "id": "3f1b7c38-d0c0-457e-9f51-c9764888f061",
   "metadata": {},
   "outputs": [],
   "source": [
    "conn.execute(x).one()"
   ]
  },
  {
   "cell_type": "code",
   "execution_count": null,
   "id": "6d4776fc-405a-4df0-adc0-506ddb2f82e4",
   "metadata": {},
   "outputs": [],
   "source": [
    "select([metadata.tables[\"folder\"]])."
   ]
  },
  {
   "cell_type": "code",
   "execution_count": null,
   "id": "468aaa75-2acf-4307-b9ca-6a2c9e938322",
   "metadata": {},
   "outputs": [],
   "source": [
    "s.keys()"
   ]
  },
  {
   "cell_type": "code",
   "execution_count": null,
   "id": "a8d96822-bf99-491d-b09c-b0be2498c69d",
   "metadata": {},
   "outputs": [],
   "source": [
    "x."
   ]
  },
  {
   "cell_type": "code",
   "execution_count": null,
   "id": "2492522b-aa75-46ff-83b4-6734064c73be",
   "metadata": {},
   "outputs": [],
   "source": [
    "y = x.select()"
   ]
  },
  {
   "cell_type": "markdown",
   "id": "33a16210-97a8-468c-be66-601611f91059",
   "metadata": {},
   "source": [
    "## Folders"
   ]
  },
  {
   "cell_type": "code",
   "execution_count": null,
   "id": "19382ad8-2e0a-494c-96c1-d14bcbaf503e",
   "metadata": {},
   "outputs": [],
   "source": [
    "folder_table = metadata.tables[\"folder\"]"
   ]
  },
  {
   "cell_type": "code",
   "execution_count": null,
   "id": "e6ddd6fd-91d7-412a-84e6-22074037115c",
   "metadata": {},
   "outputs": [],
   "source": [
    "q = select([folder_table]).where(folder_table.c.visible == True)\n",
    "rows = conn.execute(q).all()"
   ]
  },
  {
   "cell_type": "code",
   "execution_count": null,
   "id": "a2d91e67-77e5-4a3a-88c5-af0a31bcc3c3",
   "metadata": {},
   "outputs": [],
   "source": [
    "rows"
   ]
  },
  {
   "cell_type": "code",
   "execution_count": null,
   "id": "6b23215e-7982-43d2-abe8-4543d1b6f1aa",
   "metadata": {},
   "outputs": [],
   "source": [
    "rows[0].items()"
   ]
  },
  {
   "cell_type": "code",
   "execution_count": null,
   "id": "2777327b-0a4b-4a9c-b11d-bdf1ccce11cf",
   "metadata": {},
   "outputs": [],
   "source": [
    "folder_table"
   ]
  },
  {
   "cell_type": "code",
   "execution_count": null,
   "id": "a6a74579-09bc-4599-a528-f0430b3ec892",
   "metadata": {},
   "outputs": [],
   "source": [
    "x = metadata.tables[\"folder\"].columns.g_group_id"
   ]
  },
  {
   "cell_type": "code",
   "execution_count": null,
   "id": "cdbfb427-635c-4cc7-a272-ce7fd62ca13e",
   "metadata": {},
   "outputs": [],
   "source": [
    "y = next(iter(x.foreign_keys))"
   ]
  },
  {
   "cell_type": "code",
   "execution_count": null,
   "id": "06a8514d-f02c-4007-85de-c4626188231b",
   "metadata": {},
   "outputs": [],
   "source": [
    "metadata.tables[\"folder\"].columns.g_group_id.foreign_keys"
   ]
  },
  {
   "cell_type": "code",
   "execution_count": null,
   "id": "4027608d-06a5-4a1f-89b4-0bb4f571e5f7",
   "metadata": {},
   "outputs": [],
   "source": [
    "metadata.tables[\"folder\"].columns.g_group_id"
   ]
  },
  {
   "cell_type": "code",
   "execution_count": null,
   "id": "b6e216cd-ddda-4fb2-8efc-5c9a70e4f05a",
   "metadata": {},
   "outputs": [],
   "source": [
    "for t in metadata.tables.values():\n",
    "    # print(repr(t))\n",
    "    print(\n",
    "        t.name,\n",
    "        [\n",
    "            (c.name, next(iter(c.foreign_keys)).target_fullname)\n",
    "            for c in t.columns\n",
    "            if len(c.foreign_keys)\n",
    "        ],\n",
    "    )"
   ]
  },
  {
   "cell_type": "code",
   "execution_count": null,
   "id": "87b823e8-dadd-477a-b353-2ddd9284bdb9",
   "metadata": {},
   "outputs": [],
   "source": [
    "from sqlalchemy import Column, ForeignKey, Integer\n",
    "from sqlalchemy.ext.automap import automap_base\n",
    "from sqlalchemy.orm import relationship, backref  # , Integer, ForeignKey\n",
    "from sqlalchemy.orm.collections import column_mapped_collection\n",
    "import inflect\n",
    "import re\n",
    "\n",
    "Base = automap_base()\n",
    "\n",
    "# FROM: https://docs.sqlalchemy.org/en/14/orm/extensions/automap.html\n",
    "_pluralizer = inflect.engine()\n",
    "\n",
    "\n",
    "def pluralize_collection(base, local_cls, referred_cls, constraint):\n",
    "    \"Produce an 'uncamelized', 'pluralized' class name, e.g.\"\n",
    "    \"'SomeTerm' -> 'some_terms'\"\n",
    "\n",
    "    # print(base.__name__, local_cls.__name__, referred_cls.__name__)\n",
    "    if local_cls.__name__ == \"Folder\" and referred_cls.__name__ == \"Folder\":\n",
    "        return \"children\"\n",
    "\n",
    "    referred_name = referred_cls.__name__\n",
    "    uncamelized = re.sub(r\"[A-Z]\", lambda m: \"_%s\" % m.group(0).lower(), referred_name)\n",
    "    pluralized = _pluralizer.plural(uncamelized)\n",
    "    return pluralized\n",
    "\n",
    "\n",
    "class Folder(Base):\n",
    "    __tablename__ = \"folder\"\n",
    "\n",
    "    # override schema elements like Columns\n",
    "    # user_name = Column('name', String)\n",
    "\n",
    "    # SEE: https://docs.sqlalchemy.org/en/14/orm/self_referential.html#self-referential\n",
    "    # children = relationship(\"Folder\", backref=backref('parent_folder', remote_side=[Folder.id]))\n",
    "    id = Column(Integer, primary_key=True)\n",
    "    parent_folder_id = Column(Integer, ForeignKey(\"folder.id\"))\n",
    "    #     children = relationship(\n",
    "    #         \"Folder\", backref=backref(\"parent_folder\", remote_side=[id])\n",
    "    #     )\n",
    "    # FROM: https://docs.sqlalchemy.org/en/14/orm/extensions/automap.html\n",
    "    children = relationship(\n",
    "        \"Folder\",\n",
    "        # cascade deletions\n",
    "        cascade=\"all, delete-orphan\",\n",
    "        # many to one + adjacency list - remote_side\n",
    "        # is required to reference the 'remote'\n",
    "        # column in the join condition.\n",
    "        backref=backref(\"parent_folder\", remote_side=id),\n",
    "        # children will be represented as a dictionary\n",
    "        # on the \"name\" attribute.\n",
    "        collection_class=column_mapped_collection(name),\n",
    "    )\n",
    "\n",
    "\n",
    "# class SpecialElement(Base):\n",
    "#     __tablename__ = \"special_element\"\n",
    "\n",
    "#     #folder = relationship(\"Folder\", backref=\"special_elements\")\n",
    "\n",
    "# reflect\n",
    "Base.prepare(\n",
    "    engine, reflect=True, name_for_collection_relationship=pluralize_collection\n",
    ")\n",
    "\n",
    "# we still have Address generated from the tablename \"address\",\n",
    "# but User is the same as Base.classes.User now\n",
    "# Address = Base.classes.address"
   ]
  },
  {
   "cell_type": "code",
   "execution_count": null,
   "id": "5a7d417c-d416-4614-a344-a43fdf3befa9",
   "metadata": {},
   "outputs": [],
   "source": [
    "stmt = select(Folder).limit(1)\n",
    "res = session.execute(stmt).one()[0]"
   ]
  },
  {
   "cell_type": "code",
   "execution_count": null,
   "id": "cd4c7b19-101c-4a86-98bb-9db991c61ea7",
   "metadata": {},
   "outputs": [],
   "source": [
    "res.folder"
   ]
  },
  {
   "cell_type": "code",
   "execution_count": null,
   "id": "f3c473a3-ad62-4c49-9cb0-6f9afea477d1",
   "metadata": {},
   "outputs": [],
   "source": [
    "stmt = select(Folder).where(Folder.visible == True)\n",
    "result = session.execute(stmt)"
   ]
  },
  {
   "cell_type": "code",
   "execution_count": null,
   "id": "d2f41fc7-1b20-4af6-8dc5-1ed36dd7c5af",
   "metadata": {},
   "outputs": [],
   "source": [
    "l = result.all()"
   ]
  },
  {
   "cell_type": "code",
   "execution_count": null,
   "id": "435a892e-2c87-4a0d-afd7-826c0c1d9540",
   "metadata": {},
   "outputs": [],
   "source": [
    "x = l[1][0]"
   ]
  },
  {
   "cell_type": "code",
   "execution_count": null,
   "id": "862f0c01-ea54-495c-a800-f67ac72ed604",
   "metadata": {},
   "outputs": [],
   "source": [
    "x.parent_folder.children"
   ]
  },
  {
   "cell_type": "markdown",
   "id": "96e05a04-ea28-43bd-b575-16108adb17a8",
   "metadata": {},
   "source": [
    "## Non-reflected"
   ]
  },
  {
   "cell_type": "code",
   "execution_count": null,
   "id": "83b1fa8c-3f37-4a40-926d-c5171131f19b",
   "metadata": {},
   "outputs": [],
   "source": [
    "from sqlalchemy import Column, ForeignKey, Integer\n",
    "from sqlalchemy.orm import (\n",
    "    declarative_base,\n",
    "    relationship,\n",
    "    backref,\n",
    ")  # , Integer, ForeignKey\n",
    "from sqlalchemy.orm.collections import column_mapped_collection\n",
    "\n",
    "Base = declarative_base()\n",
    "\n",
    "\n",
    "class Folder(Base):\n",
    "    __tablename__ = \"folder\"\n",
    "\n",
    "    # override schema elements like Columns\n",
    "    # user_name = Column('name', String)\n",
    "\n",
    "    # SEE: https://docs.sqlalchemy.org/en/14/orm/self_referential.html#self-referential\n",
    "    # children = relationship(\"Folder\", backref=backref('parent_folder', remote_side=[Folder.id]))\n",
    "    id = Column(Integer, primary_key=True)\n",
    "    parent_folder_id = Column(Integer, ForeignKey(\"folder.id\"))\n",
    "    #     children = relationship(\n",
    "    #         \"Folder\", backref=backref(\"parent_folder\", remote_side=[id])\n",
    "    #     )\n",
    "    # FROM: https://docs.sqlalchemy.org/en/14/orm/extensions/automap.html\n",
    "    children = relationship(\n",
    "        \"Folder\",\n",
    "        # cascade deletions\n",
    "        cascade=\"all, delete-orphan\",\n",
    "        # many to one + adjacency list - remote_side\n",
    "        # is required to reference the 'remote'\n",
    "        # column in the join condition.\n",
    "        backref=backref(\"parent_folder\", remote_side=id),\n",
    "        # children will be represented as a dictionary\n",
    "        # on the \"name\" attribute.\n",
    "        collection_class=column_mapped_collection(name),\n",
    "    )\n",
    "\n",
    "\n",
    "# class SpecialElement(Base):\n",
    "#     __tablename__ = \"special_element\"\n",
    "\n",
    "#     #folder = relationship(\"Folder\", backref=\"special_elements\")\n",
    "\n",
    "# reflect\n",
    "Base.prepare(\n",
    "    engine, reflect=True, name_for_collection_relationship=pluralize_collection\n",
    ")\n",
    "\n",
    "# we still have Address generated from the tablename \"address\",\n",
    "# but User is the same as Base.classes.User now\n",
    "# Address = Base.classes.address"
   ]
  }
 ],
 "metadata": {
  "kernelspec": {
   "display_name": "Python 3",
   "language": "python",
   "name": "python3"
  },
  "language_info": {
   "codemirror_mode": {
    "name": "ipython",
    "version": 3
   },
   "file_extension": ".py",
   "mimetype": "text/x-python",
   "name": "python",
   "nbconvert_exporter": "python",
   "pygments_lexer": "ipython3",
   "version": "3.8.8"
  }
 },
 "nbformat": 4,
 "nbformat_minor": 5
}
