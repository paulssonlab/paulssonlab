{
 "cells": [
  {
   "cell_type": "code",
   "execution_count": null,
   "id": "12f5cf1c-68f3-41a5-92c5-5f9f9dd1bcef",
   "metadata": {},
   "outputs": [],
   "source": [
    "import toml\n",
    "import pygsheets\n",
    "from tqdm.auto import tqdm\n",
    "from Bio.Seq import Seq\n",
    "from Bio.SeqRecord import SeqRecord\n",
    "import benchlingapi\n",
    "import sqlalchemy\n",
    "from sqlalchemy import select\n",
    "import xmltodict"
   ]
  },
  {
   "cell_type": "code",
   "execution_count": null,
   "id": "74df6d3b-0d70-4519-a851-f77c62686650",
   "metadata": {},
   "outputs": [],
   "source": [
    "%load_ext autoreload\n",
    "%autoreload 2"
   ]
  },
  {
   "cell_type": "code",
   "execution_count": null,
   "id": "55a238fa-b210-4d54-8205-1c34683f3b20",
   "metadata": {},
   "outputs": [],
   "source": [
    "import paulssonlab.api.benchling as bapi\n",
    "import paulssonlab.cloning.registry as registry\n",
    "import paulssonlab.api.geneious as g"
   ]
  },
  {
   "cell_type": "markdown",
   "id": "8043ca66-1f9b-4015-80dc-b64e9f1f4ce0",
   "metadata": {
    "tags": []
   },
   "source": [
    "# Setup"
   ]
  },
  {
   "cell_type": "code",
   "execution_count": null,
   "id": "632e4db0-c5e8-4822-a281-0906096979b1",
   "metadata": {},
   "outputs": [],
   "source": [
    "config = toml.load(\"config.toml\")"
   ]
  },
  {
   "cell_type": "code",
   "execution_count": null,
   "id": "c49c036b-49e7-4fc9-a707-fc3f6405491c",
   "metadata": {},
   "outputs": [],
   "source": [
    "gc = pygsheets.authorize(service_account_file=\"credentials.json\")"
   ]
  },
  {
   "cell_type": "code",
   "execution_count": null,
   "id": "c7dacf63-b980-423d-a298-942a86d125f4",
   "metadata": {},
   "outputs": [],
   "source": [
    "bench_session = benchlingapi.Session(config[\"benchling\"][\"api_key\"])\n",
    "benchling_folder = bapi.get_project_root(bench_session, config[\"benchling\"][\"project\"])"
   ]
  },
  {
   "cell_type": "code",
   "execution_count": null,
   "id": "72fb4bf4-2fe1-4f63-89d1-07f7b7aa0773",
   "metadata": {},
   "outputs": [],
   "source": [
    "reg = registry.Registry(gc, config[\"registry\"][\"folder\"], benchling_folder)"
   ]
  },
  {
   "cell_type": "markdown",
   "id": "46ee8ec8-a9af-4c93-87e1-e38d8ea1b2e7",
   "metadata": {},
   "source": [
    "# Config"
   ]
  },
  {
   "cell_type": "code",
   "execution_count": null,
   "id": "7f9344fc-cda9-45c7-bb00-980e88fee3bc",
   "metadata": {},
   "outputs": [],
   "source": [
    "lib_parts = reg[(\"LIB\", \"parts\")]\n",
    "olib_oligos = reg[(\"oLIB\", \"oligos\")]\n",
    "plib_maps = reg[(\"pLIB\", \"maps\")]\n",
    "part_types = reg[(\"LIB\", \"parts\", \"Part types\")]"
   ]
  },
  {
   "cell_type": "markdown",
   "id": "de6f850b-b0be-4688-aba3-f8ff186c4369",
   "metadata": {},
   "source": [
    "# Test"
   ]
  },
  {
   "cell_type": "code",
   "execution_count": null,
   "id": "9e909f10-fd9e-401c-bf75-d901b7b31478",
   "metadata": {},
   "outputs": [],
   "source": [
    "db_url = sqlalchemy.engine.URL.create(**config[\"geneious_test\"])\n",
    "engine = sqlalchemy.create_engine(db_url)\n",
    "Session = sqlalchemy.orm.sessionmaker(bind=engine)\n",
    "session = Session()"
   ]
  },
  {
   "cell_type": "code",
   "execution_count": null,
   "id": "55299bc2-3d29-4325-bc51-b5349c96f6c5",
   "metadata": {},
   "outputs": [],
   "source": [
    "db_url.render_as_string(False)"
   ]
  },
  {
   "cell_type": "code",
   "execution_count": null,
   "id": "ed10991b-503c-4974-88eb-73b96fc2bb81",
   "metadata": {},
   "outputs": [],
   "source": [
    "conn = engine.connect()"
   ]
  },
  {
   "cell_type": "markdown",
   "id": "ca32bd60-9c3f-4518-ad9d-7284b063c321",
   "metadata": {},
   "source": [
    "## Folders"
   ]
  },
  {
   "cell_type": "code",
   "execution_count": null,
   "id": "35f3b33d-7a2e-4672-a515-be1173960dde",
   "metadata": {},
   "outputs": [],
   "source": [
    "stmt = select(g.Folder).where(g.Folder.visible == True)\n",
    "res = session.execute(stmt)"
   ]
  },
  {
   "cell_type": "code",
   "execution_count": null,
   "id": "adbb8782-f580-4fcc-98f9-67e4947b96ce",
   "metadata": {},
   "outputs": [],
   "source": [
    "res.all()"
   ]
  },
  {
   "cell_type": "code",
   "execution_count": null,
   "id": "14076b20-14f7-4c4a-b25d-77de75ae4495",
   "metadata": {},
   "outputs": [],
   "source": [
    "_[0]"
   ]
  },
  {
   "cell_type": "code",
   "execution_count": null,
   "id": "ce0754d0-b3f2-4eda-9d09-bac1a81363e3",
   "metadata": {},
   "outputs": [],
   "source": [
    "x = _"
   ]
  },
  {
   "cell_type": "code",
   "execution_count": null,
   "id": "9eeb6d3a-18eb-4c25-ba67-dc6ffd524c18",
   "metadata": {},
   "outputs": [],
   "source": [
    "x.children"
   ]
  },
  {
   "cell_type": "markdown",
   "id": "41851c10-859d-4f6f-966d-c908794184d5",
   "metadata": {},
   "source": [
    "# Old"
   ]
  },
  {
   "cell_type": "code",
   "execution_count": null,
   "id": "1cf5ffb5-50eb-482e-b2ed-1ce9b44cc886",
   "metadata": {},
   "outputs": [],
   "source": [
    "metadata = sqlalchemy.MetaData()\n",
    "metadata.reflect(bind=engine)"
   ]
  },
  {
   "cell_type": "code",
   "execution_count": null,
   "id": "d072f713-b174-4d31-86b1-87842e6b73a2",
   "metadata": {},
   "outputs": [],
   "source": [
    "metadata.tables.keys()"
   ]
  },
  {
   "cell_type": "code",
   "execution_count": null,
   "id": "979e67fa-b1fe-427a-bff8-286c4a1582a1",
   "metadata": {},
   "outputs": [],
   "source": [
    "conn.execute(select(metadata.tables[\"next_table_id\"])).all()"
   ]
  },
  {
   "cell_type": "code",
   "execution_count": null,
   "id": "d720ba08-6e6e-446e-afed-81c7d9dba7bf",
   "metadata": {},
   "outputs": [],
   "source": [
    "for name, t in metadata.tables.items():\n",
    "    print(name)\n",
    "    q = select([t]).limit(20)\n",
    "    rows = conn.execute(q).all()\n",
    "    for row in rows:\n",
    "        print(row)\n",
    "    print()"
   ]
  },
  {
   "cell_type": "code",
   "execution_count": null,
   "id": "412d91b0-f99b-4c15-a59b-5820c4b83fc1",
   "metadata": {},
   "outputs": [],
   "source": [
    "q = select([metadata.tables[\"annotated_document\"]])\n",
    "rows = conn.execute(q).all()"
   ]
  },
  {
   "cell_type": "code",
   "execution_count": null,
   "id": "08fab596-6a5a-4c3f-87e6-37a644f3a47f",
   "metadata": {},
   "outputs": [],
   "source": [
    "docs = [xmltodict.parse(row[\"document_xml\"], dict_constructor=dict) for row in rows]"
   ]
  },
  {
   "cell_type": "code",
   "execution_count": null,
   "id": "6d7cb42e-42f4-4f9a-b673-27d507745edc",
   "metadata": {},
   "outputs": [],
   "source": [
    "BAD_CLASSES = [\n",
    "    \"com.biomatters.geneious.publicapi.implementations.sequence.OligoSequenceDocument\",\n",
    "    \"com.biomatters.geneious.publicapi.documents.OperationRecordDocument\",\n",
    "]\n",
    "good_docs = [d for d in docs if d[\"document\"][\"@class\"] not in BAD_CLASSES]"
   ]
  },
  {
   "cell_type": "code",
   "execution_count": null,
   "id": "b65c8c61-58a7-420d-bb25-e1f97eda8c7b",
   "metadata": {},
   "outputs": [],
   "source": [
    "set(d[\"document\"][\"@class\"] for d in good_docs)"
   ]
  },
  {
   "cell_type": "code",
   "execution_count": null,
   "id": "f1461bea-138e-4583-bc7f-7026267f36e0",
   "metadata": {},
   "outputs": [],
   "source": [
    "d[30]"
   ]
  },
  {
   "cell_type": "code",
   "execution_count": null,
   "id": "82aba5d1-a585-4b5b-9814-d5fa0395f688",
   "metadata": {},
   "outputs": [],
   "source": [
    "x = xmltodict.parse(row[\"document_xml\"], dict_constructor=dict)"
   ]
  }
 ],
 "metadata": {
  "kernelspec": {
   "display_name": "Python 3",
   "language": "python",
   "name": "python3"
  },
  "language_info": {
   "codemirror_mode": {
    "name": "ipython",
    "version": 3
   },
   "file_extension": ".py",
   "mimetype": "text/x-python",
   "name": "python",
   "nbconvert_exporter": "python",
   "pygments_lexer": "ipython3",
   "version": "3.8.8"
  }
 },
 "nbformat": 4,
 "nbformat_minor": 5
}
