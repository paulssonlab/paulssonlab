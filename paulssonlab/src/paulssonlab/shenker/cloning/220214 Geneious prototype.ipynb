{
 "cells": [
  {
   "cell_type": "code",
   "execution_count": null,
   "id": "12f5cf1c-68f3-41a5-92c5-5f9f9dd1bcef",
   "metadata": {},
   "outputs": [],
   "source": [
    "import toml\n",
    "import pygsheets\n",
    "from tqdm.auto import tqdm\n",
    "from Bio.Seq import Seq\n",
    "from Bio.SeqRecord import SeqRecord\n",
    "import benchlingapi\n",
    "import sqlalchemy\n",
    "from sqlalchemy import select\n",
    "import xmltodict\n",
    "from lxml import etree"
   ]
  },
  {
   "cell_type": "code",
   "execution_count": null,
   "id": "74df6d3b-0d70-4519-a851-f77c62686650",
   "metadata": {},
   "outputs": [],
   "source": [
    "%load_ext autoreload\n",
    "%autoreload 2"
   ]
  },
  {
   "cell_type": "code",
   "execution_count": null,
   "id": "55a238fa-b210-4d54-8205-1c34683f3b20",
   "metadata": {},
   "outputs": [],
   "source": [
    "import paulssonlab.api.benchling as bapi\n",
    "import paulssonlab.cloning.registry as registry\n",
    "import paulssonlab.cloning.io as cio\n",
    "import paulssonlab.cloning.sequence as sequence\n",
    "import paulssonlab.api.geneious as geneious\n",
    "import paulssonlab.api.geneious_db as g"
   ]
  },
  {
   "cell_type": "markdown",
   "id": "8043ca66-1f9b-4015-80dc-b64e9f1f4ce0",
   "metadata": {
    "tags": []
   },
   "source": [
    "# Setup"
   ]
  },
  {
   "cell_type": "code",
   "execution_count": null,
   "id": "632e4db0-c5e8-4822-a281-0906096979b1",
   "metadata": {},
   "outputs": [],
   "source": [
    "config = toml.load(\"config.toml\")"
   ]
  },
  {
   "cell_type": "code",
   "execution_count": null,
   "id": "c49c036b-49e7-4fc9-a707-fc3f6405491c",
   "metadata": {},
   "outputs": [],
   "source": [
    "gc = pygsheets.authorize(service_account_file=\"credentials.json\")"
   ]
  },
  {
   "cell_type": "code",
   "execution_count": null,
   "id": "c7dacf63-b980-423d-a298-942a86d125f4",
   "metadata": {},
   "outputs": [],
   "source": [
    "bench_session = benchlingapi.Session(config[\"benchling\"][\"api_key\"])\n",
    "benchling_folder = bapi.get_project_root(bench_session, config[\"benchling\"][\"project\"])"
   ]
  },
  {
   "cell_type": "code",
   "execution_count": null,
   "id": "72fb4bf4-2fe1-4f63-89d1-07f7b7aa0773",
   "metadata": {},
   "outputs": [],
   "source": [
    "reg = registry.Registry(gc, config[\"registry\"][\"folder\"], benchling_folder)"
   ]
  },
  {
   "cell_type": "markdown",
   "id": "46ee8ec8-a9af-4c93-87e1-e38d8ea1b2e7",
   "metadata": {},
   "source": [
    "# Config"
   ]
  },
  {
   "cell_type": "code",
   "execution_count": null,
   "id": "7f9344fc-cda9-45c7-bb00-980e88fee3bc",
   "metadata": {},
   "outputs": [],
   "source": [
    "lib_parts = reg[(\"LIB\", \"parts\")]\n",
    "olib_oligos = reg[(\"oLIB\", \"oligos\")]\n",
    "plib_maps = reg[(\"pLIB\", \"maps\")]\n",
    "part_types = reg[(\"LIB\", \"parts\", \"Part types\")]"
   ]
  },
  {
   "cell_type": "markdown",
   "id": "de6f850b-b0be-4688-aba3-f8ff186c4369",
   "metadata": {},
   "source": [
    "# Test"
   ]
  },
  {
   "cell_type": "markdown",
   "id": "ea757528-dfdf-4c26-a7bd-0efc2189046b",
   "metadata": {},
   "source": [
    "## XML"
   ]
  },
  {
   "cell_type": "code",
   "execution_count": null,
   "id": "9b13a829-e502-4197-a585-2f07b87e53d2",
   "metadata": {},
   "outputs": [],
   "source": [
    "# MAKE GENEIOUS-CREATED SEQUENCE WITH ANNOTATIONS/METADATA"
   ]
  },
  {
   "cell_type": "code",
   "execution_count": null,
   "id": "4a55c878-5a25-4204-bb47-47b7fc2efa56",
   "metadata": {},
   "outputs": [],
   "source": [
    "seq = plib_maps[\"pLIB112\"]"
   ]
  },
  {
   "cell_type": "code",
   "execution_count": null,
   "id": "3fc8fe0b-df26-481d-903a-b202089bcb92",
   "metadata": {},
   "outputs": [],
   "source": [
    "seq"
   ]
  },
  {
   "cell_type": "code",
   "execution_count": null,
   "id": "ea8bfe47-c638-4c96-9f4e-9ed4967e406b",
   "metadata": {},
   "outputs": [],
   "source": [
    "geneious.parse"
   ]
  },
  {
   "cell_type": "code",
   "execution_count": null,
   "id": "bd028c15-0a44-464a-b0d2-1b2a22e57a06",
   "metadata": {},
   "outputs": [],
   "source": [
    "d2 = geneious._parse_xml(doc2)"
   ]
  },
  {
   "cell_type": "code",
   "execution_count": null,
   "id": "22779d43-ce4d-4a7b-96b2-b4ec56743ebe",
   "metadata": {},
   "outputs": [],
   "source": [
    "d2[\"XMLSerialisableRootElement\"].keys()"
   ]
  },
  {
   "cell_type": "code",
   "execution_count": null,
   "id": "63ab9be5-6193-4435-8e09-5dbf739cb46a",
   "metadata": {},
   "outputs": [],
   "source": [
    "x = seq3.features[4].location"
   ]
  },
  {
   "cell_type": "code",
   "execution_count": null,
   "id": "9c62da4c-0003-4974-986c-dea5b19e261f",
   "metadata": {},
   "outputs": [],
   "source": [
    "x._end??"
   ]
  },
  {
   "cell_type": "code",
   "execution_count": null,
   "id": "3ecc05f9-e615-40bf-b0a3-285561a0fe89",
   "metadata": {},
   "outputs": [],
   "source": [
    "from xmldiff.main import diff_texts"
   ]
  },
  {
   "cell_type": "code",
   "execution_count": null,
   "id": "8245f88a-b25a-445d-b7b8-2b845abdfe15",
   "metadata": {},
   "outputs": [],
   "source": [
    "output = etree.tostring(geneious.dump_geneious(seq4), pretty_print=True)"
   ]
  },
  {
   "cell_type": "code",
   "execution_count": null,
   "id": "71529d9c-7282-4a6f-b952-70db9c46df4d",
   "metadata": {},
   "outputs": [],
   "source": [
    "print(output.decode())"
   ]
  },
  {
   "cell_type": "code",
   "execution_count": null,
   "id": "b90ad085-3e99-4f68-b482-70b8ee85d5e3",
   "metadata": {},
   "outputs": [],
   "source": [
    "import datetime"
   ]
  },
  {
   "cell_type": "code",
   "execution_count": null,
   "id": "557cfeac-4f8c-43a9-a453-10b2ce40a0e7",
   "metadata": {},
   "outputs": [],
   "source": [
    "epoch = datetime.datetime(1970, 1, 1, 0, 0, 0)\n",
    "int(\n",
    "    (datetime.datetime.strptime(\"29-OCT-2018\", \"%d-%b-%Y\") - epoch).total_seconds()\n",
    "    * 1000\n",
    ")"
   ]
  },
  {
   "cell_type": "code",
   "execution_count": null,
   "id": "e970060b-6e03-4d8b-9c57-3db08a5c682f",
   "metadata": {},
   "outputs": [],
   "source": []
  },
  {
   "cell_type": "code",
   "execution_count": null,
   "id": "f6df16c4-cd4d-4c55-b5ef-734763817a5b",
   "metadata": {},
   "outputs": [],
   "source": [
    "1540785600000"
   ]
  },
  {
   "cell_type": "code",
   "execution_count": null,
   "id": "df53435e-58db-410f-8f85-f8bf5e97acac",
   "metadata": {},
   "outputs": [],
   "source": [
    "seq4.annotations"
   ]
  },
  {
   "cell_type": "code",
   "execution_count": null,
   "id": "b357d984-c68f-45e6-8bc7-78ab1ee77144",
   "metadata": {},
   "outputs": [],
   "source": [
    "seq4.annotations"
   ]
  },
  {
   "cell_type": "code",
   "execution_count": null,
   "id": "39d9098b-1d0e-4fa7-a6f6-ff254cf0184c",
   "metadata": {},
   "outputs": [],
   "source": [
    "seq4.features[0].qualifiers"
   ]
  },
  {
   "cell_type": "code",
   "execution_count": null,
   "id": "f44068ca-5a2f-402a-af83-3fb240bde497",
   "metadata": {},
   "outputs": [],
   "source": [
    "dir(seq4.annotations[\"references\"][0])"
   ]
  },
  {
   "cell_type": "code",
   "execution_count": null,
   "id": "f788cdbf-332b-478d-b71d-40f326b53830",
   "metadata": {},
   "outputs": [],
   "source": [
    "len(diff_texts(doc2, output))"
   ]
  },
  {
   "cell_type": "code",
   "execution_count": null,
   "id": "ec103ed7-fecb-4696-889a-2f559dc278cd",
   "metadata": {},
   "outputs": [],
   "source": [
    "seq.name"
   ]
  },
  {
   "cell_type": "code",
   "execution_count": null,
   "id": "231472b8-a28b-43bd-be4e-a016ba79665f",
   "metadata": {},
   "outputs": [],
   "source": [
    "seq.features[7].qualifiers"
   ]
  },
  {
   "cell_type": "code",
   "execution_count": null,
   "id": "486f0408-9e2e-40d5-ad15-f7ec3bd044e0",
   "metadata": {},
   "outputs": [],
   "source": [
    "z"
   ]
  },
  {
   "cell_type": "code",
   "execution_count": null,
   "id": "50fcae75-6e2a-4d51-b398-cb4744f41efe",
   "metadata": {},
   "outputs": [],
   "source": [
    "z.parts??"
   ]
  },
  {
   "cell_type": "code",
   "execution_count": null,
   "id": "d862ade5-1300-4436-b454-37ad4d5ac9d7",
   "metadata": {},
   "outputs": [],
   "source": [
    "seq.features[0].location.parts??"
   ]
  },
  {
   "cell_type": "code",
   "execution_count": null,
   "id": "a3b6a542-210c-4cf9-be08-6066190cc55a",
   "metadata": {},
   "outputs": [],
   "source": [
    "seq.features[2]"
   ]
  },
  {
   "cell_type": "code",
   "execution_count": null,
   "id": "4cb9cf47-33db-419f-89ba-86614429e5c2",
   "metadata": {},
   "outputs": [],
   "source": [
    "seq.name"
   ]
  },
  {
   "cell_type": "code",
   "execution_count": null,
   "id": "0e53560d-fa09-4ab6-a776-88625b020a38",
   "metadata": {},
   "outputs": [],
   "source": [
    "y = seq.annotations[\"references\"][1]"
   ]
  },
  {
   "cell_type": "code",
   "execution_count": null,
   "id": "da67a34f-1a55-451a-8a13-691021701549",
   "metadata": {},
   "outputs": [],
   "source": [
    "z = y.location[0]"
   ]
  },
  {
   "cell_type": "code",
   "execution_count": null,
   "id": "b25148ef-e390-4014-9cc8-528b6bfc552d",
   "metadata": {},
   "outputs": [],
   "source": [
    "z.nofuzzy_start"
   ]
  },
  {
   "cell_type": "code",
   "execution_count": null,
   "id": "c07a2144-7ef4-4034-a871-fc6dc901e8e2",
   "metadata": {},
   "outputs": [],
   "source": [
    "print(doc2)"
   ]
  },
  {
   "cell_type": "code",
   "execution_count": null,
   "id": "c772260c-871d-422a-a48b-da2485dfd50f",
   "metadata": {},
   "outputs": [],
   "source": [
    "d[\"XMLSerialisableRootElement\"][\"fields\"]"
   ]
  },
  {
   "cell_type": "code",
   "execution_count": null,
   "id": "53f93346-90a1-4f9e-8da6-0202914910c8",
   "metadata": {},
   "outputs": [],
   "source": [
    "x = d[\"XMLSerialisableRootElement\"][\"nucleotideSequence\"][0]"
   ]
  },
  {
   "cell_type": "code",
   "execution_count": null,
   "id": "d4bbdd4e-3898-4486-91cc-685cc94dca14",
   "metadata": {},
   "outputs": [],
   "source": [
    "x.keys()"
   ]
  },
  {
   "cell_type": "code",
   "execution_count": null,
   "id": "00ad1cc6-ea67-4db9-931c-086a1ca07b79",
   "metadata": {},
   "outputs": [],
   "source": [
    "x[\"fields\"]"
   ]
  },
  {
   "cell_type": "code",
   "execution_count": null,
   "id": "fb682e50-b7a1-4f14-975d-978a042fee04",
   "metadata": {},
   "outputs": [],
   "source": [
    "x2 = d2[\"XMLSerialisableRootElement\"]"
   ]
  },
  {
   "cell_type": "code",
   "execution_count": null,
   "id": "e2bf5885-73a6-4f82-b24c-9b4dd7249989",
   "metadata": {},
   "outputs": [],
   "source": [
    "x2.keys()"
   ]
  },
  {
   "cell_type": "code",
   "execution_count": null,
   "id": "27afade6-32c8-4790-9b10-3b659fe0f9c3",
   "metadata": {},
   "outputs": [],
   "source": [
    "x2[\"fields\"]"
   ]
  },
  {
   "cell_type": "code",
   "execution_count": null,
   "id": "42963582-64e4-45b8-a63b-97f5efbb7648",
   "metadata": {},
   "outputs": [],
   "source": [
    "x2[\"description\"]"
   ]
  },
  {
   "cell_type": "code",
   "execution_count": null,
   "id": "6628310d-37bf-42dc-8ff0-e9f260805ec5",
   "metadata": {},
   "outputs": [],
   "source": [
    "x2[\"INSD_originalElements\"]"
   ]
  },
  {
   "cell_type": "code",
   "execution_count": null,
   "id": "ba53f972-3d95-4778-8977-f8c939c51e35",
   "metadata": {},
   "outputs": [],
   "source": [
    "seq.annotations"
   ]
  },
  {
   "cell_type": "code",
   "execution_count": null,
   "id": "5a940a9a-dab9-4158-9d22-d0dd567241b9",
   "metadata": {},
   "outputs": [],
   "source": [
    "sequence.DsSeqRecord?"
   ]
  },
  {
   "cell_type": "code",
   "execution_count": null,
   "id": "0ad347df-9bff-45a1-976e-0d7786cf5d1d",
   "metadata": {},
   "outputs": [],
   "source": [
    "x2[\"sequenceAnnotations\"][\"annotation\"][0]  # .keys()"
   ]
  },
  {
   "cell_type": "code",
   "execution_count": null,
   "id": "b2c93203-b528-4b68-a2ed-3786ec3ca668",
   "metadata": {},
   "outputs": [],
   "source": [
    "seq.annotations"
   ]
  },
  {
   "cell_type": "code",
   "execution_count": null,
   "id": "0a32d29f-cf85-401a-8df5-6bd3ec22f279",
   "metadata": {},
   "outputs": [],
   "source": [
    "f = seq.features[0]"
   ]
  },
  {
   "cell_type": "code",
   "execution_count": null,
   "id": "599b84ae-0132-4aed-8122-dc078efac00e",
   "metadata": {},
   "outputs": [],
   "source": [
    "f.strand"
   ]
  },
  {
   "cell_type": "code",
   "execution_count": null,
   "id": "a804abb1-bcee-4b67-ae95-da7728011e50",
   "metadata": {},
   "outputs": [],
   "source": [
    "f.qualifiers"
   ]
  },
  {
   "cell_type": "code",
   "execution_count": null,
   "id": "7d7db82a-6f8b-43bc-ac2c-c69515a74c90",
   "metadata": {},
   "outputs": [],
   "source": [
    "f"
   ]
  },
  {
   "cell_type": "markdown",
   "id": "7c7ef2e2-d0dd-4202-8b51-c09de7866284",
   "metadata": {},
   "source": [
    "## DB"
   ]
  },
  {
   "cell_type": "code",
   "execution_count": null,
   "id": "9e909f10-fd9e-401c-bf75-d901b7b31478",
   "metadata": {},
   "outputs": [],
   "source": [
    "db_url = sqlalchemy.engine.URL.create(**config[\"geneious_test\"])\n",
    "engine = sqlalchemy.create_engine(db_url)\n",
    "conn = engine.connect()\n",
    "# Session = sqlalchemy.orm.sessionmaker(bind=engine)\n",
    "# session = Session()"
   ]
  },
  {
   "cell_type": "markdown",
   "id": "ca32bd60-9c3f-4518-ad9d-7284b063c321",
   "metadata": {},
   "source": [
    "## Folders"
   ]
  },
  {
   "cell_type": "code",
   "execution_count": null,
   "id": "298ed05f-d069-4a9a-a0d4-60ce4d7422a9",
   "metadata": {},
   "outputs": [],
   "source": [
    "q = select(g.Folder).where(g.Folder.visible == True)\n",
    "res = conn.execute(q)"
   ]
  },
  {
   "cell_type": "code",
   "execution_count": null,
   "id": "adbb8782-f580-4fcc-98f9-67e4947b96ce",
   "metadata": {},
   "outputs": [],
   "source": [
    "res.all()"
   ]
  },
  {
   "cell_type": "code",
   "execution_count": null,
   "id": "979e67fa-b1fe-427a-bff8-286c4a1582a1",
   "metadata": {},
   "outputs": [],
   "source": [
    "conn.execute(select(g.NextTableId)).all()"
   ]
  },
  {
   "cell_type": "code",
   "execution_count": null,
   "id": "d720ba08-6e6e-446e-afed-81c7d9dba7bf",
   "metadata": {},
   "outputs": [],
   "source": [
    "for name, t in metadata.tables.items():\n",
    "    print(name)\n",
    "    q = select([t]).limit(20)\n",
    "    rows = conn.execute(q).all()\n",
    "    for row in rows:\n",
    "        print(row)\n",
    "    print()"
   ]
  },
  {
   "cell_type": "code",
   "execution_count": null,
   "id": "412d91b0-f99b-4c15-a59b-5820c4b83fc1",
   "metadata": {},
   "outputs": [],
   "source": [
    "q = select(g.AnnotatedDocument)\n",
    "rows = conn.execute(q).all()"
   ]
  },
  {
   "cell_type": "code",
   "execution_count": null,
   "id": "b64ad9c9-57a9-4f46-a73a-6c5afa415e29",
   "metadata": {},
   "outputs": [],
   "source": [
    "doc4 = rows[-1][\"plugin_document_xml\"]"
   ]
  },
  {
   "cell_type": "code",
   "execution_count": null,
   "id": "53e3d43c-7095-46f5-8f48-0890cc6305e0",
   "metadata": {},
   "outputs": [],
   "source": [
    "import os"
   ]
  },
  {
   "cell_type": "code",
   "execution_count": null,
   "id": "bb5d754b-bff4-45d3-babe-c3a4b1cba999",
   "metadata": {},
   "outputs": [],
   "source": [
    "seq4 = cio.read_file(os.path.expanduser(\"/Users/jacob/Downloads/_plasmids/genbank2.gb\"))"
   ]
  },
  {
   "cell_type": "code",
   "execution_count": null,
   "id": "dd39aa8a-9765-412c-ace6-706e5e16c11b",
   "metadata": {},
   "outputs": [],
   "source": [
    "seq4"
   ]
  },
  {
   "cell_type": "code",
   "execution_count": null,
   "id": "252a5d6c-648d-47d8-9467-544414fad164",
   "metadata": {},
   "outputs": [],
   "source": [
    "print(doc4)"
   ]
  },
  {
   "cell_type": "code",
   "execution_count": null,
   "id": "7536fa41-668f-4124-bc5e-c8a6a0fd1b67",
   "metadata": {},
   "outputs": [],
   "source": [
    "doc2 = rows[1][\"plugin_document_xml\"]"
   ]
  },
  {
   "cell_type": "code",
   "execution_count": null,
   "id": "c5fa411a-76b3-47be-89e7-8c49bdecdda5",
   "metadata": {},
   "outputs": [],
   "source": [
    "rows[5][\"xml_element\"]"
   ]
  },
  {
   "cell_type": "code",
   "execution_count": null,
   "id": "08fab596-6a5a-4c3f-87e6-37a644f3a47f",
   "metadata": {},
   "outputs": [],
   "source": [
    "docs = [xmltodict.parse(row[\"document_xml\"], dict_constructor=dict) for row in rows]"
   ]
  },
  {
   "cell_type": "code",
   "execution_count": null,
   "id": "6d7cb42e-42f4-4f9a-b673-27d507745edc",
   "metadata": {},
   "outputs": [],
   "source": [
    "BAD_CLASSES = [\n",
    "    # \"com.biomatters.geneious.publicapi.implementations.sequence.OligoSequenceDocument\",\n",
    "    \"com.biomatters.geneious.publicapi.documents.OperationRecordDocument\",\n",
    "]\n",
    "good_docs = [d for d in docs if d[\"document\"][\"@class\"] not in BAD_CLASSES]"
   ]
  },
  {
   "cell_type": "code",
   "execution_count": null,
   "id": "b65c8c61-58a7-420d-bb25-e1f97eda8c7b",
   "metadata": {},
   "outputs": [],
   "source": [
    "set(d[\"document\"][\"@class\"] for d in good_docs)"
   ]
  },
  {
   "cell_type": "code",
   "execution_count": null,
   "id": "d5ead73b-e71b-4bc0-b466-09c7e1e16bbb",
   "metadata": {},
   "outputs": [],
   "source": [
    "rows[2][\"document_xml\"]"
   ]
  },
  {
   "cell_type": "code",
   "execution_count": null,
   "id": "82aba5d1-a585-4b5b-9814-d5fa0395f688",
   "metadata": {},
   "outputs": [],
   "source": [
    "x = xmltodict.parse(rows[2][\"plugin_document_xml\"], dict_constructor=dict)"
   ]
  },
  {
   "cell_type": "code",
   "execution_count": null,
   "id": "83a00967-a7c6-480d-98f3-9df052b75343",
   "metadata": {},
   "outputs": [],
   "source": [
    "x"
   ]
  },
  {
   "cell_type": "code",
   "execution_count": null,
   "id": "1d27f6a6-c269-4827-847a-5d73e7c69405",
   "metadata": {},
   "outputs": [],
   "source": []
  }
 ],
 "metadata": {
  "kernelspec": {
   "display_name": "Python 3",
   "language": "python",
   "name": "python3"
  },
  "language_info": {
   "codemirror_mode": {
    "name": "ipython",
    "version": 3
   },
   "file_extension": ".py",
   "mimetype": "text/x-python",
   "name": "python",
   "nbconvert_exporter": "python",
   "pygments_lexer": "ipython3",
   "version": "3.8.8"
  }
 },
 "nbformat": 4,
 "nbformat_minor": 5
}
