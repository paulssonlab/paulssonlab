{
 "cells": [
  {
   "cell_type": "code",
   "execution_count": null,
   "id": "12f5cf1c-68f3-41a5-92c5-5f9f9dd1bcef",
   "metadata": {},
   "outputs": [],
   "source": [
    "import toml\n",
    "import pygsheets\n",
    "from tqdm.auto import tqdm\n",
    "from Bio.Seq import Seq\n",
    "from Bio.SeqRecord import SeqRecord\n",
    "import benchlingapi\n",
    "import sqlalchemy\n",
    "from sqlalchemy import select\n",
    "import xmltodict\n",
    "from lxml import etree"
   ]
  },
  {
   "cell_type": "code",
   "execution_count": null,
   "id": "74df6d3b-0d70-4519-a851-f77c62686650",
   "metadata": {},
   "outputs": [],
   "source": [
    "%load_ext autoreload\n",
    "%autoreload 2"
   ]
  },
  {
   "cell_type": "code",
   "execution_count": null,
   "id": "55a238fa-b210-4d54-8205-1c34683f3b20",
   "metadata": {},
   "outputs": [],
   "source": [
    "import paulssonlab.api.benchling as bapi\n",
    "import paulssonlab.cloning.registry as registry\n",
    "import paulssonlab.cloning.io as cio\n",
    "import paulssonlab.cloning.sequence as sequence\n",
    "import paulssonlab.api.geneious as geneious\n",
    "import paulssonlab.api.geneious_db as g"
   ]
  },
  {
   "cell_type": "markdown",
   "id": "8043ca66-1f9b-4015-80dc-b64e9f1f4ce0",
   "metadata": {
    "tags": []
   },
   "source": [
    "# Setup"
   ]
  },
  {
   "cell_type": "code",
   "execution_count": null,
   "id": "632e4db0-c5e8-4822-a281-0906096979b1",
   "metadata": {},
   "outputs": [],
   "source": [
    "config = toml.load(\"config.toml\")"
   ]
  },
  {
   "cell_type": "code",
   "execution_count": null,
   "id": "c49c036b-49e7-4fc9-a707-fc3f6405491c",
   "metadata": {},
   "outputs": [],
   "source": [
    "gc = pygsheets.authorize(service_account_file=\"credentials.json\")"
   ]
  },
  {
   "cell_type": "code",
   "execution_count": null,
   "id": "c7dacf63-b980-423d-a298-942a86d125f4",
   "metadata": {},
   "outputs": [],
   "source": [
    "bench_session = benchlingapi.Session(config[\"benchling\"][\"api_key\"])\n",
    "benchling_folder = bapi.get_project_root(bench_session, config[\"benchling\"][\"project\"])"
   ]
  },
  {
   "cell_type": "code",
   "execution_count": null,
   "id": "72fb4bf4-2fe1-4f63-89d1-07f7b7aa0773",
   "metadata": {},
   "outputs": [],
   "source": [
    "reg = registry.Registry(gc, config[\"registry\"][\"folder\"], benchling_folder)"
   ]
  },
  {
   "cell_type": "markdown",
   "id": "46ee8ec8-a9af-4c93-87e1-e38d8ea1b2e7",
   "metadata": {},
   "source": [
    "# Config"
   ]
  },
  {
   "cell_type": "code",
   "execution_count": null,
   "id": "7f9344fc-cda9-45c7-bb00-980e88fee3bc",
   "metadata": {},
   "outputs": [],
   "source": [
    "lib_parts = reg[(\"LIB\", \"parts\")]\n",
    "olib_oligos = reg[(\"oLIB\", \"oligos\")]\n",
    "plib_maps = reg[(\"pLIB\", \"maps\")]\n",
    "part_types = reg[(\"LIB\", \"parts\", \"Part types\")]"
   ]
  },
  {
   "cell_type": "markdown",
   "id": "de6f850b-b0be-4688-aba3-f8ff186c4369",
   "metadata": {},
   "source": [
    "# Test"
   ]
  },
  {
   "cell_type": "markdown",
   "id": "ea757528-dfdf-4c26-a7bd-0efc2189046b",
   "metadata": {},
   "source": [
    "## XML"
   ]
  },
  {
   "cell_type": "code",
   "execution_count": null,
   "id": "4a55c878-5a25-4204-bb47-47b7fc2efa56",
   "metadata": {},
   "outputs": [],
   "source": [
    "seq = plib_maps[\"pLIB112\"]"
   ]
  },
  {
   "cell_type": "code",
   "execution_count": null,
   "id": "3ecc05f9-e615-40bf-b0a3-285561a0fe89",
   "metadata": {},
   "outputs": [],
   "source": [
    "from xmldiff.main import diff_texts"
   ]
  },
  {
   "cell_type": "code",
   "execution_count": null,
   "id": "8245f88a-b25a-445d-b7b8-2b845abdfe15",
   "metadata": {},
   "outputs": [],
   "source": [
    "output = etree.tostring(geneious.dump_geneious(seq4), pretty_print=True)"
   ]
  },
  {
   "cell_type": "code",
   "execution_count": null,
   "id": "098349f4-112b-4dd2-b61b-a1e6c558f8db",
   "metadata": {},
   "outputs": [],
   "source": [
    "x = etree.fromstring(doc4)"
   ]
  },
  {
   "cell_type": "code",
   "execution_count": null,
   "id": "bbe5745b-6639-4df5-b4a3-e5b84c1c5ca1",
   "metadata": {},
   "outputs": [],
   "source": [
    "geneious.load_geneious(x)"
   ]
  },
  {
   "cell_type": "code",
   "execution_count": null,
   "id": "e9a4b0ca-3b1b-431c-a051-a26cfc716f10",
   "metadata": {},
   "outputs": [],
   "source": [
    "seq4.annotations"
   ]
  },
  {
   "cell_type": "code",
   "execution_count": null,
   "id": "b2b98dfa-1646-49a8-b4d7-004ec753ac5b",
   "metadata": {},
   "outputs": [],
   "source": [
    "seq4.annotations[\"references\"][0].__class__"
   ]
  },
  {
   "cell_type": "code",
   "execution_count": null,
   "id": "3138ee08-c260-4809-9e0a-809e6ea12ce1",
   "metadata": {},
   "outputs": [],
   "source": [
    "geneious.loads_geneious(doc4).annotations"
   ]
  },
  {
   "cell_type": "markdown",
   "id": "2abb49d4-8d26-4d9e-9a7c-5fd6af878434",
   "metadata": {},
   "source": [
    "## Round-trip: seq->geneious-seq"
   ]
  },
  {
   "cell_type": "markdown",
   "id": "754dda07-c981-4436-a94d-dda0c7f96d6f",
   "metadata": {},
   "source": [
    "## Round-trip: geneious->seq->geneious"
   ]
  },
  {
   "cell_type": "markdown",
   "id": "7c7ef2e2-d0dd-4202-8b51-c09de7866284",
   "metadata": {},
   "source": [
    "## DB"
   ]
  },
  {
   "cell_type": "code",
   "execution_count": null,
   "id": "9e909f10-fd9e-401c-bf75-d901b7b31478",
   "metadata": {},
   "outputs": [],
   "source": [
    "db_url = sqlalchemy.engine.URL.create(**config[\"geneious_test\"])\n",
    "engine = sqlalchemy.create_engine(db_url)\n",
    "conn = engine.connect()"
   ]
  },
  {
   "cell_type": "code",
   "execution_count": null,
   "id": "ab1aca0a-91f9-4c55-9dce-6873aa478f03",
   "metadata": {},
   "outputs": [],
   "source": [
    "Session = sqlalchemy.orm.sessionmaker(bind=engine)\n",
    "session = Session()"
   ]
  },
  {
   "cell_type": "markdown",
   "id": "fd252070-d19e-4570-bb7b-932360af17f7",
   "metadata": {},
   "source": [
    "## DB test"
   ]
  },
  {
   "cell_type": "code",
   "execution_count": null,
   "id": "08a4cb5b-376b-4b45-97c4-f1958a69b25b",
   "metadata": {},
   "outputs": [],
   "source": [
    "session.query(g.Folder).where(g.Folder.visible == True).count()"
   ]
  },
  {
   "cell_type": "code",
   "execution_count": null,
   "id": "ca9d9739-6433-4ad8-bcad-ff853747d7d1",
   "metadata": {},
   "outputs": [],
   "source": [
    "session.query(g.Folder).count()"
   ]
  },
  {
   "cell_type": "code",
   "execution_count": null,
   "id": "e8099eb1-ace2-4dc7-802e-5f20191c3438",
   "metadata": {},
   "outputs": [],
   "source": [
    "root = session.query(g.Folder).all()[0]"
   ]
  },
  {
   "cell_type": "code",
   "execution_count": null,
   "id": "4750f9db-2745-4204-b136-1b7d13bf5619",
   "metadata": {},
   "outputs": [],
   "source": [
    "root.children"
   ]
  },
  {
   "cell_type": "markdown",
   "id": "ca32bd60-9c3f-4518-ad9d-7284b063c321",
   "metadata": {},
   "source": [
    "## Old"
   ]
  },
  {
   "cell_type": "code",
   "execution_count": null,
   "id": "298ed05f-d069-4a9a-a0d4-60ce4d7422a9",
   "metadata": {},
   "outputs": [],
   "source": [
    "q = select(g.Folder).where(g.Folder.visible == True)\n",
    "res = conn.execute(q)"
   ]
  },
  {
   "cell_type": "code",
   "execution_count": null,
   "id": "adbb8782-f580-4fcc-98f9-67e4947b96ce",
   "metadata": {},
   "outputs": [],
   "source": [
    "res.all()"
   ]
  },
  {
   "cell_type": "code",
   "execution_count": null,
   "id": "979e67fa-b1fe-427a-bff8-286c4a1582a1",
   "metadata": {},
   "outputs": [],
   "source": [
    "conn.execute(select(g.NextTableId)).all()"
   ]
  },
  {
   "cell_type": "code",
   "execution_count": null,
   "id": "d720ba08-6e6e-446e-afed-81c7d9dba7bf",
   "metadata": {},
   "outputs": [],
   "source": [
    "for name, t in metadata.tables.items():\n",
    "    print(name)\n",
    "    q = select([t]).limit(20)\n",
    "    rows = conn.execute(q).all()\n",
    "    for row in rows:\n",
    "        print(row)\n",
    "    print()"
   ]
  },
  {
   "cell_type": "code",
   "execution_count": null,
   "id": "412d91b0-f99b-4c15-a59b-5820c4b83fc1",
   "metadata": {},
   "outputs": [],
   "source": [
    "q = select(g.AnnotatedDocument)\n",
    "rows = conn.execute(q).all()"
   ]
  },
  {
   "cell_type": "code",
   "execution_count": null,
   "id": "d707036c-3b18-49d6-bb23-00855fe29756",
   "metadata": {},
   "outputs": [],
   "source": [
    "doc0 = rows[0][\"plugin_document_xml\"]"
   ]
  },
  {
   "cell_type": "code",
   "execution_count": null,
   "id": "b64ad9c9-57a9-4f46-a73a-6c5afa415e29",
   "metadata": {},
   "outputs": [],
   "source": [
    "doc4 = rows[-1][\"plugin_document_xml\"]"
   ]
  },
  {
   "cell_type": "code",
   "execution_count": null,
   "id": "53e3d43c-7095-46f5-8f48-0890cc6305e0",
   "metadata": {},
   "outputs": [],
   "source": [
    "import os"
   ]
  },
  {
   "cell_type": "code",
   "execution_count": null,
   "id": "bb5d754b-bff4-45d3-babe-c3a4b1cba999",
   "metadata": {},
   "outputs": [],
   "source": [
    "seq4 = cio.read_file(os.path.expanduser(\"/Users/jacob/Downloads/_plasmids/genbank2.gb\"))"
   ]
  },
  {
   "cell_type": "code",
   "execution_count": null,
   "id": "dd39aa8a-9765-412c-ace6-706e5e16c11b",
   "metadata": {},
   "outputs": [],
   "source": [
    "seq4"
   ]
  },
  {
   "cell_type": "code",
   "execution_count": null,
   "id": "252a5d6c-648d-47d8-9467-544414fad164",
   "metadata": {},
   "outputs": [],
   "source": [
    "print(doc4)"
   ]
  },
  {
   "cell_type": "code",
   "execution_count": null,
   "id": "7536fa41-668f-4124-bc5e-c8a6a0fd1b67",
   "metadata": {},
   "outputs": [],
   "source": [
    "doc2 = rows[1][\"plugin_document_xml\"]"
   ]
  },
  {
   "cell_type": "code",
   "execution_count": null,
   "id": "c5fa411a-76b3-47be-89e7-8c49bdecdda5",
   "metadata": {},
   "outputs": [],
   "source": [
    "rows[5][\"xml_element\"]"
   ]
  },
  {
   "cell_type": "code",
   "execution_count": null,
   "id": "08fab596-6a5a-4c3f-87e6-37a644f3a47f",
   "metadata": {},
   "outputs": [],
   "source": [
    "docs = [xmltodict.parse(row[\"document_xml\"], dict_constructor=dict) for row in rows]"
   ]
  },
  {
   "cell_type": "code",
   "execution_count": null,
   "id": "6d7cb42e-42f4-4f9a-b673-27d507745edc",
   "metadata": {},
   "outputs": [],
   "source": [
    "BAD_CLASSES = [\n",
    "    # \"com.biomatters.geneious.publicapi.implementations.sequence.OligoSequenceDocument\",\n",
    "    \"com.biomatters.geneious.publicapi.documents.OperationRecordDocument\",\n",
    "]\n",
    "good_docs = [d for d in docs if d[\"document\"][\"@class\"] not in BAD_CLASSES]"
   ]
  },
  {
   "cell_type": "code",
   "execution_count": null,
   "id": "b65c8c61-58a7-420d-bb25-e1f97eda8c7b",
   "metadata": {},
   "outputs": [],
   "source": [
    "set(d[\"document\"][\"@class\"] for d in good_docs)"
   ]
  },
  {
   "cell_type": "code",
   "execution_count": null,
   "id": "d5ead73b-e71b-4bc0-b466-09c7e1e16bbb",
   "metadata": {},
   "outputs": [],
   "source": [
    "rows[2][\"document_xml\"]"
   ]
  },
  {
   "cell_type": "code",
   "execution_count": null,
   "id": "82aba5d1-a585-4b5b-9814-d5fa0395f688",
   "metadata": {},
   "outputs": [],
   "source": [
    "x = xmltodict.parse(rows[2][\"plugin_document_xml\"], dict_constructor=dict)"
   ]
  },
  {
   "cell_type": "code",
   "execution_count": null,
   "id": "83a00967-a7c6-480d-98f3-9df052b75343",
   "metadata": {},
   "outputs": [],
   "source": [
    "x"
   ]
  },
  {
   "cell_type": "code",
   "execution_count": null,
   "id": "1d27f6a6-c269-4827-847a-5d73e7c69405",
   "metadata": {},
   "outputs": [],
   "source": []
  }
 ],
 "metadata": {
  "kernelspec": {
   "display_name": "Python 3",
   "language": "python",
   "name": "python3"
  },
  "language_info": {
   "codemirror_mode": {
    "name": "ipython",
    "version": 3
   },
   "file_extension": ".py",
   "mimetype": "text/x-python",
   "name": "python",
   "nbconvert_exporter": "python",
   "pygments_lexer": "ipython3",
   "version": "3.8.8"
  }
 },
 "nbformat": 4,
 "nbformat_minor": 5
}
