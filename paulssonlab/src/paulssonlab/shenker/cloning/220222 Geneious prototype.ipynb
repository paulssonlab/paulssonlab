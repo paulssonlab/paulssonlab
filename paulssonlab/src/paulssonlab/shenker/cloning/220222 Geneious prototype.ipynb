{
 "cells": [
  {
   "cell_type": "code",
   "execution_count": null,
   "id": "12f5cf1c-68f3-41a5-92c5-5f9f9dd1bcef",
   "metadata": {},
   "outputs": [],
   "source": [
    "import toml\n",
    "import pygsheets\n",
    "from tqdm.auto import tqdm\n",
    "from Bio.Seq import Seq\n",
    "from Bio.SeqRecord import SeqRecord\n",
    "import benchlingapi\n",
    "import sqlalchemy\n",
    "from sqlalchemy import select, text\n",
    "import xmltodict\n",
    "from lxml import etree"
   ]
  },
  {
   "cell_type": "code",
   "execution_count": null,
   "id": "74df6d3b-0d70-4519-a851-f77c62686650",
   "metadata": {},
   "outputs": [],
   "source": [
    "%load_ext autoreload\n",
    "%autoreload 2"
   ]
  },
  {
   "cell_type": "code",
   "execution_count": null,
   "id": "55a238fa-b210-4d54-8205-1c34683f3b20",
   "metadata": {},
   "outputs": [],
   "source": [
    "import paulssonlab.api.benchling as bapi\n",
    "import paulssonlab.cloning.registry as registry\n",
    "import paulssonlab.cloning.io as cio\n",
    "import paulssonlab.cloning.sequence as sequence\n",
    "import paulssonlab.api.geneious as geneious\n",
    "import paulssonlab.api.geneious_db as g"
   ]
  },
  {
   "cell_type": "markdown",
   "id": "8043ca66-1f9b-4015-80dc-b64e9f1f4ce0",
   "metadata": {
    "tags": []
   },
   "source": [
    "# Setup"
   ]
  },
  {
   "cell_type": "code",
   "execution_count": null,
   "id": "632e4db0-c5e8-4822-a281-0906096979b1",
   "metadata": {},
   "outputs": [],
   "source": [
    "config = toml.load(\"config.toml\")"
   ]
  },
  {
   "cell_type": "code",
   "execution_count": null,
   "id": "c49c036b-49e7-4fc9-a707-fc3f6405491c",
   "metadata": {},
   "outputs": [],
   "source": [
    "gc = pygsheets.authorize(service_account_file=\"credentials.json\")"
   ]
  },
  {
   "cell_type": "code",
   "execution_count": null,
   "id": "c7dacf63-b980-423d-a298-942a86d125f4",
   "metadata": {},
   "outputs": [],
   "source": [
    "bench_session = benchlingapi.Session(config[\"benchling\"][\"api_key\"])\n",
    "benchling_folder = bapi.get_project_root(bench_session, config[\"benchling\"][\"project\"])"
   ]
  },
  {
   "cell_type": "code",
   "execution_count": null,
   "id": "72fb4bf4-2fe1-4f63-89d1-07f7b7aa0773",
   "metadata": {},
   "outputs": [],
   "source": [
    "reg = registry.Registry(gc, config[\"registry\"][\"folder\"], benchling_folder)"
   ]
  },
  {
   "cell_type": "markdown",
   "id": "46ee8ec8-a9af-4c93-87e1-e38d8ea1b2e7",
   "metadata": {},
   "source": [
    "# Config"
   ]
  },
  {
   "cell_type": "code",
   "execution_count": null,
   "id": "7f9344fc-cda9-45c7-bb00-980e88fee3bc",
   "metadata": {},
   "outputs": [],
   "source": [
    "lib_parts = reg[(\"LIB\", \"parts\")]\n",
    "olib_oligos = reg[(\"oLIB\", \"oligos\")]\n",
    "plib_maps = reg[(\"pLIB\", \"maps\")]\n",
    "part_types = reg[(\"LIB\", \"parts\", \"Part types\")]"
   ]
  },
  {
   "cell_type": "markdown",
   "id": "31b80fd6-d57a-4b15-9218-0c392e2cd8da",
   "metadata": {},
   "source": [
    "# Client"
   ]
  },
  {
   "cell_type": "code",
   "execution_count": null,
   "id": "63f30b21-faf7-4666-b197-b399ec0c0be6",
   "metadata": {},
   "outputs": [],
   "source": [
    "client = geneious.GeneiousClient(**config[\"geneious_test_local\"])"
   ]
  },
  {
   "cell_type": "code",
   "execution_count": null,
   "id": "1c2e9203-683a-4ce6-839a-5d63e24e5387",
   "metadata": {},
   "outputs": [],
   "source": [
    "client.subfolder[\n",
    "    (\"foo\", \"bar\")\n",
    "]  # -> GeneiousClient with root=(\"foo\", \"bar\"); shares GeneiousClientState dataclass with original\n",
    "client.subfolder[(\"foo\", \"bar\")].items()  # a way of iterating a subfolder\n",
    "client[\"rootseq\"]\n",
    "client[(\"foo\", \"bar\", \"childseq\")]  # -> DsSeqRecord/Primer\n",
    "client.raw[\"rootseq\"]  # -> ORM object?\n",
    "client.raw[\"rootseq\"]  # -> hhh"
   ]
  },
  {
   "cell_type": "markdown",
   "id": "de6f850b-b0be-4688-aba3-f8ff186c4369",
   "metadata": {
    "tags": []
   },
   "source": [
    "# Test"
   ]
  },
  {
   "cell_type": "markdown",
   "id": "7c7ef2e2-d0dd-4202-8b51-c09de7866284",
   "metadata": {
    "tags": []
   },
   "source": [
    "## DB"
   ]
  },
  {
   "cell_type": "code",
   "execution_count": null,
   "id": "9e909f10-fd9e-401c-bf75-d901b7b31478",
   "metadata": {},
   "outputs": [],
   "source": [
    "db_url = sqlalchemy.engine.URL.create(**config[\"geneious_test_local\"])\n",
    "engine = sqlalchemy.create_engine(db_url, future=True, echo=True)\n",
    "Session = sqlalchemy.orm.sessionmaker(bind=engine, future=True)"
   ]
  },
  {
   "cell_type": "markdown",
   "id": "fd252070-d19e-4570-bb7b-932360af17f7",
   "metadata": {},
   "source": [
    "## DB test"
   ]
  },
  {
   "cell_type": "code",
   "execution_count": null,
   "id": "95512292-3380-45a6-9287-1e3de0ec86f6",
   "metadata": {},
   "outputs": [],
   "source": [
    "session = Session()"
   ]
  },
  {
   "cell_type": "code",
   "execution_count": null,
   "id": "45178060-5d18-47cb-a822-97ac84e1e38e",
   "metadata": {},
   "outputs": [],
   "source": [
    "x = session.execute(select(g.Folder).where(g.Folder.name == \"plasmids\")).one()[0]"
   ]
  },
  {
   "cell_type": "code",
   "execution_count": null,
   "id": "a8600a56-f7b8-41b9-87d2-0b61e6e8012c",
   "metadata": {},
   "outputs": [],
   "source": [
    "x.annotated_documents"
   ]
  },
  {
   "cell_type": "code",
   "execution_count": null,
   "id": "65aaf045-c7ae-4a53-b6ec-ad4196b66307",
   "metadata": {},
   "outputs": [],
   "source": [
    "y = x.annotated_documents[0]"
   ]
  },
  {
   "cell_type": "code",
   "execution_count": null,
   "id": "4cadb493-f501-4861-84dc-4c035c9d1fe4",
   "metadata": {},
   "outputs": [],
   "source": [
    "y.additional_document_xml"
   ]
  },
  {
   "cell_type": "code",
   "execution_count": null,
   "id": "494a9d26-d259-4199-8652-52eeb781e843",
   "metadata": {},
   "outputs": [],
   "source": [
    "session.execute(\"SELECT max(id) FROM folder\").one()"
   ]
  },
  {
   "cell_type": "code",
   "execution_count": null,
   "id": "202491d8-7236-4e19-ab7f-42ab4100255e",
   "metadata": {},
   "outputs": [],
   "source": [
    "session.execute(\"SELECT current_timestamp()\").one()"
   ]
  },
  {
   "cell_type": "code",
   "execution_count": null,
   "id": "2f1ab5fb-29a6-4279-bc32-f9c8e878083c",
   "metadata": {},
   "outputs": [],
   "source": [
    "session.execute(\"SELECT document_urn, element_key FROM additional_document_xml\").all()"
   ]
  },
  {
   "cell_type": "code",
   "execution_count": null,
   "id": "c01af031-2f0d-4648-84d6-c93737238a97",
   "metadata": {},
   "outputs": [],
   "source": [
    "import datetime"
   ]
  },
  {
   "cell_type": "code",
   "execution_count": null,
   "id": "dcbdebf1-1c90-4abf-ab0c-f00fed456f54",
   "metadata": {},
   "outputs": [],
   "source": [
    "datetime.datetime.now()"
   ]
  },
  {
   "cell_type": "code",
   "execution_count": null,
   "id": "438c947a-e3fc-4527-85b1-0f72594ac31d",
   "metadata": {},
   "outputs": [],
   "source": [
    "# start another geneious client (with another postgres user), add folder, see what triggers select from next_table_id\n",
    "\n",
    "# check cadence of select, see if the big join produces expected output\n",
    "# (difference between python folders and geneious folders?)\n",
    "\n",
    "# try adding new folder, changing modified of parent folder, see if geneious selects from next_table_id"
   ]
  },
  {
   "cell_type": "code",
   "execution_count": null,
   "id": "9a0c20d3-77e0-47de-8bce-b021c7d4d8f5",
   "metadata": {},
   "outputs": [],
   "source": [
    "# 2022-02-21 17:26:39.479 EST,\"newuser\",\"geneious_test1\",23897,\"127.0.0.1:64955\",62140436.5d59,1580,\"SELECT\",2022-02-21 16:29:26 EST,4/1573,0,LOG,00000,\"execute S_4: SELECT A.id,A.name,g_group_id,A.modified,document_urn,parent_folder_id,visible, C.xml AS folderColourXml, (CASE WHEN C.modified IS NOT NULL THEN C.modified ELSE CURRENT_TIMESTAMP END) AS folderColourModified FROM folder A LEFT OUTER JOIN folder_view B ON A.id = B.folder_id LEFT OUTER JOIN special_element C ON A.id = C.folder_id AND C.name = 'folderColor' WHERE A.modified > $1 AND A.modified < $2 AND id NOT IN (select hidden_folder_id from hidden_folder_to_user WHERE user_id != $3)\",\"parameters: $1 = '2022-02-21 17:00:43.453', $2 = '2022-02-21 17:26:39.479', $3 = '1'\",,,,,,,,\"PostgreSQL JDBC Driver\",\"client backend\",,0"
   ]
  },
  {
   "cell_type": "code",
   "execution_count": null,
   "id": "327ec328-e4a4-40f0-91f2-34ce13beb3ec",
   "metadata": {},
   "outputs": [],
   "source": [
    "for idx in range(40):\n",
    "    with Session.begin() as session:\n",
    "        group = session.execute(\n",
    "            select(g.GGroup).where(g.GGroup.name == \"Everybody\")\n",
    "        ).one()[0]\n",
    "        print(\"group\", group)\n",
    "        parent = session.execute(select(g.Folder).where(g.Folder.name == \"xxx5\")).one()[\n",
    "            0\n",
    "        ]\n",
    "        print(parent)\n",
    "        new_name = f\"sub{idx}\"\n",
    "        new_folder = g.Folder(name=new_name, g_group=group)\n",
    "        new_folder.parent_folder = parent\n",
    "        parent.modified = text(\"current_timestamp\")  # datetime.datetime.utcnow()\n",
    "        session.add(new_folder)\n",
    "        # parent.children[new_name] = new_folder\n",
    "        # session.execute(update(sql.functions.max(g.Table.id)))\n",
    "        # session.execute(\"UPDATE next_table_id SET next_id = (SELECT max(id) FROM folder) WHERE table_name = 'folder'\")"
   ]
  },
  {
   "cell_type": "code",
   "execution_count": null,
   "id": "57e02997-7468-46aa-8aec-9b4397c84961",
   "metadata": {},
   "outputs": [],
   "source": [
    "with Session.begin() as session:\n",
    "    q = select(\n",
    "        g.Folder\n",
    "    )  # .where(g.Folder.name == \"bot4\")#.where(g.Folder.visible == True)\n",
    "    res = session.execute(q).all()\n",
    "    print(\"\\n\".join(map(str, res)))"
   ]
  },
  {
   "cell_type": "code",
   "execution_count": null,
   "id": "7d3225b2-b316-4e22-868a-2adde232e0cb",
   "metadata": {},
   "outputs": [],
   "source": [
    "with Session.begin() as session:\n",
    "    q = select(g.NextTableId)\n",
    "    res = session.execute(q).all()\n",
    "    print(\"\\n\".join(map(str, res)))"
   ]
  },
  {
   "cell_type": "code",
   "execution_count": null,
   "id": "d9e5633f-6a11-4b38-8795-c40e1ec0bb54",
   "metadata": {},
   "outputs": [],
   "source": [
    "with Session.begin() as session:\n",
    "    res = session.execute(text(\"SELECT * from folder;\")).all()\n",
    "    print(\"\\n\".join(map(str, res)))"
   ]
  },
  {
   "cell_type": "code",
   "execution_count": null,
   "id": "08b43e05-b8b3-4ccc-86c7-25066c9d57bf",
   "metadata": {},
   "outputs": [],
   "source": [
    "with Session.begin() as session:\n",
    "    q = select(g.NextTableId)\n",
    "    res = session.execute(q).all()\n",
    "    print(\"\\n\".join(map(str, res)))"
   ]
  },
  {
   "cell_type": "code",
   "execution_count": null,
   "id": "f6f8f27c-8e06-44f3-be4a-a3919b6462bd",
   "metadata": {},
   "outputs": [],
   "source": [
    "with Session.begin() as session:\n",
    "    q = select(g.Folder)\n",
    "    res = session.execute(q).all()\n",
    "    print(\"\\n\".join(map(str, res)))"
   ]
  },
  {
   "cell_type": "markdown",
   "id": "73bd8c4d-9304-416d-81c6-0fdac4961af3",
   "metadata": {},
   "source": [
    "## XML"
   ]
  },
  {
   "cell_type": "code",
   "execution_count": null,
   "id": "4a55c878-5a25-4204-bb47-47b7fc2efa56",
   "metadata": {},
   "outputs": [],
   "source": [
    "seq = plib_maps[\"pLIB112\"]"
   ]
  },
  {
   "cell_type": "code",
   "execution_count": null,
   "id": "3ecc05f9-e615-40bf-b0a3-285561a0fe89",
   "metadata": {},
   "outputs": [],
   "source": [
    "from xmldiff.main import diff_texts"
   ]
  },
  {
   "cell_type": "code",
   "execution_count": null,
   "id": "8245f88a-b25a-445d-b7b8-2b845abdfe15",
   "metadata": {},
   "outputs": [],
   "source": [
    "output = etree.tostring(geneious.dump_geneious(seq4), pretty_print=True)"
   ]
  },
  {
   "cell_type": "code",
   "execution_count": null,
   "id": "098349f4-112b-4dd2-b61b-a1e6c558f8db",
   "metadata": {},
   "outputs": [],
   "source": [
    "x = etree.fromstring(doc4)"
   ]
  },
  {
   "cell_type": "code",
   "execution_count": null,
   "id": "bbe5745b-6639-4df5-b4a3-e5b84c1c5ca1",
   "metadata": {},
   "outputs": [],
   "source": [
    "geneious.load_geneious(x)"
   ]
  },
  {
   "cell_type": "code",
   "execution_count": null,
   "id": "e9a4b0ca-3b1b-431c-a051-a26cfc716f10",
   "metadata": {},
   "outputs": [],
   "source": [
    "seq4.annotations"
   ]
  },
  {
   "cell_type": "code",
   "execution_count": null,
   "id": "b2b98dfa-1646-49a8-b4d7-004ec753ac5b",
   "metadata": {},
   "outputs": [],
   "source": [
    "seq4.annotations[\"references\"][0].__class__"
   ]
  },
  {
   "cell_type": "code",
   "execution_count": null,
   "id": "3138ee08-c260-4809-9e0a-809e6ea12ce1",
   "metadata": {},
   "outputs": [],
   "source": [
    "geneious.loads_geneious(doc4).annotations"
   ]
  },
  {
   "cell_type": "markdown",
   "id": "f76f7102-1d99-412a-99f2-0fd26e8a148b",
   "metadata": {},
   "source": [
    "## Round-trip: seq->geneious-seq"
   ]
  },
  {
   "cell_type": "markdown",
   "id": "eb0337e0-92db-41d7-940b-ceb39104bb1f",
   "metadata": {},
   "source": [
    "## Round-trip: geneious->seq->geneious"
   ]
  },
  {
   "cell_type": "markdown",
   "id": "ca32bd60-9c3f-4518-ad9d-7284b063c321",
   "metadata": {},
   "source": [
    "## Old"
   ]
  },
  {
   "cell_type": "code",
   "execution_count": null,
   "id": "d720ba08-6e6e-446e-afed-81c7d9dba7bf",
   "metadata": {},
   "outputs": [],
   "source": [
    "for name, t in metadata.tables.items():\n",
    "    print(name)\n",
    "    q = select([t]).limit(20)\n",
    "    rows = conn.execute(q).all()\n",
    "    for row in rows:\n",
    "        print(row)\n",
    "    print()"
   ]
  },
  {
   "cell_type": "code",
   "execution_count": null,
   "id": "412d91b0-f99b-4c15-a59b-5820c4b83fc1",
   "metadata": {},
   "outputs": [],
   "source": [
    "q = select(g.AnnotatedDocument)\n",
    "rows = conn.execute(q).all()"
   ]
  },
  {
   "cell_type": "code",
   "execution_count": null,
   "id": "d707036c-3b18-49d6-bb23-00855fe29756",
   "metadata": {},
   "outputs": [],
   "source": [
    "doc0 = rows[0][\"plugin_document_xml\"]"
   ]
  },
  {
   "cell_type": "code",
   "execution_count": null,
   "id": "b64ad9c9-57a9-4f46-a73a-6c5afa415e29",
   "metadata": {},
   "outputs": [],
   "source": [
    "doc4 = rows[-1][\"plugin_document_xml\"]"
   ]
  },
  {
   "cell_type": "code",
   "execution_count": null,
   "id": "53e3d43c-7095-46f5-8f48-0890cc6305e0",
   "metadata": {},
   "outputs": [],
   "source": [
    "import os"
   ]
  },
  {
   "cell_type": "code",
   "execution_count": null,
   "id": "bb5d754b-bff4-45d3-babe-c3a4b1cba999",
   "metadata": {},
   "outputs": [],
   "source": [
    "seq4 = cio.read_file(os.path.expanduser(\"/Users/jacob/Downloads/_plasmids/genbank2.gb\"))"
   ]
  },
  {
   "cell_type": "code",
   "execution_count": null,
   "id": "dd39aa8a-9765-412c-ace6-706e5e16c11b",
   "metadata": {},
   "outputs": [],
   "source": [
    "seq4"
   ]
  },
  {
   "cell_type": "code",
   "execution_count": null,
   "id": "252a5d6c-648d-47d8-9467-544414fad164",
   "metadata": {},
   "outputs": [],
   "source": [
    "print(doc4)"
   ]
  },
  {
   "cell_type": "code",
   "execution_count": null,
   "id": "7536fa41-668f-4124-bc5e-c8a6a0fd1b67",
   "metadata": {},
   "outputs": [],
   "source": [
    "doc2 = rows[1][\"plugin_document_xml\"]"
   ]
  },
  {
   "cell_type": "code",
   "execution_count": null,
   "id": "c5fa411a-76b3-47be-89e7-8c49bdecdda5",
   "metadata": {},
   "outputs": [],
   "source": [
    "rows[5][\"xml_element\"]"
   ]
  },
  {
   "cell_type": "code",
   "execution_count": null,
   "id": "08fab596-6a5a-4c3f-87e6-37a644f3a47f",
   "metadata": {},
   "outputs": [],
   "source": [
    "docs = [xmltodict.parse(row[\"document_xml\"], dict_constructor=dict) for row in rows]"
   ]
  },
  {
   "cell_type": "code",
   "execution_count": null,
   "id": "6d7cb42e-42f4-4f9a-b673-27d507745edc",
   "metadata": {},
   "outputs": [],
   "source": [
    "BAD_CLASSES = [\n",
    "    # \"com.biomatters.geneious.publicapi.implementations.sequence.OligoSequenceDocument\",\n",
    "    \"com.biomatters.geneious.publicapi.documents.OperationRecordDocument\",\n",
    "]\n",
    "good_docs = [d for d in docs if d[\"document\"][\"@class\"] not in BAD_CLASSES]"
   ]
  },
  {
   "cell_type": "code",
   "execution_count": null,
   "id": "b65c8c61-58a7-420d-bb25-e1f97eda8c7b",
   "metadata": {},
   "outputs": [],
   "source": [
    "set(d[\"document\"][\"@class\"] for d in good_docs)"
   ]
  },
  {
   "cell_type": "code",
   "execution_count": null,
   "id": "d5ead73b-e71b-4bc0-b466-09c7e1e16bbb",
   "metadata": {},
   "outputs": [],
   "source": [
    "rows[2][\"document_xml\"]"
   ]
  },
  {
   "cell_type": "code",
   "execution_count": null,
   "id": "82aba5d1-a585-4b5b-9814-d5fa0395f688",
   "metadata": {},
   "outputs": [],
   "source": [
    "x = xmltodict.parse(rows[2][\"plugin_document_xml\"], dict_constructor=dict)"
   ]
  },
  {
   "cell_type": "code",
   "execution_count": null,
   "id": "83a00967-a7c6-480d-98f3-9df052b75343",
   "metadata": {},
   "outputs": [],
   "source": [
    "x"
   ]
  },
  {
   "cell_type": "code",
   "execution_count": null,
   "id": "1d27f6a6-c269-4827-847a-5d73e7c69405",
   "metadata": {},
   "outputs": [],
   "source": []
  }
 ],
 "metadata": {
  "kernelspec": {
   "display_name": "Python 3 (ipykernel)",
   "language": "python",
   "name": "python3"
  },
  "language_info": {
   "codemirror_mode": {
    "name": "ipython",
    "version": 3
   },
   "file_extension": ".py",
   "mimetype": "text/x-python",
   "name": "python",
   "nbconvert_exporter": "python",
   "pygments_lexer": "ipython3",
   "version": "3.8.8"
  }
 },
 "nbformat": 4,
 "nbformat_minor": 5
}
