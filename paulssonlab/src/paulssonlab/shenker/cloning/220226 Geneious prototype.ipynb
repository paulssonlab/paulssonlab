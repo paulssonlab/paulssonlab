{
 "cells": [
  {
   "cell_type": "code",
   "execution_count": null,
   "id": "12f5cf1c-68f3-41a5-92c5-5f9f9dd1bcef",
   "metadata": {},
   "outputs": [],
   "source": [
    "import toml\n",
    "import pygsheets\n",
    "from tqdm.auto import tqdm\n",
    "from Bio.Seq import Seq\n",
    "from Bio.SeqRecord import SeqRecord\n",
    "import sqlalchemy\n",
    "from sqlalchemy import select, text\n",
    "import xmltodict\n",
    "from lxml import etree\n",
    "from cytoolz import get_in\n",
    "from datetime import datetime"
   ]
  },
  {
   "cell_type": "code",
   "execution_count": null,
   "id": "74df6d3b-0d70-4519-a851-f77c62686650",
   "metadata": {},
   "outputs": [],
   "source": [
    "%load_ext autoreload\n",
    "%autoreload 2"
   ]
  },
  {
   "cell_type": "code",
   "execution_count": null,
   "id": "55a238fa-b210-4d54-8205-1c34683f3b20",
   "metadata": {},
   "outputs": [],
   "source": [
    "import paulssonlab.cloning.registry as registry\n",
    "import paulssonlab.cloning.io as cio\n",
    "import paulssonlab.cloning.sequence as sequence\n",
    "import paulssonlab.cloning.primers as primers\n",
    "import paulssonlab.api.geneious as geneious\n",
    "import paulssonlab.api.geneious_db as g"
   ]
  },
  {
   "cell_type": "markdown",
   "id": "8043ca66-1f9b-4015-80dc-b64e9f1f4ce0",
   "metadata": {
    "tags": []
   },
   "source": [
    "# Setup"
   ]
  },
  {
   "cell_type": "code",
   "execution_count": null,
   "id": "632e4db0-c5e8-4822-a281-0906096979b1",
   "metadata": {},
   "outputs": [],
   "source": [
    "config = toml.load(\"config.toml\")"
   ]
  },
  {
   "cell_type": "code",
   "execution_count": null,
   "id": "c49c036b-49e7-4fc9-a707-fc3f6405491c",
   "metadata": {},
   "outputs": [],
   "source": [
    "gc = pygsheets.authorize(service_account_file=\"credentials.json\")"
   ]
  },
  {
   "cell_type": "code",
   "execution_count": null,
   "id": "49d2dd61-7d60-450f-83fc-138e9f7ac9d3",
   "metadata": {},
   "outputs": [],
   "source": [
    "geneious_sessionmaker = geneious.connect(**config[\"geneious_test_local\"])"
   ]
  },
  {
   "cell_type": "code",
   "execution_count": null,
   "id": "72fb4bf4-2fe1-4f63-89d1-07f7b7aa0773",
   "metadata": {},
   "outputs": [],
   "source": [
    "reg = registry.Registry(\n",
    "    gc,\n",
    "    config[\"registry\"][\"folder\"],\n",
    "    geneious_sessionmaker=geneious_sessionmaker,\n",
    "    geneious_folder=(\"registry\", \"test1\"),\n",
    ")"
   ]
  },
  {
   "cell_type": "markdown",
   "id": "46ee8ec8-a9af-4c93-87e1-e38d8ea1b2e7",
   "metadata": {},
   "source": [
    "# Config"
   ]
  },
  {
   "cell_type": "code",
   "execution_count": null,
   "id": "7f9344fc-cda9-45c7-bb00-980e88fee3bc",
   "metadata": {},
   "outputs": [],
   "source": [
    "lib_parts = reg[(\"LIB\", \"parts\")]\n",
    "olib_oligos = reg[(\"oLIB\", \"oligos\")]\n",
    "plib_maps = reg[(\"pLIB\", \"maps\")]\n",
    "part_types = reg[(\"LIB\", \"parts\", \"Part types\")]"
   ]
  },
  {
   "cell_type": "markdown",
   "id": "31b80fd6-d57a-4b15-9218-0c392e2cd8da",
   "metadata": {},
   "source": [
    "# Sync"
   ]
  },
  {
   "cell_type": "code",
   "execution_count": null,
   "id": "289ea2d2-18eb-4550-9257-c788cd3ad3c3",
   "metadata": {},
   "outputs": [],
   "source": [
    "session = reg.geneious_sessionmaker()"
   ]
  },
  {
   "cell_type": "code",
   "execution_count": null,
   "id": "6f24f9a5-1def-4659-8a13-32fa24040669",
   "metadata": {},
   "outputs": [],
   "source": [
    "root_folder = session.execute(\n",
    "    select(g.Folder).where(g.Folder.parent_folder_id == None)\n",
    ").one()[0]"
   ]
  },
  {
   "cell_type": "code",
   "execution_count": null,
   "id": "eb2bb4bc-e0f0-4c68-901a-970fd5d9abb3",
   "metadata": {},
   "outputs": [],
   "source": [
    "geneious_registry_folder = get_in(reg.geneious_folder, root_folder)"
   ]
  },
  {
   "cell_type": "code",
   "execution_count": null,
   "id": "97802430-c8b6-464f-95ff-f5730994e520",
   "metadata": {},
   "outputs": [],
   "source": [
    "def ensure_folder(path, root):\n",
    "    folder = root\n",
    "    for key in path:\n",
    "        print(key, path)\n",
    "        if key in folder:\n",
    "            folder = folder[key]\n",
    "        else:\n",
    "            # session.add(g.Folder(name=key, parent_folder=folder, g_group_id=folder.g_group_id))\n",
    "            new_folder = g.Folder(name=key, g_group_id=folder.g_group_id)\n",
    "            folder.children[key] = new_folder\n",
    "            folder = new_folder\n",
    "    return folder\n",
    "\n",
    "\n",
    "def update_mtimes(folder):\n",
    "    while folder is not None:\n",
    "        folder.modified = text(\"current_timestamp\")\n",
    "        folder = folder.parent_folder"
   ]
  },
  {
   "cell_type": "code",
   "execution_count": null,
   "id": "21272172-d119-49ab-8656-9df3ba8b8cb8",
   "metadata": {},
   "outputs": [],
   "source": [
    "test2 = ensure_folder(reg.geneious_folder + (\"test2\",), root_folder)"
   ]
  },
  {
   "cell_type": "code",
   "execution_count": null,
   "id": "38612951-c1b9-441f-aa6f-56349187766c",
   "metadata": {},
   "outputs": [],
   "source": [
    "z = session.execute(select(g.AnnotatedDocument)).all()[1][0]"
   ]
  },
  {
   "cell_type": "code",
   "execution_count": null,
   "id": "39f6ac41-a869-4bc6-b4f1-ba3baea972f7",
   "metadata": {},
   "outputs": [],
   "source": [
    "z"
   ]
  },
  {
   "cell_type": "code",
   "execution_count": null,
   "id": "d4194579-8034-4412-b8c6-cdfaa48f4d6a",
   "metadata": {},
   "outputs": [],
   "source": [
    "print(z.document_xml)"
   ]
  },
  {
   "cell_type": "code",
   "execution_count": null,
   "id": "aef57eac-47f2-47e2-8a70-df8e6263c70d",
   "metadata": {},
   "outputs": [],
   "source": [
    "print(z.plugin_document_xml)"
   ]
  },
  {
   "cell_type": "code",
   "execution_count": null,
   "id": "064007fb-4186-4a19-8ce9-c53f6b693327",
   "metadata": {},
   "outputs": [],
   "source": [
    "y = session.execute(select(g.AdditionalDocumentXml)).all()  # [3][0]"
   ]
  },
  {
   "cell_type": "code",
   "execution_count": null,
   "id": "c473ca16-2373-4f4e-9dbd-03c431add394",
   "metadata": {},
   "outputs": [],
   "source": [
    "y"
   ]
  },
  {
   "cell_type": "code",
   "execution_count": null,
   "id": "a6ce3b15-d011-4cd7-9596-89584ce6d168",
   "metadata": {},
   "outputs": [],
   "source": [
    "print(y[0][0].xml_element)"
   ]
  },
  {
   "cell_type": "code",
   "execution_count": null,
   "id": "7f5c1aee-8cba-4808-81c1-a93705026d9c",
   "metadata": {},
   "outputs": [],
   "source": [
    "print(y.xml_element)"
   ]
  },
  {
   "cell_type": "code",
   "execution_count": null,
   "id": "2cddcdfb-bb32-4db1-8403-daa88410b3df",
   "metadata": {},
   "outputs": [],
   "source": [
    "session.execute(select(g.AnnotatedDocument)).all()"
   ]
  },
  {
   "cell_type": "code",
   "execution_count": null,
   "id": "402a6085-a30e-4d60-bf05-df6c472a86c8",
   "metadata": {},
   "outputs": [],
   "source": [
    "x = session.execute(select(g.AnnotatedDocument)).all()[0][0]"
   ]
  },
  {
   "cell_type": "code",
   "execution_count": null,
   "id": "070f3ddc-d91a-4a75-a33f-308bb61b10d5",
   "metadata": {},
   "outputs": [],
   "source": [
    "session.delete(x)"
   ]
  },
  {
   "cell_type": "code",
   "execution_count": null,
   "id": "38e93920-3de9-422c-a334-846ad8b9a011",
   "metadata": {},
   "outputs": [],
   "source": [
    "session.commit()"
   ]
  },
  {
   "cell_type": "code",
   "execution_count": null,
   "id": "491207a8-7ff8-483e-a61d-8e3fa9e78e09",
   "metadata": {},
   "outputs": [],
   "source": [
    "idx = 0\n",
    "name = f\"seq_{idx}\"\n",
    "description = f\"seq_descr_{idx}\"\n",
    "# urn = geneious.make_urn()\n",
    "urn = f\"urn:local:jjjj{idx}:k-ehu829p\"\n",
    "plugin_urn = f\"urn:sequence:genbank:129361{idx}\"\n",
    "timestamp = geneious.geneious_timestamp()\n",
    "# timestamp = 1644517862199\n",
    "dt = datetime.fromtimestamp(timestamp / 1000)"
   ]
  },
  {
   "cell_type": "code",
   "execution_count": null,
   "id": "c3fc2e4d-59b7-4bd0-bae6-e9c4cd0b96b7",
   "metadata": {},
   "outputs": [],
   "source": [
    "# s = cio.read_file(\"/Users/jacob/Downloads/_temp/raw_sample_gb.gb\")\n",
    "s = cio.read_file(\"/Users/jacob/Downloads/_plasmids/pLIB112.gbk\")"
   ]
  },
  {
   "cell_type": "code",
   "execution_count": null,
   "id": "d786684b-7760-41cf-a7b5-1b799f107a63",
   "metadata": {},
   "outputs": [],
   "source": [
    "document_xml, plugin_document_xml = geneious.dumps_geneious(\n",
    "    s,\n",
    "    urn,\n",
    "    document_type=\"genbank\",\n",
    "    name=name,\n",
    "    description=description,\n",
    "    timestamp=timestamp,\n",
    "    pretty_print=True,\n",
    ")"
   ]
  },
  {
   "cell_type": "code",
   "execution_count": null,
   "id": "47d12517-8fb7-4657-99db-fc29077954f3",
   "metadata": {},
   "outputs": [],
   "source": [
    "adoc = g.AnnotatedDocument(\n",
    "    parent_folder=test2,\n",
    "    urn=urn,\n",
    "    modified=dt,\n",
    "    document_xml=document_xml,\n",
    "    plugin_document_xml=plugin_document_xml,\n",
    "    reference_count=0,\n",
    ")\n",
    "# adoc.g_users.append(user)\n",
    "session.add(adoc)\n",
    "# session.add(g.AdditionalXmlTimestamp(document_urn=urn, g_user_id=-1, modified=dt))\n",
    "# session.add(g.AdditionalDocumentXml(document_urn=urn, element_key=\"sequenceViewOptions\", xml_element=sequence_view_options_xml, geneious_major_version_1=2022, geneious_major_version_2=0, g_user_id=-1))\n",
    "# session.add(g.AdditionalDocumentXml(document_urn=urn, element_key=\"DocumentHistory\", xml_element=document_history_xml, geneious_major_version_1=2022, geneious_major_version_2=0, g_user_id=-1))\n",
    "# session.add(g.AdditionalDocumentXml(document_urn=urn, element_key=\"annotations_sequenceViewDedicatedAnnotationsOptions\", xml_element=sequence_view_dedicated_xml, geneious_major_version_1=2022, geneious_major_version_2=0, g_user_id=-1))\n",
    "test2.modified = dt  # text(\"current_timestamp\")"
   ]
  },
  {
   "cell_type": "code",
   "execution_count": null,
   "id": "e866cfc5-e543-4271-9b31-654f90668779",
   "metadata": {},
   "outputs": [],
   "source": [
    "session.commit()"
   ]
  },
  {
   "cell_type": "code",
   "execution_count": null,
   "id": "2b87acf9-bc2a-4980-926e-763a8f4e5de3",
   "metadata": {},
   "outputs": [],
   "source": [
    "user = session.execute(select(g.GUser).where(g.GUser.username == \"remoteuser\")).one()[0]"
   ]
  },
  {
   "cell_type": "code",
   "execution_count": null,
   "id": "b7e8170a-ef52-4059-9458-acb5c09bf047",
   "metadata": {},
   "outputs": [],
   "source": [
    "print(document_xml)"
   ]
  },
  {
   "cell_type": "code",
   "execution_count": null,
   "id": "9e69cd1d-223b-42fa-abba-67efbe7139f1",
   "metadata": {},
   "outputs": [],
   "source": [
    "print(plugin_document_xml)"
   ]
  },
  {
   "cell_type": "code",
   "execution_count": null,
   "id": "8d105f77-147d-4aa9-9326-6a4f7ac8c756",
   "metadata": {},
   "outputs": [],
   "source": [
    "session.commit()"
   ]
  },
  {
   "cell_type": "code",
   "execution_count": null,
   "id": "287c8f85-5ec5-49c7-b50c-203c245058ee",
   "metadata": {},
   "outputs": [],
   "source": [
    "special_element_xml = \"\"\"<NoteType>\n",
    "  <name>Primer Info</name>\n",
    "  <code>primerInfo</code>\n",
    "  <description>Information on a primer</description>\n",
    "  <isVisible>true</isVisible>\n",
    "  <isDefaultVisibleInTable>true</isDefaultVisibleInTable>\n",
    "  <modifiedDate>1633636573500</modifiedDate>\n",
    "  <fields>\n",
    "    <field>\n",
    "      <name>Gene</name>\n",
    "      <description />\n",
    "      <code>gene</code>\n",
    "      <editable>true</editable>\n",
    "      <type>java.lang.String</type>\n",
    "      <constraints />\n",
    "    </field>\n",
    "    <field enumeratedType=\"true\">\n",
    "      <name>Direction</name>\n",
    "      <description>Direction of the primer</description>\n",
    "      <code>direction</code>\n",
    "      <editable>true</editable>\n",
    "      <type>java.lang.String</type>\n",
    "      <valueSet>\n",
    "        <value>Forward</value>\n",
    "        <value>Reverse</value>\n",
    "      </valueSet>\n",
    "      <constraints />\n",
    "    </field>\n",
    "    <field>\n",
    "      <name>Box</name>\n",
    "      <description />\n",
    "      <code>box</code>\n",
    "      <editable>true</editable>\n",
    "      <type>java.lang.String</type>\n",
    "      <constraints />\n",
    "    </field>\n",
    "    <field>\n",
    "      <name>Row</name>\n",
    "      <description />\n",
    "      <code>row</code>\n",
    "      <editable>true</editable>\n",
    "      <type>java.lang.String</type>\n",
    "      <constraints />\n",
    "    </field>\n",
    "    <field>\n",
    "      <name>Column</name>\n",
    "      <description />\n",
    "      <code>column</code>\n",
    "      <editable>true</editable>\n",
    "      <type>java.lang.String</type>\n",
    "      <constraints />\n",
    "    </field>\n",
    "    <field>\n",
    "      <name>Purification Method</name>\n",
    "      <description />\n",
    "      <code>purificationMethod</code>\n",
    "      <editable>true</editable>\n",
    "      <type>java.lang.String</type>\n",
    "      <constraints />\n",
    "    </field>\n",
    "    <field>\n",
    "      <name>PMOL</name>\n",
    "      <description />\n",
    "      <code>pmol</code>\n",
    "      <editable>true</editable>\n",
    "      <type>java.lang.String</type>\n",
    "      <constraints />\n",
    "    </field>\n",
    "    <field>\n",
    "      <name>In Stock</name>\n",
    "      <description />\n",
    "      <code>inStock</code>\n",
    "      <editable>true</editable>\n",
    "      <type>java.lang.Boolean</type>\n",
    "      <constraints />\n",
    "    </field>\n",
    "    <field>\n",
    "      <name>Notes</name>\n",
    "      <description />\n",
    "      <code>notes</code>\n",
    "      <editable>true</editable>\n",
    "      <type>java.lang.String</type>\n",
    "      <constraints />\n",
    "    </field>\n",
    "  </fields>\n",
    "</NoteType>\"\"\""
   ]
  },
  {
   "cell_type": "code",
   "execution_count": null,
   "id": "01232d2b-e870-4b5c-b02a-030bb30e7614",
   "metadata": {},
   "outputs": [],
   "source": [
    "sequence_view_options_xml = \"\"\"<sequenceViewOptions geneiousVersion=\"2022.0.2\">\n",
    "  <SequenceViewerState>\n",
    "    <zoom isMinimumZoom=\"true\">1.0</zoom>\n",
    "    <SequenceViewerSelectionState>\n",
    "      <selectedRegions>\n",
    "        <element class=\"com.biomatters.plugins.sequenceviewer.selection.SelectedRegion\">\n",
    "          <SelectedRegion>\n",
    "            <residues>\n",
    "              <XMLSerialisableRootElement>\n",
    "                <from>28</from>\n",
    "                <to>28</to>\n",
    "              </XMLSerialisableRootElement>\n",
    "            </residues>\n",
    "            <sequences>\n",
    "              <XMLSerialisableRootElement>\n",
    "                <from>0</from>\n",
    "                <to>1</to>\n",
    "              </XMLSerialisableRootElement>\n",
    "            </sequences>\n",
    "          </SelectedRegion>\n",
    "        </element>\n",
    "      </selectedRegions>\n",
    "    </SequenceViewerSelectionState>\n",
    "    <SequenceViewerLocation>\n",
    "      <sequenceNumber>0</sequenceNumber>\n",
    "      <residueNumber>22</residueNumber>\n",
    "      <annotationNumber>0</annotationNumber>\n",
    "      <annotation_Track>-1</annotation_Track>\n",
    "      <annotationIntervalNumber>0</annotationIntervalNumber>\n",
    "      <xOffset>-1</xOffset>\n",
    "      <yOffset>-23</yOffset>\n",
    "    </SequenceViewerLocation>\n",
    "    <docRevisionNumbers>\n",
    "      <listValue>1</listValue>\n",
    "    </docRevisionNumbers>\n",
    "  </SequenceViewerState>\n",
    "  <translation>\n",
    "    <option name=\"frame\">Frame1</option>\n",
    "    <option name=\"relativeTo\">sequence</option>\n",
    "  </translation>\n",
    "  <liveAnnotators>\n",
    "    <option name=\"com.biomatters.plugins.featureFinder.FeatureFinder_NUCLEOTIDEOn\">false</option>\n",
    "    <option name=\"ORF_Annotation_GeneratorOn\">false</option>\n",
    "  </liveAnnotators>\n",
    "  <restrictionSites>\n",
    "    <childOption name=\"com.biomatters.plugins.restrictionAnalysis.RestrictionSiteAnnotationGenerator\">\n",
    "      <childOption name=\"com.biomatters.plugins.restrictionAnalysis.RestrictionSiteAnnotationGenerator\">\n",
    "        <option name=\"excluded\">(1, 28)</option>\n",
    "        <option name=\"grabExcludeRangeOption\">[1,28)</option>\n",
    "      </childOption>\n",
    "    </childOption>\n",
    "  </restrictionSites>\n",
    "</sequenceViewOptions>\"\"\"\n",
    "\n",
    "document_history_xml = \"\"\"<DocumentHistory geneiousVersion=\"2022.0.2\">\n",
    "  <entryFields>\n",
    "    <DocumentHistoryEntryField class=\"com.biomatters.geneious.publicapi.documents.DocumentHistoryEntryFieldImplementation\">\n",
    "      <com.biomatters.date fieldName=\"Created\">1626900476656</com.biomatters.date>\n",
    "    </DocumentHistoryEntryField>\n",
    "    <DocumentHistoryEntryField class=\"com.biomatters.geneious.publicapi.documents.DocumentHistoryEntryFieldImplementation\">\n",
    "      <com.biomatters.user fieldName=\"User\">jacob</com.biomatters.user>\n",
    "    </DocumentHistoryEntryField>\n",
    "    <DocumentHistoryEntryField class=\"com.biomatters.geneious.publicapi.documents.DocumentHistoryEntryFieldImplementation\">\n",
    "      <com.biomatters.geneiousVersion fieldName=\"Geneious Version\">2021.2.2</com.biomatters.geneiousVersion>\n",
    "    </DocumentHistoryEntryField>\n",
    "    <DocumentHistoryEntryField class=\"com.biomatters.geneious.publicapi.documents.DocumentHistoryEntryFieldImplementation\">\n",
    "      <com.biomatters.autogeneratedEntry fieldName=\"\" />\n",
    "    </DocumentHistoryEntryField>\n",
    "  </entryFields>\n",
    "</DocumentHistory>\"\"\"\n",
    "\n",
    "sequence_view_dedicated_xml = \"\"\"<annotations_sequenceViewDedicatedAnnotationsOptions geneiousVersion=\"2022.0.2\">\n",
    "  <SequenceViewerState>\n",
    "    <zoom isMinimumZoom=\"true\">0.0</zoom>\n",
    "    <SequenceViewerSelectionState tmForSelection=\"-1.0\">\n",
    "      <selectedRegions>\n",
    "        <element class=\"com.biomatters.plugins.sequenceviewer.selection.SelectedRegion\">\n",
    "          <SelectedRegion>\n",
    "            <residues>\n",
    "              <XMLSerialisableRootElement>\n",
    "                <from>0</from>\n",
    "                <to>28</to>\n",
    "              </XMLSerialisableRootElement>\n",
    "            </residues>\n",
    "            <sequences>\n",
    "              <XMLSerialisableRootElement>\n",
    "                <from>0</from>\n",
    "                <to>1</to>\n",
    "              </XMLSerialisableRootElement>\n",
    "            </sequences>\n",
    "          </SelectedRegion>\n",
    "        </element>\n",
    "      </selectedRegions>\n",
    "    </SequenceViewerSelectionState>\n",
    "  </SequenceViewerState>\n",
    "  <translation>\n",
    "    <option name=\"frame\">Frame1</option>\n",
    "    <option name=\"relativeTo\">sequence</option>\n",
    "  </translation>\n",
    "</annotations_sequenceViewDedicatedAnnotationsOptions>\"\"\""
   ]
  },
  {
   "cell_type": "code",
   "execution_count": null,
   "id": "db282c57-a261-4cfc-9da9-defc17bf5502",
   "metadata": {},
   "outputs": [],
   "source": [
    "session.execute(select(g.SpecialElement).where(g.SpecialElement))"
   ]
  },
  {
   "cell_type": "code",
   "execution_count": null,
   "id": "3559f8ee-7f68-4d2e-83db-099bab4f0daf",
   "metadata": {},
   "outputs": [],
   "source": [
    "annotation_definitions_folder = session.execute(\n",
    "    select(g.Folder)\n",
    "    .where(g.Folder.name == \"annotationDefinitions\")\n",
    "    .execution_options(include_invisible=True)\n",
    ").one()[0]\n",
    "# session.execute(update(g.SpecialElement))"
   ]
  },
  {
   "cell_type": "code",
   "execution_count": null,
   "id": "99d97498-9ebf-4a3e-b488-d96486ab8a9c",
   "metadata": {},
   "outputs": [],
   "source": [
    "annotation_definitions_folder  # .special_elements"
   ]
  },
  {
   "cell_type": "code",
   "execution_count": null,
   "id": "fba8c711-f847-4802-ab33-baa8e0059f95",
   "metadata": {},
   "outputs": [],
   "source": [
    "print(x.document_xml)"
   ]
  },
  {
   "cell_type": "code",
   "execution_count": null,
   "id": "054329a5-a23f-42fc-b4d2-d8de6d9b7ef4",
   "metadata": {},
   "outputs": [],
   "source": [
    "adoc"
   ]
  },
  {
   "cell_type": "code",
   "execution_count": null,
   "id": "c110dc0c-d301-49ab-b010-4bd8c665435c",
   "metadata": {},
   "outputs": [],
   "source": [
    "# parent folder modified\n",
    "# update special_element for invisible annotationDefinitions folder\n",
    "# parent folder modified\n",
    "# insert into document_read [DONE]\n",
    "# insert into indexing_queue\n",
    "# additional_document_xml [DONE]\n",
    "# try to update additional_xml_timestamp\n",
    "# if fails, insert additional_xml_timestamp [DONE]"
   ]
  },
  {
   "cell_type": "code",
   "execution_count": null,
   "id": "ee9c1df5-7d4b-4c06-b552-2506c27f8a6a",
   "metadata": {},
   "outputs": [],
   "source": [
    "session.execute(\n",
    "    select(g.Folder).where(g.Folder.id == 462).execution_options(include_invisible=True)\n",
    ").all()"
   ]
  },
  {
   "cell_type": "code",
   "execution_count": null,
   "id": "5bba9511-cd73-4178-a63b-c44238d777f3",
   "metadata": {},
   "outputs": [],
   "source": [
    "session.commit()"
   ]
  },
  {
   "cell_type": "code",
   "execution_count": null,
   "id": "2ae4c132-47d6-4c43-be4c-803036c1a9c9",
   "metadata": {},
   "outputs": [],
   "source": [
    "# execute <unnamed>: UPDATE special_element SET modified = CURRENT_TIMESTAMP, xml = $1 WHERE name = $2 AND folder_id = $3\n",
    "\n",
    "\"\"\"\n",
    "parameters: $1 = '<NoteType>\n",
    "  <name>Primer Info</name>\n",
    "  <code>primerInfo</code>\n",
    "  <description>Information on a primer</description>\n",
    "  <isVisible>true</isVisible>\n",
    "  <isDefaultVisibleInTable>true</isDefaultVisibleInTable>\n",
    "  <modifiedDate>1633636573500</modifiedDate>\n",
    "  <fields>\n",
    "    <field>\n",
    "      <name>Gene</name>\n",
    "      <description />\n",
    "      <code>gene</code>\n",
    "      <editable>true</editable>\n",
    "      <type>java.lang.String</type>\n",
    "      <constraints />\n",
    "    </field>\n",
    "    <field enumeratedType=\"true\">\n",
    "      <name>Direction</name>\n",
    "      <description>Direction of the primer</description>\n",
    "      <code>direction</code>\n",
    "      <editable>true</editable>\n",
    "      <type>java.lang.String</type>\n",
    "      <valueSet>\n",
    "        <value>Forward</value>\n",
    "        <value>Reverse</value>\n",
    "      </valueSet>\n",
    "      <constraints />\n",
    "    </field>\n",
    "    <field>\n",
    "      <name>Box</name>\n",
    "      <description />\n",
    "      <code>box</code>\n",
    "      <editable>true</editable>\n",
    "      <type>java.lang.String</type>\n",
    "      <constraints />\n",
    "    </field>\n",
    "    <field>\n",
    "      <name>Row</name>\n",
    "      <description />\n",
    "      <code>row</code>\n",
    "      <editable>true</editable>\n",
    "      <type>java.lang.String</type>\n",
    "      <constraints />\n",
    "    </field>\n",
    "    <field>\n",
    "      <name>Column</name>\n",
    "      <description />\n",
    "      <code>column</code>\n",
    "      <editable>true</editable>\n",
    "      <type>java.lang.String</type>\n",
    "      <constraints />\n",
    "    </field>\n",
    "    <field>\n",
    "      <name>Purification Method</name>\n",
    "      <description />\n",
    "      <code>purificationMethod</code>\n",
    "      <editable>true</editable>\n",
    "      <type>java.lang.String</type>\n",
    "      <constraints />\n",
    "    </field>\n",
    "    <field>\n",
    "      <name>PMOL</name>\n",
    "      <description />\n",
    "      <code>pmol</code>\n",
    "      <editable>true</editable>\n",
    "      <type>java.lang.String</type>\n",
    "      <constraints />\n",
    "    </field>\n",
    "    <field>\n",
    "      <name>In Stock</name>\n",
    "      <description />\n",
    "      <code>inStock</code>\n",
    "      <editable>true</editable>\n",
    "      <type>java.lang.Boolean</type>\n",
    "      <constraints />\n",
    "    </field>\n",
    "    <field>\n",
    "      <name>Notes</name>\n",
    "      <description />\n",
    "      <code>notes</code>\n",
    "      <editable>true</editable>\n",
    "      <type>java.lang.String</type>\n",
    "      <constraints />\n",
    "    </field>\n",
    "  </fields>\n",
    "</NoteType>', $2 = '2', $3 = '2'\n",
    "\"\"\""
   ]
  },
  {
   "cell_type": "code",
   "execution_count": null,
   "id": "846ada22-2b15-480f-be9e-9c984917c8e3",
   "metadata": {},
   "outputs": [],
   "source": [
    "# execute S_8: INSERT INTO additional_document_xml(xml_element, document_urn, element_key, g_user_id, geneious_major_version_1, geneious_major_version_2) VALUES($1, $2, $3, $4, $5, $6)\n",
    "\n",
    "\"\"\"\n",
    "parameters: $1 = '<sequenceViewOptions geneiousVersion=\"2022.0.2\">\n",
    "  <SequenceViewerState>\n",
    "    <zoom isMinimumZoom=\"true\">1.0</zoom>\n",
    "    <SequenceViewerSelectionState>\n",
    "      <selectedRegions>\n",
    "        <element class=\"com.biomatters.plugins.sequenceviewer.selection.SelectedRegion\">\n",
    "          <SelectedRegion>\n",
    "            <residues>\n",
    "              <XMLSerialisableRootElement>\n",
    "                <from>28</from>\n",
    "                <to>28</to>\n",
    "              </XMLSerialisableRootElement>\n",
    "            </residues>\n",
    "            <sequences>\n",
    "              <XMLSerialisableRootElement>\n",
    "                <from>0</from>\n",
    "                <to>1</to>\n",
    "              </XMLSerialisableRootElement>\n",
    "            </sequences>\n",
    "          </SelectedRegion>\n",
    "        </element>\n",
    "      </selectedRegions>\n",
    "    </SequenceViewerSelectionState>\n",
    "    <SequenceViewerLocation>\n",
    "      <sequenceNumber>0</sequenceNumber>\n",
    "      <residueNumber>22</residueNumber>\n",
    "      <annotationNumber>0</annotationNumber>\n",
    "      <annotation_Track>-1</annotation_Track>\n",
    "      <annotationIntervalNumber>0</annotationIntervalNumber>\n",
    "      <xOffset>-1</xOffset>\n",
    "      <yOffset>-23</yOffset>\n",
    "    </SequenceViewerLocation>\n",
    "    <docRevisionNumbers>\n",
    "      <listValue>1</listValue>\n",
    "    </docRevisionNumbers>\n",
    "  </SequenceViewerState>\n",
    "  <translation>\n",
    "    <option name=\"frame\">Frame1</option>\n",
    "    <option name=\"relativeTo\">sequence</option>\n",
    "  </translation>\n",
    "  <liveAnnotators>\n",
    "    <option name=\"com.biomatters.plugins.featureFinder.FeatureFinder_NUCLEOTIDEOn\">false</option>\n",
    "    <option name=\"ORF_Annotation_GeneratorOn\">false</option>\n",
    "  </liveAnnotators>\n",
    "  <restrictionSites>\n",
    "    <childOption name=\"com.biomatters.plugins.restrictionAnalysis.RestrictionSiteAnnotationGenerator\">\n",
    "      <childOption name=\"com.biomatters.plugins.restrictionAnalysis.RestrictionSiteAnnotationGenerator\">\n",
    "        <option name=\"excluded\">(1, 28)</option>\n",
    "        <option name=\"grabExcludeRangeOption\">[1,28)</option>\n",
    "      </childOption>\n",
    "    </childOption>\n",
    "  </restrictionSites>\n",
    "</sequenceViewOptions>', $2 = 'urn:local:jacob:k-ei0r6mv', $3 = 'sequenceViewOptions', $4 = '-1', $5 = '2022', $6 = '0'\n",
    "\"\"\""
   ]
  },
  {
   "cell_type": "code",
   "execution_count": null,
   "id": "dc301c57-a1af-45ca-825f-b7a0606fc615",
   "metadata": {},
   "outputs": [],
   "source": [
    "\"\"\"\n",
    "parameters: $1 = '<DocumentHistory geneiousVersion=\"2022.0.2\">\n",
    "  <entryFields>\n",
    "    <DocumentHistoryEntryField class=\"com.biomatters.geneious.publicapi.documents.DocumentHistoryEntryFieldImplementation\">\n",
    "      <com.biomatters.date fieldName=\"Created\">1626900476656</com.biomatters.date>\n",
    "    </DocumentHistoryEntryField>\n",
    "    <DocumentHistoryEntryField class=\"com.biomatters.geneious.publicapi.documents.DocumentHistoryEntryFieldImplementation\">\n",
    "      <com.biomatters.user fieldName=\"User\">jacob</com.biomatters.user>\n",
    "    </DocumentHistoryEntryField>\n",
    "    <DocumentHistoryEntryField class=\"com.biomatters.geneious.publicapi.documents.DocumentHistoryEntryFieldImplementation\">\n",
    "      <com.biomatters.geneiousVersion fieldName=\"Geneious Version\">2021.2.2</com.biomatters.geneiousVersion>\n",
    "    </DocumentHistoryEntryField>\n",
    "    <DocumentHistoryEntryField class=\"com.biomatters.geneious.publicapi.documents.DocumentHistoryEntryFieldImplementation\">\n",
    "      <com.biomatters.autogeneratedEntry fieldName=\"\" />\n",
    "    </DocumentHistoryEntryField>\n",
    "  </entryFields>\n",
    "</DocumentHistory>', $2 = 'urn:local:jacob:k-ei0r6mv', $3 = 'DocumentHistory', $4 = '-1', $5 = '2022', $6 = '0'\n",
    "\"\"\""
   ]
  },
  {
   "cell_type": "code",
   "execution_count": null,
   "id": "343d6f97-be91-4a26-bb8b-1e9deb88f08e",
   "metadata": {},
   "outputs": [],
   "source": [
    "# can skip??\n",
    "\n",
    "\"\"\"\n",
    "parameters: $1 = '<annotations_sequenceViewDedicatedAnnotationsOptions geneiousVersion=\"2022.0.2\">\n",
    "  <SequenceViewerState>\n",
    "    <zoom isMinimumZoom=\"true\">0.0</zoom>\n",
    "    <SequenceViewerSelectionState tmForSelection=\"-1.0\">\n",
    "      <selectedRegions>\n",
    "        <element class=\"com.biomatters.plugins.sequenceviewer.selection.SelectedRegion\">\n",
    "          <SelectedRegion>\n",
    "            <residues>\n",
    "              <XMLSerialisableRootElement>\n",
    "                <from>0</from>\n",
    "                <to>28</to>\n",
    "              </XMLSerialisableRootElement>\n",
    "            </residues>\n",
    "            <sequences>\n",
    "              <XMLSerialisableRootElement>\n",
    "                <from>0</from>\n",
    "                <to>1</to>\n",
    "              </XMLSerialisableRootElement>\n",
    "            </sequences>\n",
    "          </SelectedRegion>\n",
    "        </element>\n",
    "      </selectedRegions>\n",
    "    </SequenceViewerSelectionState>\n",
    "  </SequenceViewerState>\n",
    "  <translation>\n",
    "    <option name=\"frame\">Frame1</option>\n",
    "    <option name=\"relativeTo\">sequence</option>\n",
    "  </translation>\n",
    "</annotations_sequenceViewDedicatedAnnotationsOptions>', $2 = 'urn:local:jacob:k-ei0r6mv', $3 = 'annotations_sequenceViewDedicatedAnnotationsOptions', $4 = '-1', $5 = '2022', $6 = '0'\n",
    "\"\"\""
   ]
  },
  {
   "cell_type": "code",
   "execution_count": null,
   "id": "77d3e764-63a8-44ac-97f0-2fe72a623579",
   "metadata": {},
   "outputs": [],
   "source": [
    "for key in reg:\n",
    "    type_ = key[1]\n",
    "    if key[0] == \"LIB\" and key[1] in (\"oligos\",):\n",
    "        client = reg[key]\n",
    "        collection_folder = ensure_folder(key, geneious_registry_folder)\n",
    "        for name in client.keys():\n",
    "            entry = reg.get_with_prefix(name, key[0], type_)\n",
    "            print(name)\n",
    "            print(entry)\n",
    "            if type_ == \"parts\":\n",
    "                pass\n",
    "            elif type_ == \"plasmids\":\n",
    "                pass\n",
    "            elif type_ == \"oligos\":\n",
    "                urn = geneious.make_urn()\n",
    "\n",
    "            else:\n",
    "                raise NotImplementedError\n",
    "            break"
   ]
  },
  {
   "cell_type": "code",
   "execution_count": null,
   "id": "061963bb-05d1-468a-b629-c10f5471a410",
   "metadata": {},
   "outputs": [],
   "source": [
    "geneious.make_urn()"
   ]
  },
  {
   "cell_type": "code",
   "execution_count": null,
   "id": "8fd3ed5a-57cb-4ae4-90e0-86cb2fa820c5",
   "metadata": {},
   "outputs": [],
   "source": [
    "a, b = geneious.dump_geneious(\n",
    "    s,\n",
    "    geneious.make_urn(),\n",
    "    document_type=\"primer\",\n",
    "    name=\"myname\",\n",
    "    description=\"mydescr\",\n",
    "    timestamp=geneious.geneious_timestamp(),\n",
    ")"
   ]
  },
  {
   "cell_type": "code",
   "execution_count": null,
   "id": "20ba7ea2-f5ee-4698-9cce-d10fca4e4975",
   "metadata": {},
   "outputs": [],
   "source": [
    "print(etree.tostring(b, encoding=\"utf8\", pretty_print=True).decode())"
   ]
  },
  {
   "cell_type": "code",
   "execution_count": null,
   "id": "70e41ce7-e319-4e33-b50a-3f650953e800",
   "metadata": {},
   "outputs": [],
   "source": [
    "dir(s)"
   ]
  },
  {
   "cell_type": "code",
   "execution_count": null,
   "id": "2c5a6240-d33e-4782-8538-b87e0d2b9cd0",
   "metadata": {},
   "outputs": [],
   "source": [
    "print(\n",
    "    get_in((\"New Folder\", \"oligos\"), root_folder)\n",
    "    .annotated_documents[0]\n",
    "    .plugin_document_xml\n",
    ")"
   ]
  },
  {
   "cell_type": "code",
   "execution_count": null,
   "id": "5b50a2fd-3342-4e48-945b-38b08c301a63",
   "metadata": {},
   "outputs": [],
   "source": [
    "x = session.execute(select(g.AnnotatedDocument)).all()[1][0]"
   ]
  },
  {
   "cell_type": "code",
   "execution_count": null,
   "id": "9423666d-968c-47a8-a9d2-949ffe7a2d60",
   "metadata": {},
   "outputs": [],
   "source": [
    "d1 = x.plugin_document_xml"
   ]
  },
  {
   "cell_type": "code",
   "execution_count": null,
   "id": "5df44589-92fb-412b-8586-dc63b8eac627",
   "metadata": {},
   "outputs": [],
   "source": [
    "print(d1)"
   ]
  },
  {
   "cell_type": "markdown",
   "id": "de6f850b-b0be-4688-aba3-f8ff186c4369",
   "metadata": {
    "tags": []
   },
   "source": [
    "# Test"
   ]
  },
  {
   "cell_type": "markdown",
   "id": "7c7ef2e2-d0dd-4202-8b51-c09de7866284",
   "metadata": {
    "tags": []
   },
   "source": [
    "## DB"
   ]
  },
  {
   "cell_type": "code",
   "execution_count": null,
   "id": "9e909f10-fd9e-401c-bf75-d901b7b31478",
   "metadata": {},
   "outputs": [],
   "source": [
    "db_url = sqlalchemy.engine.URL.create(**config[\"geneious_test_local\"])\n",
    "engine = sqlalchemy.create_engine(db_url, future=True, echo=True)\n",
    "Session = sqlalchemy.orm.sessionmaker(bind=engine, future=True)"
   ]
  },
  {
   "cell_type": "markdown",
   "id": "fd252070-d19e-4570-bb7b-932360af17f7",
   "metadata": {},
   "source": [
    "## DB test"
   ]
  },
  {
   "cell_type": "code",
   "execution_count": null,
   "id": "95512292-3380-45a6-9287-1e3de0ec86f6",
   "metadata": {},
   "outputs": [],
   "source": [
    "session = Session()"
   ]
  },
  {
   "cell_type": "code",
   "execution_count": null,
   "id": "45178060-5d18-47cb-a822-97ac84e1e38e",
   "metadata": {},
   "outputs": [],
   "source": [
    "x = session.execute(select(g.Folder).where(g.Folder.name == \"plasmids\")).one()[0]"
   ]
  },
  {
   "cell_type": "code",
   "execution_count": null,
   "id": "a8600a56-f7b8-41b9-87d2-0b61e6e8012c",
   "metadata": {},
   "outputs": [],
   "source": [
    "x.annotated_documents"
   ]
  },
  {
   "cell_type": "code",
   "execution_count": null,
   "id": "65aaf045-c7ae-4a53-b6ec-ad4196b66307",
   "metadata": {},
   "outputs": [],
   "source": [
    "y = x.annotated_documents[0]"
   ]
  },
  {
   "cell_type": "code",
   "execution_count": null,
   "id": "4cadb493-f501-4861-84dc-4c035c9d1fe4",
   "metadata": {},
   "outputs": [],
   "source": [
    "y.additional_document_xml"
   ]
  },
  {
   "cell_type": "code",
   "execution_count": null,
   "id": "494a9d26-d259-4199-8652-52eeb781e843",
   "metadata": {},
   "outputs": [],
   "source": [
    "session.execute(\"SELECT max(id) FROM folder\").one()"
   ]
  },
  {
   "cell_type": "code",
   "execution_count": null,
   "id": "202491d8-7236-4e19-ab7f-42ab4100255e",
   "metadata": {},
   "outputs": [],
   "source": [
    "session.execute(\"SELECT current_timestamp()\").one()"
   ]
  },
  {
   "cell_type": "code",
   "execution_count": null,
   "id": "2f1ab5fb-29a6-4279-bc32-f9c8e878083c",
   "metadata": {},
   "outputs": [],
   "source": [
    "session.execute(\"SELECT document_urn, element_key FROM additional_document_xml\").all()"
   ]
  },
  {
   "cell_type": "code",
   "execution_count": null,
   "id": "c01af031-2f0d-4648-84d6-c93737238a97",
   "metadata": {},
   "outputs": [],
   "source": [
    "import datetime"
   ]
  },
  {
   "cell_type": "code",
   "execution_count": null,
   "id": "dcbdebf1-1c90-4abf-ab0c-f00fed456f54",
   "metadata": {},
   "outputs": [],
   "source": [
    "datetime.datetime.now()"
   ]
  },
  {
   "cell_type": "code",
   "execution_count": null,
   "id": "438c947a-e3fc-4527-85b1-0f72594ac31d",
   "metadata": {},
   "outputs": [],
   "source": [
    "# start another geneious client (with another postgres user), add folder, see what triggers select from next_table_id\n",
    "\n",
    "# check cadence of select, see if the big join produces expected output\n",
    "# (difference between python folders and geneious folders?)\n",
    "\n",
    "# try adding new folder, changing modified of parent folder, see if geneious selects from next_table_id"
   ]
  },
  {
   "cell_type": "code",
   "execution_count": null,
   "id": "9a0c20d3-77e0-47de-8bce-b021c7d4d8f5",
   "metadata": {},
   "outputs": [],
   "source": [
    "# 2022-02-21 17:26:39.479 EST,\"newuser\",\"geneious_test1\",23897,\"127.0.0.1:64955\",62140436.5d59,1580,\"SELECT\",2022-02-21 16:29:26 EST,4/1573,0,LOG,00000,\"execute S_4: SELECT A.id,A.name,g_group_id,A.modified,document_urn,parent_folder_id,visible, C.xml AS folderColourXml, (CASE WHEN C.modified IS NOT NULL THEN C.modified ELSE CURRENT_TIMESTAMP END) AS folderColourModified FROM folder A LEFT OUTER JOIN folder_view B ON A.id = B.folder_id LEFT OUTER JOIN special_element C ON A.id = C.folder_id AND C.name = 'folderColor' WHERE A.modified > $1 AND A.modified < $2 AND id NOT IN (select hidden_folder_id from hidden_folder_to_user WHERE user_id != $3)\",\"parameters: $1 = '2022-02-21 17:00:43.453', $2 = '2022-02-21 17:26:39.479', $3 = '1'\",,,,,,,,\"PostgreSQL JDBC Driver\",\"client backend\",,0"
   ]
  },
  {
   "cell_type": "code",
   "execution_count": null,
   "id": "327ec328-e4a4-40f0-91f2-34ce13beb3ec",
   "metadata": {},
   "outputs": [],
   "source": [
    "for idx in range(40):\n",
    "    with Session.begin() as session:\n",
    "        group = session.execute(\n",
    "            select(g.GGroup).where(g.GGroup.name == \"Everybody\")\n",
    "        ).one()[0]\n",
    "        print(\"group\", group)\n",
    "        parent = session.execute(select(g.Folder).where(g.Folder.name == \"xxx5\")).one()[\n",
    "            0\n",
    "        ]\n",
    "        print(parent)\n",
    "        new_name = f\"sub{idx}\"\n",
    "        new_folder = g.Folder(name=new_name, g_group=group)\n",
    "        new_folder.parent_folder = parent\n",
    "        parent.modified = text(\"current_timestamp\")  # datetime.datetime.utcnow()\n",
    "        session.add(new_folder)\n",
    "        # parent.children[new_name] = new_folder\n",
    "        # session.execute(update(sql.functions.max(g.Table.id)))\n",
    "        # session.execute(\"UPDATE next_table_id SET next_id = (SELECT max(id) FROM folder) WHERE table_name = 'folder'\")"
   ]
  },
  {
   "cell_type": "code",
   "execution_count": null,
   "id": "57e02997-7468-46aa-8aec-9b4397c84961",
   "metadata": {},
   "outputs": [],
   "source": [
    "with Session.begin() as session:\n",
    "    q = select(\n",
    "        g.Folder\n",
    "    )  # .where(g.Folder.name == \"bot4\")#.where(g.Folder.visible == True)\n",
    "    res = session.execute(q).all()\n",
    "    print(\"\\n\".join(map(str, res)))"
   ]
  },
  {
   "cell_type": "code",
   "execution_count": null,
   "id": "7d3225b2-b316-4e22-868a-2adde232e0cb",
   "metadata": {},
   "outputs": [],
   "source": [
    "with Session.begin() as session:\n",
    "    q = select(g.NextTableId)\n",
    "    res = session.execute(q).all()\n",
    "    print(\"\\n\".join(map(str, res)))"
   ]
  },
  {
   "cell_type": "code",
   "execution_count": null,
   "id": "d9e5633f-6a11-4b38-8795-c40e1ec0bb54",
   "metadata": {},
   "outputs": [],
   "source": [
    "with Session.begin() as session:\n",
    "    res = session.execute(text(\"SELECT * from folder;\")).all()\n",
    "    print(\"\\n\".join(map(str, res)))"
   ]
  },
  {
   "cell_type": "code",
   "execution_count": null,
   "id": "08b43e05-b8b3-4ccc-86c7-25066c9d57bf",
   "metadata": {},
   "outputs": [],
   "source": [
    "with Session.begin() as session:\n",
    "    q = select(g.NextTableId)\n",
    "    res = session.execute(q).all()\n",
    "    print(\"\\n\".join(map(str, res)))"
   ]
  },
  {
   "cell_type": "code",
   "execution_count": null,
   "id": "f6f8f27c-8e06-44f3-be4a-a3919b6462bd",
   "metadata": {},
   "outputs": [],
   "source": [
    "with Session.begin() as session:\n",
    "    q = select(g.Folder)\n",
    "    res = session.execute(q).all()\n",
    "    print(\"\\n\".join(map(str, res)))"
   ]
  },
  {
   "cell_type": "markdown",
   "id": "73bd8c4d-9304-416d-81c6-0fdac4961af3",
   "metadata": {},
   "source": [
    "## XML"
   ]
  },
  {
   "cell_type": "code",
   "execution_count": null,
   "id": "4a55c878-5a25-4204-bb47-47b7fc2efa56",
   "metadata": {},
   "outputs": [],
   "source": [
    "seq = plib_maps[\"pLIB112\"]"
   ]
  },
  {
   "cell_type": "code",
   "execution_count": null,
   "id": "3ecc05f9-e615-40bf-b0a3-285561a0fe89",
   "metadata": {},
   "outputs": [],
   "source": [
    "from xmldiff.main import diff_texts"
   ]
  },
  {
   "cell_type": "code",
   "execution_count": null,
   "id": "8245f88a-b25a-445d-b7b8-2b845abdfe15",
   "metadata": {},
   "outputs": [],
   "source": [
    "output = etree.tostring(geneious.dump_geneious(seq4), pretty_print=True)"
   ]
  },
  {
   "cell_type": "code",
   "execution_count": null,
   "id": "098349f4-112b-4dd2-b61b-a1e6c558f8db",
   "metadata": {},
   "outputs": [],
   "source": [
    "x = etree.fromstring(doc4)"
   ]
  },
  {
   "cell_type": "code",
   "execution_count": null,
   "id": "bbe5745b-6639-4df5-b4a3-e5b84c1c5ca1",
   "metadata": {},
   "outputs": [],
   "source": [
    "geneious.load_geneious(x)"
   ]
  },
  {
   "cell_type": "code",
   "execution_count": null,
   "id": "e9a4b0ca-3b1b-431c-a051-a26cfc716f10",
   "metadata": {},
   "outputs": [],
   "source": [
    "seq4.annotations"
   ]
  },
  {
   "cell_type": "code",
   "execution_count": null,
   "id": "b2b98dfa-1646-49a8-b4d7-004ec753ac5b",
   "metadata": {},
   "outputs": [],
   "source": [
    "seq4.annotations[\"references\"][0].__class__"
   ]
  },
  {
   "cell_type": "code",
   "execution_count": null,
   "id": "3138ee08-c260-4809-9e0a-809e6ea12ce1",
   "metadata": {},
   "outputs": [],
   "source": [
    "geneious.loads_geneious(doc4).annotations"
   ]
  },
  {
   "cell_type": "markdown",
   "id": "f76f7102-1d99-412a-99f2-0fd26e8a148b",
   "metadata": {},
   "source": [
    "## Round-trip: seq->geneious-seq"
   ]
  },
  {
   "cell_type": "markdown",
   "id": "eb0337e0-92db-41d7-940b-ceb39104bb1f",
   "metadata": {},
   "source": [
    "## Round-trip: geneious->seq->geneious"
   ]
  },
  {
   "cell_type": "markdown",
   "id": "ca32bd60-9c3f-4518-ad9d-7284b063c321",
   "metadata": {},
   "source": [
    "## Old"
   ]
  },
  {
   "cell_type": "code",
   "execution_count": null,
   "id": "d720ba08-6e6e-446e-afed-81c7d9dba7bf",
   "metadata": {},
   "outputs": [],
   "source": [
    "for name, t in metadata.tables.items():\n",
    "    print(name)\n",
    "    q = select([t]).limit(20)\n",
    "    rows = conn.execute(q).all()\n",
    "    for row in rows:\n",
    "        print(row)\n",
    "    print()"
   ]
  },
  {
   "cell_type": "code",
   "execution_count": null,
   "id": "412d91b0-f99b-4c15-a59b-5820c4b83fc1",
   "metadata": {},
   "outputs": [],
   "source": [
    "q = select(g.AnnotatedDocument)\n",
    "rows = conn.execute(q).all()"
   ]
  },
  {
   "cell_type": "code",
   "execution_count": null,
   "id": "d707036c-3b18-49d6-bb23-00855fe29756",
   "metadata": {},
   "outputs": [],
   "source": [
    "doc0 = rows[0][\"plugin_document_xml\"]"
   ]
  },
  {
   "cell_type": "code",
   "execution_count": null,
   "id": "b64ad9c9-57a9-4f46-a73a-6c5afa415e29",
   "metadata": {},
   "outputs": [],
   "source": [
    "doc4 = rows[-1][\"plugin_document_xml\"]"
   ]
  },
  {
   "cell_type": "code",
   "execution_count": null,
   "id": "53e3d43c-7095-46f5-8f48-0890cc6305e0",
   "metadata": {},
   "outputs": [],
   "source": [
    "import os"
   ]
  },
  {
   "cell_type": "code",
   "execution_count": null,
   "id": "bb5d754b-bff4-45d3-babe-c3a4b1cba999",
   "metadata": {},
   "outputs": [],
   "source": [
    "seq4 = cio.read_file(os.path.expanduser(\"/Users/jacob/Downloads/_plasmids/genbank2.gb\"))"
   ]
  },
  {
   "cell_type": "code",
   "execution_count": null,
   "id": "dd39aa8a-9765-412c-ace6-706e5e16c11b",
   "metadata": {},
   "outputs": [],
   "source": [
    "seq4"
   ]
  },
  {
   "cell_type": "code",
   "execution_count": null,
   "id": "252a5d6c-648d-47d8-9467-544414fad164",
   "metadata": {},
   "outputs": [],
   "source": [
    "print(doc4)"
   ]
  },
  {
   "cell_type": "code",
   "execution_count": null,
   "id": "7536fa41-668f-4124-bc5e-c8a6a0fd1b67",
   "metadata": {},
   "outputs": [],
   "source": [
    "doc2 = rows[1][\"plugin_document_xml\"]"
   ]
  },
  {
   "cell_type": "code",
   "execution_count": null,
   "id": "c5fa411a-76b3-47be-89e7-8c49bdecdda5",
   "metadata": {},
   "outputs": [],
   "source": [
    "rows[5][\"xml_element\"]"
   ]
  },
  {
   "cell_type": "code",
   "execution_count": null,
   "id": "08fab596-6a5a-4c3f-87e6-37a644f3a47f",
   "metadata": {},
   "outputs": [],
   "source": [
    "docs = [xmltodict.parse(row[\"document_xml\"], dict_constructor=dict) for row in rows]"
   ]
  },
  {
   "cell_type": "code",
   "execution_count": null,
   "id": "6d7cb42e-42f4-4f9a-b673-27d507745edc",
   "metadata": {},
   "outputs": [],
   "source": [
    "BAD_CLASSES = [\n",
    "    # \"com.biomatters.geneious.publicapi.implementations.sequence.OligoSequenceDocument\",\n",
    "    \"com.biomatters.geneious.publicapi.documents.OperationRecordDocument\",\n",
    "]\n",
    "good_docs = [d for d in docs if d[\"document\"][\"@class\"] not in BAD_CLASSES]"
   ]
  },
  {
   "cell_type": "code",
   "execution_count": null,
   "id": "b65c8c61-58a7-420d-bb25-e1f97eda8c7b",
   "metadata": {},
   "outputs": [],
   "source": [
    "set(d[\"document\"][\"@class\"] for d in good_docs)"
   ]
  },
  {
   "cell_type": "code",
   "execution_count": null,
   "id": "d5ead73b-e71b-4bc0-b466-09c7e1e16bbb",
   "metadata": {},
   "outputs": [],
   "source": [
    "rows[2][\"document_xml\"]"
   ]
  },
  {
   "cell_type": "code",
   "execution_count": null,
   "id": "82aba5d1-a585-4b5b-9814-d5fa0395f688",
   "metadata": {},
   "outputs": [],
   "source": [
    "x = xmltodict.parse(rows[2][\"plugin_document_xml\"], dict_constructor=dict)"
   ]
  },
  {
   "cell_type": "code",
   "execution_count": null,
   "id": "83a00967-a7c6-480d-98f3-9df052b75343",
   "metadata": {},
   "outputs": [],
   "source": [
    "x"
   ]
  },
  {
   "cell_type": "code",
   "execution_count": null,
   "id": "1d27f6a6-c269-4827-847a-5d73e7c69405",
   "metadata": {},
   "outputs": [],
   "source": []
  }
 ],
 "metadata": {
  "kernelspec": {
   "display_name": "Python 3 (ipykernel)",
   "language": "python",
   "name": "python3"
  },
  "language_info": {
   "codemirror_mode": {
    "name": "ipython",
    "version": 3
   },
   "file_extension": ".py",
   "mimetype": "text/x-python",
   "name": "python",
   "nbconvert_exporter": "python",
   "pygments_lexer": "ipython3",
   "version": "3.8.8"
  }
 },
 "nbformat": 4,
 "nbformat_minor": 5
}
