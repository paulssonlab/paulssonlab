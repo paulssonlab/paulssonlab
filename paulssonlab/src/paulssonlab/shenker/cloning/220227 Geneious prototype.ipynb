{
 "cells": [
  {
   "cell_type": "code",
   "execution_count": null,
   "id": "12f5cf1c-68f3-41a5-92c5-5f9f9dd1bcef",
   "metadata": {},
   "outputs": [],
   "source": [
    "import toml\n",
    "import pygsheets\n",
    "from tqdm.auto import tqdm\n",
    "from Bio.Seq import Seq\n",
    "from Bio.SeqRecord import SeqRecord\n",
    "import sqlalchemy\n",
    "from sqlalchemy import select, text\n",
    "import xmltodict\n",
    "from lxml import etree\n",
    "from cytoolz import get_in\n",
    "from itertools import islice\n",
    "from datetime import datetime"
   ]
  },
  {
   "cell_type": "code",
   "execution_count": null,
   "id": "74df6d3b-0d70-4519-a851-f77c62686650",
   "metadata": {},
   "outputs": [],
   "source": [
    "%load_ext autoreload\n",
    "%autoreload 2"
   ]
  },
  {
   "cell_type": "code",
   "execution_count": null,
   "id": "55a238fa-b210-4d54-8205-1c34683f3b20",
   "metadata": {},
   "outputs": [],
   "source": [
    "import paulssonlab.cloning.registry as registry\n",
    "import paulssonlab.cloning.io as cio\n",
    "import paulssonlab.cloning.sequence as sequence\n",
    "import paulssonlab.cloning.primers as primers\n",
    "import paulssonlab.api.geneious as geneious\n",
    "import paulssonlab.api.geneious_db as g"
   ]
  },
  {
   "cell_type": "markdown",
   "id": "8043ca66-1f9b-4015-80dc-b64e9f1f4ce0",
   "metadata": {
    "tags": []
   },
   "source": [
    "# Setup"
   ]
  },
  {
   "cell_type": "code",
   "execution_count": null,
   "id": "632e4db0-c5e8-4822-a281-0906096979b1",
   "metadata": {},
   "outputs": [],
   "source": [
    "config = toml.load(\"config.toml\")"
   ]
  },
  {
   "cell_type": "code",
   "execution_count": null,
   "id": "c49c036b-49e7-4fc9-a707-fc3f6405491c",
   "metadata": {},
   "outputs": [],
   "source": [
    "gc = pygsheets.authorize(service_account_file=\"credentials.json\")"
   ]
  },
  {
   "cell_type": "code",
   "execution_count": null,
   "id": "49d2dd61-7d60-450f-83fc-138e9f7ac9d3",
   "metadata": {},
   "outputs": [],
   "source": [
    "geneious_sessionmaker = geneious.connect(**config[\"geneious_test\"])"
   ]
  },
  {
   "cell_type": "code",
   "execution_count": null,
   "id": "72fb4bf4-2fe1-4f63-89d1-07f7b7aa0773",
   "metadata": {},
   "outputs": [],
   "source": [
    "reg = registry.Registry(\n",
    "    gc,\n",
    "    config[\"registry\"][\"folder\"],\n",
    "    geneious_sessionmaker=geneious_sessionmaker,\n",
    "    geneious_folder=(\"registry\", \"test1\"),\n",
    ")"
   ]
  },
  {
   "cell_type": "markdown",
   "id": "31b80fd6-d57a-4b15-9218-0c392e2cd8da",
   "metadata": {},
   "source": [
    "# Sync"
   ]
  },
  {
   "cell_type": "code",
   "execution_count": null,
   "id": "97802430-c8b6-464f-95ff-f5730994e520",
   "metadata": {},
   "outputs": [],
   "source": [
    "import re\n",
    "\n",
    "\n",
    "def strip_leading_lowercase(s):\n",
    "    return re.sub(r\"^[a-z]*\", \"\", s)\n",
    "\n",
    "\n",
    "def ensure_folder(path, root):\n",
    "    folder = root\n",
    "    for key in path:\n",
    "        print(key, path)\n",
    "        if key in folder:\n",
    "            folder = folder[key]\n",
    "        else:\n",
    "            # session.add(g.Folder(name=key, parent_folder=folder, g_group_id=folder.g_group_id))\n",
    "            new_folder = g.Folder(name=key, g_group_id=folder.g_group_id)\n",
    "            folder.children[key] = new_folder\n",
    "            folder = new_folder\n",
    "    return folder\n",
    "\n",
    "\n",
    "def update_mtimes(folder):\n",
    "    while folder is not None:\n",
    "        folder.modified = text(\"current_timestamp\")\n",
    "        folder = folder.parent_folder"
   ]
  },
  {
   "cell_type": "code",
   "execution_count": null,
   "id": "289ea2d2-18eb-4550-9257-c788cd3ad3c3",
   "metadata": {},
   "outputs": [],
   "source": [
    "session = reg.geneious_sessionmaker()"
   ]
  },
  {
   "cell_type": "code",
   "execution_count": null,
   "id": "c60bcdc0-914a-4f7e-80d3-3e967b7c833a",
   "metadata": {},
   "outputs": [],
   "source": [
    "# g.Base.metadata.drop_all(session.bind)"
   ]
  },
  {
   "cell_type": "code",
   "execution_count": null,
   "id": "6f24f9a5-1def-4659-8a13-32fa24040669",
   "metadata": {},
   "outputs": [],
   "source": [
    "root_folder = session.execute(\n",
    "    select(g.Folder).where(g.Folder.parent_folder_id == None)\n",
    ").one()[0]"
   ]
  },
  {
   "cell_type": "code",
   "execution_count": null,
   "id": "eb2bb4bc-e0f0-4c68-901a-970fd5d9abb3",
   "metadata": {},
   "outputs": [],
   "source": [
    "geneious_registry_folder = ensure_folder(reg.geneious_folder, root_folder)"
   ]
  },
  {
   "cell_type": "code",
   "execution_count": null,
   "id": "2b87acf9-bc2a-4980-926e-763a8f4e5de3",
   "metadata": {},
   "outputs": [],
   "source": [
    "# user = session.execute(select(g.GUser).where(g.GUser.username == \"remoteuser\")).one()[0]"
   ]
  },
  {
   "cell_type": "code",
   "execution_count": null,
   "id": "77d3e764-63a8-44ac-97f0-2fe72a623579",
   "metadata": {},
   "outputs": [],
   "source": [
    "for key in reg:\n",
    "    type_ = key[1]\n",
    "    print(key)\n",
    "    if key[0].endswith(\"LIB\") and key[1] in (\"plasmids\",):\n",
    "        client = reg[key]\n",
    "        subfolder_key = (strip_leading_lowercase(key[0]), \"_\".join(key))\n",
    "        collection_folder = ensure_folder(subfolder_key, geneious_registry_folder)\n",
    "        for name in islice(client.keys(), 20, 30):\n",
    "            entry = reg.get_with_prefix(name, key[0], type_)\n",
    "            print(entry)\n",
    "            if type_ == \"oligos\":\n",
    "                document_type = \"primer\"\n",
    "                name = entry[\"_id\"]\n",
    "                description = entry[\"Name\"]\n",
    "            elif type_ in (\"parts\", \"plasmids\"):\n",
    "                document_type = \"genbank\"\n",
    "                name = entry[\"_id\"]\n",
    "                description = entry[\"Description\"]\n",
    "            else:\n",
    "                raise NotImplementedError\n",
    "            seq = entry[\"_seq\"]\n",
    "            urn = geneious.make_urn()\n",
    "            # plugin_urn = geneious.make_urn()\n",
    "            timestamp = geneious.geneious_timestamp()\n",
    "            dt = datetime.fromtimestamp(timestamp / 1000)\n",
    "            # print(name, description)\n",
    "            document_xml, plugin_document_xml = geneious.dumps_geneious(\n",
    "                seq,\n",
    "                urn,\n",
    "                document_type=document_type,\n",
    "                name=name,\n",
    "                description=description,\n",
    "                timestamp=timestamp,\n",
    "            )\n",
    "            doc = g.AnnotatedDocument(\n",
    "                parent_folder=collection_folder,\n",
    "                urn=urn,\n",
    "                modified=dt,\n",
    "                document_xml=document_xml,\n",
    "                plugin_document_xml=plugin_document_xml,\n",
    "                reference_count=0,\n",
    "            )\n",
    "            session.add(doc)\n",
    "        # TODO\n",
    "        collection_folder.modified = text(\"current_timestamp\")\n",
    "        # update_mtimes(collection_folder)"
   ]
  },
  {
   "cell_type": "code",
   "execution_count": null,
   "id": "cf634443-4c81-4a55-ac0a-bd65bcf83b1c",
   "metadata": {},
   "outputs": [],
   "source": [
    "collection_folder.modified = text(\"current_timestamp\")"
   ]
  },
  {
   "cell_type": "code",
   "execution_count": null,
   "id": "84570897-0e35-4a0f-900f-bd577b547c5c",
   "metadata": {},
   "outputs": [],
   "source": [
    "session.commit()"
   ]
  },
  {
   "cell_type": "code",
   "execution_count": null,
   "id": "598ec8cb-4713-4c0f-a2ba-ebdbf4b6ed37",
   "metadata": {},
   "outputs": [],
   "source": [
    "session.execute(select(g.Folder)).all()"
   ]
  },
  {
   "cell_type": "code",
   "execution_count": null,
   "id": "9710354b-86bc-4a6c-a214-4001a56eb594",
   "metadata": {},
   "outputs": [],
   "source": [
    "session.execute(select(g.AnnotatedDocument)).all()[-1][0].modified = text(\n",
    "    \"current_timestamp\"\n",
    ")"
   ]
  },
  {
   "cell_type": "code",
   "execution_count": null,
   "id": "b124b33a-1264-4ea9-8280-199f7818870d",
   "metadata": {},
   "outputs": [],
   "source": [
    "session.execute(select(g.Folder)).all()[-1][0].modified = text(\"current_timestamp\")"
   ]
  },
  {
   "cell_type": "code",
   "execution_count": null,
   "id": "a72234a2-1732-499b-9478-ce2cfe7de9d5",
   "metadata": {},
   "outputs": [],
   "source": [
    "session.commit()"
   ]
  },
  {
   "cell_type": "code",
   "execution_count": null,
   "id": "bec94314-200f-4ff2-afee-2af90327c5fb",
   "metadata": {},
   "outputs": [],
   "source": [
    "session.execute(select(g.NextTableId)).all()"
   ]
  },
  {
   "cell_type": "code",
   "execution_count": null,
   "id": "ae206ca7-fca4-433e-bfd1-436f1d3e36b4",
   "metadata": {},
   "outputs": [],
   "source": []
  }
 ],
 "metadata": {
  "kernelspec": {
   "display_name": "Python 3 (ipykernel)",
   "language": "python",
   "name": "python3"
  },
  "language_info": {
   "codemirror_mode": {
    "name": "ipython",
    "version": 3
   },
   "file_extension": ".py",
   "mimetype": "text/x-python",
   "name": "python",
   "nbconvert_exporter": "python",
   "pygments_lexer": "ipython3",
   "version": "3.8.8"
  }
 },
 "nbformat": 4,
 "nbformat_minor": 5
}
