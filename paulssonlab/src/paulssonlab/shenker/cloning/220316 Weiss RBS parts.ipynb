{
 "cells": [
  {
   "cell_type": "code",
   "execution_count": null,
   "metadata": {},
   "outputs": [],
   "source": [
    "import toml\n",
    "import pygsheets\n",
    "from tqdm.auto import tqdm\n",
    "from Bio.Seq import Seq\n",
    "from Bio.SeqRecord import SeqRecord\n",
    "from Bio import Restriction\n",
    "import random\n",
    "import re"
   ]
  },
  {
   "cell_type": "code",
   "execution_count": null,
   "metadata": {},
   "outputs": [],
   "source": [
    "%load_ext autoreload\n",
    "%autoreload 2"
   ]
  },
  {
   "cell_type": "code",
   "execution_count": null,
   "metadata": {},
   "outputs": [],
   "source": [
    "import paulssonlab.cloning.registry as registry\n",
    "import paulssonlab.cloning.workflow as workflow\n",
    "import paulssonlab.cloning.design as design\n",
    "import paulssonlab.cloning.sequence as sequence\n",
    "import paulssonlab.cloning.enzyme as enzyme\n",
    "import paulssonlab.api.geneious as geneious"
   ]
  },
  {
   "cell_type": "markdown",
   "metadata": {},
   "source": [
    "# Setup"
   ]
  },
  {
   "cell_type": "code",
   "execution_count": null,
   "metadata": {},
   "outputs": [],
   "source": [
    "random.seed(75)"
   ]
  },
  {
   "cell_type": "code",
   "execution_count": null,
   "metadata": {},
   "outputs": [],
   "source": [
    "config = toml.load(\"config.toml\")"
   ]
  },
  {
   "cell_type": "code",
   "execution_count": null,
   "metadata": {},
   "outputs": [],
   "source": [
    "gc = pygsheets.authorize(service_account_file=\"credentials.json\")"
   ]
  },
  {
   "cell_type": "code",
   "execution_count": null,
   "metadata": {},
   "outputs": [],
   "source": [
    "geneious_sessionmaker = geneious.connect(**config[\"geneious\"])"
   ]
  },
  {
   "cell_type": "code",
   "execution_count": null,
   "metadata": {},
   "outputs": [],
   "source": [
    "reg = registry.Registry(\n",
    "    gc,\n",
    "    config[\"registry\"][\"folder\"],\n",
    "    geneious_sessionmaker=geneious_sessionmaker,\n",
    "    geneious_folder=\"registry\",\n",
    ")"
   ]
  },
  {
   "cell_type": "code",
   "execution_count": null,
   "metadata": {},
   "outputs": [],
   "source": [
    "olib_oligos = reg[(\"oLIB\", \"oligos\")]\n",
    "olt_oligos = reg[(\"oLT\", \"oligos\")]\n",
    "plib_plasmids = reg[(\"pLIB\", \"plasmids\")]\n",
    "plib_maps = reg[(\"pLIB\", \"maps\")]\n",
    "lib_parts = reg[(\"LIB\", \"parts\")]\n",
    "part_types = reg[(\"LIB\", \"parts\", \"Part types\")]"
   ]
  },
  {
   "cell_type": "markdown",
   "metadata": {},
   "source": [
    "# Config"
   ]
  },
  {
   "cell_type": "code",
   "execution_count": null,
   "metadata": {},
   "outputs": [],
   "source": [
    "orig_rbs_names = [\"B0033m_BC\", \"B0032m_BC\", \"B0034m_BC\"]\n",
    "part_type = \"5UTR_2\"\n",
    "part_overhangs = workflow.overhangs_for(part_types[part_type])\n",
    "use_storage_vector = True\n",
    "part_enzyme = Restriction.BsaI\n",
    "num_random_bases = (\n",
    "    0  # to make oligos fit within 60bp, we omit random bases from the BsmBI flanks\n",
    ")\n",
    "part_tags = \"\"\n",
    "reference = \"\""
   ]
  },
  {
   "cell_type": "markdown",
   "metadata": {},
   "source": [
    "# RBSes"
   ]
  },
  {
   "cell_type": "markdown",
   "metadata": {},
   "source": [
    "# Sequences"
   ]
  },
  {
   "cell_type": "code",
   "execution_count": null,
   "metadata": {},
   "outputs": [],
   "source": [
    "seqs = {}\n",
    "for name in orig_rbs_names:\n",
    "    entry = reg.get(name)\n",
    "    new_name = re.sub(r\"_BC$\", \"_RiboJ\", name)\n",
    "    if use_storage_vector:\n",
    "        if part_enzyme != Restriction.BsaI:\n",
    "            raise ValueError(\"storage vector assumes BsaI part\")\n",
    "        seq = (\n",
    "            design.random_bases(num_random_bases)\n",
    "            + lib_parts[\"JUMP_storage_vector_prefix\"][\"Sequence\"]\n",
    "            + workflow.smoosh_and_normalize_sequences(\n",
    "                part_overhangs[0],\n",
    "                entry[\"_seq\"].trim_overhangs(),\n",
    "                part_overhangs[1],\n",
    "            )\n",
    "            + lib_parts[\"JUMP_storage_vector_suffix\"][\"Sequence\"]\n",
    "            + design.random_bases(num_random_bases)\n",
    "        )\n",
    "    else:\n",
    "        seq = workflow.smoosh_and_normalize_sequences(\n",
    "            part_overhangs[0],\n",
    "            entry[\"_seq\"].trim_overhangs(),\n",
    "            part_overhangs[1],\n",
    "        )\n",
    "        seq = (\n",
    "            design.random_bases(num_random_bases)\n",
    "            + design.type2s_with_spacer(part_enzyme, len(part_overhangs[0]))\n",
    "            + seq\n",
    "            + sequence.reverse_complement(\n",
    "                design.type2s_with_spacer(part_enzyme, len(part_overhangs[1]))\n",
    "            )\n",
    "            + design.random_bases(num_random_bases)\n",
    "        )\n",
    "    seq = workflow.normalize_seq(seq)\n",
    "    # include first sentence\n",
    "    description = (\n",
    "        entry[\"Description\"].split(\".\")[0]\n",
    "        + f\". Same as {name} but with RiboJ-compatible overhangs.\"\n",
    "    )\n",
    "    seqs[new_name] = {\"Sequence\": seq, \"Description\": description}"
   ]
  },
  {
   "cell_type": "markdown",
   "metadata": {},
   "source": [
    "## Oligos"
   ]
  },
  {
   "cell_type": "code",
   "execution_count": null,
   "metadata": {},
   "outputs": [],
   "source": [
    "base = {\"Author\": \"Jacob Quinn Shenker\", \"Date\": workflow.date()}\n",
    "\n",
    "oligo_base = {\n",
    "    **base,\n",
    "    \"Order date\": workflow.date(),\n",
    "    \"Vendor\": \"Genewiz\",\n",
    "    \"Type\": \"Primer\",\n",
    "}\n",
    "\n",
    "part_base = {\n",
    "    **base,\n",
    "    \"Tags\": part_tags,\n",
    "    \"Reference\": reference,\n",
    "}\n",
    "\n",
    "# apply = {\"Sequence\": workflow.normalize_seq}\n",
    "apply = {\"Name\": None}\n",
    "\n",
    "for name, row in seqs.items():\n",
    "    seq = row[\"Sequence\"]\n",
    "    oligo_id = olib_oligos.upsert(\n",
    "        {\n",
    "            **oligo_base,\n",
    "            **row,\n",
    "            \"Name\": f\"{name}_sense\",\n",
    "            \"Sequence\": workflow.normalize_seq_upper(seq),\n",
    "        },\n",
    "        apply=apply,\n",
    "    )\n",
    "    oligo_id2 = olib_oligos.upsert(\n",
    "        {\n",
    "            **oligo_base,\n",
    "            **row,\n",
    "            \"Name\": f\"{name}_antisense\",\n",
    "            \"Sequence\": workflow.normalize_seq_upper(sequence.reverse_complement(seq)),\n",
    "        },\n",
    "        apply=apply,\n",
    "    )\n",
    "    usage = f\"{oligo_id}={oligo_id2}/{part_enzyme}\"\n",
    "    part_seq = workflow.normalize_seq(workflow.re_digest_part(seq, part_enzyme))\n",
    "    part_row = {\n",
    "        **part_base,\n",
    "        **row,\n",
    "        \"Sequence\": part_seq,\n",
    "        \"Usage\": usage,\n",
    "        \"Type\": part_type,\n",
    "        \"Upstream overhang\": part_overhangs[0],\n",
    "        \"Downstream overhang\": part_overhangs[1],\n",
    "        \"Species/codon usage\": \"E. coli\",\n",
    "    }\n",
    "    lib_parts[name] = part_row"
   ]
  },
  {
   "cell_type": "code",
   "execution_count": null,
   "metadata": {},
   "outputs": [],
   "source": [
    "lib_parts.local"
   ]
  },
  {
   "cell_type": "code",
   "execution_count": null,
   "metadata": {},
   "outputs": [],
   "source": [
    "olib_oligos.local"
   ]
  },
  {
   "cell_type": "code",
   "execution_count": null,
   "metadata": {},
   "outputs": [],
   "source": [
    "olib_oligos.commit()\n",
    "lib_parts.commit()"
   ]
  },
  {
   "cell_type": "markdown",
   "metadata": {},
   "source": [
    "## Storage vectors"
   ]
  },
  {
   "cell_type": "code",
   "execution_count": null,
   "metadata": {},
   "outputs": [],
   "source": []
  }
 ],
 "metadata": {
  "kernelspec": {
   "display_name": "Python 3 (ipykernel)",
   "language": "python",
   "name": "python3"
  },
  "language_info": {
   "codemirror_mode": {
    "name": "ipython",
    "version": 3
   },
   "file_extension": ".py",
   "mimetype": "text/x-python",
   "name": "python",
   "nbconvert_exporter": "python",
   "pygments_lexer": "ipython3",
   "version": "3.8.8"
  }
 },
 "nbformat": 4,
 "nbformat_minor": 4
}
