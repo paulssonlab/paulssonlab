{
 "cells": [
  {
   "cell_type": "code",
   "execution_count": null,
   "id": "12f5cf1c-68f3-41a5-92c5-5f9f9dd1bcef",
   "metadata": {},
   "outputs": [],
   "source": [
    "import random\n",
    "import toml\n",
    "import pygsheets\n",
    "from tqdm.auto import tqdm\n",
    "import Bio.Restriction as Restriction\n",
    "from Bio.Seq import Seq\n",
    "from Bio.SeqRecord import SeqRecord\n",
    "from itertools import product"
   ]
  },
  {
   "cell_type": "code",
   "execution_count": null,
   "id": "74df6d3b-0d70-4519-a851-f77c62686650",
   "metadata": {},
   "outputs": [],
   "source": [
    "%load_ext autoreload\n",
    "%autoreload 2"
   ]
  },
  {
   "cell_type": "code",
   "execution_count": null,
   "id": "55a238fa-b210-4d54-8205-1c34683f3b20",
   "metadata": {},
   "outputs": [],
   "source": [
    "import paulssonlab.api as api\n",
    "from paulssonlab.api.util import base_url\n",
    "import paulssonlab.cloning.registry as registry\n",
    "import paulssonlab.cloning.workflow as workflow\n",
    "import paulssonlab.cloning.sequence as sequence\n",
    "import paulssonlab.cloning.enzyme as enzyme\n",
    "import paulssonlab.cloning.design as design\n",
    "import paulssonlab.cloning.primers as primers\n",
    "import paulssonlab.api.geneious as geneious"
   ]
  },
  {
   "cell_type": "markdown",
   "id": "8043ca66-1f9b-4015-80dc-b64e9f1f4ce0",
   "metadata": {
    "tags": []
   },
   "source": [
    "# Setup"
   ]
  },
  {
   "cell_type": "code",
   "execution_count": null,
   "id": "632e4db0-c5e8-4822-a281-0906096979b1",
   "metadata": {},
   "outputs": [],
   "source": [
    "config = toml.load(\"config.toml\")"
   ]
  },
  {
   "cell_type": "code",
   "execution_count": null,
   "id": "c49c036b-49e7-4fc9-a707-fc3f6405491c",
   "metadata": {},
   "outputs": [],
   "source": [
    "gc = pygsheets.authorize(service_account_file=\"credentials.json\")"
   ]
  },
  {
   "cell_type": "code",
   "execution_count": null,
   "id": "ea1d98e1-aa12-400d-8318-1488d54e58f9",
   "metadata": {},
   "outputs": [],
   "source": [
    "geneious_sessionmaker = geneious.connect(**config[\"geneious\"])"
   ]
  },
  {
   "cell_type": "code",
   "execution_count": null,
   "id": "cfee4262-264c-416e-86af-8242cbdabdd8",
   "metadata": {},
   "outputs": [],
   "source": [
    "reg = registry.Registry(\n",
    "    gc,\n",
    "    config[\"registry\"][\"folder\"],\n",
    "    geneious_sessionmaker=geneious_sessionmaker,\n",
    "    geneious_folder=\"registry\",\n",
    ")"
   ]
  },
  {
   "cell_type": "markdown",
   "id": "46ee8ec8-a9af-4c93-87e1-e38d8ea1b2e7",
   "metadata": {},
   "source": [
    "# Config"
   ]
  },
  {
   "cell_type": "code",
   "execution_count": null,
   "id": "7f9344fc-cda9-45c7-bb00-980e88fee3bc",
   "metadata": {},
   "outputs": [],
   "source": [
    "olib_oligos = reg[(\"oLIB\", \"oligos\")]\n",
    "plib_plasmids = reg[(\"pLIB\", \"plasmids\")]\n",
    "plib_maps = reg[(\"pLIB\", \"maps\")]\n",
    "flib_fragments = reg[(\"fLIB\", \"fragments\")]\n",
    "part_types = reg[(\"fLIB\", \"fragments\", \"Part types\")]"
   ]
  },
  {
   "cell_type": "code",
   "execution_count": null,
   "id": "17d2b97a-29f4-4b6d-a220-78239235ee53",
   "metadata": {},
   "outputs": [],
   "source": [
    "# (reverse, forward)\n",
    "nonflipped_backbone_primers = (\"oLIB175\", \"oLIB176\")\n",
    "flipped_backbone_primers = (\"oLIB177\", \"oLIB178\")"
   ]
  },
  {
   "cell_type": "code",
   "execution_count": null,
   "id": "5e82cd4e-524e-4474-84e2-2ea6f2b837ca",
   "metadata": {},
   "outputs": [],
   "source": [
    "barcode_uns = \"UNS9\""
   ]
  },
  {
   "cell_type": "code",
   "execution_count": null,
   "id": "930f1773-6ba6-4a6b-85f1-b57ca5ab8a5d",
   "metadata": {},
   "outputs": [],
   "source": [
    "# enzymes = (\"BsaI\", \"BsmBI\")\n",
    "enzymes = (\"BsaI\",)"
   ]
  },
  {
   "cell_type": "code",
   "execution_count": null,
   "id": "c7b6dce2-a426-4be0-97d1-5bf9bddd0aaa",
   "metadata": {},
   "outputs": [],
   "source": [
    "template = reg.get(\"pLIB122\")[\"_seq\"]"
   ]
  },
  {
   "cell_type": "code",
   "execution_count": null,
   "id": "8b133abd-9308-4903-bd53-df345b97fd11",
   "metadata": {},
   "outputs": [],
   "source": [
    "barcode_overhangs = workflow.overhangs_for(part_types[\"Eaton_barcode\"])"
   ]
  },
  {
   "cell_type": "markdown",
   "id": "8dfe23b9-df24-4b03-8262-7dc5a3ba8df6",
   "metadata": {},
   "source": [
    "# Barcode-compatible backbone primers"
   ]
  },
  {
   "cell_type": "code",
   "execution_count": null,
   "id": "900d709a-b3f2-412a-b45d-5e868937b488",
   "metadata": {},
   "outputs": [],
   "source": [
    "backbone_primers = {}\n",
    "for flipped in (False, True):\n",
    "    for forward, orig_primer_name in zip((False, True), nonflipped_backbone_primers):\n",
    "        orig_primer_seq = olib_oligos[orig_primer_name][\"Sequence\"]\n",
    "        overhang = flib_fragments.find({\"Name\": barcode_uns})[\"Sequence\"]\n",
    "        if flipped:\n",
    "            overhang = sequence.reverse_complement(overhang)\n",
    "        seq = primers.replace_primer_overhang(\n",
    "            template,\n",
    "            orig_primer_seq,\n",
    "            overhang,\n",
    "        )\n",
    "        seq = workflow.normalize_seq_upper(seq)\n",
    "        name = f\"JUMP_{barcode_uns}{'_flipped' if flipped else ''}_{'f' if forward else 'r'}\"\n",
    "        description = f\"Same binding region as {orig_primer_name} but with {barcode_uns} overhang{' (flipped)' if flipped else ''}.\"\n",
    "        backbone_primers[name] = {\n",
    "            \"Sequence\": seq,\n",
    "            \"Description\": description,\n",
    "            \"Name\": name,\n",
    "        }"
   ]
  },
  {
   "cell_type": "code",
   "execution_count": null,
   "id": "687de9e2-ae38-4d35-8803-47d6b9bd1237",
   "metadata": {},
   "outputs": [],
   "source": [
    "backbone_primers"
   ]
  },
  {
   "cell_type": "code",
   "execution_count": null,
   "id": "73c06aa0-9452-4f29-81a0-c13479cecad7",
   "metadata": {},
   "outputs": [],
   "source": [
    "base = {\"Author\": \"Jacob Quinn Shenker\", \"Date\": workflow.date()}\n",
    "\n",
    "oligo_base = {\n",
    "    **base,\n",
    "    \"Order date\": workflow.date(),\n",
    "    \"Vendor\": \"IDT\",\n",
    "    \"Type\": \"Primer\",\n",
    "}\n",
    "\n",
    "apply = {\"Sequence\": workflow.normalize_seq}\n",
    "# apply = {\"Name\": None}\n",
    "\n",
    "for backbone_primer in backbone_primers.values():\n",
    "    olib_oligos.upsert(\n",
    "        {**oligo_base, **backbone_primer},\n",
    "        apply=apply,\n",
    "    )"
   ]
  },
  {
   "cell_type": "code",
   "execution_count": null,
   "id": "9a7ba108-f3bd-4fd6-87b0-1918dcbfe078",
   "metadata": {},
   "outputs": [],
   "source": [
    "olib_oligos.local"
   ]
  },
  {
   "cell_type": "markdown",
   "id": "91fa0dfe-dde8-464e-aa5a-387c7975bd07",
   "metadata": {},
   "source": [
    "# Barcode placeholders"
   ]
  },
  {
   "cell_type": "code",
   "execution_count": null,
   "id": "7e54a101-7652-46c1-86cf-4f19726ec19a",
   "metadata": {},
   "outputs": [],
   "source": [
    "# barcode placeholder: UNS10-ph-UNS9, UNS10-ph_r-UNS9 + normal/flipped UNS10->9 backbone primers\n",
    "# barcode placeholder: UNS9-ph-UNS1, UNS9-ph_r-UNS1 + normal/flipped UNS1->9 backbone primers"
   ]
  },
  {
   "cell_type": "code",
   "execution_count": null,
   "id": "fc7af1eb-2af3-453c-99b0-f03252d8d35f",
   "metadata": {},
   "outputs": [],
   "source": [
    "# generate so random sequences are fixed for each enzyme\n",
    "placeholders = {\n",
    "    enzyme_name: design.golden_gate_placeholder(\n",
    "        getattr(Restriction, enzyme_name), None, *barcode_overhangs, random_flanks=False\n",
    "    )\n",
    "    for enzyme_name in enzymes\n",
    "}"
   ]
  },
  {
   "cell_type": "code",
   "execution_count": null,
   "id": "baaf9912-070f-4e40-b87f-ecc007b1f141",
   "metadata": {},
   "outputs": [],
   "source": [
    "base = {\"Author\": \"Jacob Quinn Shenker\", \"Date\": workflow.date()}\n",
    "\n",
    "oligo_base = {\n",
    "    **base,\n",
    "    \"Order date\": workflow.date(),\n",
    "    \"Vendor\": \"IDT\",\n",
    "    \"Type\": \"IDT Ultramer\",\n",
    "}\n",
    "\n",
    "part_base = {\n",
    "    **base,\n",
    "    \"Tags\": \"3g\",\n",
    "}\n",
    "\n",
    "# apply = {\"Sequence\": workflow.normalize_seq}\n",
    "apply = {\"Name\": None}\n",
    "overwrite = False\n",
    "\n",
    "# for enzyme_name, upstream, antiparallel in product(enzymes, (True,), (True,)):\n",
    "for enzyme_name, upstream, antiparallel in product(\n",
    "    enzymes, (True, False), (True, False)\n",
    "):\n",
    "    if upstream:\n",
    "        unses = (\"UNS9\", \"UNS1\")\n",
    "    else:\n",
    "        unses = (\"UNS10\", \"UNS9\")\n",
    "    placeholder = placeholders[enzyme_name]\n",
    "    if antiparallel:\n",
    "        placeholder = sequence.reverse_complement(placeholder)\n",
    "    seq = (\n",
    "        flib_fragments.find({\"Name\": unses[0]})[\"Sequence\"] + placeholder + flib_fragments.find({\"Name\": unses[1]})[\"Sequence\"]\n",
    "    )\n",
    "    name = f\"barcode_ph_{enzyme_name}_{'upstream' if upstream else 'downstream'}{'_antiparallel' if antiparallel else ''}\"\n",
    "    description = f\"3G part with {unses[0]}/{unses[1]} flanks and {enzyme_name} placeholder{' (reversed)' if antiparallel else ''} for golden gating in Daniel Eaton's barcode library.\"\n",
    "    placeholder_oligo = {\n",
    "        **oligo_base,\n",
    "        \"Description\": description,\n",
    "    }\n",
    "    oligo_id1 = olib_oligos.upsert(\n",
    "        {\n",
    "            **placeholder_oligo,\n",
    "            \"Name\": f\"{name}_sense\",\n",
    "            \"Sequence\": workflow.normalize_seq_upper(seq),\n",
    "        },\n",
    "        apply=apply,\n",
    "        overwrite=overwrite\n",
    "    )\n",
    "    oligo_id2 = olib_oligos.upsert(\n",
    "        {\n",
    "            **placeholder_oligo,\n",
    "            \"Name\": f\"{name}_antisense\",\n",
    "            \"Sequence\": workflow.normalize_seq_upper(sequence.reverse_complement(seq)),\n",
    "        },\n",
    "        apply=apply,\n",
    "        overwrite=overwrite\n",
    "    )\n",
    "    usage = f\"{oligo_id1}={oligo_id2}\"\n",
    "    part_row = {\n",
    "        **part_base,\n",
    "        \"Name\": name,\n",
    "        \"Description\": description,\n",
    "        \"Sequence\": workflow.normalize_seq(seq),\n",
    "        \"Usage\": usage,\n",
    "        \"Type\": \"\",\n",
    "        \"Upstream overhang\": \"\",\n",
    "        \"Downstream overhang\": \"\",\n",
    "        \"Species/codon usage\": \"E. coli\",\n",
    "    }\n",
    "    flib_fragments.upsert(part_row, apply=apply, overwrite=overwrite)"
   ]
  },
  {
   "cell_type": "code",
   "execution_count": null,
   "id": "0e926304-4dfa-4305-8b65-a56e67f8da4a",
   "metadata": {},
   "outputs": [],
   "source": [
    "olib_oligos.local"
   ]
  },
  {
   "cell_type": "code",
   "execution_count": null,
   "id": "7328afca-4797-41cb-bec2-fa868d9fb72d",
   "metadata": {},
   "outputs": [],
   "source": [
    "flib_fragments.local"
   ]
  },
  {
   "cell_type": "code",
   "execution_count": null,
   "id": "d1e4734a-c7ce-4b2d-ab57-4396b17deede",
   "metadata": {},
   "outputs": [],
   "source": [
    "olib_oligos.commit()\n",
    "flib_fragments.commit()"
   ]
  },
  {
   "cell_type": "markdown",
   "id": "98153534-fabf-47a5-bb3d-55315fff797a",
   "metadata": {},
   "source": [
    "# Validation"
   ]
  },
  {
   "cell_type": "code",
   "execution_count": null,
   "id": "7a66ff6b-390f-469c-8d08-4e3b5a67f4e6",
   "metadata": {},
   "outputs": [],
   "source": [
    "template"
   ]
  },
  {
   "cell_type": "code",
   "execution_count": null,
   "id": "e5a0908f-4e51-4f37-9805-10f6a66558f5",
   "metadata": {},
   "outputs": [],
   "source": [
    "primers_"
   ]
  },
  {
   "cell_type": "code",
   "execution_count": null,
   "id": "401d1c47-385c-459e-ad91-4d99d912c437",
   "metadata": {},
   "outputs": [],
   "source": [
    "olib_oligos[\"oLIB176\"][\"Sequence\"]"
   ]
  },
  {
   "cell_type": "code",
   "execution_count": null,
   "id": "4419a5ac-9913-435c-b43d-930b8f07e575",
   "metadata": {},
   "outputs": [],
   "source": [
    "# flipped_, upstream_, ph_name = True, True, \"barcode_ph_BsaI_upstream_antiparallel\"\n",
    "flipped_, upstream_, ph_name = True, True, \"barcode_ph_BsaI_upstream_antiparallel\"\n",
    "\n",
    "# TODO: use other primers for downstream\n",
    "\n",
    "ph = flib_fragments.find(\"Name\": ph_name)[\"Sequence\"]\n",
    "if flipped_:\n",
    "    primers_ = (\n",
    "        olib_oligos[\"oLIB177\"][\"Sequence\"],\n",
    "        backbone_primers[\"JUMP_UNS9_flipped_f\"][\"Sequence\"],\n",
    "    )\n",
    "    nonbarcoded_primers = (\n",
    "        olib_oligos[\"oLIB177\"][\"Sequence\"],\n",
    "        olib_oligos[\"oLIB178\"][\"Sequence\"],\n",
    "    )\n",
    "else:\n",
    "    primers_ = (\n",
    "        backbone_primers[\"JUMP_UNS9_r\"][\"Sequence\"],\n",
    "        olib_oligos[\"oLIB176\"][\"Sequence\"],\n",
    "    )\n",
    "    nonbarcoded_primers = (\n",
    "        olib_oligos[\"oLIB175\"][\"Sequence\"],\n",
    "        olib_oligos[\"oLIB176\"][\"Sequence\"],\n",
    "    )\n",
    "backbone_product = sequence.pcr(template, *primers_)\n",
    "nonbarcoded_backbone_product = sequence.pcr(template, *nonbarcoded_primers)\n",
    "dummy_insert = (\n",
    "    flib_fragments.find(\"Name\": \"UNS1\")[\"Sequence\"]\n",
    "    + \"A\" * 30\n",
    "    + \"G\" * 5\n",
    "    + \"A\" * 10\n",
    "    + flib_fragments.find(\"Name\": \"UNS10\")[\"Sequence\"]\n",
    ")\n",
    "if upstream_:\n",
    "    frags = [ph, dummy_insert, backbone_product]\n",
    "else:\n",
    "    frags = [dummy_insert, ph, backbone_product]\n",
    "barcoded_product = sequence.assemble(frags, method=\"gibson\")\n",
    "nonbarcoded_product = sequence.assemble(\n",
    "    [dummy_insert, nonbarcoded_backbone_product], method=\"gibson\"\n",
    ")"
   ]
  },
  {
   "cell_type": "code",
   "execution_count": null,
   "id": "2047812d-32fd-4296-9a85-142f87e25669",
   "metadata": {},
   "outputs": [],
   "source": [
    "print(barcoded_product.seq)"
   ]
  },
  {
   "cell_type": "code",
   "execution_count": null,
   "id": "3cf6ddec-10e3-47ff-816d-4759a387b802",
   "metadata": {},
   "outputs": [],
   "source": []
  }
 ],
 "metadata": {
  "kernelspec": {
   "display_name": "Python 3 (ipykernel)",
   "language": "python",
   "name": "python3"
  },
  "language_info": {
   "codemirror_mode": {
    "name": "ipython",
    "version": 3
   },
   "file_extension": ".py",
   "mimetype": "text/x-python",
   "name": "python",
   "nbconvert_exporter": "python",
   "pygments_lexer": "ipython3",
   "version": "3.9.13"
  }
 },
 "nbformat": 4,
 "nbformat_minor": 5
}
