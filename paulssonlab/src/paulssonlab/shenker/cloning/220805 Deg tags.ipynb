{
 "cells": [
  {
   "cell_type": "code",
   "execution_count": null,
   "id": "0",
   "metadata": {},
   "outputs": [],
   "source": [
    "import Bio.Restriction as Restriction\n",
    "import pygsheets\n",
    "import requests\n",
    "import toml\n",
    "from Bio.Seq import Seq\n",
    "from Bio.SeqRecord import SeqRecord"
   ]
  },
  {
   "cell_type": "code",
   "execution_count": null,
   "id": "1",
   "metadata": {},
   "outputs": [],
   "source": [
    "%load_ext autoreload\n",
    "%autoreload 2"
   ]
  },
  {
   "cell_type": "code",
   "execution_count": null,
   "id": "2",
   "metadata": {},
   "outputs": [],
   "source": [
    "import paulssonlab.api as api\n",
    "import paulssonlab.api.geneious as geneious\n",
    "import paulssonlab.cloning.design as design\n",
    "import paulssonlab.cloning.enzyme as enzyme\n",
    "import paulssonlab.cloning.primers as primers\n",
    "import paulssonlab.cloning.registry as registry\n",
    "import paulssonlab.cloning.sequence as sequence\n",
    "import paulssonlab.cloning.thermodynamics as thermodynamics\n",
    "import paulssonlab.cloning.viennarna as viennarna\n",
    "import paulssonlab.cloning.workflow as workflow"
   ]
  },
  {
   "cell_type": "markdown",
   "id": "3",
   "metadata": {},
   "source": [
    "# Setup"
   ]
  },
  {
   "cell_type": "code",
   "execution_count": null,
   "id": "4",
   "metadata": {},
   "outputs": [],
   "source": [
    "config = toml.load(\"config.toml\")"
   ]
  },
  {
   "cell_type": "code",
   "execution_count": null,
   "id": "5",
   "metadata": {},
   "outputs": [],
   "source": [
    "gc = pygsheets.authorize(service_account_file=\"credentials.json\")"
   ]
  },
  {
   "cell_type": "code",
   "execution_count": null,
   "id": "6",
   "metadata": {},
   "outputs": [],
   "source": [
    "geneious_sessionmaker = geneious.connect(**config[\"geneious\"])"
   ]
  },
  {
   "cell_type": "code",
   "execution_count": null,
   "id": "7",
   "metadata": {},
   "outputs": [],
   "source": [
    "reg = registry.Registry(\n",
    "    gc,\n",
    "    config[\"registry\"][\"folder\"],\n",
    "    geneious_sessionmaker=geneious_sessionmaker,\n",
    "    geneious_folder=\"registry\",\n",
    ")"
   ]
  },
  {
   "cell_type": "markdown",
   "id": "8",
   "metadata": {},
   "source": [
    "# Config"
   ]
  },
  {
   "cell_type": "code",
   "execution_count": null,
   "id": "9",
   "metadata": {},
   "outputs": [],
   "source": [
    "olib_oligos = reg[(\"oLIB\", \"oligos\")]\n",
    "plib_plasmids = reg[(\"pLIB\", \"plasmids\")]\n",
    "plib_maps = reg[(\"pLIB\", \"maps\")]\n",
    "flib_fragments = reg[(\"fLIB\", \"fragments\")]\n",
    "part_types = reg[(\"fLIB\", \"fragments\", \"Part types\")]"
   ]
  },
  {
   "cell_type": "code",
   "execution_count": null,
   "id": "10",
   "metadata": {},
   "outputs": [],
   "source": [
    "# tags\n",
    "tag_part_type = \"ClpXP_tag\"\n",
    "tag_overhangs = workflow.overhangs_for(part_types[tag_part_type])\n",
    "library_reverse_primer = \"oLIB46\"\n",
    "tag_enzyme = Restriction.BsaI\n",
    "placeholder_enzyme = Restriction.BsaI\n",
    "num_random_bases = 6  # random bases to add between enzyme binding site and end of DNA\n",
    "tail_length_aa = 3  # aa\n",
    "tail_length = tail_length_aa * 3  # nt\n",
    "sspb_length_aa = 6  # aa (part of the SspB binding site that is mutagenized with NNK's; note we keep first two alanines fixed)\n",
    "sspb_length = sspb_length_aa * 3  # nt\n",
    "head_length = 6  # nt\n",
    "reference = \"Andersen, J. B., Sternberg, C., Poulsen, L. K., Bjørn, S. P., Givskov, M., & Molin, S. (1998). New unstable variants of green fluorescent protein for studies of transient gene expression in bacteria. Applied and environmental microbiology, 64(6), 2240-2246.\"\n",
    "\n",
    "# placeholders\n",
    "tm_binding = 60\n",
    "tm_homology = 55\n",
    "min_mfe = None"
   ]
  },
  {
   "cell_type": "markdown",
   "id": "11",
   "metadata": {},
   "source": [
    "# Deg tags"
   ]
  },
  {
   "cell_type": "markdown",
   "id": "12",
   "metadata": {},
   "source": [
    "## Data"
   ]
  },
  {
   "cell_type": "code",
   "execution_count": null,
   "id": "13",
   "metadata": {},
   "outputs": [],
   "source": [
    "# FROM: Andersen, J. B., Sternberg, C., Poulsen, L. K., Bjørn, S. P., Givskov, M., & Molin, S. (1998). New unstable variants of green fluorescent protein for studies of transient gene expression in bacteria. Applied and environmental microbiology, 64(6), 2240-2246.\n",
    "# paper gives reverse-complement sequences\n",
    "tags_wt_rc = {\n",
    "    \"LAA\": \"AGCTGCTAAAGCGTAGTTTTCGTCGTTTGCTGC\",\n",
    "    \"AAV\": \"AACTGCTGCAGCGTAGTTTTCGTCGTTTGCTGC\",\n",
    "    # \"LVA\": \"AGCTACTAAAGCGTAGTTTTCGTCGTTTGCTGC\", # paper implies it behaves similarly to LAA\n",
    "    \"ASV\": \"AACTGATGCAGCGTAGTTTTCGTCGTTTGCTGC\",\n",
    "}\n",
    "tags_wt_rc = {name: Seq(seq) for name, seq in tags_wt_rc.items()}\n",
    "tags_wt = {name: sequence.reverse_complement(seq) for name, seq in tags_wt_rc.items()}"
   ]
  },
  {
   "cell_type": "code",
   "execution_count": null,
   "id": "14",
   "metadata": {},
   "outputs": [],
   "source": [
    "tags_wt[\"AAV\"].translate()"
   ]
  },
  {
   "cell_type": "markdown",
   "id": "15",
   "metadata": {},
   "source": [
    "## Tags"
   ]
  },
  {
   "cell_type": "code",
   "execution_count": null,
   "id": "16",
   "metadata": {},
   "outputs": [],
   "source": [
    "tag_normalized = {name: workflow.normalize_seq(seq) for name, seq in tags_wt.items()}\n",
    "tag_prefixes = {\n",
    "    name: seq[: seq.find(tag_overhangs[0])] for name, seq in tag_normalized.items()\n",
    "}\n",
    "tag_prefixes_list = list(tag_prefixes.values())\n",
    "tag_prefix = tag_prefixes_list[0]\n",
    "assert all(s == tag_prefix for s in tag_prefixes_list)"
   ]
  },
  {
   "cell_type": "code",
   "execution_count": null,
   "id": "17",
   "metadata": {},
   "outputs": [],
   "source": [
    "tag_suffix = sequence.smoosh_sequences(workflow.normalize_seq(\"taa\"), tag_overhangs[1])"
   ]
  },
  {
   "cell_type": "code",
   "execution_count": null,
   "id": "18",
   "metadata": {},
   "outputs": [],
   "source": [
    "head_length_without_prefix = head_length - len(tag_prefix)  # nt\n",
    "tail_length_with_suffix = tail_length + len(tag_suffix)  # nt"
   ]
  },
  {
   "cell_type": "code",
   "execution_count": null,
   "id": "19",
   "metadata": {},
   "outputs": [],
   "source": [
    "tag_parts = {name: seq[len(tag_prefix) :] + tag_suffix for name, seq in tags_wt.items()}"
   ]
  },
  {
   "cell_type": "code",
   "execution_count": null,
   "id": "20",
   "metadata": {},
   "outputs": [],
   "source": [
    "tag_parts"
   ]
  },
  {
   "cell_type": "code",
   "execution_count": null,
   "id": "21",
   "metadata": {},
   "outputs": [],
   "source": [
    "tags = {}\n",
    "for name, seq in tag_parts.items():\n",
    "    tags[f\"degtag_{name}\"] = {\n",
    "        \"Sequence\": seq,\n",
    "        \"Description\": f\"Wild-type {name} ClpXP degradation tag from Andersen 1998.\",\n",
    "    }\n",
    "    assert (\n",
    "        len(seq) - head_length_without_prefix - tail_length_with_suffix == sspb_length\n",
    "    )\n",
    "    tags[f\"degtag_{name}_NNK\"] = {\n",
    "        \"Sequence\": seq[:head_length_without_prefix]\n",
    "        + \"NNK\" * sspb_length_aa\n",
    "        + seq[-tail_length_with_suffix:],\n",
    "        \"Description\": f\"ClpXP degradation tag library with 2x alanines, {sspb_length_aa}x NNK's, and the {name} tail from Andersen 1998.\",\n",
    "    }\n",
    "seq0 = next(iter(tag_parts.values()))\n",
    "tags[f\"degtag_all_NNK\"] = {\n",
    "    \"Sequence\": seq0[:head_length_without_prefix]\n",
    "    + \"NNK\" * (sspb_length_aa + tail_length_aa)\n",
    "    + seq0[-(tail_length_with_suffix - tail_length) :],\n",
    "    \"Description\": f\"ClpXP degradation tag library with 2x alanines and {sspb_length_aa}x NNK's.\",\n",
    "}\n",
    "tags[f\"degtag_tail_NNK\"] = {\n",
    "    \"Sequence\": seq0[: head_length_without_prefix + sspb_length]\n",
    "    + \"NNK\" * tail_length_aa\n",
    "    + seq0[-len(tag_suffix) :],\n",
    "    \"Description\": f\"ClpXP degradation tag library with 2x alanines, wildtype sspB binding site, and {tail_length_aa}x NNK's.\",\n",
    "}"
   ]
  },
  {
   "cell_type": "code",
   "execution_count": null,
   "id": "22",
   "metadata": {},
   "outputs": [],
   "source": [
    "tags"
   ]
  },
  {
   "cell_type": "code",
   "execution_count": null,
   "id": "23",
   "metadata": {},
   "outputs": [],
   "source": [
    "library_primer_seq_rc = workflow.normalize_seq(\n",
    "    sequence.reverse_complement(reg.get(library_reverse_primer)[\"Sequence\"])\n",
    ")"
   ]
  },
  {
   "cell_type": "code",
   "execution_count": null,
   "id": "24",
   "metadata": {},
   "outputs": [],
   "source": [
    "base = {\"Author\": \"Jacob Quinn Shenker\", \"Date\": workflow.date()}\n",
    "\n",
    "oligo_base = {\n",
    "    **base,\n",
    "    \"Order date\": workflow.date(),\n",
    "    \"Vendor\": \"IDT\",\n",
    "    \"Type\": \"Primer\",\n",
    "}\n",
    "\n",
    "fragment_base = {\n",
    "    **base,\n",
    "    \"Reference\": reference,\n",
    "}\n",
    "\n",
    "apply_oligo = {\"Name\": None}  # {\"Sequence\": workflow.normalize_seq}\n",
    "overwrite_oligo = False\n",
    "apply_fragment = {\"Name\": None}\n",
    "overwrite_fragment = False\n",
    "\n",
    "for name, row in tags.items():\n",
    "    # add BsaI flanks\n",
    "    oligo_seq = (\n",
    "        design.type2s_with_spacer(tag_enzyme, len(tag_overhangs[0]))\n",
    "        + row[\"Sequence\"]\n",
    "        + sequence.reverse_complement(\n",
    "            design.type2s_with_spacer(tag_enzyme, len(tag_overhangs[1]))\n",
    "        )\n",
    "    )\n",
    "    oligo_seq = workflow.normalize_seq(oligo_seq)\n",
    "    oligo_seq = design.random_bases(num_random_bases, seed=oligo_seq) + oligo_seq\n",
    "    if workflow.DEGENERATE_BASES_REGEX.search(workflow.normalize_seq(row[\"Sequence\"])):\n",
    "        # is library with degenerate bases, append library primer\n",
    "        oligo_seq = oligo_seq + library_primer_seq_rc\n",
    "        oligo_row = {\n",
    "            **oligo_base,\n",
    "            **row,\n",
    "            \"Name\": f\"{name}_v2\",\n",
    "            \"Sequence\": oligo_seq.upper(),\n",
    "        }\n",
    "        oligo_id = olib_oligos.upsert(\n",
    "            oligo_row, apply=apply_oligo, overwrite=overwrite_oligo\n",
    "        )\n",
    "        usage = f\"{oligo_id}<{library_reverse_primer}>/{tag_enzyme}\"\n",
    "    else:\n",
    "        # not library, just order two oligos to anneal\n",
    "        # in this case, there's no reverse primer binding site,\n",
    "        # so we need to add random bases to ensure efficient cutting\n",
    "        oligo_seq = oligo_seq + design.random_bases(num_random_bases, seed=oligo_seq)\n",
    "        oligo_id = olib_oligos.upsert(\n",
    "            {\n",
    "                **oligo_base,\n",
    "                **row,\n",
    "                \"Name\": f\"{name}_sense\",\n",
    "                \"Sequence\": workflow.normalize_seq_upper(oligo_seq),\n",
    "            },\n",
    "            apply=apply_oligo,\n",
    "            overwrite=overwrite_oligo,\n",
    "        )\n",
    "        oligo_id2 = olib_oligos.upsert(\n",
    "            {\n",
    "                **oligo_base,\n",
    "                **row,\n",
    "                \"Name\": f\"{name}_antisense\",\n",
    "                \"Sequence\": workflow.normalize_seq_upper(\n",
    "                    sequence.reverse_complement(oligo_seq)\n",
    "                ),\n",
    "            },\n",
    "            apply=apply_oligo,\n",
    "            overwrite=overwrite_oligo,\n",
    "        )\n",
    "        usage = f\"{oligo_id}={oligo_id2}/{tag_enzyme}\"\n",
    "    fragment_row = {\n",
    "        **fragment_base,\n",
    "        **row,\n",
    "        \"Name\": name,\n",
    "        \"Sequence\": workflow.normalize_seq(row[\"Sequence\"]),\n",
    "        \"Usage\": usage,\n",
    "        \"Type\": tag_part_type,\n",
    "        \"Upstream overhang\": tag_overhangs[0],\n",
    "        \"Downstream overhang\": tag_overhangs[1],\n",
    "        \"Species/codon usage\": \"E. coli\",\n",
    "    }\n",
    "    flib_fragments.upsert(\n",
    "        fragment_row, apply=apply_fragment, overwrite=overwrite_fragment\n",
    "    )"
   ]
  },
  {
   "cell_type": "code",
   "execution_count": null,
   "id": "25",
   "metadata": {},
   "outputs": [],
   "source": [
    "flib_fragments.local"
   ]
  },
  {
   "cell_type": "code",
   "execution_count": null,
   "id": "26",
   "metadata": {},
   "outputs": [],
   "source": [
    "olib_oligos.local"
   ]
  },
  {
   "cell_type": "code",
   "execution_count": null,
   "id": "27",
   "metadata": {},
   "outputs": [],
   "source": [
    "# olib_oligos.commit()\n",
    "# flib_fragments.commit()"
   ]
  },
  {
   "cell_type": "markdown",
   "id": "28",
   "metadata": {},
   "source": [
    "## Placeholders"
   ]
  },
  {
   "cell_type": "code",
   "execution_count": null,
   "id": "29",
   "metadata": {},
   "outputs": [],
   "source": [
    "# part_names = [\"sigW\", \"rsiW\", \"ECF20_992\", \"AS20_992\", \"sfGFP\"]  # TODO: pick correct FPs\n",
    "part_names = [\"sigW\", \"rsiW\"]\n",
    "# part_names = [\"rsiW\"]"
   ]
  },
  {
   "cell_type": "code",
   "execution_count": null,
   "id": "30",
   "metadata": {},
   "outputs": [],
   "source": [
    "placeholder = tag_prefix + design.golden_gate_placeholder(\n",
    "    placeholder_enzyme, None, *tag_overhangs\n",
    ")\n",
    "# remove downstream overhang because it is already in the storage vector\n",
    "placeholder = placeholder[: -len(tag_overhangs[1])]"
   ]
  },
  {
   "cell_type": "code",
   "execution_count": null,
   "id": "31",
   "metadata": {},
   "outputs": [],
   "source": [
    "%%time\n",
    "placeholder_primers = {}\n",
    "storage_vector_seqs = {}\n",
    "source_plasmid_names = {}\n",
    "for part_name in part_names:\n",
    "    part = reg.get(part_name)\n",
    "    part_seq = part[\"_seq\"]\n",
    "    cds_start, cds_stop = workflow.find_coding_sequence(part_seq)\n",
    "    cds_stop -= 3  # want to insert placeholder before stop codon\n",
    "    plasmid_name = workflow.get_source_plasmid(reg, part[\"Usage\"])\n",
    "    source_plasmid_names[part_name] = plasmid_name\n",
    "    plasmid_seq = reg.get(plasmid_name)[\"_seq\"]\n",
    "    part_start, part_stop, _, _ = sequence.find_subsequence(\n",
    "        plasmid_seq, part_seq, min_score=len(part_seq)\n",
    "    )\n",
    "    start = part_start + cds_start\n",
    "    stop = part_stop - (len(part_seq) - cds_stop)\n",
    "    downstream_overhang_start = part_stop - len(part[\"Downstream overhang\"])\n",
    "    # we want 5' end of forward primer binding site to start with the downstream overhang\n",
    "    # (\"aggt\" for CDS parts)\n",
    "    plasmid_seq_forward = workflow.normalize_seq(\n",
    "        plasmid_seq.reindex(downstream_overhang_start)\n",
    "    )\n",
    "    plasmid_seq_reverse = workflow.normalize_seq(\n",
    "        plasmid_seq.reindex(stop).reverse_complement()\n",
    "    )\n",
    "    homology = next(\n",
    "        primers.iter_primers(\n",
    "            plasmid_seq_forward,\n",
    "            min_tm=tm_homology,\n",
    "            min_mfe=min_mfe,\n",
    "            anchor=\"5prime\",\n",
    "            gc_clamp=False,\n",
    "        )\n",
    "    )\n",
    "    forward_primer = next(\n",
    "        primers.iter_primers(\n",
    "            plasmid_seq_forward,\n",
    "            min_length=len(homology),\n",
    "            min_tm=tm_binding,\n",
    "            min_mfe=min_mfe,\n",
    "            anchor=\"5prime\",\n",
    "        )\n",
    "    )\n",
    "    overhang = sequence.reverse_complement(placeholder + homology.binding)\n",
    "    reverse_primer = next(\n",
    "        primers.iter_primers(\n",
    "            plasmid_seq_reverse,\n",
    "            overhang=overhang,\n",
    "            min_tm=tm_binding,\n",
    "            min_mfe=min_mfe,\n",
    "            anchor=\"5prime\",\n",
    "        )\n",
    "    )\n",
    "    primer_pair = primers.PrimerPair(forward_primer, reverse_primer)\n",
    "    placeholder_primers[part_name] = primer_pair\n",
    "    storage_vector_seqs[part_name] = sequence.pcr(\n",
    "        plasmid_seq, str(primer_pair.primer1), str(primer_pair.primer2)\n",
    "    ).assemble(method=\"gibson\")"
   ]
  },
  {
   "cell_type": "markdown",
   "id": "32",
   "metadata": {},
   "source": [
    "### Oligos"
   ]
  },
  {
   "cell_type": "code",
   "execution_count": null,
   "id": "33",
   "metadata": {},
   "outputs": [],
   "source": [
    "placeholder_base = {\"Author\": \"Jacob Quinn Shenker\", \"Date\": workflow.date()}\n",
    "\n",
    "placeholder_oligo_base = {\n",
    "    **placeholder_base,\n",
    "    \"Order date\": workflow.date(),\n",
    "    \"Vendor\": \"IDT\",\n",
    "    \"Type\": \"Primer\",\n",
    "}\n",
    "\n",
    "apply_oligo = {\"Name\": None}  # {\"Sequence\": workflow.normalize_seq}\n",
    "overwrite_oligo = False\n",
    "placeholder_oligo_names = {}\n",
    "\n",
    "for part_name in part_names:\n",
    "    name = f\"degtag_ph_{part_name}\"\n",
    "    description = f\"Adds a deg tag placeholder to {source_plasmid_names[part_name]} ({part_name}).\"\n",
    "    forward_primer_id = olib_oligos.upsert(\n",
    "        {\n",
    "            **placeholder_oligo_base,\n",
    "            \"Name\": f\"{name}_f\",\n",
    "            \"Sequence\": workflow.normalize_seq_upper(\n",
    "                placeholder_primers[part_name].primer1\n",
    "            ),\n",
    "            \"Description\": description,\n",
    "        },\n",
    "        apply=apply_oligo,\n",
    "        overwrite=overwrite_oligo,\n",
    "    )\n",
    "    reverse_primer_id = olib_oligos.upsert(\n",
    "        {\n",
    "            **placeholder_oligo_base,\n",
    "            \"Name\": f\"{name}_r\",\n",
    "            \"Sequence\": workflow.normalize_seq_upper(\n",
    "                placeholder_primers[part_name].primer2\n",
    "            ),\n",
    "            \"Description\": description,\n",
    "        },\n",
    "        apply=apply_oligo,\n",
    "        overwrite=overwrite_oligo,\n",
    "    )\n",
    "    placeholder_oligo_names[part_name] = (forward_primer_id, reverse_primer_id)"
   ]
  },
  {
   "cell_type": "code",
   "execution_count": null,
   "id": "34",
   "metadata": {},
   "outputs": [],
   "source": [
    "olib_oligos.local"
   ]
  },
  {
   "cell_type": "markdown",
   "id": "35",
   "metadata": {},
   "source": [
    "### Storage vectors/parts"
   ]
  },
  {
   "cell_type": "code",
   "execution_count": null,
   "id": "36",
   "metadata": {},
   "outputs": [],
   "source": [
    "# use already-generated oligos\n",
    "storage_vector_seqs[\"sigW\"] = reg.eval_command(\"@Gib(pLIB214<oLT100,oLT101>)\")[\"_seq\"]\n",
    "storage_vector_seqs[\"rsiW\"] = reg.eval_command(\"@Gib(pLIB215<oLT100,oLT102>)\")[\"_seq\"]"
   ]
  },
  {
   "cell_type": "code",
   "execution_count": null,
   "id": "37",
   "metadata": {},
   "outputs": [],
   "source": [
    "workflow.re_digest_part(storage_vector_seqs[\"sigW\"], Restriction.BsaI)"
   ]
  },
  {
   "cell_type": "code",
   "execution_count": null,
   "id": "38",
   "metadata": {},
   "outputs": [],
   "source": [
    "plib_maps[\"pLIB321\"] = storage_vector_seqs[\"sigW\"]\n",
    "plib_maps[\"pLIB322\"] = storage_vector_seqs[\"rsiW\"]"
   ]
  },
  {
   "cell_type": "code",
   "execution_count": null,
   "id": "39",
   "metadata": {},
   "outputs": [],
   "source": [
    "plib_maps.local"
   ]
  },
  {
   "cell_type": "code",
   "execution_count": null,
   "id": "40",
   "metadata": {},
   "outputs": [],
   "source": [
    "plib_maps.commit()"
   ]
  },
  {
   "cell_type": "code",
   "execution_count": null,
   "id": "41",
   "metadata": {},
   "outputs": [],
   "source": [
    "flib_fragments.upsert(\n",
    "    {\n",
    "        \"Name\": \"sigW+ClpXP_tag\",\n",
    "        \"Date\": workflow.date(),\n",
    "        \"Sequence\": workflow.re_digest_part(\n",
    "            storage_vector_seqs[\"sigW\"], Restriction.BsaI\n",
    "        ).seq_lower(),\n",
    "    },\n",
    "    key_columns=[\"Name\"],\n",
    "    overwrite=True,\n",
    ")\n",
    "flib_fragments.upsert(\n",
    "    {\n",
    "        \"Name\": \"rsiW+ClpXP_tag\",\n",
    "        \"Date\": workflow.date(),\n",
    "        \"Sequence\": workflow.re_digest_part(\n",
    "            storage_vector_seqs[\"rsiW\"], Restriction.BsaI\n",
    "        ).seq_lower(),\n",
    "    },\n",
    "    key_columns=[\"Name\"],\n",
    "    overwrite=True,\n",
    ")"
   ]
  },
  {
   "cell_type": "code",
   "execution_count": null,
   "id": "42",
   "metadata": {},
   "outputs": [],
   "source": [
    "flib_fragments.local"
   ]
  },
  {
   "cell_type": "code",
   "execution_count": null,
   "id": "43",
   "metadata": {},
   "outputs": [],
   "source": [
    "flib_fragments.commit()"
   ]
  },
  {
   "cell_type": "code",
   "execution_count": null,
   "id": "44",
   "metadata": {
    "tags": []
   },
   "outputs": [],
   "source": [
    "placeholder_part_base = {\n",
    "    **placeholder_base,\n",
    "}\n",
    "\n",
    "apply = {\"Name\": None}\n",
    "\n",
    "for part_name in part_names:\n",
    "    #### PART SEQUENCE\n",
    "    #### USAGE\n",
    "    name = f\"{part_name}_degtag_ph\"\n",
    "    part = reg.get(part_name)\n",
    "    # usage = f\"{oligo_id}={oligo_id2}/{part_enzyme}\"\n",
    "    part_row = {\n",
    "        **placeholder_part_base,\n",
    "        \"Sequence\": workflow.normalize_seq(row[\"Sequence\"]),\n",
    "        \"Usage\": usage,\n",
    "        \"Type\": part[\"Type\"],\n",
    "        \"Upstream overhang\": tag_overhangs[0],\n",
    "        \"Downstream overhang\": tag_overhangs[1],\n",
    "        \"Species/codon usage\": \"E. coli\",\n",
    "    }\n",
    "    lib_parts[name] = part_row\n",
    "    # lib_parts.upsert(part_row, apply=apply)"
   ]
  },
  {
   "cell_type": "code",
   "execution_count": null,
   "id": "45",
   "metadata": {},
   "outputs": [],
   "source": [
    "# storage vector maps\n",
    "# storage vector plasmid entry\n",
    "# storage vector strain entry"
   ]
  }
 ],
 "metadata": {
  "kernelspec": {
   "display_name": "Python 3 (ipykernel)",
   "language": "python",
   "name": "python3"
  },
  "language_info": {
   "codemirror_mode": {
    "name": "ipython",
    "version": 3
   },
   "file_extension": ".py",
   "mimetype": "text/x-python",
   "name": "python",
   "nbconvert_exporter": "python",
   "pygments_lexer": "ipython3",
   "version": "3.9.13"
  }
 },
 "nbformat": 4,
 "nbformat_minor": 4
}
