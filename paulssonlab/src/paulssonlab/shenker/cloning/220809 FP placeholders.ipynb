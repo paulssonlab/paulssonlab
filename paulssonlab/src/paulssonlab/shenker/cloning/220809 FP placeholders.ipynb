{
 "cells": [
  {
   "cell_type": "code",
   "execution_count": null,
   "id": "0",
   "metadata": {},
   "outputs": [],
   "source": [
    "import pygsheets\n",
    "import toml\n",
    "from Bio import Restriction\n",
    "from Bio.Seq import Seq\n",
    "from Bio.SeqRecord import SeqRecord"
   ]
  },
  {
   "cell_type": "code",
   "execution_count": null,
   "id": "1",
   "metadata": {},
   "outputs": [],
   "source": [
    "%load_ext autoreload\n",
    "%autoreload 2"
   ]
  },
  {
   "cell_type": "code",
   "execution_count": null,
   "id": "2",
   "metadata": {},
   "outputs": [],
   "source": [
    "import paulssonlab.cloning.codon as codon\n",
    "import paulssonlab.cloning.design as design\n",
    "import paulssonlab.cloning.enzyme as enzyme\n",
    "import paulssonlab.cloning.registry as registry\n",
    "import paulssonlab.cloning.sequence as sequence\n",
    "import paulssonlab.cloning.workflow as workflow"
   ]
  },
  {
   "cell_type": "markdown",
   "id": "3",
   "metadata": {},
   "source": [
    "# Setup"
   ]
  },
  {
   "cell_type": "code",
   "execution_count": null,
   "id": "4",
   "metadata": {},
   "outputs": [],
   "source": [
    "config = toml.load(\"config.toml\")"
   ]
  },
  {
   "cell_type": "code",
   "execution_count": null,
   "id": "5",
   "metadata": {},
   "outputs": [],
   "source": [
    "gc = pygsheets.authorize(service_account_file=\"credentials.json\")"
   ]
  },
  {
   "cell_type": "code",
   "execution_count": null,
   "id": "6",
   "metadata": {},
   "outputs": [],
   "source": [
    "reg = registry.Registry(gc, config[\"registry\"][\"folder\"])"
   ]
  },
  {
   "cell_type": "code",
   "execution_count": null,
   "id": "7",
   "metadata": {},
   "outputs": [],
   "source": [
    "olib_oligos = reg[(\"oLIB\", \"oligos\")]\n",
    "plib_plasmids = reg[(\"pLIB\", \"plasmids\")]\n",
    "plib_maps = reg[(\"pLIB\", \"maps\")]\n",
    "flib_fragments = reg[(\"fLIB\", \"fragments\")]\n",
    "part_types = reg[(\"fLIB\", \"fragments\", \"Part types\")]"
   ]
  },
  {
   "cell_type": "markdown",
   "id": "8",
   "metadata": {},
   "source": [
    "# Config"
   ]
  },
  {
   "cell_type": "code",
   "execution_count": null,
   "id": "9",
   "metadata": {},
   "outputs": [],
   "source": [
    "enzymes = [Restriction.BsaI]\n",
    "fp_placeholder_types = []\n",
    "part_type = \"CDS\"\n",
    "part_enzyme = Restriction.BsaI\n",
    "num_random_bases = 6\n",
    "reference = \"\""
   ]
  },
  {
   "cell_type": "code",
   "execution_count": null,
   "id": "10",
   "metadata": {},
   "outputs": [],
   "source": [
    "linkers = {\n",
    "    # Arai: A-(EAAK)5-A\n",
    "    # DHL\n",
    "    # slippery\n",
    "    # prefix/suffix for GGGGS/EAAAK?\n",
    "    \"ggggs5\": \"GGGGS\" * 5,\n",
    "    \"eaaak5\": \"EAAAK\" * 5,\n",
    "    \"HHH\": \"hhh\",\n",
    "}\n",
    "slippy = \"\""
   ]
  },
  {
   "cell_type": "markdown",
   "id": "11",
   "metadata": {},
   "source": [
    "# Test"
   ]
  },
  {
   "cell_type": "code",
   "execution_count": null,
   "id": "12",
   "metadata": {},
   "outputs": [],
   "source": [
    "test_linker = \"GGSGGSGGS\""
   ]
  },
  {
   "cell_type": "code",
   "execution_count": null,
   "id": "13",
   "metadata": {},
   "outputs": [],
   "source": [
    "codon.back_translate(test_linker)"
   ]
  },
  {
   "cell_type": "markdown",
   "id": "14",
   "metadata": {},
   "source": [
    "# Sequences"
   ]
  },
  {
   "cell_type": "code",
   "execution_count": null,
   "id": "15",
   "metadata": {},
   "outputs": [],
   "source": [
    "fp_placeholder_overhangs = [\n",
    "    workflow.overhangs_for(part_type) for part_type in fp_placeholder_types\n",
    "]\n",
    "part_overhangs = workflow.overhangs_for(part_types[part_type])"
   ]
  },
  {
   "cell_type": "code",
   "execution_count": null,
   "id": "16",
   "metadata": {},
   "outputs": [],
   "source": [
    "seqs = {}\n",
    "for enzyme, fp_overhangs in product(enzymes, fp_overhangs):\n",
    "    # ATG-mScarletI_ph-TAATAA\n",
    "    oligo_seq = (\n",
    "        design.type2s_with_spacer(tag_enzyme, len(tag_overhangs[0]))\n",
    "        + row[\"Sequence\"]\n",
    "        + sequence.reverse_complement(\n",
    "            design.type2s_with_spacer(tag_enzyme, len(tag_overhangs[1]))\n",
    "        )\n",
    "    )\n",
    "    oligo_seq = workflow.normalize_seq(oligo_seq)\n",
    "    oligo_seq = design.random_bases(num_random_bases, seed=oligo_seq) + oligo_seq\n",
    "    # ATG-ClpP_ph-linker-mScarletI_ph-TAATAA\n",
    "    # flipped: ATG-mScarletI_ph-linker-ClpP_ph-TAATAA\n",
    "    # ATG-mScarletI_ph-linker-refFP_ph-TAATAA\n",
    "    # flipped: ATG-refFP_ph-linker-mScarletI_ph-TAATAA\n",
    "    ##########\n",
    "    #\n",
    "    # entry = reg.get(name)\n",
    "    # new_name = re.sub(r\"_BC$\", \"_RiboJ\", name)\n",
    "    # if use_storage_vector:\n",
    "    #     if part_enzyme != Restriction.BsaI:\n",
    "    #         raise ValueError(\"storage vector assumes BsaI part\")\n",
    "    #     seq = (\n",
    "    #         design.random_bases(num_random_bases)\n",
    "    #         + lib_parts[\"JUMP_storage_vector_prefix\"][\"Sequence\"]\n",
    "    #         + workflow.smoosh_and_normalize_sequences(\n",
    "    #             part_overhangs[0],\n",
    "    #             entry[\"_seq\"].trim_overhangs(),\n",
    "    #             part_overhangs[1],\n",
    "    #         )\n",
    "    #         + lib_parts[\"JUMP_storage_vector_suffix\"][\"Sequence\"]\n",
    "    #         + design.random_bases(num_random_bases)\n",
    "    #     )\n",
    "    # else:\n",
    "    #     seq = workflow.smoosh_and_normalize_sequences(\n",
    "    #         part_overhangs[0],\n",
    "    #         entry[\"_seq\"].trim_overhangs(),\n",
    "    #         part_overhangs[1],\n",
    "    #     )\n",
    "    #     seq = (\n",
    "    #         design.random_bases(num_random_bases)\n",
    "    #         + design.type2s_with_spacer(part_enzyme, len(part_overhangs[0]))\n",
    "    #         + seq\n",
    "    #         + sequence.reverse_complement(\n",
    "    #             design.type2s_with_spacer(part_enzyme, len(part_overhangs[1]))\n",
    "    #         )\n",
    "    #         + design.random_bases(num_random_bases)\n",
    "    #     )\n",
    "    # seq = workflow.normalize_seq(seq)\n",
    "    # # include first sentence\n",
    "    # description = (\n",
    "    #     entry[\"Description\"].split(\".\")[0]\n",
    "    #     + f\". Same as {name} but with RiboJ-compatible overhangs.\"\n",
    "    # )\n",
    "\n",
    "    seqs[new_name] = {\"Sequence\": seq, \"Description\": description}"
   ]
  },
  {
   "cell_type": "markdown",
   "id": "17",
   "metadata": {},
   "source": [
    "## Oligos"
   ]
  },
  {
   "cell_type": "code",
   "execution_count": null,
   "id": "18",
   "metadata": {},
   "outputs": [],
   "source": [
    "base = {\"Author\": \"Jacob Quinn Shenker\", \"Date\": workflow.date()}\n",
    "\n",
    "oligo_base = {\n",
    "    **base,\n",
    "    \"Order date\": workflow.date(),\n",
    "    \"Vendor\": \"IDT\",\n",
    "    \"Type\": \"Primer\",\n",
    "}\n",
    "\n",
    "part_base = {\n",
    "    **base,\n",
    "    \"Tags\": part_tags,\n",
    "    \"Reference\": reference,\n",
    "}\n",
    "\n",
    "apply_oligo = {\"Name\": None}  # {\"Sequence\": workflow.normalize_seq}\n",
    "overwrite_oligo = False\n",
    "apply = {\"Name\": None}\n",
    "overwrite = True\n",
    "\n",
    "for name, row in tags.items():\n",
    "    # add BsaI flanks\n",
    "    oligo_seq = (\n",
    "        design.type2s_with_spacer(tag_enzyme, len(tag_overhangs[0]))\n",
    "        + row[\"Sequence\"]\n",
    "        + sequence.reverse_complement(\n",
    "            design.type2s_with_spacer(tag_enzyme, len(tag_overhangs[1]))\n",
    "        )\n",
    "    )\n",
    "    oligo_seq = workflow.normalize_seq(oligo_seq)\n",
    "    oligo_seq = design.random_bases(num_random_bases, seed=oligo_seq) + oligo_seq\n",
    "    if workflow.DEGENERATE_BASES_REGEX.search(workflow.normalize_seq(row[\"Sequence\"])):\n",
    "        # is library with degenerate bases, append library primer\n",
    "        oligo_seq = oligo_seq + library_primer_seq_rc\n",
    "        oligo_row = {\n",
    "            **oligo_base,\n",
    "            **row,\n",
    "            \"Name\": f\"{name}_v2\",\n",
    "            \"Sequence\": oligo_seq.upper(),\n",
    "        }\n",
    "        oligo_id = olib_oligos.upsert(\n",
    "            oligo_row, apply=apply_oligo, overwrite=overwrite_oligo\n",
    "        )\n",
    "        usage = f\"{oligo_id}<{library_reverse_primer}>/{tag_enzyme}\"\n",
    "    else:\n",
    "        # not library, just order two oligos to anneal\n",
    "        # in this case, there's no reverse primer binding site,\n",
    "        # so we need to add random bases to ensure efficient cutting\n",
    "        oligo_seq = oligo_seq + design.random_bases(num_random_bases, seed=oligo_seq)\n",
    "        oligo_id = olib_oligos.upsert(\n",
    "            {\n",
    "                **oligo_base,\n",
    "                **row,\n",
    "                \"Name\": f\"{name}_sense\",\n",
    "                \"Sequence\": workflow.normalize_seq_upper(oligo_seq),\n",
    "            },\n",
    "            apply=apply_oligo,\n",
    "            overwrite=overwrite_oligo,\n",
    "        )\n",
    "        oligo_id2 = olib_oligos.upsert(\n",
    "            {\n",
    "                **oligo_base,\n",
    "                **row,\n",
    "                \"Name\": f\"{name}_antisense\",\n",
    "                \"Sequence\": workflow.normalize_seq_upper(\n",
    "                    sequence.reverse_complement(oligo_seq)\n",
    "                ),\n",
    "            },\n",
    "            apply=apply_oligo,\n",
    "            overwrite=overwrite_oligo,\n",
    "        )\n",
    "        usage = f\"{oligo_id}={oligo_id2}/{tag_enzyme}\"\n",
    "    part_row = {\n",
    "        **part_base,\n",
    "        **row,\n",
    "        \"Name\": name,\n",
    "        \"Sequence\": workflow.normalize_seq(row[\"Sequence\"]),\n",
    "        \"Usage\": usage,\n",
    "        \"Type\": tag_part_type,\n",
    "        \"Upstream overhang\": tag_overhangs[0],\n",
    "        \"Downstream overhang\": tag_overhangs[1],\n",
    "        \"Species/codon usage\": \"E. coli\",\n",
    "    }\n",
    "    flib_fragments.upsert(part_row, apply=apply, overwrite=overwrite)"
   ]
  },
  {
   "cell_type": "code",
   "execution_count": null,
   "id": "19",
   "metadata": {},
   "outputs": [],
   "source": [
    "olib_oligos.commit()\n",
    "flib_fragments.commit()"
   ]
  },
  {
   "cell_type": "code",
   "execution_count": null,
   "id": "20",
   "metadata": {},
   "outputs": [],
   "source": [
    "base = {\"Author\": \"Jacob Quinn Shenker\", \"Date\": workflow.date()}\n",
    "\n",
    "oligo_base = {\n",
    "    **base,\n",
    "    \"Order date\": workflow.date(),\n",
    "    \"Vendor\": \"Genewiz\",\n",
    "    \"Type\": \"Primer\",\n",
    "}\n",
    "\n",
    "part_base = {\n",
    "    **base,\n",
    "    \"Tags\": part_tags,\n",
    "    \"Reference\": reference,\n",
    "}\n",
    "\n",
    "# apply = {\"Sequence\": workflow.normalize_seq}\n",
    "apply = {\"Name\": None}\n",
    "\n",
    "for name, row in seqs.items():\n",
    "    seq = row[\"Sequence\"]\n",
    "    oligo_id = olib_oligos.upsert(\n",
    "        {\n",
    "            **oligo_base,\n",
    "            **row,\n",
    "            \"Name\": f\"{name}_sense\",\n",
    "            \"Sequence\": workflow.normalize_seq_upper(seq),\n",
    "        },\n",
    "        apply=apply,\n",
    "    )\n",
    "    oligo_id2 = olib_oligos.upsert(\n",
    "        {\n",
    "            **oligo_base,\n",
    "            **row,\n",
    "            \"Name\": f\"{name}_antisense\",\n",
    "            \"Sequence\": workflow.normalize_seq_upper(sequence.reverse_complement(seq)),\n",
    "        },\n",
    "        apply=apply,\n",
    "    )\n",
    "    usage = f\"{oligo_id}={oligo_id2}/{part_enzyme}\"\n",
    "    part_seq = workflow.normalize_seq(workflow.re_digest_part(seq, part_enzyme))\n",
    "    part_row = {\n",
    "        **part_base,\n",
    "        **row,\n",
    "        \"Sequence\": part_seq,\n",
    "        \"Usage\": usage,\n",
    "        \"Type\": part_type,\n",
    "        \"Upstream overhang\": part_overhangs[0],\n",
    "        \"Downstream overhang\": part_overhangs[1],\n",
    "        \"Species/codon usage\": \"E. coli\",\n",
    "    }\n",
    "    lib_parts[name] = part_row"
   ]
  }
 ],
 "metadata": {
  "kernelspec": {
   "display_name": "Python 3 (ipykernel)",
   "language": "python",
   "name": "python3"
  },
  "language_info": {
   "codemirror_mode": {
    "name": "ipython",
    "version": 3
   },
   "file_extension": ".py",
   "mimetype": "text/x-python",
   "name": "python",
   "nbconvert_exporter": "python",
   "pygments_lexer": "ipython3",
   "version": "3.9.13"
  }
 },
 "nbformat": 4,
 "nbformat_minor": 4
}
