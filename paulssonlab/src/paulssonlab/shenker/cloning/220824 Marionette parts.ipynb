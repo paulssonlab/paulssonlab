{
 "cells": [
  {
   "cell_type": "code",
   "execution_count": null,
   "metadata": {},
   "outputs": [],
   "source": [
    "import numpy as np\n",
    "import toml\n",
    "import pygsheets\n",
    "import requests\n",
    "import re\n",
    "import itertools as it\n",
    "from tqdm.auto import tqdm\n",
    "import Bio.Restriction as Restriction\n",
    "from Bio.Seq import Seq\n",
    "from Bio.SeqRecord import SeqRecord"
   ]
  },
  {
   "cell_type": "code",
   "execution_count": null,
   "metadata": {},
   "outputs": [],
   "source": [
    "%load_ext autoreload\n",
    "%autoreload 2"
   ]
  },
  {
   "cell_type": "code",
   "execution_count": null,
   "metadata": {},
   "outputs": [],
   "source": [
    "import paulssonlab.api as api\n",
    "import paulssonlab.cloning.registry as registry\n",
    "import paulssonlab.cloning.workflow as workflow\n",
    "import paulssonlab.cloning.design as design\n",
    "import paulssonlab.cloning.sequence as sequence\n",
    "import paulssonlab.cloning.enzyme as enzyme\n",
    "import paulssonlab.cloning.viennarna as viennarna\n",
    "import paulssonlab.cloning.thermodynamics as thermodynamics\n",
    "import paulssonlab.cloning.primers as primers\n",
    "import paulssonlab.api.geneious as geneious\n",
    "from paulssonlab.util import grouper"
   ]
  },
  {
   "cell_type": "markdown",
   "metadata": {},
   "source": [
    "# Setup"
   ]
  },
  {
   "cell_type": "code",
   "execution_count": null,
   "metadata": {},
   "outputs": [],
   "source": [
    "config = toml.load(\"config.toml\")"
   ]
  },
  {
   "cell_type": "code",
   "execution_count": null,
   "metadata": {},
   "outputs": [],
   "source": [
    "gc = pygsheets.authorize(service_account_file=\"credentials.json\")"
   ]
  },
  {
   "cell_type": "code",
   "execution_count": null,
   "metadata": {},
   "outputs": [],
   "source": [
    "geneious_sessionmaker = geneious.connect(**config[\"geneious\"])"
   ]
  },
  {
   "cell_type": "code",
   "execution_count": null,
   "metadata": {},
   "outputs": [],
   "source": [
    "reg = registry.Registry(\n",
    "    gc,\n",
    "    config[\"registry\"][\"folder\"],\n",
    "    geneious_sessionmaker=geneious_sessionmaker,\n",
    "    geneious_folder=\"registry\",\n",
    ")"
   ]
  },
  {
   "cell_type": "markdown",
   "metadata": {},
   "source": [
    "# Config"
   ]
  },
  {
   "cell_type": "code",
   "execution_count": null,
   "metadata": {},
   "outputs": [],
   "source": [
    "olib_oligos = reg[(\"oLIB\", \"oligos\")]\n",
    "plib_plasmids = reg[(\"pLIB\", \"plasmids\")]\n",
    "plib_maps = reg[(\"pLIB\", \"maps\")]\n",
    "lib_strains = reg[(\"LIB\", \"strains\")]\n",
    "flib_fragments = reg[(\"fLIB\", \"fragments\")]\n",
    "part_types = reg[(\"fLIB\", \"fragments\", \"Part types\")]"
   ]
  },
  {
   "cell_type": "code",
   "execution_count": null,
   "metadata": {},
   "outputs": [],
   "source": [
    "name_prefix = \"AM19_\"\n",
    "storage_vector_id = \"pLIB112\"\n",
    "source_plasmid_ids = [f\"pLIB{i}\" for i in range(145, 159)]\n",
    "part_enzyme = Restriction.BsaI\n",
    "storage_enzyme = Restriction.BsmBI\n",
    "bicistronic_enzyme = Restriction.BsmBI\n",
    "num_random_bases = 6  # random bases to add between enzyme binding site and end of DNA\n",
    "cds_flanks = (\"a\", \"taataaggt\")  # double stop\n",
    "storage_flanks = (\n",
    "    flib_fragments.find({\"Name\": \"JUMP_storage_vector_prefix\"})[\"Sequence\"],\n",
    "    flib_fragments.find({\"Name\": \"JUMP_storage_vector_suffix\"})[\"Sequence\"],\n",
    ")\n",
    "cds_part_type = \"CDS_CD\"\n",
    "cds_overhangs = workflow.overhangs_for(part_types[cds_part_type])\n",
    "bicistronic_overhangs = workflow.overhangs_for(part_types[\"3G_BD\"])\n",
    "promoter_part_type = \"Promoter_AB\"\n",
    "promoter_overhangs = workflow.overhangs_for(part_types[promoter_part_type])\n",
    "reference = plib_plasmids[source_plasmid_ids[0]][\"Reference\"]\n",
    "\n",
    "# deg tags\n",
    "# tag_part_type = \"ClpXP_tag\"\n",
    "# tag_overhangs = workflow.overhangs_for(part_types[tag_part_type])\n",
    "# library_reverse_primer = \"oLIB46\"\n",
    "# placeholder_enzyme = Restriction.BsaI\n",
    "# tail_length_aa = 3  # aa\n",
    "# tail_length = tail_length_aa * 3  # nt\n",
    "# sspb_length_aa = 6  # aa (part of the SspB binding site that is mutagenized with NNK's; note we keep first two alanines fixed)\n",
    "# sspb_length = sspb_length_aa * 3  # nt\n",
    "# head_length = 6  # nt\n",
    "\n",
    "# primers\n",
    "tm_binding = 60\n",
    "min_mfe = None"
   ]
  },
  {
   "cell_type": "code",
   "execution_count": null,
   "metadata": {},
   "outputs": [],
   "source": [
    "promoter_bounds = (\n",
    "    \"CGCTTAACGATCGTTGGCTG\",\n",
    "    \"AGCTGTCACCGGATGTGCTTTCCGGTCTGATGAGTCCGTGAGGACGAAACAG\",\n",
    ")"
   ]
  },
  {
   "cell_type": "code",
   "execution_count": null,
   "metadata": {},
   "outputs": [],
   "source": [
    "cds_bounds = (\"CGCCCGGAAGAGAGTCAATT\", \"TAATTGGTAACGAAT\")\n",
    "cds_bounds_override = {\n",
    "    \"pAJM.677\": (cds_bounds[0], \"TAAGATCCTATTCCAGCGGGATTAAAGAGGAGCGATTAAGC\"),\n",
    "    \"pAJM.969\": (cds_bounds[0], \"TAATATTGAAAAAGGAAGAGT\"),\n",
    "}\n",
    "cds_offset = 13  # ATG should be 13bp (or in one case, 14bp) after cds_bounds[0]"
   ]
  },
  {
   "cell_type": "code",
   "execution_count": null,
   "metadata": {},
   "outputs": [],
   "source": [
    "bicistronic_placeholder = design.golden_gate_placeholder(\n",
    "    bicistronic_enzyme, None, *bicistronic_overhangs\n",
    ")"
   ]
  },
  {
   "cell_type": "markdown",
   "metadata": {},
   "source": [
    "# Marionette parts"
   ]
  },
  {
   "cell_type": "markdown",
   "metadata": {},
   "source": [
    "## Sequences from plasmid maps"
   ]
  },
  {
   "cell_type": "code",
   "execution_count": null,
   "metadata": {},
   "outputs": [],
   "source": [
    "ajm_to_repressor = {}\n",
    "ajm_to_aux = {}\n",
    "ajm_to_promoter = {}\n",
    "id_to_ajm = {}\n",
    "ajm_to_id = {}\n",
    "for id_ in source_plasmid_ids:\n",
    "    plasmid = plib_plasmids[id_]\n",
    "    orig_name = plasmid[\"Names\"]\n",
    "    repressor, aux, promoter = re.match(\n",
    "        r\"^(\\S+) \\+(?: (\\S+) \\+)? ?(\\S+)-YFP Reporter.*\", plasmid[\"Description\"]\n",
    "    ).groups()\n",
    "    if repressor:\n",
    "        repressor = name_prefix + repressor\n",
    "    if aux:\n",
    "        aux = name_prefix + aux\n",
    "    if promoter:\n",
    "        promoter = name_prefix + promoter\n",
    "    id_to_ajm[id_] = orig_name\n",
    "    ajm_to_id[orig_name] = id_\n",
    "    ajm_to_repressor[orig_name] = repressor\n",
    "    if aux:\n",
    "        ajm_to_aux[orig_name] = aux\n",
    "    ajm_to_promoter[orig_name] = promoter"
   ]
  },
  {
   "cell_type": "code",
   "execution_count": null,
   "metadata": {},
   "outputs": [],
   "source": [
    "%%time\n",
    "source_plasmid_maps = {\n",
    "    plib_plasmids[name][\"Names\"]: plib_maps[name] for name in source_plasmid_ids\n",
    "}"
   ]
  },
  {
   "cell_type": "code",
   "execution_count": null,
   "metadata": {},
   "outputs": [],
   "source": [
    "%%time\n",
    "promoter_locations = {\n",
    "    name: np.array(\n",
    "        sequence.amplicon_location(\n",
    "            seq, promoter_bounds[0], sequence.reverse_complement(promoter_bounds[1])\n",
    "        )\n",
    "    )\n",
    "    for name, seq in source_plasmid_maps.items()\n",
    "}"
   ]
  },
  {
   "cell_type": "code",
   "execution_count": null,
   "metadata": {},
   "outputs": [],
   "source": [
    "promoter_source_seqs = {\n",
    "    name: source_plasmid_maps[name].slice(*loc)\n",
    "    for name, loc in promoter_locations.items()\n",
    "}\n",
    "# add extra, otherwise there's an undesired BsaI site at the 5' end\n",
    "# TODO: adding this base to promoter_source_seqs instead of forward_overhang means we get a slightly lower Tm than we were expecting\n",
    "# this was a mistake, would be more elegant to add it to overhang\n",
    "promoter_source_seqs[\"pAJM.474\"] = Seq(\"G\") + promoter_source_seqs[\"pAJM.474\"]\n",
    "extra_promoter_description = {\n",
    "    \"pAJM.474\": \"Prepended a G to the promoter sequence to avoid creating an undesired BsaI site.\"\n",
    "}"
   ]
  },
  {
   "cell_type": "code",
   "execution_count": null,
   "metadata": {},
   "outputs": [],
   "source": [
    "%%time\n",
    "cds_locations = {}\n",
    "for name, seq in source_plasmid_maps.items():\n",
    "    bounds = cds_bounds_override.get(name, cds_bounds)\n",
    "    loc = np.array(\n",
    "        sequence.amplicon_location(\n",
    "            seq, bounds[0], sequence.reverse_complement(bounds[1])\n",
    "        )\n",
    "    )\n",
    "    loc += np.array([cds_offset, 0])\n",
    "    cds_locations[name] = loc"
   ]
  },
  {
   "cell_type": "code",
   "execution_count": null,
   "metadata": {},
   "outputs": [],
   "source": [
    "cds_locations"
   ]
  },
  {
   "cell_type": "code",
   "execution_count": null,
   "metadata": {},
   "outputs": [],
   "source": [
    "def trim_cds(label, seq):\n",
    "    start = seq.index(\"atg\")\n",
    "    if start > 0:\n",
    "        print(f\"{label}: trimming CDS start by {start} nt\")\n",
    "    stop = 0\n",
    "    for idx, codon in enumerate(grouper(seq[start:], 3)):\n",
    "        codon = \"\".join(codon)\n",
    "        if codon in [\"taa\", \"tga\", \"tag\"]:\n",
    "            stop = len(seq) - start - idx * 3\n",
    "            print(\n",
    "                f\"{label}: trimming CDS end by {stop} nt ('{codon}' stop codon found)\"\n",
    "            )\n",
    "            break\n",
    "    return loc + np.array([start, -stop])"
   ]
  },
  {
   "cell_type": "code",
   "execution_count": null,
   "metadata": {},
   "outputs": [],
   "source": [
    "cds_locations_trimmed = {}\n",
    "for name, loc in cds_locations.items():\n",
    "    seq = source_plasmid_maps[name].slice(*loc).seq_lower()\n",
    "    cds_locations_trimmed[name] = trim_cds(f\"{name} ({ajm_to_repressor[name]})\", seq)"
   ]
  },
  {
   "cell_type": "code",
   "execution_count": null,
   "metadata": {},
   "outputs": [],
   "source": [
    "cds_source_seqs = {\n",
    "    name: source_plasmid_maps[name].slice(*loc)\n",
    "    for name, loc in cds_locations_trimmed.items()\n",
    "}"
   ]
  },
  {
   "cell_type": "code",
   "execution_count": null,
   "metadata": {},
   "outputs": [],
   "source": [
    "{name: len(seq) for name, seq in cds_source_seqs.items()}"
   ]
  },
  {
   "cell_type": "code",
   "execution_count": null,
   "metadata": {},
   "outputs": [],
   "source": [
    "%%time\n",
    "aux_locations = {}\n",
    "for name, bounds in cds_bounds_override.items():\n",
    "    seq = source_plasmid_maps[name]\n",
    "    loc = np.array(\n",
    "        sequence.amplicon_location(\n",
    "            seq, bounds[1], sequence.reverse_complement(cds_bounds[1])\n",
    "        )\n",
    "    )\n",
    "    aux_locations[name] = loc"
   ]
  },
  {
   "cell_type": "code",
   "execution_count": null,
   "metadata": {},
   "outputs": [],
   "source": [
    "aux_locations_trimmed = {}\n",
    "for name, loc in aux_locations.items():\n",
    "    seq = source_plasmid_maps[name].slice(*loc).seq_lower()\n",
    "    aux_locations_trimmed[name] = trim_cds(f\"{name} ({ajm_to_aux[name]})\", seq)"
   ]
  },
  {
   "cell_type": "code",
   "execution_count": null,
   "metadata": {},
   "outputs": [],
   "source": [
    "aux_source_seqs = {\n",
    "    name: source_plasmid_maps[name].slice(*loc)\n",
    "    for name, loc in aux_locations_trimmed.items()\n",
    "}"
   ]
  },
  {
   "cell_type": "code",
   "execution_count": null,
   "metadata": {},
   "outputs": [],
   "source": [
    "{name: len(seq) for name, seq in aux_source_seqs.items()}"
   ]
  },
  {
   "cell_type": "markdown",
   "metadata": {},
   "source": [
    "## Sequences from paper"
   ]
  },
  {
   "cell_type": "code",
   "execution_count": null,
   "metadata": {},
   "outputs": [],
   "source": [
    "cds_paper_seqs = {\n",
    "    \"pAJM.011\": \"ATGTCCAGATTAGATAAAAGTAAAGTGATTAACA GCGCATTAGAGCTGCTTAATGAGGTCGGAATCGAAGGTTTAACAACCCGTAAACTCGCCCAGAAGCTAGGTGTAGAGCAGCCTACATTGTATTGGCATGTAAAAAATAAGCGGGC TTTGCTCGACGCCTTAGCCATTGAGATGTTAGATAGGCACCATACTCACTTTTGCCCTTTAGAAGGGGAAAGCTGGCAAGATTTTTTACGTAATAACGCTAAAAGTTTTAGATGT GCTTTACTAAGTCATCGCGATGGAGCAAAAGTACATTTAGGTACACGGCCTACAGAAAAACAGTATGAAACTCTCGAAAATCAATTAGCCTTTTTATGCCAACAAGGTTTTTCAC TAGAGAATGCATTATATGCACTCAGCGCTGTGGGGCATTTTACTTTAGGTTGCGTATTGGAAGATCAAGAGCATCAAGTCGCTAAAGAAGAAAGGGAAACACCTACTACTGATAG TATGCCGCCATTATTACGACAAGCTATCGAATTATTTGATCACCAAGGTGCAGAGCCAGCCTTCTTATTCGGCCTTGAATTGATCATATGCGGATTAGAAAAACAACTTAAATGT GAAAGTGGGTCCTGA\",\n",
    "    \"pAJM.336\": \"ATGAAACCAGTAACGTTATACGATGTCGCAGAGTATGCCGGTGTCTCTTATATG ACCGTTTCCCGCGTGGTGAACCAGGCCAGCCACGTTTCTGCGAAAACGCGGGAAAAAGTGGAAGCGGCGATGGTGGAGCTGAATTACATTCCCAACCGCGTGGCACAACAACTGG CGGGCAAACAGTCGTTGCTGATTGGCGTTGCCACCTCCAGTCTGGCCCTGCACGCGCCGTCGCAAATTGTCGCGGCGATTAAATCTCGCGCCGATCAACTGGGTGCCAGCGTGGT GGTGTCGATGGTAGAACGAAGCGGCGTCGAAGCCTGTAAAGCGGCGGTGCACAATCTTCTCGCGCAACGCGTCAGTGGGCTGATCATTAACTATCCGCTGGATGACCAGGATGCC ATTGCTGTGGAAGCTGCCTGCACTAATGTTCCGGCGTTATTTCTTGATGTCTCTGACCAGACACCCATCAACAGTATTATTTACTCCCATGAGGACGGTACGCGACTGGGCGTGG AGCATCTGGTCGCATTGGGTCACCAGCAAATCGCGCTGTTAGCGGGCCCATTAAGTTCTGTCTCGGCGCGTCTGCGTCTGGCTGGCTGGCATAAATATCTCACTCGCAATCAAAT TCAGCCGATAGCGGAACGGGAAGGCGACTGGAGTGCCATGTCCGGTTTTCAACAAACCATGCAAATGCTGAATGAGGGCATCGTTCCCACTGCGATGCTGGTTGCCAACGATCAG ATGGCGCTGGGCGCAATGCGCGCCATTACCGAGTCCGGGCTGCGCGTTGGTGCGGATATCTCGGTAGTGGGATACGACGATACCGAAGATAGCTCATGTTATATCCCGCCGTTAA CCACCATCAAACAGGATTTTCGCCTGCTGGGGCAAACCAGCGTGGACCGCTTGCTGCAACTCTCTCAGGGCCAGGCGGTGAAGGGCAATCAGCTGTTGCCAGTCTCACTGGTGAA AAGAAAAACCACCCTGGCGCCCAATACGCAAACCGCCTCTCCCCGCGCGTTGGCCGATTCATTAATGCAGCTGGCACGACAGGTTTCCCGACTGGAAAGCGGGCAGTGA\",\n",
    "    \"pAJM.474\": \"ATGAAAAACATAAATGCCGACGACACATACAGAATAATTAATAAAATTAAAGCTT GTAGAAGCAATAATGATATTAATCAATGCTTATCTGATATGACTAAAATGGTACATTGTGAATATTATTTACTCGCGATCATTTATCCTCATTCTATGGTTAAATCTGATATTTC AATCCTAGATAATTACCCTAAAAAATGGAGGCAATATTATGATGACGCTAATTTAATAAAATATGATCCTATAGTAGATTATTCTAACTCCAATCATTCACCAATTAATTGGAAT ATATTTGAAAACAATGCTGTAAATAAAAAATCTCCAAATGTAATTAAAGAAGCGAAAACATCAGGTCTTATCACTGGGTTTAGTTTCCCTATTCATACGGCTAACAATGGCTTCG GAATGCTTAGTTTTGCACATTCAGAAAAAGACAACTATATAGATAGTTTATTTTTACATGCGTGTATGAACATACCATTAATTGTTCCTTCTCTAGTTGATAATTATCGAAAAAT AAATATAGCAAATAATAAATCAAACAACGATTTAACCAAAAGAGAAAAAGAATGTTTAGCGTGGGCATGCGAAGGAAAAAGCTCTTGGGATATTTCAAAAATATTAGGTTGCAGT GAGCGTACTGTCACTTTCCATTTAACCAATGCGCAAATGAAACTCAATACAACAAACCGCTGCCAAAGTATTTCTAAAGCAATTTTAACAGGAGCAATTGATTGCCCATACTTTAAAAATTGA\",\n",
    "    \"pAJM.657\": \"ATGAGCCCGAAACGTCGTAC CCAGGCAGAACGTGCAATGGAAACCCAGGGTAAACTGATTGCAGCAGCACTGGGTGTTCTGCGTGAAAAAGGTTATGCAGGTTTTCGTATTGCAGATGTTCCGGGTGCAGCCGGT GTTAGCCGTGGTGCACAGAGCCATCATTTTCCGACCAAACTGGAACTGCTGCTGGCAACCTTTGAATGGCTGTATGAGCAGATTACCGAACGTAGCCGTGCACGTCTGGCAAAAC TGAAACCGGAAGATGATGTTATTCAGCAGATGCTGGATGATGCAGCAGAATTTTTTCTGGATGATGATTTTAGCATCGGCCTGGATCTGATTGTTGCAGCAGATCGTGATCCGGC ACTGCGTGAAGGTATTCAGCGTACCGTTGAACGTAATCGTTTTGTTGTTGAAGATATGTGGCTGGGTGTGCTGGTGAGCCGTGGTCTGAGCCGTGATGATGCCGAAGATATTCTG TGGCTGATTTTTAACAGCGTTCGTGGTCTGGTAGTTCGTAGCCTGTGGCAGAAAGATAAAGAACGTTTTGAACGTGTGCGTAATAGCACCCTGGAAATTGCACGTGAACGTTATG CAAAATTCAAACGTTGA\",\n",
    "    \"pAJM.661\": \"ATGGTTCGTCGTACCAAAGAAGAGGCACAAGAAACCCGTGCACAGATTATTGAAGCAGC AGAACGTGCATTCTATAAACGTGGTGTTGCACGTACCACCCTGGCAGATATTGCAGAACTGGCAGGCGTTACCCGTGGTGCAATTTATTGGCATTTTAACAACAAAGCCGAACTG GTTCAGGCACTGCTGGATAGCCTGCATGAAACCCATGATCATCTGGCACGTGCAAGCGAAAGCGAAGATGAAGTTGATCCGCTGGGTTGTATGCGTAAACTGCTGCTGCAGGTTT TTAATGAACTGGTTCTGGATGCACGTACCCGTCGTATTAATGAAATCCTGCATCACAAATGCGAGTTCACCGATGATATGTGTGAAATTCGTCAGCAGCATCAGAGCGCAGTTCT GGATTGTCATAAAGGTATTACCCTGACACTGGCAAATGTAGTTCGTCGTGGTCAGCTGCCTGGTGAACTGGATGCAGAACGTGCCGCAGTTGCAATGTTTGCCTATGTTGATGGT CTGATTCGTCGTTGGCTGCTGCTGCCGGATAGCGTTGATCTGCTGGGTGATGTTGAAAAATGGGTTGATACCGGTCTGGATATGCTGCGTCTGAGTCCGGCACTGCGTAAATAAT GA\",\n",
    "    \"pAJM.677\": \"ATGGCTGAAGCGCAAAATGATCCCCTGCTGCCGGGATACTCGTTTAATGCC CATCTGGTGGCGGGTTTAACGCCGATTGAGGCCAACGGTTATCTCGATTTTTTTATCGACCGACCGCTGGGAATGAAAGGTTATATTCTCAATCTCACCATTCGCGGTCAGGGGG TGGTGAAAAATCAGGGACGAGAATTTGTTTGCCGACCGGGTGATATTTTGCTGTTCCCGCCAGGAGAGATTCATCACTACGGCCGTCATCCGGAGGCTCGCGAATGGTATCACCA GTGGGTTTACTTTCGTCCGCGCGCCTACTGGCATGAATGGCTTAACTGGCCGTCAATATTTGCCAATACGGGGTTCTTTCGCCCGGATGAAGCGCACCAGCCGCATTTCAGCGAC TTTTTTGGGCAAATCATTAACGCCGGGCAAGGGGAAGGGCGCTATTCGGAGCTGCTGGCGATAAATCTGCTTGAGCAATTGTTACTGCGGCGCATGCTAGCGATTAACGGATCGC TCCATCCACCGATGGATAATCGGGTACGCGAGGCTTGTCAGTACATCAGCGATCACCTGGCAGACAGCAATTTTGATATCGCCAGCGTCGCACAGCATGTTTGCTTGTCGCCGTC GCGTCTGTCACATCTTTTCCGCCAGCAGTTAGGGATTAGCGTCTTAAGCTGGCGCGAGGACCAACGTATCAGCCAGGCGAAGCTGCTTTTGAGCACCACCCGGATGCCTATCGCC ACCGTCGGTCGCAATGTTGGTTTTGACGATCAACTCTATTTCTCGCGGGTATTTAAAAAATGCACCGGGGCCAGCCCGAGCGAGTTCCGTGCCGGTTTGGAAGAAAAAGTGAATG ATGTAGCCGTCAAGTTGTCATGA\",\n",
    "    \"pAJM.683\": \"ATGCCGAAACTGGGTATGCAGAGCATTCGTCGTCGTCAGCTGATTGA TGCAACCCTGGAAGCAATTAATGAAGTTGGTATGCATGATGCAACCATTGCACAGATTGCACGTCGTGCCGGTGTTAGCACCGGTATTATTAGCCATTATTTCCGCGATAAAAAC GGTCTACTGGAAGCAACCATGCGTGATATTACCAGCCAGCTGCGTGATGCAGTTCTGAATCGTCTGCATGCACTGCCGCAGGGTAGCGCAGAACAGCGTCTGCAGGCAATTGTTG GTGGTAATTTTGATGAAACCCAGGTTAGCAGCGCAGCAATGAAAGCATGGCTGGCATTTTGGGCAATCAGCATGCATCAGCCGATGCTGTATCGTCTGCAGCAGGTTAGCAGTCG TCGTCTGCTGAGCAATCTGGTTAGCGAATTTCGTCGTGAACTGCCTCGTGAACAGGCACAAGAGGCAGGTTATGGTCTGGCAGCACTGATTGATGGTCTGTGGCTGCGTGCAGCA CTGAGCGGTAAACCGCTGGATAAAACCCGTGCAAATAGCCTGACCCGTCATTTTATCACCCAGCATCTGCCGACCGATTGA\",\n",
    "    \"pAJM.690\": \"ATGTGGTCGAACATGGA TGACAAGAAAGTGAAAGAGGAGAATATTCTGCACAATTCCACCAACAAGAAGATCATCCGCCACGAAGATTTTGTAGCCGGCATTAGCAAAGGGATGGCGATTCTGGATTCGTTT GGTACAGATCGTCATCGCCTCAATATCACCATGGCCGCAGAGAAAACCGGTATGACACGTGCAGCAGCTCGTCGCCACCTGCTTACTCTGGAGTATCTGGGCTATCTGGAAAGTG ACGGCCACTACTTCTACTTAACTCCCAAAATCCTGAAATTCAGTGGTTCATATTTGGGTGGTGCTCAATTGCCGAAAATTTCCCAACCACTGTTGAACTTGCTTACGACCCAGAC CAGCCTGATTTACAGCGTGATGGTGTTGGATGGCTATGAAGCCATTACCATTGCGCGTTCTGCCGCTCATCAGCAAACCGACCGCGTTAACCCGTATGGTTTACATCTCGGGAAT CGCTTACCAGCGCATACAACGTCAGCGGGCAAAATCCTGTTAGCGTATTTGGATGACCATGCCCAGCAAGAGTGGCTCAATCAGTACCCTCTGCAACGGCTCACGAAATACACGT ATACCAACCACATCGACTTTCTGCGCCTTTTGAGTGAAATCAAGGAACAGGGTTGGTGCTATAGTTCGGAAGAACACGAACTGGGAGTACACGCCCTTGCGGTTCCGATTTACGG ACAGCAGTCTCGCGTCGTAGCGGCACTGAACATTGTCAGCCCGACAATGCGGACCACGAAAGAATACCTGATTCAGCATATTCTGCCGTTACTGCAAGAAACTGCGCGTGAATTG CGCAATATCCTGTAATGA\",\n",
    "    \"pAJM.771\": \"ATGGAACTGCGTGACCTGGATTTAAACCTGCTGGTGGTGTTCAACCAGTTGCTGGTCGACAGACGCGTCTCTGTCACTGCGGAGAACCTGGGCCTGACCCAGCCTGCCG TGAGCAATGCGCTGAAACGCCTGCGCACCTCGCTACAGGACCCACTCTTCGTGCGCACACATCAGGGAATGGAACCCACACCCTATGCCGCGCATCTGGCCGAGCACGTCACTTC GGCCATGCACGCACTGCGCAACGCCCTACAGCACCATGAAAGCTTCGATCCGCTGACCAGCGAGCGTACCTTCACCCTGGCCATGACCGACATTGGCGAGATCTACTTCATGCCG CGGCTGATGGATGCGCTGGCTCACCAGGCCCCCAATTGCGTGATCAGTACGGTGCGCGACAGTTCGATGAGCCTGATGCAGGCCTTGCAGAACGGAACCGTGGACTTGGCCGTGG GCCTGCTTCCCAATCTGCAAACTGGCTTCTTTCAGCGCCGGCTGCTCCAGAATCACTACGTGTGCCTATGTCGCAAGGACCATCCAGTCACCCGCGAACCCCTGACTCTGGAGCG CTTCTGTTCCTACGGCCACGTGCGTGTCATCGCCGCTGGCACCGGCCACGGCGAGGTGGACACGTACATGACACGGGTCGGCATCCGGCGCGACATCCGTCTGGAAGTGCCGCAC TTCGCCGCCGTTGGCCACATCCTCCAGCGCACCGATCTGCTCGCCACTGTGCCGATATGTTTAGCCGACTGCTGCGTAGAGCCCTTCGGCCTAAGCGCCTTGCCGCACCCAGTCG TCTTGCCTGAAATAGCCATCAACATGTTCTGGCATGCGAAGTACCACAAGGACCTAGCCAATATTTGGTTGCGGCAACTGATGTTTGACCTGTTTACGGATTGA\",\n",
    "    \"pAJM.773\": \"ATGGACATGCCTCGTATTAAACCGGGTCAGCGTGTTATGATGGCACTGCGTAAAATGAT TGCAAGCGGTGAAATCAAAAGTGGTGAACGTATTGCAGAAATTCCGACCGCAGCAGCACTGGGTGTTAGCCGTATGCCGGTTCGTATCGCACTGCGTTCACTGGAACAAGAAGGT CTGGTTGTTCGTCTGGGTGCACGTGGTTATGCAGCCCGTGGTGTTAGCAGCGATCAGATTCGTGATGCAATTGAAGTTCGTGGTGTTCTGGAAGGTTTTGCAGCACGTCGTCTGG CAGAACGTGGTATGACCGCAGAAACCCATGCACGTTTTGTTGTACTGATTGCAGAAGGTGAAGCACTGTTTGCAGCCGGTCGCCTGAATGGTGAAGATCTGGATCGTTATGCCGC ATATAATCAGGCATTTCATGATACCCTGGTTAGCGCAGCAGGTAATGGTGCAGTTGAAAGCGCACTGGCACGTAATGGTTTTGAACCGTTTGCAGCAGCCGGTGCACTGGCCCTG GATCTGATGGACCTGTCTGCCGAATATGAACATCTGCTGGCAGCACATCGTCAGCATCAGGCAGTTCTGGATGCAGTTAGCTGTGGTGATGCCGAAGGTGCAGAACGTATTATGC GTGATCATGCACTGGCAGCAATTCGTAATGCAAAAGTTTTTGAAGCAGCAGCAAGCGCAGGCGCACCGCTGGGTGCAGCATGGTCAATTCGTGCAGATTGA\",\n",
    "    \"pAJM.847\": \"ATGGCACGTACCCCGAGCCGTAGCAGCATTGGTAGCCTGCGTAGTCCGCATACCCATAAAGCAATTCTGACCAGCACCATTGAAATCCTGAAAGAATGTGGTTATAGCGGTCTGAGCATTGAAAGCGTGGCACGTCGCGCCGGTGCAGGCAAACCGACCATTTATCGTTGGTGGACCAACAAAGCAGCACTGATTGCCGAAGTGTATGAAAATGAAATCGAACAGGTACGTAAATTTCCGGATTTGGGTAGCTTTAAAGCCGATCTGGATTTTCTGCTGCATAATCTGTGGAAAGTTTGGCGTGAAACCATTTGTGGTGAAGCATTTCGTTGTGTTATTGCAGAAGCACAGTTGGACCCTGTAACCCTGACCCAACTGAAAGATCAGTTTATGGAACGTCGTCGTGAGATACCGAAAAAACTGGTTGAAGATGCCATTAGCAATGGTGAACTGCCGAAAGATATCAATCGTGAACTGCTGCTGGATATGATTTTTGGTTTTTGTTGGTATCGCCTGCTGACCGAACAGTTGACCGTTGAACAGGATATTGAAGAATTTACCTTCCTGCTGATTAATGGTGTTTGTCCGGGTACACAGTGTTGA\",\n",
    "    \"pAJM.884\": \"ATGCCGCTGACCGACACCCCGCCGTCTGTTCCGCAG AAACCGCGTCGTGGTCGTCCGCGTGGTGCTCCGGACGCTTCTCTTGCTCACCAGTCTCTGATCCGTGCTGGTCTGGAACACCTGACCGAAAAAGGTTACTCTTCGGTTGGTGTTG ACGAAATCCTGAAAGCTGCTCGTGTTCCGAAAGGTTCTTTCTACCACTACTTCCGTAACAAAGCTGACTTCGGTCTGGCTCTGATCAAAGCTTACGACACCTACTTCGCTCGTCT CCTCGACCAGGCGTTCCTGGACGGTTCGCTGGCTCCGCTGGCTCGTCTGCGTCTGTTCACCCGTATGGCTGAAGAAGGTATGGCTCGTCACGGTTTCCGTCGTGGTTGCCTGGTT GGTAACCTGGGTCAGGAAATGGGCGCTCTGCCGGACGACTTCCGTGCTGCTCTGATCGGTGTTCTGGAAACCTGGCAACATCGTACCGCTCAGCTGTTCCGTGAAGCTCAGGCTT GCGGTGAACTGTCTGCTGACCATGACCCGGACGCTCTGGCTGAAGCTTTCTGGATCGGATGGGAAGGTGCTATCCTGCGTGCTAAACTGGAACTGCGTCCGGACCCGATGCACTC TTTCACCCGTACCTTCGGTCGTCACTTCGTTACCCGTACCCAGGAATAATGA\",\n",
    "    \"pAJM.969\": \"ATGCCTCGTCCGAAACTGAAAAGTGATGATGAAGTTCTGGAAGCAGCAACCGTTGTTC TGAAACGTTGTGGTCCGATTGAATTTACCCTGAGCGGTGTTGCAAAAGAAGTTGGTCTGAGTCGCGCAGCACTGATTCAGCGTTTTACCAATCGTGATACCCTGCTGGTTCGTAT GATGGAACGTGGTGTTGAACAGGTTCGTCATTATCTGAATGCAATTCCGATTGGTGCAGGTCCGCAGGGTCTGTGGGAATTTCTGCAGGTTCTGGTTCGTAGCATGGATACCCGT AATGATTTCAGCGTGAACTATCTGATCAGCTGGTATGAACTGCAGGTTCCGGAACTGCGTACCCTGGCAATTCAGCGTAATCGTGCAGTTGTTGAAGGTATTCGTAAACGTCTGC CTCCGGGTGCACCGGCAGCAGCAGAACTGCTGCTGCATAGCGTTATTGCCGGTGCAACCATGCAGTGGGCAGTTGATCCGGATGGTGAACTGGCAGATCATGTTCTGGCACAGAT TGCAGCAATTCTGTGTCTGATGTTTCCGGAACATGATGATTTTCAGCTGCTGCAGGCACATGCATAA\",\n",
    "    \"pAJM.1642\": \"ATGATTGAGAATACCTATAGCGAAAAGTTCGAGTCCGCGTTCGAACAGATCAAAGCGGCGGCCAACGTGGATGCCGCCATCCGTATTCTCCAGGCGGAATATAACCTCGATTTC GTCACCTACCATCTCGCCCAGACAATCGCGAGCAAGATCGATTCGCCCTTCGTGCGCACCACCTATCCGGATGCCTGGGTTTCCCGTTACCTCCTCAACTGCTATGTGAAGGTCG ATCCGATCATCAAGCAGGGCTTCGAACGCCAGCTGCCCTTCGACTGGAGCGAGGTCGAACCGACGCCGGAGGCCTATGCCATGCTGGTCGACGCCCAGAAACACGGCATCGATGA CAATGGCTACTCCATCCCCGTCGCCGACAAGGCGCAGCGCCGCGCCCTGCTGTCGCTGAATGCCCATATACCGGCCGACGAATGGACCGAGCTCGTGCGCCGCTGCCGCAATGAG TGGATCGAGATCGCCCATCTGATCCACCGCAAGGCCGTATATGAGCTGCATGGCGAAAACGATCCGGTGCCGGCATTGTCGCCGCGCGAGATCGAGTGTCTGCACTGGACCGCCC TCGGCAAGGATTACAAGGATATTTCGGTCATCCTGGGCATATCAGAGCATACCACACGCGATTACCTGAAAACCGCCCGCTTCAGGCTCGGCTGCACCACGATCTCGGCCGCCGC GTCGCGGGCTGTTCAATTGCGCATCATCAATCCCTATAGGATCCGCATGACGCGACGTAATTGGTAA\",\n",
    "}\n",
    "cds_paper_seqs = {k: v.replace(\" \", \"\") for k, v in cds_paper_seqs.items()}\n",
    "\n",
    "\n",
    "aux_paper_seqs = {\n",
    "    \"pAJM.677\": \"ATGGTTACTATCAATACGGAATCTGCTTTAACGCCACGTTCTTTGCGGGAT ACGCGGCGTATGAATATGTTTGTTTCGGTAGCTGCTGCGGTCGCAGGATTGTTATTTGGTCTTGATATCGGCGTAATCGCCGGAGCGTTGCCGTTCATTACCGATCACTTTGTGC TGACCAGTCGTTTGCAGGAATGGGTGGTTAGTAGCATGATGCTCGGTGCAGCAATTGGTGCGCTGTTTAATGGTTGGCTGTCGTTCCGCCTGGGGCGTAAATACAGCCTGATGGC GGGGGCCATCCTGTTTGTACTCGGTTCTATAGGGTCCGCTTTTGCGACCAGCGTAGAGATGTTAATCGCCGCTCGTGTGGTGCTGGGCATTGCTGTCGGGATCGCGTCTTACACC GCTCCTCTGTATCTTTCTGAAATGGCAAGTGAAAACGTTCGCGGTAAGATGATCAGTATGTACCAGTTGATGGTCACACTCGGCATCGTGCTGGCGTTTTTATCCGATACAGCGT TCAGTTATAGCGGTAACTGGCGCGCAATGTTGGGGGTTCTTGCTTTACCAGCAGTTCTGCTGATTATTCTGGTAGTATTTCTGCCAAATAGCCCGCGCTGGCTGGCGGAAAAGGG GCGTCATATTGAGGCGGAAGAAGTATTGCGTATGCTGCGCGATACGTCGGAAAAAGCGCGAGAAGAACTCAACGAAATTCGTGAAAGCCTGAAGTTAAAACAGGGCGGTTGGGCA CTGTTTAAGATCAACCGTAACGTCCGTCGTGCTGTGTTTCTCGGTATGTTGTTGCAGGCGATGCAGCAGTTTACCGGTATGAACATCATCATGTACTACGCGCCGCGTATCTTCA AAATGGCGGGCTTTACGACCACAGAACAACAGATGATTGCGACTCTGGTCGTAGGGCTGACCTTTATGTTCGCCACCTTTATTGCGGTGTTTACGGTAGATAAAGCAGGGCGTAA ACCGGCTCTGAAAATTGGTTTCAGCGTGATGGCGTTAGGCACTCTGGTGCTGGGCTATTGCCTGATGCAGTTTGATAACGGTACGGCTTCCAGTGGCTTGTCCTGGCTCTCTGTT GGCATGACGATGATGTGTATTGCCGGTTATGCGATGAGCGCCGCGCCAGTGGTGTGGATCCTGTGCTCTGAAATTCAGCCGCTGAAATGCCGCGATTTCGGTATTACCTGTTCGA CCACCACGAACTGGGTGTCGAATATGATTATCGGCGCGACCTTCCTGACACTGCTTGATAGCATTGGCGCTGCCGGTACGTTCTGGCTCTACACTGCGCTGAACATTGCGTTTGT GGGCATTACTTTCTGGCTCATTCCGGAAACCAAAAATGTCACGCTGGAACATATCGAACGCAAACTGATGGCAGGCGAGAAGTTGAGAAATATCGGCGTCTGA\",\n",
    "    \"pAJM.969\": \"ATGAACGAGAAAAATATAAAACACAGT CAAAACTTTATTACTTCAAAACATAATATAGATAAAATAATGACAAATATAAGATTAAATGAACATGATAATATCTTTGAAATCGGCTCAGGAAAAGGCCATTTTACCCTTGAAT TAGTAAAGAGGTGTAATTTCGTAACTGCCATTGAAATAGACCATAAATTATGCAAAACTACAGAAAATAAACTTGTTGATCACGATAATTTCCAAGTTTTAAACAAGGATATATT GCAGTTTAAATTTCCTAAAAACCAATCCTATAAAATATATGGTAATATACCTTATAACATAAGTACGGATATAATACGCAAAATTGTTTTTGATAGTATAGCTAATGAGATTTAT TTAATCGTGGAATACGGGTTTGCTAAAAGATTATTAAATACAAAACGCTCATTGGCATTACTTTTAATGGCAGAAGTTGATATTTCTATATTAAGTATGGTTCCAAGAGAATATT TTCATCCTAAACCTAAAGTGAATAGCTCACTTATCAGATTAAGTAGAAAAAAATCAAGAATATCACACAAAGATAAACAAAAGTATAATTATTTCGTTATGAAATGGGTTAACAA AGAATACAAGAAAATATTTACAAAAAATCAATTTAACAATTCCTTAAAACATGCAGGAATTGACGATTTAAACAATATTAGCTTTGAACAATTCTTATCTCTTTTCAATAGCTAT AAATTATTTAATAAGTGA\",\n",
    "}\n",
    "aux_paper_seqs = {k: v.replace(\" \", \"\") for k, v in aux_paper_seqs.items()}\n",
    "\n",
    "promoter_paper_seqs = {\n",
    "    \"pAJM.011\": \"TTTTCAGCAGGACGCACTGACCTCCCTATCAGTGATAGAGATTGACATCCCTATCAGTGATAGAGATACTGAGCAC\",\n",
    "    \"pAJM.336\": \"TGTTGACAATTAATCATCGGCTCGTATAATGTGTGGAATTGTGAGCGCTCACAATT\",\n",
    "    \"pAJM.474\": \"ACCTGTAGGATCGTACAGGTTTACGCAAGAAAATGGTTTGTTACAGTCGAATAAA\",\n",
    "    \"pAJM.657\": \"AACAAACAGACAATCTGGTCTGTTTGTATTATGGAAAATTTTTCTGTATAATAGATTCAACAAACAGACAATCTGGTCTGTTTGTATTAT\",\n",
    "    \"pAJM.661\": \"CACCCAGCAGTATTTACAAACAACCATGAATGTAAGTATATTCCTTAGCAA\",\n",
    "    \"pAJM.677\": \"AGAAACCAATTGTCCATATTGCATCAGACATTGCCGTCACTGCGTCTTTTACTGGCTCTTCTCGCTAACCAAACCGGTAACCCCGCTTATTAAAAGCATTCTGTAACAAAGCGGGACCAAAGCCATGACAAAAACGCGTAACAAAAGTGTCTATAATCACGGCAGAAAAGTCCACATTGATTATTTGCACGGCGTCACACTTTGCTATGCCATAGCATTTTTATCCATAAGATTAGCGGATCCTACCTGACGCTTTTTATCGCAACTCTCTACTGTTTCTCCATACCCG\",\n",
    "    \"pAJM.683\": \"AGCGCGGGTGAGAGGGATTCGTTACCAATAGACAATTGATTGGACGTTCAATATAATGCTAGC\",\n",
    "    \"pAJM.690\": \"TTTTGTTCGATTATCGAACAAATTATTGAAATATCGAACAAAACCTCTAAACTACTGTGGCACTGAATCAAAAAATTATAAACCATGATCAGA\",\n",
    "    \"pAJM.771\": \"GGGGCCTCGCTTGGGTTATTGCTGGTGCCCGGCCGGGCGCAATATTCATGTTGATGATTTATTATATATCGAGTGGTGTATTTATTTATATTGTTTGCTCCGTTACCGTTATTAAC\",\n",
    "    \"pAJM.773\": \"ATTGGATCCAATTGACAGCTAGCTCAGTCCTAGGTACCATTGGATCCAAT\",\n",
    "    \"pAJM.847\": \"CGACGTACGGTGGAATCTGATTCGTTACCAATTGACATGATACGAAACGTACCGTATCGTTAAGGT\",\n",
    "    \"pAJM.884\": \"CGCTAGCAAGTAAGGCCGACGCTTCACAACCGCACTTGATTTA ATAGACCATACCGTCTATTATTTCTGGCCAT\",\n",
    "    \"pAJM.969\": \"GGATTGAATATAACCGACGTGACTGTTACATTTAGGTGGCTAA ACCCGTCAA\",\n",
    "    \"pAJM.1642\": \"CCCTTTGTGCGTCCAAACGGACGCACGGCGCTCTAAAGCGGGT CGCGATCTTTCAGATTCGCTCCTCGCGCTTTCAGTCTTTGTTTTGGCGCATGTCGTTATCGCAAAACCGCTGCACACTTTTGCGCGACATGCTCTGATCCCCCTCATCTGGGGGG GCCTATCTGAGGGAATTTCCGATCCGGCTCGCCTGAACCATTCTGCTTTCCACGAACTTGAAAACGCT\",\n",
    "}\n",
    "promoter_paper_seqs = {k: v.replace(\" \", \"\") for k, v in promoter_paper_seqs.items()}"
   ]
  },
  {
   "cell_type": "markdown",
   "metadata": {},
   "source": [
    "## Sequence comparison: paper SI vs. plasmid maps"
   ]
  },
  {
   "cell_type": "code",
   "execution_count": null,
   "metadata": {},
   "outputs": [],
   "source": [
    "def cds_equal_except_stops(seq1, seq2):\n",
    "    if len(seq1) > len(seq2):\n",
    "        seq1, seq2 = seq2, seq1\n",
    "    if seq1 != seq2[: len(seq1)]:\n",
    "        return False\n",
    "    tail = seq2[len(seq1) :]\n",
    "    for codon in grouper(tail, 3):\n",
    "        codon = \"\".join(codon)\n",
    "        if codon.lower() not in (\"taa\", \"tga\", \"tag\"):\n",
    "            return False\n",
    "    return True"
   ]
  },
  {
   "cell_type": "markdown",
   "metadata": {},
   "source": [
    "### Promoters"
   ]
  },
  {
   "cell_type": "code",
   "execution_count": null,
   "metadata": {},
   "outputs": [],
   "source": [
    "for name in promoter_source_seqs.keys():\n",
    "    source_seq = promoter_source_seqs[name].seq_lower()\n",
    "    paper_seq = promoter_paper_seqs[name].lower()\n",
    "    # allow paper sequence to have a tga that follows a taa\n",
    "    if not (source_seq == paper_seq):\n",
    "        print(name)\n",
    "        print(source_seq)\n",
    "        print(\"-\")\n",
    "        print(paper_seq)\n",
    "        print()"
   ]
  },
  {
   "cell_type": "markdown",
   "metadata": {},
   "source": [
    "### CDSes"
   ]
  },
  {
   "cell_type": "code",
   "execution_count": null,
   "metadata": {},
   "outputs": [],
   "source": [
    "for name in cds_source_seqs.keys():\n",
    "    source_seq = cds_source_seqs[name].seq_lower()\n",
    "    paper_seq = cds_paper_seqs[name].lower()\n",
    "    # allow paper sequence to have an\n",
    "    if not cds_equal_except_stops(source_seq, paper_seq):\n",
    "        print(name)\n",
    "        print(source_seq)\n",
    "        print(\"-\")\n",
    "        print(paper_seq)\n",
    "        print()"
   ]
  },
  {
   "cell_type": "markdown",
   "metadata": {},
   "source": [
    "### Auxiliary CDSes"
   ]
  },
  {
   "cell_type": "code",
   "execution_count": null,
   "metadata": {},
   "outputs": [],
   "source": [
    "for name in aux_source_seqs.keys():\n",
    "    source_seq = aux_source_seqs[name].seq_lower()\n",
    "    paper_seq = aux_paper_seqs[name].lower()\n",
    "    # allow paper sequence to have a tga that follows a taa\n",
    "    if not cds_equal_except_stops(source_seq, paper_seq):\n",
    "        print(name)\n",
    "        print(source_seq)\n",
    "        print(\"-\")\n",
    "        print(paper_seq)\n",
    "        print()"
   ]
  },
  {
   "cell_type": "markdown",
   "metadata": {},
   "source": [
    "## Check if we already have identical CDSes"
   ]
  },
  {
   "cell_type": "code",
   "execution_count": null,
   "metadata": {},
   "outputs": [],
   "source": [
    "murray_3g_parts = {\n",
    "    row[\"Name\"]: reg.get(id_)[\"_seq\"]\n",
    "    for id_, row in flib_fragments.items()\n",
    "    if \"Adam Meyer\" in row[\"Description\"] and \"Richard Murray lab\" in row[\"Author\"]\n",
    "}"
   ]
  },
  {
   "cell_type": "code",
   "execution_count": null,
   "metadata": {},
   "outputs": [],
   "source": [
    "murray_3g_seqs = {seq.seq_lower(): name for name, seq in murray_3g_parts.items()}"
   ]
  },
  {
   "cell_type": "code",
   "execution_count": null,
   "metadata": {},
   "outputs": [],
   "source": [
    "murray_3g_parts.keys()"
   ]
  },
  {
   "cell_type": "markdown",
   "metadata": {},
   "source": [
    "## Check for restriction sites"
   ]
  },
  {
   "cell_type": "code",
   "execution_count": null,
   "metadata": {},
   "outputs": [],
   "source": [
    "Restriction.Pa"
   ]
  },
  {
   "cell_type": "code",
   "execution_count": null,
   "metadata": {},
   "outputs": [],
   "source": [
    "enzymes = (Restriction.BsaI, Restriction.BsmBI, Restriction.BbsI, Restriction.AarI)#, Restriction.PaqCI)\n",
    "for enz in enzymes:\n",
    "    names_with_cuts = []\n",
    "    for name, seq in cds_source_seqs.items():\n",
    "        cuts = enzyme.re_search(seq, enz)\n",
    "        if cuts:\n",
    "            names_with_cuts.append(f\"{ajm_to_repressor[name]} ({name})\")\n",
    "    print(f\"{enz} ({len(names_with_cuts)}): {', '.join(names_with_cuts)}\")"
   ]
  },
  {
   "cell_type": "markdown",
   "metadata": {},
   "source": [
    "## CDS primers"
   ]
  },
  {
   "cell_type": "code",
   "execution_count": null,
   "metadata": {},
   "outputs": [],
   "source": [
    "digested_storage_vector = workflow.re_digest_part(\n",
    "    plib_maps[storage_vector_id], storage_enzyme\n",
    ")"
   ]
  },
  {
   "cell_type": "code",
   "execution_count": null,
   "metadata": {},
   "outputs": [],
   "source": [
    "%%time\n",
    "\n",
    "row_base = {\"Author\": \"Jacob Quinn Shenker\", \"Date\": workflow.date()}\n",
    "\n",
    "oligo_base = {\n",
    "    **row_base,\n",
    "    \"Order date\": workflow.date(),\n",
    "    \"Vendor\": \"Genewiz\",\n",
    "    \"Type\": \"Primer\",\n",
    "}\n",
    "\n",
    "plasmid_base = {\n",
    "    \"Origin\": \"pUC\",\n",
    "    \"Marker\": \"amp\",\n",
    "    \"Reference\": reference,\n",
    "}\n",
    "\n",
    "strain_base = {\n",
    "    \"Species\": \"E. coli\",\n",
    "    \"Background\": \"MG1655\",\n",
    "    \"Parent\": \"MG1655\",\n",
    "    \"Marker\": \"amp\",\n",
    "}\n",
    "\n",
    "part_base = {\n",
    "    **row_base,\n",
    "    \"Species/codon usage\": \"E. coli\",\n",
    "    \"Reference\": reference,\n",
    "}\n",
    "\n",
    "apply = {\"Sequence\": workflow.normalize_seq}\n",
    "plasmid_apply = strain_apply = {\"Names\": None}\n",
    "overwrite = True\n",
    "\n",
    "primer_ids = {}\n",
    "primer_pairs = {}\n",
    "part_seqs = {}\n",
    "pcr_seqs = {}\n",
    "storage_plasmid_seqs = {}\n",
    "\n",
    "source_seqs_all = list(\n",
    "    it.chain(\n",
    "        (\n",
    "            (ajm_to_promoter[ajm], ajm_to_id[ajm], ajm, \"promoter\", seq)\n",
    "            for ajm, seq in promoter_source_seqs.items()\n",
    "        ),\n",
    "        (\n",
    "            (ajm_to_repressor[ajm], ajm_to_id[ajm], ajm, \"cds\", seq)\n",
    "            for ajm, seq in cds_source_seqs.items()\n",
    "        ),\n",
    "        (\n",
    "            (ajm_to_aux[ajm], ajm_to_id[ajm], ajm, \"aux\", seq)\n",
    "            for ajm, seq in aux_source_seqs.items()\n",
    "        ),\n",
    "    )\n",
    ")\n",
    "\n",
    "for name, id_, ajm, type_, source_seq in tqdm(source_seqs_all):\n",
    "    if type_ == \"cds\":\n",
    "        variants = [\n",
    "            \"bicistronic\",\n",
    "            None,\n",
    "        ]  # with overwrite=True, names are set by the last variant, hence the vanilla variant last\n",
    "    else:\n",
    "        variants = [None]\n",
    "    for variant in variants:\n",
    "        variant_name = name\n",
    "        if variant:\n",
    "            variant_name += f\"_{variant}\"\n",
    "        seq_forward = workflow.normalize_seq(source_seq)\n",
    "        seq_reverse = workflow.normalize_seq(sequence.reverse_complement(source_seq))\n",
    "        anneal_promoter = False\n",
    "        if type_ in (\"cds\", \"aux\"):\n",
    "            # TODO: squeeze?\n",
    "            part_seq = workflow.normalize_seq(\n",
    "                cds_flanks[0] + source_seq + cds_flanks[1]\n",
    "            )\n",
    "            forward_overhang = storage_flanks[0] + cds_flanks[0]\n",
    "            forward_overhang = (\n",
    "                design.random_bases(num_random_bases, seed=forward_overhang)\n",
    "                + forward_overhang\n",
    "            )\n",
    "            if variant == \"bicistronic\":\n",
    "                # TODO: replace hard-coded squeeze with automatic squeeze\n",
    "                part_seq = workflow.normalize_seq(\n",
    "                    part_seq[:-3] + bicistronic_placeholder\n",
    "                )\n",
    "                reverse_overhang = sequence.reverse_complement(\n",
    "                    cds_flanks[1][:-3] + bicistronic_placeholder + storage_flanks[1]\n",
    "                )\n",
    "            else:\n",
    "                reverse_overhang = sequence.reverse_complement(\n",
    "                    cds_flanks[1] + storage_flanks[1]\n",
    "                )\n",
    "            reverse_overhang = (\n",
    "                design.random_bases(num_random_bases, seed=reverse_overhang)\n",
    "                + reverse_overhang\n",
    "            )\n",
    "        elif type_ == \"promoter\":\n",
    "            oligo_name = f\"marionette_prom_{variant_name}\"\n",
    "            part_seq = workflow.normalize_seq(\n",
    "                promoter_overhangs[0] + source_seq + promoter_overhangs[1]\n",
    "            )\n",
    "            forward_overhang = storage_flanks[0] + promoter_overhangs[0]\n",
    "            forward_overhang = (\n",
    "                design.random_bases(num_random_bases, seed=forward_overhang)\n",
    "                + forward_overhang\n",
    "            )\n",
    "            reverse_overhang = sequence.reverse_complement(\n",
    "                promoter_overhangs[1] + storage_flanks[1]\n",
    "            )\n",
    "            reverse_overhang = (\n",
    "                design.random_bases(num_random_bases, seed=reverse_overhang)\n",
    "                + reverse_overhang\n",
    "            )\n",
    "            annealed_seq = (\n",
    "                forward_overhang\n",
    "                + source_seq\n",
    "                + sequence.reverse_complement(reverse_overhang)\n",
    "            )\n",
    "            if len(annealed_seq) <= 100:\n",
    "                anneal_promoter = True\n",
    "        else:\n",
    "            raise ValueError(f\"unexpected type '{type_}'\")\n",
    "        part_seqs[variant_name] = part_seq\n",
    "        if not anneal_promoter:\n",
    "            forward_primer = next(\n",
    "                primers.iter_primers(\n",
    "                    seq_forward,\n",
    "                    overhang=forward_overhang,\n",
    "                    min_tm=tm_binding,\n",
    "                    min_mfe=min_mfe,\n",
    "                    anchor=\"5prime\",\n",
    "                )\n",
    "            )\n",
    "            reverse_primer = next(\n",
    "                primers.iter_primers(\n",
    "                    seq_reverse,\n",
    "                    overhang=reverse_overhang,\n",
    "                    min_tm=tm_binding,\n",
    "                    min_mfe=min_mfe,\n",
    "                    anchor=\"5prime\",\n",
    "                )\n",
    "            )\n",
    "            primer_pair = primers.PrimerPair(forward_primer, reverse_primer)\n",
    "            primer_pairs[variant_name] = primer_pair\n",
    "            try:\n",
    "                pcr_seq = sequence.pcr(\n",
    "                    plib_maps[id_],\n",
    "                    forward_primer.seq,\n",
    "                    reverse_primer.seq,\n",
    "                    min_score=(\n",
    "                        len(forward_primer.binding),\n",
    "                        len(reverse_primer.binding),\n",
    "                    ),\n",
    "                )\n",
    "            except Exception as e:\n",
    "                if type_ == \"promoter\":\n",
    "                    print(\n",
    "                        f\"{variant_name} ({id_}, {ajm}): got '{e}' when attempting PCR, falling back on annealed primers\"\n",
    "                    )\n",
    "                    anneal_promoter = True\n",
    "                else:\n",
    "                    raise\n",
    "            # if PCR succeeds, keep going\n",
    "            if not anneal_promoter:\n",
    "                pcr_seqs[variant_name] = pcr_seq\n",
    "                pcr_digest_seq = workflow.re_digest_part(pcr_seq, part_enzyme)\n",
    "                if part_seq != pcr_digest_seq.seq_lower():\n",
    "                    raise ValueError(\n",
    "                        f\"PCR product does not match expected part for {variant_name}. PCR product:\\n{pcr_digest_seq.seq_lower()}\\n\\nexpecting:\\n{part_seq}\\n\\n\"\n",
    "                    )\n",
    "                if part_seq in murray_3g_seqs:\n",
    "                    print(\n",
    "                        f\"{variant_name} ({ajm}): identical match for 3G part {murray_3g_seqs[part_seq]}\"\n",
    "                    )\n",
    "                # oligos\n",
    "                if type_ in (\"cds\", \"aux\"):\n",
    "                    oligo_name = f\"marionette_cds_{variant_name}\"\n",
    "                    if variant == \"bicistronic\":\n",
    "                        description = f\"PCRs {id_} ({ajm}) to make golden gate CDS part for {name} followed by a bicistronic CDS placeholder.\"\n",
    "                    else:\n",
    "                        description = f\"PCRs {id_} ({ajm}) to make golden gate CDS part for {name}.\"\n",
    "                elif type_ == \"promoter\":\n",
    "                    description = f\"PCRs {id_} ({ajm}) to make golden gate promoter part for {name}.\"\n",
    "                else:\n",
    "                    raise ValueError(f\"unexpected type '{type_}'\")\n",
    "                forward_primer_id = olib_oligos.upsert(\n",
    "                    {\n",
    "                        **oligo_base,\n",
    "                        \"Name\": f\"{oligo_name}_f\",\n",
    "                        \"Sequence\": workflow.normalize_seq_upper(forward_primer),\n",
    "                        \"Description\": description,\n",
    "                    },\n",
    "                    apply=apply,\n",
    "                    overwrite=overwrite,\n",
    "                )\n",
    "                reverse_primer_id = olib_oligos.upsert(\n",
    "                    {\n",
    "                        **oligo_base,\n",
    "                        \"Name\": f\"{oligo_name}_r\",\n",
    "                        \"Sequence\": workflow.normalize_seq_upper(reverse_primer),\n",
    "                        \"Description\": description,\n",
    "                    },\n",
    "                    apply=apply,\n",
    "                    overwrite=overwrite,\n",
    "                )\n",
    "                primer_ids[variant_name] = (forward_primer_id, reverse_primer_id)\n",
    "                # plasmid_map\n",
    "                plasmid_seq = sequence.assemble(\n",
    "                    [\n",
    "                        workflow.re_digest_part(pcr_seq, storage_enzyme),\n",
    "                        digested_storage_vector,\n",
    "                    ]\n",
    "                )\n",
    "                plasmid_command = f\"@GG({id_}<{forward_primer_id},{reverse_primer_id}>/{storage_enzyme}, {storage_vector_id}/{storage_enzyme})\"\n",
    "        if anneal_promoter:\n",
    "            annealed_digest_seq = workflow.re_digest_part(annealed_seq, part_enzyme)\n",
    "            if part_seq != annealed_digest_seq.seq_lower():\n",
    "                raise ValueError(\n",
    "                    f\"Digestion product of annealed primers does not match expected part for {variant_name}. Digestion product:\\n{annealed_digest_seq.seq_lower()}\\n\\nexpecting:\\n{part_seq}\\n\\n\"\n",
    "                )\n",
    "            description = f\"Primers to anneal to make golden gate promoter part part for {variant_name}. Sequences appear in {id_} ({ajm}).\"\n",
    "            sense_primer_id = olib_oligos.upsert(\n",
    "                {\n",
    "                    **oligo_base,\n",
    "                    \"Name\": f\"{oligo_name}_sense\",\n",
    "                    \"Sequence\": workflow.normalize_seq_upper(annealed_seq),\n",
    "                    \"Description\": description,\n",
    "                },\n",
    "                apply=apply,\n",
    "                overwrite=overwrite,\n",
    "            )\n",
    "            antisense_primer_id = olib_oligos.upsert(\n",
    "                {\n",
    "                    **oligo_base,\n",
    "                    \"Name\": f\"{oligo_name}_antisense\",\n",
    "                    \"Sequence\": workflow.normalize_seq_upper(\n",
    "                        sequence.reverse_complement(annealed_seq)\n",
    "                    ),\n",
    "                    \"Description\": description,\n",
    "                },\n",
    "                apply=apply,\n",
    "                overwrite=overwrite,\n",
    "            )\n",
    "            primer_ids[variant_name] = (sense_primer_id, antisense_primer_id)\n",
    "            # plasmid_map\n",
    "            plasmid_seq = sequence.assemble(\n",
    "                [\n",
    "                    workflow.re_digest_part(annealed_seq, storage_enzyme),\n",
    "                    digested_storage_vector,\n",
    "                ]\n",
    "            )\n",
    "            plasmid_command = f\"@GG({sense_primer_id}={antisense_primer_id}/{storage_enzyme}, {storage_vector_id}/{storage_enzyme})\"\n",
    "        assert plasmid_seq.circular\n",
    "        storage_plasmid_seqs[variant_name] = plasmid_seq\n",
    "        # plasmid\n",
    "        if type_ == \"promoter\":\n",
    "            plasmid_description = f\"Golden gate part for Adam Meyer's {name} promoter.\"\n",
    "        else:\n",
    "            if variant == \"bicistronic\":\n",
    "                plasmid_description = f\"Golden gate part for Adam Meyer's {name} CDS followed by a bicistronic CDS placeholder.\"\n",
    "            else:\n",
    "                plasmid_description = f\"Golden gate part for Adam Meyer's {name} CDS.\"\n",
    "        plasmid_row = {\n",
    "            **plasmid_base,\n",
    "            \"Command\": plasmid_command,\n",
    "            \"Names\": variant_name,\n",
    "            \"Description\": plasmid_description,\n",
    "            \"Size\": len(plasmid_seq),\n",
    "        }\n",
    "        plasmid_id = plib_plasmids.upsert(\n",
    "            plasmid_row, apply=plasmid_apply, overwrite=overwrite\n",
    "        )\n",
    "        plib_maps[plasmid_id] = plasmid_seq\n",
    "        # strain\n",
    "        strain_row = {**strain_base, \"Names\": variant_name, \"Plasmids\": plasmid_id}\n",
    "        lib_strains.upsert(strain_row, apply=strain_apply, overwrite=overwrite)\n",
    "        # part\n",
    "        usage = f\"{plasmid_id}/{part_enzyme}\"\n",
    "        if anneal_promoter:\n",
    "            usage += f\",{primer_ids[variant_name][0]}={primer_ids[variant_name][1]}/{part_enzyme}\"\n",
    "        if type_ == \"promoter\":\n",
    "            part_description = f\"Adam Meyer's {name} promoter. Sequence taken unmodified from color-coded region in the supplemental information for Meyer 2019.\"\n",
    "            if not anneal_promoter:\n",
    "                part_description += f\" Sequences PCRed from {id_} ({ajm}).\"\n",
    "            if ajm in extra_promoter_description:\n",
    "                part_description += f\" {extra_promoter_description[ajm]}\"\n",
    "        else:\n",
    "            if variant == \"bicistronic\":\n",
    "                part_description = f\"Adam Meyer's {name} CDS followed by a bicistronic CDS placeholder. Sequence taken unmodified from color-coded region in the supplemental information for Meyer 2019. Sequences PCRed from {id_} ({ajm}).\"\n",
    "            else:\n",
    "                part_description = f\"Adam Meyer's {name} CDS. Sequence taken unmodified from color-coded region in the supplemental information for Meyer 2019. Sequences PCRed from {id_} ({ajm}).\"\n",
    "        part_row = {\n",
    "            **part_base,\n",
    "            \"Name\": variant_name,\n",
    "            \"Description\": part_description,\n",
    "            \"Sequence\": part_seq,\n",
    "            \"Usage\": usage,\n",
    "            \"Type\": cds_part_type,\n",
    "            \"Upstream overhang\": promoter_overhangs[0],\n",
    "            \"Downstream overhang\": promoter_overhangs[1],\n",
    "        }\n",
    "        flib_fragments.upsert(part_row, apply=apply, overwrite=overwrite)"
   ]
  },
  {
   "cell_type": "code",
   "execution_count": null,
   "metadata": {},
   "outputs": [],
   "source": [
    "{o[\"Name\"]: len(o[\"Sequence\"]) for o in olib_oligos.local.values()}"
   ]
  },
  {
   "cell_type": "code",
   "execution_count": null,
   "metadata": {},
   "outputs": [],
   "source": [
    "storage_plasmid_seqs.keys()"
   ]
  },
  {
   "cell_type": "code",
   "execution_count": null,
   "metadata": {},
   "outputs": [],
   "source": [
    "storage_plasmid_seqs[\"AM19_PLuxB\"].seq_lower()"
   ]
  },
  {
   "cell_type": "code",
   "execution_count": null,
   "metadata": {},
   "outputs": [],
   "source": [
    "{ajm_to_promoter[k]: v for k, v in promoter_paper_seqs.items()}"
   ]
  },
  {
   "cell_type": "markdown",
   "metadata": {},
   "source": [
    "# Commit"
   ]
  },
  {
   "cell_type": "code",
   "execution_count": null,
   "metadata": {},
   "outputs": [],
   "source": [
    "%%time\n",
    "olib_oligos.commit()\n",
    "flib_fragments.commit()"
   ]
  },
  {
   "cell_type": "code",
   "execution_count": null,
   "metadata": {},
   "outputs": [],
   "source": [
    "%%time\n",
    "plib_maps.commit()\n",
    "plib_plasmids.commit()\n",
    "lib_strains.commit()"
   ]
  },
  {
   "cell_type": "code",
   "execution_count": null,
   "metadata": {},
   "outputs": [],
   "source": [
    "for name, oligo in olib_oligos.items():\n",
    "    if oligo[\"Name\"].startswith(\"marionette_prom\"):\n",
    "        if len(oligo[\"Sequence\"]) > 60:\n",
    "            print(f\"{name}\\t{oligo['Sequence']}\")"
   ]
  },
  {
   "cell_type": "markdown",
   "metadata": {},
   "source": [
    "# Rollback"
   ]
  },
  {
   "cell_type": "code",
   "execution_count": null,
   "metadata": {},
   "outputs": [],
   "source": [
    "olib_oligos.rollback()\n",
    "flib_fragments.rollback()\n",
    "plib_maps.rollback()\n",
    "plib_plasmids.rollback()\n",
    "lib_strains.rollback()"
   ]
  },
  {
   "cell_type": "markdown",
   "metadata": {},
   "source": [
    "# Test"
   ]
  },
  {
   "cell_type": "code",
   "execution_count": null,
   "metadata": {},
   "outputs": [],
   "source": [
    "pcr_seqs.keys()"
   ]
  },
  {
   "cell_type": "code",
   "execution_count": null,
   "metadata": {},
   "outputs": [],
   "source": [
    "pcr_seqs[\"AM19_PhlFAM\"].seq_lower()"
   ]
  },
  {
   "cell_type": "code",
   "execution_count": null,
   "metadata": {},
   "outputs": [],
   "source": []
  }
 ],
 "metadata": {
  "kernelspec": {
   "display_name": "Python 3 (ipykernel)",
   "language": "python",
   "name": "python3"
  },
  "language_info": {
   "codemirror_mode": {
    "name": "ipython",
    "version": 3
   },
   "file_extension": ".py",
   "mimetype": "text/x-python",
   "name": "python",
   "nbconvert_exporter": "python",
   "pygments_lexer": "ipython3",
   "version": "3.9.13"
  }
 },
 "nbformat": 4,
 "nbformat_minor": 4
}
