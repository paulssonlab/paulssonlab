{
 "cells": [
  {
   "cell_type": "code",
   "execution_count": null,
   "metadata": {},
   "outputs": [],
   "source": [
    "import numpy as np\n",
    "import pandas as pd\n",
    "import toml\n",
    "import pygsheets\n",
    "from Bio.Seq import Seq\n",
    "from Bio.SeqRecord import SeqRecord\n",
    "from Bio import Restriction"
   ]
  },
  {
   "cell_type": "code",
   "execution_count": null,
   "metadata": {},
   "outputs": [],
   "source": [
    "%load_ext autoreload\n",
    "%autoreload 2"
   ]
  },
  {
   "cell_type": "code",
   "execution_count": null,
   "metadata": {},
   "outputs": [],
   "source": [
    "import paulssonlab.cloning.registry as registry\n",
    "import paulssonlab.cloning.workflow as workflow\n",
    "import paulssonlab.cloning.design as design\n",
    "import paulssonlab.cloning.sequence as sequence\n",
    "import paulssonlab.cloning.enzyme as enzyme\n",
    "import paulssonlab.cloning.codon as codon\n",
    "import paulssonlab.api.geneious as geneious"
   ]
  },
  {
   "cell_type": "markdown",
   "metadata": {},
   "source": [
    "# Download 2022 Lagator data"
   ]
  },
  {
   "cell_type": "code",
   "execution_count": null,
   "metadata": {},
   "outputs": [],
   "source": [
    "!curl -Lo 2022lagator.zip https://github.com/szarma/Thermoters/archive/refs/heads/master.zip && unzip 2022lagator.zip && mv Thermoters-master 2022lagator && rm 2022lagator.zip"
   ]
  },
  {
   "cell_type": "markdown",
   "metadata": {},
   "source": [
    "# Setup"
   ]
  },
  {
   "cell_type": "code",
   "execution_count": null,
   "metadata": {},
   "outputs": [],
   "source": [
    "config = toml.load(\"config.toml\")"
   ]
  },
  {
   "cell_type": "code",
   "execution_count": null,
   "metadata": {},
   "outputs": [],
   "source": [
    "gc = pygsheets.authorize(service_account_file=\"credentials.json\")"
   ]
  },
  {
   "cell_type": "code",
   "execution_count": null,
   "metadata": {},
   "outputs": [],
   "source": [
    "geneious_sessionmaker = geneious.connect(**config[\"geneious\"])"
   ]
  },
  {
   "cell_type": "code",
   "execution_count": null,
   "metadata": {},
   "outputs": [],
   "source": [
    "reg = registry.Registry(\n",
    "    gc,\n",
    "    config[\"registry\"][\"folder\"],\n",
    "    geneious_sessionmaker=geneious_sessionmaker,\n",
    "    geneious_folder=\"registry\",\n",
    ")"
   ]
  },
  {
   "cell_type": "code",
   "execution_count": null,
   "metadata": {},
   "outputs": [],
   "source": [
    "olib_oligos = reg[(\"oLIB\", \"oligos\")]\n",
    "plib_plasmids = reg[(\"pLIB\", \"plasmids\")]\n",
    "plib_maps = reg[(\"pLIB\", \"maps\")]\n",
    "flib_fragments = reg[(\"fLIB\", \"fragments\")]\n",
    "part_types = reg[(\"fLIB\", \"fragments\", \"Part types\")]"
   ]
  },
  {
   "cell_type": "markdown",
   "metadata": {},
   "source": [
    "# Config"
   ]
  },
  {
   "cell_type": "code",
   "execution_count": null,
   "metadata": {},
   "outputs": [],
   "source": [
    "placeholder_enzyme = Restriction.BsaI\n",
    "promoter_enzyme = Restriction.BsaI\n",
    "part_type = \"Promoter_AB\"\n",
    "library_reverse_primer = \"oLIB46\"\n",
    "num_random_bases = 6"
   ]
  },
  {
   "cell_type": "markdown",
   "metadata": {},
   "source": [
    "# Placeholder"
   ]
  },
  {
   "cell_type": "code",
   "execution_count": null,
   "metadata": {},
   "outputs": [],
   "source": [
    "part_overhangs = workflow.overhangs_for(part_types[part_type])"
   ]
  },
  {
   "cell_type": "code",
   "execution_count": null,
   "metadata": {},
   "outputs": [],
   "source": [
    "promoter_placeholder = design.golden_gate_placeholder(promoter_enzyme, placeholder_enzyme, *part_overhangs)"
   ]
  },
  {
   "cell_type": "code",
   "execution_count": null,
   "metadata": {},
   "outputs": [],
   "source": [
    "promoter_placeholder"
   ]
  },
  {
   "cell_type": "markdown",
   "metadata": {},
   "source": [
    "# Salis calculator"
   ]
  },
  {
   "cell_type": "code",
   "execution_count": null,
   "metadata": {},
   "outputs": [],
   "source": [
    "reg.eval_expr(\"fLIB255/BsaI\")"
   ]
  },
  {
   "cell_type": "code",
   "execution_count": null,
   "metadata": {},
   "outputs": [],
   "source": [
    "#upstream_sequence = part_overhangs[0]\n",
    "upstream_sequence = reg.eval_expr(\"pLIB122/BsaI\")[\"_seq\"][-100:].seq_lower()"
   ]
  },
  {
   "cell_type": "code",
   "execution_count": null,
   "metadata": {},
   "outputs": [],
   "source": [
    "transcript = reg.eval_command(\"@GG(oLT60/BsaI, B0032m_RiboJ, AM19_LacIAM)\")[\"_seq\"].seq_lower()[:100]"
   ]
  },
  {
   "cell_type": "code",
   "execution_count": null,
   "metadata": {},
   "outputs": [],
   "source": [
    "optimization_mode = \"targeted_forward_TSS\""
   ]
  },
  {
   "cell_type": "code",
   "execution_count": null,
   "metadata": {},
   "outputs": [],
   "source": [
    "tir_r = 0"
   ]
  },
  {
   "cell_type": "code",
   "execution_count": null,
   "metadata": {},
   "outputs": [],
   "source": [
    "constraints = \"N\" * 40"
   ]
  },
  {
   "cell_type": "code",
   "execution_count": null,
   "metadata": {},
   "outputs": [],
   "source": [
    "base_name = \"salisprom1\""
   ]
  },
  {
   "cell_type": "code",
   "execution_count": null,
   "metadata": {},
   "outputs": [],
   "source": [
    "for num, tir_f in enumerate(np.geomspace(10, 100_000, 10)):\n",
    "    print(f\"{base_name}.{num+1:04.0f},{upstream_sequence},{transcript},{tir_f:.0f},{tir_r},{optimization_mode},{constraints}\")"
   ]
  },
  {
   "cell_type": "markdown",
   "metadata": {},
   "source": [
    "# 2022 Lagator data"
   ]
  },
  {
   "cell_type": "markdown",
   "metadata": {
    "tags": []
   },
   "source": [
    "## 36N"
   ]
  },
  {
   "cell_type": "code",
   "execution_count": null,
   "metadata": {},
   "outputs": [],
   "source": [
    "prom_ns = pd.read_csv(\"2022lagator/36N_seqences/36N_constitutive.csv\")"
   ]
  },
  {
   "cell_type": "code",
   "execution_count": null,
   "metadata": {},
   "outputs": [],
   "source": [
    "prom_ns[\"estimate_bin\"].plot.hist(bins=50)"
   ]
  },
  {
   "cell_type": "markdown",
   "metadata": {},
   "source": [
    "## PR"
   ]
  },
  {
   "cell_type": "code",
   "execution_count": null,
   "metadata": {},
   "outputs": [],
   "source": [
    "prom_pr = pd.read_csv(\"2022lagator/Pr_Pl_sequences/Pr_constitutive.csv\")"
   ]
  },
  {
   "cell_type": "code",
   "execution_count": null,
   "metadata": {},
   "outputs": [],
   "source": [
    "def uniform_subset_mask(values, min_dist=0.02):\n",
    "    mask = np.zeros(len(values), dtype=bool)\n",
    "    accepted = []\n",
    "    for idx in range(len(values)):\n",
    "        value = values[idx]\n",
    "        dist = min(abs(value - x) for x in accepted) if accepted else np.inf\n",
    "        if dist >= min_dist:\n",
    "            mask[idx] = True\n",
    "            accepted.append(value)\n",
    "    return mask"
   ]
  },
  {
   "cell_type": "code",
   "execution_count": null,
   "metadata": {},
   "outputs": [],
   "source": [
    "mask = uniform_subset_mask(prom_pr[\"Mean\"])"
   ]
  },
  {
   "cell_type": "code",
   "execution_count": null,
   "metadata": {},
   "outputs": [],
   "source": [
    "mask.sum()"
   ]
  },
  {
   "cell_type": "code",
   "execution_count": null,
   "metadata": {},
   "outputs": [],
   "source": [
    "prom_pr[mask][\"Mean\"].plot.hist(bins=50)"
   ]
  },
  {
   "cell_type": "code",
   "execution_count": null,
   "metadata": {},
   "outputs": [],
   "source": [
    "prom_pr[prom_pr[\"Coverage\"] > 30][\"Mean\"].plot.hist(bins=50)"
   ]
  },
  {
   "cell_type": "code",
   "execution_count": null,
   "metadata": {},
   "outputs": [],
   "source": [
    "prom_pr[2:].plot.scatter(\"Mean\", \"Coverage\")"
   ]
  },
  {
   "cell_type": "code",
   "execution_count": null,
   "metadata": {},
   "outputs": [],
   "source": [
    "prom_pr.plot.scatter(\"Mean\", \"Std\")"
   ]
  },
  {
   "cell_type": "code",
   "execution_count": null,
   "metadata": {},
   "outputs": [],
   "source": [
    "prom_pr[mask][1:].plot.scatter(\"Mean\", \"Coverage\")"
   ]
  },
  {
   "cell_type": "code",
   "execution_count": null,
   "metadata": {},
   "outputs": [],
   "source": [
    "prom_pr[mask].plot.scatter(\"Mean\", \"Std\")"
   ]
  },
  {
   "cell_type": "markdown",
   "metadata": {},
   "source": [
    "# Order oligo pool"
   ]
  },
  {
   "cell_type": "code",
   "execution_count": null,
   "metadata": {},
   "outputs": [],
   "source": [
    "library_primer_seq_rc = workflow.normalize_seq(\n",
    "    sequence.reverse_complement(reg.get(library_reverse_primer)[\"Sequence\"])\n",
    ")\n",
    "random_prefix = design.random_bases(num_random_bases, seed=57)"
   ]
  },
  {
   "cell_type": "code",
   "execution_count": null,
   "metadata": {},
   "outputs": [],
   "source": [
    "random_prefix"
   ]
  },
  {
   "cell_type": "code",
   "execution_count": null,
   "metadata": {},
   "outputs": [],
   "source": [
    "oligo_seqs = []\n",
    "for _, row in prom_pr[mask].iterrows():\n",
    "    # add BsaI flanks\n",
    "    oligo_seq = (\n",
    "        design.type2s_with_spacer(promoter_enzyme, len(part_overhangs[0]))\n",
    "        + part_overhangs[0]\n",
    "        + row[\"sequence\"]\n",
    "        + part_overhangs[1]\n",
    "        + sequence.reverse_complement(\n",
    "            design.type2s_with_spacer(promoter_enzyme, len(part_overhangs[1]))\n",
    "        )\n",
    "    )\n",
    "    oligo_seq = random_prefix + oligo_seq + library_primer_seq_rc\n",
    "    oligo_seq = workflow.normalize_seq(oligo_seq)\n",
    "    oligo_seqs.append(oligo_seq)"
   ]
  },
  {
   "cell_type": "code",
   "execution_count": null,
   "metadata": {},
   "outputs": [],
   "source": [
    "pool_name = \"2022lagator_promoter_pr\""
   ]
  },
  {
   "cell_type": "code",
   "execution_count": null,
   "metadata": {},
   "outputs": [],
   "source": [
    "for seq in oligo_seqs[:100]:\n",
    "    #print(f\"{pool_name}\\t{seq}\")\n",
    "    print(seq)"
   ]
  },
  {
   "cell_type": "markdown",
   "metadata": {},
   "source": [
    "# Old"
   ]
  },
  {
   "cell_type": "code",
   "execution_count": null,
   "metadata": {},
   "outputs": [],
   "source": [
    "fp_placeholder_overhangs = [workflow.overhangs_for(part_type) for part_type in fp_placeholder_types]\n",
    "part_overhangs = workflow.overhangs_for(part_types[part_type])"
   ]
  },
  {
   "cell_type": "code",
   "execution_count": null,
   "metadata": {},
   "outputs": [],
   "source": [
    "seqs = {}\n",
    "for enzyme, fp_overhangs in product(enzymes, fp_overhangs):\n",
    "    # ATG-mScarletI_ph-TAATAA\n",
    "    oligo_seq = (design.type2s_with_spacer(tag_enzyme, len(tag_overhangs[0]))\n",
    "        + row[\"Sequence\"]\n",
    "        + sequence.reverse_complement(\n",
    "            design.type2s_with_spacer(tag_enzyme, len(tag_overhangs[1]))\n",
    "        )\n",
    "    )\n",
    "    oligo_seq = workflow.normalize_seq(oligo_seq)\n",
    "    oligo_seq = design.random_bases(num_random_bases, seed=oligo_seq) + oligo_seq\n",
    "    # ATG-ClpP_ph-linker-mScarletI_ph-TAATAA\n",
    "    # flipped: ATG-mScarletI_ph-linker-ClpP_ph-TAATAA\n",
    "    # ATG-mScarletI_ph-linker-refFP_ph-TAATAA\n",
    "    # flipped: ATG-refFP_ph-linker-mScarletI_ph-TAATAA\n",
    "    ##########\n",
    "    # \n",
    "    # entry = reg.get(name)\n",
    "    # new_name = re.sub(r\"_BC$\", \"_RiboJ\", name)\n",
    "    # if use_storage_vector:\n",
    "    #     if part_enzyme != Restriction.BsaI:\n",
    "    #         raise ValueError(\"storage vector assumes BsaI part\")\n",
    "    #     seq = (\n",
    "    #         design.random_bases(num_random_bases)\n",
    "    #         + lib_parts[\"JUMP_storage_vector_prefix\"][\"Sequence\"]\n",
    "    #         + workflow.smoosh_and_normalize_sequences(\n",
    "    #             part_overhangs[0],\n",
    "    #             entry[\"_seq\"].trim_overhangs(),\n",
    "    #             part_overhangs[1],\n",
    "    #         )\n",
    "    #         + lib_parts[\"JUMP_storage_vector_suffix\"][\"Sequence\"]\n",
    "    #         + design.random_bases(num_random_bases)\n",
    "    #     )\n",
    "    # else:\n",
    "    #     seq = workflow.smoosh_and_normalize_sequences(\n",
    "    #         part_overhangs[0],\n",
    "    #         entry[\"_seq\"].trim_overhangs(),\n",
    "    #         part_overhangs[1],\n",
    "    #     )\n",
    "    #     seq = (\n",
    "    #         design.random_bases(num_random_bases)\n",
    "    #         + design.type2s_with_spacer(part_enzyme, len(part_overhangs[0]))\n",
    "    #         + seq\n",
    "    #         + sequence.reverse_complement(\n",
    "    #             design.type2s_with_spacer(part_enzyme, len(part_overhangs[1]))\n",
    "    #         )\n",
    "    #         + design.random_bases(num_random_bases)\n",
    "    #     )\n",
    "    # seq = workflow.normalize_seq(seq)\n",
    "    # # include first sentence\n",
    "    # description = (\n",
    "    #     entry[\"Description\"].split(\".\")[0]\n",
    "    #     + f\". Same as {name} but with RiboJ-compatible overhangs.\"\n",
    "    # )\n",
    "    \n",
    "    seqs[new_name] = {\"Sequence\": seq, \"Description\": description}"
   ]
  },
  {
   "cell_type": "markdown",
   "metadata": {},
   "source": [
    "## Oligos"
   ]
  },
  {
   "cell_type": "code",
   "execution_count": null,
   "metadata": {},
   "outputs": [],
   "source": [
    "base = {\"Author\": \"Jacob Quinn Shenker\", \"Date\": workflow.date()}\n",
    "\n",
    "oligo_base = {\n",
    "    **base,\n",
    "    \"Order date\": workflow.date(),\n",
    "    \"Vendor\": \"IDT\",\n",
    "    \"Type\": \"Primer\",\n",
    "}\n",
    "\n",
    "part_base = {\n",
    "    **base,\n",
    "    \"Tags\": part_tags,\n",
    "    \"Reference\": reference,\n",
    "}\n",
    "\n",
    "apply_oligo = {\"Name\": None}#{\"Sequence\": workflow.normalize_seq}\n",
    "overwrite_oligo = False\n",
    "apply = {\"Name\": None}\n",
    "overwrite = True\n",
    "\n",
    "for name, row in tags.items():\n",
    "    # add BsaI flanks\n",
    "    oligo_seq = (design.type2s_with_spacer(tag_enzyme, len(tag_overhangs[0]))\n",
    "        + row[\"Sequence\"]\n",
    "        + sequence.reverse_complement(\n",
    "            design.type2s_with_spacer(tag_enzyme, len(tag_overhangs[1]))\n",
    "        )\n",
    "    )\n",
    "    oligo_seq = workflow.normalize_seq(oligo_seq)\n",
    "    oligo_seq = design.random_bases(num_random_bases, seed=oligo_seq) + oligo_seq\n",
    "    if workflow.DEGENERATE_BASES_REGEX.search(workflow.normalize_seq(row[\"Sequence\"])):\n",
    "        # is library with degenerate bases, append library primer\n",
    "        oligo_seq = oligo_seq + library_primer_seq_rc\n",
    "        oligo_row = {**oligo_base, **row, \"Name\": f\"{name}_v2\", \"Sequence\": oligo_seq.upper()}\n",
    "        oligo_id = olib_oligos.upsert(oligo_row, apply=apply_oligo, overwrite=overwrite_oligo)\n",
    "        usage = f\"{oligo_id}<{library_reverse_primer}>/{tag_enzyme}\"\n",
    "    else:\n",
    "        # not library, just order two oligos to anneal\n",
    "        # in this case, there's no reverse primer binding site,\n",
    "        # so we need to add random bases to ensure efficient cutting\n",
    "        oligo_seq = oligo_seq + design.random_bases(num_random_bases, seed=oligo_seq)\n",
    "        oligo_id = olib_oligos.upsert(\n",
    "            {\n",
    "                **oligo_base,\n",
    "                **row,\n",
    "                \"Name\": f\"{name}_sense\",\n",
    "                \"Sequence\": workflow.normalize_seq_upper(oligo_seq),\n",
    "            },\n",
    "            apply=apply_oligo,\n",
    "            overwrite=overwrite_oligo,\n",
    "        )\n",
    "        oligo_id2 = olib_oligos.upsert(\n",
    "            {\n",
    "                **oligo_base,\n",
    "                **row,\n",
    "                \"Name\": f\"{name}_antisense\",\n",
    "                \"Sequence\": workflow.normalize_seq_upper(\n",
    "                    sequence.reverse_complement(oligo_seq)\n",
    "                ),\n",
    "            },\n",
    "            apply=apply_oligo,\n",
    "            overwrite=overwrite_oligo,\n",
    "        )\n",
    "        usage = f\"{oligo_id}={oligo_id2}/{tag_enzyme}\"\n",
    "    part_row = {\n",
    "        **part_base,\n",
    "        **row,\n",
    "        \"Name\": name,\n",
    "        \"Sequence\": workflow.normalize_seq(row[\"Sequence\"]),\n",
    "        \"Usage\": usage,\n",
    "        \"Type\": tag_part_type,\n",
    "        \"Upstream overhang\": tag_overhangs[0],\n",
    "        \"Downstream overhang\": tag_overhangs[1],\n",
    "        \"Species/codon usage\": \"E. coli\",\n",
    "    }\n",
    "    flib_fragments.upsert(part_row, apply=apply, overwrite=overwrite)"
   ]
  },
  {
   "cell_type": "code",
   "execution_count": null,
   "metadata": {},
   "outputs": [],
   "source": [
    "olib_oligos.commit()\n",
    "flib_fragments.commit()"
   ]
  },
  {
   "cell_type": "code",
   "execution_count": null,
   "metadata": {},
   "outputs": [],
   "source": [
    "base = {\"Author\": \"Jacob Quinn Shenker\", \"Date\": workflow.date()}\n",
    "\n",
    "oligo_base = {\n",
    "    **base,\n",
    "    \"Order date\": workflow.date(),\n",
    "    \"Vendor\": \"Genewiz\",\n",
    "    \"Type\": \"Primer\",\n",
    "}\n",
    "\n",
    "part_base = {\n",
    "    **base,\n",
    "    \"Tags\": part_tags,\n",
    "    \"Reference\": reference,\n",
    "}\n",
    "\n",
    "# apply = {\"Sequence\": workflow.normalize_seq}\n",
    "apply = {\"Name\": None}\n",
    "\n",
    "for name, row in seqs.items():\n",
    "    seq = row[\"Sequence\"]\n",
    "    oligo_id = olib_oligos.upsert(\n",
    "        {\n",
    "            **oligo_base,\n",
    "            **row,\n",
    "            \"Name\": f\"{name}_sense\",\n",
    "            \"Sequence\": workflow.normalize_seq_upper(seq),\n",
    "        },\n",
    "        apply=apply,\n",
    "    )\n",
    "    oligo_id2 = olib_oligos.upsert(\n",
    "        {\n",
    "            **oligo_base,\n",
    "            **row,\n",
    "            \"Name\": f\"{name}_antisense\",\n",
    "            \"Sequence\": workflow.normalize_seq_upper(sequence.reverse_complement(seq)),\n",
    "        },\n",
    "        apply=apply,\n",
    "    )\n",
    "    usage = f\"{oligo_id}={oligo_id2}/{part_enzyme}\"\n",
    "    part_seq = workflow.normalize_seq(workflow.re_digest_part(seq, part_enzyme))\n",
    "    part_row = {\n",
    "        **part_base,\n",
    "        **row,\n",
    "        \"Sequence\": part_seq,\n",
    "        \"Usage\": usage,\n",
    "        \"Type\": part_type,\n",
    "        \"Upstream overhang\": part_overhangs[0],\n",
    "        \"Downstream overhang\": part_overhangs[1],\n",
    "        \"Species/codon usage\": \"E. coli\",\n",
    "    }\n",
    "    lib_parts[name] = part_row"
   ]
  }
 ],
 "metadata": {
  "kernelspec": {
   "display_name": "Python 3 (ipykernel)",
   "language": "python",
   "name": "python3"
  },
  "language_info": {
   "codemirror_mode": {
    "name": "ipython",
    "version": 3
   },
   "file_extension": ".py",
   "mimetype": "text/x-python",
   "name": "python",
   "nbconvert_exporter": "python",
   "pygments_lexer": "ipython3",
   "version": "3.9.13"
  }
 },
 "nbformat": 4,
 "nbformat_minor": 4
}
