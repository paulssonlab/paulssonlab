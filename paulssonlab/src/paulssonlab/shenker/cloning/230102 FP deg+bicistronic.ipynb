{
 "cells": [
  {
   "cell_type": "code",
   "execution_count": null,
   "metadata": {},
   "outputs": [],
   "source": [
    "import toml\n",
    "import pygsheets\n",
    "import requests\n",
    "import Bio.Restriction as Restriction\n",
    "from Bio.Seq import Seq\n",
    "from Bio.SeqRecord import SeqRecord"
   ]
  },
  {
   "cell_type": "code",
   "execution_count": null,
   "metadata": {},
   "outputs": [],
   "source": [
    "%load_ext autoreload\n",
    "%autoreload 2"
   ]
  },
  {
   "cell_type": "code",
   "execution_count": null,
   "metadata": {},
   "outputs": [],
   "source": [
    "import paulssonlab.api as api\n",
    "import paulssonlab.cloning.registry as registry\n",
    "import paulssonlab.cloning.workflow as workflow\n",
    "import paulssonlab.cloning.design as design\n",
    "import paulssonlab.cloning.sequence as sequence\n",
    "import paulssonlab.cloning.enzyme as enzyme\n",
    "import paulssonlab.cloning.viennarna as viennarna\n",
    "import paulssonlab.cloning.thermodynamics as thermodynamics\n",
    "import paulssonlab.cloning.primers as primers\n",
    "import paulssonlab.api.geneious as geneious"
   ]
  },
  {
   "cell_type": "markdown",
   "metadata": {},
   "source": [
    "# Setup"
   ]
  },
  {
   "cell_type": "code",
   "execution_count": null,
   "metadata": {},
   "outputs": [],
   "source": [
    "config = toml.load(\"config.toml\")"
   ]
  },
  {
   "cell_type": "code",
   "execution_count": null,
   "metadata": {},
   "outputs": [],
   "source": [
    "gc = pygsheets.authorize(service_account_file=\"credentials.json\")"
   ]
  },
  {
   "cell_type": "code",
   "execution_count": null,
   "metadata": {},
   "outputs": [],
   "source": [
    "geneious_sessionmaker = geneious.connect(**config[\"geneious\"])"
   ]
  },
  {
   "cell_type": "code",
   "execution_count": null,
   "metadata": {},
   "outputs": [],
   "source": [
    "reg = registry.Registry(\n",
    "    gc,\n",
    "    config[\"registry\"][\"folder\"],\n",
    "    geneious_sessionmaker=geneious_sessionmaker,\n",
    "    geneious_folder=\"registry\",\n",
    ")"
   ]
  },
  {
   "cell_type": "markdown",
   "metadata": {},
   "source": [
    "# Config"
   ]
  },
  {
   "cell_type": "code",
   "execution_count": null,
   "metadata": {},
   "outputs": [],
   "source": [
    "olib_oligos = reg[(\"oLIB\", \"oligos\")]\n",
    "plib_plasmids = reg[(\"pLIB\", \"plasmids\")]\n",
    "plib_maps = reg[(\"pLIB\", \"maps\")]\n",
    "lib_strains = reg[(\"LIB\", \"strains\")]\n",
    "flib_fragments = reg[(\"fLIB\", \"fragments\")]\n",
    "part_types = reg[(\"fLIB\", \"fragments\", \"Part types\")]"
   ]
  },
  {
   "cell_type": "markdown",
   "metadata": {
    "tags": []
   },
   "source": [
    "# Deg tags"
   ]
  },
  {
   "cell_type": "markdown",
   "metadata": {},
   "source": [
    "## Config"
   ]
  },
  {
   "cell_type": "code",
   "execution_count": null,
   "metadata": {},
   "outputs": [],
   "source": [
    "# degtags\n",
    "degtag_part_type = \"ClpXP_tag\"\n",
    "degtag_overhangs = workflow.overhangs_for(part_types[degtag_part_type])\n",
    "library_reverse_primer = \"oLIB46\"\n",
    "degtag_enzyme = Restriction.BbsI\n",
    "placeholder_enzyme = Restriction.BbsI\n",
    "num_random_bases = 6  # random bases to add between enzyme binding site and end of DNA\n",
    "tail_length_aa = 3  # aa\n",
    "tail_length = tail_length_aa * 3  # nt\n",
    "sspb_length_aa = 6  # aa (part of the SspB binding site that is mutagenized with NNK's; note we keep first two alanines fixed)\n",
    "sspb_length = sspb_length_aa * 3  # nt\n",
    "head_length = 6  # nt\n",
    "reference = \"Andersen, J. B., Sternberg, C., Poulsen, L. K., Bjørn, S. P., Givskov, M., & Molin, S. (1998). New unstable variants of green fluorescent protein for studies of transient gene expression in bacteria. Applied and environmental microbiology, 64(6), 2240-2246.\"\n",
    "\n",
    "# placeholders\n",
    "tm_binding = 60\n",
    "tm_homology = 55\n",
    "min_mfe = None"
   ]
  },
  {
   "cell_type": "markdown",
   "metadata": {},
   "source": [
    "## Data"
   ]
  },
  {
   "cell_type": "code",
   "execution_count": null,
   "metadata": {},
   "outputs": [],
   "source": [
    "# FROM: Andersen, J. B., Sternberg, C., Poulsen, L. K., Bjørn, S. P., Givskov, M., & Molin, S. (1998). New unstable variants of green fluorescent protein for studies of transient gene expression in bacteria. Applied and environmental microbiology, 64(6), 2240-2246.\n",
    "# paper gives reverse-complement sequences\n",
    "degtags_wt_rc = {\n",
    "    \"LAA\": \"AGCTGCTAAAGCGTAGTTTTCGTCGTTTGCTGC\",\n",
    "    \"AAV\": \"AACTGCTGCAGCGTAGTTTTCGTCGTTTGCTGC\",\n",
    "    # \"LVA\": \"AGCTACTAAAGCGTAGTTTTCGTCGTTTGCTGC\", # paper implies it behaves similarly to LAA\n",
    "    \"ASV\": \"AACTGATGCAGCGTAGTTTTCGTCGTTTGCTGC\",\n",
    "}\n",
    "degtags_wt_rc = {name: Seq(seq) for name, seq in degtags_wt_rc.items()}\n",
    "degtags_wt = {name: sequence.reverse_complement(seq) for name, seq in degtags_wt_rc.items()}"
   ]
  },
  {
   "cell_type": "code",
   "execution_count": null,
   "metadata": {},
   "outputs": [],
   "source": [
    "degtags_wt[\"AAV\"].translate()"
   ]
  },
  {
   "cell_type": "markdown",
   "metadata": {},
   "source": [
    "## Degtags"
   ]
  },
  {
   "cell_type": "code",
   "execution_count": null,
   "metadata": {},
   "outputs": [],
   "source": [
    "degtag_normalized = {name: workflow.normalize_seq(seq) for name, seq in degtags_wt.items()}\n",
    "degtag_prefixes = {\n",
    "    name: seq[: seq.find(degtag_overhangs[0])] for name, seq in degtag_normalized.items()\n",
    "}\n",
    "degtag_prefixes_list = list(degtag_prefixes.values())\n",
    "degtag_prefix = degtag_prefixes_list[0]\n",
    "assert all(s == degtag_prefix for s in degtag_prefixes_list)"
   ]
  },
  {
   "cell_type": "markdown",
   "metadata": {},
   "source": [
    "## Placeholder"
   ]
  },
  {
   "cell_type": "code",
   "execution_count": null,
   "metadata": {},
   "outputs": [],
   "source": [
    "# part_names = [\"sigW\", \"rsiW\", \"ECF20_992\", \"AS20_992\", \"sfGFP\"]  # TODO: pick correct FPs\n",
    "#part_names = [\"AM19_LacIAM\"]#, \"AM19_TetR\"]\n",
    "#part_names = [\"AM19_TetR\"]\n",
    "#part_names = [\"mScarlet-I\"]\n",
    "part_names = [\"sigW\"]"
   ]
  },
  {
   "cell_type": "code",
   "execution_count": null,
   "metadata": {},
   "outputs": [],
   "source": [
    "degtag_placeholder = degtag_prefix + design.golden_gate_placeholder(\n",
    "#    placeholder_enzyme, None, *degtag_overhangs\n",
    "    Restriction.BsaI, None, *degtag_overhangs\n",
    ")\n",
    "# remove downstream overhang because it is already in the storage vector\n",
    "degtag_placeholder = degtag_placeholder[: -len(degtag_overhangs[1])]"
   ]
  },
  {
   "cell_type": "code",
   "execution_count": null,
   "metadata": {},
   "outputs": [],
   "source": [
    "degtag_placeholder"
   ]
  },
  {
   "cell_type": "markdown",
   "metadata": {},
   "source": [
    "## Design"
   ]
  },
  {
   "cell_type": "code",
   "execution_count": null,
   "metadata": {},
   "outputs": [],
   "source": [
    "%%time\n",
    "\n",
    "row_base = {\"Author\": \"Jacob Quinn Shenker\", \"Date\": workflow.date()}\n",
    "\n",
    "oligo_base = {\n",
    "    **row_base,\n",
    "    \"Order date\": workflow.date(),\n",
    "    \"Vendor\": \"Genewiz\",\n",
    "    \"Type\": \"Primer\",\n",
    "}\n",
    "\n",
    "plasmid_base = {\n",
    "    #\"Origin\": \"pUC\",\n",
    "    #\"Marker\": \"amp\",\n",
    "    #\"Reference\": reference,\n",
    "}\n",
    "\n",
    "strain_base = {\n",
    "    \"Species\": \"E. coli\",\n",
    "    \"Background\": \"MG1655\",\n",
    "    \"Parent\": \"MG1655\",\n",
    "    #\"Marker\": \"amp\",\n",
    "}\n",
    "\n",
    "fragment_base = {\n",
    "    **row_base,\n",
    "    \"Species/codon usage\": \"E. coli\",\n",
    "    #\"Reference\": reference,\n",
    "}\n",
    "\n",
    "part_enzyme = Restriction.BsaI\n",
    "part_type = \"CDS_CD\"\n",
    "base_rows = dict(oligo=oligo_base, plasmid=plasmid_base, strain=strain_base, fragment=fragment_base)\n",
    "# plasmid_description = f\"Golden gate part for Adam Meyer's {name} CDS followed by a bicistronic CDS placeholder.\"\n",
    "# part_description = f\"Adam Meyer's {name} CDS followed by a bicistronic CDS placeholder. Sequence taken unmodified from color-coded region in the supplemental information for Meyer 2019. Sequences PCRed from {id_} ({ajm}).\"\n",
    "descriptions = dict(oligo=\"\", plasmid=\"\", fragment=\"\")\n",
    "#flank = \"ggggggggg\"\n",
    "flank = degtag_placeholder\n",
    "\n",
    "for part_name in part_names:\n",
    "    workflow.insert_cds_part_flank(\n",
    "        f\"{part_name}+ClpXP_tag\",\n",
    "        part_name,\n",
    "        flank,\n",
    "        part_type,\n",
    "        part_enzyme,\n",
    "        descriptions,\n",
    "        base_rows,\n",
    "        reg,\n",
    "        olib_oligos,\n",
    "        plib_plasmids,\n",
    "        plib_maps,\n",
    "        lib_strains,\n",
    "        flib_fragments,\n",
    "        part_types,\n",
    "        stop_location=\"downstream\",\n",
    "        location=\"downstream\",\n",
    "        tm_binding=tm_binding,\n",
    "        tm_homology=tm_homology,\n",
    "        min_mfe=min_mfe,\n",
    "    )"
   ]
  },
  {
   "cell_type": "code",
   "execution_count": null,
   "metadata": {},
   "outputs": [],
   "source": [
    "olib_oligos.local"
   ]
  },
  {
   "cell_type": "code",
   "execution_count": null,
   "metadata": {},
   "outputs": [],
   "source": [
    "olib_oligos.rollback()\n",
    "plib_plasmids.rollback()\n",
    "plib_maps.rollback()\n",
    "lib_strains.rollback()\n",
    "flib_fragments.rollback()"
   ]
  },
  {
   "cell_type": "markdown",
   "metadata": {},
   "source": [
    "# Bicistronic"
   ]
  },
  {
   "cell_type": "markdown",
   "metadata": {},
   "source": [
    "## Config"
   ]
  },
  {
   "cell_type": "code",
   "execution_count": null,
   "metadata": {},
   "outputs": [],
   "source": [
    "bicistronic_enzyme = Restriction.BsmBI\n",
    "bicistronic_overhangs = workflow.overhangs_for(part_types[\"3G_BD\"])"
   ]
  },
  {
   "cell_type": "markdown",
   "metadata": {},
   "source": [
    "## Design"
   ]
  },
  {
   "cell_type": "code",
   "execution_count": null,
   "metadata": {},
   "outputs": [],
   "source": [
    "bicistronic_placeholder = design.golden_gate_placeholder(\n",
    "    bicistronic_enzyme, None, *bicistronic_overhangs\n",
    ")"
   ]
  },
  {
   "cell_type": "code",
   "execution_count": null,
   "metadata": {},
   "outputs": [],
   "source": [
    "bicistronic_placeholder"
   ]
  },
  {
   "cell_type": "code",
   "execution_count": null,
   "metadata": {},
   "outputs": [],
   "source": []
  }
 ],
 "metadata": {
  "kernelspec": {
   "display_name": "Python 3 (ipykernel)",
   "language": "python",
   "name": "python3"
  },
  "language_info": {
   "codemirror_mode": {
    "name": "ipython",
    "version": 3
   },
   "file_extension": ".py",
   "mimetype": "text/x-python",
   "name": "python",
   "nbconvert_exporter": "python",
   "pygments_lexer": "ipython3",
   "version": "3.9.13"
  }
 },
 "nbformat": 4,
 "nbformat_minor": 4
}
