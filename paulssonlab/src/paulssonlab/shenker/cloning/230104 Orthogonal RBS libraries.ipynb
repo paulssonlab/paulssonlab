{
 "cells": [
  {
   "cell_type": "code",
   "execution_count": null,
   "metadata": {},
   "outputs": [],
   "source": [
    "import toml\n",
    "import pygsheets\n",
    "from tqdm.auto import tqdm\n",
    "from Bio.Seq import Seq\n",
    "from Bio.SeqRecord import SeqRecord\n",
    "from Bio import Restriction\n",
    "import random\n",
    "import re\n",
    "from itertools import product"
   ]
  },
  {
   "cell_type": "code",
   "execution_count": null,
   "metadata": {},
   "outputs": [],
   "source": [
    "%load_ext autoreload\n",
    "%autoreload 2"
   ]
  },
  {
   "cell_type": "code",
   "execution_count": null,
   "metadata": {},
   "outputs": [],
   "source": [
    "import paulssonlab.cloning.registry as registry\n",
    "import paulssonlab.cloning.workflow as workflow\n",
    "import paulssonlab.cloning.design as design\n",
    "import paulssonlab.cloning.sequence as sequence\n",
    "import paulssonlab.cloning.enzyme as enzyme\n",
    "import paulssonlab.api.geneious as geneious"
   ]
  },
  {
   "cell_type": "markdown",
   "metadata": {},
   "source": [
    "# Setup"
   ]
  },
  {
   "cell_type": "code",
   "execution_count": null,
   "metadata": {},
   "outputs": [],
   "source": [
    "config = toml.load(\"config.toml\")"
   ]
  },
  {
   "cell_type": "code",
   "execution_count": null,
   "metadata": {},
   "outputs": [],
   "source": [
    "gc = pygsheets.authorize(service_account_file=\"credentials.json\")"
   ]
  },
  {
   "cell_type": "code",
   "execution_count": null,
   "metadata": {},
   "outputs": [],
   "source": [
    "geneious_sessionmaker = geneious.connect(**config[\"geneious\"])"
   ]
  },
  {
   "cell_type": "code",
   "execution_count": null,
   "metadata": {},
   "outputs": [],
   "source": [
    "reg = registry.Registry(\n",
    "    gc,\n",
    "    config[\"registry\"][\"folder\"],\n",
    "    geneious_sessionmaker=geneious_sessionmaker,\n",
    "    geneious_folder=\"registry\",\n",
    ")"
   ]
  },
  {
   "cell_type": "markdown",
   "metadata": {},
   "source": [
    "# Config"
   ]
  },
  {
   "cell_type": "code",
   "execution_count": null,
   "metadata": {},
   "outputs": [],
   "source": [
    "olib_oligos = reg[(\"oLIB\", \"oligos\")]\n",
    "plib_plasmids = reg[(\"pLIB\", \"plasmids\")]\n",
    "plib_maps = reg[(\"pLIB\", \"maps\")]\n",
    "lib_strains = reg[(\"LIB\", \"strains\")]\n",
    "flib_fragments = reg[(\"fLIB\", \"fragments\")]\n",
    "part_types = reg[(\"fLIB\", \"fragments\", \"Part types\")]"
   ]
  },
  {
   "cell_type": "code",
   "execution_count": null,
   "metadata": {},
   "outputs": [],
   "source": [
    "orig_rbs_names = [\"B0033m_BC\", \"B0032m_BC\", \"B0034m_BC\"]\n",
    "part_type = \"5UTR_2\"\n",
    "part_overhangs = workflow.overhangs_for(part_types[part_type])\n",
    "placeholder_insert_part_types = [\"5UTR_2b\", \"5UTR_2c\"]\n",
    "insert_part_types = [\"5UTR_2\", \"5UTR_2b\", \"5UTR_2c\"]\n",
    "part_enzyme = Restriction.BsaI\n",
    "insert_enzymes = [Restriction.BbsI]\n",
    "library_reverse_primer_id = \"oLIB46\"\n",
    "# to make oligos fit within 60bp, we omit random bases from the BsmBI flanks\n",
    "# TODO\n",
    "num_random_bases = 6"
   ]
  },
  {
   "cell_type": "code",
   "execution_count": null,
   "metadata": {},
   "outputs": [],
   "source": [
    "base = {\"Author\": \"Jacob Quinn Shenker\", \"Date\": workflow.date()}\n",
    "\n",
    "oligo_base = {\n",
    "    **base,\n",
    "    \"Order date\": workflow.date(),\n",
    "    \"Vendor\": \"IDT\",\n",
    "    \"Type\": \"Primer\",\n",
    "}\n",
    "\n",
    "fragment_base = {\n",
    "    **base,\n",
    "}\n",
    "\n",
    "# apply = {\"Sequence\": workflow.normalize_seq}\n",
    "apply = {\"Name\": None}"
   ]
  },
  {
   "cell_type": "markdown",
   "metadata": {},
   "source": [
    "# Overhangs"
   ]
  },
  {
   "cell_type": "code",
   "execution_count": null,
   "metadata": {},
   "outputs": [],
   "source": [
    "def print_unique_overhangs(names):\n",
    "    overhangs = [\n",
    "        list(workflow.overhangs_for(part_types[overhang_type]))\n",
    "        for overhang_type in names\n",
    "    ]\n",
    "    return \",\".join(set(sum(overhangs, [])))"
   ]
  },
  {
   "cell_type": "code",
   "execution_count": null,
   "metadata": {},
   "outputs": [],
   "source": [
    "print_unique_overhangs(\n",
    "    \"\"\"Promoter_AB\n",
    "5UTR_BC\n",
    "5UTR_2\n",
    "CDS_CD\n",
    "Terminator_DE\n",
    "FP_insert_mScarlet\n",
    "Eaton_barcode\n",
    "ClpXP_tag\"\"\".split()\n",
    ")"
   ]
  },
  {
   "cell_type": "code",
   "execution_count": null,
   "metadata": {},
   "outputs": [],
   "source": [
    "part_types.rollback()"
   ]
  },
  {
   "cell_type": "code",
   "execution_count": null,
   "metadata": {},
   "outputs": [],
   "source": [
    "print_unique_overhangs(\n",
    "    \"\"\"Promoter_AB\n",
    "5UTR_2\n",
    "5UTR_2b\n",
    "5UTR_2c\n",
    "5UTR_2d\n",
    "5UTR_2e\n",
    "FP_insert_mScarlet\n",
    "Eaton_barcode\n",
    "ClpXP_tag\"\"\".split()\n",
    ")"
   ]
  },
  {
   "cell_type": "code",
   "execution_count": null,
   "metadata": {},
   "outputs": [],
   "source": [
    "print_unique_overhangs(\n",
    "    \"\"\"Promoter_AB\n",
    "5UTR_BC\n",
    "5UTR_2\n",
    "5UTR_2b\n",
    "5UTR_2c\n",
    "5UTR_2d\n",
    "5UTR_2e\n",
    "ClpXP_tag\n",
    "\"\"\".split()\n",
    ")"
   ]
  },
  {
   "cell_type": "markdown",
   "metadata": {},
   "source": [
    "# RBS placeholders"
   ]
  },
  {
   "cell_type": "code",
   "execution_count": null,
   "metadata": {},
   "outputs": [],
   "source": [
    "orig_bbsi_placeholder_seqs = enzyme.re_digest(reg.get(\"RBS_placeholder_BbsI\")[\"_seq\"], Restriction.BsaI)"
   ]
  },
  {
   "cell_type": "code",
   "execution_count": null,
   "metadata": {},
   "outputs": [],
   "source": [
    "orig_bbsi_placeholder_seqs"
   ]
  },
  {
   "cell_type": "code",
   "execution_count": null,
   "metadata": {},
   "outputs": [],
   "source": [
    "workflow.re_digest_part(reg.get(\"RBS_placeholder_BbsI\")[\"_seq\"], Restriction.BsaI)"
   ]
  },
  {
   "cell_type": "code",
   "execution_count": null,
   "metadata": {},
   "outputs": [],
   "source": [
    "for insert_enzyme, insert_part_type in product(insert_enzymes, placeholder_insert_part_types):\n",
    "    insert_overhangs = workflow.overhangs_for(part_types[insert_part_type])\n",
    "    if insert_enzyme == Restriction.BbsI:\n",
    "        seq = orig_bbsi_placeholder_seqs[0].fill_in() + insert_overhangs[0] + orig_bbsi_placeholder_seqs[1].trim_overhangs() + insert_overhangs[1] + orig_bbsi_placeholder_seqs[2].fill_in()\n",
    "    else:\n",
    "        raise NotImplementedError\n",
    "    # seq = insert_overhangs[0] + sequence.reverse_complement(\n",
    "    #     design.type2s_with_spacer(insert_enzyme, len(insert_overhangs[0]))\n",
    "    # )\n",
    "    # seq += (\n",
    "    #     design.random_bases(2 * num_random_bases, seed=seq)\n",
    "    #     + design.type2s_with_spacer(insert_enzyme, len(insert_overhangs[1]))\n",
    "    #     + insert_overhangs[1]\n",
    "    # )\n",
    "    # seq = (\n",
    "    #     design.type2s_with_spacer(part_enzyme, len(part_overhangs[0]))\n",
    "    #     + part_overhangs[0]\n",
    "    #     + seq\n",
    "    #     + part_overhangs[1]\n",
    "    #     + sequence.reverse_complement(\n",
    "    #         design.type2s_with_spacer(part_enzyme, len(part_overhangs[1]))\n",
    "    #     )\n",
    "    # )\n",
    "    # seq = design.random_bases(num_random_bases, seed=seq) + seq\n",
    "    # seq = seq + design.random_bases(num_random_bases, seed=seq)\n",
    "    seq = workflow.normalize_seq(seq)\n",
    "    insert_type_name = insert_part_type.replace(\"5UTR_2\", \"RBS\")\n",
    "    placeholder_name = f\"{insert_type_name}_placeholder_{insert_enzyme}\"\n",
    "    description = f\"Insulated RBS placeholder that accepts {insert_type_name} inserts.\"\n",
    "    oligo_id = olib_oligos.upsert(\n",
    "        {\n",
    "            **oligo_base,\n",
    "            \"Name\": f\"{placeholder_name}_sense\",\n",
    "            \"Sequence\": sequence.normalize_seq_upper(seq),\n",
    "            \"Description\": description,\n",
    "        },\n",
    "        apply=apply,\n",
    "    )\n",
    "    oligo_id2 = olib_oligos.upsert(\n",
    "        {\n",
    "            **oligo_base,\n",
    "            \"Name\": f\"{placeholder_name}_antisense\",\n",
    "            \"Sequence\": sequence.normalize_seq_upper(sequence.reverse_complement(seq)),\n",
    "            \"Description\": description,\n",
    "        },\n",
    "        apply=apply,\n",
    "    )\n",
    "    usage = f\"{oligo_id}={oligo_id2}/{part_enzyme}\"\n",
    "    part_seq = sequence.normalize_seq(workflow.re_digest_part(seq, part_enzyme))\n",
    "    fragment_row = {\n",
    "        **fragment_base,\n",
    "        \"Name\": placeholder_name,\n",
    "        \"Sequence\": part_seq,\n",
    "        \"Description\": description,\n",
    "        \"Usage\": usage,\n",
    "        \"Type\": part_type,\n",
    "        \"Upstream overhang\": part_overhangs[0],\n",
    "        \"Downstream overhang\": part_overhangs[1],\n",
    "        \"Species/codon usage\": \"E. coli\",\n",
    "    }\n",
    "    flib_fragments.upsert(fragment_row, apply=apply, clear=True)"
   ]
  },
  {
   "cell_type": "markdown",
   "metadata": {},
   "source": [
    "# RBS libraries"
   ]
  },
  {
   "cell_type": "code",
   "execution_count": null,
   "metadata": {},
   "outputs": [],
   "source": [
    "old_rbs_library_names = [\"Strong_Weiss_RBS_library\"]\n",
    "rbs_library_seqs = {\n",
    "    name: reg.get(name)[\"_seq\"].trim_overhangs() for name in old_rbs_library_names\n",
    "}"
   ]
  },
  {
   "cell_type": "code",
   "execution_count": null,
   "metadata": {},
   "outputs": [],
   "source": [
    "rbs_library_seqs[\"Strong_Weiss_RBS_library\"]"
   ]
  },
  {
   "cell_type": "code",
   "execution_count": null,
   "metadata": {},
   "outputs": [],
   "source": [
    "library_primer_seq_rc = sequence.reverse_complement(\n",
    "    reg.get(library_reverse_primer_id)[\"Sequence\"]\n",
    ")\n",
    "random_prefix = design.random_bases(num_random_bases, seed=57)"
   ]
  },
  {
   "cell_type": "code",
   "execution_count": null,
   "metadata": {},
   "outputs": [],
   "source": [
    "for insert_enzyme, insert_part_type, (old_library_name, library_seq) in product(\n",
    "    insert_enzymes, insert_part_types, rbs_library_seqs.items()\n",
    "):\n",
    "    insert_overhangs = workflow.overhangs_for(part_types[insert_part_type])\n",
    "    seq = sequence.smoosh_and_normalize_sequences(\n",
    "        insert_overhangs[0],\n",
    "        library_seq,\n",
    "        insert_overhangs[1],\n",
    "    )\n",
    "    seq = (\n",
    "        random_prefix\n",
    "        + design.type2s_with_spacer(insert_enzyme, len(insert_overhangs[0]))\n",
    "        + seq\n",
    "        + sequence.reverse_complement(\n",
    "            design.type2s_with_spacer(insert_enzyme, len(insert_overhangs[1]))\n",
    "        )\n",
    "        + library_primer_seq_rc\n",
    "    )\n",
    "    seq = workflow.normalize_seq(seq)\n",
    "    insert_type_name = insert_part_type.replace(\"5UTR_2\", \"RBS\")\n",
    "    library_name = (\n",
    "        old_library_name.replace(\"RBS\", insert_type_name) + f\"_{insert_enzyme}\"\n",
    "    )\n",
    "    description = f\"RBS library based on {old_library_name} with {insert_type_name} overhangs and {insert_enzyme} cut sites.\"\n",
    "    oligo_id = olib_oligos.upsert(\n",
    "        {\n",
    "            **oligo_base,\n",
    "            \"Name\": library_name,\n",
    "            \"Sequence\": sequence.normalize_seq_upper(seq),\n",
    "            \"Description\": description,\n",
    "        },\n",
    "        apply=apply,\n",
    "    )\n",
    "    usage = f\"{oligo_id}<{library_reverse_primer_id}>/{insert_enzyme}\"\n",
    "    part_seq = sequence.normalize_seq(workflow.re_digest_part(seq, insert_enzyme))\n",
    "    fragment_row = {\n",
    "        **fragment_base,\n",
    "        \"Name\": library_name,\n",
    "        \"Sequence\": part_seq,\n",
    "        \"Description\": description,\n",
    "        \"Usage\": usage,\n",
    "        \"Type\": insert_part_type,\n",
    "        \"Upstream overhang\": insert_overhangs[0],\n",
    "        \"Downstream overhang\": insert_overhangs[1],\n",
    "        \"Species/codon usage\": \"E. coli\",\n",
    "    }\n",
    "    flib_fragments.upsert(fragment_row, apply=apply, clear=True)"
   ]
  },
  {
   "cell_type": "markdown",
   "metadata": {},
   "source": [
    "# Commit"
   ]
  },
  {
   "cell_type": "code",
   "execution_count": null,
   "metadata": {},
   "outputs": [],
   "source": [
    "olib_oligos.local"
   ]
  },
  {
   "cell_type": "code",
   "execution_count": null,
   "metadata": {},
   "outputs": [],
   "source": [
    "flib_fragments.local"
   ]
  },
  {
   "cell_type": "code",
   "execution_count": null,
   "metadata": {},
   "outputs": [],
   "source": [
    "olib_oligos.commit()\n",
    "flib_fragments.commit()"
   ]
  },
  {
   "cell_type": "code",
   "execution_count": null,
   "metadata": {},
   "outputs": [],
   "source": [
    "olib_oligos.rollback()\n",
    "flib_fragments.rollback()"
   ]
  },
  {
   "cell_type": "code",
   "execution_count": null,
   "metadata": {},
   "outputs": [],
   "source": []
  }
 ],
 "metadata": {
  "kernelspec": {
   "display_name": "Python 3 (ipykernel)",
   "language": "python",
   "name": "python3"
  },
  "language_info": {
   "codemirror_mode": {
    "name": "ipython",
    "version": 3
   },
   "file_extension": ".py",
   "mimetype": "text/x-python",
   "name": "python",
   "nbconvert_exporter": "python",
   "pygments_lexer": "ipython3",
   "version": "3.9.13"
  }
 },
 "nbformat": 4,
 "nbformat_minor": 4
}
