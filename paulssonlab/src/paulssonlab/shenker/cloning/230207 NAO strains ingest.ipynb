{
 "cells": [
  {
   "cell_type": "code",
   "execution_count": null,
   "metadata": {},
   "outputs": [],
   "source": [
    "import pandas as pd\n",
    "import re\n",
    "import toml\n",
    "import pygsheets\n",
    "import requests\n",
    "import Bio.Restriction as Restriction\n",
    "from Bio.Seq import Seq\n",
    "from Bio.SeqRecord import SeqRecord"
   ]
  },
  {
   "cell_type": "code",
   "execution_count": null,
   "metadata": {},
   "outputs": [],
   "source": [
    "%load_ext autoreload\n",
    "%autoreload 2"
   ]
  },
  {
   "cell_type": "code",
   "execution_count": null,
   "metadata": {},
   "outputs": [],
   "source": [
    "import paulssonlab.api as api\n",
    "import paulssonlab.cloning.registry as registry\n",
    "import paulssonlab.cloning.workflow as workflow\n",
    "import paulssonlab.cloning.sequence as sequence\n",
    "import paulssonlab.cloning.enzyme as enzyme\n",
    "import paulssonlab.api.geneious as geneious"
   ]
  },
  {
   "cell_type": "markdown",
   "metadata": {},
   "source": [
    "# Setup"
   ]
  },
  {
   "cell_type": "code",
   "execution_count": null,
   "metadata": {},
   "outputs": [],
   "source": [
    "config = toml.load(\"config.toml\")"
   ]
  },
  {
   "cell_type": "code",
   "execution_count": null,
   "metadata": {},
   "outputs": [],
   "source": [
    "gc = pygsheets.authorize(service_account_file=\"credentials.json\")"
   ]
  },
  {
   "cell_type": "code",
   "execution_count": null,
   "metadata": {},
   "outputs": [],
   "source": [
    "reg = registry.Registry(gc, config[\"registry\"][\"folder\"])"
   ]
  },
  {
   "cell_type": "markdown",
   "metadata": {},
   "source": [
    "# Config"
   ]
  },
  {
   "cell_type": "code",
   "execution_count": null,
   "metadata": {},
   "outputs": [],
   "source": [
    "olib_oligos = reg[(\"oLIB\", \"oligos\")]\n",
    "olt_oligos = reg[(\"oLT\", \"oligos\")]\n",
    "plib_plasmids = reg[(\"pLIB\", \"plasmids\")]\n",
    "plib_maps = reg[(\"pLIB\", \"maps\")]\n",
    "flib_fragments = reg[(\"fLIB\", \"fragments\")]\n",
    "part_types = reg[(\"fLIB\", \"fragments\", \"Part types\")]"
   ]
  },
  {
   "cell_type": "markdown",
   "metadata": {},
   "source": [
    "# Ingest missing parts"
   ]
  },
  {
   "cell_type": "markdown",
   "metadata": {},
   "source": [
    "## Double Terminators"
   ]
  },
  {
   "cell_type": "code",
   "execution_count": null,
   "metadata": {},
   "outputs": [],
   "source": [
    "def ingest_part(id_, base_row, storage_vector_id, storage_enzyme):\n",
    "    name = flib_fragments[id_][\"Name\"]\n",
    "    # this correctly prefers the annealed version of Voigt_DT100 (gBlock was bad)\n",
    "    oligo_row = olt_oligos.find({\"Name\": f\"{name}_sense\"})\n",
    "    if oligo_row is None:\n",
    "        oligo_row = olt_oligos.find({\"Name\": name})\n",
    "    if oligo_row is None:\n",
    "        raise ValueError(f\"cannot find oligo for '{name}'\")\n",
    "    plasmid_id = plib_plasmids.find_id({\"Names\": name})\n",
    "    if plasmid_id is None:\n",
    "        raise ValueError(f\"cannot find plasmid for '{name}'\")\n",
    "    usage = f\"{plasmid_id}/{part_enzyme}\"\n",
    "    if oligo_row[\"Name\"].endswith(\"_sense\"):\n",
    "        storage_usage = \"{}={}\".format(\n",
    "            oligo_row[\"ID\"],\n",
    "            olt_oligos.find_id({\"Name\": f\"{name}_antisense\"}),\n",
    "        )\n",
    "    else:\n",
    "        storage_usage = oligo_row[\"ID\"]\n",
    "    usage += f\",{storage_usage}/{part_enzyme}\"\n",
    "    seq = workflow.re_digest_part(oligo_row[\"Sequence\"], part_enzyme)\n",
    "    flib_fragments[id_] = {\n",
    "        **base_row,\n",
    "        \"Name\": name,\n",
    "        \"Usage\": usage,\n",
    "        \"Sequence\": seq.seq_lower(),\n",
    "    }\n",
    "    command = f\"@GG({storage_usage}/{storage_enzyme}, {storage_vector_id}/{storage_enzyme})\"\n",
    "    plib_plasmids.upsert({\"ID\": plasmid_id, \"Description\": base_row[\"Description\"],  \"Command\": command})\n",
    "    plasmid_seq = reg.eval_command(command)[\"_seq\"]\n",
    "    plib_maps[plasmid_id] = plasmid_seq"
   ]
  },
  {
   "cell_type": "code",
   "execution_count": null,
   "metadata": {},
   "outputs": [],
   "source": [
    "double_terminators = [\n",
    "    id_ for id_, row in flib_fragments.items() if row[\"Name\"].startswith(\"Voigt_DT\")\n",
    "]"
   ]
  },
  {
   "cell_type": "code",
   "execution_count": null,
   "metadata": {},
   "outputs": [],
   "source": [
    "part_type = \"Terminator_DE\"\n",
    "overhangs = workflow.overhangs_for(part_types[part_type])\n",
    "part_enzyme = Restriction.BsaI\n",
    "storage_enzyme = Restriction.BsmBI\n",
    "storage_vector_id = \"pLIB112\"\n",
    "\n",
    "base_row = {\n",
    "    \"Upstream overhang\": overhangs[0],\n",
    "    \"Downstream overhang\": overhangs[1],\n",
    "    \"Type\": part_type,\n",
    "    \"Author\": \"Jacob Quinn Shenker\",\n",
    "    \"Date\": workflow.date(),\n",
    "    \"Species/codon usage\": \"E. coli\",\n",
    "    \"Description\": \"Voigt strong double terminator\",\n",
    "    \"Reference\": \"Park, Y., Espah Borujeni, A., Gorochowski, T.E., Shin, J. and Voigt, C.A., 2020. P recision design of stable genetic circuits carried in highly‐insulated E. coli genomic landing pads. Molecular systems biology, 16(8), p.e9584.\",\n",
    "}"
   ]
  },
  {
   "cell_type": "code",
   "execution_count": null,
   "metadata": {},
   "outputs": [],
   "source": [
    "for id_ in double_terminators:\n",
    "    ingest_part(id_, base_row, storage_vector_id, storage_enzyme)"
   ]
  },
  {
   "cell_type": "markdown",
   "metadata": {},
   "source": [
    "## RiboJs"
   ]
  },
  {
   "cell_type": "code",
   "execution_count": null,
   "metadata": {},
   "outputs": [],
   "source": [
    "part_type = \"5UTR_1\"\n",
    "overhangs = workflow.overhangs_for(part_types[part_type])\n",
    "part_enzyme = Restriction.BsaI\n",
    "storage_enzyme = Restriction.BsmBI\n",
    "storage_vector_id = \"pLIB112\"\n",
    "\n",
    "base_row = {\n",
    "    \"Upstream overhang\": overhangs[0],\n",
    "    \"Downstream overhang\": overhangs[1],\n",
    "    \"Type\": part_type,\n",
    "    \"Author\": \"Jacob Quinn Shenker\",\n",
    "    \"Date\": workflow.date(),\n",
    "    \"Species/codon usage\": \"E. coli\",\n",
    "    \"Description\": \"Voigt ribozyme insulator\",\n",
    "    \"Reference\": \"Nielsen, A.A., Der, B.S., Shin, J., Vaidyanathan, P., Paralanov, V., Strychalski, E.A., Ross, D., Densmore, D. and Voigt, C.A., 2016. Genetic circuit design automation. Science, 352(6281), p.aac7341.\",\n",
    "}"
   ]
  },
  {
   "cell_type": "code",
   "execution_count": null,
   "metadata": {},
   "outputs": [],
   "source": [
    "for id_ in [f\"fLIB{n}\" for n in range(325, 341)]:\n",
    "    ingest_part(id_, base_row, storage_vector_id, storage_enzyme)"
   ]
  },
  {
   "cell_type": "code",
   "execution_count": null,
   "metadata": {},
   "outputs": [],
   "source": [
    "flib_fragments.commit()"
   ]
  },
  {
   "cell_type": "code",
   "execution_count": null,
   "metadata": {},
   "outputs": [],
   "source": [
    "plib_plasmids.commit()"
   ]
  },
  {
   "cell_type": "code",
   "execution_count": null,
   "metadata": {},
   "outputs": [],
   "source": [
    "plib_maps.commit()"
   ]
  },
  {
   "cell_type": "markdown",
   "metadata": {},
   "source": [
    "# Test"
   ]
  },
  {
   "cell_type": "code",
   "execution_count": null,
   "metadata": {},
   "outputs": [],
   "source": [
    "len(reg.get(\"fLIB255\")[\"_seq\"])"
   ]
  },
  {
   "cell_type": "code",
   "execution_count": null,
   "metadata": {},
   "outputs": [],
   "source": [
    "s = reg.get(\"mKate2_nocut\")\n",
    "s"
   ]
  },
  {
   "cell_type": "code",
   "execution_count": null,
   "metadata": {},
   "outputs": [],
   "source": [
    "len(s[\"_seq\"])"
   ]
  },
  {
   "cell_type": "code",
   "execution_count": null,
   "metadata": {},
   "outputs": [],
   "source": [
    "s[\"_seq\"]"
   ]
  },
  {
   "cell_type": "code",
   "execution_count": null,
   "metadata": {},
   "outputs": [],
   "source": [
    "s = reg.get(\"pLIB112\")[\"_seq\"]"
   ]
  },
  {
   "cell_type": "code",
   "execution_count": null,
   "metadata": {},
   "outputs": [],
   "source": [
    "reg.eval_expr(\"pLIB112/AarI/BbsI\")"
   ]
  },
  {
   "cell_type": "markdown",
   "metadata": {},
   "source": [
    "# NAO strains"
   ]
  },
  {
   "cell_type": "code",
   "execution_count": null,
   "metadata": {},
   "outputs": [],
   "source": [
    "nao_sheets = gc.open_by_key(\"1nuEeeEwU4Rj4HFjwCWKi6P9sapH2-mPDf4XSDQBiptk\")\n",
    "tus_sheet = nao_sheets.worksheet(value=0)\n",
    "strains_sheet = nao_sheets.worksheet(value=2)\n",
    "tus = tus_sheet.get_as_df()\n",
    "strains = strains_sheet.get_as_df()"
   ]
  },
  {
   "cell_type": "code",
   "execution_count": null,
   "metadata": {},
   "outputs": [],
   "source": [
    "flib_fragments_df = reg[(\"fLIB\", \"fragments\")].remote\n",
    "plib_plasmids_df = reg[(\"pLIB\", \"plasmids\")].remote\n",
    "lib_strains_df = reg[(\"LIB\", \"strains\")].remote"
   ]
  },
  {
   "cell_type": "code",
   "execution_count": null,
   "metadata": {},
   "outputs": [],
   "source": [
    "plasmid_wells = lib_strains_df[lib_strains_df[\"Names\"].str.len() != 0]\n",
    "plasmid_wells = plasmid_wells[\n",
    "    plasmid_wells[\"Reference\"]\n",
    "    == \"Halleran, A. D., Swaminathan, A., & Murray, R. M. (2018). Single day construction of multigene circuits with 3G assembly. ACS synthetic biology, 7(5), 1477-1480.\"\n",
    "]\n",
    "plasmid_wells = plasmid_wells[[\"Plasmids\", \"Other Notes\"]]\n",
    "plasmid_wells[\"Well\"] = plasmid_wells[\"Other Notes\"].map(\n",
    "    lambda s: next(iter(re.findall(r\"Well: ([A-Z0-9]+)\", s)), None)\n",
    ")\n",
    "plasmid_wells = plasmid_wells[~plasmid_wells[\"Well\"].isnull()]"
   ]
  },
  {
   "cell_type": "code",
   "execution_count": null,
   "metadata": {},
   "outputs": [],
   "source": [
    "well_to_plasmid = dict(plasmid_wells[[\"Plasmids\", \"Well\"]].values[:, ::-1])"
   ]
  },
  {
   "cell_type": "code",
   "execution_count": null,
   "metadata": {},
   "outputs": [],
   "source": [
    "name_corrections = [\"PsigW\", \"sigW\", \"rsiW\"]\n",
    "name_corrections = {k.lower(): k for k in name_corrections}"
   ]
  },
  {
   "cell_type": "code",
   "execution_count": null,
   "metadata": {},
   "outputs": [],
   "source": [
    "def _get_part_name(reg, parts_sheet, well_to_plasmid, name_corrections, name):\n",
    "    # LIB number: LIB262\n",
    "    if name.startswith(\"LIB\"):\n",
    "        strain = reg.get(name)\n",
    "        plasmids = re.split(r\"\\s*,\\s*\", strain[\"Plasmids\"])\n",
    "        if len(plasmids) != 1:\n",
    "            raise ValueError(\n",
    "                f\"expecting a single plasmid for strain {name}: {plasmids}\"\n",
    "            )\n",
    "        plasmid = plasmids[0]\n",
    "        return get_part_name(\n",
    "            reg, parts_sheet, well_to_plasmid, name_corrections, plasmid\n",
    "        )\n",
    "    elif name.startswith(\"pLIB\"):\n",
    "        part_name = (\n",
    "            parts_sheet[parts_sheet[\"Usage\"].str.contains(f\"{name}/\")].iloc[0].name\n",
    "        )\n",
    "        return part_name\n",
    "    # pLIB number: 199\n",
    "    elif name.isdigit():  # isdigit isn't robust, but fine for this\n",
    "        return get_part_name(\n",
    "            reg, parts_sheet, well_to_plasmid, name_corrections, f\"pLIB{name}\"\n",
    "        )\n",
    "    # well number: A11\n",
    "    elif re.match(r\"(1|2)?[A-H][0-9]{1,2}b?\", name):\n",
    "        well = name\n",
    "        if well[-1] == \"b\":\n",
    "            well = f\"2{well[:-1]}\"\n",
    "        if well[0] not in (\"1\", \"2\"):\n",
    "            well = f\"1{well}\"\n",
    "        plasmid = well_to_plasmid[well]\n",
    "        return get_part_name(\n",
    "            reg, parts_sheet, well_to_plasmid, name_corrections, plasmid\n",
    "        )\n",
    "    # part capitalization: Psigw -> PsigW, SigW -> sigW\n",
    "    elif name.lower() in name_corrections:\n",
    "        return name_corrections[name.lower()]\n",
    "    # part\n",
    "    return name\n",
    "\n",
    "\n",
    "def get_part_name(reg, parts_sheet, well_to_plasmid, name_corrections, name):\n",
    "    names = [re.sub(r\"\\s*\\([^)]*\\)\\s*\", \"\", n) for n in re.split(r\"\\s*\\+\\s*\", name)]\n",
    "    return names\n",
    "\n",
    "\n",
    "test_names = [\n",
    "    \"199\",\n",
    "    \"DT3\",\n",
    "    \"Psigw\",\n",
    "    \"A4b\",\n",
    "    \"LIB254\",\n",
    "    \"ScmJ+fLIB238\",\n",
    "    \"mVenus\",\n",
    "    \"SCFP3A\",\n",
    "    \"fLIB311\",\n",
    "    \"358 (pTet)\",\n",
    "    \"331 (LacI) +199+SCFP3A\",\n",
    "    \"ScmJ+fLIB314\",\n",
    "    \"323 (PhlF)+199+mVenus\",\n",
    "    \"RiboJ+oLT81\",\n",
    "    \"RiboJ+PH_BsaI\",\n",
    "    \"sigw+Deg_PH\",\n",
    "    \"RsiW+Deg_PH\",\n",
    "    \"Barcode PH\",\n",
    "    \"Long Barcode PH\",\n",
    "]\n",
    "for name in test_names:\n",
    "    print(\n",
    "        name,\n",
    "        \"->\",\n",
    "        get_part_name(reg, flib_fragments_df, well_to_plasmid, name_corrections, name),\n",
    "    )"
   ]
  },
  {
   "cell_type": "code",
   "execution_count": null,
   "metadata": {},
   "outputs": [],
   "source": [
    "nao_names = pd.melt(tus.iloc[:, 4:8])[\"value\"].value_counts()\n",
    "with pd.option_context(\"display.max_rows\", None):\n",
    "    print(nao_names)"
   ]
  },
  {
   "cell_type": "code",
   "execution_count": null,
   "metadata": {},
   "outputs": [],
   "source": [
    "name_map = {}\n",
    "for name in nao_names.index:\n",
    "    name = str(name)\n",
    "    new_name = get_part_name(\n",
    "        reg, flib_fragments, well_to_plasmid, name_corrections, name\n",
    "    )\n",
    "    name_map[name] = new_name"
   ]
  },
  {
   "cell_type": "code",
   "execution_count": null,
   "metadata": {},
   "outputs": [],
   "source": [
    "tus[\n",
    "    \"Description of TU function (e.g. expression strength, expressed protein, circuit it is intended for)\"\n",
    "]"
   ]
  },
  {
   "cell_type": "code",
   "execution_count": null,
   "metadata": {},
   "outputs": [],
   "source": [
    "tu_to_command = {}\n",
    "for _, row in tus.iterrows():\n",
    "    uns_a = str(row[\"UNS_A\"]).replace(\"*\", \"_r\")\n",
    "    uns_e = str(row[\"UNS_E\"]).replace(\"*\", \"_r\")\n",
    "    promoter = name_map[str(row[\"Promoter (pLIB number or 3G part ID) \"])]\n",
    "    rbs = name_map[str(row[\"Ribosome binding site (pLIB number or 3G part ID) \"])]\n",
    "    cds = name_map[str(row[\"Coding region (pLIB number or 3G part ID) \"])]\n",
    "    term = name_map[str(row[\"Terminator (pLIB number or 3G part ID) \"])]\n",
    "    command = f\"@GG(UNS{uns_a}_A, {promoter}, {rbs}, {cds}, {term}, UNS{uns_e}_E)\"\n",
    "    tu_to_command[int(row[\"tLIB number\"].replace(\"tLIB\", \"\"))] = command"
   ]
  },
  {
   "cell_type": "code",
   "execution_count": null,
   "metadata": {},
   "outputs": [],
   "source": [
    "tu_to_command[193]"
   ]
  },
  {
   "cell_type": "code",
   "execution_count": null,
   "metadata": {},
   "outputs": [],
   "source": [
    "strains = strains.loc[:, \"TUs\":]\n",
    "strains = strains[strains[\"TUs\"].str.len() != 0]"
   ]
  },
  {
   "cell_type": "code",
   "execution_count": null,
   "metadata": {},
   "outputs": [],
   "source": [
    "strains"
   ]
  },
  {
   "cell_type": "code",
   "execution_count": null,
   "metadata": {},
   "outputs": [],
   "source": [
    "strains[\"Plasmids\"].unique()"
   ]
  },
  {
   "cell_type": "code",
   "execution_count": null,
   "metadata": {},
   "outputs": [],
   "source": [
    "backbone_pcrs = {\n",
    "    \"\": \"V37m_UNS1_UNS10\",\n",
    "    \"p15A\": \"JUMP_p15a_UNS1_UNS10\",\n",
    "    \"pSC101\": \"JUMP_pSC101_UNS1_UNS10\",\n",
    "}"
   ]
  },
  {
   "cell_type": "code",
   "execution_count": null,
   "metadata": {},
   "outputs": [],
   "source": [
    "strains[\"command\"] = strains.apply(\n",
    "    lambda row: \"@Gib({}, {})\".format(\n",
    "        \", \".join([tu_to_command[int(t)] for t in str(row[\"TUs\"]).split(\",\")]),\n",
    "        backbone_pcrs[row[\"Plasmids\"]],\n",
    "    ),\n",
    "    axis=1,\n",
    ")"
   ]
  },
  {
   "cell_type": "code",
   "execution_count": null,
   "metadata": {},
   "outputs": [],
   "source": [
    "strains[\"command\"].tail().values"
   ]
  },
  {
   "cell_type": "code",
   "execution_count": null,
   "metadata": {},
   "outputs": [],
   "source": [
    "strains.loc[152:158][\"command\"].values"
   ]
  },
  {
   "cell_type": "code",
   "execution_count": null,
   "metadata": {},
   "outputs": [],
   "source": [
    "# L3S1P13, L3S3P11, L3S2P55, L3S2P11"
   ]
  },
  {
   "cell_type": "code",
   "execution_count": null,
   "metadata": {},
   "outputs": [],
   "source": [
    "def eval_command(cmd, registry, context=None):\n",
    "    ctx = commands.CommandContext(registry, context)\n",
    "    return commands.command_parser.parse(\n",
    "        cmd, semantics=commands.CommandSemantics(commands._commands, ctx)\n",
    "    )"
   ]
  },
  {
   "cell_type": "code",
   "execution_count": null,
   "metadata": {},
   "outputs": [],
   "source": [
    "res = eval_command(strains.loc[152][\"command\"], reg, context=\"pLIB\")"
   ]
  },
  {
   "cell_type": "code",
   "execution_count": null,
   "metadata": {},
   "outputs": [],
   "source": [
    "res"
   ]
  },
  {
   "cell_type": "markdown",
   "metadata": {},
   "source": [
    "# GG test"
   ]
  },
  {
   "cell_type": "code",
   "execution_count": null,
   "metadata": {},
   "outputs": [],
   "source": [
    "import paulssonlab.cloning.design as design"
   ]
  },
  {
   "cell_type": "code",
   "execution_count": null,
   "metadata": {},
   "outputs": [],
   "source": [
    "design.golden_gate_placeholder?"
   ]
  },
  {
   "cell_type": "code",
   "execution_count": null,
   "metadata": {},
   "outputs": [],
   "source": [
    "def _make_frag(overhang1, overhang2):\n",
    "    return enzyme.re_digest(design.golden_gate_placeholder(Restriction.BsaI, Restriction.BbsI, overhang1, overhang2), Restriction.BbsI)[1]"
   ]
  },
  {
   "cell_type": "code",
   "execution_count": null,
   "metadata": {},
   "outputs": [],
   "source": [
    "print(_make_frag(\"aaaa\", \"gggg\"))"
   ]
  },
  {
   "cell_type": "code",
   "execution_count": null,
   "metadata": {},
   "outputs": [],
   "source": []
  }
 ],
 "metadata": {
  "kernelspec": {
   "display_name": "Python 3 (ipykernel)",
   "language": "python",
   "name": "python3"
  },
  "language_info": {
   "codemirror_mode": {
    "name": "ipython",
    "version": 3
   },
   "file_extension": ".py",
   "mimetype": "text/x-python",
   "name": "python",
   "nbconvert_exporter": "python",
   "pygments_lexer": "ipython3",
   "version": "3.9.13"
  }
 },
 "nbformat": 4,
 "nbformat_minor": 4
}
