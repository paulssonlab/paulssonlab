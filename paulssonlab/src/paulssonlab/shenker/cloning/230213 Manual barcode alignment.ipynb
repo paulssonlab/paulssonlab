{
 "cells": [
  {
   "cell_type": "code",
   "execution_count": null,
   "metadata": {},
   "outputs": [],
   "source": [
    "import pandas as pd\n",
    "import re\n",
    "import toml\n",
    "import warnings\n",
    "from pathlib import Path\n",
    "import pygsheets\n",
    "import requests\n",
    "import Bio.Restriction as Restriction\n",
    "from Bio.Seq import Seq\n",
    "from Bio.SeqRecord import SeqRecord\n",
    "import parasail"
   ]
  },
  {
   "cell_type": "code",
   "execution_count": null,
   "metadata": {},
   "outputs": [],
   "source": [
    "%load_ext autoreload\n",
    "%autoreload 2"
   ]
  },
  {
   "cell_type": "code",
   "execution_count": null,
   "metadata": {},
   "outputs": [],
   "source": [
    "import paulssonlab.api as api\n",
    "import paulssonlab.cloning.registry as registry\n",
    "import paulssonlab.cloning.io as io\n",
    "import paulssonlab.cloning.workflow as workflow\n",
    "import paulssonlab.cloning.sequence as sequence\n",
    "import paulssonlab.cloning.enzyme as enzyme\n",
    "import paulssonlab.api.geneious as geneious"
   ]
  },
  {
   "cell_type": "markdown",
   "metadata": {},
   "source": [
    "# Setup"
   ]
  },
  {
   "cell_type": "code",
   "execution_count": null,
   "metadata": {},
   "outputs": [],
   "source": [
    "config = toml.load(\"config.toml\")"
   ]
  },
  {
   "cell_type": "code",
   "execution_count": null,
   "metadata": {},
   "outputs": [],
   "source": [
    "gc = pygsheets.authorize(service_account_file=\"credentials.json\")"
   ]
  },
  {
   "cell_type": "code",
   "execution_count": null,
   "metadata": {},
   "outputs": [],
   "source": [
    "reg = registry.Registry(gc, config[\"registry\"][\"folder\"])"
   ]
  },
  {
   "cell_type": "markdown",
   "metadata": {},
   "source": [
    "# Config"
   ]
  },
  {
   "cell_type": "code",
   "execution_count": null,
   "metadata": {},
   "outputs": [],
   "source": [
    "olib_oligos = reg[(\"oLIB\", \"oligos\")]\n",
    "olt_oligos = reg[(\"oLT\", \"oligos\")]\n",
    "plib_plasmids = reg[(\"pLIB\", \"plasmids\")]\n",
    "plib_maps = reg[(\"pLIB\", \"maps\")]\n",
    "flib_fragments = reg[(\"fLIB\", \"fragments\")]\n",
    "part_types = reg[(\"fLIB\", \"fragments\", \"Part types\")]"
   ]
  },
  {
   "cell_type": "markdown",
   "metadata": {},
   "source": [
    "## Probe set"
   ]
  },
  {
   "cell_type": "code",
   "execution_count": null,
   "metadata": {},
   "outputs": [],
   "source": [
    "probes_df = (\n",
    "    gc.open_by_key(\"1dL_I39dvgdQ7gw47gs0zYkU9uGmODg4hlJEPzFpUAIs\")\n",
    "    .worksheet()\n",
    "    .get_as_df()\n",
    ")"
   ]
  },
  {
   "cell_type": "code",
   "execution_count": null,
   "metadata": {},
   "outputs": [],
   "source": [
    "probes_df = probes_df[\n",
    "    probes_df[\"Oligo Name\"].str.startswith(\"DE-A\")\n",
    "    & (probes_df[\"Sequence\"].str.len() != 0)\n",
    "    & ~probes_df[\"Sequence\"].str.isspace()\n",
    "].copy()"
   ]
  },
  {
   "cell_type": "code",
   "execution_count": null,
   "metadata": {},
   "outputs": [],
   "source": [
    "#probes_df[\"Sequence\"].str.replace(r\"\\/[^/]*/\", \"\", regex=True)"
   ]
  },
  {
   "cell_type": "code",
   "execution_count": null,
   "metadata": {},
   "outputs": [],
   "source": [
    "probes_df[\"Channel\"] = probes_df[\"Dye\"].replace({\"AF488\": \"GFP\", \"AF647\": \"Cy5\", \"Alexa750\": \"Cy7\", \"NA\": \"\"})"
   ]
  },
  {
   "cell_type": "code",
   "execution_count": null,
   "metadata": {},
   "outputs": [],
   "source": [
    "probe_set_df = probes_df[probes_df[\"Dye\"].isin([\"AF488\", \"AF647\", \"Alexa750\"])].copy()"
   ]
  },
  {
   "cell_type": "code",
   "execution_count": null,
   "metadata": {},
   "outputs": [],
   "source": [
    "probe_set_df[\"Name\"] = probe_set_df.apply(lambda row: \"C{Cycle:02d}_{Channel}\".format(**row), axis=1)"
   ]
  },
  {
   "cell_type": "code",
   "execution_count": null,
   "metadata": {},
   "outputs": [],
   "source": [
    "probe_set_df = probe_set_df.sort_values(\"Name\")"
   ]
  },
  {
   "cell_type": "code",
   "execution_count": null,
   "metadata": {},
   "outputs": [],
   "source": [
    "placeholder_set_df = probes_df[probes_df[\"Channel\"] == \"\"]"
   ]
  },
  {
   "cell_type": "code",
   "execution_count": null,
   "metadata": {},
   "outputs": [],
   "source": [
    "placeholder_set_df = placeholder_set_df.join(probe_set_df.set_index(\"Bit\")[[\"Name\"]], on=\"Bit\")"
   ]
  },
  {
   "cell_type": "markdown",
   "metadata": {},
   "source": [
    "# Barcode decode"
   ]
  },
  {
   "cell_type": "code",
   "execution_count": null,
   "metadata": {},
   "outputs": [],
   "source": [
    "circular = True"
   ]
  },
  {
   "cell_type": "code",
   "execution_count": null,
   "metadata": {},
   "outputs": [],
   "source": [
    "#seq_files = Path(\"/Users/Jacob/Downloads/X4LSJG_results/X4LSJG_genbank_files\").glob(\"*.gbk\")\n",
    "seq_files = Path(\"/Users/jacob/Downloads/220304_Eaton_BCs_30-666511268_ab1\").glob(\"*.ab1\")"
   ]
  },
  {
   "cell_type": "code",
   "execution_count": null,
   "metadata": {},
   "outputs": [],
   "source": [
    "seq_files = sorted(list(seq_files))"
   ]
  },
  {
   "cell_type": "code",
   "execution_count": null,
   "metadata": {},
   "outputs": [],
   "source": [
    "seq_files"
   ]
  },
  {
   "cell_type": "code",
   "execution_count": null,
   "metadata": {},
   "outputs": [],
   "source": [
    "sub_matrix = parasail.matrix_create(\"acgt\", 1, -2)"
   ]
  },
  {
   "cell_type": "code",
   "execution_count": null,
   "metadata": {},
   "outputs": [],
   "source": [
    "all_probes = set(probe_set_df[\"Name\"]) | set(placeholder_set_df[\"Name\"])"
   ]
  },
  {
   "cell_type": "code",
   "execution_count": null,
   "metadata": {},
   "outputs": [],
   "source": [
    "for seq_file in seq_files:\n",
    "    with warnings.catch_warnings():\n",
    "        warnings.simplefilter(\"ignore\")\n",
    "        orig_seq = io.read_file(seq_file)\n",
    "    for rc in (False, True):\n",
    "        if rc:\n",
    "            seq = sequence.reverse_complement(orig_seq)\n",
    "        else:\n",
    "            seq = orig_seq\n",
    "        seq = workflow.normalize_seq(seq)\n",
    "        if circular:\n",
    "            seq = seq + seq # to handle wrap-around in circular sequences\n",
    "        on_probes = []\n",
    "        off_probes = []\n",
    "        partial_matches = []\n",
    "        for on, selected_probes_df in [(True, probe_set_df), (False, placeholder_set_df)]:\n",
    "            for _, row in selected_probes_df.iterrows():\n",
    "                probe_seq = workflow.normalize_seq(row[\"Sequence\"])\n",
    "                match = parasail.sg_dx_trace_striped_sat(probe_seq, seq, 4, 1, sub_matrix)\n",
    "                if match.score == len(probe_seq):\n",
    "                    if on:\n",
    "                        on_probes.append(row[\"Name\"])\n",
    "                    else:\n",
    "                        off_probes.append(row[\"Name\"])\n",
    "                elif match.score > len(probe_seq) / 2:\n",
    "                    partial_matches.append((row[\"Name\"] + (\"_off\" if not on else \"\"), match.score, match.cigar.decode.decode()))\n",
    "        prefix = \"{}{}:\".format(seq_file.name, \" (rc)\" if rc else \"\")\n",
    "        missing_probes = all_probes - set(on_probes) - set(off_probes)\n",
    "        conflicting_probes = set(on_probes) & set(off_probes)\n",
    "        if not on_probes and not conflicting_probes and not partial_matches and not rc:\n",
    "            continue\n",
    "        print(prefix)\n",
    "        if on_probes:\n",
    "            print(\"    ON: {}\".format(\",\".join(on_probes)))\n",
    "        if partial_matches:\n",
    "            for probe_name, score, cigar in partial_matches:\n",
    "                print(\"    PARTIAL: {} score:{} CIGAR:{}\".format(probe_name, score, cigar))\n",
    "        if missing_probes:\n",
    "            print(\"    MISSING: {}\".format(\",\".join(missing_probes)))\n",
    "        if conflicting_probes:\n",
    "            print(\"    CONFLICTING: {}\".format(\",\".join(conflicting_probes)))\n",
    "        print()\n",
    "        if not missing_probes:\n",
    "            break"
   ]
  },
  {
   "cell_type": "code",
   "execution_count": null,
   "metadata": {},
   "outputs": [],
   "source": [
    "for _, row in probe_set_df[[\"Name\", \"Sequence\"]].iterrows():\n",
    "    print(\"{}\\t{}\".format(*row))"
   ]
  },
  {
   "cell_type": "code",
   "execution_count": null,
   "metadata": {},
   "outputs": [],
   "source": [
    "for _, row in placeholder_set_df[[\"Name\", \"Sequence\"]].iterrows():\n",
    "    print(\"{}_off\\t{}\".format(*row))"
   ]
  },
  {
   "cell_type": "code",
   "execution_count": null,
   "metadata": {},
   "outputs": [],
   "source": []
  }
 ],
 "metadata": {
  "kernelspec": {
   "display_name": "Python 3 (ipykernel)",
   "language": "python",
   "name": "python3"
  },
  "language_info": {
   "codemirror_mode": {
    "name": "ipython",
    "version": 3
   },
   "file_extension": ".py",
   "mimetype": "text/x-python",
   "name": "python",
   "nbconvert_exporter": "python",
   "pygments_lexer": "ipython3",
   "version": "3.9.13"
  }
 },
 "nbformat": 4,
 "nbformat_minor": 4
}
