{
 "cells": [
  {
   "cell_type": "code",
   "execution_count": null,
   "id": "0",
   "metadata": {},
   "outputs": [],
   "source": [
    "import re\n",
    "import warnings\n",
    "from pathlib import Path\n",
    "\n",
    "import Bio.Restriction as Restriction\n",
    "import pandas as pd\n",
    "import parasail\n",
    "import pygsheets\n",
    "import requests\n",
    "import toml\n",
    "from Bio.Seq import Seq\n",
    "from Bio.SeqRecord import SeqRecord"
   ]
  },
  {
   "cell_type": "code",
   "execution_count": null,
   "id": "1",
   "metadata": {},
   "outputs": [],
   "source": [
    "%load_ext autoreload\n",
    "%autoreload 2"
   ]
  },
  {
   "cell_type": "code",
   "execution_count": null,
   "id": "2",
   "metadata": {},
   "outputs": [],
   "source": [
    "import paulssonlab.api as api\n",
    "import paulssonlab.api.geneious as geneious\n",
    "import paulssonlab.cloning.enzyme as enzyme\n",
    "import paulssonlab.cloning.io as io\n",
    "import paulssonlab.cloning.registry as registry\n",
    "import paulssonlab.cloning.sequence as sequence\n",
    "import paulssonlab.cloning.workflow as workflow"
   ]
  },
  {
   "cell_type": "markdown",
   "id": "3",
   "metadata": {},
   "source": [
    "# Setup"
   ]
  },
  {
   "cell_type": "code",
   "execution_count": null,
   "id": "4",
   "metadata": {},
   "outputs": [],
   "source": [
    "config = toml.load(\"config.toml\")"
   ]
  },
  {
   "cell_type": "code",
   "execution_count": null,
   "id": "5",
   "metadata": {},
   "outputs": [],
   "source": [
    "gc = pygsheets.authorize(service_account_file=\"credentials.json\")"
   ]
  },
  {
   "cell_type": "code",
   "execution_count": null,
   "id": "6",
   "metadata": {},
   "outputs": [],
   "source": [
    "reg = registry.Registry(gc, config[\"registry\"][\"folder\"])"
   ]
  },
  {
   "cell_type": "markdown",
   "id": "7",
   "metadata": {},
   "source": [
    "# Config"
   ]
  },
  {
   "cell_type": "code",
   "execution_count": null,
   "id": "8",
   "metadata": {},
   "outputs": [],
   "source": [
    "olib_oligos = reg[(\"oLIB\", \"oligos\")]\n",
    "olt_oligos = reg[(\"oLT\", \"oligos\")]\n",
    "plib_plasmids = reg[(\"pLIB\", \"plasmids\")]\n",
    "plib_maps = reg[(\"pLIB\", \"maps\")]\n",
    "flib_fragments = reg[(\"fLIB\", \"fragments\")]\n",
    "part_types = reg[(\"fLIB\", \"fragments\", \"Part types\")]"
   ]
  },
  {
   "cell_type": "markdown",
   "id": "9",
   "metadata": {},
   "source": [
    "## Probe set"
   ]
  },
  {
   "cell_type": "code",
   "execution_count": null,
   "id": "10",
   "metadata": {},
   "outputs": [],
   "source": [
    "PROBE_FORMAT = \"C{Cycle:02d}_{Channel}\""
   ]
  },
  {
   "cell_type": "code",
   "execution_count": null,
   "id": "11",
   "metadata": {},
   "outputs": [],
   "source": [
    "probes_df = (\n",
    "    gc.open_by_key(\"1dL_I39dvgdQ7gw47gs0zYkU9uGmODg4hlJEPzFpUAIs\")\n",
    "    .worksheet()\n",
    "    .get_as_df()\n",
    ")"
   ]
  },
  {
   "cell_type": "code",
   "execution_count": null,
   "id": "12",
   "metadata": {},
   "outputs": [],
   "source": [
    "probes_df = probes_df[\n",
    "    probes_df[\"Oligo Name\"].str.startswith(\"DE-A\")\n",
    "    & (probes_df[\"Sequence\"].str.len() != 0)\n",
    "    & ~probes_df[\"Sequence\"].str.isspace()\n",
    "].copy()"
   ]
  },
  {
   "cell_type": "code",
   "execution_count": null,
   "id": "13",
   "metadata": {},
   "outputs": [],
   "source": [
    "# probes_df[\"Sequence\"].str.replace(r\"\\/[^/]*/\", \"\", regex=True)"
   ]
  },
  {
   "cell_type": "code",
   "execution_count": null,
   "id": "14",
   "metadata": {},
   "outputs": [],
   "source": [
    "probes_df[\"Channel\"] = probes_df[\"Dye\"].replace(\n",
    "    {\"AF488\": \"GFP\", \"AF647\": \"Cy5\", \"Alexa750\": \"Cy7\", \"NA\": \"\"}\n",
    ")"
   ]
  },
  {
   "cell_type": "code",
   "execution_count": null,
   "id": "15",
   "metadata": {},
   "outputs": [],
   "source": [
    "probe_set_df = probes_df[probes_df[\"Dye\"].isin([\"AF488\", \"AF647\", \"Alexa750\"])].copy()"
   ]
  },
  {
   "cell_type": "code",
   "execution_count": null,
   "id": "16",
   "metadata": {},
   "outputs": [],
   "source": [
    "probe_set_df[\"Name\"] = probe_set_df.apply(\n",
    "    lambda row: PROBE_FORMAT.format(**row), axis=1\n",
    ")"
   ]
  },
  {
   "cell_type": "code",
   "execution_count": null,
   "id": "17",
   "metadata": {},
   "outputs": [],
   "source": [
    "probe_set_df = probe_set_df.sort_values(\"Name\")"
   ]
  },
  {
   "cell_type": "code",
   "execution_count": null,
   "id": "18",
   "metadata": {},
   "outputs": [],
   "source": [
    "placeholder_set_df = probes_df[probes_df[\"Channel\"] == \"\"]"
   ]
  },
  {
   "cell_type": "code",
   "execution_count": null,
   "id": "19",
   "metadata": {},
   "outputs": [],
   "source": [
    "placeholder_set_df = placeholder_set_df.join(\n",
    "    probe_set_df.set_index(\"Bit\")[[\"Name\"]], on=\"Bit\"\n",
    ")"
   ]
  },
  {
   "cell_type": "markdown",
   "id": "20",
   "metadata": {},
   "source": [
    "# Barcode decode"
   ]
  },
  {
   "cell_type": "code",
   "execution_count": null,
   "id": "21",
   "metadata": {},
   "outputs": [],
   "source": [
    "sub_matrix = parasail.matrix_create(\"acgt\", 1, -2)"
   ]
  },
  {
   "cell_type": "code",
   "execution_count": null,
   "id": "22",
   "metadata": {},
   "outputs": [],
   "source": [
    "all_probes = set(probe_set_df[\"Name\"]) | set(placeholder_set_df[\"Name\"])"
   ]
  },
  {
   "cell_type": "code",
   "execution_count": null,
   "id": "23",
   "metadata": {},
   "outputs": [],
   "source": [
    "results = {}"
   ]
  },
  {
   "cell_type": "code",
   "execution_count": null,
   "id": "24",
   "metadata": {},
   "outputs": [],
   "source": [
    "circular = True"
   ]
  },
  {
   "cell_type": "code",
   "execution_count": null,
   "id": "25",
   "metadata": {},
   "outputs": [],
   "source": [
    "# seq_files = Path(\"/Users/Jacob/Downloads/X4LSJG_results/X4LSJG_genbank_files\").glob(\"*.gbk\")\n",
    "# seq_files = Path(\"/Users/jacob/Downloads/8J2L8P_results/8J2L8P_genbank_files\").glob(\n",
    "#     \"*.gbk\"\n",
    "# )\n",
    "seq_files = Path(\"/Users/jacob/Downloads/220304_Eaton_BCs_30-666511268_ab1\").glob(\n",
    "    \"*.ab1\"\n",
    ")"
   ]
  },
  {
   "cell_type": "code",
   "execution_count": null,
   "id": "26",
   "metadata": {},
   "outputs": [],
   "source": [
    "seq_files = sorted(list(seq_files))"
   ]
  },
  {
   "cell_type": "code",
   "execution_count": null,
   "id": "27",
   "metadata": {},
   "outputs": [],
   "source": [
    "seq_files"
   ]
  },
  {
   "cell_type": "code",
   "execution_count": null,
   "id": "28",
   "metadata": {},
   "outputs": [],
   "source": [
    "for seq_file in seq_files:\n",
    "    with warnings.catch_warnings():\n",
    "        warnings.simplefilter(\"ignore\")\n",
    "        orig_seq = io.read_file(seq_file)\n",
    "    for rc in (False, True):\n",
    "        if rc:\n",
    "            seq = sequence.reverse_complement(orig_seq)\n",
    "        else:\n",
    "            seq = orig_seq\n",
    "        seq = workflow.normalize_seq(seq)\n",
    "        if circular:\n",
    "            seq = seq + seq  # to handle wrap-around in circular sequences\n",
    "        on_probes = set()\n",
    "        off_probes = set()\n",
    "        partial_matches = {}\n",
    "        for on, selected_probes_df in [\n",
    "            (True, probe_set_df),\n",
    "            (False, placeholder_set_df),\n",
    "        ]:\n",
    "            for _, row in selected_probes_df.iterrows():\n",
    "                probe_seq = workflow.normalize_seq(row[\"Sequence\"])\n",
    "                match = parasail.sg_dx_trace_striped_sat(\n",
    "                    probe_seq, seq, 4, 1, sub_matrix\n",
    "                )\n",
    "                if match.score == len(probe_seq):\n",
    "                    if on:\n",
    "                        on_probes.add(row[\"Name\"])\n",
    "                    else:\n",
    "                        off_probes.add(row[\"Name\"])\n",
    "                elif match.score > len(probe_seq) / 2:\n",
    "                    partial_match_name = row[\"Name\"] + (\"_off\" if not on else \"\")\n",
    "                    partial_matches[partial_match_name] = {\n",
    "                        \"name\": partial_match_name,\n",
    "                        \"score\": match.score,\n",
    "                        \"cigar\": match.cigar.decode.decode(),\n",
    "                    }\n",
    "        name = \"{}{}\".format(seq_file.name, \" (rc)\" if rc else \"\")\n",
    "        missing_probes = all_probes - set(on_probes) - set(off_probes)\n",
    "        conflicting_probes = set(on_probes) & set(off_probes)\n",
    "        if not on_probes and not conflicting_probes and not partial_matches and not rc:\n",
    "            continue\n",
    "        results[name] = {\n",
    "            \"missing_probes\": missing_probes,\n",
    "            \"conflicting_probes\": conflicting_probes,\n",
    "            \"on_probes\": on_probes,\n",
    "            \"partial_matches\": partial_matches,\n",
    "        }\n",
    "        if not missing_probes:\n",
    "            break"
   ]
  },
  {
   "cell_type": "code",
   "execution_count": null,
   "id": "29",
   "metadata": {},
   "outputs": [],
   "source": [
    "for name, result in results.items():\n",
    "    print(f\"{name}:\")\n",
    "    if on_probes:\n",
    "        print(\"    ON: {}\".format(\",\".join(result[\"on_probes\"])))\n",
    "    if partial_matches:\n",
    "        for partial_match in result[\"partial_matches\"].values():\n",
    "            print(\n",
    "                \"    PARTIAL: {name} score:{score} CIGAR:{cigar}\".format(\n",
    "                    **partial_match\n",
    "                )\n",
    "            )\n",
    "    if missing_probes:\n",
    "        print(\"    MISSING: {}\".format(\",\".join(result[\"missing_probes\"])))\n",
    "    if conflicting_probes:\n",
    "        print(\"    CONFLICTING: {}\".format(\",\".join(result[\"conflicting_probes\"])))\n",
    "    print()"
   ]
  },
  {
   "cell_type": "markdown",
   "id": "30",
   "metadata": {},
   "source": [
    "# Barcode table"
   ]
  },
  {
   "cell_type": "code",
   "execution_count": null,
   "id": "31",
   "metadata": {},
   "outputs": [],
   "source": [
    "# results.pop(\"NAO676_01.gbk (rc)\", None)\n",
    "results.pop(\"NAO680_08.gbk (rc)\", None)\n",
    "results.pop(\"pLIB317-oDE201.ab1 (rc)\", None)\n",
    "results.pop(\"pLIB318-oDE201.ab1 (rc)\", None)\n",
    "results.pop(\"pLIB318-oDE84.ab1 (rc)\", None)\n",
    "results.pop(\"pLIB317-oDE84.ab1 (rc)\", None);"
   ]
  },
  {
   "cell_type": "code",
   "execution_count": null,
   "id": "32",
   "metadata": {},
   "outputs": [],
   "source": [
    "num_cycles = probe_set_df[\"Cycle\"].max()\n",
    "# channels = set(probe_set_df[\"Channel\"])\n",
    "channels = [\"GFP\", \"Cy5\", \"Cy7\"]"
   ]
  },
  {
   "cell_type": "code",
   "execution_count": null,
   "id": "33",
   "metadata": {},
   "outputs": [],
   "source": [
    "def result_column(result, channel):\n",
    "    return [\n",
    "        _result_cell(\n",
    "            result, PROBE_FORMAT.format(**{\"Cycle\": cycle, \"Channel\": channel})\n",
    "        )\n",
    "        for cycle in range(1, num_cycles + 1)\n",
    "    ]\n",
    "\n",
    "\n",
    "def _result_cell(result, probe_name):\n",
    "    if probe_name in result[\"on_probes\"]:\n",
    "        return \"■\"\n",
    "    else:\n",
    "        if probe_name in result[\"partial_matches\"]:\n",
    "            return \"■?\"\n",
    "        elif f\"{probe_name}_off\" in result[\"partial_matches\"]:\n",
    "            return \"□?\"\n",
    "        else:\n",
    "            return \"□\""
   ]
  },
  {
   "cell_type": "code",
   "execution_count": null,
   "id": "34",
   "metadata": {},
   "outputs": [],
   "source": [
    "IDX = pd.IndexSlice"
   ]
  },
  {
   "cell_type": "code",
   "execution_count": null,
   "id": "35",
   "metadata": {},
   "outputs": [],
   "source": [
    "table = pd.DataFrame(\n",
    "    {\n",
    "        (name, channel): result_column(result, channel)\n",
    "        for name, result in results.items()\n",
    "        for channel in channels\n",
    "    }\n",
    ")"
   ]
  },
  {
   "cell_type": "code",
   "execution_count": null,
   "id": "36",
   "metadata": {},
   "outputs": [],
   "source": [
    "table.style.set_properties(\n",
    "    **{\"color\": \"#00ff00\"}, subset=IDX[:, IDX[:, \"GFP\"]]\n",
    ").set_properties(**{\"color\": \"#00ffff\"}, subset=IDX[:, IDX[:, \"Cy5\"]]).set_properties(\n",
    "    **{\"color\": \"#ff00ff\"}, subset=IDX[:, IDX[:, \"Cy7\"]]\n",
    ")"
   ]
  },
  {
   "cell_type": "code",
   "execution_count": null,
   "id": "37",
   "metadata": {},
   "outputs": [],
   "source": [
    "colors = {\"GFP\": \"#A6D629\", \"Cy5\": \"#29A6D6\", \"Cy7\": \"#D629A6\"}"
   ]
  },
  {
   "cell_type": "code",
   "execution_count": null,
   "id": "38",
   "metadata": {
    "tags": []
   },
   "outputs": [],
   "source": [
    "table.T.style.set_properties(\n",
    "    **{\"color\": colors[\"GFP\"]}, subset=IDX[IDX[:, \"GFP\"], :]\n",
    ").set_properties(\n",
    "    **{\"color\": colors[\"Cy5\"], \"text-align\": \"left\"}, subset=IDX[IDX[:, \"Cy5\"], :]\n",
    ").set_properties(\n",
    "    **{\"color\": colors[\"Cy7\"], \"text-align\": \"left\"}, subset=IDX[IDX[:, \"Cy7\"], :]\n",
    ").apply_index(\n",
    "    lambda s: np.select(\n",
    "        [s == channel for channel in channels],\n",
    "        [f\"color:white;background-color:{colors[channel]};\" for channel in channels],\n",
    "    ),\n",
    "    level=1,\n",
    "    axis=0,\n",
    ").set_table_styles(\n",
    "    [{\"selector\": \"td, th\", \"props\": \"width:20px;text-align:left;\"}]\n",
    ").set_table_styles(\n",
    "    {0: [{\"selector\": \"td, th\", \"props\": \"padding-left:15px;\"}]},\n",
    "    overwrite=False,\n",
    "    axis=0,\n",
    ").set_table_styles(\n",
    "    {\n",
    "        c: [{\"selector\": \"td, th\", \"props\": \"border-bottom: 2px solid #aaa;\"}]\n",
    "        for c in table.columns\n",
    "        if c[1] == \"Cy7\"\n",
    "    },\n",
    "    overwrite=False,\n",
    "    axis=1,\n",
    ")"
   ]
  },
  {
   "cell_type": "markdown",
   "id": "39",
   "metadata": {},
   "source": [
    "# Probe sequences"
   ]
  },
  {
   "cell_type": "code",
   "execution_count": null,
   "id": "40",
   "metadata": {},
   "outputs": [],
   "source": [
    "for _, row in probe_set_df[[\"Name\", \"Sequence\"]].iterrows():\n",
    "    print(\"{}\\t{}\".format(*row))"
   ]
  },
  {
   "cell_type": "code",
   "execution_count": null,
   "id": "41",
   "metadata": {},
   "outputs": [],
   "source": [
    "for _, row in placeholder_set_df[[\"Name\", \"Sequence\"]].iterrows():\n",
    "    print(\"{}_off\\t{}\".format(*row))"
   ]
  }
 ],
 "metadata": {
  "kernelspec": {
   "display_name": "Python 3 (ipykernel)",
   "language": "python",
   "name": "python3"
  },
  "language_info": {
   "codemirror_mode": {
    "name": "ipython",
    "version": 3
   },
   "file_extension": ".py",
   "mimetype": "text/x-python",
   "name": "python",
   "nbconvert_exporter": "python",
   "pygments_lexer": "ipython3",
   "version": "3.9.13"
  }
 },
 "nbformat": 4,
 "nbformat_minor": 4
}
