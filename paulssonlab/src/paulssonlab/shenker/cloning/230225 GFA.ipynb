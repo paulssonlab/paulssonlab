{
 "cells": [
  {
   "cell_type": "code",
   "execution_count": null,
   "metadata": {},
   "outputs": [],
   "source": [
    "import pandas as pd\n",
    "import re\n",
    "import toml\n",
    "import pygsheets\n",
    "import requests\n",
    "import Bio.Restriction as Restriction\n",
    "from Bio.Seq import Seq\n",
    "from Bio.SeqRecord import SeqRecord"
   ]
  },
  {
   "cell_type": "code",
   "execution_count": null,
   "metadata": {},
   "outputs": [],
   "source": [
    "%load_ext autoreload\n",
    "%autoreload 2"
   ]
  },
  {
   "cell_type": "code",
   "execution_count": null,
   "metadata": {},
   "outputs": [],
   "source": [
    "import paulssonlab.api as api\n",
    "import paulssonlab.cloning.registry as registry\n",
    "import paulssonlab.cloning.workflow as workflow\n",
    "import paulssonlab.cloning.sequence as sequence\n",
    "import paulssonlab.cloning.enzyme as enzyme\n",
    "import paulssonlab.api.geneious as geneious"
   ]
  },
  {
   "cell_type": "markdown",
   "metadata": {},
   "source": [
    "# Setup"
   ]
  },
  {
   "cell_type": "code",
   "execution_count": null,
   "metadata": {},
   "outputs": [],
   "source": [
    "config = toml.load(\"config.toml\")"
   ]
  },
  {
   "cell_type": "code",
   "execution_count": null,
   "metadata": {},
   "outputs": [],
   "source": [
    "gc = pygsheets.authorize(service_account_file=\"credentials.json\")"
   ]
  },
  {
   "cell_type": "code",
   "execution_count": null,
   "metadata": {},
   "outputs": [],
   "source": [
    "reg = registry.Registry(gc, config[\"registry\"][\"folder\"])"
   ]
  },
  {
   "cell_type": "markdown",
   "metadata": {},
   "source": [
    "# Config"
   ]
  },
  {
   "cell_type": "code",
   "execution_count": null,
   "metadata": {},
   "outputs": [],
   "source": [
    "olib_oligos = reg[(\"oLIB\", \"oligos\")]\n",
    "olt_oligos = reg[(\"oLT\", \"oligos\")]\n",
    "plib_plasmids = reg[(\"pLIB\", \"plasmids\")]\n",
    "plib_maps = reg[(\"pLIB\", \"maps\")]\n",
    "flib_fragments = reg[(\"fLIB\", \"fragments\")]\n",
    "part_types = reg[(\"fLIB\", \"fragments\", \"Part types\")]"
   ]
  },
  {
   "cell_type": "markdown",
   "metadata": {},
   "source": [
    "# Digest test"
   ]
  },
  {
   "cell_type": "code",
   "execution_count": null,
   "metadata": {},
   "outputs": [],
   "source": [
    "len(reg.get(\"fLIB255\")[\"_seq\"])"
   ]
  },
  {
   "cell_type": "code",
   "execution_count": null,
   "metadata": {},
   "outputs": [],
   "source": [
    "s = reg.get(\"mKate2_nocut\")\n",
    "s"
   ]
  },
  {
   "cell_type": "code",
   "execution_count": null,
   "metadata": {},
   "outputs": [],
   "source": [
    "len(s[\"_seq\"])"
   ]
  },
  {
   "cell_type": "code",
   "execution_count": null,
   "metadata": {},
   "outputs": [],
   "source": [
    "s[\"_seq\"]"
   ]
  },
  {
   "cell_type": "code",
   "execution_count": null,
   "metadata": {},
   "outputs": [],
   "source": [
    "s = reg.get(\"pLIB112\")[\"_seq\"]"
   ]
  },
  {
   "cell_type": "code",
   "execution_count": null,
   "metadata": {},
   "outputs": [],
   "source": [
    "reg.eval_expr(\"pLIB112/AarI/BbsI\")"
   ]
  },
  {
   "cell_type": "markdown",
   "metadata": {},
   "source": [
    "# GG test"
   ]
  },
  {
   "cell_type": "code",
   "execution_count": null,
   "metadata": {},
   "outputs": [],
   "source": [
    "import networkx as nx\n",
    "import random"
   ]
  },
  {
   "cell_type": "code",
   "execution_count": null,
   "metadata": {},
   "outputs": [],
   "source": [
    "import paulssonlab.cloning.design as design"
   ]
  },
  {
   "cell_type": "code",
   "execution_count": null,
   "metadata": {},
   "outputs": [],
   "source": [
    "design.golden_gate_placeholder?"
   ]
  },
  {
   "cell_type": "code",
   "execution_count": null,
   "metadata": {},
   "outputs": [],
   "source": [
    "def _make_frag(overhang1, overhang2):\n",
    "    return enzyme.re_digest(\n",
    "        design.golden_gate_placeholder(\n",
    "            Restriction.BsaI, Restriction.BbsI, overhang1, overhang2\n",
    "        ),\n",
    "        Restriction.BbsI,\n",
    "    )[1]"
   ]
  },
  {
   "cell_type": "code",
   "execution_count": null,
   "metadata": {},
   "outputs": [],
   "source": [
    "test_set = [\n",
    "    _make_frag(\"aaaa\", \"gggg\"),\n",
    "    _make_frag(\"gggg\", \"aatt\"),\n",
    "    _make_frag(\"aatt\", \"ggcc\"),\n",
    "    _make_frag(\"ggcc\", \"gggg\"),\n",
    "    _make_frag(\"aaaa\", \"cccc\"),\n",
    "    #_make_frag(\"gggg\", \"cccc\"),\n",
    "]\n",
    "random.shuffle(test_set)"
   ]
  },
  {
   "cell_type": "code",
   "execution_count": null,
   "metadata": {},
   "outputs": [],
   "source": [
    "print(_make_frag(\"aaaa\", \"gggg\"))"
   ]
  },
  {
   "cell_type": "code",
   "execution_count": null,
   "metadata": {},
   "outputs": [],
   "source": [
    "sequence._assemble_goldengate(test_set[0], test_set[1])"
   ]
  },
  {
   "cell_type": "code",
   "execution_count": null,
   "metadata": {},
   "outputs": [],
   "source": [
    "sequence._assemble_goldengate(test_set[0], test_set[2])"
   ]
  },
  {
   "cell_type": "code",
   "execution_count": null,
   "metadata": {},
   "outputs": [],
   "source": [
    "graph = nx.DiGraph()\n",
    "for idx1 in range(len(test_set)):\n",
    "    for idx2 in range(len(test_set)):\n",
    "        score = sequence._assemble_goldengate(test_set[idx1], test_set[idx2])[1]\n",
    "        if score > 0:\n",
    "            graph.add_edge(idx1, idx2)\n",
    "cycles = list(nx.simple_cycles(graph))\n",
    "if len(cycles) == 0:\n",
    "    raise ValueError(\"\")\n",
    "elif len(cycles) > 1:\n",
    "    raise ValueError(\"\")\n",
    "cycle = cycles[0]\n",
    "seq = test_set[cycle[0]]\n",
    "for idx in cycle[1:]:\n",
    "    new_seq, score = sequence._assemble_goldengate(seq, test_set[idx])\n",
    "    assert score > 0\n",
    "    seq = new_seq"
   ]
  },
  {
   "cell_type": "code",
   "execution_count": null,
   "metadata": {},
   "outputs": [],
   "source": [
    "nx.draw(graph, with_labels=True)"
   ]
  },
  {
   "cell_type": "code",
   "execution_count": null,
   "metadata": {},
   "outputs": [],
   "source": [
    "test_set"
   ]
  },
  {
   "cell_type": "code",
   "execution_count": null,
   "metadata": {},
   "outputs": [],
   "source": [
    "sequence.assemble_circular(test_set)"
   ]
  },
  {
   "cell_type": "code",
   "execution_count": null,
   "metadata": {},
   "outputs": [],
   "source": [
    "g = sequence.assembly_graph(test_set, method=\"goldengate\")\n",
    "g.edges"
   ]
  },
  {
   "cell_type": "code",
   "execution_count": null,
   "metadata": {},
   "outputs": [],
   "source": [
    "g"
   ]
  },
  {
   "cell_type": "code",
   "execution_count": null,
   "metadata": {},
   "outputs": [],
   "source": [
    "nx.draw(g, with_labels=True)"
   ]
  },
  {
   "cell_type": "markdown",
   "metadata": {},
   "source": [
    "# Barcode GFA"
   ]
  },
  {
   "cell_type": "code",
   "execution_count": null,
   "metadata": {},
   "outputs": [],
   "source": [
    "\" + \".join(\n",
    "    [\n",
    "        \"barcode_bit{num}_on | barcode_bit{num}_on\".format(num=num)\n",
    "        for num in range(1, 31)\n",
    "    ]\n",
    ")"
   ]
  },
  {
   "cell_type": "code",
   "execution_count": null,
   "metadata": {},
   "outputs": [],
   "source": [
    "x = reg.get(\"barcode_bit1_on\")"
   ]
  },
  {
   "cell_type": "code",
   "execution_count": null,
   "metadata": {},
   "outputs": [],
   "source": [
    "x[\"_seq\"]"
   ]
  },
  {
   "cell_type": "code",
   "execution_count": null,
   "metadata": {},
   "outputs": [],
   "source": [
    "### LOOK AT GIBSON/GG\n",
    "\n",
    "# desiderata:\n",
    "# drop-in replacement for SeqRecord/DsSeqRecord (?)\n",
    "# fasta/gb export\n",
    "# circular/noncircular\n",
    "# for GG/gibson: hhh\n",
    "\n",
    "# from_gfa\n",
    "# to_gfa\n",
    "\n",
    "# __or__ (|) [also implement for DsSeqRecord]\n",
    "# max_length, min_length\n",
    "# __len__ raises error or returns None if lengths not equal?\n",
    "# slicing\n",
    "# __add__, __radd__\n",
    "# ligation check\n",
    "# overhangs\n",
    "\n",
    "\n",
    "class VariableSeqRecord:\n",
    "    pass\n",
    "\n",
    "\n",
    "class VariableSeq:\n",
    "    def __init__(self, seqs):\n",
    "        pass\n",
    "\n",
    "    def from_gfa():\n",
    "        pass\n",
    "\n",
    "    def to_gfa():\n",
    "        pass\n",
    "\n",
    "    def squeeze():\n",
    "        pass"
   ]
  }
 ],
 "metadata": {
  "kernelspec": {
   "display_name": "Python 3 (ipykernel)",
   "language": "python",
   "name": "python3"
  },
  "language_info": {
   "codemirror_mode": {
    "name": "ipython",
    "version": 3
   },
   "file_extension": ".py",
   "mimetype": "text/x-python",
   "name": "python",
   "nbconvert_exporter": "python",
   "pygments_lexer": "ipython3",
   "version": "3.9.13"
  }
 },
 "nbformat": 4,
 "nbformat_minor": 4
}
