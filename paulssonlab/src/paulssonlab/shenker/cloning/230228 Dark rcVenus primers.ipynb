{
 "cells": [
  {
   "cell_type": "code",
   "execution_count": null,
   "id": "0",
   "metadata": {},
   "outputs": [],
   "source": [
    "import re\n",
    "\n",
    "import Bio.Restriction as Restriction\n",
    "import pandas as pd\n",
    "import pygsheets\n",
    "import requests\n",
    "import toml\n",
    "from Bio.Seq import Seq\n",
    "from Bio.SeqRecord import SeqRecord"
   ]
  },
  {
   "cell_type": "code",
   "execution_count": null,
   "id": "1",
   "metadata": {},
   "outputs": [],
   "source": [
    "%load_ext autoreload\n",
    "%autoreload 2"
   ]
  },
  {
   "cell_type": "code",
   "execution_count": null,
   "id": "2",
   "metadata": {},
   "outputs": [],
   "source": [
    "import paulssonlab.api as api\n",
    "import paulssonlab.api.geneious as geneious\n",
    "import paulssonlab.cloning.enzyme as enzyme\n",
    "import paulssonlab.cloning.registry as registry\n",
    "import paulssonlab.cloning.sequence as sequence\n",
    "import paulssonlab.cloning.workflow as workflow"
   ]
  },
  {
   "cell_type": "markdown",
   "id": "3",
   "metadata": {},
   "source": [
    "# Setup"
   ]
  },
  {
   "cell_type": "code",
   "execution_count": null,
   "id": "4",
   "metadata": {},
   "outputs": [],
   "source": [
    "config = toml.load(\"config.toml\")"
   ]
  },
  {
   "cell_type": "code",
   "execution_count": null,
   "id": "5",
   "metadata": {},
   "outputs": [],
   "source": [
    "gc = pygsheets.authorize(service_account_file=\"credentials.json\")"
   ]
  },
  {
   "cell_type": "code",
   "execution_count": null,
   "id": "6",
   "metadata": {},
   "outputs": [],
   "source": [
    "reg = registry.Registry(gc, config[\"registry\"][\"folder\"])"
   ]
  },
  {
   "cell_type": "markdown",
   "id": "7",
   "metadata": {},
   "source": [
    "# Config"
   ]
  },
  {
   "cell_type": "code",
   "execution_count": null,
   "id": "8",
   "metadata": {},
   "outputs": [],
   "source": [
    "otx_oligos = reg[(\"oTX\", \"oligos\")]\n",
    "# ptx_plasmids = reg[(\"pTX\", \"plasmids\")]\n",
    "# ptx_maps = reg[(\"pTX\", \"maps\")]\n",
    "# ftx_fragments = reg[(\"fTX\", \"fragments\")]\n",
    "# part_types = reg[(\"fTX\", \"fragments\", \"Part types\")]"
   ]
  },
  {
   "cell_type": "markdown",
   "id": "9",
   "metadata": {},
   "source": [
    "# Initialize TX registry"
   ]
  },
  {
   "cell_type": "code",
   "execution_count": null,
   "id": "10",
   "metadata": {},
   "outputs": [],
   "source": [
    "reg.duplicate_collection(\"LIB\", \"TX\")"
   ]
  },
  {
   "cell_type": "markdown",
   "id": "11",
   "metadata": {},
   "source": [
    "# Dark rcVenus primers"
   ]
  },
  {
   "cell_type": "code",
   "execution_count": null,
   "id": "12",
   "metadata": {},
   "outputs": [],
   "source": [
    "primers_sheet = pd.read_csv(\"/Users/jacob/Downloads/final_rcVenus_primers.csv\")"
   ]
  },
  {
   "cell_type": "code",
   "execution_count": null,
   "id": "13",
   "metadata": {},
   "outputs": [],
   "source": [
    "primers_sheet.columns"
   ]
  },
  {
   "cell_type": "code",
   "execution_count": null,
   "id": "14",
   "metadata": {},
   "outputs": [],
   "source": [
    "primers_sheet[\"forward_primer\"].str.len()"
   ]
  },
  {
   "cell_type": "code",
   "execution_count": null,
   "id": "15",
   "metadata": {},
   "outputs": [],
   "source": [
    "base = {\"Author\": \"Jacob Quinn Shenker\", \"Date\": workflow.date()}\n",
    "\n",
    "oligo_base = {\n",
    "    **base,\n",
    "    \"Order date\": workflow.date(),\n",
    "    \"Vendor\": \"Genewiz\",\n",
    "    \"Type\": \"Primer\",\n",
    "}\n",
    "\n",
    "part_base = {\n",
    "    **base,\n",
    "    \"Tags\": part_tags,\n",
    "    \"Reference\": reference,\n",
    "}\n",
    "\n",
    "for primer in primer_sheet.iterrows():\n",
    "    name = f\"rcvenus_{}\"\n",
    "    oligo_id = olib_oligos.upsert(\n",
    "        {\n",
    "            **oligo_base,\n",
    "            **row,\n",
    "            \"Name\": f\"{name}_sense\",\n",
    "            \"Sequence\": workflow.normalize_seq_upper(seq),\n",
    "        },\n",
    "        apply=apply,\n",
    "    )\n",
    "    oligo_id2 = olib_oligos.upsert(\n",
    "        {\n",
    "            **oligo_base,\n",
    "            **row,\n",
    "            \"Name\": f\"{name}_antisense\",\n",
    "            \"Sequence\": workflow.normalize_seq_upper(sequence.reverse_complement(seq)),\n",
    "        },\n",
    "        apply=apply,\n",
    "    )\n",
    "    usage = f\"{oligo_id}={oligo_id2}/{part_enzyme}\"\n",
    "    part_seq = workflow.normalize_seq(workflow.re_digest_part(seq, part_enzyme))\n",
    "    part_row = {\n",
    "        **part_base,\n",
    "        **row,\n",
    "        \"Sequence\": part_seq,\n",
    "        \"Usage\": usage,\n",
    "        \"Type\": part_type,\n",
    "        \"Upstream overhang\": part_overhangs[0],\n",
    "        \"Downstream overhang\": part_overhangs[1],\n",
    "        \"Species/codon usage\": \"E. coli\",\n",
    "    }\n",
    "    lib_parts[name] = part_row"
   ]
  },
  {
   "cell_type": "code",
   "execution_count": null,
   "id": "16",
   "metadata": {},
   "outputs": [],
   "source": [
    "base = {\"Author\": \"Jacob Quinn Shenker\", \"Date\": workflow.date()}\n",
    "\n",
    "oligo_base = {\n",
    "    **base,\n",
    "    \"Order date\": workflow.date(),\n",
    "    \"Vendor\": \"Genewiz\",\n",
    "    \"Type\": \"Primer\",\n",
    "}\n",
    "\n",
    "part_base = {\n",
    "    **base,\n",
    "    \"Tags\": part_tags,\n",
    "    \"Reference\": reference,\n",
    "}\n",
    "\n",
    "# apply = {\"Sequence\": workflow.normalize_seq}\n",
    "apply = {\"Name\": None}\n",
    "\n",
    "for name, row in seqs.items():\n",
    "    seq = row[\"Sequence\"]\n",
    "    oligo_id = olib_oligos.upsert(\n",
    "        {\n",
    "            **oligo_base,\n",
    "            **row,\n",
    "            \"Name\": f\"{name}_sense\",\n",
    "            \"Sequence\": workflow.normalize_seq_upper(seq),\n",
    "        },\n",
    "        apply=apply,\n",
    "    )\n",
    "    oligo_id2 = olib_oligos.upsert(\n",
    "        {\n",
    "            **oligo_base,\n",
    "            **row,\n",
    "            \"Name\": f\"{name}_antisense\",\n",
    "            \"Sequence\": workflow.normalize_seq_upper(sequence.reverse_complement(seq)),\n",
    "        },\n",
    "        apply=apply,\n",
    "    )\n",
    "    usage = f\"{oligo_id}={oligo_id2}/{part_enzyme}\"\n",
    "    part_seq = workflow.normalize_seq(workflow.re_digest_part(seq, part_enzyme))\n",
    "    part_row = {\n",
    "        **part_base,\n",
    "        **row,\n",
    "        \"Sequence\": part_seq,\n",
    "        \"Usage\": usage,\n",
    "        \"Type\": part_type,\n",
    "        \"Upstream overhang\": part_overhangs[0],\n",
    "        \"Downstream overhang\": part_overhangs[1],\n",
    "        \"Species/codon usage\": \"E. coli\",\n",
    "    }\n",
    "    lib_parts[name] = part_row"
   ]
  }
 ],
 "metadata": {
  "kernelspec": {
   "display_name": "Python 3 (ipykernel)",
   "language": "python",
   "name": "python3"
  },
  "language_info": {
   "codemirror_mode": {
    "name": "ipython",
    "version": 3
   },
   "file_extension": ".py",
   "mimetype": "text/x-python",
   "name": "python",
   "nbconvert_exporter": "python",
   "pygments_lexer": "ipython3",
   "version": "3.9.13"
  }
 },
 "nbformat": 4,
 "nbformat_minor": 4
}
