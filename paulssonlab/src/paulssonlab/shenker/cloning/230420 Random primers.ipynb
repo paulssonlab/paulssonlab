{
 "cells": [
  {
   "cell_type": "code",
   "execution_count": null,
   "id": "0a9cace6-f768-4c50-8bc7-df7ac3dd4f2f",
   "metadata": {
    "tags": []
   },
   "outputs": [],
   "source": [
    "import pandas as pd\n",
    "from Bio import Restriction\n",
    "from tqdm.auto import tqdm, trange\n",
    "\n",
    "from paulssonlab.cloning.design import random_bases\n",
    "from paulssonlab.cloning.enzyme import re_digest\n",
    "from paulssonlab.cloning.primers import Primer, PrimerPair\n",
    "from paulssonlab.cloning.sequence import reverse_complement"
   ]
  },
  {
   "cell_type": "code",
   "execution_count": null,
   "id": "c6c2dab3-d19d-4cd9-9fd0-206ee48578a5",
   "metadata": {
    "tags": []
   },
   "outputs": [],
   "source": [
    "seq_1a = \"GAAGACCGACGAGGAGAGAGACCGATAGC\"  # primer on left\n",
    "seq_2e = \"AGCTTAGGTCTCTGCTTTGAATGGTCTTC\"  # primer on right"
   ]
  },
  {
   "cell_type": "code",
   "execution_count": null,
   "id": "4632b3b6-7817-4918-b199-162d7ad5eb7b",
   "metadata": {
    "tags": []
   },
   "outputs": [],
   "source": [
    "re_digest(seq_a1, Restriction.AarI)"
   ]
  },
  {
   "cell_type": "code",
   "execution_count": null,
   "id": "0b49c66e-a1b9-460f-8da0-28dcff75bb09",
   "metadata": {
    "tags": []
   },
   "outputs": [],
   "source": [
    "%%time\n",
    "enzymes = [Restriction.BsaI, Restriction.BsmBI, Restriction.BbsI, Restriction.AarI]\n",
    "candidates = []\n",
    "for i in trange(10000):\n",
    "    primer1 = Primer(binding=random_bases(30) + random_bases(1, \"gc\"))\n",
    "    primer2 = Primer(binding=random_bases(30) + random_bases(1, \"gc\"))\n",
    "    rejected = False\n",
    "    for enz in enzymes:\n",
    "        try:\n",
    "            if (\n",
    "                len(re_digest(primer1.seq, enz)) != 1\n",
    "                or len(re_digest(primer2.seq, enz)) != 1\n",
    "            ):\n",
    "                rejected = True\n",
    "                break\n",
    "        except:\n",
    "            rejected = True\n",
    "            break\n",
    "    if rejected:\n",
    "        continue\n",
    "    pair = PrimerPair(primer1, primer2)\n",
    "    # cache computations\n",
    "    (\n",
    "        primer1.seq,\n",
    "        primer2.seq,\n",
    "        pair.ta,\n",
    "        primer1.mfe_monomer,\n",
    "        primer2.mfe_monomer,\n",
    "        primer1.mfe_homodimer,\n",
    "        primer2.mfe_homodimer,\n",
    "        pair.mfe_heterodimer,\n",
    "    )\n",
    "    candidates.append(pair)"
   ]
  },
  {
   "cell_type": "code",
   "execution_count": null,
   "id": "81c9fd01-398e-4bf0-92d2-923df59dab6c",
   "metadata": {
    "tags": []
   },
   "outputs": [],
   "source": [
    "%%time\n",
    "selected_candidates = list(\n",
    "    sorted(\n",
    "        [\n",
    "            p\n",
    "            for p in candidates\n",
    "            if abs(p.primer1.tm - p.primer2.tm) < 3\n",
    "            and 40 <= p.primer1.gc <= 60\n",
    "            and 40 <= p.primer2.gc <= 60\n",
    "        ],\n",
    "        key=lambda p: min(\n",
    "            p.primer1.mfe_monomer,\n",
    "            p.primer2.mfe_monomer,\n",
    "            p.primer1.mfe_homodimer,\n",
    "            p.primer2.mfe_homodimer,\n",
    "            p.mfe_heterodimer,\n",
    "        ),\n",
    "        reverse=True,\n",
    "    )\n",
    ")[:4]"
   ]
  },
  {
   "cell_type": "code",
   "execution_count": null,
   "id": "fdbbb68f-0b3e-4e13-abd7-2e6948cd73d4",
   "metadata": {
    "tags": []
   },
   "outputs": [],
   "source": [
    "pd.DataFrame(\n",
    "    [\n",
    "        {\n",
    "            \"ta\": p.ta,\n",
    "            \"tm1\": p.primer1.tm,\n",
    "            \"tm2\": p.primer2.tm,\n",
    "            \"monomer1\": p.primer1.mfe_monomer,\n",
    "            \"monomer2\": p.primer2.mfe_monomer,\n",
    "            \"homodimer1\": p.primer1.mfe_homodimer,\n",
    "            \"homodimer2\": p.primer2.mfe_homodimer,\n",
    "            \"heterodimer\": p.mfe_heterodimer,\n",
    "            \"gc1\": p.primer1.gc,\n",
    "            \"gc2\": p.primer2.gc,\n",
    "        }\n",
    "        for p in selected_candidates\n",
    "    ]\n",
    ")"
   ]
  },
  {
   "cell_type": "code",
   "execution_count": null,
   "id": "c6fb7136-9833-476c-88c8-99a17a324cd3",
   "metadata": {
    "tags": []
   },
   "outputs": [],
   "source": [
    "selected_candidates[3].primer2.mfe_homodimer"
   ]
  },
  {
   "cell_type": "code",
   "execution_count": null,
   "id": "a616d2e8-caea-4977-ae69-1a3086a2d911",
   "metadata": {
    "tags": []
   },
   "outputs": [],
   "source": [
    "selected_candidates[0].primer1.seq"
   ]
  },
  {
   "cell_type": "code",
   "execution_count": null,
   "id": "77c6ad42-c3c3-4849-a070-d6f97e82dc68",
   "metadata": {
    "tags": []
   },
   "outputs": [],
   "source": [
    "selected_candidates[0].primer2.seq"
   ]
  },
  {
   "cell_type": "code",
   "execution_count": null,
   "id": "127e304d-44fc-4ce0-a15c-794d8acf328b",
   "metadata": {
    "tags": []
   },
   "outputs": [],
   "source": [
    "for idx, p in enumerate(selected_candidates, 2):\n",
    "    upstream_part_seq = f\"{p.primer1.seq}{seq_1a}\"\n",
    "    downstream_part_seq = f\"{seq_2e}{reverse_complement(p.primer2.seq)}\"\n",
    "    print(f\"RAND{idx}_JUNCT_1A_top\\t{upstream_part_seq}\")\n",
    "    print(f\"RAND{idx}_JUNCT_1A_bottom\\t{reverse_complement(upstream_part_seq)}\")\n",
    "    print(f\"RAND{idx}_JUNCT_2E_top\\t{downstream_part_seq}\")\n",
    "    print(f\"RAND{idx}_JUNCT_2E_bottom\\t{reverse_complement(downstream_part_seq)}\")"
   ]
  },
  {
   "cell_type": "code",
   "execution_count": null,
   "id": "9e652c8a-018a-4326-ae38-485d816583a0",
   "metadata": {
    "tags": []
   },
   "outputs": [],
   "source": [
    "for idx, p in enumerate(selected_candidates, 2):\n",
    "    print(f\"RAND{idx}_JUNCT_1A_primer\\t{p.primer1.seq}\")\n",
    "    print(f\"RAND{idx}_JUNCT_2E_primer\\t{p.primer2.seq}\")"
   ]
  }
 ],
 "metadata": {
  "kernelspec": {
   "display_name": "Python 3 (ipykernel)",
   "language": "python",
   "name": "python3"
  },
  "language_info": {
   "codemirror_mode": {
    "name": "ipython",
    "version": 3
   },
   "file_extension": ".py",
   "mimetype": "text/x-python",
   "name": "python",
   "nbconvert_exporter": "python",
   "pygments_lexer": "ipython3",
   "version": "3.9.16"
  }
 },
 "nbformat": 4,
 "nbformat_minor": 5
}
