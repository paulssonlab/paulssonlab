{
 "cells": [
  {
   "cell_type": "code",
   "execution_count": null,
   "id": "0",
   "metadata": {},
   "outputs": [],
   "source": [
    "import re\n",
    "\n",
    "import Bio.Restriction as Restriction\n",
    "import pandas as pd\n",
    "import pygsheets\n",
    "import requests\n",
    "import toml\n",
    "from Bio.Seq import Seq\n",
    "from Bio.SeqRecord import SeqRecord"
   ]
  },
  {
   "cell_type": "code",
   "execution_count": null,
   "id": "1",
   "metadata": {},
   "outputs": [],
   "source": [
    "%load_ext autoreload\n",
    "%autoreload 2"
   ]
  },
  {
   "cell_type": "code",
   "execution_count": null,
   "id": "2",
   "metadata": {},
   "outputs": [],
   "source": [
    "import paulssonlab.api.geneious as geneious\n",
    "import paulssonlab.cloning.enzyme as enzyme\n",
    "import paulssonlab.cloning.registry as registry\n",
    "import paulssonlab.cloning.sequence as sequence\n",
    "import paulssonlab.cloning.workflow as workflow"
   ]
  },
  {
   "cell_type": "markdown",
   "id": "3",
   "metadata": {},
   "source": [
    "# Setup"
   ]
  },
  {
   "cell_type": "code",
   "execution_count": null,
   "id": "4",
   "metadata": {},
   "outputs": [],
   "source": [
    "config = toml.load(\"config.toml\")"
   ]
  },
  {
   "cell_type": "code",
   "execution_count": null,
   "id": "5",
   "metadata": {},
   "outputs": [],
   "source": [
    "gc = pygsheets.authorize(service_account_file=\"credentials.json\")"
   ]
  },
  {
   "cell_type": "code",
   "execution_count": null,
   "id": "6",
   "metadata": {},
   "outputs": [],
   "source": [
    "reg = registry.Registry(gc, config[\"registry\"][\"folder\"])"
   ]
  },
  {
   "cell_type": "markdown",
   "id": "7",
   "metadata": {},
   "source": [
    "# Config"
   ]
  },
  {
   "cell_type": "code",
   "execution_count": null,
   "id": "8",
   "metadata": {},
   "outputs": [],
   "source": [
    "olib_oligos = reg[(\"oLIB\", \"oligos\")]\n",
    "olt_oligos = reg[(\"oLT\", \"oligos\")]\n",
    "plib_plasmids = reg[(\"pLIB\", \"plasmids\")]\n",
    "plib_maps = reg[(\"pLIB\", \"maps\")]\n",
    "flib_fragments = reg[(\"fLIB\", \"fragments\")]\n",
    "part_types = reg[(\"fLIB\", \"fragments\", \"Part types\")]"
   ]
  },
  {
   "cell_type": "markdown",
   "id": "9",
   "metadata": {},
   "source": [
    "# Digest test"
   ]
  },
  {
   "cell_type": "code",
   "execution_count": null,
   "id": "10",
   "metadata": {},
   "outputs": [],
   "source": [
    "len(reg.get(\"fLIB255\")[\"_seq\"])"
   ]
  },
  {
   "cell_type": "code",
   "execution_count": null,
   "id": "11",
   "metadata": {},
   "outputs": [],
   "source": [
    "s = reg.get(\"mKate2_nocut\")\n",
    "s"
   ]
  },
  {
   "cell_type": "code",
   "execution_count": null,
   "id": "12",
   "metadata": {},
   "outputs": [],
   "source": [
    "len(s[\"_seq\"])"
   ]
  },
  {
   "cell_type": "code",
   "execution_count": null,
   "id": "13",
   "metadata": {},
   "outputs": [],
   "source": [
    "s[\"_seq\"]"
   ]
  },
  {
   "cell_type": "code",
   "execution_count": null,
   "id": "14",
   "metadata": {},
   "outputs": [],
   "source": [
    "s = reg.get(\"pLIB112\")[\"_seq\"]"
   ]
  },
  {
   "cell_type": "code",
   "execution_count": null,
   "id": "15",
   "metadata": {},
   "outputs": [],
   "source": [
    "reg.eval_expr(\"pLIB112/AarI/BbsI\")"
   ]
  },
  {
   "cell_type": "markdown",
   "id": "16",
   "metadata": {},
   "source": [
    "# GG test"
   ]
  },
  {
   "cell_type": "code",
   "execution_count": null,
   "id": "17",
   "metadata": {},
   "outputs": [],
   "source": [
    "import random\n",
    "\n",
    "import networkx as nx"
   ]
  },
  {
   "cell_type": "code",
   "execution_count": null,
   "id": "18",
   "metadata": {},
   "outputs": [],
   "source": [
    "import paulssonlab.cloning.design as design"
   ]
  },
  {
   "cell_type": "code",
   "execution_count": null,
   "id": "19",
   "metadata": {},
   "outputs": [],
   "source": [
    "?design.golden_gate_placeholder"
   ]
  },
  {
   "cell_type": "code",
   "execution_count": null,
   "id": "20",
   "metadata": {},
   "outputs": [],
   "source": [
    "def _make_frag(overhang1, overhang2):\n",
    "    return enzyme.re_digest(\n",
    "        design.golden_gate_placeholder(\n",
    "            Restriction.BsaI, Restriction.BbsI, overhang1, overhang2\n",
    "        ),\n",
    "        Restriction.BbsI,\n",
    "    )[1]"
   ]
  },
  {
   "cell_type": "code",
   "execution_count": null,
   "id": "21",
   "metadata": {},
   "outputs": [],
   "source": [
    "test_set = [\n",
    "    _make_frag(\"aaaa\", \"gggg\"),\n",
    "    _make_frag(\"gggg\", \"aatt\"),\n",
    "    _make_frag(\"aatt\", \"ggcc\"),\n",
    "    _make_frag(\"ggcc\", \"gggg\"),\n",
    "    _make_frag(\"aaaa\", \"cccc\"),\n",
    "    # _make_frag(\"gggg\", \"cccc\"),\n",
    "]\n",
    "random.shuffle(test_set)"
   ]
  },
  {
   "cell_type": "code",
   "execution_count": null,
   "id": "22",
   "metadata": {},
   "outputs": [],
   "source": [
    "print(_make_frag(\"aaaa\", \"gggg\"))"
   ]
  },
  {
   "cell_type": "code",
   "execution_count": null,
   "id": "23",
   "metadata": {},
   "outputs": [],
   "source": [
    "sequence.assemble_circular(test_set)"
   ]
  },
  {
   "cell_type": "code",
   "execution_count": null,
   "id": "24",
   "metadata": {},
   "outputs": [],
   "source": [
    "g = sequence.assembly_graph(test_set, method=\"goldengate\")\n",
    "g.edges"
   ]
  },
  {
   "cell_type": "code",
   "execution_count": null,
   "id": "25",
   "metadata": {},
   "outputs": [],
   "source": [
    "nx.draw(g, with_labels=True)"
   ]
  },
  {
   "cell_type": "markdown",
   "id": "26",
   "metadata": {},
   "source": [
    "# Barcode GFA"
   ]
  },
  {
   "cell_type": "code",
   "execution_count": null,
   "id": "27",
   "metadata": {},
   "outputs": [],
   "source": [
    "\" + \".join(\n",
    "    [\n",
    "        \"barcode_bit{num}_on | barcode_bit{num}_on\".format(num=num)\n",
    "        for num in range(1, 31)\n",
    "    ]\n",
    ")"
   ]
  },
  {
   "cell_type": "code",
   "execution_count": null,
   "id": "28",
   "metadata": {},
   "outputs": [],
   "source": [
    "x = reg.get(\"barcode_bit1_on\")"
   ]
  },
  {
   "cell_type": "code",
   "execution_count": null,
   "id": "29",
   "metadata": {},
   "outputs": [],
   "source": [
    "x[\"_seq\"]"
   ]
  },
  {
   "cell_type": "code",
   "execution_count": null,
   "id": "30",
   "metadata": {},
   "outputs": [],
   "source": [
    "test_gfa = \"\"\"H\tVN:Z:1.0\n",
    "S\tlt631_fixed1\tAAAAAAAAAAAAAAAAAAAAAAAAAA\n",
    "S\tplac_rbs\tNNNNNNNN\n",
    "S\tlt631_fixed2\tAAAAAAAAAAAAAAAAAAAAAAAAAA\n",
    "S\tptet_rbs\tNNNNNNNN\n",
    "S\tlt631_fixed3\tAAAAAAAAAAAAAAAAAAAAAAAAAA\n",
    "S\tpl_rbs\tNNNNNNNN\n",
    "S\tlt631_fixed4\tAAAAAAAAAAAAAAAAAAAAAAAAAA\n",
    "S\tbarcode_bit0_off\tAGAGGAAAGGAGAAAGGTGAC\n",
    "S\tbarcode_bit0_on\tATAGGAAATGGTGGTAGTGTC\n",
    "S\tbarcode_bit1_off\tATAAGATGGAGAGTAGAGGGC\n",
    "S\tbarcode_bit1_on\tGGGTGGTTTAGTGTGTGTTTC\n",
    "S\tbarcode_bit2_off\tTATGATGGAGAGAGGAGGTTC\n",
    "S\tbarcode_bit2_on\tGGGATGTATTGAAGGAGGATC\n",
    "S\tbarcode_bit3_off\tAGGAGGAGGAATTATGGTGAC\n",
    "S\tbarcode_bit3_on\tAGTGTGGGATTGATGAGATAC\n",
    "S\tbarcode_bit4_off\tAGTGATGTGTGGAAGTTGGTC\n",
    "S\tbarcode_bit4_on\tAGAGTGAGTAGTAGTGGAGTC\n",
    "S\tbarcode_bit5_off\tTGGGTAGATAAGTAAGAGGGC\n",
    "S\tbarcode_bit5_on\tTGGGAGGATTGAGATGAGTTC\n",
    "S\tbarcode_bit6_off\tGAAGGTTGGAGAGAAGATGTC\n",
    "S\tbarcode_bit6_on\tTGAAAGGAATGGGTTGTGGTC\n",
    "S\tbarcode_bit7_off\tGTGAGAGAAGGAGGATGATAC\n",
    "S\tbarcode_bit7_on\tTGTGGTTTGGAGATGATAGAC\n",
    "S\tbarcode_bit8_off\tAGAGGGTGTAAGAGAAGAAGC\n",
    "S\tbarcode_bit8_on\tTGTGATGGAAGTTAGAGGGTC\n",
    "S\tbarcode_bit9_off\tATAGTGAAGTGAAGGTGGGAC\n",
    "S\tbarcode_bit9_on\tAGTTGAGGTGGGAGAGTATTC\n",
    "S\tbarcode_bit10_off\tGAGAGTTGTATGTTAGGGTGC\n",
    "S\tbarcode_bit10_on\tGGGTTGATTAGTGGTAGAAAC\n",
    "S\tbarcode_bit11_off\tGGAGGAGAGTGATGAAGTTTC\n",
    "S\tbarcode_bit11_on\tGAGATTAGAGATGAGTTGGAC\n",
    "S\tbarcode_bit12_off\tGTTGAGGAATGGTGGATTGAC\n",
    "S\tbarcode_bit12_on\tAGGTTAGGTTGAGAATAGGAC\n",
    "S\tbarcode_bit13_off\tAGGATGTGGGATGGGTTTTAC\n",
    "S\tbarcode_bit13_on\tGGGTAGTGGGAATGATTTATC\n",
    "S\tbarcode_bit14_off\tTGGTGGGATGGGTTGTTTAAC\n",
    "S\tbarcode_bit14_on\tAGGGTGTGTTTGTAAAGGGTC\n",
    "S\tbarcode_spacer1\tTAGCAATTACATAACAGATAC\n",
    "S\tbarcode_bit15_off\tGTGTTGTGTGTAGGGTTATGC\n",
    "S\tbarcode_bit15_on\tGGGATGTGATTTGTTAGGAAC\n",
    "S\tbarcode_bit16_off\tTTATTGGTGGGTGTAGAGAGC\n",
    "S\tbarcode_bit16_on\tTGTGGAGGGATTGAAGGATAC\n",
    "S\tbarcode_bit17_off\tGAAGAGAGTGGGTATGGAATC\n",
    "S\tbarcode_bit17_on\tGGATGTTATGAGTGTTGGGTC\n",
    "S\tbarcode_bit18_off\tAGGATTGTTGTTGGTAAGGGC\n",
    "S\tbarcode_bit18_on\tTTGGAGGTGTAGGGAGTAAAC\n",
    "S\tbarcode_bit19_off\tGGTTGTGGGTAATGAGTTGAC\n",
    "S\tbarcode_bit19_on\tTGGGATAGTATGTGGAAAGTC\n",
    "S\tbarcode_bit20_off\tTGAGGTTGTGGTTGGATATGC\n",
    "S\tbarcode_bit20_on\tGGGAGAATGAGGTGTAATGTC\n",
    "S\tbarcode_bit21_off\tATGGTAGTTGAGTGTGGTTGC\n",
    "S\tbarcode_bit21_on\tGGGATTATGGGTTTGTAGTAC\n",
    "S\tbarcode_bit22_off\tGAATGTTGGGAGTAGAAGGTC\n",
    "S\tbarcode_bit22_on\tTAGAGTTGATAGAGGGAGAAC\n",
    "S\tbarcode_bit23_off\tGTTGAAAGAGGATGAAGAGGC\n",
    "S\tbarcode_bit23_on\tGATGAAGATTGAGGGAAGAAC\n",
    "S\tbarcode_bit24_off\tAGGTGAGGTGTTTGTGAGTTC\n",
    "S\tbarcode_bit24_on\tGGAGTAGTTGGTTGTTAGGAC\n",
    "S\tbarcode_bit25_off\tAATTGGTGTGTGGTTTTGGGC\n",
    "S\tbarcode_bit25_on\tAGTTGGGTATGGAGAAAGGTC\n",
    "S\tbarcode_bit26_off\tAGGGTGAGAAGGATATGGATC\n",
    "S\tbarcode_bit26_on\tGATGATGTAGTAGTAAGGGTC\n",
    "S\tbarcode_bit27_off\tGGAATGAGGGTAGTTAAGAGC\n",
    "S\tbarcode_bit27_on\tGTGAAGTGGAAGGTGAGATTC\n",
    "S\tbarcode_bit28_off\tAGTTGGTGGGAAGAAGGAAAC\n",
    "S\tbarcode_bit28_on\tAGGAGGAGGGTAATGATAGAC\n",
    "S\tbarcode_bit29_off\tGAGATTGAAGTTGGTGGTTGC\n",
    "S\tbarcode_bit29_on\tTAGAGGGAGTAAGATGAGGAC\n",
    "S\tbarcode_spacer2\tATCACATTGCCATCAGTAAT\n",
    "L\tlt631_fixed1\t+\tplac_rbs\t+\t0M\n",
    "L\tplac_rbs\t+\tlt631_fixed2\t+\t0M\n",
    "L\tlt631_fixed2\t+\tptet_rbs\t+\t0M\n",
    "L\tptet_rbs\t+\tlt631_fixed3\t+\t0M\n",
    "L\tlt631_fixed3\t+\tpl_rbs\t+\t0M\n",
    "L\tpl_rbs\t+\tlt631_fixed4\t+\t0M\n",
    "L\tlt631_fixed4\t+\tbarcode_bit0_off\t+\t0M\n",
    "L\tlt631_fixed4\t+\tbarcode_bit0_on\t+\t0M\n",
    "L\tbarcode_bit0_off\t+\tbarcode_bit1_off\t+\t0M\n",
    "L\tbarcode_bit0_off\t+\tbarcode_bit1_on\t+\t0M\n",
    "L\tbarcode_bit0_on\t+\tbarcode_bit1_off\t+\t0M\n",
    "L\tbarcode_bit0_on\t+\tbarcode_bit1_on\t+\t0M\n",
    "L\tbarcode_bit1_off\t+\tbarcode_bit2_off\t+\t0M\n",
    "L\tbarcode_bit1_off\t+\tbarcode_bit2_on\t+\t0M\n",
    "L\tbarcode_bit1_on\t+\tbarcode_bit2_off\t+\t0M\n",
    "L\tbarcode_bit1_on\t+\tbarcode_bit2_on\t+\t0M\n",
    "L\tbarcode_bit2_off\t+\tbarcode_bit3_off\t+\t0M\n",
    "L\tbarcode_bit2_off\t+\tbarcode_bit3_on\t+\t0M\n",
    "L\tbarcode_bit2_on\t+\tbarcode_bit3_off\t+\t0M\n",
    "L\tbarcode_bit2_on\t+\tbarcode_bit3_on\t+\t0M\n",
    "L\tbarcode_bit3_off\t+\tbarcode_bit4_off\t+\t0M\n",
    "L\tbarcode_bit3_off\t+\tbarcode_bit4_on\t+\t0M\n",
    "L\tbarcode_bit3_on\t+\tbarcode_bit4_off\t+\t0M\n",
    "L\tbarcode_bit3_on\t+\tbarcode_bit4_on\t+\t0M\n",
    "L\tbarcode_bit4_off\t+\tbarcode_bit5_off\t+\t0M\n",
    "L\tbarcode_bit4_off\t+\tbarcode_bit5_on\t+\t0M\n",
    "L\tbarcode_bit4_on\t+\tbarcode_bit5_off\t+\t0M\n",
    "L\tbarcode_bit4_on\t+\tbarcode_bit5_on\t+\t0M\n",
    "L\tbarcode_bit5_off\t+\tbarcode_bit6_off\t+\t0M\n",
    "L\tbarcode_bit5_off\t+\tbarcode_bit6_on\t+\t0M\n",
    "L\tbarcode_bit5_on\t+\tbarcode_bit6_off\t+\t0M\n",
    "L\tbarcode_bit5_on\t+\tbarcode_bit6_on\t+\t0M\n",
    "L\tbarcode_bit6_off\t+\tbarcode_bit7_off\t+\t0M\n",
    "L\tbarcode_bit6_off\t+\tbarcode_bit7_on\t+\t0M\n",
    "L\tbarcode_bit6_on\t+\tbarcode_bit7_off\t+\t0M\n",
    "L\tbarcode_bit6_on\t+\tbarcode_bit7_on\t+\t0M\n",
    "L\tbarcode_bit7_off\t+\tbarcode_bit8_off\t+\t0M\n",
    "L\tbarcode_bit7_off\t+\tbarcode_bit8_on\t+\t0M\n",
    "L\tbarcode_bit7_on\t+\tbarcode_bit8_off\t+\t0M\n",
    "L\tbarcode_bit7_on\t+\tbarcode_bit8_on\t+\t0M\n",
    "L\tbarcode_bit8_off\t+\tbarcode_bit9_off\t+\t0M\n",
    "L\tbarcode_bit8_off\t+\tbarcode_bit9_on\t+\t0M\n",
    "L\tbarcode_bit8_on\t+\tbarcode_bit9_off\t+\t0M\n",
    "L\tbarcode_bit8_on\t+\tbarcode_bit9_on\t+\t0M\n",
    "L\tbarcode_bit9_off\t+\tbarcode_bit10_off\t+\t0M\n",
    "L\tbarcode_bit9_off\t+\tbarcode_bit10_on\t+\t0M\n",
    "L\tbarcode_bit9_on\t+\tbarcode_bit10_off\t+\t0M\n",
    "L\tbarcode_bit9_on\t+\tbarcode_bit10_on\t+\t0M\n",
    "L\tbarcode_bit10_off\t+\tbarcode_bit11_off\t+\t0M\n",
    "L\tbarcode_bit10_off\t+\tbarcode_bit11_on\t+\t0M\n",
    "L\tbarcode_bit10_on\t+\tbarcode_bit11_off\t+\t0M\n",
    "L\tbarcode_bit10_on\t+\tbarcode_bit11_on\t+\t0M\n",
    "L\tbarcode_bit11_off\t+\tbarcode_bit12_off\t+\t0M\n",
    "L\tbarcode_bit11_off\t+\tbarcode_bit12_on\t+\t0M\n",
    "L\tbarcode_bit11_on\t+\tbarcode_bit12_off\t+\t0M\n",
    "L\tbarcode_bit11_on\t+\tbarcode_bit12_on\t+\t0M\n",
    "L\tbarcode_bit12_off\t+\tbarcode_bit13_off\t+\t0M\n",
    "L\tbarcode_bit12_off\t+\tbarcode_bit13_on\t+\t0M\n",
    "L\tbarcode_bit12_on\t+\tbarcode_bit13_off\t+\t0M\n",
    "L\tbarcode_bit12_on\t+\tbarcode_bit13_on\t+\t0M\n",
    "L\tbarcode_bit13_off\t+\tbarcode_bit14_off\t+\t0M\n",
    "L\tbarcode_bit13_off\t+\tbarcode_bit14_on\t+\t0M\n",
    "L\tbarcode_bit13_on\t+\tbarcode_bit14_off\t+\t0M\n",
    "L\tbarcode_bit13_on\t+\tbarcode_bit14_on\t+\t0M\n",
    "L\tbarcode_bit14_off\t+\tbarcode_spacer1\t+\t0M\n",
    "L\tbarcode_bit14_on\t+\tbarcode_spacer1\t+\t0M\n",
    "L\tbarcode_spacer1\t+\tbarcode_bit15_off\t+\t0M\n",
    "L\tbarcode_spacer1\t+\tbarcode_bit15_on\t+\t0M\n",
    "L\tbarcode_bit15_off\t+\tbarcode_bit16_off\t+\t0M\n",
    "L\tbarcode_bit15_off\t+\tbarcode_bit16_on\t+\t0M\n",
    "L\tbarcode_bit15_on\t+\tbarcode_bit16_off\t+\t0M\n",
    "L\tbarcode_bit15_on\t+\tbarcode_bit16_on\t+\t0M\n",
    "L\tbarcode_bit16_off\t+\tbarcode_bit17_off\t+\t0M\n",
    "L\tbarcode_bit16_off\t+\tbarcode_bit17_on\t+\t0M\n",
    "L\tbarcode_bit16_on\t+\tbarcode_bit17_off\t+\t0M\n",
    "L\tbarcode_bit16_on\t+\tbarcode_bit17_on\t+\t0M\n",
    "L\tbarcode_bit17_off\t+\tbarcode_bit18_off\t+\t0M\n",
    "L\tbarcode_bit17_off\t+\tbarcode_bit18_on\t+\t0M\n",
    "L\tbarcode_bit17_on\t+\tbarcode_bit18_off\t+\t0M\n",
    "L\tbarcode_bit17_on\t+\tbarcode_bit18_on\t+\t0M\n",
    "L\tbarcode_bit18_off\t+\tbarcode_bit19_off\t+\t0M\n",
    "L\tbarcode_bit18_off\t+\tbarcode_bit19_on\t+\t0M\n",
    "L\tbarcode_bit18_on\t+\tbarcode_bit19_off\t+\t0M\n",
    "L\tbarcode_bit18_on\t+\tbarcode_bit19_on\t+\t0M\n",
    "L\tbarcode_bit19_off\t+\tbarcode_bit20_off\t+\t0M\n",
    "L\tbarcode_bit19_off\t+\tbarcode_bit20_on\t+\t0M\n",
    "L\tbarcode_bit19_on\t+\tbarcode_bit20_off\t+\t0M\n",
    "L\tbarcode_bit19_on\t+\tbarcode_bit20_on\t+\t0M\n",
    "L\tbarcode_bit20_off\t+\tbarcode_bit21_off\t+\t0M\n",
    "L\tbarcode_bit20_off\t+\tbarcode_bit21_on\t+\t0M\n",
    "L\tbarcode_bit20_on\t+\tbarcode_bit21_off\t+\t0M\n",
    "L\tbarcode_bit20_on\t+\tbarcode_bit21_on\t+\t0M\n",
    "L\tbarcode_bit21_off\t+\tbarcode_bit22_off\t+\t0M\n",
    "L\tbarcode_bit21_off\t+\tbarcode_bit22_on\t+\t0M\n",
    "L\tbarcode_bit21_on\t+\tbarcode_bit22_off\t+\t0M\n",
    "L\tbarcode_bit21_on\t+\tbarcode_bit22_on\t+\t0M\n",
    "L\tbarcode_bit22_off\t+\tbarcode_bit23_off\t+\t0M\n",
    "L\tbarcode_bit22_off\t+\tbarcode_bit23_on\t+\t0M\n",
    "L\tbarcode_bit22_on\t+\tbarcode_bit23_off\t+\t0M\n",
    "L\tbarcode_bit22_on\t+\tbarcode_bit23_on\t+\t0M\n",
    "L\tbarcode_bit23_off\t+\tbarcode_bit24_off\t+\t0M\n",
    "L\tbarcode_bit23_off\t+\tbarcode_bit24_on\t+\t0M\n",
    "L\tbarcode_bit23_on\t+\tbarcode_bit24_off\t+\t0M\n",
    "L\tbarcode_bit23_on\t+\tbarcode_bit24_on\t+\t0M\n",
    "L\tbarcode_bit24_off\t+\tbarcode_bit25_off\t+\t0M\n",
    "L\tbarcode_bit24_off\t+\tbarcode_bit25_on\t+\t0M\n",
    "L\tbarcode_bit24_on\t+\tbarcode_bit25_off\t+\t0M\n",
    "L\tbarcode_bit24_on\t+\tbarcode_bit25_on\t+\t0M\n",
    "L\tbarcode_bit25_off\t+\tbarcode_bit26_off\t+\t0M\n",
    "L\tbarcode_bit25_off\t+\tbarcode_bit26_on\t+\t0M\n",
    "L\tbarcode_bit25_on\t+\tbarcode_bit26_off\t+\t0M\n",
    "L\tbarcode_bit25_on\t+\tbarcode_bit26_on\t+\t0M\n",
    "L\tbarcode_bit26_off\t+\tbarcode_bit27_off\t+\t0M\n",
    "L\tbarcode_bit26_off\t+\tbarcode_bit27_on\t+\t0M\n",
    "L\tbarcode_bit26_on\t+\tbarcode_bit27_off\t+\t0M\n",
    "L\tbarcode_bit26_on\t+\tbarcode_bit27_on\t+\t0M\n",
    "L\tbarcode_bit27_off\t+\tbarcode_bit28_off\t+\t0M\n",
    "L\tbarcode_bit27_off\t+\tbarcode_bit28_on\t+\t0M\n",
    "L\tbarcode_bit27_on\t+\tbarcode_bit28_off\t+\t0M\n",
    "L\tbarcode_bit27_on\t+\tbarcode_bit28_on\t+\t0M\n",
    "L\tbarcode_bit28_off\t+\tbarcode_bit29_off\t+\t0M\n",
    "L\tbarcode_bit28_off\t+\tbarcode_bit29_on\t+\t0M\n",
    "L\tbarcode_bit28_on\t+\tbarcode_bit29_off\t+\t0M\n",
    "L\tbarcode_bit28_on\t+\tbarcode_bit29_on\t+\t0M\n",
    "L\tbarcode_bit29_off\t+\tbarcode_spacer2\t+\t0M\n",
    "L\tbarcode_bit29_on\t+\tbarcode_spacer2\t+\t0M\"\"\""
   ]
  },
  {
   "cell_type": "code",
   "execution_count": null,
   "id": "31",
   "metadata": {},
   "outputs": [],
   "source": [
    "import gfapy"
   ]
  },
  {
   "cell_type": "code",
   "execution_count": null,
   "id": "32",
   "metadata": {},
   "outputs": [],
   "source": [
    "g = gfapy.Gfa(test_gfa)"
   ]
  },
  {
   "cell_type": "code",
   "execution_count": null,
   "id": "33",
   "metadata": {},
   "outputs": [],
   "source": [
    "s = g.segments[0]"
   ]
  },
  {
   "cell_type": "code",
   "execution_count": null,
   "id": "34",
   "metadata": {},
   "outputs": [],
   "source": [
    "??s.dovetails"
   ]
  },
  {
   "cell_type": "code",
   "execution_count": null,
   "id": "35",
   "metadata": {},
   "outputs": [],
   "source": [
    "Seq"
   ]
  },
  {
   "cell_type": "code",
   "execution_count": null,
   "id": "36",
   "metadata": {},
   "outputs": [],
   "source": [
    "\"abc\"[-4]"
   ]
  },
  {
   "cell_type": "code",
   "execution_count": null,
   "id": "37",
   "metadata": {},
   "outputs": [],
   "source": [
    "x = slice(-1, -3, -1)"
   ]
  },
  {
   "cell_type": "code",
   "execution_count": null,
   "id": "38",
   "metadata": {},
   "outputs": [],
   "source": [
    "x.indices(3)"
   ]
  },
  {
   "cell_type": "code",
   "execution_count": null,
   "id": "39",
   "metadata": {},
   "outputs": [],
   "source": [
    "?x.indices"
   ]
  },
  {
   "cell_type": "code",
   "execution_count": null,
   "id": "40",
   "metadata": {},
   "outputs": [],
   "source": [
    "# gibson (good)\n",
    "# re_digest/re.match (special case?)\n",
    "# parasail, etc.\n",
    "\n",
    "\n",
    "class VariableSeq:\n",
    "    def __init__(self, seqs, name=None, upstream=None, downstream=None):\n",
    "        if isinstance(seqs, Mapping):\n",
    "            pass\n",
    "        elif isinstance(seqs, Iterable):\n",
    "            pass\n",
    "        elif isinstance(seqs, (str, Seq)):\n",
    "            if not name:\n",
    "                raise ValueError(\"name is required if list of sequences is given\")\n",
    "            self.__init__(\n",
    "                self,\n",
    "                {f\"{name}.{idx}\": seq for idx, seq in enumerate(seqs)},\n",
    "                upstream=upstream,\n",
    "                downstream=downstream,\n",
    "            )\n",
    "        else:\n",
    "            raise ValueError(\n",
    "                \"seqs must be a mapping from names to sequences or a list of sequences\"\n",
    "            )\n",
    "\n",
    "    @classmethod\n",
    "    def from_seqs(cls, seqs):\n",
    "        pass\n",
    "\n",
    "    def squeeze():\n",
    "        pass\n",
    "\n",
    "    def __getitem__(self, slice_):\n",
    "        if isinstance(slice_, Integral):\n",
    "            if 0 <= slice_:\n",
    "                if slice_ < len(self.upstream):\n",
    "                    return self.upstream[slice_]\n",
    "                else:\n",
    "                    raise IndexError(\n",
    "                        f\"index {slice_} is out of range for upstream consensus (length {len(self.upstream)})\"\n",
    "                    )\n",
    "            elif slice_ < 0:\n",
    "                if -slice_ - 1 < len(self.upstream):\n",
    "                    return self.downstream[slice_]\n",
    "                else:\n",
    "                    raise IndexError(\n",
    "                        f\"index {slice_} is out of range for downstream consensus (length {len(self.downstream)})\"\n",
    "                    )\n",
    "        elif isinstance(slice_, slice):\n",
    "            pass\n",
    "        else:\n",
    "            pass\n",
    "\n",
    "    def min_variable_length(self):\n",
    "        return min(len(seq) for seq in self.seqs)\n",
    "\n",
    "    def min_length(self):\n",
    "        return len(upstream) + self.min_variable_length() + len(downstream)\n",
    "\n",
    "    def max_variable_length(self):\n",
    "        return max(len(seq) for seq in self.seqs)\n",
    "\n",
    "    def max_length(self):\n",
    "        return len(upstream) + self.max_variable_length() + len(downstream)\n",
    "\n",
    "    # def __len__(self):\n",
    "    #     return self.max_length()"
   ]
  },
  {
   "cell_type": "code",
   "execution_count": null,
   "id": "41",
   "metadata": {},
   "outputs": [],
   "source": [
    "# DsSeqRecord methods depending on self.seq\n",
    "# ds_length: len(self.seq)\n",
    "# upstream_overhang_seq: self.seq_lower()[: abs(self.upstream_overhang)]\n",
    "# seq_lower: str(self.seq).lower()\n",
    "# __getitem__: self.seq[index: int]\n",
    "# __add__: self.can_ligate(other) THEN self.__class__(self.seq + other.seq, ...)\n",
    "# __str__: str(self.seq), str(self.seq.complement())\n",
    "\n",
    "# upstream_overhang_seq: self.seq_lower()[: abs(self.upstream_overhang)]\n",
    "# downstream_overhang_seq: self.seq_lower()[len(self) - abs(self.downstream_overhang) : len(self)]\n",
    "\n",
    "### LOOK AT GIBSON/GG\n",
    "\n",
    "# circular/noncircular\n",
    "# desiderata:\n",
    "# drop-in replacement for SeqRecord/DsSeqRecord (?)\n",
    "# fasta/gb export\n",
    "# for GG/gibson: hhh\n",
    "\n",
    "# from_gfa\n",
    "# to_gfa\n",
    "\n",
    "# __or__ (|) [also implement for DsSeqRecord]\n",
    "# max_length, min_length\n",
    "# __len__ raises error or returns None if lengths not equal?\n",
    "# slicing\n",
    "# __add__, __radd__\n",
    "# ligation check\n",
    "# overhangs\n",
    "\n",
    "\n",
    "class VariableSeqRecord(sequence.DsSeqRecord):\n",
    "    def __getitem__(self, index):\n",
    "        pass\n",
    "\n",
    "    def __add__(self, other):\n",
    "        pass\n",
    "\n",
    "    def __str__(self):\n",
    "        pass\n",
    "\n",
    "\n",
    "class VariableSeq:\n",
    "    def __init__(self, seqs):\n",
    "        pass\n",
    "\n",
    "    def from_gfa():\n",
    "        pass\n",
    "\n",
    "    def to_gfa():\n",
    "        pass\n",
    "\n",
    "    def squeeze():\n",
    "        pass\n",
    "\n",
    "\n",
    "class GraphSeq:\n",
    "    def __init__(self):\n",
    "        pass\n",
    "\n",
    "    @classmethod\n",
    "    def from_gfa(gfa):\n",
    "        self.seqs = {}\n",
    "\n",
    "    def to_gfa():\n",
    "        pass"
   ]
  }
 ],
 "metadata": {
  "kernelspec": {
   "display_name": "Python 3 (ipykernel)",
   "language": "python",
   "name": "python3"
  },
  "language_info": {
   "codemirror_mode": {
    "name": "ipython",
    "version": 3
   },
   "file_extension": ".py",
   "mimetype": "text/x-python",
   "name": "python",
   "nbconvert_exporter": "python",
   "pygments_lexer": "ipython3",
   "version": "3.9.16"
  }
 },
 "nbformat": 4,
 "nbformat_minor": 4
}
