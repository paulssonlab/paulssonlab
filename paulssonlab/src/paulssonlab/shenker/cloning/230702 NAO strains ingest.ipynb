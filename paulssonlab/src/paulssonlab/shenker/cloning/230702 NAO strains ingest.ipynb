{
 "cells": [
  {
   "cell_type": "code",
   "execution_count": null,
   "id": "0",
   "metadata": {},
   "outputs": [],
   "source": [
    "import re\n",
    "\n",
    "import Bio.Restriction as Restriction\n",
    "import pandas as pd\n",
    "import pygsheets\n",
    "import requests\n",
    "import toml\n",
    "from Bio.Seq import Seq\n",
    "from Bio.SeqRecord import SeqRecord\n",
    "from cytoolz import partial\n",
    "from tqdm.auto import tqdm"
   ]
  },
  {
   "cell_type": "code",
   "execution_count": null,
   "id": "1",
   "metadata": {},
   "outputs": [],
   "source": [
    "%load_ext autoreload\n",
    "%autoreload 2"
   ]
  },
  {
   "cell_type": "code",
   "execution_count": null,
   "id": "2",
   "metadata": {},
   "outputs": [],
   "source": [
    "!pip install -U --no-deps primer3plus"
   ]
  },
  {
   "cell_type": "code",
   "execution_count": null,
   "id": "3",
   "metadata": {},
   "outputs": [],
   "source": [
    "import paulssonlab.api as api\n",
    "import paulssonlab.api.geneious as geneious\n",
    "import paulssonlab.cloning.commands.parser as cmd_parser\n",
    "import paulssonlab.cloning.commands.semantics as cmd_semantics\n",
    "import paulssonlab.cloning.design as design\n",
    "import paulssonlab.cloning.enzyme as enzyme\n",
    "import paulssonlab.cloning.registry as registry\n",
    "import paulssonlab.cloning.sequence as sequence\n",
    "import paulssonlab.cloning.workflow as workflow"
   ]
  },
  {
   "cell_type": "markdown",
   "id": "4",
   "metadata": {},
   "source": [
    "# Setup"
   ]
  },
  {
   "cell_type": "code",
   "execution_count": null,
   "id": "5",
   "metadata": {},
   "outputs": [],
   "source": [
    "config = toml.load(\"config.toml\")"
   ]
  },
  {
   "cell_type": "code",
   "execution_count": null,
   "id": "6",
   "metadata": {},
   "outputs": [],
   "source": [
    "gc = pygsheets.authorize(service_account_file=\"credentials.json\")"
   ]
  },
  {
   "cell_type": "code",
   "execution_count": null,
   "id": "7",
   "metadata": {},
   "outputs": [],
   "source": [
    "reg = registry.Registry(gc, config[\"registry\"][\"folder\"])"
   ]
  },
  {
   "cell_type": "markdown",
   "id": "8",
   "metadata": {},
   "source": [
    "# Config"
   ]
  },
  {
   "cell_type": "code",
   "execution_count": null,
   "id": "9",
   "metadata": {},
   "outputs": [],
   "source": [
    "olib_oligos = reg[(\"oLIB\", \"oligos\")]\n",
    "olt_oligos = reg[(\"oLT\", \"oligos\")]\n",
    "plib_plasmids = reg[(\"pLIB\", \"plasmids\")]\n",
    "plib_maps = reg[(\"pLIB\", \"maps\")]\n",
    "flib_fragments = reg[(\"fLIB\", \"fragments\")]\n",
    "part_types = reg[(\"fLIB\", \"fragments\", \"Part types\")]"
   ]
  },
  {
   "cell_type": "markdown",
   "id": "10",
   "metadata": {
    "jp-MarkdownHeadingCollapsed": true,
    "tags": []
   },
   "source": [
    "# Ingest missing parts"
   ]
  },
  {
   "cell_type": "markdown",
   "id": "11",
   "metadata": {},
   "source": [
    "## Double Terminators"
   ]
  },
  {
   "cell_type": "code",
   "execution_count": null,
   "id": "12",
   "metadata": {},
   "outputs": [],
   "source": [
    "def ingest_part(id_, base_row, storage_vector_id, storage_enzyme):\n",
    "    name = flib_fragments[id_][\"Name\"]\n",
    "    # this correctly prefers the annealed version of Voigt_DT100 (gBlock was bad)\n",
    "    oligo_row = olt_oligos.find({\"Name\": f\"{name}_sense\"})\n",
    "    if oligo_row is None:\n",
    "        oligo_row = olt_oligos.find({\"Name\": name})\n",
    "    if oligo_row is None:\n",
    "        raise ValueError(f\"cannot find oligo for '{name}'\")\n",
    "    plasmid_id = plib_plasmids.find_id({\"Names\": name})\n",
    "    if plasmid_id is None:\n",
    "        raise ValueError(f\"cannot find plasmid for '{name}'\")\n",
    "    usage = f\"{plasmid_id}/{part_enzyme}\"\n",
    "    if oligo_row[\"Name\"].endswith(\"_sense\"):\n",
    "        storage_usage = \"{}={}\".format(\n",
    "            oligo_row[\"ID\"],\n",
    "            olt_oligos.find_id({\"Name\": f\"{name}_antisense\"}),\n",
    "        )\n",
    "    else:\n",
    "        storage_usage = oligo_row[\"ID\"]\n",
    "    usage += f\",{storage_usage}/{part_enzyme}\"\n",
    "    seq = workflow.re_digest_part(oligo_row[\"Sequence\"], part_enzyme)\n",
    "    flib_fragments[id_] = {\n",
    "        **base_row,\n",
    "        \"Name\": name,\n",
    "        \"Usage\": usage,\n",
    "        \"Sequence\": seq.seq_lower(),\n",
    "    }\n",
    "    command = (\n",
    "        f\"@GG({storage_usage}/{storage_enzyme}, {storage_vector_id}/{storage_enzyme})\"\n",
    "    )\n",
    "    plib_plasmids.upsert(\n",
    "        {\"ID\": plasmid_id, \"Description\": base_row[\"Description\"], \"Command\": command}\n",
    "    )\n",
    "    plasmid_seq = reg.eval_command(command)[\"_seq\"]\n",
    "    plib_maps[plasmid_id] = plasmid_seq"
   ]
  },
  {
   "cell_type": "code",
   "execution_count": null,
   "id": "13",
   "metadata": {},
   "outputs": [],
   "source": [
    "double_terminators = [\n",
    "    id_ for id_, row in flib_fragments.items() if row[\"Name\"].startswith(\"Voigt_DT\")\n",
    "]"
   ]
  },
  {
   "cell_type": "code",
   "execution_count": null,
   "id": "14",
   "metadata": {},
   "outputs": [],
   "source": [
    "part_type = \"Terminator_DE\"\n",
    "overhangs = workflow.overhangs_for(part_types[part_type])\n",
    "part_enzyme = Restriction.BsaI\n",
    "storage_enzyme = Restriction.BsmBI\n",
    "storage_vector_id = \"pLIB112\"\n",
    "\n",
    "base_row = {\n",
    "    \"Upstream overhang\": overhangs[0],\n",
    "    \"Downstream overhang\": overhangs[1],\n",
    "    \"Type\": part_type,\n",
    "    \"Author\": \"Jacob Quinn Shenker\",\n",
    "    \"Date\": workflow.date(),\n",
    "    \"Species/codon usage\": \"E. coli\",\n",
    "    \"Description\": \"Voigt strong double terminator\",\n",
    "    \"Reference\": \"Park, Y., Espah Borujeni, A., Gorochowski, T.E., Shin, J. and Voigt, C.A., 2020. P recision design of stable genetic circuits carried in highly‐insulated E. coli genomic landing pads. Molecular systems biology, 16(8), p.e9584.\",\n",
    "}"
   ]
  },
  {
   "cell_type": "code",
   "execution_count": null,
   "id": "15",
   "metadata": {},
   "outputs": [],
   "source": [
    "for id_ in double_terminators:\n",
    "    ingest_part(id_, base_row, storage_vector_id, storage_enzyme)"
   ]
  },
  {
   "cell_type": "markdown",
   "id": "16",
   "metadata": {},
   "source": [
    "## RiboJs"
   ]
  },
  {
   "cell_type": "code",
   "execution_count": null,
   "id": "17",
   "metadata": {},
   "outputs": [],
   "source": [
    "part_type = \"5UTR_1\"\n",
    "overhangs = workflow.overhangs_for(part_types[part_type])\n",
    "part_enzyme = Restriction.BsaI\n",
    "storage_enzyme = Restriction.BsmBI\n",
    "storage_vector_id = \"pLIB112\"\n",
    "\n",
    "base_row = {\n",
    "    \"Upstream overhang\": overhangs[0],\n",
    "    \"Downstream overhang\": overhangs[1],\n",
    "    \"Type\": part_type,\n",
    "    \"Author\": \"Jacob Quinn Shenker\",\n",
    "    \"Date\": workflow.date(),\n",
    "    \"Species/codon usage\": \"E. coli\",\n",
    "    \"Description\": \"Voigt ribozyme insulator\",\n",
    "    \"Reference\": \"Nielsen, A.A., Der, B.S., Shin, J., Vaidyanathan, P., Paralanov, V., Strychalski, E.A., Ross, D., Densmore, D. and Voigt, C.A., 2016. Genetic circuit design automation. Science, 352(6281), p.aac7341.\",\n",
    "}"
   ]
  },
  {
   "cell_type": "code",
   "execution_count": null,
   "id": "18",
   "metadata": {},
   "outputs": [],
   "source": [
    "for id_ in [f\"fLIB{n}\" for n in range(325, 341)]:\n",
    "    ingest_part(id_, base_row, storage_vector_id, storage_enzyme)"
   ]
  },
  {
   "cell_type": "code",
   "execution_count": null,
   "id": "19",
   "metadata": {},
   "outputs": [],
   "source": [
    "flib_fragments.commit()"
   ]
  },
  {
   "cell_type": "code",
   "execution_count": null,
   "id": "20",
   "metadata": {},
   "outputs": [],
   "source": [
    "plib_plasmids.commit()"
   ]
  },
  {
   "cell_type": "code",
   "execution_count": null,
   "id": "21",
   "metadata": {},
   "outputs": [],
   "source": [
    "plib_maps.commit()"
   ]
  },
  {
   "cell_type": "markdown",
   "id": "22",
   "metadata": {},
   "source": [
    "# NAO strains"
   ]
  },
  {
   "cell_type": "code",
   "execution_count": null,
   "id": "23",
   "metadata": {},
   "outputs": [],
   "source": [
    "nao_sheets = gc.open_by_key(\"1nuEeeEwU4Rj4HFjwCWKi6P9sapH2-mPDf4XSDQBiptk\")\n",
    "tus_sheet = nao_sheets.worksheet(value=0)\n",
    "strains_sheet = nao_sheets.worksheet(value=2)\n",
    "tus = tus_sheet.get_as_df().set_index(\"tLIB number\")\n",
    "strains = strains_sheet.get_as_df()"
   ]
  },
  {
   "cell_type": "code",
   "execution_count": null,
   "id": "24",
   "metadata": {},
   "outputs": [],
   "source": [
    "flib_fragments_df = reg[(\"fLIB\", \"fragments\")].remote\n",
    "plib_plasmids_df = reg[(\"pLIB\", \"plasmids\")].remote\n",
    "lib_strains_df = reg[(\"LIB\", \"strains\")].remote"
   ]
  },
  {
   "cell_type": "code",
   "execution_count": null,
   "id": "25",
   "metadata": {},
   "outputs": [],
   "source": [
    "plasmid_wells = lib_strains_df[lib_strains_df[\"Names\"].str.len() != 0]\n",
    "plasmid_wells = plasmid_wells[plasmid_wells[\"Reference\"].str.startswith(\"Halleran\")]\n",
    "plasmid_wells = plasmid_wells[[\"Plasmids\", \"Other Notes\"]]\n",
    "plasmid_wells[\"Well\"] = plasmid_wells[\"Other Notes\"].map(\n",
    "    lambda s: next(iter(re.findall(r\"Well: ([A-Z0-9]+)\", s)), None)\n",
    ")\n",
    "plasmid_wells = plasmid_wells[~plasmid_wells[\"Well\"].isnull()]"
   ]
  },
  {
   "cell_type": "code",
   "execution_count": null,
   "id": "26",
   "metadata": {},
   "outputs": [],
   "source": [
    "well_to_plasmid = dict(plasmid_wells[[\"Plasmids\", \"Well\"]].values[:, ::-1])"
   ]
  },
  {
   "cell_type": "code",
   "execution_count": null,
   "id": "27",
   "metadata": {},
   "outputs": [],
   "source": [
    "name_case_corrections = [\"PsigW\", \"sigW\", \"rsiW\"]\n",
    "name_corrections = {\n",
    "    \"SCFP3A\": \"SCFP3A_nocut\",\n",
    "    \"mKate2\": \"mKate2_nocut\",\n",
    "    \"mVenus\": \"mVenus_nocut\",\n",
    "}\n",
    "for dt_num in (5, 54, 100, 101, 104, 3, 56, 60):\n",
    "    name_corrections[f\"DT{dt_num}\"] = f\"Voigt_DT{dt_num}\"\n",
    "name_corrections = {\n",
    "    **{k.lower(): k for k in name_case_corrections},\n",
    "    **{k.lower(): v for k, v in name_corrections.items()},\n",
    "}"
   ]
  },
  {
   "cell_type": "code",
   "execution_count": null,
   "id": "28",
   "metadata": {},
   "outputs": [],
   "source": [
    "# @cache\n",
    "def _resolve_nao_part(reg, parts_sheet, well_to_plasmid, name_corrections, name):\n",
    "    # LIB number: LIB262\n",
    "    if name.startswith(\"LIB\"):\n",
    "        strain = reg.get(name)\n",
    "        plasmids = re.split(r\"\\s*,\\s*\", strain[\"Plasmids\"])\n",
    "        if len(plasmids) != 1:\n",
    "            raise ValueError(\n",
    "                f\"expecting a single plasmid for strain {name}: {plasmids}\"\n",
    "            )\n",
    "        plasmid = plasmids[0]\n",
    "        return _resolve_nao_part(\n",
    "            reg, parts_sheet, well_to_plasmid, name_corrections, plasmid\n",
    "        )\n",
    "    elif name.startswith(\"pLIB\"):\n",
    "        parts_using_plasmid = parts_sheet[\"Usage\"].str.contains(f\"{name}/\")\n",
    "        if (num_parts := parts_using_plasmid.sum()) != 1:\n",
    "            raise ValueError(\n",
    "                f\"expecting a single part that uses plasmid {name}, found {num_parts}\"\n",
    "            )\n",
    "        part_name = parts_sheet[parts_using_plasmid].iloc[0][\"Name\"]\n",
    "        return part_name\n",
    "    # pLIB number: 199\n",
    "    elif name.isdigit():  # isdigit isn't robust, but fine for this\n",
    "        return _resolve_nao_part(\n",
    "            reg, parts_sheet, well_to_plasmid, name_corrections, f\"pLIB{name}\"\n",
    "        )\n",
    "    # well number: A11\n",
    "    elif re.match(r\"(1|2)?[A-H][0-9]{1,2}b?\", name):\n",
    "        well = name\n",
    "        if well[-1] == \"b\":\n",
    "            well = f\"2{well[:-1]}\"\n",
    "        if well[0] not in (\"1\", \"2\"):\n",
    "            well = f\"1{well}\"\n",
    "        plasmid = well_to_plasmid[well]\n",
    "        return _resolve_nao_part(\n",
    "            reg, parts_sheet, well_to_plasmid, name_corrections, plasmid\n",
    "        )\n",
    "    # part capitalization: Psigw -> PsigW, SigW -> sigW\n",
    "    elif name.lower() in name_corrections:\n",
    "        return name_corrections[name.lower()]\n",
    "    # part\n",
    "    return name\n",
    "\n",
    "\n",
    "# @cache\n",
    "def _parse_nao_part(reg, parts_sheet, well_to_plasmid, name_corrections, name):\n",
    "    name = str(name)  # numbers may be parsed as ints\n",
    "    names = [re.sub(r\"\\s*\\([^)]*\\)\\s*\", \"\", n) for n in re.split(r\"\\s*\\+\\s*\", name)]\n",
    "    return [\n",
    "        _resolve_nao_part(reg, parts_sheet, well_to_plasmid, name_corrections, n)\n",
    "        for n in names\n",
    "    ]\n",
    "\n",
    "\n",
    "parse_nao_part = partial(\n",
    "    _parse_nao_part, reg, flib_fragments_df, well_to_plasmid, name_corrections\n",
    ")\n",
    "\n",
    "\n",
    "def nao_tu_to_command(row):\n",
    "    uns_a = str(row[\"UNS_A\"]).replace(\"*\", \"_r\")\n",
    "    uns_e = str(row[\"UNS_E\"]).replace(\"*\", \"_r\")\n",
    "    promoter = parse_nao_part(row[\"Promoter (pLIB number or 3G part ID) \"])\n",
    "    rbs = parse_nao_part(row[\"Ribosome binding site (pLIB number or 3G part ID) \"])\n",
    "    cds = parse_nao_part(row[\"Coding region (pLIB number or 3G part ID) \"])\n",
    "    term = parse_nao_part(row[\"Terminator (pLIB number or 3G part ID) \"])\n",
    "    parts = [f\"UNS{uns_a}_A\", *promoter, *rbs, *cds, *term, f\"UNS{uns_e}_E\"]\n",
    "    command = f\"@GG({', '.join(parts)})\"\n",
    "    return command\n",
    "\n",
    "\n",
    "def nao_strain_to_command(row, tus):\n",
    "    command = \"@Gib({}, {})\".format(\n",
    "        \", \".join(\n",
    "            [\n",
    "                nao_tu_to_command(tus.loc[f\"tLIB{t}\"])\n",
    "                for t in re.split(r\",|-\", str(row[\"TUs\"]))\n",
    "            ]\n",
    "        ),\n",
    "        backbone_pcrs[row[\"Plasmids\"]],\n",
    "    )"
   ]
  },
  {
   "cell_type": "code",
   "execution_count": null,
   "id": "29",
   "metadata": {},
   "outputs": [],
   "source": [
    "strains.tail()"
   ]
  },
  {
   "cell_type": "code",
   "execution_count": null,
   "id": "30",
   "metadata": {},
   "outputs": [],
   "source": [
    "nao_strain_to_command(strains.loc[716], tus)"
   ]
  },
  {
   "cell_type": "code",
   "execution_count": null,
   "id": "31",
   "metadata": {
    "tags": []
   },
   "outputs": [],
   "source": [
    "test_names = [\n",
    "    \"199\",\n",
    "    \"DT3\",\n",
    "    \"Psigw\",\n",
    "    \"A4b\",\n",
    "    \"LIB254\",\n",
    "    \"ScmJ+fLIB238\",\n",
    "    \"mVenus\",\n",
    "    \"SCFP3A\",\n",
    "    \"fLIB311\",\n",
    "    \"358 (pTet)\",\n",
    "    \"331 (LacI) +199+SCFP3A\",\n",
    "    \"ScmJ+fLIB314\",\n",
    "    \"323 (PhlF)+199+mVenus\",\n",
    "    \"RiboJ+oLT81\",\n",
    "    \"RiboJ+PH_BsaI\",\n",
    "    \"sigw+Deg_PH\",\n",
    "    \"RsiW+Deg_PH\",\n",
    "    \"Barcode PH\",\n",
    "    \"Long Barcode PH\",\n",
    "]\n",
    "for name in test_names:\n",
    "    print(\n",
    "        name,\n",
    "        \"->\",\n",
    "        parse_nao_part(name),\n",
    "    )"
   ]
  },
  {
   "cell_type": "code",
   "execution_count": null,
   "id": "32",
   "metadata": {
    "tags": []
   },
   "outputs": [],
   "source": [
    "reg.get(\"Deg_PH\")"
   ]
  },
  {
   "cell_type": "code",
   "execution_count": null,
   "id": "33",
   "metadata": {
    "tags": []
   },
   "outputs": [],
   "source": [
    "reg.get(\"oLT81\")"
   ]
  },
  {
   "cell_type": "code",
   "execution_count": null,
   "id": "34",
   "metadata": {
    "tags": []
   },
   "outputs": [],
   "source": [
    "reg.get(\"fLIB311\")"
   ]
  },
  {
   "cell_type": "code",
   "execution_count": null,
   "id": "35",
   "metadata": {
    "tags": []
   },
   "outputs": [],
   "source": [
    "nao_tu_to_command(tus.loc[\"tLIB447\"])"
   ]
  },
  {
   "cell_type": "code",
   "execution_count": null,
   "id": "36",
   "metadata": {},
   "outputs": [],
   "source": [
    "nao_part_names = pd.melt(tus.iloc[:, 3:7])[\"value\"].value_counts()\n",
    "with pd.option_context(\"display.max_rows\", None):\n",
    "    print(nao_part_names)"
   ]
  },
  {
   "cell_type": "code",
   "execution_count": null,
   "id": "37",
   "metadata": {
    "tags": []
   },
   "outputs": [],
   "source": [
    "nao_part_failures = set()\n",
    "for nao_part_name in tqdm(nao_part_names.index[:]):\n",
    "    try:\n",
    "        part_names = parse_nao_part(nao_part_name)\n",
    "        print(nao_part_name, \"->\", part_names)\n",
    "        for part_name in part_names:\n",
    "            res = reg.get(part_name)\n",
    "            if not len(res[\"_seq\"]):\n",
    "                raise\n",
    "    except:\n",
    "        # raise\n",
    "        nao_part_failures.add((nao_part_name, part_name))"
   ]
  },
  {
   "cell_type": "code",
   "execution_count": null,
   "id": "38",
   "metadata": {
    "tags": []
   },
   "outputs": [],
   "source": [
    "nao_part_failures"
   ]
  },
  {
   "cell_type": "code",
   "execution_count": null,
   "id": "39",
   "metadata": {
    "tags": []
   },
   "outputs": [],
   "source": [
    "for nao_part_name in list(nao_part_failures)[:10]:\n",
    "    part_names = parse_nao_part(nao_part_name)\n",
    "    print(nao_part_name, \"->\", part_names)\n",
    "    for part_name in part_names:\n",
    "        res = reg.get(part_name)\n",
    "        if not len(res[\"_seq\"]):\n",
    "            raise"
   ]
  },
  {
   "cell_type": "code",
   "execution_count": null,
   "id": "40",
   "metadata": {},
   "outputs": [],
   "source": [
    "strains[\"Plasmids\"].unique()"
   ]
  },
  {
   "cell_type": "code",
   "execution_count": null,
   "id": "41",
   "metadata": {},
   "outputs": [],
   "source": [
    "backbone_pcrs = {\n",
    "    \"\": \"V37m_UNS1_UNS10\",\n",
    "    \"p15A\": \"JUMP_p15a_UNS1_UNS10\",\n",
    "    \"pSC101\": \"JUMP_pSC101_UNS1_UNS10\",\n",
    "}"
   ]
  }
 ],
 "metadata": {
  "kernelspec": {
   "display_name": "Python 3 (ipykernel)",
   "language": "python",
   "name": "python3"
  },
  "language_info": {
   "codemirror_mode": {
    "name": "ipython",
    "version": 3
   },
   "file_extension": ".py",
   "mimetype": "text/x-python",
   "name": "python",
   "nbconvert_exporter": "python",
   "pygments_lexer": "ipython3",
   "version": "3.10.8"
  }
 },
 "nbformat": 4,
 "nbformat_minor": 4
}
