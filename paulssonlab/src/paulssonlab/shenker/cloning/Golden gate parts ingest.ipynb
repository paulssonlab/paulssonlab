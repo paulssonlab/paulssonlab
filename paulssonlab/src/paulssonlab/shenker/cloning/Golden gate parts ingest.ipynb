{
 "cells": [
  {
   "cell_type": "code",
   "execution_count": null,
   "metadata": {},
   "outputs": [],
   "source": [
    "import toml\n",
    "import re\n",
    "import urllib\n",
    "import benchlingapi\n",
    "import requests_html"
   ]
  },
  {
   "cell_type": "markdown",
   "metadata": {},
   "source": [
    "# Code"
   ]
  },
  {
   "cell_type": "code",
   "execution_count": null,
   "metadata": {},
   "outputs": [],
   "source": [
    "s.Folder.list(\n",
    "    project_id=s.Project.find_by_name(\"Library projects\").id, parentFolderId=\"NO_PARENT\"\n",
    ")"
   ]
  },
  {
   "cell_type": "code",
   "execution_count": null,
   "metadata": {},
   "outputs": [],
   "source": [
    "[a.name for a in _]"
   ]
  },
  {
   "cell_type": "code",
   "execution_count": null,
   "metadata": {},
   "outputs": [],
   "source": [
    "def get_folder(session, path=None, project=None, project_id=None):\n",
    "    if project and project_id:\n",
    "        raise ValueError(\"cannot specify both project and project_id\")\n",
    "    if project:\n",
    "        if not isinstance(project, benchlingapi.models.Project):\n",
    "            project = session.Project.find_by_name(project)\n",
    "        project_id = project.id\n",
    "    top_level_folders = session.Folder.list(\n",
    "        parent_folder_id=\"NO_PARENT\", project_id=project_id\n",
    "    )\n",
    "    if len(top_level_folders) != 1:\n",
    "        raise Exception(\"expecting only one top level folder\")\n",
    "    folder = top_level_folders[0]\n",
    "    if path:\n",
    "        path_components = path.split(\"/\")\n",
    "        parent_folder_id = \"NO_PARENT\"\n",
    "        for p in path_components:\n",
    "            if not p:\n",
    "                continue\n",
    "            parent_folder_id = folder.id\n",
    "            folder = session.Folder.find_by_name(\n",
    "                p, parent_folder_id=parent_folder_id, project_id=project_id\n",
    "            )\n",
    "    return folder"
   ]
  },
  {
   "cell_type": "code",
   "execution_count": null,
   "metadata": {},
   "outputs": [],
   "source": [
    "def parse_addgene_well(s):\n",
    "    m = re.match(r\"Plate (\\d+) / ([A-H]) / (\\d+)\", s)\n",
    "    return m.groups()\n",
    "\n",
    "\n",
    "def format_well_name(plate, row, column):\n",
    "    return f\"{plate if plate != 1 else ''}{row}{column}\"\n",
    "\n",
    "\n",
    "def _parse_table_row(column_names, row):\n",
    "    url = None\n",
    "    for name, td in zip(column_names, row.find(\"td\")):\n",
    "        link = td.find(\"a\", first=True)\n",
    "        if link is not None and not link.attrs[\"href\"].startswith(\"#\"):\n",
    "            url = urllib.parse.urljoin(link.base_url, link.attrs[\"href\"])\n",
    "    d = {name: td.text for name, td in zip(column_names, row.find(\"td\"))}\n",
    "    if url is not None:\n",
    "        d[\"url\"] = url\n",
    "    return d\n",
    "\n",
    "\n",
    "def addgene_supplemental_urls(url, session=None):\n",
    "    if not session:\n",
    "        session = requests_html.HTMLSession()\n",
    "    res = session.get(url)\n",
    "    return _addgene_supplemental_urls(res.html)\n",
    "\n",
    "\n",
    "def _addgene_supplemental_urls(html):\n",
    "    urls = html.find(\n",
    "        \"div.field-label:contains('Supplemental') + ul.addgene-document-list\"\n",
    "    )[0].links\n",
    "    return urls\n",
    "\n",
    "\n",
    "def addgene_sequences(url, session=None):\n",
    "    if not session:\n",
    "        session = requests_html.HTMLSession()\n",
    "    res = session.get(urllib.parse.urljoin(url, \"sequences\"))\n",
    "    return _addgene_sequences(res.html)\n",
    "\n",
    "\n",
    "def _addgene_sequences(html):\n",
    "    seqs = {}\n",
    "    for key in [\n",
    "        \"addgene_full\",\n",
    "        \"depositor_full\",\n",
    "        \"addgene_partial\",\n",
    "        \"depositor_partial\",\n",
    "    ]:\n",
    "        links = html.find(f\"section#{key.replace('_', '-')} a.genbank-file-download\")\n",
    "        seq_urls = [link.attrs[\"href\"] for link in links]\n",
    "        seqs[key] = seq_urls\n",
    "    return seqs\n",
    "\n",
    "\n",
    "def parse_addgene_kit_table(url, include_sequences=True, include_supplemental=True):\n",
    "    session = requests_html.HTMLSession()\n",
    "    res = session.get(\"http://www.addgene.org/kits/murray-cidar-moclo-v1/\")\n",
    "    table = res.html.find(\"table.kit-inventory-table\")[0]\n",
    "    header = table.find(\"thead\", first=True)\n",
    "    rows = table.find(\"tr\")\n",
    "    column_names = [t.text for t in header.find(\"th\")]\n",
    "    wells = []\n",
    "    for row in table.find(\"tbody tr\"):\n",
    "        well = _parse_table_row(column_names, row)\n",
    "        if include_sequences:\n",
    "            sequence_urls = addgene_supplemental_urls(row[\"url\"], session=session)\n",
    "            well[\"sequence_urls\"] = sequence_urls\n",
    "        if include_supplemental:\n",
    "            supp_urls = addgene_supplemental_links(row[\"url\"], session=session)\n",
    "            well[\"supplemental_urls\"] = supp_urls\n",
    "        wells.append(well)\n",
    "    return wells\n",
    "\n",
    "\n",
    "def get_genbank(url):\n",
    "    res = requests.get(url)\n",
    "    gb = res.content\n",
    "    buf = io.StringIO(gb.decode(\"utf8\"))\n",
    "    dna = list(SeqIO.parse(buf, \"genbank\"))\n",
    "    return dna"
   ]
  },
  {
   "cell_type": "code",
   "execution_count": null,
   "metadata": {},
   "outputs": [],
   "source": [
    "addgene_sequences(\"https://www.addgene.org/108537/\")"
   ]
  },
  {
   "cell_type": "code",
   "execution_count": null,
   "metadata": {},
   "outputs": [],
   "source": [
    "# gb = get_genbank(addgene_sequences('http://www.addgene.org/121010/')['depositor_full'][0])[0]\n",
    "gb = get_genbank(\n",
    "    addgene_sequences(\"https://www.addgene.org/108537/\")[\"addgene_full\"][0]\n",
    ")[0]"
   ]
  },
  {
   "cell_type": "code",
   "execution_count": null,
   "metadata": {},
   "outputs": [],
   "source": [
    "gb.features[1].qualifiers"
   ]
  },
  {
   "cell_type": "code",
   "execution_count": null,
   "metadata": {},
   "outputs": [],
   "source": [
    "print(\n",
    "    requests.get(\n",
    "        \"https://media.addgene.org/snapgene-media/v1.6.2-0-g4b4ed87/sequences/02/82/210282/addgene-plasmid-108537-sequence-210282.gbk\"\n",
    "    ).content.decode()\n",
    ")"
   ]
  },
  {
   "cell_type": "code",
   "execution_count": null,
   "metadata": {},
   "outputs": [],
   "source": [
    "gb.features"
   ]
  },
  {
   "cell_type": "code",
   "execution_count": null,
   "metadata": {},
   "outputs": [],
   "source": [
    "gb.annotations"
   ]
  },
  {
   "cell_type": "code",
   "execution_count": null,
   "metadata": {},
   "outputs": [],
   "source": [
    "gb.description"
   ]
  },
  {
   "cell_type": "code",
   "execution_count": null,
   "metadata": {},
   "outputs": [],
   "source": [
    "gb.name"
   ]
  },
  {
   "cell_type": "code",
   "execution_count": null,
   "metadata": {},
   "outputs": [],
   "source": [
    "gb.annotations[\"references\"]"
   ]
  },
  {
   "cell_type": "markdown",
   "metadata": {},
   "source": [
    "# Setup"
   ]
  },
  {
   "cell_type": "code",
   "execution_count": null,
   "metadata": {},
   "outputs": [],
   "source": [
    "config = toml.load(\"config.toml\")"
   ]
  },
  {
   "cell_type": "code",
   "execution_count": null,
   "metadata": {},
   "outputs": [],
   "source": [
    "s = benchlingapi.Session(config[\"benchling\"][\"api_key\"])"
   ]
  },
  {
   "cell_type": "markdown",
   "metadata": {},
   "source": [
    "# Reference"
   ]
  },
  {
   "cell_type": "code",
   "execution_count": null,
   "metadata": {},
   "outputs": [],
   "source": [
    "f = get_folder(s, project=\"Test\")"
   ]
  },
  {
   "cell_type": "code",
   "execution_count": null,
   "metadata": {},
   "outputs": [],
   "source": [
    "bl = s.DNASequence.find_by_name(\"V37m\", folder_id=f.id)"
   ]
  },
  {
   "cell_type": "code",
   "execution_count": null,
   "metadata": {},
   "outputs": [],
   "source": [
    "p = bl.primers[0]"
   ]
  },
  {
   "cell_type": "code",
   "execution_count": null,
   "metadata": {},
   "outputs": [],
   "source": [
    "p2 = {**p}"
   ]
  },
  {
   "cell_type": "code",
   "execution_count": null,
   "metadata": {},
   "outputs": [],
   "source": [
    "p2[\"start\"] = p2[\"bindPosition\"] = 2700"
   ]
  },
  {
   "cell_type": "code",
   "execution_count": null,
   "metadata": {},
   "outputs": [],
   "source": [
    "bl.primers = [p, p2]"
   ]
  },
  {
   "cell_type": "code",
   "execution_count": null,
   "metadata": {},
   "outputs": [],
   "source": [
    "pp = bl.primers"
   ]
  },
  {
   "cell_type": "code",
   "execution_count": null,
   "metadata": {},
   "outputs": [],
   "source": [
    "pp"
   ]
  },
  {
   "cell_type": "code",
   "execution_count": null,
   "metadata": {},
   "outputs": [],
   "source": [
    "s.Oligo.find(\"oJQS4\")"
   ]
  },
  {
   "cell_type": "code",
   "execution_count": null,
   "metadata": {},
   "outputs": [],
   "source": [
    "z2 = [a for a in s.DNASequence.list(project_id=proj.id)][1]"
   ]
  },
  {
   "cell_type": "code",
   "execution_count": null,
   "metadata": {},
   "outputs": [],
   "source": [
    "o = s.Oligo.get(id=z.id)"
   ]
  },
  {
   "cell_type": "code",
   "execution_count": null,
   "metadata": {},
   "outputs": [],
   "source": [
    "o.raw"
   ]
  },
  {
   "cell_type": "code",
   "execution_count": null,
   "metadata": {},
   "outputs": [],
   "source": [
    "s.Oligo.get(z.id).raw"
   ]
  },
  {
   "cell_type": "code",
   "execution_count": null,
   "metadata": {},
   "outputs": [],
   "source": [
    "z.raw"
   ]
  },
  {
   "cell_type": "code",
   "execution_count": null,
   "metadata": {},
   "outputs": [],
   "source": [
    "bl.primers = [{\"start\": 20, \"end\": 40, \"oligoId\": z.id}]"
   ]
  },
  {
   "cell_type": "code",
   "execution_count": null,
   "metadata": {},
   "outputs": [],
   "source": []
  },
  {
   "cell_type": "code",
   "execution_count": null,
   "metadata": {},
   "outputs": [],
   "source": [
    "bl.update()"
   ]
  },
  {
   "cell_type": "code",
   "execution_count": null,
   "metadata": {},
   "outputs": [],
   "source": [
    "bl.primers"
   ]
  },
  {
   "cell_type": "code",
   "execution_count": null,
   "metadata": {},
   "outputs": [],
   "source": [
    "bl.raw"
   ]
  },
  {
   "cell_type": "code",
   "execution_count": null,
   "metadata": {},
   "outputs": [],
   "source": [
    "p1m.raw.keys()"
   ]
  },
  {
   "cell_type": "code",
   "execution_count": null,
   "metadata": {},
   "outputs": [],
   "source": [
    "print(gb)"
   ]
  },
  {
   "cell_type": "code",
   "execution_count": null,
   "metadata": {},
   "outputs": [],
   "source": [
    "dna."
   ]
  },
  {
   "cell_type": "code",
   "execution_count": null,
   "metadata": {},
   "outputs": [],
   "source": [
    "dna.description"
   ]
  },
  {
   "cell_type": "code",
   "execution_count": null,
   "metadata": {},
   "outputs": [],
   "source": [
    "gb.annotations"
   ]
  },
  {
   "cell_type": "code",
   "execution_count": null,
   "metadata": {},
   "outputs": [],
   "source": [
    "{\n",
    "    \"ORGANISM\": {\"value\": \"synthetic DNA construct\"},\n",
    "    \"SOURCE\": {\"value\": \"synthetic DNA construct\"},\n",
    "    \"accession\": {\"value\": \"addgene_121010_236173\"},\n",
    "},"
   ]
  },
  {
   "cell_type": "code",
   "execution_count": null,
   "metadata": {},
   "outputs": [],
   "source": [
    "s."
   ]
  },
  {
   "cell_type": "code",
   "execution_count": null,
   "metadata": {},
   "outputs": [],
   "source": [
    "COLORS = [\"\"]"
   ]
  },
  {
   "cell_type": "code",
   "execution_count": null,
   "metadata": {},
   "outputs": [],
   "source": [
    "s.Annotation()"
   ]
  },
  {
   "cell_type": "code",
   "execution_count": null,
   "metadata": {},
   "outputs": [],
   "source": [
    "print(gb.features[5])"
   ]
  },
  {
   "cell_type": "code",
   "execution_count": null,
   "metadata": {},
   "outputs": [],
   "source": [
    "gb.features"
   ]
  },
  {
   "cell_type": "code",
   "execution_count": null,
   "metadata": {},
   "outputs": [],
   "source": [
    "gb.features[3].strand"
   ]
  },
  {
   "cell_type": "code",
   "execution_count": null,
   "metadata": {},
   "outputs": [],
   "source": [
    "gb.features[3].qualifiers"
   ]
  },
  {
   "cell_type": "code",
   "execution_count": null,
   "metadata": {},
   "outputs": [],
   "source": [
    "gb.features[0].extract"
   ]
  },
  {
   "cell_type": "code",
   "execution_count": null,
   "metadata": {},
   "outputs": [],
   "source": [
    "{\n",
    "    \"color\": \"#C7B0E3\",\n",
    "    \"end\": 1514,\n",
    "    \"name\": \"pENTR-R\",\n",
    "    \"start\": 1494,\n",
    "    \"strand\": -1,\n",
    "    \"type\": \"primer_bind\",\n",
    "}"
   ]
  },
  {
   "cell_type": "code",
   "execution_count": null,
   "metadata": {},
   "outputs": [],
   "source": [
    "gb.features[1].qualifiers"
   ]
  },
  {
   "cell_type": "code",
   "execution_count": null,
   "metadata": {},
   "outputs": [],
   "source": [
    "[(q.type, dict(q.qualifiers)) for q in gb.features]"
   ]
  },
  {
   "cell_type": "code",
   "execution_count": null,
   "metadata": {},
   "outputs": [],
   "source": [
    "\n",
    "            \"start\": 6,\n",
    "            \"end\": 24,\n",
    "            \"strand\": 1,\n",
    "            \"aminoAcids\": \"RIFVKE\",\n",
    "            \"regions\": [\n",
    "              {\n",
    "                \"start\": 6,\n",
    "                \"end\": 24,\n",
    "              }"
   ]
  },
  {
   "cell_type": "code",
   "execution_count": null,
   "metadata": {},
   "outputs": [],
   "source": [
    "gb.features[1].location.parts"
   ]
  },
  {
   "cell_type": "code",
   "execution_count": null,
   "metadata": {},
   "outputs": [],
   "source": [
    "gb.annotations[0]"
   ]
  },
  {
   "cell_type": "code",
   "execution_count": null,
   "metadata": {},
   "outputs": [],
   "source": [
    "def genbank_to_benchling(\n",
    "    session,\n",
    "    gb,\n",
    "    name,\n",
    "    folder_id,\n",
    "    accession=None,\n",
    "    long_annotations=True,\n",
    "    custom_fields=None,\n",
    "    sep=\" / \",\n",
    "):\n",
    "    if gb.annotations[\"molecule_type\"] != \"ds-DNA\":\n",
    "        raise ValueError(\n",
    "            f\"unexpected value for molecule_type: {gb.annotations['molecule_type']}\"\n",
    "        )\n",
    "    bases = gb.seq\n",
    "    annotations = []\n",
    "    translations = []\n",
    "    for feature in gb.features:\n",
    "        if feature.type == \"source\":\n",
    "            feature_name = \"source\"\n",
    "        else:\n",
    "            if long_annotations:\n",
    "                feature_name = sep.join(feature.qualifiers[\"label\"])\n",
    "                note = feature.qualifiers.get(\"note\", None)\n",
    "                if note is not None:\n",
    "                    note = sep.join(note)\n",
    "                if note:\n",
    "                    feature_name += f\" ({note})\"\n",
    "                gene = feature.qualifiers.get(\"gene\", None)\n",
    "                if gene is not None:\n",
    "                    gene = sep.join(gene)\n",
    "                if gene:\n",
    "                    feature_name += f\" (gene: {gene})\"\n",
    "                product = feature.qualifiers.get(\"product\", None)\n",
    "                if product is not None:\n",
    "                    product = sep.join(product)\n",
    "                if product:\n",
    "                    feature_name += f\" (product: {product})\"\n",
    "\n",
    "            else:\n",
    "                feature_name = feature.qualifiers[\"label\"] or feature.qualifiers[\"note\"]\n",
    "        if len(feature.location.parts) > 1:\n",
    "            feature_name_all = feature_name + \" [all]\"\n",
    "        else:\n",
    "            feature_name_all = feature_name\n",
    "        if len(feature.location.parts) > 1:\n",
    "            for loc in feature.location.parts:\n",
    "                start = int(loc.start)\n",
    "                end = int(loc.end)\n",
    "                annotation = {\n",
    "                    \"start\": start,\n",
    "                    \"end\": end,\n",
    "                    \"strand\": loc.strand,\n",
    "                    \"name\": feature_name + f\" [{start}-{end}]\",\n",
    "                    \"type\": feature.type,\n",
    "                }\n",
    "                annotations.append(annotation)\n",
    "        annotation = {\n",
    "            \"start\": int(feature.location.start),\n",
    "            \"end\": int(feature.location.end),\n",
    "            \"strand\": feature.location.strand,\n",
    "            \"name\": feature_name_all,\n",
    "            \"type\": feature.type,\n",
    "        }\n",
    "        annotations.append(annotation)\n",
    "        if feature.type == \"CDS\":  # TODO: are there any more CDS-like types?\n",
    "            if int(feature.qualifiers[\"codon_start\"][0]) != 1:\n",
    "                raise ValueError(\"cannot handle codon_start != 1\")\n",
    "            translation = {\n",
    "                \"start\": annotation[\"start\"],\n",
    "                \"end\": annotation[\"end\"],\n",
    "                \"strand\": annotation[\"strand\"],\n",
    "                \"aminoAcids\": feature.qualifiers[\"translation\"],\n",
    "                \"regions\": [\n",
    "                    {\"start\": int(loc.start), \"end\": int(loc.end)}\n",
    "                    for loc in feature.location.parts\n",
    "                ],\n",
    "            }\n",
    "            translations.append(translation)\n",
    "    translations = []\n",
    "    if gb.annotations[\"topology\"] == \"circular\":\n",
    "        is_circular = True\n",
    "    elif gb.annotations[\"topology\"] == \"linear\":\n",
    "        is_circular = False\n",
    "    else:\n",
    "        raise ValueError(f\"unexpected value for topology: {gb.annotations['topology']}\")\n",
    "    _custom_fields = {}\n",
    "    _custom_fields[\"organism\"] = gb.annotations[\"organism\"]\n",
    "    _custom_fields[\"source\"] = gb.annotations[\"source\"]\n",
    "    _custom_fields[\"division\"] = gb.annotations[\"data_file_division\"]\n",
    "    _custom_fields[\"keywords\"] = \",\".join(gb.annotations[\"keywords\"])\n",
    "    _custom_fields[\"definition\"] = gb.description\n",
    "    if accession is None:\n",
    "        accession = \",\".join(gb.annotations[\"accessions\"])\n",
    "        if accession and accession != \".\":\n",
    "            _custom_fields[\"accession\"] = accession\n",
    "    else:\n",
    "        _custom_fields[\"accession\"] = accession\n",
    "    if custom_fields:\n",
    "        _custom_fields = {**_custom_fields, **custom_fields}\n",
    "    _custom_fields = {k: {\"value\": v} for k, v in _custom_fields.items()}\n",
    "    dna = session.DNASequence(\n",
    "        name=name,\n",
    "        folder_id=folder_id,\n",
    "        bases=bases,\n",
    "        annotations=annotations,\n",
    "        translations=translations,\n",
    "        is_circular=is_circular,\n",
    "        custom_fields=_custom_fields,\n",
    "    )\n",
    "    return dna"
   ]
  },
  {
   "cell_type": "code",
   "execution_count": null,
   "metadata": {},
   "outputs": [],
   "source": [
    "dna = genbank_to_benchling(s, gb, \"seq2\", f.id, accession=\"addgene_blah\")\n",
    "dna.save()"
   ]
  },
  {
   "cell_type": "code",
   "execution_count": null,
   "metadata": {},
   "outputs": [],
   "source": [
    "gb.features[1].location"
   ]
  },
  {
   "cell_type": "code",
   "execution_count": null,
   "metadata": {},
   "outputs": [],
   "source": [
    "p1m.raw"
   ]
  },
  {
   "cell_type": "markdown",
   "metadata": {},
   "source": [
    "# Test"
   ]
  },
  {
   "cell_type": "code",
   "execution_count": null,
   "metadata": {},
   "outputs": [],
   "source": [
    "res = requests.get(\n",
    "    \"https://media.addgene.org/data/plasmids/120/120934/120934-attachment_aMW6xjP7-DYm.gb\"\n",
    ")"
   ]
  },
  {
   "cell_type": "code",
   "execution_count": null,
   "metadata": {},
   "outputs": [],
   "source": [
    "gb = res.content"
   ]
  },
  {
   "cell_type": "code",
   "execution_count": null,
   "metadata": {},
   "outputs": [],
   "source": [
    "import os\n",
    "import io\n",
    "from Bio.Seq import Seq\n",
    "from Bio.SeqRecord import SeqRecord\n",
    "from Bio.SeqFeature import SeqFeature, FeatureLocation\n",
    "from Bio import SeqIO\n",
    "\n",
    "# get all sequence records for the specified genbank file\n",
    "# recs = [rec for rec in SeqIO.parse(\"genbank_file.gbk\", \"genbank\")]"
   ]
  },
  {
   "cell_type": "code",
   "execution_count": null,
   "metadata": {},
   "outputs": [],
   "source": [
    "buf = io.StringIO(gb.decode(\"utf8\"))\n",
    "dna = SeqIO.parse(buf, \"genbank\")"
   ]
  },
  {
   "cell_type": "code",
   "execution_count": null,
   "metadata": {},
   "outputs": [],
   "source": [
    "list(dna)"
   ]
  },
  {
   "cell_type": "code",
   "execution_count": null,
   "metadata": {},
   "outputs": [],
   "source": [
    "a = _"
   ]
  },
  {
   "cell_type": "code",
   "execution_count": null,
   "metadata": {},
   "outputs": [],
   "source": [
    "a[0].annotations"
   ]
  },
  {
   "cell_type": "code",
   "execution_count": null,
   "metadata": {},
   "outputs": [],
   "source": [
    "a[0].features"
   ]
  },
  {
   "cell_type": "code",
   "execution_count": null,
   "metadata": {},
   "outputs": [],
   "source": [
    "list(s.Project.all())"
   ]
  },
  {
   "cell_type": "code",
   "execution_count": null,
   "metadata": {},
   "outputs": [],
   "source": [
    "z = _"
   ]
  },
  {
   "cell_type": "code",
   "execution_count": null,
   "metadata": {},
   "outputs": [],
   "source": [
    "z[0].name"
   ]
  },
  {
   "cell_type": "code",
   "execution_count": null,
   "metadata": {},
   "outputs": [],
   "source": [
    "a = s.Folder.find_by_name(\"Test2\")"
   ]
  },
  {
   "cell_type": "code",
   "execution_count": null,
   "metadata": {},
   "outputs": [],
   "source": [
    "proj = s.Project.list()[0]"
   ]
  },
  {
   "cell_type": "code",
   "execution_count": null,
   "metadata": {},
   "outputs": [],
   "source": [
    "proj"
   ]
  },
  {
   "cell_type": "code",
   "execution_count": null,
   "metadata": {},
   "outputs": [],
   "source": [
    "f = get_folder(s, \"Test/Test2\", project=\"Test\")"
   ]
  },
  {
   "cell_type": "code",
   "execution_count": null,
   "metadata": {},
   "outputs": [],
   "source": [
    "f.name"
   ]
  },
  {
   "cell_type": "code",
   "execution_count": null,
   "metadata": {},
   "outputs": [],
   "source": [
    "proj.id"
   ]
  },
  {
   "cell_type": "code",
   "execution_count": null,
   "metadata": {},
   "outputs": [],
   "source": [
    "s.Folder.list(parentFolderId=\"NO_PARENT\", projectId=None)  # [1].name"
   ]
  },
  {
   "cell_type": "code",
   "execution_count": null,
   "metadata": {},
   "outputs": [],
   "source": []
  }
 ],
 "metadata": {
  "kernelspec": {
   "display_name": "Python 3",
   "language": "python",
   "name": "python3"
  },
  "language_info": {
   "codemirror_mode": {
    "name": "ipython",
    "version": 3
   },
   "file_extension": ".py",
   "mimetype": "text/x-python",
   "name": "python",
   "nbconvert_exporter": "python",
   "pygments_lexer": "ipython3",
   "version": "3.8.1"
  }
 },
 "nbformat": 4,
 "nbformat_minor": 4
}
