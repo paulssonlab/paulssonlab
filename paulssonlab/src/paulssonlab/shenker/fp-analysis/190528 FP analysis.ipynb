{
 "cells": [
  {
   "cell_type": "code",
   "execution_count": null,
   "metadata": {},
   "outputs": [],
   "source": [
    "import numpy as np\n",
    "import pandas as pd\n",
    "import pyarrow as pa\n",
    "import pyarrow.parquet as pq\n",
    "import zarr\n",
    "import holoviews as hv\n",
    "import matplotlib.pyplot as plt\n",
    "from functools import partial\n",
    "from cytoolz import *\n",
    "import hvplot.pandas\n",
    "import scipy\n",
    "\n",
    "IDX = pd.IndexSlice"
   ]
  },
  {
   "cell_type": "markdown",
   "metadata": {},
   "source": [
    "# Traces"
   ]
  },
  {
   "cell_type": "code",
   "execution_count": null,
   "metadata": {},
   "outputs": [],
   "source": [
    "nd2_filename = (\n",
    "    \"/home/jqs1/scratch/190504/basilisk/190504_YFP_mScarlet_repressilators002.nd2\"\n",
    ")"
   ]
  },
  {
   "cell_type": "code",
   "execution_count": null,
   "metadata": {},
   "outputs": [],
   "source": [
    "dat = pq.read_pandas(\n",
    "    nd2_filename + \".measurements/pos177.labelwise.parquet\"\n",
    ").to_pandas()"
   ]
  },
  {
   "cell_type": "code",
   "execution_count": null,
   "metadata": {},
   "outputs": [],
   "source": [
    "dat.head()"
   ]
  },
  {
   "cell_type": "code",
   "execution_count": null,
   "metadata": {},
   "outputs": [],
   "source": [
    "dat.loc[IDX[1, 62, :, 1], (\"YFP\", \"noerode\", \"mean\")].rename(\"h\").reset_index().hvplot(\n",
    "    \"t\", \"h\"\n",
    ") * dat.loc[IDX[1, 62, :, 1], (\"mCherry\", \"noerode\", \"mean\")].rename(\n",
    "    \"h\"\n",
    ").reset_index().hvplot(\n",
    "    \"t\", \"h\"\n",
    ")"
   ]
  },
  {
   "cell_type": "markdown",
   "metadata": {},
   "source": [
    "## Segmentation"
   ]
  },
  {
   "cell_type": "code",
   "execution_count": null,
   "metadata": {},
   "outputs": [],
   "source": [
    "root = zarr.open_group(\n",
    "    store=zarr.LMDBStore(nd2_filename + \".images/pos176.zarr\", readonly=True)\n",
    ")"
   ]
  },
  {
   "cell_type": "code",
   "execution_count": null,
   "metadata": {},
   "outputs": [],
   "source": [
    "trench_set = 1\n",
    "trench_idx = 62\n",
    "raw_stack = np.asarray(root[\"raw\"][trench_set][trench_idx][\"CFP\"])\n",
    "label_stack = np.asarray(root[\"segmentation\"][trench_set][trench_idx][\"CFP\"])"
   ]
  },
  {
   "cell_type": "code",
   "execution_count": null,
   "metadata": {},
   "outputs": [],
   "source": [
    "raw_stack.shape"
   ]
  },
  {
   "cell_type": "code",
   "execution_count": null,
   "metadata": {},
   "outputs": [],
   "source": [
    "hv.Image(raw_stack[:, :, 14])"
   ]
  },
  {
   "cell_type": "code",
   "execution_count": null,
   "metadata": {},
   "outputs": [],
   "source": [
    "hv.HoloMap({t: hv.Image(np.random.random((10, 10))) for t in range(2)})"
   ]
  },
  {
   "cell_type": "code",
   "execution_count": null,
   "metadata": {},
   "outputs": [],
   "source": [
    "%%output size=200\n",
    "hv.HoloMap({t: hv.Image(raw_stack[:, :, t]) for t in range(raw_stack.shape[-1] // 10)})"
   ]
  },
  {
   "cell_type": "code",
   "execution_count": null,
   "metadata": {},
   "outputs": [],
   "source": [
    "%%opts Image {+framewise}\n",
    "hv.HoloMap(\n",
    "    {t: hv.Image(raw_stack[:, :, t]) for t in range(raw_stack.shape[-1])}\n",
    ") + hv.HoloMap({t: hv.Image(label_stack[:, :, t]) for t in range(raw_stack.shape[-1])})"
   ]
  },
  {
   "cell_type": "code",
   "execution_count": null,
   "metadata": {},
   "outputs": [],
   "source": []
  }
 ],
 "metadata": {
  "kernelspec": {
   "display_name": "Python 3",
   "language": "python",
   "name": "python3"
  },
  "language_info": {
   "codemirror_mode": {
    "name": "ipython",
    "version": 3
   },
   "file_extension": ".py",
   "mimetype": "text/x-python",
   "name": "python",
   "nbconvert_exporter": "python",
   "pygments_lexer": "ipython3",
   "version": "3.6.7"
  }
 },
 "nbformat": 4,
 "nbformat_minor": 2
}
