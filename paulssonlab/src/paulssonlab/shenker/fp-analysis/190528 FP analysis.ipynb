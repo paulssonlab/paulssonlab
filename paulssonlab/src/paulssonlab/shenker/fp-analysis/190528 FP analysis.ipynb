{
 "cells": [
  {
   "cell_type": "code",
   "execution_count": null,
   "metadata": {},
   "outputs": [],
   "source": [
    "import numpy as np\n",
    "import pandas as pd\n",
    "import pyarrow as pa\n",
    "import pyarrow.parquet as pq\n",
    "import zarr\n",
    "import holoviews as hv\n",
    "import matplotlib.pyplot as plt\n",
    "from functools import partial\n",
    "from cytoolz import *\n",
    "import hvplot.pandas\n",
    "import scipy\n",
    "import re\n",
    "import os\n",
    "from tqdm.auto import tqdm\n",
    "\n",
    "IDX = pd.IndexSlice"
   ]
  },
  {
   "cell_type": "markdown",
   "metadata": {},
   "source": [
    "# Functions"
   ]
  },
  {
   "cell_type": "code",
   "execution_count": null,
   "metadata": {},
   "outputs": [],
   "source": [
    "def RevImage(img, **kwargs):\n",
    "    return _RevImage(hv.Image, img, **kwargs)\n",
    "\n",
    "\n",
    "def _RevImage(cls, img, **kwargs):\n",
    "    return cls(img[::-1], bounds=(0, 0, img.shape[1], img.shape[0])).options(\n",
    "        invert_yaxis=True\n",
    "    )\n",
    "\n",
    "\n",
    "def _horiz_trench_img(img):\n",
    "    return RevImage(img.T).options(backend=\"bokeh\", height=120, width=400)\n",
    "\n",
    "\n",
    "def _trench_img(img):\n",
    "    return RevImage(img).options(backend=\"bokeh\", height=400, width=120)"
   ]
  },
  {
   "cell_type": "code",
   "execution_count": null,
   "metadata": {},
   "outputs": [],
   "source": [
    "def _load_measurements(base_filename, kind):\n",
    "    labelwise_filename = base_filename + \".{}.parquet\".format(kind)\n",
    "    if not os.path.exists(labelwise_filename):\n",
    "        return\n",
    "    with pa.OSFile(labelwise_filename, \"rb\") as f:\n",
    "        res = pq.ParquetFile(f).read(use_pandas_metadata=True, use_threads=False)\n",
    "    res = res.to_pandas()\n",
    "    return res\n",
    "    # labelwise_df = data_io.read_parquet(labelwise_filename, progress_bar=None)\n",
    "    # mask_labelwise_df = data_io.read_parquet(base_filename+'.mask_labelwise.parquet')\n",
    "    # trenchwise_df = data_io.read_parquet(base_filename+'.trenchwise.parquet')\n",
    "    # return labelwise_df#.to_pandas()\n",
    "\n",
    "\n",
    "def load_measurements(\n",
    "    parquet_filename, nthreads=False, progress_bar=tqdm, filename=None\n",
    "):\n",
    "    positions = [\n",
    "        re.match(r\".*pos(\\d+)\\.labelwise\\.parquet\", path)\n",
    "        for path in os.listdir(parquet_filename)\n",
    "    ]\n",
    "    positions = [int(m.group(1)) for m in positions if m is not None]\n",
    "    print(positions)\n",
    "    if progress_bar is not None:\n",
    "        positions = progress_bar(positions, total=len(positions))\n",
    "    res = {}\n",
    "    for pos in positions:\n",
    "        key = (filename, pos)\n",
    "        base_filename = os.path.join(parquet_filename, \"pos{:d}\".format(pos))\n",
    "        # res[key] = _load_measurements(base_filename, kind)\n",
    "        labelwise_filename = base_filename + \".labelwise.parquet\"  # .format(kind)\n",
    "        if not os.path.exists(labelwise_filename):\n",
    "            continue\n",
    "        with pa.OSFile(labelwise_filename, \"rb\") as f:\n",
    "            labelwise_df = pq.ParquetFile(f).read(\n",
    "                use_pandas_metadata=True, use_threads=False\n",
    "            )\n",
    "        labelwise_df = labelwise_df.to_pandas()\n",
    "        res[key] = labelwise_df\n",
    "    return sorted(res)"
   ]
  },
  {
   "cell_type": "code",
   "execution_count": null,
   "metadata": {},
   "outputs": [],
   "source": [
    "# dat = load_measurements(nd2_filename+'.measurements')"
   ]
  },
  {
   "cell_type": "markdown",
   "metadata": {},
   "source": [
    "# Traces"
   ]
  },
  {
   "cell_type": "code",
   "execution_count": null,
   "metadata": {},
   "outputs": [],
   "source": [
    "# nd2_filename = '/home/jqs1/scratch/190504/basilisk/190504_YFP_mScarlet_repressilators002.nd2'\n",
    "nd2_filename = (\n",
    "    \"/home/jqs1/scratch/190504/basilisk/190504_YFP_mScarlet_repressilators_fast.nd2\"\n",
    ")"
   ]
  },
  {
   "cell_type": "code",
   "execution_count": null,
   "metadata": {},
   "outputs": [],
   "source": [
    "dat = pq.read_pandas(\n",
    "    nd2_filename + \".measurements/pos177.labelwise.parquet\"\n",
    ").to_pandas()"
   ]
  },
  {
   "cell_type": "code",
   "execution_count": null,
   "metadata": {},
   "outputs": [],
   "source": [
    "dat.head()"
   ]
  },
  {
   "cell_type": "markdown",
   "metadata": {},
   "source": [
    "## Segmentation"
   ]
  },
  {
   "cell_type": "code",
   "execution_count": null,
   "metadata": {},
   "outputs": [],
   "source": [
    "root = zarr.open_group(\n",
    "    store=zarr.LMDBStore(nd2_filename + \".images/pos177.zarr\", readonly=True)\n",
    ")"
   ]
  },
  {
   "cell_type": "code",
   "execution_count": null,
   "metadata": {},
   "outputs": [],
   "source": [
    "trench_set = 1\n",
    "trench_idx = 61\n",
    "raw_stack = np.asarray(root[\"raw\"][trench_set][trench_idx][\"CFP\"])\n",
    "label_stack = np.asarray(root[\"segmentation\"][trench_set][trench_idx][\"CFP\"])"
   ]
  },
  {
   "cell_type": "code",
   "execution_count": null,
   "metadata": {},
   "outputs": [],
   "source": [
    "t = 0\n",
    "_trench_img(raw_stack[:, :, t]) + _trench_img(label_stack[:, :, t]).redim(z=\"label\")"
   ]
  },
  {
   "cell_type": "code",
   "execution_count": null,
   "metadata": {},
   "outputs": [],
   "source": [
    "(\n",
    "    hv.HoloMap({t: _trench_img(raw_stack[:, :, t]) for t in range(raw_stack.shape[-1])})\n",
    "    + hv.HoloMap(\n",
    "        {\n",
    "            t: _trench_img(label_stack[:, :, t]).redim(z=\"label\")\n",
    "            for t in range(raw_stack.shape[-1])\n",
    "        }\n",
    "    )\n",
    ")"
   ]
  }
 ],
 "metadata": {
  "kernelspec": {
   "display_name": "Python 3",
   "language": "python",
   "name": "python3"
  },
  "language_info": {
   "codemirror_mode": {
    "name": "ipython",
    "version": 3
   },
   "file_extension": ".py",
   "mimetype": "text/x-python",
   "name": "python",
   "nbconvert_exporter": "python",
   "pygments_lexer": "ipython3",
   "version": "3.6.7"
  }
 },
 "nbformat": 4,
 "nbformat_minor": 2
}
