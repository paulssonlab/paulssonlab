{
 "cells": [
  {
   "cell_type": "code",
   "execution_count": null,
   "id": "0",
   "metadata": {},
   "outputs": [],
   "source": [
    "import datashader as ds\n",
    "import holoviews as hv\n",
    "import numpy as np\n",
    "import pandas as pd\n",
    "from holoviews.operation import decimate\n",
    "from holoviews.operation.datashader import aggregate, datashade, dynspread, shade\n",
    "\n",
    "hv.notebook_extension(\"bokeh\")\n",
    "%matplotlib inline\n",
    "import ipywidgets as widgets\n",
    "import matplotlib.pyplot as plt\n",
    "import nd2reader\n",
    "import skimage\n",
    "from IPython.display import clear_output, display\n",
    "from ipywidgets import fixed, interact, interact_manual, interactive\n",
    "from matplotlib.colors import hex2color\n",
    "\n",
    "# from colour import wavelength_to_XYZ\n",
    "# from colour import XYZ_to_sRGB\n",
    "# from colour.notation.triplet import RGB_to_HEX\n",
    "# from bokeh.io import push_notebook, show, output_notebook\n",
    "# from bokeh.layouts import row\n",
    "# from bokeh.plotting import figure"
   ]
  },
  {
   "cell_type": "code",
   "execution_count": null,
   "id": "1",
   "metadata": {},
   "outputs": [],
   "source": [
    "decimate.max_samples = 1000\n",
    "dynspread.max_px = 20\n",
    "dynspread.threshold = 0.5\n",
    "shade.cmap = \"#30a2da\"  # to match HV Bokeh default"
   ]
  },
  {
   "cell_type": "code",
   "execution_count": null,
   "id": "2",
   "metadata": {},
   "outputs": [],
   "source": [
    "frames = nd2reader.ND2Reader(\n",
    "    \"/home/jqs1/scratch/fidelity/171018/20171018_TrxnError_ID.nd2\"\n",
    ")"
   ]
  },
  {
   "cell_type": "code",
   "execution_count": null,
   "id": "3",
   "metadata": {},
   "outputs": [],
   "source": [
    "emission_wavelengths = {\"MCHERRY\": 583, \"GFP\": 508, \"CY5\": 670, \"BFP\": 448, \"CFP\": 480}"
   ]
  },
  {
   "cell_type": "code",
   "execution_count": null,
   "id": "4",
   "metadata": {},
   "outputs": [],
   "source": [
    "channel_colors = {\n",
    "    \"BF\": \"#ffffff\",\n",
    "    \"MCHERRY\": \"#e22400\",\n",
    "    \"GFP\": \"#76ba40\",\n",
    "    \"CY5\": \"#e292fe\",\n",
    "    \"BFP\": \"#3a87fd\",\n",
    "}"
   ]
  },
  {
   "cell_type": "code",
   "execution_count": null,
   "id": "5",
   "metadata": {},
   "outputs": [],
   "source": [
    "channels = frames.metadata[\"channels\"]\n",
    "n_channels = len(channels)\n",
    "colors = [hex2color(channel_colors[channel]) for channel in channels]"
   ]
  },
  {
   "cell_type": "code",
   "execution_count": null,
   "id": "6",
   "metadata": {},
   "outputs": [],
   "source": [
    "# XYZ_to_sRGB(wavelength_to_XYZ(emission_wavelengths['MCHERRY']))"
   ]
  },
  {
   "cell_type": "code",
   "execution_count": null,
   "id": "7",
   "metadata": {},
   "outputs": [],
   "source": [
    "channel_boxes = []\n",
    "for channel in frames.metadata[\"channels\"]:\n",
    "    enabled = widgets.ToggleButton(description=channel, value=True)\n",
    "    color = widgets.ColorPicker(concise=True, value=channel_colors[channel])\n",
    "    channel_box = widgets.HBox([enabled, color])\n",
    "    channel_boxes.append(channel_box)\n",
    "channels_box = widgets.VBox(channel_boxes)\n",
    "t_slider = widgets.IntSlider(\n",
    "    label=\"t\",\n",
    "    min=0,\n",
    "    max=frames.sizes[\"t\"] - 1,\n",
    "    step=1,\n",
    "    value=0,\n",
    "    continuous_update=False,\n",
    ")\n",
    "v_slider = widgets.IntSlider(\n",
    "    min=0, max=frames.sizes[\"v\"] - 1, step=1, value=0, continuous_update=False\n",
    ")\n",
    "slider_box = widgets.VBox([v_slider, t_slider])\n",
    "control_box = widgets.HBox([channels_box, slider_box])\n",
    "output = widgets.Output()\n",
    "main_box = widgets.VBox([control_box, output])\n",
    "display(main_box)\n",
    "\n",
    "max_val = 2**14\n",
    "\n",
    "\n",
    "def update_image(change):\n",
    "    with output:\n",
    "        clear_output(wait=True)\n",
    "        plt.figure(figsize=(8, 8))\n",
    "        channel_enabled = [\n",
    "            channel_box.children[0].value for channel_box in channel_boxes\n",
    "        ]\n",
    "        channel_imgs = [\n",
    "            frames.get_frame_2D(c=i, t=t_slider.value, v=v_slider.value)\n",
    "            for i in range(5)\n",
    "        ]\n",
    "        # img = channel_imgs[0][:,:,np.newaxis] / max_val * np.array(colors[0])[np.newaxis,np.newaxis,:]\n",
    "        colored_imgs = [\n",
    "            channel_imgs[i][:, :, np.newaxis] / max_val * np.array(colors[i])\n",
    "            for i in range(1, n_channels)\n",
    "            if channel_enabled[i]\n",
    "        ]\n",
    "        img = np.sum(colored_imgs[1:], axis=0) / sum(channel_enabled[1:])\n",
    "        if channel_enabled[0]:\n",
    "            # img = (img + channel_imgs[0]) / 2\n",
    "            ## SCREEN\n",
    "            img = 1 - (1 - img) * (1 - colored_imgs[0])\n",
    "        plt.imshow(img)\n",
    "        plt.show()\n",
    "\n",
    "\n",
    "update_image(None)\n",
    "\n",
    "t_slider.observe(update_image, names=\"value\")\n",
    "v_slider.observe(update_image, names=\"value\")\n",
    "for channel_box in channel_boxes:\n",
    "    channel_box.children[0].observe(update_image, names=\"value\")\n",
    "    channel_box.children[1].observe(update_image, names=\"value\")\n",
    "\n",
    "# ui = interactive(f,\n",
    "#          t=t_slider,\n",
    "#          v=v_slider)\n",
    "# output = plot.children[-1]\n",
    "# output.layout.height = '700px'\n",
    "# display(ui);"
   ]
  },
  {
   "cell_type": "code",
   "execution_count": null,
   "id": "8",
   "metadata": {},
   "outputs": [],
   "source": [
    "channel_imgs[0].max()"
   ]
  },
  {
   "cell_type": "code",
   "execution_count": null,
   "id": "9",
   "metadata": {},
   "outputs": [],
   "source": [
    "2**14"
   ]
  }
 ],
 "metadata": {
  "kernelspec": {
   "display_name": "Python 3",
   "language": "python",
   "name": "python3"
  },
  "language_info": {
   "codemirror_mode": {
    "name": "ipython",
    "version": 3
   },
   "file_extension": ".py",
   "mimetype": "text/x-python",
   "name": "python",
   "nbconvert_exporter": "python",
   "pygments_lexer": "ipython3",
   "version": "3.6.3"
  }
 },
 "nbformat": 4,
 "nbformat_minor": 2
}
