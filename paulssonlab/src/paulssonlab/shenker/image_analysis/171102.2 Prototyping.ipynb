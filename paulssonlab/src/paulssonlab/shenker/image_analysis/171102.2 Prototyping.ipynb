{
 "cells": [
  {
   "cell_type": "code",
   "execution_count": null,
   "id": "0",
   "metadata": {},
   "outputs": [],
   "source": [
    "%load_ext line_profiler"
   ]
  },
  {
   "cell_type": "code",
   "execution_count": null,
   "id": "1",
   "metadata": {},
   "outputs": [],
   "source": [
    "import datashader as ds\n",
    "import holoviews as hv\n",
    "import numpy as np\n",
    "import pandas as pd\n",
    "from holoviews.operation import decimate\n",
    "from holoviews.operation.datashader import aggregate, datashade, dynspread, shade\n",
    "\n",
    "hv.notebook_extension(\"bokeh\")\n",
    "%matplotlib inline\n",
    "import functools\n",
    "\n",
    "import ipywidgets as widgets\n",
    "import matplotlib.pyplot as plt\n",
    "import nd2reader\n",
    "import skimage\n",
    "from IPython.display import clear_output, display\n",
    "from ipywidgets import fixed, interact, interact_manual, interactive\n",
    "from matplotlib.colors import hex2color\n",
    "\n",
    "# from bokeh.io import push_notebook, show, output_notebook\n",
    "# from bokeh.layouts import row\n",
    "# from bokeh.plotting import figure"
   ]
  },
  {
   "cell_type": "code",
   "execution_count": null,
   "id": "2",
   "metadata": {},
   "outputs": [],
   "source": [
    "decimate.max_samples = 1000\n",
    "dynspread.max_px = 20\n",
    "dynspread.threshold = 0.5\n",
    "shade.cmap = \"#30a2da\"  # to match HV Bokeh default"
   ]
  },
  {
   "cell_type": "code",
   "execution_count": null,
   "id": "3",
   "metadata": {},
   "outputs": [],
   "source": [
    "frames = nd2reader.ND2Reader(\n",
    "    \"/home/jqs1/scratch/fidelity/171018/20171018_TrxnError_ID.nd2\"\n",
    ")"
   ]
  },
  {
   "cell_type": "code",
   "execution_count": null,
   "id": "4",
   "metadata": {},
   "outputs": [],
   "source": [
    "emission_wavelengths = {\"MCHERRY\": 583, \"GFP\": 508, \"CY5\": 670, \"BFP\": 448, \"CFP\": 480}"
   ]
  },
  {
   "cell_type": "code",
   "execution_count": null,
   "id": "5",
   "metadata": {},
   "outputs": [],
   "source": [
    "channel_colors = {\n",
    "    \"BF\": \"#ffffff\",\n",
    "    \"MCHERRY\": \"#e22400\",\n",
    "    \"GFP\": \"#76ba40\",\n",
    "    \"CY5\": \"#e292fe\",\n",
    "    \"BFP\": \"#3a87fd\",\n",
    "}"
   ]
  },
  {
   "cell_type": "code",
   "execution_count": null,
   "id": "6",
   "metadata": {},
   "outputs": [],
   "source": [
    "channels = frames.metadata[\"channels\"]\n",
    "n_channels = len(channels)\n",
    "colors = [hex2color(channel_colors[channel]) for channel in channels]"
   ]
  },
  {
   "cell_type": "code",
   "execution_count": null,
   "id": "7",
   "metadata": {},
   "outputs": [],
   "source": [
    "channel_boxes = []\n",
    "channel_widgets = []\n",
    "for channel in frames.metadata[\"channels\"]:\n",
    "    solo_button = widgets.Button(description=\"S\", layout=widgets.Layout(width=\"10%\"))\n",
    "    enabled_button = widgets.ToggleButton(description=channel, value=True)\n",
    "    solo_button._button_to_enable = enabled_button\n",
    "    color_picker = widgets.ColorPicker(concise=True, value=channel_colors[channel])\n",
    "    channel_box = widgets.HBox([solo_button, enabled_button, color_picker])\n",
    "    channel_widgets.append([solo_button, enabled_button, color_picker, channel_box])\n",
    "solo_buttons, enabled_buttons, color_pickers, channel_boxes = zip(*channel_widgets)\n",
    "channels_box = widgets.VBox(channel_boxes)\n",
    "t_slider = widgets.IntSlider(\n",
    "    label=\"t\",\n",
    "    min=0,\n",
    "    max=frames.sizes[\"t\"] - 1,\n",
    "    step=1,\n",
    "    value=0,\n",
    "    continuous_update=False,\n",
    ")\n",
    "v_slider = widgets.IntSlider(\n",
    "    min=0, max=frames.sizes[\"v\"] - 1, step=1, value=0, continuous_update=False\n",
    ")\n",
    "slider_box = widgets.VBox([v_slider, t_slider])\n",
    "control_box = widgets.HBox([channels_box, slider_box])\n",
    "output = widgets.Output()\n",
    "main_box = widgets.VBox([control_box, output])\n",
    "display(main_box)\n",
    "\n",
    "max_val = 2**14\n",
    "\n",
    "\n",
    "@functools.lru_cache(50)\n",
    "def get_cached_image(c=None, t=None, v=None):\n",
    "    return frames.get_frame_2D(c=c, t=t, v=v)\n",
    "\n",
    "\n",
    "def update_image(change):\n",
    "    with output:\n",
    "        clear_output(wait=True)\n",
    "        plt.figure(figsize=(8, 8))\n",
    "        channel_enabled = np.array([button.value for button in enabled_buttons])\n",
    "        channel_imgs = [\n",
    "            get_cached_image(c=i, t=t_slider.value, v=v_slider.value)\n",
    "            for i in range(n_channels)\n",
    "        ]\n",
    "        scaled_imgs = [\n",
    "            channel_imgs[i][:, :, np.newaxis] / np.percentile(channel_imgs[i], 99.9)\n",
    "            for i in range(n_channels)\n",
    "        ]\n",
    "        for scaled_img in scaled_imgs:\n",
    "            np.clip(scaled_img, 0, 1, scaled_img)  # clip in place\n",
    "        colored_imgs = [scaled_imgs[i] * np.array(colors[i]) for i in range(n_channels)]\n",
    "        imgs_to_combine = [\n",
    "            colored_imgs[i] for i in range(n_channels) if channel_enabled[i]\n",
    "        ]\n",
    "        if not len(imgs_to_combine):\n",
    "            imgs_to_combine = [np.ones(colored_imgs[0].shape)]  # white placeholder\n",
    "        img = imgs_to_combine[0]\n",
    "        for img2 in imgs_to_combine[1:]:\n",
    "            img = 1 - (1 - img) * (1 - img2)\n",
    "        plt.imshow(img)\n",
    "        plt.show()\n",
    "\n",
    "\n",
    "update_image(None)\n",
    "\n",
    "t_slider.observe(update_image, names=\"value\")\n",
    "v_slider.observe(update_image, names=\"value\")\n",
    "\n",
    "\n",
    "def update_solo(solo_button):\n",
    "    if (\n",
    "        solo_button._button_to_enable.value\n",
    "        and sum([b.value for b in enabled_buttons]) == 1\n",
    "    ):\n",
    "        for enabled_button in enabled_buttons:\n",
    "            enabled_button.value = True\n",
    "    else:\n",
    "        for enabled_button in enabled_buttons:\n",
    "            enabled_button.value = enabled_button == solo_button._button_to_enable\n",
    "    # update_image(None)\n",
    "\n",
    "\n",
    "for solo_button in solo_buttons:\n",
    "    solo_button.on_click(update_solo)\n",
    "\n",
    "for enabled_button in enabled_buttons:\n",
    "    enabled_button.observe(update_image, names=\"value\")\n",
    "for color_picker in color_pickers:\n",
    "    color_picker.observe(update_image, names=\"value\")\n",
    "\n",
    "# ui = interactive(f,\n",
    "#          t=t_slider,\n",
    "#          v=v_slider)\n",
    "# output = plot.children[-1]\n",
    "# output.layout.height = '700px'\n",
    "# display(ui);"
   ]
  },
  {
   "cell_type": "code",
   "execution_count": null,
   "id": "8",
   "metadata": {},
   "outputs": [],
   "source": [
    "%lprun -f update_image update_image(None)"
   ]
  },
  {
   "cell_type": "code",
   "execution_count": null,
   "id": "9",
   "metadata": {},
   "outputs": [],
   "source": [
    "channel_imgs = [frames.get_frame_2D(c=i, t=0, v=0) for i in range(5)]"
   ]
  },
  {
   "cell_type": "code",
   "execution_count": null,
   "id": "10",
   "metadata": {},
   "outputs": [],
   "source": [
    "# colored_imgs = [channel_imgs[i][:,:,np.newaxis] / max_val * np.array(colors[i]) for i in range(1,n_channels) if channel_enabled[i]]\n",
    "scaled_imgs = [\n",
    "    channel_imgs[i][:, :, np.newaxis] / np.percentile(channel_imgs[i], 99.9)\n",
    "    for i in range(n_channels)\n",
    "]\n",
    "for scaled_img in scaled_imgs:\n",
    "    np.clip(scaled_img, 0, 1, scaled_img)  # clip in place\n",
    "colored_imgs = [scaled_imgs[i] * np.array(colors[i]) for i in range(n_channels)]\n",
    "img = colored_imgs[1]\n",
    "for i in range(2, n_channels):\n",
    "    img = 1 - (1 - img) * (1 - colored_imgs[i])\n",
    "# img = np.sum(colored_imgs, axis=0)# / sum(channel_enabled[1:])\n",
    "# if channel_enabled[0]:\n",
    "#    img = 0.7*img + 0.3*colored_imgs[0]\n",
    "## SCREEN\n",
    "# img = 1 - (1 - img)*(1 - colored_imgs[0])"
   ]
  },
  {
   "cell_type": "code",
   "execution_count": null,
   "id": "11",
   "metadata": {},
   "outputs": [],
   "source": [
    "plt.imshow(img)"
   ]
  },
  {
   "cell_type": "code",
   "execution_count": null,
   "id": "12",
   "metadata": {},
   "outputs": [],
   "source": [
    "plt.imshow(colored_imgs[4])"
   ]
  }
 ],
 "metadata": {
  "kernelspec": {
   "display_name": "Python 3",
   "language": "python",
   "name": "python3"
  },
  "language_info": {
   "codemirror_mode": {
    "name": "ipython",
    "version": 3
   },
   "file_extension": ".py",
   "mimetype": "text/x-python",
   "name": "python",
   "nbconvert_exporter": "python",
   "pygments_lexer": "ipython3",
   "version": "3.6.3"
  }
 },
 "nbformat": 4,
 "nbformat_minor": 2
}
