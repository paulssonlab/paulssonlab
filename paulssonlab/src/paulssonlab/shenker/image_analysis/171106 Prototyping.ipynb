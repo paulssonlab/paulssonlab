{
 "cells": [
  {
   "cell_type": "code",
   "execution_count": null,
   "id": "0",
   "metadata": {},
   "outputs": [],
   "source": [
    "import functools\n",
    "from collections import Counter\n",
    "\n",
    "import datashader as ds\n",
    "import holoviews as hv\n",
    "import ipywidgets as widgets\n",
    "import matplotlib.pyplot as plt\n",
    "import nd2reader\n",
    "import numpy as np\n",
    "import pandas as pd\n",
    "import skimage\n",
    "import skimage.morphology\n",
    "import sklearn\n",
    "import zarr\n",
    "from bokeh.io import output_notebook, push_notebook, show\n",
    "from bokeh.models import WheelZoomTool\n",
    "from holoviews.operation import decimate\n",
    "from holoviews.operation.datashader import (\n",
    "    aggregate,\n",
    "    datashade,\n",
    "    dynspread,\n",
    "    regrid,\n",
    "    shade,\n",
    ")\n",
    "from holoviews.streams import Stream, param\n",
    "from IPython.display import clear_output, display\n",
    "from ipywidgets import fixed, interact, interact_manual, interactive\n",
    "from matplotlib.colors import hex2color\n",
    "from numcodecs import Blosc, Delta\n",
    "from sklearn.cluster import DBSCAN\n",
    "\n",
    "# from sklearn import metrics\n",
    "# from sklearn.datasets.samples_generator import make_blobs\n",
    "from sklearn.preprocessing import StandardScaler\n",
    "\n",
    "# from bokeh.layouts import row\n",
    "# from bokeh.plotting import figure\n",
    "from tqdm import tnrange, tqdm_notebook"
   ]
  },
  {
   "cell_type": "code",
   "execution_count": null,
   "id": "1",
   "metadata": {},
   "outputs": [],
   "source": [
    "%load_ext line_profiler\n",
    "hv.notebook_extension(\"bokeh\")\n",
    "renderer = hv.renderer(\"bokeh\")\n",
    "%matplotlib inline"
   ]
  },
  {
   "cell_type": "code",
   "execution_count": null,
   "id": "2",
   "metadata": {},
   "outputs": [],
   "source": [
    "frames_z = zarr.open_array(\"/home/jqs1/scratch/fidelity/test/171018.zarr\", mode=\"r\")"
   ]
  },
  {
   "cell_type": "code",
   "execution_count": null,
   "id": "3",
   "metadata": {},
   "outputs": [],
   "source": [
    "frames = nd2reader.ND2Reader(\n",
    "    \"/home/jqs1/scratch/fidelity/171018/20171018_TrxnError_ID.nd2\"\n",
    ")"
   ]
  },
  {
   "cell_type": "code",
   "execution_count": null,
   "id": "4",
   "metadata": {},
   "outputs": [],
   "source": [
    "frames_z.shape"
   ]
  },
  {
   "cell_type": "code",
   "execution_count": null,
   "id": "5",
   "metadata": {},
   "outputs": [],
   "source": [
    "channel_colors = {\n",
    "    \"BF\": \"#ffffff\",\n",
    "    \"MCHERRY\": \"#e22400\",\n",
    "    \"GFP\": \"#76ba40\",\n",
    "    \"CY5\": \"#e292fe\",\n",
    "    \"BFP\": \"#3a87fd\",\n",
    "    \"YFP\": \"#f5eb00\",\n",
    "}"
   ]
  },
  {
   "cell_type": "code",
   "execution_count": null,
   "id": "6",
   "metadata": {},
   "outputs": [],
   "source": [
    "%%output size=250\n",
    "\n",
    "channels = frames_z.attrs[\"metadata\"][\"channels\"]\n",
    "n_channels = len(channels)\n",
    "colors = [hex2color(channel_colors[channel]) for channel in channels]\n",
    "num_timepoints = len(frames_z.attrs[\"metadata\"][\"frames\"])\n",
    "num_fovs = len(frames_z.attrs[\"metadata\"][\"fields_of_view\"])\n",
    "\n",
    "channel_boxes = []\n",
    "channel_widgets = []\n",
    "for channel in channels:\n",
    "    solo_button = widgets.Button(description=\"S\", layout=widgets.Layout(width=\"10%\"))\n",
    "    enabled_button = widgets.ToggleButton(description=channel, value=True)\n",
    "    solo_button._button_to_enable = enabled_button\n",
    "    color_picker = widgets.ColorPicker(concise=True, value=channel_colors[channel])\n",
    "    channel_box = widgets.HBox([solo_button, enabled_button, color_picker])\n",
    "    channel_widgets.append([solo_button, enabled_button, color_picker, channel_box])\n",
    "solo_buttons, enabled_buttons, color_pickers, channel_boxes = zip(*channel_widgets)\n",
    "channels_box = widgets.VBox(channel_boxes)\n",
    "t_slider = widgets.IntSlider(\n",
    "    label=\"t\", min=0, max=num_timepoints, step=1, value=0, continuous_update=False\n",
    ")\n",
    "v_slider = widgets.IntSlider(\n",
    "    min=0, max=num_fovs, step=1, value=0, continuous_update=False\n",
    ")\n",
    "slider_box = widgets.VBox([v_slider, t_slider])\n",
    "control_box = widgets.HBox([channels_box, slider_box])\n",
    "output = widgets.Output()\n",
    "main_box = widgets.VBox([control_box, output])\n",
    "display(main_box)\n",
    "\n",
    "max_val = 2**14\n",
    "\n",
    "Frame = Stream.define(\"Frame\", t=0, v=0)\n",
    "frame = Frame()\n",
    "DisplaySettings = Stream.define(\n",
    "    \"DisplaySettings\", channel_enabled=np.array([True] * n_channels)\n",
    ")\n",
    "display_settings = DisplaySettings()\n",
    "\n",
    "\n",
    "def composite_image(t, v, channel_enabled):\n",
    "    # def composite_image(t, v):\n",
    "    # channel_enabled = [True] * n_channels\n",
    "    # channel_imgs = [frames.get_frame_2D(c=i, t=t, v=v) for i in range(n_channels)]\n",
    "    channel_imgs = [frames_z[v, c, t, :, :] for c in range(n_channels)]\n",
    "    scaled_imgs = [\n",
    "        channel_imgs[i][:, :, np.newaxis] / np.percentile(channel_imgs[i], 99.9)\n",
    "        for i in range(n_channels)\n",
    "    ]\n",
    "    for scaled_img in scaled_imgs:\n",
    "        np.clip(scaled_img, 0, 1, scaled_img)  # clip in place\n",
    "    colored_imgs = [scaled_imgs[i] * np.array(colors[i]) for i in range(n_channels)]\n",
    "    imgs_to_combine = [colored_imgs[i] for i in range(n_channels) if channel_enabled[i]]\n",
    "    if not len(imgs_to_combine):\n",
    "        imgs_to_combine = [np.ones(colored_imgs[0].shape)]  # white placeholder\n",
    "    img = imgs_to_combine[0]\n",
    "    for img2 in imgs_to_combine[1:]:\n",
    "        img = 1 - (1 - img) * (1 - img2)\n",
    "    return hv.RGB(img, bounds=(-1, -1, 1, 1))  # .opts(plot={'size': 250}, tools=[''])\n",
    "\n",
    "\n",
    "t_slider.observe(lambda change: frame.event(t=change[\"new\"]), names=\"value\")\n",
    "v_slider.observe(lambda change: frame.event(v=change[\"new\"]), names=\"value\")\n",
    "\n",
    "\n",
    "def update_enabled_channels(change):\n",
    "    channel_enabled = np.array([button.value for button in enabled_buttons])\n",
    "    display_settings.event(channel_enabled=channel_enabled)\n",
    "\n",
    "\n",
    "def update_solo(solo_button):\n",
    "    if (\n",
    "        solo_button._button_to_enable.value\n",
    "        and sum([b.value for b in enabled_buttons]) == 1\n",
    "    ):\n",
    "        for enabled_button in enabled_buttons:\n",
    "            enabled_button.value = True\n",
    "    else:\n",
    "        for enabled_button in enabled_buttons:\n",
    "            enabled_button.value = enabled_button == solo_button._button_to_enable\n",
    "    # update_enabled_channels(None)\n",
    "\n",
    "\n",
    "for solo_button in solo_buttons:\n",
    "    solo_button.on_click(update_solo)\n",
    "\n",
    "for enabled_button in enabled_buttons:\n",
    "    enabled_button.observe(update_enabled_channels, names=\"value\")\n",
    "# for color_picker in color_pickers:\n",
    "#    color_picker.observe(update_image, names='value')\n",
    "\n",
    "# hv.DynamicMap(composite_image, kdims=['t', 'v', 'channel_enabled']).select(t=0,v=0,channel_enabled=np.array([True,False,False,False,False]))\n",
    "image_viewer = hv.DynamicMap(composite_image, streams=[frame, display_settings])\n",
    "regrid(image_viewer)"
   ]
  },
  {
   "cell_type": "code",
   "execution_count": null,
   "id": "7",
   "metadata": {},
   "outputs": [],
   "source": [
    "a_stack = frames_z[0, :, :, 300:500, :1000]\n",
    "a = a_stack[0, 0]"
   ]
  },
  {
   "cell_type": "code",
   "execution_count": null,
   "id": "8",
   "metadata": {},
   "outputs": [],
   "source": [
    "plt.figure(figsize=(20, 12))\n",
    "plt.imshow(a)"
   ]
  },
  {
   "cell_type": "code",
   "execution_count": null,
   "id": "9",
   "metadata": {},
   "outputs": [],
   "source": [
    "%%output size=250\n",
    "b = skimage.filters.scharr(a)\n",
    "plt.figure(figsize=(20, 12))\n",
    "plt.imshow(b)\n",
    "# hv.Image(b)"
   ]
  },
  {
   "cell_type": "code",
   "execution_count": null,
   "id": "10",
   "metadata": {},
   "outputs": [],
   "source": [
    "b2 = skimage.filters.gaussian(a, sigma=2)"
   ]
  },
  {
   "cell_type": "code",
   "execution_count": null,
   "id": "11",
   "metadata": {},
   "outputs": [],
   "source": [
    "c_h = skimage.filters.sobel_h(b2)\n",
    "c_v = skimage.filters.sobel_v(b2)\n",
    "plt.figure(figsize=(20, 12))\n",
    "plt.imshow(c_h)\n",
    "plt.figure(figsize=(20, 12))\n",
    "plt.imshow(c_v)"
   ]
  },
  {
   "cell_type": "code",
   "execution_count": null,
   "id": "12",
   "metadata": {},
   "outputs": [],
   "source": [
    "c2_h = skimage.filters.sobel_h(c_h)\n",
    "c2_v = skimage.filters.sobel_v(c_v)\n",
    "plt.figure(figsize=(20, 12))\n",
    "plt.imshow(c2_h)\n",
    "plt.figure(figsize=(20, 12))\n",
    "plt.imshow(c2_v)"
   ]
  },
  {
   "cell_type": "code",
   "execution_count": null,
   "id": "13",
   "metadata": {},
   "outputs": [],
   "source": [
    "I = skimage.filters.gaussian(a, 1.5)\n",
    "I_x = skimage.filters.sobel_h(I)\n",
    "I_y = skimage.filters.sobel_v(I)\n",
    "I_xx = skimage.filters.sobel_h(I_x)\n",
    "I_xy = skimage.filters.sobel_v(I_x)\n",
    "I_yx = skimage.filters.sobel_h(I_y)\n",
    "I_yy = skimage.filters.sobel_v(I_y)\n",
    "kappa_1 = (I_xx + I_yy) / 2\n",
    "kappa_2 = (np.sqrt((I_xx + I_yy) ** 2 - 4 * (I_xx * I_yy - I_xy * I_yx))) / 2\n",
    "k1 = kappa_1 + kappa_2\n",
    "k2 = kappa_1 - kappa_2\n",
    "k1[np.isnan(k1)] = 0  # np.percentile(k1, 90)\n",
    "k2[np.isnan(k2)] = 0  # np.percentile(k2, 90)\n",
    "plt.figure(figsize=(20, 12))\n",
    "plt.imshow(k1)\n",
    "plt.figure(figsize=(20, 12))\n",
    "plt.imshow(k2)"
   ]
  },
  {
   "cell_type": "code",
   "execution_count": null,
   "id": "14",
   "metadata": {},
   "outputs": [],
   "source": [
    "plt.figure(figsize=(20, 12))\n",
    "plt.imshow(a_stack[1, :].max(axis=1))"
   ]
  },
  {
   "cell_type": "code",
   "execution_count": null,
   "id": "15",
   "metadata": {},
   "outputs": [],
   "source": [
    "plt.figure(figsize=(20, 12))\n",
    "plt.imshow(np.percentile(a_stack[0, :], 90, axis=1))"
   ]
  },
  {
   "cell_type": "code",
   "execution_count": null,
   "id": "16",
   "metadata": {},
   "outputs": [],
   "source": [
    "plt.figure(figsize=(20, 12))\n",
    "plt.imshow(np.percentile(a_stack[0, :], 99, axis=1))"
   ]
  },
  {
   "cell_type": "code",
   "execution_count": null,
   "id": "17",
   "metadata": {},
   "outputs": [],
   "source": [
    "plt.figure(figsize=(20, 12))\n",
    "plt.imshow(np.max(a_stack[0, :], axis=1))"
   ]
  },
  {
   "cell_type": "code",
   "execution_count": null,
   "id": "18",
   "metadata": {},
   "outputs": [],
   "source": [
    "e0 = a_stack[0, :].max(axis=1).mean(axis=0)\n",
    "plt.plot(e0)"
   ]
  },
  {
   "cell_type": "code",
   "execution_count": null,
   "id": "19",
   "metadata": {},
   "outputs": [],
   "source": [
    "e0 = a_stack[0, :].max(axis=1).max(axis=0)\n",
    "plt.plot(e0)"
   ]
  },
  {
   "cell_type": "code",
   "execution_count": null,
   "id": "20",
   "metadata": {},
   "outputs": [],
   "source": [
    "e1 = np.mean(k2, axis=0)\n",
    "plt.plot(e1)"
   ]
  },
  {
   "cell_type": "code",
   "execution_count": null,
   "id": "21",
   "metadata": {},
   "outputs": [],
   "source": [
    "e2 = np.fft.fft(e1)\n",
    "plt.plot(np.abs(e2))"
   ]
  },
  {
   "cell_type": "code",
   "execution_count": null,
   "id": "22",
   "metadata": {},
   "outputs": [],
   "source": [
    "plt.plot(np.abs(e2)[:200])"
   ]
  },
  {
   "cell_type": "code",
   "execution_count": null,
   "id": "23",
   "metadata": {},
   "outputs": [],
   "source": [
    "frames_z.shape"
   ]
  },
  {
   "cell_type": "code",
   "execution_count": null,
   "id": "24",
   "metadata": {},
   "outputs": [],
   "source": [
    "%%time\n",
    "f0 = frames_z[0, 0, :].max(axis=0)"
   ]
  },
  {
   "cell_type": "code",
   "execution_count": null,
   "id": "25",
   "metadata": {},
   "outputs": [],
   "source": [
    "%%time\n",
    "f01 = frames_z[0, 1, :].max(axis=0)"
   ]
  },
  {
   "cell_type": "code",
   "execution_count": null,
   "id": "26",
   "metadata": {},
   "outputs": [],
   "source": [
    "plt.figure(figsize=(20, 20))\n",
    "plt.imshow(f0)"
   ]
  },
  {
   "cell_type": "code",
   "execution_count": null,
   "id": "27",
   "metadata": {},
   "outputs": [],
   "source": [
    "plt.figure(figsize=(20, 20))\n",
    "plt.imshow(f01)"
   ]
  },
  {
   "cell_type": "code",
   "execution_count": null,
   "id": "28",
   "metadata": {},
   "outputs": [],
   "source": [
    "plt.plot(np.min(f0, axis=1))"
   ]
  },
  {
   "cell_type": "code",
   "execution_count": null,
   "id": "29",
   "metadata": {},
   "outputs": [],
   "source": [
    "plt.plot(np.percentile(f0, 0.5, axis=1) - np.min(f0, axis=1))"
   ]
  },
  {
   "cell_type": "code",
   "execution_count": null,
   "id": "30",
   "metadata": {},
   "outputs": [],
   "source": [
    "plt.plot(np.percentile(f0, 90, axis=1) - np.percentile(f0, 0.5, axis=1))"
   ]
  },
  {
   "cell_type": "code",
   "execution_count": null,
   "id": "31",
   "metadata": {},
   "outputs": [],
   "source": [
    "f1 = f0 - np.percentile(f0, 0.5, axis=1)[:, np.newaxis]\n",
    "plt.figure(figsize=(20, 20))\n",
    "plt.imshow(f1)"
   ]
  },
  {
   "cell_type": "code",
   "execution_count": null,
   "id": "32",
   "metadata": {},
   "outputs": [],
   "source": [
    "f2 = f1 > skimage.filters.threshold_otsu(f1)\n",
    "plt.figure(figsize=(20, 20))\n",
    "plt.imshow(f2)"
   ]
  },
  {
   "cell_type": "code",
   "execution_count": null,
   "id": "33",
   "metadata": {},
   "outputs": [],
   "source": [
    "centers = [[1, 1], [-1, -1], [1, -1]]\n",
    "X, labels_true = make_blobs(\n",
    "    n_samples=750, centers=centers, cluster_std=0.4, random_state=0\n",
    ")"
   ]
  },
  {
   "cell_type": "code",
   "execution_count": null,
   "id": "34",
   "metadata": {},
   "outputs": [],
   "source": [
    "X"
   ]
  },
  {
   "cell_type": "code",
   "execution_count": null,
   "id": "35",
   "metadata": {},
   "outputs": [],
   "source": [
    "X = np.array(np.where(f2)).T"
   ]
  },
  {
   "cell_type": "code",
   "execution_count": null,
   "id": "36",
   "metadata": {},
   "outputs": [],
   "source": [
    "X2 = StandardScaler().fit_transform(X)"
   ]
  },
  {
   "cell_type": "code",
   "execution_count": null,
   "id": "37",
   "metadata": {},
   "outputs": [],
   "source": [
    "db = DBSCAN(eps=0.3, min_samples=10).fit(X2)"
   ]
  },
  {
   "cell_type": "code",
   "execution_count": null,
   "id": "38",
   "metadata": {},
   "outputs": [],
   "source": [
    "X[0, 0]"
   ]
  },
  {
   "cell_type": "code",
   "execution_count": null,
   "id": "39",
   "metadata": {},
   "outputs": [],
   "source": [
    "label_img = np.zeros_like(f1)\n",
    "for i in range(len(db.labels_)):\n",
    "    label_img[X[i, 0], X[i, 1]] = db.labels_[i]"
   ]
  },
  {
   "cell_type": "code",
   "execution_count": null,
   "id": "40",
   "metadata": {},
   "outputs": [],
   "source": [
    "counter = Counter(db.labels_)\n",
    "total = sum(counter.values())\n",
    "good_labels = []\n",
    "for label, count in counter.items():\n",
    "    print(count / total)\n",
    "    if count / total > 0.01:\n",
    "        good_labels.append(label)"
   ]
  },
  {
   "cell_type": "code",
   "execution_count": null,
   "id": "41",
   "metadata": {},
   "outputs": [],
   "source": [
    "sum(counter.values())"
   ]
  },
  {
   "cell_type": "code",
   "execution_count": null,
   "id": "42",
   "metadata": {},
   "outputs": [],
   "source": [
    "good_labels"
   ]
  },
  {
   "cell_type": "code",
   "execution_count": null,
   "id": "43",
   "metadata": {},
   "outputs": [],
   "source": [
    "plt.figure(figsize=(20, 20))\n",
    "plt.imshow(label_img)"
   ]
  },
  {
   "cell_type": "code",
   "execution_count": null,
   "id": "44",
   "metadata": {},
   "outputs": [],
   "source": [
    "f3 = skimage.filters.gaussian(f1, 30)\n",
    "# f2 = skimage.f1 > skimage.filters.threshold_otsu(f1)\n",
    "plt.figure(figsize=(20, 20))\n",
    "plt.imshow(f3)"
   ]
  },
  {
   "cell_type": "code",
   "execution_count": null,
   "id": "45",
   "metadata": {},
   "outputs": [],
   "source": [
    "w = skimage.morphology.watershed()\n",
    "plt.figure(figsize=(20, 12))\n",
    "plt.imshow(w)"
   ]
  },
  {
   "cell_type": "code",
   "execution_count": null,
   "id": "46",
   "metadata": {},
   "outputs": [],
   "source": [
    "?skimage.filters.threshold_otsu"
   ]
  },
  {
   "cell_type": "code",
   "execution_count": null,
   "id": "47",
   "metadata": {},
   "outputs": [],
   "source": [
    "kt = k2 > 0.5 * skimage.filters.threshold_otsu(k2)\n",
    "plt.figure(figsize=(20, 12))\n",
    "plt.imshow(kt)"
   ]
  },
  {
   "cell_type": "code",
   "execution_count": null,
   "id": "48",
   "metadata": {},
   "outputs": [],
   "source": [
    "kt = k1 > 0.5 * skimage.filters.threshold_otsu(k1)\n",
    "plt.figure(figsize=(20, 12))\n",
    "plt.imshow(kt)"
   ]
  },
  {
   "cell_type": "code",
   "execution_count": null,
   "id": "49",
   "metadata": {},
   "outputs": [],
   "source": [
    "# rough trench finding using linear hough on thresholded k2 or thresholded intensity (?)\n",
    "# oval hough transform to find cells"
   ]
  },
  {
   "cell_type": "code",
   "execution_count": null,
   "id": "50",
   "metadata": {},
   "outputs": [],
   "source": [
    "plt.imshow(skimage.measure.label(1 - kt))"
   ]
  },
  {
   "cell_type": "code",
   "execution_count": null,
   "id": "51",
   "metadata": {},
   "outputs": [],
   "source": [
    "skimage.measure.label(1 - kt)"
   ]
  },
  {
   "cell_type": "code",
   "execution_count": null,
   "id": "52",
   "metadata": {},
   "outputs": [],
   "source": [
    "def hessian_eigenvalues(img):\n",
    "    I = skimage.filters.gaussian(img, 1.5)\n",
    "    I_x = skimage.filters.sobel_h(I)\n",
    "    I_y = skimage.filters.sobel_v(I)\n",
    "    I_xx = skimage.filters.sobel_h(I_x)\n",
    "    I_xy = skimage.filters.sobel_v(I_x)\n",
    "    I_yx = skimage.filters.sobel_h(I_y)\n",
    "    I_yy = skimage.filters.sobel_v(I_y)\n",
    "    kappa_1 = (I_xx + I_yy) / 2\n",
    "    kappa_2 = (np.sqrt((I_xx + I_yy) ** 2 - 4 * (I_xx * I_yy - I_xy * I_yx))) / 2\n",
    "    k1 = kappa_1 + kappa_2\n",
    "    k2 = kappa_1 - kappa_2\n",
    "    return k1, k2"
   ]
  },
  {
   "cell_type": "code",
   "execution_count": null,
   "id": "53",
   "metadata": {},
   "outputs": [],
   "source": [
    "num_timesteps = a_stack.shape[1]\n",
    "play = widgets.Play(\n",
    "    # interval=10,\n",
    "    value=0,\n",
    "    min=0,\n",
    "    max=num_timesteps,\n",
    "    step=1,\n",
    "    description=\"Press play\",\n",
    "    disabled=False,\n",
    ")\n",
    "time_slider = widgets.IntSlider(min=0, max=num_timesteps, continuous_update=False)\n",
    "widgets.jslink((play, \"value\"), (time_slider, \"value\"))\n",
    "output = widgets.Output()\n",
    "box = widgets.VBox([widgets.HBox([play, time_slider]), output])\n",
    "\n",
    "\n",
    "def f(t):\n",
    "    with output:\n",
    "        z = hessian_eigenvalues(a_stack[0, t])[0]\n",
    "        clear_output(wait=True)\n",
    "        plt.figure(figsize=(20, 12))\n",
    "        plt.imshow(z)\n",
    "        plt.show()\n",
    "\n",
    "\n",
    "interactive(f, t=time_slider)\n",
    "box"
   ]
  }
 ],
 "metadata": {
  "kernelspec": {
   "display_name": "Python 3",
   "language": "python",
   "name": "python3"
  },
  "language_info": {
   "codemirror_mode": {
    "name": "ipython",
    "version": 3
   },
   "file_extension": ".py",
   "mimetype": "text/x-python",
   "name": "python",
   "nbconvert_exporter": "python",
   "pygments_lexer": "ipython3",
   "version": "3.6.3"
  }
 },
 "nbformat": 4,
 "nbformat_minor": 2
}
