{
 "cells": [
  {
   "cell_type": "code",
   "execution_count": null,
   "id": "0",
   "metadata": {},
   "outputs": [],
   "source": [
    "import nd2reader\n",
    "import numcodecs\n",
    "import numpy as np\n",
    "import skimage\n",
    "import zarr\n",
    "from numcodecs import Blosc, Delta\n",
    "\n",
    "%matplotlib inline\n",
    "from copy import deepcopy\n",
    "\n",
    "import matplotlib.pyplot as plt\n",
    "from tqdm import tnrange, tqdm_notebook"
   ]
  },
  {
   "cell_type": "code",
   "execution_count": null,
   "id": "1",
   "metadata": {},
   "outputs": [],
   "source": [
    "frames = nd2reader.ND2Reader(\n",
    "    \"/home/jqs1/scratch/fidelity/171018/20171018_TrxnError_ID.nd2\"\n",
    ")"
   ]
  },
  {
   "cell_type": "code",
   "execution_count": null,
   "id": "2",
   "metadata": {},
   "outputs": [],
   "source": [
    "frames2 = nd2reader.ND2Reader(\n",
    "    \"/home/jqs1/scratch/fidelity/171018/20171018_TrxnError.nd2\"\n",
    ")"
   ]
  },
  {
   "cell_type": "code",
   "execution_count": null,
   "id": "3",
   "metadata": {},
   "outputs": [],
   "source": [
    "# z = zarr.open_array('/home/jqs1/scratch/fidelity/test/171018_id.zarr', mode='r+')\n",
    "z2 = zarr.open_array(\"/home/jqs1/scratch/fidelity/test/171018.zarr\", mode=\"r+\")"
   ]
  },
  {
   "cell_type": "code",
   "execution_count": null,
   "id": "4",
   "metadata": {},
   "outputs": [],
   "source": [
    "frames2.sizes"
   ]
  },
  {
   "cell_type": "code",
   "execution_count": null,
   "id": "5",
   "metadata": {},
   "outputs": [],
   "source": [
    "v = 20\n",
    "ary = np.dstack(\n",
    "    [frames2.get_frame_2D(c=0, t=t, v=v) for t in tnrange(frames2.sizes[\"t\"])]\n",
    ")"
   ]
  },
  {
   "cell_type": "code",
   "execution_count": null,
   "id": "6",
   "metadata": {},
   "outputs": [],
   "source": [
    "v = 20\n",
    "ary2 = np.dstack(\n",
    "    [\n",
    "        np.dstack(\n",
    "            [frames2.get_frame_2D(c=0, t=t, v=v) for t in tnrange(frames2.sizes[\"t\"])]\n",
    "        )[:, :, np.newaxis, :]\n",
    "        for c in tnrange(frames2.sizes[\"c\"])\n",
    "    ]\n",
    ")"
   ]
  },
  {
   "cell_type": "code",
   "execution_count": null,
   "id": "7",
   "metadata": {},
   "outputs": [],
   "source": [
    "def bench_composite(channel_stack):\n",
    "    # channel_imgs = [frames.get_frame_2D(c=i, t=t, v=v) for i in range(n_channels)]\n",
    "    scaled_imgs = [\n",
    "        channel_imgs[i][:, :, np.newaxis] / np.percentile(channel_imgs[i], 99.9)\n",
    "        for i in range(n_channels)\n",
    "    ]\n",
    "    for scaled_img in scaled_imgs:\n",
    "        np.clip(scaled_img, 0, 1, scaled_img)  # clip in place\n",
    "    colored_imgs = [scaled_imgs[i] * np.array(colors[i]) for i in range(n_channels)]\n",
    "    imgs_to_combine = [colored_imgs[i] for i in range(n_channels)]\n",
    "    if not len(imgs_to_combine):\n",
    "        imgs_to_combine = [np.ones(colored_imgs[0].shape)]  # white placeholder\n",
    "    img = imgs_to_combine[0]\n",
    "    for img2 in imgs_to_combine[1:]:\n",
    "        img = 1 - (1 - img) * (1 - img2)\n",
    "    # return img"
   ]
  },
  {
   "cell_type": "code",
   "execution_count": null,
   "id": "8",
   "metadata": {},
   "outputs": [],
   "source": [
    "def bench_segment(channel_stack):\n",
    "    pass"
   ]
  },
  {
   "cell_type": "code",
   "execution_count": null,
   "id": "9",
   "metadata": {},
   "outputs": [],
   "source": [
    "scale = 2**6\n",
    "plt.figure(figsize=(20, 20))\n",
    "plt.imshow(ary[:, :, 0] // scale)\n",
    "plt.figure(figsize=(20, 20))\n",
    "plt.plot(ary[1000, :, 0] // scale)\n",
    "plt.figure(figsize=(20, 20))\n",
    "plt.plot(ary[:, 1000, 0] // scale)"
   ]
  },
  {
   "cell_type": "code",
   "execution_count": null,
   "id": "10",
   "metadata": {},
   "outputs": [],
   "source": [
    "%%time\n",
    "# filters = [numcodecs.Delta(dtype='u2', astype='u2')]\n",
    "# filters = [numcodecs.Quantize(4, dtype='u2', astype='u2')]\n",
    "# filters = [numcodecs.FixedScaleOffset(ary.mean(), ary.std(), dtype='u2', astype='u2')]\n",
    "filters = []\n",
    "compressor = Blosc(cname=\"zstd\", clevel=5, shuffle=Blosc.SHUFFLE)  # , blocksize=0)\n",
    "z2 = zarr.open_array(\n",
    "    \"/home/jqs1/scratch/fidelity/test/z2.zarr\",\n",
    "    mode=\"w\",\n",
    "    shape=ary.shape,\n",
    "    chunks=(512, 512, 1),\n",
    "    filters=filters,\n",
    "    dtype=\"u2\",\n",
    "    order=\"C\",\n",
    "    compressor=compressor,\n",
    ")\n",
    "z2[:] = ary // 64\n",
    "display(z2.info)"
   ]
  },
  {
   "cell_type": "code",
   "execution_count": null,
   "id": "11",
   "metadata": {},
   "outputs": [],
   "source": [
    "%%time\n",
    "# filters = [numcodecs.Delta(dtype='u2', astype='u2')]\n",
    "# filters = [numcodecs.Quantize(4, dtype='u2', astype='u2')]\n",
    "# filters = [numcodecs.FixedScaleOffset(ary.mean(), ary.std(), dtype='u2', astype='u2')]\n",
    "filters = []\n",
    "compressor = Blosc(cname=\"zstd\", clevel=1, shuffle=Blosc.SHUFFLE)  # , blocksize=0)\n",
    "z3 = zarr.open_array(\n",
    "    \"/home/jqs1/scratch/fidelity/test/z3.zarr\",\n",
    "    mode=\"w\",\n",
    "    shape=ary.shape,\n",
    "    chunks=(512, 512, 1),\n",
    "    filters=filters,\n",
    "    dtype=\"u2\",\n",
    "    order=\"C\",\n",
    "    compressor=compressor,\n",
    ")\n",
    "z3[:] = ary // 64\n",
    "display(z3.info)"
   ]
  },
  {
   "cell_type": "code",
   "execution_count": null,
   "id": "12",
   "metadata": {},
   "outputs": [],
   "source": [
    "%%time\n",
    "# filters = [numcodecs.Delta(dtype='u2', astype='u2')]\n",
    "# filters = [numcodecs.Quantize(4, dtype='u2', astype='u2')]\n",
    "# filters = [numcodecs.FixedScaleOffset(ary.mean(), ary.std(), dtype='u2', astype='u2')]\n",
    "filters = []\n",
    "compressor = Blosc(cname=\"blosclz\", clevel=1, shuffle=Blosc.SHUFFLE)  # , blocksize=0)\n",
    "z3 = zarr.open_array(\n",
    "    \"/home/jqs1/scratch/fidelity/test/z3.zarr\",\n",
    "    mode=\"w\",\n",
    "    shape=ary.shape,\n",
    "    chunks=(512, 512, 1),\n",
    "    filters=filters,\n",
    "    dtype=\"u2\",\n",
    "    order=\"C\",\n",
    "    compressor=compressor,\n",
    ")\n",
    "z3[:] = ary // 64\n",
    "display(z3.info)"
   ]
  },
  {
   "cell_type": "code",
   "execution_count": null,
   "id": "13",
   "metadata": {},
   "outputs": [],
   "source": [
    "z1 = zarr.open_array(\n",
    "    \"/home/jqs1/scratch/fidelity/test/z2.zarr\",\n",
    "    mode=\"w\",\n",
    "    shape=ary3.shape,\n",
    "    chunks=(1024, 1024, 1, 10),\n",
    "    dtype=\"i2\",\n",
    ")"
   ]
  },
  {
   "cell_type": "code",
   "execution_count": null,
   "id": "14",
   "metadata": {},
   "outputs": [],
   "source": [
    "%%time\n",
    "z1[:] = ary2"
   ]
  },
  {
   "cell_type": "code",
   "execution_count": null,
   "id": "15",
   "metadata": {},
   "outputs": [],
   "source": [
    "z1.info"
   ]
  },
  {
   "cell_type": "code",
   "execution_count": null,
   "id": "16",
   "metadata": {},
   "outputs": [],
   "source": [
    "%%time\n",
    "filters = []  # [Delta(dtype='i2')]\n",
    "compressor = Blosc(cname=\"zstd\", clevel=2, shuffle=Blosc.SHUFFLE, blocksize=0)\n",
    "z2 = zarr.open_array(\n",
    "    \"/home/jqs1/scratch/fidelity/test/z2.zarr\",\n",
    "    mode=\"w\",\n",
    "    shape=ary2.shape,\n",
    "    chunks=(1024, 1024, 1, 10),\n",
    "    dtype=\"i2\",\n",
    "    filters=filters,\n",
    "    order=\"F\",\n",
    "    compressor=compressor,\n",
    ")\n",
    "z2[:] = ary2"
   ]
  },
  {
   "cell_type": "code",
   "execution_count": null,
   "id": "17",
   "metadata": {},
   "outputs": [],
   "source": [
    "z2.info"
   ]
  },
  {
   "cell_type": "code",
   "execution_count": null,
   "id": "18",
   "metadata": {},
   "outputs": [],
   "source": [
    "%%time\n",
    "bench_composite(z1[:, :, :, 0])"
   ]
  },
  {
   "cell_type": "code",
   "execution_count": null,
   "id": "19",
   "metadata": {},
   "outputs": [],
   "source": [
    "%%time\n",
    "for t in range(frames2.sizes[\"t\"]):\n",
    "    np.percentile(z1[:, :, 0, t], 99.9)"
   ]
  },
  {
   "cell_type": "code",
   "execution_count": null,
   "id": "20",
   "metadata": {},
   "outputs": [],
   "source": [
    "%%time\n",
    "for t in range(frames2.sizes[\"t\"]):\n",
    "    np.percentile(z2[:, :, 0, t], 99.9)"
   ]
  },
  {
   "cell_type": "code",
   "execution_count": null,
   "id": "21",
   "metadata": {},
   "outputs": [],
   "source": [
    "%%time\n",
    "for t in range(frames2.sizes[\"t\"]):\n",
    "    np.percentile(z[:, :, 0, t], 99.9)"
   ]
  },
  {
   "cell_type": "code",
   "execution_count": null,
   "id": "22",
   "metadata": {},
   "outputs": [],
   "source": [
    "%%time\n",
    "for t in range(frames2.sizes[\"t\"]):\n",
    "    np.percentile(ary2[:, :, 0, t], 99.9)"
   ]
  },
  {
   "cell_type": "code",
   "execution_count": null,
   "id": "23",
   "metadata": {},
   "outputs": [],
   "source": [
    "%%time\n",
    "filters = []  # [Delta(dtype=np.uint16, astype=np.int16)]\n",
    "compressor = Blosc(cname=\"zstd\", clevel=1, shuffle=Blosc.SHUFFLE, blocksize=0)\n",
    "z = zarr.array(\n",
    "    ary2, chunks=(None, None, 1, 5), filters=filters, order=\"C\", compressor=compressor\n",
    ")\n",
    "print(z.info)"
   ]
  },
  {
   "cell_type": "code",
   "execution_count": null,
   "id": "24",
   "metadata": {},
   "outputs": [],
   "source": [
    "len(set(ary[0, 0, :])) / len(ary[0, 0, :].flat)"
   ]
  },
  {
   "cell_type": "code",
   "execution_count": null,
   "id": "25",
   "metadata": {},
   "outputs": [],
   "source": [
    "plt.plot(ary[0, 0:10, :].T)"
   ]
  },
  {
   "cell_type": "code",
   "execution_count": null,
   "id": "26",
   "metadata": {},
   "outputs": [],
   "source": [
    "plt.plot(ary[0:10, 0, :].T)"
   ]
  },
  {
   "cell_type": "code",
   "execution_count": null,
   "id": "27",
   "metadata": {},
   "outputs": [],
   "source": [
    "aryb = np.rollaxis(ary, 2, 0)"
   ]
  },
  {
   "cell_type": "code",
   "execution_count": null,
   "id": "28",
   "metadata": {},
   "outputs": [],
   "source": [
    "%%time\n",
    "filters = []  # [Delta(dtype=np.uint16, astype=np.int16)]\n",
    "compressor = Blosc(cname=\"zstd\", clevel=9, shuffle=Blosc.SHUFFLE, blocksize=0)\n",
    "# compressor = Blosc(cname='blosclz', clevel=9, shuffle=Blosc.BITSHUFFLE, blocksize=0)\n",
    "z = zarr.array(\n",
    "    aryb, chunks=(1, 512, 512), filters=filters, order=\"C\", compressor=compressor\n",
    ")\n",
    "print(z.info)"
   ]
  },
  {
   "cell_type": "code",
   "execution_count": null,
   "id": "29",
   "metadata": {},
   "outputs": [],
   "source": [
    "frames.filename"
   ]
  },
  {
   "cell_type": "code",
   "execution_count": null,
   "id": "30",
   "metadata": {},
   "outputs": [],
   "source": [
    "compressor = Blosc(cname=\"zstd\", clevel=5, shuffle=Blosc.SHUFFLE, blocksize=0)\n",
    "frames_z = zarr.open_array(\n",
    "    \"/home/jqs1/scratch/fidelity/test/171018_id.zarr\",\n",
    "    mode=\"w\",\n",
    "    shape=[frames.sizes[n] for n in \"vctyx\"],\n",
    "    chunks=(1, 1, 1, 512, 512),\n",
    "    dtype=\"u2\",\n",
    "    order=\"C\",\n",
    "    compressor=compressor,\n",
    ")\n",
    "meta = deepcopy(frames.metadata)\n",
    "meta[\"date\"] = meta[\"date\"].isoformat()\n",
    "frames_z.attrs[\"metadata\"] = meta\n",
    "for v in tnrange(frames.sizes[\"v\"]):\n",
    "    for t in range(frames.sizes[\"t\"]):\n",
    "        for c in range(frames.sizes[\"c\"]):\n",
    "            frames_z[v, c, t, :, :] = frames.get_frame_2D(c=c, t=t, v=v)"
   ]
  },
  {
   "cell_type": "code",
   "execution_count": null,
   "id": "31",
   "metadata": {},
   "outputs": [],
   "source": [
    "compressor = Blosc(cname=\"zstd\", clevel=5, shuffle=Blosc.SHUFFLE, blocksize=0)\n",
    "frames2_z = zarr.open_array(\n",
    "    \"/home/jqs1/scratch/fidelity/test/171018.zarr\",\n",
    "    mode=\"w\",\n",
    "    shape=[frames2.sizes[n] for n in \"vctyx\"],\n",
    "    chunks=(1, 1, 1, 512, 512),\n",
    "    dtype=\"u2\",\n",
    "    order=\"C\",\n",
    "    compressor=compressor,\n",
    ")\n",
    "# for v in tnrange(frames2.sizes['v']):\n",
    "meta = deepcopy(frames2.metadata)\n",
    "meta[\"date\"] = meta[\"date\"].isoformat()\n",
    "frames2_z.attrs[\"metadata\"] = meta\n",
    "for v in tnrange(200):\n",
    "    for t in range(frames2.sizes[\"t\"]):\n",
    "        for c in range(frames2.sizes[\"c\"]):\n",
    "            frames2_z[v, c, t, :, :] = frames2.get_frame_2D(c=c, t=t, v=v)"
   ]
  },
  {
   "cell_type": "code",
   "execution_count": null,
   "id": "32",
   "metadata": {},
   "outputs": [],
   "source": [
    "numcodecs."
   ]
  },
  {
   "cell_type": "code",
   "execution_count": null,
   "id": "33",
   "metadata": {},
   "outputs": [],
   "source": [
    "compressor = numcodecs.BZ2"
   ]
  },
  {
   "cell_type": "code",
   "execution_count": null,
   "id": "34",
   "metadata": {},
   "outputs": [],
   "source": [
    "a = ary - ary.mean(axis=(0, 1)).astype(np.uint16)"
   ]
  },
  {
   "cell_type": "code",
   "execution_count": null,
   "id": "35",
   "metadata": {},
   "outputs": [],
   "source": [
    "b = np.rollaxis(a, 2, 0)\n",
    "print(a.shape, b.shape)"
   ]
  },
  {
   "cell_type": "code",
   "execution_count": null,
   "id": "36",
   "metadata": {},
   "outputs": [],
   "source": [
    "c = np.rollaxis(a, 2, 1)\n",
    "print(a.shape, b.shape)"
   ]
  },
  {
   "cell_type": "code",
   "execution_count": null,
   "id": "37",
   "metadata": {},
   "outputs": [],
   "source": [
    "%%time\n",
    "filters = []  # [Delta(dtype=np.uint16, astype=np.int16)]\n",
    "compressor = Blosc(cname=\"zstd\", clevel=3, shuffle=Blosc.SHUFFLE, blocksize=0)\n",
    "z = zarr.array(\n",
    "    c, chunks=(256, 20, 256), filters=filters, order=\"C\", compressor=compressor\n",
    ")\n",
    "print(z.info)"
   ]
  },
  {
   "cell_type": "code",
   "execution_count": null,
   "id": "38",
   "metadata": {},
   "outputs": [],
   "source": [
    "%%time\n",
    "filters = []  # [Delta(dtype=np.uint16, astype=np.int16)]\n",
    "compressor = Blosc(cname=\"zstd\", clevel=3, shuffle=Blosc.SHUFFLE, blocksize=0)\n",
    "z = zarr.array(\n",
    "    b, chunks=(None, 256, 256), filters=filters, order=\"C\", compressor=compressor\n",
    ")\n",
    "print(z.info)"
   ]
  },
  {
   "cell_type": "code",
   "execution_count": null,
   "id": "39",
   "metadata": {},
   "outputs": [],
   "source": [
    "%%time\n",
    "filters = []  # [Delta(dtype=np.uint16, astype=np.int16)]\n",
    "compressor = Blosc(cname=\"zstd\", clevel=3, shuffle=Blosc.SHUFFLE, blocksize=0)\n",
    "z = zarr.array(\n",
    "    a, chunks=(256, 256, 20), filters=filters, order=\"F\", compressor=compressor\n",
    ")\n",
    "print(z.info)"
   ]
  }
 ],
 "metadata": {
  "kernelspec": {
   "display_name": "Python 3",
   "language": "python",
   "name": "python3"
  },
  "language_info": {
   "codemirror_mode": {
    "name": "ipython",
    "version": 3
   },
   "file_extension": ".py",
   "mimetype": "text/x-python",
   "name": "python",
   "nbconvert_exporter": "python",
   "pygments_lexer": "ipython3",
   "version": "3.6.3"
  }
 },
 "nbformat": 4,
 "nbformat_minor": 2
}
