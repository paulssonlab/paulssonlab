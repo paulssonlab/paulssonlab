{
 "cells": [
  {
   "cell_type": "code",
   "execution_count": null,
   "id": "0",
   "metadata": {},
   "outputs": [],
   "source": [
    "from copy import deepcopy\n",
    "\n",
    "import nd2reader\n",
    "import numpy as np\n",
    "import zarr\n",
    "from numcodecs import Blosc, Delta\n",
    "from tqdm import tnrange, tqdm_notebook"
   ]
  },
  {
   "cell_type": "markdown",
   "id": "1",
   "metadata": {},
   "source": [
    "# 171018"
   ]
  },
  {
   "cell_type": "code",
   "execution_count": null,
   "id": "2",
   "metadata": {},
   "outputs": [],
   "source": [
    "pass"
   ]
  },
  {
   "cell_type": "markdown",
   "id": "3",
   "metadata": {},
   "source": [
    "# 171214"
   ]
  },
  {
   "cell_type": "code",
   "execution_count": null,
   "id": "4",
   "metadata": {},
   "outputs": [],
   "source": [
    "frames = nd2reader.ND2Reader(\n",
    "    \"/home/jqs1/scratch/fidelity/171214/transcriptionerror_timelapse.nd2\"\n",
    ")"
   ]
  },
  {
   "cell_type": "code",
   "execution_count": null,
   "id": "5",
   "metadata": {},
   "outputs": [],
   "source": [
    "compressor = Blosc(cname=\"zstd\", clevel=5, shuffle=Blosc.SHUFFLE, blocksize=0)\n",
    "store = zarr.DirectoryStore(\n",
    "    \"/home/jqs1/scratch/fidelity/171214/transcriptionerror_timelapse.zarr\"\n",
    ")\n",
    "root_group = zarr.open_group(store=store)\n",
    "raw_group = root_group.require_group(\"raw\")\n",
    "meta = deepcopy(frames.metadata)\n",
    "meta[\"date\"] = meta[\"date\"].isoformat()\n",
    "raw_group.attrs[\"metadata\"] = meta\n",
    "for v in tnrange(frames.sizes[\"v\"]):\n",
    "    ary = raw_group.require_dataset(\n",
    "        \"{:d}\".format(v),\n",
    "        shape=[frames.sizes[n] for n in \"ctyx\"],\n",
    "        chunks=(1, 1, 512, 512),\n",
    "        dtype=\"u2\",\n",
    "        order=\"C\",\n",
    "        compressor=compressor,\n",
    "    )\n",
    "    if \"ingested\" in ary.attrs and ary.attrs[\"ingested\"]:\n",
    "        continue\n",
    "    ary.attrs[\"ingested\"] = False\n",
    "    ary.attrs[\"metadata\"] = meta\n",
    "    for c in range(frames.sizes[\"c\"]):\n",
    "        for t in tnrange(frames.sizes[\"t\"]):\n",
    "            ary[c, t, :, :] = frames.get_frame_2D(c=c, t=t, v=v)\n",
    "    ary.attrs[\"ingested\"] = True"
   ]
  }
 ],
 "metadata": {
  "kernelspec": {
   "display_name": "Python 3",
   "language": "python",
   "name": "python3"
  },
  "language_info": {
   "codemirror_mode": {
    "name": "ipython",
    "version": 3
   },
   "file_extension": ".py",
   "mimetype": "text/x-python",
   "name": "python",
   "nbconvert_exporter": "python",
   "pygments_lexer": "ipython3",
   "version": "3.6.3"
  }
 },
 "nbformat": 4,
 "nbformat_minor": 2
}
