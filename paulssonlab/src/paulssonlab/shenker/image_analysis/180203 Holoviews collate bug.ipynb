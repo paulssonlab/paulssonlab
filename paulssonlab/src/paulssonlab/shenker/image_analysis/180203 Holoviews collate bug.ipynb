{
 "cells": [
  {
   "cell_type": "code",
   "execution_count": null,
   "id": "0",
   "metadata": {},
   "outputs": [],
   "source": [
    "import holoviews as hv\n",
    "import numpy as np\n",
    "from holoviews.operation.datashader import (\n",
    "    aggregate,\n",
    "    datashade,\n",
    "    dynspread,\n",
    "    regrid,\n",
    "    shade,\n",
    ")\n",
    "\n",
    "hv.notebook_extension(\"bokeh\")"
   ]
  },
  {
   "cell_type": "code",
   "execution_count": null,
   "id": "1",
   "metadata": {},
   "outputs": [],
   "source": [
    "dat1 = {}\n",
    "dat2 = {}\n",
    "for z in range(10):\n",
    "    dat1[z] = hv.Image(\n",
    "        np.random.random((1000, 1000)), bounds=(0, 0, 10, 10)\n",
    "    ) * hv.HLine(z)\n",
    "    dat2[z] = hv.Curve((np.random.random(1000) - 0.5).cumsum()) * hv.VLine(z * 100)"
   ]
  },
  {
   "cell_type": "code",
   "execution_count": null,
   "id": "2",
   "metadata": {},
   "outputs": [],
   "source": [
    "def cb(z):\n",
    "    return dat1[z]\n",
    "\n",
    "\n",
    "dmap = hv.DynamicMap(cb, kdims=[\"z\"]).redim.values(z=range(10))\n",
    "dmap"
   ]
  },
  {
   "cell_type": "code",
   "execution_count": null,
   "id": "3",
   "metadata": {},
   "outputs": [],
   "source": [
    "dmap.collate()"
   ]
  },
  {
   "cell_type": "code",
   "execution_count": null,
   "id": "4",
   "metadata": {},
   "outputs": [],
   "source": [
    "def cb(z):\n",
    "    return dat1[z].map(regrid, hv.Image)  # .collate()\n",
    "\n",
    "\n",
    "dmap = hv.DynamicMap(cb, kdims=[\"z\"]).redim.values(z=range(10))\n",
    "# dmap"
   ]
  },
  {
   "cell_type": "code",
   "execution_count": null,
   "id": "5",
   "metadata": {},
   "outputs": [],
   "source": [
    "dmap"
   ]
  },
  {
   "cell_type": "code",
   "execution_count": null,
   "id": "6",
   "metadata": {},
   "outputs": [],
   "source": [
    "dmap.collate()"
   ]
  },
  {
   "cell_type": "code",
   "execution_count": null,
   "id": "7",
   "metadata": {},
   "outputs": [],
   "source": [
    "dmap[6]"
   ]
  },
  {
   "cell_type": "code",
   "execution_count": null,
   "id": "8",
   "metadata": {},
   "outputs": [],
   "source": [
    "dmap.kdims"
   ]
  },
  {
   "cell_type": "code",
   "execution_count": null,
   "id": "9",
   "metadata": {},
   "outputs": [],
   "source": [
    "dmap[3]"
   ]
  },
  {
   "cell_type": "code",
   "execution_count": null,
   "id": "10",
   "metadata": {},
   "outputs": [],
   "source": [
    "dmap.streams"
   ]
  },
  {
   "cell_type": "code",
   "execution_count": null,
   "id": "11",
   "metadata": {},
   "outputs": [],
   "source": [
    "dmap.collate()"
   ]
  },
  {
   "cell_type": "code",
   "execution_count": null,
   "id": "12",
   "metadata": {},
   "outputs": [],
   "source": [
    "dmap.collate()"
   ]
  },
  {
   "cell_type": "code",
   "execution_count": null,
   "id": "13",
   "metadata": {},
   "outputs": [],
   "source": [
    "def cb2(z):\n",
    "    dat = (np.random.random(10) - 0.5).cumsum()\n",
    "    return hv.Curve(dat) * hv.VLine(z)\n",
    "\n",
    "\n",
    "dmap2 = hv.DynamicMap(cb2, kdims=[\"z\"]).redim.values(z=range(10))\n",
    "dmap2"
   ]
  },
  {
   "cell_type": "code",
   "execution_count": null,
   "id": "14",
   "metadata": {},
   "outputs": [],
   "source": [
    "dmap2.collate()"
   ]
  }
 ],
 "metadata": {
  "kernelspec": {
   "display_name": "Python 3",
   "language": "python",
   "name": "python3"
  },
  "language_info": {
   "codemirror_mode": {
    "name": "ipython",
    "version": 3
   },
   "file_extension": ".py",
   "mimetype": "text/x-python",
   "name": "python",
   "nbconvert_exporter": "python",
   "pygments_lexer": "ipython3",
   "version": "3.6.3"
  }
 },
 "nbformat": 4,
 "nbformat_minor": 2
}
