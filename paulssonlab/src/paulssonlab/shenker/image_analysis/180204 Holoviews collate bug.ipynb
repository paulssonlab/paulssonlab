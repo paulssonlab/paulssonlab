{
 "cells": [
  {
   "cell_type": "code",
   "execution_count": null,
   "metadata": {},
   "outputs": [],
   "source": [
    "import numpy as np\n",
    "import holoviews as hv\n",
    "from holoviews.operation.datashader import (\n",
    "    aggregate,\n",
    "    datashade,\n",
    "    dynspread,\n",
    "    shade,\n",
    "    regrid,\n",
    ")\n",
    "\n",
    "hv.notebook_extension(\"bokeh\")"
   ]
  },
  {
   "cell_type": "code",
   "execution_count": null,
   "metadata": {},
   "outputs": [],
   "source": [
    "dat1 = {}\n",
    "dat2 = {}\n",
    "for z in range(10):\n",
    "    dat1[z] = hv.Image(\n",
    "        np.random.random((1000, 1000)), bounds=(0, 0, 10, 10)\n",
    "    ) * hv.HLine(z)\n",
    "    dat2[z] = hv.Curve((np.random.random(1000) - 0.5).cumsum()) * hv.VLine(z * 100)"
   ]
  },
  {
   "cell_type": "code",
   "execution_count": null,
   "metadata": {},
   "outputs": [],
   "source": [
    "def cb(z):\n",
    "    return dat1[z]\n",
    "\n",
    "\n",
    "dmap = hv.DynamicMap(cb, kdims=[\"z\"]).redim.values(z=range(10))\n",
    "dmap"
   ]
  },
  {
   "cell_type": "code",
   "execution_count": null,
   "metadata": {},
   "outputs": [],
   "source": [
    "dmaps = dmap.split_overlays()"
   ]
  },
  {
   "cell_type": "code",
   "execution_count": null,
   "metadata": {},
   "outputs": [],
   "source": [
    "dmaps"
   ]
  },
  {
   "cell_type": "code",
   "execution_count": null,
   "metadata": {},
   "outputs": [],
   "source": [
    "regrid(dmaps[1][0])"
   ]
  },
  {
   "cell_type": "code",
   "execution_count": null,
   "metadata": {},
   "outputs": [],
   "source": [
    "dmap.collate()"
   ]
  },
  {
   "cell_type": "code",
   "execution_count": null,
   "metadata": {},
   "outputs": [],
   "source": [
    "def cb(z):\n",
    "    return dat1[z].map(regrid, hv.Image)  # .collate()\n",
    "\n",
    "\n",
    "dmap = hv.DynamicMap(cb, kdims=[\"z\"]).redim.values(z=range(10))\n",
    "# dmap"
   ]
  },
  {
   "cell_type": "code",
   "execution_count": null,
   "metadata": {},
   "outputs": [],
   "source": [
    "dmap"
   ]
  },
  {
   "cell_type": "code",
   "execution_count": null,
   "metadata": {},
   "outputs": [],
   "source": [
    "dmap.collate()"
   ]
  },
  {
   "cell_type": "code",
   "execution_count": null,
   "metadata": {},
   "outputs": [],
   "source": [
    "dmap[6]"
   ]
  },
  {
   "cell_type": "code",
   "execution_count": null,
   "metadata": {},
   "outputs": [],
   "source": [
    "dmap.kdims"
   ]
  },
  {
   "cell_type": "code",
   "execution_count": null,
   "metadata": {},
   "outputs": [],
   "source": [
    "dmap[3]"
   ]
  },
  {
   "cell_type": "code",
   "execution_count": null,
   "metadata": {},
   "outputs": [],
   "source": [
    "dmap.streams"
   ]
  },
  {
   "cell_type": "code",
   "execution_count": null,
   "metadata": {},
   "outputs": [],
   "source": [
    "dmap.collate()"
   ]
  },
  {
   "cell_type": "code",
   "execution_count": null,
   "metadata": {},
   "outputs": [],
   "source": [
    "dmap.collate()"
   ]
  },
  {
   "cell_type": "code",
   "execution_count": null,
   "metadata": {},
   "outputs": [],
   "source": [
    "def cb2(z):\n",
    "    dat = (np.random.random(10) - 0.5).cumsum()\n",
    "    return hv.Curve(dat) * hv.VLine(z)\n",
    "\n",
    "\n",
    "dmap2 = hv.DynamicMap(cb2, kdims=[\"z\"]).redim.values(z=range(10))\n",
    "dmap2"
   ]
  },
  {
   "cell_type": "code",
   "execution_count": null,
   "metadata": {},
   "outputs": [],
   "source": [
    "dmap2.collate()"
   ]
  },
  {
   "cell_type": "code",
   "execution_count": null,
   "metadata": {},
   "outputs": [],
   "source": [
    "def cb(z, x_range, y_range):\n",
    "    return dat1[z].map(\n",
    "        lambda x: regrid.instance(dynamic=False, x_range=x_range, y_range=y_range)(\n",
    "            x\n",
    "        ).redim.range(z=(0, 0.3)),\n",
    "        hv.Image,\n",
    "    )\n",
    "\n",
    "\n",
    "dmap = hv.DynamicMap(cb, kdims=[\"z\"], streams=[hv.streams.RangeXY()]).redim.values(\n",
    "    z=range(10)\n",
    ")\n",
    "dmap"
   ]
  },
  {
   "cell_type": "code",
   "execution_count": null,
   "metadata": {},
   "outputs": [],
   "source": []
  }
 ],
 "metadata": {
  "kernelspec": {
   "display_name": "Python 3",
   "language": "python",
   "name": "python3"
  },
  "language_info": {
   "codemirror_mode": {
    "name": "ipython",
    "version": 3
   },
   "file_extension": ".py",
   "mimetype": "text/x-python",
   "name": "python",
   "nbconvert_exporter": "python",
   "pygments_lexer": "ipython3",
   "version": "3.6.3"
  }
 },
 "nbformat": 4,
 "nbformat_minor": 2
}
