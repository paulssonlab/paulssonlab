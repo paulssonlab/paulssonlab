{
 "cells": [
  {
   "cell_type": "code",
   "execution_count": null,
   "id": "0",
   "metadata": {},
   "outputs": [],
   "source": [
    "import holoviews as hv\n",
    "import numpy as np\n",
    "import pandas as pd\n",
    "\n",
    "hv.extension(\"bokeh\")\n",
    "from datetime import datetime, timedelta\n",
    "\n",
    "from peewee import SQL, fn"
   ]
  },
  {
   "cell_type": "code",
   "execution_count": null,
   "id": "1",
   "metadata": {},
   "outputs": [],
   "source": [
    "%load_ext autoreload\n",
    "%autoreload 2\n",
    "import inventory\n",
    "import jdutil\n",
    "import pendulum\n",
    "from inventory import File"
   ]
  },
  {
   "cell_type": "code",
   "execution_count": null,
   "id": "2",
   "metadata": {},
   "outputs": [],
   "source": [
    "db = inventory.connect_db(\"data/paulsson.full.db\")"
   ]
  },
  {
   "cell_type": "markdown",
   "id": "3",
   "metadata": {},
   "source": [
    "# Database schema migration"
   ]
  },
  {
   "cell_type": "code",
   "execution_count": null,
   "id": "4",
   "metadata": {},
   "outputs": [],
   "source": [
    "from playhouse.migrate import *"
   ]
  },
  {
   "cell_type": "code",
   "execution_count": null,
   "id": "5",
   "metadata": {},
   "outputs": [],
   "source": [
    "migrator = SqliteMigrator(db)"
   ]
  },
  {
   "cell_type": "code",
   "execution_count": null,
   "id": "6",
   "metadata": {},
   "outputs": [],
   "source": [
    "%%time\n",
    "migrate(migrator.add_column(\"file\", \"count\", IntegerField(default=1)))"
   ]
  },
  {
   "cell_type": "markdown",
   "id": "7",
   "metadata": {},
   "source": [
    "# Datetime interpretation"
   ]
  },
  {
   "cell_type": "markdown",
   "id": "8",
   "metadata": {},
   "source": [
    "## Summary"
   ]
  },
  {
   "cell_type": "markdown",
   "id": "9",
   "metadata": {},
   "source": [
    "The zero-point for `acquisition_times` is `acquisition_time_nyc`. The last time exposure was taken at about `acquisition_time_nyc + last_frame_dt`, which is a few seconds before the time of last write `mtime`. `dtimeabsolute` and `acquisition_time_nyc + dtimemsec` are the same; it's unclear why this particular time 10 minutes into data acquisition is special."
   ]
  },
  {
   "cell_type": "markdown",
   "id": "10",
   "metadata": {},
   "source": [
    "## Scratch work"
   ]
  },
  {
   "cell_type": "code",
   "execution_count": null,
   "id": "11",
   "metadata": {},
   "outputs": [],
   "source": [
    "files = File.select().where(File.type == \"nd2\").order_by(File.size.desc()).limit(10)"
   ]
  },
  {
   "cell_type": "code",
   "execution_count": null,
   "id": "12",
   "metadata": {},
   "outputs": [],
   "source": [
    "file = files[0]\n",
    "md = file.metadata\n",
    "mtime = nyc.localize(datetime.fromtimestamp(file.mtime))\n",
    "ctime = nyc.localize(datetime.fromtimestamp(file.ctime))"
   ]
  },
  {
   "cell_type": "code",
   "execution_count": null,
   "id": "13",
   "metadata": {},
   "outputs": [],
   "source": [
    "file.path"
   ]
  },
  {
   "cell_type": "code",
   "execution_count": null,
   "id": "14",
   "metadata": {},
   "outputs": [],
   "source": [
    "dtimemsec = timedelta(\n",
    "    milliseconds=md[\"image_metadata_sequence\"][\"SLxPictureMetadata\"][\"dTimeMSec\"]\n",
    ")"
   ]
  },
  {
   "cell_type": "code",
   "execution_count": null,
   "id": "15",
   "metadata": {},
   "outputs": [],
   "source": [
    "dtimeabsolute = pytz.UTC.localize(\n",
    "    jdutil.jd_to_datetime(\n",
    "        md[\"image_metadata_sequence\"][\"SLxPictureMetadata\"][\"dTimeAbsolute\"]\n",
    "    )\n",
    ")\n",
    "dtimeabsolute_nyc = dtimeabsolute.astimezone(nyc)"
   ]
  },
  {
   "cell_type": "code",
   "execution_count": null,
   "id": "16",
   "metadata": {},
   "outputs": [],
   "source": [
    "acquisition_time = pytz.UTC.localize(\n",
    "    jdutil.jd_to_datetime(float(md[\"acquisition_time\"][\"variant\"][\"no_name\"][\"@value\"]))\n",
    ")\n",
    "acquisition_time_nyc = acquisition_time.astimezone(nyc)"
   ]
  },
  {
   "cell_type": "code",
   "execution_count": null,
   "id": "17",
   "metadata": {},
   "outputs": [],
   "source": [
    "last_frame_dt = timedelta(milliseconds=md[\"acquisition_times\"][-1])"
   ]
  },
  {
   "cell_type": "code",
   "execution_count": null,
   "id": "18",
   "metadata": {},
   "outputs": [],
   "source": [
    "acquisition_time_nyc"
   ]
  },
  {
   "cell_type": "code",
   "execution_count": null,
   "id": "19",
   "metadata": {},
   "outputs": [],
   "source": [
    "acquisition_time_nyc + dtimemsec"
   ]
  },
  {
   "cell_type": "code",
   "execution_count": null,
   "id": "20",
   "metadata": {},
   "outputs": [],
   "source": [
    "dtimeabsolute_nyc"
   ]
  },
  {
   "cell_type": "code",
   "execution_count": null,
   "id": "21",
   "metadata": {},
   "outputs": [],
   "source": [
    "acquisition_time_nyc + last_frame_dt"
   ]
  },
  {
   "cell_type": "code",
   "execution_count": null,
   "id": "22",
   "metadata": {},
   "outputs": [],
   "source": [
    "mtime"
   ]
  },
  {
   "cell_type": "markdown",
   "id": "23",
   "metadata": {},
   "source": [
    "# TIFF date finding"
   ]
  },
  {
   "cell_type": "code",
   "execution_count": null,
   "id": "24",
   "metadata": {},
   "outputs": [],
   "source": [
    "tiff_files = (\n",
    "    File.select().where(File.type == \"tiff\").order_by(File.size.desc()).limit(10)\n",
    ")"
   ]
  },
  {
   "cell_type": "code",
   "execution_count": null,
   "id": "25",
   "metadata": {},
   "outputs": [],
   "source": [
    "tiff_files[0].path"
   ]
  },
  {
   "cell_type": "code",
   "execution_count": null,
   "id": "26",
   "metadata": {},
   "outputs": [],
   "source": [
    "delta_t = timedelta(\n",
    "    milliseconds=float(\n",
    "        tiff_files[0].metadata[\"image_description\"][\"OME\"][\"Image\"][\"Pixels\"][\"Plane\"][\n",
    "            0\n",
    "        ][\"@DeltaT\"]\n",
    "    )\n",
    ")"
   ]
  },
  {
   "cell_type": "code",
   "execution_count": null,
   "id": "27",
   "metadata": {},
   "outputs": [],
   "source": [
    "(\n",
    "    iso8601.parse_date(\n",
    "        tiff_files[0].metadata[\"image_description\"][\"OME\"][\"Image\"][\"AcquisitionDate\"]\n",
    "    )\n",
    "    + delta_t\n",
    ")"
   ]
  },
  {
   "cell_type": "code",
   "execution_count": null,
   "id": "28",
   "metadata": {},
   "outputs": [],
   "source": [
    "tiff_files[0].metadata[\"image_description\"][\"OME\"][\"Image\"][\"Pixels\"][\"Plane\"]"
   ]
  },
  {
   "cell_type": "code",
   "execution_count": null,
   "id": "29",
   "metadata": {},
   "outputs": [],
   "source": [
    "tiff_files[0].metadata[\"image_description\"][\"OME\"][\"Image\"][\"AcquisitionDate\"]"
   ]
  },
  {
   "cell_type": "markdown",
   "id": "30",
   "metadata": {},
   "source": [
    "## Summary"
   ]
  },
  {
   "cell_type": "markdown",
   "id": "31",
   "metadata": {},
   "source": [
    "`@DeltaT` in TIFF OME metadata is actually in msec (spec says seconds), corresponds to `acquisition_times` in ND2. TIFF OME `AcquisitionDate` (expressed as ISO 8601 string, 1 sec resolution) corresponds to `dTimeAbsolute` in ND2. For this file, dTimeMSec seems to be the first entry in `acquisition_times`. This disagrees with what I find above!"
   ]
  },
  {
   "cell_type": "markdown",
   "id": "32",
   "metadata": {},
   "source": [
    "## Scratch work"
   ]
  },
  {
   "cell_type": "code",
   "execution_count": null,
   "id": "33",
   "metadata": {},
   "outputs": [],
   "source": [
    "nd2_files = File.select().where(File.type == \"nd2\").order_by(File.size.desc()).limit(40)"
   ]
  },
  {
   "cell_type": "code",
   "execution_count": null,
   "id": "34",
   "metadata": {},
   "outputs": [],
   "source": [
    "nd2_file = nd2_files[21]"
   ]
  },
  {
   "cell_type": "code",
   "execution_count": null,
   "id": "35",
   "metadata": {},
   "outputs": [],
   "source": [
    "nd2_file.metadata[\"image_metadata_sequence\"][\"SLxPictureMetadata\"][\"dTimeAbsolute\"]"
   ]
  },
  {
   "cell_type": "code",
   "execution_count": null,
   "id": "36",
   "metadata": {},
   "outputs": [],
   "source": [
    "nd2_file.metadata[\"acquisition_times\"][:100]"
   ]
  },
  {
   "cell_type": "code",
   "execution_count": null,
   "id": "37",
   "metadata": {},
   "outputs": [],
   "source": [
    "jds = float(\n",
    "    nd2_file.metadata[\"acquisition_time\"][\"variant\"][\"no_name\"][\"@value\"]\n",
    ") + np.array(nd2_file.metadata[\"acquisition_times\"]) / (1000 * 60 * 60 * 24)\n",
    "jds2 = nd2_file.metadata[\"image_metadata_sequence\"][\"SLxPictureMetadata\"][\n",
    "    \"dTimeAbsolute\"\n",
    "] + np.array(nd2_file.metadata[\"acquisition_times\"]) / (1000 * 60 * 60 * 24)"
   ]
  },
  {
   "cell_type": "code",
   "execution_count": null,
   "id": "38",
   "metadata": {},
   "outputs": [],
   "source": [
    "pytz.UTC.localize(\n",
    "    jdutil.jd_to_datetime(\n",
    "        nd2_file.metadata[\"image_metadata_sequence\"][\"SLxPictureMetadata\"][\n",
    "            \"dTimeAbsolute\"\n",
    "        ]\n",
    "    )\n",
    ").astimezone(nyc)"
   ]
  },
  {
   "cell_type": "code",
   "execution_count": null,
   "id": "39",
   "metadata": {},
   "outputs": [],
   "source": [
    "np.array(nd2_file.metadata[\"acquisition_times\"]) / (1000 * 60 * 60 * 24)"
   ]
  },
  {
   "cell_type": "code",
   "execution_count": null,
   "id": "40",
   "metadata": {},
   "outputs": [],
   "source": [
    "jds"
   ]
  },
  {
   "cell_type": "code",
   "execution_count": null,
   "id": "41",
   "metadata": {},
   "outputs": [],
   "source": [
    "pytz.UTC.localize(jdutil.jd_to_datetime(jds[53])).astimezone(nyc)"
   ]
  },
  {
   "cell_type": "code",
   "execution_count": null,
   "id": "42",
   "metadata": {},
   "outputs": [],
   "source": [
    "pytz.UTC.localize(jdutil.jd_to_datetime(jds2[53])).astimezone(nyc)"
   ]
  },
  {
   "cell_type": "code",
   "execution_count": null,
   "id": "43",
   "metadata": {},
   "outputs": [],
   "source": [
    "pytz.UTC.localize(\n",
    "    jdutil.jd_to_datetime(\n",
    "        nd2_file.metadata[\"image_metadata_sequence\"][\"SLxPictureMetadata\"][\n",
    "            \"dTimeAbsolute\"\n",
    "        ]\n",
    "    )\n",
    ").astimezone(nyc)"
   ]
  },
  {
   "cell_type": "code",
   "execution_count": null,
   "id": "44",
   "metadata": {},
   "outputs": [],
   "source": [
    "pytz.UTC.localize(\n",
    "    jdutil.jd_to_datetime(\n",
    "        nd2_file.metadata[\"image_metadata_sequence\"][\"SLxPictureMetadata\"][\n",
    "            \"dTimeAbsolute\"\n",
    "        ]\n",
    "    )\n",
    ").astimezone(nyc)"
   ]
  },
  {
   "cell_type": "code",
   "execution_count": null,
   "id": "45",
   "metadata": {},
   "outputs": [],
   "source": [
    "timedelta(milliseconds=nd2_file.metadata[\"acquisition_times\"][-1])"
   ]
  },
  {
   "cell_type": "code",
   "execution_count": null,
   "id": "46",
   "metadata": {},
   "outputs": [],
   "source": [
    "acquisition_time = pytz.UTC.localize(\n",
    "    jdutil.jd_to_datetime(\n",
    "        float(nd2_file.metadata[\"acquisition_time\"][\"variant\"][\"no_name\"][\"@value\"])\n",
    "    )\n",
    ")\n",
    "acquisition_time_nyc = acquisition_time.astimezone(nyc)\n",
    "acquisition_time_nyc"
   ]
  },
  {
   "cell_type": "code",
   "execution_count": null,
   "id": "47",
   "metadata": {},
   "outputs": [],
   "source": [
    "atol = 0.1\n",
    "np.where(\n",
    "    np.logical_and(\n",
    "        np.isclose(nd2_file.metadata[\"x_data\"], -3535.7, atol=atol),\n",
    "        np.isclose(nd2_file.metadata[\"y_data\"], 124.2, atol=atol),\n",
    "        np.isclose(nd2_file.metadata[\"z_data\"], 5463.74, atol=atol),\n",
    "    )\n",
    ")"
   ]
  },
  {
   "cell_type": "markdown",
   "id": "48",
   "metadata": {},
   "source": [
    "# Correspondence"
   ]
  },
  {
   "cell_type": "code",
   "execution_count": null,
   "id": "49",
   "metadata": {},
   "outputs": [],
   "source": [
    "nd2_files = File.select().where(File.type == \"nd2\").order_by(File.size.desc()).limit(40)\n",
    "paths = []\n",
    "data = []\n",
    "for nd2_file in nd2_files.iterator():\n",
    "    paths.append(nd2_file.path)\n",
    "    data.append(\n",
    "        (\n",
    "            nd2_file.metadata[\"x_data\"],\n",
    "            nd2_file.metadata[\"y_data\"],\n",
    "            nd2_file.metadata[\"z_data\"],\n",
    "        )\n",
    "    )"
   ]
  },
  {
   "cell_type": "code",
   "execution_count": null,
   "id": "50",
   "metadata": {},
   "outputs": [],
   "source": [
    "a = np.vstack(data)\n",
    "a.shape"
   ]
  },
  {
   "cell_type": "code",
   "execution_count": null,
   "id": "51",
   "metadata": {},
   "outputs": [],
   "source": [
    "data[0][0].info"
   ]
  },
  {
   "cell_type": "markdown",
   "id": "52",
   "metadata": {},
   "source": [
    "# Correspondence 2"
   ]
  },
  {
   "cell_type": "markdown",
   "id": "53",
   "metadata": {},
   "source": [
    "## Filename correspondence"
   ]
  },
  {
   "cell_type": "code",
   "execution_count": null,
   "id": "54",
   "metadata": {},
   "outputs": [],
   "source": [
    "def evaluate_tiff_nd2_correspondence2(nd2_file, tiff_file):\n",
    "    if \"image_metadata_sequence\" not in tiff_file.metadata:\n",
    "        print(\n",
    "            \"no TIFF image_metadata_sequence, found instead: {}\".format(\n",
    "                tiff_file.metadata.keys()\n",
    "            )\n",
    "        )\n",
    "        return\n",
    "    if (\n",
    "        nd2_file.metadata[\"image_metadata_sequence\"][\"SLxPictureMetadata\"][\n",
    "            \"dTimeAbsolute\"\n",
    "        ]\n",
    "        == tiff_file.metadata[\"image_metadata_sequence\"][\"SLxPictureMetadata\"][\n",
    "            \"dTimeAbsolute\"\n",
    "        ]\n",
    "    ):\n",
    "        print(\"MATCH\")\n",
    "    return\n",
    "    if \"image_description\" not in tiff_file.metadata:\n",
    "        print(\n",
    "            \"no TIFF image_description, found instead: {}\".format(\n",
    "                tiff_file.metadata.keys()\n",
    "            )\n",
    "        )\n",
    "        return\n",
    "    tiff_plane = tiff_file.metadata[\"image_description\"][\"OME\"][\"Image\"][\"Pixels\"][\n",
    "        \"Plane\"\n",
    "    ]\n",
    "    print(tiff_plane)\n",
    "    if isinstance(tiff_plane, list):\n",
    "        tiff_plane = tiff_plane[0]\n",
    "    tiff_x = float(tiff_plane[\"@PositionX\"])\n",
    "    tiff_y = float(tiff_plane[\"@PositionY\"])\n",
    "    tiff_z = float(tiff_plane[\"@PositionZ\"])\n",
    "    tiff_dt = float(tiff_plane[\"@DeltaT\"])\n",
    "    # print(tiff_dt)\n",
    "    tiff_acqdate = pendulum.parse(\n",
    "        tiff_file.metadata[\"image_description\"][\"OME\"][\"Image\"][\"AcquisitionDate\"],\n",
    "        tz=\"local\",\n",
    "    ).in_timezone(\"utc\")\n",
    "    print(nd2_file.metadata[\"acquisition_time\"])\n",
    "    # print('hhh', nd_file.metadata['image_d'])\n",
    "    # print('IMS', nd2_file.metadata['image_metadata_sequence'])\n",
    "    nd_timeabsolute_jd = nd2_file.metadata[\"image_metadata_sequence\"][\n",
    "        \"SLxPictureMetadata\"\n",
    "    ][\"dTimeAbsolute\"]\n",
    "    if nd_timeabsolute_jd != -1:\n",
    "        nd_timeabsolute = pendulum.instance(\n",
    "            jdutil.jd_to_datetime(nd_timeabsolute_jd), tz=\"utc\"\n",
    "        )\n",
    "    else:\n",
    "        nd_timeabsolute = None\n",
    "    print(\"abs\", nd_timeabsolute)\n",
    "    if (\n",
    "        nd2_file.metadata[\"acquisition_time\"] is not None\n",
    "        and \"variant\" in nd2_file.metadata[\"acquisition_time\"]\n",
    "    ):\n",
    "        nd_acqtime = pendulum.instance(\n",
    "            jdutil.jd_to_datetime(\n",
    "                float(\n",
    "                    nd2_file.metadata[\"acquisition_time\"][\"variant\"][\"no_name\"][\n",
    "                        \"@value\"\n",
    "                    ]\n",
    "                )\n",
    "            ),\n",
    "            tz=\"utc\",\n",
    "        )\n",
    "    else:\n",
    "        nd_acqtime = None\n",
    "    print(tiff_acqdate, nd_acqtime, nd_timeabsolute)\n",
    "    # print(nd2_file.metadata['acquisition_times'][:10])\n",
    "    atol = 0.1\n",
    "    if nd2_file.metadata[\"x_data\"] is not None:\n",
    "        idxs = np.where(\n",
    "            np.logical_and(\n",
    "                np.isclose(nd2_file.metadata[\"x_data\"], tiff_x, atol=atol),\n",
    "                np.isclose(nd2_file.metadata[\"y_data\"], tiff_y, atol=atol),\n",
    "                np.isclose(nd2_file.metadata[\"z_data\"], tiff_z, atol=atol),\n",
    "            )\n",
    "        )[0]\n",
    "        ts = nd2_file.metadata[\"acquisition_times\"].vindex[idxs]\n",
    "        if nd_acqtime is not None:\n",
    "            delta_t = (tiff_acqdate - nd_acqtime).total_seconds() - ts / 1e3\n",
    "            print(\"delta_t\", delta_t)\n",
    "    if tiff_acqdate is not None and nd_timeabsolute is not None:\n",
    "        print(\"delta_t2\", (tiff_acqdate - nd_timeabsolute).total_seconds())\n",
    "    else:\n",
    "        print(\"NO TIME DELTA\")\n",
    "\n",
    "\n",
    "def get_tiff_acquisition_date(metadata):\n",
    "    if \"image_metadata_sequence\" in metadata:\n",
    "        dtimeabsolute_jd = metadata[\"image_metadata_sequence\"][\"SLxPictureMetadata\"][\n",
    "            \"dTimeAbsolute\"\n",
    "        ]\n",
    "        return pendulum.instance(jdutil.jd_to_datetime(dtimeabsolute_jd), tz=\"utc\")\n",
    "    elif \"image_description\" in metadata:\n",
    "        return pendulum.parse(\n",
    "            metadata[\"image_description\"][\"OME\"][\"Image\"][\"AcquisitionDate\"], tz=\"local\"\n",
    "        ).in_timezone(\"utc\")\n",
    "    else:\n",
    "        raise Exception(\n",
    "            \"need image_metadata_sequence or image_description, instead found: {}\".format(\n",
    "                metadata.keys()\n",
    "            )\n",
    "        )\n",
    "\n",
    "\n",
    "def get_nd2_acquisition_date(metadata):\n",
    "    dtimeabsolute_jd = jmespath.search(\n",
    "        \"image_metadata_sequence.SLxPictureMetadata.dTimeAbsolute\", metadata\n",
    "    )\n",
    "    if dtimeabsolute_jd == -1:\n",
    "        print(\"!!! dtimeabsolute_jd = -1\")\n",
    "        dtimeabsolute_jd = None\n",
    "    dtimeabsolute_jd2 = jmespath.search(\n",
    "        'acquisition_time.variant.no_name.\"@value\"', metadata\n",
    "    )\n",
    "    if dtimeabsolute_jd2 is not None:\n",
    "        dtimeabsolute_jd2 = float(dtimeabsolute_jd2)\n",
    "        if dtimeabsolute_jd2 == -1:\n",
    "            print(\"!!! dtimeabsolute_jd2 = -1\")\n",
    "            dtimeabsolute_jd2 = None\n",
    "    if dtimeabsolute_jd is None and dtimeabsolute_jd2 is None:\n",
    "        # print(metadata['image_metadata_sequence'])\n",
    "        # raise Exception('need image_metadata_sequence or acquisition_time, instead found: {}'.format(metadata.keys()))\n",
    "        print(\"!!! NO GOOD ND2 DATE\")\n",
    "        return\n",
    "    if (\n",
    "        dtimeabsolute_jd is not None\n",
    "        and dtimeabsolute_jd2 is not None\n",
    "        and dtimeabsolute_jd != dtimeabsolute_jd2\n",
    "    ):\n",
    "        print(\n",
    "            \"!!! ND2 acquisition_date mismatch: {} (image_metadata_sequence) vs. {} (acquisition_time)\".format(\n",
    "                dtimeabsolute_jd, dtimeabsolute_jd2\n",
    "            )\n",
    "        )\n",
    "        # raise Exception('ND2 acquisition_date mismatch: {} (image_metadata_sequence) vs. {} (acquisition_time)'.format(dtimeabsolute_jd, dtimeabsolute_jd2))\n",
    "    return pendulum.instance(jdutil.jd_to_datetime(dtimeabsolute_jd), tz=\"utc\")\n",
    "\n",
    "\n",
    "def evaluate_tiff_nd2_correspondence(nd2_file, tiff_file):\n",
    "    tiff_acqdate = get_tiff_acquisition_date(tiff_file.metadata)\n",
    "    nd2_acqdate = get_nd2_acquisition_date(nd2_file.metadata)\n",
    "    print(\"###\", tiff_acqdate, nd2_acqdate)\n",
    "\n",
    "\n",
    "path_sep = \"/\"\n",
    "for tiff_file in (\n",
    "    File.select().where(File.type == \"tiff\").order_by(File.size.desc()).limit(9)\n",
    "):\n",
    "    print(\"looking for nd2 for tiff {}\".format(tiff_file.path))\n",
    "    for dropped_dirs in range(1, 4):\n",
    "        path_prefix = path_sep.join(tiff_file.path.split(path_sep)[:-dropped_dirs])\n",
    "        nd2_files = File.select().where(\n",
    "            (File.type == \"nd2\") & (File.path.startswith(path_prefix))\n",
    "        )\n",
    "        if len(nd2_files) == 1:\n",
    "            print(\n",
    "                \"found single nd2 at level {}: {}\".format(\n",
    "                    dropped_dirs, nd2_files[0].path\n",
    "                )\n",
    "            )\n",
    "            break\n",
    "        elif len(nd2_files) > 1:\n",
    "            print(\n",
    "                \"found many nd2 at level {}: {}\".format(\n",
    "                    dropped_dirs, [f.path for f in nd2_files]\n",
    "                )\n",
    "            )\n",
    "            break\n",
    "    if len(nd2_files):\n",
    "        print(\"&&&&&&&&&&&&&&&&&&&&&&&&&&&&&&&&&&&&&&&&\")\n",
    "        for nd2_file in nd2_files:\n",
    "            print(\"---- ND2 FILENAME:\", nd2_file.path)\n",
    "            print(\"---- TIFF FILENAME:\", tiff_file.path)\n",
    "            evaluate_tiff_nd2_correspondence(nd2_file, tiff_file)\n",
    "            print(\"==================\")\n",
    "    else:\n",
    "        print(\"did not find nd2 for {}\".format(tiff_file.path))\n",
    "    print(\"**********\")"
   ]
  },
  {
   "cell_type": "code",
   "execution_count": null,
   "id": "55",
   "metadata": {},
   "outputs": [],
   "source": [
    "nd2_file.metadata.keys()"
   ]
  },
  {
   "cell_type": "code",
   "execution_count": null,
   "id": "56",
   "metadata": {},
   "outputs": [],
   "source": [
    "import jmespath"
   ]
  },
  {
   "cell_type": "code",
   "execution_count": null,
   "id": "57",
   "metadata": {},
   "outputs": [],
   "source": [
    "bad_tiff_nd2[0].metadata[\"acquisition_time\"]"
   ]
  },
  {
   "cell_type": "code",
   "execution_count": null,
   "id": "58",
   "metadata": {},
   "outputs": [],
   "source": [
    "jmespath.search('acquisition_time.variant.no_name.\"@value\"', bad_tiff_nd2[0].metadata)"
   ]
  },
  {
   "cell_type": "code",
   "execution_count": null,
   "id": "59",
   "metadata": {},
   "outputs": [],
   "source": [
    "nd2_file.metadata.keys()"
   ]
  },
  {
   "cell_type": "code",
   "execution_count": null,
   "id": "60",
   "metadata": {},
   "outputs": [],
   "source": [
    "nd2_file.metadata[\"y_data\"][:100]"
   ]
  },
  {
   "cell_type": "code",
   "execution_count": null,
   "id": "61",
   "metadata": {},
   "outputs": [],
   "source": [
    "nd2_file.metadata[\"image_metadata_sequence\"]"
   ]
  },
  {
   "cell_type": "code",
   "execution_count": null,
   "id": "62",
   "metadata": {},
   "outputs": [],
   "source": [
    "pendulum.instance(\n",
    "    jdutil.jd_to_datetime(\n",
    "        nd2_file.metadata[\"image_metadata_sequence\"][\"SLxPictureMetadata\"][\n",
    "            \"dTimeAbsolute\"\n",
    "        ]\n",
    "    ),\n",
    "    tz=\"local\",\n",
    ").in_timezone(\"utc\")"
   ]
  },
  {
   "cell_type": "code",
   "execution_count": null,
   "id": "63",
   "metadata": {},
   "outputs": [],
   "source": [
    "md_n = nd2_files[3].metadata"
   ]
  },
  {
   "cell_type": "code",
   "execution_count": null,
   "id": "64",
   "metadata": {},
   "outputs": [],
   "source": [
    "md_t = tiff_file.metadata"
   ]
  },
  {
   "cell_type": "code",
   "execution_count": null,
   "id": "65",
   "metadata": {},
   "outputs": [],
   "source": [
    "md_n.keys()"
   ]
  },
  {
   "cell_type": "code",
   "execution_count": null,
   "id": "66",
   "metadata": {},
   "outputs": [],
   "source": [
    "nd_acqtime = pendulum.instance(\n",
    "    jdutil.jd_to_datetime(\n",
    "        float(md_n[\"acquisition_time\"][\"variant\"][\"no_name\"][\"@value\"])\n",
    "    ),\n",
    "    tz=\"utc\",\n",
    ")"
   ]
  },
  {
   "cell_type": "code",
   "execution_count": null,
   "id": "67",
   "metadata": {},
   "outputs": [],
   "source": [
    "md_t[\"image_description\"][\"OME\"][\"Image\"][\"Pixels\"][\"Plane\"]"
   ]
  },
  {
   "cell_type": "code",
   "execution_count": null,
   "id": "68",
   "metadata": {},
   "outputs": [],
   "source": [
    "tiff_planes = md_t[\"image_description\"][\"OME\"][\"Image\"][\"Pixels\"][\"Plane\"]\n",
    "tiff_x = float(tiff_planes[0][\"@PositionX\"])\n",
    "tiff_y = float(tiff_planes[0][\"@PositionY\"])\n",
    "tiff_z = float(tiff_planes[0][\"@PositionZ\"])\n",
    "tiff_dt = float(tiff_planes[0][\"@DeltaT\"])\n",
    "tiff_acqdate = pendulum.parse(\n",
    "    md_t[\"image_description\"][\"OME\"][\"Image\"][\"AcquisitionDate\"], tz=\"local\"\n",
    ").in_timezone(\"utc\")"
   ]
  },
  {
   "cell_type": "code",
   "execution_count": null,
   "id": "69",
   "metadata": {},
   "outputs": [],
   "source": [
    "md_n[\"camera_exposure_time\"][:100]"
   ]
  },
  {
   "cell_type": "code",
   "execution_count": null,
   "id": "70",
   "metadata": {},
   "outputs": [],
   "source": [
    "md_n[\"acquisition_times\"][:100] - tiff_dt"
   ]
  },
  {
   "cell_type": "code",
   "execution_count": null,
   "id": "71",
   "metadata": {},
   "outputs": [],
   "source": [
    "np.isclose(md_n[\"x_data\"][:100], tiff_x, atol=0.1)"
   ]
  },
  {
   "cell_type": "code",
   "execution_count": null,
   "id": "72",
   "metadata": {},
   "outputs": [],
   "source": [
    "atol = 0.1\n",
    "idxs = np.where(\n",
    "    np.logical_and(\n",
    "        np.isclose(md_n[\"x_data\"], tiff_x, atol=atol),\n",
    "        np.isclose(md_n[\"y_data\"], tiff_y, atol=atol),\n",
    "        np.isclose(md_n[\"z_data\"], tiff_z, atol=atol),\n",
    "    )\n",
    ")[0]"
   ]
  },
  {
   "cell_type": "code",
   "execution_count": null,
   "id": "73",
   "metadata": {},
   "outputs": [],
   "source": [
    "idxs"
   ]
  },
  {
   "cell_type": "code",
   "execution_count": null,
   "id": "74",
   "metadata": {},
   "outputs": [],
   "source": [
    "ts = md_n[\"acquisition_times\"].vindex[idxs]\n",
    "ts"
   ]
  },
  {
   "cell_type": "code",
   "execution_count": null,
   "id": "75",
   "metadata": {},
   "outputs": [],
   "source": [
    "tiff_acqdate"
   ]
  },
  {
   "cell_type": "code",
   "execution_count": null,
   "id": "76",
   "metadata": {},
   "outputs": [],
   "source": [
    "nd_acqtime"
   ]
  },
  {
   "cell_type": "code",
   "execution_count": null,
   "id": "77",
   "metadata": {},
   "outputs": [],
   "source": [
    "(tiff_acqdate - nd_acqtime).total_seconds() - ts / 1e3"
   ]
  },
  {
   "cell_type": "code",
   "execution_count": null,
   "id": "78",
   "metadata": {},
   "outputs": [],
   "source": [
    "nd_acqtime.add(seconds=ts[0] / 1e3)"
   ]
  },
  {
   "cell_type": "markdown",
   "id": "79",
   "metadata": {},
   "source": [
    "## TIFF debugging"
   ]
  },
  {
   "cell_type": "code",
   "execution_count": null,
   "id": "80",
   "metadata": {},
   "outputs": [],
   "source": [
    "bad_tiff_nd2 = File.select().where(\n",
    "    File.path.startswith(\n",
    "        \"/n/files/SysBio/PAULSSON LAB/SILVIA/Ti3Data/2017_02_25--RpoSOutliers_WT_dRpoS_dSprE_dClpX\"\n",
    "    )\n",
    "    & (File.type == \"nd2\")\n",
    ")\n",
    "[f.path for f in bad_tiff_nd2]"
   ]
  },
  {
   "cell_type": "code",
   "execution_count": null,
   "id": "81",
   "metadata": {},
   "outputs": [],
   "source": [
    "bad_tiffs = File.select().where(\n",
    "    File.path.startswith(\n",
    "        \"/n/files/SysBio/PAULSSON LAB/SILVIA/Ti3Data/2017_02_25--RpoSOutliers_WT_dRpoS_dSprE_dClpX\"\n",
    "    )\n",
    "    & (File.type == \"tiff\")\n",
    ")\n",
    "[f.path for f in bad_tiffs]"
   ]
  },
  {
   "cell_type": "code",
   "execution_count": null,
   "id": "82",
   "metadata": {},
   "outputs": [],
   "source": [
    "bad_tiff_nd2[5].metadata.keys()"
   ]
  },
  {
   "cell_type": "code",
   "execution_count": null,
   "id": "83",
   "metadata": {},
   "outputs": [],
   "source": [
    "bad_tiff_nd2[5].metadata[\"image_metadata_sequence\"][:100]"
   ]
  },
  {
   "cell_type": "code",
   "execution_count": null,
   "id": "84",
   "metadata": {},
   "outputs": [],
   "source": [
    "bad_tiffs[5].metadata[\"image_metadata_sequence\"]"
   ]
  },
  {
   "cell_type": "markdown",
   "id": "85",
   "metadata": {},
   "source": [
    "# ND2 duplicates"
   ]
  },
  {
   "cell_type": "markdown",
   "id": "86",
   "metadata": {},
   "source": [
    "## Hashes"
   ]
  },
  {
   "cell_type": "code",
   "execution_count": null,
   "id": "87",
   "metadata": {},
   "outputs": [],
   "source": [
    "def hash_file(filename, size=None, num_chunks=10, chunk_size=1e5):\n",
    "    if size is None:\n",
    "        size = os.path.getsize(filename)\n",
    "    total = hhh\n",
    "    with open(filename, \"rb\") as f:\n",
    "        if size < sample_threshhold or sample_size < 1:\n",
    "            data = f.read()\n",
    "        else:\n",
    "            data = f.read(sample_size)\n",
    "            f.seek(size // 2)\n",
    "            data += f.read(sample_size)\n",
    "            f.seek(-sample_size, os.SEEK_END)\n",
    "            data += f.read(sample_size)"
   ]
  },
  {
   "cell_type": "markdown",
   "id": "88",
   "metadata": {},
   "source": [
    "## Dups"
   ]
  },
  {
   "cell_type": "code",
   "execution_count": null,
   "id": "89",
   "metadata": {},
   "outputs": [],
   "source": [
    "dups = (\n",
    "    File.select(File.path, fn.COUNT(File.id).alias(\"c\"))\n",
    "    .where(File.type == \"nd2\")\n",
    "    .group_by(File.size)\n",
    ")  # .having(SQL('count') >= 2)"
   ]
  },
  {
   "cell_type": "code",
   "execution_count": null,
   "id": "90",
   "metadata": {},
   "outputs": [],
   "source": [
    "len(dups)"
   ]
  },
  {
   "cell_type": "code",
   "execution_count": null,
   "id": "91",
   "metadata": {},
   "outputs": [],
   "source": [
    "sizes = np.array([f.size for f in File.select(File.size).where(File.type == \"nd2\")])"
   ]
  },
  {
   "cell_type": "code",
   "execution_count": null,
   "id": "92",
   "metadata": {},
   "outputs": [],
   "source": [
    "from collections import Counter"
   ]
  },
  {
   "cell_type": "code",
   "execution_count": null,
   "id": "93",
   "metadata": {},
   "outputs": [],
   "source": [
    "counts = Counter(sizes)"
   ]
  },
  {
   "cell_type": "code",
   "execution_count": null,
   "id": "94",
   "metadata": {},
   "outputs": [],
   "source": [
    "for size, cts in counts.items():\n",
    "    if cts > 1:\n",
    "        print(\"{}: {}\".format(size, cts))"
   ]
  },
  {
   "cell_type": "code",
   "execution_count": null,
   "id": "95",
   "metadata": {},
   "outputs": [],
   "source": [
    "dups[0].c"
   ]
  },
  {
   "cell_type": "markdown",
   "id": "96",
   "metadata": {},
   "source": [
    "# Old"
   ]
  },
  {
   "cell_type": "code",
   "execution_count": null,
   "id": "97",
   "metadata": {},
   "outputs": [],
   "source": [
    "files = (\n",
    "    File.select(File.mtime, File.size)\n",
    "    .where(File.type == \"nd2\")\n",
    "    .where(File.path.startswith(\"/n/files/SysBio/PAULSSON LAB/Silvia\"))\n",
    "    .order_by(File.mtime)\n",
    ")"
   ]
  },
  {
   "cell_type": "code",
   "execution_count": null,
   "id": "98",
   "metadata": {},
   "outputs": [],
   "source": [
    "files = (\n",
    "    File.select(File.mtime, File.size, File.path)\n",
    "    .where(File.type == \"nd2\")\n",
    "    .where(File.size > 0.5e12)\n",
    "    .order_by(File.mtime)\n",
    ")"
   ]
  },
  {
   "cell_type": "code",
   "execution_count": null,
   "id": "99",
   "metadata": {},
   "outputs": [],
   "source": [
    "f = files[1]"
   ]
  },
  {
   "cell_type": "code",
   "execution_count": null,
   "id": "100",
   "metadata": {},
   "outputs": [],
   "source": [
    "f.path"
   ]
  },
  {
   "cell_type": "code",
   "execution_count": null,
   "id": "101",
   "metadata": {},
   "outputs": [],
   "source": [
    "sum(f.size for f in files) / 1e12"
   ]
  },
  {
   "cell_type": "code",
   "execution_count": null,
   "id": "102",
   "metadata": {},
   "outputs": [],
   "source": [
    "len(files)"
   ]
  },
  {
   "cell_type": "code",
   "execution_count": null,
   "id": "103",
   "metadata": {},
   "outputs": [],
   "source": [
    "files[2].mtime"
   ]
  },
  {
   "cell_type": "code",
   "execution_count": null,
   "id": "104",
   "metadata": {},
   "outputs": [],
   "source": [
    "mtimes, sizes = zip(*[(f.mtime, f.size) for f in files])"
   ]
  },
  {
   "cell_type": "code",
   "execution_count": null,
   "id": "105",
   "metadata": {},
   "outputs": [],
   "source": [
    "sizes = np.array(sizes)"
   ]
  },
  {
   "cell_type": "code",
   "execution_count": null,
   "id": "106",
   "metadata": {},
   "outputs": [],
   "source": [
    "cumsizes = np.cumsum(sizes)"
   ]
  },
  {
   "cell_type": "code",
   "execution_count": null,
   "id": "107",
   "metadata": {},
   "outputs": [],
   "source": [
    "hv.Curve((mtimes, cumsizes))"
   ]
  },
  {
   "cell_type": "code",
   "execution_count": null,
   "id": "108",
   "metadata": {},
   "outputs": [],
   "source": [
    "?hv.Histogram"
   ]
  },
  {
   "cell_type": "code",
   "execution_count": null,
   "id": "109",
   "metadata": {},
   "outputs": [],
   "source": [
    "hv.Histogram(*np.histogram(sizes, 100)).opts(plot={\"logy\": False})"
   ]
  },
  {
   "cell_type": "code",
   "execution_count": null,
   "id": "110",
   "metadata": {},
   "outputs": [],
   "source": [
    "sizes = np.array([dd[\"size\"] for dd in d])\n",
    "sizes[::-1].sort()"
   ]
  },
  {
   "cell_type": "code",
   "execution_count": null,
   "id": "111",
   "metadata": {},
   "outputs": [],
   "source": [
    "plt.hist([dd[\"size\"] for dd in d], bins=100, log=True)"
   ]
  },
  {
   "cell_type": "code",
   "execution_count": null,
   "id": "112",
   "metadata": {},
   "outputs": [],
   "source": [
    "plt.figure(figsize=(12, 12))\n",
    "plt.plot(np.cumsum(sizes))"
   ]
  }
 ],
 "metadata": {
  "kernelspec": {
   "display_name": "Python 3",
   "language": "python",
   "name": "python3"
  },
  "language_info": {
   "codemirror_mode": {
    "name": "ipython",
    "version": 3
   },
   "file_extension": ".py",
   "mimetype": "text/x-python",
   "name": "python",
   "nbconvert_exporter": "python",
   "pygments_lexer": "ipython3",
   "version": "3.6.5"
  }
 },
 "nbformat": 4,
 "nbformat_minor": 2
}
