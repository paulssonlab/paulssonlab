{
 "cells": [
  {
   "cell_type": "code",
   "execution_count": null,
   "metadata": {},
   "outputs": [],
   "source": [
    "import numpy as np\n",
    "import holoviews as hv\n",
    "import holoviews.operation.datashader as ds"
   ]
  },
  {
   "cell_type": "code",
   "execution_count": null,
   "metadata": {},
   "outputs": [],
   "source": [
    "hv.extension(\"bokeh\")"
   ]
  },
  {
   "cell_type": "code",
   "execution_count": null,
   "metadata": {},
   "outputs": [],
   "source": [
    "hv.Curve(np.random.random(10))"
   ]
  },
  {
   "cell_type": "code",
   "execution_count": null,
   "metadata": {},
   "outputs": [],
   "source": [
    "stream = hv.streams.RangeXY()\n",
    "\n",
    "arr1 = np.random.rand(100, 100)\n",
    "arr2 = np.random.rand(100, 100)\n",
    "\n",
    "img1 = hv.Image(arr1)\n",
    "img2 = hv.Image(arr2)\n",
    "\n",
    "dmap1 = ds.regrid(img1, streams=[stream], expand=True).options(framewise=True)\n",
    "dmap2 = ds.regrid(img2, streams=[stream], expand=True).options(framewise=True)\n",
    "\n",
    "display(dmap1)\n",
    "display(dmap2)"
   ]
  },
  {
   "cell_type": "code",
   "execution_count": null,
   "metadata": {},
   "outputs": [],
   "source": [
    "img1 = np.random.random((1000, 1000))\n",
    "img2 = np.random.random((1000, 1000))"
   ]
  },
  {
   "cell_type": "code",
   "execution_count": null,
   "metadata": {},
   "outputs": [],
   "source": [
    "range_xy = hv.streams.RangeXY()"
   ]
  },
  {
   "cell_type": "code",
   "execution_count": null,
   "metadata": {},
   "outputs": [],
   "source": [
    "dmap1 = ds.regrid(hv.Image(img1))\n",
    "dmap1"
   ]
  },
  {
   "cell_type": "code",
   "execution_count": null,
   "metadata": {},
   "outputs": [],
   "source": [
    "ds.regrid(hv.Image(img2), streams=[hv.streams.RangeXY(source=dmap1)])"
   ]
  },
  {
   "cell_type": "markdown",
   "metadata": {},
   "source": [
    "# Try two"
   ]
  },
  {
   "cell_type": "code",
   "execution_count": null,
   "metadata": {},
   "outputs": [],
   "source": [
    "# dmap1 = hv.Image(img1)\n",
    "# dmap1\n",
    "range_xy = hv.streams.RangeXY()\n",
    "ds.regrid(hv.Image(img1), streams=[range_xy])"
   ]
  },
  {
   "cell_type": "code",
   "execution_count": null,
   "metadata": {},
   "outputs": [],
   "source": []
  },
  {
   "cell_type": "code",
   "execution_count": null,
   "metadata": {},
   "outputs": [],
   "source": [
    "# range_xy = hv.streams.RangeXY(source=dmap1)\n",
    "\n",
    "\n",
    "def callback2(x_range, y_range):\n",
    "    # return ds.regrid.instance(dynamic=False, x_range=x_range, y_range=y_range)(hv.Image(img1))\n",
    "    img = hv.Image(img2)\n",
    "    if x_range and y_range:\n",
    "        img = img.redim.range(x=x_range, y=y_range)\n",
    "    return img\n",
    "\n",
    "\n",
    "dmap2 = hv.DynamicMap(callback2, streams=[range_xy])\n",
    "dmap2"
   ]
  },
  {
   "cell_type": "code",
   "execution_count": null,
   "metadata": {},
   "outputs": [],
   "source": [
    "def callback2(x_range, y_range):\n",
    "    return ds.regrid.instance(dynamic=False, x_range=x_range, y_range=y_range)(\n",
    "        hv.Image(img2)\n",
    "    )\n",
    "\n",
    "\n",
    "dmap2 = hv.DynamicMap(callback2, streams=[hv.streams.RangeXY(source=dmap1)])\n",
    "dmap2"
   ]
  },
  {
   "cell_type": "code",
   "execution_count": null,
   "metadata": {},
   "outputs": [],
   "source": []
  }
 ],
 "metadata": {
  "kernelspec": {
   "display_name": "Python 3",
   "language": "python",
   "name": "python3"
  },
  "language_info": {
   "codemirror_mode": {
    "name": "ipython",
    "version": 3
   },
   "file_extension": ".py",
   "mimetype": "text/x-python",
   "name": "python",
   "nbconvert_exporter": "python",
   "pygments_lexer": "ipython3",
   "version": "3.6.5"
  }
 },
 "nbformat": 4,
 "nbformat_minor": 2
}
