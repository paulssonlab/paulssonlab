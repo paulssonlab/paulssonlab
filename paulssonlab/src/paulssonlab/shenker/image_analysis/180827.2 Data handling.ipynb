{
 "cells": [
  {
   "cell_type": "markdown",
   "id": "0",
   "metadata": {},
   "source": [
    "# Imports"
   ]
  },
  {
   "cell_type": "code",
   "execution_count": null,
   "id": "1",
   "metadata": {},
   "outputs": [],
   "source": [
    "import asyncio\n",
    "import time\n",
    "import traceback\n",
    "import warnings\n",
    "from collections import defaultdict, namedtuple\n",
    "from collections.abc import Mapping, Sequence\n",
    "from functools import partial\n",
    "from glob import glob\n",
    "from importlib import reload\n",
    "from numbers import Number\n",
    "from operator import getitem\n",
    "\n",
    "import cachetools\n",
    "import dask\n",
    "import distributed\n",
    "import holoviews as hv\n",
    "import hvplot.pandas\n",
    "import ipywidgets as widgets\n",
    "import matplotlib.pyplot as plt\n",
    "import nd2reader\n",
    "import numpy as np\n",
    "import pandas as pd\n",
    "import param\n",
    "import parambokeh\n",
    "import pyarrow as pa\n",
    "import pyarrow.feather as feather\n",
    "import pyarrow.parquet as pq\n",
    "import qgrid\n",
    "import scipy\n",
    "import skimage.morphology\n",
    "import streamz\n",
    "import streamz.dataframe as sdf\n",
    "import zarr\n",
    "from bokeh.models.tools import HoverTool, TapTool\n",
    "from cytoolz import *\n",
    "from dask import delayed\n",
    "from dask_jobqueue import SLURMCluster\n",
    "from distributed import Client, LocalCluster, progress\n",
    "from holoviews.operation.datashader import regrid\n",
    "from holoviews.streams import Selection1D, Stream, param\n",
    "from tqdm import tnrange, tqdm, tqdm_notebook\n",
    "from traitlets import All\n",
    "\n",
    "IDX = pd.IndexSlice"
   ]
  },
  {
   "cell_type": "code",
   "execution_count": null,
   "id": "2",
   "metadata": {},
   "outputs": [],
   "source": [
    "%load_ext autoreload\n",
    "%autoreload 2"
   ]
  },
  {
   "cell_type": "code",
   "execution_count": null,
   "id": "3",
   "metadata": {},
   "outputs": [],
   "source": [
    "# from processing import *\n",
    "# from trench_detection import *\n",
    "# from trench_segmentation import *\n",
    "# from trench_segmentation.watershed import *\n",
    "# from util import *\n",
    "# from ui import *\n",
    "import common\n",
    "import diagnostics\n",
    "import geometry\n",
    "import image\n",
    "import metadata\n",
    "import trench_detection\n",
    "import trench_detection.core\n",
    "import trench_detection.hough\n",
    "import trench_segmentation.watershed\n",
    "import ui\n",
    "import util\n",
    "import workflow"
   ]
  },
  {
   "cell_type": "code",
   "execution_count": null,
   "id": "4",
   "metadata": {},
   "outputs": [],
   "source": [
    "# %load_ext line_profiler\n",
    "hv.extension(\"bokeh\")\n",
    "%matplotlib inline\n",
    "tqdm.monitor_interval = 0\n",
    "asyncio.get_event_loop().set_debug(True)\n",
    "import logging\n",
    "\n",
    "logging.basicConfig(level=logging.DEBUG)"
   ]
  },
  {
   "cell_type": "markdown",
   "id": "5",
   "metadata": {},
   "source": [
    "# Restore data"
   ]
  },
  {
   "cell_type": "code",
   "execution_count": null,
   "id": "6",
   "metadata": {},
   "outputs": [],
   "source": [
    "%store -r trench_points\n",
    "%store -r trench_diag\n",
    "%store -r trench_bboxes\n",
    "trench_bboxes_t0 = util.get_one(trench_bboxes.groupby(\"t\"))[1]"
   ]
  },
  {
   "cell_type": "markdown",
   "id": "7",
   "metadata": {},
   "source": [
    "# Analysis"
   ]
  },
  {
   "cell_type": "markdown",
   "id": "8",
   "metadata": {},
   "source": [
    "## Arrow copy with dictionary"
   ]
  },
  {
   "cell_type": "code",
   "execution_count": null,
   "id": "9",
   "metadata": {},
   "outputs": [],
   "source": [
    "def copy_arrow2(\n",
    "    in_filename, out_filename, length=None, batch_size=10000, process_func=None\n",
    "):\n",
    "    in_file = pa.memory_map(in_filename)\n",
    "    reader = pa.RecordBatchStreamReader(in_file)\n",
    "    out_file = pa.OSFile(out_filename, \"wb\")\n",
    "    table0 = pa.Table.from_batches([reader.read_next_batch()])\n",
    "    if process_func is not None:\n",
    "        table0 = process_func(table0)\n",
    "    writer = pa.RecordBatchStreamWriter(out_file, table0.schema)\n",
    "    writer.write_table(table0)\n",
    "    if length is not None:\n",
    "        reader = take(length, reader)\n",
    "    t0 = time.time()\n",
    "    for i, batches in enumerate(util.grouper(reader, batch_size)):\n",
    "        if True:  # i % 100 == 0:\n",
    "            t = time.time()\n",
    "            dt = t - t0\n",
    "            t0 = t\n",
    "            print(\"batch\", i, \"time {:.2f}\".format(dt))\n",
    "        table = pa.Table.from_batches(batches)  # .drop(columns_to_drop)\n",
    "        if process_func is not None:\n",
    "            table = process_func(table)\n",
    "        print(\"    rows per second\", len(table) / dt)\n",
    "        writer.write_table(table)\n",
    "\n",
    "\n",
    "def fix_filename(table):\n",
    "    for i in range(table.num_columns):\n",
    "        if table.column(i).name == \"filename\":\n",
    "            table = table.set_column(i, table.column(i).dictionary_encode())\n",
    "    return table"
   ]
  },
  {
   "cell_type": "code",
   "execution_count": null,
   "id": "10",
   "metadata": {},
   "outputs": [],
   "source": [
    "%%time\n",
    "copy_arrow2(\n",
    "    \"/tmp/analysis_full_stream11_2.arrow\",\n",
    "    \"/tmp/analysis_full_stream11_2.cat.full.arrow\",\n",
    "    process_func=fix_filename,\n",
    ")"
   ]
  },
  {
   "cell_type": "code",
   "execution_count": null,
   "id": "11",
   "metadata": {},
   "outputs": [],
   "source": [
    "%%time\n",
    "t = pa.open_stream(\"/tmp/analysis_full_stream11_2.cat.arrow\").read_all()"
   ]
  },
  {
   "cell_type": "code",
   "execution_count": null,
   "id": "12",
   "metadata": {},
   "outputs": [],
   "source": [
    "len(t)"
   ]
  },
  {
   "cell_type": "code",
   "execution_count": null,
   "id": "13",
   "metadata": {},
   "outputs": [],
   "source": [
    "t.schema.metadata[b\"pandas\"]"
   ]
  },
  {
   "cell_type": "code",
   "execution_count": null,
   "id": "14",
   "metadata": {},
   "outputs": [],
   "source": [
    "t2 = t.replace_schema_metadata()"
   ]
  },
  {
   "cell_type": "code",
   "execution_count": null,
   "id": "15",
   "metadata": {},
   "outputs": [],
   "source": [
    "%%time\n",
    "# tp = t2.to_pandas(zero_copy_only=True, categories=['filename'], use_threads=True)\n",
    "tp = t2.to_pandas(zero_copy_only=True, use_threads=True)"
   ]
  },
  {
   "cell_type": "markdown",
   "id": "16",
   "metadata": {},
   "source": [
    "## Parquet with dictionary"
   ]
  },
  {
   "cell_type": "code",
   "execution_count": null,
   "id": "17",
   "metadata": {},
   "outputs": [],
   "source": [
    "def read_parquet(filename, columns=None, length=None):\n",
    "    reader = pq.ParquetFile(filename)\n",
    "    t0 = time.time()\n",
    "    tables = []\n",
    "    for i in range(length or reader.num_row_groups):\n",
    "        if True:  # i % 100 == 0:\n",
    "            t = time.time()\n",
    "            dt = t - t0\n",
    "            t0 = t\n",
    "            print(\n",
    "                \"batch {}/{}\".format(i, reader.num_row_groups), \"time {:.2f}\".format(dt)\n",
    "            )\n",
    "        table = reader.read_row_group(i, nthreads=4, columns=columns)\n",
    "        # table = table.drop(['filename'])\n",
    "        # idx = table.schema.get_field_index('filename')\n",
    "        # table = table.set_column(idx, table.column(idx).dictionary_encode())\n",
    "        print(\"    rows per second\", len(table) / dt)\n",
    "        tables.append(table)\n",
    "    return pa.concat_tables(tables)"
   ]
  },
  {
   "cell_type": "code",
   "execution_count": null,
   "id": "18",
   "metadata": {},
   "outputs": [],
   "source": [
    "# cols = ['position', 'label', 'filename', 't', 'trench', 'trench_set', 'channel']\n",
    "# cols = [\"('YFP', 'labelwise', 'p0.9')\"]\n",
    "cols = [  #'filename',\n",
    "    \"position\",\n",
    "    \"channel\",\n",
    "    \"t\",\n",
    "    \"trench_set\",\n",
    "    \"trench\",\n",
    "    \"label\",\n",
    "    \"('YFP', 'labelwise', 'p0.9')\",\n",
    "    \"('MCHERRY', 'labelwise', 'p0.9')\",\n",
    "    \"('YFP', 'regionprops', 'area')\",\n",
    "]"
   ]
  },
  {
   "cell_type": "code",
   "execution_count": null,
   "id": "19",
   "metadata": {},
   "outputs": [],
   "source": [
    "%%time\n",
    "# parquet_filename = '/n/scratch2/jqs1/fidelity/all/output/analysis_full_stream11_2.parquet4'\n",
    "# parquet_filename = '/n/scratch2/jqs1/fidelity/all/output/analysis_full_stream11_2.parquet4'\n",
    "parquet_filename = \"/tmp/analysis_full_stream11_2.parquet4\"\n",
    "t = read_parquet(parquet_filename, columns=cols, length=None)"
   ]
  },
  {
   "cell_type": "code",
   "execution_count": null,
   "id": "20",
   "metadata": {},
   "outputs": [],
   "source": [
    "%%time\n",
    "tp = t.to_pandas()"
   ]
  },
  {
   "cell_type": "code",
   "execution_count": null,
   "id": "21",
   "metadata": {},
   "outputs": [],
   "source": [
    "tp"
   ]
  },
  {
   "cell_type": "code",
   "execution_count": null,
   "id": "22",
   "metadata": {},
   "outputs": [],
   "source": [
    "%%time\n",
    "pq.write_table(\n",
    "    pa.Table.from_pandas(tp),\n",
    "    \"/n/scratch2/jqs1/fidelity/all/output/analysis_full_stream11_2.nofilename.parquet4\",\n",
    ")"
   ]
  },
  {
   "cell_type": "code",
   "execution_count": null,
   "id": "23",
   "metadata": {},
   "outputs": [],
   "source": [
    "%%time\n",
    "tt = pq.read_pandas(\n",
    "    \"/n/scratch2/jqs1/fidelity/all/output/analysis_full_stream11_2.nofilename.parquet4\"\n",
    ").to_pandas()"
   ]
  },
  {
   "cell_type": "code",
   "execution_count": null,
   "id": "24",
   "metadata": {},
   "outputs": [],
   "source": [
    "%%time\n",
    "imos = pa.BufferOutputStream()\n",
    "in_file = pa.OSFile(\n",
    "    \"/n/scratch2/jqs1/fidelity/all/output/analysis_full_stream11_2.nofilename.parquet4\"\n",
    ")\n",
    "imos.upload(in_file)\n",
    "tt = pq.read_pandas(imos.getvalue())  # .to_pandas()"
   ]
  },
  {
   "cell_type": "code",
   "execution_count": null,
   "id": "25",
   "metadata": {},
   "outputs": [],
   "source": [
    "tt2 = tt.replace_schema_metadata()"
   ]
  },
  {
   "cell_type": "code",
   "execution_count": null,
   "id": "26",
   "metadata": {},
   "outputs": [],
   "source": [
    "%%time\n",
    "tp2 = tt2.to_pandas()"
   ]
  },
  {
   "cell_type": "code",
   "execution_count": null,
   "id": "27",
   "metadata": {},
   "outputs": [],
   "source": [
    "%%time\n",
    "tp.info(memory_usage=\"deep\")"
   ]
  },
  {
   "cell_type": "markdown",
   "id": "28",
   "metadata": {},
   "source": [
    "## Parquet redux"
   ]
  },
  {
   "cell_type": "code",
   "execution_count": null,
   "id": "29",
   "metadata": {},
   "outputs": [],
   "source": [
    "%%time\n",
    "pq.write_to_dataset(\n",
    "    rg0, root_path=\"/tmp/parq_test\", partition_cols=[\"filename\", \"position\"]\n",
    ")"
   ]
  },
  {
   "cell_type": "code",
   "execution_count": null,
   "id": "30",
   "metadata": {},
   "outputs": [],
   "source": [
    "def read_parquet(filename):\n",
    "    reader = pq.ParquetFile(filename)\n",
    "    table = pa.concat_tables(\n",
    "        [reader.read_row_group(i) for i in range(reader.num_row_groups)]\n",
    "    )\n",
    "    return table"
   ]
  },
  {
   "cell_type": "code",
   "execution_count": null,
   "id": "31",
   "metadata": {},
   "outputs": [],
   "source": [
    "reader = pq.ParquetFile(\"/tmp/analysis_full_stream11_2.parquet4\")"
   ]
  },
  {
   "cell_type": "code",
   "execution_count": null,
   "id": "32",
   "metadata": {},
   "outputs": [],
   "source": [
    "rg0 = reader.read_row_group(1)"
   ]
  },
  {
   "cell_type": "code",
   "execution_count": null,
   "id": "33",
   "metadata": {},
   "outputs": [],
   "source": [
    "idx = rg0.schema.get_field_index(\"filename\")\n",
    "rg1 = rg0.set_column(idx, rg0.column(idx).dictionary_encode())"
   ]
  },
  {
   "cell_type": "code",
   "execution_count": null,
   "id": "34",
   "metadata": {},
   "outputs": [],
   "source": [
    "len(rg1)"
   ]
  },
  {
   "cell_type": "code",
   "execution_count": null,
   "id": "35",
   "metadata": {},
   "outputs": [],
   "source": [
    "%%time\n",
    "tp = rg0.to_pandas()"
   ]
  },
  {
   "cell_type": "code",
   "execution_count": null,
   "id": "36",
   "metadata": {},
   "outputs": [],
   "source": [
    "%%time\n",
    "t = read_parquet(\"/tmp/analysis_full_stream11_2.parquet4\")"
   ]
  },
  {
   "cell_type": "code",
   "execution_count": null,
   "id": "37",
   "metadata": {},
   "outputs": [],
   "source": [
    "tp"
   ]
  },
  {
   "cell_type": "code",
   "execution_count": null,
   "id": "38",
   "metadata": {},
   "outputs": [],
   "source": [
    "pq.write_table(rg1, \"/tmp/analysis_full_stream11_2.3cols.rg100000.rg1.parquet\")"
   ]
  },
  {
   "cell_type": "code",
   "execution_count": null,
   "id": "39",
   "metadata": {},
   "outputs": [],
   "source": [
    "rg1roundtrip = pq.read_table(\n",
    "    \"/tmp/analysis_full_stream11_2.3cols.rg100000.rg1.parquet\",\n",
    "    use_pandas_metadata=False,\n",
    ")"
   ]
  },
  {
   "cell_type": "code",
   "execution_count": null,
   "id": "40",
   "metadata": {},
   "outputs": [],
   "source": [
    "rg1roundtrip"
   ]
  },
  {
   "cell_type": "code",
   "execution_count": null,
   "id": "41",
   "metadata": {},
   "outputs": [],
   "source": [
    "rg1"
   ]
  },
  {
   "cell_type": "code",
   "execution_count": null,
   "id": "42",
   "metadata": {},
   "outputs": [],
   "source": [
    "%%time\n",
    "t = read_parquet(\"/tmp/analysis_full_stream11_2.3cols.rg10000.parquet\")"
   ]
  },
  {
   "cell_type": "code",
   "execution_count": null,
   "id": "43",
   "metadata": {},
   "outputs": [],
   "source": [
    "t2 = t.drop([\"position\", \"t\", \"trench_set\", \"trench\", \"label\"])"
   ]
  },
  {
   "cell_type": "code",
   "execution_count": null,
   "id": "44",
   "metadata": {},
   "outputs": [],
   "source": [
    "%%time\n",
    "tp = t.to_pandas(zero_copy_only=True, use_threads=True, categories=[\"filename\"])"
   ]
  },
  {
   "cell_type": "code",
   "execution_count": null,
   "id": "45",
   "metadata": {},
   "outputs": [],
   "source": [
    "%%time\n",
    "pq.write_table(t3, \"/tmp/analysis_full_stream11_2.3cols.scienceonly.nomd.parquet\")"
   ]
  },
  {
   "cell_type": "code",
   "execution_count": null,
   "id": "46",
   "metadata": {},
   "outputs": [],
   "source": [
    "tp"
   ]
  },
  {
   "cell_type": "markdown",
   "id": "47",
   "metadata": {},
   "source": [
    "## Arrow"
   ]
  },
  {
   "cell_type": "code",
   "execution_count": null,
   "id": "48",
   "metadata": {},
   "outputs": [],
   "source": [
    "arrow_filename = (\n",
    "    \"/n/scratch2/jqs1/fidelity/all/output/analysis_full_stream11_2.subset1000.arrow\"\n",
    ")"
   ]
  },
  {
   "cell_type": "code",
   "execution_count": null,
   "id": "49",
   "metadata": {},
   "outputs": [],
   "source": [
    "columns = [\"position\", \"label\"]"
   ]
  },
  {
   "cell_type": "code",
   "execution_count": null,
   "id": "50",
   "metadata": {},
   "outputs": [],
   "source": [
    "columns_to_drop = list(set(c.name for c in table0.columns) - set(columns))"
   ]
  },
  {
   "cell_type": "code",
   "execution_count": null,
   "id": "51",
   "metadata": {},
   "outputs": [],
   "source": [
    "columns_to_drop"
   ]
  },
  {
   "cell_type": "code",
   "execution_count": null,
   "id": "52",
   "metadata": {},
   "outputs": [],
   "source": [
    "table1 = table0.drop(columns_to_drop)"
   ]
  },
  {
   "cell_type": "code",
   "execution_count": null,
   "id": "53",
   "metadata": {},
   "outputs": [],
   "source": [
    "reader = pa.open_stream(arrow_filename)\n",
    "table0 = pa.Table.from_batches([reader.read_next_batch()])\n",
    "imos = pa.BufferOutputStream()\n",
    "buffer = imos.getvalue()\n",
    "writer = pa.RecordBatchStreamWriter(buffer, table0)"
   ]
  },
  {
   "cell_type": "code",
   "execution_count": null,
   "id": "54",
   "metadata": {},
   "outputs": [],
   "source": [
    "def read_arrow(arrow_filename, columns, categorical_columns=None, batch_size=1000):\n",
    "    reader = pa.open_stream(arrow_filename)\n",
    "    table0 = pa.Table.from_batches([reader.read_next_batch()])\n",
    "    columns_to_drop = list(set(c.name for c in table0.columns) - set(columns))\n",
    "    table1 = table0.drop(columns_to_drop)\n",
    "    imos = pa.BufferOutputStream()\n",
    "    writer = pa.RecordBatchStreamWriter(imos, table1.schema)\n",
    "    t0 = time.time()\n",
    "    for i, batches in enumerate(util.grouper(reader, batch_size)):\n",
    "        if True:  # i % 100 == 0:\n",
    "            t = time.time()\n",
    "            dt = t - t0\n",
    "            t0 = t\n",
    "            print(\"batch\", i, \"time {:.2f}\".format(dt))\n",
    "        table = pa.Table.from_batches(batches).drop(columns_to_drop)\n",
    "        for i in range(table.num_columns):\n",
    "            if table.column(i).name == \"filename\":\n",
    "                table = table.set_column(i, table.column(i).dictionary_encode())\n",
    "        print(\"    rows per second\", len(table) / dt)\n",
    "        writer.write_table(table)\n",
    "    # with pq.ParquetWriter(parquet_filename, table0.schema) as writer:\n",
    "    #     writer.write_table(table0)\n",
    "    #    for batches in util.grouper(reader, batch_size):\n",
    "    #         table = pa.Table.from_batches(batches)\n",
    "    #         writer.write_table(table)\n",
    "    output_reader = pa.open_stream(imos.getvalue())\n",
    "    return output_reader"
   ]
  },
  {
   "cell_type": "code",
   "execution_count": null,
   "id": "55",
   "metadata": {},
   "outputs": [],
   "source": [
    "# arrow_filename = '/n/scratch2/jqs1/fidelity/all/output/analysis_full_stream11_2.subset1000.arrow'\n",
    "# arrow_filename = '/n/scratch2/jqs1/fidelity/all/output/analysis_full_stream11_2.subset15000.arrow'\n",
    "# arrow_filename = '/n/scratch2/jqs1/fidelity/all/output/analysis_full_stream11_2.subset15000.arrow'\n",
    "arrow_filename = \"/tmp/analysis_full_stream11_2.arrow\""
   ]
  },
  {
   "cell_type": "code",
   "execution_count": null,
   "id": "56",
   "metadata": {},
   "outputs": [],
   "source": [
    "%%time\n",
    "# cols = ['position', 'label', 'filename', 't', 'trench', 'trench_set', 'channel']\n",
    "# cols = [\"('YFP', 'labelwise', 'p0.9')\"]\n",
    "cols = [\n",
    "    \"filename\",\n",
    "    \"position\",\n",
    "    \"channel\",\n",
    "    \"t\",\n",
    "    \"trench_set\",\n",
    "    \"trench\",\n",
    "    \"label\",\n",
    "    \"('YFP', 'labelwise', 'p0.9')\",\n",
    "    \"('MCHERRY', 'labelwise', 'p0.9')\",\n",
    "    \"('YFP', 'regionprops', 'area')\",\n",
    "]\n",
    "b = read_arrow(arrow_filename, cols)"
   ]
  },
  {
   "cell_type": "code",
   "execution_count": null,
   "id": "57",
   "metadata": {},
   "outputs": [],
   "source": [
    "%time table = b.read_all()"
   ]
  },
  {
   "cell_type": "code",
   "execution_count": null,
   "id": "58",
   "metadata": {},
   "outputs": [],
   "source": [
    "len(table)"
   ]
  },
  {
   "cell_type": "code",
   "execution_count": null,
   "id": "59",
   "metadata": {},
   "outputs": [],
   "source": [
    "table2 = table.set_column(3, table.column(3).dictionary_encode())"
   ]
  },
  {
   "cell_type": "code",
   "execution_count": null,
   "id": "60",
   "metadata": {},
   "outputs": [],
   "source": [
    "arrow_file = pa.OSFile(\"/tmp/analysis_full_stream11_2.3cols.dict3.arrow\", \"wb\")\n",
    "writer = pa.RecordBatchStreamWriter(arrow_file, table3.schema)"
   ]
  },
  {
   "cell_type": "code",
   "execution_count": null,
   "id": "61",
   "metadata": {},
   "outputs": [],
   "source": [
    "%%time\n",
    "writer.write_table(table3)"
   ]
  },
  {
   "cell_type": "code",
   "execution_count": null,
   "id": "62",
   "metadata": {},
   "outputs": [],
   "source": [
    "table3 = table2.drop([\"filename\"])"
   ]
  },
  {
   "cell_type": "code",
   "execution_count": null,
   "id": "63",
   "metadata": {},
   "outputs": [],
   "source": [
    "%%time\n",
    "tp = table.to_pandas(zero_copy_only=True, strings_to_categorical=True)"
   ]
  },
  {
   "cell_type": "code",
   "execution_count": null,
   "id": "64",
   "metadata": {},
   "outputs": [],
   "source": [
    "%%time\n",
    "tp.info()  # memory_usage='deep')"
   ]
  },
  {
   "cell_type": "code",
   "execution_count": null,
   "id": "65",
   "metadata": {},
   "outputs": [],
   "source": [
    "%%time\n",
    "pq.write_table(\n",
    "    table, \"/n/scratch2/jqs1/fidelity/all/output/analysis_full_stream11_2.3cols.parquet\"\n",
    ")"
   ]
  },
  {
   "cell_type": "code",
   "execution_count": null,
   "id": "66",
   "metadata": {},
   "outputs": [],
   "source": [
    "%%time\n",
    "pq.write_table(\n",
    "    table,\n",
    "    \"/n/scratch2/jqs1/fidelity/all/output/analysis_full_stream11_2.3cols.rg1000.parquet\",\n",
    "    row_group_size=1000,\n",
    ")"
   ]
  },
  {
   "cell_type": "code",
   "execution_count": null,
   "id": "67",
   "metadata": {},
   "outputs": [],
   "source": [
    "%%time\n",
    "pq.write_table(\n",
    "    table,\n",
    "    \"/n/scratch2/jqs1/fidelity/all/output/analysis_full_stream11_2.3cols.rg1000000.parquet\",\n",
    "    row_group_size=1000000,\n",
    ")"
   ]
  },
  {
   "cell_type": "code",
   "execution_count": null,
   "id": "68",
   "metadata": {},
   "outputs": [],
   "source": [
    "%%time\n",
    "pq.write_table(table3, \"/tmp/analysis_full_stream11_2.3cols.nostr.parquet\")"
   ]
  },
  {
   "cell_type": "code",
   "execution_count": null,
   "id": "69",
   "metadata": {},
   "outputs": [],
   "source": [
    "%%time\n",
    "pq.write_table(\n",
    "    table,\n",
    "    \"/n/scratch2/jqs1/fidelity/all/output/analysis_full_stream11_2.3cols.rg100000.parquet\",\n",
    "    row_group_size=100000,\n",
    ")"
   ]
  },
  {
   "cell_type": "code",
   "execution_count": null,
   "id": "70",
   "metadata": {},
   "outputs": [],
   "source": [
    "%%time\n",
    "pq.write_table(\n",
    "    pa.Table.from_pandas(tp),\n",
    "    \"/n/scratch2/jqs1/fidelity/all/output/analysis_full_stream11_2.3cols.roundtrip.parquet\",\n",
    ")"
   ]
  },
  {
   "cell_type": "code",
   "execution_count": null,
   "id": "71",
   "metadata": {},
   "outputs": [],
   "source": [
    "?pq.write_table"
   ]
  },
  {
   "cell_type": "code",
   "execution_count": null,
   "id": "72",
   "metadata": {},
   "outputs": [],
   "source": [
    "%%time\n",
    "pt = pq.read_table(\"/tmp/analysis_full_stream11_2.3cols.nostr.parquet\")"
   ]
  },
  {
   "cell_type": "code",
   "execution_count": null,
   "id": "73",
   "metadata": {},
   "outputs": [],
   "source": [
    "import fastparquet"
   ]
  },
  {
   "cell_type": "code",
   "execution_count": null,
   "id": "74",
   "metadata": {},
   "outputs": [],
   "source": [
    "%%time\n",
    "cols = [\n",
    "    \"('MCHERRY', 'labelwise', 'p0.9')\",\n",
    "    \"('YFP', 'labelwise', 'p0.9')\",\n",
    "    \"('YFP', 'regionprops', 'area')\",\n",
    "    \"position\",\n",
    "    \"t\",\n",
    "    \"trench_set\",\n",
    "    \"trench\",\n",
    "    \"label\",\n",
    "]\n",
    "ptf = fastparquet.ParquetFile(\n",
    "    \"/tmp/analysis_full_stream11_2.3cols.nostr.parquet\"\n",
    ").to_pandas(columns=None, index=False)"
   ]
  },
  {
   "cell_type": "code",
   "execution_count": null,
   "id": "75",
   "metadata": {},
   "outputs": [],
   "source": [
    "?ptf.to_pandas"
   ]
  },
  {
   "cell_type": "code",
   "execution_count": null,
   "id": "76",
   "metadata": {},
   "outputs": [],
   "source": [
    "ptf"
   ]
  },
  {
   "cell_type": "code",
   "execution_count": null,
   "id": "77",
   "metadata": {},
   "outputs": [],
   "source": [
    "ptf."
   ]
  },
  {
   "cell_type": "code",
   "execution_count": null,
   "id": "78",
   "metadata": {},
   "outputs": [],
   "source": [
    "%%time\n",
    "pt.to_pandas()"
   ]
  },
  {
   "cell_type": "code",
   "execution_count": null,
   "id": "79",
   "metadata": {},
   "outputs": [],
   "source": [
    "_.info(memory_usage=\"deep\")"
   ]
  },
  {
   "cell_type": "code",
   "execution_count": null,
   "id": "80",
   "metadata": {},
   "outputs": [],
   "source": [
    "%%time\n",
    "tp = pq.read_pandas(\n",
    "    \"/n/scratch2/jqs1/fidelity/all/output/analysis_full_stream11_2.3cols.rg100000.parquet\"\n",
    ")  # .to_pandas()"
   ]
  },
  {
   "cell_type": "code",
   "execution_count": null,
   "id": "81",
   "metadata": {},
   "outputs": [],
   "source": [
    "# parquet_filename = '/n/scratch2/jqs1/fidelity/all/output/analysis_full_stream11_2.3cols.rg100000.parquet'\n",
    "parquet_filename = \"/tmp/analysis_full_stream11_2.3cols.rg100000.parquet\"\n",
    "f = pq.ParquetFile(parquet_filename)"
   ]
  },
  {
   "cell_type": "code",
   "execution_count": null,
   "id": "82",
   "metadata": {},
   "outputs": [],
   "source": [
    "f.num_row_groups"
   ]
  },
  {
   "cell_type": "code",
   "execution_count": null,
   "id": "83",
   "metadata": {},
   "outputs": [],
   "source": [
    "len(f.read_row_group(0))"
   ]
  },
  {
   "cell_type": "code",
   "execution_count": null,
   "id": "84",
   "metadata": {},
   "outputs": [],
   "source": [
    "t = f.read_row_group(0)"
   ]
  },
  {
   "cell_type": "code",
   "execution_count": null,
   "id": "85",
   "metadata": {},
   "outputs": [],
   "source": [
    "t"
   ]
  },
  {
   "cell_type": "code",
   "execution_count": null,
   "id": "86",
   "metadata": {},
   "outputs": [],
   "source": [
    "%%time\n",
    "t0 = time.time()\n",
    "for i in range(f.num_row_groups):\n",
    "    row_group = f.read_row_group(i)\n",
    "    if i % 100 == 0:\n",
    "        t = time.time()\n",
    "        dt = t - t0\n",
    "        t0 = t\n",
    "        print(\"batch\", i, \"time {:.2f}\".format(dt))"
   ]
  },
  {
   "cell_type": "code",
   "execution_count": null,
   "id": "87",
   "metadata": {},
   "outputs": [],
   "source": [
    "%%time\n",
    "tpq = pa.concat_tables([f.read_row_group(i) for i in range(f.num_row_groups)])"
   ]
  },
  {
   "cell_type": "code",
   "execution_count": null,
   "id": "88",
   "metadata": {},
   "outputs": [],
   "source": [
    "c = tpq.column(3)"
   ]
  },
  {
   "cell_type": "code",
   "execution_count": null,
   "id": "89",
   "metadata": {},
   "outputs": [],
   "source": [
    "tpq2 = tpq.set_column(3, tpq.column(3).dictionary_encode())"
   ]
  },
  {
   "cell_type": "code",
   "execution_count": null,
   "id": "90",
   "metadata": {},
   "outputs": [],
   "source": [
    "%%time\n",
    "pq.write_table(\n",
    "    tpq2,\n",
    "    \"/n/scratch2/jqs1/fidelity/all/output/analysis_full_stream11_2.3cols.rg10000.dict.parquet\",\n",
    "    row_group_size=10000,\n",
    ")"
   ]
  },
  {
   "cell_type": "code",
   "execution_count": null,
   "id": "91",
   "metadata": {},
   "outputs": [],
   "source": [
    "pa.write"
   ]
  },
  {
   "cell_type": "code",
   "execution_count": null,
   "id": "92",
   "metadata": {},
   "outputs": [],
   "source": [
    "%%time\n",
    "c.dictionary_encode()"
   ]
  },
  {
   "cell_type": "code",
   "execution_count": null,
   "id": "93",
   "metadata": {},
   "outputs": [],
   "source": [
    "%%time\n",
    "tpqs = tpq.to_pandas(strings_to_categorical=True)"
   ]
  },
  {
   "cell_type": "code",
   "execution_count": null,
   "id": "94",
   "metadata": {},
   "outputs": [],
   "source": [
    "tpqs"
   ]
  },
  {
   "cell_type": "code",
   "execution_count": null,
   "id": "95",
   "metadata": {},
   "outputs": [],
   "source": [
    "x = pa.array(list(\"1\" * 2**30))\n",
    "\n",
    "demo = \"demo.parquet\"\n",
    "\n",
    "\n",
    "def scenario():\n",
    "    t = pa.Table.from_arrays([x], [\"x\"])\n",
    "    writer = pq.ParquetWriter(demo, t.schema)\n",
    "    for i in range(2):\n",
    "        writer.write_table(t)\n",
    "    writer.close()\n",
    "\n",
    "    pf = pq.ParquetFile(demo)\n",
    "\n",
    "    # pyarrow.lib.ArrowIOError: Arrow error: Invalid: BinaryArray cannot contain more than 2147483646 bytes, have 2147483647\n",
    "    t2 = pf.read()"
   ]
  },
  {
   "cell_type": "code",
   "execution_count": null,
   "id": "96",
   "metadata": {},
   "outputs": [],
   "source": [
    "scenario()"
   ]
  },
  {
   "cell_type": "code",
   "execution_count": null,
   "id": "97",
   "metadata": {},
   "outputs": [],
   "source": [
    "%%time\n",
    "f.read().to_pandas()"
   ]
  },
  {
   "cell_type": "code",
   "execution_count": null,
   "id": "98",
   "metadata": {},
   "outputs": [],
   "source": [
    "f.read_row_group(10000).to_pandas()"
   ]
  },
  {
   "cell_type": "code",
   "execution_count": null,
   "id": "99",
   "metadata": {},
   "outputs": [],
   "source": [
    "%%time\n",
    "fastparquet.write(\n",
    "    \"/n/scratch2/jqs1/fidelity/all/output/analysis_full_stream11_2.3cols.fastparquet\",\n",
    "    tp,\n",
    ")"
   ]
  },
  {
   "cell_type": "code",
   "execution_count": null,
   "id": "100",
   "metadata": {},
   "outputs": [],
   "source": [
    "tp"
   ]
  },
  {
   "cell_type": "markdown",
   "id": "101",
   "metadata": {},
   "source": [
    "## Parquetify"
   ]
  },
  {
   "cell_type": "code",
   "execution_count": null,
   "id": "102",
   "metadata": {},
   "outputs": [],
   "source": [
    "def parquetify(arrow_filename, parquet_filename=None, batch_size=1000):\n",
    "    if parquet_filename is None:\n",
    "        parquet_filename = arrow_filename.replace(\".arrow\", \".parquet\")\n",
    "    reader = pa.open_stream(arrow_filename)\n",
    "    table0 = pa.Table.from_batches([reader.read_next_batch()])\n",
    "    with pq.ParquetWriter(parquet_filename, table0.schema) as writer:\n",
    "        writer.write_table(table0)\n",
    "        for batches in util.grouper(reader, batch_size):\n",
    "            table = pa.Table.from_batches(batches)\n",
    "            writer.write_table(table)"
   ]
  },
  {
   "cell_type": "code",
   "execution_count": null,
   "id": "103",
   "metadata": {},
   "outputs": [],
   "source": [
    "%%time\n",
    "parquetify(\n",
    "    \"/n/scratch2/jqs1/fidelity/all/output/analysis_full_stream11_0.arrow\",\n",
    "    parquet_filename=\"/n/scratch2/jqs1/fidelity/all/output/analysis_full_stream11_0.test.parquet\",\n",
    ")"
   ]
  },
  {
   "cell_type": "code",
   "execution_count": null,
   "id": "104",
   "metadata": {},
   "outputs": [],
   "source": [
    "z = pq.ParquetFile(\n",
    "    \"/n/scratch2/jqs1/fidelity/all/output/analysis_full_stream11_1.parquet\"\n",
    ")"
   ]
  },
  {
   "cell_type": "code",
   "execution_count": null,
   "id": "105",
   "metadata": {},
   "outputs": [],
   "source": [
    "z.num_row_groups"
   ]
  },
  {
   "cell_type": "code",
   "execution_count": null,
   "id": "106",
   "metadata": {},
   "outputs": [],
   "source": [
    "%%time\n",
    "pq.read_table(\n",
    "    \"/n/scratch2/jqs1/fidelity/all/output/analysis_full_stream11_0.test.parquet\"\n",
    ").to_pandas()"
   ]
  },
  {
   "cell_type": "code",
   "execution_count": null,
   "id": "107",
   "metadata": {},
   "outputs": [],
   "source": [
    "%%time\n",
    "parquetify(\"/n/scratch2/jqs1/fidelity/all/output/analysis_full_stream11_0.arrow\")"
   ]
  },
  {
   "cell_type": "code",
   "execution_count": null,
   "id": "108",
   "metadata": {},
   "outputs": [],
   "source": [
    "%%time\n",
    "parquetify(\"/n/scratch2/jqs1/fidelity/all/output/analysis_full_stream11_1.arrow\")"
   ]
  },
  {
   "cell_type": "code",
   "execution_count": null,
   "id": "109",
   "metadata": {},
   "outputs": [],
   "source": [
    "%%timeit\n",
    "open(\n",
    "    \"/n/scratch2/jqs1/fidelity/all/output/analysis_full_stream11_1.parquet\", \"rb\"\n",
    ").read()"
   ]
  },
  {
   "cell_type": "code",
   "execution_count": null,
   "id": "110",
   "metadata": {},
   "outputs": [],
   "source": [
    "%%time\n",
    "pq.read_table(\n",
    "    \"/n/scratch2/jqs1/fidelity/all/output/analysis_full_stream11_1.parquet\", nthreads=4\n",
    ").to_pandas()"
   ]
  },
  {
   "cell_type": "markdown",
   "id": "111",
   "metadata": {},
   "source": [
    "## Read Parquet from memory"
   ]
  },
  {
   "cell_type": "code",
   "execution_count": null,
   "id": "112",
   "metadata": {},
   "outputs": [],
   "source": [
    "buf = pa.BufferOutputStream()"
   ]
  },
  {
   "cell_type": "code",
   "execution_count": null,
   "id": "113",
   "metadata": {},
   "outputs": [],
   "source": [
    "in_file = pa.OSFile(\n",
    "    \"/n/scratch2/jqs1/fidelity/all/output/analysis_full_stream11_1.arrow\"\n",
    ")"
   ]
  },
  {
   "cell_type": "code",
   "execution_count": null,
   "id": "114",
   "metadata": {},
   "outputs": [],
   "source": [
    "%%time\n",
    "buf.upload(in_file, buffer_size=2**20)"
   ]
  },
  {
   "cell_type": "code",
   "execution_count": null,
   "id": "115",
   "metadata": {},
   "outputs": [],
   "source": [
    "bufr = pa.BufferReader(buf.getvalue())"
   ]
  },
  {
   "cell_type": "code",
   "execution_count": null,
   "id": "116",
   "metadata": {},
   "outputs": [],
   "source": [
    "bufr.seek(0)"
   ]
  },
  {
   "cell_type": "code",
   "execution_count": null,
   "id": "117",
   "metadata": {},
   "outputs": [],
   "source": [
    "%%time\n",
    "t = pa.open_stream(bufr).read_all()"
   ]
  },
  {
   "cell_type": "code",
   "execution_count": null,
   "id": "118",
   "metadata": {},
   "outputs": [],
   "source": [
    "in_file.seek(0)"
   ]
  },
  {
   "cell_type": "code",
   "execution_count": null,
   "id": "119",
   "metadata": {},
   "outputs": [],
   "source": [
    "?pa.MemoryMappedFile"
   ]
  },
  {
   "cell_type": "code",
   "execution_count": null,
   "id": "120",
   "metadata": {},
   "outputs": [],
   "source": [
    "in_file2 = pa.MemoryMappedFile(\n",
    "    \"/n/scratch2/jqs1/fidelity/all/output/analysis_full_stream11_1.arrow\"\n",
    ")"
   ]
  },
  {
   "cell_type": "code",
   "execution_count": null,
   "id": "121",
   "metadata": {},
   "outputs": [],
   "source": [
    "in_file2 = pa.memory_map(\n",
    "    \"/n/scratch2/jqs1/fidelity/all/output/analysis_full_stream11_1.arrow\"\n",
    ")"
   ]
  },
  {
   "cell_type": "code",
   "execution_count": null,
   "id": "122",
   "metadata": {},
   "outputs": [],
   "source": [
    "in_file2.seek(0)"
   ]
  },
  {
   "cell_type": "code",
   "execution_count": null,
   "id": "123",
   "metadata": {},
   "outputs": [],
   "source": [
    "in_file2.read(100)"
   ]
  },
  {
   "cell_type": "code",
   "execution_count": null,
   "id": "124",
   "metadata": {},
   "outputs": [],
   "source": [
    "%%time\n",
    "tt = pa.open_stream(in_file2).read_all()"
   ]
  },
  {
   "cell_type": "code",
   "execution_count": null,
   "id": "125",
   "metadata": {},
   "outputs": [],
   "source": [
    "t = pq.read_table(\n",
    "    \"/n/scratch2/jqs1/fidelity/all/output/analysis_full_stream11_1.parquet\", nthreads=1\n",
    ")"
   ]
  },
  {
   "cell_type": "code",
   "execution_count": null,
   "id": "126",
   "metadata": {},
   "outputs": [],
   "source": [
    "%%time\n",
    "pq.write_table(\n",
    "    t,\n",
    "    \"/n/scratch2/jqs1/fidelity/all/output/analysis_full_stream11_1.test.parquet\",\n",
    "    compression=\"zstd\",\n",
    "    row_group_size=10000,\n",
    "    version=\"2.0\",\n",
    ")"
   ]
  },
  {
   "cell_type": "code",
   "execution_count": null,
   "id": "127",
   "metadata": {},
   "outputs": [],
   "source": [
    "%%time\n",
    "pq.read_table(\n",
    "    \"/n/scratch2/jqs1/fidelity/all/output/analysis_full_stream11_1.test.parquet\",\n",
    "    nthreads=4,\n",
    ")"
   ]
  },
  {
   "cell_type": "code",
   "execution_count": null,
   "id": "128",
   "metadata": {},
   "outputs": [],
   "source": [
    "%prun pq.read_table('/n/scratch2/jqs1/fidelity/all/output/analysis_full_stream11_1.parquet', nthreads=1)"
   ]
  },
  {
   "cell_type": "code",
   "execution_count": null,
   "id": "129",
   "metadata": {},
   "outputs": [],
   "source": [
    "%prun pq.ParquetFile(bufr).read()"
   ]
  },
  {
   "cell_type": "code",
   "execution_count": null,
   "id": "130",
   "metadata": {},
   "outputs": [],
   "source": [
    "%%time\n",
    "pq.ParquetFile(bufr).read()"
   ]
  },
  {
   "cell_type": "markdown",
   "id": "131",
   "metadata": {},
   "source": [
    "## Parquetify2"
   ]
  },
  {
   "cell_type": "code",
   "execution_count": null,
   "id": "132",
   "metadata": {},
   "outputs": [],
   "source": [
    "def copy_arrow(in_filename, out_filename, length=None, batch_size=1000):\n",
    "    in_file = pa.memory_map(in_filename)\n",
    "    reader = pa.RecordBatchStreamReader(in_file)\n",
    "    out_file = pa.OSFile(out_filename, \"wb\")\n",
    "    table0 = pa.Table.from_batches([reader.read_next_batch()])\n",
    "    writer = pa.RecordBatchStreamWriter(out_file, table0.schema)\n",
    "    writer.write_table(table0)\n",
    "    if length is not None:\n",
    "        reader = take(length, reader)\n",
    "    for batches in util.grouper(reader, batch_size):\n",
    "        table = pa.Table.from_batches(batches)\n",
    "        writer.write_table(table)"
   ]
  },
  {
   "cell_type": "code",
   "execution_count": null,
   "id": "133",
   "metadata": {},
   "outputs": [],
   "source": [
    "%%time\n",
    "copy_arrow(\n",
    "    \"/n/scratch2/jqs1/fidelity/all/output/analysis_full_stream11_2.arrow\",\n",
    "    \"/n/scratch2/jqs1/fidelity/all/output/analysis_full_stream11_2.subset.arrow\",\n",
    "    batch_size=1000,\n",
    "    length=1000,\n",
    ")"
   ]
  },
  {
   "cell_type": "code",
   "execution_count": null,
   "id": "134",
   "metadata": {},
   "outputs": [],
   "source": [
    "%%time\n",
    "copy_arrow(\n",
    "    \"/n/scratch2/jqs1/fidelity/all/output/analysis_full_stream11_2.subset.arrow\",\n",
    "    \"/n/scratch2/jqs1/fidelity/all/output/analysis_full_stream11_2.subset.rebatched1000.arrow\",\n",
    "    batch_size=1000,\n",
    "    length=None,\n",
    ")"
   ]
  },
  {
   "cell_type": "code",
   "execution_count": null,
   "id": "135",
   "metadata": {},
   "outputs": [],
   "source": [
    "%%time\n",
    "copy_arrow(\n",
    "    \"/n/scratch2/jqs1/fidelity/all/output/analysis_full_stream11_2.subset.arrow\",\n",
    "    \"/n/scratch2/jqs1/fidelity/all/output/analysis_full_stream11_2.subset.rebatched10000.arrow\",\n",
    "    batch_size=10000,\n",
    "    length=None,\n",
    ")"
   ]
  },
  {
   "cell_type": "code",
   "execution_count": null,
   "id": "136",
   "metadata": {},
   "outputs": [],
   "source": [
    "%%time\n",
    "copy_arrow(\n",
    "    \"/n/scratch2/jqs1/fidelity/all/output/analysis_full_stream11_2.subset.arrow\",\n",
    "    \"/n/scratch2/jqs1/fidelity/all/output/analysis_full_stream11_2.subset.rebatched100.arrow\",\n",
    "    batch_size=100,\n",
    "    length=None,\n",
    ")"
   ]
  },
  {
   "cell_type": "code",
   "execution_count": null,
   "id": "137",
   "metadata": {},
   "outputs": [],
   "source": [
    "%%time\n",
    "parquetify2(\n",
    "    \"/n/scratch2/jqs1/fidelity/all/output/analysis_full_stream11_2.subset.arrow\",\n",
    "    batch_size=1,\n",
    "    length=1000,\n",
    ")"
   ]
  },
  {
   "cell_type": "code",
   "execution_count": null,
   "id": "138",
   "metadata": {},
   "outputs": [],
   "source": [
    "%%time\n",
    "parquetify2(\n",
    "    \"/n/scratch2/jqs1/fidelity/all/output/analysis_full_stream11_2.subset.rebatched100.arrow\",\n",
    "    batch_size=1,\n",
    "    length=1000,\n",
    ")"
   ]
  },
  {
   "cell_type": "code",
   "execution_count": null,
   "id": "139",
   "metadata": {},
   "outputs": [],
   "source": [
    "%%time\n",
    "parquetify2(\n",
    "    \"/n/scratch2/jqs1/fidelity/all/output/analysis_full_stream11_2.subset.rebatched1000.arrow\",\n",
    "    batch_size=1,\n",
    "    length=1000,\n",
    ")"
   ]
  },
  {
   "cell_type": "code",
   "execution_count": null,
   "id": "140",
   "metadata": {},
   "outputs": [],
   "source": [
    "%%time\n",
    "parquetify2(\n",
    "    \"/n/scratch2/jqs1/fidelity/all/output/analysis_full_stream11_2.subset.rebatched10000.arrow\",\n",
    "    batch_size=1,\n",
    "    length=1000,\n",
    ")"
   ]
  },
  {
   "cell_type": "code",
   "execution_count": null,
   "id": "141",
   "metadata": {},
   "outputs": [],
   "source": [
    "in_file = pa.OSFile(\n",
    "    \"/n/scratch2/jqs1/fidelity/all/output/analysis_full_stream11_2.subset.arrow\"\n",
    ")"
   ]
  },
  {
   "cell_type": "code",
   "execution_count": null,
   "id": "142",
   "metadata": {},
   "outputs": [],
   "source": [
    "reader = pa.RecordBatchStreamReader(in_file)"
   ]
  },
  {
   "cell_type": "code",
   "execution_count": null,
   "id": "143",
   "metadata": {},
   "outputs": [],
   "source": [
    "batch = reader.read_next_batch()"
   ]
  },
  {
   "cell_type": "code",
   "execution_count": null,
   "id": "144",
   "metadata": {},
   "outputs": [],
   "source": [
    "batches = list(take(10, reader))"
   ]
  },
  {
   "cell_type": "code",
   "execution_count": null,
   "id": "145",
   "metadata": {},
   "outputs": [],
   "source": [
    "table = pa.Table.from_batches(batches)"
   ]
  },
  {
   "cell_type": "code",
   "execution_count": null,
   "id": "146",
   "metadata": {},
   "outputs": [],
   "source": [
    "len(table)"
   ]
  },
  {
   "cell_type": "code",
   "execution_count": null,
   "id": "147",
   "metadata": {},
   "outputs": [],
   "source": [
    "batches2 = table.to_batches(chunksize=10000)"
   ]
  },
  {
   "cell_type": "code",
   "execution_count": null,
   "id": "148",
   "metadata": {},
   "outputs": [],
   "source": [
    "len(batches2)"
   ]
  },
  {
   "cell_type": "code",
   "execution_count": null,
   "id": "149",
   "metadata": {},
   "outputs": [],
   "source": [
    "len(batches[0])"
   ]
  },
  {
   "cell_type": "code",
   "execution_count": null,
   "id": "150",
   "metadata": {},
   "outputs": [],
   "source": [
    "len(batches2[0])"
   ]
  },
  {
   "cell_type": "code",
   "execution_count": null,
   "id": "151",
   "metadata": {},
   "outputs": [],
   "source": [
    "col = table.column(0)"
   ]
  },
  {
   "cell_type": "code",
   "execution_count": null,
   "id": "152",
   "metadata": {},
   "outputs": [],
   "source": [
    "col.data."
   ]
  },
  {
   "cell_type": "code",
   "execution_count": null,
   "id": "153",
   "metadata": {},
   "outputs": [],
   "source": [
    "pa.Table.from_batches([batches2[0]]).to_pandas().info(memory_usage=\"deep\")"
   ]
  },
  {
   "cell_type": "code",
   "execution_count": null,
   "id": "154",
   "metadata": {},
   "outputs": [],
   "source": [
    "len(batches2[0])"
   ]
  },
  {
   "cell_type": "code",
   "execution_count": null,
   "id": "155",
   "metadata": {},
   "outputs": [],
   "source": [
    "len(batch)"
   ]
  },
  {
   "cell_type": "code",
   "execution_count": null,
   "id": "156",
   "metadata": {},
   "outputs": [],
   "source": [
    "def parquetify2(arrow_filename, parquet_filename=None, batch_size=1000, length=None):\n",
    "    if parquet_filename is None:\n",
    "        parquet_filename = arrow_filename.replace(\".arrow\", \".parquet4\")\n",
    "    arrow_file = pa.OSFile(arrow_filename)\n",
    "    # arrow_file = pa.memory_map(arrow_filename)\n",
    "    # parquet_mmap = pa.memory_map(parquet_filename, 'wb')\n",
    "    reader = pa.open_stream(arrow_file)\n",
    "    table0 = pa.Table.from_batches([reader.read_next_batch()])\n",
    "    if length is not None:\n",
    "        reader = take(length, reader)\n",
    "    with pq.ParquetWriter(parquet_filename, table0.schema) as writer:\n",
    "        # with pq.ParquetWriter(parquet_mmap, table0.schema) as writer:\n",
    "        writer.write_table(table0)\n",
    "        for batches in util.grouper(reader, batch_size):\n",
    "            table = pa.Table.from_batches(batches)\n",
    "            writer.write_table(table)\n",
    "    # arrow_file.close()\n",
    "    # parquet_mmap.flush()\n",
    "    # parquet_mmap.close()"
   ]
  },
  {
   "cell_type": "code",
   "execution_count": null,
   "id": "157",
   "metadata": {},
   "outputs": [],
   "source": [
    "%%time\n",
    "copy_arrow(\n",
    "    \"/n/scratch2/jqs1/fidelity/all/output/analysis_full_stream11_2.arrow\",\n",
    "    \"/n/scratch2/jqs1/fidelity/all/output/analysis_full_stream11_2.subset15000.arrow\",\n",
    "    length=15000,\n",
    "    batch_size=1,\n",
    ")"
   ]
  },
  {
   "cell_type": "code",
   "execution_count": null,
   "id": "158",
   "metadata": {},
   "outputs": [],
   "source": [
    "%%time\n",
    "parquetify2(\n",
    "    \"/n/scratch2/jqs1/fidelity/all/output/analysis_full_stream11_2.arrow\",\n",
    "    batch_size=1000,\n",
    ")"
   ]
  },
  {
   "cell_type": "code",
   "execution_count": null,
   "id": "159",
   "metadata": {},
   "outputs": [],
   "source": [
    "cols = [\n",
    "    \"('YFP', 'labelwise', 'p0.9')\",\n",
    "    \"('MCHERRY', 'labelwise', 'p0.9')\",\n",
    "    \"('YFP', 'regionprops', 'mean')\",\n",
    "    \"('YFP', 'regionprops', 'area')\",\n",
    "]"
   ]
  },
  {
   "cell_type": "code",
   "execution_count": null,
   "id": "160",
   "metadata": {},
   "outputs": [],
   "source": [
    "# cols = [\"('YFP', 'labelwise', 'p0.9')\"]\n",
    "# cols = ['position']\n",
    "# cols = [\"('YFP', 'labelwise', 'p0.9')\", 'filename', 'position']\n",
    "# cols = [\"('YFP', 'labelwise', 'p0.9')\", 'position', 'trench', 'label']\n",
    "cols = [\"('YFP', 'labelwise', 'p0.9')\", \"position\", \"trench\", \"label\", \"filename\"]"
   ]
  },
  {
   "cell_type": "code",
   "execution_count": null,
   "id": "161",
   "metadata": {},
   "outputs": [],
   "source": [
    "%%time\n",
    "# reader = pq.ParquetFile('/n/scratch2/jqs1/fidelity/all/output/analysis_full_stream11_2.parquet4')\n",
    "reader = pq.ParquetFile(\n",
    "    \"/n/scratch2/jqs1/fidelity/all/output/analysis_full_stream11_2.onecol.rg10000.parquet4\"\n",
    ")\n",
    "# for i in range(0,reader.num_row_groups):\n",
    "#     print('row group', i)\n",
    "#     reader.read_row_group(i, use_pandas_metadata=True)\n",
    "tables = [\n",
    "    reader.read_row_group(i, columns=None, nthreads=1, use_pandas_metadata=False)\n",
    "    for i in range(reader.num_row_groups)\n",
    "]\n",
    "table = pa.concat_tables(tables)\n",
    "# t = table.to_pandas(use_threads=True, strings_to_categorical=True)"
   ]
  },
  {
   "cell_type": "code",
   "execution_count": null,
   "id": "162",
   "metadata": {},
   "outputs": [],
   "source": [
    "import fastparquet"
   ]
  },
  {
   "cell_type": "code",
   "execution_count": null,
   "id": "163",
   "metadata": {},
   "outputs": [],
   "source": [
    "%%time\n",
    "tf = fastparquet.ParquetFile(\n",
    "    \"/n/scratch2/jqs1/fidelity/all/output/analysis_full_stream11_2.parquet4\"\n",
    ")"
   ]
  },
  {
   "cell_type": "code",
   "execution_count": null,
   "id": "164",
   "metadata": {},
   "outputs": [],
   "source": [
    "next(tf.iter_row_groups())"
   ]
  },
  {
   "cell_type": "code",
   "execution_count": null,
   "id": "165",
   "metadata": {},
   "outputs": [],
   "source": [
    "tf.row_groups[0]"
   ]
  },
  {
   "cell_type": "code",
   "execution_count": null,
   "id": "166",
   "metadata": {},
   "outputs": [],
   "source": [
    "tf.read_row_group(0, [(\"YFP\", \"labelwise\", \"p0.9\")], {})"
   ]
  },
  {
   "cell_type": "code",
   "execution_count": null,
   "id": "167",
   "metadata": {},
   "outputs": [],
   "source": [
    "%%time\n",
    "tf = fastparquet.ParquetFile(\n",
    "    \"/n/scratch2/jqs1/fidelity/all/output/analysis_full_stream11_2.parquet4\"\n",
    ")  # .to_pandas()"
   ]
  },
  {
   "cell_type": "code",
   "execution_count": null,
   "id": "168",
   "metadata": {},
   "outputs": [],
   "source": [
    "tff = tf.to_pandas(columns=[\"position\"])"
   ]
  },
  {
   "cell_type": "code",
   "execution_count": null,
   "id": "169",
   "metadata": {},
   "outputs": [],
   "source": [
    "%%time\n",
    "tf = fastparquet.ParquetFile(\n",
    "    \"/n/scratch2/jqs1/fidelity/all/output/analysis_full_stream11_2.onecol.rg10000.parquet4\"\n",
    ").to_pandas()"
   ]
  },
  {
   "cell_type": "code",
   "execution_count": null,
   "id": "170",
   "metadata": {},
   "outputs": [],
   "source": [
    "?pd.read_parquet"
   ]
  },
  {
   "cell_type": "code",
   "execution_count": null,
   "id": "171",
   "metadata": {},
   "outputs": [],
   "source": [
    "%%time\n",
    "reader = pq.ParquetFile(\n",
    "    \"/n/scratch2/jqs1/fidelity/all/output/analysis_full_stream11_2.parquet4\"\n",
    ")\n",
    "tables = [\n",
    "    reader.read_row_group(i, columns=cols, nthreads=4, use_pandas_metadata=False)\n",
    "    for i in range(reader.num_row_groups)\n",
    "]\n",
    "table = pa.concat_tables(tables)\n",
    "# t = table.to_pandas(use_threads=True, strings_to_categorical=True)"
   ]
  },
  {
   "cell_type": "code",
   "execution_count": null,
   "id": "172",
   "metadata": {},
   "outputs": [],
   "source": [
    "%%time\n",
    "t = table.to_pandas(use_threads=True, strings_to_categorical=True)"
   ]
  },
  {
   "cell_type": "code",
   "execution_count": null,
   "id": "173",
   "metadata": {},
   "outputs": [],
   "source": [
    "%%time\n",
    "pq.write_table(\n",
    "    pa.Table.from_pandas(t),\n",
    "    \"/n/scratch2/jqs1/fidelity/all/output/analysis_full_stream11_2.onecol.rg10000.parquet4\",\n",
    "    row_group_size=10000,\n",
    ")"
   ]
  },
  {
   "cell_type": "code",
   "execution_count": null,
   "id": "174",
   "metadata": {},
   "outputs": [],
   "source": [
    "%%time\n",
    "tsel = pq.read_pandas(\n",
    "    \"/n/scratch2/jqs1/fidelity/all/output/analysis_full_stream11_2.onecol.rg10000.parquet4\"\n",
    ").to_pandas()"
   ]
  },
  {
   "cell_type": "code",
   "execution_count": null,
   "id": "175",
   "metadata": {},
   "outputs": [],
   "source": [
    "t.head()"
   ]
  },
  {
   "cell_type": "code",
   "execution_count": null,
   "id": "176",
   "metadata": {},
   "outputs": [],
   "source": [
    "import sys"
   ]
  },
  {
   "cell_type": "code",
   "execution_count": null,
   "id": "177",
   "metadata": {},
   "outputs": [],
   "source": [
    "len(t[(\"YFP\", \"labelwise\", \"p0.9\")].data)"
   ]
  },
  {
   "cell_type": "code",
   "execution_count": null,
   "id": "178",
   "metadata": {},
   "outputs": [],
   "source": [
    "t.info(memory_usage=\"deep\")"
   ]
  },
  {
   "cell_type": "code",
   "execution_count": null,
   "id": "179",
   "metadata": {},
   "outputs": [],
   "source": [
    "%%time\n",
    "t2 = t.reset_index()"
   ]
  },
  {
   "cell_type": "code",
   "execution_count": null,
   "id": "180",
   "metadata": {},
   "outputs": [],
   "source": [
    "%%time\n",
    "t2.info(memory_usage=\"deep\")"
   ]
  },
  {
   "cell_type": "code",
   "execution_count": null,
   "id": "181",
   "metadata": {},
   "outputs": [],
   "source": [
    "%%time\n",
    "t = pq.read_pandas(\n",
    "    \"/n/scratch2/jqs1/fidelity/all/output/analysis_full_stream11_2.parquet4\",\n",
    "    nthreads=0,\n",
    "    columns=cols,\n",
    ")  # .to_pandas()"
   ]
  },
  {
   "cell_type": "code",
   "execution_count": null,
   "id": "182",
   "metadata": {},
   "outputs": [],
   "source": [
    "%%time\n",
    "tp = t.to_pandas(use_threads=True)"
   ]
  },
  {
   "cell_type": "code",
   "execution_count": null,
   "id": "183",
   "metadata": {},
   "outputs": [],
   "source": [
    "tp.info(memory_usage=\"deep\")"
   ]
  },
  {
   "cell_type": "code",
   "execution_count": null,
   "id": "184",
   "metadata": {},
   "outputs": [],
   "source": [
    "reader = pq.ParquetFile(\n",
    "    pa.OSFile(\"/n/scratch2/jqs1/fidelity/all/output/analysis_full_stream11_2.parquet4\")\n",
    ")"
   ]
  },
  {
   "cell_type": "code",
   "execution_count": null,
   "id": "185",
   "metadata": {},
   "outputs": [],
   "source": [
    "a = reader.read_row_group(0)"
   ]
  },
  {
   "cell_type": "code",
   "execution_count": null,
   "id": "186",
   "metadata": {},
   "outputs": [],
   "source": [
    "a.schema"
   ]
  },
  {
   "cell_type": "code",
   "execution_count": null,
   "id": "187",
   "metadata": {},
   "outputs": [],
   "source": [
    "len(t)"
   ]
  },
  {
   "cell_type": "code",
   "execution_count": null,
   "id": "188",
   "metadata": {},
   "outputs": [],
   "source": [
    "%%time\n",
    "tt = (\n",
    "    pa.open_stream(\n",
    "        pa.memory_map(\n",
    "            \"/n/scratch2/jqs1/fidelity/all/output/analysis_full_stream11_2.subset1000.arrow\"\n",
    "        )\n",
    "    )\n",
    "    .read_all()\n",
    "    .to_pandas()\n",
    ")"
   ]
  },
  {
   "cell_type": "code",
   "execution_count": null,
   "id": "189",
   "metadata": {},
   "outputs": [],
   "source": [
    "%%time\n",
    "ttt = (\n",
    "    pa.open_stream(\n",
    "        pa.OSFile(\n",
    "            \"/n/scratch2/jqs1/fidelity/all/output/analysis_full_stream11_2.subset1000.arrow\"\n",
    "        )\n",
    "    )\n",
    "    .read_all()\n",
    "    .to_pandas()\n",
    ")"
   ]
  },
  {
   "cell_type": "code",
   "execution_count": null,
   "id": "190",
   "metadata": {},
   "outputs": [],
   "source": [
    "%%time\n",
    "t.to_pandas()"
   ]
  },
  {
   "cell_type": "code",
   "execution_count": null,
   "id": "191",
   "metadata": {},
   "outputs": [],
   "source": [
    "%%time\n",
    "tt.to_pandas()"
   ]
  },
  {
   "cell_type": "code",
   "execution_count": null,
   "id": "192",
   "metadata": {},
   "outputs": [],
   "source": [
    "?tt.to_pandas"
   ]
  },
  {
   "cell_type": "code",
   "execution_count": null,
   "id": "193",
   "metadata": {},
   "outputs": [],
   "source": [
    "%prun parquetify2('/n/scratch2/jqs1/fidelity/all/output/analysis_full_stream11_0.arrow')"
   ]
  },
  {
   "cell_type": "markdown",
   "id": "194",
   "metadata": {},
   "source": [
    "## Load data"
   ]
  },
  {
   "cell_type": "code",
   "execution_count": null,
   "id": "195",
   "metadata": {},
   "outputs": [],
   "source": [
    "%%time\n",
    "framewise_df = pa.open_stream(\n",
    "    \"/n/scratch2/jqs1/fidelity/all/output/analysis_full_stream11_0.arrow\"\n",
    ").read_pandas()"
   ]
  },
  {
   "cell_type": "code",
   "execution_count": null,
   "id": "196",
   "metadata": {},
   "outputs": [],
   "source": [
    "framewise_df.info(memory_usage=\"deep\")"
   ]
  },
  {
   "cell_type": "code",
   "execution_count": null,
   "id": "197",
   "metadata": {},
   "outputs": [],
   "source": [
    "s = pa.open_stream(\"/n/scratch2/jqs1/fidelity/all/output/analysis50_stream_0.arrow\")"
   ]
  },
  {
   "cell_type": "code",
   "execution_count": null,
   "id": "198",
   "metadata": {},
   "outputs": [],
   "source": [
    "for a in take(2, s):\n",
    "    print(a)"
   ]
  },
  {
   "cell_type": "code",
   "execution_count": null,
   "id": "199",
   "metadata": {},
   "outputs": [],
   "source": [
    "?s.read_next_batch"
   ]
  },
  {
   "cell_type": "code",
   "execution_count": null,
   "id": "200",
   "metadata": {},
   "outputs": [],
   "source": [
    "s.read_pandas()"
   ]
  },
  {
   "cell_type": "code",
   "execution_count": null,
   "id": "201",
   "metadata": {},
   "outputs": [],
   "source": [
    "%prun pa.open_stream('/n/scratch2/jqs1/fidelity/all/output/analysis50_stream_0.arrow').read_all()#.read_pandas()"
   ]
  },
  {
   "cell_type": "code",
   "execution_count": null,
   "id": "202",
   "metadata": {},
   "outputs": [],
   "source": [
    "%prun pa.open_stream('/n/scratch2/jqs1/fidelity/all/output/analysis_full_stream11_0.arrow').read_all()#.read_pandas()"
   ]
  },
  {
   "cell_type": "code",
   "execution_count": null,
   "id": "203",
   "metadata": {},
   "outputs": [],
   "source": [
    "%%time\n",
    "trenchwise_df = pa.open_stream(\n",
    "    \"/n/scratch2/jqs1/fidelity/all/output/analysis_full_stream11_1.arrow\"\n",
    ").read_pandas()"
   ]
  },
  {
   "cell_type": "code",
   "execution_count": null,
   "id": "204",
   "metadata": {},
   "outputs": [],
   "source": [
    "trenchwise_df.info(memory_usage=\"deep\")"
   ]
  },
  {
   "cell_type": "code",
   "execution_count": null,
   "id": "205",
   "metadata": {},
   "outputs": [],
   "source": [
    "%%time\n",
    "labelwise_df = pq.read_pandas(\n",
    "    \"/n/scratch2/jqs1/fidelity/all/output/analysis50_full_2.parquet\"\n",
    ").to_pandas()"
   ]
  },
  {
   "cell_type": "code",
   "execution_count": null,
   "id": "206",
   "metadata": {},
   "outputs": [],
   "source": [
    "labelwise_df.info(memory_usage=\"deep\")"
   ]
  },
  {
   "cell_type": "code",
   "execution_count": null,
   "id": "207",
   "metadata": {},
   "outputs": [],
   "source": [
    "# labelwise_df.index.names = ['filename', 'position', 't', 'trench_set', 'trench', 'label']\n",
    "# labelwise_df.sort_index(inplace=True)"
   ]
  },
  {
   "cell_type": "code",
   "execution_count": null,
   "id": "208",
   "metadata": {},
   "outputs": [],
   "source": [
    "len(labelwise_df)"
   ]
  },
  {
   "cell_type": "code",
   "execution_count": null,
   "id": "209",
   "metadata": {},
   "outputs": [],
   "source": [
    "framewise_df.head()"
   ]
  },
  {
   "cell_type": "code",
   "execution_count": null,
   "id": "210",
   "metadata": {},
   "outputs": [],
   "source": [
    "trenchwise_df.head()"
   ]
  },
  {
   "cell_type": "code",
   "execution_count": null,
   "id": "211",
   "metadata": {},
   "outputs": [],
   "source": [
    "labelwise_df.head()"
   ]
  },
  {
   "cell_type": "markdown",
   "id": "212",
   "metadata": {},
   "source": [
    "## Basic stats"
   ]
  },
  {
   "cell_type": "code",
   "execution_count": null,
   "id": "213",
   "metadata": {},
   "outputs": [],
   "source": [
    "# labelwise_df2 = labelwise_df.copy()\n",
    "labelwise_df.columns = [\"_\".join(col).strip() for col in labelwise_df.columns.values]"
   ]
  },
  {
   "cell_type": "code",
   "execution_count": null,
   "id": "214",
   "metadata": {},
   "outputs": [],
   "source": [
    "labelwise_df.loc[:, \"MCHERRY_regionprops_area\"].plot(kind=\"hist\", bins=100, log=False)"
   ]
  },
  {
   "cell_type": "code",
   "execution_count": null,
   "id": "215",
   "metadata": {},
   "outputs": [],
   "source": [
    "selected_cells = labelwise_df2[\n",
    "    (50 < labelwise_df2[\"MCHERRY_regionprops_area\"])\n",
    "    & (labelwise_df2[\"MCHERRY_regionprops_area\"] < 300)\n",
    "]"
   ]
  },
  {
   "cell_type": "code",
   "execution_count": null,
   "id": "216",
   "metadata": {},
   "outputs": [],
   "source": [
    "selected_cells.loc[:, \"MCHERRY_regionprops_area\"].plot(kind=\"hist\", bins=100, log=False)"
   ]
  },
  {
   "cell_type": "code",
   "execution_count": null,
   "id": "217",
   "metadata": {},
   "outputs": [],
   "source": [
    "selected_cells.loc[:, \"MCHERRY_labelwise_p0.5\"].plot(kind=\"hist\", bins=100, log=False)"
   ]
  },
  {
   "cell_type": "code",
   "execution_count": null,
   "id": "218",
   "metadata": {},
   "outputs": [],
   "source": [
    "selected_cells.loc[:, \"YFP_labelwise_p0.5\"].plot(kind=\"hist\", bins=100, log=True)"
   ]
  },
  {
   "cell_type": "code",
   "execution_count": null,
   "id": "219",
   "metadata": {},
   "outputs": [],
   "source": [
    "labelwise_df[:10000].hvplot(\n",
    "    x=\"MCHERRY_labelwise_p0.5\", y=\"YFP_labelwise_p0.5\", kind=\"scatter\"\n",
    ")"
   ]
  },
  {
   "cell_type": "code",
   "execution_count": null,
   "id": "220",
   "metadata": {},
   "outputs": [],
   "source": [
    "yfp_cols = [c for c in labelwise_df.columns if c.startswith(\"YFP_labelwise_p\")]\n",
    "mcherry_cols = [c for c in labelwise_df.columns if c.startswith(\"MCHERRY_labelwise_p\")]"
   ]
  },
  {
   "cell_type": "code",
   "execution_count": null,
   "id": "221",
   "metadata": {},
   "outputs": [],
   "source": [
    "d = labelwise_df.loc[\n",
    "    IDX[\"/n/scratch2/jqs1/fidelity/all/180405_txnerr002.nd2\", 2, :, 1, 50:60], yfp_cols\n",
    "]"
   ]
  },
  {
   "cell_type": "code",
   "execution_count": null,
   "id": "222",
   "metadata": {},
   "outputs": [],
   "source": [
    "d.hvplot.scatter(\"t\", \"YFP_labelwise_p0.95\", by=\"trench\")"
   ]
  },
  {
   "cell_type": "code",
   "execution_count": null,
   "id": "223",
   "metadata": {},
   "outputs": [],
   "source": [
    "%%opts Scatter (size=3)\n",
    "hv.Layout(\n",
    "    [\n",
    "        d.hvplot.scatter(\"t\", c, by=\"trench\", width=500, height=300)\n",
    "        for c in reversed(yfp_cols)\n",
    "    ]\n",
    ").cols(1)"
   ]
  },
  {
   "cell_type": "code",
   "execution_count": null,
   "id": "224",
   "metadata": {},
   "outputs": [],
   "source": [
    "d2 = labelwise_df.loc[\n",
    "    IDX[\"/n/scratch2/jqs1/fidelity/all/180405_txnerr002.nd2\", 3, :, :, :], yfp_cols\n",
    "]"
   ]
  },
  {
   "cell_type": "code",
   "execution_count": null,
   "id": "225",
   "metadata": {},
   "outputs": [],
   "source": [
    "%%opts Scatter (size=3) [show_legend=False]\n",
    "hv.Layout(\n",
    "    [\n",
    "        d2.hvplot.scatter(\"t\", c, by=\"trench\", width=500, height=300)\n",
    "        for c in reversed(yfp_cols)\n",
    "    ]\n",
    ").cols(1)"
   ]
  },
  {
   "cell_type": "code",
   "execution_count": null,
   "id": "226",
   "metadata": {},
   "outputs": [],
   "source": [
    "%%opts Scatter (size=3) [show_legend=False]\n",
    "def get_plot(pos):\n",
    "    c = \"YFP_labelwise_p0.9\"\n",
    "    d = labelwise_df.loc[\n",
    "        IDX[\"/n/scratch2/jqs1/fidelity/all/180405_txnerr002.nd2\", pos, :, :, :], c\n",
    "    ]\n",
    "    return d.hvplot.scatter(\"t\", c, by=\"trench\", width=500, height=300)\n",
    "\n",
    "\n",
    "hv.HoloMap(\n",
    "    {\n",
    "        pos: get_plot(pos)\n",
    "        for pos in labelwise_df.index._get_level_values(1, unique=True)[:20]\n",
    "    }\n",
    ")"
   ]
  },
  {
   "cell_type": "code",
   "execution_count": null,
   "id": "227",
   "metadata": {},
   "outputs": [],
   "source": [
    "labelwise_df.head().loc[:, cols]"
   ]
  },
  {
   "cell_type": "code",
   "execution_count": null,
   "id": "228",
   "metadata": {},
   "outputs": [],
   "source": [
    "d = labelwise_df.loc[\n",
    "    IDX[\"/n/scratch2/jqs1/fidelity/all/180405_txnerr002.nd2\", 2, :, 1, 50:60], cols\n",
    "]\n",
    "m = pd.melt(d.loc[:, cols])\n",
    "# m.index = d.index\n",
    "# m"
   ]
  },
  {
   "cell_type": "markdown",
   "id": "229",
   "metadata": {},
   "source": [
    "# Plot tapping"
   ]
  },
  {
   "cell_type": "code",
   "execution_count": null,
   "id": "230",
   "metadata": {},
   "outputs": [],
   "source": [
    "LabelStream = ui.MultiIndexStream.define(\"LabelStream\", labelwise_df.index)\n",
    "label_stream = LabelStream()\n",
    "box = ui.dataframe_browser(label_stream)\n",
    "label_stream.event()\n",
    "box"
   ]
  },
  {
   "cell_type": "code",
   "execution_count": null,
   "id": "231",
   "metadata": {},
   "outputs": [],
   "source": [
    "p = d.hvplot.scatter(\"t\", \"YFP_labelwise_p0.95\").options(tools=[\"tap\", \"hover\"])\n",
    "ui.selection_to_stream(p, label_stream)\n",
    "p"
   ]
  },
  {
   "cell_type": "code",
   "execution_count": null,
   "id": "232",
   "metadata": {},
   "outputs": [],
   "source": [
    "def cb(**kwargs):\n",
    "    dat = labelwise_df.loc[\n",
    "        workflow.stream_slice(\n",
    "            labelwise_df.index.names, kwargs, t=slice(None), label=slice(None)\n",
    "        ),\n",
    "        :,\n",
    "    ]\n",
    "    plot = dat.hvplot.scatter(\"t\", \"YFP_labelwise_p0.95\").options(\n",
    "        tools=[\"tap\", \"hover\"]\n",
    "    )\n",
    "    # ui.selection_to_stream(plot, label_stream)\n",
    "    return plot\n",
    "\n",
    "\n",
    "ui.viewer(cb, label_stream)"
   ]
  },
  {
   "cell_type": "markdown",
   "id": "233",
   "metadata": {},
   "source": [
    "## Transcription errors"
   ]
  },
  {
   "cell_type": "code",
   "execution_count": null,
   "id": "234",
   "metadata": {},
   "outputs": [],
   "source": [
    "selected_cells.head()"
   ]
  },
  {
   "cell_type": "code",
   "execution_count": null,
   "id": "235",
   "metadata": {},
   "outputs": [],
   "source": [
    "selected_cells.index[0][:-1]"
   ]
  },
  {
   "cell_type": "code",
   "execution_count": null,
   "id": "236",
   "metadata": {},
   "outputs": [],
   "source": [
    "trench_bboxes.head()"
   ]
  },
  {
   "cell_type": "code",
   "execution_count": null,
   "id": "237",
   "metadata": {},
   "outputs": [],
   "source": [
    "selected_cells.head()"
   ]
  },
  {
   "cell_type": "code",
   "execution_count": null,
   "id": "238",
   "metadata": {},
   "outputs": [],
   "source": [
    "selected_cells.index[0][2:-1]"
   ]
  },
  {
   "cell_type": "code",
   "execution_count": null,
   "id": "239",
   "metadata": {},
   "outputs
": [],
   "source": [
    "selected_trenches = trench_bboxes.xs(\n",
    "    (*selected_cells.index[0][:2], \"MCHERRY\", 0, *selected_cells.index[0][3:-1]),\n",
    "    drop_level=False,\n",
    ")"
   ]
  },
  {
   "cell_type": "code",
   "execution_count": null,
   "id": "240",
   "metadata": {},
   "outputs": [],
   "source": [
    "selected_trenches.head()"
   ]
  },
  {
   "cell_type": "code",
   "execution_count": null,
   "id": "241",
   "metadata": {},
   "outputs": [],
   "source": [
    "workflow.get_trench_stacks(selected_trenches, all_frames, image_limits)"
   ]
  },
  {
   "cell_type": "markdown",
   "id": "242",
   "metadata": {},
   "source": [
    "# Trench UI"
   ]
  },
  {
   "cell_type": "code",
   "execution_count": null,
   "id": "243",
   "metadata": {},
   "outputs": [],
   "source": [
    "trenchwise_df.head(10)"
   ]
  },
  {
   "cell_type": "code",
   "execution_count": null,
   "id": "244",
   "metadata": {},
   "outputs": [],
   "source": [
    "trench_bboxes.head(20)"
   ]
  },
  {
   "cell_type": "code",
   "execution_count": null,
   "id": "245",
   "metadata": {},
   "outputs": [],
   "source": [
    "trench_bboxes[trench_bboxes[(\"info\", \"hough_value\")] > 90].loc[\n",
    "    IDX[:, :, [\"MCHERRY\"], 0, :, :], :\n",
    "].head(10)"
   ]
  },
  {
   "cell_type": "code",
   "execution_count": null,
   "id": "246",
   "metadata": {},
   "outputs": [],
   "source": [
    "trench_bboxes.head(10)"
   ]
  },
  {
   "cell_type": "code",
   "execution_count": null,
   "id": "247",
   "metadata": {},
   "outputs": [],
   "source": [
    "selected_trenches_segmentation.head(10)"
   ]
  },
  {
   "cell_type": "code",
   "execution_count": null,
   "id": "248",
   "metadata": {},
   "outputs": [],
   "source": [
    "# LabelStream = ui.MultiIndexStream.define('LabelStream', trench_bboxes.index)\n",
    "LabelStream = ui.MultiIndexStream.define(\"LabelStream\", labelwise_df.index)\n",
    "# LabelStream = ui.MultiIndexStream.define('LabelStream', selected_trenches_segmentation.index)\n",
    "label_stream = LabelStream()\n",
    "\n",
    "box = ui.dataframe_browser(label_stream)\n",
    "label_stream.event()\n",
    "box"
   ]
  },
  {
   "cell_type": "code",
   "execution_count": null,
   "id": "249",
   "metadata": {},
   "outputs": [],
   "source": [
    "label_stream.contents"
   ]
  },
  {
   "cell_type": "code",
   "execution_count": null,
   "id": "250",
   "metadata": {},
   "outputs": [],
   "source": [
    "%%opts Layout [normalize=False]\n",
    "%%opts Image [width=500 height=300]\n",
    "# image_callback = partial(ui.get_trench_set_overlay, get_frame_func=workflow.get_nd2_frame_cached)\n",
    "# p = ui.trench_set_viewer(trench_bboxes_t0, label_stream, channel='MCHERRY', image_callback=image_callback).options({'Bounds': dict(tools=['tap'])})\n",
    "p = ui.get_trench_set_overlay(\n",
    "    trench_bboxes_t0,\n",
    "    channel=\"MCHERRY\",\n",
    "    **{\n",
    "        k: label_stream.contents[k]\n",
    "        for k in (\"filename\", \"position\", \"t\", \"trench_set\", \"trench\")\n",
    "    },\n",
    ")\n",
    "p = p.options({\"Bounds\": dict(tools=[\"tap\"])})\n",
    "s = Selection1D(source=p)\n",
    "p"
   ]
  },
  {
   "cell_type": "code",
   "execution_count": null,
   "id": "251",
   "metadata": {},
   "outputs": [],
   "source": [
    "s"
   ]
  },
  {
   "cell_type": "code",
   "execution_count": null,
   "id": "252",
   "metadata": {},
   "outputs": [],
   "source": [
    "s"
   ]
  },
  {
   "cell_type": "code",
   "execution_count": null,
   "id": "253",
   "metadata": {},
   "outputs": [],
   "source": [
    "%%opts Layout [normalize=False]\n",
    "%%opts Image [width=800 height=150]\n",
    "image_callback = partial(\n",
    "    ui.get_trench_set_overlay, get_frame_func=workflow.get_nd2_frame_cached\n",
    ")\n",
    "(\n",
    "    ui.trench_set_viewer(\n",
    "        trench_bboxes_t0, label_stream, channel=\"MCHERRY\", image_callback=image_callback\n",
    "    )\n",
    "    + ui.trench_set_viewer(\n",
    "        trench_bboxes_t0, label_stream, channel=\"YFP\", image_callback=image_callback\n",
    "    )\n",
    ").cols(1)"
   ]
  },
  {
   "cell_type": "code",
   "execution_count": null,
   "id": "254",
   "metadata": {},
   "outputs": [],
   "source": [
    "%%opts Layout [normalize=False]\n",
    "%%output size=100\n",
    "hover = HoverTool(\n",
    "    tooltips=[\n",
    "        (\"(x,y)\", \"(@x{0[.]0}, @y{0[.]0})\"),\n",
    "        (\"value\", \"@z\"),\n",
    "    ]\n",
    ")\n",
    "cb = compose(partial(ui.hover_image, hover), ui._trench_img, workflow.get_trench_image)\n",
    "# cb = workflow.get_trench_image\n",
    "(\n",
    "    ui.trench_viewer(trench_bboxes, label_stream, channel=\"MCHERRY\", image_callback=cb)\n",
    "    + ui.trench_viewer(trench_bboxes, label_stream, channel=\"YFP\", image_callback=cb)\n",
    ").cols(1)"
   ]
  },
  {
   "cell_type": "code",
   "execution_count": null,
   "id": "255",
   "metadata": {},
   "outputs": [],
   "source": [
    "import bokeh"
   ]
  },
  {
   "cell_type": "code",
   "execution_count": null,
   "id": "256",
   "metadata": {},
   "outputs": [],
   "source": [
    "compose(partial(ui.hover_image, hover), ui._trench_img, workflow.get_trench_image)(\n",
    "    trench_bboxes,\n",
    "    \"/n/scratch2/jqs1/fidelity/all/180405_txnerr002.nd2\",\n",
    "    3,\n",
    "    \"MCHERRY\",\n",
    "    0,\n",
    "    1,\n",
    "    56,\n",
    ")"
   ]
  },
  {
   "cell_type": "code",
   "execution_count": null,
   "id": "257",
   "metadata": {},
   "outputs": [],
   "source": [
    "yfp = labelwise_df.loc[\n",
    "    IDX[\"/n/scratch2/jqs1/fidelity/all/180405_txnerr002.nd2\", 3, 3, 1, 61],\n",
    "    (\"YFP\", \"labelwise\", \"mean\"),\n",
    "]"
   ]
  },
  {
   "cell_type": "code",
   "execution_count": null,
   "id": "258",
   "metadata": {},
   "outputs": [],
   "source": [
    "yfp.plot.hist(bins=50)"
   ]
  },
  {
   "cell_type": "code",
   "execution_count": null,
   "id": "259",
   "metadata": {},
   "outputs": [],
   "source": [
    "yfp2 = labelwise_df.loc[\n",
    "    IDX[\"/n/scratch2/jqs1/fidelity/all/180405_txnerr002.nd2\", 3],\n",
    "    (\"YFP\", \"labelwise\", \"p0.95\"),\n",
    "]"
   ]
  },
  {
   "cell_type": "code",
   "execution_count": null,
   "id": "260",
   "metadata": {},
   "outputs": [],
   "source": [
    "yfp2[yfp2 < 300].plot.hist(bins=50, log=True)"
   ]
  },
  {
   "cell_type": "code",
   "execution_count": null,
   "id": "261",
   "metadata": {},
   "outputs": [],
   "source": [
    "yfp2[yfp2 > 200]"
   ]
  },
  {
   "cell_type": "code",
   "execution_count": null,
   "id": "262",
   "metadata": {},
   "outputs": [],
   "source": [
    "yfp2.loc[IDX[:, 1, 60]]"
   ]
  },
  {
   "cell_type": "code",
   "execution_count": null,
   "id": "263",
   "metadata": {},
   "outputs": [],
   "source": [
    "yfp2.swaplevel(0, 1).swaplevel(1, 2).sort_index()"
   ]
  },
  {
   "cell_type": "code",
   "execution_count": null,
   "id": "264",
   "metadata": {},
   "outputs": [],
   "source": [
    "yfp2[yfp2 > 130].groupby([\"trench_set\", \"trench\"]).filter(lambda x: x.count() > 10)"
   ]
  },
  {
   "cell_type": "code",
   "execution_count": null,
   "id": "265",
   "metadata": {},
   "outputs": [],
   "source": [
    "yfp[yfp > 130]"
   ]
  },
  {
   "cell_type": "code",
   "execution_count": null,
   "id": "266",
   "metadata": {},
   "outputs": [],
   "source": [
    "labelwise_df.xs(\n",
    "    IDX[\"/n/scratch2/jqs1/fidelity/all/180405_txnerr002.nd2\", 3, 2, 1, 56],\n",
    "    drop_level=False,\n",
    ")[\"YFP\"]"
   ]
  },
  {
   "cell_type": "code",
   "execution_count": null,
   "id": "267",
   "metadata": {},
   "outputs": [],
   "source": [
    "labelwise_df.loc[\n",
    "    IDX[\"/n/scratch2/jqs1/fidelity/all/180405_txnerr002.nd2\", 0, 2, 1, 56], \"MCHERRY\"\n",
    "]"
   ]
  },
  {
   "cell_type": "code",
   "execution_count": null,
   "id": "268",
   "metadata": {},
   "outputs": [],
   "source": [
    "plt.imshow(\n",
    "    workflow.get_trench_image(\n",
    "        trench_bboxes,\n",
    "        channel=\"MCHERRY\",\n",
    "        **dissoc(label_stream.contents, \"_df\", \"label\"),\n",
    "    )\n",
    ")"
   ]
  },
  {
   "cell_type": "code",
   "execution_count": null,
   "id": "269",
   "metadata": {},
   "outputs": [],
   "source": [
    "workflow.get_nd2_frame(\n",
    "    channel=\"MCHERRY\",\n",
    "    **util.get_keys(label_stream.contents, \"filename\", \"position\", \"t\"),\n",
    ")"
   ]
  },
  {
   "cell_type": "code",
   "execution_count": null,
   "id": "270",
   "metadata": {},
   "outputs": [],
   "source": [
    "f = partial(util.get_keys, keys=[\"label\"])\n",
    "f(label_stream.contents)"
   ]
  },
  {
   "cell_type": "code",
   "execution_count": null,
   "id": "271",
   "metadata": {},
   "outputs": [],
   "source": [
    "label_stream.contents.keys()"
   ]
  },
  {
   "cell_type": "code",
   "execution_count": null,
   "id": "272",
   "metadata": {},
   "outputs": [],
   "source": [
    "ui.image_viewer(frame_stream)"
   ]
  },
  {
   "cell_type": "code",
   "execution_count": null,
   "id": "273",
   "metadata": {},
   "outputs": [],
   "source": [
    "ui.show_frame_info(trench_diag, frame_stream)"
   ]
  },
  {
   "cell_type": "code",
   "execution_count": null,
   "id": "274",
   "metadata": {},
   "outputs": [],
   "source": [
    "g = ui.show_grid(selected, stream=frame_stream)\n",
    "g"
   ]
  }
 ],
 "metadata": {
  "kernelspec": {
   "display_name": "Python 3",
   "language": "python",
   "name": "python3"
  },
  "language_info": {
   "codemirror_mode": {
    "name": "ipython",
    "version": 3
   },
   "file_extension": ".py",
   "mimetype": "text/x-python",
   "name": "python",
   "nbconvert_exporter": "python",
   "pygments_lexer": "ipython3",
   "version": "3.7.0"
  }
 },
 "nbformat": 4,
 "nbformat_minor": 2
}
