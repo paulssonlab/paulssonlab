{
 "cells": [
  {
   "cell_type": "markdown",
   "id": "0",
   "metadata": {},
   "source": [
    "# Imports"
   ]
  },
  {
   "cell_type": "code",
   "execution_count": null,
   "id": "1",
   "metadata": {},
   "outputs": [],
   "source": [
    "import asyncio\n",
    "import time\n",
    "import traceback\n",
    "import warnings\n",
    "from collections import defaultdict, namedtuple\n",
    "from collections.abc import Mapping, Sequence\n",
    "from functools import partial\n",
    "from glob import glob\n",
    "from importlib import reload\n",
    "from numbers import Number\n",
    "from operator import getitem\n",
    "\n",
    "import cachetools\n",
    "import dask\n",
    "import distributed\n",
    "import holoviews as hv\n",
    "import hvplot.pandas\n",
    "import ipywidgets as widgets\n",
    "import matplotlib.pyplot as plt\n",
    "import nd2reader\n",
    "import numpy as np\n",
    "import pandas as pd\n",
    "import param\n",
    "import parambokeh\n",
    "import pyarrow as pa\n",
    "import pyarrow.feather as feather\n",
    "import pyarrow.parquet as pq\n",
    "import qgrid\n",
    "import scipy\n",
    "import skimage.morphology\n",
    "import streamz\n",
    "import streamz.dataframe as sdf\n",
    "import zarr\n",
    "from bokeh.models.tools import HoverTool, TapTool\n",
    "from cytoolz import *\n",
    "from dask import delayed\n",
    "from dask_jobqueue import SLURMCluster\n",
    "from distributed import Client, LocalCluster, progress\n",
    "from holoviews.operation.datashader import regrid\n",
    "from holoviews.streams import Selection1D, Stream, param\n",
    "from tqdm import tnrange, tqdm, tqdm_notebook\n",
    "from traitlets import All\n",
    "\n",
    "IDX = pd.IndexSlice"
   ]
  },
  {
   "cell_type": "code",
   "execution_count": null,
   "id": "2",
   "metadata": {},
   "outputs": [],
   "source": [
    "%load_ext autoreload\n",
    "%autoreload 2"
   ]
  },
  {
   "cell_type": "code",
   "execution_count": null,
   "id": "3",
   "metadata": {},
   "outputs": [],
   "source": [
    "# from processing import *\n",
    "# from trench_detection import *\n",
    "# from trench_segmentation import *\n",
    "# from trench_segmentation.watershed import *\n",
    "# from util import *\n",
    "# from ui import *\n",
    "import common\n",
    "import data_io\n",
    "import diagnostics\n",
    "import geometry\n",
    "import image\n",
    "import metadata\n",
    "import trench_detection\n",
    "import trench_detection.core\n",
    "import trench_detection.hough\n",
    "import trench_segmentation.watershed\n",
    "import ui\n",
    "import util\n",
    "import workflow"
   ]
  },
  {
   "cell_type": "code",
   "execution_count": null,
   "id": "4",
   "metadata": {},
   "outputs": [],
   "source": [
    "# %load_ext line_profiler\n",
    "hv.extension(\"bokeh\")\n",
    "%matplotlib inline\n",
    "tqdm.monitor_interval = 0\n",
    "asyncio.get_event_loop().set_debug(True)\n",
    "import logging\n",
    "\n",
    "logging.basicConfig(level=logging.DEBUG)"
   ]
  },
  {
   "cell_type": "markdown",
   "id": "5",
   "metadata": {},
   "source": [
    "# Analysis"
   ]
  },
  {
   "cell_type": "code",
   "execution_count": null,
   "id": "6",
   "metadata": {},
   "outputs": [],
   "source": [
    "# cols = ['position', 'label', 'filename', 't', 'trench', 'trench_set', 'channel']\n",
    "# cols = [\"('YFP', 'labelwise', 'p0.9')\"]\n",
    "cols = [\n",
    "    \"filename\",\n",
    "    \"position\",\n",
    "    \"channel\",\n",
    "    \"t\",\n",
    "    \"trench_set\",\n",
    "    \"trench\",\n",
    "    \"label\",\n",
    "    \"('YFP', 'labelwise', 'p0.9')\",\n",
    "    \"('MCHERRY', 'labelwise', 'p0.9')\",\n",
    "    \"('YFP', 'regionprops', 'area')\",\n",
    "]"
   ]
  },
  {
   "cell_type": "markdown",
   "id": "7",
   "metadata": {},
   "source": [
    "## Sorting Arrow"
   ]
  },
  {
   "cell_type": "code",
   "execution_count": null,
   "id": "8",
   "metadata": {},
   "outputs": [],
   "source": [
    "import io"
   ]
  },
  {
   "cell_type": "code",
   "execution_count": null,
   "id": "9",
   "metadata": {},
   "outputs": [],
   "source": [
    "io.BufferedReader(, io.DEFAULT_BUFFER_SIZE*1000)"
   ]
  },
  {
   "cell_type": "code",
   "execution_count": null,
   "id": "10",
   "metadata": {},
   "outputs": [],
   "source": [
    "?pq.ParquetWriter.write_table"
   ]
  },
  {
   "cell_type": "code",
   "execution_count": null,
   "id": "11",
   "metadata": {},
   "outputs": [],
   "source": [
    "%%time\n",
    "data_io.sort_arrow_to_parquet(\n",
    "    \"/n/scratch2/jqs1/fidelity/all/output/analysis_full_stream11_2.arrow\",\n",
    "    \"/n/scratch2/jqs1/fidelity/all/output/analysis_full_stream11_2.sorted3.parquet4\",\n",
    "    length=None,\n",
    ")"
   ]
  },
  {
   "cell_type": "code",
   "execution_count": null,
   "id": "12",
   "metadata": {},
   "outputs": [],
   "source": [
    "%%time\n",
    "t = data_io.read_parquet(\n",
    "    \"/n/scratch2/jqs1/fidelity/all/output/analysis_full_stream11_2.sorted3.parquet4\",\n",
    "    columns=cols,\n",
    ")  # .to_pandas()"
   ]
  },
  {
   "cell_type": "code",
   "execution_count": null,
   "id": "13",
   "metadata": {},
   "outputs": [],
   "source": [
    "%%time\n",
    "tp3 = t.to_pandas(use_threads=True)"
   ]
  },
  {
   "cell_type": "code",
   "execution_count": null,
   "id": "14",
   "metadata": {},
   "outputs": [],
   "source": [
    "tp3.index.is_lexsorted()"
   ]
  },
  {
   "cell_type": "code",
   "execution_count": null,
   "id": "15",
   "metadata": {},
   "outputs": [],
   "source": [
    "%%time\n",
    "tp2 = t.replace_schema_metadata().to_pandas()"
   ]
  },
  {
   "cell_type": "code",
   "execution_count": null,
   "id": "16",
   "metadata": {},
   "outputs": [],
   "source": [
    "%%time\n",
    "tp22 = tp2.set_index([\"filename\", \"position\", \"t\", \"trench_set\", \"trench\", \"label\"])"
   ]
  },
  {
   "cell_type": "code",
   "execution_count": null,
   "id": "17",
   "metadata": {},
   "outputs": [],
   "source": [
    "tp2.info(memory_usage=\"deep\")"
   ]
  },
  {
   "cell_type": "code",
   "execution_count": null,
   "id": "18",
   "metadata": {},
   "outputs": [],
   "source": [
    "f = pa.OSFile(\"/n/scratch2/jqs1/fidelity/all/output/analysis_full_stream11_2.arrow\")"
   ]
  },
  {
   "cell_type": "code",
   "execution_count": null,
   "id": "19",
   "metadata": {},
   "outputs": [],
   "source": [
    "s = pa.RecordBatchStreamReader(f)"
   ]
  },
  {
   "cell_type": "code",
   "execution_count": null,
   "id": "20",
   "metadata": {},
   "outputs": [],
   "source": [
    "b = s.read_next_batch()"
   ]
  },
  {
   "cell_type": "code",
   "execution_count": null,
   "id": "21",
   "metadata": {},
   "outputs": [],
   "source": [
    "import json"
   ]
  },
  {
   "cell_type": "code",
   "execution_count": null,
   "id": "22",
   "metadata": {},
   "outputs": [],
   "source": [
    "index_columns = json.loads(b.schema.metadata[b\"pandas\"])[\"index_columns\"]"
   ]
  },
  {
   "cell_type": "code",
   "execution_count": null,
   "id": "23",
   "metadata": {},
   "outputs": [],
   "source": [
    "index_columns"
   ]
  },
  {
   "cell_type": "code",
   "execution_count": null,
   "id": "24",
   "metadata": {},
   "outputs": [],
   "source": [
    "data_io.first_index(b)"
   ]
  },
  {
   "cell_type": "code",
   "execution_count": null,
   "id": "25",
   "metadata": {},
   "outputs": [],
   "source": [
    "b.column(b.schema.get_field_index(\"filename\"))[0]"
   ]
  },
  {
   "cell_type": "markdown",
   "id": "26",
   "metadata": {},
   "source": [
    "## Parquet"
   ]
  },
  {
   "cell_type": "code",
   "execution_count": null,
   "id": "27",
   "metadata": {},
   "outputs": [],
   "source": [
    "f = pq.ParquetFile(\n",
    "    \"/n/scratch2/jqs1/fidelity/all/output/analysis_full_stream11_2.parquet4\"\n",
    ")"
   ]
  },
  {
   "cell_type": "code",
   "execution_count": null,
   "id": "28",
   "metadata": {},
   "outputs": [],
   "source": [
    "t = f.read_row_group(0)"
   ]
  },
  {
   "cell_type": "code",
   "execution_count": null,
   "id": "29",
   "metadata": {},
   "outputs": [],
   "source": [
    "t.schema.field_by_name(\"filename\").type == pa.string()"
   ]
  },
  {
   "cell_type": "code",
   "execution_count": null,
   "id": "30",
   "metadata": {},
   "outputs": [],
   "source": [
    "f.metadata.num_rows"
   ]
  },
  {
   "cell_type": "code",
   "execution_count": null,
   "id": "31",
   "metadata": {},
   "outputs": [],
   "source": [
    "%%time\n",
    "parquet_filename = (\n",
    "    \"/n/scratch2/jqs1/fidelity/all/output/analysis_full_stream11_2.parquet4\"\n",
    ")\n",
    "# parquet_filename = '/tmp/analysis_full_stream11_2.parquet4'\n",
    "# parquet_filename = io.BufferedReader(pa.OSFile(parquet_filename), buffer_size=io.DEFAULT_BUFFER_SIZE * 1000)\n",
    "t = data_io.read_parquet(parquet_filename, columns=cols)"
   ]
  },
  {
   "cell_type": "code",
   "execution_count": null,
   "id": "32",
   "metadata": {},
   "outputs": [],
   "source": [
    "%%time\n",
    "t.to_pandas()"
   ]
  },
  {
   "cell_type": "code",
   "execution_count": null,
   "id": "33",
   "metadata": {},
   "outputs": [],
   "source": [
    "%%time\n",
    "imos = pa.BufferOutputStream()\n",
    "in_file = pa.OSFile(\n",
    "    \"/n/scratch2/jqs1/fidelity/all/output/analysis_full_stream11_2.parquet4\"\n",
    ")\n",
    "imos.upload(in_file)\n",
    "# tt = pq.read_pandas(imos.getvalue())#.to_pandas()"
   ]
  },
  {
   "cell_type": "code",
   "execution_count": null,
   "id": "34",
   "metadata": {},
   "outputs": [],
   "source": [
    "%%time\n",
    "t4 = io.read_parquet(\n",
    "    imos.getvalue(), columns=cols, categories=[\"filename\"], length=None\n",
    ")"
   ]
  },
  {
   "cell_type": "code",
   "execution_count": null,
   "id": "35",
   "metadata": {},
   "outputs": [],
   "source": [
    "%%time\n",
    "t3.to_pandas().info()"
   ]
  },
  {
   "cell_type": "code",
   "execution_count": null,
   "id": "36",
   "metadata": {},
   "outputs": [],
   "source": [
    "%%time\n",
    "t3.replace_schema_metadata().to_pandas().info()"
   ]
  },
  {
   "cell_type": "code",
   "execution_count": null,
   "id": "37",
   "metadata": {},
   "outputs": [],
   "source": [
    "%prun t3.to_pandas()"
   ]
  },
  {
   "cell_type": "code",
   "execution_count": null,
   "id": "38",
   "metadata": {},
   "outputs": [],
   "source": [
    "%prun t3.replace_schema_metadata().to_pandas()"
   ]
  },
  {
   "cell_type": "code",
   "execution_count": null,
   "id": "39",
   "metadata": {},
   "outputs": [],
   "source": [
    "k = t3.replace_schema_metadata().to_pandas()"
   ]
  },
  {
   "cell_type": "code",
   "execution_count": null,
   "id": "40",
   "metadata": {},
   "outputs": [],
   "source": [
    "%prun k.set_index('filename')"
   ]
  },
  {
   "cell_type": "code",
   "execution_count": null,
   "id": "41",
   "metadata": {},
   "outputs": [],
   "source": [
    "%%time\n",
    "tp = t3.to_pandas()"
   ]
  },
  {
   "cell_type": "code",
   "execution_count": null,
   "id": "42",
   "metadata": {},
   "outputs": [],
   "source": [
    "%%time\n",
    "imos = pa.BufferOutputStream()\n",
    "in_file = pa.OSFile(\n",
    "    \"/n/scratch2/jqs1/fidelity/all/output/analysis_full_stream11_2.nofilename.parquet4\"\n",
    ")\n",
    "imos.upload(in_file)\n",
    "tt = pq.read_pandas(imos.getvalue())  # .to_pandas()"
   ]
  },
  {
   "cell_type": "code",
   "execution_count": null,
   "id": "43",
   "metadata": {},
   "outputs": [],
   "source": [
    "tt2 = tt.replace_schema_metadata()"
   ]
  },
  {
   "cell_type": "code",
   "execution_count": null,
   "id": "44",
   "metadata": {},
   "outputs": [],
   "source": [
    "%%time\n",
    "tp2 = tt2.to_pandas()"
   ]
  },
  {
   "cell_type": "code",
   "execution_count": null,
   "id": "45",
   "metadata": {},
   "outputs": [],
   "source": [
    "%%time\n",
    "tp.info(memory_usage=\"deep\")"
   ]
  },
  {
   "cell_type": "code",
   "execution_count": null,
   "id": "46",
   "metadata": {},
   "outputs": [],
   "source": [
    "reader = pa.open_stream(arrow_filename)\n",
    "table0 = pa.Table.from_batches([reader.read_next_batch()])\n",
    "imos = pa.BufferOutputStream()\n",
    "buffer = imos.getvalue()\n",
    "writer = pa.RecordBatchStreamWriter(buffer, table0)"
   ]
  },
  {
   "cell_type": "code",
   "execution_count": null,
   "id": "47",
   "metadata": {},
   "outputs": [],
   "source": [
    "def read_arrow(arrow_filename, columns, categorical_columns=None, batch_size=1000):\n",
    "    reader = pa.open_stream(arrow_filename)\n",
    "    table0 = pa.Table.from_batches([reader.read_next_batch()])\n",
    "    columns_to_drop = list(set(c.name for c in table0.columns) - set(columns))\n",
    "    table1 = table0.drop(columns_to_drop)\n",
    "    imos = pa.BufferOutputStream()\n",
    "    writer = pa.RecordBatchStreamWriter(imos, table1.schema)\n",
    "    t0 = time.time()\n",
    "    for i, batches in enumerate(util.grouper(reader, batch_size)):\n",
    "        if True:  # i % 100 == 0:\n",
    "            t = time.time()\n",
    "            dt = t - t0\n",
    "            t0 = t\n",
    "            print(\"batch\", i, \"time {:.2f}\".format(dt))\n",
    "        table = pa.Table.from_batches(batches).drop(columns_to_drop)\n",
    "        for i in range(table.num_columns):\n",
    "            if table.column(i).name == \"filename\":\n",
    "                table = table.set_column(i, table.column(i).dictionary_encode())\n",
    "        print(\"    rows per second\", len(table) / dt)\n",
    "        writer.write_table(table)\n",
    "    # with pq.ParquetWriter(parquet_filename, table0.schema) as writer:\n",
    "    #     writer.write_table(table0)\n",
    "    #    for batches in util.grouper(reader, batch_size):\n",
    "    #         table = pa.Table.from_batches(batches)\n",
    "    #         writer.write_table(table)\n",
    "    output_reader = pa.open_stream(imos.getvalue())\n",
    "    return output_reader"
   ]
  },
  {
   "cell_type": "code",
   "execution_count": null,
   "id": "48",
   "metadata": {},
   "outputs": [],
   "source": [
    "# arrow_filename = '/n/scratch2/jqs1/fidelity/all/output/analysis_full_stream11_2.subset1000.arrow'\n",
    "# arrow_filename = '/n/scratch2/jqs1/fidelity/all/output/analysis_full_stream11_2.subset15000.arrow'\n",
    "# arrow_filename = '/n/scratch2/jqs1/fidelity/all/output/analysis_full_stream11_2.subset15000.arrow'\n",
    "arrow_filename = \"/tmp/analysis_full_stream11_2.arrow\""
   ]
  },
  {
   "cell_type": "code",
   "execution_count": null,
   "id": "49",
   "metadata": {},
   "outputs": [],
   "source": [
    "%%time\n",
    "# cols = ['position', 'label', 'filename', 't', 'trench', 'trench_set', 'channel']\n",
    "# cols = [\"('YFP', 'labelwise', 'p0.9')\"]\n",
    "cols = [\n",
    "    \"filename\",\n",
    "    \"position\",\n",
    "    \"channel\",\n",
    "    \"t\",\n",
    "    \"trench_set\",\n",
    "    \"trench\",\n",
    "    \"label\",\n",
    "    \"('YFP', 'labelwise', 'p0.9')\",\n",
    "    \"('MCHERRY', 'labelwise', 'p0.9')\",\n",
    "    \"('YFP', 'regionprops', 'area')\",\n",
    "]\n",
    "b = read_arrow(arrow_filename, cols)"
   ]
  },
  {
   "cell_type": "code",
   "execution_count": null,
   "id": "50",
   "metadata": {},
   "outputs": [],
   "source": [
    "%time table = b.read_all()"
   ]
  },
  {
   "cell_type": "code",
   "execution_count": null,
   "id": "51",
   "metadata": {},
   "outputs": [],
   "source": [
    "len(table)"
   ]
  },
  {
   "cell_type": "code",
   "execution_count": null,
   "id": "52",
   "metadata": {},
   "outputs": [],
   "source": [
    "table2 = table.set_column(3, table.column(3).dictionary_encode())"
   ]
  }
 ],
 "metadata": {
  "kernelspec": {
   "display_name": "Python 3",
   "language": "python",
   "name": "python3"
  },
  "language_info": {
   "codemirror_mode": {
    "name": "ipython",
    "version": 3
   },
   "file_extension": ".py",
   "mimetype": "text/x-python",
   "name": "python",
   "nbconvert_exporter": "python",
   "pygments_lexer": "ipython3",
   "version": "3.7.0"
  }
 },
 "nbformat": 4,
 "nbformat_minor": 2
}
