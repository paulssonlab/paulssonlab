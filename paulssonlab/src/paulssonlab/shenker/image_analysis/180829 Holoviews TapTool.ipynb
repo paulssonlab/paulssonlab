{
 "cells": [
  {
   "cell_type": "code",
   "execution_count": null,
   "id": "0",
   "metadata": {},
   "outputs": [],
   "source": [
    "import holoviews as hv\n",
    "import numpy as np\n",
    "\n",
    "hv.extension(\"bokeh\")"
   ]
  },
  {
   "cell_type": "code",
   "execution_count": null,
   "id": "1",
   "metadata": {},
   "outputs": [],
   "source": [
    "z = []\n",
    "# p = hv.Scatter(np.random.random(10)).options(size=10,tools=['tap','hover'])\n",
    "p1 = hv.Scatter(np.random.random(10))\n",
    "p2 = hv.Scatter(np.random.random(10))\n",
    "p = hv.Overlay.from_values([p1, p2]).options(\"Scatter\", size=10, tools=[\"tap\", \"hover\"])\n",
    "sel = hv.streams.Selection1D(source=p)\n",
    "sel.add_subscriber(lambda index: z.append(index))\n",
    "p"
   ]
  },
  {
   "cell_type": "code",
   "execution_count": null,
   "id": "2",
   "metadata": {},
   "outputs": [],
   "source": [
    "z"
   ]
  },
  {
   "cell_type": "code",
   "execution_count": null,
   "id": "3",
   "metadata": {},
   "outputs": [],
   "source": [
    "?hv.Scatter"
   ]
  }
 ],
 "metadata": {
  "kernelspec": {
   "display_name": "Python 3",
   "language": "python",
   "name": "python3"
  },
  "language_info": {
   "codemirror_mode": {
    "name": "ipython",
    "version": 3
   },
   "file_extension": ".py",
   "mimetype": "text/x-python",
   "name": "python",
   "nbconvert_exporter": "python",
   "pygments_lexer": "ipython3",
   "version": "3.7.0"
  }
 },
 "nbformat": 4,
 "nbformat_minor": 2
}
