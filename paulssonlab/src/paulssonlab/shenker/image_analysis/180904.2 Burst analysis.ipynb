{
 "cells": [
  {
   "cell_type": "markdown",
   "id": "0",
   "metadata": {},
   "source": [
    "# Imports"
   ]
  },
  {
   "cell_type": "code",
   "execution_count": null,
   "id": "1",
   "metadata": {},
   "outputs": [],
   "source": [
    "import asyncio\n",
    "import traceback\n",
    "import warnings\n",
    "from collections import defaultdict, namedtuple\n",
    "from collections.abc import Mapping, Sequence\n",
    "from functools import partial\n",
    "from glob import glob\n",
    "from importlib import reload\n",
    "from numbers import Number\n",
    "from operator import getitem\n",
    "\n",
    "import cachetools\n",
    "import dask\n",
    "import distributed\n",
    "import holoviews as hv\n",
    "import hvplot.pandas\n",
    "import ipywidgets as widgets\n",
    "import matplotlib.pyplot as plt\n",
    "import nd2reader\n",
    "import numpy as np\n",
    "import pandas as pd\n",
    "import param\n",
    "import parambokeh\n",
    "import pyarrow as pa\n",
    "import pyarrow.feather as feather\n",
    "import pyarrow.parquet as pq\n",
    "import qgrid\n",
    "import scipy\n",
    "import skimage.morphology\n",
    "import streamz\n",
    "import streamz.dataframe as sdf\n",
    "import zarr\n",
    "from bokeh.models.tools import HoverTool, TapTool\n",
    "from cytoolz import *\n",
    "from dask import delayed\n",
    "from dask_jobqueue import SLURMCluster\n",
    "from distributed import Client, LocalCluster, progress\n",
    "from holoviews.operation.datashader import regrid\n",
    "from holoviews.streams import Selection1D, Stream, param\n",
    "from tqdm import tnrange, tqdm, tqdm_notebook\n",
    "from traitlets import All\n",
    "\n",
    "IDX = pd.IndexSlice"
   ]
  },
  {
   "cell_type": "code",
   "execution_count": null,
   "id": "2",
   "metadata": {},
   "outputs": [],
   "source": [
    "%load_ext autoreload\n",
    "%autoreload 2"
   ]
  },
  {
   "cell_type": "code",
   "execution_count": null,
   "id": "3",
   "metadata": {},
   "outputs": [],
   "source": [
    "# from processing import *\n",
    "# from trench_detection import *\n",
    "# from trench_segmentation import *\n",
    "# from trench_segmentation.watershed import *\n",
    "# from util import *\n",
    "# from ui import *\n",
    "import common\n",
    "import data_io\n",
    "import diagnostics\n",
    "import geometry\n",
    "import image\n",
    "import metadata\n",
    "import trench_detection\n",
    "import trench_detection.core\n",
    "import trench_detection.hough\n",
    "import trench_segmentation.watershed\n",
    "import ui\n",
    "import util\n",
    "import workflow"
   ]
  },
  {
   "cell_type": "code",
   "execution_count": null,
   "id": "4",
   "metadata": {},
   "outputs": [],
   "source": [
    "%load_ext line_profiler\n",
    "hv.extension(\"bokeh\")\n",
    "%matplotlib inline\n",
    "tqdm.monitor_interval = 0\n",
    "asyncio.get_event_loop().set_debug(True)\n",
    "import logging\n",
    "\n",
    "logging.basicConfig(level=logging.DEBUG)"
   ]
  },
  {
   "cell_type": "markdown",
   "id": "5",
   "metadata": {},
   "source": [
    "# Restore data"
   ]
  },
  {
   "cell_type": "code",
   "execution_count": null,
   "id": "6",
   "metadata": {},
   "outputs": [],
   "source": [
    "%store -r trench_points\n",
    "%store -r trench_diag\n",
    "%store -r trench_bboxes\n",
    "trench_bboxes_t0 = util.get_one(trench_bboxes.groupby(\"t\"))[1]"
   ]
  },
  {
   "cell_type": "markdown",
   "id": "7",
   "metadata": {},
   "source": [
    "# Config"
   ]
  },
  {
   "cell_type": "code",
   "execution_count": null,
   "id": "8",
   "metadata": {},
   "outputs": [],
   "source": [
    "client = Client(ip=\"0.0.0.0\", n_workers=1, threads_per_worker=1, processes=False)"
   ]
  },
  {
   "cell_type": "code",
   "execution_count": null,
   "id": "9",
   "metadata": {},
   "outputs": [],
   "source": [
    "dask.config.config[\"distributed\"]"
   ]
  },
  {
   "cell_type": "code",
   "execution_count": null,
   "id": "10",
   "metadata": {},
   "outputs": [],
   "source": [
    "dask.config.config[\"distributed\"][\"worker\"][\"profile\"] = {\n",
    "    \"interval\": \"10s\",\n",
    "    \"cycle\": \"10s\",\n",
    "}\n",
    "# {'interval': '10ms', 'cycle': '1000ms'}"
   ]
  },
  {
   "cell_type": "code",
   "execution_count": null,
   "id": "11",
   "metadata": {},
   "outputs": [],
   "source": [
    "cluster = SLURMCluster(\n",
    "    queue=\"short\",\n",
    "    walltime=\"09:00:00\",\n",
    "    # job_extra=['-p transfer'],\n",
    "    # job_extra=['--cores-per-socket=8'],\n",
    "    # job_extra=['--exclude=compute-e-16-181,compute-e-16-186'],\n",
    "    # interface='ib0',\n",
    "    memory=\"1GB\",\n",
    "    local_directory=\"/tmp\",\n",
    "    cores=1,\n",
    "    processes=1,\n",
    "    # diagnostics_port=('127.0.0.1', 8787),\n",
    "    env_extra=[\n",
    "        'export PYTHONPATH=\"/home/jqs1/projects/matriarch\"',\n",
    "        #'export PYTHONTRACEMALLOC=25',\n",
    "        #'export MALLOC_CONF=prof:true,prof_leak:true,lg_prof_interval:31,prof_final:true',\n",
    "        'export LD_PRELOAD=\"/home/jqs1/lib/libjemalloc.so.2\"',\n",
    "    ],\n",
    ")\n",
    "client = Client(cluster)  # , direct_to_workers=True)"
   ]
  },
  {
   "cell_type": "code",
   "execution_count": null,
   "id": "12",
   "metadata": {},
   "outputs": [],
   "source": [
    "cluster.scale(400)"
   ]
  },
  {
   "cell_type": "code",
   "execution_count": null,
   "id": "13",
   "metadata": {},
   "outputs": [],
   "source": [
    "cluster._widget().children[1].children[1].children[0].children[0].layout.width = \"200px\"\n",
    "cluster"
   ]
  },
  {
   "cell_type": "code",
   "execution_count": null,
   "id": "14",
   "metadata": {},
   "outputs": [],
   "source": [
    "# cluster = LocalCluster(n_workers=1)\n",
    "# client = Client(cluster)"
   ]
  },
  {
   "cell_type": "code",
   "execution_count": null,
   "id": "15",
   "metadata": {},
   "outputs": [],
   "source": [
    "# cluster.adapt(minimum=10,maximum=200)"
   ]
  },
  {
   "cell_type": "code",
   "execution_count": null,
   "id": "16",
   "metadata": {},
   "outputs": [],
   "source": [
    "cluster.stop_jobs(cluster.running_jobs.keys())"
   ]
  },
  {
   "cell_type": "code",
   "execution_count": null,
   "id": "17",
   "metadata": {},
   "outputs": [],
   "source": [
    "cluster.scheduler.stop_services()\n",
    "cluster.scheduler.stop()"
   ]
  },
  {
   "cell_type": "code",
   "execution_count": null,
   "id": "18",
   "metadata": {},
   "outputs": [],
   "source": [
    "client.restart()"
   ]
  },
  {
   "cell_type": "code",
   "execution_count": null,
   "id": "19",
   "metadata": {},
   "outputs": [],
   "source": [
    "del cluster"
   ]
  },
  {
   "cell_type": "code",
   "execution_count": null,
   "id": "20",
   "metadata": {},
   "outputs": [],
   "source": [
    "# client = Client()"
   ]
  },
  {
   "cell_type": "code",
   "execution_count": null,
   "id": "21",
   "metadata": {},
   "outputs": [],
   "source": [
    "reload(distributed)\n",
    "from distributed import Client"
   ]
  },
  {
   "cell_type": "code",
   "execution_count": null,
   "id": "22",
   "metadata": {},
   "outputs": [],
   "source": [
    "client = Client(ip=\"0.0.0.0\", n_workers=1, threads_per_worker=1, processes=False)"
   ]
  },
  {
   "cell_type": "code",
   "execution_count": null,
   "id": "23",
   "metadata": {},
   "outputs": [],
   "source": [
    "client = Client(cluster)"
   ]
  },
  {
   "cell_type": "markdown",
   "id": "24",
   "metadata": {},
   "source": [
    "# Loading data"
   ]
  },
  {
   "cell_type": "code",
   "execution_count": null,
   "id": "25",
   "metadata": {},
   "outputs": [],
   "source": [
    "# nd2_filenames = ['/n/scratch2/jqs1/fidelity/all/180405_txnerr.nd2', '/n/scratch2/jqs1/fidelity/all/180405_txnerr001.nd2']\n",
    "# nd2_filenames = ['/n/scratch2/jqs1/fidelity/all/180405_txnerr002.nd2']#, '/n/scratch2/jqs1/fidelity/all/TrErr002_Exp.nd2']\n",
    "# nd2_filenames = ['/n/scratch2/jqs1/fidelity/all/TrErr002_Exp.nd2']\n",
    "# nd2_filenames = ['/n/scratch2/jqs1/fidelity/all/180405_txnerr.nd2', '/n/scratch2/jqs1/fidelity/all/180405_txnerr001.nd2',\n",
    "#                 '/n/scratch2/jqs1/fidelity/all/180405_txnerr002.nd2', '/n/scratch2/jqs1/fidelity/all/TrErr002_Exp.nd2']\n",
    "# nd2_filenames = ['/home/jqs1/scratch/fidelity/180518_triplegrowthcurve/PHASE_GC001.nd2', '/home/jqs1/scratch/fidelity/180518_triplegrowthcurve/PHASE_GC002.nd2']\n",
    "nd2_filenames = glob(\"/n/scratch2/jqs1/fidelity/all/180405_*.nd2\") + glob(\n",
    "    \"/n/scratch2/jqs1/fidelity/all/TrErr*.nd2\"\n",
    ")"
   ]
  },
  {
   "cell_type": "code",
   "execution_count": null,
   "id": "26",
   "metadata": {},
   "outputs": [],
   "source": [
    "all_frames, metadata, parsed_metadata = workflow.get_nd2_frame_list(nd2_filenames)\n",
    "image_limits = workflow.get_filename_image_limits(metadata)"
   ]
  },
  {
   "cell_type": "markdown",
   "id": "27",
   "metadata": {},
   "source": [
    "# Reload"
   ]
  },
  {
   "cell_type": "code",
   "execution_count": null,
   "id": "28",
   "metadata": {},
   "outputs": [],
   "source": [
    "def _check():\n",
    "    import os\n",
    "\n",
    "    return os.path.exists(\n",
    "        \"/n/scratch2/jqs1/fidelity/all/180405_txnerr_loweronly_fast.nd2\"\n",
    "    )\n",
    "\n",
    "\n",
    "[k for k, v in client.run(_check).items() if v is False]"
   ]
  },
  {
   "cell_type": "code",
   "execution_count": null,
   "id": "29",
   "metadata": {},
   "outputs": [],
   "source": [
    "def do_reload():\n",
    "    from importlib import reload\n",
    "\n",
    "    import diagnostics\n",
    "    import image\n",
    "    import trench_detection\n",
    "    import util\n",
    "    import workflow\n",
    "\n",
    "    # reload(util)\n",
    "    # reload(trench_detection.hough)\n",
    "    # reload(diagnostics)\n",
    "    reload(workflow)\n",
    "    # reload(image)\n",
    "\n",
    "\n",
    "client.run(do_reload)\n",
    "do_reload()"
   ]
  },
  {
   "cell_type": "markdown",
   "id": "30",
   "metadata": {},
   "source": [
    "# Finding trenches"
   ]
  },
  {
   "cell_type": "code",
   "execution_count": null,
   "id": "31",
   "metadata": {},
   "outputs": [],
   "source": [
    "frames_to_process = all_frames.loc[IDX[:, :, [\"MCHERRY\"], 0], :]"
   ]
  },
  {
   "cell_type": "code",
   "execution_count": null,
   "id": "32",
   "metadata": {},
   "outputs": [],
   "source": [
    "len(frames_to_process)"
   ]
  },
  {
   "cell_type": "markdown",
   "id": "33",
   "metadata": {},
   "source": [
    "## Run trench finding"
   ]
  },
  {
   "cell_type": "code",
   "execution_count": null,
   "id": "34",
   "metadata": {},
   "outputs": [],
   "source": [
    "%%time\n",
    "find_trenches_diag = diagnostics.wrap_diagnostics(\n",
    "    trench_detection.hough.find_trenches, ignore_exceptions=True, pandas=True\n",
    ")\n",
    "trench_info_futures = {\n",
    "    idx: client.submit(\n",
    "        find_trenches_diag, client.submit(workflow.get_nd2_frame, **idx._asdict())\n",
    "    )\n",
    "    for idx, row in util.iter_index(frames_to_process)\n",
    "}"
   ]
  },
  {
   "cell_type": "code",
   "execution_count": null,
   "id": "35",
   "metadata": {},
   "outputs": [],
   "source": [
    "progress(trench_info_futures)"
   ]
  },
  {
   "cell_type": "code",
   "execution_count": null,
   "id": "36",
   "metadata": {},
   "outputs": [],
   "source": [
    "client.cancel(trench_info_futures)"
   ]
  },
  {
   "cell_type": "code",
   "execution_count": null,
   "id": "37",
   "metadata": {},
   "outputs": [],
   "source": [
    "def as_completed(obj, with_results=True):\n",
    "    if isinstance(obj, Mapping):\n",
    "        futures = obj.values()\n",
    "        dask_to_keys = {future.key: k for k, future in obj.items()}\n",
    "    else:\n",
    "        raise NotImplementedError\n",
    "    for res in distributed.as_completed(futures, with_results=with_results):\n",
    "        if with_results:\n",
    "            future, result = res\n",
    "            yield dask_to_keys[future.key], future, result\n",
    "        else:\n",
    "            future = res\n",
    "            yield dask_to_keys[future.key], future"
   ]
  },
  {
   "cell_type": "code",
   "execution_count": null,
   "id": "38",
   "metadata": {},
   "outputs": [],
   "source": [
    "trench_info = {}\n",
    "for key, fut, res in as_completed(trench_info_futures):\n",
    "    trench_info[key] = res\n",
    "    client.cancel(fut)"
   ]
  },
  {
   "cell_type": "code",
   "execution_count": null,
   "id": "39",
   "metadata": {},
   "outputs": [],
   "source": [
    "%%time\n",
    "trench_info = util.apply_map_futures(\n",
    "    client.gather, trench_info_futures, predicate=lambda x: x.status == \"finished\"\n",
    ")"
   ]
  },
  {
   "cell_type": "code",
   "execution_count": null,
   "id": "40",
   "metadata": {},
   "outputs": [],
   "source": [
    "%%time\n",
    "trench_points, trench_diag, trench_err = workflow.unzip_trench_info(trench_info)"
   ]
  },
  {
   "cell_type": "code",
   "execution_count": null,
   "id": "41",
   "metadata": {},
   "outputs": [],
   "source": [
    "len(trench_points)"
   ]
  },
  {
   "cell_type": "code",
   "execution_count": null,
   "id": "42",
   "metadata": {},
   "outputs": [],
   "source": [
    "%%time\n",
    "%store trench_points\n",
    "%store trench_diag"
   ]
  },
  {
   "cell_type": "markdown",
   "id": "43",
   "metadata": {},
   "source": [
    "## Analysis"
   ]
  },
  {
   "cell_type": "code",
   "execution_count": null,
   "id": "44",
   "metadata": {},
   "outputs": [],
   "source": [
    "bad_angle = trench_diag[\"find_trench_lines.hough_2.angle\"].abs() > 2\n",
    "bad_angle.sum()"
   ]
  },
  {
   "cell_type": "code",
   "execution_count": null,
   "id": "45",
   "metadata": {},
   "outputs": [],
   "source": [
    "bad_pitch = (trench_diag[\"find_trench_lines.hough_2.peak_func.pitch\"] - 24).abs() > 1\n",
    "bad_pitch.sum()"
   ]
  },
  {
   "cell_type": "code",
   "execution_count": null,
   "id": "46",
   "metadata": {},
   "outputs": [],
   "source": [
    "selected = trench_diag[bad_pitch]  # trench_diag[bad_angle | bad_period]"
   ]
  },
  {
   "cell_type": "code",
   "execution_count": null,
   "id": "47",
   "metadata": {},
   "outputs": [],
   "source": [
    "frame_stream.event(_df=selected.index.to_frame(index=False))"
   ]
  },
  {
   "cell_type": "code",
   "execution_count": null,
   "id": "48",
   "metadata": {},
   "outputs": [],
   "source": [
    "%%time\n",
    "trench_points_good = trench_points[~util.multi_join(trench_points.index, bad_pitch)]"
   ]
  },
  {
   "cell_type": "code",
   "execution_count": null,
   "id": "49",
   "metadata": {},
   "outputs": [],
   "source": [
    "(len(trench_points_good), len(trench_points_good) / len(trench_points))"
   ]
  },
  {
   "cell_type": "code",
   "execution_count": null,
   "id": "50",
   "metadata": {},
   "outputs": [],
   "source": [
    "%%time\n",
    "trench_bbox_futures = []\n",
    "for _, trenches in trench_points_good.groupby([\"filename\", \"position\", \"t\"]):\n",
    "    trench_bbox_futures.append(\n",
    "        client.submit(workflow.get_trench_bboxes, trenches, image_limits)\n",
    "    )"
   ]
  },
  {
   "cell_type": "code",
   "execution_count": null,
   "id": "51",
   "metadata": {},
   "outputs": [],
   "source": [
    "%%time\n",
    "trench_bbox_results = util.apply_map_futures(\n",
    "    client.gather, trench_bbox_futures, predicate=lambda x: x.status == \"finished\"\n",
    ")\n",
    "trench_bboxes = pd.concat(\n",
    "    [trench_points_good, pd.concat(trench_bbox_results, axis=0)], axis=1\n",
    ")"
   ]
  },
  {
   "cell_type": "code",
   "execution_count": null,
   "id": "52",
   "metadata": {},
   "outputs": [],
   "source": [
    "%%time\n",
    "%store trench_bboxes"
   ]
  },
  {
   "cell_type": "code",
   "execution_count": null,
   "id": "53",
   "metadata": {},
   "outputs": [],
   "source": [
    "%store -r trench_bboxes"
   ]
  },
  {
   "cell_type": "code",
   "execution_count": null,
   "id": "54",
   "metadata": {},
   "outputs": [],
   "source": [
    "trench_bboxes_t0 = util.get_one(trench_bboxes.groupby(\"t\"))[1]\n",
    "# trench_bboxes_t0.index = trench_points_good_t0.index.droplevel('t')"
   ]
  },
  {
   "cell_type": "markdown",
   "id": "55",
   "metadata": {},
   "source": [
    "# Trench finding QA"
   ]
  },
  {
   "cell_type": "code",
   "execution_count": null,
   "id": "56",
   "metadata": {},
   "outputs": [],
   "source": [
    "selected = all_frames"
   ]
  },
  {
   "cell_type": "code",
   "execution_count": null,
   "id": "57",
   "metadata": {},
   "outputs": [],
   "source": [
    "FrameStream = ui.DataFrameStream.define(\n",
    "    \"FrameStream\", selected.index.to_frame(index=False)\n",
    ")\n",
    "frame_stream = FrameStream()\n",
    "\n",
    "box = ui.dataframe_browser(frame_stream)\n",
    "frame_stream.event()\n",
    "box"
   ]
  },
  {
   "cell_type": "code",
   "execution_count": null,
   "id": "58",
   "metadata": {},
   "outputs": [],
   "source": [
    "ui.image_viewer(frame_stream)"
   ]
  },
  {
   "cell_type": "code",
   "execution_count": null,
   "id": "59",
   "metadata": {},
   "outputs": [],
   "source": [
    "ui.show_frame_info(trench_diag, frame_stream)"
   ]
  },
  {
   "cell_type": "code",
   "execution_count": null,
   "id": "60",
   "metadata": {},
   "outputs": [],
   "source": [
    "g = ui.show_grid(selected, stream=frame_stream)\n",
    "g"
   ]
  },
  {
   "cell_type": "code",
   "execution_count": null,
   "id": "61",
   "metadata": {},
   "outputs": [],
   "source": [
    "frame = workflow.get_nd2_frame_anyargs(**dict(frame_stream.get_param_values()))"
   ]
  },
  {
   "cell_type": "code",
   "execution_count": null,
   "id": "62",
   "metadata": {},
   "outputs": [],
   "source": [
    "tp, diag, _ = diagnostics.wrap_diagnostics(\n",
    "    trench_detection.hough.find_trenches, ignore_exceptions=False\n",
    ")(frame)"
   ]
  },
  {
   "cell_type": "code",
   "execution_count": null,
   "id": "63",
   "metadata": {},
   "outputs": [],
   "source": [
    "ui.show_plot_browser(diag)"
   ]
  },
  {
   "cell_type": "markdown",
   "id": "64",
   "metadata": {},
   "source": [
    "# Segmentation"
   ]
  },
  {
   "cell_type": "code",
   "execution_count": null,
   "id": "65",
   "metadata": {},
   "outputs": [],
   "source": [
    "selected_trenches_segmentation = trench_bboxes_t0[\n",
    "    trench_bboxes_t0[(\"info\", \"hough_value\")] > 90\n",
    "].loc[IDX[:, :, [\"MCHERRY\"], 0, :, :], :]"
   ]
  },
  {
   "cell_type": "code",
   "execution_count": null,
   "id": "66",
   "metadata": {},
   "outputs": [],
   "source": [
    "(len(trench_bboxes_t0), len(selected_trenches_segmentation) / len(trench_bboxes_t0))"
   ]
  },
  {
   "cell_type": "code",
   "execution_count": null,
   "id": "67",
   "metadata": {},
   "outputs": [],
   "source": [
    "# frames_to_analyze = all_frames.loc[IDX[:,:1,['MCHERRY','YFP'],1:5],:]\n",
    "frames_to_analyze = all_frames.loc[IDX[:, :, [\"MCHERRY\", \"YFP\"], :], :]"
   ]
  },
  {
   "cell_type": "code",
   "execution_count": null,
   "id": "68",
   "metadata": {},
   "outputs": [],
   "source": [
    "(\n",
    "    len(frames_to_analyze),\n",
    "    len(all_frames.loc[IDX[:, :, [\"MCHERRY\", \"YFP\"], :], :]) / len(frames_to_analyze),\n",
    ")"
   ]
  },
  {
   "cell_type": "code",
   "execution_count": null,
   "id": "69",
   "metadata": {},
   "outputs": [],
   "source": [
    "labelwise_funcs = {\n",
    "    \"mean\": np.mean,\n",
    "    \"min\": np.min,\n",
    "    \"max\": np.max,\n",
    "    (\"p0.3\", \"p0.5\", \"p0.7\", \"p0.9\", \"p0.95\"): partial(\n",
    "        np.percentile, q=(30, 50, 70, 90, 95)\n",
    "    ),\n",
    "}\n",
    "trenchwise_funcs = {\"sharpness\": image.sharpness, **labelwise_funcs}\n",
    "framewise_funcs = {\"sharpness\": image.sharpness, **labelwise_funcs}\n",
    "\n",
    "analyze_trench_func = partial(\n",
    "    workflow.analyze_trenches,\n",
    "    framewise_funcs=framewise_funcs,\n",
    "    trenchwise_funcs=trenchwise_funcs,\n",
    "    labelwise_funcs=labelwise_funcs,\n",
    "    regionprops=True,\n",
    "    segment_func=trench_segmentation.watershed.segment_trench,\n",
    ")\n",
    "analyze_trench_func = compose(\n",
    "    list, partial(map, pa.RecordBatch.from_pandas), analyze_trench_func\n",
    ")\n",
    "\n",
    "# analyze_trench_func = compose(lambda x: None, analyze_trench_func)\n",
    "\n",
    "analyze_trench_func = partial(client.submit, analyze_trench_func, retries=2)\n",
    "\n",
    "analysis_futures_iter = workflow.analyze_frames_and_trenches_iter(\n",
    "    selected_trenches_segmentation, frames_to_analyze, analyze_trench_func\n",
    ")\n",
    "\n",
    "# analysis_futures = workflow.analyze_frames_and_trenches(selected_trenches_segmentation,\n",
    "#                                            frames_to_analyze,\n",
    "#                                            analyze_trench_func)\n",
    "\n",
    "# display(trenchwise_df)"
   ]
  },
  {
   "cell_type": "markdown",
   "id": "70",
   "metadata": {},
   "source": [
    "## Streaming gather"
   ]
  },
  {
   "cell_type": "code",
   "execution_count": null,
   "id": "71",
   "metadata": {},
   "outputs": [],
   "source": [
    "%%time\n",
    "ac = distributed.as_completed([], with_results=False, loop=client.loop)\n",
    "\n",
    "new_futures_stream = streamz.Stream()\n",
    "finished_futures_stream = streamz.Stream(asynchronous=True, loop=client.loop)\n",
    "\n",
    "stream_sinks = {}\n",
    "stream_writers = {}\n",
    "output_filename = \"/n/scratch2/jqs1/fidelity/all/output/analysis_full_stream11_{}.arrow\"\n",
    "\n",
    "new_futures_stream.sink(lambda x: ac.add(x))\n",
    "\n",
    "errored_futures = set()\n",
    "finished_futures_stream.filter(lambda x: x.status == \"error\").sink(\n",
    "    lambda x: errored_futures.add(x)\n",
    ")\n",
    "\n",
    "\n",
    "def timeout_func(futures):\n",
    "    ac.update(futures)\n",
    "\n",
    "\n",
    "successful_futures_stream = finished_futures_stream.filter(\n",
    "    lambda x: x.status == \"finished\"\n",
    ")\n",
    "# batched_futures_stream = successful_futures_stream.rate_limit(0.0004).timed_window(1)\n",
    "# gathered_futures_stream = streamz.buffer(batched_futures_stream, 10).gather_and_cancel(client=client, cancel=True)\n",
    "# batched_futures_stream = successful_futures_stream.timed_window(1)\n",
    "batched_futures_stream = successful_futures_stream.rate_limit(0.01).timed_window(5)\n",
    "buffered_futures_stream = (\n",
    "    batched_futures_stream  # streamz.buffer(batched_futures_stream, 10)\n",
    ")\n",
    "\n",
    "cancelled_futures = set()\n",
    "gathered_futures_stream = buffered_futures_stream.gather_and_cancel(\n",
    "    client=client,\n",
    "    gather=True,\n",
    "    cancel=True,\n",
    "    timeout=4,\n",
    "    timeout_func=timeout_func,\n",
    "    success_func=cancelled_futures.update,\n",
    ")\n",
    "# gathered_futures_stream.flatten().sink(partial(workflow.sink_to_arrow, sinks=stream_sinks, writers=stream_writers, output_func=lambda i: pa.OSFile(output_filename.format(i), 'w')))\n",
    "write_failures = []\n",
    "flattened_futures_stream = gathered_futures_stream.flatten()\n",
    "writer_stream = (\n",
    "    flattened_futures_stream  # .timed_window(10).map(lambda x: list(zip(*x)))\n",
    ")\n",
    "sink_func = partial(\n",
    "    workflow.sink_to_arrow,\n",
    "    sinks=stream_sinks,\n",
    "    writers=stream_writers,\n",
    "    output_func=lambda i: pa.OSFile(output_filename.format(i), \"w\"),\n",
    ")\n",
    "# sink_func = partial(client.loop.run_in_executor, None, sink_func)\n",
    "# writer_stream.with_timeout(timeout=3, retries=2, failure_func=write_failures.append).sink(sink_func)\n",
    "writer_stream.sink(sink_func)\n",
    "# stored_data = writer_stream.sink_to_list()\n",
    "\n",
    "# finished_futures_stream.sink(excepts(StopIteration, lambda x: new_futures_stream.emit(next(analysis_futures_iter)) if should_add_task()))\n",
    "# new_futures_stream.sink_to_list()\n",
    "all_futures = set()\n",
    "finished_futures = set()\n",
    "new_futures_stream.sink(lambda x: all_futures.add(x))\n",
    "successful_futures_stream.sink(lambda x: finished_futures.add(x))\n",
    "\n",
    "TASK_BUFFER_SIZE = 10000\n",
    "\n",
    "# def should_add_task():\n",
    "#     #return len([f for f in all_futures if f.status == 'pending'])\n",
    "#     #return TASK_BUFFER_SIZE > len(all_futures - finished_futures)\n",
    "#     return TASK_BUFFER_SIZE > len(all_futures - cancelled_futures)\n",
    "#     #print('>',len(all_futures - finished_futures))\n",
    "#     #return True\n",
    "\n",
    "# def readd_task(x):\n",
    "#     if should_add_task():\n",
    "#         return new_futures_stream.emit(next(analysis_futures_iter))\n",
    "\n",
    "\n",
    "def readd_task(x):\n",
    "    num_tasks_needed = TASK_BUFFER_SIZE - len(\n",
    "        all_futures - cancelled_futures - errored_futures\n",
    "    )\n",
    "    if num_tasks_needed > 0:\n",
    "        for future in take(num_tasks_needed, analysis_futures_iter):\n",
    "            new_futures_stream.emit(future)\n",
    "\n",
    "\n",
    "finished_futures_stream.sink(excepts(StopIteration, readd_task))\n",
    "\n",
    "# ac.update(take(3000, analysis_futures_iter))\n",
    "for future in take(TASK_BUFFER_SIZE, analysis_futures_iter):\n",
    "    new_futures_stream.emit(future)\n",
    "\n",
    "gather_func = workflow.gather_stream(finished_futures_stream, ac)\n",
    "gather_task = client.loop.asyncio_loop.create_task(gather_func)"
   ]
  },
  {
   "cell_type": "code",
   "execution_count": null,
   "id": "72",
   "metadata": {},
   "outputs": [],
   "source": [
    "ac.count()"
   ]
  },
  {
   "cell_type": "code",
   "execution_count": null,
   "id": "73",
   "metadata": {},
   "outputs": [],
   "source": [
    "gather_task"
   ]
  },
  {
   "cell_type": "code",
   "execution_count": null,
   "id": "74",
   "metadata": {},
   "outputs": [],
   "source": [
    "for future in take(5000, analysis_futures_iter):\n",
    "    new_futures_stream.emit(future)\n",
    "gather_func = workflow.gather_stream(finished_futures_stream, ac)\n",
    "gather_task = client.loop.asyncio_loop.create_task(gather_func)"
   ]
  },
  {
   "cell_type": "code",
   "execution_count": null,
   "id": "75",
   "metadata": {},
   "outputs": [],
   "source": [
    "gather_task.cancel()\n",
    "client.cancel(all_futures)"
   ]
  },
  {
   "cell_type": "code",
   "execution_count": null,
   "id": "76",
   "metadata": {},
   "outputs": [],
   "source": [
    "cluster.scale(200)"
   ]
  },
  {
   "cell_type": "code",
   "execution_count": null,
   "id": "77",
   "metadata": {},
   "outputs": [],
   "source": [
    "len(all_futures)"
   ]
  },
  {
   "cell_type": "code",
   "execution_count": null,
   "id": "78",
   "metadata": {},
   "outputs": [],
   "source": [
    "errored_futures[-1].result()"
   ]
  },
  {
   "cell_type": "code",
   "execution_count": null,
   "id": "79",
   "metadata": {},
   "outputs": [],
   "source": [
    "%%time\n",
    "pa.open_stream(stream_sinks[2].r()).read_pandas()"
   ]
  },
  {
   "cell_type": "code",
   "execution_count": null,
   "id": "80",
   "metadata": {},
   "outputs": [],
   "source": [
    "util.apply_map_futures(\n",
    "    client.gather, analysis_futures, predicate=lambda x: x.status == \"error\"\n",
    ")"
   ]
  },
  {
   "cell_type": "markdown",
   "id": "81",
   "metadata": {},
   "source": [
    "# Analysis"
   ]
  },
  {
   "cell_type": "markdown",
   "id": "82",
   "metadata": {},
   "source": [
    "## Load data"
   ]
  },
  {
   "cell_type": "code",
   "execution_count": null,
   "id": "83",
   "metadata": {},
   "outputs": [],
   "source": [
    "%%time\n",
    "framewise_df = data_io.read_parquet(\n",
    "    \"/n/scratch2/jqs1/fidelity/all/output/analysis_full_stream11_0.parquet4\"\n",
    ").to_pandas()"
   ]
  },
  {
   "cell_type": "code",
   "execution_count": null,
   "id": "84",
   "metadata": {},
   "outputs": [],
   "source": [
    "%%time\n",
    "trenchwise_df = data_io.read_parquet(\n",
    "    \"/n/scratch2/jqs1/fidelity/all/output/analysis_full_stream11_1.parquet4\"\n",
    ").to_pandas()"
   ]
  },
  {
   "cell_type": "code",
   "execution_count": null,
   "id": "85",
   "metadata": {},
   "outputs": [],
   "source": [
    "trenchwise_df.columns = [\"/\".join(col).strip() for col in trenchwise_df.columns.values]"
   ]
  },
  {
   "cell_type": "code",
   "execution_count": null,
   "id": "86",
   "metadata": {},
   "outputs": [],
   "source": [
    "cols = [\n",
    "    \"filename\",\n",
    "    \"position\",\n",
    "    \"channel\",\n",
    "    \"t\",\n",
    "    \"trench_set\",\n",
    "    \"trench\",\n",
    "    \"label\",\n",
    "    \"('YFP', 'labelwise', 'p0.9')\",\n",
    "    \"('MCHERRY', 'labelwise', 'p0.9')\",\n",
    "    \"('YFP', 'regionprops', 'area')\",\n",
    "]"
   ]
  },
  {
   "cell_type": "code",
   "execution_count": null,
   "id": "87",
   "metadata": {},
   "outputs": [],
   "source": [
    "%%time\n",
    "labelwise_df = data_io.read_parquet(\n",
    "    \"/n/scratch2/jqs1/fidelity/all/output/analysis_full_stream11_2.sorted3.parquet4\",\n",
    "    columns=cols,\n",
    ").to_pandas()"
   ]
  },
  {
   "cell_type": "code",
   "execution_count": null,
   "id": "88",
   "metadata": {},
   "outputs": [],
   "source": [
    "# TODO: otherwise computing is_unique is costly when we want to get_loc with full key\n",
    "labelwise_df.index.__dict__[\"_cache\"] = {\"lexsort_depth\": 6, \"is_unique\": True}\n",
    "# labelwise_df.index.lexsort_depth # prime the cache\n",
    "# if '_cache' not in labelwise_df.index.__dict__:\n",
    "#     labelwise_df.index.__dict__['_cache'] = {}\n",
    "# labelwise_df.index._cache['is_unique'] = True"
   ]
  },
  {
   "cell_type": "code",
   "execution_count": null,
   "id": "89",
   "metadata": {},
   "outputs": [],
   "source": [
    "labelwise_df.columns = [\"/\".join(col).strip() for col in labelwise_df.columns.values]"
   ]
  },
  {
   "cell_type": "code",
   "execution_count": null,
   "id": "90",
   "metadata": {},
   "outputs": [],
   "source": [
    "%%time\n",
    "labelwise_df.index.lexsort_depth"
   ]
  },
  {
   "cell_type": "code",
   "execution_count": null,
   "id": "91",
   "metadata": {},
   "outputs": [],
   "source": [
    "%%time\n",
    "labelwise_df.index.is_unique"
   ]
  },
  {
   "cell_type": "code",
   "execution_count": null,
   "id": "92",
   "metadata": {},
   "outputs": [],
   "source": [
    "def func(data):\n",
    "    data = data.loc[IDX[:, :, 10:], :]\n",
    "    # cell_sized = data[(data[area] > 100) & (data[area] < 200)]\n",
    "    cell_sized = data[data[area].between(100, 200)]\n",
    "    # median = cell_sized[yfp].median()\n",
    "    bright_ts = (cell_sized[cell_sized[yfp] > 200][yfp].groupby(\"t\").count() > 2).sum()\n",
    "    # num_brights = (cell_sized & (data[yfp] > 1.2*median)).sum()\n",
    "    # return (median < 200) and (100 > bright_ts > 1)\n",
    "    return bright_ts\n",
    "\n",
    "\n",
    "%lprun -f func labelwise_subset.groupby(trench_key).apply(func)"
   ]
  },
  {
   "cell_type": "code",
   "execution_count": null,
   "id": "93",
   "metadata": {},
   "outputs": [],
   "source": [
    "a = labelwise_subset.groupby(trench_key).apply(func)"
   ]
  },
  {
   "cell_type": "code",
   "execution_count": null,
   "id": "94",
   "metadata": {},
   "outputs": [],
   "source": [
    "a.to_frame()"
   ]
  },
  {
   "cell_type": "markdown",
   "id": "95",
   "metadata": {},
   "source": [
    "## Burst detection"
   ]
  },
  {
   "cell_type": "code",
   "execution_count": null,
   "id": "96",
   "metadata": {},
   "outputs": [],
   "source": [
    "yfp = \"YFP/labelwise/p0.9\"\n",
    "mcherry = \"MCHERRY/labelwise/p0.9\"\n",
    "area = \"YFP/regionprops/area\"\n",
    "trench_key = [\"filename\", \"position\", \"trench_set\", \"trench\"]\n",
    "trench_t_key = [\"filename\", \"position\", \"trench_set\", \"trench\", \"t\"]"
   ]
  },
  {
   "cell_type": "code",
   "execution_count": null,
   "id": "97",
   "metadata": {},
   "outputs": [],
   "source": [
    "%%time\n",
    "# labelwise_subset = labelwise_df.loc[IDX['/n/scratch2/jqs1/fidelity/all/TrErr002_Exp.nd2',:],:]\n",
    "# labelwise_subset = labelwise_df.loc[IDX['/n/scratch2/jqs1/fidelity/all/180405_txnerr_loweronly_fast.nd2',:],:]\n",
    "labelwise_subset = labelwise_df.loc[\n",
    "    IDX[\"/n/scratch2/jqs1/fidelity/all/180405_txnerr_loweronly_fast.nd2\", :], :\n",
    "]"
   ]
  },
  {
   "cell_type": "code",
   "execution_count": null,
   "id": "98",
   "metadata": {},
   "outputs": [],
   "source": [
    "%%time\n",
    "labelwise_selected = labelwise_subset  # [(labelwise_subset[area] > 100) & (labelwise_subset[area] < 400)]"
   ]
  },
  {
   "cell_type": "code",
   "execution_count": null,
   "id": "99",
   "metadata": {},
   "outputs": [],
   "source": [
    "%%time\n",
    "labelwise_selected2 = util.multi_join(labelwise_selected, trenchwise_df[\"YFP/p0.3\"])"
   ]
  },
  {
   "cell_type": "code",
   "execution_count": null,
   "id": "100",
   "metadata": {},
   "outputs": [],
   "source": [
    "%%time\n",
    "background = labelwise_selected2.loc[IDX[:, :, :, :, :, 0], [yfp, mcherry]]\n",
    "background.index = background.index.droplevel(\"label\")\n",
    "background.columns = [c + \"_bg\" for c in background.columns]\n",
    "cell_sized = labelwise_selected2[labelwise_selected2[area].between(100, 200)].loc[\n",
    "    IDX[:, :, :, :, :, 1:], :\n",
    "]\n",
    "cell_sized = util.multi_join(cell_sized, background)"
   ]
  },
  {
   "cell_type": "code",
   "execution_count": null,
   "id": "101",
   "metadata": {},
   "outputs": [],
   "source": [
    "%%time\n",
    "\n",
    "\n",
    "def func(data):\n",
    "    bright_ts = (\n",
    "        data[data[yfp] - data[yfp + \"_bg\"] > 10][yfp].groupby(\"t\").count() > 2\n",
    "    ).sum()\n",
    "    # bright_ts = data[data[yfp] - data[yfp+'_bg'] > 10][yfp].groupby('t')\n",
    "    return bright_ts\n",
    "\n",
    "\n",
    "bright_ts = cell_sized.groupby(trench_key).apply(func)\n",
    "bright_ts.name = \"bright_ts\""
   ]
  },
  {
   "cell_type": "code",
   "execution_count": null,
   "id": "102",
   "metadata": {},
   "outputs": [],
   "source": [
    "bright_ts.sum()"
   ]
  },
  {
   "cell_type": "code",
   "execution_count": null,
   "id": "103",
   "metadata": {},
   "outputs": [],
   "source": [
    "(bright_ts != 0).sum() / (bright_ts == 0).sum()"
   ]
  },
  {
   "cell_type": "code",
   "execution_count": null,
   "id": "104",
   "metadata": {},
   "outputs": [],
   "source": [
    "plt.hist(bright_ts, bins=50, log=True, normed=True)"
   ]
  },
  {
   "cell_type": "code",
   "execution_count": null,
   "id": "105",
   "metadata": {},
   "outputs": [],
   "source": [
    "len(bright_ts)"
   ]
  },
  {
   "cell_type": "code",
   "execution_count": null,
   "id": "106",
   "metadata": {},
   "outputs": [],
   "source": [
    "%%time\n",
    "labelwise_selected3 = util.multi_join(labelwise_selected2, bright_ts)"
   ]
  },
  {
   "cell_type": "code",
   "execution_count": null,
   "id": "107",
   "metadata": {},
   "outputs": [],
   "source": [
    "%%time\n",
    "detected_bursts = labelwise_selected3[labelwise_selected3[\"bright_ts\"] == 1]"
   ]
  },
  {
   "cell_type": "code",
   "execution_count": null,
   "id": "108",
   "metadata": {},
   "outputs": [],
   "source": [
    "%%time\n",
    "len(detected_bursts.groupby(trench_key))"
   ]
  },
  {
   "cell_type": "markdown",
   "id": "109",
   "metadata": {},
   "source": [
    "## New visualization"
   ]
  },
  {
   "cell_type": "code",
   "execution_count": null,
   "id": "110",
   "metadata": {},
   "outputs": [],
   "source": [
    "LabelStream = ui.MultiIndexStream.define(\"LabelStream\", labelwise_df.index)\n",
    "label_stream = LabelStream()\n",
    "box = ui.dataframe_browser(label_stream)\n",
    "label_stream.event()\n",
    "box"
   ]
  },
  {
   "cell_type": "code",
   "execution_count": null,
   "id": "111",
   "metadata": {},
   "outputs": [],
   "source": [
    "%%opts Layout [normalize=False]\n",
    "%%output size=100\n",
    "hover = HoverTool(\n",
    "    tooltips=[\n",
    "        (\"(x,y)\", \"(@x{0[.]0}, @y{0[.]0})\"),\n",
    "        (\"value\", \"@z\"),\n",
    "    ]\n",
    ")\n",
    "# cb = compose(partial(ui.hover_image, hover), ui._trench_img, workflow.get_trench_image)\n",
    "cb = lambda v_max: compose(\n",
    "    partial(ui.hover_image, hover),\n",
    "    lambda x: x.redim.range(z=(0, v_max)),\n",
    "    ui._trench_img,\n",
    "    workflow.get_trench_image,\n",
    ")\n",
    "# cb = workflow.get_trench_image\n",
    "(\n",
    "    ui.trench_viewer(\n",
    "        trench_bboxes, label_stream, channel=\"MCHERRY\", image_callback=cb(4000)\n",
    "    )\n",
    "    + ui.trench_viewer(\n",
    "        trench_bboxes, label_stream, channel=\"YFP\", image_callback=cb(800)\n",
    "    )\n",
    ").cols(1)"
   ]
  },
  {
   "cell_type": "code",
   "execution_count": null,
   "id": "112",
   "metadata": {},
   "outputs": [],
   "source": [
    "groups = detected_bursts.groupby(trench_key)\n",
    "group_set_keys = list(util.grouper(groups.groups.keys(), 10))\n",
    "group_index = pd.MultiIndex.from_tuples([(i,) for i in range(len(group_set_keys))])\n",
    "group_index.names = [\"group_set\"]"
   ]
  },
  {
   "cell_type": "code",
   "execution_count": null,
   "id": "113",
   "metadata": {},
   "outputs": [],
   "source": [
    "GroupStream = ui.MultiIndexStream.define(\"GroupStream\", group_index)\n",
    "group_stream = GroupStream()\n",
    "group_box = ui.dataframe_browser(group_stream)\n",
    "group_stream.event()\n",
    "group_box"
   ]
  },
  {
   "cell_type": "code",
   "execution_count": null,
   "id": "114",
   "metadata": {},
   "outputs": [],
   "source": [
    "%%output size=180\n",
    "sel = Selection1D()\n",
    "\n",
    "\n",
    "def callback(group_set):\n",
    "    df = pd.concat([groups.get_group(key) for key in group_set_keys[group_set]])\n",
    "    plot = hv.Scatter(\n",
    "        df,\n",
    "        kdims=[\"t\"],\n",
    "        vdims=[\"YFP/labelwise/p0.9\", \"filename\", \"position\", \"trench_set\", \"trench\"],\n",
    "    )\n",
    "    tooltips = [\n",
    "        (\"t\", \"@t{0[.]0}\"),\n",
    "        # ('filename', '@filename'),\n",
    "        (\"trench\", \"@position.@trench_set.@trench\"),\n",
    "        (\"YFP\", \"@{YFP/labelwise/p0.9}{0[.]0}\"),\n",
    "    ]\n",
    "    hover = HoverTool(tooltips=tooltips)\n",
    "    tap = TapTool()\n",
    "    plot = plot.options(\n",
    "        \"Scatter\",\n",
    "        size=3,\n",
    "        color_index=\"trench\",\n",
    "        nonselection_alpha=0.3,\n",
    "        cmap=\"Category20\",\n",
    "        tools=[hover, tap],\n",
    "        show_legend=True,\n",
    "    )\n",
    "    # ui.selection_to_stream(plot, label_stream)\n",
    "    sel.clear()\n",
    "    sel.add_subscriber(\n",
    "        partial(\n",
    "            ui._selection_to_stream_callback,\n",
    "            data=plot.data,\n",
    "            keys=df.index.names,\n",
    "            stream=label_stream,\n",
    "        )\n",
    "    )\n",
    "    return plot\n",
    "\n",
    "\n",
    "p = hv.DynamicMap(callback, streams=[group_stream])\n",
    "sel.source = p\n",
    "p"
   ]
  },
  {
   "cell_type": "markdown",
   "id": "115",
   "metadata": {},
   "source": [
    "## Old visualization"
   ]
  },
  {
   "cell_type": "code",
   "execution_count": null,
   "id": "116",
   "metadata": {},
   "outputs": [],
   "source": [
    "%%output size=180\n",
    "# p = hv.Scatter(detected_bursts, kdims=['t'], vdims=['YFP/labelwise/p0.9', 'filename', 'position', 'trench_set', 'trench'])\n",
    "d = {\n",
    "    i: hv.Scatter(\n",
    "        pd.concat([g[1] for g in groups]),\n",
    "        kdims=[\"t\"],\n",
    "        vdims=[\"YFP/labelwise/p0.9\", \"filename\", \"position\", \"trench_set\", \"trench\"],\n",
    "    )\n",
    "    for i, groups in enumerate(util.grouper(detected_bursts.groupby(trench_key), 5))\n",
    "}\n",
    "p = hv.HoloMap(d)\n",
    "tooltips = [\n",
    "    (\"t\", \"@t{0[.]0}\"),\n",
    "    # ('filename', '@filename'),\n",
    "    (\"trench\", \"@position.@trench_set.@trench\"),\n",
    "    (\"YFP\", \"@{YFP/labelwise/p0.9}{0[.]0}\"),\n",
    "]\n",
    "hover = HoverTool(tooltips=tooltips)\n",
    "tap = TapTool()\n",
    "p = p.options(\n",
    "    \"Scatter\",\n",
    "    size=3,\n",
    "    color_index=\"trench\",\n",
    "    nonselection_alpha=0.3,\n",
    "    cmap=\"Category20\",\n",
    "    tools=[hover, tap],\n",
    ")\n",
    "# pr = hv.renderer('bokeh').get_plot(p).state\n",
    "# renderer = pr.renderers[-1]\n",
    "# renderer.nonselection_glyph = renderer.glyph\n",
    "p"
   ]
  },
  {
   "cell_type": "code",
   "execution_count": null,
   "id": "117",
   "metadata": {},
   "outputs": [],
   "source": [
    "%%output size=180\n",
    "hv.Scatter(\n",
    "    detected_bursts[:10_000], kdims=[\"t\"], vdims=[\"YFP/labelwise/p0.9\", \"trench\"]\n",
    ").options(size=3, color_index=\"trench\", cmap=\"Category20\", tools=[\"hover\", \"tap\"])"
   ]
  },
  {
   "cell_type": "code",
   "execution_count": null,
   "id": "118",
   "metadata": {},
   "outputs": [],
   "source": [
    "trenchwise_df.index.names"
   ]
  },
  {
   "cell_type": "code",
   "execution_count": null,
   "id": "119",
   "metadata": {},
   "outputs": [],
   "source": [
    "\"{:.2n}\".format(1.12345)"
   ]
  },
  {
   "cell_type": "code",
   "execution_count": null,
   "id": "120",
   "metadata": {},
   "outputs": [],
   "source": [
    "ui.dataframe_viewer(\n",
    "    partial(ui.select_dataframe, labelwise_df), label_stream, label=slice(None)\n",
    ")"
   ]
  },
  {
   "cell_type": "code",
   "execution_count": null,
   "id": "121",
   "metadata": {},
   "outputs": [],
   "source": [
    "%%output size=180\n",
    "p = hv.Scatter(\n",
    "    detected_bursts[10_000:20_000], kdims=[\"t\"], vdims=[\"YFP/labelwise/p0.9\", \"trench\"]\n",
    ").options(\n",
    "    size=3,\n",
    "    color_index=\"trench\",\n",
    "    nonselection_alpha=0.3,\n",
    "    tools=[\"hover\", \"tap\"],\n",
    "    cmap=\"Category20\",\n",
    ")\n",
    "ui.selection_to_stream(p, label_stream)\n",
    "p"
   ]
  },
  {
   "cell_type": "code",
   "execution_count": null,
   "id": "122",
   "metadata": {},
   "outputs": [],
   "source": [
    "def cb(**kwargs):\n",
    "    dat = labelwise_df.loc[\n",
    "        workflow.stream_slice(\n",
    "            labelwise_df.index.names, kwargs, t=slice(None), label=slice(None)\n",
    "        ),\n",
    "        :,\n",
    "    ]\n",
    "    plot = dat.hvplot.scatter(\"t\", \"YFP_labelwise_p0.95\").options(\n",
    "        tools=[\"tap\", \"hover\"]\n",
    "    )\n",
    "    # ui.selection_to_stream(plot, label_stream)\n",
    "    return plot\n",
    "\n",
    "\n",
    "ui.viewer(cb, label_stream)"
   ]
  },
  {
   "cell_type": "markdown",
   "id": "123",
   "metadata": {},
   "source": [
    "## Grouped trench scatterplot UI"
   ]
  },
  {
   "cell_type": "code",
   "execution_count": null,
   "id": "124",
   "metadata": {},
   "outputs": [],
   "source": [
    "groups = detected_bursts.groupby(trench_key)\n",
    "group_set_keys = list(util.grouper(groups.groups.keys(), 10))\n",
    "group_index = pd.MultiIndex.from_tuples([(i,) for i in range(len(group_set_keys))])\n",
    "group_index.names = [\"group_set\"]"
   ]
  },
  {
   "cell_type": "code",
   "execution_count": null,
   "id": "125",
   "metadata": {},
   "outputs": [],
   "source": [
    "GroupStream = ui.MultiIndexStream.define(\"GroupStream\", group_index)\n",
    "group_stream = GroupStream()\n",
    "group_box = ui.dataframe_browser(group_stream)\n",
    "group_stream.event()\n",
    "group_box"
   ]
  },
  {
   "cell_type": "code",
   "execution_count": null,
   "id": "126",
   "metadata": {},
   "outputs": [],
   "source": [
    "%%output size=180\n",
    "sel = Selection1D()\n",
    "\n",
    "\n",
    "def callback(group_set):\n",
    "    df = pd.concat([groups.get_group(key) for key in group_set_keys[group_set]])\n",
    "    plot = hv.Scatter(\n",
    "        df,\n",
    "        kdims=[\"t\"],\n",
    "        vdims=[\"YFP/labelwise/p0.9\", \"filename\", \"position\", \"trench_set\", \"trench\"],\n",
    "    )\n",
    "    tooltips = [\n",
    "        (\"t\", \"@t{0[.]0}\"),\n",
    "        # ('filename', '@filename'),\n",
    "        (\"trench\", \"@position.@trench_set.@trench\"),\n",
    "        (\"YFP\", \"@{YFP/labelwise/p0.9}{0[.]0}\"),\n",
    "    ]\n",
    "    hover = HoverTool(tooltips=tooltips)\n",
    "    tap = TapTool()\n",
    "    plot = plot.options(\n",
    "        \"Scatter\",\n",
    "        size=3,\n",
    "        color_index=\"trench\",\n",
    "        nonselection_alpha=0.3,\n",
    "        cmap=\"Category20\",\n",
    "        tools=[hover, tap],\n",
    "        show_legend=True,\n",
    "    )\n",
    "    # ui.selection_to_stream(plot, label_stream)\n",
    "    sel.clear()\n",
    "    sel.add_subscriber(\n",
    "        partial(\n",
    "            ui._selection_to_stream_callback,\n",
    "            data=plot.data,\n",
    "            keys=df.index.names,\n",
    "            stream=label_stream,\n",
    "        )\n",
    "    )\n",
    "    return plot\n",
    "\n",
    "\n",
    "p = hv.DynamicMap(callback, streams=[group_stream])\n",
    "sel.source = p\n",
    "p"
   ]
  },
  {
   "cell_type": "code",
   "execution_count": null,
   "id": "127",
   "metadata": {},
   "outputs": [],
   "source": [
    "%prun group_stream.event(group_set=3)"
   ]
  },
  {
   "cell_type": "code",
   "execution_count": null,
   "id": "128",
   "metadata": {},
   "outputs": [],
   "source": [
    "sel"
   ]
  },
  {
   "cell_type": "markdown",
   "id": "129",
   "metadata": {},
   "source": [
    "## Grouped trench movie UI"
   ]
  },
  {
   "cell_type": "code",
   "execution_count": null,
   "id": "130",
   "metadata": {},
   "outputs": [],
   "source": [
    "group_box"
   ]
  },
  {
   "cell_type": "code",
   "execution_count": null,
   "id": "131",
   "metadata": {},
   "outputs": [],
   "source": [
    "%%output size=180\n",
    "# sel = Selection1D()\n",
    "def callback(group_set):\n",
    "    #     df = pd.concat([groups.get_group(key) for key in group_set_keys[group_set]])\n",
    "    #     plot = hv.Scatter(df,\n",
    "    #                       kdims=['t'],\n",
    "    #                       vdims=['YFP/labelwise/p0.9', 'filename',\n",
    "    #                              'position', 'trench_set', 'trench'])\n",
    "    #     tooltips = [('t', '@t{0[.]0}'),\n",
    "    #             #('filename', '@filename'),\n",
    "    #             ('trench', '@position.@trench_set.@trench'),\n",
    "    #             ('YFP', '@{YFP/labelwise/p0.9}{0[.]0}')]\n",
    "    #     hover = HoverTool(tooltips=tooltips)\n",
    "    #     tap = TapTool()\n",
    "    #     plot = plot.options('Scatter',\n",
    "    #                         size=3,\n",
    "    #                         color_index='trench',\n",
    "    #                         nonselection_alpha=0.3,\n",
    "    #                         cmap='Category20',\n",
    "    #                         tools=[hover, tap],\n",
    "    #                         show_legend=True)\n",
    "    # ui.selection_to_stream(plot, label_stream)\n",
    "    #     sel.clear()\n",
    "    #     sel.add_subscriber(partial(ui._selection_to_stream_callback,\n",
    "    #                                data=plot.data,\n",
    "    #                                keys=df.index.names,\n",
    "    #                                stream=label_stream))\n",
    "    movies = []\n",
    "    for key in group_set_keys[group_set]:\n",
    "        ts = groups.get_group(key).index.get_level_values(\"t\")\n",
    "        movie = hv.HoloMap(\n",
    "            {\n",
    "                t: ui._trench_img(\n",
    "                    workflow.get_trench_image(\n",
    "                        trench_bboxes, key[0], key[1], \"YFP\", t, key[2], key[3]\n",
    "                    )\n",
    "                )\n",
    "                for t in ts\n",
    "            }\n",
    "        )\n",
    "        movies.append(movie)\n",
    "    plot = hv.Layout(movies).cols(1)\n",
    "    return plot\n",
    "\n",
    "\n",
    "p = hv.DynamicMap(callback, streams=[group_stream])\n",
    "# sel.source = p\n",
    "p"
   ]
  },
  {
   "cell_type": "markdown",
   "id": "132",
   "metadata": {},
   "source": [
    "## Basic stats"
   ]
  },
  {
   "cell_type": "code",
   "execution_count": null,
   "id": "133",
   "metadata": {},
   "outputs": [],
   "source": [
    "# labelwise_df2 = labelwise_df.copy()\n",
    "labelwise_df.columns = [\"/\".join(col).strip() for col in labelwise_df.columns.values]"
   ]
  },
  {
   "cell_type": "code",
   "execution_count": null,
   "id": "134",
   "metadata": {},
   "outputs": [],
   "source": [
    "labelwise_df.loc[:, \"MCHERRY/regionprops/area\"].plot(kind=\"hist\", bins=100, log=False)"
   ]
  },
  {
   "cell_type": "code",
   "execution_count": null,
   "id": "135",
   "metadata": {},
   "outputs": [],
   "source": [
    "selected_cells = labelwise_df2[\n",
    "    (50 < labelwise_df2[\"MCHERRY/regionprops/area\"])\n",
    "    & (labelwise_df2[\"MCHERRY/regionprops/area\"] < 300)\n",
    "]"
   ]
  },
  {
   "cell_type": "code",
   "execution_count": null,
   "id": "136",
   "metadata": {},
   "outputs": [],
   "source": [
    "selected_cells.loc[:, \"MCHERRY/regionprops/area\"].plot(kind=\"hist\", bins=100, log=False)"
   ]
  },
  {
   "cell_type": "code",
   "execution_count": null,
   "id": "137",
   "metadata": {},
   "outputs": [],
   "source": [
    "selected_cells.loc[:, \"MCHERRY/labelwise/p0.5\"].plot(kind=\"hist\", bins=100, log=False)"
   ]
  },
  {
   "cell_type": "code",
   "execution_count": null,
   "id": "138",
   "metadata": {},
   "outputs": [],
   "source": [
    "selected_cells.loc[:, \"YFP/labelwise/p0.5\"].plot(kind=\"hist\", bins=100, log=True)"
   ]
  },
  {
   "cell_type": "code",
   "execution_count": null,
   "id": "139",
   "metadata": {},
   "outputs": [],
   "source": [
    "labelwise_df[:10000].hvplot(\n",
    "    x=\"MCHERRY/labelwise/p0.5\", y=\"YFP/labelwise/p0.5\", kind=\"scatter\"\n",
    ")"
   ]
  },
  {
   "cell_type": "code",
   "execution_count": null,
   "id": "140",
   "metadata": {},
   "outputs": [],
   "source": [
    "yfp_cols = [c for c in labelwise_df.columns if c.startswith(\"YFP/labelwise/p\")]\n",
    "mcherry_cols = [c for c in labelwise_df.columns if c.startswith(\"MCHERRY/labelwise/p\")]"
   ]
  },
  {
   "cell_type": "code",
   "execution_count": null,
   "id": "141",
   "metadata": {},
   "outputs": [],
   "source": [
    "d = labelwise_df.loc[\n",
    "    IDX[\"/n/scratch2/jqs1/fidelity/all/180405_txnerr002.nd2\", 2, :, 1, 50:60], yfp_cols\n",
    "]"
   ]
  },
  {
   "cell_type": "code",
   "execution_count": null,
   "id": "142",
   "metadata": {},
   "outputs": [],
   "source": [
    "d.hvplot.scatter(\"t\", \"YFP/labelwise/p0.95\", by=\"trench\")"
   ]
  },
  {
   "cell_type": "code",
   "execution_count": null,
   "id": "143",
   "metadata": {},
   "outputs": [],
   "source": [
    "%%opts Scatter (size=3)\n",
    "hv.Layout(\n",
    "    [\n",
    "        d.hvplot.scatter(\"t\", c, by=\"trench\", width=500, height=300)\n",
    "        for c in reversed(yfp_cols)\n",
    "    ]\n",
    ").cols(1)"
   ]
  },
  {
   "cell_type": "code",
   "execution_count": null,
   "id": "144",
   "metadata": {},
   "outputs": [],
   "source": [
    "d2 = labelwise_df.loc[\n",
    "    IDX[\"/n/scratch2/jqs1/fidelity/all/180405_txnerr002.nd2\", 3, :, :, :], yfp_cols\n",
    "]"
   ]
  },
  {
   "cell_type": "code",
   "execution_count": null,
   "id": "145",
   "metadata": {},
   "outputs": [],
   "source": [
    "%%opts Scatter (size=3) [show_legend=False]\n",
    "hv.Layout(\n",
    "    [\n",
    "        d2.hvplot.scatter(\"t\", c, by=\"trench\", width=500, height=300)\n",
    "        for c in reversed(yfp_cols)\n",
    "    ]\n",
    ").cols(1)"
   ]
  },
  {
   "cell_type": "code",
   "execution_count": null,
   "id": "146",
   "metadata": {},
   "outputs": [],
   "source": [
    "%%opts Scatter (size=3) [show_legend=False]\n",
    "def get_plot(pos):\n",
    "    c = \"YFP/labelwise/p0.9\"\n",
    "    d = labelwise_df.loc[\n",
    "        IDX[\"/n/scratch2/jqs1/fidelity/all/180405_txnerr002.nd2\", pos, :, :, :], c\n",
    "    ]\n",
    "    return d.hvplot.scatter(\"t\", c, by=\"trench\", width=500, height=300)\n",
    "\n",
    "\n",
    "hv.HoloMap(\n",
    "    {\n",
    "        pos: get_plot(pos)\n",
    "        for pos in labelwise_df.index._get_level_values(1, unique=True)[:20]\n",
    "    }\n",
    ")"
   ]
  },
  {
   "cell_type": "code",
   "execution_count": null,
   "id": "147",
   "metadata": {},
   "outputs": [],
   "source": [
    "labelwise_df.head().loc[:, cols]"
   ]
  },
  {
   "cell_type": "code",
   "execution_count": null,
   "id": "148",
   "metadata": {},
   "outputs": [],
   "source": [
    "d = labelwise_df.loc[\n",
    "    IDX[\"/n/scratch2/jqs1/fidelity/all/180405_txnerr002.nd2\", 2, :, 1, 50:60], cols\n",
    "]\n",
    "m = pd.melt(d.loc[:, cols])\n",
    "# m.index = d.index\n",
    "# m"
   ]
  },
  {
   "cell_type": "markdown",
   "id": "149",
   "metadata": {},
   "source": [
    "# Trench UI"
   ]
  },
  {
   "cell_type": "code",
   "execution_count": null,
   "id": "150",
   "metadata": {},
   "outputs": [],
   "source": [
    "trenchwise_df.head(10)"
   ]
  },
  {
   "cell_type": "code",
   "execution_count": null,
   "id": "151",
   "metadata": {},
   "outputs": [],
   "source": [
    "trench_bboxes.head(20)"
   ]
  },
  {
   "cell_type": "code",
   "execution_count": null,
   "id": "152",
   "metadata": {},
   "outputs": [],
   "source": [
    "trench_bboxes[trench_bboxes[(\"info\", \"hough_value\")] > 90].loc[\n",
    "    IDX[:, :, [\"MCHERRY\"], 0, :, :], :\n",
    "].head(10)"
   ]
  },
  {
   "cell_type": "code",
   "execution_count": null,
   "id": "153",
   "metadata": {},
   "outputs": [],
   "source": [
    "trench_bboxes.head(10)"
   ]
  },
  {
   "cell_type": "code",
   "execution_count": null,
   "id": "154",
   "metadata": {},
   "outputs": [],
   "source": [
    "selected_trenches_segmentation.head(10)"
   ]
  },
  {
   "cell_type": "code",
   "execution_count": null,
   "id": "155",
   "metadata": {},
   "outputs": [],
   "source": [
    "# LabelStream = ui.MultiIndexStream.define('LabelStream', trench_bboxes.index)\n",
    "LabelStream = ui.MultiIndexStream.define(\"LabelStream\", labelwise_df.index)\n",
    "# LabelStream = ui.MultiIndexStream.define('LabelStream', selected_trenches_segmentation.index)\n",
    "label_stream = LabelStream()\n",
    "\n",
    "box = ui.dataframe_browser(label_stream)\n",
    "label_stream.event()\n",
    "box"
   ]
  },
  {
   "cell_type": "code",
   "execution_count": null,
   "id": "156",
   "metadata": {},
   "outputs": [],
   "source": [
    "label_stream.contents"
   ]
  },
  {
   "cell_type": "code",
   "execution_count": null,
   "id": "157",
   "metadata": {},
   "outputs": [],
   "source": [
    "%%opts Layout [normalize=False]\n",
    "%%opts Image [width=500 height=300]\n",
    "# image_callback = partial(ui.get_trench_set_overlay, get_frame_func=workflow.get_nd2_frame_cached)\n",
    "# p = ui.trench_set_viewer(trench_bboxes_t0, label_stream, channel='MCHERRY', image_callback=image_callback).options({'Bounds': dict(tools=['tap'])})\n",
    "p = ui.get_trench_set_overlay(\n",
    "    trench_bboxes_t0,\n",
    "    channel=\"MCHERRY\",\n",
    "    **{\n",
    "        k: label_stream.contents[k]\n",
    "        for k in (\"filename\", \"position\", \"t\", \"trench_set\", \"trench\")\n",
    "    },\n",
    ")\n",
    "p = p.options({\"Bounds\": dict(tools=[\"tap\"])})\n",
    "s = Selection1D(source=p)\n",
    "p"
   ]
  },
  {
   "cell_type": "code",
   "execution_count": null,
   "id": "158",
   "metadata": {},
   "outputs": [],
   "source": [
    "s"
   ]
  },
  {
   "cell_type": "code",
   "execution_count": null,
   "id": "159",
   "metadata": {},
   "outputs": [],
   "source": [
    "s"
   ]
  },
  {
   "cell_type": "code",
   "execution_count": null,
   "id": "160",
   "metadata": {},
   "outputs": [],
   "source": [
    "%%opts Layout [normalize=False]\n",
    "%%opts Image [width=800 height=150]\n",
    "image_callback = partial(\n",
    "    ui.get_trench_set_overlay, get_frame_func=workflow.get_nd2_frame_cached\n",
    ")\n",
    "(\n",
    "    ui.trench_set_viewer(\n",
    "        trench_bboxes_t0, label_stream, channel=\"MCHERRY\", image_callback=image_callback\n",
    "    )\n",
    "    + ui.trench_set_viewer(\n",
    "        trench_bboxes_t0, label_stream, channel=\"YFP\", image_callback=image_callback\n",
    "    )\n",
    ").cols(1)"
   ]
  },
  {
   "cell_type": "code",
   "execution_count": null,
   "id": "161",
   "metadata": {},
   "outputs": [],
   "source": [
    "%%opts Layout [normalize=False]\n",
    "%%output size=100\n",
    "hover = HoverTool(\n",
    "    tooltips=[\n",
    "        (\"(x,y)\", \"(@x{0[.]0}, @y{0[.]0})\"),\n",
    "        (\"value\", \"@z\"),\n",
    "    ]\n",
    ")\n",
    "cb = compose(partial(ui.hover_image, hover), ui._trench_img, workflow.get_trench_image)\n",
    "# cb = workflow.get_trench_image\n",
    "(\n",
    "    ui.trench_viewer(trench_bboxes, label_stream, channel=\"MCHERRY\", image_callback=cb)\n",
    "    + ui.trench_viewer(trench_bboxes, label_stream, channel=\"YFP\", image_callback=cb)\n",
    ").cols(1)"
   ]
  },
  {
   "cell_type": "code",
   "execution_count": null,
   "id": "162",
   "metadata": {},
   "outputs": [],
   "source": [
    "import bokeh"
   ]
  },
  {
   "cell_type": "code",
   "execution_count": null,
   "id": "163",
   "metadata": {},
   "outputs": [],
   "source": [
    "compose(partial(ui.hover_image, hover), ui._trench_img, workflow.get_trench_image)(\n",
    "    trench_bboxes,\n",
    "    \"/n/scratch2/jqs1/fidelity/all/180405_txnerr002.nd2\",\n",
    "    3,\n",
    "    \"MCHERRY\",\n",
    "    0,\n",
    "    1,\n",
    "    56,\n",
    ")"
   ]
  },
  {
   "cell_type": "code",
   "execution_count": null,
   "id": "164",
   "metadata": {},
   "outputs": [],
   "source": [
    "yfp = labelwise_df.loc[\n",
    "    IDX[\"/n/scratch2/jqs1/fidelity/all/180405_txnerr002.nd2\", 3, 3, 1, 61],\n",
    "    (\"YFP\", \"labelwise\", \"mean\"),\n",
    "]"
   ]
  },
  {
   "cell_type": "code",
   "execution_count": null,
   "id": "165",
   "metadata": {},
   "outputs": [],
   "source": [
    "yfp.plot.hist(bins=50)"
   ]
  },
  {
   "cell_type": "code",
   "execution_count": null,
   "id": "166",
   "metadata": {},
   "outputs": [],
   "source": [
    "yfp2 = labelwise_df.loc[\n",
    "    IDX[\"/n/scratch2/jqs1/fidelity/all/180405_txnerr002.nd2\", 3],\n",
    "    (\"YFP\", \"labelwise\", \"p0.95\"),\n",
    "]"
   ]
  },
  {
   "cell_type": "code",
   "execution_count": null,
   "id": "167",
   "metadata": {},
   "outputs": [],
   "source": [
    "yfp2[yfp2 < 300].plot.hist(bins=50, log=True)"
   ]
  },
  {
   "cell_type": "code",
   "execution_count": null,
   "id": "168",
   "metadata": {},
   "outputs": [],
   "source": [
    "yfp2[yfp2 > 200]"
   ]
  },
  {
   "cell_type": "code",
   "execution_count": null,
   "id": "169",
   "metadata": {},
   "outputs": [],
   "source": [
    "yfp2.loc[IDX[:, 1, 60]]"
   ]
  },
  {
   "cell_type": "code",
   "execution_count": null,
   "id": "170",
   "metadata": {},
   "outputs": [],
   "source": [
    "yfp2.swaplevel(0, 1).swaplevel(1, 2).sort_index()"
   ]
  },
  {
   "cell_type": "code",
   "execution_count": null,
   "id": "171",
   "metadata": {},
   "outputs": [],
   "source": [
    "yfp2[yfp2 > 130].groupby([\"trench_set\", \"trench\"]).filter(lambda x: x.count() > 10)"
   ]
  },
  {
   "cell_type": "code",
   "execution_count": null,
   "id": "172",
   "metadata": {},
   "outputs": [],
   "source": [
    "yfp[yfp > 130]"
   ]
  },
  {
   "cell_type": "code",
   "execution_count": null,
   "id": "173",
   "metadata": {},
   "outputs": [],
   "source": [
    "labelwise_df.xs(\n",
    "    IDX[\"/n/scratch2/jqs1/fidelity/all/180405_txnerr002.nd2\", 3, 2, 1, 56],\n",
    "    drop_level=False,\n",
    ")[\"YFP\"]"
   ]
  },
  {
   "cell_type": "code",
   "execution_count": null,
   "id": "174",
   "metadata": {},
   "outputs": [],
   "source": [
    "labelwise_df.loc[\n",
    "    IDX[\"/n/scratch2/jqs1/fidelity/all/180405_txnerr002.nd2\", 0, 2, 1, 56], \"MCHERRY\"\n",
    "]"
   ]
  },
  {
   "cell_type": "code",
   "execution_count": null,
   "id": "175",
   "metadata": {},
   "outputs": [],
   "source": [
    "plt.imshow(\n",
    "    workflow.get_trench_image(\n",
    "        trench_bboxes,\n",
    "        channel=\"MCHERRY\",\n",
    "        **dissoc(label_stream.contents, \"_df\", \"label\"),\n",
    "    )\n",
    ")"
   ]
  },
  {
   "cell_type": "code",
   "execution_count": null,
   "id": "176",
   "metadata": {},
   "outputs": [],
   "source": [
    "workflow.get_nd2_frame(\n",
    "    channel=\"MCHERRY\",\n",
    "    **util.get_keys(label_stream.contents, \"filename\", \"position\", \"t\"),\n",
    ")"
   ]
  },
  {
   "cell_type": "code",
   "execution_count": null,
   "id": "177",
   "metadata": {},
   "outputs": [],
   "source": [
    "f = partial(util.get_keys, keys=[\"label\"])\n",
    "f(label_stream.contents)"
   ]
  },
  {
   "cell_type": "code",
   "execution_count": null,
   "id": "178",
   "metadata": {},
   "outputs": [],
   "source": [
    "label_stream.contents.keys()"
   ]
  },
  {
   "cell_type": "code",
   "execution_count": null,
   "id": "179",
   "metadata": {},
   "outputs": [],
   "source": [
    "ui.image_viewer(frame_stream)"
   ]
  },
  {
   "cell_type": "code",
   "execution_count": null,
   "id": "180",
   "metadata": {},
   "outputs": [],
   "source": [
    "ui.show_frame_info(trench_diag, frame_stream)"
   ]
  },
  {
   "cell_type": "code",
   "execution_count": null,
   "id": "181",
   "metadata": {},
   "outputs": [],
   "source": [
    "g = ui.show_grid(selected, stream=frame_stream)\n",
    "g"
   ]
  }
 ],
 "metadata": {
  "kernelspec": {
   "display_name": "Python 3",
   "language": "python",
   "name": "python3"
  },
  "language_info": {
   "codemirror_mode": {
    "name": "ipython",
    "version": 3
   },
   "file_extension": ".py",
   "mimetype": "text/x-python",
   "name": "python",
   "nbconvert_exporter": "python",
   "pygments_lexer": "ipython3",
   "version": "3.7.0"
  }
 },
 "nbformat": 4,
 "nbformat_minor": 2
}
