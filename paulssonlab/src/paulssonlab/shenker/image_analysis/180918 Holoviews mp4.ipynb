{
 "cells": [
  {
   "cell_type": "code",
   "execution_count": null,
   "metadata": {},
   "outputs": [],
   "source": [
    "import numpy as np\n",
    "import holoviews as hv"
   ]
  },
  {
   "cell_type": "code",
   "execution_count": null,
   "metadata": {},
   "outputs": [],
   "source": [
    "hv.extension(\"matplotlib\")"
   ]
  },
  {
   "cell_type": "code",
   "execution_count": null,
   "metadata": {},
   "outputs": [],
   "source": [
    "%%opts Image [colorbar=True]\n",
    "%%output holomap='mp4', fps=1\n",
    "ds = hv.Dataset(\n",
    "    (\n",
    "        np.arange(20),\n",
    "        np.arange(20),\n",
    "        np.arange(5),\n",
    "        np.arange(2),\n",
    "        np.random.random((2, 5, 20, 20)),\n",
    "    ),\n",
    "    kdims=[\"w\", \"x\", \"y\", \"z\"],\n",
    "    vdims=[\"A\"],\n",
    ")\n",
    "ds.to(hv.Image).layout(\"z\")"
   ]
  },
  {
   "cell_type": "code",
   "execution_count": null,
   "metadata": {},
   "outputs": [],
   "source": []
  }
 ],
 "metadata": {
  "kernelspec": {
   "display_name": "Python 3",
   "language": "python",
   "name": "python3"
  },
  "language_info": {
   "codemirror_mode": {
    "name": "ipython",
    "version": 3
   },
   "file_extension": ".py",
   "mimetype": "text/x-python",
   "name": "python",
   "nbconvert_exporter": "python",
   "pygments_lexer": "ipython3",
   "version": "3.7.0"
  }
 },
 "nbformat": 4,
 "nbformat_minor": 2
}
