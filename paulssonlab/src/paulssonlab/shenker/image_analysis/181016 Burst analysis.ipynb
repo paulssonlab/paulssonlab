{
 "cells": [
  {
   "cell_type": "markdown",
   "id": "0",
   "metadata": {},
   "source": [
    "# Imports"
   ]
  },
  {
   "cell_type": "code",
   "execution_count": null,
   "id": "1",
   "metadata": {},
   "outputs": [],
   "source": [
    "import asyncio\n",
    "import os\n",
    "import traceback\n",
    "import warnings\n",
    "from collections import defaultdict, namedtuple\n",
    "from collections.abc import Mapping, Sequence\n",
    "from functools import partial\n",
    "from glob import glob\n",
    "from importlib import reload\n",
    "from numbers import Number\n",
    "from operator import getitem\n",
    "\n",
    "import cachetools\n",
    "import dask\n",
    "import distributed\n",
    "import holoviews as hv\n",
    "import hvplot.pandas\n",
    "import ipywidgets as widgets\n",
    "import matplotlib.pyplot as plt\n",
    "import nd2reader\n",
    "import numpy as np\n",
    "import pandas as pd\n",
    "import param\n",
    "import parambokeh\n",
    "import pyarrow as pa\n",
    "import pyarrow.feather as feather\n",
    "import pyarrow.parquet as pq\n",
    "import qgrid\n",
    "import scipy\n",
    "import skimage.morphology\n",
    "import streamz\n",
    "import streamz.dataframe as sdf\n",
    "import zarr\n",
    "from bokeh.models.tools import HoverTool, TapTool\n",
    "from cytoolz import *\n",
    "from dask import delayed\n",
    "from dask_jobqueue import SLURMCluster\n",
    "from deepmerge import merge_or_raise\n",
    "from distributed import Client, LocalCluster, progress\n",
    "from holoviews.operation.datashader import regrid\n",
    "from holoviews.streams import Selection1D, Stream, param\n",
    "from IPython.display import Video\n",
    "from tqdm import tnrange, tqdm, tqdm_notebook\n",
    "from traitlets import All\n",
    "\n",
    "IDX = pd.IndexSlice"
   ]
  },
  {
   "cell_type": "code",
   "execution_count": null,
   "id": "2",
   "metadata": {},
   "outputs": [],
   "source": [
    "%load_ext autoreload\n",
    "%autoreload 2"
   ]
  },
  {
   "cell_type": "code",
   "execution_count": null,
   "id": "3",
   "metadata": {},
   "outputs": [],
   "source": [
    "# from processing import *\n",
    "# from trench_detection import *\n",
    "# from trench_segmentation import *\n",
    "# from trench_segmentation.watershed import *\n",
    "# from util import *\n",
    "# from ui import *\n",
    "import common\n",
    "import data_io\n",
    "import diagnostics\n",
    "import geometry\n",
    "import image\n",
    "import metadata\n",
    "import processing\n",
    "import trench_detection\n",
    "import trench_detection.core\n",
    "import trench_detection.hough\n",
    "import trench_segmentation.watershed\n",
    "import ui\n",
    "import util\n",
    "import workflow"
   ]
  },
  {
   "cell_type": "code",
   "execution_count": null,
   "id": "4",
   "metadata": {},
   "outputs": [],
   "source": [
    "%load_ext line_profiler\n",
    "%load_ext snakeviz\n",
    "hv.extension(\"bokeh\", \"matplotlib\")\n",
    "%matplotlib inline\n",
    "tqdm.monitor_interval = 0\n",
    "asyncio.get_event_loop().set_debug(False)\n",
    "import logging\n",
    "\n",
    "logging.basicConfig(level=logging.DEBUG)\n",
    "import warnings\n",
    "\n",
    "warnings.simplefilter(\"ignore\")"
   ]
  },
  {
   "cell_type": "markdown",
   "id": "5",
   "metadata": {},
   "source": [
    "# Loading data"
   ]
  },
  {
   "cell_type": "code",
   "execution_count": null,
   "id": "6",
   "metadata": {},
   "outputs": [],
   "source": [
    "# nd2_filenames = ['/n/scratch2/jqs1/fidelity/all/180405_txnerr.nd2', '/n/scratch2/jqs1/fidelity/all/180405_txnerr001.nd2']\n",
    "# nd2_filenames = ['/n/scratch2/jqs1/fidelity/all/180405_txnerr002.nd2']#, '/n/scratch2/jqs1/fidelity/all/TrErr002_Exp.nd2']\n",
    "# nd2_filenames = ['/n/scratch2/jqs1/fidelity/all/TrErr002_Exp.nd2']\n",
    "# nd2_filenames = ['/n/scratch2/jqs1/fidelity/all/180405_txnerr.nd2', '/n/scratch2/jqs1/fidelity/all/180405_txnerr001.nd2',\n",
    "#                 '/n/scratch2/jqs1/fidelity/all/180405_txnerr002.nd2', '/n/scratch2/jqs1/fidelity/all/TrErr002_Exp.nd2']\n",
    "# nd2_filenames = ['/home/jqs1/scratch/fidelity/180518_triplegrowthcurve/PHASE_GC001.nd2', '/home/jqs1/scratch/fidelity/180518_triplegrowthcurve/PHASE_GC002.nd2']\n",
    "# nd2_filenames = glob('/n/scratch2/jqs1/fidelity/all/180405*.nd2') + glob('/n/scratch2/jqs1/fidelity/all/TrErr*.nd2')\n",
    "# nd2_filenames = ['/n/scratch2/jqs1/fidelity/all/180405_txnerr002.nd2', '/n/scratch2/jqs1/fidelity/all/180405_txnerr.nd2', '/n/scratch2/jqs1/fidelity/all/180405_txnerr001.nd2', '/n/scratch2/jqs1/fidelity/all/180405_txnerr_loweronly.nd2', '/n/scratch2/jqs1/fidelity/all/180405_txnerr_loweronly_fast.nd2'] + glob('/n/scratch2/jqs1/fidelity/all/TrErr*.nd2')\n",
    "nd2_filenames = [\"/n/scratch2/jqs1/fidelity/all/TrErr.nd2\"]\n",
    "# nd2_filenames = ['/n/scratch2/jqs1/fidelity/all/180928_txnerr_bigsnake.nd2']"
   ]
  },
  {
   "cell_type": "code",
   "execution_count": null,
   "id": "7",
   "metadata": {},
   "outputs": [],
   "source": [
    "all_frames, metadata, parsed_metadata = workflow.get_nd2_frame_list(nd2_filenames)\n",
    "image_limits = workflow.get_filename_image_limits(metadata)"
   ]
  },
  {
   "cell_type": "markdown",
   "id": "8",
   "metadata": {},
   "source": [
    "# Config"
   ]
  },
  {
   "cell_type": "code",
   "execution_count": null,
   "id": "9",
   "metadata": {},
   "outputs": [],
   "source": [
    "dask.config.config[\"distributed\"][\"worker\"][\"memory\"] = {\n",
    "    \"target\": 0.9,\n",
    "    \"spill\": None,\n",
    "    \"pause\": None,\n",
    "    \"terminate\": 0.95,\n",
    "}"
   ]
  },
  {
   "cell_type": "code",
   "execution_count": null,
   "id": "10",
   "metadata": {},
   "outputs": [],
   "source": [
    "# dask.config.config['distributed']['worker']['profile'] = {'interval': '10s', 'cycle': '10s'}\n",
    "# {'interval': '10ms', 'cycle': '1000ms'}"
   ]
  },
  {
   "cell_type": "code",
   "execution_count": null,
   "id": "11",
   "metadata": {},
   "outputs": [],
   "source": [
    "cluster = SLURMCluster(\n",
    "    queue=\"short\",\n",
    "    walltime=\"02:00:00\",\n",
    "    # job_extra=['-p transfer'],\n",
    "    # job_extra=['--cores-per-socket=8'],\n",
    "    # job_extra=['--exclude=compute-e-16-181,compute-e-16-186'],\n",
    "    # interface='ib0',\n",
    "    memory=\"4GB\",  # TODO!!!\n",
    "    local_directory=\"/tmp\",\n",
    "    cores=1,\n",
    "    processes=1,\n",
    "    # diagnostics_port=('127.0.0.1', 8787),\n",
    "    env_extra=[\n",
    "        'export PYTHONPATH=\"/home/jqs1/projects/matriarch\"',\n",
    "        #'export PYTHONTRACEMALLOC=25',\n",
    "        #'export MALLOC_CONF=prof:true,prof_leak:true,lg_prof_interval:31,prof_final:true',\n",
    "        'export LD_PRELOAD=\"/home/jqs1/lib/libjemalloc.so.2\"',\n",
    "    ],\n",
    ")\n",
    "client = Client(cluster)  # , direct_to_workers=True)"
   ]
  },
  {
   "cell_type": "code",
   "execution_count": null,
   "id": "12",
   "metadata": {},
   "outputs": [],
   "source": [
    "cluster.scale(40)"
   ]
  },
  {
   "cell_type": "code",
   "execution_count": null,
   "id": "13",
   "metadata": {},
   "outputs": [],
   "source": [
    "cluster._widget().children[1].children[1].children[0].children[0].layout.width = \"200px\"\n",
    "cluster"
   ]
  },
  {
   "cell_type": "code",
   "execution_count": null,
   "id": "14",
   "metadata": {},
   "outputs": [],
   "source": [
    "cluster.stop_jobs(cluster.running_jobs.keys())"
   ]
  },
  {
   "cell_type": "code",
   "execution_count": null,
   "id": "15",
   "metadata": {},
   "outputs": [],
   "source": [
    "cluster.scheduler.stop_services()\n",
    "cluster.scheduler.stop()"
   ]
  },
  {
   "cell_type": "code",
   "execution_count": null,
   "id": "16",
   "metadata": {},
   "outputs": [],
   "source": [
    "client.restart()"
   ]
  },
  {
   "cell_type": "markdown",
   "id": "17",
   "metadata": {},
   "source": [
    "# Reload"
   ]
  },
  {
   "cell_type": "code",
   "execution_count": null,
   "id": "18",
   "metadata": {},
   "outputs": [],
   "source": [
    "def do_reload():\n",
    "    from importlib import reload\n",
    "\n",
    "    import diagnostics\n",
    "    import image\n",
    "    import trench_detection\n",
    "    import util\n",
    "    import workflow\n",
    "\n",
    "    # reload(util)\n",
    "    # reload(trench_detection.hough)\n",
    "    # reload(diagnostics)\n",
    "    reload(workflow)\n",
    "    # reload(image)\n",
    "\n",
    "\n",
    "client.run(do_reload)\n",
    "do_reload()"
   ]
  },
  {
   "cell_type": "markdown",
   "id": "19",
   "metadata": {},
   "source": [
    "# Trench detection"
   ]
  },
  {
   "cell_type": "code",
   "execution_count": null,
   "id": "20",
   "metadata": {},
   "outputs": [],
   "source": [
    "FrameStream = ui.MultiIndexStream.define(\"FrameStream\", all_frames.index)\n",
    "frame_stream = FrameStream()\n",
    "box = ui.dataframe_browser(frame_stream)\n",
    "frame_stream.event()\n",
    "box"
   ]
  },
  {
   "cell_type": "code",
   "execution_count": null,
   "id": "21",
   "metadata": {},
   "outputs": [],
   "source": [
    "%%time\n",
    "frame = workflow.get_nd2_frame(**frame_stream.contents)\n",
    "find_trenches_diag = diagnostics.wrap_diagnostics(\n",
    "    trench_detection.find_trenches, ignore_exceptions=False, pandas=True\n",
    ")\n",
    "trench_points, trench_diag, trench_err = find_trenches_diag(frame)"
   ]
  },
  {
   "cell_type": "markdown",
   "id": "22",
   "metadata": {},
   "source": [
    "# Data reduction"
   ]
  },
  {
   "cell_type": "code",
   "execution_count": null,
   "id": "23",
   "metadata": {},
   "outputs": [],
   "source": [
    "selected_frames = all_frames.loc[IDX[\"/n/scratch2/jqs1/fidelity/all/TrErr.nd2\", :1], :]"
   ]
  },
  {
   "cell_type": "markdown",
   "id": "24",
   "metadata": {},
   "source": [
    "## New trench detection+segmentation+analysis"
   ]
  },
  {
   "cell_type": "code",
   "execution_count": null,
   "id": "25",
   "metadata": {},
   "outputs": [],
   "source": [
    "pixelwise_funcs = {\n",
    "    \"mean\": np.mean,\n",
    "    \"min\": np.min,\n",
    "    \"max\": np.max,\n",
    "    (\"p0.3\", \"p0.5\", \"p0.7\", \"p0.9\", \"p0.95\"): partial(\n",
    "        np.percentile, q=(30, 50, 70, 90, 95)\n",
    "    ),\n",
    "}\n",
    "trenchwise_funcs = {\"sharpness\": image.sharpness, **pixelwise_funcs}\n",
    "\n",
    "\n",
    "def measurement_func(label_image, intensity_image):\n",
    "    eroded_label_image = (\n",
    "        util.repeat_apply(skimage.morphology.binary_erosion, 2)(label_image != 0)\n",
    "        * label_image\n",
    "    )\n",
    "    if intensity_image is None:\n",
    "        minlength = label_image.max() + 1\n",
    "        mask_labelwise_df = pd.DataFrame(\n",
    "            {\n",
    "                (\"noerode\", \"size\"): np.bincount(label_image.flat, minlength=minlength),\n",
    "                (\"erode2\", \"size\"): np.bincount(\n",
    "                    eroded_label_image.flat, minlength=minlength\n",
    "                ),\n",
    "            }\n",
    "        )\n",
    "        mask_labelwise_df.index.name = \"label\"\n",
    "        return dict(mask_labelwise=mask_labelwise_df)\n",
    "    labelwise = {\n",
    "        \"noerode\": workflow.map_frame_over_labels(\n",
    "            pixelwise_funcs, label_image, intensity_image\n",
    "        ),\n",
    "        \"erode2\": workflow.map_frame_over_labels(\n",
    "            pixelwise_funcs, eroded_label_image, intensity_image\n",
    "        ),\n",
    "    }\n",
    "    trenchwise_df = workflow.map_frame(trenchwise_funcs, intensity_image)\n",
    "    labelwise_df = pd.concat(labelwise, axis=1)\n",
    "    return dict(trenchwise=trenchwise_df, labelwise=labelwise_df)"
   ]
  },
  {
   "cell_type": "code",
   "execution_count": null,
   "id": "26",
   "metadata": {},
   "outputs": [],
   "source": [
    "def _measure(\n",
    "    trenches,\n",
    "    frames,\n",
    "    measurement_func,\n",
    "    segmentation_channel=\"MCHERRY\",\n",
    "    measure_channels=None,\n",
    "    segmentation_func=trench_segmentation.watershed.segment_trench,\n",
    "    include_frame=True,\n",
    "    frame_bits=8,\n",
    "    frame_downsample=4,\n",
    "    filename=None,\n",
    "    position=None,\n",
    "):\n",
    "    frame_transformation = compose(\n",
    "        processing.zarrify,\n",
    "        partial(image.quantize, bits=frame_bits),\n",
    "        partial(image.downsample, factor=frame_downsample),\n",
    "    )\n",
    "    trench_crops = processing._get_trench_crops(\n",
    "        trenches,\n",
    "        frames,\n",
    "        include_frame=include_frame,\n",
    "        frame_transformation=frame_transformation,\n",
    "        filename=filename,\n",
    "        position=position,\n",
    "    )\n",
    "    flattened_crops = {\n",
    "        (*k[0], *k[1:]): v\n",
    "        for k, v in util.flatten_dict(trench_crops).items()\n",
    "        if k[0] != \"_frame\"\n",
    "    }\n",
    "    segmentation_masks = {}\n",
    "    measurements = {}\n",
    "    # segment\n",
    "    for (trench_set, trench_idx, channel, t), crop in flattened_crops.items():\n",
    "        if measure_channels is not None and channel not in measure_channels:\n",
    "            continue\n",
    "        segmentation_key = (trench_set, trench_idx, segmentation_channel, t)\n",
    "        segmentation_mask = segmentation_masks.get(segmentation_key, None)\n",
    "        if segmentation_mask is None:\n",
    "            segmentation_masks[segmentation_key] = segmentation_func(\n",
    "                flattened_crops[segmentation_key]\n",
    "            )\n",
    "            # measure mask\n",
    "            measurements[(\"mask\", (trench_set, trench_idx, t))] = measurement_func(\n",
    "                segmentation_masks[segmentation_key], None\n",
    "            )\n",
    "        # measure\n",
    "        measurements[(channel, (trench_set, trench_idx, t))] = measurement_func(\n",
    "            segmentation_masks[segmentation_key], crop\n",
    "        )\n",
    "    measurement_dfs = util.map_dict_levels(lambda k: (k[1], k[0], *k[2:]), measurements)\n",
    "    for name, dfs in measurement_dfs.items():\n",
    "        dfs = util.unflatten_dict(dfs)\n",
    "        if isinstance(util.get_one(dfs, level=2), pd.Series):\n",
    "            df = pd.concat(\n",
    "                {\n",
    "                    channel: pd.concat(channel_dfs, axis=1).T\n",
    "                    for channel, channel_dfs in dfs.items()\n",
    "                },\n",
    "                axis=1,\n",
    "            )\n",
    "        else:\n",
    "            df = pd.concat(\n",
    "                {\n",
    "                    channel: pd.concat(channel_dfs, axis=0)\n",
    "                    for channel, channel_dfs in dfs.items()\n",
    "                },\n",
    "                axis=1,\n",
    "            )\n",
    "        df.index.names = [\"trench_set\", \"trench\", \"t\", *df.index.names[3:]]\n",
    "        measurement_dfs[name] = df\n",
    "    images = dict(\n",
    "        raw=trench_crops, segmentation=util.unflatten_dict(segmentation_masks)\n",
    "    )\n",
    "    return dict(measurements=measurement_dfs, images=images)\n",
    "\n",
    "\n",
    "measure = processing.iterate_over_groupby([\"filename\", \"position\"])(_measure)"
   ]
  },
  {
   "cell_type": "code",
   "execution_count": null,
   "id": "27",
   "metadata": {},
   "outputs": [],
   "source": [
    "def filename_func(extension=None, kind=None, name=None, filename=None, position=None):\n",
    "    components = [s for s in (\"\", name, extension) if s is not None]\n",
    "    return os.path.join(\n",
    "        f\"{filename}.{kind}\", \"pos{:d}\".format(position) + \".\".join(components)\n",
    "    )"
   ]
  },
  {
   "cell_type": "code",
   "execution_count": null,
   "id": "28",
   "metadata": {},
   "outputs": [],
   "source": [
    "client = Client(n_workers=1)"
   ]
  },
  {
   "cell_type": "code",
   "execution_count": null,
   "id": "29",
   "metadata": {},
   "outputs": [],
   "source": [
    "frame = workflow.get_nd2_frame(*all_frames.index[0])"
   ]
  },
  {
   "cell_type": "code",
   "execution_count": null,
   "id": "30",
   "metadata": {},
   "outputs": [],
   "source": [
    "trench_info = find_trenches_diag(frame)"
   ]
  },
  {
   "cell_type": "code",
   "execution_count": null,
   "id": "31",
   "metadata": {},
   "outputs": [],
   "source": [
    "df = trench_info_to_dataframe(trench_info)"
   ]
  },
  {
   "cell_type": "code",
   "execution_count": null,
   "id": "32",
   "metadata": {},
   "outputs": [],
   "source": [
    "df2 = workflow._get_trench_bboxes_dataframe(df, *util.get_one(image_limits))"
   ]
  },
  {
   "cell_type": "code",
   "execution_count": null,
   "id": "33",
   "metadata": {},
   "outputs": [],
   "source": [
    "def trench_diag_to_dataframe(trench_diag, sep=\".\"):\n",
    "    df = diagnostics.expand_diagnostics_by_label(trench_diag.to_frame().T)\n",
    "    df.index = df.index.droplevel(0)\n",
    "    df.index.names = [*df.index.names[:-1], \"trench_set\"]\n",
    "    return df\n",
    "\n",
    "\n",
    "def trench_info_to_dataframe(trench_info, x_lim, y_lim):\n",
    "    trench_points, trench_diag, trench_err = trench_info\n",
    "    trench_diag = trench_diag_to_dataframe(trench_info[1])\n",
    "    # FROM: https://stackoverflow.com/questions/14744068/prepend-a-level-to-a-pandas-multiindex\n",
    "    trench_diag = pd.concat([trench_diag], axis=1, keys=[\"diag\"])\n",
    "    trenches = pd.concat(\n",
    "        [trench_points, util.multi_join(trench_info[0].index, trench_diag)], axis=1\n",
    "    )\n",
    "    trench_bboxes = workflow._get_trench_bboxes_dataframe(trenches, x_lim, y_lim)\n",
    "    trenches = pd.concat([trenches, trench_bboxes], axis=1)\n",
    "    return trenches\n",
    "\n",
    "\n",
    "find_trenches_diag = diagnostics.wrap_diagnostics(\n",
    "    trench_detection.find_trenches, ignore_exceptions=True, pandas=True\n",
    ")\n",
    "\n",
    "_measure_and_write = compose(\n",
    "    partial(\n",
    "        processing.write_images_and_measurements,\n",
    "        filename_func=filename_func,\n",
    "        dataframe_format=\"parquet\",\n",
    "    ),\n",
    "    measure,\n",
    ")\n",
    "\n",
    "# def filter_positions(trench_diag):\n",
    "# return (trench_diag['find_trench_lines.hough_2.peak_func.pitch'] - 24).abs() > 1\n",
    "# bad_pitch = ((trench_diag['find_trench_lines.hough_2.peak_func.pitch'] - 24).abs() > 1)\n",
    "# trench_points_good = trench_points[~util.multi_join(trench_points.index, bad_pitch)]\n",
    "# return trench_points # TODO: can just filter based on trench_diag series, no need for df\n",
    "\n",
    "\n",
    "def filter_trenches(trenches):\n",
    "    return (trench_diag[\"find_trench_lines.hough_2.peak_func.pitch\"] - 24).abs() > 1\n",
    "    return trenches[trenches[(\"info\", \"hough_value\")] > 90]"
   ]
  },
  {
   "cell_type": "code",
   "execution_count": null,
   "id": "34",
   "metadata": {},
   "outputs": [],
   "source": [
    "trenches_futures = {}\n",
    "trench_errs = {}  # TODO!!!\n",
    "analysis_futures = {}\n",
    "\n",
    "for key, frames in selected_frames.groupby([\"filename\", \"position\"]):\n",
    "    filename, posiiton = key\n",
    "    x_lim, y_lim = image_limits[filename]\n",
    "    frame_to_segment = frames.loc[IDX[:, :, [\"MCHERRY\"], 0], :]\n",
    "    frame_future = client.submit(workflow.get_nd2_frame, *frame_to_segment.index[0])\n",
    "    trenches_future = client.submit(\n",
    "        compose(\n",
    "            partial(trench_info_to_dataframe, x_lim=x_lim, y_lim=y_lim),\n",
    "            find_trenches_diag,\n",
    "        ),\n",
    "        frame_future,\n",
    "    )\n",
    "    # filter trenches, send good trenches to _measure_and_write\n",
    "    # fire-and-forget _measure_and_write\n",
    "    # write trenches to disk in per-filename parquet\n",
    "    analysis_futures.append(\n",
    "        client.submit(compose(util.return_none, _measure_and_write), trenches_future)\n",
    "    )\n",
    "\n",
    "# save trench_diags\n",
    "# save trenches"
   ]
  },
  {
   "cell_type": "markdown",
   "id": "35",
   "metadata": {},
   "source": [
    "## Streaming gather"
   ]
  },
  {
   "cell_type": "code",
   "execution_count": null,
   "id": "36",
   "metadata": {},
   "outputs": [],
   "source": [
    "%%time\n",
    "ac = distributed.as_completed([], with_results=False, loop=client.loop)\n",
    "\n",
    "new_futures_stream = streamz.Stream()\n",
    "finished_futures_stream = streamz.Stream(asynchronous=True, loop=client.loop)\n",
    "\n",
    "stream_sinks = {}\n",
    "stream_writers = {}\n",
    "output_filename = \"/n/scratch2/jqs1/fidelity/all/output/analysis_full_stream11_{}.arrow\"\n",
    "\n",
    "new_futures_stream.sink(lambda x: ac.add(x))\n",
    "\n",
    "errored_futures = set()\n",
    "finished_futures_stream.filter(lambda x: x.status == \"error\").sink(\n",
    "    lambda x: errored_futures.add(x)\n",
    ")\n",
    "\n",
    "\n",
    "def timeout_func(futures):\n",
    "    ac.update(futures)\n",
    "\n",
    "\n",
    "successful_futures_stream = finished_futures_stream.filter(\n",
    "    lambda x: x.status == \"finished\"\n",
    ")\n",
    "# batched_futures_stream = successful_futures_stream.rate_limit(0.0004).timed_window(1)\n",
    "# gathered_futures_stream = streamz.buffer(batched_futures_stream, 10).gather_and_cancel(client=client, cancel=True)\n",
    "# batched_futures_stream = successful_futures_stream.timed_window(1)\n",
    "batched_futures_stream = successful_futures_stream.rate_limit(0.01).timed_window(5)\n",
    "buffered_futures_stream = (\n",
    "    batched_futures_stream  # streamz.buffer(batched_futures_stream, 10)\n",
    ")\n",
    "\n",
    "cancelled_futures = set()\n",
    "gathered_futures_stream = buffered_futures_stream.gather_and_cancel(\n",
    "    client=client,\n",
    "    gather=True,\n",
    "    cancel=True,\n",
    "    timeout=4,\n",
    "    timeout_func=timeout_func,\n",
    "    success_func=cancelled_futures.update,\n",
    ")\n",
    "# gathered_futures_stream.flatten().sink(partial(workflow.sink_to_arrow, sinks=stream_sinks, writers=stream_writers, output_func=lambda i: pa.OSFile(output_filename.format(i), 'w')))\n",
    "write_failures = []\n",
    "flattened_futures_stream = gathered_futures_stream.flatten()\n",
    "writer_stream = (\n",
    "    flattened_futures_stream  # .timed_window(10).map(lambda x: list(zip(*x)))\n",
    ")\n",
    "sink_func = partial(\n",
    "    workflow.sink_to_arrow,\n",
    "    sinks=stream_sinks,\n",
    "    writers=stream_writers,\n",
    "    output_func=lambda i: pa.OSFile(output_filename.format(i), \"w\"),\n",
    ")\n",
    "# sink_func = partial(client.loop.run_in_executor, None, sink_func)\n",
    "# writer_stream.with_timeout(timeout=3, retries=2, failure_func=write_failures.append).sink(sink_func)\n",
    "writer_stream.sink(sink_func)\n",
    "# stored_data = writer_stream.sink_to_list()\n",
    "\n",
    "# finished_futures_stream.sink(excepts(StopIteration, lambda x: new_futures_stream.emit(next(analysis_futures_iter)) if should_add_task()))\n",
    "# new_futures_stream.sink_to_list()\n",
    "all_futures = set()\n",
    "finished_futures = set()\n",
    "new_futures_stream.sink(lambda x: all_futures.add(x))\n",
    "successful_futures_stream.sink(lambda x: finished_futures.add(x))\n",
    "\n",
    "TASK_BUFFER_SIZE = 10000\n",
    "\n",
    "# def should_add_task():\n",
    "#     #return len([f for f in all_futures if f.status == 'pending'])\n",
    "#     #return TASK_BUFFER_SIZE > len(all_futures - finished_futures)\n",
    "#     return TASK_BUFFER_SIZE > len(all_futures - cancelled_futures)\n",
    "#     #print('>',len(all_futures - finished_futures))\n",
    "#     #return True\n",
    "\n",
    "# def readd_task(x):\n",
    "#     if should_add_task():\n",
    "#         return new_futures_stream.emit(next(analysis_futures_iter))\n",
    "\n",
    "\n",
    "def readd_task(x):\n",
    "    num_tasks_needed = TASK_BUFFER_SIZE - len(\n",
    "        all_futures - cancelled_futures - errored_futures\n",
    "    )\n",
    "    if num_tasks_needed > 0:\n",
    "        for future in take(num_tasks_needed, analysis_futures_iter):\n",
    "            new_futures_stream.emit(future)\n",
    "\n",
    "\n",
    "finished_futures_stream.sink(excepts(StopIteration, readd_task))\n",
    "\n",
    "# ac.update(take(3000, analysis_futures_iter))\n",
    "for future in take(TASK_BUFFER_SIZE, analysis_futures_iter):\n",
    "    new_futures_stream.emit(future)\n",
    "\n",
    "gather_func = workflow.gather_stream(finished_futures_stream, ac)\n",
    "gather_task = client.loop.asyncio_loop.create_task(gather_func)"
   ]
  },
  {
   "cell_type": "markdown",
   "id": "37",
   "metadata": {},
   "source": [
    "# Old trench detection"
   ]
  },
  {
   "cell_type": "code",
   "execution_count": null,
   "id": "38",
   "metadata": {},
   "outputs": [],
   "source": [
    "%%time\n",
    "find_trenches_diag = diagnostics.wrap_diagnostics(\n",
    "    trench_detection.find_trenches, ignore_exceptions=True, pandas=True\n",
    ")\n",
    "trench_info_futures = {\n",
    "    idx: client.submit(\n",
    "        find_trenches_diag, client.submit(workflow.get_nd2_frame, **idx._asdict())\n",
    "    )\n",
    "    for idx, row in util.iter_index(frames_to_process)\n",
    "}"
   ]
  },
  {
   "cell_type": "code",
   "execution_count": null,
   "id": "39",
   "metadata": {},
   "outputs": [],
   "source": [
    "progress(trench_info_futures)"
   ]
  },
  {
   "cell_type": "code",
   "execution_count": null,
   "id": "40",
   "metadata": {},
   "outputs": [],
   "source": [
    "client.cancel(trench_info_futures)"
   ]
  },
  {
   "cell_type": "code",
   "execution_count": null,
   "id": "41",
   "metadata": {},
   "outputs": [],
   "source": [
    "%%time\n",
    "trench_info = util.apply_map_futures(\n",
    "    client.gather, trench_info_futures, predicate=lambda x: x.status == \"finished\"\n",
    ")"
   ]
  },
  {
   "cell_type": "code",
   "execution_count": null,
   "id": "42",
   "metadata": {},
   "outputs": [],
   "source": [
    "%%time\n",
    "trench_points, trench_diag, trench_err = workflow.unzip_trench_info(trench_info)"
   ]
  },
  {
   "cell_type": "code",
   "execution_count": null,
   "id": "43",
   "metadata": {},
   "outputs": [],
   "source": [
    "len(trench_points)"
   ]
  },
  {
   "cell_type": "markdown",
   "id": "44",
   "metadata": {},
   "source": [
    "# Segmentation"
   ]
  },
  {
   "cell_type": "code",
   "execution_count": null,
   "id": "45",
   "metadata": {},
   "outputs": [],
   "source": [
    "bad_angle = trench_diag[\"find_trench_lines.hough_2.angle\"].abs() > 2\n",
    "bad_angle.sum()"
   ]
  },
  {
   "cell_type": "code",
   "execution_count": null,
   "id": "46",
   "metadata": {},
   "outputs": [],
   "source": [
    "bad_pitch = (trench_diag[\"find_trench_lines.hough_2.peak_func.pitch\"] - 24).abs() > 1\n",
    "bad_pitch.sum()"
   ]
  },
  {
   "cell_type": "code",
   "execution_count": null,
   "id": "47",
   "metadata": {},
   "outputs": [],
   "source": [
    "selected = trench_diag[bad_pitch]  # trench_diag[bad_angle | bad_period]"
   ]
  },
  {
   "cell_type": "code",
   "execution_count": null,
   "id": "48",
   "metadata": {},
   "outputs": [],
   "source": [
    "frame_stream.event(_df=selected.index.to_frame(index=False))"
   ]
  },
  {
   "cell_type": "code",
   "execution_count": null,
   "id": "49",
   "metadata": {},
   "outputs": [],
   "source": [
    "%%time\n",
    "trench_points_good = trench_points[~util.multi_join(trench_points.index, bad_pitch)]"
   ]
  },
  {
   "cell_type": "code",
   "execution_count": null,
   "id": "50",
   "metadata": {},
   "outputs": [],
   "source": [
    "(len(trench_points_good), len(trench_points_good) / len(trench_points))"
   ]
  },
  {
   "cell_type": "code",
   "execution_count": null,
   "id": "51",
   "metadata": {},
   "outputs": [],
   "source": [
    "%%time\n",
    "trench_bbox_futures = []\n",
    "for _, trenches in trench_points_good.groupby([\"filename\", \"position\", \"t\"]):\n",
    "    trench_bbox_futures.append(\n",
    "        client.submit(workflow.get_trench_bboxes, trenches, image_limits)\n",
    "    )"
   ]
  },
  {
   "cell_type": "code",
   "execution_count": null,
   "id": "52",
   "metadata": {},
   "outputs": [],
   "source": [
    "%%time\n",
    "trench_bbox_results = util.apply_map_futures(\n",
    "    client.gather, trench_bbox_futures, predicate=lambda x: x.status == \"finished\"\n",
    ")\n",
    "trench_bboxes = pd.concat(\n",
    "    [trench_points_good, pd.concat(trench_bbox_results, axis=0)], axis=1\n",
    ")"
   ]
  },
  {
   "cell_type": "code",
   "execution_count": null,
   "id": "53",
   "metadata": {},
   "outputs": [],
   "source": [
    "%%time\n",
    "%store trench_bboxes"
   ]
  },
  {
   "cell_type": "code",
   "execution_count": null,
   "id": "54",
   "metadata": {},
   "outputs": [],
   "source": [
    "%store -r trench_bboxes"
   ]
  },
  {
   "cell_type": "code",
   "execution_count": null,
   "id": "55",
   "metadata": {},
   "outputs": [],
   "source": [
    "trench_bboxes_t0 = util.get_one(trench_bboxes.groupby(\"t\"))[1]\n",
    "# trench_bboxes_t0.index = trench_points_good_t0.index.droplevel('t')"
   ]
  },
  {
   "cell_type": "code",
   "execution_count": null,
   "id": "56",
   "metadata": {},
   "outputs": [],
   "source": [
    "selected_trenches_segmentation = trench_bboxes_t0[\n",
    "    trench_bboxes_t0[(\"info\", \"hough_value\")] > 90\n",
    "].loc[IDX[:, :, [\"MCHERRY\"], 0, :, :], :]"
   ]
  },
  {
   "cell_type": "code",
   "execution_count": null,
   "id": "57",
   "metadata": {},
   "outputs": [],
   "source": [
    "selected_trenches_segmentation.index = selected_trenches_segmentation.index.droplevel(\n",
    "    \"channel\"\n",
    ")"
   ]
  },
  {
   "cell_type": "code",
   "execution_count": null,
   "id": "58",
   "metadata": {},
   "outputs": [],
   "source": [
    "(len(trench_bboxes_t0), len(selected_trenches_segmentation) / len(trench_bboxes_t0))"
   ]
  },
  {
   "cell_type": "code",
   "execution_count": null,
   "id": "59",
   "metadata": {},
   "outputs": [],
   "source": [
    "# frames_to_analyze = all_frames.loc[IDX[:,:1,['MCHERRY','YFP'],1:5],:]\n",
    "frames_to_analyze = all_frames.loc[IDX[:, :, [\"MCHERRY\", \"YFP\"], :], :]"
   ]
  },
  {
   "cell_type": "code",
   "execution_count": null,
   "id": "60",
   "metadata": {},
   "outputs": [],
   "source": [
    "(\n",
    "    len(frames_to_analyze),\n",
    "    len(all_frames.loc[IDX[:, :, [\"MCHERRY\", \"YFP\"], :], :]) / len(frames_to_analyze),\n",
    ")"
   ]
  },
  {
   "cell_type": "markdown",
   "id": "61",
   "metadata": {},
   "source": [
    "## New analysis"
   ]
  },
  {
   "cell_type": "code",
   "execution_count": null,
   "id": "62",
   "metadata": {},
   "outputs": [],
   "source": [
    "pixelwise_funcs = {\n",
    "    \"mean\": np.mean,\n",
    "    \"min\": np.min,\n",
    "    \"max\": np.max,\n",
    "    (\"p0.3\", \"p0.5\", \"p0.7\", \"p0.9\", \"p0.95\"): partial(\n",
    "        np.percentile, q=(30, 50, 70, 90, 95)\n",
    "    ),\n",
    "}\n",
    "trenchwise_funcs = {\"sharpness\": image.sharpness, **pixelwise_funcs}\n",
    "\n",
    "\n",
    "def measurement_func(label_image, intensity_image):\n",
    "    eroded_label_image = (\n",
    "        util.repeat_apply(skimage.morphology.binary_erosion, 2)(label_image != 0)\n",
    "        * label_image\n",
    "    )\n",
    "    #     plt.figure(figsize=(10,10))\n",
    "    #     plt.imshow(label_image)\n",
    "    #     plt.show()\n",
    "    #     plt.figure(figsize=(10,10))\n",
    "    #     plt.imshow(eroded_label_image);0/0\n",
    "    if intensity_image is None:\n",
    "        minlength = label_image.max() + 1\n",
    "        mask_labelwise_df = pd.DataFrame(\n",
    "            {\n",
    "                (\"noerode\", \"size\"): np.bincount(label_image.flat, minlength=minlength),\n",
    "                (\"erode3\", \"size\"): np.bincount(\n",
    "                    eroded_label_image.flat, minlength=minlength\n",
    "                ),\n",
    "            }\n",
    "        )\n",
    "        mask_labelwise_df.index.name = \"label\"\n",
    "        return dict(mask_labelwise=mask_labelwise_df)\n",
    "    labelwise = {\n",
    "        \"noerode\": workflow.map_frame_over_labels(\n",
    "            pixelwise_funcs, label_image, intensity_image\n",
    "        ),\n",
    "        \"erode3\": workflow.map_frame_over_labels(\n",
    "            pixelwise_funcs, eroded_label_image, intensity_image\n",
    "        ),\n",
    "    }\n",
    "    trenchwise_df = workflow.map_frame(trenchwise_funcs, intensity_image)\n",
    "    labelwise_df = pd.concat(labelwise, axis=1)\n",
    "    return dict(trenchwise=trenchwise_df, labelwise=labelwise_df)\n",
    "\n",
    "\n",
    "def _measure(\n",
    "    trenches,\n",
    "    frames,\n",
    "    measurement_func,\n",
    "    segmentation_channel=\"MCHERRY\",\n",
    "    measure_channels=None,\n",
    "    segmentation_func=trench_segmentation.watershed.segment_trench,\n",
    "    include_frame=True,\n",
    "    frame_bits=8,\n",
    "    frame_downsample=4,\n",
    "    filename=None,\n",
    "    position=None,\n",
    "):\n",
    "    frame_transformation = compose(\n",
    "        processing.zarrify,\n",
    "        partial(image.quantize, bits=frame_bits),\n",
    "        partial(image.downsample, factor=frame_downsample),\n",
    "    )\n",
    "    trench_crops = processing._get_trench_crops(\n",
    "        trenches,\n",
    "        frames,\n",
    "        include_frame=include_frame,\n",
    "        frame_transformation=frame_transformation,\n",
    "        filename=filename,\n",
    "        position=position,\n",
    "    )\n",
    "    flattened_crops = {\n",
    "        (*k[0], *k[1:]): v\n",
    "        for k, v in util.flatten_dict(trench_crops).items()\n",
    "        if k[0] != \"_frame\"\n",
    "    }\n",
    "    segmentation_masks = {}\n",
    "    measurements = {}\n",
    "    # segment\n",
    "    for (trench_set, trench_idx, channel, t), crop in flattened_crops.items():\n",
    "        if measure_channels is not None and channel not in measure_channels:\n",
    "            continue\n",
    "        segmentation_key = (trench_set, trench_idx, segmentation_channel, t)\n",
    "        segmentation_mask = segmentation_masks.get(segmentation_key, None)\n",
    "        if segmentation_mask is None:\n",
    "            segmentation_masks[segmentation_key] = segmentation_func(\n",
    "                flattened_crops[segmentation_key]\n",
    "            )\n",
    "            # measure mask\n",
    "            measurements[(\"mask\", (trench_set, trench_idx, t))] = measurement_func(\n",
    "                segmentation_masks[segmentation_key], None\n",
    "            )\n",
    "        # measure\n",
    "        measurements[(channel, (trench_set, trench_idx, t))] = measurement_func(\n",
    "            segmentation_masks[segmentation_key], crop\n",
    "        )\n",
    "    measurement_dfs = util.map_dict_levels(lambda k: (k[1], k[0], *k[2:]), measurements)\n",
    "    for name, dfs in measurement_dfs.items():\n",
    "        dfs = util.unflatten_dict(dfs)\n",
    "        if isinstance(util.get_one(dfs, level=2), pd.Series):\n",
    "            df = pd.concat(\n",
    "                {\n",
    "                    channel: pd.concat(channel_dfs, axis=1).T\n",
    "                    for channel, channel_dfs in dfs.items()\n",
    "                },\n",
    "                axis=1,\n",
    "            )\n",
    "        else:\n",
    "            df = pd.concat(\n",
    "                {\n",
    "                    channel: pd.concat(channel_dfs, axis=0)\n",
    "                    for channel, channel_dfs in dfs.items()\n",
    "                },\n",
    "                axis=1,\n",
    "            )\n",
    "        df.index.names = [\"trench_set\", \"trench\", \"t\", *df.index.names[3:]]\n",
    "        measurement_dfs[name] = df\n",
    "    images = dict(\n",
    "        raw=trench_crops, segmentation=util.unflatten_dict(segmentation_masks)\n",
    "    )\n",
    "    return dict(measurements=measurement_dfs, images=images)\n",
    "\n",
    "\n",
    "measure = processing.iterate_over_groupby([\"filename\", \"position\"])(_measure)"
   ]
  },
  {
   "cell_type": "code",
   "execution_count": null,
   "id": "63",
   "metadata": {},
   "outputs": [],
   "source": [
    "def filename_func(extension=None, kind=None, name=None, filename=None, position=None):\n",
    "    components = [s for s in (\"\", name, extension) if s is not None]\n",
    "    return os.path.join(\n",
    "        f\"{filename}.{kind}\", \"pos{:d}\".format(position) + \".\".join(components)\n",
    "    )"
   ]
  },
  {
   "cell_type": "code",
   "execution_count": null,
   "id": "64",
   "metadata": {},
   "outputs": [],
   "source": [
    "pos = slice(None)  # slice(0, 2)\n",
    "selected_trenches_segmentation2 = selected_trenches_segmentation.loc[\n",
    "    IDX[[\"/n/scratch2/jqs1/fidelity/all/180405_txnerr002.nd2\"], pos, :, :, :], :\n",
    "]\n",
    "frames_to_analyze2 = frames_to_analyze.loc[\n",
    "    IDX[[\"/n/scratch2/jqs1/fidelity/all/180405_txnerr002.nd2\"], pos], :\n",
    "]\n",
    "_measure_and_write = compose(\n",
    "    partial(\n",
    "        processing.write_images_and_measurements,\n",
    "        filename_func=filename_func,\n",
    "        dataframe_format=\"parquet\",\n",
    "    ),\n",
    "    measure,\n",
    ")\n",
    "# measure_and_write = processing.iterate_over_groupby(['filename', 'position'])(_measure_and_write)\n",
    "measure_and_write = processing.iterate_over_groupby([\"filename\", \"position\"])(\n",
    "    partial(client.submit, compose(util.return_none, _measure_and_write))\n",
    ")\n",
    "futures = measure_and_write(\n",
    "    selected_trenches_segmentation2, frames_to_analyze2, measurement_func\n",
    ")"
   ]
  },
  {
   "cell_type": "code",
   "execution_count": null,
   "id": "65",
   "metadata": {},
   "outputs": [],
   "source": [
    "errors = list(\n",
    "    util.apply_map_futures(\n",
    "        list, futures, predicate=lambda x: x.status == \"error\"\n",
    "    ).values()\n",
    ")"
   ]
  },
  {
   "cell_type": "code",
   "execution_count": null,
   "id": "66",
   "metadata": {},
   "outputs": [],
   "source": [
    "errors[0].result()"
   ]
  },
  {
   "cell_type": "code",
   "execution_count": null,
   "id": "67",
   "metadata": {},
   "outputs": [],
   "source": [
    "%%time\n",
    "d = pq.read_pandas(\n",
    "    \"/n/scratch2/jqs1/fidelity/all/180405_txnerr002.nd2.measurements/pos0.labelwise.parquet\"\n",
    ").to_pandas()"
   ]
  },
  {
   "cell_type": "code",
   "execution_count": null,
   "id": "68",
   "metadata": {},
   "outputs": [],
   "source": [
    "d"
   ]
  },
  {
   "cell_type": "code",
   "execution_count": null,
   "id": "69",
   "metadata": {},
   "outputs": [],
   "source": [
    "d.index.get_level_values(\"trench\")"
   ]
  },
  {
   "cell_type": "code",
   "execution_count": null,
   "id": "70",
   "metadata": {},
   "outputs": [],
   "source": [
    "%%time\n",
    "d = pa.open_file(\n",
    "    \"/n/scratch2/jqs1/fidelity/all/180405_txnerr002.nd2.measurements/pos1.labelwise.arrow\"\n",
    ").read_pandas()"
   ]
  },
  {
   "cell_type": "code",
   "execution_count": null,
   "id": "71",
   "metadata": {},
   "outputs": [],
   "source": [
    "d"
   ]
  },
  {
   "cell_type": "markdown",
   "id": "72",
   "metadata": {},
   "source": [
    "## Streaming gather"
   ]
  },
  {
   "cell_type": "code",
   "execution_count": null,
   "id": "73",
   "metadata": {},
   "outputs": [],
   "source": [
    "%%time\n",
    "ac = distributed.as_completed([], with_results=False, loop=client.loop)\n",
    "\n",
    "new_futures_stream = streamz.Stream()\n",
    "finished_futures_stream = streamz.Stream(asynchronous=True, loop=client.loop)\n",
    "\n",
    "stream_sinks = {}\n",
    "stream_writers = {}\n",
    "output_filename = \"/n/scratch2/jqs1/fidelity/all/output/analysis_full_stream11_{}.arrow\"\n",
    "\n",
    "new_futures_stream.sink(lambda x: ac.add(x))\n",
    "\n",
    "errored_futures = set()\n",
    "finished_futures_stream.filter(lambda x: x.status == \"error\").sink(\n",
    "    lambda x: errored_futures.add(x)\n",
    ")\n",
    "\n",
    "\n",
    "def timeout_func(futures):\n",
    "    ac.update(futures)\n",
    "\n",
    "\n",
    "successful_futures_stream = finished_futures_stream.filter(\n",
    "    lambda x: x.status == \"finished\"\n",
    ")\n",
    "# batched_futures_stream = successful_futures_stream.rate_limit(0.0004).timed_window(1)\n",
    "# gathered_futures_stream = streamz.buffer(batched_futures_stream, 10).gather_and_cancel(client=client, cancel=True)\n",
    "# batched_futures_stream = successful_futures_stream.timed_window(1)\n",
    "batched_futures_stream = successful_futures_stream.rate_limit(0.01).timed_window(5)\n",
    "buffered_futures_stream = (\n",
    "    batched_futures_stream  # streamz.buffer(batched_futures_stream, 10)\n",
    ")\n",
    "\n",
    "cancelled_futures = set()\n",
    "gathered_futures_stream = buffered_futures_stream.gather_and_cancel(\n",
    "    client=client,\n",
    "    gather=True,\n",
    "    cancel=True,\n",
    "    timeout=4,\n",
    "    timeout_func=timeout_func,\n",
    "    success_func=cancelled_futures.update,\n",
    ")\n",
    "# gathered_futures_stream.flatten().sink(partial(workflow.sink_to_arrow, sinks=stream_sinks, writers=stream_writers, output_func=lambda i: pa.OSFile(output_filename.format(i), 'w')))\n",
    "write_failures = []\n",
    "flattened_futures_stream = gathered_futures_stream.flatten()\n",
    "writer_stream = (\n",
    "    flattened_futures_stream  # .timed_window(10).map(lambda x: list(zip(*x)))\n",
    ")\n",
    "sink_func = partial(\n",
    "    workflow.sink_to_arrow,\n",
    "    sinks=stream_sinks,\n",
    "    writers=stream_writers,\n",
    "    output_func=lambda i: pa.OSFile(output_filename.format(i), \"w\"),\n",
    ")\n",
    "# sink_func = partial(client.loop.run_in_executor, None, sink_func)\n",
    "# writer_stream.with_timeout(timeout=3, retries=2, failure_func=write_failures.append).sink(sink_func)\n",
    "writer_stream.sink(sink_func)\n",
    "# stored_data = writer_stream.sink_to_list()\n",
    "\n",
    "# finished_futures_stream.sink(excepts(StopIteration, lambda x: new_futures_stream.emit(next(analysis_futures_iter)) if should_add_task()))\n",
    "# new_futures_stream.sink_to_list()\n",
    "all_futures = set()\n",
    "finished_futures = set()\n",
    "new_futures_stream.sink(lambda x: all_futures.add(x))\n",
    "successful_futures_stream.sink(lambda x: finished_futures.add(x))\n",
    "\n",
    "TASK_BUFFER_SIZE = 10000\n",
    "\n",
    "# def should_add_task():\n",
    "#     #return len([f for f in all_futures if f.status == 'pending'])\n",
    "#     #return TASK_BUFFER_SIZE > len(all_futures - finished_futures)\n",
    "#     return TASK_BUFFER_SIZE > len(all_futures - cancelled_futures)\n",
    "#     #print('>',len(all_futures - finished_futures))\n",
    "#     #return True\n",
    "\n",
    "# def readd_task(x):\n",
    "#     if should_add_task():\n",
    "#         return new_futures_stream.emit(next(analysis_futures_iter))\n",
    "\n",
    "\n",
    "def readd_task(x):\n",
    "    num_tasks_needed = TASK_BUFFER_SIZE - len(\n",
    "        all_futures - cancelled_futures - errored_futures\n",
    "    )\n",
    "    if num_tasks_needed > 0:\n",
    "        for future in take(num_tasks_needed, analysis_futures_iter):\n",
    "            new_futures_stream.emit(future)\n",
    "\n",
    "\n",
    "finished_futures_stream.sink(excepts(StopIteration, readd_task))\n",
    "\n",
    "# ac.update(take(3000, analysis_futures_iter))\n",
    "for future in take(TASK_BUFFER_SIZE, analysis_futures_iter):\n",
    "    new_futures_stream.emit(future)\n",
    "\n",
    "gather_func = workflow.gather_stream(finished_futures_stream, ac)\n",
    "gather_task = client.loop.asyncio_loop.create_task(gather_func)"
   ]
  },
  {
   "cell_type": "code",
   "execution_count": null,
   "id": "74",
   "metadata": {},
   "outputs": [],
   "source": [
    "ac.count()"
   ]
  },
  {
   "cell_type": "code",
   "execution_count": null,
   "id": "75",
   "metadata": {},
   "outputs": [],
   "source": [
    "gather_task"
   ]
  },
  {
   "cell_type": "code",
   "execution_count": null,
   "id": "76",
   "metadata": {},
   "outputs": [],
   "source": [
    "for future in take(5000, analysis_futures_iter):\n",
    "    new_futures_stream.emit(future)\n",
    "gather_func = workflow.gather_stream(finished_futures_stream, ac)\n",
    "gather_task = client.loop.asyncio_loop.create_task(gather_func)"
   ]
  },
  {
   "cell_type": "code",
   "execution_count": null,
   "id": "77",
   "metadata": {},
   "outputs": [],
   "source": [
    "gather_task.cancel()\n",
    "client.cancel(all_futures)"
   ]
  },
  {
   "cell_type": "code",
   "execution_count": null,
   "id": "78",
   "metadata": {},
   "outputs": [],
   "source": [
    "cluster.scale(200)"
   ]
  },
  {
   "cell_type": "code",
   "execution_count": null,
   "id": "79",
   "metadata": {},
   "outputs": [],
   "source": [
    "len(all_futures)"
   ]
  },
  {
   "cell_type": "code",
   "execution_count": null,
   "id": "80",
   "metadata": {},
   "outputs": [],
   "source": [
    "errored_futures[-1].result()"
   ]
  },
  {
   "cell_type": "code",
   "execution_count": null,
   "id": "81",
   "metadata": {},
   "outputs": [],
   "source": [
    "%%time\n",
    "pa.open_stream(stream_sinks[2].r()).read_pandas()"
   ]
  },
  {
   "cell_type": "code",
   "execution_count": null,
   "id": "82",
   "metadata": {},
   "outputs": [],
   "source": [
    "util.apply_map_futures(\n",
    "    client.gather, analysis_futures, predicate=lambda x: x.status == \"error\"\n",
    ")"
   ]
  },
  {
   "cell_type": "markdown",
   "id": "83",
   "metadata": {},
   "source": [
    "# Analysis"
   ]
  },
  {
   "cell_type": "markdown",
   "id": "84",
   "metadata": {},
   "source": [
    "## Load data"
   ]
  },
  {
   "cell_type": "code",
   "execution_count": null,
   "id": "85",
   "metadata": {},
   "outputs": [],
   "source": [
    "%%time\n",
    "framewise_df = data_io.read_parquet(\n",
    "    \"/n/scratch2/jqs1/fidelity/all/output/analysis_full_stream11_0.sorted.parquet4\"\n",
    ").to_pandas()"
   ]
  },
  {
   "cell_type": "code",
   "execution_count": null,
   "id": "86",
   "metadata": {},
   "outputs": [],
   "source": [
    "%%time\n",
    "trenchwise_df = data_io.read_parquet(\n",
    "    \"/n/scratch2/jqs1/fidelity/all/output/analysis_full_stream11_1.sorted.parquet4\"\n",
    ").to_pandas()"
   ]
  },
  {
   "cell_type": "code",
   "execution_count": null,
   "id": "87",
   "metadata": {},
   "outputs": [],
   "source": [
    "trenchwise_df.columns = [\"/\".join(col).strip() for col in trenchwise_df.columns.values]"
   ]
  },
  {
   "cell_type": "code",
   "execution_count": null,
   "id": "88",
   "metadata": {},
   "outputs": [],
   "source": [
    "cols = [\n",
    "    \"filename\",\n",
    "    \"position\",\n",
    "    \"channel\",\n",
    "    \"t\",\n",
    "    \"trench_set\",\n",
    "    \"trench\",\n",
    "    \"label\",\n",
    "    \"('YFP', 'labelwise', 'p0.9')\",\n",
    "    \"('MCHERRY', 'labelwise', 'p0.9')\",\n",
    "    \"('YFP', 'regionprops', 'area')\",\n",
    "]"
   ]
  },
  {
   "cell_type": "code",
   "execution_count": null,
   "id": "89",
   "metadata": {},
   "outputs": [],
   "source": [
    "%%time\n",
    "labelwise_df = data_io.read_parquet(\n",
    "    \"/n/scratch2/jqs1/fidelity/all/output/analysis_full_stream11_2.sorted3.parquet4\",\n",
    "    columns=cols,\n",
    ").to_pandas()"
   ]
  },
  {
   "cell_type": "code",
   "execution_count": null,
   "id": "90",
   "metadata": {},
   "outputs": [],
   "source": [
    "# TODO: otherwise computing is_unique is costly when we want to get_loc with full key\n",
    "labelwise_df.index.__dict__[\"_cache\"] = {\"lexsort_depth\": 6, \"is_unique\": True}\n",
    "# labelwise_df.index.lexsort_depth # prime the cache\n",
    "# if '_cache' not in labelwise_df.index.__dict__:\n",
    "#     labelwise_df.index.__dict__['_cache'] = {}\n",
    "# labelwise_df.index._cache['is_unique'] = True"
   ]
  },
  {
   "cell_type": "code",
   "execution_count": null,
   "id": "91",
   "metadata": {},
   "outputs": [],
   "source": [
    "labelwise_df.columns = [\"/\".join(col).strip() for col in labelwise_df.columns.values]"
   ]
  },
  {
   "cell_type": "markdown",
   "id": "92",
   "metadata": {},
   "source": [
    "## Burst detection"
   ]
  },
  {
   "cell_type": "code",
   "execution_count": null,
   "id": "93",
   "metadata": {},
   "outputs": [],
   "source": [
    "yfp = \"YFP/labelwise/p0.9\"\n",
    "mcherry = \"MCHERRY/labelwise/p0.9\"\n",
    "area = \"YFP/regionprops/area\"\n",
    "trench_key = [\"filename\", \"position\", \"trench_set\", \"trench\"]\n",
    "trench_t_key = [\"filename\", \"position\", \"trench_set\", \"trench\", \"t\"]"
   ]
  },
  {
   "cell_type": "code",
   "execution_count": null,
   "id": "94",
   "metadata": {},
   "outputs": [],
   "source": [
    "%%time\n",
    "# labelwise_selected = labelwise_df.loc[IDX['/n/scratch2/jqs1/fidelity/all/TrErr002_noBF.nd2',:],:]\n",
    "labelwise_selected = labelwise_df.loc[\n",
    "    IDX[\"/n/scratch2/jqs1/fidelity/all/180405_txnerr_loweronly_fast.nd2\", :], :\n",
    "]\n",
    "# labelwise_selected = labelwise_df.loc[IDX['/n/scratch2/jqs1/fidelity/all/180405_txnerr002.nd2.nd2',:],:]"
   ]
  },
  {
   "cell_type": "code",
   "execution_count": null,
   "id": "95",
   "metadata": {},
   "outputs": [],
   "source": [
    "len(labelwise_df) / len(labelwise_selected)"
   ]
  },
  {
   "cell_type": "code",
   "execution_count": null,
   "id": "96",
   "metadata": {},
   "outputs": [],
   "source": [
    "# col = 'YFP/p0.3'\n",
    "# trenchwise_yfp_bg = trenchwise_df[col].rename(col+'_trenchwise')"
   ]
  },
  {
   "cell_type": "code",
   "execution_count": null,
   "id": "97",
   "metadata": {},
   "outputs": [],
   "source": [
    "%%time\n",
    "background = labelwise_selected.loc[IDX[:, :, :, :, :, 0], [yfp, mcherry]]\n",
    "background.index = background.index.droplevel(\"label\")\n",
    "background.columns = [c + \"_bg\" for c in background.columns]"
   ]
  },
  {
   "cell_type": "code",
   "execution_count": null,
   "id": "98",
   "metadata": {},
   "outputs": [],
   "source": [
    "%%time\n",
    "cell_sized = labelwise_selected[labelwise_selected[area].between(100, 200)].loc[\n",
    "    IDX[:, :, :, :, :, 1:], :\n",
    "]"
   ]
  },
  {
   "cell_type": "code",
   "execution_count": null,
   "id": "99",
   "metadata": {},
   "outputs": [],
   "source": [
    "%%time\n",
    "trench_t_median = cell_sized.groupby(trench_t_key).median()\n",
    "trench_t_median.columns = [c + \"_trench_t_median\" for c in trench_t_median.columns]"
   ]
  },
  {
   "cell_type": "code",
   "execution_count": null,
   "id": "100",
   "metadata": {},
   "outputs": [],
   "source": [
    "%%time\n",
    "trench_median = cell_sized.groupby(trench_key).median()\n",
    "trench_median.columns = [c + \"_trench_median\" for c in trench_median.columns]"
   ]
  },
  {
   "cell_type": "code",
   "execution_count": null,
   "id": "101",
   "metadata": {},
   "outputs": [],
   "source": [
    "%%time\n",
    "with_bg = util.multi_join(cell_sized, background)"
   ]
  },
  {
   "cell_type": "code",
   "execution_count": null,
   "id": "102",
   "metadata": {},
   "outputs": [],
   "source": [
    "%%time\n",
    "with_bg = util.multi_join(with_bg, trench_t_median)"
   ]
  },
  {
   "cell_type": "code",
   "execution_count": null,
   "id": "103",
   "metadata": {},
   "outputs": [],
   "source": [
    "%%time\n",
    "with_bg = util.multi_join(with_bg, trench_median)"
   ]
  },
  {
   "cell_type": "code",
   "execution_count": null,
   "id": "104",
   "metadata": {},
   "outputs": [],
   "source": [
    "%%time\n",
    "bright_ts_median_t = pd.DataFrame(\n",
    "    {\n",
    "        \"bright_ts_median_t_{}\".format(thresh): (\n",
    "            (with_bg[yfp] - with_bg[yfp + \"_trench_t_median\"]) >= thresh\n",
    "        )\n",
    "        .groupby(trench_key)\n",
    "        .sum()\n",
    "        for thresh in (\n",
    "            5,\n",
    "            8,\n",
    "            10,\n",
    "            20,\n",
    "            30,\n",
    "            50,\n",
    "        )\n",
    "    }\n",
    ")"
   ]
  },
  {
   "cell_type": "code",
   "execution_count": null,
   "id": "105",
   "metadata": {},
   "outputs": [],
   "source": [
    "%%time\n",
    "bright_ts_median = pd.DataFrame(\n",
    "    {\n",
    "        \"bright_ts_median_{}\".format(thresh): (\n",
    "            (with_bg[yfp] - with_bg[yfp + \"_trench_median\"]) >= thresh\n",
    "        )\n",
    "        .groupby(trench_key)\n",
    "        .sum()\n",
    "        for thresh in (\n",
    "            5,\n",
    "            8,\n",
    "            10,\n",
    "            20,\n",
    "            30,\n",
    "            50,\n",
    "        )\n",
    "    }\n",
    ")"
   ]
  },
  {
   "cell_type": "code",
   "execution_count": null,
   "id": "106",
   "metadata": {},
   "outputs": [],
   "source": [
    "%%time\n",
    "bright_ts_bg = pd.DataFrame(\n",
    "    {\n",
    "        \"bright_ts_bg_{}\".format(thresh): (\n",
    "            (with_bg[yfp] - with_bg[yfp + \"_bg\"]) >= thresh\n",
    "        )\n",
    "        .groupby(trench_key)\n",
    "        .sum()\n",
    "        for thresh in (\n",
    "            5,\n",
    "            8,\n",
    "            10,\n",
    "            20,\n",
    "            30,\n",
    "            50,\n",
    "        )\n",
    "    }\n",
    ")"
   ]
  },
  {
   "cell_type": "code",
   "execution_count": null,
   "id": "107",
   "metadata": {},
   "outputs": [],
   "source": [
    "len(bright_ts_median_t[bright_ts_median_t[\"bright_ts_median_t_50\"] > 1])"
   ]
  },
  {
   "cell_type": "code",
   "execution_count": null,
   "id": "108",
   "metadata": {},
   "outputs": [],
   "source": [
    "bright_ts_median_t[bright_ts_median_t[\"bright_ts_median_t_5\"] > 1].head()"
   ]
  },
  {
   "cell_type": "code",
   "execution_count": null,
   "id": "109",
   "metadata": {},
   "outputs": [],
   "source": [
    "%%time\n",
    "median_bg = background.groupby(trench_key).median()"
   ]
  },
  {
   "cell_type": "code",
   "execution_count": null,
   "id": "110",
   "metadata": {},
   "outputs": [],
   "source": [
    "bright_ts_all = util.multi_join(\n",
    "    util.multi_join(\n",
    "        util.multi_join(bright_ts_median_t, bright_ts_median), bright_ts_bg\n",
    "    ),\n",
    "    median_bg,\n",
    ")"
   ]
  },
  {
   "cell_type": "code",
   "execution_count": null,
   "id": "111",
   "metadata": {},
   "outputs": [],
   "source": [
    "%%time\n",
    "cell_sized_with_ts = util.multi_join(cell_sized, bright_ts_all)"
   ]
  },
  {
   "cell_type": "code",
   "execution_count": null,
   "id": "112",
   "metadata": {},
   "outputs": [],
   "source": [
    "%%time\n",
    "detected_bursts = cell_sized_with_ts[cell_sized_with_ts[\"bright_ts_median_t_20\"] >= 2]"
   ]
  },
  {
   "cell_type": "code",
   "execution_count": null,
   "id": "113",
   "metadata": {},
   "outputs": [],
   "source": [
    "%%time\n",
    "len(detected_bursts.groupby(trench_key))"
   ]
  },
  {
   "cell_type": "markdown",
   "id": "114",
   "metadata": {},
   "source": [
    "## New filter"
   ]
  },
  {
   "cell_type": "code",
   "execution_count": null,
   "id": "115",
   "metadata": {},
   "outputs": [],
   "source": [
    "%%time\n",
    "detected_bursts2 = cell_sized_with_ts[cell_sized_with_ts[\"bright_ts_bg_20\"] >= 2]"
   ]
  },
  {
   "cell_type": "code",
   "execution_count": null,
   "id": "116",
   "metadata": {},
   "outputs": [],
   "source": [
    "%%time\n",
    "len(detected_bursts2.groupby(trench_key))"
   ]
  },
  {
   "cell_type": "code",
   "execution_count": null,
   "id": "117",
   "metadata": {},
   "outputs": [],
   "source": [
    "cell_sized_with_ts.columns"
   ]
  },
  {
   "cell_type": "code",
   "execution_count": null,
   "id": "118",
   "metadata": {},
   "outputs": [],
   "source": [
    "x = cell_sized_with_ts[yfp + \"_bg\"]\n",
    "x[x < 180].hist(bins=50, log=True)"
   ]
  },
  {
   "cell_type": "code",
   "execution_count": null,
   "id": "119",
   "metadata": {},
   "outputs": [],
   "source": [
    "%%time\n",
    "# detected_bursts3 = cell_sized_with_ts[(cell_sized_with_ts[yfp+'_bg'] <= 200) & (cell_sized_with_ts['bright_ts_bg_20'] >= 2)]\n",
    "# detected_bursts3 = cell_sized_with_ts[(cell_sized_with_ts[yfp+'_bg'].between(120, 130)) & (cell_sized_with_ts['bright_ts_bg_20'] >= 1)]\n",
    "detected_bursts3 = cell_sized_with_ts[\n",
    "    (cell_sized_with_ts[\"bright_ts_median_t_50\"] >= 3)\n",
    "]"
   ]
  },
  {
   "cell_type": "code",
   "execution_count": null,
   "id": "120",
   "metadata": {},
   "outputs": [],
   "source": [
    "len(detected_bursts3)"
   ]
  },
  {
   "cell_type": "code",
   "execution_count": null,
   "id": "121",
   "metadata": {},
   "outputs": [],
   "source": [
    "%%time\n",
    "len(detected_bursts3.groupby(trench_key))"
   ]
  },
  {
   "cell_type": "markdown",
   "id": "122",
   "metadata": {},
   "source": [
    "## New visualization"
   ]
  },
  {
   "cell_type": "code",
   "execution_count": null,
   "id": "123",
   "metadata": {},
   "outputs": [],
   "source": [
    "LabelStream = ui.MultiIndexStream.define(\"LabelStream\", labelwise_df.index)\n",
    "label_stream = LabelStream()\n",
    "box = ui.dataframe_browser(label_stream)\n",
    "label_stream.event()\n",
    "box"
   ]
  },
  {
   "cell_type": "code",
   "execution_count": null,
   "id": "124",
   "metadata": {},
   "outputs": [],
   "source": [
    "%%output size=100\n",
    "%%opts Layout [normalize=False]\n",
    "hover = HoverTool(\n",
    "    tooltips=[\n",
    "        (\"(x,y)\", \"(@x{0[.]0}, @y{0[.]0})\"),\n",
    "        (\"value\", \"@z\"),\n",
    "    ]\n",
    ")\n",
    "# cb = compose(partial(ui.hover_image, hover), ui._trench_img, workflow.get_trench_image)\n",
    "cb = lambda v_max: compose(\n",
    "    partial(ui.hover_image, hover),\n",
    "    lambda x: x.redim.range(z=(0, v_max)),\n",
    "    ui._trench_img,\n",
    "    workflow.get_trench_image,\n",
    ")\n",
    "# cb = workflow.get_trench_image\n",
    "(\n",
    "    ui.trench_viewer(\n",
    "        trench_bboxes, label_stream, channel=\"MCHERRY\", image_callback=cb(5000)\n",
    "    )\n",
    "    + ui.trench_viewer(\n",
    "        trench_bboxes, label_stream, channel=\"YFP\", image_callback=cb(400)\n",
    "    )\n",
    ").cols(1)"
   ]
  },
  {
   "cell_type": "code",
   "execution_count": null,
   "id": "125",
   "metadata": {},
   "outputs": [],
   "source": [
    "groups = detected_bursts3.groupby(trench_key)\n",
    "group_set_keys = list(util.grouper(groups.groups.keys(), 5))\n",
    "group_index = pd.MultiIndex.from_tuples([(i,) for i in range(len(group_set_keys))])\n",
    "group_index.names = [\"group_set\"]"
   ]
  },
  {
   "cell_type": "code",
   "execution_count": null,
   "id": "126",
   "metadata": {},
   "outputs": [],
   "source": [
    "GroupStream = ui.MultiIndexStream.define(\"GroupStream\", group_index)\n",
    "group_stream = GroupStream()\n",
    "group_box = ui.dataframe_browser(group_stream)\n",
    "group_stream.event()\n",
    "group_box"
   ]
  },
  {
   "cell_type": "code",
   "execution_count": null,
   "id": "127",
   "metadata": {},
   "outputs": [],
   "source": [
    "%%output size=180\n",
    "sel = Selection1D()\n",
    "\n",
    "\n",
    "def callback(group_set):\n",
    "    df = pd.concat([groups.get_group(key) for key in group_set_keys[group_set]])\n",
    "    plot = hv.Scatter(\n",
    "        df,\n",
    "        kdims=[\"t\"],\n",
    "        vdims=[\n",
    "            \"YFP/labelwise/p0.9\",\n",
    "            \"filename\",\n",
    "            \"position\",\n",
    "            \"trench_set\",\n",
    "            \"trench\",\n",
    "            \"label\",\n",
    "        ],\n",
    "    )\n",
    "    tooltips = [\n",
    "        (\"t\", \"@t{0[.]0}\"),\n",
    "        # ('filename', '@filename'),\n",
    "        (\"trench\", \"@position.@trench_set.@trench\"),\n",
    "        (\"label\", \"@label\"),\n",
    "        (\"YFP\", \"@{YFP/labelwise/p0.9}{0[.]0}\"),\n",
    "    ]\n",
    "    hover = HoverTool(tooltips=tooltips)\n",
    "    tap = TapTool()\n",
    "    plot = plot.options(\n",
    "        \"Scatter\",\n",
    "        size=3,\n",
    "        color_index=\"trench\",\n",
    "        nonselection_alpha=0.3,\n",
    "        cmap=\"Category20\",\n",
    "        tools=[hover, tap],\n",
    "        show_legend=True,\n",
    "    )\n",
    "    # ui.selection_to_stream(plot, label_stream)\n",
    "    sel.clear()\n",
    "    sel.add_subscriber(\n",
    "        partial(\n",
    "            ui._selection_to_stream_callback,\n",
    "            data=plot.data,\n",
    "            keys=df.index.names,\n",
    "            stream=label_stream,\n",
    "        )\n",
    "    )\n",
    "    return plot\n",
    "\n",
    "\n",
    "p = hv.DynamicMap(callback, streams=[group_stream])\n",
    "sel.source = p\n",
    "p"
   ]
  },
  {
   "cell_type": "markdown",
   "id": "128",
   "metadata": {},
   "source": [
    "## Movie output"
   ]
  },
  {
   "cell_type": "code",
   "execution_count": null,
   "id": "129",
   "metadata": {},
   "outputs": [],
   "source": [
    "%%output backend='matplotlib'\n",
    "#%%opts Layout [normalize=False fig_inches=2 vspace=0 aspect_weight=1 sublabel_format='' tight=True title_format=\"{filename:}\\npos: {position:} trench: {trench_set:}.{trench:} t: {t:}\".format(**label_stream.contents) fontsize=20]\n",
    "#%%opts Scatter [aspect=6]\n",
    "key = tuple(getattr(label_stream, attr) for attr in trench_key)\n",
    "index = detected_bursts.groupby(trench_key).get_group(key).index\n",
    "ts = index._get_level_values(index._get_level_number(\"t\"), unique=True)\n",
    "# ts = list(range(3))\n",
    "\n",
    "movie = (\n",
    "    trench_movie(trench_bboxes, key, \"MCHERRY\", ts)\n",
    "    + trench_movie(trench_bboxes, key, \"YFP\", ts)\n",
    "    + scatter_movie(labelwise_df, label_stream.contents, ts)\n",
    "    * hv.HoloMap(\n",
    "        {t: hv.VLine(t).options(color=\"red\", backend=\"matplotlib\") for t in ts}\n",
    "    )\n",
    ").cols(1)\n",
    "movie2 = movie.options(\n",
    "    {\n",
    "        \"Layout\": dict(\n",
    "            normalize=False,\n",
    "            framewise=True,\n",
    "            fig_inches=7,\n",
    "            vspace=0,\n",
    "            aspect_weight=1,\n",
    "            sublabel_format=\"\",\n",
    "            tight=False,\n",
    "            fontsize=15,\n",
    "            title_format=\"{filename:}\\npos: {position:} trench: {trench_set:}.{trench:} t: {t:}\".format(\n",
    "                **label_stream.contents\n",
    "            ),\n",
    "        ),\n",
    "        \"Scatter\": dict(aspect=6, s=20),\n",
    "    },\n",
    "    backend=\"matplotlib\",\n",
    ")\n",
    "m = holomap_to_video(movie2, out=\"/tmp/jqsmovie.mp4\", size=100, dpi=100)"
   ]
  },
  {
   "cell_type": "code",
   "execution_count": null,
   "id": "130",
   "metadata": {},
   "outputs": [],
   "source": [
    "Video(\"/tmp/jqsmovie.mp4\", embed=True)"
   ]
  },
  {
   "cell_type": "code",
   "execution_count": null,
   "id": "131",
   "metadata": {},
   "outputs": [],
   "source": [
    "%%output backend='matplotlib'\n",
    "%%opts Layout [normalize=False fig_inches=2 vspace=0 aspect_weight=1 sublabel_format='' tight=True title_format=\"{filename:}\\npos: {position:} trench: {trench_set:}.{trench:} t: {t:}\".format(**label_stream.contents) fontsize=20]\n",
    "%%opts Scatter [aspect=6]\n",
    "key = tuple(getattr(label_stream, attr) for attr in trench_key)\n",
    "index = detected_bursts.groupby(trench_key).get_group(key).index\n",
    "# ts = index._get_level_values(index._get_level_number('t'), unique=True)\n",
    "ts = list(range(3))\n",
    "\n",
    "movie = (\n",
    "    trench_movie(trench_bboxes, key, \"MCHERRY\", ts)\n",
    "    + trench_movie(trench_bboxes, key, \"YFP\", ts)\n",
    "    + scatter_movie(labelwise_df, label_stream.contents, ts)\n",
    "    * hv.HoloMap(\n",
    "        {t: hv.VLine(t).options(color=\"red\", backend=\"matplotlib\") for t in ts}\n",
    "    )\n",
    ").cols(\n",
    "    1\n",

    ")  # .options('Layout', normalize=False)\n",
    "m = holomap_to_video(movie, out=\"/tmp/jqsmovie.mp4\")"
   ]
  },
  {
   "cell_type": "markdown",
   "id": "132",
   "metadata": {},
   "source": [
    "## Other viz"
   ]
  },
  {
   "cell_type": "code",
   "execution_count": null,
   "id": "133",
   "metadata": {},
   "outputs": [],
   "source": [
    "%%output size=180\n",
    "def cb(**kwargs):\n",
    "    df = workflow.select_dataframe(\n",
    "        labelwise_df, kwargs, t=slice(None), label=slice(None)\n",
    "    )\n",
    "    # df = workflow.select_dataframe(labelwise_df, kwargs, label=slice(None))\n",
    "    plot = hv.Scatter(\n",
    "        df,\n",
    "        kdims=[\"t\"],\n",
    "        vdims=[\n",
    "            \"YFP/labelwise/p0.9\",\n",
    "            \"filename\",\n",
    "            \"position\",\n",
    "            \"trench_set\",\n",
    "            \"trench\",\n",
    "            \"label\",\n",
    "        ],\n",
    "    )\n",
    "    tooltips = [\n",
    "        (\"t\", \"@t{0[.]0}\"),\n",
    "        # ('filename', '@filename'),\n",
    "        (\"trench\", \"@position.@trench_set.@trench\"),\n",
    "        (\"label\", \"@label\"),\n",
    "        (\"YFP\", \"@{YFP/labelwise/p0.9}{0[.]0}\"),\n",
    "    ]\n",
    "    hover = HoverTool(tooltips=tooltips)\n",
    "    plot = plot.options(\n",
    "        \"Scatter\",\n",
    "        size=3,\n",
    "        color_index=\"label\",\n",
    "        nonselection_alpha=0.3,\n",
    "        cmap=\"Category20\",\n",
    "        tools=[hover, \"tap\"],\n",
    "        show_legend=True,\n",
    "    )\n",
    "    return plot\n",
    "\n",
    "\n",
    "ui.viewer(cb, label_stream)"
   ]
  }
 ],
 "metadata": {
  "kernelspec": {
   "display_name": "Python 3",
   "language": "python",
   "name": "python3"
  },
  "language_info": {
   "codemirror_mode": {
    "name": "ipython",
    "version": 3
   },
   "file_extension": ".py",
   "mimetype": "text/x-python",
   "name": "python",
   "nbconvert_exporter": "python",
   "pygments_lexer": "ipython3",
   "version": "3.7.0"
  }
 },
 "nbformat": 4,
 "nbformat_minor": 2
}
