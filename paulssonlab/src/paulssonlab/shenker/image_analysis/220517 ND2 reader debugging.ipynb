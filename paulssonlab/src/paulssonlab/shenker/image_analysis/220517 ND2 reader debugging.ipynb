{
 "cells": [
  {
   "cell_type": "code",
   "execution_count": null,
   "id": "ea8dac31-40a7-4dfe-81fa-c5a9c83001eb",
   "metadata": {},
   "outputs": [],
   "source": [
    "import nd2"
   ]
  },
  {
   "cell_type": "code",
   "execution_count": null,
   "id": "8fd07e7a-7e36-4c74-8377-a83ddd1aceeb",
   "metadata": {},
   "outputs": [],
   "source": [
    "filename = \"/home/jqs1/scratch/jqs1/microscopy/220215/15_02_22_new_sigma_libraries.nd2\""
   ]
  },
  {
   "cell_type": "code",
   "execution_count": null,
   "id": "2e14a488-a160-48e7-acfe-81c9b42279f5",
   "metadata": {},
   "outputs": [],
   "source": [
    "a = nd2.ND2File(filename)"
   ]
  },
  {
   "cell_type": "code",
   "execution_count": null,
   "id": "e33f9160-9e4e-4cf4-8747-9ce222c7b3ec",
   "metadata": {},
   "outputs": [],
   "source": [
    "nd2._chunkmap.read_new_chunkmap"
   ]
  },
  {
   "cell_type": "code",
   "execution_count": null,
   "id": "2c43b6e4-154f-4878-aae4-35f362d7a9f9",
   "metadata": {},
   "outputs": [],
   "source": [
    "nd2._chunkmap.read_chunkmap(filename, fixup=True)"
   ]
  },
  {
   "cell_type": "code",
   "execution_count": null,
   "id": "e95fd6b6-3768-49dd-9aae-4683d3979fb0",
   "metadata": {},
   "outputs": [],
   "source": [
    "read_new_chunkmap_orig = nd2._chunkmap.read_new_chunkmap"
   ]
  },
  {
   "cell_type": "code",
   "execution_count": null,
   "id": "40b49f7f-ed84-40e7-9e2a-cfffcbbeb9d7",
   "metadata": {},
   "outputs": [],
   "source": [
    "from functools import partial"
   ]
  },
  {
   "cell_type": "code",
   "execution_count": null,
   "id": "471305fd-1e31-4aef-bb55-675b70e4e939",
   "metadata": {},
   "outputs": [],
   "source": [
    "nd2._chunkmap.read_new_chunkmap = partial(read_new_chunkmap_orig, fixup=False)"
   ]
  }
 ],
 "metadata": {
  "kernelspec": {
   "display_name": "Python 3 (ipykernel)",
   "language": "python",
   "name": "python3"
  },
  "language_info": {
   "codemirror_mode": {
    "name": "ipython",
    "version": 3
   },
   "file_extension": ".py",
   "mimetype": "text/x-python",
   "name": "python",
   "nbconvert_exporter": "python",
   "pygments_lexer": "ipython3",
   "version": "3.10.4"
  }
 },
 "nbformat": 4,
 "nbformat_minor": 5
}
