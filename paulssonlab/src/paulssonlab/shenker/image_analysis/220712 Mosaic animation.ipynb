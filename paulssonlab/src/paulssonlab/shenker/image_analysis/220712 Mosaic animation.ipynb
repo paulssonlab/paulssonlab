{
 "cells": [
  {
   "cell_type": "markdown",
   "metadata": {
    "tags": []
   },
   "source": [
    "# Imports"
   ]
  },
  {
   "cell_type": "code",
   "execution_count": null,
   "metadata": {},
   "outputs": [],
   "source": [
    "import numpy as np\n",
    "import random\n",
    "from tqdm.auto import tqdm\n",
    "import nd2reader\n",
    "import skimage\n",
    "from skimage.transform import SimilarityTransform, warp\n",
    "import holoviews as hv\n",
    "import matplotlib.pyplot as plt\n",
    "from matplotlib.colors import hex2color\n",
    "from paulssonlab.image_analysis import workflow"
   ]
  },
  {
   "cell_type": "code",
   "execution_count": null,
   "metadata": {},
   "outputs": [],
   "source": [
    "hv.extension(\"bokeh\")"
   ]
  },
  {
   "cell_type": "markdown",
   "metadata": {},
   "source": [
    "# Config"
   ]
  },
  {
   "cell_type": "code",
   "execution_count": null,
   "metadata": {},
   "outputs": [],
   "source": [
    "nd2_filenames = [\"/home/jqs1/scratch/jqs1/microscopy/220704/220704rbs_library_fish.nd2\"]"
   ]
  },
  {
   "cell_type": "code",
   "execution_count": null,
   "metadata": {},
   "outputs": [],
   "source": [
    "nd2 = nd2reader.ND2Reader(nd2_filenames[0])"
   ]
  },
  {
   "cell_type": "code",
   "execution_count": null,
   "metadata": {},
   "outputs": [],
   "source": [
    "channel_to_color = {\n",
    "    \"BF\": \"#ffffff\",\n",
    "    \"RFP-PENTA\": \"#e22400\",\n",
    "    \"YFP-DUAL\": \"#f5eb00\",\n",
    "    # \"GFP\": \"#76ba40\",\n",
    "    # \"CY5\": \"#e292fe\",\n",
    "    # \"BFP\": \"#3a87fd\",\n",
    "}"
   ]
  },
  {
   "cell_type": "markdown",
   "metadata": {},
   "source": [
    "# Mosaic"
   ]
  },
  {
   "cell_type": "code",
   "execution_count": null,
   "metadata": {},
   "outputs": [],
   "source": [
    "nd2s = {filename: nd2reader.ND2Reader(filename) for filename in nd2_filenames}\n",
    "metadata = {\n",
    "    filename: workflow.parse_nd2_metadata(nd2) for filename, nd2 in nd2s.items()\n",
    "}\n",
    "positions = workflow.get_position_metadata(metadata)\n",
    "image_limits = workflow.get_filename_image_limits(metadata)"
   ]
  },
  {
   "cell_type": "code",
   "execution_count": null,
   "metadata": {},
   "outputs": [],
   "source": [
    "# nd2 = nd2reader.ND2Reader(nd_filenames[0])\n",
    "# all_frames, metadata = workflow.get_nd2_frame_list(nd2_filenames)#"
   ]
  },
  {
   "cell_type": "code",
   "execution_count": null,
   "metadata": {},
   "outputs": [],
   "source": [
    "positions"
   ]
  },
  {
   "cell_type": "code",
   "execution_count": null,
   "metadata": {},
   "outputs": [],
   "source": [
    "positions[\"x_idx\"].max()"
   ]
  },
  {
   "cell_type": "code",
   "execution_count": null,
   "metadata": {},
   "outputs": [],
   "source": [
    "positions[\"y_idx\"].max()"
   ]
  },
  {
   "cell_type": "code",
   "execution_count": null,
   "metadata": {},
   "outputs": [],
   "source": [
    "def composite_channels(imgs, hexcolors, scale=True):\n",
    "    colors = [hex2color(hexcolor) for hexcolor in hexcolors]\n",
    "    return _composite_channels(imgs, colors, scale=scale)\n",
    "\n",
    "\n",
    "def _composite_channels(channel_imgs, colors, scale=True):\n",
    "    if len(channel_imgs) != len(colors):\n",
    "        raise ValueError(\"expecting equal numbers of channels and colors\")\n",
    "    num_channels = len(channel_imgs)\n",
    "    if scale:\n",
    "        scaled_imgs = [\n",
    "            channel_imgs[i][:, :, np.newaxis] / np.percentile(channel_imgs[i], 99.9)\n",
    "            for i in range(num_channels)\n",
    "        ]\n",
    "        for scaled_img in scaled_imgs:\n",
    "            np.clip(scaled_img, 0, 1, scaled_img)  # clip in place\n",
    "    else:\n",
    "        scaled_imgs = channel_imgs\n",
    "    imgs_to_combine = [\n",
    "        scaled_imgs[i] * np.array(colors[i]) for i in range(num_channels)\n",
    "    ]\n",
    "    if not len(imgs_to_combine):\n",
    "        imgs_to_combine = [np.ones(colored_imgs[0].shape)]  # white placeholder\n",
    "    img = imgs_to_combine[0]\n",
    "    for img2 in imgs_to_combine[1:]:\n",
    "        img = 1 - (1 - img) * (1 - img2)\n",
    "    return img"
   ]
  },
  {
   "cell_type": "code",
   "execution_count": null,
   "metadata": {},
   "outputs": [],
   "source": [
    "channels = [\"YFP-DUAL\", \"RFP-PENTA\"]\n",
    "imgs = [\n",
    "    nd2.get_frame_2D(v=50, t=50, c=nd2.metadata[\"channels\"].index(channel))\n",
    "    for channel in channels\n",
    "]\n",
    "img = composite_channels(imgs, [channel_to_color[channel] for channel in channels])"
   ]
  },
  {
   "cell_type": "code",
   "execution_count": null,
   "metadata": {},
   "outputs": [],
   "source": [
    "positions"
   ]
  },
  {
   "cell_type": "code",
   "execution_count": null,
   "metadata": {},
   "outputs": [],
   "source": [
    "saved_imgs = [\n",
    "    nd2.get_frame_2D(v=20, t=50, c=nd2.metadata[\"channels\"].index(channel))\n",
    "    for channel in (\"YFP-DUAL\", \"RFP-PENTA\")\n",
    "]"
   ]
  },
  {
   "cell_type": "code",
   "execution_count": null,
   "metadata": {},
   "outputs": [],
   "source": [
    "def colorized_frame(nd2, t=0, v=0, channels=(\"YFP-DUAL\", \"RFP-PENTA\")):\n",
    "    # imgs = [nd2.get_frame_2D(v=v, t=t, c=nd2.metadata[\"channels\"].index(channel)) for channel in channels]\n",
    "    imgs = saved_imgs\n",
    "    # img = composite_channels(imgs, [channel_to_color[channel] for channel in channels])\n",
    "    img = composite_channels(\n",
    "        imgs, [\"#{:06x}\".format(random.randint(0, 0xFFFFFF)) for channel in channels]\n",
    "    )\n",
    "    return img"
   ]
  },
  {
   "cell_type": "code",
   "execution_count": null,
   "metadata": {},
   "outputs": [],
   "source": [
    "list(positions.iterrows())[0]"
   ]
  },
  {
   "cell_type": "code",
   "execution_count": null,
   "metadata": {},
   "outputs": [],
   "source": [
    "small_positions = positions[(positions[\"y_idx\"] < 3) & (positions[\"x_idx\"] < 3)]"
   ]
  },
  {
   "cell_type": "code",
   "execution_count": null,
   "metadata": {},
   "outputs": [],
   "source": [
    "def rectangles_intersect(ul1, lr1, ul2, lr2):\n",
    "    print(ul1, lr1, ul2, lr2)\n",
    "    return not (\n",
    "        (ul1[0] > lr2[0]) or (lr1[0] < ul2[0]) or (ul1[1] > lr2[1]) or (lr1[1] < ul2[1])\n",
    "    )\n",
    "    # (  (  R1.topLeft.x  >  R2.bottomRight.x  )||\n",
    "    # (  R1.bottomRight.x  <  R2.topLeft.x  )  ||\n",
    "    # (  R1.topLeft.y > R2.bottomRight.y ) ||\n",
    "    #       (   R1.bottomRight.y  <  R2.topLeft.y   ) )\n",
    "\n",
    "\n",
    "def scale_around_center(scale, center):\n",
    "    x, y = center\n",
    "    return (\n",
    "        SimilarityTransform(translation=(-x, -y))\n",
    "        + SimilarityTransform(scale=scale)\n",
    "        + SimilarityTransform(translation=(x, y))\n",
    "    )\n",
    "\n",
    "\n",
    "def output_transformation(input_width, input_height, output_width, output_height):\n",
    "    width_ratio = input_width / output_width\n",
    "    height_ratio = input_height / output_height\n",
    "    scale = max(width_ratio, height_ratio)\n",
    "    x = -(output_width - input_width / scale) / 2\n",
    "    y = -(output_height - input_height / scale) / 2\n",
    "    return SimilarityTransform(translation=(x, y)) + SimilarityTransform(scale=scale)\n",
    "\n",
    "\n",
    "def mosaic_frame(\n",
    "    get_frame_func,\n",
    "    positions,\n",
    "    image_dims,\n",
    "    timepoint,\n",
    "    center=None,\n",
    "    scale=1,\n",
    "    output_dims=(1024, 1024),\n",
    "):\n",
    "    if center is None:\n",
    "        columns = positions[\"x_idx\"].max() - positions[\"x_idx\"].min() + 1\n",
    "        rows = positions[\"y_idx\"].max() - positions[\"y_idx\"].min() + 1\n",
    "        center = (image_dims[0] * columns / 2, image_dims[1] * rows / 2)\n",
    "    viewport_transform = output_transformation(*image_dims, *output_dims)\n",
    "    output_img = np.zeros((output_dims[1], output_dims[0], 3))\n",
    "    viewport_ul = (0, 0)\n",
    "    viewport_lr = (output_dims[0] - 1, output_dims[1] - 1)  # TODO: off-by-one?\n",
    "    for x_col in range(3):\n",
    "        for y_col in range(3):\n",
    "            frame_corner = (-image_dims[0] * x_col, -image_dims[1] * y_col)\n",
    "            frame_transform = (\n",
    "                output_transformation(*image_dims, *output_dims)\n",
    "                + scale_around_center(1 / scale, (image_dims[0] / 2, image_dims[1] / 2))\n",
    "                + SimilarityTransform(\n",
    "                    translation=(\n",
    "                        center[0] - image_dims[0] / 2,\n",
    "                        center[1] - image_dims[1] / 2,\n",
    "                    )\n",
    "                )\n",
    "                + SimilarityTransform(translation=frame_corner)\n",
    "            )\n",
    "            frame_ul = frame_transform.inverse((0, 0))[0]\n",
    "            frame_lr = frame_transform.inverse((image_dims[0] - 1, image_dims[1] - 1))[\n",
    "                0\n",
    "            ]\n",
    "            visible = rectangles_intersect(viewport_ul, viewport_lr, frame_ul, frame_lr)\n",
    "            if visible:\n",
    "                output_img += warp(\n",
    "                    img, frame_transform, output_shape=output_dims[::-1]\n",
    "                ) * (0.5 + 0.5 * np.random.random())\n",
    "    return output_img\n",
    "    # for position in positions.iterrows():\n",
    "    #    pass\n",
    "\n",
    "\n",
    "out_img = mosaic_frame(colorized_frame, small_positions, (5056, 2960), 0, scale=0.1)\n",
    "plt.imshow(out_img)\n",
    "\n",
    "# output_shape = (512, 512)\n",
    "# tr = (SimilarityTransform(scale=2, translation=(-256, -256)) +\n",
    "#       output_transformation(*(5056, 2960), *output_shape))\n",
    "#       # + SimilarityTransform(translation=(0, 2960))\n",
    "# img2 = warp(img, tr, output_shape=output_dims[::-1])\n",
    "# plt.imshow(img2)"
   ]
  },
  {
   "cell_type": "code",
   "execution_count": null,
   "metadata": {},
   "outputs": [],
   "source": [
    "img.shape"
   ]
  },
  {
   "cell_type": "code",
   "execution_count": null,
   "metadata": {},
   "outputs": [],
   "source": [
    "image_limits"
   ]
  },
  {
   "cell_type": "code",
   "execution_count": null,
   "metadata": {},
   "outputs": [],
   "source": [
    "img2 = warp(\n",
    "    img, SimilarityTransform(scale=1, translation=(0, 2959 / 2))\n",
    ")  # , output_shape=(512,512))"
   ]
  },
  {
   "cell_type": "code",
   "execution_count": null,
   "metadata": {},
   "outputs": [],
   "source": [
    "plt.imshow(img2)"
   ]
  },
  {
   "cell_type": "code",
   "execution_count": null,
   "metadata": {},
   "outputs": [],
   "source": [
    "SimilarityTransform(scale=0.5, translation=(10, 0)) + SimilarityTransform(\n",
    "    scale=1, translation=(10, 0)\n",
    ")"
   ]
  },
  {
   "cell_type": "code",
   "execution_count": null,
   "metadata": {},
   "outputs": [],
   "source": [
    "SimilarityTransform(scale=1, translation=(0, 0))"
   ]
  },
  {
   "cell_type": "code",
   "execution_count": null,
   "metadata": {},
   "outputs": [],
   "source": [
    "image_limits"
   ]
  },
  {
   "cell_type": "code",
   "execution_count": null,
   "metadata": {},
   "outputs": [],
   "source": [
    "def mosaic_animation(\n",
    "    nd2_filenames,\n",
    "    timepoints=slice(None),\n",
    "    grid_size=None,\n",
    "    downsize=1,\n",
    "    width=512,\n",
    "    height=512,\n",
    "    frame_rate=1,\n",
    "):\n",
    "    nd2s = {filename: nd2reader.ND2Reader(filename) for filename in nd2_filenames}\n",
    "    metadata = {\n",
    "        filename: workflow.parse_nd2_metadata(nd2) for filename, nd2 in nd2s.items()\n",
    "    }\n",
    "    positions = workflow.get_position_metadata(metadata)\n",
    "    image_limits = workflow.get_filename_image_limits(metadata)\n",
    "    pass"
   ]
  }
 ],
 "metadata": {
  "kernelspec": {
   "display_name": "Python 3 (ipykernel)",
   "language": "python",
   "name": "python3"
  },
  "language_info": {
   "codemirror_mode": {
    "name": "ipython",
    "version": 3
   },
   "file_extension": ".py",
   "mimetype": "text/x-python",
   "name": "python",
   "nbconvert_exporter": "python",
   "pygments_lexer": "ipython3",
   "version": "3.10.4"
  }
 },
 "nbformat": 4,
 "nbformat_minor": 4
}
