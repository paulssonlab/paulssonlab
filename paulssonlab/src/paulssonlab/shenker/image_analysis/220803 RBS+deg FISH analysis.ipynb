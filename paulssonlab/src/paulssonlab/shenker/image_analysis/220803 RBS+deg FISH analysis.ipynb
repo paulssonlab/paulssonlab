{
 "cells": [
  {
   "cell_type": "code",
   "execution_count": null,
   "id": "31945d2b-bd76-4a77-aa71-957942c681f0",
   "metadata": {},
   "outputs": [],
   "source": [
    "import astropy.stats\n",
    "import holoviews as hv\n",
    "import hvplot.pandas\n",
    "import hvplot.xarray\n",
    "import matplotlib.pyplot as plt\n",
    "import numpy as np\n",
    "import pandas as pd\n",
    "import pyarrow\n",
    "import pyarrow.parquet\n",
    "import xarray as xr\n",
    "import zarr\n",
    "\n",
    "IDX = pd.IndexSlice"
   ]
  },
  {
   "cell_type": "markdown",
   "id": "32c826ff-27c5-4848-a1f8-f53ee3a78ff0",
   "metadata": {},
   "source": [
    "# Plotting"
   ]
  },
  {
   "cell_type": "code",
   "execution_count": null,
   "id": "9c943fdf-7a71-4c80-b459-7af02bdaefed",
   "metadata": {},
   "outputs": [],
   "source": [
    "%%time\n",
    "labelwise_df = pyarrow.parquet.read_pandas(\n",
    "    \"/home/jqs1/scratch/jqs1/microscopy/220718/RBS_DEG_library_20x.nd2.threets.measurements/pos0.labelwise.parquet\"\n",
    ").to_pandas()"
   ]
  },
  {
   "cell_type": "code",
   "execution_count": null,
   "id": "29bda930-2911-4e89-b830-bd21d1d28f52",
   "metadata": {},
   "outputs": [],
   "source": [
    "labelwise_df.columns = [\"/\".join(col).strip() for col in labelwise_df.columns.values]"
   ]
  },
  {
   "cell_type": "code",
   "execution_count": null,
   "id": "7e9bdba4-0b4b-440c-9b2a-ea43f539767f",
   "metadata": {},
   "outputs": [],
   "source": [
    "d = labelwise_df.loc[\n",
    "    IDX[:, :, :, 1:], :\n",
    "]  # .groupby([\"t\", \"trench_set\", \"trench\"]).median()\n",
    "# d = d[d[\"RFP-PENTA/mean\"].between(1800, 2400)]\n",
    "d = d[d[\"RFP-Penta/mean\"].between(1000, 4000)]"
   ]
  },
  {
   "cell_type": "code",
   "execution_count": null,
   "id": "1a6645bc-2d36-4741-b925-b4bafec35262",
   "metadata": {},
   "outputs": [],
   "source": [
    "ds = hv.Dataset(d, [\"t\", \"trench_set\", \"trench\"])"
   ]
  },
  {
   "cell_type": "code",
   "execution_count": null,
   "id": "f1b926ce-3ff8-4fbe-a7a7-17b471d64945",
   "metadata": {},
   "outputs": [],
   "source": [
    "ds.to(hv.Curve, \"t\", \"mask/axis_major_length\").overlay([\"trench_set\", \"trench\"]).opts(\n",
    "    width=800, height=400\n",
    ")"
   ]
  },
  {
   "cell_type": "code",
   "execution_count": null,
   "id": "73d5645f-ce30-4ac9-b379-ee56698ef50c",
   "metadata": {},
   "outputs": [],
   "source": [
    "ds.to(hv.Curve, \"t\", \"YFP-DUAL/mean\").overlay([\"trench_set\", \"trench\"]).opts(\n",
    "    width=800, height=400\n",
    ")"
   ]
  },
  {
   "cell_type": "code",
   "execution_count": null,
   "id": "b7a759ee-bd1e-4e30-98b9-89048f74621d",
   "metadata": {},
   "outputs": [],
   "source": [
    "d.reset_index().hvplot(\"t\", \"YFP-DUAL/mean\", by=[\"trench_set\", \"trench\"])"
   ]
  },
  {
   "cell_type": "code",
   "execution_count": null,
   "id": "09b94648-39ae-40c3-9bb5-13a73adb8af3",
   "metadata": {},
   "outputs": [],
   "source": [
    "hv.Curve(d, kdims=[\"t\"], vdims=[\"YFP-DUAL/mean\"], groupby=[\"trench_set\", \"trench\"])"
   ]
  },
  {
   "cell_type": "markdown",
   "id": "9b27372a-20b3-4f60-b059-1a8d14ed1d6a",
   "metadata": {},
   "source": [
    "# Heatmap"
   ]
  },
  {
   "cell_type": "code",
   "execution_count": null,
   "id": "2cdef7c7-dd91-4859-acdf-00499aaeb53e",
   "metadata": {},
   "outputs": [],
   "source": [
    "d[\"RFP-PENTA/mean\"].hvplot.hist(bins=100, bin_range=(0, 10000))"
   ]
  },
  {
   "cell_type": "code",
   "execution_count": null,
   "id": "7c13f1c5-43fe-4616-b0a5-05ddcd5fe13d",
   "metadata": {},
   "outputs": [],
   "source": [
    "d[\"YFP-DUAL/mean\"].hvplot.hist(bins=100, bin_range=(0, 10000))"
   ]
  },
  {
   "cell_type": "code",
   "execution_count": null,
   "id": "6668ea13-523f-4812-b9f5-f118bb89cd86",
   "metadata": {},
   "outputs": [],
   "source": [
    "filtered_cells = d.reset_index()"
   ]
  },
  {
   "cell_type": "code",
   "execution_count": null,
   "id": "4bc382a5-5996-4df9-b369-718e5dea4412",
   "metadata": {},
   "outputs": [],
   "source": [
    "mask.to_frame()"
   ]
  },
  {
   "cell_type": "code",
   "execution_count": null,
   "id": "a63e7922-87f2-4874-9a23-2f9fdc7f5906",
   "metadata": {},
   "outputs": [],
   "source": [
    "mask"
   ]
  },
  {
   "cell_type": "code",
   "execution_count": null,
   "id": "9999ea51-0aa4-4b7f-a3d5-c96f677988fc",
   "metadata": {},
   "outputs": [],
   "source": [
    "d.reset_index(level=(2, 3)).loc[mask.to_frame()]"
   ]
  },
  {
   "cell_type": "code",
   "execution_count": null,
   "id": "b7d62b2a-ad85-46ef-8d75-2c06f9549bc4",
   "metadata": {},
   "outputs": [],
   "source": [
    "mask"
   ]
  },
  {
   "cell_type": "code",
   "execution_count": null,
   "id": "b75cef1d-eade-4c4a-9796-0137d73d2959",
   "metadata": {},
   "outputs": [],
   "source": [
    "d.loc[mask, :]"
   ]
  },
  {
   "cell_type": "code",
   "execution_count": null,
   "id": "50a2cdac-4186-49e1-937a-cd9b9cc429d7",
   "metadata": {},
   "outputs": [],
   "source": [
    "d.groupby([\"trench_set\", \"trench\", \"t\"]).filter(\n",
    "    lambda x: x.loc[IDX[:, :, 70]][\"YFP-DUAL\"].median() > 4000\n",
    ")"
   ]
  },
  {
   "cell_type": "code",
   "execution_count": null,
   "id": "e2b83b71-047f-4ead-80ac-26e01c27020f",
   "metadata": {},
   "outputs": [],
   "source": [
    "d[d.groupby([\"trench_set\", \"trench\", \"t\"]).filter(lambda x: x.loc[IDX[:,:,70]][\"YFP-DUAL\"].median() > 4000)#.loc[IDX[:,:,70]] > 4000]"
   ]
  },
  {
   "cell_type": "code",
   "execution_count": null,
   "id": "1bc2869f-2cfc-423a-bf63-7f9de9cfc348",
   "metadata": {},
   "outputs": [],
   "source": [
    "mask = (\n",
    "    d.loc[IDX[:, :, 61:77]].groupby([\"trench_set\", \"trench\"])[\"YFP-DUAL/mean\"].median()\n",
    "    < 4000\n",
    ")\n",
    "dropped = d.reset_index(level=(2, 3)).where(mask).dropna()\n",
    "dropped[\"t\"] = dropped[\"t\"].astype(np.int16)\n",
    "dropped[\"label\"] = dropped[\"label\"].astype(np.int16)\n",
    "dropped = dropped.set_index([\"t\", \"label\"], append=True)\n",
    "filtered_cells = dropped"
   ]
  },
  {
   "cell_type": "code",
   "execution_count": null,
   "id": "3c3cca81-5310-4b44-b1d8-7bbea745e636",
   "metadata": {},
   "outputs": [],
   "source": [
    "filtered_cells = d"
   ]
  },
  {
   "cell_type": "code",
   "execution_count": null,
   "id": "af6ec071-c1c3-451b-ae5d-db599388867a",
   "metadata": {},
   "outputs": [],
   "source": [
    "%%time\n",
    "channel = \"YFP-DUAL/mean\"\n",
    "# channel = \"RFP-PENTA/mean\"\n",
    "filtered_cells = d.reset_index()\n",
    "# filtered_cells = d[d].reset_index()\n",
    "bins = np.geomspace(filtered_cells[channel].min(), filtered_cells[channel].max(), 100)\n",
    "heatmap = filtered_cells.groupby([\"t\"]).apply(\n",
    "    lambda x: pd.Series(np.histogram(x[channel], bins=bins)[0], index=bins[:-1])\n",
    ")\n",
    "heatmap.columns.name = channel\n",
    "# heatmap = xr.Dataset({row: heatmap.loc[row].T for row in heatmap.index.levels[0]})\n",
    "heatmap = xr.DataArray(heatmap.T)"
   ]
  },
  {
   "cell_type": "code",
   "execution_count": null,
   "id": "35699821-1b4d-4bef-907b-6d523152a25b",
   "metadata": {},
   "outputs": [],
   "source": [
    "heatmap.hvplot.quadmesh(cmap=\"blues\", logy=True, logz=True, clim=(1, 1e4))"
   ]
  },
  {
   "cell_type": "code",
   "execution_count": null,
   "id": "91320156-0c7f-4b65-a74b-92352b506dd2",
   "metadata": {},
   "outputs": [],
   "source": [
    "heatmap.hvplot.quadmesh(cmap=\"blues\", logy=True, logz=True, clim=(1, 1e4))"
   ]
  },
  {
   "cell_type": "markdown",
   "id": "4ad063a2-df22-4584-bc04-d743d0d32dcd",
   "metadata": {},
   "source": [
    "# Binned heatmaps"
   ]
  },
  {
   "cell_type": "code",
   "execution_count": null,
   "id": "98b9df99-fdb4-4f66-a70e-d7619d32c2c6",
   "metadata": {},
   "outputs": [],
   "source": [
    "induction_bins = np.geomspace(400, 15000, 8)"
   ]
  },
  {
   "cell_type": "code",
   "execution_count": null,
   "id": "bab4748e-75b9-4c4d-bcaf-0df96e90867f",
   "metadata": {},
   "outputs": [],
   "source": [
    "induction_bins"
   ]
  },
  {
   "cell_type": "code",
   "execution_count": null,
   "id": "b3f25ffc-30eb-4935-a9e3-fca2c2c718b7",
   "metadata": {},
   "outputs": [],
   "source": [
    "%%time\n",
    "channel = \"YFP-DUAL/mean\"\n",
    "# channel = \"RFP-PENTA/mean\"\n",
    "bin_range = d[channel].min(), d[channel].max()\n",
    "bins = np.geomspace(*bin_range, 100)\n",
    "heatmaps = {}\n",
    "for idx in range(len(induction_bins) - 1):\n",
    "    induction_bin = tuple(induction_bins[idx : idx + 2])\n",
    "    mask = (\n",
    "        d.loc[IDX[:, :, 61:77]]\n",
    "        .groupby([\"trench_set\", \"trench\"])[\"YFP-DUAL/mean\"]\n",
    "        .median()\n",
    "        .between(*induction_bin)\n",
    "    )\n",
    "    dropped = d.reset_index(level=(2, 3)).where(mask).dropna()\n",
    "    dropped[\"t\"] = dropped[\"t\"].astype(np.int16)\n",
    "    dropped[\"label\"] = dropped[\"label\"].astype(np.int16)\n",
    "    dropped = dropped.set_index([\"t\", \"label\"], append=True)\n",
    "    filtered_cells = dropped  # .reset_index()\n",
    "    heatmap = filtered_cells.groupby([\"t\"]).apply(\n",
    "        lambda x: pd.Series(np.histogram(x[channel], bins=bins)[0], index=bins[:-1])\n",
    "    )\n",
    "    heatmap.columns.name = channel\n",
    "    # heatmap = xr.Dataset({row: heatmap.loc[row].T for row in heatmap.index.levels[0]})\n",
    "    # heatmaps[induction_bin] = xr.DataArray(heatmap.T)\n",
    "    heatmaps[induction_bin] = xr.DataArray(heatmap.T)\n",
    "heatmaps = xr.concat(\n",
    "    heatmaps.values(),\n",
    "    pd.Index([pd.Interval(*k) for k in heatmaps.keys()], name=\"induction_bin\"),\n",
    ")"
   ]
  },
  {
   "cell_type": "code",
   "execution_count": null,
   "id": "ab8a01e6-59c2-42bd-bc59-76da9fff32cc",
   "metadata": {},
   "outputs": [],
   "source": [
    "a = heatmaps.coords[\"induction_bin\"]"
   ]
  },
  {
   "cell_type": "code",
   "execution_count": null,
   "id": "23955eae-0a65-4499-80c0-8bce18e42f68",
   "metadata": {},
   "outputs": [],
   "source": [
    "enumerate(a.values)"
   ]
  },
  {
   "cell_type": "code",
   "execution_count": null,
   "id": "e491edb5-9264-414d-a3cd-78bc825b2e05",
   "metadata": {},
   "outputs": [],
   "source": [
    "list(enumerate(a.values))"
   ]
  },
  {
   "cell_type": "code",
   "execution_count": null,
   "id": "fa5487f9-130e-4266-b09f-a5f068b01291",
   "metadata": {},
   "outputs": [],
   "source": [
    "hv.HoloMap(\n",
    "    {\n",
    "        heatmaps.isel(induction_bin=idx).hvplot.quadmesh(cmap=\"blues\", logy=True, logz=True, clim=(1, 1e4))\n",
    "        for idx in range(len(heatmaps.coords[\"induction_bin\"]))\n",
    "    ]\n",
    ")#.cols(1)"
   ]
  },
  {
   "cell_type": "code",
   "execution_count": null,
   "id": "be8dfe42-8ddf-4ac2-8beb-c67efc5bb4be",
   "metadata": {},
   "outputs": [],
   "source": [
    "hv.Layout(\n",
    "    [\n",
    "        heatmaps.isel(induction_bin=idx).hvplot.quadmesh(\n",
    "            cmap=\"blues\", logy=True, logz=True, clim=(1, 1e4)\n",
    "        )\n",
    "        for idx in range(len(heatmaps.coords[\"induction_bin\"]))\n",
    "    ]\n",
    ").cols(1)"
   ]
  },
  {
   "cell_type": "markdown",
   "id": "d5ab77f9-7737-41f0-acb8-b7fb47d9cfb6",
   "metadata": {},
   "source": [
    "# Streamlines"
   ]
  },
  {
   "cell_type": "code",
   "execution_count": null,
   "id": "45e127b4-a7c5-43f4-8847-98ec220945e6",
   "metadata": {},
   "outputs": [],
   "source": [
    "def get_limits(x):\n",
    "    x = x.droplevel(0, axis=1)\n",
    "    return pd.DataFrame(\n",
    "        {\n",
    "            \"lower\": x[\"median\"] - x[\"median_absolute_deviation\"],\n",
    "            \"upper\": x[\"median\"] + x[\"median_absolute_deviation\"],\n",
    "        }\n",
    "    )"
   ]
  },
  {
   "cell_type": "code",
   "execution_count": null,
   "id": "ebb1bb60-897a-4478-8791-349ead87195f",
   "metadata": {},
   "outputs": [],
   "source": [
    "filtered_cells = d\n",
    "medians = filtered_cells.groupby([\"t\"]).agg(\n",
    "    [\"median\", astropy.stats.median_absolute_deviation]\n",
    ")\n",
    "\n",
    "limits = medians.groupby(level=0, axis=1).apply(get_limits)"
   ]
  },
  {
   "cell_type": "code",
   "execution_count": null,
   "id": "e7fad33c-cca0-403b-95e4-83e49144f8b4",
   "metadata": {},
   "outputs": [],
   "source": [
    "observable = \"YFP-DUAL/mean\"\n",
    "\n",
    "medians2 = medians[observable].reset_index()\n",
    "limits2 = limits[observable].reset_index()\n",
    "mean_plot = medians2.hvplot.line(\"t\", \"median\", logy=True)\n",
    "noise_plot = limits2.hvplot.area(\n",
    "    x=\"t\", y=\"lower\", y2=\"upper\", stacked=False, alpha=0.2, logy=True\n",
    ")"
   ]
  },
  {
   "cell_type": "code",
   "execution_count": null,
   "id": "ac105840-9ceb-4327-9b94-62073133baf1",
   "metadata": {},
   "outputs": [],
   "source": [
    "(mean_plot * noise_plot).opts(width=800, height=800)"
   ]
  },
  {
   "cell_type": "code",
   "execution_count": null,
   "id": "ff933913-77c1-411b-bd78-78256ede8ee7",
   "metadata": {},
   "outputs": [],
   "source": [
    "induction_bins = np.geomspace(400, 15000, 8)"
   ]
  },
  {
   "cell_type": "code",
   "execution_count": null,
   "id": "6541f392-0c5d-4bc5-a0f4-3f83f0e1bcc9",
   "metadata": {},
   "outputs": [],
   "source": [
    "induction_bins"
   ]
  },
  {
   "cell_type": "code",
   "execution_count": null,
   "id": "a8414f73-2b24-4990-bf6a-ba5d7cd47fb7",
   "metadata": {},
   "outputs": [],
   "source": [
    "%%time\n",
    "channel = \"YFP-DUAL/mean\"\n",
    "# channel = \"RFP-PENTA/mean\"\n",
    "streamlines = {}\n",
    "for idx in range(len(induction_bins) - 1):\n",
    "    induction_bin = tuple(induction_bins[idx : idx + 2])\n",
    "    mask = (\n",
    "        d.loc[IDX[:, :, 61:77]]\n",
    "        # d.loc[IDX[:, :, 42:51]]\n",
    "        .groupby([\"trench_set\", \"trench\"])[\"YFP-DUAL/mean\"]\n",
    "        .median()\n",
    "        .between(*induction_bin)\n",
    "    )\n",
    "    dropped = d.reset_index(level=(2, 3)).where(mask).dropna()\n",
    "    dropped[\"t\"] = dropped[\"t\"].astype(np.int16)\n",
    "    dropped[\"label\"] = dropped[\"label\"].astype(np.int16)\n",
    "    dropped = dropped.set_index([\"t\", \"label\"], append=True)\n",
    "    filtered_cells = dropped  # .reset_index()\n",
    "    medians = filtered_cells.groupby([\"t\"]).agg(\n",
    "        [\"median\", astropy.stats.median_absolute_deviation]\n",
    "    )\n",
    "    limits = medians.groupby(level=0, axis=1).apply(get_limits)\n",
    "    medians2 = medians[channel].reset_index()\n",
    "    limits2 = limits[channel].reset_index()\n",
    "    mean_plot = medians2.hvplot.line(\"t\", \"median\", logy=True)\n",
    "    noise_plot = limits2.hvplot.area(\n",
    "        x=\"t\", y=\"lower\", y2=\"upper\", stacked=False, alpha=0.2, logy=True\n",
    "    )\n",
    "    streamlines[induction_bin] = mean_plot * noise_plot\n",
    "streamlines = hv.HoloMap(streamlines, kdims=[\"min\", \"max\"])"
   ]
  },
  {
   "cell_type": "code",
   "execution_count": null,
   "id": "854f9c14-63ef-4d71-86cf-d75705757e9a",
   "metadata": {},
   "outputs": [],
   "source": [
    "streamlines.overlay().opts(width=900, height=400)"
   ]
  },
  {
   "cell_type": "markdown",
   "id": "724b792f-f0c2-49c4-8567-519640f9365e",
   "metadata": {},
   "source": [
    "# Images"
   ]
  },
  {
   "cell_type": "code",
   "execution_count": null,
   "id": "3186a9e9-469c-49b3-ac81-8ef7a14a331e",
   "metadata": {},
   "outputs": [],
   "source": [
    "img = zarr.open(\n",
    "    zarr.LMDBStore(\n",
    "        \"/home/jqs1/scratch/jqs1/microscopy/220718/RBS_DEG_library_20x.nd2.threets.images/pos0.zarr\"\n",
    "    )\n",
    ")"
   ]
  },
  {
   "cell_type": "code",
   "execution_count": null,
   "id": "bc051066-e3e5-48ee-a306-0b2c0b15a48f",
   "metadata": {},
   "outputs": [],
   "source": [
    "plt.imshow(img[\"raw/1/60/RFP-Penta\"][:, :, 50])"
   ]
  },
  {
   "cell_type": "code",
   "execution_count": null,
   "id": "b3a560f4-799f-422f-8ee0-29ed9cc4fcd4",
   "metadata": {},
   "outputs": [],
   "source": [
    "plt.imshow(img[\"segmentation/1/60/RFP-Penta\"][:, :, 50])"
   ]
  },
  {
   "cell_type": "markdown",
   "id": "8263241c-b048-4ab9-93fe-d82030215a2e",
   "metadata": {},
   "source": [
    "# FISH"
   ]
  },
  {
   "cell_type": "code",
   "execution_count": null,
   "id": "d535fdd0-95ea-404c-819d-274fcb965e2d",
   "metadata": {},
   "outputs": [],
   "source": [
    "import h5py"
   ]
  },
  {
   "cell_type": "code",
   "execution_count": null,
   "id": "649d8529-3aee-4365-96f3-dd2079ec9048",
   "metadata": {},
   "outputs": [],
   "source": [
    "# ch, vmax = \"RFP\", 2000\n",
    "ch, vmax = \"Cy5\", 6000\n",
    "# ch, vmax = \"Cy7\", 3000\n",
    "v = 30\n",
    "t = 4\n",
    "f = h5py.File(\n",
    "    f\"/home/jqs1/scratch/jqs1/microscopy/220704/FISH/real_run/fov={v}_config={ch}_t={t}\",\n",
    "    \"r\",\n",
    ")"
   ]
  },
  {
   "cell_type": "code",
   "execution_count": null,
   "id": "333db9a6-2415-4852-a087-ed5f6fbc4264",
   "metadata": {},
   "outputs": [],
   "source": [
    "img = np.asarray(f[\"data\"])"
   ]
  },
  {
   "cell_type": "code",
   "execution_count": null,
   "id": "aeeb680c-33be-47da-89b1-5956229b1e54",
   "metadata": {},
   "outputs": [],
   "source": [
    "plt.figure(figsize=(20, 15))\n",
    "plt.imshow(img, cmap=\"RdPu\", vmax=vmax)"
   ]
  }
 ],
 "metadata": {
  "kernelspec": {
   "display_name": "Python 3 (ipykernel)",
   "language": "python",
   "name": "python3"
  },
  "language_info": {
   "codemirror_mode": {
    "name": "ipython",
    "version": 3
   },
   "file_extension": ".py",
   "mimetype": "text/x-python",
   "name": "python",
   "nbconvert_exporter": "python",
   "pygments_lexer": "ipython3",
   "version": "3.10.6"
  }
 },
 "nbformat": 4,
 "nbformat_minor": 5
}
