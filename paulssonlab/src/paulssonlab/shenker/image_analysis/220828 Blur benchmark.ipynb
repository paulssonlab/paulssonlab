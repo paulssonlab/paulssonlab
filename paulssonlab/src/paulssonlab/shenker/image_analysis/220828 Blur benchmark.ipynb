{
 "cells": [
  {
   "cell_type": "code",
   "execution_count": null,
   "id": "62afa101-b872-41bf-83b4-924485669b88",
   "metadata": {},
   "outputs": [],
   "source": [
    "import numpy as np\n",
    "import scipy.ndimage as ndi\n",
    "import holoviews as hv\n",
    "import matplotlib.pyplot as plt\n",
    "import nd2reader\n",
    "import numba\n",
    "import timeit"
   ]
  },
  {
   "cell_type": "code",
   "execution_count": null,
   "id": "7526b829-d310-4c65-ab49-902feab31de3",
   "metadata": {},
   "outputs": [],
   "source": [
    "hv.extension(\"bokeh\")"
   ]
  },
  {
   "cell_type": "code",
   "execution_count": null,
   "id": "6e7181e2-fb9d-4514-80c5-76d014da03dc",
   "metadata": {},
   "outputs": [],
   "source": [
    "%load_ext autoreload\n",
    "%autoreload 2\n",
    "%load_ext pyinstrument"
   ]
  },
  {
   "cell_type": "code",
   "execution_count": null,
   "id": "1fe53d3d-d003-4bd1-8207-e8053e5aaf95",
   "metadata": {},
   "outputs": [],
   "source": [
    "from paulssonlab.shenker.image_analysis import blur"
   ]
  },
  {
   "cell_type": "markdown",
   "id": "4e704677-8dec-463b-ba14-c24480289c19",
   "metadata": {},
   "source": [
    "For discussions of algorithms, see:\n",
    "- https://stackoverflow.com/questions/98359/fastest-gaussian-blur-implementation\n",
    "- https://github.com/bfraboni/FastGaussianBlur\n",
    "- http://blog.ivank.net/fastest-gaussian-blur.html\n",
    "- https://dsp.stackexchange.com/questions/50576/fastest-available-algorithm-to-blur-an-image-low-pass-filter"
   ]
  },
  {
   "cell_type": "markdown",
   "id": "e4b91ae1-1985-4c85-ac6b-9c3b7328d649",
   "metadata": {},
   "source": [
    "# Setup"
   ]
  },
  {
   "cell_type": "code",
   "execution_count": null,
   "id": "a8a5ef77-c3ec-4599-9729-461be21f4b3b",
   "metadata": {},
   "outputs": [],
   "source": [
    "nd2 = nd2reader.ND2Reader(\"/home/jqs1/scratch/jqs1/microscopy/220704/220704rbs_library_fish.nd2\")\n",
    "img = nd2.get_frame_2D(v=50, t=20, c=2)"
   ]
  },
  {
   "cell_type": "code",
   "execution_count": null,
   "id": "5d9eca4b-10ee-4d18-ad35-619e8c3a21a3",
   "metadata": {},
   "outputs": [],
   "source": [
    "plt.figure(figsize=(20, 20))\n",
    "plt.imshow(img)"
   ]
  },
  {
   "cell_type": "markdown",
   "id": "982b5c59-1715-4f49-900f-15e2f1b90dfb",
   "metadata": {},
   "source": [
    "# Benchmarks"
   ]
  },
  {
   "cell_type": "code",
   "execution_count": null,
   "id": "69126d38-bb22-45c9-930a-db2e9b33d532",
   "metadata": {},
   "outputs": [],
   "source": [
    "plt.figure(figsize=(20, 20))\n",
    "plt.imshow(blur.scipy_box(img, 10))"
   ]
  },
  {
   "cell_type": "code",
   "execution_count": null,
   "id": "4a9728e7-a3d6-4df5-a48d-c0d271be7d25",
   "metadata": {},
   "outputs": [],
   "source": [
    "plt.figure(figsize=(20, 20))\n",
    "plt.imshow(blur.scipy_box_transpose(img, 10))"
   ]
  },
  {
   "cell_type": "code",
   "execution_count": null,
   "id": "ebc473ec-7424-4795-9daa-1f15cc4fbc11",
   "metadata": {},
   "outputs": [],
   "source": [
    "timeit.Timer(\"blur.scipy_box(img, 10)\", globals=globals()).timeit(5)"
   ]
  },
  {
   "cell_type": "code",
   "execution_count": null,
   "id": "beb3efc5-99f5-4d6f-8d99-7861336f5865",
   "metadata": {},
   "outputs": [],
   "source": [
    "timeit.Timer(\"blur.scipy_box_transpose(img, 10)\", globals=globals()).timeit(5)"
   ]
  },
  {
   "cell_type": "code",
   "execution_count": null,
   "id": "eda7df67-22d3-4b5a-a26b-a83300bec85a",
   "metadata": {},
   "outputs": [],
   "source": []
  }
 ],
 "metadata": {
  "kernelspec": {
   "display_name": "Python 3 (ipykernel)",
   "language": "python",
   "name": "python3"
  },
  "language_info": {
   "codemirror_mode": {
    "name": "ipython",
    "version": 3
   },
   "file_extension": ".py",
   "mimetype": "text/x-python",
   "name": "python",
   "nbconvert_exporter": "python",
   "pygments_lexer": "ipython3",
   "version": "3.10.5"
  }
 },
 "nbformat": 4,
 "nbformat_minor": 5
}
