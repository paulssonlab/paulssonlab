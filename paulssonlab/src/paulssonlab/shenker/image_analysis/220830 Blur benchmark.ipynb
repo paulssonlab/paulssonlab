{
 "cells": [
  {
   "cell_type": "code",
   "execution_count": null,
   "id": "62afa101-b872-41bf-83b4-924485669b88",
   "metadata": {},
   "outputs": [],
   "source": [
    "import numpy as np\n",
    "import scipy.ndimage as ndi\n",
    "import holoviews as hv\n",
    "import matplotlib.pyplot as plt\n",
    "import nd2reader\n",
    "import skimage\n",
    "import numba\n",
    "import timeit"
   ]
  },
  {
   "cell_type": "code",
   "execution_count": null,
   "id": "7526b829-d310-4c65-ab49-902feab31de3",
   "metadata": {},
   "outputs": [],
   "source": [
    "hv.extension(\"bokeh\")"
   ]
  },
  {
   "cell_type": "code",
   "execution_count": null,
   "id": "6e7181e2-fb9d-4514-80c5-76d014da03dc",
   "metadata": {},
   "outputs": [],
   "source": [
    "%load_ext autoreload\n",
    "%autoreload 2\n",
    "%load_ext pyinstrument"
   ]
  },
  {
   "cell_type": "code",
   "execution_count": null,
   "id": "1fe53d3d-d003-4bd1-8207-e8053e5aaf95",
   "metadata": {},
   "outputs": [],
   "source": [
    "from paulssonlab.image_analysis import blur"
   ]
  },
  {
   "cell_type": "markdown",
   "id": "4e704677-8dec-463b-ba14-c24480289c19",
   "metadata": {},
   "source": [
    "For discussions of algorithms, see:\n",
    "- https://stackoverflow.com/questions/98359/fastest-gaussian-blur-implementation\n",
    "- https://github.com/bfraboni/FastGaussianBlur\n",
    "- http://blog.ivank.net/fastest-gaussian-blur.html\n",
    "- https://dsp.stackexchange.com/questions/50576/fastest-available-algorithm-to-blur-an-image-low-pass-filter\n",
    "- https://github.com/pelson/antigrain/blob/64c9125e2b350a422c08d7fa8fff023400ad3f9f/agg-2.4/include/agg_blur.h"
   ]
  },
  {
   "cell_type": "markdown",
   "id": "e4b91ae1-1985-4c85-ac6b-9c3b7328d649",
   "metadata": {
    "tags": []
   },
   "source": [
    "# Setup"
   ]
  },
  {
   "cell_type": "code",
   "execution_count": null,
   "id": "93bff0d0-79bc-494f-a234-0329244a54e1",
   "metadata": {},
   "outputs": [],
   "source": [
    "blur_funcs = [ndi.gaussian_filter, blur.scipy_box_blur_2d, blur.scipy_box_blur, blur.numba_stack_blur]"
   ]
  },
  {
   "cell_type": "code",
   "execution_count": null,
   "id": "a8a5ef77-c3ec-4599-9729-461be21f4b3b",
   "metadata": {},
   "outputs": [],
   "source": [
    "nd2 = nd2reader.ND2Reader(\"/home/jqs1/scratch/jqs1/microscopy/220704/220704rbs_library_fish.nd2\")\n",
    "img = nd2.get_frame_2D(v=50, t=20, c=2)"
   ]
  },
  {
   "cell_type": "code",
   "execution_count": null,
   "id": "5d9eca4b-10ee-4d18-ad35-619e8c3a21a3",
   "metadata": {},
   "outputs": [],
   "source": [
    "plt.figure(figsize=(20, 20))\n",
    "plt.imshow(img)"
   ]
  },
  {
   "cell_type": "markdown",
   "id": "982b5c59-1715-4f49-900f-15e2f1b90dfb",
   "metadata": {
    "tags": []
   },
   "source": [
    "# Benchmarks"
   ]
  },
  {
   "cell_type": "code",
   "execution_count": null,
   "id": "69126d38-bb22-45c9-930a-db2e9b33d532",
   "metadata": {},
   "outputs": [],
   "source": [
    "plt.figure(figsize=(20, 20))\n",
    "plt.imshow(blur.scipy_box(img, 10))"
   ]
  },
  {
   "cell_type": "code",
   "execution_count": null,
   "id": "908bf026-353b-4f67-a03c-91bd3bee82aa",
   "metadata": {},
   "outputs": [],
   "source": [
    "img.shape"
   ]
  },
  {
   "cell_type": "code",
   "execution_count": null,
   "id": "4a9728e7-a3d6-4df5-a48d-c0d271be7d25",
   "metadata": {},
   "outputs": [],
   "source": [
    "plt.figure(figsize=(20, 20))\n",
    "plt.imshow(blur.scipy_box_transpose(img, 10))"
   ]
  },
  {
   "cell_type": "code",
   "execution_count": null,
   "id": "ebc473ec-7424-4795-9daa-1f15cc4fbc11",
   "metadata": {},
   "outputs": [],
   "source": [
    "timeit.Timer(\"blur.scipy_box_blur_2d(img, 10)\", globals=globals()).timeit(5)"
   ]
  },
  {
   "cell_type": "code",
   "execution_count": null,
   "id": "beb3efc5-99f5-4d6f-8d99-7861336f5865",
   "metadata": {},
   "outputs": [],
   "source": [
    "timeit.Timer(\"blur.scipy_box_blur(img, 10)\", globals=globals()).timeit(5)"
   ]
  },
  {
   "cell_type": "code",
   "execution_count": null,
   "id": "f7d395c9-e5b4-44a3-9826-67a0a197b7b7",
   "metadata": {},
   "outputs": [],
   "source": [
    "timeit.Timer(\"blur.scipy_box_blur(img, 10)\", globals=globals()).timeit(5)"
   ]
  },
  {
   "cell_type": "markdown",
   "id": "2ff26ec8-34b4-4e5d-827d-776d92d078b3",
   "metadata": {},
   "source": [
    "# Performance"
   ]
  },
  {
   "cell_type": "markdown",
   "id": "d47ad5c6-c25d-496c-8afb-d490d6946845",
   "metadata": {},
   "source": [
    "# Accuracy matrix"
   ]
  },
  {
   "cell_type": "code",
   "execution_count": null,
   "id": "596e52f0-3045-4abe-b4c2-d6f94d4b982e",
   "metadata": {},
   "outputs": [],
   "source": []
  },
  {
   "cell_type": "markdown",
   "id": "214378ec-38a9-425b-94d9-92a29bcad80c",
   "metadata": {
    "tags": []
   },
   "source": [
    "# Test"
   ]
  },
  {
   "cell_type": "code",
   "execution_count": null,
   "id": "b506ae4a-d8ce-41e9-8aa2-170b949726d6",
   "metadata": {},
   "outputs": [],
   "source": [
    "timeit.Timer(\"sb(img2, 10)\", setup=\"img2 = img.copy()\", globals=globals()).timeit(100)"
   ]
  }
 ],
 "metadata": {
  "kernelspec": {
   "display_name": "Python 3 (ipykernel)",
   "language": "python",
   "name": "python3"
  },
  "language_info": {
   "codemirror_mode": {
    "name": "ipython",
    "version": 3
   },
   "file_extension": ".py",
   "mimetype": "text/x-python",
   "name": "python",
   "nbconvert_exporter": "python",
   "pygments_lexer": "ipython3",
   "version": "3.10.5"
  }
 },
 "nbformat": 4,
 "nbformat_minor": 5
}
