{
 "cells": [
  {
   "cell_type": "code",
   "execution_count": null,
   "id": "62afa101-b872-41bf-83b4-924485669b88",
   "metadata": {},
   "outputs": [],
   "source": [
    "import numpy as np\n",
    "import scipy.ndimage as ndi\n",
    "import holoviews as hv\n",
    "import matplotlib.pyplot as plt\n",
    "#import nd2reader\n",
    "import skimage\n",
    "import numba\n",
    "import timeit"
   ]
  },
  {
   "cell_type": "code",
   "execution_count": null,
   "id": "7526b829-d310-4c65-ab49-902feab31de3",
   "metadata": {},
   "outputs": [],
   "source": [
    "hv.extension(\"bokeh\")"
   ]
  },
  {
   "cell_type": "code",
   "execution_count": null,
   "id": "6e7181e2-fb9d-4514-80c5-76d014da03dc",
   "metadata": {},
   "outputs": [],
   "source": [
    "%load_ext autoreload\n",
    "%autoreload 2\n",
    "%load_ext pyinstrument"
   ]
  },
  {
   "cell_type": "code",
   "execution_count": null,
   "id": "1fe53d3d-d003-4bd1-8207-e8053e5aaf95",
   "metadata": {},
   "outputs": [],
   "source": [
    "from paulssonlab.shenker.image_analysis import blur"
   ]
  },
  {
   "cell_type": "markdown",
   "id": "4e704677-8dec-463b-ba14-c24480289c19",
   "metadata": {},
   "source": [
    "For discussions of algorithms, see:\n",
    "- https://stackoverflow.com/questions/98359/fastest-gaussian-blur-implementation\n",
    "- https://github.com/bfraboni/FastGaussianBlur\n",
    "- http://blog.ivank.net/fastest-gaussian-blur.html\n",
    "- https://dsp.stackexchange.com/questions/50576/fastest-available-algorithm-to-blur-an-image-low-pass-filter"
   ]
  },
  {
   "cell_type": "markdown",
   "id": "e4b91ae1-1985-4c85-ac6b-9c3b7328d649",
   "metadata": {
    "tags": []
   },
   "source": [
    "# Setup"
   ]
  },
  {
   "cell_type": "code",
   "execution_count": null,
   "id": "a8a5ef77-c3ec-4599-9729-461be21f4b3b",
   "metadata": {},
   "outputs": [],
   "source": [
    "nd2 = nd2reader.ND2Reader(\"/home/jqs1/scratch/jqs1/microscopy/220704/220704rbs_library_fish.nd2\")\n",
    "img = nd2.get_frame_2D(v=50, t=20, c=2)"
   ]
  },
  {
   "cell_type": "code",
   "execution_count": null,
   "id": "cf26b7f9-850a-4960-ac4c-3c249eac4ccd",
   "metadata": {},
   "outputs": [],
   "source": [
    "img = skimage.io.imread(\"blur/rfp.tiff\")"
   ]
  },
  {
   "cell_type": "code",
   "execution_count": null,
   "id": "5d9eca4b-10ee-4d18-ad35-619e8c3a21a3",
   "metadata": {},
   "outputs": [],
   "source": [
    "plt.figure(figsize=(20, 20))\n",
    "plt.imshow(img)"
   ]
  },
  {
   "cell_type": "markdown",
   "id": "982b5c59-1715-4f49-900f-15e2f1b90dfb",
   "metadata": {
    "tags": []
   },
   "source": [
    "# Benchmarks"
   ]
  },
  {
   "cell_type": "code",
   "execution_count": null,
   "id": "69126d38-bb22-45c9-930a-db2e9b33d532",
   "metadata": {},
   "outputs": [],
   "source": [
    "plt.figure(figsize=(20, 20))\n",
    "plt.imshow(blur.scipy_box(img, 10))"
   ]
  },
  {
   "cell_type": "code",
   "execution_count": null,
   "id": "908bf026-353b-4f67-a03c-91bd3bee82aa",
   "metadata": {},
   "outputs": [],
   "source": [
    "img.shape"
   ]
  },
  {
   "cell_type": "code",
   "execution_count": null,
   "id": "4a9728e7-a3d6-4df5-a48d-c0d271be7d25",
   "metadata": {},
   "outputs": [],
   "source": [
    "plt.figure(figsize=(20, 20))\n",
    "plt.imshow(blur.scipy_box_transpose(img, 10))"
   ]
  },
  {
   "cell_type": "code",
   "execution_count": null,
   "id": "ebc473ec-7424-4795-9daa-1f15cc4fbc11",
   "metadata": {},
   "outputs": [],
   "source": [
    "timeit.Timer(\"blur.scipy_box_blur_2d(img, 10)\", globals=globals()).timeit(5)"
   ]
  },
  {
   "cell_type": "code",
   "execution_count": null,
   "id": "beb3efc5-99f5-4d6f-8d99-7861336f5865",
   "metadata": {},
   "outputs": [],
   "source": [
    "timeit.Timer(\"blur.scipy_box_blur(img, 10)\", globals=globals()).timeit(5)"
   ]
  },
  {
   "cell_type": "code",
   "execution_count": null,
   "id": "f7d395c9-e5b4-44a3-9826-67a0a197b7b7",
   "metadata": {},
   "outputs": [],
   "source": [
    "timeit.Timer(\"blur.scipy_box_blur(img, 10)\", globals=globals()).timeit(5)"
   ]
  },
  {
   "cell_type": "markdown",
   "id": "2ff26ec8-34b4-4e5d-827d-776d92d078b3",
   "metadata": {},
   "source": [
    "# Performance"
   ]
  },
  {
   "cell_type": "markdown",
   "id": "d47ad5c6-c25d-496c-8afb-d490d6946845",
   "metadata": {},
   "source": [
    "# Accuracy matrix"
   ]
  },
  {
   "cell_type": "code",
   "execution_count": null,
   "id": "596e52f0-3045-4abe-b4c2-d6f94d4b982e",
   "metadata": {},
   "outputs": [],
   "source": []
  },
  {
   "cell_type": "markdown",
   "id": "214378ec-38a9-425b-94d9-92a29bcad80c",
   "metadata": {
    "tags": []
   },
   "source": [
    "# Test"
   ]
  },
  {
   "cell_type": "code",
   "execution_count": null,
   "id": "8d51d2cd-8f69-45b6-bc55-6f896388afaf",
   "metadata": {},
   "outputs": [],
   "source": [
    "plt.figure(figsize=(20, 20))\n",
    "plt.imshow(img2)"
   ]
  },
  {
   "cell_type": "code",
   "execution_count": null,
   "id": "7b021fc1-9186-4c08-8a2e-01ee948e282c",
   "metadata": {},
   "outputs": [],
   "source": [
    "img2 = img[:500,:500].copy()\n",
    "blur._numba_stack_blur1d(img2, 20)\n",
    "#img2 = blur.scipy_box_blur(img2, 10, mode=\"nearest\")\n",
    "#img2 = ndi.filters.gaussian_filter1d(img2, 10, mode=\"nearest\")\n",
    "img2"
   ]
  },
  {
   "cell_type": "code",
   "execution_count": null,
   "id": "84599242-3c09-4a25-a667-e4b3ce627b1c",
   "metadata": {},
   "outputs": [],
   "source": [
    "plt.figure(figsize=(20, 20))\n",
    "plt.imshow(img2)"
   ]
  },
  {
   "cell_type": "code",
   "execution_count": null,
   "id": "7630c0be-b853-4a0d-83e2-ccea3d559beb",
   "metadata": {},
   "outputs": [],
   "source": [
    "plt.figure(figsize=(20, 20))\n",
    "plt.imshow(img2)"
   ]
  },
  {
   "cell_type": "code",
   "execution_count": null,
   "id": "710721f8-dbf5-41dd-8b7b-a2dde75e4aa5",
   "metadata": {},
   "outputs": [],
   "source": [
    "plt.figure(figsize=(20, 20))\n",
    "plt.imshow(img2)"
   ]
  },
  {
   "cell_type": "code",
   "execution_count": null,
   "id": "e1e3e417-3ec0-4251-9a66-ce07ca94352d",
   "metadata": {},
   "outputs": [],
   "source": [
    "%%timeit\n",
    "img3 = ndi.gaussian_filter(img, 10)"
   ]
  },
  {
   "cell_type": "code",
   "execution_count": null,
   "id": "e769c8d9-ac8c-45b9-a859-c703c2515f74",
   "metadata": {},
   "outputs": [],
   "source": [
    "img2 = img.copy()\n",
    "ref = blur.numba_stack_blur(img2, 10)"
   ]
  },
  {
   "cell_type": "code",
   "execution_count": null,
   "id": "e6edcbeb-f90f-487a-bb67-fe21aecaa49c",
   "metadata": {},
   "outputs": [],
   "source": [
    "%%timeit\n",
    "img2 = img.copy()"
   ]
  },
  {
   "cell_type": "code",
   "execution_count": null,
   "id": "e56616dc-94d9-4eed-b03d-19bb51618c6a",
   "metadata": {},
   "outputs": [],
   "source": [
    "%%timeit\n",
    "img2 = img.copy()\n",
    "out = blur.numba_stack_blur(img2, 10)"
   ]
  },
  {
   "cell_type": "code",
   "execution_count": null,
   "id": "5caccfb3-7505-454f-9313-3621f81a93e9",
   "metadata": {},
   "outputs": [],
   "source": [
    "blur._numba_stack_blur1d.signatures"
   ]
  },
  {
   "cell_type": "code",
   "execution_count": null,
   "id": "ae1f8200-5756-4169-a069-fd8a33ec2c1d",
   "metadata": {},
   "outputs": [],
   "source": [
    "blur._numba_stack_blur1d.inspect_types(pretty=True)"
   ]
  },
  {
   "cell_type": "code",
   "execution_count": null,
   "id": "924b0479-8bc8-4076-ab05-e958222f5f92",
   "metadata": {},
   "outputs": [],
   "source": [
    "print(list(blur._numba_stack_blur1d.inspect_asm().items())[0][1])"
   ]
  },
  {
   "cell_type": "code",
   "execution_count": null,
   "id": "719ceece-14dc-4d25-9b3c-2dd8678c22e1",
   "metadata": {},
   "outputs": [],
   "source": [
    "find_instr(blur._numba_stack_blur1d, keyword='subp', sig=0)"
   ]
  },
  {
   "cell_type": "code",
   "execution_count": null,
   "id": "ed438035-86ed-4fb4-9da1-0638a8eb63ed",
   "metadata": {},
   "outputs": [],
   "source": [
    "img2 = img.copy()\n",
    "out = blur.numba_stack_blur(img2, 10)"
   ]
  },
  {
   "cell_type": "code",
   "execution_count": null,
   "id": "65abc50e-fc30-4425-af75-3748faac67b7",
   "metadata": {},
   "outputs": [],
   "source": [
    "np.allclose(ref, out)"
   ]
  },
  {
   "cell_type": "code",
   "execution_count": null,
   "id": "14597412-287b-4cf7-9d91-e38e155806e8",
   "metadata": {},
   "outputs": [],
   "source": [
    "def find_instr(func, keyword, sig=0, limit=5):\n",
    "    count = 0\n",
    "    for l in func.inspect_asm(func.signatures[sig]).split('\\n'):\n",
    "        if keyword in l:\n",
    "            count += 1\n",
    "            print(l)\n",
    "            if count >= limit:\n",
    "                break\n",
    "    if count == 0:\n",
    "        print('No instructions found')"
   ]
  },
  {
   "cell_type": "code",
   "execution_count": null,
   "id": "6d4dc58b-3b2b-4b98-bb64-a07d492194b2",
   "metadata": {},
   "outputs": [],
   "source": [
    "plt.figure(figsize=(30,30))\n",
    "plt.imshow(img2)"
   ]
  },
  {
   "cell_type": "code",
   "execution_count": null,
   "id": "a5b0e42f-d273-40fa-96de-142f2ce85dfe",
   "metadata": {},
   "outputs": [],
   "source": [
    "plt.figure(figsize=(30,30))\n",
    "plt.imshow(img3)"
   ]
  },
  {
   "cell_type": "markdown",
   "id": "9a829adb-9d33-4be5-a38f-9b552c324c1e",
   "metadata": {},
   "source": [
    "# Prototyping"
   ]
  },
  {
   "cell_type": "code",
   "execution_count": null,
   "id": "0474a01a-ea82-42df-a99a-901b900dada2",
   "metadata": {},
   "outputs": [],
   "source": [
    "@numba.njit(fastmath=True, error_model=\"numpy\")\n",
    "def sb(ary, radius):\n",
    "    dtype = ary.dtype\n",
    "    width = ary.shape[-1]\n",
    "    width_minus1 = width - 1\n",
    "    height = ary.shape[-2]\n",
    "    radius_plus1 = radius + 1\n",
    "    div = 2 * radius + 1\n",
    "    div_sum = (radius + 1) * (radius + 1)\n",
    "    sum_factor = (radius + 1) * (radius + 2) // 2\n",
    "    new_row = np.empty(width, dtype=dtype)\n",
    "    stack = np.empty(div, dtype=dtype)\n",
    "    for y in range(height):\n",
    "        sum_ = 0\n",
    "        sum_in = 0\n",
    "        sum_out = 0\n",
    "        value = ary[y, 0]\n",
    "        sum_out = radius_plus1 * value\n",
    "        sum_ += sum_factor * value\n",
    "        for i in range(radius_plus1):\n",
    "            stack[i] = value\n",
    "        for i in range(1, radius_plus1):\n",
    "            value = ary[y, width_minus1 if i > width_minus1 else i]\n",
    "            stack[i + radius] = value\n",
    "            sum_ += value * (radius_plus1 - i)\n",
    "            sum_in += value\n",
    "        stack_idx = radius\n",
    "        for x in range(width):\n",
    "            # TODO: can also use lookup tables for multiplication/division\n",
    "            new_row[x] = np.round(sum_ / div_sum)\n",
    "            sum_ -= sum_out\n",
    "            stack_start = (stack_idx + div - radius) % div\n",
    "            stack_value = stack[stack_start]\n",
    "            sum_out -= stack_value\n",
    "            xp = (x + radius_plus1) % width_minus1\n",
    "            value = ary[y, xp]\n",
    "            stack[stack_start] = value\n",
    "            sum_in += value\n",
    "            sum_ += sum_in\n",
    "            stack_idx = (stack_idx + 1) % div\n",
    "            stack_value = stack[stack_idx]\n",
    "            sum_out += stack_value\n",
    "            sum_in -= stack_value\n",
    "        # copy new_row to row\n",
    "        for x in range(width):\n",
    "            ary[y, x] = new_row[x]\n",
    "\n",
    "sb(img.copy(), 10)"
   ]
  },
  {
   "cell_type": "markdown",
   "id": "2ac71764-058c-40ac-a8e0-859bc7fca116",
   "metadata": {},
   "source": [
    "### New"
   ]
  },
  {
   "cell_type": "code",
   "execution_count": null,
   "id": "b506ae4a-d8ce-41e9-8aa2-170b949726d6",
   "metadata": {},
   "outputs": [],
   "source": [
    "timeit.Timer(\"sb(img2, 10)\", setup=\"img2 = img.copy()\", globals=globals()).timeit(100)"
   ]
  },
  {
   "cell_type": "code",
   "execution_count": null,
   "id": "f4eaa084-3471-48ed-94d7-08b23f6d8453",
   "metadata": {},
   "outputs": [],
   "source": [
    "timeit.Timer(\"sb(img2, 10)\", setup=\"img2 = img.copy()\", globals=globals()).timeit(100)"
   ]
  },
  {
   "cell_type": "code",
   "execution_count": null,
   "id": "e476fa34-c0bf-44ae-9f6a-c0fbb781c99a",
   "metadata": {},
   "outputs": [],
   "source": [
    "timeit.Timer(\"sb(img2, 10)\", setup=\"img2 = img.copy()\", globals=globals()).timeit(100)"
   ]
  },
  {
   "cell_type": "markdown",
   "id": "8378402b-ca64-4163-b75e-b9923794e3a0",
   "metadata": {},
   "source": [
    "### Ref"
   ]
  },
  {
   "cell_type": "code",
   "execution_count": null,
   "id": "c643aa50-6fc9-4136-a17b-2e5e302ceffe",
   "metadata": {},
   "outputs": [],
   "source": [
    "timeit.Timer(\"sb(img2, 10)\", setup=\"img2 = img.copy()\", globals=globals()).timeit(100)"
   ]
  },
  {
   "cell_type": "code",
   "execution_count": null,
   "id": "6b6047df-b46f-4c8f-a5c9-c1ffd926167c",
   "metadata": {},
   "outputs": [],
   "source": [
    "timeit.Timer(\"sb(img2, 10)\", setup=\"img2 = img.copy()\", globals=globals()).timeit(100)"
   ]
  },
  {
   "cell_type": "code",
   "execution_count": null,
   "id": "2235d93d-3471-4f0f-91f7-3d6976e164c3",
   "metadata": {},
   "outputs": [],
   "source": [
    "timeit.Timer(\"sb(img2, 10)\", setup=\"img2 = img.copy()\", globals=globals()).timeit(100)"
   ]
  },
  {
   "cell_type": "code",
   "execution_count": null,
   "id": "17faaf9c-4ce9-4da8-9852-a9f7b7615916",
   "metadata": {},
   "outputs": [],
   "source": [
    "%%timeit\n",
    "sb(img2, 10)"
   ]
  },
  {
   "cell_type": "code",
   "execution_count": null,
   "id": "b8f4ce89-0b25-49e4-a098-8c0e236dcdd2",
   "metadata": {},
   "outputs": [],
   "source": [
    "sb.inspect_types(pretty=True)"
   ]
  },
  {
   "cell_type": "code",
   "execution_count": null,
   "id": "4b9cf91b-fcfe-45f1-9f6e-d8be7c11fb7a",
   "metadata": {},
   "outputs": [],
   "source": [
    "print(list(sb.inspect_asm().items())[0][1])"
   ]
  },
  {
   "cell_type": "code",
   "execution_count": null,
   "id": "3ff89646-73ed-419b-b3d3-31099a326a4c",
   "metadata": {},
   "outputs": [],
   "source": [
    "@numba.njit(fastmath=True, error_model=\"numpy\")\n",
    "def frac_diff1(x, y):\n",
    "    out = np.empty_like(x)\n",
    "    for i in range(x.shape[0]):\n",
    "        out[i] = 2 * (x[i] - y[i]) / (x[i] + y[i])\n",
    "    return out"
   ]
  },
  {
   "cell_type": "code",
   "execution_count": null,
   "id": "d54950d8-854e-4e51-b380-961036165a4b",
   "metadata": {},
   "outputs": [],
   "source": [
    "x32 = np.linspace(1, 2, 10000, dtype=np.float32)\n",
    "y32 = np.linspace(2, 3, 10000, dtype=np.float32)"
   ]
  },
  {
   "cell_type": "code",
   "execution_count": null,
   "id": "f7f13399-f423-4435-bd2d-e00621aff929",
   "metadata": {},
   "outputs": [],
   "source": [
    "frac_diff1(x32, y32)"
   ]
  },
  {
   "cell_type": "code",
   "execution_count": null,
   "id": "e2bed0b5-2844-4cf5-acc2-daa31a069fa3",
   "metadata": {},
   "outputs": [],
   "source": [
    "%%timeit\n",
    "frac_diff1(x32, y32)"
   ]
  },
  {
   "cell_type": "code",
   "execution_count": null,
   "id": "32150c6f-2694-4bff-a0ec-4b891a4c8466",
   "metadata": {},
   "outputs": [],
   "source": [
    "print(list(frac_diff1.inspect_asm().items())[0][1])"
   ]
  },
  {
   "cell_type": "code",
   "execution_count": null,
   "id": "6cf2e092-c908-4bf3-9e19-af5b2c336d24",
   "metadata": {},
   "outputs": [],
   "source": []
  }
 ],
 "metadata": {
  "kernelspec": {
   "display_name": "Python 3 (ipykernel)",
   "language": "python",
   "name": "python3"
  },
  "language_info": {
   "codemirror_mode": {
    "name": "ipython",
    "version": 3
   },
   "file_extension": ".py",
   "mimetype": "text/x-python",
   "name": "python",
   "nbconvert_exporter": "python",
   "pygments_lexer": "ipython3",
   "version": "3.10.4"
  }
 },
 "nbformat": 4,
 "nbformat_minor": 5
}
