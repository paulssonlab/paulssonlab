{
 "cells": [
  {
   "cell_type": "code",
   "execution_count": null,
   "id": "62afa101-b872-41bf-83b4-924485669b88",
   "metadata": {},
   "outputs": [],
   "source": [
    "import numpy as np\n",
    "import pandas as pd\n",
    "import scipy.ndimage as ndi\n",
    "import holoviews as hv\n",
    "import hvplot.pandas\n",
    "import matplotlib.pyplot as plt\n",
    "import nd2reader\n",
    "import skimage\n",
    "import numba\n",
    "from tqdm.auto import tqdm\n",
    "import timeit"
   ]
  },
  {
   "cell_type": "code",
   "execution_count": null,
   "id": "7526b829-d310-4c65-ab49-902feab31de3",
   "metadata": {},
   "outputs": [],
   "source": [
    "hv.extension(\"bokeh\")"
   ]
  },
  {
   "cell_type": "code",
   "execution_count": null,
   "id": "6e7181e2-fb9d-4514-80c5-76d014da03dc",
   "metadata": {},
   "outputs": [],
   "source": [
    "%load_ext autoreload\n",
    "%autoreload 2\n",
    "%load_ext pyinstrument"
   ]
  },
  {
   "cell_type": "code",
   "execution_count": null,
   "id": "1fe53d3d-d003-4bd1-8207-e8053e5aaf95",
   "metadata": {},
   "outputs": [],
   "source": [
    "from paulssonlab.image_analysis import blur"
   ]
  },
  {
   "cell_type": "markdown",
   "id": "4e704677-8dec-463b-ba14-c24480289c19",
   "metadata": {},
   "source": [
    "For discussions of algorithms, see:\n",
    "- https://stackoverflow.com/questions/98359/fastest-gaussian-blur-implementation\n",
    "- https://github.com/bfraboni/FastGaussianBlur\n",
    "- http://blog.ivank.net/fastest-gaussian-blur.html\n",
    "- https://dsp.stackexchange.com/questions/50576/fastest-available-algorithm-to-blur-an-image-low-pass-filter\n",
    "- https://github.com/pelson/antigrain/blob/64c9125e2b350a422c08d7fa8fff023400ad3f9f/agg-2.4/include/agg_blur.h"
   ]
  },
  {
   "cell_type": "markdown",
   "id": "e4b91ae1-1985-4c85-ac6b-9c3b7328d649",
   "metadata": {
    "tags": []
   },
   "source": [
    "# Setup"
   ]
  },
  {
   "cell_type": "code",
   "execution_count": null,
   "id": "93bff0d0-79bc-494f-a234-0329244a54e1",
   "metadata": {},
   "outputs": [],
   "source": [
    "blur_funcs = [\"ndi.gaussian_filter\", \"blur.scipy_box_blur_2d\", \"blur.scipy_box_blur\", \"blur.numba_stack_blur\"]\n",
    "#sigmas = np.concatenate((np.linspace(0.1, 3, 5), np.linspace(4, 50, 5)))\n",
    "#sigmas = [1,3,5,10,25,50]\n",
    "sigmas = np.concatenate((np.arange(1, 10), np.arange(10, 50, 5)))\n",
    "kwargs = {\"mode\": \"nearest\"}"
   ]
  },
  {
   "cell_type": "code",
   "execution_count": null,
   "id": "a8a5ef77-c3ec-4599-9729-461be21f4b3b",
   "metadata": {},
   "outputs": [],
   "source": [
    "nd2 = nd2reader.ND2Reader(\"/home/jqs1/scratch/jqs1/microscopy/220704/220704rbs_library_fish.nd2\")\n",
    "img = nd2.get_frame_2D(v=50, t=20, c=2)"
   ]
  },
  {
   "cell_type": "code",
   "execution_count": null,
   "id": "5d9eca4b-10ee-4d18-ad35-619e8c3a21a3",
   "metadata": {},
   "outputs": [],
   "source": [
    "plt.figure(figsize=(20, 20))\n",
    "plt.imshow(img)"
   ]
  },
  {
   "cell_type": "markdown",
   "id": "982b5c59-1715-4f49-900f-15e2f1b90dfb",
   "metadata": {
    "tags": []
   },
   "source": [
    "# Benchmarks"
   ]
  },
  {
   "cell_type": "code",
   "execution_count": null,
   "id": "c0e429be-a028-4ae7-a31e-9b77a1eabcc0",
   "metadata": {},
   "outputs": [],
   "source": [
    "%%time\n",
    "rows = []\n",
    "for sigma in tqdm(sigmas):\n",
    "    ref = None\n",
    "    for func_name in tqdm(blur_funcs, leave=False):\n",
    "        eval_str = f\"{func_name}(img2, sigma, **kwargs)\"\n",
    "        img2 = img.copy()\n",
    "        blurred = eval(eval_str, globals())\n",
    "        t = timeit.Timer(eval_str, setup=\"img2 = img.copy()\", globals=globals()).timeit(10)\n",
    "        if ref is None:\n",
    "            ref = blurred\n",
    "            rms = 0\n",
    "        else:\n",
    "            rms = np.sqrt(((blurred - ref)**2).sum())\n",
    "        rows.append((func_name, sigma, t, rms))\n",
    "df = pd.DataFrame(rows, columns=[\"function\", \"sigma\", \"t\", \"rms\"])"
   ]
  },
  {
   "cell_type": "code",
   "execution_count": null,
   "id": "ed198f72-61d3-4af3-89fa-8631564bdfae",
   "metadata": {},
   "outputs": [],
   "source": [
    "df.hvplot.scatter(\"sigma\", \"t\", by=\"function\")"
   ]
  },
  {
   "cell_type": "markdown",
   "id": "2ff26ec8-34b4-4e5d-827d-776d92d078b3",
   "metadata": {},
   "source": [
    "# Performance"
   ]
  },
  {
   "cell_type": "markdown",
   "id": "d47ad5c6-c25d-496c-8afb-d490d6946845",
   "metadata": {},
   "source": [
    "# Accuracy matrix"
   ]
  },
  {
   "cell_type": "code",
   "execution_count": null,
   "id": "596e52f0-3045-4abe-b4c2-d6f94d4b982e",
   "metadata": {},
   "outputs": [],
   "source": []
  },
  {
   "cell_type": "markdown",
   "id": "019b3384-e373-4b68-b448-0d7c76e01fe2",
   "metadata": {},
   "source": [
    "# Auxiliary benchmarks"
   ]
  },
  {
   "cell_type": "markdown",
   "id": "214378ec-38a9-425b-94d9-92a29bcad80c",
   "metadata": {
    "tags": []
   },
   "source": [
    "# Test"
   ]
  },
  {
   "cell_type": "code",
   "execution_count": null,
   "id": "fdc1ad15-81fa-4f9e-89f6-8a1caabab780",
   "metadata": {},
   "outputs": [],
   "source": [
    "%%pyinstrument\n",
    "ndi.gaussian_filter(img, 1)"
   ]
  },
  {
   "cell_type": "code",
   "execution_count": null,
   "id": "51076758-73a0-4434-bd13-5e16b611e635",
   "metadata": {},
   "outputs": [],
   "source": [
    "%%pyinstrument\n",
    "img2 = img.copy()\n",
    "for i in range(5):\n",
    "    #ndi.gaussian_filter(img, 1)\n",
    "    blur.scipy_box_blur(img, 1, output=img2)"
   ]
  },
  {
   "cell_type": "code",
   "execution_count": null,
   "id": "b506ae4a-d8ce-41e9-8aa2-170b949726d6",
   "metadata": {},
   "outputs": [],
   "source": [
    "timeit.Timer(\"sb(img2, 10)\", setup=\"img2 = img.copy()\", globals=globals()).timeit(100)"
   ]
  },
  {
   "cell_type": "code",
   "execution_count": null,
   "id": "ebc473ec-7424-4795-9daa-1f15cc4fbc11",
   "metadata": {},
   "outputs": [],
   "source": [
    "timeit.Timer(\"blur.scipy_box_blur_2d(img, 10)\", globals=globals()).timeit(5)"
   ]
  },
  {
   "cell_type": "code",
   "execution_count": null,
   "id": "beb3efc5-99f5-4d6f-8d99-7861336f5865",
   "metadata": {},
   "outputs": [],
   "source": [
    "timeit.Timer(\"blur.scipy_box_blur(img, 10)\", globals=globals()).timeit(5)"
   ]
  },
  {
   "cell_type": "code",
   "execution_count": null,
   "id": "f7d395c9-e5b4-44a3-9826-67a0a197b7b7",
   "metadata": {},
   "outputs": [],
   "source": [
    "timeit.Timer(\"blur.scipy_box_blur(img, 10)\", globals=globals()).timeit(5)"
   ]
  }
 ],
 "metadata": {
  "kernelspec": {
   "display_name": "Python 3 (ipykernel)",
   "language": "python",
   "name": "python3"
  },
  "language_info": {
   "codemirror_mode": {
    "name": "ipython",
    "version": 3
   },
   "file_extension": ".py",
   "mimetype": "text/x-python",
   "name": "python",
   "nbconvert_exporter": "python",
   "pygments_lexer": "ipython3",
   "version": "3.10.6"
  }
 },
 "nbformat": 4,
 "nbformat_minor": 5
}
