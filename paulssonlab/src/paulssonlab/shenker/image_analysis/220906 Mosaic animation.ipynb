{
 "cells": [
  {
   "cell_type": "markdown",
   "metadata": {
    "tags": []
   },
   "source": [
    "# Imports"
   ]
  },
  {
   "cell_type": "code",
   "execution_count": null,
   "metadata": {},
   "outputs": [],
   "source": [
    "import numpy as np\n",
    "from tqdm.auto import tqdm\n",
    "import nd2reader\n",
    "import h5py\n",
    "import matplotlib.pyplot as plt\n",
    "from cytoolz import partial\n",
    "import itertools as it\n",
    "from pathlib import Path\n",
    "from tqdm.auto import trange, tqdm\n",
    "import dask\n",
    "import distributed\n",
    "from distributed import Client\n",
    "from dask_jobqueue import SLURMCluster\n",
    "from IPython.display import Video"
   ]
  },
  {
   "cell_type": "code",
   "execution_count": null,
   "metadata": {},
   "outputs": [],
   "source": [
    "from dask.diagnostics import ProgressBar\n",
    "pbar = ProgressBar()                \n",
    "pbar.register()"
   ]
  },
  {
   "cell_type": "code",
   "execution_count": null,
   "metadata": {},
   "outputs": [],
   "source": [
    "%load_ext autoreload\n",
    "%autoreload 2\n",
    "%load_ext pyinstrument"
   ]
  },
  {
   "cell_type": "code",
   "execution_count": null,
   "metadata": {},
   "outputs": [],
   "source": [
    "from paulssonlab.image_analysis import workflow, mosaic"
   ]
  },
  {
   "cell_type": "markdown",
   "metadata": {
    "tags": []
   },
   "source": [
    "# Config"
   ]
  },
  {
   "cell_type": "code",
   "execution_count": null,
   "metadata": {},
   "outputs": [],
   "source": [
    "nd2_filename = \"/home/jqs1/scratch/jqs1/microscopy/220704/220704rbs_library_fish.nd2\"\n",
    "# nd2_filename = \"/home/jqs1/scratch/jqs1/microscopy/220718/RBS_DEG_library_20x.nd2\""
   ]
  },
  {
   "cell_type": "code",
   "execution_count": null,
   "metadata": {},
   "outputs": [],
   "source": [
    "nd2 = nd2reader.ND2Reader(nd2_filename)"
   ]
  },
  {
   "cell_type": "code",
   "execution_count": null,
   "metadata": {},
   "outputs": [],
   "source": [
    "#default_channels = (\"YFP-DUAL\", \"RFP-Penta\")\n",
    "default_channels = (\"YFP-DUAL\", \"RFP-PENTA\")\n",
    "channel_to_color = {\n",
    "    \"BF\": \"#ffffff\",\n",
    "    \"RFP-PENTA\": \"#e22400\",\n",
    "    \"RFP-Penta\": \"#e22400\",\n",
    "    \"YFP-DUAL\": \"#f5eb00\",\n",
    "    # \"GFP\": \"#76ba40\",\n",
    "    \"Cy5\": \"#e292fe\",\n",
    "    # \"Cy7\": \"#FF0000\"\n",
    "    # \"BFP\": \"#3a87fd\",\n",
    "}"
   ]
  },
  {
   "cell_type": "code",
   "execution_count": null,
   "metadata": {},
   "outputs": [],
   "source": [
    "dask.config.set({'distributed.scheduler.allowed-failures': 10})"
   ]
  },
  {
   "cell_type": "code",
   "execution_count": null,
   "metadata": {},
   "outputs": [],
   "source": [
    "cluster = SLURMCluster(\n",
    "    queue=\"short\",\n",
    "    walltime=\"03:00:00\",\n",
    "    memory=\"6GB\",\n",
    "    local_directory=\"/tmp\",\n",
    "    log_directory=\"/home/jqs1/log\",\n",
    "    cores=1,\n",
    "    processes=1,\n",
    ")\n",
    "client = Client(cluster)"
   ]
  },
  {
   "cell_type": "code",
   "execution_count": null,
   "metadata": {},
   "outputs": [],
   "source": [
    "cluster.scale(20)"
   ]
  },
  {
   "cell_type": "code",
   "execution_count": null,
   "metadata": {},
   "outputs": [],
   "source": [
    "cluster.adapt(maximum=100)"
   ]
  },
  {
   "cell_type": "code",
   "execution_count": null,
   "metadata": {},
   "outputs": [],
   "source": [
    "cluster"
   ]
  },
  {
   "cell_type": "markdown",
   "metadata": {
    "tags": []
   },
   "source": [
    "# Mosaic"
   ]
  },
  {
   "cell_type": "code",
   "execution_count": null,
   "metadata": {},
   "outputs": [],
   "source": [
    "%%time\n",
    "extrema = mosaic.get_intensity_extrema(nd2, (\"YFP-DUAL\", \"RFP-PENTA\"))"
   ]
  },
  {
   "cell_type": "code",
   "execution_count": null,
   "metadata": {},
   "outputs": [],
   "source": [
    "extrema"
   ]
  },
  {
   "cell_type": "code",
   "execution_count": null,
   "metadata": {},
   "outputs": [],
   "source": [
    "scaling_funcs = mosaic.get_scaling_funcs(extrema)\n",
    "#scaling_funcs = get_scaling_funcs({\"YFP-DUAL\": (262, 8000), \"RFP-Penta\": (278, 8000)})"
   ]
  },
  {
   "cell_type": "code",
   "execution_count": null,
   "metadata": {},
   "outputs": [],
   "source": [
    "(50 - 1) / 2"
   ]
  },
  {
   "cell_type": "code",
   "execution_count": null,
   "metadata": {},
   "outputs": [],
   "source": [
    "(10 - 1)"
   ]
  },
  {
   "cell_type": "code",
   "execution_count": null,
   "metadata": {},
   "outputs": [],
   "source": [
    "%%time\n",
    "num_t = nd2.sizes[\"t\"]\n",
    "#scale = it.repeat(20)\n",
    "scale = it.repeat(0.1)\n",
    "#scale = it.repeat(0.4)\n",
    "#scale = np.geomspace(20, 0.05, num_t*3)# + np.linspace(0, 0, 0) #it.repeat(0.3)  # [0.3, 0.3, 0.3, 0.3]\n",
    "# timepoints = range(0, 119, 30)\n",
    "# timepoints = range(0, 110, 10)#[20,40,60]\n",
    "timepoints = [20]#[20,40,60,80]\n",
    "#timepoints = range(num_t)\n",
    "#timepoints = it.chain(range(num_t), range(num_t), range(num_t)) #[20]#[20, 40, 60]\n",
    "offset = np.array([600, 400])\n",
    "animation_delayed = mosaic.mosaic_animate_scale(\n",
    "    nd2_filename,\n",
    "    scale,\n",
    "    timepoints=timepoints,\n",
    "    scaling_funcs=scaling_funcs,\n",
    "    offset=offset,\n",
    "    channels=default_channels,\n",
    "    channel_to_color=channel_to_color,\n",
    "    delayed=True,\n",
    ")"
   ]
  },
  {
   "cell_type": "code",
   "execution_count": null,
   "metadata": {},
   "outputs": [],
   "source": [
    "#%%pyinstrument\n",
    "a = dask.compute(animation_delayed, scheduler=\"sync\")[0]"
   ]
  },
  {
   "cell_type": "code",
   "execution_count": null,
   "metadata": {},
   "outputs": [],
   "source": [
    "(1 / np.array([0.1,0.4,1,1/49]) - 1) / 2"
   ]
  },
  {
   "cell_type": "code",
   "execution_count": null,
   "metadata": {},
   "outputs": [],
   "source": [
    "%%time\n",
    "#animation_future = client.compute(animation_delayed)\n",
    "animation_future = [client.compute(a) for a in tqdm(animation_delayed)]"
   ]
  },
  {
   "cell_type": "code",
   "execution_count": null,
   "metadata": {},
   "outputs": [],
   "source": [
    "%%time\n",
    "a = client.gather(animation_future)"
   ]
  },
  {
   "cell_type": "code",
   "execution_count": null,
   "metadata": {},
   "outputs": [],
   "source": [
    "client.retry([a for a in animation_future if a.status == \"error\"])"
   ]
  },
  {
   "cell_type": "code",
   "execution_count": null,
   "metadata": {},
   "outputs": [],
   "source": [
    "client.gather([a for a in animation_future if a.status == \"error\"])"
   ]
  },
  {
   "cell_type": "code",
   "execution_count": null,
   "metadata": {},
   "outputs": [],
   "source": [
    "plt.figure(figsize=(20, 20))\n",
    "plt.imshow((a[0])[800:,:]) #/16"
   ]
  },
  {
   "cell_type": "code",
   "execution_count": null,
   "metadata": {},
   "outputs": [],
   "source": [
    "plt.figure(figsize=(20, 20))\n",
    "plt.imshow((a[0])[800:,:]) #/8"
   ]
  },
  {
   "cell_type": "code",
   "execution_count": null,
   "metadata": {},
   "outputs": [],
   "source": [
    "plt.figure(figsize=(20, 20))\n",
    "plt.imshow((a[0])[800:,:]) #/4"
   ]
  },
  {
   "cell_type": "code",
   "execution_count": null,
   "metadata": {},
   "outputs": [],
   "source": [
    "plt.figure(figsize=(20, 20))\n",
    "plt.imshow((a[0])[800:,:])"
   ]
  },
  {
   "cell_type": "code",
   "execution_count": null,
   "metadata": {},
   "outputs": [],
   "source": [
    "plt.figure(figsize=(20, 20))\n",
    "plt.imshow((a[0])[800:,:])"
   ]
  },
  {
   "cell_type": "code",
   "execution_count": null,
   "metadata": {},
   "outputs": [],
   "source": [
    "plt.figure(figsize=(20, 20))\n",
    "plt.imshow((a[0])[800:,:])"
   ]
  },
  {
   "cell_type": "code",
   "execution_count": null,
   "metadata": {},
   "outputs": [],
   "source": [
    "plt.figure(figsize=(20, 20))\n",
    "plt.imshow((a[0])[800:,:])"
   ]
  },
  {
   "cell_type": "code",
   "execution_count": null,
   "metadata": {},
   "outputs": [],
   "source": [
    "plt.figure(figsize=(20, 20))\n",
    "plt.imshow((a[0])[800:,:]) #noaa, order=3"
   ]
  },
  {
   "cell_type": "code",
   "execution_count": null,
   "metadata": {},
   "outputs": [],
   "source": [
    "plt.figure(figsize=(20, 20))\n",
    "plt.imshow((a[0])[800:,:]) #noaa, order=2"
   ]
  },
  {
   "cell_type": "code",
   "execution_count": null,
   "metadata": {},
   "outputs": [],
   "source": [
    "plt.figure(figsize=(20, 20))\n",
    "plt.imshow((a[0])[800:,:]) #noaa, order=1"
   ]
  },
  {
   "cell_type": "code",
   "execution_count": null,
   "metadata": {},
   "outputs": [],
   "source": [
    "plt.figure(figsize=(20, 20))\n",
    "plt.imshow((a[0])[800:,:]) #aa1"
   ]
  },
  {
   "cell_type": "code",
   "execution_count": null,
   "metadata": {},
   "outputs": [],
   "source": [
    "plt.figure(figsize=(20, 20))\n",
    "plt.imshow((aa0)[800:,:200])"
   ]
  },
  {
   "cell_type": "code",
   "execution_count": null,
   "metadata": {},
   "outputs": [],
   "source": [
    "plt.figure(figsize=(20, 20))\n",
    "plt.imshow((aa2)[800:,:200])"
   ]
  },
  {
   "cell_type": "code",
   "execution_count": null,
   "metadata": {},
   "outputs": [],
   "source": [
    "plt.figure(figsize=(20, 20))\n",
    "plt.imshow((aa4)[800:,:200])"
   ]
  },
  {
   "cell_type": "code",
   "execution_count": null,
   "metadata": {},
   "outputs": [],
   "source": [
    "aa2 = a[0]\n",
    "plt.figure(figsize=(20, 20))\n",
    "plt.imshow(a[0]) # aa4"
   ]
  },
  {
   "cell_type": "code",
   "execution_count": null,
   "metadata": {},
   "outputs": [],
   "source": [
    "plt.figure(figsize=(20, 20))\n",
    "plt.imshow(a[0]) # aa2"
   ]
  },
  {
   "cell_type": "code",
   "execution_count": null,
   "metadata": {},
   "outputs": [],
   "source": [
    "plt.figure(figsize=(20, 20))\n",
    "plt.imshow(a[0]) # aa1"
   ]
  },
  {
   "cell_type": "code",
   "execution_count": null,
   "metadata": {},
   "outputs": [],
   "source": [
    "plt.figure(figsize=(20, 20))\n",
    "plt.imshow(a[0]) # 0"
   ]
  },
  {
   "cell_type": "code",
   "execution_count": null,
   "metadata": {},
   "outputs": [],
   "source": [
    "plt.figure(figsize=(20, 20))\n",
    "plt.imshow(a[0])"
   ]
  },
  {
   "cell_type": "code",
   "execution_count": null,
   "metadata": {},
   "outputs": [],
   "source": [
    "plt.figure(figsize=(20, 20))\n",
    "plt.imshow(a[0])"
   ]
  },
  {
   "cell_type": "code",
   "execution_count": null,
   "metadata": {},
   "outputs": [],
   "source": [
    "plt.figure(figsize=(20, 20))\n",
    "plt.imshow(a[0])"
   ]
  },
  {
   "cell_type": "code",
   "execution_count": null,
   "metadata": {},
   "outputs": [],
   "source": [
    "plt.figure(figsize=(20, 20))\n",
    "plt.imshow(a[0])"
   ]
  },
  {
   "cell_type": "code",
   "execution_count": null,
   "metadata": {},
   "outputs": [],
   "source": [
    "%%time\n",
    "mosaic.export_video(a, \"/home/jqs1/scratch/jqs1/microscopy/220704/mosaics/timelapse_10x10.mp4\", fps=10)"
   ]
  },
  {
   "cell_type": "code",
   "execution_count": null,
   "metadata": {},
   "outputs": [],
   "source": [
    "Video(\"/home/jqs1/scratch/jqs1/microscopy/220704/mosaics/timelapse_3x3_5fps.mp4\", embed=True)"
   ]
  },
  {
   "cell_type": "markdown",
   "metadata": {
    "tags": []
   },
   "source": [
    "# FISH"
   ]
  },
  {
   "cell_type": "code",
   "execution_count": null,
   "metadata": {},
   "outputs": [],
   "source": [
    "fish_dir = Path(\"/home/jqs1/scratch/jqs1/microscopy/220718/FISH/real_run\")"
   ]
  },
  {
   "cell_type": "code",
   "execution_count": null,
   "metadata": {},
   "outputs": [],
   "source": [
    "def get_fish_frame(filename, v, channel, t):\n",
    "    with h5py.File(filename / f\"fov={v}_config={channel}_t={t}\") as f:\n",
    "        frame = f[\"data\"][()]\n",
    "    return frame"
   ]
  },
  {
   "cell_type": "code",
   "execution_count": null,
   "metadata": {},
   "outputs": [],
   "source": [
    "fish_colors = {\n",
    "    \"BF\": \"#ffffff\",\n",
    "    \"RFP\": \"#e22400\",\n",
    "    # \"YFP-DUAL\": \"#f5eb00\",\n",
    "    # \"GFP\": \"#76ba40\",\n",
    "    \"Cy5\": \"#e292fe\",\n",
    "    \"Cy7\": \"#00faff\"\n",
    "    # \"BFP\": \"#3a87fd\",\n",
    "}"
   ]
  },
  {
   "cell_type": "code",
   "execution_count": null,
   "metadata": {},
   "outputs": [],
   "source": [
    "fish_scaling_funcs = get_scaling_funcs(\n",
    "    {\n",
    "        \"BF\": (40_000, 65_500),\n",
    "        \"RFP\": (8000, 15000),\n",
    "        \"Cy5\": (5_000, 40000),\n",
    "        \"Cy7\": (2500, 4_000),\n",
    "    }\n",
    ")"
   ]
  },
  {
   "cell_type": "code",
   "execution_count": null,
   "metadata": {},
   "outputs": [],
   "source": [
    "fish_scaling_funcs[\"Cy7\"](2172)"
   ]
  },
  {
   "cell_type": "code",
   "execution_count": null,
   "metadata": {},
   "outputs": [],
   "source": [
    "a = colorized_frame(\n",
    "    fish_colors,\n",
    "    get_fish_frame,\n",
    "    fish_dir,\n",
    "    1,\n",
    "    8,\n",
    "    [\"Cy7\"],\n",
    "    scaling_funcs=fish_scaling_funcs,\n",
    ")\n",
    "plt.figure(figsize=(40, 40))\n",
    "plt.imshow(a)"
   ]
  },
  {
   "cell_type": "code",
   "execution_count": null,
   "metadata": {},
   "outputs": [],
   "source": [
    "a = colorized_frame(\n",
    "    fish_colors,\n",
    "    get_fish_frame,\n",
    "    fish_dir,\n",
    "    1,\n",
    "    8,\n",
    "    [\"Cy5\"],\n",
    "    scaling_funcs=fish_scaling_funcs,\n",
    ")\n",
    "plt.figure(figsize=(40, 40))\n",
    "plt.imshow(a)"
   ]
  },
  {
   "cell_type": "code",
   "execution_count": null,
   "metadata": {},
   "outputs": [],
   "source": [
    "a = colorized_frame(\n",
    "    fish_colors,\n",
    "    get_fish_frame,\n",
    "    fish_dir,\n",
    "    1,\n",
    "    8,\n",
    "    [\"RFP\"],\n",
    "    scaling_funcs=fish_scaling_funcs,\n",
    ")\n",
    "plt.figure(figsize=(40, 40))\n",
    "plt.imshow(a)"
   ]
  },
  {
   "cell_type": "code",
   "execution_count": null,
   "metadata": {},
   "outputs": [],
   "source": [
    "a = colorized_frame(\n",
    "    fish_colors,\n",
    "    get_fish_frame,\n",
    "    fish_dir,\n",
    "    1,\n",
    "    8,\n",
    "    [\"RFP\", \"Cy5\", \"Cy7\"],\n",
    "    scaling_funcs=fish_scaling_funcs,\n",
    ")\n",
    "plt.figure(figsize=(40, 40))\n",
    "plt.imshow(a)"
   ]
  },
  {
   "cell_type": "code",
   "execution_count": null,
   "metadata": {},
   "outputs": [],
   "source": [
    "a = colorized_frame(\n",
    "    fish_colors,\n",
    "    get_fish_frame,\n",
    "    fish_dir,\n",
    "    1,\n",
    "    8,\n",
    "    [\"BF\", \"RFP\", \"Cy5\", \"Cy7\"],\n",
    "    scaling_funcs=fish_scaling_funcs,\n",
    ")\n",
    "plt.figure(figsize=(40, 40))\n",
    "plt.imshow(a)"
   ]
  },
  {
   "cell_type": "code",
   "execution_count": null,
   "metadata": {},
   "outputs": [],
   "source": [
    "a = colorized_frame(\n",
    "    fish_colors,\n",
    "    get_fish_frame,\n",
    "    fish_dir,\n",
    "    1,\n",
    "    8,\n",
    "    [\"BF\", \"RFP\", \"Cy5\", \"Cy7\"],\n",
    "    scaling_funcs=fish_scaling_funcs,\n",
    ")\n",
    "plt.figure(figsize=(40, 40))\n",
    "plt.imshow(a)"
   ]
  },
  {
   "cell_type": "code",
   "execution_count": null,
   "metadata": {},
   "outputs": [],
   "source": [
    "%%time\n",
    "frames = [\n",
    "    colorized_frame(\n",
    "        fish_colors,\n",
    "        get_fish_frame,\n",
    "        fish_dir,\n",
    "        t,\n",
    "        8,\n",
    "        [\"Cy7\"],\n",
    "        scaling_funcs=fish_scaling_funcs,\n",
    "    )\n",
    "    for t in trange(1, 11)\n",
    "]"
   ]
  },
  {
   "cell_type": "code",
   "execution_count": null,
   "metadata": {},
   "outputs": [],
   "source": [
    "%%time\n",
    "rescaled_frames = [skimage.transform.rescale(f, 0.5, anti_aliasing=True, channel_axis=-1) for f in tqdm(frames)]"
   ]
  },
  {
   "cell_type": "code",
   "execution_count": null,
   "metadata": {},
   "outputs": [],
   "source": [
    "%%time\n",
    "export_video(rescaled_frames, \"/home/jqs1/_temp/FISH_Cy7.mp4\", fps=5)"
   ]
  },
  {
   "cell_type": "code",
   "execution_count": null,
   "metadata": {},
   "outputs": [],
   "source": [
    "!du -hs /home/jqs1/_temp/FISH_BF.mp4"
   ]
  },
  {
   "cell_type": "code",
   "execution_count": null,
   "metadata": {},
   "outputs": [],
   "source": []
  }
 ],
 "metadata": {
  "kernelspec": {
   "display_name": "Python 3 (ipykernel)",
   "language": "python",
   "name": "python3"
  },
  "language_info": {
   "codemirror_mode": {
    "name": "ipython",
    "version": 3
   },
   "file_extension": ".py",
   "mimetype": "text/x-python",
   "name": "python",
   "nbconvert_exporter": "python",
   "pygments_lexer": "ipython3",
   "version": "3.10.5"
  }
 },
 "nbformat": 4,
 "nbformat_minor": 4
}
