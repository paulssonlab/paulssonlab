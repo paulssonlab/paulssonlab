{
 "cells": [
  {
   "cell_type": "markdown",
   "id": "0",
   "metadata": {
    "tags": []
   },
   "source": [
    "# Imports"
   ]
  },
  {
   "cell_type": "code",
   "execution_count": null,
   "id": "1",
   "metadata": {},
   "outputs": [],
   "source": [
    "import itertools as it\n",
    "import operator\n",
    "import os\n",
    "import pickle\n",
    "import re\n",
    "from collections import namedtuple\n",
    "from functools import partial, reduce\n",
    "from pathlib import Path\n",
    "\n",
    "import dask\n",
    "import distributed\n",
    "import holoviews as hv\n",
    "import hvplot.pandas\n",
    "import matplotlib.pyplot as plt\n",
    "import nd2reader\n",
    "import numpy as np\n",
    "import pandas as pd\n",
    "import panel as pn\n",
    "import pyarrow as pa\n",
    "import pyarrow.parquet as pq\n",
    "import skimage.measure\n",
    "import zarr\n",
    "from dask import delayed\n",
    "from dask_jobqueue import SLURMCluster\n",
    "from distributed import Client, LocalCluster, progress\n",
    "from tqdm.auto import tqdm\n",
    "\n",
    "IDX = pd.IndexSlice"
   ]
  },
  {
   "cell_type": "code",
   "execution_count": null,
   "id": "2",
   "metadata": {},
   "outputs": [],
   "source": [
    "%load_ext autoreload\n",
    "%autoreload 2"
   ]
  },
  {
   "cell_type": "code",
   "execution_count": null,
   "id": "3",
   "metadata": {},
   "outputs": [],
   "source": [
    "import paulssonlab.image_analysis.new as new\n",
    "from paulssonlab.image_analysis import *"
   ]
  },
  {
   "cell_type": "code",
   "execution_count": null,
   "id": "4",
   "metadata": {},
   "outputs": [],
   "source": [
    "%load_ext pyinstrument"
   ]
  },
  {
   "cell_type": "code",
   "execution_count": null,
   "id": "5",
   "metadata": {},
   "outputs": [],
   "source": [
    "hv.extension(\"bokeh\")"
   ]
  },
  {
   "cell_type": "markdown",
   "id": "6",
   "metadata": {},
   "source": [
    "## Load outputs from pickle"
   ]
  },
  {
   "cell_type": "code",
   "execution_count": null,
   "id": "7",
   "metadata": {},
   "outputs": [],
   "source": [
    "pickle_filename = \"/home/jqs1/group/221108rbsdeglibrary_1.pickle\""
   ]
  },
  {
   "cell_type": "code",
   "execution_count": null,
   "id": "8",
   "metadata": {},
   "outputs": [],
   "source": [
    "%%time\n",
    "with open(pickle_filename, \"rb\") as f:\n",
    "    table, array = pickle.load(f)"
   ]
  },
  {
   "cell_type": "markdown",
   "id": "9",
   "metadata": {
    "tags": []
   },
   "source": [
    "# Helper functions"
   ]
  },
  {
   "cell_type": "code",
   "execution_count": null,
   "id": "10",
   "metadata": {},
   "outputs": [],
   "source": [
    "def reformat_table(\n",
    "    table, prefix, flatten_column_names=False, truncate_column_names=False\n",
    "):\n",
    "    keys = sorted([k for k in table.keys() if k[0] == prefix])\n",
    "    if not keys:\n",
    "        return None\n",
    "    df = pd.concat(\n",
    "        {k[1:]: pd.concat(table[k], names=[\"roi\"]) for k in keys},\n",
    "        names=[\"fov\", \"t\", \"channel\"],\n",
    "    )\n",
    "    df = df.unstack(\"channel\")\n",
    "    if flatten_column_names and truncate_column_names:\n",
    "        raise ValueError(\n",
    "            \"flatten_column_names and truncate_column_names cannot both be True\"\n",
    "        )\n",
    "    if flatten_column_names:\n",
    "        # replace MultiIndex with Index of slash-separated names like \"GFP-PENTA/mean_intensity\"\n",
    "        df.columns = [\"/\".join(col[::-1]) for col in df.columns.values]\n",
    "        # df.columns = [re.sub(r\"^(\\w+)-[^/]*/intensity_mean\", r\"\\1\", col) for col in df.columns.values]\n",
    "    elif truncate_column_names:\n",
    "        # replace MultiIndex with Index of slash-separated names with only the last component,\n",
    "        # e.g., \"mean_intensity\" instead of (\"RFP-Penta\", \"mean_intensity\")\n",
    "        df.columns = [col[0] for col in df.columns.values]\n",
    "    return df"
   ]
  },
  {
   "cell_type": "code",
   "execution_count": null,
   "id": "11",
   "metadata": {},
   "outputs": [],
   "source": [
    "def stack_crops(array, prefix, fov, channel):\n",
    "    keys = sorted(\n",
    "        [\n",
    "            k\n",
    "            for k in array.keys()\n",
    "            if len(k) == 4 and k[:2] == (prefix, fov) and k[3] == channel\n",
    "        ]\n",
    "    )\n",
    "    trenches = reduce(operator.and_, [array[k].keys() for k in keys])\n",
    "    crops = {}\n",
    "    for trench in list(trenches):\n",
    "        crops[trench] = np.stack([array[k][trench] for k in keys])\n",
    "    return crops"
   ]
  },
  {
   "cell_type": "code",
   "execution_count": null,
   "id": "12",
   "metadata": {},
   "outputs": [],
   "source": [
    "def unstack(ary):\n",
    "    return np.swapaxes(ary, 0, 1).reshape(ary.shape[1], -1)\n",
    "\n",
    "\n",
    "def pad_and_stack(arys, fill_value=0):\n",
    "    shape = np.max([ary.shape for ary in arys], axis=0)\n",
    "    return np.stack(\n",
    "        [\n",
    "            np.pad(\n",
    "                ary,\n",
    "                ((shape[0] - ary.shape[0], 0), (shape[1] - ary.shape[1], 0)),\n",
    "                constant_values=fill_value,\n",
    "            )\n",
    "            for ary in arys\n",
    "        ]\n",
    "    )\n",
    "\n",
    "\n",
    "def pad_unstack(arys):\n",
    "    return unstack(pad_and_stack(arys))"
   ]
  },
  {
   "cell_type": "markdown",
   "id": "13",
   "metadata": {},
   "source": [
    "# Reformat data"
   ]
  },
  {
   "cell_type": "code",
   "execution_count": null,
   "id": "14",
   "metadata": {},
   "outputs": [],
   "source": [
    "%%time\n",
    "measurements = reformat_table(table, \"measurements\", flatten_column_names=True)"
   ]
  },
  {
   "cell_type": "code",
   "execution_count": null,
   "id": "15",
   "metadata": {},
   "outputs": [],
   "source": [
    "%%time\n",
    "mask_measurements = reformat_table(\n",
    "    table, \"mask_measurements\", truncate_column_names=True\n",
    ")"
   ]
  },
  {
   "cell_type": "code",
   "execution_count": null,
   "id": "16",
   "metadata": {},
   "outputs": [],
   "source": [
    "all_measurements = pd.concat((measurements, mask_measurements), axis=1)"
   ]
  },
  {
   "cell_type": "code",
   "execution_count": null,
   "id": "17",
   "metadata": {},
   "outputs": [],
   "source": [
    "all_measurements_subset = all_measurements[:1000]\n",
    "all_measurements_subset = all_measurements_subset[\n",
    "    all_measurements_subset[\"RFP-Penta/intensity_mean\"] < 20000\n",
    "]"
   ]
  },
  {
   "cell_type": "markdown",
   "id": "18",
   "metadata": {},
   "source": [
    "# Streaming"
   ]
  },
  {
   "cell_type": "code",
   "execution_count": null,
   "id": "19",
   "metadata": {},
   "outputs": [],
   "source": [
    "import hvplot.streamz\n",
    "from streamz.dataframe import PeriodicDataFrame"
   ]
  },
  {
   "cell_type": "code",
   "execution_count": null,
   "id": "20",
   "metadata": {},
   "outputs": [],
   "source": [
    "state = {}\n",
    "\n",
    "\n",
    "def poll_table(last, now, **kwargs):\n",
    "    counter = state.setdefault(\"counter\", 0) + 1\n",
    "    state[\"counter\"] = counter\n",
    "    return all_measurements.loc[IDX[:, :counter, :, :]]\n",
    "\n",
    "\n",
    "measurements_stream = PeriodicDataFrame(poll_table, interval=\"300ms\")"
   ]
  },
  {
   "cell_type": "code",
   "execution_count": null,
   "id": "21",
   "metadata": {},
   "outputs": [],
   "source": [
    "def filter_plots(data, singles, pairs):\n",
    "    # return pn.Column(pn.pane.HoloViews(hv.Layout([data.hvplot.kde(\"area\", yaxis=\"bare\"), data.hvplot.kde(\"axis_major_length\", yaxis=\"bare\")])))\n",
    "    # sel = link_selections.instance()\n",
    "    return pn.Column(\n",
    "        # hv.Layout(\n",
    "        #    [hv.Distribution(data, k).opts(height=250, width=200, yaxis=\"bare\") for idx, k in enumerate(singles)]\n",
    "        # ),\n",
    "        pn.pane.HoloViews(\n",
    "            # link_selections(\n",
    "            hv.Layout(\n",
    "                [\n",
    "                    # hv.Distribution(data, k).opts(height=200, width=200, yaxis=\"bare\")\n",
    "                    # data.hvplot.kde(k, height=200, responsive=True, yaxis=\"bare\")\n",
    "                    data.hvplot.kde(k, height=200, width=200, yaxis=\"bare\", backlog=100)\n",
    "                    for idx, k in enumerate(singles)\n",
    "                ]\n",
    "            ).cols(6),\n",
    "            # ),\n",
    "            # sizing_mode=\"stretch_width\",\n",
    "        ),\n",
    "        # hv.Layout([hv.Scatter(data, *k) for k in pairs]),\n",
    "        pn.pane.HoloViews(\n",
    "            # hv.Layout([hv.Scatter(data, *k) for k in pairs]), sizing_mode=\"stretch_width\"\n",
    "            # link_selections(\n",
    "            hv.Layout(\n",
    "                [\n",
    "                    data.hvplot.scatter(\n",
    "                        *k,\n",
    "                        height=300,\n",
    "                        width=300,\n",
    "                        hover=False,\n",
    "                        size=2,\n",
    "                        backlog=1000,\n",
    "                    )\n",
    "                    for k in pairs\n",
    "                ]\n",
    "            ),\n",
    "            # ),\n",
    "            sizing_mode=\"stretch_width\",\n",
    "        ),\n",
    "    )\n",
    "\n",
    "\n",
    "p = filter_plots(\n",
    "    measurements_stream,\n",
    "    [\n",
    "        \"RFP-Penta/intensity_mean\",\n",
    "        \"YFP-DUAL/intensity_mean\",\n",
    "        \"area\",\n",
    "        \"axis_minor_length\",\n",
    "        \"axis_major_length\",\n",
    "    ],\n",
    "    [\n",
    "        (\"RFP-Penta/intensity_mean\", \"YFP-DUAL/intensity_mean\"),\n",
    "        (\"axis_minor_length\", \"axis_major_length\"),\n",
    "        (\"area\", \"RFP-Penta/intensity_mean\"),\n",
    "    ],\n",
    ")\n",
    "p"
   ]
  },
  {
   "cell_type": "markdown",
   "id": "22",
   "metadata": {
    "tags": []
   },
   "source": [
    "# Tabular visualizations"
   ]
  },
  {
   "cell_type": "markdown",
   "id": "23",
   "metadata": {},
   "source": [
    "## Median+MAD (median absolute deviation) plots"
   ]
  },
  {
   "cell_type": "code",
   "execution_count": null,
   "id": "24",
   "metadata": {},
   "outputs": [],
   "source": [
    "import astropy.stats"
   ]
  },
  {
   "cell_type": "code",
   "execution_count": null,
   "id": "25",
   "metadata": {},
   "outputs": [],
   "source": [
    "%%time\n",
    "measurements_subset = all_measurements.reset_index()[\n",
    "    [\n",
    "        \"t\",\n",
    "        \"RFP-Penta/intensity_mean\",\n",
    "        \"YFP-DUAL/intensity_mean\",\n",
    "        \"area\",\n",
    "        \"axis_major_length\",\n",
    "        \"axis_minor_length\",\n",
    "    ]\n",
    "]\n",
    "medians = measurements_subset.groupby([\"t\"]).agg(\n",
    "    [\"median\", astropy.stats.median_absolute_deviation]\n",
    ")\n",
    "\n",
    "\n",
    "def get_limits(x):\n",
    "    x = x.droplevel(0, axis=1)\n",
    "    return pd.DataFrame(\n",
    "        {\n",
    "            \"lower\": x[\"median\"] - x[\"median_absolute_deviation\"],\n",
    "            \"upper\": x[\"median\"] + x[\"median_absolute_deviation\"],\n",
    "        }\n",
    "    )\n",
    "\n",
    "\n",
    "limits = medians.groupby(level=0, axis=1).apply(get_limits)"
   ]
  },
  {
   "cell_type": "code",
   "execution_count": null,
   "id": "26",
   "metadata": {},
   "outputs": [],
   "source": [
    "def plot_median_mad(observable, medians, limits):\n",
    "    medians2 = medians[observable].reset_index()\n",
    "    limits2 = limits[observable].reset_index()\n",
    "    mean_plot = medians2.hvplot.line(\"t\", \"median\", logy=True)\n",
    "    noise_plot = limits2.hvplot.area(\n",
    "        x=\"t\", y=\"lower\", y2=\"upper\", stacked=False, alpha=0.2, logy=True\n",
    "    )\n",
    "    return (mean_plot * noise_plot).opts(width=800, height=300)"
   ]
  },
  {
   "cell_type": "code",
   "execution_count": null,
   "id": "27",
   "metadata": {},
   "outputs": [],
   "source": [
    "plot_median_mad(\"YFP-DUAL/intensity_mean\", medians, limits)"
   ]
  },
  {
   "cell_type": "code",
   "execution_count": null,
   "id": "28",
   "metadata": {},
   "outputs": [],
   "source": [
    "plot_median_mad(\"RFP-Penta/intensity_mean\", medians, limits)"
   ]
  },
  {
   "cell_type": "code",
   "execution_count": null,
   "id": "29",
   "metadata": {},
   "outputs": [],
   "source": [
    "(\n",
    "    plot_median_mad(\"RFP-Penta/intensity_mean\", medians, limits)\n",
    "    * plot_median_mad(\"YFP-DUAL/intensity_mean\", medians, limits)\n",
    "    # * plot_median_mad(\"area\", medians, limits)\n",
    ")"
   ]
  },
  {
   "cell_type": "markdown",
   "id": "30",
   "metadata": {},
   "source": [
    "## Heatmap"
   ]
  },
  {
   "cell_type": "code",
   "execution_count": null,
   "id": "31",
   "metadata": {},
   "outputs": [],
   "source": [
    "import hvplot.xarray\n",
    "import xarray as xr"
   ]
  },
  {
   "cell_type": "code",
   "execution_count": null,
   "id": "32",
   "metadata": {},
   "outputs": [],
   "source": [
    "%%time\n",
    "channel = \"YFP-DUAL/intensity_mean\"\n",
    "measurements_subset = all_measurements.reset_index()[\n",
    "    [\n",
    "        \"t\",\n",
    "        \"RFP-Penta/intensity_mean\",\n",
    "        \"YFP-DUAL/intensity_mean\",\n",
    "        \"area\",\n",
    "        \"axis_major_length\",\n",
    "        \"axis_minor_length\",\n",
    "    ]\n",
    "]\n",
    "bins = np.geomspace(\n",
    "    measurements_subset[channel].min(), measurements_subset[channel].max(), 100\n",
    ")\n",
    "heatmap = measurements_subset.groupby([\"t\"]).apply(\n",
    "    lambda x: pd.Series(np.histogram(x[channel], bins=bins)[0], index=bins[:-1])\n",
    ")\n",
    "heatmap.columns.name = channel\n",
    "heatmap = xr.DataArray(heatmap.T)"
   ]
  },
  {
   "cell_type": "code",
   "execution_count": null,
   "id": "33",
   "metadata": {},
   "outputs": [],
   "source": [
    "heatmap.hvplot.quadmesh(\n",
    "    cmap=\"blues\",\n",
    "    logy=True,\n",
    "    logz=True,\n",
    "    clim=(1, 1e4),\n",
    ")"
   ]
  },
  {
   "cell_type": "markdown",
   "id": "34",
   "metadata": {
    "tags": []
   },
   "source": [
    "# Interactive selections"
   ]
  },
  {
   "cell_type": "code",
   "execution_count": null,
   "id": "35",
   "metadata": {},
   "outputs": [],
   "source": [
    "from holoviews.selection import link_selections"
   ]
  },
  {
   "cell_type": "code",
   "execution_count": null,
   "id": "36",
   "metadata": {},
   "outputs": [],
   "source": [
    "# for weirdness with responsive=True in holoviews/hvplot\n",
    "# SEE: https://github.com/holoviz/panel/issues/1394"
   ]
  },
  {
   "cell_type": "code",
   "execution_count": null,
   "id": "37",
   "metadata": {},
   "outputs": [],
   "source": [
    "def filter_plots(data, singles, pairs):\n",
    "    # sel = link_selections.instance()\n",
    "    return pn.Column(\n",
    "        pn.pane.HoloViews(\n",
    "            link_selections(\n",
    "                hv.Layout(\n",
    "                    [\n",
    "                        # hv.Distribution(data, k).opts(height=200, width=200, yaxis=\"bare\")\n",
    "                        data.hvplot.kde(k, height=200, responsive=True, yaxis=\"bare\")\n",
    "                        for idx, k in enumerate(singles)\n",
    "                    ]\n",
    "                ).cols(6),\n",
    "            ),\n",
    "            sizing_mode=\"stretch_width\",\n",
    "        ),\n",
    "        pn.pane.HoloViews(\n",
    "            link_selections(\n",
    "                hv.Layout(\n",
    "                    [\n",
    "                        data.hvplot.scatter(*k, height=300, width=300, hover=False)\n",
    "                        for k in pairs\n",
    "                    ]\n",
    "                ),\n",
    "            ),\n",
    "            sizing_mode=\"stretch_width\",\n",
    "        ),\n",
    "    )\n",
    "\n",
    "\n",
    "p = filter_plots(\n",
    "    all_measurements_subset,\n",
    "    [\n",
    "        \"RFP-Penta/intensity_mean\",\n",
    "        \"YFP-DUAL/intensity_mean\",\n",
    "        \"area\",\n",
    "        \"axis_minor_length\",\n",
    "        \"axis_major_length\",\n",
    "    ],\n",
    "    [\n",
    "        (\"RFP-Penta/intensity_mean\", \"YFP-DUAL/intensity_mean\"),\n",
    "        (\"axis_minor_length\", \"axis_major_length\"),\n",
    "        (\"area\", \"RFP-Penta/intensity_mean\"),\n",
    "    ],\n",
    ")\n",
    "p"
   ]
  },
  {
   "cell_type": "markdown",
   "id": "38",
   "metadata": {},
   "source": [
    "# Image visualizations"
   ]
  },
  {
   "cell_type": "code",
   "execution_count": null,
   "id": "39",
   "metadata": {},
   "outputs": [],
   "source": [
    "%%time\n",
    "rfp_stacks = stack_crops(array, \"crops\", 30, \"RFP-Penta\")"
   ]
  },
  {
   "cell_type": "code",
   "execution_count": null,
   "id": "40",
   "metadata": {},
   "outputs": [],
   "source": [
    "%%time\n",
    "yfp_stacks = stack_crops(array, \"crops\", 30, \"YFP-DUAL\")"
   ]
  },
  {
   "cell_type": "markdown",
   "id": "41",
   "metadata": {},
   "source": [
    "## Kymographs"
   ]
  },
  {
   "cell_type": "code",
   "execution_count": null,
   "id": "42",
   "metadata": {},
   "outputs": [],
   "source": [
    "a = rfp_stacks[200]\n",
    "plt.figure(figsize=(20, 20))\n",
    "plt.imshow(np.swapaxes(a, 0, 1).reshape(a.shape[1], -1))"
   ]
  },
  {
   "cell_type": "code",
   "execution_count": null,
   "id": "43",
   "metadata": {},
   "outputs": [],
   "source": [
    "a = yfp_stacks[300]\n",
    "plt.figure(figsize=(20, 20))\n",
    "plt.imshow(np.swapaxes(a, 0, 1).reshape(a.shape[1], -1))"
   ]
  },
  {
   "cell_type": "markdown",
   "id": "44",
   "metadata": {},
   "source": [
    "## Many-trenches viewer"
   ]
  },
  {
   "cell_type": "code",
   "execution_count": null,
   "id": "45",
   "metadata": {},
   "outputs": [],
   "source": [
    "plt.figure(figsize=(20, 20))\n",
    "plt.imshow(pad_unstack([yfp_stacks[i][93] for i in range(330, 370)]))"
   ]
  }
 ],
 "metadata": {
  "kernelspec": {
   "display_name": "Python 3 (ipykernel)",
   "language": "python",
   "name": "python3"
  },
  "language_info": {
   "codemirror_mode": {
    "name": "ipython",
    "version": 3
   },
   "file_extension": ".py",
   "mimetype": "text/x-python",
   "name": "python",
   "nbconvert_exporter": "python",
   "pygments_lexer": "ipython3",
   "version": "3.10.6"
  }
 },
 "nbformat": 4,
 "nbformat_minor": 4
}
