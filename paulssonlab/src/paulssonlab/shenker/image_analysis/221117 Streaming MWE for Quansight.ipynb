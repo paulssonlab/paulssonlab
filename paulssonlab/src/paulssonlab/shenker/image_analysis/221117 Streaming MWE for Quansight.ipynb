{
 "cells": [
  {
   "cell_type": "markdown",
   "id": "0",
   "metadata": {
    "tags": []
   },
   "source": [
    "# Imports"
   ]
  },
  {
   "cell_type": "code",
   "execution_count": null,
   "id": "1",
   "metadata": {},
   "outputs": [],
   "source": [
    "import holoviews as hv\n",
    "import hvplot.streamz\n",
    "import numpy as np\n",
    "import pandas as pd\n",
    "import panel as pn\n",
    "from streamz.dataframe import PeriodicDataFrame\n",
    "\n",
    "IDX = pd.IndexSlice"
   ]
  },
  {
   "cell_type": "code",
   "execution_count": null,
   "id": "2",
   "metadata": {},
   "outputs": [],
   "source": [
    "hv.extension(\"bokeh\")"
   ]
  },
  {
   "cell_type": "markdown",
   "id": "3",
   "metadata": {},
   "source": [
    "# Streaming"
   ]
  },
  {
   "cell_type": "code",
   "execution_count": null,
   "id": "4",
   "metadata": {},
   "outputs": [],
   "source": [
    "state = {}\n",
    "rows_per_timepoint = 10\n",
    "\n",
    "\n",
    "def new_df():\n",
    "    return pd.DataFrame(\n",
    "        {\n",
    "            \"RFP-Penta/intensity_mean\": np.random.uniform(0, 5000, rows_per_timepoint),\n",
    "            \"YFP-DUAL/intensity_mean\": np.random.uniform(0, 5000, rows_per_timepoint),\n",
    "            \"area\": np.random.normal(150, 50, rows_per_timepoint),\n",
    "            \"axis_major_length\": np.random.normal(20, 5, rows_per_timepoint),\n",
    "            \"axis_minor_length\": np.random.normal(10, 5, rows_per_timepoint),\n",
    "        }\n",
    "    )\n",
    "\n",
    "\n",
    "def poll_table(last, now, **kwargs):\n",
    "    counter = state.setdefault(\"counter\", 0) + 1\n",
    "    state[\"counter\"] = counter\n",
    "    if \"df\" not in state:\n",
    "        state[\"df\"] = new_df()\n",
    "    else:\n",
    "        state[\"df\"] = pd.concat((state[\"df\"], new_df()), axis=0, copy=True)\n",
    "    return state[\"df\"]\n",
    "\n",
    "\n",
    "# if I set this to 100ms, it completely breaks for me\n",
    "measurements_stream = PeriodicDataFrame(poll_table, interval=\"300ms\")"
   ]
  },
  {
   "cell_type": "code",
   "execution_count": null,
   "id": "5",
   "metadata": {},
   "outputs": [],
   "source": [
    "def filter_plots(data, singles, pairs):\n",
    "    # return pn.Column(pn.pane.HoloViews(hv.Layout([data.hvplot.kde(\"area\", yaxis=\"bare\"), data.hvplot.kde(\"axis_major_length\", yaxis=\"bare\")])))\n",
    "    # sel = link_selections.instance()\n",
    "    return pn.Column(\n",
    "        pn.pane.HoloViews(\n",
    "            # link_selections(\n",
    "            hv.Layout(\n",
    "                [\n",
    "                    # hv.Distribution(data, k).opts(height=200, width=200, yaxis=\"bare\")\n",
    "                    # data.hvplot.kde(k, height=200, responsive=True, yaxis=\"bare\")\n",
    "                    data.hvplot.kde(\n",
    "                        k, height=200, width=200, yaxis=\"bare\", backlog=1000\n",
    "                    )\n",
    "                    for idx, k in enumerate(singles)\n",
    "                ]\n",
    "            ).cols(6),\n",
    "            # sizing_mode=\"stretch_width\",\n",
    "        ),\n",
    "        pn.pane.HoloViews(\n",
    "            # link_selections(\n",
    "            hv.Layout(\n",
    "                [\n",
    "                    data.hvplot.scatter(\n",
    "                        *k,\n",
    "                        height=300,\n",
    "                        width=300,\n",
    "                        hover=False,\n",
    "                        size=2,\n",
    "                        backlog=1000,\n",
    "                    )\n",
    "                    for k in pairs\n",
    "                ]\n",
    "            ),\n",
    "            # ),\n",
    "            sizing_mode=\"stretch_width\",\n",
    "        ),\n",
    "    )\n",
    "\n",
    "\n",
    "p = filter_plots(\n",
    "    measurements_stream,\n",
    "    [\n",
    "        \"RFP-Penta/intensity_mean\",\n",
    "        \"YFP-DUAL/intensity_mean\",\n",
    "        \"area\",\n",
    "        \"axis_minor_length\",\n",
    "        \"axis_major_length\",\n",
    "    ],\n",
    "    [\n",
    "        (\"RFP-Penta/intensity_mean\", \"YFP-DUAL/intensity_mean\"),\n",
    "        (\"axis_minor_length\", \"axis_major_length\"),\n",
    "        (\"area\", \"RFP-Penta/intensity_mean\"),\n",
    "    ],\n",
    ")\n",
    "p"
   ]
  }
 ],
 "metadata": {
  "kernelspec": {
   "display_name": "Python 3 (ipykernel)",
   "language": "python",
   "name": "python3"
  },
  "language_info": {
   "codemirror_mode": {
    "name": "ipython",
    "version": 3
   },
   "file_extension": ".py",
   "mimetype": "text/x-python",
   "name": "python",
   "nbconvert_exporter": "python",
   "pygments_lexer": "ipython3",
   "version": "3.10.6"
  }
 },
 "nbformat": 4,
 "nbformat_minor": 4
}
