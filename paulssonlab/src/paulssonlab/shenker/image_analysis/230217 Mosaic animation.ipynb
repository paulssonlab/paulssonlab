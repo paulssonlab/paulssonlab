{
 "cells": [
  {
   "cell_type": "markdown",
   "id": "0",
   "metadata": {
    "tags": []
   },
   "source": [
    "# Imports"
   ]
  },
  {
   "cell_type": "code",
   "execution_count": null,
   "id": "1",
   "metadata": {},
   "outputs": [],
   "source": [
    "import itertools as it\n",
    "from pathlib import Path\n",
    "\n",
    "import dask\n",
    "import distributed\n",
    "import h5py\n",
    "import matplotlib.pyplot as plt\n",
    "import nd2reader\n",
    "import numpy as np\n",
    "import pandas as pd\n",
    "from cytoolz import partial\n",
    "from dask_jobqueue import SLURMCluster\n",
    "from distributed import Client\n",
    "from IPython.display import Video\n",
    "from PIL import Image, ImageDraw, ImageFont\n",
    "from tqdm.auto import tqdm, trange"
   ]
  },
  {
   "cell_type": "code",
   "execution_count": null,
   "id": "2",
   "metadata": {},
   "outputs": [],
   "source": [
    "from dask.diagnostics import ProgressBar\n",
    "\n",
    "pbar = ProgressBar()\n",
    "pbar.register()"
   ]
  },
  {
   "cell_type": "code",
   "execution_count": null,
   "id": "3",
   "metadata": {},
   "outputs": [],
   "source": [
    "%load_ext autoreload\n",
    "%autoreload 2\n",
    "%load_ext pyinstrument"
   ]
  },
  {
   "cell_type": "code",
   "execution_count": null,
   "id": "4",
   "metadata": {},
   "outputs": [],
   "source": [
    "from paulssonlab.image_analysis import mosaic, workflow"
   ]
  },
  {
   "cell_type": "markdown",
   "id": "5",
   "metadata": {
    "tags": []
   },
   "source": [
    "# Config"
   ]
  },
  {
   "cell_type": "code",
   "execution_count": null,
   "id": "6",
   "metadata": {},
   "outputs": [],
   "source": [
    "# nd2_filename = \"/home/jqs1/scratch/jqs1/microscopy/220704/220704rbs_library_fish.nd2\"\n",
    "nd2_filename = \"/home/jqs1/scratch/jqs1/microscopy/220718/RBS_DEG_library_20x.nd2\""
   ]
  },
  {
   "cell_type": "code",
   "execution_count": null,
   "id": "7",
   "metadata": {},
   "outputs": [],
   "source": [
    "nd2 = nd2reader.ND2Reader(nd2_filename)"
   ]
  },
  {
   "cell_type": "code",
   "execution_count": null,
   "id": "8",
   "metadata": {},
   "outputs": [],
   "source": [
    "default_channels = (\"YFP-DUAL\", \"RFP-Penta\")\n",
    "# default_channels = (\"YFP-DUAL\", \"RFP-PENTA\")\n",
    "channel_to_color = {\n",
    "    \"BF\": \"#ffffff\",\n",
    "    \"RFP-PENTA\": \"#e22400\",\n",
    "    \"RFP-Penta\": \"#e22400\",\n",
    "    \"YFP-DUAL\": \"#f5eb00\",\n",
    "    # \"GFP\": \"#76ba40\",\n",
    "    \"Cy5\": \"#e292fe\",\n",
    "    # \"Cy7\": \"#FF0000\"\n",
    "    # \"BFP\": \"#3a87fd\",\n",
    "}"
   ]
  },
  {
   "cell_type": "code",
   "execution_count": null,
   "id": "9",
   "metadata": {},
   "outputs": [],
   "source": [
    "font = ImageFont.truetype(\"fira/FiraSans-Medium.ttf\")"
   ]
  },
  {
   "cell_type": "code",
   "execution_count": null,
   "id": "10",
   "metadata": {},
   "outputs": [],
   "source": [
    "dask.config.set({\"distributed.scheduler.allowed-failures\": 10})"
   ]
  },
  {
   "cell_type": "code",
   "execution_count": null,
   "id": "11",
   "metadata": {},
   "outputs": [],
   "source": [
    "cluster = SLURMCluster(\n",
    "    queue=\"short\",\n",
    "    walltime=\"03:00:00\",\n",
    "    memory=\"4GB\",\n",
    "    local_directory=\"/tmp\",\n",
    "    log_directory=\"/home/jqs1/log\",\n",
    "    cores=1,\n",
    "    processes=1,\n",
    ")\n",
    "client = Client(cluster)"
   ]
  },
  {
   "cell_type": "code",
   "execution_count": null,
   "id": "12",
   "metadata": {},
   "outputs": [],
   "source": [
    "cluster.scale(50)"
   ]
  },
  {
   "cell_type": "code",
   "execution_count": null,
   "id": "13",
   "metadata": {},
   "outputs": [],
   "source": [
    "cluster.adapt(maximum=300)"
   ]
  },
  {
   "cell_type": "code",
   "execution_count": null,
   "id": "14",
   "metadata": {},
   "outputs": [],
   "source": [
    "cluster"
   ]
  },
  {
   "cell_type": "markdown",
   "id": "15",
   "metadata": {
    "tags": []
   },
   "source": [
    "# Mosaic"
   ]
  },
  {
   "cell_type": "code",
   "execution_count": null,
   "id": "16",
   "metadata": {},
   "outputs": [],
   "source": [
    "%%time\n",
    "extrema = mosaic.get_intensity_extrema(nd2, (\"YFP-DUAL\", \"RFP-Penta\"))"
   ]
  },
  {
   "cell_type": "code",
   "execution_count": null,
   "id": "17",
   "metadata": {},
   "outputs": [],
   "source": [
    "extrema"
   ]
  },
  {
   "cell_type": "code",
   "execution_count": null,
   "id": "18",
   "metadata": {},
   "outputs": [],
   "source": [
    "# scaling_funcs = mosaic.get_scaling_funcs(extrema)\n",
    "# scaling_funcs = mosaic.get_scaling_funcs({\"YFP-DUAL\": (262, 8000), \"RFP-Penta\": (278, 8000)})\n",
    "scaling_funcs = mosaic.get_scaling_funcs(\n",
    "    {\"YFP-DUAL\": (300, 6000), \"RFP-Penta\": (1200, 7000)}\n",
    ")"
   ]
  },
  {
   "cell_type": "code",
   "execution_count": null,
   "id": "19",
   "metadata": {},
   "outputs": [],
   "source": [
    "def positions_func(positions):\n",
    "    return positions.drop([\"x_idx\", \"y_idx\"], axis=1).join(\n",
    "        positions[\"position_name\"].apply(\n",
    "            lambda name: pd.Series(\n",
    "                [int(idx) for idx in name.split(\".\")], index=[\"y_idx\", \"x_idx\"]\n",
    "            )\n",
    "        )\n",
    "    )"
   ]
  },
  {
   "cell_type": "code",
   "execution_count": null,
   "id": "20",
   "metadata": {},
   "outputs": [],
   "source": [
    "%%time\n",
    "num_t = nd2.sizes[\"t\"]\n",
    "# scale = [80,40,20,10,5,1]#it.repeat(80)\n",
    "# scale = np.geomspace(80, 0.1, 900)\n",
    "# scale = np.geomspace(0.5, 0.1, 60)\n",
    "# scale = [40]\n",
    "scale = [0.1]  # [0.3]\n",
    "# scale = [0.333]\n",
    "# scale = it.repeat(0.1)\n",
    "# scale = it.repeat(0.4)\n",
    "# scale = np.geomspace(20, 0.05, num_t*3)# + np.linspace(0, 0, 0) #it.repeat(0.3)  # [0.3, 0.3, 0.3, 0.3]\n",
    "# timepoints = range(0, 119, 30)\n",
    "# timepoints = range(0, 110, 10)#[20,40,60]\n",
    "timepoints = [0]  # it.repeat(60)  # [20]  # [20,40,60,80]\n",
    "# timepoints = range(num_t)\n",
    "# timepoints = it.chain(range(num_t), range(num_t), range(num_t)) #[20]#[20, 40, 60]\n",
    "offset = [2000, 1000]  # [0,0]#np.array([604, 354])\n",
    "animation_delayed = mosaic.mosaic_animate_scale(\n",
    "    nd2_filename,\n",
    "    scale,\n",
    "    timepoints=timepoints,\n",
    "    scaling_funcs=scaling_funcs,\n",
    "    # offset=offset,\n",
    "    rotation=np.deg2rad(-0.65),\n",
    "    channels=default_channels,\n",
    "    channel_to_color=channel_to_color,\n",
    "    # overlay_func=partial(\n",
    "    #     mosaic.square_overlay,\n",
    "    #     min_scale=80,\n",
    "    #     min_n=0,\n",
    "    #     min_width=0.5,\n",
    "    #     max_scale=0.1,\n",
    "    #     max_n=5,\n",
    "    #     max_width=0.9,\n",
    "    #     font=font,\n",
    "    # ),\n",
    "    positions_func=positions_func,\n",
    "    output_dims=(3840, 2160),\n",
    "    delayed=True,\n",
    ")"
   ]
  },
  {
   "cell_type": "code",
   "execution_count": null,
   "id": "21",
   "metadata": {},
   "outputs": [],
   "source": [
    "%%time\n",
    "a = dask.compute(animation_delayed, scheduler=\"sync\")[0]"
   ]
  },
  {
   "cell_type": "code",
   "execution_count": null,
   "id": "22",
   "metadata": {},
   "outputs": [],
   "source": [
    "plt.figure(figsize=(40, 40))\n",
    "plt.imshow(a[0])"
   ]
  },
  {
   "cell_type": "code",
   "execution_count": null,
   "id": "23",
   "metadata": {},
   "outputs": [],
   "source": [
    "plt.figure(figsize=(40, 40))\n",
    "plt.imshow(a[0])"
   ]
  },
  {
   "cell_type": "code",
   "execution_count": null,
   "id": "24",
   "metadata": {},
   "outputs": [],
   "source": [
    "plt.figure(figsize=(40, 40))\n",
    "plt.imshow(a[0])"
   ]
  },
  {
   "cell_type": "code",
   "execution_count": null,
   "id": "25",
   "metadata": {},
   "outputs": [],
   "source": [
    "plt.figure(figsize=(40, 40))\n",
    "plt.imshow(a[0])"
   ]
  },
  {
   "cell_type": "code",
   "execution_count": null,
   "id": "26",
   "metadata": {},
   "outputs": [],
   "source": [
    "plt.figure(figsize=(40, 40))\n",
    "plt.imshow(a[0])"
   ]
  },
  {
   "cell_type": "code",
   "execution_count": null,
   "id": "27",
   "metadata": {},
   "outputs": [],
   "source": [
    "plt.figure(figsize=(40, 40))\n",
    "plt.imshow(a[0])"
   ]
  },
  {
   "cell_type": "code",
   "execution_count": null,
   "id": "28",
   "metadata": {},
   "outputs": [],
   "source": [
    "%%time\n",
    "# animation_future = client.compute(animation_delayed)\n",
    "animation_future = [client.compute(a) for a in tqdm(animation_delayed)]"
   ]
  },
  {
   "cell_type": "code",
   "execution_count": null,
   "id": "29",
   "metadata": {},
   "outputs": [],
   "source": [
    "%%time\n",
    "a = client.gather(animation_future)"
   ]
  },
  {
   "cell_type": "code",
   "execution_count": null,
   "id": "30",
   "metadata": {},
   "outputs": [],
   "source": [
    "plt.figure(figsize=(20, 20))\n",
    "plt.imshow(a[-1])"
   ]
  },
  {
   "cell_type": "code",
   "execution_count": null,
   "id": "31",
   "metadata": {},
   "outputs": [],
   "source": [
    "import cv2"
   ]
  },
  {
   "cell_type": "code",
   "execution_count": null,
   "id": "32",
   "metadata": {},
   "outputs": [],
   "source": [
    "x = a[0].copy()"
   ]
  },
  {
   "cell_type": "code",
   "execution_count": null,
   "id": "33",
   "metadata": {},
   "outputs": [],
   "source": [
    "ft = cv2.freetype.createFreeType2()\n",
    "ft.loadFontData(fontFileName=\"fira/FiraSans-Medium.ttf\", id=0)\n",
    "# y = np.zeros_like(x, dtype=np.uint8)\n",
    "y = np.zeros((800, 600, 3), dtype=np.uint8)\n",
    "ft.putText(\n",
    "    img=y,\n",
    "    text=\"abc\",\n",
    "    org=(15, 15),\n",
    "    fontHeight=101,\n",
    "    color=(255, 100, 200),\n",
    "    thickness=-1,\n",
    "    line_type=cv2.LINE_AA,\n",
    "    bottomLeftOrigin=False,\n",
    ")\n",
    "plt.imshow(y)"
   ]
  },
  {
   "cell_type": "code",
   "execution_count": null,
   "id": "34",
   "metadata": {},
   "outputs": [],
   "source": [
    "np.unique(y[:, :, 0] - y[:, :, 1])"
   ]
  },
  {
   "cell_type": "code",
   "execution_count": null,
   "id": "35",
   "metadata": {},
   "outputs": [],
   "source": [
    "y[:, :, 1]"
   ]
  },
  {
   "cell_type": "code",
   "execution_count": null,
   "id": "36",
   "metadata": {},
   "outputs": [],
   "source": [
    "plt.scatter(y[:, :, 0], y[:, :, 1])"
   ]
  },
  {
   "cell_type": "code",
   "execution_count": null,
   "id": "37",
   "metadata": {},
   "outputs": [],
   "source": [
    "np.unique(y)"
   ]
  },
  {
   "cell_type": "code",
   "execution_count": null,
   "id": "38",
   "metadata": {},
   "outputs": [],
   "source": [
    "x.shape"
   ]
  },
  {
   "cell_type": "code",
   "execution_count": null,
   "id": "39",
   "metadata": {},
   "outputs": [],
   "source": [
    "cv2.putText(x, \"\", \"\")"
   ]
  },
  {
   "cell_type": "code",
   "execution_count": null,
   "id": "40",
   "metadata": {},
   "outputs": [],
   "source": [
    "import cairo"
   ]
  },
  {
   "cell_type": "code",
   "execution_count": null,
   "id": "41",
   "metadata": {},
   "outputs": [],
   "source": [
    "data = numpy.ndarray(shape=(height, width), dtype=numpy.uint32)\n",
    "surface = cairo.ImageSurface.create_for_data(data, cairo.FORMAT_ARGB32, width, height)\n",
    "cr = cairo.Context(surface)\n",
    "\n",
    "cr.scale(200, 100)\n",
    "cr.set_line_width(0.04)\n",
    "\n",
    "cr.select_font_face(\"Sans\", cairo.FONT_SLANT_NORMAL, cairo.FONT_WEIGHT_BOLD)\n",
    "cr.set_font_size(0.35)\n",
    "\n",
    "cr.move_to(0.04, 0.53)\n",
    "cr.show_text(\"Hello\")\n",
    "\n",
    "cr.move_to(0.27, 0.65)\n",
    "cr.text_path(\"void\")\n",
    "cr.set_source_rgb(0.5, 0.5, 1)\n",
    "cr.fill_preserve()\n",
    "cr.set_source_rgb(0, 0, 0)\n",
    "cr.set_line_width(0.01)\n",
    "cr.stroke()\n",
    "\n",
    "# draw helping lines\n",
    "cr.set_source_rgba(1, 0.2, 0.2, 0.6)\n",
    "cr.arc(0.04, 0.53, 0.02, 0, 2 * np.pi)\n",
    "cr.arc(0.27, 0.65, 0.02, 0, 2 * np.pi)\n",
    "cr.fill()"
   ]
  },
  {
   "cell_type": "code",
   "execution_count": null,
   "id": "42",
   "metadata": {},
   "outputs": [],
   "source": [
    "?surface.map_to_image"
   ]
  },
  {
   "cell_type": "code",
   "execution_count": null,
   "id": "43",
   "metadata": {},
   "outputs": [],
   "source": [
    "z"
   ]
  },
  {
   "cell_type": "code",
   "execution_count": null,
   "id": "44",
   "metadata": {},
   "outputs": [],
   "source": [
    "np.asarray(z)"
   ]
  },
  {
   "cell_type": "code",
   "execution_count": null,
   "id": "45",
   "metadata": {},
   "outputs": [],
   "source": [
    "plt.imshow(z)"
   ]
  },
  {
   "cell_type": "code",
   "execution_count": null,
   "id": "46",
   "metadata": {},
   "outputs": [],
   "source": [
    "x = np.zeros((1024, 512, 3))\n",
    "y = mosaic.square_overlay(x, 1, 8.5, font=font)\n",
    "plt.figure(figsize=(20, 20))\n",
    "plt.imshow(y)"
   ]
  },
  {
   "cell_type": "code",
   "execution_count": null,
   "id": "47",
   "metadata": {},
   "outputs": [],
   "source": [
    "%%time\n",
    "mosaic.export_video(\n",
    "    a,\n",
    "    \"/home/jqs1/scratch/jqs1/microscopy/220704/mosaics/timelapse_zoomtest_4.mp4\",\n",
    "    fps=10,\n",
    ")"
   ]
  },
  {
   "cell_type": "code",
   "execution_count": null,
   "id": "48",
   "metadata": {},
   "outputs": [],
   "source": [
    "Video(\n",
    "    \"/home/jqs1/scratch/jqs1/microscopy/220704/mosaics/timelapse_3x3_5fps.mp4\",\n",
    "    embed=True,\n",
    ")"
   ]
  },
  {
   "cell_type": "markdown",
   "id": "49",
   "metadata": {
    "tags": []
   },
   "source": [
    "# FISH"
   ]
  },
  {
   "cell_type": "code",
   "execution_count": null,
   "id": "50",
   "metadata": {},
   "outputs": [],
   "source": [
    "fish_dir = Path(\"/home/jqs1/scratch/jqs1/microscopy/220718/FISH/real_run\")"
   ]
  },
  {
   "cell_type": "code",
   "execution_count": null,
   "id": "51",
   "metadata": {},
   "outputs": [],
   "source": [
    "def get_fish_frame(filename, v, channel, t):\n",
    "    with h5py.File(filename / f\"fov={v}_config={channel}_t={t}\") as f:\n",
    "        frame = f[\"data\"][()]\n",
    "    return frame"
   ]
  },
  {
   "cell_type": "code",
   "execution_count": null,
   "id": "52",
   "metadata": {},
   "outputs": [],
   "source": [
    "fish_colors = {\n",
    "    \"BF\": \"#ffffff\",\n",
    "    \"RFP\": \"#e22400\",\n",
    "    # \"YFP-DUAL\": \"#f5eb00\",\n",
    "    # \"GFP\": \"#76ba40\",\n",
    "    \"Cy5\": \"#e292fe\",\n",
    "    \"Cy7\": \"#00faff\"\n",
    "    # \"BFP\": \"#3a87fd\",\n",
    "}"
   ]
  },
  {
   "cell_type": "code",
   "execution_count": null,
   "id": "53",
   "metadata": {},
   "outputs": [],
   "source": [
    "fish_scaling_funcs = get_scaling_funcs(\n",
    "    {\n",
    "        \"BF\": (40_000, 65_500),\n",
    "        \"RFP\": (8000, 15000),\n",
    "        \"Cy5\": (5_000, 40000),\n",
    "        \"Cy7\": (2500, 4_000),\n",
    "    }\n",
    ")"
   ]
  },
  {
   "cell_type": "code",
   "execution_count": null,
   "id": "54",
   "metadata": {},
   "outputs": [],
   "source": [
    "fish_scaling_funcs[\"Cy7\"](2172)"
   ]
  },
  {
   "cell_type": "code",
   "execution_count": null,
   "id": "55",
   "metadata": {},
   "outputs": [],
   "source": [
    "a = colorized_frame(\n",
    "    fish_colors,\n",
    "    get_fish_frame,\n",
    "    fish_dir,\n",
    "    1,\n",
    "    8,\n",
    "    [\"Cy7\"],\n",
    "    scaling_funcs=fish_scaling_funcs,\n",
    ")\n",
    "plt.figure(figsize=(40, 40))\n",
    "plt.imshow(a)"
   ]
  },
  {
   "cell_type": "code",
   "execution_count": null,
   "id": "56",
   "metadata": {},
   "outputs": [],
   "source": [
    "a = colorized_frame(\n",
    "    fish_colors,\n",
    "    get_fish_frame,\n",
    "    fish_dir,\n",
    "    1,\n",
    "    8,\n",
    "    [\"Cy5\"],\n",
    "    scaling_funcs=fish_scaling_funcs,\n",
    ")\n",
    "plt.figure(figsize=(40, 40))\n",
    "plt.imshow(a)"
   ]
  },
  {
   "cell_type": "code",
   "execution_count": null,
   "id": "57",
   "metadata": {},
   "outputs": [],
   "source": [
    "a = colorized_frame(\n",
    "    fish_colors,\n",
    "    get_fish_frame,\n",
    "    fish_dir,\n",
    "    1,\n",
    "    8,\n",
    "    [\"RFP\"],\n",
    "    scaling_funcs=fish_scaling_funcs,\n",
    ")\n",
    "plt.figure(figsize=(40, 40))\n",
    "plt.imshow(a)"
   ]
  },
  {
   "cell_type": "code",
   "execution_count": null,
   "id": "58",
   "metadata": {},
   "outputs": [],
   "source": [
    "a = colorized_frame(\n",
    "    fish_colors,\n",
    "    get_fish_frame,\n",
    "    fish_dir,\n",
    "    1,\n",
    "    8,\n",
    "    [\"RFP\", \"Cy5\", \"Cy7\"],\n",
    "    scaling_funcs=fish_scaling_funcs,\n",
    ")\n",
    "plt.figure(figsize=(40, 40))\n",
    "plt.imshow(a)"
   ]
  },
  {
   "cell_type": "code",
   "execution_count": null,
   "id": "59",
   "metadata": {},
   "outputs": [],
   "source": [
    "a = colorized_frame(\n",
    "    fish_colors,\n",
    "    get_fish_frame,\n",
    "    fish_dir,\n",
    "    1,\n",
    "    8,\n",
    "    [\"BF\", \"RFP\", \"Cy5\", \"Cy7\"],\n",
    "    scaling_funcs=fish_scaling_funcs,\n",
    ")\n",
    "plt.figure(figsize=(40, 40))\n",
    "plt.imshow(a)"
   ]
  },
  {
   "cell_type": "code",
   "execution_count": null,
   "id": "60",
   "metadata": {},
   "outputs": [],
   "source": [
    "a = colorized_frame(\n",
    "    fish_colors,\n",
    "    get_fish_frame,\n",
    "    fish_dir,\n",
    "    1,\n",
    "    8,\n",
    "    [\"BF\", \"RFP\", \"Cy5\", \"Cy7\"],\n",
    "    scaling_funcs=fish_scaling_funcs,\n",
    ")\n",
    "plt.figure(figsize=(40, 40))\n",
    "plt.imshow(a)"
   ]
  },
  {
   "cell_type": "code",
   "execution_count": null,
   "id": "61",
   "metadata": {},
   "outputs": [],
   "source": [
    "%%time\n",
    "frames = [\n",
    "    colorized_frame(\n",
    "        fish_colors,\n",
    "        get_fish_frame,\n",
    "        fish_dir,\n",
    "        t,\n",
    "        8,\n",
    "        [\"Cy7\"],\n",
    "        scaling_funcs=fish_scaling_funcs,\n",
    "    )\n",
    "    for t in trange(1, 11)\n",
    "]"
   ]
  },
  {
   "cell_type": "code",
   "execution_count": null,
   "id": "62",
   "metadata": {},
   "outputs": [],
   "source": [
    "%%time\n",
    "rescaled_frames = [\n",
    "    skimage.transform.rescale(f, 0.5, anti_aliasing=True, channel_axis=-1)\n",
    "    for f in tqdm(frames)\n",
    "]"
   ]
  },
  {
   "cell_type": "code",
   "execution_count": null,
   "id": "63",
   "metadata": {},
   "outputs": [],
   "source": [
    "%%time\n",
    "export_video(rescaled_frames, \"/home/jqs1/_temp/FISH_Cy7.mp4\", fps=5)"
   ]
  },
  {
   "cell_type": "code",
   "execution_count": null,
   "id": "64",
   "metadata": {},
   "outputs": [],
   "source": [
    "!du -hs /home/jqs1/_temp/FISH_BF.mp4"
   ]
  },
  {
   "cell_type": "markdown",
   "id": "65",
   "metadata": {},
   "source": [
    "# Grid debugging"
   ]
  },
  {
   "cell_type": "code",
   "execution_count": null,
   "id": "66",
   "metadata": {},
   "outputs": [],
   "source": [
    "from paulssonlab.image_analysis.workflow import (\n",
    "    get_filename_image_limits,\n",
    "    get_nd2_frame,\n",
    "    get_position_metadata,\n",
    "    parse_nd2_metadata,\n",
    ")"
   ]
  },
  {
   "cell_type": "code",
   "execution_count": null,
   "id": "67",
   "metadata": {},
   "outputs": [],
   "source": [
    "nd2 = nd2reader.ND2Reader(nd2_filename)\n",
    "nd2s = {filename: nd2 for filename in (nd2_filename,)}\n",
    "metadata = {nd2_filename: parse_nd2_metadata(nd2) for nd2_filename, nd2 in nd2s.items()}\n",
    "positions = get_position_metadata(metadata)"
   ]
  },
  {
   "cell_type": "code",
   "execution_count": null,
   "id": "68",
   "metadata": {},
   "outputs": [],
   "source": [
    "positions = positions_func(positions)"
   ]
  },
  {
   "cell_type": "code",
   "execution_count": null,
   "id": "69",
   "metadata": {},
   "outputs": [],
   "source": [
    "positions"
   ]
  },
  {
   "cell_type": "code",
   "execution_count": null,
   "id": "70",
   "metadata": {},
   "outputs": [],
   "source": [
    "first_row = positions[positions[\"y_idx\"] == positions[\"y_idx\"].min()]"
   ]
  },
  {
   "cell_type": "code",
   "execution_count": null,
   "id": "71",
   "metadata": {},
   "outputs": [],
   "source": [
    "first_row"
   ]
  },
  {
   "cell_type": "code",
   "execution_count": null,
   "id": "72",
   "metadata": {},
   "outputs": [],
   "source": [
    "upper_left = first_row[first_row[\"x_idx\"] == first_row[\"x_idx\"].min()].squeeze()"
   ]
  },
  {
   "cell_type": "code",
   "execution_count": null,
   "id": "73",
   "metadata": {},
   "outputs": [],
   "source": [
    "upper_right = first_row[first_row[\"x_idx\"] == first_row[\"x_idx\"].max()].squeeze()"
   ]
  },
  {
   "cell_type": "code",
   "execution_count": null,
   "id": "74",
   "metadata": {},
   "outputs": [],
   "source": [
    "upper_right[\"y\"]"
   ]
  },
  {
   "cell_type": "code",
   "execution_count": null,
   "id": "75",
   "metadata": {},
   "outputs": [],
   "source": [
    "z = np.arctan2(upper_right[\"y\"] - upper_left[\"y\"], upper_right[\"x\"] - upper_left[\"x\"])"
   ]
  },
  {
   "cell_type": "code",
   "execution_count": null,
   "id": "76",
   "metadata": {},
   "outputs": [],
   "source": [
    "np.rad2deg(\n",
    "    np.arctan2(upper_left[\"y\"] - upper_right[\"y\"], upper_left[\"x\"] - upper_right[\"x\"])\n",
    ")"
   ]
  },
  {
   "cell_type": "code",
   "execution_count": null,
   "id": "77",
   "metadata": {},
   "outputs": [],
   "source": [
    "positions"
   ]
  },
  {
   "cell_type": "code",
   "execution_count": null,
   "id": "78",
   "metadata": {},
   "outputs": [],
   "source": [
    "(47486.679688 - 65486.679688) * np.tan(np.deg2rad(0.6))"
   ]
  },
  {
   "cell_type": "code",
   "execution_count": null,
   "id": "79",
   "metadata": {},
   "outputs": [],
   "source": [
    "# y\n",
    "54474.778675 - 63727.679688"
   ]
  },
  {
   "cell_type": "code",
   "execution_count": null,
   "id": "80",
   "metadata": {},
   "outputs": [],
   "source": [
    "# x\n",
    "(47486.679688 - 65486.679688)"
   ]
  },
  {
   "cell_type": "code",
   "execution_count": null,
   "id": "81",
   "metadata": {},
   "outputs": [],
   "source": [
    "9252 / 18000"
   ]
  },
  {
   "cell_type": "code",
   "execution_count": null,
   "id": "82",
   "metadata": {},
   "outputs": [],
   "source": [
    "np.arctan(0.514)"
   ]
  },
  {
   "cell_type": "code",
   "execution_count": null,
   "id": "83",
   "metadata": {},
   "outputs": [],
   "source": [
    "np.arc"
   ]
  }
 ],
 "metadata": {
  "kernelspec": {
   "display_name": "Python 3 (ipykernel)",
   "language": "python",
   "name": "python3"
  },
  "language_info": {
   "codemirror_mode": {
    "name": "ipython",
    "version": 3
   },
   "file_extension": ".py",
   "mimetype": "text/x-python",
   "name": "python",
   "nbconvert_exporter": "python",
   "pygments_lexer": "ipython3",
   "version": "3.10.8"
  }
 },
 "nbformat": 4,
 "nbformat_minor": 4
}
