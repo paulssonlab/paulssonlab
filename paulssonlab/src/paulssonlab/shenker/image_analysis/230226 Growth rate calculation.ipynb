{
 "cells": [
  {
   "cell_type": "markdown",
   "metadata": {
    "tags": []
   },
   "source": [
    "# Imports"
   ]
  },
  {
   "cell_type": "code",
   "execution_count": null,
   "metadata": {},
   "outputs": [],
   "source": [
    "import itertools as it\n",
    "import os\n",
    "import re\n",
    "from collections import namedtuple\n",
    "from functools import partial\n",
    "from pathlib import Path\n",
    "import pickle\n",
    "import dask\n",
    "import distributed\n",
    "import h5py\n",
    "import holoviews as hv\n",
    "import hvplot.pandas\n",
    "import matplotlib.pyplot as plt\n",
    "import nd2reader\n",
    "import numpy as np\n",
    "import pandas as pd\n",
    "import pyarrow as pa\n",
    "import pyarrow.parquet as pq\n",
    "import skimage.measure\n",
    "import zarr\n",
    "from dask import delayed\n",
    "from dask_jobqueue import SLURMCluster\n",
    "from distributed import Client, LocalCluster, progress\n",
    "from tqdm.auto import tqdm\n",
    "\n",
    "IDX = pd.IndexSlice"
   ]
  },
  {
   "cell_type": "code",
   "execution_count": null,
   "metadata": {},
   "outputs": [],
   "source": [
    "%load_ext autoreload\n",
    "%autoreload 2"
   ]
  },
  {
   "cell_type": "code",
   "execution_count": null,
   "metadata": {},
   "outputs": [],
   "source": [
    "import paulssonlab.image_analysis.new as new\n",
    "from paulssonlab.image_analysis import *"
   ]
  },
  {
   "cell_type": "code",
   "execution_count": null,
   "metadata": {},
   "outputs": [],
   "source": [
    "# %load_ext pyinstrument"
   ]
  },
  {
   "cell_type": "code",
   "execution_count": null,
   "metadata": {},
   "outputs": [],
   "source": [
    "hv.extension(\"bokeh\")"
   ]
  },
  {
   "cell_type": "markdown",
   "metadata": {},
   "source": [
    "# Config"
   ]
  },
  {
   "cell_type": "code",
   "execution_count": null,
   "metadata": {},
   "outputs": [],
   "source": [
    "cluster = SLURMCluster(\n",
    "    queue=\"short\",\n",
    "    walltime=\"06:00:00\",\n",
    "    memory=\"2GB\",\n",
    "    local_directory=\"/tmp\",\n",
    "    log_directory=\"/home/jqs1/log\",\n",
    "    cores=1,\n",
    "    processes=1,\n",
    ")\n",
    "client = Client(cluster)"
   ]
  },
  {
   "cell_type": "code",
   "execution_count": null,
   "metadata": {},
   "outputs": [],
   "source": [
    "cluster"
   ]
  },
  {
   "cell_type": "code",
   "execution_count": null,
   "metadata": {},
   "outputs": [],
   "source": [
    "cluster.scale(1)"
   ]
  },
  {
   "cell_type": "code",
   "execution_count": null,
   "metadata": {},
   "outputs": [],
   "source": [
    "cluster.adapt(maximum=20)"
   ]
  },
  {
   "cell_type": "markdown",
   "metadata": {},
   "source": [
    "# Handler"
   ]
  },
  {
   "cell_type": "code",
   "execution_count": null,
   "metadata": {},
   "outputs": [],
   "source": [
    "segmentation_channel = \"RFP-Penta\"\n",
    "trench_detection_channel = segmentation_channel  # channel for trench detection, almost always same as segmentation_channel\n",
    "measure_channels = [\"RFP-Penta\", \"YFP-DUAL\"]\n",
    "fish_channels = [\"RFP-Penta\", \"Cy5-PENTA\", \"Cy7\"]"
   ]
  },
  {
   "cell_type": "markdown",
   "metadata": {},
   "source": [
    "## Load outputs from pickle"
   ]
  },
  {
   "cell_type": "code",
   "execution_count": null,
   "metadata": {},
   "outputs": [],
   "source": [
    "# pickle_filename = \"/home/jqs1/group/221108rbsdeglibrary_1.pickle\"\n",
    "pickle_filename = \"/home/jqs1/group/221108rbsdeglibrary_1_table.pickle\""
   ]
  },
  {
   "cell_type": "code",
   "execution_count": null,
   "metadata": {},
   "outputs": [],
   "source": [
    "%%time\n",
    "with open(pickle_filename, \"rb\") as f:\n",
    "    table, array = pickle.load(f)"
   ]
  },
  {
   "cell_type": "markdown",
   "metadata": {
    "tags": []
   },
   "source": [
    "# Helper functions"
   ]
  },
  {
   "cell_type": "code",
   "execution_count": null,
   "metadata": {},
   "outputs": [],
   "source": [
    "def _rename_column(col):\n",
    "    if col[0] == \"mask_measurements\":\n",
    "        return col[1]\n",
    "    elif col[0] == \"measurements\":\n",
    "        return \"/\".join(col[1:])\n",
    "    else:\n",
    "        return \"/\".join(col)\n",
    "\n",
    "\n",
    "def reformat_table(table, flatten_column_names=False):\n",
    "    prefixes = sorted(set(k[0] for k in table.keys()))\n",
    "    df = pd.concat(\n",
    "        {\n",
    "            prefix: pd.concat(\n",
    "                {\n",
    "                    k[1:]: pd.concat(table[k], names=[\"roi\"])\n",
    "                    for k in table.keys()\n",
    "                    if k[0] == prefix\n",
    "                },\n",
    "                names=[\"fov\", \"t\", \"channel\"],\n",
    "            ).unstack(\"channel\")\n",
    "            for prefix in prefixes\n",
    "        },\n",
    "        axis=1,\n",
    "    )\n",
    "    if flatten_column_names:\n",
    "        # replace MultiIndex with Index of slash-separated names like \"GFP-PENTA/mean_intensity\"\n",
    "        df.columns = [_rename_column(col) for col in df.columns.values]\n",
    "    return df"
   ]
  },
  {
   "cell_type": "code",
   "execution_count": null,
   "metadata": {},
   "outputs": [],
   "source": [
    "%%pyinstrument\n",
    "reformat_table(\n",
    "    {\n",
    "        k: v\n",
    "        for k, v in table.items()\n",
    "        if k[0] in (\"measurements\", \"mask_measurements\") and k[2] < 3\n",
    "    },\n",
    "    flatten_column_names=True,\n",
    ")"
   ]
  },
  {
   "cell_type": "code",
   "execution_count": null,
   "metadata": {},
   "outputs": [],
   "source": [
    "def stack_crops(array, prefix, fov, channel):\n",
    "    keys = sorted(\n",
    "        [\n",
    "            k\n",
    "            for k in array.keys()\n",
    "            if len(k) == 4 and k[:2] == (prefix, fov) and k[3] == channel\n",
    "        ]\n",
    "    )\n",
    "    trenches = reduce(operator.and_, [array[k].keys() for k in keys])\n",
    "    crops = {}\n",
    "    for trench in list(trenches):\n",
    "        crops[trench] = np.stack([array[k][trench] for k in keys])\n",
    "    return crops\n",
    "\n",
    "\n",
    "def unstack(ary):\n",
    "    return np.swapaxes(ary, 0, 1).reshape(ary.shape[1], -1)\n",
    "\n",
    "\n",
    "def pad_and_stack(arys, fill_value=0):\n",
    "    shape = np.max([ary.shape for ary in arys], axis=0)\n",
    "    return np.stack(\n",
    "        [\n",
    "            np.pad(\n",
    "                ary,\n",
    "                ((shape[0] - ary.shape[0], 0), (shape[1] - ary.shape[1], 0)),\n",
    "                constant_values=fill_value,\n",
    "            )\n",
    "            for ary in arys\n",
    "        ]\n",
    "    )\n",
    "\n",
    "\n",
    "def pad_unstack(arys):\n",
    "    return unstack(pad_and_stack(arys))"
   ]
  },
  {
   "cell_type": "markdown",
   "metadata": {},
   "source": [
    "# Reformat table"
   ]
  },
  {
   "cell_type": "code",
   "execution_count": null,
   "metadata": {
    "tags": []
   },
   "outputs": [],
   "source": [
    "%%time\n",
    "all_measurements = reformat_table(\n",
    "    {\n",
    "        k: v\n",
    "        for k, v in table.items()\n",
    "        if k[0] in (\"measurements\", \"mask_measurements\")  # and k[2] < 3\n",
    "    },\n",
    "    flatten_column_names=True,\n",
    ")"
   ]
  },
  {
   "cell_type": "code",
   "execution_count": null,
   "metadata": {
    "tags": []
   },
   "outputs": [],
   "source": [
    "all_measurements"
   ]
  },
  {
   "cell_type": "code",
   "execution_count": null,
   "metadata": {
    "tags": []
   },
   "outputs": [],
   "source": [
    "pickle_filename = \"/home/jqs1/group/221108rbsdeglibrary_1_table_reformatted.pickle\""
   ]
  },
  {
   "cell_type": "code",
   "execution_count": null,
   "metadata": {
    "tags": []
   },
   "outputs": [],
   "source": [
    "%%time\n",
    "with open(pickle_filename, \"wb\") as f:\n",
    "    pickle.dump((all_measurements, trenches), f)"
   ]
  },
  {
   "cell_type": "code",
   "execution_count": null,
   "metadata": {},
   "outputs": [],
   "source": [
    "%%time\n",
    "with open(pickle_filename, \"rb\") as f:\n",
    "    all_measurements, trenches = pickle.load(f)"
   ]
  },
  {
   "cell_type": "markdown",
   "metadata": {},
   "source": [
    "# Growth rates"
   ]
  },
  {
   "cell_type": "code",
   "execution_count": null,
   "metadata": {
    "tags": []
   },
   "outputs": [],
   "source": [
    "%%time\n",
    "one_trench = all_measurements.xs(IDX[:, :, 1000, :] ,drop_level=False)"
   ]
  },
  {
   "cell_type": "code",
   "execution_count": null,
   "metadata": {
    "tags": []
   },
   "outputs": [],
   "source": [
    "%%time\n",
    "mothers = one_trench.xs(IDX[:, :, :, 1], drop_level=False)"
   ]
  },
  {
   "cell_type": "code",
   "execution_count": null,
   "metadata": {
    "tags": []
   },
   "outputs": [],
   "source": [
    "def track_mother_cell(df):\n",
    "    # groupby rois\n",
    "    mothers = df.xs(IDX[:, :, :, 1], drop_level=False)\n",
    "    lengths = mothers[\"axis_major_length\"].values\n",
    "    # first cell ID is 1, (0 is used as marker of non-tracked cell segment)\n",
    "    mother_cell_ids = np.concatenate(([1], 1 + np.cumsum(lengths[1:] < lengths[:-1])))\n",
    "    cell_ids = np.zeros(len(df), dtype=np.uint64)\n",
    "    cell_ids[df.index.get_locs(IDX[:, :, :, 1])] = mother_cell_ids\n",
    "    return df.assign(cell_id=cell_ids)"
   ]
  },
  {
   "cell_type": "code",
   "execution_count": null,
   "metadata": {
    "tags": []
   },
   "outputs": [],
   "source": [
    "one_trench_tracked = track_mother_cell(one_trench)\n",
    "one_trench_tracked"
   ]
  },
  {
   "cell_type": "code",
   "execution_count": null,
   "metadata": {
    "tags": []
   },
   "outputs": [],
   "source": [
    "one_trench_tracked[one_trench_tracked[\"cell_id\"] != 0].hvplot.scatter(\"t\", \"axis_major_length\", by=\"cell_id\", cmap=\"Category20\", legend=False)"
   ]
  },
  {
   "cell_type": "code",
   "execution_count": null,
   "metadata": {
    "tags": []
   },
   "outputs": [],
   "source": [
    "%%time\n",
    "all_tracked = all_measurements.groupby(\"roi\", group_keys=False).apply(track_mother_cell)"
   ]
  },
  {
   "cell_type": "code",
   "execution_count": null,
   "metadata": {
    "tags": []
   },
   "outputs": [],
   "source": [
    "all_tracked"
   ]
  },
  {
   "cell_type": "code",
   "execution_count": null,
   "metadata": {
    "tags": []
   },
   "outputs": [],
   "source": [
    "all_tracked.xs(IDX[:,:,0,1]).hvplot.scatter(\"t\", \"axis_major_length\", by=\"cell_id\", cmap=\"Category20\", legend=False)"
   ]
  },
  {
   "cell_type": "code",
   "execution_count": null,
   "metadata": {},
   "outputs": [],
   "source": []
  }
 ],
 "metadata": {
  "kernelspec": {
   "display_name": "Python 3 (ipykernel)",
   "language": "python",
   "name": "python3"
  },
  "language_info": {
   "codemirror_mode": {
    "name": "ipython",
    "version": 3
   },
   "file_extension": ".py",
   "mimetype": "text/x-python",
   "name": "python",
   "nbconvert_exporter": "python",
   "pygments_lexer": "ipython3",
   "version": "3.10.9"
  }
 },
 "nbformat": 4,
 "nbformat_minor": 4
}
