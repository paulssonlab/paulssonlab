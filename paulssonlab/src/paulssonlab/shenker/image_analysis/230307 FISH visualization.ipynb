{
 "cells": [
  {
   "cell_type": "markdown",
   "id": "0",
   "metadata": {
    "tags": []
   },
   "source": [
    "# Imports"
   ]
  },
  {
   "cell_type": "code",
   "execution_count": null,
   "id": "1",
   "metadata": {
    "tags": []
   },
   "outputs": [],
   "source": [
    "import itertools as it\n",
    "from pathlib import Path\n",
    "\n",
    "import dask\n",
    "import distributed\n",
    "import h5py\n",
    "import matplotlib.pyplot as plt\n",
    "import nd2reader\n",
    "import numpy as np\n",
    "import pandas as pd\n",
    "from cytoolz import partial\n",
    "from dask_jobqueue import SLURMCluster\n",
    "from distributed import Client\n",
    "from IPython.display import Video\n",
    "from PIL import Image, ImageDraw, ImageFont\n",
    "from tqdm.auto import tqdm, trange\n",
    "\n",
    "from paulssonlab.util.ui import display_image"
   ]
  },
  {
   "cell_type": "code",
   "execution_count": null,
   "id": "2",
   "metadata": {
    "tags": []
   },
   "outputs": [],
   "source": [
    "from dask.diagnostics import ProgressBar\n",
    "\n",
    "pbar = ProgressBar()\n",
    "pbar.register()"
   ]
  },
  {
   "cell_type": "code",
   "execution_count": null,
   "id": "3",
   "metadata": {
    "tags": []
   },
   "outputs": [],
   "source": [
    "%load_ext autoreload\n",
    "%autoreload 2\n",
    "%load_ext pyinstrument"
   ]
  },
  {
   "cell_type": "code",
   "execution_count": null,
   "id": "4",
   "metadata": {
    "tags": []
   },
   "outputs": [],
   "source": [
    "from paulssonlab.image_analysis import mosaic, workflow"
   ]
  },
  {
   "cell_type": "markdown",
   "id": "5",
   "metadata": {
    "tags": []
   },
   "source": [
    "# Config"
   ]
  },
  {
   "cell_type": "code",
   "execution_count": null,
   "id": "6",
   "metadata": {},
   "outputs": [],
   "source": [
    "nd2_filename = \"/home/jqs1/scratch/jqs1/microscopy/220704/220704rbs_library_fish.nd2\"\n",
    "# nd2_filename = \"/home/jqs1/scratch/jqs1/microscopy/220718/RBS_DEG_library_20x.nd2\""
   ]
  },
  {
   "cell_type": "code",
   "execution_count": null,
   "id": "7",
   "metadata": {},
   "outputs": [],
   "source": [
    "nd2 = nd2reader.ND2Reader(nd2_filename)"
   ]
  },
  {
   "cell_type": "code",
   "execution_count": null,
   "id": "8",
   "metadata": {},
   "outputs": [],
   "source": [
    "# default_channels = (\"YFP-DUAL\", \"RFP-Penta\")\n",
    "default_channels = (\"YFP-DUAL\", \"RFP-PENTA\")\n",
    "channel_to_color = {\n",
    "    \"BF\": \"#ffffff\",\n",
    "    \"RFP-PENTA\": \"#e22400\",\n",
    "    \"RFP-Penta\": \"#e22400\",\n",
    "    \"YFP-DUAL\": \"#f5eb00\",\n",
    "    # \"GFP\": \"#76ba40\",\n",
    "    \"Cy5\": \"#e292fe\",\n",
    "    # \"Cy7\": \"#FF0000\"\n",
    "    # \"BFP\": \"#3a87fd\",\n",
    "}"
   ]
  },
  {
   "cell_type": "code",
   "execution_count": null,
   "id": "9",
   "metadata": {},
   "outputs": [],
   "source": [
    "font = ImageFont.truetype(\"fira/FiraSans-Medium.ttf\")"
   ]
  },
  {
   "cell_type": "code",
   "execution_count": null,
   "id": "10",
   "metadata": {},
   "outputs": [],
   "source": [
    "dask.config.set({\"distributed.scheduler.allowed-failures\": 10})"
   ]
  },
  {
   "cell_type": "code",
   "execution_count": null,
   "id": "11",
   "metadata": {},
   "outputs": [],
   "source": [
    "cluster = SLURMCluster(\n",
    "    queue=\"short\",\n",
    "    walltime=\"03:00:00\",\n",
    "    memory=\"4GB\",\n",
    "    local_directory=\"/tmp\",\n",
    "    log_directory=\"/home/jqs1/log\",\n",
    "    cores=1,\n",
    "    processes=1,\n",
    ")\n",
    "client = Client(cluster)"
   ]
  },
  {
   "cell_type": "code",
   "execution_count": null,
   "id": "12",
   "metadata": {},
   "outputs": [],
   "source": [
    "cluster.scale(50)"
   ]
  },
  {
   "cell_type": "code",
   "execution_count": null,
   "id": "13",
   "metadata": {},
   "outputs": [],
   "source": [
    "cluster.adapt(maximum=300)"
   ]
  },
  {
   "cell_type": "code",
   "execution_count": null,
   "id": "14",
   "metadata": {},
   "outputs": [],
   "source": [
    "cluster"
   ]
  },
  {
   "cell_type": "markdown",
   "id": "15",
   "metadata": {
    "tags": []
   },
   "source": [
    "# Mosaic"
   ]
  },
  {
   "cell_type": "code",
   "execution_count": null,
   "id": "16",
   "metadata": {},
   "outputs": [],
   "source": [
    "%%time\n",
    "extrema = mosaic.get_intensity_extrema(nd2, (\"YFP-DUAL\", \"RFP-PENTA\"))"
   ]
  },
  {
   "cell_type": "code",
   "execution_count": null,
   "id": "17",
   "metadata": {},
   "outputs": [],
   "source": [
    "extrema"
   ]
  },
  {
   "cell_type": "code",
   "execution_count": null,
   "id": "18",
   "metadata": {},
   "outputs": [],
   "source": [
    "scaling_funcs = mosaic.get_scaling_funcs(extrema)\n",
    "# scaling_funcs = get_scaling_funcs({\"YFP-DUAL\": (262, 8000), \"RFP-Penta\": (278, 8000)})"
   ]
  },
  {
   "cell_type": "code",
   "execution_count": null,
   "id": "19",
   "metadata": {},
   "outputs": [],
   "source": [
    "%%time\n",
    "num_t = nd2.sizes[\"t\"]\n",
    "# scale = [80,40,20,10,5,1]#it.repeat(80)\n",
    "# scale = np.geomspace(80, 0.1, 900)\n",
    "# scale = np.geomspace(0.5, 0.1, 60)\n",
    "scale = [40]\n",
    "# scale = [0.333]\n",
    "# scale = it.repeat(0.1)\n",
    "# scale = it.repeat(0.4)\n",
    "# scale = np.geomspace(20, 0.05, num_t*3)# + np.linspace(0, 0, 0) #it.repeat(0.3)  # [0.3, 0.3, 0.3, 0.3]\n",
    "# timepoints = range(0, 119, 30)\n",
    "# timepoints = range(0, 110, 10)#[20,40,60]\n",
    "timepoints = it.repeat(60)  # [20]  # [20,40,60,80]\n",
    "# timepoints = range(num_t)\n",
    "# timepoints = it.chain(range(num_t), range(num_t), range(num_t)) #[20]#[20, 40, 60]\n",
    "offset = [2000, 1000]  # [0,0]#np.array([604, 354])\n",
    "animation_delayed = mosaic.mosaic_animate_scale(\n",
    "    nd2_filename,\n",
    "    scale,\n",
    "    timepoints=timepoints,\n",
    "    scaling_funcs=scaling_funcs,\n",
    "    offset=offset,\n",
    "    channels=default_channels,\n",
    "    channel_to_color=channel_to_color,\n",
    "    overlay_func=partial(\n",
    "        mosaic.square_overlay,\n",
    "        min_scale=80,\n",
    "        min_n=0,\n",
    "        min_width=0.5,\n",
    "        max_scale=0.1,\n",
    "        max_n=5,\n",
    "        max_width=0.9,\n",
    "        font=font,\n",
    "    ),\n",
    "    delayed=True,\n",
    ")"
   ]
  },
  {
   "cell_type": "code",
   "execution_count": null,
   "id": "20",
   "metadata": {},
   "outputs": [],
   "source": [
    "%%time\n",
    "a = dask.compute(animation_delayed, scheduler=\"sync\")[0]"
   ]
  },
  {
   "cell_type": "code",
   "execution_count": null,
   "id": "21",
   "metadata": {},
   "outputs": [],
   "source": [
    "plt.figure(figsize=(20, 20))\n",
    "plt.imshow(a[0])"
   ]
  },
  {
   "cell_type": "code",
   "execution_count": null,
   "id": "22",
   "metadata": {},
   "outputs": [],
   "source": [
    "%%time\n",
    "# animation_future = client.compute(animation_delayed)\n",
    "animation_future = [client.compute(a) for a in tqdm(animation_delayed)]"
   ]
  },
  {
   "cell_type": "code",
   "execution_count": null,
   "id": "23",
   "metadata": {},
   "outputs": [],
   "source": [
    "%%time\n",
    "a = client.gather(animation_future)"
   ]
  },
  {
   "cell_type": "code",
   "execution_count": null,
   "id": "24",
   "metadata": {},
   "outputs": [],
   "source": [
    "plt.figure(figsize=(20, 20))\n",
    "plt.imshow(a[-1])"
   ]
  },
  {
   "cell_type": "code",
   "execution_count": null,
   "id": "25",
   "metadata": {},
   "outputs": [],
   "source": [
    "import cv2"
   ]
  },
  {
   "cell_type": "code",
   "execution_count": null,
   "id": "26",
   "metadata": {},
   "outputs": [],
   "source": [
    "x = a[0].copy()"
   ]
  },
  {
   "cell_type": "code",
   "execution_count": null,
   "id": "27",
   "metadata": {},
   "outputs": [],
   "source": [
    "ft = cv2.freetype.createFreeType2()\n",
    "ft.loadFontData(fontFileName=\"fira/FiraSans-Medium.ttf\", id=0)\n",
    "# y = np.zeros_like(x, dtype=np.uint8)\n",
    "y = np.zeros((800, 600, 3), dtype=np.uint8)\n",
    "ft.putText(\n",
    "    img=y,\n",
    "    text=\"abc\",\n",
    "    org=(15, 15),\n",
    "    fontHeight=101,\n",
    "    color=(255, 100, 200),\n",
    "    thickness=-1,\n",
    "    line_type=cv2.LINE_AA,\n",
    "    bottomLeftOrigin=False,\n",
    ")\n",
    "plt.imshow(y)"
   ]
  },
  {
   "cell_type": "code",
   "execution_count": null,
   "id": "28",
   "metadata": {},
   "outputs": [],
   "source": [
    "np.unique(y[:, :, 0] - y[:, :, 1])"
   ]
  },
  {
   "cell_type": "code",
   "execution_count": null,
   "id": "29",
   "metadata": {},
   "outputs": [],
   "source": [
    "y[:, :, 1]"
   ]
  },
  {
   "cell_type": "code",
   "execution_count": null,
   "id": "30",
   "metadata": {},
   "outputs": [],
   "source": [
    "plt.scatter(y[:, :, 0], y[:, :, 1])"
   ]
  },
  {
   "cell_type": "code",
   "execution_count": null,
   "id": "31",
   "metadata": {},
   "outputs": [],
   "source": [
    "np.unique(y)"
   ]
  },
  {
   "cell_type": "code",
   "execution_count": null,
   "id": "32",
   "metadata": {},
   "outputs": [],
   "source": [
    "x.shape"
   ]
  },
  {
   "cell_type": "code",
   "execution_count": null,
   "id": "33",
   "metadata": {},
   "outputs": [],
   "source": [
    "cv2.putText(x, \"\", \"\")"
   ]
  },
  {
   "cell_type": "code",
   "execution_count": null,
   "id": "34",
   "metadata": {},
   "outputs": [],
   "source": [
    "import cairo"
   ]
  },
  {
   "cell_type": "code",
   "execution_count": null,
   "id": "35",
   "metadata": {},
   "outputs": [],
   "source": [
    "data = numpy.ndarray(shape=(height, width), dtype=numpy.uint32)\n",
    "surface = cairo.ImageSurface.create_for_data(data, cairo.FORMAT_ARGB32, width, height)\n",
    "cr = cairo.Context(surface)\n",
    "\n",
    "cr.scale(200, 100)\n",
    "cr.set_line_width(0.04)\n",
    "\n",
    "cr.select_font_face(\"Sans\", cairo.FONT_SLANT_NORMAL, cairo.FONT_WEIGHT_BOLD)\n",
    "cr.set_font_size(0.35)\n",
    "\n",
    "cr.move_to(0.04, 0.53)\n",
    "cr.show_text(\"Hello\")\n",
    "\n",
    "cr.move_to(0.27, 0.65)\n",
    "cr.text_path(\"void\")\n",
    "cr.set_source_rgb(0.5, 0.5, 1)\n",
    "cr.fill_preserve()\n",
    "cr.set_source_rgb(0, 0, 0)\n",
    "cr.set_line_width(0.01)\n",
    "cr.stroke()\n",
    "\n",
    "# draw helping lines\n",
    "cr.set_source_rgba(1, 0.2, 0.2, 0.6)\n",
    "cr.arc(0.04, 0.53, 0.02, 0, 2 * np.pi)\n",
    "cr.arc(0.27, 0.65, 0.02, 0, 2 * np.pi)\n",
    "cr.fill()"
   ]
  },
  {
   "cell_type": "code",
   "execution_count": null,
   "id": "36",
   "metadata": {},
   "outputs": [],
   "source": [
    "?surface.map_to_image"
   ]
  },
  {
   "cell_type": "code",
   "execution_count": null,
   "id": "37",
   "metadata": {},
   "outputs": [],
   "source": [
    "z"
   ]
  },
  {
   "cell_type": "code",
   "execution_count": null,
   "id": "38",
   "metadata": {},
   "outputs": [],
   "source": [
    "np.asarray(z)"
   ]
  },
  {
   "cell_type": "code",
   "execution_count": null,
   "id": "39",
   "metadata": {},
   "outputs": [],
   "source": [
    "plt.imshow(z)"
   ]
  },
  {
   "cell_type": "code",
   "execution_count": null,
   "id": "40",
   "metadata": {},
   "outputs": [],
   "source": [
    "x = np.zeros((1024, 512, 3))\n",
    "y = mosaic.square_overlay(x, 1, 8.5, font=font)\n",
    "plt.figure(figsize=(20, 20))\n",
    "plt.imshow(y)"
   ]
  },
  {
   "cell_type": "code",
   "execution_count": null,
   "id": "41",
   "metadata": {},
   "outputs": [],
   "source": [
    "%%time\n",
    "mosaic.export_video(\n",
    "    a,\n",
    "    \"/home/jqs1/scratch/jqs1/microscopy/220704/mosaics/timelapse_zoomtest_4.mp4\",\n",
    "    fps=10,\n",
    ")"
   ]
  },
  {
   "cell_type": "code",
   "execution_count": null,
   "id": "42",
   "metadata": {},
   "outputs": [],
   "source": [
    "Video(\n",
    "    \"/home/jqs1/scratch/jqs1/microscopy/220704/mosaics/timelapse_3x3_5fps.mp4\",\n",
    "    embed=True,\n",
    ")"
   ]
  },
  {
   "cell_type": "markdown",
   "id": "43",
   "metadata": {},
   "source": [
    "# FISH from ND2"
   ]
  },
  {
   "cell_type": "code",
   "execution_count": null,
   "id": "44",
   "metadata": {},
   "outputs": [],
   "source": [
    "# nd2_filename = \"/home/jqs1/scratch/jqs1/microscopy/230103/230103rfp1_500ms.nd2\"\n",
    "# nd2_filename = \"/home/jqs1/scratch/jqs1/microscopy/230103/230103gfp4_500ms.nd2\"\n",
    "# nd2_filename = \"/home/jqs1/scratch/jqs1/microscopy/230105/230105gfp4_500ms.nd2\"\n",
    "# nd2_filename = \"/home/jqs1/scratch/jqs1/microscopy/230130/230130_lane3_200ms.nd2\"\n",
    "nd2_filename = (\n",
    "    \"/home/jqs1/scratch/jqs1/microscopy/230130/230130_lane4_200ms_freshfov001.nd2\"\n",
    ")\n",
    "# nd2_filename = \"/home/jqs1/scratch/jqs1/microscopy/230131/230131_200ms.nd2\""
   ]
  },
  {
   "cell_type": "code",
   "execution_count": null,
   "id": "45",
   "metadata": {},
   "outputs": [],
   "source": [
    "nd2 = nd2reader.ND2Reader(nd2_filename)"
   ]
  },
  {
   "cell_type": "code",
   "execution_count": null,
   "id": "46",
   "metadata": {},
   "outputs": [],
   "source": [
    "nd2.sizes"
   ]
  },
  {
   "cell_type": "code",
   "execution_count": null,
   "id": "47",
   "metadata": {},
   "outputs": [],
   "source": [
    "def get_nd2_frame(filename, v, channel, t):\n",
    "    # nd2 = workflow.get_nd2_reader(filename)\n",
    "    nd2 = nd2reader.ND2Reader(filename)\n",
    "    channels = [c for c in nd2.metadata[\"channels\"] if channel in c]\n",
    "    if len(channels) != 1:\n",
    "        raise ValueError(f\"found multiple matching channels: {channels}\")\n",
    "    return nd2.get_frame_2D(v=v, t=t, c=nd2.metadata[\"channels\"].index(channels[0]))"
   ]
  },
  {
   "cell_type": "code",
   "execution_count": null,
   "id": "48",
   "metadata": {},
   "outputs": [],
   "source": [
    "get_nd2_frame(nd2_filename, 0, \"RFP\", 0)"
   ]
  },
  {
   "cell_type": "code",
   "execution_count": null,
   "id": "49",
   "metadata": {},
   "outputs": [],
   "source": [
    "a = colorized_frame(\n",
    "    fish_colors,\n",
    "    get_nd2_frame,\n",
    "    nd2_filename,\n",
    "    0,\n",
    "    0,\n",
    "    [\"Cy5\"],\n",
    "    scaling_funcs=fish_scaling_funcs,\n",
    ")\n",
    "plt.figure(figsize=(40, 40))\n",
    "plt.imshow(a)"
   ]
  },
  {
   "cell_type": "markdown",
   "id": "50",
   "metadata": {
    "tags": []
   },
   "source": [
    "# FISH"
   ]
  },
  {
   "cell_type": "code",
   "execution_count": null,
   "id": "51",
   "metadata": {
    "tags": []
   },
   "outputs": [],
   "source": [
    "# fish_dir = Path(\"/home/jqs1/scratch/jqs1/microscopy/220704/FISH/real_run\")\n",
    "# fish_dir = Path(\"/home/jqs1/scratch/jqs1/microscopy/220718/FISH/real_run\")\n",
    "# fish_dir = Path(\"/home/jqs1/scratch/jqs1/microscopy/221206/FISH/real_run\")\n",
    "# fish_dir = Path(\"/home/jqs1/scratch/jqs1/microscopy/230111/FISH/real_run\")\n",
    "fish_dir = Path(\"/home/jqs1/scratch/jqs1/microscopy/230213/FISH/real_run\")\n",
    "# fish_dir = Path(\"/home/jqs1/scratch/jqs1/microscopy/230215/FISH/real_run\")"
   ]
  },
  {
   "cell_type": "code",
   "execution_count": null,
   "id": "52",
   "metadata": {
    "tags": []
   },
   "outputs": [],
   "source": [
    "from functools import lru_cache\n",
    "\n",
    "\n",
    "@lru_cache\n",
    "def get_fish_frame(filename, v, channel, t):\n",
    "    with h5py.File(filename / f\"fov={v}_config={channel}_t={t}\") as f:\n",
    "        frame = f[\"data\"][()]\n",
    "    return frame\n",
    "\n",
    "\n",
    "def colorized_frame(\n",
    "    colors, get_frame_func, filename, v, t, channels, scaling_funcs=None\n",
    "):\n",
    "    if scaling_funcs:\n",
    "        imgs = [\n",
    "            scaling_funcs[channel](get_frame_func(filename, v, channel, t))\n",
    "            for channel in channels\n",
    "        ]\n",
    "    else:\n",
    "        imgs = [get_frame_func(filename, v, channel, t) for channel in channels]\n",
    "    colors = [colors[channel] for channel in channels]\n",
    "    return mosaic.colorize(imgs, colors, scale=(not scaling_funcs))"
   ]
  },
  {
   "cell_type": "code",
   "execution_count": null,
   "id": "53",
   "metadata": {
    "tags": []
   },
   "outputs": [],
   "source": [
    "# fish_colors = {\n",
    "#     \"BF\": \"#ffffff\",\n",
    "#     \"RFP\": \"#e22400\",\n",
    "#     # \"YFP-DUAL\": \"#f5eb00\",\n",
    "#     \"GFP\": \"#00ff31\",\n",
    "#     \"Cy5\": \"#e292fe\",\n",
    "#     \"Cy7\": \"#00faff\"\n",
    "#     # \"BFP\": \"#3a87fd\",\n",
    "# }\n",
    "\n",
    "fish_colors = {\n",
    "    \"BF\": \"#ffffff\",\n",
    "    \"GFP\": \"#f44336\",\n",
    "    \"Cy5\": \"#03a9f4\",\n",
    "    # \"Cy7\": \"#ffeb3b\"\n",
    "    \"Cy7\": \"#8bc34a\",\n",
    "}"
   ]
  },
  {
   "cell_type": "code",
   "execution_count": null,
   "id": "54",
   "metadata": {
    "tags": []
   },
   "outputs": [],
   "source": [
    "# 220704\n",
    "# fish_scaling_funcs = mosaic.get_scaling_funcs(\n",
    "#     {\n",
    "#         \"BF\": (40_000, 65_500),\n",
    "#         \"RFP\": (200, 4000),\n",
    "#         \"Cy5\": (100, 13000),\n",
    "#         \"Cy7\": (500, 4_000),\n",
    "#     }\n",
    "# )\n",
    "# 220718\n",
    "# fish_scaling_funcs = mosaic.get_scaling_funcs(\n",
    "#     {\n",
    "#         \"BF\": (40_000, 65_500),\n",
    "#         \"RFP\": (5_000, 22_000),\n",
    "#         \"Cy5\": (8_000, 25000),\n",
    "#         \"Cy7\": (2_900, 3_600),\n",
    "#     }\n",
    "# )\n",
    "# 220718 (tight, use this)\n",
    "# fish_scaling_funcs = mosaic.get_scaling_funcs(\n",
    "#     {\n",
    "#         \"BF\": (30_000, 65_500),\n",
    "#         \"RFP\": (8_000, 10_000),\n",
    "#         \"Cy5\": (13_000, 17_000),\n",
    "#         #\"Cy7\": (2_900, 3_050),\n",
    "#         \"Cy7\": (2_950, 3_250),\n",
    "#     }\n",
    "# )\n",
    "# 221206\n",
    "# fish_scaling_funcs = mosaic.get_scaling_funcs(\n",
    "#     {\n",
    "#         \"BF\": (40_000, 65_500),\n",
    "#         \"RFP\": (400, 16000),\n",
    "#         \"GFP\": (5_000, 40_500),\n",
    "#         \"Cy5\": (100, 10_000),\n",
    "#         \"Cy7\": (200, 3_000),\n",
    "#     }\n",
    "# )\n",
    "# 230111\n",
    "# fish_scaling_funcs = mosaic.get_scaling_funcs(\n",
    "#     {\n",
    "#         \"BF\": (40_000, 65_500),\n",
    "#         \"RFP\": (400, 16000),\n",
    "#         \"GFP\": (5_000, 60_500),\n",
    "#         \"Cy5\": (100, 30_000),\n",
    "#         \"Cy7\": (200, 3_000),\n",
    "#     }\n",
    "# )\n",
    "# 230130\n",
    "# fish_scaling_funcs = mosaic.get_scaling_funcs(\n",
    "#     {\n",
    "#         \"BF\": (40_000, 65_500),\n",
    "#         \"RFP\": (400, 16000),\n",
    "#         \"GFP\": (2_000, 30_500),\n",
    "#         \"Cy5\": (100, 10_000),\n",
    "#         \"Cy7\": (200, 1_000),\n",
    "#     }\n",
    "# )\n",
    "# 230213/230215 (causes clipping [white] issues)\n",
    "fish_scaling_funcs = mosaic.get_scaling_funcs(\n",
    "    {\n",
    "        \"BF\": (40_000, 65_500),\n",
    "        \"GFP\": (10_000, 15_000),\n",
    "        \"Cy5\": (1_000, 9_000),\n",
    "        \"Cy7\": (700, 1_500),\n",
    "    }\n",
    ")\n",
    "# 230213/230215 (looser)\n",
    "# fish_scaling_funcs = mosaic.get_scaling_funcs(\n",
    "#     {\n",
    "#         \"BF\": (40_000, 65_500),\n",
    "#         \"GFP\": (10_000, 18_000),\n",
    "#         \"Cy5\": (1_000, 10_000),\n",
    "#         \"Cy7\": (700, 2_000),\n",
    "#     }\n",
    "# )\n",
    "# old\n",
    "# fish_scaling_funcs = mosaic.get_scaling_funcs(\n",
    "#     {\n",
    "#         \"BF\": (40_000, 65_500),\n",
    "#         \"GFP\": (40_000, 65_500),\n",
    "#         \"RFP\": (8000, 15000),\n",
    "#         \"Cy5\": (5_000, 40000),\n",
    "#         \"Cy7\": (2500, 4_000),\n",
    "#     }\n",
    "# )"
   ]
  },
  {
   "cell_type": "code",
   "execution_count": null,
   "id": "55",
   "metadata": {
    "tags": []
   },
   "outputs": [],
   "source": [
    "a = colorized_frame(\n",
    "    fish_colors,\n",
    "    get_fish_frame,\n",
    "    fish_dir,\n",
    "    7,\n",
    "    9,\n",
    "    [\"Cy5\", \"Cy7\"],\n",
    "    scaling_funcs=fish_scaling_funcs,\n",
    ")\n",
    "display_image(a)"
   ]
  },
  {
   "cell_type": "code",
   "execution_count": null,
   "id": "56",
   "metadata": {
    "tags": []
   },
   "outputs": [],
   "source": [
    "a = colorized_frame(\n",
    "    fish_colors,\n",
    "    get_fish_frame,\n",
    "    fish_dir,\n",
    "    7,\n",
    "    9,\n",
    "    [\"GFP\", \"Cy5\", \"Cy7\"],\n",
    "    scaling_funcs=fish_scaling_funcs,\n",
    ")\n",
    "display_image(a)"
   ]
  },
  {
   "cell_type": "code",
   "execution_count": null,
   "id": "57",
   "metadata": {
    "tags": []
   },
   "outputs": [],
   "source": [
    "%%time\n",
    "frames = [\n",
    "    colorized_frame(\n",
    "        fish_colors,\n",
    "        get_fish_frame,\n",
    "        fish_dir,\n",
    "        7,\n",
    "        t,\n",
    "        [\"Cy7\"],  # [\"GFP\", \"Cy5\", \"Cy7\"],\n",
    "        scaling_funcs=fish_scaling_funcs,\n",
    "    )\n",
    "    for t in trange(1, 11)\n",
    "]"
   ]
  },
  {
   "cell_type": "code",
   "execution_count": null,
   "id": "58",
   "metadata": {
    "tags": []
   },
   "outputs": [],
   "source": [
    "import skimage.transform"
   ]
  },
  {
   "cell_type": "code",
   "execution_count": null,
   "id": "59",
   "metadata": {
    "tags": []
   },
   "outputs": [],
   "source": [
    "%%time\n",
    "rescaled_frames = [\n",
    "    skimage.transform.rescale(f, 0.5, anti_aliasing=True, channel_axis=-1)\n",
    "    for f in tqdm(frames)\n",
    "]"
   ]
  },
  {
   "cell_type": "code",
   "execution_count": null,
   "id": "60",
   "metadata": {
    "tags": []
   },
   "outputs": [],
   "source": [
    "%%time\n",
    "mosaic.export_video(rescaled_frames, \"/home/jqs1/_temp/230213_FISH_fov7_Cy7.mp4\", fps=5)"
   ]
  },
  {
   "cell_type": "code",
   "execution_count": null,
   "id": "61",
   "metadata": {
    "tags": []
   },
   "outputs": [],
   "source": [
    "%%time\n",
    "mosaic.export_video(frames, \"/home/jqs1/_temp/230213_FISH_fov7_full.mp4\", fps=5)"
   ]
  },
  {
   "cell_type": "code",
   "execution_count": null,
   "id": "62",
   "metadata": {},
   "outputs": [],
   "source": [
    "!du -hs /home/jqs1/_temp/220718_FISH_fov33.mp4"
   ]
  }
 ],
 "metadata": {
  "kernelspec": {
   "display_name": "Python 3 (ipykernel)",
   "language": "python",
   "name": "python3"
  },
  "language_info": {
   "codemirror_mode": {
    "name": "ipython",
    "version": 3
   },
   "file_extension": ".py",
   "mimetype": "text/x-python",
   "name": "python",
   "nbconvert_exporter": "python",
   "pygments_lexer": "ipython3",
   "version": "3.10.9"
  }
 },
 "nbformat": 4,
 "nbformat_minor": 4
}
