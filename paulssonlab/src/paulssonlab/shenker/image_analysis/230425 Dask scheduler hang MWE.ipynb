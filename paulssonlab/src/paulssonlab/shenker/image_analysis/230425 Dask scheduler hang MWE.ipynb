{
 "cells": [
  {
   "cell_type": "markdown",
   "id": "0",
   "metadata": {
    "tags": []
   },
   "source": [
    "# Imports"
   ]
  },
  {
   "cell_type": "code",
   "execution_count": null,
   "id": "1",
   "metadata": {},
   "outputs": [],
   "source": [
    "import itertools as it\n",
    "from numbers import Number\n",
    "\n",
    "import cv2\n",
    "import dask\n",
    "import dask.array as da\n",
    "import distributed\n",
    "import nd2reader\n",
    "import numpy as np\n",
    "import pandas as pd\n",
    "from cytoolz import partial\n",
    "from dask_jobqueue import SLURMCluster\n",
    "from distributed import Client\n",
    "from skimage.transform import SimilarityTransform, warp"
   ]
  },
  {
   "cell_type": "code",
   "execution_count": null,
   "id": "2",
   "metadata": {},
   "outputs": [],
   "source": [
    "from dask.diagnostics import ProgressBar\n",
    "\n",
    "pbar = ProgressBar()\n",
    "pbar.register()"
   ]
  },
  {
   "cell_type": "code",
   "execution_count": null,
   "id": "3",
   "metadata": {},
   "outputs": [],
   "source": [
    "%load_ext autoreload\n",
    "%autoreload 2\n",
    "%load_ext pyinstrument"
   ]
  },
  {
   "cell_type": "code",
   "execution_count": null,
   "id": "4",
   "metadata": {},
   "outputs": [],
   "source": [
    "from paulssonlab.image_analysis import mosaic, workflow\n",
    "from paulssonlab.util.ui import display_image"
   ]
  },
  {
   "cell_type": "markdown",
   "id": "5",
   "metadata": {
    "tags": []
   },
   "source": [
    "# Config"
   ]
  },
  {
   "cell_type": "code",
   "execution_count": null,
   "id": "6",
   "metadata": {},
   "outputs": [],
   "source": [
    "nd2_filename = \"/home/jqs1/scratch/jqs1/microscopy/220704/220704rbs_library_fish.nd2\"\n",
    "# nd2_filename = \"/home/jqs1/scratch/jqs1/microscopy/220718/RBS_DEG_library_20x.nd2\""
   ]
  },
  {
   "cell_type": "code",
   "execution_count": null,
   "id": "7",
   "metadata": {},
   "outputs": [],
   "source": [
    "nd2 = nd2reader.ND2Reader(nd2_filename)"
   ]
  },
  {
   "cell_type": "code",
   "execution_count": null,
   "id": "8",
   "metadata": {},
   "outputs": [],
   "source": [
    "cluster = SLURMCluster(\n",
    "    queue=\"short\",\n",
    "    walltime=\"02:00:00\",\n",
    "    memory=\"4GB\",\n",
    "    local_directory=\"/tmp\",\n",
    "    log_directory=\"/home/jqs1/log\",\n",
    "    cores=1,\n",
    "    processes=1,\n",
    ")\n",
    "client = Client(cluster)"
   ]
  },
  {
   "cell_type": "code",
   "execution_count": null,
   "id": "9",
   "metadata": {},
   "outputs": [],
   "source": [
    "cluster"
   ]
  },
  {
   "cell_type": "code",
   "execution_count": null,
   "id": "10",
   "metadata": {
    "tags": []
   },
   "outputs": [],
   "source": [
    "cluster.scale(1)"
   ]
  },
  {
   "cell_type": "markdown",
   "id": "11",
   "metadata": {},
   "source": [
    "# Functions"
   ]
  },
  {
   "cell_type": "code",
   "execution_count": null,
   "id": "12",
   "metadata": {
    "tags": []
   },
   "outputs": [],
   "source": [
    "from paulssonlab.image_analysis.workflow import (\n",
    "    get_filename_image_limits,\n",
    "    get_nd2_frame,\n",
    "    get_position_metadata,\n",
    "    parse_nd2_metadata,\n",
    ")\n",
    "\n",
    "\n",
    "def rectangles_intersect(ul1, lr1, ul2, lr2):\n",
    "    return not (\n",
    "        (ul1[0] > lr2[0]) or (lr1[0] < ul2[0]) or (ul1[1] > lr2[1]) or (lr1[1] < ul2[1])\n",
    "    )\n",
    "\n",
    "\n",
    "def scale_around_center(scale, center):\n",
    "    x, y = center\n",
    "    return (\n",
    "        SimilarityTransform(translation=(-x, -y))\n",
    "        + SimilarityTransform(scale=scale)\n",
    "        + SimilarityTransform(translation=(x, y))\n",
    "    )\n",
    "\n",
    "\n",
    "def fixed_aspect_scale(input_width, input_height, output_width, output_height):\n",
    "    width_ratio = output_width / input_width\n",
    "    height_ratio = output_height / input_height\n",
    "    scale = min(width_ratio, height_ratio)\n",
    "    return scale\n",
    "\n",
    "\n",
    "def transform_to_viewport(\n",
    "    input_width,\n",
    "    input_height,\n",
    "    output_width,\n",
    "    output_height,\n",
    "    center_x,\n",
    "    center_y,\n",
    "    output_corner_x,\n",
    "    output_corner_y,\n",
    "):\n",
    "    translation = SimilarityTransform(\n",
    "        translation=(\n",
    "            center_x - output_width / 2 + output_corner_x,\n",
    "            center_y - output_height / 2 + output_corner_y,\n",
    "        ),\n",
    "    )\n",
    "    transform = translation\n",
    "    input_ul = transform.inverse((0, 0))[0]\n",
    "    # TODO: off-by-one?\n",
    "    input_lr = transform.inverse((input_width - 1, input_height - 1))[0]\n",
    "    output_ul = (0, 0)\n",
    "    # TODO: off-by-one?\n",
    "    output_lr = (output_width - 1, output_height - 1)\n",
    "    visible = rectangles_intersect(input_ul, input_lr, output_ul, output_lr)\n",
    "    return transform, visible\n",
    "\n",
    "\n",
    "def foo(img):\n",
    "    return cv2.resize(img, 0.1, 0.9)\n",
    "\n",
    "\n",
    "def mosaic_frame(\n",
    "    get_frame_func,\n",
    "    channels,\n",
    "    positions,\n",
    "    input_dims,\n",
    "    *,\n",
    "    timepoint=None,\n",
    "    scale=1,\n",
    "    output_dims=(1024, 1024),\n",
    "    scaling_funcs=None,\n",
    "    dtype=np.float32,\n",
    "):\n",
    "    delayed = dask.delayed(pure=True)\n",
    "    columns = positions[\"x_idx\"].max() - positions[\"x_idx\"].min() + 1\n",
    "    rows = positions[\"y_idx\"].max() - positions[\"y_idx\"].min() + 1\n",
    "    center = np.array([input_dims[0] * columns / 2, input_dims[1] * rows / 2])\n",
    "    all_channel_imgs = [[] for _ in range(len(channels))]\n",
    "    input_scale = fixed_aspect_scale(\n",
    "        *input_dims, output_dims[0] * scale, output_dims[1] * scale\n",
    "    )\n",
    "    rescaled_input_dims = np.ceil(np.array(input_dims) * input_scale).astype(np.int_)\n",
    "    for (filename, pos_num), position in positions.iterrows():\n",
    "        for channel, channel_imgs in zip(channels, all_channel_imgs):\n",
    "            img = delayed(get_frame_func)(pos_num, channel, timepoint)\n",
    "            if scaling_funcs:\n",
    "                img = delayed(scaling_funcs[channel])(img)\n",
    "            # img = delayed(cv2.resize)(\n",
    "            #     img, rescaled_input_dims, interpolation=cv2.INTER_AREA\n",
    "            # )\n",
    "            # img = delayed(cv2.warpAffine)(\n",
    "            #     img,\n",
    "            #     frame_transform.params[:2, :],\n",
    "            #     output_dims,\n",
    "            #     # flags=cv2.INTER_AREA + cv2.WARP_INVERSE_MAP,\n",
    "            #     flags=(cv2.INTER_LANCZOS4 + cv2.WARP_INVERSE_MAP),\n",
    "            # )\n",
    "            # img = delayed(cv2.resize)(img, 0.1, 0.9)\n",
    "            img = delayed(foo)(img)\n",
    "            img = delayed(np.clip)(img, 0, 1)  # LANCZOS4 outputs values beyond 0..1\n",
    "            img = da.from_delayed(img, output_dims[::-1], dtype=dtype)\n",
    "            channel_imgs.append(img)\n",
    "    output = [da.stack(channel_imgs).sum(axis=0) for channel_imgs in all_channel_imgs]\n",
    "    return output\n",
    "\n",
    "\n",
    "def mosaic_animate_scale(\n",
    "    filename,\n",
    "    scale=1,\n",
    "    timepoints=None,\n",
    "    output_dims=(3840, 2160),\n",
    "    scaling_funcs=None,\n",
    "):\n",
    "    frame_func = mosaic_frame\n",
    "    delayed = dask.delayed(pure=True)\n",
    "    nd2 = nd2reader.ND2Reader(filename)\n",
    "    channels = [\"YFP-DUAL\", \"RFP-PENTA\"]\n",
    "    nd2s = {filename: nd2 for filename in (filename,)}\n",
    "    metadata = {\n",
    "        nd2_filename: parse_nd2_metadata(nd2) for nd2_filename, nd2 in nd2s.items()\n",
    "    }\n",
    "    positions = get_position_metadata(metadata)\n",
    "    image_limits = get_filename_image_limits(metadata)\n",
    "    get_frame_func = partial(\n",
    "        get_nd2_frame,\n",
    "        filename,\n",
    "    )\n",
    "    input_dims = (\n",
    "        image_limits[filename][0][1] + 1,\n",
    "        image_limits[filename][1][1] + 1,\n",
    "    )\n",
    "    if isinstance(scale, Number):\n",
    "        if timepoints is None:\n",
    "            timepoints = range(nd2.sizes[\"t\"])\n",
    "    else:\n",
    "        if timepoints is None:\n",
    "            timepoints = it.cycle(range(nd2.sizes[\"t\"]))\n",
    "    ts_iter = list(zip(timepoints, scale))\n",
    "    animation = [\n",
    "        frame_func(\n",
    "            get_frame_func,\n",
    "            channels,\n",
    "            positions,\n",
    "            input_dims,\n",
    "            timepoint=t,\n",
    "            scale=s,\n",
    "            scaling_funcs=scaling_funcs,\n",
    "            output_dims=output_dims,\n",
    "        )\n",
    "        for t, s in ts_iter\n",
    "    ]\n",
    "    return animation"
   ]
  },
  {
   "cell_type": "markdown",
   "id": "13",
   "metadata": {
    "tags": []
   },
   "source": [
    "# Mosaic"
   ]
  },
  {
   "cell_type": "code",
   "execution_count": null,
   "id": "14",
   "metadata": {},
   "outputs": [],
   "source": [
    "scaling_funcs = mosaic.get_scaling_funcs(\n",
    "    {\"YFP-DUAL\": (300, 2000), \"RFP-PENTA\": (300, 2000)}\n",
    ")"
   ]
  },
  {
   "cell_type": "code",
   "execution_count": null,
   "id": "15",
   "metadata": {},
   "outputs": [],
   "source": [
    "%%time\n",
    "animation_delayed = mosaic_animate_scale(\n",
    "    nd2_filename,\n",
    "    it.repeat(0.1),\n",
    "    timepoints=range(20),\n",
    "    scaling_funcs=scaling_funcs,\n",
    ")"
   ]
  },
  {
   "cell_type": "code",
   "execution_count": null,
   "id": "16",
   "metadata": {},
   "outputs": [],
   "source": [
    "%%time\n",
    "# animation_future = client.compute(animation_delayed)\n",
    "animation_future = [client.compute(frame) for frame in animation_delayed]"
   ]
  },
  {
   "cell_type": "code",
   "execution_count": null,
   "id": "17",
   "metadata": {
    "tags": []
   },
   "outputs": [],
   "source": [
    "del animation_future"
   ]
  },
  {
   "cell_type": "code",
   "execution_count": null,
   "id": "18",
   "metadata": {},
   "outputs": [],
   "source": [
    "%%time\n",
    "a = client.gather(animation_future)"
   ]
  },
  {
   "cell_type": "markdown",
   "id": "19",
   "metadata": {},
   "source": [
    "# Pickle"
   ]
  },
  {
   "cell_type": "code",
   "execution_count": null,
   "id": "20",
   "metadata": {
    "tags": []
   },
   "outputs": [],
   "source": [
    "import cloudpickle"
   ]
  },
  {
   "cell_type": "code",
   "execution_count": null,
   "id": "21",
   "metadata": {
    "tags": []
   },
   "outputs": [],
   "source": [
    "cloudpickle.dumps(cv2.resize)"
   ]
  },
  {
   "cell_type": "code",
   "execution_count": null,
   "id": "22",
   "metadata": {
    "tags": []
   },
   "outputs": [],
   "source": [
    "cloudpickle.register_pickle_by_value(cv2)"
   ]
  },
  {
   "cell_type": "code",
   "execution_count": null,
   "id": "23",
   "metadata": {
    "tags": []
   },
   "outputs": [],
   "source": [
    "import distributed.protocol"
   ]
  },
  {
   "cell_type": "code",
   "execution_count": null,
   "id": "24",
   "metadata": {
    "tags": []
   },
   "outputs": [],
   "source": [
    "distributed.protocol.pickle.dumps(dask.delayed(cv2.resize)(\"h\", \"b\"))"
   ]
  }
 ],
 "metadata": {
  "kernelspec": {
   "display_name": "Python 3 (ipykernel)",
   "language": "python",
   "name": "python3"
  },
  "language_info": {
   "codemirror_mode": {
    "name": "ipython",
    "version": 3
   },
   "file_extension": ".py",
   "mimetype": "text/x-python",
   "name": "python",
   "nbconvert_exporter": "python",
   "pygments_lexer": "ipython3",
   "version": "3.10.10"
  }
 },
 "nbformat": 4,
 "nbformat_minor": 4
}
