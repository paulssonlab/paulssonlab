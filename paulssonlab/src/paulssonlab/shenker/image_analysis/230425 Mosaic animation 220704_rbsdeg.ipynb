{
 "cells": [
  {
   "cell_type": "markdown",
   "id": "0",
   "metadata": {
    "tags": []
   },
   "source": [
    "# Imports"
   ]
  },
  {
   "cell_type": "code",
   "execution_count": null,
   "id": "1",
   "metadata": {},
   "outputs": [],
   "source": [
    "import itertools as it\n",
    "from pathlib import Path\n",
    "\n",
    "import dask\n",
    "import distributed\n",
    "import h5py\n",
    "import matplotlib.pyplot as plt\n",
    "import nd2reader\n",
    "import numpy as np\n",
    "import pandas as pd\n",
    "from cytoolz import partial\n",
    "from dask_jobqueue import SLURMCluster\n",
    "from distributed import Client\n",
    "from IPython.display import Video\n",
    "from PIL import Image, ImageDraw, ImageFont\n",
    "from tqdm.auto import tqdm, trange"
   ]
  },
  {
   "cell_type": "code",
   "execution_count": null,
   "id": "2",
   "metadata": {},
   "outputs": [],
   "source": [
    "from dask.diagnostics import ProgressBar\n",
    "\n",
    "pbar = ProgressBar()\n",
    "pbar.register()"
   ]
  },
  {
   "cell_type": "code",
   "execution_count": null,
   "id": "3",
   "metadata": {},
   "outputs": [],
   "source": [
    "%load_ext autoreload\n",
    "%autoreload 2\n",
    "%load_ext pyinstrument"
   ]
  },
  {
   "cell_type": "code",
   "execution_count": null,
   "id": "4",
   "metadata": {},
   "outputs": [],
   "source": [
    "from paulssonlab.image_analysis import mosaic, workflow\n",
    "from paulssonlab.util.ui import display_image"
   ]
  },
  {
   "cell_type": "markdown",
   "id": "5",
   "metadata": {
    "tags": []
   },
   "source": [
    "# Config"
   ]
  },
  {
   "cell_type": "code",
   "execution_count": null,
   "id": "6",
   "metadata": {},
   "outputs": [],
   "source": [
    "nd2_filename = \"/home/jqs1/scratch/jqs1/microscopy/220704/220704rbs_library_fish.nd2\"\n",
    "# nd2_filename = \"/home/jqs1/scratch/jqs1/microscopy/220718/RBS_DEG_library_20x.nd2\""
   ]
  },
  {
   "cell_type": "code",
   "execution_count": null,
   "id": "7",
   "metadata": {},
   "outputs": [],
   "source": [
    "nd2 = nd2reader.ND2Reader(nd2_filename)"
   ]
  },
  {
   "cell_type": "code",
   "execution_count": null,
   "id": "8",
   "metadata": {},
   "outputs": [],
   "source": [
    "# default_channels = (\"YFP-DUAL\", \"RFP-Penta\")\n",
    "default_channels = (\"YFP-DUAL\", \"RFP-PENTA\")\n",
    "channel_to_color = {\n",
    "    \"BF\": \"#ffffff\",\n",
    "    \"RFP-PENTA\": \"#C500BB\",  # \"#FF5AF6\",\n",
    "    \"RFP-Penta\": \"#C500BB\",\n",
    "    # \"RFP-Penta\": \"#e22400\",\n",
    "    # \"YFP-DUAL\": \"#13FF00\",\n",
    "    \"YFP-DUAL\": \"#FAFF00\",\n",
    "    # \"GFP\": \"#76ba40\",\n",
    "    \"Cy5\": \"#e292fe\",\n",
    "    # \"Cy7\": \"#FF0000\"\n",
    "    # \"BFP\": \"#3a87fd\",\n",
    "}"
   ]
  },
  {
   "cell_type": "code",
   "execution_count": null,
   "id": "9",
   "metadata": {},
   "outputs": [],
   "source": [
    "font = ImageFont.truetype(\"fira/FiraSans-Medium.ttf\")"
   ]
  },
  {
   "cell_type": "code",
   "execution_count": null,
   "id": "10",
   "metadata": {},
   "outputs": [],
   "source": [
    "dask.config.set({\"distributed.scheduler.allowed-failures\": 10})"
   ]
  },
  {
   "cell_type": "code",
   "execution_count": null,
   "id": "11",
   "metadata": {},
   "outputs": [],
   "source": [
    "cluster = SLURMCluster(\n",
    "    queue=\"short\",\n",
    "    walltime=\"02:00:00\",\n",
    "    memory=\"16GB\",\n",
    "    local_directory=\"/tmp\",\n",
    "    log_directory=\"/home/jqs1/log\",\n",
    "    cores=2,\n",
    "    processes=2,\n",
    ")\n",
    "client = Client(cluster)"
   ]
  },
  {
   "cell_type": "code",
   "execution_count": null,
   "id": "12",
   "metadata": {},
   "outputs": [],
   "source": [
    "cluster.adapt(maximum=10)"
   ]
  },
  {
   "cell_type": "code",
   "execution_count": null,
   "id": "13",
   "metadata": {},
   "outputs": [],
   "source": [
    "cluster"
   ]
  },
  {
   "cell_type": "code",
   "execution_count": null,
   "id": "14",
   "metadata": {
    "tags": []
   },
   "outputs": [],
   "source": [
    "cluster.scale(40)"
   ]
  },
  {
   "cell_type": "markdown",
   "id": "15",
   "metadata": {
    "tags": []
   },
   "source": [
    "# Mosaic"
   ]
  },
  {
   "cell_type": "code",
   "execution_count": null,
   "id": "16",
   "metadata": {},
   "outputs": [],
   "source": [
    "%%time\n",
    "# extrema = mosaic.get_intensity_extrema(nd2, (\"YFP-DUAL\", \"RFP-Penta\"))"
   ]
  },
  {
   "cell_type": "code",
   "execution_count": null,
   "id": "17",
   "metadata": {},
   "outputs": [],
   "source": [
    "extrema"
   ]
  },
  {
   "cell_type": "code",
   "execution_count": null,
   "id": "18",
   "metadata": {},
   "outputs": [],
   "source": [
    "# scaling_funcs = mosaic.get_scaling_funcs(extrema)\n",
    "# scaling_funcs = mosaic.get_scaling_funcs(\n",
    "#     {\"YFP-DUAL\": (262, 8000), \"RFP-Penta\": (278, 8000)}\n",
    "# )\n",
    "scaling_funcs = mosaic.get_scaling_funcs(\n",
    "    {\"YFP-DUAL\": (300, 2000), \"RFP-PENTA\": (300, 2000)}\n",
    ")"
   ]
  },
  {
   "cell_type": "code",
   "execution_count": null,
   "id": "19",
   "metadata": {},
   "outputs": [],
   "source": [
    "def positions_func(positions):\n",
    "    return positions.drop([\"x_idx\", \"y_idx\"], axis=1).join(\n",
    "        positions[\"position_name\"].apply(\n",
    "            lambda name: pd.Series(\n",
    "                [int(idx) for idx in name.split(\".\")], index=[\"y_idx\", \"x_idx\"]\n",
    "            )\n",
    "        )\n",
    "    )"
   ]
  },
  {
   "cell_type": "code",
   "execution_count": null,
   "id": "20",
   "metadata": {},
   "outputs": [],
   "source": [
    "%%time\n",
    "num_t = nd2.sizes[\"t\"]\n",
    "# scale = [80,40,20,10,5,1]#it.repeat(80)\n",
    "# scale = np.geomspace(80, 0.1, 900)\n",
    "# scale = np.geomspace(0.5, 0.1, 60)\n",
    "# scale = [20]\n",
    "# scale = [0.3]\n",
    "# scale = it.repeat(1)\n",
    "# scale = [0.333]\n",
    "# scale = it.repeat(0.05)\n",
    "# scale = it.repeat(0.1)\n",
    "# scale = it.repeat(0.2)\n",
    "# scale = it.repeat(0.4)\n",
    "# scale = np.geomspace(20, 0.05, num_t*3)# + np.linspace(0, 0, 0) #it.repeat(0.3)  # [0.3, 0.3, 0.3, 0.3]\n",
    "# scale = np.geomspace(80, 0.05, 120*2)\n",
    "# timepoints = range(0, 119, 30)\n",
    "# timepoints = range(0, 110, 10)#[20,40,60]\n",
    "# timepoints = [60]  # it.repeat(60)  # [20]  # [20,40,60,80]\n",
    "# timepoints = range(num_t)\n",
    "# timepoints = [num_t-1]\n",
    "# timepoints = [0,60,num_t-1]\n",
    "# timepoints = it.chain(range(num_t), range(num_t), range(num_t)) #[20]#[20, 40, 60]\n",
    "# timepoints = [0, 30, 60, 90, 120]\n",
    "# scale = [80]\n",
    "scale = np.geomspace(80, 0.03, 2 * num_t)\n",
    "# timepoints = it.repeat(0)\n",
    "# timepoints = it.cycle(range(num_t))\n",
    "timepoints = np.repeat(np.arange(num_t), 2)\n",
    "offset = [-20, 820]  # [0,0]#np.array([604, 354])\n",
    "# offset = [4000, -7000]\n",
    "# offset = [0,0]\n",
    "animation_delayed = mosaic.mosaic_animate_scale(\n",
    "    nd2_filename,\n",
    "    scale,\n",
    "    timepoints=timepoints,\n",
    "    scaling_funcs=scaling_funcs,\n",
    "    offset=offset,\n",
    "    # rotation=np.deg2rad(-0.65),\n",
    "    rotation=np.deg2rad(0.2),\n",
    "    channels=default_channels,\n",
    "    channel_to_color=channel_to_color,\n",
    "    # overlay_only=True,\n",
    "    overlay_func=partial(\n",
    "        mosaic.square_overlay,\n",
    "        min_scale=40,\n",
    "        min_n=0,\n",
    "        min_width=0.5,\n",
    "        max_scale=0.1,\n",
    "        max_n=5,\n",
    "        max_width=0.9,\n",
    "        font=font,\n",
    "    ),\n",
    "    # positions_func=positions_func,\n",
    "    output_dims=(3840, 2160),\n",
    "    # output_dims=(1024, 1024),\n",
    "    # output_dims=(1024, 512),\n",
    "    delayed=True,\n",
    ")"
   ]
  },
  {
   "cell_type": "code",
   "execution_count": null,
   "id": "21",
   "metadata": {},
   "outputs": [],
   "source": [
    "%%time\n",
    "a = dask.compute(animation_delayed, scheduler=\"sync\")[0]"
   ]
  },
  {
   "cell_type": "code",
   "execution_count": null,
   "id": "22",
   "metadata": {
    "tags": []
   },
   "outputs": [],
   "source": [
    "display_image(a[0])"
   ]
  },
  {
   "cell_type": "code",
   "execution_count": null,
   "id": "23",
   "metadata": {
    "tags": []
   },
   "outputs": [],
   "source": [
    "display_image(a[0])"
   ]
  },
  {
   "cell_type": "code",
   "execution_count": null,
   "id": "24",
   "metadata": {
    "tags": []
   },
   "outputs": [],
   "source": [
    "display_image(a[0])"
   ]
  },
  {
   "cell_type": "code",
   "execution_count": null,
   "id": "25",
   "metadata": {
    "tags": []
   },
   "outputs": [],
   "source": [
    "display_image(a[0])"
   ]
  },
  {
   "cell_type": "code",
   "execution_count": null,
   "id": "26",
   "metadata": {},
   "outputs": [],
   "source": [
    "%%time\n",
    "# animation_future = client.compute(animation_delayed)\n",
    "animation_future = [client.compute(frame) for frame in tqdm(animation_delayed)]"
   ]
  },
  {
   "cell_type": "code",
   "execution_count": null,
   "id": "27",
   "metadata": {},
   "outputs": [],
   "source": [
    "%%time\n",
    "a = client.gather(animation_future)"
   ]
  },
  {
   "cell_type": "code",
   "execution_count": null,
   "id": "28",
   "metadata": {},
   "outputs": [],
   "source": [
    "# video_dir = Path(\"/home/jqs1/scratch/jqs1/microscopy/220718/mosaics/\")\n",
    "video_dir = Path(\"/home/jqs1/scratch/jqs1/microscopy/220704/mosaics/\")\n",
    "video_dir.mkdir(exist_ok=True)"
   ]
  },
  {
   "cell_type": "code",
   "execution_count": null,
   "id": "29",
   "metadata": {},
   "outputs": [],
   "source": [
    "%%time\n",
    "mosaic.export_video(\n",
    "    # a,\n",
    "    animation_future,\n",
    "    video_dir / \"230425zoom_slow.mp4\",\n",
    "    fps=30,\n",
    ")"
   ]
  },
  {
   "cell_type": "code",
   "execution_count": null,
   "id": "30",
   "metadata": {
    "tags": []
   },
   "outputs": [],
   "source": [
    "client.restart();"
   ]
  },
  {
   "cell_type": "code",
   "execution_count": null,
   "id": "31",
   "metadata": {},
   "outputs": [],
   "source": [
    "Video(\n",
    "    video_dir / \"230423zoomtest_linescaling.mp4\",\n",
    "    embed=True,\n",
    ")"
   ]
  },
  {
   "cell_type": "markdown",
   "id": "32",
   "metadata": {},
   "source": [
    "# Grid debugging"
   ]
  },
  {
   "cell_type": "code",
   "execution_count": null,
   "id": "33",
   "metadata": {},
   "outputs": [],
   "source": [
    "from paulssonlab.image_analysis.workflow import (\n",
    "    get_filename_image_limits,\n",
    "    get_nd2_frame,\n",
    "    get_position_metadata,\n",
    "    parse_nd2_metadata,\n",
    ")"
   ]
  },
  {
   "cell_type": "code",
   "execution_count": null,
   "id": "34",
   "metadata": {},
   "outputs": [],
   "source": [
    "nd2 = nd2reader.ND2Reader(nd2_filename)\n",
    "nd2s = {filename: nd2 for filename in (nd2_filename,)}\n",
    "metadata = {nd2_filename: parse_nd2_metadata(nd2) for nd2_filename, nd2 in nd2s.items()}\n",
    "positions = get_position_metadata(metadata)"
   ]
  },
  {
   "cell_type": "code",
   "execution_count": null,
   "id": "35",
   "metadata": {},
   "outputs": [],
   "source": [
    "positions = positions_func(positions)"
   ]
  },
  {
   "cell_type": "code",
   "execution_count": null,
   "id": "36",
   "metadata": {},
   "outputs": [],
   "source": [
    "positions"
   ]
  },
  {
   "cell_type": "code",
   "execution_count": null,
   "id": "37",
   "metadata": {},
   "outputs": [],
   "source": [
    "first_row = positions[positions[\"y_idx\"] == positions[\"y_idx\"].min()]"
   ]
  },
  {
   "cell_type": "code",
   "execution_count": null,
   "id": "38",
   "metadata": {},
   "outputs": [],
   "source": [
    "first_row"
   ]
  },
  {
   "cell_type": "code",
   "execution_count": null,
   "id": "39",
   "metadata": {},
   "outputs": [],
   "source": [
    "upper_left = first_row[first_row[\"x_idx\"] == first_row[\"x_idx\"].min()].squeeze()"
   ]
  },
  {
   "cell_type": "code",
   "execution_count": null,
   "id": "40",
   "metadata": {},
   "outputs": [],
   "source": [
    "upper_right = first_row[first_row[\"x_idx\"] == first_row[\"x_idx\"].max()].squeeze()"
   ]
  },
  {
   "cell_type": "code",
   "execution_count": null,
   "id": "41",
   "metadata": {},
   "outputs": [],
   "source": [
    "upper_right[\"y\"]"
   ]
  },
  {
   "cell_type": "code",
   "execution_count": null,
   "id": "42",
   "metadata": {},
   "outputs": [],
   "source": [
    "z = np.arctan2(upper_right[\"y\"] - upper_left[\"y\"], upper_right[\"x\"] - upper_left[\"x\"])"
   ]
  },
  {
   "cell_type": "code",
   "execution_count": null,
   "id": "43",
   "metadata": {},
   "outputs": [],
   "source": [
    "np.rad2deg(\n",
    "    np.arctan2(upper_left[\"y\"] - upper_right[\"y\"], upper_left[\"x\"] - upper_right[\"x\"])\n",
    ")"
   ]
  },
  {
   "cell_type": "code",
   "execution_count": null,
   "id": "44",
   "metadata": {},
   "outputs": [],
   "source": [
    "positions"
   ]
  },
  {
   "cell_type": "markdown",
   "id": "45",
   "metadata": {},
   "source": [
    "# Overlay"
   ]
  },
  {
   "cell_type": "code",
   "execution_count": null,
   "id": "46",
   "metadata": {
    "tags": []
   },
   "outputs": [],
   "source": [
    "# %%pyinstrument\n",
    "# output_dims=(3840, 2160)\n",
    "# output_dims=(384, 216)\n",
    "output_dims = (1024, 1024)\n",
    "frame = np.zeros((*output_dims[::-1], 3), dtype=np.float32) + 0.5\n",
    "img = mosaic.square_overlay(\n",
    "    frame,\n",
    "    0,\n",
    "    20,\n",
    "    min_scale=80,\n",
    "    min_n=0,\n",
    "    min_width=0.5,\n",
    "    max_scale=0.1,\n",
    "    max_n=5,\n",
    "    max_width=0.9,\n",
    "    font=font,\n",
    ")\n",
    "display_image(img)"
   ]
  },
  {
   "cell_type": "code",
   "execution_count": null,
   "id": "47",
   "metadata": {
    "tags": []
   },
   "outputs": [],
   "source": [
    "import cv2\n",
    "from skimage.transform import SimilarityTransform, warp"
   ]
  },
  {
   "cell_type": "code",
   "execution_count": null,
   "id": "48",
   "metadata": {
    "tags": []
   },
   "outputs": [],
   "source": [
    "# b=cv2.resize(img, img.shape[:-1], fx=0.2, fy=0.2, interpolation=cv2.INTER_AREA)\n",
    "# transform = SimilarityTransform(scale=0.2)\n",
    "transform = mosaic.scale_around_center(0.2, np.array(output_dims) / 2)\n",
    "b = cv2.warpAffine(\n",
    "    img,\n",
    "    transform.params[:2, :],\n",
    "    img.shape[:-1],\n",
    "    # flags=cv2.INTER_AREA + cv2.WARP_INVERSE_MAP,\n",
    "    flags=(cv2.INTER_LANCZOS4),\n",
    ")"
   ]
  },
  {
   "cell_type": "code",
   "execution_count": null,
   "id": "49",
   "metadata": {
    "tags": []
   },
   "outputs": [],
   "source": [
    "b.shape"
   ]
  },
  {
   "cell_type": "code",
   "execution_count": null,
   "id": "50",
   "metadata": {
    "tags": []
   },
   "outputs": [],
   "source": [
    "display_image(b)"
   ]
  },
  {
   "cell_type": "code",
   "execution_count": null,
   "id": "51",
   "metadata": {
    "tags": []
   },
   "outputs": [],
   "source": [
    "# transform = mosaic.scale_around_center(0.2, np.array(output_dims)/2)\n",
    "# b = cv2.warpAffine(img, transform.params[:2, :],\n",
    "#                     img.shape[:-1],\n",
    "#                     # flags=cv2.INTER_AREA + cv2.WARP_INVERSE_MAP,\n",
    "#                     flags=(cv2.INTER_LANCZOS4))\n",
    "c = cv2.resize(\n",
    "    img,\n",
    "    np.ceil(np.array(img.shape[:-1]) * 0.2).astype(np.int32),\n",
    "    interpolation=cv2.INTER_AREA,\n",
    ")"
   ]
  },
  {
   "cell_type": "code",
   "execution_count": null,
   "id": "52",
   "metadata": {},
   "outputs": [],
   "source": [
    "display_image(c)"
   ]
  },
  {
   "cell_type": "code",
   "execution_count": null,
   "id": "53",
   "metadata": {
    "tags": []
   },
   "outputs": [],
   "source": [
    "transform = SimilarityTransform(\n",
    "    translation=np.array(output_dims) / 2\n",
    ")  # mosaic.scale_around_center(0.2, np.array(output_dims)/2)\n",
    "d = cv2.warpAffine(\n",
    "    c,\n",
    "    transform.params[:2, :],\n",
    "    img.shape[:-1],\n",
    "    # flags=cv2.INTER_AREA + cv2.WARP_INVERSE_MAP,\n",
    "    flags=(cv2.INTER_LANCZOS4),\n",
    ")"
   ]
  },
  {
   "cell_type": "code",
   "execution_count": null,
   "id": "54",
   "metadata": {
    "tags": []
   },
   "outputs": [],
   "source": [
    "display_image(d)"
   ]
  }
 ],
 "metadata": {
  "kernelspec": {
   "display_name": "Python 3 (ipykernel)",
   "language": "python",
   "name": "python3"
  },
  "language_info": {
   "codemirror_mode": {
    "name": "ipython",
    "version": 3
   },
   "file_extension": ".py",
   "mimetype": "text/x-python",
   "name": "python",
   "nbconvert_exporter": "python",
   "pygments_lexer": "ipython3",
   "version": "3.10.10"
  }
 },
 "nbformat": 4,
 "nbformat_minor": 4
}
