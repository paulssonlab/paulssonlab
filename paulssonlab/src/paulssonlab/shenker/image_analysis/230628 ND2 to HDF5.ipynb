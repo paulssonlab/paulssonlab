{
 "cells": [
  {
   "cell_type": "markdown",
   "id": "0",
   "metadata": {
    "tags": []
   },
   "source": [
    "# Imports"
   ]
  },
  {
   "cell_type": "code",
   "execution_count": null,
   "id": "1",
   "metadata": {},
   "outputs": [],
   "source": [
    "from functools import partial\n",
    "from pathlib import Path\n",
    "\n",
    "import h5py\n",
    "import matplotlib.pyplot as plt\n",
    "import nd2reader\n",
    "import numpy as np\n",
    "import zarr\n",
    "from tqdm.auto import tqdm"
   ]
  },
  {
   "cell_type": "code",
   "execution_count": null,
   "id": "2",
   "metadata": {},
   "outputs": [],
   "source": [
    "%load_ext autoreload\n",
    "%autoreload 2"
   ]
  },
  {
   "cell_type": "code",
   "execution_count": null,
   "id": "3",
   "metadata": {},
   "outputs": [],
   "source": [
    "from paulssonlab.image_analysis import *\n",
    "from paulssonlab.image_analysis.ui import display_image"
   ]
  },
  {
   "cell_type": "markdown",
   "id": "4",
   "metadata": {
    "tags": []
   },
   "source": [
    "# Reformat ND2 as Zarr/HDF5"
   ]
  },
  {
   "cell_type": "code",
   "execution_count": null,
   "id": "5",
   "metadata": {},
   "outputs": [],
   "source": [
    "# TODO: need to write entire chunks at a time to avoid ZipFile duplicate file warning\n",
    "def convert_nd2_to_zarr(nd2_filename, zarr_filename, slices):\n",
    "    nd2 = nd2reader.ND2Reader(nd2_filename)\n",
    "    frame = nd2.get_frame_2D()\n",
    "    dtype = frame.dtype\n",
    "    shape = frame.shape\n",
    "    del frame\n",
    "    channel_idxs = np.arange(nd2.sizes.get(\"c\", 1))[slices.get(\"c\", slice(None))]\n",
    "    fovs = np.arange(nd2.sizes.get(\"v\", 1))[slices.get(\"v\", slice(None))]\n",
    "    zs = np.arange(nd2.sizes.get(\"z\", 1))[slices.get(\"z\", slice(None))]\n",
    "    ts = np.arange(nd2.sizes.get(\"t\", 1))[slices.get(\"t\", slice(None))]\n",
    "    with zarr.ZipStore(zarr_filename, mode=\"w\") as store:\n",
    "        root = zarr.group(store=store)\n",
    "        for channel_idx in tqdm(channel_idxs, desc=\"c\"):\n",
    "            channel = nd2.metadata[\"channels\"][channel_idx]\n",
    "            channel_group = root.create_group(channel)\n",
    "            for fov in tqdm(fovs, desc=\"v\"):\n",
    "                ary = channel_group.zeros(\n",
    "                    fov,\n",
    "                    shape=(len(zs), len(ts), *shape),\n",
    "                    chunks=(1, 5, None, None),\n",
    "                    dtype=dtype,\n",
    "                )\n",
    "                for z_idx, z in enumerate(tqdm(zs, desc=\"z\")):\n",
    "                    for t_idx, t in enumerate(tqdm(ts, desc=\"t\")):\n",
    "                        ary[z_idx, t_idx, :, :] = nd2.get_frame_2D(\n",
    "                            c=channel_idx, v=fov, z=z, t=t\n",
    "                        )"
   ]
  },
  {
   "cell_type": "code",
   "execution_count": null,
   "id": "6",
   "metadata": {},
   "outputs": [],
   "source": [
    "# TODO: json metadata in hdf5"
   ]
  },
  {
   "cell_type": "code",
   "execution_count": null,
   "id": "7",
   "metadata": {
    "tags": []
   },
   "outputs": [],
   "source": [
    "!ls /home/jqs1/scratch/jqs1/microscopy/230619/230619_NAO745_repressilators_split.nd2aa"
   ]
  },
  {
   "cell_type": "code",
   "execution_count": null,
   "id": "8",
   "metadata": {
    "tags": []
   },
   "outputs": [],
   "source": [
    "import glob"
   ]
  },
  {
   "cell_type": "code",
   "execution_count": null,
   "id": "9",
   "metadata": {},
   "outputs": [],
   "source": [
    "filename = workflow.SplitFilename(\n",
    "    glob.glob(\n",
    "        \"/home/jqs1/scratch/jqs1/microscopy/230619/230619_NAO745_repressilators_split.nd2*\"\n",
    "    )\n",
    ")\n",
    "# dest_filename = \"/home/jqs1/scratch/jqs1/microscopy/230619/230619_NAO745_repressilators\""
   ]
  },
  {
   "cell_type": "code",
   "execution_count": null,
   "id": "10",
   "metadata": {
    "tags": []
   },
   "outputs": [],
   "source": [
    "filename"
   ]
  },
  {
   "cell_type": "code",
   "execution_count": null,
   "id": "11",
   "metadata": {
    "tags": []
   },
   "outputs": [],
   "source": [
    "nd2 = workflow.get_nd2_reader(filename)"
   ]
  },
  {
   "cell_type": "code",
   "execution_count": null,
   "id": "12",
   "metadata": {
    "tags": []
   },
   "outputs": [],
   "source": [
    "nd2.sizes"
   ]
  },
  {
   "cell_type": "code",
   "execution_count": null,
   "id": "13",
   "metadata": {
    "tags": []
   },
   "outputs": [],
   "source": [
    "display_image(nd2.get_frame_2D(t=0, v=259, c=0), downsample=2, scale=0.9)"
   ]
  },
  {
   "cell_type": "code",
   "execution_count": null,
   "id": "14",
   "metadata": {},
   "outputs": [],
   "source": [
    "from paulssonlab.io.metadata import parse_nd2_metadata"
   ]
  },
  {
   "cell_type": "code",
   "execution_count": null,
   "id": "15",
   "metadata": {},
   "outputs": [],
   "source": [
    "md = parse_nd2_metadata(nd2)"
   ]
  },
  {
   "cell_type": "code",
   "execution_count": null,
   "id": "16",
   "metadata": {
    "tags": []
   },
   "outputs": [],
   "source": [
    "multifile_filename = filename + \".full/\""
   ]
  },
  {
   "cell_type": "code",
   "execution_count": null,
   "id": "17",
   "metadata": {},
   "outputs": [],
   "source": [
    "Path(multifile_filename).mkdir()"
   ]
  },
  {
   "cell_type": "code",
   "execution_count": null,
   "id": "18",
   "metadata": {
    "tags": []
   },
   "outputs": [],
   "source": [
    "!ls /home/jqs1/scratch/jqs1/microscopy/230619/230619_NAO745_repressilators_split*"
   ]
  },
  {
   "cell_type": "code",
   "execution_count": null,
   "id": "19",
   "metadata": {},
   "outputs": [],
   "source": [
    "%%time\n",
    "readers.convert_nd2_to_hdf5(\n",
    "    nd2,\n",
    "    multifile_filename,\n",
    "    # file_axes=[],\n",
    "    # dataset_axes=[\"fov\", \"t\", \"channel\"],\n",
    "    # slices=dict(fov=slice(22, 24), t=slice(3)),\n",
    ")"
   ]
  },
  {
   "cell_type": "markdown",
   "id": "20",
   "metadata": {},
   "source": [
    "# Send HDF5"
   ]
  },
  {
   "cell_type": "code",
   "execution_count": null,
   "id": "21",
   "metadata": {},
   "outputs": [],
   "source": [
    "h5 = h5py.File(\n",
    "    \"/home/jqs1/scratch/jqs1/microscopy/230619/230619_NAO745_repressilators_split.2fov_3t/t=1_fov=22.hdf5\",\n",
    ")"
   ]
  },
  {
   "cell_type": "code",
   "execution_count": null,
   "id": "22",
   "metadata": {
    "tags": []
   },
   "outputs": [],
   "source": [
    "h5[\"channel=CFP-EM\"][()].squeeze().shape"
   ]
  },
  {
   "cell_type": "code",
   "execution_count": null,
   "id": "23",
   "metadata": {
    "tags": []
   },
   "outputs": [],
   "source": [
    "display_image(h5[\"channel=CFP-EM\"][()], downsample=2, scale=0.9)"
   ]
  }
 ],
 "metadata": {
  "kernelspec": {
   "display_name": "Python 3 (ipykernel)",
   "language": "python",
   "name": "python3"
  },
  "language_info": {
   "codemirror_mode": {
    "name": "ipython",
    "version": 3
   },
   "file_extension": ".py",
   "mimetype": "text/x-python",
   "name": "python",
   "nbconvert_exporter": "python",
   "pygments_lexer": "ipython3",
   "version": "3.11.4"
  }
 },
 "nbformat": 4,
 "nbformat_minor": 4
}
