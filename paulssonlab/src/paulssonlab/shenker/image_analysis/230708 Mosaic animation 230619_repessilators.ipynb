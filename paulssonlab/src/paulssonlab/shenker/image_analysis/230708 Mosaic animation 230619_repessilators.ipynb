{
 "cells": [
  {
   "cell_type": "markdown",
   "id": "0",
   "metadata": {
    "tags": []
   },
   "source": [
    "# Imports"
   ]
  },
  {
   "cell_type": "code",
   "execution_count": null,
   "id": "1",
   "metadata": {
    "tags": []
   },
   "outputs": [],
   "source": [
    "import glob\n",
    "import itertools as it\n",
    "from functools import partial\n",
    "from pathlib import Path\n",
    "\n",
    "import dask\n",
    "import distributed\n",
    "import h5py\n",
    "import matplotlib.pyplot as plt\n",
    "import nd2reader\n",
    "import numpy as np\n",
    "import pandas as pd\n",
    "import skimage\n",
    "import zarr\n",
    "from dask_jobqueue import SLURMCluster\n",
    "from distributed import Client\n",
    "from IPython.display import Video\n",
    "from PIL import Image, ImageDraw, ImageFont\n",
    "from tqdm.auto import tqdm, trange"
   ]
  },
  {
   "cell_type": "code",
   "execution_count": null,
   "id": "2",
   "metadata": {
    "tags": []
   },
   "outputs": [],
   "source": [
    "from dask.diagnostics import ProgressBar\n",
    "\n",
    "pbar = ProgressBar()\n",
    "pbar.register()"
   ]
  },
  {
   "cell_type": "code",
   "execution_count": null,
   "id": "3",
   "metadata": {
    "tags": []
   },
   "outputs": [],
   "source": [
    "%load_ext autoreload\n",
    "%autoreload 2\n",
    "%load_ext pyinstrument"
   ]
  },
  {
   "cell_type": "code",
   "execution_count": null,
   "id": "4",
   "metadata": {
    "tags": []
   },
   "outputs": [],
   "source": [
    "from paulssonlab.image_analysis import mosaic, workflow\n",
    "from paulssonlab.image_analysis.ui import display_image"
   ]
  },
  {
   "cell_type": "code",
   "execution_count": null,
   "id": "5",
   "metadata": {
    "tags": []
   },
   "outputs": [],
   "source": [
    "#!micromamba install -y av"
   ]
  },
  {
   "cell_type": "markdown",
   "id": "6",
   "metadata": {
    "tags": []
   },
   "source": [
    "# Config"
   ]
  },
  {
   "cell_type": "code",
   "execution_count": null,
   "id": "7",
   "metadata": {
    "tags": []
   },
   "outputs": [],
   "source": [
    "# nd2_filename = \"/home/jqs1/scratch/jqs1/microscopy/221227daniel/Experiment.nd2\"\n",
    "# nd2_filename = \"/home/jqs1/scratch/jqs1/microscopy/220718/RBS_DEG_library_20x.nd2\"\n",
    "nd2_filename = workflow.SplitFilename(\n",
    "    sorted(\n",
    "        glob.glob(\n",
    "            \"/home/jqs1/scratch/jqs1/microscopy/230619/230619_NAO745_repressilators_split.nd2*\"\n",
    "        )\n",
    "    )\n",
    ")"
   ]
  },
  {
   "cell_type": "code",
   "execution_count": null,
   "id": "8",
   "metadata": {
    "tags": []
   },
   "outputs": [],
   "source": [
    "nd2 = workflow.get_nd2_reader(nd2_filename)"
   ]
  },
  {
   "cell_type": "code",
   "execution_count": null,
   "id": "9",
   "metadata": {
    "tags": []
   },
   "outputs": [],
   "source": [
    "nd2.metadata[\"channels\"]"
   ]
  },
  {
   "cell_type": "code",
   "execution_count": null,
   "id": "10",
   "metadata": {},
   "outputs": [],
   "source": [
    "default_channels = (\"RFP-EM\", \"YFP-EM\", \"CFP-EM\")\n",
    "channel_to_color = {\"RFP-EM\": \"#e22400\", \"YFP-EM\": \"#faff00\", \"CFP-EM\": \"#00ffea\"}\n",
    "\n",
    "# \"BF\": \"#ffffff\",\n",
    "# \"RFP-PENTA\": \"#C500BB\",  # \"#FF5AF6\",\n",
    "# \"RFP-Penta\": \"#C500BB\",\n",
    "# # \"RFP-Penta\": \"#e22400\",\n",
    "# # \"YFP-DUAL\": \"#13FF00\",\n",
    "# \"YFP-DUAL\": \"#FAFF00\",\n",
    "# # \"GFP\": \"#76ba40\",\n",
    "# \"Cy5\": \"#e292fe\",\n",
    "# # \"Cy7\": \"#FF0000\"\n",
    "# # \"BFP\": \"#3a87fd\","
   ]
  },
  {
   "cell_type": "code",
   "execution_count": null,
   "id": "11",
   "metadata": {},
   "outputs": [],
   "source": [
    "font = ImageFont.truetype(\"fira/FiraSans-Medium.ttf\")"
   ]
  },
  {
   "cell_type": "code",
   "execution_count": null,
   "id": "12",
   "metadata": {},
   "outputs": [],
   "source": [
    "dask.config.set({\"distributed.scheduler.allowed-failures\": 10})"
   ]
  },
  {
   "cell_type": "code",
   "execution_count": null,
   "id": "13",
   "metadata": {},
   "outputs": [],
   "source": [
    "cluster = SLURMCluster(\n",
    "    queue=\"short\",\n",
    "    walltime=\"03:00:00\",\n",
    "    memory=\"16GB\",\n",
    "    local_directory=\"/tmp\",\n",
    "    log_directory=\"/home/jqs1/log\",\n",
    "    cores=2,\n",
    "    processes=2,\n",
    ")\n",
    "client = Client(cluster)"
   ]
  },
  {
   "cell_type": "code",
   "execution_count": null,
   "id": "14",
   "metadata": {},
   "outputs": [],
   "source": [
    "cluster"
   ]
  },
  {
   "cell_type": "code",
   "execution_count": null,
   "id": "15",
   "metadata": {
    "tags": []
   },
   "outputs": [],
   "source": [
    "cluster.scale(20)"
   ]
  },
  {
   "cell_type": "code",
   "execution_count": null,
   "id": "16",
   "metadata": {},
   "outputs": [],
   "source": [
    "cluster.adapt(maximum=10)"
   ]
  },
  {
   "cell_type": "markdown",
   "id": "17",
   "metadata": {
    "tags": []
   },
   "source": [
    "# Mosaic"
   ]
  },
  {
   "cell_type": "code",
   "execution_count": null,
   "id": "18",
   "metadata": {},
   "outputs": [],
   "source": [
    "%%time\n",
    "# extrema = mosaic.get_intensity_extrema(nd2, (\"YFP-DUAL\", \"RFP-Penta\"))"
   ]
  },
  {
   "cell_type": "code",
   "execution_count": null,
   "id": "19",
   "metadata": {},
   "outputs": [],
   "source": [
    "extrema"
   ]
  },
  {
   "cell_type": "code",
   "execution_count": null,
   "id": "20",
   "metadata": {},
   "outputs": [],
   "source": [
    "scaling_funcs = mosaic.get_scaling_funcs(\n",
    "    {\"RFP-EM\": (400, 2_000), \"YFP-EM\": (300, 4_000), \"CFP-EM\": (600, 1_500)}\n",
    ")"
   ]
  },
  {
   "cell_type": "code",
   "execution_count": null,
   "id": "21",
   "metadata": {},
   "outputs": [],
   "source": [
    "def positions_func(positions):\n",
    "    return positions.drop([\"x_idx\", \"y_idx\"], axis=1).join(\n",
    "        positions[\"position_name\"].apply(\n",
    "            lambda name: pd.Series(\n",
    "                [int(idx) for idx in name.split(\".\")], index=[\"y_idx\", \"x_idx\"]\n",
    "            )\n",
    "        )\n",
    "    )"
   ]
  },
  {
   "cell_type": "code",
   "execution_count": null,
   "id": "22",
   "metadata": {
    "tags": []
   },
   "outputs": [],
   "source": [
    "# dark = skimage.io.imread(\n",
    "#     \"/home/jqs1/scratch/jqs1/microscopy/221227daniel/40x_DarkImage.tiff\"\n",
    "# )\n",
    "# flats = {\n",
    "#     \"mCherry\": skimage.io.imread(\n",
    "#         \"/home/jqs1/scratch/jqs1/microscopy/221227daniel/mCherry_20x_Ph2_flatfield.tiff\"\n",
    "#     )\n",
    "# }"
   ]
  },
  {
   "cell_type": "code",
   "execution_count": null,
   "id": "23",
   "metadata": {},
   "outputs": [],
   "source": [
    "positions, input_dims = mosaic.get_nd2_metadata(nd2_filename)"
   ]
  },
  {
   "cell_type": "code",
   "execution_count": null,
   "id": "24",
   "metadata": {},
   "outputs": [],
   "source": [
    "min_zoom = 5\n",
    "max_zoom = 1\n",
    "\n",
    "num_t = nd2.sizes[\"t\"]\n",
    "# scale = np.concatenate(\n",
    "#     (\n",
    "#         np.repeat(min_zoom, 2 * num_t),\n",
    "#         np.geomspace(min_zoom, max_zoom, 2 * num_t),\n",
    "#         np.repeat(max_zoom, num_t // 2),\n",
    "#         np.geomspace(min_zoom, max_zoom, num_t)[::-1],\n",
    "#         np.repeat(min_zoom, num_t // 2),\n",
    "#     )\n",
    "# )\n",
    "# timepoints = it.cycle(np.repeat(np.arange(num_t), 2))\n",
    "scale = it.repeat(max_zoom)\n",
    "timepoints = [0]  # ,20,40,80,120,160,195]\n",
    "\n",
    "# timepoints = np.arange(num_t)"
   ]
  },
  {
   "cell_type": "code",
   "execution_count": null,
   "id": "25",
   "metadata": {},
   "outputs": [],
   "source": [
    "%%time\n",
    "distributed = False\n",
    "# if distributed:\n",
    "#     dark_delayed = client.scatter(dark, broadcast=True)\n",
    "#     flats_delayed = {k: client.scatter(v, broadcast=True) for k, v in flats.items()}\n",
    "# else:\n",
    "#     dark_delayed = dark\n",
    "#     flats_delayed = flats\n",
    "offset = (-1000, 870)\n",
    "output_dims = (3840, 2160)\n",
    "animation_delayed = mosaic.mosaic_animate_scale(\n",
    "    partial(workflow.get_nd2_frame, nd2_filename),\n",
    "    scale=scale,\n",
    "    timepoints=timepoints,\n",
    "    positions=positions,\n",
    "    scaling_funcs=scaling_funcs,\n",
    "    offset=offset,\n",
    "    # rotation=np.deg2rad(-0.15),  # TODO: necessary?\n",
    "    channels=default_channels,\n",
    "    channel_to_color=channel_to_color,\n",
    "    # overlay_only=True,\n",
    "    # overlay_func=partial(\n",
    "    #     mosaic.square_overlay,\n",
    "    #     min_scale=40,\n",
    "    #     min_n=0,\n",
    "    #     min_width=0.25,\n",
    "    #     max_scale=0.05,\n",
    "    #     max_n=7,\n",
    "    #     max_width=0.9,\n",
    "    #     n_range=(4, 8),\n",
    "    #     font=font,\n",
    "    # ),\n",
    "    # dark=dark_delayed,\n",
    "    # flats=flats_delayed,\n",
    "    # positions_func=positions_func,\n",
    "    input_dims=input_dims,\n",
    "    output_dims=output_dims,\n",
    "    # output_dims=(1024, 1024),\n",
    "    # output_dims=(1024, 512),\n",
    "    delayed=True,\n",
    ")"
   ]
  },
  {
   "cell_type": "code",
   "execution_count": null,
   "id": "26",
   "metadata": {},
   "outputs": [],
   "source": [
    "%%time\n",
    "a = dask.compute(animation_delayed, scheduler=\"sync\")[0]"
   ]
  },
  {
   "cell_type": "code",
   "execution_count": null,
   "id": "27",
   "metadata": {},
   "outputs": [],
   "source": [
    "display_image(a[0], downsample=4)"
   ]
  },
  {
   "cell_type": "code",
   "execution_count": null,
   "id": "28",
   "metadata": {},
   "outputs": [],
   "source": [
    "display_image(a[0], downsample=4)"
   ]
  },
  {
   "cell_type": "code",
   "execution_count": null,
   "id": "29",
   "metadata": {
    "tags": []
   },
   "outputs": [],
   "source": [
    "display_image(a[0], downsample=4)"
   ]
  },
  {
   "cell_type": "code",
   "execution_count": null,
   "id": "30",
   "metadata": {
    "tags": []
   },
   "outputs": [],
   "source": [
    "display_image(a[0], downsample=4)"
   ]
  },
  {
   "cell_type": "code",
   "execution_count": null,
   "id": "31",
   "metadata": {
    "tags": []
   },
   "outputs": [],
   "source": [
    "display_image(a[0], downsample=4)"
   ]
  },
  {
   "cell_type": "code",
   "execution_count": null,
   "id": "32",
   "metadata": {},
   "outputs": [],
   "source": [
    "# video_dir = Path(\"/home/jqs1/scratch/jqs1/microscopy/220718/mosaics/\")\n",
    "video_dir = Path(\"/home/jqs1/scratch/jqs1/microscopy/230619/\")\n",
    "video_dir.mkdir(exist_ok=True)"
   ]
  },
  {
   "cell_type": "code",
   "execution_count": null,
   "id": "33",
   "metadata": {},
   "outputs": [],
   "source": [
    "zarr_filename = video_dir / \"230619_crop.zarr\""
   ]
  },
  {
   "cell_type": "code",
   "execution_count": null,
   "id": "34",
   "metadata": {},
   "outputs": [],
   "source": [
    "out = zarr.open_array(zarr_filename, mode=\"r\")"
   ]
  },
  {
   "cell_type": "code",
   "execution_count": null,
   "id": "35",
   "metadata": {},
   "outputs": [],
   "source": [
    "%%time\n",
    "animation_future = [\n",
    "    client.compute(\n",
    "        dask.delayed(mosaic.write_to_zarr)(\n",
    "            zarr_filename, frame, frame_num, len(animation_delayed)\n",
    "        )\n",
    "    )\n",
    "    for frame_num, frame in enumerate(tqdm(animation_delayed))\n",
    "]"
   ]
  },
  {
   "cell_type": "code",
   "execution_count": null,
   "id": "36",
   "metadata": {},
   "outputs": [],
   "source": [
    "display_image(out[700], downsample=1)"
   ]
  },
  {
   "cell_type": "code",
   "execution_count": null,
   "id": "37",
   "metadata": {},
   "outputs": [],
   "source": [
    "%%time\n",
    "# animation_future = client.compute(animation_delayed)\n",
    "animation_future = [client.compute(frame) for frame in tqdm(animation_delayed)]"
   ]
  },
  {
   "cell_type": "code",
   "execution_count": null,
   "id": "38",
   "metadata": {},
   "outputs": [],
   "source": [
    "%%time\n",
    "a = client.gather(animation_future)"
   ]
  },
  {
   "cell_type": "code",
   "execution_count": null,
   "id": "39",
   "metadata": {},
   "outputs": [],
   "source": [
    "%%time\n",
    "mosaic.export_video(\n",
    "    # a,\n",
    "    # animation_future,\n",
    "    out,\n",
    "    video_dir / \"230619_crop.mp4\",\n",
    "    fps=30,\n",
    ")"
   ]
  },
  {
   "cell_type": "code",
   "execution_count": null,
   "id": "40",
   "metadata": {
    "tags": []
   },
   "outputs": [],
   "source": [
    "client.restart();"
   ]
  },
  {
   "cell_type": "code",
   "execution_count": null,
   "id": "41",
   "metadata": {},
   "outputs": [],
   "source": [
    "Video(\n",
    "    video_dir / \"230426zoom_v2_overlay.mp4\",\n",
    "    embed=True,\n",
    ")"
   ]
  }
 ],
 "metadata": {
  "kernelspec": {
   "display_name": "Python 3 (ipykernel)",
   "language": "python",
   "name": "python3"
  },
  "language_info": {
   "codemirror_mode": {
    "name": "ipython",
    "version": 3
   },
   "file_extension": ".py",
   "mimetype": "text/x-python",
   "name": "python",
   "nbconvert_exporter": "python",
   "pygments_lexer": "ipython3",
   "version": "3.11.4"
  }
 },
 "nbformat": 4,
 "nbformat_minor": 4
}
