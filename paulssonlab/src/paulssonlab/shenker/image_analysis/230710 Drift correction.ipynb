{
 "cells": [
  {
   "cell_type": "markdown",
   "id": "0",
   "metadata": {
    "tags": []
   },
   "source": [
    "# Imports"
   ]
  },
  {
   "cell_type": "code",
   "execution_count": null,
   "id": "1",
   "metadata": {},
   "outputs": [],
   "source": [
    "import itertools as it\n",
    "import os\n",
    "import re\n",
    "from collections import namedtuple\n",
    "from functools import partial\n",
    "from pathlib import Path\n",
    "\n",
    "import dask\n",
    "import distributed\n",
    "import h5py\n",
    "import holoviews as hv\n",
    "import matplotlib.pyplot as plt\n",
    "import nd2reader\n",
    "import numpy as np\n",
    "import pandas as pd\n",
    "import pyarrow as pa\n",
    "import pyarrow.parquet as pq\n",
    "import scipy\n",
    "import skimage.measure\n",
    "import zarr\n",
    "from dask import delayed\n",
    "from dask_jobqueue import SLURMCluster\n",
    "from distributed import Client, LocalCluster, progress\n",
    "from holoviews.operation.datashader import regrid\n",
    "from tqdm.auto import tqdm, trange\n",
    "\n",
    "IDX = pd.IndexSlice"
   ]
  },
  {
   "cell_type": "code",
   "execution_count": null,
   "id": "2",
   "metadata": {},
   "outputs": [],
   "source": [
    "%load_ext autoreload\n",
    "%autoreload 2"
   ]
  },
  {
   "cell_type": "code",
   "execution_count": null,
   "id": "3",
   "metadata": {},
   "outputs": [],
   "source": [
    "from paulssonlab.image_analysis import *\n",
    "from paulssonlab.image_analysis.ui import display_image"
   ]
  },
  {
   "cell_type": "code",
   "execution_count": null,
   "id": "4",
   "metadata": {},
   "outputs": [],
   "source": [
    "%load_ext pyinstrument"
   ]
  },
  {
   "cell_type": "code",
   "execution_count": null,
   "id": "5",
   "metadata": {},
   "outputs": [],
   "source": [
    "hv.extension(\"bokeh\")"
   ]
  },
  {
   "cell_type": "markdown",
   "id": "6",
   "metadata": {},
   "source": [
    "# Config"
   ]
  },
  {
   "cell_type": "code",
   "execution_count": null,
   "id": "7",
   "metadata": {},
   "outputs": [],
   "source": [
    "cluster = SLURMCluster(\n",
    "    queue=\"short\",\n",
    "    walltime=\"06:00:00\",\n",
    "    memory=\"2GB\",\n",
    "    local_directory=\"/tmp\",\n",
    "    log_directory=\"/home/jqs1/log\",\n",
    "    cores=1,\n",
    "    processes=1,\n",
    ")\n",
    "client = Client(cluster)"
   ]
  },
  {
   "cell_type": "code",
   "execution_count": null,
   "id": "8",
   "metadata": {},
   "outputs": [],
   "source": [
    "cluster"
   ]
  },
  {
   "cell_type": "code",
   "execution_count": null,
   "id": "9",
   "metadata": {},
   "outputs": [],
   "source": [
    "cluster.scale(1)"
   ]
  },
  {
   "cell_type": "code",
   "execution_count": null,
   "id": "10",
   "metadata": {},
   "outputs": [],
   "source": [
    "cluster.adapt(maximum=20)"
   ]
  },
  {
   "cell_type": "markdown",
   "id": "11",
   "metadata": {},
   "source": [
    "# Trench detection"
   ]
  },
  {
   "cell_type": "code",
   "execution_count": null,
   "id": "12",
   "metadata": {},
   "outputs": [],
   "source": [
    "# filename = \"/home/jqs1/scratch/jqs1/microscopy/210511/RBS_ramp.nd2\"\n",
    "# filename = \"/home/jqs1/scratch/jqs1/microscopy/230213/230213induction.nd2\"\n",
    "# filename = \"/home/jqs1/scratch/jqs1/microscopy/230215/230215induction.nd2\" #v=7\n",
    "# filename = \"/home/jqs1/scratch/jqs1/microscopy/230326/230326promrbs.nd2\" #v=8,t=10\n",
    "filename = \"/home/jqs1/scratch/jqs1/microscopy/230404/230404_rbsprom.nd2\""
   ]
  },
  {
   "cell_type": "code",
   "execution_count": null,
   "id": "13",
   "metadata": {},
   "outputs": [],
   "source": [
    "nd2 = nd2reader.ND2Reader(filename)"
   ]
  },
  {
   "cell_type": "markdown",
   "id": "14",
   "metadata": {},
   "source": [
    "# FISH correction"
   ]
  },
  {
   "cell_type": "code",
   "execution_count": null,
   "id": "15",
   "metadata": {
    "tags": []
   },
   "outputs": [],
   "source": [
    "# filename = \"/home/jqs1/scratch/jqs1/microscopy/230213/230213induction.nd2\"\n",
    "# filename = \"/home/jqs1/scratch/jqs1/microscopy/230215/230215induction.nd2\" #v=7\n",
    "# filename = \"/home/jqs1/scratch/jqs1/microscopy/230326/230326promrbs.nd2\" #v=8,t=10\n",
    "filename = \"/home/jqs1/scratch/jqs1/microscopy/230404/230404_rbsprom.nd2\"\n",
    "fish_filename = Path(filename).parent / \"FISH/real_run\""
   ]
  },
  {
   "cell_type": "code",
   "execution_count": null,
   "id": "16",
   "metadata": {
    "tags": []
   },
   "outputs": [],
   "source": [
    "k1 = 8.947368421052635e-10"
   ]
  },
  {
   "cell_type": "code",
   "execution_count": null,
   "id": "17",
   "metadata": {
    "tags": []
   },
   "outputs": [],
   "source": [
    "def calibrate_image(img, k1=0):\n",
    "    img = skimage.img_as_float32(img)\n",
    "    img = image.correct_radial_distortion(img, k1=k1)\n",
    "    return img"
   ]
  },
  {
   "cell_type": "code",
   "execution_count": null,
   "id": "18",
   "metadata": {
    "tags": []
   },
   "outputs": [],
   "source": [
    "%%time\n",
    "delayed = util.get_delayed(True)\n",
    "fish_frames = {}\n",
    "fish_crops = {}\n",
    "fish_channels = set()\n",
    "fish_timepoints = set()\n",
    "for msg in readers.send_eaton_fish(\n",
    "    fish_filename,\n",
    "    r\"fov=(?P<v>\\d+)_config=(?P<c>\\w+)_t=(?P<t>\\d+)\",\n",
    "    slices=dict(t=None, v=[8]),\n",
    "    delayed=delayed,\n",
    "):\n",
    "    # print(msg[\"metadata\"],msg[\"image\"].shape)\n",
    "    fish_img = msg[\"image\"]\n",
    "    # fish_img_corrected = delayed(calibrate_image)(fish_img, k1=k1)\n",
    "    fish_img_corrected = delayed(skimage.img_as_float32)(fish_img)\n",
    "    t = msg[\"metadata\"][\"t\"]\n",
    "    channel = msg[\"metadata\"][\"channel\"]\n",
    "    fish_channels.add(channel)\n",
    "    fish_timepoints.add(t)\n",
    "    fish_frames[(t, channel)] = fish_img_corrected\n",
    "fish_channels = list(sorted(fish_channels))\n",
    "fish_timepoints = list(sorted(fish_timepoints))"
   ]
  },
  {
   "cell_type": "code",
   "execution_count": null,
   "id": "19",
   "metadata": {
    "tags": []
   },
   "outputs": [],
   "source": [
    "fish_frames0 = dask.compute(fish_frames)[0]"
   ]
  },
  {
   "cell_type": "code",
   "execution_count": null,
   "id": "20",
   "metadata": {
    "tags": []
   },
   "outputs": [],
   "source": [
    "%%time\n",
    "stacks = {}\n",
    "for channel in fish_channels:\n",
    "    for timepoint_idx, timepoint in enumerate(fish_timepoints):\n",
    "        img = fish_frames0[(timepoint, channel)]\n",
    "        if channel not in stacks:\n",
    "            stacks[channel] = np.full((len(fish_timepoints), *img.shape), np.nan)\n",
    "        stacks[channel][timepoint_idx, :, :] = img"
   ]
  },
  {
   "cell_type": "code",
   "execution_count": null,
   "id": "21",
   "metadata": {
    "tags": []
   },
   "outputs": [],
   "source": [
    "stacks[\"GFP\"].shape"
   ]
  },
  {
   "cell_type": "code",
   "execution_count": null,
   "id": "22",
   "metadata": {
    "tags": []
   },
   "outputs": [],
   "source": [
    "stacks[\"GFP\"][3:9].max(axis=0)"
   ]
  },
  {
   "cell_type": "code",
   "execution_count": null,
   "id": "23",
   "metadata": {
    "tags": []
   },
   "outputs": [],
   "source": [
    "stacks[\"GFP\"][3:9].max(axis=0)"
   ]
  },
  {
   "cell_type": "code",
   "execution_count": null,
   "id": "24",
   "metadata": {
    "tags": []
   },
   "outputs": [],
   "source": [
    "display_image(stacks[\"GFP\"][3:9].max(axis=0), scale=0.99)"
   ]
  },
  {
   "cell_type": "code",
   "execution_count": null,
   "id": "25",
   "metadata": {
    "tags": []
   },
   "outputs": [],
   "source": [
    "display_image(stacks[\"GFP\"][3:9].min(axis=0), scale=0.99)"
   ]
  },
  {
   "cell_type": "code",
   "execution_count": null,
   "id": "26",
   "metadata": {
    "tags": []
   },
   "outputs": [],
   "source": [
    "display_image(\n",
    "    stacks[\"GFP\"][3:9].max(axis=0) - stacks[\"GFP\"][3:9].min(axis=0), scale=0.99\n",
    ")"
   ]
  },
  {
   "cell_type": "code",
   "execution_count": null,
   "id": "27",
   "metadata": {
    "tags": []
   },
   "outputs": [],
   "source": [
    "display_image(stacks[\"GFP\"][:9].max(axis=0) - stacks[\"GFP\"][:9].min(axis=0), scale=0.99)"
   ]
  },
  {
   "cell_type": "code",
   "execution_count": null,
   "id": "28",
   "metadata": {
    "tags": []
   },
   "outputs": [],
   "source": [
    "info"
   ]
  },
  {
   "cell_type": "markdown",
   "id": "29",
   "metadata": {},
   "source": [
    "# Drift correction"
   ]
  },
  {
   "cell_type": "code",
   "execution_count": null,
   "id": "30",
   "metadata": {
    "tags": []
   },
   "outputs": [],
   "source": [
    "imgs = {t: nd2.get_frame_2D(v=8, c=0, t=t)[:500, :500] for t in trange(225)}"
   ]
  },
  {
   "cell_type": "code",
   "execution_count": null,
   "id": "31",
   "metadata": {
    "tags": []
   },
   "outputs": [],
   "source": [
    "hv.HoloMap({k: ui.RevImage(v) for k, v in imgs.items()})"
   ]
  },
  {
   "cell_type": "code",
   "execution_count": null,
   "id": "32",
   "metadata": {
    "tags": []
   },
   "outputs": [],
   "source": [
    "%%time\n",
    "diag = util.tree()\n",
    "trenches, info = trench_detection.find_trenches(\n",
    "    imgs[0], width_to_pitch_ratio=1.4 / 3.5, join_info=False, diagnostics=diag\n",
    ")"
   ]
  },
  {
   "cell_type": "code",
   "execution_count": null,
   "id": "33",
   "metadata": {
    "tags": []
   },
   "outputs": [],
   "source": [
    "diag[\"bboxes\"]"
   ]
  },
  {
   "cell_type": "code",
   "execution_count": null,
   "id": "34",
   "metadata": {
    "tags": []
   },
   "outputs": [],
   "source": [
    "%%time\n",
    "diag2 = util.tree()\n",
    "trenches2, info2 = trench_detection.find_trenches(\n",
    "    imgs[20], width_to_pitch_ratio=1.4 / 3.5, join_info=False, diagnostics=diag2\n",
    ")"
   ]
  },
  {
   "cell_type": "code",
   "execution_count": null,
   "id": "35",
   "metadata": {
    "tags": []
   },
   "outputs": [],
   "source": [
    "diag2[\"bboxes\"]"
   ]
  },
  {
   "cell_type": "code",
   "execution_count": null,
   "id": "36",
   "metadata": {
    "tags": []
   },
   "outputs": [],
   "source": [
    "%%time\n",
    "diag3 = util.tree()\n",
    "trenches3, info3 = trench_detection.find_trenches(\n",
    "    imgs[210], width_to_pitch_ratio=1.4 / 3.5, join_info=False, diagnostics=diag3\n",
    ")"
   ]
  },
  {
   "cell_type": "code",
   "execution_count": null,
   "id": "37",
   "metadata": {
    "tags": []
   },
   "outputs": [],
   "source": [
    "diag3[\"bboxes\"]"
   ]
  },
  {
   "cell_type": "code",
   "execution_count": null,
   "id": "38",
   "metadata": {
    "tags": []
   },
   "outputs": [],
   "source": [
    "ui.RevImage(imgs[210]) * trench_detection.plot_trenches(trenches2)"
   ]
  },
  {
   "cell_type": "code",
   "execution_count": null,
   "id": "39",
   "metadata": {
    "tags": []
   },
   "outputs": [],
   "source": [
    "ui.RevImage(imgs[210]) * trench_detection.plot_trenches(trenches)"
   ]
  },
  {
   "cell_type": "code",
   "execution_count": null,
   "id": "40",
   "metadata": {
    "tags": []
   },
   "outputs": [],
   "source": [
    "trench_detection.plot_trenches(trenches2).opts(\n",
    "    hv.opts.Rectangles(line_color=\"blue\")\n",
    ") * trench_detection.plot_trenches(trenches3)"
   ]
  },
  {
   "cell_type": "code",
   "execution_count": null,
   "id": "41",
   "metadata": {
    "tags": []
   },
   "outputs": [],
   "source": [
    "plots = {}\n",
    "t_min = 70\n",
    "t_delta = 50\n",
    "for t in range(t_min, t_min + t_delta + 1, 3):\n",
    "    # for t in [t_min, t_min+t_delta+1]:\n",
    "    crop = get_crop(imgs[t], trenches2, 12)\n",
    "    pts = trench_cell_endpoints(crop)\n",
    "    plots[t] = ui.RevImage(crop).opts(frame_width=40) * hv.Points(pts + 0.5).opts(\n",
    "        color=\"red\", size=4\n",
    "    )\n",
    "hv.HoloMap(plots)"
   ]
  },
  {
   "cell_type": "code",
   "execution_count": null,
   "id": "42",
   "metadata": {},
   "outputs": [],
   "source": [
    "# idx=59\n",
    "idx = 100\n",
    "crop = get_crop(imgs[idx], trenches2, 12)\n",
    "pts = trench_cell_endpoints(crop)\n",
    "ui.RevImage(crop).opts(frame_width=40) * hv.Points(pts + 0.5).opts(color=\"red\", size=4)\n",
    "# hv.Points(pts)"
   ]
  },
  {
   "cell_type": "code",
   "execution_count": null,
   "id": "43",
   "metadata": {
    "tags": []
   },
   "outputs": [],
   "source": [
    "%%time\n",
    "diag_d = util.tree()\n",
    "shift = find_trench_drift(imgs[20], imgs[101], trenches, diagnostics=diag_d)"
   ]
  },
  {
   "cell_type": "code",
   "execution_count": null,
   "id": "44",
   "metadata": {
    "tags": []
   },
   "outputs": [],
   "source": [
    "diag_d[\"features1\"] * diag_d[\"features2\"].opts(color=\"red\")"
   ]
  },
  {
   "cell_type": "code",
   "execution_count": null,
   "id": "45",
   "metadata": {},
   "outputs": [],
   "source": [
    "diag_d[\"correspondences\"]"
   ]
  },
  {
   "cell_type": "code",
   "execution_count": null,
   "id": "46",
   "metadata": {
    "tags": []
   },
   "outputs": [],
   "source": [
    "plots = {}\n",
    "for t in trange(225):\n",
    "    crop = get_crop(imgs[t], trenches2, 5)\n",
    "    pts = trench_cell_endpoints(crop)\n",
    "    # plots[t] = ui.RevImage(crop).opts(frame_width=40) * hv.Points(pts + 0.5).opts(\n",
    "    #     color=\"red\", size=4\n",
    "    # )\n",
    "    plots[t] = hv.Curve([(0, t), (2, 4)])"
   ]
  },
  {
   "cell_type": "code",
   "execution_count": null,
   "id": "47",
   "metadata": {
    "tags": []
   },
   "outputs": [],
   "source": [
    "plots = {}\n",
    "for t in trange(225):\n",
    "    crop = get_crop(imgs[t], trenches2, 5)\n",
    "    pts = trench_cell_endpoints(crop)\n",
    "    plots[t] = ui.RevImage(crop).opts(frame_width=40) * hv.Points(pts + 0.5).opts(\n",
    "        color=\"red\", size=4\n",
    "    )"
   ]
  },
  {
   "cell_type": "code",
   "execution_count": null,
   "id": "48",
   "metadata": {},
   "outputs": [],
   "source": [
    "%%time\n",
    "k1 = 8.947368421052635e-10\n",
    "img1 = image.correct_radial_distortion(nd2.get_frame_2D(v=8, t=70, c=0), k1=k1)\n",
    "img2 = image.correct_radial_distortion(nd2.get_frame_2D(v=8, t=110, c=0), k1=k1)"
   ]
  },
  {
   "cell_type": "code",
   "execution_count": null,
   "id": "49",
   "metadata": {},
   "outputs": [],
   "source": [
    "%%time\n",
    "trenches = trench_detection.find_trenches(img1, width_to_pitch_ratio=2 / 3.5)"
   ]
  },
  {
   "cell_type": "code",
   "execution_count": null,
   "id": "50",
   "metadata": {},
   "outputs": [],
   "source": [
    "regrid(\n",
    "    hv.HoloMap({t: ui.RevImage(x) for t, x in enumerate([img1, img2])})\n",
    ") * hv.HoloMap({t: trench_detection.plot_trenches(trenches) for t in range(2)})"
   ]
  },
  {
   "cell_type": "code",
   "execution_count": null,
   "id": "51",
   "metadata": {},
   "outputs": [],
   "source": [
    "%%time\n",
    "diag_d = util.tree()\n",
    "shift = find_trench_drift(img1, img2, trenches, diagnostics=diag_d)"
   ]
  },
  {
   "cell_type": "code",
   "execution_count": null,
   "id": "52",
   "metadata": {
    "tags": []
   },
   "outputs": [],
   "source": [
    "len(trenches)"
   ]
  },
  {
   "cell_type": "code",
   "execution_count": null,
   "id": "53",
   "metadata": {
    "tags": []
   },
   "outputs": [],
   "source": [
    "diag_d[\"features\"]"
   ]
  },
  {
   "cell_type": "markdown",
   "id": "54",
   "metadata": {},
   "source": [
    "# Drift correction test"
   ]
  },
  {
   "cell_type": "code",
   "execution_count": null,
   "id": "55",
   "metadata": {},
   "outputs": [],
   "source": [
    "k1 = 8.947368421052635e-10\n",
    "imgs = {\n",
    "    t: image.correct_radial_distortion(nd2.get_frame_2D(v=8, c=0, t=t), k1=k1)[\n",
    "        :500, :500\n",
    "    ]\n",
    "    for t in trange(225)\n",
    "}"
   ]
  },
  {
   "cell_type": "code",
   "execution_count": null,
   "id": "56",
   "metadata": {
    "tags": []
   },
   "outputs": [],
   "source": [
    "imgs = {t: nd2.get_frame_2D(v=8, c=0, t=t)[:500, :500] for t in trange(22)}"
   ]
  },
  {
   "cell_type": "code",
   "execution_count": null,
   "id": "57",
   "metadata": {
    "tags": []
   },
   "outputs": [],
   "source": [
    "img_x = imgs[20].copy()\n",
    "y = 167\n",
    "x = 476\n",
    "img_x[y, x] = 20_000\n",
    "img_x[y + 1, x] = 0\n",
    "img_x[y - 1, x] = 0\n",
    "img_x[y, x - 1] = 0\n",
    "img_x[y, x + 1] = 0"
   ]
  },
  {
   "cell_type": "code",
   "execution_count": null,
   "id": "58",
   "metadata": {
    "tags": []
   },
   "outputs": [],
   "source": [
    "%%time\n",
    "diag = util.tree()\n",
    "trenches, info = trench_detection.find_trenches(\n",
    "    imgs[20],\n",
    "    angle=np.deg2rad(50),\n",
    "    pitch=16.482897384305836,\n",
    "    width_to_pitch_ratio=1.4 / 3.5,\n",
    "    join_info=False,\n",
    "    diagnostics=diag,\n",
    ")"
   ]
  },
  {
   "cell_type": "code",
   "execution_count": null,
   "id": "59",
   "metadata": {
    "tags": []
   },
   "outputs": [],
   "source": [
    "diag[\"labeling\"][\"set_finding\"][\"image_with_lines\"]"
   ]
  },
  {
   "cell_type": "code",
   "execution_count": null,
   "id": "60",
   "metadata": {
    "tags": []
   },
   "outputs": [],
   "source": [
    "info"
   ]
  },
  {
   "cell_type": "code",
   "execution_count": null,
   "id": "61",
   "metadata": {
    "tags": []
   },
   "outputs": [],
   "source": [
    "diag[\"labeling\"][\"set_finding\"].keys()"
   ]
  },
  {
   "cell_type": "code",
   "execution_count": null,
   "id": "62",
   "metadata": {
    "tags": []
   },
   "outputs": [],
   "source": [
    "diag[\"labeling\"][\"set_finding\"][\"profiles\"].Curve.XXX"
   ]
  },
  {
   "cell_type": "code",
   "execution_count": null,
   "id": "63",
   "metadata": {
    "tags": []
   },
   "outputs": [],
   "source": [
    "diag[\"labeling\"][\"set_finding\"][\"stacked_profile\"]"
   ]
  },
  {
   "cell_type": "code",
   "execution_count": null,
   "id": "64",
   "metadata": {
    "tags": []
   },
   "outputs": [],
   "source": [
    "diag[\"bboxes\"]"
   ]
  },
  {
   "cell_type": "code",
   "execution_count": null,
   "id": "65",
   "metadata": {
    "tags": []
   },
   "outputs": [],
   "source": [
    "diag[\"label_1\"][\"find_trench_ends\"].keys()"
   ]
  },
  {
   "cell_type": "code",
   "execution_count": null,
   "id": "66",
   "metadata": {},
   "outputs": [],
   "source": [
    "diag[\"label_1\"][\"find_trench_ends\"][\""
   ]
  },
  {
   "cell_type": "code",
   "execution_count": null,
   "id": "67",
   "metadata": {
    "tags": []
   },
   "outputs": [],
   "source": [
    "x = np.random.random((500, 500)) + np.arange(500)[:, np.newaxis] / 100\n",
    "x = (\n",
    "    np.arange(500)[np.newaxis, :] * np.ones(500)[:, np.newaxis]\n",
    ")  # * np.random.random((500,500))# / 100"
   ]
  },
  {
   "cell_type": "code",
   "execution_count": null,
   "id": "68",
   "metadata": {
    "tags": []
   },
   "outputs": [],
   "source": [
    "plt.figure(figsize=(20, 20))\n",
    "plt.imshow(geometry.get_roi_crop(x == 467, trenches, 29)[:, :])"
   ]
  },
  {
   "cell_type": "code",
   "execution_count": null,
   "id": "69",
   "metadata": {
    "tags": []
   },
   "outputs": [],
   "source": [
    "ui.RevImage(x == 467) * trench_detection.plot_trenches(\n",
    "    trenches, lines=True, labels=True\n",
    ")"
   ]
  },
  {
   "cell_type": "code",
   "execution_count": null,
   "id": "70",
   "metadata": {
    "tags": []
   },
   "outputs": [],
   "source": [
    "ui.RevImage(imgs[20]) * trench_detection.plot_trenches(trenches, lines=True)"
   ]
  },
  {
   "cell_type": "code",
   "execution_count": null,
   "id": "71",
   "metadata": {
    "tags": []
   },
   "outputs": [],
   "source": [
    "plt.figure(figsize=(20, 20))\n",
    "plt.imshow(geometry.get_roi_crop(imgs[20], trenches, 29)[160:].T)"
   ]
  },
  {
   "cell_type": "code",
   "execution_count": null,
   "id": "72",
   "metadata": {
    "tags": []
   },
   "outputs": [],
   "source": [
    "image_limits = geometry.get_image_limits(imgs[0].shape)"
   ]
  },
  {
   "cell_type": "code",
   "execution_count": null,
   "id": "73",
   "metadata": {
    "tags": []
   },
   "outputs": [],
   "source": [
    "def median_translation(data, diagnostics=None, **kwargs):\n",
    "    # plt.hist(data[:, 1, 0] - data[:, 0, 0], bins=10);\n",
    "    median = np.median(data[:, 1, :] - data[:, 0, :], axis=0)\n",
    "    return np.array([median[0], 0])"
   ]
  },
  {
   "cell_type": "code",
   "execution_count": null,
   "id": "74",
   "metadata": {
    "tags": []
   },
   "outputs": [],
   "source": [
    "def mock_features(img):\n",
    "    # print(img.shape);0/0\n",
    "    return np.array([[img.shape[1] / 2, 5], [img.shape[1] / 2, img.shape[0] - 5]])"
   ]
  },
  {
   "cell_type": "code",
   "execution_count": null,
   "id": "75",
   "metadata": {
    "tags": []
   },
   "outputs": [],
   "source": [
    "rois = trenches[(trenches[\"trench_set\"] == 2) & (trenches[\"top_x\"] < 100)][2:3]\n",
    "t0 = 20\n",
    "t1 = 225\n",
    "# ts = np.arange(t0 + 1, t1)\n",
    "# ts = [160,183]\n",
    "ts = [21]\n",
    "shifts = {}\n",
    "shifts[t0] = np.array([0, 0])\n",
    "# shifts[t0] = np.array([0, 0])\n",
    "correspondences = {}\n",
    "features = {}\n",
    "for t in tqdm(ts):\n",
    "    diag = {}\n",
    "    # shift = drift.find_feature_drift(\n",
    "    #     imgs[t - 1],\n",
    "    #     imgs[t],\n",
    "    #     trenches,\n",
    "    #     initial_shift=shifts[t - 1],\n",
    "    #     estimation_func=median_translation,\n",
    "    #     max_iterations=3,\n",
    "    #     diagnostics=diag,\n",
    "    # )\n",
    "    # if t > 180:\n",
    "    #     f = drift.trench_cell_endpoints\n",
    "    # else:\n",
    "    #     f = mock_features\n",
    "    shift = drift.find_feature_drift(\n",
    "        imgs[t0],\n",
    "        imgs[t],\n",
    "        rois,\n",
    "        initial_shift=shifts[t0],\n",
    "        # feature_func=mock_features,\n",
    "        estimation_func=median_translation,\n",
    "        max_iterations=1,\n",
    "        diagnostics=diag,\n",
    "    )\n",
    "    shifts[t] = shift\n",
    "    # correspondences[t] = diag[\"correspondences\"]\n",
    "    features[t] = diag[\"features2\"]"
   ]
  },
  {
   "cell_type": "code",
   "execution_count": null,
   "id": "76",
   "metadata": {
    "tags": []
   },
   "outputs": [],
   "source": [
    "drift.trench_cell_endpoints(x)"
   ]
  },
  {
   "cell_type": "code",
   "execution_count": null,
   "id": "77",
   "metadata": {
    "tags": []
   },
   "outputs": [],
   "source": [
    "x.shape"
   ]
  },
  {
   "cell_type": "code",
   "execution_count": null,
   "id": "78",
   "metadata": {
    "tags": []
   },
   "outputs": [],
   "source": [
    "x = geometry.get_roi_crop(imgs[20], trenches, 33)"
   ]
  },
  {
   "cell_type": "code",
   "execution_count": null,
   "id": "79",
   "metadata": {
    "tags": []
   },
   "outputs": [],
   "source": [
    "x.shape"
   ]
  },
  {
   "cell_type": "code",
   "execution_count": null,
   "id": "80",
   "metadata": {
    "tags": []
   },
   "outputs": [],
   "source": [
    "rois"
   ]
  },
  {
   "cell_type": "code",
   "execution_count": null,
   "id": "81",
   "metadata": {
    "tags": []
   },
   "outputs": [],
   "source": [
    "hv.HoloMap({t: ui.RevImage(imgs[t]) for t in ts}) * hv.HoloMap(\n",
    "    {\n",
    "        t: trench_detection.plot_trenches(\n",
    "            geometry.filter_rois(geometry.shift_rois(trenches, shifts[t]), image_limits)\n",
    "        )\n",
    "        for t in ts\n",
    "    },\n",
    ") * hv.HoloMap({t: features[t] for t in ts}).opts(color=\"red\")"
   ]
  },
  {
   "cell_type": "code",
   "execution_count": null,
   "id": "82",
   "metadata": {
    "tags": []
   },
   "outputs": [],
   "source": [
    "shifts"
   ]
  },
  {
   "cell_type": "code",
   "execution_count": null,
   "id": "83",
   "metadata": {
    "tags": []
   },
   "outputs": [],
   "source": [
    "ui.RevImage(nd2.get_frame_2D(v=0, t=0, c=1)[::4, ::4])"
   ]
  },
  {
   "cell_type": "code",
   "execution_count": null,
   "id": "84",
   "metadata": {
    "tags": []
   },
   "outputs": [],
   "source": [
    "display_image(nd2.get_frame_2D(v=0, t=0, c=1), scale=0.99, downsample=2)"
   ]
  },
  {
   "cell_type": "code",
   "execution_count": null,
   "id": "85",
   "metadata": {
    "tags": []
   },
   "outputs": [],
   "source": [
    "trenches"
   ]
  },
  {
   "cell_type": "markdown",
   "id": "86",
   "metadata": {},
   "source": [
    "# RevImage fix"
   ]
  },
  {
   "cell_type": "code",
   "execution_count": null,
   "id": "87",
   "metadata": {
    "tags": []
   },
   "outputs": [],
   "source": [
    "x = nd2reader.ND2Reader(\"/home/jqs1/scratch/jqs1/microscopy/230213/230213induction.nd2\")"
   ]
  },
  {
   "cell_type": "code",
   "execution_count": null,
   "id": "88",
   "metadata": {
    "tags": []
   },
   "outputs": [],
   "source": [
    "x.metadata[\"channels\"]"
   ]
  },
  {
   "cell_type": "code",
   "execution_count": null,
   "id": "89",
   "metadata": {},
   "outputs": [],
   "source": [
    "z = x.get_frame_2D(t=0, v=0, c=0)"
   ]
  },
  {
   "cell_type": "code",
   "execution_count": null,
   "id": "90",
   "metadata": {
    "tags": []
   },
   "outputs": [],
   "source": [
    "display_image(z, downsample=4, scale=0.99)"
   ]
  },
  {
   "cell_type": "code",
   "execution_count": null,
   "id": "91",
   "metadata": {
    "tags": []
   },
   "outputs": [],
   "source": [
    "zz = z[::4, ::4]"
   ]
  },
  {
   "cell_type": "code",
   "execution_count": null,
   "id": "92",
   "metadata": {
    "tags": []
   },
   "outputs": [],
   "source": [
    "zz.shape[0]"
   ]
  },
  {
   "cell_type": "code",
   "execution_count": null,
   "id": "93",
   "metadata": {
    "tags": []
   },
   "outputs": [],
   "source": [
    "hv.Image(zz, bounds=(0, 0, zz.shape[1], zz.shape[0])).opts(\n",
    "    aspect=zz.shape[1] / zz.shape[0]\n",
    ")"
   ]
  },
  {
   "cell_type": "code",
   "execution_count": null,
   "id": "94",
   "metadata": {
    "tags": []
   },
   "outputs": [],
   "source": [
    "hv.Image(zz, bounds=(0, zz.shape[0], zz.shape[1], 0)).opts(\n",
    "    aspect=zz.shape[1] / zz.shape[0]\n",
    ")"
   ]
  },
  {
   "cell_type": "code",
   "execution_count": null,
   "id": "95",
   "metadata": {
    "tags": []
   },
   "outputs": [],
   "source": [
    "hv.Image(zz, bounds=(0, zz.shape[0], zz.shape[1], 0)).opts(\n",
    "    aspect=zz.shape[1] / zz.shape[0],\n",
    "    invert_yaxis=True,\n",
    ")"
   ]
  },
  {
   "cell_type": "code",
   "execution_count": null,
   "id": "96",
   "metadata": {
    "tags": []
   },
   "outputs": [],
   "source": [
    "hv.Image(zz, bounds=(0, 0, zz.shape[1], zz.shape[0])).opts(\n",
    "    aspect=zz.shape[1] / zz.shape[0],\n",
    "    invert_yaxis=True,\n",
    ")"
   ]
  },
  {
   "cell_type": "code",
   "execution_count": null,
   "id": "97",
   "metadata": {
    "tags": []
   },
   "outputs": [],
   "source": [
    "hv.Image(zz[::-1], bounds=(0, 0, zz.shape[1], zz.shape[0])).opts(\n",
    "    aspect=zz.shape[1] / zz.shape[0],\n",
    "    invert_yaxis=True,\n",
    ")"
   ]
  },
  {
   "cell_type": "code",
   "execution_count": null,
   "id": "98",
   "metadata": {
    "tags": []
   },
   "outputs": [],
   "source": [
    "hv.Image(zz[::-1], bounds=(0, 0, zz.shape[1], zz.shape[0])).opts(\n",
    "    aspect=zz.shape[1] / zz.shape[0],\n",
    "    invert_yaxis=True,\n",
    ") * hv.Points([(100, 100)]).opts(size=100, color=\"red\")"
   ]
  },
  {
   "cell_type": "code",
   "execution_count": null,
   "id": "99",
   "metadata": {
    "tags": []
   },
   "outputs": [],
   "source": [
    "hv.Image(\n",
    "    zz,\n",
    "    bounds=(0, 0, zz.shape[1], zz.shape[0]),\n",
    "    extents=(0, 0, zz.shape[1], zz.shape[0]),\n",
    ").opts(aspect=zz.shape[1] / zz.shape[0])"
   ]
  },
  {
   "cell_type": "code",
   "execution_count": null,
   "id": "100",
   "metadata": {
    "tags": []
   },
   "outputs": [],
   "source": [
    "hv.Image(\n",
    "    zz,\n",
    "    bounds=(0, 0, zz.shape[1], zz.shape[0]),\n",
    "    extents=(0, 0, zz.shape[1], zz.shape[0]),\n",
    ").opts(aspect=zz.shape[1] / zz.shape[0], invert_yaxis=True)"
   ]
  },
  {
   "cell_type": "code",
   "execution_count": null,
   "id": "101",
   "metadata": {
    "tags": []
   },
   "outputs": [],
   "source": [
    "hv.Overlay(\n",
    "    [\n",
    "        hv.Image(\n",
    "            zz[::-1],\n",
    "            bounds=(0, 0, zz.shape[1], zz.shape[0]),\n",
    "            extents=(0, 0, zz.shape[1], zz.shape[0]),\n",
    "        ).opts(aspect=zz.shape[1] / zz.shape[0])\n",
    "    ]\n",
    ").opts(invert_yaxis=True)"
   ]
  },
  {
   "cell_type": "code",
   "execution_count": null,
   "id": "102",
   "metadata": {
    "tags": []
   },
   "outputs": [],
   "source": [
    "(\n",
    "    hv.Overlay(\n",
    "        [\n",
    "            hv.Image(\n",
    "                zz[::-1],\n",
    "                bounds=(0, 0, zz.shape[1], zz.shape[0]),\n",
    "                extents=(0, 0, zz.shape[1], zz.shape[0]),\n",
    "            ).opts(aspect=zz.shape[1] / zz.shape[0])\n",
    "        ]\n",
    "    ).opts(invert_yaxis=True)\n",
    "    * hv.Points([(100, 100)]).opts(size=100, color=\"red\")\n",
    ")"
   ]
  },
  {
   "cell_type": "code",
   "execution_count": null,
   "id": "103",
   "metadata": {
    "tags": []
   },
   "outputs": [],
   "source": [
    "(\n",
    "    hv.Overlay(\n",
    "        [\n",
    "            hv.Image(\n",
    "                zz[::-1],\n",
    "                bounds=(0, 0, zz.shape[1], zz.shape[0]),\n",
    "                # extents=(0, 0, zz.shape[1], zz.shape[0]),\n",
    "            ).opts(aspect=zz.shape[1] / zz.shape[0])\n",
    "        ]\n",
    "    ).opts(invert_yaxis=True)\n",
    "    * hv.Points([(100, 100)]).opts(size=100, color=\"red\")\n",
    ").opts(invert_yaxis=True)"
   ]
  },
  {
   "cell_type": "code",
   "execution_count": null,
   "id": "104",
   "metadata": {
    "tags": []
   },
   "outputs": [],
   "source": [
    "(\n",
    "    hv.Overlay(\n",
    "        [\n",
    "            hv.Image(\n",
    "                zz[::-1],\n",
    "                bounds=(0, zz.shape[0], zz.shape[1], 0),\n",
    "                # extents=(0, 0, zz.shape[1], zz.shape[0]),\n",
    "            ).opts(aspect=zz.shape[1] / zz.shape[0])\n",
    "        ]\n",
    "    ).opts(invert_yaxis=True)\n",
    "    * hv.Points([(100, 100)]).opts(size=100, color=\"red\")\n",
    ").opts(invert_yaxis=True)"
   ]
  },
  {
   "cell_type": "code",
   "execution_count": null,
   "id": "105",
   "metadata": {
    "tags": []
   },
   "outputs": [],
   "source": [
    "hv.Image(\n",
    "    zz[::-1],\n",
    "    bounds=(0, zz.shape[0], zz.shape[1], 0),\n",
    "    # extents=(0, 0, zz.shape[1], zz.shape[0]),\n",
    ").opts(\n",
    "    hv.opts.Image(aspect=zz.shape[1] / zz.shape[0], invert_yaxis=True)\n",
    ")  # * hv.Points([(100, 100)]).opts(size=100, color=\"red\")).opts(invert_yaxis=True)"
   ]
  },
  {
   "cell_type": "code",
   "execution_count": null,
   "id": "106",
   "metadata": {
    "tags": []
   },
   "outputs": [],
   "source": [
    "hv.Image(\n",
    "    zz[::-1], bounds=(0, -zz.shape[0], zz.shape[1], 0), extents=(0, 0, 100, 200)\n",
    ").opts(invert_yaxis=True)"
   ]
  },
  {
   "cell_type": "code",
   "execution_count": null,
   "id": "107",
   "metadata": {
    "tags": []
   },
   "outputs": [],
   "source": [
    "zz.shape[1]"
   ]
  },
  {
   "cell_type": "code",
   "execution_count": null,
   "id": "108",
   "metadata": {
    "tags": []
   },
   "outputs": [],
   "source": [
    "%%time\n",
    "diag = util.tree()\n",
    "t = trench_detection.find_trenches(z, width_to_pitch_ratio=1.4 / 3.5, diagnostics=diag)"
   ]
  },
  {
   "cell_type": "code",
   "execution_count": null,
   "id": "109",
   "metadata": {},
   "outputs": [],
   "source": [
    "diag[\"bboxes\"]"
   ]
  },
  {
   "cell_type": "code",
   "execution_count": null,
   "id": "110",
   "metadata": {
    "tags": []
   },
   "outputs": [],
   "source": [
    "t"
   ]
  },
  {
   "cell_type": "code",
   "execution_count": null,
   "id": "111",
   "metadata": {
    "tags": []
   },
   "outputs": [],
   "source": [
    "ui.RevImage(z, scale=0.997) * hv.Points([(100, 100)]).opts(size=10, color=\"red\")"
   ]
  },
  {
   "cell_type": "code",
   "execution_count": null,
   "id": "112",
   "metadata": {
    "tags": []
   },
   "outputs": [],
   "source": [
    "ui.RevImage(z, scale=0.997) * trench_detection.plot_trenches(\n",
    "    t\n",
    ")  # .opts(invert_yaxis=True)"
   ]
  },
  {
   "cell_type": "code",
   "execution_count": null,
   "id": "113",
   "metadata": {
    "tags": []
   },
   "outputs": [],
   "source": [
    "hv.Image(\n",
    "    zz[::1],\n",
    "    bounds=(0, zz.shape[0], zz.shape[1], 0),\n",
    "    extents=(0, -zz.shape[0], zz.shape[1], zz.shape[0]),\n",
    ").redim.range(z=(0, np.percentile(zz, 99.7))).opts(\n",
    "    hv.opts.Image(aspect=zz.shape[1] / zz.shape[0], invert_yaxis=True)\n",
    ") * hv.Points(\n",
    "    [(100, 100)]\n",
    ").opts(\n",
    "    size=10, color=\"red\"\n",
    ")"
   ]
  },
  {
   "cell_type": "code",
   "execution_count": null,
   "id": "114",
   "metadata": {
    "tags": []
   },
   "outputs": [],
   "source": [
    "hv.Image(\n",
    "    zz[::1],\n",
    "    bounds=(0, -zz.shape[0], zz.shape[1], 0),\n",
    "    extents=(0, 0, zz.shape[1], zz.shape[0]),\n",
    ").opts(hv.opts.Image(aspect=zz.shape[1] / zz.shape[0], invert_yaxis=True))"
   ]
  },
  {
   "cell_type": "code",
   "execution_count": null,
   "id": "115",
   "metadata": {
    "tags": []
   },
   "outputs": [],
   "source": [
    "hv.Image(\n",
    "    zz[::-1],\n",
    "    bounds=(0, zz.shape[0], zz.shape[1], 0),\n",
    "    extents=(0, 0, zz.shape[1], zz.shape[0]),\n",
    ").opts(\n",
    "    hv.opts.Image(aspect=zz.shape[1] / zz.shape[0], invert_yaxis=True)\n",
    ")  # * hv.Points([(100, 100)]).opts(size=100, color=\"red\")).opts(invert_yaxis=True)"
   ]
  },
  {
   "cell_type": "code",
   "execution_count": null,
   "id": "116",
   "metadata": {},
   "outputs": [],
   "source": [
    "ui.Image(z) * trench_detection.plot_trenches(t).opts(invert_yaxis=True)"
   ]
  },
  {
   "cell_type": "code",
   "execution_count": null,
   "id": "117",
   "metadata": {},
   "outputs": [],
   "source": [
    "np.percentile(z, 99.9)"
   ]
  },
  {
   "cell_type": "code",
   "execution_count": null,
   "id": "118",
   "metadata": {},
   "outputs": [],
   "source": [
    "a = hv.Image(np.random.random((10, 10)))"
   ]
  },
  {
   "cell_type": "code",
   "execution_count": null,
   "id": "119",
   "metadata": {},
   "outputs": [],
   "source": [
    "a.vdims[0].range"
   ]
  },
  {
   "cell_type": "code",
   "execution_count": null,
   "id": "120",
   "metadata": {},
   "outputs": [],
   "source": [
    "ui.Image(z, scale=0.997)"
   ]
  },
  {
   "cell_type": "code",
   "execution_count": null,
   "id": "121",
   "metadata": {},
   "outputs": [],
   "source": [
    "ui.Image(np.random.random((10, 10)))"
   ]
  },
  {
   "cell_type": "code",
   "execution_count": null,
   "id": "122",
   "metadata": {},
   "outputs": [],
   "source": [
    "%%opts?"
   ]
  },
  {
   "cell_type": "code",
   "execution_count": null,
   "id": "123",
   "metadata": {},
   "outputs": [],
   "source": [
    "%opts [invert_yaxis=True]"
   ]
  },
  {
   "cell_type": "code",
   "execution_count": null,
   "id": "124",
   "metadata": {},
   "outputs": [],
   "source": [
    "ui.Image(np.random.random((10, 10))) * hv.Points([(1, 1)]).opts(\n",
    "    size=10, color=\"red\", invert_yaxis=True\n",
    ")"
   ]
  },
  {
   "cell_type": "code",
   "execution_count": null,
   "id": "125",
   "metadata": {},
   "outputs": [],
   "source": [
    "ui.Image(np.random.random((10, 10))) * hv.Points([(0, 0)]).opts(size=10, color=\"red\")"
   ]
  },
  {
   "cell_type": "code",
   "execution_count": null,
   "id": "126",
   "metadata": {},
   "outputs": [],
   "source": [
    "a = (\n",
    "    hv.Image(\n",
    "        z[::-4, ::4],\n",
    "        bounds=(\n",
    "            0,\n",
    "            0,\n",
    "            z.shape[1],\n",
    "            z.shape[0],\n",
    "        ),  # , extents=(0, z.shape[0], z.shape[1], 0)\n",
    "    )\n",
    "    .redim.range(z=(z.min(), np.percentile(z, 99.7)))\n",
    "    .opts(\n",
    "        aspect=z.shape[1] / z.shape[0],\n",
    "        invert_yaxis=True,\n",
    "    )\n",
    ")"
   ]
  },
  {
   "cell_type": "code",
   "execution_count": null,
   "id": "127",
   "metadata": {
    "tags": []
   },
   "outputs": [],
   "source": [
    "ui.RevImage(np.random.random((10, 10)))"
   ]
  },
  {
   "cell_type": "code",
   "execution_count": null,
   "id": "128",
   "metadata": {},
   "outputs": [],
   "source": [
    "(\n",
    "    ui.RevImage(np.random.random((10, 10)))  # .opts(invert_yaxis=False)\n",
    "    * hv.Points([(1, 1)]).opts(size=10, color=\"red\")\n",
    ").opts(hv.opts.Overlay(invert_yaxis=True), hv.opts.Image(invert_yaxis=False))"
   ]
  },
  {
   "cell_type": "code",
   "execution_count": null,
   "id": "129",
   "metadata": {},
   "outputs": [],
   "source": [
    "(\n",
    "    ui.RevImage(np.random.random((10, 10))).opts(invert_yaxis=False)\n",
    "    * hv.Points([(1, 1)]).opts(size=10, color=\"red\")\n",
    ").opts(invert_yaxis=True)"
   ]
  },
  {
   "cell_type": "code",
   "execution_count": null,
   "id": "130",
   "metadata": {},
   "outputs": [],
   "source": [
    "a.opts"
   ]
  },
  {
   "cell_type": "code",
   "execution_count": null,
   "id": "131",
   "metadata": {
    "tags": []
   },
   "outputs": [],
   "source": [
    "hv.Image(z[::-4, ::4], bounds=(0, 0, shape[1], shape[0])).opts(\n",
    "    hv.opts.Image(invert_yaxis=True)\n",
    ")"
   ]
  },
  {
   "cell_type": "code",
   "execution_count": null,
   "id": "132",
   "metadata": {
    "tags": []
   },
   "outputs": [],
   "source": [
    "ui.RevImage(np.asarray(z))"
   ]
  },
  {
   "cell_type": "code",
   "execution_count": null,
   "id": "133",
   "metadata": {
    "tags": []
   },
   "outputs": [],
   "source": [
    "display_image(z, scale=0.9)"
   ]
  },
  {
   "cell_type": "markdown",
   "id": "134",
   "metadata": {},
   "source": [
    "# Cross-correlation"
   ]
  },
  {
   "cell_type": "code",
   "execution_count": null,
   "id": "135",
   "metadata": {
    "tags": []
   },
   "outputs": [],
   "source": [
    "nd2 = nd2reader.ND2Reader(\"/home/jqs1/scratch/jqs1/microscopy/210511/RBS_ramp.nd2\")"
   ]
  },
  {
   "cell_type": "code",
   "execution_count": null,
   "id": "136",
   "metadata": {
    "tags": []
   },
   "outputs": [],
   "source": [
    "c = 2\n",
    "f1 = nd2.get_frame_2D(v=30, t=170, c=c)\n",
    "f2 = nd2.get_frame_2D(v=30, t=171, c=c)"
   ]
  },
  {
   "cell_type": "code",
   "execution_count": null,
   "id": "137",
   "metadata": {
    "tags": []
   },
   "outputs": [],
   "source": [
    "display_image(f1, scale=0.99)"
   ]
  },
  {
   "cell_type": "markdown",
   "id": "138",
   "metadata": {},
   "source": [
    "# Improved trench lines"
   ]
  },
  {
   "cell_type": "code",
   "execution_count": null,
   "id": "139",
   "metadata": {
    "tags": []
   },
   "outputs": [],
   "source": [
    "k1 = 8.947368421052635e-10\n",
    "img = image.correct_radial_distortion(nd2.get_frame_2D(t=10, v=0, c=0), k1=k1)"
   ]
  },
  {
   "cell_type": "code",
   "execution_count": null,
   "id": "140",
   "metadata": {
    "tags": []
   },
   "outputs": [],
   "source": [
    "%%time\n",
    "diag = util.tree()\n",
    "trenches, info = trench_detection.find_trenches(\n",
    "    img, width_to_pitch_ratio=1.4 / 3.5, join_info=False, diagnostics=diag\n",
    ")"
   ]
  },
  {
   "cell_type": "code",
   "execution_count": null,
   "id": "141",
   "metadata": {
    "tags": []
   },
   "outputs": [],
   "source": [
    "info"
   ]
  },
  {
   "cell_type": "code",
   "execution_count": null,
   "id": "142",
   "metadata": {
    "tags": []
   },
   "outputs": [],
   "source": [
    "diag[\"labeling\"][\"set_finding\"][\"image_with_lines\"]"
   ]
  },
  {
   "cell_type": "code",
   "execution_count": null,
   "id": "143",
   "metadata": {
    "tags": []
   },
   "outputs": [],
   "source": [
    "display_image(img, scale=0.9)"
   ]
  },
  {
   "cell_type": "code",
   "execution_count": null,
   "id": "144",
   "metadata": {},
   "outputs": [],
   "source": [
    "%%time\n",
    "diag = util.tree()\n",
    "angle = np.deg2rad(-0.5)\n",
    "rhos = np.linspace(*image.hough_bounds(img.shape, angle), 10)\n",
    "(\n",
    "    profiles,\n",
    "    stacked_points,\n",
    "    anchor_idx,\n",
    ") = trench_detection.profile.get_trench_line_profiles(\n",
    "    img, angle, rhos, diagnostics=diag\n",
    ")"
   ]
  },
  {
   "cell_type": "code",
   "execution_count": null,
   "id": "145",
   "metadata": {},
   "outputs": [],
   "source": [
    "plt.plot(profiles.T);"
   ]
  },
  {
   "cell_type": "code",
   "execution_count": null,
   "id": "146",
   "metadata": {},
   "outputs": [],
   "source": [
    "image.hough_bounds(img.shape, angle)"
   ]
  },
  {
   "cell_type": "code",
   "execution_count": null,
   "id": "147",
   "metadata": {},
   "outputs": [],
   "source": [
    "%%time\n",
    "diag2 = util.tree()\n",
    "profiles2, stacked_points2 = trench_detection.profile.angled_profiles(\n",
    "    img, angle, rhos, diagnostics=diag2\n",
    ")"
   ]
  },
  {
   "cell_type": "code",
   "execution_count": null,
   "id": "148",
   "metadata": {},
   "outputs": [],
   "source": [
    "# TODO: there is a difference!!\n",
    "plt.plot(profiles2.T);"
   ]
  },
  {
   "cell_type": "code",
   "execution_count": null,
   "id": "149",
   "metadata": {},
   "outputs": [],
   "source": [
    "profiles2.T.shape"
   ]
  },
  {
   "cell_type": "code",
   "execution_count": null,
   "id": "150",
   "metadata": {},
   "outputs": [],
   "source": [
    "(profiles.shape, profiles2.shape)"
   ]
  },
  {
   "cell_type": "code",
   "execution_count": null,
   "id": "151",
   "metadata": {},
   "outputs": [],
   "source": [
    "plt.plot(profiles.T[20:, 6])\n",
    "plt.plot(profiles2.T[:, 6]);"
   ]
  },
  {
   "cell_type": "code",
   "execution_count": null,
   "id": "152",
   "metadata": {},
   "outputs": [],
   "source": [
    "plt.plot(profiles.T[21:, 6] - profiles2.T[:-14, 6]);"
   ]
  },
  {
   "cell_type": "code",
   "execution_count": null,
   "id": "153",
   "metadata": {},
   "outputs": [],
   "source": [
    "eps = 1e-5\n",
    "assert -np.pi / 2 + eps < theta < np.pi / 2 - eps"
   ]
  },
  {
   "cell_type": "code",
   "execution_count": null,
   "id": "154",
   "metadata": {
    "tags": []
   },
   "outputs": [],
   "source": [
    "x_lim, y_lim = geometry.get_image_limits(img.shape)"
   ]
  },
  {
   "cell_type": "code",
   "execution_count": null,
   "id": "155",
   "metadata": {
    "tags": []
   },
   "outputs": [],
   "source": [
    "import skspatial\n",
    "from skspatial.objects import Line, LineSegment"
   ]
  },
  {
   "cell_type": "code",
   "execution_count": null,
   "id": "156",
   "metadata": {
    "tags": []
   },
   "outputs": [],
   "source": [
    "# coordinate system is flipped y -> -y"
   ]
  },
  {
   "cell_type": "code",
   "execution_count": null,
   "id": "157",
   "metadata": {},
   "outputs": [],
   "source": [
    "x = [\n",
    "    skspatial.objects.Point((0, 0)),\n",
    "    skspatial.objects.Point((1, 1)),\n",
    "    skspatial.objects.Point((0, 0)),\n",
    "    skspatial.objects.Point((3, 1)),\n",
    "    skspatial.objects.Point((3, 1)),\n",
    "    skspatial.objects.Point((1, 3)),\n",
    "]"
   ]
  },
  {
   "cell_type": "code",
   "execution_count": null,
   "id": "158",
   "metadata": {},
   "outputs": [],
   "source": [
    "np.unique(x, axis=0, return_index=True)[1]"
   ]
  },
  {
   "cell_type": "code",
   "execution_count": null,
   "id": "159",
   "metadata": {},
   "outputs": [],
   "source": [
    "(rho_min, rho_max)"
   ]
  },
  {
   "cell_type": "code",
   "execution_count": null,
   "id": "160",
   "metadata": {
    "tags": []
   },
   "outputs": [],
   "source": [
    "# %%pyinstrument\n",
    "lines = []\n",
    "offsets = []\n",
    "angle = np.deg2rad(90)\n",
    "rho_min, rho_max = image.hough_bounds(img.shape, angle)\n",
    "for rho in np.linspace(rho_min, rho_max, 100):\n",
    "    top, bottom, offset = trench_detection.profile.angled_line_profile_endpoints(\n",
    "        angle, rho, x_lim, y_lim\n",
    "    )\n",
    "    if top is None:\n",
    "        continue\n",
    "    lines.append([top, bottom])\n",
    "    offsets.append(offset)"
   ]
  },
  {
   "cell_type": "code",
   "execution_count": null,
   "id": "161",
   "metadata": {},
   "outputs": [],
   "source": [
    "hv.Path(lines).options(invert_yaxis=True)"
   ]
  }
 ],
 "metadata": {
  "kernelspec": {
   "display_name": "Python 3 (ipykernel)",
   "language": "python",
   "name": "python3"
  },
  "language_info": {
   "codemirror_mode": {
    "name": "ipython",
    "version": 3
   },
   "file_extension": ".py",
   "mimetype": "text/x-python",
   "name": "python",
   "nbconvert_exporter": "python",
   "pygments_lexer": "ipython3",
   "version": "3.11.4"
  }
 },
 "nbformat": 4,
 "nbformat_minor": 4
}
