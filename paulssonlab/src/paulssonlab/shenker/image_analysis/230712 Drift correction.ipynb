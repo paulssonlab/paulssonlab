{
 "cells": [
  {
   "cell_type": "markdown",
   "id": "0",
   "metadata": {
    "tags": []
   },
   "source": [
    "# Imports"
   ]
  },
  {
   "cell_type": "code",
   "execution_count": null,
   "id": "1",
   "metadata": {},
   "outputs": [],
   "source": [
    "import itertools as it\n",
    "import os\n",
    "import re\n",
    "from collections import namedtuple\n",
    "from functools import partial\n",
    "from pathlib import Path\n",
    "\n",
    "import dask\n",
    "import distributed\n",
    "import h5py\n",
    "import holoviews as hv\n",
    "import matplotlib.pyplot as plt\n",
    "import nd2reader\n",
    "import numpy as np\n",
    "import pandas as pd\n",
    "import pyarrow as pa\n",
    "import pyarrow.parquet as pq\n",
    "import scipy\n",
    "import skimage.measure\n",
    "import zarr\n",
    "from dask import delayed\n",
    "from dask_jobqueue import SLURMCluster\n",
    "from distributed import Client, LocalCluster, progress\n",
    "from holoviews.operation.datashader import regrid\n",
    "from tqdm.auto import tqdm, trange\n",
    "\n",
    "IDX = pd.IndexSlice"
   ]
  },
  {
   "cell_type": "code",
   "execution_count": null,
   "id": "2",
   "metadata": {},
   "outputs": [],
   "source": [
    "%load_ext autoreload\n",
    "%autoreload 2"
   ]
  },
  {
   "cell_type": "code",
   "execution_count": null,
   "id": "3",
   "metadata": {},
   "outputs": [],
   "source": [
    "from paulssonlab.image_analysis import *\n",
    "from paulssonlab.image_analysis.ui import display_image"
   ]
  },
  {
   "cell_type": "code",
   "execution_count": null,
   "id": "4",
   "metadata": {},
   "outputs": [],
   "source": [
    "%load_ext pyinstrument"
   ]
  },
  {
   "cell_type": "code",
   "execution_count": null,
   "id": "5",
   "metadata": {},
   "outputs": [],
   "source": [
    "hv.extension(\"bokeh\")"
   ]
  },
  {
   "cell_type": "markdown",
   "id": "6",
   "metadata": {},
   "source": [
    "# Config"
   ]
  },
  {
   "cell_type": "code",
   "execution_count": null,
   "id": "7",
   "metadata": {},
   "outputs": [],
   "source": [
    "cluster = SLURMCluster(\n",
    "    queue=\"short\",\n",
    "    walltime=\"06:00:00\",\n",
    "    memory=\"2GB\",\n",
    "    local_directory=\"/tmp\",\n",
    "    log_directory=\"/home/jqs1/log\",\n",
    "    cores=1,\n",
    "    processes=1,\n",
    ")\n",
    "client = Client(cluster)"
   ]
  },
  {
   "cell_type": "code",
   "execution_count": null,
   "id": "8",
   "metadata": {},
   "outputs": [],
   "source": [
    "cluster"
   ]
  },
  {
   "cell_type": "code",
   "execution_count": null,
   "id": "9",
   "metadata": {},
   "outputs": [],
   "source": [
    "cluster.scale(1)"
   ]
  },
  {
   "cell_type": "code",
   "execution_count": null,
   "id": "10",
   "metadata": {},
   "outputs": [],
   "source": [
    "cluster.adapt(maximum=20)"
   ]
  },
  {
   "cell_type": "markdown",
   "id": "11",
   "metadata": {},
   "source": [
    "# Trench detection"
   ]
  },
  {
   "cell_type": "code",
   "execution_count": null,
   "id": "12",
   "metadata": {},
   "outputs": [],
   "source": [
    "# filename = \"/home/jqs1/scratch/jqs1/microscopy/210511/RBS_ramp.nd2\"\n",
    "# filename = \"/home/jqs1/scratch/jqs1/microscopy/230213/230213induction.nd2\"\n",
    "# filename = \"/home/jqs1/scratch/jqs1/microscopy/230215/230215induction.nd2\" #v=7\n",
    "# filename = \"/home/jqs1/scratch/jqs1/microscopy/230326/230326promrbs.nd2\" #v=8,t=10\n",
    "filename = \"/home/jqs1/scratch/jqs1/microscopy/230404/230404_rbsprom.nd2\""
   ]
  },
  {
   "cell_type": "code",
   "execution_count": null,
   "id": "13",
   "metadata": {},
   "outputs": [],
   "source": [
    "nd2 = nd2reader.ND2Reader(filename)"
   ]
  },
  {
   "cell_type": "markdown",
   "id": "14",
   "metadata": {},
   "source": [
    "# Drift correction test"
   ]
  },
  {
   "cell_type": "code",
   "execution_count": null,
   "id": "15",
   "metadata": {},
   "outputs": [],
   "source": [
    "k1 = 8.947368421052635e-10\n",
    "imgs = {\n",
    "    t: image.correct_radial_distortion(nd2.get_frame_2D(v=8, c=0, t=t), k1=k1)[\n",
    "        :500, :500\n",
    "    ]\n",
    "    for t in trange(225)\n",
    "}"
   ]
  },
  {
   "cell_type": "code",
   "execution_count": null,
   "id": "16",
   "metadata": {
    "tags": []
   },
   "outputs": [],
   "source": [
    "img_x = imgs[20].copy()\n",
    "y = 167\n",
    "x = 476\n",
    "img_x[y, x] = 20_000\n",
    "img_x[y + 1, x] = 0\n",
    "img_x[y - 1, x] = 0\n",
    "img_x[y, x - 1] = 0\n",
    "img_x[y, x + 1] = 0"
   ]
  },
  {
   "cell_type": "code",
   "execution_count": null,
   "id": "17",
   "metadata": {
    "tags": []
   },
   "outputs": [],
   "source": [
    "%%time\n",
    "diag = util.tree()\n",
    "trenches, info = trench_detection.find_trenches(\n",
    "    imgs[20],\n",
    "    # angle=np.deg2rad(89),\n",
    "    # pitch=16.482897384305836,\n",
    "    width_to_pitch_ratio=1.4 / 3.5,\n",
    "    join_info=False,\n",
    "    diagnostics=diag,\n",
    ")"
   ]
  },
  {
   "cell_type": "code",
   "execution_count": null,
   "id": "18",
   "metadata": {
    "tags": []
   },
   "outputs": [],
   "source": [
    "info"
   ]
  },
  {
   "cell_type": "code",
   "execution_count": null,
   "id": "19",
   "metadata": {
    "tags": []
   },
   "outputs": [],
   "source": [
    "diag[\"labeling\"][\"set_finding\"][\"image_with_lines\"]"
   ]
  },
  {
   "cell_type": "code",
   "execution_count": null,
   "id": "20",
   "metadata": {
    "tags": []
   },
   "outputs": [],
   "source": [
    "diag[\"labeling\"][\"set_finding\"].keys()"
   ]
  },
  {
   "cell_type": "code",
   "execution_count": null,
   "id": "21",
   "metadata": {
    "tags": []
   },
   "outputs": [],
   "source": [
    "diag[\"labeling\"][\"set_finding\"][\"profiles\"]"
   ]
  },
  {
   "cell_type": "code",
   "execution_count": null,
   "id": "22",
   "metadata": {
    "tags": []
   },
   "outputs": [],
   "source": [
    "diag[\"bboxes\"]"
   ]
  },
  {
   "cell_type": "code",
   "execution_count": null,
   "id": "23",
   "metadata": {
    "tags": []
   },
   "outputs": [],
   "source": [
    "image_limits = geometry.get_image_limits(imgs[0].shape)"
   ]
  },
  {
   "cell_type": "code",
   "execution_count": null,
   "id": "24",
   "metadata": {
    "tags": []
   },
   "outputs": [],
   "source": [
    "rois = trenches  # [(trenches[\"trench_set\"] == 1)][21:25]\n",
    "t0 = 20\n",
    "t1 = 225\n",
    "ts = np.arange(t0 + 1, t1)\n",
    "# ts = np.arange(200, t1)\n",
    "# ts = [160,183]\n",
    "# ts = [100]\n",
    "shifts = {}\n",
    "shifts[t0] = np.array([0, 0])\n",
    "# shifts[t0] = np.array([0, 0])\n",
    "features_plot = {}\n",
    "rois_plot = {}\n",
    "rois_final_plot = {}\n",
    "for t in tqdm(ts):\n",
    "    diag = {}\n",
    "    # shift = drift.find_feature_drift(\n",
    "    #     imgs[t - 1],\n",
    "    #     imgs[t],\n",
    "    #     trenches,\n",
    "    #     initial_shift=shifts[t - 1],\n",
    "    #     estimation_func=median_translation,\n",
    "    #     max_iterations=3,\n",
    "    #     diagnostics=diag,\n",
    "    # )\n",
    "    # if t > 180:\n",
    "    #     f = drift.trench_cell_endpoints\n",
    "    # else:\n",
    "    #     f = mock_features\n",
    "    shift = drift.find_feature_drift(\n",
    "        imgs[t0],\n",
    "        # imgs[t-1],\n",
    "        imgs[t],\n",
    "        rois,\n",
    "        initial_shift2=shifts[t - 1],\n",
    "        # feature_func=mock_features,\n",
    "        # feature_func=drift.centroid,\n",
    "        # estimation_func=drift.median_translation,\n",
    "        max_iterations=2,\n",
    "        diagnostics=diag,\n",
    "    )\n",
    "    shifts[t] = shift\n",
    "    features_plot[t] = diag[\"features2\"]\n",
    "    rois_plot[t] = diag[\"rois2\"]\n",
    "    rois_final_plot[t] = diag[\"rois_final\"]"
   ]
  },
  {
   "cell_type": "code",
   "execution_count": null,
   "id": "25",
   "metadata": {},
   "outputs": [],
   "source": [
    "ts2 = ts  # [-30:]\n",
    "hv.HoloMap({t: ui.RevImage(imgs[t]) for t in ts2}) * hv.HoloMap(\n",
    "    {t: rois_final_plot[t] for t in ts2},\n",
    ") * hv.HoloMap({t: features_plot[t] for t in ts2}).opts(color=\"red\")"
   ]
  },
  {
   "cell_type": "markdown",
   "id": "26",
   "metadata": {},
   "source": [
    "# Line drift correction"
   ]
  },
  {
   "cell_type": "code",
   "execution_count": null,
   "id": "27",
   "metadata": {},
   "outputs": [],
   "source": [
    "roi = trenches.iloc[1]\n",
    "top = (roi[\"top_x\"], roi[\"top_y\"])\n",
    "bottom = (roi[\"bottom_x\"], roi[\"bottom_y\"])"
   ]
  },
  {
   "cell_type": "code",
   "execution_count": null,
   "id": "28",
   "metadata": {},
   "outputs": [],
   "source": [
    "res = trench_detection.profile.profile_line(\n",
    "    imgs[21], top[::-1], bottom[::-1], linewidth=10\n",
    ")"
   ]
  },
  {
   "cell_type": "code",
   "execution_count": null,
   "id": "29",
   "metadata": {},
   "outputs": [],
   "source": [
    "plt.imshow(res)"
   ]
  },
  {
   "cell_type": "code",
   "execution_count": null,
   "id": "30",
   "metadata": {},
   "outputs": [],
   "source": [
    "plt.plot(res.mean(axis=0));"
   ]
  },
  {
   "cell_type": "code",
   "execution_count": null,
   "id": "31",
   "metadata": {},
   "outputs": [],
   "source": [
    "def iter_roi_lines(rois):\n",
    "    index = rois.index.values\n",
    "    top_x = rois[\"top_x\"].values\n",
    "    top_y = rois[\"top_y\"].values\n",
    "    bottom_x = rois[\"bottom_x\"].values\n",
    "    bottom_y = rois[\"bottom_y\"].values\n",
    "    for i in range(len(index)):\n",
    "        roi_idx = index[i]\n",
    "        yield roi_idx, np.array([top_x[i], top_y[i]]), np.array(\n",
    "            [bottom_x[i], bottom_y[i]]\n",
    "        )\n",
    "\n",
    "\n",
    "def line_shift(img, rois, linewidth=8):\n",
    "    for roi_idx, top, bottom in iter_roi_lines(rois):\n",
    "        res = trench_detection.profile.profile_line(\n",
    "            img, top[::-1], bottom[::-1], linewidth=linewidth\n",
    "        )\n",
    "    pass\n",
    "\n",
    "\n",
    "def find_line_drift(\n",
    "    img1,\n",
    "    img2,\n",
    "    trenches,\n",
    "    diagnostics=None,\n",
    "):\n",
    "    pass"
   ]
  },
  {
   "cell_type": "code",
   "execution_count": null,
   "id": "32",
   "metadata": {},
   "outputs": [],
   "source": [
    "profiles = {}\n",
    "for roi_idx, top, bottom in iter_roi_lines(rois):\n",
    "    res = trench_detection.profile.profile_line(\n",
    "        imgs[0], top[::-1], bottom[::-1], linewidth=10\n",
    "    )\n",
    "    profiles[roi_idx] = res"
   ]
  },
  {
   "cell_type": "code",
   "execution_count": null,
   "id": "33",
   "metadata": {},
   "outputs": [],
   "source": [
    "profiles2 = {}\n",
    "for roi_idx, top, bottom in iter_roi_lines(rois):\n",
    "    res = trench_detection.profile.profile_line(\n",
    "        imgs[40], top[::-1], bottom[::-1], linewidth=10\n",
    "    )\n",
    "    profiles2[roi_idx] = res"
   ]
  },
  {
   "cell_type": "code",
   "execution_count": null,
   "id": "34",
   "metadata": {},
   "outputs": [],
   "source": [
    "idx = 20\n",
    "plt.plot(profiles[idx].mean(axis=0))\n",
    "plt.plot(profiles2[idx].mean(axis=0));"
   ]
  },
  {
   "cell_type": "code",
   "execution_count": null,
   "id": "35",
   "metadata": {},
   "outputs": [],
   "source": [
    "plt.plot(np.mean(np.concatenate(list(profiles.values())), axis=0))"
   ]
  },
  {
   "cell_type": "code",
   "execution_count": null,
   "id": "36",
   "metadata": {},
   "outputs": [],
   "source": [
    "for idx, res in profiles.items():\n",
    "    horiz = res.mean(axis=0)\n",
    "    horiz = horiz / horiz.max()\n",
    "    plt.plot(horiz);"
   ]
  },
  {
   "cell_type": "code",
   "execution_count": null,
   "id": "37",
   "metadata": {},
   "outputs": [],
   "source": [
    "for idx, res in profiles.items():\n",
    "    vert = res.mean(axis=1)\n",
    "    # vert = vert / vert.max()\n",
    "    plt.plot(vert);"
   ]
  }
 ],
 "metadata": {
  "kernelspec": {
   "display_name": "Python 3 (ipykernel)",
   "language": "python",
   "name": "python3"
  },
  "language_info": {
   "codemirror_mode": {
    "name": "ipython",
    "version": 3
   },
   "file_extension": ".py",
   "mimetype": "text/x-python",
   "name": "python",
   "nbconvert_exporter": "python",
   "pygments_lexer": "ipython3",
   "version": "3.11.4"
  }
 },
 "nbformat": 4,
 "nbformat_minor": 4
}
