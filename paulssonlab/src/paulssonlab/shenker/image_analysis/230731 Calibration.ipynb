{
 "cells": [
  {
   "cell_type": "markdown",
   "id": "0",
   "metadata": {
    "tags": []
   },
   "source": [
    "# Imports"
   ]
  },
  {
   "cell_type": "code",
   "execution_count": null,
   "id": "1",
   "metadata": {},
   "outputs": [],
   "source": [
    "import itertools as it\n",
    "import os\n",
    "from functools import partial\n",
    "from pathlib import Path\n",
    "\n",
    "import dask\n",
    "import distributed\n",
    "import h5py\n",
    "import holoviews as hv\n",
    "import hvplot.pandas\n",
    "import matplotlib.pyplot as plt\n",
    "import nd2reader\n",
    "import numpy as np\n",
    "import pandas as pd\n",
    "import pyarrow as pa\n",
    "import pyarrow.parquet as pq\n",
    "import scipy\n",
    "import skimage.measure\n",
    "import zarr\n",
    "from dask import delayed\n",
    "from dask_jobqueue import SLURMCluster\n",
    "from distributed import Client, LocalCluster, progress\n",
    "from holoviews.operation.datashader import regrid\n",
    "from tqdm.auto import tqdm, trange\n",
    "\n",
    "IDX = pd.IndexSlice"
   ]
  },
  {
   "cell_type": "code",
   "execution_count": null,
   "id": "2",
   "metadata": {},
   "outputs": [],
   "source": [
    "%load_ext autoreload\n",
    "%autoreload 2"
   ]
  },
  {
   "cell_type": "code",
   "execution_count": null,
   "id": "3",
   "metadata": {},
   "outputs": [],
   "source": [
    "from paulssonlab.image_analysis import *\n",
    "from paulssonlab.image_analysis.ui import display_image"
   ]
  },
  {
   "cell_type": "code",
   "execution_count": null,
   "id": "4",
   "metadata": {},
   "outputs": [],
   "source": [
    "%load_ext pyinstrument"
   ]
  },
  {
   "cell_type": "code",
   "execution_count": null,
   "id": "5",
   "metadata": {},
   "outputs": [],
   "source": [
    "hv.extension(\"bokeh\")"
   ]
  },
  {
   "cell_type": "markdown",
   "id": "6",
   "metadata": {},
   "source": [
    "# Config"
   ]
  },
  {
   "cell_type": "code",
   "execution_count": null,
   "id": "7",
   "metadata": {},
   "outputs": [],
   "source": [
    "cluster = SLURMCluster(\n",
    "    queue=\"short\",\n",
    "    walltime=\"06:00:00\",\n",
    "    memory=\"2GB\",\n",
    "    local_directory=\"/tmp\",\n",
    "    log_directory=\"/home/jqs1/log\",\n",
    "    cores=1,\n",
    "    processes=1,\n",
    ")\n",
    "client = Client(cluster)"
   ]
  },
  {
   "cell_type": "code",
   "execution_count": null,
   "id": "8",
   "metadata": {},
   "outputs": [],
   "source": [
    "cluster"
   ]
  },
  {
   "cell_type": "code",
   "execution_count": null,
   "id": "9",
   "metadata": {},
   "outputs": [],
   "source": [
    "cluster.scale(1)"
   ]
  },
  {
   "cell_type": "code",
   "execution_count": null,
   "id": "10",
   "metadata": {},
   "outputs": [],
   "source": [
    "cluster.adapt(maximum=20)"
   ]
  },
  {
   "cell_type": "markdown",
   "id": "11",
   "metadata": {},
   "source": [
    "# Focus"
   ]
  },
  {
   "cell_type": "code",
   "execution_count": null,
   "id": "12",
   "metadata": {},
   "outputs": [],
   "source": [
    "filename = \"/home/jqs1/scratch/jqs1/microscopy/230726/calibration/230726_ultrarainbow_40x40_zstack_nocy7_fov1.nd2\""
   ]
  },
  {
   "cell_type": "code",
   "execution_count": null,
   "id": "13",
   "metadata": {},
   "outputs": [],
   "source": [
    "nd2 = nd2reader.ND2Reader(filename)"
   ]
  },
  {
   "cell_type": "code",
   "execution_count": null,
   "id": "14",
   "metadata": {},
   "outputs": [],
   "source": [
    "nd2.sizes"
   ]
  },
  {
   "cell_type": "code",
   "execution_count": null,
   "id": "15",
   "metadata": {},
   "outputs": [],
   "source": [
    "nd2.metadata[\"channels\"]"
   ]
  },
  {
   "cell_type": "code",
   "execution_count": null,
   "id": "16",
   "metadata": {},
   "outputs": [],
   "source": [
    "display_image(\n",
    "    nd2.get_frame_2D(v=0, t=0, z=8, c=1)[2000:2500, 1000:1500], scale=1, downsample=1\n",
    ")"
   ]
  },
  {
   "cell_type": "code",
   "execution_count": null,
   "id": "17",
   "metadata": {},
   "outputs": [],
   "source": [
    "focus_func = lap4\n",
    "metric = [\n",
    "    lap4(nd2.get_frame_2D(v=0, t=0, z=z, c=1)[2000:2500, 1000:1500])\n",
    "    for z in trange(nd2.sizes[\"z\"])\n",
    "]"
   ]
  },
  {
   "cell_type": "code",
   "execution_count": null,
   "id": "18",
   "metadata": {},
   "outputs": [],
   "source": [
    "hv.Curve(metric)"
   ]
  },
  {
   "cell_type": "code",
   "execution_count": null,
   "id": "19",
   "metadata": {},
   "outputs": [],
   "source": [
    "focus_funcs = [lap4, gra6, gra7, sta3]\n",
    "d = [\n",
    "    np.array(\n",
    "        [\n",
    "            focus_func(nd2.get_frame_2D(v=0, t=0, z=z, c=0)[2000:2500, 1000:1500])\n",
    "            for z in trange(nd2.sizes[\"z\"])\n",
    "        ]\n",
    "    )\n",
    "    for focus_func in tqdm(focus_funcs)\n",
    "]"
   ]
  },
  {
   "cell_type": "code",
   "execution_count": null,
   "id": "20",
   "metadata": {},
   "outputs": [],
   "source": [
    "hv.Overlay(\n",
    "    [\n",
    "        hv.Curve(dd / dd.max(), label=focus_func.__name__)\n",
    "        for dd, focus_func in zip(d, focus_funcs)\n",
    "    ]\n",
    ")"
   ]
  },
  {
   "cell_type": "code",
   "execution_count": null,
   "id": "21",
   "metadata": {},
   "outputs": [],
   "source": [
    "hv.Overlay(\n",
    "    [\n",
    "        hv.Curve(dd / dd.max(), label=focus_func.__name__)\n",
    "        for dd, focus_func in zip(d, focus_funcs)\n",
    "    ]\n",
    ")"
   ]
  },
  {
   "cell_type": "code",
   "execution_count": null,
   "id": "22",
   "metadata": {},
   "outputs": [],
   "source": [
    "d2 = [\n",
    "    np.array(\n",
    "        [\n",
    "            gra7(nd2.get_frame_2D(v=0, t=0, z=z, c=c)[2000:2500, 1000:1500])\n",
    "            for z in trange(nd2.sizes[\"z\"])\n",
    "        ]\n",
    "    )\n",
    "    for c in trange(nd2.sizes[\"c\"])\n",
    "]"
   ]
  },
  {
   "cell_type": "code",
   "execution_count": null,
   "id": "23",
   "metadata": {},
   "outputs": [],
   "source": [
    "hv.Overlay(\n",
    "    [\n",
    "        hv.Curve(dd / dd.max(), label=channel)\n",
    "        for dd, channel in zip(d2, nd2.metadata[\"channels\"])\n",
    "    ]\n",
    ")"
   ]
  },
  {
   "cell_type": "code",
   "execution_count": null,
   "id": "24",
   "metadata": {},
   "outputs": [],
   "source": [
    "# histogram equilibrization (better background subtraction/normalization)\n",
    "# use bead moments to calculate focus, allow moving-window averaging\n",
    "# find focus offset in PFS units\n",
    "# look for spatial variation of focus"
   ]
  },
  {
   "cell_type": "markdown",
   "id": "25",
   "metadata": {},
   "source": [
    "# Bead segmentation"
   ]
  },
  {
   "cell_type": "code",
   "execution_count": null,
   "id": "26",
   "metadata": {},
   "outputs": [],
   "source": [
    "from sklearn.neighbors import KDTree\n",
    "\n",
    "\n",
    "def segment_puncta(img, low_sigma=1, high_sigma=50, expand=2):\n",
    "    img_dog = skimage.filters.difference_of_gaussians(img, low_sigma, high_sigma)\n",
    "    img_mask = img_dog > skimage.filters.threshold_otsu(img_dog)\n",
    "    img_labels = skimage.measure.label(img_mask)\n",
    "    if expand is not None:\n",
    "        img_labels = skimage.segmentation.expand_labels(img_labels, expand)\n",
    "    return img_labels\n",
    "\n",
    "\n",
    "def measure_puncta(img, img_labels=None, min_dist=10, max_intensity=3):\n",
    "    if img_labels is None:\n",
    "        img_labels = segment_points(img)\n",
    "    background = np.median(img[img_labels == 0])\n",
    "    # subtract background (note that some pixels may be negative)\n",
    "    img_bgsub = img - background\n",
    "    # normalize image\n",
    "    img_bgsub /= img_bgsub.max()\n",
    "    df = pd.DataFrame(\n",
    "        skimage.measure.regionprops_table(\n",
    "            img_labels,\n",
    "            img_bgsub,\n",
    "            properties=(\n",
    "                \"label\",\n",
    "                \"centroid_weighted\",\n",
    "                \"area\",\n",
    "                \"moments_weighted_central\",\n",
    "            ),\n",
    "        )\n",
    "    )\n",
    "    df[\"radius\"] = np.sqrt(\n",
    "        df[\"centroid_weighted-0\"] ** 2 + df[\"centroid_weighted-1\"] ** 2\n",
    "    )\n",
    "    X = np.stack((df[\"centroid_weighted-0\"], df[\"centroid_weighted-1\"]), axis=1)\n",
    "    kdtree = KDTree(X)\n",
    "    dists, idxs = kdtree.query(X, k=2)\n",
    "    # get nearest non-identical neighbor\n",
    "    dists = dists[:, 1]\n",
    "    idxs = idxs[:, 1]\n",
    "    overcrowding_mask = np.full(len(df), True)\n",
    "    # filter out points with nearest neighbors closer than min_dist\n",
    "    overcrowding_mask[idxs[dists < min_dist]] = False\n",
    "    df_filtered = df[\n",
    "        overcrowding_mask & (df[\"moments_weighted_central-0-0\"] < max_intensity)\n",
    "    ]\n",
    "    return df_filtered"
   ]
  },
  {
   "cell_type": "code",
   "execution_count": null,
   "id": "27",
   "metadata": {},
   "outputs": [],
   "source": [
    "filename = \"/home/jqs1/scratch/jqs1/microscopy/230728/calibration/230728_ultrarainbow_64fov_cy5.nd2\"\n",
    "nd2 = nd2reader.ND2Reader(filename)"
   ]
  },
  {
   "cell_type": "code",
   "execution_count": null,
   "id": "28",
   "metadata": {},
   "outputs": [],
   "source": [
    "nd2.sizes"
   ]
  },
  {
   "cell_type": "code",
   "execution_count": null,
   "id": "29",
   "metadata": {},
   "outputs": [],
   "source": [
    "%%time\n",
    "img = nd2.get_frame_2D(v=0, t=0, z=0, c=0)\n",
    "df = measure_points(img)"
   ]
  },
  {
   "cell_type": "code",
   "execution_count": null,
   "id": "30",
   "metadata": {},
   "outputs": [],
   "source": [
    "plt.hist(df[\"area\"], bins=100);"
   ]
  },
  {
   "cell_type": "code",
   "execution_count": null,
   "id": "31",
   "metadata": {},
   "outputs": [],
   "source": [
    "plt.hist(dists, bins=100);"
   ]
  },
  {
   "cell_type": "code",
   "execution_count": null,
   "id": "32",
   "metadata": {},
   "outputs": [],
   "source": [
    "df.hvplot.hist(\"moments_weighted_central-0-0\", bins=100)"
   ]
  },
  {
   "cell_type": "code",
   "execution_count": null,
   "id": "33",
   "metadata": {},
   "outputs": [],
   "source": [
    "df"
   ]
  },
  {
   "cell_type": "code",
   "execution_count": null,
   "id": "34",
   "metadata": {},
   "outputs": [],
   "source": [
    "plt.figure(figsize=(20, 20), dpi=200)\n",
    "plt.imshow(img_bgsub, vmin=0, vmax=0.1)\n",
    "plt.plot(\n",
    "    df[\"centroid_weighted-1\"],\n",
    "    df[\"centroid_weighted-0\"],\n",
    "    marker=\"o\",\n",
    "    mfc=\"none\",\n",
    "    c=\"red\",\n",
    "    markersize=4,\n",
    "    lw=0,\n",
    "    markeredgewidth=0.5,\n",
    ");"
   ]
  },
  {
   "cell_type": "code",
   "execution_count": null,
   "id": "35",
   "metadata": {},
   "outputs": [],
   "source": [
    "plt.figure(figsize=(20, 20), dpi=200)\n",
    "plt.imshow(skimage.color.label2rgb(img_labels, img * 50))\n",
    "plt.plot(\n",
    "    df2[\"centroid_weighted-1\"],\n",
    "    df2[\"centroid_weighted-0\"],\n",
    "    marker=\"o\",\n",
    "    mfc=\"none\",\n",
    "    c=\"red\",\n",
    "    markersize=4,\n",
    "    lw=0,\n",
    "    markeredgewidth=0.5,\n",
    ");"
   ]
  },
  {
   "cell_type": "code",
   "execution_count": null,
   "id": "36",
   "metadata": {},
   "outputs": [],
   "source": [
    "df3 = df2[df2[\"moments_weighted_central-0-0\"] > 3]\n",
    "plt.figure(figsize=(20, 20), dpi=300)\n",
    "plt.imshow(skimage.color.label2rgb(img_labels, img * 50))\n",
    "plt.plot(\n",
    "    df3[\"centroid_weighted-1\"],\n",
    "    df3[\"centroid_weighted-0\"],\n",
    "    marker=\"o\",\n",
    "    mfc=\"none\",\n",
    "    c=\"red\",\n",
    "    markersize=4,\n",
    "    lw=0,\n",
    "    markeredgewidth=0.5,\n",
    ");"
   ]
  },
  {
   "cell_type": "markdown",
   "id": "37",
   "metadata": {},
   "source": [
    "# Focus visualizations"
   ]
  },
  {
   "cell_type": "markdown",
   "id": "38",
   "metadata": {},
   "source": [
    "## Spatial"
   ]
  },
  {
   "cell_type": "code",
   "execution_count": null,
   "id": "39",
   "metadata": {},
   "outputs": [],
   "source": [
    "filename = \"/home/jqs1/scratch/jqs1/microscopy/230728/calibration/230728_ultrarainbow_64fov_cy5.nd2\"\n",
    "nd2 = nd2reader.ND2Reader(filename)"
   ]
  },
  {
   "cell_type": "code",
   "execution_count": null,
   "id": "40",
   "metadata": {},
   "outputs": [],
   "source": [
    "img = nd2.get_frame_2D(v=0, t=0, z=0, c=0)"
   ]
  },
  {
   "cell_type": "code",
   "execution_count": null,
   "id": "41",
   "metadata": {},
   "outputs": [],
   "source": [
    "df = measure_puncta(img)"
   ]
  },
  {
   "cell_type": "code",
   "execution_count": null,
   "id": "42",
   "metadata": {},
   "outputs": [],
   "source": [
    "df2 = df.assign(\n",
    "    width=df[\"moments_weighted_central-2-2\"] / df[\"moments_weighted_central-0-0\"]\n",
    ")\n",
    "df2 = df2[df2[\"width\"].between(0, 20)]\n",
    "df2.hvplot.scatter(\"centroid_weighted-1\", \"centroid_weighted-0\", color=\"width\")"
   ]
  },
  {
   "cell_type": "markdown",
   "id": "43",
   "metadata": {},
   "source": [
    "## Z stack"
   ]
  },
  {
   "cell_type": "code",
   "execution_count": null,
   "id": "44",
   "metadata": {},
   "outputs": [],
   "source": [
    "filename = \"/home/jqs1/scratch/jqs1/microscopy/230728/calibration/230728_ultrarainbow_51zstack_1fov_nocy7.nd2\"\n",
    "nd2 = nd2reader.ND2Reader(filename)"
   ]
  },
  {
   "cell_type": "code",
   "execution_count": null,
   "id": "45",
   "metadata": {},
   "outputs": [],
   "source": [
    "nd2.sizes"
   ]
  },
  {
   "cell_type": "code",
   "execution_count": null,
   "id": "46",
   "metadata": {},
   "outputs": [],
   "source": [
    "focus_metrics = [\n",
    "    np.array(\n",
    "        [\n",
    "            focus.gra7(nd2.get_frame_2D(v=0, t=0, z=z, c=c))\n",
    "            for z in trange(nd2.sizes[\"z\"])\n",
    "        ]\n",
    "    )\n",
    "    for c in trange(nd2.sizes[\"c\"])\n",
    "]"
   ]
  },
  {
   "cell_type": "code",
   "execution_count": null,
   "id": "47",
   "metadata": {},
   "outputs": [],
   "source": [
    "hv.Overlay(\n",
    "    [\n",
    "        hv.Curve(channel_focus / channel_focus.max(), label=channel)\n",
    "        for channel_focus, channel in zip(focus_metrics, nd2.metadata[\"channels\"])\n",
    "    ]\n",
    ")"
   ]
  },
  {
   "cell_type": "code",
   "execution_count": null,
   "id": "48",
   "metadata": {},
   "outputs": [],
   "source": [
    "hv.HoloMap(\n",
    "    {\n",
    "        z: ui.RevImage(nd2.get_frame_2D(v=0, t=0, z=z, c=0)[:500, :500])\n",
    "        for z in trange(20)\n",
    "    }\n",
    ")"
   ]
  },
  {
   "cell_type": "code",
   "execution_count": null,
   "id": "49",
   "metadata": {},
   "outputs": [],
   "source": [
    "display_image(nd2.get_frame_2D(v=0, t=0, z=5, c=0), scale=0.9999)"
   ]
  },
  {
   "cell_type": "code",
   "execution_count": null,
   "id": "50",
   "metadata": {},
   "outputs": [],
   "source": [
    "img_labels = segment_puncta(nd2.get_frame_2D(v=0, t=0, z=20, c=1))\n",
    "dfs = {\n",
    "    z: measure_puncta(nd2.get_frame_2D(v=0, t=0, z=z, c=1), img_labels)\n",
    "    for z in trange(nd2.sizes[\"z\"])\n",
    "}"
   ]
  },
  {
   "cell_type": "code",
   "execution_count": null,
   "id": "51",
   "metadata": {},
   "outputs": [],
   "source": [
    "hv.HoloMap(\n",
    "    {\n",
    "        z: dfs[z].hvplot.scatter(\n",
    "            \"centroid_weighted-1\",\n",
    "            \"centroid_weighted-0\",\n",
    "            color=\"moments_weighted_central-0-0\",\n",
    "        )\n",
    "        for z in range(nd2.sizes[\"z\"])\n",
    "    }\n",
    ")"
   ]
  },
  {
   "cell_type": "code",
   "execution_count": null,
   "id": "52",
   "metadata": {},
   "outputs": [],
   "source": [
    "hv.Overlay(\n",
    "    [\n",
    "        hv.Curve(channel_focus / channel_focus.max(), label=channel)\n",
    "        for (z, channel in zip(dfs.items(), ())\n",
    "    ]\n",
    ")"
   ]
  },
  {
   "cell_type": "markdown",
   "id": "53",
   "metadata": {},
   "source": [
    "# Translation"
   ]
  },
  {
   "cell_type": "code",
   "execution_count": null,
   "id": "54",
   "metadata": {},
   "outputs": [],
   "source": [
    "# Cy7 translation, GFP/YFP translations\n",
    "# better SNR Cy5?\n",
    "# measure focus offset in PFS units, verify"
   ]
  },
  {
   "cell_type": "code",
   "execution_count": null,
   "id": "55",
   "metadata": {},
   "outputs": [],
   "source": [
    "# filename = \"/home/jqs1/scratch/jqs1/microscopy/230726/calibration/230726_ultrarainbow_40x40_Cy5-EM.nd2\"\n",
    "filename = \"/home/jqs1/scratch/jqs1/microscopy/230726/calibration/230726_ultrarainbow_40x40_zstack_nocy7_fov1.nd2\"\n",
    "nd2 = nd2reader.ND2Reader(filename)"
   ]
  },
  {
   "cell_type": "code",
   "execution_count": null,
   "id": "56",
   "metadata": {},
   "outputs": [],
   "source": [
    "nd2.metadata[\"channels\"]"
   ]
  },
  {
   "cell_type": "code",
   "execution_count": null,
   "id": "57",
   "metadata": {},
   "outputs": [],
   "source": [
    "img = nd2.get_frame_2D(v=0, t=0, z=8, c=1)"
   ]
  },
  {
   "cell_type": "code",
   "execution_count": null,
   "id": "58",
   "metadata": {},
   "outputs": [],
   "source": [
    "import imageio.v3 as iio"
   ]
  },
  {
   "cell_type": "code",
   "execution_count": null,
   "id": "59",
   "metadata": {},
   "outputs": [],
   "source": [
    "iio.imwrite(\n",
    "    \"/home/jqs1/scratch/jqs1/microscopy/230726/calibration/beads_Cy5.tiff\",\n",
    "    img,\n",
    "    plugin=\"pillow\",\n",
    "    extension=\".tiff\",\n",
    ")"
   ]
  }
 ],
 "metadata": {
  "kernelspec": {
   "display_name": "Python 3 (ipykernel)",
   "language": "python",
   "name": "python3"
  },
  "language_info": {
   "codemirror_mode": {
    "name": "ipython",
    "version": 3
   },
   "file_extension": ".py",
   "mimetype": "text/x-python",
   "name": "python",
   "nbconvert_exporter": "python",
   "pygments_lexer": "ipython3",
   "version": "3.11.4"
  }
 },
 "nbformat": 4,
 "nbformat_minor": 4
}
