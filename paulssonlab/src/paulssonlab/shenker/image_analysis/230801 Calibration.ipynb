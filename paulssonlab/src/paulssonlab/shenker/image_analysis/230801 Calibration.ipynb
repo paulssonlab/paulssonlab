{
 "cells": [
  {
   "cell_type": "markdown",
   "id": "0",
   "metadata": {
    "tags": []
   },
   "source": [
    "# Imports"
   ]
  },
  {
   "cell_type": "code",
   "execution_count": null,
   "id": "1",
   "metadata": {},
   "outputs": [],
   "source": [
    "import itertools as it\n",
    "import os\n",
    "from functools import partial\n",
    "from pathlib import Path\n",
    "\n",
    "import dask\n",
    "import distributed\n",
    "import h5py\n",
    "import holoviews as hv\n",
    "import hvplot.pandas\n",
    "import matplotlib.pyplot as plt\n",
    "import nd2reader\n",
    "import numpy as np\n",
    "import pandas as pd\n",
    "import pyarrow as pa\n",
    "import pyarrow.parquet as pq\n",
    "import scipy\n",
    "import skimage.measure\n",
    "import zarr\n",
    "from dask import delayed\n",
    "from dask_jobqueue import SLURMCluster\n",
    "from distributed import Client, LocalCluster, progress\n",
    "from holoviews.operation.datashader import regrid\n",
    "from tqdm.auto import tqdm, trange\n",
    "\n",
    "IDX = pd.IndexSlice"
   ]
  },
  {
   "cell_type": "code",
   "execution_count": null,
   "id": "2",
   "metadata": {},
   "outputs": [],
   "source": [
    "%load_ext autoreload\n",
    "%autoreload 2"
   ]
  },
  {
   "cell_type": "code",
   "execution_count": null,
   "id": "3",
   "metadata": {},
   "outputs": [],
   "source": [
    "from paulssonlab.image_analysis import *\n",
    "from paulssonlab.image_analysis.ui import display_image"
   ]
  },
  {
   "cell_type": "code",
   "execution_count": null,
   "id": "4",
   "metadata": {},
   "outputs": [],
   "source": [
    "%load_ext pyinstrument"
   ]
  },
  {
   "cell_type": "code",
   "execution_count": null,
   "id": "5",
   "metadata": {},
   "outputs": [],
   "source": [
    "hv.extension(\"bokeh\")"
   ]
  },
  {
   "cell_type": "markdown",
   "id": "6",
   "metadata": {},
   "source": [
    "# Config"
   ]
  },
  {
   "cell_type": "code",
   "execution_count": null,
   "id": "7",
   "metadata": {},
   "outputs": [],
   "source": [
    "cluster = SLURMCluster(\n",
    "    queue=\"short\",\n",
    "    walltime=\"06:00:00\",\n",
    "    memory=\"2GB\",\n",
    "    local_directory=\"/tmp\",\n",
    "    log_directory=\"/home/jqs1/log\",\n",
    "    cores=1,\n",
    "    processes=1,\n",
    ")\n",
    "client = Client(cluster)"
   ]
  },
  {
   "cell_type": "code",
   "execution_count": null,
   "id": "8",
   "metadata": {},
   "outputs": [],
   "source": [
    "cluster"
   ]
  },
  {
   "cell_type": "code",
   "execution_count": null,
   "id": "9",
   "metadata": {},
   "outputs": [],
   "source": [
    "cluster.scale(1)"
   ]
  },
  {
   "cell_type": "code",
   "execution_count": null,
   "id": "10",
   "metadata": {},
   "outputs": [],
   "source": [
    "cluster.adapt(maximum=20)"
   ]
  },
  {
   "cell_type": "markdown",
   "id": "11",
   "metadata": {},
   "source": [
    "# Focus"
   ]
  },
  {
   "cell_type": "code",
   "execution_count": null,
   "id": "12",
   "metadata": {},
   "outputs": [],
   "source": [
    "filename = \"/home/jqs1/scratch/jqs1/microscopy/230726/calibration/230726_ultrarainbow_40x40_zstack_nocy7_fov1.nd2\""
   ]
  },
  {
   "cell_type": "code",
   "execution_count": null,
   "id": "13",
   "metadata": {},
   "outputs": [],
   "source": [
    "nd2 = nd2reader.ND2Reader(filename)"
   ]
  },
  {
   "cell_type": "code",
   "execution_count": null,
   "id": "14",
   "metadata": {},
   "outputs": [],
   "source": [
    "nd2.sizes"
   ]
  },
  {
   "cell_type": "code",
   "execution_count": null,
   "id": "15",
   "metadata": {},
   "outputs": [],
   "source": [
    "nd2.metadata[\"channels\"]"
   ]
  },
  {
   "cell_type": "code",
   "execution_count": null,
   "id": "16",
   "metadata": {},
   "outputs": [],
   "source": [
    "display_image(\n",
    "    nd2.get_frame_2D(v=0, t=0, z=8, c=1)[2000:2500, 1000:1500], scale=1, downsample=1\n",
    ")"
   ]
  },
  {
   "cell_type": "code",
   "execution_count": null,
   "id": "17",
   "metadata": {},
   "outputs": [],
   "source": [
    "focus_func = lap4\n",
    "metric = [\n",
    "    lap4(nd2.get_frame_2D(v=0, t=0, z=z, c=1)[2000:2500, 1000:1500])\n",
    "    for z in trange(nd2.sizes[\"z\"])\n",
    "]"
   ]
  },
  {
   "cell_type": "code",
   "execution_count": null,
   "id": "18",
   "metadata": {},
   "outputs": [],
   "source": [
    "hv.Curve(metric)"
   ]
  },
  {
   "cell_type": "code",
   "execution_count": null,
   "id": "19",
   "metadata": {},
   "outputs": [],
   "source": [
    "focus_funcs = [lap4, gra6, gra7, sta3]\n",
    "d = [\n",
    "    np.array(\n",
    "        [\n",
    "            focus_func(nd2.get_frame_2D(v=0, t=0, z=z, c=0)[2000:2500, 1000:1500])\n",
    "            for z in trange(nd2.sizes[\"z\"])\n",
    "        ]\n",
    "    )\n",
    "    for focus_func in tqdm(focus_funcs)\n",
    "]"
   ]
  },
  {
   "cell_type": "code",
   "execution_count": null,
   "id": "20",
   "metadata": {},
   "outputs": [],
   "source": [
    "hv.Overlay(\n",
    "    [\n",
    "        hv.Curve(dd / dd.max(), label=focus_func.__name__)\n",
    "        for dd, focus_func in zip(d, focus_funcs)\n",
    "    ]\n",
    ")"
   ]
  },
  {
   "cell_type": "code",
   "execution_count": null,
   "id": "21",
   "metadata": {},
   "outputs": [],
   "source": [
    "hv.Overlay(\n",
    "    [\n",
    "        hv.Curve(dd / dd.max(), label=focus_func.__name__)\n",
    "        for dd, focus_func in zip(d, focus_funcs)\n",
    "    ]\n",
    ")"
   ]
  },
  {
   "cell_type": "code",
   "execution_count": null,
   "id": "22",
   "metadata": {},
   "outputs": [],
   "source": [
    "d2 = [\n",
    "    np.array(\n",
    "        [\n",
    "            gra7(nd2.get_frame_2D(v=0, t=0, z=z, c=c)[2000:2500, 1000:1500])\n",
    "            for z in trange(nd2.sizes[\"z\"])\n",
    "        ]\n",
    "    )\n",
    "    for c in trange(nd2.sizes[\"c\"])\n",
    "]"
   ]
  },
  {
   "cell_type": "code",
   "execution_count": null,
   "id": "23",
   "metadata": {},
   "outputs": [],
   "source": [
    "hv.Overlay(\n",
    "    [\n",
    "        hv.Curve(dd / dd.max(), label=channel)\n",
    "        for dd, channel in zip(d2, nd2.metadata[\"channels\"])\n",
    "    ]\n",
    ")"
   ]
  },
  {
   "cell_type": "code",
   "execution_count": null,
   "id": "24",
   "metadata": {},
   "outputs": [],
   "source": [
    "# histogram equilibrization (better background subtraction/normalization)\n",
    "# use bead moments to calculate focus, allow moving-window averaging\n",
    "# find focus offset in PFS units\n",
    "# look for spatial variation of focus"
   ]
  },
  {
   "cell_type": "markdown",
   "id": "25",
   "metadata": {},
   "source": [
    "# Bead segmentation"
   ]
  },
  {
   "cell_type": "code",
   "execution_count": null,
   "id": "26",
   "metadata": {},
   "outputs": [],
   "source": [
    "from sklearn.neighbors import KDTree\n",
    "\n",
    "\n",
    "def segment_puncta(\n",
    "    img, low_sigma=0.5, high_sigma=30, expand=2, filter=True, filter_kwargs=None\n",
    "):\n",
    "    img_dog = skimage.filters.difference_of_gaussians(img, low_sigma, high_sigma)\n",
    "    img_mask = img_dog > skimage.filters.threshold_otsu(img_dog)\n",
    "    img_labels = skimage.measure.label(img_mask)\n",
    "    if expand is not None:\n",
    "        img_labels = skimage.segmentation.expand_labels(img_labels, expand)\n",
    "    if filter:\n",
    "        img_labels = filter_puncta(img, img_labels, **(filter_kwargs or {}))\n",
    "    return img_labels\n",
    "\n",
    "\n",
    "def nearest_neighbors(df):\n",
    "    X = np.stack((df[\"centroid_weighted-0\"], df[\"centroid_weighted-1\"]), axis=1)\n",
    "    kdtree = KDTree(X)\n",
    "    dists, idxs = kdtree.query(X, k=2)\n",
    "    # get nearest non-identical neighbor\n",
    "    dists = dists[:, 1]\n",
    "    idxs = idxs[:, 1]\n",
    "    return dists, idxs\n",
    "\n",
    "\n",
    "def filter_puncta(img, img_labels, min_dist=15, max_intensity_factor=1.3):\n",
    "    df = measure_puncta(img, img_labels)\n",
    "    # filter out points with nearest neighbors closer than min_dist\n",
    "    dists, idxs = nearest_neighbors(df)\n",
    "    max_intensity = df[\"moments_weighted_central-0-0\"].median() * max_intensity_factor\n",
    "    bad_labels = df[\"label\"][\n",
    "        (dists < min_dist) | (df[\"moments_weighted_central-0-0\"] > max_intensity)\n",
    "    ]\n",
    "    new_img_labels = img_labels.copy()\n",
    "    img_mask = np.isin(img_labels, bad_labels)\n",
    "    new_img_labels[img_mask] = 0  # set to background\n",
    "    return new_img_labels\n",
    "\n",
    "\n",
    "def measure_puncta(img, img_labels=None):\n",
    "    if img_labels is None:\n",
    "        img_labels = segment_points(img)\n",
    "    background = np.median(img[img_labels == 0])\n",
    "    # subtract background (note that some pixels may be negative)\n",
    "    img_bgsub = img - background\n",
    "    # normalize image\n",
    "    img_bgsub /= img_bgsub.max()\n",
    "    df = pd.DataFrame(\n",
    "        skimage.measure.regionprops_table(\n",
    "            img_labels,\n",
    "            img_bgsub,\n",
    "            properties=(\n",
    "                \"label\",\n",
    "                \"centroid_weighted\",\n",
    "                \"area\",\n",
    "                \"moments_weighted_central\",\n",
    "            ),\n",
    "        )\n",
    "    )\n",
    "    # TODO: check for off-by-one\n",
    "    center_y = (img.shape[0] + 1) / 2\n",
    "    center_x = (img.shape[1] + 1) / 2\n",
    "    df[\"radius\"] = np.sqrt(\n",
    "        (df[\"centroid_weighted-0\"] - center_y) ** 2\n",
    "        + (df[\"centroid_weighted-1\"] - center_x) ** 2\n",
    "    )\n",
    "    return df"
   ]
  },
  {
   "cell_type": "code",
   "execution_count": null,
   "id": "27",
   "metadata": {},
   "outputs": [],
   "source": [
    "img = nd2.get_frame_2D(v=0, t=0, z=20, c=1)[:500, :500]"
   ]
  },
  {
   "cell_type": "code",
   "execution_count": null,
   "id": "28",
   "metadata": {},
   "outputs": [],
   "source": [
    "img_labels = segment_puncta(img, filter=False)"
   ]
  },
  {
   "cell_type": "code",
   "execution_count": null,
   "id": "29",
   "metadata": {},
   "outputs": [],
   "source": [
    "img_labels2 = segment_puncta(img, filter=True)"
   ]
  },
  {
   "cell_type": "code",
   "execution_count": null,
   "id": "30",
   "metadata": {},
   "outputs": [],
   "source": [
    "df = measure_puncta(img, img_labels2)"
   ]
  },
  {
   "cell_type": "code",
   "execution_count": null,
   "id": "31",
   "metadata": {},
   "outputs": [],
   "source": [
    "df[\"dist\"] = nearest_neighbors(df)[0]"
   ]
  },
  {
   "cell_type": "code",
   "execution_count": null,
   "id": "32",
   "metadata": {},
   "outputs": [],
   "source": [
    "df.hvplot.scatter(\"centroid_weighted-1\", \"centroid_weighted-0\", c=\"dist\")"
   ]
  },
  {
   "cell_type": "code",
   "execution_count": null,
   "id": "33",
   "metadata": {},
   "outputs": [],
   "source": [
    "df.hvplot.hist(\"moments_weighted_central-0-0\", bins=100)"
   ]
  },
  {
   "cell_type": "code",
   "execution_count": null,
   "id": "34",
   "metadata": {},
   "outputs": [],
   "source": [
    "df[\"moments_weighted_central-0-0\"].median() * 1.3"
   ]
  },
  {
   "cell_type": "code",
   "execution_count": null,
   "id": "35",
   "metadata": {},
   "outputs": [],
   "source": [
    "# df2 = df[df[\"dist\"] > 12]\n",
    "df2 = df[df[\"moments_weighted_central-0-0\"] < 6]"
   ]
  },
  {
   "cell_type": "code",
   "execution_count": null,
   "id": "36",
   "metadata": {},
   "outputs": [],
   "source": [
    "plt.figure(figsize=(20, 20), dpi=200)\n",
    "plt.imshow(skimage.color.label2rgb(img_labels, img * 50))\n",
    "plt.plot(\n",
    "    df[\"centroid_weighted-1\"],\n",
    "    df[\"centroid_weighted-0\"],\n",
    "    marker=\"o\",\n",
    "    mfc=\"none\",\n",
    "    c=\"red\",\n",
    "    markersize=8,\n",
    "    lw=0,\n",
    "    markeredgewidth=1,\n",
    ");"
   ]
  },
  {
   "cell_type": "code",
   "execution_count": null,
   "id": "37",
   "metadata": {},
   "outputs": [],
   "source": [
    "display_image(skimage.color.label2rgb(img_labels, img * 50))"
   ]
  },
  {
   "cell_type": "code",
   "execution_count": null,
   "id": "38",
   "metadata": {},
   "outputs": [],
   "source": [
    "display_image(skimage.color.label2rgb(img_labels2, img * 50))"
   ]
  },
  {
   "cell_type": "code",
   "execution_count": null,
   "id": "39",
   "metadata": {},
   "outputs": [],
   "source": [
    "display_image(img, scale=0.999)"
   ]
  },
  {
   "cell_type": "code",
   "execution_count": null,
   "id": "40",
   "metadata": {},
   "outputs": [],
   "source": [
    "plt.figure(figsize=(20, 20), dpi=200)\n",
    "plt.imshow(skimage.color.label2rgb(img_labels, img * 50))\n",
    "plt.plot(\n",
    "    df[\"centroid_weighted-1\"],\n",
    "    df[\"centroid_weighted-0\"],\n",
    "    marker=\"o\",\n",
    "    mfc=\"none\",\n",
    "    c=\"red\",\n",
    "    markersize=4,\n",
    "    lw=0,\n",
    "    markeredgewidth=0.5,\n",
    ");"
   ]
  },
  {
   "cell_type": "code",
   "execution_count": null,
   "id": "41",
   "metadata": {},
   "outputs": [],
   "source": [
    "filename = \"/home/jqs1/scratch/jqs1/microscopy/230728/calibration/230728_ultrarainbow_64fov_cy5.nd2\"\n",
    "nd2 = nd2reader.ND2Reader(filename)"
   ]
  },
  {
   "cell_type": "code",
   "execution_count": null,
   "id": "42",
   "metadata": {},
   "outputs": [],
   "source": [
    "nd2.sizes"
   ]
  },
  {
   "cell_type": "code",
   "execution_count": null,
   "id": "43",
   "metadata": {},
   "outputs": [],
   "source": [
    "%%time\n",
    "img = nd2.get_frame_2D(v=0, t=0, z=0, c=0)\n",
    "df = measure_points(img)"
   ]
  },
  {
   "cell_type": "code",
   "execution_count": null,
   "id": "44",
   "metadata": {},
   "outputs": [],
   "source": [
    "plt.hist(df[\"area\"], bins=100);"
   ]
  },
  {
   "cell_type": "code",
   "execution_count": null,
   "id": "45",
   "metadata": {},
   "outputs": [],
   "source": [
    "plt.hist(dists, bins=100);"
   ]
  },
  {
   "cell_type": "code",
   "execution_count": null,
   "id": "46",
   "metadata": {},
   "outputs": [],
   "source": [
    "df.hvplot.hist(\"moments_weighted_central-0-0\", bins=100)"
   ]
  },
  {
   "cell_type": "code",
   "execution_count": null,
   "id": "47",
   "metadata": {},
   "outputs": [],
   "source": [
    "df"
   ]
  },
  {
   "cell_type": "code",
   "execution_count": null,
   "id": "48",
   "metadata": {},
   "outputs": [],
   "source": [
    "plt.figure(figsize=(20, 20), dpi=200)\n",
    "plt.imshow(img_bgsub, vmin=0, vmax=0.1)\n",
    "plt.plot(\n",
    "    df[\"centroid_weighted-1\"],\n",
    "    df[\"centroid_weighted-0\"],\n",
    "    marker=\"o\",\n",
    "    mfc=\"none\",\n",
    "    c=\"red\",\n",
    "    markersize=4,\n",
    "    lw=0,\n",
    "    markeredgewidth=0.5,\n",
    ");"
   ]
  },
  {
   "cell_type": "code",
   "execution_count": null,
   "id": "49",
   "metadata": {},
   "outputs": [],
   "source": [
    "plt.figure(figsize=(20, 20), dpi=200)\n",
    "plt.imshow(skimage.color.label2rgb(img_labels, img * 50))\n",
    "plt.plot(\n",
    "    df2[\"centroid_weighted-1\"],\n",
    "    df2[\"centroid_weighted-0\"],\n",
    "    marker=\"o\",\n",
    "    mfc=\"none\",\n",
    "    c=\"red\",\n",
    "    markersize=4,\n",
    "    lw=0,\n",
    "    markeredgewidth=0.5,\n",
    ");"
   ]
  },
  {
   "cell_type": "code",
   "execution_count": null,
   "id": "50",
   "metadata": {},
   "outputs": [],
   "source": [
    "df3 = df2[df2[\"moments_weighted_central-0-0\"] > 3]\n",
    "plt.figure(figsize=(20, 20), dpi=300)\n",
    "plt.imshow(skimage.color.label2rgb(img_labels, img * 50))\n",
    "plt.plot(\n",
    "    df3[\"centroid_weighted-1\"],\n",
    "    df3[\"centroid_weighted-0\"],\n",
    "    marker=\"o\",\n",
    "    mfc=\"none\",\n",
    "    c=\"red\",\n",
    "    markersize=4,\n",
    "    lw=0,\n",
    "    markeredgewidth=0.5,\n",
    ");"
   ]
  },
  {
   "cell_type": "markdown",
   "id": "51",
   "metadata": {},
   "source": [
    "# Focus visualizations"
   ]
  },
  {
   "cell_type": "markdown",
   "id": "52",
   "metadata": {},
   "source": [
    "## Spatial"
   ]
  },
  {
   "cell_type": "code",
   "execution_count": null,
   "id": "53",
   "metadata": {},
   "outputs": [],
   "source": [
    "filename = \"/home/jqs1/scratch/jqs1/microscopy/230728/calibration/230728_ultrarainbow_64fov_cy5.nd2\"\n",
    "nd2 = nd2reader.ND2Reader(filename)"
   ]
  },
  {
   "cell_type": "code",
   "execution_count": null,
   "id": "54",
   "metadata": {},
   "outputs": [],
   "source": [
    "img = nd2.get_frame_2D(v=0, t=0, z=0, c=0)"
   ]
  },
  {
   "cell_type": "code",
   "execution_count": null,
   "id": "55",
   "metadata": {},
   "outputs": [],
   "source": [
    "df = measure_puncta(img)"
   ]
  },
  {
   "cell_type": "code",
   "execution_count": null,
   "id": "56",
   "metadata": {},
   "outputs": [],
   "source": [
    "df2 = df.assign(\n",
    "    width=df[\"moments_weighted_central-2-2\"] / df[\"moments_weighted_central-0-0\"]\n",
    ")\n",
    "df2 = df2[df2[\"width\"].between(0, 20)]\n",
    "df2.hvplot.scatter(\"centroid_weighted-1\", \"centroid_weighted-0\", color=\"width\")"
   ]
  },
  {
   "cell_type": "markdown",
   "id": "57",
   "metadata": {},
   "source": [
    "## Z stack"
   ]
  },
  {
   "cell_type": "code",
   "execution_count": null,
   "id": "58",
   "metadata": {},
   "outputs": [],
   "source": [
    "filename = \"/home/jqs1/scratch/jqs1/microscopy/230728/calibration/230728_ultrarainbow_51zstack_1fov_nocy7.nd2\"\n",
    "nd2 = nd2reader.ND2Reader(filename)"
   ]
  },
  {
   "cell_type": "code",
   "execution_count": null,
   "id": "59",
   "metadata": {},
   "outputs": [],
   "source": [
    "nd2.sizes"
   ]
  },
  {
   "cell_type": "code",
   "execution_count": null,
   "id": "60",
   "metadata": {},
   "outputs": [],
   "source": [
    "focus_metrics = [\n",
    "    np.array(\n",
    "        [\n",
    "            focus.gra7(nd2.get_frame_2D(v=0, t=0, z=z, c=c))\n",
    "            for z in trange(nd2.sizes[\"z\"])\n",
    "        ]\n",
    "    )\n",
    "    for c in trange(nd2.sizes[\"c\"])\n",
    "]"
   ]
  },
  {
   "cell_type": "code",
   "execution_count": null,
   "id": "61",
   "metadata": {},
   "outputs": [],
   "source": [
    "hv.Overlay(\n",
    "    [\n",
    "        hv.Curve(channel_focus / channel_focus.max(), label=channel)\n",
    "        for channel_focus, channel in zip(focus_metrics, nd2.metadata[\"channels\"])\n",
    "    ]\n",
    ")"
   ]
  },
  {
   "cell_type": "code",
   "execution_count": null,
   "id": "62",
   "metadata": {},
   "outputs": [],
   "source": [
    "hv.HoloMap(\n",
    "    {\n",
    "        z: ui.RevImage(nd2.get_frame_2D(v=0, t=0, z=z, c=0)[:500, :500])\n",
    "        for z in trange(20)\n",
    "    }\n",
    ")"
   ]
  },
  {
   "cell_type": "code",
   "execution_count": null,
   "id": "63",
   "metadata": {},
   "outputs": [],
   "source": [
    "display_image(nd2.get_frame_2D(v=0, t=0, z=5, c=0), scale=0.9999)"
   ]
  },
  {
   "cell_type": "code",
   "execution_count": null,
   "id": "64",
   "metadata": {},
   "outputs": [],
   "source": [
    "img_labels = segment_puncta(nd2.get_frame_2D(v=0, t=0, z=20, c=1)[:500, :500])\n",
    "dfs = {\n",
    "    z: measure_puncta(nd2.get_frame_2D(v=0, t=0, z=z, c=1)[:500, :500], img_labels)\n",
    "    for z in trange(nd2.sizes[\"z\"])\n",
    "}"
   ]
  },
  {
   "cell_type": "code",
   "execution_count": null,
   "id": "65",
   "metadata": {},
   "outputs": [],
   "source": [
    "dfs.keys()"
   ]
  },
  {
   "cell_type": "code",
   "execution_count": null,
   "id": "66",
   "metadata": {},
   "outputs": [],
   "source": [
    "display_image(\n",
    "    skimage.color.label2rgb(\n",
    "        img_labels, nd2.get_frame_2D(v=0, t=0, z=20, c=1)[:500, :500] * 50\n",
    "    )\n",
    ")"
   ]
  },
  {
   "cell_type": "code",
   "execution_count": null,
   "id": "67",
   "metadata": {},
   "outputs": [],
   "source": [
    "dfs[0]"
   ]
  },
  {
   "cell_type": "code",
   "execution_count": null,
   "id": "68",
   "metadata": {},
   "outputs": [],
   "source": [
    "display_image(nd2.get_frame_2D(v=0, t=0, z=20, c=1)[:500, :500], scale=0.999)"
   ]
  },
  {
   "cell_type": "code",
   "execution_count": null,
   "id": "69",
   "metadata": {},
   "outputs": [],
   "source": [
    "len(dfs[50])"
   ]
  },
  {
   "cell_type": "code",
   "execution_count": null,
   "id": "70",
   "metadata": {},
   "outputs": [],
   "source": [
    "metrics = {\n",
    "    column: {\n",
    "        idx: np.array([dfs[z][column].iloc[idx] for z in range(nd2.sizes[\"z\"])])\n",
    "        for idx in range(len(dfs[0]))\n",
    "    }\n",
    "    for column in (\"moments_weighted_central-0-0\",)\n",
    "}"
   ]
  },
  {
   "cell_type": "code",
   "execution_count": null,
   "id": "71",
   "metadata": {},
   "outputs": [],
   "source": [
    "hv.HoloMap(\n",
    "    {\n",
    "        z: dfs[z].hvplot.scatter(\n",
    "            \"centroid_weighted-1\",\n",
    "            \"centroid_weighted-0\",\n",
    "            color=\"moments_weighted_central-0-0\",\n",
    "        )\n",
    "        for z in range(nd2.sizes[\"z\"])\n",
    "    }\n",
    ")"
   ]
  },
  {
   "cell_type": "code",
   "execution_count": null,
   "id": "72",
   "metadata": {},
   "outputs": [],
   "source": [
    "hv.Overlay(\n",
    "    [\n",
    "        hv.Curve(channel_focus / channel_focus.max(), label=channel)\n",
    "        for (z, channel in zip(dfs.items(), ())\n",
    "    ]\n",
    ")"
   ]
  },
  {
   "cell_type": "markdown",
   "id": "73",
   "metadata": {},
   "source": [
    "# Translation"
   ]
  },
  {
   "cell_type": "code",
   "execution_count": null,
   "id": "74",
   "metadata": {},
   "outputs": [],
   "source": [
    "# Cy7 translation, GFP/YFP translations\n",
    "# better SNR Cy5?\n",
    "# measure focus offset in PFS units, verify"
   ]
  },
  {
   "cell_type": "code",
   "execution_count": null,
   "id": "75",
   "metadata": {},
   "outputs": [],
   "source": [
    "# filename = \"/home/jqs1/scratch/jqs1/microscopy/230726/calibration/230726_ultrarainbow_40x40_Cy5-EM.nd2\"\n",
    "filename = \"/home/jqs1/scratch/jqs1/microscopy/230726/calibration/230726_ultrarainbow_40x40_zstack_nocy7_fov1.nd2\"\n",
    "nd2 = nd2reader.ND2Reader(filename)"
   ]
  },
  {
   "cell_type": "code",
   "execution_count": null,
   "id": "76",
   "metadata": {},
   "outputs": [],
   "source": [
    "nd2.metadata[\"channels\"]"
   ]
  },
  {
   "cell_type": "code",
   "execution_count": null,
   "id": "77",
   "metadata": {},
   "outputs": [],
   "source": [
    "img = nd2.get_frame_2D(v=0, t=0, z=8, c=1)"
   ]
  },
  {
   "cell_type": "code",
   "execution_count": null,
   "id": "78",
   "metadata": {},
   "outputs": [],
   "source": [
    "import imageio.v3 as iio"
   ]
  },
  {
   "cell_type": "code",
   "execution_count": null,
   "id": "79",
   "metadata": {},
   "outputs": [],
   "source": [
    "iio.imwrite(\n",
    "    \"/home/jqs1/scratch/jqs1/microscopy/230726/calibration/beads_Cy5.tiff\",\n",
    "    img,\n",
    "    plugin=\"pillow\",\n",
    "    extension=\".tiff\",\n",
    ")"
   ]
  }
 ],
 "metadata": {
  "kernelspec": {
   "display_name": "Python 3 (ipykernel)",
   "language": "python",
   "name": "python3"
  },
  "language_info": {
   "codemirror_mode": {
    "name": "ipython",
    "version": 3
   },
   "file_extension": ".py",
   "mimetype": "text/x-python",
   "name": "python",
   "nbconvert_exporter": "python",
   "pygments_lexer": "ipython3",
   "version": "3.11.4"
  }
 },
 "nbformat": 4,
 "nbformat_minor": 4
}
