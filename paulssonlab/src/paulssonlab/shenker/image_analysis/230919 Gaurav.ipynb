{
 "cells": [
  {
   "cell_type": "markdown",
   "id": "0",
   "metadata": {
    "tags": []
   },
   "source": [
    "# Imports"
   ]
  },
  {
   "cell_type": "code",
   "execution_count": null,
   "id": "1",
   "metadata": {},
   "outputs": [],
   "source": [
    "import glob\n",
    "import itertools as it\n",
    "import os\n",
    "import re\n",
    "from collections import namedtuple\n",
    "from functools import partial\n",
    "from pathlib import Path\n",
    "\n",
    "import dask\n",
    "import distributed\n",
    "import h5py\n",
    "import holoviews as hv\n",
    "import hvplot.pandas\n",
    "import matplotlib.pyplot as plt\n",
    "import nd2reader\n",
    "import numpy as np\n",
    "import pandas as pd\n",
    "import pyarrow as pa\n",
    "import pyarrow.dataset as ds\n",
    "import pyarrow.parquet as pq\n",
    "import skimage.measure\n",
    "import zarr\n",
    "from dask import delayed\n",
    "from dask_jobqueue import SLURMCluster\n",
    "from distributed import Client, LocalCluster, progress\n",
    "from holoviews.operation.datashader import regrid\n",
    "from tqdm.auto import tqdm, trange\n",
    "\n",
    "IDX = pd.IndexSlice"
   ]
  },
  {
   "cell_type": "code",
   "execution_count": null,
   "id": "2",
   "metadata": {
    "tags": []
   },
   "outputs": [],
   "source": [
    "from dask.diagnostics import ProgressBar\n",
    "\n",
    "ProgressBar().register()"
   ]
  },
  {
   "cell_type": "code",
   "execution_count": null,
   "id": "3",
   "metadata": {},
   "outputs": [],
   "source": [
    "%load_ext autoreload\n",
    "%autoreload 2"
   ]
  },
  {
   "cell_type": "code",
   "execution_count": null,
   "id": "4",
   "metadata": {},
   "outputs": [],
   "source": [
    "import paulssonlab.image_analysis.mosaic as mosaic\n",
    "from paulssonlab.image_analysis import *\n",
    "from paulssonlab.image_analysis.ui import display_image"
   ]
  },
  {
   "cell_type": "code",
   "execution_count": null,
   "id": "5",
   "metadata": {},
   "outputs": [],
   "source": [
    "%load_ext pyinstrument"
   ]
  },
  {
   "cell_type": "code",
   "execution_count": null,
   "id": "6",
   "metadata": {},
   "outputs": [],
   "source": [
    "hv.extension(\"bokeh\")"
   ]
  },
  {
   "cell_type": "markdown",
   "id": "7",
   "metadata": {},
   "source": [
    "# Config"
   ]
  },
  {
   "cell_type": "code",
   "execution_count": null,
   "id": "8",
   "metadata": {},
   "outputs": [],
   "source": [
    "# filename = \"/home/jqs1/scratch/jqs1/microscopy/230213/230213induction.nd2\"\n",
    "# filename = \"/home/jqs1/scratch/jqs1/microscopy/230215/230215induction.nd2\" #v=7\n",
    "# filename = \"/home/jqs1/scratch/jqs1/microscopy/230326/230326promrbs.nd2\" #v=8,t=10\n",
    "# filename = \"/home/jqs1/scratch/jqs1/microscopy/230404/230404_rbsprom.nd2\"\n",
    "# filename = workflow.SplitFilename(\n",
    "#     sorted(\n",
    "#         glob.glob(\n",
    "#             \"/home/jqs1/scratch/jqs1/microscopy/230619/230619_NAO745_repressilators_split.nd2*\"\n",
    "#         )\n",
    "#     )\n",
    "# )\n",
    "filename = workflow.SplitFilename(\n",
    "    sorted(\n",
    "        glob.glob(\n",
    "            \"/home/jqs1/scratch/jqs1/microscopy/230707/230707_repressilators_restart.nd2.split.a*\"\n",
    "        )\n",
    "    )\n",
    ")\n",
    "fish_filename = Path(filename).parent / \"FISH/real_run\""
   ]
  },
  {
   "cell_type": "code",
   "execution_count": null,
   "id": "9",
   "metadata": {},
   "outputs": [],
   "source": [
    "output_dir = Path(filename).parent / \"test_output\"\n",
    "output_dir.mkdir(exist_ok=True)"
   ]
  },
  {
   "cell_type": "code",
   "execution_count": null,
   "id": "10",
   "metadata": {},
   "outputs": [],
   "source": [
    "dataset = ds.dataset(\n",
    "    output_dir / \"test2/measurements\", format=\"parquet\", partitioning=\"hive\"\n",
    ")"
   ]
  },
  {
   "cell_type": "code",
   "execution_count": null,
   "id": "11",
   "metadata": {},
   "outputs": [],
   "source": [
    "%%time\n",
    "# df = dataset.to_table(filter=ds.field(\"position\") == 11).to_pandas()\n",
    "df = dataset.to_table().to_pandas()"
   ]
  },
  {
   "cell_type": "code",
   "execution_count": null,
   "id": "12",
   "metadata": {},
   "outputs": [],
   "source": [
    "df.info(verbose=True, memory_usage=\"deep\")"
   ]
  },
  {
   "cell_type": "code",
   "execution_count": null,
   "id": "13",
   "metadata": {},
   "outputs": [],
   "source": [
    "%%time\n",
    "df2 = (\n",
    "    df[df[\"observable\"] == \"p90\"]\n",
    "    .pivot_table(\n",
    "        columns=[\"channel\"], values=[\"value\"], index=[\"position\", \"roi_idx\", \"t\"]\n",
    "    )\n",
    "    .droplevel(0, axis=1)\n",
    "    # .droplevel([\"position\"])\n",
    "    # .reset_index(\"roi_idx\")\n",
    ").loc[:, [\"CFP-EM\", \"YFP-EM\", \"RFP-EM\"]]"
   ]
  },
  {
   "cell_type": "code",
   "execution_count": null,
   "id": "14",
   "metadata": {},
   "outputs": [],
   "source": [
    "df2.info(verbose=True, memory_usage=\"deep\")"
   ]
  },
  {
   "cell_type": "code",
   "execution_count": null,
   "id": "15",
   "metadata": {},
   "outputs": [],
   "source": [
    "df2.head()"
   ]
  },
  {
   "cell_type": "code",
   "execution_count": null,
   "id": "16",
   "metadata": {},
   "outputs": [],
   "source": [
    "df2.to_parquet(output_dir / \"test2/measurements_gaurav.parquet\", index=True)"
   ]
  },
  {
   "cell_type": "code",
   "execution_count": null,
   "id": "17",
   "metadata": {},
   "outputs": [],
   "source": [
    "(output_dir / \"test2/measurements_gaurav.parquet\")"
   ]
  },
  {
   "cell_type": "code",
   "execution_count": null,
   "id": "18",
   "metadata": {},
   "outputs": [],
   "source": [
    "!du -hs /home/jqs1/scratch/jqs1/microscopy/230707/test_output/test2/measurements_gaurav.parquet"
   ]
  },
  {
   "cell_type": "code",
   "execution_count": null,
   "id": "19",
   "metadata": {},
   "outputs": [],
   "source": [
    "list(df2.groupby([\"position\", \"roi_idx\"]))[1]"
   ]
  },
  {
   "cell_type": "code",
   "execution_count": null,
   "id": "20",
   "metadata": {},
   "outputs": [],
   "source": [
    "x = norm(df2.loc[(11, 21)].loc[IDX[40:], :])"
   ]
  },
  {
   "cell_type": "code",
   "execution_count": null,
   "id": "21",
   "metadata": {},
   "outputs": [],
   "source": [
    "pd.plotting.autocorrelation_plot(x[\"CFP-EM\"])"
   ]
  },
  {
   "cell_type": "code",
   "execution_count": null,
   "id": "22",
   "metadata": {},
   "outputs": [],
   "source": [
    "df2.reset_index()[df2.reset_index()[\"roi_idx\"] == 244]"
   ]
  },
  {
   "cell_type": "code",
   "execution_count": null,
   "id": "23",
   "metadata": {},
   "outputs": [],
   "source": [
    "norm(df2.loc[(11, 244)].loc[IDX[40:], :]).hvplot()"
   ]
  },
  {
   "cell_type": "code",
   "execution_count": null,
   "id": "24",
   "metadata": {},
   "outputs": [],
   "source": [
    "(df2.index.get_level_values(\"roi_idx\") == 244).sum()"
   ]
  },
  {
   "cell_type": "code",
   "execution_count": null,
   "id": "25",
   "metadata": {},
   "outputs": [],
   "source": [
    "roi_idxs = np.unique(\n",
    "    df2.index.get_level_values(\"roi_idx\")\n",
    ")  # df2.index.levels[df2.index.names.index(\"roi_idx\")]"
   ]
  },
  {
   "cell_type": "code",
   "execution_count": null,
   "id": "26",
   "metadata": {},
   "outputs": [],
   "source": [
    "hv.HoloMap(\n",
    "    {\n",
    "        t: norm(\n",
    "            groups[t][1].droplevel([\"position\", \"roi_idx\"]).loc[IDX[40:140], :]\n",
    "        ).hvplot(color=channel_colors)\n",
    "        for t in range(2)\n",
    "    }\n",
    ")"
   ]
  },
  {
   "cell_type": "code",
   "execution_count": null,
   "id": "27",
   "metadata": {},
   "outputs": [],
   "source": [
    "osc_roi_idxs = [\n",
    "    21,\n",
    "    57,\n",
    "    67,\n",
    "    103,\n",
    "    105,\n",
    "    107,\n",
    "    116,\n",
    "    149,\n",
    "    162,\n",
    "    170,\n",
    "    185,\n",
    "    191,\n",
    "    215,\n",
    "    237,\n",
    "    246,\n",
    "    252,\n",
    "    268,\n",
    "    285,\n",
    "    302,\n",
    "    319,\n",
    "    321,\n",
    "    342,\n",
    "    346,\n",
    "    375,\n",
    "    417,\n",
    "    432,\n",
    "    453,\n",
    "    454,\n",
    "    457,\n",
    "    462,\n",
    "    463,\n",
    "    535,\n",
    "    567,\n",
    "    588,\n",
    "    600,\n",
    "    638,\n",
    "    644,\n",
    "    650,\n",
    "    677,\n",
    "    680,\n",
    "    690,\n",
    "    707,\n",
    "]\n",
    "\n",
    "control_roi_idxs = [\n",
    "    404,\n",
    "    415,\n",
    "    420,\n",
    "    421,\n",
    "    429,\n",
    "    434,\n",
    "    440,\n",
    "    443,\n",
    "    444,\n",
    "    486,\n",
    "    500,\n",
    "    530,\n",
    "    580,\n",
    "    585,\n",
    "    593,\n",
    "    611,\n",
    "    617,\n",
    "    620,\n",
    "    624,\n",
    "    627,\n",
    "    629,\n",
    "    632,\n",
    "    634,\n",
    "    642,\n",
    "    651,\n",
    "    677,\n",
    "    682,\n",
    "    687,\n",
    "    696,\n",
    "    731,\n",
    "    733,\n",
    "]"
   ]
  },
  {
   "cell_type": "code",
   "execution_count": null,
   "id": "28",
   "metadata": {},
   "outputs": [],
   "source": [
    "(len(osc_roi_idxs), len(control_roi_idxs))"
   ]
  },
  {
   "cell_type": "code",
   "execution_count": null,
   "id": "29",
   "metadata": {},
   "outputs": [],
   "source": [
    "import imageio.v3 as iio"
   ]
  },
  {
   "cell_type": "code",
   "execution_count": null,
   "id": "30",
   "metadata": {},
   "outputs": [],
   "source": [
    "!rm -rf $output_dir/materials"
   ]
  },
  {
   "cell_type": "code",
   "execution_count": null,
   "id": "31",
   "metadata": {},
   "outputs": [],
   "source": [
    "(output_dir / \"materials\").mkdir()"
   ]
  },
  {
   "cell_type": "code",
   "execution_count": null,
   "id": "32",
   "metadata": {},
   "outputs": [],
   "source": [
    "hvplot.extension(\"matplotlib\")"
   ]
  },
  {
   "cell_type": "code",
   "execution_count": null,
   "id": "33",
   "metadata": {},
   "outputs": [],
   "source": [
    "# prefix = \"control_\"\n",
    "prefix = \"\"\n",
    "for roi_idx in tqdm(osc_roi_idxs):\n",
    "    # for roi_idx in tqdm(control_roi_idxs):\n",
    "    x = z[roi_idx, :t_max, :]\n",
    "    x = trim_axes(x, x != 0)\n",
    "    kymograph = np.concatenate(\n",
    "        [\n",
    "            image.colorize(\n",
    "                image.unstack(norm(x[40:180, i], 0.999))[np.newaxis],\n",
    "                [channel_colors[i]],\n",
    "            )\n",
    "            for i in range(ary.shape[1])\n",
    "        ],\n",
    "        axis=0,\n",
    "    )\n",
    "    iio.imwrite(\n",
    "        output_dir / f\"materials/{prefix}kymograph_{roi_idx}.png\",\n",
    "        (np.clip(kymograph, 0, 1) * 255).astype(np.uint8),\n",
    "        extension=\".png\",\n",
    "    )\n",
    "    trace_plot = (\n",
    "        norm(df2.loc[(11, roi_idx)].loc[IDX[40:180], :])\n",
    "        .hvplot(color=channel_colors)\n",
    "        .redim(value=\"fluorescence\")\n",
    "    )\n",
    "    hv.save(\n",
    "        trace_plot,\n",
    "        output_dir / f\"materials/{prefix}plot_{roi_idx}.png\",\n",
    "        fmt=\"png\",\n",
    "        dpi=200,\n",
    "        backend=\"matplotlib\",\n",
    "    )"
   ]
  },
  {
   "cell_type": "code",
   "execution_count": null,
   "id": "34",
   "metadata": {},
   "outputs": [],
   "source": [
    "groups = df2.groupby([\"position\", \"roi_idx\"], as_index=False, group_keys=False)"
   ]
  },
  {
   "cell_type": "code",
   "execution_count": null,
   "id": "35",
   "metadata": {},
   "outputs": [],
   "source": [
    "hv.HoloMap(\n",
    "    {\n",
    "        idx[1]: norm(group.droplevel([\"position\", \"roi_idx\"]).loc[IDX[40:], :]).hvplot(\n",
    "            color=channel_colors\n",
    "        )\n",
    "        for idx, group in groups\n",
    "    }\n",
    ")"
   ]
  },
  {
   "cell_type": "code",
   "execution_count": null,
   "id": "36",
   "metadata": {},
   "outputs": [],
   "source": [
    "(output_dir / \"materials\").mkdir()"
   ]
  },
  {
   "cell_type": "code",
   "execution_count": null,
   "id": "37",
   "metadata": {},
   "outputs": [],
   "source": [
    "hvplot.extension(\"matplotlib\")"
   ]
  },
  {
   "cell_type": "code",
   "execution_count": null,
   "id": "38",
   "metadata": {},
   "outputs": [],
   "source": [
    "plot = (\n",
    "    norm(df2.loc[(11, 67)].loc[IDX[40:180], :])\n",
    "    .hvplot(color=channel_colors)\n",
    "    .redim(value=\"fluorescence\")\n",
    ")\n",
    "hv.save(\n",
    "    plot, output_dir / \"materials/test1.png\", fmt=\"png\", dpi=200, backend=\"matplotlib\"\n",
    ")"
   ]
  }
 ],
 "metadata": {
  "kernelspec": {
   "display_name": "Python 3 (ipykernel)",
   "language": "python",
   "name": "python3"
  },
  "language_info": {
   "codemirror_mode": {
    "name": "ipython",
    "version": 3
   },
   "file_extension": ".py",
   "mimetype": "text/x-python",
   "name": "python",
   "nbconvert_exporter": "python",
   "pygments_lexer": "ipython3",
   "version": "3.11.4"
  }
 },
 "nbformat": 4,
 "nbformat_minor": 4
}
