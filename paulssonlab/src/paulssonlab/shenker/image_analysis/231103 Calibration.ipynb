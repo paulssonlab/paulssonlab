{
 "cells": [
  {
   "cell_type": "markdown",
   "id": "0",
   "metadata": {
    "tags": []
   },
   "source": [
    "# Imports"
   ]
  },
  {
   "cell_type": "code",
   "execution_count": null,
   "id": "1",
   "metadata": {},
   "outputs": [],
   "source": [
    "import glob\n",
    "import itertools as it\n",
    "import os\n",
    "from functools import partial\n",
    "from pathlib import Path\n",
    "\n",
    "import dask\n",
    "import distributed\n",
    "import h5py\n",
    "import holoviews as hv\n",
    "import hvplot.pandas\n",
    "import matplotlib.pyplot as plt\n",
    "import nd2reader\n",
    "import numpy as np\n",
    "import pandas as pd\n",
    "import pyarrow as pa\n",
    "import pyarrow.parquet as pq\n",
    "import scipy\n",
    "import skimage.measure\n",
    "import zarr\n",
    "from dask import delayed\n",
    "from dask_jobqueue import SLURMCluster\n",
    "from distributed import Client, LocalCluster, progress\n",
    "from holoviews.operation.datashader import regrid\n",
    "from tqdm.auto import tqdm, trange\n",
    "\n",
    "IDX = pd.IndexSlice"
   ]
  },
  {
   "cell_type": "code",
   "execution_count": null,
   "id": "2",
   "metadata": {},
   "outputs": [],
   "source": [
    "# TODO: does this help?\n",
    "# %config InlineBackend.figure_format = \"jpg\""
   ]
  },
  {
   "cell_type": "code",
   "execution_count": null,
   "id": "3",
   "metadata": {},
   "outputs": [],
   "source": [
    "%load_ext autoreload\n",
    "%autoreload 2"
   ]
  },
  {
   "cell_type": "code",
   "execution_count": null,
   "id": "4",
   "metadata": {},
   "outputs": [],
   "source": [
    "import paulssonlab.image_analysis.calibration.distortion as distortion\n",
    "from paulssonlab.image_analysis import *\n",
    "from paulssonlab.image_analysis.ui import display_image"
   ]
  },
  {
   "cell_type": "code",
   "execution_count": null,
   "id": "5",
   "metadata": {},
   "outputs": [],
   "source": [
    "%load_ext pyinstrument"
   ]
  },
  {
   "cell_type": "code",
   "execution_count": null,
   "id": "6",
   "metadata": {},
   "outputs": [],
   "source": [
    "hv.extension(\"bokeh\")"
   ]
  },
  {
   "cell_type": "markdown",
   "id": "7",
   "metadata": {},
   "source": [
    "# Config"
   ]
  },
  {
   "cell_type": "code",
   "execution_count": null,
   "id": "8",
   "metadata": {},
   "outputs": [],
   "source": [
    "cluster = SLURMCluster(\n",
    "    queue=\"short\",\n",
    "    walltime=\"06:00:00\",\n",
    "    memory=\"2GB\",\n",
    "    local_directory=\"/tmp\",\n",
    "    log_directory=\"/home/jqs1/log\",\n",
    "    cores=1,\n",
    "    processes=1,\n",
    ")\n",
    "client = Client(cluster)"
   ]
  },
  {
   "cell_type": "code",
   "execution_count": null,
   "id": "9",
   "metadata": {},
   "outputs": [],
   "source": [
    "cluster"
   ]
  },
  {
   "cell_type": "code",
   "execution_count": null,
   "id": "10",
   "metadata": {},
   "outputs": [],
   "source": [
    "cluster.scale(1)"
   ]
  },
  {
   "cell_type": "code",
   "execution_count": null,
   "id": "11",
   "metadata": {},
   "outputs": [],
   "source": [
    "cluster.adapt(maximum=20)"
   ]
  },
  {
   "cell_type": "markdown",
   "id": "12",
   "metadata": {},
   "source": [
    "# Geometric distortion"
   ]
  },
  {
   "cell_type": "markdown",
   "id": "13",
   "metadata": {},
   "source": [
    "## Image correction is equivalent to coördinate correction"
   ]
  },
  {
   "cell_type": "code",
   "execution_count": null,
   "id": "14",
   "metadata": {},
   "outputs": [],
   "source": [
    "filename = \"/home/jqs1/scratch/jqs1/microscopy/230728/calibration/230728_ultrarainbow_64fov_cfp.nd2\"\n",
    "# filename = \"/home/jqs1/scratch/jqs1/microscopy/230728/calibration/230728_ultrarainbow_64fov_cy5.nd2\"\n",
    "nd2 = nd2reader.ND2Reader(filename)"
   ]
  },
  {
   "cell_type": "code",
   "execution_count": null,
   "id": "15",
   "metadata": {},
   "outputs": [],
   "source": [
    "%%time\n",
    "k1 = 7e-10\n",
    "img_distorted = nd2.get_frame_2D(v=fov1, t=t, z=z_idx, c=channel_idx)\n",
    "coords_distorted = distortion.df_to_coords(distortion.find_puncta(img_distorted))\n",
    "input_shape = img_distorted.shape\n",
    "input_center = image.center_from_shape(input_shape)\n",
    "output_shape, output_center = image.radial_distortion_output(\n",
    "    k1, input_shape, input_center\n",
    ")\n",
    "# output_shape not used\n",
    "coords_distorted_corrected = image.radial_distortion(\n",
    "    coords_distorted, k1=k1, input_center=input_center, output_center=output_center\n",
    ")\n",
    "img_corrected = image.correct_radial_distortion(img_distorted, k1=k1)\n",
    "coords_corrected = distortion.df_to_coords(distortion.find_puncta(img_corrected))"
   ]
  },
  {
   "cell_type": "code",
   "execution_count": null,
   "id": "16",
   "metadata": {},
   "outputs": [],
   "source": [
    "correspondence_dists, correspondence_idxs = distortion.nearest_neighbors(\n",
    "    coords_corrected, coords_distorted_corrected\n",
    ")"
   ]
  },
  {
   "cell_type": "code",
   "execution_count": null,
   "id": "17",
   "metadata": {},
   "outputs": [],
   "source": [
    "plt.hist(correspondence_dists, bins=100, log=True);"
   ]
  },
  {
   "cell_type": "code",
   "execution_count": null,
   "id": "18",
   "metadata": {},
   "outputs": [],
   "source": [
    "plt.figure(figsize=(30, 30), dpi=200)\n",
    "distortion.plot_puncta(\n",
    "    img=img_corrected,\n",
    "    coords=coords_corrected,\n",
    "    coords2=coords_distorted_corrected,\n",
    "    scale=0.99,\n",
    ")"
   ]
  },
  {
   "cell_type": "markdown",
   "id": "19",
   "metadata": {},
   "source": [
    "## Old"
   ]
  },
  {
   "cell_type": "code",
   "execution_count": null,
   "id": "20",
   "metadata": {},
   "outputs": [],
   "source": [
    "# Cy7 translation, GFP/YFP translations\n",
    "# better SNR Cy5?\n",
    "# measure focus offset in PFS units, verify"
   ]
  },
  {
   "cell_type": "code",
   "execution_count": null,
   "id": "21",
   "metadata": {},
   "outputs": [],
   "source": [
    "# filename = \"/home/jqs1/scratch/jqs1/microscopy/230726/calibration/230726_ultrarainbow_40x40_Cy5-EM.nd2\"\n",
    "filename = \"/home/jqs1/scratch/jqs1/microscopy/230728/calibration/230728_ultrarainbow_64fov_cfp.nd2\"\n",
    "# filename = \"/home/jqs1/scratch/jqs1/microscopy/230728/calibration/230728_ultrarainbow_64fov_cy5.nd2\"\n",
    "# filename = \"/home/jqs1/scratch/jqs1/microscopy/230726/calibration/230726_ultrarainbow_40x40_zstack_nocy7_fov1.nd2\"\n",
    "nd2 = nd2reader.ND2Reader(filename)"
   ]
  },
  {
   "cell_type": "code",
   "execution_count": null,
   "id": "22",
   "metadata": {},
   "outputs": [],
   "source": [
    "nd2.metadata[\"channels\"]"
   ]
  },
  {
   "cell_type": "code",
   "execution_count": null,
   "id": "23",
   "metadata": {},
   "outputs": [],
   "source": [
    "nd2.sizes"
   ]
  },
  {
   "cell_type": "code",
   "execution_count": null,
   "id": "24",
   "metadata": {},
   "outputs": [],
   "source": [
    "%%time\n",
    "img1_orig = nd2.get_frame_2D(v=0, t=0, z=0, c=0)  # [:500,:500]\n",
    "img2_orig = nd2.get_frame_2D(v=1, t=0, z=0, c=0)  # [:500,:500]\n",
    "# k1 = 5.199999999997459e-10\n",
    "k1 = 8.947368421052635e-10\n",
    "img1 = image.correct_radial_distortion(\n",
    "    nd2.get_frame_2D(v=0, t=0, z=0, c=0), k1=k1\n",
    ")  # [:500,:500]\n",
    "img2 = image.correct_radial_distortion(\n",
    "    nd2.get_frame_2D(v=1, t=0, z=0, c=0), k1=k1\n",
    ")  # [:500,:500]"
   ]
  },
  {
   "cell_type": "code",
   "execution_count": null,
   "id": "25",
   "metadata": {},
   "outputs": [],
   "source": [
    "%%time\n",
    "df1, img_labels = distortion.find_puncta(img1, filter=True, return_labels=True)"
   ]
  },
  {
   "cell_type": "code",
   "execution_count": null,
   "id": "26",
   "metadata": {},
   "outputs": [],
   "source": [
    "%%time\n",
    "df2 = distortion.find_puncta(img2, filter=True)"
   ]
  },
  {
   "cell_type": "code",
   "execution_count": null,
   "id": "27",
   "metadata": {},
   "outputs": [],
   "source": [
    "%%time\n",
    "df1_orig = distortion.find_puncta(img1_orig)\n",
    "df2_orig = distortion.find_puncta(img2_orig)"
   ]
  },
  {
   "cell_type": "code",
   "execution_count": null,
   "id": "28",
   "metadata": {},
   "outputs": [],
   "source": [
    "plt.figure(figsize=(30, 30), dpi=200)\n",
    "df1_orig_trans = distortion.translate_df(df1_orig, (-48, 0))\n",
    "distortion.plot_puncta(img=img2_orig, df=df1_orig_trans, df2=df2_orig, scale=0.999)"
   ]
  },
  {
   "cell_type": "code",
   "execution_count": null,
   "id": "29",
   "metadata": {},
   "outputs": [],
   "source": [
    "plt.figure(figsize=(30, 30), dpi=200)\n",
    "distortion.plot_puncta(img=img1, labels=None, df=df1, scale=0.999)"
   ]
  },
  {
   "cell_type": "code",
   "execution_count": null,
   "id": "30",
   "metadata": {},
   "outputs": [],
   "source": [
    "plt.figure(figsize=(30, 30), dpi=200)\n",
    "df_trans = distortion.translate_df(df, (-48, 0))\n",
    "distortion.plot_puncta(img=img2, df=df_trans, df2=df2, scale=0.999)"
   ]
  },
  {
   "cell_type": "code",
   "execution_count": null,
   "id": "31",
   "metadata": {},
   "outputs": [],
   "source": [
    "plt.figure(figsize=(30, 30), dpi=200)\n",
    "distortion.plot_puncta(img=img1, labels=None, df=df, scale=0.999)"
   ]
  },
  {
   "cell_type": "code",
   "execution_count": null,
   "id": "32",
   "metadata": {},
   "outputs": [],
   "source": [
    "plt.figure(figsize=(30, 30), dpi=200)\n",
    "df_trans = distortion.translate_df(df, (-48, 0))\n",
    "distortion.plot_puncta(img=img2, df=df_trans, scale=0.999)"
   ]
  },
  {
   "cell_type": "code",
   "execution_count": null,
   "id": "33",
   "metadata": {},
   "outputs": [],
   "source": [
    "%%time\n",
    "df2, img_labels = distortion.find_puncta(img2, filter=True, return_labels=True)"
   ]
  },
  {
   "cell_type": "code",
   "execution_count": null,
   "id": "34",
   "metadata": {},
   "outputs": [],
   "source": [
    "df_trans = distortion.translate_df(df, (-48, 0))\n",
    "nn = distortion.nearest_neighbors_df(df_trans, df2)"
   ]
  },
  {
   "cell_type": "code",
   "execution_count": null,
   "id": "35",
   "metadata": {},
   "outputs": [],
   "source": [
    "plt.hist(nn[0], bins=100, log=True);"
   ]
  },
  {
   "cell_type": "code",
   "execution_count": null,
   "id": "36",
   "metadata": {},
   "outputs": [],
   "source": [
    "# INPUT: use stage x/y to guess initial translations/rotations (0) for each FOV pair\n",
    "\n",
    "# LOOP until converged:\n",
    "# FOR EACH FOV PAIR: compute nearest neighbor correspondences\n",
    "# FOR EACH FOV PAIR: optimize translation/rotation for fixed coordinates\n",
    "# FOR ALL FOV PAIRS JOINTLY: optimize distortion params"
   ]
  },
  {
   "cell_type": "code",
   "execution_count": null,
   "id": "37",
   "metadata": {},
   "outputs": [],
   "source": [
    "xs = np.asarray(nd2._parser._raw_metadata.x_data)\n",
    "ys = np.asarray(nd2._parser._raw_metadata.y_data)"
   ]
  },
  {
   "cell_type": "code",
   "execution_count": null,
   "id": "38",
   "metadata": {},
   "outputs": [],
   "source": [
    "# init\n",
    "max_correspondence_dist = 5\n",
    "t = 0\n",
    "z_idx = 0\n",
    "channel_idx = 0\n",
    "coords = {}"
   ]
  },
  {
   "cell_type": "code",
   "execution_count": null,
   "id": "39",
   "metadata": {},
   "outputs": [],
   "source": [
    "pairs = it.pairwise(range(3))"
   ]
  },
  {
   "cell_type": "code",
   "execution_count": null,
   "id": "40",
   "metadata": {},
   "outputs": [],
   "source": [
    "# fov1, fov2 = (0, 1)\n",
    "fov1, fov2 = (6, 7)"
   ]
  },
  {
   "cell_type": "code",
   "execution_count": null,
   "id": "41",
   "metadata": {},
   "outputs": [],
   "source": [
    "%%time\n",
    "if (coords1 := coords.get(fov1)) is None:\n",
    "    img = nd2.get_frame_2D(v=fov1, t=t, z=z_idx, c=channel_idx)\n",
    "    shape = img.shape\n",
    "    coords1 = distortion.df_to_coords(distortion.find_puncta(img))\n",
    "    del img\n",
    "    coords[fov1] = coords1\n",
    "if (coords2 := coords.get(fov2)) is None:\n",
    "    img = nd2.get_frame_2D(v=fov2, t=t, z=z_idx, c=channel_idx)\n",
    "    coords2 = distortion.df_to_coords(distortion.find_puncta(img))\n",
    "    del img\n",
    "    coords[fov2] = coords2"
   ]
  },
  {
   "cell_type": "code",
   "execution_count": null,
   "id": "42",
   "metadata": {},
   "outputs": [],
   "source": [
    "stage_offset = np.array(\n",
    "    [\n",
    "        xs[fov2] - xs[fov1],\n",
    "        ys[fov2] - ys[fov1],\n",
    "    ]\n",
    ")\n",
    "objective_magnification = 20\n",
    "pixel_size = 4.25\n",
    "translation_guess = stage_offset * objective_magnification / pixel_size\n",
    "translation_guess"
   ]
  },
  {
   "cell_type": "code",
   "execution_count": null,
   "id": "43",
   "metadata": {},
   "outputs": [],
   "source": [
    "skimage.transform."
   ]
  },
  {
   "cell_type": "code",
   "execution_count": null,
   "id": "44",
   "metadata": {},
   "outputs": [],
   "source": [
    "tform = skimage.transform.EuclideanTransform(translation=translation_guess)\n",
    "# TODO: try TranslationTransform?"
   ]
  },
  {
   "cell_type": "code",
   "execution_count": null,
   "id": "45",
   "metadata": {},
   "outputs": [],
   "source": [
    "coords2_transformed = tform.inverse(coords2)"
   ]
  },
  {
   "cell_type": "code",
   "execution_count": null,
   "id": "46",
   "metadata": {},
   "outputs": [],
   "source": [
    "correspondence_dists, correspondence_idxs = distortion.nearest_neighbors(\n",
    "    coords1, coords2_transformed\n",
    ")"
   ]
  },
  {
   "cell_type": "code",
   "execution_count": null,
   "id": "47",
   "metadata": {},
   "outputs": [],
   "source": [
    "correspondence_mask = correspondence_dists < max_correspondence_dist\n",
    "coords1_correspondence = coords1[correspondence_mask]\n",
    "coords2_correspondence = coords2[correspondence_idxs][correspondence_mask]"
   ]
  },
  {
   "cell_type": "code",
   "execution_count": null,
   "id": "48",
   "metadata": {},
   "outputs": [],
   "source": [
    "plt.hist(correspondence_dists[correspondence_dists < 5], bins=100, log=True);"
   ]
  },
  {
   "cell_type": "code",
   "execution_count": null,
   "id": "49",
   "metadata": {},
   "outputs": [],
   "source": [
    "tform.estimate(coords1_correspondence, coords2_correspondence)"
   ]
  },
  {
   "cell_type": "code",
   "execution_count": null,
   "id": "50",
   "metadata": {},
   "outputs": [],
   "source": [
    "(tform.translation, tform.rotation)"
   ]
  },
  {
   "cell_type": "code",
   "execution_count": null,
   "id": "51",
   "metadata": {},
   "outputs": [],
   "source": [
    "# TODO: is this right or off-by-one?\n",
    "# center = (np.array(shape[::-1]) - 1) / 2\n",
    "center = None\n",
    "k1 = 8.947368421052635e-10\n",
    "coords1_undistorted = image.radial_distortion(\n",
    "    coords1_correspondence, input_center=center, k1=k1\n",
    ")\n",
    "coords2_undistorted = image.radial_distortion(\n",
    "    tform.inverse(coords2_correspondence), input_center=center, k1=k1\n",
    ")"
   ]
  },
  {
   "cell_type": "code",
   "execution_count": null,
   "id": "52",
   "metadata": {},
   "outputs": [],
   "source": [
    "np.sqrt(((coords1_undistorted - coords2_undistorted) ** 2).mean())"
   ]
  },
  {
   "cell_type": "code",
   "execution_count": null,
   "id": "53",
   "metadata": {},
   "outputs": [],
   "source": [
    "coords1_correspondence"
   ]
  },
  {
   "cell_type": "code",
   "execution_count": null,
   "id": "54",
   "metadata": {},
   "outputs": [],
   "source": [
    "coords1_undistorted"
   ]
  },
  {
   "cell_type": "code",
   "execution_count": null,
   "id": "55",
   "metadata": {},
   "outputs": [],
   "source": [
    "vectorfield_difference(coords1_undistorted, coords2_undistorted)"
   ]
  },
  {
   "cell_type": "code",
   "execution_count": null,
   "id": "56",
   "metadata": {},
   "outputs": [],
   "source": [
    "vectorfield_difference(coords1_correspondence, coords1_undistorted)"
   ]
  },
  {
   "cell_type": "code",
   "execution_count": null,
   "id": "57",
   "metadata": {},
   "outputs": [],
   "source": [
    "# TODO: is this right or off-by-one?\n",
    "k1s = np.arange(-1e-8, 1e-8, 1e-11)\n",
    "rmses = []\n",
    "for k1 in tqdm(k1s):\n",
    "    coords1_undistorted = image.radial_distortion(\n",
    "        coords1_correspondence, input_center=center, k1=k1\n",
    "    )\n",
    "    coords2_undistorted = tform.inverse(\n",
    "        image.radial_distortion(coords2_correspondence, input_center=center, k1=k1)\n",
    "    )\n",
    "    rms = np.sqrt(((coords1_undistorted - coords2_undistorted) ** 2).mean())\n",
    "    rmses.append(rms)"
   ]
  },
  {
   "cell_type": "code",
   "execution_count": null,
   "id": "58",
   "metadata": {},
   "outputs": [],
   "source": [
    "plt.plot(k1s, rmses);"
   ]
  },
  {
   "cell_type": "code",
   "execution_count": null,
   "id": "59",
   "metadata": {},
   "outputs": [],
   "source": [
    "k1s[np.argmin(rmses)]"
   ]
  },
  {
   "cell_type": "code",
   "execution_count": null,
   "id": "60",
   "metadata": {},
   "outputs": [],
   "source": [
    "k1s[np.argmin(rmses)]"
   ]
  },
  {
   "cell_type": "code",
   "execution_count": null,
   "id": "61",
   "metadata": {},
   "outputs": [],
   "source": [
    "k1 = 5.199999999997459e-8\n",
    "img_undistorted = nd2.get_frame_2D(v=0, t=0, z=0, c=0)\n",
    "img_distorted = image.correct_radial_distortion(img_undistorted, k1=k1)"
   ]
  },
  {
   "cell_type": "code",
   "execution_count": null,
   "id": "62",
   "metadata": {},
   "outputs": [],
   "source": [
    "%%time\n",
    "input_center = (500, 500)\n",
    "img_distorted2 = image.correct_radial_distortion(\n",
    "    img_undistorted, k1=k1, input_center=input_center\n",
    ")"
   ]
  },
  {
   "cell_type": "code",
   "execution_count": null,
   "id": "63",
   "metadata": {},
   "outputs": [],
   "source": [
    "img_distorted2"
   ]
  },
  {
   "cell_type": "code",
   "execution_count": null,
   "id": "64",
   "metadata": {},
   "outputs": [],
   "source": [
    "display_image(img_distorted2, scale=0.99)"
   ]
  },
  {
   "cell_type": "code",
   "execution_count": null,
   "id": "65",
   "metadata": {},
   "outputs": [],
   "source": [
    "display_image(img_distorted, scale=0.99)"
   ]
  },
  {
   "cell_type": "code",
   "execution_count": null,
   "id": "66",
   "metadata": {},
   "outputs": [],
   "source": [
    "display_image(img_undistorted, scale=0.99)"
   ]
  },
  {
   "cell_type": "code",
   "execution_count": null,
   "id": "67",
   "metadata": {},
   "outputs": [],
   "source": [
    "img_undistorted = nd2.get_frame_2D(v=0, t=0, z=0, c=0)"
   ]
  },
  {
   "cell_type": "code",
   "execution_count": null,
   "id": "68",
   "metadata": {},
   "outputs": [],
   "source": [
    "img_undistorted.shape"
   ]
  },
  {
   "cell_type": "code",
   "execution_count": null,
   "id": "69",
   "metadata": {},
   "outputs": [],
   "source": [
    "k1s = np.linspace(1e-10, 3e-9, 30)\n",
    "# k1 = 5.199999999997459e-10\n",
    "xs = np.linspace(0, img_undistorted.shape[1] - 1, 10)\n",
    "ys = np.linspace(0, img_undistorted.shape[0] - 1, 10)\n",
    "rmses = np.zeros((len(k1s), len(ys), len(xs)))\n",
    "for x_idx, x in enumerate(tqdm(xs)):\n",
    "    for y_idx, y in enumerate(ys):\n",
    "        for k1_idx, k1 in enumerate(k1s):\n",
    "            center = (x, y)\n",
    "            coords1_undistorted = image.radial_distortion(\n",
    "                coords1_correspondence, input_center=center, k1=k1\n",
    "            )\n",
    "            coords2_undistorted = tform.inverse(\n",
    "                image.radial_distortion(\n",
    "                    coords2_correspondence, input_center=center, k1=k1\n",
    "                )\n",
    "            )\n",
    "            rms = np.sqrt(((coords1_undistorted - coords2_undistorted) ** 2).mean())\n",
    "            rmses[k1_idx, y_idx, x_idx] = rms"
   ]
  },
  {
   "cell_type": "code",
   "execution_count": null,
   "id": "70",
   "metadata": {},
   "outputs": [],
   "source": [
    "# good: [2527.5, 1979.5]"
   ]
  },
  {
   "cell_type": "code",
   "execution_count": null,
   "id": "71",
   "metadata": {},
   "outputs": [],
   "source": [
    "(xs[5], ys[5])"
   ]
  },
  {
   "cell_type": "code",
   "execution_count": null,
   "id": "72",
   "metadata": {},
   "outputs": [],
   "source": [
    "k1s[4]"
   ]
  },
  {
   "cell_type": "code",
   "execution_count": null,
   "id": "73",
   "metadata": {},
   "outputs": [],
   "source": [
    "plt.plot(rmses[:, 5, 5])\n",
    "plt.plot(rmses[:, 4, 4]);"
   ]
  },
  {
   "cell_type": "code",
   "execution_count": null,
   "id": "74",
   "metadata": {},
   "outputs": [],
   "source": [
    "plt.plot(rmses[0, :, 5]);"
   ]
  },
  {
   "cell_type": "code",
   "execution_count": null,
   "id": "75",
   "metadata": {},
   "outputs": [],
   "source": [
    "plt.imshow(rmses[2]);"
   ]
  },
  {
   "cell_type": "markdown",
   "id": "76",
   "metadata": {},
   "source": [
    "# Trench detection"
   ]
  },
  {
   "cell_type": "code",
   "execution_count": null,
   "id": "77",
   "metadata": {},
   "outputs": [],
   "source": [
    "width_to_pitch_ratio = 1.4 / 3.5\n",
    "segmentation_channel = \"RFP-EM\"\n",
    "filename = workflow.SplitFilename(\n",
    "    sorted(\n",
    "        glob.glob(\n",
    "            # \"/home/jqs1/scratch/jqs1/microscopy/230707/230707_repressilators_restart.nd2.split.a*\"\n",
    "            \"/home/jqs1/scratch/jqs1/microscopy/230830/230830_repressilators.nd2.split.*\"\n",
    "        )\n",
    "    )\n",
    ")"
   ]
  },
  {
   "cell_type": "code",
   "execution_count": null,
   "id": "78",
   "metadata": {},
   "outputs": [],
   "source": [
    "def get_frame_func(\n",
    "    filename, position, channel, t, k1=0, center=None, dark=None, flat=None\n",
    "):\n",
    "    return image.correct_radial_distortion(\n",
    "        np.asarray(\n",
    "            workflow.get_nd2_frame(\n",
    "                filename, position=position, channel=channel, t=t, dark=dark, flat=flat\n",
    "            )\n",
    "        ),\n",
    "        k1=k1,\n",
    "        input_center=center,\n",
    "    )  # [600:2400, 1500:3500]\n",
    "    # return np.asarray(\n",
    "    #     workflow.get_nd2_frame(filename, position, channel, t, dark=dark, flat=flat)\n",
    "    # )[550:2350, 1500:3500]"
   ]
  },
  {
   "cell_type": "code",
   "execution_count": null,
   "id": "79",
   "metadata": {},
   "outputs": [],
   "source": [
    "display_image(img0, scale=0.99, downsample=4)"
   ]
  },
  {
   "cell_type": "code",
   "execution_count": null,
   "id": "80",
   "metadata": {},
   "outputs": [],
   "source": [
    "img_uncorrected = (\n",
    "    nd2.get_frame_2D()\n",
    ")  # get_frame_func(filename, 258, segmentation_channel, 0, k1=0)"
   ]
  },
  {
   "cell_type": "code",
   "execution_count": null,
   "id": "81",
   "metadata": {},
   "outputs": [],
   "source": [
    "img_uncorrected.shape"
   ]
  },
  {
   "cell_type": "code",
   "execution_count": null,
   "id": "82",
   "metadata": {},
   "outputs": [],
   "source": [
    "display_image(img0, downsample=1, scale=0.99)"
   ]
  },
  {
   "cell_type": "code",
   "execution_count": null,
   "id": "83",
   "metadata": {},
   "outputs": [],
   "source": [
    "center = image.center_from_shape(img_uncorrected.shape) - np.array([0, -500])"
   ]
  },
  {
   "cell_type": "code",
   "execution_count": null,
   "id": "84",
   "metadata": {},
   "outputs": [],
   "source": [
    "center"
   ]
  },
  {
   "cell_type": "code",
   "execution_count": null,
   "id": "85",
   "metadata": {},
   "outputs": [],
   "source": [
    "%%time\n",
    "# k1 = 5.199999999997459e-10\n",
    "# k1 = 7e-10\n",
    "# k1 = 6.8e-10\n",
    "k1 = 1e-9\n",
    "img0 = get_frame_func(filename, 0, segmentation_channel, 0, k1=k1, center=center)\n",
    "image_limits = geometry.get_image_limits(img0.shape)"
   ]
  },
  {
   "cell_type": "code",
   "execution_count": null,
   "id": "86",
   "metadata": {},
   "outputs": [],
   "source": [
    "%%time\n",
    "diag = util.tree()\n",
    "rois, info = trench_detection.find_trenches(\n",
    "    img0,\n",
    "    width_to_pitch_ratio=width_to_pitch_ratio,\n",
    "    join_info=False,\n",
    "    diagnostics=diag,\n",
    ")\n",
    "angle = info[\"angle\"]\n",
    "pitch = info[\"pitch\"]"
   ]
  },
  {
   "cell_type": "code",
   "execution_count": null,
   "id": "87",
   "metadata": {},
   "outputs": [],
   "source": [
    "# k1=\n",
    "(angle, pitch)"
   ]
  },
  {
   "cell_type": "code",
   "execution_count": null,
   "id": "88",
   "metadata": {},
   "outputs": [],
   "source": [
    "# k1=5e-10\n",
    "(angle, pitch)"
   ]
  },
  {
   "cell_type": "code",
   "execution_count": null,
   "id": "89",
   "metadata": {},
   "outputs": [],
   "source": [
    "# k1=0\n",
    "(angle, pitch)"
   ]
  },
  {
   "cell_type": "code",
   "execution_count": null,
   "id": "90",
   "metadata": {},
   "outputs": [],
   "source": [
    "# k1=1e-9, -500\n",
    "diag[\"labeling\"][\"set_finding\"][\"image_with_lines\"]"
   ]
  },
  {
   "cell_type": "code",
   "execution_count": null,
   "id": "91",
   "metadata": {},
   "outputs": [],
   "source": [
    "# k1=1e-9, -500\n",
    "diag[\"labeling\"][\"set_finding\"][\"image_with_lines\"]"
   ]
  },
  {
   "cell_type": "code",
   "execution_count": null,
   "id": "92",
   "metadata": {},
   "outputs": [],
   "source": [
    "# k1=1e-9, +1000\n",
    "diag[\"labeling\"][\"set_finding\"][\"image_with_lines\"]"
   ]
  },
  {
   "cell_type": "code",
   "execution_count": null,
   "id": "93",
   "metadata": {},
   "outputs": [],
   "source": [
    "# k1=1e-9, -1000\n",
    "diag[\"labeling\"][\"set_finding\"][\"image_with_lines\"]"
   ]
  },
  {
   "cell_type": "code",
   "execution_count": null,
   "id": "94",
   "metadata": {},
   "outputs": [],
   "source": [
    "# k1=1e-10\n",
    "diag[\"labeling\"][\"set_finding\"][\"image_with_lines\"]"
   ]
  },
  {
   "cell_type": "code",
   "execution_count": null,
   "id": "95",
   "metadata": {},
   "outputs": [],
   "source": [
    "# k1=8e-10\n",
    "diag[\"labeling\"][\"set_finding\"][\"image_with_lines\"]"
   ]
  },
  {
   "cell_type": "code",
   "execution_count": null,
   "id": "96",
   "metadata": {},
   "outputs": [],
   "source": [
    "# k1=\n",
    "diag[\"labeling\"][\"set_finding\"][\"image_with_lines\"]"
   ]
  },
  {
   "cell_type": "code",
   "execution_count": null,
   "id": "97",
   "metadata": {},
   "outputs": [],
   "source": [
    "# k1=0\n",
    "diag[\"labeling\"][\"set_finding\"][\"image_with_lines\"]"
   ]
  },
  {
   "cell_type": "code",
   "execution_count": null,
   "id": "98",
   "metadata": {},
   "outputs": [],
   "source": [
    "diag[\"bboxes\"]"
   ]
  },
  {
   "cell_type": "code",
   "execution_count": null,
   "id": "99",
   "metadata": {},
   "outputs": [],
   "source": [
    "trench_detection.plot_trenches(bboxes=False, lines=True)"
   ]
  },
  {
   "cell_type": "code",
   "execution_count": null,
   "id": "100",
   "metadata": {},
   "outputs": [],
   "source": [
    "diag[\"labeling\"][\"find_periodic_lines\"][\"profile\"]  # .keys()"
   ]
  },
  {
   "cell_type": "code",
   "execution_count": null,
   "id": "101",
   "metadata": {},
   "outputs": [],
   "source": [
    "diag[\"labeling\"][\"find_periodic_lines\"][\"profile\"]  # .keys()"
   ]
  },
  {
   "cell_type": "code",
   "execution_count": null,
   "id": "102",
   "metadata": {},
   "outputs": [],
   "source": [
    "diag[\"labeling\"][\"find_periodic_lines\"][\"profile\"]  # .keys()"
   ]
  },
  {
   "cell_type": "code",
   "execution_count": null,
   "id": "103",
   "metadata": {},
   "outputs": [],
   "source": [
    "diag[\"labeling\"][\"find_periodic_lines\"][\"profile\"]  # .keys()"
   ]
  },
  {
   "cell_type": "code",
   "execution_count": null,
   "id": "104",
   "metadata": {},
   "outputs": [],
   "source": [
    "diag[\"labeling\"][\"find_periodic_lines\"][\"profile\"]  # .keys()"
   ]
  },
  {
   "cell_type": "code",
   "execution_count": null,
   "id": "105",
   "metadata": {},
   "outputs": [],
   "source": [
    "(angle, pitch)"
   ]
  },
  {
   "cell_type": "code",
   "execution_count": null,
   "id": "106",
   "metadata": {},
   "outputs": [],
   "source": [
    "diag[\"labeling\"][\"find_periodic_lines\"][\"peak_func\"][\"spectrum\"]"
   ]
  },
  {
   "cell_type": "code",
   "execution_count": null,
   "id": "107",
   "metadata": {},
   "outputs": [],
   "source": [
    "diag[\"labeling\"][\"find_periodic_lines\"][\"profile\"]  # .keys()"
   ]
  },
  {
   "cell_type": "code",
   "execution_count": null,
   "id": "108",
   "metadata": {},
   "outputs": [],
   "source": [
    "diag[\"labeling\"][\"set_finding\"][\"image_with_lines\"]"
   ]
  },
  {
   "cell_type": "code",
   "execution_count": null,
   "id": "109",
   "metadata": {},
   "outputs": [],
   "source": [
    "diag[\"bboxes\"]"
   ]
  },
  {
   "cell_type": "code",
   "execution_count": null,
   "id": "110",
   "metadata": {},
   "outputs": [],
   "source": [
    "diag[\"labeling\"][\"set_finding\"][\"profiles\"]"
   ]
  }
 ],
 "metadata": {
  "kernelspec": {
   "display_name": "Python 3 (ipykernel)",
   "language": "python",
   "name": "python3"
  },
  "language_info": {
   "codemirror_mode": {
    "name": "ipython",
    "version": 3
   },
   "file_extension": ".py",
   "mimetype": "text/x-python",
   "name": "python",
   "nbconvert_exporter": "python",
   "pygments_lexer": "ipython3",
   "version": "3.11.6"
  }
 },
 "nbformat": 4,
 "nbformat_minor": 4
}
