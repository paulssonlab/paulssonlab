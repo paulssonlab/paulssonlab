{
 "cells": [
  {
   "cell_type": "markdown",
   "id": "0",
   "metadata": {
    "tags": []
   },
   "source": [
    "# Imports"
   ]
  },
  {
   "cell_type": "code",
   "execution_count": null,
   "id": "1",
   "metadata": {},
   "outputs": [],
   "source": [
    "import glob\n",
    "import itertools as it\n",
    "import os\n",
    "from functools import partial\n",
    "from pathlib import Path\n",
    "\n",
    "import dask\n",
    "import distributed\n",
    "import h5py\n",
    "import holoviews as hv\n",
    "import hvplot.pandas\n",
    "import matplotlib.pyplot as plt\n",
    "import nd2reader\n",
    "import numpy as np\n",
    "import pandas as pd\n",
    "import pyarrow as pa\n",
    "import pyarrow.parquet as pq\n",
    "import scipy\n",
    "import skimage.measure\n",
    "import zarr\n",
    "from dask import delayed\n",
    "from dask_jobqueue import SLURMCluster\n",
    "from distributed import Client, LocalCluster, progress\n",
    "from holoviews.operation.datashader import regrid\n",
    "from tqdm.auto import tqdm, trange\n",
    "\n",
    "IDX = pd.IndexSlice"
   ]
  },
  {
   "cell_type": "code",
   "execution_count": null,
   "id": "2",
   "metadata": {},
   "outputs": [],
   "source": [
    "# TODO: does this help?\n",
    "# %config InlineBackend.figure_format = \"jpg\""
   ]
  },
  {
   "cell_type": "code",
   "execution_count": null,
   "id": "3",
   "metadata": {},
   "outputs": [],
   "source": [
    "%load_ext autoreload\n",
    "%autoreload 2"
   ]
  },
  {
   "cell_type": "code",
   "execution_count": null,
   "id": "4",
   "metadata": {},
   "outputs": [],
   "source": [
    "import paulssonlab.image_analysis.calibration.distortion as distortion\n",
    "from paulssonlab.image_analysis import *\n",
    "from paulssonlab.image_analysis.ui import display_image"
   ]
  },
  {
   "cell_type": "code",
   "execution_count": null,
   "id": "5",
   "metadata": {},
   "outputs": [],
   "source": [
    "%load_ext pyinstrument"
   ]
  },
  {
   "cell_type": "code",
   "execution_count": null,
   "id": "6",
   "metadata": {},
   "outputs": [],
   "source": [
    "hv.extension(\"bokeh\")"
   ]
  },
  {
   "cell_type": "markdown",
   "id": "7",
   "metadata": {},
   "source": [
    "# Config"
   ]
  },
  {
   "cell_type": "code",
   "execution_count": null,
   "id": "8",
   "metadata": {},
   "outputs": [],
   "source": [
    "cluster = SLURMCluster(\n",
    "    queue=\"short\",\n",
    "    walltime=\"06:00:00\",\n",
    "    memory=\"2GB\",\n",
    "    local_directory=\"/tmp\",\n",
    "    log_directory=\"/home/jqs1/log\",\n",
    "    cores=1,\n",
    "    processes=1,\n",
    ")\n",
    "client = Client(cluster)"
   ]
  },
  {
   "cell_type": "code",
   "execution_count": null,
   "id": "9",
   "metadata": {},
   "outputs": [],
   "source": [
    "cluster"
   ]
  },
  {
   "cell_type": "code",
   "execution_count": null,
   "id": "10",
   "metadata": {},
   "outputs": [],
   "source": [
    "cluster.scale(1)"
   ]
  },
  {
   "cell_type": "code",
   "execution_count": null,
   "id": "11",
   "metadata": {},
   "outputs": [],
   "source": [
    "cluster.adapt(maximum=20)"
   ]
  },
  {
   "cell_type": "markdown",
   "id": "12",
   "metadata": {},
   "source": [
    "# Geometric distortion"
   ]
  },
  {
   "cell_type": "markdown",
   "id": "13",
   "metadata": {
    "jp-MarkdownHeadingCollapsed": true
   },
   "source": [
    "## Image correction is equivalent to coördinate correction"
   ]
  },
  {
   "cell_type": "code",
   "execution_count": null,
   "id": "14",
   "metadata": {},
   "outputs": [],
   "source": [
    "filename = \"/home/jqs1/scratch/jqs1/microscopy/230728/calibration/230728_ultrarainbow_64fov_cfp.nd2\"\n",
    "# filename = \"/home/jqs1/scratch/jqs1/microscopy/230728/calibration/230728_ultrarainbow_64fov_cy5.nd2\"\n",
    "nd2 = nd2reader.ND2Reader(filename)"
   ]
  },
  {
   "cell_type": "code",
   "execution_count": null,
   "id": "15",
   "metadata": {},
   "outputs": [],
   "source": [
    "%%time\n",
    "k1 = 7e-10\n",
    "img_distorted = nd2.get_frame_2D(v=fov1, t=t, z=z_idx, c=channel_idx)\n",
    "coords_distorted = distortion.df_to_coords(distortion.find_puncta(img_distorted))\n",
    "input_shape = img_distorted.shape\n",
    "input_center = image.center_from_shape(input_shape)\n",
    "output_shape, output_center = image.radial_distortion_output(\n",
    "    k1, input_shape, input_center\n",
    ")\n",
    "# output_shape not used\n",
    "coords_distorted_corrected = image.radial_distortion(\n",
    "    coords_distorted, k1=k1, input_center=input_center, output_center=output_center\n",
    ")\n",
    "img_corrected = image.correct_radial_distortion(img_distorted, k1=k1)\n",
    "coords_corrected = distortion.df_to_coords(distortion.find_puncta(img_corrected))"
   ]
  },
  {
   "cell_type": "code",
   "execution_count": null,
   "id": "16",
   "metadata": {},
   "outputs": [],
   "source": [
    "correspondence_dists, correspondence_idxs = distortion.nearest_neighbors(\n",
    "    coords_corrected, coords_distorted_corrected\n",
    ")"
   ]
  },
  {
   "cell_type": "code",
   "execution_count": null,
   "id": "17",
   "metadata": {},
   "outputs": [],
   "source": [
    "plt.hist(correspondence_dists, bins=100, log=True);"
   ]
  },
  {
   "cell_type": "code",
   "execution_count": null,
   "id": "18",
   "metadata": {},
   "outputs": [],
   "source": [
    "plt.figure(figsize=(30, 30), dpi=200)\n",
    "distortion.plot_puncta(\n",
    "    img=img_corrected,\n",
    "    coords=coords_corrected,\n",
    "    coords2=coords_distorted_corrected,\n",
    "    scale=0.99,\n",
    ")"
   ]
  },
  {
   "cell_type": "markdown",
   "id": "19",
   "metadata": {},
   "source": [
    "## Optimization"
   ]
  },
  {
   "cell_type": "code",
   "execution_count": null,
   "id": "20",
   "metadata": {},
   "outputs": [],
   "source": [
    "# filename = \"/home/jqs1/scratch/jqs1/microscopy/230726/calibration/230726_ultrarainbow_40x40_Cy5-EM.nd2\"\n",
    "filename = \"/home/jqs1/scratch/jqs1/microscopy/230728/calibration/230728_ultrarainbow_64fov_cfp.nd2\"\n",
    "# filename = \"/home/jqs1/scratch/jqs1/microscopy/230728/calibration/230728_ultrarainbow_64fov_cy5.nd2\"\n",
    "# filename = \"/home/jqs1/scratch/jqs1/microscopy/230726/calibration/230726_ultrarainbow_40x40_zstack_nocy7_fov1.nd2\"\n",
    "nd2 = nd2reader.ND2Reader(filename)"
   ]
  },
  {
   "cell_type": "code",
   "execution_count": null,
   "id": "21",
   "metadata": {},
   "outputs": [],
   "source": [
    "%%time\n",
    "fov_pairs = list(it.pairwise(range(2)))\n",
    "prepared = distortion._prepare_optimize_correction(nd2, fov_pairs=tqdm(fov_pairs))"
   ]
  },
  {
   "cell_type": "code",
   "execution_count": null,
   "id": "22",
   "metadata": {},
   "outputs": [],
   "source": [
    "%%time\n",
    "res = distortion.optimize_radial_distortion_correction(\n",
    "    nd2, fov_pairs=fov_pairs, prepared=prepared\n",
    ")"
   ]
  },
  {
   "cell_type": "code",
   "execution_count": null,
   "id": "23",
   "metadata": {},
   "outputs": [],
   "source": [
    "coords1_distorted = prepared[0][0]\n",
    "coords2_distorted = prepared[0][1]\n",
    "transform = prepared[1][(0, 1)]"
   ]
  },
  {
   "cell_type": "code",
   "execution_count": null,
   "id": "24",
   "metadata": {},
   "outputs": [],
   "source": [
    "%%time\n",
    "k1 = 0  # 1e-9\n",
    "input_center = image.center_from_shape((nd2.sizes[\"y\"], nd2.sizes[\"x\"]))\n",
    "coords1 = coords1_distorted\n",
    "coords2 = coords2_distorted\n",
    "# coords1 = image.radial_distortion(coords1_distorted, k1=k1, input_center=input_center)\n",
    "# coords2 = image.radial_distortion(coords2_distorted, k1=k1, input_center=input_center)\n",
    "coords2_transformed = transform.inverse(coords2)\n",
    "correspondence_dists, correspondence_idxs = distortion.nearest_neighbors(\n",
    "    coords1, coords2_transformed\n",
    ")\n",
    "correspondence_mask = correspondence_dists < 5\n",
    "coords1_correspondence = coords1[correspondence_mask]\n",
    "coords2_correspondence = coords2[correspondence_idxs][correspondence_mask]\n",
    "# transform.estimate(coords1_correspondence, coords2_correspondence)"
   ]
  },
  {
   "cell_type": "code",
   "execution_count": null,
   "id": "25",
   "metadata": {},
   "outputs": [],
   "source": [
    "plt.hist(correspondence_dists, bins=100, log=True);"
   ]
  },
  {
   "cell_type": "code",
   "execution_count": null,
   "id": "26",
   "metadata": {},
   "outputs": [],
   "source": [
    "plt.hist(correspondence_dists[correspondence_dists < 5], bins=100, log=True);"
   ]
  },
  {
   "cell_type": "code",
   "execution_count": null,
   "id": "27",
   "metadata": {},
   "outputs": [],
   "source": [
    "def correction_func(coords, params):\n",
    "    return image.radial_distortion(\n",
    "        coords, params[0], (params[1], params[2]), (params[1], params[2])\n",
    "    )\n",
    "\n",
    "\n",
    "def objective_func(params, correction_func, coords1_all, coords2_all, transform):\n",
    "    # se = 0\n",
    "    residuals = []\n",
    "    for coords1, coords2 in zip(coords1_all, coords2_all):\n",
    "        coords1_corrected = correction_func(coords1, params)\n",
    "        coords2_corrected = correction_func(coords2, params)\n",
    "        transform.estimate(coords1_corrected, coords2_corrected)\n",
    "        # se += ((coords1_corrected - transform.inverse(coords2_corrected)) ** 2).sum()\n",
    "        residuals.append(\n",
    "            ((coords1_corrected - transform.inverse(coords2_corrected)) ** 2).sum(\n",
    "                axis=-1\n",
    "            )\n",
    "        )\n",
    "    rmse = np.median(np.concatenate(residuals))\n",
    "    # rmse = np.sqrt(se / len(coords1_all))\n",
    "    # print(params, rmse)\n",
    "    return rmse"
   ]
  },
  {
   "cell_type": "code",
   "execution_count": null,
   "id": "28",
   "metadata": {},
   "outputs": [],
   "source": [
    "image.center_from_shape((nd2.sizes[\"y\"], nd2.sizes[\"x\"]))"
   ]
  },
  {
   "cell_type": "code",
   "execution_count": null,
   "id": "29",
   "metadata": {},
   "outputs": [],
   "source": [
    "# k1s = [0]\n",
    "k1s = np.linspace(0, 1e-8, 30)\n",
    "# k1 = 5.199999999997459e-10\n",
    "# xs = [2527.5]\n",
    "# ys = [1479.5]\n",
    "xs = np.linspace(0, nd2.sizes[\"x\"] - 1, 10)\n",
    "ys = np.linspace(0, nd2.sizes[\"y\"] - 1, 10)\n",
    "obj = np.zeros((len(k1s), len(ys), len(xs)))\n",
    "for x_idx, x in enumerate(tqdm(xs)):\n",
    "    for y_idx, y in enumerate(ys):\n",
    "        for k1_idx, k1 in enumerate(k1s):\n",
    "            params = (k1, x, y)\n",
    "            obj[k1_idx, y_idx, x_idx] = objective_func(\n",
    "                params,\n",
    "                correction_func,\n",
    "                [coords1_correspondence],\n",
    "                [coords2_correspondence],\n",
    "                # skimage.transform.EuclideanTransform(),\n",
    "                skimage.transform.EuclideanTransform(translation=(-47, 0)),\n",
    "            )"
   ]
  },
  {
   "cell_type": "code",
   "execution_count": null,
   "id": "30",
   "metadata": {},
   "outputs": [],
   "source": [
    "plt.plot(obj[:, 5, 5])\n",
    "plt.plot(obj[:, 9, 5]);"
   ]
  },
  {
   "cell_type": "code",
   "execution_count": null,
   "id": "31",
   "metadata": {},
   "outputs": [],
   "source": [
    "plt.imshow(obj[1]);"
   ]
  },
  {
   "cell_type": "code",
   "execution_count": null,
   "id": "32",
   "metadata": {},
   "outputs": [],
   "source": [
    "argmin = np.unravel_index(obj.argmin(), obj.shape)\n",
    "argmin"
   ]
  },
  {
   "cell_type": "code",
   "execution_count": null,
   "id": "33",
   "metadata": {},
   "outputs": [],
   "source": [
    "tuple(vals[idx] for vals, idx in zip((k1s, xs, ys), argmin))"
   ]
  },
  {
   "cell_type": "code",
   "execution_count": null,
   "id": "34",
   "metadata": {},
   "outputs": [],
   "source": [
    "plt.plot(obj[:, 9, 5])\n",
    "plt.plot(obj[:, 5, 5]);"
   ]
  },
  {
   "cell_type": "code",
   "execution_count": null,
   "id": "35",
   "metadata": {},
   "outputs": [],
   "source": [
    "nd2.sizes"
   ]
  },
  {
   "cell_type": "code",
   "execution_count": null,
   "id": "36",
   "metadata": {},
   "outputs": [],
   "source": [
    "nd2.get_frame_2D().shape"
   ]
  },
  {
   "cell_type": "code",
   "execution_count": null,
   "id": "37",
   "metadata": {},
   "outputs": [],
   "source": [
    "# INPUT: use stage x/y to guess initial translations/rotations (0) for each FOV pair\n",
    "\n",
    "# LOOP until converged:\n",
    "# FOR EACH FOV PAIR: compute nearest neighbor correspondences\n",
    "# FOR EACH FOV PAIR: optimize translation/rotation for fixed coordinates\n",
    "# FOR ALL FOV PAIRS JOINTLY: optimize distortion params"
   ]
  },
  {
   "cell_type": "code",
   "execution_count": null,
   "id": "38",
   "metadata": {},
   "outputs": [],
   "source": [
    "(tform.translation, tform.rotation)"
   ]
  },
  {
   "cell_type": "code",
   "execution_count": null,
   "id": "39",
   "metadata": {},
   "outputs": [],
   "source": [
    "# TODO: is this right or off-by-one?\n",
    "# center = (np.array(shape[::-1]) - 1) / 2\n",
    "center = None\n",
    "k1 = 8.947368421052635e-10\n",
    "coords1_undistorted = image.radial_distortion(\n",
    "    coords1_correspondence, input_center=center, k1=k1\n",
    ")\n",
    "coords2_undistorted = image.radial_distortion(\n",
    "    tform.inverse(coords2_correspondence), input_center=center, k1=k1\n",
    ")"
   ]
  },
  {
   "cell_type": "code",
   "execution_count": null,
   "id": "40",
   "metadata": {},
   "outputs": [],
   "source": [
    "np.sqrt(((coords1_undistorted - coords2_undistorted) ** 2).mean())"
   ]
  },
  {
   "cell_type": "code",
   "execution_count": null,
   "id": "41",
   "metadata": {},
   "outputs": [],
   "source": [
    "coords1_correspondence"
   ]
  },
  {
   "cell_type": "code",
   "execution_count": null,
   "id": "42",
   "metadata": {},
   "outputs": [],
   "source": [
    "coords1_undistorted"
   ]
  },
  {
   "cell_type": "code",
   "execution_count": null,
   "id": "43",
   "metadata": {},
   "outputs": [],
   "source": [
    "vectorfield_difference(coords1_undistorted, coords2_undistorted)"
   ]
  },
  {
   "cell_type": "code",
   "execution_count": null,
   "id": "44",
   "metadata": {},
   "outputs": [],
   "source": [
    "vectorfield_difference(coords1_correspondence, coords1_undistorted)"
   ]
  },
  {
   "cell_type": "code",
   "execution_count": null,
   "id": "45",
   "metadata": {},
   "outputs": [],
   "source": [
    "# TODO: is this right or off-by-one?\n",
    "k1s = np.arange(-1e-8, 1e-8, 1e-11)\n",
    "rmses = []\n",
    "for k1 in tqdm(k1s):\n",
    "    coords1_undistorted = image.radial_distortion(\n",
    "        coords1_correspondence, input_center=center, k1=k1\n",
    "    )\n",
    "    coords2_undistorted = tform.inverse(\n",
    "        image.radial_distortion(coords2_correspondence, input_center=center, k1=k1)\n",
    "    )\n",
    "    rms = np.sqrt(((coords1_undistorted - coords2_undistorted) ** 2).mean())\n",
    "    rmses.append(rms)"
   ]
  },
  {
   "cell_type": "code",
   "execution_count": null,
   "id": "46",
   "metadata": {},
   "outputs": [],
   "source": [
    "plt.plot(k1s, rmses);"
   ]
  },
  {
   "cell_type": "code",
   "execution_count": null,
   "id": "47",
   "metadata": {},
   "outputs": [],
   "source": [
    "k1s[np.argmin(rmses)]"
   ]
  },
  {
   "cell_type": "code",
   "execution_count": null,
   "id": "48",
   "metadata": {},
   "outputs": [],
   "source": [
    "k1s[np.argmin(rmses)]"
   ]
  },
  {
   "cell_type": "code",
   "execution_count": null,
   "id": "49",
   "metadata": {},
   "outputs": [],
   "source": [
    "k1 = 5.199999999997459e-8\n",
    "img_undistorted = nd2.get_frame_2D(v=0, t=0, z=0, c=0)\n",
    "img_distorted = image.correct_radial_distortion(img_undistorted, k1=k1)"
   ]
  },
  {
   "cell_type": "code",
   "execution_count": null,
   "id": "50",
   "metadata": {},
   "outputs": [],
   "source": [
    "%%time\n",
    "input_center = (500, 500)\n",
    "img_distorted2 = image.correct_radial_distortion(\n",
    "    img_undistorted, k1=k1, input_center=input_center\n",
    ")"
   ]
  },
  {
   "cell_type": "code",
   "execution_count": null,
   "id": "51",
   "metadata": {},
   "outputs": [],
   "source": [
    "img_distorted2"
   ]
  },
  {
   "cell_type": "code",
   "execution_count": null,
   "id": "52",
   "metadata": {},
   "outputs": [],
   "source": [
    "display_image(img_distorted2, scale=0.99)"
   ]
  },
  {
   "cell_type": "code",
   "execution_count": null,
   "id": "53",
   "metadata": {},
   "outputs": [],
   "source": [
    "display_image(img_distorted, scale=0.99)"
   ]
  },
  {
   "cell_type": "code",
   "execution_count": null,
   "id": "54",
   "metadata": {},
   "outputs": [],
   "source": [
    "display_image(img_undistorted, scale=0.99)"
   ]
  },
  {
   "cell_type": "code",
   "execution_count": null,
   "id": "55",
   "metadata": {},
   "outputs": [],
   "source": [
    "img_undistorted = nd2.get_frame_2D(v=0, t=0, z=0, c=0)"
   ]
  },
  {
   "cell_type": "code",
   "execution_count": null,
   "id": "56",
   "metadata": {},
   "outputs": [],
   "source": [
    "img_undistorted.shape"
   ]
  },
  {
   "cell_type": "code",
   "execution_count": null,
   "id": "57",
   "metadata": {},
   "outputs": [],
   "source": [
    "k1s = np.linspace(1e-10, 3e-9, 30)\n",
    "# k1 = 5.199999999997459e-10\n",
    "xs = np.linspace(0, img_undistorted.shape[1] - 1, 10)\n",
    "ys = np.linspace(0, img_undistorted.shape[0] - 1, 10)\n",
    "rmses = np.zeros((len(k1s), len(ys), len(xs)))\n",
    "for x_idx, x in enumerate(tqdm(xs)):\n",
    "    for y_idx, y in enumerate(ys):\n",
    "        for k1_idx, k1 in enumerate(k1s):\n",
    "            center = (x, y)\n",
    "            coords1_undistorted = image.radial_distortion(\n",
    "                coords1_correspondence, input_center=center, k1=k1\n",
    "            )\n",
    "            coords2_undistorted = tform.inverse(\n",
    "                image.radial_distortion(\n",
    "                    coords2_correspondence, input_center=center, k1=k1\n",
    "                )\n",
    "            )\n",
    "            rms = np.sqrt(((coords1_undistorted - coords2_undistorted) ** 2).mean())\n",
    "            rmses[k1_idx, y_idx, x_idx] = rms"
   ]
  },
  {
   "cell_type": "code",
   "execution_count": null,
   "id": "58",
   "metadata": {},
   "outputs": [],
   "source": [
    "# good: [2527.5, 1979.5]"
   ]
  },
  {
   "cell_type": "code",
   "execution_count": null,
   "id": "59",
   "metadata": {},
   "outputs": [],
   "source": [
    "(xs[5], ys[5])"
   ]
  },
  {
   "cell_type": "code",
   "execution_count": null,
   "id": "60",
   "metadata": {},
   "outputs": [],
   "source": [
    "k1s[4]"
   ]
  },
  {
   "cell_type": "code",
   "execution_count": null,
   "id": "61",
   "metadata": {},
   "outputs": [],
   "source": [
    "plt.plot(rmses[:, 5, 5])\n",
    "plt.plot(rmses[:, 4, 4]);"
   ]
  },
  {
   "cell_type": "code",
   "execution_count": null,
   "id": "62",
   "metadata": {},
   "outputs": [],
   "source": [
    "plt.plot(rmses[0, :, 5]);"
   ]
  },
  {
   "cell_type": "code",
   "execution_count": null,
   "id": "63",
   "metadata": {},
   "outputs": [],
   "source": [
    "plt.imshow(rmses[2]);"
   ]
  },
  {
   "cell_type": "markdown",
   "id": "64",
   "metadata": {},
   "source": [
    "# Trench detection"
   ]
  },
  {
   "cell_type": "code",
   "execution_count": null,
   "id": "65",
   "metadata": {},
   "outputs": [],
   "source": [
    "width_to_pitch_ratio = 1.4 / 3.5\n",
    "segmentation_channel = \"RFP-EM\"\n",
    "filename = workflow.SplitFilename(\n",
    "    sorted(\n",
    "        glob.glob(\n",
    "            # \"/home/jqs1/scratch/jqs1/microscopy/230707/230707_repressilators_restart.nd2.split.a*\"\n",
    "            \"/home/jqs1/scratch/jqs1/microscopy/230830/230830_repressilators.nd2.split.*\"\n",
    "        )\n",
    "    )\n",
    ")"
   ]
  },
  {
   "cell_type": "code",
   "execution_count": null,
   "id": "66",
   "metadata": {},
   "outputs": [],
   "source": [
    "def get_frame_func(\n",
    "    filename, position, channel, t, k1=0, center=None, dark=None, flat=None\n",
    "):\n",
    "    return image.correct_radial_distortion(\n",
    "        np.asarray(\n",
    "            workflow.get_nd2_frame(\n",
    "                filename, position=position, channel=channel, t=t, dark=dark, flat=flat\n",
    "            )\n",
    "        ),\n",
    "        k1=k1,\n",
    "        input_center=center,\n",
    "    )  # [600:2400, 1500:3500]\n",
    "    # return np.asarray(\n",
    "    #     workflow.get_nd2_frame(filename, position, channel, t, dark=dark, flat=flat)\n",
    "    # )[550:2350, 1500:3500]"
   ]
  },
  {
   "cell_type": "code",
   "execution_count": null,
   "id": "67",
   "metadata": {},
   "outputs": [],
   "source": [
    "display_image(img0, scale=0.99, downsample=4)"
   ]
  },
  {
   "cell_type": "code",
   "execution_count": null,
   "id": "68",
   "metadata": {},
   "outputs": [],
   "source": [
    "img_uncorrected = (\n",
    "    nd2.get_frame_2D()\n",
    ")  # get_frame_func(filename, 258, segmentation_channel, 0, k1=0)"
   ]
  },
  {
   "cell_type": "code",
   "execution_count": null,
   "id": "69",
   "metadata": {},
   "outputs": [],
   "source": [
    "img_uncorrected.shape"
   ]
  },
  {
   "cell_type": "code",
   "execution_count": null,
   "id": "70",
   "metadata": {},
   "outputs": [],
   "source": [
    "display_image(img0, downsample=1, scale=0.99)"
   ]
  },
  {
   "cell_type": "code",
   "execution_count": null,
   "id": "71",
   "metadata": {},
   "outputs": [],
   "source": [
    "center = image.center_from_shape(img_uncorrected.shape) - np.array([0, -500])"
   ]
  },
  {
   "cell_type": "code",
   "execution_count": null,
   "id": "72",
   "metadata": {},
   "outputs": [],
   "source": [
    "center"
   ]
  },
  {
   "cell_type": "code",
   "execution_count": null,
   "id": "73",
   "metadata": {},
   "outputs": [],
   "source": [
    "%%time\n",
    "# k1 = 5.199999999997459e-10\n",
    "# k1 = 7e-10\n",
    "# k1 = 6.8e-10\n",
    "k1 = 1e-9\n",
    "img0 = get_frame_func(filename, 0, segmentation_channel, 0, k1=k1, center=center)\n",
    "image_limits = geometry.get_image_limits(img0.shape)"
   ]
  },
  {
   "cell_type": "code",
   "execution_count": null,
   "id": "74",
   "metadata": {},
   "outputs": [],
   "source": [
    "%%time\n",
    "diag = util.tree()\n",
    "rois, info = trench_detection.find_trenches(\n",
    "    img0,\n",
    "    width_to_pitch_ratio=width_to_pitch_ratio,\n",
    "    join_info=False,\n",
    "    diagnostics=diag,\n",
    ")\n",
    "angle = info[\"angle\"]\n",
    "pitch = info[\"pitch\"]"
   ]
  },
  {
   "cell_type": "code",
   "execution_count": null,
   "id": "75",
   "metadata": {},
   "outputs": [],
   "source": [
    "# k1=\n",
    "(angle, pitch)"
   ]
  },
  {
   "cell_type": "code",
   "execution_count": null,
   "id": "76",
   "metadata": {},
   "outputs": [],
   "source": [
    "# k1=5e-10\n",
    "(angle, pitch)"
   ]
  },
  {
   "cell_type": "code",
   "execution_count": null,
   "id": "77",
   "metadata": {},
   "outputs": [],
   "source": [
    "# k1=0\n",
    "(angle, pitch)"
   ]
  },
  {
   "cell_type": "code",
   "execution_count": null,
   "id": "78",
   "metadata": {},
   "outputs": [],
   "source": [
    "# k1=1e-9, -500\n",
    "diag[\"labeling\"][\"set_finding\"][\"image_with_lines\"]"
   ]
  },
  {
   "cell_type": "code",
   "execution_count": null,
   "id": "79",
   "metadata": {},
   "outputs": [],
   "source": [
    "# k1=1e-9, -500\n",
    "diag[\"labeling\"][\"set_finding\"][\"image_with_lines\"]"
   ]
  },
  {
   "cell_type": "code",
   "execution_count": null,
   "id": "80",
   "metadata": {},
   "outputs": [],
   "source": [
    "# k1=1e-9, +1000\n",
    "diag[\"labeling\"][\"set_finding\"][\"image_with_lines\"]"
   ]
  },
  {
   "cell_type": "code",
   "execution_count": null,
   "id": "81",
   "metadata": {},
   "outputs": [],
   "source": [
    "# k1=1e-9, -1000\n",
    "diag[\"labeling\"][\"set_finding\"][\"image_with_lines\"]"
   ]
  },
  {
   "cell_type": "code",
   "execution_count": null,
   "id": "82",
   "metadata": {},
   "outputs": [],
   "source": [
    "# k1=1e-10\n",
    "diag[\"labeling\"][\"set_finding\"][\"image_with_lines\"]"
   ]
  },
  {
   "cell_type": "code",
   "execution_count": null,
   "id": "83",
   "metadata": {},
   "outputs": [],
   "source": [
    "# k1=8e-10\n",
    "diag[\"labeling\"][\"set_finding\"][\"image_with_lines\"]"
   ]
  },
  {
   "cell_type": "code",
   "execution_count": null,
   "id": "84",
   "metadata": {},
   "outputs": [],
   "source": [
    "# k1=\n",
    "diag[\"labeling\"][\"set_finding\"][\"image_with_lines\"]"
   ]
  },
  {
   "cell_type": "code",
   "execution_count": null,
   "id": "85",
   "metadata": {},
   "outputs": [],
   "source": [
    "# k1=0\n",
    "diag[\"labeling\"][\"set_finding\"][\"image_with_lines\"]"
   ]
  },
  {
   "cell_type": "code",
   "execution_count": null,
   "id": "86",
   "metadata": {},
   "outputs": [],
   "source": [
    "diag[\"bboxes\"]"
   ]
  },
  {
   "cell_type": "code",
   "execution_count": null,
   "id": "87",
   "metadata": {},
   "outputs": [],
   "source": [
    "trench_detection.plot_trenches(bboxes=False, lines=True)"
   ]
  },
  {
   "cell_type": "code",
   "execution_count": null,
   "id": "88",
   "metadata": {},
   "outputs": [],
   "source": [
    "diag[\"labeling\"][\"find_periodic_lines\"][\"profile\"]  # .keys()"
   ]
  },
  {
   "cell_type": "code",
   "execution_count": null,
   "id": "89",
   "metadata": {},
   "outputs": [],
   "source": [
    "diag[\"labeling\"][\"find_periodic_lines\"][\"profile\"]  # .keys()"
   ]
  },
  {
   "cell_type": "code",
   "execution_count": null,
   "id": "90",
   "metadata": {},
   "outputs": [],
   "source": [
    "diag[\"labeling\"][\"find_periodic_lines\"][\"profile\"]  # .keys()"
   ]
  },
  {
   "cell_type": "code",
   "execution_count": null,
   "id": "91",
   "metadata": {},
   "outputs": [],
   "source": [
    "diag[\"labeling\"][\"find_periodic_lines\"][\"profile\"]  # .keys()"
   ]
  },
  {
   "cell_type": "code",
   "execution_count": null,
   "id": "92",
   "metadata": {},
   "outputs": [],
   "source": [
    "diag[\"labeling\"][\"find_periodic_lines\"][\"profile\"]  # .keys()"
   ]
  },
  {
   "cell_type": "code",
   "execution_count": null,
   "id": "93",
   "metadata": {},
   "outputs": [],
   "source": [
    "(angle, pitch)"
   ]
  },
  {
   "cell_type": "code",
   "execution_count": null,
   "id": "94",
   "metadata": {},
   "outputs": [],
   "source": [
    "diag[\"labeling\"][\"find_periodic_lines\"][\"peak_func\"][\"spectrum\"]"
   ]
  },
  {
   "cell_type": "code",
   "execution_count": null,
   "id": "95",
   "metadata": {},
   "outputs": [],
   "source": [
    "diag[\"labeling\"][\"find_periodic_lines\"][\"profile\"]  # .keys()"
   ]
  },
  {
   "cell_type": "code",
   "execution_count": null,
   "id": "96",
   "metadata": {},
   "outputs": [],
   "source": [
    "diag[\"labeling\"][\"set_finding\"][\"image_with_lines\"]"
   ]
  },
  {
   "cell_type": "code",
   "execution_count": null,
   "id": "97",
   "metadata": {},
   "outputs": [],
   "source": [
    "diag[\"bboxes\"]"
   ]
  },
  {
   "cell_type": "code",
   "execution_count": null,
   "id": "98",
   "metadata": {},
   "outputs": [],
   "source": [
    "diag[\"labeling\"][\"set_finding\"][\"profiles\"]"
   ]
  }
 ],
 "metadata": {
  "kernelspec": {
   "display_name": "Python 3 (ipykernel)",
   "language": "python",
   "name": "python3"
  },
  "language_info": {
   "codemirror_mode": {
    "name": "ipython",
    "version": 3
   },
   "file_extension": ".py",
   "mimetype": "text/x-python",
   "name": "python",
   "nbconvert_exporter": "python",
   "pygments_lexer": "ipython3",
   "version": "3.11.6"
  }
 },
 "nbformat": 4,
 "nbformat_minor": 4
}
