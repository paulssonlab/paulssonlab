{
 "cells": [
  {
   "cell_type": "code",
   "execution_count": null,
   "id": "5f93cf83-e2da-467a-afa9-ab889330c9f2",
   "metadata": {},
   "outputs": [],
   "source": [
    "from pathlib import Path\n",
    "\n",
    "import matplotlib.pyplot as plt\n",
    "import numpy as np\n",
    "import zarr"
   ]
  },
  {
   "cell_type": "code",
   "execution_count": null,
   "id": "1feedd26-2b70-4805-9d8a-fbd4c5c8cdd6",
   "metadata": {},
   "outputs": [],
   "source": [
    "output_dir = Path(\"/home/jqs1/scratch/jqs1/microscopy/230830/for_ranit_3fovs\")"
   ]
  },
  {
   "cell_type": "code",
   "execution_count": null,
   "id": "7be21d3c-a1bd-4a34-acbd-322c4a487349",
   "metadata": {},
   "outputs": [],
   "source": [
    "fov = 11  # 12, 13 also available\n",
    "ary = zarr.open_array(output_dir / f\"crops_v={fov}.zarr\", mode=\"r\")"
   ]
  },
  {
   "cell_type": "code",
   "execution_count": null,
   "id": "c4037c93-17d6-44b9-971e-68941f5a4440",
   "metadata": {},
   "outputs": [],
   "source": [
    "# (roi_idx, t, channel_idx, y, x)\n",
    "ary.shape"
   ]
  },
  {
   "cell_type": "code",
   "execution_count": null,
   "id": "a6c0839e-f81c-4fad-bf34-6d82fdeea725",
   "metadata": {},
   "outputs": [],
   "source": [
    "# channel_idx:\n",
    "# 0=RFP\n",
    "# 1=YFP\n",
    "# 2=CFP"
   ]
  },
  {
   "cell_type": "code",
   "execution_count": null,
   "id": "068808c8-a4cd-4460-a929-8a79cca11568",
   "metadata": {},
   "outputs": [],
   "source": [
    "plt.imshow(ary[449, 0, 0])"
   ]
  },
  {
   "cell_type": "code",
   "execution_count": null,
   "id": "3f00154e-ff8a-45d0-a4a8-54b6a8203814",
   "metadata": {},
   "outputs": [],
   "source": [
    "plt.imshow(ary[14, 0, 1])"
   ]
  },
  {
   "cell_type": "code",
   "execution_count": null,
   "id": "abf1a989-b18e-4b64-95e0-203308484309",
   "metadata": {},
   "outputs": [],
   "source": [
    "plt.imshow((ary[14, 0, :] / np.nanmax(ary[14, 0, :], axis=(0, 1)) / 3).swapaxes(0, -1))\n",
    "# plt.imshow(ary[14,0,1])\n",
    "# plt.imshow(ary[14,0,2])"
   ]
  }
 ],
 "metadata": {
  "kernelspec": {
   "display_name": "Python 3 (ipykernel)",
   "language": "python",
   "name": "python3"
  },
  "language_info": {
   "codemirror_mode": {
    "name": "ipython",
    "version": 3
   },
   "file_extension": ".py",
   "mimetype": "text/x-python",
   "name": "python",
   "nbconvert_exporter": "python",
   "pygments_lexer": "ipython3",
   "version": "3.11.6"
  }
 },
 "nbformat": 4,
 "nbformat_minor": 5
}
