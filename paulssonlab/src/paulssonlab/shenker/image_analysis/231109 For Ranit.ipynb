{
 "cells": [
  {
   "cell_type": "code",
   "execution_count": null,
   "id": "5f93cf83-e2da-467a-afa9-ab889330c9f2",
   "metadata": {},
   "outputs": [],
   "source": [
    "from pathlib import Path\n",
    "\n",
    "import matplotlib.pyplot as plt\n",
    "import numpy as np\n",
    "import zarr"
   ]
  },
  {
   "cell_type": "code",
   "execution_count": null,
   "id": "1feedd26-2b70-4805-9d8a-fbd4c5c8cdd6",
   "metadata": {},
   "outputs": [],
   "source": [
    "output_dir = Path(\"/n/groups/paulsson/jqs1/microscopy/for_ranit/for_ranit_3fovs\")"
   ]
  },
  {
   "cell_type": "code",
   "execution_count": null,
   "id": "7be21d3c-a1bd-4a34-acbd-322c4a487349",
   "metadata": {},
   "outputs": [],
   "source": [
    "fov = 11  # 12, 13 also available\n",
    "ary = zarr.open_array(output_dir / f\"crops_v={fov}.zarr\", mode=\"r\")"
   ]
  },
  {
   "cell_type": "code",
   "execution_count": null,
   "id": "c4037c93-17d6-44b9-971e-68941f5a4440",
   "metadata": {},
   "outputs": [],
   "source": [
    "# (roi_idx, t, channel_idx, y, x)\n",
    "ary.shape"
   ]
  },
  {
   "cell_type": "code",
   "execution_count": null,
   "id": "1b3691e3-d8cf-4bf9-aa91-efabfd8f31d3",
   "metadata": {},
   "outputs": [],
   "source": [
    "ary.dtype"
   ]
  },
  {
   "cell_type": "code",
   "execution_count": null,
   "id": "066d826c-41c1-42b1-a8e3-25c9139df46b",
   "metadata": {},
   "outputs": [],
   "source": [
    "ary.info"
   ]
  },
  {
   "cell_type": "code",
   "execution_count": null,
   "id": "a6c0839e-f81c-4fad-bf34-6d82fdeea725",
   "metadata": {},
   "outputs": [],
   "source": [
    "# channel_idx:\n",
    "# 0=RFP\n",
    "# 1=YFP\n",
    "# 2=CFP"
   ]
  },
  {
   "cell_type": "code",
   "execution_count": null,
   "id": "068808c8-a4cd-4460-a929-8a79cca11568",
   "metadata": {},
   "outputs": [],
   "source": [
    "plt.imshow(ary[120, 0, 0])"
   ]
  },
  {
   "cell_type": "code",
   "execution_count": null,
   "id": "61823957-6538-481a-afed-30e1602a1b91",
   "metadata": {},
   "outputs": [],
   "source": [
    "import skimage\n",
    "\n",
    "from paulssonlab.image_analysis.image import hessian_eigenvalues, permute_labels\n",
    "from paulssonlab.image_analysis.ui import RevImage"
   ]
  },
  {
   "cell_type": "code",
   "execution_count": null,
   "id": "67cc9870-7fc5-4636-b61c-09b476c67f9e",
   "metadata": {},
   "outputs": [],
   "source": [
    "mask = segment(ary[120, 0, 0])\n",
    "plt.imshow(mask)"
   ]
  }
 ],
 "metadata": {
  "kernelspec": {
   "display_name": "Python 3 (ipykernel)",
   "language": "python",
   "name": "python3"
  },
  "language_info": {
   "codemirror_mode": {
    "name": "ipython",
    "version": 3
   },
   "file_extension": ".py",
   "mimetype": "text/x-python",
   "name": "python",
   "nbconvert_exporter": "python",
   "pygments_lexer": "ipython3",
   "version": "3.11.6"
  }
 },
 "nbformat": 4,
 "nbformat_minor": 5
}
