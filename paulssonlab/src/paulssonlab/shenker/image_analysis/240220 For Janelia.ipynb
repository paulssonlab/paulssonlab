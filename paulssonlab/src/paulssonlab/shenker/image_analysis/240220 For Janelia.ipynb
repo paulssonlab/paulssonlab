{
 "cells": [
  {
   "cell_type": "markdown",
   "id": "0",
   "metadata": {
    "tags": []
   },
   "source": [
    "# Imports"
   ]
  },
  {
   "cell_type": "code",
   "execution_count": null,
   "id": "1",
   "metadata": {},
   "outputs": [],
   "source": [
    "import glob\n",
    "import itertools as it\n",
    "import os\n",
    "import re\n",
    "from collections import namedtuple\n",
    "from functools import partial\n",
    "from pathlib import Path\n",
    "\n",
    "import dask\n",
    "import distributed\n",
    "import h5py\n",
    "import holoviews as hv\n",
    "import hvplot.pandas\n",
    "import matplotlib.pyplot as plt\n",
    "import nd2reader\n",
    "import numpy as np\n",
    "import pandas as pd\n",
    "import pyarrow as pa\n",
    "import pyarrow.dataset as ds\n",
    "import pyarrow.parquet as pq\n",
    "import scipy.signal\n",
    "import skimage.measure\n",
    "import zarr\n",
    "from dask import delayed\n",
    "from dask_jobqueue import SLURMCluster\n",
    "from distributed import Client, LocalCluster, progress\n",
    "from holoviews.operation.datashader import regrid\n",
    "from tqdm.auto import tqdm, trange\n",
    "\n",
    "IDX = pd.IndexSlice"
   ]
  },
  {
   "cell_type": "code",
   "execution_count": null,
   "id": "2",
   "metadata": {
    "tags": []
   },
   "outputs": [],
   "source": [
    "from dask.diagnostics import ProgressBar\n",
    "\n",
    "ProgressBar().register()"
   ]
  },
  {
   "cell_type": "code",
   "execution_count": null,
   "id": "3",
   "metadata": {},
   "outputs": [],
   "source": [
    "%load_ext autoreload\n",
    "%autoreload 2"
   ]
  },
  {
   "cell_type": "code",
   "execution_count": null,
   "id": "4",
   "metadata": {},
   "outputs": [],
   "source": [
    "import paulssonlab.io.metadata as imd\n",
    "from paulssonlab.image_analysis import *\n",
    "from paulssonlab.image_analysis.ui import display_image"
   ]
  },
  {
   "cell_type": "code",
   "execution_count": null,
   "id": "5",
   "metadata": {},
   "outputs": [],
   "source": [
    "hv.extension(\"bokeh\")\n",
    "# hv.extension(\"matplotlib\")"
   ]
  },
  {
   "cell_type": "markdown",
   "id": "6",
   "metadata": {},
   "source": [
    "# Config"
   ]
  },
  {
   "cell_type": "code",
   "execution_count": null,
   "id": "7",
   "metadata": {},
   "outputs": [],
   "source": [
    "# filename = \"/home/jqs1/scratch/jqs1/microscopy/230213/230213induction.nd2\"\n",
    "# filename = \"/home/jqs1/scratch/jqs1/microscopy/230215/230215induction.nd2\" #v=7\n",
    "# filename = \"/home/jqs1/scratch/jqs1/microscopy/230326/230326promrbs.nd2\" #v=8,t=10\n",
    "# filename = \"/home/jqs1/scratch/jqs1/microscopy/230404/230404_rbsprom.nd2\"\n",
    "# filename = workflow.SplitFilename(\n",
    "#     sorted(\n",
    "#         glob.glob(\n",
    "#             \"/home/jqs1/scratch/jqs1/microscopy/230619/230619_NAO745_repressilators_split.nd2*\"\n",
    "#         )\n",
    "#     )\n",
    "# )\n",
    "filename = workflow.SplitFilename(\n",
    "    sorted(\n",
    "        glob.glob(\n",
    "            # \"/home/jqs1/scratch/jqs1/microscopy/230707/230707_repressilators_restart.nd2.split.a*\"\n",
    "            \"/home/jqs1/scratch/microscopy/230830/230830_repressilators.nd2.split.*\"\n",
    "        )\n",
    "    )\n",
    ")\n",
    "# filename = \"/home/jqs1/scratch/jqs1/microscopy/231101/231101_FP_calibration.nd2\"\n",
    "fish_filename = Path(filename).parent / \"FISH/real_run\""
   ]
  },
  {
   "cell_type": "code",
   "execution_count": null,
   "id": "8",
   "metadata": {},
   "outputs": [],
   "source": [
    "nd2 = workflow.get_nd2_reader(filename)\n",
    "max_t = nd2.sizes[\"t\"]"
   ]
  },
  {
   "cell_type": "code",
   "execution_count": null,
   "id": "9",
   "metadata": {},
   "outputs": [],
   "source": [
    "nd2.sizes"
   ]
  },
  {
   "cell_type": "code",
   "execution_count": null,
   "id": "10",
   "metadata": {},
   "outputs": [],
   "source": [
    "nd2.metadata[\"channels\"]"
   ]
  },
  {
   "cell_type": "code",
   "execution_count": null,
   "id": "11",
   "metadata": {
    "tags": []
   },
   "outputs": [],
   "source": [
    "colors = {\n",
    "    \"BF\": \"#ffffff\",\n",
    "    # \"CFP-EM\": \"#6fb2e4\",\n",
    "    # \"YFP-EM\": \"#eee461\",\n",
    "    # \"RFP-EM\": \"#c66526\",\n",
    "    \"CFP-EM\": \"#648FFF\",\n",
    "    \"YFP-EM\": \"#FFB000\",\n",
    "    \"RFP-EM\": \"#DC267F\",\n",
    "}\n",
    "\n",
    "fish_colors = {\n",
    "    \"BF\": \"#ffffff\",\n",
    "    \"GFP\": \"#f44336\",\n",
    "    \"Cy5\": \"#03a9f4\",\n",
    "    # \"Cy7\": \"#ffeb3b\"\n",
    "    \"Cy7\": \"#8bc34a\",\n",
    "}"
   ]
  },
  {
   "cell_type": "code",
   "execution_count": null,
   "id": "12",
   "metadata": {},
   "outputs": [],
   "source": [
    "cluster = SLURMCluster(\n",
    "    queue=\"transfer\",\n",
    "    walltime=\"02:00:00\",\n",
    "    memory=\"2GB\",\n",
    "    local_directory=\"/tmp\",\n",
    "    log_directory=\"/home/jqs1/log\",\n",
    "    cores=1,\n",
    "    processes=1,\n",
    ")\n",
    "client = Client(cluster)"
   ]
  },
  {
   "cell_type": "code",
   "execution_count": null,
   "id": "13",
   "metadata": {},
   "outputs": [],
   "source": [
    "cluster"
   ]
  },
  {
   "cell_type": "code",
   "execution_count": null,
   "id": "14",
   "metadata": {},
   "outputs": [],
   "source": [
    "cluster.scale(1)"
   ]
  },
  {
   "cell_type": "code",
   "execution_count": null,
   "id": "15",
   "metadata": {},
   "outputs": [],
   "source": [
    "cluster.adapt(maximum=20)"
   ]
  },
  {
   "cell_type": "markdown",
   "id": "16",
   "metadata": {},
   "source": [
    "# Inventory"
   ]
  },
  {
   "cell_type": "code",
   "execution_count": null,
   "id": "17",
   "metadata": {},
   "outputs": [],
   "source": [
    "filenames = client.submit(\n",
    "    glob.glob, \"/home/jqs1/research.files/Personal_Folders/Noah/23*/*.nd2\"\n",
    ").result()"
   ]
  },
  {
   "cell_type": "code",
   "execution_count": null,
   "id": "18",
   "metadata": {},
   "outputs": [],
   "source": [
    "filenames"
   ]
  },
  {
   "cell_type": "code",
   "execution_count": null,
   "id": "19",
   "metadata": {},
   "outputs": [],
   "source": [
    "%%time\n",
    "md = {}\n",
    "for filename in tqdm(filenames):\n",
    "    sizes, channels = client.submit(get_nd2_metadata, filename).result()\n",
    "    md[filename] = (sizes, channels)"
   ]
  },
  {
   "cell_type": "code",
   "execution_count": null,
   "id": "20",
   "metadata": {},
   "outputs": [],
   "source": [
    "selected_filenames = [\n",
    "    \"/home/jqs1/research.files/Personal_Folders/Noah/230127/initial_growth.nd2\",\n",
    "    \"/home/jqs1/research.files/Personal_Folders/Noah/230203/230203_circuits.nd2\",\n",
    "    \"/home/jqs1/research.files/Personal_Folders/Noah/230131/230131_growth_5min.nd2\",\n",
    "    \"/home/jqs1/research.files/Personal_Folders/Noah/230131/230131_growth.nd2\",\n",
    "    \"/home/jqs1/research.files/Personal_Folders/Noah/231101/231101_FP_calibration.nd2\",\n",
    "    \"/home/jqs1/research.files/Personal_Folders/Noah/230915/test.nd2\",\n",
    "    \"/home/jqs1/research.files/Personal_Folders/Noah/230125/overnight_growth.nd2\",\n",
    "]"
   ]
  },
  {
   "cell_type": "code",
   "execution_count": null,
   "id": "21",
   "metadata": {},
   "outputs": [],
   "source": [
    "{k: v[0] for k, v in md.items() if k in selected_filenames}"
   ]
  },
  {
   "cell_type": "code",
   "execution_count": null,
   "id": "22",
   "metadata": {},
   "outputs": [],
   "source": [
    "{k: v[1] for k, v in md.items() if \"Phase-Fluor\" in v[1]}"
   ]
  },
  {
   "cell_type": "code",
   "execution_count": null,
   "id": "23",
   "metadata": {},
   "outputs": [],
   "source": [
    "md = imd.parse_nd2_file_metadata(\n",
    "    \"/home/jqs1/scratch/microscopy/231101/231101_FP_calibration.nd2\"\n",
    ")"
   ]
  },
  {
   "cell_type": "code",
   "execution_count": null,
   "id": "24",
   "metadata": {},
   "outputs": [],
   "source": [
    "md.keys()"
   ]
  },
  {
   "cell_type": "code",
   "execution_count": null,
   "id": "25",
   "metadata": {},
   "outputs": [],
   "source": [
    "md[\"image_calibration\"][\"SLxCalibration\"][\"sObjective\"]"
   ]
  },
  {
   "cell_type": "code",
   "execution_count": null,
   "id": "26",
   "metadata": {},
   "outputs": [],
   "source": [
    "%%time\n",
    "metadata = {}\n",
    "for filename in tqdm(selected_filenames):\n",
    "    metadata[filename] = client.submit(imd.parse_nd2_file_metadata, filename).result()"
   ]
  },
  {
   "cell_type": "code",
   "execution_count": null,
   "id": "27",
   "metadata": {},
   "outputs": [],
   "source": [
    "metadata.keys()"
   ]
  },
  {
   "cell_type": "code",
   "execution_count": null,
   "id": "28",
   "metadata": {},
   "outputs": [],
   "source": [
    "{k: v[\"image_calibration\"][\"SLxCalibration\"][\"sObjective\"] for k, v in metadata.items()}"
   ]
  },
  {
   "cell_type": "code",
   "execution_count": null,
   "id": "29",
   "metadata": {},
   "outputs": [],
   "source": [
    "metadata[\"\"]"
   ]
  },
  {
   "cell_type": "code",
   "execution_count": null,
   "id": "30",
   "metadata": {},
   "outputs": [],
   "source": [
    "client.submit(glob.glob, \"\")"
   ]
  },
  {
   "cell_type": "code",
   "execution_count": null,
   "id": "31",
   "metadata": {},
   "outputs": [],
   "source": [
    "filename = \"\""
   ]
  },
  {
   "cell_type": "code",
   "execution_count": null,
   "id": "32",
   "metadata": {},
   "outputs": [],
   "source": [
    "def nd2_to_zarr(fovs=None):\n",
    "    workflow.get_nd2_frame(\n",
    "        filename, position=position, channel=channel, t=t, dark=dark, flat=flat\n",
    "    )"
   ]
  },
  {
   "cell_type": "code",
   "execution_count": null,
   "id": "33",
   "metadata": {},
   "outputs": [],
   "source": [
    "def get_nd2_metadata(filename):\n",
    "    nd2 = workflow.get_nd2_reader(filename)\n",
    "    return nd2.sizes, nd2.metadata[\"channels\"]"
   ]
  },
  {
   "cell_type": "code",
   "execution_count": null,
   "id": "34",
   "metadata": {},
   "outputs": [],
   "source": [
    "sizes, channels = client.submit(get_nd2_metadata, filename).gather()"
   ]
  },
  {
   "cell_type": "code",
   "execution_count": null,
   "id": "35",
   "metadata": {},
   "outputs": [],
   "source": [
    "filename_prefix = \"/home/jqs1/research.files/Personal_Folders/\"\n",
    "selected_filenames = \"\"\"Noah/231101/231101_FP_calibration.nd2\n",
    "Noah/230131/230131_growth_5min.nd2\n",
    "Noah/230125/overnight_growth.nd2\n",
    "Noah/230203/230203_circuits.nd2\n",
    "Daniel/FISH_Paper_Data/lDE20_Data/2023-01-14_lDE20_Run_9/Experiment.nd2\n",
    "Daniel/FISH_Paper_Data/lDE15_Data/2021-10-21_lDE15_Final_1/experiment.nd2\n",
    "Daniel/FISH_Paper_Data/Isolates/2023-02-11_lpxK_LpxC_AB/Experiment.nd2\n",
    "Carlos/Ti5/LCS3_run1/Experiment.nd2\n",
    "Carlos/Ti5/LCS3_run2/Experiment.nd2\n",
    "Carlos/Ti5/08072023_lcs2/GlycerolArabinoseMedia.nd2\n",
    "Carlos/Ti5/08072023_lcs2/GlycerolMedia3hr.nd2\n",
    "Carlos/Ti5/2019_02_07/AndersonPromoters_Phase.nd2\n",
    "Luis/Imaging_Data/Bsubtilis_DegronRapamycin/2022-05-10_AF337-AF339_Ti6/tlapse-1.nd2\n",
    "Luis/Imaging_Data/Bsubtilis_BarcodesTesting/2023-10-31_lLAG2_AF555-AllCycles/Experiment.nd2\n",
    "Daniel/FISH_Paper_Data/lDE26_Data/2023-03-11_lDE26_Run_1/Experiment.nd2\n",
    "Luis/Imaging_Data/Ecoli_Libraries/2022-08-19_MM-Ti5-lDE24/2022-08-19_MM-Ti5-lDE24.nd2\n",
    "Raquel/Results/P1 grant/Gilmore/2023_07_12 RF320 Rifam/RF320.nd2\n",
    "Raquel/Results/P1 grant/Gilmore/2023_07_20 RF320 Rifam/64_128_256_512_.nd2\n",
    "Raquel/Results/P1 grant/Gilmore/2021_04_20 Enterococcus RF235/RF235.nd2\n",
    "Raquel/Results/P1 grant/Gilmore/2023_08_01 RF320 Dapto/Control_128_256_512.nd2\n",
    "Raquel/Results/P1 grant/Gilmore/2023_08_11 Tnlibrary Dapto dyes/ND2_growth/growth.nd2\n",
    "Raquel/Results/P1 grant/Gilmore/2023_08_24 EF daptomycin/growth.nd2\n",
    "Raquel/Results/P1 grant/Gilmore/2023_10_4 RF320/ND2_growth/Experiment_growth.nd2\n",
    "Raquel/Results/P1 grant/Gilmore/2023_12_07 RF157 MM/ND2/MHCA_Dapto.nd2\n",
    "Raquel/Results/P1 grant/Gilmore/2020_09_28 Enterococcus mcherry gfp/Enterococcus mcherry gfp.nd2\n",
    "Raquel/Results/PhoPQ/Mother machine experiments/2021_02_14 RF230 N10 Sin N50 Sin Snake no treatment (importante)/N10 Sin N50 Sin Snake.nd2\n",
    "Raquel/Results/P1 grant/Hooper/2023_03_09 RF322/ND2/Experiment.nd2\n",
    "Raquel/Results/P1 grant/Hooper/2023_03_30 RF322/ND2/Experiment.nd2\n",
    "Raquel/Results/P1 grant/Hooper/2023_09_06 RF322 pyocyanin/ND2/Control_Pyo_Naf_Pyo+Naf003.nd2\n",
    "Mengyu/microscopy/2022-04-15 Ti6/growth-lysogen-lambda2903_A01.nd2\n",
    "Mengyu/microscopy/2022-03-21 Ti6/1 growth/growth_start_with_inducer.nd2\n",
    "Mengyu/microscopy/2022-03-25 Ti6/1 growth/growth001.nd2\n",
    "Mengyu/microscopy/2022-12-26 Jurkat cell growth/jurkat-growth.nd2\n",
    "Mengyu/microscopy/2023-05-12 Jurkat cell growth (w 10ng per ml IL-7)/growth.nd2\"\"\".split(\n",
    "    \"\\n\"\n",
    ")\n",
    "selected_filenames = [f\"{filename_prefix}{filename}\" for filename in selected_filenames]"
   ]
  },
  {
   "cell_type": "code",
   "execution_count": null,
   "id": "36",
   "metadata": {},
   "outputs": [],
   "source": [
    "selected_filenames"
   ]
  },
  {
   "cell_type": "code",
   "execution_count": null,
   "id": "37",
   "metadata": {},
   "outputs": [],
   "source": [
    "%%time\n",
    "metadata = {}\n",
    "for filename in tqdm(selected_filenames):\n",
    "    metadata[filename] = client.submit(imd.parse_nd2_file_metadata, filename).result()"
   ]
  },
  {
   "cell_type": "code",
   "execution_count": null,
   "id": "38",
   "metadata": {},
   "outputs": [],
   "source": [
    "%%time\n",
    "metadata2 = {}\n",
    "for filename in tqdm(selected_filenames):\n",
    "    metadata2[filename] = client.submit(get_nd2_metadata, filename).result()"
   ]
  },
  {
   "cell_type": "code",
   "execution_count": null,
   "id": "39",
   "metadata": {},
   "outputs": [],
   "source": [
    "for filename in selected_filenames:\n",
    "    print(metadata2[filename][0])"
   ]
  },
  {
   "cell_type": "code",
   "execution_count": null,
   "id": "40",
   "metadata": {},
   "outputs": [],
   "source": [
    "metadata[\n",
    "    \"/home/jqs1/research.files/Personal_Folders/Noah/230125/overnight_growth.nd2\"\n",
    "].keys()"
   ]
  },
  {
   "cell_type": "code",
   "execution_count": null,
   "id": "41",
   "metadata": {},
   "outputs": [],
   "source": [
    "x = metadata[\n",
    "    \"/home/jqs1/research.files/Personal_Folders/Noah/230125/overnight_growth.nd2\"\n",
    "][\"image_metadata\"]"
   ]
  },
  {
   "cell_type": "code",
   "execution_count": null,
   "id": "42",
   "metadata": {},
   "outputs": [],
   "source": [
    "x"
   ]
  },
  {
   "cell_type": "code",
   "execution_count": null,
   "id": "43",
   "metadata": {},
   "outputs": [],
   "source": [
    "{k: v[\"image_calibration\"][\"SLxCalibration\"][\"sObjective\"] for k, v in metadata.items()}"
   ]
  },
  {
   "cell_type": "markdown",
   "id": "44",
   "metadata": {},
   "source": [
    "# ND2 to Zarr conversion"
   ]
  },
  {
   "cell_type": "code",
   "execution_count": null,
   "id": "45",
   "metadata": {},
   "outputs": [],
   "source": [
    "output_filename = (\n",
    "    f\"/home/jqs1/group/jqs1/microscopy/for_janelia/{Path(str(filename)).name}\"\n",
    ")"
   ]
  },
  {
   "cell_type": "code",
   "execution_count": null,
   "id": "46",
   "metadata": {},
   "outputs": [],
   "source": [
    "output_filename"
   ]
  },
  {
   "cell_type": "code",
   "execution_count": null,
   "id": "47",
   "metadata": {},
   "outputs": [],
   "source": [
    "%%time\n",
    "readers.convert_nd2_to_array(\n",
    "    nd2,\n",
    "    output_filename,\n",
    "    file_axes=[],\n",
    "    dataset_axes=[\"fov\", \"channel\"],\n",
    "    slices=dict(fov=[11], t=slice(None)),\n",
    "    format=\"zarr\",\n",
    ")"
   ]
  },
  {
   "cell_type": "code",
   "execution_count": null,
   "id": "48",
   "metadata": {},
   "outputs": [],
   "source": [
    "x = h5py.File(\n",
    "    \"/home/jqs1/group/jqs1/microscopy/for_janelia/230830_repressilators.nd2.split.aa/fov=22.hdf5\"\n",
    ")"
   ]
  },
  {
   "cell_type": "code",
   "execution_count": null,
   "id": "49",
   "metadata": {},
   "outputs": [],
   "source": [
    "y = zarr.convenience.open(output_filename + \".zarr\")"
   ]
  },
  {
   "cell_type": "code",
   "execution_count": null,
   "id": "50",
   "metadata": {},
   "outputs": [],
   "source": [
    "display_image(y[\"fov=11/channel=CFP-EM\"][0, 0], scale=0.99)"
   ]
  },
  {
   "cell_type": "code",
   "execution_count": null,
   "id": "51",
   "metadata": {},
   "outputs": [],
   "source": [
    "display_image(x[\"channel=CFP-EM\"][0, 0], scale=0.99)"
   ]
  },
  {
   "cell_type": "markdown",
   "id": "52",
   "metadata": {
    "tags": []
   },
   "source": [
    "# Handler"
   ]
  },
  {
   "cell_type": "code",
   "execution_count": null,
   "id": "53",
   "metadata": {},
   "outputs": [],
   "source": [
    "def crop_rois(img, rois):\n",
    "    crops = {}\n",
    "    # TODO: the islice is just for testing (we only deal with three trenches for FOV), otherwise every dask task takes a long time\n",
    "    # for i, crop in it.islice(geometry.iter_roi_crops(img, rois), 100):\n",
    "    for i, crop in geometry.iter_roi_crops(img, rois):\n",
    "        crops[i] = crop\n",
    "    return crops\n",
    "\n",
    "\n",
    "def segment_crops(crops):\n",
    "    masks = {}\n",
    "    for i, crop in crops.items():\n",
    "        masks[i] = segmentation.watershed.segment(crop)\n",
    "    return masks\n",
    "\n",
    "\n",
    "# TODO: this is really boilerplatey, also we want finer task granularity than doing a whole FOV at once\n",
    "# def measure_crops(label_images, intensity_images):\n",
    "#     keys = label_images.keys() & intensity_images.keys()\n",
    "#     return {k: measure_crop(label_images[k], intensity_images[k]) for k in keys}\n",
    "def measure_crops(intensity_images):\n",
    "    keys = intensity_images.keys()\n",
    "    return {k: measure_crop(intensity_images[k]) for k in keys}\n",
    "\n",
    "\n",
    "# def measure_crop(label_image, intensity_image):\n",
    "# return pd.DataFrame(\n",
    "#     skimage.measure.regionprops_table(\n",
    "#         label_image,\n",
    "#         intensity_image,\n",
    "#         properties=(\n",
    "#             \"label\",\n",
    "#             \"intensity_mean\",\n",
    "#         ),\n",
    "#     )\n",
    "# ).set_index(\"label\")\n",
    "def measure_crop(intensity_image):\n",
    "    centerline = intensity_image[:, intensity_image.shape[1] // 2]\n",
    "    return pd.Series(\n",
    "        {\n",
    "            # \"p1\": np.percentile(intensity_image, 1),\n",
    "            # \"p50\": np.median(intensity_image),\n",
    "            \"p90\": np.percentile(intensity_image, 90),\n",
    "            # \"p99\": np.percentile(intensity_image, 99),\n",
    "            # \"mean\": np.mean(intensity_image),\n",
    "            # \"centerline_mean\": np.mean(centerline),\n",
    "            # \"centerline_median\": np.median(centerline),\n",
    "        },\n",
    "        name=\"value\",\n",
    "    ).rename_axis(index=\"observable\")\n",
    "\n",
    "\n",
    "def measure_mask_crops(label_images):\n",
    "    return {k: measure_mask_crop(v) for k, v in label_images.items()}\n",
    "\n",
    "\n",
    "def measure_mask_crop(label_image):\n",
    "    return pd.DataFrame(\n",
    "        skimage.measure.regionprops_table(\n",
    "            label_image,\n",
    "            properties=(\n",
    "                \"label\",\n",
    "                \"area\",\n",
    "                \"axis_major_length\",\n",
    "                \"axis_minor_length\",\n",
    "                \"orientation\",\n",
    "                \"centroid\",\n",
    "            ),\n",
    "        )\n",
    "    ).set_index(\"label\")\n",
    "\n",
    "\n",
    "def write_parquet(output_dir, measurements, position, t):\n",
    "    df = pd.concat(\n",
    "        {\n",
    "            channel: pd.concat(channel_df, names=[\"roi_idx\"])\n",
    "            for channel, channel_df in measurements.items()\n",
    "        },\n",
    "        names=[\"channel\"],\n",
    "    ).reset_index()\n",
    "    df[\"position\"] = np.array(position).astype(np.uint16)\n",
    "    df[\"t\"] = np.array(t).astype(np.uint16)\n",
    "    pq.write_to_dataset(\n",
    "        pa.Table.from_pandas(df, preserve_index=False),\n",
    "        Path(output_dir) / \"measurements\",\n",
    "        partition_cols=[\"position\", \"t\"],\n",
    "        existing_data_behavior=\"delete_matching\",\n",
    "    )\n",
    "\n",
    "\n",
    "def stack_dict(d, size=None, cval=0):\n",
    "    if size is None:\n",
    "        size = max(d.keys()) + 1\n",
    "    shape = next(iter(d.values())).shape\n",
    "    null = np.full(shape, cval)\n",
    "    return [d.get(idx, null) for idx in range(size)]\n",
    "\n",
    "\n",
    "def _pad(ary, shape, cval=0):\n",
    "    return np.pad(\n",
    "        ary,\n",
    "        [(0, max(goal - current, 0)) for goal, current in zip(shape, ary.shape)],\n",
    "        constant_values=cval,\n",
    "    )\n",
    "\n",
    "\n",
    "def write_zarr(filename, crops, t, max_t, channels, cval=0, dtype=np.uint16):\n",
    "    store = zarr.DirectoryStore(filename)  # DirectoryStoreV3(filename)\n",
    "    if not filename.exists():\n",
    "        num_rois = max(crops[channels[0]].keys()) + 1\n",
    "        num_channels = len(channels)\n",
    "        max_shape = np.max([crop.shape for crop in crops[channels[0]].values()], axis=0)\n",
    "        shape = (num_rois, max_t, num_channels, *max_shape)\n",
    "        # chunks = (5, 1, num_channels, None, None)\n",
    "        chunks = (20, 1, num_channels, None, None)\n",
    "        ary = zarr.open_array(\n",
    "            store,\n",
    "            mode=\"a\",\n",
    "            zarr_version=2,\n",
    "            shape=shape,\n",
    "            chunks=chunks,\n",
    "            fill_value=cval,\n",
    "            dtype=dtype,\n",
    "        )\n",
    "    else:\n",
    "        ary = zarr.open_array(store, mode=\"a\", zarr_version=2)\n",
    "        max_shape = ary.shape[-2:]\n",
    "    stack = np.array(\n",
    "        [\n",
    "            stack_dict(\n",
    "                {\n",
    "                    idx: _pad(crop.astype(dtype), max_shape)\n",
    "                    for idx, crop in crops[channel].items()\n",
    "                },\n",
    "                size=ary.shape[0],\n",
    "            )\n",
    "            for channel in channels\n",
    "        ]\n",
    "    ).swapaxes(0, 1)\n",
    "    ary[:, t, ...] = stack"
   ]
  },
  {
   "cell_type": "code",
   "execution_count": null,
   "id": "54",
   "metadata": {},
   "outputs": [],
   "source": [
    "# output_dir = Path(filename).parent / \"for_ranit_3fovs_uint16_v2\"\n",
    "# output_dir.mkdir(exist_ok=True)"
   ]
  },
  {
   "cell_type": "code",
   "execution_count": null,
   "id": "55",
   "metadata": {},
   "outputs": [],
   "source": [
    "# #segmentation_channels = [\"RFP-PENTA\"]\n",
    "# segmentation_channels = [\"RFP-EM\", \"GFP-EM\", \"YFP-EM\", \"CFP-EM\"]\n",
    "# trench_detection_channels = segmentation_channels # channel for trench detection, almost always same as segmentation_channel\n",
    "# # measure_channels = [\"RFP-PENTA\", \"YFP-DUAL\"]\n",
    "# measure_channels = [\"Phase-Fluor\", \"RFP-EM\", \"GFP-EM\", \"YFP-EM\", \"CFP-EM\"]\n",
    "# fish_channels = [\"RFP-PENTA\", \"Cy5-PENTA\", \"Cy7\"]"
   ]
  },
  {
   "cell_type": "code",
   "execution_count": null,
   "id": "56",
   "metadata": {},
   "outputs": [],
   "source": [
    "segmentation_channels = [\"RFP-EM\"]\n",
    "# measurement_channels = [\"CFP-EM\", \"YFP-EM\", \"RFP-EM\"]\n",
    "measurement_channels = []\n",
    "crop_channels = nd2.metadata[\"channels\"]\n",
    "# channel_colors = [colors[channel] for channel in measurement_channels]\n",
    "width_to_pitch_ratio = 1.4 / 3.5  # for debugging: 2.2 / 3.5\n",
    "k1 = 8.5e-10\n",
    "center_y = -800\n",
    "center_x = 0\n",
    "center = image.center_from_shape((nd2.sizes[\"y\"], nd2.sizes[\"x\"])) - np.array(\n",
    "    [center_x, center_y]\n",
    ")"
   ]
  },
  {
   "cell_type": "code",
   "execution_count": null,
   "id": "57",
   "metadata": {},
   "outputs": [],
   "source": [
    "def get_frame_func(\n",
    "    filename, position, channel, t, k1=k1, center=center, dark=None, flat=None\n",
    "):\n",
    "    return image.correct_radial_distortion(\n",
    "        np.asarray(\n",
    "            workflow.get_nd2_frame(\n",
    "                filename, position=position, channel=channel, t=t, dark=dark, flat=flat\n",
    "            )\n",
    "        ),\n",
    "        k1=k1,\n",
    "        input_center=center,\n",
    "    ).astype(np.uint16)"
   ]
  },
  {
   "cell_type": "code",
   "execution_count": null,
   "id": "58",
   "metadata": {},
   "outputs": [],
   "source": [
    "%%time\n",
    "img0 = get_frame_func(filename, 11, segmentation_channels[0], 0)\n",
    "# TODO: replace with calculation that doesn't require processing an image\n",
    "image_limits = geometry.get_image_limits(img0.shape)"
   ]
  },
  {
   "cell_type": "code",
   "execution_count": null,
   "id": "59",
   "metadata": {},
   "outputs": [],
   "source": [
    "display_image(img0, scale=0.99, downsample=4)"
   ]
  },
  {
   "cell_type": "code",
   "execution_count": null,
   "id": "60",
   "metadata": {},
   "outputs": [],
   "source": [
    "[\"Phase-Fluor\", \"RFP-EM\", \"GFP-EM\", \"YFP-EM\", \"CFP-EM\"]"
   ]
  },
  {
   "cell_type": "code",
   "execution_count": null,
   "id": "61",
   "metadata": {},
   "outputs": [],
   "source": [
    "display_image(get_frame_func(filename, 11, \"GFP-EM\", 0), scale=0.99, downsample=4)"
   ]
  },
  {
   "cell_type": "code",
   "execution_count": null,
   "id": "62",
   "metadata": {},
   "outputs": [],
   "source": [
    "display_image(get_frame_func(filename, 11, \"YFP-EM\", 0), scale=0.99, downsample=4)"
   ]
  },
  {
   "cell_type": "code",
   "execution_count": null,
   "id": "63",
   "metadata": {},
   "outputs": [],
   "source": [
    "display_image(get_frame_func(filename, 11, \"CFP-EM\", 20), scale=0.99, downsample=4)"
   ]
  },
  {
   "cell_type": "code",
   "execution_count": null,
   "id": "64",
   "metadata": {},
   "outputs": [],
   "source": [
    "%%time\n",
    "imgs = [\n",
    "    get_frame_func(filename, 50, channel, 0)\n",
    "    for channel in tqdm(nd2.metadata[\"channels\"][1:])\n",
    "]"
   ]
  },
  {
   "cell_type": "code",
   "execution_count": null,
   "id": "65",
   "metadata": {},
   "outputs": [],
   "source": [
    "%%time\n",
    "\n",
    "\n",
    "def combine_channels_for_segmentation(imgs, same_dtype=True):\n",
    "    dtype = imgs[0].dtype\n",
    "    imgs = [\n",
    "        imgs[0],\n",
    "        *(skimage.exposure.match_histograms(img, imgs[0]) for img in imgs[1:]),\n",
    "    ]\n",
    "    combined = np.sum(np.stack(imgs) / len(imgs), axis=0)\n",
    "    if same_dtype:\n",
    "        combined = combined.astype(dtype)\n",
    "    return combined\n",
    "\n",
    "\n",
    "combined = combine_channels_for_segmentation(imgs)"
   ]
  },
  {
   "cell_type": "code",
   "execution_count": null,
   "id": "66",
   "metadata": {},
   "outputs": [],
   "source": [
    "combined.max()"
   ]
  },
  {
   "cell_type": "code",
   "execution_count": null,
   "id": "67",
   "metadata": {},
   "outputs": [],
   "source": [
    "display_image(combined, scale=0.99, downsample=1)"
   ]
  },
  {
   "cell_type": "code",
   "execution_count": null,
   "id": "68",
   "metadata": {},
   "outputs": [],
   "source": [
    "%%time\n",
    "diag = util.tree()\n",
    "rois, info = trench_detection.find_trenches(\n",
    "    img0,\n",
    "    width_to_pitch_ratio=width_to_pitch_ratio,\n",
    "    join_info=False,\n",
    "    diagnostics=diag,\n",
    "    # pitch=16.173741362290226\n",
    ")\n",
    "angle = info[\"angle\"]\n",
    "pitch = info[\"pitch\"]\n",
    "(angle, pitch)"
   ]
  },
  {
   "cell_type": "code",
   "execution_count": null,
   "id": "69",
   "metadata": {},
   "outputs": [],
   "source": [
    "diag[\"labeling\"][\"set_finding\"][\"image_with_lines\"]"
   ]
  },
  {
   "cell_type": "code",
   "execution_count": null,
   "id": "70",
   "metadata": {},
   "outputs": [],
   "source": [
    "diag[\"bboxes\"]"
   ]
  },
  {
   "cell_type": "code",
   "execution_count": null,
   "id": "71",
   "metadata": {},
   "outputs": [],
   "source": [
    "def process_fov(\n",
    "    get_frame_func,\n",
    "    position,\n",
    "    ts,\n",
    "    output_dir,\n",
    "    segmentation_channels,\n",
    "    measurement_channels,\n",
    "    crop_channels,\n",
    "    image_limits,\n",
    "    write_full_frames=True,\n",
    "    find_trenches_kwargs={},\n",
    "    dark=None,\n",
    "    flats=None,\n",
    "    delayed=True,\n",
    "):\n",
    "    delayed = util.get_delayed(delayed)\n",
    "    channels = [\n",
    "        segmentation_channels[0],\n",
    "        *(\n",
    "            set(measurement_channels).union(crop_channels)\n",
    "            - set([segmentation_channels[0]])\n",
    "        ),\n",
    "    ]\n",
    "    measurement_channels = measurement_channels\n",
    "    rois = None\n",
    "    shifts = {}\n",
    "    write_tasks = []\n",
    "    for prev_t, t in tqdm(list(zip(it.chain([None], ts[:-1]), ts))):\n",
    "        segmentation_img = delayed(get_frame_func)(\n",
    "            position, segmentation_channels[0], t\n",
    "        )\n",
    "        full_frames = {segmentation_channels[0]: segmentation_img}\n",
    "        if rois is None:\n",
    "            rois = delayed(trench_detection.find_trenches)(\n",
    "                segmentation_img, **{**dict(join_info=True), **find_trenches_kwargs}\n",
    "            )\n",
    "            shifts[t] = np.array([0, 0])\n",
    "            initial_drift_features = delayed(drift.get_drift_features)(\n",
    "                segmentation_img, rois, shifts[t]\n",
    "            )\n",
    "        else:\n",
    "            shifts[t] = delayed(drift.find_feature_drift)(\n",
    "                initial_drift_features,\n",
    "                segmentation_img,\n",
    "                rois,\n",
    "                initial_shift2=shifts[prev_t],\n",
    "            )\n",
    "        shifted_rois = delayed(geometry.filter_rois)(\n",
    "            delayed(geometry.shift_rois)(rois, shifts[t]), image_limits\n",
    "        )\n",
    "        crops = {}\n",
    "        measurements = {}\n",
    "        for channel in channels:\n",
    "            if channel == segmentation_channels[0]:\n",
    "                crops[channel] = delayed(crop_rois)(segmentation_img, shifted_rois)\n",
    "                # mask_crops = delayed(segment_crops)(crops[channel])\n",
    "                # mask_measurements = delayed(measure_mask_crops)(mask_crops)\n",
    "            else:\n",
    "                img = delayed(get_frame_func)(position, channel, t)\n",
    "                full_frames[channel] = img\n",
    "                crops[channel] = delayed(crop_rois)(img, shifted_rois)\n",
    "            if channel in measurement_channels:\n",
    "                # measurements[channel] = delayed(measure_crops)(mask_crops, crops[channel])\n",
    "                measurements[channel] = delayed(measure_crops)(crops[channel])\n",
    "        metadata = dict(shifts=shifts)\n",
    "        if measurements:\n",
    "            write_tasks.append(\n",
    "                delayed(write_parquet)(output_dir, measurements, position, t)\n",
    "            )\n",
    "        crops_to_write = {\n",
    "            channel: channel_crops\n",
    "            for channel, channel_crops in crops.items()\n",
    "            if channel in crop_channels\n",
    "        }\n",
    "        write_tasks.append(\n",
    "            delayed(write_zarr)(\n",
    "                output_dir / f\"crops_v={position}.zarr\",\n",
    "                crops_to_write,\n",
    "                t,\n",
    "                max_t,\n",
    "                crop_channels,\n",
    "            )\n",
    "        )\n",
    "        full_frames_to_write = {\n",
    "            channel: {0: frame} for channel, frame in full_frames.items()\n",
    "        }\n",
    "        write_tasks.append(\n",
    "            delayed(write_zarr)(\n",
    "                output_dir / f\"full_frames_v={position}.zarr\",\n",
    "                full_frames_to_write,\n",
    "                t,\n",
    "                max_t,\n",
    "                crop_channels,\n",
    "            )\n",
    "        )\n",
    "        # TODO: rois, metadata\n",
    "    return write_tasks"
   ]
  },
  {
   "cell_type": "code",
   "execution_count": null,
   "id": "72",
   "metadata": {},
   "outputs": [],
   "source": [
    "%%time\n",
    "# %%pyinstrument\n",
    "ts = np.arange(max_t)\n",
    "# ts = np.arange(2)\n",
    "res = []\n",
    "for position in trange(11, 14):\n",
    "    res.append(\n",
    "        process_fov(\n",
    "            partial(get_frame_func, filename),\n",
    "            position,\n",
    "            ts,\n",
    "            output_dir,\n",
    "            segmentation_channels,\n",
    "            measurement_channels,\n",
    "            crop_channels,\n",
    "            image_limits,\n",
    "            find_trenches_kwargs=dict(\n",
    "                angle=angle, pitch=pitch, width_to_pitch_ratio=width_to_pitch_ratio\n",
    "            ),\n",
    "            delayed=True,\n",
    "        )\n",
    "    )"
   ]
  },
  {
   "cell_type": "code",
   "execution_count": null,
   "id": "73",
   "metadata": {},
   "outputs": [],
   "source": [
    "%%time\n",
    "futures = [client.compute(x) for x in tqdm(res)]"
   ]
  },
  {
   "cell_type": "code",
   "execution_count": null,
   "id": "74",
   "metadata": {},
   "outputs": [],
   "source": [
    "del futures"
   ]
  },
  {
   "cell_type": "code",
   "execution_count": null,
   "id": "75",
   "metadata": {},
   "outputs": [],
   "source": [
    "client.gather(futures)"
   ]
  },
  {
   "cell_type": "code",
   "execution_count": null,
   "id": "76",
   "metadata": {},
   "outputs": [],
   "source": [
    "errored = [e for fov in futures if (e := [f for f in fov if f.status == \"error\"])]"
   ]
  }
 ],
 "metadata": {
  "kernelspec": {
   "display_name": "Python 3 (ipykernel)",
   "language": "python",
   "name": "python3"
  },
  "language_info": {
   "codemirror_mode": {
    "name": "ipython",
    "version": 3
   },
   "file_extension": ".py",
   "mimetype": "text/x-python",
   "name": "python",
   "nbconvert_exporter": "python",
   "pygments_lexer": "ipython3",
   "version": "3.12.2"
  }
 },
 "nbformat": 4,
 "nbformat_minor": 4
}
