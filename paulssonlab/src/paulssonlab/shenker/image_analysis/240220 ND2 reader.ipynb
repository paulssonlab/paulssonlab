{
 "cells": [
  {
   "cell_type": "code",
   "execution_count": null,
   "id": "eaf10a86-c8ec-4a0c-961e-4332e6f9b70c",
   "metadata": {},
   "outputs": [],
   "source": [
    "import nd2\n",
    "from split_file_reader import SplitFileReader\n",
    "\n",
    "import paulssonlab.image_analysis.workflow as workflow"
   ]
  },
  {
   "cell_type": "code",
   "execution_count": null,
   "id": "ca8c6b9a-3d23-4097-919b-f541f8458ceb",
   "metadata": {},
   "outputs": [],
   "source": [
    "# filename = \"/home/jqs1/scratch/microscopy/230915/230915_RBS_repressors.nd2\"\n",
    "filename = workflow.SplitFilename(\n",
    "    sorted(\n",
    "        glob.glob(\n",
    "            # \"/home/jqs1/scratch/jqs1/microscopy/230619/230619_NAO745_repressilators_split.nd2*\"\n",
    "            # \"/home/jqs1/scratch/jqs1/microscopy/230707/230707_repressilators_restart.nd2.split.a*\"\n",
    "            \"/home/jqs1/scratch/microscopy/230830/230830_repressilators.nd2.split.*\"\n",
    "        )\n",
    "    )\n",
    ")"
   ]
  },
  {
   "cell_type": "code",
   "execution_count": null,
   "id": "2aac2b54-6c99-484d-bb5f-77cde6998d62",
   "metadata": {},
   "outputs": [],
   "source": [
    "nd2_file = SplitFileReader.open(filename.files, mode=\"rb\")\n",
    "nd2_file.mode = \"rb\"\n",
    "nd2_file.name = filename.files[0]\n",
    "f = nd2.ND2File(nd2_file, use_mmap=False)"
   ]
  },
  {
   "cell_type": "code",
   "execution_count": null,
   "id": "dfe85019-cc3a-4ee2-a5d5-a242a88b2557",
   "metadata": {},
   "outputs": [],
   "source": [
    "f.sizes"
   ]
  },
  {
   "cell_type": "code",
   "execution_count": null,
   "id": "1e6cbd22-db62-4d62-b523-1578535d0d35",
   "metadata": {},
   "outputs": [],
   "source": [
    "f.metadata.channels[0]"
   ]
  },
  {
   "cell_type": "code",
   "execution_count": null,
   "id": "45f645fc-f0c1-44ee-9f1f-7d4d213d7f97",
   "metadata": {},
   "outputs": [],
   "source": [
    "f.frame_metadata(10)"
   ]
  },
  {
   "cell_type": "code",
   "execution_count": null,
   "id": "c9e98ef6-3dc1-4aba-9dbd-c97905afa43b",
   "metadata": {},
   "outputs": [],
   "source": [
    "np.ravel_multi_index(frame_coordinate, coord_shape)"
   ]
  },
  {
   "cell_type": "code",
   "execution_count": null,
   "id": "4e494d00-e44d-48fc-80ea-92fe39198873",
   "metadata": {},
   "outputs": [],
   "source": [
    "f.read_frame(100)"
   ]
  }
 ],
 "metadata": {
  "kernelspec": {
   "display_name": "Python 3 (ipykernel)",
   "language": "python",
   "name": "python3"
  },
  "language_info": {
   "codemirror_mode": {
    "name": "ipython",
    "version": 3
   },
   "file_extension": ".py",
   "mimetype": "text/x-python",
   "name": "python",
   "nbconvert_exporter": "python",
   "pygments_lexer": "ipython3",
   "version": "3.12.2"
  }
 },
 "nbformat": 4,
 "nbformat_minor": 5
}
