{
 "cells": [
  {
   "cell_type": "code",
   "execution_count": null,
   "id": "904fe7b8-fc30-4043-9bd1-9fff891ed24a",
   "metadata": {},
   "outputs": [],
   "source": [
    "import dask\n",
    "import distributed"
   ]
  },
  {
   "cell_type": "code",
   "execution_count": null,
   "id": "43cb84db-7a0c-4026-a792-4646d8cb6a69",
   "metadata": {},
   "outputs": [],
   "source": [
    "%load_ext autoreload\n",
    "%autoreload 2"
   ]
  },
  {
   "cell_type": "code",
   "execution_count": null,
   "id": "4e1b5b22-3864-4032-a836-3ebee1309e10",
   "metadata": {},
   "outputs": [],
   "source": [
    "import paulssonlab.image_analysis.delayed as delayed"
   ]
  },
  {
   "cell_type": "code",
   "execution_count": null,
   "id": "da19449b-85aa-4329-a555-6c1e0a1f8787",
   "metadata": {},
   "outputs": [],
   "source": [
    "runner = delayed.Runner.get(\"eager\")"
   ]
  },
  {
   "cell_type": "code",
   "execution_count": null,
   "id": "9c9c5d2b-5e33-4ccb-ba74-63324403dc1a",
   "metadata": {},
   "outputs": [],
   "source": [
    "runner"
   ]
  },
  {
   "cell_type": "code",
   "execution_count": null,
   "id": "b4f4c98a-07e7-4dc4-8e5c-5a005c7eff05",
   "metadata": {},
   "outputs": [],
   "source": [
    "def foo(x, y, z):\n",
    "    return x * 100 + y * 10 + z"
   ]
  },
  {
   "cell_type": "code",
   "execution_count": null,
   "id": "f79b4748-642a-4888-8d96-19ef9e01b082",
   "metadata": {},
   "outputs": [],
   "source": [
    "a = delayed.DelayedValue()\n",
    "b = delayed.DelayedValue()\n",
    "c = delayed.DelayedValue()\n",
    "d = runner.delayed(foo, a, b, c)"
   ]
  },
  {
   "cell_type": "code",
   "execution_count": null,
   "id": "257061d9-f742-46f3-abfb-1d19074d104a",
   "metadata": {},
   "outputs": [],
   "source": [
    "a.is_ready()"
   ]
  },
  {
   "cell_type": "code",
   "execution_count": null,
   "id": "3e67f143-dab7-4b85-9491-adfac9ae50bf",
   "metadata": {},
   "outputs": [],
   "source": [
    "a.value = 1\n",
    "b.value = 2\n",
    "c.value = 3"
   ]
  },
  {
   "cell_type": "code",
   "execution_count": null,
   "id": "874d88be-3863-482e-8141-a7719bf51045",
   "metadata": {},
   "outputs": [],
   "source": [
    "d.is_ready()"
   ]
  },
  {
   "cell_type": "code",
   "execution_count": null,
   "id": "38d53717-d68b-4727-8242-99dd9ea51df3",
   "metadata": {},
   "outputs": [],
   "source": [
    "d.result()"
   ]
  }
 ],
 "metadata": {
  "kernelspec": {
   "display_name": "Python 3 (ipykernel)",
   "language": "python",
   "name": "python3"
  },
  "language_info": {
   "codemirror_mode": {
    "name": "ipython",
    "version": 3
   },
   "file_extension": ".py",
   "mimetype": "text/x-python",
   "name": "python",
   "nbconvert_exporter": "python",
   "pygments_lexer": "ipython3",
   "version": "3.12.2"
  }
 },
 "nbformat": 4,
 "nbformat_minor": 5
}
