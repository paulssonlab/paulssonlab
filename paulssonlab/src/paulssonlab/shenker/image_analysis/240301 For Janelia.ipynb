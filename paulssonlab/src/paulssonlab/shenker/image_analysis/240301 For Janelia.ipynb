{
 "cells": [
  {
   "cell_type": "markdown",
   "id": "0",
   "metadata": {
    "tags": []
   },
   "source": [
    "# Imports"
   ]
  },
  {
   "cell_type": "code",
   "execution_count": null,
   "id": "1",
   "metadata": {},
   "outputs": [],
   "source": [
    "import itertools as it\n",
    "import re\n",
    "from functools import partial\n",
    "from glob import glob\n",
    "from pathlib import Path\n",
    "\n",
    "import dask\n",
    "import distributed\n",
    "import nd2reader\n",
    "import numpy as np\n",
    "import pandas as pd\n",
    "import requests\n",
    "import zarr\n",
    "from dask import delayed\n",
    "from dask_jobqueue import SLURMCluster\n",
    "from distributed import Client, LocalCluster, progress\n",
    "from tqdm.auto import tqdm, trange"
   ]
  },
  {
   "cell_type": "code",
   "execution_count": null,
   "id": "2",
   "metadata": {
    "tags": []
   },
   "outputs": [],
   "source": [
    "from dask.diagnostics import ProgressBar\n",
    "\n",
    "ProgressBar().register()"
   ]
  },
  {
   "cell_type": "code",
   "execution_count": null,
   "id": "3",
   "metadata": {},
   "outputs": [],
   "source": [
    "%load_ext autoreload\n",
    "%autoreload 2"
   ]
  },
  {
   "cell_type": "code",
   "execution_count": null,
   "id": "4",
   "metadata": {},
   "outputs": [],
   "source": [
    "import paulssonlab.io.metadata as imd\n",
    "from paulssonlab.image_analysis import *\n",
    "from paulssonlab.image_analysis.ui import display_image"
   ]
  },
  {
   "cell_type": "markdown",
   "id": "5",
   "metadata": {},
   "source": [
    "# Config"
   ]
  },
  {
   "cell_type": "code",
   "execution_count": null,
   "id": "6",
   "metadata": {},
   "outputs": [],
   "source": [
    "cluster = SLURMCluster(\n",
    "    queue=\"transfer\",\n",
    "    walltime=\"02:00:00\",\n",
    "    memory=\"2GB\",\n",
    "    local_directory=\"/tmp\",\n",
    "    log_directory=\"/home/jqs1/log\",\n",
    "    cores=1,\n",
    "    processes=1,\n",
    ")\n",
    "client = Client(cluster)"
   ]
  },
  {
   "cell_type": "code",
   "execution_count": null,
   "id": "7",
   "metadata": {},
   "outputs": [],
   "source": [
    "cluster"
   ]
  },
  {
   "cell_type": "code",
   "execution_count": null,
   "id": "8",
   "metadata": {},
   "outputs": [],
   "source": [
    "cluster.scale(10)"
   ]
  },
  {
   "cell_type": "code",
   "execution_count": null,
   "id": "9",
   "metadata": {},
   "outputs": [],
   "source": [
    "cluster.adapt(maximum=20)"
   ]
  },
  {
   "cell_type": "markdown",
   "id": "10",
   "metadata": {
    "jp-MarkdownHeadingCollapsed": true
   },
   "source": [
    "# Inventory"
   ]
  },
  {
   "cell_type": "code",
   "execution_count": null,
   "id": "11",
   "metadata": {},
   "outputs": [],
   "source": [
    "filenames = client.submit(\n",
    "    glob.glob, \"/home/jqs1/research.files/Personal_Folders/Noah/23*/*.nd2\"\n",
    ").result()"
   ]
  },
  {
   "cell_type": "code",
   "execution_count": null,
   "id": "12",
   "metadata": {},
   "outputs": [],
   "source": [
    "filenames"
   ]
  },
  {
   "cell_type": "code",
   "execution_count": null,
   "id": "13",
   "metadata": {},
   "outputs": [],
   "source": [
    "%%time\n",
    "md = {}\n",
    "for filename in tqdm(filenames):\n",
    "    sizes, channels = client.submit(get_nd2_metadata, filename).result()\n",
    "    md[filename] = (sizes, channels)"
   ]
  },
  {
   "cell_type": "code",
   "execution_count": null,
   "id": "14",
   "metadata": {},
   "outputs": [],
   "source": [
    "selected_filenames = [\n",
    "    \"/home/jqs1/research.files/Personal_Folders/Noah/230127/initial_growth.nd2\",\n",
    "    \"/home/jqs1/research.files/Personal_Folders/Noah/230203/230203_circuits.nd2\",\n",
    "    \"/home/jqs1/research.files/Personal_Folders/Noah/230131/230131_growth_5min.nd2\",\n",
    "    \"/home/jqs1/research.files/Personal_Folders/Noah/230131/230131_growth.nd2\",\n",
    "    \"/home/jqs1/research.files/Personal_Folders/Noah/231101/231101_FP_calibration.nd2\",\n",
    "    \"/home/jqs1/research.files/Personal_Folders/Noah/230915/test.nd2\",\n",
    "    \"/home/jqs1/research.files/Personal_Folders/Noah/230125/overnight_growth.nd2\",\n",
    "]"
   ]
  },
  {
   "cell_type": "code",
   "execution_count": null,
   "id": "15",
   "metadata": {},
   "outputs": [],
   "source": [
    "{k: v[0] for k, v in md.items() if k in selected_filenames}"
   ]
  },
  {
   "cell_type": "code",
   "execution_count": null,
   "id": "16",
   "metadata": {},
   "outputs": [],
   "source": [
    "{k: v[1] for k, v in md.items() if \"Phase-Fluor\" in v[1]}"
   ]
  },
  {
   "cell_type": "code",
   "execution_count": null,
   "id": "17",
   "metadata": {},
   "outputs": [],
   "source": [
    "md = imd.parse_nd2_file_metadata(\n",
    "    \"/home/jqs1/scratch/microscopy/231101/231101_FP_calibration.nd2\"\n",
    ")"
   ]
  },
  {
   "cell_type": "code",
   "execution_count": null,
   "id": "18",
   "metadata": {},
   "outputs": [],
   "source": [
    "md.keys()"
   ]
  },
  {
   "cell_type": "code",
   "execution_count": null,
   "id": "19",
   "metadata": {},
   "outputs": [],
   "source": [
    "md[\"image_calibration\"][\"SLxCalibration\"][\"sObjective\"]"
   ]
  },
  {
   "cell_type": "code",
   "execution_count": null,
   "id": "20",
   "metadata": {},
   "outputs": [],
   "source": [
    "%%time\n",
    "metadata = {}\n",
    "for filename in tqdm(selected_filenames):\n",
    "    metadata[filename] = client.submit(imd.parse_nd2_file_metadata, filename).result()"
   ]
  },
  {
   "cell_type": "code",
   "execution_count": null,
   "id": "21",
   "metadata": {},
   "outputs": [],
   "source": [
    "metadata.keys()"
   ]
  },
  {
   "cell_type": "code",
   "execution_count": null,
   "id": "22",
   "metadata": {},
   "outputs": [],
   "source": [
    "{k: v[\"image_calibration\"][\"SLxCalibration\"][\"sObjective\"] for k, v in metadata.items()}"
   ]
  },
  {
   "cell_type": "code",
   "execution_count": null,
   "id": "23",
   "metadata": {},
   "outputs": [],
   "source": [
    "metadata[\"\"]"
   ]
  },
  {
   "cell_type": "code",
   "execution_count": null,
   "id": "24",
   "metadata": {},
   "outputs": [],
   "source": [
    "client.submit(glob.glob, \"\")"
   ]
  },
  {
   "cell_type": "code",
   "execution_count": null,
   "id": "25",
   "metadata": {},
   "outputs": [],
   "source": [
    "filename = \"\""
   ]
  },
  {
   "cell_type": "code",
   "execution_count": null,
   "id": "26",
   "metadata": {},
   "outputs": [],
   "source": [
    "def get_nd2_metadata(filename):\n",
    "    nd2 = workflow.get_nd2_reader(filename)\n",
    "    return nd2.sizes, nd2.metadata[\"channels\"]"
   ]
  },
  {
   "cell_type": "code",
   "execution_count": null,
   "id": "27",
   "metadata": {},
   "outputs": [],
   "source": [
    "sizes, channels = client.submit(get_nd2_metadata, filename).gather()"
   ]
  },
  {
   "cell_type": "code",
   "execution_count": null,
   "id": "28",
   "metadata": {},
   "outputs": [],
   "source": [
    "filename_prefix = \"/home/jqs1/research.files/Personal_Folders/\"\n",
    "selected_filenames = \"\"\"Noah/231101/231101_FP_calibration.nd2\n",
    "Noah/230131/230131_growth_5min.nd2\n",
    "Noah/230125/overnight_growth.nd2\n",
    "Noah/230203/230203_circuits.nd2\n",
    "Daniel/FISH_Paper_Data/lDE20_Data/2023-01-14_lDE20_Run_9/Experiment.nd2\n",
    "Daniel/FISH_Paper_Data/lDE15_Data/2021-10-21_lDE15_Final_1/experiment.nd2\n",
    "Daniel/FISH_Paper_Data/Isolates/2023-02-11_lpxK_LpxC_AB/Experiment.nd2\n",
    "Carlos/Ti5/LCS3_run1/Experiment.nd2\n",
    "Carlos/Ti5/LCS3_run2/Experiment.nd2\n",
    "Carlos/Ti5/08072023_lcs2/GlycerolArabinoseMedia.nd2\n",
    "Carlos/Ti5/08072023_lcs2/GlycerolMedia3hr.nd2\n",
    "Carlos/Ti5/2019_02_07/AndersonPromoters_Phase.nd2\n",
    "Luis/Imaging_Data/Bsubtilis_DegronRapamycin/2022-05-10_AF337-AF339_Ti6/tlapse-1.nd2\n",
    "Luis/Imaging_Data/Bsubtilis_BarcodesTesting/2023-10-31_lLAG2_AF555-AllCycles/Experiment.nd2\n",
    "Daniel/FISH_Paper_Data/lDE26_Data/2023-03-11_lDE26_Run_1/Experiment.nd2\n",
    "Luis/Imaging_Data/Ecoli_Libraries/2022-08-19_MM-Ti5-lDE24/2022-08-19_MM-Ti5-lDE24.nd2\n",
    "Raquel/Results/P1 grant/Gilmore/2023_07_12 RF320 Rifam/RF320.nd2\n",
    "Raquel/Results/P1 grant/Gilmore/2023_07_20 RF320 Rifam/64_128_256_512_.nd2\n",
    "Raquel/Results/P1 grant/Gilmore/2021_04_20 Enterococcus RF235/RF235.nd2\n",
    "Raquel/Results/P1 grant/Gilmore/2023_08_01 RF320 Dapto/Control_128_256_512.nd2\n",
    "Raquel/Results/P1 grant/Gilmore/2023_08_11 Tnlibrary Dapto dyes/ND2_growth/growth.nd2\n",
    "Raquel/Results/P1 grant/Gilmore/2023_08_24 EF daptomycin/growth.nd2\n",
    "Raquel/Results/P1 grant/Gilmore/2023_10_4 RF320/ND2_growth/Experiment_growth.nd2\n",
    "Raquel/Results/P1 grant/Gilmore/2023_12_07 RF157 MM/ND2/MHCA_Dapto.nd2\n",
    "Raquel/Results/P1 grant/Gilmore/2020_09_28 Enterococcus mcherry gfp/Enterococcus mcherry gfp.nd2\n",
    "Raquel/Results/PhoPQ/Mother machine experiments/2021_02_14 RF230 N10 Sin N50 Sin Snake no treatment (importante)/N10 Sin N50 Sin Snake.nd2\n",
    "Raquel/Results/P1 grant/Hooper/2023_03_09 RF322/ND2/Experiment.nd2\n",
    "Raquel/Results/P1 grant/Hooper/2023_03_30 RF322/ND2/Experiment.nd2\n",
    "Raquel/Results/P1 grant/Hooper/2023_09_06 RF322 pyocyanin/ND2/Control_Pyo_Naf_Pyo+Naf003.nd2\n",
    "Mengyu/microscopy/2022-04-15 Ti6/growth-lysogen-lambda2903_A01.nd2\n",
    "Mengyu/microscopy/2022-03-21 Ti6/1 growth/growth_start_with_inducer.nd2\n",
    "Mengyu/microscopy/2022-03-25 Ti6/1 growth/growth001.nd2\n",
    "Mengyu/microscopy/2022-12-26 Jurkat cell growth/jurkat-growth.nd2\n",
    "Mengyu/microscopy/2023-05-12 Jurkat cell growth (w 10ng per ml IL-7)/growth.nd2\"\"\".split(\n",
    "    \"\\n\"\n",
    ")\n",
    "selected_filenames = [f\"{filename_prefix}{filename}\" for filename in selected_filenames]"
   ]
  },
  {
   "cell_type": "code",
   "execution_count": null,
   "id": "29",
   "metadata": {},
   "outputs": [],
   "source": [
    "%%time\n",
    "metadata = {}\n",
    "for filename in tqdm(selected_filenames):\n",
    "    metadata[filename] = client.submit(imd.parse_nd2_file_metadata, filename).result()"
   ]
  },
  {
   "cell_type": "code",
   "execution_count": null,
   "id": "30",
   "metadata": {},
   "outputs": [],
   "source": [
    "%%time\n",
    "metadata2 = {}\n",
    "for filename in tqdm(selected_filenames):\n",
    "    metadata2[filename] = client.submit(get_nd2_metadata, filename).result()"
   ]
  },
  {
   "cell_type": "code",
   "execution_count": null,
   "id": "31",
   "metadata": {},
   "outputs": [],
   "source": [
    "for filename in selected_filenames:\n",
    "    print(metadata2[filename][0])"
   ]
  },
  {
   "cell_type": "code",
   "execution_count": null,
   "id": "32",
   "metadata": {},
   "outputs": [],
   "source": [
    "metadata[\n",
    "    \"/home/jqs1/research.files/Personal_Folders/Noah/230125/overnight_growth.nd2\"\n",
    "].keys()"
   ]
  },
  {
   "cell_type": "code",
   "execution_count": null,
   "id": "33",
   "metadata": {},
   "outputs": [],
   "source": [
    "x = metadata[\n",
    "    \"/home/jqs1/research.files/Personal_Folders/Noah/230125/overnight_growth.nd2\"\n",
    "][\"image_metadata\"]"
   ]
  },
  {
   "cell_type": "code",
   "execution_count": null,
   "id": "34",
   "metadata": {},
   "outputs": [],
   "source": [
    "x"
   ]
  },
  {
   "cell_type": "code",
   "execution_count": null,
   "id": "35",
   "metadata": {},
   "outputs": [],
   "source": [
    "{k: v[\"image_calibration\"][\"SLxCalibration\"][\"sObjective\"] for k, v in metadata.items()}"
   ]
  },
  {
   "cell_type": "markdown",
   "id": "36",
   "metadata": {},
   "source": [
    "# ND2 to Zarr conversion"
   ]
  },
  {
   "cell_type": "code",
   "execution_count": null,
   "id": "37",
   "metadata": {},
   "outputs": [],
   "source": [
    "output_filename = (\n",
    "    f\"/home/jqs1/group/jqs1/microscopy/for_janelia/{Path(str(filename)).name}\"\n",
    ")"
   ]
  },
  {
   "cell_type": "code",
   "execution_count": null,
   "id": "38",
   "metadata": {},
   "outputs": [],
   "source": [
    "output_filename"
   ]
  },
  {
   "cell_type": "code",
   "execution_count": null,
   "id": "39",
   "metadata": {},
   "outputs": [],
   "source": [
    "%%time\n",
    "readers.convert_nd2_to_array(\n",
    "    nd2,\n",
    "    output_filename,\n",
    "    file_axes=[],\n",
    "    dataset_axes=[\"fov\", \"channel\"],\n",
    "    slices=dict(fov=[11], t=slice(None)),\n",
    "    format=\"zarr\",\n",
    ")"
   ]
  },
  {
   "cell_type": "code",
   "execution_count": null,
   "id": "40",
   "metadata": {},
   "outputs": [],
   "source": [
    "x = h5py.File(\n",
    "    \"/home/jqs1/group/jqs1/microscopy/for_janelia/230830_repressilators.nd2.split.aa/fov=22.hdf5\"\n",
    ")"
   ]
  },
  {
   "cell_type": "code",
   "execution_count": null,
   "id": "41",
   "metadata": {},
   "outputs": [],
   "source": [
    "y = zarr.convenience.open(output_filename + \".zarr\")"
   ]
  },
  {
   "cell_type": "code",
   "execution_count": null,
   "id": "42",
   "metadata": {},
   "outputs": [],
   "source": [
    "display_image(y[\"fov=11/channel=CFP-EM\"][0, 0], scale=0.99)"
   ]
  },
  {
   "cell_type": "code",
   "execution_count": null,
   "id": "43",
   "metadata": {},
   "outputs": [],
   "source": [
    "display_image(x[\"channel=CFP-EM\"][0, 0], scale=0.99)"
   ]
  },
  {
   "cell_type": "markdown",
   "id": "44",
   "metadata": {},
   "source": [
    "## Full run"
   ]
  },
  {
   "cell_type": "code",
   "execution_count": null,
   "id": "45",
   "metadata": {},
   "outputs": [],
   "source": [
    "filename_prefix = Path(\"/home/jqs1/research.files/Personal_Folders/\")"
   ]
  },
  {
   "cell_type": "code",
   "execution_count": null,
   "id": "46",
   "metadata": {},
   "outputs": [],
   "source": [
    "df = pd.read_csv(\n",
    "    \"https://docs.google.com/spreadsheets/d/1WlZof_7zlann3N6oV0uyXFVkUqkBR5fKUtIKCJd9B4s/export?format=csv\",\n",
    "    header=1,\n",
    ")[1:]\n",
    "df.columns = df.columns.str.replace(r\"\\s+\\(.*\\)$\", \"\", regex=True)\n",
    "df[\"Selected FOVs\"] = df[\"Selected FOVs\"].apply(\n",
    "    lambda s: [int(x) for x in re.split(r\"\\s*,\\s*\", s)] if s is not np.nan else []\n",
    ")"
   ]
  },
  {
   "cell_type": "code",
   "execution_count": null,
   "id": "47",
   "metadata": {},
   "outputs": [],
   "source": [
    "def glob_filename(filename):\n",
    "    filename = str(filename)\n",
    "    if \"*\" in filename:\n",
    "        filename = workflow.SplitFilename(sorted(glob(filename)))\n",
    "    return filename\n",
    "\n",
    "\n",
    "def get_nd2_metadata(filename):\n",
    "    nd2 = workflow.get_nd2_reader(glob_filename(filename))\n",
    "    return nd2.sizes, nd2.metadata[\"channels\"]\n",
    "\n",
    "\n",
    "def get_nd2_frame_glob(filename, *args, **kwargs):\n",
    "    return workflow.get_nd2_frame(glob_filename(filename), *args, **kwargs)"
   ]
  },
  {
   "cell_type": "code",
   "execution_count": null,
   "id": "48",
   "metadata": {},
   "outputs": [],
   "source": [
    "%%time\n",
    "md = {}\n",
    "for filename in tqdm(df[\"Path\"][:-1]):\n",
    "    sizes, channels = client.submit(\n",
    "        get_nd2_metadata, filename_prefix / filename\n",
    "    ).result()\n",
    "    md[filename] = (sizes, channels)"
   ]
  },
  {
   "cell_type": "code",
   "execution_count": null,
   "id": "49",
   "metadata": {},
   "outputs": [],
   "source": [
    "print(\"\\n\".join(\", \".join(x[1]) for x in md.values()))"
   ]
  },
  {
   "cell_type": "code",
   "execution_count": null,
   "id": "50",
   "metadata": {},
   "outputs": [],
   "source": [
    "%%time\n",
    "idx = 35\n",
    "filename = filename_prefix / df.loc[idx, \"Path\"]\n",
    "position = 11\n",
    "channel = \"BF\"\n",
    "t = 20\n",
    "print(\"NAME:\", df.loc[idx, \"Short name\"])\n",
    "img = client.submit(get_nd2_frame_glob, filename, position, channel, t).result()"
   ]
  },
  {
   "cell_type": "code",
   "execution_count": null,
   "id": "51",
   "metadata": {},
   "outputs": [],
   "source": [
    "display_image(img, scale=0.99, downsample=4)"
   ]
  },
  {
   "cell_type": "code",
   "execution_count": null,
   "id": "52",
   "metadata": {},
   "outputs": [],
   "source": [
    "df.loc[34, \"Selected FOVs\"]"
   ]
  },
  {
   "cell_type": "code",
   "execution_count": null,
   "id": "53",
   "metadata": {},
   "outputs": [],
   "source": [
    "conversions = {}\n",
    "for idx in tqdm(df.index):\n",
    "    remote_filename = client.submit(\n",
    "        glob_filename, filename_prefix / df.loc[idx, \"Path\"]\n",
    "    )\n",
    "    short_name = df.loc[idx, \"Short name\"]\n",
    "    output_filename = (\n",
    "        f\"/home/jqs1/group/jqs1/microscopy/for_janelia/{short_name}/raw.zarr\"\n",
    "    )\n",
    "    fovs = df.loc[idx, \"Selected FOVs\"]\n",
    "    if not fovs:\n",
    "        print(f\"SKIPPING: {short_name}\")\n",
    "        continue\n",
    "    conversions[short_name] = client.submit(\n",
    "        readers.convert_nd2_to_array,\n",
    "        remote_filename,\n",
    "        output_filename,\n",
    "        file_axes=[],\n",
    "        dataset_axes=[\"fov\", \"channel\"],\n",
    "        slices=dict(fov=fovs, t=slice(None)),\n",
    "        format=\"zarr\",\n",
    "    )"
   ]
  },
  {
   "cell_type": "code",
   "execution_count": null,
   "id": "54",
   "metadata": {},
   "outputs": [],
   "source": [
    "z = zarr.open(\n",
    "    \"/home/jqs1/group/jqs1/microscopy/for_janelia/220510_bsub_degron_rap/raw.zarr\"\n",
    ")"
   ]
  },
  {
   "cell_type": "code",
   "execution_count": null,
   "id": "55",
   "metadata": {},
   "outputs": [],
   "source": [
    "display_image(z[\"fov=5/channel=BF\"][100], scale=0.99, downsample=4)"
   ]
  }
 ],
 "metadata": {
  "kernelspec": {
   "display_name": "Python 3 (ipykernel)",
   "language": "python",
   "name": "python3"
  },
  "language_info": {
   "codemirror_mode": {
    "name": "ipython",
    "version": 3
   },
   "file_extension": ".py",
   "mimetype": "text/x-python",
   "name": "python",
   "nbconvert_exporter": "python",
   "pygments_lexer": "ipython3",
   "version": "3.12.2"
  }
 },
 "nbformat": 4,
 "nbformat_minor": 4
}
