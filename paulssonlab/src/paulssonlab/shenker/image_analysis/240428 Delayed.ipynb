{
 "cells": [
  {
   "cell_type": "code",
   "execution_count": null,
   "id": "904fe7b8-fc30-4043-9bd1-9fff891ed24a",
   "metadata": {},
   "outputs": [],
   "source": [
    "import dask\n",
    "from dask.distributed import Client"
   ]
  },
  {
   "cell_type": "code",
   "execution_count": null,
   "id": "43cb84db-7a0c-4026-a792-4646d8cb6a69",
   "metadata": {},
   "outputs": [],
   "source": [
    "%load_ext autoreload\n",
    "%autoreload 2"
   ]
  },
  {
   "cell_type": "code",
   "execution_count": null,
   "id": "4e1b5b22-3864-4032-a836-3ebee1309e10",
   "metadata": {},
   "outputs": [],
   "source": [
    "import paulssonlab.image_analysis.delayed as delayed"
   ]
  },
  {
   "cell_type": "code",
   "execution_count": null,
   "id": "161c23e9-e2bb-4dcb-9d91-dc12b1044a0c",
   "metadata": {},
   "outputs": [],
   "source": [
    "client = Client()\n",
    "client"
   ]
  },
  {
   "cell_type": "code",
   "execution_count": null,
   "id": "b4f4c98a-07e7-4dc4-8e5c-5a005c7eff05",
   "metadata": {},
   "outputs": [],
   "source": [
    "def foo(x, y, z):\n",
    "    print(\"FOO\")\n",
    "    return x * 100 + y * 10 + z"
   ]
  },
  {
   "cell_type": "markdown",
   "id": "43d90c19-a33a-4973-9f10-339098d520fc",
   "metadata": {},
   "source": [
    "## DelayedValue"
   ]
  },
  {
   "cell_type": "code",
   "execution_count": null,
   "id": "f79b4748-642a-4888-8d96-19ef9e01b082",
   "metadata": {},
   "outputs": [],
   "source": [
    "queue = delayed.DelayedQueue()\n",
    "a = delayed.DelayedValue()\n",
    "b = delayed.DelayedValue()\n",
    "c = delayed.DelayedValue()\n",
    "d = queue.delayed(foo, a, b, c)"
   ]
  },
  {
   "cell_type": "code",
   "execution_count": null,
   "id": "257061d9-f742-46f3-abfb-1d19074d104a",
   "metadata": {},
   "outputs": [],
   "source": [
    "a.is_ready()"
   ]
  },
  {
   "cell_type": "code",
   "execution_count": null,
   "id": "d102aa36-ddc4-4e36-97f4-559a05bff37c",
   "metadata": {},
   "outputs": [],
   "source": [
    "d.is_ready()"
   ]
  },
  {
   "cell_type": "code",
   "execution_count": null,
   "id": "3e67f143-dab7-4b85-9491-adfac9ae50bf",
   "metadata": {},
   "outputs": [],
   "source": [
    "a.value = 1\n",
    "b.value = 2\n",
    "c.value = 3"
   ]
  },
  {
   "cell_type": "code",
   "execution_count": null,
   "id": "874d88be-3863-482e-8141-a7719bf51045",
   "metadata": {},
   "outputs": [],
   "source": [
    "d.is_ready()"
   ]
  },
  {
   "cell_type": "code",
   "execution_count": null,
   "id": "36751819-6fb9-48a8-9ea8-b6f3b6120fdd",
   "metadata": {},
   "outputs": [],
   "source": [
    "queue.poll()"
   ]
  },
  {
   "cell_type": "code",
   "execution_count": null,
   "id": "2183717c-e587-430b-9d42-fe2b374a5492",
   "metadata": {},
   "outputs": [],
   "source": [
    "d"
   ]
  },
  {
   "cell_type": "code",
   "execution_count": null,
   "id": "38d53717-d68b-4727-8242-99dd9ea51df3",
   "metadata": {},
   "outputs": [],
   "source": [
    "d.result()"
   ]
  },
  {
   "cell_type": "markdown",
   "id": "9f7c0eae-918a-4e02-8bed-984a77308105",
   "metadata": {},
   "source": [
    "## DelayedStore"
   ]
  },
  {
   "cell_type": "code",
   "execution_count": null,
   "id": "a93f3def-8596-405d-81e4-b761c9980454",
   "metadata": {},
   "outputs": [],
   "source": [
    "queue = delayed.DelayedQueue()\n",
    "s = delayed.DelayedStore(queue)\n",
    "a = s[\"a\"]\n",
    "b = s[\"b\"]\n",
    "c = s[\"c\"]\n",
    "# d = queue.delayed(foo, a, b, c)\n",
    "d = s.setdefault(\"d\", queue.delayed(foo, a, b, c))"
   ]
  },
  {
   "cell_type": "code",
   "execution_count": null,
   "id": "e6419d6b-c0d8-42f2-a3e0-4d32dc2b5612",
   "metadata": {},
   "outputs": [],
   "source": [
    "a.is_ready()"
   ]
  },
  {
   "cell_type": "code",
   "execution_count": null,
   "id": "3d00fe9a-f9dd-4517-b451-2a076ff559bc",
   "metadata": {},
   "outputs": [],
   "source": [
    "a"
   ]
  },
  {
   "cell_type": "code",
   "execution_count": null,
   "id": "6c9c0c78-bcd1-4ce3-b55f-6390a6d49808",
   "metadata": {},
   "outputs": [],
   "source": [
    "a.value = 1"
   ]
  },
  {
   "cell_type": "code",
   "execution_count": null,
   "id": "693e7c41-bbac-406e-a6d2-2b6ca8f5edf9",
   "metadata": {},
   "outputs": [],
   "source": [
    "d.is_ready()"
   ]
  },
  {
   "cell_type": "code",
   "execution_count": null,
   "id": "ea1acf2c-b3ec-4039-8e55-8f123c221c08",
   "metadata": {},
   "outputs": [],
   "source": [
    "s[\"b\"] = 2\n",
    "c.value = 3"
   ]
  },
  {
   "cell_type": "code",
   "execution_count": null,
   "id": "f8b96662-e664-41fc-aeb8-2385a30d75b2",
   "metadata": {},
   "outputs": [],
   "source": [
    "s.value"
   ]
  },
  {
   "cell_type": "code",
   "execution_count": null,
   "id": "d4bcd8da-5033-4933-ba0c-ecbbe041e109",
   "metadata": {},
   "outputs": [],
   "source": [
    "d.is_ready()"
   ]
  },
  {
   "cell_type": "code",
   "execution_count": null,
   "id": "55efe5fa-166e-44fd-8b3f-efcd4d78d970",
   "metadata": {},
   "outputs": [],
   "source": [
    "queue.poll()"
   ]
  },
  {
   "cell_type": "code",
   "execution_count": null,
   "id": "5fe7753a-974f-4bf6-9aad-312e4ddeb562",
   "metadata": {},
   "outputs": [],
   "source": [
    "d.result()"
   ]
  },
  {
   "cell_type": "code",
   "execution_count": null,
   "id": "af6d3302-416d-4685-b607-09fb7cfe2e06",
   "metadata": {},
   "outputs": [],
   "source": [
    "d.dependencies"
   ]
  },
  {
   "cell_type": "markdown",
   "id": "6d30c909-f263-46ff-b74c-59d9105637c9",
   "metadata": {},
   "source": [
    "## Repeated setitems"
   ]
  },
  {
   "cell_type": "code",
   "execution_count": null,
   "id": "20b5c766-0d98-4dcd-bb73-7fff522f5393",
   "metadata": {},
   "outputs": [],
   "source": [
    "queue = delayed.DelayedQueue()\n",
    "s = delayed.DelayedStore(queue)\n",
    "a = s[\"a\"]\n",
    "b = s[\"b\"]\n",
    "c = s[\"c\"]\n",
    "print(\"X\", s[\"d\"])\n",
    "d1 = s.setdefault(\"d\", queue.delayed(foo, a, b, c))\n",
    "print(\"Y\", s[\"d\"])\n",
    "d2 = s.setdefault(\"d\", queue.delayed(foo, a, b, c))\n",
    "print(\"Z\", s[\"d\"])"
   ]
  },
  {
   "cell_type": "code",
   "execution_count": null,
   "id": "8e9a86c6-47bf-4d8e-9d37-cd384803aa27",
   "metadata": {},
   "outputs": [],
   "source": [
    "queue._items[0]"
   ]
  },
  {
   "cell_type": "code",
   "execution_count": null,
   "id": "d038adc4-6967-419a-b6fd-4f97355dff5e",
   "metadata": {},
   "outputs": [],
   "source": [
    "len(queue._items)"
   ]
  },
  {
   "cell_type": "code",
   "execution_count": null,
   "id": "662cf429-a0bf-465f-aa2d-43958a354fc7",
   "metadata": {},
   "outputs": [],
   "source": [
    "a.value = 3\n",
    "b.value = 2\n",
    "c.value = 1\n",
    "queue.poll()"
   ]
  },
  {
   "cell_type": "code",
   "execution_count": null,
   "id": "0fc374cf-38c5-44e9-9725-76523797b9ad",
   "metadata": {},
   "outputs": [],
   "source": [
    "s.value"
   ]
  }
 ],
 "metadata": {
  "kernelspec": {
   "display_name": "Python 3 (ipykernel)",
   "language": "python",
   "name": "python3"
  },
  "language_info": {
   "codemirror_mode": {
    "name": "ipython",
    "version": 3
   },
   "file_extension": ".py",
   "mimetype": "text/x-python",
   "name": "python",
   "nbconvert_exporter": "python",
   "pygments_lexer": "ipython3",
   "version": "3.12.3"
  }
 },
 "nbformat": 4,
 "nbformat_minor": 5
}
