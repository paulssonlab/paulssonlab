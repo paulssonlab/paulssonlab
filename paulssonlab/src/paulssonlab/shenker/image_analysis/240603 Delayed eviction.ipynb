{
 "cells": [
  {
   "cell_type": "code",
   "execution_count": null,
   "id": "904fe7b8-fc30-4043-9bd1-9fff891ed24a",
   "metadata": {},
   "outputs": [],
   "source": [
    "import dask\n",
    "from dask.distributed import Client"
   ]
  },
  {
   "cell_type": "code",
   "execution_count": null,
   "id": "43cb84db-7a0c-4026-a792-4646d8cb6a69",
   "metadata": {},
   "outputs": [],
   "source": [
    "%load_ext autoreload\n",
    "%autoreload 2"
   ]
  },
  {
   "cell_type": "code",
   "execution_count": null,
   "id": "4e1b5b22-3864-4032-a836-3ebee1309e10",
   "metadata": {},
   "outputs": [],
   "source": [
    "import paulssonlab.image_analysis.delayed as delayed"
   ]
  },
  {
   "cell_type": "code",
   "execution_count": null,
   "id": "161c23e9-e2bb-4dcb-9d91-dc12b1044a0c",
   "metadata": {},
   "outputs": [],
   "source": [
    "client = Client()\n",
    "client"
   ]
  },
  {
   "cell_type": "code",
   "execution_count": null,
   "id": "b4f4c98a-07e7-4dc4-8e5c-5a005c7eff05",
   "metadata": {},
   "outputs": [],
   "source": [
    "def foo(x, y, z):\n",
    "    out = f\"x:{x} y:{y} z:{z}\"\n",
    "    print(f\"OUT: {out}\")\n",
    "    return out"
   ]
  },
  {
   "cell_type": "markdown",
   "id": "c72af52f-51aa-4511-b40b-560a4519860d",
   "metadata": {},
   "source": [
    "# Evicting too soon should error"
   ]
  },
  {
   "cell_type": "code",
   "execution_count": null,
   "id": "fbebeb74-0cae-4417-a51e-74a31430c280",
   "metadata": {},
   "outputs": [],
   "source": [
    "queue = delayed.DelayedQueue()\n",
    "s = delayed.DelayedStore(queue)\n",
    "s[\"a\"] = \"foo\"\n",
    "s[\"b\"] = \"bar\"\n",
    "s[\"c\"] = \"baz\"\n",
    "del s[\"a\"]\n",
    "# d = queue.delayed(foo, a, b, c)\n",
    "d = s.setdefault(\"d\", queue.delayed(foo, s[\"a\"], s[\"b\"], s[\"c\"]))\n",
    "d.result()"
   ]
  },
  {
   "cell_type": "markdown",
   "id": "78c379ff-1fdf-43c8-8205-f006464d2901",
   "metadata": {},
   "source": [
    "# Correct eviction"
   ]
  },
  {
   "cell_type": "code",
   "execution_count": null,
   "id": "81f0941b-2649-47c2-8019-9caa6b0ceaae",
   "metadata": {},
   "outputs": [],
   "source": [
    "queue = delayed.DelayedQueue()\n",
    "s = delayed.DelayedStore(queue)\n",
    "s[\"a\"] = \"foo\"\n",
    "s[\"b\"] = \"bar\"\n",
    "s[\"c\"] = \"baz\"\n",
    "# d = queue.delayed(foo, a, b, c)\n",
    "d = s.setdefault(\"d\", queue.delayed(foo, s[\"a\"], s[\"b\"], s[\"c\"]))\n",
    "del s[\"a\"]\n",
    "d.result()"
   ]
  },
  {
   "cell_type": "markdown",
   "id": "9f7c0eae-918a-4e02-8bed-984a77308105",
   "metadata": {},
   "source": [
    "## Does not evict in-use keys"
   ]
  },
  {
   "cell_type": "code",
   "execution_count": null,
   "id": "a93f3def-8596-405d-81e4-b761c9980454",
   "metadata": {},
   "outputs": [],
   "source": [
    "queue = delayed.DelayedQueue()\n",
    "s = delayed.DelayedStore(queue)\n",
    "a = s[\"a\"]\n",
    "b = s[\"b\"]\n",
    "c = s[\"c\"]\n",
    "# d = queue.delayed(foo, a, b, c)\n",
    "d = s.setdefault(\"d\", queue.delayed(foo, a, b, c))"
   ]
  },
  {
   "cell_type": "code",
   "execution_count": null,
   "id": "9ec04077-3d48-48ec-9d84-d22e8318a3a4",
   "metadata": {},
   "outputs": [],
   "source": [
    "s[\"a\"] = 1\n",
    "s[\"b\"] = 2\n",
    "s[\"c\"] = 3"
   ]
  },
  {
   "cell_type": "code",
   "execution_count": null,
   "id": "5d1b6f27-5e87-4e47-9e55-efb119cd0788",
   "metadata": {},
   "outputs": [],
   "source": [
    "del s[\"a\"]"
   ]
  },
  {
   "cell_type": "code",
   "execution_count": null,
   "id": "6f9f499b-af79-4d73-9727-11b340b97864",
   "metadata": {},
   "outputs": [],
   "source": [
    "d.result()"
   ]
  },
  {
   "cell_type": "markdown",
   "id": "463f0e58-4504-4fd4-89b5-32341024b1e1",
   "metadata": {},
   "source": [
    "# Evicts unused keys"
   ]
  },
  {
   "cell_type": "code",
   "execution_count": null,
   "id": "1c58a3be-96ec-40e6-bb4b-8dfe22f4a239",
   "metadata": {},
   "outputs": [],
   "source": [
    "queue = delayed.DelayedQueue()\n",
    "s = delayed.DelayedStore(queue)\n",
    "a = s[\"a\"]\n",
    "b = s[\"b\"]\n",
    "c = s[\"c\"]\n",
    "# d = queue.delayed(foo, a, b, c)\n",
    "d = s.setdefault(\"d\", queue.delayed(foo, a, b, c))"
   ]
  }
 ],
 "metadata": {
  "kernelspec": {
   "display_name": "Python 3 (ipykernel)",
   "language": "python",
   "name": "python3"
  },
  "language_info": {
   "codemirror_mode": {
    "name": "ipython",
    "version": 3
   },
   "file_extension": ".py",
   "mimetype": "text/x-python",
   "name": "python",
   "nbconvert_exporter": "python",
   "pygments_lexer": "ipython3",
   "version": "3.12.3"
  }
 },
 "nbformat": 4,
 "nbformat_minor": 5
}
