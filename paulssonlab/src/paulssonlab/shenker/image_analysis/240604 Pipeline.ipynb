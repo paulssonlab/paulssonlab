{
 "cells": [
  {
   "cell_type": "markdown",
   "id": "0",
   "metadata": {
    "tags": []
   },
   "source": [
    "# Imports"
   ]
  },
  {
   "cell_type": "code",
   "execution_count": null,
   "id": "1",
   "metadata": {},
   "outputs": [],
   "source": [
    "import io\n",
    "import itertools as it\n",
    "import os\n",
    "import re\n",
    "from collections import namedtuple\n",
    "from functools import partial\n",
    "from glob import glob\n",
    "from pathlib import Path\n",
    "\n",
    "import dask\n",
    "import deltalake\n",
    "import distributed\n",
    "import h5py\n",
    "import holoviews as hv\n",
    "import hvplot.pandas\n",
    "import matplotlib.pyplot as plt\n",
    "import nd2reader\n",
    "import numpy as np\n",
    "import pandas as pd\n",
    "import polars as pl\n",
    "import pyarrow as pa\n",
    "import pyarrow.dataset as ds\n",
    "import pyarrow.parquet as pq\n",
    "import scipy.signal\n",
    "import skimage.measure\n",
    "import zarr\n",
    "from dask import delayed\n",
    "from dask_jobqueue import SLURMCluster\n",
    "from distributed import Client, LocalCluster, progress\n",
    "from holoviews.operation.datashader import regrid\n",
    "from tqdm.auto import tqdm, trange\n",
    "\n",
    "IDX = pd.IndexSlice"
   ]
  },
  {
   "cell_type": "code",
   "execution_count": null,
   "id": "2",
   "metadata": {},
   "outputs": [],
   "source": [
    "pl.enable_string_cache()"
   ]
  },
  {
   "cell_type": "code",
   "execution_count": null,
   "id": "3",
   "metadata": {
    "tags": []
   },
   "outputs": [],
   "source": [
    "from dask.diagnostics import ProgressBar\n",
    "\n",
    "ProgressBar().register()"
   ]
  },
  {
   "cell_type": "code",
   "execution_count": null,
   "id": "4",
   "metadata": {},
   "outputs": [],
   "source": [
    "%load_ext autoreload\n",
    "%autoreload 2"
   ]
  },
  {
   "cell_type": "code",
   "execution_count": null,
   "id": "5",
   "metadata": {},
   "outputs": [],
   "source": [
    "# import paulssonlab.image_analysis.mosaic as mosaic\n",
    "import paulssonlab.image_analysis.delayed as delayed\n",
    "import paulssonlab.image_analysis.drift as drift\n",
    "import paulssonlab.image_analysis.geometry as geometry\n",
    "import paulssonlab.image_analysis.image as image\n",
    "import paulssonlab.image_analysis.pipeline as pipeline\n",
    "import paulssonlab.image_analysis.readers as readers\n",
    "import paulssonlab.image_analysis.segmentation.watershed as watershed\n",
    "import paulssonlab.image_analysis.trench_detection as trench_detection\n",
    "import paulssonlab.image_analysis.util as util\n",
    "import paulssonlab.image_analysis.workflow as workflow\n",
    "import paulssonlab.util.core as core\n",
    "import paulssonlab.util.numeric as numeric\n",
    "from paulssonlab.image_analysis.ui import RevImage, display_image"
   ]
  },
  {
   "cell_type": "code",
   "execution_count": null,
   "id": "6",
   "metadata": {},
   "outputs": [],
   "source": [
    "%load_ext pyinstrument"
   ]
  },
  {
   "cell_type": "code",
   "execution_count": null,
   "id": "7",
   "metadata": {},
   "outputs": [],
   "source": [
    "hv.extension(\"bokeh\")\n",
    "# hv.extension(\"matplotlib\")"
   ]
  },
  {
   "cell_type": "markdown",
   "id": "8",
   "metadata": {},
   "source": [
    "# Functions"
   ]
  },
  {
   "cell_type": "code",
   "execution_count": null,
   "id": "9",
   "metadata": {},
   "outputs": [],
   "source": [
    "def concat_glob(filename):\n",
    "    return pl.concat([pl.scan_ipc(f) for f in glob(filename)], how=\"diagonal\")"
   ]
  },
  {
   "cell_type": "code",
   "execution_count": null,
   "id": "10",
   "metadata": {},
   "outputs": [],
   "source": [
    "def label_columns(cols, func=None):\n",
    "    expr = None\n",
    "    for col in cols:\n",
    "        if expr is None:\n",
    "            expr = pl.when(pl.col(col).is_not_null())\n",
    "        else:\n",
    "            expr = expr.when(pl.col(col).is_not_null())\n",
    "        if func is not None:\n",
    "            lit = func(col)\n",
    "        else:\n",
    "            lit = col\n",
    "        expr = expr.then(pl.lit(lit))\n",
    "    return expr"
   ]
  },
  {
   "cell_type": "markdown",
   "id": "11",
   "metadata": {},
   "source": [
    "# Config"
   ]
  },
  {
   "cell_type": "code",
   "execution_count": null,
   "id": "12",
   "metadata": {},
   "outputs": [],
   "source": [
    "cycle_channel_to_bit_num = \"\"\"cycle\tchannel\tbit\n",
    "1\tAF555\t1\n",
    "2\tAF555\t2\n",
    "1\tCy5\t3\n",
    "2\tCy5\t4\n",
    "1\tAlexa750\t5\n",
    "2\tAlexa750\t6\n",
    "3\tAF555\t7\n",
    "4\tAF555\t8\n",
    "3\tCy5\t9\n",
    "4\tCy5\t10\n",
    "3\tAlexa750\t11\n",
    "4\tAlexa750\t12\n",
    "5\tAF555\t13\n",
    "6\tAF555\t14\n",
    "5\tCy5\t15\n",
    "6\tCy5\t16\n",
    "5\tAlexa750\t17\n",
    "6\tAlexa750\t18\n",
    "7\tAF555\t19\n",
    "8\tAF555\t20\n",
    "7\tCy5\t21\n",
    "8\tCy5\t22\n",
    "7\tAlexa750\t23\n",
    "8\tAlexa750\t24\n",
    "9\tAF555\t25\n",
    "10\tAF555\t26\n",
    "9\tCy5\t27\n",
    "10\tCy5\t28\n",
    "9\tAlexa750\t29\n",
    "10\tAlexa750\t30\"\"\"\n",
    "\n",
    "cycle_channel_to_bit_num = pl.read_csv(\n",
    "    io.StringIO(cycle_channel_to_bit_num), separator=\"\\t\"\n",
    ").with_columns(channel=pl.col(\"channel\").replace({\"AF555\": \"GFP\", \"Alexa750\": \"Cy7\"}))"
   ]
  },
  {
   "cell_type": "code",
   "execution_count": null,
   "id": "13",
   "metadata": {},
   "outputs": [],
   "source": [
    "nd2_filename = Path(\"/home/jqs1/scratch/microscopy/230915/230915_RBS_repressors.nd2\")\n",
    "# nd2_filename = Path(\"/home/jqs1/scratch/microscopy/230912/230912_bcd_rbses001.nd2\")\n",
    "# nd2_filename = workflow.SplitFilename(\n",
    "#     sorted(\n",
    "#         glob.glob(\n",
    "#             # \"/home/jqs1/scratch/jqs1/microscopy/230707/230707_repressilators_restart.nd2.split.a*\"\n",
    "#             \"/home/jqs1/scratch/microscopy/230830/230830_repressilators.nd2.split.*\"\n",
    "#         )\n",
    "#     )\n",
    "# )\n",
    "# assert nd2_filename.files\n",
    "# nd2_filename = \"/home/jqs1/scratch/jqs1/microscopy/231101/231101_FP_calibration.nd2\"\n",
    "# fish_filename = nd2_filename[0].parent / \"FISH/real_run\""
   ]
  },
  {
   "cell_type": "code",
   "execution_count": null,
   "id": "14",
   "metadata": {},
   "outputs": [],
   "source": [
    "if isinstance(nd2_filename, workflow.SplitFilename):\n",
    "    parent_dir = nd2_filename[0].parent\n",
    "else:\n",
    "    parent_dir = nd2_filename.parent\n",
    "fish_filename = parent_dir / \"FISH/real_run\"\n",
    "output_dir = parent_dir / \"test2\"\n",
    "# output_dir.mkdir(exist_ok=True)"
   ]
  },
  {
   "cell_type": "code",
   "execution_count": null,
   "id": "15",
   "metadata": {},
   "outputs": [],
   "source": [
    "nd2 = workflow.get_nd2_reader(nd2_filename)\n",
    "t_max = nd2.sizes[\"t\"]"
   ]
  },
  {
   "cell_type": "code",
   "execution_count": null,
   "id": "16",
   "metadata": {},
   "outputs": [],
   "source": [
    "nd2.sizes"
   ]
  },
  {
   "cell_type": "code",
   "execution_count": null,
   "id": "17",
   "metadata": {},
   "outputs": [],
   "source": [
    "nd2.metadata[\"channels\"]"
   ]
  },
  {
   "cell_type": "code",
   "execution_count": null,
   "id": "18",
   "metadata": {
    "tags": []
   },
   "outputs": [],
   "source": [
    "colors = {\n",
    "    \"BF\": \"#ffffff\",\n",
    "    # \"CFP-EM\": \"#6fb2e4\",\n",
    "    # \"YFP-EM\": \"#eee461\",\n",
    "    # \"RFP-EM\": \"#c66526\",\n",
    "    \"CFP-EM\": \"#648FFF\",\n",
    "    \"YFP-EM\": \"#FFB000\",\n",
    "    \"RFP-EM\": \"#DC267F\",\n",
    "}\n",
    "\n",
    "fish_colors = {\n",
    "    \"BF\": \"#ffffff\",\n",
    "    \"GFP\": \"#f44336\",\n",
    "    \"Cy5\": \"#03a9f4\",\n",
    "    # \"Cy7\": \"#ffeb3b\"\n",
    "    \"Cy7\": \"#8bc34a\",\n",
    "}"
   ]
  },
  {
   "cell_type": "code",
   "execution_count": null,
   "id": "19",
   "metadata": {},
   "outputs": [],
   "source": [
    "cluster = SLURMCluster(\n",
    "    queue=\"short\",\n",
    "    walltime=\"02:00:00\",\n",
    "    memory=\"16GB\",\n",
    "    local_directory=\"/tmp\",\n",
    "    log_directory=\"/home/jqs1/log\",\n",
    "    cores=1,\n",
    "    processes=1,\n",
    ")\n",
    "client = Client(cluster)"
   ]
  },
  {
   "cell_type": "code",
   "execution_count": null,
   "id": "20",
   "metadata": {},
   "outputs": [],
   "source": [
    "cluster"
   ]
  },
  {
   "cell_type": "code",
   "execution_count": null,
   "id": "21",
   "metadata": {},
   "outputs": [],
   "source": [
    "cluster.scale(0)"
   ]
  },
  {
   "cell_type": "code",
   "execution_count": null,
   "id": "22",
   "metadata": {},
   "outputs": [],
   "source": [
    "cluster.adapt(maximum=20)"
   ]
  },
  {
   "cell_type": "markdown",
   "id": "23",
   "metadata": {},
   "source": [
    "# Pipeline"
   ]
  },
  {
   "cell_type": "code",
   "execution_count": null,
   "id": "24",
   "metadata": {},
   "outputs": [],
   "source": [
    "# k1 = 1e-9\n",
    "# center = image.center_from_shape(nd2.get_frame_2D().shape) - np.array([0, -500])"
   ]
  },
  {
   "cell_type": "code",
   "execution_count": null,
   "id": "25",
   "metadata": {},
   "outputs": [],
   "source": [
    "# def get_frame_func(\n",
    "#     filename, position, channel, t, k1=None, center=None, dark=None, flat=None\n",
    "# ):\n",
    "#     img = np.asarray(\n",
    "#         workflow.get_nd2_frame(\n",
    "#             filename, position=position, channel=channel, t=t, dark=dark, flat=flat\n",
    "#         )\n",
    "#     )\n",
    "#     if k1 is not None:\n",
    "#         img = image.correct_radial_distortion(img, k1=k1, center=center)\n",
    "#     # TODO\n",
    "#     img = img[:, 300 : img.shape[1] - 300]\n",
    "#     return img\n",
    "\n",
    "\n",
    "# def preprocess_func(img, k1=None, center=None, dark=None, flat=None):\n",
    "def preprocess_func(img):\n",
    "    return img[600 : img.shape[0] - 600, 1500 : img.shape[1] - 1500]"
   ]
  },
  {
   "cell_type": "code",
   "execution_count": null,
   "id": "26",
   "metadata": {},
   "outputs": [],
   "source": [
    "config = {\n",
    "    # \"composite_func\": image.mean_composite,\n",
    "    # \"roi_detection_func\": trench_detection.find_trenches,\n",
    "    # \"track_drift\": True,\n",
    "    # \"segmentation_func\": watershed.watershed_segment,\n",
    "    # \"segmentation_channels\": [\"RFP-EM\", \"YFP-EM\", \"CFP-EM\"],\n",
    "    \"segmentation_channels\": [\"RFP-EM\"],\n",
    "    \"trench_detection_channels\": None,  # channel for trench detection, almost always same as segmentation_channel\n",
    "    # \"measure_channels\": = [\"RFP-PENTA\", \"YFP-DUAL\"],\n",
    "    # \"crop_channels\": [\"Phase-Fluor\", \"RFP-EM\", \"GFP-EM\", \"YFP-EM\", \"CFP-EM\"],\n",
    "    \"crop_channels\": [\"RFP-EM\", \"YFP-EM\"],\n",
    "    # \"measure_channels\": [\"RFP-EM\", \"GFP-EM\", \"YFP-EM\", \"CFP-EM\"],\n",
    "    \"measure_channels\": [\"RFP-EM\", \"YFP-EM\"],\n",
    "    # \"fish_crop_channels\": [\"BF\", GFP-EM\", \"Cy5\", \"Cy7\"],\n",
    "    \"fish_measure_channels\": [\"GFP\", \"Cy5\", \"Cy7\"],\n",
    "    \"fish_drift_tracking_channel\": \"BF\",\n",
    "    # \"fish_probes\": hhh,\n",
    "    # \"roi_detection_kwargs\": {\"width_to_pitch_ratio\": 1.4 / 3.5},\n",
    "    \"roi_detection_kwargs\": {\"width_to_pitch_ratio\": 3 / 3.5},  # TODO!!!\n",
    "    \"preprocess_func\": preprocess_func,\n",
    "    # \"preprocess_kwargs\": {\"k1\": k1, \"center\": center},\n",
    "}"
   ]
  },
  {
   "cell_type": "code",
   "execution_count": null,
   "id": "27",
   "metadata": {},
   "outputs": [],
   "source": [
    "%%time\n",
    "delayed_ = False\n",
    "\n",
    "p = pipeline.DefaultPipeline(output_dir, config=config, delayed=delayed_)\n",
    "\n",
    "for msg in readers.send_nd2(\n",
    "    nd2_filename,\n",
    "    # slices=dict(t=range(200, 202), v=range(8,10)),\n",
    "    slices=dict(t=range(30, 62), v=[8]),\n",
    "    delayed=delayed_,\n",
    "):\n",
    "    p.handle_message({**msg, \"image_type\": \"science\"})"
   ]
  },
  {
   "cell_type": "code",
   "execution_count": null,
   "id": "28",
   "metadata": {},
   "outputs": [],
   "source": [
    "%%time\n",
    "for msg in readers.send_eaton_fish(\n",
    "    fish_filename,\n",
    "    # slices=dict(t=None, v=range(8, 10)),\n",
    "    slices=dict(t=None, v=[8]),\n",
    "    delayed=delayed_,\n",
    "):\n",
    "    p.handle_message({**msg, \"image_type\": \"fish_barcode\"})"
   ]
  },
  {
   "cell_type": "code",
   "execution_count": null,
   "id": "29",
   "metadata": {},
   "outputs": [],
   "source": [
    "p.handle_message({\"type\": \"done\"})"
   ]
  },
  {
   "cell_type": "code",
   "execution_count": null,
   "id": "30",
   "metadata": {},
   "outputs": [],
   "source": [
    "display_image(\n",
    "    image.unstack_multichannel(fish_crops[1:, 8, :, 601].squeeze().swapaxes(0, 1)),\n",
    "    scale=1,\n",
    ")  # , colors=fish_colors)"
   ]
  },
  {
   "cell_type": "markdown",
   "id": "31",
   "metadata": {},
   "source": [
    "# FISH analysis"
   ]
  },
  {
   "cell_type": "code",
   "execution_count": null,
   "id": "32",
   "metadata": {},
   "outputs": [],
   "source": [
    "fish_crops = readers.ZarrSlicer(\n",
    "    output_dir / \"fish_crops\",\n",
    "    r\"fov=(?P<v>\\d+)/channel=(?P<c>[^/]+)/t=(?P<t>\\d+)\",\n",
    "    files=False,\n",
    "    recursive=True,\n",
    ")"
   ]
  },
  {
   "cell_type": "code",
   "execution_count": null,
   "id": "33",
   "metadata": {},
   "outputs": [],
   "source": [
    "# x = pl.scan_parquet(output_dir / \"fish_measurements/*/*\")\n",
    "# x = pl.read_delta(str(output_dir / \"fish_measurements\"))\n",
    "# y = deltalake.DeltaTable(str(output_dir / \"fish_measurements\")).to_pandas()\n",
    "dataset = ds.dataset(\n",
    "    output_dir / \"fish_measurements\", format=\"parquet\", partitioning=\"hive\"\n",
    ")\n",
    "# df = dataset.to_table(filter=ds.field(\"position\") == 14).to_pandas()\n",
    "# df = dataset.to_table().to_pandas().sort_values(\"t\")\n",
    "fish = pl.scan_pyarrow_dataset(dataset).sort([\"fov_num\", \"roi\", \"t\"]).collect()\n",
    "fish = fish.join(\n",
    "    cycle_channel_to_bit_num,\n",
    "    left_on=[\"t\", \"channel\"],\n",
    "    right_on=[pl.col(\"cycle\").cast(pl.Int32), \"channel\"],\n",
    ")"
   ]
  },
  {
   "cell_type": "code",
   "execution_count": null,
   "id": "34",
   "metadata": {},
   "outputs": [],
   "source": [
    "plt.scatter(df[\"mean\"], df[\"otsu_mean\"], s=1)"
   ]
  },
  {
   "cell_type": "code",
   "execution_count": null,
   "id": "35",
   "metadata": {},
   "outputs": [],
   "source": [
    "hv.Violin(df, [\"channel\", \"t\"], \"otsu_mean\").opts(\n",
    "    hv.opts(\n",
    "        width=700,\n",
    "        show_legend=True,\n",
    "        violin_color=hv.dim(\"channel\").str(),\n",
    "        inner=None,\n",
    "        # violin_width=1,\n",
    "    )\n",
    ")"
   ]
  },
  {
   "cell_type": "code",
   "execution_count": null,
   "id": "36",
   "metadata": {},
   "outputs": [],
   "source": [
    "hv.Violin(df, [\"channel\", \"t\"], \"mean\").opts(\n",
    "    hv.opts(\n",
    "        width=700,\n",
    "        show_legend=True,\n",
    "        violin_color=hv.dim(\"channel\").str(),\n",
    "        inner=None,\n",
    "        # violin_width=1,\n",
    "    )\n",
    ")"
   ]
  },
  {
   "cell_type": "code",
   "execution_count": null,
   "id": "37",
   "metadata": {},
   "outputs": [],
   "source": [
    "hv.Violin(df2, [\"channel\", \"t\", \"call\"], \"otsu_mean\").opts(\n",
    "    hv.opts(\n",
    "        width=700,\n",
    "        show_legend=True,\n",
    "        # violin_color=hv.dim(\"channel\").str(),\n",
    "        split=hv.dim(\"call\"),\n",
    "        violin_width=3,\n",
    "        inner=None,\n",
    "    )\n",
    ")"
   ]
  },
  {
   "cell_type": "code",
   "execution_count": null,
   "id": "38",
   "metadata": {},
   "outputs": [],
   "source": [
    "p.fish_crops.keys()"
   ]
  },
  {
   "cell_type": "code",
   "execution_count": null,
   "id": "39",
   "metadata": {},
   "outputs": [],
   "source": [
    "fish_thresholds = {\"GFP\": 1200, \"Cy5\": 1000, \"Cy7\": 800}"
   ]
  },
  {
   "cell_type": "code",
   "execution_count": null,
   "id": "40",
   "metadata": {},
   "outputs": [],
   "source": [
    "fish2 = fish.with_columns(\n",
    "    threshold=pl.col(\"channel\").replace(fish_thresholds, return_dtype=pl.Float64)\n",
    ").with_columns(call=pl.col(\"otsu_mean\") > pl.col(\"threshold\"))"
   ]
  },
  {
   "cell_type": "code",
   "execution_count": null,
   "id": "41",
   "metadata": {},
   "outputs": [],
   "source": [
    "fish2"
   ]
  },
  {
   "cell_type": "code",
   "execution_count": null,
   "id": "42",
   "metadata": {},
   "outputs": [],
   "source": [
    "fish2.filter(pl.col(\"roi\") == 19, pl.col(\"channel\") == \"Cy5\")"
   ]
  },
  {
   "cell_type": "code",
   "execution_count": null,
   "id": "43",
   "metadata": {},
   "outputs": [],
   "source": [
    "fish_barcodes.filter(pl.col(\"roi\") == 19)[\"fish_barcode\"].to_numpy()"
   ]
  },
  {
   "cell_type": "code",
   "execution_count": null,
   "id": "44",
   "metadata": {},
   "outputs": [],
   "source": [
    "display_image(\n",
    "    image.unstack_multichannel(\n",
    "        image.crop_to_mask(\n",
    "            fish_crops[:, 8, [\"BF\", \"GFP\", \"Cy5\", \"Cy7\"], 19].squeeze().swapaxes(0, 1)\n",
    "        )\n",
    "    ),\n",
    "    scale=1,\n",
    ")  # , colors=fish_colors)"
   ]
  },
  {
   "cell_type": "code",
   "execution_count": null,
   "id": "45",
   "metadata": {},
   "outputs": [],
   "source": [
    "seq_barcodes[595495, \"seq_barcode\"].to_numpy()"
   ]
  },
  {
   "cell_type": "code",
   "execution_count": null,
   "id": "46",
   "metadata": {},
   "outputs": [],
   "source": [
    "seq_barcodes[595495, \"BC:BIT4|seq\"]"
   ]
  },
  {
   "cell_type": "code",
   "execution_count": null,
   "id": "47",
   "metadata": {},
   "outputs": [],
   "source": [
    "seq_barcodes[595496, \"BC:BIT4|seq\"]"
   ]
  },
  {
   "cell_type": "code",
   "execution_count": null,
   "id": "48",
   "metadata": {},
   "outputs": [],
   "source": [
    "seq_barcodes[595497, \"BC:BIT4|seq\"]"
   ]
  },
  {
   "cell_type": "code",
   "execution_count": null,
   "id": "49",
   "metadata": {},
   "outputs": [],
   "source": [
    "seq_barcodes[595502, \"BC:BIT4|seq\"]"
   ]
  },
  {
   "cell_type": "code",
   "execution_count": null,
   "id": "50",
   "metadata": {},
   "outputs": [],
   "source": [
    "with pl.Config() as cfg:\n",
    "    cfg.set_tbl_rows(100)\n",
    "    display(fish2.filter(pl.col(\"roi\") == 19))"
   ]
  },
  {
   "cell_type": "code",
   "execution_count": null,
   "id": "51",
   "metadata": {},
   "outputs": [],
   "source": [
    "fish_barcodes = (\n",
    "    fish2.select([\"fov_num\", \"roi\", \"bit\", \"call\"])\n",
    "    .group_by([\"fov_num\", \"roi\"])\n",
    "    .agg(fish_barcode=pl.col(\"call\").sort_by(\"bit\"))\n",
    "    .with_columns(num_bits=pl.col(\"fish_barcode\").list.len())\n",
    "    .filter(pl.col(\"num_bits\") == 30)\n",
    "    .select(pl.all().exclude(\"num_bits\"))\n",
    "    .with_columns(\n",
    "        fish_barcode=pl.col(\"fish_barcode\").cast(pl.List(pl.Int32))\n",
    "        # .cast(pl.Array(pl.Boolean, 30)))\n",
    "    )\n",
    ")"
   ]
  },
  {
   "cell_type": "markdown",
   "id": "52",
   "metadata": {},
   "source": [
    "## Join with codebook"
   ]
  },
  {
   "cell_type": "code",
   "execution_count": null,
   "id": "53",
   "metadata": {},
   "outputs": [],
   "source": [
    "%%time\n",
    "# arrow_filename = \"/home/jqs1/scratch/sequencing/230818_repressilators/20230905_1132_1H_PAQ85679_c9d74ddb/extract_segments/*.arrow\"\n",
    "arrow_filename = \"/home/jqs1/scratch/sequencing/231201_bcd_rbses_run3/20231201_1101_1F_PAU05823_773c75ee/extract_segments/*.arrow\"\n",
    "seq = concat_glob(arrow_filename).collect()"
   ]
  },
  {
   "cell_type": "code",
   "execution_count": null,
   "id": "54",
   "metadata": {},
   "outputs": [],
   "source": [
    "%%time\n",
    "seq2 = seq.with_columns(\n",
    "    dup=pl.col(\"name\").is_duplicated(),\n",
    "    e2e=pl.col(\"variants_path\")\n",
    "    .list.set_intersection(\n",
    "        [\n",
    "            \"<BC:UPSTREAM\",\n",
    "            \"<UNS3\",\n",
    "            \">BC:UPSTREAM\",\n",
    "            \">UNS3\",\n",
    "        ]\n",
    "    )\n",
    "    .list.len()\n",
    "    == 2,\n",
    "    bc_e2e=pl.col(\"variants_path\")\n",
    "    .list.set_intersection(\n",
    "        [\n",
    "            \"<BC:UPSTREAM\",\n",
    "            \"<BC:SPACER2\",\n",
    "            \">BC:UPSTREAM\",\n",
    "            \">BC:SPACER2\",\n",
    "        ]\n",
    "    )\n",
    "    .list.len()\n",
    "    == 2,\n",
    "    bc_errors=pl.sum_horizontal(r\"^BC:BIT\\d+\\|(insertions|deletions|mismatches)$\"),\n",
    ")"
   ]
  },
  {
   "cell_type": "code",
   "execution_count": null,
   "id": "55",
   "metadata": {},
   "outputs": [],
   "source": [
    "seq2.filter(pl.col(\"bc_errors\") == 0).count()"
   ]
  },
  {
   "cell_type": "code",
   "execution_count": null,
   "id": "56",
   "metadata": {},
   "outputs": [],
   "source": [
    "plt.hist(seq2[\"bc_errors\"].to_numpy(), bins=100, log=True);"
   ]
  },
  {
   "cell_type": "code",
   "execution_count": null,
   "id": "57",
   "metadata": {},
   "outputs": [],
   "source": [
    "seq3 = seq2.filter(pl.col(\"e2e\"), ~pl.col(\"dup\"), pl.col(\"bc_errors\") == 0)"
   ]
  },
  {
   "cell_type": "code",
   "execution_count": null,
   "id": "58",
   "metadata": {},
   "outputs": [],
   "source": [
    "%%time\n",
    "seq3 = seq2.filter(pl.col(\"e2e\"), ~pl.col(\"dup\")).with_columns(\n",
    "    pl.coalesce(\n",
    "        label_columns(\n",
    "            [\n",
    "                \"pLIB433:PhlF_pPhlF|seq\",\n",
    "                \"pLIB434:LacI_pTac|seq\",\n",
    "                \"pLIB435:BetI_pBetI|seq\",\n",
    "            ],\n",
    "            lambda x: x.split(\"|\")[0],\n",
    "        ),\n",
    "        pl.concat_str(pl.lit(\"pLIB431-432:RBS=\"), pl.col(\"pLIB431-432:RBS|variant\")),\n",
    "    ).alias(\"RBS\")\n",
    ")"
   ]
  },
  {
   "cell_type": "code",
   "execution_count": null,
   "id": "59",
   "metadata": {},
   "outputs": [],
   "source": [
    "seq_barcodes = seq3.with_columns(\n",
    "    seq_barcode=pl.concat_list(\n",
    "        [f\"BC:BIT{idx}|variant\" for idx in range(30)]\n",
    "    )  # .cast(pl.Array(pl.Boolean, 30))\n",
    ")"
   ]
  },
  {
   "cell_type": "code",
   "execution_count": null,
   "id": "60",
   "metadata": {},
   "outputs": [],
   "source": [
    "seq_barcodes[\"grouping_path\"][0].to_list()"
   ]
  },
  {
   "cell_type": "code",
   "execution_count": null,
   "id": "61",
   "metadata": {},
   "outputs": [],
   "source": [
    "seq_barcodes[\"seq_barcode\"][0].to_list()"
   ]
  },
  {
   "cell_type": "code",
   "execution_count": null,
   "id": "62",
   "metadata": {},
   "outputs": [],
   "source": [
    "seq_barcodes.group_by(\"grouping_path\").agg(pl.len())[\"len\"].value_counts()"
   ]
  },
  {
   "cell_type": "code",
   "execution_count": null,
   "id": "63",
   "metadata": {},
   "outputs": [],
   "source": [
    "seq_barcodes.group_by(\"seq_barcode\").agg(pl.len())[\"len\"].value_counts()"
   ]
  },
  {
   "cell_type": "code",
   "execution_count": null,
   "id": "64",
   "metadata": {},
   "outputs": [],
   "source": [
    "x = (\n",
    "    seq_barcodes.group_by(\"seq_barcode\")\n",
    "    .agg(pl.len(), pl.col(\"name\"), pl.col(\"grouping_path\"), pl.col(\"variants_path\"))\n",
    "    .filter(pl.col(\"len\") == 2)\n",
    ")"
   ]
  },
  {
   "cell_type": "code",
   "execution_count": null,
   "id": "65",
   "metadata": {},
   "outputs": [],
   "source": [
    "y = x[0].explode(\"name\", \"grouping_path\", \"variants_path\")"
   ]
  },
  {
   "cell_type": "code",
   "execution_count": null,
   "id": "66",
   "metadata": {},
   "outputs": [],
   "source": [
    "y"
   ]
  },
  {
   "cell_type": "code",
   "execution_count": null,
   "id": "67",
   "metadata": {},
   "outputs": [],
   "source": [
    "y[0, \"seq_barcode\"].to_list()"
   ]
  },
  {
   "cell_type": "code",
   "execution_count": null,
   "id": "68",
   "metadata": {},
   "outputs": [],
   "source": [
    "y[0, \"grouping_path\"].to_list()"
   ]
  },
  {
   "cell_type": "code",
   "execution_count": null,
   "id": "69",
   "metadata": {},
   "outputs": [],
   "source": [
    "y[0, \"name\"]"
   ]
  },
  {
   "cell_type": "code",
   "execution_count": null,
   "id": "70",
   "metadata": {},
   "outputs": [],
   "source": [
    "seq3.filter(\n",
    "    pl.col(\"name\")\n",
    "    == \"consensus_f451f9bee14d46571dececc8227a9769bc5aabec0862f9aea5918d2ed9562401\"\n",
    ")[0, \"consensus_seq\"]"
   ]
  },
  {
   "cell_type": "code",
   "execution_count": null,
   "id": "71",
   "metadata": {},
   "outputs": [],
   "source": [
    "z = (\n",
    "    seq3.filter(\n",
    "        pl.col(\"name\")\n",
    "        == \"consensus_f451f9bee14d46571dececc8227a9769bc5aabec0862f9aea5918d2ed9562401\"\n",
    "    )[0]\n",
    "    .to_pandas()\n",
    "    .T\n",
    ")"
   ]
  },
  {
   "cell_type": "code",
   "execution_count": null,
   "id": "72",
   "metadata": {},
   "outputs": [],
   "source": [
    "with pd.option_context(\"display.max_rows\", None, \"display.max_columns\", None):\n",
    "    display(z)"
   ]
  },
  {
   "cell_type": "code",
   "execution_count": null,
   "id": "73",
   "metadata": {},
   "outputs": [],
   "source": [
    "y[0, \"name\"]"
   ]
  },
  {
   "cell_type": "code",
   "execution_count": null,
   "id": "74",
   "metadata": {},
   "outputs": [],
   "source": [
    "y[0, \"variants_path\"].to_list()"
   ]
  },
  {
   "cell_type": "code",
   "execution_count": null,
   "id": "75",
   "metadata": {},
   "outputs": [],
   "source": [
    "fish_barcodes.group_by(\"fish_barcode\").agg(pl.len())[\"len\"].value_counts()"
   ]
  },
  {
   "cell_type": "code",
   "execution_count": null,
   "id": "76",
   "metadata": {},
   "outputs": [],
   "source": [
    "fish_barcodes.with_columns(fish_hash=pl.col(\"fish_barcode\").hash())"
   ]
  },
  {
   "cell_type": "code",
   "execution_count": null,
   "id": "77",
   "metadata": {},
   "outputs": [],
   "source": [
    "fish_barcodes.group_by(\"fish_barcode\").agg(pl.len())"
   ]
  },
  {
   "cell_type": "code",
   "execution_count": null,
   "id": "78",
   "metadata": {},
   "outputs": [],
   "source": [
    "seq_barcodes.with_columns(seq_barcode=pl.col(\"seq_barcode\").hash()).join(\n",
    "    fish_barcodes.with_columns(fish_barcode=pl.col(\"fish_barcode\").hash()),\n",
    "    left_on=\"seq_barcode\",\n",
    "    right_on=\"fish_barcode\",\n",
    "    how=\"full\",\n",
    ").select(\"grouping_path\", \"fish_barcode\").filter(\n",
    "    pl.col(\"grouping_path\").is_not_null(), pl.col(\"fish_barcode\").is_not_null()\n",
    ")"
   ]
  },
  {
   "cell_type": "code",
   "execution_count": null,
   "id": "79",
   "metadata": {},
   "outputs": [],
   "source": [
    "seq_barcodes.join(\n",
    "    fish_barcodes, left_on=\"seq_barcode\", right_on=\"fish_barcode\", how=\"full\"\n",
    ")"
   ]
  },
  {
   "cell_type": "code",
   "execution_count": null,
   "id": "80",
   "metadata": {},
   "outputs": [],
   "source": [
    "seq_variants.head()"
   ]
  },
  {
   "cell_type": "code",
   "execution_count": null,
   "id": "81",
   "metadata": {},
   "outputs": [],
   "source": [
    "fb = (\n",
    "    fish_barcodes.sort([\"fov_num\", \"roi\"])[\"fish_barcode\"]\n",
    "    .cast(pl.Array(pl.Boolean, 30))\n",
    "    .to_numpy()\n",
    ")\n",
    "sb = seq_barcodes[\"seq_barcode\"].cast(pl.Array(pl.Boolean, 30)).to_numpy()"
   ]
  },
  {
   "cell_type": "code",
   "execution_count": null,
   "id": "82",
   "metadata": {},
   "outputs": [],
   "source": [
    "dists = np.count_nonzero(fb[503, np.newaxis] != sb, axis=1)\n",
    "plt.hist(dists, bins=20, log=True);"
   ]
  },
  {
   "cell_type": "code",
   "execution_count": null,
   "id": "83",
   "metadata": {},
   "outputs": [],
   "source": [
    "np.argmin(dists)"
   ]
  },
  {
   "cell_type": "code",
   "execution_count": null,
   "id": "84",
   "metadata": {},
   "outputs": [],
   "source": [
    "dists.sort()\n",
    "dists"
   ]
  },
  {
   "cell_type": "code",
   "execution_count": null,
   "id": "85",
   "metadata": {},
   "outputs": [],
   "source": [
    "fb[1]"
   ]
  },
  {
   "cell_type": "code",
   "execution_count": null,
   "id": "86",
   "metadata": {},
   "outputs": [],
   "source": [
    "[np.count_nonzero(fb[idx, np.newaxis] != sb, axis=1).min() for idx in trange(50)]"
   ]
  },
  {
   "cell_type": "code",
   "execution_count": null,
   "id": "87",
   "metadata": {},
   "outputs": [],
   "source": [
    "fish_barcodes.filter(pl.col(\"roi\") == 18)[\"fish_barcode\"][0].to_numpy()"
   ]
  },
  {
   "cell_type": "code",
   "execution_count": null,
   "id": "88",
   "metadata": {},
   "outputs": [],
   "source": [
    "fb[18]"
   ]
  },
  {
   "cell_type": "code",
   "execution_count": null,
   "id": "89",
   "metadata": {},
   "outputs": [],
   "source": [
    "sb.shape"
   ]
  },
  {
   "cell_type": "code",
   "execution_count": null,
   "id": "90",
   "metadata": {},
   "outputs": [],
   "source": [
    "(fb[18, np.newaxis] != sb).shape"
   ]
  },
  {
   "cell_type": "code",
   "execution_count": null,
   "id": "91",
   "metadata": {},
   "outputs": [],
   "source": [
    "np.count_nonzero(fb[18, np.newaxis] != sb, axis=1)"
   ]
  },
  {
   "cell_type": "code",
   "execution_count": null,
   "id": "92",
   "metadata": {},
   "outputs": [],
   "source": [
    "np.count_nonzero(fb[18, np.newaxis] != sb, axis=1).min()"
   ]
  },
  {
   "cell_type": "code",
   "execution_count": null,
   "id": "93",
   "metadata": {},
   "outputs": [],
   "source": [
    "sb[:10]"
   ]
  },
  {
   "cell_type": "markdown",
   "id": "94",
   "metadata": {},
   "source": [
    "# Science analysis"
   ]
  },
  {
   "cell_type": "code",
   "execution_count": null,
   "id": "95",
   "metadata": {},
   "outputs": [],
   "source": [
    "crops = readers.ZarrSlicer(\n",
    "    output_dir / \"crops\",\n",
    "    r\"fov=(?P<v>\\d+)/channel=(?P<c>[^/]+)/t=(?P<t>\\d+)\",\n",
    "    files=False,\n",
    "    recursive=True,\n",
    ")"
   ]
  },
  {
   "cell_type": "code",
   "execution_count": null,
   "id": "96",
   "metadata": {},
   "outputs": [],
   "source": [
    "display_image(\n",
    "    image.unstack(image.crop_to_mask(crops[:, 8, \"YFP-EM\", 33].squeeze())), scale=1\n",
    ")"
   ]
  },
  {
   "cell_type": "code",
   "execution_count": null,
   "id": "97",
   "metadata": {},
   "outputs": [],
   "source": [
    "crops[:, 8, \"YFP-EM\", 3].squeeze().shape"
   ]
  },
  {
   "cell_type": "code",
   "execution_count": null,
   "id": "98",
   "metadata": {},
   "outputs": [],
   "source": [
    "display_image(\n",
    "    image.unstack_multichannel(crops[:, 8, :, 601].squeeze().swapaxes(0, 1)),\n",
    "    scale=1,\n",
    ")"
   ]
  },
  {
   "cell_type": "markdown",
   "id": "99",
   "metadata": {
    "jp-MarkdownHeadingCollapsed": true
   },
   "source": [
    "# Old FISH analysis"
   ]
  },
  {
   "cell_type": "code",
   "execution_count": null,
   "id": "100",
   "metadata": {
    "tags": []
   },
   "outputs": [],
   "source": [
    "fish_metrics_df = pd.DataFrame.from_dict(\n",
    "    {\n",
    "        trench_idx: ary.flatten()\n",
    "        for trench_idx, ary in fish_metrics.items()\n",
    "        if ary is not None\n",
    "    },\n",
    "    columns=pd.MultiIndex.from_tuples(bit_names, names=[\"channel\", \"timepoint\"]),\n",
    "    orient=\"index\",\n",
    ").rename_axis(index=\"trench_idx\")\n",
    "fish_metrics_df"
   ]
  },
  {
   "cell_type": "code",
   "execution_count": null,
   "id": "101",
   "metadata": {
    "tags": []
   },
   "outputs": [],
   "source": [
    "fish_metrics_df2 = fish_metrics_df.melt(ignore_index=False).reset_index()"
   ]
  },
  {
   "cell_type": "code",
   "execution_count": null,
   "id": "102",
   "metadata": {
    "tags": []
   },
   "outputs": [],
   "source": [
    "fish_metrics_df2"
   ]
  },
  {
   "cell_type": "code",
   "execution_count": null,
   "id": "103",
   "metadata": {
    "tags": []
   },
   "outputs": [],
   "source": [
    "fish_thresholds = {\"GFP\": 0.007, \"Cy5\": 0.005, \"Cy7\": 0.002}"
   ]
  },
  {
   "cell_type": "code",
   "execution_count": null,
   "id": "104",
   "metadata": {
    "tags": []
   },
   "outputs": [],
   "source": [
    "fish_metrics_df2[\"ground_truth\"] = fish_metrics_df2[\"value\"] > fish_metrics_df2[\n",
    "    \"channel\"\n",
    "].map(fish_thresholds)"
   ]
  },
  {
   "cell_type": "code",
   "execution_count": null,
   "id": "105",
   "metadata": {
    "tags": []
   },
   "outputs": [],
   "source": [
    "(fish_metrics_df2.groupby(\"trench_idx\").sum(\"ground_truth\") == 0).sum()"
   ]
  },
  {
   "cell_type": "code",
   "execution_count": null,
   "id": "106",
   "metadata": {
    "tags": []
   },
   "outputs": [],
   "source": [
    "fish_metrics_df2.groupby(\"channel\").apply(lambda x: x[\"ground_truth\"].sum() / len(x))"
   ]
  },
  {
   "cell_type": "code",
   "execution_count": null,
   "id": "107",
   "metadata": {
    "tags": []
   },
   "outputs": [],
   "source": [
    "(fish_metrics_df2.groupby(\"channel\").sum(\"ground_truth\") == 0).sum()"
   ]
  },
  {
   "cell_type": "code",
   "execution_count": null,
   "id": "108",
   "metadata": {
    "tags": []
   },
   "outputs": [],
   "source": [
    "idx = 200\n",
    "# idx = 3002"
   ]
  },
  {
   "cell_type": "code",
   "execution_count": null,
   "id": "109",
   "metadata": {
    "tags": []
   },
   "outputs": [],
   "source": [
    "x = fish_stacks0[idx][1:]"
   ]
  },
  {
   "cell_type": "code",
   "execution_count": null,
   "id": "110",
   "metadata": {
    "tags": []
   },
   "outputs": [],
   "source": [
    "fish_metrics_df2[fish_metrics_df2[\"trench_idx\"] == idx]"
   ]
  },
  {
   "cell_type": "code",
   "execution_count": null,
   "id": "111",
   "metadata": {
    "tags": []
   },
   "outputs": [],
   "source": [
    "display_image(image.unstack_multichannel(x), scale=0.999)"
   ]
  },
  {
   "cell_type": "code",
   "execution_count": null,
   "id": "112",
   "metadata": {
    "tags": []
   },
   "outputs": [],
   "source": [
    "y = x - x.min(axis=1)[:, np.newaxis, :, :]"
   ]
  },
  {
   "cell_type": "code",
   "execution_count": null,
   "id": "113",
   "metadata": {
    "tags": []
   },
   "outputs": [],
   "source": [
    "display_image(image.unstack_multichannel(y))"
   ]
  },
  {
   "cell_type": "code",
   "execution_count": null,
   "id": "114",
   "metadata": {
    "tags": []
   },
   "outputs": [],
   "source": [
    "plt.imshow(weighted_mean(y))"
   ]
  },
  {
   "cell_type": "code",
   "execution_count": null,
   "id": "115",
   "metadata": {
    "tags": []
   },
   "outputs": [],
   "source": [
    "hv.Violin(fish_metrics_df2, [\"channel\", \"timepoint\"], \"value\").opts(\n",
    "    hv.opts(\n",
    "        width=700,\n",
    "        show_legend=True,\n",
    "        violin_color=hv.dim(\"channel\").str(),\n",
    "        inner=None,\n",
    "        # violin_width=1,\n",
    "    )\n",
    ")"
   ]
  },
  {
   "cell_type": "code",
   "execution_count": null,
   "id": "116",
   "metadata": {
    "tags": []
   },
   "outputs": [],
   "source": [
    "hv.Violin(fish_metrics_df2, [\"channel\", \"timepoint\", \"ground_truth\"], \"value\").opts(\n",
    "    hv.opts(\n",
    "        width=700,\n",
    "        show_legend=True,\n",
    "        # violin_color=hv.dim(\"channel\").str(),\n",
    "        split=hv.dim(\"ground_truth\"),\n",
    "        violin_width=3,\n",
    "        inner=None,\n",
    "    )\n",
    ")"
   ]
  },
  {
   "cell_type": "code",
   "execution_count": null,
   "id": "117",
   "metadata": {
    "tags": []
   },
   "outputs": [],
   "source": [
    "ds = hv.Dataset(fish_metrics_df2, [\"channel\", \"timepoint\", \"ground_truth\"], \"value\")"
   ]
  },
  {
   "cell_type": "code",
   "execution_count": null,
   "id": "118",
   "metadata": {
    "tags": []
   },
   "outputs": [],
   "source": [
    "ds.to(hv.Violin, [\"timepoint\", \"ground_truth\"]).layout(\"channel\").opts(\n",
    "    hv.opts.Violin(\n",
    "        width=700,\n",
    "        # show_legend=True,\n",
    "        # violin_color=hv.dim(\"channel\").str(),\n",
    "        split=hv.dim(\"ground_truth\"),\n",
    "        violin_width=3,\n",
    "        inner=None,\n",
    "        axiswise=True,\n",
    "    )\n",
    ").cols(1)"
   ]
  },
  {
   "cell_type": "code",
   "execution_count": null,
   "id": "119",
   "metadata": {
    "tags": []
   },
   "outputs": [],
   "source": [
    "z = ds.to(hv.Violin, [\"timepoint\"]).overlay(\"ground_truth\").layout(\"channel\")"
   ]
  },
  {
   "cell_type": "code",
   "execution_count": null,
   "id": "120",
   "metadata": {
    "tags": []
   },
   "outputs": [],
   "source": [
    "_stacked_violins = (\n",
    "    ds.to(hv.Violin, [\"timepoint\"]).overlay(\"ground_truth\").layout(\"channel\")\n",
    ")\n",
    "\n",
    "hv.Layout([v.redim(value=k) for k, v in _stacked_violins.items()]).opts(\n",
    "    hv.opts.Violin(\n",
    "        width=700,\n",
    "        # show_legend=True,\n",
    "        # violin_color=hv.dim(\"channel\").str(),\n",
    "        # violin_width=3,\n",
    "        inner=None,\n",
    "        bandwidth=0.2,\n",
    "        cut=0.05,\n",
    "    )\n",
    ").cols(1)"
   ]
  },
  {
   "cell_type": "code",
   "execution_count": null,
   "id": "121",
   "metadata": {
    "tags": []
   },
   "outputs": [],
   "source": [
    "# fish_metrics_df2.groupby(\"channel\").apply(lambda x: hv.Violin(x))"
   ]
  },
  {
   "cell_type": "code",
   "execution_count": null,
   "id": "122",
   "metadata": {},
   "outputs": [],
   "source": [
    "hv.Layout()"
   ]
  },
  {
   "cell_type": "code",
   "execution_count": null,
   "id": "123",
   "metadata": {},
   "outputs": [],
   "source": [
    "hv.GridSpace(\n",
    "    {\n",
    "        (timepoint, channel): hv.Distribution(df, \"value\").redim(value=channel)\n",
    "        for (timepoint, channel), df in fish_metrics_df2.groupby(\n",
    "            [\"timepoint\", \"channel\"]\n",
    "        )\n",
    "    },\n",
    "    kdims=[\"timepoint\", \"channel\"],\n",
    ")  # .opts(hv.opts.Distribution(logy=True))"
   ]
  },
  {
   "cell_type": "code",
   "execution_count": null,
   "id": "124",
   "metadata": {
    "tags": []
   },
   "outputs": [],
   "source": [
    "hv.GridSpace(\n",
    "    {\n",
    "        (timepoint, channel): hv.Dataset(df, [\"ground_truth\"], \"value\").to(\n",
    "            hv.Distribution\n",
    "        )\n",
    "        # .overlay(\"ground_truth\")\n",
    "        # hv.Distribution(df, \"value\").redim(value=channel)\n",
    "        for (timepoint, channel), df in fish_metrics_df2.groupby(\n",
    "            [\"timepoint\", \"channel\"]\n",
    "        )\n",
    "    },\n",
    "    kdims=[\"timepoint\", \"channel\"],\n",
    ")  # .opts(hv.opts.Distribution(show_legend=True))"
   ]
  },
  {
   "cell_type": "code",
   "execution_count": null,
   "id": "125",
   "metadata": {
    "tags": []
   },
   "outputs": [],
   "source": [
    "hv.GridSpace(\n",
    "    {\n",
    "        (timepoint, channel): (\n",
    "            hv.Distribution(df[df[\"ground_truth\"]], \"value\", label=\"On\")\n",
    "            * hv.Distribution(df[~df[\"ground_truth\"]], \"value\", label=\"Off\")\n",
    "        ).redim(value=channel)\n",
    "        for (timepoint, channel), df in fish_metrics_df2.groupby(\n",
    "            [\"timepoint\", \"channel\"]\n",
    "        )\n",
    "    },\n",
    "    kdims=[\"timepoint\", \"channel\"],\n",
    ").opts(hv.opts.Distribution(show_legend=True, bandwidth=0.3, cut=0.05))"
   ]
  },
  {
   "cell_type": "code",
   "execution_count": null,
   "id": "126",
   "metadata": {
    "tags": []
   },
   "outputs": [],
   "source": [
    "from bokeh.sampledata.iris import flowers\n",
    "from holoviews.operation import gridmatrix\n",
    "\n",
    "iris_ds = hv.Dataset(flowers)"
   ]
  },
  {
   "cell_type": "code",
   "execution_count": null,
   "id": "127",
   "metadata": {
    "tags": []
   },
   "outputs": [],
   "source": [
    "iris_ds"
   ]
  },
  {
   "cell_type": "code",
   "execution_count": null,
   "id": "128",
   "metadata": {
    "tags": []
   },
   "outputs": [],
   "source": [
    "fish_metrics_df3 = fish_metrics_df.set_axis(\n",
    "    [\"_\".join(c) for c in fish_metrics_df.columns], axis=1\n",
    ")"
   ]
  },
  {
   "cell_type": "code",
   "execution_count": null,
   "id": "129",
   "metadata": {
    "tags": []
   },
   "outputs": [],
   "source": [
    "fish_metrics_df3 = fish_metrics_df3.loc[\n",
    "    :, [*fish_metrics_df3.columns[3:6], *fish_metrics_df3.columns[13:16]]\n",
    "]"
   ]
  },
  {
   "cell_type": "code",
   "execution_count": null,
   "id": "130",
   "metadata": {
    "tags": []
   },
   "outputs": [],
   "source": [
    "density_grid = gridmatrix(\n",
    "    hv.Dataset(fish_metrics_df3), diagonal_type=hv.Distribution, chart_type=hv.Bivariate\n",
    ")"
   ]
  },
  {
   "cell_type": "code",
   "execution_count": null,
   "id": "131",
   "metadata": {
    "tags": []
   },
   "outputs": [],
   "source": [
    "density_grid"
   ]
  }
 ],
 "metadata": {
  "kernelspec": {
   "display_name": "Python 3 (ipykernel)",
   "language": "python",
   "name": "python3"
  },
  "language_info": {
   "codemirror_mode": {
    "name": "ipython",
    "version": 3
   },
   "file_extension": ".py",
   "mimetype": "text/x-python",
   "name": "python",
   "nbconvert_exporter": "python",
   "pygments_lexer": "ipython3",
   "version": "3.12.3"
  }
 },
 "nbformat": 4,
 "nbformat_minor": 4
}
