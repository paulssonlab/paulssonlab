{
 "cells": [
  {
   "cell_type": "markdown",
   "id": "0",
   "metadata": {
    "tags": []
   },
   "source": [
    "# Imports"
   ]
  },
  {
   "cell_type": "code",
   "execution_count": null,
   "id": "1",
   "metadata": {},
   "outputs": [],
   "source": [
    "import io\n",
    "import itertools as it\n",
    "import os\n",
    "import re\n",
    "from collections import Counter, namedtuple\n",
    "from functools import partial\n",
    "from glob import glob\n",
    "from pathlib import Path\n",
    "\n",
    "import dask\n",
    "import dask.distributed\n",
    "import deltalake\n",
    "import h5py\n",
    "import holoviews as hv\n",
    "import hvplot.pandas\n",
    "import matplotlib.pyplot as plt\n",
    "import nd2reader\n",
    "import numpy as np\n",
    "import pandas as pd\n",
    "import polars as pl\n",
    "import pyarrow as pa\n",
    "import pyarrow.dataset as ds\n",
    "import pyarrow.parquet as pq\n",
    "import scipy.signal\n",
    "import skimage.measure\n",
    "import zarr\n",
    "from dask_jobqueue import SLURMCluster\n",
    "from distributed import Client, LocalCluster, progress\n",
    "from holoviews.operation.datashader import regrid\n",
    "from tqdm.auto import tqdm, trange\n",
    "\n",
    "IDX = pd.IndexSlice"
   ]
  },
  {
   "cell_type": "code",
   "execution_count": null,
   "id": "2",
   "metadata": {},
   "outputs": [],
   "source": [
    "pl.enable_string_cache()"
   ]
  },
  {
   "cell_type": "code",
   "execution_count": null,
   "id": "3",
   "metadata": {
    "tags": []
   },
   "outputs": [],
   "source": [
    "from dask.diagnostics import ProgressBar\n",
    "\n",
    "ProgressBar().register()"
   ]
  },
  {
   "cell_type": "code",
   "execution_count": null,
   "id": "4",
   "metadata": {},
   "outputs": [],
   "source": [
    "%load_ext autoreload\n",
    "%autoreload 2"
   ]
  },
  {
   "cell_type": "code",
   "execution_count": null,
   "id": "5",
   "metadata": {},
   "outputs": [],
   "source": [
    "# import paulssonlab.image_analysis.mosaic as mosaic\n",
    "import paulssonlab.image_analysis.delayed as delayed\n",
    "import paulssonlab.image_analysis.drift as drift\n",
    "import paulssonlab.image_analysis.geometry as geometry\n",
    "import paulssonlab.image_analysis.image as image\n",
    "import paulssonlab.image_analysis.pipeline as pipeline\n",
    "import paulssonlab.image_analysis.readers as readers\n",
    "import paulssonlab.image_analysis.segmentation.watershed as watershed\n",
    "import paulssonlab.image_analysis.trench_detection as trench_detection\n",
    "import paulssonlab.image_analysis.util as util\n",
    "import paulssonlab.image_analysis.workflow as workflow\n",
    "import paulssonlab.util.core as core\n",
    "import paulssonlab.util.numeric as numeric\n",
    "from paulssonlab.image_analysis.ui import RevImage, display_image"
   ]
  },
  {
   "cell_type": "code",
   "execution_count": null,
   "id": "6",
   "metadata": {},
   "outputs": [],
   "source": [
    "%load_ext pyinstrument"
   ]
  },
  {
   "cell_type": "code",
   "execution_count": null,
   "id": "7",
   "metadata": {},
   "outputs": [],
   "source": [
    "hv.extension(\"bokeh\")\n",
    "# hv.extension(\"matplotlib\")"
   ]
  },
  {
   "cell_type": "markdown",
   "id": "8",
   "metadata": {},
   "source": [
    "# Functions"
   ]
  },
  {
   "cell_type": "code",
   "execution_count": null,
   "id": "9",
   "metadata": {},
   "outputs": [],
   "source": [
    "def concat_glob(filename):\n",
    "    return pl.concat([pl.scan_ipc(f) for f in glob(filename)], how=\"diagonal\")"
   ]
  },
  {
   "cell_type": "code",
   "execution_count": null,
   "id": "10",
   "metadata": {},
   "outputs": [],
   "source": [
    "def label_columns(cols, func=None):\n",
    "    expr = None\n",
    "    for col in cols:\n",
    "        if expr is None:\n",
    "            expr = pl.when(pl.col(col).is_not_null())\n",
    "        else:\n",
    "            expr = expr.when(pl.col(col).is_not_null())\n",
    "        if func is not None:\n",
    "            lit = func(col)\n",
    "        else:\n",
    "            lit = col\n",
    "        expr = expr.then(pl.lit(lit))\n",
    "    return expr"
   ]
  },
  {
   "cell_type": "markdown",
   "id": "11",
   "metadata": {},
   "source": [
    "# Config"
   ]
  },
  {
   "cell_type": "code",
   "execution_count": null,
   "id": "12",
   "metadata": {},
   "outputs": [],
   "source": [
    "cycle_channel_to_bit_num = \"\"\"cycle\tchannel\tbit\n",
    "1\tAF555\t1\n",
    "2\tAF555\t2\n",
    "1\tCy5\t3\n",
    "2\tCy5\t4\n",
    "1\tAlexa750\t5\n",
    "2\tAlexa750\t6\n",
    "3\tAF555\t7\n",
    "4\tAF555\t8\n",
    "3\tCy5\t9\n",
    "4\tCy5\t10\n",
    "3\tAlexa750\t11\n",
    "4\tAlexa750\t12\n",
    "5\tAF555\t13\n",
    "6\tAF555\t14\n",
    "5\tCy5\t15\n",
    "6\tCy5\t16\n",
    "5\tAlexa750\t17\n",
    "6\tAlexa750\t18\n",
    "7\tAF555\t19\n",
    "8\tAF555\t20\n",
    "7\tCy5\t21\n",
    "8\tCy5\t22\n",
    "7\tAlexa750\t23\n",
    "8\tAlexa750\t24\n",
    "9\tAF555\t25\n",
    "10\tAF555\t26\n",
    "9\tCy5\t27\n",
    "10\tCy5\t28\n",
    "9\tAlexa750\t29\n",
    "10\tAlexa750\t30\"\"\"\n",
    "\n",
    "cycle_channel_to_bit_num = pl.read_csv(\n",
    "    io.StringIO(cycle_channel_to_bit_num), separator=\"\\t\"\n",
    ").with_columns(\n",
    "    channel=pl.col(\"channel\").replace({\"AF555\": \"GFP\", \"Alexa750\": \"Cy7\"}),\n",
    "    bit=pl.col(\"bit\") - 1,\n",
    ")\n",
    "# use zero-indexing for bit, one-indexing for cycle\n",
    "# (eventually microscope acquisition should start with cycle 0)"
   ]
  },
  {
   "cell_type": "code",
   "execution_count": null,
   "id": "13",
   "metadata": {},
   "outputs": [],
   "source": [
    "nd2_filename = Path(\"/home/jqs1/scratch/microscopy/240627/LIB533.nd2\")\n",
    "# nd2_filename = Path(\"/home/jqs1/scratch/microscopy/240612/LIB533_isolates_restart.nd2\")\n",
    "# nd2_filename = Path(\"/home/jqs1/scratch/microscopy/230915/230915_RBS_repressors.nd2\")\n",
    "# nd2_filename = Path(\"/home/jqs1/scratch/microscopy/230912/230912_bcd_rbses001.nd2\")\n",
    "# nd2_filename = Path(\"/home/jqs1/scratch/microscopy/231101/231101_FP_calibration.nd2\")\n",
    "\n",
    "# nd2_filename = workflow.SplitFilename(\n",
    "#     sorted(\n",
    "#         glob(\n",
    "#             # \"/home/jqs1/scratch/microscopy/230707/230707_repressilators_restart.nd2.split.a*\"\n",
    "#             \"/home/jqs1/scratch/microscopy/230830/230830_repressilators.nd2.split.*\"\n",
    "#         )\n",
    "#     )\n",
    "# )\n",
    "# assert nd2_filename.files"
   ]
  },
  {
   "cell_type": "code",
   "execution_count": null,
   "id": "14",
   "metadata": {},
   "outputs": [],
   "source": [
    "if isinstance(nd2_filename, workflow.SplitFilename):\n",
    "    parent_dir = nd2_filename[0].parent\n",
    "else:\n",
    "    parent_dir = nd2_filename.parent\n",
    "fish_filename = parent_dir / \"FISH/real_run\"\n",
    "output_dir = parent_dir / \"zarr_test\"\n",
    "# output_dir.mkdir(exist_ok=True)"
   ]
  },
  {
   "cell_type": "code",
   "execution_count": null,
   "id": "15",
   "metadata": {},
   "outputs": [],
   "source": [
    "nd2 = workflow.get_nd2_reader(nd2_filename)\n",
    "t_max = nd2.sizes[\"t\"]"
   ]
  },
  {
   "cell_type": "code",
   "execution_count": null,
   "id": "16",
   "metadata": {},
   "outputs": [],
   "source": [
    "nd2.sizes"
   ]
  },
  {
   "cell_type": "code",
   "execution_count": null,
   "id": "17",
   "metadata": {},
   "outputs": [],
   "source": [
    "nd2.metadata[\"channels\"]"
   ]
  },
  {
   "cell_type": "code",
   "execution_count": null,
   "id": "18",
   "metadata": {
    "tags": []
   },
   "outputs": [],
   "source": [
    "colors = {\n",
    "    \"BF\": \"#ffffff\",\n",
    "    # \"CFP-EM\": \"#6fb2e4\",\n",
    "    # \"YFP-EM\": \"#eee461\",\n",
    "    # \"RFP-EM\": \"#c66526\",\n",
    "    \"CFP-EM\": \"#648FFF\",\n",
    "    \"YFP-EM\": \"#FFB000\",\n",
    "    \"RFP-EM\": \"#DC267F\",\n",
    "}\n",
    "\n",
    "fish_colors = {\n",
    "    \"BF\": \"#ffffff\",\n",
    "    \"GFP\": \"#f44336\",\n",
    "    \"Cy5\": \"#03a9f4\",\n",
    "    # \"Cy7\": \"#ffeb3b\"\n",
    "    \"Cy7\": \"#8bc34a\",\n",
    "}"
   ]
  },
  {
   "cell_type": "code",
   "execution_count": null,
   "id": "19",
   "metadata": {},
   "outputs": [],
   "source": [
    "cluster = SLURMCluster(\n",
    "    queue=\"short\",\n",
    "    walltime=\"6:00:00\",\n",
    "    memory=\"4GB\",\n",
    "    local_directory=\"/tmp\",\n",
    "    log_directory=\"/home/jqs1/log\",\n",
    "    cores=1,\n",
    "    processes=1,\n",
    ")\n",
    "client = Client(cluster)"
   ]
  },
  {
   "cell_type": "code",
   "execution_count": null,
   "id": "20",
   "metadata": {},
   "outputs": [],
   "source": [
    "cluster"
   ]
  },
  {
   "cell_type": "code",
   "execution_count": null,
   "id": "21",
   "metadata": {},
   "outputs": [],
   "source": [
    "cluster.scale(0)"
   ]
  },
  {
   "cell_type": "code",
   "execution_count": null,
   "id": "22",
   "metadata": {},
   "outputs": [],
   "source": [
    "cluster.adapt(maximum=100)"
   ]
  },
  {
   "cell_type": "markdown",
   "id": "23",
   "metadata": {},
   "source": [
    "# ROI test"
   ]
  },
  {
   "cell_type": "code",
   "execution_count": null,
   "id": "24",
   "metadata": {},
   "outputs": [],
   "source": [
    "%%time\n",
    "img = nd2.get_frame_2D(t=0, v=8, c=0)\n",
    "img = img[600 : img.shape[0] - 600, 1500 : img.shape[1] - 1500]\n",
    "rois, info = trench_detection.find_trenches(img, join_info=False, width=12)"
   ]
  },
  {
   "cell_type": "code",
   "execution_count": null,
   "id": "25",
   "metadata": {},
   "outputs": [],
   "source": [
    "rois"
   ]
  },
  {
   "cell_type": "code",
   "execution_count": null,
   "id": "26",
   "metadata": {},
   "outputs": [],
   "source": [
    "rois2 = geometry.filter_and_shift_rois(\n",
    "    rois, (0, 0), geometry.get_image_limits(img.shape)\n",
    ")"
   ]
  },
  {
   "cell_type": "code",
   "execution_count": null,
   "id": "27",
   "metadata": {},
   "outputs": [],
   "source": [
    "crops = pipeline.crop_rois(img, rois2)"
   ]
  },
  {
   "cell_type": "code",
   "execution_count": null,
   "id": "28",
   "metadata": {},
   "outputs": [],
   "source": [
    "crops.keys()"
   ]
  },
  {
   "cell_type": "code",
   "execution_count": null,
   "id": "29",
   "metadata": {},
   "outputs": [],
   "source": [
    "shapes = Counter()\n",
    "for crop in crops.values():\n",
    "    shapes[tuple(crop.shape)] += 1"
   ]
  },
  {
   "cell_type": "code",
   "execution_count": null,
   "id": "30",
   "metadata": {},
   "outputs": [],
   "source": [
    "shapes"
   ]
  },
  {
   "cell_type": "code",
   "execution_count": null,
   "id": "31",
   "metadata": {},
   "outputs": [],
   "source": [
    "shapes"
   ]
  },
  {
   "cell_type": "code",
   "execution_count": null,
   "id": "32",
   "metadata": {},
   "outputs": [],
   "source": [
    "info"
   ]
  },
  {
   "cell_type": "markdown",
   "id": "33",
   "metadata": {},
   "source": [
    "# Zarr writing test"
   ]
  },
  {
   "cell_type": "code",
   "execution_count": null,
   "id": "34",
   "metadata": {},
   "outputs": [],
   "source": [
    "def dummy_value(shape, val):\n",
    "    if shape is None:\n",
    "        return val\n",
    "    else:\n",
    "        return np.full(shape, val)"
   ]
  },
  {
   "cell_type": "code",
   "execution_count": null,
   "id": "35",
   "metadata": {},
   "outputs": [],
   "source": [
    "dummy_value((1,), 3)"
   ]
  },
  {
   "cell_type": "code",
   "execution_count": null,
   "id": "36",
   "metadata": {},
   "outputs": [],
   "source": [
    "q = delayed.DelayedQueue()\n",
    "s = delayed.DelayedBatchedZarrStore(\n",
    "    q, output_dir / \"test_store/t={1}\", write_options=dict(chunks=(2, 1))\n",
    ")\n",
    "shape = (5, 3)\n",
    "s[1, 0, 0] = dummy_value(shape, 12)\n",
    "s[0, 0, 0] = dummy_value(shape, 11)\n",
    "s[2, 0, 0] = dummy_value(shape, 22)\n",
    "s[2, 1, 0] = dummy_value(shape, 88)\n",
    "s[3, 1, 0] = dummy_value(shape, 99)"
   ]
  },
  {
   "cell_type": "code",
   "execution_count": null,
   "id": "37",
   "metadata": {},
   "outputs": [],
   "source": [
    "q = delayed.DelayedQueue()\n",
    "s = delayed.DelayedBatchedZarrStore(\n",
    "    q, output_dir / \"test_store/t={1}/roi={3}\", write_options=dict(chunks=(2, 1, 7))\n",
    ")\n",
    "shape = (5, 3)\n",
    "s[1, 0, 0] = {2: dummy_value(shape, 12)}\n",
    "s[0, 0, 0] = {2: dummy_value(shape, 11)}\n",
    "s[2, 0, 0] = {2: dummy_value(shape, 22)}\n",
    "s[2, 1, 0] = {2: dummy_value(shape, 88)}\n",
    "s[3, 1, 0] = {2: dummy_value(shape, 99)}"
   ]
  },
  {
   "cell_type": "code",
   "execution_count": null,
   "id": "38",
   "metadata": {},
   "outputs": [],
   "source": [
    "q = delayed.DelayedQueue()\n",
    "s = delayed.DelayedBatchedZarrStore(\n",
    "    q, output_dir / \"test_store/t={1}/roi={3}\", write_options=dict(chunks=(2, 1, 7, 7))\n",
    ")\n",
    "shape = (5, 3)\n",
    "s[1, 0, 0] = {(3, 2): dummy_value(shape, 12)}\n",
    "s[0, 0, 0] = {(3, 2): dummy_value(shape, 11)}\n",
    "s[2, 0, 0] = {(3, 2): dummy_value(shape, 22)}\n",
    "s[2, 1, 0] = {(3, 2): dummy_value(shape, 88)}\n",
    "s[3, 1, 0] = {(3, 2): dummy_value(shape, 99)}"
   ]
  },
  {
   "cell_type": "code",
   "execution_count": null,
   "id": "39",
   "metadata": {},
   "outputs": [],
   "source": [
    "q = delayed.DelayedQueue()\n",
    "s = delayed.DelayedBatchedZarrStore(\n",
    "    q, output_dir / \"test_store/t={}\", write_options=dict(chunks=(2, 1))\n",
    ")\n",
    "shape = (5, 3)\n",
    "# shape = None\n",
    "s[0, 1, 0] = dummy_value(shape, 11)\n",
    "s[0, 0, 0] = dummy_value(shape, 11)\n",
    "s[0, 2, 0] = dummy_value(shape, 22)\n",
    "s[1, 2, 0] = dummy_value(shape, 88)\n",
    "s[1, 3, 0] = dummy_value(shape, 99)"
   ]
  },
  {
   "cell_type": "code",
   "execution_count": null,
   "id": "40",
   "metadata": {},
   "outputs": [],
   "source": [
    "s.write()"
   ]
  },
  {
   "cell_type": "code",
   "execution_count": null,
   "id": "41",
   "metadata": {},
   "outputs": [],
   "source": [
    "q.poll()"
   ]
  },
  {
   "cell_type": "code",
   "execution_count": null,
   "id": "42",
   "metadata": {},
   "outputs": [],
   "source": [
    "s.writers"
   ]
  },
  {
   "cell_type": "code",
   "execution_count": null,
   "id": "43",
   "metadata": {},
   "outputs": [],
   "source": [
    "s._write_queue"
   ]
  },
  {
   "cell_type": "code",
   "execution_count": null,
   "id": "44",
   "metadata": {},
   "outputs": [],
   "source": [
    "group_by_chunks(idxs, chunks, shape)"
   ]
  },
  {
   "cell_type": "code",
   "execution_count": null,
   "id": "45",
   "metadata": {},
   "outputs": [],
   "source": [
    "x = np.empty((2, 2), dtype=object)\n",
    "x"
   ]
  },
  {
   "cell_type": "code",
   "execution_count": null,
   "id": "46",
   "metadata": {},
   "outputs": [],
   "source": [
    "y = {\n",
    "    (1, 1): np.full((5, 2), 44),\n",
    "    (1, 0): np.full((5, 2), 22),\n",
    "    (0, 1): np.full((5, 2), 33),\n",
    "    (0, 0): np.full((5, 2), 11),\n",
    "}"
   ]
  },
  {
   "cell_type": "code",
   "execution_count": null,
   "id": "47",
   "metadata": {},
   "outputs": [],
   "source": [
    "for k, v in y.items():\n",
    "    x[k] = v"
   ]
  },
  {
   "cell_type": "code",
   "execution_count": null,
   "id": "48",
   "metadata": {},
   "outputs": [],
   "source": [
    "z = np.stack([x[k] for k in sorted(y.keys())]).reshape(2, 2, 5, 2)"
   ]
  },
  {
   "cell_type": "code",
   "execution_count": null,
   "id": "49",
   "metadata": {},
   "outputs": [],
   "source": [
    "z[1, 0].shape"
   ]
  },
  {
   "cell_type": "code",
   "execution_count": null,
   "id": "50",
   "metadata": {},
   "outputs": [],
   "source": [
    "stack_chunks(\n",
    "    {\n",
    "        (1, 1): np.full((5, 2), 44),\n",
    "        (1, 0): np.full((5, 2), 22),\n",
    "        (0, 1): np.full((5, 2), 33),\n",
    "        (0, 0): np.full((5, 2), 11),\n",
    "    }\n",
    ")"
   ]
  },
  {
   "cell_type": "code",
   "execution_count": null,
   "id": "51",
   "metadata": {},
   "outputs": [],
   "source": [
    "a = np.zeros(shape)\n",
    "a[:3, :2, :7] = 1"
   ]
  },
  {
   "cell_type": "code",
   "execution_count": null,
   "id": "52",
   "metadata": {},
   "outputs": [],
   "source": [
    "a[3:, :2, :7]"
   ]
  },
  {
   "cell_type": "code",
   "execution_count": null,
   "id": "53",
   "metadata": {},
   "outputs": [],
   "source": [
    "indices_for_chunk((2, 2), chunks)"
   ]
  },
  {
   "cell_type": "code",
   "execution_count": null,
   "id": "54",
   "metadata": {},
   "outputs": [],
   "source": [
    "chunks = (3, 1, 2, 5, None, None)"
   ]
  },
  {
   "cell_type": "code",
   "execution_count": null,
   "id": "55",
   "metadata": {},
   "outputs": [],
   "source": [
    "chunks = (3, 2, None)\n",
    "shape = (4, 3, 7)"
   ]
  },
  {
   "cell_type": "code",
   "execution_count": null,
   "id": "56",
   "metadata": {},
   "outputs": [],
   "source": [
    "idxs = {\n",
    "    (0, 0): \"a\",\n",
    "    (0, 1): \"a\",\n",
    "    (0, 2): \"b\",\n",
    "    (1, 0): \"a\",\n",
    "    (1, 1): \"a\",\n",
    "    (1, 2): \"b\",\n",
    "    (2, 0): \"a\",\n",
    "    (3, 0): \"c\",\n",
    "}"
   ]
  },
  {
   "cell_type": "code",
   "execution_count": null,
   "id": "57",
   "metadata": {},
   "outputs": [],
   "source": [
    "arr[1, 0, :] = np.arange(3)"
   ]
  },
  {
   "cell_type": "markdown",
   "id": "58",
   "metadata": {},
   "source": [
    "# Pipeline"
   ]
  },
  {
   "cell_type": "code",
   "execution_count": null,
   "id": "59",
   "metadata": {},
   "outputs": [],
   "source": [
    "# k1 = 1e-9\n",
    "# center = image.center_from_shape(nd2.get_frame_2D().shape) - np.array([0, -500])"
   ]
  },
  {
   "cell_type": "code",
   "execution_count": null,
   "id": "60",
   "metadata": {},
   "outputs": [],
   "source": [
    "# def get_frame_func(\n",
    "#     filename, position, channel, t, k1=None, center=None, dark=None, flat=None\n",
    "# ):\n",
    "#     img = np.asarray(\n",
    "#         workflow.get_nd2_frame(\n",
    "#             filename, position=position, channel=channel, t=t, dark=dark, flat=flat\n",
    "#         )\n",
    "#     )\n",
    "#     if k1 is not None:\n",
    "#         img = image.correct_radial_distortion(img, k1=k1, center=center)\n",
    "#     # TODO\n",
    "#     img = img[:, 300 : img.shape[1] - 300]\n",
    "#     return img\n",
    "\n",
    "\n",
    "# def preprocess_func(img, k1=None, center=None, dark=None, flat=None):\n",
    "def preprocess_func(img):\n",
    "    return img[600 : img.shape[0] - 600, 1500 : img.shape[1] - 1500]"
   ]
  },
  {
   "cell_type": "code",
   "execution_count": null,
   "id": "61",
   "metadata": {},
   "outputs": [],
   "source": [
    "config = {\n",
    "    # \"composite_func\": image.mean_composite,\n",
    "    # \"roi_detection_func\": trench_detection.find_trenches,\n",
    "    # \"track_drift\": True,\n",
    "    # \"segmentation_func\": watershed.watershed_segment,\n",
    "    # \"segmentation_channels\": [\"RFP-EM\", \"YFP-EM\", \"CFP-EM\"],\n",
    "    \"trench_detection_channels\": None,  # channel for trench detection, almost always same as segmentation_channel\n",
    "    # \"measure_channels\": = [\"RFP-PENTA\", \"YFP-DUAL\"],\n",
    "    # \"crop_channels\": [\"Phase-Fluor\", \"RFP-EM\", \"GFP-EM\", \"YFP-EM\", \"CFP-EM\"],\n",
    "    # \"measure_channels\": [\"RFP-EM\", \"GFP-EM\", \"YFP-EM\", \"CFP-EM\"],\n",
    "    # 230912/230915\n",
    "    # \"segmentation_channels\": [\"RFP-EM\"],\n",
    "    # \"crop_channels\": [\"RFP-EM\", \"YFP-EM\"],\n",
    "    # \"measure_channels\": [\"RFP-EM\", \"YFP-EM\"],\n",
    "    # 230818/230830\n",
    "    \"segmentation_channels\": [\"RFP-EM\", \"YFP-EM\", \"CFP-EM\"],\n",
    "    \"crop_channels\": [\"RFP-EM\", \"YFP-EM\", \"CFP-EM\"],\n",
    "    \"measure_channels\": [\"RFP-EM\", \"YFP-EM\", \"CFP-EM\"],\n",
    "    # 231101\n",
    "    # \"segmentation_channels\": [\"RFP-EM\", \"GFP-EM\", \"YFP-EM\", \"CFP-EM\"],\n",
    "    # \"crop_channels\": [\"Phase-Fluor\", \"RFP-EM\", \"GFP-EM\", \"YFP-EM\", \"CFP-EM\"],\n",
    "    # \"measure_channels\": [\"RFP-EM\", \"GFP-EM\", \"YFP-EM\", \"CFP-EM\"],\n",
    "    # \"fish_crop_channels\": [\"BF\", GFP-EM\", \"Cy5\", \"Cy7\"],\n",
    "    # 240612\n",
    "    # \"segmentation_channels\": [\"CFP-EM\"],\n",
    "    # \"crop_channels\": [\"CFP-EM\", \"YFP-EM\"],\n",
    "    # \"measure_channels\": [\"CFP-EM\", \"YFP-EM\"],\n",
    "    ###\n",
    "    \"fish_measure_channels\": [\"GFP\", \"Cy5\", \"Cy7\"],\n",
    "    \"fish_drift_tracking_channel\": \"BF\",\n",
    "    # \"fish_probes\": hhh,\n",
    "    # \"roi_detection_kwargs\": {\"width_to_pitch_ratio\": 1.4 / 3.5},\n",
    "    \"roi_detection_kwargs\": {\"width_to_pitch_ratio\": 3 / 3.5},  # TODO!!!\n",
    "    \"preprocess_func\": preprocess_func,\n",
    "    # \"preprocess_kwargs\": {\"k1\": k1, \"center\": center},\n",
    "}"
   ]
  },
  {
   "cell_type": "code",
   "execution_count": null,
   "id": "62",
   "metadata": {},
   "outputs": [],
   "source": [
    "%%time\n",
    "# delayed_ = False\n",
    "delayed_ = client\n",
    "\n",
    "p = pipeline.DefaultPipeline(output_dir, config=config, delayed=delayed_)\n",
    "\n",
    "for msg in readers.send_nd2(\n",
    "    nd2_filename,\n",
    "    # slices=dict(v=[8], t=range(190, 192)),\n",
    "    slices=dict(v=[8]),\n",
    "    # slices=dict(t=[80,85,90,91], v=[8]),\n",
    "    # slices=dict(t=range(88,92), v=[8]),\n",
    "    # slices=dict(t=[60,61], v=[8]),\n",
    "    # slices=dict(t=[60], v=range(8,18)),\n",
    "    # slices=dict(t=range(62, 64)),\n",
    "    delayed=delayed_,\n",
    "):\n",
    "    p.handle_message({**msg, \"image_type\": \"science\"})\n",
    "del msg"
   ]
  },
  {
   "cell_type": "code",
   "execution_count": null,
   "id": "63",
   "metadata": {},
   "outputs": [],
   "source": [
    "display_image(nd2.get_frame_2D(t=61, v=8), scale=0.99, downsample=4)"
   ]
  },
  {
   "cell_type": "code",
   "execution_count": null,
   "id": "64",
   "metadata": {},
   "outputs": [],
   "source": [
    "display_image(\n",
    "    image.power_law_composite([nd2.get_frame_2D(t=61, v=8, c=c) for c in range(2)]),\n",
    "    scale=0.99,\n",
    "    downsample=4,\n",
    ")"
   ]
  },
  {
   "cell_type": "code",
   "execution_count": null,
   "id": "65",
   "metadata": {},
   "outputs": [],
   "source": [
    "display_image(\n",
    "    np.mean([nd2.get_frame_2D(t=61, v=8, c=c) for c in range(2)], axis=0),\n",
    "    scale=0.99,\n",
    "    downsample=4,\n",
    ")"
   ]
  },
  {
   "cell_type": "code",
   "execution_count": null,
   "id": "66",
   "metadata": {},
   "outputs": [],
   "source": [
    "%%time\n",
    "for msg in readers.send_eaton_fish(\n",
    "    fish_filename,\n",
    "    # slices=dict(t=None, v=range(8, 10)),\n",
    "    # slices=dict(t=[1,2], v=[8,9]),\n",
    "    # slices=dict(v=range(8,18)),\n",
    "    delayed=delayed_,\n",
    "):\n",
    "    p.handle_message({**msg, \"image_type\": \"fish_barcode\"})\n",
    "del msg"
   ]
  },
  {
   "cell_type": "code",
   "execution_count": null,
   "id": "67",
   "metadata": {},
   "outputs": [],
   "source": [
    "p.handle_message({\"type\": \"done\"})"
   ]
  },
  {
   "cell_type": "code",
   "execution_count": null,
   "id": "68",
   "metadata": {},
   "outputs": [],
   "source": [
    "{\n",
    "    k: f.result().result()\n",
    "    for k, f in p.measurements.writers.items()\n",
    "    if f.result().status != \"finished\"\n",
    "}"
   ]
  },
  {
   "cell_type": "code",
   "execution_count": null,
   "id": "69",
   "metadata": {},
   "outputs": [],
   "source": [
    "for store in p._stores:\n",
    "    dask.distributed.fire_and_forget(store.writers.values())\n",
    "    store.writers.clear()"
   ]
  },
  {
   "cell_type": "code",
   "execution_count": null,
   "id": "70",
   "metadata": {},
   "outputs": [],
   "source": [
    "fish_crops[:, 14, :, 206].squeeze().shape"
   ]
  },
  {
   "cell_type": "code",
   "execution_count": null,
   "id": "71",
   "metadata": {},
   "outputs": [],
   "source": [
    "display_image(\n",
    "    image.unstack_multichannel(fish_crops[1:, 14, :, 206].squeeze().swapaxes(0, 1)),\n",
    "    scale=1,\n",
    ")  # , colors=fish_colors)"
   ]
  },
  {
   "cell_type": "markdown",
   "id": "72",
   "metadata": {},
   "source": [
    "# Science analysis"
   ]
  },
  {
   "cell_type": "code",
   "execution_count": null,
   "id": "73",
   "metadata": {},
   "outputs": [],
   "source": [
    "%%time\n",
    "crops = readers.ZarrSlicer(\n",
    "    output_dir / \"crops\",\n",
    "    r\"fov=(?P<v>\\d+)/channel=(?P<c>[^/]+)/t=(?P<t>\\d+)\",\n",
    "    files=False,\n",
    "    recursive=True,\n",
    ")"
   ]
  },
  {
   "cell_type": "code",
   "execution_count": null,
   "id": "74",
   "metadata": {},
   "outputs": [],
   "source": [
    "%%time\n",
    "segmentation_masks = readers.ZarrSlicer(\n",
    "    output_dir / \"segmentation_masks\",\n",
    "    r\"fov=(?P<v>\\d+)/t=(?P<t>\\d+)\",\n",
    "    files=False,\n",
    "    recursive=True,\n",
    "    axis_order=\"tv\",\n",
    ")"
   ]
  },
  {
   "cell_type": "code",
   "execution_count": null,
   "id": "75",
   "metadata": {},
   "outputs": [],
   "source": [
    "display_image(\n",
    "    image.unstack(image.crop_to_mask(crops[:, 8, \"YFP-EM\", 33].squeeze())), scale=1\n",
    ")"
   ]
  },
  {
   "cell_type": "code",
   "execution_count": null,
   "id": "76",
   "metadata": {},
   "outputs": [],
   "source": [
    "crops[:, 8, \"YFP-EM\", 3].squeeze().shape"
   ]
  },
  {
   "cell_type": "code",
   "execution_count": null,
   "id": "77",
   "metadata": {},
   "outputs": [],
   "source": [
    "crops[:, 8, :, 7].squeeze().swapaxes(0, 1).shape"
   ]
  },
  {
   "cell_type": "code",
   "execution_count": null,
   "id": "78",
   "metadata": {},
   "outputs": [],
   "source": [
    "image.unstack_multichannel(crops[:, 8, :, 7].squeeze().swapaxes(0, 1)).shape"
   ]
  },
  {
   "cell_type": "code",
   "execution_count": null,
   "id": "79",
   "metadata": {},
   "outputs": [],
   "source": [
    "display_image(\n",
    "    image.unstack_multichannel(crops[:, 8, :, 7].squeeze().swapaxes(0, 1)),\n",
    "    scale=1,\n",
    ")"
   ]
  },
  {
   "cell_type": "code",
   "execution_count": null,
   "id": "80",
   "metadata": {},
   "outputs": [],
   "source": [
    "display_image(\n",
    "    image.unstack_multichannel(crops[:, 8, :, 7].squeeze().swapaxes(0, 1)),\n",
    "    scale=1,\n",
    ")"
   ]
  },
  {
   "cell_type": "code",
   "execution_count": null,
   "id": "81",
   "metadata": {},
   "outputs": [],
   "source": [
    "segmentation_masks[:, 8, 7].squeeze().shape"
   ]
  },
  {
   "cell_type": "code",
   "execution_count": null,
   "id": "82",
   "metadata": {},
   "outputs": [],
   "source": [
    "np."
   ]
  },
  {
   "cell_type": "code",
   "execution_count": null,
   "id": "83",
   "metadata": {},
   "outputs": [],
   "source": [
    "x = skimage.color.label2rgb(\n",
    "    np.nan_to_num(segmentation_masks[:, 8, 7].squeeze()).astype(np.uint16)\n",
    ")"
   ]
  },
  {
   "cell_type": "code",
   "execution_count": null,
   "id": "84",
   "metadata": {},
   "outputs": [],
   "source": [
    "x.shape"
   ]
  },
  {
   "cell_type": "code",
   "execution_count": null,
   "id": "85",
   "metadata": {},
   "outputs": [],
   "source": [
    "np.swapaxes(x, -3, -2).shape"
   ]
  },
  {
   "cell_type": "code",
   "execution_count": null,
   "id": "86",
   "metadata": {},
   "outputs": [],
   "source": [
    "y = np.swapaxes(x, -3, -2)"
   ]
  },
  {
   "cell_type": "code",
   "execution_count": null,
   "id": "87",
   "metadata": {},
   "outputs": [],
   "source": [
    "np.moveaxis(x, 0, 1).shape"
   ]
  },
  {
   "cell_type": "code",
   "execution_count": null,
   "id": "88",
   "metadata": {},
   "outputs": [],
   "source": [
    "y.shape"
   ]
  },
  {
   "cell_type": "code",
   "execution_count": null,
   "id": "89",
   "metadata": {},
   "outputs": [],
   "source": [
    "y.reshape(-1, *y.shape[2:]).shape"
   ]
  },
  {
   "cell_type": "code",
   "execution_count": null,
   "id": "90",
   "metadata": {},
   "outputs": [],
   "source": [
    "def unstack2(ary, axis=1):\n",
    "    ary = np.moveaxis(ary, 0, axis - 1)\n",
    "    return ary.reshape(*ary.shape[: axis - 1], -1, *ary.shape[axis + 1 :])\n",
    "\n",
    "\n",
    "display_image(unstack2(x, axis=2), scale=1)"
   ]
  },
  {
   "cell_type": "code",
   "execution_count": null,
   "id": "91",
   "metadata": {},
   "outputs": [],
   "source": [
    "skimage.color.label2rgb(\n",
    "    np.nan_to_num(segmentation_masks[:, 8, 7].squeeze()).astype(np.uint16)\n",
    ").rollaxis(1).shape"
   ]
  },
  {
   "cell_type": "code",
   "execution_count": null,
   "id": "92",
   "metadata": {},
   "outputs": [],
   "source": [
    "skimage.color.label2rgb(\n",
    "    np.nan_to_num(segmentation_masks[:, 8, 7].squeeze()).astype(np.uint16)\n",
    ").shape"
   ]
  },
  {
   "cell_type": "code",
   "execution_count": null,
   "id": "93",
   "metadata": {},
   "outputs": [],
   "source": [
    "image.unstack(\n",
    "    skimage.color.label2rgb(\n",
    "        np.nan_to_num(segmentation_masks[:, 8, 7].squeeze()).astype(np.uint16)\n",
    "    ),\n",
    "    axis=2,\n",
    ").shape"
   ]
  },
  {
   "cell_type": "code",
   "execution_count": null,
   "id": "94",
   "metadata": {},
   "outputs": [],
   "source": [
    "image.unstack_multichannel(\n",
    "    skimage.color.label2rgb(\n",
    "        np.nan_to_num(segmentation_masks[:, 8, 7].squeeze()).astype(np.uint16)\n",
    "    )\n",
    ").shape"
   ]
  },
  {
   "cell_type": "code",
   "execution_count": null,
   "id": "95",
   "metadata": {},
   "outputs": [],
   "source": [
    "crops[:, 8, :, 417].squeeze().shape"
   ]
  },
  {
   "cell_type": "code",
   "execution_count": null,
   "id": "96",
   "metadata": {},
   "outputs": [],
   "source": [
    "image.unstack(\n",
    "    crops[:, 8, :, 417].squeeze(),\n",
    "    axis=3,\n",
    ").shape"
   ]
  },
  {
   "cell_type": "code",
   "execution_count": null,
   "id": "97",
   "metadata": {},
   "outputs": [],
   "source": [
    "image.unstack(\n",
    "    image.unstack(\n",
    "        crops[:, 8, :, 417].squeeze(),\n",
    "        axis=3,\n",
    "    )\n",
    ").shape"
   ]
  },
  {
   "cell_type": "code",
   "execution_count": null,
   "id": "98",
   "metadata": {},
   "outputs": [],
   "source": [
    "display_image(\n",
    "    image.unstack(\n",
    "        image.unstack(\n",
    "            crops[:, 8, :, 417].squeeze(),\n",
    "            axis=3,\n",
    "        )\n",
    "    ),\n",
    "    scale=1,\n",
    "    downsample=4,\n",
    ")"
   ]
  },
  {
   "cell_type": "code",
   "execution_count": null,
   "id": "99",
   "metadata": {},
   "outputs": [],
   "source": [
    "crops[:, 8, :, 417].squeeze().swapaxes(0, 1).shape"
   ]
  },
  {
   "cell_type": "code",
   "execution_count": null,
   "id": "100",
   "metadata": {},
   "outputs": [],
   "source": [
    "image.unstack_multichannel(crops[:, 8, :, 417].squeeze().swapaxes(0, 1), axis=2).shape"
   ]
  },
  {
   "cell_type": "code",
   "execution_count": null,
   "id": "101",
   "metadata": {},
   "outputs": [],
   "source": [
    "image.unstack_multichannel(crops[:, 8, :, 417].squeeze().swapaxes(0, 1), axis=1).shape"
   ]
  },
  {
   "cell_type": "code",
   "execution_count": null,
   "id": "102",
   "metadata": {},
   "outputs": [],
   "source": [
    "image.unstack(crops[:, 8, :, 417].squeeze(), axis=1).shape"
   ]
  },
  {
   "cell_type": "code",
   "execution_count": null,
   "id": "103",
   "metadata": {},
   "outputs": [],
   "source": [
    "display_image(\n",
    "    image.unstack_multichannel(\n",
    "        crops[10:, 8, :, 417].squeeze().swapaxes(0, 1),\n",
    "    ),\n",
    "    downsample=4,\n",
    ")"
   ]
  },
  {
   "cell_type": "code",
   "execution_count": null,
   "id": "104",
   "metadata": {},
   "outputs": [],
   "source": [
    "display_image(\n",
    "    image.unstack(\n",
    "        skimage.color.label2rgb(\n",
    "            np.nan_to_num(segmentation_masks[:, 8, 417].squeeze()).astype(np.uint16)\n",
    "        ),\n",
    "        axis=2,\n",
    "    ),\n",
    "    scale=1,\n",
    ")"
   ]
  },
  {
   "cell_type": "code",
   "execution_count": null,
   "id": "105",
   "metadata": {},
   "outputs": [],
   "source": [
    "display_image(\n",
    "    image.unstack(\n",
    "        skimage.color.label2rgb(\n",
    "            np.nan_to_num(segmentation_masks[:, 8, 417].squeeze()).astype(np.uint16)\n",
    "        ),\n",
    "        axis=2,\n",
    "    ),\n",
    "    scale=1,\n",
    ")"
   ]
  },
  {
   "cell_type": "code",
   "execution_count": null,
   "id": "106",
   "metadata": {},
   "outputs": [],
   "source": [
    "%%time\n",
    "dataset = ds.dataset(output_dir / \"measurements\", format=\"parquet\", partitioning=\"hive\")\n",
    "# df = dataset.to_table(filter=ds.field(\"position\") == 14).to_pandas()\n",
    "# df = dataset.to_table().to_pandas().sort_values(\"t\")\n",
    "df = (\n",
    "    pl.scan_pyarrow_dataset(dataset)\n",
    "    .sort([\"fov_num\", \"roi\", \"t\", \"channel\", \"label\"])\n",
    "    .collect()\n",
    ")"
   ]
  },
  {
   "cell_type": "code",
   "execution_count": null,
   "id": "107",
   "metadata": {},
   "outputs": [],
   "source": [
    "df"
   ]
  },
  {
   "cell_type": "code",
   "execution_count": null,
   "id": "108",
   "metadata": {},
   "outputs": [],
   "source": [
    "df.write_parquet(output_dir / \"measurements.parquet\")"
   ]
  },
  {
   "cell_type": "code",
   "execution_count": null,
   "id": "109",
   "metadata": {},
   "outputs": [],
   "source": [
    "df.filter(\n",
    "    pl.col(\"fov_num\") == 8,\n",
    "    pl.col(\"roi\") == 211,\n",
    "    pl.col(\"label\") == 1,\n",
    "    pl.col(\"t\").is_between(15, 200),\n",
    ").to_pandas().set_index(\"t\").plot(x=\"t\", y=\"intensity_mean\", hue=\"channel\")"
   ]
  },
  {
   "cell_type": "code",
   "execution_count": null,
   "id": "110",
   "metadata": {},
   "outputs": [],
   "source": [
    "df.filter(\n",
    "    pl.col(\"fov_num\") == 8,\n",
    "    pl.col(\"roi\") == 212,\n",
    "    pl.col(\"label\") == 1,\n",
    "    pl.col(\"t\").is_between(15, 200),\n",
    ").to_pandas().hvplot(\"t\", \"intensity_mean\", by=\"channel\")"
   ]
  },
  {
   "cell_type": "code",
   "execution_count": null,
   "id": "111",
   "metadata": {},
   "outputs": [],
   "source": [
    "df.filter(\n",
    "    pl.col(\"fov_num\") == 8,\n",
    "    pl.col(\"roi\") == 209,\n",
    "    pl.col(\"label\") == 1,\n",
    "    pl.col(\"t\").is_between(15, 200),\n",
    ").to_pandas().hvplot(\"t\", \"intensity_mean\", by=\"channel\")"
   ]
  },
  {
   "cell_type": "code",
   "execution_count": null,
   "id": "112",
   "metadata": {},
   "outputs": [],
   "source": [
    "display_image(\n",
    "    image.unstack(\n",
    "        skimage.color.label2rgb(\n",
    "            np.nan_to_num(segmentation_masks[:, 8, 209].squeeze()).astype(np.uint16)\n",
    "        ),\n",
    "        axis=2,\n",
    "    ),\n",
    "    scale=1,\n",
    ")"
   ]
  },
  {
   "cell_type": "code",
   "execution_count": null,
   "id": "113",
   "metadata": {},
   "outputs": [],
   "source": [
    "display_image(\n",
    "    image.unstack_multichannel(\n",
    "        crops[10:, 8, :, 209].squeeze().swapaxes(0, 1),\n",
    "    ),\n",
    "    downsample=1,\n",
    ")"
   ]
  },
  {
   "cell_type": "code",
   "execution_count": null,
   "id": "114",
   "metadata": {},
   "outputs": [],
   "source": [
    "x = crops[10:, 8, :, 209].squeeze().swapaxes(0, 1)"
   ]
  },
  {
   "cell_type": "code",
   "execution_count": null,
   "id": "115",
   "metadata": {},
   "outputs": [],
   "source": [
    "x.shape"
   ]
  },
  {
   "cell_type": "code",
   "execution_count": null,
   "id": "116",
   "metadata": {},
   "outputs": [],
   "source": [
    "y = image.power_law_composite(x)"
   ]
  },
  {
   "cell_type": "code",
   "execution_count": null,
   "id": "117",
   "metadata": {},
   "outputs": [],
   "source": [
    "np.nanmax(x[0])"
   ]
  },
  {
   "cell_type": "code",
   "execution_count": null,
   "id": "118",
   "metadata": {},
   "outputs": [],
   "source": [
    "display_image(image.unstack(x[2], axis=2), scale=0.99)"
   ]
  },
  {
   "cell_type": "code",
   "execution_count": null,
   "id": "119",
   "metadata": {},
   "outputs": [],
   "source": [
    "display_image(image.unstack(y, axis=2), scale=0.99)"
   ]
  },
  {
   "cell_type": "code",
   "execution_count": null,
   "id": "120",
   "metadata": {},
   "outputs": [],
   "source": [
    "np.nansum(x, axis=0).shape"
   ]
  },
  {
   "cell_type": "code",
   "execution_count": null,
   "id": "121",
   "metadata": {},
   "outputs": [],
   "source": [
    "display_image(image.unstack(np.nansum(x, axis=0), axis=2), scale=0.99)"
   ]
  },
  {
   "cell_type": "code",
   "execution_count": null,
   "id": "122",
   "metadata": {},
   "outputs": [],
   "source": [
    "df.filter(\n",
    "    pl.col(\"fov_num\") == 8, pl.col(\"roi\") == 403, pl.col(\"channel\") == \"YFP-EM\"\n",
    ").to_pandas()"
   ]
  },
  {
   "cell_type": "markdown",
   "id": "123",
   "metadata": {},
   "source": [
    "# Export"
   ]
  },
  {
   "cell_type": "code",
   "execution_count": null,
   "id": "124",
   "metadata": {},
   "outputs": [],
   "source": [
    "%%time\n",
    "dataset = ds.dataset(output_dir / \"measurements\", format=\"parquet\", partitioning=\"hive\")\n",
    "# df = dataset.to_table(filter=ds.field(\"position\") == 14).to_pandas()\n",
    "# df = dataset.to_table().to_pandas().sort_values(\"t\")\n",
    "df = (\n",
    "    pl.scan_pyarrow_dataset(dataset)\n",
    "    .sort([\"fov_num\", \"roi\", \"t\", \"channel\", \"label\"])\n",
    "    .collect()\n",
    ")"
   ]
  },
  {
   "cell_type": "code",
   "execution_count": null,
   "id": "125",
   "metadata": {},
   "outputs": [],
   "source": [
    "df[\"label\"].value_counts(sort=True)"
   ]
  },
  {
   "cell_type": "code",
   "execution_count": null,
   "id": "126",
   "metadata": {},
   "outputs": [],
   "source": [
    "df2 = (\n",
    "    df.filter(pl.col(\"t\").is_between(15, 200))\n",
    "    .filter(pl.col(\"label\").max().over([\"fov_num\", \"roi\"]) <= 12)\n",
    "    .with_columns(\n",
    "        reversed_label=(\n",
    "            pl.col(\"label\").max().over([\"fov_num\", \"roi\", \"t\"]) - pl.col(\"label\") + 1\n",
    "        )\n",
    "    )\n",
    "    .join(df_rois.select(\"fov_num\", \"roi\", \"trench_set\"), on=[\"fov_num\", \"roi\"])\n",
    "    .with_columns(\n",
    "        label=pl.when(pl.col(\"trench_set\") % 2 == 1)\n",
    "        .then(pl.col(\"label\"))\n",
    "        .otherwise(pl.col(\"reversed_label\"))\n",
    "    )\n",
    "    .select(pl.all().exclude(\"reversed_label\"))\n",
    ")"
   ]
  },
  {
   "cell_type": "code",
   "execution_count": null,
   "id": "127",
   "metadata": {},
   "outputs": [],
   "source": [
    "df2.filter(\n",
    "    pl.col(\"fov_num\") == 8,\n",
    "    pl.col(\"roi\") == 328,\n",
    "    pl.col(\"label\") == 1,\n",
    ").to_pandas().hvplot(\"t\", \"intensity_mean\", by=\"channel\")"
   ]
  },
  {
   "cell_type": "code",
   "execution_count": null,
   "id": "128",
   "metadata": {},
   "outputs": [],
   "source": [
    "display_image(\n",
    "    image.unstack(\n",
    "        skimage.color.label2rgb(\n",
    "            np.nan_to_num(segmentation_masks[15:200, 8, 328].squeeze()).astype(\n",
    "                np.uint16\n",
    "            )\n",
    "        ),\n",
    "        axis=2,\n",
    "    ),\n",
    "    scale=1,\n",
    ")"
   ]
  },
  {
   "cell_type": "code",
   "execution_count": null,
   "id": "129",
   "metadata": {},
   "outputs": [],
   "source": [
    "display_image(\n",
    "    image.unstack_multichannel(\n",
    "        crops[10:, 8, :, 328].squeeze().swapaxes(0, 1),\n",
    "    ),\n",
    "    downsample=1,\n",
    ")"
   ]
  },
  {
   "cell_type": "code",
   "execution_count": null,
   "id": "130",
   "metadata": {},
   "outputs": [],
   "source": [
    "df2[\"roi\"].unique()"
   ]
  },
  {
   "cell_type": "code",
   "execution_count": null,
   "id": "131",
   "metadata": {},
   "outputs": [],
   "source": [
    "%%time\n",
    "df_rois = pl.scan_pyarrow_dataset(\n",
    "    ds.dataset(output_dir / \"initial_rois\", format=\"parquet\", partitioning=\"hive\")\n",
    ").collect()"
   ]
  },
  {
   "cell_type": "code",
   "execution_count": null,
   "id": "132",
   "metadata": {},
   "outputs": [],
   "source": [
    "df_rois"
   ]
  },
  {
   "cell_type": "code",
   "execution_count": null,
   "id": "133",
   "metadata": {},
   "outputs": [],
   "source": [
    "df = pd.concat(\n",
    "    {\n",
    "        7: pd.DataFrame(dict(a=[1, 2, 3], b=[4, 5, 6])),\n",
    "        8: pd.DataFrame(dict(a=[3, 3, 3], b=[4, 5, 6])),\n",
    "    }\n",
    ")"
   ]
  },
  {
   "cell_type": "code",
   "execution_count": null,
   "id": "134",
   "metadata": {},
   "outputs": [],
   "source": [
    "df.index.names"
   ]
  },
  {
   "cell_type": "code",
   "execution_count": null,
   "id": "135",
   "metadata": {},
   "outputs": [],
   "source": [
    "levels_to_drop = [idx for idx, name in enumerate(df.index.names) if name is None]\n",
    "df.droplevel(level=levels_to_drop, axis=0)"
   ]
  },
  {
   "cell_type": "code",
   "execution_count": null,
   "id": "136",
   "metadata": {},
   "outputs": [],
   "source": [
    "levels_to_drop"
   ]
  }
 ],
 "metadata": {
  "kernelspec": {
   "display_name": "Python 3 (ipykernel)",
   "language": "python",
   "name": "python3"
  },
  "language_info": {
   "codemirror_mode": {
    "name": "ipython",
    "version": 3
   },
   "file_extension": ".py",
   "mimetype": "text/x-python",
   "name": "python",
   "nbconvert_exporter": "python",
   "pygments_lexer": "ipython3",
   "version": "3.12.4"
  }
 },
 "nbformat": 4,
 "nbformat_minor": 4
}
