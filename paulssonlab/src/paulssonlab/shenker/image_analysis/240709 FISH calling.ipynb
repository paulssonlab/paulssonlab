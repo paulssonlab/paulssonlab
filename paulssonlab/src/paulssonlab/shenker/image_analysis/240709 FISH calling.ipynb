{
 "cells": [
  {
   "cell_type": "markdown",
   "id": "0",
   "metadata": {
    "tags": []
   },
   "source": [
    "# Imports"
   ]
  },
  {
   "cell_type": "code",
   "execution_count": null,
   "id": "1",
   "metadata": {},
   "outputs": [],
   "source": [
    "import io\n",
    "import itertools as it\n",
    "import os\n",
    "import re\n",
    "from collections import Counter, namedtuple\n",
    "from functools import partial\n",
    "from glob import glob\n",
    "from pathlib import Path\n",
    "\n",
    "import dask\n",
    "import dask.distributed\n",
    "import deltalake\n",
    "import h5py\n",
    "import holoviews as hv\n",
    "import hvplot.pandas\n",
    "import matplotlib.pyplot as plt\n",
    "import nd2reader\n",
    "import numpy as np\n",
    "import pandas as pd\n",
    "import polars as pl\n",
    "import pyarrow as pa\n",
    "import pyarrow.dataset as ds\n",
    "import pyarrow.parquet as pq\n",
    "import pymc\n",
    "import scipy.signal\n",
    "import skimage.measure\n",
    "import zarr\n",
    "from dask_jobqueue import SLURMCluster\n",
    "from distributed import Client, LocalCluster, progress\n",
    "from holoviews.operation.datashader import regrid\n",
    "from tqdm.auto import tqdm, trange\n",
    "\n",
    "IDX = pd.IndexSlice"
   ]
  },
  {
   "cell_type": "code",
   "execution_count": null,
   "id": "2",
   "metadata": {},
   "outputs": [],
   "source": [
    "pl.enable_string_cache()"
   ]
  },
  {
   "cell_type": "code",
   "execution_count": null,
   "id": "3",
   "metadata": {
    "tags": []
   },
   "outputs": [],
   "source": [
    "from dask.diagnostics import ProgressBar\n",
    "\n",
    "ProgressBar().register()"
   ]
  },
  {
   "cell_type": "code",
   "execution_count": null,
   "id": "4",
   "metadata": {},
   "outputs": [],
   "source": [
    "%load_ext autoreload\n",
    "%autoreload 2"
   ]
  },
  {
   "cell_type": "code",
   "execution_count": null,
   "id": "5",
   "metadata": {},
   "outputs": [],
   "source": [
    "# import paulssonlab.image_analysis.mosaic as mosaic\n",
    "import paulssonlab.image_analysis.delayed as delayed\n",
    "import paulssonlab.image_analysis.drift as drift\n",
    "import paulssonlab.image_analysis.geometry as geometry\n",
    "import paulssonlab.image_analysis.image as image\n",
    "import paulssonlab.image_analysis.pipeline as pipeline\n",
    "import paulssonlab.image_analysis.readers as readers\n",
    "import paulssonlab.image_analysis.segmentation.watershed as watershed\n",
    "import paulssonlab.image_analysis.trench_detection as trench_detection\n",
    "import paulssonlab.image_analysis.util as util\n",
    "import paulssonlab.image_analysis.workflow as workflow\n",
    "import paulssonlab.util.core as core\n",
    "import paulssonlab.util.numeric as numeric\n",
    "from paulssonlab.image_analysis.ui import RevImage, display_image"
   ]
  },
  {
   "cell_type": "code",
   "execution_count": null,
   "id": "6",
   "metadata": {},
   "outputs": [],
   "source": [
    "%load_ext pyinstrument"
   ]
  },
  {
   "cell_type": "code",
   "execution_count": null,
   "id": "7",
   "metadata": {},
   "outputs": [],
   "source": [
    "hv.extension(\"bokeh\")\n",
    "# hv.extension(\"matplotlib\")"
   ]
  },
  {
   "cell_type": "markdown",
   "id": "8",
   "metadata": {},
   "source": [
    "# Functions"
   ]
  },
  {
   "cell_type": "code",
   "execution_count": null,
   "id": "9",
   "metadata": {},
   "outputs": [],
   "source": [
    "def concat_glob(filename):\n",
    "    return pl.concat([pl.scan_ipc(f) for f in glob(filename)], how=\"diagonal\")"
   ]
  },
  {
   "cell_type": "code",
   "execution_count": null,
   "id": "10",
   "metadata": {},
   "outputs": [],
   "source": [
    "def label_columns(cols, func=None):\n",
    "    expr = None\n",
    "    for col in cols:\n",
    "        if expr is None:\n",
    "            expr = pl.when(pl.col(col).is_not_null())\n",
    "        else:\n",
    "            expr = expr.when(pl.col(col).is_not_null())\n",
    "        if func is not None:\n",
    "            lit = func(col)\n",
    "        else:\n",
    "            lit = col\n",
    "        expr = expr.then(pl.lit(lit))\n",
    "    return expr"
   ]
  },
  {
   "cell_type": "markdown",
   "id": "11",
   "metadata": {},
   "source": [
    "# Config"
   ]
  },
  {
   "cell_type": "code",
   "execution_count": null,
   "id": "12",
   "metadata": {},
   "outputs": [],
   "source": [
    "cycle_channel_to_bit_num = \"\"\"cycle\tchannel\tbit\n",
    "1\tAF555\t1\n",
    "2\tAF555\t2\n",
    "1\tCy5\t3\n",
    "2\tCy5\t4\n",
    "1\tAlexa750\t5\n",
    "2\tAlexa750\t6\n",
    "3\tAF555\t7\n",
    "4\tAF555\t8\n",
    "3\tCy5\t9\n",
    "4\tCy5\t10\n",
    "3\tAlexa750\t11\n",
    "4\tAlexa750\t12\n",
    "5\tAF555\t13\n",
    "6\tAF555\t14\n",
    "5\tCy5\t15\n",
    "6\tCy5\t16\n",
    "5\tAlexa750\t17\n",
    "6\tAlexa750\t18\n",
    "7\tAF555\t19\n",
    "8\tAF555\t20\n",
    "7\tCy5\t21\n",
    "8\tCy5\t22\n",
    "7\tAlexa750\t23\n",
    "8\tAlexa750\t24\n",
    "9\tAF555\t25\n",
    "10\tAF555\t26\n",
    "9\tCy5\t27\n",
    "10\tCy5\t28\n",
    "9\tAlexa750\t29\n",
    "10\tAlexa750\t30\"\"\"\n",
    "\n",
    "cycle_channel_to_bit_num = pl.read_csv(\n",
    "    io.StringIO(cycle_channel_to_bit_num), separator=\"\\t\"\n",
    ").with_columns(\n",
    "    cycle=pl.col(\"cycle\") - 1,\n",
    "    channel=pl.col(\"channel\").replace({\"AF555\": \"GFP\", \"Alexa750\": \"Cy7\"}),\n",
    "    bit=pl.col(\"bit\") - 1,\n",
    ")\n",
    "# use zero-indexing for bit, one-indexing for cycle\n",
    "# (eventually microscope acquisition should start with cycle 0)"
   ]
  },
  {
   "cell_type": "code",
   "execution_count": null,
   "id": "13",
   "metadata": {},
   "outputs": [],
   "source": [
    "nd2_filename = Path(\"/home/jqs1/scratch/microscopy/240627/LIB533.nd2\")\n",
    "# nd2_filename = Path(\"/home/jqs1/scratch/microscopy/240612/LIB533_isolates_restart.nd2\")\n",
    "# nd2_filename = Path(\"/home/jqs1/scratch/microscopy/230915/230915_RBS_repressors.nd2\")\n",
    "# nd2_filename = Path(\"/home/jqs1/scratch/microscopy/230912/230912_bcd_rbses001.nd2\")\n",
    "# nd2_filename = Path(\"/home/jqs1/scratch/microscopy/231101/231101_FP_calibration.nd2\")\n",
    "\n",
    "# nd2_filename = workflow.SplitFilename(\n",
    "#     sorted(\n",
    "#         glob(\n",
    "#             # \"/home/jqs1/scratch/microscopy/230707/230707_repressilators_restart.nd2.split.a*\"\n",
    "#             \"/home/jqs1/scratch/microscopy/230830/230830_repressilators.nd2.split.*\"\n",
    "#         )\n",
    "#     )\n",
    "# )\n",
    "# assert nd2_filename.files"
   ]
  },
  {
   "cell_type": "code",
   "execution_count": null,
   "id": "14",
   "metadata": {},
   "outputs": [],
   "source": [
    "if isinstance(nd2_filename, workflow.SplitFilename):\n",
    "    parent_dir = nd2_filename[0].parent\n",
    "else:\n",
    "    parent_dir = nd2_filename.parent\n",
    "fish_filename = parent_dir / \"FISH/real_run\"\n",
    "output_dir = parent_dir / \"allfovs\"\n",
    "# output_dir.mkdir(exist_ok=True)"
   ]
  },
  {
   "cell_type": "code",
   "execution_count": null,
   "id": "15",
   "metadata": {},
   "outputs": [],
   "source": [
    "nd2 = workflow.get_nd2_reader(nd2_filename)\n",
    "t_max = nd2.sizes[\"t\"]"
   ]
  },
  {
   "cell_type": "code",
   "execution_count": null,
   "id": "16",
   "metadata": {},
   "outputs": [],
   "source": [
    "nd2.sizes"
   ]
  },
  {
   "cell_type": "code",
   "execution_count": null,
   "id": "17",
   "metadata": {},
   "outputs": [],
   "source": [
    "nd2.metadata[\"channels\"]"
   ]
  },
  {
   "cell_type": "code",
   "execution_count": null,
   "id": "18",
   "metadata": {
    "tags": []
   },
   "outputs": [],
   "source": [
    "colors = {\n",
    "    \"BF\": \"#ffffff\",\n",
    "    # \"CFP-EM\": \"#6fb2e4\",\n",
    "    # \"YFP-EM\": \"#eee461\",\n",
    "    # \"RFP-EM\": \"#c66526\",\n",
    "    \"CFP-EM\": \"#648FFF\",\n",
    "    \"YFP-EM\": \"#FFB000\",\n",
    "    \"RFP-EM\": \"#DC267F\",\n",
    "}\n",
    "\n",
    "fish_colors = {\n",
    "    \"BF\": \"#ffffff\",\n",
    "    \"GFP\": \"#f44336\",\n",
    "    \"Cy5\": \"#03a9f4\",\n",
    "    # \"Cy7\": \"#ffeb3b\"\n",
    "    \"Cy7\": \"#8bc34a\",\n",
    "}"
   ]
  },
  {
   "cell_type": "code",
   "execution_count": null,
   "id": "19",
   "metadata": {},
   "outputs": [],
   "source": [
    "cluster = SLURMCluster(\n",
    "    queue=\"short\",\n",
    "    walltime=\"6:00:00\",\n",
    "    memory=\"4GB\",\n",
    "    local_directory=\"/tmp\",\n",
    "    log_directory=\"/home/jqs1/log\",\n",
    "    cores=1,\n",
    "    processes=1,\n",
    ")\n",
    "client = Client(cluster)"
   ]
  },
  {
   "cell_type": "code",
   "execution_count": null,
   "id": "20",
   "metadata": {},
   "outputs": [],
   "source": [
    "cluster"
   ]
  },
  {
   "cell_type": "code",
   "execution_count": null,
   "id": "21",
   "metadata": {},
   "outputs": [],
   "source": [
    "cluster.scale(0)"
   ]
  },
  {
   "cell_type": "code",
   "execution_count": null,
   "id": "22",
   "metadata": {},
   "outputs": [],
   "source": [
    "cluster.adapt(maximum=100)"
   ]
  },
  {
   "cell_type": "markdown",
   "id": "23",
   "metadata": {
    "jp-MarkdownHeadingCollapsed": true
   },
   "source": [
    "# Pipeline"
   ]
  },
  {
   "cell_type": "code",
   "execution_count": null,
   "id": "24",
   "metadata": {},
   "outputs": [],
   "source": [
    "# k1 = 1e-9\n",
    "# center = image.center_from_shape(nd2.get_frame_2D().shape) - np.array([0, -500])"
   ]
  },
  {
   "cell_type": "code",
   "execution_count": null,
   "id": "25",
   "metadata": {},
   "outputs": [],
   "source": [
    "# def get_frame_func(\n",
    "#     filename, position, channel, t, k1=None, center=None, dark=None, flat=None\n",
    "# ):\n",
    "#     img = np.asarray(\n",
    "#         workflow.get_nd2_frame(\n",
    "#             filename, position=position, channel=channel, t=t, dark=dark, flat=flat\n",
    "#         )\n",
    "#     )\n",
    "#     if k1 is not None:\n",
    "#         img = image.correct_radial_distortion(img, k1=k1, center=center)\n",
    "#     # TODO\n",
    "#     img = img[:, 300 : img.shape[1] - 300]\n",
    "#     return img\n",
    "\n",
    "\n",
    "# def preprocess_func(img, k1=None, center=None, dark=None, flat=None):\n",
    "def preprocess_func(img):\n",
    "    return img[600 : img.shape[0] - 600, 1500 : img.shape[1] - 1500]"
   ]
  },
  {
   "cell_type": "code",
   "execution_count": null,
   "id": "26",
   "metadata": {},
   "outputs": [],
   "source": [
    "config = {\n",
    "    # \"composite_func\": image.mean_composite,\n",
    "    # \"roi_detection_func\": trench_detection.find_trenches,\n",
    "    # \"track_drift\": True,\n",
    "    # \"segmentation_func\": watershed.watershed_segment,\n",
    "    # \"segmentation_channels\": [\"RFP-EM\", \"YFP-EM\", \"CFP-EM\"],\n",
    "    \"trench_detection_channels\": None,  # channel for trench detection, almost always same as segmentation_channel\n",
    "    # \"measure_channels\": = [\"RFP-PENTA\", \"YFP-DUAL\"],\n",
    "    # \"crop_channels\": [\"Phase-Fluor\", \"RFP-EM\", \"GFP-EM\", \"YFP-EM\", \"CFP-EM\"],\n",
    "    # \"measure_channels\": [\"RFP-EM\", \"GFP-EM\", \"YFP-EM\", \"CFP-EM\"],\n",
    "    # 230912/230915\n",
    "    # \"segmentation_channels\": [\"RFP-EM\"],\n",
    "    # \"crop_channels\": [\"RFP-EM\", \"YFP-EM\"],\n",
    "    # \"measure_channels\": [\"RFP-EM\", \"YFP-EM\"],\n",
    "    # 230818/230830\n",
    "    # \"segmentation_channels\": [\"RFP-EM\", \"YFP-EM\", \"CFP-EM\"],\n",
    "    # \"crop_channels\": [\"RFP-EM\", \"YFP-EM\", \"CFP-EM\"],\n",
    "    # \"measure_channels\": [\"RFP-EM\", \"YFP-EM\", \"CFP-EM\"],\n",
    "    # 231101\n",
    "    # \"segmentation_channels\": [\"RFP-EM\", \"GFP-EM\", \"YFP-EM\", \"CFP-EM\"],\n",
    "    # \"crop_channels\": [\"Phase-Fluor\", \"RFP-EM\", \"GFP-EM\", \"YFP-EM\", \"CFP-EM\"],\n",
    "    # \"measure_channels\": [\"RFP-EM\", \"GFP-EM\", \"YFP-EM\", \"CFP-EM\"],\n",
    "    # \"fish_crop_channels\": [\"BF\", GFP-EM\", \"Cy5\", \"Cy7\"],\n",
    "    # 240612/240627\n",
    "    \"segmentation_channels\": [\"CFP-EM\"],\n",
    "    \"crop_channels\": [\"CFP-EM\", \"YFP-EM\"],\n",
    "    \"measure_channels\": [\"CFP-EM\", \"YFP-EM\"],\n",
    "    ###\n",
    "    \"fish_measure_channels\": [\"GFP\", \"Cy5\", \"Cy7\"],\n",
    "    \"fish_drift_tracking_channel\": \"BF\",\n",
    "    # \"fish_probes\": hhh,\n",
    "    # \"roi_detection_kwargs\": {\"width_to_pitch_ratio\": 1.4 / 3.5},\n",
    "    \"roi_detection_kwargs\": {\"width_to_pitch_ratio\": 3 / 3.5},  # TODO!!!\n",
    "    \"preprocess_func\": preprocess_func,\n",
    "    # \"preprocess_kwargs\": {\"k1\": k1, \"center\": center},\n",
    "}"
   ]
  },
  {
   "cell_type": "code",
   "execution_count": null,
   "id": "27",
   "metadata": {},
   "outputs": [],
   "source": [
    "%%time\n",
    "# delayed_ = False\n",
    "delayed_ = client\n",
    "# def delayed_(func):\n",
    "#     def inner(*args, **kwargs):\n",
    "#         pass\n",
    "#     return inner\n",
    "\n",
    "p = pipeline.DefaultPipeline(output_dir, config=config, delayed=delayed_)\n",
    "\n",
    "for msg in readers.send_nd2(\n",
    "    nd2_filename,\n",
    "    # slices=dict(v=[8], t=range(190, 192)),\n",
    "    slices=dict(v=[35], t=range(60, 84)),\n",
    "    # slices=dict(t=[80,85,90,91], v=[8]),\n",
    "    # slices=dict(t=range(88,92), v=[8]),\n",
    "    # slices=dict(t=[60,61], v=[8]),\n",
    "    # slices=dict(t=[60], v=range(8,18)),\n",
    "    # slices=dict(t=range(62, 64)),\n",
    "    delayed=delayed_,\n",
    "):\n",
    "    p.handle_message({**msg, \"image_type\": \"science\"})\n",
    "del msg"
   ]
  },
  {
   "cell_type": "code",
   "execution_count": null,
   "id": "28",
   "metadata": {},
   "outputs": [],
   "source": [
    "# NO: 10, 18,"
   ]
  },
  {
   "cell_type": "code",
   "execution_count": null,
   "id": "29",
   "metadata": {},
   "outputs": [],
   "source": [
    "display_image(nd2.get_frame_2D(t=83, v=16, c=1), scale=0.99, downsample=4)"
   ]
  },
  {
   "cell_type": "code",
   "execution_count": null,
   "id": "30",
   "metadata": {},
   "outputs": [],
   "source": [
    "display_image(\n",
    "    preprocess_func(nd2.get_frame_2D(t=83, v=18, c=1)), scale=0.99, downsample=4\n",
    ")"
   ]
  },
  {
   "cell_type": "code",
   "execution_count": null,
   "id": "31",
   "metadata": {},
   "outputs": [],
   "source": [
    "start = 180\n",
    "for v in range(start, start + 10):\n",
    "    display(\n",
    "        display_image(\n",
    "            preprocess_func(nd2.get_frame_2D(t=83, v=v, c=1)), scale=0.99, downsample=4\n",
    "        )\n",
    "    )"
   ]
  },
  {
   "cell_type": "code",
   "execution_count": null,
   "id": "32",
   "metadata": {},
   "outputs": [],
   "source": [
    "%%time\n",
    "for msg in readers.send_eaton_fish(\n",
    "    fish_filename,\n",
    "    # slices=dict(t=None, v=range(8, 10)),\n",
    "    # slices=dict(t=[1,2], v=[8,9]),\n",
    "    # slices=dict(v=range(8,18)),\n",
    "    slices=dict(v=[35]),\n",
    "    delayed=delayed_,\n",
    "):\n",
    "    p.handle_message({**msg, \"image_type\": \"fish_barcode\"})\n",
    "del msg"
   ]
  },
  {
   "cell_type": "code",
   "execution_count": null,
   "id": "33",
   "metadata": {},
   "outputs": [],
   "source": [
    "%%time\n",
    "p.handle_message({\"type\": \"done\"})"
   ]
  },
  {
   "cell_type": "code",
   "execution_count": null,
   "id": "34",
   "metadata": {},
   "outputs": [],
   "source": [
    "p.fish_crops.flush()"
   ]
  },
  {
   "cell_type": "code",
   "execution_count": null,
   "id": "35",
   "metadata": {},
   "outputs": [],
   "source": [
    "{\n",
    "    k: f.result().result()\n",
    "    for k, f in p.measurements.writers.items()\n",
    "    if f.result().status != \"finished\"\n",
    "}"
   ]
  },
  {
   "cell_type": "code",
   "execution_count": null,
   "id": "36",
   "metadata": {},
   "outputs": [],
   "source": [
    "for store in p._stores:\n",
    "    dask.distributed.fire_and_forget(store.writers.values())\n",
    "    store.writers.clear()"
   ]
  },
  {
   "cell_type": "code",
   "execution_count": null,
   "id": "37",
   "metadata": {},
   "outputs": [],
   "source": [
    "fish_crops[:, 14, :, 206].squeeze().shape"
   ]
  },
  {
   "cell_type": "code",
   "execution_count": null,
   "id": "38",
   "metadata": {},
   "outputs": [],
   "source": [
    "display_image(\n",
    "    image.unstack_multichannel(fish_crops[1:, 14, :, 206].squeeze().swapaxes(0, 1)),\n",
    "    scale=1,\n",
    ")  # , colors=fish_colors)"
   ]
  },
  {
   "cell_type": "markdown",
   "id": "39",
   "metadata": {},
   "source": [
    "## Run all"
   ]
  },
  {
   "cell_type": "code",
   "execution_count": null,
   "id": "40",
   "metadata": {},
   "outputs": [],
   "source": [
    "%%time\n",
    "# delayed_ = False\n",
    "delayed_ = client\n",
    "# def delayed_(func):\n",
    "#     def inner(*args, **kwargs):\n",
    "#         pass\n",
    "#     return inner\n",
    "\n",
    "num_fovs = nd2.sizes[\"v\"]\n",
    "# num_fovs = 20\n",
    "\n",
    "p = pipeline.DefaultPipeline(output_dir, config=config, delayed=delayed_)\n",
    "\n",
    "for fov_num in tqdm(list(sorted(set(range(num_fovs)) - set([10, 18])))):\n",
    "    for msg in readers.send_nd2(\n",
    "        nd2_filename,\n",
    "        # slices=dict(v=[fov_num], t=range(60, 84)),\n",
    "        slices=dict(v=[fov_num]),\n",
    "        send_metadata=False,\n",
    "        delayed=delayed_,\n",
    "    ):\n",
    "        # print(\"FRAME\",msg[\"metadata\"])\n",
    "        p.handle_message({**msg, \"image_type\": \"science\"})\n",
    "    for msg in readers.send_eaton_fish(\n",
    "        fish_filename,\n",
    "        slices=dict(v=[fov_num]),\n",
    "        delayed=delayed_,\n",
    "    ):\n",
    "        # print(\"FISH\",msg[\"metadata\"])\n",
    "        p.handle_message({**msg, \"image_type\": \"fish_barcode\"})\n",
    "p.handle_message({\"type\": \"done\"})\n",
    "del msg"
   ]
  },
  {
   "cell_type": "markdown",
   "id": "41",
   "metadata": {},
   "source": [
    "# FISH analysis"
   ]
  },
  {
   "cell_type": "markdown",
   "id": "42",
   "metadata": {},
   "source": [
    "## Bit calling"
   ]
  },
  {
   "cell_type": "code",
   "execution_count": null,
   "id": "43",
   "metadata": {},
   "outputs": [],
   "source": [
    "fish_crops = readers.ZarrSlicer(\n",
    "    output_dir / \"fish_crops\",\n",
    "    r\"fov=(?P<v>\\d+)/channel=(?P<c>[^/]+)\",\n",
    "    files=False,\n",
    "    recursive=True,\n",
    "    axis_order=\"vc\",\n",
    ")"
   ]
  },
  {
   "cell_type": "code",
   "execution_count": null,
   "id": "44",
   "metadata": {},
   "outputs": [],
   "source": [
    "%%time\n",
    "dataset = ds.dataset(\n",
    "    output_dir / \"fish_measurements\", format=\"parquet\", partitioning=\"hive\"\n",
    ")\n",
    "fish = pl.scan_pyarrow_dataset(dataset).sort([\"fov_num\", \"roi\", \"t\"]).collect()\n",
    "fish = fish.join(\n",
    "    cycle_channel_to_bit_num,\n",
    "    left_on=[\"t\", \"channel\"],\n",
    "    right_on=[pl.col(\"cycle\").cast(pl.Int32), \"channel\"],\n",
    ")"
   ]
  },
  {
   "cell_type": "code",
   "execution_count": null,
   "id": "45",
   "metadata": {},
   "outputs": [],
   "source": [
    "fish.columns"
   ]
  },
  {
   "cell_type": "code",
   "execution_count": null,
   "id": "46",
   "metadata": {},
   "outputs": [],
   "source": [
    "def get_global_thresholds(threshold):\n",
    "    return cycle_channel_to_bit_num.select(\n",
    "        pl.col(\"bit\"), pl.lit(threshold).alias(\"threshold\")\n",
    "    )\n",
    "\n",
    "\n",
    "def get_bitwise_thresholds(fish, func=skimage.filters.threshold_otsu):\n",
    "    return (\n",
    "        fish.group_by(\"bit\")\n",
    "        .agg(\n",
    "            pl.col(\"intensity\")\n",
    "            .map_batches(\n",
    "                lambda x: func(x.to_numpy()),\n",
    "                returns_scalar=True,\n",
    "            )\n",
    "            .alias(\"threshold\"),\n",
    "            pl.col(\"channel\").first(),\n",
    "            pl.col(\"t\").first(),\n",
    "        )\n",
    "        .sort(\"bit\")\n",
    "    )"
   ]
  },
  {
   "cell_type": "code",
   "execution_count": null,
   "id": "47",
   "metadata": {},
   "outputs": [],
   "source": [
    "fish.columns"
   ]
  },
  {
   "cell_type": "code",
   "execution_count": null,
   "id": "48",
   "metadata": {},
   "outputs": [],
   "source": [
    "%%time\n",
    "fish_input = fish.rename({\"composite_otsu_median\": \"intensity\"})\n",
    "bitwise_thresholds = get_bitwise_thresholds(fish_input)"
   ]
  },
  {
   "cell_type": "code",
   "execution_count": null,
   "id": "49",
   "metadata": {},
   "outputs": [],
   "source": [
    "bitwise_thresholds"
   ]
  },
  {
   "cell_type": "code",
   "execution_count": null,
   "id": "50",
   "metadata": {},
   "outputs": [],
   "source": [
    "bitwise_thresholds.to_pandas().hvplot.scatter(\n",
    "    \"channel\", \"threshold\", color=\"channel\", hover_cols=[\"bit\", \"t\"]\n",
    ")"
   ]
  },
  {
   "cell_type": "code",
   "execution_count": null,
   "id": "51",
   "metadata": {},
   "outputs": [],
   "source": [
    "def do_thresholding(fish, thresholds):\n",
    "    return fish.join(\n",
    "        thresholds.select(pl.col(\"bit\", \"threshold\")),\n",
    "        on=\"bit\",\n",
    "    ).with_columns(call=pl.col(\"intensity\") > pl.col(\"threshold\"))\n",
    "\n",
    "\n",
    "def calls_to_list(fish):\n",
    "    return (\n",
    "        fish.select([\"fov_num\", \"roi\", \"bit\", \"call\"])\n",
    "        .group_by([\"fov_num\", \"roi\"])\n",
    "        .agg(fish_barcode=pl.col(\"call\").sort_by(\"bit\"))\n",
    "        .with_columns(num_bits=pl.col(\"fish_barcode\").list.len())\n",
    "        .filter(pl.col(\"num_bits\") == 30)\n",
    "        .select(pl.all().exclude(\"num_bits\"))\n",
    "        .with_columns(\n",
    "            fish_barcode=pl.col(\"fish_barcode\").cast(pl.List(pl.Int32))\n",
    "            # .cast(pl.Array(pl.Boolean, 30)))\n",
    "        )\n",
    "    )"
   ]
  },
  {
   "cell_type": "code",
   "execution_count": null,
   "id": "52",
   "metadata": {},
   "outputs": [],
   "source": [
    "%%time\n",
    "fish_barcodes = calls_to_list(do_thresholding(fish_input, bitwise_thresholds))"
   ]
  },
  {
   "cell_type": "code",
   "execution_count": null,
   "id": "53",
   "metadata": {},
   "outputs": [],
   "source": [
    "fish_barcodes"
   ]
  },
  {
   "cell_type": "code",
   "execution_count": null,
   "id": "54",
   "metadata": {},
   "outputs": [],
   "source": [
    "fish_barcodes[\"fish_barcode\"].value_counts(sort=True)[0, \"fish_barcode\"].to_numpy()"
   ]
  },
  {
   "cell_type": "code",
   "execution_count": null,
   "id": "55",
   "metadata": {},
   "outputs": [],
   "source": [
    "fish_barcodes.select(pl.col(\"fish_barcode\").unique().len())"
   ]
  },
  {
   "cell_type": "code",
   "execution_count": null,
   "id": "56",
   "metadata": {},
   "outputs": [],
   "source": [
    "barcode_counts = (\n",
    "    fish_barcodes[\"fish_barcode\"]\n",
    "    .value_counts(sort=True)\n",
    "    .with_columns(rcmf=pl.col(\"count\").cum_sum(reverse=True) / pl.col(\"count\").sum())\n",
    ")\n",
    "plot = barcode_counts[\"count\"].to_pandas().hvplot.step(logy=True) * barcode_counts[\n",
    "    \"rcmf\"\n",
    "].to_pandas().hvplot.step(logy=True)\n",
    "plot.opts(multi_y=True)"
   ]
  },
  {
   "cell_type": "code",
   "execution_count": null,
   "id": "57",
   "metadata": {},
   "outputs": [],
   "source": [
    "barcode_counts = (\n",
    "    fish_barcodes[\"fish_barcode\"]\n",
    "    .value_counts(sort=True)\n",
    "    .group_by(\"count\")\n",
    "    .agg(pl.col(\"count\").sum().alias(\"roi_total\"), pl.len().alias(\"barcode_count\"))\n",
    "    .rename({\"count\": \"roi_count\"})\n",
    "    # .with_columns(rcmf=pl.col(\"count\").cum_sum(reverse=True) / pl.col(\"count\").sum())\n",
    ")\n",
    "barcode_counts\n",
    "# plot = barcode_counts[\"count\"].to_pandas().hvplot.step(logy=True) * barcode_counts[\n",
    "#     \"rcmf\"\n",
    "# ].to_pandas().hvplot.step(logy=True)\n",
    "# plot.opts(multi_y=True)"
   ]
  },
  {
   "cell_type": "code",
   "execution_count": null,
   "id": "58",
   "metadata": {},
   "outputs": [],
   "source": [
    "barcode_counts.select(\"count\", \"rcmf\").sort(\"rcmf\")"
   ]
  },
  {
   "cell_type": "code",
   "execution_count": null,
   "id": "59",
   "metadata": {},
   "outputs": [],
   "source": [
    "barcode_counts[\"count\", \"rcmf\"][::-1].to_pandas().hvplot.step(\"rcmf\", \"count\")"
   ]
  },
  {
   "cell_type": "code",
   "execution_count": null,
   "id": "60",
   "metadata": {},
   "outputs": [],
   "source": [
    "fish_input = fish.rename({\"composite_otsu_median\": \"intensity\"})\n",
    "bitwise_thresholds = get_bitwise_thresholds(fish_input)\n",
    "fish_barcodes = calls_to_list(do_thresholding(fish_input, bitwise_thresholds))"
   ]
  },
  {
   "cell_type": "code",
   "execution_count": null,
   "id": "61",
   "metadata": {},
   "outputs": [],
   "source": [
    "fish_with_empty = fish_input.join(\n",
    "    fish_barcodes.with_columns(empty_fish=(pl.col(\"fish_barcode\") == [0] * 30)).rename(\n",
    "        {\"fish_barcode\": \"fish_barcode_initial\"}\n",
    "    ),\n",
    "    on=[\"fov_num\", \"roi\"],\n",
    ")"
   ]
  },
  {
   "cell_type": "code",
   "execution_count": null,
   "id": "62",
   "metadata": {},
   "outputs": [],
   "source": [
    "bitwise_thresholds2 = get_bitwise_thresholds(\n",
    "    fish_with_empty.filter(~pl.col(\"empty_fish\"))\n",
    ")"
   ]
  },
  {
   "cell_type": "code",
   "execution_count": null,
   "id": "63",
   "metadata": {},
   "outputs": [],
   "source": [
    "bitwise_thresholds2"
   ]
  },
  {
   "cell_type": "code",
   "execution_count": null,
   "id": "64",
   "metadata": {},
   "outputs": [],
   "source": [
    "both_thresholds = bitwise_thresholds.join(\n",
    "    bitwise_thresholds2.drop(\"t\", \"channel\").rename({\"threshold\": \"threshold2\"}),\n",
    "    on=\"bit\",\n",
    ")"
   ]
  },
  {
   "cell_type": "code",
   "execution_count": null,
   "id": "65",
   "metadata": {},
   "outputs": [],
   "source": [
    "hv.Curve([(800, 800), (1600, 1600)]).opts(\n",
    "    color=\"lightgray\"\n",
    ") * both_thresholds.to_pandas().hvplot.scatter(\n",
    "    \"threshold\", \"threshold2\", color=\"channel\", hover_cols=[\"bit\", \"t\", \"channel\"]\n",
    ")"
   ]
  },
  {
   "cell_type": "code",
   "execution_count": null,
   "id": "66",
   "metadata": {},
   "outputs": [],
   "source": [
    "both_thresholds"
   ]
  },
  {
   "cell_type": "markdown",
   "id": "67",
   "metadata": {},
   "source": [
    "## Eaton thresholding"
   ]
  },
  {
   "cell_type": "code",
   "execution_count": null,
   "id": "68",
   "metadata": {},
   "outputs": [],
   "source": [
    "import sklearn.mixture"
   ]
  },
  {
   "cell_type": "code",
   "execution_count": null,
   "id": "69",
   "metadata": {},
   "outputs": [],
   "source": [
    "test_values = fish.filter(pl.col(\"bit\") == 3)[\"p99\"].to_numpy()"
   ]
  },
  {
   "cell_type": "code",
   "execution_count": null,
   "id": "70",
   "metadata": {},
   "outputs": [],
   "source": [
    "def do_eaton_thresholding(values):\n",
    "    gmm = sklearn.mixture.GaussianMixture(n_components=2, n_init=10)\n",
    "    gmm.fit(values.reshape(-1, 1))\n",
    "    assign = gmm.predict(values.reshape(-1, 1))\n",
    "    if gmm.means_[0] > gmm.means_[1]:\n",
    "        assign = 1 - assign\n",
    "    threshold = (np.min(values[assign]) + np.max(values[~assign])) / 2\n",
    "    return threshold"
   ]
  },
  {
   "cell_type": "code",
   "execution_count": null,
   "id": "71",
   "metadata": {},
   "outputs": [],
   "source": [
    "%%time\n",
    "eaton_thresholds = get_bitwise_thresholds(fish_with_empty, do_eaton_thresholding)"
   ]
  },
  {
   "cell_type": "code",
   "execution_count": null,
   "id": "72",
   "metadata": {},
   "outputs": [],
   "source": [
    "eaton_thresholds"
   ]
  },
  {
   "cell_type": "code",
   "execution_count": null,
   "id": "73",
   "metadata": {},
   "outputs": [],
   "source": [
    "eaton_thresholds_joined = bitwise_thresholds.join(\n",
    "    eaton_thresholds.drop(\"t\", \"channel\").rename({\"threshold\": \"threshold2\"}),\n",
    "    on=\"bit\",\n",
    ")"
   ]
  },
  {
   "cell_type": "code",
   "execution_count": null,
   "id": "74",
   "metadata": {},
   "outputs": [],
   "source": [
    "hv.Curve([(800, 800), (1600, 1600)]).opts(\n",
    "    color=\"lightgray\"\n",
    ") * eaton_thresholds_joined.to_pandas().hvplot.scatter(\n",
    "    \"threshold\", \"threshold2\", color=\"channel\", hover_cols=[\"bit\", \"t\", \"channel\"]\n",
    ")"
   ]
  },
  {
   "cell_type": "markdown",
   "id": "75",
   "metadata": {},
   "source": [
    "## Barcode calling"
   ]
  },
  {
   "cell_type": "code",
   "execution_count": null,
   "id": "76",
   "metadata": {},
   "outputs": [],
   "source": [
    "from sklearn.neighbors import KDTree"
   ]
  },
  {
   "cell_type": "code",
   "execution_count": null,
   "id": "77",
   "metadata": {},
   "outputs": [],
   "source": [
    "fish.columns"
   ]
  },
  {
   "cell_type": "code",
   "execution_count": null,
   "id": "78",
   "metadata": {},
   "outputs": [],
   "source": [
    "%%time\n",
    "fish_input = fish.rename({\"p99\": \"intensity\"})\n",
    "bitwise_thresholds = get_bitwise_thresholds(fish_input)\n",
    "fish_barcodes0 = calls_to_list(do_thresholding(fish_input, bitwise_thresholds))\n",
    "fish_with_empty = fish_input.join(\n",
    "    fish_barcodes0.with_columns(empty_fish=(pl.col(\"fish_barcode\") == [0] * 30)).rename(\n",
    "        {\"fish_barcode\": \"fish_barcode0\"}\n",
    "    ),\n",
    "    on=[\"fov_num\", \"roi\"],\n",
    ")\n",
    "bitwise_thresholds2 = get_bitwise_thresholds(\n",
    "    fish_with_empty.filter(~pl.col(\"empty_fish\"))\n",
    ")\n",
    "fish_barcodes = calls_to_list(\n",
    "    do_thresholding(fish_with_empty, bitwise_thresholds2)\n",
    ").with_columns(empty_fish=(pl.col(\"fish_barcode\") == [0] * 30))\n",
    "fish_barcodes_unique = (\n",
    "    fish_barcodes.group_by(\"fish_barcode\")\n",
    "    .agg(pl.struct(\"fov_num\", \"roi\"), pl.len().alias(\"num_rois\"))\n",
    "    .sort(\"num_rois\")\n",
    "    .with_columns(bit_sum=pl.col(\"fish_barcode\").list.sum())\n",
    ")"
   ]
  },
  {
   "cell_type": "code",
   "execution_count": null,
   "id": "79",
   "metadata": {},
   "outputs": [],
   "source": [
    "%%time\n",
    "fish_input = fish.rename({\"p99\": \"intensity\"})\n",
    "# eaton_thresholds = get_bitwise_thresholds(fish_input)\n",
    "fish_barcodes = calls_to_list(do_thresholding(fish_input, eaton_thresholds))\n",
    "# fish_with_empty = fish_input.join(\n",
    "#     fish_barcodes0.with_columns(empty_fish=(pl.col(\"fish_barcode\") == [0] * 30)).rename(\n",
    "#         {\"fish_barcode\": \"fish_barcode0\"}\n",
    "#     ),\n",
    "#     on=[\"fov_num\", \"roi\"],\n",
    "# )\n",
    "# bitwise_thresholds2 = get_bitwise_thresholds(\n",
    "#     fish_with_empty.filter(~pl.col(\"empty_fish\"))\n",
    "# )\n",
    "# fish_barcodes = calls_to_list(\n",
    "#     do_thresholding(fish_with_empty, bitwise_thresholds2)\n",
    "# ).with_columns(empty_fish=(pl.col(\"fish_barcode\") == [0] * 30))\n",
    "fish_barcodes_unique = (\n",
    "    fish_barcodes.group_by(\"fish_barcode\")\n",
    "    .agg(pl.struct(\"fov_num\", \"roi\"), pl.len().alias(\"num_rois\"))\n",
    "    .sort(\"num_rois\")\n",
    "    .with_columns(bit_sum=pl.col(\"fish_barcode\").list.sum())\n",
    ")"
   ]
  },
  {
   "cell_type": "code",
   "execution_count": null,
   "id": "80",
   "metadata": {},
   "outputs": [],
   "source": [
    "fish_barcodes_unique.filter(pl.col(\"bit_sum\") > 5)[\"num_rois\"].sum()"
   ]
  },
  {
   "cell_type": "code",
   "execution_count": null,
   "id": "81",
   "metadata": {},
   "outputs": [],
   "source": [
    "plt.hist(fish_barcodes_unique[\"bit_sum\"].to_numpy(), bins=100);"
   ]
  },
  {
   "cell_type": "code",
   "execution_count": null,
   "id": "82",
   "metadata": {},
   "outputs": [],
   "source": [
    "%%time\n",
    "arrow_filename = \"/home/jqs1/scratch/sequencing/240610_pLIB476_bottleneck/pLIB476_bottleneck/pLIB476/20240607_1433_MN35044_FAX60316_7d690112/output/max_divergence=0.3/extract_segments/*.arrow\"\n",
    "seq = concat_glob(arrow_filename).collect()"
   ]
  },
  {
   "cell_type": "code",
   "execution_count": null,
   "id": "83",
   "metadata": {},
   "outputs": [],
   "source": [
    "%%time\n",
    "seq2 = seq.with_columns(\n",
    "    dup=pl.col(\"name\").is_duplicated(),\n",
    "    primary_alignment=pl.col(\"name\").is_first_distinct(),\n",
    "    e2e=pl.col(\"variants_path\")\n",
    "    .list.set_intersection([\"<UNS9\", \">UNS9\", \"<UNS3\", \">UNS3\"])\n",
    "    .list.len()\n",
    "    == 2,\n",
    "    bc_e2e=pl.col(\"variants_path\")\n",
    "    .list.set_intersection([\"<BC:T7_prom\", \">BC:T7_prom\", \"<BC:spacer2\", \">BC:spacer2\"])\n",
    "    .list.len()\n",
    "    == 2,\n",
    ")"
   ]
  },
  {
   "cell_type": "code",
   "execution_count": null,
   "id": "84",
   "metadata": {},
   "outputs": [],
   "source": [
    "seq3 = seq2.filter(\n",
    "    pl.col(\"primary_alignment\"), pl.col(\"e2e\"), pl.col(\"consensus_depth\") >= 5\n",
    ")"
   ]
  },
  {
   "cell_type": "code",
   "execution_count": null,
   "id": "85",
   "metadata": {},
   "outputs": [],
   "source": [
    "len(seq3)"
   ]
  },
  {
   "cell_type": "code",
   "execution_count": null,
   "id": "86",
   "metadata": {},
   "outputs": [],
   "source": [
    "seq_barcodes = seq3.with_columns(\n",
    "    seq_barcode=pl.concat_list(\n",
    "        [f\"BC:bit{idx}|variant\" for idx in range(30)]\n",
    "    )  # .cast(pl.Array(pl.Boolean, 30))\n",
    ")"
   ]
  },
  {
   "cell_type": "code",
   "execution_count": null,
   "id": "87",
   "metadata": {},
   "outputs": [],
   "source": [
    "seq_barcodes[\"name\", \"seq_barcode\"]"
   ]
  },
  {
   "cell_type": "code",
   "execution_count": null,
   "id": "88",
   "metadata": {},
   "outputs": [],
   "source": [
    "%%time\n",
    "# joined = calls2.join(seq_barcodes, left_on=\"fish_barcode\", right_on=\"seq_barcode\")\n",
    "joined = seq_barcodes.with_columns(seq_barcode_hash=pl.col(\"seq_barcode\").hash()).join(\n",
    "    fish_barcodes.with_columns(fish_barcode_hash=pl.col(\"fish_barcode\").hash()),\n",
    "    left_on=\"seq_barcode_hash\",\n",
    "    right_on=\"fish_barcode_hash\",\n",
    "    how=\"full\",\n",
    ")\n",
    "joined"
   ]
  },
  {
   "cell_type": "code",
   "execution_count": null,
   "id": "89",
   "metadata": {},
   "outputs": [],
   "source": [
    "joined.select(\"grouping_path\", \"fish_barcode\").filter(\n",
    "    pl.col(\"grouping_path\").is_not_null(), pl.col(\"fish_barcode\").is_not_null()\n",
    ")"
   ]
  },
  {
   "cell_type": "code",
   "execution_count": null,
   "id": "90",
   "metadata": {},
   "outputs": [],
   "source": [
    "seq_barcodes_ary = seq_barcodes.select(\n",
    "    pl.col(\"seq_barcode\").cast(pl.Array(pl.Int16, 30))\n",
    ")[\"seq_barcode\"].to_numpy()"
   ]
  },
  {
   "cell_type": "code",
   "execution_count": null,
   "id": "91",
   "metadata": {},
   "outputs": [],
   "source": [
    "fish_barcodes_ary.shape"
   ]
  },
  {
   "cell_type": "code",
   "execution_count": null,
   "id": "92",
   "metadata": {},
   "outputs": [],
   "source": [
    "fish_barcodes_unique"
   ]
  },
  {
   "cell_type": "code",
   "execution_count": null,
   "id": "93",
   "metadata": {},
   "outputs": [],
   "source": [
    "fish_barcodes_ary.shape"
   ]
  },
  {
   "cell_type": "code",
   "execution_count": null,
   "id": "94",
   "metadata": {},
   "outputs": [],
   "source": [
    "fish_barcodes_ary[-10000]"
   ]
  },
  {
   "cell_type": "code",
   "execution_count": null,
   "id": "95",
   "metadata": {},
   "outputs": [],
   "source": [
    "fish_barcodes_ary = fish_barcodes_unique.select(\n",
    "    pl.col(\"fish_barcode\").cast(pl.Array(pl.Int16, 30))\n",
    ")[\"fish_barcode\"].to_numpy()"
   ]
  },
  {
   "cell_type": "code",
   "execution_count": null,
   "id": "96",
   "metadata": {},
   "outputs": [],
   "source": [
    "query = fish_barcodes_ary[-10_000:-1000]"
   ]
  },
  {
   "cell_type": "code",
   "execution_count": null,
   "id": "97",
   "metadata": {},
   "outputs": [],
   "source": [
    "%%time\n",
    "kd = KDTree(seq_barcodes_ary, leaf_size=40, metric=\"l1\")\n",
    "dists, closest = kd.query(query, k=2)\n",
    "dists = dists.astype(np.int16)"
   ]
  },
  {
   "cell_type": "code",
   "execution_count": null,
   "id": "98",
   "metadata": {},
   "outputs": [],
   "source": [
    "closest[0, 0]"
   ]
  },
  {
   "cell_type": "code",
   "execution_count": null,
   "id": "99",
   "metadata": {},
   "outputs": [],
   "source": [
    "plt.plot((seq_barcodes_ary[closest[:, 0]] != query[:, ::-1]).mean(axis=0))\n",
    "plt.plot((seq_barcodes_ary[closest[:, 0]] != query[:]).mean(axis=0))"
   ]
  },
  {
   "cell_type": "code",
   "execution_count": null,
   "id": "100",
   "metadata": {},
   "outputs": [],
   "source": [
    "plt.plot((seq_barcodes_ary[closest[:, 0]] != query[:, ::-1]).mean(axis=0))\n",
    "plt.plot((seq_barcodes_ary[closest[:, 0]] != query[:]).mean(axis=0))"
   ]
  },
  {
   "cell_type": "code",
   "execution_count": null,
   "id": "101",
   "metadata": {},
   "outputs": [],
   "source": [
    "dists[:, 0]"
   ]
  },
  {
   "cell_type": "code",
   "execution_count": null,
   "id": "102",
   "metadata": {},
   "outputs": [],
   "source": [
    "(dists[:, 1] - dists[:, 0]).astype(np.int16)"
   ]
  },
  {
   "cell_type": "code",
   "execution_count": null,
   "id": "103",
   "metadata": {},
   "outputs": [],
   "source": [
    "plt.plot(np.bincount(dists[:, 1] - dists[:, 0]));"
   ]
  },
  {
   "cell_type": "code",
   "execution_count": null,
   "id": "104",
   "metadata": {},
   "outputs": [],
   "source": [
    "closest[(dists[:, 1] - dists[:, 0]) == 0, :]"
   ]
  },
  {
   "cell_type": "code",
   "execution_count": null,
   "id": "105",
   "metadata": {},
   "outputs": [],
   "source": [
    "seq_barcodes_ary[8092]"
   ]
  },
  {
   "cell_type": "code",
   "execution_count": null,
   "id": "106",
   "metadata": {},
   "outputs": [],
   "source": [
    "seq_barcodes_ary[4718]"
   ]
  },
  {
   "cell_type": "code",
   "execution_count": null,
   "id": "107",
   "metadata": {},
   "outputs": [],
   "source": [
    "plt.plot(np.bincount(dists[:, 0]));"
   ]
  },
  {
   "cell_type": "code",
   "execution_count": null,
   "id": "108",
   "metadata": {},
   "outputs": [],
   "source": [
    "(dists[:, 0] == 0).sum()"
   ]
  },
  {
   "cell_type": "code",
   "execution_count": null,
   "id": "109",
   "metadata": {},
   "outputs": [],
   "source": [
    "# dists = dists[:, 1].astype(np.int16)"
   ]
  },
  {
   "cell_type": "markdown",
   "id": "110",
   "metadata": {},
   "source": [
    "## Compare metrics"
   ]
  },
  {
   "cell_type": "code",
   "execution_count": null,
   "id": "111",
   "metadata": {},
   "outputs": [],
   "source": [
    "metric_names = fish.drop(\"fov_num\", \"roi\", \"t\", \"bit\", \"channel\").columns"
   ]
  },
  {
   "cell_type": "code",
   "execution_count": null,
   "id": "112",
   "metadata": {},
   "outputs": [],
   "source": [
    "seq_barcodes = seq3.with_columns(\n",
    "    seq_barcode=pl.concat_list(\n",
    "        [f\"BC:bit{idx}|variant\" for idx in range(30)]\n",
    "    )  # .cast(pl.Array(pl.Boolean, 30))\n",
    ")"
   ]
  },
  {
   "cell_type": "code",
   "execution_count": null,
   "id": "113",
   "metadata": {},
   "outputs": [],
   "source": [
    "res = {}"
   ]
  },
  {
   "cell_type": "code",
   "execution_count": null,
   "id": "114",
   "metadata": {},
   "outputs": [],
   "source": [
    "for metric_name in tqdm(metric_names):\n",
    "    fish_input = fish.rename({metric_name: \"intensity\"})\n",
    "    bitwise_thresholds = get_bitwise_thresholds(fish_input)\n",
    "    fish_barcodes0 = calls_to_list(do_thresholding(fish_input, bitwise_thresholds))\n",
    "    fish_with_empty = fish_input.join(\n",
    "        fish_barcodes0.with_columns(\n",
    "            empty_fish=(pl.col(\"fish_barcode\") == [0] * 30)\n",
    "        ).rename({\"fish_barcode\": \"fish_barcode0\"}),\n",
    "        on=[\"fov_num\", \"roi\"],\n",
    "    )\n",
    "    bitwise_thresholds2 = get_bitwise_thresholds(\n",
    "        fish_with_empty.filter(~pl.col(\"empty_fish\"))\n",
    "    )\n",
    "    fish_barcodes = calls_to_list(\n",
    "        do_thresholding(fish_with_empty, bitwise_thresholds2)\n",
    "    ).with_columns(empty_fish=(pl.col(\"fish_barcode\") == [0] * 30))\n",
    "    fish_barcodes_unique = (\n",
    "        fish_barcodes.group_by(\"fish_barcode\")\n",
    "        .agg(pl.struct(\"fov_num\", \"roi\"), pl.len().alias(\"num_rois\"))\n",
    "        .sort(\"num_rois\")\n",
    "        .with_columns(bit_sum=pl.col(\"fish_barcode\").list.sum())\n",
    "    )\n",
    "    fish_barcodes_ary = fish_barcodes_unique.select(\n",
    "        pl.col(\"fish_barcode\").cast(pl.Array(pl.Int16, 30))\n",
    "    )[\"fish_barcode\"].to_numpy()\n",
    "    query = fish_barcodes_ary[-3_000:-1000]\n",
    "    kd = KDTree(seq_barcodes_ary, leaf_size=40, metric=\"l1\")\n",
    "    dists, closest = kd.query(query, k=2)\n",
    "    dists = dists.astype(np.int16)\n",
    "    res[metric_name] = dict(\n",
    "        dists=dists, closest=closest, query=query, fish_barcodes_ary=fish_barcodes_ary\n",
    "    )"
   ]
  },
  {
   "cell_type": "code",
   "execution_count": null,
   "id": "115",
   "metadata": {},
   "outputs": [],
   "source": [
    "for metric_name, r in res.items():\n",
    "    closest = r[\"closest\"]\n",
    "    query = r[\"query\"]\n",
    "    plt.plot(\n",
    "        (seq_barcodes_ary[closest[:, 0]] != query[:]).mean(axis=0), label=metric_name\n",
    "    )\n",
    "plt.legend();"
   ]
  },
  {
   "cell_type": "code",
   "execution_count": null,
   "id": "116",
   "metadata": {},
   "outputs": [],
   "source": [
    "p = []\n",
    "for metric_name, r in res.items():\n",
    "    closest = r[\"closest\"]\n",
    "    query = r[\"query\"]\n",
    "    p.append(\n",
    "        hv.Curve(\n",
    "            (seq_barcodes_ary[closest[:, 0]] != query[:]).mean(axis=0),\n",
    "            label=metric_name,\n",
    "        )\n",
    "    )\n",
    "hv.Overlay(p).opts(width=900, height=400, legend_position=\"right\")"
   ]
  },
  {
   "cell_type": "markdown",
   "id": "117",
   "metadata": {
    "jp-MarkdownHeadingCollapsed": true
   },
   "source": [
    "## Old FISH analysis"
   ]
  },
  {
   "cell_type": "code",
   "execution_count": null,
   "id": "118",
   "metadata": {},
   "outputs": [],
   "source": [
    "fish = fish.filter(pl.col(\"fov_num\") != 14)"
   ]
  },
  {
   "cell_type": "code",
   "execution_count": null,
   "id": "119",
   "metadata": {},
   "outputs": [],
   "source": [
    "fish.select(pl.struct(\"fov_num\", \"roi\").unique().len())"
   ]
  },
  {
   "cell_type": "code",
   "execution_count": null,
   "id": "120",
   "metadata": {},
   "outputs": [],
   "source": [
    "plt.scatter(fish[\"mean\"], fish[\"otsu_mean\"], s=0.1, alpha=0.2)"
   ]
  },
  {
   "cell_type": "code",
   "execution_count": null,
   "id": "121",
   "metadata": {},
   "outputs": [],
   "source": [
    "plt.scatter(fish[\"mean\"], fish[\"composite_otsu_median\"], s=0.1, alpha=0.2)"
   ]
  },
  {
   "cell_type": "code",
   "execution_count": null,
   "id": "122",
   "metadata": {},
   "outputs": [],
   "source": [
    "plt.scatter(fish[\"median\"], fish[\"composite_otsu_median\"], s=0.1, alpha=0.2)"
   ]
  },
  {
   "cell_type": "code",
   "execution_count": null,
   "id": "123",
   "metadata": {},
   "outputs": [],
   "source": [
    "plt.scatter(fish[\"p99\"], fish[\"composite_otsu_median\"], s=0.1, alpha=0.2)"
   ]
  },
  {
   "cell_type": "code",
   "execution_count": null,
   "id": "124",
   "metadata": {},
   "outputs": [],
   "source": [
    "fish.filter(pl.col(\"composite_otsu_median\") > 8000).select(pl.col(\"fov_num\").unique())"
   ]
  },
  {
   "cell_type": "code",
   "execution_count": null,
   "id": "125",
   "metadata": {},
   "outputs": [],
   "source": [
    "df = fish.to_pandas()"
   ]
  },
  {
   "cell_type": "code",
   "execution_count": null,
   "id": "126",
   "metadata": {},
   "outputs": [],
   "source": [
    "hv.Violin(df, [\"channel\", \"t\"], \"otsu_mean\").opts(\n",
    "    hv.opts(\n",
    "        width=700,\n",
    "        show_legend=True,\n",
    "        violin_color=hv.dim(\"channel\").str(),\n",
    "        inner=None,\n",
    "        # violin_width=1,\n",
    "    )\n",
    ")"
   ]
  },
  {
   "cell_type": "code",
   "execution_count": null,
   "id": "127",
   "metadata": {},
   "outputs": [],
   "source": [
    "hv.Violin(df2, [\"channel\", \"t\", \"call\"], \"otsu_mean\").opts(\n",
    "    hv.opts(\n",
    "        width=700,\n",
    "        show_legend=True,\n",
    "        # violin_color=hv.dim(\"channel\").str(),\n",
    "        split=hv.dim(\"call\"),\n",
    "        violin_width=3,\n",
    "        inner=None,\n",
    "    )\n",
    ")"
   ]
  },
  {
   "cell_type": "code",
   "execution_count": null,
   "id": "128",
   "metadata": {},
   "outputs": [],
   "source": [
    "p.fish_crops.keys()"
   ]
  },
  {
   "cell_type": "code",
   "execution_count": null,
   "id": "129",
   "metadata": {},
   "outputs": [],
   "source": [
    "fish_thresholds = {\"GFP\": 1200, \"Cy5\": 1000, \"Cy7\": 820}"
   ]
  },
  {
   "cell_type": "code",
   "execution_count": null,
   "id": "130",
   "metadata": {},
   "outputs": [],
   "source": [
    "fish2 = fish.with_columns(\n",
    "    threshold=pl.col(\"channel\").replace(fish_thresholds, return_dtype=pl.Float64)\n",
    ").with_columns(call=pl.col(\"otsu_mean\") > pl.col(\"threshold\"))"
   ]
  },
  {
   "cell_type": "code",
   "execution_count": null,
   "id": "131",
   "metadata": {},
   "outputs": [],
   "source": [
    "fish_barcodes = (\n",
    "    fish2.select([\"fov_num\", \"roi\", \"bit\", \"call\"])\n",
    "    .group_by([\"fov_num\", \"roi\"])\n",
    "    .agg(fish_barcode=pl.col(\"call\").sort_by(\"bit\"))\n",
    "    .with_columns(num_bits=pl.col(\"fish_barcode\").list.len())\n",
    "    .filter(pl.col(\"num_bits\") == 30)\n",
    "    .select(pl.all().exclude(\"num_bits\"))\n",
    "    .with_columns(\n",
    "        fish_barcode=pl.col(\"fish_barcode\").cast(pl.List(pl.Int32))\n",
    "        # .cast(pl.Array(pl.Boolean, 30)))\n",
    "    )\n",
    "    .sort([\"fov_num\", \"roi\"])\n",
    ")"
   ]
  },
  {
   "cell_type": "code",
   "execution_count": null,
   "id": "132",
   "metadata": {},
   "outputs": [],
   "source": [
    "fish2.filter(pl.col(\"roi\") == 19, pl.col(\"channel\") == \"Cy5\")"
   ]
  },
  {
   "cell_type": "code",
   "execution_count": null,
   "id": "133",
   "metadata": {},
   "outputs": [],
   "source": [
    "fish_barcodes.filter(pl.col(\"roi\") == 19)[\"fish_barcode\"].to_numpy()"
   ]
  },
  {
   "cell_type": "code",
   "execution_count": null,
   "id": "134",
   "metadata": {},
   "outputs": [],
   "source": [
    "fish_crops[8, [\"BF\", \"GFP\", \"Cy5\", \"Cy7\"], :, 19].shape"
   ]
  },
  {
   "cell_type": "code",
   "execution_count": null,
   "id": "135",
   "metadata": {},
   "outputs": [],
   "source": [
    "display_image(\n",
    "    image.unstack_multichannel(\n",
    "        image.crop_to_mask(fish_crops[8, [\"BF\", \"GFP\", \"Cy5\", \"Cy7\"], :, 19].squeeze())\n",
    "    ),\n",
    "    scale=1,\n",
    ")  # , colors=fish_colors)"
   ]
  },
  {
   "cell_type": "code",
   "execution_count": null,
   "id": "136",
   "metadata": {},
   "outputs": [],
   "source": [
    "seq_barcodes[595495, \"seq_barcode\"].to_numpy()"
   ]
  },
  {
   "cell_type": "code",
   "execution_count": null,
   "id": "137",
   "metadata": {},
   "outputs": [],
   "source": [
    "seq_barcodes[595495, \"BC:BIT4|seq\"]"
   ]
  },
  {
   "cell_type": "code",
   "execution_count": null,
   "id": "138",
   "metadata": {},
   "outputs": [],
   "source": [
    "seq_barcodes[595496, \"BC:BIT4|seq\"]"
   ]
  },
  {
   "cell_type": "code",
   "execution_count": null,
   "id": "139",
   "metadata": {},
   "outputs": [],
   "source": [
    "seq_barcodes[595497, \"BC:BIT4|seq\"]"
   ]
  },
  {
   "cell_type": "code",
   "execution_count": null,
   "id": "140",
   "metadata": {},
   "outputs": [],
   "source": [
    "seq_barcodes[595502, \"BC:BIT4|seq\"]"
   ]
  },
  {
   "cell_type": "code",
   "execution_count": null,
   "id": "141",
   "metadata": {},
   "outputs": [],
   "source": [
    "with pl.Config() as cfg:\n",
    "    cfg.set_tbl_rows(100)\n",
    "    display(fish2.filter(pl.col(\"roi\") == 19))"
   ]
  },
  {
   "cell_type": "markdown",
   "id": "142",
   "metadata": {
    "jp-MarkdownHeadingCollapsed": true
   },
   "source": [
    "## Histograms"
   ]
  },
  {
   "cell_type": "code",
   "execution_count": null,
   "id": "143",
   "metadata": {},
   "outputs": [],
   "source": [
    "# otsu_mean (DID NOT COMPUTE), p90, otsu_median, composite_otsu_median?"
   ]
  },
  {
   "cell_type": "code",
   "execution_count": null,
   "id": "144",
   "metadata": {},
   "outputs": [],
   "source": [
    "values = np.asarray(\n",
    "    fish.filter(pl.col(\"channel\") == \"Cy7\", pl.col(\"t\") == 4)[\"composite_otsu_median\"]\n",
    ")"
   ]
  },
  {
   "cell_type": "code",
   "execution_count": null,
   "id": "145",
   "metadata": {},
   "outputs": [],
   "source": [
    "plt.hist(values, bins=300, log=True);"
   ]
  },
  {
   "cell_type": "code",
   "execution_count": null,
   "id": "146",
   "metadata": {},
   "outputs": [],
   "source": [
    "skimage.filters.threshold_otsu(values)"
   ]
  },
  {
   "cell_type": "code",
   "execution_count": null,
   "id": "147",
   "metadata": {},
   "outputs": [],
   "source": [
    "plt.hist(values, bins=300, log=True);"
   ]
  },
  {
   "cell_type": "code",
   "execution_count": null,
   "id": "148",
   "metadata": {},
   "outputs": [],
   "source": [
    "fish.pivot(index=[\"fov_num\", \"roi\"], columns=[\"bit\"], values=[\"otsu_median\"])"
   ]
  },
  {
   "cell_type": "markdown",
   "id": "149",
   "metadata": {
    "jp-MarkdownHeadingCollapsed": true
   },
   "source": [
    "## Join with codebook"
   ]
  },
  {
   "cell_type": "code",
   "execution_count": null,
   "id": "150",
   "metadata": {},
   "outputs": [],
   "source": [
    "%%time\n",
    "# arrow_filename = \"/home/jqs1/scratch/sequencing/230707_repressilators/20230707_2040_MN35044_FAS94231_25542e0d/extract_segments/*.arrow\"\n",
    "arrow_filename = \"/home/jqs1/scratch/sequencing/230818_repressilators/20230905_1132_1H_PAQ85679_c9d74ddb/extract_segments/*.arrow\"\n",
    "# arrow_filename = \"/home/jqs1/scratch/sequencing/231201_bcd_rbses_run3/20231201_1101_1F_PAU05823_773c75ee/extract_segments/*.arrow\"\n",
    "seq = concat_glob(arrow_filename).collect()"
   ]
  },
  {
   "cell_type": "code",
   "execution_count": null,
   "id": "151",
   "metadata": {},
   "outputs": [],
   "source": [
    "%%time\n",
    "seq2 = seq.with_columns(\n",
    "    dup=pl.col(\"name\").is_duplicated(),\n",
    "    e2e=pl.col(\"variants_path\")\n",
    "    .list.set_intersection(\n",
    "        [\n",
    "            \"<BC:UPSTREAM\",\n",
    "            \"<UNS3\",\n",
    "            \">BC:UPSTREAM\",\n",
    "            \">UNS3\",\n",
    "        ]\n",
    "    )\n",
    "    .list.len()\n",
    "    == 2,\n",
    "    bc_e2e=pl.col(\"variants_path\")\n",
    "    .list.set_intersection(\n",
    "        [\n",
    "            \"<BC:UPSTREAM\",\n",
    "            \"<BC:SPACER2\",\n",
    "            \">BC:UPSTREAM\",\n",
    "            \">BC:SPACER2\",\n",
    "        ]\n",
    "    )\n",
    "    .list.len()\n",
    "    == 2,\n",
    "    bc_errors=pl.sum_horizontal(r\"^BC:BIT\\d+\\|(insertions|deletions|mismatches)$\"),\n",
    ")"
   ]
  },
  {
   "cell_type": "code",
   "execution_count": null,
   "id": "152",
   "metadata": {},
   "outputs": [],
   "source": [
    "seq2.lazy().filter(pl.col(\"bc_errors\") == 0).select(pl.len()).collect()"
   ]
  },
  {
   "cell_type": "code",
   "execution_count": null,
   "id": "153",
   "metadata": {},
   "outputs": [],
   "source": [
    "plt.hist(seq2[\"bc_errors\"].to_numpy(), bins=100, log=True);"
   ]
  },
  {
   "cell_type": "code",
   "execution_count": null,
   "id": "154",
   "metadata": {},
   "outputs": [],
   "source": [
    "%%time\n",
    "seq3 = seq2.filter(\n",
    "    pl.col(\"e2e\"),\n",
    "    ~pl.col(\"dup\"),\n",
    "    pl.col(\"bc_errors\") == 0,\n",
    "    pl.col(\"grouping_depth\") > 5,\n",
    ")"
   ]
  },
  {
   "cell_type": "code",
   "execution_count": null,
   "id": "155",
   "metadata": {},
   "outputs": [],
   "source": [
    "len(seq3)"
   ]
  },
  {
   "cell_type": "code",
   "execution_count": null,
   "id": "156",
   "metadata": {},
   "outputs": [],
   "source": [
    "%%time\n",
    "seq3 = seq2.filter(pl.col(\"e2e\"), ~pl.col(\"dup\")).with_columns(\n",
    "    pl.coalesce(\n",
    "        label_columns(\n",
    "            [\n",
    "                \"pLIB433:PhlF_pPhlF|seq\",\n",
    "                \"pLIB434:LacI_pTac|seq\",\n",
    "                \"pLIB435:BetI_pBetI|seq\",\n",
    "            ],\n",
    "            lambda x: x.split(\"|\")[0],\n",
    "        ),\n",
    "        pl.concat_str(pl.lit(\"pLIB431-432:RBS=\"), pl.col(\"pLIB431-432:RBS|variant\")),\n",
    "    ).alias(\"RBS\")\n",
    ")"
   ]
  },
  {
   "cell_type": "code",
   "execution_count": null,
   "id": "157",
   "metadata": {},
   "outputs": [],
   "source": [
    "seq_barcodes = seq3.with_columns(\n",
    "    seq_barcode=pl.concat_list(\n",
    "        [f\"BC:BIT{idx}|variant\" for idx in range(30)]\n",
    "    )  # .cast(pl.Array(pl.Boolean, 30))\n",
    ")"
   ]
  },
  {
   "cell_type": "code",
   "execution_count": null,
   "id": "158",
   "metadata": {},
   "outputs": [],
   "source": [
    "seq_barcodes.group_by(\"grouping_path\").agg(pl.len())[\"len\"].value_counts()"
   ]
  },
  {
   "cell_type": "code",
   "execution_count": null,
   "id": "159",
   "metadata": {},
   "outputs": [],
   "source": [
    "seq_barcodes.group_by(\"seq_barcode\").agg(pl.len())[\"len\"].value_counts()"
   ]
  },
  {
   "cell_type": "code",
   "execution_count": null,
   "id": "160",
   "metadata": {},
   "outputs": [],
   "source": [
    "x = (\n",
    "    seq_barcodes.group_by(\"seq_barcode\")\n",
    "    .agg(pl.len(), pl.col(\"name\"), pl.col(\"grouping_path\"), pl.col(\"variants_path\"))\n",
    "    .filter(pl.col(\"len\") == 2)\n",
    ")"
   ]
  },
  {
   "cell_type": "code",
   "execution_count": null,
   "id": "161",
   "metadata": {},
   "outputs": [],
   "source": [
    "y = x[0].explode(\"name\", \"grouping_path\", \"variants_path\")"
   ]
  },
  {
   "cell_type": "code",
   "execution_count": null,
   "id": "162",
   "metadata": {},
   "outputs": [],
   "source": [
    "y"
   ]
  },
  {
   "cell_type": "code",
   "execution_count": null,
   "id": "163",
   "metadata": {},
   "outputs": [],
   "source": [
    "y[0, \"seq_barcode\"].to_list()"
   ]
  },
  {
   "cell_type": "code",
   "execution_count": null,
   "id": "164",
   "metadata": {},
   "outputs": [],
   "source": [
    "y[0, \"grouping_path\"].to_list()"
   ]
  },
  {
   "cell_type": "code",
   "execution_count": null,
   "id": "165",
   "metadata": {},
   "outputs": [],
   "source": [
    "y[0, \"name\"]"
   ]
  },
  {
   "cell_type": "code",
   "execution_count": null,
   "id": "166",
   "metadata": {},
   "outputs": [],
   "source": [
    "seq3.filter(\n",
    "    pl.col(\"name\")\n",
    "    == \"consensus_f451f9bee14d46571dececc8227a9769bc5aabec0862f9aea5918d2ed9562401\"\n",
    ")[0, \"consensus_seq\"]"
   ]
  },
  {
   "cell_type": "code",
   "execution_count": null,
   "id": "167",
   "metadata": {},
   "outputs": [],
   "source": [
    "z = (\n",
    "    seq3.filter(\n",
    "        pl.col(\"name\")\n",
    "        == \"consensus_f451f9bee14d46571dececc8227a9769bc5aabec0862f9aea5918d2ed9562401\"\n",
    "    )[0]\n",
    "    .to_pandas()\n",
    "    .T\n",
    ")"
   ]
  },
  {
   "cell_type": "code",
   "execution_count": null,
   "id": "168",
   "metadata": {},
   "outputs": [],
   "source": [
    "with pd.option_context(\"display.max_rows\", None, \"display.max_columns\", None):\n",
    "    display(z)"
   ]
  },
  {
   "cell_type": "code",
   "execution_count": null,
   "id": "169",
   "metadata": {},
   "outputs": [],
   "source": [
    "y[0, \"name\"]"
   ]
  },
  {
   "cell_type": "code",
   "execution_count": null,
   "id": "170",
   "metadata": {},
   "outputs": [],
   "source": [
    "y[0, \"variants_path\"].to_list()"
   ]
  },
  {
   "cell_type": "code",
   "execution_count": null,
   "id": "171",
   "metadata": {},
   "outputs": [],
   "source": [
    "fish_barcodes.group_by(\"fish_barcode\").agg(pl.len())[\"len\"].value_counts()"
   ]
  },
  {
   "cell_type": "code",
   "execution_count": null,
   "id": "172",
   "metadata": {},
   "outputs": [],
   "source": [
    "fish_barcodes.with_columns(fish_hash=pl.col(\"fish_barcode\").hash())"
   ]
  },
  {
   "cell_type": "code",
   "execution_count": null,
   "id": "173",
   "metadata": {},
   "outputs": [],
   "source": [
    "fish_barcodes.group_by(\"fish_barcode\").agg(pl.len())"
   ]
  },
  {
   "cell_type": "code",
   "execution_count": null,
   "id": "174",
   "metadata": {},
   "outputs": [],
   "source": [
    "seq_barcodes.with_columns(seq_barcode=pl.col(\"seq_barcode\").hash()).join(\n",
    "    fish_barcodes.with_columns(fish_barcode=pl.col(\"fish_barcode\").hash()),\n",
    "    left_on=\"seq_barcode\",\n",
    "    right_on=\"fish_barcode\",\n",
    "    how=\"full\",\n",
    ").select(\"grouping_path\", \"fish_barcode\").filter(\n",
    "    pl.col(\"grouping_path\").is_not_null(), pl.col(\"fish_barcode\").is_not_null()\n",
    ")"
   ]
  },
  {
   "cell_type": "code",
   "execution_count": null,
   "id": "175",
   "metadata": {},
   "outputs": [],
   "source": [
    "seq_barcodes.join(\n",
    "    fish_barcodes, left_on=\"seq_barcode\", right_on=\"fish_barcode\", how=\"full\"\n",
    ")"
   ]
  },
  {
   "cell_type": "code",
   "execution_count": null,
   "id": "176",
   "metadata": {},
   "outputs": [],
   "source": [
    "seq_variants.head()"
   ]
  },
  {
   "cell_type": "code",
   "execution_count": null,
   "id": "177",
   "metadata": {},
   "outputs": [],
   "source": [
    "fb = fish_barcodes[\"fish_barcode\"].cast(pl.Array(pl.Boolean, 30)).to_numpy()\n",
    "sb = seq_barcodes[\"seq_barcode\"].cast(pl.Array(pl.Boolean, 30)).to_numpy()"
   ]
  },
  {
   "cell_type": "markdown",
   "id": "178",
   "metadata": {
    "jp-MarkdownHeadingCollapsed": true
   },
   "source": [
    "# Science analysis"
   ]
  },
  {
   "cell_type": "code",
   "execution_count": null,
   "id": "179",
   "metadata": {},
   "outputs": [],
   "source": [
    "# z = zarr.open_array(\n",
    "#     \"/home/jqs1/scratch/microscopy/240627/1fov_partial2/fish_crops/fov=35/channel=GFP/\",\n",
    "#     synchronizer=zarr.ProcessSynchronizer(\n",
    "#         \"/home/jqs1/scratch/microscopy/240627/1fov_partial2/fish_crops/fov=35/channel=GFP.lock\"\n",
    "#     ),\n",
    "# )"
   ]
  },
  {
   "cell_type": "code",
   "execution_count": null,
   "id": "180",
   "metadata": {},
   "outputs": [],
   "source": [
    "z = zarr.open_array(\n",
    "    \"/home/jqs1/scratch/microscopy/240627/allfovs/crops/fov=0/channel=CFP-EM/\",\n",
    ")"
   ]
  },
  {
   "cell_type": "code",
   "execution_count": null,
   "id": "181",
   "metadata": {},
   "outputs": [],
   "source": [
    "z.info"
   ]
  },
  {
   "cell_type": "code",
   "execution_count": null,
   "id": "182",
   "metadata": {},
   "outputs": [],
   "source": [
    "image.crop_to_mask(z[:, 400])"
   ]
  },
  {
   "cell_type": "code",
   "execution_count": null,
   "id": "183",
   "metadata": {},
   "outputs": [],
   "source": [
    "z[:, 400].shape"
   ]
  },
  {
   "cell_type": "code",
   "execution_count": null,
   "id": "184",
   "metadata": {},
   "outputs": [],
   "source": [
    "%%time\n",
    "crops = readers.ZarrSlicer(\n",
    "    output_dir / \"crops\",\n",
    "    r\"fov=(?P<v>\\d+)/channel=(?P<c>[^/]+)/t=(?P<t>\\d+)\",\n",
    "    files=False,\n",
    "    recursive=True,\n",
    ")"
   ]
  },
  {
   "cell_type": "code",
   "execution_count": null,
   "id": "185",
   "metadata": {},
   "outputs": [],
   "source": [
    "%%time\n",
    "segmentation_masks = readers.ZarrSlicer(\n",
    "    output_dir / \"segmentation_masks\",\n",
    "    r\"fov=(?P<v>\\d+)/t=(?P<t>\\d+)\",\n",
    "    files=False,\n",
    "    recursive=True,\n",
    "    axis_order=\"tv\",\n",
    ")"
   ]
  },
  {
   "cell_type": "code",
   "execution_count": null,
   "id": "186",
   "metadata": {},
   "outputs": [],
   "source": [
    "display_image(\n",
    "    image.unstack(image.crop_to_mask(crops[:, 8, \"YFP-EM\", 33].squeeze())), scale=1\n",
    ")"
   ]
  },
  {
   "cell_type": "code",
   "execution_count": null,
   "id": "187",
   "metadata": {},
   "outputs": [],
   "source": [
    "crops[:, 8, \"YFP-EM\", 3].squeeze().shape"
   ]
  },
  {
   "cell_type": "code",
   "execution_count": null,
   "id": "188",
   "metadata": {},
   "outputs": [],
   "source": [
    "crops[:, 8, :, 7].squeeze().swapaxes(0, 1).shape"
   ]
  },
  {
   "cell_type": "code",
   "execution_count": null,
   "id": "189",
   "metadata": {},
   "outputs": [],
   "source": [
    "image.unstack_multichannel(crops[:, 8, :, 7].squeeze().swapaxes(0, 1)).shape"
   ]
  },
  {
   "cell_type": "code",
   "execution_count": null,
   "id": "190",
   "metadata": {},
   "outputs": [],
   "source": [
    "display_image(\n",
    "    image.unstack_multichannel(crops[:, 8, :, 7].squeeze().swapaxes(0, 1)),\n",
    "    scale=1,\n",
    ")"
   ]
  },
  {
   "cell_type": "code",
   "execution_count": null,
   "id": "191",
   "metadata": {},
   "outputs": [],
   "source": [
    "display_image(\n",
    "    image.unstack_multichannel(crops[:, 8, :, 7].squeeze().swapaxes(0, 1)),\n",
    "    scale=1,\n",
    ")"
   ]
  },
  {
   "cell_type": "code",
   "execution_count": null,
   "id": "192",
   "metadata": {},
   "outputs": [],
   "source": [
    "segmentation_masks[:, 8, 7].squeeze().shape"
   ]
  },
  {
   "cell_type": "code",
   "execution_count": null,
   "id": "193",
   "metadata": {},
   "outputs": [],
   "source": [
    "np."
   ]
  },
  {
   "cell_type": "code",
   "execution_count": null,
   "id": "194",
   "metadata": {},
   "outputs": [],
   "source": [
    "x = skimage.color.label2rgb(\n",
    "    np.nan_to_num(segmentation_masks[:, 8, 7].squeeze()).astype(np.uint16)\n",
    ")"
   ]
  },
  {
   "cell_type": "code",
   "execution_count": null,
   "id": "195",
   "metadata": {},
   "outputs": [],
   "source": [
    "x.shape"
   ]
  },
  {
   "cell_type": "code",
   "execution_count": null,
   "id": "196",
   "metadata": {},
   "outputs": [],
   "source": [
    "np.swapaxes(x, -3, -2).shape"
   ]
  },
  {
   "cell_type": "code",
   "execution_count": null,
   "id": "197",
   "metadata": {},
   "outputs": [],
   "source": [
    "y = np.swapaxes(x, -3, -2)"
   ]
  },
  {
   "cell_type": "code",
   "execution_count": null,
   "id": "198",
   "metadata": {},
   "outputs": [],
   "source": [
    "np.moveaxis(x, 0, 1).shape"
   ]
  },
  {
   "cell_type": "code",
   "execution_count": null,
   "id": "199",
   "metadata": {},
   "outputs": [],
   "source": [
    "y.shape"
   ]
  },
  {
   "cell_type": "code",
   "execution_count": null,
   "id": "200",
   "metadata": {},
   "outputs": [],
   "source": [
    "y.reshape(-1, *y.shape[2:]).shape"
   ]
  },
  {
   "cell_type": "code",
   "execution_count": null,
   "id": "201",
   "metadata": {},
   "outputs": [],
   "source": [
    "def unstack2(ary, axis=1):\n",
    "    ary = np.moveaxis(ary, 0, axis - 1)\n",
    "    return ary.reshape(*ary.shape[: axis - 1], -1, *ary.shape[axis + 1 :])\n",
    "\n",
    "\n",
    "display_image(unstack2(x, axis=2), scale=1)"
   ]
  },
  {
   "cell_type": "code",
   "execution_count": null,
   "id": "202",
   "metadata": {},
   "outputs": [],
   "source": [
    "skimage.color.label2rgb(\n",
    "    np.nan_to_num(segmentation_masks[:, 8, 7].squeeze()).astype(np.uint16)\n",
    ").rollaxis(1).shape"
   ]
  },
  {
   "cell_type": "code",
   "execution_count": null,
   "id": "203",
   "metadata": {},
   "outputs": [],
   "source": [
    "skimage.color.label2rgb(\n",
    "    np.nan_to_num(segmentation_masks[:, 8, 7].squeeze()).astype(np.uint16)\n",
    ").shape"
   ]
  },
  {
   "cell_type": "code",
   "execution_count": null,
   "id": "204",
   "metadata": {},
   "outputs": [],
   "source": [
    "image.unstack(\n",
    "    skimage.color.label2rgb(\n",
    "        np
.nan_to_num(segmentation_masks[:, 8, 7].squeeze()).astype(np.uint16)\n",
    "    ),\n",
    "    axis=2,\n",
    ").shape"
   ]
  },
  {
   "cell_type": "code",
   "execution_count": null,
   "id": "205",
   "metadata": {},
   "outputs": [],
   "source": [
    "image.unstack_multichannel(\n",
    "    skimage.color.label2rgb(\n",
    "        np.nan_to_num(segmentation_masks[:, 8, 7].squeeze()).astype(np.uint16)\n",
    "    )\n",
    ").shape"
   ]
  },
  {
   "cell_type": "code",
   "execution_count": null,
   "id": "206",
   "metadata": {},
   "outputs": [],
   "source": [
    "crops[:, 8, :, 417].squeeze().shape"
   ]
  },
  {
   "cell_type": "code",
   "execution_count": null,
   "id": "207",
   "metadata": {},
   "outputs": [],
   "source": [
    "image.unstack(\n",
    "    crops[:, 8, :, 417].squeeze(),\n",
    "    axis=3,\n",
    ").shape"
   ]
  },
  {
   "cell_type": "code",
   "execution_count": null,
   "id": "208",
   "metadata": {},
   "outputs": [],
   "source": [
    "image.unstack(\n",
    "    image.unstack(\n",
    "        crops[:, 8, :, 417].squeeze(),\n",
    "        axis=3,\n",
    "    )\n",
    ").shape"
   ]
  },
  {
   "cell_type": "code",
   "execution_count": null,
   "id": "209",
   "metadata": {},
   "outputs": [],
   "source": [
    "display_image(\n",
    "    image.unstack(\n",
    "        image.unstack(\n",
    "            crops[:, 8, :, 417].squeeze(),\n",
    "            axis=3,\n",
    "        )\n",
    "    ),\n",
    "    scale=1,\n",
    "    downsample=4,\n",
    ")"
   ]
  },
  {
   "cell_type": "code",
   "execution_count": null,
   "id": "210",
   "metadata": {},
   "outputs": [],
   "source": [
    "crops[:, 8, :, 417].squeeze().swapaxes(0, 1).shape"
   ]
  },
  {
   "cell_type": "code",
   "execution_count": null,
   "id": "211",
   "metadata": {},
   "outputs": [],
   "source": [
    "image.unstack_multichannel(crops[:, 8, :, 417].squeeze().swapaxes(0, 1), axis=2).shape"
   ]
  },
  {
   "cell_type": "code",
   "execution_count": null,
   "id": "212",
   "metadata": {},
   "outputs": [],
   "source": [
    "image.unstack_multichannel(crops[:, 8, :, 417].squeeze().swapaxes(0, 1), axis=1).shape"
   ]
  },
  {
   "cell_type": "code",
   "execution_count": null,
   "id": "213",
   "metadata": {},
   "outputs": [],
   "source": [
    "image.unstack(crops[:, 8, :, 417].squeeze(), axis=1).shape"
   ]
  },
  {
   "cell_type": "code",
   "execution_count": null,
   "id": "214",
   "metadata": {},
   "outputs": [],
   "source": [
    "display_image(\n",
    "    image.unstack_multichannel(\n",
    "        crops[10:, 8, :, 417].squeeze().swapaxes(0, 1),\n",
    "    ),\n",
    "    downsample=4,\n",
    ")"
   ]
  },
  {
   "cell_type": "code",
   "execution_count": null,
   "id": "215",
   "metadata": {},
   "outputs": [],
   "source": [
    "display_image(\n",
    "    image.unstack(\n",
    "        skimage.color.label2rgb(\n",
    "            np.nan_to_num(segmentation_masks[:, 8, 417].squeeze()).astype(np.uint16)\n",
    "        ),\n",
    "        axis=2,\n",
    "    ),\n",
    "    scale=1,\n",
    ")"
   ]
  },
  {
   "cell_type": "code",
   "execution_count": null,
   "id": "216",
   "metadata": {},
   "outputs": [],
   "source": [
    "display_image(\n",
    "    image.unstack(\n",
    "        skimage.color.label2rgb(\n",
    "            np.nan_to_num(segmentation_masks[:, 8, 417].squeeze()).astype(np.uint16)\n",
    "        ),\n",
    "        axis=2,\n",
    "    ),\n",
    "    scale=1,\n",
    ")"
   ]
  },
  {
   "cell_type": "code",
   "execution_count": null,
   "id": "217",
   "metadata": {},
   "outputs": [],
   "source": [
    "%%time\n",
    "dataset = ds.dataset(output_dir / \"measurements\", format=\"parquet\", partitioning=\"hive\")\n",
    "# df = dataset.to_table(filter=ds.field(\"position\") == 14).to_pandas()\n",
    "# df = dataset.to_table().to_pandas().sort_values(\"t\")\n",
    "df = (\n",
    "    pl.scan_pyarrow_dataset(dataset)\n",
    "    .sort([\"fov_num\", \"roi\", \"t\", \"channel\", \"label\"])\n",
    "    .collect()\n",
    ")"
   ]
  },
  {
   "cell_type": "code",
   "execution_count": null,
   "id": "218",
   "metadata": {},
   "outputs": [],
   "source": [
    "df"
   ]
  },
  {
   "cell_type": "code",
   "execution_count": null,
   "id": "219",
   "metadata": {},
   "outputs": [],
   "source": [
    "df.write_parquet(output_dir / \"measurements.parquet\")"
   ]
  },
  {
   "cell_type": "code",
   "execution_count": null,
   "id": "220",
   "metadata": {},
   "outputs": [],
   "source": [
    "df.filter(\n",
    "    pl.col(\"fov_num\") == 8,\n",
    "    pl.col(\"roi\") == 211,\n",
    "    pl.col(\"label\") == 1,\n",
    "    pl.col(\"t\").is_between(15, 200),\n",
    ").to_pandas().set_index(\"t\").plot(x=\"t\", y=\"intensity_mean\", hue=\"channel\")"
   ]
  },
  {
   "cell_type": "code",
   "execution_count": null,
   "id": "221",
   "metadata": {},
   "outputs": [],
   "source": [
    "df.filter(\n",
    "    pl.col(\"fov_num\") == 8,\n",
    "    pl.col(\"roi\") == 212,\n",
    "    pl.col(\"label\") == 1,\n",
    "    pl.col(\"t\").is_between(15, 200),\n",
    ").to_pandas().hvplot(\"t\", \"intensity_mean\", by=\"channel\")"
   ]
  },
  {
   "cell_type": "code",
   "execution_count": null,
   "id": "222",
   "metadata": {},
   "outputs": [],
   "source": [
    "df.filter(\n",
    "    pl.col(\"fov_num\") == 8,\n",
    "    pl.col(\"roi\") == 209,\n",
    "    pl.col(\"label\") == 1,\n",
    "    pl.col(\"t\").is_between(15, 200),\n",
    ").to_pandas().hvplot(\"t\", \"intensity_mean\", by=\"channel\")"
   ]
  },
  {
   "cell_type": "code",
   "execution_count": null,
   "id": "223",
   "metadata": {},
   "outputs": [],
   "source": [
    "display_image(\n",
    "    image.unstack(\n",
    "        skimage.color.label2rgb(\n",
    "            np.nan_to_num(segmentation_masks[:, 8, 209].squeeze()).astype(np.uint16)\n",
    "        ),\n",
    "        axis=2,\n",
    "    ),\n",
    "    scale=1,\n",
    ")"
   ]
  },
  {
   "cell_type": "code",
   "execution_count": null,
   "id": "224",
   "metadata": {},
   "outputs": [],
   "source": [
    "display_image(\n",
    "    image.unstack_multichannel(\n",
    "        crops[10:, 8, :, 209].squeeze().swapaxes(0, 1),\n",
    "    ),\n",
    "    downsample=1,\n",
    ")"
   ]
  },
  {
   "cell_type": "code",
   "execution_count": null,
   "id": "225",
   "metadata": {},
   "outputs": [],
   "source": [
    "x = crops[10:, 8, :, 209].squeeze().swapaxes(0, 1)"
   ]
  },
  {
   "cell_type": "code",
   "execution_count": null,
   "id": "226",
   "metadata": {},
   "outputs": [],
   "source": [
    "x.shape"
   ]
  },
  {
   "cell_type": "code",
   "execution_count": null,
   "id": "227",
   "metadata": {},
   "outputs": [],
   "source": [
    "y = image.power_law_composite(x)"
   ]
  },
  {
   "cell_type": "code",
   "execution_count": null,
   "id": "228",
   "metadata": {},
   "outputs": [],
   "source": [
    "np.nanmax(x[0])"
   ]
  },
  {
   "cell_type": "code",
   "execution_count": null,
   "id": "229",
   "metadata": {},
   "outputs": [],
   "source": [
    "display_image(image.unstack(x[2], axis=2), scale=0.99)"
   ]
  },
  {
   "cell_type": "code",
   "execution_count": null,
   "id": "230",
   "metadata": {},
   "outputs": [],
   "source": [
    "display_image(image.unstack(y, axis=2), scale=0.99)"
   ]
  },
  {
   "cell_type": "code",
   "execution_count": null,
   "id": "231",
   "metadata": {},
   "outputs": [],
   "source": [
    "np.nansum(x, axis=0).shape"
   ]
  },
  {
   "cell_type": "code",
   "execution_count": null,
   "id": "232",
   "metadata": {},
   "outputs": [],
   "source": [
    "display_image(image.unstack(np.nansum(x, axis=0), axis=2), scale=0.99)"
   ]
  },
  {
   "cell_type": "code",
   "execution_count": null,
   "id": "233",
   "metadata": {},
   "outputs": [],
   "source": [
    "df.filter(\n",
    "    pl.col(\"fov_num\") == 8, pl.col(\"roi\") == 403, pl.col(\"channel\") == \"YFP-EM\"\n",
    ").to_pandas()"
   ]
  },
  {
   "cell_type": "markdown",
   "id": "234",
   "metadata": {
    "jp-MarkdownHeadingCollapsed": true
   },
   "source": [
    "# Export"
   ]
  },
  {
   "cell_type": "code",
   "execution_count": null,
   "id": "235",
   "metadata": {},
   "outputs": [],
   "source": [
    "%%time\n",
    "dataset = ds.dataset(output_dir / \"measurements\", format=\"parquet\", partitioning=\"hive\")\n",
    "# df = dataset.to_table(filter=ds.field(\"position\") == 14).to_pandas()\n",
    "# df = dataset.to_table().to_pandas().sort_values(\"t\")\n",
    "df = (\n",
    "    pl.scan_pyarrow_dataset(dataset)\n",
    "    .sort([\"fov_num\", \"roi\", \"t\", \"channel\", \"label\"])\n",
    "    .collect()\n",
    ")"
   ]
  },
  {
   "cell_type": "code",
   "execution_count": null,
   "id": "236",
   "metadata": {},
   "outputs": [],
   "source": [
    "df[\"label\"].value_counts(sort=True)"
   ]
  },
  {
   "cell_type": "code",
   "execution_count": null,
   "id": "237",
   "metadata": {},
   "outputs": [],
   "source": [
    "df2 = (\n",
    "    df.filter(pl.col(\"t\").is_between(15, 200))\n",
    "    .filter(pl.col(\"label\").max().over([\"fov_num\", \"roi\"]) <= 12)\n",
    "    .with_columns(\n",
    "        reversed_label=(\n",
    "            pl.col(\"label\").max().over([\"fov_num\", \"roi\", \"t\"]) - pl.col(\"label\") + 1\n",
    "        )\n",
    "    )\n",
    "    .join(df_rois.select(\"fov_num\", \"roi\", \"trench_set\"), on=[\"fov_num\", \"roi\"])\n",
    "    .with_columns(\n",
    "        label=pl.when(pl.col(\"trench_set\") % 2 == 1)\n",
    "        .then(pl.col(\"label\"))\n",
    "        .otherwise(pl.col(\"reversed_label\"))\n",
    "    )\n",
    "    .select(pl.all().exclude(\"reversed_label\"))\n",
    ")"
   ]
  },
  {
   "cell_type": "code",
   "execution_count": null,
   "id": "238",
   "metadata": {},
   "outputs": [],
   "source": [
    "df2.filter(\n",
    "    pl.col(\"fov_num\") == 8,\n",
    "    pl.col(\"roi\") == 328,\n",
    "    pl.col(\"label\") == 1,\n",
    ").to_pandas().hvplot(\"t\", \"intensity_mean\", by=\"channel\")"
   ]
  },
  {
   "cell_type": "code",
   "execution_count": null,
   "id": "239",
   "metadata": {},
   "outputs": [],
   "source": [
    "display_image(\n",
    "    image.unstack(\n",
    "        skimage.color.label2rgb(\n",
    "            np.nan_to_num(segmentation_masks[15:200, 8, 328].squeeze()).astype(\n",
    "                np.uint16\n",
    "            )\n",
    "        ),\n",
    "        axis=2,\n",
    "    ),\n",
    "    scale=1,\n",
    ")"
   ]
  },
  {
   "cell_type": "code",
   "execution_count": null,
   "id": "240",
   "metadata": {},
   "outputs": [],
   "source": [
    "display_image(\n",
    "    image.unstack_multichannel(\n",
    "        crops[10:, 8, :, 328].squeeze().swapaxes(0, 1),\n",
    "    ),\n",
    "    downsample=1,\n",
    ")"
   ]
  }
 ],
 "metadata": {
  "kernelspec": {
   "display_name": "Python 3 (ipykernel)",
   "language": "python",
   "name": "python3"
  },
  "language_info": {
   "codemirror_mode": {
    "name": "ipython",
    "version": 3
   },
   "file_extension": ".py",
   "mimetype": "text/x-python",
   "name": "python",
   "nbconvert_exporter": "python",
   "pygments_lexer": "ipython3",
   "version": "3.12.4"
  }
 },
 "nbformat": 4,
 "nbformat_minor": 4
}
