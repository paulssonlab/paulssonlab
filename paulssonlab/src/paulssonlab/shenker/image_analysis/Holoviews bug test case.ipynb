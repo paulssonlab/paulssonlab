{
 "cells": [
  {
   "cell_type": "code",
   "execution_count": null,
   "id": "0",
   "metadata": {},
   "outputs": [],
   "source": [
    "import holoviews as hv\n",
    "import numpy as np\n",
    "\n",
    "hv.notebook_extension(\"bokeh\")"
   ]
  },
  {
   "cell_type": "code",
   "execution_count": null,
   "id": "1",
   "metadata": {},
   "outputs": [],
   "source": [
    "xvals = np.linspace(0, 4, 202)\n",
    "ys, xs = np.meshgrid(xvals, -xvals[::-1])\n",
    "mat = np.sin(((ys) ** 3) * xs)\n",
    "img = hv.Image(mat, bounds=(0, 0, mat.shape[1], mat.shape[0]))\n",
    "\n",
    "pointer = hv.streams.PointerXY(x=0, y=0, source=img)\n",
    "pointer_dmap = hv.DynamicMap(lambda x, y: hv.Points([(x, y)]), streams=[pointer])\n",
    "img * pointer_dmap(style={\"Points\": dict(size=10)})"
   ]
  },
  {
   "cell_type": "code",
   "execution_count": null,
   "id": "2",
   "metadata": {},
   "outputs": [],
   "source": [
    "xvals = np.linspace(0, 4, 202)\n",
    "ys, xs = np.meshgrid(xvals, -xvals[::-1])\n",
    "mat = np.sin(((ys) ** 3) * xs)\n",
    "img = hv.Image(mat[::-1], bounds=(0, 0, mat.shape[1], mat.shape[0])).opts(\n",
    "    plot={\"invert_yaxis\": True}\n",
    ")\n",
    "\n",
    "pointer = hv.streams.PointerXY(x=0, y=0, source=img)\n",
    "pointer_dmap = hv.DynamicMap(lambda x, y: hv.Points([(x, y)]), streams=[pointer])\n",
    "img * pointer_dmap(\n",
    "    style={\"Points\": dict(size=10)}\n",
    ")  # .opts(plot={'invert_yaxis': True})"
   ]
  },
  {
   "cell_type": "code",
   "execution_count": null,
   "id": "3",
   "metadata": {},
   "outputs": [],
   "source": [
    "xvals = np.linspace(0, 4, 202)\n",
    "ys, xs = np.meshgrid(xvals, -xvals[::-1])\n",
    "mat = np.sin(((ys) ** 3) * xs)\n",
    "img = hv.Raster(mat)\n",
    "\n",
    "pointer = hv.streams.PointerXY(x=0, y=0, source=img)\n",
    "pointer_dmap = hv.DynamicMap(lambda x, y: hv.Points([(x, y)]), streams=[pointer])\n",
    "img * pointer_dmap(style={\"Points\": dict(size=10)})"
   ]
  },
  {
   "cell_type": "code",
   "execution_count": null,
   "id": "4",
   "metadata": {},
   "outputs": [],
   "source": [
    "xvals = np.linspace(0, 4, 202)\n",
    "ys, xs = np.meshgrid(xvals, -xvals[::-1])\n",
    "mat = np.sin(((ys) ** 3) * xs)\n",
    "img = hv.Raster(mat)\n",
    "\n",
    "pointer = hv.streams.PointerXY(x=0, y=0, source=img)\n",
    "pointer_dmap = hv.DynamicMap(lambda x, y: hv.Points([(x, y)]), streams=[pointer])\n",
    "img * pointer_dmap(style={\"Points\": dict(size=10)}).opts(plot={\"invert_yaxis\": True})"
   ]
  }
 ],
 "metadata": {
  "kernelspec": {
   "display_name": "Python 3",
   "language": "python",
   "name": "python3"
  },
  "language_info": {
   "codemirror_mode": {
    "name": "ipython",
    "version": 3
   },
   "file_extension": ".py",
   "mimetype": "text/x-python",
   "name": "python",
   "nbconvert_exporter": "python",
   "pygments_lexer": "ipython3",
   "version": "3.6.3"
  }
 },
 "nbformat": 4,
 "nbformat_minor": 2
}
