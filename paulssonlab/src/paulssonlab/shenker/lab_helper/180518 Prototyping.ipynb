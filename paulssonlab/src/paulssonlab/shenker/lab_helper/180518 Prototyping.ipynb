{
 "cells": [
  {
   "cell_type": "code",
   "execution_count": null,
   "metadata": {},
   "outputs": [],
   "source": [
    "import numpy as np\n",
    "import pandas as pd\n",
    "import holoviews as hv\n",
    "import re\n",
    "from functools import partial, reduce\n",
    "import datetime"
   ]
  },
  {
   "cell_type": "code",
   "execution_count": null,
   "metadata": {},
   "outputs": [],
   "source": [
    "hv.extension(\"bokeh\")\n",
    "%load_ext autoreload\n",
    "%autoreload 2\n",
    "import janelle"
   ]
  },
  {
   "cell_type": "code",
   "execution_count": null,
   "metadata": {},
   "outputs": [],
   "source": [
    "service = janelle.get_calendar_service()"
   ]
  },
  {
   "cell_type": "code",
   "execution_count": null,
   "metadata": {},
   "outputs": [],
   "source": [
    "events = janelle.get_calendar_events(service, janelle.CALENDAR_NAME)"
   ]
  },
  {
   "cell_type": "code",
   "execution_count": null,
   "metadata": {},
   "outputs": [],
   "source": [
    "for num in (1, 2, 3, 4):\n",
    "    events[\"Ti{}\".format(num)] = events[\"summary\"].str.contains(\n",
    "        \"ti(?:| |-|#){}\".format(num), case=False\n",
    "    )"
   ]
  },
  {
   "cell_type": "code",
   "execution_count": null,
   "metadata": {},
   "outputs": [],
   "source": [
    "events[\"num_scopes\"] = events[[\"Ti1\", \"Ti2\", \"Ti3\", \"Ti4\"]].sum(axis=1)"
   ]
  },
  {
   "cell_type": "code",
   "execution_count": null,
   "metadata": {},
   "outputs": [],
   "source": [
    "MICROSCOPES = (\"Ti1\", \"Ti2\", \"Ti3\", \"Ti4\")"
   ]
  },
  {
   "cell_type": "code",
   "execution_count": null,
   "metadata": {},
   "outputs": [],
   "source": [
    "USERS = {}\n",
    "for u in (\n",
    "    \"Jacob\",\n",
    "    \"Somenath\",\n",
    "    \"Emanuele\",\n",
    "    \"Antoine\",\n",
    "    \"Janelle\",\n",
    "    \"Silvia\",\n",
    "    \"Suyang\",\n",
    "    \"Luis\",\n",
    "    \"Charles\",\n",
    "    \"Pablo\",\n",
    "    \"Juan\",\n",
    "    \"Scott\",\n",
    "    \"Daniel\",\n",
    "    \"Laurent\",\n",
    "    \"Sadik\",\n",
    "    \"Ghee\",\n",
    "    \"Burak\",\n",
    "    \"Yoon\",\n",
    "    \"Meriem\",\n",
    "    \"Dirk\",\n",
    "    \"Stephan\",\n",
    "    \"Brandon\",\n",
    "    \"Jeehae\",\n",
    "):\n",
    "    USERS[u] = u\n",
    "USERS.update({\"Nate\": \"Nate|Nathan\", \"César\": \"Cesar|César\", \"Tom\": \"Tom|Thomas\"})"
   ]
  },
  {
   "cell_type": "code",
   "execution_count": null,
   "metadata": {},
   "outputs": [],
   "source": [
    "def find_users(users, event):\n",
    "    u = [\n",
    "        user\n",
    "        for user, pattern in users.items()\n",
    "        if re.search(pattern, event[\"summary\"], re.IGNORECASE)\n",
    "    ]\n",
    "    if not u:\n",
    "        u = [\n",
    "            user\n",
    "            for user, pattern in users.items()\n",
    "            if re.search(pattern, event[\"creator\"], re.IGNORECASE)\n",
    "        ]\n",
    "    return u"
   ]
  },
  {
   "cell_type": "code",
   "execution_count": null,
   "metadata": {},
   "outputs": [],
   "source": [
    "events[\"users\"] = events.apply(partial(find_users, USERS), axis=1)\n",
    "events[\"num_users\"] = events[\"users\"].map(len)"
   ]
  },
  {
   "cell_type": "code",
   "execution_count": null,
   "metadata": {},
   "outputs": [],
   "source": [
    "if True:\n",
    "    factor = 1\n",
    "else:\n",
    "    factor = 1 / events[\"num_users\"]\n",
    "user_weights = pd.DataFrame(\n",
    "    {user: events[\"users\"].map(lambda x: user in x) * factor for user in USERS.keys()}\n",
    ")"
   ]
  },
  {
   "cell_type": "code",
   "execution_count": null,
   "metadata": {},
   "outputs": [],
   "source": [
    "def to_dayfrac(df):\n",
    "    return df.applymap(lambda x: x.total_seconds() / (3600 * 24))"
   ]
  },
  {
   "cell_type": "code",
   "execution_count": null,
   "metadata": {},
   "outputs": [],
   "source": [
    "def tally_duration(events, user_weights, dates):\n",
    "    return pd.DataFrame(\n",
    "        {\n",
    "            start_date: user_weights.multiply(\n",
    "                ((start_date <= events[\"end\"]) & (events[\"start\"] < end_date))\n",
    "                * (events[\"end\"] - events[\"start\"]),\n",
    "                axis=0,\n",
    "            ).sum(axis=0)\n",
    "            for start_date, end_date in zip(dates[:-1], dates[1:])\n",
    "        }\n",
    "    ).T"
   ]
  },
  {
   "cell_type": "code",
   "execution_count": null,
   "metadata": {},
   "outputs": [],
   "source": [
    "def tally_upcoming(events, user_weights, date=None):\n",
    "    if date is None:\n",
    "        date = datetime.datetime.now()\n",
    "    return user_weights.multiply(\n",
    "        (events[\"start\"] >= date) * (events[\"end\"] - events[\"start\"]), axis=0\n",
    "    ).sum(axis=0)"
   ]
  },
  {
   "cell_type": "code",
   "execution_count": null,
   "metadata": {},
   "outputs": [],
   "source": [
    "def busy_days(events, dates):\n",
    "    all_days = reduce(\n",
    "        lambda x, y: x | y,\n",
    "        events.apply(\n",
    "            lambda x: set(\n",
    "                pd.date_range(start=x[\"start\"], end=x[\"end\"], normalize=True).values\n",
    "            ),\n",
    "            axis=1,\n",
    "        ).values,\n",
    "    )\n",
    "    return pd.Series(\n",
    "        {\n",
    "            start_date: len(\n",
    "                set(\n",
    "                    pd.date_range(\n",
    "                        start=start_date,\n",
    "                        end=end_date,\n",
    "                        freq=\"D\",\n",
    "                        closed=\"left\",\n",
    "                        normalize=True,\n",
    "                    ).values\n",
    "                )\n",
    "                & all_days\n",
    "            )\n",
    "            for start_date, end_date in zip(dates[:-1], dates[1:])\n",
    "        }\n",
    "    ).T"
   ]
  },
  {
   "cell_type": "markdown",
   "metadata": {},
   "source": [
    "# Styling"
   ]
  },
  {
   "cell_type": "code",
   "execution_count": null,
   "metadata": {},
   "outputs": [],
   "source": [
    "import matplotlib.cm as cm\n",
    "from matplotlib.colors import to_hex\n",
    "\n",
    "cmap = cm.get_cmap(\"YlOrBr\")"
   ]
  },
  {
   "cell_type": "code",
   "execution_count": null,
   "metadata": {},
   "outputs": [],
   "source": [
    "def _lookup_range(range_to_color, value):\n",
    "    for (start, stop), position in range_to_color.items():\n",
    "        if start <= value < stop:\n",
    "            return position\n",
    "    return None\n",
    "\n",
    "\n",
    "def highlight_ranges(range_to_color, cmap, data):\n",
    "    \"\"\"\n",
    "    highlight the maximum in a Series or DataFrame\n",
    "    \"\"\"\n",
    "    # color = to_hex(cmap(0.5))\n",
    "    attr = \"background-color: {}\"\n",
    "    if data.ndim == 1:  # Series from .apply(axis=0) or axis=1\n",
    "        # is_max = data == data.max()\n",
    "        # return [attr if v else '' for v in is_max]\n",
    "        styles = []\n",
    "        for d in data:\n",
    "            position = _lookup_range(range_to_color, d)\n",
    "            if position:\n",
    "                styles.append(attr.format(to_hex(cmap(position))))\n",
    "            else:\n",
    "                styles.append(\"\")\n",
    "        return styles\n",
    "    # else:  # from .apply(axis=None)\n",
    "    # is_max = data == data.max().max()\n",
    "    # return pd.DataFrame(np.where(is_max, attr, ''),\n",
    "    #                    index=data.index, columns=data.columns)"
   ]
  },
  {
   "cell_type": "markdown",
   "metadata": {},
   "source": [
    "# Output"
   ]
  },
  {
   "cell_type": "code",
   "execution_count": null,
   "metadata": {},
   "outputs": [],
   "source": [
    "dates = pd.date_range(start=\"1/1/2011\", end=datetime.datetime.now(), freq=\"MS\")\n",
    "dates2 = pd.date_range(start=\"1/1/2017\", end=datetime.datetime.now(), freq=\"MS\")"
   ]
  },
  {
   "cell_type": "code",
   "execution_count": null,
   "metadata": {},
   "outputs": [],
   "source": [
    "obj = {\n",
    "    microscope: hv.Curve(\n",
    "        busy_days(events[events[microscope]], dates)\n",
    "        .reset_index()\n",
    "        .rename(columns={0: \"days\", \"index\": \"date\"})\n",
    "    ).options(tools=[\"hover\"])\n",
    "    for microscope in MICROSCOPES\n",
    "}\n",
    "hv.NdOverlay(obj).redim(Element=\"microscope\").options(width=900)"
   ]
  },
  {
   "cell_type": "code",
   "execution_count": null,
   "metadata": {},
   "outputs": [],
   "source": [
    "durs = tally_duration(events, user_weights, dates)\n",
    "dur_days = to_dayfrac(durs)\n",
    "obj = {\n",
    "    name: hv.Curve(d.reset_index().values)\n",
    "    .redim(x=\"date\", y=\"days\")\n",
    "    .options(tools=[\"hover\"])\n",
    "    for name, d in dur_days.iteritems()\n",
    "}\n",
    "hv.NdOverlay(obj).redim(Element=\"name\").options(width=900)"
   ]
  },
  {
   "cell_type": "code",
   "execution_count": null,
   "metadata": {},
   "outputs": [],
   "source": [
    "recent_durs = to_dayfrac(\n",
    "    tally_duration(events[events[\"all_day\"]], user_weights, dates2)\n",
    ")\n",
    "total_durs = recent_durs.sum(axis=0).sort_values(ascending=False)\n",
    "recent_durs = recent_durs.reindex(columns=total_durs.index).loc[:, total_durs > 0]\n",
    "# recent_durs.style.set_precision(2).highlight_max(axis=1)#.background_gradient(cmap='viridis', low=0.7, high=0)\n",
    "recent_durs.style.set_precision(2).apply(\n",
    "    partial(\n",
    "        highlight_ranges,\n",
    "        {(3, 6): 0.1, (6, 10): 0.2, (10, 15): 0.3, (15, 20): 0.5, (20, 32): 0.6},\n",
    "        cmap,\n",
    "    ),\n",
    "    axis=1,\n",
    ")"
   ]
  },
  {
   "cell_type": "code",
   "execution_count": null,
   "metadata": {},
   "outputs": [],
   "source": [
    "to_dayfrac(\n",
    "    tally_upcoming(events[events[\"all_day\"]], user_weights).to_frame()\n",
    ").sort_values(0, ascending=False).T.style.set_precision(2).apply(\n",
    "    partial(\n",
    "        highlight_ranges,\n",
    "        {(3, 6): 0.1, (6, 10): 0.2, (10, 15): 0.3, (15, 20): 0.5, (20, 32): 0.6},\n",
    "        cmap,\n",
    "    ),\n",
    "    axis=1,\n",
    ").hide_index()"
   ]
  },
  {
   "cell_type": "code",
   "execution_count": null,
   "metadata": {},
   "outputs": [],
   "source": [
    "{microscope: hv.Curve(busy_days(events[events[microscope]], dates).reset_index().rename(columns={0: 'days', 'index': 'date'}))"
   ]
  }
 ],
 "metadata": {
  "kernelspec": {
   "display_name": "Python 3",
   "language": "python",
   "name": "python3"
  },
  "language_info": {
   "codemirror_mode": {
    "name": "ipython",
    "version": 3
   },
   "file_extension": ".py",
   "mimetype": "text/x-python",
   "name": "python",
   "nbconvert_exporter": "python",
   "pygments_lexer": "ipython3",
   "version": "3.7.0"
  }
 },
 "nbformat": 4,
 "nbformat_minor": 2
}
