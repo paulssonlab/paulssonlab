{
 "cells": [
  {
   "cell_type": "code",
   "execution_count": null,
   "metadata": {},
   "outputs": [],
   "source": [
    "import nd2reader\n",
    "import skimage\n",
    "\n",
    "%matplotlib inline\n",
    "import matplotlib.pyplot as plt\n",
    "from ipywidgets import interact, interactive, fixed, interact_manual\n",
    "import ipywidgets as widgets\n",
    "from ipywidgets.widgets import *\n",
    "from bokeh.io import push_notebook, show, output_notebook\n",
    "from bokeh.layouts import row\n",
    "from bokeh.plotting import figure\n",
    "\n",
    "output_notebook()"
   ]
  },
  {
   "cell_type": "code",
   "execution_count": null,
   "metadata": {},
   "outputs": [],
   "source": [
    "frames = nd2reader.ND2Reader(\n",
    "    \"/home/jqs1/scratch/fidelity/171018/20171018_TrxnError_ID.nd2\"\n",
    ")"
   ]
  },
  {
   "cell_type": "code",
   "execution_count": null,
   "metadata": {},
   "outputs": [],
   "source": [
    "a = frames.get_frame(1)"
   ]
  },
  {
   "cell_type": "code",
   "execution_count": null,
   "metadata": {},
   "outputs": [],
   "source": [
    "a = frames.get_frame_2D(c=3, t=0, v=0)"
   ]
  },
  {
   "cell_type": "code",
   "execution_count": null,
   "metadata": {},
   "outputs": [],
   "source": [
    "frames.axes"
   ]
  },
  {
   "cell_type": "code",
   "execution_count": null,
   "metadata": {},
   "outputs": [],
   "source": [
    "frames.ndim"
   ]
  },
  {
   "cell_type": "code",
   "execution_count": null,
   "metadata": {},
   "outputs": [],
   "source": [
    "frames.sizes"
   ]
  },
  {
   "cell_type": "code",
   "execution_count": null,
   "metadata": {},
   "outputs": [],
   "source": [
    "a.__class__"
   ]
  },
  {
   "cell_type": "code",
   "execution_count": null,
   "metadata": {},
   "outputs": [],
   "source": [
    "plt.imshow(a)"
   ]
  },
  {
   "cell_type": "code",
   "execution_count": null,
   "metadata": {},
   "outputs": [],
   "source": [
    "p.image?"
   ]
  },
  {
   "cell_type": "code",
   "execution_count": null,
   "metadata": {},
   "outputs": [],
   "source": [
    "p = figure()\n",
    "im = p.image(image=[a], x=0, y=0, dw=1, dh=1, palette=\"Spectral11\")\n",
    "# output_file(\"image.html\", title=\"image.py example\")\n",
    "show(p)"
   ]
  },
  {
   "cell_type": "code",
   "execution_count": null,
   "metadata": {},
   "outputs": [],
   "source": [
    "im.data_source.data[\"image\"]"
   ]
  },
  {
   "cell_type": "code",
   "execution_count": null,
   "metadata": {},
   "outputs": [],
   "source": [
    "def f(c, t, v):\n",
    "    plt.figure(2, figsize=(8, 8))\n",
    "    a = frames.get_frame_2D(c=c, t=t, v=v)\n",
    "    plt.imshow(a)\n",
    "    plt.show()\n",
    "\n",
    "\n",
    "plot = interactive(\n",
    "    f,\n",
    "    c=IntSlider(\n",
    "        min=0, max=frames.sizes[\"c\"] - 1, step=1, value=0, continuous_update=False\n",
    "    ),\n",
    "    t=IntSlider(\n",
    "        min=0, max=frames.sizes[\"t\"] - 1, step=1, value=0, continuous_update=False\n",
    "    ),\n",
    "    v=IntSlider(\n",
    "        min=0, max=frames.sizes[\"v\"] - 1, step=1, value=0, continuous_update=False\n",
    "    ),\n",
    ")\n",
    "output = plot.children[-1]\n",
    "# output.layout.height = '700px'\n",
    "plot\n",
    "\n",
    "# p = figure()\n",
    "# p.image(image=[a], x=0, y=0, dw=1, dh=1, palette=\"Spectral11\")\n",
    "# output_file(\"image.html\", title=\"image.py example\")\n",
    "# show(p)"
   ]
  },
  {
   "cell_type": "code",
   "execution_count": null,
   "metadata": {},
   "outputs": [],
   "source": [
    "p = figure()\n",
    "im = p.image(\n",
    "    image=[frames.get_frame_2D(c=0, t=0, v=0)],\n",
    "    x=0,\n",
    "    y=0,\n",
    "    dw=1,\n",
    "    dh=1,\n",
    "    palette=\"Spectral11\",\n",
    ")\n",
    "\n",
    "show(p, notebook_handle=True)\n",
    "\n",
    "\n",
    "def f(c, t, v):\n",
    "    a = frames.get_frame_2D(c=c, t=t, v=v)\n",
    "    im.data_source.data[\"image\"] = [a]\n",
    "    push_notebook()\n",
    "\n",
    "\n",
    "ui = interactive(\n",
    "    f,\n",
    "    c=IntSlider(\n",
    "        min=0, max=frames.sizes[\"c\"] - 1, step=1, value=0, continuous_update=False\n",
    "    ),\n",
    "    t=IntSlider(\n",
    "        min=0, max=frames.sizes[\"t\"] - 1, step=1, value=0, continuous_update=False\n",
    "    ),\n",
    "    v=IntSlider(\n",
    "        min=0, max=frames.sizes[\"v\"] - 1, step=1, value=0, continuous_update=False\n",
    "    ),\n",
    ")\n",
    "output = plot.children[-1]\n",
    "# output.layout.height = '700px'\n",
    "display(ui)"
   ]
  },
  {
   "cell_type": "code",
   "execution_count": null,
   "metadata": {},
   "outputs": [],
   "source": [
    "p = figure()\n",
    "im = p.image(\n",
    "    image=[frames.get_frame_2D(c=0, t=0, v=0)],\n",
    "    x=0,\n",
    "    y=0,\n",
    "    dw=1,\n",
    "    dh=1,\n",
    "    palette=\"Spectral11\",\n",
    ")\n",
    "\n",
    "show(p, notebook_handle=True)\n",
    "\n",
    "\n",
    "def f(c, t, v):\n",
    "    a = frames.get_frame_2D(c=c, t=t, v=v)\n",
    "    im.data_source.data[\"image\"] = [a]\n",
    "    push_notebook()\n",
    "\n",
    "\n",
    "ui = interactive(\n",
    "    f,\n",
    "    t=IntSlider(\n",
    "        min=0, max=frames.sizes[\"t\"] - 1, step=1, value=0, continuous_update=False\n",
    "    ),\n",
    "    v=IntSlider(\n",
    "        min=0, max=frames.sizes[\"v\"] - 1, step=1, value=0, continuous_update=False\n",
    "    ),\n",
    ")\n",
    "output = plot.children[-1]\n",
    "# output.layout.height = '700px'\n",
    "display(ui)"
   ]
  },
  {
   "cell_type": "code",
   "execution_count": null,
   "metadata": {},
   "outputs": [],
   "source": [
    "channel_boxes = []\n",
    "for i in range(frames.sizes[\"c\"]):\n",
    "    enabled = widgets.Checkbox(description=\"Channel {}\".format(i), value=True)\n",
    "    color = widgets.ColorPicker(concise=True, value=\"blue\")\n",
    "    items = [enabled, color]\n",
    "    box_layout = Layout(\n",
    "        display=\"flex\",\n",
    "        flex_flow=\"row\",\n",
    "        align_items=\"stretch\",\n",
    "        border=\"solid\",\n",
    "        width=\"100%\",\n",
    "    )\n",
    "    channel_box = Box(children=items, layout=box_layout)\n",
    "    channel_boxes.append(channel_box)\n",
    "big_box_layout = Layout(\n",
    "    display=\"flex\",\n",
    "    flex_flow=\"column\",\n",
    "    align_items=\"stretch\",\n",
    "    border=\"solid\",\n",
    "    width=\"50%\",\n",
    ")\n",
    "big_box = Box(children=channel_boxes, layout=big_box_layout)\n",
    "\n",
    "t_slider = IntSlider(\n",
    "    min=0, max=frames.sizes[\"t\"] - 1, step=1, value=0, continuous_update=False\n",
    ")\n",
    "v_slider = IntSlider(\n",
    "    min=0, max=frames.sizes[\"v\"] - 1, step=1, value=0, continuous_update=False\n",
    ")\n",
    "\n",
    "slider_box_layout = Layout(\n",
    "    display=\"flex\",\n",
    "    flex_flow=\"column\",\n",
    "    align_items=\"stretch\",\n",
    "    border=\"solid\",\n",
    "    width=\"70%\",\n",
    ")\n",
    "slider_box = Box(children=[v_slider, t_slider], layout=slider_box_layout)\n",
    "\n",
    "main_box_layout = Layout(\n",
    "    display=\"flex\",\n",
    "    flex_flow=\"column\",\n",
    "    align_items=\"stretch\",\n",
    "    border=\"solid\",\n",
    "    width=\"100%\",\n",
    ")\n",
    "main_box = Box(children=[big_box, slider_box], layout=main_box_layout)\n",
    "display(main_box)"
   ]
  },
  {
   "cell_type": "code",
   "execution_count": null,
   "metadata": {},
   "outputs": [],
   "source": []
  }
 ],
 "metadata": {
  "kernelspec": {
   "display_name": "Python 3",
   "language": "python",
   "name": "python3"
  },
  "language_info": {
   "codemirror_mode": {
    "name": "ipython",
    "version": 3
   },
   "file_extension": ".py",
   "mimetype": "text/x-python",
   "name": "python",
   "nbconvert_exporter": "python",
   "pygments_lexer": "ipython3",
   "version": "3.6.3"
  }
 },
 "nbformat": 4,
 "nbformat_minor": 2
}
