{
 "cells": [
  {
   "cell_type": "markdown",
   "metadata": {
    "heading_collapsed": true
   },
   "source": [
    "# Imports"
   ]
  },
  {
   "cell_type": "code",
   "execution_count": null,
   "metadata": {
    "hidden": true,
    "init_cell": true
   },
   "outputs": [],
   "source": [
    "import numpy as np\n",
    "import pandas as pd\n",
    "import zarr\n",
    "import holoviews as hv\n",
    "import datashader as ds\n",
    "from holoviews.operation.datashader import (\n",
    "    aggregate,\n",
    "    datashade,\n",
    "    dynspread,\n",
    "    shade,\n",
    "    regrid,\n",
    ")\n",
    "from holoviews.operation import decimate\n",
    "from holoviews.streams import Stream, param\n",
    "import matplotlib.pyplot as plt\n",
    "from matplotlib.colors import hex2color\n",
    "from ipywidgets import interact, interactive, fixed, interact_manual\n",
    "import ipywidgets as widgets\n",
    "from IPython.display import display, clear_output\n",
    "import skimage\n",
    "import skimage.morphology\n",
    "import peakutils\n",
    "import scipy.stats\n",
    "import scipy.interpolate\n",
    "import functools\n",
    "import operator\n",
    "from functools import partial, reduce\n",
    "import itertools\n",
    "from itertools import zip_longest\n",
    "from more_itertools import rstrip\n",
    "from collections import Counter, defaultdict\n",
    "from collections.abc import Mapping, Sequence\n",
    "from bokeh.models import WheelZoomTool\n",
    "from bokeh.io import push_notebook, show, output_notebook\n",
    "\n",
    "# from bokeh.layouts import row\n",
    "# from bokeh.plotting import figure\n",
    "import tqdm\n",
    "from tqdm import tnrange, tqdm, tqdm_notebook\n",
    "from copy import copy, deepcopy\n",
    "import warnings"
   ]
  },
  {
   "cell_type": "code",
   "execution_count": null,
   "metadata": {
    "hidden": true,
    "init_cell": true
   },
   "outputs": [],
   "source": [
    "%load_ext autoreload\n",
    "%autoreload 2"
   ]
  },
  {
   "cell_type": "code",
   "execution_count": null,
   "metadata": {
    "hidden": true,
    "init_cell": true
   },
   "outputs": [],
   "source": [
    "from processing import *\n",
    "from trench_detection import *\n",
    "from trench_detection import _label_for_trenches\n",
    "from trench_segmentation import *\n",
    "from util import *\n",
    "from ui import *"
   ]
  },
  {
   "cell_type": "code",
   "execution_count": null,
   "metadata": {
    "hidden": true,
    "init_cell": true
   },
   "outputs": [],
   "source": [
    "%load_ext line_profiler\n",
    "hv.notebook_extension(\"bokeh\")\n",
    "# renderer = hv.renderer('bokeh')\n",
    "%matplotlib inline\n",
    "tqdm.monitor_interval = 0"
   ]
  },
  {
   "cell_type": "markdown",
   "metadata": {
    "heading_collapsed": true
   },
   "source": [
    "# Config"
   ]
  },
  {
   "cell_type": "code",
   "execution_count": null,
   "metadata": {
    "hidden": true,
    "init_cell": true
   },
   "outputs": [],
   "source": [
    "# warnings.filterwarnings('ignore', 'Conversion of the second argument of issubdtype')\n",
    "warnings.filterwarnings(\"ignore\", category=FutureWarning)\n",
    "# warnings.filterwarnings('default', category=FutureWarning)"
   ]
  },
  {
   "cell_type": "code",
   "execution_count": null,
   "metadata": {
    "hidden": true,
    "init_cell": true
   },
   "outputs": [],
   "source": [
    "# store = zarr.DirectoryStore('/home/jqs1/scratch/fidelity/171018/171018.zarr')\n",
    "store = zarr.DirectoryStore(\n",
    "    \"/home/jqs1/scratch/fidelity/171214/transcriptionerror_timelapse.zarr\"\n",
    ")\n",
    "root_group = zarr.open_group(store=store)"
   ]
  },
  {
   "cell_type": "markdown",
   "metadata": {},
   "source": [
    "# Compute"
   ]
  },
  {
   "cell_type": "code",
   "execution_count": null,
   "metadata": {},
   "outputs": [],
   "source": [
    "diag_pos = tree()\n",
    "trench_points_pos = {\n",
    "    pos: fail_silently(\n",
    "        lambda: get_trenches(\n",
    "            root_group[\"raw\"][str(pos)][0, 30], diagnostics=diag_pos[pos]\n",
    "        )\n",
    "    )\n",
    "    for pos in tnrange(350)\n",
    "}"
   ]
  },
  {
   "cell_type": "code",
   "execution_count": null,
   "metadata": {},
   "outputs": [],
   "source": [
    "none_pos = [k for k, v in trench_points_pos.items() if v is None]"
   ]
  },
  {
   "cell_type": "code",
   "execution_count": null,
   "metadata": {},
   "outputs": [],
   "source": [
    "{k: v[\"\"] for k, v in diag_pos.items() if k not in none_pos}"
   ]
  },
  {
   "cell_type": "code",
   "execution_count": null,
   "metadata": {},
   "outputs": [],
   "source": [
    "none_pos"
   ]
  },
  {
   "cell_type": "code",
   "execution_count": null,
   "metadata": {},
   "outputs": [],
   "source": [
    "diag = tree()\n",
    "get_trenches(root_group[\"raw\"][str(3)][0, 30], diagnostics=diag)"
   ]
  },
  {
   "cell_type": "code",
   "execution_count": null,
   "metadata": {},
   "outputs": [],
   "source": [
    "diag[\"trench_rotation\"]"
   ]
  },
  {
   "cell_type": "code",
   "execution_count": null,
   "metadata": {},
   "outputs": [],
   "source": [
    "display_plot_browser(diag)"
   ]
  },
  {
   "cell_type": "code",
   "execution_count": null,
   "metadata": {},
   "outputs": [],
   "source": [
    "frame_stream = FrameStream()\n",
    "display(frame_browser(root_group[\"quantized\"], frame_stream))\n",
    "display_plot_browser(lambda t, v: diag_pos[v] if v in diag_pos else None, frame_stream)"
   ]
  },
  {
   "cell_type": "code",
   "execution_count": null,
   "metadata": {},
   "outputs": [],
   "source": [
    "big_image_viewer(root_group[\"quantized\"])"
   ]
  },
  {
   "cell_type": "code",
   "execution_count": null,
   "metadata": {},
   "outputs": [],
   "source": [
    "%%time\n",
    "sharpness = np.array(\n",
    "    [image_sharpness(frame_series[i]) for i in range(frame_series.shape[0])]\n",
    ")"
   ]
  },
  {
   "cell_type": "markdown",
   "metadata": {
    "heading_collapsed": true
   },
   "source": [
    "# Memory debugging"
   ]
  },
  {
   "cell_type": "code",
   "execution_count": null,
   "metadata": {
    "hidden": true
   },
   "outputs": [],
   "source": [
    "import cloudpickle"
   ]
  },
  {
   "cell_type": "code",
   "execution_count": null,
   "metadata": {
    "hidden": true
   },
   "outputs": [],
   "source": [
    "import resource\n",
    "\n",
    "resource.getrusage(resource.RUSAGE_SELF).ru_maxrss / 1024"
   ]
  },
  {
   "cell_type": "code",
   "execution_count": null,
   "metadata": {
    "hidden": true
   },
   "outputs": [],
   "source": [
    "resource?"
   ]
  },
  {
   "cell_type": "code",
   "execution_count": null,
   "metadata": {
    "hidden": true
   },
   "outputs": [],
   "source": [
    "resource.getrusage(resource.RUSAGE_SELF)"
   ]
  },
  {
   "cell_type": "code",
   "execution_count": null,
   "metadata": {
    "hidden": true
   },
   "outputs": [],
   "source": [
    "import objgraph"
   ]
  },
  {
   "cell_type": "code",
   "execution_count": null,
   "metadata": {
    "hidden": true
   },
   "outputs": [],
   "source": [
    "objgraph.most_common_types()"
   ]
  },
  {
   "cell_type": "code",
   "execution_count": null,
   "metadata": {
    "hidden": true
   },
   "outputs": [],
   "source": [
    "len(b)"
   ]
  },
  {
   "cell_type": "code",
   "execution_count": null,
   "metadata": {
    "hidden": true
   },
   "outputs": [],
   "source": [
    "import gc\n",
    "\n",
    "gc.collect()"
   ]
  },
  {
   "cell_type": "code",
   "execution_count": null,
   "metadata": {
    "hidden": true
   },
   "outputs": [],
   "source": [
    "from pympler import asizeof"
   ]
  },
  {
   "cell_type": "code",
   "execution_count": null,
   "metadata": {
    "hidden": true
   },
   "outputs": [],
   "source": [
    "diag_pos[0][\"label_1\"][\"trench_ends\"].keys()"
   ]
  },
  {
   "cell_type": "code",
   "execution_count": null,
   "metadata": {
    "hidden": true
   },
   "outputs": [],
   "source": [
    "c = cloudpickle.dumps(diag_pos[0][\"label_1\"][\"trench_ends\"])"
   ]
  },
  {
   "cell_type": "code",
   "execution_count": null,
   "metadata": {
    "hidden": true
   },
   "outputs": [],
   "source": [
    "with open(\"foo\", \"wb\") as f:\n",
    "    cloudpickle.dump(diag_pos, f)"
   ]
  },
  {
   "cell_type": "code",
   "execution_count": null,
   "metadata": {
    "hidden": true
   },
   "outputs": [],
   "source": [
    "len(c)"
   ]
  },
  {
   "cell_type": "code",
   "execution_count": null,
   "metadata": {
    "hidden": true
   },
   "outputs": [],
   "source": [
    "print(asizeof.asized(diag_pos[0], detail=5).format())"
   ]
  },
  {
   "cell_type": "code",
   "execution_count": null,
   "metadata": {
    "hidden": true
   },
   "outputs": [],
   "source": [
    "%store -r"
   ]
  },
  {
   "cell_type": "code",
   "execution_count": null,
   "metadata": {
    "hidden": true
   },
   "outputs": [],
   "source": [
    "%store trench_points_pos\n",
    "%store diag_pos"
   ]
  },
  {
   "cell_type": "markdown",
   "metadata": {
    "heading_collapsed": true
   },
   "source": [
    "# Image viewers"
   ]
  },
  {
   "cell_type": "code",
   "execution_count": null,
   "metadata": {
    "hidden": true,
    "init_cell": true
   },
   "outputs": [],
   "source": [
    "# big_image_viewer(root_group['quantized'])"
   ]
  },
  {
   "cell_type": "code",
   "execution_count": null,
   "metadata": {
    "hidden": true
   },
   "outputs": [],
   "source": [
    "def overlay_image_viewer(frames):\n",
    "    frame_stream = FrameStream()\n",
    "    slider_box = frame_browser(frames, frame_stream)\n",
    "    channels_box, display_settings_stream = multichannel_selector(frames)\n",
    "\n",
    "    def image_callback(t, v, channel_enabled, channel_colors):\n",
    "        channel_imgs = [\n",
    "            frames[v, c, t, :, :] for c in range(frames.shape[1]) if channel_enabled[c]\n",
    "        ]\n",
    "        img = composite_channels(channel_imgs, select(channel_colors, channel_enabled))\n",
    "        viewer = hv.RGB(img[::-1], bounds=(0, 0, img.shape[1], img.shape[0]))\n",
    "        return viewer\n",
    "\n",
    "    image = hv.DynamicMap(\n",
    "        image_callback, streams=[frame_stream, display_settings_stream]\n",
    "    )\n",
    "    image = regrid(image)\n",
    "    image = image.opts(plot={\"width\": 500, \"height\": 500})\n",
    "    output = widgets.Output()\n",
    "    box = widgets.VBox([widgets.HBox([channels_box, slider_box]), output])\n",
    "    display(box)\n",
    "    with output:\n",
    "        display(image)\n",
    "    return None\n",
    "\n",
    "\n",
    "overlay_image_viewer(frames_z)"
   ]
  },
  {
   "cell_type": "code",
   "execution_count": null,
   "metadata": {
    "hidden": true,
    "hideCode": true
   },
   "outputs": [],
   "source": [
    "%%opts Image (cmap='viridis')\n",
    "def scrubber_callback(t, y):\n",
    "    t = int(t)\n",
    "    v_line = hv.VLine(t + 0.5)(style={\"color\": \"white\", \"alpha\": 0.3, \"line_width\": 2})\n",
    "    t_label = hv.Text(t + kymo.shape[1] / 20, kymo.shape[0] / 20, \"t={:}\".format(t))(\n",
    "        style={\"color\": \"white\", \"text_alpha\": 0.8}\n",
    "    )\n",
    "    h_line = hv.HLine(y)(style={\"color\": \"white\", \"alpha\": 0.3, \"line_width\": 2})\n",
    "    return v_line * t_label * h_line\n",
    "\n",
    "\n",
    "def cross_section_callback(t, y):\n",
    "    y = int(y)\n",
    "    h_line = hv.HLine(y)(style={\"color\": \"white\", \"alpha\": 0.3, \"line_width\": 2})\n",
    "    return h_line\n",
    "\n",
    "\n",
    "def sharpness_scrubber_callback(t):\n",
    "    t = int(t)\n",
    "    v_line = hv.VLine(t + 0.5)(style={\"color\": \"black\", \"alpha\": 0.3, \"line_width\": 2})\n",
    "    return v_line\n",
    "\n",
    "\n",
    "def trench_thumbnail_callback(img_series, t):\n",
    "    t = int(t)\n",
    "    img = get_trench_thumbnail(img_series[t], trench_points, trench_idx)\n",
    "    # TODO: don't know why calling hv.Image.opts(plot={'invert_axes': True}) doesn't work\n",
    "    # also switched HLine to VLine in cross_section, above\n",
    "    thumb = hv.Image(\n",
    "        img[::-1], bounds=(0, 0, img.shape[1], img.shape[0]), kdims=[\"x2\", \"y\"]\n",
    "    )\n",
    "    # return thumb\n",
    "    # return thumb.opts(plot={'invert_axes': False, 'width': max_thumbnail_width})#, 'xaxis': None, 'yaxis': None})\n",
    "    return thumb.opts(\n",
    "        plot={\"invert_axes\": False, \"invert_yaxis\": True, \"width\": 200}\n",
    "    )  # , 'xaxis': None, 'yaxis': None})\n",
    "    # return thumb.opts(plot={'invert_axes': False, 'invert_yaxis': True})\n",
    "\n",
    "\n",
    "pointerx = hv.streams.PointerX(x=0).rename(x=\"t\")\n",
    "pointery = hv.streams.PointerY(y=0)\n",
    "\n",
    "# BOUNDS: (left, bottom, top, right)\n",
    "trench_idx = 15\n",
    "img_series = frame_series_k1\n",
    "bbox_ul, bbox_lr = get_trench_bbox(\n",
    "    trench_points, trench_idx, *get_img_limits(img_series[0])\n",
    ")\n",
    "kymo = extract_kymograph(\n",
    "    img_series, trench_points[0][trench_idx], trench_points[1][trench_idx]\n",
    ")\n",
    "kymo_img = hv.Image(kymo[::-1], bounds=(0, 0, kymo.shape[1], kymo.shape[0])).opts(\n",
    "    plot={\"width\": 700, \"height\": 300, \"invert_yaxis\": True}\n",
    ")\n",
    "# kymo_img = hv.Raster(kymo).opts(plot={'width': 700, 'height': 300, 'yaxis': 'left'})\n",
    "scrubber_line = hv.DynamicMap(scrubber_callback, streams=[pointerx, pointery])\n",
    "cross_section_line = hv.DynamicMap(cross_section_callback, streams=[pointerx, pointery])\n",
    "trench_thumbnail_img = hv.DynamicMap(\n",
    "    partial(trench_thumbnail_callback, img_series), streams=[pointerx]\n",
    ")  # .opts(plot={'invert_axes': True})\n",
    "sharpness_plot = hv.Curve(sharpness, kdims=[\"x\"], vdims=[\"s\"]).opts(\n",
    "    plot={\"width\": 700, \"height\": 100}\n",
    ")\n",
    "sharpness_scrubber = hv.DynamicMap(sharpness_scrubber_callback, streams=[pointerx])\n",
    "# pointery.source = kymo_img\n",
    "# SEE: http://holoviews.org/reference/elements/bokeh/Distribution.html\n",
    "# kymo_img * scrubber_line << (trench_thumbnail_img * cross_section_line) << (sharpness_plot * sharpness_scrubber)\n",
    "\n",
    "KymoOverlayStream = Stream.define(\"KymoOverlayStream\", overlay_enabled=True)\n",
    "kymo_overlay_stream = KymoOverlayStream()\n",
    "kymo_overlay_button = widgets.ToggleButton(description=\"Overlay\", value=True)\n",
    "\n",
    "\n",
    "def update_kymo_overlay(change):\n",
    "    kymo_overlay_stream.event(overlay_enabled=change[\"new\"])\n",
    "\n",
    "\n",
    "kymo_overlay_button.observe(update_kymo_overlay, names=\"value\")\n",
    "\n",
    "\n",
    "def get_thumbnail_overlay(t, overlay_enabled):\n",
    "    # because of https://github.com/ioam/holoviews/issues/1388, overlay_enabled must be True initially\n",
    "    x0 = trench_points[0][trench_idx]\n",
    "    x1 = trench_points[1][trench_idx]\n",
    "    trench_line = hv.Curve([x0 - bbox_ul, x1 - bbox_ul]).opts(\n",
    "        style={\"color\": \"white\", \"alpha\": 0.5, \"line_width\": 1.5},\n",
    "        plot={\"yaxis\": None, \"shared_axes\": True},\n",
    "    )\n",
    "    overlays = []\n",
    "    if overlay_enabled:\n",
    "        overlays.append(trench_line)\n",
    "    else:\n",
    "        pass  # overlays = []#line.opts(style={'alpha': 0.0, 'color': 'red'})\n",
    "    return hv.Overlay(overlays)\n",
    "\n",
    "\n",
    "thumbnail_overlay = hv.DynamicMap(\n",
    "    get_thumbnail_overlay, streams=[pointerx, kymo_overlay_stream]\n",
    ")  # .opts(plot={'invert_yaxis': True})\n",
    "\n",
    "display(kymo_overlay_button)\n",
    "(\n",
    "    kymo_img * scrubber_line\n",
    "    << (trench_thumbnail_img * thumbnail_overlay * cross_section_line)\n",
    "    << (sharpness_plot * sharpness_scrubber)\n",
    ")\n",
    "# kymo_img * scrubber_line << (trench_thumbnail_img * cross_section_line) << (sharpness_plot * sharpness_scrubber)\n",
    "# trench_thumbnail_img * thumbnail_overlay\n",
    "# trench_thumbnail_img * thumbnail_overlay * cross_section_line"
   ]
  },
  {
   "cell_type": "code",
   "execution_count": null,
   "metadata": {
    "hidden": true
   },
   "outputs": [],
   "source": [
    "def trench_peaks_callback(t, y):\n",
    "    t = int(t)\n",
    "    overlays = [hv.Curve(kymo[:, t]).opts(plot={\"width\": 500})]\n",
    "    overlays.extend(\n",
    "        [\n",
    "            hv.Points([(x, kymo[int(x), t])]).opts(style={\"size\": 6})\n",
    "            for x in kymo_endpoints[t]\n",
    "        ]\n",
    "    )\n",
    "    return hv.Overlay(overlays)\n",
    "\n",
    "\n",
    "hv.DynamicMap(trench_peaks_callback, streams=[pointerx, pointery])"
   ]
  },
  {
   "cell_type": "code",
   "execution_count": null,
   "metadata": {
    "hidden": true
   },
   "outputs": [],
   "source": [
    "%%time\n",
    "def find_kymograph_cell_endpoints(kymograph, thresh=0.2, min_dist=3):\n",
    "    endpoints = []\n",
    "    for t in range(kymograph.shape[1]):\n",
    "        idxs = peakutils.indexes(kymograph[:, t], thres=thresh, min_dist=min_dist)\n",
    "        xs = idxs\n",
    "        # xs = peakutils.interpolate(np.arange(kymograph.shape[0]), kymograph[:,t], ind=idxs)\n",
    "        endpoints.append(xs)\n",
    "    return endpoints\n",
    "\n",
    "\n",
    "kymo_endpoints = find_kymograph_cell_endpoints(kymo, thresh=0.2, min_dist=5)"
   ]
  },
  {
   "cell_type": "code",
   "execution_count": null,
   "metadata": {
    "hidden": true
   },
   "outputs": [],
   "source": [
    "for t in range(kymo.shape[1] // 5):\n",
    "    plt.plot(kymo[220:, t])"
   ]
  },
  {
   "cell_type": "markdown",
   "metadata": {
    "heading_collapsed": true
   },
   "source": [
    "# Old"
   ]
  },
  {
   "cell_type": "code",
   "execution_count": null,
   "metadata": {
    "hidden": true
   },
   "outputs": [],
   "source": [
    "# %%opts Image (cmap='viridis')\n",
    "img_series = frame_series\n",
    "kymo = extract_kymograph(\n",
    "    img_series, trench_points[0][trench_idx], trench_points[1][trench_idx]\n",
    ")\n",
    "kymo_img = hv.Image(kymo, bounds=(0, 0, kymo.shape[1], kymo.shape[0])).opts(\n",
    "    plot={\"width\": 700, \"height\": 300}\n",
    ")\n",
    "trench_thumbnail_img = hv.DynamicMap(\n",
    "    partial(trench_thumbnail, img_series), streams=[pointerx]\n",
    ")\n",
    "(\n",
    "    kymo_img.opts(plot={\"invert_axes\": True}) * scrubber_line\n",
    "    + trench_thumbnail_img * cross_section_line\n",
    ")"
   ]
  },
  {
   "cell_type": "code",
   "execution_count": null,
   "metadata": {
    "hidden": true
   },
   "outputs": [],
   "source": [
    "# handle out-of-bounds/negative t/x values\n",
    "# focus quality score\n",
    "# show focus quality as a bar above kymograph\n",
    "# accurate horizontal line position on thumbnail\n",
    "# draw cross-section line through thumbnail\n",
    "# synchronize zoom/pan of multiple kymograph viewers\n",
    "# 3-up thumbnail viewer with crosshairs/endpoint correspondences (links) synchronized with kymograph viewer\n",
    "# clicking through a track advances 3-up by one frame\n",
    "# if you press END it finishes track and rewinds to the first unfinished track\n",
    "# automatic tracking: always identify bottom-most endpoint?\n",
    "# can we work out all other correspondences from this? (look at t=14)"
   ]
  }
 ],
 "metadata": {
  "celltoolbar": "Initialization Cell",
  "kernelspec": {
   "display_name": "Python 3",
   "language": "python",
   "name": "python3"
  },
  "language_info": {
   "codemirror_mode": {
    "name": "ipython",
    "version": 3
   },
   "file_extension": ".py",
   "mimetype": "text/x-python",
   "name": "python",
   "nbconvert_exporter": "python",
   "pygments_lexer": "ipython3",
   "version": "3.6.3"
  }
 },
 "nbformat": 4,
 "nbformat_minor": 2
}
