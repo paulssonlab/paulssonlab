{
 "cells": [
  {
   "cell_type": "markdown",
   "metadata": {
    "heading_collapsed": true
   },
   "source": [
    "# Imports"
   ]
  },
  {
   "cell_type": "code",
   "execution_count": null,
   "metadata": {
    "hidden": true,
    "init_cell": true
   },
   "outputs": [],
   "source": [
    "import numpy as np\n",
    "import pandas as pd\n",
    "import zarr\n",
    "import xarray as xr\n",
    "import holoviews as hv\n",
    "import datashader as ds\n",
    "from holoviews.operation.datashader import (\n",
    "    aggregate,\n",
    "    datashade,\n",
    "    dynspread,\n",
    "    shade,\n",
    "    regrid,\n",
    ")\n",
    "from holoviews.operation import decimate\n",
    "from holoviews.streams import Stream, param\n",
    "from bokeh.models.tools import HoverTool\n",
    "import matplotlib.pyplot as plt\n",
    "from matplotlib.colors import hex2color\n",
    "from ipywidgets import interact, interactive, fixed, interact_manual\n",
    "import ipywidgets as widgets\n",
    "import qgrid\n",
    "from IPython.display import display, clear_output\n",
    "import skimage\n",
    "import skimage.morphology\n",
    "import skimage.feature\n",
    "import peakutils\n",
    "import scipy.stats\n",
    "import scipy.interpolate\n",
    "import functools\n",
    "import operator\n",
    "from functools import partial, reduce\n",
    "import itertools\n",
    "from itertools import zip_longest, islice\n",
    "from more_itertools import rstrip\n",
    "from collections import Counter, defaultdict\n",
    "from collections.abc import Mapping, Sequence\n",
    "from bokeh.models import WheelZoomTool\n",
    "from bokeh.io import push_notebook, show, output_notebook\n",
    "\n",
    "# from bokeh.layouts import row\n",
    "# from bokeh.plotting import figure\n",
    "import tqdm\n",
    "from tqdm import tnrange, tqdm, tqdm_notebook\n",
    "from copy import copy, deepcopy\n",
    "import random\n",
    "import warnings"
   ]
  },
  {
   "cell_type": "code",
   "execution_count": null,
   "metadata": {
    "hidden": true,
    "init_cell": true
   },
   "outputs": [],
   "source": [
    "%load_ext autoreload\n",
    "%autoreload 2"
   ]
  },
  {
   "cell_type": "code",
   "execution_count": null,
   "metadata": {
    "hidden": true,
    "init_cell": true
   },
   "outputs": [],
   "source": [
    "from processing import *\n",
    "from trench_detection import *\n",
    "from trench_segmentation import *\n",
    "from util import *\n",
    "from ui import *"
   ]
  },
  {
   "cell_type": "code",
   "execution_count": null,
   "metadata": {
    "hidden": true,
    "init_cell": true
   },
   "outputs": [],
   "source": [
    "%load_ext line_profiler\n",
    "hv.notebook_extension(\"bokeh\")\n",
    "# renderer = hv.renderer('bokeh')\n",
    "%matplotlib inline\n",
    "tqdm.monitor_interval = 0"
   ]
  },
  {
   "cell_type": "markdown",
   "metadata": {},
   "source": [
    "# Config"
   ]
  },
  {
   "cell_type": "code",
   "execution_count": null,
   "metadata": {
    "init_cell": true
   },
   "outputs": [],
   "source": [
    "# warnings.filterwarnings('ignore', 'Conversion of the second argument of issubdtype')\n",
    "warnings.filterwarnings(\"ignore\", category=FutureWarning)\n",
    "# warnings.filterwarnings('default', category=FutureWarning)"
   ]
  },
  {
   "cell_type": "code",
   "execution_count": null,
   "metadata": {
    "init_cell": true
   },
   "outputs": [],
   "source": [
    "# store = zarr.DirectoryStore('/home/jqs1/scratch/fidelity/171018/171018.zarr')\n",
    "# store = zarr.DirectoryStore('/home/jqs1/scratch/fidelity/171214/transcriptionerror_timelapse.zarr')\n",
    "store = zarr.DirectoryStore(\n",
    "    \"/home/jqs1/scratch/fidelity/180227/txnerr_timelapse_bf.zarr\"\n",
    ")\n",
    "# store = zarr.DirectoryStore('/home/jqs1/scratch/fidelity/180226/txnerr_timelapse.zarr')\n",
    "root_group = zarr.open_group(store=store)"
   ]
  },
  {
   "cell_type": "code",
   "execution_count": null,
   "metadata": {},
   "outputs": [],
   "source": [
    "%store -r trench_points_pos\n",
    "%store -r trench_sharpness\n",
    "%store -r trench_mean\n",
    "%store -r trench_max"
   ]
  },
  {
   "cell_type": "markdown",
   "metadata": {
    "heading_collapsed": true
   },
   "source": [
    "# Trench detection"
   ]
  },
  {
   "cell_type": "code",
   "execution_count": null,
   "metadata": {
    "hidden": true
   },
   "outputs": [],
   "source": [
    "diag_pos = tree()\n",
    "trench_points_pos = {}"
   ]
  },
  {
   "cell_type": "code",
   "execution_count": null,
   "metadata": {
    "hidden": true
   },
   "outputs": [],
   "source": [
    "for pos in tnrange(100):\n",
    "    res = fail_silently(\n",
    "        lambda: get_trenches(\n",
    "            root_group[\"raw\"][str(pos)][1, 30], diagnostics=diag_pos[pos]\n",
    "        )\n",
    "    )\n",
    "    if res:\n",
    "        trench_points_pos[pos] = res"
   ]
  },
  {
   "cell_type": "code",
   "execution_count": null,
   "metadata": {
    "hidden": true
   },
   "outputs": [],
   "source": [
    "diag_pos[0][\"label_1\"][\"trench_ends\"].keys()"
   ]
  },
  {
   "cell_type": "code",
   "execution_count": null,
   "metadata": {
    "hidden": true
   },
   "outputs": [],
   "source": [
    "diag_trenches = {}\n",
    "for pos in diag_pos.keys():\n",
    "    res = recursive_getattr(\n",
    "        diag_pos, [pos, \"label_1\", \"trench_ends\", \"image_with_trenches\"]\n",
    "    )\n",
    "    if res is not None:\n",
    "        diag_trenches[pos] = {\"trenches\": res}"
   ]
  },
  {
   "cell_type": "code",
   "execution_count": null,
   "metadata": {
    "hidden": true
   },
   "outputs": [],
   "source": [
    "frame_stream = FrameStream()\n",
    "display_plot_browser(\n",
    "    lambda t, v: diag_trenches[v] if v in diag_trenches else None, frame_stream\n",
    ")"
   ]
  },
  {
   "cell_type": "code",
   "execution_count": null,
   "metadata": {
    "hidden": true
   },
   "outputs": [],
   "source": [
    "pos = 0\n",
    "get_trenches(root_group[\"raw\"][str(pos)][1, 30], diagnostics=diag_pos[pos])"
   ]
  },
  {
   "cell_type": "code",
   "execution_count": null,
   "metadata": {
    "hidden": true
   },
   "outputs": [],
   "source": [
    "img = root_group[\"raw\"][\"0\"][1, 30]"
   ]
  },
  {
   "cell_type": "code",
   "execution_count": null,
   "metadata": {
    "hidden": true
   },
   "outputs": [],
   "source": [
    "plt.imshow(img)"
   ]
  },
  {
   "cell_type": "code",
   "execution_count": null,
   "metadata": {
    "hidden": true
   },
   "outputs": [],
   "source": [
    "bin_img = img > skimage.filters.threshold_otsu(img)"
   ]
  },
  {
   "cell_type": "code",
   "execution_count": null,
   "metadata": {
    "hidden": true
   },
   "outputs": [],
   "source": [
    "plt.figure(figsize=(12, 12))\n",
    "plt.imshow(bin_img)"
   ]
  },
  {
   "cell_type": "code",
   "execution_count": null,
   "metadata": {
    "hidden": true
   },
   "outputs": [],
   "source": [
    "bin_img2 = skimage.morphology.skeletonize(bin_img)"
   ]
  },
  {
   "cell_type": "code",
   "execution_count": null,
   "metadata": {
    "hidden": true
   },
   "outputs": [],
   "source": [
    "plt.figure(figsize=(20, 20))\n",
    "plt.imshow(bin_img2)"
   ]
  },
  {
   "cell_type": "code",
   "execution_count": null,
   "metadata": {
    "hidden": true
   },
   "outputs": [],
   "source": [
    "h, theta, d = skimage.transform.hough_line(bin_img2, theta=None)"
   ]
  },
  {
   "cell_type": "code",
   "execution_count": null,
   "metadata": {
    "hidden": true
   },
   "outputs": [],
   "source": [
    "plt.figure(figsize=(12, 12))\n",
    "plt.imshow(h, aspect=0.01)"
   ]
  },
  {
   "cell_type": "code",
   "execution_count": null,
   "metadata": {
    "hidden": true
   },
   "outputs": [],
   "source": [
    "display_plot_browser(diag_pos[pos])"
   ]
  },
  {
   "cell_type": "code",
   "execution_count": null,
   "metadata": {
    "hidden": true
   },
   "outputs": [],
   "source": [
    "df = diagnostics_to_dataframe(diag_pos)"
   ]
  },
  {
   "cell_type": "code",
   "execution_count": null,
   "metadata": {
    "hidden": true
   },
   "outputs": [],
   "source": [
    "df2 = expand_diagnostics_by_label(df)"
   ]
  },
  {
   "cell_type": "code",
   "execution_count": null,
   "metadata": {
    "hidden": true
   },
   "outputs": [],
   "source": [
    "df3 = drop_constant_columns(df2)"
   ]
  },
  {
   "cell_type": "code",
   "execution_count": null,
   "metadata": {
    "hidden": true
   },
   "outputs": [],
   "source": [
    "qg = qshow(df3)"
   ]
  },
  {
   "cell_type": "code",
   "execution_count": null,
   "metadata": {
    "hidden": true
   },
   "outputs": [],
   "source": [
    "qg"
   ]
  },
  {
   "cell_type": "code",
   "execution_count": null,
   "metadata": {
    "hidden": true
   },
   "outputs": [],
   "source": [
    "from holoviews.streams import Pipe\n",
    "from bokeh.models import HoverTool"
   ]
  },
  {
   "cell_type": "code",
   "execution_count": null,
   "metadata": {
    "hidden": true
   },
   "outputs": [],
   "source": [
    "df3"
   ]
  },
  {
   "cell_type": "code",
   "execution_count": null,
   "metadata": {
    "hidden": true
   },
   "outputs": [],
   "source": [
    "hv.Points(df3.reset_index(), kdims=[f1, f2], vdims=[\"pos\", \"label\"])"
   ]
  },
  {
   "cell_type": "code",
   "execution_count": null,
   "metadata": {
    "hidden": true
   },
   "outputs": [],
   "source": [
    "f1 = \"trench_rotation.hough_2.angle\"\n",
    "f2 = \"trench_anchors.periodogram_2.period\"\n",
    "\n",
    "hover = HoverTool(\n",
    "    tooltips=[\n",
    "        (\"(pos,label)\", \"(@pos, @label)\"),\n",
    "        (f1, \"@{{{}}}\".format(f1)),\n",
    "        (f2, \"@{{{}}}\".format(f2)),\n",
    "    ]\n",
    ")\n",
    "\n",
    "hv.Points(df3.reset_index(), kdims=[f1, f2], vdims=[\"pos\", \"label\"]).opts(\n",
    "    plot={\"size\": 50, \"tools\": [hover]}, style={\"size\": 5}\n",
    ")"
   ]
  },
  {
   "cell_type": "code",
   "execution_count": null,
   "metadata": {
    "hidden": true
   },
   "outputs": [],
   "source": [
    "def \n",
    "\n",
    "qgrid_stream = Pipe(data=df)\n",
    "dmap = hv.DynamicMap(plot_callback, streams=[qgrid_stream])\n",
    "qg.observe(lambda x: qgrid_stream.send(data=x, names=['_df'])"
   ]
  },
  {
   "cell_type": "markdown",
   "metadata": {
    "heading_collapsed": true
   },
   "source": [
    "# Trench detection debugging"
   ]
  },
  {
   "cell_type": "code",
   "execution_count": null,
   "metadata": {
    "hidden": true
   },
   "outputs": [],
   "source": [
    "f1 = \"trench_rotation.hough_2.angle\"\n",
    "f2 = \"trench_anchors.periodogram_2.period\""
   ]
  },
  {
   "cell_type": "code",
   "execution_count": null,
   "metadata": {
    "hidden": true
   },
   "outputs": [],
   "source": [
    "good_detection = (df3[f1] > -1) & (df3[f2] > 20)\n",
    "qshow(df3[~good_detection])"
   ]
  },
  {
   "cell_type": "code",
   "execution_count": null,
   "metadata": {
    "hidden": true
   },
   "outputs": [],
   "source": [
    "hover = HoverTool(\n",
    "    tooltips=[\n",
    "        (\"(pos,label)\", \"(@pos, @label)\"),\n",
    "        (f1, \"@{{{}}}\".format(f1)),\n",
    "        (f2, \"@{{{}}}\".format(f2)),\n",
    "    ]\n",
    ")\n",
    "\n",
    "hv.Points(df3.reset_index(), kdims=[f1, f2], vdims=[\"pos\", \"label\"]).opts(\n",
    "    plot={\"size\": 50, \"tools\": [hover]}, style={\"size\": 5}\n",
    ")"
   ]
  },
  {
   "cell_type": "code",
   "execution_count": null,
   "metadata": {
    "hidden": true
   },
   "outputs": [],
   "source": [
    "%%time\n",
    "diag = tree()\n",
    "get_trenches(root_group[\"raw\"][str(7)][0, 30], diagnostics=diag)"
   ]
  },
  {
   "cell_type": "code",
   "execution_count": null,
   "metadata": {
    "hidden": true
   },
   "outputs": [],
   "source": [
    "display_plot_browser(diag)"
   ]
  },
  {
   "cell_type": "code",
   "execution_count": null,
   "metadata": {
    "hidden": true
   },
   "outputs": [],
   "source": [
    "frame_stream = FrameStream()\n",
    "display(frame_browser(root_group[\"quantized\"], frame_stream))\n",
    "display_plot_browser(lambda t, v: diag_pos[v] if v in diag_pos else None, frame_stream)"
   ]
  },
  {
   "cell_type": "code",
   "execution_count": null,
   "metadata": {
    "hidden": true
   },
   "outputs": [],
   "source": [
    "big_image_viewer(root_group[\"raw\"])"
   ]
  },
  {
   "cell_type": "markdown",
   "metadata": {
    "heading_collapsed": true
   },
   "source": [
    "# Memory debugging"
   ]
  },
  {
   "cell_type": "code",
   "execution_count": null,
   "metadata": {
    "hidden": true
   },
   "outputs": [],
   "source": [
    "import cloudpickle"
   ]
  },
  {
   "cell_type": "code",
   "execution_count": null,
   "metadata": {
    "hidden": true
   },
   "outputs": [],
   "source": [
    "import resource\n",
    "\n",
    "resource.getrusage(resource.RUSAGE_SELF).ru_maxrss / 1024"
   ]
  },
  {
   "cell_type": "code",
   "execution_count": null,
   "metadata": {
    "hidden": true
   },
   "outputs": [],
   "source": [
    "resource?"
   ]
  },
  {
   "cell_type": "code",
   "execution_count": null,
   "metadata": {
    "hidden": true
   },
   "outputs": [],
   "source": [
    "resource.getrusage(resource.RUSAGE_SELF)"
   ]
  },
  {
   "cell_type": "code",
   "execution_count": null,
   "metadata": {
    "hidden": true
   },
   "outputs": [],
   "source": [
    "import objgraph"
   ]
  },
  {
   "cell_type": "code",
   "execution_count": null,
   "metadata": {
    "hidden": true
   },
   "outputs": [],
   "source": [
    "objgraph.most_common_types()"
   ]
  },
  {
   "cell_type": "code",
   "execution_count": null,
   "metadata": {
    "hidden": true
   },
   "outputs": [],
   "source": [
    "len(b)"
   ]
  },
  {
   "cell_type": "code",
   "execution_count": null,
   "metadata": {
    "hidden": true
   },
   "outputs": [],
   "source": [
    "import gc\n",
    "\n",
    "gc.collect()"
   ]
  },
  {
   "cell_type": "code",
   "execution_count": null,
   "metadata": {
    "hidden": true
   },
   "outputs": [],
   "source": [
    "from pympler import asizeof"
   ]
  },
  {
   "cell_type": "code",
   "execution_count": null,
   "metadata": {
    "hidden": true
   },
   "outputs": [],
   "source": [
    "diag_pos[0][\"label_1\"][\"trench_ends\"].keys()"
   ]
  },
  {
   "cell_type": "code",
   "execution_count": null,
   "metadata": {
    "hidden": true
   },
   "outputs": [],
   "source": [
    "c = cloudpickle.dumps(diag_pos[0][\"label_1\"][\"trench_ends\"])"
   ]
  },
  {
   "cell_type": "code",
   "execution_count": null,
   "metadata": {
    "hidden": true
   },
   "outputs": [],
   "source": [
    "with open(\"foo\", \"wb\") as f:\n",
    "    cloudpickle.dump(diag_pos, f)"
   ]
  },
  {
   "cell_type": "code",
   "execution_count": null,
   "metadata": {
    "hidden": true
   },
   "outputs": [],
   "source": [
    "len(c)"
   ]
  },
  {
   "cell_type": "code",
   "execution_count": null,
   "metadata": {
    "hidden": true
   },
   "outputs": [],
   "source": [
    "print(asizeof.asized(diag_pos[0], detail=5).format())"
   ]
  },
  {
   "cell_type": "code",
   "execution_count": null,
   "metadata": {
    "hidden": true
   },
   "outputs": [],
   "source": [
    "%store -r"
   ]
  },
  {
   "cell_type": "code",
   "execution_count": null,
   "metadata": {
    "hidden": true
   },
   "outputs": [],
   "source": [
    "%store trench_points_pos\n",
    "%store diag_pos"
   ]
  },
  {
   "cell_type": "markdown",
   "metadata": {
    "heading_collapsed": true
   },
   "source": [
    "# Trench segmentation"
   ]
  },
  {
   "cell_type": "code",
   "execution_count": null,
   "metadata": {
    "hidden": true
   },
   "outputs": [],
   "source": [
    "def visualize_trench(img1, img2, img3, traces=None):\n",
    "    # img_k1, img_k2 = hessian_eigenvalues(img)\n",
    "    #     pointery = hv.streams.PointerY(y=0)\n",
    "    #     def scrubber_callback(y):\n",
    "    #         y = int(y)\n",
    "    #         h_line = hv.HLine(y + 0.5)(style={'color': 'black', 'alpha': 0.9, 'line_width': 2})\n",
    "    #         return h_line\n",
    "    #     scrubber_dmap = hv.DynamicMap(scrubber_callback, streams=[pointery])\n",
    "    # plot = RevImage(img) * scrubber_dmap + RevImage(img_k1) * scrubber_dmap + RevImage(img_k2) * scrubber_dmap\n",
    "    plot = RevImage(img1) + RevImage(img2) + RevImage(img3)\n",
    "    if traces is not None:\n",
    "        plot += hv.Overlay.from_values(\n",
    "            [\n",
    "                hv.Curve(trace / abs(trace).max(), kdims=[\"y\"], vdims=[\"i\" + str(i)])\n",
    "                for i, trace in enumerate(traces)\n",
    "            ]\n",
    "        )\n",
    "    plot = plot.opts(\n",
    "        plot={\n",
    "            \"Image\": {\"height\": thumbs.shape[1] * 2, \"width\": thumbs.shape[2] * 5},\n",
    "            \"Curve\": {\n",
    "                \"invert_axes\": True,\n",
    "                \"height\": thumbs.shape[1] * 2,\n",
    "                \"width\": thumbs.shape[2] * 5,\n",
    "                \"invert_yaxis\": True,\n",
    "            },\n",
    "            \"Layout\": {\"normalize\": False},\n",
    "        }\n",
    "    )\n",
    "    return plot\n",
    "\n",
    "\n",
    "# visualize_trench(a)#, [a.sum(axis=1)])"
   ]
  },
  {
   "cell_type": "code",
   "execution_count": null,
   "metadata": {
    "hidden": true
   },
   "outputs": [],
   "source": [
    "def trench_side_masks(mask, dilation=3):\n",
    "    left = np.logical_or.accumulate(mask[:, ::-1], axis=1)[:, ::-1]\n",
    "    right = np.logical_or.accumulate(mask, axis=1)\n",
    "    outline = repeat_apply(skimage.morphology.binary_dilation, dilation)(mask)\n",
    "    return (outline & ~right, outline & ~left)"
   ]
  },
  {
   "cell_type": "code",
   "execution_count": null,
   "metadata": {
    "hidden": true
   },
   "outputs": [],
   "source": [
    "pos = str(0)\n",
    "n_channels, n_timepoints = root_group[\"raw\"][pos].shape[:2]\n",
    "channel = 0"
   ]
  },
  {
   "cell_type": "code",
   "execution_count": null,
   "metadata": {
    "hidden": true
   },
   "outputs": [],
   "source": [
    "diag_td = tree()\n",
    "trench_points = get_trenches(root_group[\"raw\"][pos][0, 30], diagnostics=diag_td)"
   ]
  },
  {
   "cell_type": "code",
   "execution_count": null,
   "metadata": {
    "hidden": true
   },
   "outputs": [],
   "source": [
    "# display_plot_browser(diag_td);"
   ]
  },
  {
   "cell_type": "code",
   "execution_count": null,
   "metadata": {
    "hidden": true
   },
   "outputs": [],
   "source": [
    "sharpness = [\n",
    "    image_sharpness(root_group[\"raw\"][pos][0, t]) for t in tnrange(n_timepoints)\n",
    "]"
   ]
  },
  {
   "cell_type": "code",
   "execution_count": null,
   "metadata": {
    "hidden": true
   },
   "outputs": [],
   "source": [
    "trench_idx = 18\n",
    "trench_set_idx = 1"
   ]
  },
  {
   "cell_type": "code",
   "execution_count": null,
   "metadata": {
    "hidden": true
   },
   "outputs": [],
   "source": [
    "x_lim, y_lim = get_img_limits(root_group[\"raw\"][pos].shape[2:])\n",
    "ul, lr = get_trench_bbox(trench_points[trench_set_idx], trench_idx, x_lim, y_lim)\n",
    "thumbs = root_group[\"raw\"][pos][0, :, ul[1] : lr[1], ul[0] : lr[0]]"
   ]
  },
  {
   "cell_type": "code",
   "execution_count": null,
   "metadata": {
    "hidden": true
   },
   "outputs": [],
   "source": [
    "thumbs_k1 = map_ndarray(lambda img: hessian_eigenvalues(img)[0], thumbs)\n",
    "thumbs_k2 = map_ndarray(lambda img: hessian_eigenvalues(img)[1], thumbs)\n",
    "thumbs_masks = map_ndarray(\n",
    "    lambda img: img > skimage.filters.threshold_otsu(img), thumbs\n",
    ")"
   ]
  },
  {
   "cell_type": "code",
   "execution_count": null,
   "metadata": {
    "hidden": true
   },
   "outputs": [],
   "source": [
    "traces_min_left = []\n",
    "traces_min_right = []\n",
    "traces_max_left = []\n",
    "traces_max_right = []\n",
    "for t in tnrange(thumbs.shape[0]):\n",
    "    left_mask, right_mask = trench_side_masks(thumbs_masks[t])\n",
    "    traces_min_left.append((left_mask * thumbs_k2[t]).min(axis=1))\n",
    "    traces_min_right.append((right_mask * thumbs_k2[t]).min(axis=1))\n",
    "    traces_max_left.append((left_mask * thumbs_k2[t]).max(axis=1))\n",
    "    traces_max_right.append((right_mask * thumbs_k2[t]).max(axis=1))"
   ]
  },
  {
   "cell_type": "code",
   "execution_count": null,
   "metadata": {
    "hidden": true
   },
   "outputs": [],
   "source": [
    "t_max = 128\n",
    "hv.HoloMap(\n",
    "    {\n",
    "        t: visualize_trench(\n",
    "            thumbs[t],\n",
    "            trench_side_masks(thumbs_masks[t])[0] * thumbs_k2[t],\n",
    "            thumbs_k2[t],\n",
    "            [\n",
    "                traces_min_left[t],\n",
    "                traces_min_right[t],\n",
    "                traces_max_left[t],\n",
    "                traces_max_right[t],\n",
    "            ],\n",
    "        )\n",
    "        for t in range(t_max)\n",
    "    }\n",
    ")"
   ]
  },
  {
   "cell_type": "markdown",
   "metadata": {
    "hidden": true
   },
   "source": [
    "## Prototyping"
   ]
  },
  {
   "cell_type": "code",
   "execution_count": null,
   "metadata": {
    "hidden": true
   },
   "outputs": [],
   "source": [
    "# a = thumbs_k1[0]\n",
    "a = thumbs[61]  # 31, 36, 61\n",
    "a_k1, a_k2 = hessian_eigenvalues(a)"
   ]
  },
  {
   "cell_type": "code",
   "execution_count": null,
   "metadata": {
    "hidden": true
   },
   "outputs": [],
   "source": [
    "a.shape"
   ]
  },
  {
   "cell_type": "code",
   "execution_count": null,
   "metadata": {
    "hidden": true
   },
   "outputs": [],
   "source": [
    "threshold = skimage.filters.threshold_otsu(a)\n",
    "a_thresh = a > threshold\n",
    "plt.imshow(a_thresh)"
   ]
  },
  {
   "cell_type": "code",
   "execution_count": null,
   "metadata": {
    "hidden": true
   },
   "outputs": [],
   "source": [
    "plt.plot(a.sum(axis=1))"
   ]
  },
  {
   "cell_type": "code",
   "execution_count": null,
   "metadata": {
    "hidden": true
   },
   "outputs": [],
   "source": [
    "a_k1d = np.diff(a_k1, axis=0)"
   ]
  },
  {
   "cell_type": "code",
   "execution_count": null,
   "metadata": {
    "hidden": true
   },
   "outputs": [],
   "source": [
    "visualize_trench(\n",
    "    a, a_k1, a_k1d, [a_k1[:, 25], a.sum(axis=1), a_k1d[:, 20:30].sum(axis=1)]\n",
    ")"
   ]
  },
  {
   "cell_type": "code",
   "execution_count": null,
   "metadata": {
    "hidden": true
   },
   "outputs": [],
   "source": [
    "left_mask, right_mask = trench_side_masks(a_thresh)\n",
    "left_trace_min = (left_mask * a_k2).min(axis=1)\n",
    "right_trace_min = (right_mask * a_k2).min(axis=1)\n",
    "left_trace_max = (left_mask * a_k2).max(axis=1)\n",
    "right_trace_max = (right_mask * a_k2).max(axis=1)"
   ]
  },
  {
   "cell_type": "code",
   "execution_count": null,
   "metadata": {
    "hidden": true
   },
   "outputs": [],
   "source": [
    "visualize_trench(\n",
    "    a,\n",
    "    trench_side_masks(a_thresh)[0] * a_k2,\n",
    "    a_k2,\n",
    "    [left_trace_min, right_trace_min, left_trace_max, right_trace_max],\n",
    ")"
   ]
  },
  {
   "cell_type": "code",
   "execution_count": null,
   "metadata": {
    "hidden": true
   },
   "outputs": [],
   "source": [
    "visualize_trench(a, a_k2, a_k1d, [a_k2[:, 22], a_k2[:, 25], a_k2[:, 28]])"
   ]
  },
  {
   "cell_type": "code",
   "execution_count": null,
   "metadata": {
    "hidden": true
   },
   "outputs": [],
   "source": [
    "plt.figure(figsize=(12, 12))\n",
    "for i in range(20, 31):\n",
    "    plt.plot(a_k2[:, i], label=str(i))\n",
    "plt.plot(a_k2[:, :25].max(axis=1), label=\"max r\", linestyle=\"--\", lw=2)\n",
    "plt.plot(a_k2[:, 25:].max(axis=1), label=\"max l\", linestyle=\"--\", lw=2)\n",
    "plt.legend()"
   ]
  },
  {
   "cell_type": "code",
   "execution_count": null,
   "metadata": {
    "hidden": true
   },
   "outputs": [],
   "source": [
    "plt.plot(a_thresh.sum(axis=1))"
   ]
  },
  {
   "cell_type": "code",
   "execution_count": null,
   "metadata": {
    "hidden": true
   },
   "outputs": [],
   "source": [
    "plt.plot(a[135])"
   ]
  },
  {
   "cell_type": "code",
   "execution_count": null,
   "metadata": {
    "hidden": true
   },
   "outputs": [],
   "source": [
    "plt.plot(a[150])"
   ]
  },
  {
   "cell_type": "code",
   "execution_count": null,
   "metadata": {
    "hidden": true
   },
   "outputs": [],
   "source": [
    "plt.imshow(scipy.signal.correlate(a, a, \"same\"))\n",
    "# plt.plot(np.correlate(, axis=0))"
   ]
  },
  {
   "cell_type": "code",
   "execution_count": null,
   "metadata": {
    "hidden": true
   },
   "outputs": [],
   "source": [
    "trench_points[trench_set_idx][0].shape"
   ]
  },
  {
   "cell_type": "code",
   "execution_count": null,
   "metadata": {
    "hidden": true
   },
   "outputs": [],
   "source": [
    "x0, x1 = (\n",
    "    trench_points[trench_set_idx][0][trench_idx],\n",
    "    trench_points[trench_set_idx][1][trench_idx],\n",
    ")\n",
    "xs, ys = coords_along(x0, x1)\n",
    "profiles = np.array([thumbs_k1[t, ys - ul[1], xs - ul[0]] for t in range(n_timepoints)])"
   ]
  },
  {
   "cell_type": "code",
   "execution_count": null,
   "metadata": {
    "hidden": true
   },
   "outputs": [],
   "source": [
    "RevImage(thumbs[0]) * hv.Points([x0 - ul, x1 - ul]).opts(\n",
    "    plot={\"size\": 30, \"color\": \"green\"}\n",
    ")"
   ]
  },
  {
   "cell_type": "code",
   "execution_count": null,
   "metadata": {
    "hidden": true
   },
   "outputs": [],
   "source": [
    "hv.help(hv.Curve)"
   ]
  },
  {
   "cell_type": "code",
   "execution_count": null,
   "metadata": {
    "hidden": true
   },
   "outputs": [],
   "source": [
    "%%opts Layout [normalize=False]\n",
    "t_max = 2\n",
    "\n",
    "\n",
    "def plot_trench(t):\n",
    "    p = (\n",
    "        RevImage(thumbs[t])\n",
    "        + RevImage(thumbs_k1[t])\n",
    "        + hv.Curve(profiles[t], kdims=[\"y\"], vdims=[\"i\"]).opts(plot={\"swap_axes\": True})\n",
    "    ).opts(\n",
    "        plot={\n",
    "            \"Image\": {\n",
    "                \"height\": thumbs.shape[1] * 2,\n",
    "                \"width\": thumbs.shape[2] * 3,\n",
    "                \"aspect\": 0.2,\n",
    "            }\n",
    "        }\n",
    "    )\n",
    "    return p\n",
    "\n",
    "\n",
    "# m = hv.HoloMap({t: plot_trench(t) for t in range(t_max)})\n",
    "# m\n",
    "plot_trench(0)"
   ]
  },
  {
   "cell_type": "markdown",
   "metadata": {
    "hidden": true
   },
   "source": [
    "## Segmentation algorithm testing"
   ]
  },
  {
   "cell_type": "code",
   "execution_count": null,
   "metadata": {
    "hidden": true
   },
   "outputs": [],
   "source": [
    "from skimage.segmentation import morphological_geodesic_active_contour"
   ]
  },
  {
   "cell_type": "code",
   "execution_count": null,
   "metadata": {
    "hidden": true
   },
   "outputs": [],
   "source": [
    "morphological_geodesic_active_contour?"
   ]
  },
  {
   "cell_type": "code",
   "execution_count": null,
   "metadata": {
    "hidden": true
   },
   "outputs": [],
   "source": [
    "f = thumbs[0]\n",
    "image = f / f.max()\n",
    "\n",
    "# Initial level set\n",
    "init_ls = np.zeros(image.shape, dtype=np.int8)\n",
    "init_ls[10:-10, 10:-10] = 1\n",
    "ls = morphological_geodesic_active_contour(\n",
    "    image, 600, smoothing=2, threshold=\"auto\", init_level_set=init_ls\n",
    ")\n",
    "plt.imshow(ls)\n",
    "# List with intermediate results for plotting the evolution\n",
    "# evolution = []\n",
    "# callback = store_evolution_in(evolution)\n",
    "# ls = morphological_geodesic_active_contour(gimage, 230, init_ls,\n",
    "#                                           smoothing=1, balloon=-1,\n",
    "#                                           threshold=0.69,\n",
    "#                                           iter_callback=callback)"
   ]
  },
  {
   "cell_type": "code",
   "execution_count": null,
   "metadata": {
    "hidden": true
   },
   "outputs": [],
   "source": [
    "morphological_geodesic_active_contour?"
   ]
  },
  {
   "cell_type": "markdown",
   "metadata": {
    "hidden": true
   },
   "source": [
    "## Kymo viewer"
   ]
  },
  {
   "cell_type": "code",
   "execution_count": null,
   "metadata": {
    "hidden": true
   },
   "outputs": [],
   "source": [
    "%%opts Image (cmap='viridis')\n",
    "def scrubber_callback(t, y):\n",
    "    t = int(t)\n",
    "    v_line = hv.VLine(t + 0.5)(style={\"color\": \"white\", \"alpha\": 0.3, \"line_width\": 2})\n",
    "    t_label = hv.Text(t + kymo.shape[1] / 20, kymo.shape[0] / 20, \"t={:}\".format(t))(\n",
    "        style={\"color\": \"white\", \"text_alpha\": 0.8}\n",
    "    )\n",
    "    h_line = hv.HLine(y)(style={\"color\": \"white\", \"alpha\": 0.3, \"line_width\": 2})\n",
    "    return v_line * t_label * h_line\n",
    "\n",
    "\n",
    "def cross_section_callback(t, y):\n",
    "    y = int(y)\n",
    "    h_line = hv.HLine(y)(style={\"color\": \"white\", \"alpha\": 0.3, \"line_width\": 2})\n",
    "    return h_line\n",
    "\n",
    "\n",
    "def sharpness_scrubber_callback(t):\n",
    "    t = int(t)\n",
    "    v_line = hv.VLine(t + 0.5)(style={\"color\": \"black\", \"alpha\": 0.3, \"line_width\": 2})\n",
    "    return v_line\n",
    "\n",
    "\n",
    "def trench_thumbnail_callback(img_series, t):\n",
    "    t = int(t)\n",
    "    img = get_trench_thumbnail(img_series[t], trench_points, trench_idx)\n",
    "    # TODO: don't know why calling hv.Image.opts(plot={'invert_axes': True}) doesn't work\n",
    "    # also switched HLine to VLine in cross_section, above\n",
    "    thumb = hv.Image(\n",
    "        img[::-1], bounds=(0, 0, img.shape[1], img.shape[0]), kdims=[\"x2\", \"y\"]\n",
    "    )\n",
    "    # return thumb\n",
    "    # return thumb.opts(plot={'invert_axes': False, 'width': max_thumbnail_width})#, 'xaxis': None, 'yaxis': None})\n",
    "    return thumb.opts(\n",
    "        plot={\"invert_axes\": False, \"invert_yaxis\": True, \"width\": 200}\n",
    "    )  # , 'xaxis': None, 'yaxis': None})\n",
    "    # return thumb.opts(plot={'invert_axes': False, 'invert_yaxis': True})\n",
    "\n",
    "\n",
    "pointerx = hv.streams.PointerX(x=0).rename(x=\"t\")\n",
    "pointery = hv.streams.PointerY(y=0)\n",
    "\n",
    "# BOUNDS: (left, bottom, top, right)\n",
    "trench_idx = 15\n",
    "img_series = frame_series_k1\n",
    "bbox_ul, bbox_lr = get_trench_bbox(\n",
    "    trench_points, trench_idx, *get_img_limits(img_series[0])\n",
    ")\n",
    "kymo = extract_kymograph(\n",
    "    img_series, trench_points[0][trench_idx], trench_points[1][trench_idx]\n",
    ")\n",
    "kymo_img = hv.Image(kymo[::-1], bounds=(0, 0, kymo.shape[1], kymo.shape[0])).opts(\n",
    "    plot={\"width\": 700, \"height\": 300, \"invert_yaxis\": True}\n",
    ")\n",
    "# kymo_img = hv.Raster(kymo).opts(plot={'width': 700, 'height': 300, 'yaxis': 'left'})\n",
    "scrubber_line = hv.DynamicMap(scrubber_callback, streams=[pointerx, pointery])\n",
    "cross_section_line = hv.DynamicMap(cross_section_callback, streams=[pointerx, pointery])\n",
    "trench_thumbnail_img = hv.DynamicMap(\n",
    "    partial(trench_thumbnail_callback, img_series), streams=[pointerx]\n",
    ")  # .opts(plot={'invert_axes': True})\n",
    "sharpness_plot = hv.Curve(sharpness, kdims=[\"x\"], vdims=[\"s\"]).opts(\n",
    "    plot={\"width\": 700, \"height\": 100}\n",
    ")\n",
    "sharpness_scrubber = hv.DynamicMap(sharpness_scrubber_callback, streams=[pointerx])\n",
    "# pointery.source = kymo_img\n",
    "# SEE: http://holoviews.org/reference/elements/bokeh/Distribution.html\n",
    "# kymo_img * scrubber_line << (trench_thumbnail_img * cross_section_line) << (sharpness_plot * sharpness_scrubber)\n",
    "\n",
    "KymoOverlayStream = Stream.define(\"KymoOverlayStream\", overlay_enabled=True)\n",
    "kymo_overlay_stream = KymoOverlayStream()\n",
    "kymo_overlay_button = widgets.ToggleButton(description=\"Overlay\", value=True)\n",
    "\n",
    "\n",
    "def update_kymo_overlay(change):\n",
    "    kymo_overlay_stream.event(overlay_enabled=change[\"new\"])\n",
    "\n",
    "\n",
    "kymo_overlay_button.observe(update_kymo_overlay, names=\"value\")\n",
    "\n",
    "\n",
    "def get_thumbnail_overlay(t, overlay_enabled):\n",
    "    # because of https://github.com/ioam/holoviews/issues/1388, overlay_enabled must be True initially\n",
    "    x0 = trench_points[0][trench_idx]\n",
    "    x1 = trench_points[1][trench_idx]\n",
    "    trench_line = hv.Curve([x0 - bbox_ul, x1 - bbox_ul]).opts(\n",
    "        style={\"color\": \"white\", \"alpha\": 0.5, \"line_width\": 1.5},\n",
    "        plot={\"yaxis\": None, \"shared_axes\": True},\n",
    "    )\n",
    "    overlays = []\n",
    "    if overlay_enabled:\n",
    "        overlays.append(trench_line)\n",
    "    else:\n",
    "        pass  # overlays = []#line.opts(style={'alpha': 0.0, 'color': 'red'})\n",
    "    return hv.Overlay(overlays)\n",
    "\n",
    "\n",
    "thumbnail_overlay = hv.DynamicMap(\n",
    "    get_thumbnail_overlay, streams=[pointerx, kymo_overlay_stream]\n",
    ")  # .opts(plot={'invert_yaxis': True})\n",
    "\n",
    "display(kymo_overlay_button)\n",
    "(\n",
    "    kymo_img * scrubber_line\n",
    "    << (trench_thumbnail_img * thumbnail_overlay * cross_section_line)\n",
    "    << (sharpness_plot * sharpness_scrubber)\n",
    ")\n",
    "# kymo_img * scrubber_line << (trench_thumbnail_img * cross_section_line) << (sharpness_plot * sharpness_scrubber)\n",
    "# trench_thumbnail_img * thumbnail_overlay\n",
    "# trench_thumbnail_img * thumbnail_overlay * cross_section_line"
   ]
  },
  {
   "cell_type": "code",
   "execution_count": null,
   "metadata": {
    "hidden": true
   },
   "outputs": [],
   "source": [
    "def trench_peaks_callback(t, y):\n",
    "    t = int(t)\n",
    "    overlays = [hv.Curve(kymo[:, t]).opts(plot={\"width\": 500})]\n",
    "    overlays.extend(\n",
    "        [\n",
    "            hv.Points([(x, kymo[int(x), t])]).opts(style={\"size\": 6})\n",
    "            for x in kymo_endpoints[t]\n",
    "        ]\n",
    "    )\n",
    "    return hv.Overlay(overlays)\n",
    "\n",
    "\n",
    "hv.DynamicMap(trench_peaks_callback, streams=[pointerx, pointery])"
   ]
  },
  {
   "cell_type": "code",
   "execution_count": null,
   "metadata": {
    "hidden": true
   },
   "outputs": [],
   "source": [
    "%%time\n",
    "def find_kymograph_cell_endpoints(kymograph, thresh=0.2, min_dist=3):\n",
    "    endpoints = []\n",
    "    for t in range(kymograph.shape[1]):\n",
    "        idxs = peakutils.indexes(kymograph[:, t], thres=thresh, min_dist=min_dist)\n",
    "        xs = idxs\n",
    "        # xs = peakutils.interpolate(np.arange(kymograph.shape[0]), kymograph[:,t], ind=idxs)\n",
    "        endpoints.append(xs)\n",
    "    return endpoints\n",
    "\n",
    "\n",
    "kymo_endpoints = find_kymograph_cell_endpoints(kymo, thresh=0.2, min_dist=5)"
   ]
  },
  {
   "cell_type": "code",
   "execution_count": null,
   "metadata": {
    "hidden": true
   },
   "outputs": [],
   "source": [
    "for t in range(kymo.shape[1] // 5):\n",
    "    plt.plot(kymo[220:, t])"
   ]
  },
  {
   "cell_type": "markdown",
   "metadata": {},
   "source": [
    "# Trench segmentation 2"
   ]
  },
  {
   "cell_type": "markdown",
   "metadata": {
    "heading_collapsed": true
   },
   "source": [
    "## Trench sharpness"
   ]
  },
  {
   "cell_type": "code",
   "execution_count": null,
   "metadata": {
    "hidden": true
   },
   "outputs": [],
   "source": [
    "def f(img_stack):\n",
    "    return pd.Series([image_sharpness(img_stack[t]) for t in range(img_stack.shape[0])])\n",
    "\n",
    "\n",
    "trench_sharpness = positionwise_trenchwise_map(\n",
    "    root_group[\"raw\"],\n",
    "    trench_points_pos,\n",
    "    f,\n",
    "    channel_slice=1,\n",
    "    preload=True,\n",
    "    time_slice=slice(None),\n",
    "    positions=range(10),\n",
    ")"
   ]
  },
  {
   "cell_type": "code",
   "execution_count": null,
   "metadata": {
    "hidden": true
   },
   "outputs": [],
   "source": [
    "def f(img_stack):\n",
    "    return pd.Series(img_stack.mean(axis=(1, 2)))\n",
    "\n",
    "\n",
    "trench_mean = positionwise_trenchwise_map(\n",
    "    root_group[\"raw\"],\n",
    "    trench_points_pos,\n",
    "    f,\n",
    "    channel_slice=1,\n",
    "    preload=True,\n",
    "    time_slice=slice(None),\n",
    "    positions=range(10),\n",
    ")\n",
    "\n",
    "\n",
    "def f(img_stack):\n",
    "    return pd.Series(img_stack.max(axis=(1, 2)))\n",
    "\n",
    "\n",
    "trench_max = positionwise_trenchwise_map(\n",
    "    root_group[\"raw\"],\n",
    "    trench_points_pos,\n",
    "    f,\n",
    "    channel_slice=1,\n",
    "    preload=True,\n",
    "    time_slice=slice(None),\n",
    "    positions=range(10),\n",
    ")"
   ]
  },
  {
   "cell_type": "code",
   "execution_count": null,
   "metadata": {
    "hidden": true
   },
   "outputs": [],
   "source": [
    "%%output size=250\n",
    "dat = trench_sharpness / trench_max\n",
    "hover = HoverTool(\n",
    "    tooltips=[\n",
    "        (\"(t,f)\", \"(@time, @value)\"),\n",
    "        (\"label\", \"@label\"),\n",
    "    ]\n",
    ")\n",
    "hv.Overlay.from_values(\n",
    "    [\n",
    "        hv.Curve(\n",
    "            pd.DataFrame(\n",
    "                {\"time\": d.index, \"value\": d.values, \"label\": \"{}.{}.{}\".format(*col)}\n",
    "            ),\n",
    "            vdims=[\"value\", \"label\"],\n",
    "            kdims=[\"time\"],\n",
    "        ).opts(plot={\"tools\": [hover]})\n",
    "        for col, d in random.sample(list(dat.iteritems()), 50)\n",
    "    ]\n",
    ")"
   ]
  },
  {
   "cell_type": "code",
   "execution_count": null,
   "metadata": {
    "hidden": true
   },
   "outputs": [],
   "source": [
    "pos = 7\n",
    "show_trench_movie(\n",
    "    root_group[\"raw\"][pos],\n",
    "    trench_points_pos[pos],\n",
    "    2,\n",
    "    54,\n",
    "    channels=[1],\n",
    "    time_slice=slice(None, None, 3),\n",
    ")"
   ]
  },
  {
   "cell_type": "markdown",
   "metadata": {
    "heading_collapsed": true
   },
   "source": [
    "## Segmentation"
   ]
  },
  {
   "cell_type": "code",
   "execution_count": null,
   "metadata": {
    "hidden": true
   },
   "outputs": [],
   "source": [
    "pos = 6\n",
    "trench_set_idx = 2\n",
    "trench_idx = 54\n",
    "trench_points = trench_points_pos[pos]"
   ]
  },
  {
   "cell_type": "code",
   "execution_count": null,
   "metadata": {
    "hidden": true
   },
   "outputs": [],
   "source": [
    "x_lim, y_lim = get_img_limits(root_group[\"raw\"][pos].shape[2:])\n",
    "ul, lr = get_trench_bbox(trench_points[trench_set_idx], trench_idx, x_lim, y_lim)\n",
    "thumbs = root_group[\"raw\"][pos][1, :, ul[1] : lr[1], ul[0] : lr[0]]"
   ]
  },
  {
   "cell_type": "code",
   "execution_count": null,
   "metadata": {
    "hidden": true
   },
   "outputs": [],
   "source": [
    "thumbs_k1 = map_ndarray(lambda img: hessian_eigenvalues(img)[0], thumbs)\n",
    "thumbs_k2 = map_ndarray(lambda img: hessian_eigenvalues(img)[1], thumbs)\n",
    "thumbs_masks = map_ndarray(\n",
    "    lambda img: img > skimage.filters.threshold_otsu(img), thumbs\n",
    ")"
   ]
  },
  {
   "cell_type": "code",
   "execution_count": null,
   "metadata": {
    "hidden": true
   },
   "outputs": [],
   "source": [
    "def uniformize_trench_intensity(img):\n",
    "    # 0.2 exponent: don't distinguish between medium and high stddev, but distinguish between zero and medium\n",
    "    std = img.std(axis=-1) ** 0.2\n",
    "    return img * (std / std.max() / img.mean(axis=-1))[..., :, np.newaxis]"
   ]
  },
  {
   "cell_type": "code",
   "execution_count": null,
   "metadata": {
    "hidden": true
   },
   "outputs": [],
   "source": [
    "def normalize_trench_intensity(img):\n",
    "    # 0.2 exponent: don't distinguish between medium and high stddev, but distinguish between zero and medium\n",
    "    std = img.std(axis=-1) ** 0.2\n",
    "    normalization = (img.max(axis=-1) * (std / std.sum())).sum()\n",
    "    return img / normalization"
   ]
  },
  {
   "cell_type": "code",
   "execution_count": null,
   "metadata": {
    "hidden": true
   },
   "outputs": [],
   "source": [
    "def optimize_mask_threshold(\n",
    "    img, min=0.8, max=0.98, num_thresholds=20, diagnostics=None\n",
    "):\n",
    "    min_threshold = np.percentile(img, min * 100)\n",
    "    max_threshold = np.percentile(img, max * 100)\n",
    "    thresholds = np.linspace(min_threshold, max_threshold, num_thresholds)\n",
    "    metrics = []\n",
    "    masks = {}\n",
    "    for threshold in thresholds:\n",
    "        mask = img > threshold\n",
    "        if diagnostics is not None:\n",
    "            masks[threshold] = mask\n",
    "        regionprops = skimage.measure.regionprops(skimage.morphology.label(mask))\n",
    "        metric = np.std([region.area for region in regionprops])\n",
    "        metrics.append(metric)\n",
    "    if diagnostics is not None:\n",
    "        diagnostics[\"masks\"] = hv.HoloMap({t: RevImage(m) for t, m in masks.items()})\n",
    "        diagnostics[\"metric\"] = hv.Curve((thresholds, metrics))\n",
    "    return 0"
   ]
  },
  {
   "cell_type": "code",
   "execution_count": null,
   "metadata": {
    "hidden": true
   },
   "outputs": [],
   "source": [
    "thumbs_u = normalize_trench_intensity(uniformize_trench_intensity(thumbs))"
   ]
  },
  {
   "cell_type": "code",
   "execution_count": null,
   "metadata": {
    "hidden": true
   },
   "outputs": [],
   "source": [
    "dd = {}\n",
    "optimize_mask_threshold(thumbs_u[10], diagnostics=dd)"
   ]
  },
  {
   "cell_type": "code",
   "execution_count": null,
   "metadata": {
    "hidden": true
   },
   "outputs": [],
   "source": [
    "dd[\"masks\"]"
   ]
  },
  {
   "cell_type": "code",
   "execution_count": null,
   "metadata": {
    "hidden": true
   },
   "outputs": [],
   "source": [
    "dd[\"metric\"]"
   ]
  },
  {
   "cell_type": "code",
   "execution_count": null,
   "metadata": {
    "hidden": true
   },
   "outputs": [],
   "source": [
    "plt.plot(res0.std(axis=1) / res0.std(axis=1).max())"
   ]
  },
  {
   "cell_type": "code",
   "execution_count": null,
   "metadata": {
    "hidden": true
   },
   "outputs": [],
   "source": [
    "res0 = thumbs[10]\n",
    "res_std = res0.std(axis=-1) ** 0.2\n",
    "res = res0 * (res_std / res_std.max() / res0.mean(axis=-1))[:, np.newaxis]\n",
    "plt.figure(figsize=(16, 16))\n",
    "plt.imshow(res.T)"
   ]
  },
  {
   "cell_type": "code",
   "execution_count": null,
   "metadata": {
    "hidden": true
   },
   "outputs": [],
   "source": [
    "%%time\n",
    "res0 = thumbs[10]\n",
    "low = np.percentile(res0, 80)\n",
    "high = np.percentile(res0, 98)\n",
    "thresholds = np.linspace(low, high, 20)\n",
    "metrics = []\n",
    "for threshold in thresholds:\n",
    "    metric = np.std(\n",
    "        [\n",
    "            region.area\n",
    "            for region in skimage.measure.regionprops(\n",
    "                skimage.morphology.label(res0 > threshold)\n",
    "            )\n",
    "        ]\n",
    "    )\n",
    "    metrics.append(metric)\n",
    "    plt.figure(figsize=(10, 10))\n",
    "    plt.imshow((res0 > threshold).T)\n",
    "    plt.show()"
   ]
  },
  {
   "cell_type": "code",
   "execution_count": null,
   "metadata": {
    "hidden": true
   },
   "outputs": [],
   "source": [
    "plt.plot(metrics)\n",
    "plt.plot(np.diff(metrics))"
   ]
  },
  {
   "cell_type": "code",
   "execution_count": null,
   "metadata": {
    "hidden": true
   },
   "outputs": [],
   "source": [
    "plt.plot(np.cumsum(metrics) / np.sum(metrics))\n",
    "# plt.plot(right)"
   ]
  },
  {
   "cell_type": "code",
   "execution_count": null,
   "metadata": {
    "hidden": true
   },
   "outputs": [],
   "source": [
    "res.max()"
   ]
  },
  {
   "cell_type": "code",
   "execution_count": null,
   "metadata": {
    "hidden": true
   },
   "outputs": [],
   "source": [
    "img = thumbs[80]\n",
    "img_scaled = skimage.transform.pyramid_expand(img, upscale=2, multichannel=False)\n",
    "img_k2 = hessian_eigenvalues(img_scaled)[0]\n",
    "# img_k2 = repeat_apply(skimage.morphology.dilation, 2)(img_k2)\n",
    "img_k2 = skimage.filters.gaussian(img_k2, 3)\n",
    "img_k2 = skimage.transform.rescale(img_k2, 3)\n",
    "bin_img = img_k2 > 0.0005\n",
    "labeled_img = skimage.morphology.label(1 - bin_img)\n",
    "bg_label = scipy.stats.mode(labeled_img.flat).mode[0]\n",
    "all_labels = (labeled_img * (labeled_img != bg_label)) != 0\n",
    "distances = scipy.ndimage.distance_transform_edt(all_labels)\n",
    "# res = skimage.feature.peak_local_max(distance_transform, indices=False, footprint=np.ones((3, 3)), labels=labeled_img)\n",
    "# res2 = skimage.feature.peak_local_max(distance_transform, indices=False, min_distance=20)\n",
    "# res6 = skimage.morphology.watershed(img_k2, labeled_img)\n",
    "# res6 = skimage.morphology.watershed(img_k2, skimage.morphology.label(res2))\n",
    "eroded_distances = repeat_apply(skimage.morphology.erosion, 10)(distances)\n",
    "labeled_distances = skimage.morphology.label(\n",
    "    eroded_distances != 0 + (labeled_img == bg_label)\n",
    ")\n",
    "labeled_distances_clean = skimage.morphology.remove_small_objects(labeled_distances, 20)\n",
    "watershed_labels = skimage.morphology.watershed(img_k2, labeled_distances_clean)\n",
    "plt.figure(figsize=(16, 16))\n",
    "plt.imshow(watershed_labels)\n",
    "plt.show()\n",
    "plt.figure(figsize=(16, 16))\n",
    "plt.imshow(img_k2)"
   ]
  },
  {
   "cell_type": "code",
   "execution_count": null,
   "metadata": {
    "hidden": true
   },
   "outputs": [],
   "source": [
    "np.percentile(img_k2, 90)"
   ]
  },
  {
   "cell_type": "code",
   "execution_count": null,
   "metadata": {
    "hidden": true
   },
   "outputs": [],
   "source": [
    "def segment_trench(img, rel_threshold=None, threshold=None):\n",
    "    img_scaled = skimage.transform.pyramid_expand(img, upscale=2, multichannel=False)\n",
    "    img_k2 = hessian_eigenvalues(img_scaled)[0]\n",
    "    # img_k2 = repeat_apply(skimage.morphology.dilation, 1)(img_k2)\n",
    "    img_k2 = skimage.filters.gaussian(img_k2, 3)\n",
    "    img_k2 = skimage.transform.rescale(img_k2, 3)\n",
    "    if threshold is None:\n",
    "        threshold = np.percentile(img_k2, rel_threshold * 100)\n",
    "    bin_img = img_k2 > threshold\n",
    "    labeled_img = skimage.morphology.label(1 - bin_img)\n",
    "    bg_label = scipy.stats.mode(labeled_img.flat).mode[0]\n",
    "    all_labels = (labeled_img * (labeled_img != bg_label)) != 0\n",
    "    distances = scipy.ndimage.distance_transform_edt(all_labels)\n",
    "    # res = skimage.feature.peak_local_max(distance_transform, indices=False, footprint=np.ones((3, 3)), labels=labeled_img)\n",
    "    # res2 = skimage.feature.peak_local_max(distance_transform, indices=False, min_distance=20)\n",
    "    # res6 = skimage.morphology.watershed(img_k2, labeled_img)\n",
    "    # res6 = skimage.morphology.watershed(img_k2, skimage.morphology.label(res2))\n",
    "    eroded_distances = repeat_apply(skimage.morphology.erosion, 10)(distances)\n",
    "    labeled_distances = skimage.morphology.label(\n",
    "        eroded_distances != 0 + (labeled_img == bg_label)\n",
    "    )\n",
    "    bg_label2 = scipy.stats.mode(labeled_distances.flat).mode[0]\n",
    "    labeled_distances_clean = skimage.morphology.remove_small_objects(\n",
    "        labeled_distances, 20\n",
    "    )\n",
    "    watershed_labels = skimage.morphology.watershed(img_k2, labeled_distances_clean)\n",
    "    watershed_labels[watershed_labels == bg_label2] = 0  # set background to 0\n",
    "    # watershed_labels_rescaled = skimage.transform.rescale(watershed_labels, 1/6, anti_aliasing=False)\n",
    "    return watershed_labels  # _rescaled"
   ]
  },
  {
   "cell_type": "code",
   "execution_count": null,
   "metadata": {
    "hidden": true
   },
   "outputs": [],
   "source": [
    "len(trench_points[1][0])"
   ]
  },
  {
   "cell_type": "code",
   "execution_count": null,
   "metadata": {
    "hidden": true
   },
   "outputs": [],
   "source": [
    "%%time\n",
    "thresholds = np.linspace(0.5, 0.9, 10)\n",
    "segs = [segment_trench(thumbs[5], rel_threshold=thresh) for thresh in thresholds]"
   ]
  },
  {
   "cell_type": "code",
   "execution_count": null,
   "metadata": {
    "hidden": true
   },
   "outputs": [],
   "source": [
    "segs[5]"
   ]
  },
  {
   "cell_type": "code",
   "execution_count": null,
   "metadata": {
    "hidden": true
   },
   "outputs": [],
   "source": [
    "plt.imshow(segs[5])"
   ]
  },
  {
   "cell_type": "code",
   "execution_count": null,
   "metadata": {
    "hidden": true
   },
   "outputs": [],
   "source": [
    "a = skimage.measure.regionprops(segs[2])"
   ]
  },
  {
   "cell_type": "code",
   "execution_count": null,
   "metadata": {
    "hidden": true
   },
   "outputs": [],
   "source": [
    "b = a[1]"
   ]
  },
  {
   "cell_type": "code",
   "execution_count": null,
   "metadata": {
    "hidden": true
   },
   "outputs": [],
   "source": [
    "b.area"
   ]
  },
  {
   "cell_type": "code",
   "execution_count": null,
   "metadata": {
    "hidden": true
   },
   "outputs": [],
   "source": [
    "[b.area for b in a]"
   ]
  },
  {
   "cell_type": "code",
   "execution_count": null,
   "metadata": {
    "hidden": true
   },
   "outputs": [],
   "source": [
    "[np.std([region.area for region in skimage.measure.regionprops(seg)]) for seg in segs]"
   ]
  },
  {
   "cell_type": "code",
   "execution_count": null,
   "metadata": {
    "hidden": true
   },
   "outputs": [],
   "source": [
    "hv.HoloMap({k: hv.Image(v) for k, v in zip(thresholds, segs)})"
   ]
  },
  {
   "cell_type": "code",
   "execution_count": null,
   "metadata": {
    "hidden": true
   },
   "outputs": [],
   "source": [
    "plt.figure(figsize=(20, 20))\n",
    "plt.imshow(segment_trench(thumbs[5], threshold=0.0005))"
   ]
  },
  {
   "cell_type": "markdown",
   "metadata": {
    "heading_collapsed": true
   },
   "source": [
    "# Trench segmentation 3"
   ]
  },
  {
   "cell_type": "code",
   "execution_count": null,
   "metadata": {
    "hidden": true
   },
   "outputs": [],
   "source": [
    "pos = 0\n",
    "trench_idx = 18\n",
    "trench_set_idx = 1\n",
    "trench_points = trench_points_pos[pos]"
   ]
  },
  {
   "cell_type": "code",
   "execution_count": null,
   "metadata": {
    "hidden": true
   },
   "outputs": [],
   "source": [
    "x_lim, y_lim = get_img_limits(root_group[\"raw\"][pos].shape[2:])\n",
    "ul, lr = get_trench_bbox(trench_points[trench_set_idx], trench_idx, x_lim, y_lim)\n",
    "thumbs = root_group[\"raw\"][pos][1, :, ul[1] : lr[1], ul[0] : lr[0]]"
   ]
  },
  {
   "cell_type": "code",
   "execution_count": null,
   "metadata": {
    "hidden": true
   },
   "outputs": [],
   "source": [
    "thumbs_k1 = map_ndarray(lambda img: hessian_eigenvalues(img)[0], thumbs)\n",
    "thumbs_k2 = map_ndarray(lambda img: hessian_eigenvalues(img)[1], thumbs)\n",
    "thumbs_masks = map_ndarray(\n",
    "    lambda img: img > skimage.filters.threshold_otsu(img), thumbs\n",
    ")"
   ]
  },
  {
   "cell_type": "code",
   "execution_count": null,
   "metadata": {
    "hidden": true
   },
   "outputs": [],
   "source": [
    "plt.figure(figsize=(12, 12))\n",
    "plt.imshow(thumbs_k1[70])"
   ]
  },
  {
   "cell_type": "code",
   "execution_count": null,
   "metadata": {
    "hidden": true
   },
   "outputs": [],
   "source": [
    "plt.figure(figsize=(12, 12))\n",
    "plt.imshow(thumbs_masks[70] * thumbs_k1[70])"
   ]
  },
  {
   "cell_type": "code",
   "execution_count": null,
   "metadata": {
    "hidden": true
   },
   "outputs": [],
   "source": [
    "plt.plot((thumbs_masks[70] * thumbs_k1[70]).mean(axis=1))"
   ]
  },
  {
   "cell_type": "code",
   "execution_count": null,
   "metadata": {
    "hidden": true
   },
   "outputs": [],
   "source": [
    "kymo = (thumbs_masks * thumbs_k1).mean(axis=2)"
   ]
  },
  {
   "cell_type": "code",
   "execution_count": null,
   "metadata": {
    "hidden": true
   },
   "outputs": [],
   "source": [
    "plt.figure(figsize=(20, 20))\n",
    "plt.imshow(kymo.T[:, 10:], aspect=0.2)"
   ]
  },
  {
   "cell_type": "code",
   "execution_count": null,
   "metadata": {
    "hidden": true
   },
   "outputs": [],
   "source": [
    "kymo2 = (thumbs * thumbs_k1).mean(axis=2)\n",
    "plt.figure(figsize=(20, 20))\n",
    "plt.imshow(kymo2.T[:, 10:], aspect=0.2)"
   ]
  },
  {
   "cell_type": "code",
   "execution_count": null,
   "metadata": {
    "hidden": true
   },
   "outputs": [],
   "source": [
    "x0, x1 = (\n",
    "    trench_points[trench_set_idx][0][trench_idx],\n",
    "    trench_points[trench_set_idx][1][trench_idx],\n",
    ")\n",
    "xs, ys = coords_along(x0, x1)\n",
    "profiles = np.array(\n",
    "    [thumbs_k1[t, ys - ul[1], xs - ul[0]] for t in range(thumbs.shape[0])]\n",
    ")"
   ]
  },
  {
   "cell_type": "code",
   "execution_count": null,
   "metadata": {
    "hidden": true
   },
   "outputs": [],
   "source": [
    "plt.figure(figsize=(20, 20))\n",
    "plt.imshow(np.vstack(profiles).T)"
   ]
  },
  {
   "cell_type": "code",
   "execution_count": null,
   "metadata": {
    "hidden": true
   },
   "outputs": [],
   "source": [
    "RevImage(thumbs[0]) * hv.Points([x0 - ul, x1 - ul]).opts(\n",
    "    plot={\"size\": 30, \"color\": \"green\"}\n",
    ")"
   ]
  },
  {
   "cell_type": "markdown",
   "metadata": {},
   "source": [
    "# Trench segmentation 4"
   ]
  },
  {
   "cell_type": "code",
   "execution_count": null,
   "metadata": {},
   "outputs": [],
   "source": [
    "pos = 6\n",
    "trench_set_idx = 2\n",
    "trench_idx = 54\n",
    "trench_points = trench_points_pos[pos]"
   ]
  },
  {
   "cell_type": "code",
   "execution_count": null,
   "metadata": {},
   "outputs": [],
   "source": [
    "x_lim, y_lim = get_img_limits(root_group[\"raw\"][pos].shape[2:])\n",
    "ul, lr = get_trench_bbox(trench_points[trench_set_idx], trench_idx, x_lim, y_lim)\n",
    "thumbs = root_group[\"raw\"][pos][1, :, ul[1] : lr[1], ul[0] : lr[0]]"
   ]
  },
  {
   "cell_type": "code",
   "execution_count": null,
   "metadata": {},
   "outputs": [],
   "source": [
    "def uniformize_trench_intensity(img):\n",
    "    # 0.2 exponent: don't distinguish between medium and high stddev, but distinguish between zero and medium\n",
    "    std = img.std(axis=-1) ** 0.2\n",
    "    return img * (std / std.max() / img.mean(axis=-1))[..., :, np.newaxis]"
   ]
  },
  {
   "cell_type": "code",
   "execution_count": null,
   "metadata": {},
   "outputs": [],
   "source": [
    "def normalize_trench_intensity(img):\n",
    "    # 0.2 exponent: don't distinguish between medium and high stddev, but distinguish between zero and medium\n",
    "    std = img.std(axis=-1) ** 0.2\n",
    "    normalization = (img.max(axis=-1) * (std / std.sum())).sum()\n",
    "    return img / normalization"
   ]
  },
  {
   "cell_type": "code",
   "execution_count": null,
   "metadata": {},
   "outputs": [],
   "source": [
    "def optimize_segmentation_threshold(segmentations, diagnostics=None):\n",
    "    thresholds = []\n",
    "    metrics = []\n",
    "    for threshold, segmentation in segmentations.items():\n",
    "        regionprops = skimage.measure.regionprops(segmentation)\n",
    "        metric = np.std([region.area for region in regionprops])\n",
    "        thresholds.append(threshold)\n",
    "        metrics.append(metric)\n",
    "    if diagnostics is not None:\n",
    "        diagnostics[\"segmentations\"] = hv.HoloMap(\n",
    "            {t: RevImage(seg) for t, seg in segmentations.items()}\n",
    "        )\n",
    "        diagnostics[\"metric\"] = hv.Curve((thresholds, metrics))\n",
    "    return 0"
   ]
  },
  {
   "cell_type": "code",
   "execution_count": null,
   "metadata": {},
   "outputs": [],
   "source": [
    "def segment_trench(img, threshold, diagnostics=None):\n",
    "    if diagnostics is not None:\n",
    "        diagnostics[\"img\"] = RevImage(img)\n",
    "    img = normalize_trench_intensity(uniformize_trench_intensity(img))\n",
    "    if diagnostics is not None:\n",
    "        diagnostics[\"img_normalized\"] = RevImage(img)\n",
    "    img_scaled = skimage.transform.pyramid_expand(img, upscale=2, multichannel=False)\n",
    "    if diagnostics is not None:\n",
    "        diagnostics[\"img_scaled\"] = RevImage(img_scaled)\n",
    "    img_k2 = hessian_eigenvalues(img_scaled)[0]\n",
    "    # img_k2 = normalize_trench_intensity(uniformize_trench_intensity(img_k2))\n",
    "    # img_k2 = repeat_apply(skimage.morphology.dilation, 1)(img_k2)\n",
    "    if diagnostics is not None:\n",
    "        diagnostics[\"img_k2\"] = RevImage(img_k2)\n",
    "    img_k2 = skimage.filters.gaussian(img_k2, 3)\n",
    "    if diagnostics is not None:\n",
    "        diagnostics[\"img_k2_blurred\"] = RevImage(img_k2)\n",
    "    img_k2 = skimage.transform.rescale(img_k2, 3)\n",
    "    if diagnostics is not None:\n",
    "        diagnostics[\"img_k2_rescaled\"] = RevImage(img_k2)\n",
    "    bin_img = img_k2 > threshold\n",
    "    if diagnostics is not None:\n",
    "        diagnostics[\"bin_img\"] = RevImage(bin_img)\n",
    "    labeled_img = skimage.morphology.label(1 - bin_img)\n",
    "    bg_label = scipy.stats.mode(labeled_img.flat).mode[0]\n",
    "    all_labels = (labeled_img * (labeled_img != bg_label)) != 0\n",
    "    distances = scipy.ndimage.distance_transform_edt(all_labels)\n",
    "    if diagnostics is not None:\n",
    "        diagnostics[\"distances\"] = RevImage(distances)\n",
    "    # res = skimage.feature.peak_local_max(distance_transform, indices=False, footprint=np.ones((3, 3)), labels=labeled_img)\n",
    "    # res2 = skimage.feature.peak_local_max(distance_transform, indices=False, min_distance=20)\n",
    "    # res6 = skimage.morphology.watershed(img_k2, labeled_img)\n",
    "    # res6 = skimage.morphology.watershed(img_k2, skimage.morphology.label(res2))\n",
    "    eroded_distances = repeat_apply(skimage.morphology.erosion, 10)(distances)\n",
    "    if diagnostics is not None:\n",
    "        diagnostics[\"eroded_distances\"] = RevImage(eroded_distances)\n",
    "    labeled_distances = skimage.morphology.label(\n",
    "        eroded_distances != 0 + (labeled_img == bg_label)\n",
    "    )\n",
    "    if diagnostics is not None:\n",
    "        diagnostics[\"labeled_distances\"] = RevImage(labeled_distances)\n",
    "    bg_label2 = scipy.stats.mode(labeled_distances.flat).mode[0]\n",
    "    labeled_distances_clean = skimage.morphology.remove_small_objects(\n",
    "        labeled_distances, 20\n",
    "    )\n",
    "    if diagnostics is not None:\n",
    "        diagnostics[\"labeled_distances_clean\"] = RevImage(labeled_distances_clean)\n",
    "    watershed_labels = skimage.morphology.watershed(img_k2, labeled_distances_clean)\n",
    "    watershed_labels[watershed_labels == bg_label2] = 0  # set background to 0\n",
    "    # watershed_labels_rescaled = skimage.transform.rescale(watershed_labels, 1/6, anti_aliasing=False)\n",
    "    if diagnostics is not None:\n",
    "        diagnostics[\"watershed_labels\"] = RevImage(watershed_labels)\n",
    "    return watershed_labels  # _rescaled"
   ]
  },
  {
   "cell_type": "code",
   "execution_count": null,
   "metadata": {},
   "outputs": [],
   "source": [
    "%%time\n",
    "diag_seg = tree()\n",
    "seg = segment_trench(thumbs[50], 0.015, diagnostics=diag_seg)"
   ]
  },
  {
   "cell_type": "code",
   "execution_count": null,
   "metadata": {},
   "outputs": [],
   "source": [
    "display_plot_browser(diag_seg)"
   ]
  },
  {
   "cell_type": "code",
   "execution_count": null,
   "metadata": {},
   "outputs": [],
   "source": [
    "diag_seg[\"bin_img\"]"
   ]
  },
  {
   "cell_type": "code",
   "execution_count": null,
   "metadata": {},
   "outputs": [],
   "source": [
    "[s.max() for s in segs.values()]"
   ]
  },
  {
   "cell_type": "code",
   "execution_count": null,
   "metadata": {},
   "outputs": [],
   "source": [
    "%%time\n",
    "segs = {\n",
    "    thresh: segment_trench(thumbs[50], threshold=thresh)\n",
    "    for thresh in np.linspace(0.01, 0.02, 20)\n",
    "}"
   ]
  },
  {
   "cell_type": "code",
   "execution_count": null,
   "metadata": {},
   "outputs": [],
   "source": [
    "dd = {}\n",
    "optimize_segmentation_threshold(segs, diagnostics=dd)"
   ]
  },
  {
   "cell_type": "code",
   "execution_count": null,
   "metadata": {},
   "outputs": [],
   "source": [
    "dd[\"metric\"]"
   ]
  },
  {
   "cell_type": "code",
   "execution_count": null,
   "metadata": {},
   "outputs": [],
   "source": [
    "[len(tp[1][1]) for tp in trench_points_pos.values()]"
   ]
  },
  {
   "cell_type": "code",
   "execution_count": null,
   "metadata": {},
   "outputs": [],
   "source": [
    "dd[\"segmentations\"]"
   ]
  },
  {
   "cell_type": "code",
   "execution_count": null,
   "metadata": {},
   "outputs": [],
   "source": [
    "res0 = thumbs[50]\n",
    "res1 = normalize_trench_intensity(uniformize_trench_intensity(res0))\n",
    "res = segment_trench(res0, 0.014)\n",
    "plt.figure(figsize=(16, 16))\n",
    "plt.imshow(res.T)\n",
    "plt.show()\n",
    "plt.figure(figsize=(16, 16))\n",
    "plt.imshow(res0.T)\n",
    "plt.show()\n",
    "plt.figure(figsize=(16, 16))\n",
    "plt.imshow(res1.T)"
   ]
  },
  {
   "cell_type": "markdown",
   "metadata": {},
   "source": [
    "# Trench fluorescence"
   ]
  },
  {
   "cell_type": "code",
   "execution_count": null,
   "metadata": {},
   "outputs": [],
   "source": [
    "def f(img_stack):\n",
    "    return pd.Series(np.percentile(img_stack, 90, axis=(1, 2)))\n",
    "\n",
    "\n",
    "pos = 0\n",
    "trench_traces = trenchwise_map(\n",
    "    root_group[\"raw\"][pos], trench_points_pos[pos], f, channel_slice=2\n",
    ")"
   ]
  },
  {
   "cell_type": "code",
   "execution_count": null,
   "metadata": {},
   "outputs": [],
   "source": [
    "# FROM: http://holoviews.org/reference/elements/bokeh/QuadMesh.html\n",
    "def hover_image(img, hover):\n",
    "    return img * hv.QuadMesh(img).opts(\n",
    "        plot={\"tools\": [hover]},\n",
    "        style={\"alpha\": 0, \"hover_line_alpha\": 1, \"hover_line_color\": \"black\"},\n",
    "    )\n",
    "\n",
    "\n",
    "def show_trench_movie(\n",
    "    img_stack,\n",
    "    trench_points,\n",
    "    trench_set_idx,\n",
    "    trench_idx,\n",
    "    channels=None,\n",
    "    time_slice=slice(None, None, None),\n",
    "):\n",
    "    if channels is None:\n",
    "        channels = range(img_stack.shape[0])\n",
    "    hover = HoverTool(tooltips=[(\"(x,y)\", \"(@x{0.0}, @y{0.0})\"), (\"intensity\", \"@z\")])\n",
    "\n",
    "    def func(img_stack):\n",
    "        height, width = img_stack.shape[2:]\n",
    "        return hv.HoloMap(\n",
    "            {\n",
    "                t: hv.Layout.from_values(\n",
    "                    [\n",
    "                        hover_image(\n",
    "                            RevImage(\n",
    "                                img_stack[channel, t],\n",
    "                                kdims=[\"x\", \"y\"],\n",
    "                                vdims=[\"intensity\"],\n",
    "                            ),\n",
    "                            hover,\n",
    "                        )\n",
    "                        for channel in channels\n",
    "                    ]\n",
    "                ).opts(\n",
    "                    plot={\n",
    "                        \"Image\": {\"height\": height * 2, \"width\": width * 5},\n",
    "                        \"Layout\": {\"normalize\": False},\n",
    "                    }\n",
    "                )\n",
    "                for t in range(img_stack.shape[1])\n",
    "            }\n",
    "        )\n",
    "\n",
    "    return trenchwise_apply(\n",
    "        img_stack,\n",
    "        trench_points[trench_set_idx],\n",
    "        trench_idx,\n",
    "        func,\n",
    "        time_slice=time_slice,\n",
    "    )"
   ]
  },
  {
   "cell_type": "code",
   "execution_count": null,
   "metadata": {},
   "outputs": [],
   "source": [
    "def f(img_stack):\n",
    "    return pd.Series(np.percentile(img_stack, 95, axis=(1, 2)))\n",
    "    # return pd.Series(np.max(img_stack, axis=(1,2)))\n",
    "\n",
    "\n",
    "trench_traces_all = positionwise_trenchwise_map(\n",
    "    root_group[\"raw\"],\n",
    "    trench_points_pos,\n",
    "    f,\n",
    "    channel_slice=2,\n",
    "    preload=True,\n",
    "    time_slice=slice(None),\n",
    "    positions=range(100),\n",
    ")"
   ]
  },
  {
   "cell_type": "code",
   "execution_count": null,
   "metadata": {},
   "outputs": [],
   "source": [
    "%store trench_traces_all"
   ]
  },
  {
   "cell_type": "code",
   "execution_count": null,
   "metadata": {},
   "outputs": [],
   "source": [
    "trench_traces_all"
   ]
  },
  {
   "cell_type": "code",
   "execution_count": null,
   "metadata": {},
   "outputs": [],
   "source": [
    "hv.Histogram(np.histogram(trench_traces_all.mean(axis=0), bins=300))"
   ]
  },
  {
   "cell_type": "code",
   "execution_count": null,
   "metadata": {},
   "outputs": [],
   "source": [
    "trench_traces_all.mean(axis=0) > 135"
   ]
  },
  {
   "cell_type": "code",
   "execution_count": null,
   "metadata": {},
   "outputs": [],
   "source": [
    "bright_traces = trench_traces_all.loc[:, trench_traces_all.mean(axis=0) > 135]"
   ]
  },
  {
   "cell_type": "code",
   "execution_count": null,
   "metadata": {},
   "outputs": [],
   "source": [
    "bright_traces"
   ]
  },
  {
   "cell_type": "code",
   "execution_count": null,
   "metadata": {},
   "outputs": [],
   "source": [
    "%%output size=300\n",
    "traces = bright_traces\n",
    "hover = HoverTool(\n",
    "    tooltips=[\n",
    "        (\"(t,f)\", \"(@time, @fluorescence)\"),\n",
    "        (\"label\", \"@label\"),\n",
    "    ]\n",
    ")\n",
    "hv.Overlay.from_values(\n",
    "    [\n",
    "        hv.Curve(\n",
    "            pd.DataFrame(\n",
    "                {\n",
    "                    \"time\": d.index,\n",
    "                    \"fluorescence\": d.values,\n",
    "                    \"label\": \"{}.{}.{}\".format(*col),\n",
    "                }\n",
    "            ),\n",
    "            vdims=[\"fluorescence\", \"label\"],\n",
    "            kdims=[\"time\"],\n",
    "        ).opts(plot={\"tools\": [hover]})\n",
    "        for col, d in islice(traces.iteritems(), 100)\n",
    "    ]\n",
    ")"
   ]
  },
  {
   "cell_type": "code",
   "execution_count": null,
   "metadata": {},
   "outputs": [],
   "source": [
    "pos = 0\n",
    "show_trench_movie(\n",
    "    root_group[\"raw\"][pos],\n",
    "    trench_points_pos[pos],\n",
    "    2,\n",
    "    54,\n",
    "    channels=[0, 1, 2],\n",
    "    time_slice=slice(None),\n",
    ")"
   ]
  },
  {
   "cell_type": "markdown",
   "metadata": {
    "heading_collapsed": true
   },
   "source": [
    "# Image viewers"
   ]
  },
  {
   "cell_type": "code",
   "execution_count": null,
   "metadata": {
    "hidden": true,
    "init_cell": true
   },
   "outputs": [],
   "source": [
    "# big_image_viewer(root_group['quantized'])"
   ]
  },
  {
   "cell_type": "code",
   "execution_count": null,
   "metadata": {
    "hidden": true
   },
   "outputs": [],
   "source": [
    "def overlay_image_viewer(frames):\n",
    "    frame_stream = FrameStream()\n",
    "    slider_box = frame_browser(frames, frame_stream)\n",
    "    channels_box, display_settings_stream = multichannel_selector(frames)\n",
    "\n",
    "    def image_callback(t, v, channel_enabled, channel_colors):\n",
    "        channel_imgs = [\n",
    "            frames[v, c, t, :, :] for c in range(frames.shape[1]) if channel_enabled[c]\n",
    "        ]\n",
    "        img = composite_channels(channel_imgs, select(channel_colors, channel_enabled))\n",
    "        viewer = hv.RGB(img[::-1], bounds=(0, 0, img.shape[1], img.shape[0]))\n",
    "        return viewer\n",
    "\n",
    "    image = hv.DynamicMap(\n",
    "        image_callback, streams=[frame_stream, display_settings_stream]\n",
    "    )\n",
    "    image = regrid(image)\n",
    "    image = image.opts(plot={\"width\": 500, \"height\": 500})\n",
    "    output = widgets.Output()\n",
    "    box = widgets.VBox([widgets.HBox([channels_box, slider_box]), output])\n",
    "    display(box)\n",
    "    with output:\n",
    "        display(image)\n",
    "    return None\n",
    "\n",
    "\n",
    "overlay_image_viewer(frames_z)"
   ]
  },
  {
   "cell_type": "markdown",
   "metadata": {
    "heading_collapsed": true
   },
   "source": [
    "# Old"
   ]
  },
  {
   "cell_type": "code",
   "execution_count": null,
   "metadata": {
    "hidden": true
   },
   "outputs": [],
   "source": [
    "# %%opts Image (cmap='viridis')\n",
    "img_series = frame_series\n",
    "kymo = extract_kymograph(\n",
    "    img_series, trench_points[0][trench_idx], trench_points[1][trench_idx]\n",
    ")\n",
    "kymo_img = hv.Image(kymo, bounds=(0, 0, kymo.shape[1], kymo.shape[0])).opts(\n",
    "    plot={\"width\": 700, \"height\": 300}\n",
    ")\n",
    "trench_thumbnail_img = hv.DynamicMap(\n",
    "    partial(trench_thumbnail, img_series), streams=[pointerx]\n",
    ")\n",
    "(\n",
    "    kymo_img.opts(plot={\"invert_axes\": True}) * scrubber_line\n",
    "    + trench_thumbnail_img * cross_section_line\n",
    ")"
   ]
  },
  {
   "cell_type": "code",
   "execution_count": null,
   "metadata": {
    "hidden": true
   },
   "outputs": [],
   "source": [
    "# handle out-of-bounds/negative t/x values\n",
    "# focus quality score\n",
    "# show focus quality as a bar above kymograph\n",
    "# accurate horizontal line position on thumbnail\n",
    "# draw cross-section line through thumbnail\n",
    "# synchronize zoom/pan of multiple kymograph viewers\n",
    "# 3-up thumbnail viewer with crosshairs/endpoint correspondences (links) synchronized with kymograph viewer\n",
    "# clicking through a track advances 3-up by one frame\n",
    "# if you press END it finishes track and rewinds to the first unfinished track\n",
    "# automatic tracking: always identify bottom-most endpoint?\n",
    "# can we work out all other correspondences from this? (look at t=14)"
   ]
  }
 ],
 "metadata": {
  "celltoolbar": "Initialization Cell",
  "kernelspec": {
   "display_name": "Python 3",
   "language": "python",
   "name": "python3"
  },
  "language_info": {
   "codemirror_mode": {
    "name": "ipython",
    "version": 3
   },
   "file_extension": ".py",
   "mimetype": "text/x-python",
   "name": "python",
   "nbconvert_exporter": "python",
   "pygments_lexer": "ipython3",
   "version": "3.6.3"
  }
 },
 "nbformat": 4,
 "nbformat_minor": 2
}
