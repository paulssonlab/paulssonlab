{
 "cells": [
  {
   "cell_type": "code",
   "execution_count": null,
   "metadata": {},
   "outputs": [],
   "source": [
    "import numpy as np\n",
    "import pandas as pd\n",
    "import holoviews as hv\n",
    "\n",
    "hv.extension(\"bokeh\")\n",
    "from datetime import datetime, timedelta\n",
    "import iso8601\n",
    "from peewee import fn"
   ]
  },
  {
   "cell_type": "code",
   "execution_count": null,
   "metadata": {},
   "outputs": [],
   "source": [
    "%load_ext autoreload\n",
    "%autoreload 2\n",
    "import inventory\n",
    "from inventory import File\n",
    "import jdutil\n",
    "import pytz"
   ]
  },
  {
   "cell_type": "code",
   "execution_count": null,
   "metadata": {},
   "outputs": [],
   "source": [
    "db = inventory.connect_db(\"data/paulsson.full.db\")"
   ]
  },
  {
   "cell_type": "code",
   "execution_count": null,
   "metadata": {},
   "outputs": [],
   "source": [
    "nyc = pytz.timezone(\"America/New_York\")"
   ]
  },
  {
   "cell_type": "markdown",
   "metadata": {
    "heading_collapsed": true
   },
   "source": [
    "# Database schema migration"
   ]
  },
  {
   "cell_type": "code",
   "execution_count": null,
   "metadata": {
    "hidden": true
   },
   "outputs": [],
   "source": [
    "from playhouse.migrate import *"
   ]
  },
  {
   "cell_type": "code",
   "execution_count": null,
   "metadata": {
    "hidden": true
   },
   "outputs": [],
   "source": [
    "migrator = SqliteMigrator(db)"
   ]
  },
  {
   "cell_type": "code",
   "execution_count": null,
   "metadata": {
    "hidden": true
   },
   "outputs": [],
   "source": [
    "migrate(\n",
    "    migrator.add_column(\"file\", \"uid\", IntegerField(default=-1)),\n",
    "    migrator.add_column(\"file\", \"gid\", IntegerField(default=-1)),\n",
    "    migrator.add_column(\"file\", \"mode\", IntegerField(default=-1)),\n",
    ")"
   ]
  },
  {
   "cell_type": "markdown",
   "metadata": {},
   "source": [
    "# Datetime interpretation"
   ]
  },
  {
   "cell_type": "markdown",
   "metadata": {},
   "source": [
    "## Summary"
   ]
  },
  {
   "cell_type": "markdown",
   "metadata": {},
   "source": [
    "The zero-point for `acquisition_times` is `acquisition_time_nyc`. The last time exposure was taken at about `acquisition_time_nyc + last_frame_dt`, which is a few seconds before the time of last write `mtime`. `dtimeabsolute` and `acquisition_time_nyc + dtimemsec` are the same; it's unclear why this particular time 10 minutes into data acquisition is special."
   ]
  },
  {
   "cell_type": "markdown",
   "metadata": {},
   "source": [
    "## Scratch work"
   ]
  },
  {
   "cell_type": "code",
   "execution_count": null,
   "metadata": {},
   "outputs": [],
   "source": [
    "files = File.select().where(File.type == \"nd2\").order_by(File.size.desc()).limit(10)"
   ]
  },
  {
   "cell_type": "code",
   "execution_count": null,
   "metadata": {},
   "outputs": [],
   "source": [
    "file = files[0]\n",
    "md = file.metadata\n",
    "mtime = nyc.localize(datetime.fromtimestamp(file.mtime))\n",
    "ctime = nyc.localize(datetime.fromtimestamp(file.ctime))"
   ]
  },
  {
   "cell_type": "code",
   "execution_count": null,
   "metadata": {},
   "outputs": [],
   "source": [
    "file.path"
   ]
  },
  {
   "cell_type": "code",
   "execution_count": null,
   "metadata": {},
   "outputs": [],
   "source": [
    "dtimemsec = timedelta(\n",
    "    milliseconds=md[\"image_metadata_sequence\"][\"SLxPictureMetadata\"][\"dTimeMSec\"]\n",
    ")"
   ]
  },
  {
   "cell_type": "code",
   "execution_count": null,
   "metadata": {},
   "outputs": [],
   "source": [
    "dtimeabsolute = pytz.UTC.localize(\n",
    "    jdutil.jd_to_datetime(\n",
    "        md[\"image_metadata_sequence\"][\"SLxPictureMetadata\"][\"dTimeAbsolute\"]\n",
    "    )\n",
    ")\n",
    "dtimeabsolute_nyc = dtimeabsolute.astimezone(nyc)"
   ]
  },
  {
   "cell_type": "code",
   "execution_count": null,
   "metadata": {},
   "outputs": [],
   "source": [
    "acquisition_time = pytz.UTC.localize(\n",
    "    jdutil.jd_to_datetime(float(md[\"acquisition_time\"][\"variant\"][\"no_name\"][\"@value\"]))\n",
    ")\n",
    "acquisition_time_nyc = acquisition_time.astimezone(nyc)"
   ]
  },
  {
   "cell_type": "code",
   "execution_count": null,
   "metadata": {},
   "outputs": [],
   "source": [
    "last_frame_dt = timedelta(milliseconds=md[\"acquisition_times\"][-1])"
   ]
  },
  {
   "cell_type": "code",
   "execution_count": null,
   "metadata": {},
   "outputs": [],
   "source": [
    "acquisition_time_nyc"
   ]
  },
  {
   "cell_type": "code",
   "execution_count": null,
   "metadata": {},
   "outputs": [],
   "source": [
    "acquisition_time_nyc + dtimemsec"
   ]
  },
  {
   "cell_type": "code",
   "execution_count": null,
   "metadata": {},
   "outputs": [],
   "source": [
    "dtimeabsolute_nyc"
   ]
  },
  {
   "cell_type": "code",
   "execution_count": null,
   "metadata": {},
   "outputs": [],
   "source": [
    "acquisition_time_nyc + last_frame_dt"
   ]
  },
  {
   "cell_type": "code",
   "execution_count": null,
   "metadata": {},
   "outputs": [],
   "source": [
    "mtime"
   ]
  },
  {
   "cell_type": "markdown",
   "metadata": {},
   "source": [
    "# TIFF date finding"
   ]
  },
  {
   "cell_type": "code",
   "execution_count": null,
   "metadata": {},
   "outputs": [],
   "source": [
    "tiff_files = (\n",
    "    File.select().where(File.type == \"tiff\").order_by(File.size.desc()).limit(10)\n",
    ")"
   ]
  },
  {
   "cell_type": "code",
   "execution_count": null,
   "metadata": {},
   "outputs": [],
   "source": [
    "tiff_files[0].path"
   ]
  },
  {
   "cell_type": "code",
   "execution_count": null,
   "metadata": {},
   "outputs": [],
   "source": [
    "delta_t = timedelta(\n",
    "    milliseconds=float(\n",
    "        tiff_files[0].metadata[\"image_description\"][\"OME\"][\"Image\"][\"Pixels\"][\"Plane\"][\n",
    "            0\n",
    "        ][\"@DeltaT\"]\n",
    "    )\n",
    ")"
   ]
  },
  {
   "cell_type": "code",
   "execution_count": null,
   "metadata": {},
   "outputs": [],
   "source": [
    "(\n",
    "    iso8601.parse_date(\n",
    "        tiff_files[0].metadata[\"image_description\"][\"OME\"][\"Image\"][\"AcquisitionDate\"]\n",
    "    )\n",
    "    + delta_t\n",
    ")"
   ]
  },
  {
   "cell_type": "code",
   "execution_count": null,
   "metadata": {},
   "outputs": [],
   "source": [
    "tiff_files[0].metadata[\"image_description\"][\"OME\"][\"Image\"][\"Pixels\"][\"Plane\"]"
   ]
  },
  {
   "cell_type": "code",
   "execution_count": null,
   "metadata": {},
   "outputs": [],
   "source": [
    "tiff_files[0].metadata[\"image_description\"][\"OME\"][\"Image\"][\"AcquisitionDate\"]"
   ]
  },
  {
   "cell_type": "markdown",
   "metadata": {},
   "source": [
    "## Summary"
   ]
  },
  {
   "cell_type": "markdown",
   "metadata": {},
   "source": [
    "`@DeltaT` in TIFF OME metadata is actually in msec (spec says seconds), corresponds to `acquisition_times` in ND2. TIFF OME `AcquisitionDate` (expressed as ISO 8601 string, 1 sec resolution) corresponds to `dTimeAbsolute` in ND2. For this file, dTimeMSec seems to be the first entry in `acquisition_times`. This disagrees with what I find above!"
   ]
  },
  {
   "cell_type": "markdown",
   "metadata": {},
   "source": [
    "## Scratch work"
   ]
  },
  {
   "cell_type": "code",
   "execution_count": null,
   "metadata": {},
   "outputs": [],
   "source": [
    "nd2_files = File.select().where(File.type == \"nd2\").order_by(File.size.desc()).limit(40)"
   ]
  },
  {
   "cell_type": "code",
   "execution_count": null,
   "metadata": {},
   "outputs": [],
   "source": [
    "nd2_file = nd2_files[21]"
   ]
  },
  {
   "cell_type": "code",
   "execution_count": null,
   "metadata": {},
   "outputs": [],
   "source": [
    "nd2_file.metadata[\"image_metadata_sequence\"][\"SLxPictureMetadata\"][\"dTimeAbsolute\"]"
   ]
  },
  {
   "cell_type": "code",
   "execution_count": null,
   "metadata": {},
   "outputs": [],
   "source": [
    "nd2_file.metadata[\"acquisition_times\"][:100]"
   ]
  },
  {
   "cell_type": "code",
   "execution_count": null,
   "metadata": {},
   "outputs": [],
   "source": [
    "jds = float(\n",
    "    nd2_file.metadata[\"acquisition_time\"][\"variant\"][\"no_name\"][\"@value\"]\n",
    ") + np.array(nd2_file.metadata[\"acquisition_times\"]) / (1000 * 60 * 60 * 24)\n",
    "jds2 = nd2_file.metadata[\"image_metadata_sequence\"][\"SLxPictureMetadata\"][\n",
    "    \"dTimeAbsolute\"\n",
    "] + np.array(nd2_file.metadata[\"acquisition_times\"]) / (1000 * 60 * 60 * 24)"
   ]
  },
  {
   "cell_type": "code",
   "execution_count": null,
   "metadata": {},
   "outputs": [],
   "source": [
    "pytz.UTC.localize(\n",
    "    jdutil.jd_to_datetime(\n",
    "        nd2_file.metadata[\"image_metadata_sequence\"][\"SLxPictureMetadata\"][\n",
    "            \"dTimeAbsolute\"\n",
    "        ]\n",
    "    )\n",
    ").astimezone(nyc)"
   ]
  },
  {
   "cell_type": "code",
   "execution_count": null,
   "metadata": {},
   "outputs": [],
   "source": [
    "np.array(nd2_file.metadata[\"acquisition_times\"]) / (1000 * 60 * 60 * 24)"
   ]
  },
  {
   "cell_type": "code",
   "execution_count": null,
   "metadata": {},
   "outputs": [],
   "source": [
    "jds"
   ]
  },
  {
   "cell_type": "code",
   "execution_count": null,
   "metadata": {},
   "outputs": [],
   "source": [
    "pytz.UTC.localize(jdutil.jd_to_datetime(jds[53])).astimezone(nyc)"
   ]
  },
  {
   "cell_type": "code",
   "execution_count": null,
   "metadata": {},
   "outputs": [],
   "source": [
    "pytz.UTC.localize(jdutil.jd_to_datetime(jds2[53])).astimezone(nyc)"
   ]
  },
  {
   "cell_type": "code",
   "execution_count": null,
   "metadata": {},
   "outputs": [],
   "source": [
    "pytz.UTC.localize(\n",
    "    jdutil.jd_to_datetime(\n",
    "        nd2_file.metadata[\"image_metadata_sequence\"][\"SLxPictureMetadata\"][\n",
    "            \"dTimeAbsolute\"\n",
    "        ]\n",
    "    )\n",
    ").astimezone(nyc)"
   ]
  },
  {
   "cell_type": "code",
   "execution_count": null,
   "metadata": {},
   "outputs": [],
   "source": [
    "pytz.UTC.localize(\n",
    "    jdutil.jd_to_datetime(\n",
    "        nd2_file.metadata[\"image_metadata_sequence\"][\"SLxPictureMetadata\"][\n",
    "            \"dTimeAbsolute\"\n",
    "        ]\n",
    "    )\n",
    ").astimezone(nyc)"
   ]
  },
  {
   "cell_type": "code",
   "execution_count": null,
   "metadata": {},
   "outputs": [],
   "source": [
    "timedelta(milliseconds=nd2_file.metadata[\"acquisition_times\"][-1])"
   ]
  },
  {
   "cell_type": "code",
   "execution_count": null,
   "metadata": {},
   "outputs": [],
   "source": [
    "acquisition_time = pytz.UTC.localize(\n",
    "    jdutil.jd_to_datetime(\n",
    "        float(nd2_file.metadata[\"acquisition_time\"][\"variant\"][\"no_name\"][\"@value\"])\n",
    "    )\n",
    ")\n",
    "acquisition_time_nyc = acquisition_time.astimezone(nyc)\n",
    "acquisition_time_nyc"
   ]
  },
  {
   "cell_type": "code",
   "execution_count": null,
   "metadata": {},
   "outputs": [],
   "source": [
    "atol = 0.1\n",
    "np.where(\n",
    "    np.logical_and(\n",
    "        np.isclose(nd2_file.metadata[\"x_data\"], -3535.7, atol=atol),\n",
    "        np.isclose(nd2_file.metadata[\"y_data\"], 124.2, atol=atol),\n",
    "        np.isclose(nd2_file.metadata[\"z_data\"], 5463.74, atol=atol),\n",
    "    )\n",
    ")"
   ]
  },
  {
   "cell_type": "markdown",
   "metadata": {},
   "source": [
    "# Correspondence"
   ]
  },
  {
   "cell_type": "code",
   "execution_count": null,
   "metadata": {},
   "outputs": [],
   "source": [
    "nd2_files = File.select().where(File.type == \"nd2\").order_by(File.size.desc()).limit(40)\n",
    "paths = []\n",
    "data = []\n",
    "for nd2_file in nd2_files.iterator():\n",
    "    paths.append(nd2_file.path)\n",
    "    data.append(\n",
    "        (\n",
    "            nd2_file.metadata[\"x_data\"],\n",
    "            nd2_file.metadata[\"y_data\"],\n",
    "            nd2_file.metadata[\"z_data\"],\n",
    "        )\n",
    "    )"
   ]
  },
  {
   "cell_type": "code",
   "execution_count": null,
   "metadata": {},
   "outputs": [],
   "source": [
    "a = np.vstack(data)\n",
    "a.shape"
   ]
  },
  {
   "cell_type": "code",
   "execution_count": null,
   "metadata": {},
   "outputs": [],
   "source": [
    "data[0][0].info"
   ]
  },
  {
   "cell_type": "markdown",
   "metadata": {},
   "source": [
    "# Correspondence 2"
   ]
  },
  {
   "cell_type": "code",
   "execution_count": null,
   "metadata": {},
   "outputs": [],
   "source": [
    "tiff_files = (\n",
    "    File.select().where(File.type == \"tiff\").order_by(File.size.desc()).limit(10)\n",
    ")"
   ]
  },
  {
   "cell_type": "code",
   "execution_count": null,
   "metadata": {},
   "outputs": [],
   "source": [
    "tiff_files[5].path"
   ]
  },
  {
   "cell_type": "code",
   "execution_count": null,
   "metadata": {},
   "outputs": [],
   "source": [
    "tiff_files[5].size"
   ]
  },
  {
   "cell_type": "code",
   "execution_count": null,
   "metadata": {},
   "outputs": [],
   "source": [
    "fs = (\n",
    "    File.select()\n",
    "    .where(File.type == \"nd2\")\n",
    "    .where(\n",
    "        File.path.startswith(\n",
    "            \"/n/files/SysBio/PAULSSON LAB/SILVIA/Ti3Data/2016_05_15--PlasmidLosses\"\n",
    "        )\n",
    "    )\n",
    ")"
   ]
  },
  {
   "cell_type": "code",
   "execution_count": null,
   "metadata": {},
   "outputs": [],
   "source": [
    "fs[0]"
   ]
  },
  {
   "cell_type": "code",
   "execution_count": null,
   "metadata": {},
   "outputs": [],
   "source": [
    "fs[0].size"
   ]
  },
  {
   "cell_type": "code",
   "execution_count": null,
   "metadata": {},
   "outputs": [],
   "source": [
    "File.select(fn.)"
   ]
  },
  {
   "cell_type": "code",
   "execution_count": null,
   "metadata": {},
   "outputs": [],
   "source": [
    "for tiff_file in (\n",
    "    File.select().where(File.type == \"tiff\").order_by(File.size.desc()).limit(10)\n",
    "):\n",
    "    hhhh"
   ]
  },
  {
   "cell_type": "markdown",
   "metadata": {
    "heading_collapsed": true
   },
   "source": [
    "# Old"
   ]
  },
  {
   "cell_type": "code",
   "execution_count": null,
   "metadata": {
    "hidden": true
   },
   "outputs": [],
   "source": [
    "files = (\n",
    "    File.select(File.mtime, File.size)\n",
    "    .where(File.type == \"nd2\")\n",
    "    .where(File.path.startswith(\"/n/files/SysBio/PAULSSON LAB/Silvia\"))\n",
    "    .order_by(File.mtime)\n",
    ")"
   ]
  },
  {
   "cell_type": "code",
   "execution_count": null,
   "metadata": {
    "hidden": true
   },
   "outputs": [],
   "source": [
    "files = (\n",
    "    File.select(File.mtime, File.size, File.path)\n",
    "    .where(File.type == \"nd2\")\n",
    "    .where(File.size > 0.5e12)\n",
    "    .order_by(File.mtime)\n",
    ")"
   ]
  },
  {
   "cell_type": "code",
   "execution_count": null,
   "metadata": {
    "hidden": true
   },
   "outputs": [],
   "source": [
    "f = files[1]"
   ]
  },
  {
   "cell_type": "code",
   "execution_count": null,
   "metadata": {
    "hidden": true
   },
   "outputs": [],
   "source": [
    "f.path"
   ]
  },
  {
   "cell_type": "code",
   "execution_count": null,
   "metadata": {
    "hidden": true
   },
   "outputs": [],
   "source": [
    "sum(f.size for f in files) / 1e12"
   ]
  },
  {
   "cell_type": "code",
   "execution_count": null,
   "metadata": {
    "hidden": true
   },
   "outputs": [],
   "source": [
    "len(files)"
   ]
  },
  {
   "cell_type": "code",
   "execution_count": null,
   "metadata": {
    "hidden": true
   },
   "outputs": [],
   "source": [
    "files[2].mtime"
   ]
  },
  {
   "cell_type": "code",
   "execution_count": null,
   "metadata": {
    "hidden": true
   },
   "outputs": [],
   "source": [
    "mtimes, sizes = zip(*[(f.mtime, f.size) for f in files])"
   ]
  },
  {
   "cell_type": "code",
   "execution_count": null,
   "metadata": {
    "hidden": true
   },
   "outputs": [],
   "source": [
    "sizes = np.array(sizes)"
   ]
  },
  {
   "cell_type": "code",
   "execution_count": null,
   "metadata": {
    "hidden": true
   },
   "outputs": [],
   "source": [
    "cumsizes = np.cumsum(sizes)"
   ]
  },
  {
   "cell_type": "code",
   "execution_count": null,
   "metadata": {
    "hidden": true
   },
   "outputs": [],
   "source": [
    "hv.Curve((mtimes, cumsizes))"
   ]
  },
  {
   "cell_type": "code",
   "execution_count": null,
   "metadata": {
    "hidden": true
   },
   "outputs": [],
   "source": [
    "hv.Histogram?"
   ]
  },
  {
   "cell_type": "code",
   "execution_count": null,
   "metadata": {
    "hidden": true
   },
   "outputs": [],
   "source": [
    "hv.Histogram(*np.histogram(sizes, 100)).opts(plot={\"logy\": False})"
   ]
  },
  {
   "cell_type": "code",
   "execution_count": null,
   "metadata": {
    "hidden": true
   },
   "outputs": [],
   "source": [
    "sizes = np.array([dd[\"size\"] for dd in d])\n",
    "sizes[::-1].sort()"
   ]
  },
  {
   "cell_type": "code",
   "execution_count": null,
   "metadata": {
    "hidden": true
   },
   "outputs": [],
   "source": [
    "plt.hist([dd[\"size\"] for dd in d], bins=100, log=True)"
   ]
  },
  {
   "cell_type": "code",
   "execution_count": null,
   "metadata": {
    "hidden": true
   },
   "outputs": [],
   "source": [
    "plt.figure(figsize=(12, 12))\n",
    "plt.plot(np.cumsum(sizes))"
   ]
  },
  {
   "cell_type": "code",
   "execution_count": null,
   "metadata": {
    "hidden": true
   },
   "outputs": [],
   "source": []
  }
 ],
 "metadata": {
  "kernelspec": {
   "display_name": "Python 3",
   "language": "python",
   "name": "python3"
  }
 },
 "nbformat": 4,
 "nbformat_minor": 2
}
