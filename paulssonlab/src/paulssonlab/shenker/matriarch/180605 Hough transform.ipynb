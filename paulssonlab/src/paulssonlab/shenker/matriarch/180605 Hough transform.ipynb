{
 "cells": [
  {
   "cell_type": "code",
   "execution_count": null,
   "metadata": {},
   "outputs": [],
   "source": [
    "import numpy as np\n",
    "import skimage\n",
    "import skimage.filters\n",
    "import nd2reader\n",
    "import matplotlib.pyplot as plt"
   ]
  },
  {
   "cell_type": "code",
   "execution_count": null,
   "metadata": {},
   "outputs": [],
   "source": [
    "nd2 = nd2reader.ND2Reader(\"/n/scratch2/jqs1/fidelity/all/180405_txnerr.nd2\")"
   ]
  },
  {
   "cell_type": "code",
   "execution_count": null,
   "metadata": {},
   "outputs": [],
   "source": [
    "img = np.asarray(nd2.get_frame_2D(t=0, c=2, v=50))"
   ]
  },
  {
   "cell_type": "code",
   "execution_count": null,
   "metadata": {},
   "outputs": [],
   "source": [
    "plt.figure(figsize=(10, 10))\n",
    "plt.imshow(img)"
   ]
  },
  {
   "cell_type": "code",
   "execution_count": null,
   "metadata": {},
   "outputs": [],
   "source": [
    "bin_img = img > skimage.filters.threshold_otsu(img)"
   ]
  },
  {
   "cell_type": "code",
   "execution_count": null,
   "metadata": {},
   "outputs": [],
   "source": [
    "plt.figure(figsize=(10, 10))\n",
    "plt.imshow(bin_img)"
   ]
  },
  {
   "cell_type": "code",
   "execution_count": null,
   "metadata": {},
   "outputs": [],
   "source": [
    "%%time\n",
    "h, theta, d = skimage.transform.hough_line(bin_img)"
   ]
  },
  {
   "cell_type": "code",
   "execution_count": null,
   "metadata": {},
   "outputs": [],
   "source": [
    "plt.figure(figsize=(15, 15))\n",
    "plt.imshow(h, aspect=0.02)"
   ]
  },
  {
   "cell_type": "code",
   "execution_count": null,
   "metadata": {},
   "outputs": [],
   "source": [
    "# FROM: https://alyssaq.github.io/2014/understanding-hough-transform/\n",
    "def hough_line(img, theta=None):\n",
    "    # Rho and Theta ranges\n",
    "    if theta is None:\n",
    "        theta = np.linspace(-np.pi / 2, np.pi / 2, 180)\n",
    "    width, height = img.shape\n",
    "    diag_len = int(np.ceil(np.sqrt(width * width + height * height)))  # max_dist\n",
    "    rhos = np.linspace(-diag_len, diag_len, diag_len * 2)\n",
    "\n",
    "    # Cache some resuable values\n",
    "    cos_t = np.cos(theta)\n",
    "    sin_t = np.sin(theta)\n",
    "    num_thetas = len(theta)\n",
    "\n",
    "    # Hough accumulator array of theta vs rho\n",
    "    accumulator = np.zeros((2 * diag_len, num_thetas), dtype=np.uint64)\n",
    "    y_idxs, x_idxs = np.nonzero(img)  # (row, col) indexes to edges\n",
    "\n",
    "    # Vote in the hough accumulator\n",
    "    for i in range(len(x_idxs)):\n",
    "        x = x_idxs[i]\n",
    "        y = y_idxs[i]\n",
    "        rho = np.round(x * cos_t + y * sin_t).astype(np.int) + diag_len\n",
    "        accumulator[rho, np.arange(num_thetas)] += 1\n",
    "\n",
    "    return accumulator, theta, rhos"
   ]
  },
  {
   "cell_type": "code",
   "execution_count": null,
   "metadata": {},
   "outputs": [],
   "source": [
    "plt.imshow(bin_img[100:500, :])"
   ]
  },
  {
   "cell_type": "code",
   "execution_count": null,
   "metadata": {},
   "outputs": [],
   "source": [
    "%%time\n",
    "h2, theta2, d2 = hough_line(bin_img)"
   ]
  },
  {
   "cell_type": "code",
   "execution_count": null,
   "metadata": {},
   "outputs": [],
   "source": [
    "h.shape"
   ]
  },
  {
   "cell_type": "code",
   "execution_count": null,
   "metadata": {},
   "outputs": [],
   "source": [
    "h2.shape"
   ]
  },
  {
   "cell_type": "code",
   "execution_count": null,
   "metadata": {},
   "outputs": [],
   "source": [
    "plt.figure(figsize=(10, 10))\n",
    "plt.imshow(h2, aspect=0.02)"
   ]
  },
  {
   "cell_type": "code",
   "execution_count": null,
   "metadata": {},
   "outputs": [],
   "source": [
    "plt.figure(figsize=(10, 10))\n",
    "plt.imshow(h - h2, aspect=0.02)"
   ]
  },
  {
   "cell_type": "code",
   "execution_count": null,
   "metadata": {},
   "outputs": [],
   "source": [
    "bin_img.dtype"
   ]
  },
  {
   "cell_type": "code",
   "execution_count": null,
   "metadata": {},
   "outputs": [],
   "source": [
    "np.iinfo(bin_img.dtype)"
   ]
  },
  {
   "cell_type": "code",
   "execution_count": null,
   "metadata": {},
   "outputs": [],
   "source": [
    "def _accumulator_dtype(dtype):\n",
    "    if np.issubdtype(dtype, np.bool_):\n",
    "        return np.uint64\n",
    "    elif np.issubdtype(dtype, np.signedinteger):\n",
    "        return np.int64\n",
    "    elif np.issubdtype(dtype, np.unsignedinteger):\n",
    "        return np.uint64\n",
    "    elif np.issubdtype(dtype, np.floating):\n",
    "        return np.float64\n",
    "    elif np.issubdtype(dtype, np.complex):\n",
    "        return np.complex128\n",
    "    else:\n",
    "        return NotImplementedError\n",
    "\n",
    "\n",
    "# FROM: https://alyssaq.github.io/2014/understanding-hough-transform/\n",
    "def hough_line_intensity(img, theta=None):\n",
    "    # Rho and Theta ranges\n",
    "    if theta is None:\n",
    "        theta = np.linspace(-np.pi / 2, np.pi / 2, 180)\n",
    "    width, height = img.shape\n",
    "    diag_len = int(np.ceil(np.sqrt(width * width + height * height)))\n",
    "    rhos = np.linspace(-diag_len, diag_len, diag_len * 2)\n",
    "\n",
    "    # Cache some resuable values\n",
    "    cos_t = np.cos(theta)\n",
    "    sin_t = np.sin(theta)\n",
    "    num_thetas = len(theta)\n",
    "\n",
    "    # Hough accumulator array of theta vs rho\n",
    "    accumulator = np.zeros(\n",
    "        (2 * diag_len, num_thetas), dtype=_accumulator_dtype(img.dtype)\n",
    "    )  # TODO: dtype\n",
    "\n",
    "    # Vote in the hough accumulator\n",
    "    for i in range(img.shape[0]):\n",
    "        for j in range(img.shape[1]):\n",
    "            if img[i, j] == 0:  # optimization for boolean input images\n",
    "                continue\n",
    "            rho = np.round(i * sin_t + j * cos_t).astype(np.int_) + diag_len\n",
    "            accumulator[rho, np.arange(num_thetas)] += img[i, j]\n",
    "\n",
    "    return accumulator, theta, rhos"
   ]
  },
  {
   "cell_type": "code",
   "execution_count": null,
   "metadata": {},
   "outputs": [],
   "source": [
    "%%time\n",
    "h3, theta3, d3 = hough_line_intensity(bin_img)"
   ]
  },
  {
   "cell_type": "code",
   "execution_count": null,
   "metadata": {},
   "outputs": [],
   "source": [
    "%%time\n",
    "h4, theta4, d4 = hough_line_intensity(img)"
   ]
  },
  {
   "cell_type": "code",
   "execution_count": null,
   "metadata": {},
   "outputs": [],
   "source": [
    "plt.figure(figsize=(10, 10))\n",
    "plt.imshow(h[3000:3200, 80:100], aspect=0.1)"
   ]
  },
  {
   "cell_type": "code",
   "execution_count": null,
   "metadata": {},
   "outputs": [],
   "source": [
    "plt.figure(figsize=(10, 10))\n",
    "plt.imshow(h4[3000:3200, 80:100], aspect=0.1)"
   ]
  },
  {
   "cell_type": "code",
   "execution_count": null,
   "metadata": {},
   "outputs": [],
   "source": [
    "plt.figure(figsize=(10, 10))\n",
    "plt.plot(h[3000:3200, 90] / h.max())\n",
    "plt.plot(h4[3000:3200, 90] / h4.max())"
   ]
  },
  {
   "cell_type": "code",
   "execution_count": null,
   "metadata": {},
   "outputs": [],
   "source": [
    "h3"
   ]
  },
  {
   "cell_type": "code",
   "execution_count": null,
   "metadata": {},
   "outputs": [],
   "source": [
    "plt.figure(figsize=(10, 10))\n",
    "plt.imshow((h3.astype(np.int64) - h2), aspect=0.02)"
   ]
  },
  {
   "cell_type": "code",
   "execution_count": null,
   "metadata": {},
   "outputs": [],
   "source": [
    "(h3.astype(np.int64) - h).max()"
   ]
  },
  {
   "cell_type": "code",
   "execution_count": null,
   "metadata": {},
   "outputs": [],
   "source": [
    "h.max()"
   ]
  },
  {
   "cell_type": "code",
   "execution_count": null,
   "metadata": {},
   "outputs": [],
   "source": [
    "(h / 902 - h3 / h3.max()).max()"
   ]
  },
  {
   "cell_type": "code",
   "execution_count": null,
   "metadata": {},
   "outputs": [],
   "source": [
    "h3.max()"
   ]
  },
  {
   "cell_type": "code",
   "execution_count": null,
   "metadata": {},
   "outputs": [],
   "source": [
    "plt.scatter(h.flat, h3.flat)"
   ]
  },
  {
   "cell_type": "code",
   "execution_count": null,
   "metadata": {},
   "outputs": [],
   "source": []
  }
 ],
 "metadata": {
  "kernelspec": {
   "display_name": "Python 3",
   "language": "python",
   "name": "python3"
  },
  "language_info": {
   "codemirror_mode": {
    "name": "ipython",
    "version": 3
   },
   "file_extension": ".py",
   "mimetype": "text/x-python",
   "name": "python",
   "nbconvert_exporter": "python",
   "pygments_lexer": "ipython3",
   "version": "3.6.5"
  }
 },
 "nbformat": 4,
 "nbformat_minor": 2
}
