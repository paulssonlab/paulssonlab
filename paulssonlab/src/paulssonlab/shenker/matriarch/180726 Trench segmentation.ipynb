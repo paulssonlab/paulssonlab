{
 "cells": [
  {
   "cell_type": "markdown",
   "metadata": {},
   "source": [
    "# Imports"
   ]
  },
  {
   "cell_type": "code",
   "execution_count": null,
   "metadata": {},
   "outputs": [],
   "source": [
    "import numpy as np\n",
    "import pandas as pd\n",
    "import pyarrow as pa\n",
    "import pyarrow.parquet as pq\n",
    "import pyarrow.feather as feather\n",
    "import zarr\n",
    "import dask\n",
    "from dask import delayed\n",
    "import distributed\n",
    "from distributed import Client, LocalCluster, progress\n",
    "from dask_jobqueue import SLURMCluster\n",
    "import streamz\n",
    "import streamz.dataframe as sdf\n",
    "import holoviews as hv\n",
    "from holoviews.streams import Stream, param\n",
    "from holoviews.operation.datashader import regrid\n",
    "from bokeh.models.tools import HoverTool\n",
    "import matplotlib.pyplot as plt\n",
    "import qgrid\n",
    "import ipywidgets as widgets\n",
    "from tqdm import tnrange, tqdm, tqdm_notebook\n",
    "import warnings\n",
    "from functools import partial\n",
    "from cytoolz import *\n",
    "from operator import getitem\n",
    "import nd2reader\n",
    "from importlib import reload\n",
    "import traceback\n",
    "import hvplot.pandas\n",
    "import param\n",
    "import parambokeh\n",
    "from traitlets import All\n",
    "import cachetools\n",
    "from collections import namedtuple, defaultdict\n",
    "from collections.abc import Mapping, Sequence\n",
    "from numbers import Number\n",
    "import skimage.morphology\n",
    "import scipy\n",
    "from glob import glob\n",
    "\n",
    "IDX = pd.IndexSlice"
   ]
  },
  {
   "cell_type": "code",
   "execution_count": null,
   "metadata": {},
   "outputs": [],
   "source": [
    "%load_ext autoreload\n",
    "%autoreload 2"
   ]
  },
  {
   "cell_type": "code",
   "execution_count": null,
   "metadata": {},
   "outputs": [],
   "source": [
    "# from processing import *\n",
    "# from trench_detection import *\n",
    "# from trench_segmentation import *\n",
    "# from trench_segmentation.watershed import *\n",
    "# from util import *\n",
    "# from ui import *\n",
    "import common, trench_detection, util\n",
    "import ui, diagnostics, metadata\n",
    "import workflow, image, geometry\n",
    "import trench_detection.hough, trench_detection.core\n",
    "import trench_segmentation.watershed"
   ]
  },
  {
   "cell_type": "code",
   "execution_count": null,
   "metadata": {},
   "outputs": [],
   "source": [
    "%load_ext line_profiler\n",
    "hv.extension(\"bokeh\")\n",
    "%matplotlib inline\n",
    "tqdm.monitor_interval = 0"
   ]
  },
  {
   "cell_type": "markdown",
   "metadata": {},
   "source": [
    "# Restore data"
   ]
  },
  {
   "cell_type": "code",
   "execution_count": null,
   "metadata": {},
   "outputs": [],
   "source": [
    "%store -r trench_points\n",
    "%store -r trench_diag\n",
    "%store -r trench_bboxes"
   ]
  },
  {
   "cell_type": "markdown",
   "metadata": {},
   "source": [
    "# Config"
   ]
  },
  {
   "cell_type": "code",
   "execution_count": null,
   "metadata": {},
   "outputs": [],
   "source": [
    "cluster = SLURMCluster(\n",
    "    queue=\"short\",\n",
    "    walltime=\"01:00:00\",\n",
    "    # job_extra=['-p transfer'],\n",
    "    # job_extra=['--cores-per-socket=8'],\n",
    "    # interface='ib0',\n",
    "    memory=\"4GB\",\n",
    "    local_directory=\"/tmp\",\n",
    "    cores=1,\n",
    "    processes=1,\n",
    "    # diagnostics_port=('127.0.0.1', 8787),\n",
    "    env_extra=['export PYTHONPATH=\"/home/jqs1/projects/matriarch\"'],\n",
    ")\n",
    "client = Client(cluster)"
   ]
  },
  {
   "cell_type": "code",
   "execution_count": null,
   "metadata": {},
   "outputs": [],
   "source": [
    "cluster._widget().children[1].children[1].children[0].children[0].layout.width = \"200px\"\n",
    "cluster"
   ]
  },
  {
   "cell_type": "code",
   "execution_count": null,
   "metadata": {},
   "outputs": [],
   "source": [
    "[w for cluster.running_jobs"
   ]
  },
  {
   "cell_type": "code",
   "execution_count": null,
   "metadata": {},
   "outputs": [],
   "source": [
    "cluster.stop_jobs(cluster.running_jobs.keys())"
   ]
  },
  {
   "cell_type": "code",
   "execution_count": null,
   "metadata": {},
   "outputs": [],
   "source": [
    "# client = Client()"
   ]
  },
  {
   "cell_type": "markdown",
   "metadata": {},
   "source": [
    "# Loading data"
   ]
  },
  {
   "cell_type": "code",
   "execution_count": null,
   "metadata": {},
   "outputs": [],
   "source": [
    "# nd2_filenames = ['/n/scratch2/jqs1/fidelity/all/180405_txnerr.nd2', '/n/scratch2/jqs1/fidelity/all/180405_txnerr001.nd2']\n",
    "# nd2_filenames = ['/n/scratch2/jqs1/fidelity/all/180405_txnerr002.nd2']#, '/n/scratch2/jqs1/fidelity/all/TrErr002_Exp.nd2']\n",
    "# nd2_filenames = ['/n/scratch2/jqs1/fidelity/all/TrErr002_Exp.nd2']\n",
    "# nd2_filenames = ['/n/scratch2/jqs1/fidelity/all/180405_txnerr.nd2', '/n/scratch2/jqs1/fidelity/all/180405_txnerr001.nd2',\n",
    "#                 '/n/scratch2/jqs1/fidelity/all/180405_txnerr002.nd2', '/n/scratch2/jqs1/fidelity/all/TrErr002_Exp.nd2']\n",
    "# nd2_filenames = ['/home/jqs1/scratch/fidelity/180518_triplegrowthcurve/PHASE_GC001.nd2', '/home/jqs1/scratch/fidelity/180518_triplegrowthcurve/PHASE_GC002.nd2']\n",
    "nd2_filenames = glob(\"/n/scratch2/jqs1/fidelity/all/180405_*.nd2\") + glob(\n",
    "    \"/n/scratch2/jqs1/fidelity/all/TrErr*.nd2\"\n",
    ")"
   ]
  },
  {
   "cell_type": "code",
   "execution_count": null,
   "metadata": {},
   "outputs": [],
   "source": [
    "all_frames, metadata, parsed_metadata = workflow.get_nd2_frame_list(nd2_filenames)\n",
    "image_limits = workflow.get_filename_image_limits(metadata)"
   ]
  },
  {
   "cell_type": "markdown",
   "metadata": {},
   "source": [
    "# Reload"
   ]
  },
  {
   "cell_type": "code",
   "execution_count": null,
   "metadata": {},
   "outputs": [],
   "source": [
    "def do_reload():\n",
    "    from importlib import reload\n",
    "    import util, trench_detection, diagnostics, workflow, image\n",
    "\n",
    "    # reload(util)\n",
    "    # reload(trench_detection.hough)\n",
    "    # reload(diagnostics)\n",
    "    reload(workflow)\n",
    "    # reload(image)\n",
    "\n",
    "\n",
    "client.run(do_reload)\n",
    "do_reload()"
   ]
  },
  {
   "cell_type": "markdown",
   "metadata": {},
   "source": [
    "# Finding trenches"
   ]
  },
  {
   "cell_type": "code",
   "execution_count": null,
   "metadata": {},
   "outputs": [],
   "source": [
    "frames_to_process = all_frames.loc[IDX[:, :, [\"MCHERRY\"], 0], :]"
   ]
  },
  {
   "cell_type": "code",
   "execution_count": null,
   "metadata": {},
   "outputs": [],
   "source": [
    "len(frames_to_process)"
   ]
  },
  {
   "cell_type": "markdown",
   "metadata": {},
   "source": [
    "## Run trench finding"
   ]
  },
  {
   "cell_type": "code",
   "execution_count": null,
   "metadata": {},
   "outputs": [],
   "source": [
    "%%time\n",
    "find_trenches_diag = diagnostics.wrap_diagnostics(\n",
    "    trench_detection.hough.find_trenches, ignore_exceptions=True, pandas=True\n",
    ")\n",
    "trench_info_futures = {\n",
    "    idx: client.submit(\n",
    "        find_trenches_diag, client.submit(workflow.get_nd2_frame, **idx._asdict())\n",
    "    )\n",
    "    for idx, row in util.iter_index(frames_to_process)\n",
    "}"
   ]
  },
  {
   "cell_type": "code",
   "execution_count": null,
   "metadata": {},
   "outputs": [],
   "source": [
    "client.cancel(trench_info_futures)"
   ]
  },
  {
   "cell_type": "code",
   "execution_count": null,
   "metadata": {},
   "outputs": [],
   "source": [
    "def as_completed(obj, with_results=True):\n",
    "    if isinstance(obj, Mapping):\n",
    "        futures = obj.values()\n",
    "        dask_to_keys = {future.key: k for k, future in obj.items()}\n",
    "    else:\n",
    "        raise NotImplementedError\n",
    "    for res in distributed.as_completed(futures, with_results=with_results):\n",
    "        if with_results:\n",
    "            future, result = res\n",
    "            yield dask_to_keys[future.key], future, result\n",
    "        else:\n",
    "            future = res\n",
    "            yield dask_to_keys[future.key], future"
   ]
  },
  {
   "cell_type": "code",
   "execution_count": null,
   "metadata": {},
   "outputs": [],
   "source": [
    "trench_info = {}\n",
    "for key, fut, res in as_completed(trench_info_futures):\n",
    "    trench_info[key] = res\n",
    "    client.cancel(fut)"
   ]
  },
  {
   "cell_type": "code",
   "execution_count": null,
   "metadata": {},
   "outputs": [],
   "source": [
    "progress(trench_info_futures)"
   ]
  },
  {
   "cell_type": "code",
   "execution_count": null,
   "metadata": {},
   "outputs": [],
   "source": [
    "%%time\n",
    "trench_info = util.apply_map_futures(\n",
    "    client.gather, trench_info_futures, predicate=lambda x: x.status == \"error\"\n",
    ")"
   ]
  },
  {
   "cell_type": "code",
   "execution_count": null,
   "metadata": {},
   "outputs": [],
   "source": [
    "%%time\n",
    "%store trench_info"
   ]
  },
  {
   "cell_type": "code",
   "execution_count": null,
   "metadata": {},
   "outputs": [],
   "source": [
    "len(trench_info)"
   ]
  },
  {
   "cell_type": "code",
   "execution_count": null,
   "metadata": {},
   "outputs": [],
   "source": [
    "len(errs)"
   ]
  },
  {
   "cell_type": "code",
   "execution_count": null,
   "metadata": {},
   "outputs": [],
   "source": [
    "errs = {k: v[2] for k, v in trench_info.items() if v[2] is not None}\n",
    "errs"
   ]
  },
  {
   "cell_type": "code",
   "execution_count": null,
   "metadata": {},
   "outputs": [],
   "source": [
    "%%time\n",
    "trench_points, trench_diag, trench_err = workflow.unzip_trench_info(trench_info)"
   ]
  },
  {
   "cell_type": "code",
   "execution_count": null,
   "metadata": {},
   "outputs": [],
   "source": [
    "len(trench_points)"
   ]
  },
  {
   "cell_type": "code",
   "execution_count": null,
   "metadata": {},
   "outputs": [],
   "source": [
    "%%time\n",
    "%store trench_points\n",
    "%store trench_diag"
   ]
  },
  {
   "cell_type": "markdown",
   "metadata": {},
   "source": [
    "## Analysis"
   ]
  },
  {
   "cell_type": "code",
   "execution_count": null,
   "metadata": {},
   "outputs": [],
   "source": [
    "bad_angle = trench_diag[\"find_trench_lines.hough_2.angle\"].abs() > 2\n",
    "bad_angle.sum()"
   ]
  },
  {
   "cell_type": "code",
   "execution_count": null,
   "metadata": {},
   "outputs": [],
   "source": [
    "bad_pitch = (trench_diag[\"find_trench_lines.hough_2.peak_func.pitch\"] - 24).abs() > 1\n",
    "bad_pitch.sum()"
   ]
  },
  {
   "cell_type": "code",
   "execution_count": null,
   "metadata": {},
   "outputs": [],
   "source": [
    "selected = trench_diag[bad_pitch]  # trench_diag[bad_angle | bad_period]"
   ]
  },
  {
   "cell_type": "code",
   "execution_count": null,
   "metadata": {},
   "outputs": [],
   "source": [
    "frame_stream.event(_df=selected.index.to_frame(index=False))"
   ]
  },
  {
   "cell_type": "code",
   "execution_count": null,
   "metadata": {},
   "outputs": [],
   "source": [
    "%%time\n",
    "trench_points_good = trench_points[~util.multi_join(trench_points.index, bad_pitch)]"
   ]
  },
  {
   "cell_type": "code",
   "execution_count": null,
   "metadata": {},
   "outputs": [],
   "source": [
    "(len(trench_points_good), len(trench_points_good) / len(trench_points))"
   ]
  },
  {
   "cell_type": "code",
   "execution_count": null,
   "metadata": {},
   "outputs": [],
   "source": [
    "%%time\n",
    "trench_bbox_futures = []\n",
    "for _, trenches in trench_points_good.groupby([\"filename\", \"position\", \"t\"]):\n",
    "    trench_bbox_futures.append(\n",
    "        client.submit(workflow.get_trench_bboxes, trenches, image_limits)\n",
    "    )"
   ]
  },
  {
   "cell_type": "code",
   "execution_count": null,
   "metadata": {},
   "outputs": [],
   "source": [
    "%%time\n",
    "trench_bbox_results = util.apply_map_futures(\n",
    "    client.gather, trench_bbox_futures, predicate=lambda x: x.status == \"finished\"\n",
    ")\n",
    "trench_bboxes = pd.concat(\n",
    "    [trench_points_good, pd.concat(trench_bbox_results, axis=0)], axis=1\n",
    ")"
   ]
  },
  {
   "cell_type": "code",
   "execution_count": null,
   "metadata": {},
   "outputs": [],
   "source": [
    "%%time\n",
    "%store trench_bboxes"
   ]
  },
  {
   "cell_type": "code",
   "execution_count": null,
   "metadata": {},
   "outputs": [],
   "source": [
    "%store -r trench_bboxes"
   ]
  },
  {
   "cell_type": "code",
   "execution_count": null,
   "metadata": {},
   "outputs": [],
   "source": [
    "trench_bboxes_t0 = util.get_one(trench_bboxes.groupby(\"t\"))[1]\n",
    "# trench_bboxes_t0.index = trench_points_good_t0.index.droplevel('t')"
   ]
  },
  {
   "cell_type": "markdown",
   "metadata": {},
   "source": [
    "# Trench finding QA"
   ]
  },
  {
   "cell_type": "code",
   "execution_count": null,
   "metadata": {},
   "outputs": [],
   "source": [
    "selected = all_frames"
   ]
  },
  {
   "cell_type": "code",
   "execution_count": null,
   "metadata": {},
   "outputs": [],
   "source": [
    "FrameStream = ui.DataframeStream.define(\n",
    "    \"FrameStream\", selected.index.to_frame(index=False)\n",
    ")\n",
    "frame_stream = FrameStream()\n",
    "\n",
    "box = ui.dataframe_browser(frame_stream)\n",
    "frame_stream.event()\n",
    "box"
   ]
  },
  {
   "cell_type": "code",
   "execution_count": null,
   "metadata": {},
   "outputs": [],
   "source": [
    "ui.image_viewer(frame_stream)"
   ]
  },
  {
   "cell_type": "code",
   "execution_count": null,
   "metadata": {},
   "outputs": [],
   "source": [
    "ui.show_frame_info(trench_diag, frame_stream)"
   ]
  },
  {
   "cell_type": "code",
   "execution_count": null,
   "metadata": {},
   "outputs": [],
   "source": [
    "g = ui.show_grid(selected, stream=frame_stream)\n",
    "g"
   ]
  },
  {
   "cell_type": "code",
   "execution_count": null,
   "metadata": {},
   "outputs": [],
   "source": [
    "frame = workflow.get_nd2_frame(**dict(frame_stream.get_param_values()))"
   ]
  },
  {
   "cell_type": "code",
   "execution_count": null,
   "metadata": {},
   "outputs": [],
   "source": [
    "tp, diag, _ = diagnostics.wrap_diagnostics(\n",
    "    trench_detection.hough.find_trenches, ignore_exceptions=False\n",
    ")(frame_rot)"
   ]
  },
  {
   "cell_type": "code",
   "execution_count": null,
   "metadata": {},
   "outputs": [],
   "source": [
    "ui.show_plot_browser(diag)"
   ]
  },
  {
   "cell_type": "markdown",
   "metadata": {},
   "source": [
    "# Segmentation"
   ]
  },
  {
   "cell_type": "code",
   "execution_count": null,
   "metadata": {},
   "outputs": [],
   "source": [
    "selected_trenches_segmentation = trench_bboxes[\n",
    "    trench_bboxes[(\"info\", \"hough_value\")] > 90\n",
    "].loc[IDX[:, :, [\"MCHERRY\"], 0, :, :], :]"
   ]
  },
  {
   "cell_type": "code",
   "execution_count": null,
   "metadata": {},
   "outputs": [],
   "source": [
    "# frames_to_analyze = all_frames.loc[IDX[:,:1,['MCHERRY','YFP'],1:5],:]\n",
    "frames_to_analyze = all_frames.loc[IDX[:, :10, [\"MCHERRY\", \"YFP\"], :], :]"
   ]
  },
  {
   "cell_type": "code",
   "execution_count": null,
   "metadata": {},
   "outputs": [],
   "source": [
    "(\n",
    "    len(frames_to_analyze),\n",
    "    len(all_frames.loc[IDX[:, :, [\"MCHERRY\", \"YFP\"], :], :]) / len(frames_to_analyze),\n",
    ")"
   ]
  },
  {
   "cell_type": "code",
   "execution_count": null,
   "metadata": {},
   "outputs": [],
   "source": [
    "%%time\n",
    "labelwise_funcs = {\n",
    "    \"mean\": np.mean,\n",
    "    \"min\": np.min,\n",
    "    \"max\": np.max,\n",
    "    (\"p0.3\", \"p0.5\", \"p0.7\", \"p0.9\", \"p0.95\"): partial(\n",
    "        np.percentile, q=(30, 50, 70, 90, 95)\n",
    "    ),\n",
    "}\n",
    "trenchwise_funcs = {\"sharpness\": image.sharpness, **labelwise_funcs}\n",
    "framewise_funcs = {\"sharpness\": image.sharpness, **labelwise_funcs}\n",
    "\n",
    "analyze_trench_func = partial(\n",
    "    workflow.analyze_trenches,\n",
    "    framewise_funcs=framewise_funcs,\n",
    "    trenchwise_funcs=trenchwise_funcs,\n",
    "    labelwise_funcs=labelwise_funcs,\n",
    "    regionprops=False,\n",
    "    segment_func=trench_segmentation.watershed.segment_trench,\n",
    ")\n",
    "\n",
    "analyze_trench_func = partial(client.submit, analyze_trench_func)\n",
    "\n",
    "analysis_futures = workflow.analyze_frames_and_trenches(\n",
    "    selected_trenches_segmentation, frames_to_analyze, analyze_trench_func\n",
    ")\n",
    "\n",
    "# display(trenchwise_df)"
   ]
  },
  {
   "cell_type": "code",
   "execution_count": null,
   "metadata": {},
   "outputs": [],
   "source": [
    "client.cancel(analysis_futures)"
   ]
  },
  {
   "cell_type": "code",
   "execution_count": null,
   "metadata": {},
   "outputs": [],
   "source": [
    "progress(analysis_futures)"
   ]
  },
  {
   "cell_type": "code",
   "execution_count": null,
   "metadata": {},
   "outputs": [],
   "source": [
    "util.apply_map_futures(\n",
    "    client.gather, analysis_futures, predicate=lambda x: x.status == \"error\"\n",
    ")"
   ]
  },
  {
   "cell_type": "code",
   "execution_count": null,
   "metadata": {},
   "outputs": [],
   "source": [
    "%%time\n",
    "ac = distributed.as_completed(analysis_futures, with_results=True)\n",
    "writers = {}\n",
    "for future, dfs in ac:\n",
    "    # for future in analysis_futures:\n",
    "    #    dfs = client.gather(future)\n",
    "    # for dfs in analysis_res:\n",
    "    try:\n",
    "        tables = [pa.Table.from_pandas(df) for df in dfs]\n",
    "        for i in range(len(tables)):\n",
    "            if i not in writers:\n",
    "                writers[i] = pq.ParquetWriter(\n",
    "                    \"/n/scratch2/jqs1/fidelity/all/output/analysis10_ac_{}.parquet\".format(\n",
    "                        i\n",
    "                    ),\n",
    "                    tables[i].schema,\n",
    "                )\n",
    "            writers[i].write_table(tables[i])\n",
    "        client.cancel(future)\n",
    "    except Exception as e:\n",
    "        print(\"ERROR\", e)\n",
    "for writer in writers.values():\n",
    "    writer.close()"
   ]
  },
  {
   "cell_type": "code",
   "execution_count": null,
   "metadata": {},
   "outputs": [],
   "source": [
    "for writer in writers.values():\n",
    "    writer.close()"
   ]
  },
  {
   "cell_type": "code",
   "execution_count": null,
   "metadata": {},
   "outputs": [],
   "source": [
    "%%time\n",
    "analysis_res = util.apply_map_futures(\n",
    "    client.gather, analysis_futures, predicate=lambda x: x.status == \"finished\"\n",
    ")"
   ]
  },
  {
   "cell_type": "code",
   "execution_count": null,
   "metadata": {},
   "outputs": [],
   "source": [
    "%%time\n",
    "framewise_df, trenchwise_df, labelwise_df = workflow.concat_unzip_dataframes(\n",
    "    analysis_res\n",
    ")"
   ]
  },
  {
   "cell_type": "code",
   "execution_count": null,
   "metadata": {},
   "outputs": [],
   "source": [
    "%%time\n",
    "with open(\"/n/scratch2/jqs1/fidelity/all/output/framewise10.feather\", \"wb\") as f:\n",
    "    feather.write_feather(framewise_df, f)"
   ]
  },
  {
   "cell_type": "code",
   "execution_count": null,
   "metadata": {},
   "outputs": [],
   "source": [
    "%%time\n",
    "with open(\"/n/scratch2/jqs1/fidelity/all/output/trenchwise10.feather\", \"wb\") as f:\n",
    "    feather.write_feather(trenchwise_df, f)"
   ]
  },
  {
   "cell_type": "code",
   "execution_count": null,
   "metadata": {},
   "outputs": [],
   "source": [
    "%%time\n",
    "with open(\"/n/scratch2/jqs1/fidelity/all/output/labelwise10.feather\", \"wb\") as f:\n",
    "    feather.write_feather(labelwise_df, f)"
   ]
  },
  {
   "cell_type": "code",
   "execution_count": null,
   "metadata": {},
   "outputs": [],
   "source": [
    "%%time\n",
    "pq.write_table(\n",
    "    pa.Table.from_pandas(labelwise_df),\n",
    "    \"/n/scratch2/jqs1/fidelity/all/output/labelwise10.parquet\",\n",
    ")"
   ]
  },
  {
   "cell_type": "code",
   "execution_count": null,
   "metadata": {},
   "outputs": [],
   "source": [
    "labelwise_df.info(memory_usage=\"deep\")"
   ]
  },
  {
   "cell_type": "code",
   "execution_count": null,
   "metadata": {},
   "outputs": [],
   "source": [
    "labelwise_df.reset_index().groupby(\n",
    "    [\"filename\", \"position\", \"t\", \"trench_set\", \"trench\"]\n",
    ").count()"
   ]
  },
  {
   "cell_type": "markdown",
   "metadata": {},
   "source": [
    "# Analysis"
   ]
  },
  {
   "cell_type": "markdown",
   "metadata": {},
   "source": [
    "## Load data"
   ]
  },
  {
   "cell_type": "code",
   "execution_count": null,
   "metadata": {},
   "outputs": [],
   "source": [
    "%%time\n",
    "framewise_df = pq.read_pandas(\n",
    "    \"/n/scratch2/jqs1/fidelity/all/output/analysis3_ac_0.parquet\"\n",
    ").to_pandas()"
   ]
  },
  {
   "cell_type": "code",
   "execution_count": null,
   "metadata": {},
   "outputs": [],
   "source": [
    "%%time\n",
    "trenchwise_df = pq.read_pandas(\n",
    "    \"/n/scratch2/jqs1/fidelity/all/output/analysis3_ac_1.parquet\"\n",
    ").to_pandas()"
   ]
  },
  {
   "cell_type": "code",
   "execution_count": null,
   "metadata": {},
   "outputs": [],
   "source": [
    "%%time\n",
    "labelwise_df = pq.read_table(\n",
    "    \"/n/scratch2/jqs1/fidelity/all/output/analysis3_ac_2.parquet\"\n",
    ").to_pandas()"
   ]
  },
  {
   "cell_type": "code",
   "execution_count": null,
   "metadata": {},
   "outputs": [],
   "source": [
    "labelwise_df.index.names = [\n",
    "    \"filename\",\n",
    "    \"position\",\n",
    "    \"t\",\n",
    "    \"trench_set\",\n",
    "    \"trench\",\n",
    "    \"label\",\n",
    "]\n",
    "labelwise_df.sort_index(inplace=True)"
   ]
  },
  {
   "cell_type": "code",
   "execution_count": null,
   "metadata": {},
   "outputs": [],
   "source": [
    "%%time\n",
    "trenchwise_df = feather.read_feather(\n",
    "    \"/home/jqs1/scratch/fidelity/all/output/trenchwise10_df2.feather\"\n",
    ")"
   ]
  },
  {
   "cell_type": "code",
   "execution_count": null,
   "metadata": {},
   "outputs": [],
   "source": [
    "%%time\n",
    "labelwise_df = feather.read_feather(\n",
    "    \"/home/jqs1/scratch/fidelity/all/output/labelwise10_df2.feather\"\n",
    ")"
   ]
  },
  {
   "cell_type": "code",
   "execution_count": null,
   "metadata": {},
   "outputs": [],
   "source": [
    "len(labelwise_df)"
   ]
  },
  {
   "cell_type": "code",
   "execution_count": null,
   "metadata": {},
   "outputs": [],
   "source": [
    "framewise_df.head()"
   ]
  },
  {
   "cell_type": "code",
   "execution_count": null,
   "metadata": {},
   "outputs": [],
   "source": [
    "trenchwise_df.head()"
   ]
  },
  {
   "cell_type": "code",
   "execution_count": null,
   "metadata": {},
   "outputs": [],
   "source": [
    "labelwise_df.head()"
   ]
  },
  {
   "cell_type": "markdown",
   "metadata": {},
   "source": [
    "## Basic stats"
   ]
  },
  {
   "cell_type": "code",
   "execution_count": null,
   "metadata": {},
   "outputs": [],
   "source": [
    "labelwise_df2 = labelwise_df.copy()\n",
    "labelwise_df2.columns = [\"_\".join(col).strip() for col in labelwise_df.columns.values]"
   ]
  },
  {
   "cell_type": "code",
   "execution_count": null,
   "metadata": {},
   "outputs": [],
   "source": [
    "labelwise_df2.loc[:, \"MCHERRY_regionprops_area\"].plot(kind=\"hist\", bins=100, log=False)"
   ]
  },
  {
   "cell_type": "code",
   "execution_count": null,
   "metadata": {},
   "outputs": [],
   "source": [
    "selected_cells = labelwise_df2[\n",
    "    (50 < labelwise_df2[\"MCHERRY_regionprops_area\"])\n",
    "    & (labelwise_df2[\"MCHERRY_regionprops_area\"] < 300)\n",
    "]"
   ]
  },
  {
   "cell_type": "code",
   "execution_count": null,
   "metadata": {},
   "outputs": [],
   "source": [
    "selected_cells.loc[:, \"MCHERRY_regionprops_area\"].plot(kind=\"hist\", bins=100, log=False)"
   ]
  },
  {
   "cell_type": "code",
   "execution_count": null,
   "metadata": {},
   "outputs": [],
   "source": [
    "selected_cells.loc[:, \"MCHERRY_labelwise_p0.5\"].plot(kind=\"hist\", bins=100, log=False)"
   ]
  },
  {
   "cell_type": "code",
   "execution_count": null,
   "metadata": {},
   "outputs": [],
   "source": [
    "selected_cells.loc[:, \"YFP_labelwise_p0.5\"].plot(kind=\"hist\", bins=100, log=True)"
   ]
  },
  {
   "cell_type": "code",
   "execution_count": null,
   "metadata": {},
   "outputs": [],
   "source": [
    "selected_cells[:10000].hvplot(\n",
    "    x=\"MCHERRY_labelwise_p0.5\", y=\"YFP_labelwise_p0.5\", kind=\"scatter\"\n",
    ")"
   ]
  },
  {
   "cell_type": "markdown",
   "metadata": {},
   "source": [
    "## Transcription errors"
   ]
  },
  {
   "cell_type": "code",
   "execution_count": null,
   "metadata": {},
   "outputs": [],
   "source": [
    "selected_cells.head()"
   ]
  },
  {
   "cell_type": "code",
   "execution_count": null,
   "metadata": {},
   "outputs": [],
   "source": [
    "selected_cells.index[0][:-1]"
   ]
  },
  {
   "cell_type": "code",
   "execution_count": null,
   "metadata": {},
   "outputs": [],
   "source": [
    "trench_bboxes.head()"
   ]
  },
  {
   "cell_type": "code",
   "execution_count": null,
   "metadata": {},
   "outputs": [],
   "source": [
    "selected_cells.head()"
   ]
  },
  {
   "cell_type": "code",
   "execution_count": null,
   "metadata": {},
   "outputs": [],
   "source": [
    "selected_cells.index[0][2:-1]"
   ]
  },
  {
   "cell_type": "code",
   "execution_count": null,
   "metadata": {},
   "outputs": [],
   "source": [
    "selected_trenches = trench_bboxes.xs(\n",
    "    (*selected_cells.index[0][:2], \"MCHERRY\", 0, *selected_cells.index[0][3:-1]),\n",
    "    drop_level=False,\n",
    ")"
   ]
  },
  {
   "cell_type": "code",
   "execution_count": null,
   "metadata": {},
   "outputs": [],
   "source": [
    "selected_trenches.head()"
   ]
  },
  {
   "cell_type": "code",
   "execution_count": null,
   "metadata": {},
   "outputs": [],
   "source": [
    "workflow.get_trench_stacks(selected_trenches, all_frames, image_limits)"
   ]
  },
  {
   "cell_type": "markdown",
   "metadata": {},
   "source": [
    "# Trench UI"
   ]
  },
  {
   "cell_type": "code",
   "execution_count": null,
   "metadata": {},
   "outputs": [],
   "source": [
    "LabelStream = ui.MultiIndexStream.define(\"LabelStream\", labelwise_df.index)\n",
    "label_stream = LabelStream()\n",
    "\n",
    "box = ui.dataframe_browser(label_stream)\n",
    "label_stream.event()\n",
    "box"
   ]
  },
  {
   "cell_type": "code",
   "execution_count": null,
   "metadata": {},
   "outputs": [],
   "source": [
    "%%opts Layout [normalize=False]\n",
    "(\n",
    "    ui.trench_viewer(trench_bboxes, label_stream, channel=\"MCHERRY\")\n",
    "    + ui.trench_viewer(trench_bboxes, label_stream, channel=\"YFP\")\n",
    ").cols(1)"
   ]
  },
  {
   "cell_type": "code",
   "execution_count": null,
   "metadata": {},
   "outputs": [],
   "source": [
    "%timeit workflow.get_trench_image(trench_bboxes, channel='MCHERRY', **util.get_keys(label_stream.contents, 'filename', 'position', 't', 'trench_set', 'trench'))"
   ]
  },
  {
   "cell_type": "code",
   "execution_count": null,
   "metadata": {},
   "outputs": [],
   "source": [
    "%lprun -f"
   ]
  },
  {
   "cell_type": "code",
   "execution_count": null,
   "metadata": {},
   "outputs": [],
   "source": [
    "trench_bboxes.loc[\n",
    "    (\"/n/scratch2/jqs1/fidelity/all/180405_txnerr.nd2\", 0, \"MCHERRY\", 0, 1, 3), :\n",
    "].shape"
   ]
  },
  {
   "cell_type": "code",
   "execution_count": null,
   "metadata": {},
   "outputs": [],
   "source": [
    "plt.imshow(\n",
    "    workflow.get_trench_image(\n",
    "        trench_bboxes,\n",
    "        channel=\"MCHERRY\",\n",
    "        **dissoc(label_stream.contents, \"_df\", \"label\"),\n",
    "    )\n",
    ")"
   ]
  },
  {
   "cell_type": "code",
   "execution_count": null,
   "metadata": {},
   "outputs": [],
   "source": [
    "workflow.get_nd2_frame(\n",
    "    channel=\"MCHERRY\",\n",
    "    **util.get_keys(label_stream.contents, \"filename\", \"position\", \"t\"),\n",
    ")"
   ]
  },
  {
   "cell_type": "code",
   "execution_count": null,
   "metadata": {},
   "outputs": [],
   "source": [
    "f = partial(util.get_keys, keys=[\"label\"])\n",
    "f(label_stream.contents)"
   ]
  },
  {
   "cell_type": "code",
   "execution_count": null,
   "metadata": {},
   "outputs": [],
   "source": [
    "label_stream.contents.keys()"
   ]
  },
  {
   "cell_type": "code",
   "execution_count": null,
   "metadata": {},
   "outputs": [],
   "source": [
    "ui.image_viewer(frame_stream)"
   ]
  },
  {
   "cell_type": "code",
   "execution_count": null,
   "metadata": {},
   "outputs": [],
   "source": [
    "ui.show_frame_info(trench_diag, frame_stream)"
   ]
  },
  {
   "cell_type": "code",
   "execution_count": null,
   "metadata": {},
   "outputs": [],
   "source": [
    "g = ui.show_grid(selected, stream=frame_stream)\n",
    "g"
   ]
  },
  {
   "cell_type": "markdown",
   "metadata": {},
   "source": [
    "# Memory"
   ]
  },
  {
   "cell_type": "code",
   "execution_count": null,
   "metadata": {},
   "outputs": [],
   "source": [
    "from pympler import tracker\n",
    "\n",
    "memory_tracker = tracker.SummaryTracker()\n",
    "memory_tracker.print_diff()"
   ]
  },
  {
   "cell_type": "code",
   "execution_count": null,
   "metadata": {},
   "outputs": [],
   "source": [
    "from pympler.classtracker import ClassTracker\n",
    "\n",
    "tracker = ClassTracker()\n",
    "tracker.track_object()"
   ]
  },
  {
   "cell_type": "code",
   "execution_count": null,
   "metadata": {},
   "outputs": [],
   "source": [
    "import objgraph"
   ]
  },
  {
   "cell_type": "code",
   "execution_count": null,
   "metadata": {},
   "outputs": [],
   "source": [
    "s = objgraph.by_type(\"IOStream\")"
   ]
  },
  {
   "cell_type": "code",
   "execution_count": null,
   "metadata": {},
   "outputs": [],
   "source": [
    "s[0]"
   ]
  },
  {
   "cell_type": "code",
   "execution_count": null,
   "metadata": {},
   "outputs": [],
   "source": [
    "objgraph.show_backrefs(s[50])"
   ]
  },
  {
   "cell_type": "code",
   "execution_count": null,
   "metadata": {},
   "outputs": [],
   "source": [
    "objgraph.show_most_common_types(50)"
   ]
  },
  {
   "cell_type": "code",
   "execution_count": null,
   "metadata": {},
   "outputs": [],
   "source": []
  }
 ],
 "metadata": {
  "kernelspec": {
   "display_name": "Python 3",
   "language": "python",
   "name": "python3"
  },
  "language_info": {
   "codemirror_mode": {
    "name": "ipython",
    "version": 3
   },
   "file_extension": ".py",
   "mimetype": "text/x-python",
   "name": "python",
   "nbconvert_exporter": "python",
   "pygments_lexer": "ipython3",
   "version": "3.6.5"
  }
 },
 "nbformat": 4,
 "nbformat_minor": 2
}
