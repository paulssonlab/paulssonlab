{
 "cells": [
  {
   "cell_type": "code",
   "execution_count": null,
   "metadata": {},
   "outputs": [],
   "source": [
    "import numpy as np\n",
    "import holoviews as hv\n",
    "import matplotlib.pyplot as plt\n",
    "import matplotlib\n",
    "from IPython.display import Video\n",
    "from tqdm import tnrange, tqdm_notebook\n",
    "import nd2reader\n",
    "import util\n",
    "\n",
    "hv.extension(\"matplotlib\")"
   ]
  },
  {
   "cell_type": "code",
   "execution_count": null,
   "metadata": {},
   "outputs": [],
   "source": [
    "import warnings\n",
    "\n",
    "warnings.filterwarnings(\"ignore\", category=matplotlib.mplDeprecation)"
   ]
  },
  {
   "cell_type": "code",
   "execution_count": null,
   "metadata": {},
   "outputs": [],
   "source": [
    "import io\n",
    "import imageio\n",
    "import PIL\n",
    "\n",
    "# FROM: https://gist.github.com/drs251/c0c348e88a1cc95e3e70205bff0ed91b\n",
    "def holomap_to_video(\n",
    "    hmap, out=None, fps=10, dpi=200, size=None, progress_bar=util.tqdm_auto\n",
    "):\n",
    "    if out is None:\n",
    "        out = io.BytesIO()\n",
    "    renderer = hv.renderer(\"matplotlib\")\n",
    "    if dpi:\n",
    "        old_dpi = renderer.dpi\n",
    "        renderer.dpi = dpi\n",
    "    if size:\n",
    "        old_size = renderer.size\n",
    "        renderer.size = size\n",
    "    writer = imageio.get_writer(out, fps=fps, format=\"mp4\")\n",
    "    if isinstance(hmap, hv.Layout) or isinstance(hmap, hv.NdLayout):\n",
    "        kdim = hmap[hmap.keys()[0]].kdims[0].name  # TODO: make more elegant/robust\n",
    "        keys = hmap[hmap.keys()[0]].keys()\n",
    "        key_items = [(k, hmap.select(**{kdim: k})) for k in keys]\n",
    "    else:\n",
    "        key_items = hmap.items()\n",
    "    if progress_bar:\n",
    "        key_items = progress_bar(key_items)\n",
    "    for key, item in key_items:\n",
    "        canvas = renderer.get_plot(item).state.canvas\n",
    "        canvas.draw()\n",
    "        ary = np.array(canvas.get_renderer()._renderer)\n",
    "        writer.append_data(ary)\n",
    "    writer.close()\n",
    "    if dpi:\n",
    "        renderer.dpi = old_dpi\n",
    "    if size:\n",
    "        renderer.size = old_size\n",
    "    return out"
   ]
  },
  {
   "cell_type": "code",
   "execution_count": null,
   "metadata": {},
   "outputs": [],
   "source": [
    "nd2 = nd2reader.ND2Reader(\"/n/scratch2/jqs1/fidelity/all/180928_txnerr_bigsnake.nd2\")"
   ]
  },
  {
   "cell_type": "code",
   "execution_count": null,
   "metadata": {},
   "outputs": [],
   "source": [
    "nd2.sizes"
   ]
  },
  {
   "cell_type": "code",
   "execution_count": null,
   "metadata": {},
   "outputs": [],
   "source": [
    "%%time\n",
    "movie = hv.HoloMap(\n",
    "    {t: hv.Image(nd2.get_frame_2D(v=990, t=t, c=0)) for t in tnrange(nd2.sizes[\"t\"])}\n",
    ")\n",
    "movie = movie.options(\"Image\", framewise=True)"
   ]
  },
  {
   "cell_type": "code",
   "execution_count": null,
   "metadata": {},
   "outputs": [],
   "source": [
    "%%output size=100\n",
    "#%%opts Image {+framewise}\n",
    "movie"
   ]
  },
  {
   "cell_type": "code",
   "execution_count": null,
   "metadata": {},
   "outputs": [],
   "source": [
    "m = holomap_to_video(movie, out=\"/tmp/jqsmovie.mp4\", size=400, dpi=100)"
   ]
  },
  {
   "cell_type": "code",
   "execution_count": null,
   "metadata": {},
   "outputs": [],
   "source": [
    "Video(\"/tmp/jqsmovie.mp4\", embed=True)"
   ]
  },
  {
   "cell_type": "code",
   "execution_count": null,
   "metadata": {},
   "outputs": [],
   "source": []
  }
 ],
 "metadata": {
  "kernelspec": {
   "display_name": "Python 3",
   "language": "python",
   "name": "python3"
  },
  "language_info": {
   "codemirror_mode": {
    "name": "ipython",
    "version": 3
   },
   "file_extension": ".py",
   "mimetype": "text/x-python",
   "name": "python",
   "nbconvert_exporter": "python",
   "pygments_lexer": "ipython3",
   "version": "3.7.0"
  }
 },
 "nbformat": 4,
 "nbformat_minor": 2
}
