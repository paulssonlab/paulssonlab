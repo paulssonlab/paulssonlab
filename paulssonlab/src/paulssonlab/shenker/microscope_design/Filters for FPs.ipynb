{
 "cells": [
  {
   "cell_type": "code",
   "execution_count": null,
   "metadata": {},
   "outputs": [],
   "source": [
    "import numpy as np\n",
    "import pandas as pd\n",
    "import re\n",
    "import requests\n",
    "import holoviews as hv\n",
    "import pint\n",
    "from cytoolz import dissoc"
   ]
  },
  {
   "cell_type": "code",
   "execution_count": null,
   "metadata": {},
   "outputs": [],
   "source": [
    "%load_ext autoreload\n",
    "%autoreload 2\n",
    "import simulation"
   ]
  },
  {
   "cell_type": "code",
   "execution_count": null,
   "metadata": {},
   "outputs": [],
   "source": [
    "# u = simulation.ureg\n",
    "class ObjProxy(object):\n",
    "    def __init__(self, module_name, attr_name):\n",
    "        self.__module_name = module_name\n",
    "        self.__attr_name = attr_name\n",
    "\n",
    "    def __getattr__(self, name):\n",
    "        return getattr(getattr(globals()[self.__module_name], self.__attr_name), name)\n",
    "\n",
    "\n",
    "u = ObjProxy(\"simulation\", \"ureg\")"
   ]
  },
  {
   "cell_type": "code",
   "execution_count": null,
   "metadata": {},
   "outputs": [],
   "source": [
    "hv.extension(\"bokeh\")"
   ]
  },
  {
   "cell_type": "markdown",
   "metadata": {},
   "source": [
    "# Spectral response"
   ]
  },
  {
   "cell_type": "code",
   "execution_count": null,
   "metadata": {},
   "outputs": [],
   "source": [
    "res[0][\"spectra\"][0].keys()"
   ]
  },
  {
   "cell_type": "code",
   "execution_count": null,
   "metadata": {},
   "outputs": [],
   "source": [
    "def read_spectrum(id_):\n",
    "    df = pd.read_csv(\n",
    "        f\"https://www.fpbase.org/spectra_csv/?q={id_}\", index_col=\"wavelength\"\n",
    "    ).squeeze()\n",
    "    # df.columns = [c.split(\" \")[-1] for c in df.columns]\n",
    "    return df\n",
    "\n",
    "def get_fpbase_spectra():\n",
    "    fpbase_entries = requests.get(\"https://www.fpbase.org/api/proteins/spectra/\").json()\n",
    "    fps = {}\n",
    "    for fpbase_entry in fpbase_entries:\n",
    "        fp = {}\n",
    "        fp[]\n",
    "        fp[\"spectra\"] = {re.sub(r\"^default_\", \"\", s[\"state\"]): s for s in fpbase_entry[\"spectra\"]}\n",
    "        res[fp[\"name\"]] = fp\n",
    "    return fps"
   ]
  },
  {
   "cell_type": "code",
   "execution_count": null,
   "metadata": {},
   "outputs": [],
   "source": [
    "%%time\n",
    "sources = {\"SOLIS-3C\": \"7016\", \"SOLIS-565C\": \"7004\"}\n",
    "\n",
    "dichroics = {\n",
    "    \"Chroma ZT514rdc\": \"560\",\n",
    "    \"Chroma ZT532rdc\": \"645\",\n",
    "    \"Chroma T550lpxr\": \"803\",\n",
    "    \"Chroma T556lpxr\": \"658\",\n",
    "    \"Chroma ZT561rdc\": \"523\",\n",
    "    \"Chroma ZT561rdc-xr\": \"708\",\n",
    "    \"Chroma ZT568rdc\": \"604\",\n",
    "    \"Chroma T570lpxr\": \"427\",\n",
    "    \"Chroma T590lpxr\": \"593\",\n",
    "    \"Chroma ZT594rdc\": \"569\",\n",
    "    \"Chroma T600lpxr\": \"609\",\n",
    "    \"Chroma T610lpxr\": \"601\",\n",
    "    \"Chroma ZT633rdc\": \"668\",\n",
    "    \"Chroma T635lpxr\": \"616\",\n",
    "    \"Chroma ZT640rdc\": \"439\",\n",
    "}\n",
    "\n",
    "longpass_filters = {\n",
    "    \"Chroma ET520LP\": \"760\",\n",
    "    \"Chroma ET525lp\": \"530\",\n",
    "    \"Chroma ET542lp\": \"461\",\n",
    "    \"Chroma ET570lp\": \"487\",\n",
    "    \"Chroma ET575lp\": \"620\",\n",
    "    \"Chroma ET590lp\": \"805\",\n",
    "    \"Chroma ET610lp\": \"350\",\n",
    "    \"Chroma RET638lp\": \"2855\",\n",
    "    \"Chroma ET655lp\": \"683\",\n",
    "    \"Chroma ET665lp\": \"573\",\n",
    "}\n",
    "\n",
    "sources = {name: read_spectrum(q) for name, q in sources.items()}\n",
    "dichroics = {name: read_spectrum(q) for name, q in dichroics.items()}\n",
    "longpass_filters = {name: read_spectrum(q) for name, q in longpass_filters.items()}"
   ]
  },
  {
   "cell_type": "code",
   "execution_count": null,
   "metadata": {},
   "outputs": [],
   "source": [
    "%%time\n",
    "fps = get_fpbase_spectra()"
   ]
  },
  {
   "cell_type": "markdown",
   "metadata": {},
   "source": [
    "## Filters"
   ]
  },
  {
   "cell_type": "code",
   "execution_count": null,
   "metadata": {},
   "outputs": [],
   "source": [
    "def combine_filter(dc, lp, threshold=0.9, max_wavelength=700):\n",
    "    dc = dc.loc[:max_wavelength]\n",
    "    lp = lp.loc[:max_wavelength]\n",
    "    log_dc = np.log10(dc)\n",
    "    log_lp = np.log10(lp)\n",
    "    # highest wavelength that gives >90% excitation (dichroic reflectance)\n",
    "    ex_cutoff = (dc > 1 - threshold)[::-1].idxmin()\n",
    "    # highest wavelength that gives <90% transmission (dichroic+lp)\n",
    "    em_cutoff = (log_dc + log_lp > np.log10(threshold)).idxmax()\n",
    "    # gap between those wavelengths\n",
    "    gap = em_cutoff - ex_cutoff\n",
    "    # highest OD below excitation cutoff\n",
    "    worst_rejection = (log_dc + log_lp).loc[:ex_cutoff].max()\n",
    "    return pd.Series(\n",
    "        {\n",
    "            \"ex_cutoff\": ex_cutoff,\n",
    "            \"em_cutoff\": em_cutoff,\n",
    "            \"gap\": gap,\n",
    "            \"worst_rejection\": worst_rejection,\n",
    "        }\n",
    "    )\n",
    "\n",
    "\n",
    "filter_combinations = pd.concat(\n",
    "    {\n",
    "        dc_name: pd.concat(\n",
    "            {\n",
    "                lp_name: combine_filter(dc_spectrum, lp_spectrum)\n",
    "                for lp_name, lp_spectrum in longpass_filters.items()\n",
    "            },\n",
    "            axis=1,\n",
    "        ).T\n",
    "        for dc_name, dc_spectrum in dichroics.items()\n",
    "    }\n",
    ")"
   ]
  },
  {
   "cell_type": "code",
   "execution_count": null,
   "metadata": {},
   "outputs": [],
   "source": [
    "acceptable_filter_combinations = filter_combinations[\n",
    "    (filter_combinations[\"gap\"] < 30) & (filter_combinations[\"worst_rejection\"] < -5.5)\n",
    "]"
   ]
  },
  {
   "cell_type": "code",
   "execution_count": null,
   "metadata": {},
   "outputs": [],
   "source": [
    "# for each dichroic, pick the longpass that minimizes the gap\n",
    "selected_filter_combinations = (\n",
    "    acceptable_filter_combinations.groupby(level=0)\n",
    "    .apply(lambda x: x.loc[[x[\"gap\"].idxmin()]])\n",
    "    .droplevel(0)\n",
    "    .index.values\n",
    ")"
   ]
  },
  {
   "cell_type": "markdown",
   "metadata": {},
   "source": [
    "## FPs"
   ]
  },
  {
   "cell_type": "code",
   "execution_count": null,
   "metadata": {},
   "outputs": [],
   "source": [
    "res[0][\"spectra\"][0]"
   ]
  },
  {
   "cell_type": "code",
   "execution_count": null,
   "metadata": {},
   "outputs": [],
   "source": [
    "[r[\"name\"] for r in res]"
   ]
  },
  {
   "cell_type": "code",
   "execution_count": null,
   "metadata": {},
   "outputs": [],
   "source": [
    "len(res)"
   ]
  },
  {
   "cell_type": "code",
   "execution_count": null,
   "metadata": {},
   "outputs": [],
   "source": [
    "spectra_urls = {\n",
    "    \"mCherry\": \"https://www.fpbase.org/spectra_csv/?q=79,80,158\",\n",
    "    \"mCherry2\": \"https://www.fpbase.org/spectra_csv/?q=1451,1450\",\n",
    "}\n",
    "spectra = {\n",
    "    name: pd.read_csv(url)\n",
    "    .rename(columns={f\"{name} {kind}\": kind for kind in (\"ex\", \"em\", \"2p\")})\n",
    "    .set_index(\"wavelength\")\n",
    "    for name, url in spectra_urls.items()\n",
    "}"
   ]
  },
  {
   "cell_type": "code",
   "execution_count": null,
   "metadata": {},
   "outputs": [],
   "source": [
    "bins = pd.interval_range(300, 1100, freq=5)"
   ]
  },
  {
   "cell_type": "code",
   "execution_count": null,
   "metadata": {},
   "outputs": [],
   "source": [
    "binned_spectra = {\n",
    "    name: bin_spectrum(spectrum, bins) for name, spectrum in spectra.items()\n",
    "}"
   ]
  },
  {
   "cell_type": "code",
   "execution_count": null,
   "metadata": {},
   "outputs": [],
   "source": [
    "(\n",
    "    hv.Curve(spectra[\"mCherry\"][\"em\"].dropna())\n",
    "    * hv.Curve(spectra[\"mCherry2\"][\"em\"].dropna())\n",
    ").opts(width=800)"
   ]
  },
  {
   "cell_type": "code",
   "execution_count": null,
   "metadata": {},
   "outputs": [],
   "source": [
    "(\n",
    "    hv.Curve(binned_spectra[\"mCherry\"][\"em\"].dropna())\n",
    "    * hv.Curve(binned_spectra[\"mCherry2\"][\"em\"].dropna())\n",
    ").opts(width=800)"
   ]
  }
 ],
 "metadata": {
  "kernelspec": {
   "display_name": "Python 3 (ipykernel)",
   "language": "python",
   "name": "python3"
  },
  "language_info": {
   "codemirror_mode": {
    "name": "ipython",
    "version": 3
   },
   "file_extension": ".py",
   "mimetype": "text/x-python",
   "name": "python",
   "nbconvert_exporter": "python",
   "pygments_lexer": "ipython3",
   "version": "3.8.2"
  }
 },
 "nbformat": 4,
 "nbformat_minor": 4
}
