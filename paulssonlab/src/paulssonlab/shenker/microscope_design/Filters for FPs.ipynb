{
 "cells": [
  {
   "cell_type": "code",
   "execution_count": null,
   "id": "0",
   "metadata": {},
   "outputs": [],
   "source": [
    "import holoviews as hv\n",
    "import hvplot.pandas\n",
    "import numpy as np\n",
    "import pandas as pd\n",
    "import panel as pn\n",
    "import param"
   ]
  },
  {
   "cell_type": "code",
   "execution_count": null,
   "id": "1",
   "metadata": {},
   "outputs": [],
   "source": [
    "%load_ext autoreload\n",
    "%autoreload 2\n",
    "import spectra\n",
    "import util"
   ]
  },
  {
   "cell_type": "code",
   "execution_count": null,
   "id": "2",
   "metadata": {},
   "outputs": [],
   "source": [
    "hv.extension(\"bokeh\")"
   ]
  },
  {
   "cell_type": "markdown",
   "id": "3",
   "metadata": {},
   "source": [
    "# Spectral response"
   ]
  },
  {
   "cell_type": "code",
   "execution_count": null,
   "id": "4",
   "metadata": {},
   "outputs": [],
   "source": [
    "bins = np.arange(300, 1000)"
   ]
  },
  {
   "cell_type": "code",
   "execution_count": null,
   "id": "5",
   "metadata": {},
   "outputs": [],
   "source": [
    "%%time\n",
    "sources = {\"SOLIS-3C\": \"7016\", \"SOLIS-565C\": \"7004\"}\n",
    "\n",
    "dichroics = {\n",
    "    \"Chroma ZT514rdc\": \"560\",\n",
    "    \"Chroma ZT532rdc\": \"645\",\n",
    "    \"Chroma T550lpxr\": \"803\",\n",
    "    \"Chroma T556lpxr\": \"658\",\n",
    "    \"Chroma ZT561rdc\": \"523\",\n",
    "    \"Chroma ZT561rdc-xr\": \"708\",\n",
    "    \"Chroma ZT568rdc\": \"604\",\n",
    "    \"Chroma T570lpxr\": \"427\",\n",
    "    \"Chroma T590lpxr\": \"593\",\n",
    "    \"Chroma ZT594rdc\": \"569\",\n",
    "    \"Chroma T600lpxr\": \"609\",\n",
    "    \"Chroma T610lpxr\": \"601\",\n",
    "    \"Chroma ZT633rdc\": \"668\",\n",
    "    \"Chroma T635lpxr\": \"616\",\n",
    "    \"Chroma ZT640rdc\": \"439\",\n",
    "}\n",
    "\n",
    "longpass_filters = {\n",
    "    \"Chroma ET520LP\": \"760\",\n",
    "    \"Chroma ET525lp\": \"530\",\n",
    "    \"Chroma ET542lp\": \"461\",\n",
    "    \"Chroma ET570lp\": \"487\",\n",
    "    \"Chroma ET575lp\": \"620\",\n",
    "    \"Chroma ET590lp\": \"805\",\n",
    "    \"Chroma ET610lp\": \"350\",\n",
    "    \"Chroma RET638lp\": \"2855\",\n",
    "    \"Chroma ET655lp\": \"683\",\n",
    "    \"Chroma ET665lp\": \"573\",\n",
    "}\n",
    "\n",
    "sources = {\n",
    "    name: spectra.get_fpbase_spectrum(q, bins=bins) for name, q in sources.items()\n",
    "}\n",
    "dichroics = {\n",
    "    name: spectra.get_fpbase_spectrum(q, bins=bins) for name, q in dichroics.items()\n",
    "}\n",
    "longpass_filters = {\n",
    "    name: spectra.get_fpbase_spectrum(q, bins=bins)\n",
    "    for name, q in longpass_filters.items()\n",
    "}"
   ]
  },
  {
   "cell_type": "code",
   "execution_count": null,
   "id": "6",
   "metadata": {},
   "outputs": [],
   "source": [
    "%%time\n",
    "semrock_dichroic_urls = [\n",
    "    \"https://www.semrock.com/filtersRefined.aspx?minWL=520&maxWL=660&id=497,800&page=1&so=0&recs=10000\"\n",
    "]\n",
    "semrock_longpass_urls = [\n",
    "    f\"https://www.semrock.com/filtersRefined.aspx?minWL=520&maxWL=660&id=21,{id_}&page=1&so=0&recs=10000\"\n",
    "    for id_ in (537, 538)  # RazorEdge ultrasharp (not available in 32mm standard): 545\n",
    "]\n",
    "\n",
    "dichroics = {\n",
    "    **dichroics,\n",
    "    **spectra.get_semrock_spectra(semrock_dichroic_urls, bins=bins),\n",
    "}\n",
    "longpass_filters = {\n",
    "    **longpass_filters,\n",
    "    **spectra.get_semrock_spectra(semrock_longpass_urls, bins=bins),\n",
    "}"
   ]
  },
  {
   "cell_type": "code",
   "execution_count": null,
   "id": "7",
   "metadata": {},
   "outputs": [],
   "source": [
    "dichroics = dict(\n",
    "    sorted(dichroics.items(), key=lambda x: (x[1].loc[:700] < 0.5)[::-1].idxmax())\n",
    ")\n",
    "longpass_filters = dict(\n",
    "    sorted(longpass_filters.items(), key=lambda x: (x[1].loc[:700] < 0.5).idxmax())\n",
    ")"
   ]
  },
  {
   "cell_type": "code",
   "execution_count": null,
   "id": "8",
   "metadata": {},
   "outputs": [],
   "source": [
    "%%time\n",
    "fps = spectra.get_fpbase_protein_spectra(bins=bins)"
   ]
  },
  {
   "cell_type": "markdown",
   "id": "9",
   "metadata": {},
   "source": [
    "## Filters"
   ]
  },
  {
   "cell_type": "code",
   "execution_count": null,
   "id": "10",
   "metadata": {},
   "outputs": [],
   "source": [
    "def combine_filter(dc, lp, threshold=0.5, od_threshold=6, max_wavelength=700):\n",
    "    dc = dc.loc[:max_wavelength]\n",
    "    lp = lp.loc[:max_wavelength]\n",
    "    dc_od = -np.log10(dc)\n",
    "    lp_od = -np.log10(lp)\n",
    "    # highest wavelength that gives <90% excitation (dichroic reflectance)\n",
    "    ex_cutoff = (dc < 1 - threshold)[::-1].idxmax()\n",
    "    # highest wavelength that gives >OD6 rejection\n",
    "    ex_od_cutoff = (lp_od > od_threshold)[::-1].idxmax()\n",
    "    # highest wavelength that gives <90% transmission (dichroic+lp)\n",
    "    em_cutoff = (dc_od + lp_od < -np.log10(threshold)).idxmax()\n",
    "    gap = em_cutoff - ex_cutoff\n",
    "    ex_gap = ex_od_cutoff - ex_cutoff\n",
    "    # highest OD below excitation cutoff\n",
    "    worst_rejection = (dc_od + lp_od).loc[:ex_cutoff].dropna().min()\n",
    "    return pd.Series(\n",
    "        {\n",
    "            \"ex_cutoff\": ex_cutoff,\n",
    "            \"ex_od_cutoff\": ex_od_cutoff,\n",
    "            \"em_cutoff\": em_cutoff,\n",
    "            \"gap\": gap,\n",
    "            \"ex_gap\": ex_gap,\n",
    "            \"worst_rejection\": worst_rejection,\n",
    "        }\n",
    "    )\n",
    "\n",
    "\n",
    "filter_combinations = pd.concat(\n",
    "    {\n",
    "        dc_name: pd.concat(\n",
    "            {\n",
    "                lp_name: combine_filter(dc_spectrum, lp_spectrum)\n",
    "                for lp_name, lp_spectrum in longpass_filters.items()\n",
    "            },\n",
    "            axis=1,\n",
    "        ).T\n",
    "        for dc_name, dc_spectrum in dichroics.items()\n",
    "    }\n",
    ").sort_values([\"ex_cutoff\", \"gap\", \"ex_gap\"])"
   ]
  },
  {
   "cell_type": "code",
   "execution_count": null,
   "id": "11",
   "metadata": {},
   "outputs": [],
   "source": [
    "acceptable_filter_combinations = filter_combinations[\n",
    "    (filter_combinations[\"gap\"] < 10) & (filter_combinations[\"ex_gap\"].abs() < 20)\n",
    "]"
   ]
  },
  {
   "cell_type": "code",
   "execution_count": null,
   "id": "12",
   "metadata": {},
   "outputs": [],
   "source": [
    "acceptable_filter_combinations"
   ]
  },
  {
   "cell_type": "code",
   "execution_count": null,
   "id": "13",
   "metadata": {},
   "outputs": [],
   "source": [
    "# for each dichroic, pick the longpass that minimizes the gap\n",
    "selected_filter_combinations = (\n",
    "    acceptable_filter_combinations.groupby(level=0)\n",
    "    .apply(lambda x: x.loc[[x[\"ex_gap\"].abs().idxmin()]])\n",
    "    .droplevel(0)\n",
    "    .sort_values(\"ex_cutoff\")\n",
    "    .index.values\n",
    ")\n",
    "# selected_filter_combinations = acceptable_filter_combinations.index"
   ]
  },
  {
   "cell_type": "code",
   "execution_count": null,
   "id": "14",
   "metadata": {},
   "outputs": [],
   "source": [
    "acceptable_filter_combinations.loc[selected_filter_combinations]"
   ]
  },
  {
   "cell_type": "markdown",
   "id": "15",
   "metadata": {},
   "source": [
    "## FPs"
   ]
  },
  {
   "cell_type": "code",
   "execution_count": null,
   "id": "16",
   "metadata": {},
   "outputs": [],
   "source": [
    "def fp_efficiency(dc, lp, ex, em, ex_cutoff, em_cutoff):\n",
    "    return pd.Series(\n",
    "        {\n",
    "            (\"efficiency\", \"ex\"): ((1 - dc) * (ex / ex.sum())).sum(),\n",
    "            (\"efficiency\", \"em\"): (dc * lp * (em / em.sum())).sum(),\n",
    "            (\"cutoff_amplitude\", \"ex\"): ex.loc[ex_cutoff],\n",
    "            (\"cutoff_amplitude\", \"em\"): em.loc[em_cutoff],\n",
    "            (\"margin\", \"ex\"): ex_cutoff - ex.idxmax(),\n",
    "            (\"margin\", \"em\"): em.idxmax() - em_cutoff,\n",
    "        }\n",
    "    )\n",
    "\n",
    "\n",
    "def evaluate_filter_combinations(\n",
    "    filter_combo_names, fp_names, dichroics, longpass_filters, filter_combinations, fps\n",
    "):\n",
    "    d = {}\n",
    "    for filter_combo in filter_combo_names:\n",
    "        dc = dichroics[filter_combo[0]]\n",
    "        lp = longpass_filters[filter_combo[1]]\n",
    "        dd = {}\n",
    "        for fp_name in fp_names:\n",
    "            ex = fps[fp_name][\"spectra\"][\"ex\"]\n",
    "            em = fps[fp_name][\"spectra\"][\"em\"]\n",
    "            dd[fp_name] = (\n",
    "                fp_efficiency(\n",
    "                    dc,\n",
    "                    lp,\n",
    "                    ex,\n",
    "                    em,\n",
    "                    filter_combinations.loc[filter_combo][\"ex_cutoff\"],\n",
    "                    filter_combinations.loc[filter_combo][\"em_cutoff\"],\n",
    "                )\n",
    "                .to_frame()\n",
    "                .T\n",
    "            )\n",
    "        d[filter_combo] = (\n",
    "            pd.concat(dd, axis=1)\n",
    "            .reorder_levels([1, 2, 0], axis=1)\n",
    "            .sort_index(axis=1, level=1, sort_remaining=False)\n",
    "        )\n",
    "    return pd.concat(d, axis=0).droplevel(-1)"
   ]
  },
  {
   "cell_type": "code",
   "execution_count": null,
   "id": "17",
   "metadata": {},
   "outputs": [],
   "source": [
    "selected_fps = [\n",
    "    \"mScarlet-I\",\n",
    "    \"mScarlet-H\",\n",
    "    \"mCherry\",\n",
    "    \"mCherry2\",\n",
    "    \"mKate2\",\n",
    "    \"E2-Crimson\",\n",
    "    \"TurboRFP\",\n",
    "]\n",
    "selected_fps = sorted(selected_fps, key=lambda x: fps[x][\"ex_max\"])\n",
    "filter_metrics = evaluate_filter_combinations(\n",
    "    selected_filter_combinations,\n",
    "    selected_fps,\n",
    "    dichroics,\n",
    "    longpass_filters,\n",
    "    filter_combinations,\n",
    "    fps,\n",
    ")"
   ]
  },
  {
   "cell_type": "code",
   "execution_count": null,
   "id": "18",
   "metadata": {},
   "outputs": [],
   "source": [
    "def spectra_viewer(fp_names=None, dc_names=None, lp_names=None):\n",
    "    viewer = spectra.SpectraViewer(\n",
    "        fps, dichroics, longpass_filters, fp_names, dc_names, lp_names\n",
    "    )\n",
    "    return pn.Row(pn.Column(\"## Spectra\", viewer.param), viewer.view)"
   ]
  },
  {
   "cell_type": "code",
   "execution_count": null,
   "id": "19",
   "metadata": {},
   "outputs": [],
   "source": [
    "spectra.show_heatmap(filter_metrics[\"efficiency\"])"
   ]
  },
  {
   "cell_type": "code",
   "execution_count": null,
   "id": "20",
   "metadata": {},
   "outputs": [],
   "source": [
    "spectra.show_heatmap(filter_metrics[\"cutoff_amplitude\"])"
   ]
  },
  {
   "cell_type": "code",
   "execution_count": null,
   "id": "21",
   "metadata": {},
   "outputs": [],
   "source": [
    "spectra.show_heatmap(filter_metrics[\"margin\"], vmin=0, highlight_negative=\"black\")"
   ]
  },
  {
   "cell_type": "code",
   "execution_count": null,
   "id": "22",
   "metadata": {},
   "outputs": [],
   "source": [
    "spectra_viewer(fp_names=selected_fps)"
   ]
  },
  {
   "cell_type": "code",
   "execution_count": null,
   "id": "23",
   "metadata": {},
   "outputs": [],
   "source": [
    "\", \".join(fps.keys())"
   ]
  }
 ],
 "metadata": {
  "kernelspec": {
   "display_name": "Python 3 (ipykernel)",
   "language": "python",
   "name": "python3"
  },
  "language_info": {
   "codemirror_mode": {
    "name": "ipython",
    "version": 3
   },
   "file_extension": ".py",
   "mimetype": "text/x-python",
   "name": "python",
   "nbconvert_exporter": "python",
   "pygments_lexer": "ipython3",
   "version": "3.8.2"
  }
 },
 "nbformat": 4,
 "nbformat_minor": 4
}
