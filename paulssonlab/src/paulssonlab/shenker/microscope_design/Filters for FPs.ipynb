{
 "cells": [
  {
   "cell_type": "code",
   "execution_count": null,
   "metadata": {},
   "outputs": [],
   "source": [
    "import numpy as np\n",
    "import pandas as pd\n",
    "import re\n",
    "import io\n",
    "import requests\n",
    "import holoviews as hv\n",
    "import hvplot.pandas\n",
    "import panel as pn\n",
    "import pint\n",
    "from requests_html import HTMLSession"
   ]
  },
  {
   "cell_type": "code",
   "execution_count": null,
   "metadata": {},
   "outputs": [],
   "source": [
    "%load_ext autoreload\n",
    "%autoreload 2\n",
    "import util"
   ]
  },
  {
   "cell_type": "code",
   "execution_count": null,
   "metadata": {},
   "outputs": [],
   "source": [
    "hv.extension(\"bokeh\")"
   ]
  },
  {
   "cell_type": "markdown",
   "metadata": {},
   "source": [
    "# Spectral response"
   ]
  },
  {
   "cell_type": "code",
   "execution_count": null,
   "metadata": {},
   "outputs": [],
   "source": [
    "def read_spectrum(id_, bins=None):\n",
    "    df = pd.read_csv(\n",
    "        f\"https://www.fpbase.org/spectra_csv/?q={id_}\", index_col=\"wavelength\"\n",
    "    ).squeeze()\n",
    "    if bins is not None:\n",
    "        df = util.interpolate_dataframe(df, bins)\n",
    "    return df\n",
    "\n",
    "\n",
    "def get_fpbase_spectra(bins=None):\n",
    "    fpbase_entries = requests.get(\"https://www.fpbase.org/api/proteins/spectra/\").json()\n",
    "    fps = {}\n",
    "    for fpbase_entry in fpbase_entries:\n",
    "        fp = {}\n",
    "        spectra = []\n",
    "        for spectrum_type in fpbase_entry[\"spectra\"]:\n",
    "            state_name = re.sub(r\"^default_\", \"\", spectrum_type[\"state\"])\n",
    "            for k, v in spectrum_type.items():\n",
    "                if k == \"state\":\n",
    "                    continue\n",
    "                elif k == \"data\":\n",
    "                    spectra.append(\n",
    "                        pd.DataFrame(v, columns=[\"wavelength\", state_name]).set_index(\n",
    "                            \"wavelength\"\n",
    "                        )\n",
    "                    )\n",
    "                else:\n",
    "                    fp[f\"{state_name}_{k}\"] = v\n",
    "        df = pd.concat(spectra, axis=1)\n",
    "        if bins is not None:\n",
    "            df = util.interpolate_dataframe(df, bins)\n",
    "        fp[\"spectra\"] = df\n",
    "        fps[fpbase_entry[\"name\"]] = fp\n",
    "    return fps"
   ]
  },
  {
   "cell_type": "code",
   "execution_count": null,
   "metadata": {},
   "outputs": [],
   "source": [
    "bins = np.arange(300, 1000)"
   ]
  },
  {
   "cell_type": "code",
   "execution_count": null,
   "metadata": {},
   "outputs": [],
   "source": [
    "%%time\n",
    "sources = {\"SOLIS-3C\": \"7016\", \"SOLIS-565C\": \"7004\"}\n",
    "\n",
    "dichroics = {\n",
    "    \"Chroma ZT514rdc\": \"560\",\n",
    "    \"Chroma ZT532rdc\": \"645\",\n",
    "    \"Chroma T550lpxr\": \"803\",\n",
    "    \"Chroma T556lpxr\": \"658\",\n",
    "    \"Chroma ZT561rdc\": \"523\",\n",
    "    \"Chroma ZT561rdc-xr\": \"708\",\n",
    "    \"Chroma ZT568rdc\": \"604\",\n",
    "    \"Chroma T570lpxr\": \"427\",\n",
    "    \"Chroma T590lpxr\": \"593\",\n",
    "    \"Chroma ZT594rdc\": \"569\",\n",
    "    \"Chroma T600lpxr\": \"609\",\n",
    "    \"Chroma T610lpxr\": \"601\",\n",
    "    \"Chroma ZT633rdc\": \"668\",\n",
    "    \"Chroma T635lpxr\": \"616\",\n",
    "    \"Chroma ZT640rdc\": \"439\",\n",
    "}\n",
    "\n",
    "longpass_filters = {\n",
    "    \"Chroma ET520LP\": \"760\",\n",
    "    \"Chroma ET525lp\": \"530\",\n",
    "    \"Chroma ET542lp\": \"461\",\n",
    "    \"Chroma ET570lp\": \"487\",\n",
    "    \"Chroma ET575lp\": \"620\",\n",
    "    \"Chroma ET590lp\": \"805\",\n",
    "    \"Chroma ET610lp\": \"350\",\n",
    "    \"Chroma RET638lp\": \"2855\",\n",
    "    \"Chroma ET655lp\": \"683\",\n",
    "    \"Chroma ET665lp\": \"573\",\n",
    "}\n",
    "\n",
    "sources = {name: read_spectrum(q, bins=bins) for name, q in sources.items()}\n",
    "dichroics = {name: read_spectrum(q, bins=bins) for name, q in dichroics.items()}\n",
    "longpass_filters = {\n",
    "    name: read_spectrum(q, bins=bins) for name, q in longpass_filters.items()\n",
    "}"
   ]
  },
  {
   "cell_type": "code",
   "execution_count": null,
   "metadata": {},
   "outputs": [],
   "source": [
    "def get_semrock_filters(urls, bins=None):\n",
    "    if isinstance(urls, str):\n",
    "        urls = [urls]\n",
    "    session = HTMLSession()\n",
    "    spectra = {}\n",
    "    for url in urls:\n",
    "        html = session.get(url).html\n",
    "        catalog_numbers = [\n",
    "            a.text for a in html.find(\"#resultsView .cartSection > h1 > a\")\n",
    "        ]\n",
    "        for catalog_number in catalog_numbers:\n",
    "            spectrum_number = \"-\".join(catalog_number.split(\"-\")[:2]).replace(\"/\", \"_\")\n",
    "            name = f\"Semrock {spectrum_number}\"\n",
    "            spectrum_urls = [\n",
    "                f\"https://www.semrock.com/_ProductData/Spectra/{spectrum_number}_Spectrum.txt\",\n",
    "                f\"https://www.semrock.com/_ProductData/Spectra/{spectrum_number}_DesignSpectrum.txt\",\n",
    "            ]\n",
    "            spectrum = None\n",
    "            for spectrum_url in spectrum_urls:\n",
    "                res = session.get(spectrum_url)\n",
    "                if not res.ok:\n",
    "                    continue\n",
    "                lines = io.StringIO(\n",
    "                    \"\\n\".join(\n",
    "                        [l for l in res.text.split(\"\\n\") if not l.startswith(\"---\")]\n",
    "                    )\n",
    "                )\n",
    "                spectrum = pd.read_csv(\n",
    "                    lines,\n",
    "                    sep=\"\\t\",\n",
    "                    skiprows=4,\n",
    "                    names=[\"wavelength\", spectrum_number],\n",
    "                    index_col=0,\n",
    "                ).squeeze()\n",
    "                break\n",
    "            if spectrum is None:\n",
    "                raise ValueError(f\"could not find spectrum for '{spectrum_number}'\")\n",
    "            if bins is not None:\n",
    "                spectrum = util.interpolate_dataframe(spectrum, bins)\n",
    "            spectra[name] = spectrum\n",
    "    return spectra"
   ]
  },
  {
   "cell_type": "code",
   "execution_count": null,
   "metadata": {},
   "outputs": [],
   "source": [
    "%%time\n",
    "semrock_dichroic_urls = [\n",
    "    \"https://www.semrock.com/filtersRefined.aspx?minWL=520&maxWL=660&id=497,800&page=1&so=0&recs=10000\"\n",
    "]\n",
    "semrock_longpass_urls = [\n",
    "    f\"https://www.semrock.com/filtersRefined.aspx?minWL=520&maxWL=660&id=21,{id_}&page=1&so=0&recs=10000\"\n",
    "    for id_ in (537, 538, 545)\n",
    "]\n",
    "\n",
    "dichroics = {**dichroics, **get_semrock_filters(semrock_dichroic_urls, bins=bins)}\n",
    "longpass_filters = {\n",
    "    **longpass_filters,\n",
    "    **get_semrock_filters(semrock_longpass_urls, bins=bins),\n",
    "}"
   ]
  },
  {
   "cell_type": "code",
   "execution_count": null,
   "metadata": {},
   "outputs": [],
   "source": [
    "%%time\n",
    "fps = get_fpbase_spectra(bins=bins)"
   ]
  },
  {
   "cell_type": "code",
   "execution_count": null,
   "metadata": {},
   "outputs": [],
   "source": [
    "def _filter_plot(fp_name, dc_name, lp_name):\n",
    "    return (\n",
    "        fps[fp_name][\"spectra\"].fillna(0).hvplot()\n",
    "        * dichroics[dc_name].hvplot()\n",
    "        * longpass_filters[lp_name].hvplot()\n",
    "    )\n",
    "\n",
    "\n",
    "def filter_plot(\n",
    "    fp_names=fps.keys(), dc_names=dichroics.keys(), lp_names=longpass_filters.keys()\n",
    "):\n",
    "    layout = pn.interact(\n",
    "        _filter_plot, fp_name=fp_names, dc_name=dc_names, lp_name=lp_names\n",
    "    )\n",
    "    return pn.Row(pn.Column(\"## Filters\", layout[0]), layout[1])"
   ]
  },
  {
   "cell_type": "markdown",
   "metadata": {},
   "source": [
    "## Filters"
   ]
  },
  {
   "cell_type": "code",
   "execution_count": null,
   "metadata": {},
   "outputs": [],
   "source": [
    "def combine_filter(dc, lp, threshold=0.9, max_wavelength=700):\n",
    "    dc = dc.loc[:max_wavelength]\n",
    "    lp = lp.loc[:max_wavelength]\n",
    "    log_dc = np.log10(dc)\n",
    "    log_lp = np.log10(lp)\n",
    "    # highest wavelength that gives >90% excitation (dichroic reflectance)\n",
    "    ex_cutoff = (dc > 1 - threshold)[::-1].idxmin()\n",
    "    # highest wavelength that gives <90% transmission (dichroic+lp)\n",
    "    em_cutoff = (log_dc + log_lp > np.log10(threshold)).idxmax()\n",
    "    # gap between those wavelengths\n",
    "    gap = em_cutoff - ex_cutoff\n",
    "    # highest OD below excitation cutoff\n",
    "    worst_rejection = (log_dc + log_lp).loc[:ex_cutoff].max()\n",
    "    return pd.Series(\n",
    "        {\n",
    "            \"ex_cutoff\": ex_cutoff,\n",
    "            \"em_cutoff\": em_cutoff,\n",
    "            \"gap\": gap,\n",
    "            \"worst_rejection\": worst_rejection,\n",
    "        }\n",
    "    )\n",
    "\n",
    "\n",
    "filter_combinations = pd.concat(\n",
    "    {\n",
    "        dc_name: pd.concat(\n",
    "            {\n",
    "                lp_name: combine_filter(dc_spectrum, lp_spectrum)\n",
    "                for lp_name, lp_spectrum in longpass_filters.items()\n",
    "            },\n",
    "            axis=1,\n",
    "        ).T\n",
    "        for dc_name, dc_spectrum in dichroics.items()\n",
    "    }\n",
    ").sort_values(\"ex_cutoff\")"
   ]
  },
  {
   "cell_type": "code",
   "execution_count": null,
   "metadata": {},
   "outputs": [],
   "source": [
    "acceptable_filter_combinations = filter_combinations[\n",
    "    (filter_combinations[\"gap\"] < 30) & (filter_combinations[\"worst_rejection\"] < -5.5)\n",
    "]"
   ]
  },
  {
   "cell_type": "code",
   "execution_count": null,
   "metadata": {},
   "outputs": [],
   "source": [
    "# for each dichroic, pick the longpass that minimizes the gap\n",
    "selected_filter_combinations = (\n",
    "    acceptable_filter_combinations.groupby(level=0)\n",
    "    .apply(lambda x: x.loc[[x[\"gap\"].idxmin()]])\n",
    "    .droplevel(0)\n",
    "    .sort_values(\"ex_cutoff\")\n",
    "    .index.values\n",
    ")"
   ]
  },
  {
   "cell_type": "markdown",
   "metadata": {},
   "source": [
    "## FPs"
   ]
  },
  {
   "cell_type": "code",
   "execution_count": null,
   "metadata": {},
   "outputs": [],
   "source": [
    "longpass_filters.keys()"
   ]
  },
  {
   "cell_type": "code",
   "execution_count": null,
   "metadata": {},
   "outputs": [],
   "source": [
    "filter_combinations.loc[\"Semrock Di03-R635\"]"
   ]
  },
  {
   "cell_type": "code",
   "execution_count": null,
   "metadata": {},
   "outputs": [],
   "source": [
    "filter_combinations[\n",
    "    (filter_combinations[\"gap\"] < 50) & (filter_combinations[\"worst_rejection\"] < -5)\n",
    "]"
   ]
  },
  {
   "cell_type": "code",
   "execution_count": null,
   "metadata": {},
   "outputs": [],
   "source": [
    "acceptable_filter_combinations"
   ]
  },
  {
   "cell_type": "code",
   "execution_count": null,
   "metadata": {},
   "outputs": [],
   "source": [
    "selected_filter_combinations"
   ]
  },
  {
   "cell_type": "code",
   "execution_count": null,
   "metadata": {},
   "outputs": [],
   "source": [
    "def show_heatmap(df, highlight_negative=False, **kwargs):\n",
    "    with pd.option_context(\"display.max_rows\", None, \"display.max_columns\", None):\n",
    "        df = df.style.format(precision=2).background_gradient(\n",
    "            **{\"cmap\": \"RdPu\", \"axis\": None, **kwargs}\n",
    "        )\n",
    "        if highlight_negative:\n",
    "\n",
    "            def style_negative(v, props=\"\"):\n",
    "                return props if v < 0 else None\n",
    "\n",
    "            df = df.applymap(\n",
    "                style_negative,\n",
    "                props=f\"background-color:{highlight_negative};color:white;\",\n",
    "            )\n",
    "        display(df)\n",
    "\n",
    "\n",
    "def fp_efficiency(dc, lp, ex, em, ex_cutoff, em_cutoff):\n",
    "    return pd.Series(\n",
    "        {\n",
    "            (\"efficiency\", \"ex\"): ((1 - dc) * (ex / ex.sum())).sum(),\n",
    "            (\"efficiency\", \"em\"): (dc * lp * (em / em.sum())).sum(),\n",
    "            (\"cutoff_amplitude\", \"ex\"): ex.loc[ex_cutoff],\n",
    "            (\"cutoff_amplitude\", \"em\"): em.loc[em_cutoff],\n",
    "            (\"margin\", \"ex\"): ex_cutoff - ex.idxmax(),\n",
    "            (\"margin\", \"em\"): em.idxmax() - em_cutoff,\n",
    "        }\n",
    "    )\n",
    "\n",
    "\n",
    "def evaluate_filter_combinations(\n",
    "    filter_combo_names, fp_names, dichroics, longpass_filters, filter_combinations, fps\n",
    "):\n",
    "    d = {}\n",
    "    for filter_combo in filter_combo_names:\n",
    "        dc = dichroics[filter_combo[0]]\n",
    "        lp = longpass_filters[filter_combo[1]]\n",
    "        dd = {}\n",
    "        for fp_name in fp_names:\n",
    "            ex = fps[fp_name][\"spectra\"][\"ex\"]\n",
    "            em = fps[fp_name][\"spectra\"][\"em\"]\n",
    "            dd[fp_name] = (\n",
    "                fp_efficiency(\n",
    "                    dc,\n",
    "                    lp,\n",
    "                    ex,\n",
    "                    em,\n",
    "                    filter_combinations.loc[filter_combo][\"ex_cutoff\"],\n",
    "                    filter_combinations.loc[filter_combo][\"em_cutoff\"],\n",
    "                )\n",
    "                .to_frame()\n",
    "                .T\n",
    "            )\n",
    "        d[filter_combo] = (\n",
    "            pd.concat(dd, axis=1)\n",
    "            .reorder_levels([1, 2, 0], axis=1)\n",
    "            .sort_index(axis=1, level=1, sort_remaining=False)\n",
    "        )\n",
    "    return pd.concat(d, axis=0).droplevel(-1)"
   ]
  },
  {
   "cell_type": "code",
   "execution_count": null,
   "metadata": {},
   "outputs": [],
   "source": [
    "selected_fps = [\n",
    "    \"mScarlet-I\",\n",
    "    \"mScarlet-H\",\n",
    "    \"mCherry\",\n",
    "    \"mCherry2\",\n",
    "    \"mKate2\",\n",
    "    \"E2-Crimson\",\n",
    "    \"TurboRFP\",\n",
    "]\n",
    "selected_fps = sorted(selected_fps, key=lambda x: fps[x][\"ex_max\"])\n",
    "filter_metrics = evaluate_filter_combinations(\n",
    "    selected_filter_combinations,\n",
    "    selected_fps,\n",
    "    dichroics,\n",
    "    longpass_filters,\n",
    "    filter_combinations,\n",
    "    fps,\n",
    ")"
   ]
  },
  {
   "cell_type": "code",
   "execution_count": null,
   "metadata": {},
   "outputs": [],
   "source": [
    "show_heatmap(filter_metrics[\"efficiency\"])"
   ]
  },
  {
   "cell_type": "code",
   "execution_count": null,
   "metadata": {},
   "outputs": [],
   "source": [
    "show_heatmap(filter_metrics[\"cutoff_amplitude\"])"
   ]
  },
  {
   "cell_type": "code",
   "execution_count": null,
   "metadata": {},
   "outputs": [],
   "source": [
    "show_heatmap(filter_metrics[\"margin\"], vmin=0, highlight_negative=\"black\")"
   ]
  },
  {
   "cell_type": "code",
   "execution_count": null,
   "metadata": {},
   "outputs": [],
   "source": [
    "filter_plot(fp_names=selected_fps)"
   ]
  },
  {
   "cell_type": "code",
   "execution_count": null,
   "metadata": {},
   "outputs": [],
   "source": [
    "filter_plot(fp_names=selected_fps)"
   ]
  },
  {
   "cell_type": "code",
   "execution_count": null,
   "metadata": {},
   "outputs": [],
   "source": [
    "filter_plot(fp_names=selected_fps)"
   ]
  },
  {
   "cell_type": "code",
   "execution_count": null,
   "metadata": {},
   "outputs": [],
   "source": [
    "filter_plot(fp_names=selected_fps)"
   ]
  },
  {
   "cell_type": "code",
   "execution_count": null,
   "metadata": {},
   "outputs": [],
   "source": [
    "filter_plot(fp_names=selected_fps)"
   ]
  },
  {
   "cell_type": "code",
   "execution_count": null,
   "metadata": {},
   "outputs": [],
   "source": [
    "\", \".join(fps.keys())"
   ]
  },
  {
   "cell_type": "code",
   "execution_count": null,
   "metadata": {},
   "outputs": [],
   "source": []
  }
 ],
 "metadata": {
  "kernelspec": {
   "display_name": "Python 3 (ipykernel)",
   "language": "python",
   "name": "python3"
  },
  "language_info": {
   "codemirror_mode": {
    "name": "ipython",
    "version": 3
   },
   "file_extension": ".py",
   "mimetype": "text/x-python",
   "name": "python",
   "nbconvert_exporter": "python",
   "pygments_lexer": "ipython3",
   "version": "3.8.2"
  }
 },
 "nbformat": 4,
 "nbformat_minor": 4
}
