{
 "cells": [
  {
   "cell_type": "code",
   "execution_count": null,
   "metadata": {},
   "outputs": [],
   "source": [
    "import numpy as np\n",
    "import pandas as pd\n",
    "import holoviews as hv\n",
    "import hvplot.pandas\n",
    "import matplotlib.pyplot as plt\n",
    "import io\n",
    "import os\n",
    "from pathlib import PurePath\n",
    "import zipfile\n",
    "import yaml"
   ]
  },
  {
   "cell_type": "code",
   "execution_count": null,
   "metadata": {},
   "outputs": [],
   "source": [
    "hv.extension(\"bokeh\")"
   ]
  },
  {
   "cell_type": "code",
   "execution_count": null,
   "metadata": {},
   "outputs": [],
   "source": [
    "ridb_zip = zipfile.ZipFile(\"compoundprisms/rii-database-2020-01-19.zip\", mode=\"r\")\n",
    "ridb = zipfile.Path(ridb_zip)"
   ]
  },
  {
   "cell_type": "code",
   "execution_count": null,
   "metadata": {},
   "outputs": [],
   "source": [
    "# vendors = [\"schott\"]\n",
    "vendors = [\n",
    "    \"schott\",\n",
    "    \"corning\",\n",
    "    \"cdgm\",\n",
    "    \"ohara\",\n",
    "    \"hikari\",\n",
    "    \"sumita\",\n",
    "    \"hoya\",\n",
    "    \"lzos\",\n",
    "    \"barberini\",\n",
    "    \"ami\",\n",
    "    \"lightpath\",\n",
    "    \"nsg\",\n",
    "    \"vitron\",\n",
    "]"
   ]
  },
  {
   "cell_type": "code",
   "execution_count": null,
   "metadata": {},
   "outputs": [],
   "source": [
    "def _parse_glass(entry):\n",
    "    data = {}\n",
    "    for d in entry[\"DATA\"]:\n",
    "        if d[\"type\"] == \"formula 2\":\n",
    "            d = {\n",
    "                k: np.fromstring(v, sep=\" \") if k != \"type\" else v for k, v in d.items()\n",
    "            }\n",
    "        elif d[\"type\"] == \"tabulated k\":\n",
    "            transmission = pd.read_csv(\n",
    "                io.StringIO(d[\"data\"]),\n",
    "                sep=r\"\\s+\",\n",
    "                names=[\"wavelength\", \"kappa\"],\n",
    "                index_col=\"wavelength\",\n",
    "            ).drop_duplicates()\n",
    "            d = {**d, \"data\": transmission}\n",
    "        data[d[\"type\"]] = d\n",
    "    return {**entry, \"DATA\": data}"
   ]
  },
  {
   "cell_type": "code",
   "execution_count": null,
   "metadata": {},
   "outputs": [],
   "source": [
    "%%time\n",
    "glasses = {}\n",
    "for zip_entry in ridb_zip.filelist:\n",
    "    if zip_entry.is_dir():\n",
    "        continue\n",
    "    path = PurePath(zip_entry.filename)\n",
    "    relpath = None\n",
    "    for vendor in vendors:\n",
    "        try:\n",
    "            relpath = path.relative_to(f\"database/data/glass/{vendor}\")\n",
    "            break\n",
    "        except:\n",
    "            pass\n",
    "    if relpath is None:\n",
    "        continue\n",
    "    short_glass_name = relpath.name.rstrip(\".yml\")\n",
    "    glass_name = f\"{vendor}_{short_glass_name}\"\n",
    "    if glass_name in glasses:\n",
    "        print(glass_name)\n",
    "    glasses[glass_name] = True\n",
    "    with ridb_zip.open(zip_entry, \"r\") as f:\n",
    "        data = yaml.load(f, Loader=yaml.SafeLoader)\n",
    "    glasses[glass_name] = _parse_glass(data)"
   ]
  },
  {
   "cell_type": "markdown",
   "metadata": {},
   "source": [
    "# Transmission"
   ]
  },
  {
   "cell_type": "code",
   "execution_count": null,
   "metadata": {},
   "outputs": [],
   "source": [
    "# wl=data_k_wl[i];\n",
    "# \t\tif(transmission_method && (wl<wl_n_min || wl>wl_n_max || !n_defined)) //with reflection and n not defined\n",
    "# \t\t\tcontinue;\n",
    "# \t\tn0=n(wl);\n",
    "# \t\tk0=data_k[i];\n",
    "# \t\t//internal transmittance\n",
    "# \t\talpha=4*Math.PI*k0/wl;//Âµm^-1\n",
    "# \t\ttau=Math.exp(-1*thickness*alpha);\n",
    "# \t\t//Fresnel reflection\n",
    "# \t\tn1=Complex.one;\n",
    "# \t\tn0>=0?n2=new Complex(n0,k0):n2=new Complex(-1*n0,k0);//regular or metamaterials with n<0\n",
    "# \t\tR=Complex.abs2(Complex.div(Complex.sub(n1,n2),Complex.add(n1,n2)));\n",
    "# \t\t//transmittance\n",
    "# \t\tswitch(transmission_method){\n",
    "# \t\t\tcase 0:T=tau;break;//internal transmission\n",
    "# \t\t\tcase 1:T=tau*(1-R)*(1-R);break;//with reflections\n",
    "# \t\t\tcase 2:T=tau*(1-R)*(1-R)/(1-R*tau*R*tau);break;//with multiple reflections\n",
    "# \t\t}"
   ]
  },
  {
   "cell_type": "code",
   "execution_count": null,
   "metadata": {},
   "outputs": [],
   "source": [
    "def transmittance(lmbda, kappa, thickness, n=None, reflections=None):\n",
    "    if reflections not in (None, \"single\", \"multiple\"):\n",
    "        raise ValueError(\"reflections must be one of: None, single, multiple\")\n",
    "    alpha = 4 * np.pi * kappa / lmbda\n",
    "    tau = np.exp(-thickness * alpha)\n",
    "    if reflections is None:\n",
    "        T = tau\n",
    "    else:\n",
    "        n2 = complex(np.abs(n), kappa)\n",
    "        R = np.abs((1 - n2) / (1 + n2))\n",
    "        if reflections == \"single\":\n",
    "            T = tau * (1 - R) ** 2\n",
    "        else:\n",
    "            T = tau * (1 - R) ** 2 / (1 - (R * tau) ** 2)\n",
    "    return T"
   ]
  },
  {
   "cell_type": "code",
   "execution_count": null,
   "metadata": {},
   "outputs": [],
   "source": [
    "df = glasses[\"N-SF11\"][\"DATA\"][\"tabulated k\"][\"data\"]"
   ]
  },
  {
   "cell_type": "code",
   "execution_count": null,
   "metadata": {},
   "outputs": [],
   "source": [
    "transmittance(df.index, df[\"kappa\"], 10e3)"
   ]
  },
  {
   "cell_type": "code",
   "execution_count": null,
   "metadata": {},
   "outputs": [],
   "source": [
    "df"
   ]
  },
  {
   "cell_type": "code",
   "execution_count": null,
   "metadata": {},
   "outputs": [],
   "source": [
    "glasses[\"N-SF11\"][\"DATA\"][\"tabulated k\"][\"data\"].hvplot()"
   ]
  },
  {
   "cell_type": "code",
   "execution_count": null,
   "metadata": {},
   "outputs": [],
   "source": [
    "from bokeh.models import HoverTool\n",
    "\n",
    "curves = []\n",
    "\n",
    "thickness = 2e3  # in µm\n",
    "\n",
    "for glass_name, glass in glasses.items():\n",
    "    if \"ht\" not in glass_name.lower():\n",
    "        continue\n",
    "    if \"tabulated k\" not in glass[\"DATA\"]:\n",
    "        continue\n",
    "    df = glass[\"DATA\"][\"tabulated k\"][\"data\"]\n",
    "    #     if df.index[0] > .28 or df.iloc[0,0] > 5e-6:\n",
    "    #         continue\n",
    "    T = transmittance(df.index, df[\"kappa\"], thickness)\n",
    "    tooltips = [(\"Name\", glass_name), (\"x\", \"@x\"), (\"y\", \"@y\")]\n",
    "    hover = HoverTool(tooltips=tooltips)\n",
    "    curves.append(hv.Curve((df.index, T), label=glass_name).opts(tools=[hover]))\n",
    "\n",
    "hv.Overlay(curves).redim.range(x=(0.24, 0.4)).opts(\n",
    "    width=900, height=700, legend_position=\"bottom_right\"\n",
    ")"
   ]
  },
  {
   "cell_type": "code",
   "execution_count": null,
   "metadata": {},
   "outputs": [],
   "source": [
    "z = glasses[\"schott_N-BK7\"][\"DATA\"][\"tabulated k\"][\"data\"]"
   ]
  },
  {
   "cell_type": "code",
   "execution_count": null,
   "metadata": {},
   "outputs": [],
   "source": [
    "z"
   ]
  },
  {
   "cell_type": "code",
   "execution_count": null,
   "metadata": {},
   "outputs": [],
   "source": [
    "(z < 1e-7).idxmax()"
   ]
  },
  {
   "cell_type": "code",
   "execution_count": null,
   "metadata": {},
   "outputs": [],
   "source": [
    "for glass in glasses.values():\n",
    "    if \"tabulated k\" not in glass[\"DATA\"]:\n",
    "        continue\n",
    "    df = glass[\"DATA\"][\"tabulated k\"][\"data\"]\n",
    "    T = transmittance(df.index, df[\"kappa\"], thickness)"
   ]
  },
  {
   "cell_type": "code",
   "execution_count": null,
   "metadata": {},
   "outputs": [],
   "source": [
    "T.index"
   ]
  },
  {
   "cell_type": "code",
   "execution_count": null,
   "metadata": {},
   "outputs": [],
   "source": [
    "T.iloc[T.index.get_loc(1.2, method=\"nearest\")]"
   ]
  },
  {
   "cell_type": "code",
   "execution_count": null,
   "metadata": {},
   "outputs": [],
   "source": [
    "def _uv_transmittance(glass):\n",
    "    thickness = 5e3  # µm\n",
    "    lmbda = 0.3  # µm\n",
    "    kappa = glass[\"DATA\"][\"tabulated k\"][\"data\"]\n",
    "    if kappa.index[0] > lmbda or not len(kappa):\n",
    "        return 0\n",
    "    T = transmittance(kappa.index, kappa[\"kappa\"], thickness)\n",
    "    idx = T.index.get_loc(lmbda, method=\"nearest\", tolerance=0.1)\n",
    "    return T.iloc[idx]\n",
    "\n",
    "\n",
    "abbe_data = pd.DataFrame(\n",
    "    list(\n",
    "        [\n",
    "            (\n",
    "                name,\n",
    "                g[\"SPECS\"][\"Vd\"],\n",
    "                g[\"SPECS\"][\"nd\"],\n",
    "                # g[\"DATA\"][\"tabulated k\"][\"data\"].index[0],\n",
    "                (g[\"DATA\"][\"tabulated k\"][\"data\"] < 5e-7).idxmax()[0],\n",
    "                _uv_transmittance(g),\n",
    "            )\n",
    "            for name, g in glasses.items()\n",
    "            if \"SPECS\" in g and \"Vd\" in g[\"SPECS\"] and \"tabulated k\" in g[\"DATA\"]\n",
    "        ]\n",
    "    ),\n",
    "    columns=[\"name\", \"Vd\", \"nd\", \"UVcutoff\", \"T300_5mm\"],\n",
    ").set_index(\"name\")"
   ]
  },
  {
   "cell_type": "code",
   "execution_count": null,
   "metadata": {},
   "outputs": [],
   "source": [
    "abbe_data"
   ]
  },
  {
   "cell_type": "code",
   "execution_count": null,
   "metadata": {},
   "outputs": [],
   "source": [
    "abbe_data[(abbe_data[\"T300_5mm\"] > 0.7) & (abbe_data[\"T300_5mm\"] != 1)].hvplot.scatter(\n",
    "    \"Vd\",\n",
    "    \"nd\",\n",
    "    # color=\"UVcutoff\",\n",
    "    color=\"T300_5mm\",\n",
    "    cmap=\"spectral\",\n",
    "    use_index=True,\n",
    "    hover_cols=\"all\",\n",
    "    flip_xaxis=True,\n",
    "    width=600,\n",
    "    height=500,\n",
    ")"
   ]
  },
  {
   "cell_type": "code",
   "execution_count": null,
   "metadata": {},
   "outputs": [],
   "source": [
    "abbe_data.hvplot.scatter(\n",
    "    \"Vd\",\n",
    "    \"nd\",\n",
    "    # color=\"UVcutoff\",\n",
    "    color=\"T300_5mm\",\n",
    "    cmap=\"spectral\",\n",
    "    use_index=True,\n",
    "    hover_cols=\"all\",\n",
    "    flip_xaxis=True,\n",
    "    width=600,\n",
    "    height=500,\n",
    ")"
   ]
  },
  {
   "cell_type": "code",
   "execution_count": null,
   "metadata": {},
   "outputs": [],
   "source": [
    "abbe_data[abbe_data.index.str.contains(\"ZF5\")]"
   ]
  },
  {
   "cell_type": "code",
   "execution_count": null,
   "metadata": {},
   "outputs": [],
   "source": [
    "abbe_data[abbe_data.index]"
   ]
  },
  {
   "cell_type": "code",
   "execution_count": null,
   "metadata": {},
   "outputs": [],
   "source": [
    "uv_glasses = [\n",
    "    \"hoya_MC-TAF31-15\",\n",
    "    \"hikari_J-LASF09A\",\n",
    "    \"sumita_K-GIR140\",\n",
    "    \"ohara_L-LAH87\",\n",
    "    \"ohara_L-LAH91\",\n",
    "    \"hikari_Q-LASFH11S\",\n",
    "    \"cdgm_H-LAK61\",\n",
    "    \"ohara_S-LAH97\",\n",
    "    \"ohara_S-LAL19\",\n",
    "    \"ohara_S-LAL18\",\n",
    "    \"hoya_TAC8\",\n",
    "    \"ohara_L-LAL15\",\n",
    "    \"hikari_7054\",\n",
    "    \"hikari_Q-LAK13S\",\n",
    "]\n",
    "uv_glasses_maybe = [\"cdgm_H-ZLAF69\", \"ohara_S-LAH59\"]"
   ]
  },
  {
   "cell_type": "code",
   "execution_count": null,
   "metadata": {},
   "outputs": [],
   "source": [
    "hv.Scatter()"
   ]
  },
  {
   "cell_type": "code",
   "execution_count": null,
   "metadata": {},
   "outputs": [],
   "source": []
  }
 ],
 "metadata": {
  "kernelspec": {
   "display_name": "Python 3",
   "language": "python",
   "name": "python3"
  },
  "language_info": {
   "codemirror_mode": {
    "name": "ipython",
    "version": 3
   },
   "file_extension": ".py",
   "mimetype": "text/x-python",
   "name": "python",
   "nbconvert_exporter": "python",
   "pygments_lexer": "ipython3",
   "version": "3.8.2"
  }
 },
 "nbformat": 4,
 "nbformat_minor": 4
}
