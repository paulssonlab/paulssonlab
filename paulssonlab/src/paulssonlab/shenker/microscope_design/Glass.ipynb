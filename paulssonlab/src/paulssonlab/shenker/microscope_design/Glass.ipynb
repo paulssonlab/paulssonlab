{
 "cells": [
  {
   "cell_type": "code",
   "execution_count": null,
   "metadata": {},
   "outputs": [],
   "source": [
    "import numpy as np\n",
    "import pandas as pd\n",
    "import holoviews as hv\n",
    "import hvplot.pandas\n",
    "import matplotlib.pyplot as plt\n",
    "import pickle"
   ]
  },
  {
   "cell_type": "code",
   "execution_count": null,
   "metadata": {},
   "outputs": [],
   "source": [
    "hv.extension(\"bokeh\")"
   ]
  },
  {
   "cell_type": "code",
   "execution_count": null,
   "metadata": {},
   "outputs": [],
   "source": [
    "%load_ext autoreload\n",
    "%autoreload 2\n",
    "import opticalmaterials"
   ]
  },
  {
   "cell_type": "markdown",
   "metadata": {},
   "source": [
    "# Glass catalog"
   ]
  },
  {
   "cell_type": "code",
   "execution_count": null,
   "metadata": {},
   "outputs": [],
   "source": [
    "%%time\n",
    "catalog = opticalmaterials.parse_rii_catalog(\n",
    "    \"compoundprisms/rii-database-2021-07-18.zip\"\n",
    ")\n",
    "with open(\"compoundprisms/rii.pickle\", \"wb\") as f:\n",
    "    pickle.dump(catalog, f)"
   ]
  },
  {
   "cell_type": "code",
   "execution_count": null,
   "metadata": {},
   "outputs": [],
   "source": [
    "%%time\n",
    "with open(\"compoundprisms/rii.pickle\", \"rb\") as f:\n",
    "    catalog = pickle.load(f)"
   ]
  },
  {
   "cell_type": "code",
   "execution_count": null,
   "metadata": {},
   "outputs": [],
   "source": [
    "catalog[(\"SCHOTT-LaK\", \"N-LAK12\")][\"DATA\"][\"formula 2\"]"
   ]
  },
  {
   "cell_type": "code",
   "execution_count": null,
   "metadata": {},
   "outputs": [],
   "source": [
    "n = opticalmaterials.get_n(catalog[(\"SCHOTT-LaK\", \"N-LAK12\")])"
   ]
  },
  {
   "cell_type": "code",
   "execution_count": null,
   "metadata": {},
   "outputs": [],
   "source": [
    "n(0.3)"
   ]
  },
  {
   "cell_type": "code",
   "execution_count": null,
   "metadata": {},
   "outputs": [],
   "source": [
    "n(np.array([0.3, 1.2]))"
   ]
  },
  {
   "cell_type": "code",
   "execution_count": null,
   "metadata": {},
   "outputs": [],
   "source": [
    "l = np.linspace(0.3, 1, 100)\n",
    "plt.plot(l, n(l))"
   ]
  },
  {
   "cell_type": "markdown",
   "metadata": {},
   "source": [
    "# Transmission"
   ]
  },
  {
   "cell_type": "code",
   "execution_count": null,
   "metadata": {},
   "outputs": [],
   "source": [
    "df = catalog[\"N-SF11\"][\"DATA\"][\"tabulated k\"][\"data\"]"
   ]
  },
  {
   "cell_type": "code",
   "execution_count": null,
   "metadata": {},
   "outputs": [],
   "source": [
    "transmittance(df.index, df[\"kappa\"], 10e3)"
   ]
  },
  {
   "cell_type": "code",
   "execution_count": null,
   "metadata": {},
   "outputs": [],
   "source": [
    "df"
   ]
  },
  {
   "cell_type": "code",
   "execution_count": null,
   "metadata": {},
   "outputs": [],
   "source": [
    "catalog[\"N-SF11\"][\"DATA\"][\"tabulated k\"][\"data\"].hvplot()"
   ]
  },
  {
   "cell_type": "code",
   "execution_count": null,
   "metadata": {},
   "outputs": [],
   "source": [
    "from bokeh.models import HoverTool\n",
    "\n",
    "curves = []\n",
    "\n",
    "thickness = 2e3  # in µm\n",
    "\n",
    "for glass_name, glass in catalog.items():\n",
    "    if not glass_name[1].endswith(\"HT\"):\n",
    "        continue\n",
    "    if \"tabulated k\" not in glass[\"DATA\"]:\n",
    "        continue\n",
    "    df = glass[\"DATA\"][\"tabulated k\"][\"data\"]\n",
    "    #     if df.index[0] > .28 or df.iloc[0,0] > 5e-6:\n",
    "    #         continue\n",
    "    T = opticalmaterials.transmittance(df.index.values, df[\"k\"].values, thickness)\n",
    "    tooltips = [(\"Name\", \"/\".join(glass_name)), (\"x\", \"@x\"), (\"y\", \"@y\")]\n",
    "    hover = HoverTool(tooltips=tooltips)\n",
    "    curves.append(hv.Curve((df.index, T), label=glass_name).opts(tools=[hover]))\n",
    "\n",
    "hv.Overlay(curves).redim.range(x=(0.24, 0.4)).opts(\n",
    "    width=900, height=700, legend_position=\"bottom_right\"\n",
    ")"
   ]
  },
  {
   "cell_type": "code",
   "execution_count": null,
   "metadata": {},
   "outputs": [],
   "source": [
    "z = glasses[\"schott_N-BK7\"][\"DATA\"][\"tabulated k\"][\"data\"]"
   ]
  },
  {
   "cell_type": "code",
   "execution_count": null,
   "metadata": {},
   "outputs": [],
   "source": [
    "z"
   ]
  },
  {
   "cell_type": "code",
   "execution_count": null,
   "metadata": {},
   "outputs": [],
   "source": [
    "(z < 1e-7).idxmax()"
   ]
  },
  {
   "cell_type": "code",
   "execution_count": null,
   "metadata": {},
   "outputs": [],
   "source": [
    "for glass in glasses.values():\n",
    "    if \"tabulated k\" not in glass[\"DATA\"]:\n",
    "        continue\n",
    "    df = glass[\"DATA\"][\"tabulated k\"][\"data\"]\n",
    "    T = transmittance(df.index, df[\"kappa\"], thickness)"
   ]
  },
  {
   "cell_type": "code",
   "execution_count": null,
   "metadata": {},
   "outputs": [],
   "source": [
    "T.index"
   ]
  },
  {
   "cell_type": "code",
   "execution_count": null,
   "metadata": {},
   "outputs": [],
   "source": [
    "T.iloc[T.index.get_loc(1.2, method=\"nearest\")]"
   ]
  },
  {
   "cell_type": "code",
   "execution_count": null,
   "metadata": {},
   "outputs": [],
   "source": [
    "def _uv_transmittance(glass):\n",
    "    thickness = 5e3  # µm\n",
    "    lmbda = 0.3  # µm\n",
    "    k = glass[\"DATA\"][\"tabulated k\"][\"data\"]\n",
    "    if k.index[0] > lmbda or not len(k):\n",
    "        return 0\n",
    "    T = pd.Series(opticalmaterials.transmittance(k.index.values, k[\"k\"].values, thickness), index=k.index)\n",
    "    idx = k.index.get_indexer([lmbda], method=\"nearest\", tolerance=0.1)[0]\n",
    "    return T.iloc[idx]\n",
    "\n",
    "\n",
    "abbe_data = pd.DataFrame(\n",
    "    list(\n",
    "        [\n",
    "            (\n",
    "                \"/\".join(name),\n",
    "                g[\"SPECS\"][\"Vd\"],\n",
    "                g[\"SPECS\"][\"nd\"],\n",
    "                # g[\"DATA\"][\"tabulated k\"][\"data\"].index[0],\n",
    "                (g[\"DATA\"][\"tabulated k\"][\"data\"] < 5e-7).idxmax()[0],\n",
    "                _uv_transmittance(g),\n",
    "            )\n",
    "            for name, g in catalog.items()\n",
    "            if \"SPECS\" in g and \"Vd\" in g[\"SPECS\"] and \"tabulated k\" in g[\"DATA\"]\n",
    "        ]\n",
    "    ),\n",
    "    columns=[\"name\", \"Vd\", \"nd\", \"UVcutoff\", \"T300_5mm\"],\n",
    ").set_index(\"name\")"
   ]
  },
  {
   "cell_type": "code",
   "execution_count": null,
   "metadata": {},
   "outputs": [],
   "source": [
    "abbe_data"
   ]
  },
  {
   "cell_type": "code",
   "execution_count": null,
   "metadata": {},
   "outputs": [],
   "source": [
    "abbe_data[(abbe_data[\"T300_5mm\"] > 0.7) & (abbe_data[\"T300_5mm\"] != 1)].hvplot.scatter(\n",
    "    \"Vd\",\n",
    "    \"nd\",\n",
    "    # color=\"UVcutoff\",\n",
    "    color=\"T300_5mm\",\n",
    "    cmap=\"spectral\",\n",
    "    use_index=True,\n",
    "    hover_cols=\"all\",\n",
    "    flip_xaxis=True,\n",
    "    width=600,\n",
    "    height=500,\n",
    ")"
   ]
  },
  {
   "cell_type": "code",
   "execution_count": null,
   "metadata": {},
   "outputs": [],
   "source": [
    "abbe_data.hvplot.scatter(\n",
    "    \"Vd\",\n",
    "    \"nd\",\n",
    "    # color=\"UVcutoff\",\n",
    "    color=\"T300_5mm\",\n",
    "    cmap=\"spectral\",\n",
    "    use_index=True,\n",
    "    hover_cols=\"all\",\n",
    "    flip_xaxis=True,\n",
    "    width=600,\n",
    "    height=500,\n",
    ")"
   ]
  },
  {
   "cell_type": "code",
   "execution_count": null,
   "metadata": {},
   "outputs": [],
   "source": [
    "abbe_data[abbe_data.index.str.contains(\"ZF5\")]"
   ]
  },
  {
   "cell_type": "code",
   "execution_count": null,
   "metadata": {},
   "outputs": [],
   "source": [
    "uv_glasses = [\n",
    "    \"hoya_MC-TAF31-15\",\n",
    "    \"hikari_J-LASF09A\",\n",
    "    \"sumita_K-GIR140\",\n",
    "    \"ohara_L-LAH87\",\n",
    "    \"ohara_L-LAH91\",\n",
    "    \"hikari_Q-LASFH11S\",\n",
    "    \"cdgm_H-LAK61\",\n",
    "    \"ohara_S-LAH97\",\n",
    "    \"ohara_S-LAL19\",\n",
    "    \"ohara_S-LAL18\",\n",
    "    \"hoya_TAC8\",\n",
    "    \"ohara_L-LAL15\",\n",
    "    \"hikari_7054\",\n",
    "    \"hikari_Q-LAK13S\",\n",
    "]\n",
    "uv_glasses_maybe = [\"cdgm_H-ZLAF69\", \"ohara_S-LAH59\"]"
   ]
  },
  {
   "cell_type": "code",
   "execution_count": null,
   "metadata": {},
   "outputs": [],
   "source": [
    "hv.Scatter()"
   ]
  },
  {
   "cell_type": "code",
   "execution_count": null,
   "metadata": {},
   "outputs": [],
   "source": []
  }
 ],
 "metadata": {
  "kernelspec": {
   "display_name": "Python 3 (ipykernel)",
   "language": "python",
   "name": "python3"
  },
  "language_info": {
   "codemirror_mode": {
    "name": "ipython",
    "version": 3
   },
   "file_extension": ".py",
   "mimetype": "text/x-python",
   "name": "python",
   "nbconvert_exporter": "python",
   "pygments_lexer": "ipython3",
   "version": "3.8.2"
  }
 },
 "nbformat": 4,
 "nbformat_minor": 4
}
