{
 "cells": [
  {
   "cell_type": "code",
   "execution_count": null,
   "metadata": {},
   "outputs": [],
   "source": [
    "import numpy as np\n",
    "import pandas as pd\n",
    "import xarray as xr\n",
    "import re\n",
    "import requests\n",
    "import holoviews as hv\n",
    "import matplotlib.pyplot as plt\n",
    "import pint\n",
    "import nd2reader\n",
    "import tifffile\n",
    "import scipy.stats\n",
    "import skimage"
   ]
  },
  {
   "cell_type": "code",
   "execution_count": null,
   "metadata": {},
   "outputs": [],
   "source": [
    "%load_ext autoreload\n",
    "%autoreload 2\n",
    "import simulation"
   ]
  },
  {
   "cell_type": "code",
   "execution_count": null,
   "metadata": {},
   "outputs": [],
   "source": [
    "# u = simulation.ureg\n",
    "class ObjProxy(object):\n",
    "    def __init__(self, module_name, attr_name):\n",
    "        self.__module_name = module_name\n",
    "        self.__attr_name = attr_name\n",
    "\n",
    "    def __getattr__(self, name):\n",
    "        return getattr(getattr(globals()[self.__module_name], self.__attr_name), name)\n",
    "\n",
    "\n",
    "u = ObjProxy(\"simulation\", \"ureg\")"
   ]
  },
  {
   "cell_type": "code",
   "execution_count": null,
   "metadata": {},
   "outputs": [],
   "source": [
    "hv.extension(\"bokeh\")"
   ]
  },
  {
   "cell_type": "markdown",
   "metadata": {},
   "source": [
    "# Setup"
   ]
  },
  {
   "cell_type": "code",
   "execution_count": null,
   "metadata": {},
   "outputs": [],
   "source": [
    "excitation_bins = np.linspace(300, 850, 1000)\n",
    "emission_bins = excitation_bins"
   ]
  },
  {
   "cell_type": "markdown",
   "metadata": {},
   "source": [
    "# FP spectra"
   ]
  },
  {
   "cell_type": "code",
   "execution_count": null,
   "metadata": {},
   "outputs": [],
   "source": [
    "# list of urls -> dict of spectra (columns: ex, em, 2p)\n",
    "# rebin spectra\n",
    "# rebinned spectra -> 2D spectra (see-saw)\n",
    "\n",
    "# 2D spectrum * excitation spectrum * QY [ex] -> [em]\n",
    "\n",
    "# rebin laser spectrum\n",
    "# sample line * rebinned laser spectrum = excitation image [ex,y,x]\n",
    "# excitation image (above) -> emission ground truth [em,y,x]\n",
    "# emission ground truth + reflectivity * excitation = emission [em,y,x]"
   ]
  },
  {
   "cell_type": "code",
   "execution_count": null,
   "metadata": {},
   "outputs": [],
   "source": [
    "spectra_urls = [\n",
    "    \"https://www.fpbase.org/spectra_csv/?q=79,80,158\",\n",
    "    \"https://www.fpbase.org/spectra_csv/?q=1451,1450\",\n",
    "    \"https://www.fpbase.org/spectra_csv/?q=119,120\",\n",
    "    \"https://www.fpbase.org/spectra_csv/?q=121,122\",\n",
    "]"
   ]
  },
  {
   "cell_type": "code",
   "execution_count": null,
   "metadata": {},
   "outputs": [],
   "source": [
    "spectra = simulation.import_fpbase_spectra(spectra_urls)"
   ]
  },
  {
   "cell_type": "code",
   "execution_count": null,
   "metadata": {},
   "outputs": [],
   "source": [
    "(-(x - 1) * (x + 1) * x).max()"
   ]
  },
  {
   "cell_type": "code",
   "execution_count": null,
   "metadata": {},
   "outputs": [],
   "source": [
    "x = np.linspace(-1, 1, 100)\n",
    "plt.plot(x, -(x - 1) * (x + 1) * x * 3 * np.sqrt(3) / 2)"
   ]
  },
  {
   "cell_type": "code",
   "execution_count": null,
   "metadata": {},
   "outputs": [],
   "source": [
    "def valid_range(ary):\n",
    "    is_valid = ~np.isnan(ary)\n",
    "    idx1 = is_valid.argmax()\n",
    "    idx2 = len(ary) - is_valid[::-1].argmax()\n",
    "    return idx1, idx2\n",
    "\n",
    "\n",
    "def seesaw_spectrum(spectrum, amount):\n",
    "    x = np.zeros(len(spectrum))\n",
    "    idx1, idx2 = valid_range(spectrum)\n",
    "    x[idx1:idx2] = np.linspace(-1, 1, idx2 - idx1)\n",
    "    x = x.reshape((-1,) + (1,) * (np.ndim(spectrum) - 1))\n",
    "    shape = -(x - 1) * (x + 1) * x * 3 * np.sqrt(3) / 4\n",
    "    new_spectrum = (amount * shape + 1 / 2) * spectrum\n",
    "    new_spectrum /= np.nanmax(new_spectrum, axis=0)\n",
    "    return new_spectrum"
   ]
  },
  {
   "cell_type": "code",
   "execution_count": null,
   "metadata": {},
   "outputs": [],
   "source": [
    "a = seesaw_spectrum(\n",
    "    spectra[\"mCherry2\"][\"em\"].values[:, np.newaxis], np.array([0.3, 0.5])[np.newaxis, :]\n",
    ")\n",
    "plt.plot(a)"
   ]
  },
  {
   "cell_type": "code",
   "execution_count": null,
   "metadata": {},
   "outputs": [],
   "source": [
    "a = seesaw_spectrum(\n",
    "    spectra[\"mCherry2\"][\"em\"].values[:, np.newaxis],\n",
    "    np.linspace(-0.5, 1, len(excitation_bins))[np.newaxis, :],\n",
    ")\n",
    "plt.imshow(a)"
   ]
  },
  {
   "cell_type": "code",
   "execution_count": null,
   "metadata": {},
   "outputs": [],
   "source": [
    "plt.plot(seesaw_spectrum(spectra[\"mCherry2\"][\"em\"], 1))\n",
    "plt.plot(seesaw_spectrum(spectra[\"mCherry2\"][\"em\"], -1))\n",
    "plt.plot(seesaw_spectrum(spectra[\"mCherry2\"][\"em\"], 0.2))\n",
    "plt.plot(seesaw_spectrum(spectra[\"mCherry2\"][\"em\"], -0.2))"
   ]
  },
  {
   "cell_type": "code",
   "execution_count": null,
   "metadata": {},
   "outputs": [],
   "source": [
    "old_index = spectra[\"mCherry2\"].index.astype(np.float)\n",
    "excitation_index = pd.Index(excitation_bins, name=\"wavelength\")\n",
    "new_index = excitation_index.union(old_index)\n",
    "b = spectra[\"mCherry2\"].reindex(index=new_index)\n",
    "b.interpolate(method=\"nearest\", inplace=True)"
   ]
  },
  {
   "cell_type": "code",
   "execution_count": null,
   "metadata": {},
   "outputs": [],
   "source": [
    "b.loc[excitation_index].plot()"
   ]
  },
  {
   "cell_type": "code",
   "execution_count": null,
   "metadata": {},
   "outputs": [],
   "source": [
    "excitation_index"
   ]
  },
  {
   "cell_type": "code",
   "execution_count": null,
   "metadata": {},
   "outputs": [],
   "source": [
    "b.plot()"
   ]
  },
  {
   "cell_type": "code",
   "execution_count": null,
   "metadata": {},
   "outputs": [],
   "source": [
    "np.nanmax(a[\"ex\"])"
   ]
  },
  {
   "cell_type": "markdown",
   "metadata": {},
   "source": [
    "# Sample"
   ]
  },
  {
   "cell_type": "code",
   "execution_count": null,
   "metadata": {},
   "outputs": [],
   "source": [
    "# nd2 = nd2reader.ND2Reader(\"ClpP_mEGFP_100x.nd2\")\n",
    "# nd2._parser._raw_metadata.z_levels = [0]\n",
    "# sample_img = nd2.get_frame_2D(v=0, c=1)  # [:,500:1000]\n",
    "# sample_img = image_to_xarray(sample_img, nd2.metadata[\"pixel_microns\"])"
   ]
  },
  {
   "cell_type": "code",
   "execution_count": null,
   "metadata": {},
   "outputs": [],
   "source": [
    "sample_img = tifffile.imread(\"t000001xy14c2.tif\")\n",
    "scale = 4.25 / 20\n",
    "sample_img = simulation.image_to_xarray(sample_img, scale)"
   ]
  },
  {
   "cell_type": "code",
   "execution_count": null,
   "metadata": {},
   "outputs": [],
   "source": [
    "sample_img.plot.imshow()"
   ]
  },
  {
   "cell_type": "code",
   "execution_count": null,
   "metadata": {},
   "outputs": [],
   "source": [
    "import skimage.filters"
   ]
  },
  {
   "cell_type": "code",
   "execution_count": null,
   "metadata": {},
   "outputs": [],
   "source": [
    "labels = sample_img.values > skimage.filters.threshold_otsu(sample_img.values)"
   ]
  },
  {
   "cell_type": "code",
   "execution_count": null,
   "metadata": {},
   "outputs": [],
   "source": [
    "num_spectra = 4"
   ]
  },
  {
   "cell_type": "code",
   "execution_count": null,
   "metadata": {},
   "outputs": [],
   "source": [
    "spectra_idx = skimage.morphology.label(labels) % num_spectra + (labels != 0)"
   ]
  },
  {
   "cell_type": "markdown",
   "metadata": {},
   "source": [
    "# Excitation line"
   ]
  },
  {
   "cell_type": "code",
   "execution_count": null,
   "metadata": {},
   "outputs": [],
   "source": [
    "line_img = simulation.draw_excitation_line(\n",
    "    np.linspace(0.6, 1.3, len(excitation_bins)) * u.mm,\n",
    "    0.3 * u.um,\n",
    "    0 * u.um,\n",
    "    1,\n",
    "    p_vertical=3,\n",
    "    p_horizontal=6,\n",
    "    height_px=60,\n",
    "    width_px=200,\n",
    ")"
   ]
  },
  {
   "cell_type": "code",
   "execution_count": null,
   "metadata": {},
   "outputs": [],
   "source": [
    "line_img.nbytes / 1e6"
   ]
  },
  {
   "cell_type": "code",
   "execution_count": null,
   "metadata": {},
   "outputs": [],
   "source": [
    "line_img[0].plot()"
   ]
  },
  {
   "cell_type": "code",
   "execution_count": null,
   "metadata": {},
   "outputs": [],
   "source": [
    "line_img[-1].plot()"
   ]
  },
  {
   "cell_type": "code",
   "execution_count": null,
   "metadata": {},
   "outputs": [],
   "source": [
    "sample_offset = simulation.offset_xarray(sample_img, line_img, dict(x=500, y=470))"
   ]
  },
  {
   "cell_type": "code",
   "execution_count": null,
   "metadata": {},
   "outputs": [],
   "source": [
    "(sample_offset * line_img).plot(aspect=20, size=5)"
   ]
  }
 ],
 "metadata": {
  "kernelspec": {
   "display_name": "Python 3",
   "language": "python",
   "name": "python3"
  },
  "language_info": {
   "codemirror_mode": {
    "name": "ipython",
    "version": 3
   },
   "file_extension": ".py",
   "mimetype": "text/x-python",
   "name": "python",
   "nbconvert_exporter": "python",
   "pygments_lexer": "ipython3",
   "version": "3.8.2"
  }
 },
 "nbformat": 4,
 "nbformat_minor": 4
}
