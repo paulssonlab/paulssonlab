{
 "cells": [
  {
   "cell_type": "code",
   "execution_count": null,
   "metadata": {},
   "outputs": [],
   "source": [
    "import numpy as np\n",
    "import pandas as pd\n",
    "import xarray as xr\n",
    "import re\n",
    "import requests\n",
    "import holoviews as hv\n",
    "import matplotlib.pyplot as plt\n",
    "import pint\n",
    "import nd2reader\n",
    "import tifffile\n",
    "import scipy.stats\n",
    "import skimage"
   ]
  },
  {
   "cell_type": "code",
   "execution_count": null,
   "metadata": {},
   "outputs": [],
   "source": [
    "%load_ext autoreload\n",
    "%autoreload 2\n",
    "import simulation"
   ]
  },
  {
   "cell_type": "code",
   "execution_count": null,
   "metadata": {},
   "outputs": [],
   "source": [
    "# u = simulation.ureg\n",
    "class ObjProxy(object):\n",
    "    def __init__(self, module_name, attr_name):\n",
    "        self.__module_name = module_name\n",
    "        self.__attr_name = attr_name\n",
    "\n",
    "    def __getattr__(self, name):\n",
    "        return getattr(getattr(globals()[self.__module_name], self.__attr_name), name)\n",
    "\n",
    "\n",
    "u = ObjProxy(\"simulation\", \"ureg\")"
   ]
  },
  {
   "cell_type": "code",
   "execution_count": null,
   "metadata": {},
   "outputs": [],
   "source": [
    "hv.extension(\"bokeh\")"
   ]
  },
  {
   "cell_type": "markdown",
   "metadata": {},
   "source": [
    "# Setup"
   ]
  },
  {
   "cell_type": "code",
   "execution_count": null,
   "metadata": {},
   "outputs": [],
   "source": [
    "excitation_bins = np.linspace(300, 850, 1000)\n",
    "emission_bins = excitation_bins"
   ]
  },
  {
   "cell_type": "markdown",
   "metadata": {},
   "source": [
    "# FP spectra"
   ]
  },
  {
   "cell_type": "code",
   "execution_count": null,
   "metadata": {},
   "outputs": [],
   "source": [
    "# sample line (pass defocus array?) [ex,y,x]\n",
    "\n",
    "###\n",
    "\n",
    "# list of urls -> dict of spectra (columns: ex, em, 2p)\n",
    "# rebin spectra\\n\",\n",
    "# rebinned spectra -> 2D spectra (see-saw)\n",
    "\n",
    "# 2D spectra -> img spectral hypercube ground truth [ex,em,y,x]\n",
    "# sample line (pass defocus array?) [ex,y,x]\n",
    "# rebin laser spectrum\n",
    "# sample line * rebinned laser spectrum [ex,y,x]\n",
    "# line * sample = emission ground truth [em,y,x]\n",
    "# emission ground truth + reflectivity * excitation = emission [em,y,x]"
   ]
  },
  {
   "cell_type": "code",
   "execution_count": null,
   "metadata": {},
   "outputs": [],
   "source": [
    "spectra_urls = [\n",
    "    \"https://www.fpbase.org/spectra_csv/?q=79,80,158\",\n",
    "    \"https://www.fpbase.org/spectra_csv/?q=1451,1450\",\n",
    "    \"https://www.fpbase.org/spectra_csv/?q=119,120\",\n",
    "    \"https://www.fpbase.org/spectra_csv/?q=121,122\",\n",
    "]"
   ]
  },
  {
   "cell_type": "code",
   "execution_count": null,
   "metadata": {},
   "outputs": [],
   "source": [
    "spectra = simulation.import_fpbase_spectra(spectra_urls)"
   ]
  },
  {
   "cell_type": "markdown",
   "metadata": {},
   "source": [
    "# Sample"
   ]
  },
  {
   "cell_type": "code",
   "execution_count": null,
   "metadata": {},
   "outputs": [],
   "source": [
    "# nd2 = nd2reader.ND2Reader(\"ClpP_mEGFP_100x.nd2\")\n",
    "# nd2._parser._raw_metadata.z_levels = [0]\n",
    "# sample_img = nd2.get_frame_2D(v=0, c=1)  # [:,500:1000]\n",
    "# sample_img = image_to_xarray(sample_img, nd2.metadata[\"pixel_microns\"])"
   ]
  },
  {
   "cell_type": "code",
   "execution_count": null,
   "metadata": {},
   "outputs": [],
   "source": [
    "sample_img = tifffile.imread(\"t000001xy14c2.tif\")\n",
    "scale = 4.25 / 20\n",
    "sample_img = simulation.image_to_xarray(sample_img, scale)"
   ]
  },
  {
   "cell_type": "code",
   "execution_count": null,
   "metadata": {},
   "outputs": [],
   "source": [
    "sample_img.plot.imshow()"
   ]
  },
  {
   "cell_type": "code",
   "execution_count": null,
   "metadata": {},
   "outputs": [],
   "source": [
    "import skimage.filters"
   ]
  },
  {
   "cell_type": "code",
   "execution_count": null,
   "metadata": {},
   "outputs": [],
   "source": [
    "labels = sample_img.values > skimage.filters.threshold_otsu(sample_img.values)"
   ]
  },
  {
   "cell_type": "code",
   "execution_count": null,
   "metadata": {},
   "outputs": [],
   "source": [
    "num_spectra = 4"
   ]
  },
  {
   "cell_type": "code",
   "execution_count": null,
   "metadata": {},
   "outputs": [],
   "source": [
    "spectra_idx = skimage.morphology.label(labels) % num_spectra + (labels != 0)"
   ]
  },
  {
   "cell_type": "markdown",
   "metadata": {},
   "source": [
    "# Excitation line"
   ]
  },
  {
   "cell_type": "code",
   "execution_count": null,
   "metadata": {},
   "outputs": [],
   "source": [
    "# 2 -> [[2]]\n",
    "# [2,3] -> [[2],[3]]"
   ]
  },
  {
   "cell_type": "code",
   "execution_count": null,
   "metadata": {},
   "outputs": [],
   "source": [
    "np.array([0, 1, 2]).reshape((-1, 1, 1)).shape"
   ]
  },
  {
   "cell_type": "code",
   "execution_count": null,
   "metadata": {},
   "outputs": [],
   "source": [
    "np.array([0, 1, 2]).shape"
   ]
  },
  {
   "cell_type": "code",
   "execution_count": null,
   "metadata": {},
   "outputs": [],
   "source": [
    "np.atleast_3d([0, 1, 2]).shape"
   ]
  },
  {
   "cell_type": "code",
   "execution_count": null,
   "metadata": {},
   "outputs": [],
   "source": [
    "np.atleast_2d([2, 3]).T"
   ]
  },
  {
   "cell_type": "code",
   "execution_count": null,
   "metadata": {},
   "outputs": [],
   "source": [
    "np.array([2, 2]).reshape((-1, 1))  # .shape"
   ]
  },
  {
   "cell_type": "code",
   "execution_count": null,
   "metadata": {},
   "outputs": [],
   "source": [
    "a = scipy.stats.gennorm.pdf(\n",
    "    np.linspace(-1, 1, 10)[np.newaxis, :], np.array([2, 10])[:, np.newaxis]\n",
    ")\n",
    "plt.plot(a.T)"
   ]
  },
  {
   "cell_type": "code",
   "execution_count": null,
   "metadata": {},
   "outputs": [],
   "source": [
    "scipy.stats.gennorm.pdf(\n",
    "    np.linspace(-1, 1, 10)[:, np.newaxis, np.newaxis],\n",
    "    np.linspace(1, 2, 7)[np.newaxis, np.newaxis, :],\n",
    ")"
   ]
  },
  {
   "cell_type": "code",
   "execution_count": null,
   "metadata": {},
   "outputs": [],
   "source": [
    "line_img = simulation.draw_excitation_line(\n",
    "    1.3 * u.mm, 0.3 * u.um, 0 * u.um, 1, p_vertical=3, p_horizontal=6\n",
    ")"
   ]
  },
  {
   "cell_type": "code",
   "execution_count": null,
   "metadata": {},
   "outputs": [],
   "source": [
    "line_img.plot()"
   ]
  },
  {
   "cell_type": "code",
   "execution_count": null,
   "metadata": {},
   "outputs": [],
   "source": [
    "line_img = simulation.draw_excitation_line(\n",
    "    1.3 * u.mm, 0.3 * u.um, 0 * u.um, np.array([0.2, 1]), p_vertical=3, p_horizontal=6\n",
    ")"
   ]
  },
  {
   "cell_type": "code",
   "execution_count": null,
   "metadata": {},
   "outputs": [],
   "source": [
    "line_img[1].plot()"
   ]
  },
  {
   "cell_type": "code",
   "execution_count": null,
   "metadata": {},
   "outputs": [],
   "source": [
    "line_img[0].plot()"
   ]
  },
  {
   "cell_type": "code",
   "execution_count": null,
   "metadata": {},
   "outputs": [],
   "source": [
    "line_img = simulation.draw_excitation_line(\n",
    "    [0.5, 1.3] * u.mm,\n",
    "    [0.1, 0.3] * u.um,\n",
    "    [0.05, 0.1] * u.um,\n",
    "    np.array([0.9, 1]),\n",
    "    p_vertical=np.array([3, 4]),\n",
    "    p_horizontal=np.array([6, 7]),\n",
    ")"
   ]
  },
  {
   "cell_type": "code",
   "execution_count": null,
   "metadata": {},
   "outputs": [],
   "source": [
    "line_img = simulation.draw_excitation_line(\n",
    "    1.3 * u.mm, 0.3 * u.um, 0 * u.um, 1, p_vertical=3, p_horizontal=6\n",
    ")"
   ]
  },
  {
   "cell_type": "code",
   "execution_count": null,
   "metadata": {},
   "outputs": [],
   "source": [
    "line_img.plot()"
   ]
  },
  {
   "cell_type": "code",
   "execution_count": null,
   "metadata": {},
   "outputs": [],
   "source": [
    "sample_offset = simulation.offset_xarray(sample_img, line_img, dict(x=500, y=470))"
   ]
  },
  {
   "cell_type": "code",
   "execution_count": null,
   "metadata": {},
   "outputs": [],
   "source": [
    "(sample_offset * line_img).plot(aspect=20, size=5)"
   ]
  }
 ],
 "metadata": {
  "kernelspec": {
   "display_name": "Python 3",
   "language": "python",
   "name": "python3"
  },
  "language_info": {
   "codemirror_mode": {
    "name": "ipython",
    "version": 3
   },
   "file_extension": ".py",
   "mimetype": "text/x-python",
   "name": "python",
   "nbconvert_exporter": "python",
   "pygments_lexer": "ipython3",
   "version": "3.8.2"
  }
 },
 "nbformat": 4,
 "nbformat_minor": 4
}
