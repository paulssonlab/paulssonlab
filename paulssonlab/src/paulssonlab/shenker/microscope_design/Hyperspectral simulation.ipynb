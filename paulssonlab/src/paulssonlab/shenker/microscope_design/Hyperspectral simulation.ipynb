{
 "cells": [
  {
   "cell_type": "code",
   "execution_count": null,
   "metadata": {},
   "outputs": [],
   "source": [
    "import numpy as np\n",
    "import pandas as pd\n",
    "import xarray as xr\n",
    "import numba\n",
    "import re\n",
    "import requests\n",
    "import holoviews as hv\n",
    "import matplotlib.pyplot as plt\n",
    "import pint\n",
    "import nd2reader\n",
    "import tifffile\n",
    "import scipy.stats\n",
    "import skimage\n",
    "import skimage.filters"
   ]
  },
  {
   "cell_type": "code",
   "execution_count": null,
   "metadata": {},
   "outputs": [],
   "source": [
    "%load_ext autoreload\n",
    "%autoreload 2\n",
    "import simulation"
   ]
  },
  {
   "cell_type": "code",
   "execution_count": null,
   "metadata": {},
   "outputs": [],
   "source": [
    "# u = simulation.ureg\n",
    "class ObjProxy(object):\n",
    "    def __init__(self, module_name, attr_name):\n",
    "        self.__module_name = module_name\n",
    "        self.__attr_name = attr_name\n",
    "\n",
    "    def __getattr__(self, name):\n",
    "        return getattr(getattr(globals()[self.__module_name], self.__attr_name), name)\n",
    "\n",
    "\n",
    "u = ObjProxy(\"simulation\", \"ureg\")"
   ]
  },
  {
   "cell_type": "code",
   "execution_count": null,
   "metadata": {},
   "outputs": [],
   "source": [
    "hv.extension(\"bokeh\")"
   ]
  },
  {
   "cell_type": "markdown",
   "metadata": {},
   "source": [
    "# Setup"
   ]
  },
  {
   "cell_type": "code",
   "execution_count": null,
   "metadata": {},
   "outputs": [],
   "source": [
    "excitation_bins = np.linspace(300, 850, 200)\n",
    "excitation_bin_size = (excitation_bins[-1] - excitation_bins[0]) / len(excitation_bins)\n",
    "emission_bins = np.linspace(300, 850, 300)  # excitation_bins\n",
    "emission_bin_size = (emission_bins[-1] - emission_bins[0]) / len(emission_bins)"
   ]
  },
  {
   "cell_type": "markdown",
   "metadata": {},
   "source": [
    "# FP spectra"
   ]
  },
  {
   "cell_type": "code",
   "execution_count": null,
   "metadata": {},
   "outputs": [],
   "source": [
    "spectra_urls = [\n",
    "    \"https://www.fpbase.org/spectra_csv/?q=79,80,158\",\n",
    "    \"https://www.fpbase.org/spectra_csv/?q=1451,1450\",\n",
    "    \"https://www.fpbase.org/spectra_csv/?q=119,120\",\n",
    "    \"https://www.fpbase.org/spectra_csv/?q=121,122\",\n",
    "]"
   ]
  },
  {
   "cell_type": "code",
   "execution_count": null,
   "metadata": {},
   "outputs": [],
   "source": [
    "# spectra = {\n",
    "#     name: simulation.interpolate_dataframe(spectrum, emission_bins)\n",
    "#     for name, spectrum in simulation.import_fpbase_spectra(spectra_urls).items()\n",
    "# }"
   ]
  },
  {
   "cell_type": "code",
   "execution_count": null,
   "metadata": {},
   "outputs": [],
   "source": [
    "fp_excitation_spectra"
   ]
  },
  {
   "cell_type": "code",
   "execution_count": null,
   "metadata": {},
   "outputs": [],
   "source": [
    "fp_names = [\"background\", *spectra.keys()]\n",
    "fp_excitation_spectra = np.stack(\n",
    "    [\n",
    "        np.zeros(len(excitation_bins)),\n",
    "        *[\n",
    "            simulation.interpolate_dataframe(spectrum[\"ex\"], excitation_bins).values\n",
    "            for spectrum in spectra.values()\n",
    "        ],\n",
    "    ]\n",
    ").astype(np.float32)\n",
    "fp_excitation_spectra = xr.DataArray(\n",
    "    fp_excitation_spectra,\n",
    "    coords=dict(fp=fp_names, ex=excitation_bins),\n",
    "    dims=[\"fp\", \"ex\"],\n",
    ")\n",
    "fp_excitation_spectra = fp_excitation_spectra.fillna(0)\n",
    "seesaw_amounts = np.linspace(-0.5, 1, len(excitation_bins))[np.newaxis, :]\n",
    "fp_emission_spectra = (\n",
    "    np.stack(\n",
    "        [\n",
    "            np.zeros((len(emission_bins), len(excitation_bins))),\n",
    "            *[\n",
    "                simulation.seesaw_spectrum(\n",
    "                    simulation.interpolate_dataframe(\n",
    "                        spectrum[\"em\"], emission_bins\n",
    "                    ).values[:, np.newaxis],\n",
    "                    seesaw_amounts,\n",
    "                )\n",
    "                for spectrum in spectra.values()\n",
    "            ],\n",
    "        ]\n",
    "    )\n",
    "    .astype(np.float32)\n",
    "    .swapaxes(1, 2)\n",
    ")\n",
    "fp_emission_spectra = xr.DataArray(\n",
    "    fp_emission_spectra,\n",
    "    coords=dict(fp=fp_names, ex=excitation_bins, em=emission_bins),\n",
    "    dims=[\"fp\", \"ex\", \"em\"],\n",
    ")\n",
    "fp_emission_spectra = fp_emission_spectra.fillna(0)"
   ]
  },
  {
   "cell_type": "code",
   "execution_count": null,
   "metadata": {},
   "outputs": [],
   "source": [
    "fp_emission_spectra[3].plot()"
   ]
  },
  {
   "cell_type": "markdown",
   "metadata": {},
   "source": [
    "# Excitation line"
   ]
  },
  {
   "cell_type": "code",
   "execution_count": null,
   "metadata": {},
   "outputs": [],
   "source": [
    "line_img = simulation.draw_excitation_line(\n",
    "    np.linspace(0.3, 1.3, len(excitation_bins)) * u.mm,\n",
    "    0.3 * u.um,\n",
    "    0 * u.um,\n",
    "    1,\n",
    "    p_vertical=3,\n",
    "    p_horizontal=6,\n",
    "    height_px=60,\n",
    "    width_px=6500,\n",
    ")"
   ]
  },
  {
   "cell_type": "code",
   "execution_count": null,
   "metadata": {},
   "outputs": [],
   "source": [
    "line_img.nbytes / 1e6"
   ]
  },
  {
   "cell_type": "code",
   "execution_count": null,
   "metadata": {},
   "outputs": [],
   "source": [
    "line_img[0].plot()"
   ]
  },
  {
   "cell_type": "code",
   "execution_count": null,
   "metadata": {},
   "outputs": [],
   "source": [
    "line_img[-1].plot()"
   ]
  },
  {
   "cell_type": "markdown",
   "metadata": {},
   "source": [
    "# Sample"
   ]
  },
  {
   "cell_type": "code",
   "execution_count": null,
   "metadata": {},
   "outputs": [],
   "source": [
    "# nd2 = nd2reader.ND2Reader(\"ClpP_mEGFP_100x.nd2\")\n",
    "# nd2._parser._raw_metadata.z_levels = [0]\n",
    "# sample_img = nd2.get_frame_2D(v=0, c=1)  # [:,500:1000]\n",
    "# sample_img = image_to_xarray(sample_img, nd2.metadata[\"pixel_microns\"])"
   ]
  },
  {
   "cell_type": "code",
   "execution_count": null,
   "metadata": {},
   "outputs": [],
   "source": [
    "sample_img = tifffile.imread(\"t000001xy14c2.tif\")\n",
    "scale = 4.25 / 20\n",
    "sample_img = sample_img / sample_img.max()\n",
    "sample_img = simulation.image_to_xarray(sample_img, scale).astype(np.float32)"
   ]
  },
  {
   "cell_type": "code",
   "execution_count": null,
   "metadata": {},
   "outputs": [],
   "source": [
    "labels = sample_img.values > skimage.filters.threshold_otsu(sample_img.values)"
   ]
  },
  {
   "cell_type": "code",
   "execution_count": null,
   "metadata": {},
   "outputs": [],
   "source": [
    "num_spectra = 4"
   ]
  },
  {
   "cell_type": "code",
   "execution_count": null,
   "metadata": {},
   "outputs": [],
   "source": [
    "fp_idx = skimage.morphology.label(labels) % num_spectra + (labels != 0)\n",
    "for i in range(3):\n",
    "    fp_idx = skimage.morphology.dilation(fp_idx)\n",
    "fp_idx = fp_idx.astype(np.uint8)"
   ]
  },
  {
   "cell_type": "code",
   "execution_count": null,
   "metadata": {},
   "outputs": [],
   "source": [
    "fp_img = simulation.xarray_like(sample_img, fp_idx)"
   ]
  },
  {
   "cell_type": "markdown",
   "metadata": {},
   "source": [
    "# Regrid FP image to excitation line grid"
   ]
  },
  {
   "cell_type": "code",
   "execution_count": null,
   "metadata": {},
   "outputs": [],
   "source": [
    "shifts = dict(x=500, y=470)"
   ]
  },
  {
   "cell_type": "code",
   "execution_count": null,
   "metadata": {},
   "outputs": [],
   "source": [
    "fp_img_offset = simulation.shift_and_interp(\n",
    "    fp_img, line_img, shifts, method=\"nearest\"\n",
    ").astype(np.uint8)"
   ]
  },
  {
   "cell_type": "code",
   "execution_count": null,
   "metadata": {},
   "outputs": [],
   "source": [
    "fp_img_offset.plot(aspect=20, size=5)"
   ]
  },
  {
   "cell_type": "code",
   "execution_count": null,
   "metadata": {},
   "outputs": [],
   "source": [
    "sample_img_offset = simulation.shift_and_interp(sample_img, line_img, shifts).astype(\n",
    "    np.float32\n",
    ")"
   ]
  },
  {
   "cell_type": "code",
   "execution_count": null,
   "metadata": {},
   "outputs": [],
   "source": [
    "(fp_img_offset * sample_img_offset).plot(aspect=20, size=5)"
   ]
  },
  {
   "cell_type": "markdown",
   "metadata": {},
   "source": [
    "# Laser spectrum"
   ]
  },
  {
   "cell_type": "code",
   "execution_count": null,
   "metadata": {},
   "outputs": [],
   "source": [
    "laser_spectrum = (\n",
    "    scipy.stats.norm.pdf(excitation_bins, 550, 10).astype(np.float32)\n",
    "    * excitation_bin_size\n",
    ")\n",
    "laser_spectrum = xr.DataArray(\n",
    "    laser_spectrum, coords=dict(ex=excitation_bins), dims=[\"ex\"]\n",
    ")"
   ]
  },
  {
   "cell_type": "code",
   "execution_count": null,
   "metadata": {},
   "outputs": [],
   "source": [
    "laser_spectrum.plot()"
   ]
  },
  {
   "cell_type": "markdown",
   "metadata": {},
   "source": [
    "# Laser filter spectrum"
   ]
  },
  {
   "cell_type": "markdown",
   "metadata": {},
   "source": [
    "# Excitation image"
   ]
  },
  {
   "cell_type": "code",
   "execution_count": null,
   "metadata": {},
   "outputs": [],
   "source": [
    "excitation_img = line_img * laser_spectrum"
   ]
  },
  {
   "cell_type": "markdown",
   "metadata": {},
   "source": [
    "# Absorption image"
   ]
  },
  {
   "cell_type": "code",
   "execution_count": null,
   "metadata": {},
   "outputs": [],
   "source": [
    "fp_img_offset"
   ]
  },
  {
   "cell_type": "code",
   "execution_count": null,
   "metadata": {},
   "outputs": [],
   "source": [
    "sample_excitation_img = xr.DataArray(\n",
    "    np.rollaxis(fp_excitation_spectra[fp_img_offset, :].values, -1),\n",
    "    coords=dict(ex=excitation_bins, x=fp_img_offset.x, y=fp_img_offset.y),\n",
    "    dims=[\"ex\", \"y\", \"x\"],\n",
    ")"
   ]
  },
  {
   "cell_type": "code",
   "execution_count": null,
   "metadata": {},
   "outputs": [],
   "source": [
    "sample_excitation_intensity_img = (sample_excitation_img * sample_img_offset).fillna(0)"
   ]
  },
  {
   "cell_type": "code",
   "execution_count": null,
   "metadata": {},
   "outputs": [],
   "source": [
    "sample_excitation_intensity_img.dtype"
   ]
  },
  {
   "cell_type": "code",
   "execution_count": null,
   "metadata": {},
   "outputs": [],
   "source": [
    "sample_excitation_intensity_img[30].plot(aspect=20, size=5)"
   ]
  },
  {
   "cell_type": "code",
   "execution_count": null,
   "metadata": {},
   "outputs": [],
   "source": [
    "sample_excitation_intensity_img[:, 30, 3180:3230].plot(aspect=20, size=5)"
   ]
  },
  {
   "cell_type": "code",
   "execution_count": null,
   "metadata": {},
   "outputs": [],
   "source": [
    "absorption_img = excitation_img * sample_excitation_intensity_img"
   ]
  },
  {
   "cell_type": "code",
   "execution_count": null,
   "metadata": {},
   "outputs": [],
   "source": [
    "absorption_img[60].plot(aspect=20, size=5)"
   ]
  },
  {
   "cell_type": "code",
   "execution_count": null,
   "metadata": {},
   "outputs": [],
   "source": [
    "absorption_img.dtype"
   ]
  },
  {
   "cell_type": "code",
   "execution_count": null,
   "metadata": {},
   "outputs": [],
   "source": [
    "fp_idx.shape"
   ]
  },
  {
   "cell_type": "code",
   "execution_count": null,
   "metadata": {},
   "outputs": [],
   "source": [
    "fp_emission_spectra.shape"
   ]
  },
  {
   "cell_type": "markdown",
   "metadata": {},
   "source": [
    "# Emission image"
   ]
  },
  {
   "cell_type": "code",
   "execution_count": null,
   "metadata": {},
   "outputs": [],
   "source": [
    "@numba.guvectorize(\n",
    "    \"(float32[:,:,:,:], uint8[:,:], float32[:,:,:], float32[:,:,:])\",\n",
    "    \"(ex,y,x,k), (y,x), (n,ex,em) -> (em,y,x)\",\n",
    ")\n",
    "def _generate_emission(absorption_img, idx_img, emission_spectra, out):\n",
    "    for y in range(absorption_img.shape[1]):\n",
    "        for x in range(absorption_img.shape[2]):\n",
    "            out[:, y, x] = (\n",
    "                absorption_img[:, y, x, :] * emission_spectra[idx_img[y, x], :, :]\n",
    "            ).sum(axis=0)\n",
    "            # out[:,y,x] = (absorption_img[:,y,x][:,np.newaxis] * emission_spectra[idx_img[y,x],:,:]).sum(axis=0)\n",
    "\n",
    "\n",
    "def generate_emission(absorption_img, idx_img, emission_spectra):\n",
    "    ary = _generate_emission(\n",
    "        np.expand_dims(absorption_img.values, -1),\n",
    "        idx_img.values,\n",
    "        emission_spectra.values,\n",
    "    )\n",
    "    return xr.DataArray(\n",
    "        ary,\n",
    "        coords=dict(em=emission_spectra.em, y=absorption_img.y, x=absorption_img.x),\n",
    "        dims=[\"em\", \"y\", \"x\"],\n",
    "    )"
   ]
  },
  {
   "cell_type": "code",
   "execution_count": null,
   "metadata": {},
   "outputs": [],
   "source": [
    "%%time\n",
    "emission_img = generate_emission(absorption_img, fp_img_offset, fp_emission_spectra)"
   ]
  },
  {
   "cell_type": "code",
   "execution_count": null,
   "metadata": {},
   "outputs": [],
   "source": [
    "emission_img[:, 30].plot(aspect=20, size=5)"
   ]
  },
  {
   "cell_type": "markdown",
   "metadata": {},
   "source": [
    "# Reflected emission"
   ]
  },
  {
   "cell_type": "markdown",
   "metadata": {},
   "source": [
    "# Prism"
   ]
  },
  {
   "cell_type": "markdown",
   "metadata": {},
   "source": [
    "# Camera"
   ]
  },
  {
   "cell_type": "markdown",
   "metadata": {},
   "source": [
    "# "
   ]
  }
 ],
 "metadata": {
  "kernelspec": {
   "display_name": "Python 3",
   "language": "python",
   "name": "python3"
  },
  "language_info": {
   "codemirror_mode": {
    "name": "ipython",
    "version": 3
   },
   "file_extension": ".py",
   "mimetype": "text/x-python",
   "name": "python",
   "nbconvert_exporter": "python",
   "pygments_lexer": "ipython3",
   "version": "3.8.2"
  }
 },
 "nbformat": 4,
 "nbformat_minor": 4
}
