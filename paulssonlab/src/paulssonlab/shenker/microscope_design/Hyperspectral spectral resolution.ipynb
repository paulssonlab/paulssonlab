{
 "cells": [
  {
   "cell_type": "code",
   "execution_count": null,
   "metadata": {},
   "outputs": [],
   "source": [
    "import numpy as np\n",
    "import pandas as pd\n",
    "import requests\n",
    "import holoviews as hv"
   ]
  },
  {
   "cell_type": "code",
   "execution_count": null,
   "metadata": {},
   "outputs": [],
   "source": [
    "hv.extension(\"bokeh\")"
   ]
  },
  {
   "cell_type": "markdown",
   "metadata": {},
   "source": [
    "# Spectral response"
   ]
  },
  {
   "cell_type": "code",
   "execution_count": null,
   "metadata": {},
   "outputs": [],
   "source": [
    "def bin_spectrum(df, bins):\n",
    "    bin_assignment = pd.cut(df.index, bins).rename_categories(\n",
    "        (bins.right + bins.left) / 2\n",
    "    )\n",
    "    return df.groupby(bin_assignment).mean()"
   ]
  },
  {
   "cell_type": "code",
   "execution_count": null,
   "metadata": {},
   "outputs": [],
   "source": [
    "spectra_urls = {\n",
    "    \"mCherry\": \"https://www.fpbase.org/spectra_csv/?q=79,80,158\",\n",
    "    \"mCherry2\": \"https://www.fpbase.org/spectra_csv/?q=1451,1450\",\n",
    "}\n",
    "spectra = {\n",
    "    name: pd.read_csv(url)\n",
    "    .rename(columns={f\"{name} {kind}\": kind for kind in (\"ex\", \"em\", \"2p\")})\n",
    "    .set_index(\"wavelength\")\n",
    "    for name, url in spectra_urls.items()\n",
    "}"
   ]
  },
  {
   "cell_type": "code",
   "execution_count": null,
   "metadata": {},
   "outputs": [],
   "source": [
    "bins = pd.interval_range(300, 1100, freq=5)"
   ]
  },
  {
   "cell_type": "code",
   "execution_count": null,
   "metadata": {},
   "outputs": [],
   "source": [
    "binned_spectra = {\n",
    "    name: bin_spectrum(spectrum, bins) for name, spectrum in spectra.items()\n",
    "}"
   ]
  },
  {
   "cell_type": "code",
   "execution_count": null,
   "metadata": {},
   "outputs": [],
   "source": [
    "(\n",
    "    hv.Curve(spectra[\"mCherry\"][\"em\"].dropna())\n",
    "    * hv.Curve(spectra[\"mCherry2\"][\"em\"].dropna())\n",
    ").opts(width=800)"
   ]
  },
  {
   "cell_type": "code",
   "execution_count": null,
   "metadata": {},
   "outputs": [],
   "source": [
    "(\n",
    "    hv.Curve(binned_spectra[\"mCherry\"][\"em\"].dropna())\n",
    "    * hv.Curve(binned_spectra[\"mCherry2\"][\"em\"].dropna())\n",
    ").opts(width=800)"
   ]
  },
  {
   "cell_type": "code",
   "execution_count": null,
   "metadata": {},
   "outputs": [],
   "source": [
    "obj_transmission = pd.read_csv(\"uplxapo_20x.csv\", header=None)\n",
    "obj_transmission.columns = [\"wavelength\", \"transmission\"]\n",
    "obj_transmission.set_index(\"wavelength\", inplace=True)\n",
    "hv.Curve(obj_transmission).opts(width=800)"
   ]
  },
  {
   "cell_type": "code",
   "execution_count": null,
   "metadata": {},
   "outputs": [],
   "source": [
    "laser_power_shg = pd.read_csv(\"discovery_vue_shg.csv\", header=1).set_index(\"lambda\")\n",
    "# laser_power_shg.columns = [\"power\"]\n",
    "laser_power_pump = pd.read_csv(\"discovery_vue_pump.csv\", header=1).set_index(\"lambda\")\n",
    "laser_power_pump.columns = [\"pump power\"]\n",
    "laser_power = pd.concat(\n",
    "    [\n",
    "        laser_power_shg,\n",
    "        laser_power_pump,\n",
    "        laser_power_shg.rename(columns={\"SHG power\": \"power\"}).append(\n",
    "            laser_power_pump.rename(columns={\"pump power\": \"power\"})\n",
    "        ),\n",
    "    ],\n",
    "    axis=1,\n",
    ")\n",
    "laser_power.index.name = \"wavelength\"\n",
    "hv.Curve(laser_power, \"wavelength\", \"power\").opts(width=800)"
   ]
  },
  {
   "cell_type": "code",
   "execution_count": null,
   "metadata": {},
   "outputs": [],
   "source": [
    "import nd2reader\n",
    "import matplotlib.pyplot as plt"
   ]
  },
  {
   "cell_type": "code",
   "execution_count": null,
   "metadata": {},
   "outputs": [],
   "source": [
    "nd2 = nd2reader.ND2Reader(\n",
    "    \"/home/jqs1/scratch/191312/G-R_RG/RG_100pct_100ms_100pct_100ms.nd2_0001.nd2\"\n",
    ")"
   ]
  },
  {
   "cell_type": "code",
   "execution_count": null,
   "metadata": {},
   "outputs": [],
   "source": [
    "plt.imshow(nd2.get_frame_2D(t=0))"
   ]
  },
  {
   "cell_type": "code",
   "execution_count": null,
   "metadata": {},
   "outputs": [],
   "source": [
    "import pickle"
   ]
  },
  {
   "cell_type": "code",
   "execution_count": null,
   "metadata": {},
   "outputs": [],
   "source": [
    "with open(\n",
    "    \"/n/groups/paulsson/jqs1/molecule-counting/190521photobleaching_noflatcorr.pickle\",\n",
    "    \"rb\",\n",
    ") as f:\n",
    "    dat = pickle.load(f)"
   ]
  },
  {
   "cell_type": "code",
   "execution_count": null,
   "metadata": {},
   "outputs": [],
   "source": [
    "dat.keys()"
   ]
  },
  {
   "cell_type": "code",
   "execution_count": null,
   "metadata": {},
   "outputs": [],
   "source": [
    "f = np.asarray(\n",
    "    dat[\"/n/scratch2/jqs1/190514/GFP_100ms_10pct.nd2\"][0][\"segmentation_frame\"]\n",
    ")"
   ]
  },
  {
   "cell_type": "code",
   "execution_count": null,
   "metadata": {},
   "outputs": [],
   "source": [
    "plt.imshow(f)"
   ]
  },
  {
   "cell_type": "code",
   "execution_count": null,
   "metadata": {},
   "outputs": [],
   "source": []
  }
 ],
 "metadata": {
  "kernelspec": {
   "display_name": "Python 3",
   "language": "python",
   "name": "python3"
  },
  "language_info": {
   "codemirror_mode": {
    "name": "ipython",
    "version": 3
   },
   "file_extension": ".py",
   "mimetype": "text/x-python",
   "name": "python",
   "nbconvert_exporter": "python",
   "pygments_lexer": "ipython3",
   "version": "3.8.2"
  }
 },
 "nbformat": 4,
 "nbformat_minor": 4
}
