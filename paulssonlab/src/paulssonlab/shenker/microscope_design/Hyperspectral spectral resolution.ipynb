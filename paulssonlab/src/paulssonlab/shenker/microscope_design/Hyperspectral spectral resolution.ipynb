{
 "cells": [
  {
   "cell_type": "code",
   "execution_count": null,
   "metadata": {},
   "outputs": [],
   "source": [
    "import numpy as np\n",
    "import pandas as pd\n",
    "import re\n",
    "import requests\n",
    "import holoviews as hv\n",
    "import matplotlib.pyplot as plt\n",
    "import pint\n",
    "from scipy.stats import norm"
   ]
  },
  {
   "cell_type": "code",
   "execution_count": null,
   "metadata": {},
   "outputs": [],
   "source": [
    "%load_ext autoreload\n",
    "%autoreload 2\n",
    "import simulation"
   ]
  },
  {
   "cell_type": "code",
   "execution_count": null,
   "metadata": {},
   "outputs": [],
   "source": [
    "u = simulation.ureg"
   ]
  },
  {
   "cell_type": "code",
   "execution_count": null,
   "metadata": {},
   "outputs": [],
   "source": [
    "hv.extension(\"bokeh\")"
   ]
  },
  {
   "cell_type": "markdown",
   "metadata": {},
   "source": [
    "# Photophysics"
   ]
  },
  {
   "cell_type": "code",
   "execution_count": null,
   "metadata": {},
   "outputs": [],
   "source": [
    "power = 75 * u.milliwatts"
   ]
  },
  {
   "cell_type": "code",
   "execution_count": null,
   "metadata": {},
   "outputs": [],
   "source": [
    "width = 26.5 * u.mm / 20\n",
    "height = 0.213 * u.um"
   ]
  },
  {
   "cell_type": "code",
   "execution_count": null,
   "metadata": {},
   "outputs": [],
   "source": [
    "(power / (width * height)).to(\"kW/cm^2\")"
   ]
  },
  {
   "cell_type": "markdown",
   "metadata": {},
   "source": [
    "# Femtosecond laser"
   ]
  },
  {
   "cell_type": "code",
   "execution_count": null,
   "metadata": {},
   "outputs": [],
   "source": [
    "norm.pdf(521, 500, 4.4)"
   ]
  },
  {
   "cell_type": "code",
   "execution_count": null,
   "metadata": {},
   "outputs": [],
   "source": [
    "norm.pdf(510, 500, 6.9 / 2)"
   ]
  },
  {
   "cell_type": "code",
   "execution_count": null,
   "metadata": {},
   "outputs": [],
   "source": [
    "temporal_fwhm = 120 * u.femtoseconds\n",
    "lmbda = 700 * u.nanometer\n",
    "delta_lmbda = 40 * u.nanometer\n",
    "xs = np.linspace(lmbda - delta_lmbda, lmbda + delta_lmbda, 10 * delta_lmbda.magnitude)\n",
    "normalization = (len(xs) / (xs[-1] - xs[0])).magnitude\n",
    "tbwp_quality = 1.5\n",
    "tbwp_gaussian = 0.44 * tbwp_quality  # gaussian\n",
    "tbwp_sech = 0.315 * tbwp_quality  # sech^2\n",
    "# tbwp = 0.6 # Levante Emerald 2 ps"
   ]
  },
  {
   "cell_type": "code",
   "execution_count": null,
   "metadata": {},
   "outputs": [],
   "source": [
    "spectral_width = (lmbda**2 / (u.speed_of_light * temporal_fwhm)).to(\"nm\")\n",
    "spectral_width"
   ]
  },
  {
   "cell_type": "code",
   "execution_count": null,
   "metadata": {},
   "outputs": [],
   "source": [
    "spectral_width * tbwp_gaussian"
   ]
  },
  {
   "cell_type": "code",
   "execution_count": null,
   "metadata": {},
   "outputs": [],
   "source": [
    "spectral_sigma = tbwp_gaussian * spectral_width / (2 * np.sqrt(2 * np.log(2)))\n",
    "spectral_sigma"
   ]
  },
  {
   "cell_type": "code",
   "execution_count": null,
   "metadata": {},
   "outputs": [],
   "source": [
    "gaussian_spectrum = norm.pdf(xs, lmbda, spectral_sigma)\n",
    "gaussian_cdf = np.cumsum(gaussian_spectrum) / normalization"
   ]
  },
  {
   "cell_type": "code",
   "execution_count": null,
   "metadata": {},
   "outputs": [],
   "source": [
    "hv.Curve((xs, np.log10(gaussian_spectrum))) * hv.Curve((xs, np.log(1 - gaussian_cdf)))"
   ]
  },
  {
   "cell_type": "code",
   "execution_count": null,
   "metadata": {},
   "outputs": [],
   "source": [
    "sech_spectral_fwhm = tbwp_sech * spectral_fwhm"
   ]
  },
  {
   "cell_type": "code",
   "execution_count": null,
   "metadata": {},
   "outputs": [],
   "source": [
    "sech_alpha = sech_spectral_fwhm / np.arccosh(np.sqrt(2))"
   ]
  },
  {
   "cell_type": "code",
   "execution_count": null,
   "metadata": {},
   "outputs": [],
   "source": [
    "sech_spectrum = (\n",
    "    1\n",
    "    / (np.sqrt(sech_alpha) * np.cosh(2 * (xs - xs[xs.shape[0] // 2]) / sech_alpha)) ** 2\n",
    ")\n",
    "sech_cdf = np.cumsum(sech_spectrum.magnitude) / normalization"
   ]
  },
  {
   "cell_type": "code",
   "execution_count": null,
   "metadata": {},
   "outputs": [],
   "source": [
    "hv.Curve((xs, np.log10(sech_spectrum.magnitude))) * hv.Curve((xs, np.log(1 - sech_cdf)))"
   ]
  },
  {
   "cell_type": "code",
   "execution_count": null,
   "metadata": {},
   "outputs": [],
   "source": [
    "hv.Curve((xs, np.log10(gaussian_spectrum))) * hv.Curve(\n",
    "    (xs, np.log10(sech_spectrum.magnitude))\n",
    ")"
   ]
  },
  {
   "cell_type": "markdown",
   "metadata": {},
   "source": [
    "# Laser + filter"
   ]
  },
  {
   "cell_type": "code",
   "execution_count": null,
   "metadata": {},
   "outputs": [],
   "source": [
    "# filters, filter_peaks = load_filter_spectra(\"LF102474.csv.csv\")\n",
    "filters, filter_peaks = simulation.load_filter_spectra(\"LF103454.csv\")"
   ]
  },
  {
   "cell_type": "code",
   "execution_count": null,
   "metadata": {},
   "outputs": [],
   "source": [
    "sorted(filter_peaks.items())"
   ]
  },
  {
   "cell_type": "code",
   "execution_count": null,
   "metadata": {},
   "outputs": [],
   "source": [
    "hv.Curve(filter_spectrum)"
   ]
  },
  {
   "cell_type": "code",
   "execution_count": null,
   "metadata": {},
   "outputs": [],
   "source": [
    "idx = 86.0\n",
    "filter_spectrum = filters[idx]\n",
    "# index = pd.Series(np.linspace(laser_cwl-40,laser_cwl+40,200))\n",
    "# index = pd.Series(np.linspace(filter_spectrum.index[0],filter_spectrum.index[-1],10000))\n",
    "# filter_spectrum = filter_spectrum.reindex(index=index)\n",
    "# filter_spectrum.interpolate(method='nearest', inplace=True)\n",
    "# index = filter_spectrum.index\n",
    "filter_spectrum /= filter_spectrum.max()\n",
    "filter_thresh = 0.8\n",
    "laser_cwl = (filter_spectrum > filter_thresh)[::-1].idxmax()[0]\n",
    "new_index = pd.Index(np.linspace(laser_cwl - 40, laser_cwl + 40, 100))\n",
    "index = filter_spectrum.index.astype(np.float).union(new_index)\n",
    "index.name = \"wavelength\"\n",
    "filter_spectrum = filter_spectrum.reindex(index=index)\n",
    "filter_spectrum.interpolate(method=\"linear\", inplace=True)\n",
    "index = filter_spectrum.index  # probably unnecessary\n",
    "# laser_cwl = 730\n",
    "# temporal_fwhm = 110 * u.femtoseconds\n",
    "# spectral_width = (lmbda**2/(u.speed_of_light * temporal_fwhm)).to(\"nm\")\n",
    "# tbwp = 0.6\n",
    "# laser_sigma = tbwp * spectral_width / (2 * np.sqrt(2 * np.log(2)))\n",
    "laser_bandwidth = (\n",
    "    200 * 1 / u.cm\n",
    ")  # (tbwp/(u.speed_of_light * temporal_fwhm)).to(\"cm^-1\")\n",
    "laser_fwhm = (laser_bandwidth * (laser_cwl * u.nm) ** 2).to(\"nm\")\n",
    "laser_sigma = laser_fwhm / (2 * np.sqrt(2 * np.log(2)))\n",
    "# laser_sigma = 2#5.1\n",
    "laser_spectrum = norm.pdf(index.values, laser_cwl, laser_sigma)\n",
    "laser_spectrum /= np.nanmax(laser_spectrum)\n",
    "laser_spectrum = pd.Series(laser_spectrum, index=index, name=\"transmission\")\n",
    "# laser_spectrum[laser_spectrum == 0] = np.nan\n",
    "output_spectrum = filter_spectrum.multiply(laser_spectrum, axis=0)\n",
    "lines = (\n",
    "    hv.VLine(x=laser_cwl).opts(color=\"red\")\n",
    "    * hv.VLine(x=laser_cwl + 5).opts(color=\"red\", line_dash=[2, 8])\n",
    "    * hv.VLine(x=laser_cwl + 10).opts(color=\"red\", line_dash=\"dashed\")\n",
    "    * hv.VLine(x=laser_cwl + 15).opts(color=\"red\", line_dash=\"dotdash\")\n",
    "    * hv.VLine(x=laser_cwl + 20).opts(color=\"red\", line_dash=\"dotted\")\n",
    ")\n",
    "(\n",
    "    (\n",
    "        hv.Curve(np.log10(laser_spectrum))\n",
    "        * hv.Curve(np.log10(filter_spectrum))\n",
    "        * hv.Curve(np.log10(output_spectrum)).opts(color=\"purple\")\n",
    "        * lines\n",
    "        * hv.HLine(y=-4).opts(color=\"orange\")\n",
    "        * hv.HLine(y=-6).opts(color=\"orange\")\n",
    "    )\n",
    "    .redim.range(wavelength=(laser_cwl - 10, laser_cwl + 25), transmission=(-8, 0))\n",
    "    .opts(width=600)\n",
    "    + (\n",
    "        hv.Curve(laser_spectrum)\n",
    "        * hv.Curve(filter_spectrum)\n",
    "        * hv.Curve(output_spectrum).opts(color=\"purple\")\n",
    "        * lines\n",
    "    )\n",
    "    .redim(transmission=hv.Dimension(\"power\", range=(0, 1)))\n",
    "    .opts(width=600)\n",
    ").cols(1)"
   ]
  },
  {
   "cell_type": "code",
   "execution_count": null,
   "metadata": {},
   "outputs": [],
   "source": [
    "laser_fwhm"
   ]
  },
  {
   "cell_type": "code",
   "execution_count": null,
   "metadata": {},
   "outputs": [],
   "source": [
    "hv.Curve(filters[idx])"
   ]
  },
  {
   "cell_type": "code",
   "execution_count": null,
   "metadata": {},
   "outputs": [],
   "source": [
    "hv.Curve(filters[5.0])"
   ]
  },
  {
   "cell_type": "code",
   "execution_count": null,
   "metadata": {},
   "outputs": [],
   "source": [
    "pd.read_csv(\"discovery_660nm.csv\")"
   ]
  },
  {
   "cell_type": "code",
   "execution_count": null,
   "metadata": {},
   "outputs": [],
   "source": [
    "beam_spectrum = pd.read_csv(\"discovery_660nm.csv\").set_index(\"Wavelength\")\n",
    "beam_spectrum /= beam_spectrum.max()\n",
    "laser_cwl = beam_spectrum.idxmax()[0]\n",
    "log_beam_spectrum = np.log10(beam_spectrum)\n",
    "log_beam_spectrum[np.isinf(log_beam_spectrum)] = np.nan"
   ]
  },
  {
   "cell_type": "code",
   "execution_count": null,
   "metadata": {},
   "outputs": [],
   "source": [
    "(\n",
    "    hv.Curve(log_beam_spectrum).redim.range(\n",
    "        wavelength=(laser_cwl - 10, laser_cwl + 25), transmission=(-8, 0)\n",
    "    )\n",
    "    * hv.VLine(x=laser_cwl).opts(color=\"red\")\n",
    "    * hv.VLine(x=laser_cwl + 5).opts(color=\"red\", line_dash=[2, 8])\n",
    "    * hv.VLine(x=laser_cwl + 10).opts(color=\"red\", line_dash=\"dashed\")\n",
    "    * hv.VLine(x=laser_cwl + 15).opts(color=\"red\", line_dash=\"dotdash\")\n",
    "    * hv.VLine(x=laser_cwl + 20).opts(color=\"red\", line_dash=\"dotted\")\n",
    "    * hv.HLine(y=-1).opts(color=\"orange\")\n",
    "    * hv.HLine(y=-2).opts(color=\"orange\")\n",
    "    * hv.HLine(y=-3).opts(color=\"orange\")\n",
    ").opts(width=600)"
   ]
  },
  {
   "cell_type": "markdown",
   "metadata": {},
   "source": [
    "# Spectral response"
   ]
  },
  {
   "cell_type": "code",
   "execution_count": null,
   "metadata": {},
   "outputs": [],
   "source": [
    "def bin_spectrum(df, bins):\n",
    "    bin_assignment = pd.cut(df.index, bins).rename_categories(\n",
    "        (bins.right + bins.left) / 2\n",
    "    )\n",
    "    return df.groupby(bin_assignment).mean()"
   ]
  },
  {
   "cell_type": "code",
   "execution_count": null,
   "metadata": {},
   "outputs": [],
   "source": [
    "spectra_urls = {\n",
    "    \"mCherry\": \"https://www.fpbase.org/spectra_csv/?q=79,80,158\",\n",
    "    \"mCherry2\": \"https://www.fpbase.org/spectra_csv/?q=1451,1450\",\n",
    "}\n",
    "spectra = {\n",
    "    name: pd.read_csv(url)\n",
    "    .rename(columns={f\"{name} {kind}\": kind for kind in (\"ex\", \"em\", \"2p\")})\n",
    "    .set_index(\"wavelength\")\n",
    "    for name, url in spectra_urls.items()\n",
    "}"
   ]
  },
  {
   "cell_type": "code",
   "execution_count": null,
   "metadata": {},
   "outputs": [],
   "source": [
    "bins = pd.interval_range(300, 1100, freq=5)"
   ]
  },
  {
   "cell_type": "code",
   "execution_count": null,
   "metadata": {},
   "outputs": [],
   "source": [
    "binned_spectra = {\n",
    "    name: bin_spectrum(spectrum, bins) for name, spectrum in spectra.items()\n",
    "}"
   ]
  },
  {
   "cell_type": "code",
   "execution_count": null,
   "metadata": {},
   "outputs": [],
   "source": [
    "(\n",
    "    hv.Curve(spectra[\"mCherry\"][\"em\"].dropna())\n",
    "    * hv.Curve(spectra[\"mCherry2\"][\"em\"].dropna())\n",
    ").opts(width=800)"
   ]
  },
  {
   "cell_type": "code",
   "execution_count": null,
   "metadata": {},
   "outputs": [],
   "source": [
    "(\n",
    "    hv.Curve(binned_spectra[\"mCherry\"][\"em\"].dropna())\n",
    "    * hv.Curve(binned_spectra[\"mCherry2\"][\"em\"].dropna())\n",
    ").opts(width=800)"
   ]
  },
  {
   "cell_type": "code",
   "execution_count": null,
   "metadata": {},
   "outputs": [],
   "source": [
    "obj_transmission = pd.read_csv(\"uplxapo_20x.csv\", header=None)\n",
    "obj_transmission.columns = [\"wavelength\", \"transmission\"]\n",
    "obj_transmission.set_index(\"wavelength\", inplace=True)\n",
    "hv.Curve(obj_transmission).opts(width=800)"
   ]
  },
  {
   "cell_type": "code",
   "execution_count": null,
   "metadata": {},
   "outputs": [],
   "source": [
    "laser_power_shg = pd.read_csv(\"discovery_vue_shg.csv\", header=1).set_index(\"lambda\")\n",
    "# laser_power_shg.columns = [\"power\"]\n",
    "laser_power_pump = pd.read_csv(\"discovery_vue_pump.csv\", header=1).set_index(\"lambda\")\n",
    "laser_power_pump.columns = [\"pump power\"]\n",
    "laser_power = pd.concat(\n",
    "    [\n",
    "        laser_power_shg,\n",
    "        laser_power_pump,\n",
    "        laser_power_shg.rename(columns={\"SHG power\": \"power\"}).append(\n",
    "            laser_power_pump.rename(columns={\"pump power\": \"power\"})\n",
    "        ),\n",
    "    ],\n",
    "    axis=1,\n",
    ")\n",
    "laser_power.index.name = \"wavelength\"\n",
    "hv.Curve(laser_power, \"wavelength\", \"power\").opts(width=800)"
   ]
  },
  {
   "cell_type": "code",
   "execution_count": null,
   "metadata": {},
   "outputs": [],
   "source": [
    "laser_power"
   ]
  },
  {
   "cell_type": "markdown",
   "metadata": {},
   "source": [
    "# Image data"
   ]
  },
  {
   "cell_type": "code",
   "execution_count": null,
   "metadata": {},
   "outputs": [],
   "source": [
    "nd2 = nd2reader.ND2Reader(\n",
    "    \"/home/jqs1/scratch/191312/G-R_RG/RG_100pct_100ms_100pct_100ms.nd2_0001.nd2\"\n",
    ")"
   ]
  },
  {
   "cell_type": "code",
   "execution_count": null,
   "metadata": {},
   "outputs": [],
   "source": [
    "plt.imshow(nd2.get_frame_2D(t=0))"
   ]
  },
  {
   "cell_type": "code",
   "execution_count": null,
   "metadata": {},
   "outputs": [],
   "source": [
    "import pickle"
   ]
  },
  {
   "cell_type": "code",
   "execution_count": null,
   "metadata": {},
   "outputs": [],
   "source": [
    "with open(\n",
    "    \"/n/groups/paulsson/jqs1/molecule-counting/190521photobleaching_noflatcorr.pickle\",\n",
    "    \"rb\",\n",
    ") as f:\n",
    "    dat = pickle.load(f)"
   ]
  },
  {
   "cell_type": "code",
   "execution_count": null,
   "metadata": {},
   "outputs": [],
   "source": [
    "dat.keys()"
   ]
  },
  {
   "cell_type": "code",
   "execution_count": null,
   "metadata": {},
   "outputs": [],
   "source": [
    "f = np.asarray(\n",
    "    dat[\"/n/scratch2/jqs1/190514/GFP_100ms_10pct.nd2\"][0][\"segmentation_frame\"]\n",
    ")"
   ]
  },
  {
   "cell_type": "code",
   "execution_count": null,
   "metadata": {},
   "outputs": [],
   "source": [
    "plt.imshow(f)"
   ]
  },
  {
   "cell_type": "code",
   "execution_count": null,
   "metadata": {},
   "outputs": [],
   "source": []
  }
 ],
 "metadata": {
  "kernelspec": {
   "display_name": "Python 3",
   "language": "python",
   "name": "python3"
  },
  "language_info": {
   "codemirror_mode": {
    "name": "ipython",
    "version": 3
   },
   "file_extension": ".py",
   "mimetype": "text/x-python",
   "name": "python",
   "nbconvert_exporter": "python",
   "pygments_lexer": "ipython3",
   "version": "3.8.2"
  }
 },
 "nbformat": 4,
 "nbformat_minor": 4
}
