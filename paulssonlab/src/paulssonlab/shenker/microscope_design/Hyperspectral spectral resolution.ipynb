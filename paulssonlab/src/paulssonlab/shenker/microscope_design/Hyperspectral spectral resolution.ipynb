{
 "cells": [
  {
   "cell_type": "code",
   "execution_count": null,
   "id": "0",
   "metadata": {},
   "outputs": [],
   "source": [
    "import re\n",
    "\n",
    "import holoviews as hv\n",
    "import matplotlib.pyplot as plt\n",
    "import numpy as np\n",
    "import pandas as pd\n",
    "import pint\n",
    "import requests\n",
    "from scipy.stats import norm"
   ]
  },
  {
   "cell_type": "code",
   "execution_count": null,
   "id": "1",
   "metadata": {},
   "outputs": [],
   "source": [
    "%load_ext autoreload\n",
    "%autoreload 2\n",
    "import simulation"
   ]
  },
  {
   "cell_type": "code",
   "execution_count": null,
   "id": "2",
   "metadata": {},
   "outputs": [],
   "source": [
    "# u = simulation.ureg\n",
    "class ObjProxy(object):\n",
    "    def __init__(self, module_name, attr_name):\n",
    "        self.__module_name = module_name\n",
    "        self.__attr_name = attr_name\n",
    "\n",
    "    def __getattr__(self, name):\n",
    "        return getattr(getattr(globals()[self.__module_name], self.__attr_name), name)\n",
    "\n",
    "\n",
    "u = ObjProxy(\"simulation\", \"ureg\")"
   ]
  },
  {
   "cell_type": "code",
   "execution_count": null,
   "id": "3",
   "metadata": {},
   "outputs": [],
   "source": [
    "hv.extension(\"bokeh\")"
   ]
  },
  {
   "cell_type": "markdown",
   "id": "4",
   "metadata": {},
   "source": [
    "# Photophysics"
   ]
  },
  {
   "cell_type": "code",
   "execution_count": null,
   "id": "5",
   "metadata": {},
   "outputs": [],
   "source": [
    "power = 75 * u.milliwatts"
   ]
  },
  {
   "cell_type": "code",
   "execution_count": null,
   "id": "6",
   "metadata": {},
   "outputs": [],
   "source": [
    "width = 26.5 * u.mm / 20\n",
    "height = 0.213 * u.um"
   ]
  },
  {
   "cell_type": "code",
   "execution_count": null,
   "id": "7",
   "metadata": {},
   "outputs": [],
   "source": [
    "(power / (width * height)).to(\"kW/cm^2\")"
   ]
  },
  {
   "cell_type": "markdown",
   "id": "8",
   "metadata": {},
   "source": [
    "# FWHM"
   ]
  },
  {
   "cell_type": "code",
   "execution_count": null,
   "id": "9",
   "metadata": {},
   "outputs": [],
   "source": [
    "laser_cwl = 700\n",
    "delta_lmbda = 25\n",
    "xs = np.linspace(laser_cwl - delta_lmbda, laser_cwl + delta_lmbda, 10 * delta_lmbda)\n",
    "fwhm = 3\n",
    "sigma = fwhm / (2 * np.sqrt(2 * np.log(2)))\n",
    "laser_spectrum = norm.pdf(xs, laser_cwl, sigma)\n",
    "lines = (\n",
    "    hv.VLine(x=laser_cwl).opts(color=\"red\")\n",
    "    * hv.VLine(x=laser_cwl + 5).opts(color=\"red\", line_dash=[2, 8])\n",
    "    * hv.VLine(x=laser_cwl + 10).opts(color=\"red\", line_dash=\"dashed\")\n",
    "    * hv.VLine(x=laser_cwl + 15).opts(color=\"red\", line_dash=\"dotdash\")\n",
    "    * hv.VLine(x=laser_cwl + 20).opts(color=\"red\", line_dash=\"dotted\")\n",
    "    * hv.HLine(y=-4).opts(color=\"orange\")\n",
    "    * hv.HLine(y=-6).opts(color=\"orange\")\n",
    ")\n",
    "hv.Curve((xs, np.log10(laser_spectrum))) * lines\n",
    "# ).redim.range(wavelength=(laser_cwl-10, laser_cwl+25), transmission=(-8,0)).opts(width=600)"
   ]
  },
  {
   "cell_type": "markdown",
   "id": "10",
   "metadata": {},
   "source": [
    "# Femtosecond laser"
   ]
  },
  {
   "cell_type": "code",
   "execution_count": null,
   "id": "11",
   "metadata": {},
   "outputs": [],
   "source": [
    "norm.pdf(521, 500, 4.4)"
   ]
  },
  {
   "cell_type": "code",
   "execution_count": null,
   "id": "12",
   "metadata": {},
   "outputs": [],
   "source": [
    "norm.pdf(510, 500, 6.9 / 2)"
   ]
  },
  {
   "cell_type": "code",
   "execution_count": null,
   "id": "13",
   "metadata": {},
   "outputs": [],
   "source": [
    "temporal_fwhm = 120 * u.femtoseconds\n",
    "lmbda = 700 * u.nanometer\n",
    "delta_lmbda = 40 * u.nanometer\n",
    "xs = np.linspace(lmbda - delta_lmbda, lmbda + delta_lmbda, 10 * delta_lmbda.magnitude)\n",
    "normalization = (len(xs) / (xs[-1] - xs[0])).magnitude\n",
    "tbwp_quality = 1.5\n",
    "tbwp_gaussian = 0.44 * tbwp_quality  # gaussian\n",
    "tbwp_sech = 0.315 * tbwp_quality  # sech^2\n",
    "# tbwp = 0.6 # Levante Emerald 2 ps"
   ]
  },
  {
   "cell_type": "code",
   "execution_count": null,
   "id": "14",
   "metadata": {},
   "outputs": [],
   "source": [
    "spectral_width = (lmbda**2 / (u.speed_of_light * temporal_fwhm)).to(\"nm\")\n",
    "spectral_width"
   ]
  },
  {
   "cell_type": "code",
   "execution_count": null,
   "id": "15",
   "metadata": {},
   "outputs": [],
   "source": [
    "spectral_width * tbwp_gaussian"
   ]
  },
  {
   "cell_type": "code",
   "execution_count": null,
   "id": "16",
   "metadata": {},
   "outputs": [],
   "source": [
    "spectral_sigma = tbwp_gaussian * spectral_width / (2 * np.sqrt(2 * np.log(2)))\n",
    "spectral_sigma"
   ]
  },
  {
   "cell_type": "code",
   "execution_count": null,
   "id": "17",
   "metadata": {},
   "outputs": [],
   "source": [
    "gaussian_spectrum = norm.pdf(xs, lmbda, spectral_sigma)\n",
    "gaussian_cdf = np.cumsum(gaussian_spectrum) / normalization"
   ]
  },
  {
   "cell_type": "code",
   "execution_count": null,
   "id": "18",
   "metadata": {},
   "outputs": [],
   "source": [
    "hv.Curve((xs, np.log10(gaussian_spectrum))) * hv.Curve((xs, np.log(1 - gaussian_cdf)))"
   ]
  },
  {
   "cell_type": "code",
   "execution_count": null,
   "id": "19",
   "metadata": {},
   "outputs": [],
   "source": [
    "sech_spectral_fwhm = tbwp_sech * spectral_fwhm"
   ]
  },
  {
   "cell_type": "code",
   "execution_count": null,
   "id": "20",
   "metadata": {},
   "outputs": [],
   "source": [
    "sech_alpha = sech_spectral_fwhm / np.arccosh(np.sqrt(2))"
   ]
  },
  {
   "cell_type": "code",
   "execution_count": null,
   "id": "21",
   "metadata": {},
   "outputs": [],
   "source": [
    "sech_spectrum = (\n",
    "    1\n",
    "    / (np.sqrt(sech_alpha) * np.cosh(2 * (xs - xs[xs.shape[0] // 2]) / sech_alpha)) ** 2\n",
    ")\n",
    "sech_cdf = np.cumsum(sech_spectrum.magnitude) / normalization"
   ]
  },
  {
   "cell_type": "code",
   "execution_count": null,
   "id": "22",
   "metadata": {},
   "outputs": [],
   "source": [
    "hv.Curve((xs, np.log10(sech_spectrum.magnitude))) * hv.Curve((xs, np.log(1 - sech_cdf)))"
   ]
  },
  {
   "cell_type": "code",
   "execution_count": null,
   "id": "23",
   "metadata": {},
   "outputs": [],
   "source": [
    "hv.Curve((xs, np.log10(gaussian_spectrum))) * hv.Curve(\n",
    "    (xs, np.log10(sech_spectrum.magnitude))\n",
    ")"
   ]
  },
  {
   "cell_type": "markdown",
   "id": "24",
   "metadata": {},
   "source": [
    "# Laser + filter"
   ]
  },
  {
   "cell_type": "code",
   "execution_count": null,
   "id": "25",
   "metadata": {},
   "outputs": [],
   "source": [
    "# filters, filter_peaks = read_filter_spectra(\"data/filter_spectra/LF102474.csv.csv\")\n",
    "filters = simulation.read_filter_spectra(\"data/filter_spectra/LF103454.csv\")"
   ]
  },
  {
   "cell_type": "code",
   "execution_count": null,
   "id": "26",
   "metadata": {},
   "outputs": [],
   "source": [
    "# filter_spectrum /= filter_spectrum.max()\n",
    "filter_thresh = 0.8\n",
    "filter_cutoffs = {}\n",
    "for filter_name, filter_spectrum in filters.items():\n",
    "    cutoff = (filter_spectrum > filter_thresh * filter_spectrum.max())[::-1].idxmax()[0]\n",
    "    filter_cutoffs[filter_name] = cutoff"
   ]
  },
  {
   "cell_type": "code",
   "execution_count": null,
   "id": "27",
   "metadata": {},
   "outputs": [],
   "source": [
    "sorted(filter_cutoffs.items())"
   ]
  },
  {
   "cell_type": "markdown",
   "id": "28",
   "metadata": {},
   "source": [
    "## Test"
   ]
  },
  {
   "cell_type": "code",
   "execution_count": null,
   "id": "29",
   "metadata": {},
   "outputs": [],
   "source": [
    "beam_spectrum = pd.read_csv(\"data/laser_spectra/discovery_660nm.csv\").set_index(\n",
    "    \"Wavelength\"\n",
    ")\n",
    "beam_spectrum /= beam_spectrum.max()\n",
    "# laser_cwl = beam_spectrum.idxmax()[0]\n",
    "log_beam_spectrum = np.log10(beam_spectrum)\n",
    "log_beam_spectrum[np.isinf(log_beam_spectrum)] = np.nan"
   ]
  },
  {
   "cell_type": "code",
   "execution_count": null,
   "id": "30",
   "metadata": {},
   "outputs": [],
   "source": [
    "beam_spectrum2 = beam_spectrum.copy()\n",
    "beam_spectrum2.index += laser_cwl - beam_spectrum.idxmax()[0]"
   ]
  },
  {
   "cell_type": "code",
   "execution_count": null,
   "id": "31",
   "metadata": {},
   "outputs": [],
   "source": [
    "(\n",
    "    hv.Curve(log_beam_spectrum).redim.range(\n",
    "        wavelength=(laser_cwl - 10, laser_cwl + 25), transmission=(-8, 0)\n",
    "    )\n",
    "    * hv.VLine(x=laser_cwl).opts(color=\"red\")\n",
    "    * hv.VLine(x=laser_cwl + 5).opts(color=\"red\", line_dash=[2, 8])\n",
    "    * hv.VLine(x=laser_cwl + 10).opts(color=\"red\", line_dash=\"dashed\")\n",
    "    * hv.VLine(x=laser_cwl + 15).opts(color=\"red\", line_dash=\"dotdash\")\n",
    "    * hv.VLine(x=laser_cwl + 20).opts(color=\"red\", line_dash=\"dotted\")\n",
    "    * hv.HLine(y=-1).opts(color=\"orange\")\n",
    "    * hv.HLine(y=-2).opts(color=\"orange\")\n",
    "    * hv.HLine(y=-3).opts(color=\"orange\")\n",
    ").opts(width=600)"
   ]
  },
  {
   "cell_type": "markdown",
   "id": "32",
   "metadata": {},
   "source": [
    "## Laser spectrum"
   ]
  },
  {
   "cell_type": "code",
   "execution_count": null,
   "id": "33",
   "metadata": {},
   "outputs": [],
   "source": [
    "def simulate_laser_spectrum(\n",
    "    cwl, lmbdas, bandwidth=None, fwhm=None, sigma=None, temporal_fwhm=None, tbwp=None\n",
    "):\n",
    "    params_given = sum([bandwidth is not None, fwhm is not None, sigma is not None])\n",
    "    if not (\n",
    "        params_given == 1\n",
    "        or (params_given == 0 and temporal_fwhm is not None and tbwp is not None)\n",
    "    ):\n",
    "        raise ValueError(\n",
    "            \"exactly one of bandwidth/fwhm/sigma, or both temporal_fwhm and tbwp, must be specified\"\n",
    "        )\n",
    "    #     laser_bandwidth = (\n",
    "    #     130 * 1 / u.cm\n",
    "    #     )  # (tbwp/(u.speed_of_light * temporal_fwhm)).to(\"cm^-1\")\n",
    "    fwhm = (bandwidth * (cwl * u.nm) ** 2).to(\"nm\")\n",
    "    sigma = fwhm / (2 * np.sqrt(2 * np.log(2)))\n",
    "    # laser_sigma = 2#5.1\n",
    "    # laser_cwl = 730\n",
    "    # temporal_fwhm = 110 * u.femtoseconds\n",
    "    # spectral_width = (lmbda**2/(u.speed_of_light * temporal_fwhm)).to(\"nm\")\n",
    "    # tbwp = 0.6\n",
    "    # laser_sigma = tbwp * spectral_width / (2 * np.sqrt(2 * np.log(2)))\n",
    "    spectrum = norm.pdf(lmbdas, cwl, sigma)\n",
    "    spectrum /= np.nanmax(spectrum)\n",
    "    spectrum = pd.Series(spectrum, index=lmbdas, name=\"transmission\")\n",
    "    return spectrum"
   ]
  },
  {
   "cell_type": "code",
   "execution_count": null,
   "id": "34",
   "metadata": {},
   "outputs": [],
   "source": [
    "filter_name = 56.0  # 86.0\n",
    "filter_spectrum = filters[filter_name]  # ['transmission']\n",
    "# index = pd.Series(np.linspace(laser_cwl-40,laser_cwl+40,200))\n",
    "# index = pd.Series(np.linspace(filter_spectrum.index[0],filter_spectrum.index[-1],10000))\n",
    "# filter_spectrum = filter_spectrum.reindex(index=index)\n",
    "# filter_spectrum.interpolate(method='nearest', inplace=True)\n",
    "# index = filter_spectrum.index\n",
    "###\n",
    "# filter_spectrum /= filter_spectrum.max()\n",
    "# filter_thresh = 0.8\n",
    "# laser_cwl = (filter_spectrum > filter_thresh)[::-1].idxmax()[0]\n",
    "###\n",
    "laser_cwl = filter_cutoffs[filter_name]\n",
    "new_index = pd.Index(\n",
    "    np.linspace(laser_cwl - 40, laser_cwl + 40, 300), name=\"wavelength\"\n",
    ")\n",
    "filter_spectrum = simulation.interpolate_dataframe(filter_spectrum, new_index)\n",
    "# index = filter_spectrum.index.astype(np.float).union(new_index)\n",
    "# index.name = \"wavelength\"\n",
    "# filter_spectrum = filter_spectrum.reindex(index=index)\n",
    "# filter_spectrum.interpolate(method=\"linear\", inplace=True)\n",
    "# index = filter_spectrum.index  # probably unnecessary\n",
    "# laser_spectrum[laser_spectrum == 0] = np.nan\n",
    "# laser_spectrum = beam_spectrum2\n",
    "# laser_spectrum.index.name = \"transmission\"\n",
    "###\n",
    "# laser_spectrum = filter_spectrum\n",
    "laser_bandwidth = 150 * 1 / u.cm\n",
    "laser_spectrum = simulate_laser_spectrum(\n",
    "    laser_cwl, new_index, bandwidth=laser_bandwidth\n",
    ")\n",
    "real_spectrum = beam_spectrum[\"Intensity\"].copy()\n",
    "real_spectrum.name = \"transmission\"\n",
    "real_spectrum.index += laser_cwl - real_spectrum.idxmax()\n",
    "laser_spectrum = simulation.interpolate_dataframe(real_spectrum, new_index)\n",
    "###\n",
    "output_spectrum = filter_spectrum.multiply(laser_spectrum, axis=0)\n",
    "lines = (\n",
    "    hv.VLine(x=laser_cwl).opts(color=\"red\")\n",
    "    * hv.VLine(x=laser_cwl + 5).opts(color=\"red\", line_dash=[2, 8])\n",
    "    * hv.VLine(x=laser_cwl + 10).opts(color=\"red\", line_dash=\"dashed\")\n",
    "    * hv.VLine(x=laser_cwl + 15).opts(color=\"red\", line_dash=\"dotdash\")\n",
    "    * hv.VLine(x=laser_cwl + 20).opts(color=\"red\", line_dash=\"dotted\")\n",
    ")\n",
    "(\n",
    "    (\n",
    "        hv.Curve(np.log10(laser_spectrum))\n",
    "        * hv.Curve(np.log10(filter_spectrum))\n",
    "        * hv.Curve(np.log10(output_spectrum)).opts(color=\"purple\")\n",
    "        * lines\n",
    "        * hv.HLine(y=-2).opts(color=\"orange\")\n",
    "        * hv.HLine(y=-4).opts(color=\"orange\")\n",
    "        * hv.HLine(y=-6).opts(color=\"orange\")\n",
    "    ).opts(width=600)\n",
    "    + (\n",
    "        hv.Curve(laser_spectrum)\n",
    "        * hv.Curve(filter_spectrum)\n",
    "        * hv.Curve(output_spectrum).opts(color=\"purple\")\n",
    "        * lines\n",
    "    )\n",
    "    .redim(transmission=hv.Dimension(\"power\", range=(0, 1)))\n",
    "    .opts(width=600)\n",
    ").redim.range(wavelength=(laser_cwl - 5, laser_cwl + 35), transmission=(-8, 0)).cols(1)"
   ]
  },
  {
   "cell_type": "code",
   "execution_count": null,
   "id": "35",
   "metadata": {},
   "outputs": [],
   "source": [
    "hv.Curve(laser_spectrum) * hv.Curve(real_spectrum)"
   ]
  },
  {
   "cell_type": "code",
   "execution_count": null,
   "id": "36",
   "metadata": {},
   "outputs": [],
   "source": [
    "(\n",
    "    hv.Curve(np.log10(laser_spectrum))\n",
    "    * hv.Curve(np.log10(real_spectrum))\n",
    "    * lines\n",
    "    * hv.HLine(y=-2).opts(color=\"orange\")\n",
    "    * hv.HLine(y=-4).opts(color=\"orange\")\n",
    "    * hv.HLine(y=-6).opts(color=\"orange\")\n",
    ").redim.range(wavelength=(laser_cwl - 27, laser_cwl + 17), transmission=(-8, 0)).opts(\n",
    "    width=600\n",
    ")"
   ]
  },
  {
   "cell_type": "code",
   "execution_count": null,
   "id": "37",
   "metadata": {},
   "outputs": [],
   "source": [
    "beam_spectrum2.name = \"transmission\""
   ]
  },
  {
   "cell_type": "code",
   "execution_count": null,
   "id": "38",
   "metadata": {},
   "outputs": [],
   "source": [
    "beam_spectrum2.columns = [\"transmission\"]"
   ]
  },
  {
   "cell_type": "code",
   "execution_count": null,
   "id": "39",
   "metadata": {},
   "outputs": [],
   "source": [
    "beam_spectrum2"
   ]
  },
  {
   "cell_type": "code",
   "execution_count": null,
   "id": "40",
   "metadata": {},
   "outputs": [],
   "source": [
    "beam_spectrum3 = simulation.interpolate_dataframe(beam_spectrum2, new_index)\n",
    "beam_spectrum3"
   ]
  },
  {
   "cell_type": "code",
   "execution_count": null,
   "id": "41",
   "metadata": {},
   "outputs": [],
   "source": [
    "a = filter_spectrum.multiply(beam_spectrum3, axis=0)"
   ]
  },
  {
   "cell_type": "code",
   "execution_count": null,
   "id": "42",
   "metadata": {},
   "outputs": [],
   "source": [
    "a"
   ]
  },
  {
   "cell_type": "code",
   "execution_count": null,
   "id": "43",
   "metadata": {},
   "outputs": [],
   "source": [
    "beam_spectrum3 * filter_spectrum"
   ]
  },
  {
   "cell_type": "code",
   "execution_count": null,
   "id": "44",
   "metadata": {},
   "outputs": [],
   "source": [
    "beam_spectrum3.index.name = \"transmission\""
   ]
  },
  {
   "cell_type": "code",
   "execution_count": null,
   "id": "45",
   "metadata": {},
   "outputs": [],
   "source": [
    "filter_spectrum"
   ]
  },
  {
   "cell_type": "code",
   "execution_count": null,
   "id": "46",
   "metadata": {},
   "outputs": [],
   "source": [
    "hv.Curve(a)"
   ]
  },
  {
   "cell_type": "code",
   "execution_count": null,
   "id": "47",
   "metadata": {},
   "outputs": [],
   "source": [
    "hv.Curve(np.log10(beam_spectrum3)) * hv.Curve(np.log10(laser_spectrum)) * hv.Curve(\n",
    "    filter_spectrum\n",
    ")"
   ]
  },
  {
   "cell_type": "markdown",
   "id": "48",
   "metadata": {},
   "source": [
    "# Spectral response"
   ]
  },
  {
   "cell_type": "code",
   "execution_count": null,
   "id": "49",
   "metadata": {},
   "outputs": [],
   "source": [
    "def bin_spectrum(df, bins):\n",
    "    bin_assignment = pd.cut(df.index, bins).rename_categories(\n",
    "        (bins.right + bins.left) / 2\n",
    "    )\n",
    "    return df.groupby(bin_assignment).mean()"
   ]
  },
  {
   "cell_type": "code",
   "execution_count": null,
   "id": "50",
   "metadata": {},
   "outputs": [],
   "source": [
    "spectra_urls = {\n",
    "    \"mCherry\": \"https://www.fpbase.org/spectra_csv/?q=79,80,158\",\n",
    "    \"mCherry2\": \"https://www.fpbase.org/spectra_csv/?q=1451,1450\",\n",
    "}\n",
    "spectra = {\n",
    "    name: pd.read_csv(url)\n",
    "    .rename(columns={f\"{name} {kind}\": kind for kind in (\"ex\", \"em\", \"2p\")})\n",
    "    .set_index(\"wavelength\")\n",
    "    for name, url in spectra_urls.items()\n",
    "}"
   ]
  },
  {
   "cell_type": "code",
   "execution_count": null,
   "id": "51",
   "metadata": {},
   "outputs": [],
   "source": [
    "bins = pd.interval_range(300, 1100, freq=5)"
   ]
  },
  {
   "cell_type": "code",
   "execution_count": null,
   "id": "52",
   "metadata": {},
   "outputs": [],
   "source": [
    "binned_spectra = {\n",
    "    name: bin_spectrum(spectrum, bins) for name, spectrum in spectra.items()\n",
    "}"
   ]
  },
  {
   "cell_type": "code",
   "execution_count": null,
   "id": "53",
   "metadata": {},
   "outputs": [],
   "source": [
    "(\n",
    "    hv.Curve(spectra[\"mCherry\"][\"em\"].dropna())\n",
    "    * hv.Curve(spectra[\"mCherry2\"][\"em\"].dropna())\n",
    ").opts(width=800)"
   ]
  },
  {
   "cell_type": "code",
   "execution_count": null,
   "id": "54",
   "metadata": {},
   "outputs": [],
   "source": [
    "(\n",
    "    hv.Curve(binned_spectra[\"mCherry\"][\"em\"].dropna())\n",
    "    * hv.Curve(binned_spectra[\"mCherry2\"][\"em\"].dropna())\n",
    ").opts(width=800)"
   ]
  },
  {
   "cell_type": "code",
   "execution_count": null,
   "id": "55",
   "metadata": {},
   "outputs": [],
   "source": [
    "obj_transmission = pd.read_csv(\"uplxapo_20x.csv\", header=None)\n",
    "obj_transmission.columns = [\"wavelength\", \"transmission\"]\n",
    "obj_transmission.set_index(\"wavelength\", inplace=True)\n",
    "hv.Curve(obj_transmission).opts(width=800)"
   ]
  },
  {
   "cell_type": "code",
   "execution_count": null,
   "id": "56",
   "metadata": {},
   "outputs": [],
   "source": [
    "laser_power_shg = pd.read_csv(\"discovery_vue_shg.csv\", header=1).set_index(\"lambda\")\n",
    "# laser_power_shg.columns = [\"power\"]\n",
    "laser_power_pump = pd.read_csv(\"discovery_vue_pump.csv\", header=1).set_index(\"lambda\")\n",
    "laser_power_pump.columns = [\"pump power\"]\n",
    "laser_power = pd.concat(\n",
    "    [\n",
    "        laser_power_shg,\n",
    "        laser_power_pump,\n",
    "        laser_power_shg.rename(columns={\"SHG power\": \"power\"}).append(\n",
    "            laser_power_pump.rename(columns={\"pump power\": \"power\"})\n",
    "        ),\n",
    "    ],\n",
    "    axis=1,\n",
    ")\n",
    "laser_power.index.name = \"wavelength\"\n",
    "hv.Curve(laser_power, \"wavelength\", \"power\").opts(width=800)"
   ]
  },
  {
   "cell_type": "code",
   "execution_count": null,
   "id": "57",
   "metadata": {},
   "outputs": [],
   "source": [
    "laser_power"
   ]
  },
  {
   "cell_type": "markdown",
   "id": "58",
   "metadata": {},
   "source": [
    "# Image data"
   ]
  },
  {
   "cell_type": "code",
   "execution_count": null,
   "id": "59",
   "metadata": {},
   "outputs": [],
   "source": [
    "nd2 = nd2reader.ND2Reader(\n",
    "    \"/home/jqs1/scratch/191312/G-R_RG/RG_100pct_100ms_100pct_100ms.nd2_0001.nd2\"\n",
    ")"
   ]
  },
  {
   "cell_type": "code",
   "execution_count": null,
   "id": "60",
   "metadata": {},
   "outputs": [],
   "source": [
    "plt.imshow(nd2.get_frame_2D(t=0))"
   ]
  },
  {
   "cell_type": "code",
   "execution_count": null,
   "id": "61",
   "metadata": {},
   "outputs": [],
   "source": [
    "import pickle"
   ]
  },
  {
   "cell_type": "code",
   "execution_count": null,
   "id": "62",
   "metadata": {},
   "outputs": [],
   "source": [
    "with open(\n",
    "    \"/n/groups/paulsson/jqs1/molecule-counting/190521photobleaching_noflatcorr.pickle\",\n",
    "    \"rb\",\n",
    ") as f:\n",
    "    dat = pickle.load(f)"
   ]
  },
  {
   "cell_type": "code",
   "execution_count": null,
   "id": "63",
   "metadata": {},
   "outputs": [],
   "source": [
    "dat.keys()"
   ]
  },
  {
   "cell_type": "code",
   "execution_count": null,
   "id": "64",
   "metadata": {},
   "outputs": [],
   "source": [
    "f = np.asarray(\n",
    "    dat[\"/n/scratch2/jqs1/190514/GFP_100ms_10pct.nd2\"][0][\"segmentation_frame\"]\n",
    ")"
   ]
  },
  {
   "cell_type": "code",
   "execution_count": null,
   "id": "65",
   "metadata": {},
   "outputs": [],
   "source": [
    "plt.imshow(f)"
   ]
  }
 ],
 "metadata": {
  "kernelspec": {
   "display_name": "Python 3",
   "language": "python",
   "name": "python3"
  },
  "language_info": {
   "codemirror_mode": {
    "name": "ipython",
    "version": 3
   },
   "file_extension": ".py",
   "mimetype": "text/x-python",
   "name": "python",
   "nbconvert_exporter": "python",
   "pygments_lexer": "ipython3",
   "version": "3.8.2"
  }
 },
 "nbformat": 4,
 "nbformat_minor": 4
}
