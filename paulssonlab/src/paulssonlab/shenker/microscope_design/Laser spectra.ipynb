{
 "cells": [
  {
   "cell_type": "code",
   "execution_count": null,
   "id": "0",
   "metadata": {},
   "outputs": [],
   "source": [
    "import holoviews as hv\n",
    "import hvplot.pandas\n",
    "import matplotlib.pyplot as plt\n",
    "import numpy as np\n",
    "import pandas as pd"
   ]
  },
  {
   "cell_type": "code",
   "execution_count": null,
   "id": "1",
   "metadata": {},
   "outputs": [],
   "source": [
    "hv.extension(\"bokeh\")"
   ]
  },
  {
   "cell_type": "code",
   "execution_count": null,
   "id": "2",
   "metadata": {},
   "outputs": [],
   "source": [
    "spectra = {}\n",
    "for cwl in [370, 400, 450, 500, 550, 600, 650]:\n",
    "    with open(f\"data/laser_spectra/insight/{cwl}nm_lin.CSV\", \"r\") as f:\n",
    "        while True:\n",
    "            line = f.readline()\n",
    "            if \"[TRACE DATA]\" in line:\n",
    "                break\n",
    "        spectra[cwl] = pd.read_csv(f, names=[\"wavelength\", \"power\"], index_col=0)"
   ]
  },
  {
   "cell_type": "code",
   "execution_count": null,
   "id": "3",
   "metadata": {},
   "outputs": [],
   "source": [
    "spectra = {}\n",
    "for cwl in [400, 450, 500]:\n",
    "    with open(f\"data/laser_spectra/insight/{cwl}nm_Sens_High_3.CSV\", \"r\") as f:\n",
    "        while True:\n",
    "            line = f.readline()\n",
    "            if \"[TRACE DATA]\" in line:\n",
    "                break\n",
    "        spectra[cwl] = pd.read_csv(f, names=[\"wavelength\", \"power\"], index_col=0)"
   ]
  },
  {
   "cell_type": "code",
   "execution_count": null,
   "id": "4",
   "metadata": {},
   "outputs": [],
   "source": [
    "def norm_log(x):\n",
    "    return np.log10(x / x.max())\n",
    "\n",
    "\n",
    "def shift_index(df, shift):\n",
    "    df = df.copy()\n",
    "    df.index += shift\n",
    "    return df"
   ]
  },
  {
   "cell_type": "code",
   "execution_count": null,
   "id": "5",
   "metadata": {},
   "outputs": [],
   "source": [
    "(\n",
    "    norm_log(shift_index(spectra[500], 0)).hvplot.scatter(\"wavelength\", \"power\")\n",
    "    * norm_log(shift_index(spectra[550], -50)).hvplot.scatter(\"wavelength\", \"power\")\n",
    ").redim.range(power=(-6, 0.5), wavelength=(450, 550))"
   ]
  },
  {
   "cell_type": "code",
   "execution_count": null,
   "id": "6",
   "metadata": {},
   "outputs": [],
   "source": [
    "norm_log(spectra[500]).hvplot.scatter(\"wavelength\", \"power\")"
   ]
  },
  {
   "cell_type": "code",
   "execution_count": null,
   "id": "7",
   "metadata": {},
   "outputs": [],
   "source": [
    "log_spectrum2 = norm_log(spectra[500]).copy()\n",
    "log_spectrum2.index += -5"
   ]
  },
  {
   "cell_type": "code",
   "execution_count": null,
   "id": "8",
   "metadata": {},
   "outputs": [],
   "source": [
    "spectrum_disc = pd.read_csv(\n",
    "    \"data/laser_spectra/discovery_660nm.csv\",\n",
    "    index_col=0,\n",
    "    names=[\"wavelength\", \"power\"],\n",
    "    skiprows=1,\n",
    ")"
   ]
  },
  {
   "cell_type": "code",
   "execution_count": null,
   "id": "9",
   "metadata": {},
   "outputs": [],
   "source": [
    "(\n",
    "    norm_log(spectrum_disc).hvplot.scatter(\"wavelength\", \"power\")\n",
    "    * log_spectrum2.hvplot.scatter(\"wavelength\", \"power\")\n",
    ").redim.range(power=(-6, 0.5), wavelength=(625, 680))"
   ]
  }
 ],
 "metadata": {
  "kernelspec": {
   "display_name": "Python 3",
   "language": "python",
   "name": "python3"
  },
  "language_info": {
   "codemirror_mode": {
    "name": "ipython",
    "version": 3
   },
   "file_extension": ".py",
   "mimetype": "text/x-python",
   "name": "python",
   "nbconvert_exporter": "python",
   "pygments_lexer": "ipython3",
   "version": "3.8.2"
  }
 },
 "nbformat": 4,
 "nbformat_minor": 4
}
