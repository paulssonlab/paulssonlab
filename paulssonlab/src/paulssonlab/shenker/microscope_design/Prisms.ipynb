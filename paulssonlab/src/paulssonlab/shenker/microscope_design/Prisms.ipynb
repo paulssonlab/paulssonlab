{
 "cells": [
  {
   "cell_type": "code",
   "execution_count": null,
   "metadata": {},
   "outputs": [],
   "source": [
    "import numpy as np\n",
    "import jax.numpy as jnp\n",
    "import pandas as pd\n",
    "import holoviews as hv\n",
    "import hvplot.pandas\n",
    "import panel as pn\n",
    "import param\n",
    "import pickle"
   ]
  },
  {
   "cell_type": "code",
   "execution_count": null,
   "metadata": {},
   "outputs": [],
   "source": [
    "%load_ext autoreload\n",
    "%autoreload 2\n",
    "import opticalmaterials\n",
    "import spectra\n",
    "import util"
   ]
  },
  {
   "cell_type": "code",
   "execution_count": null,
   "metadata": {},
   "outputs": [],
   "source": [
    "hv.extension(\"bokeh\")"
   ]
  },
  {
   "cell_type": "markdown",
   "metadata": {},
   "source": [
    "# Spectral response"
   ]
  },
  {
   "cell_type": "code",
   "execution_count": null,
   "metadata": {},
   "outputs": [],
   "source": [
    "bins = np.arange(300, 1000).astype(float)"
   ]
  },
  {
   "cell_type": "code",
   "execution_count": null,
   "metadata": {},
   "outputs": [],
   "source": [
    "%%time\n",
    "with open(\"compoundprisms/rii.pickle\", \"rb\") as f:\n",
    "    catalog = pickle.load(f)"
   ]
  },
  {
   "cell_type": "code",
   "execution_count": null,
   "metadata": {},
   "outputs": [],
   "source": [
    "def delta(n, gamma=np.deg2rad(30), theta0=0, beta=0):\n",
    "    alpha = gamma - beta\n",
    "    # for theta0=0, beta=0, simplifies to:\n",
    "    # jnp.arcsin(n(lmbda)*jnp.sin(gamma)) - gamma\n",
    "    return (\n",
    "        theta0\n",
    "        - gamma\n",
    "        - jnp.arcsin(\n",
    "            n * jnp.sin(jnp.arcsin(jnp.sin(theta0 - beta) / n) - alpha)\n",
    "        )\n",
    "    )"
   ]
  },
  {
   "cell_type": "code",
   "execution_count": null,
   "metadata": {},
   "outputs": [],
   "source": [
    "n, dn = opticalmaterials.get_n(catalog[(\"BK7\", \"SCHOTT\")], nanometers=True)"
   ]
  },
  {
   "cell_type": "code",
   "execution_count": null,
   "metadata": {},
   "outputs": [],
   "source": [
    "# Dora calculated alpha angles using 400-800nm wavelength range (11deg 21' -> 0.2372deg angle diff)"
   ]
  },
  {
   "cell_type": "code",
   "execution_count": null,
   "metadata": {},
   "outputs": [],
   "source": [
    "# desired range: 550nm to 665nm"
   ]
  },
  {
   "cell_type": "code",
   "execution_count": null,
   "metadata": {},
   "outputs": [],
   "source": [
    "gamma = np.deg2rad(11 + 21 / 60)\n",
    "np.rad2deg(delta(n(400), gamma=gamma) - delta(n(800), gamma=gamma))"
   ]
  },
  {
   "cell_type": "code",
   "execution_count": null,
   "metadata": {},
   "outputs": [],
   "source": [
    "gamma = np.deg2rad(11 + 21 / 60)\n",
    "gamma = np.deg2rad(18 + 9 / 60)\n",
    "np.rad2deg(delta(n(550), gamma=gamma) - delta(n(665), gamma=gamma))"
   ]
  },
  {
   "cell_type": "code",
   "execution_count": null,
   "metadata": {},
   "outputs": [],
   "source": [
    "hv.Curve((bins, np.rad2deg(delta(n(bins), gamma=np.deg2rad(8)))))"
   ]
  },
  {
   "cell_type": "code",
   "execution_count": null,
   "metadata": {},
   "outputs": [],
   "source": [
    "hv.Curve((bins, n(bins)))"
   ]
  },
  {
   "cell_type": "code",
   "execution_count": null,
   "metadata": {},
   "outputs": [],
   "source": [
    "hv.Curve((bins, dn(bins))) * hv.Curve((bins[:-1], np.diff(n(bins))))"
   ]
  },
  {
   "cell_type": "code",
   "execution_count": null,
   "metadata": {},
   "outputs": [],
   "source": [
    "def evaluate_prisms(glasses, wavelength_min=550, wavelength_max=665):\n",
    "    d = {}\n",
    "    for glass_name, glass in glasses.items():\n",
    "        gamma = np.deg2rad(18 + 9 / 60)\n",
    "        try:\n",
    "            n, _ = opticalmaterials.get_n(glass, nanometers=True)\n",
    "            n_blue = n(wavelength_min)\n",
    "            n_red = n(wavelength_max)\n",
    "            angle = np.rad2deg(\n",
    "                delta(n_blue, gamma=gamma)\n",
    "                - delta(n_red, gamma=gamma)\n",
    "            )\n",
    "            d[glass_name] = (\n",
    "                pd.Series(\n",
    "                    {\n",
    "                        \"n_blue\": n_blue,\n",
    "                        \"n_red\": n_red,\n",
    "                        \"n_diff\": n_blue - n_red,\n",
    "                        \"angle\": angle,\n",
    "                    }\n",
    "                )\n",
    "                .to_frame()\n",
    "                .T\n",
    "            )\n",
    "        except:\n",
    "            print(f\"skipping {glass_name}\")\n",
    "    # for filter_combo in filter_combo_names:\n",
    "    #     dc = dichroics[filter_combo[0]]\n",
    "    #     lp = longpass_filters[filter_combo[1]]\n",
    "    #     dd = {}\n",
    "    #     for fp_name in fp_names:\n",
    "    #         ex = fps[fp_name][\"spectra\"][\"ex\"]\n",
    "    #         em = fps[fp_name][\"spectra\"][\"em\"]\n",
    "    #         dd[fp_name] = (\n",
    "    #             fp_efficiency(\n",
    "    #                 dc,\n",
    "    #                 lp,\n",
    "    #                 ex,\n",
    "    #                 em,\n",
    "    #                 filter_combinations.loc[filter_combo][\"ex_cutoff\"],\n",
    "    #                 filter_combinations.loc[filter_combo][\"em_cutoff\"],\n",
    "    #             )\n",
    "    #             .to_frame()\n",
    "    #             .T\n",
    "    #         )\n",
    "    #     d[filter_combo] = (\n",
    "    #         pd.concat(dd, axis=1)\n",
    "    #         .reorder_levels([1, 2, 0], axis=1)\n",
    "    #         .sort_index(axis=1, level=1, sort_remaining=False)\n",
    "    #     )\n",
    "    return pd.concat(d, axis=0).droplevel(-1)"
   ]
  },
  {
   "cell_type": "code",
   "execution_count": null,
   "metadata": {},
   "outputs": [],
   "source": [
    "catalog_subset = {\n",
    "    k: v\n",
    "    for k, v in catalog.items()\n",
    "    if any(\n",
    "        c in k[0] or c in k[1]\n",
    "        for c in (\"SCHOTT\", \"CDGM\", \"HIKARI\", \"OHARA\", \"SUMITA\", \"HOYA\")\n",
    "    )\n",
    "}"
   ]
  },
  {
   "cell_type": "code",
   "execution_count": null,
   "metadata": {},
   "outputs": [],
   "source": [
    "%%time\n",
    "p = evaluate_prisms(catalog_subset)"
   ]
  },
  {
   "cell_type": "code",
   "execution_count": null,
   "metadata": {},
   "outputs": [],
   "source": [
    "p"
   ]
  },
  {
   "cell_type": "code",
   "execution_count": null,
   "metadata": {},
   "outputs": [],
   "source": [
    "p[~p[\"angle\"].isnull()].sort_values(\"n_blue\")"
   ]
  },
  {
   "cell_type": "code",
   "execution_count": null,
   "metadata": {},
   "outputs": [],
   "source": [
    "p.hvplot.scatter(\"n_blue\", \"n_red\")"
   ]
  },
  {
   "cell_type": "code",
   "execution_count": null,
   "metadata": {},
   "outputs": [],
   "source": [
    "# UPDATE GH"
   ]
  }
 ],
 "metadata": {
  "kernelspec": {
   "display_name": "Python 3 (ipykernel)",
   "language": "python",
   "name": "python3"
  },
  "language_info": {
   "codemirror_mode": {
    "name": "ipython",
    "version": 3
   },
   "file_extension": ".py",
   "mimetype": "text/x-python",
   "name": "python",
   "nbconvert_exporter": "python",
   "pygments_lexer": "ipython3",
   "version": "3.8.2"
  }
 },
 "nbformat": 4,
 "nbformat_minor": 4
}
