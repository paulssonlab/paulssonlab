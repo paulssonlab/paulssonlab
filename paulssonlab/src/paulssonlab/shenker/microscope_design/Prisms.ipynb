{
 "cells": [
  {
   "cell_type": "code",
   "execution_count": null,
   "metadata": {},
   "outputs": [],
   "source": [
    "import numpy as np\n",
    "import pandas as pd\n",
    "import holoviews as hv\n",
    "import hvplot.pandas\n",
    "import matplotlib.pyplot as plt\n",
    "import pickle"
   ]
  },
  {
   "cell_type": "code",
   "execution_count": null,
   "metadata": {},
   "outputs": [],
   "source": [
    "hv.extension(\"bokeh\")"
   ]
  },
  {
   "cell_type": "code",
   "execution_count": null,
   "metadata": {},
   "outputs": [],
   "source": [
    "%load_ext autoreload\n",
    "%autoreload 2\n",
    "import opticalmaterials\n",
    "import prisms"
   ]
  },
  {
   "cell_type": "markdown",
   "metadata": {},
   "source": [
    "# Load glass catalog"
   ]
  },
  {
   "cell_type": "code",
   "execution_count": null,
   "metadata": {},
   "outputs": [],
   "source": [
    "%%time\n",
    "with open(\"compoundprisms/rii.pickle\", \"rb\") as f:\n",
    "    catalog = pickle.load(f)"
   ]
  },
  {
   "cell_type": "markdown",
   "metadata": {},
   "source": [
    "# Singlet"
   ]
  },
  {
   "cell_type": "code",
   "execution_count": null,
   "metadata": {},
   "outputs": [],
   "source": [
    "dispersion_target = np.deg2rad(1)  # deg\n",
    "w = np.linspace(0.4, 0.7, 20)\n",
    "n1_func = opticalmaterials.get_n(catalog[(\"SCHOTT-LaK\", \"N-LAK33A\")])\n",
    "n1 = n1_func(w)"
   ]
  },
  {
   "cell_type": "code",
   "execution_count": null,
   "metadata": {},
   "outputs": [],
   "source": [
    "prisms.optimize_singlet(w, n1, dispersion_target)"
   ]
  },
  {
   "cell_type": "code",
   "execution_count": null,
   "metadata": {},
   "outputs": [],
   "source": [
    "[c for c in catalog.keys() if \"SCHOTT\" in c[0]]"
   ]
  },
  {
   "cell_type": "code",
   "execution_count": null,
   "metadata": {},
   "outputs": [],
   "source": [
    "deltaT_target = np.deg2rad(10)\n",
    "w = np.linspace(0.4, 0.7, 20)\n",
    "rows = []\n",
    "for glass_name, glass in catalog.items():\n",
    "    if \"SCHOTT\" not in glass_name[0]:\n",
    "        continue\n",
    "    try:\n",
    "        n1_func = opticalmaterials.get_n(glass)\n",
    "        n1 = n1_func(w)\n",
    "        row = prisms.optimize_singlet(w, n1, deltaT_target)\n",
    "    except:\n",
    "        continue\n",
    "    rows.append((*glass_name, *row))"
   ]
  },
  {
   "cell_type": "code",
   "execution_count": null,
   "metadata": {},
   "outputs": [],
   "source": [
    "rows[2]"
   ]
  },
  {
   "cell_type": "code",
   "execution_count": null,
   "metadata": {},
   "outputs": [],
   "source": [
    "singlet_df = pd.DataFrame.from_records(\n",
    "    rows,\n",
    "    columns=(\n",
    "        \"glass1\",\n",
    "        \"glass2\",\n",
    "        \"beta\",\n",
    "        \"gamma\",\n",
    "        \"alpha\",\n",
    "        \"deltaC\",\n",
    "        \"deltaM\",\n",
    "        \"delta1\",\n",
    "        \"deltaT\",\n",
    "        \"nonlin\",\n",
    "        \"NL\",\n",
    "        \"SSR\",\n",
    "    ),\n",
    ")\n",
    "for col in [\"beta\", \"gamma\", \"alpha\", \"deltaC\", \"deltaM\", \"delta1\"]:\n",
    "    singlet_df.loc[:, col] *= 180 / np.pi"
   ]
  },
  {
   "cell_type": "code",
   "execution_count": null,
   "metadata": {},
   "outputs": [],
   "source": [
    "singlet_df.sort_values(\"SSR\")"
   ]
  },
  {
   "cell_type": "markdown",
   "metadata": {},
   "source": [
    "## Doublet"
   ]
  },
  {
   "cell_type": "code",
   "execution_count": null,
   "metadata": {},
   "outputs": [],
   "source": [
    "glasses = [\n",
    "    \"N-PK51\",\n",
    "    \"N-BK10\",\n",
    "    \"N-BAF4\",\n",
    "    \"N-KZFS11\",\n",
    "    \"N-BAF52\",\n",
    "    \"N-KZFS4\",\n",
    "    \"N-LAK33A\",\n",
    "    \"N-BALF5\",\n",
    "    \"N-LASF31A\",\n",
    "    \"N-BAF4\",\n",
    "    \"LAFN7\",\n",
    "    \"N-BASF2\",\n",
    "    \"N-LASF44\",\n",
    "    \"N-BAF10\",\n",
    "    \"N-LAF34\",\n",
    "    \"N-SSK5\",\n",
    "    \"N-SF66\",\n",
    "    \"N-LAK14\",\n",
    "]\n",
    "\n",
    "glasses_long = [[gg for gg in catalog.keys() if gg[1] == g][0] for g in glasses]"
   ]
  },
  {
   "cell_type": "code",
   "execution_count": null,
   "metadata": {},
   "outputs": [],
   "source": [
    "%%time\n",
    "deltaT_target = np.deg2rad(20)\n",
    "merit = \"dev_linearity\"\n",
    "w = np.linspace(0.4, 0.7, 20)\n",
    "rows = []\n",
    "for glass_name1 in glasses_long:\n",
    "    try:\n",
    "        n1_func = opticalmaterials.get_n(catalog[glass_name1])\n",
    "        n1 = n1_func(w)\n",
    "    except:\n",
    "        continue\n",
    "    for glass_name2 in glasses_long:\n",
    "        try:\n",
    "            n2_func = opticalmaterials.get_n(catalog[glass_name2])\n",
    "            n2 = n2_func(w)\n",
    "            row = prisms.optimize_doublet(w, n1, n2, deltaT_target, merit=merit)\n",
    "        except:\n",
    "            continue\n",
    "        rows.append((*glass_name1, *glass_name2, *row))"
   ]
  },
  {
   "cell_type": "code",
   "execution_count": null,
   "metadata": {},
   "outputs": [],
   "source": [
    "doublet_df = pd.DataFrame.from_records(\n",
    "    rows,\n",
    "    columns=(\n",
    "        \"glass1_1\",\n",
    "        \"glass1_2\",\n",
    "        \"glass2_1\",\n",
    "        \"glass2_2\",\n",
    "        \"alpha1\",\n",
    "        \"alpha2\",\n",
    "        \"deltaC\",\n",
    "        \"deltaT\",\n",
    "        \"NL\",\n",
    "        \"SSR\",\n",
    "        \"deltaM\",\n",
    "        \"K\",\n",
    "        \"delta1\",\n",
    "        \"delta2\",\n",
    "        \"nonlin\",\n",
    "        \"chromat\",\n",
    "    ),\n",
    ")\n",
    "for col in [\"alpha1\", \"alpha2\", \"deltaC\", \"deltaT\", \"deltaM\", \"delta1\", \"delta2\"]:\n",
    "    doublet_df.loc[:, col] *= 180 / np.pi"
   ]
  },
  {
   "cell_type": "code",
   "execution_count": null,
   "metadata": {},
   "outputs": [],
   "source": [
    "doublet_df.sort_values(\"SSR\")"
   ]
  },
  {
   "cell_type": "code",
   "execution_count": null,
   "metadata": {},
   "outputs": [],
   "source": [
    "doublet_df[[\"deltaT\", \"SSR\", \"K\"]].hvplot.scatter(\"deltaT\", \"SSR\", color=\"K\")"
   ]
  },
  {
   "cell_type": "code",
   "execution_count": null,
   "metadata": {},
   "outputs": [],
   "source": [
    "w2 = np.linspace(0.35, 1, 100)\n",
    "k1 = opticalmaterials.get_k(catalog[(\"SCHOTT-LaSF\", \"N-LASF44\")])\n",
    "plt.plot(w2, opticalmaterials.transmittance(w2, k1(w2), 1e5))"
   ]
  },
  {
   "cell_type": "markdown",
   "metadata": {},
   "source": [
    "# double-Amici"
   ]
  },
  {
   "cell_type": "code",
   "execution_count": null,
   "metadata": {},
   "outputs": [],
   "source": [
    "%%time\n",
    "deltaT_target = np.deg2rad(20)\n",
    "merit = \"dev_linearity\"\n",
    "w = np.linspace(0.4, 0.7, 20)\n",
    "rows = []\n",
    "for glass_name1 in glasses_long:\n",
    "    try:\n",
    "        n1_func = opticalmaterials.get_n(catalog[glass_name1])\n",
    "        n1 = n1_func(w)\n",
    "    except:\n",
    "        continue\n",
    "    for glass_name2 in glasses_long:\n",
    "        try:\n",
    "            n2_func = opticalmaterials.get_n(catalog[glass_name2])\n",
    "            n2 = n2_func(w)\n",
    "            row = prisms.optimize_doublet(w, n1, n2, deltaT_target, merit=merit)\n",
    "        except:\n",
    "            continue\n",
    "        rows.append((*glass_name1, *glass_name2, *row))"
   ]
  },
  {
   "cell_type": "markdown",
   "metadata": {},
   "source": [
    "# Triplet"
   ]
  },
  {
   "cell_type": "code",
   "execution_count": null,
   "metadata": {},
   "outputs": [],
   "source": []
  },
  {
   "cell_type": "markdown",
   "metadata": {},
   "source": [
    "# Janssen quintuplet"
   ]
  },
  {
   "cell_type": "code",
   "execution_count": null,
   "metadata": {},
   "outputs": [],
   "source": []
  }
 ],
 "metadata": {
  "kernelspec": {
   "display_name": "Python 3",
   "language": "python",
   "name": "python3"
  },
  "language_info": {
   "codemirror_mode": {
    "name": "ipython",
    "version": 3
   },
   "file_extension": ".py",
   "mimetype": "text/x-python",
   "name": "python",
   "nbconvert_exporter": "python",
   "pygments_lexer": "ipython3",
   "version": "3.8.2"
  }
 },
 "nbformat": 4,
 "nbformat_minor": 4
}
