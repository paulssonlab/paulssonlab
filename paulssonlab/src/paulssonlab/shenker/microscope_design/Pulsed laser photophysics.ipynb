{
 "cells": [
  {
   "cell_type": "code",
   "execution_count": null,
   "id": "0",
   "metadata": {},
   "outputs": [],
   "source": [
    "import holoviews as hv\n",
    "import matplotlib.pyplot as plt\n",
    "import numpy as np\n",
    "import pandas as pd\n",
    "import pint"
   ]
  },
  {
   "cell_type": "code",
   "execution_count": null,
   "id": "1",
   "metadata": {},
   "outputs": [],
   "source": [
    "%load_ext autoreload\n",
    "%autoreload 2\n",
    "import simulation"
   ]
  },
  {
   "cell_type": "code",
   "execution_count": null,
   "id": "2",
   "metadata": {},
   "outputs": [],
   "source": [
    "# u = simulation.ureg\n",
    "class ObjProxy(object):\n",
    "    def __init__(self, module_name, attr_name):\n",
    "        self.__module_name = module_name\n",
    "        self.__attr_name = attr_name\n",
    "\n",
    "    def __getattr__(self, name):\n",
    "        return getattr(getattr(globals()[self.__module_name], self.__attr_name), name)\n",
    "\n",
    "\n",
    "u = ObjProxy(\"simulation\", \"ureg\")"
   ]
  },
  {
   "cell_type": "code",
   "execution_count": null,
   "id": "3",
   "metadata": {},
   "outputs": [],
   "source": [
    "hv.extension(\"bokeh\")"
   ]
  },
  {
   "cell_type": "markdown",
   "id": "4",
   "metadata": {},
   "source": [
    "## Thorlabs mirrors/lenses"
   ]
  },
  {
   "cell_type": "code",
   "execution_count": null,
   "id": "5",
   "metadata": {},
   "outputs": [],
   "source": [
    "mirror_spectra = {\n",
    "    \"UV\": \"data/thorlabs_mirrors/Thorlabs_UV-Enhanced_Aluminum_Coating.xlsx\",\n",
    "    \"Aluminum\": \"data/thorlabs_mirrors/Thorlabs_Protected_Aluminum_Coating.xlsx\",\n",
    "    \"Silver\": \"data/thorlabs_mirrors/Thorlabs_Protected_Silver_Coating.xlsx\",\n",
    "    \"E01\": \"data/thorlabs_mirrors/E01ReflectionData.xlsx\",\n",
    "    \"E02\": \"data/thorlabs_mirrors/E02ReflectionData.xlsx\",\n",
    "}\n",
    "mirror_spectra = pd.DataFrame(\n",
    "    {\n",
    "        name: simulation.read_thorlabs(filename)[(\"45°\", \"Unpol.\")]\n",
    "        for name, filename in mirror_spectra.items()\n",
    "    }\n",
    ").interpolate()"
   ]
  },
  {
   "cell_type": "code",
   "execution_count": null,
   "id": "6",
   "metadata": {},
   "outputs": [],
   "source": [
    "mirror_spectra.plot(xlim=(300, 800))"
   ]
  },
  {
   "cell_type": "code",
   "execution_count": null,
   "id": "7",
   "metadata": {},
   "outputs": [],
   "source": [
    "lens_spectra = {\n",
    "    \"A\": \"data/thorlabs_lenses/A_Broadband_AR-Coating.xlsx\",\n",
    "    \"AB\": \"data/thorlabs_lenses/AB_Broadband_AR-Coating.xlsx\",\n",
    "    \"UVFS\": \"data/thorlabs_lenses/UVFS_UV_Broadband_AR-Coating.xlsx\",\n",
    "}\n",
    "lens_spectra = pd.DataFrame(\n",
    "    {\n",
    "        name: simulation.read_thorlabs(filename)[\"Reflectance\"]\n",
    "        for name, filename in lens_spectra.items()\n",
    "    }\n",
    ").interpolate()"
   ]
  },
  {
   "cell_type": "code",
   "execution_count": null,
   "id": "8",
   "metadata": {},
   "outputs": [],
   "source": [
    "lens_spectra.plot(xlim=(300, 800))"
   ]
  }
 ],
 "metadata": {
  "kernelspec": {
   "display_name": "Python 3",
   "language": "python",
   "name": "python3"
  },
  "language_info": {
   "codemirror_mode": {
    "name": "ipython",
    "version": 3
   },
   "file_extension": ".py",
   "mimetype": "text/x-python",
   "name": "python",
   "nbconvert_exporter": "python",
   "pygments_lexer": "ipython3",
   "version": "3.8.2"
  }
 },
 "nbformat": 4,
 "nbformat_minor": 4
}
