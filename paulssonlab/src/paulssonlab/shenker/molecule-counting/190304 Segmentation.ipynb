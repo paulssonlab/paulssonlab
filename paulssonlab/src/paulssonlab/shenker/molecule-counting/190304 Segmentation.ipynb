{
 "cells": [
  {
   "cell_type": "code",
   "execution_count": null,
   "metadata": {},
   "outputs": [],
   "source": [
    "import numpy as np\n",
    "import pandas as pd\n",
    "import nd2reader.exceptions\n",
    "from nd2reader import ND2Reader\n",
    "import matplotlib.pyplot as plt\n",
    "import holoviews as hv\n",
    "import skimage.filters\n",
    "import skimage.feature\n",
    "from scipy.ndimage.filters import percentile_filter\n",
    "import peakutils\n",
    "from tqdm import tnrange, tqdm_notebook\n",
    "import dask\n",
    "import dask.array as da\n",
    "import distributed\n",
    "from distributed import Client, LocalCluster, progress\n",
    "from dask_jobqueue import SLURMCluster\n",
    "from cytoolz import sliding_window, juxt, concat, partial\n",
    "from itertools import repeat\n",
    "from glob import glob\n",
    "from functools import lru_cache\n",
    "import numpy_indexed\n",
    "import warnings"
   ]
  },
  {
   "cell_type": "code",
   "execution_count": null,
   "metadata": {},
   "outputs": [],
   "source": [
    "hv.extension(\"bokeh\")"
   ]
  },
  {
   "cell_type": "code",
   "execution_count": null,
   "metadata": {},
   "outputs": [],
   "source": [
    "cluster = SLURMCluster(\n",
    "    queue=\"short\",\n",
    "    walltime=\"00:30:00\",\n",
    "    memory=\"8GB\",\n",
    "    local_directory=\"/tmp\",\n",
    "    log_directory=\"/home/jqs1/projects/molecule-counting/log\",\n",
    "    cores=1,\n",
    "    processes=1,\n",
    ")\n",
    "# diagnostics_port=('127.0.0.1', 8787),\n",
    "# env_extra=['export PYTHONPATH=\\\"/home/jqs1/projects/matriarch\\\"'])\n",
    "client = Client(cluster)"
   ]
  },
  {
   "cell_type": "code",
   "execution_count": null,
   "metadata": {},
   "outputs": [],
   "source": [
    "client"
   ]
  },
  {
   "cell_type": "code",
   "execution_count": null,
   "metadata": {},
   "outputs": [],
   "source": [
    "cluster"
   ]
  },
  {
   "cell_type": "code",
   "execution_count": null,
   "metadata": {},
   "outputs": [],
   "source": [
    "cluster.adapt(minimum=0, maximum=200)"
   ]
  },
  {
   "cell_type": "code",
   "execution_count": null,
   "metadata": {},
   "outputs": [],
   "source": [
    "cluster.scale(100)"
   ]
  },
  {
   "cell_type": "code",
   "execution_count": null,
   "metadata": {},
   "outputs": [],
   "source": [
    "# get_nd2_reader = lru_cache()(ND2Reader)\n",
    "get_nd2_reader = ND2Reader\n",
    "\n",
    "\n",
    "def get_nd2_frame(filename, t):\n",
    "    return get_nd2_reader(filename).get_frame_2D(t=t)\n",
    "\n",
    "\n",
    "def nd2_to_dask_array(filename):\n",
    "    nd2 = get_nd2_reader(filename)\n",
    "    frames = [\n",
    "        dask.delayed(get_nd2_frame, pure=True)(filename, t)\n",
    "        for t in range(nd2.sizes[\"t\"])\n",
    "    ]\n",
    "    arrays = [\n",
    "        da.from_delayed(frame, dtype=nd2.pixel_type, shape=nd2.frame_shape)\n",
    "        for frame in frames\n",
    "    ]\n",
    "    stack = da.stack(arrays, axis=0)\n",
    "    return stack\n",
    "\n",
    "\n",
    "def nd2_to_futures(filename):\n",
    "    nd2 = get_nd2_reader(filename)\n",
    "    frames = [client.submit(get_nd2_frame, filename, t) for t in range(nd2.sizes[\"t\"])]\n",
    "    return frames\n",
    "\n",
    "\n",
    "def process_file(frames, lag=1):\n",
    "    funcs = juxt(lambda x: sharpness(x[-1]), rms_diff, rms_diff_normed, shift)\n",
    "    # funcs = juxt(lambda x: sharpness(x[-1]), rms_diff, rms_diff_normed)\n",
    "    # funcs = rms_diff\n",
    "    # funcs = partial(client.submit, funcs)\n",
    "    lagged_frames = list(sliding_window(lag + 1, concat((repeat(np.nan, lag), frames))))\n",
    "    return client.map(funcs, lagged_frames)"
   ]
  },
  {
   "cell_type": "markdown",
   "metadata": {},
   "source": [
    "# Prototyping"
   ]
  },
  {
   "cell_type": "code",
   "execution_count": null,
   "metadata": {},
   "outputs": [],
   "source": [
    "def hessian_eigenvalues(img):\n",
    "    I = skimage.filters.gaussian(img, 1.5)\n",
    "    I_x = skimage.filters.sobel_h(I)\n",
    "    I_y = skimage.filters.sobel_v(I)\n",
    "    I_xx = skimage.filters.sobel_h(I_x)\n",
    "    I_xy = skimage.filters.sobel_v(I_x)\n",
    "    I_yx = skimage.filters.sobel_h(I_y)\n",
    "    I_yy = skimage.filters.sobel_v(I_y)\n",
    "    kappa_1 = (I_xx + I_yy) / 2\n",
    "    with warnings.catch_warnings():\n",
    "        warnings.simplefilter(\"ignore\", RuntimeWarning)\n",
    "        kappa_2 = (np.sqrt((I_xx + I_yy) ** 2 - 4 * (I_xx * I_yy - I_xy * I_yx))) / 2\n",
    "    k1 = kappa_1 + kappa_2\n",
    "    k2 = kappa_1 - kappa_2\n",
    "    k1[np.isnan(k1)] = 0\n",
    "    k2[np.isnan(k2)] = 0\n",
    "    return k1, k2"
   ]
  },
  {
   "cell_type": "code",
   "execution_count": null,
   "metadata": {},
   "outputs": [],
   "source": [
    "nd2 = ND2Reader(filenames[15])"
   ]
  },
  {
   "cell_type": "code",
   "execution_count": null,
   "metadata": {},
   "outputs": [],
   "source": [
    "img = nd2.get_frame_2D(t=0)"
   ]
  },
  {
   "cell_type": "code",
   "execution_count": null,
   "metadata": {},
   "outputs": [],
   "source": [
    "def segment(img):\n",
    "    img_frangi = skimage.filters.frangi(img, scale_range=(0.1, 1.5), scale_step=0.1)\n",
    "    mask = img_frangi < np.percentile(img_frangi, 90)\n",
    "    mask = skimage.segmentation.clear_border(mask)\n",
    "    labels = skimage.measure.label(mask)\n",
    "    return labels"
   ]
  },
  {
   "cell_type": "code",
   "execution_count": null,
   "metadata": {},
   "outputs": [],
   "source": [
    "%%time\n",
    "labels = segment(img)"
   ]
  },
  {
   "cell_type": "code",
   "execution_count": null,
   "metadata": {},
   "outputs": [],
   "source": [
    "regionprops = skimage.measure.regionprops(labels, img)"
   ]
  },
  {
   "cell_type": "code",
   "execution_count": null,
   "metadata": {},
   "outputs": [],
   "source": [
    "df = (\n",
    "    pd.DataFrame({\"label\": labels.ravel(), \"value\": img.ravel()})\n",
    "    .groupby(\"label\")\n",
    "    .agg([\"mean\", \"min\", \"max\"])\n",
    ")"
   ]
  },
  {
   "cell_type": "code",
   "execution_count": null,
   "metadata": {},
   "outputs": [],
   "source": [
    "# def map_over_labels(label_image, intensity_image, func):\n",
    "#     labels = range(0, np.max(np.asarray(label_image))+1)\n",
    "#     return np.array([func(intensity_image[label_image == label]) for label in labels])\n",
    "\n",
    "# pd.DataFrame({'label': labels.ravel(), 'value': img.ravel()}).groupby('label').agg(['median'])\n",
    "\n",
    "\n",
    "def map_over_labels(label_image, intensity_image, func):\n",
    "    # assumes are consecutive integers 1,...,N\n",
    "    groups = numpy_indexed.group_by(\n",
    "        label_image.ravel(), intensity_image.ravel(), reduction=func\n",
    "    )\n",
    "    return [g[1] for g in groups]"
   ]
  },
  {
   "cell_type": "code",
   "execution_count": null,
   "metadata": {},
   "outputs": [],
   "source": [
    "%%time\n",
    "frames = [nd2.get_frame_2D(t=t) for t in range(nd2.sizes[\"t\"])]"
   ]
  },
  {
   "cell_type": "code",
   "execution_count": null,
   "metadata": {},
   "outputs": [],
   "source": [
    "%%time\n",
    "traces = np.array([map_over_labels(labels, frame, np.median) for frame in frames]).T"
   ]
  },
  {
   "cell_type": "code",
   "execution_count": null,
   "metadata": {},
   "outputs": [],
   "source": [
    "traces.shape"
   ]
  },
  {
   "cell_type": "code",
   "execution_count": null,
   "metadata": {},
   "outputs": [],
   "source": [
    "idxs = np.random.permutation(traces.shape[0])"
   ]
  },
  {
   "cell_type": "code",
   "execution_count": null,
   "metadata": {},
   "outputs": [],
   "source": [
    "%%output size=250\n",
    "curves = [\n",
    "    {\"x\": np.arange(traces.shape[1]), \"y\": traces[i] / traces[i, 0], \"i\": idxs[i]}\n",
    "    for i in range(traces.shape[0] // 10)\n",
    "]\n",
    "hv.Contours(curves, vdims=[\"i\"]).options(color_index=\"i\", cmap=\"Category20\")"
   ]
  },
  {
   "cell_type": "code",
   "execution_count": null,
   "metadata": {},
   "outputs": [],
   "source": [
    "%%output size=250\n",
    "hv.Path((np.arange(traces.shape[1]), traces.T))"
   ]
  },
  {
   "cell_type": "code",
   "execution_count": null,
   "metadata": {},
   "outputs": [],
   "source": [
    "%%output size=250\n",
    "hv.Overlay.from_values([hv.Curve(t) for t in traces])"
   ]
  },
  {
   "cell_type": "code",
   "execution_count": null,
   "metadata": {},
   "outputs": [],
   "source": [
    "%%output size=250\n",
    "hv.Image(img) + hv.Image(segment(img))"
   ]
  },
  {
   "cell_type": "markdown",
   "metadata": {},
   "source": [
    "# Run"
   ]
  },
  {
   "cell_type": "code",
   "execution_count": null,
   "metadata": {},
   "outputs": [],
   "source": [
    "client"
   ]
  },
  {
   "cell_type": "code",
   "execution_count": null,
   "metadata": {},
   "outputs": [],
   "source": [
    "filenames = glob(\"/n/scratch2/jqs1/fidelity/190301/jqs_photobleach*.nd2\")"
   ]
  },
  {
   "cell_type": "code",
   "execution_count": null,
   "metadata": {},
   "outputs": [],
   "source": [
    "filenames"
   ]
  },
  {
   "cell_type": "code",
   "execution_count": null,
   "metadata": {},
   "outputs": [],
   "source": [
    "%%time\n",
    "data = {filename: process_file(nd2_to_futures(filename)) for filename in filenames}"
   ]
  },
  {
   "cell_type": "code",
   "execution_count": null,
   "metadata": {},
   "outputs": [],
   "source": [
    "%%time\n",
    "res = client.gather(data)\n",
    "res = {filename: np.array(d).T for filename, d in res.items()}"
   ]
  }
 ],
 "metadata": {
  "kernelspec": {
   "display_name": "Python 3",
   "language": "python",
   "name": "python3"
  },
  "language_info": {
   "codemirror_mode": {
    "name": "ipython",
    "version": 3
   },
   "file_extension": ".py",
   "mimetype": "text/x-python",
   "name": "python",
   "nbconvert_exporter": "python",
   "pygments_lexer": "ipython3",
   "version": "3.7.0"
  }
 },
 "nbformat": 4,
 "nbformat_minor": 2
}
