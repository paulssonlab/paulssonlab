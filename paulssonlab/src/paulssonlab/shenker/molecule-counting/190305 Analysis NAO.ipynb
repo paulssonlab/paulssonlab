{
 "cells": [
  {
   "cell_type": "code",
   "execution_count": null,
   "metadata": {},
   "outputs": [],
   "source": [
    "import numpy as np\n",
    "import pandas as pd\n",
    "import matplotlib.pyplot as plt\n",
    "import holoviews as hv\n",
    "import pickle"
   ]
  },
  {
   "cell_type": "code",
   "execution_count": null,
   "metadata": {},
   "outputs": [],
   "source": [
    "hv.extension(\"bokeh\")"
   ]
  },
  {
   "cell_type": "markdown",
   "metadata": {},
   "source": [
    "# Load data"
   ]
  },
  {
   "cell_type": "code",
   "execution_count": null,
   "metadata": {},
   "outputs": [],
   "source": [
    "with open(\"all_data.pickle\", \"rb\") as f:\n",
    "    d = pickle.load(f)"
   ]
  },
  {
   "cell_type": "code",
   "execution_count": null,
   "metadata": {},
   "outputs": [],
   "source": [
    "list(d.keys())"
   ]
  },
  {
   "cell_type": "code",
   "execution_count": null,
   "metadata": {},
   "outputs": [],
   "source": [
    "measurements, regionprops, labels, img = d[\n",
    "    \"/n/scratch2/jqs1/fidelity/190301/jqs_photobleach_100ms_de32_mkate2_0000.nd2\"\n",
    "]"
   ]
  },
  {
   "cell_type": "code",
   "execution_count": null,
   "metadata": {},
   "outputs": [],
   "source": [
    "regionprops.head()"
   ]
  },
  {
   "cell_type": "code",
   "execution_count": null,
   "metadata": {},
   "outputs": [],
   "source": [
    "%%output size=150\n",
    "#%%opts Image {+axiswise}\n",
    "hv.Image(img / img.max()).options(cmap=\"gray\") + hv.Image(labels != 0).options(\n",
    "    cmap=\"blues\"\n",
    ")"
   ]
  },
  {
   "cell_type": "markdown",
   "metadata": {},
   "source": [
    "# Plotting"
   ]
  },
  {
   "cell_type": "code",
   "execution_count": null,
   "metadata": {},
   "outputs": [],
   "source": [
    "list(measurements.keys())"
   ]
  },
  {
   "cell_type": "code",
   "execution_count": null,
   "metadata": {},
   "outputs": [],
   "source": []
  },
  {
   "cell_type": "code",
   "execution_count": null,
   "metadata": {},
   "outputs": [],
   "source": [
    "%%output size=250\n",
    "traces = measurements[\"mean\"]\n",
    "idxs = np.random.permutation(traces.shape[0])\n",
    "downsample = (\n",
    "    10  # set to 1 to show all traces (instead of 10%); this will make your browser slow\n",
    ")\n",
    "curves = [\n",
    "    {\"x\": np.arange(traces.shape[1]), \"y\": traces[i], \"i\": idxs[i]}\n",
    "    for i in range(traces.shape[0] // downsample)\n",
    "]\n",
    "hv.Contours(curves, vdims=[\"i\"]).options(color_index=\"i\", cmap=\"Category20\", logy=True)"
   ]
  },
  {
   "cell_type": "code",
   "execution_count": null,
   "metadata": {},
   "outputs": [],
   "source": [
    "%matplotlib inline\n",
    "import pylab as plt\n",
    "import pandas as pd\n",
    "import numpy as np\n",
    "from matplotlib import cm\n",
    "from scipy.integrate import simps\n",
    "\n",
    "# G = 10\n",
    "df = pd.DataFrame(traces[:, 0:2000])  # + np.random.normal(0,1,Gsamp.T.shape))\n",
    "df = df[df[0] > 1000]\n",
    "bins = np.arange(df[0].min() - 1, df[0].max() + 1, 150)\n",
    "df[\"bin\"] = pd.cut(df[0], bins=bins)\n",
    "p = df.apply(lambda x: x[:-1:] / x[0], axis=1)\n",
    "p[\"bin\"] = df[\"bin\"]\n",
    "\n",
    "tau = 30\n",
    "pbar = p.groupby(p[\"bin\"]).mean()[df.groupby(df[\"bin\"]).size() > tau]\n",
    "mu = df.groupby(df[\"bin\"]).mean()[df.groupby(df[\"bin\"]).size() > tau]\n",
    "sigma2 = df.groupby(df[\"bin\"]).var(ddof=0)[df.groupby(df[\"bin\"]).size() > tau]\n",
    "\n",
    "y = sigma2.div(mu[0].values, axis=\"rows\")\n",
    "x = pbar\n",
    "r = y.values.flatten() / x.values.flatten()\n",
    "\n",
    "linfit = np.polyfit(x.values.flatten(), y.values.flatten(), 1)\n",
    "linfit_fn = np.poly1d(linfit)\n",
    "\n",
    "plt.figure(figsize=(12, 8))\n",
    "# plt.scatter(x,y)\n",
    "\n",
    "xfit = np.linspace(0, 0.25, 100)\n",
    "nu_bar = np.round(np.mean(r[np.isfinite(r)]), 2)\n",
    "# plt.plot(xfit,nu_bar*xfit,'-r',linewidth=6)\n",
    "\n",
    "plt.title(\n",
    "    r\"$\\nu = \\frac{\\hat{\\sigma}^2}{f_{max}\\hat{p}(1-\\hat{p})}$ =\" + str(nu_bar),\n",
    "    fontsize=20,\n",
    "    pad=20,\n",
    ")\n",
    "plt.xlabel(r\"$(1-\\hat{p})$\", fontsize=20)\n",
    "plt.ylabel(r\"$\\frac{\\hat{\\sigma}^2}{f_{max}}$\", fontsize=20)\n",
    "bin_hist = df.groupby(df[\"bin\"]).size()\n",
    "print(bin_hist[bin_hist.values > tau])\n",
    "print(r\"mean ratio: \", np.mean(r[np.isfinite(r)]))\n",
    "print(\"median ratio: \", np.median(r[np.isfinite(r)]))\n",
    "\n",
    "nu_int = []\n",
    "\n",
    "cmap = cm.get_cmap(\"coolwarm\")\n",
    "imax = x.index[-1].left\n",
    "imin = x.index[0].left\n",
    "for name, group in x.groupby(\"bin\"):\n",
    "    nu_int.append(-6 * simps(y.loc[name].values, x.loc[name].values))\n",
    "    dp = x.loc[name].values\n",
    "    dp = dp[x.loc[name].values < 1 / 2]\n",
    "    f = y.loc[name].values[x.loc[name].values < 1 / 2]\n",
    "    #     nu_int.append(-12*simps(f,dp))\n",
    "    c = (name.left - imin) / (imax - imin)\n",
    "\n",
    "    plt.scatter(1 - x.loc[name].values, y.loc[name].values, color=cmap(c), label=name)\n",
    "    plt.legend()\n",
    "print(nu_int, np.mean(nu_int))\n",
    "plt.title(\n",
    "    r\"$\\nu = 6\\int\\frac{\\hat{\\sigma}^2}{f_{max}}dp$ =\" + str(np.mean(nu_int)),\n",
    "    fontsize=20,\n",
    "    pad=20,\n",
    ")"
   ]
  },
  {
   "cell_type": "code",
   "execution_count": null,
   "metadata": {},
   "outputs": [],
   "source": [
    "I0 = traces[:, 0]\n",
    "plt.hist(I0, bins=30)\n",
    "print(np.mean(I0), np.var(I0))"
   ]
  }
 ],
 "metadata": {
  "kernelspec": {
   "display_name": "Python 3",
   "language": "python",
   "name": "python3"
  },
  "language_info": {
   "codemirror_mode": {
    "name": "ipython",
    "version": 3
   },
   "file_extension": ".py",
   "mimetype": "text/x-python",
   "name": "python",
   "nbconvert_exporter": "python",
   "pygments_lexer": "ipython3",
   "version": "3.6.7"
  }
 },
 "nbformat": 4,
 "nbformat_minor": 2
}
