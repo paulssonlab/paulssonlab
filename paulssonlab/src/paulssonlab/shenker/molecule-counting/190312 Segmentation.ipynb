{
 "cells": [
  {
   "cell_type": "code",
   "execution_count": null,
   "metadata": {},
   "outputs": [],
   "source": [
    "import numpy as np\n",
    "import pandas as pd\n",
    "import nd2reader.exceptions\n",
    "from nd2reader import ND2Reader\n",
    "import matplotlib.pyplot as plt\n",
    "import holoviews as hv\n",
    "import skimage.filters\n",
    "import skimage.feature\n",
    "from scipy.ndimage.filters import percentile_filter\n",
    "import peakutils\n",
    "from tqdm import tnrange, tqdm_notebook\n",
    "import dask\n",
    "import dask.array as da\n",
    "import distributed\n",
    "from distributed import Client, LocalCluster, progress\n",
    "from dask_jobqueue import SLURMCluster\n",
    "from cytoolz import partial, compose\n",
    "from itertools import repeat\n",
    "from glob import glob\n",
    "from functools import lru_cache\n",
    "import numpy_indexed\n",
    "import pickle\n",
    "import warnings"
   ]
  },
  {
   "cell_type": "code",
   "execution_count": null,
   "metadata": {},
   "outputs": [],
   "source": [
    "hv.extension(\"bokeh\")"
   ]
  },
  {
   "cell_type": "code",
   "execution_count": null,
   "metadata": {},
   "outputs": [],
   "source": [
    "def hessian_eigenvalues(img):\n",
    "    I = skimage.filters.gaussian(img, 1.5)\n",
    "    I_x = skimage.filters.sobel_h(I)\n",
    "    I_y = skimage.filters.sobel_v(I)\n",
    "    I_xx = skimage.filters.sobel_h(I_x)\n",
    "    I_xy = skimage.filters.sobel_v(I_x)\n",
    "    I_yx = skimage.filters.sobel_h(I_y)\n",
    "    I_yy = skimage.filters.sobel_v(I_y)\n",
    "    kappa_1 = (I_xx + I_yy) / 2\n",
    "    with warnings.catch_warnings():\n",
    "        warnings.simplefilter(\"ignore\", RuntimeWarning)\n",
    "        kappa_2 = (np.sqrt((I_xx + I_yy) ** 2 - 4 * (I_xx * I_yy - I_xy * I_yx))) / 2\n",
    "    k1 = kappa_1 + kappa_2\n",
    "    k2 = kappa_1 - kappa_2\n",
    "    k1[np.isnan(k1)] = 0\n",
    "    k2[np.isnan(k2)] = 0\n",
    "    return k1, k2"
   ]
  },
  {
   "cell_type": "code",
   "execution_count": null,
   "metadata": {},
   "outputs": [],
   "source": [
    "DEFAULT_REGIONPROPS = [\n",
    "    \"area\",\n",
    "    \"centroid\",\n",
    "    \"eccentricity\",\n",
    "    \"min_intensity\",\n",
    "    \"mean_intensity\",\n",
    "    \"max_intensity\",\n",
    "    \"major_axis_length\",\n",
    "    \"minor_axis_length\",\n",
    "    \"orientation\",\n",
    "    \"perimeter\",\n",
    "    \"solidity\",\n",
    "    \"weighted_centroid\",\n",
    "]\n",
    "\n",
    "\n",
    "def get_regionprops(label_image, intensity_image, properties=DEFAULT_REGIONPROPS):\n",
    "    rps = skimage.measure.regionprops(\n",
    "        label_image, intensity_image, coordinates=\"rc\", cache=False\n",
    "    )\n",
    "    if not len(rps):\n",
    "        return None\n",
    "    cols = {prop: [getattr(rp, prop) for rp in rps] for prop in properties}\n",
    "    for col, values in list(cols.items()):\n",
    "        if isinstance(values[0], tuple):\n",
    "            del cols[col]\n",
    "            # TODO: store coordinates as multiindex?\n",
    "            cols[col + \"_x\"] = [v[0] for v in values]\n",
    "            cols[col + \"_y\"] = [v[1] for v in values]\n",
    "    df = pd.DataFrame(cols, index=range(1, len(rps) + 1))\n",
    "    df.index.name = \"label\"\n",
    "    return df"
   ]
  },
  {
   "cell_type": "code",
   "execution_count": null,
   "metadata": {},
   "outputs": [],
   "source": [
    "def segment(img):\n",
    "    img_frangi = skimage.filters.frangi(img, scale_range=(0.1, 1.5), scale_step=0.1)\n",
    "    mask = img_frangi < np.percentile(img_frangi, 90)\n",
    "    mask = skimage.segmentation.clear_border(mask)\n",
    "    labels = skimage.measure.label(mask)\n",
    "    return labels"
   ]
  },
  {
   "cell_type": "code",
   "execution_count": null,
   "metadata": {},
   "outputs": [],
   "source": [
    "# get_nd2_reader = lru_cache()(ND2Reader)\n",
    "get_nd2_reader = ND2Reader\n",
    "\n",
    "\n",
    "def get_nd2_frame(filename, t):\n",
    "    return get_nd2_reader(filename).get_frame_2D(t=t)\n",
    "\n",
    "\n",
    "def nd2_to_futures(client, filename):\n",
    "    nd2 = get_nd2_reader(filename)\n",
    "    frames = [client.submit(get_nd2_frame, filename, t) for t in range(nd2.sizes[\"t\"])]\n",
    "    return frames\n",
    "\n",
    "\n",
    "def map_over_labels(label_image, intensity_image, func):\n",
    "    # assumes are consecutive integers 1,...,N\n",
    "    groups = numpy_indexed.group_by(\n",
    "        label_image.ravel(), intensity_image.ravel(), reduction=func\n",
    "    )\n",
    "    return [g[1] for g in groups]\n",
    "\n",
    "\n",
    "def process_file(client, filename, col_to_funcs):\n",
    "    frames = nd2_to_futures(client, filename)\n",
    "    labels = client.submit(segment, frames[0])\n",
    "    regionprops = client.submit(get_regionprops, labels, frames[0])\n",
    "    traces = {\n",
    "        col: client.submit(\n",
    "            np.transpose,\n",
    "            [client.submit(map_over_labels, labels, frame, func) for frame in frames],\n",
    "        )\n",
    "        for col, func in col_to_funcs.items()\n",
    "    }\n",
    "    return traces, regionprops, labels, frames[0]"
   ]
  },
  {
   "cell_type": "markdown",
   "metadata": {},
   "source": [
    "# Run"
   ]
  },
  {
   "cell_type": "code",
   "execution_count": null,
   "metadata": {},
   "outputs": [],
   "source": [
    "dask.config.config[\"distributed\"][\"scheduler\"][\"allowed-failures\"] = 20\n",
    "dask.config.config[\"distributed\"][\"worker\"][\"memory\"] = {\n",
    "    \"target\": 0.4,\n",
    "    \"spill\": 0.5,\n",
    "    \"pause\": 0.9,\n",
    "    \"terminate\": 0.95,\n",
    "}"
   ]
  },
  {
   "cell_type": "code",
   "execution_count": null,
   "metadata": {},
   "outputs": [],
   "source": [
    "cluster = SLURMCluster(\n",
    "    queue=\"short\",\n",
    "    walltime=\"02:00:00\",\n",
    "    memory=\"8GB\",\n",
    "    local_directory=\"/tmp\",\n",
    "    log_directory=\"/home/jqs1/projects/molecule-counting/log\",\n",
    "    cores=1,\n",
    "    processes=1,\n",
    ")\n",
    "# diagnostics_port=('127.0.0.1', 8787),\n",
    "# env_extra=['export PYTHONPATH=\\\"/home/jqs1/projects/matriarch\\\"'])\n",
    "client = Client(cluster)"
   ]
  },
  {
   "cell_type": "code",
   "execution_count": null,
   "metadata": {},
   "outputs": [],
   "source": [
    "cluster"
   ]
  },
  {
   "cell_type": "code",
   "execution_count": null,
   "metadata": {},
   "outputs": [],
   "source": [
    "client.close()"
   ]
  },
  {
   "cell_type": "markdown",
   "metadata": {},
   "source": [
    "## Run"
   ]
  },
  {
   "cell_type": "code",
   "execution_count": null,
   "metadata": {},
   "outputs": [],
   "source": [
    "filenames = glob(\"/n/scratch2/jqs1/fidelity/190311/*.nd2\")  # [:2]"
   ]
  },
  {
   "cell_type": "code",
   "execution_count": null,
   "metadata": {},
   "outputs": [],
   "source": [
    "funcs = {\n",
    "    \"mean\": np.mean,\n",
    "    \"median\": np.median,\n",
    "    \"p0.05\": partial(np.percentile, q=5),\n",
    "    \"p0.20\": partial(np.percentile, q=20),\n",
    "    \"p0.70\": partial(np.percentile, q=70),\n",
    "    \"p0.95\": partial(np.percentile, q=95),\n",
    "}"
   ]
  },
  {
   "cell_type": "code",
   "execution_count": null,
   "metadata": {},
   "outputs": [],
   "source": [
    "a = process_file(client, filenames[0], funcs)"
   ]
  },
  {
   "cell_type": "code",
   "execution_count": null,
   "metadata": {},
   "outputs": [],
   "source": [
    "client.gather(a)"
   ]
  },
  {
   "cell_type": "code",
   "execution_count": null,
   "metadata": {},
   "outputs": [],
   "source": [
    "progress(a)"
   ]
  },
  {
   "cell_type": "code",
   "execution_count": null,
   "metadata": {},
   "outputs": [],
   "source": [
    "%%time\n",
    "data = {filename: process_file(client, filename, funcs) for filename in filenames}"
   ]
  },
  {
   "cell_type": "code",
   "execution_count": null,
   "metadata": {},
   "outputs": [],
   "source": [
    "%%time\n",
    "trace_res = client.gather(data)"
   ]
  },
  {
   "cell_type": "code",
   "execution_count": null,
   "metadata": {},
   "outputs": [],
   "source": [
    "with open(\"190311photobleaching.pickle\", \"wb\") as f:\n",
    "    pickle.dump(trace_res, f)"
   ]
  },
  {
   "cell_type": "markdown",
   "metadata": {},
   "source": [
    "# Plotting"
   ]
  },
  {
   "cell_type": "code",
   "execution_count": null,
   "metadata": {},
   "outputs": [],
   "source": [
    "with open(\"190311photobleaching.pickle\", \"rb\") as f:\n",
    "    trace_res = pickle.load(f)"
   ]
  },
  {
   "cell_type": "code",
   "execution_count": null,
   "metadata": {},
   "outputs": [],
   "source": [
    "list(trace_res.keys())"
   ]
  },
  {
   "cell_type": "code",
   "execution_count": null,
   "metadata": {},
   "outputs": [],
   "source": [
    "b = trace_res[\"/n/scratch2/jqs1/fidelity/190311/190311_205a_10ms_laser10pct_001.nd2\"]"
   ]
  },
  {
   "cell_type": "code",
   "execution_count": null,
   "metadata": {},
   "outputs": [],
   "source": [
    "plt.plot(np.log(b[0][\"mean\"][10]))"
   ]
  },
  {
   "cell_type": "code",
   "execution_count": null,
   "metadata": {},
   "outputs": [],
   "source": [
    "b[1].hist(\"area\", bins=100)"
   ]
  },
  {
   "cell_type": "code",
   "execution_count": null,
   "metadata": {},
   "outputs": [],
   "source": [
    "traces = b[0][\"mean\"]"
   ]
  },
  {
   "cell_type": "code",
   "execution_count": null,
   "metadata": {},
   "outputs": [],
   "source": [
    "idxs = np.random.permutation(traces.shape[0])"
   ]
  },
  {
   "cell_type": "code",
   "execution_count": null,
   "metadata": {},
   "outputs": [],
   "source": [
    "%%output size=250\n",
    "curves = [\n",
    "    {\n",
    "        \"x\": np.arange(traces.shape[1]),\n",
    "        \"y\": np.log(traces[i] / traces[i, 0]),\n",
    "        \"i\": idxs[i],\n",
    "    }\n",
    "    for i in range(traces.shape[0] // 10)\n",
    "]\n",
    "hv.Contours(curves, vdims=[\"i\"]).options(color_index=\"i\", cmap=\"Category20\")"
   ]
  },
  {
   "cell_type": "code",
   "execution_count": null,
   "metadata": {},
   "outputs": [],
   "source": [
    "%%output size=250\n",
    "hv.Path((np.arange(traces.shape[1]), traces.T))"
   ]
  },
  {
   "cell_type": "code",
   "execution_count": null,
   "metadata": {},
   "outputs": [],
   "source": [
    "%%output size=250\n",
    "hv.Overlay.from_values([hv.Curve(t) for t in traces])"
   ]
  },
  {
   "cell_type": "code",
   "execution_count": null,
   "metadata": {},
   "outputs": [],
   "source": [
    "%%output size=250\n",
    "hv.Image(img) + hv.Image(segment(img))"
   ]
  },
  {
   "cell_type": "code",
   "execution_count": null,
   "metadata": {},
   "outputs": [],
   "source": []
  }
 ],
 "metadata": {
  "kernelspec": {
   "display_name": "Python 3",
   "language": "python",
   "name": "python3"
  },
  "language_info": {
   "codemirror_mode": {
    "name": "ipython",
    "version": 3
   },
   "file_extension": ".py",
   "mimetype": "text/x-python",
   "name": "python",
   "nbconvert_exporter": "python",
   "pygments_lexer": "ipython3",
   "version": "3.7.0"
  }
 },
 "nbformat": 4,
 "nbformat_minor": 2
}
