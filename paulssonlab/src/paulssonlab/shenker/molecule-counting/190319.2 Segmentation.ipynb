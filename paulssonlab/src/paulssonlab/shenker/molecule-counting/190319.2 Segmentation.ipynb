{
 "cells": [
  {
   "cell_type": "code",
   "execution_count": null,
   "metadata": {},
   "outputs": [],
   "source": [
    "import numpy as np\n",
    "import pandas as pd\n",
    "import nd2reader.exceptions\n",
    "from nd2reader import ND2Reader\n",
    "import matplotlib.pyplot as plt\n",
    "import holoviews as hv\n",
    "import skimage.filters\n",
    "import skimage.feature\n",
    "import scipy.ndimage\n",
    "import peakutils\n",
    "from tqdm import tnrange, tqdm_notebook\n",
    "import dask\n",
    "import dask.array as da\n",
    "import distributed\n",
    "from distributed import Client, LocalCluster, progress\n",
    "from dask_jobqueue import SLURMCluster\n",
    "from cytoolz import partial, compose\n",
    "from itertools import repeat\n",
    "from glob import glob\n",
    "import cachetools\n",
    "import numpy_indexed\n",
    "import pickle\n",
    "import warnings"
   ]
  },
  {
   "cell_type": "code",
   "execution_count": null,
   "metadata": {},
   "outputs": [],
   "source": [
    "hv.extension(\"bokeh\")"
   ]
  },
  {
   "cell_type": "code",
   "execution_count": null,
   "metadata": {},
   "outputs": [],
   "source": [
    "def RevImage(img, **kwargs):\n",
    "    return _RevImage(hv.Image, img, **kwargs)\n",
    "\n",
    "\n",
    "def _RevImage(cls, img, **kwargs):\n",
    "    return cls(img[::-1], bounds=(0, 0, img.shape[1], img.shape[0])).options(\n",
    "        invert_yaxis=True\n",
    "    )"
   ]
  },
  {
   "cell_type": "code",
   "execution_count": null,
   "metadata": {},
   "outputs": [],
   "source": [
    "def hessian_eigenvalues(img):\n",
    "    I = skimage.filters.gaussian(img, 1.5)\n",
    "    I_x = skimage.filters.sobel_h(I)\n",
    "    I_y = skimage.filters.sobel_v(I)\n",
    "    I_xx = skimage.filters.sobel_h(I_x)\n",
    "    I_xy = skimage.filters.sobel_v(I_x)\n",
    "    I_yx = skimage.filters.sobel_h(I_y)\n",
    "    I_yy = skimage.filters.sobel_v(I_y)\n",
    "    kappa_1 = (I_xx + I_yy) / 2\n",
    "    with warnings.catch_warnings():\n",
    "        warnings.simplefilter(\"ignore\", RuntimeWarning)\n",
    "        kappa_2 = (np.sqrt((I_xx + I_yy) ** 2 - 4 * (I_xx * I_yy - I_xy * I_yx))) / 2\n",
    "    k1 = kappa_1 + kappa_2\n",
    "    k2 = kappa_1 - kappa_2\n",
    "    k1[np.isnan(k1)] = 0\n",
    "    k2[np.isnan(k2)] = 0\n",
    "    return k1, k2\n",
    "\n",
    "\n",
    "from cytoolz import reduce\n",
    "\n",
    "\n",
    "def repeat_apply(func, n):\n",
    "    if n <= 0:\n",
    "        return lambda x: x\n",
    "    return reduce(lambda f1, f2: compose(f1, f2), [func] * n)"
   ]
  },
  {
   "cell_type": "code",
   "execution_count": null,
   "metadata": {},
   "outputs": [],
   "source": [
    "DEFAULT_REGIONPROPS = [\n",
    "    \"area\",\n",
    "    \"centroid\",\n",
    "    \"eccentricity\",\n",
    "    \"min_intensity\",\n",
    "    \"mean_intensity\",\n",
    "    \"max_intensity\",\n",
    "    \"major_axis_length\",\n",
    "    \"minor_axis_length\",\n",
    "    \"orientation\",\n",
    "    \"perimeter\",\n",
    "    \"solidity\",\n",
    "    \"weighted_centroid\",\n",
    "]\n",
    "\n",
    "\n",
    "def get_regionprops(label_image, intensity_image, properties=DEFAULT_REGIONPROPS):\n",
    "    rps = skimage.measure.regionprops(\n",
    "        label_image, intensity_image, coordinates=\"rc\", cache=False\n",
    "    )\n",
    "    if not len(rps):\n",
    "        return None\n",
    "    cols = {prop: [getattr(rp, prop) for rp in rps] for prop in properties}\n",
    "    for col, values in list(cols.items()):\n",
    "        if isinstance(values[0], tuple):\n",
    "            del cols[col]\n",
    "            # TODO: store coordinates as multiindex?\n",
    "            cols[col + \"_x\"] = [v[0] for v in values]\n",
    "            cols[col + \"_y\"] = [v[1] for v in values]\n",
    "    df = pd.DataFrame(cols, index=range(1, len(rps) + 1))\n",
    "    df.index.name = \"label\"\n",
    "    return df"
   ]
  },
  {
   "cell_type": "code",
   "execution_count": null,
   "metadata": {},
   "outputs": [],
   "source": [
    "def segment(img):\n",
    "    img_frangi = skimage.filters.frangi(img, scale_range=(0.1, 1.5), scale_step=0.1)\n",
    "    mask = img_frangi < np.percentile(img_frangi, 90)\n",
    "    mask = skimage.segmentation.clear_border(mask)\n",
    "    labels = skimage.measure.label(mask)\n",
    "    return labels"
   ]
  },
  {
   "cell_type": "code",
   "execution_count": null,
   "metadata": {},
   "outputs": [],
   "source": [
    "ND2READER_CACHE = cachetools.LFUCache(maxsize=48)\n",
    "\n",
    "\n",
    "def _get_nd2_reader(filename, memmap=False, **kwargs):\n",
    "    return nd2reader.ND2Reader(filename, memmap=memmap, **kwargs)\n",
    "\n",
    "\n",
    "# get_nd2_reader = cachetools.cached(cache=ND2READER_CACHE)(_get_nd2_reader)\n",
    "get_nd2_reader = _get_nd2_reader\n",
    "\n",
    "\n",
    "def get_nd2_frame(filename, position, channel, t, memmap=False):\n",
    "    reader = get_nd2_reader(filename, memmap=memmap)\n",
    "    channel_idx = reader.metadata[\"channels\"].index(channel)\n",
    "    ary = reader.get_frame_2D(v=position, c=channel_idx, t=t, memmap=memmap)\n",
    "    return ary\n",
    "\n",
    "\n",
    "def nd2_to_futures(client, filename):\n",
    "    nd2 = get_nd2_reader(filename)\n",
    "    frames = [client.submit(get_nd2_frame, filename, t) for t in range(nd2.sizes[\"t\"])]\n",
    "    return frames\n",
    "\n",
    "\n",
    "def map_over_labels(label_image, intensity_image, func):\n",
    "    # assumes are consecutive integers 1,...,N\n",
    "    groups = numpy_indexed.group_by(\n",
    "        label_image.ravel(), intensity_image.ravel(), reduction=func\n",
    "    )\n",
    "    return [g[1] for g in groups]\n",
    "\n",
    "\n",
    "def process_file(client, filename, col_to_funcs):\n",
    "    frames = nd2_to_futures(client, filename)\n",
    "    labels = client.submit(segment, frames[0])\n",
    "    regionprops = client.submit(get_regionprops, labels, frames[0])\n",
    "    traces = {\n",
    "        col: client.submit(\n",
    "            np.transpose,\n",
    "            [client.submit(map_over_labels, labels, frame, func) for frame in frames],\n",
    "        )\n",
    "        for col, func in col_to_funcs.items()\n",
    "    }\n",
    "    return traces, regionprops, labels, frames[0]"
   ]
  },
  {
   "cell_type": "markdown",
   "metadata": {},
   "source": [
    "# Run"
   ]
  },
  {
   "cell_type": "code",
   "execution_count": null,
   "metadata": {},
   "outputs": [],
   "source": [
    "dask.config.config[\"distributed\"][\"scheduler\"][\"allowed-failures\"] = 20\n",
    "# dask.config.config['distributed']['worker']['memory'] = {'target': 0.4,\n",
    "#                                                         'spill': 0.5,\n",
    "#                                                         'pause': 0.9,\n",
    "#                                                         'terminate': 0.95}"
   ]
  },
  {
   "cell_type": "code",
   "execution_count": null,
   "metadata": {},
   "outputs": [],
   "source": [
    "cluster = SLURMCluster(\n",
    "    queue=\"short\",\n",
    "    walltime=\"03:00:00\",\n",
    "    memory=\"8GB\",\n",
    "    local_directory=\"/tmp\",\n",
    "    log_directory=\"/home/jqs1/projects/molecule-counting/log\",\n",
    "    cores=1,\n",
    "    processes=1,\n",
    ")\n",
    "# diagnostics_port=('127.0.0.1', 8787),\n",
    "# env_extra=['export PYTHONPATH=\\\"/home/jqs1/projects/matriarch\\\"'])\n",
    "client = Client(cluster)"
   ]
  },
  {
   "cell_type": "code",
   "execution_count": null,
   "metadata": {},
   "outputs": [],
   "source": [
    "cluster"
   ]
  },
  {
   "cell_type": "code",
   "execution_count": null,
   "metadata": {},
   "outputs": [],
   "source": [
    "cluster.scale(0)"
   ]
  },
  {
   "cell_type": "markdown",
   "metadata": {},
   "source": [
    "# Test"
   ]
  },
  {
   "cell_type": "code",
   "execution_count": null,
   "metadata": {},
   "outputs": [],
   "source": [
    "bf = ND2Reader(\n",
    "    \"/home/jqs1/paulsson/190313_SB1_in_GFP_bleaching_in_CFP_100ms_100pct_laser_again_again.nd2\"\n",
    ").get_frame_2D()"
   ]
  },
  {
   "cell_type": "code",
   "execution_count": null,
   "metadata": {},
   "outputs": [],
   "source": [
    "fitc = nd2_to_dask(\n",
    "    \"/home/jqs1/paulsson/190313_SB1_in_GFP_bleaching_in_CFP_100ms_100pct_laser_again_again_0001.nd2\",\n",
    "    0,\n",
    "    \"FITC\",\n",
    ")"
   ]
  },
  {
   "cell_type": "code",
   "execution_count": null,
   "metadata": {},
   "outputs": [],
   "source": [
    "fitc_frame = fitc.mean(axis=0).compute()"
   ]
  },
  {
   "cell_type": "code",
   "execution_count": null,
   "metadata": {},
   "outputs": [],
   "source": [
    "img = bf[:600, :600]\n",
    "# img = img - img.min()\n",
    "# img = img.max() - img\n",
    "# img = img.astype(np.float32)\n",
    "# img = img - np.percentile(img, 30)\n",
    "# img = skimage.transform.pyramid_expand(img, upscale=2, multichannel=False)\n",
    "mask = img < skimage.filters.threshold_otsu(img)\n",
    "img_labels = skimage.morphology.label(mask)"
   ]
  },
  {
   "cell_type": "code",
   "execution_count": null,
   "metadata": {},
   "outputs": [],
   "source": [
    "def normalize_componentwise(\n",
    "    img, img_labels, label_index=None, dilation=5, in_place=False, dtype=np.float32\n",
    "):\n",
    "    if not in_place:\n",
    "        img = img.astype(dtype).copy()\n",
    "    if label_index is None:\n",
    "        label_index = np.unique(img_labels)\n",
    "    maxes = ndi.maximum(img, labels=img_labels, index=label_index)\n",
    "    print(maxes)\n",
    "    # if weighted:\n",
    "    #    median = np.median(maxes[1:])\n",
    "    img_labels = repeat_apply(skimage.morphology.dilation, dilation)(img_labels)\n",
    "    # img[img_labels == 0] = 0\n",
    "    # img[img_labels == 0] /= np.median(maxes[1:])\n",
    "    # for idx, label in enumerate(label_index):\n",
    "    #    mask = img_labels == label\n",
    "    #    img[mask] /= np.median(maxes)#maxes[idx]\n",
    "    img /= np.median(maxes[1:])\n",
    "    img[img_labels == 1] /= np.median(maxes[1:])\n",
    "    return img"
   ]
  },
  {
   "cell_type": "code",
   "execution_count": null,
   "metadata": {},
   "outputs": [],
   "source": [
    "img2 = normalize_componentwise(img, img_labels)"
   ]
  },
  {
   "cell_type": "code",
   "execution_count": null,
   "metadata": {},
   "outputs": [],
   "source": [
    "np.clip"
   ]
  },
  {
   "cell_type": "code",
   "execution_count": null,
   "metadata": {},
   "outputs": [],
   "source": [
    "img2 = img.astype(np.float32).copy()\n",
    "img2 = np.median(img2) - img2\n",
    "img2[img2 < 0] = 0\n",
    "img3 = normalize_componentwise(img2, img_labels)"
   ]
  },
  {
   "cell_type": "code",
   "execution_count": null,
   "metadata": {},
   "outputs": [],
   "source": [
    "RevImage(img3)"
   ]
  },
  {
   "cell_type": "code",
   "execution_count": null,
   "metadata": {},
   "outputs": [],
   "source": [
    "RevImage(img.max() - img)"
   ]
  },
  {
   "cell_type": "code",
   "execution_count": null,
   "metadata": {},
   "outputs": [],
   "source": [
    "# TODO: improved\n",
    "def normalize_componentwise2(\n",
    "    img, img_labels, label_index=None, dilation=5, in_place=False, dtype=np.float32\n",
    "):\n",
    "    if not in_place:\n",
    "        img = img.astype(dtype).copy()\n",
    "    if label_index is None:\n",
    "        label_index = np.unique(img_labels)\n",
    "    mins, maxes, _, _ = ndi.extrema(img, labels=img_labels, index=label_index)\n",
    "    # if weighted:\n",
    "    #    median = np.median(maxes)\n",
    "    img_labels = repeat_apply(skimage.morphology.dilation, dilation)(img_labels)\n",
    "    # img[img_labels == 0] = 0\n",
    "    for idx, label in enumerate(label_index):\n",
    "        mask = img_labels == label\n",
    "        # if weighted:\n",
    "        #    img[mask] *= min(maxes[idx] / median, 1)\n",
    "        # else:\n",
    "        #    img[mask] /= maxes[idx]\n",
    "        img[mask] -= mins[idx]\n",
    "        scale = maxes[idx] - mins[idx]\n",
    "        if scale != 0:\n",
    "            img[mask] /= scale\n",
    "        # TODO: does this save memory compared to the following?\n",
    "        # img[mask] = (img[mask] - mins[idx]) / (maxes[idx] - mins[idx])\n",
    "    return img"
   ]
  },
  {
   "cell_type": "code",
   "execution_count": null,
   "metadata": {},
   "outputs": [],
   "source": []
  },
  {
   "cell_type": "code",
   "execution_count": null,
   "metadata": {},
   "outputs": [],
   "source": [
    "(img - img.min()).mean()"
   ]
  },
  {
   "cell_type": "code",
   "execution_count": null,
   "metadata": {},
   "outputs": [],
   "source": [
    "(img.min(), img.mean(), np.median(img), img.max())"
   ]
  },
  {
   "cell_type": "code",
   "execution_count": null,
   "metadata": {},
   "outputs": [],
   "source": [
    "plt.imshow(img)"
   ]
  },
  {
   "cell_type": "code",
   "execution_count": null,
   "metadata": {},
   "outputs": [],
   "source": [
    "img = normalize_componentwise(img, img_labels)"
   ]
  },
  {
   "cell_type": "code",
   "execution_count": null,
   "metadata": {},
   "outputs": [],
   "source": [
    "%%time\n",
    "img_frangi = skimage.filters.frangi(img, scale_range=(0.1, 1.5), scale_step=0.1)"
   ]
  },
  {
   "cell_type": "code",
   "execution_count": null,
   "metadata": {},
   "outputs": [],
   "source": [
    "%%time\n",
    "coords = skimage.feature.peak_local_max(\n",
    "    img_frangi, threshold_abs=img_frangi.max() * 0.1, min_distance=5\n",
    ")"
   ]
  },
  {
   "cell_type": "code",
   "execution_count": null,
   "metadata": {},
   "outputs": [],
   "source": [
    "%%time\n",
    "maxes2 = skimage.feature.peak_local_max(\n",
    "    img_frangi, threshold_abs=img_frangi.max() * 0.1, indices=False\n",
    ")"
   ]
  },
  {
   "cell_type": "code",
   "execution_count": null,
   "metadata": {},
   "outputs": [],
   "source": [
    "temp = ndi.filters.maximum_filter(img_frangi, size=5, mode=\"constant\")"
   ]
  },
  {
   "cell_type": "code",
   "execution_count": null,
   "metadata": {},
   "outputs": [],
   "source": [
    "k1, k2 = hessian_eigenvalues(img)\n",
    "frangi_k1, frangi_k2 = hessian_eigenvalues(img_frangi)"
   ]
  },
  {
   "cell_type": "code",
   "execution_count": null,
   "metadata": {},
   "outputs": [],
   "source": [
    "%%time\n",
    "maxes = (\n",
    "    maxes2 * mask\n",
    ")  # skimage.feature.peak_local_max(img_frangi, footprint=mask, indices=False)"
   ]
  },
  {
   "cell_type": "code",
   "execution_count": null,
   "metadata": {},
   "outputs": [],
   "source": [
    "plt.figure(figsize=(10, 10))\n",
    "plt.imshow(img)"
   ]
  },
  {
   "cell_type": "code",
   "execution_count": null,
   "metadata": {},
   "outputs": [],
   "source": [
    "%%output size=100\n",
    "#%%opts Image {+axiswise}\n",
    "(\n",
    "    RevImage(img)\n",
    "    + (\n",
    "        RevImage(img_frangi).redim(z=\"z2\")\n",
    "        * hv.Points(coords).options(color=\"g\", marker=\"+\", size=5)\n",
    "    )\n",
    "    + RevImage(maxes).redim(z=\"z3\")\n",
    "    + RevImage(temp).redim(z=\"z4\")\n",
    "    + RevImage(k1).redim(z=\"z5\")\n",
    "    + RevImage(k2).redim(z=\"z6\")\n",
    "    + RevImage(frangi_k1).redim(z=\"z7\")\n",
    "    + RevImage(frangi_k2).redim(z=\"z8\")\n",
    ").cols(2)"
   ]
  },
  {
   "cell_type": "code",
   "execution_count": null,
   "metadata": {},
   "outputs": [],
   "source": [
    "plt.figure(figsize=(10, 10))\n",
    "plt.imshow(img[:600, :600])"
   ]
  },
  {
   "cell_type": "code",
   "execution_count": null,
   "metadata": {},
   "outputs": [],
   "source": [
    "%%time\n",
    "img_frangi = skimage.filters.frangi(img, scale_range=(0.1, 1.5), scale_step=0.1)"
   ]
  },
  {
   "cell_type": "code",
   "execution_count": null,
   "metadata": {},
   "outputs": [],
   "source": [
    "%%time\n",
    "coords = skimage.feature.peak_local_max(-img_frangi, min_distance=5)"
   ]
  },
  {
   "cell_type": "code",
   "execution_count": null,
   "metadata": {},
   "outputs": [],
   "source": [
    "%%time\n",
    "maxes = skimage.morphology.local_maxima(img_frangi)"
   ]
  },
  {
   "cell_type": "code",
   "execution_count": null,
   "metadata": {},
   "outputs": [],
   "source": [
    "plt.figure(figsize=(10, 10))\n",
    "plt.imshow(img_frangi[:600, :600])\n",
    "plt.plot(coords[:, 1], coords[:, 0], \"r.\")"
   ]
  },
  {
   "cell_type": "code",
   "execution_count": null,
   "metadata": {},
   "outputs": [],
   "source": [
    "mask = img_frangi < np.percentile(img_frangi, 99)"
   ]
  },
  {
   "cell_type": "code",
   "execution_count": null,
   "metadata": {},
   "outputs": [],
   "source": [
    "plt.figure(figsize=(10, 10))\n",
    "plt.imshow(mask[:600, :600])"
   ]
  },
  {
   "cell_type": "code",
   "execution_count": null,
   "metadata": {},
   "outputs": [],
   "source": [
    "plt.figure(figsize=(10, 10))\n",
    "plt.imshow(bf[:600, :600])"
   ]
  },
  {
   "cell_type": "code",
   "execution_count": null,
   "metadata": {},
   "outputs": [],
   "source": [
    "plt.figure(figsize=(10, 10))\n",
    "plt.imshow(fitc[0, :300, :300].compute())"
   ]
  },
  {
   "cell_type": "code",
   "execution_count": null,
   "metadata": {},
   "outputs": [],
   "source": [
    "plt.figure(figsize=(10, 10))\n",
    "plt.imshow(fitc_frame[:300, :300])"
   ]
  },
  {
   "cell_type": "markdown",
   "metadata": {},
   "source": [
    "## Run"
   ]
  },
  {
   "cell_type": "code",
   "execution_count": null,
   "metadata": {},
   "outputs": [],
   "source": [
    "def nd2_to_dask(filename, position, channel):\n",
    "    nd2 = get_nd2_reader(filename)\n",
    "    frame0 = get_nd2_frame(filename, position, channel, 0)\n",
    "    frames = [\n",
    "        dask.delayed(get_nd2_frame)(filename, position, channel, t)\n",
    "        for t in range(nd2.sizes[\"t\"])\n",
    "    ]\n",
    "    arrays = [\n",
    "        da.from_delayed(frame, dtype=frame0.dtype, shape=frame0.shape)\n",
    "        for frame in frames\n",
    "    ]\n",
    "    stack = da.stack(arrays, axis=0)\n",
    "    return stack"
   ]
  },
  {
   "cell_type": "code",
   "execution_count": null,
   "metadata": {},
   "outputs": [],
   "source": [
    "dark_frames = nd2_to_dask(\n",
    "    \"/n/scratch2/jqs1/fidelity/190313/calibration/dark_100ms.nd2\", 0, \"Dark\"\n",
    ")\n",
    "dark_frame = dark_frames.mean(axis=0)\n",
    "dark_std = dark_frames.std(axis=0)"
   ]
  },
  {
   "cell_type": "code",
   "execution_count": null,
   "metadata": {},
   "outputs": [],
   "source": [
    "gfp_flat = nd2_to_dask(\n",
    "    \"/n/scratch2/jqs1/fidelity/190313/calibration/190313_flatfield_FITC_cfpslide_100ms_20pct.nd2\"\n",
    ").median(axis=0)\n",
    "mcherry_flat = nd2_to_dask(\n",
    "    \"/n/scratch2/jqs1/fidelity/190313/calibration/190313_flatfield_mcherry_gfpslide_100ms_000.nd2\"\n",
    ").median(axis=0)\n",
    "mcherry_flat_lowpower = nd2_to_dask(\n",
    "    \"/n/scratch2/jqs1/fidelity/190313/calibration/190313_flatfield_mcherry_30ms_0.35pct_laser.nd2\"\n",
    ").median(axis=0)"
   ]
  },
  {
   "cell_type": "code",
   "execution_count": null,
   "metadata": {},
   "outputs": [],
   "source": [
    "flats = {\"GFP\": gfp_flat, \"MCHERRY\": mcherry_flat}"
   ]
  },
  {
   "cell_type": "code",
   "execution_count": null,
   "metadata": {},
   "outputs": [],
   "source": [
    "filenames = glob(\"/n/scratch2/jqs1/fidelity/190313/*.nd2\")  # [:2]"
   ]
  },
  {
   "cell_type": "code",
   "execution_count": null,
   "metadata": {},
   "outputs": [],
   "source": [
    "for filename in filenames:\n",
    "    "
   ]
  },
  {
   "cell_type": "code",
   "execution_count": null,
   "metadata": {},
   "outputs": [],
   "source": [
    "funcs = {\n",
    "    \"mean\": np.mean,\n",
    "    \"median\": np.median,\n",
    "    \"p0.05\": partial(np.percentile, q=5),\n",
    "    \"p0.20\": partial(np.percentile, q=20),\n",
    "    \"p0.70\": partial(np.percentile, q=70),\n",
    "    \"p0.95\": partial(np.percentile, q=95),\n",
    "}"
   ]
  },
  {
   "cell_type": "code",
   "execution_count": null,
   "metadata": {},
   "outputs": [],
   "source": [
    "a = process_file(client, filenames[0], funcs)"
   ]
  },
  {
   "cell_type": "code",
   "execution_count": null,
   "metadata": {},
   "outputs": [],
   "source": [
    "client.gather(a)"
   ]
  },
  {
   "cell_type": "code",
   "execution_count": null,
   "metadata": {},
   "outputs": [],
   "source": [
    "progress(a)"
   ]
  },
  {
   "cell_type": "code",
   "execution_count": null,
   "metadata": {},
   "outputs": [],
   "source": [
    "%%time\n",
    "data = {filename: process_file(client, filename, funcs) for filename in filenames}"
   ]
  },
  {
   "cell_type": "code",
   "execution_count": null,
   "metadata": {},
   "outputs": [],
   "source": [
    "%%time\n",
    "trace_res = client.gather(data)"
   ]
  },
  {
   "cell_type": "code",
   "execution_count": null,
   "metadata": {},
   "outputs": [],
   "source": [
    "with open(\"190311photobleaching.pickle\", \"wb\") as f:\n",
    "    pickle.dump(trace_res, f)"
   ]
  },
  {
   "cell_type": "markdown",
   "metadata": {},
   "source": [
    "# Plotting"
   ]
  },
  {
   "cell_type": "code",
   "execution_count": null,
   "metadata": {},
   "outputs": [],
   "source": [
    "with open(\"190311photobleaching.pickle\", \"rb\") as f:\n",
    "    trace_res = pickle.load(f)"
   ]
  },
  {
   "cell_type": "code",
   "execution_count": null,
   "metadata": {},
   "outputs": [],
   "source": [
    "list(trace_res.keys())"
   ]
  },
  {
   "cell_type": "code",
   "execution_count": null,
   "metadata": {},
   "outputs": [],
   "source": [
    "b = trace_res[\"/n/scratch2/jqs1/fidelity/190311/190311_205a_10ms_laser10pct_001.nd2\"]"
   ]
  },
  {
   "cell_type": "code",
   "execution_count": null,
   "metadata": {},
   "outputs": [],
   "source": [
    "plt.plot(np.log(b[0][\"mean\"][10]))"
   ]
  },
  {
   "cell_type": "code",
   "execution_count": null,
   "metadata": {},
   "outputs": [],
   "source": [
    "b[1].hist(\"area\", bins=100)"
   ]
  },
  {
   "cell_type": "code",
   "execution_count": null,
   "metadata": {},
   "outputs": [],
   "source": [
    "traces = b[0][\"mean\"]"
   ]
  },
  {
   "cell_type": "code",
   "execution_count": null,
   "metadata": {},
   "outputs": [],
   "source": [
    "idxs = np.random.permutation(traces.shape[0])"
   ]
  },
  {
   "cell_type": "code",
   "execution_count": null,
   "metadata": {},
   "outputs": [],
   "source": [
    "%%output size=250\n",
    "curves = [\n",
    "    {\n",
    "        \"x\": np.arange(traces.shape[1]),\n",
    "        \"y\": np.log(traces[i] / traces[i, 0]),\n",
    "        \"i\": idxs[i],\n",
    "    }\n",
    "    for i in range(traces.shape[0] // 10)\n",
    "]\n",
    "hv.Contours(curves, vdims=[\"i\"]).options(color_index=\"i\", cmap=\"Category20\")"
   ]
  },
  {
   "cell_type": "code",
   "execution_count": null,
   "metadata": {},
   "outputs": [],
   "source": [
    "%%output size=250\n",
    "hv.Path((np.arange(traces.shape[1]), traces.T))"
   ]
  },
  {
   "cell_type": "code",
   "execution_count": null,
   "metadata": {},
   "outputs": [],
   "source": [
    "%%output size=250\n",
    "hv.Overlay.from_values([hv.Curve(t) for t in traces])"
   ]
  },
  {
   "cell_type": "code",
   "execution_count": null,
   "metadata": {},
   "outputs": [],
   "source": [
    "%%output size=250\n",
    "hv.Image(img) + hv.Image(segment(img))"
   ]
  },
  {
   "cell_type": "code",
   "execution_count": null,
   "metadata": {},
   "outputs": [],
   "source": []
  }
 ],
 "metadata": {
  "kernelspec": {
   "display_name": "Python 3",
   "language": "python",
   "name": "python3"
  },
  "language_info": {
   "codemirror_mode": {
    "name": "ipython",
    "version": 3
   },
   "file_extension": ".py",
   "mimetype": "text/x-python",
   "name": "python",
   "nbconvert_exporter": "python",
   "pygments_lexer": "ipython3",
   "version": "3.7.0"
  }
 },
 "nbformat": 4,
 "nbformat_minor": 2
}
