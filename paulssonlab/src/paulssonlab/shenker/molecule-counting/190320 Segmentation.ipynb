{
 "cells": [
  {
   "cell_type": "code",
   "execution_count": null,
   "metadata": {},
   "outputs": [],
   "source": [
    "import numpy as np\n",
    "import pandas as pd\n",
    "import nd2reader\n",
    "import matplotlib.pyplot as plt\n",
    "import holoviews as hv\n",
    "import skimage.filters\n",
    "import skimage.feature\n",
    "import scipy.ndimage\n",
    "import peakutils\n",
    "from tqdm import tnrange, tqdm_notebook\n",
    "import dask\n",
    "import dask.array as da\n",
    "import distributed\n",
    "from distributed import Client, LocalCluster, progress\n",
    "from dask_jobqueue import SLURMCluster\n",
    "from cytoolz import partial, compose\n",
    "from itertools import repeat\n",
    "from glob import glob\n",
    "import cachetools\n",
    "import numpy_indexed\n",
    "import pickle\n",
    "import warnings\n",
    "from numbers import Integral"
   ]
  },
  {
   "cell_type": "code",
   "execution_count": null,
   "metadata": {},
   "outputs": [],
   "source": [
    "%load_ext autoreload\n",
    "%autoreload 2"
   ]
  },
  {
   "cell_type": "code",
   "execution_count": null,
   "metadata": {},
   "outputs": [],
   "source": [
    "nd22 = nd2reader.ND2Reader(\"/home/jqs1/scratch/fidelity/all/180405_txnerr002.nd2\")"
   ]
  },
  {
   "cell_type": "code",
   "execution_count": null,
   "metadata": {},
   "outputs": [],
   "source": [
    "b\"Dimensions: T(32) x XY(1040) x \\xce\\xbb(2)\".decode(\"utf8\")"
   ]
  },
  {
   "cell_type": "code",
   "execution_count": null,
   "metadata": {},
   "outputs": [],
   "source": [
    "nd2._parser._calculate_image_group_number(3, 2, 0)"
   ]
  },
  {
   "cell_type": "code",
   "execution_count": null,
   "metadata": {},
   "outputs": [],
   "source": [
    "nd22._parser"
   ]
  },
  {
   "cell_type": "code",
   "execution_count": null,
   "metadata": {},
   "outputs": [],
   "source": [
    "nd2 = nd2reader.ND2Reader(\n",
    "    \"/home/jqs1/paulsson/fluorescence/190313_GFP_100ms_50pct_laser.nd2\"\n",
    ")"
   ]
  },
  {
   "cell_type": "code",
   "execution_count": null,
   "metadata": {},
   "outputs": [],
   "source": [
    "s = nd2._parser._raw_metadata._parse_dimension_text().decode(\"utf8\")"
   ]
  },
  {
   "cell_type": "code",
   "execution_count": null,
   "metadata": {},
   "outputs": [],
   "source": [
    "nd22._parser._calculate_image_group_number(2, 3, 0)"
   ]
  },
  {
   "cell_type": "code",
   "execution_count": null,
   "metadata": {},
   "outputs": [],
   "source": [
    "s2 = \"Dimensions: T(32) x XY(1040) x λ(2)\""
   ]
  },
  {
   "cell_type": "code",
   "execution_count": null,
   "metadata": {},
   "outputs": [],
   "source": [
    "np.product(np.array(list(dims.values())))"
   ]
  },
  {
   "cell_type": "code",
   "execution_count": null,
   "metadata": {},
   "outputs": [],
   "source": [
    "dims"
   ]
  },
  {
   "cell_type": "code",
   "execution_count": null,
   "metadata": {},
   "outputs": [],
   "source": [
    "key = {\"T\": 2, \"XY\": 3, \"λ\": 0}"
   ]
  },
  {
   "cell_type": "code",
   "execution_count": null,
   "metadata": {},
   "outputs": [],
   "source": [
    "2 * 1040 + 3"
   ]
  },
  {
   "cell_type": "code",
   "execution_count": null,
   "metadata": {},
   "outputs": [],
   "source": [
    "s"
   ]
  },
  {
   "cell_type": "code",
   "execution_count": null,
   "metadata": {},
   "outputs": [],
   "source": []
  },
  {
   "cell_type": "code",
   "execution_count": null,
   "metadata": {},
   "outputs": [],
   "source": [
    "nd2._parser._raw_metadata.image_attributes"
   ]
  },
  {
   "cell_type": "code",
   "execution_count": null,
   "metadata": {},
   "outputs": [],
   "source": [
    "get_nd2_frame(\n",
    "    \"/home/jqs1/scratch/fidelity/190311/190311_205a_10ms_laser10pct_000.nd2\", 0, 0, 0\n",
    ")"
   ]
  },
  {
   "cell_type": "code",
   "execution_count": null,
   "metadata": {},
   "outputs": [],
   "source": [
    "get_nd2_frame(\n",
    "    \"/home/jqs1/paulsson/fluorescence/190313_GFP_100ms_50pct_laser.nd2\", 0, 0, 111\n",
    ")"
   ]
  },
  {
   "cell_type": "code",
   "execution_count": null,
   "metadata": {},
   "outputs": [],
   "source": [
    "plt.figure(figsize=(10, 10))\n",
    "f = nd2.get_frame(667)\n",
    "plt.imshow(f)"
   ]
  },
  {
   "cell_type": "code",
   "execution_count": null,
   "metadata": {},
   "outputs": [],
   "source": [
    "plt.figure(figsize=(10, 10))\n",
    "f = get_nd2_frame(\n",
    "    \"/home/jqs1/paulsson/fluorescence/190313_GFP_100ms_50pct_laser.nd2\", 0, 0, 667\n",
    ")\n",
    "plt.imshow(f)"
   ]
  },
  {
   "cell_type": "code",
   "execution_count": null,
   "metadata": {},
   "outputs": [],
   "source": [
    "nd2 = get_nd2_reader(\n",
    "    \"/home/jqs1/paulsson/fluorescence/190313_GFP_100ms_50pct_laser.nd2\"\n",
    ")"
   ]
  },
  {
   "cell_type": "code",
   "execution_count": null,
   "metadata": {},
   "outputs": [],
   "source": [
    "plt.figure(figsize=(10, 10))\n",
    "f = nd2.get_frame_2D(v=0, c=0, t=667)\n",
    "plt.imshow(f)"
   ]
  },
  {
   "cell_type": "code",
   "execution_count": null,
   "metadata": {},
   "outputs": [],
   "source": [
    "nd2.metadata"
   ]
  },
  {
   "cell_type": "code",
   "execution_count": null,
   "metadata": {},
   "outputs": [],
   "source": [
    "plt.figure(figsize=(10, 10))\n",
    "f = nd2.get_frame_2D(v=0, c=0, t=666, z=0)\n",
    "plt.imshow(f)"
   ]
  },
  {
   "cell_type": "code",
   "execution_count": null,
   "metadata": {},
   "outputs": [],
   "source": [
    "fs = [\n",
    "    get_nd2_frame(\n",
    "        \"/home/jqs1/paulsson/fluorescence/190313_GFP_100ms_50pct_laser.nd2\", 0, 0, t\n",
    "    )\n",
    "    for t in range(995, 999)\n",
    "]"
   ]
  },
  {
   "cell_type": "code",
   "execution_count": null,
   "metadata": {},
   "outputs": [],
   "source": [
    "hv.HoloMap({t: RevImage(img) for t, img in enumerate(fs)})"
   ]
  },
  {
   "cell_type": "code",
   "execution_count": null,
   "metadata": {},
   "outputs": [],
   "source": [
    "f1 = get_nd2_frame(\n",
    "    \"/home/jqs1/paulsson/fluorescence/190313_GFP_100ms_50pct_laser.nd2\", 0, 0, 0\n",
    ")\n",
    "f2 = get_nd2_frame(\n",
    "    \"/home/jqs1/paulsson/fluorescence/190313_GFP_100ms_50pct_laser.nd2\", 0, 0, 999\n",
    ")\n",
    "f1 = f1 / np.nanmax(f1)\n",
    "f2 = f2 / np.nanmax(f2)\n",
    "z = f1 - f2"
   ]
  },
  {
   "cell_type": "code",
   "execution_count": null,
   "metadata": {},
   "outputs": [],
   "source": [
    "%%output size=250\n",
    "RevImage(z)"
   ]
  },
  {
   "cell_type": "code",
   "execution_count": null,
   "metadata": {},
   "outputs": [],
   "source": [
    "hv.extension(\"bokeh\")"
   ]
  },
  {
   "cell_type": "code",
   "execution_count": null,
   "metadata": {},
   "outputs": [],
   "source": [
    "def RevImage(img, **kwargs):\n",
    "    return _RevImage(hv.Image, img, **kwargs)\n",
    "\n",
    "\n",
    "def _RevImage(cls, img, **kwargs):\n",
    "    return cls(img[::-1], bounds=(0, 0, img.shape[1], img.shape[0])).options(\n",
    "        invert_yaxis=True\n",
    "    )"
   ]
  },
  {
   "cell_type": "code",
   "execution_count": null,
   "metadata": {},
   "outputs": [],
   "source": [
    "def hessian_eigenvalues(img):\n",
    "    I = skimage.filters.gaussian(img, 1.5)\n",
    "    I_x = skimage.filters.sobel_h(I)\n",
    "    I_y = skimage.filters.sobel_v(I)\n",
    "    I_xx = skimage.filters.sobel_h(I_x)\n",
    "    I_xy = skimage.filters.sobel_v(I_x)\n",
    "    I_yx = skimage.filters.sobel_h(I_y)\n",
    "    I_yy = skimage.filters.sobel_v(I_y)\n",
    "    kappa_1 = (I_xx + I_yy) / 2\n",
    "    with warnings.catch_warnings():\n",
    "        warnings.simplefilter(\"ignore\", RuntimeWarning)\n",
    "        kappa_2 = (np.sqrt((I_xx + I_yy) ** 2 - 4 * (I_xx * I_yy - I_xy * I_yx))) / 2\n",
    "    k1 = kappa_1 + kappa_2\n",
    "    k2 = kappa_1 - kappa_2\n",
    "    k1[np.isnan(k1)] = 0\n",
    "    k2[np.isnan(k2)] = 0\n",
    "    return k1, k2\n",
    "\n",
    "\n",
    "def invert(img):\n",
    "    img2 = img.astype(np.float32).copy()\n",
    "    img2 = np.median(img2) - img2\n",
    "    img2[img2 < 0] = 0\n",
    "    return img2\n",
    "\n",
    "\n",
    "from cytoolz import reduce\n",
    "\n",
    "\n",
    "def repeat_apply(func, n):\n",
    "    if n <= 0:\n",
    "        return lambda x: x\n",
    "    return reduce(lambda f1, f2: compose(f1, f2), [func] * n)\n",
    "\n",
    "\n",
    "def normalize_componentwise(\n",
    "    img,\n",
    "    img_labels,\n",
    "    weighted=False,\n",
    "    label_index=None,\n",
    "    dilation=5,\n",
    "    in_place=False,\n",
    "    dtype=np.float32,\n",
    "):\n",
    "    if not in_place:\n",
    "        img = img.astype(dtype).copy()\n",
    "    if label_index is None:\n",
    "        label_index = np.unique(img_labels)\n",
    "    maxes = scipy.ndimage.maximum(img, labels=img_labels, index=label_index)\n",
    "    if weighted:\n",
    "        median = np.median(maxes[1:])  # exclude background from median\n",
    "    img_labels = repeat_apply(skimage.morphology.dilation, dilation)(img_labels)\n",
    "    img[img_labels == 0] = 0\n",
    "    for idx, label in enumerate(label_index):\n",
    "        mask = img_labels == label\n",
    "        if weighted:\n",
    "            img[mask] *= min(maxes[idx] / median, 1)\n",
    "        else:\n",
    "            img[mask] /= maxes[idx]\n",
    "    return img"
   ]
  },
  {
   "cell_type": "code",
   "execution_count": null,
   "metadata": {},
   "outputs": [],
   "source": [
    "DEFAULT_REGIONPROPS = [\n",
    "    \"area\",\n",
    "    \"centroid\",\n",
    "    \"eccentricity\",\n",
    "    \"min_intensity\",\n",
    "    \"mean_intensity\",\n",
    "    \"max_intensity\",\n",
    "    \"major_axis_length\",\n",
    "    \"minor_axis_length\",\n",
    "    \"orientation\",\n",
    "    \"perimeter\",\n",
    "    \"solidity\",\n",
    "    \"weighted_centroid\",\n",
    "]\n",
    "\n",
    "\n",
    "def get_regionprops(label_image, intensity_image, properties=DEFAULT_REGIONPROPS):\n",
    "    rps = skimage.measure.regionprops(\n",
    "        label_image, intensity_image, coordinates=\"rc\", cache=False\n",
    "    )\n",
    "    if not len(rps):\n",
    "        return None\n",
    "    cols = {prop: [getattr(rp, prop) for rp in rps] for prop in properties}\n",
    "    for col, values in list(cols.items()):\n",
    "        if isinstance(values[0], tuple):\n",
    "            del cols[col]\n",
    "            # TODO: store coordinates as multiindex?\n",
    "            cols[col + \"_x\"] = [v[0] for v in values]\n",
    "            cols[col + \"_y\"] = [v[1] for v in values]\n",
    "    df = pd.DataFrame(cols, index=range(1, len(rps) + 1))\n",
    "    df.index.name = \"label\"\n",
    "    return df"
   ]
  },
  {
   "cell_type": "code",
   "execution_count": null,
   "metadata": {},
   "outputs": [],
   "source": [
    "img = bf[:600, :600]\n",
    "img = invert(img)\n",
    "# img = skimage.transform.pyramid_expand(img, upscale=2, multichannel=False)\n",
    "mask = img > skimage.filters.threshold_otsu(img)\n",
    "img_labels = skimage.morphology.label(mask)\n",
    "img = normalize_componentwise(img, img_labels)"
   ]
  },
  {
   "cell_type": "code",
   "execution_count": null,
   "metadata": {},
   "outputs": [],
   "source": [
    "def segment(img):\n",
    "    img_frangi = skimage.filters.frangi(img, scale_range=(0.1, 1.5), scale_step=0.1)\n",
    "    del img\n",
    "    mask = img_frangi < np.percentile(img_frangi, 90)\n",
    "    del img_frangi\n",
    "    mask = skimage.segmentation.clear_border(mask)\n",
    "    mask = repeat_apply(skimage.morphology.erosion, 2)(mask)\n",
    "    mask = skimage.morphology.remove_small_objects(mask, 5)\n",
    "    labels = skimage.measure.label(mask)\n",
    "    # TODO: not even watershedding??\n",
    "    return labels"
   ]
  },
  {
   "cell_type": "code",
   "execution_count": null,
   "metadata": {},
   "outputs": [],
   "source": [
    "ND2READER_CACHE = cachetools.LFUCache(maxsize=48)\n",
    "\n",
    "\n",
    "def _get_nd2_reader(filename, memmap=False, **kwargs):\n",
    "    return nd2reader.ND2Reader(filename, memmap=memmap, **kwargs)\n",
    "\n",
    "\n",
    "# get_nd2_reader = cachetools.cached(cache=ND2READER_CACHE)(_get_nd2_reader)\n",
    "get_nd2_reader = _get_nd2_reader\n",
    "\n",
    "# TODO: modified\n",
    "def get_nd2_frame(filename, position, channel, t, memmap=False):\n",
    "    reader = get_nd2_reader(filename, memmap=memmap)\n",
    "    if not isinstance(channel, Integral):\n",
    "        channel = reader.metadata[\"channels\"].index(channel)\n",
    "    print(\">\", dict(v=position, c=channel, t=t, memmap=memmap))\n",
    "    ary = reader.get_frame_2D(v=position, c=channel, t=t, memmap=memmap)\n",
    "    return ary\n",
    "\n",
    "\n",
    "def nd2_to_futures(client, filename):\n",
    "    nd2 = get_nd2_reader(filename)\n",
    "    frames = [client.submit(get_nd2_frame, filename, t) for t in range(nd2.sizes[\"t\"])]\n",
    "    return frames\n",
    "\n",
    "\n",
    "# TODO: changed argument order\n",
    "def map_over_labels(func, label_image, intensity_image):\n",
    "    # assumes are consecutive integers 1,...,N\n",
    "    groups = numpy_indexed.group_by(\n",
    "        label_image.ravel(), intensity_image.ravel(), reduction=func\n",
    "    )\n",
    "    return [g[1] for g in groups]\n",
    "\n",
    "\n",
    "def nd2_to_dask(filename, position, channel):\n",
    "    nd2 = get_nd2_reader(filename)\n",
    "    frame0 = get_nd2_frame(filename, position, channel, 0)\n",
    "    frames = [\n",
    "        dask.delayed(get_nd2_frame)(filename, position, channel, t)\n",
    "        for t in range(nd2.sizes[\"t\"])\n",
    "    ]\n",
    "    arrays = [\n",
    "        da.from_delayed(frame, dtype=frame0.dtype, shape=frame0.shape)\n",
    "        for frame in frames\n",
    "    ]\n",
    "    stack = da.stack(arrays, axis=0)\n",
    "    return stack\n",
    "\n",
    "\n",
    "def nd2_to_futures(client, filename, position, channel):\n",
    "    nd2 = get_nd2_reader(filename)\n",
    "    frame0 = get_nd2_frame(filename, position, channel, 0)\n",
    "    frames = [\n",
    "        client.submit(get_nd2_frame, filename, position, channel, t)\n",
    "        for t in range(nd2.sizes[\"t\"])\n",
    "    ]\n",
    "    return frames\n",
    "\n",
    "\n",
    "def process_file(\n",
    "    client,\n",
    "    col_to_funcs,\n",
    "    photobleaching_filename,\n",
    "    segmentation_filename=None,\n",
    "    initial_filename=None,\n",
    "    final_filename=None,\n",
    "    time_slice=slice(None),\n",
    "):\n",
    "    nd2 = get_nd2_reader(photobleaching_filename)\n",
    "    num_positions = nd2.sizes[\"v\"]\n",
    "    del nd2\n",
    "    data = {}\n",
    "    for position in range(num_positions):\n",
    "        # TODO: why won't dask array work?\n",
    "        # photobleaching_frames = nd2_to_dask(photobleaching_filename, position, 0)\n",
    "        photobleaching_frames = nd2_to_futures(\n",
    "            client, photobleaching_filename, position, 0\n",
    "        )\n",
    "        if segmentation_filename:\n",
    "            segmentation_frame = client.submit(\n",
    "                get_nd2_frame, segmentation_filename, position, 0, 0\n",
    "            )\n",
    "        else:\n",
    "            segmentation_filename = photobleaching_filename\n",
    "            segmentation_frame = photobleaching_frames[0]\n",
    "        segmentation_nd2 = get_nd2_reader(segmentation_filename)\n",
    "        if segmentation_nd2.metadata[\"channels\"][0] == \"BF\":\n",
    "            segmentation_func = compose(segment, invert)\n",
    "        else:\n",
    "            segmentation_func = segment\n",
    "        # TODO: assuming segmenting in phase\n",
    "        labels = client.submit(segmentation_func, segmentation_frame)\n",
    "        sandwich_frames = []\n",
    "        if initial_filename is not None:\n",
    "            initial_frame = client.submit(\n",
    "                get_nd2_frame, initial_filename, position, 0, 0\n",
    "            )\n",
    "            sandwich_frames.append(initial_frame)\n",
    "            regionprops_frame = initial_frame\n",
    "        else:\n",
    "            regionprops_frame = segmentation_frame\n",
    "        if final_filename is not None:\n",
    "            sandwich_frames.append(\n",
    "                client.submit(get_nd2_frame, final_filename, position, 0, 0)\n",
    "            )\n",
    "        sandwich_traces = {\n",
    "            col: client.submit(\n",
    "                np.transpose,\n",
    "                [\n",
    "                    client.submit(map_over_labels, func, labels, frame)\n",
    "                    for frame in sandwich_frames\n",
    "                ],\n",
    "            )\n",
    "            for col, func in col_to_funcs.items()\n",
    "        }\n",
    "        regionprops = client.submit(get_regionprops, labels, regionprops_frame)\n",
    "        traces = {\n",
    "            col: client.submit(\n",
    "                np.transpose,\n",
    "                [\n",
    "                    client.submit(map_over_labels, func, labels, frame)\n",
    "                    for frame in photobleaching_frames[time_slice]\n",
    "                ],\n",
    "            )\n",
    "            # traces = {col: client.submit(np.transpose, client.map(partial(map_over_labels, func, labels),\n",
    "            #                                                      photobleaching_frames[time_slice]))\n",
    "            for col, func in col_to_funcs.items()\n",
    "        }\n",
    "        data[position] = {\n",
    "            \"regionprops\": regionprops,\n",
    "            \"sandwich_traces\": sandwich_traces,\n",
    "            \"traces\": traces,\n",
    "            \"labels\": labels,\n",
    "            \"segmentation_frame\": segmentation_frame,\n",
    "        }\n",
    "    return data"
   ]
  },
  {
   "cell_type": "markdown",
   "metadata": {},
   "source": [
    "# Run"
   ]
  },
  {
   "cell_type": "code",
   "execution_count": null,
   "metadata": {},
   "outputs": [],
   "source": [
    "dask.config.config[\"distributed\"][\"scheduler\"][\"allowed-failures\"] = 20\n",
    "# dask.config.config['distributed']['worker']['memory'] = {'target': 0.4,\n",
    "#                                                         'spill': 0.5,\n",
    "#                                                         'pause': 0.9,\n",
    "#                                                         'terminate': 0.95}"
   ]
  },
  {
   "cell_type": "code",
   "execution_count": null,
   "metadata": {},
   "outputs": [],
   "source": [
    "cluster = SLURMCluster(\n",
    "    queue=\"short\",\n",
    "    walltime=\"03:00:00\",\n",
    "    memory=\"8GB\",\n",
    "    local_directory=\"/tmp\",\n",
    "    log_directory=\"/home/jqs1/projects/molecule-counting/log\",\n",
    "    cores=1,\n",
    "    processes=1,\n",
    ")\n",
    "# diagnostics_port=('127.0.0.1', 8787),\n",
    "# env_extra=['export PYTHONPATH=\\\"/home/jqs1/projects/matriarch\\\"'])\n",
    "client = Client(cluster)"
   ]
  },
  {
   "cell_type": "code",
   "execution_count": null,
   "metadata": {},
   "outputs": [],
   "source": [
    "cluster"
   ]
  },
  {
   "cell_type": "code",
   "execution_count": null,
   "metadata": {},
   "outputs": [],
   "source": [
    "cluster.scale(10)"
   ]
  },
  {
   "cell_type": "markdown",
   "metadata": {},
   "source": [
    "## Run"
   ]
  },
  {
   "cell_type": "code",
   "execution_count": null,
   "metadata": {},
   "outputs": [],
   "source": [
    "funcs = {\"mean\": np.mean, \"median\": np.median}\n",
    "#'p0.05': partial(np.percentile, q=5),\n",
    "#'p0.20': partial(np.percentile, q=20),\n",
    "#'p0.70': partial(np.percentile, q=70),\n",
    "#'p0.95': partial(np.percentile, q=95)}"
   ]
  },
  {
   "cell_type": "code",
   "execution_count": null,
   "metadata": {},
   "outputs": [],
   "source": [
    "fluorescence_filenames = glob(\"/home/jqs1/paulsson/fluorescence/*.nd2\")\n",
    "phase_filenames = glob(\"/home/jqs1/paulsson/phase/*_0001.nd2\")\n",
    "sandwich_filenames = glob(\"/home/jqs1/paulsson/sandwich/*_0001.nd2\")"
   ]
  },
  {
   "cell_type": "code",
   "execution_count": null,
   "metadata": {},
   "outputs": [],
   "source": [
    "# dark_frames = nd2_to_dask('/n/scratch2/jqs1/fidelity/190313/calibration/dark_100ms.nd2', 0, 'Dark')\n",
    "# dark_frame = dark_frames.mean(axis=0)\n",
    "# dark_std = dark_frames.std(axis=0)"
   ]
  },
  {
   "cell_type": "code",
   "execution_count": null,
   "metadata": {},
   "outputs": [],
   "source": [
    "# gfp_flat = nd2_to_dask('/n/scratch2/jqs1/fidelity/190313/calibration/190313_flatfield_FITC_cfpslide_100ms_20pct.nd2').median(axis=0)\n",
    "# mcherry_flat = nd2_to_dask('/n/scratch2/jqs1/fidelity/190313/calibration/190313_flatfield_mcherry_gfpslide_100ms_000.nd2').median(axis=0)\n",
    "# mcherry_flat_lowpower = nd2_to_dask('/n/scratch2/jqs1/fidelity/190313/calibration/190313_flatfield_mcherry_30ms_0.35pct_laser.nd2').median(axis=0)"
   ]
  },
  {
   "cell_type": "code",
   "execution_count": null,
   "metadata": {},
   "outputs": [],
   "source": [
    "flats = {\"GFP\": gfp_flat, \"MCHERRY\": mcherry_flat}"
   ]
  },
  {
   "cell_type": "code",
   "execution_count": null,
   "metadata": {},
   "outputs": [],
   "source": [
    "%%time\n",
    "data = {}\n",
    "for photobleaching_filename in fluorescence_filenames[:1]:\n",
    "    data[photobleaching_filename] = process_file(\n",
    "        client, funcs, photobleaching_filename, time_slice=slice(0, 10)\n",
    "    )\n",
    "\n",
    "for photobleaching_filename in phase_filenames[:0]:\n",
    "    segmentation_filename = photobleaching_filename.replace(\"_0001.nd2\", \".nd2\")\n",
    "    data[segmentation_filename] = process_file(\n",
    "        client,\n",
    "        funcs,\n",
    "        photobleaching_filename,\n",
    "        segmentation_filename=segmentation_filename,\n",
    "    )\n",
    "\n",
    "for initial_filename in sandwich_filenames[:0]:\n",
    "    segmentation_filename = initial_filename.replace(\"_0001.nd2\", \".nd2\")\n",
    "    photobleaching_filename = initial_filename.replace(\"_0001.nd2\", \"_0002.nd2\")\n",
    "    final_filename = initial_filename.replace(\"_0001.nd2\", \"_0003.nd2\")\n",
    "    data[segmentation_filename] = process_file(\n",
    "        client,\n",
    "        funcs,\n",
    "        photobleaching_filename,\n",
    "        segmentation_filename=segmentation_filename,\n",
    "        initial_filename=initial_filename,\n",
    "        final_filename=final_filename,\n",
    "    )"
   ]
  },
  {
   "cell_type": "code",
   "execution_count": null,
   "metadata": {},
   "outputs": [],
   "source": [
    "%%time\n",
    "a = client.gather(data)"
   ]
  },
  {
   "cell_type": "code",
   "execution_count": null,
   "metadata": {},
   "outputs": [],
   "source": [
    "a[\"/home/jqs1/paulsson/fluorescence/190313_GFP_100ms_50pct_laser.nd2\"][0][\"regionprops\"]"
   ]
  },
  {
   "cell_type": "code",
   "execution_count": null,
   "metadata": {},
   "outputs": [],
   "source": [
    "ary = nd2_to_dask(\n",
    "    \"/home/jqs1/paulsson/fluorescence/190313_GFP_100ms_50pct_laser.nd2\", 0, 0\n",
    ")"
   ]
  },
  {
   "cell_type": "code",
   "execution_count": null,
   "metadata": {},
   "outputs": [],
   "source": [
    "get_nd2_frame(\n",
    "    \"/home/jqs1/paulsson/fluorescence/190313_GFP_100ms_50pct_laser.nd2\", 0, 0, 111\n",
    ")"
   ]
  },
  {
   "cell_type": "code",
   "execution_count": null,
   "metadata": {},
   "outputs": [],
   "source": [
    "for i in range(500):\n",
    "    print(\">\", i)\n",
    "    ary[i, 0, 0].compute()"
   ]
  },
  {
   "cell_type": "code",
   "execution_count": null,
   "metadata": {},
   "outputs": [],
   "source": [
    "%%time\n",
    "a = ary[:500].mean(axis=0).compute()"
   ]
  },
  {
   "cell_type": "code",
   "execution_count": null,
   "metadata": {},
   "outputs": [],
   "source": [
    "%%time\n",
    "b = ary[500:].mean(axis=0).compute()"
   ]
  },
  {
   "cell_type": "code",
   "execution_count": null,
   "metadata": {},
   "outputs": [],
   "source": [
    "RevImage(b)"
   ]
  },
  {
   "cell_type": "code",
   "execution_count": null,
   "metadata": {},
   "outputs": [],
   "source": [
    "%%output size=150\n",
    "(\n",
    "    RevImage(\n",
    "        get_nd2_frame(\n",
    "            \"/home/jqs1/paulsson/fluorescence/190313_GFP_100ms_50pct_laser.nd2\", 0, 0, 0\n",
    "        )\n",
    "    )\n",
    "    + RevImage(\n",
    "        get_nd2_frame(\n",
    "            \"/home/jqs1/paulsson/fluorescence/190313_GFP_100ms_50pct_laser.nd2\", 0, 0, 1\n",
    "        )\n",
    "    )\n",
    "    + RevImage(\n",
    "        get_nd2_frame(\n",
    "            \"/home/jqs1/paulsson/fluorescence/190313_GFP_100ms_50pct_laser.nd2\",\n",
    "            0,\n",
    "            0,\n",
    "            500,\n",
    "        )\n",
    "    ).redim(z=\"z3\")\n",
    ")"
   ]
  },
  {
   "cell_type": "code",
   "execution_count": null,
   "metadata": {},
   "outputs": [],
   "source": [
    "%%output size=250\n",
    "RevImage(\n",
    "    get_nd2_frame(\n",
    "        \"/home/jqs1/paulsson/fluorescence/190313_GFP_100ms_50pct_laser.nd2\", 0, 0, 0\n",
    "    )\n",
    ")"
   ]
  },
  {
   "cell_type": "code",
   "execution_count": null,
   "metadata": {},
   "outputs": [],
   "source": [
    "filename = \"/home/jqs1/paulsson/fluorescence/190313_GFP_100ms_100pct_laser.nd2\"\n",
    "pos = 1\n",
    "RevImage(a[filename][pos][\"labels\"]) + RevImage(\n",
    "    a[filename][pos][\"segmentation_frame\"]\n",
    ").redim(z=\"z2\")"
   ]
  },
  {
   "cell_type": "code",
   "execution_count": null,
   "metadata": {},
   "outputs": [],
   "source": [
    "bf = ND2Reader(\n",
    "    \"/home/jqs1/paulsson/190313_SB1_in_GFP_bleaching_in_CFP_100ms_100pct_laser_again_again.nd2\"\n",
    ").get_frame_2D()"
   ]
  },
  {
   "cell_type": "code",
   "execution_count": null,
   "metadata": {},
   "outputs": [],
   "source": [
    "fitc = nd2_to_dask(\n",
    "    \"/home/jqs1/paulsson/190313_SB1_in_GFP_bleaching_in_CFP_100ms_100pct_laser_again_again_0001.nd2\",\n",
    "    0,\n",
    "    \"FITC\",\n",
    ")"
   ]
  },
  {
   "cell_type": "code",
   "execution_count": null,
   "metadata": {},
   "outputs": [],
   "source": [
    "fitc_frame = fitc.mean(axis=0).compute()"
   ]
  },
  {
   "cell_type": "code",
   "execution_count": null,
   "metadata": {},
   "outputs": [],
   "source": [
    "%%time\n",
    "data_futures = {\n",
    "    filename: process_file(client, filename, funcs) for filename in filenames\n",
    "}"
   ]
  },
  {
   "cell_type": "code",
   "execution_count": null,
   "metadata": {},
   "outputs": [],
   "source": [
    "%%time\n",
    "data = client.gather(data_futures)"
   ]
  },
  {
   "cell_type": "code",
   "execution_count": null,
   "metadata": {},
   "outputs": [],
   "source": [
    "with open(\"190313photobleaching.pickle\", \"wb\") as f:\n",
    "    pickle.dump(data, f)"
   ]
  },
  {
   "cell_type": "markdown",
   "metadata": {},
   "source": [
    "# Plotting"
   ]
  },
  {
   "cell_type": "code",
   "execution_count": null,
   "metadata": {},
   "outputs": [],
   "source": [
    "with open(\"190311photobleaching.pickle\", \"rb\") as f:\n",
    "    trace_res = pickle.load(f)"
   ]
  },
  {
   "cell_type": "code",
   "execution_count": null,
   "metadata": {},
   "outputs": [],
   "source": [
    "list(trace_res.keys())"
   ]
  },
  {
   "cell_type": "code",
   "execution_count": null,
   "metadata": {},
   "outputs": [],
   "source": [
    "b = trace_res[\"/n/scratch2/jqs1/fidelity/190311/190311_205a_10ms_laser10pct_001.nd2\"]"
   ]
  },
  {
   "cell_type": "code",
   "execution_count": null,
   "metadata": {},
   "outputs": [],
   "source": [
    "plt.plot(np.log(b[0][\"mean\"][10]))"
   ]
  },
  {
   "cell_type": "code",
   "execution_count": null,
   "metadata": {},
   "outputs": [],
   "source": [
    "b[1].hist(\"area\", bins=100)"
   ]
  },
  {
   "cell_type": "code",
   "execution_count": null,
   "metadata": {},
   "outputs": [],
   "source": [
    "traces = b[0][\"mean\"]"
   ]
  },
  {
   "cell_type": "code",
   "execution_count": null,
   "metadata": {},
   "outputs": [],
   "source": [
    "idxs = np.random.permutation(traces.shape[0])"
   ]
  },
  {
   "cell_type": "code",
   "execution_count": null,
   "metadata": {},
   "outputs": [],
   "source": [
    "%%output size=250\n",
    "curves = [\n",
    "    {\n",
    "        \"x\": np.arange(traces.shape[1]),\n",
    "        \"y\": np.log(traces[i] / traces[i, 0]),\n",
    "        \"i\": idxs[i],\n",
    "    }\n",
    "    for i in range(traces.shape[0] // 10)\n",
    "]\n",
    "hv.Contours(curves, vdims=[\"i\"]).options(color_index=\"i\", cmap=\"Category20\")"
   ]
  },
  {
   "cell_type": "code",
   "execution_count": null,
   "metadata": {},
   "outputs": [],
   "source": [
    "%%output size=250\n",
    "hv.Path((np.arange(traces.shape[1]), traces.T))"
   ]
  },
  {
   "cell_type": "code",
   "execution_count": null,
   "metadata": {},
   "outputs": [],
   "source": [
    "%%output size=250\n",
    "hv.Overlay.from_values([hv.Curve(t) for t in traces])"
   ]
  },
  {
   "cell_type": "code",
   "execution_count": null,
   "metadata": {},
   "outputs": [],
   "source": [
    "%%output size=250\n",
    "hv.Image(img) + hv.Image(segment(img))"
   ]
  },
  {
   "cell_type": "code",
   "execution_count": null,
   "metadata": {},
   "outputs": [],
   "source": []
  }
 ],
 "metadata": {
  "kernelspec": {
   "display_name": "Python 3",
   "language": "python",
   "name": "python3"
  },
  "language_info": {
   "codemirror_mode": {
    "name": "ipython",
    "version": 3
   },
   "file_extension": ".py",
   "mimetype": "text/x-python",
   "name": "python",
   "nbconvert_exporter": "python",
   "pygments_lexer": "ipython3",
   "version": "3.7.0"
  }
 },
 "nbformat": 4,
 "nbformat_minor": 2
}
