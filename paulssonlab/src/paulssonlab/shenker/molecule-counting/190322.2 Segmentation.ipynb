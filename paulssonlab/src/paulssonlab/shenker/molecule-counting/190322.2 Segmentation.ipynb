{
 "cells": [
  {
   "cell_type": "code",
   "execution_count": null,
   "metadata": {},
   "outputs": [],
   "source": [
    "import numpy as np\n",
    "import pandas as pd\n",
    "import nd2reader\n",
    "import matplotlib.pyplot as plt\n",
    "import holoviews as hv\n",
    "import skimage.filters\n",
    "import skimage.feature\n",
    "import scipy.ndimage\n",
    "import peakutils\n",
    "from tqdm import tnrange, tqdm_notebook\n",
    "import dask\n",
    "import dask.array as da\n",
    "import distributed\n",
    "from distributed import Client, LocalCluster, progress\n",
    "from dask_jobqueue import SLURMCluster\n",
    "from cytoolz import partial, compose\n",
    "from itertools import repeat\n",
    "from glob import glob\n",
    "import cachetools\n",
    "import numpy_indexed\n",
    "import pickle\n",
    "import warnings\n",
    "from numbers import Integral"
   ]
  },
  {
   "cell_type": "code",
   "execution_count": null,
   "metadata": {},
   "outputs": [],
   "source": [
    "%load_ext autoreload\n",
    "%autoreload 2"
   ]
  },
  {
   "cell_type": "code",
   "execution_count": null,
   "metadata": {},
   "outputs": [],
   "source": [
    "from segmentation import *\n",
    "from util import *\n",
    "from matriarch_stub import *"
   ]
  },
  {
   "cell_type": "code",
   "execution_count": null,
   "metadata": {},
   "outputs": [],
   "source": [
    "plt.rcParams[\"figure.figsize\"] = (8, 8)\n",
    "hv.extension(\"bokeh\")"
   ]
  },
  {
   "cell_type": "markdown",
   "metadata": {},
   "source": [
    "# Run"
   ]
  },
  {
   "cell_type": "code",
   "execution_count": null,
   "metadata": {},
   "outputs": [],
   "source": [
    "dask.config.config[\"distributed\"][\"scheduler\"][\"allowed-failures\"] = 20\n",
    "# dask.config.config['distributed']['worker']['memory'] = {'target': 0.4,\n",
    "#                                                         'spill': 0.5,\n",
    "#                                                         'pause': 0.9,\n",
    "#                                                         'terminate': 0.95}"
   ]
  },
  {
   "cell_type": "code",
   "execution_count": null,
   "metadata": {},
   "outputs": [],
   "source": [
    "cluster = SLURMCluster(\n",
    "    queue=\"short\",\n",
    "    walltime=\"03:00:00\",\n",
    "    memory=\"8GB\",\n",
    "    local_directory=\"/tmp\",\n",
    "    log_directory=\"/home/jqs1/projects/molecule-counting/log\",\n",
    "    cores=1,\n",
    "    processes=1,\n",
    ")\n",
    "# diagnostics_port=('127.0.0.1', 8787),\n",
    "# env_extra=['export PYTHONPATH=\\\"/home/jqs1/projects/matriarch\\\"'])\n",
    "client = Client(cluster)"
   ]
  },
  {
   "cell_type": "code",
   "execution_count": null,
   "metadata": {},
   "outputs": [],
   "source": [
    "cluster"
   ]
  },
  {
   "cell_type": "code",
   "execution_count": null,
   "metadata": {},
   "outputs": [],
   "source": [
    "cluster.scale(80)"
   ]
  },
  {
   "cell_type": "code",
   "execution_count": null,
   "metadata": {},
   "outputs": [],
   "source": [
    "0"
   ]
  },
  {
   "cell_type": "markdown",
   "metadata": {},
   "source": [
    "## Run"
   ]
  },
  {
   "cell_type": "code",
   "execution_count": null,
   "metadata": {},
   "outputs": [],
   "source": [
    "funcs = {\"mean\": np.mean, \"median\": np.median}\n",
    "#'p0.05': partial(np.percentile, q=5),\n",
    "#'p0.20': partial(np.percentile, q=20),\n",
    "#'p0.70': partial(np.percentile, q=70),\n",
    "#'p0.95': partial(np.percentile, q=95)}"
   ]
  },
  {
   "cell_type": "code",
   "execution_count": null,
   "metadata": {},
   "outputs": [],
   "source": [
    "fluorescence_filenames = glob(\"/home/jqs1/paulsson/fluorescence/*.nd2\")\n",
    "phase_filenames = glob(\"/home/jqs1/paulsson/phase/*_0001.nd2\")\n",
    "sandwich_filenames = glob(\"/home/jqs1/paulsson/sandwich/*_0001.nd2\")"
   ]
  },
  {
   "cell_type": "code",
   "execution_count": null,
   "metadata": {},
   "outputs": [],
   "source": [
    "# dark_frames = nd2_to_dask('/n/scratch2/jqs1/fidelity/190313/calibration/dark_100ms.nd2', 0, 'Dark')\n",
    "# dark_frame = dark_frames.mean(axis=0)\n",
    "# dark_std = dark_frames.std(axis=0)"
   ]
  },
  {
   "cell_type": "code",
   "execution_count": null,
   "metadata": {},
   "outputs": [],
   "source": [
    "# gfp_flat = nd2_to_dask('/n/scratch2/jqs1/fidelity/190313/calibration/190313_flatfield_FITC_cfpslide_100ms_20pct.nd2').median(axis=0)\n",
    "# mcherry_flat = nd2_to_dask('/n/scratch2/jqs1/fidelity/190313/calibration/190313_flatfield_mcherry_gfpslide_100ms_000.nd2').median(axis=0)\n",
    "# mcherry_flat_lowpower = nd2_to_dask('/n/scratch2/jqs1/fidelity/190313/calibration/190313_flatfield_mcherry_30ms_0.35pct_laser.nd2').median(axis=0)"
   ]
  },
  {
   "cell_type": "code",
   "execution_count": null,
   "metadata": {},
   "outputs": [],
   "source": [
    "flats = {\"FITC\": fitc_flat, \"MCHERRY\": mcherry_flat}"
   ]
  },
  {
   "cell_type": "code",
   "execution_count": null,
   "metadata": {},
   "outputs": [],
   "source": [
    "%%time\n",
    "data_futures = {}\n",
    "for photobleaching_filename in fluorescence_filenames[:]:\n",
    "    data_futures[photobleaching_filename] = process_file(\n",
    "        client, funcs, photobleaching_filename\n",
    "    )\n",
    "\n",
    "for photobleaching_filename in phase_filenames[:]:\n",
    "    segmentation_filename = photobleaching_filename.replace(\"_0001.nd2\", \".nd2\")\n",
    "    data_futures[segmentation_filename] = process_file(\n",
    "        client,\n",
    "        funcs,\n",
    "        photobleaching_filename,\n",
    "        segmentation_filename=segmentation_filename,\n",
    "    )\n",
    "\n",
    "for initial_filename in sandwich_filenames[:]:\n",
    "    segmentation_filename = initial_filename.replace(\"_0001.nd2\", \".nd2\")\n",
    "    photobleaching_filename = initial_filename.replace(\"_0001.nd2\", \"_0002.nd2\")\n",
    "    final_filename = initial_filename.replace(\"_0001.nd2\", \"_0003.nd2\")\n",
    "    data_futures[segmentation_filename] = process_file(\n",
    "        client,\n",
    "        funcs,\n",
    "        photobleaching_filename,\n",
    "        segmentation_filename=segmentation_filename,\n",
    "        initial_filename=initial_filename,\n",
    "        final_filename=final_filename,\n",
    "    )"
   ]
  },
  {
   "cell_type": "markdown",
   "metadata": {},
   "source": [
    "## Segmentation practice"
   ]
  },
  {
   "cell_type": "code",
   "execution_count": null,
   "metadata": {},
   "outputs": [],
   "source": [
    "np.concatenate((0,), np.random.permutation(labels.max()) + 1)"
   ]
  },
  {
   "cell_type": "code",
   "execution_count": null,
   "metadata": {},
   "outputs": [],
   "source": [
    "filename = \"/home/jqs1/paulsson/sandwich/190313_SB1_in_GFP_bleaching_in_CFP_100ms_100pct_laser_again_again.nd2\"\n",
    "# filename = '/home/jqs1/paulsson/fluorescence/190313_mkate_100ms_50pct_laser.nd2'\n",
    "frame = get_nd2_frame(filename, 0, 0, 0)\n",
    "frame = invert(frame)\n",
    "labels = segment(frame)"
   ]
  },
  {
   "cell_type": "code",
   "execution_count": null,
   "metadata": {},
   "outputs": [],
   "source": [
    "plt.imshow(labels)"
   ]
  },
  {
   "cell_type": "code",
   "execution_count": null,
   "metadata": {},
   "outputs": [],
   "source": [
    "%%output size=150\n",
    "RevImage(frame) + RevImage(permute_labels(labels)).redim(z=\"z2\")"
   ]
  },
  {
   "cell_type": "code",
   "execution_count": null,
   "metadata": {},
   "outputs": [],
   "source": [
    "img = frame[400:500, 1420:1500]"
   ]
  },
  {
   "cell_type": "code",
   "execution_count": null,
   "metadata": {},
   "outputs": [],
   "source": [
    "plt.imshow(segment(img))"
   ]
  },
  {
   "cell_type": "code",
   "execution_count": null,
   "metadata": {},
   "outputs": [],
   "source": [
    "plt.imshow(img)"
   ]
  },
  {
   "cell_type": "code",
   "execution_count": null,
   "metadata": {},
   "outputs": [],
   "source": [
    "img_k1.max()"
   ]
  },
  {
   "cell_type": "code",
   "execution_count": null,
   "metadata": {},
   "outputs": [],
   "source": [
    "img_k1"
   ]
  },
  {
   "cell_type": "code",
   "execution_count": null,
   "metadata": {},
   "outputs": [],
   "source": [
    "img2 = img.astype(np.float64)\n",
    "# img2 = skimage.filters.gaussian(img2, 0.1)\n",
    "img_k1, img_k2 = hessian_eigenvalues(img2)\n",
    "img_frangi = skimage.filters.frangi(img_k1, sigmas=np.arange(0.1, 1.5, 0.5))\n",
    "plt.imshow(img_frangi)"
   ]
  },
  {
   "cell_type": "code",
   "execution_count": null,
   "metadata": {},
   "outputs": [],
   "source": [
    "plt.imshow(img_frangi > skimage.filters.threshold_otsu(img_frangi))"
   ]
  },
  {
   "cell_type": "code",
   "execution_count": null,
   "metadata": {},
   "outputs": [],
   "source": [
    "list(data.keys())"
   ]
  },
  {
   "cell_type": "code",
   "execution_count": null,
   "metadata": {},
   "outputs": [],
   "source": [
    "# img = bf[:600,:600]\n",
    "# img = invert(img)\n",
    "# #img = skimage.transform.pyramid_expand(img, upscale=2, multichannel=False)\n",
    "# mask = img > skimage.filters.threshold_otsu(img)\n",
    "# img_labels = skimage.morphology.label(mask)\n",
    "# img = normalize_componentwise(img, img_labels)"
   ]
  },
  {
   "cell_type": "code",
   "execution_count": null,
   "metadata": {},
   "outputs": [],
   "source": [
    "def segment2(img):\n",
    "    img_highpass = img - gaussian_box_approximation(img, 5)\n",
    "    # img2 = skimage.transform.pyramid_expand(img, upscale=2, multichannel=False)\n",
    "    img_k1, img_k2 = hessian_eigenvalues(img)\n",
    "    img_frangi = skimage.filters.frangi(\n",
    "        img_k1.max() - img_k1, sigmas=np.arange(1, 3, 0.1)\n",
    "    )\n",
    "    cell_mask = img_frangi > skimage.filters.threshold_otsu(img_frangi)\n",
    "    empty_mask = img_k2 < skimage.filters.threshold_otsu(img_k2)\n",
    "    empty_mask = repeat_apply(skimage.morphology.dilation, 2)(empty_mask)\n",
    "    mask_cleaned = cell_mask * empty_mask\n",
    "    mask_cleaned = skimage.morphology.remove_small_objects(mask_cleaned, 3)\n",
    "    markers = skimage.measure.label(mask_cleaned)\n",
    "    labels = skimage.morphology.watershed(img_k1, markers, mask=empty_mask)\n",
    "    return labels"
   ]
  },
  {
   "cell_type": "code",
   "execution_count": null,
   "metadata": {},
   "outputs": [],
   "source": [
    "def segment3(img):\n",
    "    img_highpass = img - gaussian_box_approximation(img, 5)\n",
    "    # img2 = skimage.transform.pyramid_expand(img, upscale=2, multichannel=False)\n",
    "    img_k1, img_k2 = hessian_eigenvalues(img)\n",
    "    img_frangi = skimage.filters.frangi(\n",
    "        img_k1.max() - img_k1, sigmas=np.arange(0.1, 1.5, 0.1)\n",
    "    )\n",
    "    cell_mask = img_frangi > skimage.filters.threshold_otsu(img_frangi)\n",
    "\n",
    "    # empty_mask = (img_k2 < skimage.filters.threshold_otsu(img_k2))\n",
    "    # empty_mask = repeat_apply(skimage.morphology.dilation, 2)(empty_mask)\n",
    "    # mask_cleaned = cell_mask * empty_mask\n",
    "    # mask_cleaned = skimage.morphology.remove_small_objects(mask_cleaned, 3)\n",
    "    # markers = skimage.measure.label(mask_cleaned)\n",
    "    # labels = skimage.morphology.watershed(img_k1, markers, mask=empty_mask)\n",
    "    return labels"
   ]
  },
  {
   "cell_type": "code",
   "execution_count": null,
   "metadata": {},
   "outputs": [],
   "source": [
    "frame = get_nd2_frame(\n",
    "    \"/home/jqs1/paulsson/sandwich/190313_SB1_in_GFP_bleaching_in_mCherry_100ms_100pct_laser.nd2\",\n",
    "    0,\n",
    "    0,\n",
    "    0,\n",
    ")"
   ]
  },
  {
   "cell_type": "code",
   "execution_count": null,
   "metadata": {},
   "outputs": [],
   "source": [
    "plt.imshow(skimage.feature.canny(img_frangi, sigma=2))"
   ]
  },
  {
   "cell_type": "code",
   "execution_count": null,
   "metadata": {},
   "outputs": [],
   "source": [
    "peak_local_max?"
   ]
  },
  {
   "cell_type": "code",
   "execution_count": null,
   "metadata": {},
   "outputs": [],
   "source": [
    "img_k2_frangi = skimage.filters.frangi(\n",
    "    img_k2.max() + img_k2, sigmas=np.arange(1, 5, 0.5)\n",
    ")\n",
    "img_k2_frangi = skimage.filters.gaussian(img_k2_frangi, 2)\n",
    "maxes = skimage.feature.peak_local_max(img_k2_frangi, min_distance=1, indices=False)\n",
    "plt.imshow(maxes)"
   ]
  },
  {
   "cell_type": "code",
   "execution_count": null,
   "metadata": {},
   "outputs": [],
   "source": [
    "plt.imshow(img)"
   ]
  },
  {
   "cell_type": "code",
   "execution_count": null,
   "metadata": {},
   "outputs": [],
   "source": [
    "img = frame[:300, :300]\n",
    "img = invert(img)\n",
    "# img = skimage.transform.pyramid_expand(img, upscale=2, multichannel=False)\n",
    "img_highpass = img - gaussian_box_approximation(img, 5)\n",
    "img_k1, img_k2 = hessian_eigenvalues(img_highpass)\n",
    "# img_k1 = skimage.filters.gaussian(img_k1, 0.5)\n",
    "# img_frangi = skimage.filters.frangi(img_k1.max()-img_k1, sigmas=np.arange(0.1,1.5,0.5))\n",
    "img_frangi = skimage.filters.frangi(\n",
    "    img_k1.max() - img_k1, sigmas=np.arange(0.1, 1.5, 0.1)\n",
    ")\n",
    "markers = img_frangi < skimage.filters.threshold_otsu(img_frangi)\n",
    "# empty_mask = (img_k2 < skimage.filters.threshold_otsu(img_k2))\n",
    "# empty_mask = repeat_apply(skimage.morphology.dilation, 2)(empty_mask)\n",
    "# mask_cleaned = cell_mask * empty_mask\n",
    "# mask_cleaned = skimage.morphology.remove_small_objects(mask_cleaned, 3)\n",
    "# markers = skimage.measure.label(mask_cleaned)\n",
    "# labels = skimage.morphology.watershed(img_k1, markers, mask=empty_mask)\n",
    "\n",
    "# TODO: replace otsu threshold with mean + 3*stddev of background component\n",
    "plt.figure()\n",
    "plt.imshow(img_k1)\n",
    "plt.figure()\n",
    "plt.imshow(img_frangi)\n",
    "plt.figure()\n",
    "plt.imshow(markers)"
   ]
  },
  {
   "cell_type": "code",
   "execution_count": null,
   "metadata": {},
   "outputs": [],
   "source": [
    "frame = get_nd2_frame(\n",
    "    \"/home/jqs1/scratch/fidelity/190311/190311_205a_10ms_laser100pct_000.nd2\", 0, 0, 0\n",
    ")\n",
    "labels = segment(frame)"
   ]
  },
  {
   "cell_type": "code",
   "execution_count": null,
   "metadata": {},
   "outputs": [],
   "source": [
    "plt.imshow(img[:300, :300])"
   ]
  },
  {
   "cell_type": "code",
   "execution_count": null,
   "metadata": {},
   "outputs": [],
   "source": [
    "plt.imshow(\n",
    "    skimage.filters.frangi(\n",
    "        10 - img_k1[:300, :300], scale_range=(0.5, 1.5), scale_step=0.1\n",
    "    )\n",
    ")"
   ]
  },
  {
   "cell_type": "code",
   "execution_count": null,
   "metadata": {},
   "outputs": [],
   "source": [
    "def segment_old(img):\n",
    "    img_frangi = skimage.filters.frangi(img, scale_range=(0.1, 1.5), scale_step=0.1)\n",
    "    mask = img_frangi < np.percentile(img_frangi, 90)\n",
    "    mask = skimage.segmentation.clear_border(mask)\n",
    "    labels = skimage.measure.label(mask)\n",
    "    return labels"
   ]
  },
  {
   "cell_type": "code",
   "execution_count": null,
   "metadata": {},
   "outputs": [],
   "source": [
    "imgs = {filename: data[filename][0][\"segmentation_frame\"] for filename in data.keys()}"
   ]
  },
  {
   "cell_type": "code",
   "execution_count": null,
   "metadata": {},
   "outputs": [],
   "source": [
    "# img = imgs['/home/jqs1/paulsson/fluorescence/190313_mkate.nd2']\n",
    "# img = imgs['/home/jqs1/paulsson/fluorescence/190313_mkate_100ms_50pct_laser.nd2']\n",
    "# img = get_nd2_frame('/home/jqs1/paulsson/fluorescence/190313_mkate_100ms_100pct_laser.nd2', 0, 0, 0)\n",
    "# img = get_nd2_frame('/home/jqs1/scratch/fidelity/190311/190311_mGFPmut2_100ms_laser100pct_003.nd2', 0, 0, 0)\n",
    "# img = get_nd2_frame('/n/scratch2/jqs1/fidelity/190301/jqs_photobleach_100ms_de32_mkate2_0001.nd2', 0, 0, 0)\n",
    "img = get_nd2_frame(\n",
    "    \"/home/jqs1/scratch/fidelity/190311/190311_205a_10ms_laser100pct_000.nd2\", 0, 0, 0\n",
    ")"
   ]
  },
  {
   "cell_type": "code",
   "execution_count": null,
   "metadata": {},
   "outputs": [],
   "source": [
    "plt.imshow(ks[0] - img_k1)"
   ]
  },
  {
   "cell_type": "code",
   "execution_count": null,
   "metadata": {},
   "outputs": [],
   "source": [
    "img2 = img.astype(np.float64).copy()[300:600, 300:600]\n",
    "img2 = skimage.transform.pyramid_expand(img2, upscale=2, multichannel=False)\n",
    "\n",
    "# img_k1, img_k2 = hessian_eigenvalues(img2)\n",
    "img\n",
    "\n",
    "# img_frangi = skimage.filters.frangi(img2, scale_range=(0.1,4), scale_step=0.1)\n",
    "# img_frangi = skimage.filters.sato(img2, sigmas=range(1, 5, 1), black_ridges=True)\n",
    "# img_frangi = skimage.filters.frangi(img2, sigmas=np.arange(0.1,0.3,0.05), alpha=3, beta=4, gamma=2)\n",
    "# img_frangi = hessian_eigenvalues(img2)[0]\n",
    "# mask = img_frangi < np.percentile(img_frangi, 90)\n",
    "# mask = skimage.segmentation.clear_border(mask)\n",
    "# mask = repeat_apply(skimage.morphology.erosion, 2)(mask)\n",
    "# mask = skimage.morphology.remove_small_objects(mask, 5)\n",
    "# labels = skimage.measure.label(mask)\n",
    "\n",
    "# img_thresh = img2 > skimage.filters.threshold_otsu(img2)\n",
    "# distance = scipy.ndimage.distance_transform_edt(img_thresh)\n",
    "# local_maxes = skimage.feature.peak_local_max(distance,\n",
    "#                                              footprint=np.ones((3, 3)),\n",
    "#                                              indices=False)\n",
    "# markers = skimage.measure.label(local_maxes)\n",
    "# labels = skimage.morphology.watershed(img_frangi, markers, mask=img_thresh)"
   ]
  },
  {
   "cell_type": "code",
   "execution_count": null,
   "metadata": {},
   "outputs": [],
   "source": [
    "plt.figure()\n",
    "plt.imshow(img_k1)\n",
    "plt.figure()\n",
    "plt.imshow(img_k2)"
   ]
  },
  {
   "cell_type": "code",
   "execution_count": null,
   "metadata": {},
   "outputs": [],
   "source": [
    "img2 = img.astype(np.float64).copy()[:600, :600]\n",
    "img2 = img2 - gaussian_box_approximation(img2, 5)\n",
    "# img2 = skimage.transform.pyramid_expand(img2, upscale=2, multichannel=False)\n",
    "# img2 = skimage.transform.pyramid_expand(img, upscale=2, multichannel=False)\n",
    "# img2 = img[:300,:300]\n",
    "img_k1, img_k2 = hessian_eigenvalues(img2)\n",
    "img_frangi = skimage.filters.frangi(img_k1, scale_range=(1, 3), scale_step=0.1)\n",
    "mask = img_frangi > skimage.filters.threshold_otsu(img_frangi)\n",
    "empty_mask = img_k2 < skimage.filters.threshold_otsu(img_k2)\n",
    "empty_mask = repeat_apply(skimage.morphology.dilation, 2)(empty_mask)\n",
    "mask_cleaned = mask * empty_mask\n",
    "# mask_cleaned = skimage.morphology.remove_small_objects(mask_cleaned)\n",
    "plt.figure()\n",
    "plt.imshow(empty_mask)\n",
    "plt.figure()\n",
    "plt.imshow(img2)\n",
    "plt.figure()\n",
    "plt.imshow(img_frangi)\n",
    "plt.figure()\n",
    "plt.imshow(mask)\n",
    "plt.figure()\n",
    "plt.imshow(mask_cleaned)"
   ]
  },
  {
   "cell_type": "code",
   "execution_count": null,
   "metadata": {},
   "outputs": [],
   "source": [
    "img_frangi = skimage.filters.frangi(100 - img_k1, scale_range=(1, 3), scale_step=0.1)"
   ]
  },
  {
   "cell_type": "code",
   "execution_count": null,
   "metadata": {},
   "outputs": [],
   "source": [
    "plt.imshow(img_frangi)"
   ]
  },
  {
   "cell_type": "code",
   "execution_count": null,
   "metadata": {},
   "outputs": [],
   "source": [
    "plt.imshow(img_k1 > skimage.filters.threshold_otsu(img_k1) / 2)"
   ]
  },
  {
   "cell_type": "code",
   "execution_count": null,
   "metadata": {},
   "outputs": [],
   "source": [
    "plt.imshow(img_k1)"
   ]
  },
  {
   "cell_type": "code",
   "execution_count": null,
   "metadata": {},
   "outputs": [],
   "source": [
    "plt.imshow(img_frangi)"
   ]
  },
  {
   "cell_type": "code",
   "execution_count": null,
   "metadata": {},
   "outputs": [],
   "source": [
    "plt.imshow(img2 > np.percentile(img2, 96))"
   ]
  },
  {
   "cell_type": "code",
   "execution_count": null,
   "metadata": {},
   "outputs": [],
   "source": [
    "plt.imshow(labels)"
   ]
  },
  {
   "cell_type": "code",
   "execution_count": null,
   "metadata": {},
   "outputs": [],
   "source": [
    "plt.figure(figsize=(10, 10))\n",
    "plt.imshow(img2, cmap=\"Blues\")\n",
    "plt.figure(figsize=(10, 10))\n",
    "plt.imshow(img_frangi, cmap=\"Blues\")"
   ]
  },
  {
   "cell_type": "code",
   "execution_count": null,
   "metadata": {},
   "outputs": [],
   "source": [
    "plt.figure(figsize=(10, 10))\n",
    "plt.imshow(img2, cmap=\"Blues\")\n",
    "plt.figure(figsize=(10, 10))\n",
    "plt.imshow(img_frangi, cmap=\"Blues\")"
   ]
  },
  {
   "cell_type": "code",
   "execution_count": null,
   "metadata": {},
   "outputs": [],
   "source": [
    "plt.figure(figsize=(10, 10))\n",
    "plt.imshow(img2, cmap=\"Blues\")\n",
    "plt.figure(figsize=(10, 10))\n",
    "plt.imshow(mask)"
   ]
  },
  {
   "cell_type": "code",
   "execution_count": null,
   "metadata": {},
   "outputs": [],
   "source": [
    "%%output size=200\n",
    "RevImage(img2) + RevImage(img_frangi).redim(z=\"z2\")"
   ]
  },
  {
   "cell_type": "code",
   "execution_count": null,
   "metadata": {},
   "outputs": [],
   "source": [
    "%%output size=150\n",
    "%%opts Layout {+framewise}\n",
    "hv.HoloMap(\n",
    "    {filename: RevImage(data[filename][0][\"labels\"]) for filename in data.keys()}\n",
    ") + hv.HoloMap(\n",
    "    {\n",
    "        filename: RevImage(data[filename][0][\"segmentation_frame\"])\n",
    "        for filename in data.keys()\n",
    "    }\n",
    ")"
   ]
  },
  {
   "cell_type": "markdown",
   "metadata": {},
   "source": [
    "## Save data"
   ]
  },
  {
   "cell_type": "code",
   "execution_count": null,
   "metadata": {},
   "outputs": [],
   "source": [
    "%%time\n",
    "data = client.gather(data_futures)"
   ]
  },
  {
   "cell_type": "code",
   "execution_count": null,
   "metadata": {},
   "outputs": [],
   "source": [
    "with open(\"190313photobleaching.pickle\", \"wb\") as f:\n",
    "    pickle.dump(data, f)"
   ]
  },
  {
   "cell_type": "code",
   "execution_count": null,
   "metadata": {},
   "outputs": [],
   "source": [
    "# time: 96593s\n",
    "# 65% map_over_labels, 30% get_nd2_frame"
   ]
  },
  {
   "cell_type": "markdown",
   "metadata": {},
   "source": [
    "# Plotting"
   ]
  },
  {
   "cell_type": "code",
   "execution_count": null,
   "metadata": {},
   "outputs": [],
   "source": [
    "with open(\"190311photobleaching.pickle\", \"rb\") as f:\n",
    "    data = pickle.load(f)"
   ]
  },
  {
   "cell_type": "code",
   "execution_count": null,
   "metadata": {},
   "outputs": [],
   "source": [
    "list(trace_res.keys())"
   ]
  },
  {
   "cell_type": "code",
   "execution_count": null,
   "metadata": {},
   "outputs": [],
   "source": [
    "b = trace_res[\"/n/scratch2/jqs1/fidelity/190311/190311_205a_10ms_laser10pct_001.nd2\"]"
   ]
  },
  {
   "cell_type": "code",
   "execution_count": null,
   "metadata": {},
   "outputs": [],
   "source": [
    "plt.plot(np.log(b[0][\"mean\"][10]))"
   ]
  },
  {
   "cell_type": "code",
   "execution_count": null,
   "metadata": {},
   "outputs": [],
   "source": [
    "b[1].hist(\"area\", bins=100)"
   ]
  },
  {
   "cell_type": "code",
   "execution_count": null,
   "metadata": {},
   "outputs": [],
   "source": [
    "traces = z[\"/home/jqs1/paulsson/fluorescence/190313_GFP_100ms_50pct_laser.nd2\"][0][\n",
    "    \"traces\"\n",
    "][\"mean\"]"
   ]
  },
  {
   "cell_type": "code",
   "execution_count": null,
   "metadata": {},
   "outputs": [],
   "source": [
    "traces = b[0][\"mean\"]"
   ]
  },
  {
   "cell_type": "code",
   "execution_count": null,
   "metadata": {},
   "outputs": [],
   "source": [
    "idxs = np.random.permutation(traces.shape[0])"
   ]
  },
  {
   "cell_type": "code",
   "execution_count": null,
   "metadata": {},
   "outputs": [],
   "source": [
    "%%output size=250\n",
    "curves = [\n",
    "    {\n",
    "        \"x\": np.arange(traces.shape[1]),\n",
    "        \"y\": np.log(traces[i] / traces[i, 0]),\n",
    "        \"i\": idxs[i],\n",
    "    }\n",
    "    for i in range(traces.shape[0] // 10)\n",
    "]\n",
    "hv.Contours(curves, vdims=[\"i\"]).options(color_index=\"i\", cmap=\"Category20\")"
   ]
  },
  {
   "cell_type": "code",
   "execution_count": null,
   "metadata": {},
   "outputs": [],
   "source": [
    "%%output size=250\n",
    "hv.Path((np.arange(traces.shape[1]), traces.T))"
   ]
  },
  {
   "cell_type": "code",
   "execution_count": null,
   "metadata": {},
   "outputs": [],
   "source": [
    "%%output size=250\n",
    "hv.Overlay.from_values([hv.Curve(t) for t in traces])"
   ]
  },
  {
   "cell_type": "code",
   "execution_count": null,
   "metadata": {},
   "outputs": [],
   "source": [
    "%%output size=250\n",
    "hv.Image(img) + hv.Image(segment(img))"
   ]
  },
  {
   "cell_type": "code",
   "execution_count": null,
   "metadata": {},
   "outputs": [],
   "source": []
  }
 ],
 "metadata": {
  "kernelspec": {
   "display_name": "Python 3",
   "language": "python",
   "name": "python3"
  },
  "language_info": {
   "codemirror_mode": {
    "name": "ipython",
    "version": 3
   },
   "file_extension": ".py",
   "mimetype": "text/x-python",
   "name": "python",
   "nbconvert_exporter": "python",
   "pygments_lexer": "ipython3",
   "version": "3.7.0"
  }
 },
 "nbformat": 4,
 "nbformat_minor": 2
}
