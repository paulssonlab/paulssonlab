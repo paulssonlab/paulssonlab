{
 "cells": [
  {
   "cell_type": "code",
   "execution_count": null,
   "metadata": {},
   "outputs": [],
   "source": [
    "import numpy as np\n",
    "import pandas as pd\n",
    "import nd2reader\n",
    "import matplotlib.pyplot as plt\n",
    "import holoviews as hv\n",
    "import skimage.filters\n",
    "import skimage.feature\n",
    "import scipy.ndimage\n",
    "import peakutils\n",
    "from tqdm import tnrange, tqdm_notebook\n",
    "import dask\n",
    "import dask.array as da\n",
    "import distributed\n",
    "from distributed import Client, LocalCluster, progress\n",
    "from dask_jobqueue import SLURMCluster\n",
    "from cytoolz import partial, compose\n",
    "from itertools import repeat\n",
    "from glob import glob\n",
    "import cachetools\n",
    "import numpy_indexed\n",
    "import pickle\n",
    "import warnings\n",
    "import os\n",
    "from numbers import Integral"
   ]
  },
  {
   "cell_type": "code",
   "execution_count": null,
   "metadata": {},
   "outputs": [],
   "source": [
    "%load_ext autoreload\n",
    "%autoreload 2"
   ]
  },
  {
   "cell_type": "code",
   "execution_count": null,
   "metadata": {},
   "outputs": [],
   "source": [
    "from segmentation import *\n",
    "from util import *\n",
    "from matriarch_stub import *"
   ]
  },
  {
   "cell_type": "code",
   "execution_count": null,
   "metadata": {},
   "outputs": [],
   "source": [
    "plt.rcParams[\"figure.figsize\"] = (8, 8)\n",
    "hv.extension(\"bokeh\")"
   ]
  },
  {
   "cell_type": "markdown",
   "metadata": {},
   "source": [
    "# Run"
   ]
  },
  {
   "cell_type": "code",
   "execution_count": null,
   "metadata": {},
   "outputs": [],
   "source": [
    "dask.config.config[\"distributed\"][\"scheduler\"][\"allowed-failures\"] = 20\n",
    "# dask.config.config['distributed']['worker']['memory'] = {'target': 0.4,\n",
    "#                                                         'spill': 0.5,\n",
    "#                                                         'pause': 0.9,\n",
    "#                                                         'terminate': 0.95}"
   ]
  },
  {
   "cell_type": "code",
   "execution_count": null,
   "metadata": {},
   "outputs": [],
   "source": [
    "cluster = SLURMCluster(\n",
    "    queue=\"short\",\n",
    "    walltime=\"03:00:00\",\n",
    "    memory=\"8GB\",\n",
    "    local_directory=\"/tmp\",\n",
    "    log_directory=\"/home/jqs1/projects/molecule-counting/log\",\n",
    "    cores=1,\n",
    "    processes=1,\n",
    ")\n",
    "# diagnostics_port=('127.0.0.1', 8787),\n",
    "# env_extra=['export PYTHONPATH=\\\"/home/jqs1/projects/matriarch\\\"'])\n",
    "client = Client(cluster)"
   ]
  },
  {
   "cell_type": "code",
   "execution_count": null,
   "metadata": {},
   "outputs": [],
   "source": [
    "cluster"
   ]
  },
  {
   "cell_type": "code",
   "execution_count": null,
   "metadata": {},
   "outputs": [],
   "source": [
    "cluster.scale(20)"
   ]
  },
  {
   "cell_type": "markdown",
   "metadata": {},
   "source": [
    "## Run"
   ]
  },
  {
   "cell_type": "code",
   "execution_count": null,
   "metadata": {},
   "outputs": [],
   "source": [
    "funcs = {\"mean\": np.mean, \"median\": np.median}\n",
    "#'p0.05': partial(np.percentile, q=5),\n",
    "#'p0.20': partial(np.percentile, q=20),\n",
    "#'p0.70': partial(np.percentile, q=70),\n",
    "#'p0.95': partial(np.percentile, q=95)}"
   ]
  },
  {
   "cell_type": "code",
   "execution_count": null,
   "metadata": {},
   "outputs": [],
   "source": [
    "base_filename = \"/n/scratch2/jqs1/fidelity/190313\"\n",
    "fluorescence_filenames = glob(os.path.join(base_filename, \"fluorescence/*.nd2\"))\n",
    "phase_filenames = glob(os.path.join(base_filename, \"phase/*_0001.nd2\"))\n",
    "sandwich_filenames = glob(os.path.join(base_filename, \"sandwich/*_0001.nd2\"))"
   ]
  },
  {
   "cell_type": "code",
   "execution_count": null,
   "metadata": {},
   "outputs": [],
   "source": [
    "dark_frames = nd2_to_dask(\n",
    "    os.path.join(base_filename, \"calibration/dark_100ms.nd2\"), 0, \"Dark\"\n",
    ")\n",
    "dark_frame = dark_frames.mean(axis=0)\n",
    "# dark_std = dark_frames.std(axis=0)"
   ]
  },
  {
   "cell_type": "code",
   "execution_count": null,
   "metadata": {},
   "outputs": [],
   "source": [
    "a = client.compute(dark_frame)"
   ]
  },
  {
   "cell_type": "code",
   "execution_count": null,
   "metadata": {},
   "outputs": [],
   "source": [
    "del a"
   ]
  },
  {
   "cell_type": "code",
   "execution_count": null,
   "metadata": {},
   "outputs": [],
   "source": [
    "client.restart()"
   ]
  },
  {
   "cell_type": "code",
   "execution_count": null,
   "metadata": {},
   "outputs": [],
   "source": [
    "client.persist?"
   ]
  },
  {
   "cell_type": "code",
   "execution_count": null,
   "metadata": {},
   "outputs": [],
   "source": [
    "a"
   ]
  },
  {
   "cell_type": "code",
   "execution_count": null,
   "metadata": {},
   "outputs": [],
   "source": [
    "# gfp_flat = nd2_to_dask('/n/scratch2/jqs1/fidelity/190313/calibration/190313_flatfield_FITC_cfpslide_100ms_20pct.nd2').median(axis=0)\n",
    "# mcherry_flat = nd2_to_dask('/n/scratch2/jqs1/fidelity/190313/calibration/190313_flatfield_mcherry_gfpslide_100ms_000.nd2').median(axis=0)\n",
    "# mcherry_flat_lowpower = nd2_to_dask('/n/scratch2/jqs1/fidelity/190313/calibration/190313_flatfield_mcherry_30ms_0.35pct_laser.nd2').median(axis=0)"
   ]
  },
  {
   "cell_type": "code",
   "execution_count": null,
   "metadata": {},
   "outputs": [],
   "source": [
    "flats = {\"FITC\": fitc_flat, \"MCHERRY\": mcherry_flat}"
   ]
  },
  {
   "cell_type": "code",
   "execution_count": null,
   "metadata": {},
   "outputs": [],
   "source": [
    "data_futures = {}\n",
    "for photobleaching_filename in fluorescence_filenames[:]:\n",
    "    data_futures[photobleaching_filename] = process_file(\n",
    "        funcs,\n",
    "        photobleaching_filename,\n",
    "    )\n",
    "\n",
    "for photobleaching_filename in phase_filenames[:]:\n",
    "    segmentation_filename = photobleaching_filename.replace(\"_0001.nd2\", \".nd2\")\n",
    "    data_futures[segmentation_filename] = process_file(\n",
    "        funcs, photobleaching_filename, segmentation_filename=segmentation_filename\n",
    "    )\n",
    "\n",
    "for initial_filename in sandwich_filenames[:]:\n",
    "    segmentation_filename = initial_filename.replace(\"_0001.nd2\", \".nd2\")\n",
    "    photobleaching_filename = initial_filename.replace(\"_0001.nd2\", \"_0002.nd2\")\n",
    "    final_filename = initial_filename.replace(\"_0001.nd2\", \"_0003.nd2\")\n",
    "    data_futures[segmentation_filename] = process_file(\n",
    "        funcs,\n",
    "        photobleaching_filename,\n",
    "        segmentation_filename=segmentation_filename,\n",
    "        initial_filename=initial_filename,\n",
    "        final_filename=final_filename,\n",
    "    )"
   ]
  },
  {
   "cell_type": "code",
   "execution_count": null,
   "metadata": {},
   "outputs": [],
   "source": [
    "a = client.compute(data_futures)"
   ]
  },
  {
   "cell_type": "code",
   "execution_count": null,
   "metadata": {},
   "outputs": [],
   "source": [
    "a"
   ]
  },
  {
   "cell_type": "code",
   "execution_count": null,
   "metadata": {},
   "outputs": [],
   "source": [
    "client.gather(a)"
   ]
  },
  {
   "cell_type": "code",
   "execution_count": null,
   "metadata": {},
   "outputs": [],
   "source": [
    "data_futures[\n",
    "    \"/n/scratch2/jqs1/fidelity/190313/fluorescence/190313_mkate_100ms_50pct_laser.nd2\"\n",
    "][0][\"regionprops\"].compute()"
   ]
  },
  {
   "cell_type": "code",
   "execution_count": null,
   "metadata": {},
   "outputs": [],
   "source": [
    "data_futures[\n",
    "    \"/n/scratch2/jqs1/fidelity/190313/fluorescence/190313_mkate_100ms_50pct_laser.nd2\"\n",
    "][0][\"segmentation_frame\"].compute()"
   ]
  },
  {
   "cell_type": "markdown",
   "metadata": {},
   "source": [
    "## Save data"
   ]
  },
  {
   "cell_type": "code",
   "execution_count": null,
   "metadata": {},
   "outputs": [],
   "source": [
    "data = client.gather(data_futures)"
   ]
  },
  {
   "cell_type": "code",
   "execution_count": null,
   "metadata": {},
   "outputs": [],
   "source": [
    "with open(\"190313photobleaching_flatcorr.pickle\", \"wb\") as f:\n",
    "    pickle.dump(data, f)"
   ]
  },
  {
   "cell_type": "code",
   "execution_count": null,
   "metadata": {},
   "outputs": [],
   "source": [
    "# time: 96593s\n",
    "# 65% map_over_labels, 30% get_nd2_frame\n",
    "# time: 109885s (3/22)\n",
    "# 56% map_over_labels 43% get_nd2_frame"
   ]
  },
  {
   "cell_type": "code",
   "execution_count": null,
   "metadata": {},
   "outputs": [],
   "source": [
    "%%output size=200\n",
    "hv.HoloMap(\n",
    "    {\n",
    "        filename: RevImage(permute_labels(data[filename][0][\"labels\"]))\n",
    "        for filename in data.keys()\n",
    "    }\n",
    ")"
   ]
  },
  {
   "cell_type": "markdown",
   "metadata": {},
   "source": [
    "# Plotting"
   ]
  },
  {
   "cell_type": "code",
   "execution_count": null,
   "metadata": {},
   "outputs": [],
   "source": [
    "with open(\"190311photobleaching.pickle\", \"rb\") as f:\n",
    "    data = pickle.load(f)"
   ]
  },
  {
   "cell_type": "code",
   "execution_count": null,
   "metadata": {},
   "outputs": [],
   "source": [
    "list(trace_res.keys())"
   ]
  },
  {
   "cell_type": "code",
   "execution_count": null,
   "metadata": {},
   "outputs": [],
   "source": [
    "b = trace_res[\"/n/scratch2/jqs1/fidelity/190311/190311_205a_10ms_laser10pct_001.nd2\"]"
   ]
  },
  {
   "cell_type": "code",
   "execution_count": null,
   "metadata": {},
   "outputs": [],
   "source": [
    "plt.plot(np.log(b[0][\"mean\"][10]))"
   ]
  },
  {
   "cell_type": "code",
   "execution_count": null,
   "metadata": {},
   "outputs": [],
   "source": [
    "b[1].hist(\"area\", bins=100)"
   ]
  },
  {
   "cell_type": "code",
   "execution_count": null,
   "metadata": {},
   "outputs": [],
   "source": [
    "traces = z[\"/home/jqs1/paulsson/fluorescence/190313_GFP_100ms_50pct_laser.nd2\"][0][\n",
    "    \"traces\"\n",
    "][\"mean\"]"
   ]
  },
  {
   "cell_type": "code",
   "execution_count": null,
   "metadata": {},
   "outputs": [],
   "source": [
    "traces = b[0][\"mean\"]"
   ]
  },
  {
   "cell_type": "code",
   "execution_count": null,
   "metadata": {},
   "outputs": [],
   "source": [
    "idxs = np.random.permutation(traces.shape[0])"
   ]
  },
  {
   "cell_type": "code",
   "execution_count": null,
   "metadata": {},
   "outputs": [],
   "source": [
    "%%output size=250\n",
    "curves = [\n",
    "    {\n",
    "        \"x\": np.arange(traces.shape[1]),\n",
    "        \"y\": np.log(traces[i] / traces[i, 0]),\n",
    "        \"i\": idxs[i],\n",
    "    }\n",
    "    for i in range(traces.shape[0] // 10)\n",
    "]\n",
    "hv.Contours(curves, vdims=[\"i\"]).options(color_index=\"i\", cmap=\"Category20\")"
   ]
  },
  {
   "cell_type": "code",
   "execution_count": null,
   "metadata": {},
   "outputs": [],
   "source": [
    "%%output size=250\n",
    "hv.Path((np.arange(traces.shape[1]), traces.T))"
   ]
  },
  {
   "cell_type": "code",
   "execution_count": null,
   "metadata": {},
   "outputs": [],
   "source": [
    "%%output size=250\n",
    "hv.Overlay.from_values([hv.Curve(t) for t in traces])"
   ]
  },
  {
   "cell_type": "code",
   "execution_count": null,
   "metadata": {},
   "outputs": [],
   "source": [
    "%%output size=250\n",
    "hv.Image(img) + hv.Image(segment(img))"
   ]
  },
  {
   "cell_type": "code",
   "execution_count": null,
   "metadata": {},
   "outputs": [],
   "source": []
  }
 ],
 "metadata": {
  "kernelspec": {
   "display_name": "Python 3",
   "language": "python",
   "name": "python3"
  },
  "language_info": {
   "codemirror_mode": {
    "name": "ipython",
    "version": 3
   },
   "file_extension": ".py",
   "mimetype": "text/x-python",
   "name": "python",
   "nbconvert_exporter": "python",
   "pygments_lexer": "ipython3",
   "version": "3.7.0"
  }
 },
 "nbformat": 4,
 "nbformat_minor": 2
}
