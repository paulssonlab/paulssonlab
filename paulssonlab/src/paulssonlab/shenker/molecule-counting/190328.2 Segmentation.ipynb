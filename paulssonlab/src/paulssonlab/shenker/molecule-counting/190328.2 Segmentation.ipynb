{
 "cells": [
  {
   "cell_type": "code",
   "execution_count": null,
   "metadata": {},
   "outputs": [],
   "source": [
    "import numpy as np\n",
    "import pandas as pd\n",
    "import nd2reader\n",
    "import matplotlib.pyplot as plt\n",
    "import holoviews as hv\n",
    "import skimage.filters\n",
    "import skimage.feature\n",
    "import scipy.ndimage\n",
    "import peakutils\n",
    "from tqdm import tnrange, tqdm_notebook\n",
    "import dask\n",
    "import dask.array as da\n",
    "import distributed\n",
    "from distributed import Client, LocalCluster, progress\n",
    "from dask_jobqueue import SLURMCluster\n",
    "from cytoolz import partial, compose\n",
    "from itertools import repeat\n",
    "from glob import glob\n",
    "import cachetools\n",
    "import numpy_indexed\n",
    "import pickle\n",
    "import warnings\n",
    "import os\n",
    "from numbers import Integral\n",
    "from dask.delayed import Delayed"
   ]
  },
  {
   "cell_type": "code",
   "execution_count": null,
   "metadata": {},
   "outputs": [],
   "source": [
    "%load_ext autoreload\n",
    "%autoreload 2"
   ]
  },
  {
   "cell_type": "code",
   "execution_count": null,
   "metadata": {},
   "outputs": [],
   "source": [
    "# from segmentation import *\n",
    "# from util import *\n",
    "# from matriarch_stub import *\n",
    "import segmentation\n",
    "import matriarch_stub"
   ]
  },
  {
   "cell_type": "code",
   "execution_count": null,
   "metadata": {},
   "outputs": [],
   "source": [
    "plt.rcParams[\"figure.figsize\"] = (8, 8)\n",
    "hv.extension(\"bokeh\")"
   ]
  },
  {
   "cell_type": "markdown",
   "metadata": {},
   "source": [
    "# Run"
   ]
  },
  {
   "cell_type": "code",
   "execution_count": null,
   "metadata": {},
   "outputs": [],
   "source": [
    "dask.config.config[\"distributed\"][\"scheduler\"][\"allowed-failures\"] = 20\n",
    "# dask.config.config['distributed']['worker']['memory'] = {'target': 0.4,\n",
    "#                                                         'spill': 0.5,\n",
    "#                                                         'pause': 0.9,\n",
    "#                                                         'terminate': 0.95}"
   ]
  },
  {
   "cell_type": "code",
   "execution_count": null,
   "metadata": {},
   "outputs": [],
   "source": [
    "cluster = SLURMCluster(\n",
    "    queue=\"short\",\n",
    "    walltime=\"03:00:00\",\n",
    "    memory=\"8GB\",\n",
    "    local_directory=\"/tmp\",\n",
    "    log_directory=\"/home/jqs1/projects/molecule-counting/log\",\n",
    "    cores=1,\n",
    "    processes=1,\n",
    ")\n",
    "# diagnostics_port=('127.0.0.1', 8787),\n",
    "# env_extra=['export PYTHONPATH=\\\"/home/jqs1/projects/matriarch\\\"'])\n",
    "client = Client(cluster)"
   ]
  },
  {
   "cell_type": "code",
   "execution_count": null,
   "metadata": {},
   "outputs": [],
   "source": [
    "cluster"
   ]
  },
  {
   "cell_type": "code",
   "execution_count": null,
   "metadata": {},
   "outputs": [],
   "source": [
    "cluster.scale(0)"
   ]
  },
  {
   "cell_type": "markdown",
   "metadata": {},
   "source": [
    "## Run"
   ]
  },
  {
   "cell_type": "code",
   "execution_count": null,
   "metadata": {},
   "outputs": [],
   "source": [
    "funcs = {\"mean\": np.mean}  # ,\n",
    "#'median': np.median}\n",
    "#'p0.05': partial(np.percentile, q=5),\n",
    "#'p0.20': partial(np.percentile, q=20),\n",
    "#'p0.70': partial(np.percentile, q=70),\n",
    "#'p0.95': partial(np.percentile, q=95)}"
   ]
  },
  {
   "cell_type": "code",
   "execution_count": null,
   "metadata": {},
   "outputs": [],
   "source": [
    "base_filename = \"/n/scratch2/jqs1/fidelity/190313\"\n",
    "fluorescence_filenames = (\n",
    "    glob(os.path.join(base_filename, \"fluorescence/*.nd2\"))\n",
    "    + glob(\"/n/scratch2/jqs1/fidelity/190325/fluorescence/*/*.nd2\")\n",
    "    + glob(\"/n/scratch2/jqs1/fidelity/190326/*.nd2\")\n",
    ")\n",
    "phase_filenames = glob(os.path.join(base_filename, \"phase/*_0001.nd2\")) + glob(\n",
    "    \"/n/scratch2/jqs1/fidelity/190325/phase/*/*_0001.nd2\"\n",
    ")\n",
    "sandwich_filenames = glob(os.path.join(base_filename, \"sandwich/*_0001.nd2\"))"
   ]
  },
  {
   "cell_type": "code",
   "execution_count": null,
   "metadata": {},
   "outputs": [],
   "source": [
    "problem_filenames = [\n",
    "    \"/n/scratch2/jqs1/fidelity/190326/190326_mkate_nochlor_wateragarpad_100ms_50pct_laser.nd2\",\n",
    "    \"/n/scratch2/jqs1/fidelity/190313/fluorescence/190313_mkate_100ms_50pct_laser.nd2\",\n",
    "    \"/n/scratch2/jqs1/fidelity/190313/fluorescence/190313_mkate.nd2\",\n",
    "    \"/n/scratch2/jqs1/fidelity/190325/fluorescence/gfp_wateragarpad_100ms_50pct_laser/190325_gfp_wateragarpad_100ms_50pct_laser.nd2\",\n",
    "    \"/n/scratch2/jqs1/fidelity/190325/fluorescence/mkate_LBagarpad_100ms_100pct_laser/190325_mkate_lbagarpad_100ms_100pct_laser.nd2\",\n",
    "    \"/n/scratch2/jqs1/fidelity/190326/190326_mkate_chlor_wateragarpad_100ms_50pct_laser.nd2\",\n",
    "    \"/n/scratch2/jqs1/fidelity/190326/190326_GFP_chlor_wateragarpad_100ms_50pct_laser.nd2\",\n",
    "    \"/n/scratch2/jqs1/fidelity/190326/190326_mkate_chlor_wateragarpad_100ms_100pct_laser.nd2\",\n",
    "    \"/n/scratch2/jqs1/fidelity/190326/190326_mkate_nochlor_wateragarpad_100ms_100pct_laser.nd2\",\n",
    "    \"/n/scratch2/jqs1/fidelity/190326/190326_mkate_nochlor_wateragarpad_100ms_50pct_laser.nd2\",\n",
    "]"
   ]
  },
  {
   "cell_type": "code",
   "execution_count": null,
   "metadata": {},
   "outputs": [],
   "source": [
    "dark_frames = segmentation.nd2_to_dask(\n",
    "    os.path.join(base_filename, \"calibration/dark_100ms.nd2\"), 0, 0\n",
    ")\n",
    "dark_frame = dark_frames.mean(axis=0)\n",
    "# TODO: hack\n",
    "# dark_frame = dark_frame.compute()\n",
    "# dark_frame = client.persist(dark_frame)\n",
    "# dark_frame = client.scatter(dark_frame, broadcast=True)\n",
    "dark_frame = dark_frame.to_delayed()[0, 0]"
   ]
  },
  {
   "cell_type": "code",
   "execution_count": null,
   "metadata": {},
   "outputs": [],
   "source": [
    "flat_fields = {}\n",
    "for filename in glob(os.path.join(base_filename, \"calibration/*flat*100ms*.nd2\")):\n",
    "    channel = segmentation.get_nd2_reader(filename).metadata[\"channels\"][0]\n",
    "    flat_field = segmentation.nd2_to_dask(filename, 0, 0).mean(axis=0)\n",
    "    # TODO: hack\n",
    "    # flat_field = flat_field.compute()\n",
    "    # flat_field = client.scatter(flat_field, broadcast=True)\n",
    "    # flat_field = client.persist(flat_field)\n",
    "    flat_field = flat_field.to_delayed()[0, 0]\n",
    "    flat_fields[channel] = flat_field"
   ]
  },
  {
   "cell_type": "code",
   "execution_count": null,
   "metadata": {},
   "outputs": [],
   "source": [
    "data_graph = {}\n",
    "for photobleaching_filename in fluorescence_filenames[:]:\n",
    "    data_graph[photobleaching_filename] = segmentation.process_file(\n",
    "        funcs,\n",
    "        photobleaching_filename,\n",
    "        dark_frame=dark_frame,\n",
    "        flat_fields=flat_fields,\n",
    "        time_slice=slice(7),\n",
    "    )\n",
    "\n",
    "for photobleaching_filename in phase_filenames[:]:\n",
    "    segmentation_filename = photobleaching_filename.replace(\"_0001.nd2\", \".nd2\")\n",
    "    data_graph[segmentation_filename] = segmentation.process_file(\n",
    "        funcs,\n",
    "        photobleaching_filename,\n",
    "        segmentation_filename=segmentation_filename,\n",
    "        dark_frame=dark_frame,\n",
    "        flat_fields=flat_fields,\n",
    "        time_slice=slice(7),\n",
    "    )\n",
    "\n",
    "for initial_filename in sandwich_filenames[:]:\n",
    "    segmentation_filename = initial_filename.replace(\"_0001.nd2\", \".nd2\")\n",
    "    photobleaching_filename = initial_filename.replace(\"_0001.nd2\", \"_0002.nd2\")\n",
    "    final_filename = initial_filename.replace(\"_0001.nd2\", \"_0003.nd2\")\n",
    "    data_graph[segmentation_filename] = segmentation.process_file(\n",
    "        funcs,\n",
    "        photobleaching_filename,\n",
    "        segmentation_filename=segmentation_filename,\n",
    "        initial_filename=initial_filename,\n",
    "        final_filename=final_filename,\n",
    "        dark_frame=dark_frame,\n",
    "        flat_fields=flat_fields,\n",
    "        time_slice=slice(7),\n",
    "    )"
   ]
  },
  {
   "cell_type": "code",
   "execution_count": null,
   "metadata": {},
   "outputs": [],
   "source": [
    "# data_futures = matriarch_stub.recursive_map(lambda x: client.compute(x), data_graph, shortcircuit=Delayed)"
   ]
  },
  {
   "cell_type": "code",
   "execution_count": null,
   "metadata": {},
   "outputs": [],
   "source": [
    "# split up computes so we can gather results from multiple workers\n",
    "# (otherwise the single worker assembling the dict will run out of memory)\n",
    "data_futures = {k: client.compute(v) for k, v in data_graph.items()}\n",
    "data_futures[\"_calibration\"] = client.compute(\n",
    "    {\"dark_frame\": dark_frame, \"flat_fields\": flat_fields}\n",
    ")"
   ]
  },
  {
   "cell_type": "markdown",
   "metadata": {},
   "source": [
    "## Save data"
   ]
  },
  {
   "cell_type": "code",
   "execution_count": null,
   "metadata": {},
   "outputs": [],
   "source": [
    "data = client.gather(data_futures)"
   ]
  },
  {
   "cell_type": "markdown",
   "metadata": {},
   "source": [
    "## Test"
   ]
  },
  {
   "cell_type": "code",
   "execution_count": null,
   "metadata": {},
   "outputs": [],
   "source": [
    "{\n",
    "    f: {pos: dd[\"labels\"].max() for pos, dd in d.items()}\n",
    "    for f, d in data.items()\n",
    "    if f != \"_calibration\"\n",
    "}"
   ]
  },
  {
   "cell_type": "code",
   "execution_count": null,
   "metadata": {},
   "outputs": [],
   "source": [
    "plt.imshow(\n",
    "    data[\n",
    "        \"/n/scratch2/jqs1/fidelity/190313/sandwich/190313_SB1_in_GFP_bleaching_in_CFP_100ms_100pct_laser_again_again.nd2\"\n",
    "    ][3][\"labels\"]\n",
    ")"
   ]
  },
  {
   "cell_type": "code",
   "execution_count": null,
   "metadata": {},
   "outputs": [],
   "source": [
    "segmentation.RevImage(\n",
    "    segmentation.permute_labels(\n",
    "        data[\n",
    "            \"/n/scratch2/jqs1/fidelity/190325/fluorescence/gfp_LBagarpad_100ms_50pct_laser/190325_gfp_lbagarpad_100ms_50pct_laser.nd2\"\n",
    "        ][0][\"labels\"]\n",
    "    )\n",
    ")"
   ]
  },
  {
   "cell_type": "code",
   "execution_count": null,
   "metadata": {},
   "outputs": [],
   "source": [
    "frame = segmentation.get_nd2_frame(\n",
    "    \"/n/scratch2/jqs1/fidelity/190325/fluorescence/gfp_wateragarpad_100ms_50pct_laser/190325_gfp_wateragarpad_100ms_50pct_laser.nd2\",\n",
    "    8,\n",
    "    0,\n",
    "    0,\n",
    ")"
   ]
  },
  {
   "cell_type": "code",
   "execution_count": null,
   "metadata": {},
   "outputs": [],
   "source": [
    "frame2 = frame[::2, ::2]"
   ]
  },
  {
   "cell_type": "code",
   "execution_count": null,
   "metadata": {},
   "outputs": [],
   "source": [
    "frame = data[\n",
    "    \"/n/scratch2/jqs1/fidelity/190325/fluorescence/gfp_LBagarpad_100ms_50pct_laser/190325_gfp_lbagarpad_100ms_50pct_laser.nd2\"\n",
    "][0][\"segmentation_frame\"]"
   ]
  },
  {
   "cell_type": "code",
   "execution_count": null,
   "metadata": {},
   "outputs": [],
   "source": [
    "diag = {}\n",
    "labels = segmentation.segment(frame[:600, :600], diagnostics=diag)"
   ]
  },
  {
   "cell_type": "code",
   "execution_count": null,
   "metadata": {},
   "outputs": [],
   "source": [
    "plt.imshow(diag[\"img\"].data)"
   ]
  },
  {
   "cell_type": "code",
   "execution_count": null,
   "metadata": {},
   "outputs": [],
   "source": [
    "plt.imshow(diag[\"img_k1_frangi\"].data)"
   ]
  },
  {
   "cell_type": "code",
   "execution_count": null,
   "metadata": {},
   "outputs": [],
   "source": [
    "plt.imshow(diag[\"img_thresh\"].data)"
   ]
  },
  {
   "cell_type": "code",
   "execution_count": null,
   "metadata": {},
   "outputs": [],
   "source": [
    "plt.imshow(diag[\"img_k1_frangi\"].data[:300, :300])"
   ]
  },
  {
   "cell_type": "code",
   "execution_count": null,
   "metadata": {},
   "outputs": [],
   "source": [
    "plt.imshow(frame2)"
   ]
  },
  {
   "cell_type": "code",
   "execution_count": null,
   "metadata": {},
   "outputs": [],
   "source": [
    "diag = {}\n",
    "labels = segmentation.segment(frame[:300, :300], diagnostics=diag)"
   ]
  },
  {
   "cell_type": "code",
   "execution_count": null,
   "metadata": {},
   "outputs": [],
   "source": [
    "plt.imshow(scipy.ndimage.minimum_filter(frame, size=10, mode=\"nearest\"))"
   ]
  },
  {
   "cell_type": "code",
   "execution_count": null,
   "metadata": {},
   "outputs": [],
   "source": [
    "def normalize_locally(\n",
    "    img,\n",
    "    min_size=100,\n",
    "    max_size=50,\n",
    "    min_blur=50,\n",
    "    max_blur=10,\n",
    "    in_place=False,\n",
    "    mode=\"nearest\",\n",
    "    cval=0,\n",
    "    diagnostics=None,\n",
    "):\n",
    "    img = skimage.img_as_float(img, force_copy=(not in_place))\n",
    "    if diagnostics is not None:\n",
    "        diagnostics[\"img\"] = RevImage(img)  # TODO: img.copy?\n",
    "    img_min = scipy.ndimage.minimum_filter(img, size=min_size, mode=mode, cval=cval)\n",
    "    if diagnostics is not None:\n",
    "        diagnostics[\"img_min\"] = RevImage(img_min)\n",
    "    img_min_blurred = skimage.filters.gaussian(img_min, min_blur)\n",
    "    if diagnostics is not None:\n",
    "        diagnostics[\"img_min_blurred\"] = RevImage(img_min_blurred)\n",
    "    img -= img_min_blurred\n",
    "    if diagnostics is not None:\n",
    "        diagnostics[\"img_min_subtracted\"] = RevImage(img)\n",
    "    img_max = scipy.ndimage.maximum_filter(img, size=max_size, mode=mode, cval=cval)\n",
    "    if diagnostics is not None:\n",
    "        diagnostics[\"img_max\"] = RevImage(img_max)\n",
    "    img_max_blurred = skimage.filters.gaussian(img_max, max_blur)\n",
    "    if diagnostics is not None:\n",
    "        diagnostics[\"img_max_blurred\"] = RevImage(img_max_blurred)\n",
    "    img /= img_max_blurred\n",
    "    if diagnostics is not None:\n",
    "        diagnostics[\"img_normalized\"] = RevImage(img)\n",
    "    return img"
   ]
  },
  {
   "cell_type": "code",
   "execution_count": null,
   "metadata": {},
   "outputs": [],
   "source": [
    "# get rid of small numbers of very bright pixels"
   ]
  },
  {
   "cell_type": "code",
   "execution_count": null,
   "metadata": {},
   "outputs": [],
   "source": [
    "frame_normed = normalize_locally(frame)\n",
    "plt.imshow(frame_normed[:300, :300])"
   ]
  },
  {
   "cell_type": "code",
   "execution_count": null,
   "metadata": {},
   "outputs": [],
   "source": [
    "plt.imshow(frame_normed)"
   ]
  },
  {
   "cell_type": "code",
   "execution_count": null,
   "metadata": {},
   "outputs": [],
   "source": [
    "plt.imshow(\n",
    "    skimage.filters.gaussian(\n",
    "        scipy.ndimage.minimum_filter(frame, size=100, mode=\"nearest\"), 100\n",
    "    )\n",
    ")"
   ]
  },
  {
   "cell_type": "code",
   "execution_count": null,
   "metadata": {},
   "outputs": [],
   "source": [
    "plt.imshow(\n",
    "    skimage.filters.gaussian(\n",
    "        scipy.ndimage.minimum_filter(frame, size=100, mode=\"nearest\"), 10\n",
    "    )\n",
    ")"
   ]
  },
  {
   "cell_type": "code",
   "execution_count": null,
   "metadata": {},
   "outputs": [],
   "source": [
    "plt.imshow(\n",
    "    skimage.filters.gaussian(\n",
    "        scipy.ndimage.minimum_filter(frame, size=100, mode=\"nearest\"), 50\n",
    "    )\n",
    ")"
   ]
  },
  {
   "cell_type": "code",
   "execution_count": null,
   "metadata": {},
   "outputs": [],
   "source": [
    "plt.imshow(scipy.ndimage.minimum_filter(frame, size=100, mode=\"nearest\"))"
   ]
  },
  {
   "cell_type": "code",
   "execution_count": null,
   "metadata": {},
   "outputs": [],
   "source": [
    "plt.imshow(scipy.ndimage.maximum_filter(frame, size=10, mode=\"nearest\"))"
   ]
  },
  {
   "cell_type": "code",
   "execution_count": null,
   "metadata": {},
   "outputs": [],
   "source": [
    "plt.imshow(\n",
    "    skimage.filters.gaussian(\n",
    "        scipy.ndimage.minimum_filter(frame, size=10, mode=\"nearest\"), 10\n",
    "    )\n",
    ")"
   ]
  },
  {
   "cell_type": "code",
   "execution_count": null,
   "metadata": {},
   "outputs": [],
   "source": [
    "plt.imshow(\n",
    "    skimage.filters.gaussian(\n",
    "        scipy.ndimage.minimum_filter(frame, size=10, mode=\"nearest\"), 20\n",
    "    )\n",
    ")"
   ]
  },
  {
   "cell_type": "code",
   "execution_count": null,
   "metadata": {},
   "outputs": [],
   "source": [
    "plt.imshow(\n",
    "    skimage.filters.gaussian(\n",
    "        scipy.ndimage.minimum_filter(frame, size=10, mode=\"nearest\"), 5\n",
    "    )\n",
    ")"
   ]
  },
  {
   "cell_type": "code",
   "execution_count": null,
   "metadata": {},
   "outputs": [],
   "source": [
    "frame - "
   ]
  },
  {
   "cell_type": "code",
   "execution_count": null,
   "metadata": {},
   "outputs": [],
   "source": [
    "plt.imshow(frame[:300, :300])"
   ]
  },
  {
   "cell_type": "code",
   "execution_count": null,
   "metadata": {},
   "outputs": [],
   "source": [
    "frame_normed = normalize_locally(frame)\n",
    "plt.imshow(frame_normed[:300, :300])"
   ]
  },
  {
   "cell_type": "code",
   "execution_count": null,
   "metadata": {},
   "outputs": [],
   "source": [
    "plt.imshow(frame_normed)"
   ]
  },
  {
   "cell_type": "code",
   "execution_count": null,
   "metadata": {},
   "outputs": [],
   "source": [
    "plt.imshow(diag[\"img_normalized\"].data)"
   ]
  },
  {
   "cell_type": "code",
   "execution_count": null,
   "metadata": {},
   "outputs": [],
   "source": [
    "plt.imshow(diag[\"img_normalized\"].data)"
   ]
  },
  {
   "cell_type": "code",
   "execution_count": null,
   "metadata": {},
   "outputs": [],
   "source": [
    "labels.max()"
   ]
  },
  {
   "cell_type": "code",
   "execution_count": null,
   "metadata": {},
   "outputs": [],
   "source": [
    "%%output size=150\n",
    "(\n",
    "    diag[\"img_k1_frangi\"]\n",
    "    + diag[\"img_normalized\"].redim(z=\"z2\")\n",
    "    + diag[\"watershed_labels_permuted\"].redim(z=\"z3\")\n",
    ")"
   ]
  },
  {
   "cell_type": "code",
   "execution_count": null,
   "metadata": {},
   "outputs": [],
   "source": []
  },
  {
   "cell_type": "code",
   "execution_count": null,
   "metadata": {},
   "outputs": [],
   "source": [
    "diag.keys()"
   ]
  },
  {
   "cell_type": "code",
   "execution_count": null,
   "metadata": {},
   "outputs": [],
   "source": [
    "frame = diag[\"img\"].data[:300, :300]"
   ]
  },
  {
   "cell_type": "code",
   "execution_count": null,
   "metadata": {},
   "outputs": [],
   "source": [
    "frame = frame[:300, :300]"
   ]
  },
  {
   "cell_type": "code",
   "execution_count": null,
   "metadata": {},
   "outputs": [],
   "source": [
    "mask = frame > skimage.filters.threshold_otsu(frame)\n",
    "mask_labels = skimage.morphology.label(mask)"
   ]
  },
  {
   "cell_type": "code",
   "execution_count": null,
   "metadata": {},
   "outputs": [],
   "source": [
    "img_normed = matriarch_stub.normalize_componentwise(frame, mask_labels)"
   ]
  },
  {
   "cell_type": "code",
   "execution_count": null,
   "metadata": {},
   "outputs": [],
   "source": [
    "img_normed.min()"
   ]
  },
  {
   "cell_type": "code",
   "execution_count": null,
   "metadata": {},
   "outputs": [],
   "source": [
    "diag[\"img\"].data.min()"
   ]
  },
  {
   "cell_type": "code",
   "execution_count": null,
   "metadata": {},
   "outputs": [],
   "source": [
    "diag[\"img_normalized\"].data.min()"
   ]
  },
  {
   "cell_type": "code",
   "execution_count": null,
   "metadata": {},
   "outputs": [],
   "source": [
    "plt.imshow(diag[\"img_normalized\"].data[:600, :600])"
   ]
  },
  {
   "cell_type": "code",
   "execution_count": null,
   "metadata": {},
   "outputs": [],
   "source": [
    "plt.imshow(diag[\"img_normalized\"].data[:600, :600])"
   ]
  },
  {
   "cell_type": "code",
   "execution_count": null,
   "metadata": {},
   "outputs": [],
   "source": [
    "%%output size=200\n",
    "segmentation.RevImage(\n",
    "    data[\n",
    "        \"/n/scratch2/jqs1/fidelity/190325/fluorescence/gfp_LBagarpad_100ms_50pct_laser/190325_gfp_lbagarpad_100ms_50pct_laser.nd2\"\n",
    "    ][0][\"segmentation_frame\"]\n",
    ")"
   ]
  },
  {
   "cell_type": "markdown",
   "metadata": {},
   "source": [
    "## Old"
   ]
  },
  {
   "cell_type": "code",
   "execution_count": null,
   "metadata": {},
   "outputs": [],
   "source": [
    "data.keys()"
   ]
  },
  {
   "cell_type": "code",
   "execution_count": null,
   "metadata": {},
   "outputs": [],
   "source": [
    "with open(\"190326photobleaching_flatcorr.pickle\", \"wb\") as f:\n",
    "    pickle.dump(data, f)"
   ]
  },
  {
   "cell_type": "code",
   "execution_count": null,
   "metadata": {},
   "outputs": [],
   "source": [
    "# time: 96593s\n",
    "# 65% map_over_labels, 30% get_nd2_frame\n",
    "# time: 109885s (3/22)\n",
    "# 56% map_over_labels 43% get_nd2_frame\n",
    "# time: 83334s (3/26, only fluor)\n",
    "# 88% map_over_labels 9% get_nd2_frame"
   ]
  },
  {
   "cell_type": "code",
   "execution_count": null,
   "metadata": {},
   "outputs": [],
   "source": [
    "%%output size=200\n",
    "hv.HoloMap(\n",
    "    {\n",
    "        filename: RevImage(permute_labels(data[filename][0][\"labels\"]))\n",
    "        for filename in data.keys()\n",
    "    }\n",
    ")"
   ]
  },
  {
   "cell_type": "markdown",
   "metadata": {},
   "source": [
    "# Plotting"
   ]
  },
  {
   "cell_type": "code",
   "execution_count": null,
   "metadata": {},
   "outputs": [],
   "source": [
    "with open(\"190311photobleaching.pickle\", \"rb\") as f:\n",
    "    data = pickle.load(f)"
   ]
  },
  {
   "cell_type": "code",
   "execution_count": null,
   "metadata": {},
   "outputs": [],
   "source": [
    "list(trace_res.keys())"
   ]
  },
  {
   "cell_type": "code",
   "execution_count": null,
   "metadata": {},
   "outputs": [],
   "source": [
    "b = trace_res[\"/n/scratch2/jqs1/fidelity/190311/190311_205a_10ms_laser10pct_001.nd2\"]"
   ]
  },
  {
   "cell_type": "code",
   "execution_count": null,
   "metadata": {},
   "outputs": [],
   "source": [
    "plt.plot(np.log(b[0][\"mean\"][10]))"
   ]
  },
  {
   "cell_type": "code",
   "execution_count": null,
   "metadata": {},
   "outputs": [],
   "source": [
    "b[1].hist(\"area\", bins=100)"
   ]
  },
  {
   "cell_type": "code",
   "execution_count": null,
   "metadata": {},
   "outputs": [],
   "source": [
    "traces = z[\"/home/jqs1/paulsson/fluorescence/190313_GFP_100ms_50pct_laser.nd2\"][0][\n",
    "    \"traces\"\n",
    "][\"mean\"]"
   ]
  },
  {
   "cell_type": "code",
   "execution_count": null,
   "metadata": {},
   "outputs": [],
   "source": [
    "traces = b[0][\"mean\"]"
   ]
  },
  {
   "cell_type": "code",
   "execution_count": null,
   "metadata": {},
   "outputs": [],
   "source": [
    "idxs = np.random.permutation(traces.shape[0])"
   ]
  },
  {
   "cell_type": "code",
   "execution_count": null,
   "metadata": {},
   "outputs": [],
   "source": [
    "%%output size=250\n",
    "curves = [\n",
    "    {\n",
    "        \"x\": np.arange(traces.shape[1]),\n",
    "        \"y\": np.log(traces[i] / traces[i, 0]),\n",
    "        \"i\": idxs[i],\n",
    "    }\n",
    "    for i in range(traces.shape[0] // 10)\n",
    "]\n",
    "hv.Contours(curves, vdims=[\"i\"]).options(color_index=\"i\", cmap=\"Category20\")"
   ]
  },
  {
   "cell_type": "code",
   "execution_count": null,
   "metadata": {},
   "outputs": [],
   "source": [
    "%%output size=250\n",
    "hv.Path((np.arange(traces.shape[1]), traces.T))"
   ]
  },
  {
   "cell_type": "code",
   "execution_count": null,
   "metadata": {},
   "outputs": [],
   "source": [
    "%%output size=250\n",
    "hv.Overlay.from_values([hv.Curve(t) for t in traces])"
   ]
  },
  {
   "cell_type": "code",
   "execution_count": null,
   "metadata": {},
   "outputs": [],
   "source": [
    "%%output size=250\n",
    "hv.Image(img) + hv.Image(segment(img))"
   ]
  },
  {
   "cell_type": "code",
   "execution_count": null,
   "metadata": {},
   "outputs": [],
   "source": []
  }
 ],
 "metadata": {
  "kernelspec": {
   "display_name": "Python 3",
   "language": "python",
   "name": "python3"
  },
  "language_info": {
   "codemirror_mode": {
    "name": "ipython",
    "version": 3
   },
   "file_extension": ".py",
   "mimetype": "text/x-python",
   "name": "python",
   "nbconvert_exporter": "python",
   "pygments_lexer": "ipython3",
   "version": "3.7.0"
  }
 },
 "nbformat": 4,
 "nbformat_minor": 2
}
