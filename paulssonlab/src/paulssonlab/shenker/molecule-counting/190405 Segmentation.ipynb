{
 "cells": [
  {
   "cell_type": "code",
   "execution_count": null,
   "metadata": {},
   "outputs": [],
   "source": [
    "import numpy as np\n",
    "import pandas as pd\n",
    "import nd2reader\n",
    "import matplotlib.pyplot as plt\n",
    "import holoviews as hv\n",
    "from holoviews.operation.datashader import regrid\n",
    "import skimage.filters\n",
    "import skimage.feature\n",
    "import scipy.ndimage\n",
    "import peakutils\n",
    "from tqdm import tnrange, tqdm_notebook\n",
    "import dask\n",
    "import dask.array as da\n",
    "import distributed\n",
    "from distributed import Client, LocalCluster, progress\n",
    "from dask_jobqueue import SLURMCluster\n",
    "from cytoolz import partial, compose\n",
    "from itertools import repeat\n",
    "from glob import glob\n",
    "import cachetools\n",
    "import numpy_indexed\n",
    "import pickle\n",
    "import pyarrow as pa\n",
    "import warnings\n",
    "import os\n",
    "from numbers import Integral\n",
    "from dask.delayed import Delayed"
   ]
  },
  {
   "cell_type": "code",
   "execution_count": null,
   "metadata": {},
   "outputs": [],
   "source": [
    "%load_ext autoreload\n",
    "%autoreload 2"
   ]
  },
  {
   "cell_type": "code",
   "execution_count": null,
   "metadata": {},
   "outputs": [],
   "source": [
    "# from segmentation import *\n",
    "# from util import *\n",
    "# from matriarch_stub import *\n",
    "import segmentation\n",
    "import matriarch_stub"
   ]
  },
  {
   "cell_type": "code",
   "execution_count": null,
   "metadata": {},
   "outputs": [],
   "source": [
    "plt.rcParams[\"figure.figsize\"] = (8, 8)\n",
    "hv.extension(\"bokeh\")"
   ]
  },
  {
   "cell_type": "markdown",
   "metadata": {},
   "source": [
    "# Run"
   ]
  },
  {
   "cell_type": "code",
   "execution_count": null,
   "metadata": {},
   "outputs": [],
   "source": [
    "dask.config.config[\"distributed\"][\"scheduler\"][\"allowed-failures\"] = 20\n",
    "# dask.config.config['distributed']['worker']['memory'] = {'target': 0.4,\n",
    "#                                                         'spill': 0.5,\n",
    "#                                                         'pause': 0.9,\n",
    "#                                                         'terminate': 0.95}"
   ]
  },
  {
   "cell_type": "code",
   "execution_count": null,
   "metadata": {},
   "outputs": [],
   "source": [
    "cluster = SLURMCluster(\n",
    "    queue=\"short\",\n",
    "    walltime=\"03:00:00\",\n",
    "    memory=\"8GB\",\n",
    "    local_directory=\"/tmp\",\n",
    "    log_directory=\"/home/jqs1/projects/molecule-counting/log\",\n",
    "    cores=1,\n",
    "    processes=1,\n",
    ")\n",
    "# diagnostics_port=('127.0.0.1', 8787),\n",
    "# env_extra=['export PYTHONPATH=\\\"/home/jqs1/projects/matriarch\\\"'])\n",
    "client = Client(cluster)"
   ]
  },
  {
   "cell_type": "code",
   "execution_count": null,
   "metadata": {},
   "outputs": [],
   "source": [
    "cluster"
   ]
  },
  {
   "cell_type": "code",
   "execution_count": null,
   "metadata": {},
   "outputs": [],
   "source": [
    "cluster.scale(0)"
   ]
  },
  {
   "cell_type": "markdown",
   "metadata": {},
   "source": [
    "## Run"
   ]
  },
  {
   "cell_type": "code",
   "execution_count": null,
   "metadata": {},
   "outputs": [],
   "source": [
    "funcs = {\"mean\": np.mean}  # ,\n",
    "#'median': np.median}\n",
    "#'p0.05': partial(np.percentile, q=5),\n",
    "#'p0.20': partial(np.percentile, q=20),\n",
    "#'p0.70': partial(np.percentile, q=70),\n",
    "#'p0.95': partial(np.percentile, q=95)}"
   ]
  },
  {
   "cell_type": "code",
   "execution_count": null,
   "metadata": {},
   "outputs": [],
   "source": [
    "base13_filename = \"/n/scratch2/jqs1/fidelity/190313\"\n",
    "fluorescence_filenames = (\n",
    "    glob(os.path.join(base13_filename, \"fluorescence/*.nd2\"))\n",
    "    + glob(\"/n/scratch2/jqs1/fidelity/190325/fluorescence/*/*.nd2\")\n",
    "    + glob(\"/n/scratch2/jqs1/fidelity/190326/*.nd2\")\n",
    ")\n",
    "phase_filenames = glob(os.path.join(base13_filename, \"phase/*_0001.nd2\")) + glob(\n",
    "    \"/n/scratch2/jqs1/fidelity/190325/phase/*/*_0001.nd2\"\n",
    ")\n",
    "sandwich_filenames = glob(os.path.join(base13_filename, \"sandwich/*_0001.nd2\"))"
   ]
  },
  {
   "cell_type": "code",
   "execution_count": null,
   "metadata": {},
   "outputs": [],
   "source": [
    "dark_frames = segmentation.nd2_to_dask(\n",
    "    os.path.join(base13_filename, \"calibration/dark_100ms.nd2\"), 0, 0\n",
    ")\n",
    "dark_frame = dark_frames.mean(axis=0)\n",
    "# TODO: hack\n",
    "# dark_frame = dark_frame.compute()\n",
    "# dark_frame = client.persist(dark_frame)\n",
    "# dark_frame = client.scatter(dark_frame, broadcast=True)\n",
    "dark_frame = dark_frame.to_delayed()[0, 0]"
   ]
  },
  {
   "cell_type": "code",
   "execution_count": null,
   "metadata": {},
   "outputs": [],
   "source": [
    "flat_fields = {}\n",
    "for filename in glob(os.path.join(base13_filename, \"calibration/*flat*100ms*.nd2\")):\n",
    "    channel = segmentation.get_nd2_reader(filename).metadata[\"channels\"][0]\n",
    "    flat_field = segmentation.nd2_to_dask(filename, 0, 0).mean(axis=0)\n",
    "    # TODO: hack\n",
    "    # flat_field = flat_field.compute()\n",
    "    # flat_field = client.scatter(flat_field, broadcast=True)\n",
    "    # flat_field = client.persist(flat_field)\n",
    "    flat_field = flat_field.to_delayed()[0, 0]\n",
    "    flat_fields[channel] = flat_field"
   ]
  },
  {
   "cell_type": "code",
   "execution_count": null,
   "metadata": {},
   "outputs": [],
   "source": [
    "# dark_frame = None\n",
    "# flat_fields = {}"
   ]
  },
  {
   "cell_type": "code",
   "execution_count": null,
   "metadata": {},
   "outputs": [],
   "source": [
    "data_graph = {}\n",
    "for photobleaching_filename in fluorescence_filenames[:]:\n",
    "    data_graph[photobleaching_filename] = segmentation.process_file(\n",
    "        funcs, photobleaching_filename, dark_frame=dark_frame, flat_fields=flat_fields\n",
    "    )\n",
    "\n",
    "for photobleaching_filename in phase_filenames[:]:\n",
    "    segmentation_filename = photobleaching_filename.replace(\"_0001.nd2\", \".nd2\")\n",
    "    data_graph[segmentation_filename] = segmentation.process_file(\n",
    "        funcs,\n",
    "        photobleaching_filename,\n",
    "        segmentation_filename=segmentation_filename,\n",
    "        dark_frame=dark_frame,\n",
    "        flat_fields=flat_fields,\n",
    "    )\n",
    "\n",
    "for initial_filename in sandwich_filenames[:]:\n",
    "    segmentation_filename = initial_filename.replace(\"_0001.nd2\", \".nd2\")\n",
    "    photobleaching_filename = initial_filename.replace(\"_0001.nd2\", \"_0002.nd2\")\n",
    "    final_filename = initial_filename.replace(\"_0001.nd2\", \"_0003.nd2\")\n",
    "    data_graph[segmentation_filename] = segmentation.process_file(\n",
    "        funcs,\n",
    "        photobleaching_filename,\n",
    "        segmentation_filename=segmentation_filename,\n",
    "        initial_filename=initial_filename,\n",
    "        final_filename=final_filename,\n",
    "        dark_frame=dark_frame,\n",
    "        flat_fields=flat_fields,\n",
    "    )"
   ]
  },
  {
   "cell_type": "code",
   "execution_count": null,
   "metadata": {},
   "outputs": [],
   "source": [
    "# split up computes so we can gather results from multiple workers\n",
    "# (otherwise the single worker assembling the dict will run out of memory)\n",
    "# TODO: use recursive_map(..., levels=?)\n",
    "data_futures = {\n",
    "    k: {k2: client.compute(v2) for k2, v2 in v.items()} for k, v in data_graph.items()\n",
    "}\n",
    "data_futures[\"_calibration\"] = client.compute(\n",
    "    {\"dark_frame\": dark_frame, \"flat_fields\": flat_fields}\n",
    ")"
   ]
  },
  {
   "cell_type": "markdown",
   "metadata": {},
   "source": [
    "## Save data"
   ]
  },
  {
   "cell_type": "code",
   "execution_count": null,
   "metadata": {},
   "outputs": [],
   "source": [
    "data = client.gather(data_futures)"
   ]
  },
  {
   "cell_type": "code",
   "execution_count": null,
   "metadata": {},
   "outputs": [],
   "source": [
    "filename = (\n",
    "    \"/n/groups/paulsson/jqs1/molecule-counting/190405photobleaching_flatcorr.pickle\"\n",
    ")\n",
    "with open(filename, \"wb\") as f:\n",
    "    pickle.dump(data, f)"
   ]
  },
  {
   "cell_type": "code",
   "execution_count": null,
   "metadata": {},
   "outputs": [],
   "source": [
    "{\n",
    "    k: {pos: d[\"labels\"].max() for pos, d in v.items()}\n",
    "    for k, v in data.items()\n",
    "    if k[0] != \"_\"\n",
    "}"
   ]
  }
 ],
 "metadata": {
  "kernelspec": {
   "display_name": "Python 3",
   "language": "python",
   "name": "python3"
  },
  "language_info": {
   "codemirror_mode": {
    "name": "ipython",
    "version": 3
   },
   "file_extension": ".py",
   "mimetype": "text/x-python",
   "name": "python",
   "nbconvert_exporter": "python",
   "pygments_lexer": "ipython3",
   "version": "3.7.0"
  }
 },
 "nbformat": 4,
 "nbformat_minor": 2
}
