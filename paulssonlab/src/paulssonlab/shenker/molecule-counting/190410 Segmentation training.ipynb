{
 "cells": [
  {
   "cell_type": "code",
   "execution_count": null,
   "metadata": {},
   "outputs": [],
   "source": [
    "import numpy as np\n",
    "import nd2reader\n",
    "import dask\n",
    "import dask.array as da\n",
    "from dask import delayed\n",
    "from distributed import Client, LocalCluster, progress\n",
    "from dask_jobqueue import SLURMCluster\n",
    "import zarr\n",
    "import glob\n",
    "import os\n",
    "from cytoolz import compose"
   ]
  },
  {
   "cell_type": "code",
   "execution_count": null,
   "metadata": {},
   "outputs": [],
   "source": [
    "import segmentation\n",
    "import matriarch_stub\n",
    "from matriarch_stub import recursive_sequence_map"
   ]
  },
  {
   "cell_type": "code",
   "execution_count": null,
   "metadata": {},
   "outputs": [],
   "source": [
    "def nd2_to_dask(filename, channel, rechunk=True):\n",
    "    nd2 = segmentation.get_nd2_reader(filename)\n",
    "    frame0 = segmentation.get_nd2_frame(filename, 0, channel, 0)\n",
    "    _get_nd2_frame = delayed(segmentation.get_nd2_frame, pure=True)\n",
    "    ary = [\n",
    "        [\n",
    "            da.from_delayed(\n",
    "                _get_nd2_frame(filename, position, channel, t),\n",
    "                dtype=frame0.dtype,\n",
    "                shape=frame0.shape,\n",
    "            )\n",
    "            for t in range(nd2.sizes[\"t\"])\n",
    "        ]\n",
    "        for position in range(nd2.sizes[\"v\"])\n",
    "    ]\n",
    "    ary = recursive_sequence_map(da.stack, ary, max_level=1)\n",
    "    if rechunk:\n",
    "        ary = ary.rechunk({0: \"auto\", 1: \"auto\"})\n",
    "    return ary"
   ]
  },
  {
   "cell_type": "markdown",
   "metadata": {},
   "source": [
    "# Cluster"
   ]
  },
  {
   "cell_type": "code",
   "execution_count": null,
   "metadata": {},
   "outputs": [],
   "source": [
    "dask.config.config[\"distributed\"][\"scheduler\"][\"allowed-failures\"] = 20\n",
    "# dask.config.config['distributed']['worker']['memory'] = {'target': 0.4,\n",
    "#                                                         'spill': 0.5,\n",
    "#                                                         'pause': 0.9,\n",
    "#                                                         'terminate': 0.95}"
   ]
  },
  {
   "cell_type": "code",
   "execution_count": null,
   "metadata": {},
   "outputs": [],
   "source": [
    "cluster = SLURMCluster(\n",
    "    queue=\"short\",\n",
    "    walltime=\"03:00:00\",\n",
    "    memory=\"4GB\",\n",
    "    # job_extra=['--exclude=compute-e-16-181,compute-e-16-186'],\n",
    "    local_directory=\"/tmp\",\n",
    "    log_directory=\"/home/jqs1/projects/molecule-counting/log\",\n",
    "    cores=1,\n",
    "    processes=1,\n",
    ")\n",
    "# diagnostics_port=('127.0.0.1', 8787),\n",
    "# env_extra=['export PYTHONPATH=\\\"/home/jqs1/projects/matriarch\\\"'])\n",
    "client = Client(cluster)"
   ]
  },
  {
   "cell_type": "code",
   "execution_count": null,
   "metadata": {},
   "outputs": [],
   "source": [
    "cluster"
   ]
  },
  {
   "cell_type": "code",
   "execution_count": null,
   "metadata": {},
   "outputs": [],
   "source": [
    "cluster.scale(120)"
   ]
  },
  {
   "cell_type": "markdown",
   "metadata": {},
   "source": [
    "# Run"
   ]
  },
  {
   "cell_type": "code",
   "execution_count": null,
   "metadata": {},
   "outputs": [],
   "source": [
    "# TODO: dask workers restarting due to memory (minimal example for github issue)"
   ]
  },
  {
   "cell_type": "code",
   "execution_count": null,
   "metadata": {},
   "outputs": [],
   "source": [
    "segment = segmentation.segment\n",
    "segment_phase = compose(segmentation.segment, segmentation.invert)"
   ]
  },
  {
   "cell_type": "code",
   "execution_count": null,
   "metadata": {},
   "outputs": [],
   "source": [
    "filenames = glob.glob(\"/n/scratch2/jqs1/fidelity/190401/*.nd2\")"
   ]
  },
  {
   "cell_type": "code",
   "execution_count": null,
   "metadata": {},
   "outputs": [],
   "source": [
    "tasks = []\n",
    "for filename in filenames[:]:\n",
    "    channels = segmentation.get_nd2_reader(filename).metadata[\"channels\"]\n",
    "    # store = zarr.LMDBStore(store_filename)\n",
    "    # root = zarr.group(store=store, overwrite=False)\n",
    "    for channel_idx, channel in enumerate(channels):\n",
    "        frames = nd2_to_dask(filename, channel_idx, rechunk=False)\n",
    "        if channel == \"BF\":\n",
    "            _segment_func = segment_phase\n",
    "        else:\n",
    "            _segment_func = segment\n",
    "        segmented_frames = da.apply_gufunc(\n",
    "            _segment_func,\n",
    "            \"(i,j)->(i,j)\",\n",
    "            frames,\n",
    "            output_dtypes=np.uint16,\n",
    "            vectorize=True,\n",
    "        )\n",
    "        # root.require_group(channel)\n",
    "        tasks.append(\n",
    "            [\n",
    "                ary.to_zarr(\n",
    "                    \"/n/groups/paulsson/jqs1/molecule-counting/190410segmentation/{}-{}-{}.zarr\".format(\n",
    "                        os.path.basename(filename).replace(\".nd2\", \"\"), channel, kind\n",
    "                    ),\n",
    "                    compute=False,\n",
    "                    overwrite=True,\n",
    "                    compressor=matriarch_stub.DEFAULT_COMPRESSOR,\n",
    "                    order=matriarch_stub.DEFAULT_ORDER,\n",
    "                )\n",
    "                for kind, ary in {\"raw\": frames, \"segmented\": segmented_frames}.items()\n",
    "            ]\n",
    "        )"
   ]
  },
  {
   "cell_type": "code",
   "execution_count": null,
   "metadata": {},
   "outputs": [],
   "source": [
    "futures = [client.compute(t) for t in tasks]"
   ]
  },
  {
   "cell_type": "code",
   "execution_count": null,
   "metadata": {},
   "outputs": [],
   "source": [
    "del futures"
   ]
  },
  {
   "cell_type": "code",
   "execution_count": null,
   "metadata": {},
   "outputs": [],
   "source": [
    "client.gather(futures)"
   ]
  },
  {
   "cell_type": "code",
   "execution_count": null,
   "metadata": {},
   "outputs": [],
   "source": [
    "client.restart()"
   ]
  },
  {
   "cell_type": "code",
   "execution_count": null,
   "metadata": {},
   "outputs": [],
   "source": []
  }
 ],
 "metadata": {
  "kernelspec": {
   "display_name": "Python 3",
   "language": "python",
   "name": "python3"
  },
  "language_info": {
   "codemirror_mode": {
    "name": "ipython",
    "version": 3
   },
   "file_extension": ".py",
   "mimetype": "text/x-python",
   "name": "python",
   "nbconvert_exporter": "python",
   "pygments_lexer": "ipython3",
   "version": "3.7.0"
  }
 },
 "nbformat": 4,
 "nbformat_minor": 2
}
