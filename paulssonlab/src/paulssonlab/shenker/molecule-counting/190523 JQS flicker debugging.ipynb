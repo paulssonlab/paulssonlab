{
 "cells": [
  {
   "cell_type": "code",
   "execution_count": null,
   "metadata": {},
   "outputs": [],
   "source": [
    "import numpy as np\n",
    "import pandas as pd\n",
    "import nd2reader\n",
    "import matplotlib.pyplot as plt\n",
    "import holoviews as hv\n",
    "from holoviews.operation.datashader import regrid\n",
    "import skimage.filters\n",
    "import skimage.feature\n",
    "import scipy.ndimage\n",
    "import peakutils\n",
    "from tqdm import tnrange, tqdm_notebook\n",
    "import dask\n",
    "import dask.array as da\n",
    "import distributed\n",
    "from distributed import Client, LocalCluster, progress\n",
    "from dask_jobqueue import SLURMCluster\n",
    "from cytoolz import partial, compose\n",
    "from itertools import repeat\n",
    "from glob import glob\n",
    "import cachetools\n",
    "import numpy_indexed\n",
    "import pickle\n",
    "import pyarrow as pa\n",
    "import warnings\n",
    "import os\n",
    "from numbers import Integral\n",
    "from dask.delayed import Delayed"
   ]
  },
  {
   "cell_type": "code",
   "execution_count": null,
   "metadata": {},
   "outputs": [],
   "source": [
    "%load_ext autoreload\n",
    "%autoreload 2"
   ]
  },
  {
   "cell_type": "code",
   "execution_count": null,
   "metadata": {},
   "outputs": [],
   "source": [
    "# from segmentation import *\n",
    "# from util import *\n",
    "# from matriarch_stub import *\n",
    "import segmentation\n",
    "import matriarch_stub"
   ]
  },
  {
   "cell_type": "code",
   "execution_count": null,
   "metadata": {},
   "outputs": [],
   "source": [
    "plt.rcParams[\"figure.figsize\"] = (8, 8)\n",
    "hv.extension(\"bokeh\")"
   ]
  },
  {
   "cell_type": "markdown",
   "metadata": {},
   "source": [
    "# Load data"
   ]
  },
  {
   "cell_type": "code",
   "execution_count": null,
   "metadata": {},
   "outputs": [],
   "source": [
    "# filename = '/n/groups/paulsson/jqs1/molecule-counting/190522photobleaching_noflatcorr_test1.pickle'\n",
    "filename = (\n",
    "    \"/n/groups/paulsson/jqs1/molecule-counting/190521photobleaching_noflatcorr.pickle\"\n",
    ")"
   ]
  },
  {
   "cell_type": "code",
   "execution_count": null,
   "metadata": {},
   "outputs": [],
   "source": [
    "data = pickle.load(open(filename, \"rb\"))"
   ]
  },
  {
   "cell_type": "markdown",
   "metadata": {},
   "source": [
    "# Debug"
   ]
  },
  {
   "cell_type": "code",
   "execution_count": null,
   "metadata": {},
   "outputs": [],
   "source": [
    "nd2_filename = \"/n/scratch2/jqs1/190508/GFP_100ms_20pct.nd2\"\n",
    "channel = \"FITC\""
   ]
  },
  {
   "cell_type": "code",
   "execution_count": null,
   "metadata": {},
   "outputs": [],
   "source": [
    "idx = 920\n",
    "pos = 0\n",
    "regionprops = data[nd2_filename][pos][\"regionprops\"]\n",
    "seg_frame = np.asarray(data[nd2_filename][pos][\"segmentation_frame\"])\n",
    "label_frame = np.asarray(data[nd2_filename][pos][\"labels\"])\n",
    "y, x = regionprops.iloc[idx, :][[\"centroid_x\", \"centroid_y\"]]\n",
    "s = 10\n",
    "x_lim = y_lim = 2048\n",
    "x, y = int(x), int(y)\n",
    "x_min = max(x - s, 0)\n",
    "x_max = min(x + s, x_lim)\n",
    "y_min = max(y - s, 0)\n",
    "y_max = min(y + s, y_lim)\n",
    "t_max = data[nd2_filename][pos][\"traces\"][\"mean\"].shape[1]\n",
    "seg = seg_frame[y_min:y_max, x_min:x_max]\n",
    "labels = label_frame[y_min:y_max, x_min:x_max]"
   ]
  },
  {
   "cell_type": "code",
   "execution_count": null,
   "metadata": {},
   "outputs": [],
   "source": [
    "%%output max_frames=2000\n",
    "hv.HoloMap(\n",
    "    {\n",
    "        t: hv.Image(\n",
    "            segmentation.get_nd2_frame(nd2_filename, 0, channel, t)[\n",
    "                y_min:y_max, x_min:x_max\n",
    "            ]\n",
    "        )\n",
    "        for t in range(0, t_max // 10, 1)\n",
    "    }\n",
    ")"
   ]
  },
  {
   "cell_type": "code",
   "execution_count": null,
   "metadata": {},
   "outputs": [],
   "source": [
    "plt.plot(np.asarray(data[nd2_filename][0][\"traces\"][\"mean\"]).T[:, 920])"
   ]
  },
  {
   "cell_type": "code",
   "execution_count": null,
   "metadata": {},
   "outputs": [],
   "source": [
    "centroid_trace = np.array(\n",
    "    [\n",
    "        segmentation.get_nd2_frame(nd2_filename, 0, channel, t)[y, x]\n",
    "        for t in range(0, t_max, 1)\n",
    "    ]\n",
    ")\n",
    "centroid_trace2 = np.array(\n",
    "    [\n",
    "        segmentation.get_nd2_frame(nd2_filename, 0, channel, t)[y + 1, x + 1]\n",
    "        for t in range(0, t_max, 1)\n",
    "    ]\n",
    ")\n",
    "bg_trace = np.array(\n",
    "    [\n",
    "        segmentation.get_nd2_frame(nd2_filename, 0, channel, t)[y + 10, x + 10]\n",
    "        for t in range(0, t_max, 1)\n",
    "    ]\n",
    ")"
   ]
  },
  {
   "cell_type": "code",
   "execution_count": null,
   "metadata": {},
   "outputs": [],
   "source": [
    "plt.plot(centroid_trace)\n",
    "plt.plot(centroid_trace2)\n",
    "plt.plot(bg_trace)\n",
    "plt.plot(np.asarray(data[nd2_filename][0][\"traces\"][\"mean\"]).T[:, 1])\n",
    "plt.plot(np.asarray(data[nd2_filename][0][\"traces\"][\"mean\"]).T[:, 500])"
   ]
  },
  {
   "cell_type": "code",
   "execution_count": null,
   "metadata": {},
   "outputs": [],
   "source": [
    "plt.plot(\n",
    "    np.asarray(\n",
    "        data[\"/n/scratch2/jqs1/190507/mkate_100ms_50pct.nd2\"][0][\"traces\"][\"mean\"]\n",
    "    ).T[:, :5]\n",
    ")"
   ]
  },
  {
   "cell_type": "code",
   "execution_count": null,
   "metadata": {},
   "outputs": [],
   "source": [
    "plt.plot(\n",
    "    np.asarray(\n",
    "        data[\"/n/scratch2/jqs1/190507/mkate_100ms_50pct.nd2\"][0][\"traces\"][\"median\"]\n",
    "    ).T[:, :10]\n",
    ")"
   ]
  },
  {
   "cell_type": "code",
   "execution_count": null,
   "metadata": {},
   "outputs": [],
   "source": [
    "%output size=200\n",
    "hv.Image(\n",
    "    np.asarray(\n",
    "        data[\"/n/scratch2/jqs1/190411/Noah_Runs/GFP_100ms_100pct_0001.nd2\"][0][\n",
    "            \"segmentation_frame\"\n",
    "        ]\n",
    "    )\n",
    ")"
   ]
  },
  {
   "cell_type": "code",
   "execution_count": null,
   "metadata": {},
   "outputs": [],
   "source": [
    "nd2 = segmentation.get_nd2_reader(\n",
    "    \"/n/scratch2/jqs1/190411/Noah_Runs/GFP_100ms_100pct_0001.nd2\"\n",
    ")"
   ]
  },
  {
   "cell_type": "code",
   "execution_count": null,
   "metadata": {},
   "outputs": [],
   "source": [
    "%output size=200\n",
    "hv.HoloMap({t: hv.Image(nd2.get_frame_2D(v=0, t=t)) for t in range(5)})"
   ]
  },
  {
   "cell_type": "code",
   "execution_count": null,
   "metadata": {},
   "outputs": [],
   "source": [
    "data_graph[\"/n/scratch2/jqs1/190411/Noah_Runs/GFP_100ms_100pct_0001.nd2\"][0].keys()"
   ]
  },
  {
   "cell_type": "code",
   "execution_count": null,
   "metadata": {},
   "outputs": [],
   "source": []
  }
 ],
 "metadata": {
  "kernelspec": {
   "display_name": "Python 3",
   "language": "python",
   "name": "python3"
  },
  "language_info": {
   "codemirror_mode": {
    "name": "ipython",
    "version": 3
   },
   "file_extension": ".py",
   "mimetype": "text/x-python",
   "name": "python",
   "nbconvert_exporter": "python",
   "pygments_lexer": "ipython3",
   "version": "3.7.3"
  }
 },
 "nbformat": 4,
 "nbformat_minor": 2
}
