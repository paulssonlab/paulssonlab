{
 "cells": [
  {
   "cell_type": "code",
   "execution_count": null,
   "metadata": {},
   "outputs": [],
   "source": [
    "import numpy as np\n",
    "import pandas as pd\n",
    "import nd2reader\n",
    "import matplotlib.pyplot as plt\n",
    "import holoviews as hv\n",
    "from holoviews.operation.datashader import regrid\n",
    "import skimage.filters\n",
    "import skimage.feature\n",
    "import scipy.ndimage\n",
    "import peakutils\n",
    "from tqdm import tnrange, tqdm_notebook\n",
    "import dask\n",
    "import dask.array as da\n",
    "import distributed\n",
    "from distributed import Client, LocalCluster, progress\n",
    "from dask_jobqueue import SLURMCluster\n",
    "from cytoolz import partial, compose\n",
    "from itertools import repeat\n",
    "from glob import glob\n",
    "import cachetools\n",
    "import numpy_indexed\n",
    "import pickle\n",
    "import pyarrow as pa\n",
    "import warnings\n",
    "import os\n",
    "from numbers import Integral\n",
    "from dask.delayed import Delayed"
   ]
  },
  {
   "cell_type": "code",
   "execution_count": null,
   "metadata": {},
   "outputs": [],
   "source": [
    "%load_ext autoreload\n",
    "%autoreload 2"
   ]
  },
  {
   "cell_type": "code",
   "execution_count": null,
   "metadata": {},
   "outputs": [],
   "source": [
    "# from segmentation import *\n",
    "# from util import *\n",
    "# from matriarch_stub import *\n",
    "import segmentation\n",
    "import matriarch_stub"
   ]
  },
  {
   "cell_type": "code",
   "execution_count": null,
   "metadata": {},
   "outputs": [],
   "source": [
    "plt.rcParams[\"figure.figsize\"] = (8, 8)\n",
    "hv.extension(\"bokeh\")"
   ]
  },
  {
   "cell_type": "markdown",
   "metadata": {},
   "source": [
    "# Functions"
   ]
  },
  {
   "cell_type": "code",
   "execution_count": null,
   "metadata": {},
   "outputs": [],
   "source": [
    "def func1(x, a, b, c):\n",
    "    return a * np.exp(-b * x) + c\n",
    "\n",
    "\n",
    "def exp_fit(trace):\n",
    "    y = trace / trace[0]\n",
    "    ts = np.arange(y.shape[0])\n",
    "    mask = np.isfinite(y)\n",
    "    y_finite = y[mask]\n",
    "    y_min = y_finite.min()\n",
    "    p, _ = scipy.optimize.curve_fit(\n",
    "        func1, ts[mask], y_finite, p0=[y_finite[0] - y_min, 0.001, y_min]\n",
    "    )\n",
    "    fy = func1(ts, *p)\n",
    "    return fy"
   ]
  },
  {
   "cell_type": "markdown",
   "metadata": {},
   "source": [
    "# Load data"
   ]
  },
  {
   "cell_type": "code",
   "execution_count": null,
   "metadata": {},
   "outputs": [],
   "source": [
    "# filename = '/n/groups/paulsson/jqs1/molecule-counting/190522photobleaching_noflatcorr_test1.pickle'\n",
    "filename = (\n",
    "    \"/n/groups/paulsson/jqs1/molecule-counting/190521photobleaching_noflatcorr.pickle\"\n",
    ")"
   ]
  },
  {
   "cell_type": "code",
   "execution_count": null,
   "metadata": {},
   "outputs": [],
   "source": [
    "data = pickle.load(open(filename, \"rb\"))"
   ]
  },
  {
   "cell_type": "markdown",
   "metadata": {},
   "source": [
    "# Debug"
   ]
  },
  {
   "cell_type": "code",
   "execution_count": null,
   "metadata": {},
   "outputs": [],
   "source": [
    "nd2_filename = \"/n/scratch2/jqs1/190508/GFP_100ms_100pct.nd2\"\n",
    "channel = \"FITC\"\n",
    "# nd2_filename = '/n/scratch2/jqs1/190507/mkate_100ms_100pct.nd2'\n",
    "# channel = 'mCherry'\n",
    "idx = 91\n",
    "pos = 1\n",
    "d = np.asarray(data[nd2_filename][pos][\"traces\"][\"mean\"])\n",
    "regionprops = data[nd2_filename][pos][\"regionprops\"]\n",
    "seg_frame = np.asarray(data[nd2_filename][pos][\"segmentation_frame\"])\n",
    "label_frame = np.asarray(data[nd2_filename][pos][\"labels\"])\n",
    "y, x = regionprops.loc[idx, :][[\"centroid_x\", \"centroid_y\"]]\n",
    "s = 10\n",
    "x_lim = y_lim = 2048\n",
    "x, y = int(x), int(y)\n",
    "x_min = max(x - s, 0)\n",
    "x_max = min(x + s, x_lim)\n",
    "y_min = max(y - s, 0)\n",
    "y_max = min(y + s, y_lim)\n",
    "t_max = d.shape[1]\n",
    "seg = seg_frame[y_min:y_max, x_min:x_max]\n",
    "labels = label_frame[y_min:y_max, x_min:x_max]"
   ]
  },
  {
   "cell_type": "code",
   "execution_count": null,
   "metadata": {},
   "outputs": [],
   "source": [
    "plt.figure(figsize=(20, 20))\n",
    "plt.imshow(seg_frame)"
   ]
  },
  {
   "cell_type": "markdown",
   "metadata": {},
   "source": [
    "## Browse traces"
   ]
  },
  {
   "cell_type": "code",
   "execution_count": null,
   "metadata": {},
   "outputs": [],
   "source": [
    "%%output size=200\n",
    "hv.HoloMap({idx: hv.Curve(d[idx] / d[idx, 0]) for idx in range(1, d.shape[0] // 5)})"
   ]
  },
  {
   "cell_type": "markdown",
   "metadata": {},
   "source": [
    "## Browse residuals"
   ]
  },
  {
   "cell_type": "code",
   "execution_count": null,
   "metadata": {},
   "outputs": [],
   "source": [
    "%%output size=200\n",
    "hv.HoloMap(\n",
    "    {\n",
    "        idx: hv.Curve(d[idx] / d[idx, 0] - exp_fit(d[idx]))\n",
    "        for idx in range(1, d.shape[0] // 5)\n",
    "    }\n",
    ")"
   ]
  },
  {
   "cell_type": "markdown",
   "metadata": {},
   "source": [
    "## Video"
   ]
  },
  {
   "cell_type": "code",
   "execution_count": null,
   "metadata": {},
   "outputs": [],
   "source": [
    "%%output max_frames=2000\n",
    "hv.HoloMap(\n",
    "    {\n",
    "        t: hv.Image(\n",
    "            segmentation.get_nd2_frame(nd2_filename, pos, channel, t, memmap=True)[\n",
    "                y_min:y_max, x_min:x_max\n",
    "            ]\n",
    "        )\n",
    "        for t in range(0, 200, 1)\n",
    "    }\n",
    ")"
   ]
  },
  {
   "cell_type": "code",
   "execution_count": null,
   "metadata": {},
   "outputs": [],
   "source": [
    "y = d[idx] / d[idx, 0]\n",
    "fy = exp_fit(y)\n",
    "plt.plot(y)\n",
    "plt.plot(fy)"
   ]
  },
  {
   "cell_type": "markdown",
   "metadata": {},
   "source": [
    "# Spatial"
   ]
  },
  {
   "cell_type": "code",
   "execution_count": null,
   "metadata": {},
   "outputs": [],
   "source": [
    "%%output size=200\n",
    "cmap = \"bmy\"\n",
    "residual_std = [\n",
    "    np.nanstd(d[idx] / d[idx, 0] - exp_fit(d[idx])) for idx in range(1, d.shape[0])\n",
    "]\n",
    "# colors = 1/d[1:,0]\n",
    "colors = residual_std  # regionprops['centroid_x']\n",
    "# swap and flip coordinates to follow RevImage convention\n",
    "regionprops[\"x\"] = regionprops[\"centroid_y\"]\n",
    "regionprops[\"y\"] = regionprops[\"centroid_x\"]\n",
    "regionprops[\"color\"] = colors\n",
    "xy_plot = hv.Points(regionprops, kdims=[\"x\", \"y\"], vdims=[\"color\"]).options(\n",
    "    color=hv.dim(\"color\"), size=7, cmap=cmap\n",
    ")\n",
    "xy_plot"
   ]
  },
  {
   "cell_type": "markdown",
   "metadata": {},
   "source": [
    "# Old"
   ]
  },
  {
   "cell_type": "code",
   "execution_count": null,
   "metadata": {},
   "outputs": [],
   "source": [
    "centroid_trace = np.array(\n",
    "    [\n",
    "        segmentation.get_nd2_frame(nd2_filename, 0, channel, t)[y, x]\n",
    "        for t in range(0, t_max, 1)\n",
    "    ]\n",
    ")\n",
    "centroid_trace2 = np.array(\n",
    "    [\n",
    "        segmentation.get_nd2_frame(nd2_filename, 0, channel, t)[y + 1, x + 1]\n",
    "        for t in range(0, t_max, 1)\n",
    "    ]\n",
    ")\n",
    "bg_trace = np.array(\n",
    "    [\n",
    "        segmentation.get_nd2_frame(nd2_filename, 0, channel, t)[y + 10, x + 10]\n",
    "        for t in range(0, t_max, 1)\n",
    "    ]\n",
    ")"
   ]
  },
  {
   "cell_type": "code",
   "execution_count": null,
   "metadata": {},
   "outputs": [],
   "source": [
    "plt.plot(centroid_trace)\n",
    "plt.plot(centroid_trace2)\n",
    "plt.plot(bg_trace)\n",
    "plt.plot(np.asarray(data[nd2_filename][0][\"traces\"][\"mean\"]).T[:, 1])\n",
    "plt.plot(np.asarray(data[nd2_filename][0][\"traces\"][\"mean\"]).T[:, 500])"
   ]
  }
 ],
 "metadata": {
  "kernelspec": {
   "display_name": "Python 3",
   "language": "python",
   "name": "python3"
  },
  "language_info": {
   "codemirror_mode": {
    "name": "ipython",
    "version": 3
   },
   "file_extension": ".py",
   "mimetype": "text/x-python",
   "name": "python",
   "nbconvert_exporter": "python",
   "pygments_lexer": "ipython3",
   "version": "3.7.3"
  }
 },
 "nbformat": 4,
 "nbformat_minor": 2
}
