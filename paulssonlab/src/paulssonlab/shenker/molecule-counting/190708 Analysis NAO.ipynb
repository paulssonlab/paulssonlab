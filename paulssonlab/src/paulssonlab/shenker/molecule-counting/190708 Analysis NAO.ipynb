{
 "cells": [
  {
   "cell_type": "code",
   "execution_count": null,
   "metadata": {},
   "outputs": [],
   "source": [
    "import numpy as np\n",
    "import pandas as pd\n",
    "import matplotlib.pyplot as plt\n",
    "import holoviews as hv\n",
    "from holoviews import opts, dim\n",
    "import pickle\n",
    "import molecule_counting as molco\n",
    "from scipy import stats\n",
    "import importlib"
   ]
  },
  {
   "cell_type": "code",
   "execution_count": null,
   "metadata": {},
   "outputs": [],
   "source": [
    "hv.extension(\"bokeh\")"
   ]
  },
  {
   "cell_type": "markdown",
   "metadata": {},
   "source": [
    "# Load data"
   ]
  },
  {
   "cell_type": "code",
   "execution_count": null,
   "metadata": {},
   "outputs": [],
   "source": [
    "# with open('190311photobleaching.pickle', 'rb') as f:\n",
    "# with open('all_data.pickle', 'rb') as f:\n",
    "# with open('190313photobleaching_noflatcorr.pickle', 'rb') as f:\n",
    "# with open('190326photobleaching_flatcorr_fluoronly.pickle', 'rb') as f:\n",
    "with open(\n",
    "    \"/n/groups/paulsson/nao5/molecule-counting/190604_mothermachine.pickle\", \"rb\"\n",
    ") as f:\n",
    "    d = pickle.load(f)\n",
    "list(d.keys())"
   ]
  },
  {
   "cell_type": "code",
   "execution_count": null,
   "metadata": {},
   "outputs": [],
   "source": [
    "importlib.reload(molco)\n",
    "\n",
    "mvenus_dir = \"/n/scratch2/jqs1/190604/mVenus_YFP_100ms_10pct.nd2\"\n",
    "mkate50_dir = \"/n/scratch2/jqs1/190604/mkate_mcherry_100ms_50pct.nd2\"\n",
    "mkate100_dir = \"/n/scratch2/jqs1/190604/mkate_mcherry_100ms_100pct.nd2\"\n",
    "gfp_dir = \"/n/scratch2/jqs1/190604/GFP_FITC_100ms_60pct.nd2\"\n",
    "\n",
    "mkate50_bad_fov = [0, 3, 5, 6, 7]\n",
    "mkate100_bad_fov = [1, 8, 10, 17, 19, 20]\n",
    "mvenus_bad_fov = [0]\n",
    "# mvenus_bad_fov = [0,8,9,10,11,12,13,14,15,16,17]\n",
    "gfp_bad_fov = [8, 10, 11, 12, 13, 14, 15, 16, 17]\n",
    "\n",
    "# data = molco.process_df(d,mkate50_dir,mkate50_bad_fov,6,1.8,.9)\n",
    "data = molco.process_df(d, mkate100_dir, mkate100_bad_fov, 6, 1.3, 0.90)\n",
    "# data = molco.process_df(d,mvenus_dir,mvenus_bad_fov,6,1.5,.9)\n",
    "# data = molco.process_df(d,gfp_dir,gfp_bad_fov,6,1.2,.95)"
   ]
  },
  {
   "cell_type": "code",
   "execution_count": null,
   "metadata": {},
   "outputs": [],
   "source": [
    "%%output size=250\n",
    "traces = data.iloc[:, :950].values\n",
    "idxs = np.random.permutation(traces.shape[0])\n",
    "downsample = 100  # set to 1 to show all traces (instead odata.k.hist()f 10%); this will make your browser slow\n",
    "curves = [\n",
    "    {\"x\": np.arange(traces.shape[1]), \"y\": traces[i], \"i\": idxs[i]}\n",
    "    for i in range(traces.shape[0] // downsample)\n",
    "]\n",
    "hv.Contours(curves, vdims=[\"i\"]).options(color_index=\"i\", cmap=\"Category20\", logy=True)"
   ]
  },
  {
   "cell_type": "code",
   "execution_count": null,
   "metadata": {},
   "outputs": [],
   "source": [
    "import segmentation\n",
    "\n",
    "%output size=200\n",
    "fov = 2\n",
    "img = np.asarray(d[mkate100_dir][fov][\"segmentation_frame\"])\n",
    "labels = np.asarray(d[mkate100_dir][fov][\"labels\"])\n",
    "# measurements, regionprops, labels, img = data[ '/n/scratch2/jqs1/190604/GFP_FITC_100ms_60pct.nd2'][4]\n",
    "labels = segmentation.permute_labels(labels)\n",
    "hv.Image(img / img.max()).options(cmap=\"hot\") + hv.Image(labels)"
   ]
  },
  {
   "cell_type": "code",
   "execution_count": null,
   "metadata": {},
   "outputs": [],
   "source": [
    "importlib.reload(molco)\n",
    "# prop_dict = {'area': [data.area.median() - 2*data.area.std(), data.area.median() + 2*data.area.std()],\n",
    "#               0: [2000, 4500], t_end-1: [500,1000],\n",
    "#              'k': [.003,.0045]}\n",
    "# prop_dict = {\n",
    "#             'centroid_y': [0, 2000],\n",
    "#              'centroid_x': [0, 2000],\n",
    "#              'area': [data.area.median() - 2*data.area.std(), data.area.median() + 2*data.area.std()],\n",
    "#              0: [500, 6000],'k': [.002,.01]}\n",
    "prop_dict = {\n",
    "    \"centroid_y\": [400, 1600],\n",
    "    \"centroid_x\": [700, 1800],\n",
    "    \"area\": [\n",
    "        data.area.median() - 2 * data.area.std(),\n",
    "        data.area.median() + 2 * data.area.std(),\n",
    "    ],\n",
    "    0: [500, 6000],\n",
    "    \"k\": [0.012, 0.02],\n",
    "}  # , 1150:[0,350]}\n",
    "df = molco.filter_df(data, prop_dict)\n",
    "\n",
    "fig, (ax1, ax2) = plt.subplots(1, 2, figsize=(12, 5))\n",
    "ax1.hist(df.k, bins=30)\n",
    "ax2.hist(df[0], bins=30)\n",
    "\n",
    "q = 1\n",
    "\n",
    "f_predicted, fbar, p, mu, sigma2, y = molco.fluct_plot(df, n=3)\n",
    "\n",
    "# plt.figure(figsize=(12,8))\n",
    "# yn = y.apply(lambda col: col/col.iloc[0],axis=1)\n",
    "# plt.semilogy(yn.T.values[:,::20])\n",
    "# plt.ylim(bottom=1e-3,top=1.1)\n",
    "# plt.xlim(left=0)\n",
    "\n",
    "plt.figure(figsize=(10, 8))\n",
    "yn = y.apply(lambda col: col / col.iloc[0], axis=1)\n",
    "tp = np.arange(yn.shape[1]) / 10\n",
    "plt.semilogy(tp, yn.T.values[:, ::10], linewidth=3)\n",
    "plt.semilogy(tp, mu / mu[0], \"b\", linewidth=7, alpha=0.7, label=r\"$\\mu$\")\n",
    "plt.xlabel(\"Time\", fontsize=28)\n",
    "plt.ylabel(\"Fluorescence\", fontsize=28)\n",
    "plt.legend(fontsize=20)\n",
    "plt.ylim(bottom=1e-3, top=1.1)\n",
    "plt.xlim(left=0)\n",
    "\n",
    "plt.figure(figsize=(12, 8))\n",
    "molco.kmaps(df)"
   ]
  },
  {
   "cell_type": "code",
   "execution_count": null,
   "metadata": {},
   "outputs": [],
   "source": [
    "plt.figure(figsize=(12, 10))\n",
    "plt.rc(\"xtick\", labelsize=24)\n",
    "plt.rc(\"ytick\", labelsize=24)\n",
    "t = 0.1 * np.arange(y.shape[1])\n",
    "plt.semilogy(t, y.T.values[:, ::20])\n",
    "plt.ylim(bottom=1e1, top=6e3)\n",
    "plt.xlim(left=0)\n",
    "plt.xlabel(\"Time (seconds)\", fontsize=28)\n",
    "plt.ylabel(\"Fluorescence (A.U.)\", fontsize=28)\n",
    "# plt.title('Photobleach Time Series')"
   ]
  },
  {
   "cell_type": "code",
   "execution_count": null,
   "metadata": {},
   "outputs": [],
   "source": []
  }
 ],
 "metadata": {
  "kernelspec": {
   "display_name": "Python 3",
   "language": "python",
   "name": "python3"
  },
  "language_info": {
   "codemirror_mode": {
    "name": "ipython",
    "version": 3
   },
   "file_extension": ".py",
   "mimetype": "text/x-python",
   "name": "python",
   "nbconvert_exporter": "python",
   "pygments_lexer": "ipython3",
   "version": "3.7.3"
  }
 },
 "nbformat": 4,
 "nbformat_minor": 2
}
