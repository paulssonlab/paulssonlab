{
 "cells": [
  {
   "cell_type": "code",
   "execution_count": null,
   "metadata": {},
   "outputs": [],
   "source": [
    "import numpy as np\n",
    "import pandas as pd\n",
    "import nd2reader\n",
    "import matplotlib.pyplot as plt\n",
    "import holoviews as hv\n",
    "from holoviews.operation.datashader import regrid\n",
    "import skimage.filters\n",
    "import skimage.feature\n",
    "import scipy.stats\n",
    "import scipy.ndimage\n",
    "import peakutils\n",
    "from tqdm import tnrange, tqdm_notebook\n",
    "import dask\n",
    "import dask.array as da\n",
    "import distributed\n",
    "from distributed import Client, LocalCluster, progress\n",
    "from dask_jobqueue import SLURMCluster\n",
    "from cytoolz import partial, compose, juxt\n",
    "from itertools import repeat\n",
    "from glob import glob\n",
    "import cachetools\n",
    "import numpy_indexed\n",
    "import pickle\n",
    "import pyarrow as pa\n",
    "import warnings\n",
    "import os\n",
    "import re\n",
    "from numbers import Integral\n",
    "from dask.delayed import Delayed"
   ]
  },
  {
   "cell_type": "code",
   "execution_count": null,
   "metadata": {},
   "outputs": [],
   "source": [
    "%load_ext autoreload\n",
    "%autoreload 2"
   ]
  },
  {
   "cell_type": "code",
   "execution_count": null,
   "metadata": {},
   "outputs": [],
   "source": [
    "# from segmentation import *\n",
    "# from util import *\n",
    "# from matriarch_stub import *\n",
    "import segmentation\n",
    "import matriarch_stub"
   ]
  },
  {
   "cell_type": "code",
   "execution_count": null,
   "metadata": {},
   "outputs": [],
   "source": [
    "plt.rcParams[\"figure.figsize\"] = (12, 12)\n",
    "hv.extension(\"bokeh\")"
   ]
  },
  {
   "cell_type": "markdown",
   "metadata": {},
   "source": [
    "# Run"
   ]
  },
  {
   "cell_type": "code",
   "execution_count": null,
   "metadata": {},
   "outputs": [],
   "source": [
    "dask.config.config[\"distributed\"][\"scheduler\"][\"allowed-failures\"] = 20\n",
    "# dask.config.config['distributed']['worker']['memory'] = {'target': 0.4,\n",
    "#                                                         'spill': 0.5,\n",
    "#                                                         'pause': 0.9,\n",
    "#                                                         'terminate': 0.95}"
   ]
  },
  {
   "cell_type": "code",
   "execution_count": null,
   "metadata": {},
   "outputs": [],
   "source": [
    "cluster = SLURMCluster(\n",
    "    queue=\"short\",\n",
    "    walltime=\"02:00:00\",\n",
    "    memory=\"8GB\",\n",
    "    local_directory=\"/tmp\",\n",
    "    log_directory=\"/home/jqs1/projects/molecule-counting/log\",\n",
    "    cores=1,\n",
    "    processes=1,\n",
    ")\n",
    "# diagnostics_port=('127.0.0.1', 8787),\n",
    "# env_extra=['export PYTHONPATH=\\\"/home/jqs1/projects/matriarch\\\"'])\n",
    "client = Client(cluster)"
   ]
  },
  {
   "cell_type": "code",
   "execution_count": null,
   "metadata": {},
   "outputs": [],
   "source": [
    "cluster"
   ]
  },
  {
   "cell_type": "code",
   "execution_count": null,
   "metadata": {},
   "outputs": [],
   "source": [
    "cluster.scale(40)"
   ]
  },
  {
   "cell_type": "markdown",
   "metadata": {},
   "source": [
    "# ND2"
   ]
  },
  {
   "cell_type": "code",
   "execution_count": null,
   "metadata": {},
   "outputs": [],
   "source": [
    "base_filename = \"/n/scratch2/jqs1\""
   ]
  },
  {
   "cell_type": "code",
   "execution_count": null,
   "metadata": {},
   "outputs": [],
   "source": [
    "nd2 = nd2reader.ND2Reader(\n",
    "    os.path.join(base_filename, \"191010/tmp/191010_noise_surpression_control.nd2\")\n",
    ")"
   ]
  },
  {
   "cell_type": "code",
   "execution_count": null,
   "metadata": {},
   "outputs": [],
   "source": [
    "num_ts = nd2._parser._raw_metadata.image_metadata[b\"SLxExperiment\"][b\"uLoopPars\"][\n",
    "    b\"uiCount\"\n",
    "]"
   ]
  },
  {
   "cell_type": "code",
   "execution_count": null,
   "metadata": {},
   "outputs": [],
   "source": [
    "positions = nd2._parser._raw_metadata.image_metadata[b\"SLxExperiment\"][\n",
    "    b\"ppNextLevelEx\"\n",
    "][b\"\"][b\"uLoopPars\"][b\"Points\"][b\"\"]"
   ]
  },
  {
   "cell_type": "code",
   "execution_count": null,
   "metadata": {},
   "outputs": [],
   "source": [
    "num_positions = len(positions)"
   ]
  },
  {
   "cell_type": "code",
   "execution_count": null,
   "metadata": {},
   "outputs": [],
   "source": [
    "plt.scatter(\n",
    "    *np.array([(d[b\"dPosX\"], d[b\"dPosY\"]) for d in positions]).T,\n",
    "    c=range(len(positions)),\n",
    ")"
   ]
  },
  {
   "cell_type": "code",
   "execution_count": null,
   "metadata": {},
   "outputs": [],
   "source": [
    "plt.imshow(nd2.get_frame_2D(v=40, c=1, t=30))"
   ]
  },
  {
   "cell_type": "code",
   "execution_count": null,
   "metadata": {},
   "outputs": [],
   "source": [
    "plt.imshow(nd2.get_frame_2D(v=40, c=1, t=20))"
   ]
  },
  {
   "cell_type": "code",
   "execution_count": null,
   "metadata": {},
   "outputs": [],
   "source": [
    "nd2.metadata"
   ]
  },
  {
   "cell_type": "code",
   "execution_count": null,
   "metadata": {},
   "outputs": [],
   "source": [
    "@dask.delayed\n",
    "def func(filename):\n",
    "    img = nd2reader.ND2Reader(filename)\n",
    "    labels = segmentation.segment(img)\n",
    "    return np.array(matriarch_stub.map_over_labels(np.mean, labels, img))\n",
    "\n",
    "\n",
    "futures = client.compute(\n",
    "    [\n",
    "        [\n",
    "            func(filename)\n",
    "            for filename in sorted(glob(filename_t1.replace(\"t000001\", \"t*\")))\n",
    "        ]\n",
    "        for filename_t1 in sorted(filenames)\n",
    "    ]\n",
    ")"
   ]
  },
  {
   "cell_type": "markdown",
   "metadata": {},
   "source": [
    "# TIFF"
   ]
  },
  {
   "cell_type": "code",
   "execution_count": null,
   "metadata": {},
   "outputs": [],
   "source": [
    "base_filename = \"/n/scratch2/jqs1\"\n",
    "filenames = glob(os.path.join(base_filename, \"191010/nsc*/xy*c1t000010.tif\"))"
   ]
  },
  {
   "cell_type": "code",
   "execution_count": null,
   "metadata": {},
   "outputs": [],
   "source": [
    "f = skimage.external.tifffile.TiffFile(filenames[0])"
   ]
  },
  {
   "cell_type": "code",
   "execution_count": null,
   "metadata": {},
   "outputs": [],
   "source": [
    "f.pages[0].tags"
   ]
  },
  {
   "cell_type": "code",
   "execution_count": null,
   "metadata": {},
   "outputs": [],
   "source": [
    "f.pages[0].tags[\"40961\"].value"
   ]
  },
  {
   "cell_type": "code",
   "execution_count": null,
   "metadata": {},
   "outputs": [],
   "source": [
    "with skimage.external.tifffile.TiffFile(filenames[0]) as f:\n",
    "    f.pages[0].tags"
   ]
  },
  {
   "cell_type": "code",
   "execution_count": null,
   "metadata": {},
   "outputs": [],
   "source": [
    "res2 = dict(zip(filenames, res))"
   ]
  },
  {
   "cell_type": "code",
   "execution_count": null,
   "metadata": {},
   "outputs": [],
   "source": [
    "@dask.delayed\n",
    "def func(filename):\n",
    "    img = skimage.io.imread(filename)\n",
    "    labels = segmentation.segment(img)\n",
    "    return np.array(matriarch_stub.map_over_labels(np.mean, labels, img))\n",
    "\n",
    "\n",
    "futures = client.compute(\n",
    "    {\n",
    "        filename_t1: [\n",
    "            func(filename)\n",
    "            for filename in sorted(glob(filename_t1.replace(\"t000010\", \"t*\")))\n",
    "        ]\n",
    "        for filename_t1 in sorted(filenames)\n",
    "    }\n",
    ")"
   ]
  },
  {
   "cell_type": "code",
   "execution_count": null,
   "metadata": {},
   "outputs": [],
   "source": [
    "res = client.gather(futures)"
   ]
  },
  {
   "cell_type": "code",
   "execution_count": null,
   "metadata": {},
   "outputs": [],
   "source": [
    "import pickle\n",
    "\n",
    "with open(\"nsc_wt.pkl\", \"wb\") as f:\n",
    "    pickle.dump(res, f)"
   ]
  },
  {
   "cell_type": "code",
   "execution_count": null,
   "metadata": {},
   "outputs": [],
   "source": [
    "%store res"
   ]
  },
  {
   "cell_type": "code",
   "execution_count": null,
   "metadata": {},
   "outputs": [],
   "source": [
    "res.keys()"
   ]
  },
  {
   "cell_type": "code",
   "execution_count": null,
   "metadata": {},
   "outputs": [],
   "source": [
    "CLOSEDLOOP = [\n",
    "    \"/n/scratch2/jqs1/191010/nsc_closedloop/xy085c1t000010.tif\",\n",
    "    \"/n/scratch2/jqs1/191010/nsc_closedloop/xy090c1t000010.tif\",\n",
    "    \"/n/scratch2/jqs1/191010/nsc_closedloop/xy110c1t000010.tif\",\n",
    "    \"/n/scratch2/jqs1/191010/nsc_closedloop/xy083c1t000010.tif\",\n",
    "    \"/n/scratch2/jqs1/191010/nsc_closedloop/xy086c1t000010.tif\",\n",
    "    \"/n/scratch2/jqs1/191010/nsc_closedloop/xy105c1t000010.tif\",\n",
    "]\n",
    "OPENLOOP = [\n",
    "    \"/n/scratch2/jqs1/191010/nsc_openloop/xy022c1t000010.tif\",\n",
    "    \"/n/scratch2/jqs1/191010/nsc_openloop/xy034c1t000010.tif\",\n",
    "    \"/n/scratch2/jqs1/191010/nsc_openloop/xy043c1t000010.tif\",\n",
    "    \"/n/scratch2/jqs1/191010/nsc_openloop/xy075c1t000010.tif\",\n",
    "    \"/n/scratch2/jqs1/191010/nsc_openloop/xy023c1t000010.tif\",\n",
    "    \"/n/scratch2/jqs1/191010/nsc_openloop/xy033c1t000010.tif\",\n",
    "]\n",
    "ALL = CLOSEDLOOP + OPENLOOP"
   ]
  },
  {
   "cell_type": "code",
   "execution_count": null,
   "metadata": {},
   "outputs": [],
   "source": [
    "for f in CLOSEDLOOP:\n",
    "    plt.hist(res[f][1], log=True, bins=20)\n",
    "for f in OPENLOOP:\n",
    "    plt.hist(res[f][1], log=True, bins=20)"
   ]
  },
  {
   "cell_type": "code",
   "execution_count": null,
   "metadata": {},
   "outputs": [],
   "source": [
    "for f in ALL:\n",
    "    plt.plot([np.mean(dd[1:]) for dd in res[f]])"
   ]
  },
  {
   "cell_type": "code",
   "execution_count": null,
   "metadata": {},
   "outputs": [],
   "source": [
    "for f in ALL:\n",
    "    plt.plot([np.std(dd[1:]) for dd in res[f]])"
   ]
  },
  {
   "cell_type": "code",
   "execution_count": null,
   "metadata": {},
   "outputs": [],
   "source": [
    "for f in CLOSEDLOOP:\n",
    "    plt.plot([scipy.stats.variation(dd[1:]) for dd in res[f]])\n",
    "for f in OPENLOOP:\n",
    "    plt.plot([scipy.stats.variation(dd[1:]) for dd in res[f]], linestyle=\":\")"
   ]
  },
  {
   "cell_type": "code",
   "execution_count": null,
   "metadata": {},
   "outputs": [],
   "source": []
  }
 ],
 "metadata": {
  "kernelspec": {
   "display_name": "Python 3",
   "language": "python",
   "name": "python3"
  },
  "language_info": {
   "codemirror_mode": {
    "name": "ipython",
    "version": 3
   },
   "file_extension": ".py",
   "mimetype": "text/x-python",
   "name": "python",
   "nbconvert_exporter": "python",
   "pygments_lexer": "ipython3",
   "version": "3.6.7"
  }
 },
 "nbformat": 4,
 "nbformat_minor": 4
}
