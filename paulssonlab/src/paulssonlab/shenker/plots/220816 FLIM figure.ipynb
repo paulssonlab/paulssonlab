{
 "cells": [
  {
   "cell_type": "code",
   "execution_count": null,
   "id": "b899a2df-5803-4728-83c5-b2c08ea2b71f",
   "metadata": {},
   "outputs": [],
   "source": [
    "import numpy as np\n",
    "import matplotlib.pyplot as plt"
   ]
  },
  {
   "cell_type": "code",
   "execution_count": null,
   "id": "962590f5-94d6-4823-bc8c-dbebd1e91637",
   "metadata": {},
   "outputs": [],
   "source": [
    "c = plt.get_cmap(\"tab20\")"
   ]
  },
  {
   "cell_type": "code",
   "execution_count": null,
   "id": "c7f40cf4-6662-4b90-83d3-f7cbc45cf05c",
   "metadata": {},
   "outputs": [],
   "source": [
    "plt.figure(figsize=(10,4), dpi=200)\n",
    "xs = np.linspace(0, 5*np.pi, 200)\n",
    "plt.plot(xs, np.sin(xs)/2 + 1/2, label=\"excitation\", c=c.colors[2])\n",
    "plt.plot(xs, np.sin(xs - np.pi/6)/2.2 + 1/2, label=\"1ns lifetime\", c=c.colors[1])\n",
    "plt.plot(xs, np.sin(xs - np.pi/1.5)/5 + 1/2, label=\"10ns lifetime\", c=c.colors[0])\n",
    "plt.xlabel(\"phase\")\n",
    "plt.ylabel(\"intensity\")\n",
    "plt.legend()"
   ]
  }
 ],
 "metadata": {
  "kernelspec": {
   "display_name": "Python 3 (ipykernel)",
   "language": "python",
   "name": "python3"
  },
  "language_info": {
   "codemirror_mode": {
    "name": "ipython",
    "version": 3
   },
   "file_extension": ".py",
   "mimetype": "text/x-python",
   "name": "python",
   "nbconvert_exporter": "python",
   "pygments_lexer": "ipython3",
   "version": "3.10.5"
  }
 },
 "nbformat": 4,
 "nbformat_minor": 5
}
