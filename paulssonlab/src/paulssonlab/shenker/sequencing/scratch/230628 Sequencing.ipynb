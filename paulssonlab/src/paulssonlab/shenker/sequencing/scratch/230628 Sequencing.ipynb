{
 "cells": [
  {
   "cell_type": "code",
   "execution_count": null,
   "id": "41c57f7d-eb34-40e9-b810-10d4c44d68b2",
   "metadata": {},
   "outputs": [],
   "source": [
    "import itertools as it\n",
    "\n",
    "import gfapy\n",
    "import holoviews as hv\n",
    "import matplotlib.pyplot as plt\n",
    "import numpy as np\n",
    "import pandas as pd\n",
    "import pyarrow as pa\n",
    "from pyarrow import csv\n",
    "from tqdm.auto import tqdm"
   ]
  },
  {
   "cell_type": "code",
   "execution_count": null,
   "id": "f117a156-f6f6-423f-81be-bb5eed890a23",
   "metadata": {},
   "outputs": [],
   "source": [
    "hv.extension(\"bokeh\")"
   ]
  },
  {
   "cell_type": "code",
   "execution_count": null,
   "id": "364d754f-e620-44b1-9727-085d579f55a9",
   "metadata": {},
   "outputs": [],
   "source": [
    "import re\n",
    "from collections import Counter"
   ]
  },
  {
   "cell_type": "code",
   "execution_count": null,
   "id": "257efbfa-f05c-4201-aab8-b110fa6cde7c",
   "metadata": {},
   "outputs": [],
   "source": [
    "def segment_frequences(table, segment_names):\n",
    "    rows = []\n",
    "    for path in table.column(\"path\"):\n",
    "        read_segments = re.split(r\">|<\", str(path))\n",
    "        segment_counts = Counter(read_segments)\n",
    "        rows.append([segment_counts[s] for s in segment_names])\n",
    "    return pd.DataFrame(rows, columns=segment_names, index=table.column(\"name\"))"
   ]
  },
  {
   "cell_type": "code",
   "execution_count": null,
   "id": "6de22c62-f3a5-4119-ae56-07bcd13416ad",
   "metadata": {},
   "outputs": [],
   "source": [
    "# read1: id\n",
    "# read2: id if duplex, null otherwise"
   ]
  },
  {
   "cell_type": "code",
   "execution_count": null,
   "id": "3c0b06ae-8caf-4213-a437-c67ad7c26b74",
   "metadata": {},
   "outputs": [],
   "source": [
    "# gaf row -> row (columns: segments, values: cigar strings with local coördinates [duplicating cigar if necessary, null if segment does not appear)\n",
    "# filter by duplex vs simplex\n",
    "# filter out full length from partial-length and unexpected topology (e.g., repeated segments)\n",
    "# for each segment:\n",
    "# - number of times it appears in path\n",
    "# - localized CIGAR (suitable for aggregation, optionally weighted by read quality??)\n",
    "# get quality score from read???\n",
    "\n",
    "# NM: edit distance to reference\n",
    "# AS: alignment score\n",
    "# dv: ?\n",
    "# id: ?"
   ]
  },
  {
   "cell_type": "code",
   "execution_count": null,
   "id": "624a806b-3a1a-480b-99fe-2355ed9559c0",
   "metadata": {},
   "outputs": [],
   "source": [
    "gfa = gfapy.Gfa.from_file(\"nao745bc.gfa\")"
   ]
  },
  {
   "cell_type": "code",
   "execution_count": null,
   "id": "f24c406b-0574-4ea8-87a0-cacfa5f40391",
   "metadata": {},
   "outputs": [],
   "source": [
    "!du -hs *.gaf"
   ]
  },
  {
   "cell_type": "code",
   "execution_count": null,
   "id": "42e738e7-616a-4fe3-be5b-1764af2655f3",
   "metadata": {},
   "outputs": [],
   "source": [
    "# gaf_filename = \"duplex_hac1_subsample_dbg.gaf\"\n",
    "# gaf_filename = \"duplex_hac1_subsample_dbg2.gaf\"\n",
    "# gaf_filename = \"duplex_hac1_subsample_vg2.gaf\"\n",
    "gaf_filename = \"duplex_sup1_vg2.gaf\""
   ]
  },
  {
   "cell_type": "code",
   "execution_count": null,
   "id": "3627ce22-92d0-4771-aa5c-08b4c2aa18a9",
   "metadata": {},
   "outputs": [],
   "source": [
    "%%time\n",
    "# PATH_REGEX = r\"([><][^\\s><]+(:\\d+-\\d+)?)+|([^\\s><]+)\"\n",
    "# SEE: http://samtools.github.io/hts-specs/SAMv1.pdf\n",
    "# and https://samtools.github.io/hts-specs/SAMtags.pdf\n",
    "SAM_TAG_TYPES = {\n",
    "    \"A\": pa.dictionary(pa.int32(), pa.string()),\n",
    "    \"f\": pa.float32(),\n",
    "    \"i\": pa.int32(),\n",
    "    \"Z\": pa.string(),\n",
    "}\n",
    "with open(gaf_filename, \"r\") as f:\n",
    "    first = f.readline().split(\"\\t\")\n",
    "tags = first[12:]\n",
    "tag_column_types = {(t := tag.split(\":\"))[0]: SAM_TAG_TYPES[t[1]] for tag in tags}\n",
    "column_types = {\n",
    "    \"name\": pa.string(),\n",
    "    \"query_length\": pa.uint64(),\n",
    "    \"query_start\": pa.uint64(),\n",
    "    \"query_end\": pa.uint64(),\n",
    "    \"strand\": pa.dictionary(pa.int32(), pa.string()),\n",
    "    \"path\": pa.string(),\n",
    "    \"path_length\": pa.uint64(),\n",
    "    \"path_start\": pa.uint64(),\n",
    "    \"path_end\": pa.uint64(),\n",
    "    \"residue_matches\": pa.uint64(),\n",
    "    \"block_length\": pa.uint64(),\n",
    "    \"mapping_quality\": pa.uint8(),\n",
    "    **{tag: pa.string() for tag in tag_column_types.keys()},\n",
    "}\n",
    "read_options = csv.ReadOptions(column_names=column_types.keys())\n",
    "parse_options = csv.ParseOptions(delimiter=\"\\t\")\n",
    "convert_options = csv.ConvertOptions(column_types=column_types)\n",
    "with csv.open_csv(\n",
    "    gaf_filename,\n",
    "    read_options=read_options,\n",
    "    parse_options=parse_options,\n",
    "    convert_options=convert_options,\n",
    ") as f:\n",
    "    # tt = f.read_next_batch()\n",
    "    segment_counts = Counter()\n",
    "    barcode_counts = Counter()\n",
    "    total = 0\n",
    "    duplex = 0\n",
    "    singleton = 0\n",
    "    filtered = 0\n",
    "    # while True:\n",
    "    # for _ in tqdm(it.islice(it.count(), 10)):\n",
    "    for _ in tqdm(it.count()):\n",
    "        try:\n",
    "            table = f.read_next_batch()\n",
    "        except StopIteration:\n",
    "            break\n",
    "        # break\n",
    "        freqs = segment_frequences(table, gfa.segment_names)\n",
    "        duplex += freqs.index.str.contains(\";\").sum()\n",
    "        # filtered_freqs = freqs[(freqs.max(axis=1) == 1) & ((freqs[\"BIT0OFF\"] == 1) | (freqs[\"BIT0ON\"] == 1)) & (freqs[\"pPhlF\"] == 1)]\n",
    "        filtered_freqs = freqs[\n",
    "            # freqs.index.str.contains(\";\")\n",
    "            (freqs.max(axis=1) == 1)\n",
    "            & ((freqs[\"BIT0OFF\"] == 1) | (freqs[\"BIT0ON\"] == 1))\n",
    "            & (freqs[\"RBS1\"] == 1)\n",
    "        ]\n",
    "        # filtered_freqs = freqs\n",
    "        filtered += len(filtered_freqs)\n",
    "        total += len(freqs)\n",
    "        segment_counts.update(list(filtered_freqs.itertuples(index=False)))\n",
    "        barcode_counts.update(\n",
    "            list(\n",
    "                filtered_freqs.loc[\n",
    "                    :, filtered_freqs.columns.str.startswith(\"BIT\")\n",
    "                ].itertuples(index=False)\n",
    "            )\n",
    "        )"
   ]
  },
  {
   "cell_type": "code",
   "execution_count": null,
   "id": "8616bd23-f4bd-4297-bf53-514bb251148a",
   "metadata": {},
   "outputs": [],
   "source": [
    "(filtered, total, filtered / total, duplex, duplex / total)"
   ]
  },
  {
   "cell_type": "code",
   "execution_count": null,
   "id": "5f64c66c-fb58-421f-aee8-6dc4524eaaff",
   "metadata": {},
   "outputs": [],
   "source": [
    "def bit_sums(freqs):\n",
    "    return pd.DataFrame(\n",
    "        {f\"BIT{i}\": freqs[f\"BIT{i}ON\"] + freqs[f\"BIT{i}OFF\"] for i in range(30)}\n",
    "    )"
   ]
  },
  {
   "cell_type": "code",
   "execution_count": null,
   "id": "9763b8e5-1566-4535-ba45-41717a209b24",
   "metadata": {},
   "outputs": [],
   "source": [
    "filtered_freqs.mean(axis=0)"
   ]
  },
  {
   "cell_type": "code",
   "execution_count": null,
   "id": "84214897-f4d2-40ea-a09a-b9749ab9d240",
   "metadata": {},
   "outputs": [],
   "source": [
    "filtered_freqs.loc[:, filtered_freqs.columns.str.endswith(\"ON\")].mean(axis=0).plot.bar()"
   ]
  },
  {
   "cell_type": "code",
   "execution_count": null,
   "id": "d711d797-27e7-4745-8945-b05959a1d41f",
   "metadata": {},
   "outputs": [],
   "source": [
    "filtered_freqs.mean(axis=0).plot.bar()"
   ]
  },
  {
   "cell_type": "code",
   "execution_count": null,
   "id": "e313c97c-52f0-4817-a641-367ba9aae9b7",
   "metadata": {},
   "outputs": [],
   "source": [
    "segment_counts.most_common(3)"
   ]
  },
  {
   "cell_type": "code",
   "execution_count": null,
   "id": "58f78a91-4e6e-41a0-ae5a-ce766391aa0a",
   "metadata": {},
   "outputs": [],
   "source": [
    "barcode_counts.most_common(3)"
   ]
  },
  {
   "cell_type": "code",
   "execution_count": null,
   "id": "ddf65b09-1a1c-41af-92cb-b17b6ba63eb9",
   "metadata": {},
   "outputs": [],
   "source": [
    "plt.hist(barcode_counts.values(), bins=100, log=True);"
   ]
  },
  {
   "cell_type": "code",
   "execution_count": null,
   "id": "7a6384b5-053d-489f-9220-978423617abe",
   "metadata": {},
   "outputs": [],
   "source": [
    "n, bins, patches = plt.hist(\n",
    "    barcode_counts.values(),\n",
    "    100,\n",
    "    histtype=\"step\",\n",
    "    density=False,\n",
    "    cumulative=-1,\n",
    "    log=True,\n",
    ")"
   ]
  },
  {
   "cell_type": "code",
   "execution_count": null,
   "id": "762c6dd2-ebd1-4145-958b-49e8148ced2c",
   "metadata": {},
   "outputs": [],
   "source": [
    "n, bins, patches = plt.hist(\n",
    "    barcode_counts.values(),\n",
    "    100,\n",
    "    range=(0, 10),\n",
    "    histtype=\"step\",\n",
    "    density=False,\n",
    "    cumulative=-1,\n",
    "    log=True,\n",
    ")"
   ]
  },
  {
   "cell_type": "code",
   "execution_count": null,
   "id": "d8d6c3de-aa1b-4b59-8094-344795c9d495",
   "metadata": {},
   "outputs": [],
   "source": [
    "len(barcode_counts)"
   ]
  },
  {
   "cell_type": "code",
   "execution_count": null,
   "id": "4e07ac59-ea7a-435c-9504-d9d8e1120f7f",
   "metadata": {},
   "outputs": [],
   "source": [
    "sum(1 for v in barcode_counts.values() if v == 1)"
   ]
  },
  {
   "cell_type": "code",
   "execution_count": null,
   "id": "239fe3bf-6562-44af-928d-a2587db651ec",
   "metadata": {},
   "outputs": [],
   "source": [
    "sum(1 for v in barcode_counts.values() if v == 2)"
   ]
  },
  {
   "cell_type": "code",
   "execution_count": null,
   "id": "ea99b1ce-83aa-48de-9c1b-adcef9b4df9e",
   "metadata": {},
   "outputs": [],
   "source": [
    "sum(1 for v in barcode_counts.values() if v == 3)"
   ]
  },
  {
   "cell_type": "code",
   "execution_count": null,
   "id": "36efb10b-6dfd-43f6-a399-ecb373ed3bd7",
   "metadata": {},
   "outputs": [],
   "source": [
    "sum(1 for v in barcode_counts.values() if v == 4)"
   ]
  },
  {
   "cell_type": "code",
   "execution_count": null,
   "id": "7172e295-39bf-45c0-b830-5095b3c0d6fd",
   "metadata": {},
   "outputs": [],
   "source": [
    "sum(1 for v in barcode_counts.values() if v >= 5)"
   ]
  },
  {
   "cell_type": "code",
   "execution_count": null,
   "id": "992cbdc7-2319-4e31-82f2-ffc76f7e461e",
   "metadata": {},
   "outputs": [],
   "source": [
    "sum(1 for v in barcode_counts.values() if 5 <= v < 20)"
   ]
  },
  {
   "cell_type": "code",
   "execution_count": null,
   "id": "2df90e05-27a2-4758-b53c-fc9e9302089b",
   "metadata": {},
   "outputs": [],
   "source": [
    "sum(1 for v in barcode_counts.values() if 20 <= v < 100)"
   ]
  },
  {
   "cell_type": "code",
   "execution_count": null,
   "id": "61a12b38-baf6-403e-9687-d3664ead9016",
   "metadata": {},
   "outputs": [],
   "source": [
    "sum(1 for v in barcode_counts.values() if v >= 100)"
   ]
  },
  {
   "cell_type": "code",
   "execution_count": null,
   "id": "2d834b26-1a8e-42bb-8d4c-e5764f5a5317",
   "metadata": {},
   "outputs": [],
   "source": [
    "sum(1 for v in barcode_counts.values() if v >= 100)"
   ]
  },
  {
   "cell_type": "code",
   "execution_count": null,
   "id": "bfb31b75-04c5-46e5-b5cf-e8588612387c",
   "metadata": {},
   "outputs": [],
   "source": [
    "sum(1 for v in barcode_counts.values() if v >= 2)"
   ]
  },
  {
   "cell_type": "code",
   "execution_count": null,
   "id": "7fa20306-0479-44e8-b832-2a4c3ea9637e",
   "metadata": {},
   "outputs": [],
   "source": [
    "max(barcode_counts.values())"
   ]
  },
  {
   "cell_type": "code",
   "execution_count": null,
   "id": "0ef29f66-0b50-486b-a3af-1d9ca56d8220",
   "metadata": {},
   "outputs": [],
   "source": [
    "sum(v for v in barcode_counts.values() if v == 1) / total"
   ]
  },
  {
   "cell_type": "code",
   "execution_count": null,
   "id": "9de66459-1f46-4f65-92c4-21d18507e9cc",
   "metadata": {},
   "outputs": [],
   "source": [
    "sum(1 for v in barcode_counts.values() if v >= 2)"
   ]
  },
  {
   "cell_type": "code",
   "execution_count": null,
   "id": "112d9d6f-31d4-4e23-8e24-145d45786a3a",
   "metadata": {},
   "outputs": [],
   "source": [
    "sum(v for v in barcode_counts.values() if v >= 10)"
   ]
  },
  {
   "cell_type": "code",
   "execution_count": null,
   "id": "0f36df10-91c2-4e1a-b0fd-f5ce027359f3",
   "metadata": {},
   "outputs": [],
   "source": [
    "sum(v for v in barcode_counts.values() if v >= 10) / filtered"
   ]
  },
  {
   "cell_type": "code",
   "execution_count": null,
   "id": "d87b5833-2736-40e0-9753-97c5c835dabd",
   "metadata": {},
   "outputs": [],
   "source": [
    "sum(v for v in barcode_counts.values() if v >= 50) / filtered"
   ]
  },
  {
   "cell_type": "code",
   "execution_count": null,
   "id": "271e4673-3fd2-41ca-bf0f-e10499a00700",
   "metadata": {},
   "outputs": [],
   "source": [
    "sum(v for v in barcode_counts.values() if v >= 100) / filtered"
   ]
  },
  {
   "cell_type": "code",
   "execution_count": null,
   "id": "e22083e3-1c23-4fad-8eb6-7f867e619a2c",
   "metadata": {},
   "outputs": [],
   "source": [
    "filtered"
   ]
  },
  {
   "cell_type": "code",
   "execution_count": null,
   "id": "4e56420e-138c-4db1-8733-9e9d5f59288e",
   "metadata": {},
   "outputs": [],
   "source": [
    "sum(v for v in barcode_counts.values())"
   ]
  },
  {
   "cell_type": "code",
   "execution_count": null,
   "id": "ed2ee98d-a203-4f91-acf5-77a015bc7614",
   "metadata": {},
   "outputs": [],
   "source": [
    "n, bins, patches = plt.hist(\n",
    "    barcode_counts.values(),\n",
    "    100,\n",
    "    range=(0, 20),\n",
    "    histtype=\"step\",\n",
    "    density=True,\n",
    "    cumulative=-1,\n",
    "    log=True,\n",
    ")"
   ]
  },
  {
   "cell_type": "code",
   "execution_count": null,
   "id": "db90f083-457d-47af-b773-0693febe2d3e",
   "metadata": {},
   "outputs": [],
   "source": [
    "f = extract_barcodes(tt, gfa.segment_names)"
   ]
  },
  {
   "cell_type": "code",
   "execution_count": null,
   "id": "1e7ebe4c-7bc9-409c-b22d-a5b7868e0e64",
   "metadata": {},
   "outputs": [],
   "source": [
    "tuple(next(f.iterrows())[1].values)"
   ]
  },
  {
   "cell_type": "code",
   "execution_count": null,
   "id": "0919ba43-f38a-41ba-958f-82d306ad7ce3",
   "metadata": {},
   "outputs": [],
   "source": [
    "f.max(axis=1)"
   ]
  },
  {
   "cell_type": "code",
   "execution_count": null,
   "id": "11925336-1407-4d0b-84f3-e44f300daac9",
   "metadata": {},
   "outputs": [],
   "source": [
    "tt.column(\"path\")"
   ]
  },
  {
   "cell_type": "code",
   "execution_count": null,
   "id": "840d5586-28e2-47a9-ad94-9c62c1d4bcd9",
   "metadata": {},
   "outputs": [],
   "source": [
    "re.split(r\">|<\", s)"
   ]
  },
  {
   "cell_type": "code",
   "execution_count": null,
   "id": "a69bd04d-0651-488c-a417-4e352e426181",
   "metadata": {},
   "outputs": [],
   "source": [
    "paths = tt.select([\"path\"]).to_pandas()"
   ]
  },
  {
   "cell_type": "code",
   "execution_count": null,
   "id": "202d78e7-8b70-48b3-9a2d-2af395187f21",
   "metadata": {},
   "outputs": [],
   "source": [
    "s = paths.iloc[0, 0]"
   ]
  },
  {
   "cell_type": "code",
   "execution_count": null,
   "id": "ed78f538-65bb-47cc-83c0-075e30f9ef99",
   "metadata": {},
   "outputs": [],
   "source": [
    "PATH_REGEX"
   ]
  },
  {
   "cell_type": "code",
   "execution_count": null,
   "id": "8c5185ee-8ba4-46c3-8737-63989e2612a1",
   "metadata": {},
   "outputs": [],
   "source": [
    "m = re.match(PATH_REGEX, paths.iloc[0, 0])"
   ]
  },
  {
   "cell_type": "code",
   "execution_count": null,
   "id": "90caf562-5ff7-480d-b82f-4d3b622a96d9",
   "metadata": {},
   "outputs": [],
   "source": [
    "m.groups()"
   ]
  },
  {
   "cell_type": "code",
   "execution_count": null,
   "id": "26c613a4-b87d-4fca-ab4d-235eb845a815",
   "metadata": {},
   "outputs": [],
   "source": [
    "tt.take([0]).to_pandas()"
   ]
  },
  {
   "cell_type": "code",
   "execution_count": null,
   "id": "fd4114b2-64c4-4823-a2ad-2640b87428c3",
   "metadata": {},
   "outputs": [],
   "source": [
    "gfa.try_get_segment(\"BIT1OFF\")"
   ]
  },
  {
   "cell_type": "code",
   "execution_count": null,
   "id": "2eaf2919-707d-49c4-9433-c41c9c52a238",
   "metadata": {},
   "outputs": [],
   "source": [
    "tt2 = tt.to_pandas()"
   ]
  },
  {
   "cell_type": "code",
   "execution_count": null,
   "id": "63000594-af7c-4f24-8b73-bdb5788f02e3",
   "metadata": {},
   "outputs": [],
   "source": [
    "tt2[\"path_length\"].plot.hist(bins=50)"
   ]
  },
  {
   "cell_type": "code",
   "execution_count": null,
   "id": "8970ae39-e6c6-4d5d-95e8-323fc76363d3",
   "metadata": {},
   "outputs": [],
   "source": [
    "tt2[\"mapping_quality\"].value_counts()"
   ]
  },
  {
   "cell_type": "code",
   "execution_count": null,
   "id": "f678ea14-7300-4cf4-8f4b-58af7bb4c15b",
   "metadata": {},
   "outputs": [],
   "source": [
    "t = table.to_pandas()"
   ]
  },
  {
   "cell_type": "code",
   "execution_count": null,
   "id": "3b98b197-c6c7-4ce7-8808-78179f007bf3",
   "metadata": {},
   "outputs": [],
   "source": [
    "import uuid"
   ]
  },
  {
   "cell_type": "code",
   "execution_count": null,
   "id": "43d4b001-7975-416b-8305-3ab697bc7549",
   "metadata": {},
   "outputs": [],
   "source": [
    "u = uuid.UUID(\"6e507a8a-c271-4561-8768-0f9bf9d4c301\")"
   ]
  },
  {
   "cell_type": "code",
   "execution_count": null,
   "id": "a9a777ab-b3cd-42d0-a268-6fb85a9da889",
   "metadata": {},
   "outputs": [],
   "source": [
    "import sys"
   ]
  },
  {
   "cell_type": "code",
   "execution_count": null,
   "id": "ed06a87c-e934-43e3-bb84-cd0ac490dd3a",
   "metadata": {},
   "outputs": [],
   "source": [
    "sys.getsizeof(u.int)"
   ]
  },
  {
   "cell_type": "code",
   "execution_count": null,
   "id": "7aed6ee7-9e71-459d-bfcf-e1946bf8b2ff",
   "metadata": {},
   "outputs": [],
   "source": [
    "sys.getsizeof(\"6e507a8a-c271-4561-8768-0f9bf9d4c301\")"
   ]
  },
  {
   "cell_type": "code",
   "execution_count": null,
   "id": "772202ad-5419-4791-be72-5fff411027d3",
   "metadata": {},
   "outputs": [],
   "source": [
    "u.int"
   ]
  },
  {
   "cell_type": "code",
   "execution_count": null,
   "id": "e1eeeaff-f54e-4584-aaa6-37804acaf492",
   "metadata": {},
   "outputs": [],
   "source": [
    "t[\"cg\"][0]"
   ]
  },
  {
   "cell_type": "code",
   "execution_count": null,
   "id": "f6a2e444-c446-4056-9b93-6a228111b6b9",
   "metadata": {},
   "outputs": [],
   "source": [
    "t[\"name\"].str.split(\";\")"
   ]
  },
  {
   "cell_type": "code",
   "execution_count": null,
   "id": "24a13640-9370-4560-b8bb-7f12971a1ad9",
   "metadata": {},
   "outputs": [],
   "source": [
    "# 1) segment_cigars df (segment coördinates, normalize orientation) [numba]\n",
    "# 2) segment_mismatches df (cellwise apply, get insertions/deletions/mismatches/equal)\n",
    "# 3) filter on barcode mismatches (?)\n",
    "# 4) group segment_cigars by barcode, run cigar_aggregation on non-barcode (or all!) segments\n",
    "# 5)"
   ]
  },
  {
   "cell_type": "code",
   "execution_count": null,
   "id": "790f389d-9fca-4231-9089-e4b01526fbc9",
   "metadata": {},
   "outputs": [],
   "source": [
    "import stream\n",
    "import vg_pb2"
   ]
  },
  {
   "cell_type": "code",
   "execution_count": null,
   "id": "b5aa2cec-c48c-42d5-9556-2798d00ad1ce",
   "metadata": {},
   "outputs": [],
   "source": [
    "gam_filename = \"duplex_sup1_subsample_vg2.gam\""
   ]
  },
  {
   "cell_type": "code",
   "execution_count": null,
   "id": "9afbb62a-4cdb-445d-b721-92c4abca73cd",
   "metadata": {},
   "outputs": [],
   "source": [
    "from itertools import islice"
   ]
  },
  {
   "cell_type": "code",
   "execution_count": null,
   "id": "9ac52178-31bc-498e-abc8-bd397b19e90d",
   "metadata": {},
   "outputs": [],
   "source": [
    "len(\n",
    "    \"CACTGGAAACATCAAGGTCGACGAGGAGAGCGCGGGTGAGAGGGATTCGTTACCAATAGAGCAACGTACGACGTTCAATATAATGCTAGCTACTAGCGCTGTCTGTACTTGTATCAGTACACTGACCAGTCCCTAAAGAACGAAACAACCGCCTCTACAAATAATTTTGTTTAACCATAACAAAGAAAGGGGGTATTCTAATGAAACCAGTAACGTTATACGATGTCGCAGAGTATGCCGGTGTCTTCTTATATGACCGTTTCCCGCGTGGTGAACCAGGCCAGCCACGTTCTGCGAAAACGCGGAAAAAGTGGAAGCGGCGATGGTGGAGCTGAATTACATTCCCGACCGCGTGGCACAACAACTGGCGGGCAAACAGTCGTTGCTGATTGGCGTTGCCACCTCCAGTCTGGCCCTGCACGCGCCGTCGCAAATTGTCGCGGCGATTAAATTCGCGCCGATCAACTGGGTGCGCCAGCGTGGTGGTCTGAATCGGTAGAACGAAGCGGCGTCGAAGCCTGTAAAGCGGCGGTGCACAATCTTCTCGCGCAACGCGTCAGGTGGGCTGATCATTAACTATCCGCTGGATGACCAGGATGCCATTGCTGTGGAAGCTGCCTGCACTAATGTTCCGGCGTTATTTCTTGATGTTCTGACCAGACACCCATCAACAGTATTATTTACTCCCATGAGGACGGTACGCGACTGGGCGTGGAGCATCTGGTCGCATTGGGTCACCAGCAAATCGCGCTTGTTAGCGGGCCCATTAAGTTCTGTCTCGGCGCGTCTGCGTCTGGCTGGCTGGCATAAATATCTCACTCGCAATCAAATTCAGCCGATAGCGGAACGGGAAGGCGACTGGAGTGCCATGTCGGTTTTCAACAAACCATGCAAATGCTGAATGAGGGCATCGTTCCCACTGCGATGCTGGTTGCCAACGATCAGATGGCGCTGGGCGCAATGCGCGCCATTACCGAGTCCGGGCTGCGCGTTGGTGCGGATATCTCGGTAGTGGTAGGATACGACGATACCGAAGATAGCTCATGTTAATCCCGCCGTTAACCACCATCAACAGGATTTTTCGCCTGCTGGGGCAAACCAGCGTGGACCGCTTGCTGCAACTCTCAGGCCAGGCGGTGAAGGGCAATCAGCTGTTGCCAGTCTCACTGGTGAAAAGAAAAACCACCCTGGCGCCCAATACGCAAACCGCCTCTCCCCGCGCGTTGGCCGATTCATTAATGCAGCTGGCACGACAGGTTTCCCGACTGGAAAGCAGGCAGTAATAAAGGTCCGGCAATTAAAAAAGCGGCTAACCACGCCGCTTTTTTTAGATGTCACTCGGTACCAAATTCCAGAAAGAGGCCTCCCGAAAGGGGGGCCTTTTTTCGTTTTTGGTCCGCTTTGAAGGAGTGTTGACAATTAATCATCGGCTCGATAATGTGTGGAATTGTGAGCGCTCACAATTTACTAGCGCTGTCTGTACTTGTATCAGTACACTGACGAGTCCCTAAAGGACGAAACACCGCCTCTACAAATAATTTTGTTCAACCATAACAAAGAAAGGGGGTCCTGTAATGGCACGTACCCGAGCCGTAGCAGCATTGGTAGCCTGCGTAGTCCGCATACCCATAAAGCAATTCTCGACCAGCACCATTGAAATCCTGAAAAGAATGTGGTTATAGCGGTCTGAGCATTGAAAGCGTGGCACGTCGCGCCGGTGCAGGCAAACCGACCATTCATCGTTGGTGGACCAACAAAGCAGCACTGATTGCCGAAGTGTATGAATGAAATCGAACAGGTACGTAAATTTCCGGATTTGGGTAGCTTTAAAGCCGATCTGGATTTTCTGCTGCATAATCTGTGGAAAGTTTGGCGTGAAACCATTTGTGGTGAAGCATTTCGTTGTGTTATTGCAGAAGCACAGTTGGACCCTGCAACCCTGACCCAACTGAAAGATCAGTTTATGGAACGTCGTCGTGAGATACCGAAAAAACTGGTTGAAGATGCCATTAGCAATGGTGAACTGCCGAAAGATATCAATCGTGAACTGCTGCTGGATATGATTTTTGGTTTTTGGTTGGTATCGCCTGCTGACCGAACAGTTGACCGTTGAACAGGATCGTAAAGATTGACCTTCCTGCTGATTAATGGTGTTTGTCCGGGTACACAGCGTCAATAAGGTCCGGCTTATCGGTCAGTTTCACCTGATTTACGTAAAAACCCGCTTCGGCGGGTTTTTGCTTTTGAGGGGCAGAAAGATGAATGACTGTCCACGACGCTATACCCAAAAGAAAAAAAACCCCGCCCGTGACAGGGCGGGTTTTTTTTTGCTTAAATAGGAGCGACGTACGGTGGAATCTGATTCGTTACCAATTGACATGATACGGAACGTACCGTATCGTTAAGGTTACTAGCGCTGTCTGGTACTTGTATCAGTACACTGACGAGTCCCTAAAGGACGAAACACCGCCTCTACAAATAATTTTGTTTAACCATAACAGAGAAAGGGGGTTTTCTGAATGCCGAAACTGGGTATGCAGAGCATTCGTCGTCGTCAGCTGATTGATGCAACCCTGGAAGCAATTAATGAAGTTGGTATGCATGATGCAACCATTGCACAGATTGCACGTCGTGCCGGTGTTAGCACCGTATGATTAGCCATTATTTCCGCGATAAACGGTCGACTGGATGGAAGCAACGATGCGTGATATTACCAGCCAGCTGCGTGATGCAGTTCTGAATCGTCTGCATGCACTGCCGCAGGGTAGCGCAGAACAGCGTCTGCAGGCAATTGTTGGTGGTAATTTTGATGAAACCCAGGTTAGCAGCGCAGCAATGAAAGCATGGCTGGCATTTGGGCAATCGAGCATGCATCAGCCGATGCTGTATCGTCTGCAGCAGGTTAGCAGTCGTCGTCTGCTGAGCAATCTGGTTAGCGAATTTCGTCCGTGAACTGCCTCGTGAACAGGCACAAGAGGCAGGTTATGGTCTGGCAGCACTGATTGATGGTCTGTGGCTGCGTGCAGCACTGAAGCGGTAAACCGCTCGGATAAAACCCGTGCAAATAAGCCTGACCCGTCATTTTATCACCCAGCATCTGCCGACCGATTAATAAGGTCTTTAAAAAGAAACCTCCGCATTGCGGAGGTTTCGCCTTTTGATACTCTGTCTGAAGTAATTCTTGCCGCAGTGAAAAATGGTGCCCATCGGCGCCATTTTTTTATGCTTCCATTAGAAAGCAAAAAGCCTGCTAGAAAGCAGGCTTTTAATTTGGCTCCTCGGGCACGCTTACTGAGGAGCGAGGATAAGATAAAATTACCACAACTGCGAGCCCTTCCACCAAAAAAAACAAGATAGCCGCGCGAACGCGGCTAACTGTTGAAAAAAACAGATAACAGATACGAAGAATCTGTTATCGTAAAAACCCCTCAAAGACCGTTTAAGAAGGCCCAAGGGGTTATTACTGATGGCAATGTGATGACCTCATCATTCGCTCATCATCACCAACTGAATCTCACCTTCCACTTCACGATCCATATCCTTCTCACCCTGACCTTTCTCCATACCCAACTTTCCTAACAACCAACTAACCTGCCTCTTCATCAGTCCATGATTCTCCCTCTATCAGCTCCAGCAACCACACTCATAATGCATATCCAACCACAACCTCAGTCAACTCATTACCCACAACCGCCCTTACCAACAACAATCCTGATTCCATACCCACTCCGTATCCTTCAATCCCTCCACAGCATAACCCTACACACAACACGTATCGTTATGTAATTGCTAGACCCTTTACAAACACACCTGAGGTAAACCCATCCCACATCCTGTCAATCCACCATTCCTCAACGAAACTTCATCACTCTCCTCCTCACTAATTCACAACTCTCGTCCCCCACTTCACTTCACTATGCTTCTTCTCTTACACCCTCTGTATCATCCTCCTTCTCTCACCACCATAACTCCATCCTTCGCCCTCTTACTTATCTGACCCAGACCAACTTCCACACTCACTGGATCTCATCAATCCCA\"\n",
    ")"
   ]
  },
  {
   "cell_type": "code",
   "execution_count": null,
   "id": "c7f2c79a-b935-4358-a8af-ede7ada7b277",
   "metadata": {},
   "outputs": [],
   "source": [
    "!head -n 4 duplex_sup1_subsample.fastq"
   ]
  },
  {
   "cell_type": "code",
   "execution_count": null,
   "id": "60798e0e-2cbc-470f-abef-e4f5e112ee89",
   "metadata": {},
   "outputs": [],
   "source": [
    "for msg in islice(stream.parse(gam_filename, vg_pb2.Alignment), 2):\n",
    "    print(msg)\n",
    "    print()\n",
    "    print(\"************\")\n",
    "    print()"
   ]
  },
  {
   "cell_type": "code",
   "execution_count": null,
   "id": "bd9efa55-6af3-4730-b0cb-df9899419da5",
   "metadata": {},
   "outputs": [],
   "source": [
    "for msg in stream.parse(gam_filename, vg_pb2.Alignment):\n",
    "    if \";\" in msg.name:\n",
    "        continue\n",
    "    print(msg)\n",
    "    print()\n",
    "    print(\"************\")\n",
    "    print()\n",
    "    break"
   ]
  },
  {
   "cell_type": "code",
   "execution_count": null,
   "id": "2cbac4a8-7122-430f-975c-554be4495b95",
   "metadata": {},
   "outputs": [],
   "source": [
    "msg.name"
   ]
  },
  {
   "cell_type": "code",
   "execution_count": null,
   "id": "aacceab6-b2e8-4686-a411-56e7c58e0f89",
   "metadata": {},
   "outputs": [],
   "source": [
    "msg.quality"
   ]
  }
 ],
 "metadata": {
  "kernelspec": {
   "display_name": "Python 3 (ipykernel)",
   "language": "python",
   "name": "python3"
  },
  "language_info": {
   "codemirror_mode": {
    "name": "ipython",
    "version": 3
   },
   "file_extension": ".py",
   "mimetype": "text/x-python",
   "name": "python",
   "nbconvert_exporter": "python",
   "pygments_lexer": "ipython3",
   "version": "3.10.12"
  }
 },
 "nbformat": 4,
 "nbformat_minor": 5
}
