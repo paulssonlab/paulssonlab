{
 "cells": [
  {
   "cell_type": "code",
   "execution_count": null,
   "id": "41c57f7d-eb34-40e9-b810-10d4c44d68b2",
   "metadata": {},
   "outputs": [],
   "source": [
    "import itertools as it\n",
    "import re\n",
    "\n",
    "import gfapy\n",
    "import holoviews as hv\n",
    "import matplotlib.pyplot as plt\n",
    "import numpy as np\n",
    "import pandas as pd\n",
    "import pyarrow as pa\n",
    "from pyarrow import csv\n",
    "from tqdm.auto import tqdm"
   ]
  },
  {
   "cell_type": "code",
   "execution_count": null,
   "id": "f117a156-f6f6-423f-81be-bb5eed890a23",
   "metadata": {},
   "outputs": [],
   "source": [
    "hv.extension(\"bokeh\")"
   ]
  },
  {
   "cell_type": "code",
   "execution_count": null,
   "id": "a42ac136-406c-4b7b-bc46-c160cc31c5c7",
   "metadata": {},
   "outputs": [],
   "source": [
    "!micromamba list|grep protobuf"
   ]
  },
  {
   "cell_type": "code",
   "execution_count": null,
   "id": "3f829381-6d3f-42c8-95af-7ebdf0e5bb54",
   "metadata": {},
   "outputs": [],
   "source": [
    "!micromamba install -y protobuf=4.21.7 async_generator pyarrow"
   ]
  },
  {
   "cell_type": "code",
   "execution_count": null,
   "id": "e0f19477-bf2e-46f2-b254-0f78378d3843",
   "metadata": {},
   "outputs": [],
   "source": [
    "!pip install --no-deps pystream-protobuf"
   ]
  },
  {
   "cell_type": "markdown",
   "id": "a73add2a-6327-4a1d-a8c5-8d8be4cacd24",
   "metadata": {
    "jp-MarkdownHeadingCollapsed": true
   },
   "source": [
    "# GAF"
   ]
  },
  {
   "cell_type": "code",
   "execution_count": null,
   "id": "364d754f-e620-44b1-9727-085d579f55a9",
   "metadata": {},
   "outputs": [],
   "source": [
    "import re\n",
    "from collections import Counter"
   ]
  },
  {
   "cell_type": "code",
   "execution_count": null,
   "id": "257efbfa-f05c-4201-aab8-b110fa6cde7c",
   "metadata": {},
   "outputs": [],
   "source": [
    "def segment_frequences(table, segment_names):\n",
    "    rows = []\n",
    "    for path in table.column(\"path\"):\n",
    "        read_segments = re.split(r\">|<\", str(path))\n",
    "        segment_counts = Counter(read_segments)\n",
    "        rows.append([segment_counts[s] for s in segment_names])\n",
    "    return pd.DataFrame(rows, columns=segment_names, index=table.column(\"name\"))"
   ]
  },
  {
   "cell_type": "code",
   "execution_count": null,
   "id": "624a806b-3a1a-480b-99fe-2355ed9559c0",
   "metadata": {},
   "outputs": [],
   "source": [
    "gfa = gfapy.Gfa.from_file(\"nao745bc.gfa\")"
   ]
  },
  {
   "cell_type": "code",
   "execution_count": null,
   "id": "f24c406b-0574-4ea8-87a0-cacfa5f40391",
   "metadata": {},
   "outputs": [],
   "source": [
    "!du -hs *.gaf"
   ]
  },
  {
   "cell_type": "code",
   "execution_count": null,
   "id": "42e738e7-616a-4fe3-be5b-1764af2655f3",
   "metadata": {},
   "outputs": [],
   "source": [
    "# gaf_filename = \"duplex_hac1_subsample_dbg.gaf\"\n",
    "# gaf_filename = \"duplex_hac1_subsample_dbg2.gaf\"\n",
    "# gaf_filename = \"duplex_hac1_subsample_vg2.gaf\"\n",
    "gaf_filename = \"duplex_sup1_vg2.gaf\""
   ]
  },
  {
   "cell_type": "code",
   "execution_count": null,
   "id": "3627ce22-92d0-4771-aa5c-08b4c2aa18a9",
   "metadata": {},
   "outputs": [],
   "source": [
    "%%time\n",
    "# SEE: http://samtools.github.io/hts-specs/SAMv1.pdf\n",
    "# and https://samtools.github.io/hts-specs/SAMtags.pdf\n",
    "SAM_TAG_TYPES = {\n",
    "    \"A\": pa.dictionary(pa.int32(), pa.string()),\n",
    "    \"f\": pa.float32(),\n",
    "    \"i\": pa.int32(),\n",
    "    \"Z\": pa.string(),\n",
    "}\n",
    "with open(gaf_filename, \"r\") as f:\n",
    "    first = f.readline().split(\"\\t\")\n",
    "tags = first[12:]\n",
    "tag_column_types = {(t := tag.split(\":\"))[0]: SAM_TAG_TYPES[t[1]] for tag in tags}\n",
    "column_types = {\n",
    "    \"name\": pa.string(),\n",
    "    \"query_length\": pa.uint64(),\n",
    "    \"query_start\": pa.uint64(),\n",
    "    \"query_end\": pa.uint64(),\n",
    "    \"strand\": pa.dictionary(pa.int32(), pa.string()),\n",
    "    \"path\": pa.string(),\n",
    "    \"path_length\": pa.uint64(),\n",
    "    \"path_start\": pa.uint64(),\n",
    "    \"path_end\": pa.uint64(),\n",
    "    \"residue_matches\": pa.uint64(),\n",
    "    \"block_length\": pa.uint64(),\n",
    "    \"mapping_quality\": pa.uint8(),\n",
    "    **{tag: pa.string() for tag in tag_column_types.keys()},\n",
    "}\n",
    "read_options = csv.ReadOptions(column_names=column_types.keys())\n",
    "parse_options = csv.ParseOptions(delimiter=\"\\t\")\n",
    "convert_options = csv.ConvertOptions(column_types=column_types)\n",
    "with csv.open_csv(\n",
    "    gaf_filename,\n",
    "    read_options=read_options,\n",
    "    parse_options=parse_options,\n",
    "    convert_options=convert_options,\n",
    ") as f:\n",
    "    # tt = f.read_next_batch()\n",
    "    segment_counts = Counter()\n",
    "    barcode_counts = Counter()\n",
    "    total = 0\n",
    "    duplex = 0\n",
    "    singleton = 0\n",
    "    filtered = 0\n",
    "    # while True:\n",
    "    # for _ in tqdm(it.islice(it.count(), 10)):\n",
    "    for _ in tqdm(it.count()):\n",
    "        try:\n",
    "            table = f.read_next_batch()\n",
    "        except StopIteration:\n",
    "            break\n",
    "        # break\n",
    "        freqs = segment_frequences(table, gfa.segment_names)\n",
    "        duplex += freqs.index.str.contains(\";\").sum()\n",
    "        # filtered_freqs = freqs[(freqs.max(axis=1) == 1) & ((freqs[\"BIT0OFF\"] == 1) | (freqs[\"BIT0ON\"] == 1)) & (freqs[\"pPhlF\"] == 1)]\n",
    "        filtered_freqs = freqs[\n",
    "            freqs.index.str.contains(\";\")\n",
    "            & (freqs.max(axis=1) == 1)\n",
    "            & ((freqs[\"BIT0OFF\"] == 1) | (freqs[\"BIT0ON\"] == 1))\n",
    "            & (freqs[\"RBS1\"] == 1)\n",
    "        ]\n",
    "        # filtered_freqs = freqs\n",
    "        filtered += len(filtered_freqs)\n",
    "        total += len(freqs)\n",
    "        segment_counts.update(list(filtered_freqs.itertuples(index=False)))\n",
    "        barcode_counts.update(\n",
    "            list(\n",
    "                filtered_freqs.loc[\n",
    "                    :, filtered_freqs.columns.str.startswith(\"BIT\")\n",
    "                ].itertuples(index=False)\n",
    "            )\n",
    "        )"
   ]
  },
  {
   "cell_type": "code",
   "execution_count": null,
   "id": "8616bd23-f4bd-4297-bf53-514bb251148a",
   "metadata": {},
   "outputs": [],
   "source": [
    "(filtered, total, filtered / total, duplex, duplex / total)"
   ]
  },
  {
   "cell_type": "code",
   "execution_count": null,
   "id": "5f64c66c-fb58-421f-aee8-6dc4524eaaff",
   "metadata": {},
   "outputs": [],
   "source": [
    "def bit_sums(freqs):\n",
    "    return pd.DataFrame(\n",
    "        {f\"BIT{i}\": freqs[f\"BIT{i}ON\"] + freqs[f\"BIT{i}OFF\"] for i in range(30)}\n",
    "    )"
   ]
  },
  {
   "cell_type": "code",
   "execution_count": null,
   "id": "9763b8e5-1566-4535-ba45-41717a209b24",
   "metadata": {},
   "outputs": [],
   "source": [
    "filtered_freqs.mean(axis=0)"
   ]
  },
  {
   "cell_type": "code",
   "execution_count": null,
   "id": "84214897-f4d2-40ea-a09a-b9749ab9d240",
   "metadata": {},
   "outputs": [],
   "source": [
    "filtered_freqs.loc[:, filtered_freqs.columns.str.endswith(\"ON\")].mean(axis=0).plot.bar()"
   ]
  },
  {
   "cell_type": "code",
   "execution_count": null,
   "id": "d711d797-27e7-4745-8945-b05959a1d41f",
   "metadata": {},
   "outputs": [],
   "source": [
    "filtered_freqs.mean(axis=0).plot.bar()"
   ]
  },
  {
   "cell_type": "code",
   "execution_count": null,
   "id": "e313c97c-52f0-4817-a641-367ba9aae9b7",
   "metadata": {},
   "outputs": [],
   "source": [
    "segment_counts.most_common(3)"
   ]
  },
  {
   "cell_type": "code",
   "execution_count": null,
   "id": "58f78a91-4e6e-41a0-ae5a-ce766391aa0a",
   "metadata": {},
   "outputs": [],
   "source": [
    "barcode_counts.most_common(3)"
   ]
  },
  {
   "cell_type": "code",
   "execution_count": null,
   "id": "ddf65b09-1a1c-41af-92cb-b17b6ba63eb9",
   "metadata": {},
   "outputs": [],
   "source": [
    "plt.hist(barcode_counts.values(), bins=100, log=True);"
   ]
  },
  {
   "cell_type": "code",
   "execution_count": null,
   "id": "7a6384b5-053d-489f-9220-978423617abe",
   "metadata": {},
   "outputs": [],
   "source": [
    "n, bins, patches = plt.hist(\n",
    "    barcode_counts.values(),\n",
    "    100,\n",
    "    histtype=\"step\",\n",
    "    density=False,\n",
    "    cumulative=-1,\n",
    "    log=True,\n",
    ")"
   ]
  },
  {
   "cell_type": "code",
   "execution_count": null,
   "id": "762c6dd2-ebd1-4145-958b-49e8148ced2c",
   "metadata": {},
   "outputs": [],
   "source": [
    "n, bins, patches = plt.hist(\n",
    "    barcode_counts.values(),\n",
    "    100,\n",
    "    range=(0, 10),\n",
    "    histtype=\"step\",\n",
    "    density=False,\n",
    "    cumulative=-1,\n",
    "    log=True,\n",
    ")"
   ]
  },
  {
   "cell_type": "code",
   "execution_count": null,
   "id": "d8d6c3de-aa1b-4b59-8094-344795c9d495",
   "metadata": {},
   "outputs": [],
   "source": [
    "len(barcode_counts)"
   ]
  },
  {
   "cell_type": "code",
   "execution_count": null,
   "id": "4e07ac59-ea7a-435c-9504-d9d8e1120f7f",
   "metadata": {},
   "outputs": [],
   "source": [
    "sum(1 for v in barcode_counts.values() if v == 1)"
   ]
  },
  {
   "cell_type": "code",
   "execution_count": null,
   "id": "239fe3bf-6562-44af-928d-a2587db651ec",
   "metadata": {},
   "outputs": [],
   "source": [
    "sum(1 for v in barcode_counts.values() if v == 2)"
   ]
  },
  {
   "cell_type": "code",
   "execution_count": null,
   "id": "ea99b1ce-83aa-48de-9c1b-adcef9b4df9e",
   "metadata": {},
   "outputs": [],
   "source": [
    "sum(1 for v in barcode_counts.values() if v == 3)"
   ]
  },
  {
   "cell_type": "code",
   "execution_count": null,
   "id": "36efb10b-6dfd-43f6-a399-ecb373ed3bd7",
   "metadata": {},
   "outputs": [],
   "source": [
    "sum(1 for v in barcode_counts.values() if v == 4)"
   ]
  },
  {
   "cell_type": "code",
   "execution_count": null,
   "id": "7172e295-39bf-45c0-b830-5095b3c0d6fd",
   "metadata": {},
   "outputs": [],
   "source": [
    "sum(1 for v in barcode_counts.values() if v >= 5)"
   ]
  },
  {
   "cell_type": "code",
   "execution_count": null,
   "id": "992cbdc7-2319-4e31-82f2-ffc76f7e461e",
   "metadata": {},
   "outputs": [],
   "source": [
    "sum(1 for v in barcode_counts.values() if 5 <= v < 20)"
   ]
  },
  {
   "cell_type": "code",
   "execution_count": null,
   "id": "2df90e05-27a2-4758-b53c-fc9e9302089b",
   "metadata": {},
   "outputs": [],
   "source": [
    "sum(1 for v in barcode_counts.values() if 20 <= v < 100)"
   ]
  },
  {
   "cell_type": "code",
   "execution_count": null,
   "id": "61a12b38-baf6-403e-9687-d3664ead9016",
   "metadata": {},
   "outputs": [],
   "source": [
    "sum(1 for v in barcode_counts.values() if v >= 100)"
   ]
  },
  {
   "cell_type": "code",
   "execution_count": null,
   "id": "2d834b26-1a8e-42bb-8d4c-e5764f5a5317",
   "metadata": {},
   "outputs": [],
   "source": [
    "sum(1 for v in barcode_counts.values() if v >= 100)"
   ]
  },
  {
   "cell_type": "code",
   "execution_count": null,
   "id": "bfb31b75-04c5-46e5-b5cf-e8588612387c",
   "metadata": {},
   "outputs": [],
   "source": [
    "sum(1 for v in barcode_counts.values() if v >= 2)"
   ]
  },
  {
   "cell_type": "code",
   "execution_count": null,
   "id": "7fa20306-0479-44e8-b832-2a4c3ea9637e",
   "metadata": {},
   "outputs": [],
   "source": [
    "max(barcode_counts.values())"
   ]
  },
  {
   "cell_type": "code",
   "execution_count": null,
   "id": "0ef29f66-0b50-486b-a3af-1d9ca56d8220",
   "metadata": {},
   "outputs": [],
   "source": [
    "sum(v for v in barcode_counts.values() if v == 1) / total"
   ]
  },
  {
   "cell_type": "code",
   "execution_count": null,
   "id": "9de66459-1f46-4f65-92c4-21d18507e9cc",
   "metadata": {},
   "outputs": [],
   "source": [
    "sum(1 for v in barcode_counts.values() if v >= 2)"
   ]
  },
  {
   "cell_type": "code",
   "execution_count": null,
   "id": "112d9d6f-31d4-4e23-8e24-145d45786a3a",
   "metadata": {},
   "outputs": [],
   "source": [
    "sum(v for v in barcode_counts.values() if v >= 10)"
   ]
  },
  {
   "cell_type": "code",
   "execution_count": null,
   "id": "0f36df10-91c2-4e1a-b0fd-f5ce027359f3",
   "metadata": {},
   "outputs": [],
   "source": [
    "sum(v for v in barcode_counts.values() if v >= 10) / filtered"
   ]
  },
  {
   "cell_type": "code",
   "execution_count": null,
   "id": "e22083e3-1c23-4fad-8eb6-7f867e619a2c",
   "metadata": {},
   "outputs": [],
   "source": [
    "filtered"
   ]
  },
  {
   "cell_type": "code",
   "execution_count": null,
   "id": "4e56420e-138c-4db1-8733-9e9d5f59288e",
   "metadata": {},
   "outputs": [],
   "source": [
    "sum(v for v in barcode_counts.values())"
   ]
  },
  {
   "cell_type": "code",
   "execution_count": null,
   "id": "ed2ee98d-a203-4f91-acf5-77a015bc7614",
   "metadata": {},
   "outputs": [],
   "source": [
    "n, bins, patches = plt.hist(\n",
    "    barcode_counts.values(),\n",
    "    100,\n",
    "    range=(0, 20),\n",
    "    histtype=\"step\",\n",
    "    density=True,\n",
    "    cumulative=-1,\n",
    "    log=True,\n",
    ")"
   ]
  },
  {
   "cell_type": "code",
   "execution_count": null,
   "id": "fd4114b2-64c4-4823-a2ad-2640b87428c3",
   "metadata": {},
   "outputs": [],
   "source": [
    "gfa.try_get_segment(\"BIT1OFF\")"
   ]
  },
  {
   "cell_type": "code",
   "execution_count": null,
   "id": "3b98b197-c6c7-4ce7-8808-78179f007bf3",
   "metadata": {},
   "outputs": [],
   "source": [
    "import uuid"
   ]
  },
  {
   "cell_type": "code",
   "execution_count": null,
   "id": "43d4b001-7975-416b-8305-3ab697bc7549",
   "metadata": {},
   "outputs": [],
   "source": [
    "u = uuid.UUID(\"6e507a8a-c271-4561-8768-0f9bf9d4c301\")"
   ]
  },
  {
   "cell_type": "code",
   "execution_count": null,
   "id": "a9a777ab-b3cd-42d0-a268-6fb85a9da889",
   "metadata": {},
   "outputs": [],
   "source": [
    "import sys"
   ]
  },
  {
   "cell_type": "code",
   "execution_count": null,
   "id": "ed06a87c-e934-43e3-bb84-cd0ac490dd3a",
   "metadata": {},
   "outputs": [],
   "source": [
    "sys.getsizeof(u.int)"
   ]
  },
  {
   "cell_type": "code",
   "execution_count": null,
   "id": "7aed6ee7-9e71-459d-bfcf-e1946bf8b2ff",
   "metadata": {},
   "outputs": [],
   "source": [
    "sys.getsizeof(\"6e507a8a-c271-4561-8768-0f9bf9d4c301\")"
   ]
  },
  {
   "cell_type": "code",
   "execution_count": null,
   "id": "772202ad-5419-4791-be72-5fff411027d3",
   "metadata": {},
   "outputs": [],
   "source": [
    "u.int"
   ]
  },
  {
   "cell_type": "code",
   "execution_count": null,
   "id": "e1eeeaff-f54e-4584-aaa6-37804acaf492",
   "metadata": {},
   "outputs": [],
   "source": [
    "t[\"cg\"][0]"
   ]
  },
  {
   "cell_type": "code",
   "execution_count": null,
   "id": "f6a2e444-c446-4056-9b93-6a228111b6b9",
   "metadata": {},
   "outputs": [],
   "source": [
    "t[\"name\"].str.split(\";\")"
   ]
  },
  {
   "cell_type": "markdown",
   "id": "7e8d4597-823c-4899-b117-0160ef0fed32",
   "metadata": {},
   "source": [
    "# GAM"
   ]
  },
  {
   "cell_type": "code",
   "execution_count": null,
   "id": "24a13640-9370-4560-b8bb-7f12971a1ad9",
   "metadata": {},
   "outputs": [],
   "source": [
    "# 1) segment_cigars df (segment coördinates, normalize orientation) [numba]\n",
    "# 2) segment_mismatches df (cellwise apply, get insertions/deletions/mismatches/equal)\n",
    "# 3) filter on barcode mismatches (?)\n",
    "# 4) group segment_cigars by barcode, run cigar_aggregation on non-barcode (or all!) segments\n",
    "# 5)"
   ]
  },
  {
   "cell_type": "code",
   "execution_count": null,
   "id": "aa8d9f33-b6ab-4fec-8cef-83772e3a430f",
   "metadata": {},
   "outputs": [],
   "source": [
    "import google.protobuf"
   ]
  },
  {
   "cell_type": "code",
   "execution_count": null,
   "id": "9e74b8fc-5b7a-404e-995d-ee6ed4ec2537",
   "metadata": {},
   "outputs": [],
   "source": [
    "google.protobuf.__version__"
   ]
  },
  {
   "cell_type": "code",
   "execution_count": null,
   "id": "790f389d-9fca-4231-9089-e4b01526fbc9",
   "metadata": {},
   "outputs": [],
   "source": [
    "import stream\n",
    "import vg_pb2"
   ]
  },
  {
   "cell_type": "code",
   "execution_count": null,
   "id": "1139466d-fe4b-4c85-86da-961547956e99",
   "metadata": {},
   "outputs": [],
   "source": [
    "gfa_filename = \"nao745bc.gfa\"\n",
    "gfa = gfapy.Gfa.from_file(gfa_filename)"
   ]
  },
  {
   "cell_type": "code",
   "execution_count": null,
   "id": "b5aa2cec-c48c-42d5-9556-2798d00ad1ce",
   "metadata": {},
   "outputs": [],
   "source": [
    "# gam_filename = \"duplex_sup1_subsample_vg2.gam\"\n",
    "# gam_filename = \"reverse_test_duplex.gam\"\n",
    "gam_filename = \"reverse_test_simplex.gam\"\n",
    "# gam_filename = \"reverse_test_duplex_t1.gam\""
   ]
  },
  {
   "cell_type": "code",
   "execution_count": null,
   "id": "5ab19dc1-f7d9-4136-a2d0-cd171dd8864c",
   "metadata": {},
   "outputs": [],
   "source": [
    "msgs = list(stream.parse(gam_filename, vg_pb2.Alignment))"
   ]
  },
  {
   "cell_type": "code",
   "execution_count": null,
   "id": "c7f2c79a-b935-4358-a8af-ede7ada7b277",
   "metadata": {},
   "outputs": [],
   "source": [
    "!head -n 4 duplex_sup1_subsample.fastq"
   ]
  },
  {
   "cell_type": "code",
   "execution_count": null,
   "id": "bd9efa55-6af3-4730-b0cb-df9899419da5",
   "metadata": {},
   "outputs": [],
   "source": [
    "for msg in stream.parse(gam_filename, vg_pb2.Alignment):\n",
    "    if \";\" in msg.name:\n",
    "        continue\n",
    "    # print(msg)\n",
    "    # print()\n",
    "    # print(\"************\")\n",
    "    # print()\n",
    "    break"
   ]
  },
  {
   "cell_type": "code",
   "execution_count": null,
   "id": "60798e0e-2cbc-470f-abef-e4f5e112ee89",
   "metadata": {},
   "outputs": [],
   "source": [
    "for msg in it.islice(stream.parse(gam_filename, vg_pb2.Alignment), 1):\n",
    "    pass\n",
    "    # print(msg)\n",
    "    # print()\n",
    "    # print(\"************\")\n",
    "    # print()"
   ]
  },
  {
   "cell_type": "code",
   "execution_count": null,
   "id": "2cbac4a8-7122-430f-975c-554be4495b95",
   "metadata": {},
   "outputs": [],
   "source": [
    "msgs[0].name"
   ]
  },
  {
   "cell_type": "code",
   "execution_count": null,
   "id": "cf993fbd-13f3-4104-ac41-a278353b4f8e",
   "metadata": {},
   "outputs": [],
   "source": [
    "# TODO: use paulssonlab.cloning.workflow.DEGENERATE_BASES_REGEX\n",
    "DEGENERATE_BASES = \"RYMKSWHBVDN\".lower()\n",
    "DEGENERATE_BASES_REGEX = re.compile(f\"[{DEGENERATE_BASES}]\", re.IGNORECASE)"
   ]
  },
  {
   "cell_type": "code",
   "execution_count": null,
   "id": "1811c83e-d230-452d-8174-6b31f4cdf42e",
   "metadata": {},
   "outputs": [],
   "source": [
    "segments = {s.name: s.sequence for s in gfa.segments}\n",
    "segment_degenerate_bases = {\n",
    "    name: [m.start(0) for m in re.finditer(DEGENERATE_BASES_REGEX, segments[\"RBS1\"])]\n",
    "    for name, seq in segments.items()\n",
    "}"
   ]
  },
  {
   "cell_type": "code",
   "execution_count": null,
   "id": "b539cfe4-24c5-46e3-b902-288852cbe817",
   "metadata": {},
   "outputs": [],
   "source": [
    "from enum import Enum\n",
    "from typing import NamedTuple\n",
    "\n",
    "\n",
    "class Op(Enum):\n",
    "    INSERTION = 1\n",
    "    DELETION = 2\n",
    "    SUBSTITUTION = 3\n",
    "\n",
    "\n",
    "class Edit(NamedTuple):\n",
    "    op: Op\n",
    "    index: int\n",
    "    seq: str\n",
    "    length: int\n",
    "\n",
    "    def __repr__(self):\n",
    "        match self.op:\n",
    "            case Op.INSERTION:\n",
    "                return f\"I:{self.index}:{self.seq or ''}\"\n",
    "            case Op.DELETION:\n",
    "                return f\"D:{self.index}:{self.length}\"\n",
    "            case Op.SUBSTITUTION:\n",
    "                return f\"S:{self.index}:{self.seq or ''}\"\n",
    "            case _:\n",
    "                return f\"{self.op}:{self.index}:{self.seq or self.length or ''}\"\n",
    "\n",
    "    __str__ = __repr__"
   ]
  },
  {
   "cell_type": "code",
   "execution_count": null,
   "id": "dd534848-70b6-474b-a7b0-59776ec2f4bc",
   "metadata": {},
   "outputs": [],
   "source": [
    "segment_degenerate_bases[\"RBS1\"]"
   ]
  },
  {
   "cell_type": "code",
   "execution_count": null,
   "id": "1c1c6faa-46d3-4fab-aba6-3b6557f1ccee",
   "metadata": {},
   "outputs": [],
   "source": [
    "from Bio.Seq import Seq\n",
    "\n",
    "\n",
    "def local_index(index, length, is_reverse):\n",
    "    if is_reverse:\n",
    "        return length - index\n",
    "    else:\n",
    "        return index\n",
    "\n",
    "\n",
    "def reverse_complement(seq):\n",
    "    return str(Seq(seq).reverse_complement())\n",
    "\n",
    "\n",
    "def reversed_seq(seq, is_reverse):\n",
    "    if is_reverse:\n",
    "        return reverse_complement(seq)\n",
    "    else:\n",
    "        return seq\n",
    "\n",
    "\n",
    "def normalize_alignment(msg):\n",
    "    segment_edits = {segment_name: [] for segment_name in segments.keys()}\n",
    "    segment_read_indices = {}\n",
    "    # for mapping in it.islice(msg.path.mapping, 7):\n",
    "    read_index = 0\n",
    "    for mapping in msg.path.mapping:\n",
    "        segment_index = 0\n",
    "        segment_name = mapping.position.name\n",
    "        offset = mapping.position.offset\n",
    "        if offset:\n",
    "            segment_index += offset\n",
    "        segment_read_start = read_index\n",
    "        is_reverse = mapping.position.is_reverse\n",
    "        edits = segment_edits[segment_name]\n",
    "        segment_length = len(segments[segment_name])\n",
    "        # TODO: separate edit handling for\n",
    "        for edit in mapping.edit:\n",
    "            if edit.from_length == edit.to_length:\n",
    "                if edit.sequence:\n",
    "                    # snp\n",
    "                    # TODO: eat matching bases\n",
    "                    edits.append(\n",
    "                        Edit(\n",
    "                            Op.SUBSTITUTION,\n",
    "                            local_index(\n",
    "                                segment_index,\n",
    "                                segment_length - len(edit.sequence),\n",
    "                                is_reverse,\n",
    "                            ),\n",
    "                            reversed_seq(edit.sequence, is_reverse),\n",
    "                            None,\n",
    "                        )\n",
    "                    )\n",
    "                    segment_index += edit.from_length\n",
    "                    read_index += edit.to_length\n",
    "                else:\n",
    "                    # match\n",
    "                    degenerate_base_indices = segment_degenerate_bases[segment_name]\n",
    "                    segment_index += edit.from_length\n",
    "                    read_index += edit.to_length\n",
    "                    # if degenerate_base_indices:\n",
    "                    #     for base_index in degenerate_base_indices:\n",
    "                    #         # TODO: handle is_reverse\n",
    "                    #         local_index(\n",
    "                    #             segment_index, segment_length, is_reverse, 1\n",
    "                    #         )\n",
    "                    #         if segment_index <= base_index < segment_index + edit.from_length:\n",
    "                    #             edits.append(\n",
    "                    #                 Edit(\n",
    "                    #                     Op.SUBSTITUTION,\n",
    "                    #                     local_index(\n",
    "                    #                         segment_index, segment_length - len(edit.sequence), is_reverse,\n",
    "                    #                     ),\n",
    "                    #                     reversed_seq(edit.sequence, is_reverse),\n",
    "                    #                     None,\n",
    "                    #                 )\n",
    "                    #             )\n",
    "                    # else:\n",
    "                    #     segment_index += edit.from_length\n",
    "                    #     read_index += edit.to_length\n",
    "            elif not edit.to_length:\n",
    "                # deletion\n",
    "                edits.append(\n",
    "                    Edit(\n",
    "                        Op.DELETION,\n",
    "                        local_index(\n",
    "                            segment_index, segment_length - edit.from_length, is_reverse\n",
    "                        ),\n",
    "                        None,\n",
    "                        edit.from_length,\n",
    "                    )\n",
    "                )\n",
    "                segment_index += edit.from_length\n",
    "            elif edit.from_length < edit.to_length:\n",
    "                # insertion\n",
    "                # if from_length > 0: need to remove matching bases from both sides\n",
    "                assert edit.from_length == 0\n",
    "                edits.append(\n",
    "                    Edit(\n",
    "                        Op.INSERTION,\n",
    "                        local_index(\n",
    "                            segment_index, segment_length - edit.to_length, is_reverse\n",
    "                        ),\n",
    "                        reversed_seq(edit.sequence, is_reverse),\n",
    "                        None,\n",
    "                    )\n",
    "                )\n",
    "                # TODO: shouldn't increment segment_index, right?\n",
    "                # segment_index += edit.to_length\n",
    "                read_index += edit.to_length\n",
    "        segment_read_end = read_index\n",
    "        segment_read_indices[segment_name] = (segment_read_start, segment_read_end)\n",
    "        if is_reverse:\n",
    "            edits.reverse()\n",
    "        # TODO: merge like edits (i.e., degen base insertions)\n",
    "        # TODO: normalize consecutive unlike edits:\n",
    "        # insertion/sub with like bases\n",
    "        # CNNNNANNNNCC\n",
    "        # caaaataaaatt\n",
    "    return segment_edits, segment_read_indices"
   ]
  },
  {
   "cell_type": "code",
   "execution_count": null,
   "id": "6fd9b4c3-c623-4db9-b95e-dab6555d6b12",
   "metadata": {},
   "outputs": [],
   "source": [
    "normalize_alignment(msgs[0])[0]  # [\"pPhlF\"]"
   ]
  },
  {
   "cell_type": "code",
   "execution_count": null,
   "id": "fd22b397-4af0-42ac-93a9-c3c2ae4a6f53",
   "metadata": {},
   "outputs": [],
   "source": [
    "normalize_alignment(msgs[1])[0]  # [\"pPhlF\"]"
   ]
  },
  {
   "cell_type": "code",
   "execution_count": null,
   "id": "2159eb5c-d538-41e3-b8d8-f7a75854c753",
   "metadata": {},
   "outputs": [],
   "source": [
    "reverse_complement(msgs[0].sequence[3951:4136])"
   ]
  },
  {
   "cell_type": "code",
   "execution_count": null,
   "id": "cdc203b8-a2b3-41c8-892d-6438c2af3dc3",
   "metadata": {},
   "outputs": [],
   "source": [
    "segments[\"RBS1\"]"
   ]
  },
  {
   "cell_type": "code",
   "execution_count": null,
   "id": "6a069b32-b1d7-41c6-8717-b438284fb00d",
   "metadata": {},
   "outputs": [],
   "source": [
    "msgs[1].sequence[185:206]"
   ]
  },
  {
   "cell_type": "code",
   "execution_count": null,
   "id": "ec58f727-16fe-4103-a4e2-487c044c6acd",
   "metadata": {},
   "outputs": [],
   "source": [
    "msgs[1].sequence[slice(*normalize_alignment(msgs[1])[1][\"RBS1\"])]"
   ]
  },
  {
   "cell_type": "code",
   "execution_count": null,
   "id": "6337ebe1-0d56-4795-b84b-507652ffc3ff",
   "metadata": {},
   "outputs": [],
   "source": [
    "msgs[1].sequence[slice(*normalize_alignment(msgs[1])[1][\"RBS2\"])]"
   ]
  },
  {
   "cell_type": "code",
   "execution_count": null,
   "id": "17786004-0d68-4b47-94a9-92b9f2e46f50",
   "metadata": {},
   "outputs": [],
   "source": [
    "msgs[1].sequence[slice(*normalize_alignment(msgs[1])[1][\"RBS3\"])]"
   ]
  },
  {
   "cell_type": "code",
   "execution_count": null,
   "id": "61f0a742-31c3-4e7b-9699-318ec786ecae",
   "metadata": {},
   "outputs": [],
   "source": [
    "(2506, 2527)"
   ]
  },
  {
   "cell_type": "code",
   "execution_count": null,
   "id": "817f591e-8d0b-4f48-99b6-c4c6a4ce424d",
   "metadata": {},
   "outputs": [],
   "source": [
    "normalize_alignment(msgs[1])[0][\"RBS1\"]"
   ]
  },
  {
   "cell_type": "code",
   "execution_count": null,
   "id": "e852c856-dc99-482e-8e8f-60a6cec87035",
   "metadata": {},
   "outputs": [],
   "source": [
    "msgs[1].path.mapping[1]"
   ]
  },
  {
   "cell_type": "code",
   "execution_count": null,
   "id": "c0804741-a198-4c65-92f3-cafb48ab72aa",
   "metadata": {},
   "outputs": [],
   "source": [
    "msgs[0].path.mapping[-2]"
   ]
  },
  {
   "cell_type": "code",
   "execution_count": null,
   "id": "0cf683d7-2ba8-4a5d-8d6e-af17c54f4be8",
   "metadata": {},
   "outputs": [],
   "source": [
    "normalize_alignment(msgs[1])[0]"
   ]
  },
  {
   "cell_type": "code",
   "execution_count": null,
   "id": "080c9e4c-b393-4027-bded-6b762cc3b1c0",
   "metadata": {},
   "outputs": [],
   "source": [
    "normalize_alignment(msgs[0])[1]"
   ]
  },
  {
   "cell_type": "code",
   "execution_count": null,
   "id": "5efddb79-3d5a-40f9-b60b-4a322495fd8f",
   "metadata": {},
   "outputs": [],
   "source": [
    "normalize_alignment(msgs[0])"
   ]
  },
  {
   "cell_type": "code",
   "execution_count": null,
   "id": "dfe7485f-5161-4bad-804e-5fe699709fa2",
   "metadata": {},
   "outputs": [],
   "source": [
    "position {\n",
    "    node_id: 66\n",
    "    is_reverse: true\n",
    "    name: \"BIT29OFF\"\n",
    "  }"
   ]
  },
  {
   "cell_type": "markdown",
   "id": "b32e1f9b-fbdc-41a9-b050-802b3560bb4f",
   "metadata": {},
   "source": [
    "# Group by barcode"
   ]
  },
  {
   "cell_type": "code",
   "execution_count": null,
   "id": "05e27907-34e6-43a2-9cb0-d3e8659d2a38",
   "metadata": {},
   "outputs": [],
   "source": [
    "# gam_filename = \"duplex_sup1_subsample_vg2.gam\"\n",
    "gam_filename = \"duplex_sup1_vg2.gam\""
   ]
  },
  {
   "cell_type": "code",
   "execution_count": null,
   "id": "d18b3965-acc2-41cb-97bc-d68ea81b8239",
   "metadata": {},
   "outputs": [],
   "source": [
    "from collections import Counter, defaultdict"
   ]
  },
  {
   "cell_type": "code",
   "execution_count": null,
   "id": "4492f026-ff60-46f1-8ea0-baeac599edb9",
   "metadata": {},
   "outputs": [],
   "source": [
    "%%time\n",
    "barcode_msgs = defaultdict(list)\n",
    "# for msg in it.islice(stream.parse(gam_filename, vg_pb2.Alignment), 100_000):\n",
    "for msg in tqdm(stream.parse(gam_filename, vg_pb2.Alignment)):\n",
    "    path = set([m.position.name for m in msg.path.mapping])\n",
    "    if not ((\"BIT0ON\" in path or \"BIT0OFF\" in path) and \"pBetI\" in path):\n",
    "        continue\n",
    "    barcode = tuple(1 if f\"BIT{i}ON\" in path else 0 for i in range(30))\n",
    "    barcode_msgs[barcode].append(msg)"
   ]
  },
  {
   "cell_type": "code",
   "execution_count": null,
   "id": "60a9c846-fec7-40a6-a87c-bb5d1acafcd2",
   "metadata": {},
   "outputs": [],
   "source": [
    "len(barcode_msgs)"
   ]
  },
  {
   "cell_type": "code",
   "execution_count": null,
   "id": "7bdda024-1f55-4ef7-b8f5-44304cb9d3fc",
   "metadata": {},
   "outputs": [],
   "source": [
    "!du -hs *.fastq"
   ]
  },
  {
   "cell_type": "code",
   "execution_count": null,
   "id": "8e1ac230-e335-4f0d-a62b-64dd7799268a",
   "metadata": {},
   "outputs": [],
   "source": [
    "list(sorted(Counter(len(v) for k, v in barcode_msgs.items()).items()))"
   ]
  },
  {
   "cell_type": "code",
   "execution_count": null,
   "id": "d9cedf3b-6aae-47f2-841b-3cf6a375c1ff",
   "metadata": {},
   "outputs": [],
   "source": [
    "barcode_msgs_cluster = defaultdict(list)\n",
    "for k, v in barcode_msgs.items():\n",
    "    barcode_msgs_cluster[len(v)].append(v)"
   ]
  },
  {
   "cell_type": "code",
   "execution_count": null,
   "id": "8c69db3e-5680-40ae-8758-6561d5f17185",
   "metadata": {},
   "outputs": [],
   "source": [
    "msgs = barcode_msgs_cluster[30]"
   ]
  },
  {
   "cell_type": "code",
   "execution_count": null,
   "id": "8330180b-74ac-4bc8-9084-adc367885867",
   "metadata": {},
   "outputs": [],
   "source": [
    "del barcode_msgs_cluster, barcode_msgs"
   ]
  },
  {
   "cell_type": "code",
   "execution_count": null,
   "id": "db0b0e90-01f6-4bbb-a6b6-812964bdafbc",
   "metadata": {},
   "outputs": [],
   "source": [
    "msgs[29]"
   ]
  }
 ],
 "metadata": {
  "kernelspec": {
   "display_name": "Python 3 (ipykernel)",
   "language": "python",
   "name": "python3"
  },
  "language_info": {
   "codemirror_mode": {
    "name": "ipython",
    "version": 3
   },
   "file_extension": ".py",
   "mimetype": "text/x-python",
   "name": "python",
   "nbconvert_exporter": "python",
   "pygments_lexer": "ipython3",
   "version": "3.10.11"
  }
 },
 "nbformat": 4,
 "nbformat_minor": 5
}
