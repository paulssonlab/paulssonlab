{
 "cells": [
  {
   "cell_type": "code",
   "execution_count": null,
   "id": "41c57f7d-eb34-40e9-b810-10d4c44d68b2",
   "metadata": {},
   "outputs": [],
   "source": [
    "import itertools as it\n",
    "import re\n",
    "\n",
    "import gfapy\n",
    "import holoviews as hv\n",
    "import matplotlib.pyplot as plt\n",
    "import numpy as np\n",
    "import pandas as pd\n",
    "import pyarrow as pa\n",
    "from pyarrow import csv\n",
    "from tqdm.auto import tqdm, trange"
   ]
  },
  {
   "cell_type": "code",
   "execution_count": null,
   "id": "f117a156-f6f6-423f-81be-bb5eed890a23",
   "metadata": {},
   "outputs": [],
   "source": [
    "hv.extension(\"bokeh\")"
   ]
  },
  {
   "cell_type": "code",
   "execution_count": null,
   "id": "a42ac136-406c-4b7b-bc46-c160cc31c5c7",
   "metadata": {},
   "outputs": [],
   "source": [
    "!micromamba list|grep protobuf"
   ]
  },
  {
   "cell_type": "code",
   "execution_count": null,
   "id": "3f829381-6d3f-42c8-95af-7ebdf0e5bb54",
   "metadata": {},
   "outputs": [],
   "source": [
    "!micromamba install -y protobuf=4.21.7 async_generator pyarrow"
   ]
  },
  {
   "cell_type": "code",
   "execution_count": null,
   "id": "e0f19477-bf2e-46f2-b254-0f78378d3843",
   "metadata": {},
   "outputs": [],
   "source": [
    "!pip install --no-deps pystream-protobuf"
   ]
  },
  {
   "cell_type": "markdown",
   "id": "a73add2a-6327-4a1d-a8c5-8d8be4cacd24",
   "metadata": {
    "jp-MarkdownHeadingCollapsed": true
   },
   "source": [
    "# GAF"
   ]
  },
  {
   "cell_type": "code",
   "execution_count": null,
   "id": "364d754f-e620-44b1-9727-085d579f55a9",
   "metadata": {},
   "outputs": [],
   "source": [
    "import re\n",
    "from collections import Counter"
   ]
  },
  {
   "cell_type": "code",
   "execution_count": null,
   "id": "257efbfa-f05c-4201-aab8-b110fa6cde7c",
   "metadata": {},
   "outputs": [],
   "source": [
    "def segment_frequences(table, segment_names):\n",
    "    rows = []\n",
    "    for path in table.column(\"path\"):\n",
    "        read_segments = re.split(r\">|<\", str(path))\n",
    "        segment_counts = Counter(read_segments)\n",
    "        rows.append([segment_counts[s] for s in segment_names])\n",
    "    return pd.DataFrame(rows, columns=segment_names, index=table.column(\"name\"))"
   ]
  },
  {
   "cell_type": "code",
   "execution_count": null,
   "id": "624a806b-3a1a-480b-99fe-2355ed9559c0",
   "metadata": {},
   "outputs": [],
   "source": [
    "gfa = gfapy.Gfa.from_file(\"nao745bc.gfa\")"
   ]
  },
  {
   "cell_type": "code",
   "execution_count": null,
   "id": "f24c406b-0574-4ea8-87a0-cacfa5f40391",
   "metadata": {},
   "outputs": [],
   "source": [
    "!du -hs *.gaf"
   ]
  },
  {
   "cell_type": "code",
   "execution_count": null,
   "id": "42e738e7-616a-4fe3-be5b-1764af2655f3",
   "metadata": {},
   "outputs": [],
   "source": [
    "# gaf_filename = \"duplex_hac1_subsample_dbg.gaf\"\n",
    "# gaf_filename = \"duplex_hac1_subsample_dbg2.gaf\"\n",
    "# gaf_filename = \"duplex_hac1_subsample_vg2.gaf\"\n",
    "gaf_filename = \"duplex_sup1_vg2.gaf\""
   ]
  },
  {
   "cell_type": "code",
   "execution_count": null,
   "id": "3627ce22-92d0-4771-aa5c-08b4c2aa18a9",
   "metadata": {},
   "outputs": [],
   "source": [
    "%%time\n",
    "# SEE: http://samtools.github.io/hts-specs/SAMv1.pdf\n",
    "# and https://samtools.github.io/hts-specs/SAMtags.pdf\n",
    "SAM_TAG_TYPES = {\n",
    "    \"A\": pa.dictionary(pa.int32(), pa.string()),\n",
    "    \"f\": pa.float32(),\n",
    "    \"i\": pa.int32(),\n",
    "    \"Z\": pa.string(),\n",
    "}\n",
    "with open(gaf_filename, \"r\") as f:\n",
    "    first = f.readline().split(\"\\t\")\n",
    "tags = first[12:]\n",
    "tag_column_types = {(t := tag.split(\":\"))[0]: SAM_TAG_TYPES[t[1]] for tag in tags}\n",
    "column_types = {\n",
    "    \"name\": pa.string(),\n",
    "    \"query_length\": pa.uint64(),\n",
    "    \"query_start\": pa.uint64(),\n",
    "    \"query_end\": pa.uint64(),\n",
    "    \"strand\": pa.dictionary(pa.int32(), pa.string()),\n",
    "    \"path\": pa.string(),\n",
    "    \"path_length\": pa.uint64(),\n",
    "    \"path_start\": pa.uint64(),\n",
    "    \"path_end\": pa.uint64(),\n",
    "    \"residue_matches\": pa.uint64(),\n",
    "    \"block_length\": pa.uint64(),\n",
    "    \"mapping_quality\": pa.uint8(),\n",
    "    **{tag: pa.string() for tag in tag_column_types.keys()},\n",
    "}\n",
    "read_options = csv.ReadOptions(column_names=column_types.keys())\n",
    "parse_options = csv.ParseOptions(delimiter=\"\\t\")\n",
    "convert_options = csv.ConvertOptions(column_types=column_types)\n",
    "with csv.open_csv(\n",
    "    gaf_filename,\n",
    "    read_options=read_options,\n",
    "    parse_options=parse_options,\n",
    "    convert_options=convert_options,\n",
    ") as f:\n",
    "    # tt = f.read_next_batch()\n",
    "    segment_counts = Counter()\n",
    "    barcode_counts = Counter()\n",
    "    total = 0\n",
    "    duplex = 0\n",
    "    singleton = 0\n",
    "    filtered = 0\n",
    "    # while True:\n",
    "    # for _ in tqdm(it.islice(it.count(), 10)):\n",
    "    for _ in tqdm(it.count()):\n",
    "        try:\n",
    "            table = f.read_next_batch()\n",
    "        except StopIteration:\n",
    "            break\n",
    "        # break\n",
    "        freqs = segment_frequences(table, gfa.segment_names)\n",
    "        duplex += freqs.index.str.contains(\";\").sum()\n",
    "        # filtered_freqs = freqs[(freqs.max(axis=1) == 1) & ((freqs[\"BIT0OFF\"] == 1) | (freqs[\"BIT0ON\"] == 1)) & (freqs[\"pPhlF\"] == 1)]\n",
    "        filtered_freqs = freqs[\n",
    "            freqs.index.str.contains(\";\")\n",
    "            & (freqs.max(axis=1) == 1)\n",
    "            & ((freqs[\"BIT0OFF\"] == 1) | (freqs[\"BIT0ON\"] == 1))\n",
    "            & (freqs[\"RBS1\"] == 1)\n",
    "        ]\n",
    "        # filtered_freqs = freqs\n",
    "        filtered += len(filtered_freqs)\n",
    "        total += len(freqs)\n",
    "        segment_counts.update(list(filtered_freqs.itertuples(index=False)))\n",
    "        barcode_counts.update(\n",
    "            list(\n",
    "                filtered_freqs.loc[\n",
    "                    :, filtered_freqs.columns.str.startswith(\"BIT\")\n",
    "                ].itertuples(index=False)\n",
    "            )\n",
    "        )"
   ]
  },
  {
   "cell_type": "code",
   "execution_count": null,
   "id": "8616bd23-f4bd-4297-bf53-514bb251148a",
   "metadata": {},
   "outputs": [],
   "source": [
    "(filtered, total, filtered / total, duplex, duplex / total)"
   ]
  },
  {
   "cell_type": "code",
   "execution_count": null,
   "id": "5f64c66c-fb58-421f-aee8-6dc4524eaaff",
   "metadata": {},
   "outputs": [],
   "source": [
    "def bit_sums(freqs):\n",
    "    return pd.DataFrame(\n",
    "        {f\"BIT{i}\": freqs[f\"BIT{i}ON\"] + freqs[f\"BIT{i}OFF\"] for i in range(30)}\n",
    "    )"
   ]
  },
  {
   "cell_type": "code",
   "execution_count": null,
   "id": "9763b8e5-1566-4535-ba45-41717a209b24",
   "metadata": {},
   "outputs": [],
   "source": [
    "filtered_freqs.mean(axis=0)"
   ]
  },
  {
   "cell_type": "code",
   "execution_count": null,
   "id": "84214897-f4d2-40ea-a09a-b9749ab9d240",
   "metadata": {},
   "outputs": [],
   "source": [
    "filtered_freqs.loc[:, filtered_freqs.columns.str.endswith(\"ON\")].mean(axis=0).plot.bar()"
   ]
  },
  {
   "cell_type": "code",
   "execution_count": null,
   "id": "d711d797-27e7-4745-8945-b05959a1d41f",
   "metadata": {},
   "outputs": [],
   "source": [
    "filtered_freqs.mean(axis=0).plot.bar()"
   ]
  },
  {
   "cell_type": "code",
   "execution_count": null,
   "id": "e313c97c-52f0-4817-a641-367ba9aae9b7",
   "metadata": {},
   "outputs": [],
   "source": [
    "segment_counts.most_common(3)"
   ]
  },
  {
   "cell_type": "code",
   "execution_count": null,
   "id": "58f78a91-4e6e-41a0-ae5a-ce766391aa0a",
   "metadata": {},
   "outputs": [],
   "source": [
    "barcode_counts.most_common(3)"
   ]
  },
  {
   "cell_type": "code",
   "execution_count": null,
   "id": "ddf65b09-1a1c-41af-92cb-b17b6ba63eb9",
   "metadata": {},
   "outputs": [],
   "source": [
    "plt.hist(barcode_counts.values(), bins=100, log=True);"
   ]
  },
  {
   "cell_type": "code",
   "execution_count": null,
   "id": "7a6384b5-053d-489f-9220-978423617abe",
   "metadata": {},
   "outputs": [],
   "source": [
    "n, bins, patches = plt.hist(\n",
    "    barcode_counts.values(),\n",
    "    100,\n",
    "    histtype=\"step\",\n",
    "    density=False,\n",
    "    cumulative=-1,\n",
    "    log=True,\n",
    ")"
   ]
  },
  {
   "cell_type": "code",
   "execution_count": null,
   "id": "762c6dd2-ebd1-4145-958b-49e8148ced2c",
   "metadata": {},
   "outputs": [],
   "source": [
    "n, bins, patches = plt.hist(\n",
    "    barcode_counts.values(),\n",
    "    100,\n",
    "    range=(0, 10),\n",
    "    histtype=\"step\",\n",
    "    density=False,\n",
    "    cumulative=-1,\n",
    "    log=True,\n",
    ")"
   ]
  },
  {
   "cell_type": "code",
   "execution_count": null,
   "id": "d8d6c3de-aa1b-4b59-8094-344795c9d495",
   "metadata": {},
   "outputs": [],
   "source": [
    "len(barcode_counts)"
   ]
  },
  {
   "cell_type": "code",
   "execution_count": null,
   "id": "4e07ac59-ea7a-435c-9504-d9d8e1120f7f",
   "metadata": {},
   "outputs": [],
   "source": [
    "sum(1 for v in barcode_counts.values() if v == 1)"
   ]
  },
  {
   "cell_type": "code",
   "execution_count": null,
   "id": "239fe3bf-6562-44af-928d-a2587db651ec",
   "metadata": {},
   "outputs": [],
   "source": [
    "sum(1 for v in barcode_counts.values() if v == 2)"
   ]
  },
  {
   "cell_type": "code",
   "execution_count": null,
   "id": "ea99b1ce-83aa-48de-9c1b-adcef9b4df9e",
   "metadata": {},
   "outputs": [],
   "source": [
    "sum(1 for v in barcode_counts.values() if v == 3)"
   ]
  },
  {
   "cell_type": "code",
   "execution_count": null,
   "id": "36efb10b-6dfd-43f6-a399-ecb373ed3bd7",
   "metadata": {},
   "outputs": [],
   "source": [
    "sum(1 for v in barcode_counts.values() if v == 4)"
   ]
  },
  {
   "cell_type": "code",
   "execution_count": null,
   "id": "7172e295-39bf-45c0-b830-5095b3c0d6fd",
   "metadata": {},
   "outputs": [],
   "source": [
    "sum(1 for v in barcode_counts.values() if v >= 5)"
   ]
  },
  {
   "cell_type": "code",
   "execution_count": null,
   "id": "992cbdc7-2319-4e31-82f2-ffc76f7e461e",
   "metadata": {},
   "outputs": [],
   "source": [
    "sum(1 for v in barcode_counts.values() if 5 <= v < 20)"
   ]
  },
  {
   "cell_type": "code",
   "execution_count": null,
   "id": "2df90e05-27a2-4758-b53c-fc9e9302089b",
   "metadata": {},
   "outputs": [],
   "source": [
    "sum(1 for v in barcode_counts.values() if 20 <= v < 100)"
   ]
  },
  {
   "cell_type": "code",
   "execution_count": null,
   "id": "61a12b38-baf6-403e-9687-d3664ead9016",
   "metadata": {},
   "outputs": [],
   "source": [
    "sum(1 for v in barcode_counts.values() if v >= 100)"
   ]
  },
  {
   "cell_type": "code",
   "execution_count": null,
   "id": "2d834b26-1a8e-42bb-8d4c-e5764f5a5317",
   "metadata": {},
   "outputs": [],
   "source": [
    "sum(1 for v in barcode_counts.values() if v >= 100)"
   ]
  },
  {
   "cell_type": "code",
   "execution_count": null,
   "id": "bfb31b75-04c5-46e5-b5cf-e8588612387c",
   "metadata": {},
   "outputs": [],
   "source": [
    "sum(1 for v in barcode_counts.values() if v >= 2)"
   ]
  },
  {
   "cell_type": "code",
   "execution_count": null,
   "id": "7fa20306-0479-44e8-b832-2a4c3ea9637e",
   "metadata": {},
   "outputs": [],
   "source": [
    "max(barcode_counts.values())"
   ]
  },
  {
   "cell_type": "code",
   "execution_count": null,
   "id": "0ef29f66-0b50-486b-a3af-1d9ca56d8220",
   "metadata": {},
   "outputs": [],
   "source": [
    "sum(v for v in barcode_counts.values() if v == 1) / total"
   ]
  },
  {
   "cell_type": "code",
   "execution_count": null,
   "id": "9de66459-1f46-4f65-92c4-21d18507e9cc",
   "metadata": {},
   "outputs": [],
   "source": [
    "sum(1 for v in barcode_counts.values() if v >= 2)"
   ]
  },
  {
   "cell_type": "code",
   "execution_count": null,
   "id": "112d9d6f-31d4-4e23-8e24-145d45786a3a",
   "metadata": {},
   "outputs": [],
   "source": [
    "sum(v for v in barcode_counts.values() if v >= 10)"
   ]
  },
  {
   "cell_type": "code",
   "execution_count": null,
   "id": "0f36df10-91c2-4e1a-b0fd-f5ce027359f3",
   "metadata": {},
   "outputs": [],
   "source": [
    "sum(v for v in barcode_counts.values() if v >= 10) / filtered"
   ]
  },
  {
   "cell_type": "code",
   "execution_count": null,
   "id": "e22083e3-1c23-4fad-8eb6-7f867e619a2c",
   "metadata": {},
   "outputs": [],
   "source": [
    "filtered"
   ]
  },
  {
   "cell_type": "code",
   "execution_count": null,
   "id": "4e56420e-138c-4db1-8733-9e9d5f59288e",
   "metadata": {},
   "outputs": [],
   "source": [
    "sum(v for v in barcode_counts.values())"
   ]
  },
  {
   "cell_type": "code",
   "execution_count": null,
   "id": "ed2ee98d-a203-4f91-acf5-77a015bc7614",
   "metadata": {},
   "outputs": [],
   "source": [
    "n, bins, patches = plt.hist(\n",
    "    barcode_counts.values(),\n",
    "    100,\n",
    "    range=(0, 20),\n",
    "    histtype=\"step\",\n",
    "    density=True,\n",
    "    cumulative=-1,\n",
    "    log=True,\n",
    ")"
   ]
  },
  {
   "cell_type": "code",
   "execution_count": null,
   "id": "fd4114b2-64c4-4823-a2ad-2640b87428c3",
   "metadata": {},
   "outputs": [],
   "source": [
    "gfa.try_get_segment(\"BIT1OFF\")"
   ]
  },
  {
   "cell_type": "code",
   "execution_count": null,
   "id": "3b98b197-c6c7-4ce7-8808-78179f007bf3",
   "metadata": {},
   "outputs": [],
   "source": [
    "import uuid"
   ]
  },
  {
   "cell_type": "code",
   "execution_count": null,
   "id": "43d4b001-7975-416b-8305-3ab697bc7549",
   "metadata": {},
   "outputs": [],
   "source": [
    "u = uuid.UUID(\"6e507a8a-c271-4561-8768-0f9bf9d4c301\")"
   ]
  },
  {
   "cell_type": "code",
   "execution_count": null,
   "id": "a9a777ab-b3cd-42d0-a268-6fb85a9da889",
   "metadata": {},
   "outputs": [],
   "source": [
    "import sys"
   ]
  },
  {
   "cell_type": "code",
   "execution_count": null,
   "id": "ed06a87c-e934-43e3-bb84-cd0ac490dd3a",
   "metadata": {},
   "outputs": [],
   "source": [
    "sys.getsizeof(u.int)"
   ]
  },
  {
   "cell_type": "code",
   "execution_count": null,
   "id": "7aed6ee7-9e71-459d-bfcf-e1946bf8b2ff",
   "metadata": {},
   "outputs": [],
   "source": [
    "sys.getsizeof(\"6e507a8a-c271-4561-8768-0f9bf9d4c301\")"
   ]
  },
  {
   "cell_type": "code",
   "execution_count": null,
   "id": "772202ad-5419-4791-be72-5fff411027d3",
   "metadata": {},
   "outputs": [],
   "source": [
    "u.int"
   ]
  },
  {
   "cell_type": "code",
   "execution_count": null,
   "id": "e1eeeaff-f54e-4584-aaa6-37804acaf492",
   "metadata": {},
   "outputs": [],
   "source": [
    "t[\"cg\"][0]"
   ]
  },
  {
   "cell_type": "code",
   "execution_count": null,
   "id": "f6a2e444-c446-4056-9b93-6a228111b6b9",
   "metadata": {},
   "outputs": [],
   "source": [
    "t[\"name\"].str.split(\";\")"
   ]
  },
  {
   "cell_type": "markdown",
   "id": "7e8d4597-823c-4899-b117-0160ef0fed32",
   "metadata": {},
   "source": [
    "# GAM"
   ]
  },
  {
   "cell_type": "code",
   "execution_count": null,
   "id": "24a13640-9370-4560-b8bb-7f12971a1ad9",
   "metadata": {},
   "outputs": [],
   "source": [
    "# 1) segment_cigars df (segment coördinates, normalize orientation) [numba]\n",
    "# 2) segment_mismatches df (cellwise apply, get insertions/deletions/mismatches/equal)\n",
    "# 3) filter on barcode mismatches (?)\n",
    "# 4) group segment_cigars by barcode, run cigar_aggregation on non-barcode (or all!) segments\n",
    "# 5)"
   ]
  },
  {
   "cell_type": "code",
   "execution_count": null,
   "id": "790f389d-9fca-4231-9089-e4b01526fbc9",
   "metadata": {},
   "outputs": [],
   "source": [
    "import stream\n",
    "import vg_pb2"
   ]
  },
  {
   "cell_type": "code",
   "execution_count": null,
   "id": "1139466d-fe4b-4c85-86da-961547956e99",
   "metadata": {},
   "outputs": [],
   "source": [
    "gfa_filename = \"nao745bc.gfa\"\n",
    "gfa = gfapy.Gfa.from_file(gfa_filename)\n",
    "segments = {s.name: s.sequence for s in gfa.segments}"
   ]
  },
  {
   "cell_type": "code",
   "execution_count": null,
   "id": "b5aa2cec-c48c-42d5-9556-2798d00ad1ce",
   "metadata": {},
   "outputs": [],
   "source": [
    "# gam_filename = \"duplex_sup1_subsample_vg2.gam\"\n",
    "# gam_filename = \"reverse_test_duplex.gam\"\n",
    "gam_filename = \"reverse_test_simplex.gam\"\n",
    "# gam_filename = \"reverse_test_duplex_t1.gam\""
   ]
  },
  {
   "cell_type": "code",
   "execution_count": null,
   "id": "5ab19dc1-f7d9-4136-a2d0-cd171dd8864c",
   "metadata": {},
   "outputs": [],
   "source": [
    "msgs = list(stream.parse(gam_filename, vg_pb2.Alignment))"
   ]
  },
  {
   "cell_type": "code",
   "execution_count": null,
   "id": "c7f2c79a-b935-4358-a8af-ede7ada7b277",
   "metadata": {},
   "outputs": [],
   "source": [
    "!head -n 4 duplex_sup1_subsample.fastq"
   ]
  },
  {
   "cell_type": "code",
   "execution_count": null,
   "id": "bd9efa55-6af3-4730-b0cb-df9899419da5",
   "metadata": {},
   "outputs": [],
   "source": [
    "for msg in stream.parse(gam_filename, vg_pb2.Alignment):\n",
    "    if \";\" in msg.name:\n",
    "        continue\n",
    "    # print(msg)\n",
    "    # print()\n",
    "    # print(\"************\")\n",
    "    # print()\n",
    "    break"
   ]
  },
  {
   "cell_type": "code",
   "execution_count": null,
   "id": "60798e0e-2cbc-470f-abef-e4f5e112ee89",
   "metadata": {},
   "outputs": [],
   "source": [
    "for msg in it.islice(stream.parse(gam_filename, vg_pb2.Alignment), 1):\n",
    "    pass\n",
    "    # print(msg)\n",
    "    # print()\n",
    "    # print(\"************\")\n",
    "    # print()"
   ]
  },
  {
   "cell_type": "code",
   "execution_count": null,
   "id": "2cbac4a8-7122-430f-975c-554be4495b95",
   "metadata": {},
   "outputs": [],
   "source": [
    "msgs[0].name"
   ]
  },
  {
   "cell_type": "code",
   "execution_count": null,
   "id": "cf993fbd-13f3-4104-ac41-a278353b4f8e",
   "metadata": {},
   "outputs": [],
   "source": [
    "# TODO: use paulssonlab.cloning.workflow.DEGENERATE_BASES_REGEX\n",
    "DEGENERATE_BASES = \"RYMKSWHBVDN\".lower()\n",
    "DEGENERATE_BASES_REGEX = re.compile(f\"[{DEGENERATE_BASES}]\", re.IGNORECASE)"
   ]
  },
  {
   "cell_type": "code",
   "execution_count": null,
   "id": "1811c83e-d230-452d-8174-6b31f4cdf42e",
   "metadata": {},
   "outputs": [],
   "source": [
    "segment_degenerate_bases = {\n",
    "    name: [m.start(0) for m in re.finditer(DEGENERATE_BASES_REGEX, segments[\"RBS1\"])]\n",
    "    for name, seq in segments.items()\n",
    "}"
   ]
  },
  {
   "cell_type": "code",
   "execution_count": null,
   "id": "b539cfe4-24c5-46e3-b902-288852cbe817",
   "metadata": {},
   "outputs": [],
   "source": [
    "from enum import Enum\n",
    "from typing import NamedTuple\n",
    "\n",
    "\n",
    "class Op(Enum):\n",
    "    INSERTION = 1\n",
    "    DELETION = 2\n",
    "    SUBSTITUTION = 3\n",
    "\n",
    "\n",
    "class Edit(NamedTuple):\n",
    "    op: Op\n",
    "    index: int\n",
    "    seq: str\n",
    "    length: int\n",
    "\n",
    "    def __repr__(self):\n",
    "        match self.op:\n",
    "            case Op.INSERTION:\n",
    "                return f\"I:{self.index}:{self.seq or ''}\"\n",
    "            case Op.DELETION:\n",
    "                return f\"D:{self.index}:{self.length}\"\n",
    "            case Op.SUBSTITUTION:\n",
    "                return f\"S:{self.index}:{self.seq or ''}\"\n",
    "            case _:\n",
    "                return f\"{self.op}:{self.index}:{self.seq or self.length or ''}\"\n",
    "\n",
    "    __str__ = __repr__"
   ]
  },
  {
   "cell_type": "code",
   "execution_count": null,
   "id": "1c1c6faa-46d3-4fab-aba6-3b6557f1ccee",
   "metadata": {},
   "outputs": [],
   "source": [
    "from Bio.Seq import Seq\n",
    "\n",
    "\n",
    "def local_index(index, length, is_reverse):\n",
    "    if is_reverse:\n",
    "        return length - index\n",
    "    else:\n",
    "        return index\n",
    "\n",
    "\n",
    "def reverse_complement(seq):\n",
    "    return str(Seq(seq).reverse_complement())\n",
    "\n",
    "\n",
    "def reversed_seq(seq, is_reverse):\n",
    "    if is_reverse:\n",
    "        return reverse_complement(seq)\n",
    "    else:\n",
    "        return seq\n",
    "\n",
    "\n",
    "def extract_read_segments(msg):\n",
    "    segment_seqs = {}\n",
    "    # segment_read_indices = {}\n",
    "    read_index = 0\n",
    "    for mapping in msg.path.mapping:\n",
    "        segment_name = mapping.position.name\n",
    "        offset = mapping.position.offset\n",
    "        segment_read_start = read_index\n",
    "        is_reverse = mapping.position.is_reverse\n",
    "        segment_length = len(segments[segment_name])\n",
    "        for edit in mapping.edit:\n",
    "            if edit.from_length == edit.to_length:\n",
    "                # snp/match\n",
    "                read_index += edit.to_length\n",
    "            elif not edit.to_length:\n",
    "                # deletion\n",
    "                continue\n",
    "            elif edit.from_length < edit.to_length:\n",
    "                # insertion\n",
    "                # if from_length > 0: need to remove matching bases from both sides\n",
    "                assert edit.from_length == 0\n",
    "                read_index += edit.to_length\n",
    "        segment_read_end = read_index\n",
    "        seq = msg.sequence[segment_read_start:segment_read_end]\n",
    "        if is_reverse:\n",
    "            seq = reverse_complement(seq)\n",
    "        segment_seqs[segment_name] = seq\n",
    "        # segment_read_indices[segment_name] = (segment_read_start, segment_read_end)\n",
    "    return segment_seqs"
   ]
  },
  {
   "cell_type": "markdown",
   "id": "b32e1f9b-fbdc-41a9-b050-802b3560bb4f",
   "metadata": {},
   "source": [
    "# Group by barcode"
   ]
  },
  {
   "cell_type": "code",
   "execution_count": null,
   "id": "05e27907-34e6-43a2-9cb0-d3e8659d2a38",
   "metadata": {},
   "outputs": [],
   "source": [
    "# gam_filename = \"duplex_sup1_subsample_vg2.gam\"\n",
    "gam_filename = \"duplex_sup1_vg2.gam\""
   ]
  },
  {
   "cell_type": "code",
   "execution_count": null,
   "id": "d18b3965-acc2-41cb-97bc-d68ea81b8239",
   "metadata": {},
   "outputs": [],
   "source": [
    "from collections import Counter, defaultdict"
   ]
  },
  {
   "cell_type": "code",
   "execution_count": null,
   "id": "4492f026-ff60-46f1-8ea0-baeac599edb9",
   "metadata": {},
   "outputs": [],
   "source": [
    "%%time\n",
    "barcode_msgs = defaultdict(list)\n",
    "for msg in tqdm(it.islice(stream.parse(gam_filename, vg_pb2.Alignment), 100_000)):\n",
    "    # for msg in tqdm(stream.parse(gam_filename, vg_pb2.Alignment)):\n",
    "    path = set([m.position.name for m in msg.path.mapping])\n",
    "    if not ((\"BIT0ON\" in path or \"BIT0OFF\" in path) and \"pBetI\" in path):\n",
    "        continue\n",
    "    barcode = tuple(1 if f\"BIT{i}ON\" in path else 0 for i in range(30))\n",
    "    barcode_msgs[barcode].append(msg)"
   ]
  },
  {
   "cell_type": "code",
   "execution_count": null,
   "id": "f9e97f65-6258-4dac-8cdd-d53f5b332604",
   "metadata": {},
   "outputs": [],
   "source": [
    "%%time\n",
    "threshold = 3\n",
    "culling_interval = 100_000\n",
    "reps = 30\n",
    "barcode_msgs = defaultdict(list)\n",
    "\n",
    "reader = stream.parse(gam_filename, vg_pb2.Alignment)\n",
    "for rep in trange(reps):\n",
    "    try:\n",
    "        for msg in tqdm(it.islice(reader, culling_interval)):\n",
    "            path = set([m.position.name for m in msg.path.mapping])\n",
    "            if not ((\"BIT0ON\" in path or \"BIT0OFF\" in path) and \"pBetI\" in path):\n",
    "                continue\n",
    "            barcode = tuple(1 if f\"BIT{i}ON\" in path else 0 for i in range(30))\n",
    "            barcode_msgs[barcode].append(msg)\n",
    "    except StopIteration:\n",
    "        print(\"DONE!\")\n",
    "        pass\n",
    "    remove_keys = []\n",
    "    for k, v in barcode_msgs.items():\n",
    "        if len(v) < threshold:\n",
    "            remove_keys.append(k)\n",
    "    for k in remove_keys:\n",
    "        del barcode_msgs[k]"
   ]
  },
  {
   "cell_type": "code",
   "execution_count": null,
   "id": "60a9c846-fec7-40a6-a87c-bb5d1acafcd2",
   "metadata": {},
   "outputs": [],
   "source": [
    "len(barcode_msgs)"
   ]
  },
  {
   "cell_type": "code",
   "execution_count": null,
   "id": "8e1ac230-e335-4f0d-a62b-64dd7799268a",
   "metadata": {},
   "outputs": [],
   "source": [
    "list(sorted(Counter(len(v) for k, v in barcode_msgs.items()).items()))"
   ]
  },
  {
   "cell_type": "code",
   "execution_count": null,
   "id": "d9cedf3b-6aae-47f2-841b-3cf6a375c1ff",
   "metadata": {},
   "outputs": [],
   "source": [
    "barcode_msgs_cluster = defaultdict(list)\n",
    "for k, v in barcode_msgs.items():\n",
    "    barcode_msgs_cluster[len(v)].append(v)"
   ]
  },
  {
   "cell_type": "code",
   "execution_count": null,
   "id": "8c69db3e-5680-40ae-8758-6561d5f17185",
   "metadata": {},
   "outputs": [],
   "source": [
    "msgs = barcode_msgs_cluster[109][1]"
   ]
  },
  {
   "cell_type": "code",
   "execution_count": null,
   "id": "8330180b-74ac-4bc8-9084-adc367885867",
   "metadata": {},
   "outputs": [],
   "source": [
    "del barcode_msgs_cluster, barcode_msgs"
   ]
  },
  {
   "cell_type": "markdown",
   "id": "7b425ccd-7b2b-410f-ad41-6e67206ec329",
   "metadata": {},
   "source": [
    "# Edit distances"
   ]
  },
  {
   "cell_type": "code",
   "execution_count": null,
   "id": "933d58bd-7a2a-45c3-b3b8-ed1b66c95668",
   "metadata": {},
   "outputs": [],
   "source": [
    "import edlib"
   ]
  },
  {
   "cell_type": "code",
   "execution_count": null,
   "id": "c3c2f326-13a0-49de-8428-d8d22d9760ff",
   "metadata": {},
   "outputs": [],
   "source": [
    "extract_read_segments(msgs[0])[\"RBS2\"]"
   ]
  },
  {
   "cell_type": "code",
   "execution_count": null,
   "id": "aa678aaa-2b38-42e6-a61e-91114f3b0667",
   "metadata": {},
   "outputs": [],
   "source": [
    "extract_read_segments(msgs[1])[\"RBS2\"]"
   ]
  },
  {
   "cell_type": "code",
   "execution_count": null,
   "id": "2fe6beca-b260-4b92-a6d0-c1519e3fe5ef",
   "metadata": {},
   "outputs": [],
   "source": [
    "edlib.align(\"AACATAGAGGGATTATTGG\", \"AACATAAGGGGCTCCG\", task=\"path\")[\"editDistance\"]"
   ]
  },
  {
   "cell_type": "code",
   "execution_count": null,
   "id": "b2e87752-0e12-47ee-afd6-55637577e637",
   "metadata": {},
   "outputs": [],
   "source": [
    "import edlib\n",
    "\n",
    "\n",
    "def align(a, b):\n",
    "    res = edlib.align(a, b, task=\"path\")\n",
    "    print(\"\\n\".join(edlib.getNiceAlignment(res, a, b).values()))"
   ]
  },
  {
   "cell_type": "code",
   "execution_count": null,
   "id": "d153eb0f-5dc3-4a0e-8a5b-085493458dd2",
   "metadata": {},
   "outputs": [],
   "source": [
    "align(\"AACATAGAGGGATTATTGG\", \"AACATAAGGGGCTCCG\")"
   ]
  },
  {
   "cell_type": "code",
   "execution_count": null,
   "id": "c809acd4-4faf-4e8d-b8ee-6d7cef2e7a5b",
   "metadata": {},
   "outputs": [],
   "source": [
    "def distance_matrices(msgs, segments):\n",
    "    Ms = {}\n",
    "    extracted_segments = [extract_read_segments(msg) for msg in msgs]\n",
    "    for segment in tqdm(segments.keys()):\n",
    "        if segment not in extracted_segments[0]:\n",
    "            continue\n",
    "        M = np.zeros((len(msgs), len(msgs)), dtype=np.uint16)\n",
    "        for i in range(len(msgs)):\n",
    "            s1 = extracted_segments[i][segment]\n",
    "            for j in range(i):\n",
    "                s2 = extracted_segments[j][segment]\n",
    "                M[i, j] = M[j, i] = edlib.align(s1, s2)[\"editDistance\"]\n",
    "        Ms[segment] = M\n",
    "    return Ms"
   ]
  },
  {
   "cell_type": "code",
   "execution_count": null,
   "id": "6f13f20c-0023-4a91-8c17-0a914de58974",
   "metadata": {},
   "outputs": [],
   "source": [
    "Ms = distance_matrices([msg for msg in msgs if \";\" in msg.name], segments)\n",
    "Ms2 = distance_matrices([msg for msg in msgs], segments)"
   ]
  },
  {
   "cell_type": "code",
   "execution_count": null,
   "id": "802973e3-82ae-4c2b-850c-6db49ff39db6",
   "metadata": {},
   "outputs": [],
   "source": [
    "import scipy\n",
    "from scipy.cluster import hierarchy\n",
    "\n",
    "\n",
    "def sorted_matrix_indices(arr):\n",
    "    # return arr[0].argsort()\n",
    "    linkage = hierarchy.linkage(\n",
    "        scipy.spatial.distance.squareform(arr), method=\"single\", metric=\"euclidean\"\n",
    "    )\n",
    "    return hierarchy.dendrogram(linkage, no_plot=True, color_threshold=-np.inf)[\n",
    "        \"leaves\"\n",
    "    ]\n",
    "\n",
    "\n",
    "def sort_matrix(arr, idxs=None):\n",
    "    if idxs is None:\n",
    "        idxs = sorted_matrix_indices(arr)\n",
    "    return arr[idxs, :][:, idxs]"
   ]
  },
  {
   "cell_type": "code",
   "execution_count": null,
   "id": "d784457e-59a5-475e-8bcc-44b5c2f68ff4",
   "metadata": {},
   "outputs": [],
   "source": [
    "idxs = sorted_matrix_indices(Ms[\"BetI\"])\n",
    "plt.imshow(sort_matrix(Ms[\"BetI\"], idxs));"
   ]
  },
  {
   "cell_type": "code",
   "execution_count": null,
   "id": "07848196-1cfd-4b52-b47d-8bd487ac1784",
   "metadata": {},
   "outputs": [],
   "source": [
    "segments.keys()"
   ]
  },
  {
   "cell_type": "code",
   "execution_count": null,
   "id": "c77f5308-081a-4d0f-a087-7a100ab38512",
   "metadata": {},
   "outputs": [],
   "source": [
    "idxs = sorted_matrix_indices(Ms[\"RBS2\"])"
   ]
  },
  {
   "cell_type": "code",
   "execution_count": null,
   "id": "45b7c798-3ca6-44d6-ba03-7f23b9520382",
   "metadata": {},
   "outputs": [],
   "source": [
    "idxs = sorted_matrix_indices(Ms[\"RBS1\"] + Ms[\"RBS2\"] + Ms[\"RBS3\"])"
   ]
  },
  {
   "cell_type": "code",
   "execution_count": null,
   "id": "8ddc1792-d2de-4630-935f-77b9347eae70",
   "metadata": {},
   "outputs": [],
   "source": [
    "plt.imshow(sort_matrix(Ms[\"RBS2\"], idxs));"
   ]
  },
  {
   "cell_type": "code",
   "execution_count": null,
   "id": "912bb271-18c5-44b4-b40d-365d8d6d031a",
   "metadata": {},
   "outputs": [],
   "source": [
    "plt.imshow(sort_matrix(Ms[\"RBS3\"], idxs));"
   ]
  },
  {
   "cell_type": "code",
   "execution_count": null,
   "id": "b30b0b32-3334-43eb-aa34-a60fa73b969e",
   "metadata": {},
   "outputs": [],
   "source": [
    "plt.imshow(sort_matrix(Ms[\"RBS1\"], idxs));"
   ]
  },
  {
   "cell_type": "code",
   "execution_count": null,
   "id": "fd94426f-7dc1-46f0-aa99-f8701c354c87",
   "metadata": {},
   "outputs": [],
   "source": [
    "idxs2 = sorted_matrix_indices(Ms2[\"RBS2\"])"
   ]
  },
  {
   "cell_type": "code",
   "execution_count": null,
   "id": "50bbaeac-f39b-4f57-a856-a832c33483e0",
   "metadata": {},
   "outputs": [],
   "source": [
    "idxs2 = sorted_matrix_indices(Ms2[\"RBS1\"] + Ms2[\"RBS2\"] + Ms2[\"RBS3\"])"
   ]
  },
  {
   "cell_type": "code",
   "execution_count": null,
   "id": "d6048bc4-8f6e-4278-a5e8-69aa25f90f85",
   "metadata": {},
   "outputs": [],
   "source": [
    "segments.keys()"
   ]
  },
  {
   "cell_type": "code",
   "execution_count": null,
   "id": "eb520cb9-1008-440d-9d3d-e2745edde383",
   "metadata": {},
   "outputs": [],
   "source": [
    "idxs2 = sorted_matrix_indices(Ms2[\"pBetI\"] + Ms2[\"pTac\"] + Ms2[\"pPhlF\"] + +Ms2[\"BetI\"])"
   ]
  },
  {
   "cell_type": "code",
   "execution_count": null,
   "id": "4f8ac3aa-1669-425a-8dea-9619cfa1b240",
   "metadata": {},
   "outputs": [],
   "source": [
    "# TODO: try adding barcode bits?? does that help? [no]"
   ]
  },
  {
   "cell_type": "code",
   "execution_count": null,
   "id": "bf9009c0-a42f-401e-9a68-d3490eb69f91",
   "metadata": {},
   "outputs": [],
   "source": [
    "plt.imshow(sort_matrix(Ms2[\"pBetI\"] + Ms2[\"pTac\"] + Ms2[\"pPhlF\"] + Ms2[\"BetI\"], idxs2));"
   ]
  },
  {
   "cell_type": "code",
   "execution_count": null,
   "id": "fe89ebf0-59e7-48fc-a235-e7dbfe320de1",
   "metadata": {},
   "outputs": [],
   "source": [
    "plt.imshow(sort_matrix(Ms2[\"RBS1\"] + Ms2[\"RBS2\"] + Ms2[\"RBS3\"], idxs2));"
   ]
  },
  {
   "cell_type": "code",
   "execution_count": null,
   "id": "4dbf5bd9-2e71-446a-9f6d-d18c9580183a",
   "metadata": {},
   "outputs": [],
   "source": [
    "plt.imshow(sort_matrix(Ms2[\"RBS1\"], idxs2));"
   ]
  },
  {
   "cell_type": "code",
   "execution_count": null,
   "id": "09f31285-e476-42f5-a5db-2e100944a5ac",
   "metadata": {},
   "outputs": [],
   "source": [
    "plt.imshow(sort_matrix(Ms2[\"RBS2\"], idxs2));"
   ]
  },
  {
   "cell_type": "code",
   "execution_count": null,
   "id": "31e99833-a51e-4437-a522-41ae2ecab414",
   "metadata": {},
   "outputs": [],
   "source": [
    "plt.imshow(sort_matrix(Ms2[\"RBS3\"], idxs2));"
   ]
  },
  {
   "cell_type": "code",
   "execution_count": null,
   "id": "396c0f8e-938a-48a7-be07-d98126fadec5",
   "metadata": {},
   "outputs": [],
   "source": [
    "plt.imshow(sort_matrix(Ms2[\"pPhlF\"], idxs2));"
   ]
  },
  {
   "cell_type": "code",
   "execution_count": null,
   "id": "6c1223b3-4209-4da7-93c7-81e09a7dd40f",
   "metadata": {},
   "outputs": [],
   "source": [
    "plt.imshow(sort_matrix(Ms2[\"BetI\"], idxs2));"
   ]
  },
  {
   "cell_type": "code",
   "execution_count": null,
   "id": "dcb14372-1c76-49f2-ab7f-f1c1534d99f2",
   "metadata": {},
   "outputs": [],
   "source": [
    "extract_read_segments(msgs[idxs2[0]])[\"RBS2\"]"
   ]
  },
  {
   "cell_type": "code",
   "execution_count": null,
   "id": "47d2c4a1-1f24-4c04-a506-b2288a409dc5",
   "metadata": {},
   "outputs": [],
   "source": [
    "extract_read_segments(msgs[idxs2[12]])[\"RBS2\"]"
   ]
  },
  {
   "cell_type": "code",
   "execution_count": null,
   "id": "188ecab6-8d50-4fdc-8e5e-18ff91debdd9",
   "metadata": {},
   "outputs": [],
   "source": [
    "edlib.align(\"AACATAGAAAGGGGGTTCCT\", \"AACATAGAAGGGGGTCCTCG\")[\"editDistance\"]"
   ]
  },
  {
   "cell_type": "code",
   "execution_count": null,
   "id": "17dc5f48-ef7c-4ed2-9fb5-68bc6df0ea76",
   "metadata": {},
   "outputs": [],
   "source": [
    "np.argsort(M[0, :])"
   ]
  },
  {
   "cell_type": "code",
   "execution_count": null,
   "id": "0e805ea8-930b-44f4-b73d-b728e06685d5",
   "metadata": {},
   "outputs": [],
   "source": [
    "Counter([extract_read_segments(msg)[\"RBS2\"] for msg in msgs if \";\" in msg.name])"
   ]
  },
  {
   "cell_type": "code",
   "execution_count": null,
   "id": "443a5c13-f8ab-4e42-b143-e4abfc7c6435",
   "metadata": {},
   "outputs": [],
   "source": [
    "segments[\"RBS2\"]"
   ]
  },
  {
   "cell_type": "code",
   "execution_count": null,
   "id": "47e1484b-3573-4da3-979a-8145e5cbcb85",
   "metadata": {},
   "outputs": [],
   "source": [
    "Counter([extract_read_segments(msg)[\"RBS2\"] for msg in msgs])"
   ]
  },
  {
   "cell_type": "code",
   "execution_count": null,
   "id": "526683c7-ede0-4cf2-840a-6a9df590513e",
   "metadata": {},
   "outputs": [],
   "source": [
    "len(msgs)"
   ]
  },
  {
   "cell_type": "code",
   "execution_count": null,
   "id": "a781c0d4-60eb-4aca-953e-a33714f868f9",
   "metadata": {},
   "outputs": [],
   "source": [
    "def distance_matrices2(msgs):\n",
    "    Ms = {}\n",
    "    extracted_segments = [extract_read_segments(msg) for msg in msgs]\n",
    "    for x in extracted_segments:\n",
    "        for k in list(x.keys()):\n",
    "            x[k + \"_start\"] = x[k][:20]\n",
    "            x[k + \"_end\"] = x[k][-20:]\n",
    "    for segment in tqdm(extracted_segments[0].keys()):\n",
    "        if segment not in extracted_segments[0]:\n",
    "            continue\n",
    "        M = np.zeros((len(msgs), len(msgs)), dtype=np.uint16)\n",
    "        for i in range(len(msgs)):\n",
    "            s1 = extracted_segments[i][segment]\n",
    "            for j in range(i):\n",
    "                s2 = extracted_segments[j][segment]\n",
    "                M[i, j] = M[j, i] = edlib.align(s1, s2)[\"editDistance\"]\n",
    "        Ms[segment] = M\n",
    "    return Ms"
   ]
  },
  {
   "cell_type": "code",
   "execution_count": null,
   "id": "fcb0c15f-87ad-491a-a597-9f65d0c4a1f0",
   "metadata": {},
   "outputs": [],
   "source": [
    "Mss = distance_matrices2([msg for msg in msgs if \";\" in msg.name])\n",
    "Mss2 = distance_matrices2([msg for msg in msgs])"
   ]
  },
  {
   "cell_type": "code",
   "execution_count": null,
   "id": "2a65b3e1-943b-4830-bf45-be0168a0952a",
   "metadata": {},
   "outputs": [],
   "source": [
    "segments.keys()"
   ]
  },
  {
   "cell_type": "code",
   "execution_count": null,
   "id": "db1e740c-24ad-4328-937b-108694c97a4a",
   "metadata": {},
   "outputs": [],
   "source": [
    "idxss = sorted_matrix_indices(Mss[\"pPhlF_start\"])\n",
    "idxss2 = sorted_matrix_indices(Mss2[\"pPhlF_start\"])"
   ]
  },
  {
   "cell_type": "code",
   "execution_count": null,
   "id": "30ac0bfc-384d-4ca4-a5d8-ac4712428cc2",
   "metadata": {},
   "outputs": [],
   "source": [
    "plt.imshow(sort_matrix(Mss[\"pPhlF_end\"], idxss));"
   ]
  },
  {
   "cell_type": "markdown",
   "id": "c622f4f4-b1ed-4ab1-bed9-5e0d0a340cf7",
   "metadata": {},
   "source": [
    "# 230418 Quick Look"
   ]
  },
  {
   "cell_type": "code",
   "execution_count": null,
   "id": "3f603ad9-ef18-48e3-9e4a-979ddefac2f5",
   "metadata": {},
   "outputs": [],
   "source": [
    "# gam_filename = \"nao719_20_21_prom_v2.gam\"\n",
    "# gam_filename = \"nao719_20_21_v2.gam\""
   ]
  },
  {
   "cell_type": "code",
   "execution_count": null,
   "id": "432e57b9-11d5-48bd-8b21-c08b3426d57d",
   "metadata": {},
   "outputs": [],
   "source": [
    "msgs = []\n",
    "for msg in tqdm(it.islice(stream.parse(gam_filename, vg_pb2.Alignment), 100_000)):\n",
    "    path = set([m.position.name for m in msg.path.mapping])\n",
    "    if not ((\"BIT0ON\" in path or \"BIT0OFF\" in path) and \"mScarletI\" in path):\n",
    "        continue\n",
    "    msgs.append(msg)"
   ]
  },
  {
   "cell_type": "code",
   "execution_count": null,
   "id": "1d25baaa-938d-4bea-9ac2-5ba094e29c79",
   "metadata": {},
   "outputs": [],
   "source": [
    "edlib.align(\"AACATAGAGGGATTATTGG\", \"AACATAAGGGGCTCCG\", task=\"path\")[\"editDistance\"]"
   ]
  },
  {
   "cell_type": "code",
   "execution_count": null,
   "id": "de15be3b-9c5c-4c64-9882-a1fe06295003",
   "metadata": {},
   "outputs": [],
   "source": [
    "align(extract_read_segments(msgs[0])[\"Lagator_89\"].lower(), segments[\"Lagator_89\"])"
   ]
  },
  {
   "cell_type": "code",
   "execution_count": null,
   "id": "9415ea78-a6b9-49f2-aa75-b02297ed31f6",
   "metadata": {},
   "outputs": [],
   "source": [
    "dists = {\n",
    "    i: edlib.align(\n",
    "        extract_read_segments(msgs[0])[\"Lagator_89\"].lower(), segments[f\"Lagator_{i}\"]\n",
    "    )[\"editDistance\"]\n",
    "    for i in range(100)\n",
    "}"
   ]
  },
  {
   "cell_type": "code",
   "execution_count": null,
   "id": "9d60e52b-f2c5-44c9-a92e-a3c329420211",
   "metadata": {},
   "outputs": [],
   "source": [
    "sorted(dists.items(), key=lambda x: x[1])"
   ]
  },
  {
   "cell_type": "code",
   "execution_count": null,
   "id": "227ac658-ccdb-4147-88d6-637178244827",
   "metadata": {},
   "outputs": [],
   "source": [
    "for i in range(100):\n",
    "    align(\n",
    "        extract_read_segments(msgs[0])[\"Lagator_89\"].lower(), segments[f\"Lagator_{i}\"]\n",
    "    )"
   ]
  },
  {
   "cell_type": "code",
   "execution_count": null,
   "id": "5fd5b7f2-80e3-4c3d-a564-8e8f690008ed",
   "metadata": {},
   "outputs": [],
   "source": [
    "msgs[0]"
   ]
  },
  {
   "cell_type": "markdown",
   "id": "c8d2dc23-cf31-4c1f-abe4-02b4ddf8ace8",
   "metadata": {},
   "source": [
    "# 230418 Prom vs. non-prom GFAs"
   ]
  },
  {
   "cell_type": "code",
   "execution_count": null,
   "id": "6105463a-5ddf-4d51-a749-91d593c7907f",
   "metadata": {},
   "outputs": [],
   "source": [
    "gam_filename1 = \"nao719_20_21_v2.gam\"\n",
    "msgs1 = []\n",
    "for msg in tqdm(it.islice(stream.parse(gam_filename1, vg_pb2.Alignment), 100_000)):\n",
    "    path = set([m.position.name for m in msg.path.mapping])\n",
    "    if not ((\"BIT0ON\" in path or \"BIT0OFF\" in path) and \"mScarletI\" in path):\n",
    "        continue\n",
    "    msgs1.append(msg)"
   ]
  },
  {
   "cell_type": "code",
   "execution_count": null,
   "id": "7df1d856-196b-460e-af06-c0b58c3386a3",
   "metadata": {},
   "outputs": [],
   "source": [
    "gam_filename2 = \"nao719_20_21_prom_v2.gam\"\n",
    "msgs2 = []\n",
    "for msg in tqdm(it.islice(stream.parse(gam_filename2, vg_pb2.Alignment), 100_000)):\n",
    "    path = set([m.position.name for m in msg.path.mapping])\n",
    "    if not ((\"BIT0ON\" in path or \"BIT0OFF\" in path) and \"mScarletI\" in path):\n",
    "        continue\n",
    "    msgs2.append(msg)"
   ]
  },
  {
   "cell_type": "code",
   "execution_count": null,
   "id": "17b3c313-b631-4c9d-8152-add097e04431",
   "metadata": {},
   "outputs": [],
   "source": [
    "proms1 = {\n",
    "    msg.name: seq\n",
    "    for msg in tqdm(msgs1)\n",
    "    if (seq := extract_read_segments(msg).get(\"Lagator\"))\n",
    "}"
   ]
  },
  {
   "cell_type": "code",
   "execution_count": null,
   "id": "41956c68-3f23-4220-bc31-8df934a27903",
   "metadata": {},
   "outputs": [],
   "source": [
    "len(proms1)"
   ]
  },
  {
   "cell_type": "code",
   "execution_count": null,
   "id": "54dea10a-7434-472f-b67e-98af3d7a3489",
   "metadata": {},
   "outputs": [],
   "source": [
    "proms2 = {\n",
    "    msg.name: (seq, seg)\n",
    "    for msg in tqdm(msgs2)\n",
    "    if (\n",
    "        seq := extract_read_segments(msg).get(\n",
    "            seg := next(\n",
    "                (\n",
    "                    m.position.name\n",
    "                    for m in msg.path.mapping\n",
    "                    if m.position.name.startswith(\"Lagator_\")\n",
    "                ),\n",
    "                None,\n",
    "            )\n",
    "        )\n",
    "    )\n",
    "}"
   ]
  },
  {
   "cell_type": "code",
   "execution_count": null,
   "id": "9b0aadf6-a23f-4042-9790-5b1a260b4913",
   "metadata": {},
   "outputs": [],
   "source": [
    "len(proms2)"
   ]
  },
  {
   "cell_type": "code",
   "execution_count": null,
   "id": "fc8f74e5-c08a-483c-a2a8-14b44929c69d",
   "metadata": {},
   "outputs": [],
   "source": [
    "len(segments[\"Lagator_89\"])"
   ]
  },
  {
   "cell_type": "code",
   "execution_count": null,
   "id": "a6b2750c-cf8a-4ee4-b078-1b291858a431",
   "metadata": {},
   "outputs": [],
   "source": [
    "for k in it.islice(proms1.keys() & proms2.keys(), 100):\n",
    "    # print(len(proms1[k]), len(proms2[k]))\n",
    "    align(proms1[k], proms2[k][0])\n",
    "    print(segments[proms2[k][1]])\n",
    "    print()"
   ]
  },
  {
   "cell_type": "markdown",
   "id": "7c25a609-3450-48f3-a75d-f65d18680c01",
   "metadata": {},
   "source": [
    "# 230418 Collisions"
   ]
  },
  {
   "cell_type": "code",
   "execution_count": null,
   "id": "d837c20d-e7b3-413a-b778-e3e5a748d455",
   "metadata": {},
   "outputs": [],
   "source": [
    "from collections import Counter, defaultdict"
   ]
  },
  {
   "cell_type": "code",
   "execution_count": null,
   "id": "87b58e57-090e-4286-9f1c-85ab01392643",
   "metadata": {},
   "outputs": [],
   "source": [
    "# gam_filename = \"nao719_20_21_prom.gam\"\n",
    "# gam_filename = \"nao719_20_21.gam\"\n",
    "gam_filename = \"nao719_20_21_subsample_v2.gam\""
   ]
  },
  {
   "cell_type": "code",
   "execution_count": null,
   "id": "2a99bae6-d077-40ce-be12-da9bd9144182",
   "metadata": {},
   "outputs": [],
   "source": [
    "%%time\n",
    "barcode_msgs2 = defaultdict(list)\n",
    "# for msg in tqdm(it.islice(stream.parse(gam_filename, vg_pb2.Alignment), 100_000)):\n",
    "for msg in tqdm(stream.parse(gam_filename, vg_pb2.Alignment)):\n",
    "    path = set([m.position.name for m in msg.path.mapping])\n",
    "    if not ((\"BIT0ON\" in path or \"BIT0OFF\" in path) and \"mScarletI\" in path):\n",
    "        continue\n",
    "    barcode = tuple(1 if f\"BIT{i}ON\" in path else 0 for i in range(30))\n",
    "    barcode_msgs2[barcode].append(msg)"
   ]
  },
  {
   "cell_type": "code",
   "execution_count": null,
   "id": "58031b7b-91da-4204-81fc-9a6c602968e6",
   "metadata": {},
   "outputs": [],
   "source": [
    "list(sorted(Counter(len(v) for k, v in barcode_msgs2.items()).items()))"
   ]
  },
  {
   "cell_type": "code",
   "execution_count": null,
   "id": "fd2669ce-7fc7-48d7-95b4-95e6dfd3ccdf",
   "metadata": {},
   "outputs": [],
   "source": [
    "barcode_msgs_cluster2 = defaultdict(list)\n",
    "for k, v in barcode_msgs2.items():\n",
    "    barcode_msgs_cluster2[len(v)].append(v)"
   ]
  },
  {
   "cell_type": "code",
   "execution_count": null,
   "id": "417b5524-4d17-4bf4-be4f-e4d9deb83029",
   "metadata": {},
   "outputs": [],
   "source": [
    "sum(k * len(v) for k, v in barcode_msgs_cluster2.items())"
   ]
  },
  {
   "cell_type": "code",
   "execution_count": null,
   "id": "13ec4782-95b4-4766-b199-a9d877e325c2",
   "metadata": {},
   "outputs": [],
   "source": [
    "sum(k * len(v) for k, v in barcode_msgs_cluster2.items() if k <= 2)"
   ]
  },
  {
   "cell_type": "code",
   "execution_count": null,
   "id": "6993a2d3-80ce-44f1-b19b-fd539e0bf776",
   "metadata": {},
   "outputs": [],
   "source": [
    "x = list(barcode_msgs2.values())"
   ]
  },
  {
   "cell_type": "code",
   "execution_count": null,
   "id": "6080edee-e392-4c7f-97f7-02b434a51aad",
   "metadata": {},
   "outputs": [],
   "source": [
    "gfa_filename = \"nao719_20_21_prom.gfa\"\n",
    "gfa = gfapy.Gfa.from_file(gfa_filename)\n",
    "segments = {s.name: s.sequence for s in gfa.segments}"
   ]
  },
  {
   "cell_type": "code",
   "execution_count": null,
   "id": "d6b31fd7-52a2-4bd0-a5c0-2bae7bbc3e93",
   "metadata": {},
   "outputs": [],
   "source": [
    "segments[\"Lagator_30\"]"
   ]
  },
  {
   "cell_type": "code",
   "execution_count": null,
   "id": "3725da6a-ab6c-4f1e-be3f-c9141aa79c97",
   "metadata": {},
   "outputs": [],
   "source": [
    "segments[\"Lagator_31\"]"
   ]
  },
  {
   "cell_type": "code",
   "execution_count": null,
   "id": "41275fb7-8546-404f-9aa9-3cab768df55c",
   "metadata": {},
   "outputs": [],
   "source": [
    "segments[\"ScmJ\"]"
   ]
  },
  {
   "cell_type": "code",
   "execution_count": null,
   "id": "51167407-9285-4a6a-a831-de33bf74291b",
   "metadata": {},
   "outputs": [],
   "source": [
    "segments[\"mVenus\"]"
   ]
  },
  {
   "cell_type": "code",
   "execution_count": null,
   "id": "2484902f-c948-4b54-ba87-e69f486db5eb",
   "metadata": {},
   "outputs": [],
   "source": [
    "segments[\"Lagator_30\"]"
   ]
  },
  {
   "cell_type": "code",
   "execution_count": null,
   "id": "dfac10fb-2f63-4584-adda-276d1f23df68",
   "metadata": {},
   "outputs": [],
   "source": [
    "z[\"Lagator_30\"]"
   ]
  },
  {
   "cell_type": "code",
   "execution_count": null,
   "id": "10c5523b-3f5e-4d63-bced-9824b5c9d357",
   "metadata": {},
   "outputs": [],
   "source": [
    "segments.keys()"
   ]
  },
  {
   "cell_type": "code",
   "execution_count": null,
   "id": "b135c050-87fa-465f-afc3-d035e5feff3e",
   "metadata": {},
   "outputs": [],
   "source": [
    "dists = {}\n",
    "for i in range(109):\n",
    "    dists[i] = edlib.align(segments[f\"Lagator_{i}\"], z[\"Lagator_30\"])[\"editDistance\"]"
   ]
  },
  {
   "cell_type": "code",
   "execution_count": null,
   "id": "d629bd95-6296-4fab-83c4-6f3488537f06",
   "metadata": {},
   "outputs": [],
   "source": [
    "segments[\"J23100\"]"
   ]
  },
  {
   "cell_type": "code",
   "execution_count": null,
   "id": "f8e2d09e-c0d7-47f8-85ac-e6bc067ed5bb",
   "metadata": {},
   "outputs": [],
   "source": [
    "s = \"mVenus\"\n",
    "align(segments[s], z[s])"
   ]
  },
  {
   "cell_type": "code",
   "execution_count": null,
   "id": "25016290-6bd2-4e4c-aecd-bde0cc1c9dbc",
   "metadata": {},
   "outputs": [],
   "source": [
    "len(\n",
    "    \"TAGGAGGCGCCCGCTGATCCTCCTCGAGGATAAATATCTAATACCGGGCGTGTCGACTATTTTACCTCTGTCGGTGATAATGGTTGCATGTTCTAGAATTCATTAAAGAGGAGAAAGGTACCATGAGTAAAGGAGAAGAACTTTTTGCTAGCACT\"\n",
    ")"
   ]
  },
  {
   "cell_type": "code",
   "execution_count": null,
   "id": "d886de63-7c80-4c40-914c-95b73211daea",
   "metadata": {},
   "outputs": [],
   "source": [
    "len(\n",
    "    \"AAGCGCCCGCTGATCCTCCTCGAGGATACGTATCTGACAGCGTGCGTGTTGACTATTTGACTCTGGCGGAGATAATGGTACATATACTAGAATTCATTTAAAGAGGAGAAAGGTACCATGAGTAGAAGGAAAAGACTTTACT\"\n",
    ")"
   ]
  },
  {
   "cell_type": "code",
   "execution_count": null,
   "id": "ff63b9ee-3072-41a7-a756-3129f791c3f2",
   "metadata": {},
   "outputs": [],
   "source": [
    "segments[\"Lagator_32\"]"
   ]
  },
  {
   "cell_type": "code",
   "execution_count": null,
   "id": "76d23001-b9d6-4a0f-b55f-820aefaf204d",
   "metadata": {},
   "outputs": [],
   "source": [
    "reverse_complement(\n",
    "    \"AATCCTAGCTGATCCTCCTGAAGGAATAATATCTAAACAATCACTGAGGTTGACTAGTTTACCTCTGGCATGATGTGACCATGTCCTCAATTCATTGAGGAGAAAGGTACCATGGGTCAAGGGGAAGAACTTTTTGCTGGCCTTGTGT\"\n",
    ")"
   ]
  },
  {
   "cell_type": "code",
   "execution_count": null,
   "id": "9f16337c-2178-4988-9309-8d5b8d02e712",
   "metadata": {},
   "outputs": [],
   "source": [
    "len(\n",
    "    \"CCGCTTGCACTGAAGGTCCTCAATGGCGCTGGAAACGTCGGGAGGCCGGGAGCGCCCGCTGATCCTCCTCGAGGGTAAATATCGAACACCGTGCGTGTTGACTATTTTCCCTCTAGCAGATAAGAATGCTTGCATGTACTAGAATTCATTAAAGAGGAGAAAGGTACCATGAGTAAAGGAGAAGAACTT\"\n",
    ")"
   ]
  },
  {
   "cell_type": "code",
   "execution_count": null,
   "id": "8510fe70-3b4d-40a9-810d-bc32ae382cf1",
   "metadata": {},
   "outputs": [],
   "source": [
    "z = extract_read_segments(x[204][0])\n",
    "z"
   ]
  },
  {
   "cell_type": "code",
   "execution_count": null,
   "id": "b493efbd-de80-408b-a7a8-261766399f6b",
   "metadata": {},
   "outputs": [],
   "source": [
    "def distance_matrices(msgs, segments):\n",
    "    Ms = {}\n",
    "    extracted_segments = [extract_read_segments(msg) for msg in msgs]\n",
    "    for segment in tqdm(segments.keys()):\n",
    "        M = np.zeros((len(msgs), len(msgs)), dtype=np.uint16)\n",
    "        for i in range(len(msgs)):\n",
    "            if segment not in extracted_segments[i]:\n",
    "                continue\n",
    "            s1 = extracted_segments[i][segment]\n",
    "            for j in range(i):\n",
    "                if segment not in extracted_segments[j]:\n",
    "                    continue\n",
    "                s2 = extracted_segments[j][segment]\n",
    "                M[i, j] = M[j, i] = edlib.align(s1, s2)[\"editDistance\"]\n",
    "        Ms[segment] = M\n",
    "    return Ms"
   ]
  },
  {
   "cell_type": "code",
   "execution_count": null,
   "id": "68fa87fb-273f-41b1-834c-1cd004eb38a0",
   "metadata": {},
   "outputs": [],
   "source": [
    "msgs = barcode_msgs_cluster2[288][0]\n",
    "Ms = distance_matrices([msg for msg in msgs], segments)"
   ]
  },
  {
   "cell_type": "code",
   "execution_count": null,
   "id": "7a39ba74-990f-4eeb-9ef3-638b168daa28",
   "metadata": {},
   "outputs": [],
   "source": [
    "idxs = sorted_matrix_indices(Ms[\"mScarletI\"])\n",
    "plt.imshow(sort_matrix(Ms[\"mScarletI\"], idxs));"
   ]
  },
  {
   "cell_type": "code",
   "execution_count": null,
   "id": "1da60176-2e20-4197-ac37-f0c831ca76bf",
   "metadata": {},
   "outputs": [],
   "source": [
    "Ms.keys()"
   ]
  },
  {
   "cell_type": "code",
   "execution_count": null,
   "id": "ee590426-345e-4420-9c44-d00bf9f35e82",
   "metadata": {},
   "outputs": [],
   "source": [
    "idxs = sorted_matrix_indices(Ms[\"ScmJ\"])\n",
    "plt.imshow(sort_matrix(Ms[\"ScmJ\"], idxs));"
   ]
  },
  {
   "cell_type": "code",
   "execution_count": null,
   "id": "e075537b-5ac9-410f-863e-a3fa5db14a31",
   "metadata": {},
   "outputs": [],
   "source": [
    "sorted(barcode_msgs_cluster2.keys())[-10:]"
   ]
  },
  {
   "cell_type": "code",
   "execution_count": null,
   "id": "48b1ddc5-985d-4bee-beda-dc7cf2a28532",
   "metadata": {},
   "outputs": [],
   "source": [
    "# msgs = barcode_msgs_cluster2[217][0]\n",
    "msgs = barcode_msgs_cluster2[23][0]"
   ]
  },
  {
   "cell_type": "code",
   "execution_count": null,
   "id": "bc7ae2ca-ef49-4bf8-a3e9-8dc81945fe4b",
   "metadata": {},
   "outputs": [],
   "source": [
    "for i in range(109):\n",
    "    print(\">lagator_ref\")\n",
    "    print(segments[f\"Lagator_{i}\"])"
   ]
  },
  {
   "cell_type": "code",
   "execution_count": null,
   "id": "436cc7d0-c373-47c7-bd76-421fdecc39d4",
   "metadata": {},
   "outputs": [],
   "source": [
    "# for msg in msgs:\n",
    "for msg in barcode_msgs_cluster2[288][0]:\n",
    "    x = extract_read_segments(msg).get(\"Lagator\")\n",
    "    if x:\n",
    "        print(\">lagator_read\")\n",
    "        print(x)"
   ]
  },
  {
   "cell_type": "code",
   "execution_count": null,
   "id": "473944ea-35b7-4c55-9c9f-3c4419398cd3",
   "metadata": {},
   "outputs": [],
   "source": [
    "msgs[7]"
   ]
  },
  {
   "cell_type": "code",
   "execution_count": null,
   "id": "0c8a0320-4e08-4401-a103-a908b6335859",
   "metadata": {},
   "outputs": [],
   "source": [
    "for msg in msgs:\n",
    "    print(\n",
    "        tuple(\n",
    "            set([\"B0034m\", \"RBS1\", \"J23100\", \"Lagator\"])\n",
    "            & set([m.position.name for m in msg.path.mapping])\n",
    "        )\n",
    "    )"
   ]
  },
  {
   "cell_type": "code",
   "execution_count": null,
   "id": "5f6b8553-01aa-4ca2-af77-0ee892af51f5",
   "metadata": {},
   "outputs": [],
   "source": [
    "counts = {}\n",
    "for num, clusters in barcode_msgs_cluster2.items():\n",
    "    seen = []\n",
    "    for msg in clusters[0]:\n",
    "        seen.extend(\n",
    "            set([\"B0034m\", \"RBS1\", \"J23100\", \"Lagator\"])\n",
    "            & set([m.position.name for m in msg.path.mapping])\n",
    "        )\n",
    "    counts[num] = list(Counter(seen).items())"
   ]
  },
  {
   "cell_type": "code",
   "execution_count": null,
   "id": "cac657d4-9807-4491-9246-c446d2cf0dc4",
   "metadata": {},
   "outputs": [],
   "source": [
    "counts"
   ]
  },
  {
   "cell_type": "code",
   "execution_count": null,
   "id": "defb33a2-0fff-4b46-b1c7-77251f4ddb00",
   "metadata": {},
   "outputs": [],
   "source": [
    "%%time\n",
    "counts2 = defaultdict(list)\n",
    "for num, clusters in barcode_msgs_cluster2.items():\n",
    "    if num < 10:\n",
    "        continue\n",
    "    seen = []\n",
    "    for cluster in clusters:\n",
    "        for msg in cluster:\n",
    "            seen.append(\n",
    "                tuple(\n",
    "                    set([\"B0034m\", \"RBS1\", \"J23100\", \"Lagator\"])\n",
    "                    & set([m.position.name for m in msg.path.mapping])\n",
    "                )\n",
    "            )\n",
    "        counts2[num].append(list(Counter(seen).items()))"
   ]
  },
  {
   "cell_type": "code",
   "execution_count": null,
   "id": "bd05d14d-d988-4e97-8560-eb158b236100",
   "metadata": {},
   "outputs": [],
   "source": [
    "sorted(counts2.items())"
   ]
  },
  {
   "cell_type": "markdown",
   "id": "89293ae1-94ed-4f5e-bd8d-2e0e27ba291c",
   "metadata": {},
   "source": [
    "# 230418 GFA"
   ]
  },
  {
   "cell_type": "code",
   "execution_count": null,
   "id": "97fd68bd-a609-49b3-8db3-a83ca8bc65ae",
   "metadata": {},
   "outputs": [],
   "source": [
    "twist_seqs = \"\"\"gttgcaggtctcgggaggcgcccgctgatcctcctcgaggataaatatctaacaccgtgcgtgttgactattttacctctggcggtgataatggttgcatgtactagaattcattaaagaggagaaaggtaccatgagtaaaggagaagaactttttactcgagaccttaaggtgccgggcccacat\n",
    "gttgcaggtctcgggaggcgcccgctgatcctcctcgaggattaatatataacactgtgcgtgttgactattttccctctggccgtgataatgattgcatttactagaattcattaaagaggagaaaggtaccatgagtaaaggagaagaactttttactcgagaccttaaggtgccgggcccacat\n",
    "gttgcaggtctcgggagagcgcccgctgatcctcctcgaggataaagatcgaccaccgtgcgtgttgacttgtttacctctgcggtgataatggttgcgtgtactagaattcattaaagaggagaaaggtaccatgagtaaaggagaagaactttttactcgagaccttaaggtgccgggcccacat\n",
    "gttgcaggtctcgggaggcgcccgctgatcctcctcgaggtaaaatatctgacatcgtgcgtgttgcctatttcacctctggcggtgacaatggttgcatgtactagaattcattaaagaggagaaaggtaccatgagtaaaggagaagaactttttactcgagaccttaaggtgccgggcccacat\n",
    "gttgcaggtctcgggaggcgcccgctgatcctcctcgaggataaatatctaacaccgtgcgagtagacttttttacctgcggcggtgataatggttgcaggtactagaattcattaaagaggagaaaggtaccatgagtaaaggagaagaactttttactcgagaccttaaggtgccgggcccacat\n",
    "gttgcaggtctcgggaggcgcccgctgatcctcctcgaggataaatatctaactccgtgcgggatgactattttacctctttcggtgataatggttgaatgtactagaattcattaaagaggagaaaggtaccatgagtaaaggagaagaactttttactcgagaccttaaggtgccgggcccacat\n",
    "gttgcaggtctcgggagagcgcccgctgatcctcctcgagataaatatctaacatcgtgcgtgtcgactattttacctctggcgttaataatggttgcatgtactagaattcattaaagaggagaaaggtaccatgagtaaaggagaagaactttttactcgagaccttaaggtgccgggcccacat\n",
    "gttgcaggtctcgggaggcgcccgctgatcctcctcgaggacaaatatttaacacagtgcgtgttgactattatacctctggcggtgaacatgcttgcatgtactagaattcattaaagaggagaaaggtaccatgagtaaaggagaagaactttttactcgagaccttaaggtgccgggcccacat\n",
    "gttgcaggtctcgggaggcgcccgctgatcctcctcgaggattattatctaatagcgtgcgtgttgactattttacgtatggcggtgatactggttgcatgtcctagaattcattaaagaggagaaaggtaccatgagtaaaggagaagaactttttactcgagaccttaaggtgccgggcccacat\n",
    "gttgcaggtctcgggaggcgcccgctgatcctcctcgaggagaaatggctaacgccgtgcgtgtggactatttcccctctggcgttgataatggttgcatgtactagaattcattaaagaggagaaaggtaccatgagtaaaggagaagaactttttactcgagaccttaaggtgccgggcccacat\n",
    "gttgcaggtctcgggaggcgcccgctgatcctcctcgaggatagatatctaacatcgtgcctgttgactattttacctcgagcgggcttaatggttgcatgcactagaattcattaaagaggagaaaggtaccatgagtaaaggagaagaactttttactcgagaccttaaggtgccgggcccacat\n",
    "gttgcaggtctcgggaggcgcccgctgatcctcctcgaggacatatatcaaactccgtgcgtgttgactattttacctctggcagtattaatggttgcatgtactagaattcattaaagaggagaaaggtaccatgagtaaaggagaagaactttttactcgagaccttaaggtgccgggcccacat\n",
    "gttgcaggtctcgggaggcgcccgctgatcctcctcgagtataaacatctaacgccgtgcgtgtggactattttacctatggcggtgataatggttgcatgaattagaattcattaaagaggagaaaggtaccatgagtaaaggagaagaactttttactcgagaccttaaggtgccgggcccacat\n",
    "gttgcaggtctcgggaggcgcccgctgatcctcctcgaggataaatatctaacaacatgcgtgttgacttttttttctatggcggtgataacggttgcatgtcctagaattcattaaagaggagaaaggtaccatgagtaaaggagaagaactttttactcgagaccttaaggtgccgggcccacat\n",
    "gttgcaggtctcgggaggcgcccgctgatcctcctcgaggataaatatctaactgcgtgcgtgttgaccattttaccttgggcgatgataatggttgcatgtactagaattcattaaagaggagaaaggtaccatgagtaaaggagaagaactttttactcgagaccttaaggtgccgggcccacat\n",
    "gttgcaggtctcgggaggcgcccgctgatcctcctcgaggataaatatgtaacactgtgcgtgttgcctattttacctctggcgccggtaatgatagcatgtactcgaattcattaaagaggagaaaggtaccatgagtaaaggagaagaactttttactcgagaccttaaggtgccgggcccacat\n",
    "gttgcaggtctcgggaggcgcccgctgatcctcctcgaggataaatatctaacaacgggcgcgttgactattgcacctctggcggtgagaatggttgcatgtaccagaattcattaaagaggagaaaggtaccatgagtaaaggagaagaactttttactcgagaccttaaggtgccgggcccacat\n",
    "gttgcaggtctcgggaggcgcccgctgatcctcctcgaggatatatatctaacaccgtgccggttgactattctacccctggcggtcatcatggttgcatgtattagaattcattaaagaggagaaaggtaccatgagtaaaggagaagaactttttactcgagaccttaaggtgccgggcccacat\n",
    "gttgcaggtctcgggaggcgcccgctgatcctcctcgagtataaatatcgaacaccgtgcgtcttgactattttacctctggcagtgatcatggttgcgtgtacttgaattcattaaagaggagaaaggtaccatgagtaaaggagaagaactttttactcgagaccttaaggtgccgggcccacat\n",
    "gttgcaggtctcgggaggcgcccgctgatcctcctcgaggggaaatatctagcactttgcatgttgactattttacctgtggcggtgatgatggttgcatgtactagaattcattaaagaggagaaaggtaccatgagtaaaggagaagaactttttactcgagaccttaaggtgccgggcccacat\n",
    "gttgcaggtctcgggaggcgcccgctgatcctcctcgaggataaaaatctaacaccgtgcgcgttgactatgtcacctctggcgttgataatggttgcatgtactagaattcattaaagaggagaaaggtaccatgagtaaaggagaagaactttttactcgagaccttaaggtgccgggcccacat\n",
    "gttgcaggtctcgggaggcgcccgctgatcctcctcgaggattaatagctaacaccgtgaatgttgactattttacctctggctgtgaaaatggttgtatgtaatagaattcattaaagaggagaaaggtaccatgagtaaaggagaagaactttttactcgagaccttaaggtgccgggcccacat\n",
    "gttgcaggtctcgggaggcgcccgctgatcctcctcgagggtaaatatctaacatcgtgcgtgttgcctattttacctctgccggcgatactggttgcatgtcctagaattcattaaagaggagaaaggtaccatgagtaaaggagaagaactttttactcgagaccttaaggtgccgggcccacat\n",
    "gttgcaggtctcgggaggcgcccgctgatcctcctcgaggataaatatcaaacccggtgcgtgttgactatcttacccctggcgctgataatggttgcatggacttgaattcattaaagaggagaaaggtaccatgagtaaaggagaagaactttttactcgagaccttaaggtgccgggcccacat\n",
    "gttgcaggtctcgggaggcgcccgctgatcctcctcgaggatcgatatctaacaccttgcgtgtagactattttacctctggcggcgacaatggttgcacgtacaagaattcattaaagaggagaaaggtaccatgagtaaaggagaagaactttttactcgagaccttaaggtgccgggcccacat\n",
    "gttgcaggtctcgggagcgcccgctgatcctcctcgaggataatgatctaacgccgtgggtgttgactactttacctctggtcgtgattatggttgcatgcacttagaattcattaaagaggagaaaggtaccatgagtaaaggagaagaactttttactcgagaccttaaggtgccgggcccacat\n",
    "gttgcaggtctcgggaggcgcccgctgatcctcctcgaggataattatctaacacagtgcgtgctgactattttccctctggcagtgataatggttgcatgtactagaattcattaaagaggagaaaggtaccatgagtaaaggagaagaactttttactcgagaccttaaggtgccgggcccacat\n",
    "gttgcaggtctcgggaggcgcccgctgatcctcctcgaggataaatatctaacaccgtgcatgttgactattttacctgtggcggtcttaatggttgcatgtacacgaattcattaaagaggagaaaggtaccatgagtaaaggagaagaactttttactcgagaccttaaggtgccgggcccacat\n",
    "gttgcaggtctcgggaggcgcccgctgatcctcctcgaggataaatatctaacactgtgatggttgactattttacctctggcggcgataacggttgcatgtactagaattcattaaagaggagaaaggtaccatgagtaaaggagaagaactttttactcgagaccttaaggtgccgggcccacat\n",
    "gttgcaggtctcgggaggcgcccgctgatcctcctcgaggataaatatctaacagcctgcgtgttgactattttgcctctggcggagataaaggttccatgtactagaattcattaaagaggagaaaggtaccatgagtaaaggagaagaactttttactcgagaccttaaggtgccgggcccacat\n",
    "gttgcaggtctcgggaggcgcccgctgatcctcctcgaggatacgtatctgacagcgtgcgtgttgactatttgacttctggcggagatgatggttgcatgtactagaattcattaaagaggagaaaggtaccatgagtaaaggagaagaactttttactcgagaccttaaggtgccgggcccacat\n",
    "gttgcaggtctcgggaggcgcccgctgatcctcctcgaggataaatatgtaacagcgtgcgtgtttcctactttacctccggcggggataatggttgtatgtactagaattcattaaagaggagaaaggtaccatgagtaaaggagaagaactttttactcgagaccttaaggtgccgggcccacat\n",
    "gttgcaggtctcgggaggcgcccgctgatcctcctcgaggataaatatctaagacggtgcgcgttgactagtttacctctggcgctgatattggttccatgtactagaattcattaaagaggagaaaggtaccatgagtaaaggagaagaactttttactcgagaccttaaggtgccgggcccacat\n",
    "gttgcaggtctcgggaggcgcccgctgatcctcctcgaggataaatatctaccagcgtgtgtgttgacgattgtacctctggcggtgataatggatgcatgtactagaattcattaaagaggagaaaggtaccatgagtaaaggagaagaactttttactcgagaccttaaggtgccgggcccacat\n",
    "gttgcaggtctcgggaggcgcccgctgatcctcctcgaggatgaatatctaaccccgtgcgtgttgactattttacatctgtcggtgataagggttgcatgttctagaattcattaaagaggagaaaggtaccatgagtaaaggagaagaactttttactcgagaccttaaggtgccgggcccacat\n",
    "gttgcaggtctcgggaggcgcccgctgatcctcctcgaggataaatatctgacacggtgcgttttgactattttacctcaggcggtgagaatggttgcatgtacgagaattcattaaagaggagaaaggtaccatgagtaaaggagaagaactttttactcgagaccttaaggtgccgggcccacat\n",
    "gttgcaggtctcgggaggcgcccgctgatcctcctcgaggataaatatcaaacaacgtgcgtgttgactatgttacctcgggcggtgaaaatagttgcatgtgctagaattcattaaagaggagaaaggtaccatgagtaaaggagaagaactttttactcgagaccttaaggtgccgggcccacat\n",
    "gttgcaggtctcgggaggcgcccgctgatcctcctcgaggaaacatagctaacaccgtgcatgttgactattttgcctctggcggtgacaatggtcgcttgtactagaattcattaaagaggagaaaggtaccatgagtaaaggagaagaactttttactcgagaccttaaggtgccgggcccacat\n",
    "gttgcaggtctcgggaggcgcccgctgatcctcctcgaggataaacctctgataccgttcgtgttgaatcttttgcctctgtcggtgataatggttgcctgcactagaattcattaaagaggagaaaggtaccatgagtaaaggagaagaactttttactcgagaccttaaggtgccgggcccacat\n",
    "gttgcaggtctcgggaggcgcccgctgatcctcctcgaggataaacatctaacaccatgcgtgttgactattttacctctggctgggataacggttgcatgtactagaattcattaaagaggagaaaggtaccatgagtaaaggagaagaactttttactcgagaccttaaggtgccgggcccacat\n",
    "gttgcaggtctcgggaggcgcccgctgatcctcctcgaggatatacatctaacaccgtgcgtgtttactactttacctctggcgttgataatggttgcatgtactagaattcattaaagaggagaaaggtaccatgagtaaaggagaagaactttttactcgagaccttaaggtgccgggcccacat\n",
    "gttgcaggtctcgggaggcgcccgctgatcctcctcgaggataaatatctcacagcgtgcgtgctgactattttacctctggaagtgattatggttgcatgtacaagaattcattaaagaggagaaaggtaccatgagtaaaggagaagaactttttactcgagaccttaaggtgccgggcccacat\n",
    "gttgcaggtctcgggaggcgcccgctgatcctcctcgagggtaaatatctcacaccgtgcgggttgactgttatacctctggcggtgataatggttgcatgtactagaattcattaaagaggagaaaggtaccatgagtaaaggagaagaactttttactcgagaccttaaggtgccgggcccacat\n",
    "gttgcaggtctcgggaggcgcccgctgatcctcctcgaggataaatatcaaacagcgtacgtgttggctattttacctctagcgctgataatggttgcatgtacaagaattcattaaagaggagaaaggtaccatgagtaaaggagaagaactttttactcgagaccttaaggtgccgggcccacat\n",
    "gttgcaggtctcgggaggcgcccgctgatcctcctcgaggataaatatctaacatcgtgcgtgttgaatattttacctgtggcgttgataatggttgcatgtgctagaattcattaaagaggagaaaggtaccatgagtaaaggagaagaactttttactcgagaccttaaggtgccgggcccacat\n",
    "gttgcaggtctcgggaggcgcccgctgatcctcctcgaggataaatatctaacaccgtacgtgtaaactattttacctctagcgttcataatggttgcatgtactagaattcattaaagaggagaaaggtaccatgagtaaaggagaagaactttttactcgagaccttaaggtgccgggcccacat\n",
    "gttgcaggtctcgggagagcgcccgctgatcctcctcgaggataaatatctaacaccgtgcgagtgactattttacctatggcggtgataatggttgcatgtactagaattcattaaagaggagaaaggtaccatgagtaaaggagaagaactttttactcgagaccttaaggtgccgggcccacat\n",
    "gttgcaggtctcgggaggcgcccgctgatcctcctcgaggataaatatctaacaccgtgcgcgttgactattttacttctggcggggataatggtt
gaatgtagtagaattcattaaagaggagaaaggtaccatgagtaaaggagaagaactttttactcgagaccttaaggtgccgggcccacat\n",
    "gttgcaggtctcgggaggcgcccgctgatcctcctcgaggataaatatctaacaccgtgcttgctgactattttacctctggcagtgataatagttgcatggactagaattcattaaagaggagaaaggtaccatgagtaaaggagaagaactttttactcgagaccttaaggtgccgggcccacat\n",
    "gttgcaggtctcgggaggcgcccgctgatcctcctcgaggataaatatcaaacacagtgcgcgttgactatttttcctctgtcgctgataatgggtgcgtgtactagaattcattaaagaggagaaaggtaccatgagtaaaggagaagaactttttactcgagaccttaaggtgccgggcccacat\n",
    "gttgcaggtctcgggaggcgcccgctgatcctcctcgaggataaatatctaacaccgtgcgtgttgagtattttacgtctggcgttgatactggttgcatgtactagaattcattaaagaggagaaaggtaccatgagtaaaggagaagaactttttactcgagaccttaaggtgccgggcccacat\n",
    "gttgcaggtctcgggaggcgcccgctgatcctcctcgaggataaatatcgacccccgtgcgtgttgaccattttaccgctggcggtgacaatggttgcatgtacaagaattcattaaagaggagaaaggtaccatgagtaaaggagaagaactttttactcgagaccttaaggtgccgggcccacat\n",
    "gttgcaggtctcgggaggcgcccgctgatcctcctcgaggataattatgtaacagcgtgcgtgttgattcttttacctctggcggggagaatggttgcatgtactagaattcattaaagaggagaaaggtaccatgagtaaaggagaagaactttttactcgagaccttaaggtgccgggcccacat\n",
    "gttgcaggtctcgggagacgcccgctgatcctcctcgaggataaatatctaacaccgtgcgtgttgactattttacctctggcggtgataatggttgcatgtactagaattcattaaagaggagaaaggtaccatgagtaaaggagaagaactttttactcgagaccttaaggtgccgggcccacat\n",
    "gttgcaggtctcgggagaaagcgcccgctgatcctcgaggataaatatctaacaccgttcgtgttgattattttacctctggcggggatactggtggcatgtactagaattcattaaagaggagaaaggtaccatgagtaaaggagaagaactttttactcgagaccttaaggtgccgggcccacat\n",
    "gttgcaggtctcgggagagcgcccgctgatcctcctcgagaataaatatctaccaccgtgtgtgttgactcttttcctctggcggtgagaatcgttgcatgtactagaattcattaaagaggagaaaggtaccatgagtaaaggagaagaactttttactcgagaccttaaggtgccgggcccacat\n",
    "gttgcaggtctcgggaggcgcccgctgatcctcctcgaggatatatatctaaggccgtgcgtgttgactatttgatctctggtggtgataatggttgcatgtactagaattcattaaagaggagaaaggtaccatgagtaaaggagaagaactttttactcgagaccttaaggtgccgggcccacat\n",
    "gttgcaggtctcgggaggcgcccgctgatcctcctcgaggataaaattctaacaccgtgcgtgttggctattttttccctggcggtgataatggttgcatgtactagaattcattaaagaggagaaaggtaccatgagtaaaggagaagaactttttactcgagaccttaaggtgccgggcccacat\n",
    "gttgcaggtctcgggagagcgcccgctgatcctcctcgggataaatatctaacaccgttcgttttgactatcttacctctggcggagataatagttgcatgtactagaattcattaaagaggagaaaggtaccatgagtaaaggagaagaactttttactcgagaccttaaggtgccgggcccacat\n",
    "gttgcaggtctcgggaggcgcccgctgatcctcctcgaggataaatatctaaaaccgtgcgtgttgtctatttgacctctggatgtgataataggtgcatgtacaagaattcattaaagaggagaaaggtaccatgagtaaaggagaagaactttttactcgagaccttaaggtgccgggcccacat\n",
    "gttgcaggtctcgggaggcgcccgctgatcctcctcgaggatcaatatctaacgccgtgcgtgtcgactattttacctctggcagtgataatggttgcatttagcagaattcattaaagaggagaaaggtaccatgagtaaaggagaagaactttttactcgagaccttaaggtgccgggcccacat\n",
    "gttgcaggtctcgggaggcgcccgctgatcctcctcgaggataattatctaacaccgtgcgtgttgtctattttacgtctggcagcgataatggttgcatgtactagaattcattaaagaggagaaaggtaccatgagtaaaggagaagaactttttactcgagaccttaaggtgccgggcccacat\n",
    "gttgcaggtctcgggaggcgcccgctgatcctcctcgaggataaatatctaacaccgtacgtgttgactattttacctctgtcggtgataatggttggatgcactagaattcattaaagaggagaaaggtaccatgagtaaaggagaagaactttttactcgagaccttaaggtgccgggcccacat\n",
    "gttgcaggtctcgggaggcgcccgctgatcctcctcgagggtaaatatcgaacaccgtgcgtgttgactattttccctctagcagtaagaatgcttgcatgtactagaattcattaaagaggagaaaggtaccatgagtaaaggagaagaactttttactcgagaccttaaggtgccgggcccacat\n",
    "gttgcaggtctcgggaggcgcccgctgatcctcctcgaggatagatatcgaacaccggccgtgttgactcttttagctctggcgttgataatggttgcatgtcctagaattcattaaagaggagaaaggtaccatgagtaaaggagaagaactttttactcgagaccttaaggtgccgggcccacat\n",
    "gttgcaggtctcgggaggcgcccgctgatcctcctcgaggataaatatctaacaccgggcgtgttgaatattttacctctgccgttgataatggttgcatgtactagaattcattaaagaggagaaaggtaccatgagtaaaggagaagaactttttactcgagaccttaaggtgccgggcccacat\n",
    "gttgcaggtctcgggaggcgcccgctgatcctcctcgaggattaatatcgaacaccgtgcgtgttgactattttacctctggctgtgaaagtggccgcatgtactggaattcattaaagaggagaaaggtaccatgagtaaaggagaagaactttttactcgagaccttaaggtgccgggcccacat\n",
    "gttgcaggtctcgggaggcgcccgctgatcctcctcgaggataaatatctgacactgtgcgtgttgacttttttacctctggcggtcctaatggttgcatgtactagaattcattaaagaggagaaaggtaccatgagtaaaggagaagaactttttactcgagaccttaaggtgccgggcccacat\n",
    "gttgcaggtctcgggaggcgcccgctgatcctcctcgaggatacatgtctaaaaccgtgcgtgttgactatttgacttcggacggtggtaatggttgcatgtagtagaattcattaaagaggagaaaggtaccatgagtaaaggagaagaactttttactcgagaccttaaggtgccgggcccacat\n",
    "gttgcaggtctcgggaggcgcccgctgatcctcctcgaggatatatatctaacaccgtgcctgttgaatattttacctctggcggtgagaatggttgcatgtgctagaattcattaaagaggagaaaggtaccatgagtaaaggagaagaactttttactcgagaccttaaggtgccgggcccacat\n",
    "gttgcaggtctcgggagagcgcccgctgatcctcctcgagtataaatatccaaaccgtgcgtgcagagcattttacctcaggcggtgaatatggttgcatgtactagaattcattaaagaggagaaaggtaccatgagtaaaggagaagaactttttactcgagaccttaaggtgccgggcccacat\n",
    "gttgcaggtctcgggaggcgcccgctgatcctcctcgaggataaatatctaacaccgtgcgtgtcgactattgttcctctggctgtgataatggttgcatgtaccagaattcattaaagaggagaaaggtaccatgagtaaaggagaagaactttttactcgagaccttaaggtgccgggcccacat\n",
    "gttgcaggtctcgggaggcgcccgctgatcctcctcgaggataaatatctaacactgtgcgtgttgactatttaagcggtggcggtgatagtgggtgcatgtactagaattcattaaagaggagaaaggtaccatgagtaaaggagaagaactttttactcgagaccttaaggtgccgggcccacat\n",
    "gttgcaggtctcgggaggcgcccgctgatcctcctcgaggataaaagtctaacaccgagcgtgtggactattttacctctggaggtgacaatggttgcatggactagaattcattaaagaggagaaaggtaccatgagtaaaggagaagaactttttactcgagaccttaaggtgccgggcccacat\n",
    "gttgcaggtctcgggaggcgcccgctgatcctcctcgagggtaaatatctaacaccgggattgttgactattttacctctggcggtgattatggttgcatgtagtagaattcattaaagaggagaaaggtaccatgagtaaaggagaagaactttttactcgagaccttaaggtgccgggcccacat\n",
    "gttgcaggtctcgggaggcgcccgctgatcctcctcgaggataagtagctaacatcgtgcgggttgactattttacctctggcgttgatgatggttgcataaactagaattcattaaagaggagaaaggtaccatgagtaaaggagaagaactttttactcgagaccttaaggtgccgggcccacat\n",
    "gttgcaggtctcgggaggcgcccgctgatcctcctcgaggataaatatctaacaccgtgcttgttgattattttacctctcgcggtgataatggttgcatgtactcgaattcattaaagaggagaaaggtaccatgagtaaaggagaagaactttttactcgagaccttaaggtgccgggcccacat\n",
    "gttgcaggtctcgggaggcgcccgctgatcctcctcgaggataaatatctaacaccgtgcgagttgactattttacctctgacggtgatcatggttgcatgtactagaattcattaaagaggagaaaggtaccatgagtaaaggagaagaactttttactcgagaccttaaggtgccgggcccacat\n",
    "gttgcaggtctcgggaggcgcccgctgatcctcctcgaggataaatatcgaaccccgtgcgtgttgactattttacctgtggcggggataatggttgcatgtactagaattcattaaagaggagaaaggtaccatgagtaaaggagaagaactttttactcgagaccttaaggtgccgggcccacat\n",
    "gttgcaggtctcgggaggcgcccgctgatcctcctcgaggataaacatctcacactgtgcgtgttgactattttacctctggtggtgattatggttgcatgtacatgaattcattaaagaggagaaaggtaccatgagtaaaggagaagaactttttactcgagaccttaaggtgccgggcccacat\n",
    "gttgcaggtctcgggaggcgcccgctgatcctcctcgaggagaaatatcaaacaacgtgcgtgtggactatattacctctggcggagataaaggttgcatgtactagaattcattaaagaggagaaaggtaccatgagtaaaggagaagaactttttactcgagaccttaaggtgccgggcccacat\n",
    "gttgcaggtctcgggaggcgcccgctgatcctcctcgaggatcaatgtctgacaccgtgcgtgttgactattttacctctggtggtgagaatggttgcatgtactagaattcattaaagaggagaaaggtaccatgagtaaaggagaagaactttttactcgagaccttaaggtgccgggcccacat\n",
    "gttgcaggtctcgggaggcgcccgctgatcctcctcgaggataaatatctaacacggtgcgtgttgactaatttacctctggtgttgataatggttgcatgtactggaattcattaaagaggagaaaggtaccatgagtaaaggagaagaactttttactcgagaccttaaggtgccgggcccacat\n",
    "gttgcaggtctcgggaggcgcccgctgatcctcctcgaggatagatatctaacaccgtgcatgttggctattttacctctggcgttgaaaatggttgcatatactagaattcattaaagaggagaaaggtaccatgagtaaaggagaagaactttttactcgagaccttaaggtgccgggcccacat\n",
    "gttgcaggtctcgggaggcgcccgctgatcctcctcgaggataaatatctaacatcgtgcgtgtcgacgggtttacctctggcggggataatggtggcatgtactagaattcattaaagaggagaaaggtaccatgagtaaaggagaagaactttttactcgagaccttaaggtgccgggcccacat\n",
    "gttgcaggtctcgggaggcgcccgctgatcctcctcgaggataaatatctaataccgggcgtgtcgactattttacctctgtcggtgataatggttgcatgttctcgaattcattaaagaggagaaaggtaccatgagtaaaggagaagaactttttactcgagaccttaaggtgccgggcccacat\n",
    "gttgcaggtctcgggaggcgcccgctgatcctcctcgaggataaatgtctaactccgggcgtgttgactattttacctctggcggtgaaaatggttgcatgtactagaattcattaaagaggagaaaggtaccatgagtaaaggagaagaactttttactcgagaccttaaggtgccgggcccacat\n",
    "gttgcaggtctcgggaggcgcccgctgatcctcctcgaggataaatatttacccccgtgcgtgttgactattttacccctggcagtgataatggtagcatgtaatagaattcattaaagaggagaaaggtaccatgagtaaaggagaagaactttttactcgagaccttaaggtgccgggcccacat\n",
    "gttgcaggtctcgggaggcgcccgctgatcctcctcgaggctaaatatctaacaccgtgcgttttgactattttacctctgtcggtgatactggttgcatgcactagaattcattaaagaggagaaaggtaccatgagtaaaggagaagaactttttactcgagaccttaaggtgccgggcccacat\n",
    "gttgcaggtctcgggaggcgcccgctgatcctcctcgaggactaatatcgaacaccgtgcccgttgactattttacctctgggggtgataatggtcgcatgtactagaattcattaaagaggagaaaggtaccatgagtaaaggagaagaactttttactcgagaccttaaggtgccgggcccacat\n",
    "gttgcaggtctcgggaggcgcccgctgatcctcctcgaggataaatatcaaccaccgtgcgtgttgactattttacatcaggcgggcataatggttggatgtgctagaattcattaaagaggagaaaggtaccatgagtaaaggagaagaactttttactcgagaccttaaggtgccgggcccacat\n",
    "gttgcaggtctcgggaggcgcccgctgatcctcctcgaggatatatatctaacacggtgcgagttgactatctgacctctggcggtgataatggttgcatgttctagaattcattaaagaggagaaaggtaccatgagtaaaggagaagaactttttactcgagaccttaaggtgccgggcccacat\n",
    "gttgcaggtctcgggaggcgcccgctgatcctcctcgaggataaataactaagaccctgcgtgttgactattttacctctggcagcgataatggtcgtatgtacaagaattcattaaagaggagaaaggtaccatgagtaaaggagaagaactttttactcgagaccttaaggtgccgggcccacat\n",
    "gttgcaggtctcgggaggcgcccgctgatcctcctcgaggattaatatctaacaccgtgtgtgctgactattttacgtcgggcggggataatggttgcatgtactagaattcattaaagaggagaaaggtaccatgagtaaaggagaagaactttttactcgagaccttaaggtgccgggcccacat\n",
    "gttgcaggtctcgggaggcgcccgctgatcctcctcgaggatgaatatctaacaccgtgctcgttgaccattttacatctggcggtgataatggttggatgtactagaattcattaaagaggagaaaggtaccatgagtaaaggagaagaactttttactcgagaccttaaggtgccgggcccacat\n",
    "gttgcaggtctcgggaggcgcccgctgatcctcctcgaggaaaaatatctaacaccgtgcgtgttgactattatacctatggcggtgatattggttgcatggactagaattcattaaagaggagaaaggtaccatgagtaaaggagaagaactttttactcgagaccttaaggtgccgggcccacat\n",
    "gttgcaggtctcgggaggcgcccgctgatcctcctcgaggatacatatctagccacgtgcgcgttggctatttctcctctggcggtgataatggttgcgtgaactagaattcattaaagaggagaaaggtaccatgagtaaaggagaagaactttttactcgagaccttaaggtgccgggcccacat\n",
    "gttgcaggtctcgggaggcgcccgctgatcctcctcgaggataaatatctaacacagtgcgtggtgactattttctccctggcggcgataatggttgcatgtattagaattcattaaagaggagaaaggtaccatgagtaaaggagaagaactttttactcgagaccttaaggtgccgggcccacat\n",
    "gttgcaggtctcgggagaagcgcccgctgatcctcctcgaggataaatatctaacactgtgcgtgttgcctatttacctctgccggtataatggttgcatatactagaattcattaaagaggagaaaggtaccatgagtaaaggagaagaactttttactcgagaccttaaggtgccgggcccacat\n",
    "gttgcaggtctcgggagagcgcccgctgatcctcctcgaggacatctatctaacagcgtgcgtgctgactatttgacctctggcggtcataatggttgcatgtactaaattcattaaagaggagaaaggtaccatgagtaaaggagaagaactttttactcgagaccttaaggtgccgggcccacat\"\"\".split()"
   ]
  },
  {
   "cell_type": "code",
   "execution_count": null,
   "id": "33c876d6-eedf-4a50-86b5-07c5f7a0a44c",
   "metadata": {},
   "outputs": [],
   "source": [
    "from Bio import Restriction\n",
    "\n",
    "from paulssonlab.cloning import enzyme, workflow"
   ]
  },
  {
   "cell_type": "code",
   "execution_count": null,
   "id": "dda24e05-b4ca-4105-8674-92547a83488a",
   "metadata": {},
   "outputs": [],
   "source": [
    "twist_seqs_trimmed = [\n",
    "    workflow.re_digest_part(s, Restriction.BsaI, (\"ggag\", \"tact\")).trim_overhangs()\n",
    "    for s in twist_seqs\n",
    "]"
   ]
  },
  {
   "cell_type": "code",
   "execution_count": null,
   "id": "ffb28c00-53a4-4f06-9eb2-fa802fd25907",
   "metadata": {},
   "outputs": [],
   "source": [
    "for idx, seq in enumerate(twist_seqs_trimmed):\n",
    "    print(f\"S\\tLagator_{idx}\\t{seq.seq_lower()}\")\n",
    "    print(f\"L\\tmScarletI\\t+\\tLagator_{idx}\\t+\\t0M\")\n",
    "    print(f\"L\\tLagator_{idx}\\t+\\tScmJ\\t+\\t0M\")"
   ]
  },
  {
   "cell_type": "code",
   "execution_count": null,
   "id": "91217925-0d11-44b0-8ec7-3ce4f17d40b2",
   "metadata": {},
   "outputs": [],
   "source": [
    "\"N\" * 139"
   ]
  },
  {
   "cell_type": "code",
   "execution_count": null,
   "id": "c5e7daea-5b84-4096-adba-7558692b1963",
   "metadata": {},
   "outputs": [],
   "source": [
    "for idx, seq in enumerate(twist_seqs_trimmed):\n",
    "    print(\">lagator_trimmed\")\n",
    "    print(seq.seq_lower())"
   ]
  },
  {
   "cell_type": "markdown",
   "id": "30381f5c-8418-4363-956d-086b7b1dd96a",
   "metadata": {},
   "source": [
    "# 230623 Short reads"
   ]
  },
  {
   "cell_type": "code",
   "execution_count": null,
   "id": "56711f18-57d6-444d-b820-8b28e779394a",
   "metadata": {},
   "outputs": [],
   "source": [
    "# gam_filename2 = \"duplex_sup1_vg2.gam\"\n",
    "gam_filename2 = \"duplex_sup1_subsample_vg2.gam\"\n",
    "msgs3 = []\n",
    "lens = []\n",
    "for msg in tqdm(it.islice(stream.parse(gam_filename2, vg_pb2.Alignment), 10_000_000)):\n",
    "    lens.append(len(msg.sequence))\n",
    "    if 800 <= len(msg.sequence) <= 900:\n",
    "        msgs3.append(msg)\n",
    "    # path = set([m.position.name for m in msg.path.mapping])\n",
    "    # if not ((\"BIT0ON\" in path or \"BIT0OFF\" in path) and \"mScarletI\" in path):\n",
    "    #     continue\n",
    "    # msgs2.append(msg)"
   ]
  },
  {
   "cell_type": "code",
   "execution_count": null,
   "id": "8139e043-bd60-472f-bb07-4e03943bdd6f",
   "metadata": {},
   "outputs": [],
   "source": [
    "msgs3 = list(tqdm(stream.parse(\"duplex_sup1_subsample_vg2.gam\", vg_pb2.Alignment)))"
   ]
  },
  {
   "cell_type": "code",
   "execution_count": null,
   "id": "6ba15001-a71c-455b-ac51-a6c6505257fb",
   "metadata": {},
   "outputs": [],
   "source": [
    "for i in range(100):\n",
    "    msg = msgs3[i]\n",
    "    print(len(msg.sequence))\n",
    "    print(\" \".join(m.position.name for m in msg.path.mapping))\n",
    "    print()"
   ]
  },
  {
   "cell_type": "code",
   "execution_count": null,
   "id": "9aea9e48-76c2-49de-a6e2-9c495561db16",
   "metadata": {},
   "outputs": [],
   "source": [
    "len(\n",
    "    \"TCCTCAATCGCACTGGAAACATCAAGGTCGACGAAAGACCGCTGAGGAGCCAGATACATAGATTACCACAACTCCGAGCCCTTCCACCAAAAAAAACAGATAGCCGCGCGAACGCGGCTAACTGTTGAAAAAAAACAGATAACAGATACCGAAGTATCTGTTATCTTTCCCAAAAAACCCCTCAAGACCCGTTTAGAGGCCCCAAGGGGTTATTACTGATGGCAATGTGATGTCCTCATCTTACTCCCTCTAGTCTATCATTACCCTCCTCCTGCTCTTAACTACCCTCATTCCGACCCTTACTACTACATCATCGACCTTTCTCCATACCCAACTGTCCTAACAACCAACTACTCCGCCTCTTCATCCTCTTTCAACGTTCTCCCTCTATCAACTCAGCAACCACACTCAACTACCATGACATTACACCTCATTCTCCCGACTTTCCACATACTTCCCAGTTTACTCCCTACACCTCCAAGATTCCATACCCACTCTCTTCGCTCTCTACACCCACCAATAAGTTCCTAACAAATCACATCCCGTATCTGTTATGTAATTGCTAGTTAAACAACCCATCCCACCAGATAAATCATTCCCACTACCCGTCAATCCACCATTCCTCAACGAAACTTCATCACTCTCCTCCGCACCCTAACATACAACTCTCGAATACTCTCCCACCTCAACTGCTTCTTCTCTTACACCCTCTGTCTATCATCTCCAAACCACAGACATCTTCTCTCCAACCTTCGCCCTCTTACTTATCTACCCAGACTCCACTACTACTCACTCTGTCACCATAATTCCTCCTCCTGATCCTCCTTCAATACATCCCGAAACACACACTAAACCACCCGTCACCTTTCTCCTTTCCTCTGAGGCTAGCTAACGTTACTGTACGGTATTGTAGAAAAAGGCATAGTGCTGCTAACGTTCGTCCCTATAGTGAGTCGTATTATGTAGTTCCTTATCATCTGC\"\n",
    ")"
   ]
  },
  {
   "cell_type": "code",
   "execution_count": null,
   "id": "bb81d4a7-5a74-45c4-8118-4a0489a54b26",
   "metadata": {},
   "outputs": [],
   "source": [
    "len(\n",
    "    \"CTGAGGAGCCAGATACATAGATTACCACAACTCCGAGCCCTTCCACCAAAAAAAACAGATAGCCGCGCGAACGCGGCTAACTGTTGAAAAAAAACAGATAACAGATACCGAAGTATCTGTTATCTTTCCCAAAAAACCCCTCAAGACCCGTTTAGAGGCCCCAAGGGGTTATTACTGATGGCAATGTGATGTCCTCATCTTACTCCCTCTAGTCTATCATTACCCTCCTCCTGCTCTTAACTACCCTCATTCCGACCCTTACTACTACATCATCGACCTTTCTCCATACCCAACTGTCCTAACAACCAACTACTCCGCCTCTTCATCCTCTTTCAACGTTCTCCCTCTATCAACTCAGCAACCACACTCAACTACCATGACATTACACCTCATTCTCCCGACTTTCCACATACTTCCCAGTTTACTCCCTACACCTCCAAGATTCCATACCCACTCTCTTCGCTCTCTACACCCACCAATAAGTTCCTAACAAATCACATCCCGTATCTGTTATGTAATTGCTAGTTAAACAACCCATCCCACCAGATAAATCATTCCCACTACCCGTCAATCCACCATTCCTCAACGAAACTTCATCACTCTCCTCCGCACCCTAACATACAACTCTCGAATACTCTCCCACCTCAACTGCTTCTTCTCTTACACCCTCTGTCTATCATCTCCAAACCACAGACATCTTCTCTCCAACCTTCGCCCTCTTACTTATCTACCCAGACTCCACTACTACTCACTCTGTCACCATAATTCCTCCTCCTGATCCTCCTTCAATACATCCCGAAACACACACTAAACCACCCGTCACCTTTCTCCTTTCCTCT\"\n",
    ")"
   ]
  },
  {
   "cell_type": "code",
   "execution_count": null,
   "id": "fda70f9f-87a7-4818-ae38-7b7b96fa16b8",
   "metadata": {},
   "outputs": [],
   "source": [
    "import pyfastx"
   ]
  },
  {
   "cell_type": "code",
   "execution_count": null,
   "id": "d6aa4b90-98be-44d7-bfb7-bb9becb300b7",
   "metadata": {},
   "outputs": [],
   "source": [
    "fq = pyfastx.Fastq(\"duplex_sup1_subsample.fastq\")"
   ]
  },
  {
   "cell_type": "code",
   "execution_count": null,
   "id": "d9983358-5689-45c2-87d5-1f39b984162d",
   "metadata": {},
   "outputs": [],
   "source": [
    "fq."
   ]
  },
  {
   "cell_type": "code",
   "execution_count": null,
   "id": "5ab8dc63-0a7b-4ec0-8024-3526e145cf67",
   "metadata": {},
   "outputs": [],
   "source": [
    "fq[\"e8a89209-b020-4f67-ab33-6a97fa35366e;6ce12155-a33f-4657-bb71-eebc07dd1ff7\"].seq"
   ]
  },
  {
   "cell_type": "code",
   "execution_count": null,
   "id": "cd521a84-750f-4453-a2dc-9a44b1a79b52",
   "metadata": {},
   "outputs": [],
   "source": [
    "%%time\n",
    "# offsets = []\n",
    "# ids = set()\n",
    "for msg in msgs3:\n",
    "    if 800 <= len(msg.sequence) <= 900 and msg.path.mapping[0].position.name == \"BetI\":\n",
    "        if 760 <= msg.path.mapping[0].position.offset <= 780 and \";\" in msg.name:\n",
    "            # ids.add(msg.name)\n",
    "            print(f\">{msg.name}\")\n",
    "            print(fq[msg.name].seq)\n",
    "            # print(msg.sequence)\n",
    "        # print(msg);0/0\n",
    "        # offsets.append(msg.path.mapping[0].position.offset)"
   ]
  },
  {
   "cell_type": "code",
   "execution_count": null,
   "id": "684b2fef-bc3a-4547-8f0b-3c34a1df3b3a",
   "metadata": {},
   "outputs": [],
   "source": [
    "len(ids)"
   ]
  },
  {
   "cell_type": "code",
   "execution_count": null,
   "id": "399d61c8-080a-4b5c-a3de-bfc8841293d9",
   "metadata": {},
   "outputs": [],
   "source": [
    "plt.hist(offsets, range=(720, 820), bins=100);"
   ]
  },
  {
   "cell_type": "code",
   "execution_count": null,
   "id": "365e0f3d-2036-4b2f-9afc-ed5cd4831376",
   "metadata": {},
   "outputs": [],
   "source": [
    "msg.name"
   ]
  },
  {
   "cell_type": "code",
   "execution_count": null,
   "id": "672baa39-6a26-403e-85cf-bad71dba2463",
   "metadata": {},
   "outputs": [],
   "source": [
    "plt.hist(lens, bins=100);"
   ]
  },
  {
   "cell_type": "code",
   "execution_count": null,
   "id": "6ab3cf13-d4ca-4349-895c-2b0bd70f2fce",
   "metadata": {},
   "outputs": [],
   "source": [
    "plt.hist(lens, bins=100);"
   ]
  },
  {
   "cell_type": "code",
   "execution_count": null,
   "id": "fb3604e3-b4b6-49ec-ab41-21bd31eec4a8",
   "metadata": {},
   "outputs": [],
   "source": [
    "parts = {\n",
    "    \"LacI\": \"ATGAAACCAGTAACGTTATACGATGTCGCAGAGTATGCCGGTGTCTCTTATATGACCGTTTCCCGCGTGGTGAACCAGGCCAGCCACGTTTCTGCGAAAACGCGGGAAAAAGTGGAAGCGGCGATGGTGGAGCTGAATTACATTCCCAACCGCGTGGCACAACAACTGGCGGGCAAACAGTCGTTGCTGATTGGCGTTGCCACCTCCAGTCTGGCCCTGCACGCGCCGTCGCAAATTGTCGCGGCGATTAAATCTCGCGCCGATCAACTGGGTGCCAGCGTGGTGGTGTCGATGGTAGAACGAAGCGGCGTCGAAGCCTGTAAAGCGGCGGTGCACAATCTTCTCGCGCAACGCGTCAGTGGGCTGATCATTAACTATCCGCTGGATGACCAGGATGCCATTGCTGTGGAAGCTGCCTGCACTAATGTTCCGGCGTTATTTCTTGATGTCTCTGACCAGACACCCATCAACAGTATTATTTACTCCCATGAGGACGGTACGCGACTGGGCGTGGAGCATCTGGTCGCATTGGGTCACCAGCAAATCGCGCTGTTAGCGGGCCCATTAAGTTCTGTCTCGGCGCGTCTGCGTCTGGCTGGCTGGCATAAATATCTCACTCGCAATCAAATTCAGCCGATAGCGGAACGGGAAGGCGACTGGAGTGCCATGTCCGGTTTTCAACAAACCATGCAAATGCTGAATGAGGGCATCGTTCCCACTGCGATGCTGGTTGCCAACGATCAGATGGCGCTGGGCGCAATGCGCGCCATTACCGAGTCCGGGCTGCGCGTTGGTGCGGATATCTCGGTAGTGGGATACGACGATACCGAAGATAGCTCATGTTATATCCCGCCGTTAACCACCATCAAACAGGATTTTCGCCTGCTGGGGCAAACCAGCGTGGACCGCTTGCTGCAACTCTCTCAGGGCCAGGCGGTGAAGGGCAATCAGCTGTTGCCAGTCTCACTGGTGAAAAGAAAAACCACCCTGGCGCCCAATACGCAAACCGCCTCTCCCCGCGCGTTGGCCGATTCATTAATGCAGCTGGCACGACAGGTTTCCCGACTGGAAAGCGGGCAGT\",\n",
    "    \"PhlF\": \"ATGGCACGTACCCCGAGCCGTAGCAGCATTGGTAGCCTGCGTAGTCCGCATACCCATAAAGCAATTCTGACCAGCACCATTGAAATCCTGAAAGAATGTGGTTATAGCGGTCTGAGCATTGAAAGCGTGGCACGTCGCGCCGGTGCAGGCAAACCGACCATTTATCGTTGGTGGACCAACAAAGCAGCACTGATTGCCGAAGTGTATGAAAATGAAATCGAACAGGTACGTAAATTTCCGGATTTGGGTAGCTTTAAAGCCGATCTGGATTTTCTGCTGCATAATCTGTGGAAAGTTTGGCGTGAAACCATTTGTGGTGAAGCATTTCGTTGTGTTATTGCAGAAGCACAGTTGGACCCTGTAACCCTGACCCAACTGAAAGATCAGTTTATGGAACGTCGTCGTGAGATACCGAAAAAACTGGTTGAAGATGCCATTAGCAATGGTGAACTGCCGAAAGATATCAATCGTGAACTGCTGCTGGATATGATTTTTGGTTTTTGTTGGTATCGCCTGCTGACCGAACAGTTGACCGTTGAACAGGATATTGAAGAATTTACCTTCCTGCTGATTAATGGTGTTTGTCCGGGTACACAGTGTTAA\",\n",
    "    \"BetI\": \"ATGCCGAAACTGGGTATGCAGAGCATTCGTCGTCGTCAGCTGATTGATGCAACCCTGGAAGCAATTAATGAAGTTGGTATGCATGATGCAACCATTGCACAGATTGCACGTCGTGCCGGTGTTAGCACCGGTATTATTAGCCATTATTTCCGCGATAAAAACGGTCTACTGGAAGCAACCATGCGTGATATTACCAGCCAGCTGCGTGATGCAGTTCTGAATCGTCTGCATGCACTGCCGCAGGGTAGCGCAGAACAGCGTCTGCAGGCAATTGTTGGTGGTAATTTTGATGAAACCCAGGTTAGCAGCGCAGCAATGAAAGCATGGCTGGCATTTTGGGCAATCAGCATGCATCAGCCGATGCTGTATCGTCTGCAGCAGGTTAGCAGTCGTCGTCTGCTGAGCAATCTGGTTAGCGAATTTCGTCGTGAACTGCCTCGTGAACAGGCACAAGAGGCAGGTTATGGTCTGGCAGCACTGATTGATGGTCTGTGGCTGCGTGCAGCACTGAGCGGTAAACCGCTGGATAAAACCCGTGCAAATAGCCTGACCCGTCATTTTATCACCCAGCATCTGCCGACCGATTAA\",\n",
    "}"
   ]
  },
  {
   "cell_type": "code",
   "execution_count": null,
   "id": "47a75a97-d408-42b9-aecc-a90c03fb5aa7",
   "metadata": {},
   "outputs": [],
   "source": [
    "parts.keys()"
   ]
  },
  {
   "cell_type": "code",
   "execution_count": null,
   "id": "095177c0-9310-47b4-96d3-8de38f98f875",
   "metadata": {},
   "outputs": [],
   "source": [
    "?edlib.align"
   ]
  },
  {
   "cell_type": "code",
   "execution_count": null,
   "id": "6c2f180a-6173-47ba-ad4e-9337f084a0bd",
   "metadata": {},
   "outputs": [],
   "source": [
    "%%time\n",
    "# offsets = []\n",
    "snp_threshold = 50\n",
    "ids = set()\n",
    "misassembled_simplex = defaultdict(list)\n",
    "misassembled_duplex = defaultdict(list)\n",
    "for msg in tqdm(msgs3):\n",
    "    if 800 <= len(msg.sequence) <= 900:\n",
    "        read = fq[msg.name].seq\n",
    "        # print(msg.name)\n",
    "        d1 = tuple(\n",
    "            edlib.align(part, read, mode=\"HW\")[\"editDistance\"]\n",
    "            for part in parts.values()\n",
    "        )\n",
    "        d2 = tuple(\n",
    "            edlib.align(reverse_complement(part), read, mode=\"HW\")[\"editDistance\"]\n",
    "            for part in parts.values()\n",
    "        )\n",
    "        if min(d1) <= min(d2):\n",
    "            d = d1\n",
    "        else:\n",
    "            d = d2\n",
    "        # print(k)\n",
    "        # print()\n",
    "        # continue\n",
    "        key = tuple(dd <= snp_threshold for dd in d)\n",
    "        if \";\" in msg.name:\n",
    "            misassembled_duplex[key].append(read)\n",
    "        else:\n",
    "            misassembled_simplex[key].append(read)\n",
    "        # ids.add(msg.name)\n",
    "        # print(f\">{msg.name}\")\n",
    "        # print(fq[msg.name].seq)\n",
    "        # print(msg.sequence)\n",
    "        # print(msg);0/0\n",
    "        # offsets.append(msg.path.mapping[0].position.offset)"
   ]
  },
  {
   "cell_type": "code",
   "execution_count": null,
   "id": "41cde363-25b6-4a25-ae04-f7a5fb52746d",
   "metadata": {},
   "outputs": [],
   "source": [
    "{k: len(v) for k, v in misassembled_duplex.items()}"
   ]
  },
  {
   "cell_type": "code",
   "execution_count": null,
   "id": "231f3870-8071-44b8-a800-e5f5e772a896",
   "metadata": {},
   "outputs": [],
   "source": [
    "{k: len(v) for k, v in misassembled_simplex.items()}"
   ]
  },
  {
   "cell_type": "code",
   "execution_count": null,
   "id": "72de5d03-39a1-41d4-9fd0-0d231322c07e",
   "metadata": {},
   "outputs": [],
   "source": [
    "idx = 9\n",
    "read = misassembled_duplex[(False, False, False)][idx]\n",
    "end = \"ATCACATTGCCATCAGTAATAACCCCTTGGGGCCTCTAAACGGGTCTTGAGGGGTTTTTTGGGAAAGATAACAGATACTTCGGTATCTGTTATCTGTTTTTTTTCAACAGATAGCCGCGTTCGCGCGGCTATCTGTTTTTTTTGGTGGAAGGGCTCGGAGTTGTGGTAATCTATGTATCCTGG\"\n",
    "print(edlib.align(end, read, mode=\"HW\"))\n",
    "print(edlib.align(reverse_complement(end), read, mode=\"HW\"))"
   ]
  },
  {
   "cell_type": "code",
   "execution_count": null,
   "id": "ee22d71b-22e2-4853-83e2-756a7a21c471",
   "metadata": {},
   "outputs": [],
   "source": [
    "BARCODE_END = \"ATCACATTGCCATCAGTAATAACCCCTTGGGGCCTCTAAACGGGTCTTGAGGGGTTTTTTG\"\n",
    "\n",
    "\n",
    "def trim_barcode(read, end=BARCODE_END, threshold=10):\n",
    "    if (d1 := edlib.align(end, read, mode=\"HW\"))[\"editDistance\"] <= threshold:\n",
    "        # print(\"1\",d1)\n",
    "        return (\n",
    "            read[d1[\"locations\"][0][1] - len(end) + 1 :],\n",
    "            read[: d1[\"locations\"][0][1] - len(end) + 1],\n",
    "        )\n",
    "    elif (d2 := edlib.align(reverse_complement(end), read, mode=\"HW\"))[\n",
    "        \"editDistance\"\n",
    "    ] <= threshold:\n",
    "        # print(\"2\",d2)\n",
    "        return reverse_complement(\n",
    "            read[: d2[\"locations\"][0][1] + 1]\n",
    "        ), reverse_complement(read[d2[\"locations\"][0][1] + 1 :])\n",
    "    else:\n",
    "        return read"
   ]
  },
  {
   "cell_type": "code",
   "execution_count": null,
   "id": "5e0256d2-2cbe-4ca0-9ab5-f5b6f6dfa605",
   "metadata": {},
   "outputs": [],
   "source": [
    "read"
   ]
  },
  {
   "cell_type": "code",
   "execution_count": null,
   "id": "9cf4eefe-6045-4901-8431-4d2d66700c4b",
   "metadata": {},
   "outputs": [],
   "source": [
    "trim_barcode(read)"
   ]
  },
  {
   "cell_type": "code",
   "execution_count": null,
   "id": "0087f6e3-20ec-4750-9c62-f2bce6d5f557",
   "metadata": {},
   "outputs": [],
   "source": [
    "trim_barcode(reverse_complement(read))"
   ]
  },
  {
   "cell_type": "code",
   "execution_count": null,
   "id": "7883d646-87ee-47fa-91b3-d9ff7e468ddd",
   "metadata": {},
   "outputs": [],
   "source": [
    "# TTT: full circuit, no barcode (?)"
   ]
  },
  {
   "cell_type": "code",
   "execution_count": null,
   "id": "c6b22879-5e80-4a86-a7a6-c18440059e43",
   "metadata": {},
   "outputs": [],
   "source": [
    "{k: len(v) for k, v in misassembled_duplex.items()}"
   ]
  },
  {
   "cell_type": "code",
   "execution_count": null,
   "id": "116c39da-de31-4c1a-8e7f-e2812a2b834a",
   "metadata": {},
   "outputs": [],
   "source": [
    "for read in misassembled_duplex[(False, False, False)]:\n",
    "    print(\">FFF\")\n",
    "    print(trim_barcode(read)[0])"
   ]
  },
  {
   "cell_type": "code",
   "execution_count": null,
   "id": "c946c2dd-7549-4274-a07c-5135e611ab67",
   "metadata": {},
   "outputs": [],
   "source": [
    "{k: len(v) for k, v in misassembled_simplex.items()}"
   ]
  }
 ],
 "metadata": {
  "kernelspec": {
   "display_name": "Python 3 (ipykernel)",
   "language": "python",
   "name": "python3"
  },
  "language_info": {
   "codemirror_mode": {
    "name": "ipython",
    "version": 3
   },
   "file_extension": ".py",
   "mimetype": "text/x-python",
   "name": "python",
   "nbconvert_exporter": "python",
   "pygments_lexer": "ipython3",
   "version": "3.10.12"
  }
 },
 "nbformat": 4,
 "nbformat_minor": 5
}
