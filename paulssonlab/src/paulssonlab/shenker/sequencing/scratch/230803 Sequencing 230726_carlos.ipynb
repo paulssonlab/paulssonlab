{
 "cells": [
  {
   "cell_type": "code",
   "execution_count": null,
   "id": "41c57f7d-eb34-40e9-b810-10d4c44d68b2",
   "metadata": {},
   "outputs": [],
   "source": [
    "import itertools as it\n",
    "import operator\n",
    "import re\n",
    "from collections import Counter, defaultdict\n",
    "\n",
    "import gfapy\n",
    "import holoviews as hv\n",
    "import matplotlib.pyplot as plt\n",
    "import numpy as np\n",
    "import pandas as pd\n",
    "import pyarrow as pa\n",
    "from pyarrow import csv\n",
    "from tqdm.auto import tqdm, trange"
   ]
  },
  {
   "cell_type": "code",
   "execution_count": null,
   "id": "f117a156-f6f6-423f-81be-bb5eed890a23",
   "metadata": {},
   "outputs": [],
   "source": [
    "hv.extension(\"bokeh\")"
   ]
  },
  {
   "cell_type": "code",
   "execution_count": null,
   "id": "a42ac136-406c-4b7b-bc46-c160cc31c5c7",
   "metadata": {},
   "outputs": [],
   "source": [
    "!micromamba list|grep protobuf"
   ]
  },
  {
   "cell_type": "code",
   "execution_count": null,
   "id": "3f829381-6d3f-42c8-95af-7ebdf0e5bb54",
   "metadata": {},
   "outputs": [],
   "source": [
    "!micromamba install -y protobuf=4.21.7 async_generator pyarrow"
   ]
  },
  {
   "cell_type": "code",
   "execution_count": null,
   "id": "e0f19477-bf2e-46f2-b254-0f78378d3843",
   "metadata": {},
   "outputs": [],
   "source": [
    "!pip install --no-deps pystream-protobuf"
   ]
  },
  {
   "cell_type": "markdown",
   "id": "a73add2a-6327-4a1d-a8c5-8d8be4cacd24",
   "metadata": {
    "jp-MarkdownHeadingCollapsed": true
   },
   "source": [
    "# GAF"
   ]
  },
  {
   "cell_type": "code",
   "execution_count": null,
   "id": "364d754f-e620-44b1-9727-085d579f55a9",
   "metadata": {},
   "outputs": [],
   "source": [
    "import re\n",
    "from collections import Counter"
   ]
  },
  {
   "cell_type": "code",
   "execution_count": null,
   "id": "257efbfa-f05c-4201-aab8-b110fa6cde7c",
   "metadata": {},
   "outputs": [],
   "source": [
    "def segment_frequences(table, segment_names):\n",
    "    rows = []\n",
    "    for path in table.column(\"path\"):\n",
    "        read_segments = re.split(r\">|<\", str(path))\n",
    "        segment_counts = Counter(read_segments)\n",
    "        rows.append([segment_counts[s] for s in segment_names])\n",
    "    return pd.DataFrame(rows, columns=segment_names, index=table.column(\"name\"))"
   ]
  },
  {
   "cell_type": "code",
   "execution_count": null,
   "id": "624a806b-3a1a-480b-99fe-2355ed9559c0",
   "metadata": {},
   "outputs": [],
   "source": [
    "gfa = gfapy.Gfa.from_file(\"nao745bc.gfa\")"
   ]
  },
  {
   "cell_type": "code",
   "execution_count": null,
   "id": "f24c406b-0574-4ea8-87a0-cacfa5f40391",
   "metadata": {},
   "outputs": [],
   "source": [
    "!du -hs *.gaf"
   ]
  },
  {
   "cell_type": "code",
   "execution_count": null,
   "id": "42e738e7-616a-4fe3-be5b-1764af2655f3",
   "metadata": {},
   "outputs": [],
   "source": [
    "# gaf_filename = \"duplex_hac1_subsample_dbg.gaf\"\n",
    "# gaf_filename = \"duplex_hac1_subsample_dbg2.gaf\"\n",
    "# gaf_filename = \"duplex_hac1_subsample_vg2.gaf\"\n",
    "gaf_filename = \"duplex_sup1_vg2.gaf\""
   ]
  },
  {
   "cell_type": "code",
   "execution_count": null,
   "id": "3627ce22-92d0-4771-aa5c-08b4c2aa18a9",
   "metadata": {},
   "outputs": [],
   "source": [
    "%%time\n",
    "# SEE: http://samtools.github.io/hts-specs/SAMv1.pdf\n",
    "# and https://samtools.github.io/hts-specs/SAMtags.pdf\n",
    "SAM_TAG_TYPES = {\n",
    "    \"A\": pa.dictionary(pa.int32(), pa.string()),\n",
    "    \"f\": pa.float32(),\n",
    "    \"i\": pa.int32(),\n",
    "    \"Z\": pa.string(),\n",
    "}\n",
    "with open(gaf_filename, \"r\") as f:\n",
    "    first = f.readline().split(\"\\t\")\n",
    "tags = first[12:]\n",
    "tag_column_types = {(t := tag.split(\":\"))[0]: SAM_TAG_TYPES[t[1]] for tag in tags}\n",
    "column_types = {\n",
    "    \"name\": pa.string(),\n",
    "    \"query_length\": pa.uint64(),\n",
    "    \"query_start\": pa.uint64(),\n",
    "    \"query_end\": pa.uint64(),\n",
    "    \"strand\": pa.dictionary(pa.int32(), pa.string()),\n",
    "    \"path\": pa.string(),\n",
    "    \"path_length\": pa.uint64(),\n",
    "    \"path_start\": pa.uint64(),\n",
    "    \"path_end\": pa.uint64(),\n",
    "    \"residue_matches\": pa.uint64(),\n",
    "    \"block_length\": pa.uint64(),\n",
    "    \"mapping_quality\": pa.uint8(),\n",
    "    **{tag: pa.string() for tag in tag_column_types.keys()},\n",
    "}\n",
    "read_options = csv.ReadOptions(column_names=column_types.keys())\n",
    "parse_options = csv.ParseOptions(delimiter=\"\\t\")\n",
    "convert_options = csv.ConvertOptions(column_types=column_types)\n",
    "with csv.open_csv(\n",
    "    gaf_filename,\n",
    "    read_options=read_options,\n",
    "    parse_options=parse_options,\n",
    "    convert_options=convert_options,\n",
    ") as f:\n",
    "    # tt = f.read_next_batch()\n",
    "    segment_counts = Counter()\n",
    "    barcode_counts = Counter()\n",
    "    total = 0\n",
    "    duplex = 0\n",
    "    singleton = 0\n",
    "    filtered = 0\n",
    "    # while True:\n",
    "    # for _ in tqdm(it.islice(it.count(), 10)):\n",
    "    for _ in tqdm(it.count()):\n",
    "        try:\n",
    "            table = f.read_next_batch()\n",
    "        except StopIteration:\n",
    "            break\n",
    "        # break\n",
    "        freqs = segment_frequences(table, gfa.segment_names)\n",
    "        duplex += freqs.index.str.contains(\";\").sum()\n",
    "        # filtered_freqs = freqs[(freqs.max(axis=1) == 1) & ((freqs[\"BIT0OFF\"] == 1) | (freqs[\"BIT0ON\"] == 1)) & (freqs[\"pPhlF\"] == 1)]\n",
    "        filtered_freqs = freqs[\n",
    "            freqs.index.str.contains(\";\")\n",
    "            & (freqs.max(axis=1) == 1)\n",
    "            & ((freqs[\"BIT0OFF\"] == 1) | (freqs[\"BIT0ON\"] == 1))\n",
    "            & (freqs[\"RBS1\"] == 1)\n",
    "        ]\n",
    "        # filtered_freqs = freqs\n",
    "        filtered += len(filtered_freqs)\n",
    "        total += len(freqs)\n",
    "        segment_counts.update(list(filtered_freqs.itertuples(index=False)))\n",
    "        barcode_counts.update(\n",
    "            list(\n",
    "                filtered_freqs.loc[\n",
    "                    :, filtered_freqs.columns.str.startswith(\"BIT\")\n",
    "                ].itertuples(index=False)\n",
    "            )\n",
    "        )"
   ]
  },
  {
   "cell_type": "code",
   "execution_count": null,
   "id": "8616bd23-f4bd-4297-bf53-514bb251148a",
   "metadata": {},
   "outputs": [],
   "source": [
    "(filtered, total, filtered / total, duplex, duplex / total)"
   ]
  },
  {
   "cell_type": "code",
   "execution_count": null,
   "id": "5f64c66c-fb58-421f-aee8-6dc4524eaaff",
   "metadata": {},
   "outputs": [],
   "source": [
    "def bit_sums(freqs):\n",
    "    return pd.DataFrame(\n",
    "        {f\"BIT{i}\": freqs[f\"BIT{i}ON\"] + freqs[f\"BIT{i}OFF\"] for i in range(30)}\n",
    "    )"
   ]
  },
  {
   "cell_type": "code",
   "execution_count": null,
   "id": "9763b8e5-1566-4535-ba45-41717a209b24",
   "metadata": {},
   "outputs": [],
   "source": [
    "filtered_freqs.mean(axis=0)"
   ]
  },
  {
   "cell_type": "code",
   "execution_count": null,
   "id": "84214897-f4d2-40ea-a09a-b9749ab9d240",
   "metadata": {},
   "outputs": [],
   "source": [
    "filtered_freqs.loc[:, filtered_freqs.columns.str.endswith(\"ON\")].mean(axis=0).plot.bar()"
   ]
  },
  {
   "cell_type": "code",
   "execution_count": null,
   "id": "d711d797-27e7-4745-8945-b05959a1d41f",
   "metadata": {},
   "outputs": [],
   "source": [
    "filtered_freqs.mean(axis=0).plot.bar()"
   ]
  },
  {
   "cell_type": "code",
   "execution_count": null,
   "id": "e313c97c-52f0-4817-a641-367ba9aae9b7",
   "metadata": {},
   "outputs": [],
   "source": [
    "segment_counts.most_common(3)"
   ]
  },
  {
   "cell_type": "code",
   "execution_count": null,
   "id": "58f78a91-4e6e-41a0-ae5a-ce766391aa0a",
   "metadata": {},
   "outputs": [],
   "source": [
    "barcode_counts.most_common(3)"
   ]
  },
  {
   "cell_type": "code",
   "execution_count": null,
   "id": "ddf65b09-1a1c-41af-92cb-b17b6ba63eb9",
   "metadata": {},
   "outputs": [],
   "source": [
    "plt.hist(barcode_counts.values(), bins=100, log=True);"
   ]
  },
  {
   "cell_type": "code",
   "execution_count": null,
   "id": "7a6384b5-053d-489f-9220-978423617abe",
   "metadata": {},
   "outputs": [],
   "source": [
    "n, bins, patches = plt.hist(\n",
    "    barcode_counts.values(),\n",
    "    100,\n",
    "    histtype=\"step\",\n",
    "    density=False,\n",
    "    cumulative=-1,\n",
    "    log=True,\n",
    ")"
   ]
  },
  {
   "cell_type": "code",
   "execution_count": null,
   "id": "762c6dd2-ebd1-4145-958b-49e8148ced2c",
   "metadata": {},
   "outputs": [],
   "source": [
    "n, bins, patches = plt.hist(\n",
    "    barcode_counts.values(),\n",
    "    100,\n",
    "    range=(0, 10),\n",
    "    histtype=\"step\",\n",
    "    density=False,\n",
    "    cumulative=-1,\n",
    "    log=True,\n",
    ")"
   ]
  },
  {
   "cell_type": "code",
   "execution_count": null,
   "id": "d8d6c3de-aa1b-4b59-8094-344795c9d495",
   "metadata": {},
   "outputs": [],
   "source": [
    "len(barcode_counts)"
   ]
  },
  {
   "cell_type": "code",
   "execution_count": null,
   "id": "4e07ac59-ea7a-435c-9504-d9d8e1120f7f",
   "metadata": {},
   "outputs": [],
   "source": [
    "sum(1 for v in barcode_counts.values() if v == 1)"
   ]
  },
  {
   "cell_type": "code",
   "execution_count": null,
   "id": "239fe3bf-6562-44af-928d-a2587db651ec",
   "metadata": {},
   "outputs": [],
   "source": [
    "sum(1 for v in barcode_counts.values() if v == 2)"
   ]
  },
  {
   "cell_type": "code",
   "execution_count": null,
   "id": "ea99b1ce-83aa-48de-9c1b-adcef9b4df9e",
   "metadata": {},
   "outputs": [],
   "source": [
    "sum(1 for v in barcode_counts.values() if v == 3)"
   ]
  },
  {
   "cell_type": "code",
   "execution_count": null,
   "id": "36efb10b-6dfd-43f6-a399-ecb373ed3bd7",
   "metadata": {},
   "outputs": [],
   "source": [
    "sum(1 for v in barcode_counts.values() if v == 4)"
   ]
  },
  {
   "cell_type": "code",
   "execution_count": null,
   "id": "7172e295-39bf-45c0-b830-5095b3c0d6fd",
   "metadata": {},
   "outputs": [],
   "source": [
    "sum(1 for v in barcode_counts.values() if v >= 5)"
   ]
  },
  {
   "cell_type": "code",
   "execution_count": null,
   "id": "992cbdc7-2319-4e31-82f2-ffc76f7e461e",
   "metadata": {},
   "outputs": [],
   "source": [
    "sum(1 for v in barcode_counts.values() if 5 <= v < 20)"
   ]
  },
  {
   "cell_type": "code",
   "execution_count": null,
   "id": "2df90e05-27a2-4758-b53c-fc9e9302089b",
   "metadata": {},
   "outputs": [],
   "source": [
    "sum(1 for v in barcode_counts.values() if 20 <= v < 100)"
   ]
  },
  {
   "cell_type": "code",
   "execution_count": null,
   "id": "61a12b38-baf6-403e-9687-d3664ead9016",
   "metadata": {},
   "outputs": [],
   "source": [
    "sum(1 for v in barcode_counts.values() if v >= 100)"
   ]
  },
  {
   "cell_type": "code",
   "execution_count": null,
   "id": "2d834b26-1a8e-42bb-8d4c-e5764f5a5317",
   "metadata": {},
   "outputs": [],
   "source": [
    "sum(1 for v in barcode_counts.values() if v >= 100)"
   ]
  },
  {
   "cell_type": "code",
   "execution_count": null,
   "id": "bfb31b75-04c5-46e5-b5cf-e8588612387c",
   "metadata": {},
   "outputs": [],
   "source": [
    "sum(1 for v in barcode_counts.values() if v >= 2)"
   ]
  },
  {
   "cell_type": "code",
   "execution_count": null,
   "id": "7fa20306-0479-44e8-b832-2a4c3ea9637e",
   "metadata": {},
   "outputs": [],
   "source": [
    "max(barcode_counts.values())"
   ]
  },
  {
   "cell_type": "code",
   "execution_count": null,
   "id": "0ef29f66-0b50-486b-a3af-1d9ca56d8220",
   "metadata": {},
   "outputs": [],
   "source": [
    "sum(v for v in barcode_counts.values() if v == 1) / total"
   ]
  },
  {
   "cell_type": "code",
   "execution_count": null,
   "id": "9de66459-1f46-4f65-92c4-21d18507e9cc",
   "metadata": {},
   "outputs": [],
   "source": [
    "sum(1 for v in barcode_counts.values() if v >= 2)"
   ]
  },
  {
   "cell_type": "code",
   "execution_count": null,
   "id": "112d9d6f-31d4-4e23-8e24-145d45786a3a",
   "metadata": {},
   "outputs": [],
   "source": [
    "sum(v for v in barcode_counts.values() if v >= 10)"
   ]
  },
  {
   "cell_type": "code",
   "execution_count": null,
   "id": "0f36df10-91c2-4e1a-b0fd-f5ce027359f3",
   "metadata": {},
   "outputs": [],
   "source": [
    "sum(v for v in barcode_counts.values() if v >= 10) / filtered"
   ]
  },
  {
   "cell_type": "code",
   "execution_count": null,
   "id": "e22083e3-1c23-4fad-8eb6-7f867e619a2c",
   "metadata": {},
   "outputs": [],
   "source": [
    "filtered"
   ]
  },
  {
   "cell_type": "code",
   "execution_count": null,
   "id": "4e56420e-138c-4db1-8733-9e9d5f59288e",
   "metadata": {},
   "outputs": [],
   "source": [
    "sum(v for v in barcode_counts.values())"
   ]
  },
  {
   "cell_type": "code",
   "execution_count": null,
   "id": "ed2ee98d-a203-4f91-acf5-77a015bc7614",
   "metadata": {},
   "outputs": [],
   "source": [
    "n, bins, patches = plt.hist(\n",
    "    barcode_counts.values(),\n",
    "    100,\n",
    "    range=(0, 20),\n",
    "    histtype=\"step\",\n",
    "    density=True,\n",
    "    cumulative=-1,\n",
    "    log=True,\n",
    ")"
   ]
  },
  {
   "cell_type": "code",
   "execution_count": null,
   "id": "fd4114b2-64c4-4823-a2ad-2640b87428c3",
   "metadata": {},
   "outputs": [],
   "source": [
    "gfa.try_get_segment(\"BIT1OFF\")"
   ]
  },
  {
   "cell_type": "code",
   "execution_count": null,
   "id": "3b98b197-c6c7-4ce7-8808-78179f007bf3",
   "metadata": {},
   "outputs": [],
   "source": [
    "import uuid"
   ]
  },
  {
   "cell_type": "code",
   "execution_count": null,
   "id": "43d4b001-7975-416b-8305-3ab697bc7549",
   "metadata": {},
   "outputs": [],
   "source": [
    "u = uuid.UUID(\"6e507a8a-c271-4561-8768-0f9bf9d4c301\")"
   ]
  },
  {
   "cell_type": "code",
   "execution_count": null,
   "id": "a9a777ab-b3cd-42d0-a268-6fb85a9da889",
   "metadata": {},
   "outputs": [],
   "source": [
    "import sys"
   ]
  },
  {
   "cell_type": "code",
   "execution_count": null,
   "id": "ed06a87c-e934-43e3-bb84-cd0ac490dd3a",
   "metadata": {},
   "outputs": [],
   "source": [
    "sys.getsizeof(u.int)"
   ]
  },
  {
   "cell_type": "code",
   "execution_count": null,
   "id": "7aed6ee7-9e71-459d-bfcf-e1946bf8b2ff",
   "metadata": {},
   "outputs": [],
   "source": [
    "sys.getsizeof(\"6e507a8a-c271-4561-8768-0f9bf9d4c301\")"
   ]
  },
  {
   "cell_type": "code",
   "execution_count": null,
   "id": "772202ad-5419-4791-be72-5fff411027d3",
   "metadata": {},
   "outputs": [],
   "source": [
    "u.int"
   ]
  },
  {
   "cell_type": "code",
   "execution_count": null,
   "id": "e1eeeaff-f54e-4584-aaa6-37804acaf492",
   "metadata": {},
   "outputs": [],
   "source": [
    "t[\"cg\"][0]"
   ]
  },
  {
   "cell_type": "code",
   "execution_count": null,
   "id": "f6a2e444-c446-4056-9b93-6a228111b6b9",
   "metadata": {},
   "outputs": [],
   "source": [
    "t[\"name\"].str.split(\";\")"
   ]
  },
  {
   "cell_type": "markdown",
   "id": "7e8d4597-823c-4899-b117-0160ef0fed32",
   "metadata": {},
   "source": [
    "# GAM"
   ]
  },
  {
   "cell_type": "code",
   "execution_count": null,
   "id": "24a13640-9370-4560-b8bb-7f12971a1ad9",
   "metadata": {},
   "outputs": [],
   "source": [
    "# 1) segment_cigars df (segment coördinates, normalize orientation) [numba]\n",
    "# 2) segment_mismatches df (cellwise apply, get insertions/deletions/mismatches/equal)\n",
    "# 3) filter on barcode mismatches (?)\n",
    "# 4) group segment_cigars by barcode, run cigar_aggregation on non-barcode (or all!) segments\n",
    "# 5)"
   ]
  },
  {
   "cell_type": "code",
   "execution_count": null,
   "id": "790f389d-9fca-4231-9089-e4b01526fbc9",
   "metadata": {},
   "outputs": [],
   "source": [
    "import os\n",
    "import sys\n",
    "from pathlib import Path\n",
    "\n",
    "sys.path.append(str(Path(os.environ[\"src\"]) / \"sequencing\"))\n",
    "\n",
    "import stream\n",
    "import vg_pb2"
   ]
  },
  {
   "cell_type": "code",
   "execution_count": null,
   "id": "bb817db6-c849-4abe-a0b4-67fe0cef085b",
   "metadata": {},
   "outputs": [],
   "source": [
    "temp_dir = Path(\"/home/jqs1/scratch/jqs1/sequencing/230726_carlos/no_sample/temp/\")"
   ]
  },
  {
   "cell_type": "code",
   "execution_count": null,
   "id": "1139466d-fe4b-4c85-86da-961547956e99",
   "metadata": {},
   "outputs": [],
   "source": [
    "gfa_filename = temp_dir / \"barcode_daniel.gfa\"\n",
    "gfa = gfapy.Gfa.from_file(gfa_filename)\n",
    "segments = {s.name: s.sequence for s in gfa.segments}"
   ]
  },
  {
   "cell_type": "code",
   "execution_count": null,
   "id": "b5aa2cec-c48c-42d5-9556-2798d00ad1ce",
   "metadata": {},
   "outputs": [],
   "source": [
    "# gam_filename = \"duplex_sup1_subsample_vg2.gam\"\n",
    "# gam_filename = \"reverse_test_duplex.gam\"\n",
    "# gam_filename = \"reverse_test_simplex.gam\"\n",
    "# gam_filename = \"reverse_test_duplex_t1.gam\"\n",
    "gam_filename = temp_dir / \"duplex_sup1.gam\""
   ]
  },
  {
   "cell_type": "code",
   "execution_count": null,
   "id": "b539cfe4-24c5-46e3-b902-288852cbe817",
   "metadata": {},
   "outputs": [],
   "source": [
    "from enum import Enum\n",
    "from typing import NamedTuple\n",
    "\n",
    "\n",
    "class Op(Enum):\n",
    "    INSERTION = 1\n",
    "    DELETION = 2\n",
    "    SUBSTITUTION = 3\n",
    "\n",
    "\n",
    "class Edit(NamedTuple):\n",
    "    op: Op\n",
    "    index: int\n",
    "    seq: str\n",
    "    length: int\n",
    "\n",
    "    def __repr__(self):\n",
    "        match self.op:\n",
    "            case Op.INSERTION:\n",
    "                return f\"I:{self.index}:{self.seq or ''}\"\n",
    "            case Op.DELETION:\n",
    "                return f\"D:{self.index}:{self.length}\"\n",
    "            case Op.SUBSTITUTION:\n",
    "                return f\"S:{self.index}:{self.seq or ''}\"\n",
    "            case _:\n",
    "                return f\"{self.op}:{self.index}:{self.seq or self.length or ''}\"\n",
    "\n",
    "    __str__ = __repr__"
   ]
  },
  {
   "cell_type": "code",
   "execution_count": null,
   "id": "1c1c6faa-46d3-4fab-aba6-3b6557f1ccee",
   "metadata": {},
   "outputs": [],
   "source": [
    "from Bio.Seq import Seq\n",
    "\n",
    "\n",
    "def local_index(index, length, is_reverse):\n",
    "    if is_reverse:\n",
    "        return length - index\n",
    "    else:\n",
    "        return index\n",
    "\n",
    "\n",
    "def reverse_complement(seq):\n",
    "    return str(Seq(seq).reverse_complement())\n",
    "\n",
    "\n",
    "def reversed_seq(seq, is_reverse):\n",
    "    if is_reverse:\n",
    "        return reverse_complement(seq)\n",
    "    else:\n",
    "        return seq\n",
    "\n",
    "\n",
    "def extract_read_segments(msg):\n",
    "    segment_seqs = {}\n",
    "    # segment_read_indices = {}\n",
    "    read_index = 0\n",
    "    for mapping in msg.path.mapping:\n",
    "        segment_name = mapping.position.name\n",
    "        offset = mapping.position.offset\n",
    "        segment_read_start = read_index\n",
    "        is_reverse = mapping.position.is_reverse\n",
    "        segment_length = len(segments[segment_name])\n",
    "        for edit in mapping.edit:\n",
    "            if edit.from_length == edit.to_length:\n",
    "                # snp/match\n",
    "                read_index += edit.to_length\n",
    "            elif not edit.to_length:\n",
    "                # deletion\n",
    "                continue\n",
    "            elif edit.from_length < edit.to_length:\n",
    "                # insertion\n",
    "                # if from_length > 0: need to remove matching bases from both sides\n",
    "                assert edit.from_length == 0\n",
    "                read_index += edit.to_length\n",
    "        segment_read_end = read_index\n",
    "        seq = msg.sequence[segment_read_start:segment_read_end]\n",
    "        if is_reverse:\n",
    "            seq = reverse_complement(seq)\n",
    "        segment_seqs[segment_name] = seq\n",
    "        # segment_read_indices[segment_name] = (segment_read_start, segment_read_end)\n",
    "    return segment_seqs"
   ]
  },
  {
   "cell_type": "markdown",
   "id": "b9c46131-97fb-4963-a869-fe418867c70f",
   "metadata": {},
   "source": [
    "# Raw reads"
   ]
  },
  {
   "cell_type": "code",
   "execution_count": null,
   "id": "24130f25-3e9e-4b55-a837-21a5191e2e99",
   "metadata": {},
   "outputs": [],
   "source": [
    "segment_names = list(segments.keys())"
   ]
  },
  {
   "cell_type": "code",
   "execution_count": null,
   "id": "73a14091-0b97-44fd-98e8-0f9ad2a7e951",
   "metadata": {},
   "outputs": [],
   "source": [
    "segment_names"
   ]
  },
  {
   "cell_type": "code",
   "execution_count": null,
   "id": "487ca557-3ed2-45b1-8886-29e219edfc4d",
   "metadata": {},
   "outputs": [],
   "source": [
    "msgs = list(it.islice(stream.parse(str(gam_filename), vg_pb2.Alignment), 100))"
   ]
  },
  {
   "cell_type": "code",
   "execution_count": null,
   "id": "ff0af3b0-583a-4567-b7b2-05796bd6721f",
   "metadata": {},
   "outputs": [],
   "source": [
    "msgs[0]"
   ]
  },
  {
   "cell_type": "code",
   "execution_count": null,
   "id": "3d07f696-4d0f-4ad6-8e91-172641a6aaa9",
   "metadata": {},
   "outputs": [],
   "source": [
    "starts = Counter()\n",
    "ends = Counter()\n",
    "counts = Counter()\n",
    "for msg in tqdm(it.islice(stream.parse(str(gam_filename), vg_pb2.Alignment), 100_000)):\n",
    "    endpoints = (msg.path.mapping[0].position.name, msg.path.mapping[-1].position.name)\n",
    "    if segment_names.index(endpoints[0]) >= segment_names.index(endpoints[1]):\n",
    "        endpoints = endpoints[::-1]\n",
    "    starts[endpoints[0]] += 1\n",
    "    ends[endpoints[1]] += 1\n",
    "    for mapping in msg.path.mapping:\n",
    "        counts[mapping.position.name] += 1"
   ]
  },
  {
   "cell_type": "code",
   "execution_count": null,
   "id": "477d4e9e-693e-464a-8424-2b658b077493",
   "metadata": {},
   "outputs": [],
   "source": [
    "sorted(starts.items(), key=operator.itemgetter(1), reverse=True)"
   ]
  },
  {
   "cell_type": "code",
   "execution_count": null,
   "id": "26ffc94d-f6d7-46b0-bd0f-68b7614ff446",
   "metadata": {},
   "outputs": [],
   "source": [
    "sorted(ends.items(), key=operator.itemgetter(1), reverse=True)"
   ]
  },
  {
   "cell_type": "code",
   "execution_count": null,
   "id": "c985ea3e-9b2d-4469-8a5f-33226a2ec240",
   "metadata": {},
   "outputs": [],
   "source": [
    "sorted(counts.items(), key=operator.itemgetter(1), reverse=True)"
   ]
  },
  {
   "cell_type": "markdown",
   "id": "b32e1f9b-fbdc-41a9-b050-802b3560bb4f",
   "metadata": {},
   "source": [
    "# Group by barcode"
   ]
  },
  {
   "cell_type": "code",
   "execution_count": null,
   "id": "05e27907-34e6-43a2-9cb0-d3e8659d2a38",
   "metadata": {},
   "outputs": [],
   "source": [
    "# gam_filename = \"duplex_sup1_subsample_vg2.gam\"\n",
    "# gam_filename = \"duplex_sup1_vg2.gam\""
   ]
  },
  {
   "cell_type": "code",
   "execution_count": null,
   "id": "4492f026-ff60-46f1-8ea0-baeac599edb9",
   "metadata": {},
   "outputs": [],
   "source": [
    "%%time\n",
    "barcode_msgs = defaultdict(list)\n",
    "# for msg in tqdm(it.islice(stream.parse(gam_filename, vg_pb2.Alignment), 100_000)):\n",
    "for msg in tqdm(\n",
    "    it.islice(stream.parse(str(gam_filename), vg_pb2.Alignment), 10_000_000)\n",
    "):\n",
    "    # for msg in tqdm(stream.parse(gam_filename, vg_pb2.Alignment)):\n",
    "    path = set([m.position.name for m in msg.path.mapping])\n",
    "    if not ((\"BIT0ON\" in path or \"BIT0OFF\" in path) and \"SPACER2\" in path):\n",
    "        continue\n",
    "    barcode = tuple(1 if f\"BIT{i}ON\" in path else 0 for i in range(30))\n",
    "    barcode_msgs[barcode].append(msg)"
   ]
  },
  {
   "cell_type": "code",
   "execution_count": null,
   "id": "f9e97f65-6258-4dac-8cdd-d53f5b332604",
   "metadata": {},
   "outputs": [],
   "source": [
    "%%time\n",
    "threshold = 3\n",
    "culling_interval = 100_000\n",
    "reps = 30\n",
    "barcode_msgs = defaultdict(list)\n",
    "\n",
    "reader = stream.parse(gam_filename, vg_pb2.Alignment)\n",
    "for rep in trange(reps):\n",
    "    try:\n",
    "        for msg in tqdm(it.islice(reader, culling_interval)):\n",
    "            path = set([m.position.name for m in msg.path.mapping])\n",
    "            if not ((\"BIT0ON\" in path or \"BIT0OFF\" in path) and \"SPACER2\" in path):\n",
    "                continue\n",
    "            barcode = tuple(1 if f\"BIT{i}ON\" in path else 0 for i in range(30))\n",
    "            barcode_msgs[barcode].append(msg)\n",
    "    except StopIteration:\n",
    "        print(\"DONE!\")\n",
    "        pass\n",
    "    remove_keys = []\n",
    "    for k, v in barcode_msgs.items():\n",
    "        if len(v) < threshold:\n",
    "            remove_keys.append(k)\n",
    "    for k in remove_keys:\n",
    "        del barcode_msgs[k]"
   ]
  },
  {
   "cell_type": "code",
   "execution_count": null,
   "id": "60a9c846-fec7-40a6-a87c-bb5d1acafcd2",
   "metadata": {},
   "outputs": [],
   "source": [
    "len(barcode_msgs)"
   ]
  },
  {
   "cell_type": "code",
   "execution_count": null,
   "id": "8e1ac230-e335-4f0d-a62b-64dd7799268a",
   "metadata": {},
   "outputs": [],
   "source": [
    "list(sorted(Counter(len(v) for k, v in barcode_msgs.items()).items()))"
   ]
  },
  {
   "cell_type": "code",
   "execution_count": null,
   "id": "d9cedf3b-6aae-47f2-841b-3cf6a375c1ff",
   "metadata": {},
   "outputs": [],
   "source": [
    "barcode_msgs_cluster = defaultdict(list)\n",
    "for k, v in barcode_msgs.items():\n",
    "    barcode_msgs_cluster[len(v)].append(v)"
   ]
  },
  {
   "cell_type": "code",
   "execution_count": null,
   "id": "8c69db3e-5680-40ae-8758-6561d5f17185",
   "metadata": {},
   "outputs": [],
   "source": [
    "msgs = barcode_msgs_cluster[109][1]"
   ]
  },
  {
   "cell_type": "code",
   "execution_count": null,
   "id": "8330180b-74ac-4bc8-9084-adc367885867",
   "metadata": {},
   "outputs": [],
   "source": [
    "del barcode_msgs_cluster, barcode_msgs"
   ]
  },
  {
   "cell_type": "markdown",
   "id": "3c1ef744-de17-4450-a248-4621f20dbde5",
   "metadata": {},
   "source": [
    "# Copy number distribution"
   ]
  },
  {
   "cell_type": "code",
   "execution_count": null,
   "id": "9f8a40c6-5114-40cf-b68a-185cad72e654",
   "metadata": {},
   "outputs": [],
   "source": [
    "def count(values):\n",
    "    return sorted(Counter(values).items())\n",
    "\n",
    "\n",
    "def hist(ary, normalize=False):\n",
    "    ary = np.array(ary)\n",
    "    bins = ary[:, 0]\n",
    "    pmf = ary[:, 1]\n",
    "    if normalize:\n",
    "        pmf = pmf / pmf.sum()\n",
    "    rcmf = np.cumsum(pmf[::-1])[::-1]\n",
    "    pmf_bins = np.arange(bins.min(), bins.max() + 1)\n",
    "    pmf_full = np.zeros(len(pmf_bins))\n",
    "    pmf_dict = {bins[idx]: pmf[idx] for idx in range(len(bins))}\n",
    "    for idx in range(len(pmf_full)):\n",
    "        if (bin := pmf_bins[idx]) in pmf_dict:\n",
    "            pmf_full[idx] = pmf_dict[bin]\n",
    "    return hv.Curve((pmf_bins, pmf_full)).options(\n",
    "        interpolation=\"steps-mid\", logy=True\n",
    "    ) * hv.Curve((bins, rcmf)).options(interpolation=\"steps-pre\", logy=True)"
   ]
  },
  {
   "cell_type": "code",
   "execution_count": null,
   "id": "4efdf3b1-c7d5-40ff-a065-2e2b2b22615c",
   "metadata": {},
   "outputs": [],
   "source": [
    "len(barcode_msgs)"
   ]
  },
  {
   "cell_type": "code",
   "execution_count": null,
   "id": "74d0eb04-b1e3-4df3-b503-ff4e45a9b368",
   "metadata": {},
   "outputs": [],
   "source": [
    "sum(len(msgs) for bc, msgs in barcode_msgs.items())"
   ]
  },
  {
   "cell_type": "code",
   "execution_count": null,
   "id": "323e592c-b102-4a46-aaa7-1aa2d4d0aa88",
   "metadata": {},
   "outputs": [],
   "source": [
    "num_reads_by_depth = sorted(\n",
    "    {\n",
    "        num_reads: len(barcodes) * num_reads\n",
    "        for num_reads, barcodes in barcode_msgs_cluster.items()\n",
    "    }.items()\n",
    ")"
   ]
  },
  {
   "cell_type": "code",
   "execution_count": null,
   "id": "d53b528e-5b24-4f36-8b9b-62f0014af0ae",
   "metadata": {},
   "outputs": [],
   "source": [
    "num_reads_by_depth_duplex = sorted(\n",
    "    {\n",
    "        num_reads: sum(sum(\";\" in msg.name for msg in msgs) for msgs in barcodes)\n",
    "        for num_reads, barcodes in barcode_msgs_cluster.items()\n",
    "    }.items()\n",
    ")"
   ]
  },
  {
   "cell_type": "code",
   "execution_count": null,
   "id": "46fcb44e-b2cd-4ad9-ba2e-71044a285e83",
   "metadata": {},
   "outputs": [],
   "source": [
    "hist(num_reads_by_depth, normalize=False).redim(\n",
    "    x=\"reads_per_barcode\", y=\"total_reads\"\n",
    ").opts(width=800, height=600)"
   ]
  },
  {
   "cell_type": "code",
   "execution_count": null,
   "id": "aeba430f-ca26-4055-a403-2d2783f9f409",
   "metadata": {},
   "outputs": [],
   "source": [
    "sum(len(x) == 1 for x in barcode_msgs.values())"
   ]
  },
  {
   "cell_type": "code",
   "execution_count": null,
   "id": "e171d876-f12d-4446-9174-31e6802eb999",
   "metadata": {},
   "outputs": [],
   "source": [
    "%%time\n",
    "sum(sum(\";\" in msg.name for msg in x) >= 1 for x in barcode_msgs.values())"
   ]
  },
  {
   "cell_type": "code",
   "execution_count": null,
   "id": "6ed6e698-eed5-4cff-8376-0cea01368218",
   "metadata": {},
   "outputs": [],
   "source": [
    "%%time\n",
    "sum(sum(\";\" in msg.name for msg in x) >= 2 for x in barcode_msgs.values())"
   ]
  },
  {
   "cell_type": "code",
   "execution_count": null,
   "id": "8d5b783c-c5a2-4e5d-b13c-4aaa004c91e5",
   "metadata": {},
   "outputs": [],
   "source": [
    "count_dist = count(len(v) for v in barcode_msgs.values())"
   ]
  },
  {
   "cell_type": "code",
   "execution_count": null,
   "id": "0d6bc6b5-f35c-4301-bd92-4cf55f3fc85e",
   "metadata": {},
   "outputs": [],
   "source": [
    "count_dist_duplex = count(\n",
    "    sum(\";\" in msg.name for msg in v) for v in barcode_msgs.values()\n",
    ")"
   ]
  },
  {
   "cell_type": "code",
   "execution_count": null,
   "id": "3ef8eb18-d5a6-4b1a-aeba-ce78a0abf7da",
   "metadata": {},
   "outputs": [],
   "source": [
    "hist(count_dist, normalize=True).redim(x=\"reads_per_barcode\", y=\"counts\").opts(\n",
    "    width=800, height=600\n",
    ")"
   ]
  },
  {
   "cell_type": "code",
   "execution_count": null,
   "id": "1613bdec-37b3-4f1a-8aa6-5aeb13cc8f73",
   "metadata": {},
   "outputs": [],
   "source": [
    "count_dist_duplex"
   ]
  },
  {
   "cell_type": "code",
   "execution_count": null,
   "id": "2030cf06-4752-4c69-acaf-5efa661dbaad",
   "metadata": {},
   "outputs": [],
   "source": [
    "hist(count_dist_duplex).opts(width=800, height=600)"
   ]
  },
  {
   "cell_type": "code",
   "execution_count": null,
   "id": "663db2e2-5893-4b48-b724-2762e1e7272a",
   "metadata": {},
   "outputs": [],
   "source": [
    "counts = np.array(sorted(count_dist2.items()))\n",
    "bins = counts[:, 0]"
   ]
  },
  {
   "cell_type": "code",
   "execution_count": null,
   "id": "a3975fc1-2f68-48c9-be78-51405a70fc59",
   "metadata": {},
   "outputs": [],
   "source": [
    "pmf = counts[:, 1] / counts[:, 1].sum()"
   ]
  },
  {
   "cell_type": "code",
   "execution_count": null,
   "id": "843a9ad2-0dc5-4ea8-a365-7a33c9a3030c",
   "metadata": {},
   "outputs": [],
   "source": [
    "rcmf = np.cumsum(pmf[::-1])[::-1]"
   ]
  },
  {
   "cell_type": "code",
   "execution_count": null,
   "id": "02384758-8da9-477d-bf47-82645459f8b9",
   "metadata": {},
   "outputs": [],
   "source": [
    "bins"
   ]
  },
  {
   "cell_type": "code",
   "execution_count": null,
   "id": "17e2bad9-172d-4329-80be-fa9831472541",
   "metadata": {},
   "outputs": [],
   "source": [
    "hv.Curve((bins, rcmf)).options(interpolation=\"steps-pre\", logy=True)"
   ]
  },
  {
   "cell_type": "code",
   "execution_count": null,
   "id": "eba63624-1732-4b07-8c9a-5b15329049ad",
   "metadata": {},
   "outputs": [],
   "source": [
    "pmf"
   ]
  },
  {
   "cell_type": "code",
   "execution_count": null,
   "id": "c18d93e1-85db-49fb-baec-972475e75700",
   "metadata": {},
   "outputs": [],
   "source": [
    "hist(sorted(count_dist.items()))"
   ]
  },
  {
   "cell_type": "code",
   "execution_count": null,
   "id": "5b395876-cf5c-481e-94e7-a24b6dd7134c",
   "metadata": {},
   "outputs": [],
   "source": [
    "sorted(count_dist.items())"
   ]
  },
  {
   "cell_type": "markdown",
   "id": "7b425ccd-7b2b-410f-ad41-6e67206ec329",
   "metadata": {},
   "source": [
    "# Edit distances"
   ]
  },
  {
   "cell_type": "code",
   "execution_count": null,
   "id": "933d58bd-7a2a-45c3-b3b8-ed1b66c95668",
   "metadata": {},
   "outputs": [],
   "source": [
    "import edlib"
   ]
  },
  {
   "cell_type": "code",
   "execution_count": null,
   "id": "c3c2f326-13a0-49de-8428-d8d22d9760ff",
   "metadata": {},
   "outputs": [],
   "source": [
    "extract_read_segments(msgs[0])[\"RBS2\"]"
   ]
  },
  {
   "cell_type": "code",
   "execution_count": null,
   "id": "aa678aaa-2b38-42e6-a61e-91114f3b0667",
   "metadata": {},
   "outputs": [],
   "source": [
    "extract_read_segments(msgs[1])[\"RBS2\"]"
   ]
  },
  {
   "cell_type": "code",
   "execution_count": null,
   "id": "2fe6beca-b260-4b92-a6d0-c1519e3fe5ef",
   "metadata": {},
   "outputs": [],
   "source": [
    "edlib.align(\"AACATAGAGGGATTATTGG\", \"AACATAAGGGGCTCCG\", task=\"path\")[\"editDistance\"]"
   ]
  },
  {
   "cell_type": "code",
   "execution_count": null,
   "id": "b2e87752-0e12-47ee-afd6-55637577e637",
   "metadata": {},
   "outputs": [],
   "source": [
    "import edlib\n",
    "\n",
    "\n",
    "def align(a, b):\n",
    "    res = edlib.align(a, b, task=\"path\")\n",
    "    print(\"\\n\".join(edlib.getNiceAlignment(res, a, b).values()))"
   ]
  },
  {
   "cell_type": "code",
   "execution_count": null,
   "id": "d153eb0f-5dc3-4a0e-8a5b-085493458dd2",
   "metadata": {},
   "outputs": [],
   "source": [
    "align(\"AACATAGAGGGATTATTGG\", \"AACATAAGGGGCTCCG\")"
   ]
  },
  {
   "cell_type": "code",
   "execution_count": null,
   "id": "c809acd4-4faf-4e8d-b8ee-6d7cef2e7a5b",
   "metadata": {},
   "outputs": [],
   "source": [
    "def distance_matrices(msgs, segments):\n",
    "    Ms = {}\n",
    "    extracted_segments = [extract_read_segments(msg) for msg in msgs]\n",
    "    for segment in tqdm(segments.keys()):\n",
    "        if segment not in extracted_segments[0]:\n",
    "            continue\n",
    "        M = np.zeros((len(msgs), len(msgs)), dtype=np.uint16)\n",
    "        for i in range(len(msgs)):\n",
    "            s1 = extracted_segments[i][segment]\n",
    "            for j in range(i):\n",
    "                s2 = extracted_segments[j][segment]\n",
    "                M[i, j] = M[j, i] = edlib.align(s1, s2)[\"editDistance\"]\n",
    "        Ms[segment] = M\n",
    "    return Ms"
   ]
  },
  {
   "cell_type": "code",
   "execution_count": null,
   "id": "802973e3-82ae-4c2b-850c-6db49ff39db6",
   "metadata": {},
   "outputs": [],
   "source": [
    "import scipy\n",
    "from scipy.cluster import hierarchy\n",
    "\n",
    "\n",
    "def sorted_matrix_indices(arr):\n",
    "    # return arr[0].argsort()\n",
    "    linkage = hierarchy.linkage(\n",
    "        scipy.spatial.distance.squareform(arr), method=\"single\", metric=\"euclidean\"\n",
    "    )\n",
    "    return hierarchy.dendrogram(linkage, no_plot=True, color_threshold=-np.inf)[\n",
    "        \"leaves\"\n",
    "    ]\n",
    "\n",
    "\n",
    "def sort_matrix(arr, idxs=None):\n",
    "    if idxs is None:\n",
    "        idxs = sorted_matrix_indices(arr)\n",
    "    return arr[idxs, :][:, idxs]"
   ]
  },
  {
   "cell_type": "code",
   "execution_count": null,
   "id": "4f32d3ed-709b-46c9-bb7b-fbae7bf14dc9",
   "metadata": {},
   "outputs": [],
   "source": [
    "0"
   ]
  },
  {
   "cell_type": "code",
   "execution_count": null,
   "id": "6877207d-608f-4523-bae5-46db17a56a8b",
   "metadata": {},
   "outputs": [],
   "source": [
    "msgs = barcode_msgs_cluster[444][0]"
   ]
  },
  {
   "cell_type": "code",
   "execution_count": null,
   "id": "6f13f20c-0023-4a91-8c17-0a914de58974",
   "metadata": {},
   "outputs": [],
   "source": [
    "Ms = distance_matrices([msg for msg in msgs if \";\" in msg.name], segments)\n",
    "Ms2 = distance_matrices([msg for msg in msgs], segments)"
   ]
  },
  {
   "cell_type": "code",
   "execution_count": null,
   "id": "d784457e-59a5-475e-8bcc-44b5c2f68ff4",
   "metadata": {},
   "outputs": [],
   "source": [
    "idxs = sorted_matrix_indices(Ms[\"BetI\"])\n",
    "plt.imshow(sort_matrix(Ms[\"BetI\"], idxs));"
   ]
  },
  {
   "cell_type": "code",
   "execution_count": null,
   "id": "07848196-1cfd-4b52-b47d-8bd487ac1784",
   "metadata": {},
   "outputs": [],
   "source": [
    "segments.keys()"
   ]
  },
  {
   "cell_type": "code",
   "execution_count": null,
   "id": "c77f5308-081a-4d0f-a087-7a100ab38512",
   "metadata": {},
   "outputs": [],
   "source": [
    "idxs = sorted_matrix_indices(Ms[\"RBS1\"])"
   ]
  },
  {
   "cell_type": "code",
   "execution_count": null,
   "id": "45b7c798-3ca6-44d6-ba03-7f23b9520382",
   "metadata": {},
   "outputs": [],
   "source": [
    "idxs = sorted_matrix_indices(Ms[\"RBS1\"] + Ms[\"RBS2\"] + Ms[\"RBS3\"])"
   ]
  },
  {
   "cell_type": "code",
   "execution_count": null,
   "id": "62d79000-9a7f-4abb-908f-e6022b8844b7",
   "metadata": {},
   "outputs": [],
   "source": [
    "Ms[\"RBS2\"].shape"
   ]
  },
  {
   "cell_type": "code",
   "execution_count": null,
   "id": "fea6fd02-e35c-45fc-8fdf-9c970e53d95e",
   "metadata": {},
   "outputs": [],
   "source": [
    "Ms[\"RBS2\"].mean()"
   ]
  },
  {
   "cell_type": "code",
   "execution_count": null,
   "id": "8ddc1792-d2de-4630-935f-77b9347eae70",
   "metadata": {},
   "outputs": [],
   "source": [
    "plt.imshow(sort_matrix(Ms[\"RBS1\"], idxs));"
   ]
  },
  {
   "cell_type": "code",
   "execution_count": null,
   "id": "912bb271-18c5-44b4-b40d-365d8d6d031a",
   "metadata": {},
   "outputs": [],
   "source": [
    "plt.imshow(sort_matrix(Ms[\"RBS2\"], idxs));"
   ]
  },
  {
   "cell_type": "code",
   "execution_count": null,
   "id": "b30b0b32-3334-43eb-aa34-a60fa73b969e",
   "metadata": {},
   "outputs": [],
   "source": [
    "plt.imshow(sort_matrix(Ms[\"RBS3\"], idxs));"
   ]
  },
  {
   "cell_type": "code",
   "execution_count": null,
   "id": "fd94426f-7dc1-46f0-aa99-f8701c354c87",
   "metadata": {},
   "outputs": [],
   "source": [
    "idxs2 = sorted_matrix_indices(Ms2[\"RBS2\"])"
   ]
  },
  {
   "cell_type": "code",
   "execution_count": null,
   "id": "50bbaeac-f39b-4f57-a856-a832c33483e0",
   "metadata": {},
   "outputs": [],
   "source": [
    "idxs2 = sorted_matrix_indices(Ms2[\"RBS1\"] + Ms2[\"RBS2\"] + Ms2[\"RBS3\"])"
   ]
  },
  {
   "cell_type": "code",
   "execution_count": null,
   "id": "d6048bc4-8f6e-4278-a5e8-69aa25f90f85",
   "metadata": {},
   "outputs": [],
   "source": [
    "segments.keys()"
   ]
  },
  {
   "cell_type": "code",
   "execution_count": null,
   "id": "eb520cb9-1008-440d-9d3d-e2745edde383",
   "metadata": {},
   "outputs": [],
   "source": [
    "idxs2 = sorted_matrix_indices(Ms2[\"pBetI\"] + Ms2[\"pTac\"] + Ms2[\"pPhlF\"] + +Ms2[\"BetI\"])"
   ]
  },
  {
   "cell_type": "code",
   "execution_count": null,
   "id": "4f8ac3aa-1669-425a-8dea-9619cfa1b240",
   "metadata": {},
   "outputs": [],
   "source": [
    "# TODO: try adding barcode bits?? does that help? [no]"
   ]
  },
  {
   "cell_type": "code",
   "execution_count": null,
   "id": "bf9009c0-a42f-401e-9a68-d3490eb69f91",
   "metadata": {},
   "outputs": [],
   "source": [
    "plt.imshow(sort_matrix(Ms2[\"pBetI\"] + Ms2[\"pTac\"] + Ms2[\"pPhlF\"] + Ms2[\"BetI\"], idxs2));"
   ]
  },
  {
   "cell_type": "code",
   "execution_count": null,
   "id": "fe89ebf0-59e7-48fc-a235-e7dbfe320de1",
   "metadata": {},
   "outputs": [],
   "source": [
    "plt.imshow(sort_matrix(Ms2[\"RBS1\"] + Ms2[\"RBS2\"] + Ms2[\"RBS3\"], idxs2));"
   ]
  },
  {
   "cell_type": "code",
   "execution_count": null,
   "id": "4dbf5bd9-2e71-446a-9f6d-d18c9580183a",
   "metadata": {},
   "outputs": [],
   "source": [
    "plt.imshow(sort_matrix(Ms2[\"RBS1\"], idxs2));"
   ]
  },
  {
   "cell_type": "code",
   "execution_count": null,
   "id": "09f31285-e476-42f5-a5db-2e100944a5ac",
   "metadata": {},
   "outputs": [],
   "source": [
    "plt.imshow(sort_matrix(Ms2[\"RBS2\"], idxs2));"
   ]
  },
  {
   "cell_type": "code",
   "execution_count": null,
   "id": "31e99833-a51e-4437-a522-41ae2ecab414",
   "metadata": {},
   "outputs": [],
   "source": [
    "plt.imshow(sort_matrix(Ms2[\"RBS3\"], idxs2));"
   ]
  },
  {
   "cell_type": "code",
   "execution_count": null,
   "id": "396c0f8e-938a-48a7-be07-d98126fadec5",
   "metadata": {},
   "outputs": [],
   "source": [
    "plt.imshow(sort_matrix(Ms2[\"pPhlF\"], idxs2));"
   ]
  },
  {
   "cell_type": "code",
   "execution_count": null,
   "id": "6c1223b3-4209-4da7-93c7-81e09a7dd40f",
   "metadata": {},
   "outputs": [],
   "source": [
    "plt.imshow(sort_matrix(Ms2[\"BetI\"], idxs2));"
   ]
  },
  {
   "cell_type": "code",
   "execution_count": null,
   "id": "dcb14372-1c76-49f2-ab7f-f1c1534d99f2",
   "metadata": {},
   "outputs": [],
   "source": [
    "extract_read_segments(msgs[idxs2[0]])[\"RBS2\"]"
   ]
  },
  {
   "cell_type": "code",
   "execution_count": null,
   "id": "47d2c4a1-1f24-4c04-a506-b2288a409dc5",
   "metadata": {},
   "outputs": [],
   "source": [
    "extract_read_segments(msgs[idxs2[12]])[\"RBS2\"]"
   ]
  },
  {
   "cell_type": "code",
   "execution_count": null,
   "id": "188ecab6-8d50-4fdc-8e5e-18ff91debdd9",
   "metadata": {},
   "outputs": [],
   "source": [
    "edlib.align(\"AACATAGAAAGGGGGTTCCT\", \"AACATAGAAGGGGGTCCTCG\")[\"editDistance\"]"
   ]
  },
  {
   "cell_type": "code",
   "execution_count": null,
   "id": "17dc5f48-ef7c-4ed2-9fb5-68bc6df0ea76",
   "metadata": {},
   "outputs": [],
   "source": [
    "np.argsort(M[0, :])"
   ]
  },
  {
   "cell_type": "code",
   "execution_count": null,
   "id": "0e805ea8-930b-44f4-b73d-b728e06685d5",
   "metadata": {},
   "outputs": [],
   "source": [
    "Counter([extract_read_segments(msg)[\"RBS2\"] for msg in msgs if \";\" in msg.name])"
   ]
  },
  {
   "cell_type": "code",
   "execution_count": null,
   "id": "443a5c13-f8ab-4e42-b143-e4abfc7c6435",
   "metadata": {},
   "outputs": [],
   "source": [
    "segments[\"RBS2\"]"
   ]
  },
  {
   "cell_type": "code",
   "execution_count": null,
   "id": "47e1484b-3573-4da3-979a-8145e5cbcb85",
   "metadata": {},
   "outputs": [],
   "source": [
    "Counter([extract_read_segments(msg)[\"RBS1\"] for msg in msgs])"
   ]
  },
  {
   "cell_type": "code",
   "execution_count": null,
   "id": "526683c7-ede0-4cf2-840a-6a9df590513e",
   "metadata": {},
   "outputs": [],
   "source": [
    "len(msgs)"
   ]
  },
  {
   "cell_type": "code",
   "execution_count": null,
   "id": "a781c0d4-60eb-4aca-953e-a33714f868f9",
   "metadata": {},
   "outputs": [],
   "source": [
    "def distance_matrices2(msgs):\n",
    "    Ms = {}\n",
    "    extracted_segments = [extract_read_segments(msg) for msg in msgs]\n",
    "    for x in extracted_segments:\n",
    "        for k in list(x.keys()):\n",
    "            x[k + \"_start\"] = x[k][:20]\n",
    "            x[k + \"_end\"] = x[k][-20:]\n",
    "    for segment in tqdm(extracted_segments[0].keys()):\n",
    "        if segment not in extracted_segments[0]:\n",
    "            continue\n",
    "        M = np.zeros((len(msgs), len(msgs)), dtype=np.uint16)\n",
    "        for i in range(len(msgs)):\n",
    "            s1 = extracted_segments[i][segment]\n",
    "            for j in range(i):\n",
    "                s2 = extracted_segments[j][segment]\n",
    "                M[i, j] = M[j, i] = edlib.align(s1, s2)[\"editDistance\"]\n",
    "        Ms[segment] = M\n",
    "    return Ms"
   ]
  },
  {
   "cell_type": "code",
   "execution_count": null,
   "id": "fcb0c15f-87ad-491a-a597-9f65d0c4a1f0",
   "metadata": {},
   "outputs": [],
   "source": [
    "Mss = distance_matrices2([msg for msg in msgs if \";\" in msg.name])\n",
    "Mss2 = distance_matrices2([msg for msg in msgs])"
   ]
  },
  {
   "cell_type": "code",
   "execution_count": null,
   "id": "2a65b3e1-943b-4830-bf45-be0168a0952a",
   "metadata": {},
   "outputs": [],
   "source": [
    "segments.keys()"
   ]
  },
  {
   "cell_type": "code",
   "execution_count": null,
   "id": "db1e740c-24ad-4328-937b-108694c97a4a",
   "metadata": {},
   "outputs": [],
   "source": [
    "idxss = sorted_matrix_indices(Mss[\"pPhlF_start\"])\n",
    "idxss2 = sorted_matrix_indices(Mss2[\"pPhlF_start\"])"
   ]
  },
  {
   "cell_type": "code",
   "execution_count": null,
   "id": "30ac0bfc-384d-4ca4-a5d8-ac4712428cc2",
   "metadata": {},
   "outputs": [],
   "source": [
    "plt.imshow(sort_matrix(Mss[\"pPhlF_end\"], idxss));"
   ]
  },
  {
   "cell_type": "markdown",
   "id": "ed2d4c9c-659a-4e57-a462-a024525f2412",
   "metadata": {},
   "source": [
    "# Variants"
   ]
  },
  {
   "cell_type": "code",
   "execution_count": null,
   "id": "06e46c5f-b292-4df2-a8aa-f26c181e2db7",
   "metadata": {},
   "outputs": [],
   "source": [
    "count_dist"
   ]
  },
  {
   "cell_type": "code",
   "execution_count": null,
   "id": "1f2c3d18-ed9b-4f09-b7d4-735bd9ea911e",
   "metadata": {},
   "outputs": [],
   "source": [
    "msgs = barcode_msgs_cluster[5][0]"
   ]
  },
  {
   "cell_type": "code",
   "execution_count": null,
   "id": "56711f18-57d6-444d-b820-8b28e779394a",
   "metadata": {},
   "outputs": [],
   "source": [
    "# gam_filename2 = \"duplex_sup1_vg2.gam\"\n",
    "gam_filename2 = \"duplex_sup1_subsample_vg2.gam\"\n",
    "msgs3 = []\n",
    "lens = []\n",
    "for msg in tqdm(it.islice(stream.parse(gam_filename2, vg_pb2.Alignment), 10_000_000)):\n",
    "    lens.append(len(msg.sequence))\n",
    "    if 800 <= len(msg.sequence) <= 900:\n",
    "        msgs3.append(msg)\n",
    "    # path = set([m.position.name for m in msg.path.mapping])\n",
    "    # if not ((\"BIT0ON\" in path or \"BIT0OFF\" in path) and \"mScarletI\" in path):\n",
    "    #     continue\n",
    "    # msgs2.append(msg)"
   ]
  },
  {
   "cell_type": "code",
   "execution_count": null,
   "id": "8139e043-bd60-472f-bb07-4e03943bdd6f",
   "metadata": {},
   "outputs": [],
   "source": [
    "msgs3 = list(tqdm(stream.parse(\"duplex_sup1_subsample_vg2.gam\", vg_pb2.Alignment)))"
   ]
  },
  {
   "cell_type": "code",
   "execution_count": null,
   "id": "6ba15001-a71c-455b-ac51-a6c6505257fb",
   "metadata": {},
   "outputs": [],
   "source": [
    "for i in range(100):\n",
    "    msg = msgs3[i]\n",
    "    print(len(msg.sequence))\n",
    "    print(\" \".join(m.position.name for m in msg.path.mapping))\n",
    "    print()"
   ]
  },
  {
   "cell_type": "code",
   "execution_count": null,
   "id": "9aea9e48-76c2-49de-a6e2-9c495561db16",
   "metadata": {},
   "outputs": [],
   "source": [
    "len(\n",
    "    \"TCCTCAATCGCACTGGAAACATCAAGGTCGACGAAAGACCGCTGAGGAGCCAGATACATAGATTACCACAACTCCGAGCCCTTCCACCAAAAAAAACAGATAGCCGCGCGAACGCGGCTAACTGTTGAAAAAAAACAGATAACAGATACCGAAGTATCTGTTATCTTTCCCAAAAAACCCCTCAAGACCCGTTTAGAGGCCCCAAGGGGTTATTACTGATGGCAATGTGATGTCCTCATCTTACTCCCTCTAGTCTATCATTACCCTCCTCCTGCTCTTAACTACCCTCATTCCGACCCTTACTACTACATCATCGACCTTTCTCCATACCCAACTGTCCTAACAACCAACTACTCCGCCTCTTCATCCTCTTTCAACGTTCTCCCTCTATCAACTCAGCAACCACACTCAACTACCATGACATTACACCTCATTCTCCCGACTTTCCACATACTTCCCAGTTTACTCCCTACACCTCCAAGATTCCATACCCACTCTCTTCGCTCTCTACACCCACCAATAAGTTCCTAACAAATCACATCCCGTATCTGTTATGTAATTGCTAGTTAAACAACCCATCCCACCAGATAAATCATTCCCACTACCCGTCAATCCACCATTCCTCAACGAAACTTCATCACTCTCCTCCGCACCCTAACATACAACTCTCGAATACTCTCCCACCTCAACTGCTTCTTCTCTTACACCCTCTGTCTATCATCTCCAAACCACAGACATCTTCTCTCCAACCTTCGCCCTCTTACTTATCTACCCAGACTCCACTACTACTCACTCTGTCACCATAATTCCTCCTCCTGATCCTCCTTCAATACATCCCGAAACACACACTAAACCACCCGTCACCTTTCTCCTTTCCTCTGAGGCTAGCTAACGTTACTGTACGGTATTGTAGAAAAAGGCATAGTGCTGCTAACGTTCGTCCCTATAGTGAGTCGTATTATGTAGTTCCTTATCATCTGC\"\n",
    ")"
   ]
  },
  {
   "cell_type": "code",
   "execution_count": null,
   "id": "bb81d4a7-5a74-45c4-8118-4a0489a54b26",
   "metadata": {},
   "outputs": [],
   "source": [
    "len(\n",
    "    \"CTGAGGAGCCAGATACATAGATTACCACAACTCCGAGCCCTTCCACCAAAAAAAACAGATAGCCGCGCGAACGCGGCTAACTGTTGAAAAAAAACAGATAACAGATACCGAAGTATCTGTTATCTTTCCCAAAAAACCCCTCAAGACCCGTTTAGAGGCCCCAAGGGGTTATTACTGATGGCAATGTGATGTCCTCATCTTACTCCCTCTAGTCTATCATTACCCTCCTCCTGCTCTTAACTACCCTCATTCCGACCCTTACTACTACATCATCGACCTTTCTCCATACCCAACTGTCCTAACAACCAACTACTCCGCCTCTTCATCCTCTTTCAACGTTCTCCCTCTATCAACTCAGCAACCACACTCAACTACCATGACATTACACCTCATTCTCCCGACTTTCCACATACTTCCCAGTTTACTCCCTACACCTCCAAGATTCCATACCCACTCTCTTCGCTCTCTACACCCACCAATAAGTTCCTAACAAATCACATCCCGTATCTGTTATGTAATTGCTAGTTAAACAACCCATCCCACCAGATAAATCATTCCCACTACCCGTCAATCCACCATTCCTCAACGAAACTTCATCACTCTCCTCCGCACCCTAACATACAACTCTCGAATACTCTCCCACCTCAACTGCTTCTTCTCTTACACCCTCTGTCTATCATCTCCAAACCACAGACATCTTCTCTCCAACCTTCGCCCTCTTACTTATCTACCCAGACTCCACTACTACTCACTCTGTCACCATAATTCCTCCTCCTGATCCTCCTTCAATACATCCCGAAACACACACTAAACCACCCGTCACCTTTCTCCTTTCCTCT\"\n",
    ")"
   ]
  },
  {
   "cell_type": "code",
   "execution_count": null,
   "id": "fda70f9f-87a7-4818-ae38-7b7b96fa16b8",
   "metadata": {},
   "outputs": [],
   "source": [
    "import pyfastx"
   ]
  },
  {
   "cell_type": "code",
   "execution_count": null,
   "id": "d6aa4b90-98be-44d7-bfb7-bb9becb300b7",
   "metadata": {},
   "outputs": [],
   "source": [
    "fq = pyfastx.Fastq(\"duplex_sup1_subsample.fastq\")"
   ]
  },
  {
   "cell_type": "code",
   "execution_count": null,
   "id": "d9983358-5689-45c2-87d5-1f39b984162d",
   "metadata": {},
   "outputs": [],
   "source": [
    "fq."
   ]
  },
  {
   "cell_type": "code",
   "execution_count": null,
   "id": "5ab8dc63-0a7b-4ec0-8024-3526e145cf67",
   "metadata": {},
   "outputs": [],
   "source": [
    "fq[\"e8a89209-b020-4f67-ab33-6a97fa35366e;6ce12155-a33f-4657-bb71-eebc07dd1ff7\"].seq"
   ]
  },
  {
   "cell_type": "code",
   "execution_count": null,
   "id": "cd521a84-750f-4453-a2dc-9a44b1a79b52",
   "metadata": {},
   "outputs": [],
   "source": [
    "%%time\n",
    "# offsets = []\n",
    "# ids = set()\n",
    "for msg in msgs3:\n",
    "    if 800 <= len(msg.sequence) <= 900 and msg.path.mapping[0].position.name == \"BetI\":\n",
    "        if 760 <= msg.path.mapping[0].position.offset <= 780 and \";\" in msg.name:\n",
    "            # ids.add(msg.name)\n",
    "            print(f\">{msg.name}\")\n",
    "            print(fq[msg.name].seq)\n",
    "            # print(msg.sequence)\n",
    "        # print(msg);0/0\n",
    "        # offsets.append(msg.path.mapping[0].position.offset)"
   ]
  },
  {
   "cell_type": "code",
   "execution_count": null,
   "id": "684b2fef-bc3a-4547-8f0b-3c34a1df3b3a",
   "metadata": {},
   "outputs": [],
   "source": [
    "len(ids)"
   ]
  },
  {
   "cell_type": "code",
   "execution_count": null,
   "id": "399d61c8-080a-4b5c-a3de-bfc8841293d9",
   "metadata": {},
   "outputs": [],
   "source": [
    "plt.hist(offsets, range=(720, 820), bins=100);"
   ]
  },
  {
   "cell_type": "code",
   "execution_count": null,
   "id": "365e0f3d-2036-4b2f-9afc-ed5cd4831376",
   "metadata": {},
   "outputs": [],
   "source": [
    "msg.name"
   ]
  },
  {
   "cell_type": "code",
   "execution_count": null,
   "id": "672baa39-6a26-403e-85cf-bad71dba2463",
   "metadata": {},
   "outputs": [],
   "source": [
    "plt.hist(lens, bins=100);"
   ]
  },
  {
   "cell_type": "code",
   "execution_count": null,
   "id": "6ab3cf13-d4ca-4349-895c-2b0bd70f2fce",
   "metadata": {},
   "outputs": [],
   "source": [
    "plt.hist(lens, bins=100);"
   ]
  },
  {
   "cell_type": "code",
   "execution_count": null,
   "id": "fb3604e3-b4b6-49ec-ab41-21bd31eec4a8",
   "metadata": {},
   "outputs": [],
   "source": [
    "parts = {\n",
    "    \"LacI\": \"ATGAAACCAGTAACGTTATACGATGTCGCAGAGTATGCCGGTGTCTCTTATATGACCGTTTCCCGCGTGGTGAACCAGGCCAGCCACGTTTCTGCGAAAACGCGGGAAAAAGTGGAAGCGGCGATGGTGGAGCTGAATTACATTCCCAACCGCGTGGCACAACAACTGGCGGGCAAACAGTCGTTGCTGATTGGCGTTGCCACCTCCAGTCTGGCCCTGCACGCGCCGTCGCAAATTGTCGCGGCGATTAAATCTCGCGCCGATCAACTGGGTGCCAGCGTGGTGGTGTCGATGGTAGAACGAAGCGGCGTCGAAGCCTGTAAAGCGGCGGTGCACAATCTTCTCGCGCAACGCGTCAGTGGGCTGATCATTAACTATCCGCTGGATGACCAGGATGCCATTGCTGTGGAAGCTGCCTGCACTAATGTTCCGGCGTTATTTCTTGATGTCTCTGACCAGACACCCATCAACAGTATTATTTACTCCCATGAGGACGGTACGCGACTGGGCGTGGAGCATCTGGTCGCATTGGGTCACCAGCAAATCGCGCTGTTAGCGGGCCCATTAAGTTCTGTCTCGGCGCGTCTGCGTCTGGCTGGCTGGCATAAATATCTCACTCGCAATCAAATTCAGCCGATAGCGGAACGGGAAGGCGACTGGAGTGCCATGTCCGGTTTTCAACAAACCATGCAAATGCTGAATGAGGGCATCGTTCCCACTGCGATGCTGGTTGCCAACGATCAGATGGCGCTGGGCGCAATGCGCGCCATTACCGAGTCCGGGCTGCGCGTTGGTGCGGATATCTCGGTAGTGGGATACGACGATACCGAAGATAGCTCATGTTATATCCCGCCGTTAACCACCATCAAACAGGATTTTCGCCTGCTGGGGCAAACCAGCGTGGACCGCTTGCTGCAACTCTCTCAGGGCCAGGCGGTGAAGGGCAATCAGCTGTTGCCAGTCTCACTGGTGAAAAGAAAAACCACCCTGGCGCCCAATACGCAAACCGCCTCTCCCCGCGCGTTGGCCGATTCATTAATGCAGCTGGCACGACAGGTTTCCCGACTGGAAAGCGGGCAGT\",\n",
    "    \"PhlF\": \"ATGGCACGTACCCCGAGCCGTAGCAGCATTGGTAGCCTGCGTAGTCCGCATACCCATAAAGCAATTCTGACCAGCACCATTGAAATCCTGAAAGAATGTGGTTATAGCGGTCTGAGCATTGAAAGCGTGGCACGTCGCGCCGGTGCAGGCAAACCGACCATTTATCGTTGGTGGACCAACAAAGCAGCACTGATTGCCGAAGTGTATGAAAATGAAATCGAACAGGTACGTAAATTTCCGGATTTGGGTAGCTTTAAAGCCGATCTGGATTTTCTGCTGCATAATCTGTGGAAAGTTTGGCGTGAAACCATTTGTGGTGAAGCATTTCGTTGTGTTATTGCAGAAGCACAGTTGGACCCTGTAACCCTGACCCAACTGAAAGATCAGTTTATGGAACGTCGTCGTGAGATACCGAAAAAACTGGTTGAAGATGCCATTAGCAATGGTGAACTGCCGAAAGATATCAATCGTGAACTGCTGCTGGATATGATTTTTGGTTTTTGTTGGTATCGCCTGCTGACCGAACAGTTGACCGTTGAACAGGATATTGAAGAATTTACCTTCCTGCTGATTAATGGTGTTTGTCCGGGTACACAGTGTTAA\",\n",
    "    \"BetI\": \"ATGCCGAAACTGGGTATGCAGAGCATTCGTCGTCGTCAGCTGATTGATGCAACCCTGGAAGCAATTAATGAAGTTGGTATGCATGATGCAACCATTGCACAGATTGCACGTCGTGCCGGTGTTAGCACCGGTATTATTAGCCATTATTTCCGCGATAAAAACGGTCTACTGGAAGCAACCATGCGTGATATTACCAGCCAGCTGCGTGATGCAGTTCTGAATCGTCTGCATGCACTGCCGCAGGGTAGCGCAGAACAGCGTCTGCAGGCAATTGTTGGTGGTAATTTTGATGAAACCCAGGTTAGCAGCGCAGCAATGAAAGCATGGCTGGCATTTTGGGCAATCAGCATGCATCAGCCGATGCTGTATCGTCTGCAGCAGGTTAGCAGTCGTCGTCTGCTGAGCAATCTGGTTAGCGAATTTCGTCGTGAACTGCCTCGTGAACAGGCACAAGAGGCAGGTTATGGTCTGGCAGCACTGATTGATGGTCTGTGGCTGCGTGCAGCACTGAGCGGTAAACCGCTGGATAAAACCCGTGCAAATAGCCTGACCCGTCATTTTATCACCCAGCATCTGCCGACCGATTAA\",\n",
    "}"
   ]
  },
  {
   "cell_type": "code",
   "execution_count": null,
   "id": "47a75a97-d408-42b9-aecc-a90c03fb5aa7",
   "metadata": {},
   "outputs": [],
   "source": [
    "parts.keys()"
   ]
  },
  {
   "cell_type": "code",
   "execution_count": null,
   "id": "095177c0-9310-47b4-96d3-8de38f98f875",
   "metadata": {},
   "outputs": [],
   "source": [
    "?edlib.align"
   ]
  },
  {
   "cell_type": "code",
   "execution_count": null,
   "id": "6c2f180a-6173-47ba-ad4e-9337f084a0bd",
   "metadata": {},
   "outputs": [],
   "source": [
    "%%time\n",
    "# offsets = []\n",
    "snp_threshold = 50\n",
    "ids = set()\n",
    "misassembled_simplex = defaultdict(list)\n",
    "misassembled_duplex = defaultdict(list)\n",
    "for msg in tqdm(msgs3):\n",
    "    if 800 <= len(msg.sequence) <= 900:\n",
    "        read = fq[msg.name].seq\n",
    "        # print(msg.name)\n",
    "        d1 = tuple(\n",
    "            edlib.align(part, read, mode=\"HW\")[\"editDistance\"]\n",
    "            for part in parts.values()\n",
    "        )\n",
    "        d2 = tuple(\n",
    "            edlib.align(reverse_complement(part), read, mode=\"HW\")[\"editDistance\"]\n",
    "            for part in parts.values()\n",
    "        )\n",
    "        if min(d1) <= min(d2):\n",
    "            d = d1\n",
    "        else:\n",
    "            d = d2\n",
    "        # print(k)\n",
    "        # print()\n",
    "        # continue\n",
    "        key = tuple(dd <= snp_threshold for dd in d)\n",
    "        if \";\" in msg.name:\n",
    "            misassembled_duplex[key].append(read)\n",
    "        else:\n",
    "            misassembled_simplex[key].append(read)\n",
    "        # ids.add(msg.name)\n",
    "        # print(f\">{msg.name}\")\n",
    "        # print(fq[msg.name].seq)\n",
    "        # print(msg.sequence)\n",
    "        # print(msg);0/0\n",
    "        # offsets.append(msg.path.mapping[0].position.offset)"
   ]
  },
  {
   "cell_type": "code",
   "execution_count": null,
   "id": "41cde363-25b6-4a25-ae04-f7a5fb52746d",
   "metadata": {},
   "outputs": [],
   "source": [
    "{k: len(v) for k, v in misassembled_duplex.items()}"
   ]
  },
  {
   "cell_type": "code",
   "execution_count": null,
   "id": "231f3870-8071-44b8-a800-e5f5e772a896",
   "metadata": {},
   "outputs": [],
   "source": [
    "{k: len(v) for k, v in misassembled_simplex.items()}"
   ]
  },
  {
   "cell_type": "code",
   "execution_count": null,
   "id": "72de5d03-39a1-41d4-9fd0-0d231322c07e",
   "metadata": {},
   "outputs": [],
   "source": [
    "idx = 9\n",
    "read = misassembled_duplex[(False, False, False)][idx]\n",
    "end = \"ATCACATTGCCATCAGTAATAACCCCTTGGGGCCTCTAAACGGGTCTTGAGGGGTTTTTTGGGAAAGATAACAGATACTTCGGTATCTGTTATCTGTTTTTTTTCAACAGATAGCCGCGTTCGCGCGGCTATCTGTTTTTTTTGGTGGAAGGGCTCGGAGTTGTGGTAATCTATGTATCCTGG\"\n",
    "print(edlib.align(end, read, mode=\"HW\"))\n",
    "print(edlib.align(reverse_complement(end), read, mode=\"HW\"))"
   ]
  },
  {
   "cell_type": "code",
   "execution_count": null,
   "id": "ee22d71b-22e2-4853-83e2-756a7a21c471",
   "metadata": {},
   "outputs": [],
   "source": [
    "BARCODE_END = \"ATCACATTGCCATCAGTAATAACCCCTTGGGGCCTCTAAACGGGTCTTGAGGGGTTTTTTG\"\n",
    "\n",
    "\n",
    "def trim_barcode(read, end=BARCODE_END, threshold=10):\n",
    "    if (d1 := edlib.align(end, read, mode=\"HW\"))[\"editDistance\"] <= threshold:\n",
    "        # print(\"1\",d1)\n",
    "        return (\n",
    "            read[d1[\"locations\"][0][1] - len(end) + 1 :],\n",
    "            read[: d1[\"locations\"][0][1] - len(end) + 1],\n",
    "        )\n",
    "    elif (d2 := edlib.align(reverse_complement(end), read, mode=\"HW\"))[\n",
    "        \"editDistance\"\n",
    "    ] <= threshold:\n",
    "        # print(\"2\",d2)\n",
    "        return reverse_complement(\n",
    "            read[: d2[\"locations\"][0][1] + 1]\n",
    "        ), reverse_complement(read[d2[\"locations\"][0][1] + 1 :])\n",
    "    else:\n",
    "        return read"
   ]
  },
  {
   "cell_type": "code",
   "execution_count": null,
   "id": "5e0256d2-2cbe-4ca0-9ab5-f5b6f6dfa605",
   "metadata": {},
   "outputs": [],
   "source": [
    "read"
   ]
  },
  {
   "cell_type": "code",
   "execution_count": null,
   "id": "9cf4eefe-6045-4901-8431-4d2d66700c4b",
   "metadata": {},
   "outputs": [],
   "source": [
    "trim_barcode(read)"
   ]
  },
  {
   "cell_type": "code",
   "execution_count": null,
   "id": "0087f6e3-20ec-4750-9c62-f2bce6d5f557",
   "metadata": {},
   "outputs": [],
   "source": [
    "trim_barcode(reverse_complement(read))"
   ]
  },
  {
   "cell_type": "code",
   "execution_count": null,
   "id": "7883d646-87ee-47fa-91b3-d9ff7e468ddd",
   "metadata": {},
   "outputs": [],
   "source": [
    "# TTT: full circuit, no barcode (?)"
   ]
  },
  {
   "cell_type": "code",
   "execution_count": null,
   "id": "c6b22879-5e80-4a86-a7a6-c18440059e43",
   "metadata": {},
   "outputs": [],
   "source": [
    "{k: len(v) for k, v in misassembled_duplex.items()}"
   ]
  },
  {
   "cell_type": "code",
   "execution_count": null,
   "id": "116c39da-de31-4c1a-8e7f-e2812a2b834a",
   "metadata": {},
   "outputs": [],
   "source": [
    "for read in misassembled_duplex[(False, False, False)]:\n",
    "    print(\">FFF\")\n",
    "    print(trim_barcode(read)[0])"
   ]
  },
  {
   "cell_type": "code",
   "execution_count": null,
   "id": "c946c2dd-7549-4274-a07c-5135e611ab67",
   "metadata": {},
   "outputs": [],
   "source": [
    "{k: len(v) for k, v in misassembled_simplex.items()}"
   ]
  },
  {
   "cell_type": "code",
   "execution_count": null,
   "id": "4c05cc70-3487-48dd-873c-3ba1cbdcacb6",
   "metadata": {},
   "outputs": [],
   "source": [
    "Counter([extract_read_segments(msg)[\"RBS2\"] for msg in msgs if \";\" in msg.name])"
   ]
  },
  {
   "cell_type": "code",
   "execution_count": null,
   "id": "e1546732-e365-423e-8110-5c4f894929d0",
   "metadata": {},
   "outputs": [],
   "source": [
    "Counter([extract_read_segments(msg)[\"RBS2\"] for msg in msgs])"
   ]
  }
 ],
 "metadata": {
  "kernelspec": {
   "display_name": "Python 3 (ipykernel)",
   "language": "python",
   "name": "python3"
  },
  "language_info": {
   "codemirror_mode": {
    "name": "ipython",
    "version": 3
   },
   "file_extension": ".py",
   "mimetype": "text/x-python",
   "name": "python",
   "nbconvert_exporter": "python",
   "pygments_lexer": "ipython3",
   "version": "3.10.12"
  }
 },
 "nbformat": 4,
 "nbformat_minor": 5
}
