{
 "cells": [
  {
   "cell_type": "code",
   "execution_count": null,
   "id": "41c57f7d-eb34-40e9-b810-10d4c44d68b2",
   "metadata": {},
   "outputs": [],
   "source": [
    "import itertools as it\n",
    "import operator\n",
    "import re\n",
    "from pathlib import Path\n",
    "\n",
    "import gfapy\n",
    "import holoviews as hv\n",
    "import matplotlib.pyplot as plt\n",
    "import numpy as np\n",
    "import pandas as pd\n",
    "import pyarrow as pa\n",
    "import pyarrow.compute as pc\n",
    "from pyarrow import csv\n",
    "from tqdm.auto import tqdm, trange"
   ]
  },
  {
   "cell_type": "code",
   "execution_count": null,
   "id": "f117a156-f6f6-423f-81be-bb5eed890a23",
   "metadata": {},
   "outputs": [],
   "source": [
    "hv.extension(\"bokeh\")"
   ]
  },
  {
   "cell_type": "markdown",
   "id": "0d050f91-79f4-491b-a4c4-a208210eff14",
   "metadata": {},
   "source": [
    "# Config"
   ]
  },
  {
   "cell_type": "code",
   "execution_count": null,
   "id": "6589476b-6033-46ed-9b8f-c4f1d115469f",
   "metadata": {},
   "outputs": [],
   "source": [
    "data_dir = Path(\n",
    "    \"/home/jqs1/scratch/jqs1/sequencing/230818_bcd_rbses/20230818_1343_1A_PAQ97606_f49ab41c\"\n",
    ")\n",
    "gaf_filename = data_dir / \"temp/mapped_t4.gaf\"\n",
    "gfa = gfapy.Gfa.from_file(data_dir / \"references/bcd_rbses.gfa\")"
   ]
  },
  {
   "cell_type": "markdown",
   "id": "a73add2a-6327-4a1d-a8c5-8d8be4cacd24",
   "metadata": {},
   "source": [
    "# GAF"
   ]
  },
  {
   "cell_type": "code",
   "execution_count": null,
   "id": "c6c5f3a3-a4a6-4207-a5b3-2cc5e6e4c917",
   "metadata": {},
   "outputs": [],
   "source": [
    "# SEE: http://samtools.github.io/hts-specs/SAMv1.pdf\n",
    "# and https://samtools.github.io/hts-specs/SAMtags.pdf\n",
    "# pyarrow CSV parser only supports pa.dictionary with int32 indices\n",
    "SAM_TAG_TYPES = {\n",
    "    \"A\": pa.dictionary(pa.int32(), pa.string()),\n",
    "    \"f\": pa.float32(),\n",
    "    \"i\": pa.int32(),\n",
    "    \"Z\": pa.string(),\n",
    "}\n",
    "GAF_COLUMN_TYPES = {\n",
    "    \"query_length\": pa.uint64(),\n",
    "    \"query_start\": pa.uint64(),\n",
    "    \"query_end\": pa.uint64(),\n",
    "    \"strand\": pa.dictionary(pa.int32(), pa.string()),\n",
    "    \"path\": pa.string(),\n",
    "    \"path_length\": pa.uint64(),\n",
    "    \"path_start\": pa.uint64(),\n",
    "    \"path_end\": pa.uint64(),\n",
    "    \"residue_matches\": pa.uint64(),\n",
    "    \"block_length\": pa.uint64(),\n",
    "    \"mapping_quality\": pa.uint8(),\n",
    "}\n",
    "SAM_TAG_REGEX = re.compile(\n",
    "    r\"^(?P<tag>[a-zA-Z0-9]+):(?P<tag_value>A:.|f:\\d+(\\.\\d+)?|i:\\d+|Z:.*)$\"\n",
    ")\n",
    "\n",
    "\n",
    "def parse_gaf_types(gaf_filename):\n",
    "    with open(gaf_filename, \"r\") as f:\n",
    "        first_row = f.readline().split(\"\\t\")\n",
    "    columns_to_parse = {}\n",
    "    column_types = []\n",
    "    for idx in reversed(range(len(first_row))):\n",
    "        if match := SAM_TAG_REGEX.match(first_row[idx]):\n",
    "            tag = match.group(\"tag\")\n",
    "            column_types.append((tag, pa.string()))\n",
    "            tag_value = match.group(\"tag_value\")\n",
    "            columns_to_parse[tag] = tag_value[: tag_value.index(\":\")]\n",
    "        else:\n",
    "            break\n",
    "    column_types.extend(reversed(GAF_COLUMN_TYPES.items()))\n",
    "    for idx in reversed(range(idx + 1 - len(GAF_COLUMN_TYPES))):\n",
    "        if match := SAM_TAG_REGEX.match(first_row[idx]):\n",
    "            tag = match.group(\"tag\")\n",
    "            column_types.append((tag, pa.string()))\n",
    "            tag_value = match.group(\"tag_value\")\n",
    "            type_ = tag_value[: tag_value.index(\":\")]\n",
    "            columns_to_parse[tag] = type_\n",
    "        else:\n",
    "            if idx != 0:\n",
    "                raise ValueError(\"expecting SAM tags following FASTQ read name\")\n",
    "            else:\n",
    "                column_types.append((\"name\", pa.string()))\n",
    "    column_types = dict(reversed(column_types))\n",
    "    return column_types\n",
    "\n",
    "\n",
    "def parse_gaf_table(table, columns_to_parse):\n",
    "    for tag, type_ in columns_to_parse.items():\n",
    "        col_idx = table.column_names.index(tag)\n",
    "        new_column = pc.replace_substring_regex(table[tag], f\"{tag}:{type_}:\", \"\").cast(\n",
    "            SAM_TAG_TYPES[type_]\n",
    "        )\n",
    "        table = table.set_column(col_idx, tag, new_column)\n",
    "    path = pa.array(\n",
    "        [re.split(r\"(?=<|>)\", s.as_py())[1:] for s in table.column(\"path\")],\n",
    "        type=pa.list_(pa.dictionary(pa.int16(), pa.string())),\n",
    "    )\n",
    "    table = table.set_column(table.column_names.index(\"path\"), \"path\", path)\n",
    "    return table\n",
    "\n",
    "\n",
    "def parse_gaf(gaf_filename):\n",
    "    column_types = parse_gaf_types(gaf_filename)\n",
    "    read_options = csv.ReadOptions(column_names=column_types.keys())\n",
    "    parse_options = csv.ParseOptions(delimiter=\"\\t\")\n",
    "    convert_options = csv.ConvertOptions(column_types=column_types)\n",
    "    with csv.open_csv(\n",
    "        gaf_filename,\n",
    "        read_options=read_options,\n",
    "        parse_options=parse_options,\n",
    "        convert_options=convert_options,\n",
    "    ) as f:\n",
    "        while True:\n",
    "            try:\n",
    "                table = parse_gaf_table(\n",
    "                    pa.Table.from_batches([f.read_next_batch()]), columns_to_parse\n",
    "                )\n",
    "            except StopIteration:\n",
    "                break\n",
    "            yield table"
   ]
  },
  {
   "cell_type": "code",
   "execution_count": null,
   "id": "abfb9871-962f-4db5-83c8-5b8014490e30",
   "metadata": {},
   "outputs": [],
   "source": [
    "%%time\n",
    "qs = 0\n",
    "for table in tqdm(parse_gaf(gaf_filename)):\n",
    "    qs += 1"
   ]
  },
  {
   "cell_type": "code",
   "execution_count": null,
   "id": "b7294fb1-8aa3-4069-a536-4b000f330478",
   "metadata": {},
   "outputs": [],
   "source": [
    "table"
   ]
  },
  {
   "cell_type": "code",
   "execution_count": null,
   "id": "06e46c5f-b292-4df2-a8aa-f26c181e2db7",
   "metadata": {},
   "outputs": [],
   "source": [
    "count_dist"
   ]
  },
  {
   "cell_type": "code",
   "execution_count": null,
   "id": "1f2c3d18-ed9b-4f09-b7d4-735bd9ea911e",
   "metadata": {},
   "outputs": [],
   "source": [
    "msgs = barcode_msgs_cluster[5][0]"
   ]
  },
  {
   "cell_type": "code",
   "execution_count": null,
   "id": "56711f18-57d6-444d-b820-8b28e779394a",
   "metadata": {},
   "outputs": [],
   "source": [
    "# gam_filename2 = \"duplex_sup1_vg2.gam\"\n",
    "gam_filename2 = \"duplex_sup1_subsample_vg2.gam\"\n",
    "msgs3 = []\n",
    "lens = []\n",
    "for msg in tqdm(it.islice(stream.parse(gam_filename2, vg_pb2.Alignment), 10_000_000)):\n",
    "    lens.append(len(msg.sequence))\n",
    "    if 800 <= len(msg.sequence) <= 900:\n",
    "        msgs3.append(msg)\n",
    "    # path = set([m.position.name for m in msg.path.mapping])\n",
    "    # if not ((\"BIT0ON\" in path or \"BIT0OFF\" in path) and \"mScarletI\" in path):\n",
    "    #     continue\n",
    "    # msgs2.append(msg)"
   ]
  },
  {
   "cell_type": "code",
   "execution_count": null,
   "id": "8139e043-bd60-472f-bb07-4e03943bdd6f",
   "metadata": {},
   "outputs": [],
   "source": [
    "msgs3 = list(tqdm(stream.parse(\"duplex_sup1_subsample_vg2.gam\", vg_pb2.Alignment)))"
   ]
  },
  {
   "cell_type": "code",
   "execution_count": null,
   "id": "6ba15001-a71c-455b-ac51-a6c6505257fb",
   "metadata": {},
   "outputs": [],
   "source": [
    "for i in range(100):\n",
    "    msg = msgs3[i]\n",
    "    print(len(msg.sequence))\n",
    "    print(\" \".join(m.position.name for m in msg.path.mapping))\n",
    "    print()"
   ]
  },
  {
   "cell_type": "code",
   "execution_count": null,
   "id": "9aea9e48-76c2-49de-a6e2-9c495561db16",
   "metadata": {},
   "outputs": [],
   "source": [
    "len(\n",
    "    \"TCCTCAATCGCACTGGAAACATCAAGGTCGACGAAAGACCGCTGAGGAGCCAGATACATAGATTACCACAACTCCGAGCCCTTCCACCAAAAAAAACAGATAGCCGCGCGAACGCGGCTAACTGTTGAAAAAAAACAGATAACAGATACCGAAGTATCTGTTATCTTTCCCAAAAAACCCCTCAAGACCCGTTTAGAGGCCCCAAGGGGTTATTACTGATGGCAATGTGATGTCCTCATCTTACTCCCTCTAGTCTATCATTACCCTCCTCCTGCTCTTAACTACCCTCATTCCGACCCTTACTACTACATCATCGACCTTTCTCCATACCCAACTGTCCTAACAACCAACTACTCCGCCTCTTCATCCTCTTTCAACGTTCTCCCTCTATCAACTCAGCAACCACACTCAACTACCATGACATTACACCTCATTCTCCCGACTTTCCACATACTTCCCAGTTTACTCCCTACACCTCCAAGATTCCATACCCACTCTCTTCGCTCTCTACACCCACCAATAAGTTCCTAACAAATCACATCCCGTATCTGTTATGTAATTGCTAGTTAAACAACCCATCCCACCAGATAAATCATTCCCACTACCCGTCAATCCACCATTCCTCAACGAAACTTCATCACTCTCCTCCGCACCCTAACATACAACTCTCGAATACTCTCCCACCTCAACTGCTTCTTCTCTTACACCCTCTGTCTATCATCTCCAAACCACAGACATCTTCTCTCCAACCTTCGCCCTCTTACTTATCTACCCAGACTCCACTACTACTCACTCTGTCACCATAATTCCTCCTCCTGATCCTCCTTCAATACATCCCGAAACACACACTAAACCACCCGTCACCTTTCTCCTTTCCTCTGAGGCTAGCTAACGTTACTGTACGGTATTGTAGAAAAAGGCATAGTGCTGCTAACGTTCGTCCCTATAGTGAGTCGTATTATGTAGTTCCTTATCATCTGC\"\n",
    ")"
   ]
  },
  {
   "cell_type": "code",
   "execution_count": null,
   "id": "bb81d4a7-5a74-45c4-8118-4a0489a54b26",
   "metadata": {},
   "outputs": [],
   "source": [
    "len(\n",
    "    \"CTGAGGAGCCAGATACATAGATTACCACAACTCCGAGCCCTTCCACCAAAAAAAACAGATAGCCGCGCGAACGCGGCTAACTGTTGAAAAAAAACAGATAACAGATACCGAAGTATCTGTTATCTTTCCCAAAAAACCCCTCAAGACCCGTTTAGAGGCCCCAAGGGGTTATTACTGATGGCAATGTGATGTCCTCATCTTACTCCCTCTAGTCTATCATTACCCTCCTCCTGCTCTTAACTACCCTCATTCCGACCCTTACTACTACATCATCGACCTTTCTCCATACCCAACTGTCCTAACAACCAACTACTCCGCCTCTTCATCCTCTTTCAACGTTCTCCCTCTATCAACTCAGCAACCACACTCAACTACCATGACATTACACCTCATTCTCCCGACTTTCCACATACTTCCCAGTTTACTCCCTACACCTCCAAGATTCCATACCCACTCTCTTCGCTCTCTACACCCACCAATAAGTTCCTAACAAATCACATCCCGTATCTGTTATGTAATTGCTAGTTAAACAACCCATCCCACCAGATAAATCATTCCCACTACCCGTCAATCCACCATTCCTCAACGAAACTTCATCACTCTCCTCCGCACCCTAACATACAACTCTCGAATACTCTCCCACCTCAACTGCTTCTTCTCTTACACCCTCTGTCTATCATCTCCAAACCACAGACATCTTCTCTCCAACCTTCGCCCTCTTACTTATCTACCCAGACTCCACTACTACTCACTCTGTCACCATAATTCCTCCTCCTGATCCTCCTTCAATACATCCCGAAACACACACTAAACCACCCGTCACCTTTCTCCTTTCCTCT\"\n",
    ")"
   ]
  },
  {
   "cell_type": "code",
   "execution_count": null,
   "id": "fda70f9f-87a7-4818-ae38-7b7b96fa16b8",
   "metadata": {},
   "outputs": [],
   "source": [
    "import pyfastx"
   ]
  },
  {
   "cell_type": "code",
   "execution_count": null,
   "id": "d6aa4b90-98be-44d7-bfb7-bb9becb300b7",
   "metadata": {},
   "outputs": [],
   "source": [
    "fq = pyfastx.Fastq(\"duplex_sup1_subsample.fastq\")"
   ]
  },
  {
   "cell_type": "code",
   "execution_count": null,
   "id": "5ab8dc63-0a7b-4ec0-8024-3526e145cf67",
   "metadata": {},
   "outputs": [],
   "source": [
    "fq[\"e8a89209-b020-4f67-ab33-6a97fa35366e;6ce12155-a33f-4657-bb71-eebc07dd1ff7\"].seq"
   ]
  },
  {
   "cell_type": "code",
   "execution_count": null,
   "id": "cd521a84-750f-4453-a2dc-9a44b1a79b52",
   "metadata": {},
   "outputs": [],
   "source": [
    "%%time\n",
    "# offsets = []\n",
    "# ids = set()\n",
    "for msg in msgs3:\n",
    "    if 800 <= len(msg.sequence) <= 900 and msg.path.mapping[0].position.name == \"BetI\":\n",
    "        if 760 <= msg.path.mapping[0].position.offset <= 780 and \";\" in msg.name:\n",
    "            # ids.add(msg.name)\n",
    "            print(f\">{msg.name}\")\n",
    "            print(fq[msg.name].seq)\n",
    "            # print(msg.sequence)\n",
    "        # print(msg);0/0\n",
    "        # offsets.append(msg.path.mapping[0].position.offset)"
   ]
  },
  {
   "cell_type": "code",
   "execution_count": null,
   "id": "684b2fef-bc3a-4547-8f0b-3c34a1df3b3a",
   "metadata": {},
   "outputs": [],
   "source": [
    "len(ids)"
   ]
  },
  {
   "cell_type": "code",
   "execution_count": null,
   "id": "399d61c8-080a-4b5c-a3de-bfc8841293d9",
   "metadata": {},
   "outputs": [],
   "source": [
    "plt.hist(offsets, range=(720, 820), bins=100);"
   ]
  },
  {
   "cell_type": "code",
   "execution_count": null,
   "id": "365e0f3d-2036-4b2f-9afc-ed5cd4831376",
   "metadata": {},
   "outputs": [],
   "source": [
    "msg.name"
   ]
  },
  {
   "cell_type": "code",
   "execution_count": null,
   "id": "672baa39-6a26-403e-85cf-bad71dba2463",
   "metadata": {},
   "outputs": [],
   "source": [
    "plt.hist(lens, bins=100);"
   ]
  },
  {
   "cell_type": "code",
   "execution_count": null,
   "id": "6ab3cf13-d4ca-4349-895c-2b0bd70f2fce",
   "metadata": {},
   "outputs": [],
   "source": [
    "plt.hist(lens, bins=100);"
   ]
  },
  {
   "cell_type": "code",
   "execution_count": null,
   "id": "fb3604e3-b4b6-49ec-ab41-21bd31eec4a8",
   "metadata": {},
   "outputs": [],
   "source": [
    "parts = {\n",
    "    \"LacI\": \"ATGAAACCAGTAACGTTATACGATGTCGCAGAGTATGCCGGTGTCTCTTATATGACCGTTTCCCGCGTGGTGAACCAGGCCAGCCACGTTTCTGCGAAAACGCGGGAAAAAGTGGAAGCGGCGATGGTGGAGCTGAATTACATTCCCAACCGCGTGGCACAACAACTGGCGGGCAAACAGTCGTTGCTGATTGGCGTTGCCACCTCCAGTCTGGCCCTGCACGCGCCGTCGCAAATTGTCGCGGCGATTAAATCTCGCGCCGATCAACTGGGTGCCAGCGTGGTGGTGTCGATGGTAGAACGAAGCGGCGTCGAAGCCTGTAAAGCGGCGGTGCACAATCTTCTCGCGCAACGCGTCAGTGGGCTGATCATTAACTATCCGCTGGATGACCAGGATGCCATTGCTGTGGAAGCTGCCTGCACTAATGTTCCGGCGTTATTTCTTGATGTCTCTGACCAGACACCCATCAACAGTATTATTTACTCCCATGAGGACGGTACGCGACTGGGCGTGGAGCATCTGGTCGCATTGGGTCACCAGCAAATCGCGCTGTTAGCGGGCCCATTAAGTTCTGTCTCGGCGCGTCTGCGTCTGGCTGGCTGGCATAAATATCTCACTCGCAATCAAATTCAGCCGATAGCGGAACGGGAAGGCGACTGGAGTGCCATGTCCGGTTTTCAACAAACCATGCAAATGCTGAATGAGGGCATCGTTCCCACTGCGATGCTGGTTGCCAACGATCAGATGGCGCTGGGCGCAATGCGCGCCATTACCGAGTCCGGGCTGCGCGTTGGTGCGGATATCTCGGTAGTGGGATACGACGATACCGAAGATAGCTCATGTTATATCCCGCCGTTAACCACCATCAAACAGGATTTTCGCCTGCTGGGGCAAACCAGCGTGGACCGCTTGCTGCAACTCTCTCAGGGCCAGGCGGTGAAGGGCAATCAGCTGTTGCCAGTCTCACTGGTGAAAAGAAAAACCACCCTGGCGCCCAATACGCAAACCGCCTCTCCCCGCGCGTTGGCCGATTCATTAATGCAGCTGGCACGACAGGTTTCCCGACTGGAAAGCGGGCAGT\",\n",
    "    \"PhlF\": \"ATGGCACGTACCCCGAGCCGTAGCAGCATTGGTAGCCTGCGTAGTCCGCATACCCATAAAGCAATTCTGACCAGCACCATTGAAATCCTGAAAGAATGTGGTTATAGCGGTCTGAGCATTGAAAGCGTGGCACGTCGCGCCGGTGCAGGCAAACCGACCATTTATCGTTGGTGGACCAACAAAGCAGCACTGATTGCCGAAGTGTATGAAAATGAAATCGAACAGGTACGTAAATTTCCGGATTTGGGTAGCTTTAAAGCCGATCTGGATTTTCTGCTGCATAATCTGTGGAAAGTTTGGCGTGAAACCATTTGTGGTGAAGCATTTCGTTGTGTTATTGCAGAAGCACAGTTGGACCCTGTAACCCTGACCCAACTGAAAGATCAGTTTATGGAACGTCGTCGTGAGATACCGAAAAAACTGGTTGAAGATGCCATTAGCAATGGTGAACTGCCGAAAGATATCAATCGTGAACTGCTGCTGGATATGATTTTTGGTTTTTGTTGGTATCGCCTGCTGACCGAACAGTTGACCGTTGAACAGGATATTGAAGAATTTACCTTCCTGCTGATTAATGGTGTTTGTCCGGGTACACAGTGTTAA\",\n",
    "    \"BetI\": \"ATGCCGAAACTGGGTATGCAGAGCATTCGTCGTCGTCAGCTGATTGATGCAACCCTGGAAGCAATTAATGAAGTTGGTATGCATGATGCAACCATTGCACAGATTGCACGTCGTGCCGGTGTTAGCACCGGTATTATTAGCCATTATTTCCGCGATAAAAACGGTCTACTGGAAGCAACCATGCGTGATATTACCAGCCAGCTGCGTGATGCAGTTCTGAATCGTCTGCATGCACTGCCGCAGGGTAGCGCAGAACAGCGTCTGCAGGCAATTGTTGGTGGTAATTTTGATGAAACCCAGGTTAGCAGCGCAGCAATGAAAGCATGGCTGGCATTTTGGGCAATCAGCATGCATCAGCCGATGCTGTATCGTCTGCAGCAGGTTAGCAGTCGTCGTCTGCTGAGCAATCTGGTTAGCGAATTTCGTCGTGAACTGCCTCGTGAACAGGCACAAGAGGCAGGTTATGGTCTGGCAGCACTGATTGATGGTCTGTGGCTGCGTGCAGCACTGAGCGGTAAACCGCTGGATAAAACCCGTGCAAATAGCCTGACCCGTCATTTTATCACCCAGCATCTGCCGACCGATTAA\",\n",
    "}"
   ]
  },
  {
   "cell_type": "code",
   "execution_count": null,
   "id": "47a75a97-d408-42b9-aecc-a90c03fb5aa7",
   "metadata": {},
   "outputs": [],
   "source": [
    "parts.keys()"
   ]
  },
  {
   "cell_type": "code",
   "execution_count": null,
   "id": "095177c0-9310-47b4-96d3-8de38f98f875",
   "metadata": {},
   "outputs": [],
   "source": [
    "?edlib.align"
   ]
  },
  {
   "cell_type": "code",
   "execution_count": null,
   "id": "6c2f180a-6173-47ba-ad4e-9337f084a0bd",
   "metadata": {},
   "outputs": [],
   "source": [
    "%%time\n",
    "# offsets = []\n",
    "snp_threshold = 50\n",
    "ids = set()\n",
    "misassembled_simplex = defaultdict(list)\n",
    "misassembled_duplex = defaultdict(list)\n",
    "for msg in tqdm(msgs3):\n",
    "    if 800 <= len(msg.sequence) <= 900:\n",
    "        read = fq[msg.name].seq\n",
    "        # print(msg.name)\n",
    "        d1 = tuple(\n",
    "            edlib.align(part, read, mode=\"HW\")[\"editDistance\"]\n",
    "            for part in parts.values()\n",
    "        )\n",
    "        d2 = tuple(\n",
    "            edlib.align(reverse_complement(part), read, mode=\"HW\")[\"editDistance\"]\n",
    "            for part in parts.values()\n",
    "        )\n",
    "        if min(d1) <= min(d2):\n",
    "            d = d1\n",
    "        else:\n",
    "            d = d2\n",
    "        # print(k)\n",
    "        # print()\n",
    "        # continue\n",
    "        key = tuple(dd <= snp_threshold for dd in d)\n",
    "        if \";\" in msg.name:\n",
    "            misassembled_duplex[key].append(read)\n",
    "        else:\n",
    "            misassembled_simplex[key].append(read)\n",
    "        # ids.add(msg.name)\n",
    "        # print(f\">{msg.name}\")\n",
    "        # print(fq[msg.name].seq)\n",
    "        # print(msg.sequence)\n",
    "        # print(msg);0/0\n",
    "        # offsets.append(msg.path.mapping[0].position.offset)"
   ]
  },
  {
   "cell_type": "code",
   "execution_count": null,
   "id": "41cde363-25b6-4a25-ae04-f7a5fb52746d",
   "metadata": {},
   "outputs": [],
   "source": [
    "{k: len(v) for k, v in misassembled_duplex.items()}"
   ]
  },
  {
   "cell_type": "code",
   "execution_count": null,
   "id": "231f3870-8071-44b8-a800-e5f5e772a896",
   "metadata": {},
   "outputs": [],
   "source": [
    "{k: len(v) for k, v in misassembled_simplex.items()}"
   ]
  },
  {
   "cell_type": "code",
   "execution_count": null,
   "id": "72de5d03-39a1-41d4-9fd0-0d231322c07e",
   "metadata": {},
   "outputs": [],
   "source": [
    "idx = 9\n",
    "read = misassembled_duplex[(False, False, False)][idx]\n",
    "end = \"ATCACATTGCCATCAGTAATAACCCCTTGGGGCCTCTAAACGGGTCTTGAGGGGTTTTTTGGGAAAGATAACAGATACTTCGGTATCTGTTATCTGTTTTTTTTCAACAGATAGCCGCGTTCGCGCGGCTATCTGTTTTTTTTGGTGGAAGGGCTCGGAGTTGTGGTAATCTATGTATCCTGG\"\n",
    "print(edlib.align(end, read, mode=\"HW\"))\n",
    "print(edlib.align(reverse_complement(end), read, mode=\"HW\"))"
   ]
  },
  {
   "cell_type": "code",
   "execution_count": null,
   "id": "ee22d71b-22e2-4853-83e2-756a7a21c471",
   "metadata": {},
   "outputs": [],
   "source": [
    "BARCODE_END = \"ATCACATTGCCATCAGTAATAACCCCTTGGGGCCTCTAAACGGGTCTTGAGGGGTTTTTTG\"\n",
    "\n",
    "\n",
    "def trim_barcode(read, end=BARCODE_END, threshold=10):\n",
    "    if (d1 := edlib.align(end, read, mode=\"HW\"))[\"editDistance\"] <= threshold:\n",
    "        # print(\"1\",d1)\n",
    "        return (\n",
    "            read[d1[\"locations\"][0][1] - len(end) + 1 :],\n",
    "            read[: d1[\"locations\"][0][1] - len(end) + 1],\n",
    "        )\n",
    "    elif (d2 := edlib.align(reverse_complement(end), read, mode=\"HW\"))[\n",
    "        \"editDistance\"\n",
    "    ] <= threshold:\n",
    "        # print(\"2\",d2)\n",
    "        return reverse_complement(\n",
    "            read[: d2[\"locations\"][0][1] + 1]\n",
    "        ), reverse_complement(read[d2[\"locations\"][0][1] + 1 :])\n",
    "    else:\n",
    "        return read"
   ]
  },
  {
   "cell_type": "code",
   "execution_count": null,
   "id": "5e0256d2-2cbe-4ca0-9ab5-f5b6f6dfa605",
   "metadata": {},
   "outputs": [],
   "source": [
    "read"
   ]
  },
  {
   "cell_type": "code",
   "execution_count": null,
   "id": "9cf4eefe-6045-4901-8431-4d2d66700c4b",
   "metadata": {},
   "outputs": [],
   "source": [
    "trim_barcode(read)"
   ]
  },
  {
   "cell_type": "code",
   "execution_count": null,
   "id": "0087f6e3-20ec-4750-9c62-f2bce6d5f557",
   "metadata": {},
   "outputs": [],
   "source": [
    "trim_barcode(reverse_complement(read))"
   ]
  },
  {
   "cell_type": "code",
   "execution_count": null,
   "id": "7883d646-87ee-47fa-91b3-d9ff7e468ddd",
   "metadata": {},
   "outputs": [],
   "source": [
    "# TTT: full circuit, no barcode (?)"
   ]
  },
  {
   "cell_type": "code",
   "execution_count": null,
   "id": "c6b22879-5e80-4a86-a7a6-c18440059e43",
   "metadata": {},
   "outputs": [],
   "source": [
    "{k: len(v) for k, v in misassembled_duplex.items()}"
   ]
  },
  {
   "cell_type": "code",
   "execution_count": null,
   "id": "116c39da-de31-4c1a-8e7f-e2812a2b834a",
   "metadata": {},
   "outputs": [],
   "source": [
    "for read in misassembled_duplex[(False, False, False)]:\n",
    "    print(\">FFF\")\n",
    "    print(trim_barcode(read)[0])"
   ]
  },
  {
   "cell_type": "code",
   "execution_count": null,
   "id": "c946c2dd-7549-4274-a07c-5135e611ab67",
   "metadata": {},
   "outputs": [],
   "source": [
    "{k: len(v) for k, v in misassembled_simplex.items()}"
   ]
  },
  {
   "cell_type": "code",
   "execution_count": null,
   "id": "4c05cc70-3487-48dd-873c-3ba1cbdcacb6",
   "metadata": {},
   "outputs": [],
   "source": [
    "Counter([extract_read_segments(msg)[\"RBS2\"] for msg in msgs if \";\" in msg.name])"
   ]
  },
  {
   "cell_type": "code",
   "execution_count": null,
   "id": "e1546732-e365-423e-8110-5c4f894929d0",
   "metadata": {},
   "outputs": [],
   "source": [
    "Counter([extract_read_segments(msg)[\"RBS2\"] for msg in msgs])"
   ]
  }
 ],
 "metadata": {
  "kernelspec": {
   "display_name": "Python 3 (ipykernel)",
   "language": "python",
   "name": "python3"
  },
  "language_info": {
   "codemirror_mode": {
    "name": "ipython",
    "version": 3
   },
   "file_extension": ".py",
   "mimetype": "text/x-python",
   "name": "python",
   "nbconvert_exporter": "python",
   "pygments_lexer": "ipython3",
   "version": "3.11.5"
  }
 },
 "nbformat": 4,
 "nbformat_minor": 5
}
