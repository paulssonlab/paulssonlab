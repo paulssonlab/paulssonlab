{
 "cells": [
  {
   "cell_type": "code",
   "execution_count": null,
   "id": "41c57f7d-eb34-40e9-b810-10d4c44d68b2",
   "metadata": {},
   "outputs": [],
   "source": [
    "import itertools as it\n",
    "import operator\n",
    "import re\n",
    "from collections import Counter\n",
    "from pathlib import Path\n",
    "\n",
    "import gfapy\n",
    "import holoviews as hv\n",
    "import matplotlib.pyplot as plt\n",
    "import numpy as np\n",
    "import pandas as pd\n",
    "import pyarrow as pa\n",
    "import pyarrow.compute as pc\n",
    "from pyarrow import csv\n",
    "from tqdm.auto import tqdm, trange"
   ]
  },
  {
   "cell_type": "code",
   "execution_count": null,
   "id": "f4ec68fd-4dab-43a1-a74d-fc2137f04acb",
   "metadata": {},
   "outputs": [],
   "source": [
    "%load_ext autoreload\n",
    "%autoreload 2"
   ]
  },
  {
   "cell_type": "code",
   "execution_count": null,
   "id": "6d3d323b-2fd5-44cd-b9b0-ed41db593de3",
   "metadata": {},
   "outputs": [],
   "source": [
    "import paulssonlab.sequencing.gaf as gaf"
   ]
  },
  {
   "cell_type": "code",
   "execution_count": null,
   "id": "f117a156-f6f6-423f-81be-bb5eed890a23",
   "metadata": {},
   "outputs": [],
   "source": [
    "hv.extension(\"bokeh\")"
   ]
  },
  {
   "cell_type": "markdown",
   "id": "0d050f91-79f4-491b-a4c4-a208210eff14",
   "metadata": {},
   "source": [
    "# Config"
   ]
  },
  {
   "cell_type": "code",
   "execution_count": null,
   "id": "6589476b-6033-46ed-9b8f-c4f1d115469f",
   "metadata": {},
   "outputs": [],
   "source": [
    "data_dir = Path(\n",
    "    \"/home/jqs1/scratch/jqs1/sequencing/230818_bcd_rbses/20230818_1343_1A_PAQ97606_f49ab41c\"\n",
    ")\n",
    "gaf_filename = data_dir / \"temp/mapped_t4.gaf\"\n",
    "gfa = gfapy.Gfa.from_file(data_dir / \"references/bcd_rbses.gfa\")"
   ]
  },
  {
   "cell_type": "markdown",
   "id": "dd321849-0af8-4423-b51c-0583be13377a",
   "metadata": {},
   "source": [
    "# Completeness"
   ]
  },
  {
   "cell_type": "code",
   "execution_count": null,
   "id": "abfb9871-962f-4db5-83c8-5b8014490e30",
   "metadata": {},
   "outputs": [],
   "source": [
    "%%time\n",
    "segments = Counter()\n",
    "ends = Counter()\n",
    "total_reads = 0\n",
    "for table in tqdm(gaf.parse_gaf(gaf_filename)):\n",
    "    path_col = table.column(\"path\")\n",
    "    for idx in range(len(table)):\n",
    "        path = [s[1:] for s in path_col[idx].as_py()]\n",
    "        segments.update(path)\n",
    "        ends[path[0]] += 1\n",
    "        ends[path[-1]] += 1\n",
    "        total_reads += 1"
   ]
  },
  {
   "cell_type": "code",
   "execution_count": null,
   "id": "fe02cf40-143f-4160-9254-f74acd3518ed",
   "metadata": {},
   "outputs": [],
   "source": [
    "for k, v in sorted(\n",
    "    {k: f\"{v/total_reads*100:.0f}\" for k, v in segments.items()}.items()\n",
    "):\n",
    "    print(f\"{k}: {v}%\")"
   ]
  },
  {
   "cell_type": "code",
   "execution_count": null,
   "id": "280303fd-4b87-4a25-9bd1-a365292d0dd7",
   "metadata": {},
   "outputs": [],
   "source": [
    "for k, v in sorted({k: f\"{v/total_reads*100:.0f}\" for k, v in ends.items()}.items()):\n",
    "    print(f\"{k}: {v}%\")"
   ]
  },
  {
   "cell_type": "markdown",
   "id": "be42acce-3b4a-466a-ba3f-666370bc8d36",
   "metadata": {},
   "source": [
    "# Duplex barcode mismatches"
   ]
  },
  {
   "cell_type": "code",
   "execution_count": null,
   "id": "fe3190d8-57a9-4518-9464-dabefcd58681",
   "metadata": {},
   "outputs": [],
   "source": [
    "%%time\n",
    "total_reads = 0\n",
    "complete_barcodes = 0\n",
    "name_to_barcode = {}\n",
    "for table in tqdm(parse_gaf(gaf_filename)):\n",
    "    name_col = table.column(\"name\")\n",
    "    path_col = table.column(\"path\")\n",
    "    for idx in range(len(table)):\n",
    "        name = name_col[idx].as_py()\n",
    "        path = set([s[1:] for s in path_col[idx].as_py()])\n",
    "        total_reads += 1\n",
    "        if (\"BIT0:0\" in path or \"BIT0:1\" in path) and (\n",
    "            \"BIT29:0\" in path or \"BIT29:1\" in path\n",
    "        ):\n",
    "            complete_barcodes += 1\n",
    "            barcode = tuple(f\"BIT{bit}:1\" in path for bit in range(30))\n",
    "            name_to_barcode[name] = barcode"
   ]
  },
  {
   "cell_type": "code",
   "execution_count": null,
   "id": "7ba8f13a-0979-4c66-ad05-855e3f22ff27",
   "metadata": {},
   "outputs": [],
   "source": [
    "(complete_barcodes, total_reads, complete_barcodes / total_reads)"
   ]
  },
  {
   "cell_type": "code",
   "execution_count": null,
   "id": "5a7acd10-93bc-4318-8551-853ba3d05341",
   "metadata": {},
   "outputs": [],
   "source": [
    "duplex_matches = []\n",
    "duplex_mismatches = []\n",
    "duplex_missing = []\n",
    "for name, barcode in tqdm(name_to_barcode.items()):\n",
    "    reads = name.split(\";\")\n",
    "    if len(reads) == 2:\n",
    "        if reads[0] in name_to_barcode and reads[1] in name_to_barcode:\n",
    "            if name_to_barcode[reads[0]] != name_to_barcode[reads[1]]:\n",
    "                duplex_mismatches.append(name)\n",
    "            else:\n",
    "                duplex_matches.append(name)\n",
    "        else:\n",
    "            duplex_missing.append(name)"
   ]
  },
  {
   "cell_type": "code",
   "execution_count": null,
   "id": "dcd6f228-0911-43b4-b8a9-8f8bbd4adcb5",
   "metadata": {},
   "outputs": [],
   "source": [
    "name_to_barcode[\"e7a0f1dc-d947-4265-9dd4-d4cda25a0928\"] == name_to_barcode[\n",
    "    \"50815360-6914-41f9-8da8-1882c8db69e6\"\n",
    "]"
   ]
  },
  {
   "cell_type": "code",
   "execution_count": null,
   "id": "5cec6701-f08f-4499-a215-9e1582f53832",
   "metadata": {},
   "outputs": [],
   "source": [
    "len(duplex_missing)"
   ]
  },
  {
   "cell_type": "code",
   "execution_count": null,
   "id": "5c9ef203-82bd-4cc5-b109-9a037229603c",
   "metadata": {},
   "outputs": [],
   "source": [
    "len(duplex_matches)"
   ]
  },
  {
   "cell_type": "code",
   "execution_count": null,
   "id": "3bf6b9f3-3998-476c-907d-1f51a2d64ca3",
   "metadata": {},
   "outputs": [],
   "source": [
    "len(duplex_mismatches)"
   ]
  },
  {
   "cell_type": "code",
   "execution_count": null,
   "id": "a66c9be1-0a11-4dbf-b7a9-7018b749cf3a",
   "metadata": {},
   "outputs": [],
   "source": [
    "duplex_mismatches[10]"
   ]
  }
 ],
 "metadata": {
  "kernelspec": {
   "display_name": "Python 3 (ipykernel)",
   "language": "python",
   "name": "python3"
  },
  "language_info": {
   "codemirror_mode": {
    "name": "ipython",
    "version": 3
   },
   "file_extension": ".py",
   "mimetype": "text/x-python",
   "name": "python",
   "nbconvert_exporter": "python",
   "pygments_lexer": "ipython3",
   "version": "3.11.5"
  }
 },
 "nbformat": 4,
 "nbformat_minor": 5
}
