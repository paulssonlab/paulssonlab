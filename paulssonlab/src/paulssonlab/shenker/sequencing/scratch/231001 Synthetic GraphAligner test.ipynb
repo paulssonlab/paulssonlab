{
 "cells": [
  {
   "cell_type": "code",
   "execution_count": null,
   "id": "41c57f7d-eb34-40e9-b810-10d4c44d68b2",
   "metadata": {},
   "outputs": [],
   "source": [
    "import itertools as it\n",
    "import operator\n",
    "import re\n",
    "import subprocess\n",
    "import tempfile\n",
    "import time\n",
    "from collections import Counter\n",
    "from pathlib import Path\n",
    "\n",
    "import gfapy\n",
    "import holoviews as hv\n",
    "import matplotlib.pyplot as plt\n",
    "import numpy as np\n",
    "import pandas as pd\n",
    "import pyarrow as pa\n",
    "import pyarrow.compute as pc\n",
    "import pyfastx\n",
    "from pyarrow import csv\n",
    "from tqdm.auto import tqdm, trange"
   ]
  },
  {
   "cell_type": "code",
   "execution_count": null,
   "id": "f4ec68fd-4dab-43a1-a74d-fc2137f04acb",
   "metadata": {},
   "outputs": [],
   "source": [
    "%load_ext autoreload\n",
    "%autoreload 2"
   ]
  },
  {
   "cell_type": "code",
   "execution_count": null,
   "id": "6d3d323b-2fd5-44cd-b9b0-ed41db593de3",
   "metadata": {},
   "outputs": [],
   "source": [
    "import paulssonlab.cloning.design as design\n",
    "import paulssonlab.cloning.sequence as sequence\n",
    "import paulssonlab.sequencing.gaf as gaf_"
   ]
  },
  {
   "cell_type": "code",
   "execution_count": null,
   "id": "f117a156-f6f6-423f-81be-bb5eed890a23",
   "metadata": {},
   "outputs": [],
   "source": [
    "hv.extension(\"bokeh\")"
   ]
  },
  {
   "cell_type": "markdown",
   "id": "852daa9a-2247-4f04-addf-baf37d226be1",
   "metadata": {},
   "source": [
    "# Functions"
   ]
  },
  {
   "cell_type": "code",
   "execution_count": null,
   "id": "7893b35d-65d8-45bd-915b-0ed691303254",
   "metadata": {},
   "outputs": [],
   "source": [
    "def mutagenize_seq(seq, q=0, error=0, letters=\"ATCG\", rng=None):\n",
    "    # mark errors as upper-case to make debugging easier (GraphAligner doesn't care)\n",
    "    letters = list(letters)\n",
    "    if rng is None:\n",
    "        rng = np.random.default_rng()\n",
    "    if q and error:\n",
    "        raise ValueError(\"at most one of q and error can be specified\")\n",
    "    if q:\n",
    "        error = 10 ** (-q / 10)\n",
    "    num_errors = rng.binomial(len(seq), error)\n",
    "    error_indices = rng.choice(len(seq), size=num_errors)\n",
    "    for idx in error_indices:\n",
    "        seq = seq[:idx] + rng.choice(letters) + seq[idx + 1 :]\n",
    "    return seq\n",
    "\n",
    "\n",
    "def generate_reads(segments, num_reads=100, q=0, error=0, rng=None):\n",
    "    if rng is None:\n",
    "        rng = np.random.default_rng()\n",
    "    num_choices = np.array([len(s) for s in segments])\n",
    "    true_path = rng.integers(num_choices[np.newaxis, :], size=(num_reads, 3))\n",
    "    reversed = rng.integers(2, size=num_reads)\n",
    "    reads = []\n",
    "    for read_idx in range(num_reads):\n",
    "        read = \"\".join(\n",
    "            [\n",
    "                variants[variant_idx]\n",
    "                for variants, variant_idx in zip(segments, true_path[read_idx])\n",
    "            ]\n",
    "        )\n",
    "        # read = mutagenize_seq(read, q=q, error=error, rng=rng)\n",
    "        read = (\n",
    "            read[0] + mutagenize_seq(read[1:-1], q=q, error=error, rng=rng) + read[-1]\n",
    "        )\n",
    "        if reversed[read_idx]:\n",
    "            read = str(sequence.reverse_complement(read))\n",
    "        read = read[:-1] + \"G\"\n",
    "        # read = \"G\" + read[1:]\n",
    "        reads.append(read)\n",
    "    # add trailing newline\n",
    "    formatted_reads = (\n",
    "        \"\\n\".join([f\">r{idx}\\n{read}\" for idx, read in enumerate(reads)]) + \"\\n\"\n",
    "    )\n",
    "    ground_truth = dict(true_path=true_path, reversed=reversed)\n",
    "    return formatted_reads, ground_truth"
   ]
  },
  {
   "cell_type": "code",
   "execution_count": null,
   "id": "8223b632-d043-43c3-b5be-b389597c37f2",
   "metadata": {},
   "outputs": [],
   "source": [
    "def generate_gfa(segments):\n",
    "    lines = [\"H\\tVN:Z:1.0\"]\n",
    "    lines.extend(\n",
    "        [\n",
    "            f\"S\\ts{s}={v}\\t{seq}\"\n",
    "            for s, variants in enumerate(segments)\n",
    "            for v, seq in enumerate(variants)\n",
    "        ]\n",
    "    )\n",
    "    lines.extend(\n",
    "        [\n",
    "            f\"L\\ts{s}={v1}\\t+\\ts{s+1}={v2}\\t+\\t0M\"\n",
    "            for s in range(len(segments) - 1)\n",
    "            for v1, v2 in it.product(\n",
    "                range(len(segments[s])), range(len(segments[s + 1]))\n",
    "            )\n",
    "        ]\n",
    "    )\n",
    "    return \"\\n\".join(lines) + \"\\n\"  # add trailing newline"
   ]
  },
  {
   "cell_type": "code",
   "execution_count": null,
   "id": "4ebaf1b4-bfed-4c48-bfdf-669d67bd7a93",
   "metadata": {},
   "outputs": [],
   "source": [
    "def run_aligner(gfa_filename, reads_filename, args=[]):\n",
    "    # cmd_base = [\"/home/jqs1/micromamba/envs/seqtest/bin/GraphAligner\"]\n",
    "    cmd_base = [\"/home/jqs1/paulsson-home/bin/GraphAligner\"]\n",
    "    with tempfile.NamedTemporaryFile(mode=\"w+\", suffix=\".gaf\") as gaf_file:\n",
    "        cmd = [\n",
    "            *cmd_base,\n",
    "            \"-g\",\n",
    "            gfa_filename,\n",
    "            \"-f\",\n",
    "            reads_filename,\n",
    "            \"-a\",\n",
    "            gaf_file.name,\n",
    "            *args,\n",
    "        ]\n",
    "        start = time.time()\n",
    "        out = subprocess.run(cmd, capture_output=True)\n",
    "        stop = time.time()\n",
    "        if out.returncode != 0:\n",
    "            print(\"STDOUT:\")\n",
    "            print(out.stdout.decode())\n",
    "            print()\n",
    "            print(\"STDERR:\")\n",
    "            print(out.stderr.decode())\n",
    "            print()\n",
    "            raise RuntimeError(\"GraphAligner returned non-zero exit status\")\n",
    "        runtime = stop - start\n",
    "        print(\"STDOUT\")\n",
    "        print(out.stdout.decode())\n",
    "        print(\"STDERR\")\n",
    "        print(out.stderr.decode())\n",
    "        gaf = gaf_.read_gaf(gaf_file.name)\n",
    "        return gaf, runtime\n",
    "\n",
    "\n",
    "def run_aligner_synthetic(segments, args=[[\"-x\", \"vg\"]], num_reads=4, q=0, rng=None):\n",
    "    if rng is None:\n",
    "        rng = np.random.default_rng()\n",
    "    with (\n",
    "        tempfile.NamedTemporaryFile(mode=\"w+\", suffix=\".gfa\") as gfa_file,\n",
    "        tempfile.NamedTemporaryFile(mode=\"w+\", suffix=\".fasta\") as reads_file,\n",
    "    ):\n",
    "        gfa = generate_gfa(segments)\n",
    "        print(gfa)\n",
    "        gfa_file.write(gfa)\n",
    "        gfa_file.flush()\n",
    "        reads, ground_truth = generate_reads(\n",
    "            segments, num_reads=num_reads, q=q, rng=rng\n",
    "        )\n",
    "        print(reads)\n",
    "        reads_file.write(reads)\n",
    "        reads_file.flush()\n",
    "        res = []\n",
    "        for cmd_args in args:\n",
    "            res.append(run_aligner(gfa_file.name, reads_file.name, args=cmd_args))\n",
    "    return res, ground_truth"
   ]
  },
  {
   "cell_type": "code",
   "execution_count": null,
   "id": "1c5ae497-abce-49b6-9f9d-5327a07dbf3c",
   "metadata": {},
   "outputs": [],
   "source": [
    "def check_path_equality(path, true_path):\n",
    "    if path[0][0] == \"<\":\n",
    "        path = path[::-1]\n",
    "    if len(path) != len(true_path):\n",
    "        return False\n",
    "    for segment_idx, p in enumerate(path):\n",
    "        match = re.match(r\"(?:<|>)s(\\d+)=(\\d+)\", p)\n",
    "        if int(match.group(1)) != segment_idx:\n",
    "            return False\n",
    "        if int(match.group(2)) != true_path[segment_idx]:\n",
    "            return False\n",
    "    return True\n",
    "\n",
    "\n",
    "def check_alignment(gaf, ground_truth):\n",
    "    errors = set()\n",
    "    for idx in range(len(gaf)):\n",
    "        path = gaf.column(\"path\")[idx].as_py()\n",
    "        if not check_path_equality(path, ground_truth[\"true_path\"][idx]):\n",
    "            # TODO\n",
    "            # print(\">>>\",path,ground_truth[\"true_path\"][idx])\n",
    "            errors.add(idx)\n",
    "        if (path[0][0] == \"<\") != ground_truth[\"reversed\"][idx]:\n",
    "            errors.add(idx)\n",
    "    return errors"
   ]
  },
  {
   "cell_type": "markdown",
   "id": "0d050f91-79f4-491b-a4c4-a208210eff14",
   "metadata": {},
   "source": [
    "# Config"
   ]
  },
  {
   "cell_type": "code",
   "execution_count": null,
   "id": "ec13865c-feee-429b-9929-a35b71e07a10",
   "metadata": {},
   "outputs": [],
   "source": [
    "data_dir = Path(\"/home/jqs1/scratch/jqs1/sequencing/230930_alignment_test\")\n",
    "carlos_variants = pyfastx.Fasta(data_dir / \"230726_carlos/Savinov_Fragment_key.fasta\")"
   ]
  },
  {
   "cell_type": "markdown",
   "id": "ffcfb9d7-0fd1-45eb-8bc1-95f05b336965",
   "metadata": {},
   "source": [
    "# Test"
   ]
  },
  {
   "cell_type": "code",
   "execution_count": null,
   "id": "e3de5682-e861-429c-9b2c-65ab1d7a98d1",
   "metadata": {},
   "outputs": [],
   "source": [
    "# SEE: https://github.com/maickrau/GraphAligner/issues/18#issuecomment-635793833"
   ]
  },
  {
   "cell_type": "code",
   "execution_count": null,
   "id": "4358feea-9fbe-47c5-b9a2-ef7206607adc",
   "metadata": {},
   "outputs": [],
   "source": [
    "# TODO: REPLACE RANDOM_BASES, use rng?"
   ]
  },
  {
   "cell_type": "code",
   "execution_count": null,
   "id": "1e7445b4-5dd5-45eb-b91c-5396f8ef0afb",
   "metadata": {},
   "outputs": [],
   "source": [
    "# segments = [[\"aa\", \"cc\"], [\"tttat\", \"cccgc\"], [\"tccccccc\"]]\n",
    "# segments = [[\"aa\"*20, \"cc\"*20], [\"tttat\"*5, \"cccgc\"*5], [\"tccccccc\"*5]]\n",
    "# segments = [\n",
    "#     [design.random_bases(40) for i in range(2)],\n",
    "#     [design.random_bases(40) for i in range(2)],\n",
    "#     [design.random_bases(40) for i in range(2)],\n",
    "# ]\n",
    "segments = [\n",
    "    [design.random_bases(40, \"at\") for i in range(2)],\n",
    "    [design.random_bases(40, \"at\") for i in range(2)],\n",
    "    [design.random_bases(40, \"at\") for i in range(2)],\n",
    "]"
   ]
  },
  {
   "cell_type": "code",
   "execution_count": null,
   "id": "f4826831-048b-4be9-a0e0-05fa44b69cca",
   "metadata": {},
   "outputs": [],
   "source": [
    "%%time\n",
    "base_args = [\"-b\", \"100000\", \"-C\", \"500000\", \"--verbose\"]\n",
    "graphaligner_args = [\n",
    "    # [\"-x\", \"vg\"],\n",
    "    # [*base_args, \"--seeds-mum-count\", \"-1\"],\n",
    "    # [*base_args, \"--seeds-mem-count\", \"-1\"],\n",
    "    [\n",
    "        *base_args,\n",
    "        \"--seedless-DP\",\n",
    "        # \"--DP-restart-stride\",\n",
    "        # \"1000\",\n",
    "        # \"--precise-clipping\",\n",
    "        # \"0.502\",\n",
    "        # \"--X-drop\",\n",
    "        # \"1000000\",\n",
    "    ],\n",
    "]\n",
    "res, ground_truth = run_aligner_synthetic(\n",
    "    segments, num_reads=10, args=graphaligner_args, q=10, rng=np.random.default_rng(709)\n",
    ")\n",
    "errors = [check_alignment(run[0], ground_truth) for run in res]"
   ]
  },
  {
   "cell_type": "code",
   "execution_count": null,
   "id": "45257c49-6237-44f8-bd65-7e69416b9758",
   "metadata": {},
   "outputs": [],
   "source": [
    "for run_errors, run_args in zip(errors, graphaligner_args):\n",
    "    print(f\"{' '.join(run_args).rjust(80)}: {len(run_errors)}\")"
   ]
  },
  {
   "cell_type": "code",
   "execution_count": null,
   "id": "5aa07134-f08d-4bee-8208-64d7133868e6",
   "metadata": {},
   "outputs": [],
   "source": [
    "[len(e) for e in errors]"
   ]
  },
  {
   "cell_type": "code",
   "execution_count": null,
   "id": "58f739e9-f10e-4927-9fba-69ddf325874d",
   "metadata": {},
   "outputs": [],
   "source": [
    "res"
   ]
  },
  {
   "cell_type": "code",
   "execution_count": null,
   "id": "7b7bb02f-386d-4f48-b446-ea5523fb7831",
   "metadata": {},
   "outputs": [],
   "source": [
    "ground_truth"
   ]
  },
  {
   "cell_type": "code",
   "execution_count": null,
   "id": "a35f25a8-26b7-429e-9298-fcd3a0bc73f5",
   "metadata": {},
   "outputs": [],
   "source": [
    "res[0][0].column(\"path\")"
   ]
  },
  {
   "cell_type": "markdown",
   "id": "dd321849-0af8-4423-b51c-0583be13377a",
   "metadata": {},
   "source": [
    "# Completeness"
   ]
  },
  {
   "cell_type": "code",
   "execution_count": null,
   "id": "abfb9871-962f-4db5-83c8-5b8014490e30",
   "metadata": {},
   "outputs": [],
   "source": [
    "%%time\n",
    "segments = Counter()\n",
    "ends = Counter()\n",
    "total_reads = 0\n",
    "for table in tqdm(gaf.iter_gaf(gaf_filename)):\n",
    "    path_col = table.column(\"path\")\n",
    "    for idx in range(len(table)):\n",
    "        path = [s[1:] for s in path_col[idx].as_py()]\n",
    "        segments.update(path)\n",
    "        ends[path[0]] += 1\n",
    "        ends[path[-1]] += 1\n",
    "        total_reads += 1"
   ]
  },
  {
   "cell_type": "code",
   "execution_count": null,
   "id": "de8c2de2-8836-4258-a52b-39f55a15614e",
   "metadata": {},
   "outputs": [],
   "source": [
    "d = gaf.read_gaf(gaf_filename).to_pandas()"
   ]
  },
  {
   "cell_type": "code",
   "execution_count": null,
   "id": "b81f1ac3-345b-44fb-ac0c-90fa627d98ea",
   "metadata": {},
   "outputs": [],
   "source": [
    "len(carlos_variants)"
   ]
  },
  {
   "cell_type": "code",
   "execution_count": null,
   "id": "d63ffde6-6df2-4674-976d-2f9e4bd1b1fd",
   "metadata": {},
   "outputs": [],
   "source": [
    "str(carlos_variants[0])"
   ]
  },
  {
   "cell_type": "code",
   "execution_count": null,
   "id": "fe02cf40-143f-4160-9254-f74acd3518ed",
   "metadata": {},
   "outputs": [],
   "source": [
    "for k, v in sorted(\n",
    "    {k: f\"{v/total_reads*100:.0f}\" for k, v in segments.items()}.items()\n",
    "):\n",
    "    print(f\"{k}: {v}%\")"
   ]
  },
  {
   "cell_type": "code",
   "execution_count": null,
   "id": "280303fd-4b87-4a25-9bd1-a365292d0dd7",
   "metadata": {},
   "outputs": [],
   "source": [
    "for k, v in sorted({k: f\"{v/total_reads*100:.0f}\" for k, v in ends.items()}.items()):\n",
    "    print(f\"{k}: {v}%\")"
   ]
  },
  {
   "cell_type": "markdown",
   "id": "be42acce-3b4a-466a-ba3f-666370bc8d36",
   "metadata": {},
   "source": [
    "# Duplex barcode mismatches"
   ]
  },
  {
   "cell_type": "code",
   "execution_count": null,
   "id": "fe3190d8-57a9-4518-9464-dabefcd58681",
   "metadata": {},
   "outputs": [],
   "source": [
    "%%time\n",
    "total_reads = 0\n",
    "complete_barcodes = 0\n",
    "name_to_barcode = {}\n",
    "for table in tqdm(parse_gaf(gaf_filename)):\n",
    "    name_col = table.column(\"name\")\n",
    "    path_col = table.column(\"path\")\n",
    "    for idx in range(len(table)):\n",
    "        name = name_col[idx].as_py()\n",
    "        path = set([s[1:] for s in path_col[idx].as_py()])\n",
    "        total_reads += 1\n",
    "        if (\"BIT0:0\" in path or \"BIT0:1\" in path) and (\n",
    "            \"BIT29:0\" in path or \"BIT29:1\" in path\n",
    "        ):\n",
    "            complete_barcodes += 1\n",
    "            barcode = tuple(f\"BIT{bit}:1\" in path for bit in range(30))\n",
    "            name_to_barcode[name] = barcode"
   ]
  },
  {
   "cell_type": "code",
   "execution_count": null,
   "id": "7ba8f13a-0979-4c66-ad05-855e3f22ff27",
   "metadata": {},
   "outputs": [],
   "source": [
    "(complete_barcodes, total_reads, complete_barcodes / total_reads)"
   ]
  },
  {
   "cell_type": "code",
   "execution_count": null,
   "id": "5a7acd10-93bc-4318-8551-853ba3d05341",
   "metadata": {},
   "outputs": [],
   "source": [
    "duplex_matches = []\n",
    "duplex_mismatches = []\n",
    "duplex_missing = []\n",
    "for name, barcode in tqdm(name_to_barcode.items()):\n",
    "    reads = name.split(\";\")\n",
    "    if len(reads) == 2:\n",
    "        if reads[0] in name_to_barcode and reads[1] in name_to_barcode:\n",
    "            if name_to_barcode[reads[0]] != name_to_barcode[reads[1]]:\n",
    "                duplex_mismatches.append(name)\n",
    "            else:\n",
    "                duplex_matches.append(name)\n",
    "        else:\n",
    "            duplex_missing.append(name)"
   ]
  },
  {
   "cell_type": "code",
   "execution_count": null,
   "id": "dcd6f228-0911-43b4-b8a9-8f8bbd4adcb5",
   "metadata": {},
   "outputs": [],
   "source": [
    "name_to_barcode[\"e7a0f1dc-d947-4265-9dd4-d4cda25a0928\"] == name_to_barcode[\n",
    "    \"50815360-6914-41f9-8da8-1882c8db69e6\"\n",
    "]"
   ]
  },
  {
   "cell_type": "code",
   "execution_count": null,
   "id": "5cec6701-f08f-4499-a215-9e1582f53832",
   "metadata": {},
   "outputs": [],
   "source": [
    "len(duplex_missing)"
   ]
  },
  {
   "cell_type": "code",
   "execution_count": null,
   "id": "5c9ef203-82bd-4cc5-b109-9a037229603c",
   "metadata": {},
   "outputs": [],
   "source": [
    "len(duplex_matches)"
   ]
  },
  {
   "cell_type": "code",
   "execution_count": null,
   "id": "3bf6b9f3-3998-476c-907d-1f51a2d64ca3",
   "metadata": {},
   "outputs": [],
   "source": [
    "len(duplex_mismatches)"
   ]
  },
  {
   "cell_type": "code",
   "execution_count": null,
   "id": "a66c9be1-0a11-4dbf-b7a9-7018b749cf3a",
   "metadata": {},
   "outputs": [],
   "source": [
    "duplex_mismatches[10]"
   ]
  }
 ],
 "metadata": {
  "kernelspec": {
   "display_name": "Python 3 (ipykernel)",
   "language": "python",
   "name": "python3"
  },
  "language_info": {
   "codemirror_mode": {
    "name": "ipython",
    "version": 3
   },
   "file_extension": ".py",
   "mimetype": "text/x-python",
   "name": "python",
   "nbconvert_exporter": "python",
   "pygments_lexer": "ipython3",
   "version": "3.11.5"
  }
 },
 "nbformat": 4,
 "nbformat_minor": 5
}
