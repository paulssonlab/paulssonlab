{
 "cells": [
  {
   "cell_type": "code",
   "execution_count": null,
   "id": "41c57f7d-eb34-40e9-b810-10d4c44d68b2",
   "metadata": {},
   "outputs": [],
   "source": [
    "import itertools as it\n",
    "import operator\n",
    "import re\n",
    "from collections import Counter\n",
    "from pathlib import Path\n",
    "\n",
    "import gfapy\n",
    "import holoviews as hv\n",
    "import matplotlib.pyplot as plt\n",
    "import numpy as np\n",
    "import pandas as pd\n",
    "import pyarrow as pa\n",
    "import pyarrow.compute as pc\n",
    "import pyfastx\n",
    "from pyarrow import csv\n",
    "from tqdm.auto import tqdm, trange"
   ]
  },
  {
   "cell_type": "code",
   "execution_count": null,
   "id": "f4ec68fd-4dab-43a1-a74d-fc2137f04acb",
   "metadata": {},
   "outputs": [],
   "source": [
    "%load_ext autoreload\n",
    "%autoreload 2"
   ]
  },
  {
   "cell_type": "code",
   "execution_count": null,
   "id": "6d3d323b-2fd5-44cd-b9b0-ed41db593de3",
   "metadata": {},
   "outputs": [],
   "source": [
    "import paulssonlab.sequencing.gaf as gaf"
   ]
  },
  {
   "cell_type": "code",
   "execution_count": null,
   "id": "f117a156-f6f6-423f-81be-bb5eed890a23",
   "metadata": {},
   "outputs": [],
   "source": [
    "hv.extension(\"bokeh\")"
   ]
  },
  {
   "cell_type": "markdown",
   "id": "0d050f91-79f4-491b-a4c4-a208210eff14",
   "metadata": {},
   "source": [
    "# Config"
   ]
  },
  {
   "cell_type": "code",
   "execution_count": null,
   "id": "6589476b-6033-46ed-9b8f-c4f1d115469f",
   "metadata": {},
   "outputs": [],
   "source": [
    "data_dir = Path(\"/home/jqs1/scratch/jqs1/sequencing/230930_alignment_test/\")\n",
    "# gaf_filename = data_dir / \"barcode.gfa\"\n",
    "# gfa = gfapy.Gfa.from_file(data_dir / \"references/bcd_rbses.gfa\")"
   ]
  },
  {
   "cell_type": "markdown",
   "id": "dd321849-0af8-4423-b51c-0583be13377a",
   "metadata": {},
   "source": [
    "# Completeness"
   ]
  },
  {
   "cell_type": "code",
   "execution_count": null,
   "id": "6b93f7d0-7f21-4b49-aa2b-3e212d769154",
   "metadata": {},
   "outputs": [],
   "source": [
    "# gaf_filename = data_dir / \"230707_repressilators/channel-135_merged.gaf\"\n",
    "# gaf_filename = data_dir / \"230726_carlos/channel-100_merged.gaf\"\n",
    "# gaf_filename = data_dir / \"230818_bcd_rbses/channel-100_merged.gaf\"\n",
    "gaf_filename = data_dir / \"230818_repressilators/channel-1032_merged.gaf\"\n",
    "# gaf_filename = data_dir / \"230922_bcd_rbses_constitutive/channel-100_merged.gaf\""
   ]
  },
  {
   "cell_type": "code",
   "execution_count": null,
   "id": "ce3585fa-2815-448d-8d9e-148b190ed17f",
   "metadata": {},
   "outputs": [],
   "source": [
    "%%time\n",
    "reads = pyfastx.Fastq(str(gaf_filename).replace(\".gaf\", \".fastq\"))"
   ]
  },
  {
   "cell_type": "code",
   "execution_count": null,
   "id": "8a898d83-7b72-4bb4-a7ab-cd471bbb2f75",
   "metadata": {},
   "outputs": [],
   "source": [
    "%%time\n",
    "duplex_ids = set(k for k in reads.keys() if \";\" in k)\n",
    "simplex_ids = set(k for k in reads.keys() if \";\" not in k)"
   ]
  },
  {
   "cell_type": "code",
   "execution_count": null,
   "id": "815fd4ac-a09a-4bf7-8478-5d0d52bd8ab8",
   "metadata": {},
   "outputs": [],
   "source": [
    "%%time\n",
    "total_reads = 0\n",
    "complete_barcodes = 0\n",
    "name_to_barcode = {}\n",
    "name_to_path = {}\n",
    "for table in tqdm(gaf.iter_gaf(gaf_filename)):\n",
    "    name_col = table.column(\"name\")\n",
    "    path_col = table.column(\"path\")\n",
    "    for idx in range(len(table)):\n",
    "        name = name_col[idx].as_py()\n",
    "        path = set([s[1:] for s in path_col[idx].as_py()])\n",
    "        name_to_path[name] = path\n",
    "        total_reads += 1\n",
    "        if (\"BC:BIT0=0\" in path or \"BC:BIT0=1\" in path) and (\n",
    "            \"BC:BIT29=0\" in path or \"BC:BIT29=1\" in path\n",
    "        ):\n",
    "            complete_barcodes += 1\n",
    "            barcode = tuple(f\"BC:BIT{bit}=1\" in path for bit in range(30))\n",
    "            name_to_barcode[name] = barcode"
   ]
  },
  {
   "cell_type": "code",
   "execution_count": null,
   "id": "fa8b0692-32ce-4270-8c11-4a5005e53824",
   "metadata": {},
   "outputs": [],
   "source": [
    "def partial_barcode_mismatches(a, b):\n",
    "    return set(k for k, v in Counter(s.split(\"=\")[0] for s in (a ^ b)).items() if v > 1)"
   ]
  },
  {
   "cell_type": "code",
   "execution_count": null,
   "id": "9f274028-d9f3-412f-bfd7-3ff89459fd09",
   "metadata": {},
   "outputs": [],
   "source": [
    "def mapping_status(id_, name_to_barcode, name_to_path):\n",
    "    if id_ in name_to_barcode:\n",
    "        return 0\n",
    "    elif id_ in name_to_path:\n",
    "        return 1\n",
    "    else:\n",
    "        return 2\n",
    "\n",
    "\n",
    "STATUS_TO_NAME = {0: \"Complete\", 1: \"Partial\", 2: \"Unmapped\"}\n",
    "\n",
    "census = pd.DataFrame(\n",
    "    np.zeros((3, 6), dtype=np.uint32),\n",
    "    columns=[\n",
    "        \"Complete/Complete\",\n",
    "        \"Complete/Partial\",\n",
    "        \"Complete/Unmapped\",\n",
    "        \"Partial/Partial\",\n",
    "        \"Partial/Unmapped\",\n",
    "        \"Unmapped/Unmapped\",\n",
    "    ],\n",
    "    index=[\"Duplex complete\", \"Duplex partial\", \"Duplex unmapped\"],\n",
    ")\n",
    "total_reads = census.copy()\n",
    "matches = census.copy()\n",
    "mismatches = census.copy()\n",
    "\n",
    "for duplex_id in tqdm(duplex_ids):\n",
    "    parent_ids = duplex_id.split(\";\")\n",
    "    parent_statuses = sorted(\n",
    "        [\n",
    "            mapping_status(parent_ids[0], name_to_barcode, name_to_path),\n",
    "            mapping_status(parent_ids[1], name_to_barcode, name_to_path),\n",
    "        ]\n",
    "    )\n",
    "    parent_col = \"/\".join(STATUS_TO_NAME[i] for i in parent_statuses)\n",
    "    if duplex_id in name_to_barcode:\n",
    "        row = \"Duplex complete\"\n",
    "    elif duplex_id in name_to_path:\n",
    "        row = \"Duplex partial\"\n",
    "    else:\n",
    "        row = \"Duplex unmapped\"\n",
    "    total_reads.loc[row, parent_col] += 1\n",
    "    if parent_statuses[0] != 2 and parent_statuses[1] != 2:\n",
    "        if partial_barcode_mismatches(\n",
    "            name_to_path[parent_ids[0]], name_to_path[parent_ids[1]]\n",
    "        ):\n",
    "            # if name_to_barcode[parent_ids[0]] == name_to_barcode[parent_ids[1]]:\n",
    "            #    print(\">>>\",duplex_id);0/0\n",
    "            # print(row, parent_col, partial_barcode_mismatches(name_to_path[parent_ids[0]], name_to_path[parent_ids[1]]));0/0\n",
    "            mismatches.loc[row, parent_col] += 1\n",
    "        else:\n",
    "            matches.loc[row, parent_col] += 1"
   ]
  },
  {
   "cell_type": "code",
   "execution_count": null,
   "id": "edcc5a16-3abc-4238-8f4d-168116122651",
   "metadata": {},
   "outputs": [],
   "source": [
    "total_reads"
   ]
  },
  {
   "cell_type": "code",
   "execution_count": null,
   "id": "60ed6f14-3e18-40ea-947a-1109feef1250",
   "metadata": {},
   "outputs": [],
   "source": [
    "matches"
   ]
  },
  {
   "cell_type": "code",
   "execution_count": null,
   "id": "2c3cb1ac-b552-4410-acc5-cb0760c379c5",
   "metadata": {},
   "outputs": [],
   "source": [
    "mismatches"
   ]
  },
  {
   "cell_type": "code",
   "execution_count": null,
   "id": "50779190-1fc8-4dc1-b17c-18520b987177",
   "metadata": {},
   "outputs": [],
   "source": [
    "a = data_dir / \"230707_repressilators/channel-135_merged.gaf\""
   ]
  },
  {
   "cell_type": "code",
   "execution_count": null,
   "id": "5c662d01-5278-4cf7-9e90-d3839ffd6db7",
   "metadata": {},
   "outputs": [],
   "source": [
    "def summarize_filename(p):\n",
    "    a = p.parts[-2]\n",
    "    return \"/\".join([a[: a.index(\"_\") + 2], p.parts[-1]])"
   ]
  },
  {
   "cell_type": "code",
   "execution_count": null,
   "id": "ecb0235e-26a8-460d-9f56-2df7231f7635",
   "metadata": {},
   "outputs": [],
   "source": [
    "summarize_filename(a)"
   ]
  },
  {
   "cell_type": "code",
   "execution_count": null,
   "id": "a4cd7b7c-20c8-4c38-a793-2bfadeec472a",
   "metadata": {},
   "outputs": [],
   "source": [
    "gaf_filenames = [\n",
    "    data_dir / \"230707_repressilators/channel-135_merged.gaf\",\n",
    "    data_dir / \"230726_carlos/channel-100_merged.gaf\",\n",
    "    data_dir / \"230818_bcd_rbses/channel-100_merged.gaf\",\n",
    "    data_dir / \"230818_repressilators/channel-1032_merged.gaf\",\n",
    "    data_dir / \"230922_bcd_rbses_constitutive/channel-100_merged.gaf\",\n",
    "]\n",
    "\n",
    "rows = []\n",
    "\n",
    "for gaf_filename in tqdm(gaf_filenames):\n",
    "    name_to_barcode = {}\n",
    "    name_to_path = {}\n",
    "    for table in tqdm(gaf.iter_gaf(gaf_filename)):\n",
    "        name_col = table.column(\"name\")\n",
    "        path_col = table.column(\"path\")\n",
    "        for idx in range(len(table)):\n",
    "            name = name_col[idx].as_py()\n",
    "            path = set([s[1:] for s in path_col[idx].as_py()])\n",
    "            name_to_path[name] = path\n",
    "            if (\"BC:BIT0=0\" in path or \"BC:BIT0=1\" in path) and (\n",
    "                \"BC:BIT29=0\" in path or \"BC:BIT29=1\" in path\n",
    "            ):\n",
    "                barcode = tuple(f\"BC:BIT{bit}=1\" in path for bit in range(30))\n",
    "                name_to_barcode[name] = barcode\n",
    "    reads = pyfastx.Fastq(str(gaf_filename).replace(\".gaf\", \".fastq\"))\n",
    "    duplex_ids = set(k for k in reads.keys() if \";\" in k)\n",
    "    num_mapped_reads = 0\n",
    "    num_barcodes_match = 0\n",
    "    for duplex_id in tqdm(duplex_ids):\n",
    "        parent_ids = duplex_id.split(\";\")\n",
    "        if (\n",
    "            duplex_id in name_to_barcode\n",
    "            and parent_ids[0] in name_to_barcode\n",
    "            and parent_ids[1] in name_to_barcode\n",
    "        ):\n",
    "            num_mapped_reads += 1\n",
    "            if (\n",
    "                name_to_barcode[duplex_id]\n",
    "                == name_to_barcode[parent_ids[0]]\n",
    "                == name_to_barcode[parent_ids[1]]\n",
    "            ):\n",
    "                num_barcodes_match += 1\n",
    "    experiment_name = gaf_filename.parts[-2][: gaf_filename.parts[-2].index(\"_\") + 2]\n",
    "    num_total_reads = len(reads)\n",
    "    num_duplex_reads = len(duplex_ids)\n",
    "    rows.append(\n",
    "        {\n",
    "            \"Experiment\": experiment_name,\n",
    "            \"Total Reads\": num_total_reads,\n",
    "            \"Duplex Reads\": num_duplex_reads,\n",
    "            \"Mapped Reads\": num_mapped_reads,\n",
    "            \"Barcodes Match\": num_barcodes_match,\n",
    "            \"Duplex Rate\": num_duplex_reads / num_total_reads,\n",
    "            \"Pair Mismatch Rate\": 1 - num_barcodes_match / num_mapped_reads,\n",
    "        }\n",
    "    )"
   ]
  },
  {
   "cell_type": "code",
   "execution_count": null,
   "id": "39c46558-47b2-4afb-9f8e-0441e4966ada",
   "metadata": {},
   "outputs": [],
   "source": [
    "pd.DataFrame(rows).style.format({\"Pair Mismatch Rate\": \"{:.0%}\"})"
   ]
  },
  {
   "cell_type": "code",
   "execution_count": null,
   "id": "a00c5f6e-15db-43a3-86c9-436df030e774",
   "metadata": {},
   "outputs": [],
   "source": [
    "print(pd.DataFrame(rows).to_markdown(tablefmt=\"github\", index=False))"
   ]
  },
  {
   "cell_type": "markdown",
   "id": "461f0993-2d07-456a-8c22-f61552265537",
   "metadata": {
    "jp-MarkdownHeadingCollapsed": true
   },
   "source": [
    "# Old"
   ]
  },
  {
   "cell_type": "code",
   "execution_count": null,
   "id": "abfb9871-962f-4db5-83c8-5b8014490e30",
   "metadata": {},
   "outputs": [],
   "source": [
    "%%time\n",
    "segments = Counter()\n",
    "ends = Counter()\n",
    "total_reads = 0\n",
    "for table in tqdm(gaf.iter_gaf(gaf_filename)):\n",
    "    path_col = table.column(\"path\")\n",
    "    for idx in range(len(table)):\n",
    "        path = [s[1:] for s in path_col[idx].as_py()]\n",
    "        segments.update(path)\n",
    "        ends[path[0]] += 1\n",
    "        ends[path[-1]] += 1\n",
    "        total_reads += 1"
   ]
  },
  {
   "cell_type": "code",
   "execution_count": null,
   "id": "fe02cf40-143f-4160-9254-f74acd3518ed",
   "metadata": {},
   "outputs": [],
   "source": [
    "for k, v in sorted(\n",
    "    {k: f\"{v/total_reads*100:.0f}\" for k, v in segments.items()}.items()\n",
    "):\n",
    "    print(f\"{k}: {v}%\")"
   ]
  },
  {
   "cell_type": "code",
   "execution_count": null,
   "id": "280303fd-4b87-4a25-9bd1-a365292d0dd7",
   "metadata": {},
   "outputs": [],
   "source": [
    "for k, v in sorted({k: f\"{v/total_reads*100:.0f}\" for k, v in ends.items()}.items()):\n",
    "    print(f\"{k}: {v}%\")"
   ]
  },
  {
   "cell_type": "code",
   "execution_count": null,
   "id": "7ba8f13a-0979-4c66-ad05-855e3f22ff27",
   "metadata": {},
   "outputs": [],
   "source": [
    "(\n",
    "    complete_barcodes,\n",
    "    total_reads,\n",
    "    complete_barcodes / total_reads,\n",
    "    len(duplex_ids),\n",
    "    len(duplex_ids) / total_reads,\n",
    ")"
   ]
  },
  {
   "cell_type": "code",
   "execution_count": null,
   "id": "b00b40f5-0499-44c4-a90c-f7f671ecfdf8",
   "metadata": {},
   "outputs": [],
   "source": [
    "duplex_mismatches = []\n",
    "duplex_matches = []\n",
    "duplex_missingone = []\n",
    "duplex_missingboth = []\n",
    "duplex_nobarcode = []\n",
    "for duplex_id in tqdm(duplex_ids):\n",
    "    if duplex_id not in name_to_barcode:\n",
    "        duplex_nobarcode.append(duplex_id)\n",
    "    else:\n",
    "        reads = duplex_id.split(\";\")\n",
    "        num_alignments = sum(read in name_to_barcode for read in reads)\n",
    "        if num_alignments == 0:\n",
    "            duplex_missingboth.append(duplex_id)\n",
    "        elif num_alignments == 1:\n",
    "            duplex_missingone.append(duplex_id)\n",
    "        else:\n",
    "            if name_to_barcode[reads[0]] == name_to_barcode[reads[1]]:\n",
    "                duplex_matches.append(duplex_id)\n",
    "            else:\n",
    "                duplex_mismatches.append(duplex_id)"
   ]
  },
  {
   "cell_type": "code",
   "execution_count": null,
   "id": "8f9bec33-122b-4c54-ac4c-7fc6a2213b17",
   "metadata": {},
   "outputs": [],
   "source": [
    "(\n",
    "    len(duplex_nobarcode),\n",
    "    len(duplex_mismatches),\n",
    "    len(duplex_matches),\n",
    "    len(duplex_missingone),\n",
    "    len(duplex_missingboth),\n",
    ")"
   ]
  },
  {
   "cell_type": "code",
   "execution_count": null,
   "id": "83c5c77d-954e-4db2-99dc-672e3f22e147",
   "metadata": {},
   "outputs": [],
   "source": [
    "name_to_path[duplex_nobarcode[8]]"
   ]
  },
  {
   "cell_type": "code",
   "execution_count": null,
   "id": "4a0bf7a1-6c50-42ae-9b9f-cd766452e44b",
   "metadata": {},
   "outputs": [],
   "source": [
    "duplex_read = duplex_nobarcode[8]\n",
    "parents = duplex_read.split(\";\")\n",
    "print(\"1>\", name_to_path[parents[0]])\n",
    "print(\"2>\", name_to_path[parents[1]])\n",
    "m = partial_barcode_mismatches(name_to_path[parents[0]], name_to_path[parents[1]])\n",
    "print()\n",
    "print(m)"
   ]
  },
  {
   "cell_type": "code",
   "execution_count": null,
   "id": "2eeba6db-aa44-4c17-bc5f-3a9ed1c01ed3",
   "metadata": {},
   "outputs": [],
   "source": [
    "for duplex_read in duplex_nobarcode[:1]:\n",
    "    parents = duplex_read.split(\";\")\n",
    "    print(\"1>\", name_to_path[parents[0]])\n",
    "    print(\"2>\", name_to_path[parents[1]])\n",
    "    m = partial_barcode_mismatches(name_to_path[parents[0]], name_to_path[parents[1]])\n",
    "    print(m)"
   ]
  },
  {
   "cell_type": "code",
   "execution_count": null,
   "id": "6e921f86-8ffb-4b53-b9d0-f759a7b01ef0",
   "metadata": {},
   "outputs": [],
   "source": [
    "a = name_to_path[parents[0]]\n",
    "b = name_to_path[parents[1]]"
   ]
  },
  {
   "cell_type": "code",
   "execution_count": null,
   "id": "f820362e-7b6e-4502-8e94-332366268b41",
   "metadata": {},
   "outputs": [],
   "source": [
    "b"
   ]
  },
  {
   "cell_type": "code",
   "execution_count": null,
   "id": "ce4ba1c5-ca1e-47d8-9582-2fd65ad99da8",
   "metadata": {},
   "outputs": [],
   "source": [
    "a & b"
   ]
  },
  {
   "cell_type": "code",
   "execution_count": null,
   "id": "2439fffd-3141-4d3b-ab31-e56a6c7a8efe",
   "metadata": {},
   "outputs": [],
   "source": [
    "a ^ b"
   ]
  },
  {
   "cell_type": "code",
   "execution_count": null,
   "id": "bbd234a1-4828-46b1-915b-ce6cd456a161",
   "metadata": {},
   "outputs": [],
   "source": [
    "duplex_nobarcode_distances = []\n",
    "no_parent_alignment = []\n",
    "for duplex_read in duplex_nobarcode:\n",
    "    parents = duplex_read.split(\";\")\n",
    "    if parents[0] not in name_to_path or parents[1] not in name_to_path:\n",
    "        no_parent_alignment.append(duplex_read)\n",
    "    else:\n",
    "        m = partial_barcode_mismatches(\n",
    "            name_to_path[parents[0]], name_to_path[parents[1]]\n",
    "        )\n",
    "        duplex_nobarcode_distances.append(len(m))"
   ]
  },
  {
   "cell_type": "code",
   "execution_count": null,
   "id": "68913fe8-ce6f-4f65-87fd-cd14d3b4c4dd",
   "metadata": {},
   "outputs": [],
   "source": [
    "(len(no_parent_alignment), len(duplex_nobarcode_distances))"
   ]
  },
  {
   "cell_type": "code",
   "execution_count": null,
   "id": "b40ca6bb-5b91-4d4b-962d-12a1344a3603",
   "metadata": {},
   "outputs": [],
   "source": [
    "sorted(Counter(duplex_nobarcode_distances).items())"
   ]
  },
  {
   "cell_type": "code",
   "execution_count": null,
   "id": "216df595-d174-4ef9-a1c1-21009d398b63",
   "metadata": {},
   "outputs": [],
   "source": [
    "print(pd.DataFrame([{\"foo\": 100, \"bar\": 200}]).to_markdown())"
   ]
  }
 ],
 "metadata": {
  "kernelspec": {
   "display_name": "Python 3 (ipykernel)",
   "language": "python",
   "name": "python3"
  },
  "language_info": {
   "codemirror_mode": {
    "name": "ipython",
    "version": 3
   },
   "file_extension": ".py",
   "mimetype": "text/x-python",
   "name": "python",
   "nbconvert_exporter": "python",
   "pygments_lexer": "ipython3",
   "version": "3.11.5"
  }
 },
 "nbformat": 4,
 "nbformat_minor": 5
}
