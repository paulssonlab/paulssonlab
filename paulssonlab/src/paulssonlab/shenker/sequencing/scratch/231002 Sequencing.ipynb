{
 "cells": [
  {
   "cell_type": "code",
   "execution_count": null,
   "id": "41c57f7d-eb34-40e9-b810-10d4c44d68b2",
   "metadata": {},
   "outputs": [],
   "source": [
    "import itertools as it\n",
    "import operator\n",
    "import re\n",
    "from collections import Counter\n",
    "from pathlib import Path\n",
    "\n",
    "import gfapy\n",
    "import holoviews as hv\n",
    "import matplotlib.pyplot as plt\n",
    "import numpy as np\n",
    "import pandas as pd\n",
    "import pyarrow as pa\n",
    "import pyarrow.compute as pc\n",
    "import pyfastx\n",
    "from pyarrow import csv\n",
    "from tqdm.auto import tqdm, trange"
   ]
  },
  {
   "cell_type": "code",
   "execution_count": null,
   "id": "f4ec68fd-4dab-43a1-a74d-fc2137f04acb",
   "metadata": {},
   "outputs": [],
   "source": [
    "%load_ext autoreload\n",
    "%autoreload 2"
   ]
  },
  {
   "cell_type": "code",
   "execution_count": null,
   "id": "6d3d323b-2fd5-44cd-b9b0-ed41db593de3",
   "metadata": {},
   "outputs": [],
   "source": [
    "import paulssonlab.sequencing.gaf as gaf"
   ]
  },
  {
   "cell_type": "code",
   "execution_count": null,
   "id": "f117a156-f6f6-423f-81be-bb5eed890a23",
   "metadata": {},
   "outputs": [],
   "source": [
    "hv.extension(\"bokeh\")"
   ]
  },
  {
   "cell_type": "markdown",
   "id": "0d050f91-79f4-491b-a4c4-a208210eff14",
   "metadata": {},
   "source": [
    "# Config"
   ]
  },
  {
   "cell_type": "code",
   "execution_count": null,
   "id": "6589476b-6033-46ed-9b8f-c4f1d115469f",
   "metadata": {},
   "outputs": [],
   "source": [
    "data_dir = Path(\"/home/jqs1/scratch/jqs1/sequencing/230930_alignment_test/\")\n",
    "# gaf_filename = data_dir / \"barcode.gfa\"\n",
    "# gfa = gfapy.Gfa.from_file(data_dir / \"references/bcd_rbses.gfa\")"
   ]
  },
  {
   "cell_type": "markdown",
   "id": "dd321849-0af8-4423-b51c-0583be13377a",
   "metadata": {},
   "source": [
    "# Completeness"
   ]
  },
  {
   "cell_type": "code",
   "execution_count": null,
   "id": "6b93f7d0-7f21-4b49-aa2b-3e212d769154",
   "metadata": {},
   "outputs": [],
   "source": [
    "# gaf_filename = data_dir / \"230707_repressilators/channel-135_merged.gaf\"\n",
    "# gaf_filename = data_dir / \"230726_carlos/channel-100_merged.gaf\"\n",
    "# gaf_filename = data_dir / \"230818_bcd_rbses/channel-100_merged.gaf\"\n",
    "gaf_filename = data_dir / \"230818_repressilators/channel-1032_merged.gaf\"\n",
    "# gaf_filename = data_dir / \"230922_bcd_rbses_constitutive/channel-100_merged.gaf\""
   ]
  },
  {
   "cell_type": "code",
   "execution_count": null,
   "id": "abfb9871-962f-4db5-83c8-5b8014490e30",
   "metadata": {},
   "outputs": [],
   "source": [
    "%%time\n",
    "segments = Counter()\n",
    "ends = Counter()\n",
    "total_reads = 0\n",
    "for table in tqdm(gaf.iter_gaf(gaf_filename)):\n",
    "    path_col = table.column(\"path\")\n",
    "    for idx in range(len(table)):\n",
    "        path = [s[1:] for s in path_col[idx].as_py()]\n",
    "        segments.update(path)\n",
    "        ends[path[0]] += 1\n",
    "        ends[path[-1]] += 1\n",
    "        total_reads += 1"
   ]
  },
  {
   "cell_type": "code",
   "execution_count": null,
   "id": "fe02cf40-143f-4160-9254-f74acd3518ed",
   "metadata": {},
   "outputs": [],
   "source": [
    "for k, v in sorted(\n",
    "    {k: f\"{v/total_reads*100:.0f}\" for k, v in segments.items()}.items()\n",
    "):\n",
    "    print(f\"{k}: {v}%\")"
   ]
  },
  {
   "cell_type": "code",
   "execution_count": null,
   "id": "280303fd-4b87-4a25-9bd1-a365292d0dd7",
   "metadata": {},
   "outputs": [],
   "source": [
    "for k, v in sorted({k: f\"{v/total_reads*100:.0f}\" for k, v in ends.items()}.items()):\n",
    "    print(f\"{k}: {v}%\")"
   ]
  },
  {
   "cell_type": "markdown",
   "id": "be42acce-3b4a-466a-ba3f-666370bc8d36",
   "metadata": {},
   "source": [
    "# Duplex barcode mismatches"
   ]
  },
  {
   "cell_type": "code",
   "execution_count": null,
   "id": "fe3190d8-57a9-4518-9464-dabefcd58681",
   "metadata": {},
   "outputs": [],
   "source": [
    "%%time\n",
    "total_reads = 0\n",
    "complete_barcodes = 0\n",
    "name_to_barcode = {}\n",
    "name_to_path = {}\n",
    "for table in tqdm(gaf.iter_gaf(gaf_filename)):\n",
    "    name_col = table.column(\"name\")\n",
    "    path_col = table.column(\"path\")\n",
    "    for idx in range(len(table)):\n",
    "        name = name_col[idx].as_py()\n",
    "        path = set([s[1:] for s in path_col[idx].as_py()])\n",
    "        name_to_path[name] = path\n",
    "        total_reads += 1\n",
    "        if (\"BC:BIT0=0\" in path or \"BC:BIT0=1\" in path) and (\n",
    "            \"BC:BIT29=0\" in path or \"BC:BIT29=1\" in path\n",
    "        ):\n",
    "            complete_barcodes += 1\n",
    "            barcode = tuple(f\"BIT{bit}:1\" in path for bit in range(30))\n",
    "            name_to_barcode[name] = barcode"
   ]
  },
  {
   "cell_type": "code",
   "execution_count": null,
   "id": "ce3585fa-2815-448d-8d9e-148b190ed17f",
   "metadata": {},
   "outputs": [],
   "source": [
    "%%time\n",
    "reads = pyfastx.Fastq(str(gaf_filename).replace(\".gaf\", \".fastq\"))"
   ]
  },
  {
   "cell_type": "code",
   "execution_count": null,
   "id": "8a898d83-7b72-4bb4-a7ab-cd471bbb2f75",
   "metadata": {},
   "outputs": [],
   "source": [
    "%%time\n",
    "duplex_ids = set(k for k in reads.keys() if \";\" in k)"
   ]
  },
  {
   "cell_type": "code",
   "execution_count": null,
   "id": "3090adaa-1518-43ba-9a44-1dfd289da1f3",
   "metadata": {},
   "outputs": [],
   "source": [
    "%%time\n",
    "simplex_ids = set(k for k in reads.keys() if \";\" not in k)"
   ]
  },
  {
   "cell_type": "code",
   "execution_count": null,
   "id": "7ba8f13a-0979-4c66-ad05-855e3f22ff27",
   "metadata": {},
   "outputs": [],
   "source": [
    "(\n",
    "    complete_barcodes,\n",
    "    total_reads,\n",
    "    complete_barcodes / total_reads,\n",
    "    len(duplex_ids),\n",
    "    len(duplex_ids) / total_reads,\n",
    ")"
   ]
  },
  {
   "cell_type": "code",
   "execution_count": null,
   "id": "b00b40f5-0499-44c4-a90c-f7f671ecfdf8",
   "metadata": {},
   "outputs": [],
   "source": [
    "duplex_mismatches = []\n",
    "duplex_matches = []\n",
    "duplex_missingone = []\n",
    "duplex_missingboth = []\n",
    "duplex_nobarcode = []\n",
    "for duplex_id in tqdm(duplex_ids):\n",
    "    if duplex_id not in name_to_barcode:\n",
    "        duplex_nobarcode.append(duplex_id)\n",
    "    else:\n",
    "        reads = duplex_id.split(\";\")\n",
    "        num_alignments = sum(read in name_to_barcode for read in reads)\n",
    "        if num_alignments == 0:\n",
    "            duplex_missingboth.append(duplex_id)\n",
    "        elif num_alignments == 1:\n",
    "            duplex_missingone.append(duplex_id)\n",
    "        else:\n",
    "            if name_to_barcode[reads[0]] == name_to_barcode[reads[1]]:\n",
    "                duplex_matches.append(duplex_id)\n",
    "            else:\n",
    "                duplex_mismatches.append(duplex_id)"
   ]
  },
  {
   "cell_type": "code",
   "execution_count": null,
   "id": "8f9bec33-122b-4c54-ac4c-7fc6a2213b17",
   "metadata": {},
   "outputs": [],
   "source": [
    "(\n",
    "    len(duplex_nobarcode),\n",
    "    len(duplex_mismatches),\n",
    "    len(duplex_matches),\n",
    "    len(duplex_missingone),\n",
    "    len(duplex_missingboth),\n",
    ")"
   ]
  },
  {
   "cell_type": "code",
   "execution_count": null,
   "id": "81500cde-0497-4556-a500-1c1c073afde6",
   "metadata": {},
   "outputs": [],
   "source": [
    "def partial_barcode_mismatches(a, b):\n",
    "    return set(k for k, v in Counter(s.split(\"=\")[0] for s in (a ^ b)).items() if v > 1)"
   ]
  },
  {
   "cell_type": "code",
   "execution_count": null,
   "id": "83c5c77d-954e-4db2-99dc-672e3f22e147",
   "metadata": {},
   "outputs": [],
   "source": [
    "name_to_path[duplex_nobarcode[8]]"
   ]
  },
  {
   "cell_type": "code",
   "execution_count": null,
   "id": "4a0bf7a1-6c50-42ae-9b9f-cd766452e44b",
   "metadata": {},
   "outputs": [],
   "source": [
    "duplex_read = duplex_nobarcode[8]\n",
    "parents = duplex_read.split(\";\")\n",
    "print(\"1>\", name_to_path[parents[0]])\n",
    "print(\"2>\", name_to_path[parents[1]])\n",
    "m = partial_barcode_mismatches(name_to_path[parents[0]], name_to_path[parents[1]])\n",
    "print()\n",
    "print(m)"
   ]
  },
  {
   "cell_type": "code",
   "execution_count": null,
   "id": "2eeba6db-aa44-4c17-bc5f-3a9ed1c01ed3",
   "metadata": {},
   "outputs": [],
   "source": [
    "for duplex_read in duplex_nobarcode[:1]:\n",
    "    parents = duplex_read.split(\";\")\n",
    "    print(\"1>\", name_to_path[parents[0]])\n",
    "    print(\"2>\", name_to_path[parents[1]])\n",
    "    m = partial_barcode_mismatches(name_to_path[parents[0]], name_to_path[parents[1]])\n",
    "    print(m)"
   ]
  },
  {
   "cell_type": "code",
   "execution_count": null,
   "id": "6e921f86-8ffb-4b53-b9d0-f759a7b01ef0",
   "metadata": {},
   "outputs": [],
   "source": [
    "a = name_to_path[parents[0]]\n",
    "b = name_to_path[parents[1]]"
   ]
  },
  {
   "cell_type": "code",
   "execution_count": null,
   "id": "f820362e-7b6e-4502-8e94-332366268b41",
   "metadata": {},
   "outputs": [],
   "source": [
    "b"
   ]
  },
  {
   "cell_type": "code",
   "execution_count": null,
   "id": "ce4ba1c5-ca1e-47d8-9582-2fd65ad99da8",
   "metadata": {},
   "outputs": [],
   "source": [
    "a & b"
   ]
  },
  {
   "cell_type": "code",
   "execution_count": null,
   "id": "2439fffd-3141-4d3b-ab31-e56a6c7a8efe",
   "metadata": {},
   "outputs": [],
   "source": [
    "a ^ b"
   ]
  },
  {
   "cell_type": "code",
   "execution_count": null,
   "id": "bbd234a1-4828-46b1-915b-ce6cd456a161",
   "metadata": {},
   "outputs": [],
   "source": [
    "duplex_nobarcode_distances = []\n",
    "no_parent_alignment = []\n",
    "for duplex_read in duplex_nobarcode:\n",
    "    parents = duplex_read.split(\";\")\n",
    "    if parents[0] not in name_to_path or parents[1] not in name_to_path:\n",
    "        no_parent_alignment.append(duplex_read)\n",
    "    else:\n",
    "        m = partial_barcode_mismatches(\n",
    "            name_to_path[parents[0]], name_to_path[parents[1]]\n",
    "        )\n",
    "        duplex_nobarcode_distances.append(len(m))"
   ]
  },
  {
   "cell_type": "code",
   "execution_count": null,
   "id": "68913fe8-ce6f-4f65-87fd-cd14d3b4c4dd",
   "metadata": {},
   "outputs": [],
   "source": [
    "(len(no_parent_alignment), len(duplex_nobarcode_distances))"
   ]
  },
  {
   "cell_type": "code",
   "execution_count": null,
   "id": "b40ca6bb-5b91-4d4b-962d-12a1344a3603",
   "metadata": {},
   "outputs": [],
   "source": [
    "sorted(Counter(duplex_nobarcode_distances).items())"
   ]
  },
  {
   "cell_type": "code",
   "execution_count": null,
   "id": "d6d1cfe1-891a-469e-ac44-322aca841356",
   "metadata": {},
   "outputs": [],
   "source": [
    "!micromamba install -y tabulate"
   ]
  },
  {
   "cell_type": "code",
   "execution_count": null,
   "id": "216df595-d174-4ef9-a1c1-21009d398b63",
   "metadata": {},
   "outputs": [],
   "source": [
    "print(pd.DataFrame([{\"foo\": 100, \"bar\": 200}]).to_markdown())"
   ]
  }
 ],
 "metadata": {
  "kernelspec": {
   "display_name": "Python 3 (ipykernel)",
   "language": "python",
   "name": "python3"
  },
  "language_info": {
   "codemirror_mode": {
    "name": "ipython",
    "version": 3
   },
   "file_extension": ".py",
   "mimetype": "text/x-python",
   "name": "python",
   "nbconvert_exporter": "python",
   "pygments_lexer": "ipython3",
   "version": "3.11.5"
  }
 },
 "nbformat": 4,
 "nbformat_minor": 5
}
