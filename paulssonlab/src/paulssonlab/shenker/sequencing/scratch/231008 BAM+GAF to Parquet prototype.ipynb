{
 "cells": [
  {
   "cell_type": "code",
   "execution_count": null,
   "id": "41c57f7d-eb34-40e9-b810-10d4c44d68b2",
   "metadata": {},
   "outputs": [],
   "source": [
    "import itertools as it\n",
    "import operator\n",
    "import re\n",
    "from collections import Counter\n",
    "from pathlib import Path\n",
    "\n",
    "import holoviews as hv\n",
    "import matplotlib.pyplot as plt\n",
    "import numpy as np\n",
    "import pandas as pd\n",
    "import pyarrow as pa\n",
    "import pyarrow.compute as pc\n",
    "import pysam\n",
    "from pyarrow import csv\n",
    "from tqdm.auto import tqdm, trange"
   ]
  },
  {
   "cell_type": "code",
   "execution_count": null,
   "id": "f4ec68fd-4dab-43a1-a74d-fc2137f04acb",
   "metadata": {},
   "outputs": [],
   "source": [
    "%load_ext autoreload\n",
    "%autoreload 2"
   ]
  },
  {
   "cell_type": "code",
   "execution_count": null,
   "id": "6d3d323b-2fd5-44cd-b9b0-ed41db593de3",
   "metadata": {},
   "outputs": [],
   "source": [
    "import paulssonlab.sequencing.io as sio"
   ]
  },
  {
   "cell_type": "code",
   "execution_count": null,
   "id": "f117a156-f6f6-423f-81be-bb5eed890a23",
   "metadata": {},
   "outputs": [],
   "source": [
    "hv.extension(\"bokeh\")"
   ]
  },
  {
   "cell_type": "code",
   "execution_count": null,
   "id": "ab1a37e0-1304-4373-a431-bdbd42cff000",
   "metadata": {},
   "outputs": [],
   "source": [
    "import pyinstrument\n",
    "\n",
    "%load_ext pyinstrument\n",
    "import line_profiler\n",
    "\n",
    "%load_ext line_profiler"
   ]
  },
  {
   "cell_type": "markdown",
   "id": "0d050f91-79f4-491b-a4c4-a208210eff14",
   "metadata": {},
   "source": [
    "# Config"
   ]
  },
  {
   "cell_type": "code",
   "execution_count": null,
   "id": "6589476b-6033-46ed-9b8f-c4f1d115469f",
   "metadata": {},
   "outputs": [],
   "source": [
    "data_dir = Path(\n",
    "    \"/home/jqs1/scratch/jqs1/sequencing/230930_alignment_test/230707_repressilators/\"\n",
    ")"
   ]
  },
  {
   "cell_type": "markdown",
   "id": "dd321849-0af8-4423-b51c-0583be13377a",
   "metadata": {},
   "source": [
    "# GAF to Parquet"
   ]
  },
  {
   "cell_type": "code",
   "execution_count": null,
   "id": "6b93f7d0-7f21-4b49-aa2b-3e212d769154",
   "metadata": {},
   "outputs": [],
   "source": [
    "gaf_filenames = list(data_dir.glob(\"*_barcodeonly.gaf\"))"
   ]
  },
  {
   "cell_type": "code",
   "execution_count": null,
   "id": "4811ba89-ff0b-407d-b753-bddd8bc65b05",
   "metadata": {},
   "outputs": [],
   "source": [
    "gaf_filenames"
   ]
  },
  {
   "cell_type": "code",
   "execution_count": null,
   "id": "b404d5f9-f0bc-4509-a18e-8ec9540b81c3",
   "metadata": {},
   "outputs": [],
   "source": [
    "gaf_filename = gaf_filenames[0]"
   ]
  },
  {
   "cell_type": "code",
   "execution_count": null,
   "id": "9e66558d-f404-420a-967e-33f493bac5fc",
   "metadata": {},
   "outputs": [],
   "source": [
    "gaf_filename.lstat().st_size / 1e6"
   ]
  },
  {
   "cell_type": "code",
   "execution_count": null,
   "id": "b6cd10d1-05c9-4a94-8d41-986be09c7e9e",
   "metadata": {},
   "outputs": [],
   "source": [
    "%%time\n",
    "gaf_table = pa.Table.from_batches(tqdm(sio.iter_gaf(gaf_filename)))"
   ]
  },
  {
   "cell_type": "code",
   "execution_count": null,
   "id": "4c79c0c6-53fa-4046-bf40-40507999b4ec",
   "metadata": {},
   "outputs": [],
   "source": [
    "gaf_table.nbytes / 1e6"
   ]
  },
  {
   "cell_type": "code",
   "execution_count": null,
   "id": "e3d75016-108d-479d-8f98-62065eaa4d9c",
   "metadata": {},
   "outputs": [],
   "source": [
    "{n: gaf_table.column(n).nbytes // 1e6 for n in gaf_table.column_names}"
   ]
  },
  {
   "cell_type": "markdown",
   "id": "686232bb-6957-416b-a9d4-e2f7354664db",
   "metadata": {},
   "source": [
    "# GAF/BAM to Parquet"
   ]
  },
  {
   "cell_type": "code",
   "execution_count": null,
   "id": "b4846f1b-c1aa-4cb6-bd4e-e3ef2cc25668",
   "metadata": {},
   "outputs": [],
   "source": [
    "bam_filename = str(gaf_filename).replace(\"_barcodeonly.gaf\", \".bam\")"
   ]
  },
  {
   "cell_type": "code",
   "execution_count": null,
   "id": "85725db1-4a35-4e34-84a1-9ee1e7d68b3f",
   "metadata": {},
   "outputs": [],
   "source": [
    "bam = pysam.AlignmentFile(bam_filename, check_sq=False)"
   ]
  },
  {
   "cell_type": "code",
   "execution_count": null,
   "id": "f062305a-5714-4302-95f2-6c29edf2c926",
   "metadata": {},
   "outputs": [],
   "source": [
    "read = next(bam.fetch(until_eof=True))\n",
    "read.query_name"
   ]
  },
  {
   "cell_type": "code",
   "execution_count": null,
   "id": "153f97e0-32f4-4da2-bda4-9982c8a20a4e",
   "metadata": {},
   "outputs": [],
   "source": [
    "bam.reset()"
   ]
  },
  {
   "cell_type": "code",
   "execution_count": null,
   "id": "1be01458-a360-4c7d-9f0b-41878b4b51b6",
   "metadata": {},
   "outputs": [],
   "source": [
    "bam_index = pysam.IndexedReads(bam)"
   ]
  },
  {
   "cell_type": "code",
   "execution_count": null,
   "id": "5cd58250-b389-45bc-a0fe-7f3c8568ba3f",
   "metadata": {},
   "outputs": [],
   "source": [
    "%%time\n",
    "bam.reset()\n",
    "bam_index.build()"
   ]
  },
  {
   "cell_type": "code",
   "execution_count": null,
   "id": "16e98ae1-9be4-425b-9664-f822a748f1c8",
   "metadata": {},
   "outputs": [],
   "source": [
    "batch = next(sio.iter_bam_and_gaf(bam_filename, gaf_filename))"
   ]
  },
  {
   "cell_type": "code",
   "execution_count": null,
   "id": "99edf983-83d5-42a2-b2c1-e9974f7551c1",
   "metadata": {},
   "outputs": [],
   "source": [
    "{k: getattr(read, k) for k in dir(read) if not k.startswith(\"_\")}"
   ]
  },
  {
   "cell_type": "code",
   "execution_count": null,
   "id": "6159625b-4c53-4dac-bf47-0c31fddb81e2",
   "metadata": {},
   "outputs": [],
   "source": [
    "read.query_sequence"
   ]
  },
  {
   "cell_type": "code",
   "execution_count": null,
   "id": "d925eee0-61c7-488e-8ac2-dd2c84047981",
   "metadata": {},
   "outputs": [],
   "source": [
    "import array\n",
    "import random"
   ]
  },
  {
   "cell_type": "code",
   "execution_count": null,
   "id": "1eae0d0a-1cf3-429b-bd2f-2ce516ea6e9b",
   "metadata": {},
   "outputs": [],
   "source": [
    "x = array.array(\"B\", [random.randint(0, 255) for i in range(50000)])"
   ]
  },
  {
   "cell_type": "code",
   "execution_count": null,
   "id": "30cc7622-e9f0-487f-8a4f-c37c736fce80",
   "metadata": {},
   "outputs": [],
   "source": [
    "%timeit pa.array(x, pa.uint8())"
   ]
  },
  {
   "cell_type": "code",
   "execution_count": null,
   "id": "df12eaf6-7565-42e6-abea-7951f36c0519",
   "metadata": {},
   "outputs": [],
   "source": [
    "%timeit pa.array(np.asarray(x), pa.uint8())"
   ]
  },
  {
   "cell_type": "code",
   "execution_count": null,
   "id": "88d1f5d9-63b2-4998-b8cc-2fe968d09e04",
   "metadata": {},
   "outputs": [],
   "source": [
    "read.query_qualities"
   ]
  },
  {
   "cell_type": "code",
   "execution_count": null,
   "id": "76a8b47b-a3fd-4ddd-9a91-f53e631a121f",
   "metadata": {},
   "outputs": [],
   "source": [
    "pa.array([read.query_qualities[:3], read.query_qualities[:5]], pa.list_(pa.uint8()))"
   ]
  },
  {
   "cell_type": "markdown",
   "id": "8008c955-a739-434b-b140-a4eb1a07dea9",
   "metadata": {},
   "source": [
    "## Benchmarking"
   ]
  },
  {
   "cell_type": "code",
   "execution_count": null,
   "id": "e0842609-4b35-40fc-bbd0-7fc38fc66360",
   "metadata": {},
   "outputs": [],
   "source": [
    "%pyinstrument list(it.islice(sio.iter_bam_and_gaf(bam, gaf_filename, bam_index=bam_index), 10))[:0]"
   ]
  },
  {
   "cell_type": "code",
   "execution_count": null,
   "id": "5afaca72-2feb-4241-bd71-84901846c33b",
   "metadata": {},
   "outputs": [],
   "source": [
    "%lprun -f sio.iter_bam_and_gaf list(it.islice(sio.iter_bam_and_gaf(bam, gaf_filename, bam_index=bam_index), 10))[:0]"
   ]
  },
  {
   "cell_type": "code",
   "execution_count": null,
   "id": "c034d273-8a35-4c66-9714-d0648a98f543",
   "metadata": {},
   "outputs": [],
   "source": [
    "x = read.query_qualities"
   ]
  },
  {
   "cell_type": "code",
   "execution_count": null,
   "id": "5bc36e87-afd6-40f8-b452-c5bed98cf708",
   "metadata": {},
   "outputs": [],
   "source": [
    "np.array(x)"
   ]
  },
  {
   "cell_type": "code",
   "execution_count": null,
   "id": "95e8c641-138a-4ea4-9b0d-62dd95a0aa85",
   "metadata": {},
   "outputs": [],
   "source": [
    "%lprun -f sio.iter_bam_and_gaf list(sio.iter_bam_and_gaf(bam_filename, gaf_filename))[:0]"
   ]
  },
  {
   "cell_type": "code",
   "execution_count": null,
   "id": "fb824cb9-4fe1-44da-a1f5-1f1cf20e221b",
   "metadata": {},
   "outputs": [],
   "source": [
    "%pyinstrument list(sio.iter_bam_and_gaf(bam_filename, gaf_filename))[:0]"
   ]
  },
  {
   "cell_type": "code",
   "execution_count": null,
   "id": "84cc2e2d-e555-4c4a-a4eb-89a2c3acf37c",
   "metadata": {},
   "outputs": [],
   "source": [
    "%%time\n",
    "table = pa.Table.from_batches(tqdm(sio.iter_bam_and_gaf(bam_filename, gaf_filename)))"
   ]
  },
  {
   "cell_type": "code",
   "execution_count": null,
   "id": "791b911c-d71a-4ea4-a871-02d8f83284ee",
   "metadata": {},
   "outputs": [],
   "source": [
    "%%time\n",
    "table2 = pa.Table.from_batches(\n",
    "    tqdm(sio.iter_bam_and_gaf(bam, gaf_filename, bam_index=bam_index))\n",
    ")"
   ]
  },
  {
   "cell_type": "code",
   "execution_count": null,
   "id": "0b6f59fa-8960-4e8a-b892-1bfda9a8f557",
   "metadata": {},
   "outputs": [],
   "source": [
    "x = list(\n",
    "    tqdm(it.islice(sio.iter_bam_and_gaf(bam, gaf_filename, bam_index=bam_index), 2))\n",
    ")"
   ]
  },
  {
   "cell_type": "code",
   "execution_count": null,
   "id": "1c211700-7fa0-4bcd-a167-a0b76d9ba0da",
   "metadata": {},
   "outputs": [],
   "source": [
    "x[0].column(\"name\")"
   ]
  },
  {
   "cell_type": "code",
   "execution_count": null,
   "id": "b6f2e931-202b-4771-9eda-5dac2e8a35c1",
   "metadata": {},
   "outputs": [],
   "source": [
    "len(x[0].column(\"name\"))"
   ]
  },
  {
   "cell_type": "code",
   "execution_count": null,
   "id": "f2f89efa-d50a-4a1a-9fca-fb82a5d8ecf8",
   "metadata": {},
   "outputs": [],
   "source": [
    "len(x[1].column(\"name\"))"
   ]
  },
  {
   "cell_type": "code",
   "execution_count": null,
   "id": "655431e0-8249-44ab-b0e9-cc6ee9b1f933",
   "metadata": {},
   "outputs": [],
   "source": [
    "table.nbytes / 1e6"
   ]
  },
  {
   "cell_type": "code",
   "execution_count": null,
   "id": "02c219fb-2e5e-4ad9-b194-7e02ccf20701",
   "metadata": {},
   "outputs": [],
   "source": [
    "bam_filename"
   ]
  },
  {
   "cell_type": "code",
   "execution_count": null,
   "id": "71a1580f-0b55-456d-bedc-c009afeecf41",
   "metadata": {},
   "outputs": [],
   "source": [
    "len(table2)"
   ]
  },
  {
   "cell_type": "code",
   "execution_count": null,
   "id": "e52a9194-5f71-4f4f-8ad9-2a8248798230",
   "metadata": {},
   "outputs": [],
   "source": [
    "z = table2.column(\"name\").value_counts()"
   ]
  },
  {
   "cell_type": "code",
   "execution_count": null,
   "id": "93d37db6-382f-496c-b231-906e1b8c1e1b",
   "metadata": {},
   "outputs": [],
   "source": [
    "zz = z.sort(\"descending\", \"counts\")"
   ]
  },
  {
   "cell_type": "code",
   "execution_count": null,
   "id": "e6eca6cc-4714-43a0-bfbc-b16489e9d6b1",
   "metadata": {},
   "outputs": [],
   "source": [
    "zzz = pc.filter(zz.field(\"values\"), pc.not_equal(zz.field(\"counts\"), 1))"
   ]
  },
  {
   "cell_type": "code",
   "execution_count": null,
   "id": "ca0b1134-23b9-4691-a520-53d4fcd49b06",
   "metadata": {},
   "outputs": [],
   "source": [
    "zzz"
   ]
  },
  {
   "cell_type": "code",
   "execution_count": null,
   "id": "2f740992-34ae-476f-8a16-8cc61bba0ffc",
   "metadata": {},
   "outputs": [],
   "source": [
    "pc.index_in(zzz, table2.column(\"name\"))"
   ]
  },
  {
   "cell_type": "code",
   "execution_count": null,
   "id": "0f337bdd-6f84-4e2a-ba33-2399237056c7",
   "metadata": {},
   "outputs": [],
   "source": [
    "zz.field(\"values\")[zz.field(\"counts\") != 1]"
   ]
  },
  {
   "cell_type": "code",
   "execution_count": null,
   "id": "2add1e0c-e0c9-44b2-963e-918599485818",
   "metadata": {},
   "outputs": [],
   "source": [
    "len(table2) - len(pc.unique(table2.column(\"name\")))"
   ]
  },
  {
   "cell_type": "code",
   "execution_count": null,
   "id": "38e59c82-ca3d-4716-acba-f9e871d64130",
   "metadata": {},
   "outputs": [],
   "source": [
    "%%time\n",
    "len(pc.unique(table2.column(\"name\")))"
   ]
  },
  {
   "cell_type": "code",
   "execution_count": null,
   "id": "dedb41bd-5963-4cd4-b6a6-51d19d55ccc1",
   "metadata": {},
   "outputs": [],
   "source": [
    "%%time\n",
    "len(set(table.column(\"name\")))"
   ]
  },
  {
   "cell_type": "code",
   "execution_count": null,
   "id": "5712063b-b293-4a3d-8798-85a1a57c6b7e",
   "metadata": {},
   "outputs": [],
   "source": [
    "%%time\n",
    "bam.reset()\n",
    "reads = 0\n",
    "for read in bam.fetch(until_eof=True):\n",
    "    reads += 1"
   ]
  },
  {
   "cell_type": "code",
   "execution_count": null,
   "id": "d9f921f2-29b2-4c56-99ba-21f9c1df0c47",
   "metadata": {},
   "outputs": [],
   "source": [
    "%%time\n",
    "bam.reset()\n",
    "reads = set(read.query_name for read in tqdm(bam.fetch(until_eof=True)))"
   ]
  },
  {
   "cell_type": "code",
   "execution_count": null,
   "id": "2d19e606-3c37-492e-a3d6-e8a3e7933d34",
   "metadata": {},
   "outputs": [],
   "source": [
    "%%time\n",
    "bam.reset()\n",
    "reads = 0\n",
    "names = []\n",
    "for read in it.islice(bam.fetch(until_eof=True), 10):\n",
    "    names.append(read.query_name)\n",
    "    reads += 1\n",
    "for read in it.islice(bam.fetch(until_eof=True), 10):\n",
    "    names.append(read.query_name)\n",
    "    reads += 1"
   ]
  },
  {
   "cell_type": "code",
   "execution_count": null,
   "id": "b7a71d2f-f4fc-4f86-a0d4-27e5bcc7deea",
   "metadata": {},
   "outputs": [],
   "source": [
    "names"
   ]
  },
  {
   "cell_type": "code",
   "execution_count": null,
   "id": "f5b6dc98-eb99-4ce9-a245-be9d81586eb4",
   "metadata": {},
   "outputs": [],
   "source": [
    "len(reads)"
   ]
  },
  {
   "cell_type": "code",
   "execution_count": null,
   "id": "ad64e047-62f6-4406-aba3-bd6dc18d5c91",
   "metadata": {},
   "outputs": [],
   "source": [
    "len(table)"
   ]
  }
 ],
 "metadata": {
  "kernelspec": {
   "display_name": "Python 3 (ipykernel)",
   "language": "python",
   "name": "python3"
  },
  "language_info": {
   "codemirror_mode": {
    "name": "ipython",
    "version": 3
   },
   "file_extension": ".py",
   "mimetype": "text/x-python",
   "name": "python",
   "nbconvert_exporter": "python",
   "pygments_lexer": "ipython3",
   "version": "3.10.12"
  }
 },
 "nbformat": 4,
 "nbformat_minor": 5
}
