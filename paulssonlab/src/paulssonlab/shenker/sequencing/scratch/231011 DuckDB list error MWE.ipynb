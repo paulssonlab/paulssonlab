{
 "cells": [
  {
   "cell_type": "code",
   "execution_count": null,
   "id": "d809cb94-4804-4a6f-b912-7ddd8e8d8b78",
   "metadata": {},
   "outputs": [],
   "source": [
    "from pathlib import Path\n",
    "\n",
    "import duckdb\n",
    "import numpy as np\n",
    "import polars\n",
    "import pyarrow as pa\n",
    "import pyarrow.compute as pc\n",
    "import pyarrow.dataset as ds\n",
    "from tqdm.auto import tqdm, trange"
   ]
  },
  {
   "cell_type": "code",
   "execution_count": null,
   "id": "a75befbb-20df-4a08-883b-e81ca260cfcf",
   "metadata": {},
   "outputs": [],
   "source": [
    "data_dir = Path(\n",
    "    \"/home/jqs1/scratch/jqs1/sequencing/230930_alignment_test/230707_repressilators/\"\n",
    ")"
   ]
  },
  {
   "cell_type": "code",
   "execution_count": null,
   "id": "00dfada7-d4d9-4563-b0fd-95fef55c51fd",
   "metadata": {},
   "outputs": [],
   "source": [
    "arrow_ds = ds.dataset(list(data_dir.glob(\"*.arrow\")), format=\"arrow\")"
   ]
  },
  {
   "cell_type": "code",
   "execution_count": null,
   "id": "86317888-7942-4cc0-8ecb-8b90edb42342",
   "metadata": {},
   "outputs": [],
   "source": [
    "arrow_ds2 = ds.dataset(list(data_dir.glob(\"*.arrow\"))[:2], format=\"arrow\")"
   ]
  },
  {
   "cell_type": "code",
   "execution_count": null,
   "id": "bad96907-255d-437e-a810-9468b52d86ed",
   "metadata": {},
   "outputs": [],
   "source": [
    "%%time\n",
    "phred_simplex2 = duckdb.sql(\"SELECT read_phred FROM arrow_ds2\").arrow()"
   ]
  },
  {
   "cell_type": "code",
   "execution_count": null,
   "id": "10ab5d29-8aa4-4a60-ae19-cfe4e2550d0e",
   "metadata": {},
   "outputs": [],
   "source": [
    "%%time\n",
    "res2 = arrow_ds2.to_table(columns=[\"read_phred\"])"
   ]
  },
  {
   "cell_type": "code",
   "execution_count": null,
   "id": "72042647-fbe5-4160-8c6a-bfceeb50f343",
   "metadata": {},
   "outputs": [],
   "source": [
    "res2"
   ]
  },
  {
   "cell_type": "code",
   "execution_count": null,
   "id": "1a1c6bca-459c-476e-bc2e-2d19bf7b7be7",
   "metadata": {},
   "outputs": [],
   "source": [
    "%%time\n",
    "duckdb.sql(\"SELECT read_phred FROM res2\").arrow()"
   ]
  },
  {
   "cell_type": "code",
   "execution_count": null,
   "id": "f63f1641-5718-41f8-aa90-a2fdc339268e",
   "metadata": {},
   "outputs": [],
   "source": [
    "phred_simplex2"
   ]
  },
  {
   "cell_type": "code",
   "execution_count": null,
   "id": "1e4817b3-ffdd-449f-be21-81be5f66fe73",
   "metadata": {},
   "outputs": [],
   "source": [
    "%%time\n",
    "ary = pa.array(\n",
    "    [\n",
    "        np.random.randint(0, 255, size=np.random.randint(2000, 4000), dtype=np.uint8)\n",
    "        for i in trange(1_000_000)\n",
    "    ]\n",
    ")"
   ]
  },
  {
   "cell_type": "code",
   "execution_count": null,
   "id": "fd0c040c-07e2-4dae-bee0-50f655b4a6ce",
   "metadata": {},
   "outputs": [],
   "source": [
    "ary.nbytes / 1e9"
   ]
  },
  {
   "cell_type": "code",
   "execution_count": null,
   "id": "c5580152-36c7-4004-aa1f-d1a166e86d31",
   "metadata": {},
   "outputs": [],
   "source": [
    "tbl = pa.Table.from_pydict(dict(col=ary))"
   ]
  },
  {
   "cell_type": "code",
   "execution_count": null,
   "id": "22b6ac88-c528-47a0-9a7c-e147c8cdfbcf",
   "metadata": {},
   "outputs": [],
   "source": [
    "tbl2 = pa.Table.from_pydict(dict(col=ary.cast(pa.large_list(pa.uint8()))))"
   ]
  },
  {
   "cell_type": "code",
   "execution_count": null,
   "id": "4ccd409a-26ca-4fab-a541-fb09e4ab7f2c",
   "metadata": {},
   "outputs": [],
   "source": [
    "%%time\n",
    "res = duckdb.sql(\"SELECT col FROM tbl\").arrow()"
   ]
  },
  {
   "cell_type": "code",
   "execution_count": null,
   "id": "6bf59e1f-99d4-4f21-a3bf-903b7fbf27ac",
   "metadata": {},
   "outputs": [],
   "source": [
    "%%time\n",
    "res2 = duckdb.sql(\"SELECT col FROM tbl2\").arrow()"
   ]
  },
  {
   "cell_type": "code",
   "execution_count": null,
   "id": "d31edb7d-588c-4fae-991b-08eee18ec2a4",
   "metadata": {},
   "outputs": [],
   "source": [
    "%%time\n",
    "res3 = duckdb.sql(\"SELECT col FROM tbl2\").df()"
   ]
  },
  {
   "cell_type": "code",
   "execution_count": null,
   "id": "250549e4-2bc3-4ebe-82a1-76cebfe9da53",
   "metadata": {},
   "outputs": [],
   "source": [
    "res3"
   ]
  },
  {
   "cell_type": "code",
   "execution_count": null,
   "id": "4971a4cd-c89e-4254-82fc-db7cdcab2b57",
   "metadata": {},
   "outputs": [],
   "source": [
    "res"
   ]
  },
  {
   "cell_type": "code",
   "execution_count": null,
   "id": "42ed8958-1a0e-49ac-89af-d0a5b3309ee1",
   "metadata": {},
   "outputs": [],
   "source": [
    "res2"
   ]
  },
  {
   "cell_type": "code",
   "execution_count": null,
   "id": "883321a7-24a1-46af-b722-1d48dd8b7999",
   "metadata": {},
   "outputs": [],
   "source": [
    "4000 * 700_000 / 1e9"
   ]
  },
  {
   "cell_type": "code",
   "execution_count": null,
   "id": "161cef95-961b-47c0-96a9-b40aad0ccec9",
   "metadata": {},
   "outputs": [],
   "source": [
    "2**31 / 1e9"
   ]
  }
 ],
 "metadata": {
  "kernelspec": {
   "display_name": "Python 3 (ipykernel)",
   "language": "python",
   "name": "python3"
  },
  "language_info": {
   "codemirror_mode": {
    "name": "ipython",
    "version": 3
   },
   "file_extension": ".py",
   "mimetype": "text/x-python",
   "name": "python",
   "nbconvert_exporter": "python",
   "pygments_lexer": "ipython3",
   "version": "3.10.12"
  }
 },
 "nbformat": 4,
 "nbformat_minor": 5
}
