{
 "cells": [
  {
   "cell_type": "code",
   "execution_count": null,
   "id": "41c57f7d-eb34-40e9-b810-10d4c44d68b2",
   "metadata": {},
   "outputs": [],
   "source": [
    "import itertools as it\n",
    "import operator\n",
    "import re\n",
    "from collections import Counter\n",
    "from pathlib import Path\n",
    "\n",
    "import duckdb\n",
    "import holoviews as hv\n",
    "import ibis\n",
    "import matplotlib.pyplot as plt\n",
    "import numpy as np\n",
    "import pandas as pd\n",
    "import polars as pl\n",
    "import pyabpoa\n",
    "import pyarrow as pa\n",
    "import pyarrow.compute as pc\n",
    "import pyarrow.dataset as ds\n",
    "import pyfastx\n",
    "import pysam\n",
    "import spoa\n",
    "from pyarrow import csv\n",
    "from tqdm.auto import tqdm, trange"
   ]
  },
  {
   "cell_type": "code",
   "execution_count": null,
   "id": "f4ec68fd-4dab-43a1-a74d-fc2137f04acb",
   "metadata": {},
   "outputs": [],
   "source": [
    "%load_ext autoreload\n",
    "%autoreload 2"
   ]
  },
  {
   "cell_type": "code",
   "execution_count": null,
   "id": "6d3d323b-2fd5-44cd-b9b0-ed41db593de3",
   "metadata": {},
   "outputs": [],
   "source": [
    "import paulssonlab.sequencing.io as sio"
   ]
  },
  {
   "cell_type": "code",
   "execution_count": null,
   "id": "f117a156-f6f6-423f-81be-bb5eed890a23",
   "metadata": {},
   "outputs": [],
   "source": [
    "hv.extension(\"bokeh\")"
   ]
  },
  {
   "cell_type": "code",
   "execution_count": null,
   "id": "ab1a37e0-1304-4373-a431-bdbd42cff000",
   "metadata": {},
   "outputs": [],
   "source": [
    "%load_ext pyinstrument\n",
    "import line_profiler\n",
    "import pyinstrument\n",
    "\n",
    "%load_ext line_profiler"
   ]
  },
  {
   "cell_type": "markdown",
   "id": "0d050f91-79f4-491b-a4c4-a208210eff14",
   "metadata": {},
   "source": [
    "# Config"
   ]
  },
  {
   "cell_type": "code",
   "execution_count": null,
   "id": "6589476b-6033-46ed-9b8f-c4f1d115469f",
   "metadata": {},
   "outputs": [],
   "source": [
    "data_dir = Path(\n",
    "    \"/home/jqs1/scratch/jqs1/sequencing/230930_alignment_test/230707_repressilators/\"\n",
    ")"
   ]
  },
  {
   "cell_type": "code",
   "execution_count": null,
   "id": "c5d6c6f1-bd0c-462e-881d-ea12374fd54a",
   "metadata": {},
   "outputs": [],
   "source": [
    "arrow_ds = ds.dataset(list(data_dir.glob(\"*.arrow\")), format=\"arrow\")\n",
    "arrow_ds2 = ds.dataset(list(data_dir.glob(\"*.arrow\"))[:1], format=\"arrow\")\n",
    "parquet_ds = ds.dataset(list(data_dir.glob(\"*.parquet\")), format=\"parquet\")"
   ]
  },
  {
   "cell_type": "markdown",
   "id": "48f6ed4f-19b4-4692-9d1d-71652382dc3b",
   "metadata": {},
   "source": [
    "# Group by path"
   ]
  },
  {
   "cell_type": "code",
   "execution_count": null,
   "id": "e73f64cb-12b2-4b51-aa49-00e952d4ee28",
   "metadata": {},
   "outputs": [],
   "source": [
    "%%time\n",
    "res = duckdb.execute(\"SELECT path, list(name) FROM arrow_ds GROUP BY path\")"
   ]
  },
  {
   "cell_type": "code",
   "execution_count": null,
   "id": "9df11518-1447-4842-aefe-8b30563e0795",
   "metadata": {},
   "outputs": [],
   "source": [
    "2**32 / 1e6"
   ]
  },
  {
   "cell_type": "code",
   "execution_count": null,
   "id": "17d67a15-9a8e-40c4-ad56-9d3ae6e6299c",
   "metadata": {},
   "outputs": [],
   "source": [
    "x = res.fetch_record_batch(10)"
   ]
  },
  {
   "cell_type": "code",
   "execution_count": null,
   "id": "3b085191-4fe0-42d6-8115-09c7a29b8723",
   "metadata": {},
   "outputs": [],
   "source": [
    "x.read_next_batch()"
   ]
  },
  {
   "cell_type": "code",
   "execution_count": null,
   "id": "2d1bc32b-a181-4cab-8762-ba026a572d35",
   "metadata": {},
   "outputs": [],
   "source": [
    "df = pl.scan_pyarrow_dataset(arrow_ds2)"
   ]
  },
  {
   "cell_type": "code",
   "execution_count": null,
   "id": "ece71030-fbd3-450e-a11b-687c79a99e12",
   "metadata": {},
   "outputs": [],
   "source": [
    "df.group_by(\"path\").agg(pl.col(\"name\"), pl.count()).filter(\n",
    "    pl.col(\"count\") > 5\n",
    ").collect()"
   ]
  },
  {
   "cell_type": "markdown",
   "id": "686232bb-6957-416b-a9d4-e2f7354664db",
   "metadata": {},
   "source": [
    "# Quality"
   ]
  },
  {
   "cell_type": "code",
   "execution_count": null,
   "id": "c4f272ac-755e-4ee9-a820-a9869a444afa",
   "metadata": {},
   "outputs": [],
   "source": [
    "%%time\n",
    "qs_duplex = duckdb.sql(\"SELECT qs FROM arrow_ds WHERE contains(name, ';')\").arrow()\n",
    "qs_simplex = duckdb.sql(\"SELECT qs FROM arrow_ds WHERE NOT contains(name, ';')\").arrow()"
   ]
  },
  {
   "cell_type": "code",
   "execution_count": null,
   "id": "1bdf89ac-9910-420e-8532-ccfc3544fd4c",
   "metadata": {},
   "outputs": [],
   "source": [
    "plt.hist(qs_duplex, bins=100, density=True)\n",
    "plt.hist(qs_simplex, bins=100, density=True);"
   ]
  },
  {
   "cell_type": "markdown",
   "id": "533f0153-7f48-4331-8bc1-f7d5ea9530b8",
   "metadata": {},
   "source": [
    "# Quality of true vs. false pairs"
   ]
  },
  {
   "cell_type": "code",
   "execution_count": null,
   "id": "2525dfbc-651c-4d29-ac19-b059e709bb52",
   "metadata": {},
   "outputs": [],
   "source": [
    "reads = pa.ipc.open_file(\n",
    "    \"/home/jqs1/scratch/jqs1/sequencing/230930_alignment_test/230707_repressilators/channel-1_merged.arrow\"\n",
    ").read_all()"
   ]
  },
  {
   "cell_type": "code",
   "execution_count": null,
   "id": "a424ea0b-48ec-47ed-a267-bdf3162f3572",
   "metadata": {},
   "outputs": [],
   "source": [
    "name_col = reads.column(\"name\")\n",
    "path_col = reads.column(\"path\")\n",
    "qs_col = reads.column(\"qs\")"
   ]
  },
  {
   "cell_type": "code",
   "execution_count": null,
   "id": "4640a57d-e420-4433-8541-e7a6b42c97db",
   "metadata": {},
   "outputs": [],
   "source": [
    "name_to_barcode = {}\n",
    "name_to_path = {}\n",
    "name_to_qs = {}\n",
    "for idx in trange(len(reads)):\n",
    "    name = name_col[idx].as_py()\n",
    "    path = path_col[idx].as_py()\n",
    "    if path is None:\n",
    "        continue  # skip unaligned reads\n",
    "    path = set([s[1:] for s in path])\n",
    "    name_to_path[name] = path\n",
    "    if (\"BC:BIT0=0\" in path or \"BC:BIT0=1\" in path) and (\n",
    "        \"BC:BIT29=0\" in path or \"BC:BIT29=1\" in path\n",
    "    ):\n",
    "        barcode = tuple(f\"BC:BIT{bit}=1\" in path for bit in range(30))\n",
    "        name_to_barcode[name] = barcode\n",
    "        name_to_qs[name] = qs_col[idx].as_py()\n",
    "duplex_ids = set(name_col.filter(pc.match_substring(name_col, \";\")).to_pylist())\n",
    "num_mapped_reads = 0\n",
    "num_barcodes_match = 0\n",
    "qs_match = []\n",
    "qs_mismatch = []\n",
    "for duplex_id in tqdm(duplex_ids):\n",
    "    parent_ids = duplex_id.split(\";\")\n",
    "    if (\n",
    "        duplex_id in name_to_barcode\n",
    "        and parent_ids[0] in name_to_barcode\n",
    "        and parent_ids[1] in name_to_barcode\n",
    "    ):\n",
    "        num_mapped_reads += 1\n",
    "        if (\n",
    "            name_to_barcode[duplex_id]\n",
    "            == name_to_barcode[parent_ids[0]]\n",
    "            == name_to_barcode[parent_ids[1]]\n",
    "        ):\n",
    "            qs_match.append(name_to_qs[duplex_id])\n",
    "            num_barcodes_match += 1\n",
    "        else:\n",
    "            qs_mismatch.append(name_to_qs[duplex_id])\n",
    "# experiment_name = gaf_filename.parts[-2][: gaf_filename.parts[-2].index(\"_\") + 2]\n",
    "# num_total_reads = len(reads)\n",
    "# num_duplex_reads = len(duplex_ids)\n",
    "# rows.append(\n",
    "#     {\n",
    "#         \"Experiment\": experiment_name,\n",
    "#         \"Total Reads\": num_total_reads,\n",
    "#         \"Duplex Reads\": num_duplex_reads,\n",
    "#         \"Mapped Reads\": num_mapped_reads,\n",
    "#         \"Barcodes Match\": num_barcodes_match,\n",
    "#         \"Duplex Rate\": num_duplex_reads / num_total_reads,\n",
    "#         \"Pair Mismatch Rate\": 1 - num_barcodes_match / num_mapped_reads,\n",
    "#     }\n",
    "# )"
   ]
  },
  {
   "cell_type": "code",
   "execution_count": null,
   "id": "3e126c5f-41d5-4625-abac-51865eef17bb",
   "metadata": {},
   "outputs": [],
   "source": [
    "plt.hist(qs_match, bins=100)\n",
    "plt.hist(qs_mismatch, bins=100);"
   ]
  },
  {
   "cell_type": "markdown",
   "id": "4a5ae018-4365-4240-bbb9-14312b4bdd94",
   "metadata": {},
   "source": [
    "# Length distributions"
   ]
  },
  {
   "cell_type": "code",
   "execution_count": null,
   "id": "03d82e56-ba26-4c90-ba92-80a5c6ebf864",
   "metadata": {},
   "outputs": [],
   "source": [
    "plt.hist(\n",
    "    pc.utf8_length(reads.column(\"read_seq\"))\n",
    "    .filter(pc.invert(pc.match_substring(name_col, \";\")))\n",
    "    .to_numpy(),\n",
    "    bins=100,\n",
    "    log=True,\n",
    ")\n",
    "plt.hist(\n",
    "    pc.utf8_length(reads.column(\"read_seq\"))\n",
    "    .filter(pc.match_substring(name_col, \";\"))\n",
    "    .to_numpy(),\n",
    "    bins=100,\n",
    "    log=True,\n",
    ");"
   ]
  },
  {
   "cell_type": "code",
   "execution_count": null,
   "id": "6daef1a1-c3a6-4ccf-9cc5-cf19da72eee7",
   "metadata": {},
   "outputs": [],
   "source": [
    "plt.hist(\n",
    "    pc.utf8_length(reads.column(\"read_seq\"))\n",
    "    .filter(pc.invert(pc.match_substring(name_col, \";\")))\n",
    "    .to_numpy(),\n",
    "    bins=100,\n",
    "    log=False,\n",
    "    cumulative=True,\n",
    "    density=True,\n",
    ")\n",
    "plt.hist(\n",
    "    pc.utf8_length(reads.column(\"read_seq\"))\n",
    "    .filter(pc.match_substring(name_col, \";\"))\n",
    "    .to_numpy(),\n",
    "    bins=100,\n",
    "    log=False,\n",
    "    cumulative=True,\n",
    "    density=True,\n",
    ");"
   ]
  },
  {
   "cell_type": "code",
   "execution_count": null,
   "id": "3e3dca91-e32a-48ef-89c4-9e248b6b6c95",
   "metadata": {},
   "outputs": [],
   "source": [
    "bam_filename = \"/home/jqs1/scratch/jqs1/sequencing/230707_repressilators/20230707_2040_MN35044_FAS94231_25542e0d/output/dorado_0.4.0/bam/channel-1_merged.bam\""
   ]
  },
  {
   "cell_type": "code",
   "execution_count": null,
   "id": "5630716a-a401-47f4-a1c8-35c9d0306f15",
   "metadata": {},
   "outputs": [],
   "source": [
    "bam = pysam.AlignmentFile(bam_filename, check_sq=False)"
   ]
  },
  {
   "cell_type": "code",
   "execution_count": null,
   "id": "4daeb5f5-04d1-4be6-b13a-c4ba629076a4",
   "metadata": {},
   "outputs": [],
   "source": [
    "tags = {}"
   ]
  },
  {
   "cell_type": "code",
   "execution_count": null,
   "id": "85f32902-16b1-4811-a3b5-547c0f015ab2",
   "metadata": {},
   "outputs": [],
   "source": [
    "bam.reset()\n",
    "for read in tqdm(bam.fetch(until_eof=True)):\n",
    "    tags.update(dict(read.tags))"
   ]
  },
  {
   "cell_type": "code",
   "execution_count": null,
   "id": "3af90e02-d077-4d65-a522-1c8097e8fdc2",
   "metadata": {},
   "outputs": [],
   "source": [
    "tag"
   ]
  },
  {
   "cell_type": "code",
   "execution_count": null,
   "id": "195465c0-274e-4e00-b24d-fff2e0efaec2",
   "metadata": {},
   "outputs": [],
   "source": [
    "read.get_tag(\"pi\")"
   ]
  },
  {
   "cell_type": "code",
   "execution_count": null,
   "id": "bdcac0dd-96e5-4d7f-9123-3f91722ef609",
   "metadata": {},
   "outputs": [],
   "source": [
    "tags"
   ]
  },
  {
   "cell_type": "markdown",
   "id": "832334f8-f6fd-4368-ac6c-f2d3efad5ba3",
   "metadata": {},
   "source": [
    "# Scratch"
   ]
  },
  {
   "cell_type": "code",
   "execution_count": null,
   "id": "8e03189d-f502-44a5-9186-30752c3ecfb6",
   "metadata": {},
   "outputs": [],
   "source": [
    "%%time\n",
    "duckdb.sql(\"SELECT count(distinct(name)) FROM arrow_ds WHERE path IS NOT NULL;\").arrow()"
   ]
  },
  {
   "cell_type": "code",
   "execution_count": null,
   "id": "d300ec7b-5120-4883-b200-a66ec74ae5d5",
   "metadata": {},
   "outputs": [],
   "source": [
    "table = duckdb.read_parquet(str(data_dir / \"*.parquet\"))"
   ]
  },
  {
   "cell_type": "code",
   "execution_count": null,
   "id": "48266d12-b1b1-445a-a856-5db5df30ed21",
   "metadata": {},
   "outputs": [],
   "source": [
    "duckdb.execute(\n",
    "    f\"CREATE VIEW reads AS SELECT * FROM read_parquet('{data_dir / '*.parquet'}');\"\n",
    ")"
   ]
  },
  {
   "cell_type": "code",
   "execution_count": null,
   "id": "67b1c9d6-9c6a-4ba5-90c2-54d86c64421b",
   "metadata": {},
   "outputs": [],
   "source": [
    "%%time\n",
    "duckdb.sql(\"SELECT count(distinct(name)) FROM reads WHERE path IS NOT NULL;\").arrow()"
   ]
  },
  {
   "cell_type": "code",
   "execution_count": null,
   "id": "b6c19f57-bb9c-4d4d-8a4b-094a4c3fd3d0",
   "metadata": {},
   "outputs": [],
   "source": [
    "duckdb.sql(\"SELECT COUNT(name) FROM READS;\")"
   ]
  },
  {
   "cell_type": "code",
   "execution_count": null,
   "id": "46c250df-8577-417c-bd37-0098741b5c1e",
   "metadata": {},
   "outputs": [],
   "source": [
    "lengths = duckdb.sql(\n",
    "    \"SELECT LENGTH(read_seq) FROM READS WHERE path NOT NULL;\"\n",
    ").fetchnumpy()"
   ]
  },
  {
   "cell_type": "code",
   "execution_count": null,
   "id": "2875be0c-7459-44ba-a0e8-6aedcc9c7fef",
   "metadata": {},
   "outputs": [],
   "source": [
    "plt.hist(lengths[\"length(read_seq)\"], bins=100, log=True);"
   ]
  },
  {
   "cell_type": "code",
   "execution_count": null,
   "id": "2c3cef46-3734-4159-a257-b4a6c18026d1",
   "metadata": {},
   "outputs": [],
   "source": [
    "plt.hist(\n",
    "    lengths[\"length(read_seq)\"][lengths[\"length(read_seq)\"] < 20000], bins=100, log=True\n",
    ");"
   ]
  },
  {
   "cell_type": "code",
   "execution_count": null,
   "id": "6ba11a11-b41e-4bdd-9ba6-d66ac20e2c53",
   "metadata": {},
   "outputs": [],
   "source": [
    "read_groups = duckdb.sql(\n",
    "    \"SELECT path, LIST(name), COUNT(name) FROM READS GROUP BY path;\"\n",
    ").arrow()"
   ]
  },
  {
   "cell_type": "code",
   "execution_count": null,
   "id": "125cc5a1-30d9-4263-b9a1-f1cb89f77a87",
   "metadata": {},
   "outputs": [],
   "source": [
    "read_groups  # [0][1000]"
   ]
  },
  {
   "cell_type": "code",
   "execution_count": null,
   "id": "4576a4e7-54d2-4d9b-9c51-a5b644f3a8c3",
   "metadata": {},
   "outputs": [],
   "source": [
    "plt.hist(read_groups.column('count(\"name\")'), bins=100, log=True, range=(0, 250));"
   ]
  },
  {
   "cell_type": "code",
   "execution_count": null,
   "id": "ddedf0a5-6eda-4c37-93fb-d258de9c35fd",
   "metadata": {},
   "outputs": [],
   "source": [
    "read_groups.nbytes / 1e6"
   ]
  },
  {
   "cell_type": "markdown",
   "id": "24aa7733-3801-4ef7-9efb-c50c20b64064",
   "metadata": {},
   "source": [
    "# False pairs vs. partial barcodes"
   ]
  },
  {
   "cell_type": "code",
   "execution_count": null,
   "id": "8a898d83-7b72-4bb4-a7ab-cd471bbb2f75",
   "metadata": {},
   "outputs": [],
   "source": [
    "%%time\n",
    "duplex_ids = set(k for k in reads.keys() if \";\" in k)\n",
    "simplex_ids = set(k for k in reads.keys() if \";\" not in k)"
   ]
  },
  {
   "cell_type": "code",
   "execution_count": null,
   "id": "815fd4ac-a09a-4bf7-8478-5d0d52bd8ab8",
   "metadata": {},
   "outputs": [],
   "source": [
    "%%time\n",
    "total_reads = 0\n",
    "complete_barcodes = 0\n",
    "name_to_barcode = {}\n",
    "name_to_path = {}\n",
    "for table in tqdm(sio.iter_gaf(gaf_filename)):\n",
    "    name_col = table.column(\"name\")\n",
    "    path_col = table.column(\"path\")\n",
    "    for idx in range(len(table)):\n",
    "        name = name_col[idx].as_py()\n",
    "        path = set([s[1:] for s in path_col[idx].as_py()])\n",
    "        name_to_path[name] = path\n",
    "        total_reads += 1\n",
    "        if (\"BC:BIT0=0\" in path or \"BC:BIT0=1\" in path) and (\n",
    "            \"BC:BIT29=0\" in path or \"BC:BIT29=1\" in path\n",
    "        ):\n",
    "            complete_barcodes += 1\n",
    "            barcode = tuple(f\"BC:BIT{bit}=1\" in path for bit in range(30))\n",
    "            name_to_barcode[name] = barcode"
   ]
  },
  {
   "cell_type": "code",
   "execution_count": null,
   "id": "fa8b0692-32ce-4270-8c11-4a5005e53824",
   "metadata": {},
   "outputs": [],
   "source": [
    "def partial_barcode_mismatches(a, b):\n",
    "    return set(k for k, v in Counter(s.split(\"=\")[0] for s in (a ^ b)).items() if v > 1)"
   ]
  },
  {
   "cell_type": "code",
   "execution_count": null,
   "id": "9f274028-d9f3-412f-bfd7-3ff89459fd09",
   "metadata": {},
   "outputs": [],
   "source": [
    "def mapping_status(id_, name_to_barcode, name_to_path):\n",
    "    if id_ in name_to_barcode:\n",
    "        return 0\n",
    "    elif id_ in name_to_path:\n",
    "        return 1\n",
    "    else:\n",
    "        return 2\n",
    "\n",
    "\n",
    "STATUS_TO_NAME = {0: \"Complete\", 1: \"Partial\", 2: \"Unmapped\"}\n",
    "\n",
    "census = pd.DataFrame(\n",
    "    np.zeros((3, 6), dtype=np.uint32),\n",
    "    columns=[\n",
    "        \"Complete/Complete\",\n",
    "        \"Complete/Partial\",\n",
    "        \"Complete/Unmapped\",\n",
    "        \"Partial/Partial\",\n",
    "        \"Partial/Unmapped\",\n",
    "        \"Unmapped/Unmapped\",\n",
    "    ],\n",
    "    index=[\"Duplex complete\", \"Duplex partial\", \"Duplex unmapped\"],\n",
    ")\n",
    "total_reads = census.copy()\n",
    "matches = census.copy()\n",
    "mismatches = census.copy()\n",
    "\n",
    "for duplex_id in tqdm(duplex_ids):\n",
    "    parent_ids = duplex_id.split(\";\")\n",
    "    parent_statuses = sorted(\n",
    "        [\n",
    "            mapping_status(parent_ids[0], name_to_barcode, name_to_path),\n",
    "            mapping_status(parent_ids[1], name_to_barcode, name_to_path),\n",
    "        ]\n",
    "    )\n",
    "    parent_col = \"/\".join(STATUS_TO_NAME[i] for i in parent_statuses)\n",
    "    if duplex_id in name_to_barcode:\n",
    "        row = \"Duplex complete\"\n",
    "    elif duplex_id in name_to_path:\n",
    "        row = \"Duplex partial\"\n",
    "    else:\n",
    "        row = \"Duplex unmapped\"\n",
    "    total_reads.loc[row, parent_col] += 1\n",
    "    if parent_statuses[0] != 2 and parent_statuses[1] != 2:\n",
    "        if partial_barcode_mismatches(\n",
    "            name_to_path[parent_ids[0]], name_to_path[parent_ids[1]]\n",
    "        ):\n",
    "            # if name_to_barcode[parent_ids[0]] == name_to_barcode[parent_ids[1]]:\n",
    "            #    print(\">>>\",duplex_id);0/0\n",
    "            # print(row, parent_col, partial_barcode_mismatches(name_to_path[parent_ids[0]], name_to_path[parent_ids[1]]));0/0\n",
    "            mismatches.loc[row, parent_col] += 1\n",
    "        else:\n",
    "            matches.loc[row, parent_col] += 1"
   ]
  },
  {
   "cell_type": "code",
   "execution_count": null,
   "id": "edcc5a16-3abc-4238-8f4d-168116122651",
   "metadata": {},
   "outputs": [],
   "source": [
    "total_reads"
   ]
  },
  {
   "cell_type": "code",
   "execution_count": null,
   "id": "60ed6f14-3e18-40ea-947a-1109feef1250",
   "metadata": {},
   "outputs": [],
   "source": [
    "matches"
   ]
  },
  {
   "cell_type": "code",
   "execution_count": null,
   "id": "2c3cb1ac-b552-4410-acc5-cb0760c379c5",
   "metadata": {},
   "outputs": [],
   "source": [
    "mismatches"
   ]
  },
  {
   "cell_type": "markdown",
   "id": "b2dd1d15-c8f4-4df0-9fcd-00270b3df994",
   "metadata": {},
   "source": [
    "# False pairs summary"
   ]
  },
  {
   "cell_type": "code",
   "execution_count": null,
   "id": "a4cd7b7c-20c8-4c38-a793-2bfadeec472a",
   "metadata": {},
   "outputs": [],
   "source": [
    "data_dir = Path(\"/home/jqs1/scratch/jqs1/sequencing/230930_alignment_test/\")\n",
    "\n",
    "reads_filenames = [\n",
    "    data_dir / \"230707_repressilators/dorado_0.4.0/channel-135_merged.arrow\",\n",
    "    data_dir / \"230726_carlos/dorado_0.4.0/channel-100_merged.arrow\",\n",
    "    data_dir / \"230818_bcd_rbses/dorado_0.4.0/channel-100_merged.arrow\",\n",
    "    data_dir / \"230818_repressilators/dorado_0.4.0/channel-1032_merged.arrow\",\n",
    "    data_dir / \"230922_bcd_rbses_constitutive/dorado_0.4.0/channel-100_merged.arrow\",\n",
    "]\n",
    "\n",
    "rows = []\n",
    "\n",
    "for reads_filename in tqdm(reads_filenames):\n",
    "    reads = pa.ipc.open_file(reads_filename)\n",
    "    name_to_barcode = {}\n",
    "    name_to_path = {}\n",
    "    duplex_ids = set()\n",
    "    num_total_reads = 0\n",
    "    for batch_idx in trange(reads.num_record_batches):\n",
    "        batch = reads.get_record_batch(batch_idx)\n",
    "        name_col = batch.column(\"name\")\n",
    "        path_col = batch.column(\"path\")\n",
    "        duplex_ids.update(\n",
    "            name_col.filter(pc.match_substring(name_col, \";\")).to_pylist()\n",
    "        )\n",
    "        num_total_reads += len(batch)\n",
    "        for idx in range(len(batch)):\n",
    "            name = name_col[idx].as_py()\n",
    "            path = path_col[idx].as_py()\n",
    "            if path is None:\n",
    "                continue  # skip unaligned reads\n",
    "            path = set([s[1:] for s in path])\n",
    "            name_to_path[name] = path\n",
    "            if (\"BC:BIT0=0\" in path or \"BC:BIT0=1\" in path) and (\n",
    "                \"BC:BIT29=0\" in path or \"BC:BIT29=1\" in path\n",
    "            ):\n",
    "                barcode = tuple(f\"BC:BIT{bit}=1\" in path for bit in range(30))\n",
    "                name_to_barcode[name] = barcode\n",
    "    num_mapped_reads = 0\n",
    "    num_barcodes_match = 0\n",
    "    for duplex_id in duplex_ids:\n",
    "        parent_ids = duplex_id.split(\";\")\n",
    "        if (\n",
    "            duplex_id in name_to_barcode\n",
    "            and parent_ids[0] in name_to_barcode\n",
    "            and parent_ids[1] in name_to_barcode\n",
    "        ):\n",
    "            num_mapped_reads += 1\n",
    "            if (\n",
    "                name_to_barcode[duplex_id]\n",
    "                == name_to_barcode[parent_ids[0]]\n",
    "                == name_to_barcode[parent_ids[1]]\n",
    "            ):\n",
    "                num_barcodes_match += 1\n",
    "    experiment_name = reads_filename.parts[-3][\n",
    "        : reads_filename.parts[-3].index(\"_\") + 2\n",
    "    ]\n",
    "    num_duplex_reads = len(duplex_ids)\n",
    "    rows.append(\n",
    "        {\n",
    "            \"Experiment\": experiment_name,\n",
    "            \"Total Reads\": num_total_reads,\n",
    "            \"Duplex Reads\": num_duplex_reads,\n",
    "            \"Mapped Reads\": num_mapped_reads,\n",
    "            \"Barcodes Match\": num_barcodes_match,\n",
    "            \"Duplex Rate\": num_duplex_reads / num_total_reads,\n",
    "            \"Pair Mismatch Rate\": 1 - num_barcodes_match / num_mapped_reads,\n",
    "        }\n",
    "    )"
   ]
  },
  {
   "cell_type": "code",
   "execution_count": null,
   "id": "39c46558-47b2-4afb-9f8e-0441e4966ada",
   "metadata": {},
   "outputs": [],
   "source": [
    "pd.DataFrame(rows).style.format({\"Pair Mismatch Rate\": \"{:.0%}\"})"
   ]
  },
  {
   "cell_type": "code",
   "execution_count": null,
   "id": "a00c5f6e-15db-43a3-86c9-436df030e774",
   "metadata": {},
   "outputs": [],
   "source": [
    "print(pd.DataFrame(rows).to_markdown(tablefmt=\"github\", index=False))"
   ]
  }
 ],
 "metadata": {
  "kernelspec": {
   "display_name": "Python 3 (ipykernel)",
   "language": "python",
   "name": "python3"
  },
  "language_info": {
   "codemirror_mode": {
    "name": "ipython",
    "version": 3
   },
   "file_extension": ".py",
   "mimetype": "text/x-python",
   "name": "python",
   "nbconvert_exporter": "python",
   "pygments_lexer": "ipython3",
   "version": "3.10.12"
  }
 },
 "nbformat": 4,
 "nbformat_minor": 5
}
