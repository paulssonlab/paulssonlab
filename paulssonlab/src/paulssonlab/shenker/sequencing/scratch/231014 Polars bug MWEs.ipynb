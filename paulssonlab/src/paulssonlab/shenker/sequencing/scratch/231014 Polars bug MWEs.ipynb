{
 "cells": [
  {
   "cell_type": "code",
   "execution_count": null,
   "id": "d809cb94-4804-4a6f-b912-7ddd8e8d8b78",
   "metadata": {},
   "outputs": [],
   "source": [
    "import os\n",
    "from pathlib import Path\n",
    "\n",
    "import duckdb\n",
    "import numpy as np\n",
    "import polars as pl\n",
    "import pyarrow as pa\n",
    "import pyarrow.compute as pc\n",
    "import pyarrow.dataset as ds\n",
    "from tqdm.auto import tqdm, trange"
   ]
  },
  {
   "cell_type": "code",
   "execution_count": null,
   "id": "405fe402-f097-461c-8caa-6488d5ac5fff",
   "metadata": {},
   "outputs": [],
   "source": [
    "os.environ[\"POLARS_VERBOSE\"] = \"1\"\n",
    "os.environ[\"RUST_BACKTRACE\"] = \"1\""
   ]
  },
  {
   "cell_type": "markdown",
   "id": "d8ad4541-be6a-405b-bf4c-53f27bdac7d4",
   "metadata": {},
   "source": [
    "# pl.lit in list.eval"
   ]
  },
  {
   "cell_type": "code",
   "execution_count": null,
   "id": "3565627a-8ebb-432b-96aa-57cc7dc8a367",
   "metadata": {},
   "outputs": [],
   "source": [
    "df = pl.DataFrame(\n",
    "    {\n",
    "        \"col1\": [[\"a\", \"b\", \"c\"], [], [\"a\", \"d\"]],\n",
    "    },\n",
    ")\n",
    "res = df.select(pl.col(\"col1\")).with_columns(\n",
    "    pl.col(\"col1\").list.eval(pl.lit(\"c\")).alias(\"col1_alt\"),\n",
    ")\n",
    "print(res)"
   ]
  },
  {
   "cell_type": "markdown",
   "id": "f17837e8-a726-4a4d-b609-cc5471287a83",
   "metadata": {},
   "source": [
    "# Option::unwrap panic simple"
   ]
  },
  {
   "cell_type": "code",
   "execution_count": null,
   "id": "0f0e1c97-a028-464b-8b0e-ffed41e7541a",
   "metadata": {},
   "outputs": [],
   "source": [
    "with pl.StringCache():\n",
    "    df = pl.DataFrame(\n",
    "        {\n",
    "            \"col1\": [\n",
    "                np.random.choice([\"a\", \"b\", \"c\", \"d\"], np.random.randint(1, 5))\n",
    "                for _ in range(10)\n",
    "            ],\n",
    "            \"col2\": np.random.randint(0, 2, size=10),\n",
    "        },\n",
    "        schema={\"col1\": pl.List(pl.Categorical), \"col2\": pl.Int64},\n",
    "    )\n",
    "    res = (\n",
    "        df.select(pl.col(\"col1\", \"col2\")).with_columns(\n",
    "            pl.col(\"col1\")\n",
    "            # .list.shift(1)\n",
    "            # .list.eval(pl.lit(\"c\"))\n",
    "            .list.set_intersection([\"a\", \"b\", \"c\"])\n",
    "            .cast(\n",
    "                pl.List(pl.Categorical)\n",
    "            )  # necessary because https://github.com/pola-rs/polars/issues/11730\n",
    "            .alias(\"col1_alt\"),\n",
    "        )\n",
    "        # .with_columns(\n",
    "        #     pl.when(pl.col(\"col2\") == 1)\n",
    "        #     .then(pl.col(\"col1_alt\"))\n",
    "        #     .when(pl.col(\"col2\") == 0)\n",
    "        #     .then(pl.col(\"col1\"))\n",
    "        #     .alias(\"col1_combined\")\n",
    "        # )\n",
    "    )\n",
    "    print(res)"
   ]
  },
  {
   "cell_type": "markdown",
   "id": "e19175e2-5a1e-4148-a362-5f417a9c15cf",
   "metadata": {},
   "source": [
    "# Old"
   ]
  },
  {
   "cell_type": "code",
   "execution_count": null,
   "id": "aa7b46c1-e295-44b3-b59c-bfb10c6fcbb2",
   "metadata": {},
   "outputs": [],
   "source": [
    "# df = pl.scan_pyarrow_dataset(arrow_ds2)\n",
    "df = pl.DataFrame(\n",
    "    {\n",
    "        \"col1\": [\n",
    "            np.random.choice([\"a\", \"b\", \"c\", \"d\"], np.random.randint(1, 5))\n",
    "            for _ in range(10)\n",
    "        ],\n",
    "        \"col2\": np.random.randint(0, 2, size=10),\n",
    "    }\n",
    ")\n",
    "df2 = pl.DataFrame(\n",
    "    {\n",
    "        \"col1\": [\n",
    "            np.random.choice([\"a\", \"b\", \"c\", \"d\"], np.random.randint(1, 5))\n",
    "            for _ in range(10)\n",
    "        ],\n",
    "        \"col2\": np.random.randint(0, 2, size=10),\n",
    "    },\n",
    "    schema={\"col1\": pl.List(pl.Categorical), \"col2\": pl.Int64},\n",
    ")\n",
    "with pl.StringCache():\n",
    "    res = (\n",
    "        df2.select(pl.col(\"col1\", \"col2\"))\n",
    "        .with_columns(\n",
    "            pl.col(\"col1\")\n",
    "            .list.set_intersection([\"a\", \"b\", \"c\"])\n",
    "            .cast(pl.List(pl.Categorical))\n",
    "            .alias(\"col1_subset\"),\n",
    "        )\n",
    "        .with_columns(\n",
    "            pl.col(\"col1_subset\")\n",
    "            .list.eval(pl.element().map_dict({\"a\": \"x\", \"b\": \"y\", \"c\": \"z\"}))\n",
    "            .alias(\"col1_subset_reversed\"),\n",
    "        )\n",
    "        # .with_columns(\n",
    "        #     pl.when(pl.col(\"col2\") == 1)\n",
    "        #     .then(pl.col(\"col1_subset\"))\n",
    "        #     # .then(None)\n",
    "        #     .when(pl.col(\"col2\") == 0)\n",
    "        #     .then(pl.col(\"col1_subset_reversed\"))\n",
    "        #     .alias(\"col1_subset_normalized\")\n",
    "        # )\n",
    "    )\n",
    "# res"
   ]
  },
  {
   "cell_type": "code",
   "execution_count": null,
   "id": "d820cf99-e942-4952-a3f9-c0d47d895adc",
   "metadata": {},
   "outputs": [],
   "source": [
    "df = pl.DataFrame(\n",
    "    {\n",
    "        \"col1\": [\n",
    "            np.random.choice([\"a2\", \"b2\", \"c2\", \"d2\"], np.random.randint(1, 5))\n",
    "            for _ in range(10)\n",
    "        ],\n",
    "        \"col2\": np.random.randint(0, 2, size=10),\n",
    "    },\n",
    "    schema={\"col1\": pl.List(pl.Categorical), \"col2\": pl.Int64},\n",
    ")\n",
    "with pl.StringCache():\n",
    "    res = (\n",
    "        df.select(pl.col(\"col1\", \"col2\"))\n",
    "        .with_columns(\n",
    "            pl.col(\"col1\")\n",
    "            .list.set_intersection([\"a2\", \"b2\", \"c2\"])\n",
    "            .cast(\n",
    "                pl.List(pl.Categorical)\n",
    "            )  # necessary because https://github.com/pola-rs/polars/issues/11730\n",
    "            .alias(\"col1_subset\"),\n",
    "        )\n",
    "        .with_columns(\n",
    "            pl.col(\"col1\").list.eval(\n",
    "                pl.element().map_dict({\"a2\": \"x\", \"b2\": \"y\", \"c2\": \"z\"})\n",
    "            )\n",
    "            # .list.eval(pl.element().cast(pl.Utf8).str.strip_chars_end(\"2\"))\n",
    "            # .cast(pl.List(pl.Categorical))\n",
    "            .alias(\"col1_subset_reversed\"),\n",
    "        )\n",
    "        .with_columns(\n",
    "            pl.when(pl.col(\"col2\") == 1)\n",
    "            .then(pl.col(\"col1\"))\n",
    "            .when(pl.col(\"col2\") == 0)\n",
    "            .then(pl.col(\"col1_subset_reversed\"))\n",
    "            .alias(\"col1_subset_normalized\")\n",
    "        )\n",
    "    )\n",
    "print(res)"
   ]
  },
  {
   "cell_type": "code",
   "execution_count": null,
   "id": "cf73b556-1e9f-4a68-85b6-5be4d8f24908",
   "metadata": {},
   "outputs": [],
   "source": [
    "z = res.to_dict()"
   ]
  },
  {
   "cell_type": "code",
   "execution_count": null,
   "id": "f97d670a-7ae7-43bd-b998-037343919fe3",
   "metadata": {},
   "outputs": [],
   "source": [
    "z.keys()"
   ]
  },
  {
   "cell_type": "code",
   "execution_count": null,
   "id": "93edb5d8-aac5-43b5-80b5-ef927f76bfc1",
   "metadata": {},
   "outputs": [],
   "source": [
    "zz = z[\"col1_subset_normalized\"]"
   ]
  },
  {
   "cell_type": "code",
   "execution_count": null,
   "id": "92a5d93b-d480-481e-af59-786ba965a05c",
   "metadata": {},
   "outputs": [],
   "source": [
    "zzz = zz.to_numpy()"
   ]
  },
  {
   "cell_type": "code",
   "execution_count": null,
   "id": "67220e6c-ab62-441f-9c6c-3e1ccffc9f25",
   "metadata": {},
   "outputs": [],
   "source": [
    "dir(res)"
   ]
  },
  {
   "cell_type": "code",
   "execution_count": null,
   "id": "bce670be-f4a0-4940-b500-82199ec77e6c",
   "metadata": {},
   "outputs": [],
   "source": [
    "res[2]"
   ]
  },
  {
   "cell_type": "markdown",
   "id": "4cb9d2b4-0432-4497-a830-b6d8e6e64d73",
   "metadata": {
    "jp-MarkdownHeadingCollapsed": true
   },
   "source": [
    "# concat_str"
   ]
  },
  {
   "cell_type": "code",
   "execution_count": null,
   "id": "370a9176-40c0-4778-9757-5dfb1fcd5c94",
   "metadata": {},
   "outputs": [],
   "source": [
    "import numpy as np\n",
    "import polars as pl\n",
    "\n",
    "df = pl.DataFrame(\n",
    "    {\n",
    "        \"col1\": [\n",
    "            np.random.choice([\"a\", \"b\", \"c\", \"d\"], np.random.randint(1, 5))\n",
    "            for _ in range(10)\n",
    "        ],\n",
    "    },\n",
    ")\n",
    "df2 = pl.DataFrame(\n",
    "    {\n",
    "        \"col1\": [\n",
    "            np.random.choice([\"a\", \"b\", \"c\", \"d\"], np.random.randint(1, 5))\n",
    "            for _ in range(10)\n",
    "        ]\n",
    "    },\n",
    "    schema={\"col1\": pl.List(pl.Categorical)},\n",
    ")"
   ]
  },
  {
   "cell_type": "code",
   "execution_count": null,
   "id": "a8409c6a-a548-4eec-bdbc-ee4e517b9926",
   "metadata": {},
   "outputs": [],
   "source": [
    "res = df.select(pl.col(\"col1\")).with_columns(\n",
    "    pl.col(\"col1\").list.eval(pl.concat_str([pl.element(), pl.lit(\"_\")])).alias(\"col2\")\n",
    ")"
   ]
  },
  {
   "cell_type": "code",
   "execution_count": null,
   "id": "33526751-b75f-4f82-90bc-4e5f9b64754f",
   "metadata": {},
   "outputs": [],
   "source": [
    "with pl.StringCache():\n",
    "    res = df.select(pl.col(\"col1\")).with_columns(\n",
    "        pl.col(\"col1\")\n",
    "        .list.eval(pl.concat_str([pl.element(), pl.lit(\"_\")]))\n",
    "        .alias(\"col2\")\n",
    "    )"
   ]
  },
  {
   "cell_type": "code",
   "execution_count": null,
   "id": "e6e44eb2-dd3f-4b98-b1ce-8ae6ea25efce",
   "metadata": {},
   "outputs": [],
   "source": [
    "with pl.StringCache():\n",
    "    res = df.select(pl.col(\"col1\")).with_columns(\n",
    "        pl.col(\"col1\")\n",
    "        .list.eval(pl.concat_str([pl.element().cast(pl.Utf8), pl.lit(\"_\")]))\n",
    "        .alias(\"col2\")\n",
    "    )"
   ]
  },
  {
   "cell_type": "markdown",
   "id": "9272f3b4-90d6-44c1-a568-62c9a39c03dc",
   "metadata": {
    "jp-MarkdownHeadingCollapsed": true
   },
   "source": [
    "# Option::unwrap panic"
   ]
  },
  {
   "cell_type": "code",
   "execution_count": null,
   "id": "14e863f3-00a7-4f34-be63-1fd0a193f934",
   "metadata": {},
   "outputs": [],
   "source": [
    "# df = pl.scan_pyarrow_dataset(arrow_ds2)\n",
    "df = pl.DataFrame(\n",
    "    {\n",
    "        \"col1\": [\n",
    "            np.random.choice([\"a\", \"b\", \"c\", \"d\"], np.random.randint(1, 5))\n",
    "            for _ in range(10)\n",
    "        ],\n",
    "        \"col2\": np.random.randint(0, 2, size=10),\n",
    "    }\n",
    ")\n",
    "df2 = pl.DataFrame(\n",
    "    {\n",
    "        \"col1\": [\n",
    "            np.random.choice([\"a\", \"b\", \"c\", \"d\"], np.random.randint(1, 5))\n",
    "            for _ in range(10)\n",
    "        ]\n",
    "    },\n",
    "    schema={\"col1\": pl.List(pl.Categorical)},\n",
    ")\n",
    "with pl.StringCache():\n",
    "    res = (\n",
    "        df.select(pl.col(\"col1\", \"col2\"))\n",
    "        .with_columns(\n",
    "            pl.col(\"col1\")\n",
    "            .list.set_intersection([\"a\", \"b\", \"c\"])\n",
    "            .cast(pl.List(pl.Categorical))\n",
    "            .alias(\"col1_subset\"),\n",
    "        )\n",
    "        .with_columns(\n",
    "            pl.col(\"col1_subset\")\n",
    "            .list.eval(pl.element().map_dict({\"a\": \"x\", \"b\": \"y\", \"c\": \"z\"}))\n",
    "            .alias(\"col1_subset_reversed\"),\n",
    "        )\n",
    "        .with_columns(\n",
    "            pl.when(pl.col(\"col2\") == 1)\n",
    "            .then(pl.col(\"col1_subset\"))\n",
    "            # .then(None)\n",
    "            .when(pl.col(\"col2\") == 0)\n",
    "            .then(pl.col(\"col1_subset_reversed\"))\n",
    "            .alias(\"col1_subset_normalized\")\n",
    "        )\n",
    "    )\n",
    "res"
   ]
  },
  {
   "cell_type": "code",
   "execution_count": null,
   "id": "19623735-220d-404a-94c9-3ab4fd389986",
   "metadata": {},
   "outputs": [],
   "source": [
    "df = pl.DataFrame(\n",
    "    {\n",
    "        \"col1\": [\n",
    "            np.random.choice([\"a\", \"b\", \"c\", \"d\"], np.random.randint(1, 5))\n",
    "            for _ in range(10)\n",
    "        ],\n",
    "        \"col2\": np.random.randint(0, 2, size=10),\n",
    "    }\n",
    ")"
   ]
  },
  {
   "cell_type": "code",
   "execution_count": null,
   "id": "148ee198-3891-4856-8063-87632ec5210b",
   "metadata": {},
   "outputs": [],
   "source": [
    "with pl.StringCache():\n",
    "    res = (\n",
    "        df.select(pl.col(\"col1\", \"col2\"))\n",
    "        .with_columns(\n",
    "            pl.col(\"col1\")\n",
    "            # .list.set_intersection([\"a\", \"b\", \"c\"])\n",
    "            # .cast(pl.List(pl.Categorical))\n",
    "            .alias(\"col1_subset\"),\n",
    "        )\n",
    "        .with_columns(\n",
    "            pl.col(\"col1_subset\")\n",
    "            # .list.reverse()\n",
    "            # .list.eval(pl.element().map_dict({\"a\": \"x\", \"b\": \"y\", \"c\": \"z\"}))\n",
    "            .list.eval(pl.element() + \"_\").alias(\"col1_subset_reversed\"),\n",
    "        )\n",
    "        .with_columns(\n",
    "            pl.when(pl.col(\"col2\") == 1)\n",
    "            .then(pl.col(\"col1_subset\"))\n",
    "            # .then(None)\n",
    "            .when(pl.col(\"col2\") == 0)\n",
    "            .then(pl.col(\"col1_subset_reversed\"))\n",
    "            .alias(\"col1_subset_normalized\")\n",
    "        )\n",
    "    )\n",
    "res"
   ]
  },
  {
   "cell_type": "code",
   "execution_count": null,
   "id": "2d3a0090-48e9-4688-8197-3537be568c11",
   "metadata": {},
   "outputs": [],
   "source": [
    "# df = pl.scan_pyarrow_dataset(arrow_ds2)\n",
    "df = pl.DataFrame(\n",
    "    {\n",
    "        \"col1\": [\n",
    "            np.random.choice([\"a\", \"b\", \"c\", \"d\"], np.random.randint(1, 5))\n",
    "            for _ in range(10)\n",
    "        ],\n",
    "        \"col2\": np.random.randint(0, 2, size=10),\n",
    "    }\n",
    ")\n",
    "with pl.StringCache():\n",
    "    res = (\n",
    "        df.select(pl.col(\"col1\", \"col2\")).with_columns(\n",
    "            pl.col(\"col1\")\n",
    "            # .list.reverse()\n",
    "            # .list.eval(pl.element().map_dict({\"a\": \"x\", \"b\": \"y\", \"c\": \"z\"}))\n",
    "            .list.eval(pl.concat_str([pl.element(), pl.lit(\"_\")])).alias(\"col3\"),\n",
    "        )\n",
    "        # .with_columns(\n",
    "        #     pl.when(pl.col(\"col2\") == 1)\n",
    "        #     .then(pl.col(\"col1_subset\"))\n",
    "        #     # .then(None)\n",
    "        #     .when(pl.col(\"col2\") == 0)\n",
    "        #     .then(pl.col(\"col1_subset_reversed\"))\n",
    "        #     .alias(\"col1_subset_normalized\")\n",
    "        # )\n",
    "    )\n",
    "# res"
   ]
  },
  {
   "cell_type": "code",
   "execution_count": null,
   "id": "02e5f2b4-b3a9-4c78-9475-7991bca14229",
   "metadata": {},
   "outputs": [],
   "source": [
    "# df = pl.scan_pyarrow_dataset(arrow_ds2)\n",
    "with pl.StringCache():\n",
    "    res = (\n",
    "        df.select(pl.col(\"path\"))\n",
    "        .limit(10)\n",
    "        .with_columns(\n",
    "            pl.col(\"path\")\n",
    "            .list.set_intersection(bc_segments)\n",
    "            .cast(pl.List(pl.Categorical))\n",
    "            .alias(\"path_subset\"),\n",
    "        )\n",
    "        .with_columns(\n",
    "            pl.col(\"path_subset\")\n",
    "            # .list.reverse()\n",
    "            .list.eval(pl.element().map_dict(reverse_path_mapping))\n",
    "            # .cast(pl.List(pl.Categorical))\n",
    "            # .list.reverse()\n",
    "            .alias(\"path_subset_reversed\"),\n",
    "            # (\n",
    "            #     pl.col(\"path_subset\")\n",
    "            #     .list.set_intersection(bc_segments_oriented[0])\n",
    "            #     .list.len()\n",
    "            #     > 0\n",
    "            # ).alias(\"is_forward\"),\n",
    "            # (\n",
    "            #     pl.col(\"path_subset\")\n",
    "            #     .list.set_intersection(bc_segments_oriented[1])\n",
    "            #     .list.len()\n",
    "            #     > 0\n",
    "            # ).alias(\"is_reverse\"),\n",
    "        )\n",
    "        .with_columns(\n",
    "            (\n",
    "                pl.col(\"path_subset\")\n",
    "                .list.set_intersection(bc_segments_oriented[0])\n",
    "                .list.len()\n",
    "                > 0\n",
    "            ).alias(\"is_forward\"),\n",
    "            # (\n",
    "            #     pl.col(\"path_subset\")\n",
    "            #     .list.set_intersection(bc_segments_oriented[1])\n",
    "            #     .list.len()\n",
    "            #     > 0\n",
    "            # ).alias(\"is_reverse\"),\n",
    "        )\n",
    "        .with_columns(\n",
    "            pl.when(pl.col(\"is_forward\") == True)\n",
    "            .then(pl.col(\"path_subset\"))\n",
    "            # .then(None)\n",
    "            .when(pl.col(\"is_forward\") == False)\n",
    "            .then(pl.col(\"path_subset_reversed\"))\n",
    "            .alias(\"path_subset_normalized\")\n",
    "        )\n",
    "    ).collect()\n",
    "res"
   ]
  },
  {
   "cell_type": "markdown",
   "id": "b12d8db3-5e94-491c-b3ba-d515d7b46891",
   "metadata": {
    "jp-MarkdownHeadingCollapsed": true
   },
   "source": [
    "# List functions on List(Categorical)"
   ]
  },
  {
   "cell_type": "code",
   "execution_count": null,
   "id": "a75befbb-20df-4a08-883b-e81ca260cfcf",
   "metadata": {},
   "outputs": [],
   "source": [
    "data_dir = Path(\n",
    "    \"/home/jqs1/scratch/jqs1/sequencing/230930_alignment_test/230707_repressilators/\"\n",
    ")"
   ]
  },
  {
   "cell_type": "code",
   "execution_count": null,
   "id": "00dfada7-d4d9-4563-b0fd-95fef55c51fd",
   "metadata": {},
   "outputs": [],
   "source": [
    "arrow_ds = ds.dataset(list(data_dir.glob(\"*.arrow\")), format=\"arrow\")"
   ]
  },
  {
   "cell_type": "code",
   "execution_count": null,
   "id": "86317888-7942-4cc0-8ecb-8b90edb42342",
   "metadata": {},
   "outputs": [],
   "source": [
    "arrow_ds2 = ds.dataset(list(data_dir.glob(\"*.arrow\"))[:2], format=\"arrow\")"
   ]
  },
  {
   "cell_type": "code",
   "execution_count": null,
   "id": "f3f9455c-bba6-4dfb-a421-ddfb31298d9c",
   "metadata": {},
   "outputs": [],
   "source": [
    "batch = next(arrow_ds2.to_batches())"
   ]
  },
  {
   "cell_type": "code",
   "execution_count": null,
   "id": "8a793f2d-7db9-4313-869e-50c8b5d3c552",
   "metadata": {},
   "outputs": [],
   "source": [
    "x = batch.column(\"path\")"
   ]
  },
  {
   "cell_type": "code",
   "execution_count": null,
   "id": "f6d8de00-5b0f-4fc4-8479-b6a4a3c6af18",
   "metadata": {},
   "outputs": [],
   "source": [
    "x.type"
   ]
  },
  {
   "cell_type": "code",
   "execution_count": null,
   "id": "ea2897e0-1aa2-449d-b27a-c788c139d39a",
   "metadata": {},
   "outputs": [],
   "source": [
    "%%time\n",
    "df = pl.scan_pyarrow_dataset(arrow_ds2)"
   ]
  },
  {
   "cell_type": "code",
   "execution_count": null,
   "id": "3cd35b6e-aba0-42bb-9f86-9314ead1cc08",
   "metadata": {},
   "outputs": [],
   "source": [
    "%%time\n",
    "df.select(pl.col(\"path\")).limit(5).with_columns(\n",
    "    pl.col(\"path\")\n",
    "    .list.set_intersection([\"<UNS9\", \"<BC:T7_TERM\"])\n",
    "    .cast(pl.List(pl.Categorical))\n",
    "    .alias(\"path_subset\")\n",
    ").collect()"
   ]
  },
  {
   "cell_type": "code",
   "execution_count": null,
   "id": "343e6abc-01b7-4dda-b38d-97b8ca620e56",
   "metadata": {},
   "outputs": [],
   "source": [
    "%%time\n",
    "df = pl.scan_pyarrow_dataset(arrow_ds2)\n",
    "with pl.StringCache():\n",
    "    res = (\n",
    "        df.select(pl.col(\"path\"))\n",
    "        .limit(5)\n",
    "        .with_columns(\n",
    "            # pl.col(\"path\").list.set_intersection([\"<UNS9\", \"<BC:T7_TERM\"]).cast(pl.List(pl.Categorical)).alias(\"path_subset\"),\n",
    "            pl.col(\"path\")\n",
    "            .list.reverse()\n",
    "            .list.eval(\n",
    "                pl.element().map_dict(\n",
    "                    {\">BC:JUNCTION\": \"<BC:BIT0=0\"}, default=pl.first()\n",
    "                )\n",
    "            )\n",
    "            .alias(\"path_reversed\")\n",
    "        )\n",
    "        .collect()\n",
    "    )\n",
    "res"
   ]
  },
  {
   "cell_type": "markdown",
   "id": "a6bd37ab-4d9a-4583-a0ee-1fcee7233c63",
   "metadata": {
    "jp-MarkdownHeadingCollapsed": true
   },
   "source": [
    "# List functions for categoricals"
   ]
  },
  {
   "cell_type": "code",
   "execution_count": null,
   "id": "74841f13-c497-481d-a23d-2c1ffd11290b",
   "metadata": {},
   "outputs": [],
   "source": [
    "col = pa.array(\n",
    "    [np.random.choice([\"a\", \"b\", \"c\"], np.random.randint(1, 5)) for _ in range(10)],\n",
    "    type=pa.list_(pa.dictionary(pa.int16(), pa.string())),\n",
    ")\n",
    "tbl = pa.Table.from_pydict(dict(col=col))"
   ]
  },
  {
   "cell_type": "code",
   "execution_count": null,
   "id": "8a1074b4-6dbf-490f-8742-25326ad07d88",
   "metadata": {},
   "outputs": [],
   "source": [
    "df = pl.from_arrow(tbl)\n",
    "res = df.select(pl.col(\"col\")).with_columns(\n",
    "    pl.col(\"col\").list.set_union([\"b\", \"c\"]).alias(\"col_subset\")\n",
    ")"
   ]
  },
  {
   "cell_type": "code",
   "execution_count": null,
   "id": "62f06171-bf97-4b12-b6e1-d8d57ba97921",
   "metadata": {},
   "outputs": [],
   "source": [
    "df = pl.DataFrame({\"foo\": [[\"x\", \"y\", \"z\"], [], [\"x\", \"a\"]]})\n",
    "df.select(pl.col(\"foo\").cast(pl.List(pl.Categorical)).list.get(0))"
   ]
  },
  {
   "cell_type": "code",
   "execution_count": null,
   "id": "3c3bfa76-5da6-489b-b8c2-f6a1e8669ced",
   "metadata": {},
   "outputs": [],
   "source": [
    "df = pl.DataFrame({\"foo\": [[\"x\", \"y\", \"z\"], [], [\"x\", \"a\"]]})\n",
    "df.select(pl.col(\"foo\").list.get(0))"
   ]
  },
  {
   "cell_type": "code",
   "execution_count": null,
   "id": "33d27062-f418-47ff-9eaa-db486c90b465",
   "metadata": {},
   "outputs": [],
   "source": [
    "res = df.select(pl.col(\"col\")).with_columns(\n",
    "    pl.col(\"col\").list.get(0).alias(\"col_subset\")\n",
    ")"
   ]
  },
  {
   "cell_type": "code",
   "execution_count": null,
   "id": "18af4265-729f-4907-b925-ee2ff47fb71c",
   "metadata": {},
   "outputs": [],
   "source": [
    "res = df.select(pl.col(\"col\")).with_columns(\n",
    "    pl.col(\"col\").list.first().alias(\"col_subset\")\n",
    ")"
   ]
  },
  {
   "cell_type": "code",
   "execution_count": null,
   "id": "3e669f78-6548-44c8-a7f8-044d6c3e6bb0",
   "metadata": {},
   "outputs": [],
   "source": [
    "res"
   ]
  },
  {
   "cell_type": "code",
   "execution_count": null,
   "id": "55859e70-a779-4cbb-b779-73061bdfc5fe",
   "metadata": {},
   "outputs": [],
   "source": [
    "df = pl.from_arrow(tbl)\n",
    "res2 = df.select(pl.col(\"col\")).with_columns(\n",
    "    pl.col(\"col\")\n",
    "    .list.set_intersection([\"b\", \"c\"])\n",
    "    .cast(pl.List(pl.Categorical))\n",
    "    .alias(\"col_subset\")\n",
    ")"
   ]
  },
  {
   "cell_type": "code",
   "execution_count": null,
   "id": "8a4bb8d4-6a9e-4435-916d-5b284381a540",
   "metadata": {},
   "outputs": [],
   "source": [
    "res2"
   ]
  },
  {
   "cell_type": "markdown",
   "id": "b9b97321-484a-45d8-abd8-75847121b4fc",
   "metadata": {
    "jp-MarkdownHeadingCollapsed": true
   },
   "source": [
    "# map_dict"
   ]
  },
  {
   "cell_type": "code",
   "execution_count": null,
   "id": "6651f735-7993-46aa-9225-e7eb63f4b0e3",
   "metadata": {},
   "outputs": [],
   "source": [
    "col = pa.array(\n",
    "    [np.random.choice([\"a\", \"b\", \"c\"], np.random.randint(1, 5)) for _ in range(10)],\n",
    "    type=pa.list_(pa.dictionary(pa.int16(), pa.string())),\n",
    ")\n",
    "tbl = pa.Table.from_pydict(dict(col=col))"
   ]
  },
  {
   "cell_type": "code",
   "execution_count": null,
   "id": "b4e3bd52-d7cb-48cc-b133-df6a90cf53a3",
   "metadata": {},
   "outputs": [],
   "source": [
    "with pl.StringCache():\n",
    "    df = pl.from_arrow(tbl)\n",
    "    res = df.select(pl.col(\"col\")).with_columns(\n",
    "        pl.col(\"col\")\n",
    "        .list.eval(pl.element().map_dict({\"a\": \"z\"}, default=pl.first()))\n",
    "        .alias(\"col_mapped\")\n",
    "    )"
   ]
  },
  {
   "cell_type": "code",
   "execution_count": null,
   "id": "893c1d0d-4e63-4c59-be8e-71fde6753668",
   "metadata": {},
   "outputs": [],
   "source": [
    "res"
   ]
  },
  {
   "cell_type": "markdown",
   "id": "d4f49ac2-5dd8-424f-9fa2-40411db44bc5",
   "metadata": {
    "jp-MarkdownHeadingCollapsed": true
   },
   "source": [
    "# count_matches"
   ]
  },
  {
   "cell_type": "code",
   "execution_count": null,
   "id": "62cdeb48-51fe-4951-8978-ff5da5ff873c",
   "metadata": {},
   "outputs": [],
   "source": [
    "import numpy as np\n",
    "import polars as pl\n",
    "import pyarrow as pa\n",
    "\n",
    "df = pl.DataFrame(\n",
    "    {\n",
    "        \"col\": [\n",
    "            np.random.choice([\"a\", \"b\", \"c\"], np.random.randint(1, 5))\n",
    "            for _ in range(10)\n",
    "        ]\n",
    "    },\n",
    "    schema={\"col\": pl.List(pl.Categorical)},\n",
    ")\n",
    "res = df.select(pl.col(\"col\")).with_columns(\n",
    "    pl.col(\"col\").list.count_matches(\"b\").alias(\"count\")\n",
    ")"
   ]
  },
  {
   "cell_type": "code",
   "execution_count": null,
   "id": "c852e1e7-3447-4223-b24f-678adcd2ae55",
   "metadata": {},
   "outputs": [],
   "source": [
    "import numpy as np\n",
    "import polars as pl\n",
    "import pyarrow as pa\n",
    "\n",
    "col = pa.array(\n",
    "    [np.random.choice([\"a\", \"b\", \"c\"], np.random.randint(1, 5)) for _ in range(10)],\n",
    "    type=pa.list_(pa.dictionary(pa.int16(), pa.string())),\n",
    ")\n",
    "col2 = pa.array(\n",
    "    [\n",
    "        np.random.choice([\"a\", \"b\", \"c\", \"d\"], np.random.randint(1, 5))\n",
    "        for _ in range(10)\n",
    "    ],\n",
    "    type=pa.list_(pa.dictionary(pa.int16(), pa.string())),\n",
    ")\n",
    "tbl = pa.Table.from_pydict(dict(col=col, col2=col2))\n",
    "with pl.StringCache():\n",
    "    df = pl.from_arrow(tbl)\n",
    "    res = df.select(pl.col(\"col\", \"col2\")).with_columns(\n",
    "        pl.col(\"col\").list.count_matches(\"b\").alias(\"col_subset\")\n",
    "    )"
   ]
  },
  {
   "cell_type": "code",
   "execution_count": null,
   "id": "1036bee3-6e36-4a0b-a52b-b2d5e1ee06ab",
   "metadata": {},
   "outputs": [],
   "source": [
    "res"
   ]
  },
  {
   "cell_type": "code",
   "execution_count": null,
   "id": "2d89c382-4ca6-4918-980d-2a7961e9a0f7",
   "metadata": {},
   "outputs": [],
   "source": [
    "res"
   ]
  },
  {
   "cell_type": "markdown",
   "id": "0a1f3d0d-1f6b-4511-b905-8de6af19ec92",
   "metadata": {
    "jp-MarkdownHeadingCollapsed": true
   },
   "source": [
    "# list.get/.first/.last"
   ]
  },
  {
   "cell_type": "code",
   "execution_count": null,
   "id": "d8190ce8-899a-4df0-93c1-925ba7e7aefb",
   "metadata": {},
   "outputs": [],
   "source": [
    "import numpy as np\n",
    "import polars as pl\n",
    "import pyarrow as pa\n",
    "\n",
    "with pl.StringCache():\n",
    "    df = pl.DataFrame(\n",
    "        {\n",
    "            \"col\": [\n",
    "                np.random.choice([\"a\", \"b\", \"c\"], np.random.randint(1, 5))\n",
    "                for _ in range(10)\n",
    "            ]\n",
    "        },\n",
    "        schema={\"col\": pl.List(pl.Categorical)},\n",
    "    )\n",
    "    res = df.select(pl.col(\"col\")).with_columns(pl.col(\"col\").list.get(0).alias(\"col2\"))"
   ]
  },
  {
   "cell_type": "code",
   "execution_count": null,
   "id": "c9b75d6e-06b8-4541-a34b-763f3d794246",
   "metadata": {},
   "outputs": [],
   "source": [
    "res"
   ]
  },
  {
   "cell_type": "markdown",
   "id": "fc3d4c5b-dc1b-4894-ae3e-4f58f20d6bf4",
   "metadata": {},
   "source": [
    "# list.set_*"
   ]
  },
  {
   "cell_type": "code",
   "execution_count": null,
   "id": "ea000584-3ded-4d71-88a7-87014b4baddd",
   "metadata": {},
   "outputs": [],
   "source": [
    "import numpy as np\n",
    "import polars as pl\n",
    "import pyarrow as pa\n",
    "\n",
    "# col = pa.array(\n",
    "#     [np.random.choice([\"a\", \"b\", \"c\"], np.random.randint(1, 5)) for _ in range(10)],\n",
    "#     type=pa.list_(pa.dictionary(pa.int16(), pa.string())),\n",
    "# )\n",
    "# tbl = pa.Table.from_pydict(dict(col=col))\n",
    "# df = pl.from_arrow(tbl)\n",
    "with pl.StringCache():\n",
    "    df = pl.DataFrame(\n",
    "        {\n",
    "            \"col\": [\n",
    "                np.random.choice([\"a\", \"b\", \"c\"], np.random.randint(1, 5))\n",
    "                for _ in range(10)\n",
    "            ]\n",
    "        },\n",
    "        schema={\"col\": pl.List(pl.Categorical)},\n",
    "    )\n",
    "    res = df.select(pl.col(\"col\")).with_columns(\n",
    "        pl.col(\"col\").list.set_intersection([\"b\", \"c\"]).alias(\"col_subset\")\n",
    "    )\n",
    "    res2 = df.select(pl.col(\"col\")).with_columns(\n",
    "        pl.col(\"col\")\n",
    "        .list.set_intersection([\"b\", \"c\"])\n",
    "        .cast(pl.List(pl.Categorical))\n",
    "        .alias(\"col_subset\")\n",
    "    )"
   ]
  },
  {
   "cell_type": "code",
   "execution_count": null,
   "id": "9701b46d-4e4d-4c0c-878d-d3b40d413798",
   "metadata": {},
   "outputs": [],
   "source": [
    "res"
   ]
  },
  {
   "cell_type": "code",
   "execution_count": null,
   "id": "3b6b8c93-0392-4257-924c-f206b61c4d86",
   "metadata": {},
   "outputs": [],
   "source": [
    "res2"
   ]
  },
  {
   "cell_type": "code",
   "execution_count": null,
   "id": "f0191443-ea33-4b8c-8209-394c41e70a93",
   "metadata": {},
   "outputs": [],
   "source": [
    "pl.show_versions()"
   ]
  }
 ],
 "metadata": {
  "kernelspec": {
   "display_name": "Python 3 (ipykernel)",
   "language": "python",
   "name": "python3"
  },
  "language_info": {
   "codemirror_mode": {
    "name": "ipython",
    "version": 3
   },
   "file_extension": ".py",
   "mimetype": "text/x-python",
   "name": "python",
   "nbconvert_exporter": "python",
   "pygments_lexer": "ipython3",
   "version": "3.10.12"
  }
 },
 "nbformat": 4,
 "nbformat_minor": 5
}
