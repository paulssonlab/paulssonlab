{
 "cells": [
  {
   "cell_type": "code",
   "execution_count": null,
   "id": "41c57f7d-eb34-40e9-b810-10d4c44d68b2",
   "metadata": {},
   "outputs": [],
   "source": [
    "import itertools as it\n",
    "import operator\n",
    "import re\n",
    "from collections import Counter\n",
    "from pathlib import Path\n",
    "\n",
    "import duckdb\n",
    "import gfapy\n",
    "import holoviews as hv\n",
    "import ibis\n",
    "import matplotlib.pyplot as plt\n",
    "import numpy as np\n",
    "import pandas as pd\n",
    "import polars as pl\n",
    "import pyabpoa\n",
    "import pyarrow as pa\n",
    "import pyarrow.compute as pc\n",
    "import pyarrow.dataset as ds\n",
    "import pyfastx\n",
    "import pysam\n",
    "import spoa\n",
    "from pyarrow import csv\n",
    "from tqdm.auto import tqdm, trange"
   ]
  },
  {
   "cell_type": "code",
   "execution_count": null,
   "id": "f4ec68fd-4dab-43a1-a74d-fc2137f04acb",
   "metadata": {},
   "outputs": [],
   "source": [
    "%load_ext autoreload\n",
    "%autoreload 2"
   ]
  },
  {
   "cell_type": "code",
   "execution_count": null,
   "id": "6d3d323b-2fd5-44cd-b9b0-ed41db593de3",
   "metadata": {},
   "outputs": [],
   "source": [
    "import paulssonlab.sequencing.io as sio"
   ]
  },
  {
   "cell_type": "code",
   "execution_count": null,
   "id": "f117a156-f6f6-423f-81be-bb5eed890a23",
   "metadata": {},
   "outputs": [],
   "source": [
    "hv.extension(\"bokeh\")"
   ]
  },
  {
   "cell_type": "code",
   "execution_count": null,
   "id": "ab1a37e0-1304-4373-a431-bdbd42cff000",
   "metadata": {},
   "outputs": [],
   "source": [
    "%load_ext pyinstrument\n",
    "import line_profiler\n",
    "import pyinstrument\n",
    "\n",
    "%load_ext line_profiler"
   ]
  },
  {
   "cell_type": "markdown",
   "id": "0d050f91-79f4-491b-a4c4-a208210eff14",
   "metadata": {},
   "source": [
    "# Config"
   ]
  },
  {
   "cell_type": "code",
   "execution_count": null,
   "id": "6589476b-6033-46ed-9b8f-c4f1d115469f",
   "metadata": {},
   "outputs": [],
   "source": [
    "data_dir = Path(\n",
    "    \"/home/jqs1/scratch/jqs1/sequencing/230930_alignment_test/230707_repressilators/\"\n",
    ")"
   ]
  },
  {
   "cell_type": "code",
   "execution_count": null,
   "id": "c5d6c6f1-bd0c-462e-881d-ea12374fd54a",
   "metadata": {},
   "outputs": [],
   "source": [
    "arrow_ds = ds.dataset(list(data_dir.glob(\"*.arrow\")), format=\"arrow\")\n",
    "arrow_ds2 = ds.dataset(list(data_dir.glob(\"*.arrow\"))[:1], format=\"arrow\")\n",
    "parquet_ds = ds.dataset(list(data_dir.glob(\"*.parquet\")), format=\"parquet\")"
   ]
  },
  {
   "cell_type": "markdown",
   "id": "48f6ed4f-19b4-4692-9d1d-71652382dc3b",
   "metadata": {},
   "source": [
    "# Group by path"
   ]
  },
  {
   "cell_type": "markdown",
   "id": "2fdd0ddb-0693-4417-9e26-f0232df69770",
   "metadata": {},
   "source": [
    "## Setup"
   ]
  },
  {
   "cell_type": "code",
   "execution_count": null,
   "id": "a68f3109-d782-458d-b7c0-5c0efe5bcd9a",
   "metadata": {},
   "outputs": [],
   "source": [
    "gfa = gfapy.Gfa.from_file(\n",
    "    \"/home/jqs1/scratch/jqs1/sequencing/230930_alignment_test/barcode.gfa\"\n",
    ")"
   ]
  },
  {
   "cell_type": "code",
   "execution_count": null,
   "id": "0ed4305f-f2b0-47fe-9e49-67015494507f",
   "metadata": {},
   "outputs": [],
   "source": [
    "bc_segments_oriented = [\n",
    "    [f\"{o}{s}\" for s in gfa.segment_names if s.startswith(\"BC:\")] for o in \"><\"\n",
    "]"
   ]
  },
  {
   "cell_type": "code",
   "execution_count": null,
   "id": "f1e29f97-9ac6-42b2-bbcc-231f06b174ec",
   "metadata": {},
   "outputs": [],
   "source": [
    "bc_segments = [\n",
    "    f\"{o}{s}\" for s in gfa.segment_names if s.startswith(\"BC:BIT\") for o in \"><\"\n",
    "]"
   ]
  },
  {
   "cell_type": "code",
   "execution_count": null,
   "id": "b1b1ae9c-228e-45b5-af5a-345759ed5699",
   "metadata": {},
   "outputs": [],
   "source": [
    "reverse_path_mapping = {\n",
    "    f\"{o[0]}{s}\": f\"{o[1]}{s}\" for s in gfa.segment_names for o in [\"<>\", \"><\"]\n",
    "}"
   ]
  },
  {
   "cell_type": "markdown",
   "id": "13ee4af8-1585-47dc-9896-8523b10d3437",
   "metadata": {},
   "source": [
    "## Polars"
   ]
  },
  {
   "cell_type": "code",
   "execution_count": null,
   "id": "3d7075b0-66c7-4024-abd0-a777e99341e6",
   "metadata": {},
   "outputs": [],
   "source": [
    "def consensus_func(df):\n",
    "    return (\n",
    "        df.with_columns(\n",
    "            pl.col(\"name\").str.contains(\";\").alias(\"is_duplex\"),\n",
    "            pl.col(\"name\").str.contains(\";\").not_().alias(\"is_simplex\"),\n",
    "        )\n",
    "        .with_columns(\n",
    "            pl.sum(\"is_simplex\").alias(\"depth_simplex\"),\n",
    "            pl.sum(\"is_duplex\").alias(\"depth_duplex\"),\n",
    "        )\n",
    "        .select(\n",
    "            pl.col(\n",
    "                \"path_subset\",\n",
    "                \"read_seq\",\n",
    "                \"read_phred\",\n",
    "                \"depth_simplex\",\n",
    "                \"depth_duplex\",\n",
    "            )\n",
    "        )\n",
    "        .head(1)\n",
    "    )"
   ]
  },
  {
   "cell_type": "code",
   "execution_count": null,
   "id": "3c5bbb52-4098-4fa1-9e49-b509e460aab8",
   "metadata": {},
   "outputs": [],
   "source": [
    "%%time\n",
    "with pl.StringCache():\n",
    "    # df = pl.scan_pyarrow_dataset(arrow_ds)\n",
    "    df = pl.scan_ipc(str(data_dir / \"*.arrow\"))\n",
    "    res = (\n",
    "        df.with_columns(  # .limit(100_000)\n",
    "            pl.col(\"path\").list.set_intersection(bc_segments)\n",
    "            # TODO: waiting on https://github.com/pola-rs/polars/issues/11735\n",
    "            # to keep path columns as categorical\n",
    "            # .cast(pl.List(pl.Categorical))\n",
    "            .alias(\"_path_subset\"),\n",
    "        )\n",
    "        .with_columns(\n",
    "            pl.col(\"_path_subset\")\n",
    "            .list.reverse()\n",
    "            .list.eval(pl.element().map_dict(reverse_path_mapping))\n",
    "            .alias(\"_path_subset_reversed\"),\n",
    "            (\n",
    "                pl.col(\"path\").list.set_intersection(bc_segments_oriented[0]).list.len()\n",
    "                > 0\n",
    "            ).alias(\"_is_forward\"),\n",
    "            (\n",
    "                pl.col(\"path\").list.set_intersection(bc_segments_oriented[1]).list.len()\n",
    "                > 0\n",
    "            ).alias(\"_is_reverse\"),\n",
    "        )\n",
    "        .with_columns(\n",
    "            pl.when(pl.col(\"_is_forward\") & pl.col(\"_is_reverse\").not_())\n",
    "            .then(False)\n",
    "            .when(pl.col(\"_is_forward\").not_() & pl.col(\"_is_reverse\"))\n",
    "            .then(True)\n",
    "            .otherwise(None)\n",
    "            .alias(\"reverse_complement\"),\n",
    "        )\n",
    "        .with_columns(\n",
    "            pl.when(pl.col(\"reverse_complement\") == False)\n",
    "            .then(pl.col(\"_path_subset\"))\n",
    "            .when(pl.col(\"reverse_complement\") == True)\n",
    "            .then(pl.col(\"_path_subset_reversed\"))\n",
    "            .cast(pl.List(pl.Categorical))\n",
    "            .alias(\"path_subset\")\n",
    "        )\n",
    "        # .filter(pl.col(\"path_subset\").hash() % 10 == 3)\n",
    "        .filter(pl.col(\"path_subset\").list.len() == 30)  # TODO\n",
    "        .select(\n",
    "            pl.col(\n",
    "                \"name\",\n",
    "                \"read_seq\",\n",
    "                \"read_phred\",\n",
    "                \"reverse_complement\",\n",
    "                \"path\",\n",
    "                \"path_subset\",\n",
    "            )\n",
    "        )\n",
    "        .group_by(\"path_subset\")\n",
    "        # .agg(pl.col(\"name\", \"read_seq\", \"read_phred\", \"reverse_complement\"))\n",
    "        .map_groups(\n",
    "            consensus_func,\n",
    "            schema=dict(\n",
    "                path_subset=pl.List(pl.Categorical),\n",
    "                read_seq=pl.Utf8,\n",
    "                read_phred=pl.Utf8,\n",
    "                depth_simplex=pl.UInt64,\n",
    "                depth_duplex=pl.UInt64,\n",
    "            ),\n",
    "        )\n",
    "    ).collect()  # .write_ipc(\"test_groups2.arrow\", compression=\"lz4\") #.collect()\n",
    "# res"
   ]
  },
  {
   "cell_type": "code",
   "execution_count": null,
   "id": "85149fdb-38c5-42de-84e4-7a6ff3735a1a",
   "metadata": {},
   "outputs": [],
   "source": [
    "%%time\n",
    "res.write_ipc(\"test_groups_full_lz4.arrow\", compression=\"lz4\")"
   ]
  },
  {
   "cell_type": "code",
   "execution_count": null,
   "id": "b22e123b-4e01-4e70-a6e7-691243be85b6",
   "metadata": {},
   "outputs": [],
   "source": [
    "%%time\n",
    "res.write_ipc(\"test_groups_full_lz4.arrow\", compression=\"lz4\")"
   ]
  },
  {
   "cell_type": "code",
   "execution_count": null,
   "id": "7bc3be1f-ccd0-4290-bee9-8e3865e27a82",
   "metadata": {},
   "outputs": [],
   "source": [
    "len(res)"
   ]
  },
  {
   "cell_type": "code",
   "execution_count": null,
   "id": "7e226899-debb-431d-aade-ec5505d73a57",
   "metadata": {},
   "outputs": [],
   "source": [
    "res.estimated_size() / 1e9"
   ]
  },
  {
   "cell_type": "code",
   "execution_count": null,
   "id": "826e1e59-ce7b-40c2-a2ca-5c33a8f7d0e4",
   "metadata": {},
   "outputs": [],
   "source": [
    "test_groups = res"
   ]
  },
  {
   "cell_type": "code",
   "execution_count": null,
   "id": "4d14bb3c-414c-4571-b890-102927582414",
   "metadata": {},
   "outputs": [],
   "source": [
    "%%time\n",
    "import pyarrow.feather\n",
    "\n",
    "test_groups = pl.read_ipc(\"test_groups_full.arrow\")"
   ]
  },
  {
   "cell_type": "code",
   "execution_count": null,
   "id": "62d781fd-bcec-4121-9f38-e6d59fbb9ca3",
   "metadata": {},
   "outputs": [],
   "source": [
    "test_groups.select(pl.col(\"name\")).with_columns(pl.col(\"name\").list.len()).filter(\n",
    "    pl.col(\"name\") != 1\n",
    ").sort(\"name\")"
   ]
  },
  {
   "cell_type": "code",
   "execution_count": null,
   "id": "7f203443-c5e9-4c9c-ab5b-e59392773f2e",
   "metadata": {},
   "outputs": [],
   "source": [
    "test_reads = test_groups[10].select(\n",
    "    pl.col(\"name\", \"read_seq\", \"read_phred\").list.explode()\n",
    ")"
   ]
  },
  {
   "cell_type": "code",
   "execution_count": null,
   "id": "69cb0a49-a7c0-46be-bd8d-2deefaf9d241",
   "metadata": {},
   "outputs": [],
   "source": [
    "test_reads"
   ]
  },
  {
   "cell_type": "code",
   "execution_count": null,
   "id": "6da17071-1d80-4487-ae82-daea2143fd75",
   "metadata": {},
   "outputs": [],
   "source": [
    "aligner = pyabpoa.msa_aligner()\n",
    "seqs = test_reads.get_column(\"read_seq\").to_list()\n",
    "res = aligner.msa(seqs, out_cons=True, out_msa=True)\n",
    "\n",
    "for seq in res.cons_seq:\n",
    "    print(seq)  # print consensus sequence\n",
    "\n",
    "res.print_msa()  # print row-column multiple sequence alignment in PIR format"
   ]
  },
  {
   "cell_type": "code",
   "execution_count": null,
   "id": "ca388706-3322-4e0c-93da-c88e8d93afd9",
   "metadata": {},
   "outputs": [],
   "source": [
    "aligner = pyabpoa.msa_aligner()"
   ]
  },
  {
   "cell_type": "code",
   "execution_count": null,
   "id": "781d53bc-00d7-4f83-8f70-d73f64296f31",
   "metadata": {},
   "outputs": [],
   "source": [
    "consensus, msa = spoa.poa([\"AACTTATA\", \"AACTTATG\", \"AACTATA\"])"
   ]
  },
  {
   "cell_type": "code",
   "execution_count": null,
   "id": "5e8c8831-1a70-4e58-98be-e6fb180caa5a",
   "metadata": {},
   "outputs": [],
   "source": [
    "%%time\n",
    "consensus, msa = spoa.poa(test_reads.get_column(\"read_seq\").to_list())"
   ]
  },
  {
   "cell_type": "code",
   "execution_count": null,
   "id": "c5cac982-ac0a-4e36-84f9-e596f80f33fa",
   "metadata": {},
   "outputs": [],
   "source": [
    "consensus"
   ]
  },
  {
   "cell_type": "code",
   "execution_count": null,
   "id": "d7ac62dc-8310-41a7-9759-5899664b2dd6",
   "metadata": {},
   "outputs": [],
   "source": [
    "print(\"\\n\".join(msa))"
   ]
  },
  {
   "cell_type": "code",
   "execution_count": null,
   "id": "7ec185a6-67ff-40c7-8a8a-554960d504b1",
   "metadata": {},
   "outputs": [],
   "source": [
    "?poa"
   ]
  },
  {
   "cell_type": "code",
   "execution_count": null,
   "id": "c5a9fee5-f84e-4c5f-8b18-e4adfb2d0427",
   "metadata": {},
   "outputs": [],
   "source": [
    "!micromamba remove -y pyabpoa"
   ]
  },
  {
   "cell_type": "markdown",
   "id": "4c882f2c-0074-4580-b15d-3e3be2061af1",
   "metadata": {},
   "source": [
    "## DuckDB"
   ]
  },
  {
   "cell_type": "code",
   "execution_count": null,
   "id": "e73f64cb-12b2-4b51-aa49-00e952d4ee28",
   "metadata": {},
   "outputs": [],
   "source": [
    "%%time\n",
    "res = duckdb.execute(\n",
    "    \"SELECT path, list_intersect(path, $bc_segments) FROM arrow_ds2 LIMIT 2\",\n",
    "    dict(bc_segments=bc_segments),\n",
    ").arrow()"
   ]
  },
  {
   "cell_type": "code",
   "execution_count": null,
   "id": "5e28e6b0-9f45-4961-a5ff-304312a61f74",
   "metadata": {},
   "outputs": [],
   "source": [
    "res"
   ]
  }
 ],
 "metadata": {
  "kernelspec": {
   "display_name": "Python 3 (ipykernel)",
   "language": "python",
   "name": "python3"
  },
  "language_info": {
   "codemirror_mode": {
    "name": "ipython",
    "version": 3
   },
   "file_extension": ".py",
   "mimetype": "text/x-python",
   "name": "python",
   "nbconvert_exporter": "python",
   "pygments_lexer": "ipython3",
   "version": "3.10.12"
  }
 },
 "nbformat": 4,
 "nbformat_minor": 5
}
