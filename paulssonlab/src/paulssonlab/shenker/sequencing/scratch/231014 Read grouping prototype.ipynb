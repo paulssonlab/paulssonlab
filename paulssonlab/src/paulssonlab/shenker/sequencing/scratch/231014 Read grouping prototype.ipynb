{
 "cells": [
  {
   "cell_type": "code",
   "execution_count": null,
   "id": "41c57f7d-eb34-40e9-b810-10d4c44d68b2",
   "metadata": {},
   "outputs": [],
   "source": [
    "import itertools as it\n",
    "import operator\n",
    "import re\n",
    "from collections import Counter\n",
    "from pathlib import Path\n",
    "\n",
    "import duckdb\n",
    "import gfapy\n",
    "import holoviews as hv\n",
    "import ibis\n",
    "import matplotlib.pyplot as plt\n",
    "import numpy as np\n",
    "import pandas as pd\n",
    "import polars as pl\n",
    "import pyabpoa\n",
    "import pyarrow as pa\n",
    "import pyarrow.compute as pc\n",
    "import pyarrow.dataset as ds\n",
    "import pyfastx\n",
    "import pysam\n",
    "import spoa\n",
    "from pyarrow import csv\n",
    "from tqdm.auto import tqdm, trange"
   ]
  },
  {
   "cell_type": "code",
   "execution_count": null,
   "id": "f4ec68fd-4dab-43a1-a74d-fc2137f04acb",
   "metadata": {},
   "outputs": [],
   "source": [
    "%load_ext autoreload\n",
    "%autoreload 2"
   ]
  },
  {
   "cell_type": "code",
   "execution_count": null,
   "id": "6d3d323b-2fd5-44cd-b9b0-ed41db593de3",
   "metadata": {},
   "outputs": [],
   "source": [
    "import paulssonlab.sequencing.io as sio"
   ]
  },
  {
   "cell_type": "code",
   "execution_count": null,
   "id": "f117a156-f6f6-423f-81be-bb5eed890a23",
   "metadata": {},
   "outputs": [],
   "source": [
    "hv.extension(\"bokeh\")"
   ]
  },
  {
   "cell_type": "code",
   "execution_count": null,
   "id": "ab1a37e0-1304-4373-a431-bdbd42cff000",
   "metadata": {},
   "outputs": [],
   "source": [
    "%load_ext pyinstrument\n",
    "import line_profiler\n",
    "import pyinstrument\n",
    "\n",
    "%load_ext line_profiler"
   ]
  },
  {
   "cell_type": "markdown",
   "id": "0d050f91-79f4-491b-a4c4-a208210eff14",
   "metadata": {},
   "source": [
    "# Config"
   ]
  },
  {
   "cell_type": "code",
   "execution_count": null,
   "id": "6589476b-6033-46ed-9b8f-c4f1d115469f",
   "metadata": {},
   "outputs": [],
   "source": [
    "data_dir = Path(\n",
    "    \"/home/jqs1/scratch/jqs1/sequencing/230930_alignment_test/230707_repressilators/\"\n",
    ")"
   ]
  },
  {
   "cell_type": "code",
   "execution_count": null,
   "id": "c5d6c6f1-bd0c-462e-881d-ea12374fd54a",
   "metadata": {},
   "outputs": [],
   "source": [
    "arrow_ds = ds.dataset(list(data_dir.glob(\"*.arrow\")), format=\"arrow\")\n",
    "arrow_ds2 = ds.dataset(list(data_dir.glob(\"*.arrow\"))[:1], format=\"arrow\")\n",
    "parquet_ds = ds.dataset(list(data_dir.glob(\"*.parquet\")), format=\"parquet\")"
   ]
  },
  {
   "cell_type": "markdown",
   "id": "48f6ed4f-19b4-4692-9d1d-71652382dc3b",
   "metadata": {},
   "source": [
    "# Group by path"
   ]
  },
  {
   "cell_type": "markdown",
   "id": "2fdd0ddb-0693-4417-9e26-f0232df69770",
   "metadata": {},
   "source": [
    "## Setup"
   ]
  },
  {
   "cell_type": "code",
   "execution_count": null,
   "id": "a68f3109-d782-458d-b7c0-5c0efe5bcd9a",
   "metadata": {},
   "outputs": [],
   "source": [
    "gfa = gfapy.Gfa.from_file(\n",
    "    \"/home/jqs1/scratch/jqs1/sequencing/230930_alignment_test/barcode.gfa\"\n",
    ")"
   ]
  },
  {
   "cell_type": "code",
   "execution_count": null,
   "id": "0ed4305f-f2b0-47fe-9e49-67015494507f",
   "metadata": {},
   "outputs": [],
   "source": [
    "bc_segments_oriented = [\n",
    "    [f\"{o}{s}\" for s in gfa.segment_names if s.startswith(\"BC:\")] for o in \"><\"\n",
    "]"
   ]
  },
  {
   "cell_type": "code",
   "execution_count": null,
   "id": "f1e29f97-9ac6-42b2-bbcc-231f06b174ec",
   "metadata": {},
   "outputs": [],
   "source": [
    "bc_segments = [\n",
    "    f\"{o}{s}\" for s in gfa.segment_names if s.startswith(\"BC:BIT\") for o in \"><\"\n",
    "]"
   ]
  },
  {
   "cell_type": "code",
   "execution_count": null,
   "id": "b1b1ae9c-228e-45b5-af5a-345759ed5699",
   "metadata": {},
   "outputs": [],
   "source": [
    "reverse_path_mapping = {\n",
    "    f\"{o[0]}{s}\": f\"{o[1]}{s}\" for s in gfa.segment_names for o in [\"<>\", \"><\"]\n",
    "}"
   ]
  },
  {
   "cell_type": "markdown",
   "id": "13ee4af8-1585-47dc-9896-8523b10d3437",
   "metadata": {},
   "source": [
    "## Polars"
   ]
  },
  {
   "cell_type": "code",
   "execution_count": null,
   "id": "3c5bbb52-4098-4fa1-9e49-b509e460aab8",
   "metadata": {},
   "outputs": [],
   "source": [
    "df = pl.scan_pyarrow_dataset(arrow_ds2)\n",
    "with pl.StringCache():\n",
    "    res = (\n",
    "        df.select(pl.col(\"path\"))\n",
    "        .limit(10)\n",
    "        .with_columns(\n",
    "            pl.col(\"path\")\n",
    "            .list.set_intersection(bc_segments)\n",
    "            .cast(pl.List(pl.Categorical))\n",
    "            .alias(\"path_subset\"),\n",
    "        )\n",
    "        .with_columns(\n",
    "            pl.col(\"path_subset\")\n",
    "            .list.reverse()\n",
    "            .list.eval(pl.element().map_dict(reverse_path_mapping))\n",
    "            .alias(\"path_subset_reversed\"),\n",
    "            (\n",
    "                pl.col(\"path_subset\")\n",
    "                .list.set_intersection(bc_segments_oriented[0])\n",
    "                .list.len()\n",
    "                > 0\n",
    "            ).alias(\"is_forward\"),\n",
    "            (\n",
    "                pl.col(\"path_subset\")\n",
    "                .list.set_intersection(bc_segments_oriented[1])\n",
    "                .list.len()\n",
    "                > 0\n",
    "            ).alias(\"is_reverse\"),\n",
    "        )\n",
    "        .with_columns(\n",
    "            pl.when(pl.col(\"is_forward\") & pl.col(\"is_reverse\").not_())\n",
    "            .then(True)\n",
    "            .when(pl.col(\"is_forward\").not_() & pl.col(\"is_reverse\"))\n",
    "            .then(pl.lit(False))\n",
    "            .otherwise(pl.lit(None))\n",
    "            .alias(\"orientation\"),  # how does this compare to strand?\n",
    "        )\n",
    "        .with_columns(\n",
    "            pl.when(pl.col(\"orientation\") == True)\n",
    "            .then(pl.col(\"path_subset\"))\n",
    "            .when(pl.col(\"orientation\") == False)\n",
    "            .then(pl.col(\"path_subset_reversed\"))\n",
    "            .otherwise(pl.col(\"path_subset_reversed\"))\n",
    "            # pl.when(pl.col(\"orientation\") == True)\n",
    "            # .then(pl.col(\"path_subset\"))\n",
    "            # .then(pl.lit(1))\n",
    "            # .when(pl.col(\"orientation\") == False)\n",
    "            # .then(pl.col(\"path_subset_reversed\"))\n",
    "            # .then(pl.lit(2))\n",
    "            # .otherwise(pl.lit(0))\n",
    "            # .otherwise(pl.col(\"path_subset_reversed\"))\n",
    "            .alias(\"path_subset_normalized\")\n",
    "        )\n",
    "    ).collect()\n",
    "res"
   ]
  },
  {
   "cell_type": "code",
   "execution_count": null,
   "id": "d8daa845-d363-40db-a275-f38734b61269",
   "metadata": {},
   "outputs": [],
   "source": [
    "arrow_ds2.schema"
   ]
  },
  {
   "cell_type": "code",
   "execution_count": null,
   "id": "e7581bb1-20a7-4fba-b853-81a09b236252",
   "metadata": {},
   "outputs": [],
   "source": [
    "df = pl.scan_pyarrow_dataset(arrow_ds2)\n",
    "with pl.StringCache():\n",
    "    res = (\n",
    "        df.limit(10)\n",
    "        .with_columns(\n",
    "            pl.col(\"path\")\n",
    "            .list.set_intersection(bc_segments)\n",
    "            .cast(pl.List(pl.Categorical))\n",
    "            .alias(\"path_subset\"),\n",
    "        )\n",
    "        .with_columns(\n",
    "            pl.col(\"path_subset\")\n",
    "            .list.reverse()\n",
    "            .list.eval(pl.element().map_dict(reverse_path_mapping))\n",
    "            .alias(\"path_subset_reversed\"),\n",
    "            (\n",
    "                pl.col(\"path_subset\")\n",
    "                .list.set_intersection(bc_segments_oriented[0])\n",
    "                .list.len()\n",
    "                > 0\n",
    "            ).alias(\"is_forward\"),\n",
    "            (\n",
    "                pl.col(\"path_subset\")\n",
    "                .list.set_intersection(bc_segments_oriented[1])\n",
    "                .list.len()\n",
    "                > 0\n",
    "            ).alias(\"is_reverse\"),\n",
    "        )\n",
    "        .with_columns(\n",
    "            pl.when(pl.col(\"is_forward\") & pl.col(\"is_reverse\").not_())\n",
    "            .then(True)\n",
    "            .when(pl.col(\"is_forward\").not_() & pl.col(\"is_reverse\"))\n",
    "            .then(pl.lit(False))\n",
    "            .otherwise(pl.lit(None))\n",
    "            .alias(\"orientation\"),  # how does this compare to strand?\n",
    "        )\n",
    "        .with_columns(\n",
    "            pl.when(pl.col(\"orientation\") == True)\n",
    "            .then(pl.col(\"path_subset\"))\n",
    "            .when(pl.col(\"orientation\") == False)\n",
    "            .then(pl.col(\"path_subset_reversed\").list.reverse())\n",
    "            # .otherwise([])\n",
    "            # .otherwise(pl.col(\"path_subset_reversed\"))\n",
    "            # pl.when(pl.col(\"orientation\") == True)\n",
    "            # .then(pl.col(\"path_subset\"))\n",
    "            # .then(pl.lit(1))\n",
    "            # .when(pl.col(\"orientation\") == False)\n",
    "            # .then(pl.col(\"path_subset_reversed\"))\n",
    "            # .then(pl.lit(2))\n",
    "            # .otherwise(pl.lit(0))\n",
    "            # .otherwise(pl.col(\"path_subset_reversed\"))\n",
    "            .alias(\"path_subset_normalized\")\n",
    "        )\n",
    "        .select(pl.col(\"path_subset_normalized\", \"read_seq\", \"read_phred\"))\n",
    "    ).collect()\n",
    "res"
   ]
  },
  {
   "cell_type": "code",
   "execution_count": null,
   "id": "ce8b1276-cbbc-4e35-b53b-98943b908c47",
   "metadata": {},
   "outputs": [],
   "source": [
    "def consensus_func(df):\n",
    "    return (\n",
    "        df.with_columns(\n",
    "            pl.col(\"name\").str.contains(\";\").alias(\"is_duplex\"),\n",
    "            pl.col(\"name\").str.contains(\";\").not_().alias(\"is_simplex\"),\n",
    "        )\n",
    "        .with_columns(\n",
    "            pl.sum(\"is_simplex\").alias(\"depth_simplex\"),\n",
    "            pl.sum(\"is_duplex\").alias(\"depth_duplex\"),\n",
    "        )\n",
    "        .select(\n",
    "            pl.col(\n",
    "                \"path_subset_normalized\",\n",
    "                \"read_seq\",\n",
    "                \"read_phred\",\n",
    "                \"depth_simplex\",\n",
    "                \"depth_duplex\",\n",
    "            )\n",
    "        )\n",
    "        .head(1)\n",
    "    )"
   ]
  },
  {
   "cell_type": "code",
   "execution_count": null,
   "id": "60a85c08-2f0a-4379-8c6f-98abd01edb77",
   "metadata": {},
   "outputs": [],
   "source": [
    "df.limit(10).with_columns(\n",
    "    pl.col(\"name\").str.contains(\";\").alias(\"is_duplex\")\n",
    ").with_columns(pl.count(\"is_duplex\").alias(\"num_duplex\")).collect()"
   ]
  },
  {
   "cell_type": "code",
   "execution_count": null,
   "id": "1eefd2a6-83f2-4f3c-aa04-41248f8d309a",
   "metadata": {},
   "outputs": [],
   "source": [
    "%%time\n",
    "df = pl.scan_pyarrow_dataset(arrow_ds)\n",
    "with pl.StringCache():\n",
    "    res = (\n",
    "        (\n",
    "            df.with_columns(  # .limit(10000)\n",
    "                pl.col(\"path\")\n",
    "                .list.set_intersection(bc_segments)\n",
    "                .cast(pl.List(pl.Categorical))\n",
    "                .alias(\"path_subset\"),\n",
    "            )\n",
    "            .with_columns(\n",
    "                pl.col(\"path_subset\")\n",
    "                .list.reverse()\n",
    "                .list.eval(pl.element().map_dict(reverse_path_mapping))\n",
    "                .alias(\"path_subset_reversed\"),\n",
    "                (\n",
    "                    pl.col(\"path\")\n",
    "                    .list.set_intersection(bc_segments_oriented[0])\n",
    "                    .list.len()\n",
    "                    > 0\n",
    "                ).alias(\"is_forward\"),\n",
    "                (\n",
    "                    pl.col(\"path\")\n",
    "                    .list.set_intersection(bc_segments_oriented[1])\n",
    "                    .list.len()\n",
    "                    > 0\n",
    "                ).alias(\"is_reverse\"),\n",
    "            )\n",
    "            .with_columns(\n",
    "                pl.when(pl.col(\"is_forward\") & pl.col(\"is_reverse\").not_())\n",
    "                .then(True)\n",
    "                .when(pl.col(\"is_forward\").not_() & pl.col(\"is_reverse\"))\n",
    "                .then(False)\n",
    "                .otherwise(None)\n",
    "                .alias(\"orientation\"),  # how does this compare to strand?\n",
    "            )\n",
    "            .with_columns(\n",
    "                pl.when(pl.col(\"orientation\") == True)\n",
    "                .then(pl.col(\"path_subset\"))\n",
    "                .when(pl.col(\"orientation\") == False)\n",
    "                .then(pl.col(\"path_subset_reversed\").list.reverse())\n",
    "                .alias(\"path_subset_normalized\")\n",
    "            )\n",
    "            .filter(pl.col(\"path_subset_normalized\").hash() % 17 == 3)\n",
    "            .select(pl.col(\"path_subset_normalized\", \"name\", \"read_seq\", \"read_phred\"))\n",
    "        )\n",
    "        .group_by(\"path_subset_normalized\")\n",
    "        .map_groups(\n",
    "            consensus_func,\n",
    "            schema=dict(\n",
    "                path_subset_normalized=pl.List(pl.Categorical),\n",
    "                read_seq=pl.Utf8,\n",
    "                read_phred=pl.Utf8,\n",
    "                depth_simplex=pl.UInt64,\n",
    "                depth_duplex=pl.UInt64,\n",
    "            ),\n",
    "        )\n",
    "        .collect()\n",
    "    )\n",
    "    # .agg(pl.col(\"read_seq\", \"read_phred\").map_elements(consensus_func))\n",
    "res"
   ]
  },
  {
   "cell_type": "code",
   "execution_count": null,
   "id": "84f8bf61-fbe1-4f71-aaed-59082cf3b928",
   "metadata": {},
   "outputs": [],
   "source": [
    "df.schema[\"path\"]"
   ]
  },
  {
   "cell_type": "code",
   "execution_count": null,
   "id": "4bd101a0-1580-4c4f-9911-93b52c369498",
   "metadata": {},
   "outputs": [],
   "source": [
    "x = res[1]"
   ]
  },
  {
   "cell_type": "code",
   "execution_count": null,
   "id": "2f7fbd87-9686-43f0-b294-9a829dfcd681",
   "metadata": {},
   "outputs": [],
   "source": [
    "x[\"path_subset_normalized\"]"
   ]
  },
  {
   "cell_type": "markdown",
   "id": "4c882f2c-0074-4580-b15d-3e3be2061af1",
   "metadata": {},
   "source": [
    "## DuckDB"
   ]
  },
  {
   "cell_type": "code",
   "execution_count": null,
   "id": "e73f64cb-12b2-4b51-aa49-00e952d4ee28",
   "metadata": {},
   "outputs": [],
   "source": [
    "%%time\n",
    "res = duckdb.execute(\n",
    "    \"SELECT path, list_intersect(path, $bc_segments) FROM arrow_ds2 LIMIT 2\",\n",
    "    dict(bc_segments=bc_segments),\n",
    ").arrow()"
   ]
  },
  {
   "cell_type": "code",
   "execution_count": null,
   "id": "5e28e6b0-9f45-4961-a5ff-304312a61f74",
   "metadata": {},
   "outputs": [],
   "source": [
    "res"
   ]
  }
 ],
 "metadata": {
  "kernelspec": {
   "display_name": "Python 3 (ipykernel)",
   "language": "python",
   "name": "python3"
  },
  "language_info": {
   "codemirror_mode": {
    "name": "ipython",
    "version": 3
   },
   "file_extension": ".py",
   "mimetype": "text/x-python",
   "name": "python",
   "nbconvert_exporter": "python",
   "pygments_lexer": "ipython3",
   "version": "3.10.12"
  }
 },
 "nbformat": 4,
 "nbformat_minor": 5
}
