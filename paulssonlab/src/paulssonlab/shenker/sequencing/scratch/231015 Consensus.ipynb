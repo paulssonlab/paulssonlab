{
 "cells": [
  {
   "cell_type": "code",
   "execution_count": null,
   "id": "41c57f7d-eb34-40e9-b810-10d4c44d68b2",
   "metadata": {},
   "outputs": [],
   "source": [
    "import itertools as it\n",
    "import operator\n",
    "import re\n",
    "from collections import Counter\n",
    "from pathlib import Path\n",
    "\n",
    "import duckdb\n",
    "import gfapy\n",
    "import holoviews as hv\n",
    "import ibis\n",
    "import matplotlib.pyplot as plt\n",
    "import numpy as np\n",
    "import pandas as pd\n",
    "import polars as pl\n",
    "import pyabpoa\n",
    "import pyarrow as pa\n",
    "import pyarrow.compute as pc\n",
    "import pyarrow.dataset as ds\n",
    "import pyfastx\n",
    "import pysam\n",
    "import spoa\n",
    "from pyarrow import csv\n",
    "from tqdm.auto import tqdm, trange"
   ]
  },
  {
   "cell_type": "code",
   "execution_count": null,
   "id": "f4ec68fd-4dab-43a1-a74d-fc2137f04acb",
   "metadata": {},
   "outputs": [],
   "source": [
    "%load_ext autoreload\n",
    "%autoreload 2"
   ]
  },
  {
   "cell_type": "code",
   "execution_count": null,
   "id": "6d3d323b-2fd5-44cd-b9b0-ed41db593de3",
   "metadata": {},
   "outputs": [],
   "source": [
    "import paulssonlab.sequencing.io as sio"
   ]
  },
  {
   "cell_type": "code",
   "execution_count": null,
   "id": "f117a156-f6f6-423f-81be-bb5eed890a23",
   "metadata": {},
   "outputs": [],
   "source": [
    "hv.extension(\"bokeh\")"
   ]
  },
  {
   "cell_type": "code",
   "execution_count": null,
   "id": "ab1a37e0-1304-4373-a431-bdbd42cff000",
   "metadata": {},
   "outputs": [],
   "source": [
    "%load_ext pyinstrument\n",
    "import line_profiler\n",
    "import pyinstrument\n",
    "\n",
    "%load_ext line_profiler"
   ]
  },
  {
   "cell_type": "markdown",
   "id": "48f6ed4f-19b4-4692-9d1d-71652382dc3b",
   "metadata": {},
   "source": [
    "# Consensus"
   ]
  },
  {
   "cell_type": "code",
   "execution_count": null,
   "id": "4d14bb3c-414c-4571-b890-102927582414",
   "metadata": {},
   "outputs": [],
   "source": [
    "test_groups = pl.read_ipc(\"test_groups_full.arrow\")"
   ]
  },
  {
   "cell_type": "code",
   "execution_count": null,
   "id": "62d781fd-bcec-4121-9f38-e6d59fbb9ca3",
   "metadata": {},
   "outputs": [],
   "source": [
    "group_depths = (\n",
    "    test_groups.select(pl.col(\"name\"))\n",
    "    .with_columns(pl.col(\"name\").list.len())\n",
    "    .filter(pl.col(\"name\") > 1)\n",
    "    .sort(\"name\", descending=True)\n",
    "    .to_numpy()\n",
    ")"
   ]
  },
  {
   "cell_type": "code",
   "execution_count": null,
   "id": "e3a7fc0a-d92f-42fb-a0b2-b071e74b9481",
   "metadata": {},
   "outputs": [],
   "source": [
    "plt.plot(group_depths[:, 0])"
   ]
  },
  {
   "cell_type": "code",
   "execution_count": null,
   "id": "cd7e5bda-5c84-40d9-8ab2-dafbe68edb00",
   "metadata": {},
   "outputs": [],
   "source": [
    "%%time\n",
    "test_groups_subset = test_groups.filter(pl.col(\"name\").list.len().is_between(20, 25))"
   ]
  },
  {
   "cell_type": "code",
   "execution_count": null,
   "id": "7f203443-c5e9-4c9c-ab5b-e59392773f2e",
   "metadata": {},
   "outputs": [],
   "source": [
    "test_reads = (\n",
    "    test_groups_subset[20]\n",
    "    .select(pl.col(\"name\", \"read_seq\", \"read_phred\").list.explode())\n",
    "    .with_columns(\n",
    "        pl.col(\"read_seq\").str.len_bytes().alias(\"read_len\"),\n",
    "        pl.col(\"name\").str.contains(\";\").alias(\"is_duplex\"),\n",
    "        pl.col(\"name\").str.contains(\";\").not_().alias(\"is_simplex\"),\n",
    "    )\n",
    "    .with_columns(\n",
    "        pl.sum(\"is_simplex\").alias(\"depth_simplex\"),\n",
    "        pl.sum(\"is_duplex\").alias(\"depth_duplex\"),\n",
    "    )\n",
    "    .sort(\"is_duplex\", descending=True)\n",
    ")\n",
    "test_reads"
   ]
  },
  {
   "cell_type": "code",
   "execution_count": null,
   "id": "6da17071-1d80-4487-ae82-daea2143fd75",
   "metadata": {},
   "outputs": [],
   "source": [
    "%%time\n",
    "aligner = pyabpoa.msa_aligner()\n",
    "seqs = test_reads.get_column(\"read_seq\").to_list()\n",
    "res = aligner.msa(seqs, out_cons=True, out_msa=True)\n",
    "\n",
    "# for seq in res.cons_seq:\n",
    "#     print(seq)  # print consensus sequence\n",
    "\n",
    "# res.print_msa()  # print row-column multiple sequence alignment in PIR format"
   ]
  },
  {
   "cell_type": "code",
   "execution_count": null,
   "id": "5e8c8831-1a70-4e58-98be-e6fb180caa5a",
   "metadata": {},
   "outputs": [],
   "source": [
    "%%time\n",
    "consensus, msa = spoa.poa(test_reads.get_column(\"read_seq\").to_list())"
   ]
  },
  {
   "cell_type": "code",
   "execution_count": null,
   "id": "e43372e7-89e1-4bd2-8977-d9cc5a782b4b",
   "metadata": {},
   "outputs": [],
   "source": [
    "res.msa_seq[3]"
   ]
  },
  {
   "cell_type": "code",
   "execution_count": null,
   "id": "d7ac62dc-8310-41a7-9759-5899664b2dd6",
   "metadata": {},
   "outputs": [],
   "source": [
    "print(\"\\n\\n\".join(msa))"
   ]
  },
  {
   "cell_type": "markdown",
   "id": "13ee4af8-1585-47dc-9896-8523b10d3437",
   "metadata": {},
   "source": [
    "# Polars GroupBy"
   ]
  },
  {
   "cell_type": "code",
   "execution_count": null,
   "id": "3d7075b0-66c7-4024-abd0-a777e99341e6",
   "metadata": {},
   "outputs": [],
   "source": [
    "def consensus_func(df):\n",
    "    return (\n",
    "        df.with_columns(\n",
    "            pl.col(\"name\").str.contains(\";\").alias(\"is_duplex\"),\n",
    "            pl.col(\"name\").str.contains(\";\").not_().alias(\"is_simplex\"),\n",
    "        )\n",
    "        .with_columns(\n",
    "            pl.sum(\"is_simplex\").alias(\"depth_simplex\"),\n",
    "            pl.sum(\"is_duplex\").alias(\"depth_duplex\"),\n",
    "        )\n",
    "        .select(\n",
    "            pl.col(\n",
    "                \"path_subset\",\n",
    "                \"read_seq\",\n",
    "                \"read_phred\",\n",
    "                \"depth_simplex\",\n",
    "                \"depth_duplex\",\n",
    "            )\n",
    "        )\n",
    "        .head(1)\n",
    "    )"
   ]
  },
  {
   "cell_type": "code",
   "execution_count": null,
   "id": "3c5bbb52-4098-4fa1-9e49-b509e460aab8",
   "metadata": {},
   "outputs": [],
   "source": [
    "%%time\n",
    "with pl.StringCache():\n",
    "    # df = pl.scan_pyarrow_dataset(arrow_ds)\n",
    "    df = pl.scan_ipc(str(data_dir / \"*.arrow\"))\n",
    "    res = (\n",
    "        df.with_columns(  # .limit(100_000)\n",
    "            pl.col(\"path\").list.set_intersection(bc_segments)\n",
    "            # TODO: waiting on https://github.com/pola-rs/polars/issues/11735\n",
    "            # to keep path columns as categorical\n",
    "            # .cast(pl.List(pl.Categorical))\n",
    "            .alias(\"_path_subset\"),\n",
    "        )\n",
    "        .with_columns(\n",
    "            pl.col(\"_path_subset\")\n",
    "            .list.reverse()\n",
    "            .list.eval(pl.element().map_dict(reverse_path_mapping))\n",
    "            .alias(\"_path_subset_reversed\"),\n",
    "            (\n",
    "                pl.col(\"path\").list.set_intersection(bc_segments_oriented[0]).list.len()\n",
    "                > 0\n",
    "            ).alias(\"_is_forward\"),\n",
    "            (\n",
    "                pl.col(\"path\").list.set_intersection(bc_segments_oriented[1]).list.len()\n",
    "                > 0\n",
    "            ).alias(\"_is_reverse\"),\n",
    "        )\n",
    "        .with_columns(\n",
    "            pl.when(pl.col(\"_is_forward\") & pl.col(\"_is_reverse\").not_())\n",
    "            .then(False)\n",
    "            .when(pl.col(\"_is_forward\").not_() & pl.col(\"_is_reverse\"))\n",
    "            .then(True)\n",
    "            .otherwise(None)\n",
    "            .alias(\"reverse_complement\"),\n",
    "        )\n",
    "        .with_columns(\n",
    "            pl.when(pl.col(\"reverse_complement\") == False)\n",
    "            .then(pl.col(\"_path_subset\"))\n",
    "            .when(pl.col(\"reverse_complement\") == True)\n",
    "            .then(pl.col(\"_path_subset_reversed\"))\n",
    "            .cast(pl.List(pl.Categorical))\n",
    "            .alias(\"path_subset\")\n",
    "        )\n",
    "        .filter(pl.col(\"path_subset\").hash() % 100 == 3)\n",
    "        .filter(pl.col(\"path_subset\").list.len() == 30)  # TODO\n",
    "        .select(\n",
    "            pl.col(\n",
    "                \"name\",\n",
    "                \"read_seq\",\n",
    "                \"read_phred\",\n",
    "                \"path\",\n",
    "                \"path_subset\",\n",
    "                \"reverse_complement\",\n",
    "            )\n",
    "        )\n",
    "        .group_by(\"path_subset\")\n",
    "        .agg(pl.col(\"name\", \"read_seq\", \"read_phred\"))\n",
    "        # .map_groups(\n",
    "        #     consensus_func,\n",
    "        #     schema=dict(\n",
    "        #         path_subset=pl.List(pl.Categorical),\n",
    "        #         read_seq=pl.Utf8,\n",
    "        #         read_phred=pl.Utf8,\n",
    "        #         depth_simplex=pl.UInt64,\n",
    "        #         depth_duplex=pl.UInt64,\n",
    "        #     ),\n",
    "        # )\n",
    "    ).collect()  # .write_ipc(\"test_groups2.arrow\", compression=\"lz4\") #.collect()\n",
    "# res"
   ]
  }
 ],
 "metadata": {
  "kernelspec": {
   "display_name": "Python 3 (ipykernel)",
   "language": "python",
   "name": "python3"
  },
  "language_info": {
   "codemirror_mode": {
    "name": "ipython",
    "version": 3
   },
   "file_extension": ".py",
   "mimetype": "text/x-python",
   "name": "python",
   "nbconvert_exporter": "python",
   "pygments_lexer": "ipython3",
   "version": "3.10.12"
  }
 },
 "nbformat": 4,
 "nbformat_minor": 5
}
