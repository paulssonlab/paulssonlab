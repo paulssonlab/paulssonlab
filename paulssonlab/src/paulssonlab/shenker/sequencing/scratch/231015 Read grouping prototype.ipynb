{
 "cells": [
  {
   "cell_type": "code",
   "execution_count": null,
   "id": "41c57f7d-eb34-40e9-b810-10d4c44d68b2",
   "metadata": {},
   "outputs": [],
   "source": [
    "import itertools as it\n",
    "import operator\n",
    "import re\n",
    "from collections import Counter\n",
    "from pathlib import Path\n",
    "\n",
    "import duckdb\n",
    "import gfapy\n",
    "import holoviews as hv\n",
    "import ibis\n",
    "import matplotlib.pyplot as plt\n",
    "import numpy as np\n",
    "import pandas as pd\n",
    "import polars as pl\n",
    "import pyabpoa\n",
    "import pyarrow as pa\n",
    "import pyarrow.compute as pc\n",
    "import pyarrow.dataset as ds\n",
    "import pyfastx\n",
    "import pysam\n",
    "import spoa\n",
    "from pyarrow import csv\n",
    "from tqdm.auto import tqdm, trange"
   ]
  },
  {
   "cell_type": "code",
   "execution_count": null,
   "id": "f4ec68fd-4dab-43a1-a74d-fc2137f04acb",
   "metadata": {},
   "outputs": [],
   "source": [
    "%load_ext autoreload\n",
    "%autoreload 2"
   ]
  },
  {
   "cell_type": "code",
   "execution_count": null,
   "id": "6d3d323b-2fd5-44cd-b9b0-ed41db593de3",
   "metadata": {},
   "outputs": [],
   "source": [
    "import paulssonlab.sequencing.io as sio"
   ]
  },
  {
   "cell_type": "code",
   "execution_count": null,
   "id": "f117a156-f6f6-423f-81be-bb5eed890a23",
   "metadata": {},
   "outputs": [],
   "source": [
    "hv.extension(\"bokeh\")"
   ]
  },
  {
   "cell_type": "code",
   "execution_count": null,
   "id": "ab1a37e0-1304-4373-a431-bdbd42cff000",
   "metadata": {},
   "outputs": [],
   "source": [
    "%load_ext pyinstrument\n",
    "import line_profiler\n",
    "import pyinstrument\n",
    "\n",
    "%load_ext line_profiler"
   ]
  },
  {
   "cell_type": "code",
   "execution_count": null,
   "id": "49b997e0-57da-4d8a-988e-2b48a6f2c8f3",
   "metadata": {},
   "outputs": [],
   "source": [
    "pl.enable_string_cache()"
   ]
  },
  {
   "cell_type": "markdown",
   "id": "0d050f91-79f4-491b-a4c4-a208210eff14",
   "metadata": {},
   "source": [
    "# Config"
   ]
  },
  {
   "cell_type": "code",
   "execution_count": null,
   "id": "6589476b-6033-46ed-9b8f-c4f1d115469f",
   "metadata": {},
   "outputs": [],
   "source": [
    "data_dir = Path(\n",
    "    \"/home/jqs1/scratch/jqs1/sequencing/230930_alignment_test/230707_repressilators/\"\n",
    ")"
   ]
  },
  {
   "cell_type": "code",
   "execution_count": null,
   "id": "c5d6c6f1-bd0c-462e-881d-ea12374fd54a",
   "metadata": {},
   "outputs": [],
   "source": [
    "arrow_ds = ds.dataset(list(data_dir.glob(\"*.arrow\")), format=\"arrow\")\n",
    "arrow_ds2 = ds.dataset(list(data_dir.glob(\"*.arrow\"))[:1], format=\"arrow\")\n",
    "parquet_ds = ds.dataset(list(data_dir.glob(\"*.parquet\")), format=\"parquet\")"
   ]
  },
  {
   "cell_type": "markdown",
   "id": "48f6ed4f-19b4-4692-9d1d-71652382dc3b",
   "metadata": {},
   "source": [
    "# Group by path"
   ]
  },
  {
   "cell_type": "markdown",
   "id": "2fdd0ddb-0693-4417-9e26-f0232df69770",
   "metadata": {},
   "source": [
    "## Setup"
   ]
  },
  {
   "cell_type": "code",
   "execution_count": null,
   "id": "a68f3109-d782-458d-b7c0-5c0efe5bcd9a",
   "metadata": {},
   "outputs": [],
   "source": [
    "gfa = gfapy.Gfa.from_file(\n",
    "    \"/home/jqs1/scratch/jqs1/sequencing/230930_alignment_test/barcode.gfa\"\n",
    ")"
   ]
  },
  {
   "cell_type": "code",
   "execution_count": null,
   "id": "0ed4305f-f2b0-47fe-9e49-67015494507f",
   "metadata": {},
   "outputs": [],
   "source": [
    "bc_segments_oriented = [\n",
    "    [f\"{o}{s}\" for s in gfa.segment_names if s.startswith(\"BC:\")] for o in \"><\"\n",
    "]"
   ]
  },
  {
   "cell_type": "code",
   "execution_count": null,
   "id": "f1e29f97-9ac6-42b2-bbcc-231f06b174ec",
   "metadata": {},
   "outputs": [],
   "source": [
    "bc_segments = [\n",
    "    f\"{o}{s}\" for s in gfa.segment_names if s.startswith(\"BC:BIT\") for o in \"><\"\n",
    "]"
   ]
  },
  {
   "cell_type": "code",
   "execution_count": null,
   "id": "b1b1ae9c-228e-45b5-af5a-345759ed5699",
   "metadata": {},
   "outputs": [],
   "source": [
    "reverse_path_mapping = {\n",
    "    f\"{o[0]}{s}\": f\"{o[1]}{s}\" for s in gfa.segment_names for o in [\"<>\", \"><\"]\n",
    "}"
   ]
  },
  {
   "cell_type": "markdown",
   "id": "13ee4af8-1585-47dc-9896-8523b10d3437",
   "metadata": {},
   "source": [
    "## Polars"
   ]
  },
  {
   "cell_type": "code",
   "execution_count": null,
   "id": "3d7075b0-66c7-4024-abd0-a777e99341e6",
   "metadata": {},
   "outputs": [],
   "source": [
    "def consensus_func(df):\n",
    "    return (\n",
    "        df.with_columns(\n",
    "            pl.col(\"name\").str.contains(\";\").alias(\"is_duplex\"),\n",
    "            pl.col(\"name\").str.contains(\";\").not_().alias(\"is_simplex\"),\n",
    "        )\n",
    "        .with_columns(\n",
    "            pl.sum(\"is_simplex\").alias(\"depth_simplex\"),\n",
    "            pl.sum(\"is_duplex\").alias(\"depth_duplex\"),\n",
    "        )\n",
    "        .select(\n",
    "            pl.col(\n",
    "                \"path_subset\",\n",
    "                \"read_seq\",\n",
    "                \"read_phred\",\n",
    "                \"depth_simplex\",\n",
    "                \"depth_duplex\",\n",
    "            )\n",
    "        )\n",
    "        .head(1)\n",
    "    )"
   ]
  },
  {
   "cell_type": "code",
   "execution_count": null,
   "id": "8edc05ee-3210-414d-8294-c68e9545ce29",
   "metadata": {},
   "outputs": [],
   "source": [
    "%%time\n",
    "# with pl.StringCache():\n",
    "# df = pl.scan_pyarrow_dataset(arrow_ds)\n",
    "df_input = pl.scan_ipc(str(data_dir / \"*.arrow\"))\n",
    "# df_input = pl.scan_ipc(list(data_dir.glob(\"*.arrow\"))[0])\n",
    "df_path = (\n",
    "    df_input.rename({\"path\": \"full_path\"})  # .limit(100_000)\n",
    "    .filter(pl.col(\"name\").is_duplicated().not_())\n",
    "    .with_columns(\n",
    "        pl.col(\"full_path\").list.set_intersection(bc_segments)\n",
    "        # TODO: waiting on https://github.com/pola-rs/polars/issues/11735\n",
    "        # to keep path columns as categorical\n",
    "        # .cast(pl.List(pl.Categorical))\n",
    "        .alias(\"_path\"),\n",
    "    )\n",
    "    .with_columns(\n",
    "        pl.col(\"_path\")\n",
    "        .list.reverse()\n",
    "        .list.eval(pl.element().map_dict(reverse_path_mapping))\n",
    "        .alias(\"_path_reversed\"),\n",
    "        (\n",
    "            pl.col(\"full_path\")\n",
    "            .list.set_intersection(bc_segments_oriented[0])\n",
    "            .list.len()\n",
    "            > 0\n",
    "        ).alias(\"_is_forward\"),\n",
    "        (\n",
    "            pl.col(\"full_path\")\n",
    "            .list.set_intersection(bc_segments_oriented[1])\n",
    "            .list.len()\n",
    "            > 0\n",
    "        ).alias(\"_is_reverse\"),\n",
    "    )\n",
    "    .with_columns(\n",
    "        pl.when(pl.col(\"_is_forward\") & pl.col(\"_is_reverse\").not_())\n",
    "        .then(False)\n",
    "        .when(pl.col(\"_is_forward\").not_() & pl.col(\"_is_reverse\"))\n",
    "        .then(True)\n",
    "        .otherwise(None)\n",
    "        .alias(\"reverse_complement\"),\n",
    "    )\n",
    "    .with_columns(\n",
    "        pl.when(pl.col(\"reverse_complement\") == False)\n",
    "        .then(pl.col(\"_path\"))\n",
    "        .when(pl.col(\"reverse_complement\") == True)\n",
    "        .then(pl.col(\"_path_reversed\"))\n",
    "        .cast(pl.List(pl.Categorical))\n",
    "        .alias(\"path\")\n",
    "    )\n",
    "    .with_columns(pl.col(\"name\").str.split(\";\").alias(\"parent_names\"))\n",
    "    .with_columns(\n",
    "        pl.when(pl.col(\"parent_names\").list.len() == 2)\n",
    "        .then(True)\n",
    "        .otherwise(False)\n",
    "        .alias(\"is_duplex\")\n",
    "    )\n",
    "    .filter(pl.col(\"path\").is_not_null())\n",
    "    .filter(pl.col(\"path\").list.len() == 30)  # TODO\n",
    ")\n",
    "df_with_parents = (\n",
    "    df_path.filter(pl.col(\"is_duplex\"))\n",
    "    .select(pl.col(\"name\"), pl.col(\"parent_names\").alias(\"_parent_name\"))\n",
    "    .explode(\"_parent_name\")\n",
    "    .join(\n",
    "        df_path.select(pl.col(\"name\", \"path\")),\n",
    "        how=\"left\",\n",
    "        left_on=pl.col(\"_parent_name\"),\n",
    "        right_on=pl.col(\"name\"),\n",
    "    )\n",
    ")\n",
    "df_duplex_paths_match = (\n",
    "    df_with_parents.with_columns(\n",
    "        pl.col(\"path\")\n",
    "        .first()\n",
    "        .over(\"name\", mapping_strategy=\"join\")\n",
    "        .alias(\"_path_first\")\n",
    "    )\n",
    "    .with_columns(\n",
    "        (pl.col(\"path\") == pl.col(\"_path_first\")).alias(\"_path_matches_first\")\n",
    "    )\n",
    "    .group_by(\"name\")\n",
    "    .agg(\n",
    "        pl.col(\"_path_matches_first\").all().alias(\"_duplex_paths_match\"),\n",
    "        pl.col(\"_parent_name\"),\n",
    "    )\n",
    ")\n",
    "df_simplex_paths_match = df_duplex_paths_match.select(\n",
    "    pl.col(\"_duplex_paths_match\").alias(\"_child_duplex_paths_match\"),\n",
    "    pl.col(\"_parent_name\"),\n",
    ").explode(\"_parent_name\")\n",
    "df_usable = (\n",
    "    df_path.join(\n",
    "        df_duplex_paths_match.select(pl.col(\"name\", \"_duplex_paths_match\")),\n",
    "        how=\"left\",\n",
    "        on=\"name\",\n",
    "    )\n",
    "    .join(df_simplex_paths_match, how=\"left\", left_on=\"name\", right_on=\"_parent_name\")\n",
    "    .with_columns(\n",
    "        pl.when(pl.col(\"is_duplex\"))\n",
    "        .then(pl.col(\"_duplex_paths_match\").fill_null(False))\n",
    "        .otherwise(pl.col(\"_child_duplex_paths_match\").not_().fill_null(True))\n",
    "        .alias(\"usable\")\n",
    "    )\n",
    ")\n",
    "# res = df_usable.select(pl.all().exclude(\"^_.*$\")).collect()"
   ]
  },
  {
   "cell_type": "code",
   "execution_count": null,
   "id": "937e1ae7-8b57-4a64-87b9-d950b09f90c5",
   "metadata": {},
   "outputs": [],
   "source": [
    "%%time\n",
    "df_read_groups = (\n",
    "    df_usable.select(\n",
    "        pl.col(\n",
    "            \"name\",\n",
    "            \"is_duplex\",\n",
    "            \"read_seq\",\n",
    "            \"read_phred\",\n",
    "            \"reverse_complement\",\n",
    "            \"path\",\n",
    "            \"full_path\",\n",
    "        )\n",
    "    )\n",
    "    .group_by(\"path\")\n",
    "    .agg(\n",
    "        pl.col(\"name\", \"read_seq\", \"read_phred\", \"reverse_complement\"),\n",
    "        pl.col(\"is_duplex\").sum().alias(\"duplex_depth\"),\n",
    "        pl.count().alias(\"depth\"),\n",
    "    )\n",
    "    .with_columns((pl.col(\"depth\") - pl.col(\"duplex_depth\")).alias(\"simplex_depth\"))\n",
    "    .filter(pl.col(\"depth\") > 5)\n",
    "    # .map_groups(\n",
    "    #     consensus_func,\n",
    "    #     schema=dict(\n",
    "    #         path_subset=pl.List(pl.Categorical),\n",
    "    #         read_seq=pl.Utf8,\n",
    "    #         read_phred=pl.Utf8,\n",
    "    #         depth_simplex=pl.UInt64,\n",
    "    #         depth_duplex=pl.UInt64,\n",
    "    #     ),\n",
    "    # )\n",
    ")\n",
    "res = df_read_groups.collect()\n",
    "# res.select(pl.all().exclude(\"name\",\"read_seq\", \"read_phred\", \"reverse_complement\"))"
   ]
  },
  {
   "cell_type": "code",
   "execution_count": null,
   "id": "b22e123b-4e01-4e70-a6e7-691243be85b6",
   "metadata": {},
   "outputs": [],
   "source": [
    "%%time\n",
    "res.write_ipc(\"test_read_groups_full.arrow\", compression=None)"
   ]
  },
  {
   "cell_type": "code",
   "execution_count": null,
   "id": "7bc3be1f-ccd0-4290-bee9-8e3865e27a82",
   "metadata": {},
   "outputs": [],
   "source": [
    "len(res)"
   ]
  },
  {
   "cell_type": "code",
   "execution_count": null,
   "id": "7e226899-debb-431d-aade-ec5505d73a57",
   "metadata": {},
   "outputs": [],
   "source": [
    "res.estimated_size() / 1e9"
   ]
  },
  {
   "cell_type": "code",
   "execution_count": null,
   "id": "5fb7a26b-1d4b-4f19-b362-ae2eeb5756e3",
   "metadata": {},
   "outputs": [],
   "source": [
    "res.select(pl.col(\"depth\", \"duplex_depth\"))"
   ]
  },
  {
   "cell_type": "code",
   "execution_count": null,
   "id": "826e1e59-ce7b-40c2-a2ca-5c33a8f7d0e4",
   "metadata": {},
   "outputs": [],
   "source": [
    "test_groups = res"
   ]
  },
  {
   "cell_type": "code",
   "execution_count": null,
   "id": "4d14bb3c-414c-4571-b890-102927582414",
   "metadata": {},
   "outputs": [],
   "source": [
    "%%time\n",
    "test_groups = pl.read_ipc(\"test_read_groups.arrow\")"
   ]
  },
  {
   "cell_type": "code",
   "execution_count": null,
   "id": "62d781fd-bcec-4121-9f38-e6d59fbb9ca3",
   "metadata": {},
   "outputs": [],
   "source": [
    "test_groups.select(pl.col(\"name\")).with_columns(pl.col(\"name\").list.len()).filter(\n",
    "    pl.col(\"name\") != 1\n",
    ").sort(\"name\")"
   ]
  },
  {
   "cell_type": "code",
   "execution_count": null,
   "id": "7f203443-c5e9-4c9c-ab5b-e59392773f2e",
   "metadata": {},
   "outputs": [],
   "source": [
    "test_reads = test_groups[10].select(\n",
    "    pl.col(\"name\", \"read_seq\", \"read_phred\").list.explode()\n",
    ")"
   ]
  },
  {
   "cell_type": "code",
   "execution_count": null,
   "id": "69cb0a49-a7c0-46be-bd8d-2deefaf9d241",
   "metadata": {},
   "outputs": [],
   "source": [
    "test_reads"
   ]
  },
  {
   "cell_type": "code",
   "execution_count": null,
   "id": "6da17071-1d80-4487-ae82-daea2143fd75",
   "metadata": {},
   "outputs": [],
   "source": [
    "aligner = pyabpoa.msa_aligner()\n",
    "seqs = test_reads.get_column(\"read_seq\").to_list()\n",
    "res = aligner.msa(seqs, out_cons=True, out_msa=True)\n",
    "\n",
    "for seq in res.cons_seq:\n",
    "    print(seq)  # print consensus sequence\n",
    "\n",
    "res.print_msa()  # print row-column multiple sequence alignment in PIR format"
   ]
  },
  {
   "cell_type": "code",
   "execution_count": null,
   "id": "ca388706-3322-4e0c-93da-c88e8d93afd9",
   "metadata": {},
   "outputs": [],
   "source": [
    "aligner = pyabpoa.msa_aligner()"
   ]
  },
  {
   "cell_type": "code",
   "execution_count": null,
   "id": "781d53bc-00d7-4f83-8f70-d73f64296f31",
   "metadata": {},
   "outputs": [],
   "source": [
    "consensus, msa = spoa.poa([\"AACTTATA\", \"AACTTATG\", \"AACTATA\"])"
   ]
  },
  {
   "cell_type": "code",
   "execution_count": null,
   "id": "5e8c8831-1a70-4e58-98be-e6fb180caa5a",
   "metadata": {},
   "outputs": [],
   "source": [
    "%%time\n",
    "consensus, msa = spoa.poa(test_reads.get_column(\"read_seq\").to_list())"
   ]
  },
  {
   "cell_type": "code",
   "execution_count": null,
   "id": "c5cac982-ac0a-4e36-84f9-e596f80f33fa",
   "metadata": {},
   "outputs": [],
   "source": [
    "consensus"
   ]
  },
  {
   "cell_type": "code",
   "execution_count": null,
   "id": "d7ac62dc-8310-41a7-9759-5899664b2dd6",
   "metadata": {},
   "outputs": [],
   "source": [
    "print(\"\\n\".join(msa))"
   ]
  },
  {
   "cell_type": "markdown",
   "id": "e23229a6-5413-4c15-b936-eaf5ef56d52b",
   "metadata": {},
   "source": [
    "## Secondary alignments"
   ]
  },
  {
   "cell_type": "code",
   "execution_count": null,
   "id": "12577c60-0686-48d3-a6a3-217874c69420",
   "metadata": {},
   "outputs": [],
   "source": [
    "%%time\n",
    "dups = (\n",
    "    df_input.limit(10_000)\n",
    "    .filter(pl.col(\"name\").is_duplicated())\n",
    "    .select(pl.col(\"name\", \"residue_matches\", \"path\"))\n",
    "    .collect()\n",
    "    .rows()\n",
    ")"
   ]
  },
  {
   "cell_type": "code",
   "execution_count": null,
   "id": "401f6949-abcd-401a-802f-fa47178dca46",
   "metadata": {},
   "outputs": [],
   "source": [
    "for idx in range(0, 10, 2):\n",
    "    print(dups[idx][1], \" \".join(dups[idx][2]))\n",
    "    print()\n",
    "    print(dups[idx + 1][1], \" \".join(dups[idx + 1][2]))\n",
    "    print()\n",
    "    print()"
   ]
  },
  {
   "cell_type": "markdown",
   "id": "4c882f2c-0074-4580-b15d-3e3be2061af1",
   "metadata": {},
   "source": [
    "## DuckDB"
   ]
  },
  {
   "cell_type": "code",
   "execution_count": null,
   "id": "e73f64cb-12b2-4b51-aa49-00e952d4ee28",
   "metadata": {},
   "outputs": [],
   "source": [
    "%%time\n",
    "res = duckdb.execute(\n",
    "    \"SELECT path, list_intersect(path, $bc_segments) FROM arrow_ds2 LIMIT 2\",\n",
    "    dict(bc_segments=bc_segments),\n",
    ").arrow()"
   ]
  },
  {
   "cell_type": "code",
   "execution_count": null,
   "id": "5e28e6b0-9f45-4961-a5ff-304312a61f74",
   "metadata": {},
   "outputs": [],
   "source": [
    "res"
   ]
  }
 ],
 "metadata": {
  "kernelspec": {
   "display_name": "Python 3 (ipykernel)",
   "language": "python",
   "name": "python3"
  },
  "language_info": {
   "codemirror_mode": {
    "name": "ipython",
    "version": 3
   },
   "file_extension": ".py",
   "mimetype": "text/x-python",
   "name": "python",
   "nbconvert_exporter": "python",
   "pygments_lexer": "ipython3",
   "version": "3.10.12"
  }
 },
 "nbformat": 4,
 "nbformat_minor": 5
}
