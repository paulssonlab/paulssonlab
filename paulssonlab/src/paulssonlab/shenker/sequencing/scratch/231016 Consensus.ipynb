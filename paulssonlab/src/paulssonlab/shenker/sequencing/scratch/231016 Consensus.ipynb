{
 "cells": [
  {
   "cell_type": "code",
   "execution_count": null,
   "id": "41c57f7d-eb34-40e9-b810-10d4c44d68b2",
   "metadata": {},
   "outputs": [],
   "source": [
    "import itertools as it\n",
    "import operator\n",
    "import re\n",
    "from collections import Counter\n",
    "from pathlib import Path\n",
    "\n",
    "import awkward as ak\n",
    "import bottleneck as bn\n",
    "import duckdb\n",
    "import gfapy\n",
    "import holoviews as hv\n",
    "import ibis\n",
    "import matplotlib.pyplot as plt\n",
    "import numba\n",
    "import numpy as np\n",
    "import pandas as pd\n",
    "import polars as pl\n",
    "import pyabpoa\n",
    "import pyarrow as pa\n",
    "import pyarrow.compute as pc\n",
    "import pyarrow.dataset as ds\n",
    "import pyfastx\n",
    "import pysam\n",
    "import spoa\n",
    "from pyarrow import csv\n",
    "from tqdm.auto import tqdm, trange"
   ]
  },
  {
   "cell_type": "code",
   "execution_count": null,
   "id": "f4ec68fd-4dab-43a1-a74d-fc2137f04acb",
   "metadata": {},
   "outputs": [],
   "source": [
    "%load_ext autoreload\n",
    "%autoreload 2"
   ]
  },
  {
   "cell_type": "code",
   "execution_count": null,
   "id": "6d3d323b-2fd5-44cd-b9b0-ed41db593de3",
   "metadata": {},
   "outputs": [],
   "source": [
    "import paulssonlab.sequencing.io as sio"
   ]
  },
  {
   "cell_type": "code",
   "execution_count": null,
   "id": "f117a156-f6f6-423f-81be-bb5eed890a23",
   "metadata": {},
   "outputs": [],
   "source": [
    "hv.extension(\"bokeh\")"
   ]
  },
  {
   "cell_type": "code",
   "execution_count": null,
   "id": "ab1a37e0-1304-4373-a431-bdbd42cff000",
   "metadata": {},
   "outputs": [],
   "source": [
    "%load_ext pyinstrument\n",
    "import line_profiler\n",
    "import pyinstrument\n",
    "\n",
    "%load_ext line_profiler"
   ]
  },
  {
   "cell_type": "markdown",
   "id": "48f6ed4f-19b4-4692-9d1d-71652382dc3b",
   "metadata": {},
   "source": [
    "# Consensus"
   ]
  },
  {
   "cell_type": "code",
   "execution_count": null,
   "id": "4d14bb3c-414c-4571-b890-102927582414",
   "metadata": {},
   "outputs": [],
   "source": [
    "test_groups = pl.read_ipc(\n",
    "    \"/home/jqs1/scratch/jqs1/sequencing/scratch/test_read_groups_100.arrow\"\n",
    ")"
   ]
  },
  {
   "cell_type": "code",
   "execution_count": null,
   "id": "62d781fd-bcec-4121-9f38-e6d59fbb9ca3",
   "metadata": {},
   "outputs": [],
   "source": [
    "group_depths = (\n",
    "    test_groups.select(pl.col(\"name\"))\n",
    "    .with_columns(pl.col(\"name\").list.len())\n",
    "    .filter(pl.col(\"name\") > 1)\n",
    "    .sort(\"name\", descending=True)\n",
    "    .to_numpy()\n",
    ")"
   ]
  },
  {
   "cell_type": "code",
   "execution_count": null,
   "id": "e3a7fc0a-d92f-42fb-a0b2-b071e74b9481",
   "metadata": {},
   "outputs": [],
   "source": [
    "plt.plot(group_depths[:, 0])"
   ]
  },
  {
   "cell_type": "code",
   "execution_count": null,
   "id": "cd7e5bda-5c84-40d9-8ab2-dafbe68edb00",
   "metadata": {},
   "outputs": [],
   "source": [
    "%%time\n",
    "test_groups_subset = test_groups.filter(pl.col(\"name\").list.len().is_between(20, 25))"
   ]
  },
  {
   "cell_type": "code",
   "execution_count": null,
   "id": "42765663-38d5-495d-9b36-1b0198eddc1f",
   "metadata": {},
   "outputs": [],
   "source": [
    "test_groups_subset.select(\"depth\", \"duplex_depth\")"
   ]
  },
  {
   "cell_type": "code",
   "execution_count": null,
   "id": "7f203443-c5e9-4c9c-ab5b-e59392773f2e",
   "metadata": {},
   "outputs": [],
   "source": [
    "test_reads = (\n",
    "    test_groups_subset[20]\n",
    "    .select(\n",
    "        pl.col(\"name\", \"read_seq\", \"read_phred\", \"reverse_complement\").list.explode(),\n",
    "        pl.col(\"duplex_depth\", \"simplex_depth\"),\n",
    "    )\n",
    "    .with_columns(\n",
    "        pl.col(\"read_seq\").str.len_bytes().alias(\"read_len\"),\n",
    "        pl.col(\"name\").str.contains(\";\").alias(\"is_duplex\"),\n",
    "        pl.col(\"name\").str.contains(\";\").not_().alias(\"is_simplex\"),\n",
    "    )\n",
    "    .sort(\"is_duplex\", descending=True)\n",
    ")\n",
    "test_reads"
   ]
  },
  {
   "cell_type": "code",
   "execution_count": null,
   "id": "d53b9f3d-164f-4851-bc59-e79fd8f93077",
   "metadata": {},
   "outputs": [],
   "source": [
    "_RC_BASES = (\"ACRMBH\", \"TGYKVD\")\n",
    "RC_MAP = {\n",
    "    k: v\n",
    "    for lower in (False, True)\n",
    "    for a, b in zip(*[bases.lower() if lower else bases for bases in _RC_BASES])\n",
    "    for k, v in [(a, b), (b, a)]\n",
    "}\n",
    "\n",
    "\n",
    "# @numba.jit(nopython=True)\n",
    "def reverse_complement(seq):\n",
    "    return \"\".join(RC_MAP.get(base, base) for base in reversed(seq))"
   ]
  },
  {
   "cell_type": "code",
   "execution_count": null,
   "id": "302d450a-6328-4e59-99af-4d173ff30976",
   "metadata": {},
   "outputs": [],
   "source": [
    "[ zip(test_reads.get_column(\"read_phred\").to_arrow(), read_rc)"
   ]
  },
  {
   "cell_type": "code",
   "execution_count": null,
   "id": "38046bba-cb15-4e43-8cd3-31a4b8626175",
   "metadata": {},
   "outputs": [],
   "source": [
    "read_seq = test_reads.get_column(\"read_seq\").to_list()\n",
    "read_phred = ak.from_arrow(test_reads.get_column(\"read_phred\").to_arrow())\n",
    "read_rc = ak.from_arrow(test_reads.get_column(\"reverse_complement\").to_arrow())"
   ]
  },
  {
   "cell_type": "code",
   "execution_count": null,
   "id": "d0026a43-bc91-49f0-b2bc-195b63b790e0",
   "metadata": {},
   "outputs": [],
   "source": [
    "read_seq_oriented = [\n",
    "    reverse_complement(seq) if rc else seq for seq, rc in zip(read_seq, read_rc)\n",
    "]\n",
    "read_phred_oriented = [\n",
    "    phred[::-1] if rc else phred for phred, rc in zip(read_phred, read_rc)\n",
    "]"
   ]
  },
  {
   "cell_type": "code",
   "execution_count": null,
   "id": "6da17071-1d80-4487-ae82-daea2143fd75",
   "metadata": {},
   "outputs": [],
   "source": [
    "%%time\n",
    "aligner = pyabpoa.msa_aligner(aln_mode=\"l\")\n",
    "res = aligner.msa(read_seq_oriented, out_cons=False, out_msa=True)"
   ]
  },
  {
   "cell_type": "code",
   "execution_count": null,
   "id": "666688e3-080f-413a-8b81-9596358f347b",
   "metadata": {},
   "outputs": [],
   "source": [
    "msa_seq = np.array([np.frombuffer(seq.encode(), dtype=np.uint8) for seq in res.msa_seq])"
   ]
  },
  {
   "cell_type": "code",
   "execution_count": null,
   "id": "60df8ec1-4c7c-4132-a4cb-45a5898ddeb0",
   "metadata": {},
   "outputs": [],
   "source": [
    "%%time\n",
    "base_votes = []\n",
    "for base_idx in range(msa_length):\n",
    "    votes = {}\n",
    "    for seq_idx in range(num_seqs):\n",
    "        base = msa_seq[seq_idx, base_idx]\n",
    "        votes[base] = votes.get(base, 0) + 1\n",
    "    base_votes.append(votes)"
   ]
  },
  {
   "cell_type": "code",
   "execution_count": null,
   "id": "ccfe946a-f4d3-475b-a0a0-705d12cda7e3",
   "metadata": {},
   "outputs": [],
   "source": [
    "print(\"   A   T   C   G   -\")\n",
    "for base_idx in range(msa_length):\n",
    "    votes = {chr(k): v for k, v in base_votes[base_idx].items()}\n",
    "    print(\n",
    "        \" {A: >3d} {T: >3d} {C: >3d} {G: >3d} {-: >3d}\".format(\n",
    "            **{\"A\": 0, \"T\": 0, \"C\": 0, \"G\": 0, \"-\": 0, **votes}\n",
    "        )\n",
    "    )"
   ]
  },
  {
   "cell_type": "code",
   "execution_count": null,
   "id": "a1cb9a5d-5838-4604-8868-742216f9d41b",
   "metadata": {},
   "outputs": [],
   "source": [
    "%%time\n",
    "phred = np.empty(msa_length, dtype=np.uint16)\n",
    "for idx in range(num_seqs):\n",
    "    seq = res.msa_seq[idx]\n",
    "    # gaps = []\n",
    "    for b in range(msa_length):\n",
    "        base = seq[b]\n",
    "        if base == \"-\":\n",
    "            pass\n",
    "            # gaps.append(b)\n",
    "        else:"
   ]
  },
  {
   "cell_type": "code",
   "execution_count": null,
   "id": "43f4398e-f01d-40d5-b292-a928bad4b8bf",
   "metadata": {},
   "outputs": [],
   "source": [
    "%%time\n",
    "phred_matrix = np.empty((num_seqs, msa_length), dtype=np.float32)\n",
    "for seq_idx in range(num_seqs):\n",
    "    phred = read_phred[seq_idx]\n",
    "    offset = 0\n",
    "    for base_idx in range(msa_length):\n",
    "        base = msa_seq[seq_idx, base_idx]\n",
    "        if base == 45:\n",
    "            phred_matrix[seq_idx, base_idx] = np.nan\n",
    "            offset += 1\n",
    "        else:\n",
    "            phred_matrix[seq_idx, base_idx] = phred[\n",
    "                base_idx - offset\n",
    "            ]  # 10**-(phred[base_idx-offset]/10)"
   ]
  },
  {
   "cell_type": "code",
   "execution_count": null,
   "id": "f2637f3b-58b2-4de9-8785-a5255a251655",
   "metadata": {},
   "outputs": [],
   "source": [
    "forwards = bn.push(phred_matrix)\n",
    "backwards = bn.push(phred_matrix[:, ::-1])[:, ::-1]\n",
    "forwards_nonnull = bn.replace(forwards.copy(), np.nan, 0)\n",
    "backwards_nonnull = bn.replace(backwards.copy(), np.nan, 0)\n",
    "imputed = (\n",
    "    (forwards_nonnull + backwards_nonnull)\n",
    "    / ((~np.isnan(forwards)).astype(np.uint8) + (~np.isnan(backwards)).astype(np.uint8))\n",
    ").astype(np.int32)"
   ]
  },
  {
   "cell_type": "code",
   "execution_count": null,
   "id": "a50e8e69-0bf1-4478-aa21-4aee13e1122e",
   "metadata": {},
   "outputs": [],
   "source": [
    "phred_matrix_imputed = phred_matrix"
   ]
  },
  {
   "cell_type": "code",
   "execution_count": null,
   "id": "3c7a4ce1-981a-44ed-81f3-ec5f17507f10",
   "metadata": {},
   "outputs": [],
   "source": [
    "output_seq = np.empty(msa_length, dtype=np.uint8)\n",
    "output_phred = np.empty(msa_length, dtype=np.int32)\n",
    "output_seq_nogap = np.full(msa_length, 32, dtype=np.uint8)  # 32 is \" \"\n",
    "output_phred_nogap = np.full(msa_length, -1, dtype=np.int32)\n",
    "offset = 0\n",
    "for base_idx in range(msa_length):\n",
    "    votes = {}\n",
    "    for seq_idx in range(num_seqs):\n",
    "        base = msa_seq[seq_idx, base_idx]\n",
    "        votes[base] = votes.get(base, 0) + 1\n",
    "    # numba doesn't support this in nopython mode:\n",
    "    # max(votes, key=votes.get)\n",
    "    # SEE: https://stackoverflow.com/questions/75139835/numba-dict-find-key-of-the-minimum-value-in-dict?noredirect=1#comment132598298_75139835\n",
    "    sorted_votes = sorted([(v, k) for k, v in votes.items()])  # [0][1]\n",
    "    base = sorted_votes[0][1]\n",
    "    phred = sorted_votes[0][0]  # - sum(v[0] for v in sorted_votes[1:])\n",
    "    output_seq[base_idx] = base\n",
    "    output_phred[base_idx] = phred\n",
    "    if base == 45:\n",
    "        offset += 1\n",
    "    else:\n",
    "        output_seq_nogap[base_idx - offset] = base\n",
    "        output_phred_nogap[base_idx - offset] = phred"
   ]
  },
  {
   "cell_type": "code",
   "execution_count": null,
   "id": "c0c483c5-7c8e-4f22-9bc8-833d33d222ef",
   "metadata": {},
   "outputs": [],
   "source": [
    "output_seq"
   ]
  },
  {
   "cell_type": "code",
   "execution_count": null,
   "id": "2ab4bcbf-7d48-4b6d-810a-ff6ab7975265",
   "metadata": {},
   "outputs": [],
   "source": [
    "output_seq_nogap.tobytes().decode().rstrip()"
   ]
  },
  {
   "cell_type": "markdown",
   "id": "7c017e25-85e8-4924-ae21-89cc84f48c89",
   "metadata": {},
   "source": [
    "## Numba"
   ]
  },
  {
   "cell_type": "code",
   "execution_count": null,
   "id": "3d8769cf-29d2-4131-bdbe-cee7a70a7831",
   "metadata": {},
   "outputs": [],
   "source": [
    "GAP_CHAR = ord(\"-\")\n",
    "SPACE_CHAR = ord(\" \")\n",
    "\n",
    "\n",
    "def phred_weighted_consensus(seqs, phreds, gap_quality_method=\"mean\"):\n",
    "    num_seqs = len(seqs)\n",
    "    if not num_seqs:\n",
    "        return\n",
    "    msa_length = len(seqs[0])\n",
    "    aligned_phred = np.empty(msa_length, dtype=np.int32)\n",
    "    votes = [{} for _ in range(msa_length)]\n",
    "    for seq_idx in range(num_seqs):\n",
    "        last_nongap_phred = -1\n",
    "        aligned_seq = seqs[seq_idx]\n",
    "        aligned_phred[:] = -1\n",
    "        unaligned_phred = phreds[seq_idx]\n",
    "        offset = 0\n",
    "        for base_idx in range(msa_length):\n",
    "            base = aligned_seq[base_idx]\n",
    "            if base == GAP_CHAR:\n",
    "                offset += 1\n",
    "                if last_nongap_phred != -1:\n",
    "                    aligned_phred[base_idx] = last_nongap_phred\n",
    "            else:\n",
    "                phred = unaligned_phred[base_idx - offset]\n",
    "                aligned_phred[base_idx] = phred\n",
    "                last_nongap_phred = phred\n",
    "        last_nongap_phred = -1\n",
    "        for base_idx in reversed(range(msa_length)):\n",
    "            base = aligned_seq[base_idx]\n",
    "            if base == GAP_CHAR:\n",
    "                offset -= 1\n",
    "                if last_nongap_phred != -1:\n",
    "                    existing_aligned_phred = aligned_phred[base_idx]\n",
    "                    if existing_aligned_phred == -1:\n",
    "                        # aligned_phred[base_idx] = last_nongap_phred\n",
    "                        base_phred = last_nongap_phred\n",
    "                    else:\n",
    "                        if gap_quality_method == \"min\":\n",
    "                            base_phred = min(last_nongap_phred, existing_aligned_phred)\n",
    "                        elif gap_quality_method == \"mean\":\n",
    "                            base_phred = (\n",
    "                                last_nongap_phred + existing_aligned_phred\n",
    "                            ) // 2\n",
    "                        # aligned_phred[base_idx] = base_phred\n",
    "            else:\n",
    "                base_phred = unaligned_phred[base_idx - offset]\n",
    "                last_nongap_phred = base_phred\n",
    "            votes[base_idx][base] = votes[base_idx].get(base, 0) + 1\n",
    "    consensus = np.empty(msa_length, dtype=np.uint8)\n",
    "    nonconsensus = np.full(msa_length, SPACE_CHAR, dtype=np.uint8)\n",
    "    consensus_phred = np.empty(msa_length, dtype=np.int32)\n",
    "    nonconsensus_phred = np.zeros(msa_length, dtype=np.int32)\n",
    "    for base_idx in range(msa_length):\n",
    "        sorted_votes = sorted([(v, k) for k, v in votes[base_idx].items()])\n",
    "        consensus[base_idx] = sorted_votes[0][1]\n",
    "        consensus_phred[base_idx] = sorted_votes[0][0]\n",
    "        if len(sorted_votes) >= 2:\n",
    "            nonconsensus[base_idx] = sorted_votes[1][1]\n",
    "            nonconsensus_phred[base_idx] = sum(v[0] for v in sorted_votes[1:])\n",
    "    return consensus, consensus_phred, nonconsensus, nonconsensus_phred"
   ]
  },
  {
   "cell_type": "code",
   "execution_count": null,
   "id": "4ab6f35f-3676-4a6a-8992-9f5d568ea3d6",
   "metadata": {},
   "outputs": [],
   "source": [
    "GAP_CHAR = ord(\"-\")\n",
    "SPACE_CHAR = ord(\" \")\n",
    "\n",
    "\n",
    "@numba.njit\n",
    "def phred_weighted_consensus(seqs, phreds, gap_quality_method=\"mean\"):\n",
    "    num_seqs = len(seqs)\n",
    "    if not num_seqs:\n",
    "        return\n",
    "    msa_length = len(seqs[0])\n",
    "    aligned_phred = np.empty(msa_length, dtype=np.int32)\n",
    "    votes = [{} for _ in range(msa_length)]\n",
    "    for seq_idx in range(num_seqs):\n",
    "        last_nongap_phred = -1\n",
    "        aligned_seq = seqs[seq_idx]\n",
    "        aligned_phred[:] = -1\n",
    "        unaligned_phred = phreds[seq_idx]\n",
    "        offset = 0\n",
    "        for base_idx in range(msa_length):\n",
    "            base = aligned_seq[base_idx]\n",
    "            if base == GAP_CHAR:\n",
    "                offset += 1\n",
    "                if last_nongap_phred != -1:\n",
    "                    aligned_phred[base_idx] = last_nongap_phred\n",
    "            else:\n",
    "                phred = unaligned_phred[base_idx - offset]\n",
    "                aligned_phred[base_idx] = phred\n",
    "                last_nongap_phred = phred\n",
    "        last_nongap_phred = -1\n",
    "        # numba doesn't support reversed(range(msa_length))\n",
    "        for base_idx in range(msa_length - 1, -1, -1):\n",
    "            base = aligned_seq[base_idx]\n",
    "            if base == GAP_CHAR:\n",
    "                offset -= 1\n",
    "                if last_nongap_phred != -1:\n",
    "                    existing_aligned_phred = aligned_phred[base_idx]\n",
    "                    if existing_aligned_phred == -1:\n",
    "                        # aligned_phred[base_idx] = last_nongap_phred\n",
    "                        base_phred = last_nongap_phred\n",
    "                    else:\n",
    "                        if gap_quality_method == \"min\":\n",
    "                            base_phred = min(last_nongap_phred, existing_aligned_phred)\n",
    "                        elif gap_quality_method == \"mean\":\n",
    "                            base_phred = (\n",
    "                                last_nongap_phred + existing_aligned_phred\n",
    "                            ) // 2\n",
    "                        # aligned_phred[base_idx] = base_phred\n",
    "            else:\n",
    "                base_phred = unaligned_phred[base_idx - offset]\n",
    "                last_nongap_phred = base_phred\n",
    "            votes[base_idx][base] = votes[base_idx].get(base, 0) + 1\n",
    "    consensus = np.empty(msa_length, dtype=np.uint8)\n",
    "    nonconsensus = np.full(msa_length, SPACE_CHAR, dtype=np.uint8)\n",
    "    consensus_phred = np.empty(msa_length, dtype=np.int32)\n",
    "    nonconsensus_phred = np.zeros(msa_length, dtype=np.int32)\n",
    "    for base_idx in range(msa_length):\n",
    "        sorted_votes = sorted([(v, k) for k, v in votes[base_idx].items()])\n",
    "        consensus[base_idx] = sorted_votes[0][1]\n",
    "        consensus_phred[base_idx] = sorted_votes[0][0]\n",
    "        if len(sorted_votes) >= 2:\n",
    "            nonconsensus[base_idx] = sorted_votes[1][1]\n",
    "            nonconsensus_phred[base_idx] = np.sum([v[0] for v in sorted_votes[1:]])\n",
    "    return consensus, consensus_phred, nonconsensus, nonconsensus_phred"
   ]
  },
  {
   "cell_type": "code",
   "execution_count": null,
   "id": "984fdf59-daf7-4954-968d-1e3e0127820b",
   "metadata": {},
   "outputs": [],
   "source": [
    "%%time\n",
    "consensus, consensus_phred, conconsensus, nonconsensus_phred = phred_weighted_consensus(\n",
    "    msa_seq, read_phred_oriented\n",
    ")"
   ]
  },
  {
   "cell_type": "code",
   "execution_count": null,
   "id": "3e98e201-79cc-494d-82b3-04a3e42d6704",
   "metadata": {},
   "outputs": [],
   "source": [
    "consensus.tobytes().decode()"
   ]
  },
  {
   "cell_type": "code",
   "execution_count": null,
   "id": "241736fa-beb6-41e3-bcc8-c4ab6b2a761d",
   "metadata": {},
   "outputs": [],
   "source": [
    "len(read_phred_oriented)"
   ]
  },
  {
   "cell_type": "code",
   "execution_count": null,
   "id": "8a18adb5-22f9-4296-b1a2-ca8d193f2ee9",
   "metadata": {},
   "outputs": [],
   "source": [
    "len(msa_seq)"
   ]
  },
  {
   "cell_type": "markdown",
   "id": "f06e6125-d269-49ab-b613-ecec88a1ae3d",
   "metadata": {},
   "source": [
    "## SPOA"
   ]
  },
  {
   "cell_type": "code",
   "execution_count": null,
   "id": "5e8c8831-1a70-4e58-98be-e6fb180caa5a",
   "metadata": {},
   "outputs": [],
   "source": [
    "%%time\n",
    "consensus, msa = spoa.poa(test_reads.get_column(\"read_seq\").to_list())"
   ]
  }
 ],
 "metadata": {
  "kernelspec": {
   "display_name": "Python 3 (ipykernel)",
   "language": "python",
   "name": "python3"
  },
  "language_info": {
   "codemirror_mode": {
    "name": "ipython",
    "version": 3
   },
   "file_extension": ".py",
   "mimetype": "text/x-python",
   "name": "python",
   "nbconvert_exporter": "python",
   "pygments_lexer": "ipython3",
   "version": "3.10.12"
  }
 },
 "nbformat": 4,
 "nbformat_minor": 5
}
