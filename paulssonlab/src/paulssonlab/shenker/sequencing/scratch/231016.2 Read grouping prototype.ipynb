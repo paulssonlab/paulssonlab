{
 "cells": [
  {
   "cell_type": "markdown",
   "id": "a97437aa-d3aa-4d22-ac31-75381541a3dd",
   "metadata": {},
   "source": [
    "# Polars bigidx test"
   ]
  },
  {
   "cell_type": "code",
   "execution_count": null,
   "id": "69fb8530-73f7-4702-8d1c-bdf9939cd612",
   "metadata": {},
   "outputs": [],
   "source": [
    "import polars as pl\n",
    "\n",
    "df = pl.DataFrame({\"a\": [1, 8, 3], \"b\": [4, 5, 2]})\n",
    "df.with_columns(pl.concat_list([\"a\", \"b\"]).list.eval(pl.element().rank()).alias(\"rank\"))"
   ]
  },
  {
   "cell_type": "code",
   "execution_count": null,
   "id": "315038de-8fe0-4e92-b43f-bffcd5b45e3f",
   "metadata": {},
   "outputs": [],
   "source": [
    "!micromamba install -y polars"
   ]
  },
  {
   "cell_type": "code",
   "execution_count": null,
   "id": "3d34b167-6db1-4ce0-9f66-d306957b5488",
   "metadata": {},
   "outputs": [],
   "source": [
    "!pip install --force-reinstall -v /home/jqs1/projects/polars/py-polars/target/wheels/polars-0.19.9-cp38-abi3-linux_x86_64.whl"
   ]
  },
  {
   "cell_type": "code",
   "execution_count": null,
   "id": "620caea4-50eb-4097-92c7-fad2f916736f",
   "metadata": {},
   "outputs": [],
   "source": [
    "!pip install polars-u64-idx"
   ]
  },
  {
   "cell_type": "code",
   "execution_count": null,
   "id": "478b7408-c5de-4686-aaab-b3df9010c668",
   "metadata": {},
   "outputs": [],
   "source": [
    "!pip uninstall -y polars"
   ]
  },
  {
   "cell_type": "code",
   "execution_count": null,
   "id": "a102c20e-1ee3-4e4d-9637-2a246200bb34",
   "metadata": {},
   "outputs": [],
   "source": [
    "!micromamba remove -y polars"
   ]
  },
  {
   "cell_type": "code",
   "execution_count": null,
   "id": "6d39ed02-4a64-4775-9e59-853822d0b01d",
   "metadata": {},
   "outputs": [],
   "source": [
    "%%time\n",
    "# check for polars-u64-idx (bigidx)\n",
    "import polars as pl\n",
    "\n",
    "pl.select(\n",
    "    pl.repeat(False, n=(2**32) + 100, eager=True).alias(\"col1\")\n",
    ").with_row_count()"
   ]
  },
  {
   "cell_type": "markdown",
   "id": "e9e854bf-1642-4517-bb97-97ba5691df65",
   "metadata": {},
   "source": [
    "# Imports"
   ]
  },
  {
   "cell_type": "code",
   "execution_count": null,
   "id": "41c57f7d-eb34-40e9-b810-10d4c44d68b2",
   "metadata": {},
   "outputs": [],
   "source": [
    "import itertools as it\n",
    "import operator\n",
    "import re\n",
    "from collections import Counter\n",
    "from pathlib import Path\n",
    "\n",
    "import duckdb\n",
    "import gfapy\n",
    "import holoviews as hv\n",
    "import ibis\n",
    "import matplotlib.pyplot as plt\n",
    "import numpy as np\n",
    "import pandas as pd\n",
    "import polars as pl\n",
    "import pyabpoa\n",
    "import pyarrow as pa\n",
    "import pyarrow.compute as pc\n",
    "import pyarrow.dataset as ds\n",
    "import pyfastx\n",
    "import pysam\n",
    "import spoa\n",
    "from pyarrow import csv\n",
    "from tqdm.auto import tqdm, trange"
   ]
  },
  {
   "cell_type": "code",
   "execution_count": null,
   "id": "f4ec68fd-4dab-43a1-a74d-fc2137f04acb",
   "metadata": {},
   "outputs": [],
   "source": [
    "%load_ext autoreload\n",
    "%autoreload 2"
   ]
  },
  {
   "cell_type": "code",
   "execution_count": null,
   "id": "6d3d323b-2fd5-44cd-b9b0-ed41db593de3",
   "metadata": {},
   "outputs": [],
   "source": [
    "import paulssonlab.sequencing.io as sio"
   ]
  },
  {
   "cell_type": "code",
   "execution_count": null,
   "id": "f117a156-f6f6-423f-81be-bb5eed890a23",
   "metadata": {},
   "outputs": [],
   "source": [
    "hv.extension(\"bokeh\")"
   ]
  },
  {
   "cell_type": "code",
   "execution_count": null,
   "id": "ab1a37e0-1304-4373-a431-bdbd42cff000",
   "metadata": {},
   "outputs": [],
   "source": [
    "%load_ext pyinstrument\n",
    "import line_profiler\n",
    "import pyinstrument\n",
    "\n",
    "%load_ext line_profiler"
   ]
  },
  {
   "cell_type": "code",
   "execution_count": null,
   "id": "49b997e0-57da-4d8a-988e-2b48a6f2c8f3",
   "metadata": {},
   "outputs": [],
   "source": [
    "pl.enable_string_cache()"
   ]
  },
  {
   "cell_type": "markdown",
   "id": "0d050f91-79f4-491b-a4c4-a208210eff14",
   "metadata": {},
   "source": [
    "# Config"
   ]
  },
  {
   "cell_type": "code",
   "execution_count": null,
   "id": "6589476b-6033-46ed-9b8f-c4f1d115469f",
   "metadata": {},
   "outputs": [],
   "source": [
    "data_dir = Path(\n",
    "    \"/home/jqs1/scratch/jqs1/sequencing/230930_alignment_test/230707_repressilators/\"\n",
    ")"
   ]
  },
  {
   "cell_type": "code",
   "execution_count": null,
   "id": "c5d6c6f1-bd0c-462e-881d-ea12374fd54a",
   "metadata": {},
   "outputs": [],
   "source": [
    "arrow_ds = ds.dataset(list(data_dir.glob(\"*.arrow\")), format=\"arrow\")\n",
    "arrow_ds2 = ds.dataset(list(data_dir.glob(\"*.arrow\"))[:1], format=\"arrow\")\n",
    "parquet_ds = ds.dataset(list(data_dir.glob(\"*.parquet\")), format=\"parquet\")"
   ]
  },
  {
   "cell_type": "markdown",
   "id": "48f6ed4f-19b4-4692-9d1d-71652382dc3b",
   "metadata": {},
   "source": [
    "# Group by path"
   ]
  },
  {
   "cell_type": "markdown",
   "id": "2fdd0ddb-0693-4417-9e26-f0232df69770",
   "metadata": {},
   "source": [
    "## Setup"
   ]
  },
  {
   "cell_type": "code",
   "execution_count": null,
   "id": "a68f3109-d782-458d-b7c0-5c0efe5bcd9a",
   "metadata": {},
   "outputs": [],
   "source": [
    "gfa = gfapy.Gfa.from_file(\n",
    "    \"/home/jqs1/scratch/jqs1/sequencing/230930_alignment_test/barcode.gfa\"\n",
    ")"
   ]
  },
  {
   "cell_type": "code",
   "execution_count": null,
   "id": "0ed4305f-f2b0-47fe-9e49-67015494507f",
   "metadata": {},
   "outputs": [],
   "source": [
    "bc_segments_oriented = [\n",
    "    [f\"{o}{s}\" for s in gfa.segment_names if s.startswith(\"BC:\")] for o in \"><\"\n",
    "]"
   ]
  },
  {
   "cell_type": "code",
   "execution_count": null,
   "id": "f1e29f97-9ac6-42b2-bbcc-231f06b174ec",
   "metadata": {},
   "outputs": [],
   "source": [
    "bc_segments = [\n",
    "    f\"{o}{s}\" for s in gfa.segment_names if s.startswith(\"BC:BIT\") for o in \"><\"\n",
    "]"
   ]
  },
  {
   "cell_type": "code",
   "execution_count": null,
   "id": "b1b1ae9c-228e-45b5-af5a-345759ed5699",
   "metadata": {},
   "outputs": [],
   "source": [
    "reverse_path_mapping = {\n",
    "    f\"{o[0]}{s}\": f\"{o[1]}{s}\" for s in gfa.segment_names for o in [\"<>\", \"><\"]\n",
    "}"
   ]
  },
  {
   "cell_type": "markdown",
   "id": "13ee4af8-1585-47dc-9896-8523b10d3437",
   "metadata": {},
   "source": [
    "## Polars"
   ]
  },
  {
   "cell_type": "code",
   "execution_count": null,
   "id": "3d7075b0-66c7-4024-abd0-a777e99341e6",
   "metadata": {},
   "outputs": [],
   "source": [
    "def consensus_func(df):\n",
    "    return (\n",
    "        df.with_columns(\n",
    "            pl.col(\"name\").str.contains(\";\").alias(\"is_duplex\"),\n",
    "            pl.col(\"name\").str.contains(\";\").not_().alias(\"is_simplex\"),\n",
    "        )\n",
    "        .with_columns(\n",
    "            pl.sum(\"is_simplex\").alias(\"depth_simplex\"),\n",
    "            pl.sum(\"is_duplex\").alias(\"depth_duplex\"),\n",
    "        )\n",
    "        .select(\n",
    "            pl.col(\n",
    "                \"path_subset\",\n",
    "                \"read_seq\",\n",
    "                \"read_phred\",\n",
    "                \"depth_simplex\",\n",
    "                \"depth_duplex\",\n",
    "            )\n",
    "        )\n",
    "        .head(1)\n",
    "    )"
   ]
  },
  {
   "cell_type": "code",
   "execution_count": null,
   "id": "e2d8b148-3f24-4f8e-bb48-1bb802f1dfa7",
   "metadata": {},
   "outputs": [],
   "source": [
    "%%time\n",
    "df_input = pl.scan_ipc(str(data_dir / \"*.arrow\"))\n",
    "res = (\n",
    "    df_input.rename({\"path\": \"full_path\"})\n",
    "    # .filter(pl.col(\"name\").is_duplicated().not_())\n",
    "    .with_columns(\n",
    "        pl.col(\"full_path\")\n",
    "        .list.set_intersection(bc_segments)\n",
    "        # TODO: waiting on https://github.com/pola-rs/polars/issues/11735\n",
    "        # to keep path columns as categorical\n",
    "        .cast(pl.List(pl.Categorical))\n",
    "        .alias(\"_path\"),\n",
    "    ).filter(pl.col(\"_path\").hash() % 100 == 3)\n",
    ").collect()"
   ]
  },
  {
   "cell_type": "code",
   "execution_count": null,
   "id": "bd1a3a58-5ea6-4478-8181-0fbc94c767da",
   "metadata": {},
   "outputs": [],
   "source": [
    "pl.Series(bc_segments_oriented[0], dtype=pl.Categorical).to_physical()"
   ]
  },
  {
   "cell_type": "code",
   "execution_count": null,
   "id": "917f0628-a649-4213-9ffd-e3d88038245a",
   "metadata": {},
   "outputs": [],
   "source": [
    "%%time\n",
    "df_input = pl.scan_ipc(str(data_dir / \"*.arrow\"))\n",
    "res = (\n",
    "    df_input.limit(10_000)  # .rename({\"path\": \"full_path\"})\n",
    "    # .filter(pl.col(\"name\").is_duplicated().not_())\n",
    "    # .with_columns(\n",
    "    #     pl.col(\"full_path\").list.set_intersection(bc_segments)\n",
    "    #     # TODO: waiting on https://github.com/pola-rs/polars/issues/11735\n",
    "    #     # to keep path columns as categorical\n",
    "    #     .cast(pl.List(pl.Categorical))\n",
    "    #     .alias(\"_path\"),\n",
    "    # )\n",
    "    .with_columns(\n",
    "        pl.col(\"path\")\n",
    "        .to_physical()\n",
    "        .list.eval(pl.element() + 1)\n",
    "        # .cast(pl.List(pl.Categorical))\n",
    "        # .list.reverse()\n",
    "        # .list.eval(pl.element().map_dict(reverse_path_mapping))\n",
    "        # .cast(pl.List(pl.Categorical))\n",
    "        .alias(\"_path_reversed\")\n",
    "    )\n",
    "    # .filter(pl.col(\"_path\").hash() % 100 == 3)\n",
    ").collect()"
   ]
  },
  {
   "cell_type": "code",
   "execution_count": null,
   "id": "9dbd861a-ba24-4d68-a450-86d4f42bd107",
   "metadata": {},
   "outputs": [],
   "source": [
    "res"
   ]
  },
  {
   "cell_type": "code",
   "execution_count": null,
   "id": "ac0fdb26-2631-461e-98c6-954e12617d91",
   "metadata": {},
   "outputs": [],
   "source": [
    "%%time\n",
    "df_input = pl.scan_ipc(str(data_dir / \"*.arrow\"))\n",
    "df_path = (\n",
    "    df_input.rename({\"path\": \"full_path\"})  # .limit(10_000)\n",
    "    # .filter(pl.col(\"name\").is_duplicated().not_())\n",
    "    .with_columns(\n",
    "        pl.col(\"full_path\")\n",
    "        .list.set_intersection(bc_segments)\n",
    "        # TODO: waiting on https://github.com/pola-rs/polars/issues/11735\n",
    "        # to keep path columns as categorical\n",
    "        .cast(pl.List(pl.Categorical))\n",
    "        .alias(\"_path\"),\n",
    "    )\n",
    "    .with_columns(\n",
    "        pl.col(\"_path\")\n",
    "        # .list.reverse()\n",
    "        .list.eval(pl.element().map_dict(reverse_path_mapping)).alias(\"_path_reversed\"),\n",
    "        # (\n",
    "        #     pl.col(\"full_path\")\n",
    "        #     .list.set_intersection(bc_segments_oriented[0])\n",
    "        #     .list.len()\n",
    "        #     > 0\n",
    "        # ).alias(\"_is_forward\"),\n",
    "        # (\n",
    "        #     pl.col(\"full_path\")\n",
    "        #     .list.set_intersection(bc_segments_oriented[1])\n",
    "        #     .list.len()\n",
    "        #     > 0\n",
    "        # ).alias(\"_is_reverse\"),\n",
    "    )\n",
    "    .filter(\n",
    "        (pl.col(\"_path\").hash() % 100 == 3)\n",
    "        | (pl.col(\"_path_reversed\").hash() % 100 == 3)\n",
    "    )  # TODO\n",
    "    # .with_columns(\n",
    "    #     pl.when(pl.col(\"_is_forward\") & pl.col(\"_is_reverse\").not_())\n",
    "    #     .then(False)\n",
    "    #     .when(pl.col(\"_is_forward\").not_() & pl.col(\"_is_reverse\"))\n",
    "    #     .then(True)\n",
    "    #     .otherwise(None)\n",
    "    #     .alias(\"reverse_complement\"),\n",
    "    # )\n",
    "    # .with_columns(\n",
    "    #     pl.when(pl.col(\"reverse_complement\") == False)\n",
    "    #     .then(pl.col(\"_path\"))\n",
    "    #     .when(pl.col(\"reverse_complement\") == True)\n",
    "    #     .then(pl.col(\"_path_reversed\"))\n",
    "    #     .cast(pl.List(pl.Categorical))\n",
    "    #     .alias(\"path\")\n",
    "    # )\n",
    "    # .with_columns(pl.col(\"name\").str.split(\";\").alias(\"parent_names\"))\n",
    "    # .with_columns(\n",
    "    #     pl.when(pl.col(\"parent_names\").list.len() == 2)\n",
    "    #     .then(True)\n",
    "    #     .otherwise(False)\n",
    "    #     .alias(\"is_duplex\")\n",
    "    # )\n",
    "    # .filter(pl.col(\"path\").is_not_null())\n",
    "    # .filter(pl.col(\"path\").list.len() == 30)  # TODO\n",
    ")\n",
    "res = df_path.collect()"
   ]
  },
  {
   "cell_type": "code",
   "execution_count": null,
   "id": "5692ed93-37d5-4cc8-9287-8da99f490652",
   "metadata": {},
   "outputs": [],
   "source": [
    "len(res)"
   ]
  },
  {
   "cell_type": "code",
   "execution_count": null,
   "id": "8edc05ee-3210-414d-8294-c68e9545ce29",
   "metadata": {},
   "outputs": [],
   "source": [
    "%%time\n",
    "# with pl.StringCache():\n",
    "# df = pl.scan_pyarrow_dataset(arrow_ds)\n",
    "df_input = pl.scan_ipc(str(data_dir / \"*.arrow\"))\n",
    "# df_input = pl.scan_ipc(list(data_dir.glob(\"*.arrow\"))[0])\n",
    "df_path = (\n",
    "    df_input.rename({\"path\": \"full_path\"})  # .limit(10_000)\n",
    "    .filter(pl.col(\"name\").is_duplicated().not_())\n",
    "    .with_columns(\n",
    "        pl.col(\"full_path\").list.set_intersection(bc_segments)\n",
    "        # TODO: waiting on https://github.com/pola-rs/polars/issues/11735\n",
    "        # to keep path columns as categorical\n",
    "        # .cast(pl.List(pl.Categorical))\n",
    "        .alias(\"_path\"),\n",
    "    )\n",
    "    .with_columns(\n",
    "        pl.col(\"_path\")\n",
    "        .list.reverse()\n",
    "        .list.eval(pl.element().map_dict(reverse_path_mapping))\n",
    "        .alias(\"_path_reversed\"),\n",
    "        (\n",
    "            pl.col(\"full_path\")\n",
    "            .list.set_intersection(bc_segments_oriented[0])\n",
    "            .list.len()\n",
    "            > 0\n",
    "        ).alias(\"_is_forward\"),\n",
    "        (\n",
    "            pl.col(\"full_path\")\n",
    "            .list.set_intersection(bc_segments_oriented[1])\n",
    "            .list.len()\n",
    "            > 0\n",
    "        ).alias(\"_is_reverse\"),\n",
    "    )\n",
    "    .with_columns(\n",
    "        pl.when(pl.col(\"_is_forward\") & pl.col(\"_is_reverse\").not_())\n",
    "        .then(False)\n",
    "        .when(pl.col(\"_is_forward\").not_() & pl.col(\"_is_reverse\"))\n",
    "        .then(True)\n",
    "        .otherwise(None)\n",
    "        .alias(\"reverse_complement\"),\n",
    "    )\n",
    "    .with_columns(\n",
    "        pl.when(pl.col(\"reverse_complement\") == False)\n",
    "        .then(pl.col(\"_path\"))\n",
    "        .when(pl.col(\"reverse_complement\") == True)\n",
    "        .then(pl.col(\"_path_reversed\"))\n",
    "        .cast(pl.List(pl.Categorical))\n",
    "        .alias(\"path\")\n",
    "    )\n",
    "    .filter(pl.col(\"path\").hash() % 100 == 3)  # TODO\n",
    "    .with_columns(pl.col(\"name\").str.split(\";\").alias(\"parent_names\"))\n",
    "    .with_columns(\n",
    "        pl.when(pl.col(\"parent_names\").list.len() == 2)\n",
    "        .then(True)\n",
    "        .otherwise(False)\n",
    "        .alias(\"is_duplex\")\n",
    "    )\n",
    "    .filter(pl.col(\"path\").is_not_null())\n",
    "    .filter(pl.col(\"path\").list.len() == 30)  # TODO\n",
    ")\n",
    "df_with_parents = (\n",
    "    df_path.filter(pl.col(\"is_duplex\"))\n",
    "    .select(pl.col(\"name\"), pl.col(\"parent_names\").alias(\"_parent_name\"))\n",
    "    .explode(\"_parent_name\")\n",
    "    .join(\n",
    "        df_path.select(pl.col(\"name\", \"path\")),\n",
    "        how=\"left\",\n",
    "        left_on=pl.col(\"_parent_name\"),\n",
    "        right_on=pl.col(\"name\"),\n",
    "    )\n",
    ")\n",
    "df_duplex_paths_match = (\n",
    "    df_with_parents.with_columns(\n",
    "        pl.col(\"path\")\n",
    "        .first()\n",
    "        .over(\"name\", mapping_strategy=\"join\")\n",
    "        .alias(\"_path_first\")\n",
    "    )\n",
    "    .with_columns(\n",
    "        (pl.col(\"path\") == pl.col(\"_path_first\")).alias(\"_path_matches_first\")\n",
    "    )\n",
    "    .group_by(\"name\")\n",
    "    .agg(\n",
    "        pl.col(\"_path_matches_first\").all().alias(\"_duplex_paths_match\"),\n",
    "        pl.col(\"_parent_name\"),\n",
    "    )\n",
    ")\n",
    "df_simplex_paths_match = df_duplex_paths_match.select(\n",
    "    pl.col(\"_duplex_paths_match\").alias(\"_child_duplex_paths_match\"),\n",
    "    pl.col(\"_parent_name\"),\n",
    ").explode(\"_parent_name\")\n",
    "df_usable = (\n",
    "    df_path.join(\n",
    "        df_duplex_paths_match.select(pl.col(\"name\", \"_duplex_paths_match\")),\n",
    "        how=\"left\",\n",
    "        on=\"name\",\n",
    "    )\n",
    "    .join(df_simplex_paths_match, how=\"left\", left_on=\"name\", right_on=\"_parent_name\")\n",
    "    .with_columns(\n",
    "        pl.when(pl.col(\"is_duplex\"))\n",
    "        .then(pl.col(\"_duplex_paths_match\").fill_null(False))\n",
    "        .otherwise(pl.col(\"_child_duplex_paths_match\").not_().fill_null(True))\n",
    "        .alias(\"usable\")\n",
    "    )\n",
    ")\n",
    "# res = df_usable.select(pl.all().exclude(\"^_.*$\")).collect()"
   ]
  },
  {
   "cell_type": "code",
   "execution_count": null,
   "id": "937e1ae7-8b57-4a64-87b9-d950b09f90c5",
   "metadata": {},
   "outputs": [],
   "source": [
    "%%time\n",
    "df_read_groups = (\n",
    "    df_usable.select(\n",
    "        pl.col(\n",
    "            \"name\",\n",
    "            \"is_duplex\",\n",
    "            \"read_seq\",\n",
    "            \"read_phred\",\n",
    "            \"reverse_complement\",\n",
    "            \"path\",\n",
    "            \"full_path\",\n",
    "        )\n",
    "    )\n",
    "    .group_by(\"path\")\n",
    "    .agg(\n",
    "        pl.col(\"name\", \"read_seq\", \"read_phred\", \"reverse_complement\"),\n",
    "        pl.col(\"is_duplex\").sum().alias(\"duplex_depth\"),\n",
    "        pl.count().alias(\"depth\"),\n",
    "    )\n",
    "    .with_columns((pl.col(\"depth\") - pl.col(\"duplex_depth\")).alias(\"simplex_depth\"))\n",
    "    .filter(pl.col(\"depth\") > 5)\n",
    "    # .map_groups(\n",
    "    #     consensus_func,\n",
    "    #     schema=dict(\n",
    "    #         path_subset=pl.List(pl.Categorical),\n",
    "    #         read_seq=pl.Utf8,\n",
    "    #         read_phred=pl.Utf8,\n",
    "    #         depth_simplex=pl.UInt64,\n",
    "    #         depth_duplex=pl.UInt64,\n",
    "    #     ),\n",
    "    # )\n",
    ")\n",
    "res = df_read_groups.collect()\n",
    "# res.select(pl.all().exclude(\"name\",\"read_seq\", \"read_phred\", \"reverse_complement\"))"
   ]
  },
  {
   "cell_type": "code",
   "execution_count": null,
   "id": "d996c494-12d6-4815-b5af-beed1287024e",
   "metadata": {},
   "outputs": [],
   "source": [
    "%%time\n",
    "res.write_parquet(\"test_read_groups_100.parquet\", compression=None)"
   ]
  },
  {
   "cell_type": "code",
   "execution_count": null,
   "id": "8bf99539-ed2a-4904-968c-da42fd33d200",
   "metadata": {},
   "outputs": [],
   "source": [
    "?df_read_groups.show_graph"
   ]
  },
  {
   "cell_type": "code",
   "execution_count": null,
   "id": "4963720f-4de4-4570-a462-aafa3bffbb1c",
   "metadata": {},
   "outputs": [],
   "source": [
    "import polars as pl"
   ]
  },
  {
   "cell_type": "code",
   "execution_count": null,
   "id": "b22e123b-4e01-4e70-a6e7-691243be85b6",
   "metadata": {},
   "outputs": [],
   "source": [
    "%%time\n",
    "res.write_ipc(\"test_read_groups_full.arrow\", compression=None)"
   ]
  },
  {
   "cell_type": "code",
   "execution_count": null,
   "id": "7bc3be1f-ccd0-4290-bee9-8e3865e27a82",
   "metadata": {},
   "outputs": [],
   "source": [
    "len(res)"
   ]
  },
  {
   "cell_type": "code",
   "execution_count": null,
   "id": "7e226899-debb-431d-aade-ec5505d73a57",
   "metadata": {},
   "outputs": [],
   "source": [
    "res.estimated_size() / 1e9"
   ]
  },
  {
   "cell_type": "code",
   "execution_count": null,
   "id": "5fb7a26b-1d4b-4f19-b362-ae2eeb5756e3",
   "metadata": {},
   "outputs": [],
   "source": [
    "res.select(pl.col(\"depth\", \"duplex_depth\"))"
   ]
  },
  {
   "cell_type": "code",
   "execution_count": null,
   "id": "826e1e59-ce7b-40c2-a2ca-5c33a8f7d0e4",
   "metadata": {},
   "outputs": [],
   "source": [
    "test_groups = res"
   ]
  },
  {
   "cell_type": "code",
   "execution_count": null,
   "id": "4d14bb3c-414c-4571-b890-102927582414",
   "metadata": {},
   "outputs": [],
   "source": [
    "%%time\n",
    "test_groups = pl.read_ipc(\"test_read_groups.arrow\")"
   ]
  },
  {
   "cell_type": "code",
   "execution_count": null,
   "id": "62d781fd-bcec-4121-9f38-e6d59fbb9ca3",
   "metadata": {},
   "outputs": [],
   "source": [
    "test_groups.select(pl.col(\"name\")).with_columns(pl.col(\"name\").list.len()).filter(\n",
    "    pl.col(\"name\") != 1\n",
    ").sort(\"name\")"
   ]
  },
  {
   "cell_type": "code",
   "execution_count": null,
   "id": "7f203443-c5e9-4c9c-ab5b-e59392773f2e",
   "metadata": {},
   "outputs": [],
   "source": [
    "test_reads = test_groups[10].select(\n",
    "    pl.col(\"name\", \"read_seq\", \"read_phred\").list.explode()\n",
    ")"
   ]
  },
  {
   "cell_type": "code",
   "execution_count": null,
   "id": "69cb0a49-a7c0-46be-bd8d-2deefaf9d241",
   "metadata": {},
   "outputs": [],
   "source": [
    "test_reads"
   ]
  },
  {
   "cell_type": "markdown",
   "id": "e23229a6-5413-4c15-b936-eaf5ef56d52b",
   "metadata": {},
   "source": [
    "## Secondary alignments"
   ]
  },
  {
   "cell_type": "code",
   "execution_count": null,
   "id": "12577c60-0686-48d3-a6a3-217874c69420",
   "metadata": {},
   "outputs": [],
   "source": [
    "%%time\n",
    "dups = (\n",
    "    df_input.limit(10_000)\n",
    "    .filter(pl.col(\"name\").is_duplicated())\n",
    "    .select(pl.col(\"name\", \"residue_matches\", \"path\"))\n",
    "    .collect()\n",
    "    .rows()\n",
    ")"
   ]
  },
  {
   "cell_type": "code",
   "execution_count": null,
   "id": "401f6949-abcd-401a-802f-fa47178dca46",
   "metadata": {},
   "outputs": [],
   "source": [
    "for idx in range(0, 10, 2):\n",
    "    print(dups[idx][1], \" \".join(dups[idx][2]))\n",
    "    print()\n",
    "    print(dups[idx + 1][1], \" \".join(dups[idx + 1][2]))\n",
    "    print()\n",
    "    print()"
   ]
  },
  {
   "cell_type": "markdown",
   "id": "4c882f2c-0074-4580-b15d-3e3be2061af1",
   "metadata": {},
   "source": [
    "## DuckDB"
   ]
  },
  {
   "cell_type": "code",
   "execution_count": null,
   "id": "e73f64cb-12b2-4b51-aa49-00e952d4ee28",
   "metadata": {},
   "outputs": [],
   "source": [
    "%%time\n",
    "res = duckdb.execute(\n",
    "    \"SELECT path, list_intersect(path, $bc_segments) FROM arrow_ds2 LIMIT 2\",\n",
    "    dict(bc_segments=bc_segments),\n",
    ").arrow()"
   ]
  },
  {
   "cell_type": "code",
   "execution_count": null,
   "id": "5e28e6b0-9f45-4961-a5ff-304312a61f74",
   "metadata": {},
   "outputs": [],
   "source": [
    "res"
   ]
  }
 ],
 "metadata": {
  "kernelspec": {
   "display_name": "Python 3 (ipykernel)",
   "language": "python",
   "name": "python3"
  },
  "language_info": {
   "codemirror_mode": {
    "name": "ipython",
    "version": 3
   },
   "file_extension": ".py",
   "mimetype": "text/x-python",
   "name": "python",
   "nbconvert_exporter": "python",
   "pygments_lexer": "ipython3",
   "version": "3.10.12"
  }
 },
 "nbformat": 4,
 "nbformat_minor": 5
}
