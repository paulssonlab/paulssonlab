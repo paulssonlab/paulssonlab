{
 "cells": [
  {
   "cell_type": "code",
   "execution_count": null,
   "id": "41c57f7d-eb34-40e9-b810-10d4c44d68b2",
   "metadata": {},
   "outputs": [],
   "source": [
    "import itertools as it\n",
    "import operator\n",
    "import re\n",
    "from collections import Counter\n",
    "from pathlib import Path\n",
    "\n",
    "import awkward as ak\n",
    "import bottleneck as bn\n",
    "import duckdb\n",
    "import gfapy\n",
    "import holoviews as hv\n",
    "import ibis\n",
    "import matplotlib.pyplot as plt\n",
    "import numba\n",
    "import numpy as np\n",
    "import pandas as pd\n",
    "import polars as pl\n",
    "import pyabpoa\n",
    "import pyarrow as pa\n",
    "import pyarrow.compute as pc\n",
    "import pyarrow.dataset as ds\n",
    "import pyfastx\n",
    "import pysam\n",
    "import spoa\n",
    "from pyarrow import csv\n",
    "from tqdm.auto import tqdm, trange"
   ]
  },
  {
   "cell_type": "code",
   "execution_count": null,
   "id": "f4ec68fd-4dab-43a1-a74d-fc2137f04acb",
   "metadata": {},
   "outputs": [],
   "source": [
    "%load_ext autoreload\n",
    "%autoreload 2"
   ]
  },
  {
   "cell_type": "code",
   "execution_count": null,
   "id": "6d3d323b-2fd5-44cd-b9b0-ed41db593de3",
   "metadata": {},
   "outputs": [],
   "source": [
    "import paulssonlab.sequencing.consensus as con\n",
    "import paulssonlab.sequencing.io as sio\n",
    "from paulssonlab.util.sequence import reverse_complement"
   ]
  },
  {
   "cell_type": "code",
   "execution_count": null,
   "id": "f117a156-f6f6-423f-81be-bb5eed890a23",
   "metadata": {},
   "outputs": [],
   "source": [
    "hv.extension(\"bokeh\")"
   ]
  },
  {
   "cell_type": "code",
   "execution_count": null,
   "id": "ab1a37e0-1304-4373-a431-bdbd42cff000",
   "metadata": {},
   "outputs": [],
   "source": [
    "%load_ext pyinstrument\n",
    "import line_profiler\n",
    "import pyinstrument\n",
    "\n",
    "%load_ext line_profiler"
   ]
  },
  {
   "cell_type": "markdown",
   "id": "48f6ed4f-19b4-4692-9d1d-71652382dc3b",
   "metadata": {},
   "source": [
    "# Consensus"
   ]
  },
  {
   "cell_type": "code",
   "execution_count": null,
   "id": "4d14bb3c-414c-4571-b890-102927582414",
   "metadata": {},
   "outputs": [],
   "source": [
    "test_groups = pl.read_ipc(\n",
    "    \"/home/jqs1/scratch/jqs1/sequencing/scratch/test_read_groups_100.arrow\"\n",
    ")"
   ]
  },
  {
   "cell_type": "code",
   "execution_count": null,
   "id": "62d781fd-bcec-4121-9f38-e6d59fbb9ca3",
   "metadata": {},
   "outputs": [],
   "source": [
    "group_depths = (\n",
    "    test_groups.select(pl.col(\"name\"))\n",
    "    .with_columns(pl.col(\"name\").list.len())\n",
    "    .filter(pl.col(\"name\") > 1)\n",
    "    .sort(\"name\", descending=True)\n",
    "    .to_numpy()\n",
    ")"
   ]
  },
  {
   "cell_type": "code",
   "execution_count": null,
   "id": "e3a7fc0a-d92f-42fb-a0b2-b071e74b9481",
   "metadata": {},
   "outputs": [],
   "source": [
    "plt.plot(group_depths[:, 0])"
   ]
  },
  {
   "cell_type": "code",
   "execution_count": null,
   "id": "cd7e5bda-5c84-40d9-8ab2-dafbe68edb00",
   "metadata": {},
   "outputs": [],
   "source": [
    "%%time\n",
    "test_groups_subset = test_groups.filter(pl.col(\"name\").list.len().is_between(100, 120))"
   ]
  },
  {
   "cell_type": "code",
   "execution_count": null,
   "id": "42765663-38d5-495d-9b36-1b0198eddc1f",
   "metadata": {},
   "outputs": [],
   "source": [
    "test_groups_subset.select(\"depth\", \"duplex_depth\")"
   ]
  },
  {
   "cell_type": "code",
   "execution_count": null,
   "id": "7f203443-c5e9-4c9c-ab5b-e59392773f2e",
   "metadata": {},
   "outputs": [],
   "source": [
    "test_reads = (\n",
    "    test_groups_subset[0]\n",
    "    .select(\n",
    "        pl.col(\"name\", \"read_seq\", \"read_phred\", \"reverse_complement\").list.explode(),\n",
    "        pl.col(\"duplex_depth\", \"simplex_depth\"),\n",
    "    )\n",
    "    .with_columns(\n",
    "        pl.col(\"read_seq\").str.len_bytes().alias(\"read_len\"),\n",
    "        pl.col(\"name\").str.contains(\";\").alias(\"is_duplex\"),\n",
    "        pl.col(\"name\").str.contains(\";\").not_().alias(\"is_simplex\"),\n",
    "    )\n",
    "    .sort(\"is_duplex\", descending=True)\n",
    ")\n",
    "test_reads"
   ]
  },
  {
   "cell_type": "code",
   "execution_count": null,
   "id": "38046bba-cb15-4e43-8cd3-31a4b8626175",
   "metadata": {},
   "outputs": [],
   "source": [
    "%%time\n",
    "read_seq = test_reads.get_column(\"read_seq\").to_list()\n",
    "read_rc = ak.from_arrow(test_reads.get_column(\"reverse_complement\").to_arrow())\n",
    "read_phred = test_reads.get_column(\"read_phred\").to_arrow()\n",
    "read_seq_oriented = [\n",
    "    reverse_complement(seq) if rc else seq for seq, rc in zip(read_seq, read_rc)\n",
    "]\n",
    "read_phred_oriented = ak.from_arrow(\n",
    "    pa.array(\n",
    "        [\n",
    "            phred.values.to_numpy()[::-1] if rc else phred.values.to_numpy()\n",
    "            for phred, rc in zip(read_phred, read_rc)\n",
    "        ]\n",
    "    )\n",
    ")"
   ]
  },
  {
   "cell_type": "code",
   "execution_count": null,
   "id": "0b164d8e-5837-4d57-9472-da4aa0b6774d",
   "metadata": {},
   "outputs": [],
   "source": [
    "%%time\n",
    "seqs, phreds = con.prepare_reads(\n",
    "    test_reads.get_column(\"read_seq\").to_list(),\n",
    "    test_reads.get_column(\"reverse_complement\").to_arrow(),\n",
    "    test_reads.get_column(\"read_phred\").to_arrow(),\n",
    ")"
   ]
  },
  {
   "cell_type": "code",
   "execution_count": null,
   "id": "b79efa5e-1239-41f3-abbb-a776cf0b619c",
   "metadata": {},
   "outputs": [],
   "source": [
    "%%time\n",
    "aligned_phreds = con.align_phreds(msa_seq, read_phred_oriented)"
   ]
  },
  {
   "cell_type": "code",
   "execution_count": null,
   "id": "e69626be-5346-420e-b66f-7da6d0a2e108",
   "metadata": {},
   "outputs": [],
   "source": [
    "%%time\n",
    "msa_seqs = con.msa(seqs, method=\"abpoa\")"
   ]
  },
  {
   "cell_type": "code",
   "execution_count": null,
   "id": "dfa58a05-9456-462f-85ef-881725891898",
   "metadata": {},
   "outputs": [],
   "source": [
    "con.print_msa(msa_seqs, phreds)"
   ]
  },
  {
   "cell_type": "code",
   "execution_count": null,
   "id": "dcc502ef-d940-4517-a4fa-78195b7c7089",
   "metadata": {},
   "outputs": [],
   "source": [
    "%%time\n",
    "(\n",
    "    consensus,\n",
    "    consensus_phred,\n",
    "    nonconsensus,\n",
    "    nonconsensus_phred,\n",
    ") = con.phred_weighted_consensus(msa_seq, read_phred_oriented)"
   ]
  },
  {
   "cell_type": "markdown",
   "id": "7c017e25-85e8-4924-ae21-89cc84f48c89",
   "metadata": {},
   "source": [
    "## Numba"
   ]
  },
  {
   "cell_type": "code",
   "execution_count": null,
   "id": "984fdf59-daf7-4954-968d-1e3e0127820b",
   "metadata": {},
   "outputs": [],
   "source": [
    "%%time\n",
    "(\n",
    "    consensus,\n",
    "    consensus_phred,\n",
    "    conconsensus,\n",
    "    nonconsensus_phred,\n",
    ") = con.phred_weighted_consensus(msa_seq, read_phred_oriented)"
   ]
  },
  {
   "cell_type": "code",
   "execution_count": null,
   "id": "36dbd68c-90f9-40e4-8f48-cf499118fc73",
   "metadata": {},
   "outputs": [],
   "source": [
    "consensus"
   ]
  },
  {
   "cell_type": "code",
   "execution_count": null,
   "id": "3e98e201-79cc-494d-82b3-04a3e42d6704",
   "metadata": {},
   "outputs": [],
   "source": [
    "consensus.tobytes().decode()  # .replace(\"-\", \"\")"
   ]
  },
  {
   "cell_type": "code",
   "execution_count": null,
   "id": "241736fa-beb6-41e3-bcc8-c4ab6b2a761d",
   "metadata": {},
   "outputs": [],
   "source": [
    "len(read_phred_oriented)"
   ]
  },
  {
   "cell_type": "code",
   "execution_count": null,
   "id": "8a18adb5-22f9-4296-b1a2-ca8d193f2ee9",
   "metadata": {},
   "outputs": [],
   "source": [
    "len(msa_seq)"
   ]
  }
 ],
 "metadata": {
  "kernelspec": {
   "display_name": "Python 3 (ipykernel)",
   "language": "python",
   "name": "python3"
  },
  "language_info": {
   "codemirror_mode": {
    "name": "ipython",
    "version": 3
   },
   "file_extension": ".py",
   "mimetype": "text/x-python",
   "name": "python",
   "nbconvert_exporter": "python",
   "pygments_lexer": "ipython3",
   "version": "3.10.12"
  }
 },
 "nbformat": 4,
 "nbformat_minor": 5
}
