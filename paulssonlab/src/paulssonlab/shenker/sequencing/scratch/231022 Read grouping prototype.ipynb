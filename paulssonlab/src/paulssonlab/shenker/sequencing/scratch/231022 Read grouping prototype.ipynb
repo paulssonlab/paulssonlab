{
 "cells": [
  {
   "cell_type": "markdown",
   "id": "a97437aa-d3aa-4d22-ac31-75381541a3dd",
   "metadata": {
    "jp-MarkdownHeadingCollapsed": true
   },
   "source": [
    "# Polars bigidx test"
   ]
  },
  {
   "cell_type": "code",
   "execution_count": null,
   "id": "315038de-8fe0-4e92-b43f-bffcd5b45e3f",
   "metadata": {},
   "outputs": [],
   "source": [
    "!micromamba install -y polars"
   ]
  },
  {
   "cell_type": "code",
   "execution_count": null,
   "id": "3d34b167-6db1-4ce0-9f66-d306957b5488",
   "metadata": {},
   "outputs": [],
   "source": [
    "!pip install --force-reinstall -v /home/jqs1/projects/polars/py-polars/target/wheels/polars-0.19.9-cp38-abi3-linux_x86_64.whl"
   ]
  },
  {
   "cell_type": "code",
   "execution_count": null,
   "id": "7fb58110-d87f-4bbb-a977-c6cf0fa461c4",
   "metadata": {},
   "outputs": [],
   "source": [
    "!pip uninstall -y polars"
   ]
  },
  {
   "cell_type": "code",
   "execution_count": null,
   "id": "a102c20e-1ee3-4e4d-9637-2a246200bb34",
   "metadata": {},
   "outputs": [],
   "source": [
    "!micromamba remove -y polars"
   ]
  },
  {
   "cell_type": "code",
   "execution_count": null,
   "id": "6d39ed02-4a64-4775-9e59-853822d0b01d",
   "metadata": {},
   "outputs": [],
   "source": [
    "%%time\n",
    "# check for polars-u64-idx (bigidx)\n",
    "import polars as pl\n",
    "\n",
    "pl.select(\n",
    "    pl.repeat(False, n=(2**32) + 100, eager=True).alias(\"col1\")\n",
    ").with_row_count()"
   ]
  },
  {
   "cell_type": "markdown",
   "id": "e9e854bf-1642-4517-bb97-97ba5691df65",
   "metadata": {},
   "source": [
    "# Imports"
   ]
  },
  {
   "cell_type": "code",
   "execution_count": null,
   "id": "8eb2bb58-a17b-4ec5-b600-ee97a8801f01",
   "metadata": {},
   "outputs": [],
   "source": [
    "import os\n",
    "\n",
    "# os.environ[\"POLARS_MAX_THREADS\"] = \"8\"\n",
    "# os.environ[\"POLARS_VERBOSE\"] = \"1\""
   ]
  },
  {
   "cell_type": "code",
   "execution_count": null,
   "id": "41c57f7d-eb34-40e9-b810-10d4c44d68b2",
   "metadata": {},
   "outputs": [],
   "source": [
    "import itertools as it\n",
    "import operator\n",
    "import re\n",
    "from collections import Counter\n",
    "from pathlib import Path\n",
    "\n",
    "import duckdb\n",
    "import gfapy\n",
    "import holoviews as hv\n",
    "import ibis\n",
    "import matplotlib.pyplot as plt\n",
    "import networkx as nx\n",
    "import numpy as np\n",
    "import pandas as pd\n",
    "import polars as pl\n",
    "import pyabpoa\n",
    "import pyarrow as pa\n",
    "import pyarrow.compute as pc\n",
    "import pyarrow.dataset as ds\n",
    "import pyfastx\n",
    "import pysam\n",
    "import spoa\n",
    "from pyarrow import csv\n",
    "from tqdm.auto import tqdm, trange"
   ]
  },
  {
   "cell_type": "code",
   "execution_count": null,
   "id": "f4ec68fd-4dab-43a1-a74d-fc2137f04acb",
   "metadata": {},
   "outputs": [],
   "source": [
    "%load_ext autoreload\n",
    "%autoreload 2"
   ]
  },
  {
   "cell_type": "code",
   "execution_count": null,
   "id": "6d3d323b-2fd5-44cd-b9b0-ed41db593de3",
   "metadata": {},
   "outputs": [],
   "source": [
    "import paulssonlab.sequencing.gfa as sgfa\n",
    "import paulssonlab.sequencing.io as sio\n",
    "import paulssonlab.sequencing.processing as processing"
   ]
  },
  {
   "cell_type": "code",
   "execution_count": null,
   "id": "f117a156-f6f6-423f-81be-bb5eed890a23",
   "metadata": {},
   "outputs": [],
   "source": [
    "hv.extension(\"bokeh\")"
   ]
  },
  {
   "cell_type": "code",
   "execution_count": null,
   "id": "ab1a37e0-1304-4373-a431-bdbd42cff000",
   "metadata": {},
   "outputs": [],
   "source": [
    "%load_ext pyinstrument\n",
    "import line_profiler\n",
    "import pyinstrument\n",
    "\n",
    "%load_ext line_profiler"
   ]
  },
  {
   "cell_type": "code",
   "execution_count": null,
   "id": "49b997e0-57da-4d8a-988e-2b48a6f2c8f3",
   "metadata": {},
   "outputs": [],
   "source": [
    "pl.enable_string_cache()"
   ]
  },
  {
   "cell_type": "markdown",
   "id": "0d050f91-79f4-491b-a4c4-a208210eff14",
   "metadata": {},
   "source": [
    "# Config"
   ]
  },
  {
   "cell_type": "code",
   "execution_count": null,
   "id": "6589476b-6033-46ed-9b8f-c4f1d115469f",
   "metadata": {},
   "outputs": [],
   "source": [
    "data_dir = Path(\n",
    "    \"/home/jqs1/scratch/jqs1/sequencing/230930_alignment_test/230707_repressilators/dorado_0.4.0/uncompressed/\"\n",
    ")"
   ]
  },
  {
   "cell_type": "markdown",
   "id": "48f6ed4f-19b4-4692-9d1d-71652382dc3b",
   "metadata": {},
   "source": [
    "# Group by path"
   ]
  },
  {
   "cell_type": "markdown",
   "id": "2fdd0ddb-0693-4417-9e26-f0232df69770",
   "metadata": {},
   "source": [
    "## Setup"
   ]
  },
  {
   "cell_type": "code",
   "execution_count": null,
   "id": "a68f3109-d782-458d-b7c0-5c0efe5bcd9a",
   "metadata": {},
   "outputs": [],
   "source": [
    "gfa = gfapy.Gfa.from_file(\n",
    "    \"/home/jqs1/scratch/jqs1/sequencing/230930_alignment_test/barcode.gfa\"\n",
    ")"
   ]
  },
  {
   "cell_type": "markdown",
   "id": "845f2f17-42ef-4f25-896d-8722ce6736c8",
   "metadata": {},
   "source": [
    "## Graph"
   ]
  },
  {
   "cell_type": "code",
   "execution_count": null,
   "id": "f98dc979-830a-472d-a555-79b1b25ce9de",
   "metadata": {},
   "outputs": [],
   "source": [
    "sgfa.gfa_endpoints(gfa)"
   ]
  },
  {
   "cell_type": "code",
   "execution_count": null,
   "id": "dcec807c-d894-41e7-b359-b42943624ccb",
   "metadata": {},
   "outputs": [],
   "source": [
    "gfa_filtered = sgfa.filter_gfa(\n",
    "    gfa, exclude=[\"UNS9\", \"BC:UPSTREAM\", \"BC:JUNCTION\", \"BC:T7_TERM\", \"BC:SPACER2\"]\n",
    ")\n",
    "sgfa.gfa_endpoints(gfa_filtered)"
   ]
  },
  {
   "cell_type": "code",
   "execution_count": null,
   "id": "26c98a9e-1843-45d3-840d-488d6e3f7f45",
   "metadata": {},
   "outputs": [],
   "source": [
    "graph = sgfa.gfa_to_dag(gfa_filtered)"
   ]
  },
  {
   "cell_type": "code",
   "execution_count": null,
   "id": "f04f1c8d-6cdb-4b2b-a3c2-b0cfd7759006",
   "metadata": {},
   "outputs": [],
   "source": [
    "wccs = list(nx.weakly_connected_components(graph))"
   ]
  },
  {
   "cell_type": "code",
   "execution_count": null,
   "id": "20a8c244-37e7-40c9-af50-b7ed56bb8ca4",
   "metadata": {},
   "outputs": [],
   "source": [
    "gfa = gfapy.Gfa.from_file(\n",
    "    \"/home/jqs1/scratch/jqs1/sequencing/230930_alignment_test/barcode.gfa\"\n",
    ")"
   ]
  },
  {
   "cell_type": "code",
   "execution_count": null,
   "id": "54193ff5-adc8-4312-a132-9be7445253a5",
   "metadata": {},
   "outputs": [],
   "source": [
    "gfa.lines[2].disconnect()"
   ]
  },
  {
   "cell_type": "code",
   "execution_count": null,
   "id": "aea02e13-0343-4b4c-945e-b12d2f7cbc9a",
   "metadata": {},
   "outputs": [],
   "source": [
    "gfa.lines[4].NAME_FIELD"
   ]
  },
  {
   "cell_type": "code",
   "execution_count": null,
   "id": "723eb682-87c3-4036-8e37-46ad355ed9ae",
   "metadata": {},
   "outputs": [],
   "source": [
    "gfa.lines[80].ID"
   ]
  },
  {
   "cell_type": "code",
   "execution_count": null,
   "id": "3aab82ca-b740-42b1-bc17-d14fb3b45350",
   "metadata": {},
   "outputs": [],
   "source": [
    "gfa.lines[1].NAME_FIELD"
   ]
  },
  {
   "cell_type": "code",
   "execution_count": null,
   "id": "0037a952-97f5-4558-8027-b07524931c8f",
   "metadata": {},
   "outputs": [],
   "source": [
    "??gfa.rm"
   ]
  },
  {
   "cell_type": "code",
   "execution_count": null,
   "id": "b18dabef-22a2-40b4-9bd3-a46f59e13702",
   "metadata": {},
   "outputs": [],
   "source": [
    "gfa.lines"
   ]
  },
  {
   "cell_type": "code",
   "execution_count": null,
   "id": "eaed9c41-d98c-4338-b261-640fcd0914d2",
   "metadata": {},
   "outputs": [],
   "source": [
    "gfa.lines[1].all_references"
   ]
  },
  {
   "cell_type": "code",
   "execution_count": null,
   "id": "b2eafff8-56ce-4999-b0c3-19b6f55b9565",
   "metadata": {},
   "outputs": [],
   "source": [
    "gfa."
   ]
  },
  {
   "cell_type": "code",
   "execution_count": null,
   "id": "e4221846-2beb-4b72-af10-aabdd0af21aa",
   "metadata": {},
   "outputs": [],
   "source": [
    "?gfa.segments[0].disconnect"
   ]
  },
  {
   "cell_type": "code",
   "execution_count": null,
   "id": "181b3dd8-7931-4635-b1c9-09de39c05d46",
   "metadata": {},
   "outputs": [],
   "source": [
    "gfa.segments"
   ]
  },
  {
   "cell_type": "code",
   "execution_count": null,
   "id": "62ae96d0-1085-4e95-b07d-e0f00e9ed7ac",
   "metadata": {},
   "outputs": [],
   "source": [
    "graph = gfa_to_dag(gfa)\n",
    "gfa_endpoints(gfa, subset_segments)"
   ]
  },
  {
   "cell_type": "code",
   "execution_count": null,
   "id": "5bb4e722-5fea-4385-8751-9c8d88cd16f8",
   "metadata": {},
   "outputs": [],
   "source": [
    "(\n",
    "    subset_segments,\n",
    "    forward_segments,\n",
    "    reverse_segments,\n",
    "    reverse_path_mapping,\n",
    ") = processing._segments_for_normalize_path(gfa.segment_names, \"BC:BIT\", \"BC:\")"
   ]
  },
  {
   "cell_type": "code",
   "execution_count": null,
   "id": "cedf3f0f-1384-4bf6-8aff-f1227f53f204",
   "metadata": {},
   "outputs": [],
   "source": [
    "graph = gfa_to_dag(gfa)"
   ]
  },
  {
   "cell_type": "code",
   "execution_count": null,
   "id": "e579fc44-5ff9-4544-ad69-9207aea937ee",
   "metadata": {},
   "outputs": [],
   "source": [
    "wcc = list(nx.weakly_connected_components(graph))\n",
    "nx.subgraph(graph, wcc[0]).nodes\n",
    "[\n",
    "    node\n",
    "    for node in graph.nodes\n",
    "    if graph.in_degree[node] != 0 and graph.out_degree[node] == 0\n",
    "]\n",
    "[\n",
    "    node\n",
    "    for node in graph.nodes\n",
    "    if graph.in_degree[node] == 0 and graph.out_degree[node] != 0\n",
    "]"
   ]
  },
  {
   "cell_type": "code",
   "execution_count": null,
   "id": "e9a30bcf-e908-4e33-be27-01fe86b8cbd2",
   "metadata": {},
   "outputs": [],
   "source": [
    "[\n",
    "    node\n",
    "    for node in graph.nodes\n",
    "    if graph.in_degree[node] != 0 and graph.out_degree[node] == 0\n",
    "]\n",
    "[\n",
    "    node\n",
    "    for node in graph.nodes\n",
    "    if graph.in_degree[node] == 0 and graph.out_degree[node] != 0\n",
    "]"
   ]
  },
  {
   "cell_type": "code",
   "execution_count": null,
   "id": "bce2f8bf-2a40-4537-ba79-08b867f0aa54",
   "metadata": {},
   "outputs": [],
   "source": [
    "[\n",
    "    node\n",
    "    for node in graph.nodes\n",
    "    if graph.in_degree[node] == 0 and graph.out_degree[node] != 0\n",
    "]"
   ]
  },
  {
   "cell_type": "code",
   "execution_count": null,
   "id": "e8ad2a22-16b5-47a8-b27f-a545087f1b90",
   "metadata": {},
   "outputs": [],
   "source": [
    "list(graph.neighbors(\"<BC:BIT10=0\"))"
   ]
  },
  {
   "cell_type": "code",
   "execution_count": null,
   "id": "df9a1faf-0fac-4872-b815-d98165099a1d",
   "metadata": {},
   "outputs": [],
   "source": [
    "graph.adj[\">BC:BIT1=ON\"]"
   ]
  },
  {
   "cell_type": "code",
   "execution_count": null,
   "id": "1f774d62-83e3-4fae-8da9-b89d9233700a",
   "metadata": {},
   "outputs": [],
   "source": [
    "list(graph.nodes.values())"
   ]
  },
  {
   "cell_type": "code",
   "execution_count": null,
   "id": "a90ce752-aa1f-4428-8c92-b233096e941d",
   "metadata": {},
   "outputs": [],
   "source": [
    "nx.subgraph(graph, wcc[0]).nodes"
   ]
  },
  {
   "cell_type": "markdown",
   "id": "13ee4af8-1585-47dc-9896-8523b10d3437",
   "metadata": {},
   "source": [
    "## Polars"
   ]
  },
  {
   "cell_type": "code",
   "execution_count": null,
   "id": "78425e7f-ad54-4c40-8d35-b6b9f281f13b",
   "metadata": {},
   "outputs": [],
   "source": [
    "# df = pl.scan_pyarrow_dataset(arrow_ds)\n",
    "# df_input = pl.scan_ipc(str(data_dir / \"*.arrow\"))\n",
    "# df_input = pl.scan_ipc(list(data_dir.glob(\"*.arrow\"))[0])\n",
    "# df_input = pl.scan_parquet(list(data_dir.glob(\"*.parquet\"))[0])"
   ]
  },
  {
   "cell_type": "code",
   "execution_count": null,
   "id": "d7a2a32c-4dfe-48df-92b9-37a4b56c06cb",
   "metadata": {},
   "outputs": [],
   "source": [
    "%%time\n",
    "df_input = pl.scan_ipc(list(data_dir.glob(\"*.arrow\"))[4])\n",
    "df = processing.normalize_path(df_input, gfa.segment_names, \"BC:BIT\", \"BC:\").collect()"
   ]
  },
  {
   "cell_type": "code",
   "execution_count": null,
   "id": "096bbd6b-c9a7-4ee6-9783-aea4b86c7ba4",
   "metadata": {},
   "outputs": [],
   "source": [
    "df.head()"
   ]
  },
  {
   "cell_type": "code",
   "execution_count": null,
   "id": "37d68995-6023-4bcb-9c17-0a04a8d3c404",
   "metadata": {},
   "outputs": [],
   "source": [
    "%%time\n",
    "df_usable = processing.identify_usable_reads(df)"
   ]
  },
  {
   "cell_type": "code",
   "execution_count": null,
   "id": "83b18264-d560-4a87-a1ce-2bb9d2d40549",
   "metadata": {},
   "outputs": [],
   "source": [
    "%%time\n",
    "df_usable = processing.identify_usable_reads(df.lazy())"
   ]
  },
  {
   "cell_type": "code",
   "execution_count": null,
   "id": "937e1ae7-8b57-4a64-87b9-d950b09f90c5",
   "metadata": {},
   "outputs": [],
   "source": [
    "%%time\n",
    "df_read_groups = (\n",
    "    df_usable.select(\n",
    "        pl.col(\n",
    "            \"name\",\n",
    "            \"is_duplex\",\n",
    "            \"read_seq\",\n",
    "            \"read_phred\",\n",
    "            \"reverse_complement\",\n",
    "            \"path\",\n",
    "            \"full_path\",\n",
    "        )\n",
    "    )\n",
    "    .group_by(\"path\")\n",
    "    .agg(\n",
    "        pl.col(\"name\", \"read_seq\", \"read_phred\", \"reverse_complement\"),\n",
    "        pl.col(\"is_duplex\").sum().alias(\"duplex_depth\"),\n",
    "        pl.count().alias(\"depth\"),\n",
    "    )\n",
    "    .with_columns((pl.col(\"depth\") - pl.col(\"duplex_depth\")).alias(\"simplex_depth\"))\n",
    "    .filter(pl.col(\"depth\") > 5)\n",
    "    # .map_groups(\n",
    "    #     consensus_func,\n",
    "    #     schema=dict(\n",
    "    #         path_subset=pl.List(pl.Categorical),\n",
    "    #         read_seq=pl.Utf8,\n",
    "    #         read_phred=pl.Utf8,\n",
    "    #         depth_simplex=pl.UInt64,\n",
    "    #         depth_duplex=pl.UInt64,\n",
    "    #     ),\n",
    "    # )\n",
    ")\n",
    "res = df_read_groups.fetch(10_000)\n",
    "# res.select(pl.all().exclude(\"name\",\"read_seq\", \"read_phred\", \"reverse_complement\"))"
   ]
  },
  {
   "cell_type": "code",
   "execution_count": null,
   "id": "3d7075b0-66c7-4024-abd0-a777e99341e6",
   "metadata": {},
   "outputs": [],
   "source": [
    "def consensus_func(df):\n",
    "    return (\n",
    "        df.with_columns(\n",
    "            pl.col(\"name\").str.contains(\";\").alias(\"is_duplex\"),\n",
    "            pl.col(\"name\").str.contains(\";\").not_().alias(\"is_simplex\"),\n",
    "        )\n",
    "        .with_columns(\n",
    "            pl.sum(\"is_simplex\").alias(\"depth_simplex\"),\n",
    "            pl.sum(\"is_duplex\").alias(\"depth_duplex\"),\n",
    "        )\n",
    "        .select(\n",
    "            pl.col(\n",
    "                \"path_subset\",\n",
    "                \"read_seq\",\n",
    "                \"read_phred\",\n",
    "                \"depth_simplex\",\n",
    "                \"depth_duplex\",\n",
    "            )\n",
    "        )\n",
    "        .head(1)\n",
    "    )"
   ]
  }
 ],
 "metadata": {
  "kernelspec": {
   "display_name": "Python 3 (ipykernel)",
   "language": "python",
   "name": "python3"
  },
  "language_info": {
   "codemirror_mode": {
    "name": "ipython",
    "version": 3
   },
   "file_extension": ".py",
   "mimetype": "text/x-python",
   "name": "python",
   "nbconvert_exporter": "python",
   "pygments_lexer": "ipython3",
   "version": "3.10.12"
  }
 },
 "nbformat": 4,
 "nbformat_minor": 5
}
