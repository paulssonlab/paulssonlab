{
 "cells": [
  {
   "cell_type": "code",
   "execution_count": null,
   "id": "41c57f7d-eb34-40e9-b810-10d4c44d68b2",
   "metadata": {},
   "outputs": [],
   "source": [
    "import itertools as it\n",
    "import operator\n",
    "import re\n",
    "import subprocess\n",
    "import tempfile\n",
    "import time\n",
    "from collections import Counter\n",
    "from pathlib import Path\n",
    "\n",
    "import awkward as ak\n",
    "import bottleneck as bn\n",
    "import duckdb\n",
    "import gfapy\n",
    "import holoviews as hv\n",
    "import ibis\n",
    "import matplotlib.pyplot as plt\n",
    "import numba\n",
    "import numpy as np\n",
    "import pandas as pd\n",
    "import polars as pl\n",
    "import pyabpoa\n",
    "import pyarrow as pa\n",
    "import pyarrow.compute as pc\n",
    "import pyarrow.dataset as ds\n",
    "import pyfastx\n",
    "import pysam\n",
    "import spoa\n",
    "from Bio import SeqIO\n",
    "from Bio.Seq import Seq\n",
    "from Bio.SeqRecord import SeqRecord\n",
    "from pyarrow import csv\n",
    "from tqdm.auto import tqdm, trange"
   ]
  },
  {
   "cell_type": "code",
   "execution_count": null,
   "id": "f4ec68fd-4dab-43a1-a74d-fc2137f04acb",
   "metadata": {},
   "outputs": [],
   "source": [
    "%load_ext autoreload\n",
    "%autoreload 2"
   ]
  },
  {
   "cell_type": "code",
   "execution_count": null,
   "id": "6d3d323b-2fd5-44cd-b9b0-ed41db593de3",
   "metadata": {},
   "outputs": [],
   "source": [
    "import paulssonlab.sequencing.consensus as con\n",
    "import paulssonlab.sequencing.io as sio\n",
    "import paulssonlab.sequencing.processing as processing\n",
    "from paulssonlab.util.sequence import reverse_complement"
   ]
  },
  {
   "cell_type": "code",
   "execution_count": null,
   "id": "f117a156-f6f6-423f-81be-bb5eed890a23",
   "metadata": {},
   "outputs": [],
   "source": [
    "hv.extension(\"bokeh\")"
   ]
  },
  {
   "cell_type": "code",
   "execution_count": null,
   "id": "ab1a37e0-1304-4373-a431-bdbd42cff000",
   "metadata": {},
   "outputs": [],
   "source": [
    "%load_ext pyinstrument\n",
    "import line_profiler\n",
    "import pyinstrument\n",
    "\n",
    "%load_ext line_profiler"
   ]
  },
  {
   "cell_type": "code",
   "execution_count": null,
   "id": "d286b864-7447-4195-8a34-2ede229b0b4c",
   "metadata": {},
   "outputs": [],
   "source": [
    "pl.enable_string_cache()"
   ]
  },
  {
   "cell_type": "markdown",
   "id": "1d4f0b7b-e5c2-4e9d-99b3-59872ff1e93b",
   "metadata": {},
   "source": [
    "# Consensus"
   ]
  },
  {
   "cell_type": "code",
   "execution_count": null,
   "id": "02112cc0-6290-4f46-a358-a2b265071f5f",
   "metadata": {},
   "outputs": [],
   "source": [
    "%%time\n",
    "df = pl.scan_ipc(\n",
    "    \"/home/jqs1/scratch/jqs1/sequencing/230930_alignment_test/230707_repressilators/dorado_0.4.0/uncompressed/prepared/*.arrow\"\n",
    ")\n",
    "res = (\n",
    "    (\n",
    "        processing.compute_depth(df.filter(pl.col(\"path\").hash() % 1000 == 4))\n",
    "        .filter(pl.col(\"duplex_depth\") > 10)\n",
    "        .select(\n",
    "            pl.col(\n",
    "                \"name\",\n",
    "                \"is_duplex\",\n",
    "                \"read_seq\",\n",
    "                \"read_phred\",\n",
    "                \"reverse_complement\",\n",
    "                \"path\",\n",
    "                \"depth\",\n",
    "                \"simplex_depth\",\n",
    "                \"duplex_depth\",\n",
    "            )\n",
    "        )\n",
    "        .group_by(\"path\")\n",
    "        .agg(\n",
    "            # pl.col(\"name\", \"is_duplex\", \"read_seq\", \"read_phred\", \"reverse_complement\"),\n",
    "            pl.col(\n",
    "                \"name\", \"is_duplex\", \"read_seq\", \"read_phred\", \"reverse_complement\"\n",
    "            ).map_elements(partial(con.get_consensus_df, use_phreds=False)),\n",
    "            pl.col(\"path\", \"depth\", \"simplex_depth\", \"duplex_depth\").first(),\n",
    "        )\n",
    "    )\n",
    "    .sort(\"depth\", descending=True)\n",
    "    .collect()\n",
    ")\n",
    "# res.select(pl.all().exclude(\"name\",\"read_seq\", \"read_phred\", \"reverse_complement\"))"
   ]
  },
  {
   "cell_type": "code",
   "execution_count": null,
   "id": "fe569ee2-37a8-4144-ad45-3a7b3fa1fd3f",
   "metadata": {},
   "outputs": [],
   "source": [
    "test_reads = res[\n",
    "    0\n",
    "]  # .explode(pl.col(\"name\", \"read_seq\", \"read_phred\", \"reverse_complement\", \"is_duplex\"))"
   ]
  },
  {
   "cell_type": "code",
   "execution_count": null,
   "id": "7b33e4b6-3893-4a04-984d-c539fa3530d1",
   "metadata": {},
   "outputs": [],
   "source": [
    "test_reads.head()"
   ]
  },
  {
   "cell_type": "code",
   "execution_count": null,
   "id": "355a0779-fff8-4e01-8a22-3a462f5baacb",
   "metadata": {},
   "outputs": [],
   "source": [
    "ground_truth = consensus_func(test_reads.head())"
   ]
  },
  {
   "cell_type": "code",
   "execution_count": null,
   "id": "fdaa3900-c528-4ef5-a50b-4381f802f626",
   "metadata": {},
   "outputs": [],
   "source": [
    "seqs, phreds = con.prepare_reads(\n",
    "    test_reads.get_column(\"read_seq\").to_list(),\n",
    "    test_reads.get_column(\"reverse_complement\").to_arrow(),\n",
    "    test_reads.get_column(\"read_phred\").to_arrow(),\n",
    ")"
   ]
  },
  {
   "cell_type": "code",
   "execution_count": null,
   "id": "0047fc34-31ed-4db2-93cd-6dc214584c64",
   "metadata": {},
   "outputs": [],
   "source": [
    "%%time\n",
    "# con_seqs = con.poa(seqs, method=\"abpoa\", num_consensus=1, sort=True)\n",
    "con_seqs, msa_seqs = con.poa(\n",
    "    seqs, method=\"spoa\", num_consensus=1, return_msa=False, sort=True\n",
    ")"
   ]
  },
  {
   "cell_type": "code",
   "execution_count": null,
   "id": "0ae00219-7ab6-4ee9-9154-b68256b4d655",
   "metadata": {},
   "outputs": [],
   "source": [
    "len(con_seqs)"
   ]
  },
  {
   "cell_type": "code",
   "execution_count": null,
   "id": "aebf7cdd-e5ad-4984-bed3-1d4a63bc9e1b",
   "metadata": {},
   "outputs": [],
   "source": [
    "len(msa_seqs)"
   ]
  },
  {
   "cell_type": "code",
   "execution_count": null,
   "id": "bb776bf7-00cd-4b87-b56c-9ebd2a0a2382",
   "metadata": {},
   "outputs": [],
   "source": [
    "%%time\n",
    "df = pl.scan_ipc(\n",
    "    \"/home/jqs1/scratch/jqs1/sequencing/230930_alignment_test/230707_repressilators/dorado_0.4.0/uncompressed/prepared/*.arrow\"\n",
    ")\n",
    "res = (\n",
    "    processing.compute_depth(df.filter(pl.col(\"path\").hash() % 1000 == 4))\n",
    "    .filter(pl.col(\"duplex_depth\") > 10)\n",
    "    .select(\n",
    "        pl.col(\n",
    "            \"name\",\n",
    "            \"is_duplex\",\n",
    "            \"read_seq\",\n",
    "            \"read_phred\",\n",
    "            \"reverse_complement\",\n",
    "            \"path\",\n",
    "        )\n",
    "    )\n",
    "    .group_by(\"path\")\n",
    "    .map_groups(\n",
    "        consensus_func,\n",
    "        schema=dict(\n",
    "            path_subset=pl.List(pl.Categorical),\n",
    "            read_seq=pl.Utf8,\n",
    "            read_phred=pl.Utf8,\n",
    "            depth_simplex=pl.UInt64,\n",
    "            depth_duplex=pl.UInt64,\n",
    "        ),\n",
    "    )\n",
    ").collect()\n",
    "# res.select(pl.all().exclude(\"name\",\"read_seq\", \"read_phred\", \"reverse_complement\"))"
   ]
  },
  {
   "cell_type": "code",
   "execution_count": null,
   "id": "aa93d18b-4c71-44c2-a6da-cdb7141f82d4",
   "metadata": {},
   "outputs": [],
   "source": [
    "res"
   ]
  },
  {
   "cell_type": "markdown",
   "id": "48f6ed4f-19b4-4692-9d1d-71652382dc3b",
   "metadata": {},
   "source": [
    "# Old consensus"
   ]
  },
  {
   "cell_type": "code",
   "execution_count": null,
   "id": "62d781fd-bcec-4121-9f38-e6d59fbb9ca3",
   "metadata": {},
   "outputs": [],
   "source": [
    "group_depths = (\n",
    "    test_groups.select(pl.col(\"name\"))\n",
    "    .with_columns(pl.col(\"name\").list.len())\n",
    "    .filter(pl.col(\"name\") > 1)\n",
    "    .sort(\"name\", descending=True)\n",
    "    .to_numpy()\n",
    ")"
   ]
  },
  {
   "cell_type": "code",
   "execution_count": null,
   "id": "e3a7fc0a-d92f-42fb-a0b2-b071e74b9481",
   "metadata": {},
   "outputs": [],
   "source": [
    "plt.plot(group_depths[:, 0])"
   ]
  },
  {
   "cell_type": "code",
   "execution_count": null,
   "id": "cd7e5bda-5c84-40d9-8ab2-dafbe68edb00",
   "metadata": {},
   "outputs": [],
   "source": [
    "%%time\n",
    "test_groups_subset = test_groups.filter(pl.col(\"name\").list.len().is_between(100, 120))"
   ]
  },
  {
   "cell_type": "code",
   "execution_count": null,
   "id": "42765663-38d5-495d-9b36-1b0198eddc1f",
   "metadata": {},
   "outputs": [],
   "source": [
    "test_groups_subset.select(\"depth\", \"duplex_depth\")"
   ]
  },
  {
   "cell_type": "code",
   "execution_count": null,
   "id": "7f203443-c5e9-4c9c-ab5b-e59392773f2e",
   "metadata": {},
   "outputs": [],
   "source": [
    "test_reads = (\n",
    "    test_groups_subset[0]\n",
    "    .select(\n",
    "        pl.col(\"name\", \"read_seq\", \"read_phred\", \"reverse_complement\").list.explode(),\n",
    "        pl.col(\"duplex_depth\", \"simplex_depth\"),\n",
    "    )\n",
    "    .with_columns(\n",
    "        pl.col(\"read_seq\").str.len_bytes().alias(\"read_len\"),\n",
    "        pl.col(\"name\").str.contains(\";\").alias(\"is_duplex\"),\n",
    "        pl.col(\"name\").str.contains(\";\").not_().alias(\"is_simplex\"),\n",
    "    )\n",
    "    .sort(\"is_duplex\", descending=True)\n",
    ")\n",
    "test_reads"
   ]
  },
  {
   "cell_type": "code",
   "execution_count": null,
   "id": "73a47af6-c5d2-4f91-b847-18c6b7048308",
   "metadata": {},
   "outputs": [],
   "source": [
    "plt.hist(test_reads.get_column(\"read_len\"), bins=100);"
   ]
  },
  {
   "cell_type": "code",
   "execution_count": null,
   "id": "e37a1987-af84-4a88-a2ff-de52c4e8441b",
   "metadata": {},
   "outputs": [],
   "source": [
    "test_reads = test_reads.filter(pl.col(\"read_len\").is_between(3300, 3700))"
   ]
  },
  {
   "cell_type": "code",
   "execution_count": null,
   "id": "0b164d8e-5837-4d57-9472-da4aa0b6774d",
   "metadata": {},
   "outputs": [],
   "source": [
    "%%time\n",
    "seqs, phreds = con.prepare_reads(\n",
    "    test_reads.get_column(\"read_seq\").to_list(),\n",
    "    test_reads.get_column(\"reverse_complement\").to_arrow(),\n",
    "    test_reads.get_column(\"read_phred\").to_arrow(),\n",
    ")"
   ]
  },
  {
   "cell_type": "code",
   "execution_count": null,
   "id": "e69626be-5346-420e-b66f-7da6d0a2e108",
   "metadata": {},
   "outputs": [],
   "source": [
    "%%time\n",
    "msa_seqs = con.msa(seqs, method=\"abpoa\", aln_mode=\"l\")"
   ]
  },
  {
   "cell_type": "code",
   "execution_count": null,
   "id": "c9fea60e-6256-404e-bea1-9939e4edd99f",
   "metadata": {},
   "outputs": [],
   "source": [
    "seq_global = con.chars_to_str(consensus_global[0])\n",
    "seq_local = con.chars_to_str(consensus_local[0])\n",
    "(len(seq_global), len(seq_local))"
   ]
  },
  {
   "cell_type": "code",
   "execution_count": null,
   "id": "cd9993a1-3981-49f3-b766-3afc60c5f845",
   "metadata": {},
   "outputs": [],
   "source": [
    "print(seq_global)"
   ]
  },
  {
   "cell_type": "code",
   "execution_count": null,
   "id": "b7661bfa-92a6-4dee-8c81-ef84c0a71407",
   "metadata": {},
   "outputs": [],
   "source": [
    "print(seq_local)"
   ]
  },
  {
   "cell_type": "code",
   "execution_count": null,
   "id": "dfa58a05-9456-462f-85ef-881725891898",
   "metadata": {},
   "outputs": [],
   "source": [
    "con.print_msa(msa_seqs, phreds)"
   ]
  },
  {
   "cell_type": "markdown",
   "id": "400acee4-0494-48fa-898a-837eb19db25e",
   "metadata": {},
   "source": [
    "# GraphAligner"
   ]
  },
  {
   "cell_type": "code",
   "execution_count": null,
   "id": "52a76a9e-caa4-4f02-9bd3-5c8bcb7f5794",
   "metadata": {},
   "outputs": [],
   "source": [
    "def run_aligner(gfa_filename, reads_filename, args=[]):\n",
    "    cmd_base = [\"/home/jqs1/paulsson-home/bin/GraphAligner\"]\n",
    "    with tempfile.NamedTemporaryFile(mode=\"w+\", suffix=\".gaf\") as gaf_file:\n",
    "        cmd = [\n",
    "            *cmd_base,\n",
    "            \"-g\",\n",
    "            gfa_filename,\n",
    "            \"-f\",\n",
    "            reads_filename,\n",
    "            \"-a\",\n",
    "            gaf_file.name,\n",
    "            *args,\n",
    "        ]\n",
    "        start = time.time()\n",
    "        out = subprocess.run(cmd, capture_output=True)\n",
    "        stop = time.time()\n",
    "        if out.returncode != 0:\n",
    "            print(\"STDOUT:\")\n",
    "            print(out.stdout.decode())\n",
    "            print()\n",
    "            print(\"STDERR:\")\n",
    "            print(out.stderr.decode())\n",
    "            print()\n",
    "            raise RuntimeError(\"GraphAligner returned non-zero exit status\")\n",
    "        runtime = stop - start\n",
    "        # print(\"STDOUT\")\n",
    "        # print(out.stdout.decode())\n",
    "        # print(\"STDERR\")\n",
    "        # print(out.stderr.decode())\n",
    "        gaf = sio.read_gaf(gaf_file.name)\n",
    "        return gaf, runtime\n",
    "\n",
    "\n",
    "def align_reads(gfa_filename, reads, args=[\"-x\", \"vg\"]):\n",
    "    with tempfile.NamedTemporaryFile(mode=\"w+\", suffix=\".fasta\") as reads_file:\n",
    "        formatted_reads = (\n",
    "            \"\\n\".join([f\">r{idx}\\n{read}\" for idx, read in enumerate(reads)]) + \"\\n\"\n",
    "        )\n",
    "        reads_file.write(formatted_reads)\n",
    "        reads_file.flush()\n",
    "        return run_aligner(gfa_filename, reads_file.name, args=args)[0]"
   ]
  },
  {
   "cell_type": "markdown",
   "id": "612e8db5-0d57-496b-ac55-6542e5a8c2bb",
   "metadata": {},
   "source": [
    "## Read group alignment"
   ]
  },
  {
   "cell_type": "code",
   "execution_count": null,
   "id": "13907c43-aa14-40d4-a3e0-be8465623385",
   "metadata": {},
   "outputs": [],
   "source": [
    "test_groups_subset[0]"
   ]
  },
  {
   "cell_type": "code",
   "execution_count": null,
   "id": "fd6be0bd-9486-429b-8280-1c356283501d",
   "metadata": {},
   "outputs": [],
   "source": [
    "test_reads = (\n",
    "    test_groups_subset[idx]\n",
    "    .select(\n",
    "        pl.col(\"name\", \"read_seq\", \"read_phred\", \"reverse_complement\").list.explode(),\n",
    "        pl.col(\"duplex_depth\", \"simplex_depth\"),\n",
    "    )\n",
    "    .with_columns(\n",
    "        pl.col(\"read_seq\").str.len_bytes().alias(\"read_len\"),\n",
    "        pl.col(\"name\").str.contains(\";\").alias(\"is_duplex\"),\n",
    "        pl.col(\"name\").str.contains(\";\").not_().alias(\"is_simplex\"),\n",
    "    )\n",
    "    .sort(\"is_duplex\", descending=True)\n",
    ")"
   ]
  },
  {
   "cell_type": "code",
   "execution_count": null,
   "id": "c28f4317-f731-45b8-879a-d3b3035e996a",
   "metadata": {},
   "outputs": [],
   "source": [
    "%%time\n",
    "seqs, phreds = con.prepare_reads(\n",
    "    test_reads.get_column(\"read_seq\").to_list(),\n",
    "    test_reads.get_column(\"reverse_complement\").to_arrow(),\n",
    "    test_reads.get_column(\"read_phred\").to_arrow(),\n",
    ")"
   ]
  },
  {
   "cell_type": "code",
   "execution_count": null,
   "id": "9b2a30ef-192a-4f21-a8a6-f4238de07ee9",
   "metadata": {},
   "outputs": [],
   "source": [
    "%%time\n",
    "msa_seqs = con.msa(seqs[:5], method=\"abpoa\", aln_mode=\"g\")\n",
    "(\n",
    "    consensus_seq,\n",
    "    consensus_phred,\n",
    "    nonconsensus_seq,\n",
    "    nonconsensus_phred,\n",
    ") = con.phred_weighted_consensus(msa_seqs, phreds)"
   ]
  },
  {
   "cell_type": "code",
   "execution_count": null,
   "id": "6831a284-19b1-4ad7-8230-fa8f806d1561",
   "metadata": {},
   "outputs": [],
   "source": [
    "%%time\n",
    "gaf = align_reads(gfa_filename, seqs, args=[\"-x\", \"dbg\"])"
   ]
  },
  {
   "cell_type": "code",
   "execution_count": null,
   "id": "b04bf2cf-cf6c-435a-8ef1-33c1651fc5e3",
   "metadata": {},
   "outputs": [],
   "source": [
    "gaf[\"path_length\"]"
   ]
  },
  {
   "cell_type": "code",
   "execution_count": null,
   "id": "b0d56613-4104-4ead-9ab2-6d141513466c",
   "metadata": {},
   "outputs": [],
   "source": [
    "plt.hist(gaf[\"NM\"], bins=100);"
   ]
  },
  {
   "cell_type": "code",
   "execution_count": null,
   "id": "305f49fe-c6cb-4428-b782-61cb92929e98",
   "metadata": {},
   "outputs": [],
   "source": [
    "aligner = pyabpoa.msa_aligner(aln_mode=\"g\")\n",
    "res = aligner.msa(seqs[:10], out_cons=True, out_msa=True)\n",
    "# msa_seqs = res.msa_seq"
   ]
  },
  {
   "cell_type": "code",
   "execution_count": null,
   "id": "b93813a8-b2cf-4d25-8785-81d2ba73d3dc",
   "metadata": {},
   "outputs": [],
   "source": [
    "con_seq, msa_seqs = spoa.poa(seqs[:10])"
   ]
  },
  {
   "cell_type": "code",
   "execution_count": null,
   "id": "c8f63e89-0b27-49db-8aad-90169134147c",
   "metadata": {},
   "outputs": [],
   "source": [
    "print(con_seq)"
   ]
  },
  {
   "cell_type": "code",
   "execution_count": null,
   "id": "8fdccb0a-7d58-4e79-b6ed-bbdef817d441",
   "metadata": {},
   "outputs": [],
   "source": [
    "print(res.cons_seq[0])"
   ]
  },
  {
   "cell_type": "code",
   "execution_count": null,
   "id": "6d538b22-17b7-47ec-aba8-e1f866df28aa",
   "metadata": {},
   "outputs": [],
   "source": [
    "print(seqs[1])"
   ]
  },
  {
   "cell_type": "code",
   "execution_count": null,
   "id": "c5ece2a5-f786-4b2f-8261-1605b1fdd0be",
   "metadata": {},
   "outputs": [],
   "source": [
    "res.msa_seq[0]"
   ]
  },
  {
   "cell_type": "code",
   "execution_count": null,
   "id": "30e678c9-7e59-48eb-b84b-0f84b2ec28f5",
   "metadata": {},
   "outputs": [],
   "source": [
    "print(con.chars_to_str(consensus_seq))"
   ]
  },
  {
   "cell_type": "code",
   "execution_count": null,
   "id": "5d185361-2885-41ed-bcad-6b009ab33053",
   "metadata": {},
   "outputs": [],
   "source": [
    "print(con.chars_to_str(msa_seqs[3], True))"
   ]
  },
  {
   "cell_type": "code",
   "execution_count": null,
   "id": "23d3045e-f9b0-400b-ac54-a872f45e7fdb",
   "metadata": {},
   "outputs": [],
   "source": [
    "gaf[\"cg\"]"
   ]
  },
  {
   "cell_type": "code",
   "execution_count": null,
   "id": "ef41348b-a768-43ab-892b-9b09004a9d94",
   "metadata": {},
   "outputs": [],
   "source": [
    "gaf.column_names"
   ]
  },
  {
   "cell_type": "code",
   "execution_count": null,
   "id": "488a152b-b856-4524-9aa2-351e5c2832a3",
   "metadata": {},
   "outputs": [],
   "source": [
    "gaf[\"name\"]"
   ]
  },
  {
   "cell_type": "code",
   "execution_count": null,
   "id": "e13507f2-55be-4894-b63c-442d98617d10",
   "metadata": {},
   "outputs": [],
   "source": [
    "print(seqs[0])"
   ]
  },
  {
   "cell_type": "code",
   "execution_count": null,
   "id": "47e2ce5d-d748-4685-ad70-57f41b301896",
   "metadata": {},
   "outputs": [],
   "source": [
    "print(\"\\n\".join([f\">r{idx}\\n{seq}\" for idx, seq in enumerate(seqs)]) + \"\\n\")"
   ]
  },
  {
   "cell_type": "markdown",
   "id": "5386f424-fd85-4fb8-a0dd-3e0050f5b5c6",
   "metadata": {},
   "source": [
    "## Consensus alignment"
   ]
  },
  {
   "cell_type": "code",
   "execution_count": null,
   "id": "9857893f-2016-46e1-bc1b-6996b82a6336",
   "metadata": {},
   "outputs": [],
   "source": [
    "%%time\n",
    "res = []\n",
    "for idx in trange(len(test_groups_subset)):\n",
    "    test_reads = (\n",
    "        test_groups_subset[idx]\n",
    "        .select(\n",
    "            pl.col(\n",
    "                \"name\", \"read_seq\", \"read_phred\", \"reverse_complement\"\n",
    "            ).list.explode(),\n",
    "            pl.col(\"duplex_depth\", \"simplex_depth\"),\n",
    "        )\n",
    "        .with_columns(\n",
    "            pl.col(\"read_seq\").str.len_bytes().alias(\"read_len\"),\n",
    "            pl.col(\"name\").str.contains(\";\").alias(\"is_duplex\"),\n",
    "            pl.col(\"name\").str.contains(\";\").not_().alias(\"is_simplex\"),\n",
    "        )\n",
    "        .sort(\"is_duplex\", descending=True)\n",
    "    )\n",
    "    seqs, phreds = con.prepare_reads(\n",
    "        test_reads.get_column(\"read_seq\").to_list(),\n",
    "        test_reads.get_column(\"reverse_complement\").to_arrow(),\n",
    "        test_reads.get_column(\"read_phred\").to_arrow(),\n",
    "    )\n",
    "    msa_seqs = con.msa(seqs, method=\"abpoa\", aln_mode=\"l\")\n",
    "    (\n",
    "        consensus_seq,\n",
    "        consensus_phred,\n",
    "        nonconsensus_seq,\n",
    "        nonconsensus_phred,\n",
    "    ) = con.phred_weighted_consensus(msa_seqs, phreds)\n",
    "    res.append(\n",
    "        dict(\n",
    "            consensus_seq=consensus_seq,\n",
    "            consensus_phred=consensus_phred,\n",
    "            nonconsensus_seq=nonconsensus_seq,\n",
    "            nonconsensus_phred=nonconsensus_phred,\n",
    "        )\n",
    "    )"
   ]
  },
  {
   "cell_type": "code",
   "execution_count": null,
   "id": "5306ed3a-cc22-4c64-8122-56a66dba5157",
   "metadata": {},
   "outputs": [],
   "source": [
    "%%time\n",
    "gaf = align_reads(\n",
    "    gfa_filename, [con.chars_to_str(r[\"consensus_seq\"]) for r in res], args=[\"-x\", \"vg\"]\n",
    ")"
   ]
  },
  {
   "cell_type": "code",
   "execution_count": null,
   "id": "a074e25c-cdeb-4c53-a41f-ab280d3e098c",
   "metadata": {},
   "outputs": [],
   "source": [
    "gaf[\"name\"]"
   ]
  },
  {
   "cell_type": "code",
   "execution_count": null,
   "id": "a5996fb9-7f47-46af-a10d-d3f477ba0e6e",
   "metadata": {},
   "outputs": [],
   "source": [
    "gaf"
   ]
  }
 ],
 "metadata": {
  "kernelspec": {
   "display_name": "Python 3 (ipykernel)",
   "language": "python",
   "name": "python3"
  },
  "language_info": {
   "codemirror_mode": {
    "name": "ipython",
    "version": 3
   },
   "file_extension": ".py",
   "mimetype": "text/x-python",
   "name": "python",
   "nbconvert_exporter": "python",
   "pygments_lexer": "ipython3",
   "version": "3.10.12"
  }
 },
 "nbformat": 4,
 "nbformat_minor": 5
}
