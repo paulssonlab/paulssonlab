{
 "cells": [
  {
   "cell_type": "code",
   "execution_count": null,
   "id": "96979873-826a-4f97-b3be-98ba749e736e",
   "metadata": {},
   "outputs": [],
   "source": [
    "import numpy as np\n",
    "import polars as pl\n",
    "import pyarrow as pa"
   ]
  },
  {
   "cell_type": "code",
   "execution_count": null,
   "id": "5e528f37-86b7-44ac-8f1b-7806f647c0fc",
   "metadata": {},
   "outputs": [],
   "source": [
    "def func(x):\n",
    "    # return dict(y=x[0].struct.field(\"a\")[0],\n",
    "    return dict(z=[1, 2, 3])\n",
    "\n",
    "\n",
    "df = pl.DataFrame({\"a\": [1, 1, 1, 2, 2], \"b\": [1, 2, 3, 4, 5], \"c\": [6, 7, 8, 9, 10]})\n",
    "df.group_by(\"a\").agg(\n",
    "    pl.map_groups(pl.struct(pl.col(\"a\", \"b\")), func, returns_scalar=True),\n",
    "    pl.col(\"c\").first(),\n",
    ")"
   ]
  }
 ],
 "metadata": {
  "kernelspec": {
   "display_name": "Python 3 (ipykernel)",
   "language": "python",
   "name": "python3"
  },
  "language_info": {
   "codemirror_mode": {
    "name": "ipython",
    "version": 3
   },
   "file_extension": ".py",
   "mimetype": "text/x-python",
   "name": "python",
   "nbconvert_exporter": "python",
   "pygments_lexer": "ipython3",
   "version": "3.10.12"
  }
 },
 "nbformat": 4,
 "nbformat_minor": 5
}
