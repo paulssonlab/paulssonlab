{
 "cells": [
  {
   "cell_type": "code",
   "execution_count": null,
   "id": "41c57f7d-eb34-40e9-b810-10d4c44d68b2",
   "metadata": {},
   "outputs": [],
   "source": [
    "import itertools as it\n",
    "import operator\n",
    "import re\n",
    "import subprocess\n",
    "import tempfile\n",
    "import time\n",
    "from collections import Counter\n",
    "from functools import partial\n",
    "from pathlib import Path\n",
    "\n",
    "import awkward as ak\n",
    "import bottleneck as bn\n",
    "import duckdb\n",
    "import gfapy\n",
    "import holoviews as hv\n",
    "import ibis\n",
    "import matplotlib.pyplot as plt\n",
    "import numba\n",
    "import numpy as np\n",
    "import pandas as pd\n",
    "import parasail\n",
    "import polars as pl\n",
    "import pyabpoa\n",
    "import pyarrow as pa\n",
    "import pyarrow.compute as pc\n",
    "import pyarrow.dataset as ds\n",
    "import pyfastx\n",
    "import pysam\n",
    "import spoa\n",
    "from Bio import SeqIO\n",
    "from Bio.Seq import Seq\n",
    "from Bio.SeqRecord import SeqRecord\n",
    "from pyarrow import csv\n",
    "from pywfa import WavefrontAligner\n",
    "from tqdm.auto import tqdm, trange"
   ]
  },
  {
   "cell_type": "code",
   "execution_count": null,
   "id": "f4ec68fd-4dab-43a1-a74d-fc2137f04acb",
   "metadata": {},
   "outputs": [],
   "source": [
    "%load_ext autoreload\n",
    "%autoreload 2"
   ]
  },
  {
   "cell_type": "code",
   "execution_count": null,
   "id": "6d3d323b-2fd5-44cd-b9b0-ed41db593de3",
   "metadata": {},
   "outputs": [],
   "source": [
    "import paulssonlab.sequencing.consensus as con\n",
    "import paulssonlab.sequencing.io as sio\n",
    "import paulssonlab.sequencing.processing as processing\n",
    "from paulssonlab.util.sequence import reverse_complement"
   ]
  },
  {
   "cell_type": "code",
   "execution_count": null,
   "id": "f117a156-f6f6-423f-81be-bb5eed890a23",
   "metadata": {},
   "outputs": [],
   "source": [
    "hv.extension(\"bokeh\")"
   ]
  },
  {
   "cell_type": "code",
   "execution_count": null,
   "id": "ab1a37e0-1304-4373-a431-bdbd42cff000",
   "metadata": {},
   "outputs": [],
   "source": [
    "%load_ext pyinstrument\n",
    "import line_profiler\n",
    "import pyinstrument\n",
    "\n",
    "%load_ext line_profiler"
   ]
  },
  {
   "cell_type": "code",
   "execution_count": null,
   "id": "d286b864-7447-4195-8a34-2ede229b0b4c",
   "metadata": {},
   "outputs": [],
   "source": [
    "pl.enable_string_cache()"
   ]
  },
  {
   "cell_type": "markdown",
   "id": "87262c91-3af5-492b-a2f5-905c72ef5d15",
   "metadata": {},
   "source": [
    "# Config"
   ]
  },
  {
   "cell_type": "code",
   "execution_count": null,
   "id": "4d631ced-8131-4d91-8d26-23e49fdfccea",
   "metadata": {},
   "outputs": [],
   "source": [
    "gfa_filename = \"/home/jqs1/scratch/jqs1/sequencing/230930_alignment_test/230707_repressilators/pLIB419.gfa\""
   ]
  },
  {
   "cell_type": "code",
   "execution_count": null,
   "id": "09df61df-251e-49fa-a9c8-4f63a4e4710b",
   "metadata": {},
   "outputs": [],
   "source": [
    "gfa = gfapy.Gfa.from_file(gfa_filename)"
   ]
  },
  {
   "cell_type": "markdown",
   "id": "312b1a96-f7a9-4609-a056-ee03f838884f",
   "metadata": {},
   "source": [
    "# Realign"
   ]
  },
  {
   "cell_type": "code",
   "execution_count": null,
   "id": "cd7fd8a0-ee77-43be-8916-9f51d24b58be",
   "metadata": {},
   "outputs": [],
   "source": [
    "df = pl.read_ipc(\n",
    "    \"/home/jqs1/scratch/jqs1/sequencing/230930_alignment_test/230707_repressilators/dorado_0.4.0/uncompressed/prepared/consensus_spoa2/align2/combined.arrow\"\n",
    ")"
   ]
  },
  {
   "cell_type": "code",
   "execution_count": null,
   "id": "25f02d1b-5132-4215-bf2b-9807a1153120",
   "metadata": {},
   "outputs": [],
   "source": [
    "df.estimated_size(unit=\"mb\")"
   ]
  },
  {
   "cell_type": "code",
   "execution_count": null,
   "id": "a2a54984-4a72-4cf4-b1fd-4d5f2365fbd0",
   "metadata": {},
   "outputs": [],
   "source": [
    "{col: df.get_column(col).estimated_size(unit=\"mb\") for col in df.columns}"
   ]
  },
  {
   "cell_type": "code",
   "execution_count": null,
   "id": "5862d2a7-752d-4be4-8631-d484bf8fe143",
   "metadata": {},
   "outputs": [],
   "source": [
    "path = df[0, \"path_consensus\"].to_list()\n",
    "consensus_seq = df[0, \"consensus_seq\"]\n",
    "cigar = df[0, \"cg\"]"
   ]
  },
  {
   "cell_type": "code",
   "execution_count": null,
   "id": "e0925857-2974-4bc2-a398-f3085b52b3ad",
   "metadata": {},
   "outputs": [],
   "source": [
    "def gfa_name_mapping(gfa):\n",
    "    return {\n",
    "        f\"<{name}\"\n",
    "        if rc\n",
    "        else f\">{name}\": reverse_complement(seg.sequence)\n",
    "        if rc\n",
    "        else seg.sequence\n",
    "        for name, seg in gfa._records[\"S\"].items()\n",
    "        for rc in (False, True)\n",
    "    }"
   ]
  },
  {
   "cell_type": "code",
   "execution_count": null,
   "id": "a3534e05-4347-4826-97da-039990a1d837",
   "metadata": {},
   "outputs": [],
   "source": [
    "def assemble_seq_from_path(name_to_seq, path):\n",
    "    if isinstance(name_to_seq, gfapy.Gfa):\n",
    "        name_to_seq = gfa_name_mapping(name_to_seq)\n",
    "    return \"\".join(name_to_seq[segment] for segment in path)"
   ]
  },
  {
   "cell_type": "code",
   "execution_count": null,
   "id": "66330eaa-7479-4376-b0e0-935e0f396623",
   "metadata": {},
   "outputs": [],
   "source": [
    "ref_seq = assemble_seq_from_path(gfa, path)"
   ]
  },
  {
   "cell_type": "code",
   "execution_count": null,
   "id": "68e1dcc8-31f2-4241-895c-05f6d27775c7",
   "metadata": {},
   "outputs": [],
   "source": [
    "matrix = parasail.matrix_create(\"ATCG\", 1, 0)\n",
    "result = parasail.sw_trace_striped_sat(ref_seq, consensus_seq, 1, 1, matrix)"
   ]
  },
  {
   "cell_type": "code",
   "execution_count": null,
   "id": "b62e85f5-d33f-4fdb-9e19-1e4921375259",
   "metadata": {},
   "outputs": [],
   "source": [
    "DEGENERATE_BASES = {\n",
    "    \"R\": \"AG\",\n",
    "    \"Y\": \"CT\",\n",
    "    \"M\": \"AC\",\n",
    "    \"K\": \"GT\",\n",
    "    \"S\": \"CG\",\n",
    "    \"W\": \"AT\",\n",
    "    \"B\": \"CGT\",\n",
    "    \"D\": \"AGT\",\n",
    "    \"H\": \"ACT\",\n",
    "    \"V\": \"ACG\",\n",
    "    \"N\": \"ACGT\",\n",
    "}\n",
    "\n",
    "\n",
    "def degenerate_parasail_matrix(\n",
    "    match,\n",
    "    mismatch,\n",
    "    deg_match=None,\n",
    "    deg_mismatch=None,\n",
    "    degenerate_bases=DEGENERATE_BASES,\n",
    "):\n",
    "    if deg_match is None:\n",
    "        deg_match = match\n",
    "    if deg_mismatch is None:\n",
    "        deg_mismatch = mismatch\n",
    "    bases = \"ATCG\" + \"\".join(degenerate_bases.keys())\n",
    "    bases_set = set(bases)\n",
    "    base_to_idx = {base: idx for idx, base in enumerate(bases)}\n",
    "    match = 1\n",
    "    mismatch = 0\n",
    "    deg_match = 1  # match\n",
    "    deg_mismatch = mismatch\n",
    "    matrix = parasail.matrix_create(bases, match, mismatch)\n",
    "    for deg_base, matching_bases in degenerate_bases.items():\n",
    "        idx = base_to_idx[deg_base]\n",
    "        deg_match_idxs = [base_to_idx[base] for base in matching_bases]\n",
    "        deg_mismatch_idxs = [\n",
    "            base_to_idx[base] for base in set(\"ATCG\") - set(matching_bases)\n",
    "        ]\n",
    "        for idx2 in deg_match_idxs:\n",
    "            matrix[idx, idx2] = matrix[idx2, idx] = deg_match\n",
    "        for idx2 in deg_mismatch_idxs:\n",
    "            matrix[idx, idx2] = matrix[idx2, idx] = deg_mismatch\n",
    "    alphabet_aliases = \"\".join(\n",
    "        f\"{base}{deg_base}{deg_base}{base}\"\n",
    "        for deg_base, matching_bases in degenerate_bases.items()\n",
    "        for base in matching_bases\n",
    "    )\n",
    "    return matrix, alphabet_aliases"
   ]
  },
  {
   "cell_type": "code",
   "execution_count": null,
   "id": "b4332811-5e96-4b18-b216-fc8eaf02c579",
   "metadata": {},
   "outputs": [],
   "source": [
    "name_to_seq = gfa_name_mapping(gfa)\n",
    "parasail_matrix, alphabet_aliases = degenerate_parasail_matrix(1, 0)"
   ]
  },
  {
   "cell_type": "code",
   "execution_count": null,
   "id": "56b65d6b-ec0c-48fe-b4ee-b8b1b64fe823",
   "metadata": {},
   "outputs": [],
   "source": [
    "%%time\n",
    "\n",
    "\n",
    "def pairwise_align_row(row):\n",
    "    path, seq = row\n",
    "    ref_seq = assemble_seq_from_path(name_to_seq, path)\n",
    "    result = parasail.sg_trace_striped_sat(seq, ref_seq, 12, 3, parasail_matrix)\n",
    "    score = result.score\n",
    "    cigar = result.get_cigar(alphabet_aliases=alphabet_aliases).decode.decode()\n",
    "    return (score, cigar)\n",
    "    # return dict(score_realign=score, cg_realign=cigar)\n",
    "\n",
    "\n",
    "df.head(20).select(pl.col(\"path_consensus\", \"consensus_seq\")).map_rows(\n",
    "    pairwise_align_row, return_dtype=pl.Struct(dict(a=pl.UInt32, b=pl.Utf8))\n",
    ")"
   ]
  },
  {
   "cell_type": "code",
   "execution_count": null,
   "id": "ec7c22ed-3592-43cf-b59d-1f62df06d34d",
   "metadata": {},
   "outputs": [],
   "source": [
    "?pl.Struct"
   ]
  },
  {
   "cell_type": "code",
   "execution_count": null,
   "id": "ed481b3f-44cd-42df-9616-369253d0b938",
   "metadata": {},
   "outputs": [],
   "source": [
    "?df.map_rows"
   ]
  },
  {
   "cell_type": "code",
   "execution_count": null,
   "id": "5970a839-4de7-4108-8a21-4b9dd9ab9f10",
   "metadata": {},
   "outputs": [],
   "source": [
    "len(df)"
   ]
  },
  {
   "cell_type": "code",
   "execution_count": null,
   "id": "7e530f2f-59a5-4e04-bb69-8c98f9ed2b54",
   "metadata": {},
   "outputs": [],
   "source": [
    "matrix.matrix"
   ]
  },
  {
   "cell_type": "code",
   "execution_count": null,
   "id": "51c5252e-5434-42bc-93bf-cca1a29421b9",
   "metadata": {},
   "outputs": [],
   "source": [
    "%timeit parasail.sg_trace_striped_sat(consensus_seq, ref_seq, 12, 3, matrix)"
   ]
  },
  {
   "cell_type": "code",
   "execution_count": null,
   "id": "ece00f39-47fa-44e4-8899-919df8f003ac",
   "metadata": {},
   "outputs": [],
   "source": [
    "# result = parasail.sw_trace_striped_sat(consensus_seq, ref_seq, 12, 3, matrix)\n",
    "result = parasail.sg_trace_striped_sat(consensus_seq, ref_seq, 12, 3, matrix)\n",
    "result = parasail.sg_trace_striped_sat(consensus_seq, ref_seq, 1, 1, matrix)"
   ]
  },
  {
   "cell_type": "code",
   "execution_count": null,
   "id": "7e5abe08-2866-48b9-af8a-53bf9c93f859",
   "metadata": {},
   "outputs": [],
   "source": [
    "result.get_cigar(alphabet_aliases=alphabet_aliases).decode.decode()"
   ]
  },
  {
   "cell_type": "code",
   "execution_count": null,
   "id": "0854303e-60d3-4d8d-a484-83db5fc08a75",
   "metadata": {},
   "outputs": [],
   "source": [
    "result.get_cigar(alphabet_aliases=\"ANTNCNGN\").decode"
   ]
  },
  {
   "cell_type": "code",
   "execution_count": null,
   "id": "6faf4024-a5bf-47cf-a597-7ace367a9cf6",
   "metadata": {},
   "outputs": [],
   "source": [
    "cigar"
   ]
  },
  {
   "cell_type": "code",
   "execution_count": null,
   "id": "9b79bd61-005c-4ce9-b4d9-af8415be953e",
   "metadata": {},
   "outputs": [],
   "source": [
    "ref_seq[:38]"
   ]
  },
  {
   "cell_type": "code",
   "execution_count": null,
   "id": "54a1ede6-75a4-495e-bab7-5216d6828aad",
   "metadata": {},
   "outputs": [],
   "source": [
    "consensus_seq[:38]"
   ]
  },
  {
   "cell_type": "code",
   "execution_count": null,
   "id": "8fe48c2d-1b7b-4534-914b-0f4ea8cc8f51",
   "metadata": {},
   "outputs": [],
   "source": [
    "wfa = WavefrontAligner(ref_seq)\n",
    "score = wfa.wavefront_align(consensus_seq)"
   ]
  },
  {
   "cell_type": "code",
   "execution_count": null,
   "id": "ebcb03a6-0cff-4306-82ec-fbf61936bd29",
   "metadata": {},
   "outputs": [],
   "source": [
    "wfa.cigarstring.replace(\"M\", \"=\")"
   ]
  },
  {
   "cell_type": "code",
   "execution_count": null,
   "id": "eb7975e3-b271-45c1-8d56-5c49a5f317e6",
   "metadata": {},
   "outputs": [],
   "source": [
    "# wfa.cigartuples"
   ]
  },
  {
   "cell_type": "code",
   "execution_count": null,
   "id": "5a125208-c245-4027-bd80-2bf6c6c83588",
   "metadata": {},
   "outputs": [],
   "source": [
    "wfa.cigar_print_pretty()"
   ]
  },
  {
   "cell_type": "code",
   "execution_count": null,
   "id": "1c4c49ab-dcc7-4b64-a89c-b8cee71aa3c1",
   "metadata": {},
   "outputs": [],
   "source": [
    "cigar"
   ]
  }
 ],
 "metadata": {
  "kernelspec": {
   "display_name": "Python 3 (ipykernel)",
   "language": "python",
   "name": "python3"
  },
  "language_info": {
   "codemirror_mode": {
    "name": "ipython",
    "version": 3
   },
   "file_extension": ".py",
   "mimetype": "text/x-python",
   "name": "python",
   "nbconvert_exporter": "python",
   "pygments_lexer": "ipython3",
   "version": "3.10.12"
  }
 },
 "nbformat": 4,
 "nbformat_minor": 5
}
