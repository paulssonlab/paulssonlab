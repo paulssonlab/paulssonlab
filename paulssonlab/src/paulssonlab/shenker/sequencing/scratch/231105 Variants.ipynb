{
 "cells": [
  {
   "cell_type": "code",
   "execution_count": null,
   "id": "41c57f7d-eb34-40e9-b810-10d4c44d68b2",
   "metadata": {},
   "outputs": [],
   "source": [
    "import itertools as it\n",
    "import operator\n",
    "import re\n",
    "import subprocess\n",
    "import tempfile\n",
    "import time\n",
    "from collections import Counter\n",
    "from functools import partial\n",
    "from pathlib import Path\n",
    "\n",
    "import awkward as ak\n",
    "import bottleneck as bn\n",
    "import duckdb\n",
    "import gfapy\n",
    "import holoviews as hv\n",
    "import ibis\n",
    "import matplotlib.pyplot as plt\n",
    "import numba\n",
    "import numpy as np\n",
    "import pandas as pd\n",
    "import parasail\n",
    "import polars as pl\n",
    "import pyabpoa\n",
    "import pyarrow as pa\n",
    "import pyarrow.compute as pc\n",
    "import pyarrow.dataset as ds\n",
    "import pyfastx\n",
    "import pysam\n",
    "import spoa\n",
    "from Bio import SeqIO\n",
    "from Bio.Seq import Seq\n",
    "from Bio.SeqRecord import SeqRecord\n",
    "from pyarrow import csv\n",
    "from pywfa import WavefrontAligner\n",
    "from tqdm.auto import tqdm, trange"
   ]
  },
  {
   "cell_type": "code",
   "execution_count": null,
   "id": "f4ec68fd-4dab-43a1-a74d-fc2137f04acb",
   "metadata": {},
   "outputs": [],
   "source": [
    "%load_ext autoreload\n",
    "%autoreload 2"
   ]
  },
  {
   "cell_type": "code",
   "execution_count": null,
   "id": "6d3d323b-2fd5-44cd-b9b0-ed41db593de3",
   "metadata": {},
   "outputs": [],
   "source": [
    "import paulssonlab.sequencing.align as align\n",
    "import paulssonlab.sequencing.consensus as con\n",
    "import paulssonlab.sequencing.gfa as sgfa\n",
    "import paulssonlab.sequencing.io as sio\n",
    "import paulssonlab.sequencing.processing as processing\n",
    "from paulssonlab.util.sequence import reverse_complement"
   ]
  },
  {
   "cell_type": "code",
   "execution_count": null,
   "id": "f117a156-f6f6-423f-81be-bb5eed890a23",
   "metadata": {},
   "outputs": [],
   "source": [
    "hv.extension(\"bokeh\")"
   ]
  },
  {
   "cell_type": "code",
   "execution_count": null,
   "id": "ab1a37e0-1304-4373-a431-bdbd42cff000",
   "metadata": {},
   "outputs": [],
   "source": [
    "%load_ext pyinstrument\n",
    "import line_profiler\n",
    "import pyinstrument\n",
    "\n",
    "%load_ext line_profiler"
   ]
  },
  {
   "cell_type": "code",
   "execution_count": null,
   "id": "d286b864-7447-4195-8a34-2ede229b0b4c",
   "metadata": {},
   "outputs": [],
   "source": [
    "pl.enable_string_cache()"
   ]
  },
  {
   "cell_type": "markdown",
   "id": "87262c91-3af5-492b-a2f5-905c72ef5d15",
   "metadata": {},
   "source": [
    "# Config"
   ]
  },
  {
   "cell_type": "code",
   "execution_count": null,
   "id": "4d631ced-8131-4d91-8d26-23e49fdfccea",
   "metadata": {},
   "outputs": [],
   "source": [
    "gfa_filename = \"/home/jqs1/scratch/jqs1/sequencing/230930_alignment_test/230707_repressilators/pLIB419.gfa\""
   ]
  },
  {
   "cell_type": "code",
   "execution_count": null,
   "id": "09df61df-251e-49fa-a9c8-4f63a4e4710b",
   "metadata": {},
   "outputs": [],
   "source": [
    "gfa = gfapy.Gfa.from_file(gfa_filename)"
   ]
  },
  {
   "cell_type": "markdown",
   "id": "9987ff2e-06a3-4971-8a38-bd224d4afe6f",
   "metadata": {},
   "source": [
    "# Identify variants"
   ]
  },
  {
   "cell_type": "markdown",
   "id": "312b1a96-f7a9-4609-a056-ee03f838884f",
   "metadata": {},
   "source": [
    "# Realign"
   ]
  },
  {
   "cell_type": "code",
   "execution_count": null,
   "id": "cd7fd8a0-ee77-43be-8916-9f51d24b58be",
   "metadata": {},
   "outputs": [],
   "source": [
    "df = pl.read_ipc(\n",
    "    \"/home/jqs1/scratch/jqs1/sequencing/230930_alignment_test/230707_repressilators/dorado_0.4.0/uncompressed/prepared/consensus_spoa2/align2/combined.arrow\"\n",
    ")"
   ]
  },
  {
   "cell_type": "code",
   "execution_count": null,
   "id": "25f02d1b-5132-4215-bf2b-9807a1153120",
   "metadata": {},
   "outputs": [],
   "source": [
    "df.estimated_size(unit=\"mb\")"
   ]
  },
  {
   "cell_type": "code",
   "execution_count": null,
   "id": "a2a54984-4a72-4cf4-b1fd-4d5f2365fbd0",
   "metadata": {},
   "outputs": [],
   "source": [
    "{col: df.get_column(col).estimated_size(unit=\"mb\") for col in df.columns}"
   ]
  },
  {
   "cell_type": "code",
   "execution_count": null,
   "id": "5862d2a7-752d-4be4-8631-d484bf8fe143",
   "metadata": {},
   "outputs": [],
   "source": [
    "path = df[0, \"path_consensus\"].to_list()\n",
    "consensus_seq = df[0, \"consensus_seq\"]\n",
    "cigar = df[0, \"cg\"]"
   ]
  },
  {
   "cell_type": "code",
   "execution_count": null,
   "id": "66330eaa-7479-4376-b0e0-935e0f396623",
   "metadata": {},
   "outputs": [],
   "source": [
    "ref_seq = sgfa.assemble_seq_from_path(gfa, path)"
   ]
  },
  {
   "cell_type": "code",
   "execution_count": null,
   "id": "68e1dcc8-31f2-4241-895c-05f6d27775c7",
   "metadata": {},
   "outputs": [],
   "source": [
    "matrix = parasail.matrix_create(\"ATCG\", 1, 0)\n",
    "result = parasail.sw_trace_striped_sat(ref_seq, consensus_seq, 1, 1, matrix)"
   ]
  },
  {
   "cell_type": "code",
   "execution_count": null,
   "id": "b4332811-5e96-4b18-b216-fc8eaf02c579",
   "metadata": {},
   "outputs": [],
   "source": [
    "name_to_seq = sgfa.gfa_name_mapping(gfa)\n",
    "parasail_matrix, alphabet_aliases = align.degenerate_parasail_matrix(1, 0)"
   ]
  },
  {
   "cell_type": "code",
   "execution_count": null,
   "id": "1764f913-a1dd-4afc-bd92-54a16371b816",
   "metadata": {},
   "outputs": [],
   "source": [
    "%timeit align.degenerate_parasail_matrix(1, 0)"
   ]
  },
  {
   "cell_type": "code",
   "execution_count": null,
   "id": "51c5252e-5434-42bc-93bf-cca1a29421b9",
   "metadata": {},
   "outputs": [],
   "source": [
    "%timeit parasail.sg_trace_striped_sat(consensus_seq, ref_seq, 12, 3, parasail_matrix)"
   ]
  },
  {
   "cell_type": "code",
   "execution_count": null,
   "id": "ece00f39-47fa-44e4-8899-919df8f003ac",
   "metadata": {},
   "outputs": [],
   "source": [
    "# result = parasail.sw_trace_striped_sat(consensus_seq, ref_seq, 12, 3, parasail_matrix)\n",
    "result = parasail.sg_trace_striped_sat(consensus_seq, ref_seq, 12, 3, parasail_matrix)\n",
    "# result = parasail.sg_trace_striped_sat(consensus_seq, ref_seq, 1, 1, parasail_matrix)"
   ]
  },
  {
   "cell_type": "code",
   "execution_count": null,
   "id": "7e5abe08-2866-48b9-af8a-53bf9c93f859",
   "metadata": {},
   "outputs": [],
   "source": [
    "cigar = result.get_cigar(alphabet_aliases=alphabet_aliases)"
   ]
  },
  {
   "cell_type": "code",
   "execution_count": null,
   "id": "0c0fbe67-6fe0-4296-9bfe-7e171f5b2e8f",
   "metadata": {},
   "outputs": [],
   "source": [
    "cigar.decode.decode()"
   ]
  },
  {
   "cell_type": "code",
   "execution_count": null,
   "id": "26ff9985-ea2c-47c1-a6ca-666eca751ce6",
   "metadata": {},
   "outputs": [],
   "source": [
    "cigar.seq"
   ]
  },
  {
   "cell_type": "code",
   "execution_count": null,
   "id": "6734e471-327b-45cb-b00d-cc0a52637cd0",
   "metadata": {},
   "outputs": [],
   "source": [
    "a = result.get_cigar(alphabet_aliases=alphabet_aliases)"
   ]
  },
  {
   "cell_type": "code",
   "execution_count": null,
   "id": "a5087bf7-feef-4bb6-9574-409b402dd971",
   "metadata": {},
   "outputs": [],
   "source": [
    "parasail.Cigar.decode_op(609)"
   ]
  },
  {
   "cell_type": "code",
   "execution_count": null,
   "id": "60427b7a-3008-4bc8-ad8e-a75151f51586",
   "metadata": {},
   "outputs": [],
   "source": [
    "parasail.Cigar.decode_len(609)"
   ]
  },
  {
   "cell_type": "code",
   "execution_count": null,
   "id": "cb882add-9b64-4f2f-bc83-2dacf27adad9",
   "metadata": {},
   "outputs": [],
   "source": [
    "a.decode"
   ]
  },
  {
   "cell_type": "code",
   "execution_count": null,
   "id": "8bf23a7d-3ced-4ee9-962e-488ea98ae206",
   "metadata": {},
   "outputs": [],
   "source": [
    "a.seq"
   ]
  },
  {
   "cell_type": "code",
   "execution_count": null,
   "id": "4c8c54ff-0af6-4439-b92d-c15f6f56df30",
   "metadata": {},
   "outputs": [],
   "source": [
    "consensus_seq2 = consensus_seq[:100]\n",
    "ref_seq2 = \"CAGTGCTCTTGTGGGTCCGATTCGCCAGATGATAAGGAACTACATAATACGACTCACTATAGGGACGAACGTTAGCAGCACTAT\""
   ]
  },
  {
   "cell_type": "code",
   "execution_count": null,
   "id": "fb2258fe-e280-4454-81f6-228652b43484",
   "metadata": {},
   "outputs": [],
   "source": [
    "consensus_seq2"
   ]
  },
  {
   "cell_type": "code",
   "execution_count": null,
   "id": "80217137-597a-4224-af0d-d33901fb7537",
   "metadata": {},
   "outputs": [],
   "source": [
    "ref_seq2"
   ]
  },
  {
   "cell_type": "code",
   "execution_count": null,
   "id": "766bcfe5-9877-437f-9a88-840eea8cd382",
   "metadata": {},
   "outputs": [],
   "source": [
    "score, cigar = align.pairwise_align(consensus_seq2, ref_seq2)\n",
    "# score, cigar = align.pairwise_align(consensus_seq2, ref_seq2, method=\"pywfa\")\n",
    "# score, cigar = align.pairwise_align(consensus_seq2, ref_seq2, method=\"pywfa\", span=\"ends-free\")"
   ]
  },
  {
   "cell_type": "code",
   "execution_count": null,
   "id": "7aa7bf5d-4c80-4630-ab71-564ba8aefd0f",
   "metadata": {},
   "outputs": [],
   "source": [
    "score"
   ]
  },
  {
   "cell_type": "code",
   "execution_count": null,
   "id": "7f9c68fb-6d91-4072-ba32-8db74ba21e1f",
   "metadata": {},
   "outputs": [],
   "source": [
    "cigar"
   ]
  },
  {
   "cell_type": "code",
   "execution_count": null,
   "id": "b5a8ed66-b000-4c89-afe9-cda592b580ef",
   "metadata": {},
   "outputs": [],
   "source": [
    "score"
   ]
  },
  {
   "cell_type": "code",
   "execution_count": null,
   "id": "300e7d69-c1aa-4917-af4a-5a9dac4c3f7a",
   "metadata": {},
   "outputs": [],
   "source": [
    "cigar"
   ]
  },
  {
   "cell_type": "code",
   "execution_count": null,
   "id": "a8d15c3b-16fb-4d1f-9345-a9e10b0eafb2",
   "metadata": {},
   "outputs": [],
   "source": [
    "ref_seq2"
   ]
  },
  {
   "cell_type": "code",
   "execution_count": null,
   "id": "68325a01-058f-4b37-bb03-ebf20061ffda",
   "metadata": {},
   "outputs": [],
   "source": [
    "?WavefrontAligner.__call__"
   ]
  },
  {
   "cell_type": "code",
   "execution_count": null,
   "id": "710607e7-9a0b-4a75-8a10-e374f8b257cd",
   "metadata": {},
   "outputs": [],
   "source": [
    "wfa = WavefrontAligner(span=\"end-to-end\")\n",
    "wfa(consensus_seq2, ref_seq2)"
   ]
  },
  {
   "cell_type": "code",
   "execution_count": null,
   "id": "e68545f3-85e9-4223-9cf6-212e83666460",
   "metadata": {},
   "outputs": [],
   "source": [
    "wfa = WavefrontAligner(span=\"ends-free\")\n",
    "wfa(consensus_seq2, \"A\")"
   ]
  },
  {
   "cell_type": "code",
   "execution_count": null,
   "id": "6f4a5ba8-bcef-4f2a-847f-ccef946bfee4",
   "metadata": {},
   "outputs": [],
   "source": [
    "wfa.cigarstring"
   ]
  },
  {
   "cell_type": "code",
   "execution_count": null,
   "id": "902b1ac2-4357-4ddb-8812-a17d5014fd58",
   "metadata": {},
   "outputs": [],
   "source": [
    "wfa.score"
   ]
  }
 ],
 "metadata": {
  "kernelspec": {
   "display_name": "Python 3 (ipykernel)",
   "language": "python",
   "name": "python3"
  },
  "language_info": {
   "codemirror_mode": {
    "name": "ipython",
    "version": 3
   },
   "file_extension": ".py",
   "mimetype": "text/x-python",
   "name": "python",
   "nbconvert_exporter": "python",
   "pygments_lexer": "ipython3",
   "version": "3.10.12"
  }
 },
 "nbformat": 4,
 "nbformat_minor": 5
}
