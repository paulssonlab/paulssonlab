{
 "cells": [
  {
   "cell_type": "code",
   "execution_count": null,
   "id": "41c57f7d-eb34-40e9-b810-10d4c44d68b2",
   "metadata": {},
   "outputs": [],
   "source": [
    "import itertools as it\n",
    "import operator\n",
    "import re\n",
    "import subprocess\n",
    "import tempfile\n",
    "import time\n",
    "from collections import Counter\n",
    "from functools import partial\n",
    "from pathlib import Path\n",
    "\n",
    "import awkward as ak\n",
    "import bottleneck as bn\n",
    "import duckdb\n",
    "import gfapy\n",
    "import holoviews as hv\n",
    "import ibis\n",
    "import matplotlib.pyplot as plt\n",
    "import numba\n",
    "import numpy as np\n",
    "import pandas as pd\n",
    "import parasail\n",
    "import polars as pl\n",
    "import pyabpoa\n",
    "import pyarrow as pa\n",
    "import pyarrow.compute as pc\n",
    "import pyarrow.dataset as ds\n",
    "import pyfastx\n",
    "import pysam\n",
    "import spoa\n",
    "from Bio import SeqIO\n",
    "from Bio.Seq import Seq\n",
    "from Bio.SeqRecord import SeqRecord\n",
    "from pyarrow import csv\n",
    "from pywfa import WavefrontAligner\n",
    "from tqdm.auto import tqdm, trange"
   ]
  },
  {
   "cell_type": "code",
   "execution_count": null,
   "id": "f4ec68fd-4dab-43a1-a74d-fc2137f04acb",
   "metadata": {},
   "outputs": [],
   "source": [
    "%load_ext autoreload\n",
    "%autoreload 2"
   ]
  },
  {
   "cell_type": "code",
   "execution_count": null,
   "id": "6d3d323b-2fd5-44cd-b9b0-ed41db593de3",
   "metadata": {},
   "outputs": [],
   "source": [
    "import paulssonlab.sequencing.align as align\n",
    "import paulssonlab.sequencing.consensus as con\n",
    "import paulssonlab.sequencing.gfa as sgfa\n",
    "import paulssonlab.sequencing.io as sio\n",
    "import paulssonlab.sequencing.processing as processing\n",
    "from paulssonlab.util.sequence import reverse_complement"
   ]
  },
  {
   "cell_type": "code",
   "execution_count": null,
   "id": "f117a156-f6f6-423f-81be-bb5eed890a23",
   "metadata": {},
   "outputs": [],
   "source": [
    "hv.extension(\"bokeh\")"
   ]
  },
  {
   "cell_type": "code",
   "execution_count": null,
   "id": "ab1a37e0-1304-4373-a431-bdbd42cff000",
   "metadata": {},
   "outputs": [],
   "source": [
    "%load_ext pyinstrument\n",
    "import line_profiler\n",
    "import pyinstrument\n",
    "\n",
    "%load_ext line_profiler"
   ]
  },
  {
   "cell_type": "code",
   "execution_count": null,
   "id": "d286b864-7447-4195-8a34-2ede229b0b4c",
   "metadata": {},
   "outputs": [],
   "source": [
    "pl.enable_string_cache()"
   ]
  },
  {
   "cell_type": "markdown",
   "id": "87262c91-3af5-492b-a2f5-905c72ef5d15",
   "metadata": {},
   "source": [
    "# Config"
   ]
  },
  {
   "cell_type": "code",
   "execution_count": null,
   "id": "4d631ced-8131-4d91-8d26-23e49fdfccea",
   "metadata": {},
   "outputs": [],
   "source": [
    "gfa_filename = \"/home/jqs1/scratch/jqs1/sequencing/230930_alignment_test/230707_repressilators/pLIB419.gfa\""
   ]
  },
  {
   "cell_type": "code",
   "execution_count": null,
   "id": "09df61df-251e-49fa-a9c8-4f63a4e4710b",
   "metadata": {},
   "outputs": [],
   "source": [
    "gfa = gfapy.Gfa.from_file(gfa_filename)"
   ]
  },
  {
   "cell_type": "markdown",
   "id": "9987ff2e-06a3-4971-8a38-bd224d4afe6f",
   "metadata": {},
   "source": [
    "# Identify variants"
   ]
  },
  {
   "cell_type": "markdown",
   "id": "312b1a96-f7a9-4609-a056-ee03f838884f",
   "metadata": {},
   "source": [
    "# Realign"
   ]
  },
  {
   "cell_type": "code",
   "execution_count": null,
   "id": "cd7fd8a0-ee77-43be-8916-9f51d24b58be",
   "metadata": {},
   "outputs": [],
   "source": [
    "df = pl.read_ipc(\n",
    "    \"/home/jqs1/scratch/jqs1/sequencing/230930_alignment_test/230707_repressilators/dorado_0.4.0/uncompressed/prepared/consensus_spoa2/align2/combined.arrow\"\n",
    ")"
   ]
  },
  {
   "cell_type": "code",
   "execution_count": null,
   "id": "25f02d1b-5132-4215-bf2b-9807a1153120",
   "metadata": {},
   "outputs": [],
   "source": [
    "df.estimated_size(unit=\"mb\")"
   ]
  },
  {
   "cell_type": "code",
   "execution_count": null,
   "id": "a2a54984-4a72-4cf4-b1fd-4d5f2365fbd0",
   "metadata": {},
   "outputs": [],
   "source": [
    "{col: df.get_column(col).estimated_size(unit=\"mb\") for col in df.columns}"
   ]
  },
  {
   "cell_type": "code",
   "execution_count": null,
   "id": "5862d2a7-752d-4be4-8631-d484bf8fe143",
   "metadata": {},
   "outputs": [],
   "source": [
    "path = df[0, \"path_consensus\"].to_list()\n",
    "consensus_seq = df[0, \"consensus_seq\"]\n",
    "cigar = df[0, \"cg\"]"
   ]
  },
  {
   "cell_type": "code",
   "execution_count": null,
   "id": "66330eaa-7479-4376-b0e0-935e0f396623",
   "metadata": {},
   "outputs": [],
   "source": [
    "ref_seq = sgfa.assemble_seq_from_path(gfa, path)"
   ]
  },
  {
   "cell_type": "code",
   "execution_count": null,
   "id": "f4a19970-6b0d-4514-92dd-0824762cc5d0",
   "metadata": {},
   "outputs": [],
   "source": [
    "score, cigar = align.pairwise_align(\n",
    "    consensus_seq,\n",
    "    ref_seq,\n",
    "    degenerate=True,\n",
    "    gap_opening=12,\n",
    "    gap_extension=3,\n",
    "    match=1,\n",
    "    mismatch=0,\n",
    "    parasail_algorithm=\"nw\",\n",
    ")\n",
    "(score, cigar)"
   ]
  }
 ],
 "metadata": {
  "kernelspec": {
   "display_name": "Python 3 (ipykernel)",
   "language": "python",
   "name": "python3"
  },
  "language_info": {
   "codemirror_mode": {
    "name": "ipython",
    "version": 3
   },
   "file_extension": ".py",
   "mimetype": "text/x-python",
   "name": "python",
   "nbconvert_exporter": "python",
   "pygments_lexer": "ipython3",
   "version": "3.10.12"
  }
 },
 "nbformat": 4,
 "nbformat_minor": 5
}
