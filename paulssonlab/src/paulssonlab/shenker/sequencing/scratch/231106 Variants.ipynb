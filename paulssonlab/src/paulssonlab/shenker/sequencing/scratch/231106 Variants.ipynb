{
 "cells": [
  {
   "cell_type": "code",
   "execution_count": null,
   "id": "41c57f7d-eb34-40e9-b810-10d4c44d68b2",
   "metadata": {},
   "outputs": [],
   "source": [
    "import itertools as it\n",
    "import operator\n",
    "import re\n",
    "import subprocess\n",
    "import tempfile\n",
    "import time\n",
    "from collections import Counter\n",
    "from functools import partial\n",
    "from pathlib import Path\n",
    "\n",
    "import awkward as ak\n",
    "import bottleneck as bn\n",
    "import duckdb\n",
    "import gfapy\n",
    "import holoviews as hv\n",
    "import ibis\n",
    "import matplotlib.pyplot as plt\n",
    "import numba\n",
    "import numpy as np\n",
    "import pandas as pd\n",
    "import parasail\n",
    "import polars as pl\n",
    "import pyabpoa\n",
    "import pyarrow as pa\n",
    "import pyarrow.compute as pc\n",
    "import pyarrow.dataset as ds\n",
    "import pyfastx\n",
    "import pysam\n",
    "import spoa\n",
    "from Bio import SeqIO\n",
    "from Bio.Seq import Seq\n",
    "from Bio.SeqRecord import SeqRecord\n",
    "from pyarrow import csv\n",
    "from pywfa import WavefrontAligner\n",
    "from tqdm.auto import tqdm, trange"
   ]
  },
  {
   "cell_type": "code",
   "execution_count": null,
   "id": "f4ec68fd-4dab-43a1-a74d-fc2137f04acb",
   "metadata": {},
   "outputs": [],
   "source": [
    "%load_ext autoreload\n",
    "%autoreload 2"
   ]
  },
  {
   "cell_type": "code",
   "execution_count": null,
   "id": "6d3d323b-2fd5-44cd-b9b0-ed41db593de3",
   "metadata": {},
   "outputs": [],
   "source": [
    "import paulssonlab.sequencing.align as align\n",
    "import paulssonlab.sequencing.consensus as con\n",
    "import paulssonlab.sequencing.gfa as sgfa\n",
    "import paulssonlab.sequencing.io as sio\n",
    "import paulssonlab.sequencing.processing as processing\n",
    "from paulssonlab.util.sequence import reverse_complement"
   ]
  },
  {
   "cell_type": "code",
   "execution_count": null,
   "id": "f117a156-f6f6-423f-81be-bb5eed890a23",
   "metadata": {},
   "outputs": [],
   "source": [
    "hv.extension(\"bokeh\")"
   ]
  },
  {
   "cell_type": "code",
   "execution_count": null,
   "id": "ab1a37e0-1304-4373-a431-bdbd42cff000",
   "metadata": {},
   "outputs": [],
   "source": [
    "%load_ext pyinstrument\n",
    "import line_profiler\n",
    "import pyinstrument\n",
    "\n",
    "%load_ext line_profiler"
   ]
  },
  {
   "cell_type": "code",
   "execution_count": null,
   "id": "d286b864-7447-4195-8a34-2ede229b0b4c",
   "metadata": {},
   "outputs": [],
   "source": [
    "pl.enable_string_cache()"
   ]
  },
  {
   "cell_type": "markdown",
   "id": "87262c91-3af5-492b-a2f5-905c72ef5d15",
   "metadata": {},
   "source": [
    "# Config"
   ]
  },
  {
   "cell_type": "code",
   "execution_count": null,
   "id": "4d631ced-8131-4d91-8d26-23e49fdfccea",
   "metadata": {},
   "outputs": [],
   "source": [
    "gfa_filename = \"/home/jqs1/scratch/jqs1/sequencing/230930_alignment_test/230707_repressilators/pLIB419.gfa\""
   ]
  },
  {
   "cell_type": "code",
   "execution_count": null,
   "id": "09df61df-251e-49fa-a9c8-4f63a4e4710b",
   "metadata": {},
   "outputs": [],
   "source": [
    "gfa = gfapy.Gfa.from_file(gfa_filename)"
   ]
  },
  {
   "cell_type": "markdown",
   "id": "312b1a96-f7a9-4609-a056-ee03f838884f",
   "metadata": {},
   "source": [
    "# Realign"
   ]
  },
  {
   "cell_type": "code",
   "execution_count": null,
   "id": "cd7fd8a0-ee77-43be-8916-9f51d24b58be",
   "metadata": {},
   "outputs": [],
   "source": [
    "df = pl.read_ipc(\n",
    "    \"/home/jqs1/scratch/jqs1/sequencing/230930_alignment_test/230707_repressilators/dorado_0.4.0/uncompressed/prepared/consensus_spoa2/align2/combined.arrow\"\n",
    ")"
   ]
  },
  {
   "cell_type": "code",
   "execution_count": null,
   "id": "25f02d1b-5132-4215-bf2b-9807a1153120",
   "metadata": {},
   "outputs": [],
   "source": [
    "df.estimated_size(unit=\"mb\")"
   ]
  },
  {
   "cell_type": "code",
   "execution_count": null,
   "id": "a2a54984-4a72-4cf4-b1fd-4d5f2365fbd0",
   "metadata": {},
   "outputs": [],
   "source": [
    "{col: df.get_column(col).estimated_size(unit=\"mb\") for col in df.columns}"
   ]
  },
  {
   "cell_type": "code",
   "execution_count": null,
   "id": "5862d2a7-752d-4be4-8631-d484bf8fe143",
   "metadata": {},
   "outputs": [],
   "source": [
    "path = df[0, \"path_consensus\"].to_list()\n",
    "consensus_seq = df[0, \"consensus_seq\"]\n",
    "cigar = df[0, \"cg\"]"
   ]
  },
  {
   "cell_type": "code",
   "execution_count": null,
   "id": "66330eaa-7479-4376-b0e0-935e0f396623",
   "metadata": {},
   "outputs": [],
   "source": [
    "ref_seq = sgfa.assemble_seq_from_path(gfa, path)"
   ]
  },
  {
   "cell_type": "code",
   "execution_count": null,
   "id": "f4a19970-6b0d-4514-92dd-0824762cc5d0",
   "metadata": {},
   "outputs": [],
   "source": [
    "score, cigar = align.pairwise_align(\n",
    "    consensus_seq,\n",
    "    ref_seq,\n",
    "    degenerate=True,\n",
    "    gap_opening=12,\n",
    "    gap_extension=3,\n",
    "    match=2,\n",
    "    mismatch=-1,\n",
    "    parasail_algorithm=\"nw\",\n",
    ")\n",
    "(score, cigar)"
   ]
  },
  {
   "cell_type": "code",
   "execution_count": null,
   "id": "c40697dc-450f-4782-a05e-79a0696114c4",
   "metadata": {},
   "outputs": [],
   "source": [
    "score, cigar = align.pairwise_align(\n",
    "    consensus_seq,\n",
    "    ref_seq,\n",
    "    degenerate=True,\n",
    "    gap_opening=12,\n",
    "    gap_extension=3,\n",
    "    match=2,\n",
    "    mismatch=-1,\n",
    ")\n",
    "(score, cigar)"
   ]
  },
  {
   "cell_type": "code",
   "execution_count": null,
   "id": "ed4eab22-ba83-4b22-83b7-f3903b97bc3e",
   "metadata": {},
   "outputs": [],
   "source": [
    "score, cigar = align.pairwise_align(consensus_seq, ref_seq, degenerate=True)\n",
    "(score, cigar)"
   ]
  },
  {
   "cell_type": "code",
   "execution_count": null,
   "id": "8605a61d-f4e4-494a-b688-167b39f903c8",
   "metadata": {},
   "outputs": [],
   "source": [
    "def func(row, name_to_seq=None, **kwargs):\n",
    "    path, seq = row\n",
    "    ref_seq = sgfa.assemble_seq_from_path(name_to_seq, path)\n",
    "    score, cigar = align.pairwise_align(seq, ref_seq, **kwargs)\n",
    "    return score, cigar\n",
    "    # return dict(a=score, b=cigar)\n",
    "    # return dict(a=1, b=2)\n",
    "\n",
    "\n",
    "name_to_seq = sgfa.gfa_name_mapping(gfa)\n",
    "df.head(2).select(pl.col(\"path_consensus\", \"consensus_seq\")).map_rows(\n",
    "    partial(func, name_to_seq=name_to_seq),\n",
    "    # return_dtype=pl.Struct(dict(a=pl.Int32, b=pl.Int32)),\n",
    "    # return_dtype=pl.Struct(dict(score_realign=pl.Int32, cg_realign=pl.Utf8)),\n",
    ").rename({\"column_0\": \"score_realign\", \"column_1\": \"cg_realign\"}).with_columns(\n",
    "    pl.col(\"score_realign\").cast(pl.Int32)\n",
    ")"
   ]
  },
  {
   "cell_type": "markdown",
   "id": "c29d5e0b-2d61-4967-957f-cee40b350912",
   "metadata": {},
   "source": [
    "# Identify variants"
   ]
  },
  {
   "cell_type": "code",
   "execution_count": null,
   "id": "70d559b2-cee4-4a25-8009-d920880c519a",
   "metadata": {},
   "outputs": [],
   "source": [
    "df2 = pl.read_ipc(\n",
    "    \"/home/jqs1/scratch/jqs1/sequencing/230930_alignment_test/230707_repressilators/dorado_0.4.0/uncompressed/prepared/consensus_spoa2/align2/combined_realigned.arrow\"\n",
    ")"
   ]
  },
  {
   "cell_type": "code",
   "execution_count": null,
   "id": "33241cc6-c5f1-4646-8e7a-734a79e90049",
   "metadata": {},
   "outputs": [],
   "source": [
    "len(df2)"
   ]
  },
  {
   "cell_type": "code",
   "execution_count": null,
   "id": "6ec6af07-aaf9-48e6-800f-425d001dcca4",
   "metadata": {},
   "outputs": [],
   "source": [
    "df2.estimated_size(unit=\"mb\")"
   ]
  },
  {
   "cell_type": "code",
   "execution_count": null,
   "id": "867dde8f-584d-4a4b-8748-15d188cee31d",
   "metadata": {},
   "outputs": [],
   "source": [
    "{col: df2.get_column(col).estimated_size(unit=\"mb\") for col in df2.columns}"
   ]
  },
  {
   "cell_type": "code",
   "execution_count": null,
   "id": "d286397d-d47d-40c1-9645-1f7b27c3d61a",
   "metadata": {},
   "outputs": [],
   "source": [
    "df2[:10, \"cg_realign\"].to_list()"
   ]
  },
  {
   "cell_type": "code",
   "execution_count": null,
   "id": "80335739-8fbe-4060-be0b-1a981493ff08",
   "metadata": {},
   "outputs": [],
   "source": [
    "idx = 3\n",
    "seq = df2[idx, \"consensus_seq\"]\n",
    "cigar = df2[idx, \"cg_realign\"]\n",
    "path = df2[idx, \"path_consensus\"].to_list()"
   ]
  },
  {
   "cell_type": "code",
   "execution_count": null,
   "id": "f5355901-e252-4e64-876a-8a62801a3d86",
   "metadata": {},
   "outputs": [],
   "source": [
    "cigar"
   ]
  },
  {
   "cell_type": "code",
   "execution_count": null,
   "id": "23f4ea4b-9962-4f03-9eea-ce922bf51ca8",
   "metadata": {},
   "outputs": [],
   "source": [
    "\"\".join(path)"
   ]
  },
  {
   "cell_type": "code",
   "execution_count": null,
   "id": "632eaaeb-4d2f-40ba-8a25-ae5dcfba74b9",
   "metadata": {},
   "outputs": [],
   "source": [
    "cigar_d = align.decode_cigar(cigar)"
   ]
  },
  {
   "cell_type": "code",
   "execution_count": null,
   "id": "16482099-d9b5-459d-9e0c-e90ccfcf9829",
   "metadata": {},
   "outputs": [],
   "source": [
    "cigar_d"
   ]
  },
  {
   "cell_type": "code",
   "execution_count": null,
   "id": "265b3d21-27b0-451b-b647-94266fc5c47a",
   "metadata": {},
   "outputs": [],
   "source": [
    "# if isinstance(name_to_seq, Gfa):\n",
    "#     name_to_seq = gfa_name_mapping(name_to_seq)\n",
    "name_to_seq = sgfa.gfa_name_mapping(gfa)\n",
    "segments = [name_to_seq[name] for name in path]\n",
    "segment_names = [name[1:] for name in path]\n",
    "segment_rc = [name[0] == \"<\" for name in path]\n",
    "# segment_lengths = [len(s) for s in segments]\n",
    "cigar_d = align.decode_cigar(cigar)\n",
    "ops = [c[0] for c in cigar_d]\n",
    "op_lengths = [c[1] for c in cigar_d]"
   ]
  },
  {
   "cell_type": "code",
   "execution_count": null,
   "id": "6d8c2568-0333-4dd8-ade8-bc6e8c594a36",
   "metadata": {},
   "outputs": [],
   "source": [
    "# TODO: trim insertions from each flank? or associate those with first/last segment?\n",
    "# option to do either?"
   ]
  },
  {
   "cell_type": "code",
   "execution_count": null,
   "id": "ee2188d3-3b8e-4b9b-aa85-777db6ae0736",
   "metadata": {},
   "outputs": [],
   "source": [
    "segment_idx = 0\n",
    "cigar_idx = 0\n",
    "ref_idx = 0\n",
    "query_idx = 0\n",
    "# seg_length = len(segments[0])\n",
    "# op_counts = defaultdict(lambda: ))\n",
    "op_counts = {}\n",
    "segment_length = len(segments[segment_idx])\n",
    "segment_name = segment_names[segment_idx]\n",
    "op = ops[cigar_idx]\n",
    "op_length = op_lengths[cigar_idx]\n",
    "while True:\n",
    "    advance = min(x for x in (op_length, segment_length) if x is not None)\n",
    "    print(f\"op {op} {op_length} seg {segment_name} {segment_length} advance {advance}\")\n",
    "    # if op in [align.CigarOp.I, align.CigarOp[\"=\"], align.CigarOp.X]:\n",
    "    op_length -= advance\n",
    "    if op in [align.CigarOp.D, align.CigarOp[\"=\"], align.CigarOp.X]:\n",
    "        segment_length -= advance\n",
    "    op_counts.setdefault(segment_name, Counter())\n",
    "    op_counts[segment_name][str(op)] += advance\n",
    "    # optionally append to segment_cigar\n",
    "    if segment_length == 0:\n",
    "        segment_idx += 1\n",
    "        if segment_idx == len(segments):\n",
    "            segment_length = None\n",
    "        else:\n",
    "            segment_length = len(segments[segment_idx])\n",
    "            segment_name = segment_names[segment_idx]\n",
    "    if op_length == 0:\n",
    "        cigar_idx += 1\n",
    "        if cigar_idx == len(ops):\n",
    "            pass  # can we ever get here without immediately breaking below?\n",
    "        else:\n",
    "            op = ops[cigar_idx]\n",
    "            op_length = op_lengths[cigar_idx]\n",
    "    # TODO: need to wrap up\n",
    "    if cigar_idx == len(ops) and segment_idx == len(segments):\n",
    "        break"
   ]
  },
  {
   "cell_type": "code",
   "execution_count": null,
   "id": "028c3b24-4747-44ab-9d3f-fc2142511c33",
   "metadata": {},
   "outputs": [],
   "source": [
    "op_counts"
   ]
  },
  {
   "cell_type": "code",
   "execution_count": null,
   "id": "3d79f1a9-a873-4cb5-a8af-5d59ec016c39",
   "metadata": {},
   "outputs": [],
   "source": [
    "(\n",
    "    str(align.CigarOp.I),\n",
    "    int(align.CigarOp.I),\n",
    "    repr(align.CigarOp.I),\n",
    "    \"{}\".format(align.CigarOp.I),\n",
    ")"
   ]
  },
  {
   "cell_type": "code",
   "execution_count": null,
   "id": "e5470aa8-edc2-44dd-a62d-2d7b0e000099",
   "metadata": {},
   "outputs": [],
   "source": [
    "(\n",
    "    str(align.CigarOp.I),\n",
    "    int(align.CigarOp.I),\n",
    "    repr(align.CigarOp.I),\n",
    "    \"{}\".format(align.CigarOp.I),\n",
    ")"
   ]
  },
  {
   "cell_type": "code",
   "execution_count": null,
   "id": "e73e04b5-8b53-4214-811f-c48966ceb996",
   "metadata": {},
   "outputs": [],
   "source": [
    "return \"\".join(name_to_seq[segment] for segment in path)"
   ]
  },
  {
   "cell_type": "code",
   "execution_count": null,
   "id": "dce6087e-0fe6-43d2-9f6a-bf80d90af103",
   "metadata": {},
   "outputs": [],
   "source": [
    "from Bio.Seq import Seq\n",
    "\n",
    "\n",
    "def local_index(index, length, is_reverse, extra=0):\n",
    "    if is_reverse:\n",
    "        return length - index #length - index - 1 - extra\n",
    "    else:\n",
    "        return index\n",
    "\n",
    "def reverse_complement(seq):\n",
    "    return str(Seq(seq).reverse_complement())\n",
    "\n",
    "\n",
    "def reversed_seq(seq, is_reverse):\n",
    "    if is_reverse:\n",
    "        return reverse_complement(seq)\n",
    "    else:\n",
    "        return seq\n",
    "\n",
    "\n",
    "def normalize_alignment(msg):\n",
    "    segment_edits = {segment_name: [] for segment_name in segments.keys()}\n",
    "    segment_read_indices = {}\n",
    "    # for mapping in it.islice(msg.path.mapping, 7):\n",
    "    read_index = 0\n",
    "    for mapping in msg.path.mapping:\n",
    "        segment_index = 0\n",
    "        segment_name = mapping.position.name\n",
    "        offset = mapping.position.offset\n",
    "        if offset:\n",
    "            segment_index += offset\n",
    "        segment_read_start = read_index\n",
    "        is_reverse = mapping.position.is_reverse\n",
    "        edits = segment_edits[segment_name]\n",
    "        segment_length = len(segments[segment_name])\n",
    "        for edit in mapping.edit:\n",
    "            if edit.from_length == edit.to_length:\n",
    "                if edit.sequence:\n",
    "                    # snp\n",
    "                    # TODO: eat matching bases\n",
    "                    edits.append(\n",
    "                        Edit(\n",
    "                            Op.SUBSTITUTION,\n",
    "                            local_index(\n",
    "                                segment_index, segment_length, is_reverse, len(edit.sequence)\n",
    "                            ),\n",
    "                            reversed_seq(edit.sequence, is_reverse),\n",
    "                            None,\n",
    "                        )\n",
    "                    )\n",
    "                    segment_index += edit.from_length\n",
    "                    read_index += edit.to_length\n",
    "                else:\n",
    "                    # match\n",
    "                    degenerate_base_indices = segment_degenerate_bases[segment_name]\n",
    "                    if degenerate_base_indices:\n",
    "                        for base_index in degenerate_base_indices:\n",
    "                            # TODO: handle is_reverse\n",
    "                            local_index(\n",
    "                                segment_index, segment_length, is_reverse, 1\n",
    "                            )\n",
    "                            if segment_index <= base_index < segment_index + edit.from_length:\n",
    "                                edits.append(\n",
    "                                    Edit(\n",
    "                                        Op.SUBSTITUTION,\n",
    "                                        ,\n",
    "                                        reversed_seq(edit.sequence, is_reverse),\n",
    "                                        None,\n",
    "                                    )\n",
    "                                )\n",
    "                    else:\n",
    "                        segment_index += edit.from_length\n",
    "                        read_index += edit.to_length\n",
    "            elif not edit.to_length:\n",
    "                # deletion\n",
    "                edits.append(\n",
    "                    Edit(\n",
    "                        Op.DELETION,\n",
    "                        local_index(segment_index, segment_length, is_reverse, edit.from_length),\n",
    "                        None,\n",
    "                        edit.from_length,\n",
    "                    )\n",
    "                )\n",
    "                segment_index += edit.from_length\n",
    "            elif edit.from_length < edit.to_length:\n",
    "                # insertion\n",
    "                # if from_length > 0: need to remove matching bases from both sides\n",
    "                assert edit.from_length == 0\n",
    "                edits.append(\n",
    "                    Edit(\n",
    "                        Op.INSERTION,\n",
    "                        local_index(segment_index, segment_length, is_reverse, edit.to_length),\n",
    "                        reversed_seq(edit.sequence, is_reverse),\n",
    "                        None,\n",
    "                    )\n",
    "                )\n",
    "                # TODO: shouldn't increment segment_index, right?\n",
    "                #segment_index += edit.to_length\n",
    "                read_index += edit.to_length\n",
    "        segment_read_end = read_index\n",
    "        segment_read_indices[segment_name] = (segment_read_start, segment_read_end)\n",
    "        if is_reverse:\n",
    "            edits.reverse()\n",
    "        # TODO: merge like edits (i.e., degen base insertions)\n",
    "    return segment_edits, segment_read_indices"
   ]
  }
 ],
 "metadata": {
  "kernelspec": {
   "display_name": "Python 3 (ipykernel)",
   "language": "python",
   "name": "python3"
  },
  "language_info": {
   "codemirror_mode": {
    "name": "ipython",
    "version": 3
   },
   "file_extension": ".py",
   "mimetype": "text/x-python",
   "name": "python",
   "nbconvert_exporter": "python",
   "pygments_lexer": "ipython3",
   "version": "3.10.12"
  }
 },
 "nbformat": 4,
 "nbformat_minor": 5
}
