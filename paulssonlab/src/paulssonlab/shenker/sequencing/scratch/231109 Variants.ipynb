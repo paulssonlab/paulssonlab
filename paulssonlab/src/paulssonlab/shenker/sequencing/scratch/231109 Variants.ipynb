{
 "cells": [
  {
   "cell_type": "code",
   "execution_count": null,
   "id": "41c57f7d-eb34-40e9-b810-10d4c44d68b2",
   "metadata": {},
   "outputs": [],
   "source": [
    "import itertools as it\n",
    "import operator\n",
    "import re\n",
    "import subprocess\n",
    "import tempfile\n",
    "import time\n",
    "from collections import Counter\n",
    "from functools import partial\n",
    "from pathlib import Path\n",
    "\n",
    "import awkward as ak\n",
    "import bottleneck as bn\n",
    "import duckdb\n",
    "import gfapy\n",
    "import holoviews as hv\n",
    "import ibis\n",
    "import matplotlib.pyplot as plt\n",
    "import numba\n",
    "import numpy as np\n",
    "import pandas as pd\n",
    "import parasail\n",
    "import polars as pl\n",
    "import pyabpoa\n",
    "import pyarrow as pa\n",
    "import pyarrow.compute as pc\n",
    "import pyarrow.dataset as ds\n",
    "import pyfastx\n",
    "import pysam\n",
    "import spoa\n",
    "from Bio import SeqIO\n",
    "from Bio.Seq import Seq\n",
    "from Bio.SeqRecord import SeqRecord\n",
    "from pyarrow import csv\n",
    "from pywfa import WavefrontAligner\n",
    "from tqdm.auto import tqdm, trange"
   ]
  },
  {
   "cell_type": "code",
   "execution_count": null,
   "id": "f4ec68fd-4dab-43a1-a74d-fc2137f04acb",
   "metadata": {},
   "outputs": [],
   "source": [
    "%load_ext autoreload\n",
    "%autoreload 2"
   ]
  },
  {
   "cell_type": "code",
   "execution_count": null,
   "id": "6d3d323b-2fd5-44cd-b9b0-ed41db593de3",
   "metadata": {},
   "outputs": [],
   "source": [
    "import paulssonlab.sequencing.align as align\n",
    "import paulssonlab.sequencing.cigar as scigar\n",
    "import paulssonlab.sequencing.consensus as con\n",
    "import paulssonlab.sequencing.gfa as sgfa\n",
    "import paulssonlab.sequencing.io as sio\n",
    "import paulssonlab.sequencing.processing as processing\n",
    "from paulssonlab.util.sequence import reverse_complement"
   ]
  },
  {
   "cell_type": "code",
   "execution_count": null,
   "id": "f117a156-f6f6-423f-81be-bb5eed890a23",
   "metadata": {},
   "outputs": [],
   "source": [
    "hv.extension(\"bokeh\")"
   ]
  },
  {
   "cell_type": "code",
   "execution_count": null,
   "id": "ab1a37e0-1304-4373-a431-bdbd42cff000",
   "metadata": {},
   "outputs": [],
   "source": [
    "%load_ext pyinstrument\n",
    "import line_profiler\n",
    "import pyinstrument\n",
    "\n",
    "%load_ext line_profiler"
   ]
  },
  {
   "cell_type": "code",
   "execution_count": null,
   "id": "d286b864-7447-4195-8a34-2ede229b0b4c",
   "metadata": {},
   "outputs": [],
   "source": [
    "pl.enable_string_cache()"
   ]
  },
  {
   "cell_type": "markdown",
   "id": "87262c91-3af5-492b-a2f5-905c72ef5d15",
   "metadata": {},
   "source": [
    "# Config"
   ]
  },
  {
   "cell_type": "code",
   "execution_count": null,
   "id": "4d631ced-8131-4d91-8d26-23e49fdfccea",
   "metadata": {},
   "outputs": [],
   "source": [
    "gfa_filename = \"/home/jqs1/scratch/jqs1/sequencing/230930_alignment_test/230707_repressilators/pLIB419.gfa\""
   ]
  },
  {
   "cell_type": "code",
   "execution_count": null,
   "id": "09df61df-251e-49fa-a9c8-4f63a4e4710b",
   "metadata": {},
   "outputs": [],
   "source": [
    "gfa = gfapy.Gfa.from_file(gfa_filename)"
   ]
  },
  {
   "cell_type": "markdown",
   "id": "312b1a96-f7a9-4609-a056-ee03f838884f",
   "metadata": {},
   "source": [
    "# Realign"
   ]
  },
  {
   "cell_type": "code",
   "execution_count": null,
   "id": "cd7fd8a0-ee77-43be-8916-9f51d24b58be",
   "metadata": {},
   "outputs": [],
   "source": [
    "df = pl.read_ipc(\n",
    "    \"/home/jqs1/scratch/jqs1/sequencing/230930_alignment_test/230707_repressilators/dorado_0.4.0/uncompressed/prepared/consensus_spoa2/align2/combined.arrow\"\n",
    ")"
   ]
  },
  {
   "cell_type": "code",
   "execution_count": null,
   "id": "25f02d1b-5132-4215-bf2b-9807a1153120",
   "metadata": {},
   "outputs": [],
   "source": [
    "df.estimated_size(unit=\"mb\")"
   ]
  },
  {
   "cell_type": "code",
   "execution_count": null,
   "id": "a2a54984-4a72-4cf4-b1fd-4d5f2365fbd0",
   "metadata": {},
   "outputs": [],
   "source": [
    "{col: df.get_column(col).estimated_size(unit=\"mb\") for col in df.columns}"
   ]
  },
  {
   "cell_type": "code",
   "execution_count": null,
   "id": "5862d2a7-752d-4be4-8631-d484bf8fe143",
   "metadata": {},
   "outputs": [],
   "source": [
    "path = df[0, \"path_consensus\"].to_list()\n",
    "consensus_seq = df[0, \"consensus_seq\"]\n",
    "cigar = df[0, \"cg\"]"
   ]
  },
  {
   "cell_type": "code",
   "execution_count": null,
   "id": "66330eaa-7479-4376-b0e0-935e0f396623",
   "metadata": {},
   "outputs": [],
   "source": [
    "ref_seq = sgfa.assemble_seq_from_path(gfa, path)"
   ]
  },
  {
   "cell_type": "code",
   "execution_count": null,
   "id": "f4a19970-6b0d-4514-92dd-0824762cc5d0",
   "metadata": {},
   "outputs": [],
   "source": [
    "score, cigar = align.pairwise_align(\n",
    "    consensus_seq,\n",
    "    ref_seq,\n",
    "    degenerate=True,\n",
    "    gap_opening=12,\n",
    "    gap_extension=3,\n",
    "    match=2,\n",
    "    mismatch=-1,\n",
    "    parasail_algorithm=\"nw\",\n",
    ")\n",
    "(score, cigar)"
   ]
  },
  {
   "cell_type": "code",
   "execution_count": null,
   "id": "c40697dc-450f-4782-a05e-79a0696114c4",
   "metadata": {},
   "outputs": [],
   "source": [
    "score, cigar = align.pairwise_align(\n",
    "    consensus_seq,\n",
    "    ref_seq,\n",
    "    degenerate=True,\n",
    "    gap_opening=12,\n",
    "    gap_extension=3,\n",
    "    match=2,\n",
    "    mismatch=-1,\n",
    ")\n",
    "(score, cigar)"
   ]
  },
  {
   "cell_type": "code",
   "execution_count": null,
   "id": "ed4eab22-ba83-4b22-83b7-f3903b97bc3e",
   "metadata": {},
   "outputs": [],
   "source": [
    "score, cigar = align.pairwise_align(consensus_seq, ref_seq, degenerate=True)\n",
    "(score, cigar)"
   ]
  },
  {
   "cell_type": "code",
   "execution_count": null,
   "id": "8605a61d-f4e4-494a-b688-167b39f903c8",
   "metadata": {},
   "outputs": [],
   "source": [
    "def func(row, name_to_seq=None, **kwargs):\n",
    "    path, seq = row\n",
    "    ref_seq = sgfa.assemble_seq_from_path(name_to_seq, path)\n",
    "    score, cigar = align.pairwise_align(seq, ref_seq, **kwargs)\n",
    "    return score, cigar\n",
    "    # return dict(a=score, b=cigar)\n",
    "    # return dict(a=1, b=2)\n",
    "\n",
    "\n",
    "name_to_seq = sgfa.gfa_name_mapping(gfa)\n",
    "df.head(2).select(pl.col(\"path_consensus\", \"consensus_seq\")).map_rows(\n",
    "    partial(func, name_to_seq=name_to_seq),\n",
    "    # return_dtype=pl.Struct(dict(a=pl.Int32, b=pl.Int32)),\n",
    "    # return_dtype=pl.Struct(dict(score_realign=pl.Int32, cg_realign=pl.Utf8)),\n",
    ").rename({\"column_0\": \"score_realign\", \"column_1\": \"cg_realign\"}).with_columns(\n",
    "    pl.col(\"score_realign\").cast(pl.Int32)\n",
    ")"
   ]
  },
  {
   "cell_type": "markdown",
   "id": "c29d5e0b-2d61-4967-957f-cee40b350912",
   "metadata": {},
   "source": [
    "# Identify variants"
   ]
  },
  {
   "cell_type": "code",
   "execution_count": null,
   "id": "70d559b2-cee4-4a25-8009-d920880c519a",
   "metadata": {},
   "outputs": [],
   "source": [
    "df2 = pl.read_ipc(\n",
    "    \"/home/jqs1/scratch/jqs1/sequencing/230930_alignment_test/230707_repressilators/dorado_0.4.0/uncompressed/prepared/consensus_spoa2/align2/combined_realigned.arrow\"\n",
    ")"
   ]
  },
  {
   "cell_type": "code",
   "execution_count": null,
   "id": "33241cc6-c5f1-4646-8e7a-734a79e90049",
   "metadata": {},
   "outputs": [],
   "source": [
    "len(df2)"
   ]
  },
  {
   "cell_type": "code",
   "execution_count": null,
   "id": "6ec6af07-aaf9-48e6-800f-425d001dcca4",
   "metadata": {},
   "outputs": [],
   "source": [
    "df2.estimated_size(unit=\"mb\")"
   ]
  },
  {
   "cell_type": "code",
   "execution_count": null,
   "id": "867dde8f-584d-4a4b-8748-15d188cee31d",
   "metadata": {},
   "outputs": [],
   "source": [
    "{col: df2.get_column(col).estimated_size(unit=\"mb\") for col in df2.columns}"
   ]
  },
  {
   "cell_type": "code",
   "execution_count": null,
   "id": "d286397d-d47d-40c1-9645-1f7b27c3d61a",
   "metadata": {},
   "outputs": [],
   "source": [
    "df2[:10, \"cg_realign\"].to_list()"
   ]
  },
  {
   "cell_type": "code",
   "execution_count": null,
   "id": "80335739-8fbe-4060-be0b-1a981493ff08",
   "metadata": {},
   "outputs": [],
   "source": [
    "idx = 3\n",
    "seq = df2[idx, \"consensus_seq\"]\n",
    "cigar = df2[idx, \"cg_realign\"]\n",
    "path = df2[idx, \"path_consensus\"].to_list()"
   ]
  },
  {
   "cell_type": "code",
   "execution_count": null,
   "id": "f5355901-e252-4e64-876a-8a62801a3d86",
   "metadata": {},
   "outputs": [],
   "source": [
    "cigar"
   ]
  },
  {
   "cell_type": "code",
   "execution_count": null,
   "id": "23f4ea4b-9962-4f03-9eea-ce922bf51ca8",
   "metadata": {},
   "outputs": [],
   "source": [
    "\"\".join(path)"
   ]
  },
  {
   "cell_type": "code",
   "execution_count": null,
   "id": "632eaaeb-4d2f-40ba-8a25-ae5dcfba74b9",
   "metadata": {},
   "outputs": [],
   "source": [
    "cigar_d = scigar.decode_cigar(cigar)"
   ]
  },
  {
   "cell_type": "code",
   "execution_count": null,
   "id": "16482099-d9b5-459d-9e0c-e90ccfcf9829",
   "metadata": {},
   "outputs": [],
   "source": [
    "cigar_d"
   ]
  },
  {
   "cell_type": "code",
   "execution_count": null,
   "id": "caca0588-022c-4562-be9f-7fb3964408b9",
   "metadata": {},
   "outputs": [],
   "source": [
    "name_to_seq = sgfa.gfa_name_mapping(gfa)"
   ]
  },
  {
   "cell_type": "code",
   "execution_count": null,
   "id": "6124b41d-e934-4fd0-a288-c01c60153cc3",
   "metadata": {},
   "outputs": [],
   "source": [
    "res = scigar.cut_cigar(\n",
    "    cigar_d,\n",
    "    path,\n",
    "    name_to_seq,\n",
    "    sequence=seq,\n",
    "    cigar_as_string=False,\n",
    "    separate_ends=True,\n",
    "    return_indices=True,\n",
    ")"
   ]
  },
  {
   "cell_type": "code",
   "execution_count": null,
   "id": "4552c747-d55f-432e-9e06-811aa8554d8c",
   "metadata": {},
   "outputs": [],
   "source": [
    "res"
   ]
  },
  {
   "cell_type": "code",
   "execution_count": null,
   "id": "4237205d-aa4c-44cd-9e5e-a128d2725ab7",
   "metadata": {},
   "outputs": [],
   "source": [
    "# if CIGAR has insertions on a segment boundary, where should they go??\n",
    "# (should be insensitive to rc-ing??)\n",
    "\n",
    "segments = [\"upstream\", \"downstream\", \"UNS9\", \"BC:UPSTREAM\", \"pBetI\", \"UNS3\"]\n",
    "# segments = None\n",
    "res = scigar.cut_cigar(\n",
    "    [\n",
    "        (scigar.CigarOp.I, 88),\n",
    "        (scigar.CigarOp.I, 10),\n",
    "        *cigar_d[1:-1],\n",
    "        (scigar.CigarOp.I, 10),\n",
    "        (scigar.CigarOp.I, 77),\n",
    "    ],\n",
    "    path,\n",
    "    name_to_seq,\n",
    "    cigar_as_string=False,\n",
    "    return_indices=True,\n",
    "    separate_ends=True,\n",
    "    sequence=seq,\n",
    "    segments=segments,\n",
    ")"
   ]
  },
  {
   "cell_type": "code",
   "execution_count": null,
   "id": "ac95ae30-936e-4462-8ee7-167d07fc3e4e",
   "metadata": {},
   "outputs": [],
   "source": [
    "res"
   ]
  },
  {
   "cell_type": "code",
   "execution_count": null,
   "id": "7ce8a9a0-77bb-4937-9257-3a76d0a2003b",
   "metadata": {},
   "outputs": [],
   "source": [
    "# if CIGAR has insertions on a segment boundary, where should they go??\n",
    "# (should be insensitive to rc-ing??)\n",
    "\n",
    "# res = scigar.cut_cigar(cigar_d, path, name_to_seq, sequence=seq, cigar_as_string=False, separate_ends=True, return_indices=False)\n",
    "segments = [\"upstream\", \"downstream\", \"UNS9\", \"BC:UPSTREAM\", \"pBetI\", \"UNS3\"]\n",
    "# segments = None\n",
    "fake_cigar = [\n",
    "    (scigar.CigarOp.I, 7),\n",
    "    (scigar.CigarOp.I, 3),\n",
    "    (scigar.CigarOp[\"=\"], 77),\n",
    "    (scigar.CigarOp.I, 4),\n",
    "    (scigar.CigarOp[\"=\"], 33),\n",
    "    (scigar.CigarOp.I, 4),\n",
    "    (scigar.CigarOp.I, 6),\n",
    "]\n",
    "fake_path = [\">a\", \">b\"]\n",
    "fake_name_to_seq = {\">a\": \"A\" * 77, \">b\": \"B\" * 33}\n",
    "res = scigar.cut_cigar(\n",
    "    fake_cigar,\n",
    "    fake_path,\n",
    "    fake_name_to_seq,\n",
    "    # cigar_as_string=False,\n",
    "    return_indices=True,\n",
    "    separate_ends=True,\n",
    "    # sequence=seq,\n",
    "    # segments=segments,\n",
    ")\n",
    "res"
   ]
  },
  {
   "cell_type": "code",
   "execution_count": null,
   "id": "8c6d0385-250f-4df2-b697-6070e35f20fe",
   "metadata": {},
   "outputs": [],
   "source": [
    "# [(=, 44), (I, 5), (=, 36)]"
   ]
  },
  {
   "cell_type": "code",
   "execution_count": null,
   "id": "e075ccd8-e01d-488e-bde5-d556ec0600c6",
   "metadata": {},
   "outputs": [],
   "source": [
    "%timeit scigar.cut_cigar(cigar_d, path, name_to_seq)"
   ]
  },
  {
   "cell_type": "code",
   "execution_count": null,
   "id": "073131f4-4711-4c13-8dc6-7330acb80b6e",
   "metadata": {},
   "outputs": [],
   "source": [
    "%lprun -f scigar.cut_cigar scigar.cut_cigar(cigar_d, path, name_to_seq)"
   ]
  },
  {
   "cell_type": "code",
   "execution_count": null,
   "id": "8d7682a6-7b4d-4325-99dd-5ef80dcfed3d",
   "metadata": {},
   "outputs": [],
   "source": [
    "%timeit scigar.cut_cigar2(cigar_d, path, name_to_seq)"
   ]
  },
  {
   "cell_type": "code",
   "execution_count": null,
   "id": "0625c033-e869-477b-bbee-84a41f7562da",
   "metadata": {},
   "outputs": [],
   "source": [
    "scigar.cut_cigar2(cigar_d, path, name_to_seq)"
   ]
  },
  {
   "cell_type": "markdown",
   "id": "1f8f87dc-6bd2-4391-9062-34ab7324cec7",
   "metadata": {},
   "source": [
    "## map_batches"
   ]
  },
  {
   "cell_type": "code",
   "execution_count": null,
   "id": "e3c916dd-3ac3-4fd8-b477-fb11b47b28b2",
   "metadata": {},
   "outputs": [],
   "source": [
    "df2 = pl.read_ipc(\n",
    "    \"/home/jqs1/scratch/jqs1/sequencing/230930_alignment_test/230707_repressilators/dorado_0.4.0/uncompressed/prepared/consensus_spoa2/align2/combined_realigned.arrow\"\n",
    ")"
   ]
  },
  {
   "cell_type": "code",
   "execution_count": null,
   "id": "518103fe-d3f1-43ac-9df9-a65d21d5ea82",
   "metadata": {},
   "outputs": [],
   "source": [
    "name_to_seq = sgfa.gfa_name_mapping(gfa)"
   ]
  },
  {
   "cell_type": "code",
   "execution_count": null,
   "id": "08c70c2b-9728-4a70-af92-c386bce9665d",
   "metadata": {},
   "outputs": [],
   "source": [
    "def func(row):\n",
    "    print(rows)\n",
    "    # print(rows.struct.field(\"path_consensus\"))  # ;0/0\n",
    "    return rows\n",
    "\n",
    "\n",
    "df2.head(100).select(pl.col()).map_rows(func)"
   ]
  },
  {
   "cell_type": "code",
   "execution_count": null,
   "id": "dea649eb-dfcc-4ad7-80c4-895ee3e0de2d",
   "metadata": {},
   "outputs": [],
   "source": [
    "pl.Series(\n",
    "    [scigar.cut_cigar(cigar_d, path, name_to_seq) for _ in range(10)]\n",
    ").struct.unnest()"
   ]
  },
  {
   "cell_type": "code",
   "execution_count": null,
   "id": "82411d90-732d-4da2-baa4-382bdbf45fe5",
   "metadata": {},
   "outputs": [],
   "source": [
    "res = scigar.cut_cigar(cigar_d, path, name_to_seq)"
   ]
  },
  {
   "cell_type": "code",
   "execution_count": null,
   "id": "725addba-ac6f-4978-a63f-f81bfb2946a3",
   "metadata": {},
   "outputs": [],
   "source": [
    "%%time\n",
    "\n",
    "name_to_seq = sgfa.gfa_name_mapping(gfa)\n",
    "\n",
    "\n",
    "def _cut_cigar_rows(rows, **kwargs):\n",
    "    cigars = rows.struct.field(\"cg_realign\")\n",
    "    paths = rows.struct.field(\"path_consensus\")\n",
    "    [1 for idx in range(len(rows))]\n",
    "    # return pl.Series(\n",
    "    #     [\n",
    "    #         scigar.cut_cigar(scigar.decode_cigar(cigars[idx]), paths[idx], name_to_seq)\n",
    "    #         for idx in range(len(rows))\n",
    "    #     ]\n",
    "    # )\n",
    "    return res\n",
    "\n",
    "\n",
    "df2.head(10000).lazy().select(\n",
    "    pl.col(\"name\"),\n",
    "    pl.struct(\"path_consensus\", \"cg_realign\")\n",
    "    .map_batches(_cut_cigar_rows)\n",
    "    .alias(\"cut_cigar\"),\n",
    ").unnest(\"cut_cigar\").collect()"
   ]
  },
  {
   "cell_type": "code",
   "execution_count": null,
   "id": "31a9ea14-c397-48f9-913f-8fc705aff2a5",
   "metadata": {},
   "outputs": [],
   "source": [
    "def _cut_cigar_rows(rows, **kwargs):\n",
    "    print(\"X\", rows)  # ;0/0\n",
    "    return rows\n",
    "\n",
    "\n",
    "df2.lazy().select(\n",
    "    pl.col(\"name\"),\n",
    "    pl.map_batches([\"path_consensus\", \"cg_realign\"], _cut_cigar_rows).alias(\n",
    "        \"cut_cigar\"\n",
    "    ),\n",
    ").unnest(\"cut_cigar\").collect()"
   ]
  },
  {
   "cell_type": "code",
   "execution_count": null,
   "id": "5ed30e69-2704-4e00-b95d-84d96f80fd83",
   "metadata": {},
   "outputs": [],
   "source": [
    "df2.select(pl.col(\"path_consensus\", \"cg_realign\"))"
   ]
  }
 ],
 "metadata": {
  "kernelspec": {
   "display_name": "Python 3 (ipykernel)",
   "language": "python",
   "name": "python3"
  },
  "language_info": {
   "codemirror_mode": {
    "name": "ipython",
    "version": 3
   },
   "file_extension": ".py",
   "mimetype": "text/x-python",
   "name": "python",
   "nbconvert_exporter": "python",
   "pygments_lexer": "ipython3",
   "version": "3.10.12"
  }
 },
 "nbformat": 4,
 "nbformat_minor": 5
}
