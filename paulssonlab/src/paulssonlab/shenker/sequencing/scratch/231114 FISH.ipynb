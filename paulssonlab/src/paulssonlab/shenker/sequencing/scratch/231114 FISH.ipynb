{
 "cells": [
  {
   "cell_type": "code",
   "execution_count": null,
   "id": "41c57f7d-eb34-40e9-b810-10d4c44d68b2",
   "metadata": {},
   "outputs": [],
   "source": [
    "import itertools as it\n",
    "import operator\n",
    "import re\n",
    "import subprocess\n",
    "import tempfile\n",
    "import time\n",
    "from collections import Counter\n",
    "from functools import partial\n",
    "from pathlib import Path\n",
    "\n",
    "import duckdb\n",
    "import gfapy\n",
    "import holoviews as hv\n",
    "import ibis\n",
    "import matplotlib.pyplot as plt\n",
    "import numba\n",
    "import numpy as np\n",
    "import pandas as pd\n",
    "import parasail\n",
    "import polars as pl\n",
    "import pyabpoa\n",
    "import pyarrow as pa\n",
    "import pyarrow.compute as pc\n",
    "import pyarrow.dataset as ds\n",
    "import pyfastx\n",
    "import pysam\n",
    "import spoa\n",
    "from Bio import SeqIO\n",
    "from Bio.Seq import Seq\n",
    "from Bio.SeqRecord import SeqRecord\n",
    "from pyarrow import csv\n",
    "from pywfa import WavefrontAligner\n",
    "from tqdm.auto import tqdm, trange"
   ]
  },
  {
   "cell_type": "code",
   "execution_count": null,
   "id": "f4ec68fd-4dab-43a1-a74d-fc2137f04acb",
   "metadata": {},
   "outputs": [],
   "source": [
    "%load_ext autoreload\n",
    "%autoreload 2"
   ]
  },
  {
   "cell_type": "code",
   "execution_count": null,
   "id": "6d3d323b-2fd5-44cd-b9b0-ed41db593de3",
   "metadata": {},
   "outputs": [],
   "source": [
    "import paulssonlab.sequencing.align as align\n",
    "import paulssonlab.sequencing.cigar as scigar\n",
    "import paulssonlab.sequencing.consensus as con\n",
    "import paulssonlab.sequencing.gfa as sgfa\n",
    "import paulssonlab.sequencing.io as sio\n",
    "import paulssonlab.sequencing.processing as processing\n",
    "from paulssonlab.util.sequence import reverse_complement"
   ]
  },
  {
   "cell_type": "code",
   "execution_count": null,
   "id": "f117a156-f6f6-423f-81be-bb5eed890a23",
   "metadata": {},
   "outputs": [],
   "source": [
    "hv.extension(\"bokeh\")"
   ]
  },
  {
   "cell_type": "code",
   "execution_count": null,
   "id": "ab1a37e0-1304-4373-a431-bdbd42cff000",
   "metadata": {},
   "outputs": [],
   "source": [
    "%load_ext pyinstrument\n",
    "import line_profiler\n",
    "import pyinstrument\n",
    "\n",
    "%load_ext line_profiler"
   ]
  },
  {
   "cell_type": "code",
   "execution_count": null,
   "id": "d286b864-7447-4195-8a34-2ede229b0b4c",
   "metadata": {},
   "outputs": [],
   "source": [
    "pl.enable_string_cache()"
   ]
  },
  {
   "cell_type": "markdown",
   "id": "87262c91-3af5-492b-a2f5-905c72ef5d15",
   "metadata": {},
   "source": [
    "# Config"
   ]
  },
  {
   "cell_type": "code",
   "execution_count": null,
   "id": "4d631ced-8131-4d91-8d26-23e49fdfccea",
   "metadata": {},
   "outputs": [],
   "source": [
    "gfa_filename = \"/home/jqs1/scratch/jqs1/sequencing/230930_alignment_test/230707_repressilators/pLIB419.gfa\""
   ]
  },
  {
   "cell_type": "code",
   "execution_count": null,
   "id": "09df61df-251e-49fa-a9c8-4f63a4e4710b",
   "metadata": {},
   "outputs": [],
   "source": [
    "gfa = gfapy.Gfa.from_file(gfa_filename)"
   ]
  },
  {
   "cell_type": "markdown",
   "id": "c051c132-880b-4c78-98e6-ed0f66a7ab3a",
   "metadata": {},
   "source": [
    "# Hash paths"
   ]
  },
  {
   "cell_type": "code",
   "execution_count": null,
   "id": "ec9de439-f58d-4af8-a7c4-8372b34a2b6d",
   "metadata": {},
   "outputs": [],
   "source": [
    "from glob import glob"
   ]
  },
  {
   "cell_type": "code",
   "execution_count": null,
   "id": "3bb9632d-6479-4a51-a49d-cbeb874797c8",
   "metadata": {},
   "outputs": [],
   "source": [
    "files = list(\n",
    "    Path(f)\n",
    "    for f in glob(\n",
    "        \"/n/scratch3/groups/hms/sysbio/paulsson/jqs1/sequencing/230818_bcd_rbses/20230818_1343_1A_PAQ97606_f49ab41c/work/c8/219d3a965f5975d7ba26c214afc5b1/input_unhashed/*.arrow\"\n",
    "    )\n",
    ")"
   ]
  },
  {
   "cell_type": "code",
   "execution_count": null,
   "id": "90b97c12-2fd5-4de0-8cd4-a600e5fe0dbf",
   "metadata": {},
   "outputs": [],
   "source": [
    "len(files)"
   ]
  },
  {
   "cell_type": "code",
   "execution_count": null,
   "id": "9be234d7-df74-4f91-b1a4-ad62819b3860",
   "metadata": {},
   "outputs": [],
   "source": [
    "dest_dir = files[0].parent / \"input\"\n",
    "dest_dir.mkdir(exist_ok=True)"
   ]
  },
  {
   "cell_type": "code",
   "execution_count": null,
   "id": "733f5b79-3360-4937-90e4-d7e5c03d8b70",
   "metadata": {},
   "outputs": [],
   "source": [
    "%%time\n",
    "for f in tqdm(files):\n",
    "    df = pl.scan_ipc(f)\n",
    "    df = df.with_columns(pl.col(\"path\").hash().alias(\"path_hash\"))\n",
    "    df.collect().write_ipc(dest_dir / f.name)"
   ]
  },
  {
   "cell_type": "markdown",
   "id": "312b1a96-f7a9-4609-a056-ee03f838884f",
   "metadata": {},
   "source": [
    "# Prepare for FISH"
   ]
  },
  {
   "cell_type": "code",
   "execution_count": null,
   "id": "fafff23f-1c21-4e46-ae09-c702d23a763f",
   "metadata": {},
   "outputs": [],
   "source": [
    "df = pl.read_ipc(\n",
    "    \"/home/jqs1/scratch/jqs1/sequencing/230707_repressilators/20230707_2040_MN35044_FAS94231_25542e0d/extract_segments/*.arrow\"\n",
    ")"
   ]
  },
  {
   "cell_type": "code",
   "execution_count": null,
   "id": "2c1f53dc-9ead-41a4-8a32-3ba4c13b5694",
   "metadata": {},
   "outputs": [],
   "source": [
    "len(df)"
   ]
  },
  {
   "cell_type": "code",
   "execution_count": null,
   "id": "63dc1e20-fafa-40f3-b8f9-6b50a11b2674",
   "metadata": {},
   "outputs": [],
   "source": [
    "df.estimated_size(unit=\"mb\")"
   ]
  },
  {
   "cell_type": "code",
   "execution_count": null,
   "id": "2f7b4f89-4b30-40c9-8767-4c64a327a3fc",
   "metadata": {},
   "outputs": [],
   "source": [
    "df.head(10)"
   ]
  },
  {
   "cell_type": "code",
   "execution_count": null,
   "id": "fdb77b9b-6903-40bc-aee6-97197b666b78",
   "metadata": {},
   "outputs": [],
   "source": [
    "from glob import glob"
   ]
  },
  {
   "cell_type": "code",
   "execution_count": null,
   "id": "f5718320-0767-48a3-8fb7-4205e8efb751",
   "metadata": {},
   "outputs": [],
   "source": [
    "df.schema[\"consensus_seq\"]"
   ]
  },
  {
   "cell_type": "code",
   "execution_count": null,
   "id": "123c9dd8-0b6f-47af-a408-eb3b4445d193",
   "metadata": {},
   "outputs": [],
   "source": [
    "df = pl.read_ipc(\n",
    "    \"/n/scratch3/groups/hms/sysbio/paulsson/jqs1/sequencing/230707_repressilators/20230707_2040_MN35044_FAS94231_25542e0d/work/ee/e572fbaa90b78d7765db9eb1d47a12/consensus-18-of-300.arrow\"\n",
    ")"
   ]
  },
  {
   "cell_type": "code",
   "execution_count": null,
   "id": "e04fd45c-c954-41b3-855a-6a534a4bdc08",
   "metadata": {},
   "outputs": [],
   "source": [
    "df"
   ]
  },
  {
   "cell_type": "code",
   "execution_count": null,
   "id": "739d080c-dbd5-44b9-8b10-d1c43f6d7fbf",
   "metadata": {},
   "outputs": [],
   "source": [
    "?pl.Series"
   ]
  },
  {
   "cell_type": "code",
   "execution_count": null,
   "id": "be255539-5505-473b-a63c-38113d433ff0",
   "metadata": {},
   "outputs": [],
   "source": [
    "list(\n",
    "    glob(\n",
    "        \"/home/jqs1/scratch/jqs1/sequencing/230707_repressilators/20230707_2040_MN35044_FAS94231_25542e0d/output/default/extract_segments/*.arrow\"\n",
    "    )\n",
    ")"
   ]
  },
  {
   "cell_type": "code",
   "execution_count": null,
   "id": "26265eb6-3d6e-46d4-b563-25b3bcf3e1db",
   "metadata": {},
   "outputs": [],
   "source": [
    "files = [\n",
    "    pl.read_ipc(f)\n",
    "    for f in glob(\n",
    "        \"/home/jqs1/scratch/jqs1/sequencing/230707_repressilators/20230707_2040_MN35044_FAS94231_25542e0d/output/default/extract_segments/*.arrow\"\n",
    "    )\n",
    "]"
   ]
  },
  {
   "cell_type": "code",
   "execution_count": null,
   "id": "05b07265-abfb-4920-9b54-117afabdf307",
   "metadata": {},
   "outputs": [],
   "source": [
    "[len(f.columns) for f in files]"
   ]
  },
  {
   "cell_type": "code",
   "execution_count": null,
   "id": "83b3d7d6-99ac-4d89-9721-a0aa86605ba0",
   "metadata": {},
   "outputs": [],
   "source": [
    "df = files[2]"
   ]
  },
  {
   "cell_type": "code",
   "execution_count": null,
   "id": "57204401-9be7-4508-af88-167a52d75d6c",
   "metadata": {},
   "outputs": [],
   "source": [
    "files[2].get_column(\"consensus_path\")[0]"
   ]
  },
  {
   "cell_type": "code",
   "execution_count": null,
   "id": "18bc81ec-0f9a-4fc7-b314-2c66afbc956f",
   "metadata": {},
   "outputs": [],
   "source": [
    "df.get_column(\"consensus_path\")[1]"
   ]
  },
  {
   "cell_type": "code",
   "execution_count": null,
   "id": "8c9402d9-5e35-4ebe-84e2-9e2ec5e94172",
   "metadata": {},
   "outputs": [],
   "source": [
    "df = pl.read_ipc(\n",
    "    \"/home/jqs1/scratch/jqs1/sequencing/230707_repressilators/20230707_2040_MN35044_FAS94231_25542e0d/output/default/extract_segments/*.arrow\"\n",
    ")"
   ]
  },
  {
   "cell_type": "code",
   "execution_count": null,
   "id": "50bd1ea7-8550-479e-b231-7d4fdbff5201",
   "metadata": {},
   "outputs": [],
   "source": [
    "df"
   ]
  }
 ],
 "metadata": {
  "kernelspec": {
   "display_name": "Python 3 (ipykernel)",
   "language": "python",
   "name": "python3"
  },
  "language_info": {
   "codemirror_mode": {
    "name": "ipython",
    "version": 3
   },
   "file_extension": ".py",
   "mimetype": "text/x-python",
   "name": "python",
   "nbconvert_exporter": "python",
   "pygments_lexer": "ipython3",
   "version": "3.10.12"
  }
 },
 "nbformat": 4,
 "nbformat_minor": 5
}
