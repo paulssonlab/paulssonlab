{
 "cells": [
  {
   "cell_type": "code",
   "execution_count": null,
   "id": "41c57f7d-eb34-40e9-b810-10d4c44d68b2",
   "metadata": {},
   "outputs": [],
   "source": [
    "import itertools as it\n",
    "import operator\n",
    "import re\n",
    "import subprocess\n",
    "import tempfile\n",
    "import time\n",
    "from collections import Counter, defaultdict\n",
    "from functools import partial\n",
    "from pathlib import Path\n",
    "\n",
    "import awkward as ak\n",
    "import duckdb\n",
    "import gfapy\n",
    "import holoviews as hv\n",
    "import ibis\n",
    "import matplotlib.pyplot as plt\n",
    "import numba\n",
    "import numpy as np\n",
    "import pandas as pd\n",
    "import parasail\n",
    "import pod5\n",
    "import polars as pl\n",
    "import pyabpoa\n",
    "import pyarrow as pa\n",
    "import pyarrow.compute as pc\n",
    "import pyarrow.dataset as ds\n",
    "import pyfastx\n",
    "import pysam\n",
    "import spoa\n",
    "from Bio import SeqIO\n",
    "from Bio.Seq import Seq\n",
    "from Bio.SeqRecord import SeqRecord\n",
    "from pyarrow import csv\n",
    "from pywfa import WavefrontAligner\n",
    "from tqdm.auto import tqdm, trange"
   ]
  },
  {
   "cell_type": "code",
   "execution_count": null,
   "id": "f4ec68fd-4dab-43a1-a74d-fc2137f04acb",
   "metadata": {},
   "outputs": [],
   "source": [
    "%load_ext autoreload\n",
    "%autoreload 2"
   ]
  },
  {
   "cell_type": "code",
   "execution_count": null,
   "id": "6d3d323b-2fd5-44cd-b9b0-ed41db593de3",
   "metadata": {},
   "outputs": [],
   "source": [
    "import paulssonlab.sequencing.align as align\n",
    "import paulssonlab.sequencing.cigar as scigar\n",
    "import paulssonlab.sequencing.consensus as con\n",
    "import paulssonlab.sequencing.gfa as sgfa\n",
    "import paulssonlab.sequencing.io as sio\n",
    "import paulssonlab.sequencing.processing as processing\n",
    "from paulssonlab.util.sequence import reverse_complement"
   ]
  },
  {
   "cell_type": "code",
   "execution_count": null,
   "id": "f117a156-f6f6-423f-81be-bb5eed890a23",
   "metadata": {},
   "outputs": [],
   "source": [
    "hv.extension(\"bokeh\")"
   ]
  },
  {
   "cell_type": "code",
   "execution_count": null,
   "id": "ab1a37e0-1304-4373-a431-bdbd42cff000",
   "metadata": {},
   "outputs": [],
   "source": [
    "%load_ext pyinstrument\n",
    "import line_profiler\n",
    "import pyinstrument\n",
    "\n",
    "%load_ext line_profiler"
   ]
  },
  {
   "cell_type": "code",
   "execution_count": null,
   "id": "d286b864-7447-4195-8a34-2ede229b0b4c",
   "metadata": {},
   "outputs": [],
   "source": [
    "pl.enable_string_cache()"
   ]
  },
  {
   "cell_type": "markdown",
   "id": "87262c91-3af5-492b-a2f5-905c72ef5d15",
   "metadata": {},
   "source": [
    "# Config"
   ]
  },
  {
   "cell_type": "code",
   "execution_count": null,
   "id": "4d631ced-8131-4d91-8d26-23e49fdfccea",
   "metadata": {},
   "outputs": [],
   "source": [
    "gfa_filename = \"/home/jqs1/scratch3/jqs1/sequencing/230930_alignment_test/barcode.gfa\""
   ]
  },
  {
   "cell_type": "code",
   "execution_count": null,
   "id": "09df61df-251e-49fa-a9c8-4f63a4e4710b",
   "metadata": {},
   "outputs": [],
   "source": [
    "gfa = gfapy.Gfa.from_file(gfa_filename)"
   ]
  },
  {
   "cell_type": "markdown",
   "id": "7059d066-a648-4dd8-803b-daa2d92a732d",
   "metadata": {},
   "source": [
    "# Duplex pairing"
   ]
  },
  {
   "cell_type": "code",
   "execution_count": null,
   "id": "100dee0b-c4f7-494d-a254-d8985bffcb8c",
   "metadata": {},
   "outputs": [],
   "source": [
    "pod5_filename = \"/home/jqs1/scratch3/jqs1/sequencing/230930_alignment_test/230707_repressilators/channel-135_merged.pod5\"\n",
    "gaf_filename = \"/home/jqs1/scratch3/jqs1/sequencing/230930_alignment_test/230707_repressilators/channel-135_merged.gaf\""
   ]
  },
  {
   "cell_type": "code",
   "execution_count": null,
   "id": "5bb0da4e-018d-4c10-9094-66674f29270f",
   "metadata": {},
   "outputs": [],
   "source": [
    "%%time\n",
    "# gaf = pa.Table.from_batches([next(sio.iter_gaf(gaf_filename))])\n",
    "# gaf = pa.Table.from_batches(list(it.islice(sio.iter_gaf(gaf_filename), 2)))\n",
    "gaf = pa.Table.from_batches(sio.iter_gaf(gaf_filename))"
   ]
  },
  {
   "cell_type": "code",
   "execution_count": null,
   "id": "e9e4937b-d6d5-4720-b105-e2d2d9d9d492",
   "metadata": {},
   "outputs": [],
   "source": [
    "%%time\n",
    "gaf_simplex = gaf.filter(pc.invert(pc.match_substring(gaf[\"name\"], \";\")))"
   ]
  },
  {
   "cell_type": "code",
   "execution_count": null,
   "id": "d4bd0d86-31fe-4ebd-aee3-a064c3aaedf0",
   "metadata": {},
   "outputs": [],
   "source": [
    "name_col = gaf_simplex[\"name\"]  # [:10]"
   ]
  },
  {
   "cell_type": "code",
   "execution_count": null,
   "id": "0fb9108a-ce62-45d2-9b95-3d16fb428ff0",
   "metadata": {},
   "outputs": [],
   "source": [
    "%%time\n",
    "hex_hyphenated = ak.from_arrow(name_col)"
   ]
  },
  {
   "cell_type": "code",
   "execution_count": null,
   "id": "1033a259-b00e-48da-8387-cbaa04d20b94",
   "metadata": {},
   "outputs": [],
   "source": [
    "idxs = list(set(range(36)) - set([8, 13, 18, 23]))"
   ]
  },
  {
   "cell_type": "code",
   "execution_count": null,
   "id": "d7475684-0bb3-4197-a432-60a2c8e56c60",
   "metadata": {},
   "outputs": [],
   "source": [
    "%%time\n",
    "hex = hex_hyphenated[:, idxs]"
   ]
  },
  {
   "cell_type": "code",
   "execution_count": null,
   "id": "8f0a0937-08c1-411f-80a9-676fb81db73d",
   "metadata": {},
   "outputs": [],
   "source": [
    "hex_to_nibble = np.zeros(256, dtype=np.uint8)\n",
    "for char in range(ord(\"0\"), ord(\"9\") + 1):\n",
    "    hex_to_nibble[char] = char - ord(\"0\")\n",
    "for char in range(ord(\"a\"), ord(\"f\") + 1):\n",
    "    hex_to_nibble[char] = char - ord(\"a\") + 10\n",
    "for char in range(ord(\"A\"), ord(\"F\") + 1):\n",
    "    hex_to_nibble[char] = char - ord(\"A\") + 10\n",
    "\n",
    "\n",
    "@numba.njit(nogil=True)\n",
    "def parse_hex(s):\n",
    "    num_bytes, remainder = divmod(len(s), 2)\n",
    "    if remainder != 0:\n",
    "        return None\n",
    "    ary = np.empty(num_bytes, dtype=np.uint8)\n",
    "    for num_byte in range(num_bytes):\n",
    "        ary[num_byte] = (hex_to_nibble[ord(s[2 * num_byte])] << 4) + hex_to_nibble[\n",
    "            ord(s[2 * num_byte + 1])\n",
    "        ]\n",
    "    return ary\n",
    "\n",
    "\n",
    "parse_hex(hex[0])"
   ]
  },
  {
   "cell_type": "code",
   "execution_count": null,
   "id": "c8a603b3-9dfc-4846-9452-53488e823377",
   "metadata": {},
   "outputs": [],
   "source": [
    "hex_to_nibble"
   ]
  },
  {
   "cell_type": "code",
   "execution_count": null,
   "id": "5abd199b-ad40-4f28-99fa-74156b7bed49",
   "metadata": {},
   "outputs": [],
   "source": [
    "(ord(\"0\"), ord(\"9\"), ord(\"a\"), ord(\"f\"), ord(\"A\"), ord(\"F\"))"
   ]
  },
  {
   "cell_type": "code",
   "execution_count": null,
   "id": "f59fd595-c872-4ce8-8f24-4f511d81d93c",
   "metadata": {},
   "outputs": [],
   "source": [
    "np.frombuffer(bytes.fromhex(hex[0]), dtype=np.uint8)"
   ]
  },
  {
   "cell_type": "code",
   "execution_count": null,
   "id": "58a23124-d2b2-4226-a3d6-4abafc737cb0",
   "metadata": {},
   "outputs": [],
   "source": [
    "hex.to_numpy()"
   ]
  },
  {
   "cell_type": "code",
   "execution_count": null,
   "id": "925ee94b-75df-4b33-85df-3944f9d6d75a",
   "metadata": {},
   "outputs": [],
   "source": [
    "hex_to_nibble = np.zeros(256, dtype=np.uint8)\n",
    "for char in range(ord(\"0\"), ord(\"9\") + 1):\n",
    "    hex_to_nibble[char] = char - ord(\"0\")\n",
    "for char in range(ord(\"a\"), ord(\"f\") + 1):\n",
    "    hex_to_nibble[char] = char - ord(\"a\") + 10\n",
    "for char in range(ord(\"A\"), ord(\"F\") + 1):\n",
    "    hex_to_nibble[char] = char - ord(\"A\") + 10\n",
    "\n",
    "\n",
    "@numba.njit(nogil=True)\n",
    "def parse_hex_array(ary):\n",
    "    num_bytes, remainder = divmod(len(ary[0]), 2)\n",
    "    if remainder != 0:\n",
    "        return None\n",
    "    out = np.empty((len(ary), num_bytes), dtype=np.uint8)\n",
    "    for idx in range(len(ary)):\n",
    "        for num_byte in range(num_bytes):\n",
    "            out[idx, num_byte] = (\n",
    "                hex_to_nibble[ary[idx][2 * num_byte]] << 4\n",
    "            ) + hex_to_nibble[ary[idx][2 * num_byte + 1]]\n",
    "    return out\n",
    "\n",
    "\n",
    "parse_hex_array(hex)"
   ]
  },
  {
   "cell_type": "code",
   "execution_count": null,
   "id": "1029463e-676f-4460-9fa3-dc377bd605df",
   "metadata": {},
   "outputs": [],
   "source": [
    "%timeit parse_hex_array(hex)"
   ]
  },
  {
   "cell_type": "code",
   "execution_count": null,
   "id": "a67daa79-b1c3-4a31-8ef1-840df5d830c6",
   "metadata": {},
   "outputs": [],
   "source": [
    "reader = pod5.Reader(pod5_filename)"
   ]
  },
  {
   "cell_type": "code",
   "execution_count": null,
   "id": "1158d6a0-f4ab-42b0-96b7-b20f3258a255",
   "metadata": {},
   "outputs": [],
   "source": [
    "read_table = reader.read_table.read_all()"
   ]
  },
  {
   "cell_type": "code",
   "execution_count": null,
   "id": "dae31ef6-4c9b-474a-a4a7-fcb633c98c20",
   "metadata": {},
   "outputs": [],
   "source": [
    "read_table.column_names"
   ]
  },
  {
   "cell_type": "code",
   "execution_count": null,
   "id": "98aa03d2-d21a-4d89-b6d3-98f4070c3379",
   "metadata": {},
   "outputs": [],
   "source": [
    "read_table2 = read_table.select([\"read_id\", \"start\", \"well\", \"channel\"])"
   ]
  },
  {
   "cell_type": "code",
   "execution_count": null,
   "id": "7869bae3-81e0-4c5f-ae96-4475d8acaeac",
   "metadata": {},
   "outputs": [],
   "source": [
    "read_table_df = pl.from_arrow(read_table2).lazy()"
   ]
  },
  {
   "cell_type": "code",
   "execution_count": null,
   "id": "09b7ef8e-7b5e-4ae8-81d0-f2e788ea37d2",
   "metadata": {},
   "outputs": [],
   "source": [
    "gaf_df = pl.from_arrow(gaf).lazy()"
   ]
  },
  {
   "cell_type": "code",
   "execution_count": null,
   "id": "567c320d-334c-4cff-8083-a24d8dcf431f",
   "metadata": {},
   "outputs": [],
   "source": [
    "gaf_df.columns"
   ]
  },
  {
   "cell_type": "code",
   "execution_count": null,
   "id": "63acd887-dcd6-4076-879f-3bf6000b08ab",
   "metadata": {},
   "outputs": [],
   "source": [
    "gaf[\"name\"]"
   ]
  },
  {
   "cell_type": "code",
   "execution_count": null,
   "id": "953d7d94-9ab2-4407-8747-557d3d654530",
   "metadata": {},
   "outputs": [],
   "source": [
    "n = ak.from_arrow(gaf[\"name\"])"
   ]
  },
  {
   "cell_type": "code",
   "execution_count": null,
   "id": "79442ac3-2e34-45d9-9492-a8c9d23bcf0d",
   "metadata": {},
   "outputs": [],
   "source": [
    "n"
   ]
  },
  {
   "cell_type": "code",
   "execution_count": null,
   "id": "abc0e880-edbd-4208-b944-c78ba75eb9c8",
   "metadata": {},
   "outputs": [],
   "source": [
    "joined_df = read_table_df.join(gaf_df, left_on=\"read_id\", right_on=\"name\", how=\"left\")"
   ]
  },
  {
   "cell_type": "code",
   "execution_count": null,
   "id": "33cd01c3-9bb2-417e-9b41-0c53e58ed0f2",
   "metadata": {},
   "outputs": [],
   "source": [
    "joined_df.collect()"
   ]
  },
  {
   "cell_type": "code",
   "execution_count": null,
   "id": "a2860162-d3a9-4ce5-9288-2c369c2820f0",
   "metadata": {},
   "outputs": [],
   "source": [
    "joined = pl.from_arrow(read_table2).join(pl.from_arrow(gaf))"
   ]
  },
  {
   "cell_type": "code",
   "execution_count": null,
   "id": "ab5126f2-c9b3-4b74-a4d8-2071fea82e3c",
   "metadata": {},
   "outputs": [],
   "source": [
    "# same well, channel\n",
    "# start within (1s * 5000 kHz)"
   ]
  },
  {
   "cell_type": "code",
   "execution_count": null,
   "id": "442c0a15-ce23-42e3-8f81-529f1a5b80a6",
   "metadata": {},
   "outputs": [],
   "source": [
    "read_table  # [\"run_info\"]"
   ]
  },
  {
   "cell_type": "code",
   "execution_count": null,
   "id": "09a8a867-b0c3-45fa-bce0-85dd842f3472",
   "metadata": {},
   "outputs": [],
   "source": [
    "read = next(reader.reads())"
   ]
  },
  {
   "cell_type": "code",
   "execution_count": null,
   "id": "2138dd98-f483-41e4-bc3a-28cae13cbb2c",
   "metadata": {},
   "outputs": [],
   "source": [
    "read.run_info"
   ]
  },
  {
   "cell_type": "code",
   "execution_count": null,
   "id": "b7946338-3dce-4250-a7b3-ed10f6d9c51f",
   "metadata": {},
   "outputs": [],
   "source": [
    "read.run_info.sample_rate"
   ]
  },
  {
   "cell_type": "code",
   "execution_count": null,
   "id": "330cb746-9e07-4d99-8180-c7fdc0a842e9",
   "metadata": {},
   "outputs": [],
   "source": [
    "read.pore"
   ]
  },
  {
   "cell_type": "code",
   "execution_count": null,
   "id": "f363091c-6836-4e88-ac8f-ee86029f677a",
   "metadata": {},
   "outputs": [],
   "source": [
    "read.start_sample"
   ]
  },
  {
   "cell_type": "code",
   "execution_count": null,
   "id": "a1f3abb1-09b5-4841-9859-4d3d572c14ee",
   "metadata": {},
   "outputs": [],
   "source": [
    "with pod5.DatasetReader(pod5_filename) as reader:\n",
    "    #for read in reader.reads():"
   ]
  }
 ],
 "metadata": {
  "kernelspec": {
   "display_name": "Python 3 (ipykernel)",
   "language": "python",
   "name": "python3"
  },
  "language_info": {
   "codemirror_mode": {
    "name": "ipython",
    "version": 3
   },
   "file_extension": ".py",
   "mimetype": "text/x-python",
   "name": "python",
   "nbconvert_exporter": "python",
   "pygments_lexer": "ipython3",
   "version": "3.10.13"
  }
 },
 "nbformat": 4,
 "nbformat_minor": 5
}
