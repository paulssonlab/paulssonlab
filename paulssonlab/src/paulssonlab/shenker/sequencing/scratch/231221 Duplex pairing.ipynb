{
 "cells": [
  {
   "cell_type": "code",
   "execution_count": null,
   "id": "41c57f7d-eb34-40e9-b810-10d4c44d68b2",
   "metadata": {},
   "outputs": [],
   "source": [
    "import itertools as it\n",
    "import operator\n",
    "import re\n",
    "import subprocess\n",
    "import tempfile\n",
    "import time\n",
    "from collections import Counter, defaultdict\n",
    "from functools import partial\n",
    "from pathlib import Path\n",
    "\n",
    "import awkward as ak\n",
    "import duckdb\n",
    "import gfapy\n",
    "import holoviews as hv\n",
    "import ibis\n",
    "import matplotlib.pyplot as plt\n",
    "import numba\n",
    "import numpy as np\n",
    "import pandas as pd\n",
    "import parasail\n",
    "import pod5\n",
    "import polars as pl\n",
    "import pyabpoa\n",
    "import pyarrow as pa\n",
    "import pyarrow.compute as pc\n",
    "import pyarrow.dataset as ds\n",
    "import pyfastx\n",
    "import pysam\n",
    "import spoa\n",
    "from Bio import SeqIO\n",
    "from Bio.Seq import Seq\n",
    "from Bio.SeqRecord import SeqRecord\n",
    "from pyarrow import csv\n",
    "from pywfa import WavefrontAligner\n",
    "from tqdm.auto import tqdm, trange"
   ]
  },
  {
   "cell_type": "code",
   "execution_count": null,
   "id": "f4ec68fd-4dab-43a1-a74d-fc2137f04acb",
   "metadata": {},
   "outputs": [],
   "source": [
    "%load_ext autoreload\n",
    "%autoreload 2"
   ]
  },
  {
   "cell_type": "code",
   "execution_count": null,
   "id": "6d3d323b-2fd5-44cd-b9b0-ed41db593de3",
   "metadata": {},
   "outputs": [],
   "source": [
    "import paulssonlab.sequencing.align as align\n",
    "import paulssonlab.sequencing.cigar as scigar\n",
    "import paulssonlab.sequencing.consensus as con\n",
    "import paulssonlab.sequencing.gfa as sgfa\n",
    "import paulssonlab.sequencing.io as sio\n",
    "import paulssonlab.sequencing.processing as processing\n",
    "import paulssonlab.sequencing.uuid as uuid\n",
    "from paulssonlab.util.sequence import reverse_complement"
   ]
  },
  {
   "cell_type": "code",
   "execution_count": null,
   "id": "f117a156-f6f6-423f-81be-bb5eed890a23",
   "metadata": {},
   "outputs": [],
   "source": [
    "hv.extension(\"bokeh\")"
   ]
  },
  {
   "cell_type": "code",
   "execution_count": null,
   "id": "ab1a37e0-1304-4373-a431-bdbd42cff000",
   "metadata": {},
   "outputs": [],
   "source": [
    "%load_ext pyinstrument\n",
    "import line_profiler\n",
    "import pyinstrument\n",
    "\n",
    "%load_ext line_profiler"
   ]
  },
  {
   "cell_type": "code",
   "execution_count": null,
   "id": "d286b864-7447-4195-8a34-2ede229b0b4c",
   "metadata": {},
   "outputs": [],
   "source": [
    "pl.enable_string_cache()"
   ]
  },
  {
   "cell_type": "markdown",
   "id": "87262c91-3af5-492b-a2f5-905c72ef5d15",
   "metadata": {},
   "source": [
    "# Config"
   ]
  },
  {
   "cell_type": "code",
   "execution_count": null,
   "id": "4d631ced-8131-4d91-8d26-23e49fdfccea",
   "metadata": {},
   "outputs": [],
   "source": [
    "gfa_filename = \"/home/jqs1/scratch3/jqs1/sequencing/230930_alignment_test/barcode.gfa\""
   ]
  },
  {
   "cell_type": "code",
   "execution_count": null,
   "id": "09df61df-251e-49fa-a9c8-4f63a4e4710b",
   "metadata": {},
   "outputs": [],
   "source": [
    "gfa = gfapy.Gfa.from_file(gfa_filename)"
   ]
  },
  {
   "cell_type": "markdown",
   "id": "7059d066-a648-4dd8-803b-daa2d92a732d",
   "metadata": {},
   "source": [
    "# Duplex pairing"
   ]
  },
  {
   "cell_type": "markdown",
   "id": "9c27802c-5112-444b-aceb-815a84b04e5a",
   "metadata": {},
   "source": [
    "## UUID parsing"
   ]
  },
  {
   "cell_type": "code",
   "execution_count": null,
   "id": "100dee0b-c4f7-494d-a254-d8985bffcb8c",
   "metadata": {},
   "outputs": [],
   "source": [
    "pod5_filename = \"/home/jqs1/scratch3/jqs1/sequencing/230930_alignment_test/230707_repressilators/channel-135_merged.pod5\"\n",
    "gaf_filename = \"/home/jqs1/scratch3/jqs1/sequencing/230930_alignment_test/230707_repressilators/channel-135_merged.gaf\""
   ]
  },
  {
   "cell_type": "code",
   "execution_count": null,
   "id": "5bb0da4e-018d-4c10-9094-66674f29270f",
   "metadata": {},
   "outputs": [],
   "source": [
    "%%time\n",
    "# gaf = pa.Table.from_batches([next(sio.iter_gaf(gaf_filename))])\n",
    "# gaf = pa.Table.from_batches(list(it.islice(sio.iter_gaf(gaf_filename), 2)))\n",
    "gaf = pa.Table.from_batches(sio.iter_gaf(gaf_filename))"
   ]
  },
  {
   "cell_type": "code",
   "execution_count": null,
   "id": "e9e4937b-d6d5-4720-b105-e2d2d9d9d492",
   "metadata": {},
   "outputs": [],
   "source": [
    "%%time\n",
    "gaf_simplex = gaf.filter(pc.invert(pc.match_substring(gaf[\"name\"], \";\")))"
   ]
  },
  {
   "cell_type": "code",
   "execution_count": null,
   "id": "d4bd0d86-31fe-4ebd-aee3-a064c3aaedf0",
   "metadata": {},
   "outputs": [],
   "source": [
    "name_col = gaf_simplex[\"name\"]  # [:10]"
   ]
  },
  {
   "cell_type": "code",
   "execution_count": null,
   "id": "0fb9108a-ce62-45d2-9b95-3d16fb428ff0",
   "metadata": {},
   "outputs": [],
   "source": [
    "%%time\n",
    "uuids = uuid.parse_uuids(uuid.remove_hyphens(ak.from_arrow(name_col)))"
   ]
  },
  {
   "cell_type": "code",
   "execution_count": null,
   "id": "e710ad3b-6c50-4713-a4bf-e4eb4cf15b26",
   "metadata": {},
   "outputs": [],
   "source": [
    "x = np.concatenate([uuids] * 1000)\n",
    "%timeit ak.to_arrow(ak.enforce_type(ak.from_numpy(x), \"bytes\"))"
   ]
  },
  {
   "cell_type": "code",
   "execution_count": null,
   "id": "132b3131-2b02-4ca5-8492-5ebe09e74dde",
   "metadata": {},
   "outputs": [],
   "source": [
    "x.nbytes / 1e6"
   ]
  },
  {
   "cell_type": "code",
   "execution_count": null,
   "id": "f09d1c3f-8f15-4f1b-ba95-9db01f6506ec",
   "metadata": {},
   "outputs": [],
   "source": [
    "len(x)"
   ]
  },
  {
   "cell_type": "code",
   "execution_count": null,
   "id": "9d827d74-8ec9-41f3-a76a-685332da6cad",
   "metadata": {},
   "outputs": [],
   "source": [
    "%timeit ak.to_arrow(ak.enforce_type(ak.from_numpy(uuids), \"bytes\"))"
   ]
  },
  {
   "cell_type": "code",
   "execution_count": null,
   "id": "ffa9e0f9-9dd2-43c6-b800-b616c53afdf1",
   "metadata": {},
   "outputs": [],
   "source": [
    "ak.to_arrow(ak.enforce_type(ak.from_numpy(uuids), \"bytes\"))"
   ]
  },
  {
   "cell_type": "code",
   "execution_count": null,
   "id": "fa9078a9-4811-4669-a93d-47b35827e928",
   "metadata": {},
   "outputs": [],
   "source": [
    "gaf_simplex[\"name\"]"
   ]
  },
  {
   "cell_type": "markdown",
   "id": "c8a51420-2bbb-438a-8cbb-e4cd13415a6d",
   "metadata": {},
   "source": [
    "## Join"
   ]
  },
  {
   "cell_type": "code",
   "execution_count": null,
   "id": "0ac00eb7-22bb-4373-a3d0-2f69a00b3ce0",
   "metadata": {},
   "outputs": [],
   "source": [
    "uuids = uuid.parse_uuids(uuid.remove_hyphens(ak.from_arrow(gaf_simplex[\"name\"])))\n",
    "uuids_bytes = ak.to_arrow(\n",
    "    ak.enforce_type(ak.from_numpy(uuids), \"bytes\"), extensionarray=False\n",
    ")\n",
    "# waiting on https://github.com/apache/arrow/issues/39232\n",
    "# not sure if it's necessary/helps performance\n",
    "# uuids_bytes = uuids_bytes.cast(pa.binary(16))\n",
    "gaf_simplex_parsed = gaf_simplex.set_column(\n",
    "    gaf_simplex.column_names.index(\"name\"), \"name\", uuids_bytes\n",
    ")"
   ]
  },
  {
   "cell_type": "code",
   "execution_count": null,
   "id": "a67daa79-b1c3-4a31-8ef1-840df5d830c6",
   "metadata": {},
   "outputs": [],
   "source": [
    "reader = pod5.Reader(pod5_filename)"
   ]
  },
  {
   "cell_type": "code",
   "execution_count": null,
   "id": "fe12182e-9a70-4f77-a5bc-69c2bb617723",
   "metadata": {},
   "outputs": [],
   "source": [
    "run_info_table = reader.run_info_table.read_all()"
   ]
  },
  {
   "cell_type": "code",
   "execution_count": null,
   "id": "1158d6a0-f4ab-42b0-96b7-b20f3258a255",
   "metadata": {},
   "outputs": [],
   "source": [
    "read_table = reader.read_table.read_all()"
   ]
  },
  {
   "cell_type": "code",
   "execution_count": null,
   "id": "dae31ef6-4c9b-474a-a4a7-fcb633c98c20",
   "metadata": {},
   "outputs": [],
   "source": [
    "read_table.column_names"
   ]
  },
  {
   "cell_type": "code",
   "execution_count": null,
   "id": "98aa03d2-d21a-4d89-b6d3-98f4070c3379",
   "metadata": {},
   "outputs": [],
   "source": [
    "read_table2 = read_table.select([\"read_id\", \"start\", \"well\", \"channel\", \"run_info\"])"
   ]
  },
  {
   "cell_type": "code",
   "execution_count": null,
   "id": "7869bae3-81e0-4c5f-ae96-4475d8acaeac",
   "metadata": {},
   "outputs": [],
   "source": [
    "read_table_df = pl.from_arrow(read_table2).lazy()"
   ]
  },
  {
   "cell_type": "code",
   "execution_count": null,
   "id": "09b7ef8e-7b5e-4ae8-81d0-f2e788ea37d2",
   "metadata": {},
   "outputs": [],
   "source": [
    "gaf_df = pl.from_arrow(gaf_simplex_parsed).lazy()"
   ]
  },
  {
   "cell_type": "code",
   "execution_count": null,
   "id": "abc0e880-edbd-4208-b944-c78ba75eb9c8",
   "metadata": {},
   "outputs": [],
   "source": [
    "joined_df = read_table_df.join(gaf_df, left_on=\"read_id\", right_on=\"name\", how=\"left\")"
   ]
  },
  {
   "cell_type": "code",
   "execution_count": null,
   "id": "33cd01c3-9bb2-417e-9b41-0c53e58ed0f2",
   "metadata": {},
   "outputs": [],
   "source": [
    "joined_df = joined_df.collect()"
   ]
  },
  {
   "cell_type": "code",
   "execution_count": null,
   "id": "b8ac5c0d-a378-4c52-810a-13774301aa53",
   "metadata": {},
   "outputs": [],
   "source": [
    "joined_df.columns"
   ]
  },
  {
   "cell_type": "code",
   "execution_count": null,
   "id": "fb227904-fe14-4831-8a43-fc78b18b4228",
   "metadata": {},
   "outputs": [],
   "source": [
    "joined_df.group_by(\"run_info\")"
   ]
  },
  {
   "cell_type": "code",
   "execution_count": null,
   "id": "a3a2944b-48c3-45e9-b9bd-c94c3a38b2fb",
   "metadata": {},
   "outputs": [],
   "source": [
    "# first unique read_id\n",
    "# same well, channel\n",
    "# start within (1s * 5000 kHz)"
   ]
  },
  {
   "cell_type": "code",
   "execution_count": null,
   "id": "c0cf0ea4-6713-4a51-b1b4-553c8b479923",
   "metadata": {},
   "outputs": [],
   "source": [
    "run_info = {}\n",
    "for col in [\"sample_rate\"]:\n",
    "    run_info[col] = dict(\n",
    "        zip(\n",
    "            run_info_table[\"acquisition_id\"].to_pylist(),\n",
    "            run_info_table[col].to_pylist(),\n",
    "        )\n",
    "    )"
   ]
  },
  {
   "cell_type": "code",
   "execution_count": null,
   "id": "bbd62c0f-ba2a-4732-94ce-a3c4fd9b2cb6",
   "metadata": {},
   "outputs": [],
   "source": [
    "run_info"
   ]
  },
  {
   "cell_type": "code",
   "execution_count": null,
   "id": "f8e2ea6a-b31a-4505-a824-12d035def151",
   "metadata": {},
   "outputs": [],
   "source": [
    "run_info_table.select([\"acquisition_id\", \"sample_rate\"]).to_pydict()"
   ]
  },
  {
   "cell_type": "code",
   "execution_count": null,
   "id": "8b7f4182-57b1-4648-bc04-d78725215422",
   "metadata": {},
   "outputs": [],
   "source": [
    "sample_rate = "
   ]
  },
  {
   "cell_type": "code",
   "execution_count": null,
   "id": "f9305429-f1c7-42fa-b944-c9502c1a1a4d",
   "metadata": {},
   "outputs": [],
   "source": [
    "joined_df.rolling()"
   ]
  },
  {
   "cell_type": "code",
   "execution_count": null,
   "id": "442c0a15-ce23-42e3-8f81-529f1a5b80a6",
   "metadata": {},
   "outputs": [],
   "source": [
    "read_table  # [\"run_info\"]"
   ]
  }
 ],
 "metadata": {
  "kernelspec": {
   "display_name": "Python 3 (ipykernel)",
   "language": "python",
   "name": "python3"
  },
  "language_info": {
   "codemirror_mode": {
    "name": "ipython",
    "version": 3
   },
   "file_extension": ".py",
   "mimetype": "text/x-python",
   "name": "python",
   "nbconvert_exporter": "python",
   "pygments_lexer": "ipython3",
   "version": "3.10.13"
  }
 },
 "nbformat": 4,
 "nbformat_minor": 5
}
