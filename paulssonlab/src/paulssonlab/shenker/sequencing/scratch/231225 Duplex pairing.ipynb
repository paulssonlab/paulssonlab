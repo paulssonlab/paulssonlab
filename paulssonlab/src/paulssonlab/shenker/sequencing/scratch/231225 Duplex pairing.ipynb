{
 "cells": [
  {
   "cell_type": "code",
   "execution_count": null,
   "id": "41c57f7d-eb34-40e9-b810-10d4c44d68b2",
   "metadata": {},
   "outputs": [],
   "source": [
    "import itertools as it\n",
    "import operator\n",
    "import re\n",
    "import subprocess\n",
    "import tempfile\n",
    "import time\n",
    "from collections import Counter, defaultdict\n",
    "from functools import partial\n",
    "from pathlib import Path\n",
    "\n",
    "import awkward as ak\n",
    "import duckdb\n",
    "import gfapy\n",
    "import holoviews as hv\n",
    "import ibis\n",
    "import matplotlib.pyplot as plt\n",
    "import numba\n",
    "import numpy as np\n",
    "import pandas as pd\n",
    "import parasail\n",
    "import pod5\n",
    "import polars as pl\n",
    "import pyabpoa\n",
    "import pyarrow as pa\n",
    "import pyarrow.compute as pc\n",
    "import pyarrow.dataset as ds\n",
    "import pyfastx\n",
    "import pysam\n",
    "import spoa\n",
    "from Bio import SeqIO\n",
    "from Bio.Seq import Seq\n",
    "from Bio.SeqRecord import SeqRecord\n",
    "from pyarrow import csv\n",
    "from pywfa import WavefrontAligner\n",
    "from tqdm.auto import tqdm, trange"
   ]
  },
  {
   "cell_type": "code",
   "execution_count": null,
   "id": "f4ec68fd-4dab-43a1-a74d-fc2137f04acb",
   "metadata": {},
   "outputs": [],
   "source": [
    "%load_ext autoreload\n",
    "%autoreload 2"
   ]
  },
  {
   "cell_type": "code",
   "execution_count": null,
   "id": "6d3d323b-2fd5-44cd-b9b0-ed41db593de3",
   "metadata": {},
   "outputs": [],
   "source": [
    "import paulssonlab.sequencing.align as align\n",
    "import paulssonlab.sequencing.cigar as scigar\n",
    "import paulssonlab.sequencing.consensus as con\n",
    "import paulssonlab.sequencing.gfa as sgfa\n",
    "import paulssonlab.sequencing.io as sio\n",
    "import paulssonlab.sequencing.processing as processing\n",
    "import paulssonlab.sequencing.uuid as uuid\n",
    "from paulssonlab.util.sequence import reverse_complement"
   ]
  },
  {
   "cell_type": "code",
   "execution_count": null,
   "id": "f117a156-f6f6-423f-81be-bb5eed890a23",
   "metadata": {},
   "outputs": [],
   "source": [
    "hv.extension(\"bokeh\")"
   ]
  },
  {
   "cell_type": "code",
   "execution_count": null,
   "id": "ab1a37e0-1304-4373-a431-bdbd42cff000",
   "metadata": {},
   "outputs": [],
   "source": [
    "%load_ext pyinstrument\n",
    "import line_profiler\n",
    "import pyinstrument\n",
    "\n",
    "%load_ext line_profiler"
   ]
  },
  {
   "cell_type": "code",
   "execution_count": null,
   "id": "d286b864-7447-4195-8a34-2ede229b0b4c",
   "metadata": {},
   "outputs": [],
   "source": [
    "pl.enable_string_cache()"
   ]
  },
  {
   "cell_type": "markdown",
   "id": "87262c91-3af5-492b-a2f5-905c72ef5d15",
   "metadata": {},
   "source": [
    "# Config"
   ]
  },
  {
   "cell_type": "code",
   "execution_count": null,
   "id": "4d631ced-8131-4d91-8d26-23e49fdfccea",
   "metadata": {},
   "outputs": [],
   "source": [
    "gfa_filename = \"/home/jqs1/scratch3/jqs1/sequencing/230930_alignment_test/barcode.gfa\""
   ]
  },
  {
   "cell_type": "code",
   "execution_count": null,
   "id": "09df61df-251e-49fa-a9c8-4f63a4e4710b",
   "metadata": {},
   "outputs": [],
   "source": [
    "gfa = gfapy.Gfa.from_file(gfa_filename)"
   ]
  },
  {
   "cell_type": "markdown",
   "id": "7059d066-a648-4dd8-803b-daa2d92a732d",
   "metadata": {},
   "source": [
    "# Duplex pairing"
   ]
  },
  {
   "cell_type": "markdown",
   "id": "9c27802c-5112-444b-aceb-815a84b04e5a",
   "metadata": {},
   "source": [
    "## UUID parsing"
   ]
  },
  {
   "cell_type": "code",
   "execution_count": null,
   "id": "100dee0b-c4f7-494d-a254-d8985bffcb8c",
   "metadata": {},
   "outputs": [],
   "source": [
    "pod5_filename = \"/home/jqs1/scratch3/jqs1/sequencing/230930_alignment_test/230707_repressilators/channel-135_merged.pod5\"\n",
    "gaf_filename = \"/home/jqs1/scratch3/jqs1/sequencing/230930_alignment_test/230707_repressilators/channel-135_merged.gaf\""
   ]
  },
  {
   "cell_type": "code",
   "execution_count": null,
   "id": "5bb0da4e-018d-4c10-9094-66674f29270f",
   "metadata": {},
   "outputs": [],
   "source": [
    "%%time\n",
    "# gaf = pa.Table.from_batches([next(sio.iter_gaf(gaf_filename))])\n",
    "# gaf = pa.Table.from_batches(list(it.islice(sio.iter_gaf(gaf_filename), 2)))\n",
    "gaf = pa.Table.from_batches(sio.iter_gaf(gaf_filename))"
   ]
  },
  {
   "cell_type": "code",
   "execution_count": null,
   "id": "e9e4937b-d6d5-4720-b105-e2d2d9d9d492",
   "metadata": {},
   "outputs": [],
   "source": [
    "%%time\n",
    "gaf_simplex = gaf.filter(pc.invert(pc.match_substring(gaf[\"name\"], \";\")))"
   ]
  },
  {
   "cell_type": "code",
   "execution_count": null,
   "id": "d4bd0d86-31fe-4ebd-aee3-a064c3aaedf0",
   "metadata": {},
   "outputs": [],
   "source": [
    "name_col = gaf_simplex[\"name\"]  # [:10]"
   ]
  },
  {
   "cell_type": "code",
   "execution_count": null,
   "id": "0fb9108a-ce62-45d2-9b95-3d16fb428ff0",
   "metadata": {},
   "outputs": [],
   "source": [
    "%%time\n",
    "uuids = uuid.parse_uuids(uuid.remove_hyphens(ak.from_arrow(name_col)))"
   ]
  },
  {
   "cell_type": "code",
   "execution_count": null,
   "id": "e710ad3b-6c50-4713-a4bf-e4eb4cf15b26",
   "metadata": {},
   "outputs": [],
   "source": [
    "x = np.concatenate([uuids] * 1000)\n",
    "%timeit ak.to_arrow(ak.enforce_type(ak.from_numpy(x), \"bytes\"))"
   ]
  },
  {
   "cell_type": "code",
   "execution_count": null,
   "id": "132b3131-2b02-4ca5-8492-5ebe09e74dde",
   "metadata": {},
   "outputs": [],
   "source": [
    "x.nbytes / 1e6"
   ]
  },
  {
   "cell_type": "code",
   "execution_count": null,
   "id": "f09d1c3f-8f15-4f1b-ba95-9db01f6506ec",
   "metadata": {},
   "outputs": [],
   "source": [
    "len(x)"
   ]
  },
  {
   "cell_type": "code",
   "execution_count": null,
   "id": "9d827d74-8ec9-41f3-a76a-685332da6cad",
   "metadata": {},
   "outputs": [],
   "source": [
    "%timeit ak.to_arrow(ak.enforce_type(ak.from_numpy(uuids), \"bytes\"))"
   ]
  },
  {
   "cell_type": "code",
   "execution_count": null,
   "id": "ffa9e0f9-9dd2-43c6-b800-b616c53afdf1",
   "metadata": {},
   "outputs": [],
   "source": [
    "ak.to_arrow(ak.enforce_type(ak.from_numpy(uuids), \"bytes\"))"
   ]
  },
  {
   "cell_type": "code",
   "execution_count": null,
   "id": "fa9078a9-4811-4669-a93d-47b35827e928",
   "metadata": {},
   "outputs": [],
   "source": [
    "gaf_simplex[\"name\"]"
   ]
  },
  {
   "cell_type": "markdown",
   "id": "c8a51420-2bbb-438a-8cbb-e4cd13415a6d",
   "metadata": {},
   "source": [
    "## Join"
   ]
  },
  {
   "cell_type": "code",
   "execution_count": null,
   "id": "0ac00eb7-22bb-4373-a3d0-2f69a00b3ce0",
   "metadata": {},
   "outputs": [],
   "source": [
    "uuids = uuid.parse_uuids(uuid.remove_hyphens(ak.from_arrow(gaf_simplex[\"name\"])))\n",
    "uuids_bytes = ak.to_arrow(\n",
    "    ak.enforce_type(ak.from_numpy(uuids), \"bytes\"), extensionarray=False\n",
    ")\n",
    "# waiting on https://github.com/apache/arrow/issues/39232\n",
    "# not sure if it's necessary/helps performance\n",
    "# uuids_bytes = uuids_bytes.cast(pa.binary(16))\n",
    "gaf_simplex_parsed = gaf_simplex.set_column(\n",
    "    gaf_simplex.column_names.index(\"name\"), \"name\", uuids_bytes\n",
    ")"
   ]
  },
  {
   "cell_type": "code",
   "execution_count": null,
   "id": "a67daa79-b1c3-4a31-8ef1-840df5d830c6",
   "metadata": {},
   "outputs": [],
   "source": [
    "reader = pod5.Reader(pod5_filename)"
   ]
  },
  {
   "cell_type": "code",
   "execution_count": null,
   "id": "fe12182e-9a70-4f77-a5bc-69c2bb617723",
   "metadata": {},
   "outputs": [],
   "source": [
    "run_info_table = reader.run_info_table.read_all()"
   ]
  },
  {
   "cell_type": "code",
   "execution_count": null,
   "id": "1158d6a0-f4ab-42b0-96b7-b20f3258a255",
   "metadata": {},
   "outputs": [],
   "source": [
    "read_table = reader.read_table.read_all()"
   ]
  },
  {
   "cell_type": "code",
   "execution_count": null,
   "id": "98aa03d2-d21a-4d89-b6d3-98f4070c3379",
   "metadata": {},
   "outputs": [],
   "source": [
    "read_table2 = read_table.select([\"read_id\", \"start\", \"well\", \"channel\", \"run_info\"])"
   ]
  },
  {
   "cell_type": "code",
   "execution_count": null,
   "id": "7869bae3-81e0-4c5f-ae96-4475d8acaeac",
   "metadata": {},
   "outputs": [],
   "source": [
    "read_table_df = pl.from_arrow(read_table2).lazy()"
   ]
  },
  {
   "cell_type": "code",
   "execution_count": null,
   "id": "09b7ef8e-7b5e-4ae8-81d0-f2e788ea37d2",
   "metadata": {},
   "outputs": [],
   "source": [
    "gaf_df = pl.from_arrow(gaf_simplex_parsed).lazy()"
   ]
  },
  {
   "cell_type": "code",
   "execution_count": null,
   "id": "63974ef7-06bf-4044-841c-b9a541c04ac0",
   "metadata": {},
   "outputs": [],
   "source": [
    "gaf_unique_df = gaf_df.filter(pl.col(\"name\").is_first_distinct())"
   ]
  },
  {
   "cell_type": "code",
   "execution_count": null,
   "id": "abc0e880-edbd-4208-b944-c78ba75eb9c8",
   "metadata": {},
   "outputs": [],
   "source": [
    "joined_df = read_table_df.join(\n",
    "    gaf_unique_df, left_on=\"read_id\", right_on=\"name\", how=\"left\"\n",
    ")"
   ]
  },
  {
   "cell_type": "code",
   "execution_count": null,
   "id": "33cd01c3-9bb2-417e-9b41-0c53e58ed0f2",
   "metadata": {},
   "outputs": [],
   "source": [
    "joined_df = joined_df.collect()"
   ]
  },
  {
   "cell_type": "code",
   "execution_count": null,
   "id": "b8ac5c0d-a378-4c52-810a-13774301aa53",
   "metadata": {},
   "outputs": [],
   "source": [
    "joined_df.columns"
   ]
  },
  {
   "cell_type": "code",
   "execution_count": null,
   "id": "a3a2944b-48c3-45e9-b9bd-c94c3a38b2fb",
   "metadata": {},
   "outputs": [],
   "source": [
    "# first unique, full-length alignment\n",
    "# same well, channel\n",
    "# start within (1s * 5000 Hz)"
   ]
  },
  {
   "cell_type": "code",
   "execution_count": null,
   "id": "c0cf0ea4-6713-4a51-b1b4-553c8b479923",
   "metadata": {},
   "outputs": [],
   "source": [
    "run_info = {}\n",
    "for col in [\"sample_rate\"]:\n",
    "    run_info[col] = dict(\n",
    "        zip(\n",
    "            run_info_table[\"acquisition_id\"].to_pylist(),\n",
    "            run_info_table[col].to_pylist(),\n",
    "        )\n",
    "    )"
   ]
  },
  {
   "cell_type": "code",
   "execution_count": null,
   "id": "d0d051f8-0771-4183-b430-33f9e77ba191",
   "metadata": {},
   "outputs": [],
   "source": [
    "run_info"
   ]
  },
  {
   "cell_type": "code",
   "execution_count": null,
   "id": "8b7f4182-57b1-4648-bc04-d78725215422",
   "metadata": {},
   "outputs": [],
   "source": [
    "sample_rate = run_info[\"sample_rate\"][\"255dd505a1ce8175032f42d363ea427604712e08\"]"
   ]
  },
  {
   "cell_type": "code",
   "execution_count": null,
   "id": "92d2c37b-9701-4985-90b5-5f7c425c8810",
   "metadata": {},
   "outputs": [],
   "source": [
    "joined_df.cast({\"start\": pl.Int64}).sort(\"start\").rolling(\n",
    "    \"start\", period=f\"{sample_rate}i\"\n",
    ").agg(pl.all().exclude(\"start\"))"
   ]
  },
  {
   "cell_type": "code",
   "execution_count": null,
   "id": "0a12ced5-d3be-4366-8471-68efea03b697",
   "metadata": {},
   "outputs": [],
   "source": [
    "joined_df.filter(pl.col(\"path\").is_not_null()).cast({\"start\": pl.Int64}).sort(\n",
    "    \"start\"\n",
    ").rolling(\n",
    "    \"start\", by=[\"channel\", \"well\"], period=f\"{sample_rate}i\", check_sorted=False\n",
    ").agg(\n",
    "    pl.col(\"start\").alias(\"_start\"),\n",
    "    pl.col(\"read_id\"),\n",
    "    pl.col(\"path\"),\n",
    "    pl.col(\"path\").first().alias(\"_path_first\"),\n",
    "    # pl.col(\"path\").list.eval(pl.element() == pl.col(\"path_first\")),\n",
    ").rename(\n",
    "    {\"_start\": \"start\", \"start\": \"window_start\"}\n",
    ").filter(\n",
    "    pl.col(\"read_id\").list.len() >= 2\n",
    ").explode(\n",
    "    \"start\", \"read_id\", \"path\"\n",
    ").with_columns(\n",
    "    (pl.col(\"path\") == pl.col(\"_path_first\")).alias(\"_duplex_match\")\n",
    ")"
   ]
  },
  {
   "cell_type": "code",
   "execution_count": null,
   "id": "c43231cf-8f80-4c6c-8be4-5cd651ddd251",
   "metadata": {},
   "outputs": [],
   "source": [
    "joined_df.filter(pl.col(\"path\").is_not_null()).cast({\"start\": pl.Int64}).sort(\n",
    "    \"start\"\n",
    ").rolling(\"start\", by=[\"channel\", \"well\"], period=f\"{sample_rate}i\").agg(\n",
    "    pl.col(\"start\").alias(\"_start\"),\n",
    "    pl.col(\"read_id\"),\n",
    "    pl.col(\"path\"),\n",
    "    pl.col(\"path\").first().alias(\"_path_first\"),\n",
    "    # pl.col(\"path\").list.eval(pl.element() == pl.col(\"path_first\")),\n",
    ").filter(\n",
    "    pl.col(\"read_id\").list.len() >= 2\n",
    ")  # .explode(\"_start\", \"read_id\", \"path\").with_columns((pl.col(\"path\") == pl.col(\"_path_first\")).alias(\"_duplex_match\"))"
   ]
  },
  {
   "cell_type": "code",
   "execution_count": null,
   "id": "9811fa27-06b9-45db-a2c1-cd7494677952",
   "metadata": {},
   "outputs": [],
   "source": [
    "joined_df[\"start\"].max()"
   ]
  },
  {
   "cell_type": "code",
   "execution_count": null,
   "id": "478735b4-6293-44e6-8187-f060970c7e53",
   "metadata": {},
   "outputs": [],
   "source": [
    "1295997446 / 5000 / 60 / 60"
   ]
  },
  {
   "cell_type": "code",
   "execution_count": null,
   "id": "35371437-a90d-4097-ac1a-3d8167803556",
   "metadata": {},
   "outputs": [],
   "source": [
    "pod5_filename = \"/home/jqs1/scratch/sequencing/230707_repressilators/pod5_pass_split/channel-251_merged.pod5\"\n",
    "reader = pod5.Reader(pod5_filename)\n",
    "read_table = reader.read_table.read_all()\n",
    "read_table2 = read_table.select([\"read_id\", \"start\", \"well\", \"channel\", \"run_info\"])\n",
    "read_table_df = pl.from_arrow(read_table2).lazy()"
   ]
  },
  {
   "cell_type": "code",
   "execution_count": null,
   "id": "d7362799-91d4-4ddb-b536-06734df954b2",
   "metadata": {},
   "outputs": [],
   "source": [
    "read_table_pdf = read_table2.to_pandas()"
   ]
  },
  {
   "cell_type": "code",
   "execution_count": null,
   "id": "96e69d39-2a4a-44bd-9f87-fec10bd4a0a2",
   "metadata": {},
   "outputs": [],
   "source": [
    "read_table_pdf[\"time\"] = pd.to_datetime(read_table_pdf[\"start\"] / 5000, unit=\"s\")"
   ]
  },
  {
   "cell_type": "code",
   "execution_count": null,
   "id": "b6fa0524-05cf-452a-af1b-eede4d0072a6",
   "metadata": {},
   "outputs": [],
   "source": [
    "read_table_pdf = read_table_pdf.sort_values(\"time\")"
   ]
  },
  {
   "cell_type": "code",
   "execution_count": null,
   "id": "a0dad279-7850-44d8-aaf6-e126024e486c",
   "metadata": {},
   "outputs": [],
   "source": [
    "read_table_pdf[read_table_pdf[\"channel\"] == 268][[\"time\", \"read_id\"]].rolling(\n",
    "    \"1s\", on=\"time\"\n",
    ").first()"
   ]
  },
  {
   "cell_type": "code",
   "execution_count": null,
   "id": "01447f28-859d-49b5-9ac8-6123d5f010eb",
   "metadata": {},
   "outputs": [],
   "source": [
    "read_table_subset = read_table_pdf[read_table_pdf[\"channel\"] == 306].sort_values(\n",
    "    \"start\"\n",
    ")"
   ]
  },
  {
   "cell_type": "code",
   "execution_count": null,
   "id": "00257e57-51a0-4139-bc6d-c43a03dd40bc",
   "metadata": {},
   "outputs": [],
   "source": [
    "x = read_table_subset[\"start\"].values"
   ]
  },
  {
   "cell_type": "code",
   "execution_count": null,
   "id": "8fa24323-efd0-4767-81ee-1a57a8f2f0de",
   "metadata": {},
   "outputs": [],
   "source": [
    "((x[1:] - x[:-1]) < 5000).sum()"
   ]
  },
  {
   "cell_type": "code",
   "execution_count": null,
   "id": "c5869c09-00cc-4f02-ac6c-a641dee18c56",
   "metadata": {},
   "outputs": [],
   "source": [
    "total = 0\n",
    "for channel in set(read_table_pdf[\"channel\"]):\n",
    "    read_table_subset = read_table_pdf[\n",
    "        read_table_pdf[\"channel\"] == channel\n",
    "    ].sort_values(\"start\")\n",
    "    x = read_table_subset[\"start\"].values\n",
    "    num_duplex = ((x[1:] - x[:-1]) < 5000).sum()\n",
    "    total += num_duplex\n",
    "    if num_duplex > 0:\n",
    "        print(f\"{channel}: {num_duplex}\")\n",
    "print(f\"TOTAL: {total}\")"
   ]
  },
  {
   "cell_type": "code",
   "execution_count": null,
   "id": "31f462b4-6cb6-47f3-8ae3-cd14f113da3e",
   "metadata": {},
   "outputs": [],
   "source": [
    "dt = 5000\n",
    "r = read_table_subset[\"start\"].map(\n",
    "    lambda x: read_table_subset[\"start\"].between(x - dt, x).sum()\n",
    ")\n",
    "r[r >= 2]"
   ]
  },
  {
   "cell_type": "code",
   "execution_count": null,
   "id": "e9fd9b4a-f133-44f1-8bf8-b885fc45d91d",
   "metadata": {},
   "outputs": [],
   "source": [
    "dt = 5000\n",
    "read_table_subset[\"start\"][:10].map(\n",
    "    lambda x: read_table_subset[\"read_id\"][\n",
    "        read_table_subset[\"start\"].between(x - dt, x)\n",
    "    ]\n",
    ")"
   ]
  },
  {
   "cell_type": "code",
   "execution_count": null,
   "id": "bdf78462-714e-4a4f-bc14-e87d471fc083",
   "metadata": {},
   "outputs": [],
   "source": [
    "read_table_df.cast({\"start\": pl.Int64}).sort(\"start\").rolling(\n",
    "    \"start\", by=[\"channel\", \"well\"], period=\"5000i\"\n",
    ").agg(pl.col(\"start\").alias(\"_start\"), pl.all().exclude(\"start\")).filter(\n",
    "    pl.col(\"read_id\").list.len() >= 2\n",
    ").collect()"
   ]
  },
  {
   "cell_type": "code",
   "execution_count": null,
   "id": "d947785f-a7ca-47b8-b281-6dc6ac713c2a",
   "metadata": {},
   "outputs": [],
   "source": [
    "joined_df.filter(pl.col(\"path\").is_not_null()).cast({\"start\": pl.Int64}).sort(\n",
    "    \"start\"\n",
    ").rolling(\"start\", by=[\"channel\", \"well\"], period=f\"5000i\").agg(\n",
    "    pl.col(\"start\").alias(\"_start\"),\n",
    "    pl.col(\"read_id\"),\n",
    "    pl.col(\"path\"),\n",
    "    pl.col(\"path\").first().alias(\"_path_first\"),\n",
    "    # pl.col(\"path\").list.eval(pl.element() == pl.col(\"path_first\")),\n",
    ").rename(\n",
    "    {\"_start\": \"start\", \"start\": \"window_end\"}\n",
    ").filter(\n",
    "    pl.col(\"read_id\").list.len() >= 2\n",
    ").explode(\n",
    "    \"start\", \"read_id\", \"path\"\n",
    ").with_columns(\n",
    "    (pl.col(\"path\") == pl.col(\"_path_first\")).alias(\"_duplex_match\")\n",
    ")"
   ]
  },
  {
   "cell_type": "code",
   "execution_count": null,
   "id": "442c0a15-ce23-42e3-8f81-529f1a5b80a6",
   "metadata": {},
   "outputs": [],
   "source": [
    "read_table  # [\"run_info\"]"
   ]
  },
  {
   "cell_type": "markdown",
   "id": "7978c58a-2065-4032-8a09-76393d6bc275",
   "metadata": {},
   "source": [
    "# BAM"
   ]
  },
  {
   "cell_type": "code",
   "execution_count": null,
   "id": "65eb1e57-aee3-43e0-8a01-317aeeffdbe4",
   "metadata": {},
   "outputs": [],
   "source": [
    "# bam_filename = \"/home/jqs1/scratch3/jqs1/sequencing/230930_alignment_test/230707_repressilators/channel-135_merged.bam\"\n",
    "# bam_filename = \"/home/jqs1/scratch3/jqs1/sequencing/230922_bcd_rbses_constitutive/20230922_1104_1A_PAQ83451_8d610a8c/bam_pass/channel-100_merged.bam\"\n",
    "bam_filename = \"/home/jqs1/scratch/sequencing/230707_repressilators/20230707_2040_MN35044_FAS94231_25542e0d/_temp/channel-1_merged.bam\""
   ]
  },
  {
   "cell_type": "code",
   "execution_count": null,
   "id": "e258871a-9910-4495-8171-5e0ce87d9457",
   "metadata": {},
   "outputs": [],
   "source": [
    "bam = pysam.AlignmentFile(bam_filename, check_sq=False)"
   ]
  },
  {
   "cell_type": "code",
   "execution_count": null,
   "id": "e29467f2-43ec-46bf-8a20-b778fa08e181",
   "metadata": {},
   "outputs": [],
   "source": [
    "bam.reset()\n",
    "reads = bam.fetch(until_eof=True)"
   ]
  },
  {
   "cell_type": "code",
   "execution_count": null,
   "id": "25e298a9-4774-44b5-a6f0-6b87fa175b8e",
   "metadata": {},
   "outputs": [],
   "source": [
    "x = next(reads)"
   ]
  },
  {
   "cell_type": "code",
   "execution_count": null,
   "id": "9880c451-8f9e-4b0b-a68d-7a585df02713",
   "metadata": {},
   "outputs": [],
   "source": [
    "bam.count(until_eof=True)"
   ]
  },
  {
   "cell_type": "code",
   "execution_count": null,
   "id": "5db5cd71-1e6d-40b5-9512-7ca3d666d192",
   "metadata": {},
   "outputs": [],
   "source": [
    "dict(x.tags)[\"st\"]"
   ]
  },
  {
   "cell_type": "code",
   "execution_count": null,
   "id": "b42c0a72-854b-4af3-9254-aa9a7fe8d345",
   "metadata": {},
   "outputs": [],
   "source": [
    "x.tags"
   ]
  },
  {
   "cell_type": "code",
   "execution_count": null,
   "id": "1b545183-f08a-4c5c-b954-260bba6a8cc7",
   "metadata": {},
   "outputs": [],
   "source": [
    "x.tags"
   ]
  },
  {
   "cell_type": "code",
   "execution_count": null,
   "id": "00dba874-d5a9-4bff-8ebe-4999e750a609",
   "metadata": {},
   "outputs": [],
   "source": [
    "read"
   ]
  },
  {
   "cell_type": "code",
   "execution_count": null,
   "id": "486214b0-9f1f-4e8a-8f71-7527a407a6e6",
   "metadata": {},
   "outputs": [],
   "source": [
    "bam.reset()\n",
    "reads = [\n",
    "    {\"name\": read.query_name, **dict(read.tags)}\n",
    "    for read in tqdm(bam.fetch(until_eof=True))\n",
    "]"
   ]
  },
  {
   "cell_type": "code",
   "execution_count": null,
   "id": "04fbd490-8039-4e43-a5aa-6fc818ec1e2e",
   "metadata": {},
   "outputs": [],
   "source": [
    "%%time\n",
    "df = pd.DataFrame.from_records(reads)\n",
    "df[\"st\"] = pd.to_datetime(df[\"st\"], format=\"ISO8601\")\n",
    "df = df.sort_values(\"st\").reset_index(drop=True)"
   ]
  },
  {
   "cell_type": "code",
   "execution_count": null,
   "id": "daf8af51-c547-4d3b-b40b-0f0a7ef01b5a",
   "metadata": {},
   "outputs": [],
   "source": [
    "df[\"_endtime\"] = df[\"st\"] + pd.to_timedelta(df[\"du\"], unit=\"s\")"
   ]
  },
  {
   "cell_type": "code",
   "execution_count": null,
   "id": "6c310e13-776a-479d-be56-7aa03393badc",
   "metadata": {},
   "outputs": [],
   "source": [
    "df2 = pl.from_pandas(df)"
   ]
  },
  {
   "cell_type": "code",
   "execution_count": null,
   "id": "d63e0918-19fc-4c80-a61e-46cb53670840",
   "metadata": {},
   "outputs": [],
   "source": [
    "df3 = df2.select([\"name\", \"st\", \"_endtime\", \"du\", \"ch\", \"mx\"])\n",
    "# df3 = df3.filter(pl.col(\"ch\") == 134, pl.col(\"mx\") == 1)\n",
    "df3_st = df3.sort(\"st\")\n",
    "df3_endtime = df3.sort(\"_endtime\")"
   ]
  },
  {
   "cell_type": "code",
   "execution_count": null,
   "id": "355f4cac-945b-4c15-98e5-6006233b9253",
   "metadata": {},
   "outputs": [],
   "source": [
    "%%time\n",
    "df4 = df3_endtime.join_asof(\n",
    "    df3_st, left_on=\"_endtime\", right_on=\"st\", strategy=\"forward\", tolerance=\"10s\"\n",
    ")"
   ]
  },
  {
   "cell_type": "code",
   "execution_count": null,
   "id": "743ab66d-36d7-468a-bb1f-1adc34079096",
   "metadata": {},
   "outputs": [],
   "source": [
    "%%time\n",
    "df4 = df3_endtime.join_asof(\n",
    "    df3_st,\n",
    "    left_on=\"_endtime\",\n",
    "    right_on=\"st\",\n",
    "    by=[\"ch\", \"mx\"],\n",
    "    strategy=\"forward\",\n",
    "    tolerance=\"10s\",\n",
    ")"
   ]
  },
  {
   "cell_type": "code",
   "execution_count": null,
   "id": "fe109ec1-c93a-46f4-8e2d-bfeb599529d4",
   "metadata": {},
   "outputs": [],
   "source": [
    "df4.with_columns((pl.col(\"st_right\") - pl.col(\"_endtime\")).alias(\"dt\"))"
   ]
  },
  {
   "cell_type": "code",
   "execution_count": null,
   "id": "c51b95a6-38b6-493a-9394-39c38482e181",
   "metadata": {},
   "outputs": [],
   "source": [
    "df4.filter(pl.col(\"name_right\").is_not_null())"
   ]
  },
  {
   "cell_type": "code",
   "execution_count": null,
   "id": "9786aaa2-777e-4fd3-80de-252e992c1d20",
   "metadata": {},
   "outputs": [],
   "source": [
    "df[\"st\"][0]"
   ]
  },
  {
   "cell_type": "code",
   "execution_count": null,
   "id": "6864dc96-bee7-4077-8f98-cd8d5ba87dc7",
   "metadata": {},
   "outputs": [],
   "source": [
    "df_subset = df[df[\"ch\"] == 282]\n",
    "x = (df_subset[\"st\"] - df_subset[\"st\"].iloc[0]).dt.total_seconds().values"
   ]
  },
  {
   "cell_type": "code",
   "execution_count": null,
   "id": "86ec2cff-2a40-4c03-978b-c165bc2070eb",
   "metadata": {},
   "outputs": [],
   "source": [
    "import oxbow as ox"
   ]
  },
  {
   "cell_type": "code",
   "execution_count": null,
   "id": "815eedfa-a40c-49bd-9907-1399d45c5a4b",
   "metadata": {},
   "outputs": [],
   "source": [
    "f = ox.read_bam(bam_filename)"
   ]
  },
  {
   "cell_type": "code",
   "execution_count": null,
   "id": "6a955627-8dc3-4897-9aef-458df89aeedc",
   "metadata": {},
   "outputs": [],
   "source": [
    "df_subset = df[(df[\"ch\"] == 135) & (df[\"dx\"] == -1)]"
   ]
  },
  {
   "cell_type": "code",
   "execution_count": null,
   "id": "90dbaefa-48b3-4068-acec-b70cc2e3c5cf",
   "metadata": {},
   "outputs": [],
   "source": [
    "df_subset[:20]"
   ]
  },
  {
   "cell_type": "code",
   "execution_count": null,
   "id": "42cb898d-fe45-4436-bd4b-e254cd04c154",
   "metadata": {},
   "outputs": [],
   "source": [
    "total = 0\n",
    "for channel in set(df[\"ch\"]):\n",
    "    df_subset = df[(df[\"ch\"] == channel) & df[\"dx\"] == -1]\n",
    "    x = (df_subset[\"st\"] - df_subset[\"st\"].iloc[0]).dt.total_seconds().values\n",
    "    num_duplex = ((x[1:] - x[:-1]) == 0).sum()\n",
    "    total += num_duplex\n",
    "    if num_duplex > 0:\n",
    "        print(f\"{channel}: {num_duplex}\")\n",
    "print(f\"TOTAL: {total}\")"
   ]
  },
  {
   "cell_type": "code",
   "execution_count": null,
   "id": "8be22fdd-04eb-43cf-b7d8-b872c77b2817",
   "metadata": {},
   "outputs": [],
   "source": [
    "((x[1:] - x[:-1]) < 1).sum()"
   ]
  }
 ],
 "metadata": {
  "kernelspec": {
   "display_name": "Python 3 (ipykernel)",
   "language": "python",
   "name": "python3"
  },
  "language_info": {
   "codemirror_mode": {
    "name": "ipython",
    "version": 3
   },
   "file_extension": ".py",
   "mimetype": "text/x-python",
   "name": "python",
   "nbconvert_exporter": "python",
   "pygments_lexer": "ipython3",
   "version": "3.10.13"
  }
 },
 "nbformat": 4,
 "nbformat_minor": 5
}
