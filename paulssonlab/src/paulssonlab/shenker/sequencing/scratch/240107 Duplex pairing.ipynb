{
 "cells": [
  {
   "cell_type": "code",
   "execution_count": null,
   "id": "41c57f7d-eb34-40e9-b810-10d4c44d68b2",
   "metadata": {},
   "outputs": [],
   "source": [
    "import itertools as it\n",
    "import operator\n",
    "import re\n",
    "import subprocess\n",
    "import tempfile\n",
    "import time\n",
    "from collections import Counter, defaultdict\n",
    "from functools import partial\n",
    "from pathlib import Path\n",
    "\n",
    "import awkward as ak\n",
    "import duckdb\n",
    "import gfapy\n",
    "import holoviews as hv\n",
    "import ibis\n",
    "import matplotlib.pyplot as plt\n",
    "import numba\n",
    "import numpy as np\n",
    "import pandas as pd\n",
    "import parasail\n",
    "import pod5\n",
    "import polars as pl\n",
    "import pyabpoa\n",
    "import pyarrow as pa\n",
    "import pyarrow.compute as pc\n",
    "import pyarrow.dataset as ds\n",
    "import pyfastx\n",
    "import pysam\n",
    "import spoa\n",
    "from Bio import SeqIO\n",
    "from Bio.Seq import Seq\n",
    "from Bio.SeqRecord import SeqRecord\n",
    "from pyarrow import csv\n",
    "from pywfa import WavefrontAligner\n",
    "from tqdm.auto import tqdm, trange"
   ]
  },
  {
   "cell_type": "code",
   "execution_count": null,
   "id": "f4ec68fd-4dab-43a1-a74d-fc2137f04acb",
   "metadata": {},
   "outputs": [],
   "source": [
    "%load_ext autoreload\n",
    "%autoreload 2"
   ]
  },
  {
   "cell_type": "code",
   "execution_count": null,
   "id": "6d3d323b-2fd5-44cd-b9b0-ed41db593de3",
   "metadata": {},
   "outputs": [],
   "source": [
    "import paulssonlab.sequencing.align as align\n",
    "import paulssonlab.sequencing.cigar as scigar\n",
    "import paulssonlab.sequencing.consensus as con\n",
    "import paulssonlab.sequencing.gfa as sgfa\n",
    "import paulssonlab.sequencing.io as sio\n",
    "import paulssonlab.sequencing.processing as processing\n",
    "import paulssonlab.sequencing.uuid as uuid\n",
    "from paulssonlab.util.sequence import reverse_complement"
   ]
  },
  {
   "cell_type": "code",
   "execution_count": null,
   "id": "f117a156-f6f6-423f-81be-bb5eed890a23",
   "metadata": {},
   "outputs": [],
   "source": [
    "hv.extension(\"bokeh\")"
   ]
  },
  {
   "cell_type": "code",
   "execution_count": null,
   "id": "ab1a37e0-1304-4373-a431-bdbd42cff000",
   "metadata": {},
   "outputs": [],
   "source": [
    "%load_ext pyinstrument\n",
    "import line_profiler\n",
    "import pyinstrument\n",
    "\n",
    "%load_ext line_profiler"
   ]
  },
  {
   "cell_type": "code",
   "execution_count": null,
   "id": "d286b864-7447-4195-8a34-2ede229b0b4c",
   "metadata": {},
   "outputs": [],
   "source": [
    "pl.enable_string_cache()"
   ]
  },
  {
   "cell_type": "markdown",
   "id": "87262c91-3af5-492b-a2f5-905c72ef5d15",
   "metadata": {},
   "source": [
    "# Config"
   ]
  },
  {
   "cell_type": "code",
   "execution_count": null,
   "id": "4d631ced-8131-4d91-8d26-23e49fdfccea",
   "metadata": {},
   "outputs": [],
   "source": [
    "gfa_filename = \"/home/jqs1/scratch3/jqs1/sequencing/230930_alignment_test/barcode.gfa\""
   ]
  },
  {
   "cell_type": "code",
   "execution_count": null,
   "id": "09df61df-251e-49fa-a9c8-4f63a4e4710b",
   "metadata": {},
   "outputs": [],
   "source": [
    "gfa = gfapy.Gfa.from_file(gfa_filename)"
   ]
  },
  {
   "cell_type": "markdown",
   "id": "7059d066-a648-4dd8-803b-daa2d92a732d",
   "metadata": {},
   "source": [
    "# Duplex pairing"
   ]
  },
  {
   "cell_type": "code",
   "execution_count": null,
   "id": "65eb1e57-aee3-43e0-8a01-317aeeffdbe4",
   "metadata": {},
   "outputs": [],
   "source": [
    "# bam_filename = \"/home/jqs1/scratch3/jqs1/sequencing/230930_alignment_test/230707_repressilators/channel-135_merged.bam\"\n",
    "# bam_filename = \"/home/jqs1/scratch3/jqs1/sequencing/230922_bcd_rbses_constitutive/20230922_1104_1A_PAQ83451_8d610a8c/bam_pass/channel-100_merged.bam\"\n",
    "bam_filename = \"/home/jqs1/scratch/sequencing/230707_repressilators/20230707_2040_MN35044_FAS94231_25542e0d/_temp/channel-1_merged.bam\"\n",
    "gaf_filename = \"/home/jqs1/scratch/sequencing/230707_repressilators/20230707_2040_MN35044_FAS94231_25542e0d/_temp/channel-1_merged.gaf\""
   ]
  },
  {
   "cell_type": "code",
   "execution_count": null,
   "id": "af0fd4de-b51d-45e4-8d75-7acbc5941ad0",
   "metadata": {},
   "outputs": [],
   "source": [
    "# %%time\n",
    "# bam = pysam.AlignmentFile(bam_filename, check_sq=False)\n",
    "# bam.reset()\n",
    "# reads = [{\"name\": read.query_name, **dict(read.tags)} for read in tqdm(bam.fetch(until_eof=True))]"
   ]
  },
  {
   "cell_type": "code",
   "execution_count": null,
   "id": "f5cbcd32-724e-4510-9e13-8b2cbb81de07",
   "metadata": {},
   "outputs": [],
   "source": [
    "# %%time\n",
    "# reads = pa.Table.from_batches(tqdm(sio.iter_bam_and_gaf(bam_filename, gaf_filename, include_unaligned=False)))"
   ]
  },
  {
   "cell_type": "code",
   "execution_count": null,
   "id": "862956ca-4186-4f68-8ffd-e73694a9a557",
   "metadata": {},
   "outputs": [],
   "source": [
    "%%time\n",
    "df = processing.load_pairing_data(bam_filename, gaf_filename)"
   ]
  },
  {
   "cell_type": "code",
   "execution_count": null,
   "id": "5a00fa1e-edb4-4015-bcda-8b30c19c880e",
   "metadata": {},
   "outputs": [],
   "source": [
    "df"
   ]
  },
  {
   "cell_type": "code",
   "execution_count": null,
   "id": "c95774cc-cf37-479e-bed0-c0b89f9ed536",
   "metadata": {},
   "outputs": [],
   "source": [
    "%%time\n",
    "batches = []\n",
    "for batch in tqdm(\n",
    "    sio.iter_bam_and_gaf(bam_filename, gaf_filename, include_unaligned=False)\n",
    "):\n",
    "    batch = batch.select(\n",
    "        [\"name\", \"read_seq\", \"path\", \"qs\", \"mx\", \"ch\", \"st\", \"du\", \"pi\"]\n",
    "    )\n",
    "    schema = batch.schema\n",
    "    schema = schema.set(\n",
    "        schema.names.index(\"st\"), pa.field(\"st\", pa.timestamp(\"ms\", \"UTC\"))\n",
    "    )\n",
    "    batch = pa.RecordBatch.from_pydict(\n",
    "        {\n",
    "            **batch.to_pydict(),\n",
    "            \"st\": batch.column(\"st\").cast(pa.timestamp(\"ms\", \"UTC\")),\n",
    "        },\n",
    "        schema=schema,\n",
    "    )\n",
    "    batches.append(batch)\n",
    "df = pl.from_arrow(batches)\n",
    "df2 = df.with_columns(pl.col(\"read_seq\").str.len_bytes().alias(\"read_len\")).select(\n",
    "    pl.all().exclude(\"read_seq\")\n",
    ")"
   ]
  },
  {
   "cell_type": "code",
   "execution_count": null,
   "id": "4174309b-78ab-48c8-bd5a-8d5c0c052763",
   "metadata": {},
   "outputs": [],
   "source": [
    "pl.LazyFrame."
   ]
  },
  {
   "cell_type": "code",
   "execution_count": null,
   "id": "8f1b48f0-59a1-4b58-8e8e-2eff6df16e63",
   "metadata": {},
   "outputs": [],
   "source": [
    "?pl.concat"
   ]
  },
  {
   "cell_type": "code",
   "execution_count": null,
   "id": "5e531660-3559-4a67-9a18-d641ed4a3f49",
   "metadata": {},
   "outputs": [],
   "source": [
    "?pl.LazyFrame"
   ]
  },
  {
   "cell_type": "code",
   "execution_count": null,
   "id": "03db0623-9df1-46a1-9361-9ec25387d043",
   "metadata": {},
   "outputs": [],
   "source": [
    "pl.LazyFrame(\n",
    "    iter(batches),\n",
    ").tail().collect()  # .with_columns((pl.col(\"qs\") + 1000).alias(\"read_len\")).tail()"
   ]
  },
  {
   "cell_type": "code",
   "execution_count": null,
   "id": "4dec6735-9ef7-45d3-bd9f-ad2ea422f7c1",
   "metadata": {},
   "outputs": [],
   "source": [
    "df2"
   ]
  },
  {
   "cell_type": "code",
   "execution_count": null,
   "id": "55e765d1-5fba-4c88-8b8c-f49861506246",
   "metadata": {},
   "outputs": [],
   "source": [
    "import networkx as nx\n",
    "\n",
    "include = []\n",
    "include_prefix = []\n",
    "exclude = [\"UNS9\", \"BC:UPSTREAM\", \"BC:JUNCTION\", \"BC:T7_TERM\", \"BC:SPACER2\"]\n",
    "exclude_prefix = []\n",
    "###\n",
    "gfa = gfapy.Gfa.from_file(gfa_filename)\n",
    "gfa = sgfa.filter_gfa(gfa, include, include_prefix, exclude, exclude_prefix)\n",
    "graph = sgfa.gfa_to_dag(gfa)\n",
    "# weakly_connected_components is a generator, so only compute once\n",
    "wccs = list(nx.weakly_connected_components(graph))\n",
    "forward_segments = sgfa.dag_forward_segments(graph, wccs=wccs)"
   ]
  },
  {
   "cell_type": "code",
   "execution_count": null,
   "id": "ebf73e09-3873-42c1-a872-ae5da7581c97",
   "metadata": {},
   "outputs": [],
   "source": [
    "(\n",
    "    path_filter,\n",
    "    _,\n",
    "    reverse_path_mapping,\n",
    ") = processing._segments_for_normalize_path(forward_segments)"
   ]
  },
  {
   "cell_type": "code",
   "execution_count": null,
   "id": "2beae166-5f0d-4cc6-b91b-68023cdb220e",
   "metadata": {},
   "outputs": [],
   "source": [
    "df0 = df"
   ]
  },
  {
   "cell_type": "code",
   "execution_count": null,
   "id": "534278a6-7a01-496c-872f-eafecd741fb4",
   "metadata": {},
   "outputs": [],
   "source": [
    "df = (\n",
    "    df0.rename({\"path\": \"full_path\"})\n",
    "    # .is_first_distinct() picks better (primary) alignment instead of alternate alignment\n",
    "    # if input is in GAF order\n",
    "    # .filter(pl.col(\"name\").is_first_distinct())\n",
    "    # TODO: polars bug, is_first_distinct() returns empty dataframe\n",
    "    # when used in a more complicated lazy query,\n",
    "    # exact cause unknown\n",
    "    .filter(pl.col(\"name\").is_first_distinct())\n",
    "    .with_columns(\n",
    "        pl.col(\"full_path\")\n",
    "        .list.set_intersection(path_filter)\n",
    "        # TODO: waiting on https://github.com/pola-rs/polars/issues/11735\n",
    "        # to keep path columns as categorical\n",
    "        .cast(pl.List(pl.Categorical))\n",
    "        .alias(\"_path\"),\n",
    "    )\n",
    "    .with_columns(\n",
    "        pl.col(\"_path\")\n",
    "        .list.reverse()\n",
    "        .list.eval(pl.element().replace(reverse_path_mapping, default=None))\n",
    "        .alias(\"_path_reversed\"),\n",
    "    )\n",
    ")\n",
    "# if not keep_unaligned:\n",
    "#     df = df.filter(pl.col(\"path\").is_not_null())\n",
    "# if endpoints:\n",
    "#     df = df.filter(\n",
    "#         (pl.col(\"path\").list.set_intersection(endpoints[0]).list.len() > 0)\n",
    "#         & (pl.col(\"path\").list.set_intersection(endpoints[1]).list.len() > 0)\n",
    "#     )"
   ]
  },
  {
   "cell_type": "code",
   "execution_count": null,
   "id": "4f4790ef-3340-4b58-9868-76e995b2ea5c",
   "metadata": {},
   "outputs": [],
   "source": [
    "df2 = df  # .filter(pl.col(\"ch\") == 134, pl.col(\"mx\") == 1)\n",
    "df_sorted = df2.sort(\"st\")\n",
    "df_endtime = df2.with_columns(\n",
    "    (pl.col(\"st\") + pl.duration(seconds=\"du\")).alias(\"_endtime\")\n",
    ").sort(\"_endtime\")"
   ]
  },
  {
   "cell_type": "code",
   "execution_count": null,
   "id": "355f4cac-945b-4c15-98e5-6006233b9253",
   "metadata": {},
   "outputs": [],
   "source": [
    "%%time\n",
    "df_joined = df_endtime.join_asof(\n",
    "    df_sorted, left_on=\"_endtime\", right_on=\"st\", strategy=\"forward\", tolerance=\"10s\"\n",
    ")"
   ]
  },
  {
   "cell_type": "code",
   "execution_count": null,
   "id": "5449186b-21e3-4e49-9b12-ee7bbfd7de31",
   "metadata": {},
   "outputs": [],
   "source": [
    "df_joined.filter(pl.col(\"_path\") == pl.col(\"_path_reversed_right\"))"
   ]
  },
  {
   "cell_type": "code",
   "execution_count": null,
   "id": "743ab66d-36d7-468a-bb1f-1adc34079096",
   "metadata": {},
   "outputs": [],
   "source": [
    "%%time\n",
    "df_joined = df_endtime.join_asof(\n",
    "    df_sorted,\n",
    "    left_on=\"_endtime\",\n",
    "    right_on=\"st\",\n",
    "    by=[\"ch\", \"mx\"],\n",
    "    strategy=\"forward\",\n",
    "    tolerance=\"10s\",\n",
    ")"
   ]
  },
  {
   "cell_type": "code",
   "execution_count": null,
   "id": "26dbfc93-72ae-401f-a265-1ba86d839ccb",
   "metadata": {},
   "outputs": [],
   "source": [
    "df_joined.filter(pl.col(\"name_right\").is_not_null())"
   ]
  },
  {
   "cell_type": "code",
   "execution_count": null,
   "id": "fe109ec1-c93a-46f4-8e2d-bfeb599529d4",
   "metadata": {},
   "outputs": [],
   "source": [
    "df4.with_columns((pl.col(\"st_right\") - pl.col(\"_endtime\")).alias(\"dt\"))"
   ]
  },
  {
   "cell_type": "code",
   "execution_count": null,
   "id": "c51b95a6-38b6-493a-9394-39c38482e181",
   "metadata": {},
   "outputs": [],
   "source": [
    "df4.filter(pl.col(\"name_right\").is_not_null())"
   ]
  }
 ],
 "metadata": {
  "kernelspec": {
   "display_name": "Python 3 (ipykernel)",
   "language": "python",
   "name": "python3"
  },
  "language_info": {
   "codemirror_mode": {
    "name": "ipython",
    "version": 3
   },
   "file_extension": ".py",
   "mimetype": "text/x-python",
   "name": "python",
   "nbconvert_exporter": "python",
   "pygments_lexer": "ipython3",
   "version": "3.10.13"
  }
 },
 "nbformat": 4,
 "nbformat_minor": 5
}
