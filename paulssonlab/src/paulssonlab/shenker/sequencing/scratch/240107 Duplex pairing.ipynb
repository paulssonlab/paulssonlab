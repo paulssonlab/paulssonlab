{
 "cells": [
  {
   "cell_type": "code",
   "execution_count": null,
   "id": "41c57f7d-eb34-40e9-b810-10d4c44d68b2",
   "metadata": {},
   "outputs": [],
   "source": [
    "import itertools as it\n",
    "import operator\n",
    "import re\n",
    "import subprocess\n",
    "import tempfile\n",
    "import time\n",
    "from collections import Counter, defaultdict\n",
    "from datetime import timedelta\n",
    "from functools import partial\n",
    "from pathlib import Path\n",
    "\n",
    "import awkward as ak\n",
    "import duckdb\n",
    "import gfapy\n",
    "import holoviews as hv\n",
    "import ibis\n",
    "import matplotlib.pyplot as plt\n",
    "import numba\n",
    "import numpy as np\n",
    "import pandas as pd\n",
    "import parasail\n",
    "import pod5\n",
    "import polars as pl\n",
    "import pyabpoa\n",
    "import pyarrow as pa\n",
    "import pyarrow.compute as pc\n",
    "import pyarrow.dataset as ds\n",
    "import pyfastx\n",
    "import pysam\n",
    "import spoa\n",
    "from Bio import SeqIO\n",
    "from Bio.Seq import Seq\n",
    "from Bio.SeqRecord import SeqRecord\n",
    "from pyarrow import csv\n",
    "from pywfa import WavefrontAligner\n",
    "from tqdm.auto import tqdm, trange"
   ]
  },
  {
   "cell_type": "code",
   "execution_count": null,
   "id": "f4ec68fd-4dab-43a1-a74d-fc2137f04acb",
   "metadata": {},
   "outputs": [],
   "source": [
    "%load_ext autoreload\n",
    "%autoreload 2"
   ]
  },
  {
   "cell_type": "code",
   "execution_count": null,
   "id": "6d3d323b-2fd5-44cd-b9b0-ed41db593de3",
   "metadata": {},
   "outputs": [],
   "source": [
    "import paulssonlab.sequencing.align as align\n",
    "import paulssonlab.sequencing.cigar as scigar\n",
    "import paulssonlab.sequencing.consensus as con\n",
    "import paulssonlab.sequencing.gfa as sgfa\n",
    "import paulssonlab.sequencing.io as sio\n",
    "import paulssonlab.sequencing.processing as processing\n",
    "import paulssonlab.sequencing.uuid as uuid\n",
    "from paulssonlab.util.sequence import reverse_complement"
   ]
  },
  {
   "cell_type": "code",
   "execution_count": null,
   "id": "f117a156-f6f6-423f-81be-bb5eed890a23",
   "metadata": {},
   "outputs": [],
   "source": [
    "hv.extension(\"bokeh\")"
   ]
  },
  {
   "cell_type": "code",
   "execution_count": null,
   "id": "ab1a37e0-1304-4373-a431-bdbd42cff000",
   "metadata": {},
   "outputs": [],
   "source": [
    "%load_ext pyinstrument\n",
    "import line_profiler\n",
    "import pyinstrument\n",
    "\n",
    "%load_ext line_profiler"
   ]
  },
  {
   "cell_type": "code",
   "execution_count": null,
   "id": "d286b864-7447-4195-8a34-2ede229b0b4c",
   "metadata": {},
   "outputs": [],
   "source": [
    "pl.enable_string_cache()"
   ]
  },
  {
   "cell_type": "markdown",
   "id": "87262c91-3af5-492b-a2f5-905c72ef5d15",
   "metadata": {},
   "source": [
    "# Config"
   ]
  },
  {
   "cell_type": "code",
   "execution_count": null,
   "id": "4d631ced-8131-4d91-8d26-23e49fdfccea",
   "metadata": {},
   "outputs": [],
   "source": [
    "gfa_filename = \"/home/jqs1/scratch3/jqs1/sequencing/230930_alignment_test/barcode.gfa\""
   ]
  },
  {
   "cell_type": "code",
   "execution_count": null,
   "id": "09df61df-251e-49fa-a9c8-4f63a4e4710b",
   "metadata": {},
   "outputs": [],
   "source": [
    "gfa = gfapy.Gfa.from_file(gfa_filename)"
   ]
  },
  {
   "cell_type": "markdown",
   "id": "7059d066-a648-4dd8-803b-daa2d92a732d",
   "metadata": {},
   "source": [
    "# Duplex pairing"
   ]
  },
  {
   "cell_type": "code",
   "execution_count": null,
   "id": "65eb1e57-aee3-43e0-8a01-317aeeffdbe4",
   "metadata": {},
   "outputs": [],
   "source": [
    "# bam_filename = \"/home/jqs1/scratch3/jqs1/sequencing/230930_alignment_test/230707_repressilators/channel-135_merged.bam\"\n",
    "# bam_filename = \"/home/jqs1/scratch3/jqs1/sequencing/230922_bcd_rbses_constitutive/20230922_1104_1A_PAQ83451_8d610a8c/bam_pass/channel-100_merged.bam\"\n",
    "bam_filename = \"/home/jqs1/scratch/sequencing/230707_repressilators/20230707_2040_MN35044_FAS94231_25542e0d/_temp/channel-1_merged.bam\"\n",
    "gaf_filename = \"/home/jqs1/scratch/sequencing/230707_repressilators/20230707_2040_MN35044_FAS94231_25542e0d/_temp/channel-1_merged.gaf\""
   ]
  },
  {
   "cell_type": "code",
   "execution_count": null,
   "id": "af0fd4de-b51d-45e4-8d75-7acbc5941ad0",
   "metadata": {},
   "outputs": [],
   "source": [
    "# %%time\n",
    "# bam = pysam.AlignmentFile(bam_filename, check_sq=False)\n",
    "# bam.reset()\n",
    "# reads = [{\"name\": read.query_name, **dict(read.tags)} for read in tqdm(bam.fetch(until_eof=True))]"
   ]
  },
  {
   "cell_type": "code",
   "execution_count": null,
   "id": "f5cbcd32-724e-4510-9e13-8b2cbb81de07",
   "metadata": {},
   "outputs": [],
   "source": [
    "# %%time\n",
    "# reads = pa.Table.from_batches(tqdm(sio.iter_bam_and_gaf(bam_filename, gaf_filename, include_unaligned=False)))"
   ]
  },
  {
   "cell_type": "code",
   "execution_count": null,
   "id": "862956ca-4186-4f68-8ffd-e73694a9a557",
   "metadata": {},
   "outputs": [],
   "source": [
    "%%time\n",
    "df = processing.load_pairing_data(bam_filename, gaf_filename)"
   ]
  },
  {
   "cell_type": "code",
   "execution_count": null,
   "id": "55e765d1-5fba-4c88-8b8c-f49861506246",
   "metadata": {},
   "outputs": [],
   "source": [
    "import networkx as nx\n",
    "\n",
    "include = []\n",
    "include_prefix = []\n",
    "exclude = [\"UNS9\", \"BC:UPSTREAM\", \"BC:JUNCTION\", \"BC:T7_TERM\", \"BC:SPACER2\"]\n",
    "exclude_prefix = []\n",
    "###\n",
    "gfa = gfapy.Gfa.from_file(gfa_filename)\n",
    "gfa = sgfa.filter_gfa(gfa, include, include_prefix, exclude, exclude_prefix)\n",
    "graph = sgfa.gfa_to_dag(gfa)\n",
    "# weakly_connected_components is a generator, so only compute once\n",
    "wccs = list(nx.weakly_connected_components(graph))\n",
    "forward_segments = sgfa.dag_forward_segments(graph, wccs=wccs)\n",
    "endpoints = sgfa.dag_endpoints(graph, wccs=wccs)"
   ]
  },
  {
   "cell_type": "code",
   "execution_count": null,
   "id": "ebf73e09-3873-42c1-a872-ae5da7581c97",
   "metadata": {},
   "outputs": [],
   "source": [
    "(\n",
    "    path_filter,\n",
    "    _,\n",
    "    reverse_path_mapping,\n",
    ") = processing._segments_for_normalize_path(forward_segments)"
   ]
  },
  {
   "cell_type": "code",
   "execution_count": null,
   "id": "9b01d969-9e02-49ec-b937-4c333d3e9b81",
   "metadata": {},
   "outputs": [],
   "source": [
    "df2 = df.filter(pl.col(\"qs\") >= 8)"
   ]
  },
  {
   "cell_type": "code",
   "execution_count": null,
   "id": "5e27681b-49f5-4d15-b6fe-e749d86a8ece",
   "metadata": {},
   "outputs": [],
   "source": [
    "df_pairs = processing.find_duplex_pairs(\n",
    "    df2, timedelta(seconds=3), forward_segments, endpoints=endpoints\n",
    ")"
   ]
  },
  {
   "cell_type": "code",
   "execution_count": null,
   "id": "608f6062-38cc-447d-a078-03f102249f77",
   "metadata": {},
   "outputs": [],
   "source": [
    "df_pairs"
   ]
  },
  {
   "cell_type": "code",
   "execution_count": null,
   "id": "84cd0d4c-c7d0-4fc0-aedf-252baeecaa19",
   "metadata": {},
   "outputs": [],
   "source": [
    "dupes = (\n",
    "    pl.concat([df_pairs[\"name\"], df_pairs[\"name_right\"]])\n",
    "    .value_counts()\n",
    "    .filter(pl.col(\"counts\") > 1)\n",
    ")\n",
    "dupes"
   ]
  },
  {
   "cell_type": "code",
   "execution_count": null,
   "id": "08f61529-59c2-4979-9048-b8abc5823c3e",
   "metadata": {},
   "outputs": [],
   "source": [
    "df_pairs.filter(pl.col(\"name\").is_in(dupes[\"name\"]))"
   ]
  },
  {
   "cell_type": "code",
   "execution_count": null,
   "id": "f86754b0-2dae-42c6-a14a-f67c1be690d8",
   "metadata": {},
   "outputs": [],
   "source": [
    "df_pairs.filter(pl.col(\"name_right\").is_in(dupes[\"name\"]))"
   ]
  },
  {
   "cell_type": "code",
   "execution_count": null,
   "id": "bb25491a-4b09-46ec-83ef-695c8a7ed69b",
   "metadata": {},
   "outputs": [],
   "source": [
    "dts = [*np.linspace(0, 1, 11), *np.arange(2, 20)]\n",
    "bad = [\n",
    "    len(\n",
    "        processing.find_duplex_pairs(\n",
    "            df2, timedelta(seconds=float(dt)), forward_segments, endpoints=endpoints\n",
    "        )\n",
    "    )\n",
    "    for dt in tqdm(dts)\n",
    "]"
   ]
  },
  {
   "cell_type": "code",
   "execution_count": null,
   "id": "68a8fe4a-2bc0-4b6b-a067-871ef6ef5811",
   "metadata": {},
   "outputs": [],
   "source": [
    "plt.plot(dts, good, marker=\"x\")\n",
    "plt.plot(dts, bad, marker=\"x\");"
   ]
  },
  {
   "cell_type": "code",
   "execution_count": null,
   "id": "ece0ce48-7de4-4355-88b9-54c3bfffebca",
   "metadata": {},
   "outputs": [],
   "source": [
    "plt.plot(dts, np.array(good) / np.array(bad), marker=\"x\");"
   ]
  },
  {
   "cell_type": "code",
   "execution_count": null,
   "id": "ef6337ef-922a-405d-b5b9-1b4bd802d551",
   "metadata": {},
   "outputs": [],
   "source": [
    "good[12] / good[10]"
   ]
  },
  {
   "cell_type": "code",
   "execution_count": null,
   "id": "f9db6fc3-5fcd-4032-8ca3-cf960bd8bc1e",
   "metadata": {},
   "outputs": [],
   "source": [
    "dts[10]"
   ]
  }
 ],
 "metadata": {
  "kernelspec": {
   "display_name": "Python 3 (ipykernel)",
   "language": "python",
   "name": "python3"
  },
  "language_info": {
   "codemirror_mode": {
    "name": "ipython",
    "version": 3
   },
   "file_extension": ".py",
   "mimetype": "text/x-python",
   "name": "python",
   "nbconvert_exporter": "python",
   "pygments_lexer": "ipython3",
   "version": "3.10.13"
  }
 },
 "nbformat": 4,
 "nbformat_minor": 5
}
