{
 "cells": [
  {
   "cell_type": "code",
   "execution_count": null,
   "id": "41c57f7d-eb34-40e9-b810-10d4c44d68b2",
   "metadata": {},
   "outputs": [],
   "source": [
    "import itertools as it\n",
    "import operator\n",
    "import re\n",
    "import subprocess\n",
    "import tempfile\n",
    "import time\n",
    "from collections import Counter\n",
    "from pathlib import Path\n",
    "\n",
    "import gfapy\n",
    "import holoviews as hv\n",
    "import matplotlib.pyplot as plt\n",
    "import numpy as np\n",
    "import pandas as pd\n",
    "import pyarrow as pa\n",
    "import pyarrow.compute as pc\n",
    "import pyfastx\n",
    "from pyarrow import csv\n",
    "from tqdm.auto import tqdm, trange"
   ]
  },
  {
   "cell_type": "code",
   "execution_count": null,
   "id": "f4ec68fd-4dab-43a1-a74d-fc2137f04acb",
   "metadata": {},
   "outputs": [],
   "source": [
    "%load_ext autoreload\n",
    "%autoreload 2"
   ]
  },
  {
   "cell_type": "code",
   "execution_count": null,
   "id": "6d3d323b-2fd5-44cd-b9b0-ed41db593de3",
   "metadata": {},
   "outputs": [],
   "source": [
    "import paulssonlab.cloning.design as design\n",
    "import paulssonlab.cloning.sequence as sequence\n",
    "import paulssonlab.sequencing.io as sio"
   ]
  },
  {
   "cell_type": "code",
   "execution_count": null,
   "id": "f117a156-f6f6-423f-81be-bb5eed890a23",
   "metadata": {},
   "outputs": [],
   "source": [
    "hv.extension(\"bokeh\")"
   ]
  },
  {
   "cell_type": "markdown",
   "id": "852daa9a-2247-4f04-addf-baf37d226be1",
   "metadata": {},
   "source": [
    "# Functions"
   ]
  },
  {
   "cell_type": "code",
   "execution_count": null,
   "id": "7893b35d-65d8-45bd-915b-0ed691303254",
   "metadata": {},
   "outputs": [],
   "source": [
    "def mutagenize_seq(seq, q=0, error=0, letters=\"ATCG\", rng=None):\n",
    "    # mark errors as upper-case to make debugging easier (GraphAligner doesn't care)\n",
    "    letters = list(letters)\n",
    "    if rng is None:\n",
    "        rng = np.random.default_rng()\n",
    "    if q and error:\n",
    "        raise ValueError(\"at most one of q and error can be specified\")\n",
    "    if q:\n",
    "        error = 10 ** (-q / 10)\n",
    "    num_errors = rng.binomial(len(seq), error)\n",
    "    error_indices = rng.choice(len(seq), size=num_errors)\n",
    "    for idx in error_indices:\n",
    "        seq = seq[:idx] + rng.choice(letters) + seq[idx + 1 :]\n",
    "    return seq\n",
    "\n",
    "\n",
    "def generate_reads(segments, num_reads=100, q=0, error=0, rng=None):\n",
    "    if rng is None:\n",
    "        rng = np.random.default_rng()\n",
    "    num_choices = np.array([len(s) for s in segments])\n",
    "    num_segments = len(segments)\n",
    "    true_path = rng.integers(num_choices[np.newaxis, :], size=(num_reads, num_segments))\n",
    "    reversed = rng.integers(2, size=num_reads)\n",
    "    reads = []\n",
    "    for read_idx in range(num_reads):\n",
    "        read = \"\".join(\n",
    "            [\n",
    "                variants[variant_idx]\n",
    "                for variants, variant_idx in zip(segments, true_path[read_idx])\n",
    "            ]\n",
    "        )\n",
    "        read = mutagenize_seq(read, q=q, error=error, rng=rng)\n",
    "        ###### TODO\n",
    "        # read = (\n",
    "        #     read[0] + mutagenize_seq(read[1:-1], q=q, error=error, rng=rng) + read[-1]\n",
    "        # )\n",
    "        ######\n",
    "        if reversed[read_idx]:\n",
    "            read = str(sequence.reverse_complement(read))\n",
    "        ####### TODO\n",
    "        # read = \"N\" + read\n",
    "        # read = read[:-1] + \"G\"\n",
    "        # read = \"G\" + read[1:]\n",
    "        #######\n",
    "        reads.append(read)\n",
    "    # add trailing newline\n",
    "    formatted_reads = (\n",
    "        \"\\n\".join([f\">r{idx}\\n{read}\" for idx, read in enumerate(reads)]) + \"\\n\"\n",
    "    )\n",
    "    ground_truth = dict(true_path=true_path, reversed=reversed)\n",
    "    return formatted_reads, ground_truth"
   ]
  },
  {
   "cell_type": "code",
   "execution_count": null,
   "id": "8223b632-d043-43c3-b5be-b389597c37f2",
   "metadata": {},
   "outputs": [],
   "source": [
    "def generate_gfa(segments):\n",
    "    lines = [\"H\\tVN:Z:1.0\"]\n",
    "    lines.extend(\n",
    "        [\n",
    "            f\"S\\ts{s}={v}\\t{seq}\"\n",
    "            for s, variants in enumerate(segments)\n",
    "            for v, seq in enumerate(variants)\n",
    "        ]\n",
    "    )\n",
    "    lines.extend(\n",
    "        [\n",
    "            f\"L\\ts{s}={v1}\\t+\\ts{s+1}={v2}\\t+\\t0M\"\n",
    "            for s in range(len(segments) - 1)\n",
    "            for v1, v2 in it.product(\n",
    "                range(len(segments[s])), range(len(segments[s + 1]))\n",
    "            )\n",
    "        ]\n",
    "    )\n",
    "    return \"\\n\".join(lines) + \"\\n\"  # add trailing newline"
   ]
  },
  {
   "cell_type": "code",
   "execution_count": null,
   "id": "4ebaf1b4-bfed-4c48-bfdf-669d67bd7a93",
   "metadata": {},
   "outputs": [],
   "source": [
    "def run_aligner(gfa_filename, reads_filename, args=[]):\n",
    "    cmd_base = [\"/home/jqs1/micromamba/envs/graphaligner/bin/GraphAligner\"]\n",
    "    # cmd_base = [\"/home/jqs1/paulsson-home/bin/GraphAligner\"]\n",
    "    with tempfile.NamedTemporaryFile(mode=\"w+\", suffix=\".gaf\") as gaf_file:\n",
    "        cmd = [\n",
    "            *cmd_base,\n",
    "            \"-g\",\n",
    "            gfa_filename,\n",
    "            \"-f\",\n",
    "            reads_filename,\n",
    "            \"-a\",\n",
    "            gaf_file.name,\n",
    "            *args,\n",
    "        ]\n",
    "        start = time.time()\n",
    "        out = subprocess.run(cmd, capture_output=True)\n",
    "        stop = time.time()\n",
    "        if out.returncode != 0:\n",
    "            print(\"STDOUT:\")\n",
    "            print(out.stdout.decode())\n",
    "            print()\n",
    "            print(\"STDERR:\")\n",
    "            print(out.stderr.decode())\n",
    "            print()\n",
    "            raise RuntimeError(\"GraphAligner returned non-zero exit status\")\n",
    "        runtime = stop - start\n",
    "        print(\"STDOUT\")\n",
    "        print(out.stdout.decode())\n",
    "        print(\"STDERR\")\n",
    "        print(out.stderr.decode())\n",
    "        gaf = sio.read_gaf(gaf_file.name)\n",
    "        return gaf, runtime\n",
    "\n",
    "\n",
    "def run_aligner_synthetic(segments, args=[[\"-x\", \"vg\"]], num_reads=4, q=0, rng=None):\n",
    "    if rng is None:\n",
    "        rng = np.random.default_rng()\n",
    "    with (\n",
    "        tempfile.NamedTemporaryFile(mode=\"w+\", suffix=\".gfa\") as gfa_file,\n",
    "        tempfile.NamedTemporaryFile(mode=\"w+\", suffix=\".fasta\") as reads_file,\n",
    "    ):\n",
    "        gfa = generate_gfa(segments)\n",
    "        # print(gfa)\n",
    "        gfa_file.write(gfa)\n",
    "        gfa_file.flush()\n",
    "        reads, ground_truth = generate_reads(\n",
    "            segments, num_reads=num_reads, q=q, rng=rng\n",
    "        )\n",
    "        # print(reads)\n",
    "        reads_file.write(reads)\n",
    "        reads_file.flush()\n",
    "        res = []\n",
    "        for cmd_args in args:\n",
    "            res.append(run_aligner(gfa_file.name, reads_file.name, args=cmd_args))\n",
    "    return res, ground_truth"
   ]
  },
  {
   "cell_type": "code",
   "execution_count": null,
   "id": "1c5ae497-abce-49b6-9f9d-5327a07dbf3c",
   "metadata": {},
   "outputs": [],
   "source": [
    "def check_path_equality(path, true_path):\n",
    "    if path[0][0] == \"<\":\n",
    "        path = path[::-1]\n",
    "    if len(path) != len(true_path):\n",
    "        return False\n",
    "    for segment_idx, p in enumerate(path):\n",
    "        match = re.match(r\"(?:<|>)s(\\d+)=(\\d+)\", p)\n",
    "        if int(match.group(1)) != segment_idx:\n",
    "            return False\n",
    "        if int(match.group(2)) != true_path[segment_idx]:\n",
    "            return False\n",
    "    return True\n",
    "\n",
    "\n",
    "def check_alignment(gaf, ground_truth):\n",
    "    errors = set()\n",
    "    for idx in range(len(gaf)):\n",
    "        path = gaf.column(\"path\")[idx].as_py()\n",
    "        if not check_path_equality(path, ground_truth[\"true_path\"][idx]):\n",
    "            # TODO\n",
    "            # print(\">>>\",path,ground_truth[\"true_path\"][idx])\n",
    "            errors.add(idx)\n",
    "        if (path[0][0] == \"<\") != ground_truth[\"reversed\"][idx]:\n",
    "            errors.add(idx)\n",
    "    return errors"
   ]
  },
  {
   "cell_type": "markdown",
   "id": "0d050f91-79f4-491b-a4c4-a208210eff14",
   "metadata": {},
   "source": [
    "# Config"
   ]
  },
  {
   "cell_type": "code",
   "execution_count": null,
   "id": "ec13865c-feee-429b-9929-a35b71e07a10",
   "metadata": {},
   "outputs": [],
   "source": [
    "# data_dir = Path(\"/home/jqs1/scratch/sequencing/230707_repressilators/20230707_2040_MN35044_FAS94231_25542e0d/_temp/\")\n",
    "# carlos_variants = pyfastx.Fasta(data_dir / \"230726_carlos/Savinov_Fragment_key.fasta\")"
   ]
  },
  {
   "cell_type": "markdown",
   "id": "ffcfb9d7-0fd1-45eb-8bc1-95f05b336965",
   "metadata": {},
   "source": [
    "# Test"
   ]
  },
  {
   "cell_type": "code",
   "execution_count": null,
   "id": "e3de5682-e861-429c-9b2c-65ab1d7a98d1",
   "metadata": {},
   "outputs": [],
   "source": [
    "# SEE: https://github.com/maickrau/GraphAligner/issues/18#issuecomment-635793833"
   ]
  },
  {
   "cell_type": "code",
   "execution_count": null,
   "id": "4358feea-9fbe-47c5-b9a2-ef7206607adc",
   "metadata": {},
   "outputs": [],
   "source": [
    "# TODO: REPLACE RANDOM_BASES, use rng?"
   ]
  },
  {
   "cell_type": "code",
   "execution_count": null,
   "id": "1e7445b4-5dd5-45eb-b91c-5396f8ef0afb",
   "metadata": {},
   "outputs": [],
   "source": [
    "# segments = [[\"aa\", \"cc\"], [\"tttat\", \"cccgc\"], [\"tccccccc\"]]\n",
    "# segments = [[\"aa\"*20, \"cc\"*20], [\"tttat\"*5, \"cccgc\"*5], [\"tccccccc\"*5]]\n",
    "# segments = [\n",
    "#     [design.random_bases(40) for i in range(2)],\n",
    "#     [design.random_bases(40) for i in range(2)],\n",
    "#     [design.random_bases(40) for i in range(2)],\n",
    "# ]\n",
    "segments = [\n",
    "    [design.random_bases(40, \"atcg\") for i in range(2)],\n",
    "    [design.random_bases(40, \"atcg\") for i in range(2)],\n",
    "    [design.random_bases(10, \"atcg\") for i in range(10)],\n",
    "    [design.random_bases(40, \"atcg\") for i in range(2)],\n",
    "    [design.random_bases(40, \"atcg\") for i in range(2)],\n",
    "]"
   ]
  },
  {
   "cell_type": "code",
   "execution_count": null,
   "id": "f4826831-048b-4be9-a0e0-05fa44b69cca",
   "metadata": {},
   "outputs": [],
   "source": [
    "%%time\n",
    "# base_args = [\"-b\", \"100000\", \"-C\", \"500000\", \"--verbose\"]\n",
    "# base_args = [\"--verbose\", \"--seeds-clustersize\", \"0\"]\n",
    "base_args = [\"--verbose\"]\n",
    "graphaligner_args = [\n",
    "    # [*base_args, \"-x\", \"vg\"],\n",
    "    [\n",
    "        *base_args,\n",
    "        \"-b\",\n",
    "        \"100000\",\n",
    "        \"-C\",\n",
    "        \"500000\",\n",
    "        \"--seedless-DP\",\n",
    "        \"--DP-restart-stride\",\n",
    "        \"1000\",\n",
    "    ],\n",
    "    # [*base_args, \"-x\", \"dbg\"],\n",
    "    # [*base_args, \"-b\", \"15\", \"-C\", \"-1\", \"--seeds-minimizer-windowsize\", \"20\", \"--seeds-minimizer-density\", \"0\", \"--seeds-minimizer-length\", \"10\"],\n",
    "    # [\n",
    "    #     *base_args,\n",
    "    #     \"--seeds-mxm-windowsize\",\n",
    "    #     \"500\",\n",
    "    #     \"--seeds-mxm-length\",\n",
    "    #     \"30\",\n",
    "    #     \"--seeds-mem-count\",\n",
    "    #     \"10000\",\n",
    "    #     \"--bandwidth\",\n",
    "    #     \"15\",\n",
    "    #     # \"--multimap-score-fraction\",\n",
    "    #     # \"0.99\",\n",
    "    #     # \"--precise-clipping\",\n",
    "    #     # \"0.85\",\n",
    "    #     \"--min-alignment-score\",\n",
    "    #     \"5000\",\n",
    "    #     # \"--clip-ambiguous-ends\",\n",
    "    #     # \"100\",\n",
    "    #     # \"--overlap-incompatible-cutoff\",\n",
    "    #     # \"0.15\",\n",
    "    #     \"--max-trace-count\",\n",
    "    #     \"5\",\n",
    "    # ],\n",
    "    # [*base_args, \"-b\", \"15\", \"-C\", \"-1\", \"--seeds-mum-count\", \"-1\"],\n",
    "    # [*base_args, \"-b\", \"15\", \"-C\", \"-1\", \"--seeds-mem-count\", \"-1\"],\n",
    "    # [\n",
    "    #     *base_args,\n",
    "    #     \"-b\",\n",
    "    #     \"15\",\n",
    "    #     \"-C\",\n",
    "    #     \"-1\",\n",
    "    #     \"--seeds-mum-count\",\n",
    "    #     \"-1\",\n",
    "    #     \"--max-trace-count\",\n",
    "    #     \"-1\",\n",
    "    #     \"--max-cluster-extend\",\n",
    "    #     \"-1\",\n",
    "    # ],\n",
    "    # [\n",
    "    #     *base_args,\n",
    "    #     \"-b\",\n",
    "    #     \"15\",\n",
    "    #     \"-C\",\n",
    "    #     \"-1\",\n",
    "    #     \"--seeds-mem-count\",\n",
    "    #     \"-1\",\n",
    "    #     \"--max-trace-count\",\n",
    "    #     \"-1\",\n",
    "    #     \"--max-cluster-extend\",\n",
    "    #     \"-1\",\n",
    "    # ],\n",
    "    # [\n",
    "    #     *base_args,\n",
    "    #     # \"--seedless-DP\",\n",
    "    #     # \"--DP-restart-stride\",\n",
    "    #     # \"1000\",\n",
    "    #     # \"--precise-clipping\",\n",
    "    #     # \"0.502\",\n",
    "    #     # \"--X-drop\",\n",
    "    #     # \"1000000\",\n",
    "    # ],\n",
    "]\n",
    "res, ground_truth = run_aligner_synthetic(\n",
    "    segments,\n",
    "    num_reads=100,\n",
    "    args=graphaligner_args,\n",
    "    q=10,\n",
    "    rng=np.random.default_rng(714),\n",
    ")\n",
    "errors = [check_alignment(run[0], ground_truth) for run in res]\n",
    "times = [run[1] for run in res]"
   ]
  },
  {
   "cell_type": "code",
   "execution_count": null,
   "id": "38db808a-0b33-4b77-b4dc-a400e9cac4af",
   "metadata": {},
   "outputs": [],
   "source": [
    "res[0][0][\"path\"]"
   ]
  },
  {
   "cell_type": "code",
   "execution_count": null,
   "id": "45257c49-6237-44f8-bd65-7e69416b9758",
   "metadata": {},
   "outputs": [],
   "source": [
    "for t, run_errors, run_args in zip(times, errors, graphaligner_args):\n",
    "    print(f\"{' '.join(run_args).rjust(80)}: {len(run_errors)} ({t:.2f}s)\")"
   ]
  },
  {
   "cell_type": "code",
   "execution_count": null,
   "id": "58f739e9-f10e-4927-9fba-69ddf325874d",
   "metadata": {},
   "outputs": [],
   "source": [
    "res"
   ]
  },
  {
   "cell_type": "code",
   "execution_count": null,
   "id": "7b7bb02f-386d-4f48-b446-ea5523fb7831",
   "metadata": {},
   "outputs": [],
   "source": [
    "ground_truth"
   ]
  },
  {
   "cell_type": "code",
   "execution_count": null,
   "id": "a35f25a8-26b7-429e-9298-fcd3a0bc73f5",
   "metadata": {},
   "outputs": [],
   "source": [
    "res[0][0].column(\"path\")"
   ]
  },
  {
   "cell_type": "markdown",
   "id": "cc418ca4-0c1f-4068-87f0-b24e76991a82",
   "metadata": {},
   "source": [
    "# GFA name mapping"
   ]
  },
  {
   "cell_type": "code",
   "execution_count": null,
   "id": "4f97ae33-55d6-4ee5-9fb3-678ad16efc50",
   "metadata": {},
   "outputs": [],
   "source": [
    "g = gfapy.Gfa.from_file(\n",
    "    \"/home/jqs1/scratch/sequencing/230707_repressilators/20230707_2040_MN35044_FAS94231_25542e0d/references/pLIB419.gfa\"\n",
    ")"
   ]
  },
  {
   "cell_type": "code",
   "execution_count": null,
   "id": "736e0878-131e-4ca6-8c4c-dfe63639e81c",
   "metadata": {},
   "outputs": [],
   "source": [
    "g.segments[0].name = \"foo\""
   ]
  },
  {
   "cell_type": "code",
   "execution_count": null,
   "id": "42fb8e0f-176d-4505-b3a8-83d9aa644976",
   "metadata": {},
   "outputs": [],
   "source": [
    "print(g.to_gfa1_s())"
   ]
  },
  {
   "cell_type": "markdown",
   "id": "82bd9f42-b86e-4869-ada2-26dbbe56b420",
   "metadata": {},
   "source": [
    "# RecGraph mtx"
   ]
  },
  {
   "cell_type": "code",
   "execution_count": null,
   "id": "e4de59f9-7a0a-406d-93d0-4b27ce4d6e06",
   "metadata": {},
   "outputs": [],
   "source": [
    "DEGENERATE_BASES = {\n",
    "    \"R\": \"AG\",\n",
    "    \"Y\": \"CT\",\n",
    "    \"M\": \"AC\",\n",
    "    \"K\": \"GT\",\n",
    "    \"S\": \"CG\",\n",
    "    \"W\": \"AT\",\n",
    "    \"B\": \"CGT\",\n",
    "    \"D\": \"AGT\",\n",
    "    \"H\": \"ACT\",\n",
    "    \"V\": \"ACG\",\n",
    "    \"N\": \"ACGT\",\n",
    "}\n",
    "\n",
    "\n",
    "def degenerate_recgraph_matrix(\n",
    "    match,\n",
    "    mismatch,\n",
    "    degenerate_match=None,\n",
    "    degenerate_mismatch=None,\n",
    "    degenerate_bases=DEGENERATE_BASES,\n",
    "):\n",
    "    if degenerate_match is None:\n",
    "        degenerate_match = match\n",
    "    if degenerate_mismatch is None:\n",
    "        degenerate_mismatch = mismatch\n",
    "    bases = \"ATCG\" + \"\".join(degenerate_bases.keys())\n",
    "    num_bases = len(bases)\n",
    "    base_to_idx = {base: idx for idx, base in enumerate(bases)}\n",
    "    if degenerate_match is None:\n",
    "        degenerate_match = match\n",
    "    if degenerate_mismatch is None:\n",
    "        degenerate_mismatch = mismatch\n",
    "    # matrix = parasail.matrix_create(bases, match, mismatch)\n",
    "    matrix = np.full((num_bases, num_bases), mismatch)\n",
    "    # matrix[\n",
    "    for deg_base, matching_bases in degenerate_bases.items():\n",
    "        idx = base_to_idx[deg_base]\n",
    "        degenerate_match_idxs = [base_to_idx[base] for base in matching_bases]\n",
    "        degenerate_mismatch_idxs = [\n",
    "            base_to_idx[base] for base in set(\"ATCG\") - set(matching_bases)\n",
    "        ]\n",
    "        for idx2 in degenerate_match_idxs:\n",
    "            matrix[idx, idx2] = matrix[idx2, idx] = degenerate_match\n",
    "        for idx2 in degenerate_mismatch_idxs:\n",
    "            matrix[idx, idx2] = matrix[idx2, idx] = degenerate_mismatch\n",
    "    alphabet_aliases = \"\".join(\n",
    "        f\"{base}{deg_base}{deg_base}{base}\"\n",
    "        for deg_base, matching_bases in degenerate_bases.items()\n",
    "        for base in matching_bases\n",
    "    )\n",
    "    return matrix, alphabet_aliases"
   ]
  }
 ],
 "metadata": {
  "kernelspec": {
   "display_name": "Python 3 (ipykernel)",
   "language": "python",
   "name": "python3"
  },
  "language_info": {
   "codemirror_mode": {
    "name": "ipython",
    "version": 3
   },
   "file_extension": ".py",
   "mimetype": "text/x-python",
   "name": "python",
   "nbconvert_exporter": "python",
   "pygments_lexer": "ipython3",
   "version": "3.10.13"
  }
 },
 "nbformat": 4,
 "nbformat_minor": 5
}
