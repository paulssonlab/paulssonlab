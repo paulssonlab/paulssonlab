{
 "cells": [
  {
   "cell_type": "code",
   "execution_count": null,
   "id": "41c57f7d-eb34-40e9-b810-10d4c44d68b2",
   "metadata": {},
   "outputs": [],
   "source": [
    "import itertools as it\n",
    "import operator\n",
    "import re\n",
    "import subprocess\n",
    "import tempfile\n",
    "import time\n",
    "from collections import Counter\n",
    "from pathlib import Path\n",
    "\n",
    "import gfapy\n",
    "import holoviews as hv\n",
    "import matplotlib.pyplot as plt\n",
    "import networkx as nx\n",
    "import numpy as np\n",
    "import pandas as pd\n",
    "import polars as pl\n",
    "import pyarrow as pa\n",
    "import pyarrow.compute as pc\n",
    "import pyfastx\n",
    "from pyarrow import csv\n",
    "from tqdm.auto import tqdm, trange"
   ]
  },
  {
   "cell_type": "code",
   "execution_count": null,
   "id": "f4ec68fd-4dab-43a1-a74d-fc2137f04acb",
   "metadata": {},
   "outputs": [],
   "source": [
    "%load_ext autoreload\n",
    "%autoreload 2"
   ]
  },
  {
   "cell_type": "code",
   "execution_count": null,
   "id": "6d3d323b-2fd5-44cd-b9b0-ed41db593de3",
   "metadata": {},
   "outputs": [],
   "source": [
    "import paulssonlab.sequencing.gfa as sgfa\n",
    "import paulssonlab.sequencing.io as sio\n",
    "import paulssonlab.sequencing.processing as processing"
   ]
  },
  {
   "cell_type": "code",
   "execution_count": null,
   "id": "f117a156-f6f6-423f-81be-bb5eed890a23",
   "metadata": {},
   "outputs": [],
   "source": [
    "hv.extension(\"bokeh\")"
   ]
  },
  {
   "cell_type": "code",
   "execution_count": null,
   "id": "707dbf43-4fc5-46fd-86e3-76dd6bacc2a4",
   "metadata": {},
   "outputs": [],
   "source": [
    "pl.enable_string_cache()"
   ]
  },
  {
   "cell_type": "markdown",
   "id": "0475569e-d6b7-4bd1-af06-03cf58d14ff8",
   "metadata": {},
   "source": [
    "# prepare_reads.py for non-dorado duplex"
   ]
  },
  {
   "cell_type": "code",
   "execution_count": null,
   "id": "b058575d-a408-435d-8688-258f51d2d8ed",
   "metadata": {},
   "outputs": [],
   "source": [
    "gfa_filename = \"/home/jqs1/scratch/sequencing/230707_repressilators/20230707_2040_MN35044_FAS94231_25542e0d/references/barcode.gfa\"\n",
    "gfa = gfapy.Gfa.from_file(gfa_filename)\n",
    "gfa = sgfa.filter_gfa(\n",
    "    gfa, exclude=[\"UNS9\", \"BC:UPSTREAM\", \"BC:JUNCTION\", \"BC:T7_TERM\", \"BC:SPACER2\"]\n",
    ")\n",
    "graph = sgfa.gfa_to_dag(gfa)\n",
    "# weakly_connected_components is a generator, so only compute once\n",
    "wccs = list(nx.weakly_connected_components(graph))\n",
    "forward_segments = sgfa.dag_forward_segments(graph, wccs=wccs)\n",
    "endpoints = sgfa.dag_endpoints(graph, wccs=wccs)"
   ]
  },
  {
   "cell_type": "code",
   "execution_count": null,
   "id": "60bb782c-c7b8-4c73-ad4d-a3dc7be43cee",
   "metadata": {},
   "outputs": [],
   "source": [
    "p1 = [\n",
    "    \">BC:BIT0=1\",\n",
    "    \">BC:BIT1=1\",\n",
    "    \">BC:BIT2=1\",\n",
    "    \">BC:BIT3=0\",\n",
    "    \">BC:BIT4=1\",\n",
    "    \">BC:BIT5=0\",\n",
    "    \">BC:BIT6=0\",\n",
    "    \">BC:BIT7=0\",\n",
    "    \">BC:BIT8=0\",\n",
    "    \">BC:BIT9=1\",\n",
    "    \">BC:BIT10=1\",\n",
    "    \">BC:BIT11=1\",\n",
    "    \">BC:BIT12=0\",\n",
    "    \">BC:BIT13=0\",\n",
    "    \">BC:BIT14=1\",\n",
    "    \">BC:SPACER1\",\n",
    "    \">BC:BIT15=0\",\n",
    "    \">BC:BIT16=1\",\n",
    "    \">BC:BIT17=1\",\n",
    "    \">BC:BIT18=1\",\n",
    "    \">BC:BIT19=0\",\n",
    "    \">BC:BIT20=1\",\n",
    "    \">BC:BIT21=0\",\n",
    "    \">BC:BIT22=1\",\n",
    "    \">BC:BIT23=1\",\n",
    "    \">BC:BIT24=0\",\n",
    "    \">BC:BIT25=1\",\n",
    "    \">BC:BIT26=1\",\n",
    "    \">BC:BIT27=1\",\n",
    "    \">BC:BIT28=0\",\n",
    "    \">BC:BIT29=0\",\n",
    "]\n",
    "p2 = [\n",
    "    \">BC:BIT0=1\",\n",
    "    \">BC:BIT1=0\",\n",
    "    \">BC:BIT2=0\",\n",
    "    \">BC:BIT3=1\",\n",
    "    \">BC:BIT4=1\",\n",
    "    \">BC:BIT5=1\",\n",
    "    \">BC:BIT6=1\",\n",
    "    \">BC:BIT7=0\",\n",
    "    \">BC:BIT8=1\",\n",
    "    \">BC:BIT9=1\",\n",
    "    \">BC:BIT10=0\",\n",
    "    \">BC:BIT11=0\",\n",
    "    \">BC:BIT12=0\",\n",
    "    \">BC:BIT13=1\",\n",
    "    \">BC:BIT14=1\",\n",
    "    \">BC:SPACER1\",\n",
    "    \">BC:BIT15=1\",\n",
    "    \">BC:BIT16=0\",\n",
    "    \">BC:BIT17=0\",\n",
    "    \">BC:BIT18=0\",\n",
    "    \">BC:BIT19=1\",\n",
    "    \">BC:BIT20=0\",\n",
    "    \">BC:BIT21=0\",\n",
    "    \">BC:BIT22=1\",\n",
    "    \">BC:BIT23=1\",\n",
    "    \">BC:BIT24=1\",\n",
    "    \">BC:BIT25=0\",\n",
    "    \">BC:BIT26=1\",\n",
    "    \">BC:BIT27=0\",\n",
    "    \">BC:BIT28=1\",\n",
    "    \">BC:BIT29=1\",\n",
    "]\n",
    "p3 = [\n",
    "    \">BC:BIT0=1\",\n",
    "    \">BC:BIT1=0\",\n",
    "    \">BC:BIT2=1\",\n",
    "    \">BC:BIT3=0\",\n",
    "    \">BC:BIT4=0\",\n",
    "    \">BC:BIT5=0\",\n",
    "    \">BC:BIT6=1\",\n",
    "    \">BC:BIT7=1\",\n",
    "    \">BC:BIT8=0\",\n",
    "    \">BC:BIT9=0\",\n",
    "    \">BC:BIT10=1\",\n",
    "    \">BC:BIT11=1\",\n",
    "    \">BC:BIT12=1\",\n",
    "    \">BC:BIT13=0\",\n",
    "    \">BC:BIT14=1\",\n",
    "    \">BC:SPACER1\",\n",
    "    \">BC:BIT15=0\",\n",
    "    \">BC:BIT16=0\",\n",
    "    \">BC:BIT17=1\",\n",
    "    \">BC:BIT18=0\",\n",
    "    \">BC:BIT19=0\",\n",
    "    \">BC:BIT20=0\",\n",
    "    \">BC:BIT21=0\",\n",
    "    \">BC:BIT22=1\",\n",
    "    \">BC:BIT23=0\",\n",
    "    \">BC:BIT24=0\",\n",
    "    \">BC:BIT25=0\",\n",
    "    \">BC:BIT26=1\",\n",
    "    \">BC:BIT27=1\",\n",
    "    \">BC:BIT28=0\",\n",
    "    \">BC:BIT29=0\",\n",
    "]\n",
    "p1_r = [reverse_path_mapping[x] for x in reversed(p1)]\n",
    "p2_r = [reverse_path_mapping[x] for x in reversed(p2)]\n",
    "p3_r = [reverse_path_mapping[x] for x in reversed(p3)]\n",
    "\n",
    "test_data = [\n",
    "    # valid: a;b\n",
    "    # invalid: a, b\n",
    "    dict(name=\"a\", path=p1),\n",
    "    dict(name=\"b\", path=p1_r),\n",
    "    dict(name=\"a;b\", path=p1),\n",
    "    # valid: c, d\n",
    "    # invalid: c;d\n",
    "    dict(name=\"c\", path=p2),\n",
    "    dict(name=\"d\", path=p1_r),\n",
    "    dict(name=\"c;d\", path=p1),\n",
    "    # valid: e, f\n",
    "    # invalid: e;f\n",
    "    dict(name=\"e\", path=p2),\n",
    "    dict(name=\"f\", path=p1_r),\n",
    "    dict(name=\"e;f\", path=p3),\n",
    "    # valid: g\n",
    "    # invalid: g;h\n",
    "    dict(name=\"g\", path=p1),\n",
    "    dict(name=\"g;h\", path=p1),\n",
    "    # valid: i\n",
    "    # invalid: i;j\n",
    "    dict(name=\"i\", path=p1),\n",
    "    dict(name=\"i;j\", path=p2),\n",
    "    # valid: k\n",
    "    # invalid: k;l\n",
    "    # null: l\n",
    "    dict(name=\"k\", path=p1),\n",
    "    dict(name=\"l\", path=p1_r),\n",
    "    dict(name=\"l\", path=p2_r),\n",
    "    dict(name=\"k;l\", path=p1),\n",
    "    # valid: m, n\n",
    "    # null: m;n\n",
    "    dict(name=\"m\", path=p1),\n",
    "    dict(name=\"n\", path=p1_r),\n",
    "    dict(name=\"m;n\", path=p1),\n",
    "    dict(name=\"m;n\", path=p2),\n",
    "    # valid: o, p\n",
    "    dict(name=\"o\", path=p1),\n",
    "    dict(name=\"p\", path=p2),\n",
    "    # valid: q, r\n",
    "    # invalid: q;r\n",
    "    dict(name=\"q\", path=p1),\n",
    "    dict(name=\"r\", path=p1),\n",
    "    dict(name=\"q;r\", path=p1),\n",
    "    # valid: t;u\n",
    "    # invalid: t, u\n",
    "    dict(name=\"t\", path=p1),\n",
    "    dict(name=\"u\", path=p1_r),\n",
    "    dict(name=\"t;u\", path=p1_r),\n",
    "]\n",
    "test_df = pl.from_dicts(\n",
    "    [{\"dx\": 1 if \";\" in x[\"name\"] else 0, **x} for x in test_data],\n",
    "    schema=dict(name=pl.String, path=pl.List(pl.Categorical), dx=pl.Int8),\n",
    ")"
   ]
  },
  {
   "cell_type": "code",
   "execution_count": null,
   "id": "42627d51-9225-4ee3-a40c-0eb5abddf46a",
   "metadata": {},
   "outputs": [],
   "source": [
    "test_df"
   ]
  },
  {
   "cell_type": "code",
   "execution_count": null,
   "id": "8ebedd64-1ce1-4ddf-a96c-f6f4a5e1127a",
   "metadata": {},
   "outputs": [],
   "source": [
    "test_df2 = processing.prepare_reads(test_df, forward_segments, endpoints)"
   ]
  },
  {
   "cell_type": "code",
   "execution_count": null,
   "id": "a92af572-58d2-40a7-81b5-e2d864a92b10",
   "metadata": {},
   "outputs": [],
   "source": [
    "test_df2"
   ]
  },
  {
   "cell_type": "code",
   "execution_count": null,
   "id": "32f277c3-1138-44d6-ae7a-aa9119d7d8ab",
   "metadata": {},
   "outputs": [],
   "source": [
    "test_df2.select(\"name\", \"is_valid\").to_numpy()"
   ]
  },
  {
   "cell_type": "code",
   "execution_count": null,
   "id": "080bebed-dbd4-432f-8f27-18574a32aef0",
   "metadata": {},
   "outputs": [],
   "source": [
    "df2 = processing.prepare_reads(df, forward_segments, endpoints)"
   ]
  },
  {
   "cell_type": "code",
   "execution_count": null,
   "id": "e3896b8f-3680-45e1-b79c-2d242948a2d7",
   "metadata": {},
   "outputs": [],
   "source": [
    "s = pl.Series([\"a\", \"b\"], dtype=pl.Categorical)\n",
    "s.replace(\"a\", \"c\", default=None)"
   ]
  },
  {
   "cell_type": "code",
   "execution_count": null,
   "id": "d9634c13-acce-441b-9a58-468199b3f76c",
   "metadata": {},
   "outputs": [],
   "source": [
    "%%time\n",
    "df = pl.scan_ipc(\n",
    "    \"/n/scratch/users/j/jqs1/sequencing/230707_repressilators/20230707_2040_MN35044_FAS94231_25542e0d/test_output/join_gaf_test/channel-1_merged.arrow\"\n",
    ")\n",
    "df2 = processing.prepare_reads(df, forward_segments, endpoints)\n",
    "df2 = df2.collect()"
   ]
  },
  {
   "cell_type": "code",
   "execution_count": null,
   "id": "95882d0b-4eb7-4aba-be86-7708fd08dbcb",
   "metadata": {},
   "outputs": [],
   "source": [
    "df2"
   ]
  },
  {
   "cell_type": "code",
   "execution_count": null,
   "id": "d5f9c6b3-3693-4cc0-bd9d-06f60bfa9c31",
   "metadata": {},
   "outputs": [],
   "source": [
    "df2[\"path\"][:10].to_numpy()"
   ]
  },
  {
   "cell_type": "code",
   "execution_count": null,
   "id": "4b4d0627-48a5-43fa-b249-e18f10ec0585",
   "metadata": {},
   "outputs": [],
   "source": [
    "df2.filter(pl.col(\"is_valid\") == False)"
   ]
  },
  {
   "cell_type": "code",
   "execution_count": null,
   "id": "99ae5e1b-aebd-424f-8a78-c67ee27d8e19",
   "metadata": {},
   "outputs": [],
   "source": [
    "%%time\n",
    "df = pl.scan_ipc(\n",
    "    \"/n/scratch/users/j/jqs1/sequencing/230707_repressilators/20230707_2040_MN35044_FAS94231_25542e0d/test_output/join_gaf_test/channel-1_merged.arrow\"\n",
    ")\n",
    "df = processing.normalize_paths(df, forward_segments)\n",
    "df = df.with_columns(pl.col(\"path\").hash().alias(\"path_hash\"))\n",
    "df = processing.flag_end_to_end(df, endpoints)\n",
    "df = df.with_columns(\n",
    "    is_duplicate_alignment=pl.col(\"name\").is_duplicated(),\n",
    ").with_columns(_candidate=(~pl.col(\"is_duplicate_alignment\") & pl.col(\"end_to_end\")))\n",
    "df = df.collect()"
   ]
  },
  {
   "cell_type": "code",
   "execution_count": null,
   "id": "52e53e5f-c2a5-48d6-be0d-6040fec3c7ec",
   "metadata": {},
   "outputs": [],
   "source": [
    "%%time\n",
    "df_candidates = df.filter(pl.col(\"_candidate\"))\n",
    "df_input = df_candidates.with_columns(\n",
    "    pl.col(\"name\").str.split(\";\").alias(\"_parent_names\"),\n",
    ")\n",
    "df_with_parents = (\n",
    "    df_input.filter(pl.col(\"dx\") == 1)\n",
    "    .select(\n",
    "        pl.col(\"name\"),\n",
    "        pl.col(\"path\").alias(\"_duplex_path\"),\n",
    "        pl.col(\"_parent_names\").alias(\"_parent_name\"),\n",
    "    )\n",
    "    .explode(\"_parent_name\")\n",
    "    .join(\n",
    "        df_candidates.select(pl.col(\"name\"), pl.col(\"path\").alias(\"_parent_path\")),\n",
    "        how=\"left\",\n",
    "        left_on=pl.col(\"_parent_name\"),\n",
    "        right_on=pl.col(\"name\"),\n",
    "    )\n",
    "    .with_columns(\n",
    "        (pl.col(\"_duplex_path\") == pl.col(\"_parent_path\")).alias(\"_paths_match_duplex\")\n",
    "    )\n",
    ")\n",
    "df_duplex_paths_match = df_with_parents.group_by(\"name\").agg(\n",
    "    pl.col(\"_paths_match_duplex\").all(),\n",
    "    pl.col(\"_parent_name\"),\n",
    ")"
   ]
  },
  {
   "cell_type": "code",
   "execution_count": null,
   "id": "f3e0df0c-fc48-4a2a-bd86-b0dbf47127e6",
   "metadata": {},
   "outputs": [],
   "source": [
    "df_duplex_paths_match"
   ]
  },
  {
   "cell_type": "code",
   "execution_count": null,
   "id": "d66a8cb5-ce0e-4980-b53f-ed55c083d88d",
   "metadata": {},
   "outputs": [],
   "source": [
    "df.filter(pl.col(\"name\") == \"23d73de1-49d0-478f-a95b-3d9a8287fea8\")[\n",
    "    \"read_seq\"\n",
    "].to_pandas().values"
   ]
  },
  {
   "cell_type": "code",
   "execution_count": null,
   "id": "3f017844-a4ff-4721-8d2c-9ec87f7c9b61",
   "metadata": {},
   "outputs": [],
   "source": [
    "df_with_parents.filter(~pl.col(\"_paths_match_duplex\"))[[\"_parent_name\"]].to_numpy()"
   ]
  },
  {
   "cell_type": "code",
   "execution_count": null,
   "id": "138346e3-27d8-4838-b9bc-2d581a9faf43",
   "metadata": {},
   "outputs": [],
   "source": [
    "print(\n",
    "    \"\\n\\n\".join(\n",
    "        [\n",
    "            f\"{''.join(x[0])}\"\n",
    "            for x in df_with_parents.filter(~pl.col(\"_paths_match_duplex\"))[\n",
    "                [\"_duplex_path\", \"_parent_path\"]\n",
    "            ]\n",
    "        ]\n",
    "    )\n",
    ")"
   ]
  },
  {
   "cell_type": "code",
   "execution_count": null,
   "id": "d53bd28d-069a-44d9-a792-849dd17fdde3",
   "metadata": {},
   "outputs": [],
   "source": [
    "df_duplex_paths_match.filter(~pl.col(\"_paths_match_duplex\"))"
   ]
  },
  {
   "cell_type": "code",
   "execution_count": null,
   "id": "37cc7e5a-5967-4da8-9583-ee50df38967d",
   "metadata": {},
   "outputs": [],
   "source": [
    "df_with_parents.with_columns(\n",
    "    (pl.col(\"_duplex_path\") == pl.col(\"_parent_path\")).alias(\"_path_matches\")\n",
    ").filter(~pl.col(\"_path_matches\"))"
   ]
  },
  {
   "cell_type": "code",
   "execution_count": null,
   "id": "67f0a92c-550a-4008-b23d-0dadbc50a488",
   "metadata": {},
   "outputs": [],
   "source": [
    "df_paths_match.filter(~pl.col(\"_path_matches\"))"
   ]
  },
  {
   "cell_type": "code",
   "execution_count": null,
   "id": "d339983a-f62f-4b31-a691-69b69a734088",
   "metadata": {},
   "outputs": [],
   "source": [
    "df_with_parents"
   ]
  },
  {
   "cell_type": "code",
   "execution_count": null,
   "id": "77e8c941-0120-49b9-a3f8-261bbad3368e",
   "metadata": {},
   "outputs": [],
   "source": [
    "df_duplex_paths_match"
   ]
  },
  {
   "cell_type": "code",
   "execution_count": null,
   "id": "d165c405-dea6-4535-a3eb-576994ff7543",
   "metadata": {},
   "outputs": [],
   "source": [
    "%%time\n",
    "df_with_parents.head(10).collect()"
   ]
  },
  {
   "cell_type": "code",
   "execution_count": null,
   "id": "9ba6a4c6-331e-415f-8b5e-6830bc23aa6e",
   "metadata": {},
   "outputs": [],
   "source": [
    "(\n",
    "    df_with_parents.with_columns(\n",
    "        pl.col(\"path\").first().over(\"name\").alias(\"_path_first\")\n",
    "    ).with_columns(\n",
    "        (pl.col(\"path\") == pl.col(\"_path_first\")).alias(\"_path_matches_first\")\n",
    "    )\n",
    ")"
   ]
  },
  {
   "cell_type": "code",
   "execution_count": null,
   "id": "4b348038-daa2-4b4e-886c-016f4c880438",
   "metadata": {},
   "outputs": [],
   "source": [
    "%%time\n",
    "df_duplex_paths_match = (\n",
    "    df_with_parents.with_columns(\n",
    "        pl.col(\"path\").first().over(\"name\").alias(\"_path_first\")\n",
    "    )\n",
    "    .with_columns(\n",
    "        (pl.col(\"path\") == pl.col(\"_path_first\")).alias(\"_path_matches_first\")\n",
    "    )\n",
    "    .group_by(\"name\")\n",
    "    .agg(\n",
    "        pl.col(\"_path_matches_first\").all().alias(\"_duplex_paths_match\"),\n",
    "        pl.col(\"_parent_name\"),\n",
    "    )\n",
    ")"
   ]
  },
  {
   "cell_type": "code",
   "execution_count": null,
   "id": "50883704-b995-4b86-9e68-ac0c5b405ce3",
   "metadata": {},
   "outputs": [],
   "source": [
    "df_duplex_paths_match"
   ]
  },
  {
   "cell_type": "code",
   "execution_count": null,
   "id": "b5509e43-3eba-4af0-9401-ee1f62570ba0",
   "metadata": {},
   "outputs": [],
   "source": [
    "%%time\n",
    "df_simplex_paths_match = df_duplex_paths_match.select(\n",
    "    pl.col(\"_duplex_paths_match\").alias(\"_duplex_child_path_matches\"),\n",
    "    pl.col(\"_parent_name\"),\n",
    ").explode(\"_parent_name\")"
   ]
  },
  {
   "cell_type": "code",
   "execution_count": null,
   "id": "12fb5daf-7999-4b48-9ca0-1767296380c4",
   "metadata": {},
   "outputs": [],
   "source": [
    "df_simplex_paths_match"
   ]
  },
  {
   "cell_type": "code",
   "execution_count": null,
   "id": "94f5543c-351f-4f61-8054-13e89a70f3cd",
   "metadata": {},
   "outputs": [],
   "source": [
    "%%time\n",
    "df_usable = (\n",
    "    df_input.join(\n",
    "        df_duplex_paths_match.select(\n",
    "            pl.col(\"name\"),\n",
    "            pl.col(\"_duplex_paths_match\").alias(\"_duplex_parent_paths_match\"),\n",
    "        ),\n",
    "        how=\"left\",\n",
    "        on=\"name\",\n",
    "    )\n",
    "    .join(df_simplex_paths_match, how=\"left\", left_on=\"name\", right_on=\"_parent_name\")\n",
    "    .with_columns(\n",
    "        pl.when(pl.col(\"is_duplex\"))\n",
    "        .then(pl.col(\"_duplex_parent_paths_match\").fill_null(False))\n",
    "        .otherwise(pl.col(\"_duplex_child_path_matches\").not_().fill_null(True))\n",
    "        .alias(\"is_usable_read\")\n",
    "    )\n",
    "    .select(pl.all().exclude(\"_parent_names\"))\n",
    ")"
   ]
  },
  {
   "cell_type": "code",
   "execution_count": null,
   "id": "4e55a645-9516-4f91-bcf1-8b4160525a0b",
   "metadata": {},
   "outputs": [],
   "source": [
    "df_usable"
   ]
  },
  {
   "cell_type": "code",
   "execution_count": null,
   "id": "768aa23c-2f66-4688-979d-5325859eaa8c",
   "metadata": {},
   "outputs": [],
   "source": [
    "%%time\n",
    "df = processing.flag_usable_reads(df)\n",
    "df = processing.flag_end_to_end(df, endpoints)\n",
    "df = df.with_columns(\n",
    "    is_duplicate_alignment=pl.col(\"name\").is_duplicated(),\n",
    ")"
   ]
  },
  {
   "cell_type": "code",
   "execution_count": null,
   "id": "652b12e0-4a02-442b-b2eb-1993d499867a",
   "metadata": {},
   "outputs": [],
   "source": [
    "%%time\n",
    "df = df.collect()"
   ]
  },
  {
   "cell_type": "code",
   "execution_count": null,
   "id": "6765ec29-4fc0-4dfc-933b-6d18cba94b6c",
   "metadata": {},
   "outputs": [],
   "source": [
    "df_usable.filter(pl.col(\"_duplex_sibling_paths_match\") == False, ~pl.col(\"is_duplex\"))"
   ]
  },
  {
   "cell_type": "code",
   "execution_count": null,
   "id": "743f8348-40ff-4f97-93f6-67bb72aa44cd",
   "metadata": {},
   "outputs": [],
   "source": [
    "df.filter(pl.col(\"_duplex_sibling_paths_match\").is_null(), ~pl.col(\"is_duplex\"))"
   ]
  },
  {
   "cell_type": "code",
   "execution_count": null,
   "id": "a6018ffb-4f31-47d5-962c-770f26475f84",
   "metadata": {},
   "outputs": [],
   "source": [
    "df.filter(~pl.col(\"_duplex_children_paths_match\"), pl.col(\"is_duplex\")).sort(\n",
    "    \"query_length\"\n",
    ")"
   ]
  },
  {
   "cell_type": "code",
   "execution_count": null,
   "id": "2bd858be-847f-400a-b5f0-fad2121a06ed",
   "metadata": {},
   "outputs": [],
   "source": [
    "df4.filter(pl.col(\"usable_read\"))"
   ]
  },
  {
   "cell_type": "code",
   "execution_count": null,
   "id": "4afea7a2-f2ee-4e87-b67d-e40e19f11673",
   "metadata": {},
   "outputs": [],
   "source": [
    "df4.filter(~pl.col(\"_child_duplex_paths_match\").is_null())"
   ]
  },
  {
   "cell_type": "code",
   "execution_count": null,
   "id": "764ee60b-7a46-4b68-be08-771f57c2f09c",
   "metadata": {},
   "outputs": [],
   "source": [
    "df.filter(pl.col(\"name\").is_duplicated())"
   ]
  },
  {
   "cell_type": "code",
   "execution_count": null,
   "id": "28624b67-717e-4b71-a479-f497f9c12a1e",
   "metadata": {},
   "outputs": [],
   "source": [
    "df.filter(pl.col(\"dx\") == 0)"
   ]
  },
  {
   "cell_type": "code",
   "execution_count": null,
   "id": "268c04a9-2b95-440b-97a9-60a998dd3a34",
   "metadata": {},
   "outputs": [],
   "source": [
    "df_joined = df.join(df[\"name\"].value_counts(sort=True), on=\"name\")"
   ]
  },
  {
   "cell_type": "code",
   "execution_count": null,
   "id": "ceb36d93-ed28-4d0a-ac5e-75e1ae1d388b",
   "metadata": {},
   "outputs": [],
   "source": [
    "plt.hist(\n",
    "    df_joined.filter(pl.col(\"counts\") == 1)[\"query_length\"].to_numpy(),\n",
    "    bins=100,\n",
    "    log=True,\n",
    ");"
   ]
  },
  {
   "cell_type": "code",
   "execution_count": null,
   "id": "6de24efd-9f8b-4dd3-8413-c031fffaf7b3",
   "metadata": {},
   "outputs": [],
   "source": [
    "plt.hist(\n",
    "    df_joined.filter(pl.col(\"counts\") == 2)[\"query_length\"].to_numpy(),\n",
    "    bins=100,\n",
    "    log=True,\n",
    ");"
   ]
  },
  {
   "cell_type": "code",
   "execution_count": null,
   "id": "a23710a2-7a6d-4fc3-8633-e42c560bb88e",
   "metadata": {},
   "outputs": [],
   "source": [
    "plt.hist(\n",
    "    df_joined.filter(pl.col(\"counts\") > 2)[\"query_length\"].to_numpy(),\n",
    "    bins=100,\n",
    "    log=True,\n",
    ");"
   ]
  },
  {
   "cell_type": "code",
   "execution_count": null,
   "id": "4b77331a-6463-4b74-9834-52e4829a924b",
   "metadata": {},
   "outputs": [],
   "source": [
    "df_joined.filter(pl.col(\"counts\") > 3)"
   ]
  },
  {
   "cell_type": "code",
   "execution_count": null,
   "id": "7fcab56f-3c39-429c-a431-ca66acdd9d53",
   "metadata": {},
   "outputs": [],
   "source": [
    "df[\"name\"].value_counts(sort=True).filter(pl.col(\"counts\") > 2)"
   ]
  },
  {
   "cell_type": "code",
   "execution_count": null,
   "id": "46ee1db4-fca8-4058-b6d9-e72aa9ffe46b",
   "metadata": {},
   "outputs": [],
   "source": [
    "x = df.filter(pl.col(\"name\").is_duplicated())[\"path\"]"
   ]
  },
  {
   "cell_type": "code",
   "execution_count": null,
   "id": "dff6c65f-a89c-4ac2-9deb-202eb0753d33",
   "metadata": {},
   "outputs": [],
   "source": [
    "print(\"\\n\\n\".join([\" \".join(y) for y in x.to_pandas()[:20]]))"
   ]
  },
  {
   "cell_type": "code",
   "execution_count": null,
   "id": "62d4700f-1b4e-4714-a522-d77cabf25cfa",
   "metadata": {},
   "outputs": [],
   "source": [
    "df.filter(pl.col(\"name\").is_first_distinct())"
   ]
  },
  {
   "cell_type": "code",
   "execution_count": null,
   "id": "95314f3b-783d-424e-bc42-a876ee85d6b7",
   "metadata": {},
   "outputs": [],
   "source": [
    "len(df)"
   ]
  },
  {
   "cell_type": "code",
   "execution_count": null,
   "id": "d747feea-8ffc-4e27-9822-23f6fccb0e4f",
   "metadata": {},
   "outputs": [],
   "source": [
    "df.columns"
   ]
  },
  {
   "cell_type": "code",
   "execution_count": null,
   "id": "232c7178-7871-4e89-a3fa-a57ed203c527",
   "metadata": {},
   "outputs": [],
   "source": [
    "df.tail(100)"
   ]
  },
  {
   "cell_type": "code",
   "execution_count": null,
   "id": "680ef330-2e79-4438-9444-9ec463b0dc98",
   "metadata": {},
   "outputs": [],
   "source": [
    "df.filter(pl.col(\"name\").is_duplicated())"
   ]
  },
  {
   "cell_type": "code",
   "execution_count": null,
   "id": "47e339bb-b5ac-49aa-9b67-07cc81087f17",
   "metadata": {},
   "outputs": [],
   "source": [
    "df[\"name\"].str.contains(\";\").sum()"
   ]
  },
  {
   "cell_type": "code",
   "execution_count": null,
   "id": "a24e930a-bc30-4269-b749-7e33935994c9",
   "metadata": {},
   "outputs": [],
   "source": [
    "df.filter(pl.col(\"name\").str.contains(\";\"))"
   ]
  },
  {
   "cell_type": "code",
   "execution_count": null,
   "id": "d1618856-b843-4eea-8689-e564afbcf17c",
   "metadata": {},
   "outputs": [],
   "source": [
    "df2.filter(pl.col(\"dx\") != 0)"
   ]
  },
  {
   "cell_type": "markdown",
   "id": "cc418ca4-0c1f-4068-87f0-b24e76991a82",
   "metadata": {},
   "source": [
    "# GFA name mapping"
   ]
  },
  {
   "cell_type": "code",
   "execution_count": null,
   "id": "4f97ae33-55d6-4ee5-9fb3-678ad16efc50",
   "metadata": {},
   "outputs": [],
   "source": [
    "g = gfapy.Gfa.from_file(\n",
    "    \"/home/jqs1/scratch/sequencing/230707_repressilators/20230707_2040_MN35044_FAS94231_25542e0d/references/pLIB419.gfa\"\n",
    ")"
   ]
  },
  {
   "cell_type": "code",
   "execution_count": null,
   "id": "736e0878-131e-4ca6-8c4c-dfe63639e81c",
   "metadata": {},
   "outputs": [],
   "source": [
    "g.segments[0].name = \"foo\""
   ]
  },
  {
   "cell_type": "code",
   "execution_count": null,
   "id": "42fb8e0f-176d-4505-b3a8-83d9aa644976",
   "metadata": {},
   "outputs": [],
   "source": [
    "print(g.to_gfa1_s())"
   ]
  },
  {
   "cell_type": "markdown",
   "id": "82bd9f42-b86e-4869-ada2-26dbbe56b420",
   "metadata": {},
   "source": [
    "# RecGraph mtx"
   ]
  },
  {
   "cell_type": "code",
   "execution_count": null,
   "id": "e4de59f9-7a0a-406d-93d0-4b27ce4d6e06",
   "metadata": {},
   "outputs": [],
   "source": [
    "DEGENERATE_BASES = {\n",
    "    \"R\": \"AG\",\n",
    "    \"Y\": \"CT\",\n",
    "    \"M\": \"AC\",\n",
    "    \"K\": \"GT\",\n",
    "    \"S\": \"CG\",\n",
    "    \"W\": \"AT\",\n",
    "    \"B\": \"CGT\",\n",
    "    \"D\": \"AGT\",\n",
    "    \"H\": \"ACT\",\n",
    "    \"V\": \"ACG\",\n",
    "    \"N\": \"ACGT\",\n",
    "}\n",
    "\n",
    "\n",
    "def degenerate_recgraph_matrix(\n",
    "    match,\n",
    "    mismatch,\n",
    "    degenerate_match=None,\n",
    "    degenerate_mismatch=None,\n",
    "    degenerate_bases=DEGENERATE_BASES,\n",
    "):\n",
    "    if degenerate_match is None:\n",
    "        degenerate_match = match\n",
    "    if degenerate_mismatch is None:\n",
    "        degenerate_mismatch = mismatch\n",
    "    bases = \"ATCG\" + \"\".join(degenerate_bases.keys())\n",
    "    num_bases = len(bases)\n",
    "    base_to_idx = {base: idx for idx, base in enumerate(bases)}\n",
    "    if degenerate_match is None:\n",
    "        degenerate_match = match\n",
    "    if degenerate_mismatch is None:\n",
    "        degenerate_mismatch = mismatch\n",
    "    # matrix = parasail.matrix_create(bases, match, mismatch)\n",
    "    matrix = np.full((num_bases, num_bases), mismatch)\n",
    "    # matrix[\n",
    "    for deg_base, matching_bases in degenerate_bases.items():\n",
    "        idx = base_to_idx[deg_base]\n",
    "        degenerate_match_idxs = [base_to_idx[base] for base in matching_bases]\n",
    "        degenerate_mismatch_idxs = [\n",
    "            base_to_idx[base] for base in set(\"ATCG\") - set(matching_bases)\n",
    "        ]\n",
    "        for idx2 in degenerate_match_idxs:\n",
    "            matrix[idx, idx2] = matrix[idx2, idx] = degenerate_match\n",
    "        for idx2 in degenerate_mismatch_idxs:\n",
    "            matrix[idx, idx2] = matrix[idx2, idx] = degenerate_mismatch\n",
    "    alphabet_aliases = \"\".join(\n",
    "        f\"{base}{deg_base}{deg_base}{base}\"\n",
    "        for deg_base, matching_bases in degenerate_bases.items()\n",
    "        for base in matching_bases\n",
    "    )\n",
    "    return matrix, alphabet_aliases"
   ]
  }
 ],
 "metadata": {
  "kernelspec": {
   "display_name": "Python 3 (ipykernel)",
   "language": "python",
   "name": "python3"
  },
  "language_info": {
   "codemirror_mode": {
    "name": "ipython",
    "version": 3
   },
   "file_extension": ".py",
   "mimetype": "text/x-python",
   "name": "python",
   "nbconvert_exporter": "python",
   "pygments_lexer": "ipython3",
   "version": "3.10.13"
  }
 },
 "nbformat": 4,
 "nbformat_minor": 5
}
