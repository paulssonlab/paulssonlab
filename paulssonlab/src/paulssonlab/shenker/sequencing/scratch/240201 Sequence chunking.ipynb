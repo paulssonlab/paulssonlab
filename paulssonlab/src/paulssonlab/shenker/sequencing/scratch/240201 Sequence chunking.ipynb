{
 "cells": [
  {
   "cell_type": "code",
   "execution_count": null,
   "id": "41c57f7d-eb34-40e9-b810-10d4c44d68b2",
   "metadata": {},
   "outputs": [],
   "source": [
    "import itertools as it\n",
    "from pathlib import Path\n",
    "\n",
    "import dnaio\n",
    "import numpy as np\n",
    "import pysam\n",
    "from tqdm.auto import tqdm, trange"
   ]
  },
  {
   "cell_type": "code",
   "execution_count": null,
   "id": "f4ec68fd-4dab-43a1-a74d-fc2137f04acb",
   "metadata": {},
   "outputs": [],
   "source": [
    "%load_ext autoreload\n",
    "%autoreload 2"
   ]
  },
  {
   "cell_type": "code",
   "execution_count": null,
   "id": "6d3d323b-2fd5-44cd-b9b0-ed41db593de3",
   "metadata": {},
   "outputs": [],
   "source": [
    "import paulssonlab.sequencing.io as sio\n",
    "import paulssonlab.sequencing.processing as processing"
   ]
  },
  {
   "cell_type": "markdown",
   "id": "0475569e-d6b7-4bd1-af06-03cf58d14ff8",
   "metadata": {},
   "source": [
    "# Sequence chunking"
   ]
  },
  {
   "cell_type": "code",
   "execution_count": null,
   "id": "14c1a2f2-7bc9-4d55-83f8-50e62dc81b7b",
   "metadata": {},
   "outputs": [],
   "source": [
    "data_dir = Path(\"/home/jqs1/scratch/sequencing/240111_bcd_rbses_revio/_temp/input\")"
   ]
  },
  {
   "cell_type": "code",
   "execution_count": null,
   "id": "07d3c606-a369-485f-90d7-6b48e6e0c429",
   "metadata": {},
   "outputs": [],
   "source": [
    "list(data_dir.iterdir())"
   ]
  },
  {
   "cell_type": "markdown",
   "id": "e87899b2-9587-4488-844c-80f5b3d94754",
   "metadata": {},
   "source": [
    "## Fastx"
   ]
  },
  {
   "cell_type": "code",
   "execution_count": null,
   "id": "7ca9ac02-0de9-4187-b871-db1cd14d9db3",
   "metadata": {},
   "outputs": [],
   "source": [
    "def iter_fastx():\n",
    "    pass"
   ]
  },
  {
   "cell_type": "code",
   "execution_count": null,
   "id": "4c2a2154-12bd-4168-a945-6d04276671ea",
   "metadata": {},
   "outputs": [],
   "source": [
    "f = dnaio.open(data_dir / \"channel-100_merged.fastq\")"
   ]
  },
  {
   "cell_type": "code",
   "execution_count": null,
   "id": "05a838ca-9f6c-441c-90f7-49eb7dbf385f",
   "metadata": {},
   "outputs": [],
   "source": [
    "f2 = dnaio.open(data_dir / \"channel-100_merged.fasta\")"
   ]
  },
  {
   "cell_type": "code",
   "execution_count": null,
   "id": "848a47fe-1a95-48db-9664-86800d8f0f48",
   "metadata": {},
   "outputs": [],
   "source": [
    "fw = dnaio.open(data_dir / \"test_output.fastq\", mode=\"w\")"
   ]
  },
  {
   "cell_type": "code",
   "execution_count": null,
   "id": "09bf3898-eee1-43da-8cba-bf455d24186d",
   "metadata": {},
   "outputs": [],
   "source": [
    "f = dnaio.open(data_dir / \"channel-100_merged.fastq\")"
   ]
  },
  {
   "cell_type": "code",
   "execution_count": null,
   "id": "ae5ac0b0-2d8e-4b13-a702-07ce4ca66069",
   "metadata": {},
   "outputs": [],
   "source": [
    "x = iter(f)"
   ]
  },
  {
   "cell_type": "code",
   "execution_count": null,
   "id": "71847e16-d33e-484d-9948-8d8602793070",
   "metadata": {},
   "outputs": [],
   "source": [
    "del f._iter"
   ]
  },
  {
   "cell_type": "code",
   "execution_count": null,
   "id": "e56f3248-c2df-4a63-ae47-2cb5763ddfc1",
   "metadata": {},
   "outputs": [],
   "source": [
    "sum(1 for _ in x)"
   ]
  },
  {
   "cell_type": "code",
   "execution_count": null,
   "id": "b0a18419-0052-4946-bc31-f12ef8e6efc1",
   "metadata": {},
   "outputs": [],
   "source": [
    "fw._file.tell()"
   ]
  },
  {
   "cell_type": "code",
   "execution_count": null,
   "id": "272cd165-3c75-4efa-8f8d-1d7a513c27b2",
   "metadata": {},
   "outputs": [],
   "source": [
    "sum(1 for _ in f)"
   ]
  },
  {
   "cell_type": "code",
   "execution_count": null,
   "id": "3967ea57-5cac-4f12-bf38-1daa97761e3e",
   "metadata": {},
   "outputs": [],
   "source": [
    "read = next(iter(f))"
   ]
  },
  {
   "cell_type": "code",
   "execution_count": null,
   "id": "fadf379e-fd3c-482b-ae59-ed2750d7ca90",
   "metadata": {},
   "outputs": [],
   "source": [
    "read2 = next(iter(f2))"
   ]
  },
  {
   "cell_type": "code",
   "execution_count": null,
   "id": "4ad6953a-8ee2-4591-a845-45671b513906",
   "metadata": {},
   "outputs": [],
   "source": [
    "f._file.seek(0)"
   ]
  },
  {
   "cell_type": "code",
   "execution_count": null,
   "id": "0a88eff4-8774-40d1-be5d-f63d68712ac0",
   "metadata": {},
   "outputs": [],
   "source": [
    "??read.fastq_bytes"
   ]
  },
  {
   "cell_type": "code",
   "execution_count": null,
   "id": "91d57ee1-d932-4b93-af5d-5631691c69ab",
   "metadata": {},
   "outputs": [],
   "source": [
    "fw._file.tell()"
   ]
  },
  {
   "cell_type": "code",
   "execution_count": null,
   "id": "7149a400-87e1-481b-99b4-4d71b152f33a",
   "metadata": {},
   "outputs": [],
   "source": [
    "??read2.__init__"
   ]
  },
  {
   "cell_type": "code",
   "execution_count": null,
   "id": "c9a01c48-d88c-4382-a039-01139fd8462b",
   "metadata": {},
   "outputs": [],
   "source": [
    "dir(f._iter)"
   ]
  },
  {
   "cell_type": "code",
   "execution_count": null,
   "id": "9212e7b7-698c-4e3f-82ba-0d95ce6df3cd",
   "metadata": {},
   "outputs": [],
   "source": [
    "dir(f)"
   ]
  },
  {
   "cell_type": "markdown",
   "id": "8dd53e7e-bd4b-4bae-80e3-39483dd30318",
   "metadata": {},
   "source": [
    "## SAM/BAM"
   ]
  },
  {
   "cell_type": "code",
   "execution_count": null,
   "id": "c46306fb-9262-4cfb-ad71-cafc30c14ac3",
   "metadata": {},
   "outputs": [],
   "source": [
    "def iter_bam():\n",
    "    pass"
   ]
  },
  {
   "cell_type": "code",
   "execution_count": null,
   "id": "c0e9fd55-a6f0-40b6-9519-bbbf1000aea1",
   "metadata": {},
   "outputs": [],
   "source": [
    "f = pysam.AlignmentFile(data_dir / \"channel-100_merged.bam\", check_sq=False)"
   ]
  },
  {
   "cell_type": "code",
   "execution_count": null,
   "id": "383cbb09-8b36-4b4e-acf3-d1f83e0aeb0a",
   "metadata": {},
   "outputs": [],
   "source": [
    "output_filename = data_dir / \"test.bam\""
   ]
  },
  {
   "cell_type": "code",
   "execution_count": null,
   "id": "9387bbf3-3401-46dc-8507-c32d139ad9d1",
   "metadata": {},
   "outputs": [],
   "source": [
    "fw = pysam.AlignmentFile(output_filename, \"wb\", header=f.header)"
   ]
  },
  {
   "cell_type": "code",
   "execution_count": null,
   "id": "e50b28df-2a50-4b3f-8128-ebe7c0a953d3",
   "metadata": {},
   "outputs": [],
   "source": [
    "f.reset()"
   ]
  },
  {
   "cell_type": "code",
   "execution_count": null,
   "id": "92e11841-fbe5-4ede-8e6e-b5374af177a6",
   "metadata": {},
   "outputs": [],
   "source": [
    "%%time\n",
    "idx = 0\n",
    "for read in f:\n",
    "    fw.write(read)\n",
    "    idx += 1\n",
    "    if output_filename.stat().st_size > 500e6:\n",
    "        print(idx)\n",
    "        break"
   ]
  },
  {
   "cell_type": "code",
   "execution_count": null,
   "id": "3bbd79ae-6256-4f83-a884-0b4803f50af0",
   "metadata": {},
   "outputs": [],
   "source": [
    "idx"
   ]
  },
  {
   "cell_type": "code",
   "execution_count": null,
   "id": "f3c68f84-ebe2-40d0-ba16-4234980ca6f7",
   "metadata": {},
   "outputs": [],
   "source": [
    "fw.tell()"
   ]
  },
  {
   "cell_type": "code",
   "execution_count": null,
   "id": "4c0509d2-bef4-4a06-80b1-a9c696349fb8",
   "metadata": {},
   "outputs": [],
   "source": [
    "54754941144290 / 834666496"
   ]
  },
  {
   "cell_type": "code",
   "execution_count": null,
   "id": "792c9608-17ad-4e5c-93bf-9e5982589672",
   "metadata": {},
   "outputs": [],
   "source": [
    "fw.tell() / (2**16)"
   ]
  },
  {
   "cell_type": "code",
   "execution_count": null,
   "id": "7b2123f7-065e-4bea-8241-bc4a9843ec77",
   "metadata": {},
   "outputs": [],
   "source": [
    "834666496"
   ]
  },
  {
   "cell_type": "code",
   "execution_count": null,
   "id": "4f3d5198-bcd9-47ba-98f4-e1db14bb504d",
   "metadata": {},
   "outputs": [],
   "source": [
    "f.reset()"
   ]
  },
  {
   "cell_type": "code",
   "execution_count": null,
   "id": "c4e3e2c3-0748-4386-9cb7-fc41c7c6115b",
   "metadata": {},
   "outputs": [],
   "source": [
    "x = next(f)"
   ]
  },
  {
   "cell_type": "code",
   "execution_count": null,
   "id": "f97e183f-eeab-46c2-bb9a-8ae1d14bb2f4",
   "metadata": {},
   "outputs": [],
   "source": [
    "fw.write(x)"
   ]
  },
  {
   "cell_type": "code",
   "execution_count": null,
   "id": "ba81de89-968a-489e-a3ac-0b1717240721",
   "metadata": {},
   "outputs": [],
   "source": [
    "?f.add_hts_options"
   ]
  },
  {
   "cell_type": "code",
   "execution_count": null,
   "id": "5fce45cf-8f43-45c5-b799-8600418dc72e",
   "metadata": {},
   "outputs": [],
   "source": [
    "dir(f)"
   ]
  },
  {
   "cell_type": "code",
   "execution_count": null,
   "id": "ee454d7c-caba-48b4-a206-a01f590b58d8",
   "metadata": {},
   "outputs": [],
   "source": [
    "f.text"
   ]
  },
  {
   "cell_type": "code",
   "execution_count": null,
   "id": "2e38016e-14a5-416c-a06e-7897b0f2092b",
   "metadata": {},
   "outputs": [],
   "source": [
    "f.reset()"
   ]
  },
  {
   "cell_type": "code",
   "execution_count": null,
   "id": "2d1687ea-5cda-499e-8d18-87d0fe898b4c",
   "metadata": {},
   "outputs": [],
   "source": [
    "f.count(until_eof=True)"
   ]
  },
  {
   "cell_type": "code",
   "execution_count": null,
   "id": "c012b365-faf5-4add-8a4b-41032cf4640f",
   "metadata": {},
   "outputs": [],
   "source": [
    "f.tell()"
   ]
  },
  {
   "cell_type": "code",
   "execution_count": null,
   "id": "06dace5f-07a5-4dea-8ae4-664a7d9c912c",
   "metadata": {},
   "outputs": [],
   "source": [
    "f.tell() / 2**48"
   ]
  },
  {
   "cell_type": "code",
   "execution_count": null,
   "id": "95ade0a1-6905-422a-930a-206d5fd000e4",
   "metadata": {},
   "outputs": [],
   "source": [
    "54755088596992 / 1024**3"
   ]
  },
  {
   "cell_type": "markdown",
   "id": "bee53c65-a560-45d0-888e-96edf0f2e9e3",
   "metadata": {},
   "source": [
    "## Chunking/Writing"
   ]
  }
 ],
 "metadata": {
  "kernelspec": {
   "display_name": "Python 3 (ipykernel)",
   "language": "python",
   "name": "python3"
  },
  "language_info": {
   "codemirror_mode": {
    "name": "ipython",
    "version": 3
   },
   "file_extension": ".py",
   "mimetype": "text/x-python",
   "name": "python",
   "nbconvert_exporter": "python",
   "pygments_lexer": "ipython3",
   "version": "3.10.13"
  }
 },
 "nbformat": 4,
 "nbformat_minor": 5
}
