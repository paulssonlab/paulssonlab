{
 "cells": [
  {
   "cell_type": "code",
   "execution_count": null,
   "id": "41c57f7d-eb34-40e9-b810-10d4c44d68b2",
   "metadata": {},
   "outputs": [],
   "source": [
    "import itertools as it\n",
    "import operator\n",
    "import re\n",
    "import subprocess\n",
    "import tempfile\n",
    "import time\n",
    "from collections import Counter\n",
    "from pathlib import Path\n",
    "\n",
    "import gfapy\n",
    "import holoviews as hv\n",
    "import matplotlib.pyplot as plt\n",
    "import numpy as np\n",
    "import pandas as pd\n",
    "import pyarrow as pa\n",
    "import pyarrow.compute as pc\n",
    "import pyfastx\n",
    "from pyarrow import csv\n",
    "from tqdm.auto import tqdm, trange"
   ]
  },
  {
   "cell_type": "code",
   "execution_count": null,
   "id": "f4ec68fd-4dab-43a1-a74d-fc2137f04acb",
   "metadata": {},
   "outputs": [],
   "source": [
    "%load_ext autoreload\n",
    "%autoreload 2"
   ]
  },
  {
   "cell_type": "code",
   "execution_count": null,
   "id": "6d3d323b-2fd5-44cd-b9b0-ed41db593de3",
   "metadata": {},
   "outputs": [],
   "source": [
    "import paulssonlab.cloning.design as design\n",
    "import paulssonlab.cloning.sequence as sequence\n",
    "import paulssonlab.sequencing.io as sio"
   ]
  },
  {
   "cell_type": "code",
   "execution_count": null,
   "id": "f117a156-f6f6-423f-81be-bb5eed890a23",
   "metadata": {},
   "outputs": [],
   "source": [
    "hv.extension(\"bokeh\")"
   ]
  },
  {
   "cell_type": "markdown",
   "id": "852daa9a-2247-4f04-addf-baf37d226be1",
   "metadata": {},
   "source": [
    "# Functions"
   ]
  },
  {
   "cell_type": "markdown",
   "id": "0d050f91-79f4-491b-a4c4-a208210eff14",
   "metadata": {},
   "source": [
    "# Config"
   ]
  },
  {
   "cell_type": "code",
   "execution_count": null,
   "id": "ec13865c-feee-429b-9929-a35b71e07a10",
   "metadata": {},
   "outputs": [],
   "source": [
    "# data_dir = Path(\"/home/jqs1/scratch/sequencing/230707_repressilators/20230707_2040_MN35044_FAS94231_25542e0d/_temp/\")\n",
    "# carlos_variants = pyfastx.Fasta(data_dir / \"230726_carlos/Savinov_Fragment_key.fasta\")"
   ]
  },
  {
   "cell_type": "markdown",
   "id": "ffcfb9d7-0fd1-45eb-8bc1-95f05b336965",
   "metadata": {},
   "source": [
    "# Test"
   ]
  },
  {
   "cell_type": "code",
   "execution_count": null,
   "id": "e3de5682-e861-429c-9b2c-65ab1d7a98d1",
   "metadata": {},
   "outputs": [],
   "source": [
    "# SEE: https://github.com/maickrau/GraphAligner/issues/18#issuecomment-635793833"
   ]
  },
  {
   "cell_type": "code",
   "execution_count": null,
   "id": "4358feea-9fbe-47c5-b9a2-ef7206607adc",
   "metadata": {},
   "outputs": [],
   "source": [
    "# TODO: REPLACE RANDOM_BASES, use rng?"
   ]
  },
  {
   "cell_type": "code",
   "execution_count": null,
   "id": "1e7445b4-5dd5-45eb-b91c-5396f8ef0afb",
   "metadata": {},
   "outputs": [],
   "source": [
    "# segments = [[\"aa\", \"cc\"], [\"tttat\", \"cccgc\"], [\"tccccccc\"]]\n",
    "# segments = [[\"aa\"*20, \"cc\"*20], [\"tttat\"*5, \"cccgc\"*5], [\"tccccccc\"*5]]\n",
    "# segments = [\n",
    "#     [design.random_bases(40) for i in range(2)],\n",
    "#     [design.random_bases(40) for i in range(2)],\n",
    "#     [design.random_bases(40) for i in range(2)],\n",
    "# ]\n",
    "segments = [\n",
    "    [design.random_bases(40, \"atcg\") for i in range(2)],\n",
    "    [design.random_bases(40, \"atcg\") for i in range(2)],\n",
    "    [design.random_bases(10, \"atcg\") for i in range(10)],\n",
    "    [design.random_bases(40, \"atcg\") for i in range(2)],\n",
    "    [design.random_bases(40, \"atcg\") for i in range(2)],\n",
    "]"
   ]
  },
  {
   "cell_type": "code",
   "execution_count": null,
   "id": "f4826831-048b-4be9-a0e0-05fa44b69cca",
   "metadata": {},
   "outputs": [],
   "source": [
    "%%time\n",
    "# base_args = [\"-b\", \"100000\", \"-C\", \"500000\", \"--verbose\"]\n",
    "# base_args = [\"--verbose\", \"--seeds-clustersize\", \"0\"]\n",
    "base_args = [\"--verbose\"]\n",
    "graphaligner_args = [\n",
    "    # [*base_args, \"-x\", \"vg\"],\n",
    "    [\n",
    "        *base_args,\n",
    "        \"-b\",\n",
    "        \"100000\",\n",
    "        \"-C\",\n",
    "        \"500000\",\n",
    "        \"--seedless-DP\",\n",
    "        \"--DP-restart-stride\",\n",
    "        \"1000\",\n",
    "    ],\n",
    "    # [*base_args, \"-x\", \"dbg\"],\n",
    "    # [*base_args, \"-b\", \"15\", \"-C\", \"-1\", \"--seeds-minimizer-windowsize\", \"20\", \"--seeds-minimizer-density\", \"0\", \"--seeds-minimizer-length\", \"10\"],\n",
    "    # [\n",
    "    #     *base_args,\n",
    "    #     \"--seeds-mxm-windowsize\",\n",
    "    #     \"500\",\n",
    "    #     \"--seeds-mxm-length\",\n",
    "    #     \"30\",\n",
    "    #     \"--seeds-mem-count\",\n",
    "    #     \"10000\",\n",
    "    #     \"--bandwidth\",\n",
    "    #     \"15\",\n",
    "    #     # \"--multimap-score-fraction\",\n",
    "    #     # \"0.99\",\n",
    "    #     # \"--precise-clipping\",\n",
    "    #     # \"0.85\",\n",
    "    #     \"--min-alignment-score\",\n",
    "    #     \"5000\",\n",
    "    #     # \"--clip-ambiguous-ends\",\n",
    "    #     # \"100\",\n",
    "    #     # \"--overlap-incompatible-cutoff\",\n",
    "    #     # \"0.15\",\n",
    "    #     \"--max-trace-count\",\n",
    "    #     \"5\",\n",
    "    # ],\n",
    "    # [*base_args, \"-b\", \"15\", \"-C\", \"-1\", \"--seeds-mum-count\", \"-1\"],\n",
    "    # [*base_args, \"-b\", \"15\", \"-C\", \"-1\", \"--seeds-mem-count\", \"-1\"],\n",
    "    # [\n",
    "    #     *base_args,\n",
    "    #     \"-b\",\n",
    "    #     \"15\",\n",
    "    #     \"-C\",\n",
    "    #     \"-1\",\n",
    "    #     \"--seeds-mum-count\",\n",
    "    #     \"-1\",\n",
    "    #     \"--max-trace-count\",\n",
    "    #     \"-1\",\n",
    "    #     \"--max-cluster-extend\",\n",
    "    #     \"-1\",\n",
    "    # ],\n",
    "    # [\n",
    "    #     *base_args,\n",
    "    #     \"-b\",\n",
    "    #     \"15\",\n",
    "    #     \"-C\",\n",
    "    #     \"-1\",\n",
    "    #     \"--seeds-mem-count\",\n",
    "    #     \"-1\",\n",
    "    #     \"--max-trace-count\",\n",
    "    #     \"-1\",\n",
    "    #     \"--max-cluster-extend\",\n",
    "    #     \"-1\",\n",
    "    # ],\n",
    "    # [\n",
    "    #     *base_args,\n",
    "    #     # \"--seedless-DP\",\n",
    "    #     # \"--DP-restart-stride\",\n",
    "    #     # \"1000\",\n",
    "    #     # \"--precise-clipping\",\n",
    "    #     # \"0.502\",\n",
    "    #     # \"--X-drop\",\n",
    "    #     # \"1000000\",\n",
    "    # ],\n",
    "]\n",
    "res, ground_truth = run_aligner_synthetic(\n",
    "    segments,\n",
    "    num_reads=100,\n",
    "    args=graphaligner_args,\n",
    "    q=10,\n",
    "    rng=np.random.default_rng(714),\n",
    ")\n",
    "errors = [check_alignment(run[0], ground_truth) for run in res]\n",
    "times = [run[1] for run in res]"
   ]
  },
  {
   "cell_type": "code",
   "execution_count": null,
   "id": "38db808a-0b33-4b77-b4dc-a400e9cac4af",
   "metadata": {},
   "outputs": [],
   "source": [
    "res[0][0][\"path\"]"
   ]
  },
  {
   "cell_type": "code",
   "execution_count": null,
   "id": "45257c49-6237-44f8-bd65-7e69416b9758",
   "metadata": {},
   "outputs": [],
   "source": [
    "for t, run_errors, run_args in zip(times, errors, graphaligner_args):\n",
    "    print(f\"{' '.join(run_args).rjust(80)}: {len(run_errors)} ({t:.2f}s)\")"
   ]
  },
  {
   "cell_type": "code",
   "execution_count": null,
   "id": "58f739e9-f10e-4927-9fba-69ddf325874d",
   "metadata": {},
   "outputs": [],
   "source": [
    "res"
   ]
  },
  {
   "cell_type": "code",
   "execution_count": null,
   "id": "7b7bb02f-386d-4f48-b446-ea5523fb7831",
   "metadata": {},
   "outputs": [],
   "source": [
    "ground_truth"
   ]
  },
  {
   "cell_type": "code",
   "execution_count": null,
   "id": "a35f25a8-26b7-429e-9298-fcd3a0bc73f5",
   "metadata": {},
   "outputs": [],
   "source": [
    "res[0][0].column(\"path\")"
   ]
  }
 ],
 "metadata": {
  "kernelspec": {
   "display_name": "Python 3 (ipykernel)",
   "language": "python",
   "name": "python3"
  },
  "language_info": {
   "codemirror_mode": {
    "name": "ipython",
    "version": 3
   },
   "file_extension": ".py",
   "mimetype": "text/x-python",
   "name": "python",
   "nbconvert_exporter": "python",
   "pygments_lexer": "ipython3",
   "version": "3.10.13"
  }
 },
 "nbformat": 4,
 "nbformat_minor": 5
}
