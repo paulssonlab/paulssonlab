{
 "cells": [
  {
   "cell_type": "code",
   "execution_count": null,
   "id": "dd359427-fe16-42d7-928f-c68049e91b13",
   "metadata": {},
   "outputs": [],
   "source": [
    "import gfapy\n",
    "import matplotlib.pyplot as plt\n",
    "import networkx as nx\n",
    "from tqdm.auto import tqdm, trange"
   ]
  },
  {
   "cell_type": "code",
   "execution_count": null,
   "id": "0f06dec2-ed1c-42ab-b263-dcc0687f3992",
   "metadata": {},
   "outputs": [],
   "source": [
    "import paulssonlab.sequencing.gfa as sgfa"
   ]
  },
  {
   "cell_type": "code",
   "execution_count": null,
   "id": "6b453f06-66a6-4ad1-bbf4-09cbca31302b",
   "metadata": {},
   "outputs": [],
   "source": [
    "gfa = gfapy.Gfa.from_file(\n",
    "    \"/home/jqs1/scratch/sequencing/231201_bcd_rbses_run3/20231201_1101_1F_PAU05823_773c75ee/references/pLIB430-435.gfa\"\n",
    ")"
   ]
  },
  {
   "cell_type": "code",
   "execution_count": null,
   "id": "134b8f5b-f0f6-42fd-912a-c6248645f36a",
   "metadata": {},
   "outputs": [],
   "source": [
    "gfa_filtered = sgfa.filter_gfa(\n",
    "    #    gfa, exclude=[\"UNS9\", \"BC:UPSTREAM\", \"BC:JUNCTION\", \"BC:T7_TERM\", \"BC:SPACER2\"]\n",
    "    gfa,  # exclude=[\"UNS9\", \"BC:UPSTREAM\", \"BC:JUNCTION\", \"BC:T7_TERM\", \"BC:SPACER2\"]\n",
    ")\n",
    "graph = sgfa.gfa_to_dag(gfa_filtered)\n",
    "# weakly_connected_components is a generator, so only compute once\n",
    "wccs = list(nx.weakly_connected_components(graph))\n",
    "forward_segments = sgfa.dag_forward_segments(graph, wccs=wccs)\n",
    "endpoints = sgfa.dag_endpoints(graph, wccs=wccs)"
   ]
  },
  {
   "cell_type": "code",
   "execution_count": null,
   "id": "ad760b5f-2163-4c1d-bad0-7d1bc2094a0c",
   "metadata": {},
   "outputs": [],
   "source": [
    "wccs"
   ]
  },
  {
   "cell_type": "code",
   "execution_count": null,
   "id": "477740d8-7128-4a06-b4ba-5b489adf956a",
   "metadata": {},
   "outputs": [],
   "source": [
    "forward_segments"
   ]
  },
  {
   "cell_type": "code",
   "execution_count": null,
   "id": "08b4c7ee-b71e-4371-9b0b-a9a96afbef29",
   "metadata": {},
   "outputs": [],
   "source": [
    "G = sgfa.gfa_to_dag(gfa)"
   ]
  },
  {
   "cell_type": "code",
   "execution_count": null,
   "id": "e1295aed-fad7-4857-9483-31115708da35",
   "metadata": {},
   "outputs": [],
   "source": [
    "pos = nx.spiral_layout(G)  # nx.multipartite_layout(G)\n",
    "nx.draw_networkx(G, pos)"
   ]
  }
 ],
 "metadata": {
  "kernelspec": {
   "display_name": "Python 3 (ipykernel)",
   "language": "python",
   "name": "python3"
  },
  "language_info": {
   "codemirror_mode": {
    "name": "ipython",
    "version": 3
   },
   "file_extension": ".py",
   "mimetype": "text/x-python",
   "name": "python",
   "nbconvert_exporter": "python",
   "pygments_lexer": "ipython3",
   "version": "3.10.13"
  }
 },
 "nbformat": 4,
 "nbformat_minor": 5
}
