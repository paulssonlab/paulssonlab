{
 "cells": [
  {
   "cell_type": "code",
   "execution_count": null,
   "id": "41c57f7d-eb34-40e9-b810-10d4c44d68b2",
   "metadata": {},
   "outputs": [],
   "source": [
    "import itertools as it\n",
    "from collections import Counter, defaultdict\n",
    "from functools import partial\n",
    "from pathlib import Path\n",
    "\n",
    "import gfapy\n",
    "import holoviews as hv\n",
    "import hvplot.pandas\n",
    "import matplotlib.pyplot as plt\n",
    "import numpy as np\n",
    "import pandas as pd\n",
    "import polars as pl\n",
    "import pyarrow as pa\n",
    "import pyarrow.compute as pc\n",
    "import pyarrow.dataset as ds\n",
    "from tqdm.auto import tqdm, trange"
   ]
  },
  {
   "cell_type": "code",
   "execution_count": null,
   "id": "f4ec68fd-4dab-43a1-a74d-fc2137f04acb",
   "metadata": {},
   "outputs": [],
   "source": [
    "%load_ext autoreload\n",
    "%autoreload 2"
   ]
  },
  {
   "cell_type": "code",
   "execution_count": null,
   "id": "6d3d323b-2fd5-44cd-b9b0-ed41db593de3",
   "metadata": {},
   "outputs": [],
   "source": [
    "import paulssonlab.sequencing.align as align\n",
    "import paulssonlab.sequencing.cigar as scigar\n",
    "import paulssonlab.sequencing.consensus as con\n",
    "import paulssonlab.sequencing.gfa as sgfa\n",
    "import paulssonlab.sequencing.io as sio\n",
    "import paulssonlab.sequencing.processing as processing\n",
    "from paulssonlab.util.sequence import reverse_complement"
   ]
  },
  {
   "cell_type": "code",
   "execution_count": null,
   "id": "f117a156-f6f6-423f-81be-bb5eed890a23",
   "metadata": {},
   "outputs": [],
   "source": [
    "hv.extension(\"bokeh\")"
   ]
  },
  {
   "cell_type": "code",
   "execution_count": null,
   "id": "d286b864-7447-4195-8a34-2ede229b0b4c",
   "metadata": {},
   "outputs": [],
   "source": [
    "pl.enable_string_cache()"
   ]
  },
  {
   "cell_type": "markdown",
   "id": "beb44fea-da94-44d4-bd8f-f8671fb918a6",
   "metadata": {},
   "source": [
    "# Test"
   ]
  },
  {
   "cell_type": "code",
   "execution_count": null,
   "id": "7ac02ebb-ecbe-434c-b9fe-aa99421a1d21",
   "metadata": {},
   "outputs": [],
   "source": [
    "%%time\n",
    "# arrow_filename = \"/home/jqs1/scratch/sequencing/230707_repressilators/20230707_2040_MN35044_FAS94231_25542e0d/consensus/consensus-8-of-20.arrow\"\n",
    "arrow_filename = \"/home/jqs1/scratch/sequencing/240111_pLIB442-447_revio/output/default/prepare_consensus/consensus-107-of-120.arrow\"\n",
    "df_test = pl.read_ipc(arrow_filename)"
   ]
  },
  {
   "cell_type": "code",
   "execution_count": null,
   "id": "edd8b0c4-b5ce-4373-8bf1-efd422de8feb",
   "metadata": {},
   "outputs": [],
   "source": [
    "len(df_test)"
   ]
  },
  {
   "cell_type": "code",
   "execution_count": null,
   "id": "fa8eaa3a-0afb-440d-9156-5a2894be20d2",
   "metadata": {},
   "outputs": [],
   "source": [
    "df_test.head()"
   ]
  },
  {
   "cell_type": "code",
   "execution_count": null,
   "id": "33856753-839d-4c59-be0f-5a11e999c9fd",
   "metadata": {},
   "outputs": [],
   "source": [
    "%%time\n",
    "df_test.with_columns(\n",
    "    path_hash2=pl.col(\"path\").hash() % 120,\n",
    "    path_hash3=processing.categorical_list_hash(pl.col(\"path\")) % 120,\n",
    "    path_hash4=pl.col(\"path\").list.eval(pl.element().hash()).hash() % 120,\n",
    "    path_hash5=pl.col(\"path\")\n",
    "    .cast(pl.List(pl.String))\n",
    "    .list.eval(pl.element().hash())\n",
    "    .hash()\n",
    "    % 120,\n",
    ")"
   ]
  },
  {
   "cell_type": "code",
   "execution_count": null,
   "id": "6e9e3f67-2b87-47cd-b98f-de267be3e7e1",
   "metadata": {},
   "outputs": [],
   "source": [
    "%%time\n",
    "df_test.with_columns(test=pl.col(\"path\").list.eval(pl.element().hash()).hash())"
   ]
  },
  {
   "cell_type": "code",
   "execution_count": null,
   "id": "5399bf75-5f96-48f8-a543-636756cc7cc3",
   "metadata": {},
   "outputs": [],
   "source": [
    "df_test.with_columns(\n",
    "    test=pl.col(\"path\").to_physical().list.eval(pl.element().hash()).hash()\n",
    ")"
   ]
  },
  {
   "cell_type": "code",
   "execution_count": null,
   "id": "8a923ce5-3830-4864-af25-62ef2fdac80c",
   "metadata": {},
   "outputs": [],
   "source": [
    "%%time\n",
    "df_test.with_columns(\n",
    "    test=pl.col(\"path\").cast(pl.List(pl.String)).list.eval(pl.element().hash()).hash()\n",
    ")"
   ]
  },
  {
   "cell_type": "code",
   "execution_count": null,
   "id": "db6dcfcb-a9cd-4524-9903-91aa665d5694",
   "metadata": {},
   "outputs": [],
   "source": [
    "df_test.head().select(pl.col(\"path\").hash(0))"
   ]
  },
  {
   "cell_type": "code",
   "execution_count": null,
   "id": "f032d302-7530-427b-9418-2e280d1847f3",
   "metadata": {},
   "outputs": [],
   "source": [
    "df_test.select(pl.col(\"path\").hash() % 120)"
   ]
  },
  {
   "cell_type": "code",
   "execution_count": null,
   "id": "6aee8adf-30d1-4b87-ac2a-c5b0aeb6d89b",
   "metadata": {},
   "outputs": [],
   "source": [
    "x = df_test[\"path\"].value_counts(sort=True)"
   ]
  },
  {
   "cell_type": "code",
   "execution_count": null,
   "id": "731f3466-43be-4fbf-a77b-73a06cc9063f",
   "metadata": {},
   "outputs": [],
   "source": [
    "x[0, 0]"
   ]
  },
  {
   "cell_type": "code",
   "execution_count": null,
   "id": "5105b3cf-999d-47bf-a3f0-6ced63d73742",
   "metadata": {},
   "outputs": [],
   "source": [
    "x[1, 0]"
   ]
  },
  {
   "cell_type": "code",
   "execution_count": null,
   "id": "5636da53-2396-4033-9174-b40555ff9c8b",
   "metadata": {},
   "outputs": [],
   "source": [
    "%%time\n",
    "arrow_filename = \"/home/jqs1/scratch/sequencing/240111_pLIB442-447_revio/output/default/prepare_consensus/*.arrow\"\n",
    "df_test = pl.read_ipc(arrow_filename)"
   ]
  },
  {
   "cell_type": "markdown",
   "id": "f610e5c1-1155-4d0c-b995-f06fa5f1018d",
   "metadata": {},
   "source": [
    "# 240111_bcd_rbses_revio"
   ]
  },
  {
   "cell_type": "code",
   "execution_count": null,
   "id": "54294e31-2a62-42c0-858e-3019df3f9008",
   "metadata": {},
   "outputs": [],
   "source": [
    "arrow_filename = \"/home/jqs1/scratch/sequencing/240111_pLIB442-447_revio/output/default/consensus/*.arrow\"\n",
    "df_revio = pl.read_ipc(arrow_filename)"
   ]
  },
  {
   "cell_type": "code",
   "execution_count": null,
   "id": "07210e43-483e-4dd5-8650-a7ded1ff52ef",
   "metadata": {},
   "outputs": [],
   "source": [
    "df_revio.with_columns(len=pl.col(\"consensus_seq\").str.len_bytes())"
   ]
  },
  {
   "cell_type": "code",
   "execution_count": null,
   "id": "8eab5955-2786-4e53-88da-7dfe04683d50",
   "metadata": {},
   "outputs": [],
   "source": [
    "df_revio.select(\n",
    "    pl.col(\"grouping_depth\").sum().alias(\"foo\")\n",
    ").to_series()  # .to_dict(as_series=False)"
   ]
  },
  {
   "cell_type": "code",
   "execution_count": null,
   "id": "bad930f5-adaf-4787-8e91-bd0677160a5e",
   "metadata": {},
   "outputs": [],
   "source": [
    "df_revio[\"grouping_depth\"].to_pandas().hvplot.hist(bins=100, steps)"
   ]
  },
  {
   "cell_type": "code",
   "execution_count": null,
   "id": "2e592ac7-7b72-4cdc-91b1-a8b5a435f862",
   "metadata": {},
   "outputs": [],
   "source": [
    "x = pl.read_ipc(\n",
    "    \"/n/scratch/users/j/jqs1/sequencing/240111_pLIB442-447_revio/work/52/122a8a96d2c37f2d05a049b7092895/*.arrow\"\n",
    ")"
   ]
  },
  {
   "cell_type": "code",
   "execution_count": null,
   "id": "f59e3ed0-2bba-4a06-a54c-acbc62e87f54",
   "metadata": {},
   "outputs": [],
   "source": [
    "x.sort(\"consensus_depth\")"
   ]
  },
  {
   "cell_type": "code",
   "execution_count": null,
   "id": "823b4698-975d-40ae-bd8e-fd2866867645",
   "metadata": {},
   "outputs": [],
   "source": [
    "x"
   ]
  },
  {
   "cell_type": "markdown",
   "id": "dd13543e-2cba-4300-8695-6dcb5a34eb69",
   "metadata": {},
   "source": [
    "# 231207_pLIB442-447"
   ]
  },
  {
   "cell_type": "code",
   "execution_count": null,
   "id": "5e9b4ce7-bafe-4668-b4a7-7320414d53c9",
   "metadata": {},
   "outputs": [],
   "source": [
    "%%time\n",
    "arrow_filename = \"/home/jqs1/scratch/sequencing/231207_pLIB442-447/20231207_1151_3C_PAU07761_c6097b3e/consensus/*.arrow\"\n",
    "df_ont = pl.read_ipc(arrow_filename)"
   ]
  },
  {
   "cell_type": "markdown",
   "id": "b4e3822a-7391-47a7-ae34-69f88566e65c",
   "metadata": {},
   "source": [
    "# Pairwise alignment"
   ]
  },
  {
   "cell_type": "code",
   "execution_count": null,
   "id": "91ba8cf0-ddd1-4b3e-b963-fadd87317d08",
   "metadata": {},
   "outputs": [],
   "source": [
    "%%time\n",
    "df_joined = df_revio.with_columns(path_hash=pl.col(\"path\").hash()).join(\n",
    "    df_ont.with_columns(path_hash=pl.col(\"path\").hash()),\n",
    "    on=\"path_hash\",\n",
    "    how=\"outer_coalesce\",\n",
    ")"
   ]
  },
  {
   "cell_type": "code",
   "execution_count": null,
   "id": "af5a9eb0-c3cf-4441-a395-78b0d36b9277",
   "metadata": {},
   "outputs": [],
   "source": [
    "%%time\n",
    "df_joined = df_revio.with_columns(\n",
    "    path_hash=pl.col(\"path\").cast(pl.List(pl.String)).list.join(\"+\")\n",
    ").join(\n",
    "    df_ont.with_columns(\n",
    "        path_hash=pl.col(\"path\").cast(pl.List(pl.String)).list.join(\"+\")\n",
    "    ),\n",
    "    on=\"path_hash\",\n",
    "    how=\"inner\",\n",
    "    validate=\"1:1\",\n",
    ")"
   ]
  },
  {
   "cell_type": "code",
   "execution_count": null,
   "id": "0438d658-c7dc-49ef-8db5-d20639b3eaaa",
   "metadata": {},
   "outputs": [],
   "source": [
    "df_ont[\"path\"].value_counts(sort=True)"
   ]
  },
  {
   "cell_type": "code",
   "execution_count": null,
   "id": "25c7bb2c-444c-4043-bcd9-190c13563bbd",
   "metadata": {},
   "outputs": [],
   "source": [
    "df_joined[\"path_hash\"].value_counts(sort=True)"
   ]
  },
  {
   "cell_type": "code",
   "execution_count": null,
   "id": "fe8d2439-def9-408a-8499-50870232d89b",
   "metadata": {},
   "outputs": [],
   "source": [
    "len(df_joined)"
   ]
  },
  {
   "cell_type": "code",
   "execution_count": null,
   "id": "96aeedb2-50cd-4fa9-b710-71539302c868",
   "metadata": {},
   "outputs": [],
   "source": [
    "df_joined.group_by(\n",
    "    pl.col(\"path\").is_not_null(), pl.col(\"path_right\").is_not_null()\n",
    ").agg(pl.len()).with_columns(frac=pl.col(\"len\") / pl.col(\"len\").sum()).rename(\n",
    "    {\"path\": \"in_revio\", \"path_right\": \"in_ont\"}\n",
    ")"
   ]
  },
  {
   "cell_type": "code",
   "execution_count": null,
   "id": "a456f0c5-2e8b-486f-94bc-a6a368be6fec",
   "metadata": {},
   "outputs": [],
   "source": [
    "len(df_revio)"
   ]
  },
  {
   "cell_type": "code",
   "execution_count": null,
   "id": "6c1dc8ab-6cd6-4829-8eb8-0efd2ad67a82",
   "metadata": {},
   "outputs": [],
   "source": [
    "len(df_ont)"
   ]
  }
 ],
 "metadata": {
  "kernelspec": {
   "display_name": "Python 3 (ipykernel)",
   "language": "python",
   "name": "python3"
  },
  "language_info": {
   "codemirror_mode": {
    "name": "ipython",
    "version": 3
   },
   "file_extension": ".py",
   "mimetype": "text/x-python",
   "name": "python",
   "nbconvert_exporter": "python",
   "pygments_lexer": "ipython3",
   "version": "3.12.2"
  }
 },
 "nbformat": 4,
 "nbformat_minor": 5
}
