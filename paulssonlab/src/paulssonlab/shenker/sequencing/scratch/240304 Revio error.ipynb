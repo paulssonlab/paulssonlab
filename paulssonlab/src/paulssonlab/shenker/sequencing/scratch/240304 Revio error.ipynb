{
 "cells": [
  {
   "cell_type": "code",
   "execution_count": null,
   "id": "41c57f7d-eb34-40e9-b810-10d4c44d68b2",
   "metadata": {},
   "outputs": [],
   "source": [
    "import itertools as it\n",
    "from collections import Counter, defaultdict\n",
    "from functools import partial\n",
    "from glob import glob\n",
    "from pathlib import Path\n",
    "\n",
    "import gfapy\n",
    "import holoviews as hv\n",
    "import hvplot.pandas\n",
    "import matplotlib.pyplot as plt\n",
    "import numpy as np\n",
    "import pandas as pd\n",
    "import polars as pl\n",
    "import pyarrow as pa\n",
    "import pyarrow.compute as pc\n",
    "import pyarrow.dataset as ds\n",
    "from cytoolz import dissoc\n",
    "from dask.distributed import Client, LocalCluster, progress\n",
    "from dask_jobqueue import SLURMCluster\n",
    "from tqdm.auto import tqdm, trange"
   ]
  },
  {
   "cell_type": "code",
   "execution_count": null,
   "id": "f4ec68fd-4dab-43a1-a74d-fc2137f04acb",
   "metadata": {},
   "outputs": [],
   "source": [
    "%load_ext autoreload\n",
    "%autoreload 2"
   ]
  },
  {
   "cell_type": "code",
   "execution_count": null,
   "id": "6d3d323b-2fd5-44cd-b9b0-ed41db593de3",
   "metadata": {},
   "outputs": [],
   "source": [
    "import paulssonlab.sequencing.align as align\n",
    "import paulssonlab.sequencing.cigar as scigar\n",
    "import paulssonlab.sequencing.consensus as con\n",
    "import paulssonlab.sequencing.gfa as sgfa\n",
    "import paulssonlab.sequencing.io as sio\n",
    "import paulssonlab.sequencing.processing as processing\n",
    "from paulssonlab.util.sequence import reverse_complement"
   ]
  },
  {
   "cell_type": "code",
   "execution_count": null,
   "id": "f117a156-f6f6-423f-81be-bb5eed890a23",
   "metadata": {},
   "outputs": [],
   "source": [
    "hv.extension(\"bokeh\")"
   ]
  },
  {
   "cell_type": "code",
   "execution_count": null,
   "id": "d286b864-7447-4195-8a34-2ede229b0b4c",
   "metadata": {},
   "outputs": [],
   "source": [
    "pl.enable_string_cache()"
   ]
  },
  {
   "cell_type": "markdown",
   "id": "93f9d820-2a05-4389-9c74-5017bf3817c0",
   "metadata": {},
   "source": [
    "# Functions"
   ]
  },
  {
   "cell_type": "code",
   "execution_count": null,
   "id": "b537fad2-c426-4701-b369-5ef91f35e0a5",
   "metadata": {},
   "outputs": [],
   "source": [
    "def concat_glob(filename):\n",
    "    return pl.concat([pl.scan_ipc(f) for f in glob(filename)], how=\"diagonal\")"
   ]
  },
  {
   "cell_type": "markdown",
   "id": "f47d7821-ac3f-4327-978a-6fe5c52d3c81",
   "metadata": {},
   "source": [
    "# Config"
   ]
  },
  {
   "cell_type": "code",
   "execution_count": null,
   "id": "f01c917a-4ef7-49c0-b78f-6fa690e60769",
   "metadata": {},
   "outputs": [],
   "source": [
    "cluster = SLURMCluster(\n",
    "    queue=\"short\",\n",
    "    walltime=\"00:30:00\",\n",
    "    memory=\"1GB\",\n",
    "    local_directory=\"/tmp\",\n",
    "    log_directory=\"/home/jqs1/log\",\n",
    "    cores=1,\n",
    "    processes=1,\n",
    ")\n",
    "client = Client(cluster)"
   ]
  },
  {
   "cell_type": "code",
   "execution_count": null,
   "id": "59dc6473-91c9-44f4-9d69-c01b160c9220",
   "metadata": {},
   "outputs": [],
   "source": [
    "cluster"
   ]
  },
  {
   "cell_type": "code",
   "execution_count": null,
   "id": "9351d5ec-bf68-4f38-8b3c-d8854c821bf9",
   "metadata": {},
   "outputs": [],
   "source": [
    "cluster.scale(0)"
   ]
  },
  {
   "cell_type": "markdown",
   "id": "f610e5c1-1155-4d0c-b995-f06fa5f1018d",
   "metadata": {},
   "source": [
    "# 240111_bcd_rbses_revio"
   ]
  },
  {
   "cell_type": "code",
   "execution_count": null,
   "id": "54294e31-2a62-42c0-858e-3019df3f9008",
   "metadata": {},
   "outputs": [],
   "source": [
    "arrow_filename = (\n",
    "    \"/home/jqs1/scratch/sequencing/240111_pLIB442-447_revio/consensus/*.arrow\"\n",
    ")\n",
    "df_revio = concat_glob(arrow_filename).collect()"
   ]
  },
  {
   "cell_type": "code",
   "execution_count": null,
   "id": "d1ca4a42-aa3d-4ef9-8101-178a15cb42f2",
   "metadata": {},
   "outputs": [],
   "source": [
    "df_revio[\"grouping_depth\"].sort(descending=True).to_pandas().hvplot.step()"
   ]
  },
  {
   "cell_type": "code",
   "execution_count": null,
   "id": "07210e43-483e-4dd5-8650-a7ded1ff52ef",
   "metadata": {},
   "outputs": [],
   "source": [
    "df_revio.with_columns(len=pl.col(\"consensus_seq\").str.len_bytes())"
   ]
  },
  {
   "cell_type": "code",
   "execution_count": null,
   "id": "8eab5955-2786-4e53-88da-7dfe04683d50",
   "metadata": {},
   "outputs": [],
   "source": [
    "df_revio.select(\n",
    "    pl.col(\"grouping_depth\").sum().alias(\"foo\")\n",
    ").to_series()  # .to_dict(as_series=False)"
   ]
  },
  {
   "cell_type": "markdown",
   "id": "dd13543e-2cba-4300-8695-6dcb5a34eb69",
   "metadata": {},
   "source": [
    "# 231207_pLIB442-447"
   ]
  },
  {
   "cell_type": "code",
   "execution_count": null,
   "id": "5e9b4ce7-bafe-4668-b4a7-7320414d53c9",
   "metadata": {},
   "outputs": [],
   "source": [
    "%%time\n",
    "arrow_filename = \"/home/jqs1/scratch/sequencing/231207_pLIB442-447/20231207_1151_3C_PAU07761_c6097b3e/consensus/*.arrow\"\n",
    "df_ont = concat_glob(arrow_filename).collect()"
   ]
  },
  {
   "cell_type": "markdown",
   "id": "ba83753d-b9e7-4ced-94bd-791d9d0b8072",
   "metadata": {},
   "source": [
    "# Barcode distribution"
   ]
  },
  {
   "cell_type": "code",
   "execution_count": null,
   "id": "5ea8240a-060f-4299-9e65-b9aebf9f30f2",
   "metadata": {},
   "outputs": [],
   "source": [
    "arrow_filename = \"/home/jqs1/scratch/sequencing/231201_bcd_rbses_run3/20231201_1101_1F_PAU05823_773c75ee/consensus/*.arrow\"\n",
    "df_231201 = concat_glob(arrow_filename).collect()"
   ]
  },
  {
   "cell_type": "code",
   "execution_count": null,
   "id": "c1b8c174-a0c3-4d8d-832b-58cde902fe79",
   "metadata": {},
   "outputs": [],
   "source": [
    "arrow_filename = \"/home/jqs1/scratch/sequencing/230818_repressilators/20230905_1132_1H_PAQ85679_c9d74ddb/consensus/*.arrow\"\n",
    "df_230818 = concat_glob(arrow_filename).collect()"
   ]
  },
  {
   "cell_type": "code",
   "execution_count": null,
   "id": "f4b33fdb-58dd-43cc-a775-7d32b9e63edf",
   "metadata": {},
   "outputs": [],
   "source": [
    "%%time\n",
    "df_joined = (\n",
    "    df_231201.with_columns(path_hash=processing.categorical_list_hash(pl.col(\"path\")))\n",
    "    .select(pl.all().name.suffix(\"_231201\"))\n",
    "    .join(\n",
    "        df_230818.with_columns(\n",
    "            path_hash=processing.categorical_list_hash(pl.col(\"path\"))\n",
    "        ).select(pl.all().name.suffix(\"_230818\")),\n",
    "        left_on=\"path_hash_231201\",\n",
    "        right_on=\"path_hash_230818\",\n",
    "        how=\"outer_coalesce\",\n",
    "        validate=\"1:1\",\n",
    "    )\n",
    ")"
   ]
  },
  {
   "cell_type": "code",
   "execution_count": null,
   "id": "5655405b-0631-427a-85be-c6d3ba162954",
   "metadata": {},
   "outputs": [],
   "source": [
    "df_joined.group_by(\n",
    "    pl.col(\"path_231201\").is_not_null(), pl.col(\"path_230818\").is_not_null()\n",
    ").agg(pl.len()).with_columns(frac=pl.col(\"len\") / pl.col(\"len\").sum())"
   ]
  },
  {
   "cell_type": "code",
   "execution_count": null,
   "id": "1f6105ca-0480-4f8e-bad4-f2e108f6242b",
   "metadata": {},
   "outputs": [],
   "source": [
    "df_joined.with_columns(len=pl.col(\"consensus_seq_231201\").str.len_bytes())[\n",
    "    [\"grouping_depth_231201\", \"grouping_depth_230818\", \"len\"]\n",
    "].to_pandas().hvplot.scatter(\n",
    "    \"grouping_depth_231201\", \"grouping_depth_230818\", color=\"len\", size=0.5\n",
    ")"
   ]
  },
  {
   "cell_type": "markdown",
   "id": "b4e3822a-7391-47a7-ae34-69f88566e65c",
   "metadata": {},
   "source": [
    "# Pairwise alignment"
   ]
  },
  {
   "cell_type": "code",
   "execution_count": null,
   "id": "91ba8cf0-ddd1-4b3e-b963-fadd87317d08",
   "metadata": {},
   "outputs": [],
   "source": [
    "%%time\n",
    "df_joined = (\n",
    "    df_revio.with_columns(path_hash=processing.categorical_list_hash(pl.col(\"path\")))\n",
    "    .select(pl.all().name.suffix(\"_revio\"))\n",
    "    .join(\n",
    "        df_ont.with_columns(\n",
    "            path_hash=processing.categorical_list_hash(pl.col(\"path\"))\n",
    "        ).select(pl.all().name.suffix(\"_ont\")),\n",
    "        left_on=\"path_hash_revio\",\n",
    "        right_on=\"path_hash_ont\",\n",
    "        how=\"outer_coalesce\",\n",
    "        validate=\"1:1\",\n",
    "    )\n",
    ")"
   ]
  },
  {
   "cell_type": "code",
   "execution_count": null,
   "id": "96aeedb2-50cd-4fa9-b710-71539302c868",
   "metadata": {},
   "outputs": [],
   "source": [
    "df_joined.group_by(\n",
    "    pl.col(\"path_revio\").is_not_null(), pl.col(\"path_ont\").is_not_null()\n",
    ").agg(pl.len()).with_columns(frac=pl.col(\"len\") / pl.col(\"len\").sum()).rename(\n",
    "    {\"path_revio\": \"in_revio\", \"path_ont\": \"in_ont\"}\n",
    ")"
   ]
  },
  {
   "cell_type": "code",
   "execution_count": null,
   "id": "bb398780-cd56-42fe-a71b-27068994f732",
   "metadata": {},
   "outputs": [],
   "source": [
    "df_joined[\"grouping_depth_ont\"].to_pandas().hvplot.kde() * df_joined.filter(\n",
    "    pl.col(\"path_revio\").is_null()\n",
    ")[\"grouping_depth_ont\"].to_pandas().hvplot.kde()"
   ]
  },
  {
   "cell_type": "code",
   "execution_count": null,
   "id": "ae8ee95b-3c03-4bd5-ad5e-2fbea9d4e04e",
   "metadata": {},
   "outputs": [],
   "source": [
    "df_joined_both = df_joined.filter(\n",
    "    pl.col(\"path_revio\").is_not_null(), pl.col(\"path_ont\").is_not_null()\n",
    ")"
   ]
  },
  {
   "cell_type": "code",
   "execution_count": null,
   "id": "f5c4dabc-5897-4d5b-af46-ed3afbe443a7",
   "metadata": {},
   "outputs": [],
   "source": [
    "df_joined.with_columns(len=pl.col(\"consensus_seq_revio\").str.len_bytes())[\n",
    "    [\"grouping_depth_revio\", \"grouping_depth_ont\", \"len\"]\n",
    "].to_pandas().hvplot.scatter(\n",
    "    \"grouping_depth_revio\", \"grouping_depth_ont\", color=\"len\", size=0.5\n",
    ")"
   ]
  },
  {
   "cell_type": "code",
   "execution_count": null,
   "id": "465a55ab-4cad-422b-8ffd-53c5a14d9e5e",
   "metadata": {},
   "outputs": [],
   "source": [
    "query"
   ]
  },
  {
   "cell_type": "code",
   "execution_count": null,
   "id": "b27c9dc8-4806-4e1e-9f70-4efd77bd0543",
   "metadata": {},
   "outputs": [],
   "source": [
    "idx = 106\n",
    "query = df_joined_both[idx, \"consensus_seq_revio\"]\n",
    "ref = df_joined_both[idx, \"consensus_seq_ont\"]\n",
    "align_kwargs = {\n",
    "    \"gap_opening\": 10,\n",
    "    \"gap_extension\": 1,\n",
    "    \"match\": 1,\n",
    "    \"mismatch\": -1,\n",
    "    \"parasail_algorithm\": \"sw\",\n",
    "}\n",
    "res = align.pairwise_align(query, ref, **align_kwargs)\n",
    "res"
   ]
  },
  {
   "cell_type": "code",
   "execution_count": null,
   "id": "e166d456-8578-48d4-a636-1edaffe6f974",
   "metadata": {},
   "outputs": [],
   "source": [
    "def count_ops(cigar):\n",
    "    counts = Counter()\n",
    "    for idx, (op, length) in enumerate(cigar):\n",
    "        if idx == 0 or idx == len(cigar) - 1:\n",
    "            continue\n",
    "        counts[op] += length\n",
    "    return counts\n",
    "\n",
    "\n",
    "def count_op_classes(cigar):\n",
    "    counts = count_ops(cigar)\n",
    "    mismatches = counts.get(align.CigarOp.X, 0)\n",
    "    indels = counts.get(align.CigarOp.I, 0) + counts.get(align.CigarOp.D, 0)\n",
    "    return (mismatches, indels)"
   ]
  },
  {
   "cell_type": "code",
   "execution_count": null,
   "id": "e713663f-857f-4688-afdc-60c3471f0384",
   "metadata": {},
   "outputs": [],
   "source": [
    "%%time\n",
    "align_kwargs = {\n",
    "    \"gap_opening\": 10,\n",
    "    \"gap_extension\": 1,\n",
    "    \"match\": 1,\n",
    "    \"mismatch\": -1,\n",
    "    \"parasail_algorithm\": \"sw\",\n",
    "}\n",
    "for idx in range(200):\n",
    "    query = df_joined_both[idx, \"consensus_seq_revio\"]\n",
    "    ref = df_joined_both[idx, \"consensus_seq_ont\"]\n",
    "    res = align.pairwise_align(query, ref, **align_kwargs)\n",
    "    print(idx, count_op_classes(res[1]))"
   ]
  },
  {
   "cell_type": "code",
   "execution_count": null,
   "id": "360468b1-8e16-4882-8d90-52e8252888e2",
   "metadata": {},
   "outputs": [],
   "source": [
    "df_joined_both.columns"
   ]
  },
  {
   "cell_type": "code",
   "execution_count": null,
   "id": "ffd2f7dc-e962-43e9-9d12-9595291f7c6f",
   "metadata": {},
   "outputs": [],
   "source": [
    "df_joined_both.columns"
   ]
  },
  {
   "cell_type": "code",
   "execution_count": null,
   "id": "d4cb334d-f7bc-4282-8bf2-9a34375103a8",
   "metadata": {},
   "outputs": [],
   "source": [
    "%%time\n",
    "align_kwargs = {\n",
    "    \"gap_opening\": 10,\n",
    "    \"gap_extension\": 1,\n",
    "    \"match\": 1,\n",
    "    \"mismatch\": -1,\n",
    "    \"parasail_algorithm\": \"sw\",\n",
    "}\n",
    "columns = [\n",
    "    \"name_ont\",\n",
    "    \"consensus_depth_revio\",\n",
    "    \"consensus_depth_ont\",\n",
    "    \"consensus_duplex_depth_ont\",\n",
    "    \"grouping_depth_ont\",\n",
    "]\n",
    "rows = []\n",
    "num = len(df_joined_both)\n",
    "# num = 1000\n",
    "for idx in trange(num):\n",
    "    query = df_joined_both[idx, \"consensus_seq_revio\"]\n",
    "    ref = df_joined_both[idx, \"consensus_seq_ont\"]\n",
    "    row = df_joined_both[idx, columns].to_dicts()[0]\n",
    "    row[\"alignment\"] = client.submit(align.pairwise_align, query, ref, **align_kwargs)\n",
    "    rows.append(row)"
   ]
  },
  {
   "cell_type": "code",
   "execution_count": null,
   "id": "144bfdd4-ecc2-41e6-9c72-c9858faf6a6f",
   "metadata": {},
   "outputs": [],
   "source": [
    "%%time\n",
    "res = client.gather(rows)"
   ]
  },
  {
   "cell_type": "code",
   "execution_count": null,
   "id": "d49204fe-bcfd-4840-83be-1ba4cf6107db",
   "metadata": {},
   "outputs": [],
   "source": [
    "res[0]"
   ]
  },
  {
   "cell_type": "code",
   "execution_count": null,
   "id": "e85d224f-cb4e-4397-987f-e7dfe6f4aa2d",
   "metadata": {},
   "outputs": [],
   "source": [
    "def process_alignments(input):\n",
    "    output = []\n",
    "    for row in input:\n",
    "        new_row = dissoc(row, \"alignment\")\n",
    "        new_row[\"score\"] = row[\"alignment\"][0]\n",
    "        mismatches, indels = count_op_classes(row[\"alignment\"][1])\n",
    "        new_row[\"mismatches\"] = mismatches\n",
    "        new_row[\"indels\"] = indels\n",
    "        output.append(new_row)\n",
    "    return output"
   ]
  },
  {
   "cell_type": "code",
   "execution_count": null,
   "id": "739021d9-5816-44ee-bf8a-0044225d8191",
   "metadata": {},
   "outputs": [],
   "source": [
    "alignments = process_alignments(res)"
   ]
  },
  {
   "cell_type": "code",
   "execution_count": null,
   "id": "d4a6e274-1f6e-4858-8ad2-f9a29082467c",
   "metadata": {},
   "outputs": [],
   "source": [
    "alignments[0]"
   ]
  },
  {
   "cell_type": "code",
   "execution_count": null,
   "id": "9d9c83fe-7665-4b8c-9713-a93e87dd4c1e",
   "metadata": {},
   "outputs": [],
   "source": [
    "for idx, row in enumerate(alignments):\n",
    "    row[\"name_ont\"] = df_joined_both[idx, \"name_ont\"]"
   ]
  },
  {
   "cell_type": "code",
   "execution_count": null,
   "id": "822c460c-685d-4a5c-a9d0-4b6bfc0dd464",
   "metadata": {},
   "outputs": [],
   "source": [
    "df = pd.DataFrame(alignments)"
   ]
  },
  {
   "cell_type": "code",
   "execution_count": null,
   "id": "2e33c67a-9076-4e64-95c5-3dbea3558b8c",
   "metadata": {},
   "outputs": [],
   "source": [
    "df"
   ]
  },
  {
   "cell_type": "code",
   "execution_count": null,
   "id": "1a422858-63e3-4c9b-a37f-f816a2a3aa52",
   "metadata": {},
   "outputs": [],
   "source": [
    "df.to_parquet(\"240304errors.parquet\")"
   ]
  },
  {
   "cell_type": "code",
   "execution_count": null,
   "id": "5642619e-7d65-45e0-ac15-b3aa0dba140c",
   "metadata": {},
   "outputs": [],
   "source": [
    "df.hvplot.scatter(\"consensus_depth_ont\", \"indels\")"
   ]
  },
  {
   "cell_type": "code",
   "execution_count": null,
   "id": "74b00c0a-1bc7-4a1d-ab14-469187fceb47",
   "metadata": {},
   "outputs": [],
   "source": [
    "df.hvplot.bivariate(\"consensus_depth_ont\", \"indels\")"
   ]
  },
  {
   "cell_type": "code",
   "execution_count": null,
   "id": "6530ea76-a67a-4ab3-88c1-c29b9d5d1af5",
   "metadata": {},
   "outputs": [],
   "source": [
    "df[\"mismatches\"].value_counts() / len(df)"
   ]
  },
  {
   "cell_type": "code",
   "execution_count": null,
   "id": "2877dd20-ed9e-4285-a7ef-49dd25ce6dbb",
   "metadata": {},
   "outputs": [],
   "source": [
    "df[\"indels\"].value_counts() / len(df)"
   ]
  },
  {
   "cell_type": "code",
   "execution_count": null,
   "id": "4a542320-3d49-449d-9367-04a30e8bc9ed",
   "metadata": {},
   "outputs": [],
   "source": [
    "df[(df[\"mismatches\"] > 0) | (df[\"indels\"] > 5)]"
   ]
  }
 ],
 "metadata": {
  "kernelspec": {
   "display_name": "Python 3 (ipykernel)",
   "language": "python",
   "name": "python3"
  },
  "language_info": {
   "codemirror_mode": {
    "name": "ipython",
    "version": 3
   },
   "file_extension": ".py",
   "mimetype": "text/x-python",
   "name": "python",
   "nbconvert_exporter": "python",
   "pygments_lexer": "ipython3",
   "version": "3.12.2"
  }
 },
 "nbformat": 4,
 "nbformat_minor": 5
}
