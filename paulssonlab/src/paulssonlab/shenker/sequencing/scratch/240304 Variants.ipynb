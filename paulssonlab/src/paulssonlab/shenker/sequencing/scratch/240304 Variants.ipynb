{
 "cells": [
  {
   "cell_type": "code",
   "execution_count": null,
   "id": "41c57f7d-eb34-40e9-b810-10d4c44d68b2",
   "metadata": {},
   "outputs": [],
   "source": [
    "import itertools as it\n",
    "from collections import Counter, defaultdict\n",
    "from functools import partial\n",
    "from glob import glob\n",
    "from pathlib import Path\n",
    "\n",
    "import gfapy\n",
    "import holoviews as hv\n",
    "import hvplot.pandas\n",
    "import matplotlib.pyplot as plt\n",
    "import numpy as np\n",
    "import pandas as pd\n",
    "import polars as pl\n",
    "import pyarrow as pa\n",
    "import pyarrow.compute as pc\n",
    "import pyarrow.dataset as ds\n",
    "from tqdm.auto import tqdm, trange"
   ]
  },
  {
   "cell_type": "code",
   "execution_count": null,
   "id": "f4ec68fd-4dab-43a1-a74d-fc2137f04acb",
   "metadata": {},
   "outputs": [],
   "source": [
    "%load_ext autoreload\n",
    "%autoreload 2"
   ]
  },
  {
   "cell_type": "code",
   "execution_count": null,
   "id": "6d3d323b-2fd5-44cd-b9b0-ed41db593de3",
   "metadata": {},
   "outputs": [],
   "source": [
    "import paulssonlab.sequencing.align as align\n",
    "import paulssonlab.sequencing.cigar as scigar\n",
    "import paulssonlab.sequencing.consensus as con\n",
    "import paulssonlab.sequencing.gfa as sgfa\n",
    "import paulssonlab.sequencing.io as sio\n",
    "import paulssonlab.sequencing.processing as processing\n",
    "from paulssonlab.util.sequence import reverse_complement"
   ]
  },
  {
   "cell_type": "code",
   "execution_count": null,
   "id": "f117a156-f6f6-423f-81be-bb5eed890a23",
   "metadata": {},
   "outputs": [],
   "source": [
    "hv.extension(\"bokeh\")"
   ]
  },
  {
   "cell_type": "code",
   "execution_count": null,
   "id": "d286b864-7447-4195-8a34-2ede229b0b4c",
   "metadata": {},
   "outputs": [],
   "source": [
    "pl.enable_string_cache()"
   ]
  },
  {
   "cell_type": "markdown",
   "id": "b40da40a-a1e7-4283-ae1e-1da9d2e200b3",
   "metadata": {},
   "source": [
    "# Functions"
   ]
  },
  {
   "cell_type": "code",
   "execution_count": null,
   "id": "34ec49ac-7ef6-41d8-aed9-9182a4f5d3d5",
   "metadata": {},
   "outputs": [],
   "source": [
    "def concat_glob(filename):\n",
    "    return pl.concat([pl.scan_ipc(f) for f in glob(filename)], how=\"diagonal\")"
   ]
  },
  {
   "cell_type": "code",
   "execution_count": null,
   "id": "836fb631-e74b-4460-ad5c-3e0dc3626025",
   "metadata": {},
   "outputs": [],
   "source": [
    "def label_columns(cols, func=None):\n",
    "    expr = None\n",
    "    for col in cols:\n",
    "        if expr is None:\n",
    "            expr = pl.when(pl.col(col).is_not_null())\n",
    "        else:\n",
    "            expr = expr.when(pl.col(col).is_not_null())\n",
    "        if func is not None:\n",
    "            lit = func(col)\n",
    "        else:\n",
    "            lit = col\n",
    "        expr = expr.then(pl.lit(lit))\n",
    "    return expr"
   ]
  },
  {
   "cell_type": "markdown",
   "id": "8ecc6b32-a015-4d97-823c-93bfd0e8c19f",
   "metadata": {},
   "source": [
    "# Data"
   ]
  },
  {
   "cell_type": "code",
   "execution_count": null,
   "id": "fbeb7269-8f22-4d4d-bc72-8abc03942cc7",
   "metadata": {},
   "outputs": [],
   "source": [
    "bcd_sd_oligos = [\n",
    "    \"GACGGAAGACTGATGCNGTAAGGAGTTAACAGTCTTCTTAAGGTGCCGGGCCCACAT\",\n",
    "    \"GACGGAAGACTGATGCGNTAAGGAGTTAACAGTCTTCTTAAGGTGCCGGGCCCACAT\",\n",
    "    \"GACGGAAGACTGATGCGGNAAGGAGTTAACAGTCTTCTTAAGGTGCCGGGCCCACAT\",\n",
    "    \"GACGGAAGACTGATGCGGTNAGGAGTTAACAGTCTTCTTAAGGTGCCGGGCCCACAT\",\n",
    "    \"GACGGAAGACTGATGCGGTANGGAGTTAACAGTCTTCTTAAGGTGCCGGGCCCACAT\",\n",
    "    \"GACGGAAGACTGATGCGGTAANGAGTTAACAGTCTTCTTAAGGTGCCGGGCCCACAT\",\n",
    "    \"GACGGAAGACTGATGCGGTAAGNAGTTAACAGTCTTCTTAAGGTGCCGGGCCCACAT\",\n",
    "    \"GACGGAAGACTGATGCGGTAAGGNGTTAACAGTCTTCTTAAGGTGCCGGGCCCACAT\",\n",
    "    \"GACGGAAGACTGATGCGGTAAGGANTTAACAGTCTTCTTAAGGTGCCGGGCCCACAT\",\n",
    "    \"GACGGAAGACTGATGCNGAGGCAGCTTAACAGTCTTCTTAAGGTGCCGGGCCCACAT\",\n",
    "    \"GACGGAAGACTGATGCGNAGGCAGCTTAACAGTCTTCTTAAGGTGCCGGGCCCACAT\",\n",
    "    \"GACGGAAGACTGATGCGGNGGCAGCTTAACAGTCTTCTTAAGGTGCCGGGCCCACAT\",\n",
    "    \"GACGGAAGACTGATGCGGANGCAGCTTAACAGTCTTCTTAAGGTGCCGGGCCCACAT\",\n",
    "    \"GACGGAAGACTGATGCGGAGNCAGCTTAACAGTCTTCTTAAGGTGCCGGGCCCACAT\",\n",
    "    \"GACGGAAGACTGATGCGGAGGNAGCTTAACAGTCTTCTTAAGGTGCCGGGCCCACAT\",\n",
    "    \"GACGGAAGACTGATGCGGAGGCNGCTTAACAGTCTTCTTAAGGTGCCGGGCCCACAT\",\n",
    "    \"GACGGAAGACTGATGCGGAGGCANCTTAACAGTCTTCTTAAGGTGCCGGGCCCACAT\",\n",
    "    \"GACGGAAGACTGATGCGGAGGCAGNTTAACAGTCTTCTTAAGGTGCCGGGCCCACAT\",\n",
    "    \"GACGGAAGACTGATGCNTGCAGAGGTTAACAGTCTTCTTAAGGTGCCGGGCCCACAT\",\n",
    "    \"GACGGAAGACTGATGCTNGCAGAGGTTAACAGTCTTCTTAAGGTGCCGGGCCCACAT\",\n",
    "    \"GACGGAAGACTGATGCTTNCAGAGGTTAACAGTCTTCTTAAGGTGCCGGGCCCACAT\",\n",
    "    \"GACGGAAGACTGATGCTTGNAGAGGTTAACAGTCTTCTTAAGGTGCCGGGCCCACAT\",\n",
    "    \"GACGGAAGACTGATGCTTGCNGAGGTTAACAGTCTTCTTAAGGTGCCGGGCCCACAT\",\n",
    "    \"GACGGAAGACTGATGCTTGCANAGGTTAACAGTCTTCTTAAGGTGCCGGGCCCACAT\",\n",
    "    \"GACGGAAGACTGATGCTTGCAGNGGTTAACAGTCTTCTTAAGGTGCCGGGCCCACAT\",\n",
    "    \"GACGGAAGACTGATGCTTGCAGANGTTAACAGTCTTCTTAAGGTGCCGGGCCCACAT\",\n",
    "    \"GACGGAAGACTGATGCTTGCAGAGNTTAACAGTCTTCTTAAGGTGCCGGGCCCACAT\",\n",
    "    \"GACGGAAGACTGATGCNTATCGGGGTTAACAGTCTTCTTAAGGTGCCGGGCCCACAT\",\n",
    "    \"GACGGAAGACTGATGCTNATCGGGGTTAACAGTCTTCTTAAGGTGCCGGGCCCACAT\",\n",
    "    \"GACGGAAGACTGATGCTTNTCGGGGTTAACAGTCTTCTTAAGGTGCCGGGCCCACAT\",\n",
    "    \"GACGGAAGACTGATGCTTANCGGGGTTAACAGTCTTCTTAAGGTGCCGGGCCCACAT\",\n",
    "    \"GACGGAAGACTGATGCTTATNGGGGTTAACAGTCTTCTTAAGGTGCCGGGCCCACAT\",\n",
    "    \"GACGGAAGACTGATGCTTATCNGGGTTAACAGTCTTCTTAAGGTGCCGGGCCCACAT\",\n",
    "    \"GACGGAAGACTGATGCTTATCGNGGTTAACAGTCTTCTTAAGGTGCCGGGCCCACAT\",\n",
    "    \"GACGGAAGACTGATGCTTATCGGNGTTAACAGTCTTCTTAAGGTGCCGGGCCCACAT\",\n",
    "    \"GACGGAAGACTGATGCTTATCGGGNTTAACAGTCTTCTTAAGGTGCCGGGCCCACAT\",\n",
    "    \"GACGGAAGACTGATGCNGCGCGGTGTTAACAGTCTTCTTAAGGTGCCGGGCCCACAT\",\n",
    "    \"GACGGAAGACTGATGCGNCGCGGTGTTAACAGTCTTCTTAAGGTGCCGGGCCCACAT\",\n",
    "    \"GACGGAAGACTGATGCGGNGCGGTGTTAACAGTCTTCTTAAGGTGCCGGGCCCACAT\",\n",
    "    \"GACGGAAGACTGATGCGGCNCGGTGTTAACAGTCTTCTTAAGGTGCCGGGCCCACAT\",\n",
    "    \"GACGGAAGACTGATGCGGCGNGGTGTTAACAGTCTTCTTAAGGTGCCGGGCCCACAT\",\n",
    "    \"GACGGAAGACTGATGCGGCGCNGTGTTAACAGTCTTCTTAAGGTGCCGGGCCCACAT\",\n",
    "    \"GACGGAAGACTGATGCGGCGCGNTGTTAACAGTCTTCTTAAGGTGCCGGGCCCACAT\",\n",
    "    \"GACGGAAGACTGATGCGGCGCGGNGTTAACAGTCTTCTTAAGGTGCCGGGCCCACAT\",\n",
    "    \"GACGGAAGACTGATGCGGCGCGGTNTTAACAGTCTTCTTAAGGTGCCGGGCCCACAT\",\n",
    "    \"GACGGAAGACTGATGCNCCGGTGTTTTAACAGTCTTCTTAAGGTGCCGGGCCCACAT\",\n",
    "    \"GACGGAAGACTGATGCGNCGGTGTTTTAACAGTCTTCTTAAGGTGCCGGGCCCACAT\",\n",
    "    \"GACGGAAGACTGATGCGCNGGTGTTTTAACAGTCTTCTTAAGGTGCCGGGCCCACAT\",\n",
    "    \"GACGGAAGACTGATGCGCCNGTGTTTTAACAGTCTTCTTAAGGTGCCGGGCCCACAT\",\n",
    "    \"GACGGAAGACTGATGCGCCGNTGTTTTAACAGTCTTCTTAAGGTGCCGGGCCCACAT\",\n",
    "    \"GACGGAAGACTGATGCGCCGGNGTTTTAACAGTCTTCTTAAGGTGCCGGGCCCACAT\",\n",
    "    \"GACGGAAGACTGATGCGCCGGTNTTTTAACAGTCTTCTTAAGGTGCCGGGCCCACAT\",\n",
    "    \"GACGGAAGACTGATGCGCCGGTGNTTTAACAGTCTTCTTAAGGTGCCGGGCCCACAT\",\n",
    "    \"GACGGAAGACTGATGCGCCGGTGTNTTAACAGTCTTCTTAAGGTGCCGGGCCCACAT\",\n",
    "    \"GACGGAAGACTGATGCNATGTGTTTTTAACAGTCTTCTTAAGGTGCCGGGCCCACAT\",\n",
    "    \"GACGGAAGACTGATGCTNTGTGTTTTTAACAGTCTTCTTAAGGTGCCGGGCCCACAT\",\n",
    "    \"GACGGAAGACTGATGCTANGTGTTTTTAACAGTCTTCTTAAGGTGCCGGGCCCACAT\",\n",
    "    \"GACGGAAGACTGATGCTATNTGTTTTTAACAGTCTTCTTAAGGTGCCGGGCCCACAT\",\n",
    "    \"GACGGAAGACTGATGCTATGNGTTTTTAACAGTCTTCTTAAGGTGCCGGGCCCACAT\",\n",
    "    \"GACGGAAGACTGATGCTATGTNTTTTTAACAGTCTTCTTAAGGTGCCGGGCCCACAT\",\n",
    "    \"GACGGAAGACTGATGCTATGTGNTTTTAACAGTCTTCTTAAGGTGCCGGGCCCACAT\",\n",
    "    \"GACGGAAGACTGATGCTATGTGTNTTTAACAGTCTTCTTAAGGTGCCGGGCCCACAT\",\n",
    "    \"GACGGAAGACTGATGCTATGTGTTNTTAACAGTCTTCTTAAGGTGCCGGGCCCACAT\",\n",
    "    \"GACGGAAGACTGATGCNGTCAAAATTTAACAGTCTTCTTAAGGTGCCGGGCCCACAT\",\n",
    "    \"GACGGAAGACTGATGCCNTCAAAATTTAACAGTCTTCTTAAGGTGCCGGGCCCACAT\",\n",
    "    \"GACGGAAGACTGATGCCGNCAAAATTTAACAGTCTTCTTAAGGTGCCGGGCCCACAT\",\n",
    "    \"GACGGAAGACTGATGCCGTNAAAATTTAACAGTCTTCTTAAGGTGCCGGGCCCACAT\",\n",
    "    \"GACGGAAGACTGATGCCGTCNAAATTTAACAGTCTTCTTAAGGTGCCGGGCCCACAT\",\n",
    "    \"GACGGAAGACTGATGCCGTCANAATTTAACAGTCTTCTTAAGGTGCCGGGCCCACAT\",\n",
    "    \"GACGGAAGACTGATGCCGTCAANATTTAACAGTCTTCTTAAGGTGCCGGGCCCACAT\",\n",
    "    \"GACGGAAGACTGATGCCGTCAAANTTTAACAGTCTTCTTAAGGTGCCGGGCCCACAT\",\n",
    "    \"GACGGAAGACTGATGCCGTCAAAANTTAACAGTCTTCTTAAGGTGCCGGGCCCACAT\",\n",
    "    \"GACGGAAGACTGATGCNGATTCTAGTTAACAGTCTTCTTAAGGTGCCGGGCCCACAT\",\n",
    "    \"GACGGAAGACTGATGCGNATTCTAGTTAACAGTCTTCTTAAGGTGCCGGGCCCACAT\",\n",
    "    \"GACGGAAGACTGATGCGGNTTCTAGTTAACAGTCTTCTTAAGGTGCCGGGCCCACAT\",\n",
    "    \"GACGGAAGACTGATGCGGANTCTAGTTAACAGTCTTCTTAAGGTGCCGGGCCCACAT\",\n",
    "    \"GACGGAAGACTGATGCGGATNCTAGTTAACAGTCTTCTTAAGGTGCCGGGCCCACAT\",\n",
    "    \"GACGGAAGACTGATGCGGATTNTAGTTAACAGTCTTCTTAAGGTGCCGGGCCCACAT\",\n",
    "    \"GACGGAAGACTGATGCGGATTCNAGTTAACAGTCTTCTTAAGGTGCCGGGCCCACAT\",\n",
    "    \"GACGGAAGACTGATGCGGATTCTNGTTAACAGTCTTCTTAAGGTGCCGGGCCCACAT\",\n",
    "    \"GACGGAAGACTGATGCGGATTCTANTTAACAGTCTTCTTAAGGTGCCGGGCCCACAT\",\n",
    "    \"GACGGAAGACTGATGCNCATGACCCTTAACAGTCTTCTTAAGGTGCCGGGCCCACAT\",\n",
    "    \"GACGGAAGACTGATGCTNATGACCCTTAACAGTCTTCTTAAGGTGCCGGGCCCACAT\",\n",
    "    \"GACGGAAGACTGATGCTCNTGACCCTTAACAGTCTTCTTAAGGTGCCGGGCCCACAT\",\n",
    "    \"GACGGAAGACTGATGCTCANGACCCTTAACAGTCTTCTTAAGGTGCCGGGCCCACAT\",\n",
    "    \"GACGGAAGACTGATGCTCATNACCCTTAACAGTCTTCTTAAGGTGCCGGGCCCACAT\",\n",
    "    \"GACGGAAGACTGATGCTCATGNCCCTTAACAGTCTTCTTAAGGTGCCGGGCCCACAT\",\n",
    "    \"GACGGAAGACTGATGCTCATGANCCTTAACAGTCTTCTTAAGGTGCCGGGCCCACAT\",\n",
    "    \"GACGGAAGACTGATGCTCATGACNCTTAACAGTCTTCTTAAGGTGCCGGGCCCACAT\",\n",
    "    \"GACGGAAGACTGATGCTCATGACCNTTAACAGTCTTCTTAAGGTGCCGGGCCCACAT\",\n",
    "    \"GACGGAAGACTGATGCNCACGTCCCTTAACAGTCTTCTTAAGGTGCCGGGCCCACAT\",\n",
    "    \"GACGGAAGACTGATGCTNACGTCCCTTAACAGTCTTCTTAAGGTGCCGGGCCCACAT\",\n",
    "    \"GACGGAAGACTGATGCTCNCGTCCCTTAACAGTCTTCTTAAGGTGCCGGGCCCACAT\",\n",
    "    \"GACGGAAGACTGATGCTCANGTCCCTTAACAGTCTTCTTAAGGTGCCGGGCCCACAT\",\n",
    "    \"GACGGAAGACTGATGCTCACNTCCCTTAACAGTCTTCTTAAGGTGCCGGGCCCACAT\",\n",
    "    \"GACGGAAGACTGATGCTCACGNCCCTTAACAGTCTTCTTAAGGTGCCGGGCCCACAT\",\n",
    "    \"GACGGAAGACTGATGCTCACGTNCCTTAACAGTCTTCTTAAGGTGCCGGGCCCACAT\",\n",
    "    \"GACGGAAGACTGATGCTCACGTCNCTTAACAGTCTTCTTAAGGTGCCGGGCCCACAT\",\n",
    "    \"GACGGAAGACTGATGCTCACGTCCNTTAACAGTCTTCTTAAGGTGCCGGGCCCACAT\",\n",
    "    \"GACGGAAGACTGATGCNCAGGCCCCTTAACAGTCTTCTTAAGGTGCCGGGCCCACAT\",\n",
    "    \"GACGGAAGACTGATGCTNAGGCCCCTTAACAGTCTTCTTAAGGTGCCGGGCCCACAT\",\n",
    "    \"GACGGAAGACTGATGCTCNGGCCCCTTAACAGTCTTCTTAAGGTGCCGGGCCCACAT\",\n",
    "    \"GACGGAAGACTGATGCTCANGCCCCTTAACAGTCTTCTTAAGGTGCCGGGCCCACAT\",\n",
    "    \"GACGGAAGACTGATGCTCAGNCCCCTTAACAGTCTTCTTAAGGTGCCGGGCCCACAT\",\n",
    "    \"GACGGAAGACTGATGCTCAGGNCCCTTAACAGTCTTCTTAAGGTGCCGGGCCCACAT\",\n",
    "    \"GACGGAAGACTGATGCTCAGGCNCCTTAACAGTCTTCTTAAGGTGCCGGGCCCACAT\",\n",
    "    \"GACGGAAGACTGATGCTCAGGCCNCTTAACAGTCTTCTTAAGGTGCCGGGCCCACAT\",\n",
    "    \"GACGGAAGACTGATGCTCAGGCCCNTTAACAGTCTTCTTAAGGTGCCGGGCCCACAT\",\n",
    "]\n",
    "bcd_sds_Ns = [s[16:29] for s in bcd_sd_oligos]\n",
    "bcd_sds_13 = sum(\n",
    "    [\n",
    "        [\n",
    "            s.replace(\"N\", \"A\"),\n",
    "            s.replace(\"N\", \"T\"),\n",
    "            s.replace(\"N\", \"C\"),\n",
    "            s.replace(\"N\", \"G\"),\n",
    "        ]\n",
    "        for s in bcd_sds_Ns\n",
    "    ],\n",
    "    [],\n",
    ")\n",
    "bcd_sds = [f\"{s}A\" for s in bcd_sds_13]"
   ]
  },
  {
   "cell_type": "markdown",
   "id": "f610e5c1-1155-4d0c-b995-f06fa5f1018d",
   "metadata": {},
   "source": [
    "# 240111_bcd_rbses_revio"
   ]
  },
  {
   "cell_type": "code",
   "execution_count": null,
   "id": "54294e31-2a62-42c0-858e-3019df3f9008",
   "metadata": {},
   "outputs": [],
   "source": [
    "arrow_filename = (\n",
    "    \"/home/jqs1/scratch/sequencing/240111_pLIB442-447_revio/consensus/*.arrow\"\n",
    ")\n",
    "df = pl.read_ipc(arrow_filename)"
   ]
  },
  {
   "cell_type": "code",
   "execution_count": null,
   "id": "07210e43-483e-4dd5-8650-a7ded1ff52ef",
   "metadata": {},
   "outputs": [],
   "source": [
    "seqs = df.with_columns(\n",
    "    len=pl.col(\"consensus_seq\").str.len_bytes()\n",
    ")  # .filter(pl.col(\"len\") < 3500)\n",
    "seqs"
   ]
  },
  {
   "cell_type": "code",
   "execution_count": null,
   "id": "df8ce246-e77b-4e84-a371-9174ec772ec4",
   "metadata": {},
   "outputs": [],
   "source": [
    "seqs[\"len\"].to_pandas().hvplot.hist(bins=100)"
   ]
  },
  {
   "cell_type": "code",
   "execution_count": null,
   "id": "7ef90520-a266-4060-a843-5f9f523e2c95",
   "metadata": {},
   "outputs": [],
   "source": [
    "seqs[\"grouping_depth\"].to_pandas().hvplot.hist(bins=100)"
   ]
  },
  {
   "cell_type": "code",
   "execution_count": null,
   "id": "8e6d05af-9528-4b6e-a710-9f2850056f4a",
   "metadata": {},
   "outputs": [],
   "source": [
    "seqs[10, \"consensus_seq\"]"
   ]
  },
  {
   "cell_type": "markdown",
   "id": "dd13543e-2cba-4300-8695-6dcb5a34eb69",
   "metadata": {},
   "source": [
    "# 231201_bcd_rbses"
   ]
  },
  {
   "cell_type": "code",
   "execution_count": null,
   "id": "5e9b4ce7-bafe-4668-b4a7-7320414d53c9",
   "metadata": {},
   "outputs": [],
   "source": [
    "%%time\n",
    "# arrow_filename = \"/home/jqs1/scratch/sequencing/231201_bcd_rbses_run3/20231201_1101_1F_PAU05823_773c75ee/extract_segments/*.arrow\"\n",
    "arrow_filename = \"/home/jqs1/scratch/sequencing/231201_bcd_rbses_run3/20231201_1101_1F_PAU05823_773c75ee/consensus/*.arrow\"\n",
    "arrow_filename = \"/home/jqs1/scratch/sequencing/231130_bcd_rbses_run3_minion/20231130_1904_MN35044_FAX40126_ee95ee31/extract_segments/*.arrow\"\n",
    "df = concat_glob(arrow_filename).collect()"
   ]
  },
  {
   "cell_type": "code",
   "execution_count": null,
   "id": "2b8b935d-986a-46ef-9e8e-5ca59e0f33a7",
   "metadata": {},
   "outputs": [],
   "source": [
    "df[\"grouping_depth\"].sort(descending=True).to_pandas().hvplot.step(logy=True)"
   ]
  },
  {
   "cell_type": "code",
   "execution_count": null,
   "id": "118053ea-93e3-4b92-8415-1ea41920a442",
   "metadata": {},
   "outputs": [],
   "source": [
    "x = np.asarray(df[\"grouping_depth\"])"
   ]
  },
  {
   "cell_type": "code",
   "execution_count": null,
   "id": "a93798d8-f312-404a-8391-66d04b68f4b9",
   "metadata": {},
   "outputs": [],
   "source": [
    "x[x > 300].sum()"
   ]
  },
  {
   "cell_type": "code",
   "execution_count": null,
   "id": "694c7057-80f6-4881-a459-099df69d2df4",
   "metadata": {},
   "outputs": [],
   "source": [
    "x.sum()"
   ]
  },
  {
   "cell_type": "code",
   "execution_count": null,
   "id": "0e445541-1c63-4730-8013-6622f4a8d9b0",
   "metadata": {},
   "outputs": [],
   "source": [
    "%%time\n",
    "df2 = df.with_columns(\n",
    "    dup=pl.col(\"name\").is_duplicated(),\n",
    "    e2e=pl.col(\"variants_path\")\n",
    "    .list.set_intersection(\n",
    "        [\n",
    "            \"<BC:UPSTREAM\",\n",
    "            \"<pLIB430-435:upstream\",\n",
    "            \">BC:UPSTREAM\",\n",
    "            \">pLIB430-435:upstream\",\n",
    "        ]\n",
    "    )\n",
    "    .list.len()\n",
    "    == 2,\n",
    "    bc_e2e=pl.col(\"variants_path\")\n",
    "    .list.set_intersection(\n",
    "        [\n",
    "            \"<BC:UPSTREAM\",\n",
    "            \"<BC:SPACER2\",\n",
    "            \">BC:UPSTREAM\",\n",
    "            \">BC:SPACER2\",\n",
    "        ]\n",
    "    )\n",
    "    .list.len()\n",
    "    == 2,\n",
    ")"
   ]
  },
  {
   "cell_type": "code",
   "execution_count": null,
   "id": "7c911495-ee60-475f-ae73-855db5bab4ec",
   "metadata": {},
   "outputs": [],
   "source": [
    "df2.with_columns(\n",
    "    num_reads=pl.col(\"grouping_depth\") + pl.col(\"grouping_duplex_depth\"),\n",
    "    good_alignment=pl.col(\"e2e\") & pl.col(\"dup\").not_(),\n",
    ").group_by(\"good_alignment\").agg(pl.col(\"num_reads\").sum()).with_columns(\n",
    "    frac=pl.col(\"num_reads\") / pl.col(\"num_reads\").sum()\n",
    ")"
   ]
  },
  {
   "cell_type": "code",
   "execution_count": null,
   "id": "64120d00-0b78-4ce0-a97f-3c597a5dfcce",
   "metadata": {},
   "outputs": [],
   "source": [
    "%%time\n",
    "df_variants = df2.filter(pl.col(\"e2e\"), ~pl.col(\"dup\")).with_columns(\n",
    "    pl.coalesce(\n",
    "        label_columns(\n",
    "            [\n",
    "                \"pLIB433:PhlF_pPhlF|seq\",\n",
    "                \"pLIB434:LacI_pTac|seq\",\n",
    "                \"pLIB435:BetI_pBetI|seq\",\n",
    "            ],\n",
    "            lambda x: x.split(\"|\")[0],\n",
    "        ),\n",
    "        pl.concat_str(pl.lit(\"pLIB431-432:RBS=\"), pl.col(\"pLIB431-432:RBS|variant\")),\n",
    "    ).alias(\"RBS\")\n",
    ")"
   ]
  },
  {
   "cell_type": "code",
   "execution_count": null,
   "id": "3b4e78a5-b3af-4f0e-9a65-de5c39bfd43f",
   "metadata": {},
   "outputs": [],
   "source": [
    "df_variants[[\"RBS\", \"pLIB430-435:promoter|variant\"]].select(\n",
    "    pl.struct(pl.all()).alias(\"variant\")\n",
    ").to_series().value_counts().unnest(\"variant\").to_pandas()"
   ]
  },
  {
   "cell_type": "code",
   "execution_count": null,
   "id": "a31ff1d6-a2ae-4533-8614-4b3d709d9d4f",
   "metadata": {},
   "outputs": [],
   "source": [
    "df_variants.filter(pl.col(\"depth\") >= 5)[\n",
    "    [\"RBS\", \"pLIB430-435:promoter|variant\"]\n",
    "].select(pl.struct(pl.all()).alias(\"variant\")).to_series().value_counts().unnest(\n",
    "    \"variant\"\n",
    ").to_pandas().set_index(\n",
    "    [\"RBS\", \"pLIB430-435:promoter|variant\"]\n",
    ").unstack(\n",
    "    \"pLIB430-435:promoter|variant\"\n",
    ")"
   ]
  },
  {
   "cell_type": "code",
   "execution_count": null,
   "id": "f0b7e6d2-32f8-4a2d-bb48-d95f675a054e",
   "metadata": {},
   "outputs": [],
   "source": [
    "df_variants.filter(pl.col(\"RBS\") == \"pLIB435:BetI_pBetI\")[\n",
    "    \"BCD_RBS:RBS|seq\"\n",
    "].value_counts(sort=True)"
   ]
  },
  {
   "cell_type": "code",
   "execution_count": null,
   "id": "086470e8-7a4b-44b4-a3c4-345a763133b1",
   "metadata": {},
   "outputs": [],
   "source": [
    "hv.Overlay(\n",
    "    [\n",
    "        df_variants.filter(pl.col(\"RBS\") == lib)[\"BCD_RBS:RBS|seq\"]\n",
    "        .value_counts(sort=True)\n",
    "        .to_pandas()\n",
    "        .hvplot.step(logy=True, label=lib)\n",
    "        for lib in [\"pLIB433:PhlF_pPhlF\", \"pLIB434:LacI_pTac\", \"pLIB435:BetI_pBetI\"]\n",
    "    ]\n",
    ") * df_variants.filter(pl.col(\"RBS\").is_null())[\"BCD_RBS:RBS|seq\"].value_counts(\n",
    "    sort=True\n",
    ").to_pandas().hvplot.step(\n",
    "    logy=True, label=\"BCD\"\n",
    ")"
   ]
  },
  {
   "cell_type": "code",
   "execution_count": null,
   "id": "22a05666-89f9-40f0-94dd-fa591d61b832",
   "metadata": {},
   "outputs": [],
   "source": [
    "df_variants.filter(pl.col(\"RBS\") == \"pLIB431-432:RBS=B0032m\")[\n",
    "    \"pLIB431-432:RBS|seq\"\n",
    "].value_counts(sort=True).filter(pl.col(\"count\") > 10)"
   ]
  },
  {
   "cell_type": "code",
   "execution_count": null,
   "id": "8d1f3e54-09f1-4c6c-97e0-eabaa5cad3e7",
   "metadata": {},
   "outputs": [],
   "source": [
    "df_variants.filter(pl.col(\"RBS\") == \"pLIB431-432:RBS=B0033m\")[\n",
    "    \"pLIB431-432:RBS|seq\"\n",
    "].value_counts(sort=True).filter(pl.col(\"count\") > 10)"
   ]
  },
  {
   "cell_type": "code",
   "execution_count": null,
   "id": "706943ca-8583-4d7c-be38-4e063f192bab",
   "metadata": {},
   "outputs": [],
   "source": [
    "df_variants.filter(pl.col(\"RBS\") == \"pLIB431-432:RBS=B0034m\")[\n",
    "    \"pLIB431-432:RBS|seq\"\n",
    "].value_counts(sort=True).filter(pl.col(\"count\") > 10)"
   ]
  },
  {
   "cell_type": "code",
   "execution_count": null,
   "id": "afe7a27f-64f4-4d5e-8ae4-8ba7862ce1df",
   "metadata": {},
   "outputs": [],
   "source": [
    "df_variants.filter(pl.col(\"RBS\") == \"pLIB431-432:RBS=StrongRBSLib\")[\n",
    "    \"pLIB431-432:RBS|seq\"\n",
    "].value_counts(sort=True).to_pandas().hvplot.step(\n",
    "    logy=True,\n",
    ")"
   ]
  },
  {
   "cell_type": "markdown",
   "id": "f77957e3-87af-479f-95df-1dad9009978d",
   "metadata": {},
   "source": [
    "## Representative seqs"
   ]
  },
  {
   "cell_type": "code",
   "execution_count": null,
   "id": "1b6f70f1-75f6-48a9-8dee-977a1796653c",
   "metadata": {},
   "outputs": [],
   "source": [
    "df_variants.filter(pl.col(\"RBS\") == \"pLIB435:BetI_pBetI\")[\n",
    "    \"BCD_RBS:RBS|seq\"\n",
    "].str.len_bytes().to_pandas().hvplot.hist(bins=100)"
   ]
  },
  {
   "cell_type": "code",
   "execution_count": null,
   "id": "81836ab6-badc-4ae3-af65-8ceaef0d1ba8",
   "metadata": {},
   "outputs": [],
   "source": [
    "df_variants.select(pl.col(r\"^BCD_RBS:RBS\\|.*$\"))"
   ]
  },
  {
   "cell_type": "code",
   "execution_count": null,
   "id": "05fe5b5e-316a-4ecd-96c2-e736812f0e74",
   "metadata": {},
   "outputs": [],
   "source": [
    "df_variants.filter(pl.col(\"RBS\") == \"pLIB435:BetI_pBetI\")[\n",
    "    \"BCD_RBS:RBS|seq\"\n",
    "].str.len_bytes().value_counts(sort=True).with_columns(\n",
    "    frac=pl.col(\"count\") / pl.col(\"count\").sum()\n",
    ")"
   ]
  },
  {
   "cell_type": "code",
   "execution_count": null,
   "id": "cf58ba4c-4d84-418f-b78d-0eb26f960f3c",
   "metadata": {},
   "outputs": [],
   "source": [
    "df_variants.filter(pl.col(\"RBS\") == \"pLIB435:BetI_pBetI\")[\n",
    "    \"BCD_RBS:RBS|seq\"\n",
    "].value_counts(sort=True)"
   ]
  },
  {
   "cell_type": "code",
   "execution_count": null,
   "id": "bc1059c9-b1fa-4a52-9c1c-3738eba45a12",
   "metadata": {},
   "outputs": [],
   "source": [
    "df_rbs_seqs = df_variants.filter(\n",
    "    pl.col(\"RBS\") == \"pLIB435:BetI_pBetI\",\n",
    "    pl.col(\"BCD_RBS:RBS|seq\").str.len_bytes() == 14,\n",
    ")[\"BCD_RBS:RBS|seq\"].value_counts(sort=True)\n",
    "df_rbs_seqs.to_pandas()"
   ]
  },
  {
   "cell_type": "code",
   "execution_count": null,
   "id": "eb292e2e-d8f7-4d30-8c74-15607b47f8d1",
   "metadata": {},
   "outputs": [],
   "source": [
    "df_rbs_seqs.to_pandas().hvplot.step(logy=True)"
   ]
  },
  {
   "cell_type": "code",
   "execution_count": null,
   "id": "7d19e586-13e8-4234-9947-56571ecda64b",
   "metadata": {},
   "outputs": [],
   "source": [
    "df_seqs = df_variants.filter(\n",
    "    pl.col(\"RBS\") == \"pLIB435:BetI_pBetI\",\n",
    "    pl.col(\"BCD_RBS:RBS|seq\") == df_rbs_seqs[\"BCD_RBS:RBS|seq\"][0],\n",
    ")[\"consensus_seq\"]\n",
    "for idx in range(10):\n",
    "    print(f\">pLIB435_rbs0_{idx}\")\n",
    "    print(df_seqs[idx])"
   ]
  },
  {
   "cell_type": "markdown",
   "id": "168e7e90-dbfa-47e1-b505-f7396ec7e00f",
   "metadata": {},
   "source": [
    "## Comparison with BCD SD library"
   ]
  },
  {
   "cell_type": "code",
   "execution_count": null,
   "id": "258415cf-d9f4-45bb-b425-d7999da3f499",
   "metadata": {},
   "outputs": [],
   "source": [
    "%%time\n",
    "df_lib = (\n",
    "    df_variants.filter(pl.col(\"RBS\") == \"pLIB435:BetI_pBetI\")[\"BCD_RBS:RBS|seq\"]\n",
    "    .value_counts(sort=True)\n",
    "    .with_columns(\n",
    "        frac=pl.col(\"count\") / pl.col(\"count\").sum(),\n",
    "        len=pl.col(\"BCD_RBS:RBS|seq\").str.len_bytes(),\n",
    "        in_library=pl.col(\"BCD_RBS:RBS|seq\").is_in(bcd_sds),\n",
    "    )\n",
    "    .filter(pl.col(\"count\") > 20)\n",
    ")\n",
    "df_lib"
   ]
  },
  {
   "cell_type": "code",
   "execution_count": null,
   "id": "eb76670c-7eff-4518-81d8-0b9957c729d9",
   "metadata": {},
   "outputs": [],
   "source": [
    "df_lib.group_by(\"in_library\").agg(pl.col(\"frac\").sum())"
   ]
  },
  {
   "cell_type": "code",
   "execution_count": null,
   "id": "fd0b8f86-ad51-4ad4-be27-5bbba6de702f",
   "metadata": {},
   "outputs": [],
   "source": [
    "df_lib.filter(pl.col(\"BCD_RBS:RBS|seq\").str.len_bytes() == 14).group_by(\n",
    "    \"in_library\"\n",
    ").agg(pl.col(\"frac\").sum())"
   ]
  },
  {
   "cell_type": "markdown",
   "id": "d249aac8-507a-403a-92c3-66d1fa1cc94b",
   "metadata": {},
   "source": [
    "## Terminator mutations"
   ]
  },
  {
   "cell_type": "code",
   "execution_count": null,
   "id": "94c6cfb1-6d76-45f0-9d9a-462d7e128ce4",
   "metadata": {},
   "outputs": [],
   "source": [
    "def variant_dist(df, rbs, filter_rbs=True):\n",
    "    if filter_rbs:\n",
    "        df = df.filter(pl.col(\"RBS\") == rbs)\n",
    "    seq_col = f\"{rbs}|seq\"\n",
    "    return (\n",
    "        df[seq_col]\n",
    "        .value_counts(sort=True)\n",
    "        .with_columns(\n",
    "            frac=pl.col(\"count\") / pl.col(\"count\").sum(),\n",
    "            len=pl.col(seq_col).str.len_bytes(),\n",
    "        )\n",
    "    )"
   ]
  },
  {
   "cell_type": "code",
   "execution_count": null,
   "id": "e574eb49-cb63-4c24-8724-c39a3b2209bb",
   "metadata": {},
   "outputs": [],
   "source": [
    "# seqs = variant_dist(df_variants, \"pLIB433:PhlF_pPhlF\")\n",
    "# seqs = variant_dist(df_variants, \"pLIB434:LacI_pTac\")\n",
    "# seqs = variant_dist(df_variants.filter(pl.col(\"depth\") > 10), \"pLIB435:BetI_pBetI\")\n",
    "# seqs = variant_dist(df_variants.filter(pl.col(\"depth\") > 10), \"pLIB430-435:upstream\", filter_rbs=False)\n",
    "seqs = variant_dist(df_variants, \"pLIB430-435:downstream\", filter_rbs=False)\n",
    "seqs"
   ]
  },
  {
   "cell_type": "code",
   "execution_count": null,
   "id": "34d91f2a-4ebc-45d6-8ee6-d24ae6b47cd3",
   "metadata": {},
   "outputs": [],
   "source": [
    "seqs[0, 0]"
   ]
  },
  {
   "cell_type": "code",
   "execution_count": null,
   "id": "441ac527-0226-4fc6-a268-271e9b3b2b80",
   "metadata": {},
   "outputs": [],
   "source": [
    "df_dt3s = [\n",
    "    variant_dist(\n",
    "        df_variants.filter(pl.col(\"RBS\") == rbs),\n",
    "        \"pLIB430-435:downstream\",\n",
    "        filter_rbs=False,\n",
    "    )\n",
    "    for rbs in (\"pLIB433:PhlF_pPhlF\", \"pLIB434:LacI_pTac\", \"pLIB435:BetI_pBetI\")\n",
    "]"
   ]
  },
  {
   "cell_type": "code",
   "execution_count": null,
   "id": "1e1d7332-a33f-4c79-bfbb-dfa51b7cd7d1",
   "metadata": {},
   "outputs": [],
   "source": [
    "df_dt3 = df_dt3s[0]\n",
    "for idx, other_df in enumerate(df_dt3s[1:]):\n",
    "    df_dt3 = df_dt3.join(other_df, on=\"pLIB430-435:downstream|seq\", suffix=f\"_{idx}\")"
   ]
  },
  {
   "cell_type": "code",
   "execution_count": null,
   "id": "8148fd07-5e84-4906-aaf1-6b9cd8b719af",
   "metadata": {},
   "outputs": [],
   "source": [
    "%%opts Scatter [width=300]\n",
    "(\n",
    "    df_dt3[[\"frac\", \"frac_0\"]].to_pandas().hvplot.scatter(\"frac\", \"frac_0\")\n",
    "    + df_dt3[[\"frac\", \"frac_1\"]].to_pandas().hvplot.scatter(\"frac\", \"frac_1\")\n",
    "    + df_dt3[[\"frac_0\", \"frac_1\"]].to_pandas().hvplot.scatter(\"frac_0\", \"frac_1\")\n",
    ")"
   ]
  },
  {
   "cell_type": "code",
   "execution_count": null,
   "id": "1ced4799-124e-47e4-89dd-70f21374e1ab",
   "metadata": {},
   "outputs": [],
   "source": [
    "df_dt3"
   ]
  },
  {
   "cell_type": "markdown",
   "id": "79fd58eb-6384-4d56-b5a4-76eff5f5048b",
   "metadata": {},
   "source": [
    "## Comparison with oligo pool"
   ]
  },
  {
   "cell_type": "code",
   "execution_count": null,
   "id": "b924fd35-0478-41b9-8756-e5d7fa035243",
   "metadata": {},
   "outputs": [],
   "source": [
    "oligo_pool = pl.Series(\"seq\", bcd_sds)"
   ]
  },
  {
   "cell_type": "code",
   "execution_count": null,
   "id": "1dbf3a0d-1959-4ce0-a8aa-174e89b4d35d",
   "metadata": {},
   "outputs": [],
   "source": [
    "df_seq_vs_pool = (\n",
    "    df_variants.filter(pl.col(\"BCD_RBS:RBS|seq\").is_not_null())[\"BCD_RBS:RBS|seq\"]\n",
    "    .value_counts(sort=True)\n",
    "    .join(oligo_pool.value_counts(), left_on=\"BCD_RBS:RBS|seq\", right_on=\"seq\")\n",
    ")\n",
    "df_seq_vs_pool"
   ]
  },
  {
   "cell_type": "code",
   "execution_count": null,
   "id": "7806f38a-5994-4f66-973b-afbd9723cb75",
   "metadata": {},
   "outputs": [],
   "source": [
    "df_seq_vs_pool.to_pandas().hvplot.scatter(\"count\", \"count_right\")"
   ]
  },
  {
   "cell_type": "code",
   "execution_count": null,
   "id": "fd84ef5c-9b72-4848-8f8b-fe75dc0dddf8",
   "metadata": {},
   "outputs": [],
   "source": [
    "bcd_sds_Ns_idx = [(idx, s[16:29]) for idx, s in enumerate(bcd_sd_oligos)]\n",
    "bcd_sds_13_idx = sum(\n",
    "    [\n",
    "        [\n",
    "            (idx, s.replace(\"N\", \"A\"), \"A\"),\n",
    "            (idx, s.replace(\"N\", \"T\"), \"T\"),\n",
    "            (idx, s.replace(\"N\", \"C\"), \"C\"),\n",
    "            (idx, s.replace(\"N\", \"G\"), \"G\"),\n",
    "        ]\n",
    "        for idx, s in bcd_sds_Ns_idx\n",
    "    ],\n",
    "    [],\n",
    ")\n",
    "bcd_sds_idx = [(idx, f\"{s}A\", n_to) for idx, s, n_to in bcd_sds_13_idx]"
   ]
  },
  {
   "cell_type": "code",
   "execution_count": null,
   "id": "672c2cfb-fd28-42a4-9a25-b16059614150",
   "metadata": {},
   "outputs": [],
   "source": [
    "oligo_pool_idx = pl.DataFrame(bcd_sds_idx, schema=[\"oligo_num\", \"seq\", \"N_to\"])"
   ]
  },
  {
   "cell_type": "code",
   "execution_count": null,
   "id": "8f7dd450-dea8-42ec-af8d-6b87c4699325",
   "metadata": {},
   "outputs": [],
   "source": [
    "oligo_pool_idx2 = (\n",
    "    oligo_pool_idx.group_by(\"seq\")\n",
    "    .agg(pl.col(\"oligo_num\"), pl.col(\"N_to\"))\n",
    "    .with_columns(appearences=pl.col(\"oligo_num\").list.len())\n",
    "    .sort(\"appearences\", descending=True)\n",
    "    .filter(pl.col(\"appearences\") == 1)\n",
    "    .with_columns(pl.col(\"oligo_num\").list.get(0), pl.col(\"N_to\").list.get(0))\n",
    ")\n",
    "oligo_pool_idx2"
   ]
  },
  {
   "cell_type": "code",
   "execution_count": null,
   "id": "1bb088c3-4eed-4f5a-8ca0-3d95d7127f6c",
   "metadata": {},
   "outputs": [],
   "source": [
    "df_seq_vs_pool2 = (\n",
    "    df_variants.filter(pl.col(\"BCD_RBS:RBS|seq\").is_not_null())[\"BCD_RBS:RBS|seq\"]\n",
    "    .value_counts(sort=True)\n",
    "    .join(oligo_pool_idx2, left_on=\"BCD_RBS:RBS|seq\", right_on=\"seq\")\n",
    ")\n",
    "df_seq_vs_pool2"
   ]
  },
  {
   "cell_type": "code",
   "execution_count": null,
   "id": "7be5bd98-6cab-4a64-976b-476fbf80ad73",
   "metadata": {},
   "outputs": [],
   "source": [
    "df_seq_vs_pool2.to_pandas().hvplot.scatter(\"oligo_num\", \"count\", color=\"N_to\")"
   ]
  },
  {
   "cell_type": "code",
   "execution_count": null,
   "id": "daf067eb-cf47-4cd5-86a9-033cc48e9d09",
   "metadata": {},
   "outputs": [],
   "source": [
    "df_seq_vs_pool2.group_by(\"oligo_num\").agg(\n",
    "    mean=pl.col(\"count\").mean(), std=pl.col(\"count\").std()\n",
    ")"
   ]
  },
  {
   "cell_type": "code",
   "execution_count": null,
   "id": "49c0d56c-2ec0-4b16-9d21-4175e7e31952",
   "metadata": {},
   "outputs": [],
   "source": [
    "df_seq_vs_pool2_base = df_seq_vs_pool2.with_columns(\n",
    "    base_frac=pl.col(\"count\") / pl.col(\"count\").sum().over(\"oligo_num\")\n",
    ")"
   ]
  },
  {
   "cell_type": "code",
   "execution_count": null,
   "id": "b1525bea-715d-4980-b5e5-70f5dffc78c7",
   "metadata": {},
   "outputs": [],
   "source": [
    "df_seq_vs_pool2_base.group_by(\"N_to\").agg(pl.col(\"base_frac\").mean() / 4 * 3)"
   ]
  },
  {
   "cell_type": "code",
   "execution_count": null,
   "id": "9750e4ec-8af3-485a-8e6a-8cda97ad766c",
   "metadata": {},
   "outputs": [],
   "source": [
    "df_seq_vs_pool2_base.to_pandas().hvplot.scatter(\"oligo_num\", \"base_frac\", color=\"N_to\")"
   ]
  },
  {
   "cell_type": "markdown",
   "id": "748e18c8-009a-4cc7-86bc-7881da34423a",
   "metadata": {},
   "source": [
    "# 231130_bcd_rbses_run3_minion"
   ]
  },
  {
   "cell_type": "code",
   "execution_count": null,
   "id": "77cd4a48-8015-4d0b-b53b-c0866f27780c",
   "metadata": {},
   "outputs": [],
   "source": [
    "df = concat_glob(\n",
    "    \"/home/jqs1/scratch/sequencing/231130_bcd_rbses_run3_minion/20231130_1904_MN35044_FAX40126_ee95ee31/extract_segments/*.arrow\"\n",
    ").collect()"
   ]
  },
  {
   "cell_type": "code",
   "execution_count": null,
   "id": "4f31c7d3-1d8c-453d-b64b-09febad4dcbb",
   "metadata": {},
   "outputs": [],
   "source": [
    "df2 = df.with_columns(\n",
    "    dup=pl.col(\"name\").is_duplicated(),\n",
    "    e2e=pl.col(\"variants_path\")\n",
    "    .list.set_intersection(\n",
    "        [\n",
    "            \"<BC:UPSTREAM\",\n",
    "            \"<pLIB430-435:upstream\",\n",
    "            \">BC:UPSTREAM\",\n",
    "            \">pLIB430-435:upstream\",\n",
    "        ]\n",
    "    )\n",
    "    .list.len()\n",
    "    == 2,\n",
    "    bc_e2e=pl.col(\"variants_path\")\n",
    "    .list.set_intersection(\n",
    "        [\n",
    "            \"<BC:UPSTREAM\",\n",
    "            \"<BC:SPACER2\",\n",
    "            \">BC:UPSTREAM\",\n",
    "            \">BC:SPACER2\",\n",
    "        ]\n",
    "    )\n",
    "    .list.len()\n",
    "    == 2,\n",
    ")"
   ]
  },
  {
   "cell_type": "code",
   "execution_count": null,
   "id": "51b60b67-467d-45e3-a596-19df1442d8e3",
   "metadata": {},
   "outputs": [],
   "source": [
    "df2.filter(pl.col(\"e2e\"), ~pl.col(\"dup\")).with_columns(\n",
    "    pl.coalesce(\n",
    "        label_columns(\n",
    "            [\n",
    "                \"pLIB433:PhlF_pPhlF|seq\",\n",
    "                \"pLIB434:LacI_pTac|seq\",\n",
    "                \"pLIB435:BetI_pBetI|seq\",\n",
    "            ],\n",
    "            lambda x: x.split(\"|\")[0],\n",
    "        ),\n",
    "        pl.concat_str(pl.lit(\"pLIB431-432:RBS=\"), pl.col(\"pLIB431-432:RBS|variant\")),\n",
    "    ).alias(\"RBS\")\n",
    ")[[\"RBS\", \"pLIB430-435:promoter|variant\"]].select(pl.struct(pl.all()).alias(\"foo\"))[\n",
    "    \"foo\"\n",
    "].value_counts()"
   ]
  },
  {
   "cell_type": "code",
   "execution_count": null,
   "id": "514585e7-f5f9-4f98-a01b-9f5b427bc540",
   "metadata": {},
   "outputs": [],
   "source": [
    "df_variants = (\n",
    "    df2.filter(pl.col(\"e2e\"), ~pl.col(\"dup\"))\n",
    "    .with_columns(\n",
    "        pl.coalesce(\n",
    "            label_columns(\n",
    "                [\n",
    "                    \"pLIB433:PhlF_pPhlF|seq\",\n",
    "                    \"pLIB434:LacI_pTac|seq\",\n",
    "                    \"pLIB435:BetI_pBetI|seq\",\n",
    "                ],\n",
    "                lambda x: x.split(\"|\")[0],\n",
    "            ),\n",
    "            pl.concat_str(\n",
    "                pl.lit(\"pLIB431-432:RBS=\"), pl.col(\"pLIB431-432:RBS|variant\")\n",
    "            ),\n",
    "        ).alias(\"RBS\")\n",
    "    )[[\"RBS\", \"pLIB430-435:promoter|variant\"]]\n",
    "    .to_pandas()\n",
    ")"
   ]
  },
  {
   "cell_type": "code",
   "execution_count": null,
   "id": "b177ddd4-3896-49fb-b397-183814ea1cec",
   "metadata": {},
   "outputs": [],
   "source": [
    "df_variants.value_counts().unstack(1)"
   ]
  },
  {
   "cell_type": "markdown",
   "id": "749b90e0-7658-463d-9f10-29616ca178a9",
   "metadata": {},
   "source": [
    "# 230707_repressilators"
   ]
  },
  {
   "cell_type": "code",
   "execution_count": null,
   "id": "ca63aa34-3fe0-4508-b2cf-731a8568868f",
   "metadata": {},
   "outputs": [],
   "source": [
    "df = concat_glob(\n",
    "    \"/home/jqs1/scratch/sequencing/230707_repressilators/20230707_2040_MN35044_FAS94231_25542e0d/extract_segments/*.arrow\"\n",
    ").collect()"
   ]
  },
  {
   "cell_type": "code",
   "execution_count": null,
   "id": "ed7850a8-896a-426b-bf13-ff96a7bcdd4e",
   "metadata": {},
   "outputs": [],
   "source": [
    "df2 = df.with_columns(\n",
    "    dup=pl.col(\"name\").is_duplicated(),\n",
    "    e2e=pl.col(\"variants_path\")\n",
    "    .list.set_intersection(\n",
    "        [\n",
    "            \"<BC:UPSTREAM\",\n",
    "            \"<UNS3\",\n",
    "            \">BC:UPSTREAM\",\n",
    "            \">UNS3\",\n",
    "        ]\n",
    "    )\n",
    "    .list.len()\n",
    "    == 2,\n",
    "    bc_e2e=pl.col(\"variants_path\")\n",
    "    .list.set_intersection(\n",
    "        [\n",
    "            \"<BC:UPSTREAM\",\n",
    "            \"<BC:SPACER2\",\n",
    "            \">BC:UPSTREAM\",\n",
    "            \">BC:SPACER2\",\n",
    "        ]\n",
    "    )\n",
    "    .list.len()\n",
    "    == 2,\n",
    ")"
   ]
  },
  {
   "cell_type": "code",
   "execution_count": null,
   "id": "e28669f8-5d5d-44ae-95ef-daba8754119e",
   "metadata": {},
   "outputs": [],
   "source": [
    "len(df2.filter(pl.col(\"e2e\"), ~pl.col(\"dup\"))) / len(df2)"
   ]
  },
  {
   "cell_type": "code",
   "execution_count": null,
   "id": "fd7055a6-41c5-40f5-b717-84f5661374dd",
   "metadata": {},
   "outputs": [],
   "source": [
    "df2.filter(pl.col(\"e2e\"), ~pl.col(\"dup\"))[\n",
    "    [\"RBS1:RBS|seq\", \"RBS2:RBS|seq\", \"RBS3:RBS|seq\"]\n",
    "]"
   ]
  },
  {
   "cell_type": "code",
   "execution_count": null,
   "id": "ab0ba592-1d38-47e3-bb70-cbbe2f96979f",
   "metadata": {},
   "outputs": [],
   "source": [
    "df2.filter(pl.col(\"e2e\"), ~pl.col(\"dup\"))[\n",
    "    [\"RBS1:RBS|seq\", \"RBS2:RBS|seq\", \"RBS3:RBS|seq\"]\n",
    "].select(pl.struct(pl.all()).alias(\"variant\")).to_series().value_counts(sort=True)"
   ]
  },
  {
   "cell_type": "code",
   "execution_count": null,
   "id": "cef0a6d2-d7da-4150-bfa3-6798ffdf0d53",
   "metadata": {},
   "outputs": [],
   "source": [
    "df2.filter(pl.col(\"e2e\"), ~pl.col(\"dup\"), pl.col(\"grouping_depth\") > 5)[\n",
    "    \"RBS1:RBS|seq\"\n",
    "].value_counts(sort=True).filter(pl.col(\"count\") > 20)"
   ]
  },
  {
   "cell_type": "code",
   "execution_count": null,
   "id": "bd6bb7d0-1af9-454e-89c3-b48c4be4c297",
   "metadata": {},
   "outputs": [],
   "source": [
    "hv.Overlay(\n",
    "    [\n",
    "        df2.filter(pl.col(\"e2e\"), ~pl.col(\"dup\"))[col]\n",
    "        .value_counts(sort=True)[\"count\"]\n",
    "        .to_pandas()\n",
    "        .hvplot.step(logy=True, label=col)\n",
    "        for col in [\"RBS1:RBS|seq\", \"RBS2:RBS|seq\", \"RBS3:RBS|seq\"]\n",
    "    ]\n",
    ")"
   ]
  },
  {
   "cell_type": "code",
   "execution_count": null,
   "id": "103dbc22-14c4-4236-b262-abd4e4b1b49a",
   "metadata": {},
   "outputs": [],
   "source": [
    "df2.filter(pl.col(\"e2e\"), ~pl.col(\"dup\"))[[\"RBS1:RBS|seq\", \"RBS2:RBS|seq\"]].select(\n",
    "    pl.struct(pl.all()).alias(\"variant\")\n",
    ").to_series().value_counts(sort=True)"
   ]
  },
  {
   "cell_type": "code",
   "execution_count": null,
   "id": "de227628-503b-4da8-a10d-ca7415b584be",
   "metadata": {},
   "outputs": [],
   "source": [
    "df2.filter(pl.col(\"e2e\"), ~pl.col(\"dup\"))[[\"RBS2:RBS|seq\", \"RBS3:RBS|seq\"]].select(\n",
    "    pl.struct(pl.all())\n",
    ").to_series().value_counts(sort=True)"
   ]
  },
  {
   "cell_type": "code",
   "execution_count": null,
   "id": "f5054e70-04d8-4983-a789-31c6c8483f08",
   "metadata": {},
   "outputs": [],
   "source": [
    "df2.filter(pl.col(\"e2e\"), ~pl.col(\"dup\"))[\n",
    "    [\"RBS1:RBS|seq\", \"RBS2:RBS|seq\", \"RBS3:RBS|seq\"]\n",
    "].select(pl.struct(pl.all())).to_series().value_counts(sort=True)"
   ]
  },
  {
   "cell_type": "code",
   "execution_count": null,
   "id": "90ee8c68-0b73-448e-92bb-8c867ec28e56",
   "metadata": {},
   "outputs": [],
   "source": [
    "df2.filter(pl.col(\"e2e\"), ~pl.col(\"dup\"))[\n",
    "    [\"RBS1:RBS|seq\", \"RBS2:RBS|seq\", \"RBS3:RBS|seq\"]\n",
    "].select(pl.struct(pl.all())).to_series().value_counts(sort=True)[\n",
    "    \"count\"\n",
    "].to_pandas().hvplot.step()"
   ]
  },
  {
   "cell_type": "code",
   "execution_count": null,
   "id": "e61c1aa7-fefc-4643-aee8-8e2af40a50db",
   "metadata": {},
   "outputs": [],
   "source": [
    "hv.Overlay(\n",
    "    [\n",
    "        df2.filter(pl.col(\"e2e\"), ~pl.col(\"dup\"))[list(cols)]\n",
    "        .select(pl.struct(pl.all()))\n",
    "        .to_series()\n",
    "        .value_counts(sort=True)[\"count\"]\n",
    "        .to_pandas()\n",
    "        .hvplot.step(label=\", \".join(cols))\n",
    "        for cols in it.combinations([\"RBS1:RBS|seq\", \"RBS2:RBS|seq\", \"RBS3:RBS|seq\"], 2)\n",
    "    ]\n",
    ")"
   ]
  },
  {
   "cell_type": "code",
   "execution_count": null,
   "id": "27a55ca1-9526-4c82-a2c7-6c642e213d1e",
   "metadata": {},
   "outputs": [],
   "source": [
    "col1 = \"RBS1:RBS|seq\"\n",
    "# col1 = \"RBS2:RBS|seq\"\n",
    "col2 = \"RBS2:RBS|seq\"\n",
    "# col2 = \"RBS3:RBS|seq\"\n",
    "df2_filtered = df2.filter(pl.col(\"e2e\"), ~pl.col(\"dup\"))\n",
    "df_joined = (\n",
    "    df2_filtered[col1]\n",
    "    .value_counts()\n",
    "    .filter(pl.col(\"count\") > 100)\n",
    "    .join(df2_filtered[col2].value_counts(), left_on=col1, right_on=col2)\n",
    ")\n",
    "r2 = np.corrcoef(df_joined[\"count\"], df_joined[\"count_right\"])[0, 1] ** 2\n",
    "df_joined[[\"count\", \"count_right\"]].to_pandas().hvplot.scatter(\n",
    "    \"count\", \"count_right\", title=f\"r^2: {r2:.2f}\"\n",
    ")"
   ]
  },
  {
   "cell_type": "markdown",
   "id": "f0301ab4-1f4c-4a84-9b15-0d290532456d",
   "metadata": {},
   "source": [
    "## Terminator mutations"
   ]
  },
  {
   "cell_type": "code",
   "execution_count": null,
   "id": "d6219edb-d6da-4355-9e22-615a911e5d06",
   "metadata": {},
   "outputs": [],
   "source": [
    "seqs = (\n",
    "    df2.filter(pl.col(\"e2e\"), ~pl.col(\"dup\"), pl.col(\"depth\") >= 3)[\"LacI|seq\"]\n",
    "    .value_counts(sort=True)\n",
    "    .with_columns(\n",
    "        frac=pl.col(\"count\") / pl.col(\"count\").sum(),\n",
    "        len=pl.col(\"LacI|seq\").str.len_bytes(),\n",
    "    )\n",
    ")\n",
    "seqs"
   ]
  },
  {
   "cell_type": "code",
   "execution_count": null,
   "id": "1eb54f29-eba9-474e-8c6a-ea8979d74e9c",
   "metadata": {},
   "outputs": [],
   "source": [
    "seqs[0, 0]"
   ]
  },
  {
   "cell_type": "code",
   "execution_count": null,
   "id": "4d311624-16ba-46e3-8fcc-fdadcac0d4e8",
   "metadata": {},
   "outputs": [],
   "source": [
    "seqs = (\n",
    "    df2.filter(pl.col(\"e2e\"), ~pl.col(\"dup\"), pl.col(\"depth\") >= 3)[\"PhlF|seq\"]\n",
    "    .value_counts(sort=True)\n",
    "    .with_columns(\n",
    "        frac=pl.col(\"count\") / pl.col(\"count\").sum(),\n",
    "        len=pl.col(\"PhlF|seq\").str.len_bytes(),\n",
    "    )\n",
    ")\n",
    "seqs"
   ]
  },
  {
   "cell_type": "code",
   "execution_count": null,
   "id": "d80787c4-562a-4a45-a730-92b01218531a",
   "metadata": {},
   "outputs": [],
   "source": [
    "for idx in range(10):\n",
    "    print(f\">phlf{idx}\")\n",
    "    print(seqs[idx, 0])"
   ]
  },
  {
   "cell_type": "code",
   "execution_count": null,
   "id": "a7d1f543-faf8-49c7-b541-65bd9da67482",
   "metadata": {},
   "outputs": [],
   "source": [
    "seqs = (\n",
    "    df2.filter(pl.col(\"e2e\"), ~pl.col(\"dup\"), pl.col(\"depth\") >= 3)[\"BetI|seq\"]\n",
    "    .value_counts(sort=True)\n",
    "    .with_columns(\n",
    "        frac=pl.col(\"count\") / pl.col(\"count\").sum(),\n",
    "        len=pl.col(\"BetI|seq\").str.len_bytes(),\n",
    "    )\n",
    ")\n",
    "seqs"
   ]
  },
  {
   "cell_type": "code",
   "execution_count": null,
   "id": "8b444808-fefa-48cb-aeb2-a926e6da3ba4",
   "metadata": {},
   "outputs": [],
   "source": [
    "for idx in range(10):\n",
    "    print(f\">beti{idx}\")\n",
    "    print(seqs[idx, 0])"
   ]
  },
  {
   "cell_type": "markdown",
   "id": "5f0a43e5-83b3-4340-8239-40109beeccba",
   "metadata": {},
   "source": [
    "# 230818_repressilators"
   ]
  },
  {
   "cell_type": "code",
   "execution_count": null,
   "id": "f5043f73-4da4-4ee4-89a6-771aed05ce5f",
   "metadata": {},
   "outputs": [],
   "source": [
    "%%time\n",
    "df = concat_glob(\n",
    "    \"/home/jqs1/scratch/sequencing/230818_repressilators/20230905_1132_1H_PAQ85679_c9d74ddb/extract_segments/*.arrow\"\n",
    ").collect()"
   ]
  },
  {
   "cell_type": "code",
   "execution_count": null,
   "id": "600b4023-abdd-4f89-8e57-48e6c2d9f7a4",
   "metadata": {},
   "outputs": [],
   "source": [
    "%%time\n",
    "df2 = df.with_columns(\n",
    "    dup=pl.col(\"name\").is_duplicated(),\n",
    "    e2e=pl.col(\"variants_path\")\n",
    "    .list.set_intersection(\n",
    "        [\n",
    "            \"<BC:UPSTREAM\",\n",
    "            \"<UNS3\",\n",
    "            \">BC:UPSTREAM\",\n",
    "            \">UNS3\",\n",
    "        ]\n",
    "    )\n",
    "    .list.len()\n",
    "    == 2,\n",
    "    bc_e2e=pl.col(\"variants_path\")\n",
    "    .list.set_intersection(\n",
    "        [\n",
    "            \"<BC:UPSTREAM\",\n",
    "            \"<BC:SPACER2\",\n",
    "            \">BC:UPSTREAM\",\n",
    "            \">BC:SPACER2\",\n",
    "        ]\n",
    "    )\n",
    "    .list.len()\n",
    "    == 2,\n",
    ")"
   ]
  },
  {
   "cell_type": "code",
   "execution_count": null,
   "id": "d73c3e63-8e8d-4e2b-b0bb-9540c58c5f33",
   "metadata": {},
   "outputs": [],
   "source": [
    "df2.filter(pl.col(\"e2e\"), ~pl.col(\"dup\"))[\n",
    "    [\"RBS1:RBS|seq\", \"RBS2:RBS|seq\", \"RBS3:RBS|seq\"]\n",
    "]"
   ]
  },
  {
   "cell_type": "code",
   "execution_count": null,
   "id": "1e6143ab-8714-40a7-b75b-eb4cdb269b4d",
   "metadata": {},
   "outputs": [],
   "source": [
    "df2.filter(pl.col(\"e2e\"), ~pl.col(\"dup\"))[\n",
    "    [\"RBS1:RBS|seq\", \"RBS2:RBS|seq\", \"RBS3:RBS|seq\"]\n",
    "].select(pl.struct(pl.all()).alias(\"variant\")).to_series().value_counts(sort=True)"
   ]
  },
  {
   "cell_type": "code",
   "execution_count": null,
   "id": "06c7fdee-6cc5-4a9d-b95f-b35206c454bf",
   "metadata": {},
   "outputs": [],
   "source": [
    "df2.filter(pl.col(\"e2e\"), ~pl.col(\"dup\"), pl.col(\"depth\") > 5)[\n",
    "    \"RBS1:RBS|seq\"\n",
    "].value_counts(sort=True).with_columns(\n",
    "    frac=pl.col(\"count\") / pl.col(\"count\").sum(),\n",
    "    len=pl.col(\"RBS1:RBS|seq\").str.len_bytes(),\n",
    ").filter(\n",
    "    pl.col(\"count\") > 20\n",
    ")"
   ]
  },
  {
   "cell_type": "code",
   "execution_count": null,
   "id": "56a4f0c2-acd3-42ff-bd35-57e270a920f5",
   "metadata": {},
   "outputs": [],
   "source": [
    "df2.filter(pl.col(\"e2e\"), ~pl.col(\"dup\"), pl.col(\"depth\") > 5)[\n",
    "    \"RBS1:RBS|seq\"\n",
    "].str.len_bytes().value_counts(sort=True).with_columns(\n",
    "    frac=pl.col(\"count\") / pl.col(\"count\").sum()\n",
    ").filter(\n",
    "    pl.col(\"count\") > 20\n",
    ")"
   ]
  },
  {
   "cell_type": "code",
   "execution_count": null,
   "id": "8023ebe5-27c9-4f70-a980-132db3555430",
   "metadata": {},
   "outputs": [],
   "source": [
    "df2.filter(\n",
    "    pl.col(\"e2e\"),\n",
    "    ~pl.col(\"dup\"),\n",
    "    pl.col(\"depth\") > 5,\n",
    ").with_columns(\n",
    "    (pl.col(\"RBS1:RBS|seq\").str.len_bytes() == 13)\n",
    "    .and_(\n",
    "        pl.col(\"RBS2:RBS|seq\").str.len_bytes() == 13,\n",
    "        pl.col(\"RBS3:RBS|seq\").str.len_bytes() == 13,\n",
    "    )\n",
    "    .alias(\"good_RBS_length\")\n",
    ")[\"good_RBS_length\"].value_counts().with_columns(\n",
    "    frac=pl.col(\"count\") / pl.col(\"count\").sum()\n",
    ")"
   ]
  },
  {
   "cell_type": "code",
   "execution_count": null,
   "id": "9b564ee8-ea11-4d99-bb90-5e67b3791c3d",
   "metadata": {},
   "outputs": [],
   "source": [
    "hv.Overlay(\n",
    "    [\n",
    "        df2.filter(pl.col(\"e2e\"), ~pl.col(\"dup\"), pl.col(\"depth\") > 5)[col]\n",
    "        .value_counts(sort=True)[\"count\"]\n",
    "        .to_pandas()\n",
    "        .hvplot.step(logy=True, label=col)\n",
    "        for col in [\"RBS1:RBS|seq\", \"RBS2:RBS|seq\", \"RBS3:RBS|seq\"]\n",
    "    ]\n",
    ")"
   ]
  },
  {
   "cell_type": "code",
   "execution_count": null,
   "id": "ff99c24f-3f78-4c8a-a9bc-f24f2cc9ec83",
   "metadata": {},
   "outputs": [],
   "source": [
    "df2.filter(pl.col(\"e2e\"), ~pl.col(\"dup\"), pl.col(\"depth\") > 5)[\n",
    "    [\"RBS1:RBS|seq\", \"RBS2:RBS|seq\"]\n",
    "].select(pl.struct(pl.all()).alias(\"variant\")).to_series().value_counts(sort=True)"
   ]
  },
  {
   "cell_type": "code",
   "execution_count": null,
   "id": "b29b8686-6833-449f-84f8-399241d93959",
   "metadata": {},
   "outputs": [],
   "source": [
    "df2.filter(pl.col(\"e2e\"), ~pl.col(\"dup\"), pl.col(\"depth\") > 5)[\n",
    "    [\"RBS2:RBS|seq\", \"RBS3:RBS|seq\"]\n",
    "].select(pl.struct(pl.all())).to_series().value_counts(sort=True)"
   ]
  },
  {
   "cell_type": "code",
   "execution_count": null,
   "id": "8e5d6dc1-abd3-4a6e-8935-8d53e7f6d022",
   "metadata": {},
   "outputs": [],
   "source": [
    "df2.filter(pl.col(\"e2e\"), ~pl.col(\"dup\"), pl.col(\"depth\") > 5)[\n",
    "    [\"RBS1:RBS|seq\", \"RBS2:RBS|seq\", \"RBS3:RBS|seq\"]\n",
    "].select(pl.struct(pl.all())).to_series().value_counts(sort=True)"
   ]
  },
  {
   "cell_type": "code",
   "execution_count": null,
   "id": "f5fde020-c133-45c4-8055-0857f6bf791c",
   "metadata": {},
   "outputs": [],
   "source": [
    "df2.filter(pl.col(\"e2e\"), ~pl.col(\"dup\"), pl.col(\"depth\") > 5)[\n",
    "    [\"RBS1:RBS|seq\", \"RBS2:RBS|seq\", \"RBS3:RBS|seq\"]\n",
    "].select(pl.struct(pl.all())).to_series().value_counts(sort=True)[\n",
    "    \"count\"\n",
    "].to_pandas().hvplot.step(\n",
    "    logy=True\n",
    ")"
   ]
  },
  {
   "cell_type": "code",
   "execution_count": null,
   "id": "de86a761-704c-4c78-bbb8-28e3030373e8",
   "metadata": {},
   "outputs": [],
   "source": [
    "hv.Overlay(\n",
    "    [\n",
    "        df2.filter(pl.col(\"e2e\"), ~pl.col(\"dup\"), pl.col(\"depth\") > 5)[list(cols)]\n",
    "        .select(pl.struct(pl.all()))\n",
    "        .to_series()\n",
    "        .value_counts(sort=True)\n",
    "        .to_pandas()\n",
    "        .hvplot.step(label=\", \".join(cols), logy=True)\n",
    "        for cols in it.combinations([\"RBS1:RBS|seq\", \"RBS2:RBS|seq\", \"RBS3:RBS|seq\"], 2)\n",
    "    ]\n",
    ")"
   ]
  },
  {
   "cell_type": "code",
   "execution_count": null,
   "id": "f006bcf0-5c8f-4de5-a9d7-601717a142c3",
   "metadata": {},
   "outputs": [],
   "source": [
    "col1 = \"RBS1:RBS|seq\"\n",
    "# col1 = \"RBS2:RBS|seq\"\n",
    "col2 = \"RBS2:RBS|seq\"\n",
    "# col2 = \"RBS3:RBS|seq\"\n",
    "df2_filtered = df2.filter(pl.col(\"e2e\"), ~pl.col(\"dup\"))\n",
    "df_joined = (\n",
    "    df2_filtered[col1]\n",
    "    .value_counts()\n",
    "    .filter(pl.col(\"count\") > 0)\n",
    "    .join(df2_filtered[col2].value_counts(), left_on=col1, right_on=col2)\n",
    ")\n",
    "r2 = np.corrcoef(df_joined[\"count\"], df_joined[\"count_right\"])[0, 1] ** 2\n",
    "df_joined[[\"count\", \"count_right\"]].to_pandas().hvplot.scatter(\n",
    "    \"count\", \"count_right\", title=f\"r^2: {r2:.2f}\"\n",
    ")"
   ]
  },
  {
   "cell_type": "markdown",
   "id": "371374de-87fc-4b8c-ab8a-d69165d38de8",
   "metadata": {},
   "source": [
    "## Comparison with BCD SD library"
   ]
  },
  {
   "cell_type": "code",
   "execution_count": null,
   "id": "caff6538-417b-4412-9955-2232080ac5f9",
   "metadata": {},
   "outputs": [],
   "source": [
    "%%time\n",
    "df_lib = (\n",
    "    df2.filter(pl.col(\"e2e\"), ~pl.col(\"dup\"), pl.col(\"depth\") > 5)[\"RBS1:RBS|seq\"]\n",
    "    .value_counts(sort=True)\n",
    "    .with_columns(\n",
    "        frac=pl.col(\"count\") / pl.col(\"count\").sum(),\n",
    "        len=pl.col(\"RBS1:RBS|seq\").str.len_bytes(),\n",
    "        in_library=pl.col(\"RBS1:RBS|seq\").is_in(bcd_sds_13),\n",
    "    )\n",
    "    .filter(pl.col(\"count\") > 20)\n",
    ")\n",
    "df_lib"
   ]
  },
  {
   "cell_type": "code",
   "execution_count": null,
   "id": "73a5f02f-7da3-4e91-9dd4-0214aaa7c811",
   "metadata": {},
   "outputs": [],
   "source": [
    "df_lib.group_by(\"in_library\").agg(pl.col(\"frac\").sum())"
   ]
  },
  {
   "cell_type": "code",
   "execution_count": null,
   "id": "0f7fa685-7083-4998-a3b1-c96885b1e842",
   "metadata": {},
   "outputs": [],
   "source": [
    "df_lib.filter(pl.col(\"RBS1:RBS|seq\").str.len_bytes() == 13).group_by(\"in_library\").agg(\n",
    "    pl.col(\"frac\").sum()\n",
    ")"
   ]
  }
 ],
 "metadata": {
  "kernelspec": {
   "display_name": "Python 3 (ipykernel)",
   "language": "python",
   "name": "python3"
  },
  "language_info": {
   "codemirror_mode": {
    "name": "ipython",
    "version": 3
   },
   "file_extension": ".py",
   "mimetype": "text/x-python",
   "name": "python",
   "nbconvert_exporter": "python",
   "pygments_lexer": "ipython3",
   "version": "3.11.9"
  }
 },
 "nbformat": 4,
 "nbformat_minor": 5
}
