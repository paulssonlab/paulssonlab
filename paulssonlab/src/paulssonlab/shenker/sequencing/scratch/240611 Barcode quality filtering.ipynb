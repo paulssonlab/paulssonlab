{
 "cells": [
  {
   "cell_type": "code",
   "execution_count": null,
   "id": "41c57f7d-eb34-40e9-b810-10d4c44d68b2",
   "metadata": {},
   "outputs": [],
   "source": [
    "import itertools as it\n",
    "from collections import Counter, defaultdict\n",
    "from functools import partial\n",
    "from glob import glob\n",
    "from pathlib import Path\n",
    "\n",
    "import gfapy\n",
    "import holoviews as hv\n",
    "import hvplot.pandas\n",
    "import matplotlib.pyplot as plt\n",
    "import numpy as np\n",
    "import pandas as pd\n",
    "import polars as pl\n",
    "import pyarrow as pa\n",
    "import pyarrow.compute as pc\n",
    "import pyarrow.dataset as ds\n",
    "from tqdm.auto import tqdm, trange"
   ]
  },
  {
   "cell_type": "code",
   "execution_count": null,
   "id": "f4ec68fd-4dab-43a1-a74d-fc2137f04acb",
   "metadata": {},
   "outputs": [],
   "source": [
    "%load_ext autoreload\n",
    "%autoreload 2"
   ]
  },
  {
   "cell_type": "code",
   "execution_count": null,
   "id": "6d3d323b-2fd5-44cd-b9b0-ed41db593de3",
   "metadata": {},
   "outputs": [],
   "source": [
    "import paulssonlab.sequencing.align as align\n",
    "import paulssonlab.sequencing.cigar as scigar\n",
    "import paulssonlab.sequencing.consensus as con\n",
    "import paulssonlab.sequencing.gfa as sgfa\n",
    "import paulssonlab.sequencing.io as sio\n",
    "import paulssonlab.sequencing.processing as processing\n",
    "from paulssonlab.util.sequence import reverse_complement"
   ]
  },
  {
   "cell_type": "code",
   "execution_count": null,
   "id": "f117a156-f6f6-423f-81be-bb5eed890a23",
   "metadata": {},
   "outputs": [],
   "source": [
    "hv.extension(\"bokeh\")"
   ]
  },
  {
   "cell_type": "code",
   "execution_count": null,
   "id": "d286b864-7447-4195-8a34-2ede229b0b4c",
   "metadata": {},
   "outputs": [],
   "source": [
    "pl.enable_string_cache()"
   ]
  },
  {
   "cell_type": "markdown",
   "id": "e5c5f417-e951-4a21-a5e9-b8c4182a17e3",
   "metadata": {},
   "source": [
    "# Functions"
   ]
  },
  {
   "cell_type": "code",
   "execution_count": null,
   "id": "34ec49ac-7ef6-41d8-aed9-9182a4f5d3d5",
   "metadata": {},
   "outputs": [],
   "source": [
    "def concat_glob(filename):\n",
    "    return pl.concat([pl.scan_ipc(f) for f in glob(filename)], how=\"diagonal\")"
   ]
  },
  {
   "cell_type": "code",
   "execution_count": null,
   "id": "836fb631-e74b-4460-ad5c-3e0dc3626025",
   "metadata": {},
   "outputs": [],
   "source": [
    "def label_columns(cols, func=None):\n",
    "    expr = None\n",
    "    for col in cols:\n",
    "        if expr is None:\n",
    "            expr = pl.when(pl.col(col).is_not_null())\n",
    "        else:\n",
    "            expr = expr.when(pl.col(col).is_not_null())\n",
    "        if func is not None:\n",
    "            lit = func(col)\n",
    "        else:\n",
    "            lit = col\n",
    "        expr = expr.then(pl.lit(lit))\n",
    "    return expr"
   ]
  },
  {
   "cell_type": "markdown",
   "id": "bd0dbb0b-7146-4cc9-97b0-99c3bc724fb0",
   "metadata": {},
   "source": [
    "# 240610_pLIB476 vs. 240510_pLIB473-476"
   ]
  },
  {
   "cell_type": "code",
   "execution_count": null,
   "id": "856a0c10-8510-4d17-9e77-3474f3453eab",
   "metadata": {},
   "outputs": [],
   "source": [
    "arrow_filename = \"/home/jqs1/scratch/sequencing/240610_pLIB476_bottleneck/pLIB476_bottleneck/pLIB476/20240607_1433_MN35044_FAX60316_7d690112/\"\n",
    "df = concat_glob(arrow_filename)  # .collect()"
   ]
  },
  {
   "cell_type": "markdown",
   "id": "4e3bacc7-7140-43c2-b5e0-9caa473a85b7",
   "metadata": {},
   "source": [
    "# prepare_reads bugfix"
   ]
  },
  {
   "cell_type": "code",
   "execution_count": null,
   "id": "7f938248-1201-4b17-a92d-bc9f80c94361",
   "metadata": {},
   "outputs": [],
   "source": [
    "arrow_filename = \"/home/jqs1/scratch/sequencing/240610_pLIB476_bottleneck/pLIB476_bottleneck/pLIB476/20240607_1433_MN35044_FAX60316_7d690112/work/ea/83943aa59f16e2657d0d323ba47785/input/channel-93_merged.arrow\"\n",
    "df = concat_glob(arrow_filename)  # .collect()"
   ]
  },
  {
   "cell_type": "code",
   "execution_count": null,
   "id": "45d6edb6-6587-4038-9518-82cbeb47efc4",
   "metadata": {},
   "outputs": [],
   "source": [
    "gfa_filename = \"/home/jqs1/scratch/sequencing/240610_pLIB476_bottleneck/pLIB476_bottleneck/pLIB476/20240607_1433_MN35044_FAX60316_7d690112/references/pLIB476jqs.gfa\"\n",
    "gfa = gfapy.Gfa.from_file(gfa_filename)"
   ]
  },
  {
   "cell_type": "code",
   "execution_count": null,
   "id": "92059362-407c-4e87-8394-938c9ac225b9",
   "metadata": {},
   "outputs": [],
   "source": [
    "len(df)"
   ]
  },
  {
   "cell_type": "code",
   "execution_count": null,
   "id": "ef8e7a5e-4881-40be-9b32-0c45d5399ed1",
   "metadata": {},
   "outputs": [],
   "source": [
    "%%time\n",
    "df2 = processing.cut_cigar_df(\n",
    "    df,\n",
    "    gfa,\n",
    "    path_column=\"path\",\n",
    "    cigar_column=\"cg\",\n",
    "    # sequence_column=\"read_seq\",\n",
    "    # phred_column=\"read_phred\",\n",
    "    query_start_column=\"query_start\",\n",
    "    query_end_column=\"query_end\",\n",
    "    query_length_column=\"query_length\",\n",
    "    path_start_column=\"path_start\",\n",
    "    path_end_column=\"path_end\",\n",
    "    struct_name=\"extract_segments\",\n",
    "    keep_full=True,\n",
    "    cut_cigar_kwargs=dict(\n",
    "        key_sep=\"|\",\n",
    "        return_indices=False,\n",
    "        return_counts=True,\n",
    "        return_cigars=False,\n",
    "        return_variants=True,\n",
    "        separate_ends=True,\n",
    "    ),\n",
    ")"
   ]
  },
  {
   "cell_type": "code",
   "execution_count": null,
   "id": "c2757bf0-65c9-4b03-ace4-f95b9eb2f616",
   "metadata": {},
   "outputs": [],
   "source": [
    "%%time\n",
    "df2 = df2.collect()"
   ]
  },
  {
   "cell_type": "code",
   "execution_count": null,
   "id": "eb545282-200e-47f7-ad63-affafbfac482",
   "metadata": {},
   "outputs": [],
   "source": [
    "df2"
   ]
  },
  {
   "cell_type": "markdown",
   "id": "0f244136-73b0-4bba-992c-a0e8bf865c80",
   "metadata": {},
   "source": [
    "# Barcode alignment quality filtering"
   ]
  },
  {
   "cell_type": "code",
   "execution_count": null,
   "id": "501074b8-79a7-4f58-8c47-341268394de4",
   "metadata": {},
   "outputs": [],
   "source": [
    "arrow_filename = \"/home/jqs1/scratch/sequencing/231201_bcd_rbses_run3/20231201_1101_1F_PAU05823_773c75ee/prepare_reads/channel-100_merged.arrow\"\n",
    "# arrow_filename = \"/home/jqs1/scratch/sequencing/231201_bcd_rbses_run3/20231201_1101_1F_PAU05823_773c75ee/extract_segments/consensus-0-of-400.arrow\"\n",
    "df = concat_glob(arrow_filename).collect()"
   ]
  },
  {
   "cell_type": "code",
   "execution_count": null,
   "id": "32569022-f007-44fa-af50-ef3cf28e79c9",
   "metadata": {},
   "outputs": [],
   "source": [
    "gfa_filename = \"/home/jqs1/scratch/sequencing/231201_bcd_rbses_run3/20231201_1101_1F_PAU05823_773c75ee/references/barcode.gfa\"\n",
    "# gfa_filename = \"/home/jqs1/scratch/sequencing/231201_bcd_rbses_run3/20231201_1101_1F_PAU05823_773c75ee/references/pLIB430-435.gfa\"\n",
    "gfa = gfapy.Gfa.from_file(gfa_filename)"
   ]
  },
  {
   "cell_type": "code",
   "execution_count": null,
   "id": "8443e104-b71b-4e3b-a49e-67b0c46fd1e8",
   "metadata": {},
   "outputs": [],
   "source": [
    "len(df)"
   ]
  },
  {
   "cell_type": "code",
   "execution_count": null,
   "id": "bdcb1655-f54a-477a-ace7-e1783537e94e",
   "metadata": {},
   "outputs": [],
   "source": [
    "%%time\n",
    "df2 = processing.cut_cigar_df(\n",
    "    df[:5000],\n",
    "    gfa,\n",
    "    path_column=\"full_path\",\n",
    "    cigar_column=\"cg\",\n",
    "    sequence_column=\"read_seq\",\n",
    "    phred_column=\"read_phred\",\n",
    "    query_start_column=\"query_start\",\n",
    "    query_end_column=\"query_end\",\n",
    "    query_length_column=\"query_length\",\n",
    "    path_start_column=\"path_start\",\n",
    "    path_end_column=\"path_end\",\n",
    "    keep_full=True,\n",
    "    # CLI args: variant_sep, segments\n",
    "    # cut_cigar_kwargs=dict(\n",
    "    #     return_variants=False,\n",
    "    #     return_cigars=False,\n",
    "    #     return_counts=True,\n",
    "    #     return_indices=False,\n",
    "    # ),\n",
    ")"
   ]
  },
  {
   "cell_type": "code",
   "execution_count": null,
   "id": "02f03c9c-e84d-4cb8-9574-6411a37b93f5",
   "metadata": {},
   "outputs": [],
   "source": [
    "bit_segs = set([s.split(\"=\")[0] for s in gfa.segment_names if s.startswith(\"BC:BIT\")])"
   ]
  },
  {
   "cell_type": "code",
   "execution_count": null,
   "id": "e126ea79-ef12-43ec-9d49-5becc73d7dab",
   "metadata": {},
   "outputs": [],
   "source": [
    "df2.with_columns(\n",
    "    **{\n",
    "        f\"{s}_div\": pl.sum_horizontal(\n",
    "            pl.col(f\"{s}|mismatches\"),\n",
    "            pl.col(f\"{s}|insertions\"),\n",
    "            pl.col(f\"{s}|deletions\"),\n",
    "        )\n",
    "        for s in bit_segs\n",
    "    }\n",
    ")"
   ]
  },
  {
   "cell_type": "code",
   "execution_count": null,
   "id": "293a5161-67da-47e9-87b0-d16c59679d6e",
   "metadata": {},
   "outputs": [],
   "source": [
    "df2.with_columns(\n",
    "    max_divergence=pl.max_horizontal(\n",
    "        [\n",
    "            pl.sum_horizontal(\n",
    "                pl.col(f\"{s}|mismatches\"),\n",
    "                pl.col(f\"{s}|insertions\"),\n",
    "                pl.col(f\"{s}|deletions\"),\n",
    "            )\n",
    "            / pl.col()\n",
    "            for s in bit_segs\n",
    "        ]\n",
    "    )\n",
    ")"
   ]
  },
  {
   "cell_type": "code",
   "execution_count": null,
   "id": "022186c2-db37-499a-a02c-50a61283caf6",
   "metadata": {},
   "outputs": [],
   "source": [
    "z = _[\"max_divergence\"]"
   ]
  },
  {
   "cell_type": "code",
   "execution_count": null,
   "id": "0b9be31b-c800-43ff-8238-fefbbe5b1742",
   "metadata": {},
   "outputs": [],
   "source": [
    "plt.hist(z, log=True, cumulative=True, histtype=\"step\", density=True, bins=50);"
   ]
  },
  {
   "cell_type": "code",
   "execution_count": null,
   "id": "973c258f-b492-4b17-8827-f4012f7bcddf",
   "metadata": {},
   "outputs": [],
   "source": [
    "df2.columns"
   ]
  },
  {
   "cell_type": "code",
   "execution_count": null,
   "id": "36c2ebf1-21bf-46d7-9850-a608954c69e6",
   "metadata": {},
   "outputs": [],
   "source": [
    "plt.hist(df[\"id\"], cumulative=True, bins=100, density=True, histtype=\"step\", log=True);"
   ]
  },
  {
   "cell_type": "code",
   "execution_count": null,
   "id": "315a7106-51ad-4e6a-aa38-f94b16e71574",
   "metadata": {},
   "outputs": [],
   "source": [
    "plt.scatter(df[\"id\"], df[\"NM\"], s=0.3);"
   ]
  },
  {
   "cell_type": "code",
   "execution_count": null,
   "id": "6abd59c2-6dc5-4b50-9f4b-a66837ad3399",
   "metadata": {},
   "outputs": [],
   "source": [
    "plt.scatter(df[\"id\"], df[\"NM\"], s=0.3);"
   ]
  },
  {
   "cell_type": "markdown",
   "id": "5379deaa-bda6-4320-9dde-26f52456570d",
   "metadata": {},
   "source": [
    "# cut_cigar optimization"
   ]
  },
  {
   "cell_type": "code",
   "execution_count": null,
   "id": "875a4f30-d23a-4b0d-8aed-a0fbe5002068",
   "metadata": {},
   "outputs": [],
   "source": [
    "arrow_filename = \"/home/jqs1/scratch/sequencing/231201_bcd_rbses_run3/20231201_1101_1F_PAU05823_773c75ee/extract_segments/consensus-0-of-400.arrow\"\n",
    "# arrow_filename = \"/home/jqs1/scratch/sequencing/231201_bcd_rbses_run3/20231201_1101_1F_PAU05823_773c75ee/extract_segments/*.arrow\"\n",
    "df = concat_glob(arrow_filename).collect()"
   ]
  },
  {
   "cell_type": "code",
   "execution_count": null,
   "id": "4e241b85-0011-46be-9e58-fbdedeaf421a",
   "metadata": {},
   "outputs": [],
   "source": [
    "# gfa_filename = \"/home/jqs1/scratch/sequencing/231201_bcd_rbses_run3/20231201_1101_1F_PAU05823_773c75ee/references/barcode.gfa\"\n",
    "gfa_filename = \"/home/jqs1/scratch/sequencing/231201_bcd_rbses_run3/20231201_1101_1F_PAU05823_773c75ee/references/pLIB430-435.gfa\"\n",
    "gfa = gfapy.Gfa.from_file(gfa_filename)\n",
    "name_to_seq = sgfa.gfa_name_mapping(gfa)"
   ]
  },
  {
   "cell_type": "code",
   "execution_count": null,
   "id": "12f1002d-ee0d-433f-a947-b001f6ca6a0a",
   "metadata": {},
   "outputs": [],
   "source": [
    "idx = 5\n",
    "cigar = scigar.decode_cigar(df[idx, \"cg\"])\n",
    "path = df[idx, \"variants_path\"].to_list()\n",
    "seq = df[idx, \"consensus_seq\"]\n",
    "path_start = df[idx, \"path_start\"]\n",
    "path_end = df[idx, \"path_end\"]\n",
    "query_start = df[idx, \"query_start\"]\n",
    "query_end = df[idx, \"query_end\"]"
   ]
  },
  {
   "cell_type": "code",
   "execution_count": null,
   "id": "62d311b6-8096-46cc-a2a2-164379524059",
   "metadata": {},
   "outputs": [],
   "source": [
    "%%timeit\n",
    "res = scigar.cut_cigar(\n",
    "    cigar,\n",
    "    path,\n",
    "    name_to_seq,\n",
    "    sequence=seq,\n",
    "    path_start=path_start,\n",
    "    path_end=path_end,\n",
    "    query_start=query_start,\n",
    "    query_end=query_end,\n",
    ")"
   ]
  },
  {
   "cell_type": "code",
   "execution_count": null,
   "id": "106e286f-3eb5-47aa-87b5-e7af09042cb7",
   "metadata": {},
   "outputs": [],
   "source": [
    "res"
   ]
  },
  {
   "cell_type": "code",
   "execution_count": null,
   "id": "565bd9fa-0546-4e56-8952-d81de00bc614",
   "metadata": {},
   "outputs": [],
   "source": [
    "res"
   ]
  },
  {
   "cell_type": "markdown",
   "id": "b52c81fb-22d1-4a44-9802-0ef6d18e3b0a",
   "metadata": {},
   "source": [
    "# Duplicate barcode debugging"
   ]
  },
  {
   "cell_type": "code",
   "execution_count": null,
   "id": "45af9c09-53ca-411c-a2e4-cf62e4af59a9",
   "metadata": {},
   "outputs": [],
   "source": [
    "arrow_filename = \"/home/jqs1/scratch/sequencing/231201_bcd_rbses_run3/20231201_1101_1F_PAU05823_773c75ee/extract_segments/consensus-0-of-400.arrow\"\n",
    "# arrow_filename = \"/home/jqs1/scratch/sequencing/231201_bcd_rbses_run3/20231201_1101_1F_PAU05823_773c75ee/extract_segments/*.arrow\"\n",
    "df = concat_glob(arrow_filename).collect()"
   ]
  },
  {
   "cell_type": "code",
   "execution_count": null,
   "id": "9671268f-2733-4a57-a941-f765a1688bcf",
   "metadata": {},
   "outputs": [],
   "source": [
    "len(df)"
   ]
  },
  {
   "cell_type": "code",
   "execution_count": null,
   "id": "0e023b8a-1e3a-48a2-b727-9277be9df325",
   "metadata": {},
   "outputs": [],
   "source": [
    "name_to_seq = sgfa.gfa_name_mapping(gfa)"
   ]
  },
  {
   "cell_type": "code",
   "execution_count": null,
   "id": "2903e613-c142-4cfc-9758-a598f24dcb62",
   "metadata": {},
   "outputs": [],
   "source": [
    "sum([len(name_to_seq[s]) for s in df[\"variants_path\"][-3].to_list()])"
   ]
  },
  {
   "cell_type": "code",
   "execution_count": null,
   "id": "701d42e7-be47-480b-9c5a-8c9bacef123a",
   "metadata": {},
   "outputs": [],
   "source": [
    "x"
   ]
  },
  {
   "cell_type": "code",
   "execution_count": null,
   "id": "f803019f-bef3-4493-90b6-c499630ff0f3",
   "metadata": {},
   "outputs": [],
   "source": [
    "def path_advance(c):\n",
    "    l = 0\n",
    "    for op, length in c:\n",
    "        if op != scigar.CigarOp[\"D\"]:\n",
    "            l += length\n",
    "    return l\n",
    "\n",
    "\n",
    "def query_advance(c):\n",
    "    l = 0\n",
    "    for op, length in c:\n",
    "        if op != scigar.CigarOp[\"I\"]:\n",
    "            l += length\n",
    "    return l\n",
    "\n",
    "\n",
    "def all_advance(c):\n",
    "    l = 0\n",
    "    for op, length in c:\n",
    "        l += length\n",
    "    return l\n",
    "\n",
    "\n",
    "def advance(c):\n",
    "    return (path_advance(c), query_advance(c), all_advance(c))\n",
    "\n",
    "\n",
    "x = scigar.decode_cigar(df[1, \"cg\"])\n",
    "advance(x)"
   ]
  },
  {
   "cell_type": "code",
   "execution_count": null,
   "id": "7f4a6cb6-c601-41a6-9d14-fcd0406bf8c9",
   "metadata": {},
   "outputs": [],
   "source": [
    "advance(a)"
   ]
  },
  {
   "cell_type": "code",
   "execution_count": null,
   "id": "640c0872-bb31-4c61-bbf4-c9eea71654f5",
   "metadata": {},
   "outputs": [],
   "source": [
    "advance(cigar2)"
   ]
  },
  {
   "cell_type": "code",
   "execution_count": null,
   "id": "2d9ded23-5fe3-4da2-b95b-131bdff5eeac",
   "metadata": {},
   "outputs": [],
   "source": [
    "len(df[1, \"consensus_seq\"])"
   ]
  },
  {
   "cell_type": "code",
   "execution_count": null,
   "id": "01d45bfe-41ed-49b3-847c-2a4f8204c74a",
   "metadata": {},
   "outputs": [],
   "source": [
    "df[1]"
   ]
  },
  {
   "cell_type": "code",
   "execution_count": null,
   "id": "729fd479-6b6f-44ca-8c0c-6c9ae77717e4",
   "metadata": {},
   "outputs": [],
   "source": [
    "df[\"query_start\"]"
   ]
  },
  {
   "cell_type": "code",
   "execution_count": null,
   "id": "7f42d715-c535-4a8a-aa85-42161fe6a28c",
   "metadata": {},
   "outputs": [],
   "source": [
    "df[\"query_length\"]"
   ]
  },
  {
   "cell_type": "code",
   "execution_count": null,
   "id": "4190ef75-a600-416a-8d10-a95ce1b6ff02",
   "metadata": {},
   "outputs": [],
   "source": [
    "np.where(df[\"path_start\"] != 0)"
   ]
  },
  {
   "cell_type": "code",
   "execution_count": null,
   "id": "90790a78-fec6-49e6-a0b2-b4bf8ccee84a",
   "metadata": {},
   "outputs": [],
   "source": [
    "(df[\"path_start\"] != 0).sum()"
   ]
  },
  {
   "cell_type": "code",
   "execution_count": null,
   "id": "36363c54-5532-4ea9-8934-a5d279dd564b",
   "metadata": {},
   "outputs": [],
   "source": [
    "idx = 5"
   ]
  },
  {
   "cell_type": "code",
   "execution_count": null,
   "id": "3c18ef8a-f0c4-4b08-a990-bdf7dfbc7b1e",
   "metadata": {},
   "outputs": [],
   "source": [
    "df[idx]"
   ]
  },
  {
   "cell_type": "code",
   "execution_count": null,
   "id": "357105ad-d1e0-4ecd-9172-abe0e1ebc142",
   "metadata": {},
   "outputs": [],
   "source": [
    "cigar = scigar.decode_cigar(df[idx, \"cg\"])\n",
    "path = df[idx, \"variants_path\"].to_list()\n",
    "a = scigar.cut_cigar(\n",
    "    cigar,\n",
    "    path,\n",
    "    name_to_seq,\n",
    "    sequence=df[idx, \"consensus_seq\"],\n",
    "    path_start=df[idx, \"path_start\"],\n",
    "    path_end=df[idx, \"path_end\"],\n",
    "    query_start=df[idx, \"query_start\"],\n",
    "    query_end=df[idx, \"query_end\"],\n",
    ")"
   ]
  },
  {
   "cell_type": "code",
   "execution_count": null,
   "id": "e933a32f-be7e-47c2-af30-6ac99e6a9c9f",
   "metadata": {},
   "outputs": [],
   "source": [
    "a"
   ]
  },
  {
   "cell_type": "code",
   "execution_count": null,
   "id": "26c71036-dd3b-432b-b615-3f07e7f0931a",
   "metadata": {},
   "outputs": [],
   "source": [
    "advance(a)"
   ]
  },
  {
   "cell_type": "code",
   "execution_count": null,
   "id": "b7c84ead-5c10-4191-8dd9-dc35e8eb31ab",
   "metadata": {},
   "outputs": [],
   "source": [
    "a"
   ]
  },
  {
   "cell_type": "code",
   "execution_count": null,
   "id": "f3bf9f9b-ba0d-4988-87f6-5cc1ec69d61c",
   "metadata": {},
   "outputs": [],
   "source": [
    "cigar"
   ]
  },
  {
   "cell_type": "code",
   "execution_count": null,
   "id": "84fcc002-bc70-42e9-9d10-252b68664825",
   "metadata": {},
   "outputs": [],
   "source": [
    "advance(cigar)"
   ]
  },
  {
   "cell_type": "code",
   "execution_count": null,
   "id": "4cf4756d-0498-449f-a81c-6535c830f049",
   "metadata": {},
   "outputs": [],
   "source": [
    "cigar2 = scigar.decode_cigar(df[idx, \"realign_cg\"])\n",
    "path = df[idx, \"variants_path\"].to_list()\n",
    "b = scigar.cut_cigar(cigar2, path, name_to_seq, sequence=df[idx, \"consensus_seq\"])"
   ]
  },
  {
   "cell_type": "code",
   "execution_count": null,
   "id": "60207afc-0c1c-4f8f-af09-9c71cbbb1e00",
   "metadata": {},
   "outputs": [],
   "source": [
    "b"
   ]
  },
  {
   "cell_type": "code",
   "execution_count": null,
   "id": "59ff8efd-d248-49ca-a208-ee6791a144f4",
   "metadata": {},
   "outputs": [],
   "source": [
    "cigar2"
   ]
  },
  {
   "cell_type": "code",
   "execution_count": null,
   "id": "80eb4d7d-4e11-40e0-b2f0-eed78eb4761a",
   "metadata": {},
   "outputs": [],
   "source": [
    "advance(cigar2)"
   ]
  },
  {
   "cell_type": "code",
   "execution_count": null,
   "id": "a47ca743-ccec-43b3-ba04-a38f794aaf00",
   "metadata": {},
   "outputs": [],
   "source": [
    "len(df[idx, \"consensus_seq\"])"
   ]
  },
  {
   "cell_type": "code",
   "execution_count": null,
   "id": "b65b31bc-b927-4a93-b1a7-83fa7e21638d",
   "metadata": {},
   "outputs": [],
   "source": [
    "df[idx]"
   ]
  },
  {
   "cell_type": "code",
   "execution_count": null,
   "id": "43410185-b15e-4dac-8daa-d7e241763ee6",
   "metadata": {},
   "outputs": [],
   "source": [
    "a"
   ]
  },
  {
   "cell_type": "code",
   "execution_count": null,
   "id": "cd391df4-b7b9-404a-9468-b3e95b147200",
   "metadata": {},
   "outputs": [],
   "source": [
    "b"
   ]
  },
  {
   "cell_type": "code",
   "execution_count": null,
   "id": "fae942d1-9dc4-4f4e-81b1-6940a6aedbed",
   "metadata": {},
   "outputs": [],
   "source": [
    "len(name_to_seq[\"<UNS3\"])"
   ]
  },
  {
   "cell_type": "code",
   "execution_count": null,
   "id": "eb609387-5ae3-47d4-b033-76f1821a36c7",
   "metadata": {},
   "outputs": [],
   "source": [
    "cigar"
   ]
  },
  {
   "cell_type": "code",
   "execution_count": null,
   "id": "0b1566c3-7751-47f7-8da0-dbb9f0a022ce",
   "metadata": {},
   "outputs": [],
   "source": [
    "path"
   ]
  },
  {
   "cell_type": "code",
   "execution_count": null,
   "id": "f5889f9f-c25d-448d-b6d1-bc22afac57bb",
   "metadata": {},
   "outputs": [],
   "source": [
    "a"
   ]
  },
  {
   "cell_type": "code",
   "execution_count": null,
   "id": "f2d07a36-66ec-4d67-b476-152838ada680",
   "metadata": {},
   "outputs": [],
   "source": [
    "df.columns"
   ]
  },
  {
   "cell_type": "code",
   "execution_count": null,
   "id": "4a2faf9b-a0d3-4be7-beba-9eb70f7060b7",
   "metadata": {},
   "outputs": [],
   "source": [
    "%%time\n",
    "df2 = df.with_columns(\n",
    "    dup=pl.col(\"name\").is_duplicated(),\n",
    "    e2e=pl.col(\"variants_path\")\n",
    "    .list.set_intersection(\n",
    "        [\n",
    "            \"<BC:UPSTREAM\",\n",
    "            \"<UNS3\",\n",
    "            \">BC:UPSTREAM\",\n",
    "            \">UNS3\",\n",
    "        ]\n",
    "    )\n",
    "    .list.len()\n",
    "    == 2,\n",
    "    bc_e2e=pl.col(\"variants_path\")\n",
    "    .list.set_intersection(\n",
    "        [\n",
    "            \"<BC:UPSTREAM\",\n",
    "            \"<BC:SPACER2\",\n",
    "            \">BC:UPSTREAM\",\n",
    "            \">BC:SPACER2\",\n",
    "        ]\n",
    "    )\n",
    "    .list.len()\n",
    "    == 2,\n",
    ")"
   ]
  },
  {
   "cell_type": "code",
   "execution_count": null,
   "id": "395743b0-d230-4950-a933-d1d2cb62049b",
   "metadata": {},
   "outputs": [],
   "source": [
    "df3 = df2.filter(pl.col(\"e2e\"), ~pl.col(\"dup\"))"
   ]
  },
  {
   "cell_type": "code",
   "execution_count": null,
   "id": "575ce424-4839-4382-b68e-6820e09dd05f",
   "metadata": {},
   "outputs": [],
   "source": [
    "len(df3)"
   ]
  },
  {
   "cell_type": "code",
   "execution_count": null,
   "id": "6e8b1d5a-4681-4492-b96d-8da36436237f",
   "metadata": {},
   "outputs": [],
   "source": [
    "len(df3) / len(df2)"
   ]
  },
  {
   "cell_type": "code",
   "execution_count": null,
   "id": "8c0ca198-72f8-44ac-8246-819c3f28c58e",
   "metadata": {},
   "outputs": [],
   "source": [
    "df3.select(r\"^.*\\|insertions$\")"
   ]
  },
  {
   "cell_type": "code",
   "execution_count": null,
   "id": "ac562f05-7180-4321-8429-d2bebd4abbf2",
   "metadata": {},
   "outputs": [],
   "source": [
    "ins = df3.select(max=pl.max_horizontal(r\"^.*\\|insertions$\"))[\"max\"].sort()"
   ]
  },
  {
   "cell_type": "code",
   "execution_count": null,
   "id": "4629d6c1-4610-4a40-ac33-642e5690b59a",
   "metadata": {},
   "outputs": [],
   "source": [
    "ins[-200]"
   ]
  },
  {
   "cell_type": "code",
   "execution_count": null,
   "id": "417614f5-e5b5-4bc8-af1b-97437159dc94",
   "metadata": {},
   "outputs": [],
   "source": [
    "df3.group_by(\"grouping_path\").agg(pl.len())[\"len\"].value_counts()"
   ]
  },
  {
   "cell_type": "code",
   "execution_count": null,
   "id": "ad4f7c77-b411-4edd-8597-ca284a835204",
   "metadata": {},
   "outputs": [],
   "source": [
    "df.columns"
   ]
  },
  {
   "cell_type": "code",
   "execution_count": null,
   "id": "a80fe1c4-6581-4116-95fe-433df24adaad",
   "metadata": {},
   "outputs": [],
   "source": [
    "df.select(pl.exclude(r\"^.*\\|.*$\"))"
   ]
  },
  {
   "cell_type": "code",
   "execution_count": null,
   "id": "71c25139-b902-4bbf-9734-b35594086cd6",
   "metadata": {},
   "outputs": [],
   "source": [
    "df.group_by(\"grouping_path\").agg(pl.col(\"name\")).filter(\n",
    "    pl.col(\"name\").list.len() > 4\n",
    ")  # [\"len\"].value_counts()"
   ]
  },
  {
   "cell_type": "code",
   "execution_count": null,
   "id": "e548c1b2-df92-4883-847e-c942b05601d6",
   "metadata": {},
   "outputs": [],
   "source": [
    "df.filter(\n",
    "    pl.col(\"name\")\n",
    "    == \"consensus_4d03b99001bd2316ebc0c40067fa3dc8387e5fd61608dd45b4891ccf313ab769\"\n",
    ").select(pl.exclude(r\"^.*\\|.*$\"))"
   ]
  },
  {
   "cell_type": "code",
   "execution_count": null,
   "id": "06ffe958-ba6b-4aef-8db6-944238b1018e",
   "metadata": {},
   "outputs": [],
   "source": [
    "df.filter(\n",
    "    pl.col(\"name\")\n",
    "    == \"consensus_4d03b99001bd2316ebc0c40067fa3dc8387e5fd61608dd45b4891ccf313ab769\"\n",
    ").select(pl.exclude(r\"^.*\\|.*$\"))[0, \"cg\"]"
   ]
  },
  {
   "cell_type": "code",
   "execution_count": null,
   "id": "9d183fe6-8884-406e-860c-351782e39ec1",
   "metadata": {},
   "outputs": [],
   "source": [
    "df.filter(\n",
    "    pl.col(\"name\")\n",
    "    == \"consensus_4d03b99001bd2316ebc0c40067fa3dc8387e5fd61608dd45b4891ccf313ab769\"\n",
    ").select(pl.exclude(r\"^.*\\|.*$\"))[0, \"realign_cg\"]"
   ]
  },
  {
   "cell_type": "markdown",
   "id": "7aa51922-cb84-4f05-94f0-5efb49451b1d",
   "metadata": {},
   "source": [
    "# parasail/pywfa local alignment"
   ]
  },
  {
   "cell_type": "code",
   "execution_count": null,
   "id": "10be72cc-b6bb-49b6-9417-66e344eb4d56",
   "metadata": {},
   "outputs": [],
   "source": [
    "res = align.pairwise_align(\"aaatctctctcgggg\", \"tctctctc\", method=\"parasail\")"
   ]
  },
  {
   "cell_type": "code",
   "execution_count": null,
   "id": "b54fd988-726e-4a95-bc3e-d3178de03183",
   "metadata": {},
   "outputs": [],
   "source": [
    "res"
   ]
  },
  {
   "cell_type": "code",
   "execution_count": null,
   "id": "ebbd15fa-ce55-4e9a-b065-6c3b11df518f",
   "metadata": {},
   "outputs": [],
   "source": [
    "res = align.pairwise_align(\"aaatctctctcgggg\", \"tctctctc\", method=\"pywfa\")"
   ]
  },
  {
   "cell_type": "code",
   "execution_count": null,
   "id": "ac8be05f-b5e8-401a-8140-8a3867d4b2f3",
   "metadata": {},
   "outputs": [],
   "source": [
    "res"
   ]
  },
  {
   "cell_type": "code",
   "execution_count": null,
   "id": "8557a3e4-716b-464d-a155-55031d476258",
   "metadata": {},
   "outputs": [],
   "source": [
    "res = align.pairwise_align(\"tctctctc\", \"aaatctctctcgggg\", method=\"parasail\")"
   ]
  },
  {
   "cell_type": "code",
   "execution_count": null,
   "id": "d718b00f-d452-410a-812e-7c4612d3787a",
   "metadata": {},
   "outputs": [],
   "source": [
    "res"
   ]
  },
  {
   "cell_type": "code",
   "execution_count": null,
   "id": "a4a50122-67a3-4562-8cde-1c6be6c35248",
   "metadata": {},
   "outputs": [],
   "source": [
    "res"
   ]
  },
  {
   "cell_type": "code",
   "execution_count": null,
   "id": "d804e442-65ac-44c0-ac0d-0798eb6651a0",
   "metadata": {},
   "outputs": [],
   "source": [
    "res = align.pairwise_align(\"tctctctcgggg\", \"aaatctctctc\", method=\"pywfa\")"
   ]
  },
  {
   "cell_type": "code",
   "execution_count": null,
   "id": "8734b760-7043-4f7d-81d9-d37b7a3cfe76",
   "metadata": {},
   "outputs": [],
   "source": [
    "res = align.pairwise_align(\"aaatctctctc\", \"tctctctcgggg\", method=\"pywfa\")"
   ]
  },
  {
   "cell_type": "code",
   "execution_count": null,
   "id": "f29cd98a-dce2-4b29-8f67-d0e079131f69",
   "metadata": {},
   "outputs": [],
   "source": [
    "res = align.pairwise_align(\"aaatctctc\", \"ggtctctcgggg\", method=\"pywfa\")"
   ]
  },
  {
   "cell_type": "code",
   "execution_count": null,
   "id": "aa360114-6eba-4acc-b21d-658f9637589b",
   "metadata": {},
   "outputs": [],
   "source": [
    "res = align.pairwise_align(\"aaatctctc\", \"ggtctctcgggg\", method=\"parasail\")"
   ]
  },
  {
   "cell_type": "code",
   "execution_count": null,
   "id": "87717e4c-e37c-4d80-89b3-82a9bd7a46e8",
   "metadata": {},
   "outputs": [],
   "source": [
    "len(\"aaatctctc\")"
   ]
  },
  {
   "cell_type": "code",
   "execution_count": null,
   "id": "71f3ff91-69c6-43c4-b98f-e09890d34660",
   "metadata": {},
   "outputs": [],
   "source": [
    "len(\"aaatctctctcgggg\")"
   ]
  }
 ],
 "metadata": {
  "kernelspec": {
   "display_name": "Python 3 (ipykernel)",
   "language": "python",
   "name": "python3"
  },
  "language_info": {
   "codemirror_mode": {
    "name": "ipython",
    "version": 3
   },
   "file_extension": ".py",
   "mimetype": "text/x-python",
   "name": "python",
   "nbconvert_exporter": "python",
   "pygments_lexer": "ipython3",
   "version": "3.12.3"
  }
 },
 "nbformat": 4,
 "nbformat_minor": 5
}
