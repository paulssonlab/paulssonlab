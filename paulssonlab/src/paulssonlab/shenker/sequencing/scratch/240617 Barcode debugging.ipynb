{
 "cells": [
  {
   "cell_type": "code",
   "execution_count": null,
   "id": "41c57f7d-eb34-40e9-b810-10d4c44d68b2",
   "metadata": {},
   "outputs": [],
   "source": [
    "import itertools as it\n",
    "from collections import Counter, defaultdict\n",
    "from functools import partial\n",
    "from glob import glob\n",
    "from pathlib import Path\n",
    "\n",
    "import gfapy\n",
    "import holoviews as hv\n",
    "import hvplot.pandas\n",
    "import matplotlib.pyplot as plt\n",
    "import numpy as np\n",
    "import pandas as pd\n",
    "import polars as pl\n",
    "import pyarrow as pa\n",
    "import pyarrow.compute as pc\n",
    "import pyarrow.dataset as ds\n",
    "from tqdm.auto import tqdm, trange"
   ]
  },
  {
   "cell_type": "code",
   "execution_count": null,
   "id": "f4ec68fd-4dab-43a1-a74d-fc2137f04acb",
   "metadata": {},
   "outputs": [],
   "source": [
    "%load_ext autoreload\n",
    "%autoreload 2"
   ]
  },
  {
   "cell_type": "code",
   "execution_count": null,
   "id": "6d3d323b-2fd5-44cd-b9b0-ed41db593de3",
   "metadata": {},
   "outputs": [],
   "source": [
    "import paulssonlab.sequencing.align as align\n",
    "import paulssonlab.sequencing.cigar as scigar\n",
    "import paulssonlab.sequencing.consensus as con\n",
    "import paulssonlab.sequencing.gfa as sgfa\n",
    "import paulssonlab.sequencing.io as sio\n",
    "import paulssonlab.sequencing.processing as processing\n",
    "from paulssonlab.util.sequence import reverse_complement"
   ]
  },
  {
   "cell_type": "code",
   "execution_count": null,
   "id": "f117a156-f6f6-423f-81be-bb5eed890a23",
   "metadata": {},
   "outputs": [],
   "source": [
    "hv.extension(\"bokeh\")"
   ]
  },
  {
   "cell_type": "code",
   "execution_count": null,
   "id": "d286b864-7447-4195-8a34-2ede229b0b4c",
   "metadata": {},
   "outputs": [],
   "source": [
    "pl.enable_string_cache()"
   ]
  },
  {
   "cell_type": "markdown",
   "id": "e5c5f417-e951-4a21-a5e9-b8c4182a17e3",
   "metadata": {},
   "source": [
    "# Functions"
   ]
  },
  {
   "cell_type": "code",
   "execution_count": null,
   "id": "34ec49ac-7ef6-41d8-aed9-9182a4f5d3d5",
   "metadata": {},
   "outputs": [],
   "source": [
    "def concat_glob(filename):\n",
    "    return pl.concat([pl.scan_ipc(f) for f in glob(filename)], how=\"diagonal\")"
   ]
  },
  {
   "cell_type": "code",
   "execution_count": null,
   "id": "836fb631-e74b-4460-ad5c-3e0dc3626025",
   "metadata": {},
   "outputs": [],
   "source": [
    "def label_columns(cols, func=None):\n",
    "    expr = None\n",
    "    for col in cols:\n",
    "        if expr is None:\n",
    "            expr = pl.when(pl.col(col).is_not_null())\n",
    "        else:\n",
    "            expr = expr.when(pl.col(col).is_not_null())\n",
    "        if func is not None:\n",
    "            lit = func(col)\n",
    "        else:\n",
    "            lit = col\n",
    "        expr = expr.then(pl.lit(lit))\n",
    "    return expr"
   ]
  },
  {
   "cell_type": "markdown",
   "id": "fe4819c6-cb12-4400-a302-09c9cdabff65",
   "metadata": {},
   "source": [
    "# 240612_pLIB476_isolates"
   ]
  },
  {
   "cell_type": "code",
   "execution_count": null,
   "id": "553dea42-6af3-4cf6-8fba-83976cd5f351",
   "metadata": {},
   "outputs": [],
   "source": [
    "%%time\n",
    "arrow_filename = \"/home/jqs1/scratch/sequencing/240612_pLIB476_isolates/output/vg/prepare_reads/*.arrow\"\n",
    "df = concat_glob(arrow_filename).collect()"
   ]
  },
  {
   "cell_type": "code",
   "execution_count": null,
   "id": "fb284feb-a4ed-47d5-86bc-2a6355dd9219",
   "metadata": {},
   "outputs": [],
   "source": [
    "%%time\n",
    "df2 = df.with_columns(\n",
    "    dup=pl.col(\"name\").is_duplicated(),\n",
    "    primary_alignment=pl.col(\"name\").is_first_distinct(),\n",
    "    e2e=pl.col(\"full_path\")\n",
    "    .list.set_intersection([\"<UNS9\", \">UNS9\", \"<UNS3\", \">UNS3\"])\n",
    "    .list.len()\n",
    "    == 2,\n",
    "    bc_e2e=pl.col(\"full_path\")\n",
    "    .list.set_intersection([\"<BC:T7_prom\", \">BC:T7_prom\", \"<BC:spacer2\", \">BC:spacer2\"])\n",
    "    .list.len()\n",
    "    == 2,\n",
    ")"
   ]
  },
  {
   "cell_type": "code",
   "execution_count": null,
   "id": "862e71ae-0410-4807-8666-db57d691ca2b",
   "metadata": {},
   "outputs": [],
   "source": [
    "df3 = (\n",
    "    df2.filter(pl.col(\"bc_e2e\"), pl.col(\"primary_alignment\"))\n",
    "    .unnest(\"extract_segments\")\n",
    "    .with_columns(\n",
    "        sample=pl.col(\"name\").str.split_exact(\"_\", 2).struct[2].cast(pl.Int32)\n",
    "    )\n",
    ")"
   ]
  },
  {
   "cell_type": "code",
   "execution_count": null,
   "id": "51d61ffe-95e6-4681-aa67-e3c9571cf36e",
   "metadata": {},
   "outputs": [],
   "source": [
    "df4 = (\n",
    "    df3.group_by(\"sample\")\n",
    "    .agg(\n",
    "        *[\n",
    "            pl.col(f\"BC:bit{bit}|{type_}\").mean()\n",
    "            for bit in range(30)\n",
    "            for type_ in (\"mismatches\", \"insertions\", \"deletions\")\n",
    "        ]\n",
    "    )\n",
    "    .sort(\"sample\")\n",
    ")"
   ]
  },
  {
   "cell_type": "code",
   "execution_count": null,
   "id": "3a6f6974-43a2-4141-9dd3-b3cfc6bfe22e",
   "metadata": {},
   "outputs": [],
   "source": [
    "df4"
   ]
  },
  {
   "cell_type": "code",
   "execution_count": null,
   "id": "d16235f8-ab09-4d79-b43d-b1bb4fffa465",
   "metadata": {},
   "outputs": [],
   "source": [
    "df4.filter(pl.col(\"sample\") == 1)"
   ]
  },
  {
   "cell_type": "code",
   "execution_count": null,
   "id": "079a50be-dbcd-47a3-bf24-d3eb7ae768fb",
   "metadata": {},
   "outputs": [],
   "source": [
    "len(mismatches)"
   ]
  },
  {
   "cell_type": "code",
   "execution_count": null,
   "id": "d2c05d23-93fc-413a-8a04-f8f7d5c3fe2f",
   "metadata": {},
   "outputs": [],
   "source": [
    "bits = np.arange(30)\n",
    "for row in df4.to_dicts():\n",
    "    mismatches = [row[f\"BC:bit{bit}|mismatches\"] for bit in bits]\n",
    "    insertions = [row[f\"BC:bit{bit}|insertions\"] for bit in bits]\n",
    "    deletions = [row[f\"BC:bit{bit}|deletions\"] for bit in bits]\n",
    "    plt.figure(figsize=(10, 3))\n",
    "    plt.stackplot(\n",
    "        [-0.5, *(bits + 0.5)],\n",
    "        [*mismatches, 0],\n",
    "        [*insertions, 0],\n",
    "        [*deletions, 0],\n",
    "        labels=[\"mismatches\", \"insertions\", \"deletions\"],\n",
    "        step=\"post\",\n",
    "    )\n",
    "    plt.ylim([0, 6])\n",
    "    plt.title(f\"sample {row['sample']}\")\n",
    "    plt.xticks(bits)\n",
    "    plt.legend();"
   ]
  },
  {
   "cell_type": "code",
   "execution_count": null,
   "id": "8eededdb-9521-41cc-a520-f44715f17ab1",
   "metadata": {},
   "outputs": [],
   "source": [
    "sample = 4\n",
    "bit = 17\n",
    "bins = np.arange(10)\n",
    "bin_centers = (bins[:-1] + bins[1:]) / 2\n",
    "hists = {\n",
    "    type_: np.histogram(\n",
    "        df3.filter(pl.col(\"sample\") == sample)[f\"BC:bit{bit}|{type_}\"], bins=bins\n",
    "    )[0]\n",
    "    for type_ in (\"mismatches\", \"insertions\", \"deletions\")\n",
    "}\n",
    "plt.figure(figsize=(6, 3))\n",
    "plt.stackplot(\n",
    "    bin_centers - 1,\n",
    "    hists[\"mismatches\"],\n",
    "    hists[\"insertions\"],\n",
    "    hists[\"deletions\"],\n",
    "    labels=[\"mismatches\", \"insertions\", \"deletions\"],\n",
    "    step=\"post\",\n",
    ")\n",
    "plt.legend();"
   ]
  },
  {
   "cell_type": "code",
   "execution_count": null,
   "id": "6ecbc253-62ef-4d98-853c-1c59474d0b02",
   "metadata": {},
   "outputs": [],
   "source": [
    "%%time\n",
    "arrow_filename = \"/home/jqs1/scratch/sequencing/240612_pLIB476_isolates/output/primary_max_divergence=1/extract_segments/*.arrow\"\n",
    "df = concat_glob(arrow_filename).collect()"
   ]
  },
  {
   "cell_type": "code",
   "execution_count": null,
   "id": "f3fc81b6-f5ff-4502-b049-b3d0eeea37a9",
   "metadata": {},
   "outputs": [],
   "source": [
    "df2 = (\n",
    "    df.filter(pl.col(\"name\").is_first_distinct())\n",
    "    .with_columns(\n",
    "        barcode_str=pl.concat_str(\n",
    "            [\n",
    "                pl.when(\n",
    "                    pl.col(\"variants_path\")\n",
    "                    .list.contains(f\">BC:bit{idx}=1\")\n",
    "                    .or_(pl.col(\"variants_path\").list.contains(f\"<BC:bit{idx}=1\"))\n",
    "                )\n",
    "                .then(pl.lit(\"1\"))\n",
    "                .otherwise(pl.lit(\"0\"))\n",
    "                for idx in range(30)\n",
    "            ]\n",
    "        )\n",
    "    )\n",
    "    .sort(\"barcode_str\")\n",
    "    .to_pandas()\n",
    ")"
   ]
  },
  {
   "cell_type": "code",
   "execution_count": null,
   "id": "ce8a5dad-b993-4062-829f-e27acb38cf15",
   "metadata": {},
   "outputs": [],
   "source": [
    "df2[[\"barcode_str\", \"name\", \"grouping_depth\"]]"
   ]
  },
  {
   "cell_type": "code",
   "execution_count": null,
   "id": "ea0cbf89-eec5-44ac-835d-3a8972483fe8",
   "metadata": {},
   "outputs": [],
   "source": [
    "df2[[\"barcode_str\", \"name\", \"grouping_depth\"]]"
   ]
  },
  {
   "cell_type": "code",
   "execution_count": null,
   "id": "e475a137-043d-4256-ab9a-416bd78654e4",
   "metadata": {},
   "outputs": [],
   "source": [
    "df2.iloc[-1].loc[\"variants_path\"]"
   ]
  },
  {
   "cell_type": "code",
   "execution_count": null,
   "id": "775edca4-5a6b-4326-8ddb-ab73d4857525",
   "metadata": {},
   "outputs": [],
   "source": [
    "df2.iloc[-2].loc[\"variants_path\"]"
   ]
  },
  {
   "cell_type": "code",
   "execution_count": null,
   "id": "b71d85a1-ac80-4a82-88bd-762dfc2fbcea",
   "metadata": {},
   "outputs": [],
   "source": [
    "%%time\n",
    "arrow_filename = \"/home/jqs1/scratch/sequencing/240612_pLIB476_isolates/output/primary_max_divergence=1/prepare_consensus/*.arrow\"\n",
    "df = concat_glob(arrow_filename).collect()"
   ]
  },
  {
   "cell_type": "code",
   "execution_count": null,
   "id": "a1140062-90a0-4a0d-a768-b508084a1d38",
   "metadata": {},
   "outputs": [],
   "source": [
    "df2 = processing.compute_divergences(\n",
    "    df, processing.unique_segments(df, \"path\"), struct_name=\"extract_segments\"\n",
    ")\n",
    "df2 = df2.with_columns(\n",
    "    sample=pl.col(\"name\").str.split_exact(\"_\", 2).struct[2].cast(pl.Int32)\n",
    ")"
   ]
  },
  {
   "cell_type": "code",
   "execution_count": null,
   "id": "1b67142c-9697-4118-b933-8ad84eb29f3e",
   "metadata": {},
   "outputs": [],
   "source": [
    "df2.filter(pl.col(\"sample\") == 11).sort(\"max_divergence\")"
   ]
  },
  {
   "cell_type": "code",
   "execution_count": null,
   "id": "f66855cc-40bb-406b-b567-0e2075a24215",
   "metadata": {},
   "outputs": [],
   "source": [
    "plt.hist(df2.filter(pl.col(\"sample\") == 11)[\"max_divergence\"], bins=100);"
   ]
  },
  {
   "cell_type": "code",
   "execution_count": null,
   "id": "2a1dd62a-5451-4cf7-a250-40fe56120e2b",
   "metadata": {},
   "outputs": [],
   "source": [
    "df.head(100)"
   ]
  },
  {
   "cell_type": "markdown",
   "id": "14527036-1844-4f82-8ebc-c60a73a85425",
   "metadata": {},
   "source": [
    "# 240610_pLIB476"
   ]
  },
  {
   "cell_type": "code",
   "execution_count": null,
   "id": "3a635a78-3af1-4019-955a-85756314fc85",
   "metadata": {},
   "outputs": [],
   "source": [
    "%%time\n",
    "arrow_filename = \"/home/jqs1/scratch/sequencing/240610_pLIB476_bottleneck/pLIB476_bottleneck/pLIB476/20240607_1433_MN35044_FAX60316_7d690112/output/default/extract_segments/*.arrow\"\n",
    "df = concat_glob(arrow_filename).collect()"
   ]
  },
  {
   "cell_type": "code",
   "execution_count": null,
   "id": "3e65342d-028f-46a3-99b1-ae0fb0cd6c5b",
   "metadata": {},
   "outputs": [],
   "source": [
    "len(df.filter(pl.col(\"grouping_depth\") >= 10))"
   ]
  },
  {
   "cell_type": "code",
   "execution_count": null,
   "id": "019d30cd-a4fc-4602-bf14-9065f1d5a71e",
   "metadata": {},
   "outputs": [],
   "source": [
    "df[0, \"variants_path\"].to_list()"
   ]
  },
  {
   "cell_type": "code",
   "execution_count": null,
   "id": "8a8fb3e7-1b4c-4324-9a20-dd41d00e132c",
   "metadata": {},
   "outputs": [],
   "source": [
    "%%time\n",
    "df2 = df.with_columns(\n",
    "    dup=pl.col(\"name\").is_duplicated(),\n",
    "    primary_alignment=pl.col(\"name\").is_first_distinct(),\n",
    "    e2e=pl.col(\"variants_path\")\n",
    "    .list.set_intersection([\"<UNS9\", \">UNS9\", \"<UNS3\", \">UNS3\"])\n",
    "    .list.len()\n",
    "    == 2,\n",
    "    bc_e2e=pl.col(\"variants_path\")\n",
    "    .list.set_intersection([\"<BC:T7_prom\", \">BC:T7_prom\", \"<BC:spacer2\", \">BC:spacer2\"])\n",
    "    .list.len()\n",
    "    == 2,\n",
    ")"
   ]
  },
  {
   "cell_type": "code",
   "execution_count": null,
   "id": "8dad973c-43d9-4615-9c4a-316e22ef426e",
   "metadata": {},
   "outputs": [],
   "source": [
    "df2.filter(pl.col(\"primary_alignment\"))[\"SD2_variant|seq\"].value_counts(\n",
    "    sort=True\n",
    ").to_pandas().hvplot.step(\n",
    "    logy=True,\n",
    ")"
   ]
  },
  {
   "cell_type": "code",
   "execution_count": null,
   "id": "acd876ec-f00a-44e9-9c51-2727448eee92",
   "metadata": {},
   "outputs": [],
   "source": [
    "df2.filter(pl.col(\"primary_alignment\"), pl.col(\"e2e\"))[\"SD2_variant|seq\"].value_counts(\n",
    "    sort=True\n",
    ").filter(pl.col(\"count\") >= 3)[\"count\"].len()"
   ]
  },
  {
   "cell_type": "code",
   "execution_count": null,
   "id": "5f3a8b6b-6c75-4d2d-a711-20adb70dc870",
   "metadata": {},
   "outputs": [],
   "source": [
    "df2.filter(pl.col(\"primary_alignment\"))[\"SD2_variant|seq\"].value_counts(\n",
    "    sort=True\n",
    ").filter(pl.col(\"count\") > 1).to_pandas().plot(drawstyle=\"steps\", logy=True)"
   ]
  },
  {
   "cell_type": "code",
   "execution_count": null,
   "id": "720433ae-95f9-4580-b56c-46222e52110e",
   "metadata": {},
   "outputs": [],
   "source": [
    "df2[\"promoter|variant\"]"
   ]
  },
  {
   "cell_type": "code",
   "execution_count": null,
   "id": "b7f65f7b-59c6-4970-ac72-1acaf9bfe16b",
   "metadata": {},
   "outputs": [],
   "source": [
    "df2.filter(pl.col(\"e2e\"), pl.col(\"primary_alignment\")).select(\n",
    "    pl.struct([\"promoter|variant\", \"SD2_variant|seq\"])\n",
    ")[\"promoter|variant\"].value_counts(sort=True).filter(pl.col(\"count\") > 1)"
   ]
  },
  {
   "cell_type": "code",
   "execution_count": null,
   "id": "ed84dd50-723f-4459-8d31-41d79820c008",
   "metadata": {},
   "outputs": [],
   "source": [
    "df2.filter(pl.col(\"e2e\"), pl.col(\"primary_alignment\")).group_by(\"promoter|variant\").agg(\n",
    "    pl.len()\n",
    ")"
   ]
  },
  {
   "cell_type": "code",
   "execution_count": null,
   "id": "6b38e6e2-8529-4997-b14a-171d178d695f",
   "metadata": {},
   "outputs": [],
   "source": [
    "df2.filter(pl.col(\"primary_alignment\"), pl.col(\"promoter|variant\") == \"J23100\")[\n",
    "    \"SD2_variant|seq\"\n",
    "].value_counts(sort=True).filter(pl.col(\"count\") > 1).to_pandas().plot(\n",
    "    drawstyle=\"steps\", logy=True\n",
    ")"
   ]
  },
  {
   "cell_type": "code",
   "execution_count": null,
   "id": "a8bbd843-8116-43ab-b5aa-ff605f6d0f63",
   "metadata": {},
   "outputs": [],
   "source": [
    "%%time\n",
    "df_variants = df2.filter(pl.col(\"e2e\"), pl.col(\"primary_alignment\")).with_columns(\n",
    "    pl.coalesce(\n",
    "        label_columns(\n",
    "            [\n",
    "                \"pLIB433:PhlF_pPhlF|seq\",\n",
    "                \"pLIB434:LacI_pTac|seq\",\n",
    "                \"pLIB435:BetI_pBetI|seq\",\n",
    "            ],\n",
    "            lambda x: x.split(\"|\")[0],\n",
    "        ),\n",
    "        pl.concat_str(pl.lit(\"pLIB431-432:RBS=\"), pl.col(\"pLIB431-432:RBS|variant\")),\n",
    "    ).alias(\"RBS\")\n",
    ")"
   ]
  },
  {
   "cell_type": "code",
   "execution_count": null,
   "id": "3a7d0380-915b-4c55-b28d-48d97bc2051e",
   "metadata": {},
   "outputs": [],
   "source": [
    "len(\n",
    "    df2.filter(\n",
    "        pl.col(\"primary_alignment\"), pl.col(\"e2e\"), pl.col(\"consensus_depth\") >= 10\n",
    "    )\n",
    ")"
   ]
  },
  {
   "cell_type": "code",
   "execution_count": null,
   "id": "a41f173c-ea94-4b89-b267-a3105546599a",
   "metadata": {},
   "outputs": [],
   "source": [
    "len(\n",
    "    df2.filter(\n",
    "        pl.col(\"primary_alignment\"), pl.col(\"e2e\"), pl.col(\"consensus_depth\") >= 5\n",
    "    )\n",
    ")"
   ]
  },
  {
   "cell_type": "code",
   "execution_count": null,
   "id": "9728e977-6994-441f-ab29-eb954b0d9428",
   "metadata": {},
   "outputs": [],
   "source": [
    "len(\n",
    "    df2.filter(\n",
    "        pl.col(\"primary_alignment\"), pl.col(\"e2e\"), pl.col(\"consensus_depth\") >= 3\n",
    "    )\n",
    ")"
   ]
  },
  {
   "cell_type": "code",
   "execution_count": null,
   "id": "fe75af6b-616b-4433-806a-72502f26e514",
   "metadata": {},
   "outputs": [],
   "source": [
    "df3[\"grouping_depth\"].sum()"
   ]
  },
  {
   "cell_type": "code",
   "execution_count": null,
   "id": "ae72d0b0-ce30-4348-a6f7-880d9819b4b5",
   "metadata": {},
   "outputs": [],
   "source": [
    "df3 = df2.filter(pl.col(\"primary_alignment\"), pl.col(\"e2e\"))"
   ]
  },
  {
   "cell_type": "code",
   "execution_count": null,
   "id": "62b1985f-5514-4e51-9f47-7dbcdb532c4a",
   "metadata": {},
   "outputs": [],
   "source": [
    "df2.group_by(\"primary_alignment\").agg(pl.len()).with_columns(\n",
    "    frac=pl.col(\"len\") / pl.col(\"len\").sum()\n",
    ")"
   ]
  },
  {
   "cell_type": "code",
   "execution_count": null,
   "id": "5e210db7-ae87-4a1a-95ca-f8704a5a87f5",
   "metadata": {},
   "outputs": [],
   "source": [
    "df2.filter(pl.col(\"primary_alignment\"), pl.col(\"e2e\")).select(\n",
    "    pl.col(\"consensus_seq\").str.len_bytes()\n",
    ").max()"
   ]
  },
  {
   "cell_type": "code",
   "execution_count": null,
   "id": "cec12877-8db6-4e32-ac59-f118582a7972",
   "metadata": {},
   "outputs": [],
   "source": [
    "df2.filter(\"primary_alignment\").group_by(\"dup\").agg(pl.len()).with_columns(\n",
    "    frac=pl.col(\"len\") / pl.col(\"len\").sum()\n",
    ")"
   ]
  },
  {
   "cell_type": "code",
   "execution_count": null,
   "id": "f7e23282-d6d0-46ce-b20f-ad74bfbf8265",
   "metadata": {},
   "outputs": [],
   "source": [
    "df2.filter(\"primary_alignment\").group_by(\"e2e\").agg(pl.len()).with_columns(\n",
    "    frac=pl.col(\"len\") / pl.col(\"len\").sum()\n",
    ")"
   ]
  },
  {
   "cell_type": "code",
   "execution_count": null,
   "id": "40126978-1775-4acf-b89b-29bd8c64d20c",
   "metadata": {},
   "outputs": [],
   "source": [
    "df2.filter(\"primary_alignment\").group_by(\"bc_e2e\").agg(pl.len()).with_columns(\n",
    "    frac=pl.col(\"len\") / pl.col(\"len\").sum()\n",
    ")"
   ]
  },
  {
   "cell_type": "code",
   "execution_count": null,
   "id": "6d6dea35-f8ff-4be4-aabb-32fd8b00c44e",
   "metadata": {},
   "outputs": [],
   "source": [
    "plt.hist(\n",
    "    df.select(pl.col(\"consensus_seq\").str.len_bytes())[\"consensus_seq\"],\n",
    "    bins=100,\n",
    "    log=True,\n",
    ");"
   ]
  },
  {
   "cell_type": "code",
   "execution_count": null,
   "id": "686d4e41-e2cb-45d8-8971-4438982070d2",
   "metadata": {},
   "outputs": [],
   "source": [
    "plt.hist(df[\"grouping_depth\"], bins=100, log=True);"
   ]
  },
  {
   "cell_type": "code",
   "execution_count": null,
   "id": "7fc5eb75-139b-496e-bcae-25131ba38c45",
   "metadata": {},
   "outputs": [],
   "source": [
    "plt.hist(df[\"consensus_depth\"], bins=100, log=True);"
   ]
  },
  {
   "cell_type": "markdown",
   "id": "18a5cb7b-e66f-4d16-9753-bc1c456256a8",
   "metadata": {},
   "source": [
    "## Export to Eaton format"
   ]
  },
  {
   "cell_type": "code",
   "execution_count": null,
   "id": "4aba2520-6f23-4fb1-8788-47c49ce400a8",
   "metadata": {},
   "outputs": [],
   "source": [
    "df2.head(10).with_columns(\n",
    "    barcode=pl.concat_str(\n",
    "        [\n",
    "            pl.when(\n",
    "                pl.col(\"variants_path\")\n",
    "                .list.contains(f\">BC:bit{idx}=1\")\n",
    "                .or_(pl.col(\"variants_path\").list.contains(f\"<BC:bit{idx}=1\"))\n",
    "            )\n",
    "            .then(pl.lit(\"1\"))\n",
    "            .otherwise(pl.lit(\"0\"))\n",
    "            for idx in range(30)\n",
    "        ]\n",
    "    )\n",
    ")"
   ]
  },
  {
   "cell_type": "code",
   "execution_count": null,
   "id": "dde1fcff-7663-4693-82aa-030da4356d5a",
   "metadata": {},
   "outputs": [],
   "source": [
    "df2.columns"
   ]
  },
  {
   "cell_type": "code",
   "execution_count": null,
   "id": "eab8a70d-7d99-4243-b0de-5bb923857a2c",
   "metadata": {},
   "outputs": [],
   "source": [
    "df2."
   ]
  },
  {
   "cell_type": "code",
   "execution_count": null,
   "id": "80216d8b-7396-4ffa-918c-8619e018dfa4",
   "metadata": {},
   "outputs": [],
   "source": [
    "%%time\n",
    "df_eaton = (\n",
    "    df2.filter(\n",
    "        pl.col(\"primary_alignment\"), pl.col(\"e2e\"), pl.col(\"consensus_depth\") >= 5\n",
    "    )\n",
    "    .with_columns(\n",
    "        barcode=pl.concat_str(\n",
    "            [\n",
    "                pl.when(\n",
    "                    pl.col(\"variants_path\")\n",
    "                    .list.contains(f\">BC:bit{idx}=1\")\n",
    "                    .or_(pl.col(\"variants_path\").list.contains(f\"<BC:bit{idx}=1\"))\n",
    "                )\n",
    "                .then(pl.lit(\"1\"))\n",
    "                .otherwise(pl.lit(\"0\"))\n",
    "                for idx in range(30)\n",
    "            ]\n",
    "        ),\n",
    "        reference=pl.lit(\"\"),\n",
    "        alignmentstart=1,\n",
    "        cigar=pl.lit(\"\"),\n",
    "        subsample=pl.lit(\"\"),\n",
    "    )\n",
    "    .rename({\"consensus_seq\": \"consensus\"})\n",
    "    .select(\n",
    "        \"barcode\",\n",
    "        \"consensus\",\n",
    "        \"reference\",\n",
    "        \"alignmentstart\",\n",
    "        \"cigar\",\n",
    "        \"subsample\",\n",
    "    )\n",
    "    .sort(\"barcode\")\n",
    "    .with_row_index(name=\"barcodeid\")\n",
    "    .with_row_index(name=\"\")\n",
    ")"
   ]
  },
  {
   "cell_type": "code",
   "execution_count": null,
   "id": "75b9561a-bb26-448d-80b5-9b5535915c65",
   "metadata": {},
   "outputs": [],
   "source": [
    "df_eaton"
   ]
  },
  {
   "cell_type": "code",
   "execution_count": null,
   "id": "676aad26-3db2-49e8-b61f-ba9320e0e9b1",
   "metadata": {},
   "outputs": [],
   "source": [
    "df_eaton.write_csv(\"240610_pLIB476_eaton_export.tsv\", separator=\"\\t\")"
   ]
  },
  {
   "cell_type": "code",
   "execution_count": null,
   "id": "02000af3-e545-42cd-b715-4cd74358d9e4",
   "metadata": {},
   "outputs": [],
   "source": [
    "!pwd"
   ]
  },
  {
   "cell_type": "code",
   "execution_count": null,
   "id": "c0ab019a-f4df-45cc-93eb-c6639971728b",
   "metadata": {},
   "outputs": [],
   "source": [
    "df2[0, \"variants_path\"].to_list()"
   ]
  },
  {
   "cell_type": "code",
   "execution_count": null,
   "id": "a7b2155b-171c-4960-ae6a-ef65405d93e0",
   "metadata": {},
   "outputs": [],
   "source": [
    "df2[\"BC:bit28|variant\"].is_not_null().sum()"
   ]
  },
  {
   "cell_type": "markdown",
   "id": "bd0dbb0b-7146-4cc9-97b0-99c3bc724fb0",
   "metadata": {},
   "source": [
    "# 240610_pLIB476 vs. 240510_pLIB473-476"
   ]
  },
  {
   "cell_type": "code",
   "execution_count": null,
   "id": "856a0c10-8510-4d17-9e77-3474f3453eab",
   "metadata": {},
   "outputs": [],
   "source": [
    "# arrow_filename = \"/home/jqs1/scratch/sequencing/240610_pLIB476_bottleneck/pLIB476_bottleneck/pLIB476/20240607_1433_MN35044_FAX60316_7d690112/\"\n",
    "arrow_filename = \"/home/jqs1/scratch/sequencing/240513_pLIB473_476/20240513_1645_2C_PAW46239_b49d575f/prepare_reads.all_segments/*.arrow\"\n",
    "df = concat_glob(arrow_filename)  # .collect()"
   ]
  },
  {
   "cell_type": "code",
   "execution_count": null,
   "id": "a478cec8-a305-4209-b675-5bfcfd396bfc",
   "metadata": {},
   "outputs": [],
   "source": [
    "gfa_filename = \"/home/jqs1/scratch/sequencing/240610_pLIB476_bottleneck/pLIB476_bottleneck/pLIB476/20240607_1433_MN35044_FAX60316_7d690112/references/pLIB476jqs.gfa\"\n",
    "gfa = gfapy.Gfa.from_file(gfa_filename)"
   ]
  },
  {
   "cell_type": "code",
   "execution_count": null,
   "id": "b3f55169-f1d2-496f-8c32-5290731986cd",
   "metadata": {},
   "outputs": [],
   "source": [
    "df.schema"
   ]
  },
  {
   "cell_type": "code",
   "execution_count": null,
   "id": "4639c3b9-d6cc-40de-a688-bf11f866f82c",
   "metadata": {},
   "outputs": [],
   "source": [
    "gfa.segment_names"
   ]
  },
  {
   "cell_type": "code",
   "execution_count": null,
   "id": "3ea1c564-510e-49f0-84fb-6259f25fe538",
   "metadata": {},
   "outputs": [],
   "source": [
    "df2 = df.filter(pl.col(\"end_to_end\")).head(100).collect()"
   ]
  },
  {
   "cell_type": "code",
   "execution_count": null,
   "id": "6609dd3e-d1fb-412d-bf97-1894396f1439",
   "metadata": {},
   "outputs": [],
   "source": [
    "df2.with_columns(\n",
    "    barcode=pl.concat_list(\n",
    "        [\n",
    "            pl.col(\"extract_segments\").struct.field(f\"BC:bit{idx}|variant\")\n",
    "            for idx in range(30)\n",
    "        ]\n",
    "    )\n",
    ")[\"barcode\"]"
   ]
  },
  {
   "cell_type": "code",
   "execution_count": null,
   "id": "0a5e2b53-fe03-4489-bb13-bd4aa26c96ac",
   "metadata": {},
   "outputs": [],
   "source": [
    "df3[22, \"full_path\"].to_list()"
   ]
  },
  {
   "cell_type": "code",
   "execution_count": null,
   "id": "dd86e531-5089-43fc-9b86-89e23953502f",
   "metadata": {},
   "outputs": [],
   "source": [
    "df.schema[\"extract_segments\"].fields"
   ]
  },
  {
   "cell_type": "code",
   "execution_count": null,
   "id": "f2a98ca8-f41a-4485-a31e-cd35d22b92b5",
   "metadata": {},
   "outputs": [],
   "source": [
    "# TODO: use exclude after release including https://github.com/pola-rs/polars/issues/16661\n",
    "seg_col = pl.col(\"extract_columns\").struct.field\n",
    "df2 = (\n",
    "    df.head(10)\n",
    "    .with_columns(\n",
    "        divergence=pl.sum_horizontal(\n",
    "            seg_col(r\"\\|(mismatches|insertions|deletions)\").exclude(\n",
    "                r\"upstream\\|(mismatches|insertions|deletions)\",\n",
    "                r\"downstream\\|(mismatches|insertions|deletions)\",\n",
    "            )\n",
    "        )\n",
    "    )\n",
    "    .collect()\n",
    ")"
   ]
  },
  {
   "cell_type": "code",
   "execution_count": null,
   "id": "744885ad-ffca-477f-821a-1e0b65b7f60f",
   "metadata": {},
   "outputs": [],
   "source": [
    "seg_col = pl.col(\"extract_columns\").struct.field\n",
    "df2 = (\n",
    "    df.head(10)\n",
    "    .with_columns(\n",
    "        divergence=pl.sum_horizontal(\n",
    "            [\n",
    "                seg_col(f\"{s[1:]}|{type_}\").fill_null(strategy=\"zero\")\n",
    "                for type_ in (\"matches\", \"mismatches\", \"insertions\", \"deletions\")\n",
    "                for s in forward_segments\n",
    "            ]\n",
    "        )\n",
    "    )\n",
    "    .collect()\n",
    ")"
   ]
  },
  {
   "cell_type": "code",
   "execution_count": null,
   "id": "12eddf4c-244b-462f-905a-2b4abaf36776",
   "metadata": {},
   "outputs": [],
   "source": [
    "df2[\"divergence\"]"
   ]
  },
  {
   "cell_type": "code",
   "execution_count": null,
   "id": "f452a508-a985-424f-a1ba-f59bae97657c",
   "metadata": {},
   "outputs": [],
   "source": [
    "df2 = df.filter(pl.col(\"end_to_end\")).with_columns(\n",
    "    barcode=pl.concat_list(\n",
    "        [\n",
    "            pl.col(\"extract_segments\").struct.field(f\"BC:bit{idx}|variant\")\n",
    "            for idx in range(30)\n",
    "        ]\n",
    "    )\n",
    ")"
   ]
  },
  {
   "cell_type": "code",
   "execution_count": null,
   "id": "c4f498f4-7881-4760-ab8a-497838ac3da9",
   "metadata": {},
   "outputs": [],
   "source": [
    "df3 = df2.head(100).collect()"
   ]
  },
  {
   "cell_type": "code",
   "execution_count": null,
   "id": "c2c4fd3c-13fc-4e1a-b7e4-b71e9f82ed5d",
   "metadata": {},
   "outputs": [],
   "source": [
    "%%time\n",
    "df4 = df2.filter(pl.col(\"barcode\") == df3[22, \"barcode\"].to_list()).collect()"
   ]
  },
  {
   "cell_type": "code",
   "execution_count": null,
   "id": "76c14186-81ad-442a-8045-4dd2c7553c7d",
   "metadata": {},
   "outputs": [],
   "source": [
    "df4"
   ]
  }
 ],
 "metadata": {
  "kernelspec": {
   "display_name": "Python 3 (ipykernel)",
   "language": "python",
   "name": "python3"
  },
  "language_info": {
   "codemirror_mode": {
    "name": "ipython",
    "version": 3
   },
   "file_extension": ".py",
   "mimetype": "text/x-python",
   "name": "python",
   "nbconvert_exporter": "python",
   "pygments_lexer": "ipython3",
   "version": "3.12.3"
  }
 },
 "nbformat": 4,
 "nbformat_minor": 5
}
