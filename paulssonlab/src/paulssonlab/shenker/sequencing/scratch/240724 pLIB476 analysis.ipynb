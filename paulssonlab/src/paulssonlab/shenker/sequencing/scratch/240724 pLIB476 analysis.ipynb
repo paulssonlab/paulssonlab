{
 "cells": [
  {
   "cell_type": "code",
   "execution_count": null,
   "id": "41c57f7d-eb34-40e9-b810-10d4c44d68b2",
   "metadata": {},
   "outputs": [],
   "source": [
    "import itertools as it\n",
    "from collections import Counter, defaultdict\n",
    "from functools import partial\n",
    "from glob import glob\n",
    "from pathlib import Path\n",
    "\n",
    "import gfapy\n",
    "import holoviews as hv\n",
    "import hvplot.pandas\n",
    "import matplotlib.pyplot as plt\n",
    "import numpy as np\n",
    "import pandas as pd\n",
    "import polars as pl\n",
    "import pyarrow as pa\n",
    "import pyarrow.compute as pc\n",
    "import pyarrow.dataset as ds\n",
    "from tqdm.auto import tqdm, trange"
   ]
  },
  {
   "cell_type": "code",
   "execution_count": null,
   "id": "f4ec68fd-4dab-43a1-a74d-fc2137f04acb",
   "metadata": {},
   "outputs": [],
   "source": [
    "%load_ext autoreload\n",
    "%autoreload 2"
   ]
  },
  {
   "cell_type": "code",
   "execution_count": null,
   "id": "6d3d323b-2fd5-44cd-b9b0-ed41db593de3",
   "metadata": {},
   "outputs": [],
   "source": [
    "import paulssonlab.sequencing.align as align\n",
    "import paulssonlab.sequencing.cigar as scigar\n",
    "import paulssonlab.sequencing.consensus as con\n",
    "import paulssonlab.sequencing.gfa as sgfa\n",
    "import paulssonlab.sequencing.io as sio\n",
    "import paulssonlab.sequencing.processing as processing\n",
    "from paulssonlab.util.sequence import reverse_complement"
   ]
  },
  {
   "cell_type": "code",
   "execution_count": null,
   "id": "f117a156-f6f6-423f-81be-bb5eed890a23",
   "metadata": {},
   "outputs": [],
   "source": [
    "hv.extension(\"bokeh\")"
   ]
  },
  {
   "cell_type": "code",
   "execution_count": null,
   "id": "d286b864-7447-4195-8a34-2ede229b0b4c",
   "metadata": {},
   "outputs": [],
   "source": [
    "pl.enable_string_cache()"
   ]
  },
  {
   "cell_type": "markdown",
   "id": "e5c5f417-e951-4a21-a5e9-b8c4182a17e3",
   "metadata": {},
   "source": [
    "# Functions"
   ]
  },
  {
   "cell_type": "code",
   "execution_count": null,
   "id": "34ec49ac-7ef6-41d8-aed9-9182a4f5d3d5",
   "metadata": {},
   "outputs": [],
   "source": [
    "def concat_glob(filename):\n",
    "    return pl.concat([pl.scan_ipc(f) for f in glob(filename)], how=\"diagonal\")"
   ]
  },
  {
   "cell_type": "code",
   "execution_count": null,
   "id": "836fb631-e74b-4460-ad5c-3e0dc3626025",
   "metadata": {},
   "outputs": [],
   "source": [
    "def label_columns(cols, func=None):\n",
    "    expr = None\n",
    "    for col in cols:\n",
    "        if expr is None:\n",
    "            expr = pl.when(pl.col(col).is_not_null())\n",
    "        else:\n",
    "            expr = expr.when(pl.col(col).is_not_null())\n",
    "        if func is not None:\n",
    "            lit = func(col)\n",
    "        else:\n",
    "            lit = col\n",
    "        expr = expr.then(pl.lit(lit))\n",
    "    return expr"
   ]
  },
  {
   "cell_type": "code",
   "execution_count": null,
   "id": "8a522183-c80d-4ea6-8144-e3675432ca6d",
   "metadata": {},
   "outputs": [],
   "source": [
    "def load_sequencing(filename, filter=True):\n",
    "    df = concat_glob(filename)\n",
    "    df = df.with_columns(\n",
    "        dup=pl.col(\"name\").is_duplicated(),\n",
    "        primary_alignment=pl.col(\"name\").is_first_distinct(),\n",
    "        e2e=pl.col(\"variants_path\")\n",
    "        .list.set_intersection([\"<UNS9\", \">UNS9\", \"<UNS3\", \">UNS3\"])\n",
    "        .list.len()\n",
    "        == 2,\n",
    "        bc_e2e=pl.col(\"variants_path\")\n",
    "        .list.set_intersection(\n",
    "            [\"<BC:T7_prom\", \">BC:T7_prom\", \"<BC:spacer2\", \">BC:spacer2\"]\n",
    "        )\n",
    "        .list.len()\n",
    "        == 2,\n",
    "    )\n",
    "    if filter:\n",
    "        df = df.filter(pl.col(\"primary_alignment\"), pl.col(\"e2e\"))\n",
    "    df = processing.compute_divergences(df, [f\"BC:bit{idx}\" for idx in range(30)])\n",
    "    return df"
   ]
  },
  {
   "cell_type": "code",
   "execution_count": null,
   "id": "e737e6ca-b650-4b59-9d2a-22b389de6a7b",
   "metadata": {},
   "outputs": [],
   "source": [
    "def path_to_barcode_string(path_col, bits=list(range(30))):\n",
    "    if isinstance(path_col, str):\n",
    "        path_col = pl.col(path_col)\n",
    "    return pl.concat_str(\n",
    "        [\n",
    "            pl.when(\n",
    "                path_col.list.contains(f\">BC:bit{bit}=1\").or_(\n",
    "                    path_col.list.contains(f\"<BC:bit{bit}=1\")\n",
    "                )\n",
    "            )\n",
    "            .then(pl.lit(\"1\"))\n",
    "            .otherwise(pl.lit(\"0\"))\n",
    "            for bit in bits\n",
    "        ]\n",
    "    )"
   ]
  },
  {
   "cell_type": "markdown",
   "id": "a0c3a994-0d69-42e4-9f95-a93a0d00ebb7",
   "metadata": {},
   "source": [
    "# 240703_pLIB476_bottlenecked"
   ]
  },
  {
   "cell_type": "code",
   "execution_count": null,
   "id": "8c777266-dd63-4c38-a5ee-77685c98cda8",
   "metadata": {},
   "outputs": [],
   "source": [
    "%%time\n",
    "df = load_sequencing(\n",
    "    \"/home/jqs1/scratch/sequencing/240703_pLIB476_bottlenecked/output/max_divergence=0.3/extract_segments/*.arrow\"\n",
    ").collect()"
   ]
  },
  {
   "cell_type": "code",
   "execution_count": null,
   "id": "d64f4fdf-fa16-4f58-8866-2fc1b014f16d",
   "metadata": {},
   "outputs": [],
   "source": [
    "gfa = gfapy.Gfa.from_file(\n",
    "    \"/home/jqs1/scratch/sequencing/240703_pLIB476_bottlenecked/references/pLIB476jqs.gfa\"\n",
    ")"
   ]
  },
  {
   "cell_type": "code",
   "execution_count": null,
   "id": "ed37910d-5383-401a-a0ed-82089c1e63f6",
   "metadata": {},
   "outputs": [],
   "source": [
    "df = processing.compute_divergences(\n",
    "    df, set([s.split(\"=\")[0] for s in gfa.segment_names])\n",
    ")"
   ]
  },
  {
   "cell_type": "code",
   "execution_count": null,
   "id": "7b67570f-c49f-4452-9f2b-e4e29b02756e",
   "metadata": {},
   "outputs": [],
   "source": [
    "df[\"max_divergence\"].value_counts().sort(\"max_divergence\")"
   ]
  },
  {
   "cell_type": "code",
   "execution_count": null,
   "id": "6472d271-0be1-46d1-a1c2-7e8fff4e8eee",
   "metadata": {},
   "outputs": [],
   "source": [
    "plt.hist(df4[\"max_divergence\"], bins=100);"
   ]
  },
  {
   "cell_type": "code",
   "execution_count": null,
   "id": "a578cab2-b6b6-4488-9e36-6ce3c3adfa48",
   "metadata": {},
   "outputs": [],
   "source": [
    "df3.filter(pl.col(\"grouping_depth\") < 10)"
   ]
  },
  {
   "cell_type": "code",
   "execution_count": null,
   "id": "de5e80ff-35f9-412d-b204-d804fdb7d648",
   "metadata": {},
   "outputs": [],
   "source": [
    "df3.sort(\"grouping_depth\").select(\n",
    "    pl.col(\"grouping_depth\"),\n",
    "    frac_barcodes=pl.int_range(1, pl.len() + 1, dtype=pl.UInt32) / pl.len(),\n",
    "    frac_reads=pl.col(\"grouping_depth\").cum_sum() / pl.col(\"grouping_depth\").sum(),\n",
    ").to_pandas().hvplot.step(\"grouping_depth\", logx=True, logy=False, where=\"pre\")"
   ]
  },
  {
   "cell_type": "code",
   "execution_count": null,
   "id": "187e0a06-382c-4503-a4cb-0d9b4bf0b642",
   "metadata": {},
   "outputs": [],
   "source": [
    "df4.filter(pl.col(\"max_divergence\") > 0.05).sort(\"grouping_depth\").select(\n",
    "    pl.col(\"grouping_depth\"),\n",
    "    frac_barcodes=pl.int_range(1, pl.len() + 1, dtype=pl.UInt32) / pl.len(),\n",
    "    frac_reads=pl.col(\"grouping_depth\").cum_sum() / pl.col(\"grouping_depth\").sum(),\n",
    ").to_pandas().hvplot.step(\"grouping_depth\", logx=True, logy=False, where=\"pre\")"
   ]
  },
  {
   "cell_type": "code",
   "execution_count": null,
   "id": "c0f8fc35-1c7e-42b9-bcaa-e6044ce98c61",
   "metadata": {},
   "outputs": [],
   "source": [
    "%%time\n",
    "df3.select(processing.categorical_list_hash(pl.col(\"grouping_path\")).unique())"
   ]
  },
  {
   "cell_type": "code",
   "execution_count": null,
   "id": "2cf8bd8a-75d6-42a8-b1de-5bc46f286c43",
   "metadata": {},
   "outputs": [],
   "source": [
    "df3[\"grouping_depth\"].value_counts().sort(\"grouping_depth\").with_columns(\n",
    "    cum=pl.col(\"count\").cum_sum(reverse=True)\n",
    ").to_pandas().hvplot.step(\"grouping_depth\", \"cum\", logy=True)"
   ]
  },
  {
   "cell_type": "code",
   "execution_count": null,
   "id": "776c1494-a9e7-4b64-a93a-90e203c2231b",
   "metadata": {},
   "outputs": [],
   "source": [
    "plt.hist(df3[\"grouping_depth\"], bins=1000, log=True);"
   ]
  },
  {
   "cell_type": "markdown",
   "id": "14990c0a-19e3-4f08-9b0f-13ee9ba8014e",
   "metadata": {},
   "source": [
    "## Burden"
   ]
  },
  {
   "cell_type": "code",
   "execution_count": null,
   "id": "8c28ed08-36cb-41d3-ad1a-4b3832912cc4",
   "metadata": {},
   "outputs": [],
   "source": [
    "df[\"SD2_variant|seq\"].value_counts(sort=True).with_columns(\n",
    "    frac=pl.col(\"count\") / pl.col(\"count\").sum(),\n",
    ").to_pandas()[\"count\"].hvplot.step(logy=True)"
   ]
  },
  {
   "cell_type": "code",
   "execution_count": null,
   "id": "313aff6a-7084-494f-ab17-4c2ce6d462b5",
   "metadata": {},
   "outputs": [],
   "source": [
    "df.filter(pl.len().over(\"SD2_variant|seq\") > 1).group_by(\"SD2_variant|seq\").agg(\n",
    "    \"grouping_depth\"\n",
    ").sort(pl.col(\"grouping_depth\").list.mean()).with_columns(\n",
    "    rbs_id=pl.int_range(pl.len())\n",
    ").select(\n",
    "    \"rbs_id\", \"grouping_depth\"\n",
    ").explode(\n",
    "    \"grouping_depth\"\n",
    ").to_pandas().hvplot.scatter(\n",
    "    \"rbs_id\", \"grouping_depth\", alpha=0.2, s=2\n",
    ")"
   ]
  },
  {
   "cell_type": "markdown",
   "id": "2cf81637-5192-4ebe-8587-28fd7f5ab7bd",
   "metadata": {},
   "source": [
    "# Joins"
   ]
  },
  {
   "cell_type": "markdown",
   "id": "f2282d02-34f1-42ec-b2ad-3d65b9a803af",
   "metadata": {},
   "source": [
    "##  240703_pLIB476_bottlenecked with 240612_pLIB476_bottlenecked"
   ]
  },
  {
   "cell_type": "code",
   "execution_count": null,
   "id": "1cc10860-85cd-4c71-8659-089ca4724aaa",
   "metadata": {},
   "outputs": [],
   "source": [
    "%%time\n",
    "df_240703b = load_sequencing(\n",
    "    \"/home/jqs1/scratch/sequencing/240703_pLIB476_bottlenecked/output/max_divergence=0.3/extract_segments/*.arrow\"\n",
    ").collect()\n",
    "df_240610b = load_sequencing(\n",
    "    \"/home/jqs1/scratch/sequencing/240610_pLIB476_bottleneck/pLIB476_bottleneck/pLIB476/20240607_1433_MN35044_FAX60316_7d690112/output/max_divergence=0.3/extract_segments/*.arrow\"\n",
    ").collect()"
   ]
  },
  {
   "cell_type": "code",
   "execution_count": null,
   "id": "06dd5587-8903-4350-a719-7d536bc2659e",
   "metadata": {},
   "outputs": [],
   "source": [
    "%%time\n",
    "cols = [\"grouping_path\", \"variants_path\", \"grouping_depth\"]\n",
    "df_joined = df_240703b.select(cols).join(\n",
    "    df_240610b.select(cols),\n",
    "    on=processing.categorical_list_hash(pl.col(\"grouping_path\")),\n",
    "    how=\"full\",\n",
    "    suffix=\"_240610b\",\n",
    ")"
   ]
  },
  {
   "cell_type": "code",
   "execution_count": null,
   "id": "4a28dbfc-17a9-43b1-8946-6f5e30f1d496",
   "metadata": {},
   "outputs": [],
   "source": [
    "df_joined.group_by(\n",
    "    pl.col(\"grouping_path\").is_not_null(), pl.col(\"grouping_path_240610b\").is_not_null()\n",
    ").agg(pl.len()).rename(\n",
    "    {\n",
    "        \"grouping_path\": \"240703_bottlenecked\",\n",
    "        \"grouping_path_240610b\": \"240612_minion_bottlenecked\",\n",
    "    }\n",
    ")"
   ]
  },
  {
   "cell_type": "code",
   "execution_count": null,
   "id": "a5a47728-1f2f-4fd4-9635-51945e562d2d",
   "metadata": {},
   "outputs": [],
   "source": [
    "df_240703b.sort(\"grouping_depth\").select(\n",
    "    pl.col(\"grouping_depth\"),\n",
    "    frac_barcodes=pl.int_range(1, pl.len() + 1, dtype=pl.UInt32) / pl.len(),\n",
    "    frac_reads=pl.col(\"grouping_depth\").cum_sum() / pl.col(\"grouping_depth\").sum(),\n",
    ").to_pandas().hvplot.step(\"grouping_depth\", logx=True, logy=False, where=\"pre\")"
   ]
  },
  {
   "cell_type": "code",
   "execution_count": null,
   "id": "377cc717-9e39-4184-9035-6fb52a4b3e9b",
   "metadata": {},
   "outputs": [],
   "source": [
    "df_240610b.sort(\"grouping_depth\").select(\n",
    "    pl.col(\"grouping_depth\"),\n",
    "    frac_barcodes=pl.int_range(1, pl.len() + 1, dtype=pl.UInt32) / pl.len(),\n",
    "    frac_reads=pl.col(\"grouping_depth\").cum_sum() / pl.col(\"grouping_depth\").sum(),\n",
    ").to_pandas().hvplot.step(\"grouping_depth\", logx=True, logy=False, where=\"pre\")"
   ]
  },
  {
   "cell_type": "code",
   "execution_count": null,
   "id": "77e42f96-1d1f-4308-a39b-4b90b9455d80",
   "metadata": {},
   "outputs": [],
   "source": [
    "df_joined.select(\"grouping_depth\", \"grouping_depth_240610b\").to_pandas().hvplot.scatter(\n",
    "    \"grouping_depth\", \"grouping_depth_240610b\"\n",
    ")"
   ]
  },
  {
   "cell_type": "markdown",
   "id": "125e9666-308c-4bc4-932b-5dd39231e7c7",
   "metadata": {},
   "source": [
    "##  240703_pLIB476_bottlenecked with 240510_pLIB476"
   ]
  },
  {
   "cell_type": "code",
   "execution_count": null,
   "id": "f8c21bab-6d81-4389-9e5d-b6ff34020301",
   "metadata": {},
   "outputs": [],
   "source": [
    "%%time\n",
    "df_240703b = load_sequencing(\n",
    "    \"/home/jqs1/scratch/sequencing/240703_pLIB476_bottlenecked/output/max_divergence=0.3/extract_segments/*.arrow\"\n",
    ").collect()\n",
    "df_240513 = load_sequencing(\n",
    "    \"/home/jqs1/scratch/sequencing/240513_pLIB473_476/20240513_1645_2C_PAW46239_b49d575f/output/max_divergence=0.3/extract_segments/*.arrow\"\n",
    ").collect()"
   ]
  },
  {
   "cell_type": "code",
   "execution_count": null,
   "id": "b8813b4c-4673-47e9-855d-10fc3a638e92",
   "metadata": {},
   "outputs": [],
   "source": [
    "%%time\n",
    "cols = [\"grouping_path\", \"variants_path\", \"grouping_depth\"]\n",
    "df_joined = df_240703b.select(cols).join(\n",
    "    df_240610b.select(cols),\n",
    "    on=processing.categorical_list_hash(pl.col(\"grouping_path\")),\n",
    "    how=\"full\",\n",
    "    suffix=\"_240610b\",\n",
    ")"
   ]
  },
  {
   "cell_type": "code",
   "execution_count": null,
   "id": "ede8e268-2c40-4ea6-ada6-5dded9f5db8c",
   "metadata": {},
   "outputs": [],
   "source": [
    "df_joined.group_by(\n",
    "    pl.col(\"grouping_path\").is_not_null(), pl.col(\"grouping_path_240610b\").is_not_null()\n",
    ").agg(pl.len()).rename(\n",
    "    {\n",
    "        \"grouping_path\": \"240703_bottlenecked\",\n",
    "        \"grouping_path_240610b\": \"240612_minion_bottlenecked\",\n",
    "    }\n",
    ")"
   ]
  },
  {
   "cell_type": "markdown",
   "id": "bdf796ac-497f-4406-8748-0636f0b288a8",
   "metadata": {},
   "source": [
    "## J23100"
   ]
  },
  {
   "cell_type": "code",
   "execution_count": null,
   "id": "8c1e0f81-be2a-4892-9023-4499c4489543",
   "metadata": {},
   "outputs": [],
   "source": [
    "align.pairwise_align(\n",
    "    \"GGAGTTTACGGCTAGCTCAGTCCTAGGTACAGTGCTAGC\", \"GGAGTTGACGGCTAGCTCAGTCCTAGGTACAGTGCTAGC\"\n",
    ")"
   ]
  },
  {
   "cell_type": "code",
   "execution_count": null,
   "id": "97a40d2e-7700-4a0b-98a0-32e79cde53cd",
   "metadata": {},
   "outputs": [],
   "source": [
    "x = df.filter(pl.col(\"promoter|seq\") == \"GGAGTTTACGGCTAGCTCAGTCCTAGGTACAGTGCTAGC\")"
   ]
  },
  {
   "cell_type": "code",
   "execution_count": null,
   "id": "e5c66b83-3f84-4d72-ae57-66c3e95ac96c",
   "metadata": {},
   "outputs": [],
   "source": [
    "x[0, \"cg\"]"
   ]
  },
  {
   "cell_type": "code",
   "execution_count": null,
   "id": "fab19069-ad65-4fb9-89c3-5e51a5b6e516",
   "metadata": {},
   "outputs": [],
   "source": [
    "x[0, \"realign_cg\"]"
   ]
  },
  {
   "cell_type": "code",
   "execution_count": null,
   "id": "3fd3041e-2cee-4136-a617-afe40188cc64",
   "metadata": {},
   "outputs": [],
   "source": [
    "idx = 0\n",
    "path = x[idx, \"variants_path\"]\n",
    "seq = x[idx, \"consensus_seq\"]"
   ]
  },
  {
   "cell_type": "code",
   "execution_count": null,
   "id": "9bc6c932-1e6f-4541-af7f-ff05b56bb09c",
   "metadata": {},
   "outputs": [],
   "source": [
    "name_to_seq = sgfa.gfa_name_mapping(gfa)\n",
    "ref_seq = sgfa.assemble_seq_from_path(name_to_seq, path)"
   ]
  },
  {
   "cell_type": "code",
   "execution_count": null,
   "id": "c972c016-d35d-427e-a45f-1dc5d0ae1b8f",
   "metadata": {},
   "outputs": [],
   "source": [
    "seq"
   ]
  },
  {
   "cell_type": "code",
   "execution_count": null,
   "id": "00578e2a-04be-42ab-bbd5-11518fc39240",
   "metadata": {},
   "outputs": [],
   "source": [
    "processing.pairwise_align(\n",
    "    seq,\n",
    "    ref_seq,\n",
    "    **{\"cigar_as_string\": True, \"method\": \"parasail\", \"degenerate\": True},\n",
    ")"
   ]
  },
  {
   "cell_type": "code",
   "execution_count": null,
   "id": "e1c0715f-58d1-400c-9f1b-923d4c15c736",
   "metadata": {},
   "outputs": [],
   "source": [
    "processing.pairwise_align(\n",
    "    seq,\n",
    "    ref_seq,\n",
    "    **{\"cigar_as_string\": True, \"method\": \"parasail\", \"degenerate\": False},\n",
    ")"
   ]
  },
  {
   "cell_type": "code",
   "execution_count": null,
   "id": "ef610040-7278-4ec1-989c-aabfd5214a69",
   "metadata": {},
   "outputs": [],
   "source": [
    "x.columns"
   ]
  },
  {
   "cell_type": "code",
   "execution_count": null,
   "id": "e53d69ae-5fce-4a07-b9a5-46278db5b1a4",
   "metadata": {},
   "outputs": [],
   "source": [
    "y = processing.cut_cigar_df(\n",
    "    x,\n",
    "    gfa,\n",
    "    path_column=\"variants_path\",\n",
    "    cigar_column=\"cg\",\n",
    "    sequence_column=\"consensus_seq\",\n",
    "    # phred_column=\"consensus_phred\",\n",
    "    query_start_column=\"query_start\",\n",
    "    query_end_column=\"query_end\",\n",
    "    query_length_column=\"query_length\",\n",
    "    path_start_column=\"path_start\",\n",
    "    path_end_column=\"path_end\",\n",
    "    struct_name=\"extract_segments2\",\n",
    "    keep_full=True,\n",
    ")"
   ]
  },
  {
   "cell_type": "code",
   "execution_count": null,
   "id": "f8a507f5-3c4f-4b17-adfc-543187aef2cf",
   "metadata": {},
   "outputs": [],
   "source": [
    "y2 = processing.cut_cigar_df(\n",
    "    x,\n",
    "    gfa,\n",
    "    path_column=\"variants_path\",\n",
    "    cigar_column=\"realign_cg\",\n",
    "    sequence_column=\"consensus_seq\",\n",
    "    # phred_column=\"consensus_phred\",\n",
    "    # query_start_column=\"query_start\",\n",
    "    # query_end_column=\"query_end\",\n",
    "    # query_length_column=\"query_length\",\n",
    "    # path_start_column=\"path_start\",\n",
    "    # path_end_column=\"path_end\",\n",
    "    struct_name=\"extract_segments2\",\n",
    "    keep_full=True,\n",
    ")"
   ]
  },
  {
   "cell_type": "code",
   "execution_count": null,
   "id": "e709c2d9-c3c8-472c-80ed-d7f41a7fcf4e",
   "metadata": {},
   "outputs": [],
   "source": [
    "plt.hist(\n",
    "    x.select(pl.col(\"consensus_seq\").str.len_bytes())[\"consensus_seq\"],\n",
    "    bins=100,\n",
    "    log=True,\n",
    ");"
   ]
  },
  {
   "cell_type": "code",
   "execution_count": null,
   "id": "cd16c889-f753-45bd-86c3-b68ff4b27707",
   "metadata": {},
   "outputs": [],
   "source": [
    "len(x[0, \"consensus_seq\"])"
   ]
  },
  {
   "cell_type": "code",
   "execution_count": null,
   "id": "d32caa8b-74e0-421e-8026-bcb9efef1697",
   "metadata": {},
   "outputs": [],
   "source": [
    "x.select(\"cg\", \"realign_cg\")"
   ]
  },
  {
   "cell_type": "code",
   "execution_count": null,
   "id": "0ea35c37-0cb0-4132-8b39-44837fd65640",
   "metadata": {},
   "outputs": [],
   "source": [
    "y2[0, \"extract_segments2\"]"
   ]
  },
  {
   "cell_type": "code",
   "execution_count": null,
   "id": "3049f7a6-7c22-43fd-a791-feab2343ed81",
   "metadata": {},
   "outputs": [],
   "source": [
    "y[0, \"extract_segments2\"]"
   ]
  },
  {
   "cell_type": "code",
   "execution_count": null,
   "id": "01ebbce5-b63c-47c8-ab98-6f53b5115c05",
   "metadata": {},
   "outputs": [],
   "source": [
    "x[\"consensus_seq\"]"
   ]
  },
  {
   "cell_type": "code",
   "execution_count": null,
   "id": "2069b88f-5292-4e59-a122-df0cb1d06827",
   "metadata": {},
   "outputs": [],
   "source": [
    "x[\"cg\"].value_counts(sort=True)"
   ]
  },
  {
   "cell_type": "code",
   "execution_count": null,
   "id": "c5bac61b-ab80-4303-aa27-b1d9d1301896",
   "metadata": {},
   "outputs": [],
   "source": [
    "x[2, \"cg\"]"
   ]
  },
  {
   "cell_type": "code",
   "execution_count": null,
   "id": "f692855d-afb1-4266-a810-79c76392e3b6",
   "metadata": {},
   "outputs": [],
   "source": [
    "x[2].select(r\"^.*\\|cigar$\")"
   ]
  },
  {
   "cell_type": "code",
   "execution_count": null,
   "id": "599703c2-25ab-4add-8243-5d37dc2c25e5",
   "metadata": {},
   "outputs": [],
   "source": [
    "df[\"promoter|variant\"].value_counts(sort=True)"
   ]
  },
  {
   "cell_type": "code",
   "execution_count": null,
   "id": "b15106cb-a043-4abb-81ca-024734455e95",
   "metadata": {},
   "outputs": [],
   "source": [
    "df.filter(pl.col(\"promoter|variant\") == \"J23106\", pl.col(\"promoter|divergence\") == 0)[\n",
    "    \"promoter|seq\"\n",
    "].value_counts(sort=True).to_pandas()"
   ]
  },
  {
   "cell_type": "code",
   "execution_count": null,
   "id": "4c1b5a56-fc00-4c49-9bd6-8c2356eeb3d4",
   "metadata": {},
   "outputs": [],
   "source": [
    "df.filter(pl.col(\"promoter|variant\") == \"J23100\")[\"promoter|seq\"].value_counts(\n",
    "    sort=True\n",
    ").to_pandas()"
   ]
  },
  {
   "cell_type": "code",
   "execution_count": null,
   "id": "011f1062-21e0-436c-a534-30356f0b5688",
   "metadata": {},
   "outputs": [],
   "source": [
    "df.filter(pl.col(\"promoter|variant\") == \"J23100\")[\"promoter|cigar\"].value_counts(\n",
    "    sort=True\n",
    ").to_pandas()"
   ]
  },
  {
   "cell_type": "code",
   "execution_count": null,
   "id": "a656f605-d990-4218-8595-3fa938f39019",
   "metadata": {},
   "outputs": [],
   "source": [
    "df.filter(pl.col(\"promoter|variant\") == \"J23100\")[\"promoter|deletions\"].value_counts(\n",
    "    sort=True\n",
    ")"
   ]
  },
  {
   "cell_type": "code",
   "execution_count": null,
   "id": "6f24a228-703e-47d8-9b6b-fac3600e830f",
   "metadata": {},
   "outputs": [],
   "source": [
    "df.filter(pl.col(\"promoter|variant\") == \"J23100\")[\"promoter|divergence\"].value_counts(\n",
    "    sort=True\n",
    ")"
   ]
  },
  {
   "cell_type": "markdown",
   "id": "b34545ca-a1aa-430d-bf3e-d4d27e7ac7cc",
   "metadata": {},
   "source": [
    "## Export to Eaton format"
   ]
  },
  {
   "cell_type": "code",
   "execution_count": null,
   "id": "474f30d2-e02d-4aad-9aa0-92ef3a162ea5",
   "metadata": {},
   "outputs": [],
   "source": [
    "%%time\n",
    "df = load_sequencing(\n",
    "    \"/home/jqs1/scratch/sequencing/240703_pLIB476_bottlenecked/output/max_divergence=0.3/extract_segments/*.arrow\"\n",
    ").collect()"
   ]
  },
  {
   "cell_type": "code",
   "execution_count": null,
   "id": "a9b1e927-9ed7-4dd3-b803-6da62cb914ae",
   "metadata": {},
   "outputs": [],
   "source": [
    "gfa = gfapy.Gfa.from_file(\n",
    "    \"/home/jqs1/scratch/sequencing/240703_pLIB476_bottlenecked/references/pLIB476jqs.gfa\"\n",
    ")"
   ]
  },
  {
   "cell_type": "code",
   "execution_count": null,
   "id": "5715e45b-9097-4ab7-8d5e-9ee1f23eb665",
   "metadata": {},
   "outputs": [],
   "source": [
    "df = processing.compute_divergences(\n",
    "    df, set([s.split(\"=\")[0] for s in gfa.segment_names])\n",
    ")"
   ]
  },
  {
   "cell_type": "code",
   "execution_count": null,
   "id": "a67bedcb-3155-417f-bffc-013b76ee6825",
   "metadata": {},
   "outputs": [],
   "source": [
    "df[\"max_divergence\"].value_counts(sort=True)"
   ]
  },
  {
   "cell_type": "code",
   "execution_count": null,
   "id": "1d8b4696-e019-43e3-ab95-973ddc543016",
   "metadata": {},
   "outputs": [],
   "source": [
    "df.filter(pl.col(\"max_divergence\") > 0.1)"
   ]
  },
  {
   "cell_type": "code",
   "execution_count": null,
   "id": "2e6f188f-90e3-4539-861e-a588b50acefa",
   "metadata": {},
   "outputs": [],
   "source": [
    "df.filter(\n",
    "    pl.col(\"promoter_repressor|variant\").is_not_null(),\n",
    ")[\"max_divergence\"]"
   ]
  },
  {
   "cell_type": "code",
   "execution_count": null,
   "id": "bbab6640-69f2-442d-9646-d778c41e0a61",
   "metadata": {},
   "outputs": [],
   "source": [
    "df[\"RBS_B0032m|matches\"].value_counts()"
   ]
  },
  {
   "cell_type": "code",
   "execution_count": null,
   "id": "bf16271f-f77c-4505-882c-5f3432e3379b",
   "metadata": {},
   "outputs": [],
   "source": [
    "df[\"CDS_mVenus|matches\"].value_counts(sort=True)"
   ]
  },
  {
   "cell_type": "code",
   "execution_count": null,
   "id": "533a8093-c2d3-45b1-9422-4055cacad88e",
   "metadata": {},
   "outputs": [],
   "source": [
    "df[\"CDS_mVenus|insertions\"].value_counts(sort=True)"
   ]
  },
  {
   "cell_type": "code",
   "execution_count": null,
   "id": "f483fb0e-8027-48e7-a3d4-97a71cfe9ef6",
   "metadata": {},
   "outputs": [],
   "source": [
    "df[\"CDS_mVenus|deletions\"].value_counts(sort=True)"
   ]
  },
  {
   "cell_type": "code",
   "execution_count": null,
   "id": "bffc5083-9429-4b8d-98ad-ab43dac15bf8",
   "metadata": {},
   "outputs": [],
   "source": [
    "df[\"CDS_mVenus|divergence\"].value_counts(sort=True)"
   ]
  },
  {
   "cell_type": "code",
   "execution_count": null,
   "id": "60cc1b28-28c3-4d49-918f-250c58c137eb",
   "metadata": {},
   "outputs": [],
   "source": [
    "df[\"promoter|variant\"].value_counts()"
   ]
  },
  {
   "cell_type": "code",
   "execution_count": null,
   "id": "cea65bb1-3946-47f4-85c6-8cd7807391e2",
   "metadata": {},
   "outputs": [],
   "source": [
    "df[\"promoter_repressor|variant\"].value_counts()"
   ]
  },
  {
   "cell_type": "code",
   "execution_count": null,
   "id": "989c358f-bcbc-4e11-8cae-0c3cb4529f53",
   "metadata": {},
   "outputs": [],
   "source": [
    "x = df.filter(pl.col(\"promoter_repressor|variant\") == \"pLacI\")[0]"
   ]
  },
  {
   "cell_type": "code",
   "execution_count": null,
   "id": "f83f1be7-9952-4156-8018-72c5381299e3",
   "metadata": {},
   "outputs": [],
   "source": [
    "x[0, \"promoter_repressor|seq\"]"
   ]
  },
  {
   "cell_type": "code",
   "execution_count": null,
   "id": "f9b210e0-223a-4b7e-9ed6-c400c304b066",
   "metadata": {},
   "outputs": [],
   "source": [
    "df.filter(pl.col(\"promoter_repressor|variant\") == \"pPhlF\")[0, \"consensus_seq\"]"
   ]
  },
  {
   "cell_type": "code",
   "execution_count": null,
   "id": "14621fcf-020b-43f9-a5f1-de6b684000a6",
   "metadata": {},
   "outputs": [],
   "source": [
    "df.columns"
   ]
  },
  {
   "cell_type": "code",
   "execution_count": null,
   "id": "80216d8b-7396-4ffa-918c-8619e018dfa4",
   "metadata": {},
   "outputs": [],
   "source": [
    "%%time\n",
    "df_eaton = (\n",
    "    df.filter(\n",
    "        pl.col(\"primary_alignment\"), pl.col(\"e2e\"), pl.col(\"consensus_depth\") >= 4\n",
    "    )\n",
    "    .with_columns(\n",
    "        barcode=path_to_barcode_string(\"variants_path\"),\n",
    "        reference=pl.lit(\"\"),\n",
    "        alignmentstart=1,\n",
    "        cigar=pl.lit(\"\"),\n",
    "        subsample=pl.lit(\"\"),\n",
    "    )\n",
    "    .rename({\"consensus_seq\": \"consensus\"})\n",
    "    .select(\n",
    "        \"barcode\",\n",
    "        \"consensus\",\n",
    "        \"reference\",\n",
    "        \"alignmentstart\",\n",
    "        \"cigar\",\n",
    "        \"subsample\",\n",
    "        \"promoter|variant\",\n",
    "        \"SD2_variant|seq\",\n",
    "        \"CDS_mVenus|divergence\",\n",
    "        \"max_divergence\",\n",
    "    )\n",
    "    .sort(\"barcode\")\n",
    "    .with_row_index(name=\"barcodeid\")\n",
    "    .with_row_index(name=\"\")\n",
    ")"
   ]
  },
  {
   "cell_type": "code",
   "execution_count": null,
   "id": "93081752-6e90-496f-8181-edbb1ddc72d4",
   "metadata": {},
   "outputs": [],
   "source": [
    "df_eaton"
   ]
  },
  {
   "cell_type": "code",
   "execution_count": null,
   "id": "676aad26-3db2-49e8-b61f-ba9320e0e9b1",
   "metadata": {},
   "outputs": [],
   "source": [
    "df_eaton.write_csv(\"240703_pLIB476_bottlenecked_eaton_export.tsv\", separator=\"\\t\")"
   ]
  },
  {
   "cell_type": "code",
   "execution_count": null,
   "id": "02000af3-e545-42cd-b715-4cd74358d9e4",
   "metadata": {},
   "outputs": [],
   "source": [
    "!pwd"
   ]
  },
  {
   "cell_type": "markdown",
   "id": "fe4819c6-cb12-4400-a302-09c9cdabff65",
   "metadata": {},
   "source": [
    "# 240612_pLIB476_isolates"
   ]
  },
  {
   "cell_type": "markdown",
   "id": "fb1af3c8-8f28-45e7-adb0-383290dfae4d",
   "metadata": {},
   "source": [
    "## prepare_reads"
   ]
  },
  {
   "cell_type": "code",
   "execution_count": null,
   "id": "553dea42-6af3-4cf6-8fba-83976cd5f351",
   "metadata": {},
   "outputs": [],
   "source": [
    "%%time\n",
    "arrow_filename = \"/home/jqs1/scratch/sequencing/240612_pLIB476_isolates/output/vg/prepare_reads/*.arrow\"\n",
    "df = concat_glob(arrow_filename).collect()"
   ]
  },
  {
   "cell_type": "code",
   "execution_count": null,
   "id": "fb284feb-a4ed-47d5-86bc-2a6355dd9219",
   "metadata": {},
   "outputs": [],
   "source": [
    "%%time\n",
    "df2 = df.with_columns(\n",
    "    dup=pl.col(\"name\").is_duplicated(),\n",
    "    primary_alignment=pl.col(\"name\").is_first_distinct(),\n",
    "    e2e=pl.col(\"full_path\")\n",
    "    .list.set_intersection([\"<UNS9\", \">UNS9\", \"<UNS3\", \">UNS3\"])\n",
    "    .list.len()\n",
    "    == 2,\n",
    "    bc_e2e=pl.col(\"full_path\")\n",
    "    .list.set_intersection([\"<BC:T7_prom\", \">BC:T7_prom\", \"<BC:spacer2\", \">BC:spacer2\"])\n",
    "    .list.len()\n",
    "    == 2,\n",
    ")"
   ]
  },
  {
   "cell_type": "code",
   "execution_count": null,
   "id": "862e71ae-0410-4807-8666-db57d691ca2b",
   "metadata": {},
   "outputs": [],
   "source": [
    "df3 = (\n",
    "    df2.filter(pl.col(\"bc_e2e\"), pl.col(\"primary_alignment\"))\n",
    "    .unnest(\"extract_segments\")\n",
    "    .with_columns(\n",
    "        sample=pl.col(\"name\").str.split_exact(\"_\", 2).struct[2].cast(pl.Int32)\n",
    "    )\n",
    ")"
   ]
  },
  {
   "cell_type": "code",
   "execution_count": null,
   "id": "51d61ffe-95e6-4681-aa67-e3c9571cf36e",
   "metadata": {},
   "outputs": [],
   "source": [
    "df4 = (\n",
    "    df3.group_by(\"sample\")\n",
    "    .agg(\n",
    "        *[\n",
    "            pl.col(f\"BC:bit{bit}|{type_}\").mean()\n",
    "            for bit in range(30)\n",
    "            for type_ in (\"mismatches\", \"insertions\", \"deletions\")\n",
    "        ]\n",
    "    )\n",
    "    .sort(\"sample\")\n",
    ")"
   ]
  },
  {
   "cell_type": "code",
   "execution_count": null,
   "id": "3a6f6974-43a2-4141-9dd3-b3cfc6bfe22e",
   "metadata": {},
   "outputs": [],
   "source": [
    "df4"
   ]
  },
  {
   "cell_type": "code",
   "execution_count": null,
   "id": "d16235f8-ab09-4d79-b43d-b1bb4fffa465",
   "metadata": {},
   "outputs": [],
   "source": [
    "df4.filter(pl.col(\"sample\") == 1)"
   ]
  },
  {
   "cell_type": "code",
   "execution_count": null,
   "id": "079a50be-dbcd-47a3-bf24-d3eb7ae768fb",
   "metadata": {},
   "outputs": [],
   "source": [
    "len(mismatches)"
   ]
  },
  {
   "cell_type": "code",
   "execution_count": null,
   "id": "d2c05d23-93fc-413a-8a04-f8f7d5c3fe2f",
   "metadata": {},
   "outputs": [],
   "source": [
    "bits = np.arange(30)\n",
    "for row in df4.to_dicts():\n",
    "    mismatches = [row[f\"BC:bit{bit}|mismatches\"] for bit in bits]\n",
    "    insertions = [row[f\"BC:bit{bit}|insertions\"] for bit in bits]\n",
    "    deletions = [row[f\"BC:bit{bit}|deletions\"] for bit in bits]\n",
    "    plt.figure(figsize=(10, 3))\n",
    "    plt.stackplot(\n",
    "        [-0.5, *(bits + 0.5)],\n",
    "        [*mismatches, 0],\n",
    "        [*insertions, 0],\n",
    "        [*deletions, 0],\n",
    "        labels=[\"mismatches\", \"insertions\", \"deletions\"],\n",
    "        step=\"post\",\n",
    "    )\n",
    "    plt.ylim([0, 6])\n",
    "    plt.title(f\"sample {row['sample']}\")\n",
    "    plt.xticks(bits)\n",
    "    plt.legend();"
   ]
  },
  {
   "cell_type": "code",
   "execution_count": null,
   "id": "8eededdb-9521-41cc-a520-f44715f17ab1",
   "metadata": {},
   "outputs": [],
   "source": [
    "sample = 4\n",
    "bit = 17\n",
    "bins = np.arange(10)\n",
    "bin_centers = (bins[:-1] + bins[1:]) / 2\n",
    "hists = {\n",
    "    type_: np.histogram(\n",
    "        df3.filter(pl.col(\"sample\") == sample)[f\"BC:bit{bit}|{type_}\"], bins=bins\n",
    "    )[0]\n",
    "    for type_ in (\"mismatches\", \"insertions\", \"deletions\")\n",
    "}\n",
    "plt.figure(figsize=(6, 3))\n",
    "plt.stackplot(\n",
    "    bin_centers - 1,\n",
    "    hists[\"mismatches\"],\n",
    "    hists[\"insertions\"],\n",
    "    hists[\"deletions\"],\n",
    "    labels=[\"mismatches\", \"insertions\", \"deletions\"],\n",
    "    step=\"post\",\n",
    ")\n",
    "plt.title(f\"sample {sample} bit {bit}\")\n",
    "plt.legend();"
   ]
  },
  {
   "cell_type": "markdown",
   "id": "c0241f1d-9be8-4a77-abf5-842fc389acf7",
   "metadata": {},
   "source": [
    "## extract_segments"
   ]
  },
  {
   "cell_type": "code",
   "execution_count": null,
   "id": "6ecbc253-62ef-4d98-853c-1c59474d0b02",
   "metadata": {},
   "outputs": [],
   "source": [
    "%%time\n",
    "arrow_filename = \"/home/jqs1/scratch/sequencing/240612_pLIB476_isolates/output/primary_max_divergence=1/extract_segments/*.arrow\"\n",
    "df = concat_glob(arrow_filename).collect()"
   ]
  },
  {
   "cell_type": "code",
   "execution_count": null,
   "id": "f3fc81b6-f5ff-4502-b049-b3d0eeea37a9",
   "metadata": {},
   "outputs": [],
   "source": [
    "df2 = (\n",
    "    df.filter(pl.col(\"name\").is_first_distinct())\n",
    "    .with_columns(barcode_str=path_to_barcode_string(\"variants_path\"))\n",
    "    .sort(\"barcode_str\")\n",
    "    .to_pandas()\n",
    ")"
   ]
  },
  {
   "cell_type": "code",
   "execution_count": null,
   "id": "ce8a5dad-b993-4062-829f-e27acb38cf15",
   "metadata": {},
   "outputs": [],
   "source": [
    "df2[[\"barcode_str\", \"name\", \"grouping_depth\"]]"
   ]
  },
  {
   "cell_type": "code",
   "execution_count": null,
   "id": "ea0cbf89-eec5-44ac-835d-3a8972483fe8",
   "metadata": {},
   "outputs": [],
   "source": [
    "df2[[\"barcode_str\", \"name\", \"grouping_depth\"]]"
   ]
  },
  {
   "cell_type": "code",
   "execution_count": null,
   "id": "e475a137-043d-4256-ab9a-416bd78654e4",
   "metadata": {},
   "outputs": [],
   "source": [
    "df2.iloc[-1].loc[\"variants_path\"]"
   ]
  },
  {
   "cell_type": "code",
   "execution_count": null,
   "id": "775edca4-5a6b-4326-8ddb-ab73d4857525",
   "metadata": {},
   "outputs": [],
   "source": [
    "df2.iloc[-2].loc[\"variants_path\"]"
   ]
  },
  {
   "cell_type": "code",
   "execution_count": null,
   "id": "b71d85a1-ac80-4a82-88bd-762dfc2fbcea",
   "metadata": {},
   "outputs": [],
   "source": [
    "%%time\n",
    "arrow_filename = \"/home/jqs1/scratch/sequencing/240612_pLIB476_isolates/output/primary_max_divergence=0.1/extract_segments/*.arrow\"\n",
    "df = concat_glob(arrow_filename).collect()"
   ]
  },
  {
   "cell_type": "code",
   "execution_count": null,
   "id": "b2be196f-ffd3-4985-934b-3a660e07a8ac",
   "metadata": {},
   "outputs": [],
   "source": [
    "len(df.filter(pl.col(\"name\").is_first_distinct()))"
   ]
  },
  {
   "cell_type": "code",
   "execution_count": null,
   "id": "7c190c29-94c6-4888-988c-01f250f95bf1",
   "metadata": {},
   "outputs": [],
   "source": [
    "df.filter(pl.col(\"name\").is_first_distinct())[\"grouping_depth\"].to_pandas()"
   ]
  },
  {
   "cell_type": "code",
   "execution_count": null,
   "id": "a1140062-90a0-4a0d-a768-b508084a1d38",
   "metadata": {},
   "outputs": [],
   "source": [
    "df2 = processing.compute_divergences(\n",
    "    df, processing.unique_segments(df, \"path\"), struct_name=\"extract_segments\"\n",
    ")\n",
    "df2 = df2.with_columns(\n",
    "    sample=pl.col(\"name\").str.split_exact(\"_\", 2).struct[2].cast(pl.Int32)\n",
    ")"
   ]
  },
  {
   "cell_type": "code",
   "execution_count": null,
   "id": "1b67142c-9697-4118-b933-8ad84eb29f3e",
   "metadata": {},
   "outputs": [],
   "source": [
    "df2.filter(pl.col(\"sample\") == 11).sort(\"max_divergence\")"
   ]
  },
  {
   "cell_type": "code",
   "execution_count": null,
   "id": "f66855cc-40bb-406b-b567-0e2075a24215",
   "metadata": {},
   "outputs": [],
   "source": [
    "plt.hist(df2.filter(pl.col(\"sample\") == 11)[\"max_divergence\"], bins=100);"
   ]
  },
  {
   "cell_type": "code",
   "execution_count": null,
   "id": "2a1dd62a-5451-4cf7-a250-40fe56120e2b",
   "metadata": {},
   "outputs": [],
   "source": [
    "df.head(100)"
   ]
  },
  {
   "cell_type": "markdown",
   "id": "f5c65c33-67c9-41ed-864c-994c22235843",
   "metadata": {},
   "source": [
    "## Closest distance histogram"
   ]
  },
  {
   "cell_type": "code",
   "execution_count": null,
   "id": "610e1492-631e-4608-b2d1-ab9fa5444208",
   "metadata": {},
   "outputs": [],
   "source": [
    "from sklearn.neighbors import KDTree"
   ]
  },
  {
   "cell_type": "code",
   "execution_count": null,
   "id": "66c2b67c-9000-4352-a474-9a03cf9b5d35",
   "metadata": {},
   "outputs": [],
   "source": [
    "%%time\n",
    "arrow_filename = \"/home/jqs1/scratch/sequencing/240610_pLIB476_bottleneck/pLIB476_bottleneck/pLIB476/20240607_1433_MN35044_FAX60316_7d690112/output/max_divergence=0.05/extract_segments/*.arrow\"\n",
    "# arrow_filename = \"/home/jqs1/scratch/sequencing/240612_pLIB476_isolates/output/primary_max_divergence=1/extract_segments/*.arrow\"\n",
    "df = concat_glob(arrow_filename).collect()"
   ]
  },
  {
   "cell_type": "code",
   "execution_count": null,
   "id": "80d23a57-6999-43cd-858a-f40c80898e56",
   "metadata": {},
   "outputs": [],
   "source": [
    "%%time\n",
    "df2 = df.with_columns(\n",
    "    dup=pl.col(\"name\").is_duplicated(),\n",
    "    is_primary_alignment=pl.col(\"name\").is_first_distinct(),\n",
    "    e2e=pl.col(\"variants_path\")\n",
    "    .list.set_intersection([\"<UNS9\", \">UNS9\", \"<UNS3\", \">UNS3\"])\n",
    "    .list.len()\n",
    "    == 2,\n",
    "    bc_e2e=pl.col(\"variants_path\")\n",
    "    .list.set_intersection([\"<BC:T7_prom\", \">BC:T7_prom\", \"<BC:spacer2\", \">BC:spacer2\"])\n",
    "    .list.len()\n",
    "    == 2,\n",
    ")"
   ]
  },
  {
   "cell_type": "code",
   "execution_count": null,
   "id": "5d4e0385-7104-498e-8f62-abf66f48e17d",
   "metadata": {},
   "outputs": [],
   "source": [
    "%%time\n",
    "df3 = df2.filter(\n",
    "    pl.col(\"is_primary_alignment\"), pl.col(\"e2e\"), pl.col(\"consensus_depth\") >= 0\n",
    ").with_columns(\n",
    "    barcode2=pl.concat_list([f\"BC:bit{idx}|variant\" for idx in range(30)]).cast(\n",
    "        pl.Array(pl.Boolean, 30)\n",
    "    ),\n",
    "    grouping_barcode=path_to_barcode_array(\"grouping_path\"),\n",
    "    variants_barcode=path_to_barcode_array(\"variants_path\"),\n",
    ")"
   ]
  },
  {
   "cell_type": "code",
   "execution_count": null,
   "id": "fb267a4e-7491-4634-81be-74bb1aadac52",
   "metadata": {},
   "outputs": [],
   "source": [
    "len(df3)"
   ]
  },
  {
   "cell_type": "code",
   "execution_count": null,
   "id": "efe8b5b5-47e6-423e-bff1-0d6279f32133",
   "metadata": {},
   "outputs": [],
   "source": [
    "grouping_barcodes = df3[\"grouping_barcode\"].to_numpy().astype(np.int16)\n",
    "variants_barcodes = df3[\"variants_barcode\"].to_numpy().astype(np.int16)\n",
    "barcodes2 = df3[\"barcode2\"].to_numpy().astype(np.int16)"
   ]
  },
  {
   "cell_type": "code",
   "execution_count": null,
   "id": "499364de-e759-4b84-a730-e1539f1dc976",
   "metadata": {},
   "outputs": [],
   "source": [
    "(grouping_barcodes != variants_barcodes).any(axis=1).sum()"
   ]
  },
  {
   "cell_type": "code",
   "execution_count": null,
   "id": "bc93226b-48b5-4bc1-9345-ee497c9af637",
   "metadata": {},
   "outputs": [],
   "source": [
    "grouping_barcodes[:10]"
   ]
  },
  {
   "cell_type": "code",
   "execution_count": null,
   "id": "2ebf9732-8bce-42b1-b678-34e7b22fa8ce",
   "metadata": {},
   "outputs": [],
   "source": [
    "variants_barcodes[:10]"
   ]
  },
  {
   "cell_type": "code",
   "execution_count": null,
   "id": "1ac2e096-f965-4d60-a6cb-0c588707c17d",
   "metadata": {},
   "outputs": [],
   "source": [
    "x = df3.filter(pl.col(\"barcode\") == list(barcodes[2]))\n",
    "x"
   ]
  },
  {
   "cell_type": "code",
   "execution_count": null,
   "id": "caa3bac3-3138-4073-927e-1cb49bf48906",
   "metadata": {},
   "outputs": [],
   "source": [
    "x[0, \"grouping_path\"].to_list()"
   ]
  },
  {
   "cell_type": "code",
   "execution_count": null,
   "id": "e9f405e0-78c0-4b4b-9a43-c5861a52aeaf",
   "metadata": {},
   "outputs": [],
   "source": [
    "x[0, \"variants_path\"].to_list()"
   ]
  },
  {
   "cell_type": "code",
   "execution_count": null,
   "id": "1e6c1cfc-d37a-458c-bc55-0e5b3f7e94c8",
   "metadata": {},
   "outputs": [],
   "source": [
    "x[0, \"grouping_path\"]"
   ]
  },
  {
   "cell_type": "code",
   "execution_count": null,
   "id": "3fb8cfb1-13b6-409d-9755-24dfb578bff8",
   "metadata": {},
   "outputs": [],
   "source": [
    "df3.select(pl.col(\"barcode\").is_duplicated().sum())"
   ]
  },
  {
   "cell_type": "code",
   "execution_count": null,
   "id": "482256fb-c407-4b11-b2fe-ce7f45ab27a2",
   "metadata": {},
   "outputs": [],
   "source": [
    "names = df3[\"name\"]"
   ]
  },
  {
   "cell_type": "code",
   "execution_count": null,
   "id": "e1e4bde6-afd7-44c1-a024-b80c6b994124",
   "metadata": {},
   "outputs": [],
   "source": [
    "names[9553]"
   ]
  },
  {
   "cell_type": "code",
   "execution_count": null,
   "id": "5d085239-7190-4496-977a-b976a64073ec",
   "metadata": {},
   "outputs": [],
   "source": [
    "df3[1152, \"barcode\"].to_numpy()"
   ]
  },
  {
   "cell_type": "code",
   "execution_count": null,
   "id": "379dae3b-7f40-492c-a753-a81d18ba01d6",
   "metadata": {},
   "outputs": [],
   "source": [
    "df3[9553, \"barcode\"].to_numpy()"
   ]
  },
  {
   "cell_type": "code",
   "execution_count": null,
   "id": "217705dc-6633-4330-93e9-09f36b31930c",
   "metadata": {},
   "outputs": [],
   "source": [
    "barcodes.shape"
   ]
  },
  {
   "cell_type": "code",
   "execution_count": null,
   "id": "5c60a512-52b5-4db2-a898-49f029bee8e5",
   "metadata": {},
   "outputs": [],
   "source": [
    "print(\"\\n\".join(df3[1152, \"variants_path\"].to_list()))"
   ]
  },
  {
   "cell_type": "code",
   "execution_count": null,
   "id": "6c79f4a2-523e-4b76-ab5d-a364ed6378b3",
   "metadata": {},
   "outputs": [],
   "source": [
    "%%time\n",
    "kd = KDTree(barcodes, leaf_size=40, metric=\"l1\")\n",
    "dists, closest = kd.query(barcodes, k=2)\n",
    "dists = dists[:, 1].astype(np.int16)"
   ]
  },
  {
   "cell_type": "code",
   "execution_count": null,
   "id": "0c20ae62-8f3e-49a6-8259-e555ca3463d7",
   "metadata": {},
   "outputs": [],
   "source": [
    "np.where(dists == 0)"
   ]
  },
  {
   "cell_type": "code",
   "execution_count": null,
   "id": "0481a182-8446-4336-83be-a039bfddc535",
   "metadata": {},
   "outputs": [],
   "source": [
    "bc_dups = barcodes[dists == 0]"
   ]
  },
  {
   "cell_type": "code",
   "execution_count": null,
   "id": "42a9ad31-341d-4b54-8ca4-729cb7297829",
   "metadata": {},
   "outputs": [],
   "source": [
    "(bc_dups * (2 ** np.arange(30))[np.newaxis, :]).sum(axis=1)"
   ]
  },
  {
   "cell_type": "code",
   "execution_count": null,
   "id": "71c37216-795f-4d03-aff0-ec78f7b417a7",
   "metadata": {},
   "outputs": [],
   "source": [
    "counts = np.bincount(dists)\n",
    "counts"
   ]
  },
  {
   "cell_type": "code",
   "execution_count": null,
   "id": "1e741f6e-934a-44c6-8079-5fd8175de078",
   "metadata": {},
   "outputs": [],
   "source": [
    "plt.step(np.arange(len(counts)), counts, where=\"mid\");"
   ]
  },
  {
   "cell_type": "code",
   "execution_count": null,
   "id": "4c0b604c-c3a3-4ddb-b4ed-f5fdc3280b3a",
   "metadata": {},
   "outputs": [],
   "source": [
    "counts"
   ]
  },
  {
   "cell_type": "code",
   "execution_count": null,
   "id": "11703177-72a9-46fa-b885-badecfa3a76f",
   "metadata": {},
   "outputs": [],
   "source": [
    "plt.step(np.arange(len(counts)), counts, where=\"mid\");"
   ]
  },
  {
   "cell_type": "markdown",
   "id": "bd0dbb0b-7146-4cc9-97b0-99c3bc724fb0",
   "metadata": {},
   "source": [
    "# 240610_pLIB476 vs. 240510_pLIB473-476"
   ]
  },
  {
   "cell_type": "code",
   "execution_count": null,
   "id": "856a0c10-8510-4d17-9e77-3474f3453eab",
   "metadata": {},
   "outputs": [],
   "source": [
    "# arrow_filename = \"/home/jqs1/scratch/sequencing/240610_pLIB476_bottleneck/pLIB476_bottleneck/pLIB476/20240607_1433_MN35044_FAX60316_7d690112/\"\n",
    "arrow_filename = \"/home/jqs1/scratch/sequencing/240513_pLIB473_476/20240513_1645_2C_PAW46239_b49d575f/prepare_reads.all_segments/*.arrow\"\n",
    "df = concat_glob(arrow_filename)  # .collect()"
   ]
  },
  {
   "cell_type": "code",
   "execution_count": null,
   "id": "a478cec8-a305-4209-b675-5bfcfd396bfc",
   "metadata": {},
   "outputs": [],
   "source": [
    "gfa_filename = \"/home/jqs1/scratch/sequencing/240610_pLIB476_bottleneck/pLIB476_bottleneck/pLIB476/20240607_1433_MN35044_FAX60316_7d690112/references/pLIB476jqs.gfa\"\n",
    "gfa = gfapy.Gfa.from_file(gfa_filename)"
   ]
  },
  {
   "cell_type": "code",
   "execution_count": null,
   "id": "b3f55169-f1d2-496f-8c32-5290731986cd",
   "metadata": {},
   "outputs": [],
   "source": [
    "df.schema"
   ]
  },
  {
   "cell_type": "code",
   "execution_count": null,
   "id": "4639c3b9-d6cc-40de-a688-bf11f866f82c",
   "metadata": {},
   "outputs": [],
   "source": [
    "gfa.segment_names"
   ]
  },
  {
   "cell_type": "code",
   "execution_count": null,
   "id": "3ea1c564-510e-49f0-84fb-6259f25fe538",
   "metadata": {},
   "outputs": [],
   "source": [
    "df2 = df.filter(pl.col(\"end_to_end\")).head(100).collect()"
   ]
  },
  {
   "cell_type": "code",
   "execution_count": null,
   "id": "6609dd3e-d1fb-412d-bf97-1894396f1439",
   "metadata": {},
   "outputs": [],
   "source": [
    "df2.with_columns(\n",
    "    barcode=pl.concat_list(\n",
    "        [\n",
    "            pl.col(\"extract_segments\").struct.field(f\"BC:bit{idx}|variant\")\n",
    "            for idx in range(30)\n",
    "        ]\n",
    "    )\n",
    ")[\"barcode\"]"
   ]
  },
  {
   "cell_type": "code",
   "execution_count": null,
   "id": "0a5e2b53-fe03-4489-bb13-bd4aa26c96ac",
   "metadata": {},
   "outputs": [],
   "source": [
    "df3[22, \"full_path\"].to_list()"
   ]
  },
  {
   "cell_type": "code",
   "execution_count": null,
   "id": "dd86e531-5089-43fc-9b86-89e23953502f",
   "metadata": {},
   "outputs": [],
   "source": [
    "df.schema[\"extract_segments\"].fields"
   ]
  },
  {
   "cell_type": "code",
   "execution_count": null,
   "id": "f2a98ca8-f41a-4485-a31e-cd35d22b92b5",
   "metadata": {},
   "outputs": [],
   "source": [
    "# TODO: use exclude after release including https://github.com/pola-rs/polars/issues/16661\n",
    "seg_col = pl.col(\"extract_columns\").struct.field\n",
    "df2 = (\n",
    "    df.head(10)\n",
    "    .with_columns(\n",
    "        divergence=pl.sum_horizontal(\n",
    "            seg_col(r\"\\|(mismatches|insertions|deletions)\").exclude(\n",
    "                r\"upstream\\|(mismatches|insertions|deletions)\",\n",
    "                r\"downstream\\|(mismatches|insertions|deletions)\",\n",
    "            )\n",
    "        )\n",
    "    )\n",
    "    .collect()\n",
    ")"
   ]
  },
  {
   "cell_type": "code",
   "execution_count": null,
   "id": "744885ad-ffca-477f-821a-1e0b65b7f60f",
   "metadata": {},
   "outputs": [],
   "source": [
    "seg_col = pl.col(\"extract_columns\").struct.field\n",
    "df2 = (\n",
    "    df.head(10)\n",
    "    .with_columns(\n",
    "        divergence=pl.sum_horizontal(\n",
    "            [\n",
    "                seg_col(f\"{s[1:]}|{type_}\").fill_null(strategy=\"zero\")\n",
    "                for type_ in (\"matches\", \"mismatches\", \"insertions\", \"deletions\")\n",
    "                for s in forward_segments\n",
    "            ]\n",
    "        )\n",
    "    )\n",
    "    .collect()\n",
    ")"
   ]
  },
  {
   "cell_type": "code",
   "execution_count": null,
   "id": "12eddf4c-244b-462f-905a-2b4abaf36776",
   "metadata": {},
   "outputs": [],
   "source": [
    "df2[\"divergence\"]"
   ]
  },
  {
   "cell_type": "code",
   "execution_count": null,
   "id": "f452a508-a985-424f-a1ba-f59bae97657c",
   "metadata": {},
   "outputs": [],
   "source": [
    "df2 = df.filter(pl.col(\"end_to_end\")).with_columns(\n",
    "    barcode=pl.concat_list(\n",
    "        [\n",
    "            pl.col(\"extract_segments\").struct.field(f\"BC:bit{idx}|variant\")\n",
    "            for idx in range(30)\n",
    "        ]\n",
    "    )\n",
    ")"
   ]
  },
  {
   "cell_type": "code",
   "execution_count": null,
   "id": "c4f498f4-7881-4760-ab8a-497838ac3da9",
   "metadata": {},
   "outputs": [],
   "source": [
    "df3 = df2.head(100).collect()"
   ]
  },
  {
   "cell_type": "code",
   "execution_count": null,
   "id": "c2c4fd3c-13fc-4e1a-b7e4-b71e9f82ed5d",
   "metadata": {},
   "outputs": [],
   "source": [
    "%%time\n",
    "df4 = df2.filter(pl.col(\"barcode\") == df3[22, \"barcode\"].to_list()).collect()"
   ]
  },
  {
   "cell_type": "code",
   "execution_count": null,
   "id": "76c14186-81ad-442a-8045-4dd2c7553c7d",
   "metadata": {},
   "outputs": [],
   "source": [
    "df4"
   ]
  }
 ],
 "metadata": {
  "kernelspec": {
   "display_name": "Python 3 (ipykernel)",
   "language": "python",
   "name": "python3"
  },
  "language_info": {
   "codemirror_mode": {
    "name": "ipython",
    "version": 3
   },
   "file_extension": ".py",
   "mimetype": "text/x-python",
   "name": "python",
   "nbconvert_exporter": "python",
   "pygments_lexer": "ipython3",
   "version": "3.11.9"
  }
 },
 "nbformat": 4,
 "nbformat_minor": 5
}
