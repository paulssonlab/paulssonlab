{
 "cells": [
  {
   "cell_type": "code",
   "execution_count": null,
   "id": "41c57f7d-eb34-40e9-b810-10d4c44d68b2",
   "metadata": {},
   "outputs": [],
   "source": [
    "import itertools as it\n",
    "from collections import Counter, defaultdict\n",
    "from functools import partial\n",
    "from glob import glob\n",
    "from pathlib import Path\n",
    "\n",
    "import gfapy\n",
    "import holoviews as hv\n",
    "import hvplot.pandas\n",
    "import matplotlib.pyplot as plt\n",
    "import numpy as np\n",
    "import pandas as pd\n",
    "import polars as pl\n",
    "import pyarrow as pa\n",
    "import pyarrow.compute as pc\n",
    "import pyarrow.dataset as ds\n",
    "from tqdm.auto import tqdm, trange"
   ]
  },
  {
   "cell_type": "code",
   "execution_count": null,
   "id": "f4ec68fd-4dab-43a1-a74d-fc2137f04acb",
   "metadata": {},
   "outputs": [],
   "source": [
    "%load_ext autoreload\n",
    "%autoreload 2"
   ]
  },
  {
   "cell_type": "code",
   "execution_count": null,
   "id": "6d3d323b-2fd5-44cd-b9b0-ed41db593de3",
   "metadata": {},
   "outputs": [],
   "source": [
    "import paulssonlab.sequencing.align as align\n",
    "import paulssonlab.sequencing.cigar as scigar\n",
    "import paulssonlab.sequencing.consensus as con\n",
    "import paulssonlab.sequencing.gfa as sgfa\n",
    "import paulssonlab.sequencing.io as sio\n",
    "import paulssonlab.sequencing.processing as processing\n",
    "from paulssonlab.util.sequence import reverse_complement"
   ]
  },
  {
   "cell_type": "code",
   "execution_count": null,
   "id": "f117a156-f6f6-423f-81be-bb5eed890a23",
   "metadata": {},
   "outputs": [],
   "source": [
    "hv.extension(\"bokeh\")"
   ]
  },
  {
   "cell_type": "code",
   "execution_count": null,
   "id": "d286b864-7447-4195-8a34-2ede229b0b4c",
   "metadata": {},
   "outputs": [],
   "source": [
    "pl.enable_string_cache()"
   ]
  },
  {
   "cell_type": "markdown",
   "id": "e5c5f417-e951-4a21-a5e9-b8c4182a17e3",
   "metadata": {},
   "source": [
    "# Functions"
   ]
  },
  {
   "cell_type": "code",
   "execution_count": null,
   "id": "34ec49ac-7ef6-41d8-aed9-9182a4f5d3d5",
   "metadata": {},
   "outputs": [],
   "source": [
    "def concat_glob(filename):\n",
    "    return pl.concat([pl.scan_ipc(f) for f in glob(filename)], how=\"diagonal\")"
   ]
  },
  {
   "cell_type": "code",
   "execution_count": null,
   "id": "8a522183-c80d-4ea6-8144-e3675432ca6d",
   "metadata": {},
   "outputs": [],
   "source": [
    "def load_sequencing(filename, filter=True, path_col=\"variants_path\"):\n",
    "    df = concat_glob(filename)\n",
    "    df = df.with_columns(\n",
    "        dup=pl.col(\"name\").is_duplicated(),\n",
    "        primary_alignment=pl.col(\"name\").is_first_distinct(),\n",
    "    )\n",
    "    if filter:\n",
    "        df = df.filter(pl.col(\"primary_alignment\"))\n",
    "    df = df.with_columns(\n",
    "        e2e=pl.col(path_col)\n",
    "        .list.set_intersection([\"<UNS9\", \">UNS9\", \"<UNS3\", \">UNS3\"])\n",
    "        .list.len()\n",
    "        == 2,\n",
    "        bc_e2e=pl.col(path_col)\n",
    "        .list.set_intersection(\n",
    "            [\"<BC:T7_prom\", \">BC:T7_prom\", \"<BC:spacer2\", \">BC:spacer2\"]\n",
    "        )\n",
    "        .list.len()\n",
    "        == 2,\n",
    "    )\n",
    "    if filter:\n",
    "        df = df.filter(pl.col(\"e2e\"))\n",
    "    return df"
   ]
  },
  {
   "cell_type": "markdown",
   "id": "2cf81637-5192-4ebe-8587-28fd7f5ab7bd",
   "metadata": {},
   "source": [
    "# Analysis"
   ]
  },
  {
   "cell_type": "code",
   "execution_count": null,
   "id": "474f30d2-e02d-4aad-9aa0-92ef3a162ea5",
   "metadata": {},
   "outputs": [],
   "source": [
    "%%time\n",
    "df = load_sequencing(\n",
    "    \"/home/jqs1/scratch/sequencing/240513_pLIB473_476/20240513_1645_2C_PAW46239_b49d575f/output/max_divergence=0.3/prepare_reads/*.arrow\",\n",
    "    path_col=\"full_path\",\n",
    ")  # .collect()"
   ]
  },
  {
   "cell_type": "code",
   "execution_count": null,
   "id": "3ccdd82e-e727-45c9-a8c7-3949be72a21b",
   "metadata": {},
   "outputs": [],
   "source": [
    "%%time\n",
    "df = concat_glob(\n",
    "    \"/home/jqs1/scratch/sequencing/240513_pLIB473_476/20240513_1645_2C_PAW46239_b49d575f/output/max_divergence=0.3/prepare_reads/*.arrow\"\n",
    ")\n",
    "df = df.with_columns(\n",
    "    # dup=pl.col(\"name\").is_duplicated(),\n",
    "    primary_alignment=pl.col(\"name\").is_first_distinct(),\n",
    ")\n",
    "df = df.filter(pl.col(\"primary_alignment\"))\n",
    "df = df.filter(pl.col(\"path_hash\") % 10000 == 17)\n",
    "df = df.with_columns(\n",
    "    e2e=pl.col(\"full_path\")\n",
    "    .list.set_intersection([\"<UNS9\", \">UNS9\", \"<UNS3\", \">UNS3\"])\n",
    "    .list.len()\n",
    "    == 2,\n",
    "    bc_e2e=pl.col(\"full_path\")\n",
    "    .list.set_intersection([\"<BC:T7_prom\", \">BC:T7_prom\", \"<BC:spacer2\", \">BC:spacer2\"])\n",
    "    .list.len()\n",
    "    == 2,\n",
    ")\n",
    "df = df.filter(pl.col(\"e2e\"))\n",
    "df = df.collect()"
   ]
  },
  {
   "cell_type": "code",
   "execution_count": null,
   "id": "7dd7d5b0-8333-4ad3-bf34-358216f0145e",
   "metadata": {},
   "outputs": [],
   "source": [
    "0"
   ]
  },
  {
   "cell_type": "code",
   "execution_count": null,
   "id": "e449b899-6abc-4cf6-976e-93b12699b01f",
   "metadata": {},
   "outputs": [],
   "source": [
    "%%time\n",
    "df.select(pl.len()).collect()"
   ]
  },
  {
   "cell_type": "code",
   "execution_count": null,
   "id": "93da4ca7-3268-4be4-8b64-30db617f52f9",
   "metadata": {},
   "outputs": [],
   "source": [
    "%%time\n",
    "df.select(pl.len()).collect()"
   ]
  },
  {
   "cell_type": "code",
   "execution_count": null,
   "id": "e20a79f6-5195-4dc3-bafd-eb94250a2ac8",
   "metadata": {
    "jupyter": {}
   },
   "outputs": [],
   "source": [
    "df.columns"
   ]
  },
  {
   "cell_type": "code",
   "execution_count": null,
   "id": "7f036af8-2475-4915-b03d-aed52d4ad4bf",
   "metadata": {},
   "outputs": [],
   "source": [
    "%%time\n",
    "names = df.filter(pl.col(\"name\").is_duplicated().not_()).select(\"name\").collect()"
   ]
  },
  {
   "cell_type": "code",
   "execution_count": null,
   "id": "ee2fcf25-ab2a-4d26-9087-57e29a73f165",
   "metadata": {},
   "outputs": [],
   "source": [
    "%%time\n",
    "names = df.filter(pl.col(\"name\").is_first_distinct()).select(\"name\").collect()"
   ]
  },
  {
   "cell_type": "code",
   "execution_count": null,
   "id": "b9e09bd3-ae99-4c8f-b903-4342eefe2ac3",
   "metadata": {},
   "outputs": [],
   "source": [
    "df2 = df.with_columns(\n",
    "    # dup=pl.col(\"name\").is_duplicated(),\n",
    "    # primary_alignment=pl.col(\"name\").is_first_distinct(),\n",
    "    e2e=pl.col(\"full_path\")\n",
    "    .list.set_intersection([\"<UNS9\", \">UNS9\", \"<UNS3\", \">UNS3\"])\n",
    "    .list.len()\n",
    "    == 2,\n",
    "    bc_e2e=pl.col(\"full_path\")\n",
    "    .list.set_intersection([\"<BC:T7_prom\", \">BC:T7_prom\", \"<BC:spacer2\", \">BC:spacer2\"])\n",
    "    .list.len()\n",
    "    == 2,\n",
    ")"
   ]
  },
  {
   "cell_type": "code",
   "execution_count": null,
   "id": "a7ed5c26-5013-4a1b-90cc-76fa6123be91",
   "metadata": {},
   "outputs": [],
   "source": [
    "%%time\n",
    "names = df2.filter(pl.col(\"name\").is_first_distinct()).select(\"name\").collect()"
   ]
  },
  {
   "cell_type": "code",
   "execution_count": null,
   "id": "b3d22f70-3904-4ea9-adcc-a9fd30495339",
   "metadata": {},
   "outputs": [],
   "source": [
    "%%time\n",
    "names = df.filter(pl.col(\"primary_alignment\")).select(\"name\").collect()"
   ]
  },
  {
   "cell_type": "code",
   "execution_count": null,
   "id": "5369ab27-9909-4d03-9961-ba70f9bab672",
   "metadata": {},
   "outputs": [],
   "source": [
    "names"
   ]
  },
  {
   "cell_type": "code",
   "execution_count": null,
   "id": "4f6f2a9e-1f0b-4434-a761-169fd2723f9e",
   "metadata": {},
   "outputs": [],
   "source": [
    "%%time\n",
    "paths_by_barcode = (\n",
    "    df.filter(\n",
    "        # pl.col(\"primary_alignment\"), pl.col(\"e2e\"), pl.col(\"path_hash\") % 10000 == 17\n",
    "        pl.col(\"path_hash\") % 10000\n",
    "        == 17\n",
    "    )\n",
    "    # .group_by(\"path_hash\")\n",
    "    # .agg(\n",
    "    #     pl.col(\"path\").first(),\n",
    "    #     pl.struct(\"full_path\", \"reverse_complement\").value_counts(),\n",
    "    # )\n",
    "    .collect()\n",
    ")"
   ]
  },
  {
   "cell_type": "code",
   "execution_count": null,
   "id": "4daa214a-2dda-456f-9522-30a46c59105a",
   "metadata": {},
   "outputs": [],
   "source": [
    "0"
   ]
  },
  {
   "cell_type": "code",
   "execution_count": null,
   "id": "1fd22233-a90e-4bcd-9573-2f22ec35fd77",
   "metadata": {},
   "outputs": [],
   "source": [
    "paths_by_barcode"
   ]
  },
  {
   "cell_type": "code",
   "execution_count": null,
   "id": "67baf802-0832-4f89-953c-11f35979203f",
   "metadata": {},
   "outputs": [],
   "source": [
    "%%time\n",
    "x = paths_by_barcode.group_by(\"path_hash\").agg(\n",
    "    pl.col(\"path\").first(),\n",
    "    pl.struct(\"full_path\", \"reverse_complement\").value_counts().alias(\"paths\"),\n",
    ")"
   ]
  },
  {
   "cell_type": "code",
   "execution_count": null,
   "id": "9b949b08-a22e-4e9c-acdf-98b5d43d6c8d",
   "metadata": {},
   "outputs": [],
   "source": [
    "x.select(pl.col(\"paths\").list.len()).sort(\"paths\")"
   ]
  },
  {
   "cell_type": "code",
   "execution_count": null,
   "id": "5e82680f-1589-4769-b6f0-710dcb5ab293",
   "metadata": {},
   "outputs": [],
   "source": [
    "%%time\n",
    "paths_by_barcode = (\n",
    "    df.filter(\n",
    "        # pl.col(\"primary_alignment\"), pl.col(\"e2e\"), pl.col(\"path_hash\") % 10000 == 0\n",
    "        pl.col(\"path_hash\") % 10000\n",
    "        == 0\n",
    "    )\n",
    "    .group_by(\"path_hash\")\n",
    "    .agg(\n",
    "        pl.col(\"path\").first(),\n",
    "        pl.struct(\"full_path\", \"reverse_complement\").value_counts(),\n",
    "    )\n",
    "    .collect()\n",
    ")"
   ]
  },
  {
   "cell_type": "code",
   "execution_count": null,
   "id": "d694876d-885d-4e5c-87b8-997682a72669",
   "metadata": {},
   "outputs": [],
   "source": [
    "df2 = df.head(1000).collect()"
   ]
  },
  {
   "cell_type": "code",
   "execution_count": null,
   "id": "fce2214f-ed0b-49f8-bc85-a1c25e01836d",
   "metadata": {},
   "outputs": [],
   "source": [
    "df2"
   ]
  },
  {
   "cell_type": "code",
   "execution_count": null,
   "id": "00045eb3-d994-4998-9a83-2476bc392bd9",
   "metadata": {},
   "outputs": [],
   "source": [
    "df.head(100).collect()[\"path\"]"
   ]
  },
  {
   "cell_type": "code",
   "execution_count": null,
   "id": "e699441e-cdb3-4ba9-b18b-2a8e5259ccca",
   "metadata": {},
   "outputs": [],
   "source": [
    "df.columns"
   ]
  },
  {
   "cell_type": "code",
   "execution_count": null,
   "id": "a9b1e927-9ed7-4dd3-b803-6da62cb914ae",
   "metadata": {},
   "outputs": [],
   "source": [
    "gfa = gfapy.Gfa.from_file(\n",
    "    \"/home/jqs1/scratch/sequencing/sequencing_references/pLIB473-476.gfa\"\n",
    ")"
   ]
  },
  {
   "cell_type": "code",
   "execution_count": null,
   "id": "f65566fd-3fb1-46fe-b176-0c8dc199886f",
   "metadata": {},
   "outputs": [],
   "source": [
    "df = df.with_columns(\n",
    "    pl.col(\"extract_segments\").struct.with_fields(\n",
    "        pl.field(\"repressor:promoter|variant\").replace({\"pLacI\": \"pTac\"})\n",
    "    )\n",
    ")"
   ]
  },
  {
   "cell_type": "code",
   "execution_count": null,
   "id": "5715e45b-9097-4ab7-8d5e-9ee1f23eb665",
   "metadata": {},
   "outputs": [],
   "source": [
    "df = processing.compute_divergences(\n",
    "    df,\n",
    "    list(dict.fromkeys(([s.split(\"=\")[0] for s in gfa.segment_names]))),\n",
    "    struct_name=\"extract_segments\",\n",
    ")\n",
    "df2 = df.unnest(\"extract_segments\")"
   ]
  },
  {
   "cell_type": "code",
   "execution_count": null,
   "id": "e7fc02e4-5c8a-4cba-bc3a-3dbb61871312",
   "metadata": {},
   "outputs": [],
   "source": [
    "df2[\"repressor:promoter|variant\"].value_counts()"
   ]
  },
  {
   "cell_type": "code",
   "execution_count": null,
   "id": "189914d2-7412-4484-af19-cf8a94bc0fb2",
   "metadata": {},
   "outputs": [],
   "source": [
    "df2[\"repressor|variant\"].value_counts()"
   ]
  },
  {
   "cell_type": "code",
   "execution_count": null,
   "id": "a52f6f43-2d31-44ad-8cf2-4af616bf502e",
   "metadata": {},
   "outputs": [],
   "source": [
    "df2.group_by(\"repressor:promoter|variant\", \"repressor|variant\").agg(pl.len()).sort(\n",
    "    \"len\", descending=True\n",
    ")"
   ]
  },
  {
   "cell_type": "code",
   "execution_count": null,
   "id": "787a0c44-46e8-4e90-84ab-b282c16d4a89",
   "metadata": {},
   "outputs": [],
   "source": [
    "df2.select(pl.col(r\"^.*\\|divergence$\")).quantile(0.9).to_pandas().T.sort_values(0)"
   ]
  },
  {
   "cell_type": "code",
   "execution_count": null,
   "id": "c3ad42c3-9d14-464e-9cc0-6876f53da5cf",
   "metadata": {},
   "outputs": [],
   "source": [
    "df2 = df2.with_columns(\n",
    "    max_divergence=pl.max_horizontal(\n",
    "        pl.col(r\"^.*\\|divergence$\").exclude(\n",
    "            \"term:DT3|divergence\", \"JUNC10_UNS10|divergence\"\n",
    "        )\n",
    "    )\n",
    ")"
   ]
  },
  {
   "cell_type": "code",
   "execution_count": null,
   "id": "8b3718d1-2d95-47d3-9957-68099c6860e8",
   "metadata": {},
   "outputs": [],
   "source": [
    "plt.hist(df2[\"max_divergence\"], bins=100, log=True);"
   ]
  },
  {
   "cell_type": "code",
   "execution_count": null,
   "id": "b3fe4842-e2f0-4e4a-823a-14b68987f268",
   "metadata": {},
   "outputs": [],
   "source": [
    "df2.filter(pl.col(\"max_divergence\") > 0.01)"
   ]
  },
  {
   "cell_type": "code",
   "execution_count": null,
   "id": "14177273-4d14-47b0-8829-7635a9acc084",
   "metadata": {},
   "outputs": [],
   "source": [
    "df2.filter(pl.col(\"max_divergence\") > 0.01).select(\n",
    "    pl.col(r\"^.*\\|divergence$\")\n",
    ").quantile(0.9).to_pandas().T.sort_values(0)"
   ]
  },
  {
   "cell_type": "code",
   "execution_count": null,
   "id": "7d947f8f-5d2c-4b77-a965-632f073ccbec",
   "metadata": {},
   "outputs": [],
   "source": [
    "plt.hist(df2[\"max_divergence\"], bins=100, log=True);"
   ]
  },
  {
   "cell_type": "code",
   "execution_count": null,
   "id": "76d212ac-b167-468e-989b-307342be1159",
   "metadata": {},
   "outputs": [],
   "source": [
    "counts = df2.select(\n",
    "    pl.struct(\"RBS1:RBS|seq\", \"RBS2:RBS|seq\", \"RBS3:RBS|seq\").alias(\"foo\")\n",
    ")[\"foo\"].value_counts(sort=True)"
   ]
  },
  {
   "cell_type": "code",
   "execution_count": null,
   "id": "6510e6dc-1cbc-4bb9-9866-e64233ca9e5a",
   "metadata": {},
   "outputs": [],
   "source": [
    "counts[\"count\"].to_pandas().hvplot.step(logy=True, logx=True)"
   ]
  },
  {
   "cell_type": "code",
   "execution_count": null,
   "id": "28d7aabf-c1b1-4c4f-a9d8-b17706db8464",
   "metadata": {},
   "outputs": [],
   "source": [
    "df[\"grouping_depth\"].sort(descending=True).to_pandas().hvplot.step(logy=True)"
   ]
  },
  {
   "cell_type": "code",
   "execution_count": null,
   "id": "d28390c8-19cf-40a7-b2fd-3744dc999d20",
   "metadata": {},
   "outputs": [],
   "source": [
    "counts.filter(pl.col(\"count\") == 1)"
   ]
  },
  {
   "cell_type": "code",
   "execution_count": null,
   "id": "9afa7538-8dbb-4c4c-befb-8f307fe5a72f",
   "metadata": {},
   "outputs": [],
   "source": [
    "counts.filter(pl.col(\"count\") > 5)"
   ]
  },
  {
   "cell_type": "code",
   "execution_count": null,
   "id": "25cc3146-2745-406f-84e0-cd72ee4ce696",
   "metadata": {},
   "outputs": [],
   "source": [
    "with pl.Config(tbl_rows=100):\n",
    "    display(counts)"
   ]
  },
  {
   "cell_type": "code",
   "execution_count": null,
   "id": "7c2c722f-43c4-4dbd-980f-43b05950948a",
   "metadata": {},
   "outputs": [],
   "source": [
    "perfect_segments = [\n",
    "    \"pBetI\",\n",
    "    \"RBS1:upstream\",\n",
    "    \"LacI\",\n",
    "    \"pTac\",\n",
    "    \"RBS2:upstream\",\n",
    "    \"PhlF\",\n",
    "    \"pPhlF\",\n",
    "    \"RBS3:upstream\",\n",
    "    \"BetI\",\n",
    "]"
   ]
  },
  {
   "cell_type": "code",
   "execution_count": null,
   "id": "b0b99e44-4c78-4acd-a704-d48170347aba",
   "metadata": {},
   "outputs": [],
   "source": [
    "df2.filter(*[pl.col(f\"{s}|divergence\") == 0 for s in perfect_segments]).select(\n",
    "    pl.struct(\"RBS1:RBS|seq\", \"RBS2:RBS|seq\", \"RBS3:RBS|seq\").alias(\"foo\")\n",
    ")[\"foo\"].value_counts(sort=True)"
   ]
  },
  {
   "cell_type": "code",
   "execution_count": null,
   "id": "dcdd4093-fec5-4bf8-97a2-c0beefb7f3ff",
   "metadata": {},
   "outputs": [],
   "source": [
    "filter_columns = [\n",
    "    \"promoter|divergence\",\n",
    "    \"ScmJ|divergence\",\n",
    "    \"RBS:RiboJ|divergence\",\n",
    "    \"RBS:BCD_leader|divergence\",\n",
    "    \"repressor:promoter|divergence\",\n",
    "    \"repressor|divergence\",\n",
    "    \"mVenus|divergence\",\n",
    "]"
   ]
  },
  {
   "cell_type": "code",
   "execution_count": null,
   "id": "cdc3924a-7d7a-4f9c-b8d8-e890f9cd313c",
   "metadata": {},
   "outputs": [],
   "source": [
    "157_002 / len(df2)"
   ]
  },
  {
   "cell_type": "code",
   "execution_count": null,
   "id": "2a433333-80ef-4727-8a47-2bff418930b4",
   "metadata": {},
   "outputs": [],
   "source": [
    "df2.filter(*[pl.col(c) == 0 for c in filter_columns])"
   ]
  },
  {
   "cell_type": "code",
   "execution_count": null,
   "id": "06dd5587-8903-4350-a719-7d536bc2659e",
   "metadata": {},
   "outputs": [],
   "source": [
    "%%time\n",
    "cols = [\"grouping_path\", \"variants_path\", \"grouping_depth\"]\n",
    "df_joined = df_240703.select(cols).join(\n",
    "    df_240703b.select(cols),\n",
    "    on=processing.categorical_list_hash(pl.col(\"grouping_path\")),\n",
    "    # on=\"grouping_path_hash\",\n",
    "    how=\"full\",\n",
    "    suffix=\"_b\",\n",
    ")"
   ]
  }
 ],
 "metadata": {
  "kernelspec": {
   "display_name": "Python 3 (ipykernel)",
   "language": "python",
   "name": "python3"
  },
  "language_info": {
   "codemirror_mode": {
    "name": "ipython",
    "version": 3
   },
   "file_extension": ".py",
   "mimetype": "text/x-python",
   "name": "python",
   "nbconvert_exporter": "python",
   "pygments_lexer": "ipython3",
   "version": "3.11.9"
  }
 },
 "nbformat": 4,
 "nbformat_minor": 5
}