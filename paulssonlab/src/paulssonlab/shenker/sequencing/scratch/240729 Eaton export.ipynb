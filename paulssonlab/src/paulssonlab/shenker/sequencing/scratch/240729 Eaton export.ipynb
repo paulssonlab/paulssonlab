{
 "cells": [
  {
   "cell_type": "code",
   "execution_count": null,
   "id": "41c57f7d-eb34-40e9-b810-10d4c44d68b2",
   "metadata": {},
   "outputs": [],
   "source": [
    "import itertools as it\n",
    "from collections import Counter, defaultdict\n",
    "from functools import partial\n",
    "from glob import glob\n",
    "from pathlib import Path\n",
    "\n",
    "import gfapy\n",
    "import holoviews as hv\n",
    "import hvplot.pandas\n",
    "import matplotlib.pyplot as plt\n",
    "import numpy as np\n",
    "import pandas as pd\n",
    "import polars as pl\n",
    "import pyarrow as pa\n",
    "import pyarrow.compute as pc\n",
    "import pyarrow.dataset as ds\n",
    "from tqdm.auto import tqdm, trange"
   ]
  },
  {
   "cell_type": "code",
   "execution_count": null,
   "id": "f4ec68fd-4dab-43a1-a74d-fc2137f04acb",
   "metadata": {},
   "outputs": [],
   "source": [
    "%load_ext autoreload\n",
    "%autoreload 2"
   ]
  },
  {
   "cell_type": "code",
   "execution_count": null,
   "id": "6d3d323b-2fd5-44cd-b9b0-ed41db593de3",
   "metadata": {},
   "outputs": [],
   "source": [
    "import paulssonlab.sequencing.align as align\n",
    "import paulssonlab.sequencing.cigar as scigar\n",
    "import paulssonlab.sequencing.consensus as con\n",
    "import paulssonlab.sequencing.gfa as sgfa\n",
    "import paulssonlab.sequencing.io as sio\n",
    "import paulssonlab.sequencing.processing as processing\n",
    "from paulssonlab.util.sequence import reverse_complement"
   ]
  },
  {
   "cell_type": "code",
   "execution_count": null,
   "id": "f117a156-f6f6-423f-81be-bb5eed890a23",
   "metadata": {},
   "outputs": [],
   "source": [
    "hv.extension(\"bokeh\")"
   ]
  },
  {
   "cell_type": "code",
   "execution_count": null,
   "id": "d286b864-7447-4195-8a34-2ede229b0b4c",
   "metadata": {},
   "outputs": [],
   "source": [
    "pl.enable_string_cache()"
   ]
  },
  {
   "cell_type": "markdown",
   "id": "e5c5f417-e951-4a21-a5e9-b8c4182a17e3",
   "metadata": {},
   "source": [
    "# Functions"
   ]
  },
  {
   "cell_type": "code",
   "execution_count": null,
   "id": "34ec49ac-7ef6-41d8-aed9-9182a4f5d3d5",
   "metadata": {},
   "outputs": [],
   "source": [
    "def concat_glob(filename):\n",
    "    return pl.concat([pl.scan_ipc(f) for f in glob(filename)], how=\"diagonal\")"
   ]
  },
  {
   "cell_type": "code",
   "execution_count": null,
   "id": "836fb631-e74b-4460-ad5c-3e0dc3626025",
   "metadata": {},
   "outputs": [],
   "source": [
    "def label_columns(cols, func=None):\n",
    "    expr = None\n",
    "    for col in cols:\n",
    "        if expr is None:\n",
    "            expr = pl.when(pl.col(col).is_not_null())\n",
    "        else:\n",
    "            expr = expr.when(pl.col(col).is_not_null())\n",
    "        if func is not None:\n",
    "            lit = func(col)\n",
    "        else:\n",
    "            lit = col\n",
    "        expr = expr.then(pl.lit(lit))\n",
    "    return expr"
   ]
  },
  {
   "cell_type": "code",
   "execution_count": null,
   "id": "8a522183-c80d-4ea6-8144-e3675432ca6d",
   "metadata": {},
   "outputs": [],
   "source": [
    "def load_sequencing(filename, filter=True):\n",
    "    df = concat_glob(filename)\n",
    "    df = df.with_columns(\n",
    "        dup=pl.col(\"name\").is_duplicated(),\n",
    "        primary_alignment=pl.col(\"name\").is_first_distinct(),\n",
    "        e2e=pl.col(\"variants_path\")\n",
    "        .list.set_intersection([\"<UNS9\", \">UNS9\", \"<UNS3\", \">UNS3\"])\n",
    "        .list.len()\n",
    "        == 2,\n",
    "        bc_e2e=pl.col(\"variants_path\")\n",
    "        .list.set_intersection(\n",
    "            [\"<BC:T7_prom\", \">BC:T7_prom\", \"<BC:spacer2\", \">BC:spacer2\"]\n",
    "        )\n",
    "        .list.len()\n",
    "        == 2,\n",
    "    )\n",
    "    if filter:\n",
    "        df = df.filter(pl.col(\"primary_alignment\"), pl.col(\"e2e\"))\n",
    "    return df"
   ]
  },
  {
   "cell_type": "code",
   "execution_count": null,
   "id": "e737e6ca-b650-4b59-9d2a-22b389de6a7b",
   "metadata": {},
   "outputs": [],
   "source": [
    "def path_to_barcode_string(path_col, bits=list(range(30))):\n",
    "    if isinstance(path_col, str):\n",
    "        path_col = pl.col(path_col)\n",
    "    return pl.concat_str(\n",
    "        [\n",
    "            pl.when(\n",
    "                path_col.list.contains(f\">BC:bit{bit}=1\").or_(\n",
    "                    path_col.list.contains(f\"<BC:bit{bit}=1\")\n",
    "                )\n",
    "            )\n",
    "            .then(pl.lit(\"1\"))\n",
    "            .otherwise(pl.lit(\"0\"))\n",
    "            for bit in bits\n",
    "        ]\n",
    "    )"
   ]
  },
  {
   "cell_type": "markdown",
   "id": "a0c3a994-0d69-42e4-9f95-a93a0d00ebb7",
   "metadata": {},
   "source": [
    "# 240703_pLIB476_bottlenecked"
   ]
  },
  {
   "cell_type": "code",
   "execution_count": null,
   "id": "8c777266-dd63-4c38-a5ee-77685c98cda8",
   "metadata": {},
   "outputs": [],
   "source": [
    "%%time\n",
    "df = load_sequencing(\n",
    "    \"/home/jqs1/scratch/sequencing/240703_pLIB476_bottlenecked/output/max_divergence=0.3/extract_segments/*.arrow\"\n",
    ").collect()"
   ]
  },
  {
   "cell_type": "code",
   "execution_count": null,
   "id": "d64f4fdf-fa16-4f58-8866-2fc1b014f16d",
   "metadata": {},
   "outputs": [],
   "source": [
    "gfa = gfapy.Gfa.from_file(\n",
    "    \"/home/jqs1/scratch/sequencing/240703_pLIB476_bottlenecked/references/pLIB476jqs.gfa\"\n",
    ")"
   ]
  },
  {
   "cell_type": "code",
   "execution_count": null,
   "id": "ed37910d-5383-401a-a0ed-82089c1e63f6",
   "metadata": {},
   "outputs": [],
   "source": [
    "df2 = processing.compute_divergences(\n",
    "    df,\n",
    "    list(dict.fromkeys(([s.split(\"=\")[0] for s in gfa.segment_names]))),\n",
    "    struct_name=\"extract_segments\",\n",
    ")"
   ]
  },
  {
   "cell_type": "code",
   "execution_count": null,
   "id": "a87ef516-d8ae-4878-af14-aa9ce5145071",
   "metadata": {},
   "outputs": [],
   "source": [
    "df2 = df2.filter(pl.col(\"grouping_depth\") != 1)"
   ]
  },
  {
   "cell_type": "code",
   "execution_count": null,
   "id": "da6fbd83-cb06-4f4f-abde-f3401b3443f6",
   "metadata": {},
   "outputs": [],
   "source": [
    "df[\"extract_segments\"].struct.fields"
   ]
  },
  {
   "cell_type": "code",
   "execution_count": null,
   "id": "7b67570f-c49f-4452-9f2b-e4e29b02756e",
   "metadata": {},
   "outputs": [],
   "source": [
    "df[\"max_divergence\"].value_counts().sort(\"max_divergence\")"
   ]
  },
  {
   "cell_type": "code",
   "execution_count": null,
   "id": "6472d271-0be1-46d1-a1c2-7e8fff4e8eee",
   "metadata": {},
   "outputs": [],
   "source": [
    "plt.hist(df4[\"max_divergence\"], bins=100);"
   ]
  },
  {
   "cell_type": "code",
   "execution_count": null,
   "id": "a578cab2-b6b6-4488-9e36-6ce3c3adfa48",
   "metadata": {},
   "outputs": [],
   "source": [
    "df3.filter(pl.col(\"grouping_depth\") < 10)"
   ]
  },
  {
   "cell_type": "code",
   "execution_count": null,
   "id": "de5e80ff-35f9-412d-b204-d804fdb7d648",
   "metadata": {},
   "outputs": [],
   "source": [
    "df3.sort(\"grouping_depth\").select(\n",
    "    pl.col(\"grouping_depth\"),\n",
    "    frac_barcodes=pl.int_range(1, pl.len() + 1, dtype=pl.UInt32) / pl.len(),\n",
    "    frac_reads=pl.col(\"grouping_depth\").cum_sum() / pl.col(\"grouping_depth\").sum(),\n",
    ").to_pandas().hvplot.step(\"grouping_depth\", logx=True, logy=False, where=\"pre\")"
   ]
  },
  {
   "cell_type": "code",
   "execution_count": null,
   "id": "187e0a06-382c-4503-a4cb-0d9b4bf0b642",
   "metadata": {},
   "outputs": [],
   "source": [
    "df4.filter(pl.col(\"max_divergence\") > 0.05).sort(\"grouping_depth\").select(\n",
    "    pl.col(\"grouping_depth\"),\n",
    "    frac_barcodes=pl.int_range(1, pl.len() + 1, dtype=pl.UInt32) / pl.len(),\n",
    "    frac_reads=pl.col(\"grouping_depth\").cum_sum() / pl.col(\"grouping_depth\").sum(),\n",
    ").to_pandas().hvplot.step(\"grouping_depth\", logx=True, logy=False, where=\"pre\")"
   ]
  },
  {
   "cell_type": "code",
   "execution_count": null,
   "id": "c0f8fc35-1c7e-42b9-bcaa-e6044ce98c61",
   "metadata": {},
   "outputs": [],
   "source": [
    "%%time\n",
    "df3.select(processing.categorical_list_hash(pl.col(\"grouping_path\")).unique())"
   ]
  },
  {
   "cell_type": "code",
   "execution_count": null,
   "id": "2cf8bd8a-75d6-42a8-b1de-5bc46f286c43",
   "metadata": {},
   "outputs": [],
   "source": [
    "df3[\"grouping_depth\"].value_counts().sort(\"grouping_depth\").with_columns(\n",
    "    cum=pl.col(\"count\").cum_sum(reverse=True)\n",
    ").to_pandas().hvplot.step(\"grouping_depth\", \"cum\", logy=True)"
   ]
  },
  {
   "cell_type": "code",
   "execution_count": null,
   "id": "776c1494-a9e7-4b64-a93a-90e203c2231b",
   "metadata": {},
   "outputs": [],
   "source": [
    "plt.hist(df3[\"grouping_depth\"], bins=1000, log=True);"
   ]
  },
  {
   "cell_type": "markdown",
   "id": "2cf81637-5192-4ebe-8587-28fd7f5ab7bd",
   "metadata": {},
   "source": [
    "# Joins"
   ]
  },
  {
   "cell_type": "markdown",
   "id": "f2282d02-34f1-42ec-b2ad-3d65b9a803af",
   "metadata": {},
   "source": [
    "##  240703_pLIB476_bottlenecked with 240612_pLIB476_bottlenecked"
   ]
  },
  {
   "cell_type": "code",
   "execution_count": null,
   "id": "1cc10860-85cd-4c71-8659-089ca4724aaa",
   "metadata": {},
   "outputs": [],
   "source": [
    "%%time\n",
    "df_240703b = load_sequencing(\n",
    "    \"/home/jqs1/scratch/sequencing/240703_pLIB476_bottlenecked/output/max_divergence=0.3/extract_segments/*.arrow\"\n",
    ").collect()\n",
    "df_240610b = load_sequencing(\n",
    "    \"/home/jqs1/scratch/sequencing/240610_pLIB476_bottleneck/pLIB476_bottleneck/pLIB476/20240607_1433_MN35044_FAX60316_7d690112/output/max_divergence=0.3/extract_segments/*.arrow\"\n",
    ").collect()"
   ]
  },
  {
   "cell_type": "code",
   "execution_count": null,
   "id": "06dd5587-8903-4350-a719-7d536bc2659e",
   "metadata": {},
   "outputs": [],
   "source": [
    "%%time\n",
    "cols = [\"grouping_path\", \"variants_path\", \"grouping_depth\"]\n",
    "df_joined = df_240703b.select(cols).join(\n",
    "    df_240610b.select(cols),\n",
    "    on=processing.categorical_list_hash(pl.col(\"grouping_path\")),\n",
    "    how=\"full\",\n",
    "    suffix=\"_240610b\",\n",
    ")"
   ]
  },
  {
   "cell_type": "code",
   "execution_count": null,
   "id": "4a28dbfc-17a9-43b1-8946-6f5e30f1d496",
   "metadata": {},
   "outputs": [],
   "source": [
    "df_joined.group_by(\n",
    "    pl.col(\"grouping_path\").is_not_null(), pl.col(\"grouping_path_240610b\").is_not_null()\n",
    ").agg(pl.len()).rename(\n",
    "    {\n",
    "        \"grouping_path\": \"240703_bottlenecked\",\n",
    "        \"grouping_path_240610b\": \"240612_minion_bottlenecked\",\n",
    "    }\n",
    ")"
   ]
  },
  {
   "cell_type": "code",
   "execution_count": null,
   "id": "a5a47728-1f2f-4fd4-9635-51945e562d2d",
   "metadata": {},
   "outputs": [],
   "source": [
    "df_240703b.sort(\"grouping_depth\").select(\n",
    "    pl.col(\"grouping_depth\"),\n",
    "    frac_barcodes=pl.int_range(1, pl.len() + 1, dtype=pl.UInt32) / pl.len(),\n",
    "    frac_reads=pl.col(\"grouping_depth\").cum_sum() / pl.col(\"grouping_depth\").sum(),\n",
    ").to_pandas().hvplot.step(\"grouping_depth\", logx=True, logy=False, where=\"pre\")"
   ]
  },
  {
   "cell_type": "code",
   "execution_count": null,
   "id": "377cc717-9e39-4184-9035-6fb52a4b3e9b",
   "metadata": {},
   "outputs": [],
   "source": [
    "df_240610b.sort(\"grouping_depth\").select(\n",
    "    pl.col(\"grouping_depth\"),\n",
    "    frac_barcodes=pl.int_range(1, pl.len() + 1, dtype=pl.UInt32) / pl.len(),\n",
    "    frac_reads=pl.col(\"grouping_depth\").cum_sum() / pl.col(\"grouping_depth\").sum(),\n",
    ").to_pandas().hvplot.step(\"grouping_depth\", logx=True, logy=False, where=\"pre\")"
   ]
  },
  {
   "cell_type": "code",
   "execution_count": null,
   "id": "77e42f96-1d1f-4308-a39b-4b90b9455d80",
   "metadata": {},
   "outputs": [],
   "source": [
    "df_joined.select(\"grouping_depth\", \"grouping_depth_240610b\").to_pandas().hvplot.scatter(\n",
    "    \"grouping_depth\", \"grouping_depth_240610b\"\n",
    ")"
   ]
  },
  {
   "cell_type": "markdown",
   "id": "125e9666-308c-4bc4-932b-5dd39231e7c7",
   "metadata": {},
   "source": [
    "##  240703_pLIB476_bottlenecked with 240510_pLIB476"
   ]
  },
  {
   "cell_type": "code",
   "execution_count": null,
   "id": "f8c21bab-6d81-4389-9e5d-b6ff34020301",
   "metadata": {},
   "outputs": [],
   "source": [
    "%%time\n",
    "df_240703b = load_sequencing(\n",
    "    \"/home/jqs1/scratch/sequencing/240703_pLIB476_bottlenecked/output/max_divergence=0.3/extract_segments/*.arrow\"\n",
    ").collect()\n",
    "df_240513 = load_sequencing(\n",
    "    \"/home/jqs1/scratch/sequencing/240513_pLIB473_476/20240513_1645_2C_PAW46239_b49d575f/output/max_divergence=0.3/extract_segments/*.arrow\"\n",
    ").collect()"
   ]
  },
  {
   "cell_type": "code",
   "execution_count": null,
   "id": "b8813b4c-4673-47e9-855d-10fc3a638e92",
   "metadata": {},
   "outputs": [],
   "source": [
    "%%time\n",
    "cols = [\"grouping_path\", \"variants_path\", \"grouping_depth\"]\n",
    "df_joined = df_240703b.select(cols).join(\n",
    "    df_240610b.select(cols),\n",
    "    on=processing.categorical_list_hash(pl.col(\"grouping_path\")),\n",
    "    how=\"full\",\n",
    "    suffix=\"_240610b\",\n",
    ")"
   ]
  },
  {
   "cell_type": "code",
   "execution_count": null,
   "id": "ede8e268-2c40-4ea6-ada6-5dded9f5db8c",
   "metadata": {},
   "outputs": [],
   "source": [
    "df_joined.group_by(\n",
    "    pl.col(\"grouping_path\").is_not_null(), pl.col(\"grouping_path_240610b\").is_not_null()\n",
    ").agg(pl.len()).rename(\n",
    "    {\n",
    "        \"grouping_path\": \"240703_bottlenecked\",\n",
    "        \"grouping_path_240610b\": \"240612_minion_bottlenecked\",\n",
    "    }\n",
    ")"
   ]
  },
  {
   "cell_type": "markdown",
   "id": "bdf796ac-497f-4406-8748-0636f0b288a8",
   "metadata": {},
   "source": [
    "## J23100"
   ]
  },
  {
   "cell_type": "code",
   "execution_count": null,
   "id": "8c1e0f81-be2a-4892-9023-4499c4489543",
   "metadata": {},
   "outputs": [],
   "source": [
    "align.pairwise_align(\n",
    "    \"GGAGTTTACGGCTAGCTCAGTCCTAGGTACAGTGCTAGC\", \"GGAGTTGACGGCTAGCTCAGTCCTAGGTACAGTGCTAGC\"\n",
    ")"
   ]
  },
  {
   "cell_type": "code",
   "execution_count": null,
   "id": "97a40d2e-7700-4a0b-98a0-32e79cde53cd",
   "metadata": {},
   "outputs": [],
   "source": [
    "x = df2.filter(pl.col(\"promoter|seq\") == \"GGAGTTTACGGCTAGCTCAGTCCTAGGTACAGTGCTAGC\")"
   ]
  },
  {
   "cell_type": "code",
   "execution_count": null,
   "id": "e5c66b83-3f84-4d72-ae57-66c3e95ac96c",
   "metadata": {},
   "outputs": [],
   "source": [
    "x[0, \"cg\"]"
   ]
  },
  {
   "cell_type": "code",
   "execution_count": null,
   "id": "fab19069-ad65-4fb9-89c3-5e51a5b6e516",
   "metadata": {},
   "outputs": [],
   "source": [
    "x[0, \"realign_cg\"]"
   ]
  },
  {
   "cell_type": "code",
   "execution_count": null,
   "id": "3fd3041e-2cee-4136-a617-afe40188cc64",
   "metadata": {},
   "outputs": [],
   "source": [
    "idx = 0\n",
    "path = x[idx, \"variants_path\"]\n",
    "seq = x[idx, \"consensus_seq\"]"
   ]
  },
  {
   "cell_type": "code",
   "execution_count": null,
   "id": "9bc6c932-1e6f-4541-af7f-ff05b56bb09c",
   "metadata": {},
   "outputs": [],
   "source": [
    "name_to_seq = sgfa.gfa_name_mapping(gfa)\n",
    "ref_seq = sgfa.assemble_seq_from_path(name_to_seq, path)"
   ]
  },
  {
   "cell_type": "code",
   "execution_count": null,
   "id": "c972c016-d35d-427e-a45f-1dc5d0ae1b8f",
   "metadata": {},
   "outputs": [],
   "source": [
    "seq"
   ]
  },
  {
   "cell_type": "code",
   "execution_count": null,
   "id": "00578e2a-04be-42ab-bbd5-11518fc39240",
   "metadata": {},
   "outputs": [],
   "source": [
    "processing.pairwise_align(\n",
    "    seq,\n",
    "    ref_seq,\n",
    "    **{\"cigar_as_string\": True, \"method\": \"parasail\", \"degenerate\": True},\n",
    ")"
   ]
  },
  {
   "cell_type": "code",
   "execution_count": null,
   "id": "e1c0715f-58d1-400c-9f1b-923d4c15c736",
   "metadata": {},
   "outputs": [],
   "source": [
    "processing.pairwise_align(\n",
    "    seq,\n",
    "    ref_seq,\n",
    "    **{\"cigar_as_string\": True, \"method\": \"parasail\", \"degenerate\": False},\n",
    ")"
   ]
  },
  {
   "cell_type": "code",
   "execution_count": null,
   "id": "ef610040-7278-4ec1-989c-aabfd5214a69",
   "metadata": {},
   "outputs": [],
   "source": [
    "x.columns"
   ]
  },
  {
   "cell_type": "code",
   "execution_count": null,
   "id": "e53d69ae-5fce-4a07-b9a5-46278db5b1a4",
   "metadata": {},
   "outputs": [],
   "source": [
    "y = processing.cut_cigar_df(\n",
    "    x,\n",
    "    gfa,\n",
    "    path_column=\"variants_path\",\n",
    "    cigar_column=\"cg\",\n",
    "    sequence_column=\"consensus_seq\",\n",
    "    # phred_column=\"consensus_phred\",\n",
    "    query_start_column=\"query_start\",\n",
    "    query_end_column=\"query_end\",\n",
    "    query_length_column=\"query_length\",\n",
    "    path_start_column=\"path_start\",\n",
    "    path_end_column=\"path_end\",\n",
    "    struct_name=\"extract_segments2\",\n",
    "    keep_full=True,\n",
    ")"
   ]
  },
  {
   "cell_type": "code",
   "execution_count": null,
   "id": "f8a507f5-3c4f-4b17-adfc-543187aef2cf",
   "metadata": {},
   "outputs": [],
   "source": [
    "y2 = processing.cut_cigar_df(\n",
    "    x,\n",
    "    gfa,\n",
    "    path_column=\"variants_path\",\n",
    "    cigar_column=\"realign_cg\",\n",
    "    sequence_column=\"consensus_seq\",\n",
    "    # phred_column=\"consensus_phred\",\n",
    "    # query_start_column=\"query_start\",\n",
    "    # query_end_column=\"query_end\",\n",
    "    # query_length_column=\"query_length\",\n",
    "    # path_start_column=\"path_start\",\n",
    "    # path_end_column=\"path_end\",\n",
    "    struct_name=\"extract_segments2\",\n",
    "    keep_full=True,\n",
    ")"
   ]
  },
  {
   "cell_type": "code",
   "execution_count": null,
   "id": "e709c2d9-c3c8-472c-80ed-d7f41a7fcf4e",
   "metadata": {},
   "outputs": [],
   "source": [
    "plt.hist(\n",
    "    x.select(pl.col(\"consensus_seq\").str.len_bytes())[\"consensus_seq\"],\n",
    "    bins=100,\n",
    "    log=True,\n",
    ");"
   ]
  },
  {
   "cell_type": "code",
   "execution_count": null,
   "id": "cd16c889-f753-45bd-86c3-b68ff4b27707",
   "metadata": {},
   "outputs": [],
   "source": [
    "len(x[0, \"consensus_seq\"])"
   ]
  },
  {
   "cell_type": "code",
   "execution_count": null,
   "id": "d32caa8b-74e0-421e-8026-bcb9efef1697",
   "metadata": {},
   "outputs": [],
   "source": [
    "x.select(\"cg\", \"realign_cg\")"
   ]
  },
  {
   "cell_type": "code",
   "execution_count": null,
   "id": "0ea35c37-0cb0-4132-8b39-44837fd65640",
   "metadata": {},
   "outputs": [],
   "source": [
    "y2[0, \"extract_segments2\"]"
   ]
  },
  {
   "cell_type": "code",
   "execution_count": null,
   "id": "3049f7a6-7c22-43fd-a791-feab2343ed81",
   "metadata": {},
   "outputs": [],
   "source": [
    "y[0, \"extract_segments2\"]"
   ]
  },
  {
   "cell_type": "code",
   "execution_count": null,
   "id": "01ebbce5-b63c-47c8-ab98-6f53b5115c05",
   "metadata": {},
   "outputs": [],
   "source": [
    "x[\"consensus_seq\"]"
   ]
  },
  {
   "cell_type": "code",
   "execution_count": null,
   "id": "2069b88f-5292-4e59-a122-df0cb1d06827",
   "metadata": {},
   "outputs": [],
   "source": [
    "x[\"cg\"].value_counts(sort=True)"
   ]
  },
  {
   "cell_type": "code",
   "execution_count": null,
   "id": "c5bac61b-ab80-4303-aa27-b1d9d1301896",
   "metadata": {},
   "outputs": [],
   "source": [
    "x[2, \"cg\"]"
   ]
  },
  {
   "cell_type": "code",
   "execution_count": null,
   "id": "f692855d-afb1-4266-a810-79c76392e3b6",
   "metadata": {},
   "outputs": [],
   "source": [
    "x[2].select(r\"^.*\\|cigar$\")"
   ]
  },
  {
   "cell_type": "code",
   "execution_count": null,
   "id": "599703c2-25ab-4add-8243-5d37dc2c25e5",
   "metadata": {},
   "outputs": [],
   "source": [
    "df[\"promoter|variant\"].value_counts(sort=True)"
   ]
  },
  {
   "cell_type": "code",
   "execution_count": null,
   "id": "100a51d1-10ff-4bbd-baf9-e7582a10550b",
   "metadata": {},
   "outputs": [],
   "source": [
    "df2 = df.unnest(\"extract_segments\")"
   ]
  },
  {
   "cell_type": "code",
   "execution_count": null,
   "id": "b15106cb-a043-4abb-81ca-024734455e95",
   "metadata": {},
   "outputs": [],
   "source": [
    "df2.filter(pl.col(\"promoter|variant\") == \"J23100\", pl.col(\"promoter|divergence\") == 0)[\n",
    "    \"promoter|seq\"\n",
    "].value_counts(sort=True).to_pandas()"
   ]
  },
  {
   "cell_type": "code",
   "execution_count": null,
   "id": "acbcb129-6934-4620-89ad-9987d9f00335",
   "metadata": {},
   "outputs": [],
   "source": [
    "np.asarray(df2[\"ScmJ|divergence\"]) != 0"
   ]
  },
  {
   "cell_type": "code",
   "execution_count": null,
   "id": "f9019b6f-e37d-4141-924f-a62605773b6a",
   "metadata": {},
   "outputs": [],
   "source": [
    "np.count_nonzero(np.asarray(df2[\"ScmJ|divergence\"]))"
   ]
  },
  {
   "cell_type": "code",
   "execution_count": null,
   "id": "4b04a6e9-aee4-47e1-9fa3-4ad0009f4afd",
   "metadata": {},
   "outputs": [],
   "source": [
    "np.asarray(df2[\"ScmJ|divergence\"])"
   ]
  },
  {
   "cell_type": "code",
   "execution_count": null,
   "id": "0f96d8d9-7ccd-47ca-904b-63a1895c61d2",
   "metadata": {},
   "outputs": [],
   "source": [
    "np.isnan(np.asarray(df2[\"ScmJ|divergence\"]))"
   ]
  },
  {
   "cell_type": "code",
   "execution_count": null,
   "id": "68611921-ea9b-4e76-ab39-e496b7cd8974",
   "metadata": {},
   "outputs": [],
   "source": [
    "def nonzero_frac(x):\n",
    "    x = x[~np.isnan(x)]\n",
    "    return np.count_nonzero(x) / len(x)\n",
    "\n",
    "\n",
    "pl.DataFrame(\n",
    "    [\n",
    "        (c, nonzero_frac(np.asarray(df2[c])))\n",
    "        for c in df2.columns\n",
    "        if c.endswith(\"|divergence\")\n",
    "    ],\n",
    "    schema=[\"col\", \"value\"],\n",
    ").sort(\"value\", descending=True).to_pandas()"
   ]
  },
  {
   "cell_type": "code",
   "execution_count": null,
   "id": "d08a37a4-1aae-43f9-ab1a-86b5cfb18cc1",
   "metadata": {},
   "outputs": [],
   "source": [
    "df2[\"grouping_depth\"].value_counts(sort=True)"
   ]
  },
  {
   "cell_type": "code",
   "execution_count": null,
   "id": "4f2efedc-5509-480b-aedc-3d17daebdb3b",
   "metadata": {},
   "outputs": [],
   "source": [
    "df2[\"pPhlF|seq\"].value_counts(sort=True)"
   ]
  },
  {
   "cell_type": "code",
   "execution_count": null,
   "id": "7b464dd3-4190-4567-a1d2-92e71a7089e1",
   "metadata": {},
   "outputs": [],
   "source": [
    "df2[\"BetI|seq\"].value_counts(sort=True)"
   ]
  },
  {
   "cell_type": "code",
   "execution_count": null,
   "id": "0a45cc7a-8b4c-4c5b-93f7-54f2861092ac",
   "metadata": {},
   "outputs": [],
   "source": [
    "df2.filter(pl.col(\"grouping_depth\") > 1)[\"BetI|seq\"].value_counts(sort=True)"
   ]
  },
  {
   "cell_type": "code",
   "execution_count": null,
   "id": "3e6c2e12-c30b-4bf9-bee1-b85b083e3b66",
   "metadata": {},
   "outputs": [],
   "source": [
    "with pl.Config(tbl_rows=20):\n",
    "    display(\n",
    "        df2.filter(pl.col(\"grouping_depth\") > 1)[\"BetI|mismatches\"].value_counts(\n",
    "            sort=True\n",
    "        )\n",
    "    )"
   ]
  },
  {
   "cell_type": "code",
   "execution_count": null,
   "id": "d08c7be8-da26-45cf-95d7-f113aca02c6b",
   "metadata": {},
   "outputs": [],
   "source": [
    "seqs = df2[\"BetI|seq\"].value_counts(sort=True)[\"BetI|seq\"]\n",
    "for idx in range(50):\n",
    "    print(f\">beti{idx}\")\n",
    "    print(seqs[idx])"
   ]
  },
  {
   "cell_type": "code",
   "execution_count": null,
   "id": "df6f5970-2cde-4f38-af9c-9f278b7d940b",
   "metadata": {},
   "outputs": [],
   "source": [
    "df2[0, \"variants_path\"].to_list()"
   ]
  },
  {
   "cell_type": "code",
   "execution_count": null,
   "id": "9707032f-3d83-44d5-91ad-24f93991715f",
   "metadata": {},
   "outputs": [],
   "source": [
    "df2.group_by(\"promoter|variant\").agg(\n",
    "    pl.col(\"promoter|seq\").value_counts(sort=True).struct[1].alias(\"counts\")\n",
    ").with_columns(\n",
    "    total=pl.col(\"counts\").list.sum(), correct=pl.col(\"counts\").list.get(0)\n",
    ").with_columns(\n",
    "    frac_correct=pl.col(\"correct\") / pl.col(\"total\")\n",
    ").to_pandas()"
   ]
  },
  {
   "cell_type": "code",
   "execution_count": null,
   "id": "bdeb1f3d-7ebb-440f-90d9-84356969cda4",
   "metadata": {},
   "outputs": [],
   "source": [
    "df2.group_by(\"promoter|variant\").agg(\n",
    "    pl.col(\"CDS_mVenus|seq\").value_counts(sort=True).struct[1].alias(\"counts\")\n",
    ").with_columns(\n",
    "    total=pl.col(\"counts\").list.sum(), correct=pl.col(\"counts\").list.get(0)\n",
    ").with_columns(\n",
    "    frac_correct=pl.col(\"correct\") / pl.col(\"total\")\n",
    ").to_pandas()"
   ]
  },
  {
   "cell_type": "code",
   "execution_count": null,
   "id": "472b1c03-49bb-4901-b51f-64e149e80621",
   "metadata": {},
   "outputs": [],
   "source": [
    "df2[\"BCD_upstream|divergence\"].value_counts(sort=True)"
   ]
  },
  {
   "cell_type": "code",
   "execution_count": null,
   "id": "d0fb2dc6-2eea-49d6-97f0-bef8afa246f8",
   "metadata": {},
   "outputs": [],
   "source": [
    "df2[\"LacI|divergence\"].value_counts(sort=True)"
   ]
  },
  {
   "cell_type": "code",
   "execution_count": null,
   "id": "eb00861c-19c7-4e01-be91-9459f14a8497",
   "metadata": {},
   "outputs": [],
   "source": [
    "df2[\"PhlF|seq\"].value_counts(sort=True)"
   ]
  },
  {
   "cell_type": "code",
   "execution_count": null,
   "id": "22db2482-b6fd-46a9-a86b-ab7a4b92bdca",
   "metadata": {},
   "outputs": [],
   "source": [
    "df2[\"CDS_mVenus|divergence\"].value_counts(sort=True)"
   ]
  },
  {
   "cell_type": "code",
   "execution_count": null,
   "id": "0c670b5e-3485-46fb-a8d0-ee7b830ede62",
   "metadata": {},
   "outputs": [],
   "source": [
    "df2[\"Term_DT3|divergence\"].value_counts(sort=True)"
   ]
  },
  {
   "cell_type": "code",
   "execution_count": null,
   "id": "88d76f4b-d8f9-4f0e-9218-3f45adf89a96",
   "metadata": {},
   "outputs": [],
   "source": [
    "df2[\"CDS_mVenus|divergence\"].value_counts(sort=True)"
   ]
  },
  {
   "cell_type": "code",
   "execution_count": null,
   "id": "f6bc69d2-7cc8-46fd-a5d8-9197958582b2",
   "metadata": {},
   "outputs": [],
   "source": [
    "df2.filter(pl.col(\"promoter|variant\") == \"J23103\")[\"promoter|mismatches\"].value_counts(\n",
    "    sort=True\n",
    ").to_pandas()"
   ]
  },
  {
   "cell_type": "code",
   "execution_count": null,
   "id": "2f4de64c-63eb-4659-891c-05cac8f76631",
   "metadata": {},
   "outputs": [],
   "source": [
    "df2[\"CDS_mVenus|cigar\"].value_counts(sort=True)"
   ]
  },
  {
   "cell_type": "code",
   "execution_count": null,
   "id": "2735ded8-35de-4d4e-9e0d-0aa15443bfec",
   "metadata": {},
   "outputs": [],
   "source": [
    "df2[\"promoter|divergence\"].value_counts(sort=True)"
   ]
  },
  {
   "cell_type": "code",
   "execution_count": null,
   "id": "4c1b5a56-fc00-4c49-9bd6-8c2356eeb3d4",
   "metadata": {},
   "outputs": [],
   "source": [
    "df.filter(pl.col(\"promoter|variant\") == \"J23100\")[\"promoter|seq\"].value_counts(\n",
    "    sort=True\n",
    ").to_pandas()"
   ]
  },
  {
   "cell_type": "code",
   "execution_count": null,
   "id": "011f1062-21e0-436c-a534-30356f0b5688",
   "metadata": {},
   "outputs": [],
   "source": [
    "df.filter(pl.col(\"promoter|variant\") == \"J23100\")[\"promoter|cigar\"].value_counts(\n",
    "    sort=True\n",
    ").to_pandas()"
   ]
  },
  {
   "cell_type": "code",
   "execution_count": null,
   "id": "a656f605-d990-4218-8595-3fa938f39019",
   "metadata": {},
   "outputs": [],
   "source": [
    "df.filter(pl.col(\"promoter|variant\") == \"J23100\")[\"promoter|deletions\"].value_counts(\n",
    "    sort=True\n",
    ")"
   ]
  },
  {
   "cell_type": "code",
   "execution_count": null,
   "id": "6f24a228-703e-47d8-9b6b-fac3600e830f",
   "metadata": {},
   "outputs": [],
   "source": [
    "df.filter(pl.col(\"promoter|variant\") == \"J23100\")[\"promoter|divergence\"].value_counts(\n",
    "    sort=True\n",
    ")"
   ]
  },
  {
   "cell_type": "code",
   "execution_count": null,
   "id": "d59c8f8a-feee-46be-b8e8-feeda53bb1ce",
   "metadata": {},
   "outputs": [],
   "source": [
    "df2.sort(\"grouping_depth\").select(\n",
    "    pl.col(\"grouping_depth\"),\n",
    "    frac_barcodes=pl.int_range(1, pl.len() + 1, dtype=pl.UInt32) / pl.len(),\n",
    "    frac_reads=pl.col(\"grouping_depth\").cum_sum() / pl.col(\"grouping_depth\").sum(),\n",
    ").to_pandas().hvplot.step(\"grouping_depth\", logx=True, logy=False, where=\"pre\")"
   ]
  },
  {
   "cell_type": "markdown",
   "id": "b34545ca-a1aa-430d-bf3e-d4d27e7ac7cc",
   "metadata": {},
   "source": [
    "## Export to Eaton format"
   ]
  },
  {
   "cell_type": "code",
   "execution_count": null,
   "id": "474f30d2-e02d-4aad-9aa0-92ef3a162ea5",
   "metadata": {},
   "outputs": [],
   "source": [
    "%%time\n",
    "df = load_sequencing(\n",
    "    \"/home/jqs1/scratch/sequencing/240703_pLIB476/output/max_divergence=0.3/extract_segments/*.arrow\"\n",
    ").collect()"
   ]
  },
  {
   "cell_type": "code",
   "execution_count": null,
   "id": "a9b1e927-9ed7-4dd3-b803-6da62cb914ae",
   "metadata": {},
   "outputs": [],
   "source": [
    "gfa = gfapy.Gfa.from_file(\n",
    "    \"/home/jqs1/scratch/sequencing/sequencing_references/pLIB473-476.gfa\"\n",
    ")"
   ]
  },
  {
   "cell_type": "code",
   "execution_count": null,
   "id": "f65566fd-3fb1-46fe-b176-0c8dc199886f",
   "metadata": {},
   "outputs": [],
   "source": [
    "df = df.with_columns(\n",
    "    pl.col(\"extract_segments\").struct.with_fields(\n",
    "        pl.field(\"repressor:promoter|variant\").replace({\"pLacI\": \"pTac\"})\n",
    "    )\n",
    ")"
   ]
  },
  {
   "cell_type": "code",
   "execution_count": null,
   "id": "5715e45b-9097-4ab7-8d5e-9ee1f23eb665",
   "metadata": {},
   "outputs": [],
   "source": [
    "df = processing.compute_divergences(\n",
    "    df,\n",
    "    list(dict.fromkeys(([s.split(\"=\")[0] for s in gfa.segment_names]))),\n",
    "    struct_name=\"extract_segments\",\n",
    ")\n",
    "df2 = df.unnest(\"extract_segments\")"
   ]
  },
  {
   "cell_type": "code",
   "execution_count": null,
   "id": "e7fc02e4-5c8a-4cba-bc3a-3dbb61871312",
   "metadata": {},
   "outputs": [],
   "source": [
    "df2[\"repressor:promoter|variant\"].value_counts()"
   ]
  },
  {
   "cell_type": "code",
   "execution_count": null,
   "id": "189914d2-7412-4484-af19-cf8a94bc0fb2",
   "metadata": {},
   "outputs": [],
   "source": [
    "df2[\"repressor|variant\"].value_counts()"
   ]
  },
  {
   "cell_type": "code",
   "execution_count": null,
   "id": "a52f6f43-2d31-44ad-8cf2-4af616bf502e",
   "metadata": {},
   "outputs": [],
   "source": [
    "df2.group_by(\"repressor:promoter|variant\", \"repressor|variant\").agg(pl.len()).sort(\n",
    "    \"len\", descending=True\n",
    ")"
   ]
  },
  {
   "cell_type": "code",
   "execution_count": null,
   "id": "787a0c44-46e8-4e90-84ab-b282c16d4a89",
   "metadata": {},
   "outputs": [],
   "source": [
    "df2.select(pl.col(r\"^.*\\|divergence$\")).quantile(0.9).to_pandas().T.sort_values(0)"
   ]
  },
  {
   "cell_type": "code",
   "execution_count": null,
   "id": "c3ad42c3-9d14-464e-9cc0-6876f53da5cf",
   "metadata": {},
   "outputs": [],
   "source": [
    "df2 = df2.with_columns(\n",
    "    max_divergence=pl.max_horizontal(\n",
    "        pl.col(r\"^.*\\|divergence$\").exclude(\n",
    "            \"term:DT3|divergence\", \"JUNC10_UNS10|divergence\"\n",
    "        )\n",
    "    )\n",
    ")"
   ]
  },
  {
   "cell_type": "code",
   "execution_count": null,
   "id": "8b3718d1-2d95-47d3-9957-68099c6860e8",
   "metadata": {},
   "outputs": [],
   "source": [
    "plt.hist(df2[\"max_divergence\"], bins=100, log=True);"
   ]
  },
  {
   "cell_type": "code",
   "execution_count": null,
   "id": "b3fe4842-e2f0-4e4a-823a-14b68987f268",
   "metadata": {},
   "outputs": [],
   "source": [
    "df2.filter(pl.col(\"max_divergence\") > 0.01)"
   ]
  },
  {
   "cell_type": "code",
   "execution_count": null,
   "id": "14177273-4d14-47b0-8829-7635a9acc084",
   "metadata": {},
   "outputs": [],
   "source": [
    "df2.filter(pl.col(\"max_divergence\") > 0.01).select(\n",
    "    pl.col(r\"^.*\\|divergence$\")\n",
    ").quantile(0.9).to_pandas().T.sort_values(0)"
   ]
  },
  {
   "cell_type": "code",
   "execution_count": null,
   "id": "7d947f8f-5d2c-4b77-a965-632f073ccbec",
   "metadata": {},
   "outputs": [],
   "source": [
    "plt.hist(df2[\"max_divergence\"], bins=100, log=True);"
   ]
  },
  {
   "cell_type": "code",
   "execution_count": null,
   "id": "76d212ac-b167-468e-989b-307342be1159",
   "metadata": {},
   "outputs": [],
   "source": [
    "counts = df2.select(\n",
    "    pl.struct(\"RBS1:RBS|seq\", \"RBS2:RBS|seq\", \"RBS3:RBS|seq\").alias(\"foo\")\n",
    ")[\"foo\"].value_counts(sort=True)"
   ]
  },
  {
   "cell_type": "code",
   "execution_count": null,
   "id": "6510e6dc-1cbc-4bb9-9866-e64233ca9e5a",
   "metadata": {},
   "outputs": [],
   "source": [
    "counts[\"count\"].to_pandas().hvplot.step(logy=True, logx=True)"
   ]
  },
  {
   "cell_type": "code",
   "execution_count": null,
   "id": "28d7aabf-c1b1-4c4f-a9d8-b17706db8464",
   "metadata": {},
   "outputs": [],
   "source": [
    "df[\"grouping_depth\"].sort(descending=True).to_pandas().hvplot.step(logy=True)"
   ]
  },
  {
   "cell_type": "code",
   "execution_count": null,
   "id": "d28390c8-19cf-40a7-b2fd-3744dc999d20",
   "metadata": {},
   "outputs": [],
   "source": [
    "counts.filter(pl.col(\"count\") == 1)"
   ]
  },
  {
   "cell_type": "code",
   "execution_count": null,
   "id": "9afa7538-8dbb-4c4c-befb-8f307fe5a72f",
   "metadata": {},
   "outputs": [],
   "source": [
    "counts.filter(pl.col(\"count\") > 5)"
   ]
  },
  {
   "cell_type": "code",
   "execution_count": null,
   "id": "25cc3146-2745-406f-84e0-cd72ee4ce696",
   "metadata": {},
   "outputs": [],
   "source": [
    "with pl.Config(tbl_rows=100):\n",
    "    display(counts)"
   ]
  },
  {
   "cell_type": "code",
   "execution_count": null,
   "id": "7c2c722f-43c4-4dbd-980f-43b05950948a",
   "metadata": {},
   "outputs": [],
   "source": [
    "perfect_segments = [\n",
    "    \"pBetI\",\n",
    "    \"RBS1:upstream\",\n",
    "    \"LacI\",\n",
    "    \"pTac\",\n",
    "    \"RBS2:upstream\",\n",
    "    \"PhlF\",\n",
    "    \"pPhlF\",\n",
    "    \"RBS3:upstream\",\n",
    "    \"BetI\",\n",
    "]"
   ]
  },
  {
   "cell_type": "code",
   "execution_count": null,
   "id": "b0b99e44-4c78-4acd-a704-d48170347aba",
   "metadata": {},
   "outputs": [],
   "source": [
    "df2.filter(*[pl.col(f\"{s}|divergence\") == 0 for s in perfect_segments]).select(\n",
    "    pl.struct(\"RBS1:RBS|seq\", \"RBS2:RBS|seq\", \"RBS3:RBS|seq\").alias(\"foo\")\n",
    ")[\"foo\"].value_counts(sort=True)"
   ]
  },
  {
   "cell_type": "code",
   "execution_count": null,
   "id": "dcdd4093-fec5-4bf8-97a2-c0beefb7f3ff",
   "metadata": {},
   "outputs": [],
   "source": [
    "filter_columns = [\n",
    "    \"promoter|divergence\",\n",
    "    \"ScmJ|divergence\",\n",
    "    \"RBS:RiboJ|divergence\",\n",
    "    \"RBS:BCD_leader|divergence\",\n",
    "    \"repressor:promoter|divergence\",\n",
    "    \"repressor|divergence\",\n",
    "    \"mVenus|divergence\",\n",
    "]"
   ]
  },
  {
   "cell_type": "code",
   "execution_count": null,
   "id": "cdc3924a-7d7a-4f9c-b8d8-e890f9cd313c",
   "metadata": {},
   "outputs": [],
   "source": [
    "157_002 / len(df2)"
   ]
  },
  {
   "cell_type": "code",
   "execution_count": null,
   "id": "2a433333-80ef-4727-8a47-2bff418930b4",
   "metadata": {},
   "outputs": [],
   "source": [
    "df2.filter(*[pl.col(c) == 0 for c in filter_columns])"
   ]
  },
  {
   "cell_type": "code",
   "execution_count": null,
   "id": "80216d8b-7396-4ffa-918c-8619e018dfa4",
   "metadata": {},
   "outputs": [],
   "source": [
    "%%time\n",
    "df_eaton = (\n",
    "    df2.with_columns(\n",
    "        barcode=path_to_barcode_string(\"variants_path\"),\n",
    "        reference=pl.lit(\"\"),\n",
    "        alignmentstart=1,\n",
    "        cigar=pl.lit(\"\"),\n",
    "        subsample=pl.lit(\"\"),\n",
    "    )\n",
    "    .rename({\"consensus_seq\": \"consensus\"})\n",
    "    .select(\n",
    "        \"barcode\",\n",
    "        \"consensus\",\n",
    "        \"reference\",\n",
    "        \"alignmentstart\",\n",
    "        \"cigar\",\n",
    "        \"subsample\",\n",
    "        \"grouping_depth\",\n",
    "        \"consensus_depth\",\n",
    "        \"RBS|seq\",\n",
    "        \"repressor:promoter|variant\",\n",
    "        \"repressor|variant\",\n",
    "        \"promoter|divergence\",\n",
    "        \"ScmJ|divergence\",\n",
    "        \"RBS:RiboJ|divergence\",\n",
    "        \"RBS:BCD_leader|divergence\",\n",
    "        \"repressor:promoter|divergence\",\n",
    "        \"repressor|divergence\",\n",
    "        \"mVenus|divergence\",\n",
    "    )\n",
    "    .sort(\"barcode\")\n",
    "    .with_row_index(name=\"barcodeid\")\n",
    "    .with_row_index(name=\"\")\n",
    ")"
   ]
  },
  {
   "cell_type": "code",
   "execution_count": null,
   "id": "6c6a07d1-83f7-4979-8de5-25e432724e78",
   "metadata": {},
   "outputs": [],
   "source": [
    "df_eaton.write_parquet(\"240718_pLIB473-475_eaton_export.parquet\")"
   ]
  },
  {
   "cell_type": "code",
   "execution_count": null,
   "id": "676aad26-3db2-49e8-b61f-ba9320e0e9b1",
   "metadata": {},
   "outputs": [],
   "source": [
    "df_eaton.write_csv(\"240718_pLIB473-475_eaton_export.tsv\", separator=\"\\t\")"
   ]
  },
  {
   "cell_type": "code",
   "execution_count": null,
   "id": "02000af3-e545-42cd-b715-4cd74358d9e4",
   "metadata": {},
   "outputs": [],
   "source": [
    "!pwd"
   ]
  }
 ],
 "metadata": {
  "kernelspec": {
   "display_name": "Python 3 (ipykernel)",
   "language": "python",
   "name": "python3"
  },
  "language_info": {
   "codemirror_mode": {
    "name": "ipython",
    "version": 3
   },
   "file_extension": ".py",
   "mimetype": "text/x-python",
   "name": "python",
   "nbconvert_exporter": "python",
   "pygments_lexer": "ipython3",
   "version": "3.11.9"
  }
 },
 "nbformat": 4,
 "nbformat_minor": 5
}