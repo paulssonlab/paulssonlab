{
 "cells": [
  {
   "cell_type": "code",
   "execution_count": null,
   "id": "41c57f7d-eb34-40e9-b810-10d4c44d68b2",
   "metadata": {},
   "outputs": [],
   "source": [
    "import itertools as it\n",
    "from collections import Counter, defaultdict\n",
    "from functools import partial\n",
    "from glob import glob\n",
    "from pathlib import Path\n",
    "\n",
    "import gfapy\n",
    "import holoviews as hv\n",
    "import hvplot.pandas\n",
    "import matplotlib.pyplot as plt\n",
    "import numpy as np\n",
    "import pandas as pd\n",
    "import polars as pl\n",
    "import pyarrow as pa\n",
    "import pyarrow.compute as pc\n",
    "import pyarrow.dataset as ds\n",
    "from tqdm.auto import tqdm, trange"
   ]
  },
  {
   "cell_type": "code",
   "execution_count": null,
   "id": "f4ec68fd-4dab-43a1-a74d-fc2137f04acb",
   "metadata": {},
   "outputs": [],
   "source": [
    "%load_ext autoreload\n",
    "%autoreload 2"
   ]
  },
  {
   "cell_type": "code",
   "execution_count": null,
   "id": "6d3d323b-2fd5-44cd-b9b0-ed41db593de3",
   "metadata": {},
   "outputs": [],
   "source": [
    "import paulssonlab.sequencing.align as align\n",
    "import paulssonlab.sequencing.cigar as scigar\n",
    "import paulssonlab.sequencing.consensus as con\n",
    "import paulssonlab.sequencing.gfa as sgfa\n",
    "import paulssonlab.sequencing.io as sio\n",
    "import paulssonlab.sequencing.processing as processing\n",
    "from paulssonlab.util.sequence import reverse_complement"
   ]
  },
  {
   "cell_type": "code",
   "execution_count": null,
   "id": "f117a156-f6f6-423f-81be-bb5eed890a23",
   "metadata": {},
   "outputs": [],
   "source": [
    "hv.extension(\"bokeh\")"
   ]
  },
  {
   "cell_type": "code",
   "execution_count": null,
   "id": "d286b864-7447-4195-8a34-2ede229b0b4c",
   "metadata": {},
   "outputs": [],
   "source": [
    "pl.enable_string_cache()"
   ]
  },
  {
   "cell_type": "markdown",
   "id": "e5c5f417-e951-4a21-a5e9-b8c4182a17e3",
   "metadata": {},
   "source": [
    "# Functions"
   ]
  },
  {
   "cell_type": "code",
   "execution_count": null,
   "id": "34ec49ac-7ef6-41d8-aed9-9182a4f5d3d5",
   "metadata": {},
   "outputs": [],
   "source": [
    "def concat_glob(filename):\n",
    "    return pl.concat([pl.scan_ipc(f) for f in glob(filename)], how=\"diagonal\")"
   ]
  },
  {
   "cell_type": "code",
   "execution_count": null,
   "id": "8a522183-c80d-4ea6-8144-e3675432ca6d",
   "metadata": {},
   "outputs": [],
   "source": [
    "def load_sequencing(filename, filter=True):\n",
    "    df = concat_glob(filename)\n",
    "    df = df.with_columns(\n",
    "        dup=pl.col(\"name\").is_duplicated(),\n",
    "        primary_alignment=pl.col(\"name\").is_first_distinct(),\n",
    "        e2e=pl.col(\"variants_path\")\n",
    "        .list.set_intersection([\"<UNS9\", \">UNS9\", \"<UNS3\", \">UNS3\"])\n",
    "        .list.len()\n",
    "        == 2,\n",
    "        bc_e2e=pl.col(\"variants_path\")\n",
    "        .list.set_intersection(\n",
    "            [\"<BC:T7_prom\", \">BC:T7_prom\", \"<BC:spacer2\", \">BC:spacer2\"]\n",
    "        )\n",
    "        .list.len()\n",
    "        == 2,\n",
    "    )\n",
    "    if filter:\n",
    "        df = df.filter(pl.col(\"primary_alignment\"), pl.col(\"e2e\"))\n",
    "    return df"
   ]
  },
  {
   "cell_type": "markdown",
   "id": "2cf81637-5192-4ebe-8587-28fd7f5ab7bd",
   "metadata": {},
   "source": [
    "# Analysis"
   ]
  },
  {
   "cell_type": "code",
   "execution_count": null,
   "id": "474f30d2-e02d-4aad-9aa0-92ef3a162ea5",
   "metadata": {},
   "outputs": [],
   "source": [
    "%%time\n",
    "df = load_sequencing(\n",
    "    \"/home/jqs1/scratch/sequencing/240703_pLIB476/output/max_divergence=0.3/extract_segments/*.arrow\"\n",
    ").collect()"
   ]
  },
  {
   "cell_type": "code",
   "execution_count": null,
   "id": "a9b1e927-9ed7-4dd3-b803-6da62cb914ae",
   "metadata": {},
   "outputs": [],
   "source": [
    "gfa = gfapy.Gfa.from_file(\n",
    "    \"/home/jqs1/scratch/sequencing/sequencing_references/pLIB473-476.gfa\"\n",
    ")"
   ]
  },
  {
   "cell_type": "code",
   "execution_count": null,
   "id": "f65566fd-3fb1-46fe-b176-0c8dc199886f",
   "metadata": {},
   "outputs": [],
   "source": [
    "df = df.with_columns(\n",
    "    pl.col(\"extract_segments\").struct.with_fields(\n",
    "        pl.field(\"repressor:promoter|variant\").replace({\"pLacI\": \"pTac\"})\n",
    "    )\n",
    ")"
   ]
  },
  {
   "cell_type": "code",
   "execution_count": null,
   "id": "5715e45b-9097-4ab7-8d5e-9ee1f23eb665",
   "metadata": {},
   "outputs": [],
   "source": [
    "df = processing.compute_divergences(\n",
    "    df,\n",
    "    list(dict.fromkeys(([s.split(\"=\")[0] for s in gfa.segment_names]))),\n",
    "    struct_name=\"extract_segments\",\n",
    ")\n",
    "df2 = df.unnest(\"extract_segments\")"
   ]
  },
  {
   "cell_type": "code",
   "execution_count": null,
   "id": "e7fc02e4-5c8a-4cba-bc3a-3dbb61871312",
   "metadata": {},
   "outputs": [],
   "source": [
    "df2[\"repressor:promoter|variant\"].value_counts()"
   ]
  },
  {
   "cell_type": "code",
   "execution_count": null,
   "id": "189914d2-7412-4484-af19-cf8a94bc0fb2",
   "metadata": {},
   "outputs": [],
   "source": [
    "df2[\"repressor|variant\"].value_counts()"
   ]
  },
  {
   "cell_type": "code",
   "execution_count": null,
   "id": "a52f6f43-2d31-44ad-8cf2-4af616bf502e",
   "metadata": {},
   "outputs": [],
   "source": [
    "df2.group_by(\"repressor:promoter|variant\", \"repressor|variant\").agg(pl.len()).sort(\n",
    "    \"len\", descending=True\n",
    ")"
   ]
  },
  {
   "cell_type": "code",
   "execution_count": null,
   "id": "787a0c44-46e8-4e90-84ab-b282c16d4a89",
   "metadata": {},
   "outputs": [],
   "source": [
    "df2.select(pl.col(r\"^.*\\|divergence$\")).quantile(0.9).to_pandas().T.sort_values(0)"
   ]
  },
  {
   "cell_type": "code",
   "execution_count": null,
   "id": "c3ad42c3-9d14-464e-9cc0-6876f53da5cf",
   "metadata": {},
   "outputs": [],
   "source": [
    "df2 = df2.with_columns(\n",
    "    max_divergence=pl.max_horizontal(\n",
    "        pl.col(r\"^.*\\|divergence$\").exclude(\n",
    "            \"term:DT3|divergence\", \"JUNC10_UNS10|divergence\"\n",
    "        )\n",
    "    )\n",
    ")"
   ]
  },
  {
   "cell_type": "code",
   "execution_count": null,
   "id": "8b3718d1-2d95-47d3-9957-68099c6860e8",
   "metadata": {},
   "outputs": [],
   "source": [
    "plt.hist(df2[\"max_divergence\"], bins=100, log=True);"
   ]
  },
  {
   "cell_type": "code",
   "execution_count": null,
   "id": "b3fe4842-e2f0-4e4a-823a-14b68987f268",
   "metadata": {},
   "outputs": [],
   "source": [
    "df2.filter(pl.col(\"max_divergence\") > 0.01)"
   ]
  },
  {
   "cell_type": "code",
   "execution_count": null,
   "id": "14177273-4d14-47b0-8829-7635a9acc084",
   "metadata": {},
   "outputs": [],
   "source": [
    "df2.filter(pl.col(\"max_divergence\") > 0.01).select(\n",
    "    pl.col(r\"^.*\\|divergence$\")\n",
    ").quantile(0.9).to_pandas().T.sort_values(0)"
   ]
  },
  {
   "cell_type": "code",
   "execution_count": null,
   "id": "7d947f8f-5d2c-4b77-a965-632f073ccbec",
   "metadata": {},
   "outputs": [],
   "source": [
    "plt.hist(df2[\"max_divergence\"], bins=100, log=True);"
   ]
  },
  {
   "cell_type": "code",
   "execution_count": null,
   "id": "76d212ac-b167-468e-989b-307342be1159",
   "metadata": {},
   "outputs": [],
   "source": [
    "counts = df2.select(\n",
    "    pl.struct(\"RBS1:RBS|seq\", \"RBS2:RBS|seq\", \"RBS3:RBS|seq\").alias(\"foo\")\n",
    ")[\"foo\"].value_counts(sort=True)"
   ]
  },
  {
   "cell_type": "code",
   "execution_count": null,
   "id": "6510e6dc-1cbc-4bb9-9866-e64233ca9e5a",
   "metadata": {},
   "outputs": [],
   "source": [
    "counts[\"count\"].to_pandas().hvplot.step(logy=True, logx=True)"
   ]
  },
  {
   "cell_type": "code",
   "execution_count": null,
   "id": "28d7aabf-c1b1-4c4f-a9d8-b17706db8464",
   "metadata": {},
   "outputs": [],
   "source": [
    "df[\"grouping_depth\"].sort(descending=True).to_pandas().hvplot.step(logy=True)"
   ]
  },
  {
   "cell_type": "code",
   "execution_count": null,
   "id": "d28390c8-19cf-40a7-b2fd-3744dc999d20",
   "metadata": {},
   "outputs": [],
   "source": [
    "counts.filter(pl.col(\"count\") == 1)"
   ]
  },
  {
   "cell_type": "code",
   "execution_count": null,
   "id": "9afa7538-8dbb-4c4c-befb-8f307fe5a72f",
   "metadata": {},
   "outputs": [],
   "source": [
    "counts.filter(pl.col(\"count\") > 5)"
   ]
  },
  {
   "cell_type": "code",
   "execution_count": null,
   "id": "25cc3146-2745-406f-84e0-cd72ee4ce696",
   "metadata": {},
   "outputs": [],
   "source": [
    "with pl.Config(tbl_rows=100):\n",
    "    display(counts)"
   ]
  },
  {
   "cell_type": "code",
   "execution_count": null,
   "id": "7c2c722f-43c4-4dbd-980f-43b05950948a",
   "metadata": {},
   "outputs": [],
   "source": [
    "perfect_segments = [\n",
    "    \"pBetI\",\n",
    "    \"RBS1:upstream\",\n",
    "    \"LacI\",\n",
    "    \"pTac\",\n",
    "    \"RBS2:upstream\",\n",
    "    \"PhlF\",\n",
    "    \"pPhlF\",\n",
    "    \"RBS3:upstream\",\n",
    "    \"BetI\",\n",
    "]"
   ]
  },
  {
   "cell_type": "code",
   "execution_count": null,
   "id": "b0b99e44-4c78-4acd-a704-d48170347aba",
   "metadata": {},
   "outputs": [],
   "source": [
    "df2.filter(*[pl.col(f\"{s}|divergence\") == 0 for s in perfect_segments]).select(\n",
    "    pl.struct(\"RBS1:RBS|seq\", \"RBS2:RBS|seq\", \"RBS3:RBS|seq\").alias(\"foo\")\n",
    ")[\"foo\"].value_counts(sort=True)"
   ]
  },
  {
   "cell_type": "code",
   "execution_count": null,
   "id": "dcdd4093-fec5-4bf8-97a2-c0beefb7f3ff",
   "metadata": {},
   "outputs": [],
   "source": [
    "filter_columns = [\n",
    "    \"promoter|divergence\",\n",
    "    \"ScmJ|divergence\",\n",
    "    \"RBS:RiboJ|divergence\",\n",
    "    \"RBS:BCD_leader|divergence\",\n",
    "    \"repressor:promoter|divergence\",\n",
    "    \"repressor|divergence\",\n",
    "    \"mVenus|divergence\",\n",
    "]"
   ]
  },
  {
   "cell_type": "code",
   "execution_count": null,
   "id": "cdc3924a-7d7a-4f9c-b8d8-e890f9cd313c",
   "metadata": {},
   "outputs": [],
   "source": [
    "157_002 / len(df2)"
   ]
  },
  {
   "cell_type": "code",
   "execution_count": null,
   "id": "2a433333-80ef-4727-8a47-2bff418930b4",
   "metadata": {},
   "outputs": [],
   "source": [
    "df2.filter(*[pl.col(c) == 0 for c in filter_columns])"
   ]
  },
  {
   "cell_type": "markdown",
   "id": "59e70326-2a38-46b0-938c-4cf876bc6b6e",
   "metadata": {},
   "source": [
    "# 240703_pLIB476 vs. 240703_pLIB476_bottlenecked"
   ]
  },
  {
   "cell_type": "code",
   "execution_count": null,
   "id": "1cc10860-85cd-4c71-8659-089ca4724aaa",
   "metadata": {},
   "outputs": [],
   "source": [
    "%%time\n",
    "df_240703b = load_sequencing(\n",
    "    \"/home/jqs1/scratch/sequencing/240703_pLIB476_bottlenecked/output/max_divergence=0.3/extract_segments/*.arrow\"\n",
    ").collect()\n",
    "df_240703 = load_sequencing(\n",
    "    \"/home/jqs1/scratch/sequencing/240703_pLIB476/output/max_divergence=0.3/extract_segments/*.arrow\"\n",
    ").collect()"
   ]
  },
  {
   "cell_type": "code",
   "execution_count": null,
   "id": "06dd5587-8903-4350-a719-7d536bc2659e",
   "metadata": {},
   "outputs": [],
   "source": [
    "%%time\n",
    "cols = [\"grouping_path\", \"variants_path\", \"grouping_depth\"]\n",
    "df_joined = df_240703.select(cols).join(\n",
    "    df_240703b.select(cols),\n",
    "    on=processing.categorical_list_hash(pl.col(\"grouping_path\")),\n",
    "    # on=\"grouping_path_hash\",\n",
    "    how=\"full\",\n",
    "    suffix=\"_b\",\n",
    ")"
   ]
  },
  {
   "cell_type": "code",
   "execution_count": null,
   "id": "4a28dbfc-17a9-43b1-8946-6f5e30f1d496",
   "metadata": {},
   "outputs": [],
   "source": [
    "df_joined.group_by(\n",
    "    pl.col(\"grouping_path\").is_not_null(), pl.col(\"grouping_path_b\").is_not_null()\n",
    ").agg(pl.len()).rename(\n",
    "    {\n",
    "        \"grouping_path\": \"240703\",\n",
    "        \"grouping_path_b\": \"240703_bottlenecked\",\n",
    "    }\n",
    ")"
   ]
  },
  {
   "cell_type": "code",
   "execution_count": null,
   "id": "f343dace-9f4c-4e52-8d17-991e3255b1b8",
   "metadata": {},
   "outputs": [],
   "source": [
    "df_joined.filter(\n",
    "    pl.col(\"grouping_path_b\").is_not_null(), pl.col(\"grouping_path\").is_null()\n",
    ")[\"grouping_depth_b\"].sort(descending=True)"
   ]
  },
  {
   "cell_type": "code",
   "execution_count": null,
   "id": "56a0e2a0-f8fc-45df-8f7f-393adc5ef175",
   "metadata": {},
   "outputs": [],
   "source": [
    "df_240703b[\"grouping_depth\"].quantile(0.999)"
   ]
  },
  {
   "cell_type": "code",
   "execution_count": null,
   "id": "8a822706-e157-4e43-8330-3b69f42396a2",
   "metadata": {},
   "outputs": [],
   "source": [
    "df_240703b[\"grouping_depth\"].sort(descending=True).to_pandas().hvplot.step(logy=True)"
   ]
  },
  {
   "cell_type": "code",
   "execution_count": null,
   "id": "af065f63-9507-4d3e-a77b-13d32bc996ab",
   "metadata": {},
   "outputs": [],
   "source": [
    "df_240703[\"grouping_depth\"].sort(descending=True).to_pandas().hvplot.step(logy=True)"
   ]
  },
  {
   "cell_type": "code",
   "execution_count": null,
   "id": "a5a47728-1f2f-4fd4-9635-51945e562d2d",
   "metadata": {},
   "outputs": [],
   "source": [
    "df_240703b.sort(\"grouping_depth\").select(\n",
    "    pl.col(\"grouping_depth\"),\n",
    "    frac_barcodes=pl.int_range(1, pl.len() + 1, dtype=pl.UInt32) / pl.len(),\n",
    "    frac_reads=pl.col(\"grouping_depth\").cum_sum() / pl.col(\"grouping_depth\").sum(),\n",
    ").to_pandas().hvplot.step(\"grouping_depth\", logx=True, logy=False, where=\"pre\")"
   ]
  },
  {
   "cell_type": "code",
   "execution_count": null,
   "id": "377cc717-9e39-4184-9035-6fb52a4b3e9b",
   "metadata": {},
   "outputs": [],
   "source": [
    "df_240703.sort(\"grouping_depth\").select(\n",
    "    pl.col(\"grouping_depth\"),\n",
    "    frac_barcodes=pl.int_range(1, pl.len() + 1, dtype=pl.UInt32) / pl.len(),\n",
    "    frac_reads=pl.col(\"grouping_depth\").cum_sum() / pl.col(\"grouping_depth\").sum(),\n",
    ").to_pandas().hvplot.step(\"grouping_depth\", logx=True, logy=False, where=\"pre\")"
   ]
  },
  {
   "cell_type": "code",
   "execution_count": null,
   "id": "77e42f96-1d1f-4308-a39b-4b90b9455d80",
   "metadata": {},
   "outputs": [],
   "source": [
    "df_joined.select(\"grouping_depth\", \"grouping_depth_b\").to_pandas().hvplot.scatter(\n",
    "    \"grouping_depth\",\n",
    "    \"grouping_depth_b\",\n",
    "    s=0.8,\n",
    "    alpha=0.5,\n",
    ")"
   ]
  }
 ],
 "metadata": {
  "kernelspec": {
   "display_name": "Python 3 (ipykernel)",
   "language": "python",
   "name": "python3"
  },
  "language_info": {
   "codemirror_mode": {
    "name": "ipython",
    "version": 3
   },
   "file_extension": ".py",
   "mimetype": "text/x-python",
   "name": "python",
   "nbconvert_exporter": "python",
   "pygments_lexer": "ipython3",
   "version": "3.11.9"
  }
 },
 "nbformat": 4,
 "nbformat_minor": 5
}