{
 "cells": [
  {
   "cell_type": "code",
   "execution_count": null,
   "id": "41c57f7d-eb34-40e9-b810-10d4c44d68b2",
   "metadata": {},
   "outputs": [],
   "source": [
    "import itertools as it\n",
    "import operator\n",
    "from collections import Counter, defaultdict\n",
    "from functools import partial\n",
    "from glob import glob\n",
    "from pathlib import Path\n",
    "\n",
    "import gfapy\n",
    "import holoviews as hv\n",
    "import hvplot.pandas\n",
    "import matplotlib.pyplot as plt\n",
    "import numpy as np\n",
    "import pandas as pd\n",
    "import polars as pl\n",
    "import pyarrow as pa\n",
    "import pyarrow.compute as pc\n",
    "import pyarrow.dataset as ds\n",
    "from tqdm.auto import tqdm, trange"
   ]
  },
  {
   "cell_type": "code",
   "execution_count": null,
   "id": "f4ec68fd-4dab-43a1-a74d-fc2137f04acb",
   "metadata": {},
   "outputs": [],
   "source": [
    "%load_ext autoreload\n",
    "%autoreload 2"
   ]
  },
  {
   "cell_type": "code",
   "execution_count": null,
   "id": "6d3d323b-2fd5-44cd-b9b0-ed41db593de3",
   "metadata": {},
   "outputs": [],
   "source": [
    "import paulssonlab.sequencing.align as align\n",
    "import paulssonlab.sequencing.cigar as scigar\n",
    "import paulssonlab.sequencing.consensus as con\n",
    "import paulssonlab.sequencing.gfa as sgfa\n",
    "import paulssonlab.sequencing.io as sio\n",
    "import paulssonlab.sequencing.processing as processing\n",
    "from paulssonlab.util.sequence import reverse_complement"
   ]
  },
  {
   "cell_type": "code",
   "execution_count": null,
   "id": "f117a156-f6f6-423f-81be-bb5eed890a23",
   "metadata": {},
   "outputs": [],
   "source": [
    "hv.extension(\"matplotlib\")"
   ]
  },
  {
   "cell_type": "code",
   "execution_count": null,
   "id": "d286b864-7447-4195-8a34-2ede229b0b4c",
   "metadata": {},
   "outputs": [],
   "source": [
    "pl.enable_string_cache()"
   ]
  },
  {
   "cell_type": "markdown",
   "id": "e5c5f417-e951-4a21-a5e9-b8c4182a17e3",
   "metadata": {},
   "source": [
    "# Functions"
   ]
  },
  {
   "cell_type": "code",
   "execution_count": null,
   "id": "34ec49ac-7ef6-41d8-aed9-9182a4f5d3d5",
   "metadata": {},
   "outputs": [],
   "source": [
    "def concat_glob(filename):\n",
    "    return pl.concat([pl.scan_ipc(f) for f in glob(filename)], how=\"diagonal\")"
   ]
  },
  {
   "cell_type": "code",
   "execution_count": null,
   "id": "8a522183-c80d-4ea6-8144-e3675432ca6d",
   "metadata": {},
   "outputs": [],
   "source": [
    "def load_sequencing(filename, filter=True):\n",
    "    df = concat_glob(filename)\n",
    "    if \"is_primary_alignment\" not in df.columns:\n",
    "        df = df.with_columns(is_primary_alignment=pl.col(\"name\").is_first_distinct())\n",
    "    df = df.with_columns(\n",
    "        dup=pl.col(\"name\").is_duplicated(),\n",
    "        e2e=pl.col(\"variants_path\")\n",
    "        .list.set_intersection([\"<UNS9\", \">UNS9\", \"<UNS3\", \">UNS3\"])\n",
    "        .list.len()\n",
    "        == 2,\n",
    "        bc_e2e=pl.col(\"variants_path\")\n",
    "        .list.set_intersection(\n",
    "            [\"<BC:T7_prom\", \">BC:T7_prom\", \"<BC:spacer2\", \">BC:spacer2\"]\n",
    "        )\n",
    "        .list.len()\n",
    "        == 2,\n",
    "    )\n",
    "    if filter:\n",
    "        df = df.filter(pl.col(\"is_primary_alignment\"), pl.col(\"e2e\"))\n",
    "    return df"
   ]
  },
  {
   "cell_type": "code",
   "execution_count": null,
   "id": "e737e6ca-b650-4b59-9d2a-22b389de6a7b",
   "metadata": {},
   "outputs": [],
   "source": [
    "def path_to_barcode_string(path_col, bits=list(range(30))):\n",
    "    if isinstance(path_col, str):\n",
    "        path_col = pl.col(path_col)\n",
    "    return pl.concat_str(\n",
    "        [\n",
    "            pl.when(\n",
    "                path_col.list.contains(f\">BC:bit{bit}=1\").or_(\n",
    "                    path_col.list.contains(f\"<BC:bit{bit}=1\")\n",
    "                )\n",
    "            )\n",
    "            .then(pl.lit(\"1\"))\n",
    "            .otherwise(pl.lit(\"0\"))\n",
    "            for bit in bits\n",
    "        ]\n",
    "    )"
   ]
  },
  {
   "cell_type": "markdown",
   "id": "b34545ca-a1aa-430d-bf3e-d4d27e7ac7cc",
   "metadata": {},
   "source": [
    "# Load"
   ]
  },
  {
   "cell_type": "code",
   "execution_count": null,
   "id": "1c2baf33-092a-4abe-8a2c-19ea6e55eed5",
   "metadata": {},
   "outputs": [],
   "source": [
    "segment_columns = [\n",
    "    \"promoter|divergence\",\n",
    "    \"promoter|variant\",\n",
    "    \"repressor:promoter|divergence\",\n",
    "    \"repressor:promoter|variant\",\n",
    "    \"RBS|seq\",\n",
    "    \"repressor:RBS|seq\",\n",
    "    \"repressor:RBS|variant\",\n",
    "    \"repressor:RBS|divergence\",\n",
    "    \"mVenus|divergence\",\n",
    "    \"repressor|divergence\",\n",
    "    \"repressor|variant\",\n",
    "]"
   ]
  },
  {
   "cell_type": "code",
   "execution_count": null,
   "id": "a9b1e927-9ed7-4dd3-b803-6da62cb914ae",
   "metadata": {},
   "outputs": [],
   "source": [
    "gfa = gfapy.Gfa.from_file(\n",
    "    # \"/home/jqs1/scratch/sequencing/sequencing_references/pLIB473-476.gfa\"\n",
    "    \"/home/jqs1/scratch/sequencing/sequencing_references/pLIB492-501.gfa\"\n",
    ")"
   ]
  },
  {
   "cell_type": "code",
   "execution_count": null,
   "id": "474f30d2-e02d-4aad-9aa0-92ef3a162ea5",
   "metadata": {},
   "outputs": [],
   "source": [
    "%%time\n",
    "df = load_sequencing(\n",
    "    # \"/home/jqs1/scratch/sequencing/240703_pLIB476/output/max_divergence=0.3/extract_segments/*.arrow\"\n",
    "    # \"/home/jqs1/scratch/sequencing/240718_pLIB473-475/20240718_1344_3C_PAW62071_62ccd0ff/output/max_divergence=0.3/extract_segments/*.arrow\"\n",
    "    # \"/home/jqs1/scratch/sequencing/240820_pLIB492-501/pLIB492-496/20240820_1226_1C_PAY62203_e0d753e4/output/max_divergence=0.3/extract_segments/*.arrow\"\n",
    "    \"/home/jqs1/scratch/sequencing/240820_pLIB492-501/pLIB497-501/20240820_1226_1E_PAY57403_4e5d4806/output/max_divergence=0.3/extract_segments/*.arrow\"\n",
    "    # \"/home/jqs1/scratch/sequencing/240820_pLIB492-501/pLIB492-496/20240820_1226_1C_PAY62203_e0d753e4/output/max_divergence=0.3/extract_segments/consensus-0-of-400.arrow\"\n",
    ")\n",
    "df = processing.compute_divergences(\n",
    "    df,\n",
    "    list(dict.fromkeys(([s.split(\"=\")[0] for s in gfa.segment_names]))),\n",
    "    struct_name=\"variants_segments\",\n",
    ")\n",
    "df = df.select(\n",
    "    pl.col(\n",
    "        \"grouping_path\",\n",
    "        # \"consensus_seq\",\n",
    "        \"name\",\n",
    "        \"grouping_path_hash\",\n",
    "        \"grouping_depth\",\n",
    "        \"consensus_depth\",\n",
    "        \"strand\",\n",
    "        \"variants_path\",\n",
    "        # \"variants_segments\",\n",
    "        \"is_primary_alignment\",\n",
    "        \"dup\",\n",
    "        \"e2e\",\n",
    "        \"bc_e2e\",\n",
    "    ),\n",
    "    *[pl.col(\"variants_segments\").struct[f] for f in segment_columns]\n",
    ")\n",
    "df = df.collect()"
   ]
  },
  {
   "cell_type": "code",
   "execution_count": null,
   "id": "cdf9d708-98cd-4832-881c-be3d16d00791",
   "metadata": {},
   "outputs": [],
   "source": [
    "df.estimated_size(\"gb\")"
   ]
  },
  {
   "cell_type": "code",
   "execution_count": null,
   "id": "8c8eccff-3097-467d-ae55-522ebb828bb5",
   "metadata": {},
   "outputs": [],
   "source": [
    "df.columns"
   ]
  },
  {
   "cell_type": "markdown",
   "id": "83976c42-8840-4715-95ae-75888400d772",
   "metadata": {},
   "source": [
    "# Diagnostics"
   ]
  },
  {
   "cell_type": "code",
   "execution_count": null,
   "id": "62f8d09c-d8b0-4132-bb82-12f6ba4811b6",
   "metadata": {},
   "outputs": [],
   "source": [
    "sorted(\n",
    "    {col: df[col].estimated_size(\"gb\") for col in df.columns}.items(),\n",
    "    key=operator.itemgetter(1),\n",
    "    reverse=True,\n",
    ")"
   ]
  },
  {
   "cell_type": "code",
   "execution_count": null,
   "id": "35a90257-2509-4d67-984e-1965b54c42fd",
   "metadata": {},
   "outputs": [],
   "source": [
    "sorted(\n",
    "    {\n",
    "        col: df[\"variants_segments\"].struct[col].estimated_size(\"gb\")\n",
    "        for col in df[\"variants_segments\"].struct.fields\n",
    "    }.items(),\n",
    "    key=operator.itemgetter(1),\n",
    "    reverse=True,\n",
    ")"
   ]
  },
  {
   "cell_type": "code",
   "execution_count": null,
   "id": "b5b90d10-9d26-4bb5-98d8-58c57cb27d1c",
   "metadata": {},
   "outputs": [],
   "source": [
    "df[\"promoter|variant\"].value_counts()"
   ]
  },
  {
   "cell_type": "code",
   "execution_count": null,
   "id": "88cbfa44-f5f9-47bd-9e6d-706d04a42cf8",
   "metadata": {},
   "outputs": [],
   "source": [
    "df[\"repressor|variant\"].value_counts()"
   ]
  },
  {
   "cell_type": "code",
   "execution_count": null,
   "id": "c81788da-848b-4a12-864b-232cfb3af260",
   "metadata": {},
   "outputs": [],
   "source": [
    "df[\"repressor:RBS|variant\"].value_counts()"
   ]
  },
  {
   "cell_type": "code",
   "execution_count": null,
   "id": "4dcd7925-daf6-4473-b533-31654b40b41a",
   "metadata": {},
   "outputs": [],
   "source": [
    "df.select(\n",
    "    pl.struct(\n",
    "        \"promoter|variant\", \"repressor|variant\", \"repressor:RBS|variant\"\n",
    "    ).value_counts(sort=True)\n",
    ").unnest(\"promoter|variant\")"
   ]
  },
  {
   "cell_type": "code",
   "execution_count": null,
   "id": "272a04e9-9852-4e0f-b2c1-10e1f11806cc",
   "metadata": {},
   "outputs": [],
   "source": [
    "hv.Curve(\n",
    "    df.select(\n",
    "        pl.struct(\n",
    "            \"promoter|variant\", \"repressor|variant\", \"repressor:RBS|variant\"\n",
    "        ).value_counts(sort=True)\n",
    "    ).unnest(\"promoter|variant\")[\"count\"]\n",
    ")"
   ]
  },
  {
   "cell_type": "code",
   "execution_count": null,
   "id": "2a9062eb-ab13-4f85-a1d9-858d0fd99181",
   "metadata": {},
   "outputs": [],
   "source": [
    "df.select(\n",
    "    pl.col(r\"^.*\\|divergence$\").replace(np.nan, None),\n",
    ").quantile(\n",
    "    0.99\n",
    ").to_pandas().T.sort_values(0, ascending=False)"
   ]
  },
  {
   "cell_type": "code",
   "execution_count": null,
   "id": "28d7aabf-c1b1-4c4f-a9d8-b17706db8464",
   "metadata": {},
   "outputs": [],
   "source": [
    "df[\"grouping_depth\"].sort(descending=True).to_pandas().hvplot.step(\n",
    "    logy=True, height=800\n",
    ")"
   ]
  },
  {
   "cell_type": "code",
   "execution_count": null,
   "id": "c66d49aa-4572-44c4-a036-f1b6905efc9f",
   "metadata": {},
   "outputs": [],
   "source": [
    "df.sort(\"grouping_depth\").select(\n",
    "    pl.col(\"grouping_depth\"),\n",
    "    frac_barcodes=pl.int_range(1, pl.len() + 1, dtype=pl.UInt32) / pl.len(),\n",
    "    frac_reads=pl.col(\"grouping_depth\").cum_sum() / pl.col(\"grouping_depth\").sum(),\n",
    ").to_pandas().hvplot.step(\"grouping_depth\", logx=True, logy=False, where=\"pre\")"
   ]
  },
  {
   "cell_type": "code",
   "execution_count": null,
   "id": "76d212ac-b167-468e-989b-307342be1159",
   "metadata": {},
   "outputs": [],
   "source": [
    "counts = df2.select(\n",
    "    pl.struct(\"RBS1:RBS|seq\", \"RBS2:RBS|seq\", \"RBS3:RBS|seq\").alias(\"foo\")\n",
    ")[\"foo\"].value_counts(sort=True)"
   ]
  },
  {
   "cell_type": "code",
   "execution_count": null,
   "id": "6510e6dc-1cbc-4bb9-9866-e64233ca9e5a",
   "metadata": {},
   "outputs": [],
   "source": [
    "counts[\"count\"].to_pandas().hvplot.step(logy=True, logx=True)"
   ]
  },
  {
   "cell_type": "code",
   "execution_count": null,
   "id": "55fe2350-367d-4160-839d-7b55463eab8a",
   "metadata": {},
   "outputs": [],
   "source": [
    "df.filter(pl.col(\"variants_path\").list.get(0) == \">UNS3\")"
   ]
  },
  {
   "cell_type": "markdown",
   "id": "bdc252c6-0841-426d-a2d5-133ab32fa4da",
   "metadata": {},
   "source": [
    "# Export to Eaton format"
   ]
  },
  {
   "cell_type": "code",
   "execution_count": null,
   "id": "80216d8b-7396-4ffa-918c-8619e018dfa4",
   "metadata": {},
   "outputs": [],
   "source": [
    "%%time\n",
    "df_eaton = (\n",
    "    df.with_columns(\n",
    "        barcode=path_to_barcode_string(\"variants_path\"),\n",
    "        reference=pl.lit(\"\"),\n",
    "        alignmentstart=1,\n",
    "        cigar=pl.lit(\"\"),\n",
    "        subsample=pl.lit(\"\"),\n",
    "        consensus_seq=pl.lit(\"\"),  # if not including consensus seq\n",
    "    )\n",
    "    .rename({\"consensus_seq\": \"consensus\"})\n",
    "    # .select(\n",
    "    #     \"barcode\",\n",
    "    #     \"consensus\",\n",
    "    #     \"reference\",\n",
    "    #     \"alignmentstart\",\n",
    "    #     \"cigar\",\n",
    "    #     \"subsample\",\n",
    "    #     \"grouping_depth\",\n",
    "    #     \"consensus_depth\",\n",
    "    #     \"promoter|variant\",\n",
    "    #     \"promoter|seq\",\n",
    "    #     \"RBS|seq\",\n",
    "    #     \"repressor:promoter|variant\",\n",
    "    #     \"repressor:promoter|seq\",\n",
    "    #     \"repressor|variant\",\n",
    "    #     \"promoter|divergence\",\n",
    "    #     \"ScmJ|divergence\",\n",
    "    #     \"RBS:RiboJ|divergence\",\n",
    "    #     \"RBS:BCD_leader|divergence\",\n",
    "    #     \"repressor:promoter|divergence\",\n",
    "    #     \"repressor|divergence\",\n",
    "    #     \"mVenus|divergence\",\n",
    "    # )\n",
    "    .sort(\"barcode\")\n",
    "    .with_row_index(name=\"barcodeid\")\n",
    "    .with_row_index(name=\"\")\n",
    ")"
   ]
  },
  {
   "cell_type": "code",
   "execution_count": null,
   "id": "7db2ccce-bb26-4a52-b69e-2c1e5bce96d6",
   "metadata": {},
   "outputs": [],
   "source": [
    "df_eaton"
   ]
  },
  {
   "cell_type": "code",
   "execution_count": null,
   "id": "6c6a07d1-83f7-4979-8de5-25e432724e78",
   "metadata": {},
   "outputs": [],
   "source": [
    "df_eaton.write_parquet(\"240902_pLIB497-501_eaton_export.parquet\")"
   ]
  },
  {
   "cell_type": "code",
   "execution_count": null,
   "id": "02000af3-e545-42cd-b715-4cd74358d9e4",
   "metadata": {},
   "outputs": [],
   "source": [
    "!pwd"
   ]
  }
 ],
 "metadata": {
  "kernelspec": {
   "display_name": "Python 3 (ipykernel)",
   "language": "python",
   "name": "python3"
  },
  "language_info": {
   "codemirror_mode": {
    "name": "ipython",
    "version": 3
   },
   "file_extension": ".py",
   "mimetype": "text/x-python",
   "name": "python",
   "nbconvert_exporter": "python",
   "pygments_lexer": "ipython3",
   "version": "3.11.9"
  }
 },
 "nbformat": 4,
 "nbformat_minor": 5
}