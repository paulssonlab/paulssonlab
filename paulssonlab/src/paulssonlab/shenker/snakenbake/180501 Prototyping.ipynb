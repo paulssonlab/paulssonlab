{
 "cells": [
  {
   "cell_type": "code",
   "execution_count": null,
   "metadata": {},
   "outputs": [],
   "source": [
    "import numpy as np\n",
    "import gdspy\n",
    "import matplotlib.pyplot as plt\n",
    "\n",
    "%matplotlib inline\n",
    "from functools import partial"
   ]
  },
  {
   "cell_type": "code",
   "execution_count": null,
   "metadata": {},
   "outputs": [],
   "source": [
    "%load_ext autoreload\n",
    "%autoreload 2\n",
    "from snakenmake import *"
   ]
  },
  {
   "cell_type": "code",
   "execution_count": null,
   "metadata": {},
   "outputs": [],
   "source": [
    "def plot_cell(cell):\n",
    "    # FROM: https://github.com/heitzmann/gdspy/issues/42\n",
    "    poly_dict = cell.get_polygons(by_spec=True)\n",
    "    plt.figure(figsize=(20, 12))\n",
    "    for layer_datatype, polys in poly_dict.items():\n",
    "        if layer_datatype[0] == 2:\n",
    "            continue\n",
    "        for poly in polys:\n",
    "            plt.fill(*poly.T, lw=0.5, ec=\"r\", fc=\"none\")\n",
    "    plt.axes().set_aspect(\"equal\", \"datalim\")"
   ]
  },
  {
   "cell_type": "code",
   "execution_count": null,
   "metadata": {},
   "outputs": [],
   "source": [
    "TRENCH_LAYER = 2\n",
    "FEEDING_CHANNEL_LAYER = 6"
   ]
  },
  {
   "cell_type": "code",
   "execution_count": null,
   "metadata": {},
   "outputs": [],
   "source": [
    "coverslip_dims = np.array([55e3, 24e3])\n",
    "chip_dims = np.array([23e3, 13e3])"
   ]
  },
  {
   "cell_type": "code",
   "execution_count": null,
   "metadata": {},
   "outputs": [],
   "source": [
    "Cell = partial(gdspy.Cell, exclude_from_current=True)"
   ]
  },
  {
   "cell_type": "code",
   "execution_count": null,
   "metadata": {},
   "outputs": [],
   "source": [
    "lib = gdspy.GdsLibrary()"
   ]
  },
  {
   "cell_type": "code",
   "execution_count": null,
   "metadata": {},
   "outputs": [],
   "source": [
    "cells, metadata = snake(\n",
    "    chip_dims, split=3, margin=1e3, trench_spacing=1.5, feeding_channel_width=90\n",
    ")\n",
    "snake_cell = cells[0]\n",
    "chip_cell = Cell(\"Chip\")\n",
    "chip_cell.add(outline(chip_dims))\n",
    "chip_cell.add(g.CellReference(snake_cell, (0, 0)))\n",
    "plot_cell(chip_cell)\n",
    "print(metadata)"
   ]
  },
  {
   "cell_type": "code",
   "execution_count": null,
   "metadata": {},
   "outputs": [],
   "source": [
    "main_cell = Cell(\"main\")\n",
    "main_cell.add(gdspy.CellReference(chip_cell, (0, 0)))"
   ]
  },
  {
   "cell_type": "code",
   "execution_count": null,
   "metadata": {},
   "outputs": [],
   "source": [
    "plot_cell(main_cell)"
   ]
  },
  {
   "cell_type": "code",
   "execution_count": null,
   "metadata": {},
   "outputs": [],
   "source": [
    "lib = gdspy.GdsLibrary(\n",
    "    infile=\"/Users/jacob/Dropbox/Research/Paulsson/snakenbake/test/20170426_Vibrio_Suction_W1.GDS\"\n",
    ")"
   ]
  },
  {
   "cell_type": "code",
   "execution_count": null,
   "metadata": {},
   "outputs": [],
   "source": [
    "[c.name for c in lib.top_level()]"
   ]
  },
  {
   "cell_type": "code",
   "execution_count": null,
   "metadata": {},
   "outputs": [],
   "source": [
    "main_cell = next(c for c in lib.top_level() if c.name == \"main\")\n",
    "poly_dict = main_cell.get_polygons(by_spec=True)"
   ]
  },
  {
   "cell_type": "code",
   "execution_count": null,
   "metadata": {},
   "outputs": [],
   "source": [
    "plt.figure(figsize=(20, 20))\n",
    "for layer_datatype, polys in poly_dict.items():\n",
    "    if layer_datatype[0] == 2:\n",
    "        continue\n",
    "    for poly in polys:\n",
    "        plt.fill(*poly.T, lw=0.5, ec=\"r\", fc=\"none\")"
   ]
  },
  {
   "cell_type": "code",
   "execution_count": null,
   "metadata": {},
   "outputs": [],
   "source": []
  }
 ],
 "metadata": {
  "kernelspec": {
   "display_name": "Python 3",
   "language": "python",
   "name": "python3"
  },
  "language_info": {
   "codemirror_mode": {
    "name": "ipython",
    "version": 3
   },
   "file_extension": ".py",
   "mimetype": "text/x-python",
   "name": "python",
   "nbconvert_exporter": "python",
   "pygments_lexer": "ipython3",
   "version": "3.6.4"
  }
 },
 "nbformat": 4,
 "nbformat_minor": 2
}
