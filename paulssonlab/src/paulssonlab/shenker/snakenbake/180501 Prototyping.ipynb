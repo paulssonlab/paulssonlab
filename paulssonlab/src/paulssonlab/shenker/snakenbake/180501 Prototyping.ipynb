{
 "cells": [
  {
   "cell_type": "code",
   "execution_count": null,
   "metadata": {},
   "outputs": [],
   "source": [
    "import numpy as np\n",
    "import gdspy\n",
    "import matplotlib.pyplot as plt\n",
    "\n",
    "%matplotlib inline\n",
    "from functools import partial"
   ]
  },
  {
   "cell_type": "code",
   "execution_count": null,
   "metadata": {},
   "outputs": [],
   "source": [
    "def plot_cell(cell):\n",
    "    # FROM: https://github.com/heitzmann/gdspy/issues/42\n",
    "    poly_dict = cell.get_polygons(by_spec=True)\n",
    "    plt.figure(figsize=(20, 20))\n",
    "    for layer_datatype, polys in poly_dict.items():\n",
    "        if layer_datatype[0] == 2:\n",
    "            continue\n",
    "        for poly in polys:\n",
    "            plt.fill(*poly.T, lw=0.5, ec=\"r\", fc=\"none\")"
   ]
  },
  {
   "cell_type": "code",
   "execution_count": null,
   "metadata": {},
   "outputs": [],
   "source": [
    "TRENCH_LAYER = 2\n",
    "FEEDING_CHANNEL_LAYER = 6"
   ]
  },
  {
   "cell_type": "code",
   "execution_count": null,
   "metadata": {},
   "outputs": [],
   "source": [
    "coverslip_dims = np.array([55e3, 24e3])\n",
    "chip_dims = np.array([23e3, 13e3])\n",
    "outline_thickness = 0.15e3\n",
    "chip_margin = 1e3\n",
    "port_margin = chip_margin / 2\n",
    "trench_width = 1.5\n",
    "trench_length = 35\n",
    "lane_gap = 20\n",
    "effective_trench_length = trench_length + lane_gap / 2\n",
    "trench_spacing = 2\n",
    "feeding_channel_width = 90  # 300#90\n",
    "port_radius = 200\n",
    "inner_snake_turn_radius = effective_trench_length\n",
    "outer_snake_turn_radius = feeding_channel_width + inner_snake_turn_radius\n",
    "lane_fc_dims = np.array(\n",
    "    [chip_dims[0] - 2 * chip_margin - outer_snake_turn_radius, feeding_channel_width]\n",
    ")\n",
    "lane_height = feeding_channel_width + 2 * effective_trench_length\n",
    "num_lanes = (chip_dims[1] - 2 * chip_margin) // lane_height\n",
    "if num_lanes % 2 == 0:\n",
    "    num_lanes -= 1  # ensure odd\n",
    "last_lane_y = ((num_lanes - 1) * lane_height) / 2"
   ]
  },
  {
   "cell_type": "code",
   "execution_count": null,
   "metadata": {},
   "outputs": [],
   "source": [
    "Cell = partial(gdspy.Cell, exclude_from_current=True)"
   ]
  },
  {
   "cell_type": "code",
   "execution_count": null,
   "metadata": {},
   "outputs": [],
   "source": [
    "lib = gdspy.GdsLibrary()"
   ]
  },
  {
   "cell_type": "code",
   "execution_count": null,
   "metadata": {},
   "outputs": [],
   "source": [
    "# feedingchannel_cell = Cell('Feeding Channel')\n",
    "port_cell = Cell(\"Feeding Channel Port\")\n",
    "trench_cell = Cell(\"Trench\")\n",
    "lane_cell = Cell(\"Lane\")\n",
    "snake_cell = Cell(\"Snake\")  # use instead of chip_cell"
   ]
  },
  {
   "cell_type": "code",
   "execution_count": null,
   "metadata": {},
   "outputs": [],
   "source": [
    "chip_cell = Cell(\"Chip\")\n",
    "chip_outline_inner = gdspy.Rectangle(-chip_dims / 2, chip_dims / 2)\n",
    "chip_outline_outer = gdspy.Rectangle(\n",
    "    -(chip_dims + outline_thickness) / 2, (chip_dims + outline_thickness) / 2\n",
    ")\n",
    "chip_outline = gdspy.fast_boolean(chip_outline_outer, chip_outline_inner, \"not\")\n",
    "chip_cell.add(chip_outline)"
   ]
  },
  {
   "cell_type": "code",
   "execution_count": null,
   "metadata": {},
   "outputs": [],
   "source": [
    "lane_fc = gdspy.Rectangle(-lane_fc_dims / 2, lane_fc_dims / 2)\n",
    "lane_cell.add(lane_fc)"
   ]
  },
  {
   "cell_type": "code",
   "execution_count": null,
   "metadata": {},
   "outputs": [],
   "source": [
    "lane_ys = np.linspace(-last_lane_y, last_lane_y, num_lanes)\n",
    "for y in lane_ys:\n",
    "    chip_cell.add(gdspy.CellReference(lane_cell, (0, y)))"
   ]
  },
  {
   "cell_type": "code",
   "execution_count": null,
   "metadata": {},
   "outputs": [],
   "source": [
    "bend_cell = Cell(\"Feeding Channel Bend\")\n",
    "bend = gdspy.Round(\n",
    "    (0, 0),\n",
    "    outer_snake_turn_radius,\n",
    "    inner_radius=inner_snake_turn_radius,\n",
    "    number_of_points=500,\n",
    ")\n",
    "bend = gdspy.slice(bend, 0, 0)\n",
    "bend_cell.add(bend[1])"
   ]
  },
  {
   "cell_type": "code",
   "execution_count": null,
   "metadata": {},
   "outputs": [],
   "source": [
    "for y in lane_ys[1::2]:\n",
    "    chip_cell.add(\n",
    "        gdspy.CellReference(bend_cell, (lane_fc_dims[0] / 2, y + lane_height / 2))\n",
    "    )\n",
    "    chip_cell.add(\n",
    "        gdspy.CellReference(\n",
    "            bend_cell, (-lane_fc_dims[0] / 2, y - lane_height / 2), rotation=180\n",
    "        )\n",
    "    )"
   ]
  },
  {
   "cell_type": "code",
   "execution_count": null,
   "metadata": {},
   "outputs": [],
   "source": [
    "port_x = chip_dims[0] / 2 - lane_fc_dims[0] / 2 - port_radius - port_margin\n",
    "port = gdspy.Round((port_x, 0), port_radius, number_of_points=500)\n",
    "port_fc = gdspy.Rectangle((0, -lane_fc_dims[1] / 2), (port_x, lane_fc_dims[1] / 2))\n",
    "port_cell.add(port)\n",
    "port_cell.add(port_fc)"
   ]
  },
  {
   "cell_type": "code",
   "execution_count": null,
   "metadata": {},
   "outputs": [],
   "source": [
    "chip_cell.add(\n",
    "    gdspy.CellReference(port_cell, (-lane_fc_dims[0] / 2, lane_ys[-1]), rotation=180)\n",
    ")\n",
    "chip_cell.add(gdspy.CellReference(port_cell, (lane_fc_dims[0] / 2, lane_ys[0])))"
   ]
  },
  {
   "cell_type": "code",
   "execution_count": null,
   "metadata": {},
   "outputs": [],
   "source": [
    "main_cell = Cell(\"main\")\n",
    "main_cell.add(gdspy.CellReference(chip_cell, (0, 0)))"
   ]
  },
  {
   "cell_type": "code",
   "execution_count": null,
   "metadata": {},
   "outputs": [],
   "source": [
    "plot_cell(main_cell)"
   ]
  },
  {
   "cell_type": "code",
   "execution_count": null,
   "metadata": {},
   "outputs": [],
   "source": [
    "lib = gdspy.GdsLibrary(\n",
    "    infile=\"/Users/jacob/Dropbox/Research/Paulsson/snakenbake/test/20170426_Vibrio_Suction_W1.GDS\"\n",
    ")"
   ]
  },
  {
   "cell_type": "code",
   "execution_count": null,
   "metadata": {},
   "outputs": [],
   "source": [
    "[c.name for c in lib.top_level()]"
   ]
  },
  {
   "cell_type": "code",
   "execution_count": null,
   "metadata": {},
   "outputs": [],
   "source": [
    "main_cell = next(c for c in lib.top_level() if c.name == \"main\")\n",
    "poly_dict = main_cell.get_polygons(by_spec=True)"
   ]
  },
  {
   "cell_type": "code",
   "execution_count": null,
   "metadata": {},
   "outputs": [],
   "source": [
    "plt.figure(figsize=(20, 20))\n",
    "for layer_datatype, polys in poly_dict.items():\n",
    "    if layer_datatype[0] == 2:\n",
    "        continue\n",
    "    for poly in polys:\n",
    "        plt.fill(*poly.T, lw=0.5, ec=\"r\", fc=\"none\")"
   ]
  },
  {
   "cell_type": "code",
   "execution_count": null,
   "metadata": {},
   "outputs": [],
   "source": []
  }
 ],
 "metadata": {
  "kernelspec": {
   "display_name": "Python 3",
   "language": "python",
   "name": "python3"
  },
  "language_info": {
   "codemirror_mode": {
    "name": "ipython",
    "version": 3
   },
   "file_extension": ".py",
   "mimetype": "text/x-python",
   "name": "python",
   "nbconvert_exporter": "python",
   "pygments_lexer": "ipython3",
   "version": "3.6.4"
  }
 },
 "nbformat": 4,
 "nbformat_minor": 2
}
