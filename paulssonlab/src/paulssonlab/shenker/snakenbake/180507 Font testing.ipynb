{
 "cells": [
  {
   "cell_type": "code",
   "execution_count": null,
   "metadata": {},
   "outputs": [],
   "source": [
    "import freetype\n",
    "import numpy\n",
    "import matplotlib.pyplot as plt\n",
    "from matplotlib.path import Path\n",
    "import matplotlib.patches as patches"
   ]
  },
  {
   "cell_type": "code",
   "execution_count": null,
   "metadata": {},
   "outputs": [],
   "source": [
    "slot.outline.points"
   ]
  },
  {
   "cell_type": "code",
   "execution_count": null,
   "metadata": {},
   "outputs": [],
   "source": [
    "face = freetype.Face(\"Vera.ttf\")\n",
    "face.set_char_size(48 * 64)\n",
    "face.load_char(\"S\")\n",
    "slot = face.glyph\n",
    "\n",
    "outline = slot.outline\n",
    "points = numpy.array(outline.points, dtype=[(\"x\", float), (\"y\", float)])\n",
    "x, y = points[\"x\"], points[\"y\"]\n",
    "\n",
    "start, end = 0, 0\n",
    "VERTS, CODES = [], []\n",
    "# Iterate over each contour\n",
    "for i in range(len(outline.contours)):\n",
    "    end = outline.contours[i]\n",
    "    points = outline.points[start : end + 1]\n",
    "    points.append(points[0])\n",
    "    tags = outline.tags[start : end + 1]\n",
    "    tags.append(tags[0])\n",
    "\n",
    "    segments = [\n",
    "        [\n",
    "            points[0],\n",
    "        ],\n",
    "    ]\n",
    "    for j in range(1, len(points)):\n",
    "        segments[-1].append(points[j])\n",
    "        if tags[j] & (1 << 0) and j < (len(points) - 1):\n",
    "            segments.append(\n",
    "                [\n",
    "                    points[j],\n",
    "                ]\n",
    "            )\n",
    "    verts = [\n",
    "        points[0],\n",
    "    ]\n",
    "    codes = [\n",
    "        Path.MOVETO,\n",
    "    ]\n",
    "    for segment in segments:\n",
    "        if len(segment) == 2:\n",
    "            verts.extend(segment[1:])\n",
    "            codes.extend([Path.LINETO])\n",
    "        elif len(segment) == 3:\n",
    "            verts.extend(segment[1:])\n",
    "            codes.extend([Path.CURVE3, Path.CURVE3])\n",
    "        else:\n",
    "            verts.append(segment[1])\n",
    "            codes.append(Path.CURVE3)\n",
    "            for i in range(1, len(segment) - 2):\n",
    "                A, B = segment[i], segment[i + 1]\n",
    "                C = ((A[0] + B[0]) / 2.0, (A[1] + B[1]) / 2.0)\n",
    "                verts.extend([C, B])\n",
    "                codes.extend([Path.CURVE3, Path.CURVE3])\n",
    "            verts.append(segment[-1])\n",
    "            codes.append(Path.CURVE3)\n",
    "    VERTS.extend(verts)\n",
    "    CODES.extend(codes)\n",
    "    start = end + 1"
   ]
  },
  {
   "cell_type": "code",
   "execution_count": null,
   "metadata": {},
   "outputs": [],
   "source": [
    "figure = plt.figure(figsize=(8, 10))\n",
    "axis = figure.add_subplot(111)\n",
    "# axis.scatter(points['x'], points['y'], alpha=.25)\n",
    "axis.scatter(x, y)\n",
    "\n",
    "# Draw glyph lines\n",
    "path = Path(VERTS, CODES)\n",
    "glyph = patches.PathPatch(path, facecolor=\".75\", lw=1)\n",
    "\n",
    "# Draw \"control\" lines\n",
    "for i, code in enumerate(CODES):\n",
    "    if code == Path.CURVE3:\n",
    "        CODES[i] = Path.LINETO\n",
    "path = Path(VERTS, CODES)\n",
    "patch = patches.PathPatch(path, ec=\".5\", fill=False, ls=\"dashed\", lw=1)\n",
    "\n",
    "axis.add_patch(patch)\n",
    "axis.add_patch(glyph)\n",
    "\n",
    "axis.set_xlim(x.min() - 100, x.max() + 100)\n",
    "plt.xticks([])\n",
    "axis.set_ylim(y.min() - 100, y.max() + 100)\n",
    "plt.yticks([])\n",
    "plt.show()"
   ]
  }
 ],
 "metadata": {
  "kernelspec": {
   "display_name": "Python 3",
   "language": "python",
   "name": "python3"
  },
  "language_info": {
   "codemirror_mode": {
    "name": "ipython",
    "version": 3
   },
   "file_extension": ".py",
   "mimetype": "text/x-python",
   "name": "python",
   "nbconvert_exporter": "python",
   "pygments_lexer": "ipython3",
   "version": "3.6.4"
  }
 },
 "nbformat": 4,
 "nbformat_minor": 2
}
