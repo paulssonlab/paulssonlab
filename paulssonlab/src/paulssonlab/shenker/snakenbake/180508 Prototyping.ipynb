{
 "cells": [
  {
   "cell_type": "code",
   "execution_count": null,
   "metadata": {},
   "outputs": [],
   "source": [
    "import numpy as np\n",
    "import gdspy\n",
    "import matplotlib.pyplot as plt\n",
    "\n",
    "%matplotlib inline\n",
    "from functools import partial"
   ]
  },
  {
   "cell_type": "code",
   "execution_count": null,
   "metadata": {},
   "outputs": [],
   "source": [
    "%load_ext autoreload\n",
    "%autoreload 2\n",
    "import snakenmake\n",
    "from snakenmake import *"
   ]
  },
  {
   "cell_type": "code",
   "execution_count": null,
   "metadata": {},
   "outputs": [],
   "source": [
    "def plot_cell(cell, exclude=(2,)):\n",
    "    # FROM: https://github.com/heitzmann/gdspy/issues/42\n",
    "    poly_dict = cell.get_polygons(by_spec=True)\n",
    "    plt.figure(figsize=(20, 12))\n",
    "    for layer_datatype, polys in poly_dict.items():\n",
    "        if layer_datatype[0] in exclude:\n",
    "            continue\n",
    "        for poly in polys:\n",
    "            plt.fill(*poly.T, lw=0.5, ec=\"r\", fc=\"none\")\n",
    "    plt.axes().set_aspect(\"equal\", \"datalim\")\n",
    "\n",
    "\n",
    "def write_gds(main_cell, filename, unit=1.0e-6, precision=1.0e-9):\n",
    "    writer = gdspy.GdsWriter(filename, unit=unit, precision=precision)\n",
    "    for cell in [main_cell] + list(main_cell.get_dependencies(True)):\n",
    "        writer.write_cell(cell)\n",
    "    writer.close()"
   ]
  },
  {
   "cell_type": "code",
   "execution_count": null,
   "metadata": {},
   "outputs": [],
   "source": [
    "coverslip_dims = np.array([55e3, 24e3])\n",
    "chip_dims = np.array([23e3, 13e3])"
   ]
  },
  {
   "cell_type": "code",
   "execution_count": null,
   "metadata": {},
   "outputs": [],
   "source": [
    "fov = 6.5 * 2048 / 40\n",
    "fov"
   ]
  },
  {
   "cell_type": "code",
   "execution_count": null,
   "metadata": {},
   "outputs": [],
   "source": [
    "23e3 * 13e3 / fov**2"
   ]
  },
  {
   "cell_type": "code",
   "execution_count": null,
   "metadata": {},
   "outputs": [],
   "source": [
    "from snakenmake import *\n",
    "\n",
    "main_cell = wafer(\n",
    "    [chip(\"Big Snake S3 FC90 L35 W1.5 LG20 TS2\", snake, split=3, draw_trenches=True)]\n",
    "    * 3,\n",
    "    \"Big snakes\\n180503\",\n",
    ")\n",
    "write_gds(main_cell, \"bigsnakes2.gds\")"
   ]
  },
  {
   "cell_type": "code",
   "execution_count": null,
   "metadata": {},
   "outputs": [],
   "source": [
    "from snakenmake import *\n",
    "\n",
    "main_cell = wafer(\n",
    "    [\n",
    "        chip(\n",
    "            \"Big Snake S3 FC{fc} L35 W1.5 TS{ts} LG20\".format(fc=fc, ts=ts),\n",
    "            snake,\n",
    "            split=3,\n",
    "            feeding_channel_width=fc,\n",
    "            trench_spacing=ts,\n",
    "            draw_trenches=True,\n",
    "        )\n",
    "        for fc in (90, 65)\n",
    "        for ts in (1, 1.5, 2)\n",
    "    ],\n",
    "    \"Big Snakes \\n BS/JQS 180508\",\n",
    ")\n",
    "write_gds(main_cell, \"bigsnakes2.gds\")"
   ]
  },
  {
   "cell_type": "code",
   "execution_count": null,
   "metadata": {},
   "outputs": [],
   "source": []
  }
 ],
 "metadata": {
  "kernelspec": {
   "display_name": "Python 3",
   "language": "python",
   "name": "python3"
  }
 },
 "nbformat": 4,
 "nbformat_minor": 2
}
