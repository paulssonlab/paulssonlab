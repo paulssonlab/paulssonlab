{
 "cells": [
  {
   "cell_type": "code",
   "execution_count": null,
   "metadata": {},
   "outputs": [],
   "source": [
    "import freetype\n",
    "import numpy as np\n",
    "from scipy.special import binom\n",
    "import matplotlib.pyplot as plt\n",
    "from matplotlib.path import Path\n",
    "import matplotlib.patches as patches"
   ]
  },
  {
   "cell_type": "code",
   "execution_count": null,
   "metadata": {},
   "outputs": [],
   "source": [
    "%load_ext autoreload\n",
    "%autoreload 2\n",
    "import text"
   ]
  },
  {
   "cell_type": "code",
   "execution_count": null,
   "metadata": {},
   "outputs": [],
   "source": [
    "face = freetype.Face(\"Vera.ttf\")\n",
    "face.set_char_size(48 * 64)\n",
    "face.load_char(\"g\")\n",
    "slot = face.glyph\n",
    "\n",
    "outline = slot.outline\n",
    "points = np.array(outline.points, dtype=[(\"x\", float), (\"y\", float)])\n",
    "x, y = points[\"x\"], points[\"y\"]\n",
    "\n",
    "start, end = 0, 0\n",
    "VERTS, CODES = [], []\n",
    "# Iterate over each contour\n",
    "for i in range(len(outline.contours)):\n",
    "    end = outline.contours[i]\n",
    "    points = outline.points[start : end + 1]\n",
    "    points.append(points[0])\n",
    "    tags = outline.tags[start : end + 1]\n",
    "    tags.append(tags[0])\n",
    "\n",
    "    segments = [\n",
    "        [\n",
    "            points[0],\n",
    "        ],\n",
    "    ]\n",
    "    for j in range(1, len(points)):\n",
    "        segments[-1].append(points[j])\n",
    "        if tags[j] & (1 << 0) and j < (len(points) - 1):\n",
    "            segments.append(\n",
    "                [\n",
    "                    points[j],\n",
    "                ]\n",
    "            )\n",
    "    verts = [\n",
    "        points[0],\n",
    "    ]\n",
    "    codes = [\n",
    "        Path.MOVETO,\n",
    "    ]\n",
    "    for segment in segments:\n",
    "        if len(segment) == 2:\n",
    "            verts.extend(segment[1:])\n",
    "            codes.extend([Path.LINETO])\n",
    "        elif len(segment) == 3:\n",
    "            verts.extend(segment[1:])\n",
    "            codes.extend([Path.CURVE3, Path.CURVE3])\n",
    "        else:\n",
    "            print(len(segment))\n",
    "            verts.append(segment[1])\n",
    "            codes.append(Path.CURVE3)\n",
    "            for i in range(1, len(segment) - 2):\n",
    "                A, B = segment[i], segment[i + 1]\n",
    "                C = ((A[0] + B[0]) / 2.0, (A[1] + B[1]) / 2.0)\n",
    "                verts.extend([C, B])\n",
    "                codes.extend([Path.CURVE3, Path.CURVE3])\n",
    "            verts.append(segment[-1])\n",
    "            codes.append(Path.CURVE3)\n",
    "    VERTS.extend(verts)\n",
    "    CODES.extend(codes)\n",
    "    start = end + 1"
   ]
  },
  {
   "cell_type": "code",
   "execution_count": null,
   "metadata": {},
   "outputs": [],
   "source": [
    "segments"
   ]
  },
  {
   "cell_type": "code",
   "execution_count": null,
   "metadata": {},
   "outputs": [],
   "source": [
    "figure = plt.figure(figsize=(8, 10))\n",
    "axis = figure.add_subplot(111)\n",
    "# axis.scatter(points['x'], points['y'], alpha=.25)\n",
    "axis.scatter(x, y)\n",
    "\n",
    "# Draw glyph lines\n",
    "path = Path(VERTS, CODES)\n",
    "glyph = patches.PathPatch(path, facecolor=\".75\", lw=1)\n",
    "\n",
    "# Draw \"control\" lines\n",
    "for i, code in enumerate(CODES):\n",
    "    if code == Path.CURVE3:\n",
    "        CODES[i] = Path.LINETO\n",
    "path = Path(VERTS, CODES)\n",
    "patch = patches.PathPatch(path, ec=\".5\", fill=False, ls=\"dashed\", lw=1)\n",
    "\n",
    "axis.add_patch(patch)\n",
    "axis.add_patch(glyph)\n",
    "\n",
    "axis.set_xlim(x.min() - 100, x.max() + 100)\n",
    "plt.xticks([])\n",
    "axis.set_ylim(y.min() - 100, y.max() + 100)\n",
    "plt.yticks([])\n",
    "plt.show()"
   ]
  },
  {
   "cell_type": "code",
   "execution_count": null,
   "metadata": {},
   "outputs": [],
   "source": [
    "VERTS"
   ]
  },
  {
   "cell_type": "code",
   "execution_count": null,
   "metadata": {},
   "outputs": [],
   "source": [
    "CODES"
   ]
  },
  {
   "cell_type": "code",
   "execution_count": null,
   "metadata": {},
   "outputs": [],
   "source": [
    "slot.metrics.vertAdvance"
   ]
  },
  {
   "cell_type": "code",
   "execution_count": null,
   "metadata": {},
   "outputs": [],
   "source": [
    "DEFAULT_FACE = freetype.Face(\"Vera.ttf\")"
   ]
  },
  {
   "cell_type": "code",
   "execution_count": null,
   "metadata": {},
   "outputs": [],
   "source": [
    "DEFAULT_FACE.max_advance_height"
   ]
  },
  {
   "cell_type": "code",
   "execution_count": null,
   "metadata": {},
   "outputs": [],
   "source": [
    "DEFAULT_FACE.units_per_EM"
   ]
  },
  {
   "cell_type": "code",
   "execution_count": null,
   "metadata": {},
   "outputs": [],
   "source": [
    "DEFAULT_FACE.height"
   ]
  },
  {
   "cell_type": "code",
   "execution_count": null,
   "metadata": {},
   "outputs": [],
   "source": [
    "def Text2(\n",
    "    text,\n",
    "    size,\n",
    "    position=(0, 0),\n",
    "    horizontal=True,\n",
    "    angle=0,\n",
    "    x_reflection=False,\n",
    "    layer=0,\n",
    "    datatype=0,\n",
    "    face=DEFAULT_FACE,\n",
    "):\n",
    "    offset = np.zeros(2)\n",
    "    # face.set_char_size( 48*64 )\n",
    "    face.set_char_size(1)\n",
    "    for char in text:\n",
    "        if char == \"\\n\":\n",
    "            offset[0] = 0\n",
    "            offset[1] -= slot.metrics.vertAdvance\n",
    "            continue\n",
    "        elif char == \" \":\n",
    "            offset[0] += slot.metrics.horiAdvance\n",
    "            continue\n",
    "        print('loading \"{}\"'.format(char))\n",
    "        face.load_char(char, freetype.FT_LOAD_NO_SCALE)\n",
    "        # face.load_char(char)\n",
    "        slot = face.glyph\n",
    "        outline = slot.outline\n",
    "        points = np.array(outline.points).T + offset[:, np.newaxis]\n",
    "        plt.scatter(*points)\n",
    "        print(points.shape)\n",
    "        patch = patches.Polygon(points.T, color=\"g\", closed=True)\n",
    "        plt.gca().add_patch(patch)\n",
    "        offset[0] += slot.metrics.horiAdvance\n",
    "\n",
    "\n",
    "# plt.figure(figsize=(20,20))\n",
    "# Text2(\"this is a\\ntest of text rendering\", 10)\n",
    "Text2(\"AiaodgLljk\", 10)"
   ]
  },
  {
   "cell_type": "code",
   "execution_count": null,
   "metadata": {},
   "outputs": [],
   "source": [
    "face.load_char(\"i\")"
   ]
  },
  {
   "cell_type": "code",
   "execution_count": null,
   "metadata": {},
   "outputs": [],
   "source": [
    "slot.outline.tags"
   ]
  },
  {
   "cell_type": "code",
   "execution_count": null,
   "metadata": {},
   "outputs": [],
   "source": [
    "slot.outline.tags"
   ]
  },
  {
   "cell_type": "code",
   "execution_count": null,
   "metadata": {},
   "outputs": [],
   "source": [
    "face = freetype.Face(\"Vera.ttf\")\n",
    "face.set_char_size(48 * 64)\n",
    "face.load_char(\"s\")\n",
    "slot = face.glyph\n",
    "outline = slot.outline\n",
    "contours = np.array(outline.contours)\n",
    "for start, end in zip(np.concatenate(((0,), contours[:-1] + 1)), contours):\n",
    "    print(start, end)\n",
    "    points = outline.points[start : end + 1]\n",
    "    # points.append(points[0])\n",
    "    tags = outline.tags[start : end + 1]\n",
    "    # tags.append(tags[0])\n",
    "    print(points)\n",
    "    print(\"tags\", tags)\n",
    "    print(\"---\")\n",
    "    # segments = [ [points[0],], ]\n",
    "    # SEE: https://www.freetype.org/freetype2/docs/glyphs/glyphs-6.html\n",
    "    segments = []\n",
    "    for j in range(len(points)):  # range(1, len(points)-1):\n",
    "        if (\n",
    "            tags[j] & freetype.FT_CURVE_TAG_CONIC\n",
    "            and j > 1\n",
    "            and tags[j - 1] & freetype.FT_CURVE_TAG_CONIC\n",
    "        ):\n",
    "            # create virtual on point at midpoint of points[j-1] and points[j]\n",
    "            midpoint = (points[j - 1] + points[j]) / 2\n",
    "            segments[-1].append(midpoint)\n",
    "            segments.append([midpoint, points[j]])\n",
    "        else:\n",
    "            if j == 0 and tags[0] & freetype.FT_CURVE_TAG_CONIC:\n",
    "                # first point is off point, so segment should start at last point in contour\n",
    "                if tags[-1] & freetype.FT_CURVE_TAG_CONIC:\n",
    "                    # last point is also off point, so segment should start and end with\n",
    "                    # midpoint of first and last points\n",
    "                    midpoint = (points[0] + points[-1]) / 2\n",
    "                    segments.append([midpoint, points[0]])\n",
    "                else:\n",
    "                    segments.append([points[-1], points[0]])\n",
    "            if j != 0:\n",
    "                segments[-1].append(points[j])\n",
    "            if tags[j] & freetype.FT_CURVE_TAG_ON:\n",
    "                segments.append([points[j]])\n",
    "    if tags[0] & freetype.FT_CURVE_TAG_CONIC and tags[-1] & freetype.FT_CURVE_TAG_CONIC:\n",
    "        # first and last points are off points, so last on point is midpoint of first and last points\n",
    "        midpoint = (points[0] + points[-1]) / 2\n",
    "        segments[-1].append[midpoint]\n",
    "    else:\n",
    "        # close last segment with first point\n",
    "        segments[-1].append(points[0])\n",
    "    # uuu\n",
    "    print(\"segments\", segments)\n",
    "    for seg in segments:\n",
    "        if len(seg) == 2:\n",
    "            plt.plot(*np.array(seg).T)\n",
    "        elif len(seg) == 3 or len(seg) == 4:\n",
    "            plt.plot(*text.bezier(np.array(seg), np.linspace(0, 1, 100)).T)\n",
    "        else:\n",
    "            print(\"WHOOPS\", len(seg))"
   ]
  },
  {
   "cell_type": "code",
   "execution_count": null,
   "metadata": {},
   "outputs": [],
   "source": [
    "face = freetype.Face(\"Vera.ttf\")\n",
    "face.set_char_size(48 * 64)\n",
    "face.load_char(\"s\")\n",
    "slot = face.glyph\n",
    "outline = slot.outline\n",
    "contours = np.array(outline.contours)\n",
    "polygons = []\n",
    "for start, end in zip(np.concatenate(((0,), contours[:-1] + 1)), contours):\n",
    "    points = outline.points[start : end + 1]\n",
    "    tags = outline.tags[start : end + 1]\n",
    "    # SEE: https://www.freetype.org/freetype2/docs/glyphs/glyphs-6.html\n",
    "    segments = []\n",
    "    for j in range(len(points)):  # range(1, len(points)-1):\n",
    "        if (\n",
    "            tags[j] & freetype.FT_CURVE_TAG_CONIC\n",
    "            and j > 1\n",
    "            and tags[j - 1] & freetype.FT_CURVE_TAG_CONIC\n",
    "        ):\n",
    "            # create virtual on point at midpoint of points[j-1] and points[j]\n",
    "            midpoint = (points[j - 1] + points[j]) / 2\n",
    "            segments[-1].append(midpoint)\n",
    "            segments.append([midpoint, points[j]])\n",
    "        else:\n",
    "            if j == 0 and tags[0] & freetype.FT_CURVE_TAG_CONIC:\n",
    "                # first point is off point, so segment should start at last point in contour\n",
    "                if tags[-1] & freetype.FT_CURVE_TAG_CONIC:\n",
    "                    # last point is also off point, so segment should start and end with\n",
    "                    # midpoint of first and last points\n",
    "                    midpoint = (points[0] + points[-1]) / 2\n",
    "                    segments.append([midpoint, points[0]])\n",
    "                else:\n",
    "                    segments.append([points[-1], points[0]])\n",
    "            if j != 0:\n",
    "                segments[-1].append(points[j])\n",
    "            if tags[j] & freetype.FT_CURVE_TAG_ON:\n",
    "                segments.append([points[j]])\n",
    "    if tags[0] & freetype.FT_CURVE_TAG_CONIC and tags[-1] & freetype.FT_CURVE_TAG_CONIC:\n",
    "        # first and last points are off points, so last on point is midpoint of first and last points\n",
    "        midpoint = (points[0] + points[-1]) / 2\n",
    "        segments[-1].append[midpoint]\n",
    "    else:\n",
    "        # close last segment with first point\n",
    "        segments[-1].append(points[0])\n",
    "    polygon_segments = []\n",
    "    for segment in segments:\n",
    "        if len(segment) == 2:\n",
    "            # plt.plot(*np.array(segment).T)\n",
    "            polygon_segments.append((segment[0],))\n",
    "        elif len(segment) == 3 or len(segment) == 4:\n",
    "            # plt.plot(*text.bezier(np.array(segment), np.linspace(0, 1, 100)).T)\n",
    "            polygon_segments.append(\n",
    "                text.bezier(np.array(segment), np.linspace(0, 1, 100))[:-1]\n",
    "            )\n",
    "        else:\n",
    "            raise ValueError(\n",
    "                \"unexpected number of points per segment {}\".format(len(segment))\n",
    "            )\n",
    "    polygon = np.concatenate(polygon_segments)\n",
    "    polygons.append(polygon)\n",
    "for polygon in polygons:\n",
    "    plt.plot(*polygon.T)"
   ]
  },
  {
   "cell_type": "code",
   "execution_count": null,
   "metadata": {},
   "outputs": [],
   "source": [
    "np.concatenate(((0,), contours[:-1]))"
   ]
  },
  {
   "cell_type": "code",
   "execution_count": null,
   "metadata": {},
   "outputs": [],
   "source": [
    "freetype.FT_CURVE_TAG_ON"
   ]
  }
 ],
 "metadata": {
  "kernelspec": {
   "display_name": "Python 3",
   "language": "python",
   "name": "python3"
  },
  "language_info": {
   "codemirror_mode": {
    "name": "ipython",
    "version": 3
   },
   "file_extension": ".py",
   "mimetype": "text/x-python",
   "name": "python",
   "nbconvert_exporter": "python",
   "pygments_lexer": "ipython3",
   "version": "3.6.4"
  }
 },
 "nbformat": 4,
 "nbformat_minor": 2
}
