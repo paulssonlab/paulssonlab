{
 "cells": [
  {
   "cell_type": "code",
   "execution_count": null,
   "metadata": {},
   "outputs": [],
   "source": [
    "import numpy as np\n",
    "import gdspy\n",
    "import matplotlib.pyplot as plt\n",
    "\n",
    "%matplotlib inline\n",
    "from functools import partial"
   ]
  },
  {
   "cell_type": "code",
   "execution_count": null,
   "metadata": {},
   "outputs": [],
   "source": [
    "%load_ext autoreload\n",
    "%autoreload 2\n",
    "import snakenmake\n",
    "from snakenmake import *"
   ]
  },
  {
   "cell_type": "code",
   "execution_count": null,
   "metadata": {},
   "outputs": [],
   "source": [
    "def plot_cell(cell, exclude=(2,)):\n",
    "    # FROM: https://github.com/heitzmann/gdspy/issues/42\n",
    "    poly_dict = cell.get_polygons(by_spec=True)\n",
    "    plt.figure(figsize=(20, 12))\n",
    "    for layer_datatype, polys in poly_dict.items():\n",
    "        if layer_datatype[0] in exclude:\n",
    "            continue\n",
    "        for poly in polys:\n",
    "            plt.fill(*poly.T, lw=0.5, ec=\"r\", fc=\"none\")\n",
    "    plt.axes().set_aspect(\"equal\", \"datalim\")\n",
    "\n",
    "\n",
    "def write_gds(main_cell, filename, unit=1.0e-6, precision=1.0e-9):\n",
    "    writer = gdspy.GdsWriter(filename, unit=unit, precision=precision)\n",
    "    for cell in [main_cell] + list(main_cell.get_dependencies(True)):\n",
    "        writer.write_cell(cell)\n",
    "    writer.close()"
   ]
  },
  {
   "cell_type": "code",
   "execution_count": null,
   "metadata": {},
   "outputs": [],
   "source": [
    "coverslip_dims = np.array([55e3, 24e3])\n",
    "chip_dims = np.array([23e3, 13e3])"
   ]
  },
  {
   "cell_type": "code",
   "execution_count": null,
   "metadata": {},
   "outputs": [],
   "source": [
    "fov = 6.5 * 2048 / 40\n",
    "fov"
   ]
  },
  {
   "cell_type": "code",
   "execution_count": null,
   "metadata": {},
   "outputs": [],
   "source": [
    "23e3 * 13e3 / fov**2"
   ]
  },
  {
   "cell_type": "markdown",
   "metadata": {},
   "source": [
    "# Text testing"
   ]
  },
  {
   "cell_type": "code",
   "execution_count": null,
   "metadata": {},
   "outputs": [],
   "source": [
    "import text"
   ]
  },
  {
   "cell_type": "code",
   "execution_count": null,
   "metadata": {},
   "outputs": [],
   "source": [
    "text.DEFAULT_FACE.max_advance_height"
   ]
  },
  {
   "cell_type": "code",
   "execution_count": null,
   "metadata": {},
   "outputs": [],
   "source": [
    "text.DEFAULT_FACE.size.height"
   ]
  },
  {
   "cell_type": "code",
   "execution_count": null,
   "metadata": {},
   "outputs": [],
   "source": [
    "text.DEFAULT_FACE.descender"
   ]
  },
  {
   "cell_type": "code",
   "execution_count": null,
   "metadata": {},
   "outputs": [],
   "source": [
    "(\n",
    "    text.DEFAULT_FACE.ascender - text.DEFAULT_FACE.descender\n",
    ")  # + text.DEFAULT_FACE.max_advance_height"
   ]
  },
  {
   "cell_type": "code",
   "execution_count": null,
   "metadata": {},
   "outputs": [],
   "source": [
    "# main_cell = wafer([chip('Big Snake S3 FC90 L35 W1.5 LG20 TS2', snake, split=3, draw_trenches=True)]*3, \"Big snakes\\n180503\")\n",
    "# main_cell = chip('Big Snake S3 FC90 L35 W1.5 LG20 TS2', snake, split=3, draw_trenches=False)\n",
    "# main_cell = Text2('testing', 600, position=(0,0))\n",
    "def character(char, size, face=text.DEFAULT_FACE, points_per_segment=10):\n",
    "    cell = Cell(\"~{}\".format(char))\n",
    "    polygons, metadata = text.render_character(\n",
    "        char, size, face=face, points_per_segment=points_per_segment\n",
    "    )\n",
    "    cell.add(g.PolygonSet(polygons))\n",
    "    return cell, metadata\n",
    "\n",
    "\n",
    "def Text2(\n",
    "    text,\n",
    "    size,\n",
    "    position=(0, 0),\n",
    "    horizontal=True,\n",
    "    angle=0,\n",
    "    x_reflection=False,\n",
    "    layer=0,\n",
    "    datatype=0,\n",
    "    face=text.DEFAULT_FACE,\n",
    "    points_per_segment=10,\n",
    "):\n",
    "    if not horizontal or angle != 0:\n",
    "        raise NotImplementedError\n",
    "    position = np.array(position)\n",
    "    offset = np.zeros(2)\n",
    "    face.set_char_size(size * 64)\n",
    "    linespace = face.size.height / 64\n",
    "    cells = []\n",
    "    for char in text:\n",
    "        if char == \"\\n\":\n",
    "            offset[0] = 0\n",
    "            offset[1] -= linespace\n",
    "            continue\n",
    "        elif char == \" \":\n",
    "            face.load_char(char)\n",
    "            offset[0] += face.glyph.metrics.horiAdvance\n",
    "            continue\n",
    "        char_cell, metadata = character(\n",
    "            char, size, face=face, points_per_segment=points_per_segment\n",
    "        )\n",
    "        cells.append(g.CellReference(char_cell, position + offset))\n",
    "        offset[0] += metadata[\"horiAdvance\"]\n",
    "    return cells\n",
    "\n",
    "\n",
    "# main_cell, md = character_cell('s', 100*64)\n",
    "main_cell = Cell(\"main\")\n",
    "cells = Text2(\"this is a\\ntest  foo u\", 600, position=(0, 0))\n",
    "main_cell.add(cells)\n",
    "print(md)\n",
    "plot_cell(main_cell)"
   ]
  },
  {
   "cell_type": "markdown",
   "metadata": {},
   "source": [
    "# Old"
   ]
  },
  {
   "cell_type": "code",
   "execution_count": null,
   "metadata": {},
   "outputs": [],
   "source": [
    "from snakenmake import *\n",
    "\n",
    "main_cell = wafer(\n",
    "    [chip(\"Big Snake S3 FC90 L35 W1.5 LG20 TS2\", snake, split=3, draw_trenches=True)]\n",
    "    * 3,\n",
    "    \"Big snakes\\n180503\",\n",
    ")\n",
    "write_gds(main_cell, \"bigsnakes2.gds\")"
   ]
  },
  {
   "cell_type": "code",
   "execution_count": null,
   "metadata": {},
   "outputs": [],
   "source": [
    "from snakenmake import *\n",
    "\n",
    "metadata = {}\n",
    "main_cell = wafer(\n",
    "    [\n",
    "        chip(\n",
    "            \"Big Snake S3 FC{fc} L35 W1.5 TS{ts} LG20\".format(fc=fc, ts=ts),\n",
    "            snake,\n",
    "            split=3,\n",
    "            feeding_channel_width=fc,\n",
    "            trench_spacing=ts,\n",
    "            draw_trenches=True,\n",
    "            metadata=metadata,\n",
    "        )\n",
    "        for fc in (90, 65)\n",
    "        for ts in (1, 1.5, 2)\n",
    "    ],\n",
    "    \"Big Snakes \\n BS/JQS 180508\",\n",
    ")\n",
    "write_gds(main_cell, \"bigsnakes2.gds\")"
   ]
  },
  {
   "cell_type": "code",
   "execution_count": null,
   "metadata": {},
   "outputs": [],
   "source": [
    "metadata"
   ]
  },
  {
   "cell_type": "code",
   "execution_count": null,
   "metadata": {},
   "outputs": [],
   "source": [
    "from snakenmake import *\n",
    "\n",
    "metadata = {}\n",
    "main_cell = wafer(\n",
    "    [\n",
    "        chip(\n",
    "            \"Big Snake S3 FC{fc} L35 W1.5 TS{ts} LG20\".format(fc=fc, ts=ts),\n",
    "            snake,\n",
    "            split=3,\n",
    "            feeding_channel_width=fc,\n",
    "            trench_spacing=ts,\n",
    "            draw_trenches=True,\n",
    "            tick_labels=False,\n",
    "            metadata=metadata,\n",
    "        )\n",
    "        for fc in (90,)\n",
    "        for ts in (1, 1.5, 2)\n",
    "    ],\n",
    "    \"Big Snakes Backup \\n BS/JQS 180508\",\n",
    ")\n",
    "write_gds(main_cell, \"bigsnakes2backup.gds\")"
   ]
  },
  {
   "cell_type": "code",
   "execution_count": null,
   "metadata": {},
   "outputs": [],
   "source": []
  }
 ],
 "metadata": {
  "kernelspec": {
   "display_name": "Python 3",
   "language": "python",
   "name": "python3"
  },
  "language_info": {
   "codemirror_mode": {
    "name": "ipython",
    "version": 3
   },
   "file_extension": ".py",
   "mimetype": "text/x-python",
   "name": "python",
   "nbconvert_exporter": "python",
   "pygments_lexer": "ipython3",
   "version": "3.6.4"
  }
 },
 "nbformat": 4,
 "nbformat_minor": 2
}
