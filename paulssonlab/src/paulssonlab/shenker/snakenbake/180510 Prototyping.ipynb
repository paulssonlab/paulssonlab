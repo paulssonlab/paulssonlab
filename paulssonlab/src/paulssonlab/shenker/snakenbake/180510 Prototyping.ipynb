{
 "cells": [
  {
   "cell_type": "code",
   "execution_count": null,
   "metadata": {},
   "outputs": [],
   "source": [
    "import numpy as np\n",
    "import gdspy\n",
    "import matplotlib.pyplot as plt\n",
    "\n",
    "%matplotlib inline\n",
    "from functools import partial"
   ]
  },
  {
   "cell_type": "code",
   "execution_count": null,
   "metadata": {},
   "outputs": [],
   "source": [
    "%load_ext autoreload\n",
    "%autoreload 2\n",
    "import snakenmake\n",
    "from snakenmake import *"
   ]
  },
  {
   "cell_type": "code",
   "execution_count": null,
   "metadata": {},
   "outputs": [],
   "source": [
    "def plot_cell(cell, exclude=(2,)):\n",
    "    # FROM: https://github.com/heitzmann/gdspy/issues/42\n",
    "    poly_dict = cell.get_polygons(by_spec=True)\n",
    "    plt.figure(figsize=(20, 12))\n",
    "    for layer_datatype, polys in poly_dict.items():\n",
    "        if layer_datatype[0] in exclude:\n",
    "            continue\n",
    "        for poly in polys:\n",
    "            plt.fill(*poly.T, lw=0.5, ec=\"r\", fc=\"none\")\n",
    "    plt.axes().set_aspect(\"equal\", \"datalim\")\n",
    "\n",
    "\n",
    "def write_gds(main_cell, filename, unit=1.0e-6, precision=1.0e-9):\n",
    "    writer = gdspy.GdsWriter(filename, unit=unit, precision=precision)\n",
    "    for cell in [main_cell] + list(main_cell.get_dependencies(True)):\n",
    "        writer.write_cell(cell)\n",
    "    writer.close()"
   ]
  },
  {
   "cell_type": "code",
   "execution_count": null,
   "metadata": {},
   "outputs": [],
   "source": [
    "coverslip_dims = np.array([55e3, 24e3])\n",
    "chip_dims = np.array([23e3, 13e3])"
   ]
  },
  {
   "cell_type": "code",
   "execution_count": null,
   "metadata": {},
   "outputs": [],
   "source": [
    "fov = 6.5 * 2048 / 40\n",
    "fov"
   ]
  },
  {
   "cell_type": "code",
   "execution_count": null,
   "metadata": {},
   "outputs": [],
   "source": [
    "23e3 * 13e3 / fov**2"
   ]
  },
  {
   "cell_type": "code",
   "execution_count": null,
   "metadata": {},
   "outputs": [],
   "source": [
    "import text\n",
    "\n",
    "a = text.Text(\"foo\", 200)"
   ]
  },
  {
   "cell_type": "code",
   "execution_count": null,
   "metadata": {},
   "outputs": [],
   "source": [
    "b = a[0]"
   ]
  },
  {
   "cell_type": "code",
   "execution_count": null,
   "metadata": {},
   "outputs": [],
   "source": [
    "b.get_polygons()"
   ]
  },
  {
   "cell_type": "code",
   "execution_count": null,
   "metadata": {},
   "outputs": [],
   "source": [
    "import snakenmake\n",
    "from snakenmake import *\n",
    "from text import Text as _Text\n",
    "\n",
    "\n",
    "def Text2(text, size, position=(0, 0), alignment=\"left\", angle=0, **kwargs):\n",
    "    objs = _Text(text, size, position=(0, 0), **kwargs)\n",
    "    objs = mirror_refs(objs)\n",
    "    if angle == 0:\n",
    "        pass\n",
    "    elif angle == -np.pi / 2:\n",
    "        for ref in objs:\n",
    "            ref.rotation += 90\n",
    "            ref.origin[:] = ref.origin[::-1]\n",
    "    elif angle == np.pi / 2:\n",
    "        for ref in objs:\n",
    "            ref.rotation -= 90\n",
    "            ref.origin[:] = ref.origin[::-1] * np.array([1, -1])\n",
    "    else:\n",
    "        raise NotImplementedError\n",
    "    objs = align_refs(objs, position=position, alignment=alignment)\n",
    "    return objs\n",
    "\n",
    "\n",
    "main_cell = Cell(\"main\")\n",
    "# main_cell.add(Text2(\"foo bar\\nbaz taz\", 100, position=(5e3,-3e3), angle=np.pi/2, alignment='centered'))\n",
    "main_cell.add(\n",
    "    Text2(\n",
    "        \"8Bfoio bar\\nbaz taz\",\n",
    "        100,\n",
    "        position=(5e3, -3e3),\n",
    "        angle=np.pi / 2,\n",
    "        alignment=\"centered\",\n",
    "        layer=6,\n",
    "    )\n",
    ")\n",
    "# main_cell.add(Text2(\"foo bar\\nbaz taz\", 100, position=(5e3,-3e3), angle=np.pi/2, alignment='centered', layer=6))\n",
    "# main_cell.add(Text2(\"Big snakes\\n180503\", 1e4, position=(3e4,0), angle=np.pi/2, alignment='centered', layer=6))\n",
    "plot_cell(main_cell)"
   ]
  },
  {
   "cell_type": "code",
   "execution_count": null,
   "metadata": {},
   "outputs": [],
   "source": [
    "import snakenmake\n",
    "from snakenmake import *\n",
    "\n",
    "main_cell = wafer(\n",
    "    [chip(\"Big Snake S3 FC90 L35 W1.5 LG20 TS2\", snake, split=3, draw_trenches=False)]\n",
    "    * 6,\n",
    "    \"Big snakes\\n180503\",\n",
    ")\n",
    "# main_cell = chip('Big Snake S3 FC90 L35 W1.5 LG20 TS2', snake, split=3, draw_trenches=False)\n",
    "plot_cell(main_cell)"
   ]
  },
  {
   "cell_type": "code",
   "execution_count": null,
   "metadata": {},
   "outputs": [],
   "source": [
    "import freetype"
   ]
  },
  {
   "cell_type": "code",
   "execution_count": null,
   "metadata": {},
   "outputs": [],
   "source": [
    "text.DEFAULT_FACE.set_char_size?"
   ]
  },
  {
   "cell_type": "code",
   "execution_count": null,
   "metadata": {},
   "outputs": [],
   "source": [
    "freetype.FT_LOAD_NO_SCALE"
   ]
  },
  {
   "cell_type": "code",
   "execution_count": null,
   "metadata": {},
   "outputs": [],
   "source": [
    "g.CellReference?"
   ]
  },
  {
   "cell_type": "markdown",
   "metadata": {},
   "source": [
    "# Old"
   ]
  },
  {
   "cell_type": "code",
   "execution_count": null,
   "metadata": {},
   "outputs": [],
   "source": [
    "from snakenmake import *\n",
    "\n",
    "metadata = {}\n",
    "main_cell = wafer(\n",
    "    [\n",
    "        chip(\n",
    "            \"Big Snake S3 FC{fc} L35 W1.5 TS{ts} LG20\".format(fc=fc, ts=ts),\n",
    "            snake,\n",
    "            split=3,\n",
    "            feeding_channel_width=fc,\n",
    "            trench_spacing=ts,\n",
    "            draw_trenches=True,\n",
    "            metadata=metadata,\n",
    "        )\n",
    "        for fc in (90, 65)\n",
    "        for ts in (1, 1.5, 2)\n",
    "    ],\n",
    "    \"Big Snakes \\n BS/JQS 180510\",\n",
    ")\n",
    "write_gds(main_cell, \"bigsnakes3.gds\")"
   ]
  },
  {
   "cell_type": "code",
   "execution_count": null,
   "metadata": {},
   "outputs": [],
   "source": [
    "metadata"
   ]
  },
  {
   "cell_type": "code",
   "execution_count": null,
   "metadata": {},
   "outputs": [],
   "source": [
    "from snakenmake import *\n",
    "\n",
    "metadata = {}\n",
    "main_cell = wafer(\n",
    "    [\n",
    "        chip(\n",
    "            \"Big Snake S3 FC{fc} L35 W1.5 TS{ts} LG20\".format(fc=fc, ts=ts),\n",
    "            snake,\n",
    "            split=3,\n",
    "            feeding_channel_width=fc,\n",
    "            trench_spacing=ts,\n",
    "            draw_trenches=True,\n",
    "            tick_labels=False,\n",
    "            metadata=metadata,\n",
    "        )\n",
    "        for fc in (90,)\n",
    "        for ts in (1, 1.5, 2)\n",
    "    ],\n",
    "    \"Big Snakes Backup \\n BS/JQS 180508\",\n",
    ")\n",
    "write_gds(main_cell, \"bigsnakes3backup.gds\")"
   ]
  },
  {
   "cell_type": "code",
   "execution_count": null,
   "metadata": {},
   "outputs": [],
   "source": []
  }
 ],
 "metadata": {
  "kernelspec": {
   "display_name": "Python 3",
   "language": "python",
   "name": "python3"
  },
  "language_info": {
   "codemirror_mode": {
    "name": "ipython",
    "version": 3
   },
   "file_extension": ".py",
   "mimetype": "text/x-python",
   "name": "python",
   "nbconvert_exporter": "python",
   "pygments_lexer": "ipython3",
   "version": "3.6.4"
  }
 },
 "nbformat": 4,
 "nbformat_minor": 2
}
