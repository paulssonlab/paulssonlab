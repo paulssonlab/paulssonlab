{
 "cells": [
  {
   "cell_type": "code",
   "execution_count": null,
   "metadata": {},
   "outputs": [],
   "source": [
    "import numpy as np\n",
    "import gdspy\n",
    "import matplotlib.pyplot as plt\n",
    "\n",
    "%matplotlib inline\n",
    "from functools import partial"
   ]
  },
  {
   "cell_type": "code",
   "execution_count": null,
   "metadata": {},
   "outputs": [],
   "source": [
    "%load_ext autoreload\n",
    "%autoreload 2\n",
    "import snakenmake\n",
    "from snakenmake import *"
   ]
  },
  {
   "cell_type": "code",
   "execution_count": null,
   "metadata": {},
   "outputs": [],
   "source": [
    "def plot_cell(cell, exclude=(2,)):\n",
    "    # FROM: https://github.com/heitzmann/gdspy/issues/42\n",
    "    poly_dict = cell.get_polygons(by_spec=True)\n",
    "    plt.figure(figsize=(20, 12))\n",
    "    for layer_datatype, polys in poly_dict.items():\n",
    "        if layer_datatype[0] in exclude:\n",
    "            continue\n",
    "        for poly in polys:\n",
    "            plt.fill(*poly.T, lw=0.5, ec=\"k\", fc=(1, 0, 0, 0.5))\n",
    "    plt.axes().set_aspect(\"equal\", \"datalim\")\n",
    "\n",
    "\n",
    "def write_gds(main_cell, filename, unit=1.0e-6, precision=1.0e-9):\n",
    "    writer = gdspy.GdsWriter(filename, unit=unit, precision=precision)\n",
    "    for cell in [main_cell] + list(main_cell.get_dependencies(True)):\n",
    "        writer.write_cell(cell)\n",
    "    writer.close()"
   ]
  },
  {
   "cell_type": "code",
   "execution_count": null,
   "metadata": {},
   "outputs": [],
   "source": [
    "coverslip_dims = np.array([55e3, 24e3])\n",
    "chip_dims = np.array([23e3, 13e3])"
   ]
  },
  {
   "cell_type": "code",
   "execution_count": null,
   "metadata": {},
   "outputs": [],
   "source": [
    "fov = 6.5 * 2048 / 40\n",
    "fov"
   ]
  },
  {
   "cell_type": "code",
   "execution_count": null,
   "metadata": {},
   "outputs": [],
   "source": [
    "23e3 * 13e3 / fov**2"
   ]
  },
  {
   "cell_type": "markdown",
   "metadata": {},
   "source": [
    "# Flow calculations"
   ]
  },
  {
   "cell_type": "code",
   "execution_count": null,
   "metadata": {},
   "outputs": [],
   "source": [
    "import pint\n",
    "\n",
    "u = pint._DEFAULT_REGISTRY"
   ]
  },
  {
   "cell_type": "code",
   "execution_count": null,
   "metadata": {},
   "outputs": [],
   "source": [
    "eta = 1 * u.centipoise"
   ]
  },
  {
   "cell_type": "code",
   "execution_count": null,
   "metadata": {},
   "outputs": [],
   "source": [
    "def Q_over_deltap(eta, L, h, w):\n",
    "    h_ = np.minimum(h, w)\n",
    "    w_ = np.maximum(h, w)\n",
    "    h, w = h_, w_\n",
    "    return h**3 * w / (12 * eta * L) * (1 - 0.630 * h / w)"
   ]
  },
  {
   "cell_type": "code",
   "execution_count": null,
   "metadata": {},
   "outputs": [],
   "source": [
    "baseline_md = chip_metadata(feeding_channel_width=150, lane_gap=400)\n",
    "print(baseline_md)"
   ]
  },
  {
   "cell_type": "code",
   "execution_count": null,
   "metadata": {},
   "outputs": [],
   "source": [
    "h = 50 * u.um\n",
    "w = baseline_md[\"feeding_channel_width\"] * u.um\n",
    "L = baseline_md[\"split\"][0] * baseline_md[\"lane_length\"] * u.um\n",
    "baseline_Q_over_deltap = Q_over_deltap(eta, L, h, w)"
   ]
  },
  {
   "cell_type": "code",
   "execution_count": null,
   "metadata": {},
   "outputs": [],
   "source": [
    "h = 50 * u.um\n",
    "w = np.linspace(50, 150, 100) * u.um\n",
    "L = 15 * 17000 * u.um\n",
    "plt.plot(w, baseline_Q_over_deltap / Q_over_deltap(eta, L, h, w))"
   ]
  },
  {
   "cell_type": "code",
   "execution_count": null,
   "metadata": {},
   "outputs": [],
   "source": [
    "plt.figure(figsize=(10, 8))\n",
    "hs = np.array([50, 75, 100, 150]) * u.um\n",
    "w = np.linspace(50, 150, 100) * u.um\n",
    "chips = [\n",
    "    chip_metadata(feeding_channel_width=width.magnitude, trench_spacing=2, split=3)\n",
    "    for width in w\n",
    "]\n",
    "L = np.array([np.max(m[\"split\"]) * m[\"lane_length\"] for m in chips]) * u.um\n",
    "# L = 15 * 17000 * u.um\n",
    "eta = 1 * u.centipoise\n",
    "ax = plt.gca()\n",
    "for h in hs:\n",
    "    ax.plot(\n",
    "        w,\n",
    "        baseline_Q_over_deltap / Q_over_deltap(eta, L, h, w),\n",
    "        label=\"feeding channel height: {:~P}\".format(h),\n",
    "    )\n",
    "ax2 = plt.gca().twinx()\n",
    "ax2.plot(\n",
    "    w,\n",
    "    [m[\"num_trenches\"] for m in chips],\n",
    "    ls=\"-.\",\n",
    "    c=\"purple\",\n",
    "    label=\"number of trenches (2 um trench spacing)\",\n",
    ")\n",
    "# ax2.plot(w, [np.max(m['split']) for m in chips], c='r', label='number of lanes')\n",
    "ax.axhline(1, c=\"k\", ls=\":\", label=\"15 lane snake (50 um height)\")\n",
    "ax.legend()\n",
    "ax.set_ylabel(\"pressure (relative to 15-lane snake)\")\n",
    "ax.set_xlabel(\"feeding channel width (um)\")\n",
    "ax2.legend(loc=\"lower left\")"
   ]
  },
  {
   "cell_type": "markdown",
   "metadata": {},
   "source": [
    "# Designs"
   ]
  },
  {
   "cell_type": "code",
   "execution_count": null,
   "metadata": {},
   "outputs": [],
   "source": [
    "def chip_metadata(**kwargs):\n",
    "    metadata = {}\n",
    "    main_cell = chip(\n",
    "        \"my_chip\", **{\"metadata\": metadata, **kwargs, \"draw_trenches\": False}\n",
    "    )\n",
    "    return metadata[\"my_chip\"]"
   ]
  },
  {
   "cell_type": "code",
   "execution_count": null,
   "metadata": {},
   "outputs": [],
   "source": [
    "from snakenmake import *\n",
    "\n",
    "metadata = {}\n",
    "main_cell = chip(\n",
    "    \"Big Snake\",\n",
    "    snake,\n",
    "    split=(7, 13, 17, 27, 5),\n",
    "    feeding_channel_width=65,\n",
    "    trench_spacing=1,\n",
    "    lane_gap=17,\n",
    "    draw_trenches=False,\n",
    "    metadata=metadata,\n",
    ")\n",
    "print(metadata)\n",
    "plot_cell(main_cell)"
   ]
  },
  {
   "cell_type": "code",
   "execution_count": null,
   "metadata": {},
   "outputs": [],
   "source": [
    "%%time\n",
    "from snakenmake import *\n",
    "\n",
    "metadata = {}\n",
    "main_cell = wafer(\n",
    "    [\n",
    "        chip(\n",
    "            \"Big Snake S3 FC{fc} L35 W1.5 TS{ts} LG{lg}\".format(fc=fc, ts=ts, lg=lg),\n",
    "            snake,\n",
    "            split=3,\n",
    "            feeding_channel_width=fc,\n",
    "            trench_spacing=ts,\n",
    "            lane_gap=lg,\n",
    "            tick_labels=False,\n",
    "            text=False,\n",
    "            draw_trenches=True,\n",
    "            metadata=metadata,\n",
    "        )\n",
    "        for (fc, lg) in zip((90, 45), (20, 17))\n",
    "        for ts in (1, 1.5, 2)\n",
    "    ],\n",
    "    \"Big Snakes \\n BS/JQS 180513\",\n",
    "    text=False,\n",
    ")\n",
    "write_gds(main_cell, \"bigsnakes4_notext.gds\")"
   ]
  },
  {
   "cell_type": "code",
   "execution_count": null,
   "metadata": {},
   "outputs": [],
   "source": [
    "%%time\n",
    "from snakenmake import *\n",
    "\n",
    "metadata = {}\n",
    "main_cell = wafer(\n",
    "    [\n",
    "        chip(\n",
    "            \"Big Snake S3 FC{fc} L35 W1.5 TS{ts} LG{lg}\".format(fc=fc, ts=ts, lg=lg),\n",
    "            snake,\n",
    "            split=3,\n",
    "            feeding_channel_width=fc,\n",
    "            trench_spacing=ts,\n",
    "            lane_gap=lg,\n",
    "            tick_labels=False,\n",
    "            text=True,\n",
    "            draw_trenches=True,\n",
    "            metadata=metadata,\n",
    "        )\n",
    "        for (fc, lg) in zip((90, 45), (20, 17))\n",
    "        for ts in (1, 1.5, 2)\n",
    "    ],\n",
    "    \"Big Snakes \\n BS/JQS 180513\",\n",
    "    text=True,\n",
    ")\n",
    "write_gds(main_cell, \"bigsnakes4_noticklabels.gds\")"
   ]
  },
  {
   "cell_type": "code",
   "execution_count": null,
   "metadata": {},
   "outputs": [],
   "source": [
    "!du -hs bigsnakes4_noticklabels.gds"
   ]
  },
  {
   "cell_type": "code",
   "execution_count": null,
   "metadata": {},
   "outputs": [],
   "source": [
    "!du -hs bigsnakes4_notext.gds"
   ]
  },
  {
   "cell_type": "code",
   "execution_count": null,
   "metadata": {},
   "outputs": [],
   "source": [
    "metadata"
   ]
  },
  {
   "cell_type": "code",
   "execution_count": null,
   "metadata": {},
   "outputs": [],
   "source": [
    "%%time\n",
    "from snakenmake import *\n",
    "\n",
    "metadata = {}\n",
    "main_cell = wafer(\n",
    "    [\n",
    "        chip(\n",
    "            \"Big Snake S3 FC{fc} L35 W1.5 TS{ts} LG20\".format(fc=fc, ts=ts),\n",
    "            snake,\n",
    "            split=3,\n",
    "            feeding_channel_width=fc,\n",
    "            trench_spacing=ts,\n",
    "            draw_trenches=True,\n",
    "            tick_labels=False,\n",
    "            metadata=metadata,\n",
    "        )\n",
    "        for fc in (90,)\n",
    "        for ts in (1, 1.5, 2)\n",
    "    ],\n",
    "    \"Big Snakes Backup \\n BS/JQS 180513\",\n",
    ")\n",
    "write_gds(main_cell, \"bigsnakes3backup.gds\")"
   ]
  },
  {
   "cell_type": "code",
   "execution_count": null,
   "metadata": {},
   "outputs": [],
   "source": []
  }
 ],
 "metadata": {
  "kernelspec": {
   "display_name": "Python 3",
   "language": "python",
   "name": "python3"
  },
  "language_info": {
   "codemirror_mode": {
    "name": "ipython",
    "version": 3
   },
   "file_extension": ".py",
   "mimetype": "text/x-python",
   "name": "python",
   "nbconvert_exporter": "python",
   "pygments_lexer": "ipython3",
   "version": "3.7.0"
  }
 },
 "nbformat": 4,
 "nbformat_minor": 2
}
