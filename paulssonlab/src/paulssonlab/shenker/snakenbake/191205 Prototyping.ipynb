{
 "cells": [
  {
   "cell_type": "code",
   "execution_count": null,
   "metadata": {},
   "outputs": [],
   "source": [
    "import numpy as np\n",
    "import gdspy\n",
    "import matplotlib.pyplot as plt\n",
    "\n",
    "%matplotlib inline\n",
    "from functools import partial"
   ]
  },
  {
   "cell_type": "code",
   "execution_count": null,
   "metadata": {},
   "outputs": [],
   "source": [
    "%load_ext autoreload\n",
    "%autoreload 2\n",
    "import snakenmake\n",
    "from snakenmake import *"
   ]
  },
  {
   "cell_type": "code",
   "execution_count": null,
   "metadata": {},
   "outputs": [],
   "source": [
    "def plot_cell(cell, exclude=(2,)):\n",
    "    # FROM: https://github.com/heitzmann/gdspy/issues/42\n",
    "    poly_dict = cell.get_polygons(by_spec=True)\n",
    "    plt.figure(figsize=(20, 12))\n",
    "    for layer_datatype, polys in poly_dict.items():\n",
    "        if layer_datatype[0] in exclude:\n",
    "            continue\n",
    "        for poly in polys:\n",
    "            plt.fill(*poly.T, lw=0.5, ec=\"k\", fc=(1, 0, 0, 0.5))\n",
    "    plt.axes().set_aspect(\"equal\", \"datalim\")\n",
    "\n",
    "\n",
    "def write_gds(main_cell, filename, unit=1.0e-6, precision=1.0e-9):\n",
    "    writer = gdspy.GdsWriter(filename, unit=unit, precision=precision)\n",
    "    for cell in [main_cell] + list(main_cell.get_dependencies(True)):\n",
    "        writer.write_cell(cell)\n",
    "    writer.close()"
   ]
  },
  {
   "cell_type": "markdown",
   "metadata": {},
   "source": [
    "# Designs"
   ]
  },
  {
   "cell_type": "code",
   "execution_count": null,
   "metadata": {},
   "outputs": [],
   "source": [
    "def chip_metadata(**kwargs):\n",
    "    metadata = {}\n",
    "    main_cell = chip(\n",
    "        \"my_chip\", **{\"metadata\": metadata, **kwargs, \"draw_trenches\": False}\n",
    "    )\n",
    "    return metadata[\"my_chip\"]"
   ]
  },
  {
   "cell_type": "code",
   "execution_count": null,
   "metadata": {},
   "outputs": [],
   "source": [
    "coverslip_dims = np.array([55e3, 24e3])\n",
    "# chip_dims = np.array([23e3, 13e3])\n",
    "chip_dims = np.array([40e3, 20e3])"
   ]
  },
  {
   "cell_type": "code",
   "execution_count": null,
   "metadata": {},
   "outputs": [],
   "source": [
    "from snakenmake import *\n",
    "\n",
    "metadata = {}\n",
    "main_cell = chip(\n",
    "    \"Big Snake\",\n",
    "    snake,\n",
    "    dims=chip_dims,\n",
    "    split=8,\n",
    "    feeding_channel_width=100,\n",
    "    trench_spacing=2,\n",
    "    lane_gap=20,\n",
    "    trench_width=1.5,\n",
    "    draw_trenches=False,\n",
    "    metadata=metadata,\n",
    ")\n",
    "print(metadata)\n",
    "plot_cell(main_cell)"
   ]
  },
  {
   "cell_type": "code",
   "execution_count": null,
   "metadata": {},
   "outputs": [],
   "source": [
    "# S8 W1.3 L35 x2\n",
    "# S8 W1.5 L35 x3\n",
    "# S8 W1.5 L45 x2\n",
    "\n",
    "# S8 W1.5 L35-65 sampler?"
   ]
  },
  {
   "cell_type": "code",
   "execution_count": null,
   "metadata": {},
   "outputs": [],
   "source": [
    "%%time\n",
    "from snakenmake import *\n",
    "\n",
    "metadata = {}\n",
    "params = [\n",
    "    dict(split=4, fc=40, w=1.4, ts=1.6, lg=10),\n",
    "    dict(split=4, fc=40, w=1.4, ts=1.1, lg=10),\n",
    "    dict(split=4, fc=40, w=1.4, ts=1.1, lg=10),\n",
    "    dict(split=8, fc=40, w=1.4, ts=1.6, lg=10),\n",
    "    dict(split=8, fc=40, w=1.4, ts=1.1, lg=10),\n",
    "    dict(split=8, fc=40, w=1.4, ts=1.1, lg=10),\n",
    "]\n",
    "chips = [\n",
    "    chip(\n",
    "        \"Basilisk S{split} FC{fc} L35 W{w} TS{ts} LG{lg}\".format(**params),\n",
    "        snake,\n",
    "        split=params[\"split\"],\n",
    "        feeding_channel_width=params[\"fc\"],\n",
    "        trench_spacing=params[\"ts\"],\n",
    "        lane_gap=params[\"lg\"],\n",
    "        tick_labels=False,\n",
    "        ticks=True,\n",
    "        tick_length=4,\n",
    "        tick_margin=3,\n",
    "        text=True,\n",
    "        draw_trenches=True,\n",
    "        metadata=metadata,\n",
    "    )\n",
    "    for params in params\n",
    "]\n",
    "# chips = [chips[0]]*6\n",
    "main_cell = wafer(chips, \"Basilisk \\n BS/JQS 181115\", text=True, mask=True)\n",
    "write_gds(main_cell, \"181116basilisk.gds\")"
   ]
  },
  {
   "cell_type": "code",
   "execution_count": null,
   "metadata": {},
   "outputs": [],
   "source": [
    "# print text summary for wafer spreadsheet"
   ]
  },
  {
   "cell_type": "code",
   "execution_count": null,
   "metadata": {},
   "outputs": [],
   "source": [
    "plot_cell(main_cell)"
   ]
  },
  {
   "cell_type": "code",
   "execution_count": null,
   "metadata": {},
   "outputs": [],
   "source": [
    "plot_cell(snakenmake.mask_alignment_cross())"
   ]
  },
  {
   "cell_type": "code",
   "execution_count": null,
   "metadata": {},
   "outputs": [],
   "source": [
    "metadata"
   ]
  },
  {
   "cell_type": "code",
   "execution_count": null,
   "metadata": {},
   "outputs": [],
   "source": [
    "plot_cell(chips[5])"
   ]
  },
  {
   "cell_type": "code",
   "execution_count": null,
   "metadata": {},
   "outputs": [],
   "source": []
  }
 ],
 "metadata": {
  "kernelspec": {
   "display_name": "Python 3",
   "language": "python",
   "name": "python3"
  },
  "language_info": {
   "codemirror_mode": {
    "name": "ipython",
    "version": 3
   },
   "file_extension": ".py",
   "mimetype": "text/x-python",
   "name": "python",
   "nbconvert_exporter": "python",
   "pygments_lexer": "ipython3",
   "version": "3.7.5"
  }
 },
 "nbformat": 4,
 "nbformat_minor": 4
}
