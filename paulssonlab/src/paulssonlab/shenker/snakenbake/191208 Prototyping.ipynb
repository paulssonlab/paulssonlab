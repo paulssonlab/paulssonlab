{
 "cells": [
  {
   "cell_type": "code",
   "execution_count": null,
   "metadata": {},
   "outputs": [],
   "source": [
    "import numpy as np\n",
    "import gdspy\n",
    "import matplotlib.pyplot as plt\n",
    "\n",
    "%matplotlib inline\n",
    "from functools import partial"
   ]
  },
  {
   "cell_type": "code",
   "execution_count": null,
   "metadata": {},
   "outputs": [],
   "source": [
    "%load_ext autoreload\n",
    "%autoreload 2\n",
    "import snakenmake\n",
    "from snakenmake import *"
   ]
  },
  {
   "cell_type": "code",
   "execution_count": null,
   "metadata": {},
   "outputs": [],
   "source": [
    "import pint\n",
    "\n",
    "u = pint._DEFAULT_REGISTRY"
   ]
  },
  {
   "cell_type": "code",
   "execution_count": null,
   "metadata": {},
   "outputs": [],
   "source": [
    "def plot_cell(cell, exclude=(2,)):\n",
    "    # FROM: https://github.com/heitzmann/gdspy/issues/42\n",
    "    poly_dict = cell.get_polygons(by_spec=True)\n",
    "    plt.figure(figsize=(20, 12))\n",
    "    for layer_datatype, polys in poly_dict.items():\n",
    "        if layer_datatype[0] in exclude:\n",
    "            continue\n",
    "        for poly in polys:\n",
    "            plt.fill(*poly.T, lw=0.5, ec=\"k\", fc=(1, 0, 0, 0.5))\n",
    "    plt.axes().set_aspect(\"equal\", \"datalim\")\n",
    "\n",
    "\n",
    "def write_gds(main_cell, filename, unit=1.0e-6, precision=1.0e-9):\n",
    "    writer = gdspy.GdsWriter(filename, unit=unit, precision=precision)\n",
    "    for cell in [main_cell] + list(main_cell.get_dependencies(True)):\n",
    "        writer.write_cell(cell)\n",
    "    writer.close()"
   ]
  },
  {
   "cell_type": "markdown",
   "metadata": {},
   "source": [
    "# Flow calculations"
   ]
  },
  {
   "cell_type": "code",
   "execution_count": null,
   "metadata": {},
   "outputs": [],
   "source": [
    "eta = 1 * u.centipoise"
   ]
  },
  {
   "cell_type": "code",
   "execution_count": null,
   "metadata": {},
   "outputs": [],
   "source": [
    "def Q_over_deltap(eta, L, h, w):\n",
    "    h_ = np.minimum(h, w)\n",
    "    w_ = np.maximum(h, w)\n",
    "    h, w = h_, w_\n",
    "    return h**3 * w / (12 * eta * L) * (1 - 0.630 * h / w)"
   ]
  },
  {
   "cell_type": "code",
   "execution_count": null,
   "metadata": {},
   "outputs": [],
   "source": [
    "baseline_md = chip_metadata(feeding_channel_width=150, lane_gap=400)\n",
    "print(baseline_md)"
   ]
  },
  {
   "cell_type": "code",
   "execution_count": null,
   "metadata": {},
   "outputs": [],
   "source": [
    "h = 50 * u.um\n",
    "w = baseline_md[\"feeding_channel_width\"] * u.um\n",
    "L = baseline_md[\"split\"][0] * baseline_md[\"lane_length\"] * u.um\n",
    "baseline_Q_over_deltap = Q_over_deltap(eta, L, h, w)"
   ]
  },
  {
   "cell_type": "code",
   "execution_count": null,
   "metadata": {},
   "outputs": [],
   "source": [
    "h = 50 * u.um\n",
    "w = np.linspace(50, 150, 100) * u.um\n",
    "L = 15 * 17000 * u.um\n",
    "plt.plot(w, baseline_Q_over_deltap / Q_over_deltap(eta, L, h, w))"
   ]
  },
  {
   "cell_type": "code",
   "execution_count": null,
   "metadata": {},
   "outputs": [],
   "source": [
    "np.array((5056, 2960)) * 4.25 / 20"
   ]
  },
  {
   "cell_type": "code",
   "execution_count": null,
   "metadata": {},
   "outputs": [],
   "source": [
    "lane_length = 17615 * u.um\n",
    "h = 50 * u.um\n",
    "w = np.linspace(50, 150, 100) * u.um\n",
    "plt.figure(figsize=(10, 8))\n",
    "ax = plt.gca()\n",
    "ax.plot(w, 1 / Q_over_deltap(eta, lane_length * 23, 50, w))\n",
    "for (lanes, width, height), c in zip(\n",
    "    ((15, 50, 50), (19, 90, 90), (29, 45, 90), (23, 40, 50), (23, 40, 90)),\n",
    "    plt.cm.get_cmap(\"Set1\").colors,\n",
    "):\n",
    "    v = 1 / Q_over_deltap(eta, lane_length * lanes, height, width)\n",
    "    ax.axhline(\n",
    "        v.magnitude,\n",
    "        c=c,\n",
    "        ls=\"--\",\n",
    "        label=\"{} lane snake ({} um width, {} um height)\".format(lanes, width, height),\n",
    "    )\n",
    "plt.legend()"
   ]
  },
  {
   "cell_type": "code",
   "execution_count": null,
   "metadata": {},
   "outputs": [],
   "source": [
    "plt.figure(figsize=(10, 8))\n",
    "hs = np.array([50, 75, 100, 150]) * u.um\n",
    "w = np.linspace(40, 150, 100) * u.um\n",
    "chips = [\n",
    "    chip_metadata(feeding_channel_width=width.magnitude, trench_spacing=2, split=8)\n",
    "    for width in w\n",
    "]\n",
    "L = np.array([np.max(m[\"split\"]) * m[\"lane_length\"] for m in chips]) * u.um\n",
    "# L = 15 * 17000 * u.um\n",
    "eta = 1 * u.centipoise\n",
    "ax = plt.gca()\n",
    "for h in hs:\n",
    "    ax.plot(\n",
    "        w,\n",
    "        baseline_Q_over_deltap / Q_over_deltap(eta, L, h, w),\n",
    "        label=\"feeding channel height: {:~P}\".format(h),\n",
    "    )\n",
    "ax2 = plt.gca().twinx()\n",
    "ax2.plot(\n",
    "    w,\n",
    "    [m[\"num_trenches\"] for m in chips],\n",
    "    ls=\"-.\",\n",
    "    c=\"purple\",\n",
    "    label=\"number of trenches (2 um trench spacing)\",\n",
    ")\n",
    "# ax2.plot(w, [np.max(m['split']) for m in chips], c='r', label='number of lanes')\n",
    "ax.axhline(1, c=\"k\", ls=\":\", label=\"15 lane snake (50 um height)\")\n",
    "ax.legend()\n",
    "ax.set_ylabel(\"pressure (relative to 15-lane snake)\")\n",
    "ax.set_xlabel(\"feeding channel width (um)\")\n",
    "ax2.legend(loc=\"lower left\")"
   ]
  },
  {
   "cell_type": "markdown",
   "metadata": {},
   "source": [
    "# Designs"
   ]
  },
  {
   "cell_type": "code",
   "execution_count": null,
   "metadata": {},
   "outputs": [],
   "source": [
    "def chip_metadata(**kwargs):\n",
    "    metadata = {}\n",
    "    main_cell = chip(\n",
    "        \"my_chip\", **{\"metadata\": metadata, **kwargs, \"draw_trenches\": False}\n",
    "    )\n",
    "    return metadata[\"my_chip\"]"
   ]
  },
  {
   "cell_type": "code",
   "execution_count": null,
   "metadata": {},
   "outputs": [],
   "source": [
    "coverslip_dims = np.array([55e3, 24e3])\n",
    "chip_dims = np.array([23e3, 13e3])\n",
    "# chip_dims = np.array([35e3, 18e3])"
   ]
  },
  {
   "cell_type": "code",
   "execution_count": null,
   "metadata": {},
   "outputs": [],
   "source": [
    "plt.figure(figsize=(10, 5))\n",
    "ax = plt.gca()\n",
    "ax.add_patch(plt.Rectangle(-coverslip_dims / 2, *coverslip_dims, fill=False))\n",
    "ax.add_patch(plt.Rectangle(-chip_dims / 2, *chip_dims, fill=False))\n",
    "ax.set_xlim(-1.2 * coverslip_dims[0] / 2, 1.2 * coverslip_dims[0] / 2)\n",
    "ax.set_ylim(-1.2 * coverslip_dims[1] / 2, 1.2 * coverslip_dims[1] / 2)\n",
    "ax.set_aspect(\"equal\")"
   ]
  },
  {
   "cell_type": "code",
   "execution_count": null,
   "metadata": {},
   "outputs": [],
   "source": [
    "metadata = {}\n",
    "main_cell = chip(\n",
    "    \"Big Snake\",\n",
    "    snake,\n",
    "    dims=chip_dims,\n",
    "    split=3,\n",
    "    feeding_channel_width=90,\n",
    "    trench_spacing=2,\n",
    "    lane_gap=20,\n",
    "    trench_width=1.5,\n",
    "    draw_trenches=False,\n",
    "    metadata=metadata,\n",
    ")\n",
    "print(metadata)\n",
    "plot_cell(main_cell)"
   ]
  },
  {
   "cell_type": "code",
   "execution_count": null,
   "metadata": {},
   "outputs": [],
   "source": [
    "metadata = {}\n",
    "main_cell = chip(\n",
    "    \"Big Snake\",\n",
    "    snake,\n",
    "    dims=chip_dims,\n",
    "    split=3,\n",
    "    feeding_channel_width=45,\n",
    "    trench_spacing=2.2,\n",
    "    lane_gap=17,\n",
    "    trench_width=1.5,\n",
    "    draw_trenches=False,\n",
    "    metadata=metadata,\n",
    ")\n",
    "print(metadata)\n",
    "plot_cell(main_cell)"
   ]
  },
  {
   "cell_type": "code",
   "execution_count": null,
   "metadata": {},
   "outputs": [],
   "source": [
    "import snakenmake\n",
    "from snakenmake import *"
   ]
  },
  {
   "cell_type": "code",
   "execution_count": null,
   "metadata": {},
   "outputs": [],
   "source": [
    "metadata = {}\n",
    "main_cell = chip(\n",
    "    \"Big Snake\",\n",
    "    snake,\n",
    "    dims=chip_dims,\n",
    "    split=8,\n",
    "    gap_lanes=2,\n",
    "    feeding_channel_width=80,\n",
    "    trench_spacing=2,\n",
    "    trench_gap=15,\n",
    "    trench_width=1.5,\n",
    "    draw_trenches=False,\n",
    "    metadata=metadata,\n",
    ")\n",
    "print(metadata)\n",
    "plot_cell(main_cell)"
   ]
  },
  {
   "cell_type": "code",
   "execution_count": null,
   "metadata": {},
   "outputs": [],
   "source": [
    "# height: 1.4\n",
    "# x2 S8 W1.3 L35 TS1\n",
    "# x2 S8 W1.5 L35 TS1\n",
    "# x1 S8 W1.5 L35 TS3\n",
    "# x1 S8 W1.5 L45 TS2\n",
    "\n",
    "# S8 W1.5 L35-65 sampler?"
   ]
  },
  {
   "cell_type": "code",
   "execution_count": null,
   "metadata": {},
   "outputs": [],
   "source": [
    "%%time\n",
    "from snakenmake import *\n",
    "\n",
    "metadata = {}\n",
    "params = [\n",
    "    dict(split=4, fc=40, w=1.4, ts=1.6, lg=10),\n",
    "    dict(split=4, fc=40, w=1.4, ts=1.1, lg=10),\n",
    "    dict(split=4, fc=40, w=1.4, ts=1.1, lg=10),\n",
    "    dict(split=8, fc=40, w=1.4, ts=1.6, lg=10),\n",
    "    dict(split=8, fc=40, w=1.4, ts=1.1, lg=10),\n",
    "    dict(split=8, fc=40, w=1.4, ts=1.1, lg=10),\n",
    "]\n",
    "chips = [\n",
    "    chip(\n",
    "        \"Basilisk S{split} FC{fc} L35 W{w} TS{ts} LG{lg}\".format(**params),\n",
    "        snake,\n",
    "        split=params[\"split\"],\n",
    "        feeding_channel_width=params[\"fc\"],\n",
    "        trench_spacing=params[\"ts\"],\n",
    "        lane_gap=params[\"lg\"],\n",
    "        tick_labels=False,\n",
    "        ticks=True,\n",
    "        tick_length=4,\n",
    "        tick_margin=3,\n",
    "        text=True,\n",
    "        draw_trenches=True,\n",
    "        metadata=metadata,\n",
    "    )\n",
    "    for params in params\n",
    "]\n",
    "# chips = [chips[0]]*6\n",
    "main_cell = wafer(chips, \"Basilisk \\n BS/JQS 181115\", text=True, mask=True)\n",
    "write_gds(main_cell, \"181116basilisk.gds\")"
   ]
  },
  {
   "cell_type": "code",
   "execution_count": null,
   "metadata": {},
   "outputs": [],
   "source": [
    "# print text summary for wafer spreadsheet"
   ]
  },
  {
   "cell_type": "code",
   "execution_count": null,
   "metadata": {},
   "outputs": [],
   "source": [
    "plot_cell(main_cell)"
   ]
  },
  {
   "cell_type": "code",
   "execution_count": null,
   "metadata": {},
   "outputs": [],
   "source": [
    "plot_cell(snakenmake.mask_alignment_cross())"
   ]
  },
  {
   "cell_type": "code",
   "execution_count": null,
   "metadata": {},
   "outputs": [],
   "source": [
    "metadata"
   ]
  },
  {
   "cell_type": "code",
   "execution_count": null,
   "metadata": {},
   "outputs": [],
   "source": [
    "plot_cell(chips[5])"
   ]
  },
  {
   "cell_type": "code",
   "execution_count": null,
   "metadata": {},
   "outputs": [],
   "source": []
  }
 ],
 "metadata": {
  "kernelspec": {
   "display_name": "Python 3",
   "language": "python",
   "name": "python3"
  },
  "language_info": {
   "codemirror_mode": {
    "name": "ipython",
    "version": 3
   },
   "file_extension": ".py",
   "mimetype": "text/x-python",
   "name": "python",
   "nbconvert_exporter": "python",
   "pygments_lexer": "ipython3",
   "version": "3.7.5"
  }
 },
 "nbformat": 4,
 "nbformat_minor": 4
}
