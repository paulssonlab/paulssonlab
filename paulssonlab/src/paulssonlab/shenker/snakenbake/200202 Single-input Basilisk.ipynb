{
 "cells": [
  {
   "cell_type": "code",
   "execution_count": null,
   "metadata": {},
   "outputs": [],
   "source": [
    "import numpy as np\n",
    "import gdspy\n",
    "import matplotlib.pyplot as plt\n",
    "\n",
    "%matplotlib inline\n",
    "from functools import partial"
   ]
  },
  {
   "cell_type": "code",
   "execution_count": null,
   "metadata": {},
   "outputs": [],
   "source": [
    "%load_ext autoreload\n",
    "%autoreload 2\n",
    "import snakenmake as s"
   ]
  },
  {
   "cell_type": "code",
   "execution_count": null,
   "metadata": {},
   "outputs": [],
   "source": [
    "import pint\n",
    "\n",
    "u = pint._DEFAULT_REGISTRY"
   ]
  },
  {
   "cell_type": "code",
   "execution_count": null,
   "metadata": {},
   "outputs": [],
   "source": [
    "def plot_cell(cell, exclude=(2,)):\n",
    "    # FROM: https://github.com/heitzmann/gdspy/issues/42\n",
    "    poly_dict = cell.get_polygons(by_spec=True)\n",
    "    plt.figure(figsize=(40, 20))\n",
    "    for layer_datatype, polys in poly_dict.items():\n",
    "        if layer_datatype[0] in exclude:\n",
    "            continue\n",
    "        for poly in polys:\n",
    "            plt.fill(*poly.T, lw=0.5, ec=\"k\", fc=(1, 0, 0, 0.5))\n",
    "    plt.axes().set_aspect(\"equal\", \"datalim\")\n",
    "\n",
    "\n",
    "def write_gds(main_cell, filename, unit=1.0e-6, precision=1.0e-9):\n",
    "    # writer = gdspy.GdsWriter(filename, unit=unit, precision=precision)\n",
    "    # for cell in [main_cell] + list(main_cell.get_dependencies(True)):\n",
    "    #    writer.write_cell(cell)\n",
    "    # writer.close()\n",
    "    cells = [main_cell] + list(main_cell.get_dependencies(True))\n",
    "    gdspy.write_gds(filename, cells=cells, unit=unit, precision=precision)"
   ]
  },
  {
   "cell_type": "markdown",
   "metadata": {},
   "source": [
    "# Single-input prototype"
   ]
  },
  {
   "cell_type": "code",
   "execution_count": null,
   "metadata": {},
   "outputs": [],
   "source": [
    "metadata = {}\n",
    "chip_dims = np.array([40e3, 20e3])\n",
    "main_cell = s.chip(\n",
    "    \"Big Snake\",\n",
    "    s.manifold_snake,\n",
    "    dims=chip_dims,\n",
    "    split=None,\n",
    "    num_inputs=1,\n",
    "    lanes_per_snake=5,\n",
    "    manifold_width=200,\n",
    "    manifold_input_length=0.5e3,\n",
    "    manifold_margin=100,\n",
    "    feeding_channel_width=40,\n",
    "    trench_spacing=2,\n",
    "    trench_gap=20,\n",
    "    trench_width=1.5,\n",
    "    port_margin=0.5e3,\n",
    "    top_margin=1.2e3,\n",
    "    bottom_margin=0.6e3,\n",
    "    draw_trenches=False,\n",
    "    metadata=metadata,\n",
    ")\n",
    "# print(metadata)\n",
    "plot_cell(main_cell)\n",
    "# write_gds(main_cell, '200202manifold_test2.gds')"
   ]
  },
  {
   "cell_type": "markdown",
   "metadata": {},
   "source": [
    "# Manifold flow"
   ]
  },
  {
   "cell_type": "markdown",
   "metadata": {},
   "source": [
    "## Uniform resistance"
   ]
  },
  {
   "cell_type": "code",
   "execution_count": null,
   "metadata": {},
   "outputs": [],
   "source": [
    "N = 20\n",
    "r = 0.43\n",
    "A = np.zeros((N, N))\n",
    "b = np.zeros(N)\n",
    "b[0] = 1\n",
    "A[0, :] = 1\n",
    "for i in range(1, N):\n",
    "    A[i, : i - 1] = r\n",
    "    A[i, i - 1] = 1 + r\n",
    "    A[i, i] = -(1 + r)\n",
    "    A[i, i + 1 :] = -r\n",
    "sol = np.linalg.solve(A, b)"
   ]
  },
  {
   "cell_type": "code",
   "execution_count": null,
   "metadata": {},
   "outputs": [],
   "source": [
    "plt.plot(sol)"
   ]
  },
  {
   "cell_type": "markdown",
   "metadata": {},
   "source": [
    "## Uniform resistance (with explicit R, R_b terms)"
   ]
  },
  {
   "cell_type": "code",
   "execution_count": null,
   "metadata": {},
   "outputs": [],
   "source": [
    "N = 20\n",
    "R = 0.43\n",
    "R_b = 1\n",
    "A = np.zeros((N, N))\n",
    "b = np.zeros(N)\n",
    "b[0] = 1\n",
    "A[0, :] = 1\n",
    "for i in range(1, N):\n",
    "    A[i, : i - 1] = R\n",
    "    A[i, i - 1] = R + R_b\n",
    "    A[i, i] = -(R + R_b)\n",
    "    A[i, i + 1 :] = -R\n",
    "sol = np.linalg.solve(A, b)"
   ]
  },
  {
   "cell_type": "code",
   "execution_count": null,
   "metadata": {},
   "outputs": [],
   "source": [
    "plt.plot(sol)"
   ]
  },
  {
   "cell_type": "markdown",
   "metadata": {},
   "source": [
    "## Non-uniform resistances"
   ]
  },
  {
   "cell_type": "code",
   "execution_count": null,
   "metadata": {},
   "outputs": [],
   "source": [
    "md = metadata[\"Big Snake\"]\n",
    "md.keys()"
   ]
  },
  {
   "cell_type": "code",
   "execution_count": null,
   "metadata": {},
   "outputs": [],
   "source": [
    "np.pi * (md[\"outer_snake_turn_radius\"] - md[\"feeding_channel_width\"] / 2) / md[\n",
    "    \"lane_length\"\n",
    "]"
   ]
  },
  {
   "cell_type": "code",
   "execution_count": null,
   "metadata": {},
   "outputs": [],
   "source": [
    "md[\"split\"]"
   ]
  },
  {
   "cell_type": "code",
   "execution_count": null,
   "metadata": {},
   "outputs": [],
   "source": [
    "md[\"manifold_split\"]"
   ]
  },
  {
   "cell_type": "code",
   "execution_count": null,
   "metadata": {},
   "outputs": [],
   "source": [
    "def _ensure_array(val, size):\n",
    "    if np.isscalar(val):\n",
    "        return np.full(size, val)\n",
    "    else:\n",
    "        return val\n",
    "\n",
    "\n",
    "def ladder_flow_rates(R_snake, R_left, R_right, N=None):\n",
    "    for ary, inc in ((R_snake, 0), (R_left, 1), (R_right, 1)):\n",
    "        if not np.isscalar(ary):\n",
    "            if N is None:\n",
    "                N = len(ary) + inc\n",
    "            elif N != len(ary) + inc:\n",
    "                raise ValueError(\"got conflicting ladder sizes\")\n",
    "    if N is None:\n",
    "        raise ValueError(\"ladder size must be specified if resistances are scalars\")\n",
    "    R_snake = _ensure_array(R_snake, N)\n",
    "    R_left = _ensure_array(R_left, N)\n",
    "    R_right = _ensure_array(R_right, N)\n",
    "    A = np.zeros((N, N))\n",
    "    b = np.zeros(N)\n",
    "    b[0] = 1\n",
    "    A[0, :] = 1\n",
    "    for i in range(1, N):\n",
    "        A[i, : i - 1] = R_left[i - 1]\n",
    "        A[i, i - 1] = -(R_right[i - 1] + R_snake[i - 1])\n",
    "        A[i, i] = R_left[i - 1] + R_snake[i]\n",
    "        A[i, i + 1 :] = -R_right[i - 1]\n",
    "    q = np.linalg.solve(A, b)\n",
    "    return q\n",
    "\n",
    "\n",
    "def manifold_flow_rates(\n",
    "    feeding_channel_height=None,\n",
    "    split=None,\n",
    "    split_cum=None,\n",
    "    manifold_split=None,\n",
    "    manifold_split_cum=None,\n",
    "    left_port_lanes=None,\n",
    "    right_port_lanes=None,\n",
    "    lane_length=None,\n",
    "    manifold_width=None,\n",
    "    feeding_channel_width=None,\n",
    "    lane_ys=None,\n",
    "    **kwargs,\n",
    "):\n",
    "    split_cum = np.concatenate(((0,), np.cumsum(split)))\n",
    "    manifold_split_cum = np.concatenate(((0,), np.cumsum(manifold_split)))\n",
    "    results = []\n",
    "    for manifold in range(len(manifold_split)):\n",
    "        selected_lanes = slice(\n",
    "            manifold_split_cum[manifold], manifold_split_cum[manifold + 1]\n",
    "        )\n",
    "        lanes_per_snake = split[selected_lanes]\n",
    "        left_segment_lengths = -np.diff(lane_ys[left_port_lanes[selected_lanes]])\n",
    "        right_segment_lengths = -np.diff(lane_ys[right_port_lanes[selected_lanes]])\n",
    "        R_snake = (\n",
    "            lanes_per_snake\n",
    "            * lane_length\n",
    "            * resistance(feeding_channel_height, feeding_channel_width)\n",
    "        )\n",
    "        R_left = left_segment_lengths * resistance(\n",
    "            feeding_channel_height, manifold_width\n",
    "        )\n",
    "        R_right = right_segment_lengths * resistance(\n",
    "            feeding_channel_height, manifold_width\n",
    "        )\n",
    "        q = ladder_flow_rates(R_snake, R_left, R_right)\n",
    "        results.append(\n",
    "            {\"R_snake\": R_snake, \"R_left\": R_left, \"R_right\": R_right, \"q\": q}\n",
    "        )\n",
    "    return results\n",
    "\n",
    "\n",
    "res = manifold_flow_rates(feeding_channel_height=50, **metadata[\"Big Snake\"])\n",
    "res"
   ]
  },
  {
   "cell_type": "code",
   "execution_count": null,
   "metadata": {},
   "outputs": [],
   "source": [
    "plt.figure(figsize=(12, 8))\n",
    "for r in res:\n",
    "    v = r[\"q\"][:-1]\n",
    "    plt.plot(v / v.max())"
   ]
  },
  {
   "cell_type": "code",
   "execution_count": null,
   "metadata": {},
   "outputs": [],
   "source": [
    "# def resistance(h, w, eta=1 * u.centipoise):\n",
    "def resistance(h, w, eta=1):\n",
    "    h_ = np.minimum(h, w)\n",
    "    w_ = np.maximum(h, w)\n",
    "    h, w = h_, w_\n",
    "    return 1 / (h**3 * w / (12 * eta) * (1 - 0.630 * h / w))"
   ]
  },
  {
   "cell_type": "code",
   "execution_count": null,
   "metadata": {},
   "outputs": [],
   "source": [
    "h = 50 * u.um"
   ]
  },
  {
   "cell_type": "code",
   "execution_count": null,
   "metadata": {},
   "outputs": [],
   "source": [
    "resistance(h, 100 * u.um) * u.m * (20 * u.uL / u.s)"
   ]
  },
  {
   "cell_type": "code",
   "execution_count": null,
   "metadata": {},
   "outputs": [],
   "source": []
  },
  {
   "cell_type": "markdown",
   "metadata": {},
   "source": [
    "# Flow calculations"
   ]
  },
  {
   "cell_type": "code",
   "execution_count": null,
   "metadata": {},
   "outputs": [],
   "source": [
    "eta = 1 * u.centipoise"
   ]
  },
  {
   "cell_type": "code",
   "execution_count": null,
   "metadata": {},
   "outputs": [],
   "source": [
    "def Q_over_deltap(eta, L, h, w):\n",
    "    h_ = np.minimum(h, w)\n",
    "    w_ = np.maximum(h, w)\n",
    "    h, w = h_, w_\n",
    "    return h**3 * w / (12 * eta * L) * (1 - 0.630 * h / w)"
   ]
  },
  {
   "cell_type": "code",
   "execution_count": null,
   "metadata": {},
   "outputs": [],
   "source": [
    "baseline_md = chip_metadata(feeding_channel_width=150, lane_gap=400)\n",
    "print(baseline_md)"
   ]
  },
  {
   "cell_type": "code",
   "execution_count": null,
   "metadata": {},
   "outputs": [],
   "source": [
    "h = 50 * u.um\n",
    "w = baseline_md[\"feeding_channel_width\"] * u.um\n",
    "L = baseline_md[\"split\"][0] * baseline_md[\"lane_length\"] * u.um\n",
    "baseline_Q_over_deltap = Q_over_deltap(eta, L, h, w)"
   ]
  },
  {
   "cell_type": "code",
   "execution_count": null,
   "metadata": {},
   "outputs": [],
   "source": [
    "h = 50 * u.um\n",
    "w = np.linspace(50, 150, 100) * u.um\n",
    "L = 15 * 17000 * u.um\n",
    "plt.plot(w, baseline_Q_over_deltap / Q_over_deltap(eta, L, h, w))"
   ]
  },
  {
   "cell_type": "code",
   "execution_count": null,
   "metadata": {},
   "outputs": [],
   "source": [
    "np.array((5056, 2960)) * 4.25 / 20"
   ]
  },
  {
   "cell_type": "code",
   "execution_count": null,
   "metadata": {},
   "outputs": [],
   "source": [
    "lane_length = 17615 * u.um\n",
    "h = 50 * u.um\n",
    "w = np.linspace(50, 150, 100) * u.um\n",
    "plt.figure(figsize=(10, 8))\n",
    "ax = plt.gca()\n",
    "ax.plot(w, 1 / Q_over_deltap(eta, lane_length * 23, 50, w))\n",
    "for (lanes, width, height), c in zip(\n",
    "    ((15, 50, 50), (19, 90, 90), (29, 45, 90), (23, 40, 50), (23, 40, 90)),\n",
    "    plt.cm.get_cmap(\"Set1\").colors,\n",
    "):\n",
    "    v = 1 / Q_over_deltap(eta, lane_length * lanes, height, width)\n",
    "    ax.axhline(\n",
    "        v.magnitude,\n",
    "        c=c,\n",
    "        ls=\"--\",\n",
    "        label=\"{} lane snake ({} um width, {} um height)\".format(lanes, width, height),\n",
    "    )\n",
    "plt.legend()"
   ]
  },
  {
   "cell_type": "code",
   "execution_count": null,
   "metadata": {},
   "outputs": [],
   "source": [
    "plt.figure(figsize=(10, 8))\n",
    "hs = np.array([50, 75, 100, 150]) * u.um\n",
    "w = np.linspace(40, 150, 100) * u.um\n",
    "chips = [\n",
    "    chip_metadata(feeding_channel_width=width.magnitude, trench_spacing=2, split=8)\n",
    "    for width in w\n",
    "]\n",
    "L = np.array([np.max(m[\"split\"]) * m[\"lane_length\"] for m in chips]) * u.um\n",
    "# L = 15 * 17000 * u.um\n",
    "eta = 1 * u.centipoise\n",
    "ax = plt.gca()\n",
    "for h in hs:\n",
    "    ax.plot(\n",
    "        w,\n",
    "        baseline_Q_over_deltap / Q_over_deltap(eta, L, h, w),\n",
    "        label=\"feeding channel height: {:~P}\".format(h),\n",
    "    )\n",
    "ax2 = plt.gca().twinx()\n",
    "ax2.plot(\n",
    "    w,\n",
    "    [m[\"num_trenches\"] for m in chips],\n",
    "    ls=\"-.\",\n",
    "    c=\"purple\",\n",
    "    label=\"number of trenches (2 um trench spacing)\",\n",
    ")\n",
    "# ax2.plot(w, [np.max(m['split']) for m in chips], c='r', label='number of lanes')\n",
    "ax.axhline(1, c=\"k\", ls=\":\", label=\"15 lane snake (50 um height)\")\n",
    "ax.legend()\n",
    "ax.set_ylabel(\"pressure (relative to 15-lane snake)\")\n",
    "ax.set_xlabel(\"feeding channel width (um)\")\n",
    "ax2.legend(loc=\"lower left\")"
   ]
  },
  {
   "cell_type": "markdown",
   "metadata": {},
   "source": [
    "# Designs"
   ]
  },
  {
   "cell_type": "code",
   "execution_count": null,
   "metadata": {},
   "outputs": [],
   "source": [
    "def chip_metadata(**kwargs):\n",
    "    metadata = {}\n",
    "    main_cell = s.chip(\n",
    "        \"my_chip\", **{\"metadata\": metadata, **kwargs, \"draw_trenches\": False}\n",
    "    )\n",
    "    return metadata[\"my_chip\"]"
   ]
  },
  {
   "cell_type": "code",
   "execution_count": null,
   "metadata": {},
   "outputs": [],
   "source": [
    "coverslip_dims = np.array([55e3, 24e3])\n",
    "chip_dims0 = np.array([23e3, 13e3])\n",
    "chip_dims1 = np.array([40e3, 20e3])\n",
    "chip_dims2 = np.array([25e3, 16e3])"
   ]
  },
  {
   "cell_type": "code",
   "execution_count": null,
   "metadata": {},
   "outputs": [],
   "source": [
    "plt.figure(figsize=(10, 5))\n",
    "ax = plt.gca()\n",
    "ax.add_patch(plt.Rectangle(-coverslip_dims / 2, *coverslip_dims, fill=False))\n",
    "ax.add_patch(plt.Rectangle(-chip_dims0 / 2, *chip_dims0, fill=False, ls=\"-.\"))\n",
    "ax.add_patch(plt.Rectangle(-chip_dims1 / 2, *chip_dims1, fill=False, ls=\"--\"))\n",
    "ax.add_patch(plt.Rectangle(-chip_dims2 / 2, *chip_dims2, fill=False))\n",
    "ax.set_xlim(-1.2 * coverslip_dims[0] / 2, 1.2 * coverslip_dims[0] / 2)\n",
    "ax.set_ylim(-1.2 * coverslip_dims[1] / 2, 1.2 * coverslip_dims[1] / 2)\n",
    "ax.set_aspect(\"equal\")"
   ]
  },
  {
   "cell_type": "code",
   "execution_count": null,
   "metadata": {},
   "outputs": [],
   "source": [
    "def fovs_per_chip(\n",
    "    fov,\n",
    "    feeding_channel_width=None,\n",
    "    trench_length=None,\n",
    "    trench_gap=None,\n",
    "    num_lanes=None,\n",
    "    lane_with_trenches_length=None,\n",
    "    **kwargs,\n",
    "):\n",
    "    hfovs = int(np.ceil(lane_with_trenches_length / fov[0]))\n",
    "    y = 2 * trench_length + trench_gap\n",
    "    unit_cell_height = y + feeding_channel_width\n",
    "    trench_sets_per_fov = 2\n",
    "    while True:\n",
    "        delta_y = feeding_channel_width + trench_length\n",
    "        if y + delta_y < fov[1]:\n",
    "            y += delta_y\n",
    "            unit_cell_height = y + trench_gap\n",
    "            trench_sets_per_fov += 1\n",
    "        else:\n",
    "            break\n",
    "        delta_y = trench_gap + trench_length\n",
    "        if y + delta_y < fov[1]:\n",
    "            y += delta_y\n",
    "            unit_cell_height = y + feeding_channel_width\n",
    "            trench_sets_per_fov += 1\n",
    "        else:\n",
    "            break\n",
    "    vfovs = int(np.ceil(num_lanes * 2 / trench_sets_per_fov))\n",
    "    return np.array([hfovs, vfovs]), unit_cell_height, y"
   ]
  },
  {
   "cell_type": "code",
   "execution_count": null,
   "metadata": {},
   "outputs": [],
   "source": [
    "fov = np.array([5056, 2960]) * 4.25 / 20"
   ]
  },
  {
   "cell_type": "code",
   "execution_count": null,
   "metadata": {},
   "outputs": [],
   "source": [
    "metadata = {}\n",
    "main_cell = s.chip(\n",
    "    \"Big Snake\",\n",
    "    s.snake,\n",
    "    dims=chip_dims2,\n",
    "    split=8,\n",
    "    gap_lanes=1,\n",
    "    feeding_channel_width=80,\n",
    "    trench_spacing=2,\n",
    "    trench_gap=20,\n",
    "    trench_width=1.5,\n",
    "    port_margin=1.5e3,\n",
    "    top_margin=1.2e3,\n",
    "    bottom_margin=1.2e3,\n",
    "    horizontal_margin=4e3,\n",
    "    draw_trenches=False,\n",
    "    metadata=metadata,\n",
    ")\n",
    "fovs, unit_cell_height, active_height = fovs_per_chip(fov, **metadata[\"Big Snake\"])\n",
    "print(metadata)\n",
    "print(\"FOVs: {} ({} x {})\".format(np.product(fovs), fovs[0], fovs[1]))\n",
    "print(\"unit cell height:\", unit_cell_height)\n",
    "print(\"active height: {} (margin: {})\".format(active_height, fov[1] - active_height))\n",
    "plot_cell(main_cell)"
   ]
  },
  {
   "cell_type": "code",
   "execution_count": null,
   "metadata": {},
   "outputs": [],
   "source": [
    "# height: 1.4\n",
    "# x2 S8 W1.3 L35 TS1\n",
    "# x2 S8 W1.5 L35 TS1\n",
    "# x1 S8 W1.5 L35 TS3\n",
    "# x1 S8 W1.5 L45 TS2\n",
    "\n",
    "# S8 W1.5 L35-65 sampler?"
   ]
  },
  {
   "cell_type": "code",
   "execution_count": null,
   "metadata": {},
   "outputs": [],
   "source": [
    "%%time\n",
    "metadata = {}\n",
    "base_params = dict(\n",
    "    dims=chip_dims2,\n",
    "    split=24,\n",
    "    gap_lanes=0,\n",
    "    trench_length=35,\n",
    "    feeding_channel_width=40,\n",
    "    trench_gap=20,\n",
    "    port_margin=1.5e3,\n",
    "    top_margin=1.2e3,\n",
    "    bottom_margin=1.2e3,\n",
    "    horizontal_margin=4e3,\n",
    "    draw_trenches=True,\n",
    "    metadata=metadata,\n",
    ")\n",
    "params = [\n",
    "    dict(trench_width=1.4, trench_spacing=2.1, **base_params),\n",
    "    dict(trench_width=1.4, trench_spacing=2.1, **base_params),\n",
    "    dict(trench_width=1.4, trench_spacing=1.1, **base_params),\n",
    "    {\n",
    "        **base_params,\n",
    "        **dict(\n",
    "            trench_width=1.5,\n",
    "            trench_spacing=2.1,\n",
    "            trench_length=45,\n",
    "            trench_gap=15,\n",
    "            feeding_channel_width=70,\n",
    "            top_margin=1e3,\n",
    "            bottom_margin=1e3,\n",
    "        ),\n",
    "    },\n",
    "    dict(trench_width=1.2, trench_spacing=2.1, **base_params),\n",
    "    dict(trench_width=1.2, trench_spacing=2.1, **base_params),\n",
    "]\n",
    "# params = [dict(split=4, fc=40, w=1.4, ts=1.6, tg=10), dict(split=4, fc=40, w=1.4, ts=1.1, tg=10), dict(split=4, fc=40, w=1.4, ts=1.1, tg=10),\n",
    "#          dict(split=8, fc=40, w=1.4, ts=1.6, tg=10), dict(split=8, fc=40, w=1.4, ts=1.1, tg=10), dict(split=8, fc=40, w=1.4, ts=1.1, tg=10)]\n",
    "chips = [\n",
    "    s.chip(\n",
    "        \"Basilisk S{split} FC{feeding_channel_width} L{trench_length} W{trench_width} TS{trench_spacing}\".format(\n",
    "            **params\n",
    "        ),\n",
    "        s.snake,\n",
    "        **params,\n",
    "    )\n",
    "    for params in params\n",
    "]\n",
    "# chips = [chips[0]]*6\n",
    "main_cell = s.wafer(\n",
    "    chips, \"Basilisk \\n YG/JQS 191212\", text=True, mask=False, chip_area_margin=1e3\n",
    ")\n",
    "write_gds(main_cell, \"200128basilisk.gds\")"
   ]
  },
  {
   "cell_type": "code",
   "execution_count": null,
   "metadata": {},
   "outputs": [],
   "source": [
    "# print text summary for wafer spreadsheet"
   ]
  },
  {
   "cell_type": "code",
   "execution_count": null,
   "metadata": {},
   "outputs": [],
   "source": [
    "plot_cell(main_cell)"
   ]
  },
  {
   "cell_type": "code",
   "execution_count": null,
   "metadata": {},
   "outputs": [],
   "source": [
    "metadata"
   ]
  },
  {
   "cell_type": "code",
   "execution_count": null,
   "metadata": {},
   "outputs": [],
   "source": [
    "plot_cell(chips[5])"
   ]
  }
 ],
 "metadata": {
  "kernelspec": {
   "display_name": "Python 3",
   "language": "python",
   "name": "python3"
  },
  "language_info": {
   "codemirror_mode": {
    "name": "ipython",
    "version": 3
   },
   "file_extension": ".py",
   "mimetype": "text/x-python",
   "name": "python",
   "nbconvert_exporter": "python",
   "pygments_lexer": "ipython3",
   "version": "3.7.6"
  }
 },
 "nbformat": 4,
 "nbformat_minor": 4
}
