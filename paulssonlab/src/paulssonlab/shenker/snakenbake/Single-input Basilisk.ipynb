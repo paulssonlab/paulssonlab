{
 "cells": [
  {
   "cell_type": "code",
   "execution_count": null,
   "metadata": {},
   "outputs": [],
   "source": [
    "import numpy as np\n",
    "import gdspy\n",
    "import matplotlib.pyplot as plt\n",
    "from cytoolz import dissoc\n",
    "\n",
    "%matplotlib inline\n",
    "from functools import partial"
   ]
  },
  {
   "cell_type": "code",
   "execution_count": null,
   "metadata": {},
   "outputs": [],
   "source": [
    "%load_ext autoreload\n",
    "%autoreload 2\n",
    "import snakenbake as s\n",
    "from geometry import Cell, Round"
   ]
  },
  {
   "cell_type": "code",
   "execution_count": null,
   "metadata": {},
   "outputs": [],
   "source": [
    "import pint\n",
    "\n",
    "u = pint._DEFAULT_REGISTRY"
   ]
  },
  {
   "cell_type": "code",
   "execution_count": null,
   "metadata": {},
   "outputs": [],
   "source": [
    "def plot_cell(cell, exclude=(2,)):\n",
    "    # FROM: https://github.com/heitzmann/gdspy/issues/42\n",
    "    if hasattr(cell, \"get_polygons\"):\n",
    "        poly_dict = cell.get_polygons(by_spec=True)\n",
    "    else:\n",
    "        poly_dict = {\n",
    "            l_d: [p] for l_d, p in zip(zip(cell.layers, cell.datatypes), cell.polygons)\n",
    "        }\n",
    "    plt.figure(figsize=(40, 20))\n",
    "    for layer_datatype, polys in poly_dict.items():\n",
    "        if layer_datatype[0] in exclude:\n",
    "            continue\n",
    "        for poly in polys:\n",
    "            plt.fill(*poly.T, lw=0.5, ec=\"k\", fc=(1, 0, 0, 0.5))\n",
    "    plt.axes().set_aspect(\"equal\", \"datalim\")\n",
    "\n",
    "\n",
    "def write_gds(main_cell, filename, unit=1.0e-6, precision=1.0e-9):\n",
    "    # writer = gdspy.GdsWriter(filename, unit=unit, precision=precision)\n",
    "    # for cell in [main_cell] + list(main_cell.get_dependencies(True)):\n",
    "    #    writer.write_cell(cell)\n",
    "    # writer.close()\n",
    "    cells = [main_cell] + list(main_cell.get_dependencies(True))\n",
    "    gdspy.write_gds(filename, cells=cells, unit=unit, precision=precision)"
   ]
  },
  {
   "cell_type": "code",
   "execution_count": null,
   "metadata": {},
   "outputs": [],
   "source": [
    "def fovs_per_chip(\n",
    "    fov,\n",
    "    feeding_channel_width=None,\n",
    "    trench_length=None,\n",
    "    trench_gap=None,\n",
    "    num_lanes=None,\n",
    "    lane_with_trenches_length=None,\n",
    "    **kwargs,\n",
    "):\n",
    "    hfovs = int(np.ceil(lane_with_trenches_length / fov[0]))\n",
    "    y = 2 * trench_length + trench_gap\n",
    "    unit_cell_height = y + feeding_channel_width\n",
    "    trench_sets_per_fov = 2\n",
    "    while True:\n",
    "        delta_y = feeding_channel_width + trench_length\n",
    "        if y + delta_y < fov[1]:\n",
    "            y += delta_y\n",
    "            unit_cell_height = y + trench_gap\n",
    "            trench_sets_per_fov += 1\n",
    "        else:\n",
    "            break\n",
    "        delta_y = trench_gap + trench_length\n",
    "        if y + delta_y < fov[1]:\n",
    "            y += delta_y\n",
    "            unit_cell_height = y + feeding_channel_width\n",
    "            trench_sets_per_fov += 1\n",
    "        else:\n",
    "            break\n",
    "    vfovs = int(np.ceil(num_lanes * 2 / trench_sets_per_fov))\n",
    "    return np.array([hfovs, vfovs]), unit_cell_height, y"
   ]
  },
  {
   "cell_type": "code",
   "execution_count": null,
   "metadata": {},
   "outputs": [],
   "source": [
    "def print_fovs(fov_dims, metadata):\n",
    "    for fov_name, fov_dim in fov_dims.items():\n",
    "        fovs, unit_cell_height, active_height = fovs_per_chip(fov_dim, **metadata)\n",
    "        print(f\"{fov_name}: {fov_dim[0]} x {fov_dim[1]}\")\n",
    "        # print(metadata)\n",
    "        print(\"    FOVs: {} ({} x {})\".format(np.product(fovs), fovs[0], fovs[1]))\n",
    "        print(\"    unit cell height:\", unit_cell_height)\n",
    "        print(\n",
    "            \"    active height: {} (margin: {})\".format(\n",
    "                active_height, fov_dim[1] - active_height\n",
    "            )\n",
    "        )"
   ]
  },
  {
   "cell_type": "code",
   "execution_count": null,
   "metadata": {},
   "outputs": [],
   "source": [
    "camera_dims = {\n",
    "    \"iris\": (4.25, np.array([5056, 2960])),\n",
    "    \"bsi\": (6.5, np.array([2048, 2048])),\n",
    "}\n",
    "fov_dims = {}\n",
    "for camera, (pixel_size, fov_dim) in camera_dims.items():\n",
    "    for mag in (20, 40, 60, 100):\n",
    "        fov_dims[f\"{camera} {mag}x\"] = fov_dim * pixel_size / mag"
   ]
  },
  {
   "cell_type": "markdown",
   "metadata": {},
   "source": [
    "# Single-input prototype"
   ]
  },
  {
   "cell_type": "code",
   "execution_count": null,
   "metadata": {},
   "outputs": [],
   "source": [
    "a = gdspy.Round((0, 0), 10, initial_angle=0, final_angle=np.pi)"
   ]
  },
  {
   "cell_type": "code",
   "execution_count": null,
   "metadata": {},
   "outputs": [],
   "source": [
    "(1 / 2 + 1 / 2) + np.array([0, 1 / 2])"
   ]
  },
  {
   "cell_type": "code",
   "execution_count": null,
   "metadata": {},
   "outputs": [],
   "source": [
    "(-1 + np.array([3, 2])) / 2  # * np.pi"
   ]
  },
  {
   "cell_type": "code",
   "execution_count": null,
   "metadata": {},
   "outputs": [],
   "source": [
    "plot_cell(gdspy.Round((0, 0), 10, initial_angle=np.pi, final_angle=np.pi / 2))"
   ]
  },
  {
   "cell_type": "code",
   "execution_count": null,
   "metadata": {},
   "outputs": [],
   "source": [
    "plot_cell(gdspy.Round((0, 0), 10, initial_angle=2 * np.pi, final_angle=3 / 2 * np.pi))"
   ]
  },
  {
   "cell_type": "code",
   "execution_count": null,
   "metadata": {},
   "outputs": [],
   "source": [
    "metadata = {}\n",
    "metadata2 = {}\n",
    "# chip_dims = np.array([25e3, 16e3])\n",
    "# chip_dims = np.array([38e3, 20e3])\n",
    "chip_dims = np.array([50e3, 50e3])\n",
    "main_cell = s.chip(\n",
    "    \"Big Snake\",\n",
    "    s.manifold_snake,\n",
    "    dims=chip_dims,\n",
    "    split=None,\n",
    "    manifold_input_style=\"bend-in\",\n",
    "    num_manifolds=1,\n",
    "    lanes_per_snake=3,\n",
    "    manifold_width=200,\n",
    "    manifold_input_margin=2e3,\n",
    "    manifold_bend_margin=0.2e3,\n",
    "    manifold_bend_radius=300,\n",
    "    manifold_margin=100,\n",
    "    border_margin=400,\n",
    "    feeding_channel_width=40,\n",
    "    trench_spacing=2,\n",
    "    trench_gap=20,\n",
    "    trench_width=1.5,\n",
    "    registration_marks=True,\n",
    "    # mark_size=2,\n",
    "    # mark_spacing=2,\n",
    "    chip_id=2**10 - 1,\n",
    "    ticks=False,\n",
    "    port_margin=0.3e3,\n",
    "    top_margin=0.9e3,\n",
    "    bottom_margin=0.9e3,\n",
    "    draw_trenches=False,\n",
    "    metadata=metadata,\n",
    ")\n",
    "# print(metadata)\n",
    "# plot_cell(main_cell)\n",
    "# plot_cell(main_cell2)\n",
    "print(metadata[\"Big Snake\"][\"num_trenches\"])\n",
    "# write_gds(main_cell, '200214manifold_test.gds')"
   ]
  },
  {
   "cell_type": "code",
   "execution_count": null,
   "metadata": {},
   "outputs": [],
   "source": [
    "get_resistance(75, metadata[\"Big Snake\"])"
   ]
  },
  {
   "cell_type": "code",
   "execution_count": null,
   "metadata": {},
   "outputs": [],
   "source": [
    "res = manifold_flow_rates(feeding_channel_height=75, **metadata[\"Big Snake\"])\n",
    "\n",
    "plt.figure(figsize=(12, 8))\n",
    "for r in res:\n",
    "    v = r[\"q\"]\n",
    "    plt.plot(v / v.max())"
   ]
  },
  {
   "cell_type": "code",
   "execution_count": null,
   "metadata": {},
   "outputs": [],
   "source": [
    "np.log2(metadata[\"Big Snake\"][\"num_lanes\"])"
   ]
  },
  {
   "cell_type": "code",
   "execution_count": null,
   "metadata": {},
   "outputs": [],
   "source": [
    "np.log2(metadata[\"Big Snake\"][\"trenches_per_set\"] / 20)"
   ]
  },
  {
   "cell_type": "code",
   "execution_count": null,
   "metadata": {},
   "outputs": [],
   "source": [
    "w = 400 * u.um\n",
    "h = 75 * u.um\n",
    "D_h = 2 * w * h / (w + h)\n",
    "Q = 20 * u.uL / u.minute * 30\n",
    "nu = 0.7 * u.centistokes\n",
    "Re = Q * D_h / ((w * h) * nu)\n",
    "L_e = D_h * (0.55 / (0.13 * Re + 1) + 0.065 * Re)"
   ]
  },
  {
   "cell_type": "code",
   "execution_count": null,
   "metadata": {},
   "outputs": [],
   "source": [
    "Re.to_base_units()"
   ]
  },
  {
   "cell_type": "code",
   "execution_count": null,
   "metadata": {},
   "outputs": [],
   "source": [
    "Re"
   ]
  },
  {
   "cell_type": "code",
   "execution_count": null,
   "metadata": {},
   "outputs": [],
   "source": [
    "D_h"
   ]
  },
  {
   "cell_type": "code",
   "execution_count": null,
   "metadata": {},
   "outputs": [],
   "source": [
    "L_e"
   ]
  },
  {
   "cell_type": "code",
   "execution_count": null,
   "metadata": {},
   "outputs": [],
   "source": [
    "6.5 * 2048 / np.array([20, 40, 60, 100])"
   ]
  },
  {
   "cell_type": "code",
   "execution_count": null,
   "metadata": {},
   "outputs": [],
   "source": [
    "4.25 * 2960 / np.array([20, 40, 60, 100])"
   ]
  },
  {
   "cell_type": "code",
   "execution_count": null,
   "metadata": {},
   "outputs": [],
   "source": [
    "6.5 / 40"
   ]
  },
  {
   "cell_type": "code",
   "execution_count": null,
   "metadata": {},
   "outputs": [],
   "source": [
    "4.25 / 20"
   ]
  },
  {
   "cell_type": "markdown",
   "metadata": {},
   "source": [
    "# Manifold flow"
   ]
  },
  {
   "cell_type": "code",
   "execution_count": null,
   "metadata": {},
   "outputs": [],
   "source": [
    "md = metadata[\"Big Snake\"]\n",
    "md.keys()"
   ]
  },
  {
   "cell_type": "code",
   "execution_count": null,
   "metadata": {},
   "outputs": [],
   "source": [
    "def _ensure_array(val, size):\n",
    "    if np.isscalar(val):\n",
    "        return np.full(size, val)\n",
    "    else:\n",
    "        return val\n",
    "\n",
    "\n",
    "def ladder_flow_rates(R_snake, R_left, R_right, N=None):\n",
    "    for ary, inc in ((R_snake, 0), (R_left, 1), (R_right, 1)):\n",
    "        if not np.isscalar(ary):\n",
    "            if N is None:\n",
    "                N = len(ary) + inc\n",
    "            elif N != len(ary) + inc:\n",
    "                raise ValueError(\"got conflicting ladder sizes\")\n",
    "    if N is None:\n",
    "        raise ValueError(\"ladder size must be specified if resistances are scalars\")\n",
    "    R_snake = _ensure_array(R_snake, N)\n",
    "    R_left = _ensure_array(R_left, N)\n",
    "    R_right = _ensure_array(R_right, N)\n",
    "    A = np.zeros((N, N))\n",
    "    b = np.zeros(N)\n",
    "    b[0] = 1\n",
    "    A[0, :] = 1\n",
    "    for i in range(1, N):\n",
    "        A[i, : i - 1] = R_left[i - 1]\n",
    "        A[i, i - 1] = -(R_right[i - 1] + R_snake[i - 1])\n",
    "        A[i, i] = R_left[i - 1] + R_snake[i]\n",
    "        A[i, i + 1 :] = -R_right[i - 1]\n",
    "    q = np.linalg.solve(A, b)\n",
    "    return q\n",
    "\n",
    "\n",
    "def manifold_flow_rates(\n",
    "    feeding_channel_height=None,\n",
    "    split=None,\n",
    "    split_cum=None,\n",
    "    manifold_split=None,\n",
    "    manifold_split_cum=None,\n",
    "    left_port_lanes=None,\n",
    "    right_port_lanes=None,\n",
    "    lane_length=None,\n",
    "    manifold_width=None,\n",
    "    feeding_channel_width=None,\n",
    "    lane_ys=None,\n",
    "    **kwargs,\n",
    "):\n",
    "    split_cum = np.concatenate(((0,), np.cumsum(split)))\n",
    "    manifold_split_cum = np.concatenate(((0,), np.cumsum(manifold_split)))\n",
    "    results = []\n",
    "    for manifold in range(len(manifold_split)):\n",
    "        selected_lanes = slice(\n",
    "            manifold_split_cum[manifold], manifold_split_cum[manifold + 1]\n",
    "        )\n",
    "        lanes_per_snake = split[selected_lanes]\n",
    "        left_segment_lengths = -np.diff(lane_ys[left_port_lanes[selected_lanes]])\n",
    "        right_segment_lengths = -np.diff(lane_ys[right_port_lanes[selected_lanes]])\n",
    "        R_snake = (\n",
    "            lanes_per_snake\n",
    "            * lane_length\n",
    "            * resistance(feeding_channel_height, feeding_channel_width)\n",
    "        )\n",
    "        R_left = left_segment_lengths * resistance(\n",
    "            feeding_channel_height, manifold_width\n",
    "        )\n",
    "        R_right = right_segment_lengths * resistance(\n",
    "            feeding_channel_height, manifold_width\n",
    "        )\n",
    "        q = ladder_flow_rates(R_snake, R_left, R_right)\n",
    "        R = ((1 - np.cumsum(q))[:-1] * R_left).sum() + q[-1] * R_snake[-1]\n",
    "        results.append(\n",
    "            {\"R_snake\": R_snake, \"R_left\": R_left, \"R_right\": R_right, \"q\": q, \"R\": R}\n",
    "        )\n",
    "    return results"
   ]
  },
  {
   "cell_type": "code",
   "execution_count": null,
   "metadata": {},
   "outputs": [],
   "source": [
    "res = manifold_flow_rates(feeding_channel_height=75, **metadata[\"Big Snake\"])\n",
    "\n",
    "plt.figure(figsize=(12, 8))\n",
    "for r in res:\n",
    "    v = r[\"q\"]\n",
    "    plt.plot(v / v.max())"
   ]
  },
  {
   "cell_type": "code",
   "execution_count": null,
   "metadata": {},
   "outputs": [],
   "source": [
    "# def resistance(h, w, eta=1 * u.centipoise):\n",
    "def resistance(h, w, eta=1):\n",
    "    h_ = np.minimum(h, w)\n",
    "    w_ = np.maximum(h, w)\n",
    "    h, w = h_, w_\n",
    "    return 1 / (h**3 * w / (12 * eta) * (1 - 0.630 * h / w))"
   ]
  },
  {
   "cell_type": "code",
   "execution_count": null,
   "metadata": {},
   "outputs": [],
   "source": [
    "h = 50 * u.um"
   ]
  },
  {
   "cell_type": "code",
   "execution_count": null,
   "metadata": {},
   "outputs": [],
   "source": [
    "resistance(h, 100 * u.um) * u.m * (20 * u.uL / u.s)"
   ]
  },
  {
   "cell_type": "markdown",
   "metadata": {},
   "source": [
    "## S8 chip resistance"
   ]
  },
  {
   "cell_type": "code",
   "execution_count": null,
   "metadata": {},
   "outputs": [],
   "source": [
    "feeding_channel_height = 75  # * u.um\n",
    "split = metadata[\"Basilisk S8 FC80 L35 W1.4 TS2.1\"][\"split\"]\n",
    "lane_length = metadata[\"Basilisk S8 FC80 L35 W1.4 TS2.1\"][\"lane_length\"]\n",
    "feeding_channel_width = metadata[\"Basilisk S8 FC80 L35 W1.4 TS2.1\"][\n",
    "    \"feeding_channel_width\"\n",
    "]\n",
    "R = split * lane_length * resistance(feeding_channel_height, feeding_channel_width)\n",
    "R"
   ]
  },
  {
   "cell_type": "code",
   "execution_count": null,
   "metadata": {},
   "outputs": [],
   "source": [
    "feeding_channel_height = 75  # * u.um\n",
    "split = metadata[\"Basilisk S8 FC40 L35 W1.4 TS1.1\"][\"split\"]\n",
    "lane_length = metadata[\"Basilisk S8 FC40 L35 W1.4 TS1.1\"][\"lane_length\"]\n",
    "feeding_channel_width = metadata[\"Basilisk S8 FC40 L35 W1.4 TS1.1\"][\n",
    "    \"feeding_channel_width\"\n",
    "]\n",
    "R = split * lane_length * resistance(feeding_channel_height, feeding_channel_width)\n",
    "R"
   ]
  },
  {
   "cell_type": "code",
   "execution_count": null,
   "metadata": {},
   "outputs": [],
   "source": [
    "s3_metadata = {}\n",
    "main_cell = s.chip(\n",
    "    \"Big Snake\",\n",
    "    s.snake,\n",
    "    dims=np.array([23e3, 13e3]),\n",
    "    split=3,\n",
    "    gap_lanes=0,\n",
    "    feeding_channel_width=45,\n",
    "    trench_spacing=2,\n",
    "    trench_gap=20,\n",
    "    trench_width=1.5,\n",
    "    port_margin=1.5e3,\n",
    "    top_margin=1.2e3,\n",
    "    bottom_margin=1.2e3,\n",
    "    horizontal_margin=4e3,\n",
    "    draw_trenches=False,\n",
    "    metadata=s3_metadata,\n",
    ")"
   ]
  },
  {
   "cell_type": "code",
   "execution_count": null,
   "metadata": {},
   "outputs": [],
   "source": [
    "plot_cell(main_cell)"
   ]
  },
  {
   "cell_type": "code",
   "execution_count": null,
   "metadata": {},
   "outputs": [],
   "source": [
    "s3_metadata"
   ]
  },
  {
   "cell_type": "code",
   "execution_count": null,
   "metadata": {},
   "outputs": [],
   "source": [
    "feeding_channel_height = 100  # * u.um\n",
    "split = s3_metadata[\"Big Snake\"][\"split\"]\n",
    "lane_length = s3_metadata[\"Big Snake\"][\"lane_length\"]\n",
    "feeding_channel_width = s3_metadata[\"Big Snake\"][\"feeding_channel_width\"]\n",
    "R = split * lane_length * resistance(feeding_channel_height, feeding_channel_width)\n",
    "R"
   ]
  },
  {
   "cell_type": "markdown",
   "metadata": {},
   "source": [
    "# Flow calculations"
   ]
  },
  {
   "cell_type": "code",
   "execution_count": null,
   "metadata": {},
   "outputs": [],
   "source": [
    "eta = 1 * u.centipoise"
   ]
  },
  {
   "cell_type": "code",
   "execution_count": null,
   "metadata": {},
   "outputs": [],
   "source": [
    "def Q_over_deltap(eta, L, h, w):\n",
    "    h_ = np.minimum(h, w)\n",
    "    w_ = np.maximum(h, w)\n",
    "    h, w = h_, w_\n",
    "    return h**3 * w / (12 * eta * L) * (1 - 0.630 * h / w)"
   ]
  },
  {
   "cell_type": "code",
   "execution_count": null,
   "metadata": {},
   "outputs": [],
   "source": [
    "baseline_md = chip_metadata(feeding_channel_width=150, lane_gap=400)\n",
    "print(baseline_md)"
   ]
  },
  {
   "cell_type": "code",
   "execution_count": null,
   "metadata": {},
   "outputs": [],
   "source": [
    "h = 50 * u.um\n",
    "w = baseline_md[\"feeding_channel_width\"] * u.um\n",
    "L = baseline_md[\"split\"][0] * baseline_md[\"lane_length\"] * u.um\n",
    "baseline_Q_over_deltap = Q_over_deltap(eta, L, h, w)"
   ]
  },
  {
   "cell_type": "code",
   "execution_count": null,
   "metadata": {},
   "outputs": [],
   "source": [
    "h = 50 * u.um\n",
    "w = np.linspace(50, 150, 100) * u.um\n",
    "L = 15 * 17000 * u.um\n",
    "plt.plot(w, baseline_Q_over_deltap / Q_over_deltap(eta, L, h, w))"
   ]
  },
  {
   "cell_type": "code",
   "execution_count": null,
   "metadata": {},
   "outputs": [],
   "source": [
    "np.array((5056, 2960)) * 4.25 / 20"
   ]
  },
  {
   "cell_type": "code",
   "execution_count": null,
   "metadata": {},
   "outputs": [],
   "source": [
    "lane_length = 17615 * u.um\n",
    "h = 50 * u.um\n",
    "w = np.linspace(50, 150, 100) * u.um\n",
    "plt.figure(figsize=(10, 8))\n",
    "ax = plt.gca()\n",
    "ax.plot(w, 1 / Q_over_deltap(eta, lane_length * 23, 50, w))\n",
    "for (lanes, width, height), c in zip(\n",
    "    ((15, 50, 50), (19, 90, 90), (29, 45, 90), (23, 40, 50), (23, 40, 90)),\n",
    "    plt.cm.get_cmap(\"Set1\").colors,\n",
    "):\n",
    "    v = 1 / Q_over_deltap(eta, lane_length * lanes, height, width)\n",
    "    ax.axhline(\n",
    "        v.magnitude,\n",
    "        c=c,\n",
    "        ls=\"--\",\n",
    "        label=\"{} lane snake ({} um width, {} um height)\".format(lanes, width, height),\n",
    "    )\n",
    "plt.legend()"
   ]
  },
  {
   "cell_type": "code",
   "execution_count": null,
   "metadata": {},
   "outputs": [],
   "source": [
    "plt.figure(figsize=(10, 8))\n",
    "hs = np.array([50, 75, 100, 150]) * u.um\n",
    "w = np.linspace(40, 150, 100) * u.um\n",
    "chips = [\n",
    "    chip_metadata(feeding_channel_width=width.magnitude, trench_spacing=2, split=8)\n",
    "    for width in w\n",
    "]\n",
    "L = np.array([np.max(m[\"split\"]) * m[\"lane_length\"] for m in chips]) * u.um\n",
    "# L = 15 * 17000 * u.um\n",
    "eta = 1 * u.centipoise\n",
    "ax = plt.gca()\n",
    "for h in hs:\n",
    "    ax.plot(\n",
    "        w,\n",
    "        baseline_Q_over_deltap / Q_over_deltap(eta, L, h, w),\n",
    "        label=\"feeding channel height: {:~P}\".format(h),\n",
    "    )\n",
    "ax2 = plt.gca().twinx()\n",
    "ax2.plot(\n",
    "    w,\n",
    "    [m[\"num_trenches\"] for m in chips],\n",
    "    ls=\"-.\",\n",
    "    c=\"purple\",\n",
    "    label=\"number of trenches (2 um trench spacing)\",\n",
    ")\n",
    "# ax2.plot(w, [np.max(m['split']) for m in chips], c='r', label='number of lanes')\n",
    "ax.axhline(1, c=\"k\", ls=\":\", label=\"15 lane snake (50 um height)\")\n",
    "ax.legend()\n",
    "ax.set_ylabel(\"pressure (relative to 15-lane snake)\")\n",
    "ax.set_xlabel(\"feeding channel width (um)\")\n",
    "ax2.legend(loc=\"lower left\")"
   ]
  },
  {
   "cell_type": "markdown",
   "metadata": {},
   "source": [
    "# Designs"
   ]
  },
  {
   "cell_type": "code",
   "execution_count": null,
   "metadata": {},
   "outputs": [],
   "source": [
    "def chip_metadata(**kwargs):\n",
    "    metadata = {}\n",
    "    main_cell = s.chip(\n",
    "        \"my_chip\", **{\"metadata\": metadata, **kwargs, \"draw_trenches\": False}\n",
    "    )\n",
    "    return metadata[\"my_chip\"]"
   ]
  },
  {
   "cell_type": "code",
   "execution_count": null,
   "metadata": {},
   "outputs": [],
   "source": [
    "coverslip_dims = np.array([55e3, 24e3])\n",
    "chip_dims0 = np.array([23e3, 13e3])\n",
    "chip_dims1 = np.array([40e3, 20e3])\n",
    "chip_dims2 = np.array([25e3, 16e3])"
   ]
  },
  {
   "cell_type": "code",
   "execution_count": null,
   "metadata": {},
   "outputs": [],
   "source": [
    "plt.figure(figsize=(10, 5))\n",
    "ax = plt.gca()\n",
    "ax.add_patch(plt.Rectangle(-coverslip_dims / 2, *coverslip_dims, fill=False))\n",
    "ax.add_patch(plt.Rectangle(-chip_dims0 / 2, *chip_dims0, fill=False, ls=\"-.\"))\n",
    "ax.add_patch(plt.Rectangle(-chip_dims1 / 2, *chip_dims1, fill=False, ls=\"--\"))\n",
    "ax.add_patch(plt.Rectangle(-chip_dims2 / 2, *chip_dims2, fill=False))\n",
    "ax.set_xlim(-1.2 * coverslip_dims[0] / 2, 1.2 * coverslip_dims[0] / 2)\n",
    "ax.set_ylim(-1.2 * coverslip_dims[1] / 2, 1.2 * coverslip_dims[1] / 2)\n",
    "ax.set_aspect(\"equal\")"
   ]
  },
  {
   "cell_type": "code",
   "execution_count": null,
   "metadata": {},
   "outputs": [],
   "source": [
    "fov = np.array([5056, 2960]) * 4.25 / 20"
   ]
  },
  {
   "cell_type": "code",
   "execution_count": null,
   "metadata": {},
   "outputs": [],
   "source": [
    "metadata = {}\n",
    "main_cell = s.chip(\n",
    "    \"Big Snake\",\n",
    "    s.snake,\n",
    "    dims=chip_dims2,\n",
    "    split=8,\n",
    "    gap_lanes=1,\n",
    "    feeding_channel_width=80,\n",
    "    trench_spacing=2,\n",
    "    trench_gap=20,\n",
    "    trench_width=1.5,\n",
    "    port_margin=1.5e3,\n",
    "    top_margin=1.2e3,\n",
    "    bottom_margin=1.2e3,\n",
    "    horizontal_margin=4e3,\n",
    "    draw_trenches=False,\n",
    "    metadata=metadata,\n",
    ")\n",
    "fovs, unit_cell_height, active_height = fovs_per_chip(fov, **metadata[\"Big Snake\"])\n",
    "print(metadata)\n",
    "print(\"FOVs: {} ({} x {})\".format(np.product(fovs), fovs[0], fovs[1]))\n",
    "print(\"unit cell height:\", unit_cell_height)\n",
    "print(\"active height: {} (margin: {})\".format(active_height, fov[1] - active_height))\n",
    "plot_cell(main_cell)"
   ]
  },
  {
   "cell_type": "code",
   "execution_count": null,
   "metadata": {},
   "outputs": [],
   "source": [
    "# height: 1.4\n",
    "# x2 S8 W1.3 L35 TS1\n",
    "# x2 S8 W1.5 L35 TS1\n",
    "# x1 S8 W1.5 L35 TS3\n",
    "# x1 S8 W1.5 L45 TS2\n",
    "\n",
    "# S8 W1.5 L35-65 sampler?"
   ]
  },
  {
   "cell_type": "code",
   "execution_count": null,
   "metadata": {},
   "outputs": [],
   "source": [
    "%%time\n",
    "metadata = {}\n",
    "chip_dims = np.array([34e3, 18e3])\n",
    "base_params = dict(\n",
    "    design_func=s.snake,\n",
    "    dims=chip_dims,\n",
    "    split=8,\n",
    "    gap_lanes=0,\n",
    "    trench_length=35,\n",
    "    # feeding_channel_width=40,\n",
    "    horizontal_margin=2e3,\n",
    "    trench_gap=20,\n",
    "    trench_width=1.4,\n",
    "    # trench_spacing=2.1,\n",
    "    port_margin=0.6e3,\n",
    "    top_margin=1.2e3,\n",
    "    bottom_margin=0.6e3,\n",
    "    draw_trenches=True,\n",
    "    metadata=metadata,\n",
    ")\n",
    "manifold_params = dissoc(\n",
    "    {\n",
    "        **base_params,\n",
    "        **dict(\n",
    "            design_func=s.manifold_snake,\n",
    "            dims=chip_dims,\n",
    "            split=None,\n",
    "            num_manifolds=1,\n",
    "            manifold_width=200,\n",
    "            manifold_input_margin=2e3,\n",
    "            manifold_bend_margin=0.2e3,\n",
    "            manifold_bend_radius=300,\n",
    "            manifold_margin=100,\n",
    "            feeding_channel_width=40,\n",
    "            port_margin=0.5e3,\n",
    "            top_margin=0.9e3,\n",
    "            bottom_margin=0.9e3,\n",
    "            # trench_spacing=2.1,\n",
    "        ),\n",
    "    },\n",
    "    \"horizontal_margin\",\n",
    "    \"gap_lanes\",\n",
    ")\n",
    "params = [\n",
    "    dict(\n",
    "        feeding_channel_width=80,\n",
    "        trench_spacing=1.1,\n",
    "        registration_marks=True,\n",
    "        chip_id=0,\n",
    "        mark_size=2,\n",
    "        mark_spacing=1.5,\n",
    "        tick_period=50,\n",
    "        **base_params,\n",
    "    ),\n",
    "    dict(\n",
    "        feeding_channel_width=80,\n",
    "        trench_spacing=2.1,\n",
    "        registration_marks=True,\n",
    "        chip_id=0,\n",
    "        mark_size=1,\n",
    "        mark_spacing=1,\n",
    "        tick_period=50,\n",
    "        **base_params,\n",
    "    ),\n",
    "    dict(\n",
    "        feeding_channel_width=80,\n",
    "        trench_spacing=3.1,\n",
    "        registration_marks=False,\n",
    "        **base_params,\n",
    "    ),\n",
    "    dict(\n",
    "        lanes_per_snake=3,\n",
    "        trench_spacing=2.1,\n",
    "        registration_marks=True,\n",
    "        chip_id=1,\n",
    "        mark_size=1,\n",
    "        mark_spacing=1,\n",
    "        **manifold_params,\n",
    "    ),\n",
    "    dict(\n",
    "        lanes_per_snake=3,\n",
    "        trench_spacing=2.1,\n",
    "        registration_marks=False,\n",
    "        **manifold_params,\n",
    "    ),\n",
    "    dict(\n",
    "        lanes_per_snake=5,\n",
    "        trench_spacing=2.1,\n",
    "        registration_marks=True,\n",
    "        chip_id=1,\n",
    "        mark_size=1,\n",
    "        mark_spacing=1,\n",
    "        **manifold_params,\n",
    "    )\n",
    "    #     {\n",
    "    #         **base_params,\n",
    "    #         **dict(\n",
    "    #             trench_width=1.5,\n",
    "    #             trench_spacing=2.1,\n",
    "    #             trench_length=45,\n",
    "    #             trench_gap=15,\n",
    "    #             feeding_channel_width=70,\n",
    "    #             top_margin=1e3,\n",
    "    #             bottom_margin=1e3,\n",
    "    #         ),\n",
    "    #     },\n",
    "]\n",
    "# params = [dict(split=4, fc=40, w=1.4, ts=1.6, tg=10), dict(split=4, fc=40, w=1.4, ts=1.1, tg=10), dict(split=4, fc=40, w=1.4, ts=1.1, tg=10),\n",
    "#          dict(split=8, fc=40, w=1.4, ts=1.6, tg=10), dict(split=8, fc=40, w=1.4, ts=1.1, tg=10), dict(split=8, fc=40, w=1.4, ts=1.1, tg=10)]\n",
    "chip_names = [\n",
    "    \"Basilisk {ports} FC{feeding_channel_width} L{trench_length} W{trench_width} TS{trench_spacing}{reg}\".format(\n",
    "        ports=f\"S{p['split']}\"\n",
    "        if np.isscalar(p[\"split\"])\n",
    "        else \"S{} LS{}\".format(p[\"num_manifolds\"], p[\"lanes_per_snake\"]),\n",
    "        reg=f\" M{p['mark_size']}\" if p[\"registration_marks\"] else \"\",\n",
    "        **p,\n",
    "    )\n",
    "    for p in params\n",
    "]\n",
    "chips = [s.chip(name, **p) for p, name in zip(params, chip_names)]\n",
    "wafer_manifest = \"\\n\".join([f\"{idx+1}) \" + name for idx, name in enumerate(chip_names)])\n",
    "main_cell = s.wafer(\n",
    "    chips,\n",
    "    text_right=\"Basilisk \\n JQS/DE/YG 200225.2\",\n",
    "    text_left=wafer_manifest,\n",
    "    text=True,\n",
    "    mask=False,\n",
    "    chip_dims=chip_dims,\n",
    "    diameter=(4 * u.inch).to(u.um).magnitude,\n",
    ")\n",
    "write_gds(main_cell, \"200225.2basilisk.gds\")"
   ]
  },
  {
   "cell_type": "code",
   "execution_count": null,
   "metadata": {},
   "outputs": [],
   "source": [
    "# all: H75 L35 W1.4 TS2.1\n",
    "# S8 FC80 x2\n",
    "# S8 FC40 TS1\n",
    "# S1 FC40 LS3 x2\n",
    "# S1 FC40 LS5"
   ]
  },
  {
   "cell_type": "code",
   "execution_count": null,
   "metadata": {},
   "outputs": [],
   "source": [
    "# print text summary for wafer spreadsheet"
   ]
  },
  {
   "cell_type": "code",
   "execution_count": null,
   "metadata": {},
   "outputs": [],
   "source": [
    "metadata"
   ]
  },
  {
   "cell_type": "code",
   "execution_count": null,
   "metadata": {},
   "outputs": [],
   "source": [
    "def get_resistance(feeding_channel_height, metadata):\n",
    "    if \"manifold_split\" in metadata:\n",
    "        res = manifold_flow_rates(feeding_channel_height, **metadata)\n",
    "        R = np.array([r[\"R\"] for r in res]) * np.asarray(metadata[\"manifold_split\"])\n",
    "    else:\n",
    "        feeding_channel_height = 100  # * u.um\n",
    "        split = metadata[\"split\"]\n",
    "        lane_length = metadata[\"lane_length\"]\n",
    "        feeding_channel_width = metadata[\"feeding_channel_width\"]\n",
    "        R = (\n",
    "            np.asarray(split)\n",
    "            * lane_length\n",
    "            * resistance(feeding_channel_height, feeding_channel_width)\n",
    "        )\n",
    "    return R"
   ]
  },
  {
   "cell_type": "code",
   "execution_count": null,
   "metadata": {},
   "outputs": [],
   "source": [
    "get_resistance(\n",
    "    80, {\"lane_length\": 17920, \"split\": np.array([19]), \"feeding_channel_width\": 90}\n",
    ")"
   ]
  },
  {
   "cell_type": "code",
   "execution_count": null,
   "metadata": {},
   "outputs": [],
   "source": [
    "get_resistance(\n",
    "    80, {\"lane_length\": 17920, \"split\": np.array([25]), \"feeding_channel_width\": 45}\n",
    ")"
   ]
  },
  {
   "cell_type": "code",
   "execution_count": null,
   "metadata": {},
   "outputs": [],
   "source": [
    "for name, md in metadata.items():\n",
    "    R = get_resistance(75, md)\n",
    "    print(f\"{name}: {R}\")"
   ]
  },
  {
   "cell_type": "code",
   "execution_count": null,
   "metadata": {},
   "outputs": [],
   "source": [
    "print_fovs(fov_dims, metadata[\"Basilisk S1 LS5 FC40 L35 W1.4 TS2.1\"])"
   ]
  },
  {
   "cell_type": "code",
   "execution_count": null,
   "metadata": {},
   "outputs": [],
   "source": [
    "print_fovs(fov_dims, metadata[\"Basilisk S8 FC80 L35 W1.4 TS2.1\"])"
   ]
  },
  {
   "cell_type": "code",
   "execution_count": null,
   "metadata": {},
   "outputs": [],
   "source": []
  }
 ],
 "metadata": {
  "kernelspec": {
   "display_name": "Python 3",
   "language": "python",
   "name": "python3"
  },
  "language_info": {
   "codemirror_mode": {
    "name": "ipython",
    "version": 3
   },
   "file_extension": ".py",
   "mimetype": "text/x-python",
   "name": "python",
   "nbconvert_exporter": "python",
   "pygments_lexer": "ipython3",
   "version": "3.8.1"
  }
 },
 "nbformat": 4,
 "nbformat_minor": 4
}
