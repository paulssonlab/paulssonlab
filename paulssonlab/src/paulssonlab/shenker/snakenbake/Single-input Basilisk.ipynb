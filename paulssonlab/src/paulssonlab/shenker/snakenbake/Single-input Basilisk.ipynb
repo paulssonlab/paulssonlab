{
 "cells": [
  {
   "cell_type": "code",
   "execution_count": null,
   "metadata": {},
   "outputs": [],
   "source": [
    "import numpy as np\n",
    "import gdspy\n",
    "import matplotlib.pyplot as plt\n",
    "from cytoolz import dissoc\n",
    "\n",
    "%matplotlib inline\n",
    "from functools import partial"
   ]
  },
  {
   "cell_type": "code",
   "execution_count": null,
   "metadata": {},
   "outputs": [],
   "source": [
    "%load_ext autoreload\n",
    "%autoreload 2\n",
    "import snakenbake as s\n",
    "import fov\n",
    "import fluid\n",
    "from geometry import Cell, Round"
   ]
  },
  {
   "cell_type": "code",
   "execution_count": null,
   "metadata": {},
   "outputs": [],
   "source": [
    "import pint\n",
    "\n",
    "u = pint._DEFAULT_REGISTRY"
   ]
  },
  {
   "cell_type": "code",
   "execution_count": null,
   "metadata": {},
   "outputs": [],
   "source": [
    "def print_fovs(fov_dims, metadata):\n",
    "    for fov_name, fov_dim in fov_dims.items():\n",
    "        fovs, unit_cell_height, active_height = fov.fovs_per_chip(fov_dim, **metadata)\n",
    "        print(f\"{fov_name}: {fov_dim[0]} x {fov_dim[1]}\")\n",
    "        # print(metadata)\n",
    "        print(\"    FOVs: {} ({} x {})\".format(np.product(fovs), fovs[0], fovs[1]))\n",
    "        print(\"    unit cell height:\", unit_cell_height)\n",
    "        print(\n",
    "            \"    active height: {} (margin: {})\".format(\n",
    "                active_height, fov_dim[1] - active_height\n",
    "            )\n",
    "        )"
   ]
  },
  {
   "cell_type": "code",
   "execution_count": null,
   "metadata": {},
   "outputs": [],
   "source": [
    "camera_dims = {\n",
    "    \"iris\": (4.25, np.array([5056, 2960])),\n",
    "    \"bsi\": (6.5, np.array([2048, 2048])),\n",
    "}\n",
    "fov_dims = {}\n",
    "for camera, (pixel_size, fov_dim) in camera_dims.items():\n",
    "    for mag in (20, 40, 60, 100):\n",
    "        fov_dims[f\"{camera} {mag}x\"] = fov_dim * pixel_size / mag"
   ]
  },
  {
   "cell_type": "code",
   "execution_count": null,
   "metadata": {},
   "outputs": [],
   "source": [
    "def print_flow_info(height, Q_per_snake, mu, nu, metadata):\n",
    "    for name, md in metadata.items():\n",
    "        R_, extra = fluid.snake_resistance(\n",
    "            height, md, length_unit=u.um, return_extra=True\n",
    "        )\n",
    "        R = R_ * mu\n",
    "        # print('R', R.to(u.mbar * u.min / u.uL))\n",
    "        delta_P = R * Q_per_snake\n",
    "        print(f\"{name}: {delta_P.to(u.bar)}\")\n",
    "        if \"flow_nonuniformity\" in extra:\n",
    "            print(f\"    flow nonuniformity: {extra['flow_nonuniformity']}\")\n",
    "        if \"manifold_width\" in md:\n",
    "            L_e = fluid.entrance_length(\n",
    "                height,\n",
    "                md[\"manifold_width\"] * u.um,\n",
    "                Q_per_snake * md[\"manifold_split\"],\n",
    "                nu,\n",
    "            )\n",
    "            print(f\"    entrance length: {L_e}\")"
   ]
  },
  {
   "cell_type": "markdown",
   "metadata": {},
   "source": [
    "# Designs"
   ]
  },
  {
   "cell_type": "code",
   "execution_count": null,
   "metadata": {},
   "outputs": [],
   "source": [
    "coverslip_dims = np.array([55e3, 24e3])\n",
    "chip_dims = np.array([34e3, 18e3])\n",
    "chip_dims0 = np.array([23e3, 13e3])\n",
    "chip_dims1 = np.array([40e3, 22e3])"
   ]
  },
  {
   "cell_type": "code",
   "execution_count": null,
   "metadata": {},
   "outputs": [],
   "source": [
    "plt.figure(figsize=(10, 5))\n",
    "ax = plt.gca()\n",
    "ax.add_patch(plt.Rectangle(-coverslip_dims / 2, *coverslip_dims, fill=False))\n",
    "ax.add_patch(plt.Rectangle(-chip_dims0 / 2, *chip_dims0, fill=False, ls=\"-.\"))\n",
    "ax.add_patch(plt.Rectangle(-chip_dims1 / 2, *chip_dims1, fill=False, ls=\"--\"))\n",
    "ax.add_patch(plt.Rectangle(-chip_dims / 2, *chip_dims, fill=False))\n",
    "ax.set_xlim(-1.2 * coverslip_dims[0] / 2, 1.2 * coverslip_dims[0] / 2)\n",
    "ax.set_ylim(-1.2 * coverslip_dims[1] / 2, 1.2 * coverslip_dims[1] / 2)\n",
    "ax.set_aspect(\"equal\")"
   ]
  },
  {
   "cell_type": "code",
   "execution_count": null,
   "metadata": {},
   "outputs": [],
   "source": [
    "%%time\n",
    "metadata = {}\n",
    "base_params = dict(\n",
    "    design_func=s.snake,\n",
    "    dims=chip_dims,\n",
    "    split=8,\n",
    "    gap_lanes=0,\n",
    "    trench_length=35,\n",
    "    # feeding_channel_width=40,\n",
    "    horizontal_margin=2e3,\n",
    "    trench_gap=20,\n",
    "    trench_width=1.4,\n",
    "    # trench_spacing=2.1,\n",
    "    port_margin=0.6e3,\n",
    "    top_margin=1.2e3,\n",
    "    bottom_margin=0.6e3,\n",
    "    draw_trenches=True,\n",
    "    metadata=metadata,\n",
    ")\n",
    "manifold_params = dissoc(\n",
    "    {\n",
    "        **base_params,\n",
    "        **dict(\n",
    "            design_func=s.manifold_snake,\n",
    "            dims=chip_dims,\n",
    "            split=None,\n",
    "            num_manifolds=1,\n",
    "            manifold_width=200,\n",
    "            manifold_input_margin=2e3,\n",
    "            manifold_bend_margin=0.2e3,\n",
    "            manifold_bend_radius=300,\n",
    "            manifold_margin=100,\n",
    "            feeding_channel_width=40,\n",
    "            port_margin=0.5e3,\n",
    "            top_margin=0.9e3,\n",
    "            bottom_margin=0.9e3,\n",
    "            # trench_spacing=2.1,\n",
    "        ),\n",
    "    },\n",
    "    \"horizontal_margin\",\n",
    "    \"gap_lanes\",\n",
    ")\n",
    "params = [\n",
    "    dict(\n",
    "        feeding_channel_width=80,\n",
    "        trench_spacing=1.1,\n",
    "        registration_marks=True,\n",
    "        chip_id=0,\n",
    "        mark_size=2,\n",
    "        mark_spacing=1.5,\n",
    "        tick_period=50,\n",
    "        **base_params,\n",
    "    ),\n",
    "    dict(\n",
    "        feeding_channel_width=80,\n",
    "        trench_spacing=2.1,\n",
    "        registration_marks=True,\n",
    "        chip_id=0,\n",
    "        mark_size=1,\n",
    "        mark_spacing=1,\n",
    "        tick_period=50,\n",
    "        **base_params,\n",
    "    ),\n",
    "    dict(\n",
    "        feeding_channel_width=80,\n",
    "        trench_spacing=3.1,\n",
    "        registration_marks=False,\n",
    "        **base_params,\n",
    "    ),\n",
    "    dict(\n",
    "        lanes_per_snake=3,\n",
    "        trench_spacing=2.1,\n",
    "        registration_marks=True,\n",
    "        chip_id=1,\n",
    "        mark_size=1,\n",
    "        mark_spacing=1,\n",
    "        **manifold_params,\n",
    "    ),\n",
    "    dict(\n",
    "        lanes_per_snake=3,\n",
    "        trench_spacing=2.1,\n",
    "        manifold_input_style=\"u-turn\",\n",
    "        registration_marks=False,\n",
    "        **manifold_params,\n",
    "    ),\n",
    "    dict(\n",
    "        lanes_per_snake=5,\n",
    "        trench_spacing=2.1,\n",
    "        registration_marks=True,\n",
    "        chip_id=1,\n",
    "        mark_size=1,\n",
    "        mark_spacing=1,\n",
    "        **manifold_params,\n",
    "    ),\n",
    "]\n",
    "chip_names = [\n",
    "    \"Basilisk {ports} FC{feeding_channel_width} L{trench_length} W{trench_width} TS{trench_spacing}{reg}\".format(\n",
    "        ports=f\"S{p['split']}\"\n",
    "        if np.isscalar(p[\"split\"])\n",
    "        else \"S{} LS{}\".format(p[\"num_manifolds\"], p[\"lanes_per_snake\"]),\n",
    "        reg=f\" M{p['mark_size']}\" if p[\"registration_marks\"] else \"\",\n",
    "        **p,\n",
    "    )\n",
    "    for p in params\n",
    "]\n",
    "chips = [s.chip(name, **p) for p, name in zip(params, chip_names)]\n",
    "wafer_manifest = \"\\n\".join([f\"{idx+1}) \" + name for idx, name in enumerate(chip_names)])\n",
    "main_cell = s.wafer(\n",
    "    chips,\n",
    "    text_right=\"Basilisk \\n JQS/DE/YG 200226\",\n",
    "    text_left=wafer_manifest,\n",
    "    text=True,\n",
    "    mask=False,\n",
    "    chip_dims=chip_dims,\n",
    "    diameter=(4 * u.inch).to(u.um).magnitude,\n",
    ")\n",
    "s.write_gds(main_cell, \"200226basilisk.gds\")"
   ]
  },
  {
   "cell_type": "code",
   "execution_count": null,
   "metadata": {},
   "outputs": [],
   "source": [
    "print(wafer_manifest)"
   ]
  },
  {
   "cell_type": "code",
   "execution_count": null,
   "metadata": {},
   "outputs": [],
   "source": [
    "{k: v[\"num_trenches\"] for k, v in metadata.items()}"
   ]
  },
  {
   "cell_type": "code",
   "execution_count": null,
   "metadata": {},
   "outputs": [],
   "source": [
    "Q_per_snake = 20 * u.uL / u.min\n",
    "height = 75 * u.um\n",
    "mu = 0.7 * u.cP  # dynamic viscosity\n",
    "nu = mu / (1 * u.g / u.cm**3)  # kinematic viscosity\n",
    "print_flow_info(height, Q_per_snake, mu, nu, metadata)"
   ]
  },
  {
   "cell_type": "code",
   "execution_count": null,
   "metadata": {},
   "outputs": [],
   "source": [
    "(\n",
    "    Q_per_snake\n",
    "    * mu\n",
    "    * fluid.snake_resistance(\n",
    "        80 * u.um,\n",
    "        {\"snake_length\": [17920 * 19], \"feeding_channel_width\": 90},\n",
    "        length_unit=u.um,\n",
    "    )\n",
    ").to(u.bar)"
   ]
  },
  {
   "cell_type": "code",
   "execution_count": null,
   "metadata": {},
   "outputs": [],
   "source": [
    "(\n",
    "    Q_per_snake\n",
    "    * mu\n",
    "    * fluid.snake_resistance(\n",
    "        80 * u.um,\n",
    "        {\"snake_length\": [17920 * 25], \"feeding_channel_width\": 45},\n",
    "        length_unit=u.um,\n",
    "    )\n",
    ").to(u.bar)"
   ]
  },
  {
   "cell_type": "code",
   "execution_count": null,
   "metadata": {},
   "outputs": [],
   "source": [
    "print_fovs(fov_dims, metadata[\"Basilisk S8 FC80 L35 W1.4 TS2.1 M1\"])"
   ]
  },
  {
   "cell_type": "code",
   "execution_count": null,
   "metadata": {},
   "outputs": [],
   "source": [
    "print_fovs(fov_dims, metadata[\"Basilisk S1 LS3 FC40 L35 W1.4 TS2.1 M1\"])"
   ]
  },
  {
   "cell_type": "code",
   "execution_count": null,
   "metadata": {},
   "outputs": [],
   "source": []
  }
 ],
 "metadata": {
  "kernelspec": {
   "display_name": "Python 3",
   "language": "python",
   "name": "python3"
  },
  "language_info": {
   "codemirror_mode": {
    "name": "ipython",
    "version": 3
   },
   "file_extension": ".py",
   "mimetype": "text/x-python",
   "name": "python",
   "nbconvert_exporter": "python",
   "pygments_lexer": "ipython3",
   "version": "3.8.1"
  }
 },
 "nbformat": 4,
 "nbformat_minor": 4
}
