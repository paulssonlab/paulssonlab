{
 "cells": [
  {
   "cell_type": "code",
   "execution_count": null,
   "metadata": {},
   "outputs": [],
   "source": [
    "import numpy as np\n",
    "import pandas as pd\n",
    "import gdspy\n",
    "import matplotlib.pyplot as plt\n",
    "from cytoolz import dissoc\n",
    "\n",
    "%matplotlib inline\n",
    "from functools import partial"
   ]
  },
  {
   "cell_type": "code",
   "execution_count": null,
   "metadata": {},
   "outputs": [],
   "source": [
    "%load_ext autoreload\n",
    "%autoreload 2\n",
    "import snakenbake as s\n",
    "import fov\n",
    "import fluid\n",
    "from geometry import Cell, Round"
   ]
  },
  {
   "cell_type": "code",
   "execution_count": null,
   "metadata": {},
   "outputs": [],
   "source": [
    "import pint\n",
    "\n",
    "u = pint._DEFAULT_REGISTRY"
   ]
  },
  {
   "cell_type": "code",
   "execution_count": null,
   "metadata": {},
   "outputs": [],
   "source": [
    "camera_dims = {\n",
    "    \"iris\": (4.25, np.array([5056, 2960])),\n",
    "    \"bsi\": (6.5, np.array([2048, 2048])),\n",
    "}\n",
    "# mags = (20, 40, 60, 100)\n",
    "mags = (20, 40)\n",
    "# mags = (40,)\n",
    "fov_dims = {}\n",
    "for camera, (pixel_size, fov_dim) in camera_dims.items():\n",
    "    for mag in mags:\n",
    "        fov_dims[f\"{camera} {mag}x\"] = fov_dim * pixel_size / mag"
   ]
  },
  {
   "cell_type": "code",
   "execution_count": null,
   "metadata": {},
   "outputs": [],
   "source": [
    "def print_flow_info(height, Q_per_snake, mu, nu, metadata):\n",
    "    for name, md in metadata.items():\n",
    "        R_, extra = fluid.snake_resistance(\n",
    "            height, md, length_unit=u.um, return_extra=True\n",
    "        )\n",
    "        R = R_ * mu\n",
    "        # print('R', R.to(u.mbar * u.min / u.uL))\n",
    "        delta_P = R * Q_per_snake\n",
    "        print(f\"{name}: {delta_P.to(u.bar)}\")\n",
    "        if \"manifold_split\" in md:\n",
    "            flow_rate = Q_per_snake * md[\"manifold_split\"]\n",
    "        else:\n",
    "            flow_rate = Q_per_snake\n",
    "        print(f\"    flow rate: {flow_rate}\")\n",
    "        if \"flow_nonuniformity\" in extra:\n",
    "            print(f\"    flow nonuniformity: {extra['flow_nonuniformity']}\")\n",
    "        if \"manifold_width\" in md:\n",
    "            L_e = fluid.entrance_length(\n",
    "                height,\n",
    "                md[\"manifold_width\"] * u.um,\n",
    "                Q_per_snake * md[\"manifold_split\"],\n",
    "                nu,\n",
    "            )\n",
    "            print(f\"    entrance length: {L_e}\")"
   ]
  },
  {
   "cell_type": "markdown",
   "metadata": {},
   "source": [
    "# Designs"
   ]
  },
  {
   "cell_type": "code",
   "execution_count": null,
   "metadata": {},
   "outputs": [],
   "source": [
    "coverslip_dims = np.array([55e3, 24e3])\n",
    "chip_dims = np.array([33e3, 18e3])\n",
    "chip_dims0 = np.array([23e3, 13e3])\n",
    "chip_dims1 = np.array([40e3, 22e3])"
   ]
  },
  {
   "cell_type": "code",
   "execution_count": null,
   "metadata": {},
   "outputs": [],
   "source": [
    "plt.figure(figsize=(10, 5))\n",
    "ax = plt.gca()\n",
    "ax.add_patch(plt.Rectangle(-coverslip_dims / 2, *coverslip_dims, fill=False))\n",
    "ax.add_patch(plt.Rectangle(-chip_dims0 / 2, *chip_dims0, fill=False, ls=\"-.\"))\n",
    "# ax.add_patch(plt.Rectangle(-chip_dims1 / 2, *chip_dims1, fill=False, ls=\"--\"))\n",
    "ax.add_patch(plt.Rectangle(-chip_dims / 2, *chip_dims, fill=False))\n",
    "ax.set_xlim(-1.2 * coverslip_dims[0] / 2, 1.2 * coverslip_dims[0] / 2)\n",
    "ax.set_ylim(-1.2 * coverslip_dims[1] / 2, 1.2 * coverslip_dims[1] / 2)\n",
    "ax.set_aspect(\"equal\")"
   ]
  },
  {
   "cell_type": "code",
   "execution_count": null,
   "metadata": {},
   "outputs": [],
   "source": [
    "%%time\n",
    "metadata = {}\n",
    "base_params = dict(\n",
    "    design_func=s.snake,\n",
    "    dims=chip_dims,\n",
    "    split=8,\n",
    "    gap_lanes=0,\n",
    "    trench_length=35,\n",
    "    feeding_channel_width=80,\n",
    "    #     horizontal_margin=2e3,\n",
    "    trench_gap=20,\n",
    "    trench_width=1.4,\n",
    "    # trench_spacing=2.1,\n",
    "    border_margin=0.5e3,\n",
    "    port_margin=1e3,  # 0.6\n",
    "    port_radius=750 / 2,\n",
    "    # port_radius=0,\n",
    "    port=False,\n",
    "    registration_marks=True,\n",
    "    registration_mark_barcodes=False,\n",
    "    #     chip_id=0,\n",
    "    #     mark_size=2,\n",
    "    #     mark_spacing=1.5,\n",
    "    draw_trenches=True,\n",
    "    metadata=metadata,\n",
    ")\n",
    "manifold_params = dissoc(\n",
    "    {\n",
    "        **base_params,\n",
    "        **dict(\n",
    "            design_func=s.manifold_snake,\n",
    "            manifold_input_style=\"bend-in\",\n",
    "            dims=chip_dims,\n",
    "            split=None,\n",
    "            num_manifolds=1,\n",
    "            manifold_width=200,\n",
    "            manifold_input_margin=2e3,\n",
    "            manifold_bend_margin=0.2e3,\n",
    "            manifold_bend_radius=300,\n",
    "            manifold_margin=100,\n",
    "            # feeding_channel_width=40,\n",
    "            # port_wayfinder_orientations=(\"right\", \"top\")#(\"right\", \"top\", \"bottom\"),\n",
    "            #             port_margin=0.5e3,\n",
    "            # trench_spacing=2.1,\n",
    "        ),\n",
    "    },\n",
    "    \"horizontal_margin\",\n",
    "    \"gap_lanes\",\n",
    ")\n",
    "\n",
    "# dense_chip = dict(\n",
    "#     manifold_input_style=\"u-turn\",\n",
    "#     feeding_channel_width=30,\n",
    "#     trench_length=30,\n",
    "#     trench_gap=20,\n",
    "#     lanes_per_snake=3,\n",
    "#     trench_spacing=2.1,\n",
    "# )\n",
    "dense_chip = dict(\n",
    "    feeding_channel_width=40,\n",
    "    trench_gap=20,\n",
    "    lanes_per_snake=3,\n",
    "    trench_spacing=2.1,\n",
    ")\n",
    "# dense_chip2 = dict(\n",
    "#     feeding_channel_width=35,\n",
    "#     trench_gap=20,\n",
    "#     lanes_per_snake=3,\n",
    "#     trench_spacing=2.1,\n",
    "# )\n",
    "workhorse = dict(\n",
    "    feeding_channel_width=90,\n",
    "    trench_gap=30,\n",
    "    lanes_per_snake=5,\n",
    "    trench_spacing=2.1,\n",
    ")\n",
    "workhorse_poormedia = dict(\n",
    "    feeding_channel_width=90,\n",
    "    trench_width=1.2,\n",
    "    trench_gap=30,\n",
    "    lanes_per_snake=5,\n",
    "    trench_spacing=2.1,\n",
    ")\n",
    "\n",
    "params = [dense_chip, workhorse, workhorse, workhorse, workhorse_poormedia, dense_chip]\n",
    "params = [{**manifold_params, **p} for p in params]\n",
    "# chip names\n",
    "chip_names = [\n",
    "    \"Basilisk {ports} FC{feeding_channel_width} L{trench_length} W{trench_width} TS{trench_spacing}{reg} TG{trench_gap}\".format(\n",
    "        ports=f\"S{p['split']}\"\n",
    "        if np.isscalar(p[\"split\"])\n",
    "        else \"S{} LS{}\".format(p[\"num_manifolds\"], p[\"lanes_per_snake\"]),\n",
    "        reg=f\" M{p.get('mark_size')} ID{p.get('chip_id')}\"\n",
    "        if p.get(\"registration_mark_barcodes\")\n",
    "        else \"\",\n",
    "        **p,\n",
    "    )\n",
    "    for p in params\n",
    "]\n",
    "# make chip cells\n",
    "chips = [s.chip(name, **p) for p, name in zip(params, chip_names)]\n",
    "# calculate FOV info and overlay FOVs on chip cells\n",
    "grid_metadata = {}\n",
    "draw_grid = False\n",
    "for chip_name, chip in zip(chip_names, chips):\n",
    "    chip_grid_metadata = fov.get_grid_metadata(fov_dims, metadata[chip_name])\n",
    "    grid_metadata[chip_name] = chip_grid_metadata\n",
    "    if draw_grid:\n",
    "        fov.draw_grid_overlay(\n",
    "            chip,\n",
    "            metadata[chip_name],\n",
    "            fov_dims,\n",
    "            chip_grid_metadata,\n",
    "            center_margins=True,\n",
    "            rotate=True,\n",
    "        )\n",
    "grid_df = pd.concat(\n",
    "    {\n",
    "        k: pd.DataFrame(v.values()).set_index(\"fov_name\")\n",
    "        for k, v in grid_metadata.items()\n",
    "    },\n",
    "    names=[\"chip\"],\n",
    ")\n",
    "# lay out wafer, output design\n",
    "wafer_manifest = \"\\n\".join([f\"{idx+1}) \" + name for idx, name in enumerate(chip_names)])\n",
    "main_cell = s.wafer(\n",
    "    chips,\n",
    "    text_right=\"Basilisk\\n JQS/DE/YG 210307\",\n",
    "    text_left=wafer_manifest,\n",
    "    text=True,\n",
    "    mask=False,\n",
    "    chip_dims=chip_dims,\n",
    "    diameter=(4 * u.inch).to(u.um).magnitude,\n",
    "    alignment_mark_position=40e3,\n",
    ")\n",
    "s.write_gds(main_cell, \"designs/210307basilisk.gds\")"
   ]
  },
  {
   "cell_type": "code",
   "execution_count": null,
   "metadata": {},
   "outputs": [],
   "source": [
    "print(wafer_manifest)"
   ]
  },
  {
   "cell_type": "code",
   "execution_count": null,
   "metadata": {},
   "outputs": [],
   "source": [
    "{k: v[\"num_trenches\"] for k, v in metadata.items()}"
   ]
  },
  {
   "cell_type": "code",
   "execution_count": null,
   "metadata": {},
   "outputs": [],
   "source": [
    "{k: v[\"num_lanes\"] for k, v in metadata.items()}"
   ]
  },
  {
   "cell_type": "code",
   "execution_count": null,
   "metadata": {},
   "outputs": [],
   "source": [
    "Q_per_snake = 20 * u.uL / u.min\n",
    "height = 75 * u.um\n",
    "mu = 0.7 * u.cP  # dynamic viscosity\n",
    "nu = mu / (1 * u.g / u.cm**3)  # kinematic viscosity\n",
    "print_flow_info(height, Q_per_snake, mu, nu, metadata)"
   ]
  },
  {
   "cell_type": "code",
   "execution_count": null,
   "metadata": {},
   "outputs": [],
   "source": [
    "grid_df.loc[pd.IndexSlice[:, [\"iris 40x\", \"bsi 40x\"]], :].round(2)"
   ]
  },
  {
   "cell_type": "code",
   "execution_count": null,
   "metadata": {},
   "outputs": [],
   "source": [
    "grid_df.loc[pd.IndexSlice[:, [\"iris 20x\", \"bsi 20x\"]], :].round(2)"
   ]
  },
  {
   "cell_type": "markdown",
   "metadata": {},
   "source": [
    "# Old chip calculations"
   ]
  },
  {
   "cell_type": "code",
   "execution_count": null,
   "metadata": {},
   "outputs": [],
   "source": [
    "(\n",
    "    Q_per_snake\n",
    "    * mu\n",
    "    * fluid.snake_resistance(\n",
    "        80 * u.um,\n",
    "        {\"snake_length\": [17920 * 19], \"feeding_channel_width\": 90},\n",
    "        length_unit=u.um,\n",
    "    )\n",
    ").to(u.bar)"
   ]
  },
  {
   "cell_type": "code",
   "execution_count": null,
   "metadata": {},
   "outputs": [],
   "source": [
    "(\n",
    "    Q_per_snake\n",
    "    * mu\n",
    "    * fluid.snake_resistance(\n",
    "        80 * u.um,\n",
    "        {\"snake_length\": [17920 * 25], \"feeding_channel_width\": 45},\n",
    "        length_unit=u.um,\n",
    "    )\n",
    ").to(u.bar)"
   ]
  },
  {
   "cell_type": "markdown",
   "metadata": {},
   "source": [
    "# FOV calculation redux"
   ]
  },
  {
   "cell_type": "code",
   "execution_count": null,
   "metadata": {},
   "outputs": [],
   "source": [
    "md = metadata[\"Basilisk S1 LS5 FC90 L35 W1.4 TS5.1 TG30\"]"
   ]
  },
  {
   "cell_type": "code",
   "execution_count": null,
   "metadata": {},
   "outputs": [],
   "source": [
    "a = fov.get_fov_coverage(fov_dims[\"bsi 40x\"], **md, skip_first=False)\n",
    "b = fov.get_fov_coverage(fov_dims[\"bsi 40x\"], **md, skip_first=True)\n",
    "(a, b)"
   ]
  },
  {
   "cell_type": "code",
   "execution_count": null,
   "metadata": {},
   "outputs": [],
   "source": [
    "fovh = fov_dims[\"bsi 40x\"][0]"
   ]
  },
  {
   "cell_type": "code",
   "execution_count": null,
   "metadata": {},
   "outputs": [],
   "source": [
    "for k, v in md.items():\n",
    "    locals()[k] = v"
   ]
  },
  {
   "cell_type": "code",
   "execution_count": null,
   "metadata": {},
   "outputs": [],
   "source": [
    "delta_y1 = trench_gap + trench_length\n",
    "delta_y2 = feeding_channel_width + trench_length\n",
    "delta_y = delta_y1 + delta_y2"
   ]
  },
  {
   "cell_type": "code",
   "execution_count": null,
   "metadata": {},
   "outputs": [],
   "source": [
    "(delta_y1, delta_y2, delta_y)"
   ]
  },
  {
   "cell_type": "code",
   "execution_count": null,
   "metadata": {},
   "outputs": [],
   "source": [
    "np.array((delta_y1, delta_y2, delta_y)) * 2"
   ]
  },
  {
   "cell_type": "code",
   "execution_count": null,
   "metadata": {},
   "outputs": [],
   "source": [
    "divmod(fovh - trench_length, delta_y)"
   ]
  },
  {
   "cell_type": "code",
   "execution_count": null,
   "metadata": {},
   "outputs": [],
   "source": [
    "unit_cell = trench_gap / 2 + trench_length + feeding_channel_width / 2"
   ]
  },
  {
   "cell_type": "code",
   "execution_count": null,
   "metadata": {},
   "outputs": [],
   "source": [
    "unit_cell"
   ]
  },
  {
   "cell_type": "code",
   "execution_count": null,
   "metadata": {},
   "outputs": [],
   "source": [
    "num_unit_cells, remainder = divmod(fovh, unit_cell)\n",
    "(num_unit_cells, remainder, num_unit_cells * unit_cell)"
   ]
  },
  {
   "cell_type": "code",
   "execution_count": null,
   "metadata": {},
   "outputs": [],
   "source": [
    "partial_delta_y1 = trench_length + trench_gap / 2\n",
    "partial_delta_y2 = trench_length + feeding_channel_width / 2"
   ]
  },
  {
   "cell_type": "code",
   "execution_count": null,
   "metadata": {},
   "outputs": [],
   "source": [
    "(partial_delta_y1, partial_delta_y2)"
   ]
  },
  {
   "cell_type": "code",
   "execution_count": null,
   "metadata": {},
   "outputs": [],
   "source": [
    "if num_unit_cells % 2 == 0:\n",
    "    print(divmod(remainder, partial_delta_y1), divmod(remainder, partial_delta_y2))"
   ]
  },
  {
   "cell_type": "code",
   "execution_count": null,
   "metadata": {},
   "outputs": [],
   "source": [
    "print(divmod(remainder, partial_delta_y1), divmod(remainder, partial_delta_y2))"
   ]
  },
  {
   "cell_type": "code",
   "execution_count": null,
   "metadata": {},
   "outputs": [],
   "source": []
  }
 ],
 "metadata": {
  "kernelspec": {
   "display_name": "Python 3",
   "language": "python",
   "name": "python3"
  },
  "language_info": {
   "codemirror_mode": {
    "name": "ipython",
    "version": 3
   },
   "file_extension": ".py",
   "mimetype": "text/x-python",
   "name": "python",
   "nbconvert_exporter": "python",
   "pygments_lexer": "ipython3",
   "version": "3.8.6"
  }
 },
 "nbformat": 4,
 "nbformat_minor": 4
}
